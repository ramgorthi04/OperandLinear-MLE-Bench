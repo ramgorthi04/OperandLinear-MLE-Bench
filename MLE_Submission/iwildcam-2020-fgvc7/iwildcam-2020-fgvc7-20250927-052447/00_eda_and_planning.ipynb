{
  "cells": [
    {
      "id": "649c6594-63b6-4133-9251-48baab668a33",
      "cell_type": "markdown",
      "metadata": {},
      "source": [
        "# Plan: iWildCam 2020 - FGVC7\n",
        "\n",
        "Objectives:\n",
        "- Establish GPU environment check and install PyTorch cu121 if needed\n",
        "- Load/train split from provided JSONs and verify sample_submission format\n",
        "- Build a fast, correct baseline (transfer learning, torchvision model) with deterministic CV\n",
        "- Iterate with augmentations, class-balancing, and inference-time tricks\n",
        "- Save submission.csv and aim for medal CV and LB\n",
        "\n",
        "Data understanding:\n",
        "- train/: 157,199 images\n",
        "- test/: 60,760 images\n",
        "- iwildcam2020_train_annotations.json: labels/metadata\n",
        "- iwildcam2020_test_information.json: test metadata\n",
        "- iwildcam2020_megadetector_results.json: detections (optional ROI crop feature)\n",
        "- sample_submission.csv: required format\n",
        "\n",
        "Validation strategy:\n",
        "- Stratified Group KFold by location/camera if available (mirror domain shift); otherwise by site/camera in annotations\n",
        "- Single seeded split to start; later multi-seed if time\n",
        "\n",
        "Baseline model:\n",
        "- Torchvision pretrained CNN (e.g., EfficientNet-B3/B4 or ResNet50) finetune\n",
        "- Mixed precision, cosine LR, label smoothing, balanced sampler or weighted loss\n",
        "- Resize ~384px; augmentations (flip, color jitter, random resized crop)\n",
        "- Early stop via fixed epochs (e.g., 6-10) due to time; monitor CV accuracy\n",
        "\n",
        "Speed tactics:\n",
        "- Verify GPU with nvidia-smi\n",
        "- Cache dataloaders with fast jpeg decoder (torchvision.io or pillow-simd if available)\n",
        "- Subsample smoke test (1k images, 1 epoch) before full run\n",
        "- Log fold index, elapsed time, and periodic progress\n",
        "\n",
        "Roadmap (with expert checkpoints):\n",
        "1) Env check + dataset inspection (request expert review after plan) \n",
        "2) Implement data pipeline + CV split\n",
        "3) Smoke train baseline\n",
        "4) Full train baseline \u2192 generate submission\n",
        "5) Analyze OOF errors; add improvements: class weights, stronger aug, TTA, center-crop on MegaDetector boxes\n",
        "6) Blend seeds/models if time\n",
        "\n",
        "Risks & mitigations:\n",
        "- Class imbalance: use weighted CE or focal loss; balanced sampler\n",
        "- Domain shift: location-aware CV; robust aug\n",
        "- Time: keep runs short, monitor, and avoid long hyperparam sweeps\n",
        "\n",
        "Next:\n",
        "- Run GPU check and quick data profile\n",
        "- Then request expert review of the plan and initial approach"
      ],
      "execution_count": null,
      "outputs": []
    },
    {
      "id": "6033ed7a-285c-487d-b780-fb80793ee725",
      "cell_type": "code",
      "metadata": {},
      "source": [
        "# Environment/GPU check, deps, and quick data profile\n",
        "import os, sys, json, time, shutil, subprocess, gc\n",
        "from pathlib import Path\n",
        "import pandas as pd\n",
        "\n",
        "def run(cmd):\n",
        "    print('>>>', ' '.join(cmd), flush=True)\n",
        "    return subprocess.run(cmd, check=False, text=True, capture_output=True)\n",
        "\n",
        "t0 = time.time()\n",
        "print('Checking GPU with nvidia-smi...', flush=True)\n",
        "res = run(['bash','-lc','nvidia-smi || true'])\n",
        "print(res.stdout)\n",
        "\n",
        "# Install exact cu121 torch stack if needed\n",
        "def ensure_torch_cu121():\n",
        "    try:\n",
        "        import torch\n",
        "        ok = (getattr(torch.version,'cuda','') or '').startswith('12.1') and torch.cuda.is_available()\n",
        "        print('Existing torch:', torch.__version__, 'CUDA build:', getattr(torch.version,'cuda',None), 'CUDA available:', torch.cuda.is_available())\n",
        "        if ok:\n",
        "            return\n",
        "        else:\n",
        "            print('Reinstalling correct torch stack (cu121)...')\n",
        "    except Exception as e:\n",
        "        print('Torch import failed, installing cu121 stack...', e)\n",
        "    # Uninstall any existing torch stack\n",
        "    for pkg in ('torch','torchvision','torchaudio'):\n",
        "        subprocess.run([sys.executable,'-m','pip','uninstall','-y',pkg], check=False)\n",
        "    # Clean stray site dirs\n",
        "    for d in (\n",
        "        '/app/.pip-target/torch','/app/.pip-target/torchvision','/app/.pip-target/torchaudio',\n",
        "        '/app/.pip-target/torchgen','/app/.pip-target/functorch',\n",
        "    ):\n",
        "        if os.path.exists(d):\n",
        "            print('Removing', d)\n",
        "            shutil.rmtree(d, ignore_errors=True)\n",
        "    # Install cu121 stack\n",
        "    subprocess.run([sys.executable,'-m','pip','install','--index-url','https://download.pytorch.org/whl/cu121','--extra-index-url','https://pypi.org/simple','torch==2.4.1','torchvision==0.19.1','torchaudio==2.4.1'], check=True)\n",
        "    # constraints file\n",
        "    Path('constraints.txt').write_text('torch==2.4.1\\ntorchvision==0.19.1\\ntorchaudio==2.4.1\\n')\n",
        "    import torch\n",
        "    print('torch:', torch.__version__, 'built CUDA:', getattr(torch.version,'cuda',None))\n",
        "    print('CUDA available:', torch.cuda.is_available())\n",
        "    assert (getattr(torch.version,'cuda','') or '').startswith('12.1'), f'Wrong CUDA build: {torch.version.cuda}'\n",
        "    assert torch.cuda.is_available(), 'CUDA not available'\n",
        "    print('GPU:', torch.cuda.get_device_name(0))\n",
        "\n",
        "ensure_torch_cu121()\n",
        "\n",
        "# Install additional deps (timm, albumentations, opencv) respecting constraints, without upgrading torch\n",
        "print('Installing additional dependencies if missing...', flush=True)\n",
        "def pip_install_pkgs(pkgs):\n",
        "    args = [sys.executable,'-m','pip','install','-c','constraints.txt',*pkgs,'--upgrade-strategy','only-if-needed'] if Path('constraints.txt').exists() else [sys.executable,'-m','pip','install',*pkgs,'--upgrade-strategy','only-if-needed']\n",
        "    run(args)\n",
        "try:\n",
        "    import timm  # noqa\n",
        "except Exception:\n",
        "    pip_install_pkgs(['timm==1.0.9'])\n",
        "try:\n",
        "    import albumentations as A  # noqa\n",
        "except Exception:\n",
        "    pip_install_pkgs(['albumentations==1.4.14'])\n",
        "try:\n",
        "    import cv2  # noqa\n",
        "except Exception:\n",
        "    pip_install_pkgs(['opencv-python-headless'])\n",
        "\n",
        "print('Loading dataset JSONs...', flush=True)\n",
        "train_json = json.loads(Path('iwildcam2020_train_annotations.json').read_text())\n",
        "test_json = json.loads(Path('iwildcam2020_test_information.json').read_text())\n",
        "md_json = json.loads(Path('iwildcam2020_megadetector_results.json').read_text())\n",
        "\n",
        "# Basic structure checks\n",
        "images = {im['id']: im for im in train_json.get('images', [])}\n",
        "ann = train_json.get('annotations', [])\n",
        "categories = train_json.get('categories', [])\n",
        "cat_ids = [c['id'] for c in categories]\n",
        "locs = [im.get('location') for im in images.values()]\n",
        "print(f\"Train images: {len(images)} | Annotations: {len(ann)} | Categories: {len(categories)} | Unique locations: {len(set(locs))}\")\n",
        "\n",
        "# Build label mapping: category_id <-> index\n",
        "cat_id_to_idx = {cid:i for i, cid in enumerate(sorted(cat_ids))}\n",
        "idx_to_cat_id = {i:cid for cid,i in cat_id_to_idx.items()}\n",
        "print('First 5 category_id->idx:', list(cat_id_to_idx.items())[:5])\n",
        "Path('label_mapping.json').write_text(json.dumps({'cat_id_to_idx': cat_id_to_idx, 'idx_to_cat_id': idx_to_cat_id}))\n",
        "\n",
        "# Build dataframe with image-level info\n",
        "rows = []\n",
        "for a in ann:\n",
        "    img = images.get(a['image_id'])\n",
        "    if img is None:\n",
        "        continue\n",
        "    rows.append({\n",
        "        'image_id': a['image_id'],\n",
        "        'file_name': img.get('file_name'),\n",
        "        'location': img.get('location'),\n",
        "        'seq_id': img.get('seq_id', None),\n",
        "        'category_id': a['category_id'],\n",
        "        'label_idx': cat_id_to_idx[a['category_id']],\n",
        "    })\n",
        "df = pd.DataFrame(rows)\n",
        "print(df.head())\n",
        "print('Label distribution (top 10):')\n",
        "print(df['category_id'].value_counts().head(10))\n",
        "print('Locations per fold candidate (sample):', df['location'].value_counts().head(10).to_dict())\n",
        "\n",
        "# Test info and sample submission checks\n",
        "ss = pd.read_csv('sample_submission.csv')\n",
        "print('Sample submission columns:', ss.columns.tolist(), 'shape:', ss.shape)\n",
        "print(ss.head())\n",
        "\n",
        "test_images = test_json.get('images', [])\n",
        "print('Test images in JSON:', len(test_images), '| Test files on disk:', len(list(Path('test').glob('*.jpg'))))\n",
        "\n",
        "# Map between test Id and expected filename if possible\n",
        "test_df = pd.DataFrame(test_images)\n",
        "print('Test JSON columns:', test_df.columns.tolist())\n",
        "if 'id' in test_df.columns:\n",
        "    missing_ids = set(ss['Id']) - set(test_df['id'])\n",
        "    extra_ids = set(test_df['id']) - set(ss['Id'])\n",
        "    print('Submission Ids missing in test_json:', len(missing_ids), '| extra in json not in sample:', len(extra_ids))\n",
        "\n",
        "# MegaDetector quick stats\n",
        "md_images = md_json.get('images', []) if isinstance(md_json, dict) else []\n",
        "print('MegaDetector entries:', len(md_images))\n",
        "if md_images:\n",
        "    # Count images with at least one bbox above 0.3\n",
        "    cnt = 0\n",
        "    for r in md_images[:5000]:\n",
        "        dets = r.get('detections', [])\n",
        "        if any(d.get('conf', d.get('confidence', 0)) >= 0.3 for d in dets):\n",
        "            cnt += 1\n",
        "    print('MD sample (5k) with conf>=0.3:', cnt)\n",
        "\n",
        "print(f'Env+data profile done in {time.time()-t0:.1f}s')"
      ],
      "execution_count": 1,
      "outputs": [
        {
          "output_type": "stream",
          "name": "stdout",
          "text": [
            "Checking GPU with nvidia-smi...\n"
          ]
        },
        {
          "output_type": "stream",
          "name": "stdout",
          "text": [
            ">>> bash -lc nvidia-smi || true\n"
          ]
        },
        {
          "output_type": "stream",
          "name": "stdout",
          "text": [
            "Sat Sep 27 06:06:04 2025       \n+-----------------------------------------------------------------------------------------+\n| NVIDIA-SMI 550.144.06             Driver Version: 550.144.06     CUDA Version: 12.4     |\n|-----------------------------------------+------------------------+----------------------+\n| GPU  Name                 Persistence-M | Bus-Id          Disp.A | Volatile Uncorr. ECC |\n| Fan  Temp   Perf          Pwr:Usage/Cap |           Memory-Usage | GPU-Util  Compute M. |\n|                                         |                        |               MIG M. |\n|=========================================+========================+======================|\n|   0  NVIDIA A10-24Q                 On  |   00000002:00:00.0 Off |                    0 |\n| N/A   N/A    P0             N/A /  N/A  |     182MiB /  24512MiB |      0%      Default |\n|                                         |                        |                  N/A |\n+-----------------------------------------+------------------------+----------------------+\n                                                                                         \n+-----------------------------------------------------------------------------------------+\n| Processes:                                                                              |\n|  GPU   GI   CI        PID   Type   Process name                              GPU Memory |\n|        ID   ID                                                               Usage      |\n|=========================================================================================|\n+-----------------------------------------------------------------------------------------+\n\nTorch import failed, installing cu121 stack... No module named 'torch'\n"
          ]
        },
        {
          "output_type": "stream",
          "name": "stderr",
          "text": [
            "WARNING: Skipping torch as it is not installed.\n"
          ]
        },
        {
          "output_type": "stream",
          "name": "stderr",
          "text": [
            "WARNING: Skipping torchvision as it is not installed.\n"
          ]
        },
        {
          "output_type": "stream",
          "name": "stderr",
          "text": [
            "WARNING: Skipping torchaudio as it is not installed.\n"
          ]
        },
        {
          "output_type": "stream",
          "name": "stdout",
          "text": [
            "Looking in indexes: https://download.pytorch.org/whl/cu121, https://pypi.org/simple\n"
          ]
        },
        {
          "output_type": "stream",
          "name": "stdout",
          "text": [
            "Collecting torch==2.4.1\n  Downloading https://download.pytorch.org/whl/cu121/torch-2.4.1%2Bcu121-cp311-cp311-linux_x86_64.whl (799.0 MB)\n"
          ]
        },
        {
          "output_type": "stream",
          "name": "stdout",
          "text": [
            "     \u2501\u2501\u2501\u2501\u2501\u2501\u2501\u2501\u2501\u2501\u2501\u2501\u2501\u2501\u2501\u2501\u2501\u2501\u2501\u2501\u2501\u2501\u2501\u2501\u2501\u2501\u2501\u2501\u2501\u2501\u2501\u2501\u2501\u2501\u2501\u2501\u2501 799.0/799.0 MB 423.7 MB/s eta 0:00:00\n"
          ]
        },
        {
          "output_type": "stream",
          "name": "stdout",
          "text": [
            "Collecting torchvision==0.19.1\n  Downloading https://download.pytorch.org/whl/cu121/torchvision-0.19.1%2Bcu121-cp311-cp311-linux_x86_64.whl (7.1 MB)\n     \u2501\u2501\u2501\u2501\u2501\u2501\u2501\u2501\u2501\u2501\u2501\u2501\u2501\u2501\u2501\u2501\u2501\u2501\u2501\u2501\u2501\u2501\u2501\u2501\u2501\u2501\u2501\u2501\u2501\u2501\u2501\u2501\u2501\u2501\u2501\u2501\u2501\u2501\u2501\u2501 7.1/7.1 MB 536.5 MB/s eta 0:00:00\n"
          ]
        },
        {
          "output_type": "stream",
          "name": "stdout",
          "text": [
            "Collecting torchaudio==2.4.1\n  Downloading https://download.pytorch.org/whl/cu121/torchaudio-2.4.1%2Bcu121-cp311-cp311-linux_x86_64.whl (3.4 MB)\n     \u2501\u2501\u2501\u2501\u2501\u2501\u2501\u2501\u2501\u2501\u2501\u2501\u2501\u2501\u2501\u2501\u2501\u2501\u2501\u2501\u2501\u2501\u2501\u2501\u2501\u2501\u2501\u2501\u2501\u2501\u2501\u2501\u2501\u2501\u2501\u2501\u2501\u2501\u2501\u2501 3.4/3.4 MB 509.4 MB/s eta 0:00:00\n"
          ]
        },
        {
          "output_type": "stream",
          "name": "stdout",
          "text": [
            "Collecting nvidia-cudnn-cu12==9.1.0.70\n  Downloading nvidia_cudnn_cu12-9.1.0.70-py3-none-manylinux2014_x86_64.whl (664.8 MB)\n"
          ]
        },
        {
          "output_type": "stream",
          "name": "stdout",
          "text": [
            "     \u2501\u2501\u2501\u2501\u2501\u2501\u2501\u2501\u2501\u2501\u2501\u2501\u2501\u2501\u2501\u2501\u2501\u2501\u2501\u2501\u2501\u2501\u2501\u2501\u2501\u2501\u2501\u2501\u2501\u2501\u2501\u2501\u2501\u2501\u2501\u2501\u2501 664.8/664.8 MB 122.5 MB/s eta 0:00:00\n"
          ]
        },
        {
          "output_type": "stream",
          "name": "stdout",
          "text": [
            "Collecting sympy\n  Downloading sympy-1.14.0-py3-none-any.whl (6.3 MB)\n     \u2501\u2501\u2501\u2501\u2501\u2501\u2501\u2501\u2501\u2501\u2501\u2501\u2501\u2501\u2501\u2501\u2501\u2501\u2501\u2501\u2501\u2501\u2501\u2501\u2501\u2501\u2501\u2501\u2501\u2501\u2501\u2501\u2501\u2501\u2501\u2501\u2501\u2501\u2501\u2501 6.3/6.3 MB 232.3 MB/s eta 0:00:00\n"
          ]
        },
        {
          "output_type": "stream",
          "name": "stdout",
          "text": [
            "Collecting filelock\n  Downloading filelock-3.19.1-py3-none-any.whl (15 kB)\n"
          ]
        },
        {
          "output_type": "stream",
          "name": "stdout",
          "text": [
            "Collecting fsspec\n  Downloading fsspec-2025.9.0-py3-none-any.whl (199 kB)\n     \u2501\u2501\u2501\u2501\u2501\u2501\u2501\u2501\u2501\u2501\u2501\u2501\u2501\u2501\u2501\u2501\u2501\u2501\u2501\u2501\u2501\u2501\u2501\u2501\u2501\u2501\u2501\u2501\u2501\u2501\u2501\u2501\u2501\u2501\u2501\u2501\u2501\u2501 199.3/199.3 KB 81.7 MB/s eta 0:00:00\n"
          ]
        },
        {
          "output_type": "stream",
          "name": "stdout",
          "text": [
            "Collecting nvidia-nccl-cu12==2.20.5\n  Downloading nvidia_nccl_cu12-2.20.5-py3-none-manylinux2014_x86_64.whl (176.2 MB)\n"
          ]
        },
        {
          "output_type": "stream",
          "name": "stdout",
          "text": [
            "     \u2501\u2501\u2501\u2501\u2501\u2501\u2501\u2501\u2501\u2501\u2501\u2501\u2501\u2501\u2501\u2501\u2501\u2501\u2501\u2501\u2501\u2501\u2501\u2501\u2501\u2501\u2501\u2501\u2501\u2501\u2501\u2501\u2501\u2501\u2501\u2501\u2501 176.2/176.2 MB 250.0 MB/s eta 0:00:00\n"
          ]
        },
        {
          "output_type": "stream",
          "name": "stdout",
          "text": [
            "Collecting nvidia-cufft-cu12==11.0.2.54\n  Downloading nvidia_cufft_cu12-11.0.2.54-py3-none-manylinux1_x86_64.whl (121.6 MB)\n"
          ]
        },
        {
          "output_type": "stream",
          "name": "stdout",
          "text": [
            "     \u2501\u2501\u2501\u2501\u2501\u2501\u2501\u2501\u2501\u2501\u2501\u2501\u2501\u2501\u2501\u2501\u2501\u2501\u2501\u2501\u2501\u2501\u2501\u2501\u2501\u2501\u2501\u2501\u2501\u2501\u2501\u2501\u2501\u2501\u2501\u2501\u2501 121.6/121.6 MB 172.9 MB/s eta 0:00:00\n"
          ]
        },
        {
          "output_type": "stream",
          "name": "stdout",
          "text": [
            "Collecting nvidia-cuda-nvrtc-cu12==12.1.105\n  Downloading nvidia_cuda_nvrtc_cu12-12.1.105-py3-none-manylinux1_x86_64.whl (23.7 MB)\n     \u2501\u2501\u2501\u2501\u2501\u2501\u2501\u2501\u2501\u2501\u2501\u2501\u2501\u2501\u2501\u2501\u2501\u2501\u2501\u2501\u2501\u2501\u2501\u2501\u2501\u2501\u2501\u2501\u2501\u2501\u2501\u2501\u2501\u2501\u2501\u2501\u2501\u2501\u2501 23.7/23.7 MB 174.0 MB/s eta 0:00:00\n"
          ]
        },
        {
          "output_type": "stream",
          "name": "stdout",
          "text": [
            "Collecting typing-extensions>=4.8.0\n  Downloading typing_extensions-4.15.0-py3-none-any.whl (44 kB)\n     \u2501\u2501\u2501\u2501\u2501\u2501\u2501\u2501\u2501\u2501\u2501\u2501\u2501\u2501\u2501\u2501\u2501\u2501\u2501\u2501\u2501\u2501\u2501\u2501\u2501\u2501\u2501\u2501\u2501\u2501\u2501\u2501\u2501\u2501\u2501\u2501\u2501\u2501\u2501 44.6/44.6 KB 402.8 MB/s eta 0:00:00\n"
          ]
        },
        {
          "output_type": "stream",
          "name": "stdout",
          "text": [
            "Collecting nvidia-cuda-runtime-cu12==12.1.105\n  Downloading nvidia_cuda_runtime_cu12-12.1.105-py3-none-manylinux1_x86_64.whl (823 kB)\n     \u2501\u2501\u2501\u2501\u2501\u2501\u2501\u2501\u2501\u2501\u2501\u2501\u2501\u2501\u2501\u2501\u2501\u2501\u2501\u2501\u2501\u2501\u2501\u2501\u2501\u2501\u2501\u2501\u2501\u2501\u2501\u2501\u2501\u2501\u2501\u2501\u2501 823.6/823.6 KB 196.9 MB/s eta 0:00:00\n"
          ]
        },
        {
          "output_type": "stream",
          "name": "stdout",
          "text": [
            "Collecting nvidia-cublas-cu12==12.1.3.1\n  Downloading nvidia_cublas_cu12-12.1.3.1-py3-none-manylinux1_x86_64.whl (410.6 MB)\n"
          ]
        },
        {
          "output_type": "stream",
          "name": "stdout",
          "text": [
            "     \u2501\u2501\u2501\u2501\u2501\u2501\u2501\u2501\u2501\u2501\u2501\u2501\u2501\u2501\u2501\u2501\u2501\u2501\u2501\u2501\u2501\u2501\u2501\u2501\u2501\u2501\u2501\u2501\u2501\u2501\u2501\u2501\u2501\u2501\u2501\u2501\u2501 410.6/410.6 MB 250.9 MB/s eta 0:00:00\n"
          ]
        },
        {
          "output_type": "stream",
          "name": "stdout",
          "text": [
            "Collecting nvidia-nvtx-cu12==12.1.105\n  Downloading nvidia_nvtx_cu12-12.1.105-py3-none-manylinux1_x86_64.whl (99 kB)\n     \u2501\u2501\u2501\u2501\u2501\u2501\u2501\u2501\u2501\u2501\u2501\u2501\u2501\u2501\u2501\u2501\u2501\u2501\u2501\u2501\u2501\u2501\u2501\u2501\u2501\u2501\u2501\u2501\u2501\u2501\u2501\u2501\u2501\u2501\u2501\u2501\u2501\u2501\u2501 99.1/99.1 KB 462.5 MB/s eta 0:00:00\n"
          ]
        },
        {
          "output_type": "stream",
          "name": "stdout",
          "text": [
            "Collecting nvidia-cusolver-cu12==11.4.5.107\n  Downloading nvidia_cusolver_cu12-11.4.5.107-py3-none-manylinux1_x86_64.whl (124.2 MB)\n"
          ]
        },
        {
          "output_type": "stream",
          "name": "stdout",
          "text": [
            "     \u2501\u2501\u2501\u2501\u2501\u2501\u2501\u2501\u2501\u2501\u2501\u2501\u2501\u2501\u2501\u2501\u2501\u2501\u2501\u2501\u2501\u2501\u2501\u2501\u2501\u2501\u2501\u2501\u2501\u2501\u2501\u2501\u2501\u2501\u2501\u2501\u2501 124.2/124.2 MB 243.3 MB/s eta 0:00:00\n"
          ]
        },
        {
          "output_type": "stream",
          "name": "stdout",
          "text": [
            "Collecting nvidia-cuda-cupti-cu12==12.1.105\n  Downloading nvidia_cuda_cupti_cu12-12.1.105-py3-none-manylinux1_x86_64.whl (14.1 MB)\n     \u2501\u2501\u2501\u2501\u2501\u2501\u2501\u2501\u2501\u2501\u2501\u2501\u2501\u2501\u2501\u2501\u2501\u2501\u2501\u2501\u2501\u2501\u2501\u2501\u2501\u2501\u2501\u2501\u2501\u2501\u2501\u2501\u2501\u2501\u2501\u2501\u2501\u2501\u2501 14.1/14.1 MB 260.2 MB/s eta 0:00:00\n"
          ]
        },
        {
          "output_type": "stream",
          "name": "stdout",
          "text": [
            "Collecting jinja2\n  Downloading jinja2-3.1.6-py3-none-any.whl (134 kB)\n     \u2501\u2501\u2501\u2501\u2501\u2501\u2501\u2501\u2501\u2501\u2501\u2501\u2501\u2501\u2501\u2501\u2501\u2501\u2501\u2501\u2501\u2501\u2501\u2501\u2501\u2501\u2501\u2501\u2501\u2501\u2501\u2501\u2501\u2501\u2501\u2501\u2501 134.9/134.9 KB 481.0 MB/s eta 0:00:00\n"
          ]
        },
        {
          "output_type": "stream",
          "name": "stdout",
          "text": [
            "Collecting networkx\n  Downloading networkx-3.5-py3-none-any.whl (2.0 MB)\n     \u2501\u2501\u2501\u2501\u2501\u2501\u2501\u2501\u2501\u2501\u2501\u2501\u2501\u2501\u2501\u2501\u2501\u2501\u2501\u2501\u2501\u2501\u2501\u2501\u2501\u2501\u2501\u2501\u2501\u2501\u2501\u2501\u2501\u2501\u2501\u2501\u2501\u2501\u2501\u2501 2.0/2.0 MB 144.1 MB/s eta 0:00:00\n"
          ]
        },
        {
          "output_type": "stream",
          "name": "stdout",
          "text": [
            "Collecting nvidia-curand-cu12==10.3.2.106\n  Downloading nvidia_curand_cu12-10.3.2.106-py3-none-manylinux1_x86_64.whl (56.5 MB)\n"
          ]
        },
        {
          "output_type": "stream",
          "name": "stdout",
          "text": [
            "     \u2501\u2501\u2501\u2501\u2501\u2501\u2501\u2501\u2501\u2501\u2501\u2501\u2501\u2501\u2501\u2501\u2501\u2501\u2501\u2501\u2501\u2501\u2501\u2501\u2501\u2501\u2501\u2501\u2501\u2501\u2501\u2501\u2501\u2501\u2501\u2501\u2501\u2501\u2501 56.5/56.5 MB 276.0 MB/s eta 0:00:00\n"
          ]
        },
        {
          "output_type": "stream",
          "name": "stdout",
          "text": [
            "Collecting triton==3.0.0\n  Downloading triton-3.0.0-1-cp311-cp311-manylinux2014_x86_64.manylinux_2_17_x86_64.whl (209.4 MB)\n"
          ]
        },
        {
          "output_type": "stream",
          "name": "stdout",
          "text": [
            "     \u2501\u2501\u2501\u2501\u2501\u2501\u2501\u2501\u2501\u2501\u2501\u2501\u2501\u2501\u2501\u2501\u2501\u2501\u2501\u2501\u2501\u2501\u2501\u2501\u2501\u2501\u2501\u2501\u2501\u2501\u2501\u2501\u2501\u2501\u2501\u2501\u2501 209.4/209.4 MB 225.3 MB/s eta 0:00:00\n"
          ]
        },
        {
          "output_type": "stream",
          "name": "stdout",
          "text": [
            "Collecting nvidia-cusparse-cu12==12.1.0.106\n  Downloading nvidia_cusparse_cu12-12.1.0.106-py3-none-manylinux1_x86_64.whl (196.0 MB)\n"
          ]
        },
        {
          "output_type": "stream",
          "name": "stdout",
          "text": [
            "     \u2501\u2501\u2501\u2501\u2501\u2501\u2501\u2501\u2501\u2501\u2501\u2501\u2501\u2501\u2501\u2501\u2501\u2501\u2501\u2501\u2501\u2501\u2501\u2501\u2501\u2501\u2501\u2501\u2501\u2501\u2501\u2501\u2501\u2501\u2501\u2501\u2501 196.0/196.0 MB 272.4 MB/s eta 0:00:00\n"
          ]
        },
        {
          "output_type": "stream",
          "name": "stdout",
          "text": [
            "Collecting numpy\n  Downloading numpy-1.26.4-cp311-cp311-manylinux_2_17_x86_64.manylinux2014_x86_64.whl (18.3 MB)\n     \u2501\u2501\u2501\u2501\u2501\u2501\u2501\u2501\u2501\u2501\u2501\u2501\u2501\u2501\u2501\u2501\u2501\u2501\u2501\u2501\u2501\u2501\u2501\u2501\u2501\u2501\u2501\u2501\u2501\u2501\u2501\u2501\u2501\u2501\u2501\u2501\u2501\u2501\u2501 18.3/18.3 MB 221.5 MB/s eta 0:00:00\n"
          ]
        },
        {
          "output_type": "stream",
          "name": "stdout",
          "text": [
            "Collecting pillow!=8.3.*,>=5.3.0\n  Downloading pillow-11.3.0-cp311-cp311-manylinux_2_27_x86_64.manylinux_2_28_x86_64.whl (6.6 MB)\n     \u2501\u2501\u2501\u2501\u2501\u2501\u2501\u2501\u2501\u2501\u2501\u2501\u2501\u2501\u2501\u2501\u2501\u2501\u2501\u2501\u2501\u2501\u2501\u2501\u2501\u2501\u2501\u2501\u2501\u2501\u2501\u2501\u2501\u2501\u2501\u2501\u2501\u2501\u2501\u2501 6.6/6.6 MB 211.6 MB/s eta 0:00:00\n"
          ]
        },
        {
          "output_type": "stream",
          "name": "stdout",
          "text": [
            "Collecting nvidia-nvjitlink-cu12\n  Downloading nvidia_nvjitlink_cu12-12.9.86-py3-none-manylinux2010_x86_64.manylinux_2_12_x86_64.whl (39.7 MB)\n     \u2501\u2501\u2501\u2501\u2501\u2501\u2501\u2501\u2501\u2501\u2501\u2501\u2501\u2501\u2501\u2501\u2501\u2501\u2501\u2501\u2501\u2501\u2501\u2501\u2501\u2501\u2501\u2501\u2501\u2501\u2501\u2501\u2501\u2501\u2501\u2501\u2501\u2501\u2501 39.7/39.7 MB 240.3 MB/s eta 0:00:00\n"
          ]
        },
        {
          "output_type": "stream",
          "name": "stdout",
          "text": [
            "Collecting MarkupSafe>=2.0\n  Downloading MarkupSafe-3.0.2-cp311-cp311-manylinux_2_17_x86_64.manylinux2014_x86_64.whl (23 kB)\n"
          ]
        },
        {
          "output_type": "stream",
          "name": "stdout",
          "text": [
            "Collecting mpmath<1.4,>=1.1.0\n  Downloading mpmath-1.3.0-py3-none-any.whl (536 kB)\n     \u2501\u2501\u2501\u2501\u2501\u2501\u2501\u2501\u2501\u2501\u2501\u2501\u2501\u2501\u2501\u2501\u2501\u2501\u2501\u2501\u2501\u2501\u2501\u2501\u2501\u2501\u2501\u2501\u2501\u2501\u2501\u2501\u2501\u2501\u2501\u2501\u2501 536.2/536.2 KB 515.7 MB/s eta 0:00:00\n"
          ]
        },
        {
          "output_type": "stream",
          "name": "stdout",
          "text": [
            "Installing collected packages: mpmath, typing-extensions, sympy, pillow, nvidia-nvtx-cu12, nvidia-nvjitlink-cu12, nvidia-nccl-cu12, nvidia-curand-cu12, nvidia-cufft-cu12, nvidia-cuda-runtime-cu12, nvidia-cuda-nvrtc-cu12, nvidia-cuda-cupti-cu12, nvidia-cublas-cu12, numpy, networkx, MarkupSafe, fsspec, filelock, triton, nvidia-cusparse-cu12, nvidia-cudnn-cu12, jinja2, nvidia-cusolver-cu12, torch, torchvision, torchaudio\n"
          ]
        },
        {
          "output_type": "stream",
          "name": "stdout",
          "text": [
            "Successfully installed MarkupSafe-3.0.2 filelock-3.19.1 fsspec-2025.9.0 jinja2-3.1.6 mpmath-1.3.0 networkx-3.5 numpy-1.26.4 nvidia-cublas-cu12-12.1.3.1 nvidia-cuda-cupti-cu12-12.1.105 nvidia-cuda-nvrtc-cu12-12.1.105 nvidia-cuda-runtime-cu12-12.1.105 nvidia-cudnn-cu12-9.1.0.70 nvidia-cufft-cu12-11.0.2.54 nvidia-curand-cu12-10.3.2.106 nvidia-cusolver-cu12-11.4.5.107 nvidia-cusparse-cu12-12.1.0.106 nvidia-nccl-cu12-2.20.5 nvidia-nvjitlink-cu12-12.9.86 nvidia-nvtx-cu12-12.1.105 pillow-11.3.0 sympy-1.14.0 torch-2.4.1+cu121 torchaudio-2.4.1+cu121 torchvision-0.19.1+cu121 triton-3.0.0 typing-extensions-4.15.0\n"
          ]
        },
        {
          "output_type": "stream",
          "name": "stdout",
          "text": [
            "torch: 2.4.1+cu121 built CUDA: 12.1\nCUDA available: True\nGPU: NVIDIA A10-24Q\nInstalling additional dependencies if missing...\n"
          ]
        },
        {
          "output_type": "stream",
          "name": "stdout",
          "text": [
            ">>> /usr/bin/python3.11 -m pip install -c constraints.txt timm==1.0.9 --upgrade-strategy only-if-needed\n"
          ]
        },
        {
          "output_type": "stream",
          "name": "stdout",
          "text": [
            ">>> /usr/bin/python3.11 -m pip install -c constraints.txt albumentations==1.4.14 --upgrade-strategy only-if-needed\n"
          ]
        },
        {
          "output_type": "stream",
          "name": "stdout",
          "text": [
            "Loading dataset JSONs...\n"
          ]
        },
        {
          "output_type": "stream",
          "name": "stdout",
          "text": [
            "Train images: 157199 | Annotations: 157199 | Categories: 267 | Unique locations: 225\nFirst 5 category_id->idx: [(0, 0), (2, 1), (3, 2), (4, 3), (6, 4)]\n"
          ]
        },
        {
          "output_type": "stream",
          "name": "stdout",
          "text": [
            "                               image_id  \\\n0  96b00332-21bc-11ea-a13a-137349068a90   \n1  9017f7aa-21bc-11ea-a13a-137349068a90   \n2  90d93c58-21bc-11ea-a13a-137349068a90   \n3  887cd0ec-21bc-11ea-a13a-137349068a90   \n4  9137d902-21bc-11ea-a13a-137349068a90   \n\n                                  file_name  location  \\\n0  96b00332-21bc-11ea-a13a-137349068a90.jpg       267   \n1  9017f7aa-21bc-11ea-a13a-137349068a90.jpg        45   \n2  90d93c58-21bc-11ea-a13a-137349068a90.jpg        45   \n3  887cd0ec-21bc-11ea-a13a-137349068a90.jpg        45   \n4  9137d902-21bc-11ea-a13a-137349068a90.jpg       457   \n\n                                 seq_id  category_id  label_idx  \n0  96b004ea-21bc-11ea-a13a-137349068a90           73         34  \n1  9017f8cc-21bc-11ea-a13a-137349068a90          227        105  \n2  90d93e38-21bc-11ea-a13a-137349068a90          250        115  \n3  887cd29a-21bc-11ea-a13a-137349068a90            2          1  \n4  9137da9c-21bc-11ea-a13a-137349068a90          233        108  \nLabel distribution (top 10):\ncategory_id\n0      51713\n372    11613\n374    11564\n317     6059\n3       5683\n2       5031\n10      4747\n6       4001\n24      3781\n371     3690\nName: count, dtype: int64\nLocations per fold candidate (sample): {336: 7648, 105: 4190, 57: 4100, 392: 3982, 256: 3786, 512: 3770, 526: 3719, 218: 3690, 3: 3640, 337: 3449}\nSample submission columns: ['Id', 'Category'] shape: (60760, 2)\n                                     Id  Category\n0  879d74d8-21bc-11ea-a13a-137349068a90       559\n1  90243894-21bc-11ea-a13a-137349068a90       629\n2  944adb30-21bc-11ea-a13a-137349068a90       192\n3  8ced2424-21bc-11ea-a13a-137349068a90       359\n4  8aac3a4c-21bc-11ea-a13a-137349068a90         9\nTest images in JSON: 60760 | Test files on disk: 60760\nTest JSON columns: ['seq_num_frames', 'location', 'datetime', 'id', 'frame_num', 'seq_id', 'width', 'height', 'file_name']\nSubmission Ids missing in test_json: 0 | extra in json not in sample: 0\nMegaDetector entries: 280810\nMD sample (5k) with conf>=0.3: 3084\nEnv+data profile done in 134.2s\n"
          ]
        }
      ]
    },
    {
      "id": "4cb5e35a-27f7-414f-9f05-be9e210298f4",
      "cell_type": "code",
      "metadata": {},
      "source": [
        "# Build GroupKFold by location and prep MegaDetector (MD) detections maps\n",
        "import json, math, re\n",
        "from pathlib import Path\n",
        "import pandas as pd\n",
        "from sklearn.model_selection import GroupKFold\n",
        "\n",
        "# Reconstruct df if not in memory\n",
        "if 'df' not in globals():\n",
        "    train_json = json.loads(Path('iwildcam2020_train_annotations.json').read_text())\n",
        "    images = {im['id']: im for im in train_json.get('images', [])}\n",
        "    ann = train_json.get('annotations', [])\n",
        "    categories = train_json.get('categories', [])\n",
        "    cat_ids = [c['id'] for c in categories]\n",
        "    cat_id_to_idx = {cid:i for i, cid in enumerate(sorted(cat_ids))}\n",
        "    rows = []\n",
        "    for a in ann:\n",
        "        img = images.get(a['image_id'])\n",
        "        if img is None:\n",
        "            continue\n",
        "        rows.append({\n",
        "            'image_id': a['image_id'],\n",
        "            'file_name': img.get('file_name'),\n",
        "            'location': img.get('location'),\n",
        "            'seq_id': img.get('seq_id', None),\n",
        "            'category_id': a['category_id'],\n",
        "            'label_idx': cat_id_to_idx[a['category_id']],\n",
        "        })\n",
        "    df = pd.DataFrame(rows)\n",
        "    print('Rebuilt train df:', df.shape)\n",
        "\n",
        "# Create 5-fold GroupKFold by location\n",
        "df = df.sample(frac=1.0, random_state=42).reset_index(drop=True)  # shuffle for nicer distribution\n",
        "gkf = GroupKFold(n_splits=5)\n",
        "folds = [-1]*len(df)\n",
        "for fold, (trn_idx, val_idx) in enumerate(gkf.split(df, groups=df['location'])):\n",
        "    for i in val_idx:\n",
        "        folds[i] = fold\n",
        "df['fold'] = folds\n",
        "assert all(f>=0 for f in folds), 'Some folds unassigned'\n",
        "print('Fold sizes:', df['fold'].value_counts().sort_index().to_dict())\n",
        "print('Locations per fold (sample):')\n",
        "print(df.groupby('fold')['location'].nunique())\n",
        "\n",
        "# Save folds\n",
        "out_folds = 'train_folds.parquet'\n",
        "df.to_parquet(out_folds, index=False)\n",
        "print('Saved', out_folds, Path(out_folds).stat().st_size, 'bytes')\n",
        "\n",
        "# Prepare MegaDetector detections mapping\n",
        "md = json.loads(Path('iwildcam2020_megadetector_results.json').read_text())\n",
        "md_images = md.get('images', []) if isinstance(md, dict) else []\n",
        "print('MD images entries:', len(md_images))\n",
        "\n",
        "def norm_det_record(rec):\n",
        "    # Expected fields: 'file' or 'image', 'detections': [{'category':'1','conf':0.9,'bbox':[x,y,w,h]}]\n",
        "    fname = rec.get('file') or rec.get('image') or rec.get('file_name') or ''\n",
        "    fname = Path(fname).name\n",
        "    dets = rec.get('detections', [])\n",
        "    out = []\n",
        "    for d in dets:\n",
        "        conf = d.get('conf', d.get('confidence', 0.0))\n",
        "        bbox = d.get('bbox') or d.get('box')\n",
        "        if bbox is None or len(bbox) != 4:\n",
        "            continue\n",
        "        # clamp bbox to [0,1] if they are normalized (as MD outputs are usually relative)\n",
        "        x,y,w,h = bbox\n",
        "        out.append({'conf': float(conf), 'bbox': [float(x), float(y), float(w), float(h)]})\n",
        "    return fname, out\n",
        "\n",
        "md_map = {}  # file_name -> list of dets\n",
        "for rec in md_images:\n",
        "    fname, dets = norm_det_record(rec)\n",
        "    if not fname:\n",
        "        continue\n",
        "    md_map[fname] = dets\n",
        "print('Built MD map for files:', len(md_map))\n",
        "\n",
        "# Persist MD maps for fast access\n",
        "with open('megadetector_map.json', 'w') as f:\n",
        "    json.dump(md_map, f)\n",
        "print('Saved megadetector_map.json')\n",
        "\n",
        "# Quick sanity: count with >=0.3 conf\n",
        "th = 0.3\n",
        "has_obj = sum(1 for v in md_map.values() if any(d['conf']>=th for d in v))\n",
        "print(f'MD files with conf>={th}:', has_obj)\n",
        "\n",
        "print('Prep complete.')"
      ],
      "execution_count": 2,
      "outputs": [
        {
          "output_type": "stream",
          "name": "stdout",
          "text": [
            "Fold sizes: {0: 31440, 1: 31440, 2: 31440, 3: 31440, 4: 31439}\nLocations per fold (sample):\nfold\n0    45\n1    44\n2    46\n3    45\n4    45\nName: location, dtype: int64\nSaved train_folds.parquet 3902089 bytes\n"
          ]
        },
        {
          "output_type": "stream",
          "name": "stdout",
          "text": [
            "MD images entries: 280810\n"
          ]
        },
        {
          "output_type": "stream",
          "name": "stdout",
          "text": [
            "Built MD map for files: 0\nSaved megadetector_map.json\nMD files with conf>=0.3: 0\nPrep complete.\n"
          ]
        }
      ]
    },
    {
      "id": "a5d8eb8c-7608-4667-8504-9c49167c7c30",
      "cell_type": "code",
      "metadata": {},
      "source": [
        "# Inspect MegaDetector JSON structure to fix mapping\n",
        "import json\n",
        "from pathlib import Path\n",
        "\n",
        "md = json.loads(Path('iwildcam2020_megadetector_results.json').read_text())\n",
        "md_images = md.get('images', []) if isinstance(md, dict) else md\n",
        "print('MD type:', type(md), '| images len:', len(md_images))\n",
        "if md_images:\n",
        "    print('Sample record keys:', list(md_images[0].keys()))\n",
        "    # Show up to 5 records with file-like keys\n",
        "    cnt_nonempty = 0\n",
        "    for r in md_images[:50]:\n",
        "        fname = r.get('file') or r.get('image') or r.get('file_name') or r.get('path') or ''\n",
        "        if fname:\n",
        "            cnt_nonempty += 1\n",
        "            print('Example fname:', fname, '| detections:', len(r.get('detections', [])))\n",
        "            break\n",
        "    print('Non-empty fname count in first 50:', cnt_nonempty)\n",
        "    # Count how many map to our train/test files by basename\n",
        "    import pandas as pd\n",
        "    train_names = set(pd.read_parquet('train_folds.parquet')['file_name'].unique())\n",
        "    test_names = set([p.name for p in Path('test').glob('*.jpg')])\n",
        "    matched = 0\n",
        "    for r in md_images[:5000]:\n",
        "        fname = r.get('file') or r.get('image') or r.get('file_name') or r.get('path') or ''\n",
        "        base = Path(fname).name\n",
        "        if base in train_names or base in test_names:\n",
        "            matched += 1\n",
        "    print('Basename matches in first 5k MD records:', matched)\n",
        "else:\n",
        "    print('No MD images found; check JSON format.')"
      ],
      "execution_count": 3,
      "outputs": [
        {
          "output_type": "stream",
          "name": "stdout",
          "text": [
            "MD type: <class 'dict'> | images len: 280810\nSample record keys: ['detections', 'id', 'max_detection_conf']\nNon-empty fname count in first 50: 0\nBasename matches in first 5k MD records: 0\n"
          ]
        }
      ]
    },
    {
      "id": "1e8c4bc6-9d1a-463d-8010-6663964dbd22",
      "cell_type": "code",
      "metadata": {},
      "source": [
        "# Rebuild MegaDetector mapping: records keyed by image 'id' not filename\n",
        "import json\n",
        "from pathlib import Path\n",
        "import pandas as pd\n",
        "\n",
        "train_json = json.loads(Path('iwildcam2020_train_annotations.json').read_text())\n",
        "test_json = json.loads(Path('iwildcam2020_test_information.json').read_text())\n",
        "md = json.loads(Path('iwildcam2020_megadetector_results.json').read_text())\n",
        "md_images = md.get('images', []) if isinstance(md, dict) else md\n",
        "\n",
        "# Build id->file_name lookup from train and test\n",
        "train_id2fname = {im['id']: im['file_name'] for im in train_json.get('images', [])}\n",
        "test_id2fname = {im['id']: im['file_name'] for im in test_json.get('images', [])}\n",
        "\n",
        "def extract_dets(rec):\n",
        "    dets = []\n",
        "    for d in rec.get('detections', []):\n",
        "        conf = d.get('conf', d.get('confidence', 0.0))\n",
        "        bbox = d.get('bbox') or d.get('box')\n",
        "        if bbox is None or len(bbox) != 4:\n",
        "            continue\n",
        "        x,y,w,h = bbox\n",
        "        dets.append({'conf': float(conf), 'bbox': [float(x), float(y), float(w), float(h)]})\n",
        "    return dets\n",
        "\n",
        "md_by_id = {}   # image_id -> dets\n",
        "fname_map = {}  # file_name -> dets\n",
        "miss_id = 0\n",
        "for rec in md_images:\n",
        "    img_id = rec.get('id')\n",
        "    if not img_id:\n",
        "        continue\n",
        "    dets = extract_dets(rec)\n",
        "    md_by_id[img_id] = dets\n",
        "    fname = train_id2fname.get(img_id) or test_id2fname.get(img_id)\n",
        "    if fname:\n",
        "        fname_map[fname] = dets\n",
        "    else:\n",
        "        miss_id += 1\n",
        "\n",
        "with open('megadetector_by_id.json', 'w') as f:\n",
        "    json.dump(md_by_id, f)\n",
        "with open('megadetector_map.json', 'w') as f:\n",
        "    json.dump(fname_map, f)\n",
        "\n",
        "th = 0.3\n",
        "has_obj_id = sum(1 for v in md_by_id.values() if any(d['conf']>=th for d in v))\n",
        "has_obj_fname = sum(1 for v in fname_map.values() if any(d['conf']>=th for d in v))\n",
        "print('MD images total:', len(md_images))\n",
        "print('Mapped by id:', len(md_by_id), '| by filename:', len(fname_map), '| missing id->fname:', miss_id)\n",
        "print(f'With conf>={th}: by id {has_obj_id}, by fname {has_obj_fname}')\n",
        "print('MD mapping rebuild complete.')"
      ],
      "execution_count": 4,
      "outputs": [
        {
          "output_type": "stream",
          "name": "stdout",
          "text": [
            "MD images total: 280810\nMapped by id: 280810 | by filename: 217940 | missing id->fname: 62870\nWith conf>=0.3: by id 167640, by fname 134782\nMD mapping rebuild complete.\n"
          ]
        }
      ]
    },
    {
      "id": "3a96a38b-c1cc-4b58-aa82-4f13fed6063c",
      "cell_type": "code",
      "metadata": {},
      "source": [
        "# Dataset, transforms, and 1-epoch smoke train on a single fold with MD crop mix\n",
        "import os, math, time, json, random, gc\n",
        "from pathlib import Path\n",
        "import numpy as np\n",
        "import pandas as pd\n",
        "import cv2\n",
        "import torch\n",
        "import torch.nn as nn\n",
        "import torch.nn.functional as F\n",
        "from torch.utils.data import Dataset, DataLoader\n",
        "import timm\n",
        "\n",
        "torch.backends.cudnn.benchmark = True\n",
        "device = torch.device('cuda' if torch.cuda.is_available() else 'cpu')\n",
        "\n",
        "SEED = 42\n",
        "random.seed(SEED); np.random.seed(SEED); torch.manual_seed(SEED); torch.cuda.manual_seed_all(SEED)\n",
        "\n",
        "# Load artifacts\n",
        "df = pd.read_parquet('train_folds.parquet')\n",
        "maps = json.loads(Path('label_mapping.json').read_text())\n",
        "cat_id_to_idx = {int(k):int(v) for k,v in maps['cat_id_to_idx'].items()}\n",
        "idx_to_cat_id = {int(k):int(v) for k,v in maps['idx_to_cat_id'].items()}\n",
        "md_fname_map = json.loads(Path('megadetector_map.json').read_text()) if Path('megadetector_map.json').exists() else {}\n",
        "\n",
        "num_classes = len(idx_to_cat_id)\n",
        "img_size = 384\n",
        "train_fold = 0  # use folds != train_fold for training, == for val in this smoke\n",
        "\n",
        "def build_class_weights(df):\n",
        "    counts = df['label_idx'].value_counts().sort_index().reindex(range(num_classes)).fillna(0).values.astype(np.float32)\n",
        "    # 1/log(1.02+freq) smoothing\n",
        "    weights = 1.0 / np.log(1.02 + counts + 1e-9)\n",
        "    weights = weights / weights.mean()\n",
        "    return torch.tensor(weights, dtype=torch.float32)\n",
        "\n",
        "class IwDataset(Dataset):\n",
        "    def __init__(self, df, root='train', train=True, md_map=None, p_crop=0.6):\n",
        "        self.df = df.reset_index(drop=True)\n",
        "        self.root = Path(root)\n",
        "        self.train = train\n",
        "        self.md_map = md_map or {}\n",
        "        self.p_crop = p_crop\n",
        "\n",
        "    def __len__(self):\n",
        "        return len(self.df)\n",
        "\n",
        "    def _apply_md_crop(self, img, file_name):\n",
        "        dets = self.md_map.get(file_name, [])\n",
        "        # choose largest bbox above threshold\n",
        "        th = 0.3\n",
        "        dets2 = [d for d in dets if d.get('conf', 0.0) >= th]\n",
        "        if not dets2:\n",
        "            return img\n",
        "        # bbox in [x,y,w,h] normalized\n",
        "        H, W = img.shape[:2]\n",
        "        # compute area and choose largest\n",
        "        def area(bb):\n",
        "            return max(0.0, bb[2]) * max(0.0, bb[3])\n",
        "        dets2.sort(key=lambda d: area(d['bbox']), reverse=True)\n",
        "        x,y,w,h = dets2[0]['bbox']\n",
        "        # expand\n",
        "        pad = 0.15\n",
        "        cx = x + w/2.0; cy = y + h/2.0\n",
        "        side = max(w, h) * (1.0 + pad)\n",
        "        x0 = max(0.0, cx - side/2.0); y0 = max(0.0, cy - side/2.0)\n",
        "        x1 = min(1.0, cx + side/2.0); y1 = min(1.0, cy + side/2.0)\n",
        "        # convert to pixels\n",
        "        X0 = int(round(x0 * W)); Y0 = int(round(y0 * H)); X1 = int(round(x1 * W)); Y1 = int(round(y1 * H))\n",
        "        if X1 <= X0 or Y1 <= Y0:\n",
        "            return img\n",
        "        # discard tiny crops (<4% area)\n",
        "        if (X1 - X0) * (Y1 - Y0) < 0.04 * (W * H):\n",
        "            return img\n",
        "        return img[Y0:Y1, X0:X1, :]\n",
        "\n",
        "    def _read_image(self, file_name):\n",
        "        p = (self.root / file_name)\n",
        "        img = cv2.imread(str(p))\n",
        "        if img is None:\n",
        "            # try absolute paths if any issue\n",
        "            img = cv2.imdecode(np.fromfile(str(p), dtype=np.uint8), cv2.IMREAD_COLOR)\n",
        "        if img is None:\n",
        "            raise FileNotFoundError(str(p))\n",
        "        img = cv2.cvtColor(img, cv2.COLOR_BGR2RGB)\n",
        "        return img\n",
        "\n",
        "    def _augment(self, img):\n",
        "        if self.train:\n",
        "            # random resized crop-like: choose random scale and center crop to square, then resize\n",
        "            H, W = img.shape[:2]\n",
        "            scale = random.uniform(0.7, 1.0)\n",
        "            side = int(min(H, W) * scale)\n",
        "            if side > 0:\n",
        "                y0 = random.randint(0, max(0, H - side))\n",
        "                x0 = random.randint(0, max(0, W - side))\n",
        "                img = img[y0:y0+side, x0:x0+side]\n",
        "            # random hflip\n",
        "            if random.random() < 0.5:\n",
        "                img = img[:, ::-1].copy()\n",
        "            # light color jitter\n",
        "            if random.random() < 0.8:\n",
        "                # brightness/contrast\n",
        "                alpha = 1.0 + random.uniform(-0.2, 0.2)\n",
        "                beta = random.uniform(-20, 20)\n",
        "                img = cv2.convertScaleAbs(img, alpha=alpha, beta=beta)\n",
        "        # resize to square\n",
        "        img = cv2.resize(img, (img_size, img_size), interpolation=cv2.INTER_AREA)\n",
        "        return img\n",
        "\n",
        "    def __getitem__(self, idx):\n",
        "        r = self.df.iloc[idx]\n",
        "        file_name = r['file_name']\n",
        "        img = self._read_image(file_name)\n",
        "        # optionally MD crop in training\n",
        "        if self.train and random.random() < self.p_crop:\n",
        "            img = self._apply_md_crop(img, file_name)\n",
        "        img = self._augment(img)\n",
        "        img = img.astype(np.float32) / 255.0\n",
        "        # normalize with ImageNet stats\n",
        "        mean = np.array([0.485, 0.456, 0.406], dtype=np.float32)\n",
        "        std = np.array([0.229, 0.224, 0.225], dtype=np.float32)\n",
        "        img = (img - mean) / std\n",
        "        img = np.transpose(img, (2,0,1))  # CHW\n",
        "        y = int(r['label_idx'])\n",
        "        return torch.from_numpy(img), torch.tensor(y, dtype=torch.long)\n",
        "\n",
        "# Split\n",
        "trn_df = df[df['fold'] != train_fold].copy()\n",
        "val_df = df[df['fold'] == train_fold].copy().reset_index(drop=True)\n",
        "print('Train/Val shapes:', trn_df.shape, val_df.shape)\n",
        "\n",
        "# Datasets and loaders\n",
        "train_ds = IwDataset(trn_df, root='train', train=True, md_map=md_fname_map, p_crop=0.6)\n",
        "val_ds = IwDataset(val_df, root='train', train=False, md_map=md_fname_map, p_crop=0.0)\n",
        "\n",
        "bs = 32\n",
        "train_loader = DataLoader(train_ds, batch_size=bs, shuffle=True, num_workers=6, pin_memory=True, persistent_workers=True)\n",
        "val_loader = DataLoader(val_ds, batch_size=bs, shuffle=False, num_workers=6, pin_memory=True, persistent_workers=True)\n",
        "\n",
        "# Model\n",
        "model_name = 'tf_efficientnet_b4_ns'\n",
        "model = timm.create_model(model_name, pretrained=True, num_classes=num_classes)\n",
        "model = model.to(device).to(memory_format=torch.channels_last)\n",
        "\n",
        "lr = 2e-4; wd = 1e-4\n",
        "optimizer = torch.optim.AdamW(model.parameters(), lr=lr, weight_decay=wd)\n",
        "lr_sched = torch.optim.lr_scheduler.CosineAnnealingLR(optimizer, T_max=1)  # for smoke, redefined later\n",
        "\n",
        "class_weights = build_class_weights(trn_df).to(device)\n",
        "criterion = nn.CrossEntropyLoss(weight=class_weights, label_smoothing=0.1).to(device)\n",
        "\n",
        "scaler = torch.cuda.amp.GradScaler(enabled=True)\n",
        "\n",
        "def evaluate(loader):\n",
        "    model.eval()\n",
        "    correct = 0; total = 0\n",
        "    t0 = time.time()\n",
        "    with torch.no_grad():\n",
        "        for i, (x, y) in enumerate(loader):\n",
        "            x = x.to(device, non_blocking=True).to(memory_format=torch.channels_last)\n",
        "            y = y.to(device, non_blocking=True)\n",
        "            with torch.cuda.amp.autocast(True):\n",
        "                logits = model(x)\n",
        "            preds = logits.argmax(dim=1)\n",
        "            correct += (preds == y).sum().item()\n",
        "            total += y.numel()\n",
        "            if (i+1) % 100 == 0:\n",
        "                print(f'  Eval step {i+1}/{len(loader)} elapsed {time.time()-t0:.1f}s', flush=True)\n",
        "    acc = correct / max(1,total)\n",
        "    return acc\n",
        "\n",
        "# Smoke train: 1 epoch over a limited number of steps\n",
        "max_train_steps = 300  # limit for smoke\n",
        "print('Starting smoke training...')\n",
        "t0 = time.time()\n",
        "model.train()\n",
        "step = 0\n",
        "for i, (x, y) in enumerate(train_loader):\n",
        "    x = x.to(device, non_blocking=True).to(memory_format=torch.channels_last)\n",
        "    y = y.to(device, non_blocking=True)\n",
        "    optimizer.zero_grad(set_to_none=True)\n",
        "    with torch.cuda.amp.autocast(True):\n",
        "        logits = model(x)\n",
        "        loss = criterion(logits, y)\n",
        "    scaler.scale(loss).backward()\n",
        "    scaler.step(optimizer)\n",
        "    scaler.update()\n",
        "    step += 1\n",
        "    if step % 20 == 0:\n",
        "        print(f'  step {step} loss {loss.item():.4f} elapsed {time.time()-t0:.1f}s')\n",
        "    if step >= max_train_steps:\n",
        "        break\n",
        "val_acc = evaluate(val_loader)\n",
        "print(f'Smoke val acc: {val_acc:.4f} | elapsed {time.time()-t0:.1f}s')\n",
        "\n",
        "# Save checkpoint for reuse\n",
        "ckpt_path = f'ckpt_smoke_{model_name}_fold{train_fold}.pt'\n",
        "torch.save({'model': model.state_dict(), 'val_acc': val_acc, 'cfg': {'model': model_name, 'img_size': img_size}}, ckpt_path)\n",
        "print('Saved', ckpt_path)"
      ],
      "execution_count": 5,
      "outputs": [
        {
          "output_type": "stream",
          "name": "stderr",
          "text": [
            "/usr/local/lib/python3.11/dist-packages/tqdm/auto.py:21: TqdmWarning: IProgress not found. Please update jupyter and ipywidgets. See https://ipywidgets.readthedocs.io/en/stable/user_install.html\n  from .autonotebook import tqdm as notebook_tqdm\n"
          ]
        },
        {
          "output_type": "stream",
          "name": "stdout",
          "text": [
            "Train/Val shapes: (125759, 7) (31440, 7)\n"
          ]
        },
        {
          "output_type": "stream",
          "name": "stderr",
          "text": [
            "/app/.pip-target/timm/models/_factory.py:117: UserWarning: Mapping deprecated model name tf_efficientnet_b4_ns to current tf_efficientnet_b4.ns_jft_in1k.\n  model = create_fn(\n"
          ]
        },
        {
          "output_type": "stream",
          "name": "stdout",
          "text": [
            "Starting smoke training...\n"
          ]
        },
        {
          "output_type": "stream",
          "name": "stderr",
          "text": [
            "/tmp/ipykernel_196/3045649255.py:153: FutureWarning: `torch.cuda.amp.GradScaler(args...)` is deprecated. Please use `torch.amp.GradScaler('cuda', args...)` instead.\n  scaler = torch.cuda.amp.GradScaler(enabled=True)\n"
          ]
        },
        {
          "output_type": "stream",
          "name": "stderr",
          "text": [
            "Corrupt JPEG data: premature end of data segment\n"
          ]
        },
        {
          "output_type": "stream",
          "name": "stderr",
          "text": [
            "Corrupt JPEG data: premature end of data segment\n/tmp/ipykernel_196/3045649255.py:183: FutureWarning: `torch.cuda.amp.autocast(args...)` is deprecated. Please use `torch.amp.autocast('cuda', args...)` instead.\n  with torch.cuda.amp.autocast(True):\n"
          ]
        },
        {
          "output_type": "stream",
          "name": "stderr",
          "text": [
            "Corrupt JPEG data: premature end of data segment\n"
          ]
        },
        {
          "output_type": "stream",
          "name": "stderr",
          "text": [
            "Corrupt JPEG data: premature end of data segment\n"
          ]
        },
        {
          "output_type": "stream",
          "name": "stderr",
          "text": [
            "Corrupt JPEG data: premature end of data segment\n"
          ]
        },
        {
          "output_type": "stream",
          "name": "stderr",
          "text": [
            "Corrupt JPEG data: premature end of data segment\nCorrupt JPEG data: premature end of data segment\n"
          ]
        },
        {
          "output_type": "stream",
          "name": "stdout",
          "text": [
            "  step 20 loss 74.8383 elapsed 18.2s\n"
          ]
        },
        {
          "output_type": "stream",
          "name": "stderr",
          "text": [
            "Corrupt JPEG data: premature end of data segment\n"
          ]
        },
        {
          "output_type": "stream",
          "name": "stderr",
          "text": [
            "Corrupt JPEG data: premature end of data segment\n"
          ]
        },
        {
          "output_type": "stream",
          "name": "stderr",
          "text": [
            "Corrupt JPEG data: premature end of data segment\n"
          ]
        },
        {
          "output_type": "stream",
          "name": "stderr",
          "text": [
            "Corrupt JPEG data: premature end of data segment\n"
          ]
        },
        {
          "output_type": "stream",
          "name": "stderr",
          "text": [
            "Corrupt JPEG data: premature end of data segment\n"
          ]
        },
        {
          "output_type": "stream",
          "name": "stderr",
          "text": [
            "Corrupt JPEG data: premature end of data segment\n"
          ]
        },
        {
          "output_type": "stream",
          "name": "stdout",
          "text": [
            "  step 40 loss 80.5455 elapsed 22.6s\n"
          ]
        },
        {
          "output_type": "stream",
          "name": "stderr",
          "text": [
            "Corrupt JPEG data: premature end of data segment\n"
          ]
        },
        {
          "output_type": "stream",
          "name": "stderr",
          "text": [
            "Corrupt JPEG data: premature end of data segment\n"
          ]
        },
        {
          "output_type": "stream",
          "name": "stderr",
          "text": [
            "Corrupt JPEG data: premature end of data segment\n"
          ]
        },
        {
          "output_type": "stream",
          "name": "stderr",
          "text": [
            "Corrupt JPEG data: premature end of data segment\n"
          ]
        },
        {
          "output_type": "stream",
          "name": "stdout",
          "text": [
            "  step 60 loss 78.6718 elapsed 27.0s\n"
          ]
        },
        {
          "output_type": "stream",
          "name": "stderr",
          "text": [
            "Corrupt JPEG data: premature end of data segment\n"
          ]
        },
        {
          "output_type": "stream",
          "name": "stderr",
          "text": [
            "Corrupt JPEG data: premature end of data segment\n"
          ]
        },
        {
          "output_type": "stream",
          "name": "stderr",
          "text": [
            "Corrupt JPEG data: premature end of data segment\nCorrupt JPEG data: premature end of data segment\nCorrupt JPEG data: premature end of data segment\n"
          ]
        },
        {
          "output_type": "stream",
          "name": "stderr",
          "text": [
            "Corrupt JPEG data: premature end of data segment\n"
          ]
        },
        {
          "output_type": "stream",
          "name": "stdout",
          "text": [
            "  step 80 loss 75.1383 elapsed 31.4s\n"
          ]
        },
        {
          "output_type": "stream",
          "name": "stderr",
          "text": [
            "Corrupt JPEG data: premature end of data segment\n"
          ]
        },
        {
          "output_type": "stream",
          "name": "stderr",
          "text": [
            "Corrupt JPEG data: premature end of data segment\n"
          ]
        },
        {
          "output_type": "stream",
          "name": "stderr",
          "text": [
            "Corrupt JPEG data: premature end of data segment\n"
          ]
        },
        {
          "output_type": "stream",
          "name": "stdout",
          "text": [
            "  step 100 loss 74.0718 elapsed 35.8s\n"
          ]
        },
        {
          "output_type": "stream",
          "name": "stderr",
          "text": [
            "Corrupt JPEG data: premature end of data segment\n"
          ]
        },
        {
          "output_type": "stream",
          "name": "stderr",
          "text": [
            "Corrupt JPEG data: premature end of data segment\n"
          ]
        },
        {
          "output_type": "stream",
          "name": "stderr",
          "text": [
            "Corrupt JPEG data: premature end of data segment\nCorrupt JPEG data: premature end of data segment\n"
          ]
        },
        {
          "output_type": "stream",
          "name": "stderr",
          "text": [
            "Corrupt JPEG data: premature end of data segment\n"
          ]
        },
        {
          "output_type": "stream",
          "name": "stderr",
          "text": [
            "Corrupt JPEG data: premature end of data segment\n"
          ]
        },
        {
          "output_type": "stream",
          "name": "stdout",
          "text": [
            "  step 120 loss 75.3015 elapsed 40.2s\n"
          ]
        },
        {
          "output_type": "stream",
          "name": "stderr",
          "text": [
            "Corrupt JPEG data: premature end of data segment\n"
          ]
        },
        {
          "output_type": "stream",
          "name": "stderr",
          "text": [
            "Corrupt JPEG data: premature end of data segment\nCorrupt JPEG data: premature end of data segment\n"
          ]
        },
        {
          "output_type": "stream",
          "name": "stdout",
          "text": [
            "  step 140 loss 75.2068 elapsed 44.7s\n"
          ]
        },
        {
          "output_type": "stream",
          "name": "stderr",
          "text": [
            "Corrupt JPEG data: premature end of data segment\n"
          ]
        },
        {
          "output_type": "stream",
          "name": "stderr",
          "text": [
            "Corrupt JPEG data: premature end of data segment\n"
          ]
        },
        {
          "output_type": "stream",
          "name": "stderr",
          "text": [
            "Corrupt JPEG data: premature end of data segment\n"
          ]
        },
        {
          "output_type": "stream",
          "name": "stderr",
          "text": [
            "Corrupt JPEG data: premature end of data segment\nCorrupt JPEG data: premature end of data segment\n"
          ]
        },
        {
          "output_type": "stream",
          "name": "stderr",
          "text": [
            "Corrupt JPEG data: premature end of data segment\n"
          ]
        },
        {
          "output_type": "stream",
          "name": "stdout",
          "text": [
            "  step 160 loss 73.3570 elapsed 49.1s\n"
          ]
        },
        {
          "output_type": "stream",
          "name": "stderr",
          "text": [
            "Corrupt JPEG data: premature end of data segment\nCorrupt JPEG data: premature end of data segment\n"
          ]
        },
        {
          "output_type": "stream",
          "name": "stderr",
          "text": [
            "Corrupt JPEG data: premature end of data segment\n"
          ]
        },
        {
          "output_type": "stream",
          "name": "stderr",
          "text": [
            "Corrupt JPEG data: premature end of data segment\n"
          ]
        },
        {
          "output_type": "stream",
          "name": "stderr",
          "text": [
            "Corrupt JPEG data: premature end of data segment\n"
          ]
        },
        {
          "output_type": "stream",
          "name": "stdout",
          "text": [
            "  step 180 loss 77.3716 elapsed 53.5s\n"
          ]
        },
        {
          "output_type": "stream",
          "name": "stderr",
          "text": [
            "Corrupt JPEG data: premature end of data segment\nCorrupt JPEG data: premature end of data segment\n"
          ]
        },
        {
          "output_type": "stream",
          "name": "stderr",
          "text": [
            "Corrupt JPEG data: premature end of data segment\n"
          ]
        },
        {
          "output_type": "stream",
          "name": "stderr",
          "text": [
            "Corrupt JPEG data: premature end of data segment\nCorrupt JPEG data: premature end of data segment\n"
          ]
        },
        {
          "output_type": "stream",
          "name": "stderr",
          "text": [
            "Corrupt JPEG data: premature end of data segment\nCorrupt JPEG data: premature end of data segment\nCorrupt JPEG data: premature end of data segment\n"
          ]
        },
        {
          "output_type": "stream",
          "name": "stdout",
          "text": [
            "  step 200 loss 75.8020 elapsed 57.9s\n"
          ]
        },
        {
          "output_type": "stream",
          "name": "stderr",
          "text": [
            "Corrupt JPEG data: premature end of data segment\n"
          ]
        },
        {
          "output_type": "stream",
          "name": "stderr",
          "text": [
            "Corrupt JPEG data: premature end of data segment\nCorrupt JPEG data: premature end of data segment\n"
          ]
        },
        {
          "output_type": "stream",
          "name": "stderr",
          "text": [
            "Corrupt JPEG data: premature end of data segment\n"
          ]
        },
        {
          "output_type": "stream",
          "name": "stdout",
          "text": [
            "  step 220 loss 76.3466 elapsed 62.3s\n"
          ]
        },
        {
          "output_type": "stream",
          "name": "stderr",
          "text": [
            "Corrupt JPEG data: premature end of data segment\nCorrupt JPEG data: premature end of data segment\n"
          ]
        },
        {
          "output_type": "stream",
          "name": "stderr",
          "text": [
            "Corrupt JPEG data: premature end of data segment\nCorrupt JPEG data: premature end of data segment\n"
          ]
        },
        {
          "output_type": "stream",
          "name": "stderr",
          "text": [
            "Corrupt JPEG data: premature end of data segment\n"
          ]
        },
        {
          "output_type": "stream",
          "name": "stderr",
          "text": [
            "Corrupt JPEG data: premature end of data segment\n"
          ]
        },
        {
          "output_type": "stream",
          "name": "stderr",
          "text": [
            "Corrupt JPEG data: premature end of data segment\nCorrupt JPEG data: premature end of data segment\n"
          ]
        },
        {
          "output_type": "stream",
          "name": "stdout",
          "text": [
            "  step 240 loss 75.4303 elapsed 66.7s\n"
          ]
        },
        {
          "output_type": "stream",
          "name": "stderr",
          "text": [
            "Corrupt JPEG data: premature end of data segment\n"
          ]
        },
        {
          "output_type": "stream",
          "name": "stderr",
          "text": [
            "Corrupt JPEG data: premature end of data segment\n"
          ]
        },
        {
          "output_type": "stream",
          "name": "stderr",
          "text": [
            "Corrupt JPEG data: premature end of data segment\n"
          ]
        },
        {
          "output_type": "stream",
          "name": "stderr",
          "text": [
            "Corrupt JPEG data: premature end of data segment\n"
          ]
        },
        {
          "output_type": "stream",
          "name": "stderr",
          "text": [
            "Corrupt JPEG data: premature end of data segment\nCorrupt JPEG data: premature end of data segment\n"
          ]
        },
        {
          "output_type": "stream",
          "name": "stdout",
          "text": [
            "  step 260 loss 74.1999 elapsed 71.1s\n"
          ]
        },
        {
          "output_type": "stream",
          "name": "stderr",
          "text": [
            "Corrupt JPEG data: premature end of data segment\nCorrupt JPEG data: premature end of data segment\nCorrupt JPEG data: premature end of data segment\n"
          ]
        },
        {
          "output_type": "stream",
          "name": "stderr",
          "text": [
            "Corrupt JPEG data: premature end of data segment\n"
          ]
        },
        {
          "output_type": "stream",
          "name": "stderr",
          "text": [
            "Corrupt JPEG data: premature end of data segment\n"
          ]
        },
        {
          "output_type": "stream",
          "name": "stderr",
          "text": [
            "Corrupt JPEG data: premature end of data segment\nCorrupt JPEG data: premature end of data segment\n"
          ]
        },
        {
          "output_type": "stream",
          "name": "stderr",
          "text": [
            "Corrupt JPEG data: premature end of data segment\n"
          ]
        },
        {
          "output_type": "stream",
          "name": "stdout",
          "text": [
            "  step 280 loss 73.6523 elapsed 75.6s\n"
          ]
        },
        {
          "output_type": "stream",
          "name": "stderr",
          "text": [
            "Corrupt JPEG data: premature end of data segment\n"
          ]
        },
        {
          "output_type": "stream",
          "name": "stderr",
          "text": [
            "Corrupt JPEG data: premature end of data segment\nCorrupt JPEG data: premature end of data segment\n"
          ]
        },
        {
          "output_type": "stream",
          "name": "stderr",
          "text": [
            "Corrupt JPEG data: premature end of data segment\n"
          ]
        },
        {
          "output_type": "stream",
          "name": "stderr",
          "text": [
            "Corrupt JPEG data: premature end of data segment\n"
          ]
        },
        {
          "output_type": "stream",
          "name": "stdout",
          "text": [
            "  step 300 loss 71.8303 elapsed 80.0s\n"
          ]
        },
        {
          "output_type": "stream",
          "name": "stderr",
          "text": [
            "Corrupt JPEG data: premature end of data segment\n"
          ]
        },
        {
          "output_type": "stream",
          "name": "stderr",
          "text": [
            "Corrupt JPEG data: premature end of data segment\n"
          ]
        },
        {
          "output_type": "stream",
          "name": "stderr",
          "text": [
            "/tmp/ipykernel_196/3045649255.py:163: FutureWarning: `torch.cuda.amp.autocast(args...)` is deprecated. Please use `torch.amp.autocast('cuda', args...)` instead.\n  with torch.cuda.amp.autocast(True):\n"
          ]
        },
        {
          "output_type": "stream",
          "name": "stderr",
          "text": [
            "Corrupt JPEG data: premature end of data segment\n"
          ]
        },
        {
          "output_type": "stream",
          "name": "stderr",
          "text": [
            "Corrupt JPEG data: premature end of data segment\nCorrupt JPEG data: premature end of data segment\n"
          ]
        },
        {
          "output_type": "stream",
          "name": "stderr",
          "text": [
            "Corrupt JPEG data: premature end of data segment\nCorrupt JPEG data: premature end of data segment\nCorrupt JPEG data: premature end of data segment\nCorrupt JPEG data: premature end of data segment\n"
          ]
        },
        {
          "output_type": "stream",
          "name": "stderr",
          "text": [
            "Corrupt JPEG data: premature end of data segment\nCorrupt JPEG data: premature end of data segment\nCorrupt JPEG data: premature end of data segment\nCorrupt JPEG data: premature end of data segment\n"
          ]
        },
        {
          "output_type": "stream",
          "name": "stderr",
          "text": [
            "Corrupt JPEG data: premature end of data segment\nCorrupt JPEG data: premature end of data segment\nCorrupt JPEG data: premature end of data segment\n"
          ]
        },
        {
          "output_type": "stream",
          "name": "stderr",
          "text": [
            "Corrupt JPEG data: premature end of data segment\n"
          ]
        },
        {
          "output_type": "stream",
          "name": "stderr",
          "text": [
            "Corrupt JPEG data: premature end of data segment\n"
          ]
        },
        {
          "output_type": "stream",
          "name": "stderr",
          "text": [
            "Corrupt JPEG data: premature end of data segment\n"
          ]
        },
        {
          "output_type": "stream",
          "name": "stderr",
          "text": [
            "Corrupt JPEG data: premature end of data segment\n"
          ]
        },
        {
          "output_type": "stream",
          "name": "stderr",
          "text": [
            "Corrupt JPEG data: premature end of data segment\n"
          ]
        },
        {
          "output_type": "stream",
          "name": "stderr",
          "text": [
            "Corrupt JPEG data: premature end of data segment\nCorrupt JPEG data: premature end of data segment\nCorrupt JPEG data: premature end of data segment\n"
          ]
        },
        {
          "output_type": "stream",
          "name": "stderr",
          "text": [
            "Corrupt JPEG data: premature end of data segment\nCorrupt JPEG data: premature end of data segment\nCorrupt JPEG data: premature end of data segment\nCorrupt JPEG data: premature end of data segment\n"
          ]
        },
        {
          "output_type": "stream",
          "name": "stderr",
          "text": [
            "Corrupt JPEG data: premature end of data segment\nCorrupt JPEG data: premature end of data segment\nCorrupt JPEG data: premature end of data segment\n"
          ]
        },
        {
          "output_type": "stream",
          "name": "stderr",
          "text": [
            "Corrupt JPEG data: premature end of data segment\nCorrupt JPEG data: premature end of data segment\n"
          ]
        },
        {
          "output_type": "stream",
          "name": "stderr",
          "text": [
            "Corrupt JPEG data: premature end of data segment\nCorrupt JPEG data: premature end of data segment\nCorrupt JPEG data: premature end of data segment\n"
          ]
        },
        {
          "output_type": "stream",
          "name": "stderr",
          "text": [
            "Corrupt JPEG data: premature end of data segment\nCorrupt JPEG data: premature end of data segment\nCorrupt JPEG data: premature end of data segment\nCorrupt JPEG data: premature end of data segment\n"
          ]
        },
        {
          "output_type": "stream",
          "name": "stderr",
          "text": [
            "Corrupt JPEG data: premature end of data segment\n"
          ]
        },
        {
          "output_type": "stream",
          "name": "stderr",
          "text": [
            "Corrupt JPEG data: premature end of data segment\nCorrupt JPEG data: premature end of data segment\n"
          ]
        },
        {
          "output_type": "stream",
          "name": "stderr",
          "text": [
            "Corrupt JPEG data: premature end of data segment\nCorrupt JPEG data: premature end of data segment\n"
          ]
        },
        {
          "output_type": "stream",
          "name": "stderr",
          "text": [
            "Corrupt JPEG data: premature end of data segment\nCorrupt JPEG data: premature end of data segment\nCorrupt JPEG data: premature end of data segment\nCorrupt JPEG data: premature end of data segment\n"
          ]
        },
        {
          "output_type": "stream",
          "name": "stderr",
          "text": [
            "Corrupt JPEG data: premature end of data segment\n"
          ]
        },
        {
          "output_type": "stream",
          "name": "stderr",
          "text": [
            "Corrupt JPEG data: premature end of data segment\nCorrupt JPEG data: premature end of data segment\n"
          ]
        },
        {
          "output_type": "stream",
          "name": "stderr",
          "text": [
            "Corrupt JPEG data: premature end of data segment\n"
          ]
        },
        {
          "output_type": "stream",
          "name": "stderr",
          "text": [
            "Corrupt JPEG data: premature end of data segment\nCorrupt JPEG data: premature end of data segment\n"
          ]
        },
        {
          "output_type": "stream",
          "name": "stderr",
          "text": [
            "Corrupt JPEG data: premature end of data segment\nCorrupt JPEG data: premature end of data segment\nCorrupt JPEG data: premature end of data segment\nCorrupt JPEG data: premature end of data segment\nCorrupt JPEG data: premature end of data segment\nCorrupt JPEG data: premature end of data segment\n"
          ]
        },
        {
          "output_type": "stream",
          "name": "stderr",
          "text": [
            "Corrupt JPEG data: premature end of data segment\n"
          ]
        },
        {
          "output_type": "stream",
          "name": "stderr",
          "text": [
            "Corrupt JPEG data: premature end of data segment\n"
          ]
        },
        {
          "output_type": "stream",
          "name": "stderr",
          "text": [
            "Corrupt JPEG data: premature end of data segment\nCorrupt JPEG data: premature end of data segment\n"
          ]
        },
        {
          "output_type": "stream",
          "name": "stdout",
          "text": [
            "  Eval step 100/983 elapsed 11.4s\n"
          ]
        },
        {
          "output_type": "stream",
          "name": "stderr",
          "text": [
            "Corrupt JPEG data: premature end of data segment\nCorrupt JPEG data: premature end of data segment\n"
          ]
        },
        {
          "output_type": "stream",
          "name": "stderr",
          "text": [
            "Corrupt JPEG data: premature end of data segment\n"
          ]
        },
        {
          "output_type": "stream",
          "name": "stderr",
          "text": [
            "Corrupt JPEG data: premature end of data segment\nCorrupt JPEG data: premature end of data segment\n"
          ]
        },
        {
          "output_type": "stream",
          "name": "stderr",
          "text": [
            "Corrupt JPEG data: premature end of data segment\nCorrupt JPEG data: premature end of data segment\nCorrupt JPEG data: premature end of data segment\n"
          ]
        },
        {
          "output_type": "stream",
          "name": "stderr",
          "text": [
            "Corrupt JPEG data: premature end of data segment\n"
          ]
        },
        {
          "output_type": "stream",
          "name": "stderr",
          "text": [
            "Corrupt JPEG data: premature end of data segment\n"
          ]
        },
        {
          "output_type": "stream",
          "name": "stderr",
          "text": [
            "Corrupt JPEG data: premature end of data segment\nCorrupt JPEG data: premature end of data segment\nCorrupt JPEG data: premature end of data segment\nCorrupt JPEG data: premature end of data segment\nCorrupt JPEG data: premature end of data segment\n"
          ]
        },
        {
          "output_type": "stream",
          "name": "stderr",
          "text": [
            "Corrupt JPEG data: premature end of data segment\nCorrupt JPEG data: premature end of data segment\nCorrupt JPEG data: premature end of data segment\nCorrupt JPEG data: premature end of data segment\n"
          ]
        },
        {
          "output_type": "stream",
          "name": "stderr",
          "text": [
            "Corrupt JPEG data: premature end of data segment\nCorrupt JPEG data: premature end of data segment\nCorrupt JPEG data: premature end of data segment\nCorrupt JPEG data: premature end of data segment\n"
          ]
        },
        {
          "output_type": "stream",
          "name": "stderr",
          "text": [
            "Corrupt JPEG data: premature end of data segment\nCorrupt JPEG data: premature end of data segment\nCorrupt JPEG data: premature end of data segment\nCorrupt JPEG data: premature end of data segment\n"
          ]
        },
        {
          "output_type": "stream",
          "name": "stderr",
          "text": [
            "Corrupt JPEG data: premature end of data segment\nCorrupt JPEG data: premature end of data segment\n"
          ]
        },
        {
          "output_type": "stream",
          "name": "stderr",
          "text": [
            "Corrupt JPEG data: premature end of data segment\nCorrupt JPEG data: premature end of data segment\nCorrupt JPEG data: premature end of data segment\n"
          ]
        },
        {
          "output_type": "stream",
          "name": "stderr",
          "text": [
            "Corrupt JPEG data: premature end of data segment\n"
          ]
        },
        {
          "output_type": "stream",
          "name": "stderr",
          "text": [
            "Corrupt JPEG data: premature end of data segment\n"
          ]
        },
        {
          "output_type": "stream",
          "name": "stderr",
          "text": [
            "Corrupt JPEG data: premature end of data segment\n"
          ]
        },
        {
          "output_type": "stream",
          "name": "stderr",
          "text": [
            "Corrupt JPEG data: premature end of data segment\n"
          ]
        },
        {
          "output_type": "stream",
          "name": "stderr",
          "text": [
            "Corrupt JPEG data: premature end of data segment\nCorrupt JPEG data: premature end of data segment\n"
          ]
        },
        {
          "output_type": "stream",
          "name": "stderr",
          "text": [
            "Corrupt JPEG data: premature end of data segment\n"
          ]
        },
        {
          "output_type": "stream",
          "name": "stderr",
          "text": [
            "Corrupt JPEG data: premature end of data segment\n"
          ]
        },
        {
          "output_type": "stream",
          "name": "stderr",
          "text": [
            "Corrupt JPEG data: premature end of data segment\nCorrupt JPEG data: premature end of data segment\n"
          ]
        },
        {
          "output_type": "stream",
          "name": "stderr",
          "text": [
            "Corrupt JPEG data: premature end of data segment\nCorrupt JPEG data: premature end of data segment\nCorrupt JPEG data: premature end of data segment\nCorrupt JPEG data: premature end of data segment\n"
          ]
        },
        {
          "output_type": "stream",
          "name": "stderr",
          "text": [
            "Corrupt JPEG data: premature end of data segment\nCorrupt JPEG data: premature end of data segment\n"
          ]
        },
        {
          "output_type": "stream",
          "name": "stderr",
          "text": [
            "Corrupt JPEG data: premature end of data segment\nCorrupt JPEG data: premature end of data segment\n"
          ]
        },
        {
          "output_type": "stream",
          "name": "stderr",
          "text": [
            "Corrupt JPEG data: premature end of data segment\nCorrupt JPEG data: premature end of data segment\n"
          ]
        },
        {
          "output_type": "stream",
          "name": "stderr",
          "text": [
            "Corrupt JPEG data: premature end of data segment\nCorrupt JPEG data: premature end of data segment\n"
          ]
        },
        {
          "output_type": "stream",
          "name": "stderr",
          "text": [
            "Corrupt JPEG data: premature end of data segment\nCorrupt JPEG data: premature end of data segment\nCorrupt JPEG data: premature end of data segment\n"
          ]
        },
        {
          "output_type": "stream",
          "name": "stderr",
          "text": [
            "Corrupt JPEG data: premature end of data segment\n"
          ]
        },
        {
          "output_type": "stream",
          "name": "stderr",
          "text": [
            "Corrupt JPEG data: premature end of data segment\nCorrupt JPEG data: premature end of data segment\nCorrupt JPEG data: premature end of data segment\n"
          ]
        },
        {
          "output_type": "stream",
          "name": "stderr",
          "text": [
            "Corrupt JPEG data: premature end of data segment\nCorrupt JPEG data: premature end of data segment\n"
          ]
        },
        {
          "output_type": "stream",
          "name": "stdout",
          "text": [
            "  Eval step 200/983 elapsed 21.9s\n"
          ]
        },
        {
          "output_type": "stream",
          "name": "stderr",
          "text": [
            "Corrupt JPEG data: premature end of data segment\nCorrupt JPEG data: premature end of data segment\n"
          ]
        },
        {
          "output_type": "stream",
          "name": "stderr",
          "text": [
            "Corrupt JPEG data: premature end of data segment\nCorrupt JPEG data: premature end of data segment\nCorrupt JPEG data: premature end of data segment\n"
          ]
        },
        {
          "output_type": "stream",
          "name": "stderr",
          "text": [
            "Corrupt JPEG data: premature end of data segment\nCorrupt JPEG data: premature end of data segment\nCorrupt JPEG data: premature end of data segment\nCorrupt JPEG data: premature end of data segment\n"
          ]
        },
        {
          "output_type": "stream",
          "name": "stderr",
          "text": [
            "Corrupt JPEG data: premature end of data segment\n"
          ]
        },
        {
          "output_type": "stream",
          "name": "stderr",
          "text": [
            "Corrupt JPEG data: premature end of data segment\nCorrupt JPEG data: premature end of data segment\n"
          ]
        },
        {
          "output_type": "stream",
          "name": "stderr",
          "text": [
            "Corrupt JPEG data: premature end of data segment\nCorrupt JPEG data: premature end of data segment\nCorrupt JPEG data: premature end of data segment\n"
          ]
        },
        {
          "output_type": "stream",
          "name": "stderr",
          "text": [
            "Corrupt JPEG data: premature end of data segment\nCorrupt JPEG data: premature end of data segment\n"
          ]
        },
        {
          "output_type": "stream",
          "name": "stderr",
          "text": [
            "Corrupt JPEG data: premature end of data segment\nCorrupt JPEG data: premature end of data segment\n"
          ]
        },
        {
          "output_type": "stream",
          "name": "stderr",
          "text": [
            "Corrupt JPEG data: premature end of data segment\nCorrupt JPEG data: premature end of data segment\nCorrupt JPEG data: premature end of data segment\n"
          ]
        },
        {
          "output_type": "stream",
          "name": "stderr",
          "text": [
            "Corrupt JPEG data: premature end of data segment\nCorrupt JPEG data: premature end of data segment\nCorrupt JPEG data: premature end of data segment\n"
          ]
        },
        {
          "output_type": "stream",
          "name": "stderr",
          "text": [
            "Corrupt JPEG data: premature end of data segment\n"
          ]
        },
        {
          "output_type": "stream",
          "name": "stderr",
          "text": [
            "Corrupt JPEG data: premature end of data segment\n"
          ]
        },
        {
          "output_type": "stream",
          "name": "stderr",
          "text": [
            "Corrupt JPEG data: premature end of data segment\nCorrupt JPEG data: premature end of data segment\nCorrupt JPEG data: premature end of data segment\nCorrupt JPEG data: premature end of data segment\n"
          ]
        },
        {
          "output_type": "stream",
          "name": "stderr",
          "text": [
            "Corrupt JPEG data: premature end of data segment\nCorrupt JPEG data: premature end of data segment\n"
          ]
        },
        {
          "output_type": "stream",
          "name": "stderr",
          "text": [
            "Corrupt JPEG data: premature end of data segment\nCorrupt JPEG data: premature end of data segment\n"
          ]
        },
        {
          "output_type": "stream",
          "name": "stderr",
          "text": [
            "Corrupt JPEG data: premature end of data segment\n"
          ]
        },
        {
          "output_type": "stream",
          "name": "stderr",
          "text": [
            "Corrupt JPEG data: premature end of data segment\nCorrupt JPEG data: premature end of data segment\nCorrupt JPEG data: premature end of data segment\nCorrupt JPEG data: premature end of data segment\nCorrupt JPEG data: premature end of data segment\n"
          ]
        },
        {
          "output_type": "stream",
          "name": "stderr",
          "text": [
            "Corrupt JPEG data: premature end of data segment\nCorrupt JPEG data: premature end of data segment\nCorrupt JPEG data: premature end of data segment\n"
          ]
        },
        {
          "output_type": "stream",
          "name": "stderr",
          "text": [
            "Corrupt JPEG data: premature end of data segment\nCorrupt JPEG data: premature end of data segment\n"
          ]
        },
        {
          "output_type": "stream",
          "name": "stderr",
          "text": [
            "Corrupt JPEG data: premature end of data segment\nCorrupt JPEG data: premature end of data segment\nCorrupt JPEG data: premature end of data segment\n"
          ]
        },
        {
          "output_type": "stream",
          "name": "stderr",
          "text": [
            "Corrupt JPEG data: premature end of data segment\nCorrupt JPEG data: premature end of data segment\nCorrupt JPEG data: premature end of data segment\nCorrupt JPEG data: premature end of data segment\n"
          ]
        },
        {
          "output_type": "stream",
          "name": "stderr",
          "text": [
            "Corrupt JPEG data: premature end of data segment\nCorrupt JPEG data: premature end of data segment\nCorrupt JPEG data: premature end of data segment\n"
          ]
        },
        {
          "output_type": "stream",
          "name": "stderr",
          "text": [
            "Corrupt JPEG data: premature end of data segment\nCorrupt JPEG data: premature end of data segment\n"
          ]
        },
        {
          "output_type": "stream",
          "name": "stderr",
          "text": [
            "Corrupt JPEG data: premature end of data segment\nCorrupt JPEG data: premature end of data segment\nCorrupt JPEG data: premature end of data segment\nCorrupt JPEG data: premature end of data segment\n"
          ]
        },
        {
          "output_type": "stream",
          "name": "stderr",
          "text": [
            "Corrupt JPEG data: premature end of data segment\nCorrupt JPEG data: premature end of data segment\nCorrupt JPEG data: premature end of data segment\n"
          ]
        },
        {
          "output_type": "stream",
          "name": "stdout",
          "text": [
            "  Eval step 300/983 elapsed 32.0s\n"
          ]
        },
        {
          "output_type": "stream",
          "name": "stderr",
          "text": [
            "Corrupt JPEG data: premature end of data segment\nCorrupt JPEG data: premature end of data segment\nCorrupt JPEG data: premature end of data segment\n"
          ]
        },
        {
          "output_type": "stream",
          "name": "stderr",
          "text": [
            "Corrupt JPEG data: premature end of data segment\nCorrupt JPEG data: premature end of data segment\n"
          ]
        },
        {
          "output_type": "stream",
          "name": "stderr",
          "text": [
            "Corrupt JPEG data: premature end of data segment\nCorrupt JPEG data: premature end of data segment\n"
          ]
        },
        {
          "output_type": "stream",
          "name": "stderr",
          "text": [
            "Corrupt JPEG data: premature end of data segment\nCorrupt JPEG data: premature end of data segment\n"
          ]
        },
        {
          "output_type": "stream",
          "name": "stderr",
          "text": [
            "Corrupt JPEG data: premature end of data segment\nCorrupt JPEG data: premature end of data segment\nCorrupt JPEG data: premature end of data segment\n"
          ]
        },
        {
          "output_type": "stream",
          "name": "stderr",
          "text": [
            "Corrupt JPEG data: premature end of data segment\n"
          ]
        },
        {
          "output_type": "stream",
          "name": "stderr",
          "text": [
            "Corrupt JPEG data: premature end of data segment\nCorrupt JPEG data: premature end of data segment\n"
          ]
        },
        {
          "output_type": "stream",
          "name": "stderr",
          "text": [
            "Corrupt JPEG data: premature end of data segment\nCorrupt JPEG data: premature end of data segment\nCorrupt JPEG data: premature end of data segment\n"
          ]
        },
        {
          "output_type": "stream",
          "name": "stderr",
          "text": [
            "Corrupt JPEG data: premature end of data segment\nCorrupt JPEG data: premature end of data segment\nCorrupt JPEG data: premature end of data segment\nCorrupt JPEG data: premature end of data segment\nCorrupt JPEG data: premature end of data segment\n"
          ]
        },
        {
          "output_type": "stream",
          "name": "stderr",
          "text": [
            "Corrupt JPEG data: premature end of data segment\nCorrupt JPEG data: premature end of data segment\nCorrupt JPEG data: premature end of data segment\n"
          ]
        },
        {
          "output_type": "stream",
          "name": "stderr",
          "text": [
            "Corrupt JPEG data: premature end of data segment\nCorrupt JPEG data: premature end of data segment\n"
          ]
        },
        {
          "output_type": "stream",
          "name": "stderr",
          "text": [
            "Corrupt JPEG data: premature end of data segment\nCorrupt JPEG data: premature end of data segment\nCorrupt JPEG data: premature end of data segment\n"
          ]
        },
        {
          "output_type": "stream",
          "name": "stderr",
          "text": [
            "Corrupt JPEG data: premature end of data segment\n"
          ]
        },
        {
          "output_type": "stream",
          "name": "stderr",
          "text": [
            "Corrupt JPEG data: premature end of data segment\n"
          ]
        },
        {
          "output_type": "stream",
          "name": "stderr",
          "text": [
            "Corrupt JPEG data: premature end of data segment\n"
          ]
        },
        {
          "output_type": "stream",
          "name": "stderr",
          "text": [
            "Corrupt JPEG data: premature end of data segment\n"
          ]
        },
        {
          "output_type": "stream",
          "name": "stderr",
          "text": [
            "Corrupt JPEG data: premature end of data segment\nCorrupt JPEG data: premature end of data segment\n"
          ]
        },
        {
          "output_type": "stream",
          "name": "stderr",
          "text": [
            "Corrupt JPEG data: premature end of data segment\n"
          ]
        },
        {
          "output_type": "stream",
          "name": "stderr",
          "text": [
            "Corrupt JPEG data: premature end of data segment\n"
          ]
        },
        {
          "output_type": "stream",
          "name": "stderr",
          "text": [
            "Corrupt JPEG data: premature end of data segment\nCorrupt JPEG data: premature end of data segment\n"
          ]
        },
        {
          "output_type": "stream",
          "name": "stderr",
          "text": [
            "Corrupt JPEG data: premature end of data segment\nCorrupt JPEG data: premature end of data segment\nCorrupt JPEG data: premature end of data segment\nCorrupt JPEG data: premature end of data segment\n"
          ]
        },
        {
          "output_type": "stream",
          "name": "stderr",
          "text": [
            "Corrupt JPEG data: premature end of data segment\nCorrupt JPEG data: premature end of data segment\n"
          ]
        },
        {
          "output_type": "stream",
          "name": "stderr",
          "text": [
            "Corrupt JPEG data: premature end of data segment\nCorrupt JPEG data: premature end of data segment\nCorrupt JPEG data: premature end of data segment\nCorrupt JPEG data: premature end of data segment\n"
          ]
        },
        {
          "output_type": "stream",
          "name": "stderr",
          "text": [
            "Corrupt JPEG data: premature end of data segment\nCorrupt JPEG data: premature end of data segment\n"
          ]
        },
        {
          "output_type": "stream",
          "name": "stderr",
          "text": [
            "Corrupt JPEG data: premature end of data segment\n"
          ]
        },
        {
          "output_type": "stream",
          "name": "stderr",
          "text": [
            "Corrupt JPEG data: premature end of data segment\nCorrupt JPEG data: premature end of data segment\n"
          ]
        },
        {
          "output_type": "stream",
          "name": "stderr",
          "text": [
            "Corrupt JPEG data: premature end of data segment\n"
          ]
        },
        {
          "output_type": "stream",
          "name": "stderr",
          "text": [
            "Corrupt JPEG data: premature end of data segment\nCorrupt JPEG data: premature end of data segment\nCorrupt JPEG data: premature end of data segment\n"
          ]
        },
        {
          "output_type": "stream",
          "name": "stderr",
          "text": [
            "Corrupt JPEG data: premature end of data segment\n"
          ]
        },
        {
          "output_type": "stream",
          "name": "stderr",
          "text": [
            "Corrupt JPEG data: premature end of data segment\n"
          ]
        },
        {
          "output_type": "stream",
          "name": "stdout",
          "text": [
            "  Eval step 400/983 elapsed 42.5s\n"
          ]
        },
        {
          "output_type": "stream",
          "name": "stderr",
          "text": [
            "Corrupt JPEG data: premature end of data segment\n"
          ]
        },
        {
          "output_type": "stream",
          "name": "stderr",
          "text": [
            "Corrupt JPEG data: premature end of data segment\n"
          ]
        },
        {
          "output_type": "stream",
          "name": "stderr",
          "text": [
            "Corrupt JPEG data: premature end of data segment\nCorrupt JPEG data: premature end of data segment\n"
          ]
        },
        {
          "output_type": "stream",
          "name": "stderr",
          "text": [
            "Corrupt JPEG data: premature end of data segment\n"
          ]
        },
        {
          "output_type": "stream",
          "name": "stderr",
          "text": [
            "Corrupt JPEG data: premature end of data segment\n"
          ]
        },
        {
          "output_type": "stream",
          "name": "stderr",
          "text": [
            "Corrupt JPEG data: premature end of data segment\n"
          ]
        },
        {
          "output_type": "stream",
          "name": "stderr",
          "text": [
            "Corrupt JPEG data: premature end of data segment\nCorrupt JPEG data: premature end of data segment\n"
          ]
        },
        {
          "output_type": "stream",
          "name": "stderr",
          "text": [
            "Corrupt JPEG data: premature end of data segment\nCorrupt JPEG data: premature end of data segment\n"
          ]
        },
        {
          "output_type": "stream",
          "name": "stderr",
          "text": [
            "Corrupt JPEG data: premature end of data segment\nCorrupt JPEG data: premature end of data segment\nCorrupt JPEG data: premature end of data segment\nCorrupt JPEG data: premature end of data segment\n"
          ]
        },
        {
          "output_type": "stream",
          "name": "stderr",
          "text": [
            "Corrupt JPEG data: premature end of data segment\n"
          ]
        },
        {
          "output_type": "stream",
          "name": "stderr",
          "text": [
            "Corrupt JPEG data: premature end of data segment\nCorrupt JPEG data: premature end of data segment\n"
          ]
        },
        {
          "output_type": "stream",
          "name": "stderr",
          "text": [
            "Corrupt JPEG data: premature end of data segment\n"
          ]
        },
        {
          "output_type": "stream",
          "name": "stderr",
          "text": [
            "Corrupt JPEG data: premature end of data segment\n"
          ]
        },
        {
          "output_type": "stream",
          "name": "stderr",
          "text": [
            "Corrupt JPEG data: premature end of data segment\nCorrupt JPEG data: premature end of data segment\n"
          ]
        },
        {
          "output_type": "stream",
          "name": "stderr",
          "text": [
            "Corrupt JPEG data: premature end of data segment\n"
          ]
        },
        {
          "output_type": "stream",
          "name": "stderr",
          "text": [
            "Corrupt JPEG data: premature end of data segment\nCorrupt JPEG data: premature end of data segment\n"
          ]
        },
        {
          "output_type": "stream",
          "name": "stderr",
          "text": [
            "Corrupt JPEG data: premature end of data segment\n"
          ]
        },
        {
          "output_type": "stream",
          "name": "stderr",
          "text": [
            "Corrupt JPEG data: premature end of data segment\n"
          ]
        },
        {
          "output_type": "stream",
          "name": "stderr",
          "text": [
            "Corrupt JPEG data: premature end of data segment\nCorrupt JPEG data: premature end of data segment\n"
          ]
        },
        {
          "output_type": "stream",
          "name": "stderr",
          "text": [
            "Corrupt JPEG data: premature end of data segment\nCorrupt JPEG data: premature end of data segment\n"
          ]
        },
        {
          "output_type": "stream",
          "name": "stderr",
          "text": [
            "Corrupt JPEG data: premature end of data segment\nCorrupt JPEG data: premature end of data segment\nCorrupt JPEG data: premature end of data segment\n"
          ]
        },
        {
          "output_type": "stream",
          "name": "stderr",
          "text": [
            "Corrupt JPEG data: premature end of data segment\nCorrupt JPEG data: premature end of data segment\nCorrupt JPEG data: premature end of data segment\n"
          ]
        },
        {
          "output_type": "stream",
          "name": "stderr",
          "text": [
            "Corrupt JPEG data: premature end of data segment\n"
          ]
        },
        {
          "output_type": "stream",
          "name": "stderr",
          "text": [
            "Corrupt JPEG data: premature end of data segment\n"
          ]
        },
        {
          "output_type": "stream",
          "name": "stderr",
          "text": [
            "Corrupt JPEG data: premature end of data segment\nCorrupt JPEG data: premature end of data segment\nCorrupt JPEG data: premature end of data segment\n"
          ]
        },
        {
          "output_type": "stream",
          "name": "stderr",
          "text": [
            "Corrupt JPEG data: premature end of data segment\nCorrupt JPEG data: premature end of data segment\nCorrupt JPEG data: premature end of data segment\n"
          ]
        },
        {
          "output_type": "stream",
          "name": "stderr",
          "text": [
            "Corrupt JPEG data: premature end of data segment\nCorrupt JPEG data: premature end of data segment\n"
          ]
        },
        {
          "output_type": "stream",
          "name": "stdout",
          "text": [
            "  Eval step 500/983 elapsed 53.0s\n"
          ]
        },
        {
          "output_type": "stream",
          "name": "stderr",
          "text": [
            "Corrupt JPEG data: premature end of data segment\n"
          ]
        },
        {
          "output_type": "stream",
          "name": "stderr",
          "text": [
            "Corrupt JPEG data: premature end of data segment\n"
          ]
        },
        {
          "output_type": "stream",
          "name": "stderr",
          "text": [
            "Corrupt JPEG data: premature end of data segment\nCorrupt JPEG data: premature end of data segment\n"
          ]
        },
        {
          "output_type": "stream",
          "name": "stderr",
          "text": [
            "Corrupt JPEG data: premature end of data segment\nCorrupt JPEG data: premature end of data segment\n"
          ]
        },
        {
          "output_type": "stream",
          "name": "stderr",
          "text": [
            "Corrupt JPEG data: premature end of data segment\n"
          ]
        },
        {
          "output_type": "stream",
          "name": "stderr",
          "text": [
            "Corrupt JPEG data: premature end of data segment\nCorrupt JPEG data: premature end of data segment\n"
          ]
        },
        {
          "output_type": "stream",
          "name": "stderr",
          "text": [
            "Corrupt JPEG data: premature end of data segment\nCorrupt JPEG data: premature end of data segment\n"
          ]
        },
        {
          "output_type": "stream",
          "name": "stderr",
          "text": [
            "Corrupt JPEG data: premature end of data segment\n"
          ]
        },
        {
          "output_type": "stream",
          "name": "stderr",
          "text": [
            "Corrupt JPEG data: premature end of data segment\nCorrupt JPEG data: premature end of data segment\n"
          ]
        },
        {
          "output_type": "stream",
          "name": "stderr",
          "text": [
            "Corrupt JPEG data: premature end of data segment\nCorrupt JPEG data: premature end of data segment\nCorrupt JPEG data: premature end of data segment\n"
          ]
        },
        {
          "output_type": "stream",
          "name": "stderr",
          "text": [
            "Corrupt JPEG data: premature end of data segment\nCorrupt JPEG data: premature end of data segment\n"
          ]
        },
        {
          "output_type": "stream",
          "name": "stderr",
          "text": [
            "Corrupt JPEG data: premature end of data segment\nCorrupt JPEG data: premature end of data segment\n"
          ]
        },
        {
          "output_type": "stream",
          "name": "stderr",
          "text": [
            "Corrupt JPEG data: premature end of data segment\n"
          ]
        },
        {
          "output_type": "stream",
          "name": "stderr",
          "text": [
            "Corrupt JPEG data: premature end of data segment\n"
          ]
        },
        {
          "output_type": "stream",
          "name": "stderr",
          "text": [
            "Corrupt JPEG data: premature end of data segment\nCorrupt JPEG data: premature end of data segment\n"
          ]
        },
        {
          "output_type": "stream",
          "name": "stderr",
          "text": [
            "Corrupt JPEG data: premature end of data segment\nCorrupt JPEG data: premature end of data segment\nCorrupt JPEG data: premature end of data segment\n"
          ]
        },
        {
          "output_type": "stream",
          "name": "stderr",
          "text": [
            "Corrupt JPEG data: premature end of data segment\n"
          ]
        },
        {
          "output_type": "stream",
          "name": "stderr",
          "text": [
            "Corrupt JPEG data: premature end of data segment\nCorrupt JPEG data: premature end of data segment\nCorrupt JPEG data: premature end of data segment\n"
          ]
        },
        {
          "output_type": "stream",
          "name": "stderr",
          "text": [
            "Corrupt JPEG data: premature end of data segment\nCorrupt JPEG data: premature end of data segment\n"
          ]
        },
        {
          "output_type": "stream",
          "name": "stderr",
          "text": [
            "Corrupt JPEG data: premature end of data segment\n"
          ]
        },
        {
          "output_type": "stream",
          "name": "stderr",
          "text": [
            "Corrupt JPEG data: premature end of data segment\nCorrupt JPEG data: premature end of data segment\n"
          ]
        },
        {
          "output_type": "stream",
          "name": "stderr",
          "text": [
            "Corrupt JPEG data: premature end of data segment\nCorrupt JPEG data: premature end of data segment\nCorrupt JPEG data: premature end of data segment\n"
          ]
        },
        {
          "output_type": "stream",
          "name": "stderr",
          "text": [
            "Corrupt JPEG data: premature end of data segment\nCorrupt JPEG data: premature end of data segment\n"
          ]
        },
        {
          "output_type": "stream",
          "name": "stderr",
          "text": [
            "Corrupt JPEG data: premature end of data segment\nCorrupt JPEG data: premature end of data segment\nCorrupt JPEG data: premature end of data segment\nCorrupt JPEG data: premature end of data segment\n"
          ]
        },
        {
          "output_type": "stream",
          "name": "stderr",
          "text": [
            "Corrupt JPEG data: premature end of data segment\nCorrupt JPEG data: premature end of data segment\nCorrupt JPEG data: premature end of data segment\n"
          ]
        },
        {
          "output_type": "stream",
          "name": "stderr",
          "text": [
            "Corrupt JPEG data: premature end of data segment\nCorrupt JPEG data: premature end of data segment\nCorrupt JPEG data: premature end of data segment\n"
          ]
        },
        {
          "output_type": "stream",
          "name": "stderr",
          "text": [
            "Corrupt JPEG data: premature end of data segment\n"
          ]
        },
        {
          "output_type": "stream",
          "name": "stderr",
          "text": [
            "Corrupt JPEG data: premature end of data segment\n"
          ]
        },
        {
          "output_type": "stream",
          "name": "stderr",
          "text": [
            "Corrupt JPEG data: premature end of data segment\n"
          ]
        },
        {
          "output_type": "stream",
          "name": "stdout",
          "text": [
            "  Eval step 600/983 elapsed 63.2s\n"
          ]
        },
        {
          "output_type": "stream",
          "name": "stderr",
          "text": [
            "Corrupt JPEG data: premature end of data segment\n"
          ]
        },
        {
          "output_type": "stream",
          "name": "stderr",
          "text": [
            "Corrupt JPEG data: premature end of data segment\nCorrupt JPEG data: premature end of data segment\n"
          ]
        },
        {
          "output_type": "stream",
          "name": "stderr",
          "text": [
            "Corrupt JPEG data: premature end of data segment\n"
          ]
        },
        {
          "output_type": "stream",
          "name": "stderr",
          "text": [
            "Corrupt JPEG data: premature end of data segment\n"
          ]
        },
        {
          "output_type": "stream",
          "name": "stderr",
          "text": [
            "Corrupt JPEG data: premature end of data segment\nCorrupt JPEG data: premature end of data segment\n"
          ]
        },
        {
          "output_type": "stream",
          "name": "stderr",
          "text": [
            "Corrupt JPEG data: premature end of data segment\n"
          ]
        },
        {
          "output_type": "stream",
          "name": "stderr",
          "text": [
            "Corrupt JPEG data: premature end of data segment\nCorrupt JPEG data: premature end of data segment\nCorrupt JPEG data: premature end of data segment\n"
          ]
        },
        {
          "output_type": "stream",
          "name": "stderr",
          "text": [
            "Corrupt JPEG data: premature end of data segment\n"
          ]
        },
        {
          "output_type": "stream",
          "name": "stderr",
          "text": [
            "Corrupt JPEG data: premature end of data segment\nCorrupt JPEG data: premature end of data segment\n"
          ]
        },
        {
          "output_type": "stream",
          "name": "stderr",
          "text": [
            "Corrupt JPEG data: premature end of data segment\nCorrupt JPEG data: premature end of data segment\nCorrupt JPEG data: premature end of data segment\nCorrupt JPEG data: premature end of data segment\n"
          ]
        },
        {
          "output_type": "stream",
          "name": "stderr",
          "text": [
            "Corrupt JPEG data: premature end of data segment\n"
          ]
        },
        {
          "output_type": "stream",
          "name": "stderr",
          "text": [
            "Corrupt JPEG data: premature end of data segment\nCorrupt JPEG data: premature end of data segment\nCorrupt JPEG data: premature end of data segment\n"
          ]
        },
        {
          "output_type": "stream",
          "name": "stderr",
          "text": [
            "Corrupt JPEG data: premature end of data segment\nCorrupt JPEG data: premature end of data segment\n"
          ]
        },
        {
          "output_type": "stream",
          "name": "stderr",
          "text": [
            "Corrupt JPEG data: premature end of data segment\n"
          ]
        },
        {
          "output_type": "stream",
          "name": "stderr",
          "text": [
            "Corrupt JPEG data: premature end of data segment\nCorrupt JPEG data: premature end of data segment\n"
          ]
        },
        {
          "output_type": "stream",
          "name": "stderr",
          "text": [
            "Corrupt JPEG data: premature end of data segment\nCorrupt JPEG data: premature end of data segment\n"
          ]
        },
        {
          "output_type": "stream",
          "name": "stderr",
          "text": [
            "Corrupt JPEG data: premature end of data segment\n"
          ]
        },
        {
          "output_type": "stream",
          "name": "stderr",
          "text": [
            "Corrupt JPEG data: premature end of data segment\n"
          ]
        },
        {
          "output_type": "stream",
          "name": "stderr",
          "text": [
            "Corrupt JPEG data: premature end of data segment\n"
          ]
        },
        {
          "output_type": "stream",
          "name": "stderr",
          "text": [
            "Corrupt JPEG data: premature end of data segment\n"
          ]
        },
        {
          "output_type": "stream",
          "name": "stderr",
          "text": [
            "Corrupt JPEG data: premature end of data segment\nCorrupt JPEG data: premature end of data segment\n"
          ]
        },
        {
          "output_type": "stream",
          "name": "stderr",
          "text": [
            "Corrupt JPEG data: premature end of data segment\n"
          ]
        },
        {
          "output_type": "stream",
          "name": "stderr",
          "text": [
            "Corrupt JPEG data: premature end of data segment\n"
          ]
        },
        {
          "output_type": "stream",
          "name": "stderr",
          "text": [
            "Corrupt JPEG data: premature end of data segment\n"
          ]
        },
        {
          "output_type": "stream",
          "name": "stderr",
          "text": [
            "Corrupt JPEG data: premature end of data segment\n"
          ]
        },
        {
          "output_type": "stream",
          "name": "stderr",
          "text": [
            "Corrupt JPEG data: premature end of data segment\nCorrupt JPEG data: premature end of data segment\n"
          ]
        },
        {
          "output_type": "stream",
          "name": "stdout",
          "text": [
            "  Eval step 700/983 elapsed 73.9s\n"
          ]
        },
        {
          "output_type": "stream",
          "name": "stderr",
          "text": [
            "Corrupt JPEG data: premature end of data segment\n"
          ]
        },
        {
          "output_type": "stream",
          "name": "stderr",
          "text": [
            "Corrupt JPEG data: premature end of data segment\n"
          ]
        },
        {
          "output_type": "stream",
          "name": "stderr",
          "text": [
            "Corrupt JPEG data: premature end of data segment\nCorrupt JPEG data: premature end of data segment\n"
          ]
        },
        {
          "output_type": "stream",
          "name": "stderr",
          "text": [
            "Corrupt JPEG data: premature end of data segment\nCorrupt JPEG data: premature end of data segment\n"
          ]
        },
        {
          "output_type": "stream",
          "name": "stderr",
          "text": [
            "Corrupt JPEG data: premature end of data segment\nCorrupt JPEG data: premature end of data segment\n"
          ]
        },
        {
          "output_type": "stream",
          "name": "stderr",
          "text": [
            "Corrupt JPEG data: premature end of data segment\nCorrupt JPEG data: premature end of data segment\nCorrupt JPEG data: premature end of data segment\nCorrupt JPEG data: premature end of data segment\n"
          ]
        },
        {
          "output_type": "stream",
          "name": "stderr",
          "text": [
            "Corrupt JPEG data: premature end of data segment\nCorrupt JPEG data: premature end of data segment\n"
          ]
        },
        {
          "output_type": "stream",
          "name": "stderr",
          "text": [
            "Corrupt JPEG data: premature end of data segment\nCorrupt JPEG data: premature end of data segment\nCorrupt JPEG data: premature end of data segment\n"
          ]
        },
        {
          "output_type": "stream",
          "name": "stderr",
          "text": [
            "Corrupt JPEG data: premature end of data segment\nCorrupt JPEG data: premature end of data segment\nCorrupt JPEG data: premature end of data segment\n"
          ]
        },
        {
          "output_type": "stream",
          "name": "stderr",
          "text": [
            "Corrupt JPEG data: premature end of data segment\nCorrupt JPEG data: premature end of data segment\nCorrupt JPEG data: premature end of data segment\nCorrupt JPEG data: premature end of data segment\n"
          ]
        },
        {
          "output_type": "stream",
          "name": "stderr",
          "text": [
            "Corrupt JPEG data: premature end of data segment\n"
          ]
        },
        {
          "output_type": "stream",
          "name": "stderr",
          "text": [
            "Corrupt JPEG data: premature end of data segment\n"
          ]
        },
        {
          "output_type": "stream",
          "name": "stderr",
          "text": [
            "Corrupt JPEG data: premature end of data segment\nCorrupt JPEG data: premature end of data segment\n"
          ]
        },
        {
          "output_type": "stream",
          "name": "stderr",
          "text": [
            "Corrupt JPEG data: premature end of data segment\nCorrupt JPEG data: premature end of data segment\nCorrupt JPEG data: premature end of data segment\n"
          ]
        },
        {
          "output_type": "stream",
          "name": "stderr",
          "text": [
            "Corrupt JPEG data: premature end of data segment\n"
          ]
        },
        {
          "output_type": "stream",
          "name": "stderr",
          "text": [
            "Corrupt JPEG data: premature end of data segment\nCorrupt JPEG data: premature end of data segment\n"
          ]
        },
        {
          "output_type": "stream",
          "name": "stderr",
          "text": [
            "Corrupt JPEG data: premature end of data segment\nCorrupt JPEG data: premature end of data segment\nCorrupt JPEG data: premature end of data segment\nCorrupt JPEG data: premature end of data segment\nCorrupt JPEG data: premature end of data segment\nCorrupt JPEG data: premature end of data segment\n"
          ]
        },
        {
          "output_type": "stream",
          "name": "stderr",
          "text": [
            "Corrupt JPEG data: premature end of data segment\nCorrupt JPEG data: premature end of data segment\nCorrupt JPEG data: premature end of data segment\n"
          ]
        },
        {
          "output_type": "stream",
          "name": "stderr",
          "text": [
            "Corrupt JPEG data: premature end of data segment\nCorrupt JPEG data: premature end of data segment\n"
          ]
        },
        {
          "output_type": "stream",
          "name": "stderr",
          "text": [
            "Corrupt JPEG data: premature end of data segment\nCorrupt JPEG data: premature end of data segment\n"
          ]
        },
        {
          "output_type": "stream",
          "name": "stderr",
          "text": [
            "Corrupt JPEG data: premature end of data segment\n"
          ]
        },
        {
          "output_type": "stream",
          "name": "stderr",
          "text": [
            "Corrupt JPEG data: premature end of data segment\nCorrupt JPEG data: premature end of data segment\nCorrupt JPEG data: premature end of data segment\n"
          ]
        },
        {
          "output_type": "stream",
          "name": "stderr",
          "text": [
            "Corrupt JPEG data: premature end of data segment\nCorrupt JPEG data: premature end of data segment\n"
          ]
        },
        {
          "output_type": "stream",
          "name": "stderr",
          "text": [
            "Corrupt JPEG data: premature end of data segment\nCorrupt JPEG data: premature end of data segment\n"
          ]
        },
        {
          "output_type": "stream",
          "name": "stderr",
          "text": [
            "Corrupt JPEG data: premature end of data segment\n"
          ]
        },
        {
          "output_type": "stream",
          "name": "stderr",
          "text": [
            "Corrupt JPEG data: premature end of data segment\nCorrupt JPEG data: premature end of data segment\n"
          ]
        },
        {
          "output_type": "stream",
          "name": "stderr",
          "text": [
            "Corrupt JPEG data: premature end of data segment\nCorrupt JPEG data: premature end of data segment\n"
          ]
        },
        {
          "output_type": "stream",
          "name": "stderr",
          "text": [
            "Corrupt JPEG data: premature end of data segment\nCorrupt JPEG data: premature end of data segment\nCorrupt JPEG data: premature end of data segment\n"
          ]
        },
        {
          "output_type": "stream",
          "name": "stdout",
          "text": [
            "  Eval step 800/983 elapsed 84.3s\n"
          ]
        },
        {
          "output_type": "stream",
          "name": "stderr",
          "text": [
            "Corrupt JPEG data: premature end of data segment\nCorrupt JPEG data: premature end of data segment\nCorrupt JPEG data: premature end of data segment\nCorrupt JPEG data: premature end of data segment\n"
          ]
        },
        {
          "output_type": "stream",
          "name": "stderr",
          "text": [
            "Corrupt JPEG data: premature end of data segment\n"
          ]
        },
        {
          "output_type": "stream",
          "name": "stderr",
          "text": [
            "Corrupt JPEG data: premature end of data segment\nCorrupt JPEG data: premature end of data segment\n"
          ]
        },
        {
          "output_type": "stream",
          "name": "stderr",
          "text": [
            "Corrupt JPEG data: premature end of data segment\nCorrupt JPEG data: premature end of data segment\nCorrupt JPEG data: premature end of data segment\n"
          ]
        },
        {
          "output_type": "stream",
          "name": "stderr",
          "text": [
            "Corrupt JPEG data: premature end of data segment\nCorrupt JPEG data: premature end of data segment\n"
          ]
        },
        {
          "output_type": "stream",
          "name": "stderr",
          "text": [
            "Corrupt JPEG data: premature end of data segment\nCorrupt JPEG data: premature end of data segment\n"
          ]
        },
        {
          "output_type": "stream",
          "name": "stderr",
          "text": [
            "Corrupt JPEG data: premature end of data segment\nCorrupt JPEG data: premature end of data segment\nCorrupt JPEG data: premature end of data segment\n"
          ]
        },
        {
          "output_type": "stream",
          "name": "stderr",
          "text": [
            "Corrupt JPEG data: premature end of data segment\nCorrupt JPEG data: premature end of data segment\n"
          ]
        },
        {
          "output_type": "stream",
          "name": "stderr",
          "text": [
            "Corrupt JPEG data: premature end of data segment\nCorrupt JPEG data: premature end of data segment\nCorrupt JPEG data: premature end of data segment\n"
          ]
        },
        {
          "output_type": "stream",
          "name": "stderr",
          "text": [
            "Corrupt JPEG data: premature end of data segment\nCorrupt JPEG data: premature end of data segment\nCorrupt JPEG data: premature end of data segment\n"
          ]
        },
        {
          "output_type": "stream",
          "name": "stderr",
          "text": [
            "Corrupt JPEG data: premature end of data segment\nCorrupt JPEG data: premature end of data segment\n"
          ]
        },
        {
          "output_type": "stream",
          "name": "stderr",
          "text": [
            "Corrupt JPEG data: premature end of data segment\n"
          ]
        },
        {
          "output_type": "stream",
          "name": "stderr",
          "text": [
            "Corrupt JPEG data: premature end of data segment\nCorrupt JPEG data: premature end of data segment\n"
          ]
        },
        {
          "output_type": "stream",
          "name": "stderr",
          "text": [
            "Corrupt JPEG data: premature end of data segment\nCorrupt JPEG data: premature end of data segment\n"
          ]
        },
        {
          "output_type": "stream",
          "name": "stderr",
          "text": [
            "Corrupt JPEG data: premature end of data segment\nCorrupt JPEG data: premature end of data segment\n"
          ]
        },
        {
          "output_type": "stream",
          "name": "stderr",
          "text": [
            "Corrupt JPEG data: premature end of data segment\nCorrupt JPEG data: premature end of data segment\n"
          ]
        },
        {
          "output_type": "stream",
          "name": "stderr",
          "text": [
            "Corrupt JPEG data: 2 extraneous bytes before marker 0xd9\n"
          ]
        },
        {
          "output_type": "stream",
          "name": "stderr",
          "text": [
            "Corrupt JPEG data: premature end of data segment\nCorrupt JPEG data: premature end of data segment\nCorrupt JPEG data: premature end of data segment\n"
          ]
        },
        {
          "output_type": "stream",
          "name": "stderr",
          "text": [
            "Corrupt JPEG data: premature end of data segment\nCorrupt JPEG data: premature end of data segment\n"
          ]
        },
        {
          "output_type": "stream",
          "name": "stderr",
          "text": [
            "Corrupt JPEG data: premature end of data segment\nCorrupt JPEG data: premature end of data segment\nCorrupt JPEG data: premature end of data segment\nCorrupt JPEG data: premature end of data segment\n"
          ]
        },
        {
          "output_type": "stream",
          "name": "stderr",
          "text": [
            "Corrupt JPEG data: premature end of data segment\nCorrupt JPEG data: premature end of data segment\n"
          ]
        },
        {
          "output_type": "stream",
          "name": "stderr",
          "text": [
            "Corrupt JPEG data: premature end of data segment\nCorrupt JPEG data: premature end of data segment\n"
          ]
        },
        {
          "output_type": "stream",
          "name": "stderr",
          "text": [
            "Corrupt JPEG data: premature end of data segment\nCorrupt JPEG data: premature end of data segment\n"
          ]
        },
        {
          "output_type": "stream",
          "name": "stderr",
          "text": [
            "Corrupt JPEG data: premature end of data segment\nCorrupt JPEG data: premature end of data segment\n"
          ]
        },
        {
          "output_type": "stream",
          "name": "stderr",
          "text": [
            "Corrupt JPEG data: premature end of data segment\nCorrupt JPEG data: premature end of data segment\n"
          ]
        },
        {
          "output_type": "stream",
          "name": "stdout",
          "text": [
            "  Eval step 900/983 elapsed 94.3s\n"
          ]
        },
        {
          "output_type": "stream",
          "name": "stderr",
          "text": [
            "Corrupt JPEG data: premature end of data segment\nCorrupt JPEG data: premature end of data segment\nCorrupt JPEG data: premature end of data segment\n"
          ]
        },
        {
          "output_type": "stream",
          "name": "stderr",
          "text": [
            "Corrupt JPEG data: premature end of data segment\nCorrupt JPEG data: premature end of data segment\n"
          ]
        },
        {
          "output_type": "stream",
          "name": "stderr",
          "text": [
            "Corrupt JPEG data: premature end of data segment\n"
          ]
        },
        {
          "output_type": "stream",
          "name": "stderr",
          "text": [
            "Corrupt JPEG data: premature end of data segment\n"
          ]
        },
        {
          "output_type": "stream",
          "name": "stderr",
          "text": [
            "Corrupt JPEG data: premature end of data segment\nCorrupt JPEG data: premature end of data segment\nCorrupt JPEG data: premature end of data segment\nCorrupt JPEG data: premature end of data segment\n"
          ]
        },
        {
          "output_type": "stream",
          "name": "stderr",
          "text": [
            "Corrupt JPEG data: premature end of data segment\nCorrupt JPEG data: premature end of data segment\nCorrupt JPEG data: premature end of data segment\nCorrupt JPEG data: premature end of data segment\nCorrupt JPEG data: premature end of data segment\n"
          ]
        },
        {
          "output_type": "stream",
          "name": "stderr",
          "text": [
            "Corrupt JPEG data: premature end of data segment\n"
          ]
        },
        {
          "output_type": "stream",
          "name": "stderr",
          "text": [
            "Corrupt JPEG data: premature end of data segment\n"
          ]
        },
        {
          "output_type": "stream",
          "name": "stderr",
          "text": [
            "Corrupt JPEG data: premature end of data segment\nCorrupt JPEG data: premature end of data segment\nCorrupt JPEG data: premature end of data segment\nCorrupt JPEG data: premature end of data segment\n"
          ]
        },
        {
          "output_type": "stream",
          "name": "stderr",
          "text": [
            "Corrupt JPEG data: premature end of data segment\n"
          ]
        },
        {
          "output_type": "stream",
          "name": "stderr",
          "text": [
            "Corrupt JPEG data: premature end of data segment\nCorrupt JPEG data: premature end of data segment\nCorrupt JPEG data: premature end of data segment\n"
          ]
        },
        {
          "output_type": "stream",
          "name": "stderr",
          "text": [
            "Corrupt JPEG data: premature end of data segment\n"
          ]
        },
        {
          "output_type": "stream",
          "name": "stderr",
          "text": [
            "Corrupt JPEG data: premature end of data segment\nCorrupt JPEG data: premature end of data segment\n"
          ]
        },
        {
          "output_type": "stream",
          "name": "stderr",
          "text": [
            "Corrupt JPEG data: premature end of data segment\nCorrupt JPEG data: premature end of data segment\nCorrupt JPEG data: premature end of data segment\n"
          ]
        },
        {
          "output_type": "stream",
          "name": "stderr",
          "text": [
            "Corrupt JPEG data: premature end of data segment\nCorrupt JPEG data: premature end of data segment\n"
          ]
        },
        {
          "output_type": "stream",
          "name": "stderr",
          "text": [
            "Corrupt JPEG data: premature end of data segment\n"
          ]
        },
        {
          "output_type": "stream",
          "name": "stderr",
          "text": [
            "Corrupt JPEG data: premature end of data segment\nCorrupt JPEG data: premature end of data segment\n"
          ]
        },
        {
          "output_type": "stream",
          "name": "stderr",
          "text": [
            "Corrupt JPEG data: premature end of data segment\nCorrupt JPEG data: premature end of data segment\n"
          ]
        },
        {
          "output_type": "stream",
          "name": "stdout",
          "text": [
            "Smoke val acc: 0.5960 | elapsed 184.7s\nSaved ckpt_smoke_tf_efficientnet_b4_ns_fold0.pt\n"
          ]
        }
      ]
    },
    {
      "id": "7bb2b28c-f4a4-40c6-a048-51887167db21",
      "cell_type": "code",
      "metadata": {},
      "source": [
        "# Inference: 4-view TTA (full + MD top1) with hflip; generate submission.csv\n",
        "import os, json, time, math, random\n",
        "from pathlib import Path\n",
        "import numpy as np\n",
        "import pandas as pd\n",
        "import cv2\n",
        "import torch\n",
        "import timm\n",
        "\n",
        "cv2.setNumThreads(0)\n",
        "os.environ['OMP_NUM_THREADS'] = '1'\n",
        "torch.backends.cuda.matmul.allow_tf32 = True\n",
        "torch.backends.cudnn.allow_tf32 = True\n",
        "\n",
        "device = torch.device('cuda' if torch.cuda.is_available() else 'cpu')\n",
        "img_size = 384\n",
        "model_name = 'tf_efficientnet_b4_ns'\n",
        "\n",
        "# Load mappings and test info\n",
        "maps = json.loads(Path('label_mapping.json').read_text())\n",
        "idx_to_cat_id = {int(k):int(v) for k,v in maps['idx_to_cat_id'].items()}\n",
        "num_classes = len(idx_to_cat_id)\n",
        "test_json = json.loads(Path('iwildcam2020_test_information.json').read_text())\n",
        "test_images = test_json['images']\n",
        "id2fname = {im['id']: im['file_name'] for im in test_images}\n",
        "ss = pd.read_csv('sample_submission.csv')  # defines order and Id list\n",
        "\n",
        "# MegaDetector filename map\n",
        "md_fname_map = json.loads(Path('megadetector_map.json').read_text()) if Path('megadetector_map.json').exists() else {}\n",
        "\n",
        "def read_rgb(path):\n",
        "    img = cv2.imread(str(path))\n",
        "    if img is None:\n",
        "        img = cv2.imdecode(np.fromfile(str(path), dtype=np.uint8), cv2.IMREAD_COLOR)\n",
        "    if img is None:\n",
        "        raise FileNotFoundError(str(path))\n",
        "    img = cv2.cvtColor(img, cv2.COLOR_BGR2RGB)\n",
        "    return img\n",
        "\n",
        "def md_top1_square_crop(img, file_name, conf_th=0.3, pad=0.20, min_area_ratio=0.04):\n",
        "    dets = md_fname_map.get(file_name, [])\n",
        "    dets = [d for d in dets if d.get('conf', 0.0) >= conf_th]\n",
        "    if not dets:\n",
        "        return img\n",
        "    # choose largest area bbox\n",
        "    dets.sort(key=lambda d: max(0.0, d['bbox'][2]) * max(0.0, d['bbox'][3]), reverse=True)\n",
        "    x,y,w,h = dets[0]['bbox']  # normalized\n",
        "    H,W = img.shape[:2]\n",
        "    side = max(w, h) * (1.0 + pad)\n",
        "    cx = x + w/2.0; cy = y + h/2.0\n",
        "    x0 = max(0.0, cx - side/2.0); y0 = max(0.0, cy - side/2.0)\n",
        "    x1 = min(1.0, cx + side/2.0); y1 = min(1.0, cy + side/2.0)\n",
        "    X0 = int(round(x0 * W)); Y0 = int(round(y0 * H)); X1 = int(round(x1 * W)); Y1 = int(round(y1 * H))\n",
        "    if X1 <= X0 or Y1 <= Y0:\n",
        "        return img\n",
        "    if (X1 - X0) * (Y1 - Y0) < min_area_ratio * (W * H):\n",
        "        return img\n",
        "    return img[Y0:Y1, X0:X1, :]\n",
        "\n",
        "def preprocess(img):\n",
        "    img = cv2.resize(img, (img_size, img_size), interpolation=cv2.INTER_AREA)\n",
        "    img = img.astype(np.float32) / 255.0\n",
        "    mean = np.array([0.485, 0.456, 0.406], dtype=np.float32)\n",
        "    std = np.array([0.229, 0.224, 0.225], dtype=np.float32)\n",
        "    img = (img - mean) / std\n",
        "    img = np.transpose(img, (2,0,1))\n",
        "    return torch.from_numpy(img)\n",
        "\n",
        "# Load model checkpoint (use latest smoke or future full run)\n",
        "ckpt_path = sorted(Path('.').glob('ckpt_smoke_*_fold0.pt'), key=lambda p: p.stat().st_mtime)[-1]\n",
        "print('Loading checkpoint:', ckpt_path)\n",
        "model = timm.create_model(model_name, pretrained=False, num_classes=num_classes)\n",
        "state = torch.load(ckpt_path, map_location='cpu')\n",
        "model.load_state_dict(state['model'], strict=False)\n",
        "model = model.to(device).to(memory_format=torch.channels_last).eval()\n",
        "\n",
        "all_preds = []\n",
        "t0 = time.time()\n",
        "with torch.no_grad():\n",
        "    for i, id_ in enumerate(ss['Id'].tolist()):\n",
        "        fname = id2fname[id_]\n",
        "        path = Path('test') / fname\n",
        "        img = read_rgb(path)\n",
        "        crop = md_top1_square_crop(img, fname, conf_th=0.3, pad=0.20, min_area_ratio=0.04)\n",
        "        # 4 views: full, hflip(full), crop, hflip(crop)\n",
        "        views = []\n",
        "        full = img\n",
        "        views.append(preprocess(full))\n",
        "        views.append(preprocess(full[:, ::-1, :].copy()))\n",
        "        if crop is not None:\n",
        "            views.append(preprocess(crop))\n",
        "            views.append(preprocess(crop[:, ::-1, :].copy()))\n",
        "        batch = torch.stack(views).to(device).to(memory_format=torch.channels_last)\n",
        "        with torch.cuda.amp.autocast(True):\n",
        "            logits = model(batch)\n",
        "        probs = torch.softmax(logits, dim=1).mean(dim=0)  # average across views\n",
        "        pred_idx = int(probs.argmax().item())\n",
        "        pred_cat = idx_to_cat_id[pred_idx]\n",
        "        all_preds.append(pred_cat)\n",
        "        if (i+1) % 500 == 0:\n",
        "            elapsed = time.time() - t0\n",
        "            print(f'Processed {i+1}/{len(ss)} images, elapsed {elapsed/60:.1f} min')\n",
        "\n",
        "sub = pd.DataFrame({'Id': ss['Id'], 'Category': all_preds})\n",
        "sub.to_csv('submission.csv', index=False)\n",
        "print('Saved submission.csv with shape', sub.shape)\n",
        "print(sub.head())"
      ],
      "execution_count": 6,
      "outputs": [
        {
          "output_type": "stream",
          "name": "stdout",
          "text": [
            "Loading checkpoint: ckpt_smoke_tf_efficientnet_b4_ns_fold0.pt\n"
          ]
        },
        {
          "output_type": "stream",
          "name": "stderr",
          "text": [
            "/app/.pip-target/timm/models/_factory.py:117: UserWarning: Mapping deprecated model name tf_efficientnet_b4_ns to current tf_efficientnet_b4.ns_jft_in1k.\n  model = create_fn(\n/tmp/ipykernel_196/614934744.py:73: FutureWarning: You are using `torch.load` with `weights_only=False` (the current default value), which uses the default pickle module implicitly. It is possible to construct malicious pickle data which will execute arbitrary code during unpickling (See https://github.com/pytorch/pytorch/blob/main/SECURITY.md#untrusted-models for more details). In a future release, the default value for `weights_only` will be flipped to `True`. This limits the functions that could be executed during unpickling. Arbitrary objects will no longer be allowed to be loaded via this mode unless they are explicitly allowlisted by the user via `torch.serialization.add_safe_globals`. We recommend you start setting `weights_only=True` for any use case where you don't have full control of the loaded file. Please open an issue on GitHub for any issues related to this experimental feature.\n  state = torch.load(ckpt_path, map_location='cpu')\n"
          ]
        },
        {
          "output_type": "stream",
          "name": "stderr",
          "text": [
            "/tmp/ipykernel_196/614934744.py:94: FutureWarning: `torch.cuda.amp.autocast(args...)` is deprecated. Please use `torch.amp.autocast('cuda', args...)` instead.\n  with torch.cuda.amp.autocast(True):\n"
          ]
        },
        {
          "output_type": "stream",
          "name": "stdout",
          "text": [
            "Processed 500/60760 images, elapsed 0.8 min\n"
          ]
        },
        {
          "output_type": "stream",
          "name": "stdout",
          "text": [
            "Processed 1000/60760 images, elapsed 1.5 min\n"
          ]
        },
        {
          "output_type": "stream",
          "name": "stdout",
          "text": [
            "Processed 1500/60760 images, elapsed 2.0 min\n"
          ]
        },
        {
          "output_type": "stream",
          "name": "stdout",
          "text": [
            "Processed 2000/60760 images, elapsed 2.5 min\n"
          ]
        },
        {
          "output_type": "stream",
          "name": "stdout",
          "text": [
            "Processed 2500/60760 images, elapsed 3.0 min\n"
          ]
        },
        {
          "output_type": "stream",
          "name": "stdout",
          "text": [
            "Processed 3000/60760 images, elapsed 3.5 min\n"
          ]
        },
        {
          "output_type": "stream",
          "name": "stdout",
          "text": [
            "Processed 3500/60760 images, elapsed 3.9 min\n"
          ]
        },
        {
          "output_type": "stream",
          "name": "stdout",
          "text": [
            "Processed 4000/60760 images, elapsed 4.5 min\n"
          ]
        },
        {
          "output_type": "stream",
          "name": "stdout",
          "text": [
            "Processed 4500/60760 images, elapsed 5.4 min\n"
          ]
        },
        {
          "output_type": "stream",
          "name": "stdout",
          "text": [
            "Processed 5000/60760 images, elapsed 6.3 min\n"
          ]
        },
        {
          "output_type": "stream",
          "name": "stdout",
          "text": [
            "Processed 5500/60760 images, elapsed 7.0 min\n"
          ]
        },
        {
          "output_type": "stream",
          "name": "stdout",
          "text": [
            "Processed 6000/60760 images, elapsed 7.6 min\n"
          ]
        },
        {
          "output_type": "stream",
          "name": "stdout",
          "text": [
            "Processed 6500/60760 images, elapsed 8.1 min\n"
          ]
        },
        {
          "output_type": "stream",
          "name": "stdout",
          "text": [
            "Processed 7000/60760 images, elapsed 8.6 min\n"
          ]
        },
        {
          "output_type": "stream",
          "name": "stdout",
          "text": [
            "Processed 7500/60760 images, elapsed 9.0 min\n"
          ]
        },
        {
          "output_type": "stream",
          "name": "stdout",
          "text": [
            "Processed 8000/60760 images, elapsed 9.5 min\n"
          ]
        },
        {
          "output_type": "stream",
          "name": "stdout",
          "text": [
            "Processed 8500/60760 images, elapsed 10.0 min\n"
          ]
        },
        {
          "output_type": "stream",
          "name": "stdout",
          "text": [
            "Processed 9000/60760 images, elapsed 10.5 min\n"
          ]
        },
        {
          "output_type": "stream",
          "name": "stdout",
          "text": [
            "Processed 9500/60760 images, elapsed 11.0 min\n"
          ]
        },
        {
          "output_type": "stream",
          "name": "stdout",
          "text": [
            "Processed 10000/60760 images, elapsed 11.7 min\n"
          ]
        },
        {
          "output_type": "stream",
          "name": "stdout",
          "text": [
            "Processed 10500/60760 images, elapsed 12.3 min\n"
          ]
        },
        {
          "output_type": "stream",
          "name": "stdout",
          "text": [
            "Processed 11000/60760 images, elapsed 12.9 min\n"
          ]
        },
        {
          "output_type": "stream",
          "name": "stdout",
          "text": [
            "Processed 11500/60760 images, elapsed 13.5 min\n"
          ]
        },
        {
          "output_type": "stream",
          "name": "stdout",
          "text": [
            "Processed 12000/60760 images, elapsed 14.1 min\n"
          ]
        },
        {
          "output_type": "stream",
          "name": "stdout",
          "text": [
            "Processed 12500/60760 images, elapsed 14.6 min\n"
          ]
        },
        {
          "output_type": "stream",
          "name": "stdout",
          "text": [
            "Processed 13000/60760 images, elapsed 15.1 min\n"
          ]
        },
        {
          "output_type": "stream",
          "name": "stdout",
          "text": [
            "Processed 13500/60760 images, elapsed 15.7 min\n"
          ]
        },
        {
          "output_type": "stream",
          "name": "stdout",
          "text": [
            "Processed 14000/60760 images, elapsed 16.4 min\n"
          ]
        },
        {
          "output_type": "stream",
          "name": "stdout",
          "text": [
            "Processed 14500/60760 images, elapsed 17.0 min\n"
          ]
        },
        {
          "output_type": "stream",
          "name": "stdout",
          "text": [
            "Processed 15000/60760 images, elapsed 17.7 min\n"
          ]
        },
        {
          "output_type": "stream",
          "name": "stdout",
          "text": [
            "Processed 15500/60760 images, elapsed 18.3 min\n"
          ]
        },
        {
          "output_type": "stream",
          "name": "stdout",
          "text": [
            "Processed 16000/60760 images, elapsed 18.9 min\n"
          ]
        },
        {
          "output_type": "stream",
          "name": "stdout",
          "text": [
            "Processed 16500/60760 images, elapsed 19.6 min\n"
          ]
        },
        {
          "output_type": "stream",
          "name": "stdout",
          "text": [
            "Processed 17000/60760 images, elapsed 20.2 min\n"
          ]
        },
        {
          "output_type": "stream",
          "name": "stdout",
          "text": [
            "Processed 17500/60760 images, elapsed 20.8 min\n"
          ]
        },
        {
          "output_type": "stream",
          "name": "stdout",
          "text": [
            "Processed 18000/60760 images, elapsed 21.4 min\n"
          ]
        },
        {
          "output_type": "stream",
          "name": "stdout",
          "text": [
            "Processed 18500/60760 images, elapsed 22.1 min\n"
          ]
        },
        {
          "output_type": "stream",
          "name": "stdout",
          "text": [
            "Processed 19000/60760 images, elapsed 22.8 min\n"
          ]
        },
        {
          "output_type": "stream",
          "name": "stdout",
          "text": [
            "Processed 19500/60760 images, elapsed 23.5 min\n"
          ]
        },
        {
          "output_type": "stream",
          "name": "stdout",
          "text": [
            "Processed 20000/60760 images, elapsed 24.2 min\n"
          ]
        },
        {
          "output_type": "stream",
          "name": "stdout",
          "text": [
            "Processed 20500/60760 images, elapsed 24.9 min\n"
          ]
        },
        {
          "output_type": "stream",
          "name": "stdout",
          "text": [
            "Processed 21000/60760 images, elapsed 25.4 min\n"
          ]
        },
        {
          "output_type": "stream",
          "name": "stdout",
          "text": [
            "Processed 21500/60760 images, elapsed 25.9 min\n"
          ]
        },
        {
          "output_type": "stream",
          "name": "stdout",
          "text": [
            "Processed 22000/60760 images, elapsed 26.5 min\n"
          ]
        },
        {
          "output_type": "stream",
          "name": "stdout",
          "text": [
            "Processed 22500/60760 images, elapsed 27.2 min\n"
          ]
        },
        {
          "output_type": "stream",
          "name": "stderr",
          "text": [
            "Corrupt JPEG data: premature end of data segment\n"
          ]
        },
        {
          "output_type": "stream",
          "name": "stderr",
          "text": [
            "Corrupt JPEG data: premature end of data segment\n"
          ]
        },
        {
          "output_type": "stream",
          "name": "stderr",
          "text": [
            "Corrupt JPEG data: premature end of data segment\n"
          ]
        },
        {
          "output_type": "stream",
          "name": "stderr",
          "text": [
            "Corrupt JPEG data: premature end of data segment\n"
          ]
        },
        {
          "output_type": "stream",
          "name": "stderr",
          "text": [
            "Corrupt JPEG data: premature end of data segment\n"
          ]
        },
        {
          "output_type": "stream",
          "name": "stderr",
          "text": [
            "Corrupt JPEG data: premature end of data segment\n"
          ]
        },
        {
          "output_type": "stream",
          "name": "stderr",
          "text": [
            "Corrupt JPEG data: premature end of data segment\n"
          ]
        },
        {
          "output_type": "stream",
          "name": "stderr",
          "text": [
            "Corrupt JPEG data: premature end of data segment\n"
          ]
        },
        {
          "output_type": "stream",
          "name": "stderr",
          "text": [
            "Corrupt JPEG data: premature end of data segment\n"
          ]
        },
        {
          "output_type": "stream",
          "name": "stderr",
          "text": [
            "Corrupt JPEG data: premature end of data segment\n"
          ]
        },
        {
          "output_type": "stream",
          "name": "stderr",
          "text": [
            "Corrupt JPEG data: premature end of data segment\n"
          ]
        },
        {
          "output_type": "stream",
          "name": "stderr",
          "text": [
            "Corrupt JPEG data: premature end of data segment\n"
          ]
        },
        {
          "output_type": "stream",
          "name": "stderr",
          "text": [
            "Corrupt JPEG data: premature end of data segment\n"
          ]
        },
        {
          "output_type": "stream",
          "name": "stderr",
          "text": [
            "Corrupt JPEG data: premature end of data segment\nCorrupt JPEG data: premature end of data segment\n"
          ]
        },
        {
          "output_type": "stream",
          "name": "stderr",
          "text": [
            "Corrupt JPEG data: premature end of data segment\nCorrupt JPEG data: premature end of data segment\n"
          ]
        },
        {
          "output_type": "stream",
          "name": "stderr",
          "text": [
            "Corrupt JPEG data: premature end of data segment\n"
          ]
        },
        {
          "output_type": "stream",
          "name": "stderr",
          "text": [
            "Corrupt JPEG data: premature end of data segment\n"
          ]
        },
        {
          "output_type": "stream",
          "name": "stdout",
          "text": [
            "Processed 23000/60760 images, elapsed 27.7 min\n"
          ]
        },
        {
          "output_type": "stream",
          "name": "stderr",
          "text": [
            "Corrupt JPEG data: premature end of data segment\n"
          ]
        },
        {
          "output_type": "stream",
          "name": "stderr",
          "text": [
            "Corrupt JPEG data: premature end of data segment\n"
          ]
        },
        {
          "output_type": "stream",
          "name": "stderr",
          "text": [
            "Corrupt JPEG data: premature end of data segment\n"
          ]
        },
        {
          "output_type": "stream",
          "name": "stderr",
          "text": [
            "Corrupt JPEG data: premature end of data segment\n"
          ]
        },
        {
          "output_type": "stream",
          "name": "stderr",
          "text": [
            "Corrupt JPEG data: premature end of data segment\n"
          ]
        },
        {
          "output_type": "stream",
          "name": "stderr",
          "text": [
            "Corrupt JPEG data: premature end of data segment\n"
          ]
        },
        {
          "output_type": "stream",
          "name": "stderr",
          "text": [
            "Corrupt JPEG data: premature end of data segment\n"
          ]
        },
        {
          "output_type": "stream",
          "name": "stderr",
          "text": [
            "Corrupt JPEG data: premature end of data segment\n"
          ]
        },
        {
          "output_type": "stream",
          "name": "stderr",
          "text": [
            "Corrupt JPEG data: premature end of data segment\n"
          ]
        },
        {
          "output_type": "stream",
          "name": "stderr",
          "text": [
            "Corrupt JPEG data: premature end of data segment\n"
          ]
        },
        {
          "output_type": "stream",
          "name": "stderr",
          "text": [
            "Corrupt JPEG data: premature end of data segment\n"
          ]
        },
        {
          "output_type": "stream",
          "name": "stderr",
          "text": [
            "Corrupt JPEG data: premature end of data segment\n"
          ]
        },
        {
          "output_type": "stream",
          "name": "stderr",
          "text": [
            "Corrupt JPEG data: premature end of data segment\n"
          ]
        },
        {
          "output_type": "stream",
          "name": "stderr",
          "text": [
            "Corrupt JPEG data: premature end of data segment\n"
          ]
        },
        {
          "output_type": "stream",
          "name": "stdout",
          "text": [
            "Processed 23500/60760 images, elapsed 28.6 min\n"
          ]
        },
        {
          "output_type": "stream",
          "name": "stderr",
          "text": [
            "Corrupt JPEG data: premature end of data segment\n"
          ]
        },
        {
          "output_type": "stream",
          "name": "stderr",
          "text": [
            "Corrupt JPEG data: premature end of data segment\n"
          ]
        },
        {
          "output_type": "stream",
          "name": "stderr",
          "text": [
            "Corrupt JPEG data: premature end of data segment\n"
          ]
        },
        {
          "output_type": "stream",
          "name": "stderr",
          "text": [
            "Corrupt JPEG data: premature end of data segment\n"
          ]
        },
        {
          "output_type": "stream",
          "name": "stderr",
          "text": [
            "Corrupt JPEG data: premature end of data segment\n"
          ]
        },
        {
          "output_type": "stream",
          "name": "stderr",
          "text": [
            "Corrupt JPEG data: premature end of data segment\n"
          ]
        },
        {
          "output_type": "stream",
          "name": "stderr",
          "text": [
            "Corrupt JPEG data: premature end of data segment\n"
          ]
        },
        {
          "output_type": "stream",
          "name": "stderr",
          "text": [
            "Corrupt JPEG data: premature end of data segment\n"
          ]
        },
        {
          "output_type": "stream",
          "name": "stderr",
          "text": [
            "Corrupt JPEG data: premature end of data segment\n"
          ]
        },
        {
          "output_type": "stream",
          "name": "stderr",
          "text": [
            "Corrupt JPEG data: premature end of data segment\n"
          ]
        },
        {
          "output_type": "stream",
          "name": "stderr",
          "text": [
            "Corrupt JPEG data: premature end of data segment\n"
          ]
        },
        {
          "output_type": "stream",
          "name": "stderr",
          "text": [
            "Corrupt JPEG data: premature end of data segment\n"
          ]
        },
        {
          "output_type": "stream",
          "name": "stderr",
          "text": [
            "Corrupt JPEG data: premature end of data segment\n"
          ]
        },
        {
          "output_type": "stream",
          "name": "stderr",
          "text": [
            "Corrupt JPEG data: premature end of data segment\n"
          ]
        },
        {
          "output_type": "stream",
          "name": "stderr",
          "text": [
            "Corrupt JPEG data: premature end of data segment\n"
          ]
        },
        {
          "output_type": "stream",
          "name": "stderr",
          "text": [
            "Corrupt JPEG data: premature end of data segment\n"
          ]
        },
        {
          "output_type": "stream",
          "name": "stderr",
          "text": [
            "Corrupt JPEG data: premature end of data segment\n"
          ]
        },
        {
          "output_type": "stream",
          "name": "stderr",
          "text": [
            "Corrupt JPEG data: premature end of data segment\n"
          ]
        },
        {
          "output_type": "stream",
          "name": "stderr",
          "text": [
            "Corrupt JPEG data: premature end of data segment\n"
          ]
        },
        {
          "output_type": "stream",
          "name": "stderr",
          "text": [
            "Corrupt JPEG data: premature end of data segment\n"
          ]
        },
        {
          "output_type": "stream",
          "name": "stderr",
          "text": [
            "Corrupt JPEG data: premature end of data segment\n"
          ]
        },
        {
          "output_type": "stream",
          "name": "stderr",
          "text": [
            "Corrupt JPEG data: premature end of data segment\n"
          ]
        },
        {
          "output_type": "stream",
          "name": "stderr",
          "text": [
            "Corrupt JPEG data: premature end of data segment\n"
          ]
        },
        {
          "output_type": "stream",
          "name": "stderr",
          "text": [
            "Corrupt JPEG data: premature end of data segment\n"
          ]
        },
        {
          "output_type": "stream",
          "name": "stderr",
          "text": [
            "Corrupt JPEG data: premature end of data segment\n"
          ]
        },
        {
          "output_type": "stream",
          "name": "stderr",
          "text": [
            "Corrupt JPEG data: premature end of data segment\n"
          ]
        },
        {
          "output_type": "stream",
          "name": "stdout",
          "text": [
            "Processed 24000/60760 images, elapsed 29.4 min\n"
          ]
        },
        {
          "output_type": "stream",
          "name": "stderr",
          "text": [
            "Corrupt JPEG data: premature end of data segment\n"
          ]
        },
        {
          "output_type": "stream",
          "name": "stderr",
          "text": [
            "Corrupt JPEG data: premature end of data segment\n"
          ]
        },
        {
          "output_type": "stream",
          "name": "stderr",
          "text": [
            "Corrupt JPEG data: premature end of data segment\n"
          ]
        },
        {
          "output_type": "stream",
          "name": "stderr",
          "text": [
            "Corrupt JPEG data: premature end of data segment\n"
          ]
        },
        {
          "output_type": "stream",
          "name": "stderr",
          "text": [
            "Corrupt JPEG data: premature end of data segment\n"
          ]
        },
        {
          "output_type": "stream",
          "name": "stderr",
          "text": [
            "Corrupt JPEG data: premature end of data segment\n"
          ]
        },
        {
          "output_type": "stream",
          "name": "stderr",
          "text": [
            "Corrupt JPEG data: premature end of data segment\n"
          ]
        },
        {
          "output_type": "stream",
          "name": "stderr",
          "text": [
            "Corrupt JPEG data: premature end of data segment\n"
          ]
        },
        {
          "output_type": "stream",
          "name": "stderr",
          "text": [
            "Corrupt JPEG data: premature end of data segment\n"
          ]
        },
        {
          "output_type": "stream",
          "name": "stderr",
          "text": [
            "Corrupt JPEG data: premature end of data segment\n"
          ]
        },
        {
          "output_type": "stream",
          "name": "stderr",
          "text": [
            "Corrupt JPEG data: premature end of data segment\n"
          ]
        },
        {
          "output_type": "stream",
          "name": "stderr",
          "text": [
            "Corrupt JPEG data: premature end of data segment\n"
          ]
        },
        {
          "output_type": "stream",
          "name": "stderr",
          "text": [
            "Corrupt JPEG data: premature end of data segment\n"
          ]
        },
        {
          "output_type": "stream",
          "name": "stderr",
          "text": [
            "Corrupt JPEG data: premature end of data segment\n"
          ]
        },
        {
          "output_type": "stream",
          "name": "stderr",
          "text": [
            "Corrupt JPEG data: premature end of data segment\n"
          ]
        },
        {
          "output_type": "stream",
          "name": "stderr",
          "text": [
            "Corrupt JPEG data: premature end of data segment\n"
          ]
        },
        {
          "output_type": "stream",
          "name": "stderr",
          "text": [
            "Corrupt JPEG data: premature end of data segment\n"
          ]
        },
        {
          "output_type": "stream",
          "name": "stderr",
          "text": [
            "Corrupt JPEG data: premature end of data segment\n"
          ]
        },
        {
          "output_type": "stream",
          "name": "stderr",
          "text": [
            "Corrupt JPEG data: premature end of data segment\n"
          ]
        },
        {
          "output_type": "stream",
          "name": "stderr",
          "text": [
            "Corrupt JPEG data: premature end of data segment\n"
          ]
        },
        {
          "output_type": "stream",
          "name": "stderr",
          "text": [
            "Corrupt JPEG data: premature end of data segment\n"
          ]
        },
        {
          "output_type": "stream",
          "name": "stderr",
          "text": [
            "Corrupt JPEG data: premature end of data segment\n"
          ]
        },
        {
          "output_type": "stream",
          "name": "stderr",
          "text": [
            "Corrupt JPEG data: premature end of data segment\n"
          ]
        },
        {
          "output_type": "stream",
          "name": "stdout",
          "text": [
            "Processed 24500/60760 images, elapsed 30.3 min\n"
          ]
        },
        {
          "output_type": "stream",
          "name": "stderr",
          "text": [
            "Corrupt JPEG data: premature end of data segment\n"
          ]
        },
        {
          "output_type": "stream",
          "name": "stderr",
          "text": [
            "Corrupt JPEG data: premature end of data segment\n"
          ]
        },
        {
          "output_type": "stream",
          "name": "stderr",
          "text": [
            "Corrupt JPEG data: premature end of data segment\n"
          ]
        },
        {
          "output_type": "stream",
          "name": "stderr",
          "text": [
            "Corrupt JPEG data: premature end of data segment\n"
          ]
        },
        {
          "output_type": "stream",
          "name": "stderr",
          "text": [
            "Corrupt JPEG data: premature end of data segment\n"
          ]
        },
        {
          "output_type": "stream",
          "name": "stderr",
          "text": [
            "Corrupt JPEG data: premature end of data segment\n"
          ]
        },
        {
          "output_type": "stream",
          "name": "stderr",
          "text": [
            "Corrupt JPEG data: premature end of data segment\n"
          ]
        },
        {
          "output_type": "stream",
          "name": "stderr",
          "text": [
            "Corrupt JPEG data: premature end of data segment\n"
          ]
        },
        {
          "output_type": "stream",
          "name": "stderr",
          "text": [
            "Corrupt JPEG data: premature end of data segment\nCorrupt JPEG data: premature end of data segment\n"
          ]
        },
        {
          "output_type": "stream",
          "name": "stderr",
          "text": [
            "Corrupt JPEG data: premature end of data segment\nCorrupt JPEG data: premature end of data segment\n"
          ]
        },
        {
          "output_type": "stream",
          "name": "stderr",
          "text": [
            "Corrupt JPEG data: premature end of data segment\n"
          ]
        },
        {
          "output_type": "stream",
          "name": "stderr",
          "text": [
            "Corrupt JPEG data: premature end of data segment\n"
          ]
        },
        {
          "output_type": "stream",
          "name": "stderr",
          "text": [
            "Corrupt JPEG data: premature end of data segment\n"
          ]
        },
        {
          "output_type": "stream",
          "name": "stderr",
          "text": [
            "Corrupt JPEG data: premature end of data segment\n"
          ]
        },
        {
          "output_type": "stream",
          "name": "stderr",
          "text": [
            "Corrupt JPEG data: premature end of data segment\n"
          ]
        },
        {
          "output_type": "stream",
          "name": "stderr",
          "text": [
            "Corrupt JPEG data: premature end of data segment\n"
          ]
        },
        {
          "output_type": "stream",
          "name": "stderr",
          "text": [
            "Corrupt JPEG data: premature end of data segment\n"
          ]
        },
        {
          "output_type": "stream",
          "name": "stderr",
          "text": [
            "Corrupt JPEG data: premature end of data segment\n"
          ]
        },
        {
          "output_type": "stream",
          "name": "stderr",
          "text": [
            "Corrupt JPEG data: premature end of data segment\n"
          ]
        },
        {
          "output_type": "stream",
          "name": "stdout",
          "text": [
            "Processed 25000/60760 images, elapsed 31.2 min\n"
          ]
        },
        {
          "output_type": "stream",
          "name": "stderr",
          "text": [
            "Corrupt JPEG data: premature end of data segment\n"
          ]
        },
        {
          "output_type": "stream",
          "name": "stderr",
          "text": [
            "Corrupt JPEG data: premature end of data segment\n"
          ]
        },
        {
          "output_type": "stream",
          "name": "stderr",
          "text": [
            "Corrupt JPEG data: premature end of data segment\n"
          ]
        },
        {
          "output_type": "stream",
          "name": "stderr",
          "text": [
            "Corrupt JPEG data: premature end of data segment\n"
          ]
        },
        {
          "output_type": "stream",
          "name": "stderr",
          "text": [
            "Corrupt JPEG data: premature end of data segment\n"
          ]
        },
        {
          "output_type": "stream",
          "name": "stderr",
          "text": [
            "Corrupt JPEG data: premature end of data segment\n"
          ]
        },
        {
          "output_type": "stream",
          "name": "stderr",
          "text": [
            "Corrupt JPEG data: premature end of data segment\n"
          ]
        },
        {
          "output_type": "stream",
          "name": "stderr",
          "text": [
            "Corrupt JPEG data: premature end of data segment\n"
          ]
        },
        {
          "output_type": "stream",
          "name": "stderr",
          "text": [
            "Corrupt JPEG data: premature end of data segment\n"
          ]
        },
        {
          "output_type": "stream",
          "name": "stderr",
          "text": [
            "Corrupt JPEG data: premature end of data segment\n"
          ]
        },
        {
          "output_type": "stream",
          "name": "stderr",
          "text": [
            "Corrupt JPEG data: premature end of data segment\n"
          ]
        },
        {
          "output_type": "stream",
          "name": "stderr",
          "text": [
            "Corrupt JPEG data: premature end of data segment\n"
          ]
        },
        {
          "output_type": "stream",
          "name": "stderr",
          "text": [
            "Corrupt JPEG data: premature end of data segment\n"
          ]
        },
        {
          "output_type": "stream",
          "name": "stderr",
          "text": [
            "Corrupt JPEG data: premature end of data segment\n"
          ]
        },
        {
          "output_type": "stream",
          "name": "stderr",
          "text": [
            "Corrupt JPEG data: premature end of data segment\n"
          ]
        },
        {
          "output_type": "stream",
          "name": "stderr",
          "text": [
            "Corrupt JPEG data: premature end of data segment\n"
          ]
        },
        {
          "output_type": "stream",
          "name": "stderr",
          "text": [
            "Corrupt JPEG data: premature end of data segment\n"
          ]
        },
        {
          "output_type": "stream",
          "name": "stdout",
          "text": [
            "Processed 25500/60760 images, elapsed 32.1 min\n"
          ]
        },
        {
          "output_type": "stream",
          "name": "stderr",
          "text": [
            "Corrupt JPEG data: premature end of data segment\nCorrupt JPEG data: premature end of data segment\n"
          ]
        },
        {
          "output_type": "stream",
          "name": "stderr",
          "text": [
            "Corrupt JPEG data: premature end of data segment\n"
          ]
        },
        {
          "output_type": "stream",
          "name": "stderr",
          "text": [
            "Corrupt JPEG data: premature end of data segment\n"
          ]
        },
        {
          "output_type": "stream",
          "name": "stderr",
          "text": [
            "Corrupt JPEG data: premature end of data segment\n"
          ]
        },
        {
          "output_type": "stream",
          "name": "stderr",
          "text": [
            "Corrupt JPEG data: premature end of data segment\n"
          ]
        },
        {
          "output_type": "stream",
          "name": "stderr",
          "text": [
            "Corrupt JPEG data: premature end of data segment\n"
          ]
        },
        {
          "output_type": "stream",
          "name": "stderr",
          "text": [
            "Corrupt JPEG data: premature end of data segment\n"
          ]
        },
        {
          "output_type": "stream",
          "name": "stderr",
          "text": [
            "Corrupt JPEG data: premature end of data segment\n"
          ]
        },
        {
          "output_type": "stream",
          "name": "stderr",
          "text": [
            "Corrupt JPEG data: premature end of data segment\n"
          ]
        },
        {
          "output_type": "stream",
          "name": "stderr",
          "text": [
            "Corrupt JPEG data: premature end of data segment\n"
          ]
        },
        {
          "output_type": "stream",
          "name": "stderr",
          "text": [
            "Corrupt JPEG data: premature end of data segment\n"
          ]
        },
        {
          "output_type": "stream",
          "name": "stderr",
          "text": [
            "Corrupt JPEG data: premature end of data segment\n"
          ]
        },
        {
          "output_type": "stream",
          "name": "stderr",
          "text": [
            "Corrupt JPEG data: premature end of data segment\n"
          ]
        },
        {
          "output_type": "stream",
          "name": "stderr",
          "text": [
            "Corrupt JPEG data: premature end of data segment\n"
          ]
        },
        {
          "output_type": "stream",
          "name": "stderr",
          "text": [
            "Corrupt JPEG data: premature end of data segment\n"
          ]
        },
        {
          "output_type": "stream",
          "name": "stderr",
          "text": [
            "Corrupt JPEG data: premature end of data segment\n"
          ]
        },
        {
          "output_type": "stream",
          "name": "stderr",
          "text": [
            "Corrupt JPEG data: premature end of data segment\n"
          ]
        },
        {
          "output_type": "stream",
          "name": "stderr",
          "text": [
            "Corrupt JPEG data: premature end of data segment\n"
          ]
        },
        {
          "output_type": "stream",
          "name": "stderr",
          "text": [
            "Corrupt JPEG data: premature end of data segment\n"
          ]
        },
        {
          "output_type": "stream",
          "name": "stderr",
          "text": [
            "Corrupt JPEG data: premature end of data segment\n"
          ]
        },
        {
          "output_type": "stream",
          "name": "stderr",
          "text": [
            "Corrupt JPEG data: premature end of data segment\n"
          ]
        },
        {
          "output_type": "stream",
          "name": "stderr",
          "text": [
            "Corrupt JPEG data: premature end of data segment\nCorrupt JPEG data: premature end of data segment\n"
          ]
        },
        {
          "output_type": "stream",
          "name": "stdout",
          "text": [
            "Processed 26000/60760 images, elapsed 32.9 min\n"
          ]
        },
        {
          "output_type": "stream",
          "name": "stderr",
          "text": [
            "Corrupt JPEG data: premature end of data segment\n"
          ]
        },
        {
          "output_type": "stream",
          "name": "stderr",
          "text": [
            "Corrupt JPEG data: premature end of data segment\n"
          ]
        },
        {
          "output_type": "stream",
          "name": "stderr",
          "text": [
            "Corrupt JPEG data: premature end of data segment\n"
          ]
        },
        {
          "output_type": "stream",
          "name": "stderr",
          "text": [
            "Corrupt JPEG data: premature end of data segment\n"
          ]
        },
        {
          "output_type": "stream",
          "name": "stderr",
          "text": [
            "Corrupt JPEG data: premature end of data segment\n"
          ]
        },
        {
          "output_type": "stream",
          "name": "stderr",
          "text": [
            "Corrupt JPEG data: premature end of data segment\n"
          ]
        },
        {
          "output_type": "stream",
          "name": "stderr",
          "text": [
            "Corrupt JPEG data: premature end of data segment\n"
          ]
        },
        {
          "output_type": "stream",
          "name": "stderr",
          "text": [
            "Corrupt JPEG data: premature end of data segment\n"
          ]
        },
        {
          "output_type": "stream",
          "name": "stderr",
          "text": [
            "Corrupt JPEG data: premature end of data segment\nCorrupt JPEG data: premature end of data segment\n"
          ]
        },
        {
          "output_type": "stream",
          "name": "stderr",
          "text": [
            "Corrupt JPEG data: premature end of data segment\n"
          ]
        },
        {
          "output_type": "stream",
          "name": "stderr",
          "text": [
            "Corrupt JPEG data: premature end of data segment\n"
          ]
        },
        {
          "output_type": "stream",
          "name": "stderr",
          "text": [
            "Corrupt JPEG data: premature end of data segment\n"
          ]
        },
        {
          "output_type": "stream",
          "name": "stderr",
          "text": [
            "Corrupt JPEG data: premature end of data segment\n"
          ]
        },
        {
          "output_type": "stream",
          "name": "stderr",
          "text": [
            "Corrupt JPEG data: premature end of data segment\n"
          ]
        },
        {
          "output_type": "stream",
          "name": "stderr",
          "text": [
            "Corrupt JPEG data: premature end of data segment\n"
          ]
        },
        {
          "output_type": "stream",
          "name": "stderr",
          "text": [
            "Corrupt JPEG data: premature end of data segment\n"
          ]
        },
        {
          "output_type": "stream",
          "name": "stdout",
          "text": [
            "Processed 26500/60760 images, elapsed 33.8 min\n"
          ]
        },
        {
          "output_type": "stream",
          "name": "stderr",
          "text": [
            "Corrupt JPEG data: premature end of data segment\n"
          ]
        },
        {
          "output_type": "stream",
          "name": "stderr",
          "text": [
            "Corrupt JPEG data: premature end of data segment\n"
          ]
        },
        {
          "output_type": "stream",
          "name": "stderr",
          "text": [
            "Corrupt JPEG data: premature end of data segment\n"
          ]
        },
        {
          "output_type": "stream",
          "name": "stderr",
          "text": [
            "Corrupt JPEG data: premature end of data segment\n"
          ]
        },
        {
          "output_type": "stream",
          "name": "stderr",
          "text": [
            "Corrupt JPEG data: premature end of data segment\n"
          ]
        },
        {
          "output_type": "stream",
          "name": "stderr",
          "text": [
            "Corrupt JPEG data: premature end of data segment\n"
          ]
        },
        {
          "output_type": "stream",
          "name": "stderr",
          "text": [
            "Corrupt JPEG data: premature end of data segment\n"
          ]
        },
        {
          "output_type": "stream",
          "name": "stderr",
          "text": [
            "Corrupt JPEG data: premature end of data segment\n"
          ]
        },
        {
          "output_type": "stream",
          "name": "stderr",
          "text": [
            "Corrupt JPEG data: premature end of data segment\n"
          ]
        },
        {
          "output_type": "stream",
          "name": "stderr",
          "text": [
            "Corrupt JPEG data: premature end of data segment\n"
          ]
        },
        {
          "output_type": "stream",
          "name": "stderr",
          "text": [
            "Corrupt JPEG data: premature end of data segment\n"
          ]
        },
        {
          "output_type": "stream",
          "name": "stderr",
          "text": [
            "Corrupt JPEG data: premature end of data segment\n"
          ]
        },
        {
          "output_type": "stream",
          "name": "stderr",
          "text": [
            "Corrupt JPEG data: premature end of data segment\n"
          ]
        },
        {
          "output_type": "stream",
          "name": "stderr",
          "text": [
            "Corrupt JPEG data: premature end of data segment\n"
          ]
        },
        {
          "output_type": "stream",
          "name": "stderr",
          "text": [
            "Corrupt JPEG data: premature end of data segment\n"
          ]
        },
        {
          "output_type": "stream",
          "name": "stderr",
          "text": [
            "Corrupt JPEG data: premature end of data segment\n"
          ]
        },
        {
          "output_type": "stream",
          "name": "stderr",
          "text": [
            "Corrupt JPEG data: premature end of data segment\n"
          ]
        },
        {
          "output_type": "stream",
          "name": "stderr",
          "text": [
            "Corrupt JPEG data: premature end of data segment\n"
          ]
        },
        {
          "output_type": "stream",
          "name": "stderr",
          "text": [
            "Corrupt JPEG data: premature end of data segment\nCorrupt JPEG data: premature end of data segment\n"
          ]
        },
        {
          "output_type": "stream",
          "name": "stdout",
          "text": [
            "Processed 27000/60760 images, elapsed 34.6 min\n"
          ]
        },
        {
          "output_type": "stream",
          "name": "stderr",
          "text": [
            "Corrupt JPEG data: premature end of data segment\n"
          ]
        },
        {
          "output_type": "stream",
          "name": "stderr",
          "text": [
            "Corrupt JPEG data: premature end of data segment\n"
          ]
        },
        {
          "output_type": "stream",
          "name": "stderr",
          "text": [
            "Corrupt JPEG data: premature end of data segment\n"
          ]
        },
        {
          "output_type": "stream",
          "name": "stderr",
          "text": [
            "Corrupt JPEG data: premature end of data segment\n"
          ]
        },
        {
          "output_type": "stream",
          "name": "stderr",
          "text": [
            "Corrupt JPEG data: premature end of data segment\n"
          ]
        },
        {
          "output_type": "stream",
          "name": "stderr",
          "text": [
            "Corrupt JPEG data: premature end of data segment\n"
          ]
        },
        {
          "output_type": "stream",
          "name": "stderr",
          "text": [
            "Corrupt JPEG data: premature end of data segment\n"
          ]
        },
        {
          "output_type": "stream",
          "name": "stderr",
          "text": [
            "Corrupt JPEG data: premature end of data segment\n"
          ]
        },
        {
          "output_type": "stream",
          "name": "stderr",
          "text": [
            "Corrupt JPEG data: premature end of data segment\n"
          ]
        },
        {
          "output_type": "stream",
          "name": "stderr",
          "text": [
            "Corrupt JPEG data: premature end of data segment\n"
          ]
        },
        {
          "output_type": "stream",
          "name": "stderr",
          "text": [
            "Corrupt JPEG data: premature end of data segment\n"
          ]
        },
        {
          "output_type": "stream",
          "name": "stderr",
          "text": [
            "Corrupt JPEG data: premature end of data segment\n"
          ]
        },
        {
          "output_type": "stream",
          "name": "stderr",
          "text": [
            "Corrupt JPEG data: premature end of data segment\n"
          ]
        },
        {
          "output_type": "stream",
          "name": "stderr",
          "text": [
            "Corrupt JPEG data: premature end of data segment\n"
          ]
        },
        {
          "output_type": "stream",
          "name": "stderr",
          "text": [
            "Corrupt JPEG data: premature end of data segment\n"
          ]
        },
        {
          "output_type": "stream",
          "name": "stderr",
          "text": [
            "Corrupt JPEG data: premature end of data segment\n"
          ]
        },
        {
          "output_type": "stream",
          "name": "stdout",
          "text": [
            "Processed 27500/60760 images, elapsed 35.4 min\n"
          ]
        },
        {
          "output_type": "stream",
          "name": "stderr",
          "text": [
            "Corrupt JPEG data: premature end of data segment\n"
          ]
        },
        {
          "output_type": "stream",
          "name": "stderr",
          "text": [
            "Corrupt JPEG data: premature end of data segment\nCorrupt JPEG data: premature end of data segment\n"
          ]
        },
        {
          "output_type": "stream",
          "name": "stderr",
          "text": [
            "Corrupt JPEG data: premature end of data segment\n"
          ]
        },
        {
          "output_type": "stream",
          "name": "stderr",
          "text": [
            "Corrupt JPEG data: premature end of data segment\n"
          ]
        },
        {
          "output_type": "stream",
          "name": "stderr",
          "text": [
            "Corrupt JPEG data: premature end of data segment\n"
          ]
        },
        {
          "output_type": "stream",
          "name": "stderr",
          "text": [
            "Corrupt JPEG data: premature end of data segment\n"
          ]
        },
        {
          "output_type": "stream",
          "name": "stderr",
          "text": [
            "Corrupt JPEG data: premature end of data segment\n"
          ]
        },
        {
          "output_type": "stream",
          "name": "stderr",
          "text": [
            "Corrupt JPEG data: premature end of data segment\n"
          ]
        },
        {
          "output_type": "stream",
          "name": "stderr",
          "text": [
            "Corrupt JPEG data: premature end of data segment\n"
          ]
        },
        {
          "output_type": "stream",
          "name": "stderr",
          "text": [
            "Corrupt JPEG data: premature end of data segment\n"
          ]
        },
        {
          "output_type": "stream",
          "name": "stderr",
          "text": [
            "Corrupt JPEG data: premature end of data segment\n"
          ]
        },
        {
          "output_type": "stream",
          "name": "stderr",
          "text": [
            "Corrupt JPEG data: premature end of data segment\n"
          ]
        },
        {
          "output_type": "stream",
          "name": "stderr",
          "text": [
            "Corrupt JPEG data: premature end of data segment\n"
          ]
        },
        {
          "output_type": "stream",
          "name": "stderr",
          "text": [
            "Corrupt JPEG data: premature end of data segment\n"
          ]
        },
        {
          "output_type": "stream",
          "name": "stderr",
          "text": [
            "Corrupt JPEG data: premature end of data segment\n"
          ]
        },
        {
          "output_type": "stream",
          "name": "stderr",
          "text": [
            "Corrupt JPEG data: premature end of data segment\n"
          ]
        },
        {
          "output_type": "stream",
          "name": "stderr",
          "text": [
            "Corrupt JPEG data: premature end of data segment\n"
          ]
        },
        {
          "output_type": "stream",
          "name": "stderr",
          "text": [
            "Corrupt JPEG data: premature end of data segment\n"
          ]
        },
        {
          "output_type": "stream",
          "name": "stderr",
          "text": [
            "Corrupt JPEG data: premature end of data segment\n"
          ]
        },
        {
          "output_type": "stream",
          "name": "stderr",
          "text": [
            "Corrupt JPEG data: premature end of data segment\n"
          ]
        },
        {
          "output_type": "stream",
          "name": "stdout",
          "text": [
            "Processed 28000/60760 images, elapsed 36.2 min\n"
          ]
        },
        {
          "output_type": "stream",
          "name": "stderr",
          "text": [
            "Corrupt JPEG data: premature end of data segment\n"
          ]
        },
        {
          "output_type": "stream",
          "name": "stderr",
          "text": [
            "Corrupt JPEG data: premature end of data segment\n"
          ]
        },
        {
          "output_type": "stream",
          "name": "stderr",
          "text": [
            "Corrupt JPEG data: premature end of data segment\n"
          ]
        },
        {
          "output_type": "stream",
          "name": "stderr",
          "text": [
            "Corrupt JPEG data: premature end of data segment\n"
          ]
        },
        {
          "output_type": "stream",
          "name": "stderr",
          "text": [
            "Corrupt JPEG data: premature end of data segment\n"
          ]
        },
        {
          "output_type": "stream",
          "name": "stderr",
          "text": [
            "Corrupt JPEG data: premature end of data segment\n"
          ]
        },
        {
          "output_type": "stream",
          "name": "stderr",
          "text": [
            "Corrupt JPEG data: premature end of data segment\n"
          ]
        },
        {
          "output_type": "stream",
          "name": "stderr",
          "text": [
            "Corrupt JPEG data: premature end of data segment\n"
          ]
        },
        {
          "output_type": "stream",
          "name": "stderr",
          "text": [
            "Corrupt JPEG data: premature end of data segment\n"
          ]
        },
        {
          "output_type": "stream",
          "name": "stderr",
          "text": [
            "Corrupt JPEG data: premature end of data segment\n"
          ]
        },
        {
          "output_type": "stream",
          "name": "stderr",
          "text": [
            "Corrupt JPEG data: premature end of data segment\n"
          ]
        },
        {
          "output_type": "stream",
          "name": "stderr",
          "text": [
            "Corrupt JPEG data: premature end of data segment\n"
          ]
        },
        {
          "output_type": "stream",
          "name": "stdout",
          "text": [
            "Processed 28500/60760 images, elapsed 37.1 min\n"
          ]
        },
        {
          "output_type": "stream",
          "name": "stderr",
          "text": [
            "Corrupt JPEG data: premature end of data segment\n"
          ]
        },
        {
          "output_type": "stream",
          "name": "stderr",
          "text": [
            "Corrupt JPEG data: premature end of data segment\n"
          ]
        },
        {
          "output_type": "stream",
          "name": "stderr",
          "text": [
            "Corrupt JPEG data: premature end of data segment\n"
          ]
        },
        {
          "output_type": "stream",
          "name": "stderr",
          "text": [
            "Corrupt JPEG data: premature end of data segment\n"
          ]
        },
        {
          "output_type": "stream",
          "name": "stderr",
          "text": [
            "Corrupt JPEG data: premature end of data segment\n"
          ]
        },
        {
          "output_type": "stream",
          "name": "stderr",
          "text": [
            "Corrupt JPEG data: premature end of data segment\n"
          ]
        },
        {
          "output_type": "stream",
          "name": "stderr",
          "text": [
            "Corrupt JPEG data: premature end of data segment\n"
          ]
        },
        {
          "output_type": "stream",
          "name": "stderr",
          "text": [
            "Corrupt JPEG data: premature end of data segment\n"
          ]
        },
        {
          "output_type": "stream",
          "name": "stderr",
          "text": [
            "Corrupt JPEG data: premature end of data segment\n"
          ]
        },
        {
          "output_type": "stream",
          "name": "stderr",
          "text": [
            "Corrupt JPEG data: premature end of data segment\n"
          ]
        },
        {
          "output_type": "stream",
          "name": "stderr",
          "text": [
            "Corrupt JPEG data: premature end of data segment\n"
          ]
        },
        {
          "output_type": "stream",
          "name": "stderr",
          "text": [
            "Corrupt JPEG data: premature end of data segment\n"
          ]
        },
        {
          "output_type": "stream",
          "name": "stderr",
          "text": [
            "Corrupt JPEG data: premature end of data segment\n"
          ]
        },
        {
          "output_type": "stream",
          "name": "stderr",
          "text": [
            "Corrupt JPEG data: premature end of data segment\n"
          ]
        },
        {
          "output_type": "stream",
          "name": "stderr",
          "text": [
            "Corrupt JPEG data: premature end of data segment\n"
          ]
        },
        {
          "output_type": "stream",
          "name": "stderr",
          "text": [
            "Corrupt JPEG data: premature end of data segment\n"
          ]
        },
        {
          "output_type": "stream",
          "name": "stderr",
          "text": [
            "Corrupt JPEG data: premature end of data segment\nCorrupt JPEG data: premature end of data segment\n"
          ]
        },
        {
          "output_type": "stream",
          "name": "stderr",
          "text": [
            "Corrupt JPEG data: premature end of data segment\n"
          ]
        },
        {
          "output_type": "stream",
          "name": "stderr",
          "text": [
            "Corrupt JPEG data: premature end of data segment\n"
          ]
        },
        {
          "output_type": "stream",
          "name": "stderr",
          "text": [
            "Corrupt JPEG data: premature end of data segment\nCorrupt JPEG data: premature end of data segment\n"
          ]
        },
        {
          "output_type": "stream",
          "name": "stderr",
          "text": [
            "Corrupt JPEG data: premature end of data segment\n"
          ]
        },
        {
          "output_type": "stream",
          "name": "stderr",
          "text": [
            "Corrupt JPEG data: premature end of data segment\n"
          ]
        },
        {
          "output_type": "stream",
          "name": "stderr",
          "text": [
            "Corrupt JPEG data: premature end of data segment\n"
          ]
        },
        {
          "output_type": "stream",
          "name": "stderr",
          "text": [
            "Corrupt JPEG data: premature end of data segment\n"
          ]
        },
        {
          "output_type": "stream",
          "name": "stderr",
          "text": [
            "Corrupt JPEG data: premature end of data segment\n"
          ]
        },
        {
          "output_type": "stream",
          "name": "stderr",
          "text": [
            "Corrupt JPEG data: premature end of data segment\n"
          ]
        },
        {
          "output_type": "stream",
          "name": "stderr",
          "text": [
            "Corrupt JPEG data: premature end of data segment\n"
          ]
        },
        {
          "output_type": "stream",
          "name": "stderr",
          "text": [
            "Corrupt JPEG data: premature end of data segment\n"
          ]
        },
        {
          "output_type": "stream",
          "name": "stderr",
          "text": [
            "Corrupt JPEG data: premature end of data segment\n"
          ]
        },
        {
          "output_type": "stream",
          "name": "stderr",
          "text": [
            "Corrupt JPEG data: premature end of data segment\n"
          ]
        },
        {
          "output_type": "stream",
          "name": "stderr",
          "text": [
            "Corrupt JPEG data: premature end of data segment\n"
          ]
        },
        {
          "output_type": "stream",
          "name": "stdout",
          "text": [
            "Processed 29000/60760 images, elapsed 37.9 min\n"
          ]
        },
        {
          "output_type": "stream",
          "name": "stderr",
          "text": [
            "Corrupt JPEG data: premature end of data segment\n"
          ]
        },
        {
          "output_type": "stream",
          "name": "stderr",
          "text": [
            "Corrupt JPEG data: premature end of data segment\n"
          ]
        },
        {
          "output_type": "stream",
          "name": "stderr",
          "text": [
            "Corrupt JPEG data: premature end of data segment\n"
          ]
        },
        {
          "output_type": "stream",
          "name": "stderr",
          "text": [
            "Corrupt JPEG data: premature end of data segment\nCorrupt JPEG data: premature end of data segment\n"
          ]
        },
        {
          "output_type": "stream",
          "name": "stderr",
          "text": [
            "Corrupt JPEG data: premature end of data segment\nCorrupt JPEG data: premature end of data segment\n"
          ]
        },
        {
          "output_type": "stream",
          "name": "stderr",
          "text": [
            "Corrupt JPEG data: premature end of data segment\n"
          ]
        },
        {
          "output_type": "stream",
          "name": "stderr",
          "text": [
            "Corrupt JPEG data: premature end of data segment\n"
          ]
        },
        {
          "output_type": "stream",
          "name": "stderr",
          "text": [
            "Corrupt JPEG data: premature end of data segment\n"
          ]
        },
        {
          "output_type": "stream",
          "name": "stderr",
          "text": [
            "Corrupt JPEG data: premature end of data segment\n"
          ]
        },
        {
          "output_type": "stream",
          "name": "stderr",
          "text": [
            "Corrupt JPEG data: premature end of data segment\n"
          ]
        },
        {
          "output_type": "stream",
          "name": "stderr",
          "text": [
            "Corrupt JPEG data: premature end of data segment\n"
          ]
        },
        {
          "output_type": "stream",
          "name": "stderr",
          "text": [
            "Corrupt JPEG data: premature end of data segment\n"
          ]
        },
        {
          "output_type": "stream",
          "name": "stderr",
          "text": [
            "Corrupt JPEG data: premature end of data segment\n"
          ]
        },
        {
          "output_type": "stream",
          "name": "stderr",
          "text": [
            "Corrupt JPEG data: premature end of data segment\nCorrupt JPEG data: premature end of data segment\n"
          ]
        },
        {
          "output_type": "stream",
          "name": "stderr",
          "text": [
            "Corrupt JPEG data: premature end of data segment\n"
          ]
        },
        {
          "output_type": "stream",
          "name": "stderr",
          "text": [
            "Corrupt JPEG data: premature end of data segment\n"
          ]
        },
        {
          "output_type": "stream",
          "name": "stderr",
          "text": [
            "Corrupt JPEG data: premature end of data segment\n"
          ]
        },
        {
          "output_type": "stream",
          "name": "stderr",
          "text": [
            "Corrupt JPEG data: premature end of data segment\n"
          ]
        },
        {
          "output_type": "stream",
          "name": "stderr",
          "text": [
            "Corrupt JPEG data: premature end of data segment\n"
          ]
        },
        {
          "output_type": "stream",
          "name": "stderr",
          "text": [
            "Corrupt JPEG data: premature end of data segment\nCorrupt JPEG data: premature end of data segment\n"
          ]
        },
        {
          "output_type": "stream",
          "name": "stderr",
          "text": [
            "Corrupt JPEG data: premature end of data segment\n"
          ]
        },
        {
          "output_type": "stream",
          "name": "stderr",
          "text": [
            "Corrupt JPEG data: premature end of data segment\n"
          ]
        },
        {
          "output_type": "stream",
          "name": "stderr",
          "text": [
            "Corrupt JPEG data: premature end of data segment\n"
          ]
        },
        {
          "output_type": "stream",
          "name": "stderr",
          "text": [
            "Corrupt JPEG data: premature end of data segment\n"
          ]
        },
        {
          "output_type": "stream",
          "name": "stderr",
          "text": [
            "Corrupt JPEG data: premature end of data segment\n"
          ]
        },
        {
          "output_type": "stream",
          "name": "stdout",
          "text": [
            "Processed 29500/60760 images, elapsed 38.8 min\n"
          ]
        },
        {
          "output_type": "stream",
          "name": "stderr",
          "text": [
            "Corrupt JPEG data: premature end of data segment\n"
          ]
        },
        {
          "output_type": "stream",
          "name": "stderr",
          "text": [
            "Corrupt JPEG data: premature end of data segment\n"
          ]
        },
        {
          "output_type": "stream",
          "name": "stderr",
          "text": [
            "Corrupt JPEG data: premature end of data segment\n"
          ]
        },
        {
          "output_type": "stream",
          "name": "stderr",
          "text": [
            "Corrupt JPEG data: premature end of data segment\n"
          ]
        },
        {
          "output_type": "stream",
          "name": "stderr",
          "text": [
            "Corrupt JPEG data: premature end of data segment\n"
          ]
        },
        {
          "output_type": "stream",
          "name": "stderr",
          "text": [
            "Corrupt JPEG data: premature end of data segment\n"
          ]
        },
        {
          "output_type": "stream",
          "name": "stderr",
          "text": [
            "Corrupt JPEG data: premature end of data segment\n"
          ]
        },
        {
          "output_type": "stream",
          "name": "stderr",
          "text": [
            "Corrupt JPEG data: premature end of data segment\n"
          ]
        },
        {
          "output_type": "stream",
          "name": "stderr",
          "text": [
            "Corrupt JPEG data: premature end of data segment\n"
          ]
        },
        {
          "output_type": "stream",
          "name": "stdout",
          "text": [
            "Processed 30000/60760 images, elapsed 39.6 min\n"
          ]
        },
        {
          "output_type": "stream",
          "name": "stderr",
          "text": [
            "Corrupt JPEG data: premature end of data segment\n"
          ]
        },
        {
          "output_type": "stream",
          "name": "stderr",
          "text": [
            "Corrupt JPEG data: premature end of data segment\n"
          ]
        },
        {
          "output_type": "stream",
          "name": "stderr",
          "text": [
            "Corrupt JPEG data: premature end of data segment\n"
          ]
        },
        {
          "output_type": "stream",
          "name": "stderr",
          "text": [
            "Corrupt JPEG data: premature end of data segment\n"
          ]
        },
        {
          "output_type": "stream",
          "name": "stderr",
          "text": [
            "Corrupt JPEG data: premature end of data segment\n"
          ]
        },
        {
          "output_type": "stream",
          "name": "stderr",
          "text": [
            "Corrupt JPEG data: premature end of data segment\n"
          ]
        },
        {
          "output_type": "stream",
          "name": "stderr",
          "text": [
            "Corrupt JPEG data: premature end of data segment\n"
          ]
        },
        {
          "output_type": "stream",
          "name": "stderr",
          "text": [
            "Corrupt JPEG data: premature end of data segment\n"
          ]
        },
        {
          "output_type": "stream",
          "name": "stderr",
          "text": [
            "Corrupt JPEG data: premature end of data segment\n"
          ]
        },
        {
          "output_type": "stream",
          "name": "stderr",
          "text": [
            "Corrupt JPEG data: premature end of data segment\n"
          ]
        },
        {
          "output_type": "stream",
          "name": "stderr",
          "text": [
            "Corrupt JPEG data: premature end of data segment\n"
          ]
        },
        {
          "output_type": "stream",
          "name": "stderr",
          "text": [
            "Corrupt JPEG data: premature end of data segment\n"
          ]
        },
        {
          "output_type": "stream",
          "name": "stderr",
          "text": [
            "Corrupt JPEG data: premature end of data segment\n"
          ]
        },
        {
          "output_type": "stream",
          "name": "stderr",
          "text": [
            "Corrupt JPEG data: premature end of data segment\n"
          ]
        },
        {
          "output_type": "stream",
          "name": "stdout",
          "text": [
            "Processed 30500/60760 images, elapsed 40.5 min\n"
          ]
        },
        {
          "output_type": "stream",
          "name": "stderr",
          "text": [
            "Corrupt JPEG data: premature end of data segment\n"
          ]
        },
        {
          "output_type": "stream",
          "name": "stderr",
          "text": [
            "Corrupt JPEG data: premature end of data segment\n"
          ]
        },
        {
          "output_type": "stream",
          "name": "stderr",
          "text": [
            "Corrupt JPEG data: premature end of data segment\n"
          ]
        },
        {
          "output_type": "stream",
          "name": "stderr",
          "text": [
            "Corrupt JPEG data: premature end of data segment\n"
          ]
        },
        {
          "output_type": "stream",
          "name": "stderr",
          "text": [
            "Corrupt JPEG data: premature end of data segment\n"
          ]
        },
        {
          "output_type": "stream",
          "name": "stderr",
          "text": [
            "Corrupt JPEG data: premature end of data segment\n"
          ]
        },
        {
          "output_type": "stream",
          "name": "stderr",
          "text": [
            "Corrupt JPEG data: premature end of data segment\n"
          ]
        },
        {
          "output_type": "stream",
          "name": "stdout",
          "text": [
            "Processed 31000/60760 images, elapsed 41.4 min\n"
          ]
        },
        {
          "output_type": "stream",
          "name": "stderr",
          "text": [
            "Corrupt JPEG data: premature end of data segment\n"
          ]
        },
        {
          "output_type": "stream",
          "name": "stderr",
          "text": [
            "Corrupt JPEG data: premature end of data segment\nCorrupt JPEG data: premature end of data segment\n"
          ]
        },
        {
          "output_type": "stream",
          "name": "stderr",
          "text": [
            "Corrupt JPEG data: premature end of data segment\n"
          ]
        },
        {
          "output_type": "stream",
          "name": "stderr",
          "text": [
            "Corrupt JPEG data: premature end of data segment\n"
          ]
        },
        {
          "output_type": "stream",
          "name": "stdout",
          "text": [
            "Processed 31500/60760 images, elapsed 42.2 min\n"
          ]
        },
        {
          "output_type": "stream",
          "name": "stderr",
          "text": [
            "Corrupt JPEG data: premature end of data segment\n"
          ]
        },
        {
          "output_type": "stream",
          "name": "stderr",
          "text": [
            "Corrupt JPEG data: premature end of data segment\n"
          ]
        },
        {
          "output_type": "stream",
          "name": "stderr",
          "text": [
            "Corrupt JPEG data: premature end of data segment\n"
          ]
        },
        {
          "output_type": "stream",
          "name": "stderr",
          "text": [
            "Corrupt JPEG data: premature end of data segment\n"
          ]
        },
        {
          "output_type": "stream",
          "name": "stderr",
          "text": [
            "Corrupt JPEG data: premature end of data segment\n"
          ]
        },
        {
          "output_type": "stream",
          "name": "stderr",
          "text": [
            "Corrupt JPEG data: premature end of data segment\n"
          ]
        },
        {
          "output_type": "stream",
          "name": "stderr",
          "text": [
            "Corrupt JPEG data: premature end of data segment\n"
          ]
        },
        {
          "output_type": "stream",
          "name": "stderr",
          "text": [
            "Corrupt JPEG data: premature end of data segment\n"
          ]
        },
        {
          "output_type": "stream",
          "name": "stderr",
          "text": [
            "Corrupt JPEG data: premature end of data segment\n"
          ]
        },
        {
          "output_type": "stream",
          "name": "stderr",
          "text": [
            "Corrupt JPEG data: premature end of data segment\n"
          ]
        },
        {
          "output_type": "stream",
          "name": "stderr",
          "text": [
            "Corrupt JPEG data: premature end of data segment\n"
          ]
        },
        {
          "output_type": "stream",
          "name": "stderr",
          "text": [
            "Corrupt JPEG data: premature end of data segment\n"
          ]
        },
        {
          "output_type": "stream",
          "name": "stdout",
          "text": [
            "Processed 32000/60760 images, elapsed 43.1 min\n"
          ]
        },
        {
          "output_type": "stream",
          "name": "stderr",
          "text": [
            "Corrupt JPEG data: premature end of data segment\n"
          ]
        },
        {
          "output_type": "stream",
          "name": "stderr",
          "text": [
            "Corrupt JPEG data: premature end of data segment\n"
          ]
        },
        {
          "output_type": "stream",
          "name": "stderr",
          "text": [
            "Corrupt JPEG data: premature end of data segment\n"
          ]
        },
        {
          "output_type": "stream",
          "name": "stderr",
          "text": [
            "Corrupt JPEG data: premature end of data segment\n"
          ]
        },
        {
          "output_type": "stream",
          "name": "stderr",
          "text": [
            "Corrupt JPEG data: premature end of data segment\n"
          ]
        },
        {
          "output_type": "stream",
          "name": "stderr",
          "text": [
            "Corrupt JPEG data: premature end of data segment\n"
          ]
        },
        {
          "output_type": "stream",
          "name": "stdout",
          "text": [
            "Processed 32500/60760 images, elapsed 44.0 min\n"
          ]
        },
        {
          "output_type": "stream",
          "name": "stderr",
          "text": [
            "Corrupt JPEG data: premature end of data segment\n"
          ]
        },
        {
          "output_type": "stream",
          "name": "stderr",
          "text": [
            "Corrupt JPEG data: premature end of data segment\n"
          ]
        },
        {
          "output_type": "stream",
          "name": "stderr",
          "text": [
            "Corrupt JPEG data: premature end of data segment\n"
          ]
        },
        {
          "output_type": "stream",
          "name": "stderr",
          "text": [
            "Corrupt JPEG data: premature end of data segment\nCorrupt JPEG data: premature end of data segment\n"
          ]
        },
        {
          "output_type": "stream",
          "name": "stderr",
          "text": [
            "Corrupt JPEG data: premature end of data segment\n"
          ]
        },
        {
          "output_type": "stream",
          "name": "stderr",
          "text": [
            "Corrupt JPEG data: premature end of data segment\n"
          ]
        },
        {
          "output_type": "stream",
          "name": "stdout",
          "text": [
            "Processed 33000/60760 images, elapsed 44.8 min\n"
          ]
        },
        {
          "output_type": "stream",
          "name": "stderr",
          "text": [
            "Corrupt JPEG data: premature end of data segment\n"
          ]
        },
        {
          "output_type": "stream",
          "name": "stderr",
          "text": [
            "Corrupt JPEG data: premature end of data segment\n"
          ]
        },
        {
          "output_type": "stream",
          "name": "stderr",
          "text": [
            "Corrupt JPEG data: premature end of data segment\n"
          ]
        },
        {
          "output_type": "stream",
          "name": "stderr",
          "text": [
            "Corrupt JPEG data: premature end of data segment\n"
          ]
        },
        {
          "output_type": "stream",
          "name": "stderr",
          "text": [
            "Corrupt JPEG data: premature end of data segment\n"
          ]
        },
        {
          "output_type": "stream",
          "name": "stderr",
          "text": [
            "Corrupt JPEG data: premature end of data segment\n"
          ]
        },
        {
          "output_type": "stream",
          "name": "stdout",
          "text": [
            "Processed 33500/60760 images, elapsed 45.6 min\n"
          ]
        },
        {
          "output_type": "stream",
          "name": "stderr",
          "text": [
            "Corrupt JPEG data: premature end of data segment\n"
          ]
        },
        {
          "output_type": "stream",
          "name": "stderr",
          "text": [
            "Corrupt JPEG data: premature end of data segment\n"
          ]
        },
        {
          "output_type": "stream",
          "name": "stderr",
          "text": [
            "Corrupt JPEG data: premature end of data segment\n"
          ]
        },
        {
          "output_type": "stream",
          "name": "stderr",
          "text": [
            "Corrupt JPEG data: premature end of data segment\n"
          ]
        },
        {
          "output_type": "stream",
          "name": "stderr",
          "text": [
            "Corrupt JPEG data: premature end of data segment\n"
          ]
        },
        {
          "output_type": "stream",
          "name": "stderr",
          "text": [
            "Corrupt JPEG data: premature end of data segment\n"
          ]
        },
        {
          "output_type": "stream",
          "name": "stderr",
          "text": [
            "Corrupt JPEG data: premature end of data segment\n"
          ]
        },
        {
          "output_type": "stream",
          "name": "stderr",
          "text": [
            "Corrupt JPEG data: premature end of data segment\n"
          ]
        },
        {
          "output_type": "stream",
          "name": "stderr",
          "text": [
            "Corrupt JPEG data: premature end of data segment\n"
          ]
        },
        {
          "output_type": "stream",
          "name": "stdout",
          "text": [
            "Processed 34000/60760 images, elapsed 46.4 min\n"
          ]
        },
        {
          "output_type": "stream",
          "name": "stderr",
          "text": [
            "Corrupt JPEG data: premature end of data segment\n"
          ]
        },
        {
          "output_type": "stream",
          "name": "stderr",
          "text": [
            "Corrupt JPEG data: premature end of data segment\n"
          ]
        },
        {
          "output_type": "stream",
          "name": "stderr",
          "text": [
            "Corrupt JPEG data: premature end of data segment\n"
          ]
        },
        {
          "output_type": "stream",
          "name": "stderr",
          "text": [
            "Corrupt JPEG data: premature end of data segment\n"
          ]
        },
        {
          "output_type": "stream",
          "name": "stderr",
          "text": [
            "Corrupt JPEG data: premature end of data segment\n"
          ]
        },
        {
          "output_type": "stream",
          "name": "stderr",
          "text": [
            "Corrupt JPEG data: premature end of data segment\n"
          ]
        },
        {
          "output_type": "stream",
          "name": "stderr",
          "text": [
            "Corrupt JPEG data: premature end of data segment\n"
          ]
        },
        {
          "output_type": "stream",
          "name": "stderr",
          "text": [
            "Corrupt JPEG data: premature end of data segment\nCorrupt JPEG data: premature end of data segment\n"
          ]
        },
        {
          "output_type": "stream",
          "name": "stderr",
          "text": [
            "Corrupt JPEG data: premature end of data segment\n"
          ]
        },
        {
          "output_type": "stream",
          "name": "stderr",
          "text": [
            "Corrupt JPEG data: premature end of data segment\n"
          ]
        },
        {
          "output_type": "stream",
          "name": "stdout",
          "text": [
            "Processed 34500/60760 images, elapsed 47.2 min\n"
          ]
        },
        {
          "output_type": "stream",
          "name": "stderr",
          "text": [
            "Corrupt JPEG data: premature end of data segment\n"
          ]
        },
        {
          "output_type": "stream",
          "name": "stderr",
          "text": [
            "Corrupt JPEG data: premature end of data segment\n"
          ]
        },
        {
          "output_type": "stream",
          "name": "stderr",
          "text": [
            "Corrupt JPEG data: premature end of data segment\n"
          ]
        },
        {
          "output_type": "stream",
          "name": "stderr",
          "text": [
            "Corrupt JPEG data: premature end of data segment\n"
          ]
        },
        {
          "output_type": "stream",
          "name": "stderr",
          "text": [
            "Corrupt JPEG data: premature end of data segment\n"
          ]
        },
        {
          "output_type": "stream",
          "name": "stderr",
          "text": [
            "Corrupt JPEG data: premature end of data segment\n"
          ]
        },
        {
          "output_type": "stream",
          "name": "stderr",
          "text": [
            "Corrupt JPEG data: premature end of data segment\n"
          ]
        },
        {
          "output_type": "stream",
          "name": "stderr",
          "text": [
            "Corrupt JPEG data: premature end of data segment\n"
          ]
        },
        {
          "output_type": "stream",
          "name": "stderr",
          "text": [
            "Corrupt JPEG data: premature end of data segment\n"
          ]
        },
        {
          "output_type": "stream",
          "name": "stderr",
          "text": [
            "Corrupt JPEG data: premature end of data segment\n"
          ]
        },
        {
          "output_type": "stream",
          "name": "stderr",
          "text": [
            "Corrupt JPEG data: premature end of data segment\n"
          ]
        },
        {
          "output_type": "stream",
          "name": "stderr",
          "text": [
            "Corrupt JPEG data: premature end of data segment\n"
          ]
        },
        {
          "output_type": "stream",
          "name": "stderr",
          "text": [
            "Corrupt JPEG data: premature end of data segment\n"
          ]
        },
        {
          "output_type": "stream",
          "name": "stderr",
          "text": [
            "Corrupt JPEG data: premature end of data segment\n"
          ]
        },
        {
          "output_type": "stream",
          "name": "stderr",
          "text": [
            "Corrupt JPEG data: premature end of data segment\n"
          ]
        },
        {
          "output_type": "stream",
          "name": "stderr",
          "text": [
            "Corrupt JPEG data: premature end of data segment\nCorrupt JPEG data: premature end of data segment\n"
          ]
        },
        {
          "output_type": "stream",
          "name": "stderr",
          "text": [
            "Corrupt JPEG data: premature end of data segment\n"
          ]
        },
        {
          "output_type": "stream",
          "name": "stderr",
          "text": [
            "Corrupt JPEG data: premature end of data segment\n"
          ]
        },
        {
          "output_type": "stream",
          "name": "stderr",
          "text": [
            "Corrupt JPEG data: premature end of data segment\n"
          ]
        },
        {
          "output_type": "stream",
          "name": "stderr",
          "text": [
            "Corrupt JPEG data: premature end of data segment\n"
          ]
        },
        {
          "output_type": "stream",
          "name": "stderr",
          "text": [
            "Corrupt JPEG data: premature end of data segment\n"
          ]
        },
        {
          "output_type": "stream",
          "name": "stderr",
          "text": [
            "Corrupt JPEG data: premature end of data segment\n"
          ]
        },
        {
          "output_type": "stream",
          "name": "stdout",
          "text": [
            "Processed 35000/60760 images, elapsed 48.0 min\n"
          ]
        },
        {
          "output_type": "stream",
          "name": "stderr",
          "text": [
            "Corrupt JPEG data: premature end of data segment\n"
          ]
        },
        {
          "output_type": "stream",
          "name": "stderr",
          "text": [
            "Corrupt JPEG data: premature end of data segment\n"
          ]
        },
        {
          "output_type": "stream",
          "name": "stderr",
          "text": [
            "Corrupt JPEG data: premature end of data segment\nCorrupt JPEG data: premature end of data segment\n"
          ]
        },
        {
          "output_type": "stream",
          "name": "stderr",
          "text": [
            "Corrupt JPEG data: premature end of data segment\n"
          ]
        },
        {
          "output_type": "stream",
          "name": "stderr",
          "text": [
            "Corrupt JPEG data: premature end of data segment\n"
          ]
        },
        {
          "output_type": "stream",
          "name": "stderr",
          "text": [
            "Corrupt JPEG data: premature end of data segment\n"
          ]
        },
        {
          "output_type": "stream",
          "name": "stderr",
          "text": [
            "Corrupt JPEG data: premature end of data segment\n"
          ]
        },
        {
          "output_type": "stream",
          "name": "stderr",
          "text": [
            "Corrupt JPEG data: premature end of data segment\n"
          ]
        },
        {
          "output_type": "stream",
          "name": "stderr",
          "text": [
            "Corrupt JPEG data: premature end of data segment\n"
          ]
        },
        {
          "output_type": "stream",
          "name": "stderr",
          "text": [
            "Corrupt JPEG data: premature end of data segment\n"
          ]
        },
        {
          "output_type": "stream",
          "name": "stderr",
          "text": [
            "Corrupt JPEG data: premature end of data segment\n"
          ]
        },
        {
          "output_type": "stream",
          "name": "stderr",
          "text": [
            "Corrupt JPEG data: premature end of data segment\n"
          ]
        },
        {
          "output_type": "stream",
          "name": "stderr",
          "text": [
            "Corrupt JPEG data: premature end of data segment\n"
          ]
        },
        {
          "output_type": "stream",
          "name": "stderr",
          "text": [
            "Corrupt JPEG data: premature end of data segment\n"
          ]
        },
        {
          "output_type": "stream",
          "name": "stderr",
          "text": [
            "Corrupt JPEG data: premature end of data segment\n"
          ]
        },
        {
          "output_type": "stream",
          "name": "stdout",
          "text": [
            "Processed 35500/60760 images, elapsed 48.8 min\n"
          ]
        },
        {
          "output_type": "stream",
          "name": "stderr",
          "text": [
            "Corrupt JPEG data: premature end of data segment\nCorrupt JPEG data: premature end of data segment\n"
          ]
        },
        {
          "output_type": "stream",
          "name": "stderr",
          "text": [
            "Corrupt JPEG data: premature end of data segment\n"
          ]
        },
        {
          "output_type": "stream",
          "name": "stderr",
          "text": [
            "Corrupt JPEG data: premature end of data segment\n"
          ]
        },
        {
          "output_type": "stream",
          "name": "stderr",
          "text": [
            "Corrupt JPEG data: premature end of data segment\n"
          ]
        },
        {
          "output_type": "stream",
          "name": "stderr",
          "text": [
            "Corrupt JPEG data: premature end of data segment\n"
          ]
        },
        {
          "output_type": "stream",
          "name": "stderr",
          "text": [
            "Corrupt JPEG data: premature end of data segment\n"
          ]
        },
        {
          "output_type": "stream",
          "name": "stdout",
          "text": [
            "Processed 36000/60760 images, elapsed 49.6 min\n"
          ]
        },
        {
          "output_type": "stream",
          "name": "stderr",
          "text": [
            "Corrupt JPEG data: premature end of data segment\n"
          ]
        },
        {
          "output_type": "stream",
          "name": "stderr",
          "text": [
            "Corrupt JPEG data: premature end of data segment\n"
          ]
        },
        {
          "output_type": "stream",
          "name": "stderr",
          "text": [
            "Corrupt JPEG data: premature end of data segment\n"
          ]
        },
        {
          "output_type": "stream",
          "name": "stderr",
          "text": [
            "Corrupt JPEG data: premature end of data segment\n"
          ]
        },
        {
          "output_type": "stream",
          "name": "stderr",
          "text": [
            "Corrupt JPEG data: premature end of data segment\n"
          ]
        },
        {
          "output_type": "stream",
          "name": "stderr",
          "text": [
            "Corrupt JPEG data: premature end of data segment\n"
          ]
        },
        {
          "output_type": "stream",
          "name": "stderr",
          "text": [
            "Corrupt JPEG data: premature end of data segment\n"
          ]
        },
        {
          "output_type": "stream",
          "name": "stderr",
          "text": [
            "Corrupt JPEG data: premature end of data segment\n"
          ]
        },
        {
          "output_type": "stream",
          "name": "stdout",
          "text": [
            "Processed 36500/60760 images, elapsed 50.4 min\n"
          ]
        },
        {
          "output_type": "stream",
          "name": "stderr",
          "text": [
            "Corrupt JPEG data: premature end of data segment\n"
          ]
        },
        {
          "output_type": "stream",
          "name": "stderr",
          "text": [
            "Corrupt JPEG data: premature end of data segment\n"
          ]
        },
        {
          "output_type": "stream",
          "name": "stderr",
          "text": [
            "Corrupt JPEG data: premature end of data segment\n"
          ]
        },
        {
          "output_type": "stream",
          "name": "stderr",
          "text": [
            "Corrupt JPEG data: premature end of data segment\n"
          ]
        },
        {
          "output_type": "stream",
          "name": "stderr",
          "text": [
            "Corrupt JPEG data: premature end of data segment\n"
          ]
        },
        {
          "output_type": "stream",
          "name": "stderr",
          "text": [
            "Corrupt JPEG data: premature end of data segment\n"
          ]
        },
        {
          "output_type": "stream",
          "name": "stderr",
          "text": [
            "Corrupt JPEG data: premature end of data segment\n"
          ]
        },
        {
          "output_type": "stream",
          "name": "stderr",
          "text": [
            "Corrupt JPEG data: premature end of data segment\n"
          ]
        },
        {
          "output_type": "stream",
          "name": "stderr",
          "text": [
            "Corrupt JPEG data: premature end of data segment\n"
          ]
        },
        {
          "output_type": "stream",
          "name": "stderr",
          "text": [
            "Corrupt JPEG data: premature end of data segment\n"
          ]
        },
        {
          "output_type": "stream",
          "name": "stderr",
          "text": [
            "Corrupt JPEG data: premature end of data segment\n"
          ]
        },
        {
          "output_type": "stream",
          "name": "stderr",
          "text": [
            "Corrupt JPEG data: premature end of data segment\n"
          ]
        },
        {
          "output_type": "stream",
          "name": "stderr",
          "text": [
            "Corrupt JPEG data: premature end of data segment\n"
          ]
        },
        {
          "output_type": "stream",
          "name": "stderr",
          "text": [
            "Corrupt JPEG data: premature end of data segment\n"
          ]
        },
        {
          "output_type": "stream",
          "name": "stderr",
          "text": [
            "Corrupt JPEG data: premature end of data segment\n"
          ]
        },
        {
          "output_type": "stream",
          "name": "stderr",
          "text": [
            "Corrupt JPEG data: premature end of data segment\n"
          ]
        },
        {
          "output_type": "stream",
          "name": "stderr",
          "text": [
            "Corrupt JPEG data: premature end of data segment\n"
          ]
        },
        {
          "output_type": "stream",
          "name": "stdout",
          "text": [
            "Processed 37000/60760 images, elapsed 51.2 min\n"
          ]
        },
        {
          "output_type": "stream",
          "name": "stdout",
          "text": [
            "Processed 37500/60760 images, elapsed 52.0 min\n"
          ]
        },
        {
          "output_type": "stream",
          "name": "stderr",
          "text": [
            "Corrupt JPEG data: premature end of data segment\n"
          ]
        },
        {
          "output_type": "stream",
          "name": "stderr",
          "text": [
            "Corrupt JPEG data: premature end of data segment\n"
          ]
        },
        {
          "output_type": "stream",
          "name": "stderr",
          "text": [
            "Corrupt JPEG data: premature end of data segment\n"
          ]
        },
        {
          "output_type": "stream",
          "name": "stdout",
          "text": [
            "Processed 38000/60760 images, elapsed 52.8 min\n"
          ]
        },
        {
          "output_type": "stream",
          "name": "stderr",
          "text": [
            "Corrupt JPEG data: premature end of data segment\n"
          ]
        },
        {
          "output_type": "stream",
          "name": "stderr",
          "text": [
            "Corrupt JPEG data: premature end of data segment\n"
          ]
        },
        {
          "output_type": "stream",
          "name": "stderr",
          "text": [
            "Corrupt JPEG data: premature end of data segment\n"
          ]
        },
        {
          "output_type": "stream",
          "name": "stderr",
          "text": [
            "Corrupt JPEG data: premature end of data segment\n"
          ]
        },
        {
          "output_type": "stream",
          "name": "stderr",
          "text": [
            "Corrupt JPEG data: premature end of data segment\n"
          ]
        },
        {
          "output_type": "stream",
          "name": "stderr",
          "text": [
            "Corrupt JPEG data: premature end of data segment\n"
          ]
        },
        {
          "output_type": "stream",
          "name": "stderr",
          "text": [
            "Corrupt JPEG data: premature end of data segment\n"
          ]
        },
        {
          "output_type": "stream",
          "name": "stderr",
          "text": [
            "Corrupt JPEG data: premature end of data segment\n"
          ]
        },
        {
          "output_type": "stream",
          "name": "stdout",
          "text": [
            "Processed 38500/60760 images, elapsed 53.7 min\n"
          ]
        },
        {
          "output_type": "stream",
          "name": "stdout",
          "text": [
            "Processed 39000/60760 images, elapsed 54.5 min\n"
          ]
        },
        {
          "output_type": "stream",
          "name": "stderr",
          "text": [
            "Corrupt JPEG data: premature end of data segment\n"
          ]
        },
        {
          "output_type": "stream",
          "name": "stdout",
          "text": [
            "Processed 39500/60760 images, elapsed 55.3 min\n"
          ]
        },
        {
          "output_type": "stream",
          "name": "stdout",
          "text": [
            "Processed 40000/60760 images, elapsed 56.1 min\n"
          ]
        },
        {
          "output_type": "stream",
          "name": "stdout",
          "text": [
            "Processed 40500/60760 images, elapsed 56.9 min\n"
          ]
        },
        {
          "output_type": "stream",
          "name": "stderr",
          "text": [
            "Corrupt JPEG data: premature end of data segment\n"
          ]
        },
        {
          "output_type": "stream",
          "name": "stderr",
          "text": [
            "Corrupt JPEG data: premature end of data segment\n"
          ]
        },
        {
          "output_type": "stream",
          "name": "stderr",
          "text": [
            "Corrupt JPEG data: premature end of data segment\n"
          ]
        },
        {
          "output_type": "stream",
          "name": "stderr",
          "text": [
            "Corrupt JPEG data: premature end of data segment\n"
          ]
        },
        {
          "output_type": "stream",
          "name": "stdout",
          "text": [
            "Processed 41000/60760 images, elapsed 57.7 min\n"
          ]
        },
        {
          "output_type": "stream",
          "name": "stderr",
          "text": [
            "Corrupt JPEG data: premature end of data segment\n"
          ]
        },
        {
          "output_type": "stream",
          "name": "stderr",
          "text": [
            "Corrupt JPEG data: premature end of data segment\n"
          ]
        },
        {
          "output_type": "stream",
          "name": "stderr",
          "text": [
            "Corrupt JPEG data: premature end of data segment\n"
          ]
        },
        {
          "output_type": "stream",
          "name": "stdout",
          "text": [
            "Processed 41500/60760 images, elapsed 58.5 min\n"
          ]
        },
        {
          "output_type": "stream",
          "name": "stderr",
          "text": [
            "Corrupt JPEG data: premature end of data segment\n"
          ]
        },
        {
          "output_type": "stream",
          "name": "stderr",
          "text": [
            "Corrupt JPEG data: premature end of data segment\n"
          ]
        },
        {
          "output_type": "stream",
          "name": "stderr",
          "text": [
            "Corrupt JPEG data: premature end of data segment\nCorrupt JPEG data: premature end of data segment\n"
          ]
        },
        {
          "output_type": "stream",
          "name": "stderr",
          "text": [
            "Corrupt JPEG data: premature end of data segment\n"
          ]
        },
        {
          "output_type": "stream",
          "name": "stderr",
          "text": [
            "Corrupt JPEG data: premature end of data segment\n"
          ]
        },
        {
          "output_type": "stream",
          "name": "stderr",
          "text": [
            "Corrupt JPEG data: premature end of data segment\nCorrupt JPEG data: premature end of data segment\n"
          ]
        },
        {
          "output_type": "stream",
          "name": "stderr",
          "text": [
            "Corrupt JPEG data: premature end of data segment\nCorrupt JPEG data: premature end of data segment\n"
          ]
        },
        {
          "output_type": "stream",
          "name": "stdout",
          "text": [
            "Processed 42000/60760 images, elapsed 59.3 min\n"
          ]
        },
        {
          "output_type": "stream",
          "name": "stdout",
          "text": [
            "Processed 42500/60760 images, elapsed 60.1 min\n"
          ]
        },
        {
          "output_type": "stream",
          "name": "stdout",
          "text": [
            "Processed 43000/60760 images, elapsed 61.0 min\n"
          ]
        },
        {
          "output_type": "stream",
          "name": "stderr",
          "text": [
            "Corrupt JPEG data: premature end of data segment\n"
          ]
        },
        {
          "output_type": "stream",
          "name": "stderr",
          "text": [
            "Corrupt JPEG data: premature end of data segment\n"
          ]
        },
        {
          "output_type": "stream",
          "name": "stderr",
          "text": [
            "Corrupt JPEG data: premature end of data segment\n"
          ]
        },
        {
          "output_type": "stream",
          "name": "stdout",
          "text": [
            "Processed 43500/60760 images, elapsed 61.8 min\n"
          ]
        },
        {
          "output_type": "stream",
          "name": "stderr",
          "text": [
            "Corrupt JPEG data: premature end of data segment\n"
          ]
        },
        {
          "output_type": "stream",
          "name": "stderr",
          "text": [
            "Corrupt JPEG data: premature end of data segment\n"
          ]
        },
        {
          "output_type": "stream",
          "name": "stderr",
          "text": [
            "Corrupt JPEG data: premature end of data segment\n"
          ]
        },
        {
          "output_type": "stream",
          "name": "stderr",
          "text": [
            "Corrupt JPEG data: premature end of data segment\n"
          ]
        },
        {
          "output_type": "stream",
          "name": "stderr",
          "text": [
            "Corrupt JPEG data: premature end of data segment\n"
          ]
        },
        {
          "output_type": "stream",
          "name": "stderr",
          "text": [
            "Corrupt JPEG data: premature end of data segment\n"
          ]
        },
        {
          "output_type": "stream",
          "name": "stderr",
          "text": [
            "Corrupt JPEG data: premature end of data segment\nCorrupt JPEG data: premature end of data segment\n"
          ]
        },
        {
          "output_type": "stream",
          "name": "stderr",
          "text": [
            "Corrupt JPEG data: premature end of data segment\n"
          ]
        },
        {
          "output_type": "stream",
          "name": "stdout",
          "text": [
            "Processed 44000/60760 images, elapsed 62.6 min\n"
          ]
        },
        {
          "output_type": "stream",
          "name": "stderr",
          "text": [
            "Corrupt JPEG data: premature end of data segment\n"
          ]
        },
        {
          "output_type": "stream",
          "name": "stderr",
          "text": [
            "Corrupt JPEG data: premature end of data segment\n"
          ]
        },
        {
          "output_type": "stream",
          "name": "stderr",
          "text": [
            "Corrupt JPEG data: premature end of data segment\n"
          ]
        },
        {
          "output_type": "stream",
          "name": "stderr",
          "text": [
            "Corrupt JPEG data: premature end of data segment\n"
          ]
        },
        {
          "output_type": "stream",
          "name": "stderr",
          "text": [
            "Corrupt JPEG data: premature end of data segment\n"
          ]
        },
        {
          "output_type": "stream",
          "name": "stderr",
          "text": [
            "Corrupt JPEG data: premature end of data segment\n"
          ]
        },
        {
          "output_type": "stream",
          "name": "stderr",
          "text": [
            "Corrupt JPEG data: premature end of data segment\n"
          ]
        },
        {
          "output_type": "stream",
          "name": "stderr",
          "text": [
            "Corrupt JPEG data: premature end of data segment\n"
          ]
        },
        {
          "output_type": "stream",
          "name": "stderr",
          "text": [
            "Corrupt JPEG data: premature end of data segment\n"
          ]
        },
        {
          "output_type": "stream",
          "name": "stderr",
          "text": [
            "Corrupt JPEG data: premature end of data segment\nCorrupt JPEG data: premature end of data segment\n"
          ]
        },
        {
          "output_type": "stream",
          "name": "stderr",
          "text": [
            "Corrupt JPEG data: premature end of data segment\n"
          ]
        },
        {
          "output_type": "stream",
          "name": "stderr",
          "text": [
            "Corrupt JPEG data: premature end of data segment\nCorrupt JPEG data: premature end of data segment\n"
          ]
        },
        {
          "output_type": "stream",
          "name": "stderr",
          "text": [
            "Corrupt JPEG data: premature end of data segment\nCorrupt JPEG data: premature end of data segment\n"
          ]
        },
        {
          "output_type": "stream",
          "name": "stderr",
          "text": [
            "Corrupt JPEG data: premature end of data segment\n"
          ]
        },
        {
          "output_type": "stream",
          "name": "stdout",
          "text": [
            "Processed 44500/60760 images, elapsed 63.6 min\n"
          ]
        },
        {
          "output_type": "stream",
          "name": "stderr",
          "text": [
            "Corrupt JPEG data: 559 extraneous bytes before marker 0xd9\n"
          ]
        },
        {
          "output_type": "stream",
          "name": "stderr",
          "text": [
            "Corrupt JPEG data: 39 extraneous bytes before marker 0xd9\n"
          ]
        },
        {
          "output_type": "stream",
          "name": "stdout",
          "text": [
            "Processed 45000/60760 images, elapsed 64.9 min\n"
          ]
        },
        {
          "output_type": "stream",
          "name": "stdout",
          "text": [
            "Processed 45500/60760 images, elapsed 66.1 min\n"
          ]
        },
        {
          "output_type": "stream",
          "name": "stdout",
          "text": [
            "Processed 46000/60760 images, elapsed 66.8 min\n"
          ]
        },
        {
          "output_type": "stream",
          "name": "stdout",
          "text": [
            "Processed 46500/60760 images, elapsed 67.4 min\n"
          ]
        },
        {
          "output_type": "stream",
          "name": "stdout",
          "text": [
            "Processed 47000/60760 images, elapsed 68.1 min\n"
          ]
        },
        {
          "output_type": "stream",
          "name": "stdout",
          "text": [
            "Processed 47500/60760 images, elapsed 68.7 min\n"
          ]
        },
        {
          "output_type": "stream",
          "name": "stdout",
          "text": [
            "Processed 48000/60760 images, elapsed 69.4 min\n"
          ]
        },
        {
          "output_type": "stream",
          "name": "stdout",
          "text": [
            "Processed 48500/60760 images, elapsed 70.1 min\n"
          ]
        },
        {
          "output_type": "stream",
          "name": "stdout",
          "text": [
            "Processed 49000/60760 images, elapsed 70.7 min\n"
          ]
        },
        {
          "output_type": "stream",
          "name": "stdout",
          "text": [
            "Processed 49500/60760 images, elapsed 71.4 min\n"
          ]
        },
        {
          "output_type": "stream",
          "name": "stdout",
          "text": [
            "Processed 50000/60760 images, elapsed 72.0 min\n"
          ]
        },
        {
          "output_type": "stream",
          "name": "stdout",
          "text": [
            "Processed 50500/60760 images, elapsed 72.6 min\n"
          ]
        },
        {
          "output_type": "stream",
          "name": "stdout",
          "text": [
            "Processed 51000/60760 images, elapsed 73.2 min\n"
          ]
        },
        {
          "output_type": "stream",
          "name": "stdout",
          "text": [
            "Processed 51500/60760 images, elapsed 73.7 min\n"
          ]
        },
        {
          "output_type": "stream",
          "name": "stdout",
          "text": [
            "Processed 52000/60760 images, elapsed 74.3 min\n"
          ]
        },
        {
          "output_type": "stream",
          "name": "stdout",
          "text": [
            "Processed 52500/60760 images, elapsed 74.9 min\n"
          ]
        },
        {
          "output_type": "stream",
          "name": "stdout",
          "text": [
            "Processed 53000/60760 images, elapsed 75.5 min\n"
          ]
        },
        {
          "output_type": "stream",
          "name": "stdout",
          "text": [
            "Processed 53500/60760 images, elapsed 76.0 min\n"
          ]
        },
        {
          "output_type": "stream",
          "name": "stdout",
          "text": [
            "Processed 54000/60760 images, elapsed 76.6 min\n"
          ]
        },
        {
          "output_type": "stream",
          "name": "stdout",
          "text": [
            "Processed 54500/60760 images, elapsed 77.2 min\n"
          ]
        },
        {
          "output_type": "stream",
          "name": "stdout",
          "text": [
            "Processed 55000/60760 images, elapsed 77.7 min\n"
          ]
        },
        {
          "output_type": "stream",
          "name": "stdout",
          "text": [
            "Processed 55500/60760 images, elapsed 78.2 min\n"
          ]
        },
        {
          "output_type": "stream",
          "name": "stdout",
          "text": [
            "Processed 56000/60760 images, elapsed 78.7 min\n"
          ]
        },
        {
          "output_type": "stream",
          "name": "stdout",
          "text": [
            "Processed 56500/60760 images, elapsed 79.2 min\n"
          ]
        },
        {
          "output_type": "stream",
          "name": "stdout",
          "text": [
            "Processed 57000/60760 images, elapsed 79.6 min\n"
          ]
        },
        {
          "output_type": "stream",
          "name": "stdout",
          "text": [
            "Processed 57500/60760 images, elapsed 80.1 min\n"
          ]
        },
        {
          "output_type": "stream",
          "name": "stdout",
          "text": [
            "Processed 58000/60760 images, elapsed 80.6 min\n"
          ]
        },
        {
          "output_type": "stream",
          "name": "stdout",
          "text": [
            "Processed 58500/60760 images, elapsed 81.0 min\n"
          ]
        },
        {
          "output_type": "stream",
          "name": "stdout",
          "text": [
            "Processed 59000/60760 images, elapsed 81.5 min\n"
          ]
        },
        {
          "output_type": "stream",
          "name": "stdout",
          "text": [
            "Processed 59500/60760 images, elapsed 81.9 min\n"
          ]
        },
        {
          "output_type": "stream",
          "name": "stdout",
          "text": [
            "Processed 60000/60760 images, elapsed 82.4 min\n"
          ]
        },
        {
          "output_type": "stream",
          "name": "stdout",
          "text": [
            "Processed 60500/60760 images, elapsed 83.0 min\n"
          ]
        },
        {
          "output_type": "stream",
          "name": "stdout",
          "text": [
            "Saved submission.csv with shape (60760, 2)\n                                     Id  Category\n0  879d74d8-21bc-11ea-a13a-137349068a90         0\n1  90243894-21bc-11ea-a13a-137349068a90         0\n2  944adb30-21bc-11ea-a13a-137349068a90         0\n3  8ced2424-21bc-11ea-a13a-137349068a90         0\n4  8aac3a4c-21bc-11ea-a13a-137349068a90         0\n"
          ]
        }
      ]
    },
    {
      "id": "0efafb1c-dad8-4f74-9032-980a8928f9ba",
      "cell_type": "code",
      "metadata": {},
      "source": [
        "# Full training loop: tf_efficientnet_b4_ns @384, 10 epochs, warmup+cosine, label smoothing, class weights\n",
        "import os, time, json, random\n",
        "from pathlib import Path\n",
        "import numpy as np\n",
        "import pandas as pd\n",
        "import cv2\n",
        "import torch\n",
        "import torch.nn as nn\n",
        "from torch.utils.data import DataLoader, Dataset\n",
        "import timm\n",
        "\n",
        "cv2.setNumThreads(0)\n",
        "os.environ['OMP_NUM_THREADS'] = '1'\n",
        "torch.backends.cuda.matmul.allow_tf32 = True\n",
        "torch.backends.cudnn.allow_tf32 = True\n",
        "torch.backends.cudnn.benchmark = True\n",
        "\n",
        "SEED = 42\n",
        "random.seed(SEED); np.random.seed(SEED); torch.manual_seed(SEED); torch.cuda.manual_seed_all(SEED)\n",
        "device = torch.device('cuda' if torch.cuda.is_available() else 'cpu')\n",
        "\n",
        "img_size = 384\n",
        "model_name = 'tf_efficientnet_b4_ns'\n",
        "epochs = 10\n",
        "train_fold = 0  # keep fold 0 as validation consistently\n",
        "bs_train = 32\n",
        "bs_val = 64\n",
        "p_crop = 0.6\n",
        "lr = 2e-4; wd = 1e-4\n",
        "\n",
        "# Load artifacts\n",
        "df = pd.read_parquet('train_folds.parquet')\n",
        "maps = json.loads(Path('label_mapping.json').read_text())\n",
        "cat_id_to_idx = {int(k):int(v) for k,v in maps['cat_id_to_idx'].items()}\n",
        "idx_to_cat_id = {int(k):int(v) for k,v in maps['idx_to_cat_id'].items()}\n",
        "num_classes = len(idx_to_cat_id)\n",
        "md_fname_map = json.loads(Path('megadetector_map.json').read_text()) if Path('megadetector_map.json').exists() else {}\n",
        "\n",
        "class IwDataset(Dataset):\n",
        "    def __init__(self, df, root='train', train=True, md_map=None, p_crop=0.6):\n",
        "        self.df = df.reset_index(drop=True)\n",
        "        self.root = Path(root)\n",
        "        self.train = train\n",
        "        self.md_map = md_map or {}\n",
        "        self.p_crop = p_crop if train else 0.0\n",
        "\n",
        "    def __len__(self):\n",
        "        return len(self.df)\n",
        "\n",
        "    def _read_image(self, file_name):\n",
        "        p = self.root / file_name\n",
        "        img = cv2.imread(str(p))\n",
        "        if img is None:\n",
        "            buf = None\n",
        "            try:\n",
        "                buf = np.fromfile(str(p), dtype=np.uint8)\n",
        "                img = cv2.imdecode(buf, cv2.IMREAD_COLOR)\n",
        "            except Exception:\n",
        "                img = None\n",
        "        if img is None:\n",
        "            # fallback to blank image to avoid DataLoader crash on missing/corrupt files\n",
        "            img = np.zeros((img_size, img_size, 3), dtype=np.uint8)\n",
        "        else:\n",
        "            img = cv2.cvtColor(img, cv2.COLOR_BGR2RGB)\n",
        "        return img\n",
        "\n",
        "    def _apply_md_crop(self, img, file_name):\n",
        "        dets = [d for d in self.md_map.get(file_name, []) if d.get('conf',0.0) >= 0.3]\n",
        "        if not dets:\n",
        "            return img\n",
        "        dets.sort(key=lambda d: max(0.0,d['bbox'][2])*max(0.0,d['bbox'][3]), reverse=True)\n",
        "        x,y,w,h = dets[0]['bbox']\n",
        "        H,W = img.shape[:2]\n",
        "        pad = 0.20\n",
        "        side = max(w,h)*(1.0+pad)\n",
        "        cx = x + w/2.0; cy = y + h/2.0\n",
        "        x0 = max(0.0, cx - side/2.0); y0 = max(0.0, cy - side/2.0)\n",
        "        x1 = min(1.0, cx + side/2.0); y1 = min(1.0, cy + side/2.0)\n",
        "        X0 = int(round(x0*W)); Y0 = int(round(y0*H)); X1 = int(round(x1*W)); Y1 = int(round(y1*H))\n",
        "        if X1<=X0 or Y1<=Y0:\n",
        "            return img\n",
        "        if (X1-X0)*(Y1-Y0) < 0.04*(W*H):\n",
        "            return img\n",
        "        return img[Y0:Y1, X0:X1, :]\n",
        "\n",
        "    def _augment(self, img):\n",
        "        if self.train:\n",
        "            H,W = img.shape[:2]\n",
        "            scale = random.uniform(0.7,1.0)\n",
        "            side = int(min(H,W)*scale)\n",
        "            if side>0 and H>0 and W>0:\n",
        "                y0 = random.randint(0, max(0, H-side))\n",
        "                x0 = random.randint(0, max(0, W-side))\n",
        "                img = img[y0:y0+side, x0:x0+side]\n",
        "            if random.random()<0.5:\n",
        "                img = img[:, ::-1, :].copy()\n",
        "            if random.random()<0.8:\n",
        "                alpha = 1.0 + random.uniform(-0.2,0.2)\n",
        "                beta = random.uniform(-20,20)\n",
        "                img = cv2.convertScaleAbs(img, alpha=alpha, beta=beta)\n",
        "        img = cv2.resize(img, (img_size,img_size), interpolation=cv2.INTER_AREA)\n",
        "        return img\n",
        "\n",
        "    def __getitem__(self, idx):\n",
        "        r = self.df.iloc[idx]\n",
        "        file_name = r['file_name']\n",
        "        img = self._read_image(file_name)\n",
        "        if self.train and random.random()<self.p_crop:\n",
        "            img = self._apply_md_crop(img, file_name)\n",
        "        img = self._augment(img).astype(np.float32)/255.0\n",
        "        mean = np.array([0.485,0.456,0.406], dtype=np.float32)\n",
        "        std = np.array([0.229,0.224,0.225], dtype=np.float32)\n",
        "        img = (img-mean)/std\n",
        "        img = np.transpose(img,(2,0,1))\n",
        "        y = int(r['label_idx'])\n",
        "        return torch.from_numpy(img), torch.tensor(y, dtype=torch.long)\n",
        "\n",
        "def build_class_weights(df, num_classes):\n",
        "    counts = df['label_idx'].value_counts().sort_index().reindex(range(num_classes)).fillna(0).values.astype(np.float32)\n",
        "    w = 1.0/np.log(1.02+counts+1e-9)\n",
        "    w = w/np.mean(w)\n",
        "    return torch.tensor(w, dtype=torch.float32)\n",
        "\n",
        "def run_training():\n",
        "    # Filter to only existing image files to avoid DataLoader crashes\n",
        "    train_files = set(p.name for p in Path('train').glob('*.jpg'))\n",
        "    df_use = df[df['file_name'].isin(train_files)].copy()\n",
        "    if len(df_use) < len(df):\n",
        "        print(f'Filtered missing files: {len(df)-len(df_use)} removed, {len(df_use)} remain', flush=True)\n",
        "\n",
        "    trn_df = df_use[df_use['fold'] != train_fold].copy()\n",
        "    val_df = df_use[df_use['fold'] == train_fold].copy().reset_index(drop=True)\n",
        "    print('Train/Val sizes:', trn_df.shape, val_df.shape, flush=True)\n",
        "\n",
        "    train_ds = IwDataset(trn_df, root='train', train=True, md_map=md_fname_map, p_crop=p_crop)\n",
        "    val_ds = IwDataset(val_df, root='train', train=False, md_map=md_fname_map, p_crop=0.0)\n",
        "\n",
        "    train_loader = DataLoader(train_ds, batch_size=bs_train, shuffle=True, num_workers=8, pin_memory=True, persistent_workers=True, prefetch_factor=4)\n",
        "    val_loader = DataLoader(val_ds, batch_size=bs_val, shuffle=False, num_workers=8, pin_memory=True, persistent_workers=True, prefetch_factor=4)\n",
        "\n",
        "    model = timm.create_model(model_name, pretrained=True, num_classes=num_classes).to(device).to(memory_format=torch.channels_last)\n",
        "    optimizer = torch.optim.AdamW(model.parameters(), lr=lr, weight_decay=wd)\n",
        "\n",
        "    # Warmup + cosine\n",
        "    num_steps = epochs*len(train_loader)\n",
        "    warmup_steps = max(500, len(train_loader))\n",
        "    def lr_lambda(step):\n",
        "        if step < warmup_steps:\n",
        "            return max(1e-3, step+1)/warmup_steps\n",
        "        prog = (step - warmup_steps)/max(1, (num_steps - warmup_steps))\n",
        "        return 0.5*(1+np.cos(np.pi*prog))\n",
        "    scheduler = torch.optim.lr_scheduler.LambdaLR(optimizer, lr_lambda=lr_lambda)\n",
        "\n",
        "    class_weights = build_class_weights(trn_df, num_classes).to(device)\n",
        "    criterion = nn.CrossEntropyLoss(weight=class_weights, label_smoothing=0.1).to(device)\n",
        "    scaler = torch.cuda.amp.GradScaler(enabled=True)\n",
        "\n",
        "    best_acc = -1.0\n",
        "    best_path = f'ckpt_best_{model_name}_fold{train_fold}.pt'\n",
        "    global_step = 0\n",
        "    t0 = time.time()\n",
        "    for ep in range(1, epochs+1):\n",
        "        model.train()\n",
        "        ep_loss = 0.0\n",
        "        t_ep = time.time()\n",
        "        for i,(x,y) in enumerate(train_loader):\n",
        "            x = x.to(device, non_blocking=True).to(memory_format=torch.channels_last)\n",
        "            y = y.to(device, non_blocking=True)\n",
        "            optimizer.zero_grad(set_to_none=True)\n",
        "            with torch.cuda.amp.autocast(True):\n",
        "                logits = model(x)\n",
        "                loss = criterion(logits, y)\n",
        "            scaler.scale(loss).backward()\n",
        "            scaler.step(optimizer)\n",
        "            scaler.update()\n",
        "            scheduler.step()\n",
        "            ep_loss += loss.item()\n",
        "            global_step += 1\n",
        "            if (i+1)%100==0:\n",
        "                print(f'E{ep} step {i+1}/{len(train_loader)} loss {loss.item():.4f} lr {scheduler.get_last_lr()[0]:.2e} elapsed {time.time()-t_ep:.1f}s', flush=True)\n",
        "        # eval\n",
        "        model.eval()\n",
        "        correct=0; total=0\n",
        "        with torch.no_grad():\n",
        "            for j,(x,y) in enumerate(val_loader):\n",
        "                x = x.to(device, non_blocking=True).to(memory_format=torch.channels_last)\n",
        "                y = y.to(device, non_blocking=True)\n",
        "                with torch.cuda.amp.autocast(True):\n",
        "                    logits = model(x)\n",
        "                preds = logits.argmax(1)\n",
        "                correct += (preds==y).sum().item()\n",
        "                total += y.numel()\n",
        "                if (j+1)%100==0:\n",
        "                    print(f'  Val {j+1}/{len(val_loader)}', flush=True)\n",
        "        acc = correct/max(1,total)\n",
        "        print(f'End Epoch {ep}: loss {(ep_loss/max(1,len(train_loader))):.4f} val_acc {acc:.4f} epoch_time {time.time()-t_ep:.1f}s total {time.time()-t0:.1f}s', flush=True)\n",
        "        if acc > best_acc:\n",
        "            best_acc = acc\n",
        "            torch.save({'model': model.state_dict(), 'val_acc': best_acc, 'cfg': {'model': model_name, 'img_size': img_size}}, best_path)\n",
        "            print('  Saved best to', best_path, 'acc', best_acc, flush=True)\n",
        "    print('Training done. Best acc:', best_acc, 'ckpt:', best_path, flush=True)\n",
        "\n",
        "run_training()"
      ],
      "execution_count": 8,
      "outputs": [
        {
          "output_type": "stream",
          "name": "stdout",
          "text": [
            "Train/Val sizes: (125759, 7) (31440, 7)\n"
          ]
        },
        {
          "output_type": "stream",
          "name": "stderr",
          "text": [
            "/app/.pip-target/timm/models/_factory.py:117: UserWarning: Mapping deprecated model name tf_efficientnet_b4_ns to current tf_efficientnet_b4.ns_jft_in1k.\n  model = create_fn(\n"
          ]
        },
        {
          "output_type": "stream",
          "name": "stderr",
          "text": [
            "/tmp/ipykernel_196/2920277601.py:143: FutureWarning: `torch.cuda.amp.GradScaler(args...)` is deprecated. Please use `torch.amp.GradScaler('cuda', args...)` instead.\n  scaler = torch.cuda.amp.GradScaler(enabled=True)\n"
          ]
        },
        {
          "output_type": "stream",
          "name": "stderr",
          "text": [
            "Corrupt JPEG data: premature end of data segment\nCorrupt JPEG data: premature end of data segment\n"
          ]
        },
        {
          "output_type": "stream",
          "name": "stderr",
          "text": [
            "/tmp/ipykernel_196/2920277601.py:157: FutureWarning: `torch.cuda.amp.autocast(args...)` is deprecated. Please use `torch.amp.autocast('cuda', args...)` instead.\n  with torch.cuda.amp.autocast(True):\n"
          ]
        },
        {
          "output_type": "stream",
          "name": "stderr",
          "text": [
            "Corrupt JPEG data: premature end of data segment\n"
          ]
        },
        {
          "output_type": "stream",
          "name": "stderr",
          "text": [
            "Corrupt JPEG data: premature end of data segment\n"
          ]
        },
        {
          "output_type": "stream",
          "name": "stderr",
          "text": [
            "Corrupt JPEG data: premature end of data segment\n"
          ]
        },
        {
          "output_type": "stream",
          "name": "stderr",
          "text": [
            "Corrupt JPEG data: premature end of data segment\nCorrupt JPEG data: premature end of data segment\n"
          ]
        },
        {
          "output_type": "stream",
          "name": "stderr",
          "text": [
            "Corrupt JPEG data: premature end of data segment\n"
          ]
        },
        {
          "output_type": "stream",
          "name": "stderr",
          "text": [
            "Corrupt JPEG data: premature end of data segment\n"
          ]
        },
        {
          "output_type": "stream",
          "name": "stderr",
          "text": [
            "Corrupt JPEG data: premature end of data segment\n"
          ]
        },
        {
          "output_type": "stream",
          "name": "stderr",
          "text": [
            "Corrupt JPEG data: premature end of data segment\n"
          ]
        },
        {
          "output_type": "stream",
          "name": "stderr",
          "text": [
            "Corrupt JPEG data: premature end of data segment\n"
          ]
        },
        {
          "output_type": "stream",
          "name": "stderr",
          "text": [
            "Corrupt JPEG data: premature end of data segment\n"
          ]
        },
        {
          "output_type": "stream",
          "name": "stderr",
          "text": [
            "Corrupt JPEG data: premature end of data segment\n"
          ]
        },
        {
          "output_type": "stream",
          "name": "stderr",
          "text": [
            "Corrupt JPEG data: premature end of data segment\n"
          ]
        },
        {
          "output_type": "stream",
          "name": "stderr",
          "text": [
            "Corrupt JPEG data: premature end of data segment\n"
          ]
        },
        {
          "output_type": "stream",
          "name": "stderr",
          "text": [
            "Corrupt JPEG data: premature end of data segment\n"
          ]
        },
        {
          "output_type": "stream",
          "name": "stderr",
          "text": [
            "Corrupt JPEG data: premature end of data segment\n"
          ]
        },
        {
          "output_type": "stream",
          "name": "stderr",
          "text": [
            "Corrupt JPEG data: premature end of data segment\n"
          ]
        },
        {
          "output_type": "stream",
          "name": "stderr",
          "text": [
            "Corrupt JPEG data: premature end of data segment\nCorrupt JPEG data: premature end of data segment\n"
          ]
        },
        {
          "output_type": "stream",
          "name": "stderr",
          "text": [
            "Corrupt JPEG data: premature end of data segment\n"
          ]
        },
        {
          "output_type": "stream",
          "name": "stderr",
          "text": [
            "Corrupt JPEG data: premature end of data segment\n"
          ]
        },
        {
          "output_type": "stream",
          "name": "stderr",
          "text": [
            "Corrupt JPEG data: premature end of data segment\n"
          ]
        },
        {
          "output_type": "stream",
          "name": "stderr",
          "text": [
            "Corrupt JPEG data: premature end of data segment\n"
          ]
        },
        {
          "output_type": "stream",
          "name": "stderr",
          "text": [
            "Corrupt JPEG data: premature end of data segment\n"
          ]
        },
        {
          "output_type": "stream",
          "name": "stderr",
          "text": [
            "Corrupt JPEG data: premature end of data segment\n"
          ]
        },
        {
          "output_type": "stream",
          "name": "stderr",
          "text": [
            "Corrupt JPEG data: premature end of data segment\n"
          ]
        },
        {
          "output_type": "stream",
          "name": "stdout",
          "text": [
            "E1 step 100/3930 loss 87.3519 lr 5.14e-06 elapsed 23.1s\n"
          ]
        },
        {
          "output_type": "stream",
          "name": "stderr",
          "text": [
            "Corrupt JPEG data: premature end of data segment\nCorrupt JPEG data: premature end of data segment\n"
          ]
        },
        {
          "output_type": "stream",
          "name": "stderr",
          "text": [
            "Corrupt JPEG data: premature end of data segment\n"
          ]
        },
        {
          "output_type": "stream",
          "name": "stderr",
          "text": [
            "Corrupt JPEG data: premature end of data segment\n"
          ]
        },
        {
          "output_type": "stream",
          "name": "stderr",
          "text": [
            "Corrupt JPEG data: premature end of data segment\n"
          ]
        },
        {
          "output_type": "stream",
          "name": "stderr",
          "text": [
            "Corrupt JPEG data: premature end of data segment\nCorrupt JPEG data: premature end of data segment\n"
          ]
        },
        {
          "output_type": "stream",
          "name": "stderr",
          "text": [
            "Corrupt JPEG data: premature end of data segment\n"
          ]
        },
        {
          "output_type": "stream",
          "name": "stderr",
          "text": [
            "Corrupt JPEG data: premature end of data segment\n"
          ]
        },
        {
          "output_type": "stream",
          "name": "stderr",
          "text": [
            "Corrupt JPEG data: premature end of data segment\n"
          ]
        },
        {
          "output_type": "stream",
          "name": "stderr",
          "text": [
            "Corrupt JPEG data: premature end of data segment\n"
          ]
        },
        {
          "output_type": "stream",
          "name": "stderr",
          "text": [
            "Corrupt JPEG data: premature end of data segment\n"
          ]
        },
        {
          "output_type": "stream",
          "name": "stderr",
          "text": [
            "Corrupt JPEG data: premature end of data segment\n"
          ]
        },
        {
          "output_type": "stream",
          "name": "stderr",
          "text": [
            "Corrupt JPEG data: premature end of data segment\nCorrupt JPEG data: premature end of data segment\n"
          ]
        },
        {
          "output_type": "stream",
          "name": "stderr",
          "text": [
            "Corrupt JPEG data: premature end of data segment\n"
          ]
        },
        {
          "output_type": "stream",
          "name": "stderr",
          "text": [
            "Corrupt JPEG data: premature end of data segment\n"
          ]
        },
        {
          "output_type": "stream",
          "name": "stderr",
          "text": [
            "Corrupt JPEG data: premature end of data segment\n"
          ]
        },
        {
          "output_type": "stream",
          "name": "stderr",
          "text": [
            "Corrupt JPEG data: premature end of data segment\nCorrupt JPEG data: premature end of data segment\n"
          ]
        },
        {
          "output_type": "stream",
          "name": "stderr",
          "text": [
            "Corrupt JPEG data: premature end of data segment\n"
          ]
        },
        {
          "output_type": "stream",
          "name": "stderr",
          "text": [
            "Corrupt JPEG data: premature end of data segment\nCorrupt JPEG data: premature end of data segment\n"
          ]
        },
        {
          "output_type": "stream",
          "name": "stderr",
          "text": [
            "Corrupt JPEG data: premature end of data segment\nCorrupt JPEG data: premature end of data segment\nCorrupt JPEG data: premature end of data segment\n"
          ]
        },
        {
          "output_type": "stream",
          "name": "stdout",
          "text": [
            "E1 step 200/3930 loss 87.4034 lr 1.02e-05 elapsed 45.1s\n"
          ]
        },
        {
          "output_type": "stream",
          "name": "stderr",
          "text": [
            "Corrupt JPEG data: premature end of data segment\n"
          ]
        },
        {
          "output_type": "stream",
          "name": "stderr",
          "text": [
            "Corrupt JPEG data: premature end of data segment\nCorrupt JPEG data: premature end of data segment\n"
          ]
        },
        {
          "output_type": "stream",
          "name": "stderr",
          "text": [
            "Corrupt JPEG data: premature end of data segment\n"
          ]
        },
        {
          "output_type": "stream",
          "name": "stderr",
          "text": [
            "Corrupt JPEG data: premature end of data segment\nCorrupt JPEG data: premature end of data segment\n"
          ]
        },
        {
          "output_type": "stream",
          "name": "stderr",
          "text": [
            "Corrupt JPEG data: premature end of data segment\nCorrupt JPEG data: premature end of data segment\n"
          ]
        },
        {
          "output_type": "stream",
          "name": "stderr",
          "text": [
            "Corrupt JPEG data: premature end of data segment\n"
          ]
        },
        {
          "output_type": "stream",
          "name": "stderr",
          "text": [
            "Corrupt JPEG data: premature end of data segment\n"
          ]
        },
        {
          "output_type": "stream",
          "name": "stderr",
          "text": [
            "Corrupt JPEG data: premature end of data segment\nCorrupt JPEG data: premature end of data segment\n"
          ]
        },
        {
          "output_type": "stream",
          "name": "stderr",
          "text": [
            "Corrupt JPEG data: premature end of data segment\n"
          ]
        },
        {
          "output_type": "stream",
          "name": "stderr",
          "text": [
            "Corrupt JPEG data: premature end of data segment\n"
          ]
        },
        {
          "output_type": "stream",
          "name": "stderr",
          "text": [
            "Corrupt JPEG data: premature end of data segment\n"
          ]
        },
        {
          "output_type": "stream",
          "name": "stderr",
          "text": [
            "Corrupt JPEG data: premature end of data segment\n"
          ]
        },
        {
          "output_type": "stream",
          "name": "stderr",
          "text": [
            "Corrupt JPEG data: premature end of data segment\nCorrupt JPEG data: premature end of data segment\n"
          ]
        },
        {
          "output_type": "stream",
          "name": "stderr",
          "text": [
            "Corrupt JPEG data: premature end of data segment\nCorrupt JPEG data: premature end of data segment\n"
          ]
        },
        {
          "output_type": "stream",
          "name": "stderr",
          "text": [
            "Corrupt JPEG data: premature end of data segment\n"
          ]
        },
        {
          "output_type": "stream",
          "name": "stderr",
          "text": [
            "Corrupt JPEG data: premature end of data segment\n"
          ]
        },
        {
          "output_type": "stream",
          "name": "stderr",
          "text": [
            "Corrupt JPEG data: premature end of data segment\n"
          ]
        },
        {
          "output_type": "stream",
          "name": "stderr",
          "text": [
            "Corrupt JPEG data: premature end of data segment\nCorrupt JPEG data: premature end of data segment\n"
          ]
        },
        {
          "output_type": "stream",
          "name": "stderr",
          "text": [
            "Corrupt JPEG data: premature end of data segment\n"
          ]
        },
        {
          "output_type": "stream",
          "name": "stderr",
          "text": [
            "Corrupt JPEG data: premature end of data segment\n"
          ]
        },
        {
          "output_type": "stream",
          "name": "stderr",
          "text": [
            "Corrupt JPEG data: premature end of data segment\nCorrupt JPEG data: premature end of data segment\n"
          ]
        },
        {
          "output_type": "stream",
          "name": "stderr",
          "text": [
            "Corrupt JPEG data: premature end of data segment\n"
          ]
        },
        {
          "output_type": "stream",
          "name": "stderr",
          "text": [
            "Corrupt JPEG data: premature end of data segment\n"
          ]
        },
        {
          "output_type": "stream",
          "name": "stderr",
          "text": [
            "Corrupt JPEG data: premature end of data segment\n"
          ]
        },
        {
          "output_type": "stream",
          "name": "stdout",
          "text": [
            "E1 step 300/3930 loss 76.8697 lr 1.53e-05 elapsed 67.1s\n"
          ]
        },
        {
          "output_type": "stream",
          "name": "stderr",
          "text": [
            "Corrupt JPEG data: premature end of data segment\nCorrupt JPEG data: premature end of data segment\n"
          ]
        },
        {
          "output_type": "stream",
          "name": "stderr",
          "text": [
            "Corrupt JPEG data: premature end of data segment\n"
          ]
        },
        {
          "output_type": "stream",
          "name": "stderr",
          "text": [
            "Corrupt JPEG data: premature end of data segment\n"
          ]
        },
        {
          "output_type": "stream",
          "name": "stderr",
          "text": [
            "Corrupt JPEG data: premature end of data segment\n"
          ]
        },
        {
          "output_type": "stream",
          "name": "stderr",
          "text": [
            "Corrupt JPEG data: premature end of data segment\nCorrupt JPEG data: premature end of data segment\n"
          ]
        },
        {
          "output_type": "stream",
          "name": "stderr",
          "text": [
            "Corrupt JPEG data: premature end of data segment\n"
          ]
        },
        {
          "output_type": "stream",
          "name": "stderr",
          "text": [
            "Corrupt JPEG data: premature end of data segment\n"
          ]
        },
        {
          "output_type": "stream",
          "name": "stderr",
          "text": [
            "Corrupt JPEG data: premature end of data segment\nCorrupt JPEG data: premature end of data segment\n"
          ]
        },
        {
          "output_type": "stream",
          "name": "stderr",
          "text": [
            "Corrupt JPEG data: premature end of data segment\n"
          ]
        },
        {
          "output_type": "stream",
          "name": "stderr",
          "text": [
            "Corrupt JPEG data: premature end of data segment\n"
          ]
        },
        {
          "output_type": "stream",
          "name": "stderr",
          "text": [
            "Corrupt JPEG data: premature end of data segment\n"
          ]
        },
        {
          "output_type": "stream",
          "name": "stderr",
          "text": [
            "Corrupt JPEG data: premature end of data segment\n"
          ]
        },
        {
          "output_type": "stream",
          "name": "stderr",
          "text": [
            "Corrupt JPEG data: premature end of data segment\n"
          ]
        },
        {
          "output_type": "stream",
          "name": "stderr",
          "text": [
            "Corrupt JPEG data: premature end of data segment\n"
          ]
        },
        {
          "output_type": "stream",
          "name": "stderr",
          "text": [
            "Corrupt JPEG data: premature end of data segment\nCorrupt JPEG data: premature end of data segment\n"
          ]
        },
        {
          "output_type": "stream",
          "name": "stderr",
          "text": [
            "Corrupt JPEG data: premature end of data segment\nCorrupt JPEG data: premature end of data segment\n"
          ]
        },
        {
          "output_type": "stream",
          "name": "stdout",
          "text": [
            "E1 step 400/3930 loss 81.0044 lr 2.04e-05 elapsed 89.2s\n"
          ]
        },
        {
          "output_type": "stream",
          "name": "stderr",
          "text": [
            "Corrupt JPEG data: premature end of data segment\nCorrupt JPEG data: premature end of data segment\n"
          ]
        },
        {
          "output_type": "stream",
          "name": "stderr",
          "text": [
            "Corrupt JPEG data: premature end of data segment\n"
          ]
        },
        {
          "output_type": "stream",
          "name": "stderr",
          "text": [
            "Corrupt JPEG data: premature end of data segment\n"
          ]
        },
        {
          "output_type": "stream",
          "name": "stderr",
          "text": [
            "Corrupt JPEG data: premature end of data segment\n"
          ]
        },
        {
          "output_type": "stream",
          "name": "stderr",
          "text": [
            "Corrupt JPEG data: premature end of data segment\n"
          ]
        },
        {
          "output_type": "stream",
          "name": "stderr",
          "text": [
            "Corrupt JPEG data: premature end of data segment\n"
          ]
        },
        {
          "output_type": "stream",
          "name": "stderr",
          "text": [
            "Corrupt JPEG data: premature end of data segment\n"
          ]
        },
        {
          "output_type": "stream",
          "name": "stderr",
          "text": [
            "Corrupt JPEG data: premature end of data segment\n"
          ]
        },
        {
          "output_type": "stream",
          "name": "stderr",
          "text": [
            "Corrupt JPEG data: premature end of data segment\n"
          ]
        },
        {
          "output_type": "stream",
          "name": "stderr",
          "text": [
            "Corrupt JPEG data: premature end of data segment\nCorrupt JPEG data: premature end of data segment\n"
          ]
        },
        {
          "output_type": "stream",
          "name": "stderr",
          "text": [
            "Corrupt JPEG data: premature end of data segment\n"
          ]
        },
        {
          "output_type": "stream",
          "name": "stderr",
          "text": [
            "Corrupt JPEG data: premature end of data segment\n"
          ]
        },
        {
          "output_type": "stream",
          "name": "stderr",
          "text": [
            "Corrupt JPEG data: premature end of data segment\n"
          ]
        },
        {
          "output_type": "stream",
          "name": "stderr",
          "text": [
            "Corrupt JPEG data: premature end of data segment\n"
          ]
        },
        {
          "output_type": "stream",
          "name": "stderr",
          "text": [
            "Corrupt JPEG data: premature end of data segment\n"
          ]
        },
        {
          "output_type": "stream",
          "name": "stderr",
          "text": [
            "Corrupt JPEG data: premature end of data segment\nCorrupt JPEG data: premature end of data segment\nCorrupt JPEG data: premature end of data segment\n"
          ]
        },
        {
          "output_type": "stream",
          "name": "stderr",
          "text": [
            "Corrupt JPEG data: premature end of data segment\nCorrupt JPEG data: premature end of data segment\n"
          ]
        },
        {
          "output_type": "stream",
          "name": "stdout",
          "text": [
            "E1 step 500/3930 loss 65.7942 lr 2.55e-05 elapsed 111.3s\n"
          ]
        },
        {
          "output_type": "stream",
          "name": "stderr",
          "text": [
            "Corrupt JPEG data: premature end of data segment\n"
          ]
        },
        {
          "output_type": "stream",
          "name": "stderr",
          "text": [
            "Corrupt JPEG data: premature end of data segment\n"
          ]
        },
        {
          "output_type": "stream",
          "name": "stderr",
          "text": [
            "Corrupt JPEG data: premature end of data segment\n"
          ]
        },
        {
          "output_type": "stream",
          "name": "stderr",
          "text": [
            "Corrupt JPEG data: premature end of data segment\n"
          ]
        },
        {
          "output_type": "stream",
          "name": "stderr",
          "text": [
            "Corrupt JPEG data: premature end of data segment\n"
          ]
        },
        {
          "output_type": "stream",
          "name": "stderr",
          "text": [
            "Corrupt JPEG data: premature end of data segment\n"
          ]
        },
        {
          "output_type": "stream",
          "name": "stderr",
          "text": [
            "Corrupt JPEG data: premature end of data segment\n"
          ]
        },
        {
          "output_type": "stream",
          "name": "stderr",
          "text": [
            "Corrupt JPEG data: premature end of data segment\nCorrupt JPEG data: premature end of data segment\n"
          ]
        },
        {
          "output_type": "stream",
          "name": "stderr",
          "text": [
            "Corrupt JPEG data: premature end of data segment\n"
          ]
        },
        {
          "output_type": "stream",
          "name": "stderr",
          "text": [
            "Corrupt JPEG data: premature end of data segment\n"
          ]
        },
        {
          "output_type": "stream",
          "name": "stderr",
          "text": [
            "Corrupt JPEG data: premature end of data segment\nCorrupt JPEG data: premature end of data segment\n"
          ]
        },
        {
          "output_type": "stream",
          "name": "stderr",
          "text": [
            "Corrupt JPEG data: premature end of data segment\n"
          ]
        },
        {
          "output_type": "stream",
          "name": "stderr",
          "text": [
            "Corrupt JPEG data: premature end of data segment\nCorrupt JPEG data: premature end of data segment\n"
          ]
        },
        {
          "output_type": "stream",
          "name": "stderr",
          "text": [
            "Corrupt JPEG data: premature end of data segment\n"
          ]
        },
        {
          "output_type": "stream",
          "name": "stderr",
          "text": [
            "Corrupt JPEG data: premature end of data segment\n"
          ]
        },
        {
          "output_type": "stream",
          "name": "stderr",
          "text": [
            "Corrupt JPEG data: premature end of data segment\n"
          ]
        },
        {
          "output_type": "stream",
          "name": "stderr",
          "text": [
            "Corrupt JPEG data: premature end of data segment\n"
          ]
        },
        {
          "output_type": "stream",
          "name": "stderr",
          "text": [
            "Corrupt JPEG data: premature end of data segment\n"
          ]
        },
        {
          "output_type": "stream",
          "name": "stdout",
          "text": [
            "E1 step 600/3930 loss 79.5459 lr 3.06e-05 elapsed 133.4s\n"
          ]
        },
        {
          "output_type": "stream",
          "name": "stderr",
          "text": [
            "Corrupt JPEG data: premature end of data segment\n"
          ]
        },
        {
          "output_type": "stream",
          "name": "stderr",
          "text": [
            "Corrupt JPEG data: premature end of data segment\n"
          ]
        },
        {
          "output_type": "stream",
          "name": "stderr",
          "text": [
            "Corrupt JPEG data: premature end of data segment\n"
          ]
        },
        {
          "output_type": "stream",
          "name": "stderr",
          "text": [
            "Corrupt JPEG data: premature end of data segment\n"
          ]
        },
        {
          "output_type": "stream",
          "name": "stderr",
          "text": [
            "Corrupt JPEG data: premature end of data segment\n"
          ]
        },
        {
          "output_type": "stream",
          "name": "stderr",
          "text": [
            "Corrupt JPEG data: premature end of data segment\n"
          ]
        },
        {
          "output_type": "stream",
          "name": "stderr",
          "text": [
            "Corrupt JPEG data: premature end of data segment\n"
          ]
        },
        {
          "output_type": "stream",
          "name": "stderr",
          "text": [
            "Corrupt JPEG data: premature end of data segment\n"
          ]
        },
        {
          "output_type": "stream",
          "name": "stderr",
          "text": [
            "Corrupt JPEG data: premature end of data segment\nCorrupt JPEG data: premature end of data segment\nCorrupt JPEG data: premature end of data segment\n"
          ]
        },
        {
          "output_type": "stream",
          "name": "stderr",
          "text": [
            "Corrupt JPEG data: premature end of data segment\n"
          ]
        },
        {
          "output_type": "stream",
          "name": "stderr",
          "text": [
            "Corrupt JPEG data: premature end of data segment\n"
          ]
        },
        {
          "output_type": "stream",
          "name": "stderr",
          "text": [
            "Corrupt JPEG data: premature end of data segment\n"
          ]
        },
        {
          "output_type": "stream",
          "name": "stderr",
          "text": [
            "Corrupt JPEG data: premature end of data segment\nCorrupt JPEG data: premature end of data segment\n"
          ]
        },
        {
          "output_type": "stream",
          "name": "stderr",
          "text": [
            "Corrupt JPEG data: premature end of data segment\n"
          ]
        },
        {
          "output_type": "stream",
          "name": "stderr",
          "text": [
            "Corrupt JPEG data: premature end of data segment\n"
          ]
        },
        {
          "output_type": "stream",
          "name": "stderr",
          "text": [
            "Corrupt JPEG data: premature end of data segment\nCorrupt JPEG data: premature end of data segment\n"
          ]
        },
        {
          "output_type": "stream",
          "name": "stderr",
          "text": [
            "Corrupt JPEG data: premature end of data segment\n"
          ]
        },
        {
          "output_type": "stream",
          "name": "stderr",
          "text": [
            "Corrupt JPEG data: premature end of data segment\n"
          ]
        },
        {
          "output_type": "stream",
          "name": "stderr",
          "text": [
            "Corrupt JPEG data: premature end of data segment\n"
          ]
        },
        {
          "output_type": "stream",
          "name": "stderr",
          "text": [
            "Corrupt JPEG data: premature end of data segment\nCorrupt JPEG data: premature end of data segment\n"
          ]
        },
        {
          "output_type": "stream",
          "name": "stdout",
          "text": [
            "E1 step 700/3930 loss 76.1682 lr 3.57e-05 elapsed 155.5s\n"
          ]
        },
        {
          "output_type": "stream",
          "name": "stderr",
          "text": [
            "Corrupt JPEG data: premature end of data segment\n"
          ]
        },
        {
          "output_type": "stream",
          "name": "stderr",
          "text": [
            "Corrupt JPEG data: premature end of data segment\nCorrupt JPEG data: premature end of data segment\n"
          ]
        },
        {
          "output_type": "stream",
          "name": "stderr",
          "text": [
            "Corrupt JPEG data: premature end of data segment\nCorrupt JPEG data: premature end of data segment\n"
          ]
        },
        {
          "output_type": "stream",
          "name": "stderr",
          "text": [
            "Corrupt JPEG data: premature end of data segment\n"
          ]
        },
        {
          "output_type": "stream",
          "name": "stderr",
          "text": [
            "Corrupt JPEG data: premature end of data segment\nCorrupt JPEG data: premature end of data segment\n"
          ]
        },
        {
          "output_type": "stream",
          "name": "stderr",
          "text": [
            "Corrupt JPEG data: premature end of data segment\nCorrupt JPEG data: premature end of data segment\nCorrupt JPEG data: premature end of data segment\n"
          ]
        },
        {
          "output_type": "stream",
          "name": "stderr",
          "text": [
            "Corrupt JPEG data: premature end of data segment\nCorrupt JPEG data: premature end of data segment\n"
          ]
        },
        {
          "output_type": "stream",
          "name": "stderr",
          "text": [
            "Corrupt JPEG data: premature end of data segment\n"
          ]
        },
        {
          "output_type": "stream",
          "name": "stderr",
          "text": [
            "Corrupt JPEG data: premature end of data segment\n"
          ]
        },
        {
          "output_type": "stream",
          "name": "stderr",
          "text": [
            "Corrupt JPEG data: premature end of data segment\n"
          ]
        },
        {
          "output_type": "stream",
          "name": "stderr",
          "text": [
            "Corrupt JPEG data: premature end of data segment\n"
          ]
        },
        {
          "output_type": "stream",
          "name": "stderr",
          "text": [
            "Corrupt JPEG data: premature end of data segment\n"
          ]
        },
        {
          "output_type": "stream",
          "name": "stderr",
          "text": [
            "Corrupt JPEG data: premature end of data segment\n"
          ]
        },
        {
          "output_type": "stream",
          "name": "stderr",
          "text": [
            "Corrupt JPEG data: premature end of data segment\n"
          ]
        },
        {
          "output_type": "stream",
          "name": "stderr",
          "text": [
            "Corrupt JPEG data: premature end of data segment\nCorrupt JPEG data: premature end of data segment\n"
          ]
        },
        {
          "output_type": "stream",
          "name": "stderr",
          "text": [
            "Corrupt JPEG data: premature end of data segment\n"
          ]
        },
        {
          "output_type": "stream",
          "name": "stdout",
          "text": [
            "E1 step 800/3930 loss 76.4112 lr 4.08e-05 elapsed 177.7s\n"
          ]
        },
        {
          "output_type": "stream",
          "name": "stderr",
          "text": [
            "Corrupt JPEG data: premature end of data segment\n"
          ]
        },
        {
          "output_type": "stream",
          "name": "stderr",
          "text": [
            "Corrupt JPEG data: premature end of data segment\n"
          ]
        },
        {
          "output_type": "stream",
          "name": "stderr",
          "text": [
            "Corrupt JPEG data: premature end of data segment\n"
          ]
        },
        {
          "output_type": "stream",
          "name": "stderr",
          "text": [
            "Corrupt JPEG data: premature end of data segment\n"
          ]
        },
        {
          "output_type": "stream",
          "name": "stderr",
          "text": [
            "Corrupt JPEG data: premature end of data segment\nCorrupt JPEG data: premature end of data segment\n"
          ]
        },
        {
          "output_type": "stream",
          "name": "stderr",
          "text": [
            "Corrupt JPEG data: premature end of data segment\n"
          ]
        },
        {
          "output_type": "stream",
          "name": "stderr",
          "text": [
            "Corrupt JPEG data: premature end of data segment\nCorrupt JPEG data: premature end of data segment\n"
          ]
        },
        {
          "output_type": "stream",
          "name": "stderr",
          "text": [
            "Corrupt JPEG data: premature end of data segment\n"
          ]
        },
        {
          "output_type": "stream",
          "name": "stderr",
          "text": [
            "Corrupt JPEG data: premature end of data segment\n"
          ]
        },
        {
          "output_type": "stream",
          "name": "stderr",
          "text": [
            "Corrupt JPEG data: premature end of data segment\nCorrupt JPEG data: premature end of data segment\n"
          ]
        },
        {
          "output_type": "stream",
          "name": "stderr",
          "text": [
            "Corrupt JPEG data: premature end of data segment\n"
          ]
        },
        {
          "output_type": "stream",
          "name": "stderr",
          "text": [
            "Corrupt JPEG data: premature end of data segment\n"
          ]
        },
        {
          "output_type": "stream",
          "name": "stderr",
          "text": [
            "Corrupt JPEG data: premature end of data segment\n"
          ]
        },
        {
          "output_type": "stream",
          "name": "stderr",
          "text": [
            "Corrupt JPEG data: premature end of data segment\n"
          ]
        },
        {
          "output_type": "stream",
          "name": "stderr",
          "text": [
            "Corrupt JPEG data: premature end of data segment\nCorrupt JPEG data: premature end of data segment\n"
          ]
        },
        {
          "output_type": "stream",
          "name": "stderr",
          "text": [
            "Corrupt JPEG data: premature end of data segment\n"
          ]
        },
        {
          "output_type": "stream",
          "name": "stderr",
          "text": [
            "Corrupt JPEG data: premature end of data segment\n"
          ]
        },
        {
          "output_type": "stream",
          "name": "stderr",
          "text": [
            "Corrupt JPEG data: premature end of data segment\n"
          ]
        },
        {
          "output_type": "stream",
          "name": "stderr",
          "text": [
            "Corrupt JPEG data: premature end of data segment\n"
          ]
        },
        {
          "output_type": "stream",
          "name": "stderr",
          "text": [
            "Corrupt JPEG data: premature end of data segment\n"
          ]
        },
        {
          "output_type": "stream",
          "name": "stdout",
          "text": [
            "E1 step 900/3930 loss 77.5905 lr 4.59e-05 elapsed 199.8s\n"
          ]
        },
        {
          "output_type": "stream",
          "name": "stderr",
          "text": [
            "Corrupt JPEG data: premature end of data segment\n"
          ]
        },
        {
          "output_type": "stream",
          "name": "stderr",
          "text": [
            "Corrupt JPEG data: premature end of data segment\n"
          ]
        },
        {
          "output_type": "stream",
          "name": "stderr",
          "text": [
            "Corrupt JPEG data: premature end of data segment\n"
          ]
        },
        {
          "output_type": "stream",
          "name": "stderr",
          "text": [
            "Corrupt JPEG data: premature end of data segment\n"
          ]
        },
        {
          "output_type": "stream",
          "name": "stderr",
          "text": [
            "Corrupt JPEG data: premature end of data segment\nCorrupt JPEG data: premature end of data segment\n"
          ]
        },
        {
          "output_type": "stream",
          "name": "stderr",
          "text": [
            "Corrupt JPEG data: premature end of data segment\n"
          ]
        },
        {
          "output_type": "stream",
          "name": "stderr",
          "text": [
            "Corrupt JPEG data: premature end of data segment\n"
          ]
        },
        {
          "output_type": "stream",
          "name": "stderr",
          "text": [
            "Corrupt JPEG data: premature end of data segment\n"
          ]
        },
        {
          "output_type": "stream",
          "name": "stderr",
          "text": [
            "Corrupt JPEG data: premature end of data segment\n"
          ]
        },
        {
          "output_type": "stream",
          "name": "stderr",
          "text": [
            "Corrupt JPEG data: premature end of data segment\n"
          ]
        },
        {
          "output_type": "stream",
          "name": "stderr",
          "text": [
            "Corrupt JPEG data: premature end of data segment\n"
          ]
        },
        {
          "output_type": "stream",
          "name": "stderr",
          "text": [
            "Corrupt JPEG data: premature end of data segment\n"
          ]
        },
        {
          "output_type": "stream",
          "name": "stderr",
          "text": [
            "Corrupt JPEG data: premature end of data segment\n"
          ]
        },
        {
          "output_type": "stream",
          "name": "stderr",
          "text": [
            "Corrupt JPEG data: premature end of data segment\nCorrupt JPEG data: premature end of data segment\n"
          ]
        },
        {
          "output_type": "stream",
          "name": "stderr",
          "text": [
            "Corrupt JPEG data: premature end of data segment\n"
          ]
        },
        {
          "output_type": "stream",
          "name": "stderr",
          "text": [
            "Corrupt JPEG data: premature end of data segment\n"
          ]
        },
        {
          "output_type": "stream",
          "name": "stderr",
          "text": [
            "Corrupt JPEG data: premature end of data segment\nCorrupt JPEG data: premature end of data segment\n"
          ]
        },
        {
          "output_type": "stream",
          "name": "stderr",
          "text": [
            "Corrupt JPEG data: premature end of data segment\n"
          ]
        },
        {
          "output_type": "stream",
          "name": "stderr",
          "text": [
            "Corrupt JPEG data: premature end of data segment\n"
          ]
        },
        {
          "output_type": "stream",
          "name": "stderr",
          "text": [
            "Corrupt JPEG data: premature end of data segment\n"
          ]
        },
        {
          "output_type": "stream",
          "name": "stderr",
          "text": [
            "Corrupt JPEG data: premature end of data segment\n"
          ]
        },
        {
          "output_type": "stream",
          "name": "stdout",
          "text": [
            "E1 step 1000/3930 loss 71.1816 lr 5.09e-05 elapsed 222.0s\n"
          ]
        },
        {
          "output_type": "stream",
          "name": "stderr",
          "text": [
            "Corrupt JPEG data: premature end of data segment\n"
          ]
        },
        {
          "output_type": "stream",
          "name": "stderr",
          "text": [
            "Corrupt JPEG data: premature end of data segment\n"
          ]
        },
        {
          "output_type": "stream",
          "name": "stderr",
          "text": [
            "Corrupt JPEG data: premature end of data segment\n"
          ]
        },
        {
          "output_type": "stream",
          "name": "stderr",
          "text": [
            "Corrupt JPEG data: premature end of data segment\n"
          ]
        },
        {
          "output_type": "stream",
          "name": "stderr",
          "text": [
            "Corrupt JPEG data: premature end of data segment\nCorrupt JPEG data: premature end of data segment\n"
          ]
        },
        {
          "output_type": "stream",
          "name": "stderr",
          "text": [
            "Corrupt JPEG data: premature end of data segment\nCorrupt JPEG data: premature end of data segment\n"
          ]
        },
        {
          "output_type": "stream",
          "name": "stderr",
          "text": [
            "Corrupt JPEG data: premature end of data segment\nCorrupt JPEG data: premature end of data segment\n"
          ]
        },
        {
          "output_type": "stream",
          "name": "stderr",
          "text": [
            "Corrupt JPEG data: premature end of data segment\n"
          ]
        },
        {
          "output_type": "stream",
          "name": "stderr",
          "text": [
            "Corrupt JPEG data: premature end of data segment\nCorrupt JPEG data: premature end of data segment\nCorrupt JPEG data: 125 extraneous bytes before marker 0xcc\nCorrupt JPEG data: 125 extraneous bytes before marker 0xcc\n"
          ]
        },
        {
          "output_type": "stream",
          "name": "stderr",
          "text": [
            "Corrupt JPEG data: premature end of data segment\n"
          ]
        },
        {
          "output_type": "stream",
          "name": "stderr",
          "text": [
            "Corrupt JPEG data: premature end of data segment\n"
          ]
        },
        {
          "output_type": "stream",
          "name": "stderr",
          "text": [
            "Corrupt JPEG data: premature end of data segment\n"
          ]
        },
        {
          "output_type": "stream",
          "name": "stderr",
          "text": [
            "Corrupt JPEG data: premature end of data segment\n"
          ]
        },
        {
          "output_type": "stream",
          "name": "stderr",
          "text": [
            "Corrupt JPEG data: premature end of data segment\n"
          ]
        },
        {
          "output_type": "error",
          "ename": "FileNotFoundError",
          "evalue": "Caught FileNotFoundError in DataLoader worker process 6.\nOriginal Traceback (most recent call last):\n  File \"/app/.pip-target/torch/utils/data/_utils/worker.py\", line 309, in _worker_loop\n    data = fetcher.fetch(index)  # type: ignore[possibly-undefined]\n           ^^^^^^^^^^^^^^^^^^^^\n  File \"/app/.pip-target/torch/utils/data/_utils/fetch.py\", line 52, in fetch\n    data = [self.dataset[idx] for idx in possibly_batched_index]\n           ^^^^^^^^^^^^^^^^^^^^^^^^^^^^^^^^^^^^^^^^^^^^^^^^^^^^^\n  File \"/app/.pip-target/torch/utils/data/_utils/fetch.py\", line 52, in <listcomp>\n    data = [self.dataset[idx] for idx in possibly_batched_index]\n            ~~~~~~~~~~~~^^^^^\n  File \"/tmp/ipykernel_196/2920277601.py\", line 100, in __getitem__\n    img = self._read_image(file_name)\n          ^^^^^^^^^^^^^^^^^^^^^^^^^^^\n  File \"/tmp/ipykernel_196/2920277601.py\", line 56, in _read_image\n    raise FileNotFoundError(str(p))\nFileNotFoundError: train/883572ba-21bc-11ea-a13a-137349068a90.jpg\n",
          "traceback": [
            "\u001b[31m---------------------------------------------------------------------------\u001b[39m",
            "\u001b[31mFileNotFoundError\u001b[39m                         Traceback (most recent call last)",
            "\u001b[36mCell\u001b[39m\u001b[36m \u001b[39m\u001b[32mIn[8]\u001b[39m\u001b[32m, line 190\u001b[39m\n\u001b[32m    187\u001b[39m             \u001b[38;5;28mprint\u001b[39m(\u001b[33m'\u001b[39m\u001b[33m  Saved best to\u001b[39m\u001b[33m'\u001b[39m, best_path, \u001b[33m'\u001b[39m\u001b[33macc\u001b[39m\u001b[33m'\u001b[39m, best_acc, flush=\u001b[38;5;28;01mTrue\u001b[39;00m)\n\u001b[32m    188\u001b[39m     \u001b[38;5;28mprint\u001b[39m(\u001b[33m'\u001b[39m\u001b[33mTraining done. Best acc:\u001b[39m\u001b[33m'\u001b[39m, best_acc, \u001b[33m'\u001b[39m\u001b[33mckpt:\u001b[39m\u001b[33m'\u001b[39m, best_path, flush=\u001b[38;5;28;01mTrue\u001b[39;00m)\n\u001b[32m--> \u001b[39m\u001b[32m190\u001b[39m \u001b[43mrun_training\u001b[49m\u001b[43m(\u001b[49m\u001b[43m)\u001b[49m\n",
            "\u001b[36mCell\u001b[39m\u001b[36m \u001b[39m\u001b[32mIn[8]\u001b[39m\u001b[32m, line 153\u001b[39m, in \u001b[36mrun_training\u001b[39m\u001b[34m()\u001b[39m\n\u001b[32m    151\u001b[39m ep_loss = \u001b[32m0.0\u001b[39m\n\u001b[32m    152\u001b[39m t_ep = time.time()\n\u001b[32m--> \u001b[39m\u001b[32m153\u001b[39m \u001b[43m\u001b[49m\u001b[38;5;28;43;01mfor\u001b[39;49;00m\u001b[43m \u001b[49m\u001b[43mi\u001b[49m\u001b[43m,\u001b[49m\u001b[43m(\u001b[49m\u001b[43mx\u001b[49m\u001b[43m,\u001b[49m\u001b[43my\u001b[49m\u001b[43m)\u001b[49m\u001b[43m \u001b[49m\u001b[38;5;129;43;01min\u001b[39;49;00m\u001b[43m \u001b[49m\u001b[38;5;28;43menumerate\u001b[39;49m\u001b[43m(\u001b[49m\u001b[43mtrain_loader\u001b[49m\u001b[43m)\u001b[49m\u001b[43m:\u001b[49m\n\u001b[32m    154\u001b[39m \u001b[43m    \u001b[49m\u001b[43mx\u001b[49m\u001b[43m \u001b[49m\u001b[43m=\u001b[49m\u001b[43m \u001b[49m\u001b[43mx\u001b[49m\u001b[43m.\u001b[49m\u001b[43mto\u001b[49m\u001b[43m(\u001b[49m\u001b[43mdevice\u001b[49m\u001b[43m,\u001b[49m\u001b[43m \u001b[49m\u001b[43mnon_blocking\u001b[49m\u001b[43m=\u001b[49m\u001b[38;5;28;43;01mTrue\u001b[39;49;00m\u001b[43m)\u001b[49m\u001b[43m.\u001b[49m\u001b[43mto\u001b[49m\u001b[43m(\u001b[49m\u001b[43mmemory_format\u001b[49m\u001b[43m=\u001b[49m\u001b[43mtorch\u001b[49m\u001b[43m.\u001b[49m\u001b[43mchannels_last\u001b[49m\u001b[43m)\u001b[49m\n\u001b[32m    155\u001b[39m \u001b[43m    \u001b[49m\u001b[43my\u001b[49m\u001b[43m \u001b[49m\u001b[43m=\u001b[49m\u001b[43m \u001b[49m\u001b[43my\u001b[49m\u001b[43m.\u001b[49m\u001b[43mto\u001b[49m\u001b[43m(\u001b[49m\u001b[43mdevice\u001b[49m\u001b[43m,\u001b[49m\u001b[43m \u001b[49m\u001b[43mnon_blocking\u001b[49m\u001b[43m=\u001b[49m\u001b[38;5;28;43;01mTrue\u001b[39;49;00m\u001b[43m)\u001b[49m\n",
            "\u001b[36mFile \u001b[39m\u001b[32m~/.pip-target/torch/utils/data/dataloader.py:630\u001b[39m, in \u001b[36m_BaseDataLoaderIter.__next__\u001b[39m\u001b[34m(self)\u001b[39m\n\u001b[32m    627\u001b[39m \u001b[38;5;28;01mif\u001b[39;00m \u001b[38;5;28mself\u001b[39m._sampler_iter \u001b[38;5;129;01mis\u001b[39;00m \u001b[38;5;28;01mNone\u001b[39;00m:\n\u001b[32m    628\u001b[39m     \u001b[38;5;66;03m# TODO(https://github.com/pytorch/pytorch/issues/76750)\u001b[39;00m\n\u001b[32m    629\u001b[39m     \u001b[38;5;28mself\u001b[39m._reset()  \u001b[38;5;66;03m# type: ignore[call-arg]\u001b[39;00m\n\u001b[32m--> \u001b[39m\u001b[32m630\u001b[39m data = \u001b[38;5;28;43mself\u001b[39;49m\u001b[43m.\u001b[49m\u001b[43m_next_data\u001b[49m\u001b[43m(\u001b[49m\u001b[43m)\u001b[49m\n\u001b[32m    631\u001b[39m \u001b[38;5;28mself\u001b[39m._num_yielded += \u001b[32m1\u001b[39m\n\u001b[32m    632\u001b[39m \u001b[38;5;28;01mif\u001b[39;00m \u001b[38;5;28mself\u001b[39m._dataset_kind == _DatasetKind.Iterable \u001b[38;5;129;01mand\u001b[39;00m \\\n\u001b[32m    633\u001b[39m         \u001b[38;5;28mself\u001b[39m._IterableDataset_len_called \u001b[38;5;129;01mis\u001b[39;00m \u001b[38;5;129;01mnot\u001b[39;00m \u001b[38;5;28;01mNone\u001b[39;00m \u001b[38;5;129;01mand\u001b[39;00m \\\n\u001b[32m    634\u001b[39m         \u001b[38;5;28mself\u001b[39m._num_yielded > \u001b[38;5;28mself\u001b[39m._IterableDataset_len_called:\n",
            "\u001b[36mFile \u001b[39m\u001b[32m~/.pip-target/torch/utils/data/dataloader.py:1324\u001b[39m, in \u001b[36m_MultiProcessingDataLoaderIter._next_data\u001b[39m\u001b[34m(self)\u001b[39m\n\u001b[32m   1322\u001b[39m \u001b[38;5;28;01mif\u001b[39;00m \u001b[38;5;28mlen\u001b[39m(\u001b[38;5;28mself\u001b[39m._task_info[\u001b[38;5;28mself\u001b[39m._rcvd_idx]) == \u001b[32m2\u001b[39m:\n\u001b[32m   1323\u001b[39m     data = \u001b[38;5;28mself\u001b[39m._task_info.pop(\u001b[38;5;28mself\u001b[39m._rcvd_idx)[\u001b[32m1\u001b[39m]\n\u001b[32m-> \u001b[39m\u001b[32m1324\u001b[39m     \u001b[38;5;28;01mreturn\u001b[39;00m \u001b[38;5;28;43mself\u001b[39;49m\u001b[43m.\u001b[49m\u001b[43m_process_data\u001b[49m\u001b[43m(\u001b[49m\u001b[43mdata\u001b[49m\u001b[43m)\u001b[49m\n\u001b[32m   1326\u001b[39m \u001b[38;5;28;01massert\u001b[39;00m \u001b[38;5;129;01mnot\u001b[39;00m \u001b[38;5;28mself\u001b[39m._shutdown \u001b[38;5;129;01mand\u001b[39;00m \u001b[38;5;28mself\u001b[39m._tasks_outstanding > \u001b[32m0\u001b[39m\n\u001b[32m   1327\u001b[39m idx, data = \u001b[38;5;28mself\u001b[39m._get_data()\n",
            "\u001b[36mFile \u001b[39m\u001b[32m~/.pip-target/torch/utils/data/dataloader.py:1370\u001b[39m, in \u001b[36m_MultiProcessingDataLoaderIter._process_data\u001b[39m\u001b[34m(self, data)\u001b[39m\n\u001b[32m   1368\u001b[39m \u001b[38;5;28mself\u001b[39m._try_put_index()\n\u001b[32m   1369\u001b[39m \u001b[38;5;28;01mif\u001b[39;00m \u001b[38;5;28misinstance\u001b[39m(data, ExceptionWrapper):\n\u001b[32m-> \u001b[39m\u001b[32m1370\u001b[39m     \u001b[43mdata\u001b[49m\u001b[43m.\u001b[49m\u001b[43mreraise\u001b[49m\u001b[43m(\u001b[49m\u001b[43m)\u001b[49m\n\u001b[32m   1371\u001b[39m \u001b[38;5;28;01mreturn\u001b[39;00m data\n",
            "\u001b[36mFile \u001b[39m\u001b[32m~/.pip-target/torch/_utils.py:706\u001b[39m, in \u001b[36mExceptionWrapper.reraise\u001b[39m\u001b[34m(self)\u001b[39m\n\u001b[32m    702\u001b[39m \u001b[38;5;28;01mexcept\u001b[39;00m \u001b[38;5;167;01mTypeError\u001b[39;00m:\n\u001b[32m    703\u001b[39m     \u001b[38;5;66;03m# If the exception takes multiple arguments, don't try to\u001b[39;00m\n\u001b[32m    704\u001b[39m     \u001b[38;5;66;03m# instantiate since we don't know how to\u001b[39;00m\n\u001b[32m    705\u001b[39m     \u001b[38;5;28;01mraise\u001b[39;00m \u001b[38;5;167;01mRuntimeError\u001b[39;00m(msg) \u001b[38;5;28;01mfrom\u001b[39;00m\u001b[38;5;250m \u001b[39m\u001b[38;5;28;01mNone\u001b[39;00m\n\u001b[32m--> \u001b[39m\u001b[32m706\u001b[39m \u001b[38;5;28;01mraise\u001b[39;00m exception\n",
            "\u001b[31mFileNotFoundError\u001b[39m: Caught FileNotFoundError in DataLoader worker process 6.\nOriginal Traceback (most recent call last):\n  File \"/app/.pip-target/torch/utils/data/_utils/worker.py\", line 309, in _worker_loop\n    data = fetcher.fetch(index)  # type: ignore[possibly-undefined]\n           ^^^^^^^^^^^^^^^^^^^^\n  File \"/app/.pip-target/torch/utils/data/_utils/fetch.py\", line 52, in fetch\n    data = [self.dataset[idx] for idx in possibly_batched_index]\n           ^^^^^^^^^^^^^^^^^^^^^^^^^^^^^^^^^^^^^^^^^^^^^^^^^^^^^\n  File \"/app/.pip-target/torch/utils/data/_utils/fetch.py\", line 52, in <listcomp>\n    data = [self.dataset[idx] for idx in possibly_batched_index]\n            ~~~~~~~~~~~~^^^^^\n  File \"/tmp/ipykernel_196/2920277601.py\", line 100, in __getitem__\n    img = self._read_image(file_name)\n          ^^^^^^^^^^^^^^^^^^^^^^^^^^^\n  File \"/tmp/ipykernel_196/2920277601.py\", line 56, in _read_image\n    raise FileNotFoundError(str(p))\nFileNotFoundError: train/883572ba-21bc-11ea-a13a-137349068a90.jpg\n"
          ]
        }
      ]
    },
    {
      "id": "2f857707-78d0-472b-b0da-8a2e195c66b3",
      "cell_type": "code",
      "metadata": {},
      "source": [
        "# Validate and sanitize submission.csv before submit\n",
        "import pandas as pd\n",
        "import numpy as np\n",
        "from pathlib import Path\n",
        "\n",
        "ss = pd.read_csv('sample_submission.csv')\n",
        "sub = pd.read_csv('submission.csv')\n",
        "print('submission.csv shape:', sub.shape, '| expected:', ss.shape)\n",
        "print('Columns:', sub.columns.tolist())\n",
        "\n",
        "# Check ordering and Id coverage\n",
        "same_ids = (sub['Id'].tolist() == ss['Id'].tolist())\n",
        "print('Same Id order as sample:', same_ids)\n",
        "missing = set(ss['Id']) - set(sub['Id'])\n",
        "extra = set(sub['Id']) - set(ss['Id'])\n",
        "print('Missing Ids:', len(missing), 'Extra Ids:', len(extra))\n",
        "\n",
        "# Check Category dtype and NaNs\n",
        "nan_cnt = sub['Category'].isna().sum()\n",
        "print('NaN categories:', nan_cnt)\n",
        "non_int = not pd.api.types.is_integer_dtype(sub['Category'])\n",
        "print('Category integer dtype:', not non_int, '| dtype:', sub['Category'].dtype)\n",
        "\n",
        "# Fixes if needed\n",
        "if not same_ids or len(missing)>0 or len(extra)>0:\n",
        "    sub = ss[['Id']].merge(sub, on='Id', how='left')\n",
        "    print('Reordered/merged submission; new shape:', sub.shape)\n",
        "if nan_cnt>0:\n",
        "    # Fill NaNs with most frequent train category_id (often empty class id 0), safe fallback\n",
        "    sub['Category'] = sub['Category'].fillna(0).astype(np.int64)\n",
        "if non_int:\n",
        "    # Coerce to int\n",
        "    sub['Category'] = sub['Category'].astype(np.int64)\n",
        "\n",
        "sub.to_csv('submission.csv', index=False)\n",
        "print('Final submission.csv saved. Head:')\n",
        "print(sub.head())\n",
        "print('Value counts sample:', sub['Category'].value_counts().head(10))"
      ],
      "execution_count": 7,
      "outputs": [
        {
          "output_type": "stream",
          "name": "stdout",
          "text": [
            "submission.csv shape: (60760, 2) | expected: (60760, 2)\nColumns: ['Id', 'Category']\nSame Id order as sample: True\nMissing Ids: 0 Extra Ids: 0\nNaN categories: 0\nCategory integer dtype: True | dtype: int64\nFinal submission.csv saved. Head:\n                                     Id  Category\n0  879d74d8-21bc-11ea-a13a-137349068a90         0\n1  90243894-21bc-11ea-a13a-137349068a90         0\n2  944adb30-21bc-11ea-a13a-137349068a90         0\n3  8ced2424-21bc-11ea-a13a-137349068a90         0\n4  8aac3a4c-21bc-11ea-a13a-137349068a90         0\nValue counts sample: Category\n0      22476\n71     11403\n317     4486\n90      3345\n374     2914\n372     2564\n259     1407\n96      1366\n2        773\n376      754\nName: count, dtype: int64\n"
          ]
        }
      ]
    },
    {
      "id": "b1178d48-6e83-474a-9415-fe2cdd232e2e",
      "cell_type": "code",
      "metadata": {},
      "source": [
        "# Install pillow-simd and verify PIL loader performance settings\n",
        "import os, sys, subprocess, shutil, time\n",
        "from pathlib import Path\n",
        "\n",
        "def run(cmd):\n",
        "    print('>>>', ' '.join(cmd), flush=True)\n",
        "    return subprocess.run(cmd, check=False, text=True, capture_output=True)\n",
        "\n",
        "print('Uninstalling stock pillow (if any)...', flush=True)\n",
        "run([sys.executable, '-m', 'pip', 'uninstall', '-y', 'pillow'])\n",
        "\n",
        "print('Installing pillow-simd...', flush=True)\n",
        "args = [sys.executable, '-m', 'pip', 'install']\n",
        "if Path('constraints.txt').exists():\n",
        "    args += ['-c', 'constraints.txt']\n",
        "args += ['pillow-simd']\n",
        "res = run(args)\n",
        "print(res.stdout)\n",
        "print(res.stderr)\n",
        "\n",
        "print('Verifying PIL import and enabling truncated loads...', flush=True)\n",
        "from PIL import Image, ImageFile\n",
        "ImageFile.LOAD_TRUNCATED_IMAGES = True\n",
        "print('PIL version:', Image.__version__)\n",
        "\n",
        "# Set recommended loader/thread env knobs\n",
        "import cv2\n",
        "cv2.setNumThreads(0)\n",
        "os.environ['OMP_NUM_THREADS'] = '1'\n",
        "print('cv2 threads set to 0; OMP_NUM_THREADS=1')\n",
        "print('pillow-simd setup complete.')"
      ],
      "execution_count": 9,
      "outputs": [
        {
          "output_type": "stream",
          "name": "stdout",
          "text": [
            "Uninstalling stock pillow (if any)...\n"
          ]
        },
        {
          "output_type": "stream",
          "name": "stdout",
          "text": [
            ">>> /usr/bin/python3.11 -m pip uninstall -y pillow\n"
          ]
        },
        {
          "output_type": "stream",
          "name": "stdout",
          "text": [
            "Installing pillow-simd...\n"
          ]
        },
        {
          "output_type": "stream",
          "name": "stdout",
          "text": [
            ">>> /usr/bin/python3.11 -m pip install -c constraints.txt pillow-simd\n"
          ]
        },
        {
          "output_type": "stream",
          "name": "stdout",
          "text": [
            "Collecting pillow-simd\n  Downloading Pillow-SIMD-9.5.0.post2.tar.gz (904 kB)\n     \u2501\u2501\u2501\u2501\u2501\u2501\u2501\u2501\u2501\u2501\u2501\u2501\u2501\u2501\u2501\u2501\u2501\u2501\u2501\u2501\u2501\u2501\u2501\u2501\u2501\u2501\u2501\u2501\u2501\u2501\u2501\u2501\u2501\u2501\u2501\u2501\u2501\u2501 904.6/904.6 KB 32.8 MB/s eta 0:00:00\n  Preparing metadata (setup.py): started\n  Preparing metadata (setup.py): finished with status 'done'\nBuilding wheels for collected packages: pillow-simd\n  Building wheel for pillow-simd (setup.py): started\n  Building wheel for pillow-simd (setup.py): finished with status 'error'\n  Running setup.py clean for pillow-simd\nFailed to build pillow-simd\nInstalling collected packages: pillow-simd\n  Running setup.py install for pillow-simd: started\n  Running setup.py install for pillow-simd: finished with status 'error'\n\n  error: subprocess-exited-with-error\n  \n  \u00d7 python setup.py bdist_wheel did not run successfully.\n  \u2502 exit code: 1\n  \u2570\u2500> [183 lines of output]\n      running bdist_wheel\n      running build\n      running build_py\n      creating build\n      creating build/lib.linux-x86_64-3.11\n      creating build/lib.linux-x86_64-3.11/PIL\n      copying src/PIL/features.py -> build/lib.linux-x86_64-3.11/PIL\n      copying src/PIL/_version.py -> build/lib.linux-x86_64-3.11/PIL\n      copying src/PIL/_util.py -> build/lib.linux-x86_64-3.11/PIL\n      copying src/PIL/_tkinter_finder.py -> build/lib.linux-x86_64-3.11/PIL\n      copying src/PIL/_deprecate.py -> build/lib.linux-x86_64-3.11/PIL\n      copying src/PIL/_binary.py -> build/lib.linux-x86_64-3.11/PIL\n      copying src/PIL/__main__.py -> build/lib.linux-x86_64-3.11/PIL\n      copying src/PIL/__init__.py -> build/lib.linux-x86_64-3.11/PIL\n      copying src/PIL/XpmImagePlugin.py -> build/lib.linux-x86_64-3.11/PIL\n      copying src/PIL/XbmImagePlugin.py -> build/lib.linux-x86_64-3.11/PIL\n      copying src/PIL/XVThumbImagePlugin.py -> build/lib.linux-x86_64-3.11/PIL\n      copying src/PIL/WmfImagePlugin.py -> build/lib.linux-x86_64-3.11/PIL\n      copying src/PIL/WebPImagePlugin.py -> build/lib.linux-x86_64-3.11/PIL\n      copying src/PIL/WalImageFile.py -> build/lib.linux-x86_64-3.11/PIL\n      copying src/PIL/TiffTags.py -> build/lib.linux-x86_64-3.11/PIL\n      copying src/PIL/TiffImagePlugin.py -> build/lib.linux-x86_64-3.11/PIL\n      copying src/PIL/TgaImagePlugin.py -> build/lib.linux-x86_64-3.11/PIL\n      copying src/PIL/TarIO.py -> build/lib.linux-x86_64-3.11/PIL\n      copying src/PIL/SunImagePlugin.py -> build/lib.linux-x86_64-3.11/PIL\n      copying src/PIL/SpiderImagePlugin.py -> build/lib.linux-x86_64-3.11/PIL\n      copying src/PIL/SgiImagePlugin.py -> build/lib.linux-x86_64-3.11/PIL\n      copying src/PIL/QoiImagePlugin.py -> build/lib.linux-x86_64-3.11/PIL\n      copying src/PIL/PyAccess.py -> build/lib.linux-x86_64-3.11/PIL\n      copying src/PIL/PsdImagePlugin.py -> build/lib.linux-x86_64-3.11/PIL\n      copying src/PIL/PpmImagePlugin.py -> build/lib.linux-x86_64-3.11/PIL\n      copying src/PIL/PngImagePlugin.py -> build/lib.linux-x86_64-3.11/PIL\n      copying src/PIL/PixarImagePlugin.py -> build/lib.linux-x86_64-3.11/PIL\n      copying src/PIL/PdfParser.py -> build/lib.linux-x86_64-3.11/PIL\n      copying src/PIL/PdfImagePlugin.py -> build/lib.linux-x86_64-3.11/PIL\n      copying src/PIL/PcxImagePlugin.py -> build/lib.linux-x86_64-3.11/PIL\n      copying src/PIL/PcfFontFile.py -> build/lib.linux-x86_64-3.11/PIL\n      copying src/PIL/PcdImagePlugin.py -> build/lib.linux-x86_64-3.11/PIL\n      copying src/PIL/PalmImagePlugin.py -> build/lib.linux-x86_64-3.11/PIL\n      copying src/PIL/PaletteFile.py -> build/lib.linux-x86_64-3.11/PIL\n      copying src/PIL/PSDraw.py -> build/lib.linux-x86_64-3.11/PIL\n      copying src/PIL/MspImagePlugin.py -> build/lib.linux-x86_64-3.11/PIL\n      copying src/PIL/MpoImagePlugin.py -> build/lib.linux-x86_64-3.11/PIL\n      copying src/PIL/MpegImagePlugin.py -> build/lib.linux-x86_64-3.11/PIL\n      copying src/PIL/MicImagePlugin.py -> build/lib.linux-x86_64-3.11/PIL\n      copying src/PIL/McIdasImagePlugin.py -> build/lib.linux-x86_64-3.11/PIL\n      copying src/PIL/JpegPresets.py -> build/lib.linux-x86_64-3.11/PIL\n      copying src/PIL/JpegImagePlugin.py -> build/lib.linux-x86_64-3.11/PIL\n      copying src/PIL/Jpeg2KImagePlugin.py -> build/lib.linux-x86_64-3.11/PIL\n      copying src/PIL/IptcImagePlugin.py -> build/lib.linux-x86_64-3.11/PIL\n      copying src/PIL/ImtImagePlugin.py -> build/lib.linux-x86_64-3.11/PIL\n      copying src/PIL/ImageWin.py -> build/lib.linux-x86_64-3.11/PIL\n      copying src/PIL/ImageTransform.py -> build/lib.linux-x86_64-3.11/PIL\n      copying src/PIL/ImageTk.py -> build/lib.linux-x86_64-3.11/PIL\n      copying src/PIL/ImageStat.py -> build/lib.linux-x86_64-3.11/PIL\n      copying src/PIL/ImageShow.py -> build/lib.linux-x86_64-3.11/PIL\n      copying src/PIL/ImageSequence.py -> build/lib.linux-x86_64-3.11/PIL\n      copying src/PIL/ImageQt.py -> build/lib.linux-x86_64-3.11/PIL\n      copying src/PIL/ImagePath.py -> build/lib.linux-x86_64-3.11/PIL\n      copying src/PIL/ImagePalette.py -> build/lib.linux-x86_64-3.11/PIL\n      copying src/PIL/ImageOps.py -> build/lib.linux-x86_64-3.11/PIL\n      copying src/PIL/ImageMorph.py -> build/lib.linux-x86_64-3.11/PIL\n      copying src/PIL/ImageMode.py -> build/lib.linux-x86_64-3.11/PIL\n      copying src/PIL/ImageMath.py -> build/lib.linux-x86_64-3.11/PIL\n      copying src/PIL/ImageGrab.py -> build/lib.linux-x86_64-3.11/PIL\n      copying src/PIL/ImageFont.py -> build/lib.linux-x86_64-3.11/PIL\n      copying src/PIL/ImageFilter.py -> build/lib.linux-x86_64-3.11/PIL\n      copying src/PIL/ImageFile.py -> build/lib.linux-x86_64-3.11/PIL\n      copying src/PIL/ImageEnhance.py -> build/lib.linux-x86_64-3.11/PIL\n      copying src/PIL/ImageDraw2.py -> build/lib.linux-x86_64-3.11/PIL\n      copying src/PIL/ImageDraw.py -> build/lib.linux-x86_64-3.11/PIL\n      copying src/PIL/ImageColor.py -> build/lib.linux-x86_64-3.11/PIL\n      copying src/PIL/ImageCms.py -> build/lib.linux-x86_64-3.11/PIL\n      copying src/PIL/ImageChops.py -> build/lib.linux-x86_64-3.11/PIL\n      copying src/PIL/Image.py -> build/lib.linux-x86_64-3.11/PIL\n      copying src/PIL/ImImagePlugin.py -> build/lib.linux-x86_64-3.11/PIL\n      copying src/PIL/IcoImagePlugin.py -> build/lib.linux-x86_64-3.11/PIL\n      copying src/PIL/IcnsImagePlugin.py -> build/lib.linux-x86_64-3.11/PIL\n      copying src/PIL/Hdf5StubImagePlugin.py -> build/lib.linux-x86_64-3.11/PIL\n      copying src/PIL/GribStubImagePlugin.py -> build/lib.linux-x86_64-3.11/PIL\n      copying src/PIL/GimpPaletteFile.py -> build/lib.linux-x86_64-3.11/PIL\n      copying src/PIL/GimpGradientFile.py -> build/lib.linux-x86_64-3.11/PIL\n      copying src/PIL/GifImagePlugin.py -> build/lib.linux-x86_64-3.11/PIL\n      copying src/PIL/GdImageFile.py -> build/lib.linux-x86_64-3.11/PIL\n      copying src/PIL/GbrImagePlugin.py -> build/lib.linux-x86_64-3.11/PIL\n      copying src/PIL/FtexImagePlugin.py -> build/lib.linux-x86_64-3.11/PIL\n      copying src/PIL/FpxImagePlugin.py -> build/lib.linux-x86_64-3.11/PIL\n      copying src/PIL/FontFile.py -> build/lib.linux-x86_64-3.11/PIL\n      copying src/PIL/FliImagePlugin.py -> build/lib.linux-x86_64-3.11/PIL\n      copying src/PIL/FitsStubImagePlugin.py -> build/lib.linux-x86_64-3.11/PIL\n      copying src/PIL/FitsImagePlugin.py -> build/lib.linux-x86_64-3.11/PIL\n      copying src/PIL/ExifTags.py -> build/lib.linux-x86_64-3.11/PIL\n      copying src/PIL/EpsImagePlugin.py -> build/lib.linux-x86_64-3.11/PIL\n      copying src/PIL/DdsImagePlugin.py -> build/lib.linux-x86_64-3.11/PIL\n      copying src/PIL/DcxImagePlugin.py -> build/lib.linux-x86_64-3.11/PIL\n      copying src/PIL/CurImagePlugin.py -> build/lib.linux-x86_64-3.11/PIL\n      copying src/PIL/ContainerIO.py -> build/lib.linux-x86_64-3.11/PIL\n      copying src/PIL/BufrStubImagePlugin.py -> build/lib.linux-x86_64-3.11/PIL\n      copying src/PIL/BmpImagePlugin.py -> build/lib.linux-x86_64-3.11/PIL\n      copying src/PIL/BlpImagePlugin.py -> build/lib.linux-x86_64-3.11/PIL\n      copying src/PIL/BdfFontFile.py -> build/lib.linux-x86_64-3.11/PIL\n      running egg_info\n      writing src/Pillow_SIMD.egg-info/PKG-INFO\n      writing dependency_links to src/Pillow_SIMD.egg-info/dependency_links.txt\n      writing requirements to src/Pillow_SIMD.egg-info/requires.txt\n      writing top-level names to src/Pillow_SIMD.egg-info/top_level.txt\n      reading manifest file 'src/Pillow_SIMD.egg-info/SOURCES.txt'\n      reading manifest template 'MANIFEST.in'\n      warning: no files found matching '*.c'\n      warning: no files found matching '*.h'\n      warning: no files found matching '*.sh'\n      warning: no files found matching '*.txt'\n      warning: no previously-included files found matching '.appveyor.yml'\n      warning: no previously-included files found matching '.clang-format'\n      warning: no previously-included files found matching '.coveragerc'\n      warning: no previously-included files found matching '.editorconfig'\n      warning: no previously-included files found matching '.readthedocs.yml'\n      warning: no previously-included files found matching 'codecov.yml'\n      warning: no previously-included files found matching 'renovate.json'\n      warning: no previously-included files matching '.DS_Store' found anywhere in distribution\n      warning: no previously-included files matching '.git*' found anywhere in distribution\n      warning: no previously-included files matching '*.pyc' found anywhere in distribution\n      warning: no previously-included files matching '*.so' found anywhere in distribution\n      no previously-included directories found matching '.ci'\n      adding license file 'LICENSE'\n      writing manifest file 'src/Pillow_SIMD.egg-info/SOURCES.txt'\n      running build_ext\n      \n      \n      The headers or library files could not be found for zlib,\n      a required dependency when compiling Pillow from source.\n      \n      Please see the install instructions at:\n         https://pillow.readthedocs.io/en/latest/installation.html\n      \n      Traceback (most recent call last):\n        File \"/tmp/pip-install-s7usjpjz/pillow-simd_eb80107bf89a44b0b4620eee1c0c003f/setup.py\", line 994, in <module>\n          setup(\n        File \"/usr/lib/python3/dist-packages/setuptools/__init__.py\", line 153, in setup\n          return distutils.core.setup(**attrs)\n                 ^^^^^^^^^^^^^^^^^^^^^^^^^^^^^\n        File \"/usr/lib/python3.11/distutils/core.py\", line 148, in setup\n          dist.run_commands()\n        File \"/usr/lib/python3.11/distutils/dist.py\", line 966, in run_commands\n          self.run_command(cmd)\n        File \"/usr/lib/python3.11/distutils/dist.py\", line 985, in run_command\n          cmd_obj.run()\n        File \"/usr/lib/python3/dist-packages/wheel/bdist_wheel.py\", line 299, in run\n          self.run_command('build')\n        File \"/usr/lib/python3.11/distutils/cmd.py\", line 313, in run_command\n          self.distribution.run_command(command)\n        File \"/usr/lib/python3.11/distutils/dist.py\", line 985, in run_command\n          cmd_obj.run()\n        File \"/usr/lib/python3.11/distutils/command/build.py\", line 135, in run\n          self.run_command(cmd_name)\n        File \"/usr/lib/python3.11/distutils/cmd.py\", line 313, in run_command\n          self.distribution.run_command(command)\n        File \"/usr/lib/python3.11/distutils/dist.py\", line 985, in run_command\n          cmd_obj.run()\n        File \"/usr/lib/python3/dist-packages/setuptools/command/build_ext.py\", line 79, in run\n          _build_ext.run(self)\n        File \"/usr/lib/python3.11/distutils/command/build_ext.py\", line 340, in run\n          self.build_extensions()\n        File \"/tmp/pip-install-s7usjpjz/pillow-simd_eb80107bf89a44b0b4620eee1c0c003f/setup.py\", line 810, in build_extensions\n          raise RequiredDependencyException(f)\n      RequiredDependencyException: zlib\n      \n      During handling of the above exception, another exception occurred:\n      \n      Traceback (most recent call last):\n        File \"<string>\", line 2, in <module>\n        File \"<pip-setuptools-caller>\", line 34, in <module>\n        File \"/tmp/pip-install-s7usjpjz/pillow-simd_eb80107bf89a44b0b4620eee1c0c003f/setup.py\", line 1011, in <module>\n          raise RequiredDependencyException(msg)\n      RequiredDependencyException:\n      \n      The headers or library files could not be found for zlib,\n      a required dependency when compiling Pillow from source.\n      \n      Please see the install instructions at:\n         https://pillow.readthedocs.io/en/latest/installation.html\n      \n      \n      [end of output]\n  \n  note: This error originates from a subprocess, and is likely not a problem with pip.\n  ERROR: Failed building wheel for pillow-simd\n  error: subprocess-exited-with-error\n  \n  \u00d7 Running setup.py install for pillow-simd did not run successfully.\n  \u2502 exit code: 1\n  \u2570\u2500> [188 lines of output]\n      running install\n      /usr/lib/python3/dist-packages/setuptools/command/install.py:34: SetuptoolsDeprecationWarning: setup.py install is deprecated. Use build and pip and other standards-based tools.\n        warnings.warn(\n      running build\n      running build_py\n      creating build\n      creating build/lib.linux-x86_64-3.11\n      creating build/lib.linux-x86_64-3.11/PIL\n      copying src/PIL/features.py -> build/lib.linux-x86_64-3.11/PIL\n      copying src/PIL/_version.py -> build/lib.linux-x86_64-3.11/PIL\n      copying src/PIL/_util.py -> build/lib.linux-x86_64-3.11/PIL\n      copying src/PIL/_tkinter_finder.py -> build/lib.linux-x86_64-3.11/PIL\n      copying src/PIL/_deprecate.py -> build/lib.linux-x86_64-3.11/PIL\n      copying src/PIL/_binary.py -> build/lib.linux-x86_64-3.11/PIL\n      copying src/PIL/__main__.py -> build/lib.linux-x86_64-3.11/PIL\n      copying src/PIL/__init__.py -> build/lib.linux-x86_64-3.11/PIL\n      copying src/PIL/XpmImagePlugin.py -> build/lib.linux-x86_64-3.11/PIL\n      copying src/PIL/XbmImagePlugin.py -> build/lib.linux-x86_64-3.11/PIL\n      copying src/PIL/XVThumbImagePlugin.py -> build/lib.linux-x86_64-3.11/PIL\n      copying src/PIL/WmfImagePlugin.py -> build/lib.linux-x86_64-3.11/PIL\n      copying src/PIL/WebPImagePlugin.py -> build/lib.linux-x86_64-3.11/PIL\n      copying src/PIL/WalImageFile.py -> build/lib.linux-x86_64-3.11/PIL\n      copying src/PIL/TiffTags.py -> build/lib.linux-x86_64-3.11/PIL\n      copying src/PIL/TiffImagePlugin.py -> build/lib.linux-x86_64-3.11/PIL\n      copying src/PIL/TgaImagePlugin.py -> build/lib.linux-x86_64-3.11/PIL\n      copying src/PIL/TarIO.py -> build/lib.linux-x86_64-3.11/PIL\n      copying src/PIL/SunImagePlugin.py -> build/lib.linux-x86_64-3.11/PIL\n      copying src/PIL/SpiderImagePlugin.py -> build/lib.linux-x86_64-3.11/PIL\n      copying src/PIL/SgiImagePlugin.py -> build/lib.linux-x86_64-3.11/PIL\n      copying src/PIL/QoiImagePlugin.py -> build/lib.linux-x86_64-3.11/PIL\n      copying src/PIL/PyAccess.py -> build/lib.linux-x86_64-3.11/PIL\n      copying src/PIL/PsdImagePlugin.py -> build/lib.linux-x86_64-3.11/PIL\n      copying src/PIL/PpmImagePlugin.py -> build/lib.linux-x86_64-3.11/PIL\n      copying src/PIL/PngImagePlugin.py -> build/lib.linux-x86_64-3.11/PIL\n      copying src/PIL/PixarImagePlugin.py -> build/lib.linux-x86_64-3.11/PIL\n      copying src/PIL/PdfParser.py -> build/lib.linux-x86_64-3.11/PIL\n      copying src/PIL/PdfImagePlugin.py -> build/lib.linux-x86_64-3.11/PIL\n      copying src/PIL/PcxImagePlugin.py -> build/lib.linux-x86_64-3.11/PIL\n      copying src/PIL/PcfFontFile.py -> build/lib.linux-x86_64-3.11/PIL\n      copying src/PIL/PcdImagePlugin.py -> build/lib.linux-x86_64-3.11/PIL\n      copying src/PIL/PalmImagePlugin.py -> build/lib.linux-x86_64-3.11/PIL\n      copying src/PIL/PaletteFile.py -> build/lib.linux-x86_64-3.11/PIL\n      copying src/PIL/PSDraw.py -> build/lib.linux-x86_64-3.11/PIL\n      copying src/PIL/MspImagePlugin.py -> build/lib.linux-x86_64-3.11/PIL\n      copying src/PIL/MpoImagePlugin.py -> build/lib.linux-x86_64-3.11/PIL\n      copying src/PIL/MpegImagePlugin.py -> build/lib.linux-x86_64-3.11/PIL\n      copying src/PIL/MicImagePlugin.py -> build/lib.linux-x86_64-3.11/PIL\n      copying src/PIL/McIdasImagePlugin.py -> build/lib.linux-x86_64-3.11/PIL\n      copying src/PIL/JpegPresets.py -> build/lib.linux-x86_64-3.11/PIL\n      copying src/PIL/JpegImagePlugin.py -> build/lib.linux-x86_64-3.11/PIL\n      copying src/PIL/Jpeg2KImagePlugin.py -> build/lib.linux-x86_64-3.11/PIL\n      copying src/PIL/IptcImagePlugin.py -> build/lib.linux-x86_64-3.11/PIL\n      copying src/PIL/ImtImagePlugin.py -> build/lib.linux-x86_64-3.11/PIL\n      copying src/PIL/ImageWin.py -> build/lib.linux-x86_64-3.11/PIL\n      copying src/PIL/ImageTransform.py -> build/lib.linux-x86_64-3.11/PIL\n      copying src/PIL/ImageTk.py -> build/lib.linux-x86_64-3.11/PIL\n      copying src/PIL/ImageStat.py -> build/lib.linux-x86_64-3.11/PIL\n      copying src/PIL/ImageShow.py -> build/lib.linux-x86_64-3.11/PIL\n      copying src/PIL/ImageSequence.py -> build/lib.linux-x86_64-3.11/PIL\n      copying src/PIL/ImageQt.py -> build/lib.linux-x86_64-3.11/PIL\n      copying src/PIL/ImagePath.py -> build/lib.linux-x86_64-3.11/PIL\n      copying src/PIL/ImagePalette.py -> build/lib.linux-x86_64-3.11/PIL\n      copying src/PIL/ImageOps.py -> build/lib.linux-x86_64-3.11/PIL\n      copying src/PIL/ImageMorph.py -> build/lib.linux-x86_64-3.11/PIL\n      copying src/PIL/ImageMode.py -> build/lib.linux-x86_64-3.11/PIL\n      copying src/PIL/ImageMath.py -> build/lib.linux-x86_64-3.11/PIL\n      copying src/PIL/ImageGrab.py -> build/lib.linux-x86_64-3.11/PIL\n      copying src/PIL/ImageFont.py -> build/lib.linux-x86_64-3.11/PIL\n      copying src/PIL/ImageFilter.py -> build/lib.linux-x86_64-3.11/PIL\n      copying src/PIL/ImageFile.py -> build/lib.linux-x86_64-3.11/PIL\n      copying src/PIL/ImageEnhance.py -> build/lib.linux-x86_64-3.11/PIL\n      copying src/PIL/ImageDraw2.py -> build/lib.linux-x86_64-3.11/PIL\n      copying src/PIL/ImageDraw.py -> build/lib.linux-x86_64-3.11/PIL\n      copying src/PIL/ImageColor.py -> build/lib.linux-x86_64-3.11/PIL\n      copying src/PIL/ImageCms.py -> build/lib.linux-x86_64-3.11/PIL\n      copying src/PIL/ImageChops.py -> build/lib.linux-x86_64-3.11/PIL\n      copying src/PIL/Image.py -> build/lib.linux-x86_64-3.11/PIL\n      copying src/PIL/ImImagePlugin.py -> build/lib.linux-x86_64-3.11/PIL\n      copying src/PIL/IcoImagePlugin.py -> build/lib.linux-x86_64-3.11/PIL\n      copying src/PIL/IcnsImagePlugin.py -> build/lib.linux-x86_64-3.11/PIL\n      copying src/PIL/Hdf5StubImagePlugin.py -> build/lib.linux-x86_64-3.11/PIL\n      copying src/PIL/GribStubImagePlugin.py -> build/lib.linux-x86_64-3.11/PIL\n      copying src/PIL/GimpPaletteFile.py -> build/lib.linux-x86_64-3.11/PIL\n      copying src/PIL/GimpGradientFile.py -> build/lib.linux-x86_64-3.11/PIL\n      copying src/PIL/GifImagePlugin.py -> build/lib.linux-x86_64-3.11/PIL\n      copying src/PIL/GdImageFile.py -> build/lib.linux-x86_64-3.11/PIL\n      copying src/PIL/GbrImagePlugin.py -> build/lib.linux-x86_64-3.11/PIL\n      copying src/PIL/FtexImagePlugin.py -> build/lib.linux-x86_64-3.11/PIL\n      copying src/PIL/FpxImagePlugin.py -> build/lib.linux-x86_64-3.11/PIL\n      copying src/PIL/FontFile.py -> build/lib.linux-x86_64-3.11/PIL\n      copying src/PIL/FliImagePlugin.py -> build/lib.linux-x86_64-3.11/PIL\n      copying src/PIL/FitsStubImagePlugin.py -> build/lib.linux-x86_64-3.11/PIL\n      copying src/PIL/FitsImagePlugin.py -> build/lib.linux-x86_64-3.11/PIL\n      copying src/PIL/ExifTags.py -> build/lib.linux-x86_64-3.11/PIL\n      copying src/PIL/EpsImagePlugin.py -> build/lib.linux-x86_64-3.11/PIL\n      copying src/PIL/DdsImagePlugin.py -> build/lib.linux-x86_64-3.11/PIL\n      copying src/PIL/DcxImagePlugin.py -> build/lib.linux-x86_64-3.11/PIL\n      copying src/PIL/CurImagePlugin.py -> build/lib.linux-x86_64-3.11/PIL\n      copying src/PIL/ContainerIO.py -> build/lib.linux-x86_64-3.11/PIL\n      copying src/PIL/BufrStubImagePlugin.py -> build/lib.linux-x86_64-3.11/PIL\n      copying src/PIL/BmpImagePlugin.py -> build/lib.linux-x86_64-3.11/PIL\n      copying src/PIL/BlpImagePlugin.py -> build/lib.linux-x86_64-3.11/PIL\n      copying src/PIL/BdfFontFile.py -> build/lib.linux-x86_64-3.11/PIL\n      running egg_info\n      writing src/Pillow_SIMD.egg-info/PKG-INFO\n      writing dependency_links to src/Pillow_SIMD.egg-info/dependency_links.txt\n      writing requirements to src/Pillow_SIMD.egg-info/requires.txt\n      writing top-level names to src/Pillow_SIMD.egg-info/top_level.txt\n      reading manifest file 'src/Pillow_SIMD.egg-info/SOURCES.txt'\n      reading manifest template 'MANIFEST.in'\n      warning: no files found matching '*.c'\n      warning: no files found matching '*.h'\n      warning: no files found matching '*.sh'\n      warning: no files found matching '*.txt'\n      warning: no previously-included files found matching '.appveyor.yml'\n      warning: no previously-included files found matching '.clang-format'\n      warning: no previously-included files found matching '.coveragerc'\n      warning: no previously-included files found matching '.editorconfig'\n      warning: no previously-included files found matching '.readthedocs.yml'\n      warning: no previously-included files found matching 'codecov.yml'\n      warning: no previously-included files found matching 'renovate.json'\n      warning: no previously-included files matching '.DS_Store' found anywhere in distribution\n      warning: no previously-included files matching '.git*' found anywhere in distribution\n      warning: no previously-included files matching '*.pyc' found anywhere in distribution\n      warning: no previously-included files matching '*.so' found anywhere in distribution\n      no previously-included directories found matching '.ci'\n      adding license file 'LICENSE'\n      writing manifest file 'src/Pillow_SIMD.egg-info/SOURCES.txt'\n      running build_ext\n      \n      \n      The headers or library files could not be found for zlib,\n      a required dependency when compiling Pillow from source.\n      \n      Please see the install instructions at:\n         https://pillow.readthedocs.io/en/latest/installation.html\n      \n      Traceback (most recent call last):\n        File \"/tmp/pip-install-s7usjpjz/pillow-simd_eb80107bf89a44b0b4620eee1c0c003f/setup.py\", line 994, in <module>\n          setup(\n        File \"/usr/lib/python3/dist-packages/setuptools/__init__.py\", line 153, in setup\n          return distutils.core.setup(**attrs)\n                 ^^^^^^^^^^^^^^^^^^^^^^^^^^^^^\n        File \"/usr/lib/python3.11/distutils/core.py\", line 148, in setup\n          dist.run_commands()\n        File \"/usr/lib/python3.11/distutils/dist.py\", line 966, in run_commands\n          self.run_command(cmd)\n        File \"/usr/lib/python3.11/distutils/dist.py\", line 985, in run_command\n          cmd_obj.run()\n        File \"/usr/lib/python3/dist-packages/setuptools/command/install.py\", line 68, in run\n          return orig.install.run(self)\n                 ^^^^^^^^^^^^^^^^^^^^^^\n        File \"/usr/lib/python3.11/distutils/command/install.py\", line 619, in run\n          self.run_command('build')\n        File \"/usr/lib/python3.11/distutils/cmd.py\", line 313, in run_command\n          self.distribution.run_command(command)\n        File \"/usr/lib/python3.11/distutils/dist.py\", line 985, in run_command\n          cmd_obj.run()\n        File \"/usr/lib/python3.11/distutils/command/build.py\", line 135, in run\n          self.run_command(cmd_name)\n        File \"/usr/lib/python3.11/distutils/cmd.py\", line 313, in run_command\n          self.distribution.run_command(command)\n        File \"/usr/lib/python3.11/distutils/dist.py\", line 985, in run_command\n          cmd_obj.run()\n        File \"/usr/lib/python3/dist-packages/setuptools/command/build_ext.py\", line 79, in run\n          _build_ext.run(self)\n        File \"/usr/lib/python3.11/distutils/command/build_ext.py\", line 340, in run\n          self.build_extensions()\n        File \"/tmp/pip-install-s7usjpjz/pillow-simd_eb80107bf89a44b0b4620eee1c0c003f/setup.py\", line 810, in build_extensions\n          raise RequiredDependencyException(f)\n      RequiredDependencyException: zlib\n      \n      During handling of the above exception, another exception occurred:\n      \n      Traceback (most recent call last):\n        File \"<string>\", line 2, in <module>\n        File \"<pip-setuptools-caller>\", line 34, in <module>\n        File \"/tmp/pip-install-s7usjpjz/pillow-simd_eb80107bf89a44b0b4620eee1c0c003f/setup.py\", line 1011, in <module>\n          raise RequiredDependencyException(msg)\n      RequiredDependencyException:\n      \n      The headers or library files could not be found for zlib,\n      a required dependency when compiling Pillow from source.\n      \n      Please see the install instructions at:\n         https://pillow.readthedocs.io/en/latest/installation.html\n      \n      \n      [end of output]\n  \n  note: This error originates from a subprocess, and is likely not a problem with pip.\nerror: legacy-install-failure\n\n\u00d7 Encountered error while trying to install package.\n\u2570\u2500> pillow-simd\n\nnote: This is an issue with the package mentioned above, not pip.\nhint: See above for output from the failure.\n\nVerifying PIL import and enabling truncated loads...\n"
          ]
        },
        {
          "output_type": "stream",
          "name": "stdout",
          "text": [
            "PIL version: 10.3.0\ncv2 threads set to 0; OMP_NUM_THREADS=1\npillow-simd setup complete.\n"
          ]
        }
      ]
    },
    {
      "id": "467657f3-553c-4ffe-a19a-a2d822da252f",
      "cell_type": "code",
      "metadata": {},
      "source": [
        "# Full training with PIL loader, top-2 MD crops, Mixup/CutMix, EMA, cosine schedule\n",
        "import os, time, json, random, math\n",
        "from pathlib import Path\n",
        "import numpy as np\n",
        "import pandas as pd\n",
        "from PIL import Image, ImageFile\n",
        "ImageFile.LOAD_TRUNCATED_IMAGES = True\n",
        "import torch\n",
        "import torch.nn as nn\n",
        "from torch.utils.data import DataLoader, Dataset\n",
        "import timm\n",
        "from timm.utils import ModelEmaV2\n",
        "from timm.loss import SoftTargetCrossEntropy\n",
        "from timm.data.mixup import Mixup\n",
        "\n",
        "os.environ['OMP_NUM_THREADS'] = '1'\n",
        "torch.backends.cuda.matmul.allow_tf32 = True\n",
        "torch.backends.cudnn.allow_tf32 = True\n",
        "torch.backends.cudnn.benchmark = True\n",
        "\n",
        "SEED = 42\n",
        "random.seed(SEED); np.random.seed(SEED); torch.manual_seed(SEED); torch.cuda.manual_seed_all(SEED)\n",
        "device = torch.device('cuda' if torch.cuda.is_available() else 'cpu')\n",
        "\n",
        "img_size = 384\n",
        "model_name = 'tf_efficientnet_b4_ns'\n",
        "epochs = 10\n",
        "train_fold = 0  # fold 0 as validation\n",
        "bs_train = 32\n",
        "bs_val = 64\n",
        "p_crop = 0.6\n",
        "lr = 2e-4; wd = 1e-4\n",
        "mixup_alpha = 0.1\n",
        "cutmix_alpha = 0.5\n",
        "mix_prob = 1.0\n",
        "ema_decay = 0.9997\n",
        "\n",
        "# Load artifacts\n",
        "df = pd.read_parquet('train_folds.parquet')\n",
        "maps = json.loads(Path('label_mapping.json').read_text())\n",
        "cat_id_to_idx = {int(k):int(v) for k,v in maps['cat_id_to_idx'].items()}\n",
        "idx_to_cat_id = {int(k):int(v) for k,v in maps['idx_to_cat_id'].items()}\n",
        "num_classes = len(idx_to_cat_id)\n",
        "md_fname_map = json.loads(Path('megadetector_map.json').read_text()) if Path('megadetector_map.json').exists() else {}\n",
        "\n",
        "def build_class_weights(df, num_classes):\n",
        "    counts = df['label_idx'].value_counts().sort_index().reindex(range(num_classes)).fillna(0).values.astype(np.float32)\n",
        "    w = 1.0/np.log(1.02+counts+1e-9)\n",
        "    w = w/np.mean(w)\n",
        "    return torch.tensor(w, dtype=torch.float32)\n",
        "\n",
        "def iou_xywh(a, b):\n",
        "    ax, ay, aw, ah = a; bx, by, bw, bh = b\n",
        "    ax0, ay0, ax1, ay1 = ax, ay, ax+aw, ay+ah\n",
        "    bx0, by0, bx1, by1 = bx, by, bx+bw, by+bh\n",
        "    ix0, iy0 = max(ax0, bx0), max(ay0, by0)\n",
        "    ix1, iy1 = min(ax1, bx1), min(ay1, by1)\n",
        "    iw, ih = max(0.0, ix1-ix0), max(0.0, iy1-iy0)\n",
        "    inter = iw*ih\n",
        "    ua = aw*ah + bw*bh - inter + 1e-9\n",
        "    return inter/ua\n",
        "\n",
        "class IwDataset(Dataset):\n",
        "    def __init__(self, df, root='train', train=True, md_map=None, p_crop=0.6):\n",
        "        self.df = df.reset_index(drop=True)\n",
        "        self.root = Path(root)\n",
        "        self.train = train\n",
        "        self.md_map = md_map or {}\n",
        "        self.p_crop = p_crop if train else 0.0\n",
        "\n",
        "    def __len__(self):\n",
        "        return len(self.df)\n",
        "\n",
        "    def _read_image(self, file_name):\n",
        "        p = self.root / file_name\n",
        "        try:\n",
        "            with Image.open(p) as im:\n",
        "                im = im.convert('RGB')\n",
        "                img = np.asarray(im)\n",
        "        except Exception:\n",
        "            # blank fallback\n",
        "            img = np.zeros((img_size, img_size, 3), dtype=np.uint8)\n",
        "        return img\n",
        "\n",
        "    def _md_top2(self, file_name, conf_th=0.3, min_area=0.03, iou_th=0.7):\n",
        "        dets = [d for d in self.md_map.get(file_name, []) if d.get('conf',0.0) >= conf_th]\n",
        "        if not dets:\n",
        "            return []\n",
        "        dets.sort(key=lambda d: max(0.0,d['bbox'][2])*max(0.0,d['bbox'][3]), reverse=True)\n",
        "        top = []\n",
        "        for d in dets:\n",
        "            if max(0.0,d['bbox'][2])*max(0.0,d['bbox'][3]) < min_area:\n",
        "                continue\n",
        "            ok = True\n",
        "            for e in top:\n",
        "                if iou_xywh(d['bbox'], e['bbox']) >= iou_th:\n",
        "                    ok = False; break\n",
        "            if ok:\n",
        "                top.append(d)\n",
        "            if len(top) >= 2:\n",
        "                break\n",
        "        return top\n",
        "\n",
        "    def _apply_md_crop_square(self, img, bbox, pad=0.20):\n",
        "        H, W = img.shape[:2]\n",
        "        x,y,w,h = bbox\n",
        "        side = max(w,h)*(1.0+pad)\n",
        "        cx, cy = x + w/2.0, y + h/2.0\n",
        "        x0 = max(0.0, cx - side/2.0); y0 = max(0.0, cy - side/2.0)\n",
        "        x1 = min(1.0, cx + side/2.0); y1 = min(1.0, cy + side/2.0)\n",
        "        X0 = int(round(x0*W)); Y0 = int(round(y0*H)); X1 = int(round(x1*W)); Y1 = int(round(y1*H))\n",
        "        if X1<=X0 or Y1<=Y0:\n",
        "            return img\n",
        "        return img[Y0:Y1, X0:X1, :]\n",
        "\n",
        "    def _augment(self, img):\n",
        "        if self.train:\n",
        "            H,W = img.shape[:2]\n",
        "            if H>0 and W>0:\n",
        "                scale = random.uniform(0.7,1.0)\n",
        "                side = int(min(H,W)*scale)\n",
        "                if side>0:\n",
        "                    y0 = random.randint(0, max(0, H-side))\n",
        "                    x0 = random.randint(0, max(0, W-side))\n",
        "                    img = img[y0:y0+side, x0:x0+side]\n",
        "            if random.random()<0.5:\n",
        "                img = img[:, ::-1, :].copy()\n",
        "            if random.random()<0.8:\n",
        "                # brightness/contrast jitter\n",
        "                alpha = 1.0 + random.uniform(-0.2, 0.2)\n",
        "                beta = random.uniform(-20, 20)\n",
        "                img = np.clip(img.astype(np.float32)*alpha + beta, 0, 255).astype(np.uint8)\n",
        "        img = np.array(Image.fromarray(img).resize((img_size, img_size), resample=Image.BILINEAR))\n",
        "        return img\n",
        "\n",
        "    def __getitem__(self, idx):\n",
        "        r = self.df.iloc[idx]\n",
        "        file_name = r['file_name']\n",
        "        img = self._read_image(file_name)\n",
        "        if self.train and random.random() < self.p_crop:\n",
        "            top = self._md_top2(file_name)\n",
        "            if top:\n",
        "                choice = random.choice(top)\n",
        "                img = self._apply_md_crop_square(img, choice['bbox'], pad=0.20)\n",
        "        img = self._augment(img).astype(np.float32)/255.0\n",
        "        mean = np.array([0.485,0.456,0.406], dtype=np.float32)\n",
        "        std = np.array([0.229,0.224,0.225], dtype=np.float32)\n",
        "        img = (img-mean)/std\n",
        "        img = np.transpose(img,(2,0,1))\n",
        "        y = int(r['label_idx'])\n",
        "        return torch.from_numpy(img), torch.tensor(y, dtype=torch.long)\n",
        "\n",
        "def run_training(seed=42):\n",
        "    random.seed(seed); np.random.seed(seed); torch.manual_seed(seed); torch.cuda.manual_seed_all(seed)\n",
        "    # Filter existing files\n",
        "    train_files = set(p.name for p in Path('train').glob('*.jpg'))\n",
        "    df_use = df[df['file_name'].isin(train_files)].copy()\n",
        "    if len(df_use) < len(df):\n",
        "        print(f'Filtered missing files: {len(df)-len(df_use)} removed, {len(df_use)} remain', flush=True)\n",
        "    trn_df = df_use[df_use['fold'] != train_fold].copy()\n",
        "    val_df = df_use[df_use['fold'] == train_fold].copy().reset_index(drop=True)\n",
        "    print('Train/Val sizes:', trn_df.shape, val_df.shape, flush=True)\n",
        "\n",
        "    train_ds = IwDataset(trn_df, root='train', train=True, md_map=md_fname_map, p_crop=p_crop)\n",
        "    val_ds = IwDataset(val_df, root='train', train=False, md_map=md_fname_map, p_crop=0.0)\n",
        "\n",
        "    train_loader = DataLoader(train_ds, batch_size=bs_train, shuffle=True, num_workers=12, pin_memory=True, persistent_workers=True, prefetch_factor=4, drop_last=True)\n",
        "    val_loader = DataLoader(val_ds, batch_size=bs_val, shuffle=False, num_workers=12, pin_memory=True, persistent_workers=True, prefetch_factor=4)\n",
        "\n",
        "    model = timm.create_model(model_name, pretrained=True, num_classes=num_classes).to(device).to(memory_format=torch.channels_last)\n",
        "    optimizer = torch.optim.AdamW(model.parameters(), lr=lr, weight_decay=wd)\n",
        "    # EMA\n",
        "    ema = ModelEmaV2(model, decay=ema_decay)\n",
        "\n",
        "    # LR schedule per-step: 1 epoch warmup then cosine\n",
        "    num_steps = epochs*len(train_loader)\n",
        "    warmup_steps = max(1, len(train_loader))\n",
        "    def lr_lambda(step):\n",
        "        if step < warmup_steps:\n",
        "            return (step+1)/warmup_steps\n",
        "        prog = (step - warmup_steps)/max(1, (num_steps - warmup_steps))\n",
        "        return 0.5*(1.0 + math.cos(math.pi*prog))\n",
        "    scheduler = torch.optim.lr_scheduler.LambdaLR(optimizer, lr_lambda=lr_lambda)\n",
        "\n",
        "    class_weights = build_class_weights(trn_df, num_classes).to(device)\n",
        "    # Losses\n",
        "    ce_weighted = nn.CrossEntropyLoss(weight=class_weights, label_smoothing=0.1).to(device)\n",
        "    ce_soft = SoftTargetCrossEntropy().to(device)  # used during mixup/cutmix (no weights)\n",
        "\n",
        "    # Mixup/CutMix\n",
        "    mixup_fn = Mixup(mixup_alpha=mixup_alpha, cutmix_alpha=cutmix_alpha, cutmix_minmax=None, prob=mix_prob, switch_prob=0.0, mode='batch', label_smoothing=0.05, num_classes=num_classes)\n",
        "\n",
        "    scaler = torch.cuda.amp.GradScaler(enabled=True)\n",
        "    best_acc = -1.0\n",
        "    best_path = f'ckpt_best_{model_name}_ema_fold{train_fold}_seed{seed}.pt'\n",
        "    global_step = 0\n",
        "    t0 = time.time()\n",
        "    for ep in range(1, epochs+1):\n",
        "        model.train()\n",
        "        ep_loss = 0.0\n",
        "        t_ep = time.time()\n",
        "        mixing_active = ep <= max(1, epochs-2)  # disable in last 2 epochs\n",
        "        for i,(x,y) in enumerate(train_loader):\n",
        "            x = x.to(device, non_blocking=True).to(memory_format=torch.channels_last)\n",
        "            y = y.to(device, non_blocking=True)\n",
        "            optimizer.zero_grad(set_to_none=True)\n",
        "            with torch.amp.autocast('cuda', enabled=True):\n",
        "                if mixing_active and (x.size(0) % 2 == 0):\n",
        "                    x_m, y_m = mixup_fn(x, y)\n",
        "                    logits = model(x_m)\n",
        "                    loss = ce_soft(logits, y_m)\n",
        "                else:\n",
        "                    logits = model(x)\n",
        "                    loss = ce_weighted(logits, y)\n",
        "            scaler.scale(loss).backward()\n",
        "            scaler.step(optimizer)\n",
        "            scaler.update()\n",
        "            scheduler.step()\n",
        "            # EMA update\n",
        "            ema.update(model)\n",
        "            ep_loss += loss.item()\n",
        "            global_step += 1\n",
        "            if (i+1)%200==0:\n",
        "                print(f'E{ep} step {i+1}/{len(train_loader)} loss {loss.item():.4f} lr {scheduler.get_last_lr()[0]:.2e} elapsed {time.time()-t_ep:.1f}s', flush=True)\n",
        "        # Evaluation (use EMA weights)\n",
        "        correct=0; total=0\n",
        "        eval_model = ema.module\n",
        "        eval_model.eval()\n",
        "        with torch.no_grad():\n",
        "            for j,(xv,yv) in enumerate(val_loader):\n",
        "                xv = xv.to(device, non_blocking=True).to(memory_format=torch.channels_last)\n",
        "                yv = yv.to(device, non_blocking=True)\n",
        "                with torch.amp.autocast('cuda', enabled=True):\n",
        "                    logits = eval_model(xv)\n",
        "                preds = logits.argmax(1)\n",
        "                correct += (preds==yv).sum().item()\n",
        "                total += yv.numel()\n",
        "                if (j+1)%200==0:\n",
        "                    print(f'  Val {j+1}/{len(val_loader)}', flush=True)\n",
        "        acc = correct/max(1,total)\n",
        "        print(f'End Epoch {ep}: loss {(ep_loss/max(1,len(train_loader))):.4f} val_acc {acc:.4f} epoch_time {time.time()-t_ep:.1f}s total {time.time()-t0:.1f}s', flush=True)\n",
        "        if acc > best_acc:\n",
        "            best_acc = acc\n",
        "            torch.save({'model': eval_model.state_dict(), 'val_acc': best_acc, 'cfg': {'model': model_name, 'img_size': img_size, 'seed': seed}}, best_path)\n",
        "            print('  Saved best EMA to', best_path, 'acc', best_acc, flush=True)\n",
        "    print('Training done. Best acc:', best_acc, 'ckpt:', best_path, flush=True)\n",
        "\n",
        "# Launch first run (fold 0, seed 42)\n",
        "run_training(seed=42)"
      ],
      "execution_count": 11,
      "outputs": [
        {
          "output_type": "stream",
          "name": "stdout",
          "text": [
            "Train/Val sizes: (125759, 7) (31440, 7)\n"
          ]
        },
        {
          "output_type": "stream",
          "name": "stderr",
          "text": [
            "/app/.pip-target/timm/models/_factory.py:117: UserWarning: Mapping deprecated model name tf_efficientnet_b4_ns to current tf_efficientnet_b4.ns_jft_in1k.\n  model = create_fn(\n"
          ]
        },
        {
          "output_type": "stream",
          "name": "stderr",
          "text": [
            "/tmp/ipykernel_196/1146100908.py:193: FutureWarning: `torch.cuda.amp.GradScaler(args...)` is deprecated. Please use `torch.amp.GradScaler('cuda', args...)` instead.\n  scaler = torch.cuda.amp.GradScaler(enabled=True)\n"
          ]
        },
        {
          "output_type": "stream",
          "name": "stdout",
          "text": [
            "E1 step 200/3929 loss 4.7494 lr 1.02e-05 elapsed 50.3s\n"
          ]
        },
        {
          "output_type": "stream",
          "name": "stdout",
          "text": [
            "E1 step 400/3929 loss 3.1894 lr 2.04e-05 elapsed 98.6s\n"
          ]
        },
        {
          "output_type": "stream",
          "name": "stdout",
          "text": [
            "E1 step 600/3929 loss 1.9622 lr 3.06e-05 elapsed 147.1s\n"
          ]
        },
        {
          "output_type": "stream",
          "name": "stdout",
          "text": [
            "E1 step 800/3929 loss 2.4665 lr 4.08e-05 elapsed 195.6s\n"
          ]
        },
        {
          "output_type": "stream",
          "name": "stdout",
          "text": [
            "E1 step 1000/3929 loss 2.1341 lr 5.10e-05 elapsed 244.3s\n"
          ]
        },
        {
          "output_type": "stream",
          "name": "stdout",
          "text": [
            "E1 step 1200/3929 loss 2.9842 lr 6.11e-05 elapsed 293.0s\n"
          ]
        },
        {
          "output_type": "stream",
          "name": "stdout",
          "text": [
            "E1 step 1400/3929 loss 1.6844 lr 7.13e-05 elapsed 341.6s\n"
          ]
        },
        {
          "output_type": "stream",
          "name": "stdout",
          "text": [
            "E1 step 1600/3929 loss 1.5988 lr 8.15e-05 elapsed 390.2s\n"
          ]
        },
        {
          "output_type": "stream",
          "name": "stdout",
          "text": [
            "E1 step 1800/3929 loss 1.2179 lr 9.17e-05 elapsed 438.9s\n"
          ]
        },
        {
          "output_type": "stream",
          "name": "stdout",
          "text": [
            "E1 step 2000/3929 loss 1.3588 lr 1.02e-04 elapsed 487.5s\n"
          ]
        },
        {
          "output_type": "stream",
          "name": "stdout",
          "text": [
            "E1 step 2200/3929 loss 1.4149 lr 1.12e-04 elapsed 537.3s\n"
          ]
        },
        {
          "output_type": "stream",
          "name": "stdout",
          "text": [
            "E1 step 2400/3929 loss 1.0519 lr 1.22e-04 elapsed 585.9s\n"
          ]
        },
        {
          "output_type": "stream",
          "name": "stdout",
          "text": [
            "E1 step 2600/3929 loss 1.1198 lr 1.32e-04 elapsed 634.6s\n"
          ]
        },
        {
          "output_type": "stream",
          "name": "stdout",
          "text": [
            "E1 step 2800/3929 loss 1.7333 lr 1.43e-04 elapsed 683.3s\n"
          ]
        },
        {
          "output_type": "stream",
          "name": "stdout",
          "text": [
            "E1 step 3000/3929 loss 1.5717 lr 1.53e-04 elapsed 732.1s\n"
          ]
        },
        {
          "output_type": "stream",
          "name": "stdout",
          "text": [
            "E1 step 3200/3929 loss 1.5488 lr 1.63e-04 elapsed 780.8s\n"
          ]
        },
        {
          "output_type": "stream",
          "name": "stdout",
          "text": [
            "E1 step 3400/3929 loss 2.2720 lr 1.73e-04 elapsed 829.4s\n"
          ]
        },
        {
          "output_type": "stream",
          "name": "stdout",
          "text": [
            "E1 step 3600/3929 loss 0.9870 lr 1.83e-04 elapsed 878.1s\n"
          ]
        },
        {
          "output_type": "stream",
          "name": "stdout",
          "text": [
            "E1 step 3800/3929 loss 1.4773 lr 1.93e-04 elapsed 926.9s\n"
          ]
        },
        {
          "output_type": "stream",
          "name": "stdout",
          "text": [
            "  Val 200/492\n"
          ]
        },
        {
          "output_type": "stream",
          "name": "stdout",
          "text": [
            "  Val 400/492\n"
          ]
        },
        {
          "output_type": "stream",
          "name": "stdout",
          "text": [
            "End Epoch 1: loss 2.0908 val_acc 0.7055 epoch_time 1043.5s total 1043.5s\n"
          ]
        },
        {
          "output_type": "stream",
          "name": "stdout",
          "text": [
            "  Saved best EMA to ckpt_best_tf_efficientnet_b4_ns_ema_fold0_seed42.pt acc 0.705470737913486\n"
          ]
        },
        {
          "output_type": "stream",
          "name": "stdout",
          "text": [
            "E2 step 200/3929 loss 1.0864 lr 2.00e-04 elapsed 49.8s\n"
          ]
        },
        {
          "output_type": "stream",
          "name": "stdout",
          "text": [
            "E2 step 400/3929 loss 1.1357 lr 2.00e-04 elapsed 98.7s\n"
          ]
        },
        {
          "output_type": "stream",
          "name": "stdout",
          "text": [
            "E2 step 600/3929 loss 1.2317 lr 2.00e-04 elapsed 147.4s\n"
          ]
        },
        {
          "output_type": "stream",
          "name": "stdout",
          "text": [
            "E2 step 800/3929 loss 1.8036 lr 2.00e-04 elapsed 196.0s\n"
          ]
        },
        {
          "output_type": "stream",
          "name": "stdout",
          "text": [
            "E2 step 1000/3929 loss 1.2386 lr 2.00e-04 elapsed 244.5s\n"
          ]
        },
        {
          "output_type": "stream",
          "name": "stdout",
          "text": [
            "E2 step 1200/3929 loss 2.1669 lr 1.99e-04 elapsed 293.2s\n"
          ]
        },
        {
          "output_type": "stream",
          "name": "stdout",
          "text": [
            "E2 step 1400/3929 loss 1.0810 lr 1.99e-04 elapsed 341.8s\n"
          ]
        },
        {
          "output_type": "stream",
          "name": "stdout",
          "text": [
            "E2 step 1600/3929 loss 1.2456 lr 1.99e-04 elapsed 390.6s\n"
          ]
        },
        {
          "output_type": "stream",
          "name": "stdout",
          "text": [
            "E2 step 1800/3929 loss 0.8443 lr 1.99e-04 elapsed 439.6s\n"
          ]
        },
        {
          "output_type": "stream",
          "name": "stdout",
          "text": [
            "E2 step 2000/3929 loss 0.9642 lr 1.98e-04 elapsed 488.4s\n"
          ]
        },
        {
          "output_type": "stream",
          "name": "stdout",
          "text": [
            "E2 step 2200/3929 loss 1.1803 lr 1.98e-04 elapsed 540.1s\n"
          ]
        },
        {
          "output_type": "stream",
          "name": "stdout",
          "text": [
            "E2 step 2400/3929 loss 0.8914 lr 1.98e-04 elapsed 589.0s\n"
          ]
        },
        {
          "output_type": "stream",
          "name": "stdout",
          "text": [
            "E2 step 2600/3929 loss 0.8856 lr 1.97e-04 elapsed 637.8s\n"
          ]
        },
        {
          "output_type": "stream",
          "name": "stdout",
          "text": [
            "E2 step 2800/3929 loss 2.9484 lr 1.97e-04 elapsed 686.6s\n"
          ]
        },
        {
          "output_type": "stream",
          "name": "stdout",
          "text": [
            "E2 step 3000/3929 loss 1.5069 lr 1.96e-04 elapsed 735.2s\n"
          ]
        },
        {
          "output_type": "stream",
          "name": "stdout",
          "text": [
            "E2 step 3200/3929 loss 1.7681 lr 1.96e-04 elapsed 784.0s\n"
          ]
        },
        {
          "output_type": "stream",
          "name": "stdout",
          "text": [
            "E2 step 3400/3929 loss 0.8303 lr 1.95e-04 elapsed 832.6s\n"
          ]
        },
        {
          "output_type": "stream",
          "name": "stdout",
          "text": [
            "E2 step 3600/3929 loss 0.8841 lr 1.95e-04 elapsed 881.2s\n"
          ]
        },
        {
          "output_type": "stream",
          "name": "stdout",
          "text": [
            "E2 step 3800/3929 loss 0.7509 lr 1.94e-04 elapsed 930.0s\n"
          ]
        },
        {
          "output_type": "stream",
          "name": "stdout",
          "text": [
            "  Val 200/492\n"
          ]
        },
        {
          "output_type": "stream",
          "name": "stdout",
          "text": [
            "  Val 400/492\n"
          ]
        },
        {
          "output_type": "stream",
          "name": "stdout",
          "text": [
            "End Epoch 2: loss 1.3004 val_acc 0.8385 epoch_time 1043.6s total 2087.2s\n"
          ]
        },
        {
          "output_type": "stream",
          "name": "stdout",
          "text": [
            "  Saved best EMA to ckpt_best_tf_efficientnet_b4_ns_ema_fold0_seed42.pt acc 0.8385178117048346\n"
          ]
        },
        {
          "output_type": "stream",
          "name": "stdout",
          "text": [
            "E3 step 200/3929 loss 1.1956 lr 1.93e-04 elapsed 49.6s\n"
          ]
        },
        {
          "output_type": "stream",
          "name": "stdout",
          "text": [
            "E3 step 400/3929 loss 0.9892 lr 1.93e-04 elapsed 98.2s\n"
          ]
        },
        {
          "output_type": "stream",
          "name": "stdout",
          "text": [
            "E3 step 600/3929 loss 0.8644 lr 1.92e-04 elapsed 147.0s\n"
          ]
        },
        {
          "output_type": "stream",
          "name": "stdout",
          "text": [
            "E3 step 800/3929 loss 1.0640 lr 1.91e-04 elapsed 195.6s\n"
          ]
        },
        {
          "output_type": "stream",
          "name": "stdout",
          "text": [
            "E3 step 1000/3929 loss 1.0874 lr 1.91e-04 elapsed 244.3s\n"
          ]
        },
        {
          "output_type": "stream",
          "name": "stdout",
          "text": [
            "E3 step 1200/3929 loss 2.0147 lr 1.90e-04 elapsed 293.3s\n"
          ]
        },
        {
          "output_type": "stream",
          "name": "stdout",
          "text": [
            "E3 step 1400/3929 loss 2.4435 lr 1.89e-04 elapsed 342.0s\n"
          ]
        },
        {
          "output_type": "stream",
          "name": "stdout",
          "text": [
            "E3 step 1600/3929 loss 0.7912 lr 1.88e-04 elapsed 390.5s\n"
          ]
        },
        {
          "output_type": "stream",
          "name": "stdout",
          "text": [
            "E3 step 1800/3929 loss 0.9006 lr 1.87e-04 elapsed 439.2s\n"
          ]
        },
        {
          "output_type": "stream",
          "name": "stdout",
          "text": [
            "E3 step 2000/3929 loss 0.7750 lr 1.86e-04 elapsed 487.8s\n"
          ]
        },
        {
          "output_type": "stream",
          "name": "stdout",
          "text": [
            "E3 step 2200/3929 loss 0.7453 lr 1.86e-04 elapsed 536.4s\n"
          ]
        },
        {
          "output_type": "stream",
          "name": "stdout",
          "text": [
            "E3 step 2400/3929 loss 0.8562 lr 1.85e-04 elapsed 585.2s\n"
          ]
        },
        {
          "output_type": "stream",
          "name": "stdout",
          "text": [
            "E3 step 2600/3929 loss 0.7711 lr 1.84e-04 elapsed 633.9s\n"
          ]
        },
        {
          "output_type": "stream",
          "name": "stdout",
          "text": [
            "E3 step 2800/3929 loss 0.7721 lr 1.83e-04 elapsed 682.6s\n"
          ]
        },
        {
          "output_type": "stream",
          "name": "stdout",
          "text": [
            "E3 step 3000/3929 loss 0.8593 lr 1.82e-04 elapsed 731.4s\n"
          ]
        },
        {
          "output_type": "stream",
          "name": "stdout",
          "text": [
            "E3 step 3200/3929 loss 1.9485 lr 1.81e-04 elapsed 780.0s\n"
          ]
        },
        {
          "output_type": "stream",
          "name": "stdout",
          "text": [
            "E3 step 3400/3929 loss 0.9443 lr 1.80e-04 elapsed 828.6s\n"
          ]
        },
        {
          "output_type": "stream",
          "name": "stdout",
          "text": [
            "E3 step 3600/3929 loss 0.9341 lr 1.78e-04 elapsed 877.2s\n"
          ]
        },
        {
          "output_type": "stream",
          "name": "stdout",
          "text": [
            "E3 step 3800/3929 loss 0.6064 lr 1.77e-04 elapsed 927.0s\n"
          ]
        },
        {
          "output_type": "stream",
          "name": "stdout",
          "text": [
            "  Val 200/492\n"
          ]
        },
        {
          "output_type": "stream",
          "name": "stdout",
          "text": [
            "  Val 400/492\n"
          ]
        },
        {
          "output_type": "stream",
          "name": "stdout",
          "text": [
            "End Epoch 3: loss 1.1209 val_acc 0.8401 epoch_time 1038.7s total 3126.1s\n"
          ]
        },
        {
          "output_type": "stream",
          "name": "stdout",
          "text": [
            "  Saved best EMA to ckpt_best_tf_efficientnet_b4_ns_ema_fold0_seed42.pt acc 0.8400763358778626\n"
          ]
        },
        {
          "output_type": "stream",
          "name": "stdout",
          "text": [
            "E4 step 200/3929 loss 0.8287 lr 1.75e-04 elapsed 49.5s\n"
          ]
        },
        {
          "output_type": "stream",
          "name": "stdout",
          "text": [
            "E4 step 400/3929 loss 0.7268 lr 1.74e-04 elapsed 98.0s\n"
          ]
        },
        {
          "output_type": "stream",
          "name": "stdout",
          "text": [
            "E4 step 600/3929 loss 1.2313 lr 1.73e-04 elapsed 146.7s\n"
          ]
        },
        {
          "output_type": "stream",
          "name": "stdout",
          "text": [
            "E4 step 800/3929 loss 1.3961 lr 1.72e-04 elapsed 195.6s\n"
          ]
        },
        {
          "output_type": "stream",
          "name": "stdout",
          "text": [
            "E4 step 1000/3929 loss 0.7401 lr 1.71e-04 elapsed 244.2s\n"
          ]
        },
        {
          "output_type": "stream",
          "name": "stdout",
          "text": [
            "E4 step 1200/3929 loss 1.2133 lr 1.69e-04 elapsed 293.0s\n"
          ]
        },
        {
          "output_type": "stream",
          "name": "stdout",
          "text": [
            "E4 step 1400/3929 loss 1.1735 lr 1.68e-04 elapsed 341.8s\n"
          ]
        },
        {
          "output_type": "stream",
          "name": "stdout",
          "text": [
            "E4 step 1600/3929 loss 0.9177 lr 1.67e-04 elapsed 390.4s\n"
          ]
        },
        {
          "output_type": "stream",
          "name": "stdout",
          "text": [
            "E4 step 1800/3929 loss 0.8121 lr 1.65e-04 elapsed 438.9s\n"
          ]
        },
        {
          "output_type": "stream",
          "name": "stdout",
          "text": [
            "E4 step 2000/3929 loss 0.7987 lr 1.64e-04 elapsed 487.4s\n"
          ]
        },
        {
          "output_type": "stream",
          "name": "stdout",
          "text": [
            "E4 step 2200/3929 loss 0.9605 lr 1.63e-04 elapsed 536.0s\n"
          ]
        },
        {
          "output_type": "stream",
          "name": "stdout",
          "text": [
            "E4 step 2400/3929 loss 0.8100 lr 1.61e-04 elapsed 584.7s\n"
          ]
        },
        {
          "output_type": "stream",
          "name": "stdout",
          "text": [
            "E4 step 2600/3929 loss 0.6439 lr 1.60e-04 elapsed 633.5s\n"
          ]
        },
        {
          "output_type": "stream",
          "name": "stdout",
          "text": [
            "E4 step 2800/3929 loss 1.0094 lr 1.58e-04 elapsed 683.0s\n"
          ]
        },
        {
          "output_type": "stream",
          "name": "stdout",
          "text": [
            "E4 step 3000/3929 loss 2.4413 lr 1.57e-04 elapsed 731.7s\n"
          ]
        },
        {
          "output_type": "stream",
          "name": "stdout",
          "text": [
            "E4 step 3200/3929 loss 0.6510 lr 1.56e-04 elapsed 780.1s\n"
          ]
        },
        {
          "output_type": "stream",
          "name": "stdout",
          "text": [
            "E4 step 3400/3929 loss 1.6753 lr 1.54e-04 elapsed 828.7s\n"
          ]
        },
        {
          "output_type": "stream",
          "name": "stdout",
          "text": [
            "E4 step 3600/3929 loss 2.2389 lr 1.53e-04 elapsed 877.4s\n"
          ]
        },
        {
          "output_type": "stream",
          "name": "stdout",
          "text": [
            "E4 step 3800/3929 loss 0.6593 lr 1.51e-04 elapsed 926.2s\n"
          ]
        },
        {
          "output_type": "stream",
          "name": "stdout",
          "text": [
            "  Val 200/492\n"
          ]
        },
        {
          "output_type": "stream",
          "name": "stdout",
          "text": [
            "  Val 400/492\n"
          ]
        },
        {
          "output_type": "stream",
          "name": "stdout",
          "text": [
            "End Epoch 4: loss 1.0167 val_acc 0.7881 epoch_time 1040.4s total 4166.8s\n"
          ]
        },
        {
          "output_type": "stream",
          "name": "stdout",
          "text": [
            "E5 step 200/3929 loss 0.7397 lr 1.48e-04 elapsed 49.8s\n"
          ]
        },
        {
          "output_type": "stream",
          "name": "stdout",
          "text": [
            "E5 step 400/3929 loss 1.1948 lr 1.47e-04 elapsed 98.4s\n"
          ]
        },
        {
          "output_type": "stream",
          "name": "stdout",
          "text": [
            "E5 step 600/3929 loss 0.6282 lr 1.45e-04 elapsed 147.0s\n"
          ]
        },
        {
          "output_type": "stream",
          "name": "stdout",
          "text": [
            "E5 step 800/3929 loss 0.7789 lr 1.44e-04 elapsed 195.5s\n"
          ]
        },
        {
          "output_type": "stream",
          "name": "stdout",
          "text": [
            "E5 step 1000/3929 loss 1.2907 lr 1.42e-04 elapsed 244.1s\n"
          ]
        },
        {
          "output_type": "stream",
          "name": "stdout",
          "text": [
            "E5 step 1200/3929 loss 0.8523 lr 1.41e-04 elapsed 292.6s\n"
          ]
        },
        {
          "output_type": "stream",
          "name": "stdout",
          "text": [
            "E5 step 1400/3929 loss 2.1813 lr 1.39e-04 elapsed 341.5s\n"
          ]
        },
        {
          "output_type": "stream",
          "name": "stdout",
          "text": [
            "E5 step 1600/3929 loss 1.8207 lr 1.37e-04 elapsed 390.2s\n"
          ]
        },
        {
          "output_type": "stream",
          "name": "stdout",
          "text": [
            "E5 step 1800/3929 loss 0.6030 lr 1.36e-04 elapsed 439.2s\n"
          ]
        },
        {
          "output_type": "stream",
          "name": "stdout",
          "text": [
            "E5 step 2000/3929 loss 0.8294 lr 1.34e-04 elapsed 488.0s\n"
          ]
        },
        {
          "output_type": "stream",
          "name": "stdout",
          "text": [
            "E5 step 2200/3929 loss 0.7155 lr 1.32e-04 elapsed 536.6s\n"
          ]
        },
        {
          "output_type": "stream",
          "name": "stdout",
          "text": [
            "E5 step 2400/3929 loss 0.5466 lr 1.31e-04 elapsed 585.1s\n"
          ]
        },
        {
          "output_type": "stream",
          "name": "stdout",
          "text": [
            "E5 step 2600/3929 loss 0.6770 lr 1.29e-04 elapsed 633.6s\n"
          ]
        },
        {
          "output_type": "stream",
          "name": "stdout",
          "text": [
            "E5 step 2800/3929 loss 2.3833 lr 1.27e-04 elapsed 682.4s\n"
          ]
        },
        {
          "output_type": "stream",
          "name": "stdout",
          "text": [
            "E5 step 3000/3929 loss 2.1024 lr 1.25e-04 elapsed 731.2s\n"
          ]
        },
        {
          "output_type": "stream",
          "name": "stdout",
          "text": [
            "E5 step 3200/3929 loss 0.7516 lr 1.24e-04 elapsed 779.9s\n"
          ]
        },
        {
          "output_type": "stream",
          "name": "stdout",
          "text": [
            "E5 step 3400/3929 loss 1.8410 lr 1.22e-04 elapsed 828.5s\n"
          ]
        },
        {
          "output_type": "stream",
          "name": "stdout",
          "text": [
            "E5 step 3600/3929 loss 0.6970 lr 1.20e-04 elapsed 877.2s\n"
          ]
        },
        {
          "output_type": "stream",
          "name": "stdout",
          "text": [
            "E5 step 3800/3929 loss 0.5076 lr 1.18e-04 elapsed 925.8s\n"
          ]
        },
        {
          "output_type": "stream",
          "name": "stdout",
          "text": [
            "  Val 200/492\n"
          ]
        },
        {
          "output_type": "stream",
          "name": "stdout",
          "text": [
            "  Val 400/492\n"
          ]
        },
        {
          "output_type": "stream",
          "name": "stdout",
          "text": [
            "End Epoch 5: loss 0.9634 val_acc 0.7921 epoch_time 1039.8s total 5206.6s\n"
          ]
        },
        {
          "output_type": "stream",
          "name": "stdout",
          "text": [
            "E6 step 200/3929 loss 0.6728 lr 1.16e-04 elapsed 49.3s\n"
          ]
        },
        {
          "output_type": "stream",
          "name": "stdout",
          "text": [
            "E6 step 400/3929 loss 0.6497 lr 1.14e-04 elapsed 97.7s\n"
          ]
        },
        {
          "output_type": "stream",
          "name": "stdout",
          "text": [
            "E6 step 600/3929 loss 0.5344 lr 1.12e-04 elapsed 146.1s\n"
          ]
        },
        {
          "output_type": "stream",
          "name": "stdout",
          "text": [
            "E6 step 800/3929 loss 0.5069 lr 1.10e-04 elapsed 195.6s\n"
          ]
        },
        {
          "output_type": "stream",
          "name": "stdout",
          "text": [
            "E6 step 1000/3929 loss 0.8330 lr 1.09e-04 elapsed 244.2s\n"
          ]
        },
        {
          "output_type": "stream",
          "name": "stdout",
          "text": [
            "E6 step 1200/3929 loss 0.5595 lr 1.07e-04 elapsed 292.8s\n"
          ]
        },
        {
          "output_type": "stream",
          "name": "stdout",
          "text": [
            "E6 step 1400/3929 loss 0.5497 lr 1.05e-04 elapsed 341.4s\n"
          ]
        },
        {
          "output_type": "stream",
          "name": "stdout",
          "text": [
            "E6 step 1600/3929 loss 0.8650 lr 1.03e-04 elapsed 390.2s\n"
          ]
        },
        {
          "output_type": "stream",
          "name": "stdout",
          "text": [
            "E6 step 1800/3929 loss 2.2782 lr 1.01e-04 elapsed 438.8s\n"
          ]
        },
        {
          "output_type": "stream",
          "name": "stdout",
          "text": [
            "E6 step 2000/3929 loss 0.9140 lr 9.97e-05 elapsed 487.4s\n"
          ]
        },
        {
          "output_type": "stream",
          "name": "stdout",
          "text": [
            "E6 step 2200/3929 loss 0.5108 lr 9.79e-05 elapsed 536.0s\n"
          ]
        },
        {
          "output_type": "stream",
          "name": "stdout",
          "text": [
            "E6 step 2400/3929 loss 0.6893 lr 9.61e-05 elapsed 584.7s\n"
          ]
        },
        {
          "output_type": "stream",
          "name": "stdout",
          "text": [
            "E6 step 2600/3929 loss 1.6031 lr 9.44e-05 elapsed 633.6s\n"
          ]
        },
        {
          "output_type": "stream",
          "name": "stdout",
          "text": [
            "E6 step 2800/3929 loss 0.5478 lr 9.26e-05 elapsed 682.5s\n"
          ]
        },
        {
          "output_type": "stream",
          "name": "stdout",
          "text": [
            "E6 step 3000/3929 loss 1.1626 lr 9.08e-05 elapsed 731.0s\n"
          ]
        },
        {
          "output_type": "stream",
          "name": "stdout",
          "text": [
            "E6 step 3200/3929 loss 0.5543 lr 8.90e-05 elapsed 779.6s\n"
          ]
        },
        {
          "output_type": "stream",
          "name": "stdout",
          "text": [
            "E6 step 3400/3929 loss 0.7424 lr 8.73e-05 elapsed 828.2s\n"
          ]
        },
        {
          "output_type": "stream",
          "name": "stdout",
          "text": [
            "E6 step 3600/3929 loss 0.5481 lr 8.55e-05 elapsed 876.9s\n"
          ]
        },
        {
          "output_type": "stream",
          "name": "stdout",
          "text": [
            "E6 step 3800/3929 loss 0.8036 lr 8.38e-05 elapsed 925.6s\n"
          ]
        },
        {
          "output_type": "stream",
          "name": "stdout",
          "text": [
            "  Val 200/492\n"
          ]
        },
        {
          "output_type": "stream",
          "name": "stdout",
          "text": [
            "  Val 400/492\n"
          ]
        },
        {
          "output_type": "stream",
          "name": "stdout",
          "text": [
            "End Epoch 6: loss 0.9050 val_acc 0.7738 epoch_time 1039.7s total 6246.3s\n"
          ]
        },
        {
          "output_type": "stream",
          "name": "stdout",
          "text": [
            "E7 step 200/3929 loss 0.5569 lr 8.09e-05 elapsed 50.0s\n"
          ]
        },
        {
          "output_type": "stream",
          "name": "stdout",
          "text": [
            "E7 step 400/3929 loss 0.6959 lr 7.91e-05 elapsed 98.7s\n"
          ]
        },
        {
          "output_type": "stream",
          "name": "stdout",
          "text": [
            "E7 step 600/3929 loss 0.5669 lr 7.74e-05 elapsed 147.6s\n"
          ]
        },
        {
          "output_type": "stream",
          "name": "stdout",
          "text": [
            "E7 step 800/3929 loss 0.5444 lr 7.57e-05 elapsed 196.1s\n"
          ]
        },
        {
          "output_type": "stream",
          "name": "stdout",
          "text": [
            "E7 step 1000/3929 loss 0.6381 lr 7.40e-05 elapsed 244.7s\n"
          ]
        },
        {
          "output_type": "stream",
          "name": "stdout",
          "text": [
            "E7 step 1200/3929 loss 0.5730 lr 7.23e-05 elapsed 293.3s\n"
          ]
        },
        {
          "output_type": "stream",
          "name": "stdout",
          "text": [
            "E7 step 1400/3929 loss 0.6227 lr 7.06e-05 elapsed 341.8s\n"
          ]
        },
        {
          "output_type": "stream",
          "name": "stdout",
          "text": [
            "E7 step 1600/3929 loss 0.5786 lr 6.89e-05 elapsed 390.4s\n"
          ]
        },
        {
          "output_type": "stream",
          "name": "stdout",
          "text": [
            "E7 step 1800/3929 loss 2.3408 lr 6.72e-05 elapsed 439.0s\n"
          ]
        },
        {
          "output_type": "stream",
          "name": "stdout",
          "text": [
            "E7 step 2000/3929 loss 0.5182 lr 6.55e-05 elapsed 487.5s\n"
          ]
        },
        {
          "output_type": "stream",
          "name": "stdout",
          "text": [
            "E7 step 2200/3929 loss 0.7576 lr 6.38e-05 elapsed 536.1s\n"
          ]
        },
        {
          "output_type": "stream",
          "name": "stdout",
          "text": [
            "E7 step 2400/3929 loss 0.6955 lr 6.22e-05 elapsed 585.9s\n"
          ]
        },
        {
          "output_type": "stream",
          "name": "stdout",
          "text": [
            "E7 step 2600/3929 loss 0.9353 lr 6.05e-05 elapsed 634.5s\n"
          ]
        },
        {
          "output_type": "stream",
          "name": "stdout",
          "text": [
            "E7 step 2800/3929 loss 0.4929 lr 5.89e-05 elapsed 683.2s\n"
          ]
        },
        {
          "output_type": "stream",
          "name": "stdout",
          "text": [
            "E7 step 3000/3929 loss 1.5176 lr 5.73e-05 elapsed 731.8s\n"
          ]
        },
        {
          "output_type": "stream",
          "name": "stdout",
          "text": [
            "E7 step 3200/3929 loss 2.1455 lr 5.57e-05 elapsed 780.6s\n"
          ]
        },
        {
          "output_type": "stream",
          "name": "stdout",
          "text": [
            "E7 step 3400/3929 loss 1.1483 lr 5.41e-05 elapsed 829.5s\n"
          ]
        },
        {
          "output_type": "stream",
          "name": "stdout",
          "text": [
            "E7 step 3600/3929 loss 0.6750 lr 5.26e-05 elapsed 878.2s\n"
          ]
        },
        {
          "output_type": "stream",
          "name": "stdout",
          "text": [
            "E7 step 3800/3929 loss 0.5332 lr 5.10e-05 elapsed 926.9s\n"
          ]
        },
        {
          "output_type": "stream",
          "name": "stdout",
          "text": [
            "  Val 200/492\n"
          ]
        },
        {
          "output_type": "stream",
          "name": "stdout",
          "text": [
            "  Val 400/492\n"
          ]
        },
        {
          "output_type": "stream",
          "name": "stdout",
          "text": [
            "End Epoch 7: loss 0.8800 val_acc 0.7709 epoch_time 1041.3s total 7287.6s\n"
          ]
        },
        {
          "output_type": "stream",
          "name": "stdout",
          "text": [
            "E8 step 200/3929 loss 1.2551 lr 4.85e-05 elapsed 49.6s\n"
          ]
        },
        {
          "output_type": "stream",
          "name": "stdout",
          "text": [
            "E8 step 400/3929 loss 2.4006 lr 4.70e-05 elapsed 98.3s\n"
          ]
        },
        {
          "output_type": "stream",
          "name": "stdout",
          "text": [
            "E8 step 600/3929 loss 0.5238 lr 4.55e-05 elapsed 147.1s\n"
          ]
        },
        {
          "output_type": "stream",
          "name": "stdout",
          "text": [
            "E8 step 800/3929 loss 0.5849 lr 4.40e-05 elapsed 195.5s\n"
          ]
        },
        {
          "output_type": "stream",
          "name": "stdout",
          "text": [
            "E8 step 1000/3929 loss 0.5100 lr 4.25e-05 elapsed 244.1s\n"
          ]
        },
        {
          "output_type": "stream",
          "name": "stdout",
          "text": [
            "E8 step 1200/3929 loss 0.5718 lr 4.11e-05 elapsed 292.7s\n"
          ]
        },
        {
          "output_type": "stream",
          "name": "stdout",
          "text": [
            "E8 step 1400/3929 loss 1.5574 lr 3.96e-05 elapsed 341.3s\n"
          ]
        },
        {
          "output_type": "stream",
          "name": "stdout",
          "text": [
            "E8 step 1600/3929 loss 1.0487 lr 3.82e-05 elapsed 390.1s\n"
          ]
        },
        {
          "output_type": "stream",
          "name": "stdout",
          "text": [
            "E8 step 1800/3929 loss 0.5840 lr 3.68e-05 elapsed 438.8s\n"
          ]
        },
        {
          "output_type": "stream",
          "name": "stdout",
          "text": [
            "E8 step 2000/3929 loss 2.4932 lr 3.55e-05 elapsed 487.4s\n"
          ]
        },
        {
          "output_type": "stream",
          "name": "stdout",
          "text": [
            "E8 step 2200/3929 loss 0.5189 lr 3.41e-05 elapsed 538.0s\n"
          ]
        },
        {
          "output_type": "stream",
          "name": "stdout",
          "text": [
            "E8 step 2400/3929 loss 0.5294 lr 3.28e-05 elapsed 586.6s\n"
          ]
        },
        {
          "output_type": "stream",
          "name": "stdout",
          "text": [
            "E8 step 2600/3929 loss 0.6492 lr 3.15e-05 elapsed 635.2s\n"
          ]
        },
        {
          "output_type": "stream",
          "name": "stdout",
          "text": [
            "E8 step 2800/3929 loss 1.1216 lr 3.02e-05 elapsed 683.9s\n"
          ]
        },
        {
          "output_type": "stream",
          "name": "stdout",
          "text": [
            "E8 step 3000/3929 loss 1.4164 lr 2.90e-05 elapsed 732.6s\n"
          ]
        },
        {
          "output_type": "stream",
          "name": "stdout",
          "text": [
            "E8 step 3200/3929 loss 0.5440 lr 2.77e-05 elapsed 781.4s\n"
          ]
        },
        {
          "output_type": "stream",
          "name": "stdout",
          "text": [
            "E8 step 3400/3929 loss 0.5231 lr 2.65e-05 elapsed 830.2s\n"
          ]
        },
        {
          "output_type": "stream",
          "name": "stdout",
          "text": [
            "E8 step 3600/3929 loss 0.5492 lr 2.53e-05 elapsed 879.0s\n"
          ]
        },
        {
          "output_type": "stream",
          "name": "stdout",
          "text": [
            "E8 step 3800/3929 loss 0.8666 lr 2.41e-05 elapsed 927.8s\n"
          ]
        },
        {
          "output_type": "stream",
          "name": "stdout",
          "text": [
            "  Val 200/492\n"
          ]
        },
        {
          "output_type": "stream",
          "name": "stdout",
          "text": [
            "  Val 400/492\n"
          ]
        },
        {
          "output_type": "stream",
          "name": "stdout",
          "text": [
            "End Epoch 8: loss 0.8459 val_acc 0.7677 epoch_time 1041.8s total 8329.4s\n"
          ]
        },
        {
          "output_type": "stream",
          "name": "stdout",
          "text": [
            "E9 step 200/3929 loss 73.5262 lr 2.23e-05 elapsed 49.7s\n"
          ]
        },
        {
          "output_type": "stream",
          "name": "stdout",
          "text": [
            "E9 step 400/3929 loss 74.5037 lr 2.12e-05 elapsed 98.3s\n"
          ]
        },
        {
          "output_type": "stream",
          "name": "stdout",
          "text": [
            "E9 step 600/3929 loss 70.7890 lr 2.01e-05 elapsed 147.2s\n"
          ]
        },
        {
          "output_type": "stream",
          "name": "stdout",
          "text": [
            "E9 step 800/3929 loss 74.8186 lr 1.90e-05 elapsed 196.0s\n"
          ]
        },
        {
          "output_type": "stream",
          "name": "stdout",
          "text": [
            "E9 step 1000/3929 loss 72.3607 lr 1.80e-05 elapsed 244.7s\n"
          ]
        },
        {
          "output_type": "stream",
          "name": "stdout",
          "text": [
            "E9 step 1200/3929 loss 72.4631 lr 1.70e-05 elapsed 294.3s\n"
          ]
        },
        {
          "output_type": "stream",
          "name": "stdout",
          "text": [
            "E9 step 1400/3929 loss 74.7170 lr 1.60e-05 elapsed 342.9s\n"
          ]
        },
        {
          "output_type": "stream",
          "name": "stdout",
          "text": [
            "E9 step 1600/3929 loss 72.2657 lr 1.51e-05 elapsed 391.4s\n"
          ]
        },
        {
          "output_type": "stream",
          "name": "stdout",
          "text": [
            "E9 step 1800/3929 loss 74.0691 lr 1.41e-05 elapsed 439.9s\n"
          ]
        },
        {
          "output_type": "stream",
          "name": "stdout",
          "text": [
            "E9 step 2000/3929 loss 66.6468 lr 1.32e-05 elapsed 488.5s\n"
          ]
        },
        {
          "output_type": "stream",
          "name": "stdout",
          "text": [
            "E9 step 2200/3929 loss 75.2511 lr 1.24e-05 elapsed 537.2s\n"
          ]
        },
        {
          "output_type": "stream",
          "name": "stdout",
          "text": [
            "E9 step 2400/3929 loss 74.6766 lr 1.15e-05 elapsed 585.6s\n"
          ]
        },
        {
          "output_type": "stream",
          "name": "stdout",
          "text": [
            "E9 step 2600/3929 loss 75.1042 lr 1.07e-05 elapsed 634.3s\n"
          ]
        },
        {
          "output_type": "stream",
          "name": "stdout",
          "text": [
            "E9 step 2800/3929 loss 68.3745 lr 9.93e-06 elapsed 683.0s\n"
          ]
        },
        {
          "output_type": "stream",
          "name": "stdout",
          "text": [
            "E9 step 3000/3929 loss 70.2438 lr 9.17e-06 elapsed 731.6s\n"
          ]
        },
        {
          "output_type": "stream",
          "name": "stdout",
          "text": [
            "E9 step 3200/3929 loss 76.0200 lr 8.44e-06 elapsed 780.2s\n"
          ]
        },
        {
          "output_type": "stream",
          "name": "stdout",
          "text": [
            "E9 step 3400/3929 loss 70.5860 lr 7.74e-06 elapsed 828.8s\n"
          ]
        },
        {
          "output_type": "stream",
          "name": "stdout",
          "text": [
            "E9 step 3600/3929 loss 74.7692 lr 7.07e-06 elapsed 877.4s\n"
          ]
        },
        {
          "output_type": "stream",
          "name": "stdout",
          "text": [
            "E9 step 3800/3929 loss 66.4247 lr 6.43e-06 elapsed 926.0s\n"
          ]
        },
        {
          "output_type": "stream",
          "name": "stdout",
          "text": [
            "  Val 200/492\n"
          ]
        },
        {
          "output_type": "stream",
          "name": "stdout",
          "text": [
            "  Val 400/492\n"
          ]
        },
        {
          "output_type": "stream",
          "name": "stdout",
          "text": [
            "End Epoch 9: loss 72.9568 val_acc 0.7732 epoch_time 1040.0s total 9369.4s\n"
          ]
        },
        {
          "output_type": "stream",
          "name": "stdout",
          "text": [
            "E10 step 200/3929 loss 72.3507 lr 5.44e-06 elapsed 49.9s\n"
          ]
        },
        {
          "output_type": "stream",
          "name": "stdout",
          "text": [
            "E10 step 400/3929 loss 71.9301 lr 4.87e-06 elapsed 98.6s\n"
          ]
        },
        {
          "output_type": "stream",
          "name": "stdout",
          "text": [
            "E10 step 600/3929 loss 74.4560 lr 4.34e-06 elapsed 147.4s\n"
          ]
        },
        {
          "output_type": "stream",
          "name": "stdout",
          "text": [
            "E10 step 800/3929 loss 74.0553 lr 3.84e-06 elapsed 196.2s\n"
          ]
        },
        {
          "output_type": "stream",
          "name": "stdout",
          "text": [
            "E10 step 1000/3929 loss 73.5737 lr 3.37e-06 elapsed 244.9s\n"
          ]
        },
        {
          "output_type": "stream",
          "name": "stdout",
          "text": [
            "E10 step 1200/3929 loss 70.8201 lr 2.92e-06 elapsed 293.6s\n"
          ]
        },
        {
          "output_type": "stream",
          "name": "stdout",
          "text": [
            "E10 step 1400/3929 loss 77.6468 lr 2.51e-06 elapsed 342.4s\n"
          ]
        },
        {
          "output_type": "stream",
          "name": "stdout",
          "text": [
            "E10 step 1600/3929 loss 75.7282 lr 2.13e-06 elapsed 391.2s\n"
          ]
        },
        {
          "output_type": "stream",
          "name": "stdout",
          "text": [
            "E10 step 1800/3929 loss 75.9268 lr 1.78e-06 elapsed 439.9s\n"
          ]
        },
        {
          "output_type": "stream",
          "name": "stdout",
          "text": [
            "E10 step 2000/3929 loss 73.6631 lr 1.46e-06 elapsed 488.7s\n"
          ]
        },
        {
          "output_type": "stream",
          "name": "stdout",
          "text": [
            "E10 step 2200/3929 loss 74.9681 lr 1.18e-06 elapsed 537.4s\n"
          ]
        },
        {
          "output_type": "stream",
          "name": "stdout",
          "text": [
            "E10 step 2400/3929 loss 71.7824 lr 9.21e-07 elapsed 586.2s\n"
          ]
        },
        {
          "output_type": "stream",
          "name": "stdout",
          "text": [
            "E10 step 2600/3929 loss 72.3478 lr 6.96e-07 elapsed 635.1s\n"
          ]
        },
        {
          "output_type": "stream",
          "name": "stdout",
          "text": [
            "E10 step 2800/3929 loss 75.8511 lr 5.03e-07 elapsed 683.9s\n"
          ]
        },
        {
          "output_type": "stream",
          "name": "stdout",
          "text": [
            "E10 step 3000/3929 loss 64.7747 lr 3.40e-07 elapsed 732.6s\n"
          ]
        },
        {
          "output_type": "stream",
          "name": "stdout",
          "text": [
            "E10 step 3200/3929 loss 77.5507 lr 2.10e-07 elapsed 783.4s\n"
          ]
        },
        {
          "output_type": "stream",
          "name": "stdout",
          "text": [
            "E10 step 3400/3929 loss 70.1840 lr 1.10e-07 elapsed 832.3s\n"
          ]
        },
        {
          "output_type": "stream",
          "name": "stdout",
          "text": [
            "E10 step 3600/3929 loss 69.7208 lr 4.27e-08 elapsed 881.1s\n"
          ]
        },
        {
          "output_type": "stream",
          "name": "stdout",
          "text": [
            "E10 step 3800/3929 loss 74.9576 lr 6.57e-09 elapsed 929.8s\n"
          ]
        },
        {
          "output_type": "stream",
          "name": "stdout",
          "text": [
            "  Val 200/492\n"
          ]
        },
        {
          "output_type": "stream",
          "name": "stdout",
          "text": [
            "  Val 400/492\n"
          ]
        },
        {
          "output_type": "stream",
          "name": "stdout",
          "text": [
            "End Epoch 10: loss 72.6168 val_acc 0.7698 epoch_time 1041.2s total 10410.6s\n"
          ]
        },
        {
          "output_type": "stream",
          "name": "stdout",
          "text": [
            "Training done. Best acc: 0.8400763358778626 ckpt: ckpt_best_tf_efficientnet_b4_ns_ema_fold0_seed42.pt\n"
          ]
        }
      ]
    },
    {
      "id": "a0bd1643-b816-4ce2-8448-57dc220e9820",
      "cell_type": "code",
      "metadata": {},
      "source": [
        "# Inference: 8-view TTA (full+hflip + top-2 MD crops+hflips), logit-average, sequence smoothing\n",
        "import os, json, time, math, random\n",
        "from pathlib import Path\n",
        "import numpy as np\n",
        "import pandas as pd\n",
        "import cv2\n",
        "import torch\n",
        "import timm\n",
        "\n",
        "cv2.setNumThreads(0)\n",
        "os.environ['OMP_NUM_THREADS'] = '1'\n",
        "torch.backends.cuda.matmul.allow_tf32 = True\n",
        "torch.backends.cudnn.allow_tf32 = True\n",
        "\n",
        "device = torch.device('cuda' if torch.cuda.is_available() else 'cpu')\n",
        "img_size = 384\n",
        "model_name = 'tf_efficientnet_b4_ns'\n",
        "\n",
        "# Load mappings and test info\n",
        "maps = json.loads(Path('label_mapping.json').read_text())\n",
        "idx_to_cat_id = {int(k):int(v) for k,v in maps['idx_to_cat_id'].items()}\n",
        "num_classes = len(idx_to_cat_id)\n",
        "test_json = json.loads(Path('iwildcam2020_test_information.json').read_text())\n",
        "test_images = test_json['images']\n",
        "id2fname = {im['id']: im['file_name'] for im in test_images}\n",
        "id2seq = {im['id']: im.get('seq_id') for im in test_images}\n",
        "ss = pd.read_csv('sample_submission.csv')  # defines order and Id list\n",
        "\n",
        "# MegaDetector filename map\n",
        "md_fname_map = json.loads(Path('megadetector_map.json').read_text()) if Path('megadetector_map.json').exists() else {}\n",
        "\n",
        "def read_rgb(path):\n",
        "    img = cv2.imread(str(path))\n",
        "    if img is None:\n",
        "        img = cv2.imdecode(np.fromfile(str(path), dtype=np.uint8), cv2.IMREAD_COLOR)\n",
        "    if img is None:\n",
        "        # fallback blank to avoid crash\n",
        "        return np.zeros((img_size, img_size, 3), dtype=np.uint8)\n",
        "    img = cv2.cvtColor(img, cv2.COLOR_BGR2RGB)\n",
        "    return img\n",
        "\n",
        "def iou_xywh(a, b):\n",
        "    ax, ay, aw, ah = a; bx, by, bw, bh = b\n",
        "    ax0, ay0, ax1, ay1 = ax, ay, ax+aw, ay+ah\n",
        "    bx0, by0, bx1, by1 = bx, by, bx+bw, by+bh\n",
        "    ix0, iy0 = max(ax0, bx0), max(ay0, by0)\n",
        "    ix1, iy1 = min(ax1, bx1), min(ay1, by1)\n",
        "    iw, ih = max(0.0, ix1-ix0), max(0.0, iy1-iy0)\n",
        "    inter = iw*ih\n",
        "    ua = aw*ah + bw*bh - inter + 1e-9\n",
        "    return inter/ua\n",
        "\n",
        "def md_top2(file_name, conf_th=0.3, min_area=0.03, iou_th=0.7):\n",
        "    dets = [d for d in md_fname_map.get(file_name, []) if d.get('conf',0.0) >= conf_th]\n",
        "    if not dets:\n",
        "        return []\n",
        "    dets.sort(key=lambda d: max(0.0,d['bbox'][2])*max(0.0,d['bbox'][3]), reverse=True)\n",
        "    top = []\n",
        "    for d in dets:\n",
        "        if max(0.0,d['bbox'][2])*max(0.0,d['bbox'][3]) < min_area:\n",
        "            continue\n",
        "        ok = True\n",
        "        for e in top:\n",
        "            if iou_xywh(d['bbox'], e['bbox']) >= iou_th:\n",
        "                ok = False; break\n",
        "        if ok:\n",
        "            top.append(d)\n",
        "        if len(top) >= 2:\n",
        "            break\n",
        "    return top\n",
        "\n",
        "def md_square_crop(img, bbox, pad=0.20):\n",
        "    H, W = img.shape[:2]\n",
        "    x,y,w,h = bbox\n",
        "    side = max(w,h)*(1.0+pad)\n",
        "    cx = x + w/2.0; cy = y + h/2.0\n",
        "    x0 = max(0.0, cx - side/2.0); y0 = max(0.0, cy - side/2.0)\n",
        "    x1 = min(1.0, cx + side/2.0); y1 = min(1.0, cy + side/2.0)\n",
        "    X0 = int(round(x0*W)); Y0 = int(round(y0*H)); X1 = int(round(x1*W)); Y1 = int(round(y1*H))\n",
        "    if X1<=X0 or Y1<=Y0:\n",
        "        return img\n",
        "    return img[Y0:Y1, X0:X1, :]\n",
        "\n",
        "def preprocess(img):\n",
        "    img = cv2.resize(img, (img_size, img_size), interpolation=cv2.INTER_AREA)\n",
        "    img = img.astype(np.float32) / 255.0\n",
        "    mean = np.array([0.485, 0.456, 0.406], dtype=np.float32)\n",
        "    std = np.array([0.229, 0.224, 0.225], dtype=np.float32)\n",
        "    img = (img - mean) / std\n",
        "    img = np.transpose(img, (2,0,1))\n",
        "    return torch.from_numpy(img)\n",
        "\n",
        "# Load best checkpoint (EMA-trained) if present; fallback to smoke\n",
        "cand = sorted([*Path('.').glob('ckpt_best_*_ema_fold0_seed*.pt'), *Path('.').glob('ckpt_best_*_ema_fold0.pt'), *Path('.').glob('ckpt_smoke_*_fold0.pt')], key=lambda p: p.stat().st_mtime)\n",
        "assert len(cand)>0, 'No checkpoint found'\n",
        "ckpt_path = cand[-1]\n",
        "print('Loading checkpoint:', ckpt_path)\n",
        "model = timm.create_model(model_name, pretrained=False, num_classes=num_classes)\n",
        "state = torch.load(ckpt_path, map_location='cpu')\n",
        "model.load_state_dict(state['model'], strict=False)\n",
        "model = model.to(device).to(memory_format=torch.channels_last).eval()\n",
        "\n",
        "# Inference loop: collect per-image logits, then sequence-average logits\n",
        "all_logits = []\n",
        "seq_ids = []\n",
        "t0 = time.time()\n",
        "with torch.no_grad():\n",
        "    for i, id_ in enumerate(ss['Id'].tolist()):\n",
        "        fname = id2fname[id_]\n",
        "        seq_ids.append(id2seq.get(id_))\n",
        "        path = Path('test') / fname\n",
        "        img = read_rgb(path)\n",
        "        views = []\n",
        "        # full + hflip\n",
        "        full = img\n",
        "        views.append(preprocess(full))\n",
        "        views.append(preprocess(full[:, ::-1, :].copy()))\n",
        "        # top-2 MD crops + hflips\n",
        "        tops = md_top2(fname, conf_th=0.3, min_area=0.03, iou_th=0.7)\n",
        "        for d in tops:\n",
        "            crop = md_square_crop(img, d['bbox'], pad=0.20)\n",
        "            views.append(preprocess(crop))\n",
        "            views.append(preprocess(crop[:, ::-1, :].copy()))\n",
        "        batch = torch.stack(views).to(device).to(memory_format=torch.channels_last)\n",
        "        with torch.amp.autocast('cuda', enabled=True):\n",
        "            logits = model(batch)\n",
        "        # logit-average across views\n",
        "        logits_mean = logits.mean(dim=0).float().cpu()\n",
        "        all_logits.append(logits_mean.numpy())\n",
        "        if (i+1) % 500 == 0:\n",
        "            elapsed = time.time() - t0\n",
        "            print(f'Processed {i+1}/{len(ss)} images, elapsed {elapsed/60:.1f} min', flush=True)\n",
        "\n",
        "all_logits = np.stack(all_logits, axis=0)  # [N, C]\n",
        "seq_ids = np.array(seq_ids)\n",
        "\n",
        "# Sequence smoothing: average logits per seq_id\n",
        "uniq_seqs = pd.factorize(seq_ids, sort=False)[0]\n",
        "df_logits = pd.DataFrame(all_logits)\n",
        "df_logits['seq_idx'] = uniq_seqs\n",
        "seq_mean = df_logits.groupby('seq_idx').mean()  # averages logits per sequence\n",
        "smoothed = seq_mean.loc[df_logits['seq_idx']].to_numpy()\n",
        "\n",
        "pred_idx = smoothed.argmax(axis=1).astype(int)\n",
        "pred_cat = [idx_to_cat_id[int(i)] for i in pred_idx]\n",
        "sub = pd.DataFrame({'Id': ss['Id'], 'Category': pred_cat})\n",
        "sub.to_csv('submission.csv', index=False)\n",
        "print('Saved submission.csv with shape', sub.shape)\n",
        "print(sub.head())"
      ],
      "execution_count": null,
      "outputs": [
        {
          "output_type": "stream",
          "name": "stdout",
          "text": [
            "Loading checkpoint: ckpt_best_tf_efficientnet_b4_ns_ema_fold0_seed42.pt\n"
          ]
        },
        {
          "output_type": "stream",
          "name": "stderr",
          "text": [
            "/app/.pip-target/timm/models/_factory.py:117: UserWarning: Mapping deprecated model name tf_efficientnet_b4_ns to current tf_efficientnet_b4.ns_jft_in1k.\n  model = create_fn(\n/tmp/ipykernel_196/4075396547.py:99: FutureWarning: You are using `torch.load` with `weights_only=False` (the current default value), which uses the default pickle module implicitly. It is possible to construct malicious pickle data which will execute arbitrary code during unpickling (See https://github.com/pytorch/pytorch/blob/main/SECURITY.md#untrusted-models for more details). In a future release, the default value for `weights_only` will be flipped to `True`. This limits the functions that could be executed during unpickling. Arbitrary objects will no longer be allowed to be loaded via this mode unless they are explicitly allowlisted by the user via `torch.serialization.add_safe_globals`. We recommend you start setting `weights_only=True` for any use case where you don't have full control of the loaded file. Please open an issue on GitHub for any issues related to this experimental feature.\n  state = torch.load(ckpt_path, map_location='cpu')\n"
          ]
        }
      ]
    }
  ],
  "metadata": {
    "kernelspec": {
      "display_name": "Python 3",
      "language": "python",
      "name": "python3"
    },
    "language_info": {
      "name": "python",
      "version": "3.11.0rc1"
    }
  },
  "nbformat": 4,
  "nbformat_minor": 5
}