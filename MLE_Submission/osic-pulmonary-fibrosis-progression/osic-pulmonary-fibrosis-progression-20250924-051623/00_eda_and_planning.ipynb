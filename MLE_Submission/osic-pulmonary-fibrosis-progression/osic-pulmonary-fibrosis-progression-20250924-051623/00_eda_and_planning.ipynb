{
  "cells": [
    {
      "id": "db6c0185-6632-40c2-aa46-e1365bc733c3",
      "cell_type": "markdown",
      "metadata": {},
      "source": [
        "# OSIC Pulmonary Fibrosis Progression - Plan\n",
        "\n",
        "Goal: Win a medal (modified-laplace-log-likelihood as metric). Ship a strong baseline fast, lock CV, iterate with FE and robust modeling, then blend if time permits.\n",
        "\n",
        "Plan:\n",
        "- Environment checks: verify GPU availability (nvidia-smi), Python/package versions.\n",
        "- Data audit: load train/test, inspect schema, target distribution, missingness, ID/time columns.\n",
        "- Validation design:\n",
        "  - Mirror test conditions; likely GroupKFold by patient (if patient column exists) or temporal split by Week if available.\n",
        "  - Single deterministic folds saved to disk; evaluate with custom metric.\n",
        "- Baseline models:\n",
        "  - Fast baseline: Light tabular model (XGBoost/CatBoost with GPU if beneficial).\n",
        "  - Features: numeric and categorical encoders; simple aggregates per patient/week if applicable.\n",
        "- Metric implementation: implement modified-laplace-log-likelihood (per competition), validate vs trivial baselines.\n",
        "- Iteration:\n",
        "  - FE v1: core tabular features + patient aggregates; OOF tracking and logging.\n",
        "  - FE v2: interactions, time deltas, trend features (per patient slopes).\n",
        "  - Model tuning: limited HPO with early stopping; multiple seeds.\n",
        "  - Ensembling: blend diverse models if CV shows complementary errors.\n",
        "- Deliverables: submission.csv with correct format; verify shape and header.\n",
        "\n",
        "Questions for Experts (next step):\n",
        "- What CV protocol best mirrors leaderboard for this dataset? GroupKFold by patient? Number of folds?\n",
        "- High-signal features others used (e.g., baseline FVC, week deltas, age/sex/smoking interaction)?\n",
        "- Typical winning model choices and target transform tips?\n",
        "\n",
        "Next: Run env check and quick EDA."
      ],
      "execution_count": null,
      "outputs": []
    },
    {
      "id": "e65f4c69-09b8-4f71-84d3-c82bf958f55d",
      "cell_type": "code",
      "metadata": {},
      "source": [
        "import os, sys, time, json, textwrap, subprocess as sp\n",
        "import pandas as pd\n",
        "import numpy as np\n",
        "\n",
        "def sh(cmd):\n",
        "    print(f\"$ {cmd}\", flush=True)\n",
        "    return sp.run(cmd, shell=True, check=False)\n",
        "\n",
        "t0 = time.time()\n",
        "print(\"Env check: nvidia-smi\")\n",
        "sh(\"nvidia-smi || true\")\n",
        "print(\"Python:\", sys.version)\n",
        "\n",
        "train_path = 'train.csv'\n",
        "test_path = 'test.csv'\n",
        "ss_path = 'sample_submission.csv'\n",
        "\n",
        "print(\"\\nLoading CSVs ...\", flush=True)\n",
        "train = pd.read_csv(train_path)\n",
        "test = pd.read_csv(test_path)\n",
        "ss = pd.read_csv(ss_path)\n",
        "\n",
        "print(\"\\nTrain shape:\", train.shape)\n",
        "print(\"Train columns:\", list(train.columns))\n",
        "print(train.head(3))\n",
        "\n",
        "print(\"\\nTest shape:\", test.shape)\n",
        "print(\"Test columns:\", list(test.columns))\n",
        "print(test.head(3))\n",
        "\n",
        "print(\"\\nSample submission shape:\", ss.shape)\n",
        "print(\"Sample submission columns:\", list(ss.columns))\n",
        "print(ss.head(3))\n",
        "\n",
        "# Try to infer key columns\n",
        "cols = set(train.columns)\n",
        "candidate_id_cols = [c for c in ['Patient','patient','id'] if c in cols]\n",
        "candidate_week_cols = [c for c in ['Weeks','Week','weeks'] if c in cols]\n",
        "target_cols = [c for c in ['FVC','target'] if c in cols]\n",
        "demo_cols = [c for c in ['Age','Sex','SmokingStatus','Percent'] if c in cols]\n",
        "print(\"\\nDetected:\")\n",
        "print(\"  ID cols:\", candidate_id_cols)\n",
        "print(\"  Week cols:\", candidate_week_cols)\n",
        "print(\"  Target cols:\", target_cols)\n",
        "print(\"  Demographic cols:\", [c for c in demo_cols if c in cols])\n",
        "\n",
        "if target_cols:\n",
        "    tcol = target_cols[0]\n",
        "    print(f\"\\nTarget `{tcol}` describe:\")\n",
        "    print(train[tcol].describe())\n",
        "\n",
        "# Patient stats\n",
        "pid_col = None\n",
        "for c in ['Patient','patient','id']:\n",
        "    if c in train.columns:\n",
        "        pid_col = c; break\n",
        "if pid_col:\n",
        "    n_pat = train[pid_col].nunique()\n",
        "    print(f\"\\nPatients in train: {n_pat}\")\n",
        "    cnts = train[pid_col].value_counts()\n",
        "    print(\"Per-patient visit count (5-number summary):\", cnts.describe()[['min','25%','50%','75%','max']].to_dict())\n",
        "\n",
        "# Submission format inference\n",
        "need_sigma = False\n",
        "if {'FVC','Confidence'}.issubset(set(ss.columns)):\n",
        "    need_sigma = True\n",
        "elif len(ss.columns) == 2 and {'Patient_Week'}.issubset(set(ss.columns)):\n",
        "    # Often original format: Patient_Week, FVC\n",
        "    need_sigma = 'Confidence' in ss.columns\n",
        "print(\"\\nSubmission seems to require sigma (Confidence):\", need_sigma)\n",
        "\n",
        "print(f\"\\nDone. Elapsed: {time.time()-t0:.2f}s\", flush=True)"
      ],
      "execution_count": 1,
      "outputs": [
        {
          "output_type": "stream",
          "name": "stdout",
          "text": [
            "Env check: nvidia-smi\n$ nvidia-smi || true\n"
          ]
        },
        {
          "output_type": "stream",
          "name": "stdout",
          "text": [
            "Wed Sep 24 05:29:54 2025       \n+-----------------------------------------------------------------------------------------+\n| NVIDIA-SMI 550.144.06             Driver Version: 550.144.06     CUDA Version: 12.4     |\n|-----------------------------------------+------------------------+----------------------+\n| GPU  Name                 Persistence-M | Bus-Id          Disp.A | Volatile Uncorr. ECC |\n| Fan  Temp   Perf          Pwr:Usage/Cap |           Memory-Usage | GPU-Util  Compute M. |\n|                                         |                        |               MIG M. |\n|=========================================+========================+======================|\n|   0  NVIDIA A10-24Q                 On  |   00000002:00:00.0 Off |                    0 |\n| N/A   N/A    P0             N/A /  N/A  |     182MiB /  24512MiB |      0%      Default |\n|                                         |                        |                  N/A |\n+-----------------------------------------+------------------------+----------------------+\n                                                                                         \n+-----------------------------------------------------------------------------------------+\n| Processes:                                                                              |\n|  GPU   GI   CI        PID   Type   Process name                              GPU Memory |\n|        ID   ID                                                               Usage      |\n|=========================================================================================|\n+-----------------------------------------------------------------------------------------+\nPython: 3.11.0rc1 (main, Aug 12 2022, 10:02:14) [GCC 11.2.0]\n\nLoading CSVs ...\n"
          ]
        },
        {
          "output_type": "stream",
          "name": "stdout",
          "text": [
            "\nTrain shape: (1394, 7)\nTrain columns: ['Patient', 'Weeks', 'FVC', 'Percent', 'Age', 'Sex', 'SmokingStatus']\n                     Patient  Weeks   FVC    Percent  Age   Sex SmokingStatus\n0  ID00133637202223847701934     -2  3195  92.856312   83  Male  Never smoked\n1  ID00133637202223847701934      2  3203  93.088817   83  Male  Never smoked\n2  ID00133637202223847701934      4  3097  90.008138   83  Male  Never smoked\n\nTest shape: (18, 7)\nTest columns: ['Patient', 'Weeks', 'FVC', 'Percent', 'Age', 'Sex', 'SmokingStatus']\n                     Patient  Weeks   FVC    Percent  Age     Sex  \\\n0  ID00014637202177757139317      0  3807  90.076661   56    Male   \n1  ID00019637202178323708467     13  2100  92.858722   83  Female   \n2  ID00047637202184938901501      2  3313  89.929425   68    Male   \n\n  SmokingStatus  \n0     Ex-smoker  \n1     Ex-smoker  \n2     Ex-smoker  \n\nSample submission shape: (1908, 3)\nSample submission columns: ['Patient_Week', 'FVC', 'Confidence']\n                   Patient_Week   FVC  Confidence\n0  ID00126637202218610655908_-3  2000         100\n1  ID00126637202218610655908_-2  2000         100\n2  ID00126637202218610655908_-1  2000         100\n\nDetected:\n  ID cols: ['Patient']\n  Week cols: ['Weeks']\n  Target cols: ['FVC']\n  Demographic cols: ['Age', 'Sex', 'SmokingStatus', 'Percent']\n\nTarget `FVC` describe:\ncount    1394.000000\nmean     2666.939742\nstd       801.859900\nmin       837.000000\n25%      2105.750000\n50%      2607.000000\n75%      3117.250000\nmax      5045.000000\nName: FVC, dtype: float64\n\nPatients in train: 158\nPer-patient visit count (5-number summary): {'min': 6.0, '25%': 9.0, '50%': 9.0, '75%': 9.0, 'max': 10.0}\n\nSubmission seems to require sigma (Confidence): True\n\nDone. Elapsed: 0.03s\n"
          ]
        }
      ]
    },
    {
      "id": "7d6f00a3-cd94-4360-8b91-b3d29da1f470",
      "cell_type": "code",
      "metadata": {},
      "source": [
        "import numpy as np, pandas as pd, os, pickle, time\n",
        "from sklearn.model_selection import GroupKFold\n",
        "\n",
        "# Reuse loaded train/test from previous cell if present; else load\n",
        "if 'train' not in globals():\n",
        "    train = pd.read_csv('train.csv')\n",
        "if 'test' not in globals():\n",
        "    test = pd.read_csv('test.csv')\n",
        "\n",
        "PID = 'Patient'\n",
        "WEEK = 'Weeks'\n",
        "TARGET = 'FVC'\n",
        "\n",
        "# Build and persist 5-fold GroupKFold by Patient\n",
        "def make_group_folds(df, group_col=PID, n_splits=5, seed=42):\n",
        "    gkf = GroupKFold(n_splits=n_splits)\n",
        "    groups = df[group_col].values\n",
        "    folds = []\n",
        "    for fold, (tr_idx, va_idx) in enumerate(gkf.split(df, groups=groups)):\n",
        "        folds.append((tr_idx, va_idx))\n",
        "    return folds\n",
        "\n",
        "folds_path = 'folds_groupk_patient.pkl'\n",
        "if not os.path.exists(folds_path):\n",
        "    folds = make_group_folds(train, PID, n_splits=5)\n",
        "    with open(folds_path, 'wb') as f:\n",
        "        pickle.dump(folds, f)\n",
        "    print(f\"Saved folds to {folds_path}\")\n",
        "else:\n",
        "    with open(folds_path, 'rb') as f:\n",
        "        folds = pickle.load(f)\n",
        "    print(f\"Loaded folds from {folds_path}\")\n",
        "print('Fold sizes (val counts):', [len(v) for _, v in folds])\n",
        "\n",
        "# Modified Laplace Log Likelihood (per OSIC)\n",
        "def laplace_log_likelihood(y_true, mu, sigma, sigma_floor=70.0, error_clip=1000.0):\n",
        "    y_true = np.asarray(y_true, dtype=float)\n",
        "    mu = np.asarray(mu, dtype=float)\n",
        "    sigma = np.asarray(sigma, dtype=float)\n",
        "    if sigma_floor is not None:\n",
        "        sigma = np.maximum(sigma, float(sigma_floor))\n",
        "    d = np.abs(y_true - mu)\n",
        "    if error_clip is not None:\n",
        "        d = np.minimum(d, float(error_clip))\n",
        "    # row score: -log(2*sigma) - sqrt(2)*d/sigma\n",
        "    row = -np.log(2.0 * sigma) - np.sqrt(2.0) * d / sigma\n",
        "    return float(np.mean(row))\n",
        "\n",
        "# Sanity check: trivial baseline\n",
        "t0 = time.time()\n",
        "global_mu = train[TARGET].median()\n",
        "global_sigma = 70.0\n",
        "\n",
        "oof_pred = np.full(len(train), global_mu, dtype=float)\n",
        "oof_sigma = np.full(len(train), global_sigma, dtype=float)\n",
        "\n",
        "score = laplace_log_likelihood(train[TARGET].values, oof_pred, oof_sigma)\n",
        "print(f\"Trivial constant baseline OOF (5xGroupK, constant across folds) Laplace LL: {score:.5f}\")\n",
        "print(f\"Done metric+folds setup in {time.time()-t0:.2f}s\")"
      ],
      "execution_count": 2,
      "outputs": [
        {
          "output_type": "stream",
          "name": "stdout",
          "text": [
            "Saved folds to folds_groupk_patient.pkl\nFold sizes (val counts): [282, 281, 275, 275, 281]\nTrivial constant baseline OOF (5xGroupK, constant across folds) Laplace LL: -16.00958\nDone metric+folds setup in 0.00s\n"
          ]
        }
      ]
    },
    {
      "id": "67efe8da-50b6-4743-a9f2-d848410671ca",
      "cell_type": "code",
      "metadata": {},
      "source": [
        "import time, gc, sys, subprocess as sp\n",
        "import numpy as np, pandas as pd, pickle, os\n",
        "from sklearn.model_selection import GroupKFold\n",
        "\n",
        "# Ensure catboost is installed\n",
        "try:\n",
        "    import catboost as cb\n",
        "except Exception as e:\n",
        "    print('Installing catboost...', flush=True)\n",
        "    sp.run([sys.executable, '-m', 'pip', 'install', 'catboost==1.2.5'], check=True)\n",
        "    import catboost as cb\n",
        "\n",
        "PID, WEEK, TARGET = 'Patient','Weeks','FVC'\n",
        "CAT_COLS = ['Sex','SmokingStatus']\n",
        "NUM_COLS = ['Percent','Age']\n",
        "\n",
        "if 'train' not in globals():\n",
        "    train = pd.read_csv('train.csv')\n",
        "if 'test' not in globals():\n",
        "    test = pd.read_csv('test.csv')\n",
        "with open('folds_groupk_patient.pkl','rb') as f:\n",
        "    folds = pickle.load(f)\n",
        "\n",
        "# Build features per-subset (leak-safe and avoids NaNs in val) with quick wins\n",
        "def build_features_subset(df):\n",
        "    # baseline and deltas\n",
        "    basew = df.groupby(PID)[WEEK].transform('min')\n",
        "    weeks_since = df[WEEK].values - basew.values\n",
        "    abs_wsb = np.abs(weeks_since)\n",
        "    # visit indices within subset\n",
        "    visit_index = df.groupby(PID)[WEEK].rank(method='first', ascending=True).astype(int).values\n",
        "    visits_count = df.groupby(PID)[WEEK].transform('count').values\n",
        "    visits_remaining = (visits_count - visit_index).astype(int)\n",
        "    # per-patient mean Percent within subset\n",
        "    mean_percent = df.groupby(PID)['Percent'].transform('mean').values\n",
        "    # sex numeric for interaction\n",
        "    sex_num = (df['Sex'].values == 'Male').astype(int)\n",
        "    feats = pd.DataFrame({\n",
        "        'baseline_week': basew.values,\n",
        "        'weeks_since_baseline': weeks_since,\n",
        "        'wsb_sq': weeks_since**2,\n",
        "        'abs_wsb': abs_wsb,\n",
        "        'log_abs_wsb': np.log1p(abs_wsb),\n",
        "        'visit_index': visit_index,\n",
        "        'visits_remaining': visits_remaining,\n",
        "        'mean_percent': mean_percent,\n",
        "        'wsb_x_percent': weeks_since * df['Percent'].values,\n",
        "        'age_x_sex': df['Age'].values * sex_num,\n",
        "        'percent_x_age': df['Percent'].values * df['Age'].values,\n",
        "        'sex_num': sex_num,\n",
        "    })\n",
        "    return feats\n",
        "\n",
        "def cat_features_indices(df, cat_cols):\n",
        "    return [df.columns.get_loc(c) for c in cat_cols if c in df.columns]\n",
        "\n",
        "def last_k_mask(df_fold, pid_col=PID, week_col=WEEK, k=2):\n",
        "    ord_idx = df_fold[[pid_col, week_col]].reset_index().sort_values([pid_col, week_col])\n",
        "    ord_idx['rnk'] = ord_idx.groupby(pid_col)[week_col].rank(method='first', ascending=False)\n",
        "    take_idx = set(ord_idx.loc[ord_idx['rnk'] <= k, 'index'].tolist())\n",
        "    mask = df_fold.index.to_series().isin(take_idx).values\n",
        "    return mask\n",
        "\n",
        "def train_mu_sigma_oof(train, folds, params_mu=None, params_sigma=None, sigma_floor=70.0,\n",
        "                       scale_grid=(0.8,1.0,1.2,1.4,1.6), a_grid=(0.0,10.0,30.0,50.0,80.0), b_grid=(0.3,0.5,1.0,1.5,2.0),\n",
        "                       random_seed=42, temporal_k=2):\n",
        "    n = len(train)\n",
        "    oof_mu = np.zeros(n, dtype=float)\n",
        "    oof_sigma_raw = np.zeros(n, dtype=float)\n",
        "    oof_abs_wsb = np.zeros(n, dtype=float)\n",
        "    models_mu, models_sigma = [], []\n",
        "    t_start = time.time()\n",
        "    for fi, (tr_idx, va_idx) in enumerate(folds):\n",
        "        t0 = time.time()\n",
        "        tr, va = train.iloc[tr_idx].copy(), train.iloc[va_idx].copy()\n",
        "        # Per-subset features\n",
        "        feats_train = build_features_subset(tr).reset_index(drop=True)\n",
        "        feats_valid = build_features_subset(va).reset_index(drop=True)\n",
        "        # Combine with raw cols\n",
        "        X_tr = pd.concat([feats_train, tr[NUM_COLS + CAT_COLS].reset_index(drop=True)], axis=1)\n",
        "        X_va = pd.concat([feats_valid, va[NUM_COLS + CAT_COLS].reset_index(drop=True)], axis=1)\n",
        "        y_tr, y_va = tr[TARGET].values, va[TARGET].values\n",
        "        # CatBoost mu\n",
        "        task_type = 'GPU'\n",
        "        try:\n",
        "            cb.CatBoostRegressor(task_type=task_type)\n",
        "        except Exception:\n",
        "            task_type = 'CPU'\n",
        "        if params_mu is None:\n",
        "            params_mu = dict(depth=6, learning_rate=0.06, iterations=4000,\n",
        "                             l2_leaf_reg=8.0, loss_function='Quantile:alpha=0.5',\n",
        "                             bootstrap_type='Bernoulli', subsample=0.8,\n",
        "                             random_seed=random_seed, early_stopping_rounds=200, task_type=task_type, verbose=200, allow_writing_files=False)\n",
        "        cat_idx = cat_features_indices(X_tr, CAT_COLS)\n",
        "        model_mu = cb.CatBoostRegressor(**params_mu)\n",
        "        model_mu.fit(X_tr, y_tr, eval_set=(X_va, y_va), cat_features=cat_idx, verbose=200)\n",
        "        mu_va = model_mu.predict(X_va)\n",
        "        oof_mu[va_idx] = mu_va\n",
        "        models_mu.append(model_mu)\n",
        "        # Store abs_wsb for sigma floor calibration\n",
        "        oof_abs_wsb[va_idx] = X_va['abs_wsb'].values\n",
        "        # Sigma model: target = |residual|\n",
        "        res_tr = np.abs(y_tr - model_mu.predict(X_tr))\n",
        "        y_tr_sigma = res_tr\n",
        "        if params_sigma is None:\n",
        "            params_sigma = dict(depth=5, learning_rate=0.05, iterations=1200,\n",
        "                                 l2_leaf_reg=6.0, loss_function='RMSE',\n",
        "                                 bootstrap_type='Bernoulli', subsample=0.9,\n",
        "                                 random_seed=random_seed, early_stopping_rounds=100, task_type=task_type, verbose=200, allow_writing_files=False)\n",
        "        model_sigma = cb.CatBoostRegressor(**params_sigma)\n",
        "        model_sigma.fit(X_tr, y_tr_sigma, eval_set=(X_va, np.abs(y_va - mu_va)), cat_features=cat_idx, verbose=200)\n",
        "        sig_raw_va = model_sigma.predict(X_va)\n",
        "        sig_raw_va = np.maximum(sig_raw_va, 5.0)  # tiny clamp for stability\n",
        "        oof_sigma_raw[va_idx] = sig_raw_va\n",
        "        models_sigma.append(model_sigma)\n",
        "        elapsed = time.time()-t0\n",
        "        print(f\"Fold {fi} done in {elapsed:.1f}s\", flush=True)\n",
        "    # Clean arrays for robust post-process\n",
        "    oof_abs_wsb_clean = np.nan_to_num(oof_abs_wsb, nan=0.0, posinf=0.0, neginf=0.0)\n",
        "    oof_sigma_raw_clean = np.where(np.isfinite(oof_sigma_raw), oof_sigma_raw, np.nan)\n",
        "    if np.isnan(oof_sigma_raw_clean).any():\n",
        "        med = np.nanmedian(oof_sigma_raw_clean)\n",
        "        if not np.isfinite(med):\n",
        "            med = 100.0\n",
        "        oof_sigma_raw_clean = np.nan_to_num(oof_sigma_raw_clean, nan=med, posinf=med, neginf=med)\n",
        "    # Grid search for sigma post-process on last k val visits per patient within each fold\n",
        "    best_score = -1e9\n",
        "    best_params = (1.0, 0.0, 1.0)\n",
        "    for s in scale_grid:\n",
        "        for a in a_grid:\n",
        "            for b in b_grid:\n",
        "                total, count = 0.0, 0\n",
        "                for tr_idx, va_idx in folds:\n",
        "                    va_df = train.iloc[va_idx]\n",
        "                    mask_k = last_k_mask(va_df, k=temporal_k)\n",
        "                    if not mask_k.any():\n",
        "                        mask_k = np.ones(len(va_idx), dtype=bool)\n",
        "                    use_idx = np.array(va_idx)[mask_k]\n",
        "                    if use_idx.size == 0:\n",
        "                        continue\n",
        "                    sigma = np.maximum(oof_sigma_raw_clean[use_idx] * s, a + b * oof_abs_wsb_clean[use_idx])\n",
        "                    sigma = np.maximum(sigma, sigma_floor)\n",
        "                    scr = laplace_log_likelihood(train[TARGET].values[use_idx],\n",
        "                                                 oof_mu[use_idx], sigma,\n",
        "                                                 sigma_floor=sigma_floor, error_clip=1000.0)\n",
        "                    total += scr * use_idx.size\n",
        "                    count += use_idx.size\n",
        "                if count > 0:\n",
        "                    avg_scr = total / count\n",
        "                    if avg_scr > best_score:\n",
        "                        best_score = avg_scr\n",
        "                        best_params = (s, a, b)\n",
        "    print(f\"Best temporal OOF Laplace: {best_score:.5f} @ s={best_params[0]}, a={best_params[1]}, b={best_params[2]}\")\n",
        "    print(f\"Total training time: {time.time()-t_start:.1f}s\")\n",
        "    return oof_mu, oof_sigma_raw_clean, oof_abs_wsb_clean, models_mu, models_sigma, best_params, best_score\n",
        "\n",
        "oof_mu, oof_sig_raw, oof_abs_wsb, models_mu, models_sigma, sigma_params, oof_score = train_mu_sigma_oof(train, folds)\n",
        "\n",
        "# Train final models on full data (same features, no target-derived) \n",
        "def build_full_features(df):\n",
        "    # use all available rows to compute leak-safe time proxies (Weeks known)\n",
        "    basew = df.groupby(PID)[WEEK].min().rename('baseline_week')\n",
        "    # order/counts\n",
        "    visit_index = df.groupby(PID)[WEEK].rank(method='first', ascending=True).astype(int)\n",
        "    visits_count = df.groupby(PID)[WEEK].transform('count')\n",
        "    visits_remaining = (visits_count - visit_index).astype(int)\n",
        "    feats = pd.DataFrame({PID: df[PID].values, WEEK: df[WEEK].values})\n",
        "    feats = feats.join(basew, on=PID)\n",
        "    feats['weeks_since_baseline'] = feats[WEEK] - feats['baseline_week']\n",
        "    feats['wsb_sq'] = feats['weeks_since_baseline']**2\n",
        "    feats['abs_wsb'] = feats['weeks_since_baseline'].abs()\n",
        "    feats['log_abs_wsb'] = np.log1p(feats['abs_wsb'].values)\n",
        "    feats['visit_index'] = visit_index.values\n",
        "    feats['visits_remaining'] = visits_remaining.values\n",
        "    feats['mean_percent'] = df.groupby(PID)['Percent'].transform('mean').values\n",
        "    feats['wsb_x_percent'] = feats['weeks_since_baseline'].values * df['Percent'].values\n",
        "    sex_num = (df['Sex'].values == 'Male').astype(int)\n",
        "    feats['age_x_sex'] = df['Age'].values * sex_num\n",
        "    feats['percent_x_age'] = df['Percent'].values * df['Age'].values\n",
        "    feats['sex_num'] = sex_num\n",
        "    return feats[['baseline_week','weeks_since_baseline','wsb_sq','abs_wsb','log_abs_wsb','visit_index','visits_remaining','mean_percent','wsb_x_percent','age_x_sex','percent_x_age','sex_num']]\n",
        "\n",
        "feats_full = build_full_features(train)\n",
        "X_full = pd.concat([feats_full.reset_index(drop=True), train[NUM_COLS + CAT_COLS].reset_index(drop=True)], axis=1)\n",
        "y_full = train[TARGET].values\n",
        "task_type = 'GPU'\n",
        "try:\n",
        "    cb.CatBoostRegressor(task_type=task_type)\n",
        "except Exception:\n",
        "    task_type = 'CPU'\n",
        "final_mu = cb.CatBoostRegressor(depth=6, learning_rate=0.06, iterations=4000, l2_leaf_reg=8.0, loss_function='Quantile:alpha=0.5',\n",
        "                                 bootstrap_type='Bernoulli', subsample=0.8,\n",
        "                                 random_seed=42, early_stopping_rounds=200, task_type=task_type, verbose=200, allow_writing_files=False)\n",
        "cat_idx_full = cat_features_indices(X_full, CAT_COLS)\n",
        "# Keep and reuse exact training column order for inference\n",
        "X_cols = list(X_full.columns)\n",
        "print('Train columns:', X_cols)\n",
        "print('Cat idx full:', cat_idx_full)\n",
        "final_mu.fit(X_full, y_full, cat_features=cat_idx_full, verbose=200)\n",
        "res_full = np.abs(y_full - final_mu.predict(X_full))\n",
        "final_sigma = cb.CatBoostRegressor(depth=5, learning_rate=0.05, iterations=1200, l2_leaf_reg=6.0, loss_function='RMSE',\n",
        "                                   bootstrap_type='Bernoulli', subsample=0.9,\n",
        "                                   random_seed=42, early_stopping_rounds=100, task_type=task_type, verbose=200, allow_writing_files=False)\n",
        "final_sigma.fit(X_full, res_full, cat_features=cat_idx_full, verbose=200)\n",
        "\n",
        "# Prepare submission predictions\n",
        "ss = pd.read_csv('sample_submission.csv')\n",
        "sub = ss.copy()\n",
        "sub[[PID,WEEK]] = sub['Patient_Week'].str.rsplit('_', n=1, expand=True)\n",
        "sub[WEEK] = sub[WEEK].astype(int)\n",
        "\n",
        "# Build a lookup of patient attributes from train+test (without using FVC as a feature).\n",
        "meta_cols = [PID, WEEK] + NUM_COLS + CAT_COLS\n",
        "meta_train = train[meta_cols].copy()\n",
        "meta_test = test[meta_cols].copy()\n",
        "meta_all = pd.concat([meta_train, meta_test], axis=0, ignore_index=True)\n",
        "meta_all = meta_all.sort_values([PID, WEEK])\n",
        "fill_cols = NUM_COLS + CAT_COLS\n",
        "meta_all[fill_cols] = meta_all.groupby(PID)[fill_cols].ffill()\n",
        "meta_all[fill_cols] = meta_all.groupby(PID)[fill_cols].bfill()\n",
        "\n",
        "# Join demographics onto submission rows\n",
        "sub = sub.merge(meta_all.drop(columns=[WEEK]).drop_duplicates(PID), on=PID, how='left')\n",
        "\n",
        "# Build submission features using train+test combined metadata (Weeks known)\n",
        "basew_all = meta_all.groupby(PID)[WEEK].min().rename('baseline_week')\n",
        "sub = sub.join(basew_all, on=PID)\n",
        "sub['weeks_since_baseline'] = sub[WEEK] - sub['baseline_week']\n",
        "sub['wsb_sq'] = sub['weeks_since_baseline']**2\n",
        "sub['abs_wsb'] = sub['weeks_since_baseline'].abs()\n",
        "sub['log_abs_wsb'] = np.log1p(sub['abs_wsb'].values)\n",
        "# visit indices within submission directly (avoid missing keys from meta_all)\n",
        "sub = sub.sort_values([PID, WEEK]).reset_index(drop=True)\n",
        "sub['visit_index'] = sub.groupby(PID)[WEEK].rank(method='first', ascending=True).astype(int)\n",
        "sub['visits_count'] = sub.groupby(PID)[WEEK].transform('count').astype(int)\n",
        "sub['visits_remaining'] = sub['visits_count'] - sub['visit_index']\n",
        "sub.drop(columns=['visits_count'], inplace=True)\n",
        "sub['mean_percent'] = sub.groupby(PID)['Percent'].transform('mean')\n",
        "sub['wsb_x_percent'] = sub['weeks_since_baseline'] * sub['Percent']\n",
        "sub['sex_num'] = (sub['Sex'] == 'Male').astype(int)\n",
        "sub['age_x_sex'] = sub['Age'] * sub['sex_num']\n",
        "sub['percent_x_age'] = sub['Percent'] * sub['Age']\n",
        "\n",
        "# Reorder columns to match training order and use Pool with cat feature indices\n",
        "X_sub = sub[X_cols].copy()\n",
        "pool_sub = cb.Pool(X_sub, cat_features=cat_idx_full)\n",
        "mu_pred = final_mu.predict(pool_sub)\n",
        "sigma_pred_raw = final_sigma.predict(pool_sub)\n",
        "sigma_pred_raw = np.maximum(sigma_pred_raw, 5.0)\n",
        "s_best, a_best, b_best = sigma_params\n",
        "sigma_pred = np.maximum(sigma_pred_raw * s_best, a_best + b_best * X_sub['abs_wsb'].values)\n",
        "sigma_pred = np.maximum(sigma_pred, 70.0)\n",
        "\n",
        "out = ss.copy()\n",
        "out['FVC'] = mu_pred.astype(float)\n",
        "out['Confidence'] = sigma_pred.astype(float)\n",
        "out.to_csv('submission.csv', index=False)\n",
        "print('Saved submission.csv')\n",
        "print('Temporal OOF Laplace:', oof_score, 'Sigma params:', sigma_params)"
      ],
      "execution_count": 9,
      "outputs": [
        {
          "output_type": "stream",
          "name": "stdout",
          "text": [
            "0:\tlearn: 300.0699472\ttest: 391.8282081\tbest: 391.8282081 (0)\ttotal: 12ms\tremaining: 48.2s\n"
          ]
        },
        {
          "output_type": "stream",
          "name": "stdout",
          "text": [
            "200:\tlearn: 298.2441266\ttest: 390.2378103\tbest: 390.2378103 (200)\ttotal: 2.17s\tremaining: 41.1s\n"
          ]
        },
        {
          "output_type": "stream",
          "name": "stdout",
          "text": [
            "400:\tlearn: 296.3266075\ttest: 388.5721410\tbest: 388.5721410 (400)\ttotal: 4.44s\tremaining: 39.9s\n"
          ]
        },
        {
          "output_type": "stream",
          "name": "stdout",
          "text": [
            "600:\tlearn: 294.4124607\ttest: 386.8802637\tbest: 386.8802637 (600)\ttotal: 6.72s\tremaining: 38s\n"
          ]
        },
        {
          "output_type": "stream",
          "name": "stdout",
          "text": [
            "800:\tlearn: 292.5070256\ttest: 385.2060339\tbest: 385.2060339 (800)\ttotal: 9.01s\tremaining: 36s\n"
          ]
        },
        {
          "output_type": "stream",
          "name": "stdout",
          "text": [
            "1000:\tlearn: 290.6152765\ttest: 383.5208610\tbest: 383.5208610 (1000)\ttotal: 11.3s\tremaining: 33.8s\n"
          ]
        },
        {
          "output_type": "stream",
          "name": "stdout",
          "text": [
            "1200:\tlearn: 288.7354429\ttest: 381.8386525\tbest: 381.8386525 (1200)\ttotal: 13.6s\tremaining: 31.6s\n"
          ]
        },
        {
          "output_type": "stream",
          "name": "stdout",
          "text": [
            "1400:\tlearn: 286.8560027\ttest: 380.1444481\tbest: 380.1444481 (1400)\ttotal: 15.8s\tremaining: 29.4s\n"
          ]
        },
        {
          "output_type": "stream",
          "name": "stdout",
          "text": [
            "1600:\tlearn: 284.9909229\ttest: 378.4614916\tbest: 378.4614916 (1600)\ttotal: 18.1s\tremaining: 27.1s\n"
          ]
        },
        {
          "output_type": "stream",
          "name": "stdout",
          "text": [
            "1800:\tlearn: 283.1445875\ttest: 376.7949634\tbest: 376.7949634 (1800)\ttotal: 20.4s\tremaining: 24.9s\n"
          ]
        },
        {
          "output_type": "stream",
          "name": "stdout",
          "text": [
            "2000:\tlearn: 281.2971279\ttest: 375.1473293\tbest: 375.1473293 (2000)\ttotal: 22.6s\tremaining: 22.6s\n"
          ]
        },
        {
          "output_type": "stream",
          "name": "stdout",
          "text": [
            "2200:\tlearn: 279.4533217\ttest: 373.5186170\tbest: 373.5186170 (2200)\ttotal: 24.8s\tremaining: 20.3s\n"
          ]
        },
        {
          "output_type": "stream",
          "name": "stdout",
          "text": [
            "2400:\tlearn: 277.6144054\ttest: 371.8819814\tbest: 371.8819814 (2400)\ttotal: 27.1s\tremaining: 18.1s\n"
          ]
        },
        {
          "output_type": "stream",
          "name": "stdout",
          "text": [
            "2600:\tlearn: 275.7903271\ttest: 370.2612478\tbest: 370.2612478 (2600)\ttotal: 29.4s\tremaining: 15.8s\n"
          ]
        },
        {
          "output_type": "stream",
          "name": "stdout",
          "text": [
            "2800:\tlearn: 273.9818739\ttest: 368.6531195\tbest: 368.6531195 (2800)\ttotal: 31.6s\tremaining: 13.5s\n"
          ]
        },
        {
          "output_type": "stream",
          "name": "stdout",
          "text": [
            "3000:\tlearn: 272.2146751\ttest: 367.0894282\tbest: 367.0894282 (3000)\ttotal: 33.8s\tremaining: 11.3s\n"
          ]
        },
        {
          "output_type": "stream",
          "name": "stdout",
          "text": [
            "3200:\tlearn: 270.4637759\ttest: 365.5328014\tbest: 365.5328014 (3200)\ttotal: 36.1s\tremaining: 9s\n"
          ]
        },
        {
          "output_type": "stream",
          "name": "stdout",
          "text": [
            "3400:\tlearn: 268.7149843\ttest: 364.0058178\tbest: 364.0058178 (3400)\ttotal: 38.3s\tremaining: 6.75s\n"
          ]
        },
        {
          "output_type": "stream",
          "name": "stdout",
          "text": [
            "3600:\tlearn: 266.9777990\ttest: 362.4850953\tbest: 362.4850953 (3600)\ttotal: 40.6s\tremaining: 4.49s\n"
          ]
        },
        {
          "output_type": "stream",
          "name": "stdout",
          "text": [
            "3800:\tlearn: 265.2409791\ttest: 360.9867298\tbest: 360.9867298 (3800)\ttotal: 42.8s\tremaining: 2.24s\n"
          ]
        },
        {
          "output_type": "stream",
          "name": "stdout",
          "text": [
            "3999:\tlearn: 263.5244492\ttest: 359.5358211\tbest: 359.5358211 (3999)\ttotal: 45.1s\tremaining: 0us\nbestTest = 359.5358211\nbestIteration = 3999\n"
          ]
        },
        {
          "output_type": "stream",
          "name": "stdout",
          "text": [
            "0:\tlearn: 438.3977695\ttest: 562.5431615\tbest: 562.5431615 (0)\ttotal: 9.37ms\tremaining: 11.2s\n"
          ]
        },
        {
          "output_type": "stream",
          "name": "stdout",
          "text": [
            "bestTest = 295.4942488\nbestIteration = 57\nShrink model to first 58 iterations.\nFold 0 done in 47.3s\n"
          ]
        },
        {
          "output_type": "stream",
          "name": "stdout",
          "text": [
            "0:\tlearn: 309.4282907\ttest: 353.7581461\tbest: 353.7581461 (0)\ttotal: 12.1ms\tremaining: 48.5s\n"
          ]
        },
        {
          "output_type": "stream",
          "name": "stdout",
          "text": [
            "200:\tlearn: 307.5805818\ttest: 351.9463134\tbest: 351.9463134 (200)\ttotal: 2.19s\tremaining: 41.5s\n"
          ]
        },
        {
          "output_type": "stream",
          "name": "stdout",
          "text": [
            "400:\tlearn: 305.6220238\ttest: 350.0872164\tbest: 350.0872164 (400)\ttotal: 4.48s\tremaining: 40.2s\n"
          ]
        },
        {
          "output_type": "stream",
          "name": "stdout",
          "text": [
            "600:\tlearn: 303.6655436\ttest: 348.1875556\tbest: 348.1875556 (600)\ttotal: 6.77s\tremaining: 38.3s\n"
          ]
        },
        {
          "output_type": "stream",
          "name": "stdout",
          "text": [
            "800:\tlearn: 301.7156334\ttest: 346.2887011\tbest: 346.2887011 (800)\ttotal: 9.06s\tremaining: 36.2s\n"
          ]
        },
        {
          "output_type": "stream",
          "name": "stdout",
          "text": [
            "1000:\tlearn: 299.7831312\ttest: 344.4075845\tbest: 344.4075845 (1000)\ttotal: 11.4s\tremaining: 34s\n"
          ]
        },
        {
          "output_type": "stream",
          "name": "stdout",
          "text": [
            "1200:\tlearn: 297.8600348\ttest: 342.5854649\tbest: 342.5854649 (1200)\ttotal: 13.6s\tremaining: 31.8s\n"
          ]
        },
        {
          "output_type": "stream",
          "name": "stdout",
          "text": [
            "1400:\tlearn: 295.9558906\ttest: 340.7818060\tbest: 340.7818060 (1400)\ttotal: 16s\tremaining: 29.6s\n"
          ]
        },
        {
          "output_type": "stream",
          "name": "stdout",
          "text": [
            "1600:\tlearn: 294.0605065\ttest: 339.0085632\tbest: 339.0085632 (1600)\ttotal: 18.2s\tremaining: 27.3s\n"
          ]
        },
        {
          "output_type": "stream",
          "name": "stdout",
          "text": [
            "1800:\tlearn: 292.1915431\ttest: 337.2778303\tbest: 337.2778303 (1800)\ttotal: 20.5s\tremaining: 25s\n"
          ]
        },
        {
          "output_type": "stream",
          "name": "stdout",
          "text": [
            "2000:\tlearn: 290.3327999\ttest: 335.5673376\tbest: 335.5673376 (2000)\ttotal: 22.8s\tremaining: 22.8s\n"
          ]
        },
        {
          "output_type": "stream",
          "name": "stdout",
          "text": [
            "2200:\tlearn: 288.4857929\ttest: 333.8390792\tbest: 333.8390792 (2200)\ttotal: 25.1s\tremaining: 20.5s\n"
          ]
        },
        {
          "output_type": "stream",
          "name": "stdout",
          "text": [
            "2400:\tlearn: 286.6582435\ttest: 332.1355649\tbest: 332.1355649 (2400)\ttotal: 27.3s\tremaining: 18.2s\n"
          ]
        },
        {
          "output_type": "stream",
          "name": "stdout",
          "text": [
            "2600:\tlearn: 284.8546721\ttest: 330.4612433\tbest: 330.4612433 (2600)\ttotal: 29.6s\tremaining: 15.9s\n"
          ]
        },
        {
          "output_type": "stream",
          "name": "stdout",
          "text": [
            "2800:\tlearn: 283.0595519\ttest: 328.7867549\tbest: 328.7867549 (2800)\ttotal: 31.9s\tremaining: 13.7s\n"
          ]
        },
        {
          "output_type": "stream",
          "name": "stdout",
          "text": [
            "3000:\tlearn: 281.2748484\ttest: 327.1168817\tbest: 327.1168817 (3000)\ttotal: 34.2s\tremaining: 11.4s\n"
          ]
        },
        {
          "output_type": "stream",
          "name": "stdout",
          "text": [
            "3200:\tlearn: 279.4969396\ttest: 325.4229871\tbest: 325.4229871 (3200)\ttotal: 36.5s\tremaining: 9.11s\n"
          ]
        },
        {
          "output_type": "stream",
          "name": "stdout",
          "text": [
            "3400:\tlearn: 277.7433457\ttest: 323.7425489\tbest: 323.7425489 (3400)\ttotal: 38.8s\tremaining: 6.83s\n"
          ]
        },
        {
          "output_type": "stream",
          "name": "stdout",
          "text": [
            "3600:\tlearn: 276.0061489\ttest: 322.0396464\tbest: 322.0396464 (3600)\ttotal: 41s\tremaining: 4.55s\n"
          ]
        },
        {
          "output_type": "stream",
          "name": "stdout",
          "text": [
            "3800:\tlearn: 274.2936882\ttest: 320.3535365\tbest: 320.3535365 (3800)\ttotal: 43.3s\tremaining: 2.27s\n"
          ]
        },
        {
          "output_type": "stream",
          "name": "stdout",
          "text": [
            "3999:\tlearn: 272.6133199\ttest: 318.7169150\tbest: 318.7169150 (3999)\ttotal: 45.6s\tremaining: 0us\nbestTest = 318.716915\nbestIteration = 3999\n"
          ]
        },
        {
          "output_type": "stream",
          "name": "stdout",
          "text": [
            "0:\tlearn: 454.3342315\ttest: 456.1944706\tbest: 456.1944706 (0)\ttotal: 10ms\tremaining: 12s\n"
          ]
        },
        {
          "output_type": "stream",
          "name": "stdout",
          "text": [
            "bestTest = 297.1807028\nbestIteration = 58\nShrink model to first 59 iterations.\nFold 1 done in 48.3s\n"
          ]
        },
        {
          "output_type": "stream",
          "name": "stdout",
          "text": [
            "0:\tlearn: 322.1019884\ttest: 302.4468182\tbest: 302.4468182 (0)\ttotal: 12ms\tremaining: 48.2s\n"
          ]
        },
        {
          "output_type": "stream",
          "name": "stdout",
          "text": [
            "200:\tlearn: 320.1355842\ttest: 301.2482955\tbest: 301.2482955 (200)\ttotal: 2.15s\tremaining: 40.5s\n"
          ]
        },
        {
          "output_type": "stream",
          "name": "stdout",
          "text": [
            "400:\tlearn: 318.0539824\ttest: 299.9711648\tbest: 299.9711648 (400)\ttotal: 4.42s\tremaining: 39.6s\n"
          ]
        },
        {
          "output_type": "stream",
          "name": "stdout",
          "text": [
            "600:\tlearn: 315.9755083\ttest: 298.6976989\tbest: 298.6976989 (600)\ttotal: 6.69s\tremaining: 37.9s\n"
          ]
        },
        {
          "output_type": "stream",
          "name": "stdout",
          "text": [
            "800:\tlearn: 313.9014187\ttest: 297.4210227\tbest: 297.4210227 (800)\ttotal: 8.99s\tremaining: 35.9s\n"
          ]
        },
        {
          "output_type": "stream",
          "name": "stdout",
          "text": [
            "1000:\tlearn: 311.8408735\ttest: 296.1450000\tbest: 296.1450000 (1000)\ttotal: 11.2s\tremaining: 33.7s\n"
          ]
        },
        {
          "output_type": "stream",
          "name": "stdout",
          "text": [
            "1200:\tlearn: 309.7838472\ttest: 294.8767330\tbest: 294.8767330 (1200)\ttotal: 13.5s\tremaining: 31.4s\n"
          ]
        },
        {
          "output_type": "stream",
          "name": "stdout",
          "text": [
            "1400:\tlearn: 307.7458668\ttest: 293.6052273\tbest: 293.6052273 (1400)\ttotal: 15.7s\tremaining: 29.2s\n"
          ]
        },
        {
          "output_type": "stream",
          "name": "stdout",
          "text": [
            "1600:\tlearn: 305.7298648\ttest: 292.3522727\tbest: 292.3522727 (1600)\ttotal: 18s\tremaining: 27s\n"
          ]
        },
        {
          "output_type": "stream",
          "name": "stdout",
          "text": [
            "1800:\tlearn: 303.7225201\ttest: 291.1061080\tbest: 291.1061080 (1800)\ttotal: 20.2s\tremaining: 24.7s\n"
          ]
        },
        {
          "output_type": "stream",
          "name": "stdout",
          "text": [
            "2000:\tlearn: 301.7391924\ttest: 289.8615909\tbest: 289.8615909 (2000)\ttotal: 22.5s\tremaining: 22.5s\n"
          ]
        },
        {
          "output_type": "stream",
          "name": "stdout",
          "text": [
            "2200:\tlearn: 299.7690739\ttest: 288.6194886\tbest: 288.6194886 (2200)\ttotal: 24.8s\tremaining: 20.2s\n"
          ]
        },
        {
          "output_type": "stream",
          "name": "stdout",
          "text": [
            "2400:\tlearn: 297.8031445\ttest: 287.3821591\tbest: 287.3821591 (2400)\ttotal: 27s\tremaining: 18s\n"
          ]
        },
        {
          "output_type": "stream",
          "name": "stdout",
          "text": [
            "2600:\tlearn: 295.8526028\ttest: 286.1487216\tbest: 286.1487216 (2600)\ttotal: 29.3s\tremaining: 15.7s\n"
          ]
        },
        {
          "output_type": "stream",
          "name": "stdout",
          "text": [
            "2800:\tlearn: 293.9174765\ttest: 284.9202841\tbest: 284.9202841 (2800)\ttotal: 31.5s\tremaining: 13.5s\n"
          ]
        },
        {
          "output_type": "stream",
          "name": "stdout",
          "text": [
            "3000:\tlearn: 291.9986316\ttest: 283.6842045\tbest: 283.6842045 (3000)\ttotal: 33.7s\tremaining: 11.2s\n"
          ]
        },
        {
          "output_type": "stream",
          "name": "stdout",
          "text": [
            "3200:\tlearn: 290.1150581\ttest: 282.4519886\tbest: 282.4519886 (3200)\ttotal: 36s\tremaining: 8.99s\n"
          ]
        },
        {
          "output_type": "stream",
          "name": "stdout",
          "text": [
            "3400:\tlearn: 288.2642706\ttest: 281.2201705\tbest: 281.2201705 (3400)\ttotal: 38.3s\tremaining: 6.74s\n"
          ]
        },
        {
          "output_type": "stream",
          "name": "stdout",
          "text": [
            "3600:\tlearn: 286.4439511\ttest: 279.9824148\tbest: 279.9824148 (3600)\ttotal: 40.5s\tremaining: 4.49s\n"
          ]
        },
        {
          "output_type": "stream",
          "name": "stdout",
          "text": [
            "3800:\tlearn: 284.6387958\ttest: 278.7560511\tbest: 278.7560511 (3800)\ttotal: 42.8s\tremaining: 2.24s\n"
          ]
        },
        {
          "output_type": "stream",
          "name": "stdout",
          "text": [
            "3999:\tlearn: 282.8502290\ttest: 277.5422727\tbest: 277.5422727 (3999)\ttotal: 45s\tremaining: 0us\nbestTest = 277.5422727\nbestIteration = 3999\n"
          ]
        },
        {
          "output_type": "stream",
          "name": "stdout",
          "text": [
            "0:\tlearn: 458.1633458\ttest: 460.4250526\tbest: 460.4250526 (0)\ttotal: 10.1ms\tremaining: 12.1s\n"
          ]
        },
        {
          "output_type": "stream",
          "name": "stdout",
          "text": [
            "200:\tlearn: 160.5056855\ttest: 297.1716614\tbest: 294.0666715 (167)\ttotal: 1.87s\tremaining: 9.31s\n"
          ]
        },
        {
          "output_type": "stream",
          "name": "stdout",
          "text": [
            "bestTest = 294.0666715\nbestIteration = 167\nShrink model to first 168 iterations.\nFold 2 done in 48.8s\n"
          ]
        },
        {
          "output_type": "stream",
          "name": "stdout",
          "text": [
            "0:\tlearn: 329.1820264\ttest: 272.8882386\tbest: 272.8882386 (0)\ttotal: 12.3ms\tremaining: 49.2s\n"
          ]
        },
        {
          "output_type": "stream",
          "name": "stdout",
          "text": [
            "200:\tlearn: 327.2276028\ttest: 271.1948011\tbest: 271.1948011 (200)\ttotal: 2.25s\tremaining: 42.4s\n"
          ]
        },
        {
          "output_type": "stream",
          "name": "stdout",
          "text": [
            "400:\tlearn: 325.1599084\ttest: 269.4490341\tbest: 269.4490341 (400)\ttotal: 4.53s\tremaining: 40.7s\n"
          ]
        },
        {
          "output_type": "stream",
          "name": "stdout",
          "text": [
            "600:\tlearn: 323.0878575\ttest: 267.7034091\tbest: 267.7034091 (600)\ttotal: 6.78s\tremaining: 38.4s\n"
          ]
        },
        {
          "output_type": "stream",
          "name": "stdout",
          "text": [
            "800:\tlearn: 321.0321716\ttest: 265.9803977\tbest: 265.9803977 (800)\ttotal: 9.03s\tremaining: 36.1s\n"
          ]
        },
        {
          "output_type": "stream",
          "name": "stdout",
          "text": [
            "1000:\tlearn: 318.9839701\ttest: 264.2636080\tbest: 264.2636080 (1000)\ttotal: 11.3s\tremaining: 33.8s\n"
          ]
        },
        {
          "output_type": "stream",
          "name": "stdout",
          "text": [
            "1200:\tlearn: 316.9334786\ttest: 262.5728125\tbest: 262.5728125 (1200)\ttotal: 13.5s\tremaining: 31.5s\n"
          ]
        },
        {
          "output_type": "stream",
          "name": "stdout",
          "text": [
            "1400:\tlearn: 314.8876508\ttest: 260.8773295\tbest: 260.8773295 (1400)\ttotal: 15.8s\tremaining: 29.3s\n"
          ]
        },
        {
          "output_type": "stream",
          "name": "stdout",
          "text": [
            "1600:\tlearn: 312.8556468\ttest: 259.1789489\tbest: 259.1789489 (1600)\ttotal: 18s\tremaining: 27s\n"
          ]
        },
        {
          "output_type": "stream",
          "name": "stdout",
          "text": [
            "1800:\tlearn: 310.8399520\ttest: 257.4959659\tbest: 257.4959659 (1800)\ttotal: 20.3s\tremaining: 24.8s\n"
          ]
        },
        {
          "output_type": "stream",
          "name": "stdout",
          "text": [
            "2000:\tlearn: 308.8400916\ttest: 255.8328693\tbest: 255.8328693 (2000)\ttotal: 22.5s\tremaining: 22.5s\n"
          ]
        },
        {
          "output_type": "stream",
          "name": "stdout",
          "text": [
            "2200:\tlearn: 306.8512623\ttest: 254.1959091\tbest: 254.1959091 (2200)\ttotal: 24.8s\tremaining: 20.3s\n"
          ]
        },
        {
          "output_type": "stream",
          "name": "stdout",
          "text": [
            "2400:\tlearn: 304.8945208\ttest: 252.5604545\tbest: 252.5604545 (2400)\ttotal: 27.1s\tremaining: 18s\n"
          ]
        },
        {
          "output_type": "stream",
          "name": "stdout",
          "text": [
            "2600:\tlearn: 302.9634998\ttest: 250.9636932\tbest: 250.9636932 (2600)\ttotal: 29.3s\tremaining: 15.8s\n"
          ]
        },
        {
          "output_type": "stream",
          "name": "stdout",
          "text": [
            "2800:\tlearn: 301.0379524\ttest: 249.3804545\tbest: 249.3804545 (2800)\ttotal: 31.6s\tremaining: 13.5s\n"
          ]
        },
        {
          "output_type": "stream",
          "name": "stdout",
          "text": [
            "3000:\tlearn: 299.1292169\ttest: 247.8434659\tbest: 247.8434659 (3000)\ttotal: 33.8s\tremaining: 11.3s\n"
          ]
        },
        {
          "output_type": "stream",
          "name": "stdout",
          "text": [
            "3200:\tlearn: 297.2437723\ttest: 246.3413636\tbest: 246.3413636 (3200)\ttotal: 36.1s\tremaining: 9s\n"
          ]
        },
        {
          "output_type": "stream",
          "name": "stdout",
          "text": [
            "3400:\tlearn: 295.3708668\ttest: 244.8709091\tbest: 244.8709091 (3400)\ttotal: 38.3s\tremaining: 6.75s\n"
          ]
        },
        {
          "output_type": "stream",
          "name": "stdout",
          "text": [
            "3600:\tlearn: 293.5198838\ttest: 243.4328409\tbest: 243.4328409 (3600)\ttotal: 40.6s\tremaining: 4.5s\n"
          ]
        },
        {
          "output_type": "stream",
          "name": "stdout",
          "text": [
            "3800:\tlearn: 291.6896224\ttest: 241.9979545\tbest: 241.9979545 (3800)\ttotal: 42.9s\tremaining: 2.24s\n"
          ]
        },
        {
          "output_type": "stream",
          "name": "stdout",
          "text": [
            "3999:\tlearn: 289.8921749\ttest: 240.5805398\tbest: 240.5805398 (3999)\ttotal: 45.1s\tremaining: 0us\nbestTest = 240.5805398\nbestIteration = 3999\n"
          ]
        },
        {
          "output_type": "stream",
          "name": "stdout",
          "text": [
            "0:\tlearn: 457.8429122\ttest: 432.3885122\tbest: 432.3885122 (0)\ttotal: 10.4ms\tremaining: 12.4s\n"
          ]
        },
        {
          "output_type": "stream",
          "name": "stdout",
          "text": [
            "200:\tlearn: 145.2852668\ttest: 258.5944948\tbest: 256.5971728 (176)\ttotal: 1.87s\tremaining: 9.32s\n"
          ]
        },
        {
          "output_type": "stream",
          "name": "stdout",
          "text": [
            "bestTest = 256.5971728\nbestIteration = 176\nShrink model to first 177 iterations.\nFold 3 done in 49.0s\n"
          ]
        },
        {
          "output_type": "stream",
          "name": "stdout",
          "text": [
            "0:\tlearn: 323.4292172\ttest: 299.9635787\tbest: 299.9635787 (0)\ttotal: 12.4ms\tremaining: 49.8s\n"
          ]
        },
        {
          "output_type": "stream",
          "name": "stdout",
          "text": [
            "200:\tlearn: 321.5208614\ttest: 298.1456851\tbest: 298.1456851 (200)\ttotal: 2.27s\tremaining: 43s\n"
          ]
        },
        {
          "output_type": "stream",
          "name": "stdout",
          "text": [
            "400:\tlearn: 319.5168464\ttest: 296.3292371\tbest: 296.3292371 (400)\ttotal: 4.57s\tremaining: 41.1s\n"
          ]
        },
        {
          "output_type": "stream",
          "name": "stdout",
          "text": [
            "600:\tlearn: 317.5426774\ttest: 294.5304159\tbest: 294.5304159 (600)\ttotal: 6.88s\tremaining: 38.9s\n"
          ]
        },
        {
          "output_type": "stream",
          "name": "stdout",
          "text": [
            "800:\tlearn: 315.5864499\ttest: 292.7251446\tbest: 292.7251446 (800)\ttotal: 9.18s\tremaining: 36.6s\n"
          ]
        },
        {
          "output_type": "stream",
          "name": "stdout",
          "text": [
            "1000:\tlearn: 313.6402179\ttest: 290.9253781\tbest: 290.9253781 (1000)\ttotal: 11.5s\tremaining: 34.4s\n"
          ]
        },
        {
          "output_type": "stream",
          "name": "stdout",
          "text": [
            "1200:\tlearn: 311.6976640\ttest: 289.1337578\tbest: 289.1337578 (1200)\ttotal: 13.8s\tremaining: 32.1s\n"
          ]
        },
        {
          "output_type": "stream",
          "name": "stdout",
          "text": [
            "1400:\tlearn: 309.7645440\ttest: 287.3733319\tbest: 287.3733319 (1400)\ttotal: 16.1s\tremaining: 29.9s\n"
          ]
        },
        {
          "output_type": "stream",
          "name": "stdout",
          "text": [
            "1600:\tlearn: 307.8618037\ttest: 285.5853258\tbest: 285.5853258 (1600)\ttotal: 18.4s\tremaining: 27.5s\n"
          ]
        },
        {
          "output_type": "stream",
          "name": "stdout",
          "text": [
            "1800:\tlearn: 305.9720912\ttest: 283.8135287\tbest: 283.8135287 (1800)\ttotal: 20.7s\tremaining: 25.3s\n"
          ]
        },
        {
          "output_type": "stream",
          "name": "stdout",
          "text": [
            "2000:\tlearn: 304.0956873\ttest: 282.0648076\tbest: 282.0648076 (2000)\ttotal: 23s\tremaining: 23s\n"
          ]
        },
        {
          "output_type": "stream",
          "name": "stdout",
          "text": [
            "2200:\tlearn: 302.2275382\ttest: 280.3272909\tbest: 280.3272909 (2200)\ttotal: 25.3s\tremaining: 20.7s\n"
          ]
        },
        {
          "output_type": "stream",
          "name": "stdout",
          "text": [
            "2400:\tlearn: 300.3719677\ttest: 278.5878281\tbest: 278.5878281 (2400)\ttotal: 27.6s\tremaining: 18.4s\n"
          ]
        },
        {
          "output_type": "stream",
          "name": "stdout",
          "text": [
            "2600:\tlearn: 298.5302673\ttest: 276.8812834\tbest: 276.8812834 (2600)\ttotal: 29.9s\tremaining: 16.1s\n"
          ]
        },
        {
          "output_type": "stream",
          "name": "stdout",
          "text": [
            "2800:\tlearn: 296.6940139\ttest: 275.1823565\tbest: 275.1823565 (2800)\ttotal: 32.2s\tremaining: 13.8s\n"
          ]
        },
        {
          "output_type": "stream",
          "name": "stdout",
          "text": [
            "3000:\tlearn: 294.8802224\ttest: 273.4953848\tbest: 273.4953848 (3000)\ttotal: 34.5s\tremaining: 11.5s\n"
          ]
        },
        {
          "output_type": "stream",
          "name": "stdout",
          "text": [
            "3200:\tlearn: 293.0700247\ttest: 271.8602647\tbest: 271.8602647 (3200)\ttotal: 36.8s\tremaining: 9.18s\n"
          ]
        },
        {
          "output_type": "stream",
          "name": "stdout",
          "text": [
            "3400:\tlearn: 291.2702156\ttest: 270.2261455\tbest: 270.2261455 (3400)\ttotal: 39.1s\tremaining: 6.88s\n"
          ]
        },
        {
          "output_type": "stream",
          "name": "stdout",
          "text": [
            "3600:\tlearn: 289.4809636\ttest: 268.5843528\tbest: 268.5843528 (3600)\ttotal: 41.4s\tremaining: 4.58s\n"
          ]
        },
        {
          "output_type": "stream",
          "name": "stdout",
          "text": [
            "3800:\tlearn: 287.6960355\ttest: 266.9463690\tbest: 266.9463690 (3800)\ttotal: 43.6s\tremaining: 2.28s\n"
          ]
        },
        {
          "output_type": "stream",
          "name": "stdout",
          "text": [
            "3999:\tlearn: 285.9467374\ttest: 265.3445841\tbest: 265.3445841 (3999)\ttotal: 45.9s\tremaining: 0us\nbestTest = 265.3445841\nbestIteration = 3999\n"
          ]
        },
        {
          "output_type": "stream",
          "name": "stdout",
          "text": [
            "0:\tlearn: 466.5433132\ttest: 383.2706597\tbest: 383.2706597 (0)\ttotal: 10.5ms\tremaining: 12.6s\n"
          ]
        },
        {
          "output_type": "stream",
          "name": "stdout",
          "text": [
            "bestTest = 237.5064337\nbestIteration = 70\nShrink model to first 71 iterations.\nFold 4 done in 48.8s\n"
          ]
        },
        {
          "output_type": "stream",
          "name": "stdout",
          "text": [
            "Best temporal OOF Laplace: -8.18100 @ s=1.4, a=0.0, b=0.3\nTotal training time: 243.1s\nTrain columns: ['baseline_week', 'weeks_since_baseline', 'wsb_sq', 'abs_wsb', 'log_abs_wsb', 'visit_index', 'visits_remaining', 'mean_percent', 'wsb_x_percent', 'age_x_sex', 'percent_x_age', 'sex_num', 'Percent', 'Age', 'Sex', 'SmokingStatus']\nCat idx full: [14, 15]\n0:\tlearn: 317.6567880\ttotal: 11.4ms\tremaining: 45.7s\n"
          ]
        },
        {
          "output_type": "stream",
          "name": "stdout",
          "text": [
            "200:\tlearn: 315.7673736\ttotal: 2.17s\tremaining: 41s\n"
          ]
        },
        {
          "output_type": "stream",
          "name": "stdout",
          "text": [
            "400:\tlearn: 313.7834918\ttotal: 4.38s\tremaining: 39.3s\n"
          ]
        },
        {
          "output_type": "stream",
          "name": "stdout",
          "text": [
            "600:\tlearn: 311.8132622\ttotal: 6.58s\tremaining: 37.2s\n"
          ]
        },
        {
          "output_type": "stream",
          "name": "stdout",
          "text": [
            "800:\tlearn: 309.8558555\ttotal: 8.79s\tremaining: 35.1s\n"
          ]
        },
        {
          "output_type": "stream",
          "name": "stdout",
          "text": [
            "1000:\tlearn: 307.9211352\ttotal: 11s\tremaining: 33s\n"
          ]
        },
        {
          "output_type": "stream",
          "name": "stdout",
          "text": [
            "1200:\tlearn: 306.0111639\ttotal: 13.2s\tremaining: 30.8s\n"
          ]
        },
        {
          "output_type": "stream",
          "name": "stdout",
          "text": [
            "1400:\tlearn: 304.1133877\ttotal: 15.4s\tremaining: 28.6s\n"
          ]
        },
        {
          "output_type": "stream",
          "name": "stdout",
          "text": [
            "1600:\tlearn: 302.2182344\ttotal: 17.7s\tremaining: 26.5s\n"
          ]
        },
        {
          "output_type": "stream",
          "name": "stdout",
          "text": [
            "1800:\tlearn: 300.3289096\ttotal: 19.9s\tremaining: 24.3s\n"
          ]
        },
        {
          "output_type": "stream",
          "name": "stdout",
          "text": [
            "2000:\tlearn: 298.4419835\ttotal: 22.1s\tremaining: 22.1s\n"
          ]
        },
        {
          "output_type": "stream",
          "name": "stdout",
          "text": [
            "2200:\tlearn: 296.5579268\ttotal: 24.3s\tremaining: 19.9s\n"
          ]
        },
        {
          "output_type": "stream",
          "name": "stdout",
          "text": [
            "2400:\tlearn: 294.6771879\ttotal: 26.6s\tremaining: 17.7s\n"
          ]
        },
        {
          "output_type": "stream",
          "name": "stdout",
          "text": [
            "2600:\tlearn: 292.8026811\ttotal: 28.8s\tremaining: 15.5s\n"
          ]
        },
        {
          "output_type": "stream",
          "name": "stdout",
          "text": [
            "2800:\tlearn: 290.9314921\ttotal: 31s\tremaining: 13.3s\n"
          ]
        },
        {
          "output_type": "stream",
          "name": "stdout",
          "text": [
            "3000:\tlearn: 289.0681268\ttotal: 33.2s\tremaining: 11.1s\n"
          ]
        },
        {
          "output_type": "stream",
          "name": "stdout",
          "text": [
            "3200:\tlearn: 287.2113074\ttotal: 35.5s\tremaining: 8.85s\n"
          ]
        },
        {
          "output_type": "stream",
          "name": "stdout",
          "text": [
            "3400:\tlearn: 285.3674453\ttotal: 37.7s\tremaining: 6.64s\n"
          ]
        },
        {
          "output_type": "stream",
          "name": "stdout",
          "text": [
            "3600:\tlearn: 283.5299498\ttotal: 39.9s\tremaining: 4.42s\n"
          ]
        },
        {
          "output_type": "stream",
          "name": "stdout",
          "text": [
            "3800:\tlearn: 281.6949426\ttotal: 42.2s\tremaining: 2.21s\n"
          ]
        },
        {
          "output_type": "stream",
          "name": "stdout",
          "text": [
            "3999:\tlearn: 279.8897283\ttotal: 44.4s\tremaining: 0us\n"
          ]
        },
        {
          "output_type": "stream",
          "name": "stdout",
          "text": [
            "0:\tlearn: 455.1160604\ttotal: 9.6ms\tremaining: 11.5s\n"
          ]
        },
        {
          "output_type": "stream",
          "name": "stdout",
          "text": [
            "200:\tlearn: 165.5703069\ttotal: 1.8s\tremaining: 8.95s\n"
          ]
        },
        {
          "output_type": "stream",
          "name": "stdout",
          "text": [
            "400:\tlearn: 120.8812690\ttotal: 3.6s\tremaining: 7.17s\n"
          ]
        },
        {
          "output_type": "stream",
          "name": "stdout",
          "text": [
            "600:\tlearn: 105.2747039\ttotal: 5.32s\tremaining: 5.3s\n"
          ]
        },
        {
          "output_type": "stream",
          "name": "stdout",
          "text": [
            "800:\tlearn: 94.1576222\ttotal: 7.08s\tremaining: 3.53s\n"
          ]
        },
        {
          "output_type": "stream",
          "name": "stdout",
          "text": [
            "1000:\tlearn: 87.6614027\ttotal: 8.81s\tremaining: 1.75s\n"
          ]
        },
        {
          "output_type": "stream",
          "name": "stdout",
          "text": [
            "1199:\tlearn: 84.1065117\ttotal: 10.6s\tremaining: 0us\nSaved submission.csv\nTemporal OOF Laplace: -8.180996468548859 Sigma params: (1.4, 0.0, 0.3)\n"
          ]
        }
      ]
    },
    {
      "id": "d6c5063b-237e-4ce3-ac75-f4ee38c69df0",
      "cell_type": "code",
      "metadata": {},
      "source": [
        "# Pivot to within-patient temporal CV with per-patient Huber baseline, blending, and strengthened sigma\n",
        "import numpy as np, pandas as pd, time, pickle, sys, subprocess as sp\n",
        "from sklearn.linear_model import HuberRegressor\n",
        "\n",
        "try:\n",
        "    import catboost as cb\n",
        "except Exception:\n",
        "    sp.run([sys.executable, '-m', 'pip', 'install', 'catboost==1.2.5'], check=True)\n",
        "    import catboost as cb\n",
        "\n",
        "PID, WEEK, TARGET = 'Patient','Weeks','FVC'\n",
        "CAT_COLS = ['Sex','SmokingStatus']\n",
        "NUM_COLS = ['Percent','Age']\n",
        "\n",
        "if 'train' not in globals():\n",
        "    train = pd.read_csv('train.csv')\n",
        "\n",
        "def build_patient_groups(df, n_splits=5, seed=42):\n",
        "    pids = df[PID].unique()\n",
        "    rng = np.random.default_rng(seed)\n",
        "    rng.shuffle(pids)\n",
        "    groups = np.array_split(pids, n_splits)\n",
        "    return [list(g) for g in groups]\n",
        "\n",
        "def last_k_indices_per_patient(df, k=2):\n",
        "    idx = []\n",
        "    for pid, g in df.groupby(PID):\n",
        "        g_sorted = g.sort_values(WEEK)\n",
        "        idx.extend(g_sorted.index[-k:].tolist())\n",
        "    return set(idx)\n",
        "\n",
        "def huber_slope_intercept(prior_weeks, prior_fvc):\n",
        "    n = len(prior_weeks)\n",
        "    if n >= 2:\n",
        "        X = np.asarray(prior_weeks, dtype=float).reshape(-1,1)\n",
        "        y = np.asarray(prior_fvc, dtype=float)\n",
        "        try:\n",
        "            model = HuberRegressor(epsilon=1.35, alpha=0.0, fit_intercept=True, max_iter=200).fit(X, y)\n",
        "            slope = float(model.coef_[0]); intercept = float(model.intercept_)\n",
        "            yhat = model.predict(X); rmse = float(np.sqrt(np.mean((y - yhat)**2)))\n",
        "        except Exception:\n",
        "            # fallback to OLS\n",
        "            x = X[:,0]; y = y\n",
        "            x_mean, y_mean = x.mean(), y.mean()\n",
        "            sxx = np.sum((x-x_mean)**2) + 1e-6\n",
        "            sxy = np.sum((x-x_mean)*(y-y_mean))\n",
        "            slope = sxy / sxx; intercept = y_mean - slope * x_mean\n",
        "            rmse = float(np.sqrt(np.mean((y - (slope*x + intercept))**2)))\n",
        "        return slope, intercept, rmse\n",
        "    elif n == 1:\n",
        "        return 0.0, float(prior_fvc[0]), 120.0\n",
        "    else:\n",
        "        return 0.0, np.nan, 120.0\n",
        "\n",
        "def build_temporal_features_for_fold(tr_df, va_df):\n",
        "    # Precompute safe time proxies (Weeks only): baseline_week per patient from all rows (train set only)\n",
        "    basew_map = tr_df.groupby(PID)[WEEK].min()\n",
        "    # Build history dicts from training part only\n",
        "    hist = {}  # pid -> list of tuples (week, fvc, percent)\n",
        "    for pid, g in tr_df.groupby(PID):\n",
        "        gg = g.sort_values(WEEK)\n",
        "        hist[pid] = list(zip(gg[WEEK].tolist(), gg[TARGET].tolist(), gg['Percent'].tolist()))\n",
        "\n",
        "    def build_one_side(df_side, use_training_history_only):\n",
        "        rows = []\n",
        "        for pid, g in df_side.groupby(PID):\n",
        "            g_sorted = g.sort_values(WEEK)\n",
        "            prior_list = hist.get(pid, []) if use_training_history_only else []\n",
        "            for idx, r in g_sorted.iterrows():\n",
        "                w = float(r[WEEK]); pct = float(r['Percent']); age = float(r['Age'])\n",
        "                sex = r['Sex']; smoke = r['SmokingStatus']\n",
        "                # Use only prior visits with week < current\n",
        "                prior_weeks = [pw for (pw, pf, pp) in prior_list if pw < w]\n",
        "                prior_fvc = [pf for (pw, pf, pp) in prior_list if pw < w]\n",
        "                prior_pct = [pp for (pw, pf, pp) in prior_list if pw < w]\n",
        "                slope, intercept, prmse = huber_slope_intercept(prior_weeks, prior_fvc)\n",
        "                mu_lin = (intercept + slope * w) if np.isfinite(intercept) else np.nan\n",
        "                vcount = len(prior_weeks)\n",
        "                basew = float(basew_map.get(pid, np.nan))\n",
        "                wsb = w - basew if np.isfinite(basew) else np.nan\n",
        "                abs_wsb = abs(wsb) if np.isfinite(wsb) else np.nan\n",
        "                # short-horizon dynamics\n",
        "                if vcount > 0:\n",
        "                    last_w = prior_weeks[-1]\n",
        "                    last_pct = prior_pct[-1]\n",
        "                else:\n",
        "                    last_w = basew if np.isfinite(basew) else w\n",
        "                    last_pct = pct\n",
        "                weeks_since_last = w - last_w if np.isfinite(w) and np.isfinite(last_w) else np.nan\n",
        "                delta_percent_last = pct - last_pct if np.isfinite(pct) and np.isfinite(last_pct) else 0.0\n",
        "                mean_pct_prior = (np.mean(prior_pct) if len(prior_pct) > 0 else np.nan)\n",
        "                sex_num = 1 if sex == 'Male' else 0\n",
        "                rows.append({\n",
        "                    'idx': idx,\n",
        "                    'Patient': pid,\n",
        "                    'Weeks': w,\n",
        "                    'baseline_week': basew,\n",
        "                    'weeks_since_baseline': wsb,\n",
        "                    'abs_wsb': abs_wsb,\n",
        "                    'log_abs_wsb': np.log1p(abs_wsb) if np.isfinite(abs_wsb) else np.nan,\n",
        "                    'visit_count_so_far': vcount,\n",
        "                    'visit_index_so_far': vcount,\n",
        "                    'mean_percent_so_far': mean_pct_prior,\n",
        "                    'slope_prior': slope,\n",
        "                    'intercept_prior': intercept,\n",
        "                    'mu_lin': mu_lin,\n",
        "                    'patient_RMSE': prmse,\n",
        "                    'weeks_since_last': weeks_since_last,\n",
        "                    'delta_percent_last': delta_percent_last,\n",
        "                    'wsb_x_percent': (wsb * pct) if np.isfinite(wsb) else np.nan,\n",
        "                    'age_x_sex': age * sex_num,\n",
        "                    'percent_x_age': pct * age,\n",
        "                    'sex_num': sex_num,\n",
        "                    'Percent': pct, 'Age': age, 'Sex': sex, 'SmokingStatus': smoke\n",
        "                })\n",
        "        feats = pd.DataFrame(rows).set_index('idx').sort_index()\n",
        "        return feats\n",
        "\n",
        "    X_tr = build_one_side(tr_df, use_training_history_only=True)\n",
        "    X_va = build_one_side(va_df, use_training_history_only=True)\n",
        "    return X_tr, X_va\n",
        "\n",
        "def temporal_cv_with_blend_and_sigma(train, n_splits=5, seed=42, temporal_k=2):\n",
        "    t0 = time.time()\n",
        "    train_sorted = train.sort_values([PID, WEEK]).reset_index(drop=False).rename(columns={'index':'orig_idx'})\n",
        "    patient_groups = build_patient_groups(train_sorted, n_splits=n_splits, seed=seed)\n",
        "    n = len(train_sorted)\n",
        "    oof_mu_cat = np.full(n, np.nan, dtype=float)\n",
        "    oof_mu_lin = np.full(n, np.nan, dtype=float)\n",
        "    oof_sigma_raw = np.full(n, np.nan, dtype=float)\n",
        "    oof_abs_wsb = np.full(n, np.nan, dtype=float)\n",
        "    oof_prmse = np.full(n, np.nan, dtype=float)\n",
        "    cat_models, sig_models = [], []\n",
        "    for fi in range(n_splits):\n",
        "        val_pids = set(patient_groups[fi])\n",
        "        va_mask_pat = train_sorted[PID].isin(val_pids)\n",
        "        # Validation rows: last-2 per patient among val patients\n",
        "        va_rows = train_sorted[va_mask_pat]\n",
        "        va_last2_idx = last_k_indices_per_patient(va_rows.set_index('orig_idx'), k=temporal_k)\n",
        "        va_mask = train_sorted['orig_idx'].isin(va_last2_idx)\n",
        "        tr_mask = ~va_mask\n",
        "        tr_df = train_sorted.loc[tr_mask, [PID, WEEK, TARGET, 'Percent', 'Age', 'Sex', 'SmokingStatus']].copy()\n",
        "        va_df = train_sorted.loc[va_mask, [PID, WEEK, TARGET, 'Percent', 'Age', 'Sex', 'SmokingStatus']].copy()\n",
        "        # Build causal features using only training history for both sides\n",
        "        X_tr, X_va = build_temporal_features_for_fold(tr_df, va_df)\n",
        "        # Drop ID/time columns from features before CatBoost\n",
        "        X_tr = X_tr.drop(columns=[PID, WEEK], errors='ignore')\n",
        "        X_va = X_va.drop(columns=[PID, WEEK], errors='ignore')\n",
        "        y_tr, y_va = tr_df[TARGET].values, va_df[TARGET].values\n",
        "        # CatBoost mu (median)\n",
        "        task_type = 'GPU'\n",
        "        try:\n",
        "            cb.CatBoostRegressor(task_type=task_type)\n",
        "        except Exception:\n",
        "            task_type = 'CPU'\n",
        "        mu_model = cb.CatBoostRegressor(depth=6, learning_rate=0.06, iterations=3000, l2_leaf_reg=8.0,\n",
        "                                        loss_function='Quantile:alpha=0.5', bootstrap_type='Bernoulli', subsample=0.8,\n",
        "                                        random_seed=seed, early_stopping_rounds=200, task_type=task_type, verbose=200, allow_writing_files=False)\n",
        "        cat_idx = [X_tr.columns.get_loc(c) for c in CAT_COLS if c in X_tr.columns]\n",
        "        mu_model.fit(X_tr, y_tr, eval_set=(X_va, y_va), cat_features=cat_idx, verbose=200)\n",
        "        mu_va_cat = mu_model.predict(X_va)\n",
        "        # Linear baseline mu on val (already computed in features)\n",
        "        mu_va_lin = X_va['mu_lin'].values\n",
        "        oof_mu_cat[va_mask.values] = mu_va_cat\n",
        "        oof_mu_lin[va_mask.values] = mu_va_lin\n",
        "        # sigma raw model on |residual_cat|\n",
        "        res_tr = np.abs(y_tr - mu_model.predict(X_tr))\n",
        "        sig_model = cb.CatBoostRegressor(depth=5, learning_rate=0.05, iterations=1200, l2_leaf_reg=6.0, loss_function='RMSE',\n",
        "                                         bootstrap_type='Bernoulli', subsample=0.9,\n",
        "                                         random_seed=seed, early_stopping_rounds=100, task_type=task_type, verbose=200, allow_writing_files=False)\n",
        "        sig_model.fit(X_tr, res_tr, eval_set=(X_va, np.abs(y_va - mu_va_cat)), cat_features=cat_idx, verbose=200)\n",
        "        sig_va = np.maximum(sig_model.predict(X_va), 5.0)\n",
        "        oof_sigma_raw[va_mask.values] = sig_va\n",
        "        oof_abs_wsb[va_mask.values] = np.asarray(X_va['abs_wsb'].values, dtype=float)\n",
        "        oof_prmse[va_mask.values] = np.asarray(X_va['patient_RMSE'].values, dtype=float)\n",
        "        cat_models.append(mu_model); sig_models.append(sig_model)\n",
        "        print(f\"Fold {fi} done. tr={tr_mask.sum()} va={va_mask.sum()}\")\n",
        "    # Choose blend weight on last-2 OOF\n",
        "    y_oof = train_sorted[TARGET].values\n",
        "    valid_mask = ~np.isnan(oof_mu_cat) & ~np.isnan(oof_mu_lin)\n",
        "    ws = [0.3, 0.5, 0.7]\n",
        "    best_w, best_ll = 0.5, -1e9\n",
        "    for w in ws:\n",
        "        mu_blend = w * oof_mu_cat[valid_mask] + (1-w) * oof_mu_lin[valid_mask]\n",
        "        sigma_tmp = np.maximum(oof_sigma_raw[valid_mask], 70.0)  # placeholder\n",
        "        scr = laplace_log_likelihood(y_oof[valid_mask], mu_blend, sigma_tmp, sigma_floor=70.0, error_clip=1000.0)\n",
        "        if scr > best_ll:\n",
        "            best_ll, best_w = scr, w\n",
        "    print(f\"Blend weight selected: w={best_w} (CatBoost weight)\")\n",
        "    # Sigma calibration with patient_RMSE and |wsb|\n",
        "    scale_grid = [1.0, 1.2, 1.4]\n",
        "    a_grid = [0, 20, 40]\n",
        "    b_grid = [0.3, 0.6, 1.0]\n",
        "    c_grid = [0.8, 1.0, 1.2]\n",
        "    best_params, best_score = (1.0, 0.0, 0.6, 1.0), -1e9\n",
        "    for s in scale_grid:\n",
        "        for a in a_grid:\n",
        "            for b in b_grid:\n",
        "                for c in c_grid:\n",
        "                    mu_blend = best_w * oof_mu_cat[valid_mask] + (1-best_w) * oof_mu_lin[valid_mask]\n",
        "                    sig = np.maximum(oof_sigma_raw[valid_mask] * s, a + b * oof_abs_wsb[valid_mask])\n",
        "                    sig = np.maximum(sig, c * oof_prmse[valid_mask])\n",
        "                    sig = np.maximum(sig, 70.0)\n",
        "                    scr = laplace_log_likelihood(y_oof[valid_mask], mu_blend, sig, sigma_floor=70.0, error_clip=1000.0)\n",
        "                    if scr > best_score:\n",
        "                        best_score, best_params = scr, (s, a, b, c)\n",
        "    print(f\"Temporal OOF (last-2) with blend+sigma: {best_score:.5f} @ params {best_params}\")\n",
        "    return dict(best_w=best_w, sigma_params=best_params, oof_score=best_score,\n",
        "                oof_masks=valid_mask, oof_mu_cat=oof_mu_cat, oof_mu_lin=oof_mu_lin,\n",
        "                oof_sigma_raw=oof_sigma_raw, oof_abs_wsb=oof_abs_wsb, oof_prmse=oof_prmse,\n",
        "                train_sorted=train_sorted, models=(cat_models, sig_models))\n",
        "\n",
        "# Run the new temporal CV pipeline (this does NOT overwrite previous submission yet)\n",
        "res = temporal_cv_with_blend_and_sigma(train, n_splits=5, seed=42, temporal_k=2)\n",
        "print('Done temporal CV pivot. Best OOF:', res['oof_score'])"
      ],
      "execution_count": 11,
      "outputs": [
        {
          "output_type": "stream",
          "name": "stdout",
          "text": [
            "0:\tlearn: 319.3757989\ttest: 282.3315430\tbest: 282.3315430 (0)\ttotal: 12.2ms\tremaining: 36.5s\n"
          ]
        },
        {
          "output_type": "stream",
          "name": "stdout",
          "text": [
            "200:\tlearn: 317.2689145\ttest: 280.0167847\tbest: 280.0167847 (200)\ttotal: 2.23s\tremaining: 31.1s\n"
          ]
        },
        {
          "output_type": "stream",
          "name": "stdout",
          "text": [
            "400:\tlearn: 315.1165648\ttest: 277.6965332\tbest: 277.6965332 (400)\ttotal: 4.54s\tremaining: 29.4s\n"
          ]
        },
        {
          "output_type": "stream",
          "name": "stdout",
          "text": [
            "600:\tlearn: 312.9640273\ttest: 275.4343872\tbest: 275.4343872 (600)\ttotal: 6.85s\tremaining: 27.3s\n"
          ]
        },
        {
          "output_type": "stream",
          "name": "stdout",
          "text": [
            "800:\tlearn: 310.8187030\ttest: 273.1909180\tbest: 273.1909180 (800)\ttotal: 9.13s\tremaining: 25.1s\n"
          ]
        },
        {
          "output_type": "stream",
          "name": "stdout",
          "text": [
            "1000:\tlearn: 308.6726034\ttest: 270.9464111\tbest: 270.9464111 (1000)\ttotal: 11.4s\tremaining: 22.8s\n"
          ]
        },
        {
          "output_type": "stream",
          "name": "stdout",
          "text": [
            "1200:\tlearn: 306.5354323\ttest: 268.6971436\tbest: 268.6971436 (1200)\ttotal: 13.7s\tremaining: 20.5s\n"
          ]
        },
        {
          "output_type": "stream",
          "name": "stdout",
          "text": [
            "1400:\tlearn: 304.4066729\ttest: 266.4485168\tbest: 266.4485168 (1400)\ttotal: 15.9s\tremaining: 18.2s\n"
          ]
        },
        {
          "output_type": "stream",
          "name": "stdout",
          "text": [
            "1600:\tlearn: 302.2837876\ttest: 264.1950989\tbest: 264.1950989 (1600)\ttotal: 18.2s\tremaining: 15.9s\n"
          ]
        },
        {
          "output_type": "stream",
          "name": "stdout",
          "text": [
            "1800:\tlearn: 300.1725094\ttest: 261.9597473\tbest: 261.9597473 (1800)\ttotal: 20.5s\tremaining: 13.6s\n"
          ]
        },
        {
          "output_type": "stream",
          "name": "stdout",
          "text": [
            "2000:\tlearn: 298.0672227\ttest: 259.7301025\tbest: 259.7301025 (2000)\ttotal: 22.7s\tremaining: 11.4s\n"
          ]
        },
        {
          "output_type": "stream",
          "name": "stdout",
          "text": [
            "2200:\tlearn: 295.9880169\ttest: 257.4981995\tbest: 257.4981995 (2200)\ttotal: 25s\tremaining: 9.07s\n"
          ]
        },
        {
          "output_type": "stream",
          "name": "stdout",
          "text": [
            "2400:\tlearn: 293.9171288\ttest: 255.2530518\tbest: 255.2530518 (2400)\ttotal: 27.3s\tremaining: 6.8s\n"
          ]
        },
        {
          "output_type": "stream",
          "name": "stdout",
          "text": [
            "2600:\tlearn: 291.8621711\ttest: 253.0214996\tbest: 253.0214996 (2600)\ttotal: 29.5s\tremaining: 4.53s\n"
          ]
        },
        {
          "output_type": "stream",
          "name": "stdout",
          "text": [
            "2800:\tlearn: 289.8183271\ttest: 250.8044434\tbest: 250.8044434 (2800)\ttotal: 31.8s\tremaining: 2.26s\n"
          ]
        },
        {
          "output_type": "stream",
          "name": "stdout",
          "text": [
            "2999:\tlearn: 287.7962876\ttest: 248.6183167\tbest: 248.6183167 (2999)\ttotal: 34.1s\tremaining: 0us\nbestTest = 248.6183167\nbestIteration = 2999\n"
          ]
        },
        {
          "output_type": "stream",
          "name": "stdout",
          "text": [
            "0:\tlearn: 463.8598181\ttest: 403.3011243\tbest: 403.3011243 (0)\ttotal: 10.2ms\tremaining: 12.2s\n"
          ]
        },
        {
          "output_type": "stream",
          "name": "stdout",
          "text": [
            "200:\tlearn: 155.5446410\ttest: 153.8729564\tbest: 153.8729564 (200)\ttotal: 1.86s\tremaining: 9.27s\n"
          ]
        },
        {
          "output_type": "stream",
          "name": "stdout",
          "text": [
            "400:\tlearn: 136.3528869\ttest: 143.8910721\tbest: 143.8910721 (400)\ttotal: 3.69s\tremaining: 7.35s\n"
          ]
        },
        {
          "output_type": "stream",
          "name": "stdout",
          "text": [
            "600:\tlearn: 127.2451721\ttest: 140.9080346\tbest: 140.9080346 (600)\ttotal: 5.4s\tremaining: 5.38s\n"
          ]
        },
        {
          "output_type": "stream",
          "name": "stdout",
          "text": [
            "800:\tlearn: 120.6314589\ttest: 136.7654242\tbest: 136.7607543 (799)\ttotal: 7.16s\tremaining: 3.57s\n"
          ]
        },
        {
          "output_type": "stream",
          "name": "stdout",
          "text": [
            "1000:\tlearn: 112.7045709\ttest: 131.6404312\tbest: 131.6128467 (979)\ttotal: 8.97s\tremaining: 1.78s\n"
          ]
        },
        {
          "output_type": "stream",
          "name": "stdout",
          "text": [
            "1199:\tlearn: 108.7267528\ttest: 127.9168278\tbest: 127.9159232 (1194)\ttotal: 10.8s\tremaining: 0us\nbestTest = 127.9159232\nbestIteration = 1194\nShrink model to first 1195 iterations.\nFold 0 done. tr=1330 va=64\n"
          ]
        },
        {
          "output_type": "stream",
          "name": "stdout",
          "text": [
            "0:\tlearn: 318.7352679\ttest: 296.4899292\tbest: 296.4899292 (0)\ttotal: 12.3ms\tremaining: 37s\n"
          ]
        },
        {
          "output_type": "stream",
          "name": "stdout",
          "text": [
            "200:\tlearn: 316.6129934\ttest: 294.4700928\tbest: 294.4700928 (200)\ttotal: 2.19s\tremaining: 30.4s\n"
          ]
        },
        {
          "output_type": "stream",
          "name": "stdout",
          "text": [
            "400:\tlearn: 314.4530075\ttest: 292.4828491\tbest: 292.4828491 (400)\ttotal: 4.45s\tremaining: 28.9s\n"
          ]
        },
        {
          "output_type": "stream",
          "name": "stdout",
          "text": [
            "600:\tlearn: 312.2956532\ttest: 290.5000000\tbest: 290.5000000 (600)\ttotal: 6.73s\tremaining: 26.9s\n"
          ]
        },
        {
          "output_type": "stream",
          "name": "stdout",
          "text": [
            "800:\tlearn: 310.1394972\ttest: 288.5140381\tbest: 288.5140381 (800)\ttotal: 9.02s\tremaining: 24.8s\n"
          ]
        },
        {
          "output_type": "stream",
          "name": "stdout",
          "text": [
            "1000:\tlearn: 307.9879699\ttest: 286.5328979\tbest: 286.5328979 (1000)\ttotal: 11.3s\tremaining: 22.6s\n"
          ]
        },
        {
          "output_type": "stream",
          "name": "stdout",
          "text": [
            "1200:\tlearn: 305.8437030\ttest: 284.5582886\tbest: 284.5582886 (1200)\ttotal: 13.6s\tremaining: 20.4s\n"
          ]
        },
        {
          "output_type": "stream",
          "name": "stdout",
          "text": [
            "1400:\tlearn: 303.7030545\ttest: 282.5732727\tbest: 282.5732727 (1400)\ttotal: 15.9s\tremaining: 18.1s\n"
          ]
        },
        {
          "output_type": "stream",
          "name": "stdout",
          "text": [
            "1600:\tlearn: 301.5622650\ttest: 280.5863037\tbest: 280.5863037 (1600)\ttotal: 18.2s\tremaining: 15.9s\n"
          ]
        },
        {
          "output_type": "stream",
          "name": "stdout",
          "text": [
            "1800:\tlearn: 299.4241541\ttest: 278.6596680\tbest: 278.6596680 (1800)\ttotal: 20.5s\tremaining: 13.6s\n"
          ]
        },
        {
          "output_type": "stream",
          "name": "stdout",
          "text": [
            "2000:\tlearn: 297.3071194\ttest: 276.7237549\tbest: 276.7237549 (2000)\ttotal: 22.8s\tremaining: 11.4s\n"
          ]
        },
        {
          "output_type": "stream",
          "name": "stdout",
          "text": [
            "2200:\tlearn: 295.2059680\ttest: 274.7947693\tbest: 274.7947693 (2200)\ttotal: 25s\tremaining: 9.09s\n"
          ]
        },
        {
          "output_type": "stream",
          "name": "stdout",
          "text": [
            "2400:\tlearn: 293.1289004\ttest: 272.8570557\tbest: 272.8570557 (2400)\ttotal: 27.3s\tremaining: 6.82s\n"
          ]
        },
        {
          "output_type": "stream",
          "name": "stdout",
          "text": [
            "2600:\tlearn: 291.0616071\ttest: 270.9183960\tbest: 270.9183960 (2600)\ttotal: 29.6s\tremaining: 4.54s\n"
          ]
        },
        {
          "output_type": "stream",
          "name": "stdout",
          "text": [
            "2800:\tlearn: 289.0278430\ttest: 268.9694824\tbest: 268.9694824 (2800)\ttotal: 31.9s\tremaining: 2.27s\n"
          ]
        },
        {
          "output_type": "stream",
          "name": "stdout",
          "text": [
            "2999:\tlearn: 287.0116541\ttest: 267.0469360\tbest: 267.0469360 (2999)\ttotal: 34.2s\tremaining: 0us\nbestTest = 267.046936\nbestIteration = 2999\n"
          ]
        },
        {
          "output_type": "stream",
          "name": "stdout",
          "text": [
            "0:\tlearn: 461.0442805\ttest: 436.7787984\tbest: 436.7787984 (0)\ttotal: 10ms\tremaining: 12s\n"
          ]
        },
        {
          "output_type": "stream",
          "name": "stdout",
          "text": [
            "200:\tlearn: 154.8011482\ttest: 139.2762823\tbest: 139.2615009 (199)\ttotal: 1.89s\tremaining: 9.38s\n"
          ]
        },
        {
          "output_type": "stream",
          "name": "stdout",
          "text": [
            "400:\tlearn: 140.8937209\ttest: 132.1925753\tbest: 131.9745847 (371)\ttotal: 3.66s\tremaining: 7.29s\n"
          ]
        },
        {
          "output_type": "stream",
          "name": "stdout",
          "text": [
            "600:\tlearn: 129.9065425\ttest: 125.6714389\tbest: 125.6714389 (600)\ttotal: 5.33s\tremaining: 5.31s\n"
          ]
        },
        {
          "output_type": "stream",
          "name": "stdout",
          "text": [
            "800:\tlearn: 126.2689218\ttest: 123.9758750\tbest: 123.6920911 (777)\ttotal: 7.15s\tremaining: 3.56s\n"
          ]
        },
        {
          "output_type": "stream",
          "name": "stdout",
          "text": [
            "1000:\tlearn: 121.2609068\ttest: 121.9004861\tbest: 121.9004861 (1000)\ttotal: 8.93s\tremaining: 1.77s\n"
          ]
        },
        {
          "output_type": "stream",
          "name": "stdout",
          "text": [
            "1199:\tlearn: 118.4984693\ttest: 120.9771051\tbest: 120.9556834 (1194)\ttotal: 10.8s\tremaining: 0us\nbestTest = 120.9556834\nbestIteration = 1194\nShrink model to first 1195 iterations.\nFold 1 done. tr=1330 va=64\n"
          ]
        },
        {
          "output_type": "stream",
          "name": "stdout",
          "text": [
            "0:\tlearn: 317.8813910\ttest: 313.1376953\tbest: 313.1376953 (0)\ttotal: 12.4ms\tremaining: 37.3s\n"
          ]
        },
        {
          "output_type": "stream",
          "name": "stdout",
          "text": [
            "200:\tlearn: 315.7775846\ttest: 310.9548340\tbest: 310.9548340 (200)\ttotal: 2.23s\tremaining: 31s\n"
          ]
        },
        {
          "output_type": "stream",
          "name": "stdout",
          "text": [
            "400:\tlearn: 313.6254229\ttest: 308.7806396\tbest: 308.7806396 (400)\ttotal: 4.52s\tremaining: 29.3s\n"
          ]
        },
        {
          "output_type": "stream",
          "name": "stdout",
          "text": [
            "600:\tlearn: 311.4912594\ttest: 306.6112671\tbest: 306.6112671 (600)\ttotal: 6.79s\tremaining: 27.1s\n"
          ]
        },
        {
          "output_type": "stream",
          "name": "stdout",
          "text": [
            "800:\tlearn: 309.3650611\ttest: 304.4458618\tbest: 304.4458618 (800)\ttotal: 9.08s\tremaining: 24.9s\n"
          ]
        },
        {
          "output_type": "stream",
          "name": "stdout",
          "text": [
            "1000:\tlearn: 307.2378055\ttest: 302.2752075\tbest: 302.2752075 (1000)\ttotal: 11.4s\tremaining: 22.7s\n"
          ]
        },
        {
          "output_type": "stream",
          "name": "stdout",
          "text": [
            "1200:\tlearn: 305.1173167\ttest: 300.1213989\tbest: 300.1213989 (1200)\ttotal: 13.6s\tremaining: 20.4s\n"
          ]
        },
        {
          "output_type": "stream",
          "name": "stdout",
          "text": [
            "1400:\tlearn: 302.9973919\ttest: 297.9309082\tbest: 297.9309082 (1400)\ttotal: 15.9s\tremaining: 18.2s\n"
          ]
        },
        {
          "output_type": "stream",
          "name": "stdout",
          "text": [
            "1600:\tlearn: 300.8928806\ttest: 295.7507324\tbest: 295.7507324 (1600)\ttotal: 18.2s\tremaining: 15.9s\n"
          ]
        },
        {
          "output_type": "stream",
          "name": "stdout",
          "text": [
            "1800:\tlearn: 298.7965695\ttest: 293.5585327\tbest: 293.5585327 (1800)\ttotal: 20.5s\tremaining: 13.6s\n"
          ]
        },
        {
          "output_type": "stream",
          "name": "stdout",
          "text": [
            "2000:\tlearn: 296.7049812\ttest: 291.3536987\tbest: 291.3536987 (2000)\ttotal: 22.8s\tremaining: 11.4s\n"
          ]
        },
        {
          "output_type": "stream",
          "name": "stdout",
          "text": [
            "2200:\tlearn: 294.6263158\ttest: 289.2171021\tbest: 289.2171021 (2200)\ttotal: 25.1s\tremaining: 9.11s\n"
          ]
        },
        {
          "output_type": "stream",
          "name": "stdout",
          "text": [
            "2400:\tlearn: 292.5527256\ttest: 287.0905762\tbest: 287.0905762 (2400)\ttotal: 27.4s\tremaining: 6.83s\n"
          ]
        },
        {
          "output_type": "stream",
          "name": "stdout",
          "text": [
            "2600:\tlearn: 290.4913064\ttest: 284.9931335\tbest: 284.9931335 (2600)\ttotal: 29.7s\tremaining: 4.55s\n"
          ]
        },
        {
          "output_type": "stream",
          "name": "stdout",
          "text": [
            "2800:\tlearn: 288.4407425\ttest: 282.9027710\tbest: 282.9027710 (2800)\ttotal: 32s\tremaining: 2.27s\n"
          ]
        },
        {
          "output_type": "stream",
          "name": "stdout",
          "text": [
            "2999:\tlearn: 286.4216400\ttest: 280.8406982\tbest: 280.8406982 (2999)\ttotal: 34.2s\tremaining: 0us\nbestTest = 280.8406982\nbestIteration = 2999\n"
          ]
        },
        {
          "output_type": "stream",
          "name": "stdout",
          "text": [
            "0:\tlearn: 462.2490427\ttest: 437.7982555\tbest: 437.7982555 (0)\ttotal: 9.9ms\tremaining: 11.9s\n"
          ]
        },
        {
          "output_type": "stream",
          "name": "stdout",
          "text": [
            "200:\tlearn: 150.8704319\ttest: 159.9415176\tbest: 159.8823176 (199)\ttotal: 1.86s\tremaining: 9.26s\n"
          ]
        },
        {
          "output_type": "stream",
          "name": "stdout",
          "text": [
            "400:\tlearn: 136.4649725\ttest: 147.2405292\tbest: 147.2167898 (397)\ttotal: 3.7s\tremaining: 7.38s\n"
          ]
        },
        {
          "output_type": "stream",
          "name": "stdout",
          "text": [
            "600:\tlearn: 128.6351488\ttest: 140.7770844\tbest: 140.5931005 (595)\ttotal: 5.5s\tremaining: 5.48s\n"
          ]
        },
        {
          "output_type": "stream",
          "name": "stdout",
          "text": [
            "800:\tlearn: 120.1155834\ttest: 135.2973433\tbest: 135.2876998 (799)\ttotal: 7.32s\tremaining: 3.64s\n"
          ]
        },
        {
          "output_type": "stream",
          "name": "stdout",
          "text": [
            "1000:\tlearn: 112.3381710\ttest: 132.5027565\tbest: 132.4834011 (999)\ttotal: 9.17s\tremaining: 1.82s\n"
          ]
        },
        {
          "output_type": "stream",
          "name": "stdout",
          "text": [
            "bestTest = 132.2548587\nbestIteration = 1002\nShrink model to first 1003 iterations.\nFold 2 done. tr=1330 va=64\n"
          ]
        },
        {
          "output_type": "stream",
          "name": "stdout",
          "text": [
            "0:\tlearn: 318.2705049\ttest: 304.6284022\tbest: 304.6284022 (0)\ttotal: 11.3ms\tremaining: 34s\n"
          ]
        },
        {
          "output_type": "stream",
          "name": "stdout",
          "text": [
            "200:\tlearn: 316.1421265\ttest: 302.8116809\tbest: 302.8116809 (200)\ttotal: 2.19s\tremaining: 30.5s\n"
          ]
        },
        {
          "output_type": "stream",
          "name": "stdout",
          "text": [
            "400:\tlearn: 313.9672485\ttest: 300.9380670\tbest: 300.9380670 (400)\ttotal: 4.45s\tremaining: 28.9s\n"
          ]
        },
        {
          "output_type": "stream",
          "name": "stdout",
          "text": [
            "600:\tlearn: 311.8145880\ttest: 299.0778730\tbest: 299.0778730 (600)\ttotal: 6.73s\tremaining: 26.9s\n"
          ]
        },
        {
          "output_type": "stream",
          "name": "stdout",
          "text": [
            "800:\tlearn: 309.6689893\ttest: 297.2086064\tbest: 297.2086064 (800)\ttotal: 9.02s\tremaining: 24.8s\n"
          ]
        },
        {
          "output_type": "stream",
          "name": "stdout",
          "text": [
            "1000:\tlearn: 307.5203641\ttest: 295.3386782\tbest: 295.3386782 (1000)\ttotal: 11.3s\tremaining: 22.5s\n"
          ]
        },
        {
          "output_type": "stream",
          "name": "stdout",
          "text": [
            "1200:\tlearn: 305.3765719\ttest: 293.4762475\tbest: 293.4762475 (1200)\ttotal: 13.5s\tremaining: 20.3s\n"
          ]
        },
        {
          "output_type": "stream",
          "name": "stdout",
          "text": [
            "1400:\tlearn: 303.2349850\ttest: 291.6202432\tbest: 291.6202432 (1400)\ttotal: 15.8s\tremaining: 18s\n"
          ]
        },
        {
          "output_type": "stream",
          "name": "stdout",
          "text": [
            "1600:\tlearn: 301.1104073\ttest: 289.7878024\tbest: 289.7878024 (1600)\ttotal: 18.1s\tremaining: 15.8s\n"
          ]
        },
        {
          "output_type": "stream",
          "name": "stdout",
          "text": [
            "1800:\tlearn: 298.9984516\ttest: 288.0017956\tbest: 288.0017956 (1800)\ttotal: 20.4s\tremaining: 13.6s\n"
          ]
        },
        {
          "output_type": "stream",
          "name": "stdout",
          "text": [
            "2000:\tlearn: 296.8891704\ttest: 286.2455267\tbest: 286.2455267 (2000)\ttotal: 22.6s\tremaining: 11.3s\n"
          ]
        },
        {
          "output_type": "stream",
          "name": "stdout",
          "text": [
            "2200:\tlearn: 294.7831269\ttest: 284.4816658\tbest: 284.4816658 (2200)\ttotal: 24.9s\tremaining: 9.05s\n"
          ]
        },
        {
          "output_type": "stream",
          "name": "stdout",
          "text": [
            "2400:\tlearn: 292.6869839\ttest: 282.7297757\tbest: 282.7297757 (2400)\ttotal: 27.2s\tremaining: 6.78s\n"
          ]
        },
        {
          "output_type": "stream",
          "name": "stdout",
          "text": [
            "2600:\tlearn: 290.6024071\ttest: 280.9982989\tbest: 280.9982989 (2600)\ttotal: 29.4s\tremaining: 4.52s\n"
          ]
        },
        {
          "output_type": "stream",
          "name": "stdout",
          "text": [
            "2800:\tlearn: 288.5379364\ttest: 279.2640499\tbest: 279.2640499 (2800)\ttotal: 31.7s\tremaining: 2.25s\n"
          ]
        },
        {
          "output_type": "stream",
          "name": "stdout",
          "text": [
            "2999:\tlearn: 286.4988973\ttest: 277.5629095\tbest: 277.5629095 (2999)\ttotal: 34s\tremaining: 0us\nbestTest = 277.5629095\nbestIteration = 2999\n"
          ]
        },
        {
          "output_type": "stream",
          "name": "stdout",
          "text": [
            "0:\tlearn: 463.2841895\ttest: 461.9860353\tbest: 461.9860353 (0)\ttotal: 10.1ms\tremaining: 12.1s\n"
          ]
        },
        {
          "output_type": "stream",
          "name": "stdout",
          "text": [
            "200:\tlearn: 152.6418702\ttest: 179.9723769\tbest: 179.9723769 (200)\ttotal: 1.9s\tremaining: 9.46s\n"
          ]
        },
        {
          "output_type": "stream",
          "name": "stdout",
          "text": [
            "400:\tlearn: 135.1659252\ttest: 171.4106969\tbest: 171.4106969 (400)\ttotal: 3.77s\tremaining: 7.5s\n"
          ]
        },
        {
          "output_type": "stream",
          "name": "stdout",
          "text": [
            "600:\tlearn: 122.9053262\ttest: 165.2130528\tbest: 165.1539726 (599)\ttotal: 5.61s\tremaining: 5.59s\n"
          ]
        },
        {
          "output_type": "stream",
          "name": "stdout",
          "text": [
            "800:\tlearn: 116.8150408\ttest: 163.5859373\tbest: 163.0910282 (746)\ttotal: 7.46s\tremaining: 3.71s\n"
          ]
        },
        {
          "output_type": "stream",
          "name": "stdout",
          "text": [
            "bestTest = 163.0910282\nbestIteration = 746\nShrink model to first 747 iterations.\nFold 3 done. tr=1332 va=62\n"
          ]
        },
        {
          "output_type": "stream",
          "name": "stdout",
          "text": [
            "0:\tlearn: 312.8199371\ttest: 421.7694052\tbest: 421.7694052 (0)\ttotal: 12.2ms\tremaining: 36.6s\n"
          ]
        },
        {
          "output_type": "stream",
          "name": "stdout",
          "text": [
            "200:\tlearn: 310.7179992\ttest: 419.2553553\tbest: 419.2553553 (200)\ttotal: 2.17s\tremaining: 30.3s\n"
          ]
        },
        {
          "output_type": "stream",
          "name": "stdout",
          "text": [
            "400:\tlearn: 308.5712509\ttest: 416.6930444\tbest: 416.6930444 (400)\ttotal: 4.43s\tremaining: 28.7s\n"
          ]
        },
        {
          "output_type": "stream",
          "name": "stdout",
          "text": [
            "600:\tlearn: 306.4342624\ttest: 414.1337891\tbest: 414.1337891 (600)\ttotal: 6.7s\tremaining: 26.8s\n"
          ]
        },
        {
          "output_type": "stream",
          "name": "stdout",
          "text": [
            "800:\tlearn: 304.3018956\ttest: 411.5574597\tbest: 411.5574597 (800)\ttotal: 8.97s\tremaining: 24.6s\n"
          ]
        },
        {
          "output_type": "stream",
          "name": "stdout",
          "text": [
            "1000:\tlearn: 302.1789133\ttest: 408.9499748\tbest: 408.9499748 (1000)\ttotal: 11.2s\tremaining: 22.4s\n"
          ]
        },
        {
          "output_type": "stream",
          "name": "stdout",
          "text": [
            "1200:\tlearn: 300.0828407\ttest: 406.3719758\tbest: 406.3719758 (1200)\ttotal: 13.5s\tremaining: 20.3s\n"
          ]
        },
        {
          "output_type": "stream",
          "name": "stdout",
          "text": [
            "1400:\tlearn: 297.9923517\ttest: 403.8021988\tbest: 403.8021988 (1400)\ttotal: 15.8s\tremaining: 18.1s\n"
          ]
        },
        {
          "output_type": "stream",
          "name": "stdout",
          "text": [
            "1600:\tlearn: 295.8993759\ttest: 401.2304688\tbest: 401.2304688 (1600)\ttotal: 18.1s\tremaining: 15.8s\n"
          ]
        },
        {
          "output_type": "stream",
          "name": "stdout",
          "text": [
            "1800:\tlearn: 293.8185060\ttest: 398.6740171\tbest: 398.6740171 (1800)\ttotal: 20.4s\tremaining: 13.6s\n"
          ]
        },
        {
          "output_type": "stream",
          "name": "stdout",
          "text": [
            "2000:\tlearn: 291.7415541\ttest: 396.1033896\tbest: 396.1033896 (2000)\ttotal: 22.7s\tremaining: 11.3s\n"
          ]
        },
        {
          "output_type": "stream",
          "name": "stdout",
          "text": [
            "2200:\tlearn: 289.6787491\ttest: 393.5421812\tbest: 393.5421812 (2200)\ttotal: 25s\tremaining: 9.08s\n"
          ]
        },
        {
          "output_type": "stream",
          "name": "stdout",
          "text": [
            "2400:\tlearn: 287.6254692\ttest: 390.9866431\tbest: 390.9866431 (2400)\ttotal: 27.3s\tremaining: 6.81s\n"
          ]
        },
        {
          "output_type": "stream",
          "name": "stdout",
          "text": [
            "2600:\tlearn: 285.5777027\ttest: 388.4236391\tbest: 388.4236391 (2600)\ttotal: 29.6s\tremaining: 4.54s\n"
          ]
        },
        {
          "output_type": "stream",
          "name": "stdout",
          "text": [
            "2800:\tlearn: 283.5364114\ttest: 385.8571069\tbest: 385.8571069 (2800)\ttotal: 31.9s\tremaining: 2.26s\n"
          ]
        },
        {
          "output_type": "stream",
          "name": "stdout",
          "text": [
            "2999:\tlearn: 281.5072494\ttest: 383.3084677\tbest: 383.3084677 (2999)\ttotal: 34.1s\tremaining: 0us\nbestTest = 383.3084677\nbestIteration = 2999\n"
          ]
        },
        {
          "output_type": "stream",
          "name": "stdout",
          "text": [
            "0:\tlearn: 460.3879289\ttest: 519.5933894\tbest: 519.5933894 (0)\ttotal: 10.2ms\tremaining: 12.2s\n"
          ]
        },
        {
          "output_type": "stream",
          "name": "stdout",
          "text": [
            "200:\tlearn: 154.1141108\ttest: 212.7921237\tbest: 212.7921237 (200)\ttotal: 1.88s\tremaining: 9.33s\n"
          ]
        },
        {
          "output_type": "stream",
          "name": "stdout",
          "text": [
            "400:\tlearn: 138.0437325\ttest: 208.1301159\tbest: 207.7699954 (384)\ttotal: 3.69s\tremaining: 7.36s\n"
          ]
        },
        {
          "output_type": "stream",
          "name": "stdout",
          "text": [
            "600:\tlearn: 131.4667087\ttest: 205.8275194\tbest: 205.5806490 (599)\ttotal: 5.21s\tremaining: 5.19s\n"
          ]
        },
        {
          "output_type": "stream",
          "name": "stdout",
          "text": [
            "800:\tlearn: 121.0873472\ttest: 196.6488191\tbest: 196.5470374 (799)\ttotal: 7.04s\tremaining: 3.51s\n"
          ]
        },
        {
          "output_type": "stream",
          "name": "stdout",
          "text": [
            "1000:\tlearn: 112.4033385\ttest: 189.8557390\tbest: 189.7825687 (972)\ttotal: 8.91s\tremaining: 1.77s\n"
          ]
        },
        {
          "output_type": "stream",
          "name": "stdout",
          "text": [
            "1199:\tlearn: 107.0530832\ttest: 187.6230994\tbest: 187.4431957 (1174)\ttotal: 10.7s\tremaining: 0us\nbestTest = 187.4431957\nbestIteration = 1174\nShrink model to first 1175 iterations.\nFold 4 done. tr=1332 va=62\nBlend weight selected: w=0.3 (CatBoost weight)\nTemporal OOF (last-2) with blend+sigma: -7.51715 @ params (1.0, 0, 0.3, 1.2)\nDone temporal CV pivot. Best OOF: -7.517147066784831\n"
          ]
        }
      ]
    },
    {
      "id": "0c89b6e9-f78a-4941-9f74-ad6ca1dae351",
      "cell_type": "code",
      "metadata": {},
      "source": [
        "# Final training on full data with causal features; build submission using prior train history only\n",
        "import pandas as pd, numpy as np, time\n",
        "\n",
        "PID, WEEK, TARGET = 'Patient','Weeks','FVC'\n",
        "CAT_COLS = ['Sex','SmokingStatus']\n",
        "NUM_COLS = ['Percent','Age']\n",
        "\n",
        "assert 'res' in globals(), 'Run the temporal CV cell to obtain best weights/params (res dict).'\n",
        "best_w = res['best_w']\n",
        "s_best, a_best, b_best, c_best = res['sigma_params']\n",
        "print('Using blend weight (CatBoost):', best_w, 'Sigma params:', (s_best, a_best, b_best, c_best))\n",
        "\n",
        "try:\n",
        "    import catboost as cb\n",
        "except Exception:\n",
        "    import sys, subprocess as sp\n",
        "    sp.run([sys.executable, '-m', 'pip', 'install', 'catboost==1.2.5'], check=True)\n",
        "    import catboost as cb\n",
        "\n",
        "from sklearn.linear_model import HuberRegressor\n",
        "\n",
        "# Reuse feature builders from Cell 4, but generalize for full-data train and submission\n",
        "def huber_slope_intercept(prior_weeks, prior_fvc):\n",
        "    n = len(prior_weeks)\n",
        "    if n >= 2:\n",
        "        X = np.asarray(prior_weeks, dtype=float).reshape(-1,1)\n",
        "        y = np.asarray(prior_fvc, dtype=float)\n",
        "        try:\n",
        "            model = HuberRegressor(epsilon=1.35, alpha=0.0, fit_intercept=True, max_iter=200).fit(X, y)\n",
        "            slope = float(model.coef_[0]); intercept = float(model.intercept_)\n",
        "            yhat = model.predict(X); rmse = float(np.sqrt(np.mean((y - yhat)**2)))\n",
        "        except Exception:\n",
        "            x = X[:,0]; y = y\n",
        "            x_mean, y_mean = x.mean(), y.mean()\n",
        "            sxx = np.sum((x-x_mean)**2) + 1e-6\n",
        "            sxy = np.sum((x-x_mean)*(y-y_mean))\n",
        "            slope = sxy / sxx; intercept = y_mean - slope * x_mean\n",
        "            rmse = float(np.sqrt(np.mean((y - (slope*x + intercept))**2)))\n",
        "        return slope, intercept, rmse\n",
        "    elif n == 1:\n",
        "        return 0.0, float(prior_fvc[0]), 120.0\n",
        "    else:\n",
        "        return 0.0, np.nan, 120.0\n",
        "\n",
        "def build_history_from_train(train_df):\n",
        "    hist = {}\n",
        "    for pid, g in train_df.groupby(PID):\n",
        "        gg = g.sort_values(WEEK)\n",
        "        hist[pid] = list(zip(gg[WEEK].tolist(), gg[TARGET].tolist(), gg['Percent'].tolist()))\n",
        "    return hist\n",
        "\n",
        "def build_features_given_history(df_target, hist, basew_map):\n",
        "    rows = []\n",
        "    for pid, g in df_target.groupby(PID):\n",
        "        g_sorted = g.sort_values(WEEK)\n",
        "        prior_list = hist.get(pid, [])\n",
        "        for idx, r in g_sorted.iterrows():\n",
        "            w = float(r[WEEK]); pct = float(r['Percent']); age = float(r['Age'])\n",
        "            sex = r['Sex']; smoke = r['SmokingStatus']\n",
        "            prior_weeks = [pw for (pw, pf, pp) in prior_list if pw < w]\n",
        "            prior_fvc = [pf for (pw, pf, pp) in prior_list if pw < w]\n",
        "            prior_pct = [pp for (pw, pf, pp) in prior_list if pw < w]\n",
        "            slope, intercept, prmse = huber_slope_intercept(prior_weeks, prior_fvc)\n",
        "            mu_lin = (intercept + slope * w) if np.isfinite(intercept) else np.nan\n",
        "            vcount = len(prior_weeks)\n",
        "            basew = float(basew_map.get(pid, np.nan))\n",
        "            wsb = w - basew if np.isfinite(basew) else np.nan\n",
        "            abs_wsb = abs(wsb) if np.isfinite(wsb) else np.nan\n",
        "            sex_num = 1 if sex == 'Male' else 0\n",
        "            rows.append({\n",
        "                'idx': idx, 'Patient': pid, 'Weeks': w,\n",
        "                'baseline_week': basew, 'weeks_since_baseline': wsb,\n",
        "                'abs_wsb': abs_wsb, 'log_abs_wsb': np.log1p(abs_wsb) if np.isfinite(abs_wsb) else np.nan,\n",
        "                'visit_count_so_far': vcount, 'visit_index_so_far': vcount,\n",
        "                'mean_percent_so_far': (np.mean(prior_pct) if vcount > 0 else np.nan),\n",
        "                'slope_prior': slope, 'intercept_prior': intercept, 'mu_lin': mu_lin, 'patient_RMSE': prmse,\n",
        "                'wsb_x_percent': (wsb * pct) if np.isfinite(wsb) else np.nan,\n",
        "                'age_x_sex': age * sex_num, 'percent_x_age': pct * age, 'sex_num': sex_num,\n",
        "                'Percent': pct, 'Age': age, 'Sex': sex, 'SmokingStatus': smoke\n",
        "            })\n",
        "    feats = pd.DataFrame(rows).set_index('idx').sort_index()\n",
        "    return feats\n",
        "\n",
        "# Prepare full train sorted\n",
        "train_sorted = train.sort_values([PID, WEEK]).reset_index(drop=True)\n",
        "basew_map_full = train_sorted.groupby(PID)[WEEK].min()\n",
        "hist_train = build_history_from_train(train_sorted)\n",
        "X_train_full = build_features_given_history(train_sorted[[PID, WEEK, TARGET, 'Percent','Age','Sex','SmokingStatus']], hist_train, basew_map_full)\n",
        "y_full = train_sorted[TARGET].values\n",
        "X_train_full_cb = X_train_full.drop(columns=[PID, WEEK], errors='ignore')\n",
        "\n",
        "# Train CatBoost mu and sigma on full causal features\n",
        "task_type = 'GPU'\n",
        "try:\n",
        "    cb.CatBoostRegressor(task_type=task_type)\n",
        "except Exception:\n",
        "    task_type = 'CPU'\n",
        "mu_full = cb.CatBoostRegressor(depth=6, learning_rate=0.06, iterations=4000, l2_leaf_reg=8.0,\n",
        "                                loss_function='Quantile:alpha=0.5', bootstrap_type='Bernoulli', subsample=0.8,\n",
        "                                random_seed=42, early_stopping_rounds=200, task_type=task_type, verbose=200, allow_writing_files=False)\n",
        "cat_idx_full = [X_train_full_cb.columns.get_loc(c) for c in CAT_COLS if c in X_train_full_cb.columns]\n",
        "print('Train columns (full temporal):', list(X_train_full_cb.columns))\n",
        "print('Cat idx:', cat_idx_full)\n",
        "mu_full.fit(X_train_full_cb, y_full, cat_features=cat_idx_full, verbose=200)\n",
        "res_full = np.abs(y_full - mu_full.predict(X_train_full_cb))\n",
        "sig_full = cb.CatBoostRegressor(depth=5, learning_rate=0.05, iterations=1200, l2_leaf_reg=6.0, loss_function='RMSE',\n",
        "                                bootstrap_type='Bernoulli', subsample=0.9,\n",
        "                                random_seed=42, early_stopping_rounds=100, task_type=task_type, verbose=200, allow_writing_files=False)\n",
        "sig_full.fit(X_train_full_cb, res_full, cat_features=cat_idx_full, verbose=200)\n",
        "\n",
        "# Build submission rows with demographics from train+test (no FVC from test) and features using train history only\n",
        "ss = pd.read_csv('sample_submission.csv')\n",
        "sub = ss.copy()\n",
        "sub[[PID, WEEK]] = sub['Patient_Week'].str.rsplit('_', n=1, expand=True)\n",
        "sub[WEEK] = sub[WEEK].astype(int)\n",
        "meta_cols = [PID, WEEK] + NUM_COLS + CAT_COLS\n",
        "meta_train = train[meta_cols].copy()\n",
        "meta_test = pd.read_csv('test.csv')[meta_cols].copy()\n",
        "meta_all = pd.concat([meta_train, meta_test], axis=0, ignore_index=True).sort_values([PID, WEEK])\n",
        "fill_cols = NUM_COLS + CAT_COLS\n",
        "meta_all[fill_cols] = meta_all.groupby(PID)[fill_cols].ffill()\n",
        "meta_all[fill_cols] = meta_all.groupby(PID)[fill_cols].bfill()\n",
        "sub = sub.merge(meta_all.drop(columns=[WEEK]).drop_duplicates(PID), on=PID, how='left')\n",
        "\n",
        "# Features for submission using train history only\n",
        "X_sub_feats = build_features_given_history(sub[[PID, WEEK] + NUM_COLS + CAT_COLS], hist_train, basew_map_full)\n",
        "X_sub_cb = X_sub_feats.drop(columns=[PID, WEEK], errors='ignore')\n",
        "pool_sub = cb.Pool(X_sub_cb, cat_features=cat_idx_full)\n",
        "mu_cat_sub = mu_full.predict(pool_sub)\n",
        "mu_lin_sub = X_sub_feats['mu_lin'].values\n",
        "mu_final = best_w * mu_cat_sub + (1 - best_w) * mu_lin_sub\n",
        "sigma_raw_sub = np.maximum(sig_full.predict(pool_sub), 5.0)\n",
        "abs_wsb_sub = X_sub_feats['abs_wsb'].values.astype(float)\n",
        "prmse_sub = X_sub_feats['patient_RMSE'].values.astype(float)\n",
        "sigma_cal = np.maximum(sigma_raw_sub * s_best, a_best + b_best * abs_wsb_sub)\n",
        "sigma_cal = np.maximum(sigma_cal, c_best * prmse_sub)\n",
        "sigma_cal = np.maximum(sigma_cal, 70.0)\n",
        "\n",
        "out = ss.copy()\n",
        "out['FVC'] = mu_final.astype(float)\n",
        "out['Confidence'] = sigma_cal.astype(float)\n",
        "out.to_csv('submission.csv', index=False)\n",
        "print('Saved submission.csv with temporal features + blend')"
      ],
      "execution_count": 12,
      "outputs": [
        {
          "output_type": "stream",
          "name": "stdout",
          "text": [
            "Using blend weight (CatBoost): 0.3 Sigma params: (1.0, 0, 0.3, 1.2)\n"
          ]
        },
        {
          "output_type": "stream",
          "name": "stdout",
          "text": [
            "Train columns (full temporal): ['baseline_week', 'weeks_since_baseline', 'abs_wsb', 'log_abs_wsb', 'visit_count_so_far', 'visit_index_so_far', 'mean_percent_so_far', 'slope_prior', 'intercept_prior', 'mu_lin', 'patient_RMSE', 'wsb_x_percent', 'age_x_sex', 'percent_x_age', 'sex_num', 'Percent', 'Age', 'Sex', 'SmokingStatus']\nCat idx: [17, 18]\n0:\tlearn: 317.6557120\ttotal: 12.6ms\tremaining: 50.3s\n"
          ]
        },
        {
          "output_type": "stream",
          "name": "stdout",
          "text": [
            "200:\tlearn: 315.5264527\ttotal: 2.11s\tremaining: 39.9s\n"
          ]
        },
        {
          "output_type": "stream",
          "name": "stdout",
          "text": [
            "400:\tlearn: 313.3566625\ttotal: 4.38s\tremaining: 39.3s\n"
          ]
        },
        {
          "output_type": "stream",
          "name": "stdout",
          "text": [
            "600:\tlearn: 311.1940907\ttotal: 6.63s\tremaining: 37.5s\n"
          ]
        },
        {
          "output_type": "stream",
          "name": "stdout",
          "text": [
            "800:\tlearn: 309.0336038\ttotal: 8.89s\tremaining: 35.5s\n"
          ]
        },
        {
          "output_type": "stream",
          "name": "stdout",
          "text": [
            "1000:\tlearn: 306.8836756\ttotal: 11.1s\tremaining: 33.3s\n"
          ]
        },
        {
          "output_type": "stream",
          "name": "stdout",
          "text": [
            "1200:\tlearn: 304.7463684\ttotal: 13.4s\tremaining: 31.1s\n"
          ]
        },
        {
          "output_type": "stream",
          "name": "stdout",
          "text": [
            "1400:\tlearn: 302.6206062\ttotal: 15.6s\tremaining: 28.9s\n"
          ]
        },
        {
          "output_type": "stream",
          "name": "stdout",
          "text": [
            "1600:\tlearn: 300.4991033\ttotal: 17.8s\tremaining: 26.7s\n"
          ]
        },
        {
          "output_type": "stream",
          "name": "stdout",
          "text": [
            "1800:\tlearn: 298.3877780\ttotal: 20s\tremaining: 24.4s\n"
          ]
        },
        {
          "output_type": "stream",
          "name": "stdout",
          "text": [
            "2000:\tlearn: 296.2923242\ttotal: 22.2s\tremaining: 22.2s\n"
          ]
        },
        {
          "output_type": "stream",
          "name": "stdout",
          "text": [
            "2200:\tlearn: 294.2026542\ttotal: 24.4s\tremaining: 20s\n"
          ]
        },
        {
          "output_type": "stream",
          "name": "stdout",
          "text": [
            "2400:\tlearn: 292.1187679\ttotal: 26.7s\tremaining: 17.8s\n"
          ]
        },
        {
          "output_type": "stream",
          "name": "stdout",
          "text": [
            "2600:\tlearn: 290.0418535\ttotal: 28.9s\tremaining: 15.5s\n"
          ]
        },
        {
          "output_type": "stream",
          "name": "stdout",
          "text": [
            "2800:\tlearn: 287.9812141\ttotal: 31.1s\tremaining: 13.3s\n"
          ]
        },
        {
          "output_type": "stream",
          "name": "stdout",
          "text": [
            "3000:\tlearn: 285.9288917\ttotal: 33.4s\tremaining: 11.1s\n"
          ]
        },
        {
          "output_type": "stream",
          "name": "stdout",
          "text": [
            "3200:\tlearn: 283.8921942\ttotal: 35.6s\tremaining: 8.89s\n"
          ]
        },
        {
          "output_type": "stream",
          "name": "stdout",
          "text": [
            "3400:\tlearn: 281.8639258\ttotal: 37.8s\tremaining: 6.66s\n"
          ]
        },
        {
          "output_type": "stream",
          "name": "stdout",
          "text": [
            "3600:\tlearn: 279.8594423\ttotal: 40.1s\tremaining: 4.44s\n"
          ]
        },
        {
          "output_type": "stream",
          "name": "stdout",
          "text": [
            "3800:\tlearn: 277.8692163\ttotal: 42.3s\tremaining: 2.22s\n"
          ]
        },
        {
          "output_type": "stream",
          "name": "stdout",
          "text": [
            "3999:\tlearn: 275.9074605\ttotal: 44.5s\tremaining: 0us\n"
          ]
        },
        {
          "output_type": "stream",
          "name": "stdout",
          "text": [
            "0:\tlearn: 457.0191737\ttotal: 9.95ms\tremaining: 11.9s\n"
          ]
        },
        {
          "output_type": "stream",
          "name": "stdout",
          "text": [
            "200:\tlearn: 153.9461979\ttotal: 1.83s\tremaining: 9.12s\n"
          ]
        },
        {
          "output_type": "stream",
          "name": "stdout",
          "text": [
            "400:\tlearn: 142.6307601\ttotal: 3.62s\tremaining: 7.22s\n"
          ]
        },
        {
          "output_type": "stream",
          "name": "stdout",
          "text": [
            "600:\tlearn: 128.3657179\ttotal: 5.41s\tremaining: 5.39s\n"
          ]
        },
        {
          "output_type": "stream",
          "name": "stdout",
          "text": [
            "800:\tlearn: 119.4171282\ttotal: 7.21s\tremaining: 3.59s\n"
          ]
        },
        {
          "output_type": "stream",
          "name": "stdout",
          "text": [
            "1000:\tlearn: 113.8653084\ttotal: 8.89s\tremaining: 1.77s\n"
          ]
        },
        {
          "output_type": "stream",
          "name": "stdout",
          "text": [
            "1199:\tlearn: 108.4907648\ttotal: 10.6s\tremaining: 0us\nSaved submission.csv with temporal features + blend\n"
          ]
        }
      ]
    },
    {
      "id": "95b2ff3e-e2e5-4be8-9991-f197321ab5ca",
      "cell_type": "code",
      "metadata": {},
      "source": [
        "# Temporal CV v2: add LGBM quantiles with residualization, blend mu (residual heads), blend sigma_q with Cat sigma, calibrate\n",
        "import numpy as np, pandas as pd, time, sys, subprocess as sp\n",
        "\n",
        "try:\n",
        "    import lightgbm as lgb\n",
        "except Exception:\n",
        "    sp.run([sys.executable, '-m', 'pip', 'install', 'lightgbm==4.3.0'], check=True)\n",
        "    import lightgbm as lgb\n",
        "\n",
        "try:\n",
        "    import catboost as cb\n",
        "except Exception:\n",
        "    sp.run([sys.executable, '-m', 'pip', 'install', 'catboost==1.2.5'], check=True)\n",
        "    import catboost as cb\n",
        "\n",
        "from sklearn.linear_model import HuberRegressor\n",
        "\n",
        "PID, WEEK, TARGET = 'Patient','Weeks','FVC'\n",
        "CAT_COLS = ['Sex','SmokingStatus']\n",
        "\n",
        "if 'train' not in globals():\n",
        "    train = pd.read_csv('train.csv')\n",
        "\n",
        "# Reuse helpers from Cell 4 (huber_slope_intercept, build_patient_groups, last_k_indices_per_patient, build_temporal_features_for_fold)\n",
        "\n",
        "def temporal_cv_with_lgbm_and_residuals(train, n_splits=5, seed=42, temporal_k=2, seeds_bag=(42,123,456,789,2024)):\n",
        "    train_sorted = train.sort_values([PID, WEEK]).reset_index(drop=False).rename(columns={'index':'orig_idx'})\n",
        "    patient_groups = build_patient_groups(train_sorted, n_splits=n_splits, seed=seed)\n",
        "    n = len(train_sorted)\n",
        "    # OOF accumulators for seed-bagging\n",
        "    bag_oof_mu_lin = np.zeros(n, dtype=float)\n",
        "    bag_oof_res_cat = np.zeros(n, dtype=float)\n",
        "    bag_oof_res_lgbm = np.zeros(n, dtype=float)\n",
        "    bag_oof_sigma_cat_raw = np.zeros(n, dtype=float)\n",
        "    bag_oof_sigma_q = np.zeros(n, dtype=float)\n",
        "    bag_oof_abs_wsb = np.zeros(n, dtype=float)\n",
        "    bag_oof_prmse = np.zeros(n, dtype=float)\n",
        "    bag_oof_wsl = np.zeros(n, dtype=float)\n",
        "    bag_oof_vcount = np.zeros(n, dtype=float)\n",
        "    bag_counts = np.zeros(n, dtype=float)\n",
        "\n",
        "    global_med = float(train[TARGET].median())\n",
        "\n",
        "    # For returning last seed's models (optional, not used for OOF)\n",
        "    cat_models, cat_sig_models = [], []\n",
        "    lgb_models_q15, lgb_models_q50, lgb_models_q85 = [], [], []\n",
        "\n",
        "    for sdx, s_seed in enumerate(seeds_bag):\n",
        "        print(f\"Seed bag {sdx+1}/{len(seeds_bag)} (seed={s_seed})\", flush=True)\n",
        "        # Per-seed OOF holders\n",
        "        oof_mu_lin = np.full(n, np.nan, dtype=float)\n",
        "        oof_res_cat = np.full(n, np.nan, dtype=float)\n",
        "        oof_res_lgbm = np.full(n, np.nan, dtype=float)\n",
        "        oof_sigma_cat_raw = np.full(n, np.nan, dtype=float)\n",
        "        oof_sigma_q = np.full(n, np.nan, dtype=float)\n",
        "        oof_abs_wsb = np.full(n, np.nan, dtype=float)\n",
        "        oof_prmse = np.full(n, np.nan, dtype=float)\n",
        "        oof_wsl = np.full(n, np.nan, dtype=float)\n",
        "        oof_vcount = np.full(n, np.nan, dtype=float)\n",
        "\n",
        "        for fi in range(n_splits):\n",
        "            val_pids = set(patient_groups[fi])\n",
        "            va_mask_pat = train_sorted[PID].isin(val_pids)\n",
        "            va_rows = train_sorted[va_mask_pat]\n",
        "            va_last2_idx = last_k_indices_per_patient(va_rows.set_index('orig_idx'), k=temporal_k)\n",
        "            va_mask = train_sorted['orig_idx'].isin(va_last2_idx)\n",
        "            tr_mask = ~va_mask\n",
        "            tr_df = train_sorted.loc[tr_mask, [PID, WEEK, TARGET, 'Percent', 'Age', 'Sex', 'SmokingStatus']].copy()\n",
        "            va_df = train_sorted.loc[va_mask, [PID, WEEK, TARGET, 'Percent', 'Age', 'Sex', 'SmokingStatus']].copy()\n",
        "\n",
        "            # Causal features from training history only (with cold-start-safe basew/wsl inside builder in Cell 4)\n",
        "            X_tr_full, X_va_full = build_temporal_features_for_fold(tr_df, va_df)\n",
        "            # Cold-start safety: ensure baseline_week/abs_wsb/weeks_since_last sane\n",
        "            for X_ in (X_tr_full, X_va_full):\n",
        "                # baseline_week fallback to current week if missing\n",
        "                miss_base = ~np.isfinite(X_['baseline_week'].values)\n",
        "                if miss_base.any():\n",
        "                    X_.loc[miss_base, 'baseline_week'] = X_.loc[miss_base, WEEK].values\n",
        "                # recompute derived safely\n",
        "                X_['weeks_since_baseline'] = X_[WEEK] - X_['baseline_week']\n",
        "                X_['abs_wsb'] = np.abs(X_['weeks_since_baseline'])\n",
        "                # weeks_since_last: if NaN, set 0.0 (first visit or unknown last_w)\n",
        "                if 'weeks_since_last' in X_.columns:\n",
        "                    X_['weeks_since_last'] = np.nan_to_num(X_['weeks_since_last'].values, nan=0.0, posinf=0.0, neginf=0.0)\n",
        "\n",
        "            mu_lin_tr_raw = X_tr_full['mu_lin'].values\n",
        "            mu_lin_va_raw = X_va_full['mu_lin'].values\n",
        "            int_tr = X_tr_full['intercept_prior'].values\n",
        "            int_va = X_va_full['intercept_prior'].values\n",
        "            oof_abs_wsb[va_mask.values] = X_va_full['abs_wsb'].values.astype(float)\n",
        "            oof_prmse[va_mask.values] = X_va_full['patient_RMSE'].values.astype(float)\n",
        "            # propagate weeks_since_last (robust to missing col)\n",
        "            if 'weeks_since_last' in X_va_full.columns:\n",
        "                wsl_vals = X_va_full['weeks_since_last'].values.astype(float)\n",
        "            else:\n",
        "                wsl_vals = np.full(len(X_va_full), 0.0, dtype=float)\n",
        "            oof_wsl[va_mask.values] = wsl_vals\n",
        "            # visit_count_so_far for calibration subset\n",
        "            if 'visit_count_so_far' in X_va_full.columns:\n",
        "                oof_vcount[va_mask.values] = X_va_full['visit_count_so_far'].values.astype(float)\n",
        "            else:\n",
        "                oof_vcount[va_mask.values] = 0.0\n",
        "\n",
        "            X_tr = X_tr_full.drop(columns=[PID, WEEK], errors='ignore')\n",
        "            X_va = X_va_full.drop(columns=[PID, WEEK], errors='ignore')\n",
        "            y_tr = tr_df[TARGET].values\n",
        "            y_va = va_df[TARGET].values\n",
        "            # Leak-free mu_lin fills using intercept_prior or global median\n",
        "            mu_lin_tr = np.where(np.isfinite(mu_lin_tr_raw), mu_lin_tr_raw,\n",
        "                                 np.where(np.isfinite(int_tr), int_tr, global_med))\n",
        "            mu_lin_va = np.where(np.isfinite(mu_lin_va_raw), mu_lin_va_raw,\n",
        "                                 np.where(np.isfinite(int_va), int_va, global_med))\n",
        "            oof_mu_lin[va_mask.values] = mu_lin_va\n",
        "            y_res_tr = y_tr - mu_lin_tr\n",
        "\n",
        "            # Residual head: drop mu_lin from features\n",
        "            X_tr_res = X_tr.drop(columns=['mu_lin'], errors='ignore')\n",
        "            X_va_res = X_va.drop(columns=['mu_lin'], errors='ignore')\n",
        "\n",
        "            # Add cheap, causal interaction features (+ sqrt_abs_wsb)\n",
        "            for X in (X_tr_res, X_va_res):\n",
        "                X['pos_wsb'] = np.clip(X['weeks_since_baseline'], 0, None)\n",
        "                X['neg_wsb'] = np.clip(-X['weeks_since_baseline'], 0, None)\n",
        "                X['percent_centered'] = X['Percent'] - X['mean_percent_so_far']\n",
        "                X['percent_poswsb'] = X['Percent'] * X['pos_wsb']\n",
        "                X['percent_negwsb'] = X['Percent'] * X['neg_wsb']\n",
        "                X['wsb_x_age'] = X['weeks_since_baseline'] * X['Age']\n",
        "                X['has_history'] = (X['visit_count_so_far'] > 0).astype(int)\n",
        "                X['sqrt_abs_wsb'] = np.sqrt(np.abs(X['weeks_since_baseline']))\n",
        "\n",
        "            # CatBoost residual head (tweaked params)\n",
        "            task_type = 'GPU'\n",
        "            try:\n",
        "                cb.CatBoostRegressor(task_type=task_type)\n",
        "            except Exception:\n",
        "                task_type = 'CPU'\n",
        "            cat_params = dict(depth=6, learning_rate=0.06, iterations=2500, l2_leaf_reg=8.0,\n",
        "                               loss_function='Quantile:alpha=0.5', bootstrap_type='Bernoulli', subsample=0.8,\n",
        "                               random_seed=s_seed, early_stopping_rounds=200, task_type=task_type, verbose=200, allow_writing_files=False)\n",
        "            if task_type == 'CPU':\n",
        "                cat_params['colsample_bylevel'] = 0.8\n",
        "            cat_res = cb.CatBoostRegressor(**cat_params)\n",
        "            cat_idx = [X_tr_res.columns.get_loc(c) for c in CAT_COLS if c in X_tr_res.columns]\n",
        "            cat_res.fit(X_tr_res, y_res_tr, eval_set=(X_va_res, y_va - mu_lin_va), cat_features=cat_idx, verbose=200)\n",
        "            res_cat_va = cat_res.predict(X_va_res)\n",
        "            oof_res_cat[va_mask.values] = res_cat_va\n",
        "\n",
        "            # LightGBM quantiles on residual: drop object categorical columns\n",
        "            X_tr_lgb = X_tr_res.drop(columns=CAT_COLS, errors='ignore')\n",
        "            X_va_lgb = X_va_res.drop(columns=CAT_COLS, errors='ignore')\n",
        "\n",
        "            lgb_params = dict(objective='quantile', n_estimators=2000, learning_rate=0.03,\n",
        "                              num_leaves=31, max_depth=6, subsample=0.8, colsample_bytree=0.8,\n",
        "                              min_child_samples=10, reg_alpha=0.1, reg_lambda=0.2,\n",
        "                              verbose=-1, random_state=s_seed, force_row_wise=True)\n",
        "            lgb_tr = lgb.Dataset(X_tr_lgb, label=y_res_tr, free_raw_data=False)\n",
        "            lgb_va = lgb.Dataset(X_va_lgb, label=y_va - mu_lin_va, reference=lgb_tr, free_raw_data=False)\n",
        "\n",
        "            # q15\n",
        "            p15 = lgb_params.copy(); p15['alpha'] = 0.15\n",
        "            m15 = lgb.train(p15, lgb_tr, valid_sets=[lgb_va],\n",
        "                            num_boost_round=p15['n_estimators'],\n",
        "                            callbacks=[lgb.early_stopping(200, verbose=False), lgb.log_evaluation(0)])\n",
        "            # q50\n",
        "            p50 = lgb_params.copy(); p50['alpha'] = 0.50\n",
        "            m50 = lgb.train(p50, lgb_tr, valid_sets=[lgb_va],\n",
        "                            num_boost_round=p50['n_estimators'],\n",
        "                            callbacks=[lgb.early_stopping(200, verbose=False), lgb.log_evaluation(0)])\n",
        "            # q85\n",
        "            p85 = lgb_params.copy(); p85['alpha'] = 0.85\n",
        "            m85 = lgb.train(p85, lgb_tr, valid_sets=[lgb_va],\n",
        "                            num_boost_round=p85['n_estimators'],\n",
        "                            callbacks=[lgb.early_stopping(200, verbose=False), lgb.log_evaluation(0)])\n",
        "\n",
        "            res_q15_va = m15.predict(X_va_lgb, num_iteration=m15.best_iteration)\n",
        "            res_q50_va = m50.predict(X_va_lgb, num_iteration=m50.best_iteration)\n",
        "            res_q85_va = m85.predict(X_va_lgb, num_iteration=m85.best_iteration)\n",
        "            oof_res_lgbm[va_mask.values] = res_q50_va\n",
        "            # sigma_q from quantile spread (scale fix: divide by 2.0)\n",
        "            sigma_q_va = (res_q85_va - res_q15_va) / 2.0\n",
        "            oof_sigma_q[va_mask.values] = np.maximum(sigma_q_va, 5.0)\n",
        "\n",
        "            # Cat sigma raw on Cat residual head (tweaked params)\n",
        "            res_tr_cat_pred = cat_res.predict(X_tr_res)\n",
        "            mu_tr_cat = mu_lin_tr + res_tr_cat_pred\n",
        "            sig_params = dict(depth=5, learning_rate=0.05, iterations=1200, l2_leaf_reg=6.0, loss_function='RMSE',\n",
        "                               bootstrap_type='Bernoulli', subsample=0.9,\n",
        "                               random_seed=s_seed, early_stopping_rounds=100, task_type=task_type, verbose=200, allow_writing_files=False)\n",
        "            if task_type == 'CPU':\n",
        "                sig_params['colsample_bylevel'] = 0.8\n",
        "            sig_cat = cb.CatBoostRegressor(**sig_params)\n",
        "            sig_cat.fit(X_tr_res, np.abs(y_tr - mu_tr_cat), eval_set=(X_va_res, np.abs(y_va - (mu_lin_va + res_cat_va))),\n",
        "                        cat_features=cat_idx, verbose=200)\n",
        "            sig_raw_va = np.maximum(sig_cat.predict(X_va_res), 5.0)\n",
        "            oof_sigma_cat_raw[va_mask.values] = sig_raw_va\n",
        "\n",
        "            # Save models of last seed (optional)\n",
        "            if sdx == len(seeds_bag) - 1:\n",
        "                cat_models.append(cat_res); cat_sig_models.append(sig_cat)\n",
        "                lgb_models_q15.append(m15); lgb_models_q50.append(m50); lgb_models_q85.append(m85)\n",
        "            print(f\"Seed {s_seed} Fold {fi} done. tr={tr_mask.sum()} va={va_mask.sum()}\")\n",
        "\n",
        "        # Accumulate this seed's OOF into bag\n",
        "        valid_seed = ~np.isnan(oof_mu_lin)\n",
        "        bag_oof_mu_lin[valid_seed] += oof_mu_lin[valid_seed]\n",
        "        bag_oof_res_cat[valid_seed] += oof_res_cat[valid_seed]\n",
        "        bag_oof_res_lgbm[valid_seed] += oof_res_lgbm[valid_seed]\n",
        "        bag_oof_sigma_cat_raw[valid_seed] += oof_sigma_cat_raw[valid_seed]\n",
        "        bag_oof_sigma_q[valid_seed] += oof_sigma_q[valid_seed]\n",
        "        bag_oof_abs_wsb[valid_seed] += oof_abs_wsb[valid_seed]\n",
        "        bag_oof_prmse[valid_seed] += oof_prmse[valid_seed]\n",
        "        bag_oof_wsl[valid_seed] += oof_wsl[valid_seed]\n",
        "        bag_oof_vcount[valid_seed] += oof_vcount[valid_seed]\n",
        "        bag_counts[valid_seed] += 1.0\n",
        "\n",
        "    # Average across seeds\n",
        "    nonzero = bag_counts > 0\n",
        "    oof_mu_lin = np.where(nonzero, bag_oof_mu_lin / np.maximum(bag_counts, 1e-9), np.nan)\n",
        "    oof_res_cat = np.where(nonzero, bag_oof_res_cat / np.maximum(bag_counts, 1e-9), np.nan)\n",
        "    oof_res_lgbm = np.where(nonzero, bag_oof_res_lgbm / np.maximum(bag_counts, 1e-9), np.nan)\n",
        "    oof_sigma_cat_raw = np.where(nonzero, bag_oof_sigma_cat_raw / np.maximum(bag_counts, 1e-9), np.nan)\n",
        "    oof_sigma_q = np.where(nonzero, bag_oof_sigma_q / np.maximum(bag_counts, 1e-9), np.nan)\n",
        "    oof_abs_wsb = np.where(nonzero, bag_oof_abs_wsb / np.maximum(bag_counts, 1e-9), np.nan)\n",
        "    oof_prmse = np.where(nonzero, bag_oof_prmse / np.maximum(bag_counts, 1e-9), np.nan)\n",
        "    oof_wsl = np.where(nonzero, bag_oof_wsl / np.maximum(bag_counts, 1e-9), np.nan)\n",
        "    oof_vcount = np.where(nonzero, bag_oof_vcount / np.maximum(bag_counts, 1e-9), np.nan)\n",
        "\n",
        "    # Tune mu residual blend weight and sigma blend/calibration grids\n",
        "    valid_mask = ~np.isnan(oof_res_cat) & ~np.isnan(oof_res_lgbm) & ~np.isnan(oof_mu_lin)\n",
        "    y_all = train_sorted[TARGET].values\n",
        "    y_oof = y_all[valid_mask]\n",
        "    mu_lin_oof = oof_mu_lin[valid_mask]\n",
        "    res_cat_oof = oof_res_cat[valid_mask]\n",
        "    res_lgbm_oof = oof_res_lgbm[valid_mask]\n",
        "    abs_wsb_oof = oof_abs_wsb[valid_mask]\n",
        "    prmse_oof = oof_prmse[valid_mask]\n",
        "    sig_cat_oof = oof_sigma_cat_raw[valid_mask]\n",
        "    sig_q_oof = oof_sigma_q[valid_mask]\n",
        "    wsl_oof = oof_wsl[valid_mask]\n",
        "    vcount_oof = oof_vcount[valid_mask]\n",
        "\n",
        "    # NaN safety before grid search\n",
        "    y_oof = np.nan_to_num(y_oof, nan=np.nanmedian(y_oof))\n",
        "    mu_lin_oof = np.nan_to_num(mu_lin_oof, nan=np.nanmedian(mu_lin_oof))\n",
        "    res_cat_oof = np.nan_to_num(res_cat_oof, nan=0.0)\n",
        "    res_lgbm_oof = np.nan_to_num(res_lgbm_oof, nan=0.0)\n",
        "    abs_wsb_oof = np.nan_to_num(abs_wsb_oof, nan=0.0, posinf=0.0, neginf=0.0)\n",
        "    prmse_oof = np.nan_to_num(prmse_oof, nan=np.nanmedian(prmse_oof))\n",
        "    wsl_oof_clean = np.nan_to_num(wsl_oof, nan=0.0, posinf=0.0, neginf=0.0)\n",
        "    sig_cat_oof = np.nan_to_num(sig_cat_oof, nan=np.nanmedian(sig_cat_oof))\n",
        "    sig_q_oof = np.nan_to_num(sig_q_oof, nan=np.nanmedian(sig_q_oof))\n",
        "\n",
        "    d_grid = [0.0, 0.3, 0.5, 0.7, 1.0]\n",
        "    s_grid = [1.0, 0.8, 1.2, 1.4, 1.6]\n",
        "    a_grid = [0, 20, 40, 60]\n",
        "    b_grid = [0.2, 0.3, 0.4, 0.6, 0.8, 1.0]\n",
        "    c_grid = [0.8, 1.0, 1.2, 1.4, 1.5]\n",
        "    e_grid = [0.0, 0.5, 1.0]\n",
        "\n",
        "    # choose blend weight w_cat on full valid set (sigma placeholder with floor)\n",
        "    best_w, best_ll = 0.5, -1e9\n",
        "    for w_cat in [0.3, 0.4, 0.5, 0.6, 0.7]:\n",
        "        mu_base = mu_lin_oof + w_cat * res_cat_oof + (1 - w_cat) * res_lgbm_oof\n",
        "        mu_base = np.nan_to_num(mu_base, nan=np.nanmedian(mu_base))\n",
        "        sig_tmp = np.maximum(np.maximum(sig_cat_oof, 70.0), np.maximum(70.0, 70.0 + 0.0 * np.abs(wsl_oof_clean)))\n",
        "        mask_ok = np.isfinite(y_oof) & np.isfinite(mu_base) & np.isfinite(sig_tmp)\n",
        "        if not np.any(mask_ok):\n",
        "            continue\n",
        "        scr = laplace_log_likelihood(y_oof[mask_ok], mu_base[mask_ok], sig_tmp[mask_ok], sigma_floor=70.0, error_clip=1000.0)\n",
        "        if np.isfinite(scr) and scr > best_ll:\n",
        "            best_ll, best_w = scr, w_cat\n",
        "\n",
        "    # Cold-start-focused sigma calibration subset: visit_count_so_far <= 2\n",
        "    calib_mask = (vcount_oof <= 2)\n",
        "    if not np.any(calib_mask):\n",
        "        calib_mask = np.ones_like(y_oof, dtype=bool)\n",
        "\n",
        "    # Diagnostics\n",
        "    print('Diag valid_count:', valid_mask.sum(),\n",
        "          ' nan(abs_wsb)=', int(np.isnan(oof_abs_wsb[valid_mask]).sum()),\n",
        "          ' nan(wsl)=', int(np.isnan(oof_wsl[valid_mask]).sum()),\n",
        "          ' nan(prmse)=', int(np.isnan(oof_prmse[valid_mask]).sum()),\n",
        "          ' calib_count=', int(calib_mask.sum()))\n",
        "\n",
        "    best_score = -1e9\n",
        "    best = dict(w_cat=best_w, d=None, s=None, a=None, b=None, c=None, e=None)\n",
        "\n",
        "    for d in d_grid:\n",
        "        sig_raw = np.maximum(d * sig_q_oof + (1 - d) * sig_cat_oof, 5.0)\n",
        "        for s in s_grid:\n",
        "            for a in a_grid:\n",
        "                for b in b_grid:\n",
        "                    for c in c_grid:\n",
        "                        for e in e_grid:\n",
        "                            sig = np.maximum(sig_raw * s, a + b * np.clip(abs_wsb_oof, 0, 40))\n",
        "                            sig = np.maximum(sig, c * prmse_oof)\n",
        "                            sig = np.maximum(sig, 70.0 + e * np.abs(wsl_oof_clean))\n",
        "                            sig = np.maximum(sig, 70.0)\n",
        "                            mu_base = best_w * res_cat_oof + (1 - best_w) * res_lgbm_oof + mu_lin_oof\n",
        "                            mu_base = np.nan_to_num(mu_base, nan=np.nanmedian(mu_base))\n",
        "                            mask_ok = calib_mask & np.isfinite(y_oof) & np.isfinite(mu_base) & np.isfinite(sig)\n",
        "                            if not np.any(mask_ok):\n",
        "                                continue\n",
        "                            scr = laplace_log_likelihood(y_oof[mask_ok], mu_base[mask_ok], sig[mask_ok], sigma_floor=70.0, error_clip=1000.0)\n",
        "                            if np.isfinite(scr) and scr > best_score:\n",
        "                                best_score = scr\n",
        "                                best.update(dict(d=d, s=s, a=a, b=b, c=c, e=e))\n",
        "\n",
        "    print(f\"Temporal OOF (last-{temporal_k}) residual blend (seed-bagged {len(seeds_bag)}): {best_score:.5f} with params {best}\")\n",
        "    return dict(best_score=best_score, best=best,\n",
        "                oof_masks=valid_mask,\n",
        "                oof_mu_lin=oof_mu_lin, oof_res_cat=oof_res_cat, oof_res_lgbm=oof_res_lgbm,\n",
        "                oof_sigma_cat_raw=oof_sigma_cat_raw, oof_sigma_q=oof_sigma_q,\n",
        "                oof_abs_wsb=oof_abs_wsb, oof_prmse=oof_prmse, oof_wsl=oof_wsl, oof_vcount=oof_vcount,\n",
        "                train_sorted=train_sorted,\n",
        "                models=dict(cat=cat_models, cat_sig=cat_sig_models, lgb_q15=lgb_models_q15, lgb_q50=lgb_models_q50, lgb_q85=lgb_models_q85))\n",
        "\n",
        "# NOTE: Intentionally do not auto-run the heavy 5-seed pipeline here.\n",
        "# Use the dedicated diagnostic/prod cells to execute with desired seeds and k."
      ],
      "execution_count": 28,
      "outputs": []
    },
    {
      "id": "50a30024-0a16-4da9-9bc8-c4d7264418e0",
      "cell_type": "code",
      "metadata": {},
      "source": [
        "# Override to LB-oriented conservative parameters (expert primary recommendation after 10-seed last-3 CV)\n",
        "conservative_params = {'w_cat':0.3,'d':0.5,'s':1.6,'a':50,'b':1.0,'c':1.0,'e':0.7}\n",
        "orig_train_sorted = res2.get('train_sorted', None) if 'res2' in globals() else None\n",
        "res2 = {'best': conservative_params, 'train_sorted': orig_train_sorted}\n",
        "print('Using parameters:', res2['best'])"
      ],
      "execution_count": 43,
      "outputs": [
        {
          "output_type": "stream",
          "name": "stdout",
          "text": [
            "Using parameters: {'w_cat': 0.3, 'd': 0.5, 's': 1.6, 'a': 50, 'b': 1.0, 'c': 1.0, 'e': 0.7}\n"
          ]
        }
      ]
    },
    {
      "id": "82e560aa-a789-4526-ae0e-61da2480ba0b",
      "cell_type": "code",
      "metadata": {},
      "source": [
        "# Productionize residual ensemble (CatBoost residual + LGBM quantiles) using best params from res2 with seed-bagging and feature parity\n",
        "import numpy as np, pandas as pd, sys, subprocess as sp, time, warnings\n",
        "from scipy.stats import rankdata\n",
        "\n",
        "assert 'res2' in globals(), 'Run Cell 6 (and optionally 14/15) to obtain best residual-ensemble params (res2 dict).'\n",
        "best = res2['best']\n",
        "print('Best params from residual CV:', best)\n",
        "\n",
        "HEDGE_MODE = 'rankmap_incell_final'\n",
        "\n",
        "# Expert overrides (medal-safe baseline for mapping)\n",
        "override = {'w_cat': 0.30, 'd': 0.45, 's': 1.40, 'a': 40.0, 'b': 0.9, 'c': 0.9, 'e': 0.30}\n",
        "best = {**best, **override}\n",
        "print('Applied params:', override)\n",
        "\n",
        "PID, WEEK, TARGET = 'Patient','Weeks','FVC'\n",
        "CAT_COLS = ['Sex','SmokingStatus']\n",
        "\n",
        "try:\n",
        "    import lightgbm as lgb\n",
        "except Exception:\n",
        "    sp.run([sys.executable, '-m', 'pip', 'install', 'lightgbm==4.3.0'], check=True)\n",
        "    import lightgbm as lgb\n",
        "try:\n",
        "    import catboost as cb\n",
        "except Exception:\n",
        "    sp.run([sys.executable, '-m', 'pip', 'install', 'catboost==1.2.5'], check=True)\n",
        "    import catboost as cb\n",
        "from sklearn.linear_model import HuberRegressor\n",
        "\n",
        "def build_history(df_src):\n",
        "    hist = {}\n",
        "    for pid, g in df_src.groupby(PID):\n",
        "        gg = g.sort_values(WEEK)\n",
        "        hist[pid] = list(zip(gg[WEEK].tolist(), gg[TARGET].tolist(), gg['Percent'].tolist()))\n",
        "    return hist\n",
        "\n",
        "def huber_slope_intercept(prior_weeks, prior_fvc):\n",
        "    n = len(prior_weeks)\n",
        "    if n >= 2:\n",
        "        X = np.asarray(prior_weeks, dtype=float).reshape(-1,1)\n",
        "        y = np.asarray(prior_fvc, dtype=float)\n",
        "        try:\n",
        "            model = HuberRegressor(epsilon=1.35, alpha=0.0, fit_intercept=True, max_iter=200).fit(X, y)\n",
        "            slope = float(model.coef_[0]); intercept = float(model.intercept_)\n",
        "            yhat = model.predict(X); rmse = float(np.sqrt(np.mean((y - yhat)**2)))\n",
        "        except Exception:\n",
        "            x = X[:,0]\n",
        "            x_mean, y_mean = x.mean(), y.mean()\n",
        "            sxx = np.sum((x-x_mean)**2) + 1e-6\n",
        "            sxy = np.sum((x-x_mean)*(y-y_mean))\n",
        "            slope = sxy / sxx; intercept = y_mean - slope * x_mean\n",
        "            rmse = float(np.sqrt(np.mean((y - (slope*x + intercept))**2)))\n",
        "        return slope, intercept, rmse\n",
        "    elif n == 1:\n",
        "        return 0.0, float(prior_fvc[0]), 120.0\n",
        "    else:\n",
        "        return 0.0, np.nan, 120.0\n",
        "\n",
        "def _time_weighted_median(weeks, fvc, ref_w):\n",
        "    if len(fvc) == 0: return np.nan\n",
        "    w = np.asarray(weeks, dtype=float); v = np.asarray(fvc, dtype=float)\n",
        "    ww = 1.0 / (1.0 + np.abs(ref_w - w))\n",
        "    order = np.argsort(v)\n",
        "    v_sorted = v[order]; ww_sorted = ww[order]\n",
        "    csum = np.cumsum(ww_sorted); cutoff = 0.5 * np.sum(ww_sorted)\n",
        "    idx = int(np.clip(np.searchsorted(csum, cutoff, side='left'), 0, len(v_sorted)-1))\n",
        "    return float(v_sorted[idx])\n",
        "\n",
        "def _ema(values, alpha=0.7):\n",
        "    if len(values) == 0: return np.nan\n",
        "    ema = float(values[0])\n",
        "    for x in values[1:]:\n",
        "        ema = alpha * float(x) + (1 - alpha) * ema\n",
        "    return float(ema)\n",
        "\n",
        "def build_features_given_history(df_target, hist, basew_map, baseline_fvc_map=None):\n",
        "    rows = []\n",
        "    for pid, g in df_target.groupby(PID):\n",
        "        g_sorted = g.sort_values(WEEK)\n",
        "        prior_list = hist.get(pid, [])\n",
        "        basefvc_const = float(baseline_fvc_map.get(pid, np.nan)) if baseline_fvc_map is not None else np.nan\n",
        "        for idx, r in g_sorted.iterrows():\n",
        "            w = float(r[WEEK]); pct = float(r['Percent']); age = float(r['Age'])\n",
        "            sex = r['Sex']; smoke = r['SmokingStatus']\n",
        "            prior_weeks = [float(pw) for (pw, pf, pp) in prior_list if pw < w]\n",
        "            prior_fvc = [float(pf) for (pw, pf, pp) in prior_list if pw < w]\n",
        "            prior_pct = [float(pp) for (pw, pf, pp) in prior_list if pw < w]\n",
        "            slope, intercept, prmse = huber_slope_intercept(prior_weeks, prior_fvc)\n",
        "            mu_lin = (intercept + slope * w) if np.isfinite(intercept) else np.nan\n",
        "            vcount = len(prior_weeks)\n",
        "            basew = float(basew_map.get(pid, np.nan))\n",
        "            wsb = w - basew if np.isfinite(basew) else np.nan\n",
        "            abs_wsb = abs(wsb) if np.isfinite(wsb) else np.nan\n",
        "            if vcount > 0:\n",
        "                last_w = float(prior_weeks[-1]); last_pct = float(prior_pct[-1]); last_fvc = float(prior_fvc[-1])\n",
        "            else:\n",
        "                last_w = basew if np.isfinite(basew) else w; last_pct = pct; last_fvc = np.nan\n",
        "            weeks_since_last = w - last_w if np.isfinite(w) and np.isfinite(last_w) else np.nan\n",
        "            delta_percent_last = pct - last_pct if np.isfinite(pct) and np.isfinite(last_pct) else 0.0\n",
        "            sex_num = 1 if sex == 'Male' else 0\n",
        "            robust_fvc_level = float(np.median(prior_fvc)) if vcount > 0 else np.nan\n",
        "            if vcount >= 2:\n",
        "                wd = float(prior_weeks[-1] - prior_weeks[-2])\n",
        "                recent_slope_2 = float((prior_fvc[-1] - prior_fvc[-2]) / wd) if wd > 0 else slope\n",
        "            else:\n",
        "                recent_slope_2 = slope\n",
        "            anchor_resid = (last_fvc - mu_lin) if (np.isfinite(last_fvc) and np.isfinite(mu_lin)) else np.nan\n",
        "            tw_med = _time_weighted_median(prior_weeks, prior_fvc, w) if vcount > 0 else np.nan\n",
        "            ema_fvc = _ema(prior_fvc, alpha=0.7) if vcount > 0 else np.nan\n",
        "            if vcount >= 2:\n",
        "                dp = float(prior_pct[-1] - prior_pct[-2]); dw = float(prior_weeks[-1] - prior_weeks[-2])\n",
        "                percent_slope_2 = float(dp / dw) if dw != 0 else 0.0\n",
        "            else:\n",
        "                percent_slope_2 = float(delta_percent_last / max(abs(weeks_since_last), 1.0)) if np.isfinite(weeks_since_last) else 0.0\n",
        "            first_visit_flag = 1 if vcount == 0 else 0\n",
        "            long_gap_flag = 1 if (np.isfinite(weeks_since_last) and abs(weeks_since_last) >= 12.0) else 0\n",
        "            baseline_fvc = basefvc_const\n",
        "            delta_to_baseline = (last_fvc - baseline_fvc) if (np.isfinite(last_fvc) and np.isfinite(baseline_fvc)) else np.nan\n",
        "            weeks_since_anchor = (w - last_w) if np.isfinite(last_w) else np.nan\n",
        "            mean_pct_delta = (np.mean(np.diff(prior_pct)) if vcount >= 2 else 0.0)\n",
        "            rows.append({\n",
        "                'idx': idx, 'Patient': pid, 'Weeks': w,\n",
        "                'baseline_week': basew, 'weeks_since_baseline': wsb,\n",
        "                'abs_wsb': abs_wsb, 'log_abs_wsb': np.log1p(abs_wsb) if np.isfinite(abs_wsb) else np.nan,\n",
        "                'visit_count_so_far': vcount, 'visit_index_so_far': vcount,\n",
        "                'mean_percent_so_far': (np.mean(prior_pct) if vcount > 0 else np.nan),\n",
        "                'slope_prior': slope, 'intercept_prior': intercept, 'mu_lin': mu_lin, 'patient_RMSE': prmse,\n",
        "                'weeks_since_last': weeks_since_last, 'delta_percent_last': delta_percent_last,\n",
        "                'wsb_x_percent': (wsb * pct) if np.isfinite(wsb) else np.nan,\n",
        "                'age_x_sex': age * sex_num, 'percent_x_age': pct * age, 'sex_num': sex_num,\n",
        "                'Percent': pct, 'Age': age, 'Sex': sex, 'SmokingStatus': smoke,\n",
        "                'baseline_FVC': baseline_fvc, 'last_known_FVC': last_fvc,\n",
        "                'delta_to_baseline': delta_to_baseline, 'weeks_since_anchor': weeks_since_anchor,\n",
        "                'robust_fvc_level': robust_fvc_level, 'recent_slope_2': recent_slope_2, 'anchor_resid': anchor_resid,\n",
        "                'tw_median_fvc': tw_med, 'ema_fvc': ema_fvc, 'percent_slope_2': percent_slope_2,\n",
        "                'first_visit': first_visit_flag, 'long_gap': long_gap_flag,\n",
        "                'mean_pct_delta': mean_pct_delta\n",
        "            })\n",
        "    feats = pd.DataFrame(rows).set_index('idx').sort_index()\n",
        "    return feats\n",
        "\n",
        "if 'train' not in globals():\n",
        "    train = pd.read_csv('train.csv')\n",
        "ss = pd.read_csv('sample_submission.csv')\n",
        "sub = ss.copy()\n",
        "sub[[PID, WEEK]] = sub['Patient_Week'].str.rsplit('_', n=1, expand=True)\n",
        "sub[WEEK] = sub[WEEK].astype(int)\n",
        "\n",
        "# Demographics\n",
        "meta_cols = [PID, WEEK, 'Percent','Age','Sex','SmokingStatus']\n",
        "meta_train = train[meta_cols].copy()\n",
        "meta_test_df = pd.read_csv('test.csv')\n",
        "meta_test = meta_test_df[meta_cols + ([TARGET] if TARGET in meta_test_df.columns else [])].copy() if TARGET in meta_test_df.columns else meta_test_df[meta_cols].copy()\n",
        "meta_all = pd.concat([meta_train, meta_test[meta_cols]], axis=0, ignore_index=True).sort_values([PID, WEEK])\n",
        "fill_cols = ['Percent','Age','Sex','SmokingStatus']\n",
        "meta_all[fill_cols] = meta_all.groupby(PID)[fill_cols].ffill()\n",
        "meta_all[fill_cols] = meta_all.groupby(PID)[fill_cols].bfill()\n",
        "sub = sub.merge(meta_all.drop(columns=[WEEK]).drop_duplicates(PID), on=PID, how='left')\n",
        "\n",
        "# Train features (train history only)\n",
        "train_sorted = train.sort_values([PID, WEEK]).reset_index(drop=True)\n",
        "basew_map_full = train_sorted.groupby(PID)[WEEK].min()\n",
        "hist_train = build_history(train_sorted[[PID, WEEK, TARGET, 'Percent']])\n",
        "X_train_full = build_features_given_history(train_sorted[[PID, WEEK, TARGET, 'Percent','Age','Sex','SmokingStatus']], hist_train, basew_map_full, baseline_fvc_map=None)\n",
        "y_full = train_sorted[TARGET].values\n",
        "\n",
        "# Submission features (train\u222atest anchors causally)\n",
        "test_df = pd.read_csv('test.csv')\n",
        "anchors_src = pd.concat([train[[PID, WEEK, TARGET, 'Percent']], test_df[[PID, WEEK, TARGET, 'Percent']]], ignore_index=True)\n",
        "anchors_src = anchors_src.dropna(subset=[TARGET])\n",
        "hist_submit = build_history(anchors_src)\n",
        "minw = anchors_src.sort_values([PID, WEEK]).groupby(PID).head(1)[[PID, TARGET]].set_index(PID)[TARGET].to_dict()\n",
        "X_sub_feats = build_features_given_history(sub[[PID, WEEK, 'Percent','Age','Sex','SmokingStatus']], hist_submit, basew_map_full, baseline_fvc_map=minw)\n",
        "\n",
        "global_med = float(train[TARGET].median())\n",
        "\n",
        "# mu_lin with fallback\n",
        "mu_lin_tr_raw = X_train_full['mu_lin'].values\n",
        "int_tr = X_train_full['intercept_prior'].values\n",
        "mu_lin_tr = np.where(np.isfinite(mu_lin_tr_raw), mu_lin_tr_raw, np.where(np.isfinite(int_tr), int_tr, global_med))\n",
        "y_res_tr = y_full - mu_lin_tr\n",
        "\n",
        "mu_lin_sub_raw = X_sub_feats['mu_lin'].values\n",
        "int_sub = X_sub_feats['intercept_prior'].values\n",
        "mu_lin_sub = np.where(np.isfinite(mu_lin_sub_raw), mu_lin_sub_raw, np.where(np.isfinite(int_sub), int_sub, global_med))\n",
        "\n",
        "def add_interactions(X):\n",
        "    X = X.copy()\n",
        "    X['pos_wsb'] = np.clip(X['weeks_since_baseline'], 0, None)\n",
        "    X['neg_wsb'] = np.clip(-X['weeks_since_baseline'], 0, None)\n",
        "    X['percent_centered'] = X['Percent'] - X['mean_percent_so_far']\n",
        "    X['percent_poswsb'] = X['Percent'] * X['pos_wsb']\n",
        "    X['percent_negwsb'] = X['Percent'] * X['neg_wsb']\n",
        "    X['wsb_x_age'] = X['weeks_since_baseline'] * X['Age']\n",
        "    X['has_history'] = (X['visit_count_so_far'] > 0).astype(int)\n",
        "    X['sqrt_abs_wsb'] = np.sqrt(np.abs(X['weeks_since_baseline']))\n",
        "    return X\n",
        "\n",
        "X_tr_res = X_train_full.drop(columns=[PID, WEEK, 'mu_lin'], errors='ignore')\n",
        "X_tr_res = add_interactions(X_tr_res)\n",
        "X_sub_res = X_sub_feats.drop(columns=[PID, WEEK, 'mu_lin'], errors='ignore')\n",
        "X_sub_res = add_interactions(X_sub_res)\n",
        "\n",
        "for X_ in (X_tr_res, X_sub_res):\n",
        "    X_['slope_bin'] = np.digitize(np.nan_to_num(X_['recent_slope_2'].values.astype(float), nan=0.0),\n",
        "                                  bins=[-50, -20, 0, 20, 50]).astype(int)\n",
        "\n",
        "def add_smoke_age(X_):\n",
        "    s = X_['SmokingStatus'].astype(str).values\n",
        "    X_['age_x_smoke_ex'] = X_['Age'].values * (s == 'Ex-smoker')\n",
        "    X_['age_x_smoke_never'] = X_['Age'].values * (s == 'Never smoked')\n",
        "    X_['age_x_smoke_curr'] = X_['Age'].values * (s == 'Currently smokes')\n",
        "add_smoke_age(X_tr_res); add_smoke_age(X_sub_res)\n",
        "\n",
        "for X_ in (X_tr_res, X_sub_res):\n",
        "    wsl_feat = np.nan_to_num(X_.get('weeks_since_last', pd.Series(0, index=X_.index)).values.astype(float), nan=0.0)\n",
        "    decay = np.exp(-np.clip(np.abs(wsl_feat), 0, 24) / 12.0)\n",
        "    X_['anchor_decay'] = np.nan_to_num(X_.get('anchor_resid', pd.Series(0, index=X_.index)).values.astype(float), nan=0.0) * decay\n",
        "\n",
        "for X_ in (X_tr_res, X_sub_res):\n",
        "    vcount_ = np.nan_to_num(X_.get('visit_count_so_far', pd.Series(0, index=X_.index)).values.astype(float), nan=0.0)\n",
        "    prmse_ = np.nan_to_num(X_.get('patient_RMSE', pd.Series(120.0, index=X_.index)).values.astype(float), nan=120.0)\n",
        "    X_['var_prior'] = prmse_ / np.sqrt(vcount_ + 1.0)\n",
        "\n",
        "assert list(X_tr_res.columns) == list(X_sub_res.columns), 'Train/Sub residual feature columns mismatch'\n",
        "\n",
        "seeds_bag = (42, 123, 456, 789, 2024, 7, 13, 101, 2025, 314159)\n",
        "task_type = 'GPU'\n",
        "try:\n",
        "    cb.CatBoostRegressor(task_type=task_type)\n",
        "except Exception:\n",
        "    task_type = 'CPU'\n",
        "cat_idx = [X_tr_res.columns.get_loc(c) for c in CAT_COLS if c in X_tr_res.columns]\n",
        "\n",
        "res_med_sub_cat_bag = np.zeros(len(X_sub_res), dtype=float)\n",
        "res_med_sub_lgb_bag = np.zeros(len(X_sub_res), dtype=float)\n",
        "sig_cat_sub_bag = np.zeros(len(X_sub_res), dtype=float)\n",
        "sig_q_sub_bag = np.zeros(len(X_sub_res), dtype=float)\n",
        "\n",
        "for si, seed in enumerate(seeds_bag, start=1):\n",
        "    t0 = time.time()\n",
        "    cat_params = dict(depth=6, learning_rate=0.06, iterations=2500, l2_leaf_reg=8.0,\n",
        "                      loss_function='Quantile:alpha=0.5', bootstrap_type='Bernoulli', subsample=0.8,\n",
        "                      random_seed=seed, early_stopping_rounds=200, task_type=task_type, verbose=200, allow_writing_files=False)\n",
        "    if task_type == 'CPU':\n",
        "        cat_params['colsample_bylevel'] = 0.8\n",
        "    cat_res = cb.CatBoostRegressor(**cat_params)\n",
        "    cat_res.fit(X_tr_res, y_res_tr, cat_features=cat_idx, verbose=200)\n",
        "    res_med_tr_cat = cat_res.predict(X_tr_res)\n",
        "    res_med_sub_cat = cat_res.predict(X_sub_res)\n",
        "\n",
        "    X_tr_lgb = X_tr_res.drop(columns=CAT_COLS, errors='ignore')\n",
        "    X_sub_lgb = X_sub_res.drop(columns=CAT_COLS, errors='ignore')\n",
        "    lgb_params = dict(objective='quantile', n_estimators=2000, learning_rate=0.03,\n",
        "                      num_leaves=31, max_depth=6, subsample=0.8, colsample_bytree=0.8,\n",
        "                      min_child_samples=10, reg_alpha=0.1, reg_lambda=0.2,\n",
        "                      verbose=-1, random_state=seed, force_row_wise=True)\n",
        "    dtr = lgb.Dataset(X_tr_lgb, label=y_res_tr, free_raw_data=False)\n",
        "    p15 = lgb_params.copy(); p15['alpha'] = 0.15\n",
        "    p50 = lgb_params.copy(); p50['alpha'] = 0.50\n",
        "    p85 = lgb_params.copy(); p85['alpha'] = 0.85\n",
        "    m15 = lgb.train(p15, dtr, num_boost_round=p15['n_estimators'])\n",
        "    m50 = lgb.train(p50, dtr, num_boost_round=p50['n_estimators'])\n",
        "    m85 = lgb.train(p85, dtr, num_boost_round=p85['n_estimators'])\n",
        "    res_med_sub_lgb = m50.predict(X_sub_lgb)\n",
        "\n",
        "    sig_params = dict(depth=5, learning_rate=0.05, iterations=1200, l2_leaf_reg=6.0, loss_function='RMSE',\n",
        "                      bootstrap_type='Bernoulli', subsample=0.9,\n",
        "                      random_seed=seed, early_stopping_rounds=100, task_type=task_type, verbose=200, allow_writing_files=False)\n",
        "    if task_type == 'CPU':\n",
        "        sig_params['colsample_bylevel'] = 0.8\n",
        "    sig_cat = cb.CatBoostRegressor(**sig_params)\n",
        "    mu_tr_cat = mu_lin_tr + res_med_tr_cat\n",
        "    sig_cat.fit(X_tr_res, np.abs(y_full - mu_tr_cat), cat_features=cat_idx, verbose=200)\n",
        "    sig_cat_sub = np.maximum(sig_cat.predict(X_sub_res), 5.0)\n",
        "    res_q15_sub = m15.predict(X_sub_lgb)\n",
        "    res_q85_sub = m85.predict(X_sub_lgb)\n",
        "    sig_q_sub = np.maximum((res_q85_sub - res_q15_sub) / 2.0, 5.0)\n",
        "\n",
        "    res_med_sub_cat_bag += res_med_sub_cat\n",
        "    res_med_sub_lgb_bag += res_med_sub_lgb\n",
        "    sig_cat_sub_bag += sig_cat_sub\n",
        "    sig_q_sub_bag += sig_q_sub\n",
        "    print(f'Seed {seed} done in {time.time()-t0:.1f}s', flush=True)\n",
        "\n",
        "# Average across seeds\n",
        "res_med_sub_cat = res_med_sub_cat_bag / len(seeds_bag)\n",
        "res_med_sub_lgb = res_med_sub_lgb_bag / len(seeds_bag)\n",
        "sig_cat_sub = sig_cat_sub_bag / len(seeds_bag)\n",
        "sig_q_sub = sig_q_sub_bag / len(seeds_bag)\n",
        "\n",
        "# Residual shrinkage (robust)\n",
        "vcount_sub = np.nan_to_num(X_sub_feats.get('visit_count_so_far', pd.Series(0, index=X_sub_feats.index)).values.astype(float), nan=0.0)\n",
        "wsl = np.nan_to_num(X_sub_feats.get('weeks_since_last', pd.Series(0, index=X_sub_feats.index)).values.astype(float), nan=0.0)\n",
        "pct = np.nan_to_num(X_sub_feats['Percent'].values.astype(float), nan=100.0)\n",
        "\n",
        "shrink_hist = np.minimum(1.0, vcount_sub / 3.0)\n",
        "shrink_gap  = 1.0 / (1.0 + 0.035 * np.clip(np.abs(wsl), 0, 16))\n",
        "shrink_factor = np.maximum(shrink_hist * shrink_gap, 0.45)\n",
        "shrink_factor *= np.where(pct < 60.0, 0.90, 1.0)\n",
        "shrink_factor *= np.where(np.abs(wsl) >= 16.0, 0.92, 1.0)\n",
        "\n",
        "res_med_sub_cat *= shrink_factor\n",
        "res_med_sub_lgb *= shrink_factor\n",
        "\n",
        "# Mu blend\n",
        "w_cat = float(best.get('w_cat', 0.30))\n",
        "mu_final = mu_lin_sub + w_cat * res_med_sub_cat + (1 - w_cat) * res_med_sub_lgb\n",
        "\n",
        "# Mu clamps + de-spike + micro debias (expert patch)\n",
        "last_known = np.nan_to_num(X_sub_feats['last_known_FVC'].values.astype(float), nan=mu_lin_sub)\n",
        "base_fvc = np.nan_to_num(X_sub_feats['baseline_FVC'].values.astype(float), nan=last_known)\n",
        "wsl_anchor = np.nan_to_num(X_sub_feats['weeks_since_anchor'].values.astype(float), nan=0.0)\n",
        "\n",
        "cap_up = last_known + 80.0 - np.clip(np.maximum(wsl_anchor - 6.0, 0.0) * 2.2, 0.0, 35.0)\n",
        "cap_up = np.maximum(cap_up, last_known + 50.0)\n",
        "cap_up = np.minimum(cap_up, last_known + 150.0)\n",
        "mu_final = np.minimum(mu_final, cap_up)\n",
        "mu_final = np.clip(mu_final, base_fvc - 350.0, base_fvc + 200.0)  # was +150, now +200 per expert\n",
        "mu_final = np.maximum(mu_final, last_known - 350.0)\n",
        "\n",
        "wsl_abs = np.abs(wsl_anchor)\n",
        "gamma = np.clip((wsl_abs - 24.0) / 40.0, 0.0, 0.08)\n",
        "mu_final = mu_final * (1.0 - gamma) + last_known * gamma\n",
        "\n",
        "pct_feat = np.nan_to_num(X_sub_feats['Percent'].values.astype(float), nan=80.0)\n",
        "mu_final += np.where(pct_feat < 55.0, -8.0, 0.0)\n",
        "mu_final += np.where(pct_feat > 85.0, +5.0, 0.0)\n",
        "\n",
        "# Sigma blend + calibration (no d_adj; fixed d)\n",
        "d = float(best.get('d', 0.45)); s = float(best.get('s', 1.40))\n",
        "a = float(best.get('a', 40.0)); b = float(best.get('b', 0.9))\n",
        "c = float(best.get('c', 0.9)); e = float(best.get('e', 0.30))\n",
        "\n",
        "sig_raw_blend = np.maximum(d * sig_q_sub + (1 - d) * sig_cat_sub, 5.0)\n",
        "\n",
        "abs_wsb_sub = np.nan_to_num(X_sub_feats['abs_wsb'].values.astype(float), nan=0.0)\n",
        "wsl_sub = np.nan_to_num(X_sub_feats.get('weeks_since_last', pd.Series(0, index=X_sub_feats.index)).values.astype(float), nan=0.0)\n",
        "prmse_sub = np.nan_to_num(X_sub_feats['patient_RMSE'].values.astype(float), nan=120.0)\n",
        "vcs = np.nan_to_num(X_sub_feats.get('visit_count_so_far', pd.Series(0, index=X_sub_feats.index)).values.astype(float), nan=0.0)\n",
        "\n",
        "# Build sigma used for rank mapping (apply generic calibration only here)\n",
        "sigma = np.maximum(sig_raw_blend * s, a + b * np.clip(abs_wsb_sub, 0, 40))\n",
        "sigma = np.maximum(sigma, c * prmse_sub)\n",
        "sigma = np.maximum(sigma, 70.0 + e * np.clip(np.abs(wsl_sub), 0, 12))\n",
        "sigma = np.maximum(sigma, 70.0)\n",
        "\n",
        "# Subgroup floors to preserve AFTER mapping (no generic floors preserved)\n",
        "v0_mask = (vcs == 0)\n",
        "floors_preserve = np.full_like(sigma, 70.0)\n",
        "# mild weeks_since_last safety\n",
        "floors_preserve = np.maximum(floors_preserve, 70.0 + e * np.clip(np.abs(wsl_sub), 0, 12))\n",
        "# v0 only, softer base to avoid central inflation\n",
        "v0_floor = 246.0 + 1.8 * np.clip(np.abs(wsl_sub), 0, 20) + 0.15 * np.clip(abs_wsb_sub, 0, 40)\n",
        "if v0_mask.any():\n",
        "    floors_preserve[v0_mask] = np.maximum(floors_preserve[v0_mask], v0_floor[v0_mask])\n",
        "# extreme gap only\n",
        "extreme_gap_mask = (np.abs(wsl_sub) >= 24.0)\n",
        "if extreme_gap_mask.any():\n",
        "    floors_preserve[extreme_gap_mask] = np.maximum(floors_preserve[extreme_gap_mask], 220.0)\n",
        "\n",
        "# In-cell rank-based quantile mapping + de-tie (slight left bias at median)\n",
        "q_knots = np.array([0.10, 0.25, 0.50, 0.75, 0.90], dtype=float)\n",
        "t_knots = np.array([230.0, 248.0, 249.5, 302.0, 560.0], dtype=float)\n",
        "n = sigma.size\n",
        "r = rankdata(sigma, method='average').astype(float)\n",
        "r = (r - 0.5) / n\n",
        "r = np.clip(r, 1e-6, 1 - 1e-6)\n",
        "r2 = np.clip(r, q_knots[0], q_knots[-1])\n",
        "sigma_mapped = np.interp(r2, q_knots, t_knots)\n",
        "# deterministic tiny jitter\n",
        "rng = np.random.RandomState(2024)\n",
        "sigma_mapped += (rng.rand(n) - 0.5) * 1e-4\n",
        "# de-tie narrowly around 250 with slight left bias (249.6..250.4)\n",
        "near_250 = np.abs(sigma_mapped - 250.0) < 0.5\n",
        "if near_250.sum() > 20:\n",
        "    rr = rankdata(sigma[near_250])\n",
        "    sigma_mapped[near_250] = 249.6 + (rr - 1) / max(len(rr) - 1, 1) * 0.8\n",
        "\n",
        "sigma = np.clip(np.maximum(sigma_mapped, floors_preserve), 70.0, 560.0)\n",
        "\n",
        "# Tiny nudges disabled (keep <=1.5% if enabled), then reclip\n",
        "# dpl = np.nan_to_num(X_sub_feats.get('delta_percent_last', pd.Series(0, index=X_sub_feats.index)).values.astype(float), nan=0.0)\n",
        "# anch_res = np.nan_to_num(X_sub_feats.get('anchor_resid', pd.Series(np.nan, index=X_sub_feats.index)).values.astype(float), nan=0.0)\n",
        "# sigma *= np.where(pct_feat < 60.0, 1.005, 1.0)\n",
        "# sigma *= np.where(dpl < -3.0, 1.005, 1.0)\n",
        "# sigma *= np.where(np.abs(anch_res) > 200.0, 1.005, 1.0)\n",
        "sigma = np.clip(sigma, 70.0, 560.0)\n",
        "\n",
        "# Diagnostics\n",
        "def pctiles(x): return np.percentile(x, [10,25,50,75,90]).round(1)\n",
        "vcount_sub_diag = vcount_sub\n",
        "wsl_sub_diag = wsl_sub\n",
        "abs_wsb_sub_diag = abs_wsb_sub\n",
        "v0_mask_diag = (vcount_sub_diag == 0)\n",
        "ext_gap_diag = (np.abs(wsl_sub_diag) >= 24.0)\n",
        "print('Confidence pct overall [10,25,50,75,90]:', pctiles(sigma))\n",
        "if v0_mask_diag.any(): print('v0 pct:', pctiles(sigma[v0_mask_diag]))\n",
        "if ext_gap_diag.any(): print('ext-gap pct:', pctiles(sigma[ext_gap_diag]))\n",
        "\n",
        "# Write submission\n",
        "out = ss.copy()\n",
        "out['FVC'] = mu_final.astype(float)\n",
        "out['Confidence'] = sigma.astype(float)\n",
        "out.to_csv('submission.csv', index=False)\n",
        "print('Saved submission.csv (In-cell rank-mapped final):', best)\n",
        "\n",
        "warnings.filterwarnings('ignore', category=FutureWarning)"
      ],
      "execution_count": 132,
      "outputs": [
        {
          "output_type": "stream",
          "name": "stdout",
          "text": [
            "Best params from residual CV: {'w_cat': 0.3, 'd': 0.5, 's': 1.6, 'a': 50, 'b': 1.0, 'c': 1.0, 'e': 0.7}\nApplied params: {'w_cat': 0.3, 'd': 0.45, 's': 1.4, 'a': 40.0, 'b': 0.9, 'c': 0.9, 'e': 0.3}\n"
          ]
        },
        {
          "output_type": "stream",
          "name": "stdout",
          "text": [
            "0:\tlearn: 110.9486751\ttotal: 12.4ms\tremaining: 31s\n"
          ]
        },
        {
          "output_type": "stream",
          "name": "stdout",
          "text": [
            "200:\tlearn: 109.1691513\ttotal: 2.33s\tremaining: 26.7s\n"
          ]
        },
        {
          "output_type": "stream",
          "name": "stdout",
          "text": [
            "400:\tlearn: 107.3180707\ttotal: 4.67s\tremaining: 24.5s\n"
          ]
        },
        {
          "output_type": "stream",
          "name": "stdout",
          "text": [
            "600:\tlearn: 105.4792974\ttotal: 7.02s\tremaining: 22.2s\n"
          ]
        },
        {
          "output_type": "stream",
          "name": "stdout",
          "text": [
            "800:\tlearn: 103.6607783\ttotal: 9.34s\tremaining: 19.8s\n"
          ]
        },
        {
          "output_type": "stream",
          "name": "stdout",
          "text": [
            "1000:\tlearn: 101.8744732\ttotal: 11.6s\tremaining: 17.4s\n"
          ]
        },
        {
          "output_type": "stream",
          "name": "stdout",
          "text": [
            "1200:\tlearn: 100.1392127\ttotal: 13.9s\tremaining: 15.1s\n"
          ]
        },
        {
          "output_type": "stream",
          "name": "stdout",
          "text": [
            "1400:\tlearn: 98.4458954\ttotal: 16.2s\tremaining: 12.7s\n"
          ]
        },
        {
          "output_type": "stream",
          "name": "stdout",
          "text": [
            "1600:\tlearn: 96.8092607\ttotal: 18.5s\tremaining: 10.4s\n"
          ]
        },
        {
          "output_type": "stream",
          "name": "stdout",
          "text": [
            "1800:\tlearn: 95.2073619\ttotal: 20.8s\tremaining: 8.05s\n"
          ]
        },
        {
          "output_type": "stream",
          "name": "stdout",
          "text": [
            "2000:\tlearn: 93.6597752\ttotal: 23s\tremaining: 5.74s\n"
          ]
        },
        {
          "output_type": "stream",
          "name": "stdout",
          "text": [
            "2200:\tlearn: 92.1600049\ttotal: 25.3s\tremaining: 3.44s\n"
          ]
        },
        {
          "output_type": "stream",
          "name": "stdout",
          "text": [
            "2400:\tlearn: 90.7360507\ttotal: 27.6s\tremaining: 1.14s\n"
          ]
        },
        {
          "output_type": "stream",
          "name": "stdout",
          "text": [
            "2499:\tlearn: 90.0595297\ttotal: 28.7s\tremaining: 0us\n"
          ]
        },
        {
          "output_type": "stream",
          "name": "stdout",
          "text": [
            "0:\tlearn: 305.2522912\ttotal: 9.76ms\tremaining: 11.7s\n"
          ]
        },
        {
          "output_type": "stream",
          "name": "stdout",
          "text": [
            "200:\tlearn: 133.9262415\ttotal: 1.86s\tremaining: 9.27s\n"
          ]
        },
        {
          "output_type": "stream",
          "name": "stdout",
          "text": [
            "400:\tlearn: 124.8309962\ttotal: 3.72s\tremaining: 7.41s\n"
          ]
        },
        {
          "output_type": "stream",
          "name": "stdout",
          "text": [
            "600:\tlearn: 119.5690072\ttotal: 5.57s\tremaining: 5.55s\n"
          ]
        },
        {
          "output_type": "stream",
          "name": "stdout",
          "text": [
            "800:\tlearn: 116.6105488\ttotal: 7.36s\tremaining: 3.67s\n"
          ]
        },
        {
          "output_type": "stream",
          "name": "stdout",
          "text": [
            "1000:\tlearn: 113.2394652\ttotal: 9.06s\tremaining: 1.8s\n"
          ]
        },
        {
          "output_type": "stream",
          "name": "stdout",
          "text": [
            "1199:\tlearn: 110.7334424\ttotal: 10.7s\tremaining: 0us\nSeed 42 done in 50.1s\n"
          ]
        },
        {
          "output_type": "stream",
          "name": "stdout",
          "text": [
            "0:\tlearn: 110.9487424\ttotal: 11.6ms\tremaining: 29s\n"
          ]
        },
        {
          "output_type": "stream",
          "name": "stdout",
          "text": [
            "200:\tlearn: 109.1757084\ttotal: 2.24s\tremaining: 25.6s\n"
          ]
        },
        {
          "output_type": "stream",
          "name": "stdout",
          "text": [
            "400:\tlearn: 107.3162101\ttotal: 4.53s\tremaining: 23.7s\n"
          ]
        },
        {
          "output_type": "stream",
          "name": "stdout",
          "text": [
            "600:\tlearn: 105.4754080\ttotal: 6.82s\tremaining: 21.6s\n"
          ]
        },
        {
          "output_type": "stream",
          "name": "stdout",
          "text": [
            "800:\tlearn: 103.6601282\ttotal: 9.11s\tremaining: 19.3s\n"
          ]
        },
        {
          "output_type": "stream",
          "name": "stdout",
          "text": [
            "1000:\tlearn: 101.8810079\ttotal: 11.4s\tremaining: 17.1s\n"
          ]
        },
        {
          "output_type": "stream",
          "name": "stdout",
          "text": [
            "1200:\tlearn: 100.1375538\ttotal: 13.7s\tremaining: 14.8s\n"
          ]
        },
        {
          "output_type": "stream",
          "name": "stdout",
          "text": [
            "1400:\tlearn: 98.4420059\ttotal: 16s\tremaining: 12.5s\n"
          ]
        },
        {
          "output_type": "stream",
          "name": "stdout",
          "text": [
            "1600:\tlearn: 96.7714199\ttotal: 18.3s\tremaining: 10.3s\n"
          ]
        },
        {
          "output_type": "stream",
          "name": "stdout",
          "text": [
            "1800:\tlearn: 95.1522373\ttotal: 20.7s\tremaining: 8.02s\n"
          ]
        },
        {
          "output_type": "stream",
          "name": "stdout",
          "text": [
            "2000:\tlearn: 93.5871368\ttotal: 23s\tremaining: 5.73s\n"
          ]
        },
        {
          "output_type": "stream",
          "name": "stdout",
          "text": [
            "2200:\tlearn: 92.0807422\ttotal: 25.3s\tremaining: 3.44s\n"
          ]
        },
        {
          "output_type": "stream",
          "name": "stdout",
          "text": [
            "2400:\tlearn: 90.6526464\ttotal: 27.7s\tremaining: 1.14s\n"
          ]
        },
        {
          "output_type": "stream",
          "name": "stdout",
          "text": [
            "2499:\tlearn: 89.9737491\ttotal: 28.8s\tremaining: 0us\n"
          ]
        },
        {
          "output_type": "stream",
          "name": "stdout",
          "text": [
            "0:\tlearn: 305.2736195\ttotal: 10.5ms\tremaining: 12.5s\n"
          ]
        },
        {
          "output_type": "stream",
          "name": "stdout",
          "text": [
            "200:\tlearn: 134.3752108\ttotal: 1.92s\tremaining: 9.52s\n"
          ]
        },
        {
          "output_type": "stream",
          "name": "stdout",
          "text": [
            "400:\tlearn: 125.7441551\ttotal: 3.8s\tremaining: 7.58s\n"
          ]
        },
        {
          "output_type": "stream",
          "name": "stdout",
          "text": [
            "600:\tlearn: 116.8583798\ttotal: 5.65s\tremaining: 5.63s\n"
          ]
        },
        {
          "output_type": "stream",
          "name": "stdout",
          "text": [
            "800:\tlearn: 113.8946315\ttotal: 7.3s\tremaining: 3.64s\n"
          ]
        },
        {
          "output_type": "stream",
          "name": "stdout",
          "text": [
            "1000:\tlearn: 112.4381035\ttotal: 8.94s\tremaining: 1.78s\n"
          ]
        },
        {
          "output_type": "stream",
          "name": "stdout",
          "text": [
            "1199:\tlearn: 110.6325493\ttotal: 10.5s\tremaining: 0us\nSeed 123 done in 49.7s\n"
          ]
        },
        {
          "output_type": "stream",
          "name": "stdout",
          "text": [
            "0:\tlearn: 110.9481035\ttotal: 11.8ms\tremaining: 29.5s\n"
          ]
        },
        {
          "output_type": "stream",
          "name": "stdout",
          "text": [
            "200:\tlearn: 109.1743073\ttotal: 2.27s\tremaining: 26s\n"
          ]
        },
        {
          "output_type": "stream",
          "name": "stdout",
          "text": [
            "400:\tlearn: 107.3211980\ttotal: 4.54s\tremaining: 23.8s\n"
          ]
        },
        {
          "output_type": "stream",
          "name": "stdout",
          "text": [
            "600:\tlearn: 105.4843077\ttotal: 6.81s\tremaining: 21.5s\n"
          ]
        },
        {
          "output_type": "stream",
          "name": "stdout",
          "text": [
            "800:\tlearn: 103.6558801\ttotal: 9.07s\tremaining: 19.2s\n"
          ]
        },
        {
          "output_type": "stream",
          "name": "stdout",
          "text": [
            "1000:\tlearn: 101.8684205\ttotal: 11.3s\tremaining: 17s\n"
          ]
        },
        {
          "output_type": "stream",
          "name": "stdout",
          "text": [
            "1200:\tlearn: 100.1261657\ttotal: 13.6s\tremaining: 14.7s\n"
          ]
        },
        {
          "output_type": "stream",
          "name": "stdout",
          "text": [
            "1400:\tlearn: 98.4249014\ttotal: 15.9s\tremaining: 12.5s\n"
          ]
        },
        {
          "output_type": "stream",
          "name": "stdout",
          "text": [
            "1600:\tlearn: 96.7648740\ttotal: 18.2s\tremaining: 10.2s\n"
          ]
        },
        {
          "output_type": "stream",
          "name": "stdout",
          "text": [
            "1800:\tlearn: 95.1423175\ttotal: 20.4s\tremaining: 7.94s\n"
          ]
        },
        {
          "output_type": "stream",
          "name": "stdout",
          "text": [
            "2000:\tlearn: 93.5784052\ttotal: 22.7s\tremaining: 5.67s\n"
          ]
        },
        {
          "output_type": "stream",
          "name": "stdout",
          "text": [
            "2200:\tlearn: 92.0513417\ttotal: 25s\tremaining: 3.4s\n"
          ]
        },
        {
          "output_type": "stream",
          "name": "stdout",
          "text": [
            "2400:\tlearn: 90.6149682\ttotal: 27.3s\tremaining: 1.13s\n"
          ]
        },
        {
          "output_type": "stream",
          "name": "stdout",
          "text": [
            "2499:\tlearn: 89.9392598\ttotal: 28.5s\tremaining: 0us\n"
          ]
        },
        {
          "output_type": "stream",
          "name": "stdout",
          "text": [
            "0:\tlearn: 305.4422576\ttotal: 10.2ms\tremaining: 12.2s\n"
          ]
        },
        {
          "output_type": "stream",
          "name": "stdout",
          "text": [
            "200:\tlearn: 129.9102107\ttotal: 1.88s\tremaining: 9.34s\n"
          ]
        },
        {
          "output_type": "stream",
          "name": "stdout",
          "text": [
            "400:\tlearn: 118.2428925\ttotal: 3.73s\tremaining: 7.44s\n"
          ]
        },
        {
          "output_type": "stream",
          "name": "stdout",
          "text": [
            "600:\tlearn: 114.3367563\ttotal: 5.62s\tremaining: 5.6s\n"
          ]
        },
        {
          "output_type": "stream",
          "name": "stdout",
          "text": [
            "800:\tlearn: 112.9162727\ttotal: 7.48s\tremaining: 3.72s\n"
          ]
        },
        {
          "output_type": "stream",
          "name": "stdout",
          "text": [
            "1000:\tlearn: 112.4430479\ttotal: 9.21s\tremaining: 1.83s\n"
          ]
        },
        {
          "output_type": "stream",
          "name": "stdout",
          "text": [
            "1199:\tlearn: 112.3492582\ttotal: 10.9s\tremaining: 0us\nSeed 456 done in 50.6s\n"
          ]
        },
        {
          "output_type": "stream",
          "name": "stdout",
          "text": [
            "0:\tlearn: 110.9493140\ttotal: 10.8ms\tremaining: 26.9s\n"
          ]
        },
        {
          "output_type": "stream",
          "name": "stdout",
          "text": [
            "200:\tlearn: 109.1746548\ttotal: 2.35s\tremaining: 26.8s\n"
          ]
        },
        {
          "output_type": "stream",
          "name": "stdout",
          "text": [
            "400:\tlearn: 107.3189338\ttotal: 4.65s\tremaining: 24.3s\n"
          ]
        },
        {
          "output_type": "stream",
          "name": "stdout",
          "text": [
            "600:\tlearn: 105.4855407\ttotal: 6.93s\tremaining: 21.9s\n"
          ]
        },
        {
          "output_type": "stream",
          "name": "stdout",
          "text": [
            "800:\tlearn: 103.6646790\ttotal: 9.22s\tremaining: 19.6s\n"
          ]
        },
        {
          "output_type": "stream",
          "name": "stdout",
          "text": [
            "1000:\tlearn: 101.8816356\ttotal: 11.5s\tremaining: 17.2s\n"
          ]
        },
        {
          "output_type": "stream",
          "name": "stdout",
          "text": [
            "1200:\tlearn: 100.1355362\ttotal: 13.8s\tremaining: 14.9s\n"
          ]
        },
        {
          "output_type": "stream",
          "name": "stdout",
          "text": [
            "1400:\tlearn: 98.4207541\ttotal: 16.1s\tremaining: 12.6s\n"
          ]
        },
        {
          "output_type": "stream",
          "name": "stdout",
          "text": [
            "1600:\tlearn: 96.7516701\ttotal: 18.4s\tremaining: 10.3s\n"
          ]
        },
        {
          "output_type": "stream",
          "name": "stdout",
          "text": [
            "1800:\tlearn: 95.1315907\ttotal: 20.6s\tremaining: 8.01s\n"
          ]
        },
        {
          "output_type": "stream",
          "name": "stdout",
          "text": [
            "2000:\tlearn: 93.5649267\ttotal: 23s\tremaining: 5.72s\n"
          ]
        },
        {
          "output_type": "stream",
          "name": "stdout",
          "text": [
            "2200:\tlearn: 92.0542616\ttotal: 25.3s\tremaining: 3.43s\n"
          ]
        },
        {
          "output_type": "stream",
          "name": "stdout",
          "text": [
            "2400:\tlearn: 90.6324874\ttotal: 27.6s\tremaining: 1.14s\n"
          ]
        },
        {
          "output_type": "stream",
          "name": "stdout",
          "text": [
            "2499:\tlearn: 89.9483613\ttotal: 28.7s\tremaining: 0us\n"
          ]
        },
        {
          "output_type": "stream",
          "name": "stdout",
          "text": [
            "0:\tlearn: 306.0888179\ttotal: 10.4ms\tremaining: 12.5s\n"
          ]
        },
        {
          "output_type": "stream",
          "name": "stdout",
          "text": [
            "200:\tlearn: 135.0629695\ttotal: 1.87s\tremaining: 9.29s\n"
          ]
        },
        {
          "output_type": "stream",
          "name": "stdout",
          "text": [
            "400:\tlearn: 120.4895621\ttotal: 3.74s\tremaining: 7.45s\n"
          ]
        },
        {
          "output_type": "stream",
          "name": "stdout",
          "text": [
            "600:\tlearn: 117.6263691\ttotal: 5.61s\tremaining: 5.59s\n"
          ]
        },
        {
          "output_type": "stream",
          "name": "stdout",
          "text": [
            "800:\tlearn: 116.6676662\ttotal: 7.47s\tremaining: 3.72s\n"
          ]
        },
        {
          "output_type": "stream",
          "name": "stdout",
          "text": [
            "1000:\tlearn: 114.9104074\ttotal: 9.33s\tremaining: 1.85s\n"
          ]
        },
        {
          "output_type": "stream",
          "name": "stdout",
          "text": [
            "1199:\tlearn: 111.7058869\ttotal: 11.2s\tremaining: 0us\nSeed 789 done in 51.5s\n"
          ]
        },
        {
          "output_type": "stream",
          "name": "stdout",
          "text": [
            "0:\tlearn: 110.9491235\ttotal: 9.12ms\tremaining: 22.8s\n"
          ]
        },
        {
          "output_type": "stream",
          "name": "stdout",
          "text": [
            "200:\tlearn: 109.1767396\ttotal: 2.28s\tremaining: 26.1s\n"
          ]
        },
        {
          "output_type": "stream",
          "name": "stdout",
          "text": [
            "400:\tlearn: 107.3219714\ttotal: 4.56s\tremaining: 23.9s\n"
          ]
        },
        {
          "output_type": "stream",
          "name": "stdout",
          "text": [
            "600:\tlearn: 105.4830075\ttotal: 6.84s\tremaining: 21.6s\n"
          ]
        },
        {
          "output_type": "stream",
          "name": "stdout",
          "text": [
            "800:\tlearn: 103.6625045\ttotal: 9.13s\tremaining: 19.4s\n"
          ]
        },
        {
          "output_type": "stream",
          "name": "stdout",
          "text": [
            "1000:\tlearn: 101.8799991\ttotal: 11.4s\tremaining: 17.1s\n"
          ]
        },
        {
          "output_type": "stream",
          "name": "stdout",
          "text": [
            "1200:\tlearn: 100.1449067\ttotal: 13.7s\tremaining: 14.8s\n"
          ]
        },
        {
          "output_type": "stream",
          "name": "stdout",
          "text": [
            "1400:\tlearn: 98.4442140\ttotal: 16s\tremaining: 12.6s\n"
          ]
        },
        {
          "output_type": "stream",
          "name": "stdout",
          "text": [
            "1600:\tlearn: 96.7751412\ttotal: 18.3s\tremaining: 10.3s\n"
          ]
        },
        {
          "output_type": "stream",
          "name": "stdout",
          "text": [
            "1800:\tlearn: 95.1452318\ttotal: 20.5s\tremaining: 7.97s\n"
          ]
        },
        {
          "output_type": "stream",
          "name": "stdout",
          "text": [
            "2000:\tlearn: 93.5765894\ttotal: 22.8s\tremaining: 5.69s\n"
          ]
        },
        {
          "output_type": "stream",
          "name": "stdout",
          "text": [
            "2200:\tlearn: 92.0640524\ttotal: 25.1s\tremaining: 3.41s\n"
          ]
        },
        {
          "output_type": "stream",
          "name": "stdout",
          "text": [
            "2400:\tlearn: 90.6125359\ttotal: 27.4s\tremaining: 1.13s\n"
          ]
        },
        {
          "output_type": "stream",
          "name": "stdout",
          "text": [
            "2499:\tlearn: 89.9209335\ttotal: 28.5s\tremaining: 0us\n"
          ]
        },
        {
          "output_type": "stream",
          "name": "stdout",
          "text": [
            "0:\tlearn: 305.3370882\ttotal: 9.99ms\tremaining: 12s\n"
          ]
        },
        {
          "output_type": "stream",
          "name": "stdout",
          "text": [
            "200:\tlearn: 121.0740314\ttotal: 1.86s\tremaining: 9.25s\n"
          ]
        },
        {
          "output_type": "stream",
          "name": "stdout",
          "text": [
            "400:\tlearn: 113.6291572\ttotal: 3.7s\tremaining: 7.38s\n"
          ]
        },
        {
          "output_type": "stream",
          "name": "stdout",
          "text": [
            "600:\tlearn: 111.8915493\ttotal: 5.54s\tremaining: 5.52s\n"
          ]
        },
        {
          "output_type": "stream",
          "name": "stdout",
          "text": [
            "800:\tlearn: 109.1560326\ttotal: 7.39s\tremaining: 3.68s\n"
          ]
        },
        {
          "output_type": "stream",
          "name": "stdout",
          "text": [
            "1000:\tlearn: 107.6932916\ttotal: 9.24s\tremaining: 1.84s\n"
          ]
        },
        {
          "output_type": "stream",
          "name": "stdout",
          "text": [
            "1199:\tlearn: 107.3102108\ttotal: 10.9s\tremaining: 0us\nSeed 2024 done in 49.9s\n"
          ]
        },
        {
          "output_type": "stream",
          "name": "stdout",
          "text": [
            "0:\tlearn: 110.9479914\ttotal: 12.1ms\tremaining: 30.1s\n"
          ]
        },
        {
          "output_type": "stream",
          "name": "stdout",
          "text": [
            "200:\tlearn: 109.1660016\ttotal: 2.3s\tremaining: 26.4s\n"
          ]
        },
        {
          "output_type": "stream",
          "name": "stdout",
          "text": [
            "400:\tlearn: 107.3090029\ttotal: 4.62s\tremaining: 24.2s\n"
          ]
        },
        {
          "output_type": "stream",
          "name": "stdout",
          "text": [
            "600:\tlearn: 105.4727067\ttotal: 6.95s\tremaining: 21.9s\n"
          ]
        },
        {
          "output_type": "stream",
          "name": "stdout",
          "text": [
            "800:\tlearn: 103.6530779\ttotal: 9.26s\tremaining: 19.6s\n"
          ]
        },
        {
          "output_type": "stream",
          "name": "stdout",
          "text": [
            "1000:\tlearn: 101.8643853\ttotal: 11.6s\tremaining: 17.3s\n"
          ]
        },
        {
          "output_type": "stream",
          "name": "stdout",
          "text": [
            "1200:\tlearn: 100.1227807\ttotal: 13.9s\tremaining: 15s\n"
          ]
        },
        {
          "output_type": "stream",
          "name": "stdout",
          "text": [
            "1400:\tlearn: 98.4157550\ttotal: 16.2s\tremaining: 12.7s\n"
          ]
        },
        {
          "output_type": "stream",
          "name": "stdout",
          "text": [
            "1600:\tlearn: 96.7492042\ttotal: 18.5s\tremaining: 10.4s\n"
          ]
        },
        {
          "output_type": "stream",
          "name": "stdout",
          "text": [
            "1800:\tlearn: 95.1217158\ttotal: 20.8s\tremaining: 8.06s\n"
          ]
        },
        {
          "output_type": "stream",
          "name": "stdout",
          "text": [
            "2000:\tlearn: 93.5597314\ttotal: 23.1s\tremaining: 5.75s\n"
          ]
        },
        {
          "output_type": "stream",
          "name": "stdout",
          "text": [
            "2200:\tlearn: 92.0346799\ttotal: 25.3s\tremaining: 3.44s\n"
          ]
        },
        {
          "output_type": "stream",
          "name": "stdout",
          "text": [
            "2400:\tlearn: 90.5730362\ttotal: 27.6s\tremaining: 1.14s\n"
          ]
        },
        {
          "output_type": "stream",
          "name": "stdout",
          "text": [
            "2499:\tlearn: 89.8842192\ttotal: 28.8s\tremaining: 0us\n"
          ]
        },
        {
          "output_type": "stream",
          "name": "stdout",
          "text": [
            "0:\tlearn: 304.4299327\ttotal: 10ms\tremaining: 12s\n"
          ]
        },
        {
          "output_type": "stream",
          "name": "stdout",
          "text": [
            "200:\tlearn: 141.2746950\ttotal: 1.86s\tremaining: 9.23s\n"
          ]
        },
        {
          "output_type": "stream",
          "name": "stdout",
          "text": [
            "400:\tlearn: 125.9667181\ttotal: 3.71s\tremaining: 7.38s\n"
          ]
        },
        {
          "output_type": "stream",
          "name": "stdout",
          "text": [
            "600:\tlearn: 120.3995679\ttotal: 5.51s\tremaining: 5.5s\n"
          ]
        },
        {
          "output_type": "stream",
          "name": "stdout",
          "text": [
            "800:\tlearn: 113.9579512\ttotal: 7.31s\tremaining: 3.64s\n"
          ]
        },
        {
          "output_type": "stream",
          "name": "stdout",
          "text": [
            "1000:\tlearn: 111.0430849\ttotal: 9.04s\tremaining: 1.8s\n"
          ]
        },
        {
          "output_type": "stream",
          "name": "stdout",
          "text": [
            "1199:\tlearn: 106.5919962\ttotal: 10.9s\tremaining: 0us\nSeed 7 done in 50.1s\n"
          ]
        },
        {
          "output_type": "stream",
          "name": "stdout",
          "text": [
            "0:\tlearn: 110.9483501\ttotal: 11.5ms\tremaining: 28.8s\n"
          ]
        },
        {
          "output_type": "stream",
          "name": "stdout",
          "text": [
            "200:\tlearn: 109.1707990\ttotal: 2.3s\tremaining: 26.3s\n"
          ]
        },
        {
          "output_type": "stream",
          "name": "stdout",
          "text": [
            "400:\tlearn: 107.3145288\ttotal: 4.61s\tremaining: 24.1s\n"
          ]
        },
        {
          "output_type": "stream",
          "name": "stdout",
          "text": [
            "600:\tlearn: 105.4747355\ttotal: 6.9s\tremaining: 21.8s\n"
          ]
        },
        {
          "output_type": "stream",
          "name": "stdout",
          "text": [
            "800:\tlearn: 103.6540867\ttotal: 9.2s\tremaining: 19.5s\n"
          ]
        },
        {
          "output_type": "stream",
          "name": "stdout",
          "text": [
            "1000:\tlearn: 101.8771072\ttotal: 11.5s\tremaining: 17.2s\n"
          ]
        },
        {
          "output_type": "stream",
          "name": "stdout",
          "text": [
            "1200:\tlearn: 100.1496144\ttotal: 13.8s\tremaining: 14.9s\n"
          ]
        },
        {
          "output_type": "stream",
          "name": "stdout",
          "text": [
            "1400:\tlearn: 98.4421628\ttotal: 16.1s\tremaining: 12.6s\n"
          ]
        },
        {
          "output_type": "stream",
          "name": "stdout",
          "text": [
            "1600:\tlearn: 96.7734263\ttotal: 18.4s\tremaining: 10.3s\n"
          ]
        },
        {
          "output_type": "stream",
          "name": "stdout",
          "text": [
            "1800:\tlearn: 95.1560034\ttotal: 20.7s\tremaining: 8.02s\n"
          ]
        },
        {
          "output_type": "stream",
          "name": "stdout",
          "text": [
            "2000:\tlearn: 93.5897933\ttotal: 22.9s\tremaining: 5.72s\n"
          ]
        },
        {
          "output_type": "stream",
          "name": "stdout",
          "text": [
            "2200:\tlearn: 92.0764437\ttotal: 25.2s\tremaining: 3.43s\n"
          ]
        },
        {
          "output_type": "stream",
          "name": "stdout",
          "text": [
            "2400:\tlearn: 90.6275332\ttotal: 27.5s\tremaining: 1.13s\n"
          ]
        },
        {
          "output_type": "stream",
          "name": "stdout",
          "text": [
            "2499:\tlearn: 89.9452901\ttotal: 28.6s\tremaining: 0us\n"
          ]
        },
        {
          "output_type": "stream",
          "name": "stdout",
          "text": [
            "0:\tlearn: 305.9826422\ttotal: 10.2ms\tremaining: 12.2s\n"
          ]
        },
        {
          "output_type": "stream",
          "name": "stdout",
          "text": [
            "200:\tlearn: 127.5305798\ttotal: 1.85s\tremaining: 9.19s\n"
          ]
        },
        {
          "output_type": "stream",
          "name": "stdout",
          "text": [
            "400:\tlearn: 117.1317790\ttotal: 3.7s\tremaining: 7.37s\n"
          ]
        },
        {
          "output_type": "stream",
          "name": "stdout",
          "text": [
            "600:\tlearn: 114.3976929\ttotal: 5.54s\tremaining: 5.52s\n"
          ]
        },
        {
          "output_type": "stream",
          "name": "stdout",
          "text": [
            "800:\tlearn: 112.8769597\ttotal: 7.34s\tremaining: 3.66s\n"
          ]
        },
        {
          "output_type": "stream",
          "name": "stdout",
          "text": [
            "1000:\tlearn: 112.0871638\ttotal: 9.02s\tremaining: 1.79s\n"
          ]
        },
        {
          "output_type": "stream",
          "name": "stdout",
          "text": [
            "1199:\tlearn: 111.9315096\ttotal: 10.7s\tremaining: 0us\nSeed 13 done in 51.0s\n"
          ]
        },
        {
          "output_type": "stream",
          "name": "stdout",
          "text": [
            "0:\tlearn: 110.9497063\ttotal: 12.1ms\tremaining: 30.2s\n"
          ]
        },
        {
          "output_type": "stream",
          "name": "stdout",
          "text": [
            "200:\tlearn: 109.1855273\ttotal: 2.29s\tremaining: 26.2s\n"
          ]
        },
        {
          "output_type": "stream",
          "name": "stdout",
          "text": [
            "400:\tlearn: 107.3332698\ttotal: 4.6s\tremaining: 24.1s\n"
          ]
        },
        {
          "output_type": "stream",
          "name": "stdout",
          "text": [
            "600:\tlearn: 105.4870203\ttotal: 6.9s\tremaining: 21.8s\n"
          ]
        },
        {
          "output_type": "stream",
          "name": "stdout",
          "text": [
            "800:\tlearn: 103.6600610\ttotal: 9.21s\tremaining: 19.5s\n"
          ]
        },
        {
          "output_type": "stream",
          "name": "stdout",
          "text": [
            "1000:\tlearn: 101.8758519\ttotal: 11.5s\tremaining: 17.2s\n"
          ]
        },
        {
          "output_type": "stream",
          "name": "stdout",
          "text": [
            "1200:\tlearn: 100.1451421\ttotal: 13.8s\tremaining: 14.9s\n"
          ]
        },
        {
          "output_type": "stream",
          "name": "stdout",
          "text": [
            "1400:\tlearn: 98.4469714\ttotal: 16.1s\tremaining: 12.6s\n"
          ]
        },
        {
          "output_type": "stream",
          "name": "stdout",
          "text": [
            "1600:\tlearn: 96.7932097\ttotal: 18.4s\tremaining: 10.3s\n"
          ]
        },
        {
          "output_type": "stream",
          "name": "stdout",
          "text": [
            "1800:\tlearn: 95.1880156\ttotal: 20.7s\tremaining: 8.03s\n"
          ]
        },
        {
          "output_type": "stream",
          "name": "stdout",
          "text": [
            "2000:\tlearn: 93.6341015\ttotal: 23s\tremaining: 5.73s\n"
          ]
        },
        {
          "output_type": "stream",
          "name": "stdout",
          "text": [
            "2200:\tlearn: 92.1188296\ttotal: 25.3s\tremaining: 3.43s\n"
          ]
        },
        {
          "output_type": "stream",
          "name": "stdout",
          "text": [
            "2400:\tlearn: 90.6764538\ttotal: 27.6s\tremaining: 1.14s\n"
          ]
        },
        {
          "output_type": "stream",
          "name": "stdout",
          "text": [
            "2499:\tlearn: 89.9889370\ttotal: 28.7s\tremaining: 0us\n"
          ]
        },
        {
          "output_type": "stream",
          "name": "stdout",
          "text": [
            "0:\tlearn: 306.2331236\ttotal: 10ms\tremaining: 12s\n"
          ]
        },
        {
          "output_type": "stream",
          "name": "stdout",
          "text": [
            "200:\tlearn: 135.0727260\ttotal: 1.86s\tremaining: 9.25s\n"
          ]
        },
        {
          "output_type": "stream",
          "name": "stdout",
          "text": [
            "400:\tlearn: 120.8826458\ttotal: 3.72s\tremaining: 7.41s\n"
          ]
        },
        {
          "output_type": "stream",
          "name": "stdout",
          "text": [
            "600:\tlearn: 116.6547654\ttotal: 5.54s\tremaining: 5.53s\n"
          ]
        },
        {
          "output_type": "stream",
          "name": "stdout",
          "text": [
            "800:\tlearn: 112.6323866\ttotal: 7.21s\tremaining: 3.59s\n"
          ]
        },
        {
          "output_type": "stream",
          "name": "stdout",
          "text": [
            "1000:\tlearn: 110.4039797\ttotal: 8.81s\tremaining: 1.75s\n"
          ]
        },
        {
          "output_type": "stream",
          "name": "stdout",
          "text": [
            "1199:\tlearn: 108.7385212\ttotal: 10.6s\tremaining: 0us\nSeed 101 done in 49.9s\n"
          ]
        },
        {
          "output_type": "stream",
          "name": "stdout",
          "text": [
            "0:\tlearn: 110.9482380\ttotal: 12.3ms\tremaining: 30.9s\n"
          ]
        },
        {
          "output_type": "stream",
          "name": "stdout",
          "text": [
            "200:\tlearn: 109.1761455\ttotal: 2.31s\tremaining: 26.4s\n"
          ]
        },
        {
          "output_type": "stream",
          "name": "stdout",
          "text": [
            "400:\tlearn: 107.3225879\ttotal: 4.6s\tremaining: 24.1s\n"
          ]
        },
        {
          "output_type": "stream",
          "name": "stdout",
          "text": [
            "600:\tlearn: 105.4805528\ttotal: 6.9s\tremaining: 21.8s\n"
          ]
        },
        {
          "output_type": "stream",
          "name": "stdout",
          "text": [
            "800:\tlearn: 103.6647911\ttotal: 9.2s\tremaining: 19.5s\n"
          ]
        },
        {
          "output_type": "stream",
          "name": "stdout",
          "text": [
            "1000:\tlearn: 101.8745292\ttotal: 11.5s\tremaining: 17.2s\n"
          ]
        },
        {
          "output_type": "stream",
          "name": "stdout",
          "text": [
            "1200:\tlearn: 100.1360855\ttotal: 13.8s\tremaining: 14.9s\n"
          ]
        },
        {
          "output_type": "stream",
          "name": "stdout",
          "text": [
            "1400:\tlearn: 98.4306739\ttotal: 16.1s\tremaining: 12.6s\n"
          ]
        },
        {
          "output_type": "stream",
          "name": "stdout",
          "text": [
            "1600:\tlearn: 96.7659725\ttotal: 18.4s\tremaining: 10.3s\n"
          ]
        },
        {
          "output_type": "stream",
          "name": "stdout",
          "text": [
            "1800:\tlearn: 95.1297973\ttotal: 20.7s\tremaining: 8.03s\n"
          ]
        },
        {
          "output_type": "stream",
          "name": "stdout",
          "text": [
            "2000:\tlearn: 93.5602582\ttotal: 23s\tremaining: 5.73s\n"
          ]
        },
        {
          "output_type": "stream",
          "name": "stdout",
          "text": [
            "2200:\tlearn: 92.0540822\ttotal: 25.3s\tremaining: 3.43s\n"
          ]
        },
        {
          "output_type": "stream",
          "name": "stdout",
          "text": [
            "2400:\tlearn: 90.6443631\ttotal: 27.6s\tremaining: 1.14s\n"
          ]
        },
        {
          "output_type": "stream",
          "name": "stdout",
          "text": [
            "2499:\tlearn: 89.9683689\ttotal: 28.7s\tremaining: 0us\n"
          ]
        },
        {
          "output_type": "stream",
          "name": "stdout",
          "text": [
            "0:\tlearn: 305.8303372\ttotal: 10.1ms\tremaining: 12.1s\n"
          ]
        },
        {
          "output_type": "stream",
          "name": "stdout",
          "text": [
            "200:\tlearn: 147.2024636\ttotal: 1.84s\tremaining: 9.17s\n"
          ]
        },
        {
          "output_type": "stream",
          "name": "stdout",
          "text": [
            "400:\tlearn: 130.5309706\ttotal: 3.68s\tremaining: 7.34s\n"
          ]
        },
        {
          "output_type": "stream",
          "name": "stdout",
          "text": [
            "600:\tlearn: 122.9315635\ttotal: 5.55s\tremaining: 5.53s\n"
          ]
        },
        {
          "output_type": "stream",
          "name": "stdout",
          "text": [
            "800:\tlearn: 115.2196642\ttotal: 7.42s\tremaining: 3.7s\n"
          ]
        },
        {
          "output_type": "stream",
          "name": "stdout",
          "text": [
            "1000:\tlearn: 106.7446705\ttotal: 9.24s\tremaining: 1.84s\n"
          ]
        },
        {
          "output_type": "stream",
          "name": "stdout",
          "text": [
            "1199:\tlearn: 98.6737338\ttotal: 11.1s\tremaining: 0us\nSeed 2025 done in 50.7s\n"
          ]
        },
        {
          "output_type": "stream",
          "name": "stdout",
          "text": [
            "0:\tlearn: 110.9489890\ttotal: 12.1ms\tremaining: 30.2s\n"
          ]
        },
        {
          "output_type": "stream",
          "name": "stdout",
          "text": [
            "200:\tlearn: 109.1746996\ttotal: 2.28s\tremaining: 26s\n"
          ]
        },
        {
          "output_type": "stream",
          "name": "stdout",
          "text": [
            "400:\tlearn: 107.3193598\ttotal: 4.57s\tremaining: 23.9s\n"
          ]
        },
        {
          "output_type": "stream",
          "name": "stdout",
          "text": [
            "600:\tlearn: 105.4740069\ttotal: 6.86s\tremaining: 21.7s\n"
          ]
        },
        {
          "output_type": "stream",
          "name": "stdout",
          "text": [
            "800:\tlearn: 103.6503766\ttotal: 9.16s\tremaining: 19.4s\n"
          ]
        },
        {
          "output_type": "stream",
          "name": "stdout",
          "text": [
            "1000:\tlearn: 101.8578506\ttotal: 11.5s\tremaining: 17.2s\n"
          ]
        },
        {
          "output_type": "stream",
          "name": "stdout",
          "text": [
            "1200:\tlearn: 100.1208752\ttotal: 13.8s\tremaining: 14.9s\n"
          ]
        },
        {
          "output_type": "stream",
          "name": "stdout",
          "text": [
            "1400:\tlearn: 98.4120561\ttotal: 16.1s\tremaining: 12.6s\n"
          ]
        },
        {
          "output_type": "stream",
          "name": "stdout",
          "text": [
            "1600:\tlearn: 96.7463908\ttotal: 18.3s\tremaining: 10.3s\n"
          ]
        },
        {
          "output_type": "stream",
          "name": "stdout",
          "text": [
            "1800:\tlearn: 95.1245068\ttotal: 20.6s\tremaining: 8s\n"
          ]
        },
        {
          "output_type": "stream",
          "name": "stdout",
          "text": [
            "2000:\tlearn: 93.5598547\ttotal: 22.9s\tremaining: 5.71s\n"
          ]
        },
        {
          "output_type": "stream",
          "name": "stdout",
          "text": [
            "2200:\tlearn: 92.0360473\ttotal: 25.2s\tremaining: 3.42s\n"
          ]
        },
        {
          "output_type": "stream",
          "name": "stdout",
          "text": [
            "2400:\tlearn: 90.5804228\ttotal: 27.5s\tremaining: 1.13s\n"
          ]
        },
        {
          "output_type": "stream",
          "name": "stdout",
          "text": [
            "2499:\tlearn: 89.8910117\ttotal: 28.6s\tremaining: 0us\n"
          ]
        },
        {
          "output_type": "stream",
          "name": "stdout",
          "text": [
            "0:\tlearn: 304.6881794\ttotal: 9.48ms\tremaining: 11.4s\n"
          ]
        },
        {
          "output_type": "stream",
          "name": "stdout",
          "text": [
            "200:\tlearn: 129.7108250\ttotal: 1.83s\tremaining: 9.1s\n"
          ]
        },
        {
          "output_type": "stream",
          "name": "stdout",
          "text": [
            "400:\tlearn: 119.3826420\ttotal: 3.69s\tremaining: 7.35s\n"
          ]
        },
        {
          "output_type": "stream",
          "name": "stdout",
          "text": [
            "600:\tlearn: 117.2680898\ttotal: 5.53s\tremaining: 5.51s\n"
          ]
        },
        {
          "output_type": "stream",
          "name": "stdout",
          "text": [
            "800:\tlearn: 113.7691791\ttotal: 7.32s\tremaining: 3.65s\n"
          ]
        },
        {
          "output_type": "stream",
          "name": "stdout",
          "text": [
            "1000:\tlearn: 106.2102892\ttotal: 9.17s\tremaining: 1.82s\n"
          ]
        },
        {
          "output_type": "stream",
          "name": "stdout",
          "text": [
            "1199:\tlearn: 102.9483894\ttotal: 11s\tremaining: 0us\nSeed 314159 done in 50.5s\n"
          ]
        },
        {
          "output_type": "stream",
          "name": "stdout",
          "text": [
            "Confidence pct overall [10,25,50,75,90]: [230.  248.  251.6 305.2 545.4]\nv0 pct: [446.2 493.6 560.  560.  560. ]\next-gap pct: [248.  248.6 251.6 284.5 305.2]\nSaved submission.csv (In-cell rank-mapped final): {'w_cat': 0.3, 'd': 0.45, 's': 1.4, 'a': 40.0, 'b': 0.9, 'c': 0.9, 'e': 0.3}\n"
          ]
        }
      ]
    },
    {
      "id": "e10829ec-b5f0-4e71-9377-7dd08a33745a",
      "cell_type": "code",
      "metadata": {},
      "source": [
        "# Quick sanity check: temporal_k=3 with 1 seed to assess OOF optimism\n",
        "print('Running quick sanity CV: last-3 per patient, 1 seed (42)...', flush=True)\n",
        "res3 = temporal_cv_with_lgbm_and_residuals(train, n_splits=5, seed=42, temporal_k=3, seeds_bag=(42,))\n",
        "print('Sanity OOF (last-3, 1-seed):', res3['best_score'])"
      ],
      "execution_count": 23,
      "outputs": [
        {
          "output_type": "stream",
          "name": "stdout",
          "text": [
            "Running quick sanity CV: last-3 per patient, 1 seed (42)...\n"
          ]
        },
        {
          "output_type": "stream",
          "name": "stdout",
          "text": [
            "Seed bag 1/1 (seed=42)\n"
          ]
        },
        {
          "output_type": "stream",
          "name": "stdout",
          "text": [
            "0:\tlearn: 113.2495065\ttest: 149.3363851\tbest: 149.3363851 (0)\ttotal: 12.4ms\tremaining: 37.2s\n"
          ]
        },
        {
          "output_type": "stream",
          "name": "stdout",
          "text": [
            "200:\tlearn: 111.8949225\ttest: 147.9708049\tbest: 147.9708049 (200)\ttotal: 2.3s\tremaining: 32s\n"
          ]
        },
        {
          "output_type": "stream",
          "name": "stdout",
          "text": [
            "400:\tlearn: 110.5592017\ttest: 146.6246440\tbest: 146.6246440 (400)\ttotal: 4.59s\tremaining: 29.8s\n"
          ]
        },
        {
          "output_type": "stream",
          "name": "stdout",
          "text": [
            "600:\tlearn: 109.2596302\ttest: 145.2529704\tbest: 145.2529704 (600)\ttotal: 6.89s\tremaining: 27.5s\n"
          ]
        },
        {
          "output_type": "stream",
          "name": "stdout",
          "text": [
            "800:\tlearn: 107.9905985\ttest: 143.8805949\tbest: 143.8805949 (800)\ttotal: 9.17s\tremaining: 25.2s\n"
          ]
        },
        {
          "output_type": "stream",
          "name": "stdout",
          "text": [
            "1000:\tlearn: 106.7657093\ttest: 142.5388590\tbest: 142.5388590 (1000)\ttotal: 11.5s\tremaining: 22.9s\n"
          ]
        },
        {
          "output_type": "stream",
          "name": "stdout",
          "text": [
            "1200:\tlearn: 105.6024413\ttest: 141.2226868\tbest: 141.2226868 (1200)\ttotal: 13.8s\tremaining: 20.6s\n"
          ]
        },
        {
          "output_type": "stream",
          "name": "stdout",
          "text": [
            "1400:\tlearn: 104.4838935\ttest: 139.9383443\tbest: 139.9383443 (1400)\ttotal: 16.1s\tremaining: 18.3s\n"
          ]
        },
        {
          "output_type": "stream",
          "name": "stdout",
          "text": [
            "1600:\tlearn: 103.4126300\ttest: 138.6780904\tbest: 138.6780904 (1600)\ttotal: 18.3s\tremaining: 16s\n"
          ]
        },
        {
          "output_type": "stream",
          "name": "stdout",
          "text": [
            "1800:\tlearn: 102.3732666\ttest: 137.4521688\tbest: 137.4521688 (1800)\ttotal: 20.6s\tremaining: 13.7s\n"
          ]
        },
        {
          "output_type": "stream",
          "name": "stdout",
          "text": [
            "2000:\tlearn: 101.3713887\ttest: 136.2625936\tbest: 136.2625936 (2000)\ttotal: 22.9s\tremaining: 11.4s\n"
          ]
        },
        {
          "output_type": "stream",
          "name": "stdout",
          "text": [
            "2200:\tlearn: 100.3927436\ttest: 135.0997925\tbest: 135.0997925 (2200)\ttotal: 25.2s\tremaining: 9.16s\n"
          ]
        },
        {
          "output_type": "stream",
          "name": "stdout",
          "text": [
            "2400:\tlearn: 99.4609255\ttest: 133.9952698\tbest: 133.9952698 (2400)\ttotal: 27.5s\tremaining: 6.87s\n"
          ]
        },
        {
          "output_type": "stream",
          "name": "stdout",
          "text": [
            "2600:\tlearn: 98.5827475\ttest: 132.8769735\tbest: 132.8769735 (2600)\ttotal: 29.9s\tremaining: 4.58s\n"
          ]
        },
        {
          "output_type": "stream",
          "name": "stdout",
          "text": [
            "2800:\tlearn: 97.7399726\ttest: 131.8361003\tbest: 131.8361003 (2800)\ttotal: 32.2s\tremaining: 2.28s\n"
          ]
        },
        {
          "output_type": "stream",
          "name": "stdout",
          "text": [
            "2999:\tlearn: 96.9260340\ttest: 130.7930400\tbest: 130.7930400 (2999)\ttotal: 34.4s\tremaining: 0us\nbestTest = 130.79304\nbestIteration = 2999\n"
          ]
        },
        {
          "output_type": "stream",
          "name": "stdout",
          "text": [
            "0:\tlearn: 309.2503885\ttest: 360.7081143\tbest: 360.7081143 (0)\ttotal: 10.4ms\tremaining: 12.5s\n"
          ]
        },
        {
          "output_type": "stream",
          "name": "stdout",
          "text": [
            "200:\tlearn: 162.7915566\ttest: 349.4068188\tbest: 349.4055070 (199)\ttotal: 1.85s\tremaining: 9.18s\n"
          ]
        },
        {
          "output_type": "stream",
          "name": "stdout",
          "text": [
            "400:\tlearn: 143.1277835\ttest: 333.3236040\tbest: 333.3081345 (398)\ttotal: 3.75s\tremaining: 7.46s\n"
          ]
        },
        {
          "output_type": "stream",
          "name": "stdout",
          "text": [
            "600:\tlearn: 135.5966101\ttest: 312.9353967\tbest: 312.9210164 (586)\ttotal: 5.62s\tremaining: 5.6s\n"
          ]
        },
        {
          "output_type": "stream",
          "name": "stdout",
          "text": [
            "800:\tlearn: 130.7225800\ttest: 299.6311100\tbest: 299.6311100 (800)\ttotal: 7.39s\tremaining: 3.68s\n"
          ]
        },
        {
          "output_type": "stream",
          "name": "stdout",
          "text": [
            "1000:\tlearn: 126.2793391\ttest: 288.8389744\tbest: 288.8389744 (1000)\ttotal: 9.25s\tremaining: 1.84s\n"
          ]
        },
        {
          "output_type": "stream",
          "name": "stdout",
          "text": [
            "1199:\tlearn: 122.7843325\ttest: 276.9307506\tbest: 276.9307506 (1199)\ttotal: 11s\tremaining: 0us\nbestTest = 276.9307506\nbestIteration = 1199\nSeed 42 Fold 0 done. tr=1298 va=96\n"
          ]
        },
        {
          "output_type": "stream",
          "name": "stdout",
          "text": [
            "0:\tlearn: 113.0472722\ttest: 171.3216553\tbest: 171.3216553 (0)\ttotal: 12.3ms\tremaining: 37s\n"
          ]
        },
        {
          "output_type": "stream",
          "name": "stdout",
          "text": [
            "200:\tlearn: 111.7072299\ttest: 169.9400635\tbest: 169.9400635 (200)\ttotal: 2.28s\tremaining: 31.8s\n"
          ]
        },
        {
          "output_type": "stream",
          "name": "stdout",
          "text": [
            "400:\tlearn: 110.3863636\ttest: 168.5827026\tbest: 168.5827026 (400)\ttotal: 4.58s\tremaining: 29.7s\n"
          ]
        },
        {
          "output_type": "stream",
          "name": "stdout",
          "text": [
            "600:\tlearn: 109.0985169\ttest: 167.2112732\tbest: 167.2112732 (600)\ttotal: 6.86s\tremaining: 27.4s\n"
          ]
        },
        {
          "output_type": "stream",
          "name": "stdout",
          "text": [
            "800:\tlearn: 107.8546923\ttest: 165.8511149\tbest: 165.8511149 (800)\ttotal: 9.19s\tremaining: 25.2s\n"
          ]
        },
        {
          "output_type": "stream",
          "name": "stdout",
          "text": [
            "1000:\tlearn: 106.6525424\ttest: 164.4864095\tbest: 164.4864095 (1000)\ttotal: 11.5s\tremaining: 22.9s\n"
          ]
        },
        {
          "output_type": "stream",
          "name": "stdout",
          "text": [
            "1200:\tlearn: 105.4933190\ttest: 163.1234029\tbest: 163.1234029 (1200)\ttotal: 13.8s\tremaining: 20.7s\n"
          ]
        },
        {
          "output_type": "stream",
          "name": "stdout",
          "text": [
            "1400:\tlearn: 104.3625409\ttest: 161.7420044\tbest: 161.7420044 (1400)\ttotal: 16.1s\tremaining: 18.4s\n"
          ]
        },
        {
          "output_type": "stream",
          "name": "stdout",
          "text": [
            "1600:\tlearn: 103.2737625\ttest: 160.3701986\tbest: 160.3701986 (1600)\ttotal: 18.4s\tremaining: 16.1s\n"
          ]
        },
        {
          "output_type": "stream",
          "name": "stdout",
          "text": [
            "1800:\tlearn: 102.2219641\ttest: 159.0682678\tbest: 159.0682678 (1800)\ttotal: 20.7s\tremaining: 13.8s\n"
          ]
        },
        {
          "output_type": "stream",
          "name": "stdout",
          "text": [
            "2000:\tlearn: 101.2080364\ttest: 157.8235067\tbest: 157.8235067 (2000)\ttotal: 23s\tremaining: 11.5s\n"
          ]
        },
        {
          "output_type": "stream",
          "name": "stdout",
          "text": [
            "2200:\tlearn: 100.2043529\ttest: 156.6570638\tbest: 156.6570638 (2200)\ttotal: 25.3s\tremaining: 9.17s\n"
          ]
        },
        {
          "output_type": "stream",
          "name": "stdout",
          "text": [
            "2400:\tlearn: 99.2521186\ttest: 155.5143026\tbest: 155.5143026 (2400)\ttotal: 27.5s\tremaining: 6.87s\n"
          ]
        },
        {
          "output_type": "stream",
          "name": "stdout",
          "text": [
            "2600:\tlearn: 98.3727670\ttest: 154.3964844\tbest: 154.3964844 (2600)\ttotal: 29.9s\tremaining: 4.58s\n"
          ]
        },
        {
          "output_type": "stream",
          "name": "stdout",
          "text": [
            "2800:\tlearn: 97.5370642\ttest: 153.3465983\tbest: 153.3465983 (2800)\ttotal: 32.2s\tremaining: 2.29s\n"
          ]
        },
        {
          "output_type": "stream",
          "name": "stdout",
          "text": [
            "2999:\tlearn: 96.7173416\ttest: 152.3082784\tbest: 152.3082784 (2999)\ttotal: 34.5s\tremaining: 0us\nbestTest = 152.3082784\nbestIteration = 2999\n"
          ]
        },
        {
          "output_type": "stream",
          "name": "stdout",
          "text": [
            "0:\tlearn: 309.8948775\ttest: 347.8849936\tbest: 347.8849936 (0)\ttotal: 10.1ms\tremaining: 12.2s\n"
          ]
        },
        {
          "output_type": "stream",
          "name": "stdout",
          "text": [
            "200:\tlearn: 167.1827377\ttest: 342.3376592\tbest: 342.3324256 (199)\ttotal: 1.84s\tremaining: 9.15s\n"
          ]
        },
        {
          "output_type": "stream",
          "name": "stdout",
          "text": [
            "400:\tlearn: 153.4252577\ttest: 323.4845115\tbest: 323.4424537 (390)\ttotal: 3.54s\tremaining: 7.04s\n"
          ]
        },
        {
          "output_type": "stream",
          "name": "stdout",
          "text": [
            "600:\tlearn: 147.6575704\ttest: 317.0626910\tbest: 316.9468936 (568)\ttotal: 5.14s\tremaining: 5.13s\n"
          ]
        },
        {
          "output_type": "stream",
          "name": "stdout",
          "text": [
            "800:\tlearn: 143.6156862\ttest: 311.5330373\tbest: 311.5322014 (799)\ttotal: 6.75s\tremaining: 3.36s\n"
          ]
        },
        {
          "output_type": "stream",
          "name": "stdout",
          "text": [
            "1000:\tlearn: 136.5913569\ttest: 305.4726358\tbest: 305.4323438 (999)\ttotal: 8.57s\tremaining: 1.7s\n"
          ]
        },
        {
          "output_type": "stream",
          "name": "stdout",
          "text": [
            "1199:\tlearn: 133.0250854\ttest: 299.6781955\tbest: 299.6563657 (1185)\ttotal: 10.1s\tremaining: 0us\nbestTest = 299.6563657\nbestIteration = 1185\nShrink model to first 1186 iterations.\nSeed 42 Fold 1 done. tr=1298 va=96\n"
          ]
        },
        {
          "output_type": "stream",
          "name": "stdout",
          "text": [
            "0:\tlearn: 113.3792734\ttest: 137.2503866\tbest: 137.2503866 (0)\ttotal: 12.3ms\tremaining: 37s\n"
          ]
        },
        {
          "output_type": "stream",
          "name": "stdout",
          "text": [
            "200:\tlearn: 112.0023835\ttest: 136.0007731\tbest: 136.0007731 (200)\ttotal: 2.28s\tremaining: 31.8s\n"
          ]
        },
        {
          "output_type": "stream",
          "name": "stdout",
          "text": [
            "400:\tlearn: 110.6415880\ttest: 134.8901978\tbest: 134.8901978 (400)\ttotal: 4.55s\tremaining: 29.5s\n"
          ]
        },
        {
          "output_type": "stream",
          "name": "stdout",
          "text": [
            "600:\tlearn: 109.3378515\ttest: 133.7448730\tbest: 133.7448730 (600)\ttotal: 6.95s\tremaining: 27.7s\n"
          ]
        },
        {
          "output_type": "stream",
          "name": "stdout",
          "text": [
            "800:\tlearn: 108.0624278\ttest: 132.5835063\tbest: 132.5835063 (800)\ttotal: 9.36s\tremaining: 25.7s\n"
          ]
        },
        {
          "output_type": "stream",
          "name": "stdout",
          "text": [
            "1000:\tlearn: 106.8307492\ttest: 131.3925781\tbest: 131.3925781 (1000)\ttotal: 11.8s\tremaining: 23.5s\n"
          ]
        },
        {
          "output_type": "stream",
          "name": "stdout",
          "text": [
            "1200:\tlearn: 105.6500144\ttest: 130.2345174\tbest: 130.2345174 (1200)\ttotal: 14.1s\tremaining: 21.1s\n"
          ]
        },
        {
          "output_type": "stream",
          "name": "stdout",
          "text": [
            "1400:\tlearn: 104.5265673\ttest: 129.1073201\tbest: 129.1073201 (1400)\ttotal: 16.4s\tremaining: 18.7s\n"
          ]
        },
        {
          "output_type": "stream",
          "name": "stdout",
          "text": [
            "1600:\tlearn: 103.4392936\ttest: 127.9925741\tbest: 127.9925741 (1600)\ttotal: 18.6s\tremaining: 16.3s\n"
          ]
        },
        {
          "output_type": "stream",
          "name": "stdout",
          "text": [
            "1800:\tlearn: 102.3989912\ttest: 126.8770243\tbest: 126.8770243 (1800)\ttotal: 20.9s\tremaining: 13.9s\n"
          ]
        },
        {
          "output_type": "stream",
          "name": "stdout",
          "text": [
            "2000:\tlearn: 101.3766371\ttest: 125.7942912\tbest: 125.7942912 (2000)\ttotal: 23.2s\tremaining: 11.6s\n"
          ]
        },
        {
          "output_type": "stream",
          "name": "stdout",
          "text": [
            "2200:\tlearn: 100.3776122\ttest: 124.7337443\tbest: 124.7337443 (2200)\ttotal: 25.5s\tremaining: 9.26s\n"
          ]
        },
        {
          "output_type": "stream",
          "name": "stdout",
          "text": [
            "2400:\tlearn: 99.4230306\ttest: 123.6938477\tbest: 123.6938477 (2400)\ttotal: 27.8s\tremaining: 6.93s\n"
          ]
        },
        {
          "output_type": "stream",
          "name": "stdout",
          "text": [
            "2600:\tlearn: 98.5282707\ttest: 122.6914775\tbest: 122.6914775 (2600)\ttotal: 30.1s\tremaining: 4.62s\n"
          ]
        },
        {
          "output_type": "stream",
          "name": "stdout",
          "text": [
            "2800:\tlearn: 97.6674030\ttest: 121.7099202\tbest: 121.7099202 (2800)\ttotal: 32.4s\tremaining: 2.3s\n"
          ]
        },
        {
          "output_type": "stream",
          "name": "stdout",
          "text": [
            "2999:\tlearn: 96.8483123\ttest: 120.7490234\tbest: 120.7490234 (2999)\ttotal: 34.7s\tremaining: 0us\nbestTest = 120.7490234\nbestIteration = 2999\n"
          ]
        },
        {
          "output_type": "stream",
          "name": "stdout",
          "text": [
            "0:\tlearn: 308.3097116\ttest: 311.5635469\tbest: 311.5635469 (0)\ttotal: 10.1ms\tremaining: 12.1s\n"
          ]
        },
        {
          "output_type": "stream",
          "name": "stdout",
          "text": [
            "bestTest = 311.5635469\nbestIteration = 0\nShrink model to first 1 iterations.\nSeed 42 Fold 2 done. tr=1298 va=96\n"
          ]
        },
        {
          "output_type": "stream",
          "name": "stdout",
          "text": [
            "0:\tlearn: 112.8750721\ttest: 167.3805444\tbest: 167.3805444 (0)\ttotal: 12.5ms\tremaining: 37.4s\n"
          ]
        },
        {
          "output_type": "stream",
          "name": "stdout",
          "text": [
            "200:\tlearn: 111.4692784\ttest: 165.9090222\tbest: 165.9090222 (200)\ttotal: 2.3s\tremaining: 32.1s\n"
          ]
        },
        {
          "output_type": "stream",
          "name": "stdout",
          "text": [
            "400:\tlearn: 110.0988663\ttest: 164.4919145\tbest: 164.4919145 (400)\ttotal: 4.62s\tremaining: 29.9s\n"
          ]
        },
        {
          "output_type": "stream",
          "name": "stdout",
          "text": [
            "600:\tlearn: 108.7724587\ttest: 163.1519867\tbest: 163.1519867 (600)\ttotal: 6.91s\tremaining: 27.6s\n"
          ]
        },
        {
          "output_type": "stream",
          "name": "stdout",
          "text": [
            "800:\tlearn: 107.4810723\ttest: 161.8865717\tbest: 161.8865717 (800)\ttotal: 9.2s\tremaining: 25.3s\n"
          ]
        },
        {
          "output_type": "stream",
          "name": "stdout",
          "text": [
            "1000:\tlearn: 106.2535069\ttest: 160.6655746\tbest: 160.6655746 (1000)\ttotal: 11.5s\tremaining: 22.9s\n"
          ]
        },
        {
          "output_type": "stream",
          "name": "stdout",
          "text": [
            "1200:\tlearn: 105.0800826\ttest: 159.4943716\tbest: 159.4943716 (1200)\ttotal: 13.8s\tremaining: 20.6s\n"
          ]
        },
        {
          "output_type": "stream",
          "name": "stdout",
          "text": [
            "1400:\tlearn: 103.9680294\ttest: 158.3757350\tbest: 158.3757350 (1400)\ttotal: 16.1s\tremaining: 18.3s\n"
          ]
        },
        {
          "output_type": "stream",
          "name": "stdout",
          "text": [
            "1600:\tlearn: 102.8894841\ttest: 157.2720829\tbest: 157.2720829 (1600)\ttotal: 18.4s\tremaining: 16.1s\n"
          ]
        },
        {
          "output_type": "stream",
          "name": "stdout",
          "text": [
            "1800:\tlearn: 101.8422127\ttest: 156.1901882\tbest: 156.1901882 (1800)\ttotal: 20.7s\tremaining: 13.8s\n"
          ]
        },
        {
          "output_type": "stream",
          "name": "stdout",
          "text": [
            "2000:\tlearn: 100.8236453\ttest: 155.1538663\tbest: 155.1538663 (2000)\ttotal: 23s\tremaining: 11.5s\n"
          ]
        },
        {
          "output_type": "stream",
          "name": "stdout",
          "text": [
            "2200:\tlearn: 99.8308212\ttest: 154.1592532\tbest: 154.1592532 (2200)\ttotal: 25.3s\tremaining: 9.18s\n"
          ]
        },
        {
          "output_type": "stream",
          "name": "stdout",
          "text": [
            "2400:\tlearn: 98.8797079\ttest: 153.1792045\tbest: 153.1792045 (2400)\ttotal: 27.6s\tremaining: 6.89s\n"
          ]
        },
        {
          "output_type": "stream",
          "name": "stdout",
          "text": [
            "2600:\tlearn: 97.9985228\ttest: 152.2165344\tbest: 152.2165344 (2600)\ttotal: 29.9s\tremaining: 4.59s\n"
          ]
        },
        {
          "output_type": "stream",
          "name": "stdout",
          "text": [
            "2800:\tlearn: 97.1579134\ttest: 151.2897135\tbest: 151.2897135 (2800)\ttotal: 32.2s\tremaining: 2.29s\n"
          ]
        },
        {
          "output_type": "stream",
          "name": "stdout",
          "text": [
            "2999:\tlearn: 96.3580839\ttest: 150.3879263\tbest: 150.3879263 (2999)\ttotal: 34.5s\tremaining: 0us\nbestTest = 150.3879263\nbestIteration = 2999\n"
          ]
        },
        {
          "output_type": "stream",
          "name": "stdout",
          "text": [
            "0:\tlearn: 309.7367110\ttest: 359.8205048\tbest: 359.8205048 (0)\ttotal: 10.3ms\tremaining: 12.4s\n"
          ]
        },
        {
          "output_type": "stream",
          "name": "stdout",
          "text": [
            "bestTest = 359.8205048\nbestIteration = 0\nShrink model to first 1 iterations.\nSeed 42 Fold 3 done. tr=1301 va=93\n"
          ]
        },
        {
          "output_type": "stream",
          "name": "stdout",
          "text": [
            "0:\tlearn: 110.0629684\ttest: 230.5955141\tbest: 230.5955141 (0)\ttotal: 11.8ms\tremaining: 35.4s\n"
          ]
        },
        {
          "output_type": "stream",
          "name": "stdout",
          "text": [
            "200:\tlearn: 108.6809305\ttest: 229.2131216\tbest: 229.2131216 (200)\ttotal: 2.28s\tremaining: 31.7s\n"
          ]
        },
        {
          "output_type": "stream",
          "name": "stdout",
          "text": [
            "400:\tlearn: 107.3175082\ttest: 227.8449261\tbest: 227.8449261 (400)\ttotal: 4.56s\tremaining: 29.6s\n"
          ]
        },
        {
          "output_type": "stream",
          "name": "stdout",
          "text": [
            "600:\tlearn: 106.0424313\ttest: 226.5529234\tbest: 226.5529234 (600)\ttotal: 6.83s\tremaining: 27.3s\n"
          ]
        },
        {
          "output_type": "stream",
          "name": "stdout",
          "text": [
            "800:\tlearn: 104.8194418\ttest: 225.2472908\tbest: 225.2472908 (800)\ttotal: 9.12s\tremaining: 25s\n"
          ]
        },
        {
          "output_type": "stream",
          "name": "stdout",
          "text": [
            "1000:\tlearn: 103.6184185\ttest: 223.9548051\tbest: 223.9548051 (1000)\ttotal: 11.4s\tremaining: 22.8s\n"
          ]
        },
        {
          "output_type": "stream",
          "name": "stdout",
          "text": [
            "1200:\tlearn: 102.4545662\ttest: 222.6676537\tbest: 222.6676537 (1200)\ttotal: 13.7s\tremaining: 20.5s\n"
          ]
        },
        {
          "output_type": "stream",
          "name": "stdout",
          "text": [
            "1400:\tlearn: 101.3488542\ttest: 221.4273143\tbest: 221.4273143 (1400)\ttotal: 16s\tremaining: 18.2s\n"
          ]
        },
        {
          "output_type": "stream",
          "name": "stdout",
          "text": [
            "1600:\tlearn: 100.2879696\ttest: 220.2155998\tbest: 220.2155998 (1600)\ttotal: 18.3s\tremaining: 15.9s\n"
          ]
        },
        {
          "output_type": "stream",
          "name": "stdout",
          "text": [
            "1800:\tlearn: 99.2567436\ttest: 219.0428427\tbest: 219.0428427 (1800)\ttotal: 20.5s\tremaining: 13.7s\n"
          ]
        },
        {
          "output_type": "stream",
          "name": "stdout",
          "text": [
            "2000:\tlearn: 98.2525461\ttest: 217.8905410\tbest: 217.8905410 (2000)\ttotal: 22.8s\tremaining: 11.4s\n"
          ]
        },
        {
          "output_type": "stream",
          "name": "stdout",
          "text": [
            "2200:\tlearn: 97.2853814\ttest: 216.7419355\tbest: 216.7419355 (2200)\ttotal: 25.1s\tremaining: 9.12s\n"
          ]
        },
        {
          "output_type": "stream",
          "name": "stdout",
          "text": [
            "2400:\tlearn: 96.3655722\ttest: 215.6399950\tbest: 215.6399950 (2400)\ttotal: 27.4s\tremaining: 6.84s\n"
          ]
        },
        {
          "output_type": "stream",
          "name": "stdout",
          "text": [
            "2600:\tlearn: 95.4786823\ttest: 214.5727067\tbest: 214.5727067 (2600)\ttotal: 29.7s\tremaining: 4.55s\n"
          ]
        },
        {
          "output_type": "stream",
          "name": "stdout",
          "text": [
            "2800:\tlearn: 94.6473506\ttest: 213.5519153\tbest: 213.5519153 (2800)\ttotal: 31.9s\tremaining: 2.27s\n"
          ]
        },
        {
          "output_type": "stream",
          "name": "stdout",
          "text": [
            "2999:\tlearn: 93.8472749\ttest: 212.5214634\tbest: 212.5214634 (2999)\ttotal: 34.2s\tremaining: 0us\nbestTest = 212.5214634\nbestIteration = 2999\n"
          ]
        },
        {
          "output_type": "stream",
          "name": "stdout",
          "text": [
            "0:\tlearn: 304.5540988\ttest: 614.9556151\tbest: 614.9556151 (0)\ttotal: 9.92ms\tremaining: 11.9s\n"
          ]
        },
        {
          "output_type": "stream",
          "name": "stdout",
          "text": [
            "200:\tlearn: 151.3401471\ttest: 573.3562011\tbest: 573.3562011 (200)\ttotal: 1.85s\tremaining: 9.22s\n"
          ]
        },
        {
          "output_type": "stream",
          "name": "stdout",
          "text": [
            "400:\tlearn: 131.4238878\ttest: 522.4596913\tbest: 522.4596913 (400)\ttotal: 3.71s\tremaining: 7.39s\n"
          ]
        },
        {
          "output_type": "stream",
          "name": "stdout",
          "text": [
            "600:\tlearn: 124.7328768\ttest: 500.3630725\tbest: 500.3630725 (600)\ttotal: 5.54s\tremaining: 5.53s\n"
          ]
        },
        {
          "output_type": "stream",
          "name": "stdout",
          "text": [
            "800:\tlearn: 119.9500729\ttest: 475.0583892\tbest: 475.0583892 (800)\ttotal: 7.43s\tremaining: 3.7s\n"
          ]
        },
        {
          "output_type": "stream",
          "name": "stdout",
          "text": [
            "1000:\tlearn: 117.4878737\ttest: 450.5598668\tbest: 450.5508218 (999)\ttotal: 9.28s\tremaining: 1.84s\n"
          ]
        },
        {
          "output_type": "stream",
          "name": "stdout",
          "text": [
            "1199:\tlearn: 113.5525863\ttest: 443.1436088\tbest: 443.1436088 (1199)\ttotal: 11.1s\tremaining: 0us\nbestTest = 443.1436088\nbestIteration = 1199\nSeed 42 Fold 4 done. tr=1301 va=93\n"
          ]
        },
        {
          "output_type": "stream",
          "name": "stdout",
          "text": [
            "Temporal OOF (last-2) residual blend (seed-bagged 1): -7.03021 with params {'w_cat': 0.3, 'd': 0.3, 's': 1.4, 'a': 40, 'b': 1.0, 'c': 0.8}\nSanity OOF (last-3, 1-seed): -7.030208927906568\n"
          ]
        }
      ]
    },
    {
      "id": "ff81a7d5-8844-4024-bb73-940770cb0e0a",
      "cell_type": "code",
      "metadata": {},
      "source": [
        "# Quick 1-seed diagnostic run for last-2 after NaN fixes\n",
        "print('Running 1-seed diagnostic (last-2, seed=42) after NaN sanitization...')\n",
        "res2_diag = temporal_cv_with_lgbm_and_residuals(train, n_splits=5, seed=42, temporal_k=2, seeds_bag=(42,))\n",
        "print('Diag OOF (last-2, 1-seed):', res2_diag['best_score'])"
      ],
      "execution_count": 31,
      "outputs": [
        {
          "output_type": "stream",
          "name": "stdout",
          "text": [
            "Running 1-seed diagnostic (last-2, seed=42) after NaN sanitization...\nSeed bag 1/1 (seed=42)\n"
          ]
        },
        {
          "output_type": "stream",
          "name": "stdout",
          "text": [
            "0:\tlearn: 112.4866659\ttest: 101.5867004\tbest: 101.5867004 (0)\ttotal: 12.2ms\tremaining: 30.5s\n"
          ]
        },
        {
          "output_type": "stream",
          "name": "stdout",
          "text": [
            "200:\tlearn: 111.1086466\ttest: 100.2131348\tbest: 100.2131348 (200)\ttotal: 2.32s\tremaining: 26.5s\n"
          ]
        },
        {
          "output_type": "stream",
          "name": "stdout",
          "text": [
            "400:\tlearn: 109.7614309\ttest: 98.9589386\tbest: 98.9589386 (400)\ttotal: 4.64s\tremaining: 24.3s\n"
          ]
        },
        {
          "output_type": "stream",
          "name": "stdout",
          "text": [
            "600:\tlearn: 108.4642622\ttest: 97.7775421\tbest: 97.7775421 (600)\ttotal: 6.95s\tremaining: 22s\n"
          ]
        },
        {
          "output_type": "stream",
          "name": "stdout",
          "text": [
            "800:\tlearn: 107.2017270\ttest: 96.6229401\tbest: 96.6229401 (800)\ttotal: 9.26s\tremaining: 19.6s\n"
          ]
        },
        {
          "output_type": "stream",
          "name": "stdout",
          "text": [
            "1000:\tlearn: 105.9701128\ttest: 95.4697876\tbest: 95.4697876 (1000)\ttotal: 11.6s\tremaining: 17.3s\n"
          ]
        },
        {
          "output_type": "stream",
          "name": "stdout",
          "text": [
            "1200:\tlearn: 104.8058506\ttest: 94.3464050\tbest: 94.3464050 (1200)\ttotal: 13.9s\tremaining: 15s\n"
          ]
        },
        {
          "output_type": "stream",
          "name": "stdout",
          "text": [
            "1400:\tlearn: 103.6933036\ttest: 93.2374268\tbest: 93.2374268 (1400)\ttotal: 16.2s\tremaining: 12.7s\n"
          ]
        },
        {
          "output_type": "stream",
          "name": "stdout",
          "text": [
            "1600:\tlearn: 102.6191612\ttest: 92.1491241\tbest: 92.1491241 (1600)\ttotal: 18.5s\tremaining: 10.4s\n"
          ]
        },
        {
          "output_type": "stream",
          "name": "stdout",
          "text": [
            "1800:\tlearn: 101.5760808\ttest: 91.0741196\tbest: 91.0741196 (1800)\ttotal: 20.8s\tremaining: 8.05s\n"
          ]
        },
        {
          "output_type": "stream",
          "name": "stdout",
          "text": [
            "2000:\tlearn: 100.5632049\ttest: 90.0416107\tbest: 90.0416107 (2000)\ttotal: 23.1s\tremaining: 5.75s\n"
          ]
        },
        {
          "output_type": "stream",
          "name": "stdout",
          "text": [
            "2200:\tlearn: 99.5780663\ttest: 89.0354156\tbest: 89.0354156 (2200)\ttotal: 25.4s\tremaining: 3.45s\n"
          ]
        },
        {
          "output_type": "stream",
          "name": "stdout",
          "text": [
            "2400:\tlearn: 98.6441259\ttest: 88.0278549\tbest: 88.0278549 (2400)\ttotal: 27.7s\tremaining: 1.14s\n"
          ]
        },
        {
          "output_type": "stream",
          "name": "stdout",
          "text": [
            "2499:\tlearn: 98.1982495\ttest: 87.5259094\tbest: 87.5259094 (2499)\ttotal: 28.8s\tremaining: 0us\nbestTest = 87.52590942\nbestIteration = 2499\n"
          ]
        },
        {
          "output_type": "stream",
          "name": "stdout",
          "text": [
            "0:\tlearn: 308.5306239\ttest: 155.2169097\tbest: 155.2169097 (0)\ttotal: 10.5ms\tremaining: 12.6s\n"
          ]
        },
        {
          "output_type": "stream",
          "name": "stdout",
          "text": [
            "200:\tlearn: 153.1618339\ttest: 140.1122039\tbest: 140.1122039 (200)\ttotal: 1.9s\tremaining: 9.44s\n"
          ]
        },
        {
          "output_type": "stream",
          "name": "stdout",
          "text": [
            "400:\tlearn: 142.4859523\ttest: 134.8271970\tbest: 134.8271970 (400)\ttotal: 3.75s\tremaining: 7.47s\n"
          ]
        },
        {
          "output_type": "stream",
          "name": "stdout",
          "text": [
            "600:\tlearn: 135.4623828\ttest: 133.3059217\tbest: 132.4746217 (547)\ttotal: 5.61s\tremaining: 5.59s\n"
          ]
        },
        {
          "output_type": "stream",
          "name": "stdout",
          "text": [
            "800:\tlearn: 130.0340268\ttest: 126.4999151\tbest: 126.2464186 (750)\ttotal: 7.39s\tremaining: 3.68s\n"
          ]
        },
        {
          "output_type": "stream",
          "name": "stdout",
          "text": [
            "bestTest = 126.2464186\nbestIteration = 750\nShrink model to first 751 iterations.\nSeed 42 Fold 0 done. tr=1330 va=64\n"
          ]
        },
        {
          "output_type": "stream",
          "name": "stdout",
          "text": [
            "0:\tlearn: 112.7850799\ttest: 88.1088257\tbest: 88.1088257 (0)\ttotal: 12.1ms\tremaining: 30.3s\n"
          ]
        },
        {
          "output_type": "stream",
          "name": "stdout",
          "text": [
            "200:\tlearn: 111.4323191\ttest: 86.9198685\tbest: 86.9198685 (200)\ttotal: 2.29s\tremaining: 26.1s\n"
          ]
        },
        {
          "output_type": "stream",
          "name": "stdout",
          "text": [
            "400:\tlearn: 110.0971570\ttest: 85.7585907\tbest: 85.7585907 (400)\ttotal: 4.57s\tremaining: 23.9s\n"
          ]
        },
        {
          "output_type": "stream",
          "name": "stdout",
          "text": [
            "600:\tlearn: 108.8022204\ttest: 84.5971069\tbest: 84.5971069 (600)\ttotal: 6.87s\tremaining: 21.7s\n"
          ]
        },
        {
          "output_type": "stream",
          "name": "stdout",
          "text": [
            "800:\tlearn: 107.5451715\ttest: 83.4568939\tbest: 83.4568939 (800)\ttotal: 9.15s\tremaining: 19.4s\n"
          ]
        },
        {
          "output_type": "stream",
          "name": "stdout",
          "text": [
            "1000:\tlearn: 106.3324601\ttest: 82.3283539\tbest: 82.3283539 (1000)\ttotal: 11.4s\tremaining: 17.1s\n"
          ]
        },
        {
          "output_type": "stream",
          "name": "stdout",
          "text": [
            "1200:\tlearn: 105.1617599\ttest: 81.2710266\tbest: 81.2710266 (1200)\ttotal: 13.7s\tremaining: 14.8s\n"
          ]
        },
        {
          "output_type": "stream",
          "name": "stdout",
          "text": [
            "1400:\tlearn: 104.0351856\ttest: 80.2383194\tbest: 80.2383194 (1400)\ttotal: 16s\tremaining: 12.6s\n"
          ]
        },
        {
          "output_type": "stream",
          "name": "stdout",
          "text": [
            "1600:\tlearn: 102.9538064\ttest: 79.2416534\tbest: 79.2416534 (1600)\ttotal: 18.3s\tremaining: 10.3s\n"
          ]
        },
        {
          "output_type": "stream",
          "name": "stdout",
          "text": [
            "1800:\tlearn: 101.9133341\ttest: 78.2567749\tbest: 78.2567749 (1800)\ttotal: 20.6s\tremaining: 7.99s\n"
          ]
        },
        {
          "output_type": "stream",
          "name": "stdout",
          "text": [
            "2000:\tlearn: 100.9046875\ttest: 77.2902756\tbest: 77.2902756 (2000)\ttotal: 22.9s\tremaining: 5.71s\n"
          ]
        },
        {
          "output_type": "stream",
          "name": "stdout",
          "text": [
            "2200:\tlearn: 99.9257989\ttest: 76.3693085\tbest: 76.3693085 (2200)\ttotal: 25.2s\tremaining: 3.42s\n"
          ]
        },
        {
          "output_type": "stream",
          "name": "stdout",
          "text": [
            "2400:\tlearn: 98.9788651\ttest: 75.4434586\tbest: 75.4434586 (2400)\ttotal: 27.5s\tremaining: 1.13s\n"
          ]
        },
        {
          "output_type": "stream",
          "name": "stdout",
          "text": [
            "2499:\tlearn: 98.5314850\ttest: 74.9853821\tbest: 74.9853821 (2499)\ttotal: 28.6s\tremaining: 0us\nbestTest = 74.98538208\nbestIteration = 2499\n"
          ]
        },
        {
          "output_type": "stream",
          "name": "stdout",
          "text": [
            "0:\tlearn: 307.5337942\ttest: 134.9487967\tbest: 134.9487967 (0)\ttotal: 10.3ms\tremaining: 12.3s\n"
          ]
        },
        {
          "output_type": "stream",
          "name": "stdout",
          "text": [
            "bestTest = 125.5902859\nbestIteration = 22\nShrink model to first 23 iterations.\nSeed 42 Fold 1 done. tr=1330 va=64\n"
          ]
        },
        {
          "output_type": "stream",
          "name": "stdout",
          "text": [
            "0:\tlearn: 112.5418938\ttest: 89.9807281\tbest: 89.9807281 (0)\ttotal: 11.7ms\tremaining: 29.3s\n"
          ]
        },
        {
          "output_type": "stream",
          "name": "stdout",
          "text": [
            "200:\tlearn: 111.1715930\ttest: 88.7886963\tbest: 88.7886963 (200)\ttotal: 2.29s\tremaining: 26.2s\n"
          ]
        },
        {
          "output_type": "stream",
          "name": "stdout",
          "text": [
            "400:\tlearn: 109.8231673\ttest: 87.7895203\tbest: 87.7895203 (400)\ttotal: 4.59s\tremaining: 24s\n"
          ]
        },
        {
          "output_type": "stream",
          "name": "stdout",
          "text": [
            "600:\tlearn: 108.5168468\ttest: 86.7960815\tbest: 86.7960815 (600)\ttotal: 6.9s\tremaining: 21.8s\n"
          ]
        },
        {
          "output_type": "stream",
          "name": "stdout",
          "text": [
            "800:\tlearn: 107.2437383\ttest: 85.8436584\tbest: 85.8436584 (800)\ttotal: 9.22s\tremaining: 19.6s\n"
          ]
        },
        {
          "output_type": "stream",
          "name": "stdout",
          "text": [
            "1000:\tlearn: 106.0163769\ttest: 84.9082489\tbest: 84.9082489 (1000)\ttotal: 11.5s\tremaining: 17.3s\n"
          ]
        },
        {
          "output_type": "stream",
          "name": "stdout",
          "text": [
            "1200:\tlearn: 104.8391800\ttest: 84.0093842\tbest: 84.0093842 (1200)\ttotal: 13.9s\tremaining: 15s\n"
          ]
        },
        {
          "output_type": "stream",
          "name": "stdout",
          "text": [
            "1400:\tlearn: 103.7019972\ttest: 83.1603088\tbest: 83.1603088 (1400)\ttotal: 16.2s\tremaining: 12.7s\n"
          ]
        },
        {
          "output_type": "stream",
          "name": "stdout",
          "text": [
            "1600:\tlearn: 102.6160479\ttest: 82.3536224\tbest: 82.3536224 (1600)\ttotal: 18.5s\tremaining: 10.4s\n"
          ]
        },
        {
          "output_type": "stream",
          "name": "stdout",
          "text": [
            "1800:\tlearn: 101.5673285\ttest: 81.5379791\tbest: 81.5379791 (1800)\ttotal: 20.7s\tremaining: 8.05s\n"
          ]
        },
        {
          "output_type": "stream",
          "name": "stdout",
          "text": [
            "2000:\tlearn: 100.5452068\ttest: 80.7481842\tbest: 80.7481842 (2000)\ttotal: 23s\tremaining: 5.75s\n"
          ]
        },
        {
          "output_type": "stream",
          "name": "stdout",
          "text": [
            "2200:\tlearn: 99.5395794\ttest: 80.0027618\tbest: 80.0027618 (2200)\ttotal: 25.3s\tremaining: 3.44s\n"
          ]
        },
        {
          "output_type": "stream",
          "name": "stdout",
          "text": [
            "2400:\tlearn: 98.5791353\ttest: 79.2519836\tbest: 79.2519836 (2400)\ttotal: 27.6s\tremaining: 1.14s\n"
          ]
        },
        {
          "output_type": "stream",
          "name": "stdout",
          "text": [
            "2499:\tlearn: 98.1324013\ttest: 78.9027176\tbest: 78.9027176 (2499)\ttotal: 28.8s\tremaining: 0us\nbestTest = 78.90271759\nbestIteration = 2499\n"
          ]
        },
        {
          "output_type": "stream",
          "name": "stdout",
          "text": [
            "0:\tlearn: 306.6855851\ttest: 255.3659063\tbest: 255.3659063 (0)\ttotal: 10.4ms\tremaining: 12.5s\n"
          ]
        },
        {
          "output_type": "stream",
          "name": "stdout",
          "text": [
            "200:\tlearn: 161.3626840\ttest: 226.3142001\tbest: 226.2670228 (198)\ttotal: 1.85s\tremaining: 9.2s\n"
          ]
        },
        {
          "output_type": "stream",
          "name": "stdout",
          "text": [
            "bestTest = 225.5430946\nbestIteration = 219\nShrink model to first 220 iterations.\nSeed 42 Fold 2 done. tr=1330 va=64\n"
          ]
        },
        {
          "output_type": "stream",
          "name": "stdout",
          "text": [
            "0:\tlearn: 112.5267220\ttest: 110.8506411\tbest: 110.8506411 (0)\ttotal: 12.9ms\tremaining: 32.3s\n"
          ]
        },
        {
          "output_type": "stream",
          "name": "stdout",
          "text": [
            "200:\tlearn: 111.1203078\ttest: 109.4092663\tbest: 109.4092663 (200)\ttotal: 2.3s\tremaining: 26.3s\n"
          ]
        },
        {
          "output_type": "stream",
          "name": "stdout",
          "text": [
            "400:\tlearn: 109.7455424\ttest: 108.0633899\tbest: 108.0633899 (400)\ttotal: 4.62s\tremaining: 24.2s\n"
          ]
        },
        {
          "output_type": "stream",
          "name": "stdout",
          "text": [
            "600:\tlearn: 108.4257343\ttest: 106.7384230\tbest: 106.7384230 (600)\ttotal: 6.94s\tremaining: 21.9s\n"
          ]
        },
        {
          "output_type": "stream",
          "name": "stdout",
          "text": [
            "800:\tlearn: 107.1446016\ttest: 105.4414220\tbest: 105.4414220 (800)\ttotal: 9.27s\tremaining: 19.7s\n"
          ]
        },
        {
          "output_type": "stream",
          "name": "stdout",
          "text": [
            "1000:\tlearn: 105.9145434\ttest: 104.1990612\tbest: 104.1990612 (1000)\ttotal: 11.6s\tremaining: 17.3s\n"
          ]
        },
        {
          "output_type": "stream",
          "name": "stdout",
          "text": [
            "1200:\tlearn: 104.7288617\ttest: 102.9781297\tbest: 102.9781297 (1200)\ttotal: 13.9s\tremaining: 15s\n"
          ]
        },
        {
          "output_type": "stream",
          "name": "stdout",
          "text": [
            "1400:\tlearn: 103.5977266\ttest: 101.8028131\tbest: 101.8028131 (1400)\ttotal: 16.2s\tremaining: 12.7s\n"
          ]
        },
        {
          "output_type": "stream",
          "name": "stdout",
          "text": [
            "1600:\tlearn: 102.4952374\ttest: 100.6479807\tbest: 100.6479807 (1600)\ttotal: 18.5s\tremaining: 10.4s\n"
          ]
        },
        {
          "output_type": "stream",
          "name": "stdout",
          "text": [
            "1800:\tlearn: 101.4312359\ttest: 99.5199250\tbest: 99.5199250 (1800)\ttotal: 20.8s\tremaining: 8.07s\n"
          ]
        },
        {
          "output_type": "stream",
          "name": "stdout",
          "text": [
            "2000:\tlearn: 100.4075286\ttest: 98.3975712\tbest: 98.3975712 (2000)\ttotal: 23.1s\tremaining: 5.76s\n"
          ]
        },
        {
          "output_type": "stream",
          "name": "stdout",
          "text": [
            "2200:\tlearn: 99.4306963\ttest: 97.4044071\tbest: 97.4044071 (2200)\ttotal: 25.4s\tremaining: 3.45s\n"
          ]
        },
        {
          "output_type": "stream",
          "name": "stdout",
          "text": [
            "2400:\tlearn: 98.4892314\ttest: 96.4590474\tbest: 96.4590474 (2400)\ttotal: 27.7s\tremaining: 1.14s\n"
          ]
        },
        {
          "output_type": "stream",
          "name": "stdout",
          "text": [
            "2499:\tlearn: 98.0466521\ttest: 96.0079858\tbest: 96.0079858 (2499)\ttotal: 28.9s\tremaining: 0us\nbestTest = 96.00798576\nbestIteration = 2499\n"
          ]
        },
        {
          "output_type": "stream",
          "name": "stdout",
          "text": [
            "0:\tlearn: 307.8991586\ttest: 201.8242009\tbest: 201.8242009 (0)\ttotal: 10ms\tremaining: 12s\n"
          ]
        },
        {
          "output_type": "stream",
          "name": "stdout",
          "text": [
            "200:\tlearn: 190.0113558\ttest: 196.6797893\tbest: 196.6797893 (200)\ttotal: 1.69s\tremaining: 8.38s\n"
          ]
        },
        {
          "output_type": "stream",
          "name": "stdout",
          "text": [
            "400:\tlearn: 165.1522093\ttest: 191.2902920\tbest: 190.9878606 (398)\ttotal: 3.27s\tremaining: 6.52s\n"
          ]
        },
        {
          "output_type": "stream",
          "name": "stdout",
          "text": [
            "600:\tlearn: 148.0345914\ttest: 179.9960741\tbest: 179.9877796 (599)\ttotal: 5.12s\tremaining: 5.1s\n"
          ]
        },
        {
          "output_type": "stream",
          "name": "stdout",
          "text": [
            "800:\tlearn: 141.8681450\ttest: 175.2377072\tbest: 175.1931135 (791)\ttotal: 6.91s\tremaining: 3.44s\n"
          ]
        },
        {
          "output_type": "stream",
          "name": "stdout",
          "text": [
            "1000:\tlearn: 132.0561124\ttest: 169.0807631\tbest: 169.0807631 (1000)\ttotal: 8.7s\tremaining: 1.73s\n"
          ]
        },
        {
          "output_type": "stream",
          "name": "stdout",
          "text": [
            "1199:\tlearn: 125.1590760\ttest: 159.5530994\tbest: 159.4928517 (1180)\ttotal: 10.5s\tremaining: 0us\nbestTest = 159.4928517\nbestIteration = 1180\nShrink model to first 1181 iterations.\nSeed 42 Fold 3 done. tr=1332 va=62\n"
          ]
        },
        {
          "output_type": "stream",
          "name": "stdout",
          "text": [
            "0:\tlearn: 110.7690386\ttest: 147.7545835\tbest: 147.7545835 (0)\ttotal: 13.2ms\tremaining: 32.9s\n"
          ]
        },
        {
          "output_type": "stream",
          "name": "stdout",
          "text": [
            "200:\tlearn: 109.3779795\ttest: 146.5945848\tbest: 146.5945848 (200)\ttotal: 2.29s\tremaining: 26.2s\n"
          ]
        },
        {
          "output_type": "stream",
          "name": "stdout",
          "text": [
            "400:\tlearn: 108.0209858\ttest: 145.5115770\tbest: 145.5115770 (400)\ttotal: 4.6s\tremaining: 24.1s\n"
          ]
        },
        {
          "output_type": "stream",
          "name": "stdout",
          "text": [
            "600:\tlearn: 106.7323339\ttest: 144.4091797\tbest: 144.4091797 (600)\ttotal: 6.92s\tremaining: 21.9s\n"
          ]
        },
        {
          "output_type": "stream",
          "name": "stdout",
          "text": [
            "800:\tlearn: 105.4890437\ttest: 143.3050813\tbest: 143.3050813 (800)\ttotal: 9.24s\tremaining: 19.6s\n"
          ]
        },
        {
          "output_type": "stream",
          "name": "stdout",
          "text": [
            "1000:\tlearn: 104.2713964\ttest: 142.1690871\tbest: 142.1690871 (1000)\ttotal: 11.6s\tremaining: 17.3s\n"
          ]
        },
        {
          "output_type": "stream",
          "name": "stdout",
          "text": [
            "1200:\tlearn: 103.1157095\ttest: 141.0480091\tbest: 141.0480091 (1200)\ttotal: 13.9s\tremaining: 15s\n"
          ]
        },
        {
          "output_type": "stream",
          "name": "stdout",
          "text": [
            "1400:\tlearn: 101.9932667\ttest: 139.9829889\tbest: 139.9829889 (1400)\ttotal: 16.2s\tremaining: 12.7s\n"
          ]
        },
        {
          "output_type": "stream",
          "name": "stdout",
          "text": [
            "1600:\tlearn: 100.9122091\ttest: 138.9329637\tbest: 138.9329637 (1600)\ttotal: 18.5s\tremaining: 10.4s\n"
          ]
        },
        {
          "output_type": "stream",
          "name": "stdout",
          "text": [
            "1800:\tlearn: 99.8641845\ttest: 137.9319399\tbest: 137.9319399 (1800)\ttotal: 20.8s\tremaining: 8.08s\n"
          ]
        },
        {
          "output_type": "stream",
          "name": "stdout",
          "text": [
            "2000:\tlearn: 98.8543544\ttest: 136.9768303\tbest: 136.9768303 (2000)\ttotal: 23.1s\tremaining: 5.77s\n"
          ]
        },
        {
          "output_type": "stream",
          "name": "stdout",
          "text": [
            "2200:\tlearn: 97.8704192\ttest: 136.0321321\tbest: 136.0321321 (2200)\ttotal: 25.4s\tremaining: 3.46s\n"
          ]
        },
        {
          "output_type": "stream",
          "name": "stdout",
          "text": [
            "2400:\tlearn: 96.9383739\ttest: 135.1091230\tbest: 135.1091230 (2400)\ttotal: 27.7s\tremaining: 1.14s\n"
          ]
        },
        {
          "output_type": "stream",
          "name": "stdout",
          "text": [
            "2499:\tlearn: 96.4956949\ttest: 134.6754662\tbest: 134.6754662 (2499)\ttotal: 28.9s\tremaining: 0us\nbestTest = 134.6754662\nbestIteration = 2499\n"
          ]
        },
        {
          "output_type": "stream",
          "name": "stdout",
          "text": [
            "0:\tlearn: 306.9116628\ttest: 277.6876872\tbest: 277.6876872 (0)\ttotal: 10.1ms\tremaining: 12.1s\n"
          ]
        },
        {
          "output_type": "stream",
          "name": "stdout",
          "text": [
            "200:\tlearn: 176.0148267\ttest: 270.9163661\tbest: 270.8075439 (177)\ttotal: 1.75s\tremaining: 8.72s\n"
          ]
        },
        {
          "output_type": "stream",
          "name": "stdout",
          "text": [
            "400:\tlearn: 157.4168306\ttest: 266.3252468\tbest: 266.0652054 (385)\ttotal: 3.52s\tremaining: 7.02s\n"
          ]
        },
        {
          "output_type": "stream",
          "name": "stdout",
          "text": [
            "600:\tlearn: 134.9481437\ttest: 253.5433252\tbest: 253.3314162 (593)\ttotal: 5.36s\tremaining: 5.34s\n"
          ]
        },
        {
          "output_type": "stream",
          "name": "stdout",
          "text": [
            "800:\tlearn: 122.1081894\ttest: 243.3587223\tbest: 243.3587223 (800)\ttotal: 7.2s\tremaining: 3.59s\n"
          ]
        },
        {
          "output_type": "stream",
          "name": "stdout",
          "text": [
            "1000:\tlearn: 116.6317451\ttest: 239.0878753\tbest: 239.0864670 (999)\ttotal: 8.96s\tremaining: 1.78s\n"
          ]
        },
        {
          "output_type": "stream",
          "name": "stdout",
          "text": [
            "1199:\tlearn: 112.0528183\ttest: 235.6959496\tbest: 235.5508814 (1179)\ttotal: 10.8s\tremaining: 0us\nbestTest = 235.5508814\nbestIteration = 1179\nShrink model to first 1180 iterations.\nSeed 42 Fold 4 done. tr=1332 va=62\nDiag valid_count: 316  nan(abs_wsb)= 0  nan(wsl)= 0  nan(prmse)= 0  calib_count= 316\n"
          ]
        },
        {
          "output_type": "stream",
          "name": "stdout",
          "text": [
            "Temporal OOF (last-2) residual blend (seed-bagged 1): -6.48086 with params {'w_cat': 0.3, 'd': 0.7, 's': 1.6, 'a': 0, 'b': 0.2, 'c': 0.8, 'e': 0.0}\nDiag OOF (last-2, 1-seed): -6.480857092873217\n"
          ]
        }
      ]
    },
    {
      "id": "0be1fa50-7681-43d2-9794-86a9f088c705",
      "cell_type": "code",
      "metadata": {},
      "source": [
        "# Inspect why best_score stayed at -1e9 in res2_diag\n",
        "import numpy as np\n",
        "rd = res2_diag\n",
        "vm = rd['oof_masks']\n",
        "print('valid_mask sum:', int(np.sum(vm)))\n",
        "omu = rd['oof_mu_lin'][vm]\n",
        "orc = rd['oof_res_cat'][vm]\n",
        "orl = rd['oof_res_lgbm'][vm]\n",
        "osc = rd['oof_sigma_cat_raw'][vm]\n",
        "osq = rd['oof_sigma_q'][vm]\n",
        "owsb = rd['oof_abs_wsb'][vm]\n",
        "oprmse = rd['oof_prmse'][vm]\n",
        "print('NaNs after mask -> mu_lin:', int(np.isnan(omu).sum()), 'res_cat:', int(np.isnan(orc).sum()), 'res_lgbm:', int(np.isnan(orl).sum()))\n",
        "print('NaNs after mask -> sig_cat:', int(np.isnan(osc).sum()), 'sig_q:', int(np.isnan(osq).sum()), 'abs_wsb:', int(np.isnan(owsb).sum()), 'prmse:', int(np.isnan(oprmse).sum()))\n",
        "print('Finite counts -> mu_lin:', int(np.isfinite(omu).sum()), 'res_cat:', int(np.isfinite(orc).sum()), 'res_lgbm:', int(np.isfinite(orl).sum()))"
      ],
      "execution_count": 29,
      "outputs": [
        {
          "output_type": "stream",
          "name": "stdout",
          "text": [
            "valid_mask sum: 316\nNaNs after mask -> mu_lin: 0 res_cat: 0 res_lgbm: 0\nNaNs after mask -> sig_cat: 0 sig_q: 0 abs_wsb: 0 prmse: 0\nFinite counts -> mu_lin: 316 res_cat: 316 res_lgbm: 316\n"
          ]
        }
      ]
    },
    {
      "id": "22a3f7f2-56af-4234-afd8-5bede7a265aa",
      "cell_type": "code",
      "metadata": {},
      "source": [
        "# Manual OOF scoring on res2_diag OOF arrays to bypass grid bug; set res2 best params\n",
        "import numpy as np\n",
        "rd = res2_diag\n",
        "train_sorted = rd['train_sorted']\n",
        "vm = rd['oof_masks']\n",
        "y_oof = train_sorted['FVC'].values[vm].astype(float)\n",
        "mu_lin_oof = rd['oof_mu_lin'][vm].astype(float)\n",
        "res_cat_oof = rd['oof_res_cat'][vm].astype(float)\n",
        "res_lgbm_oof = rd['oof_res_lgbm'][vm].astype(float)\n",
        "sig_cat_oof = rd['oof_sigma_cat_raw'][vm].astype(float)\n",
        "sig_q_oof = rd['oof_sigma_q'][vm].astype(float)\n",
        "abs_wsb_oof = rd['oof_abs_wsb'][vm].astype(float)\n",
        "prmse_oof = rd['oof_prmse'][vm].astype(float)\n",
        "\n",
        "# Sanitize\n",
        "def nanmed(x, fallback=100.0):\n",
        "    m = np.nanmedian(x)\n",
        "    return fallback if not np.isfinite(m) else m\n",
        "y_oof = np.nan_to_num(y_oof, nan=nanmed(y_oof))\n",
        "mu_lin_oof = np.nan_to_num(mu_lin_oof, nan=nanmed(mu_lin_oof))\n",
        "res_cat_oof = np.nan_to_num(res_cat_oof, nan=0.0)\n",
        "res_lgbm_oof = np.nan_to_num(res_lgbm_oof, nan=0.0)\n",
        "sig_cat_oof = np.nan_to_num(sig_cat_oof, nan=nanmed(sig_cat_oof, 100.0))\n",
        "sig_q_oof = np.nan_to_num(sig_q_oof, nan=nanmed(sig_q_oof, 100.0))\n",
        "abs_wsb_oof = np.nan_to_num(abs_wsb_oof, nan=0.0, posinf=0.0, neginf=0.0)\n",
        "prmse_oof = np.nan_to_num(prmse_oof, nan=nanmed(prmse_oof, 120.0))\n",
        "\n",
        "# Find w_cat\n",
        "best_w, best_ll = 0.5, -1e9\n",
        "for w_cat in [0.3,0.4,0.5,0.6,0.7]:\n",
        "    mu_base = mu_lin_oof + w_cat*res_cat_oof + (1-w_cat)*res_lgbm_oof\n",
        "    sig_tmp = np.maximum(sig_cat_oof, 70.0)\n",
        "    mask_ok = np.isfinite(y_oof) & np.isfinite(mu_base) & np.isfinite(sig_tmp)\n",
        "    if not mask_ok.any():\n",
        "        continue\n",
        "    scr = laplace_log_likelihood(y_oof[mask_ok], mu_base[mask_ok], sig_tmp[mask_ok], sigma_floor=70.0, error_clip=1000.0)\n",
        "    if np.isfinite(scr) and scr > best_ll:\n",
        "        best_ll, best_w = scr, w_cat\n",
        "\n",
        "# Small sigma grid (d,s,a,b,c,e) and evaluate on all valid rows (approximation)\n",
        "d_grid = [0.3, 0.5, 0.7]\n",
        "s_grid = [1.0, 1.2, 1.4]\n",
        "a_grid = [0, 20, 40]\n",
        "b_grid = [0.3, 0.6, 1.0]\n",
        "c_grid = [0.8, 1.0, 1.2]\n",
        "e_grid = [0.0, 0.5, 1.0]\n",
        "best_score = -1e9\n",
        "best = dict(w_cat=best_w, d=None, s=None, a=None, b=None, c=None, e=None)\n",
        "mu_base_all = mu_lin_oof + best_w*res_cat_oof + (1-best_w)*res_lgbm_oof\n",
        "for d in d_grid:\n",
        "    sig_raw = np.maximum(d*sig_q_oof + (1-d)*sig_cat_oof, 5.0)\n",
        "    for s in s_grid:\n",
        "        for a in a_grid:\n",
        "            for b in b_grid:\n",
        "                for c in c_grid:\n",
        "                    for e in e_grid:\n",
        "                        sig = np.maximum(sig_raw*s, a + b*np.clip(abs_wsb_oof, 0, 40))\n",
        "                        sig = np.maximum(sig, c*prmse_oof)\n",
        "                        sig = np.maximum(sig, 70.0)  # no weeks_since_last here; safe approx\n",
        "                        mask_ok = np.isfinite(y_oof) & np.isfinite(mu_base_all) & np.isfinite(sig)\n",
        "                        if not mask_ok.any():\n",
        "                            continue\n",
        "                        scr = laplace_log_likelihood(y_oof[mask_ok], mu_base_all[mask_ok], sig[mask_ok], sigma_floor=70.0, error_clip=1000.0)\n",
        "                        if np.isfinite(scr) and scr > best_score:\n",
        "                            best_score = scr; best.update(dict(d=d,s=s,a=a,b=b,c=c,e=e))\n",
        "print('Manual OOF estimate:', round(best_score,5), 'best:', best)\n",
        "\n",
        "# Register res2 for production Cell 7\n",
        "res2 = {'best_score': best_score, 'best': best, 'oof_masks': vm, 'train_sorted': train_sorted}\n",
        "print('res2 registered for production.')"
      ],
      "execution_count": 30,
      "outputs": [
        {
          "output_type": "stream",
          "name": "stdout",
          "text": [
            "Manual OOF estimate: -6.4929 best: {'w_cat': 0.3, 'd': 0.5, 's': 1.4, 'a': 0, 'b': 0.3, 'c': 0.8, 'e': 0.0}\nres2 registered for production.\n"
          ]
        }
      ]
    },
    {
      "id": "da8d54df-d3e5-4afe-a444-f20c47f09544",
      "cell_type": "code",
      "metadata": {},
      "source": [
        "# Full 5-seed run (last-2) to get reliable params for production\n",
        "print('Running full residual CV: last-2 per patient, 5 seeds (42,123,456,789,2024)...', flush=True)\n",
        "res2 = temporal_cv_with_lgbm_and_residuals(train, n_splits=5, seed=42, temporal_k=2, seeds_bag=(42,123,456,789,2024))\n",
        "print('Full OOF (last-2, 5-seed):', res2['best_score'], 'best:', res2['best'])"
      ],
      "execution_count": 32,
      "outputs": [
        {
          "output_type": "stream",
          "name": "stdout",
          "text": [
            "Running full residual CV: last-2 per patient, 5 seeds (42,123,456,789,2024)...\n"
          ]
        },
        {
          "output_type": "stream",
          "name": "stdout",
          "text": [
            "Seed bag 1/5 (seed=42)\n"
          ]
        },
        {
          "output_type": "stream",
          "name": "stdout",
          "text": [
            "0:\tlearn: 112.4866659\ttest: 101.5867004\tbest: 101.5867004 (0)\ttotal: 12.5ms\tremaining: 31.3s\n"
          ]
        },
        {
          "output_type": "stream",
          "name": "stdout",
          "text": [
            "200:\tlearn: 111.1086466\ttest: 100.2131348\tbest: 100.2131348 (200)\ttotal: 2.3s\tremaining: 26.3s\n"
          ]
        },
        {
          "output_type": "stream",
          "name": "stdout",
          "text": [
            "400:\tlearn: 109.7614309\ttest: 98.9589386\tbest: 98.9589386 (400)\ttotal: 4.62s\tremaining: 24.2s\n"
          ]
        },
        {
          "output_type": "stream",
          "name": "stdout",
          "text": [
            "600:\tlearn: 108.4642622\ttest: 97.7775421\tbest: 97.7775421 (600)\ttotal: 6.92s\tremaining: 21.9s\n"
          ]
        },
        {
          "output_type": "stream",
          "name": "stdout",
          "text": [
            "800:\tlearn: 107.2017270\ttest: 96.6229401\tbest: 96.6229401 (800)\ttotal: 9.22s\tremaining: 19.6s\n"
          ]
        },
        {
          "output_type": "stream",
          "name": "stdout",
          "text": [
            "1000:\tlearn: 105.9701128\ttest: 95.4697876\tbest: 95.4697876 (1000)\ttotal: 11.5s\tremaining: 17.3s\n"
          ]
        },
        {
          "output_type": "stream",
          "name": "stdout",
          "text": [
            "1200:\tlearn: 104.8058506\ttest: 94.3464050\tbest: 94.3464050 (1200)\ttotal: 13.9s\tremaining: 15s\n"
          ]
        },
        {
          "output_type": "stream",
          "name": "stdout",
          "text": [
            "1400:\tlearn: 103.6933036\ttest: 93.2374268\tbest: 93.2374268 (1400)\ttotal: 16.2s\tremaining: 12.7s\n"
          ]
        },
        {
          "output_type": "stream",
          "name": "stdout",
          "text": [
            "1600:\tlearn: 102.6191612\ttest: 92.1491241\tbest: 92.1491241 (1600)\ttotal: 18.5s\tremaining: 10.4s\n"
          ]
        },
        {
          "output_type": "stream",
          "name": "stdout",
          "text": [
            "1800:\tlearn: 101.5760808\ttest: 91.0741196\tbest: 91.0741196 (1800)\ttotal: 20.8s\tremaining: 8.06s\n"
          ]
        },
        {
          "output_type": "stream",
          "name": "stdout",
          "text": [
            "2000:\tlearn: 100.5632049\ttest: 90.0416107\tbest: 90.0416107 (2000)\ttotal: 23.1s\tremaining: 5.76s\n"
          ]
        },
        {
          "output_type": "stream",
          "name": "stdout",
          "text": [
            "2200:\tlearn: 99.5780663\ttest: 89.0354156\tbest: 89.0354156 (2200)\ttotal: 25.4s\tremaining: 3.45s\n"
          ]
        },
        {
          "output_type": "stream",
          "name": "stdout",
          "text": [
            "2400:\tlearn: 98.6441259\ttest: 88.0278549\tbest: 88.0278549 (2400)\ttotal: 27.7s\tremaining: 1.14s\n"
          ]
        },
        {
          "output_type": "stream",
          "name": "stdout",
          "text": [
            "2499:\tlearn: 98.1982495\ttest: 87.5259094\tbest: 87.5259094 (2499)\ttotal: 28.8s\tremaining: 0us\nbestTest = 87.52590942\nbestIteration = 2499\n"
          ]
        },
        {
          "output_type": "stream",
          "name": "stdout",
          "text": [
            "0:\tlearn: 308.5306239\ttest: 155.2169097\tbest: 155.2169097 (0)\ttotal: 10.2ms\tremaining: 12.2s\n"
          ]
        },
        {
          "output_type": "stream",
          "name": "stdout",
          "text": [
            "200:\tlearn: 153.1618339\ttest: 140.1122039\tbest: 140.1122039 (200)\ttotal: 1.89s\tremaining: 9.38s\n"
          ]
        },
        {
          "output_type": "stream",
          "name": "stdout",
          "text": [
            "400:\tlearn: 142.4859523\ttest: 134.8271970\tbest: 134.8271970 (400)\ttotal: 3.74s\tremaining: 7.45s\n"
          ]
        },
        {
          "output_type": "stream",
          "name": "stdout",
          "text": [
            "600:\tlearn: 135.4623828\ttest: 133.3059217\tbest: 132.4746217 (547)\ttotal: 5.62s\tremaining: 5.6s\n"
          ]
        },
        {
          "output_type": "stream",
          "name": "stdout",
          "text": [
            "800:\tlearn: 130.0340268\ttest: 126.4999151\tbest: 126.2464186 (750)\ttotal: 7.41s\tremaining: 3.69s\n"
          ]
        },
        {
          "output_type": "stream",
          "name": "stdout",
          "text": [
            "bestTest = 126.2464186\nbestIteration = 750\nShrink model to first 751 iterations.\nSeed 42 Fold 0 done. tr=1330 va=64\n"
          ]
        },
        {
          "output_type": "stream",
          "name": "stdout",
          "text": [
            "0:\tlearn: 112.7850799\ttest: 88.1088257\tbest: 88.1088257 (0)\ttotal: 11.8ms\tremaining: 29.5s\n"
          ]
        },
        {
          "output_type": "stream",
          "name": "stdout",
          "text": [
            "200:\tlearn: 111.4323191\ttest: 86.9198685\tbest: 86.9198685 (200)\ttotal: 2.29s\tremaining: 26.2s\n"
          ]
        },
        {
          "output_type": "stream",
          "name": "stdout",
          "text": [
            "400:\tlearn: 110.0971570\ttest: 85.7585907\tbest: 85.7585907 (400)\ttotal: 4.59s\tremaining: 24s\n"
          ]
        },
        {
          "output_type": "stream",
          "name": "stdout",
          "text": [
            "600:\tlearn: 108.8022204\ttest: 84.5971069\tbest: 84.5971069 (600)\ttotal: 6.89s\tremaining: 21.8s\n"
          ]
        },
        {
          "output_type": "stream",
          "name": "stdout",
          "text": [
            "800:\tlearn: 107.5451715\ttest: 83.4568939\tbest: 83.4568939 (800)\ttotal: 9.19s\tremaining: 19.5s\n"
          ]
        },
        {
          "output_type": "stream",
          "name": "stdout",
          "text": [
            "1000:\tlearn: 106.3324601\ttest: 82.3283539\tbest: 82.3283539 (1000)\ttotal: 11.5s\tremaining: 17.2s\n"
          ]
        },
        {
          "output_type": "stream",
          "name": "stdout",
          "text": [
            "1200:\tlearn: 105.1617599\ttest: 81.2710266\tbest: 81.2710266 (1200)\ttotal: 13.8s\tremaining: 14.9s\n"
          ]
        },
        {
          "output_type": "stream",
          "name": "stdout",
          "text": [
            "1400:\tlearn: 104.0351856\ttest: 80.2383194\tbest: 80.2383194 (1400)\ttotal: 16.1s\tremaining: 12.6s\n"
          ]
        },
        {
          "output_type": "stream",
          "name": "stdout",
          "text": [
            "1600:\tlearn: 102.9538064\ttest: 79.2416534\tbest: 79.2416534 (1600)\ttotal: 18.4s\tremaining: 10.3s\n"
          ]
        },
        {
          "output_type": "stream",
          "name": "stdout",
          "text": [
            "1800:\tlearn: 101.9133341\ttest: 78.2567749\tbest: 78.2567749 (1800)\ttotal: 20.7s\tremaining: 8.05s\n"
          ]
        },
        {
          "output_type": "stream",
          "name": "stdout",
          "text": [
            "2000:\tlearn: 100.9046875\ttest: 77.2902756\tbest: 77.2902756 (2000)\ttotal: 23s\tremaining: 5.75s\n"
          ]
        },
        {
          "output_type": "stream",
          "name": "stdout",
          "text": [
            "2200:\tlearn: 99.9257989\ttest: 76.3693085\tbest: 76.3693085 (2200)\ttotal: 25.4s\tremaining: 3.44s\n"
          ]
        },
        {
          "output_type": "stream",
          "name": "stdout",
          "text": [
            "2400:\tlearn: 98.9788651\ttest: 75.4434586\tbest: 75.4434586 (2400)\ttotal: 27.7s\tremaining: 1.14s\n"
          ]
        },
        {
          "output_type": "stream",
          "name": "stdout",
          "text": [
            "2499:\tlearn: 98.5314850\ttest: 74.9853821\tbest: 74.9853821 (2499)\ttotal: 28.8s\tremaining: 0us\nbestTest = 74.98538208\nbestIteration = 2499\n"
          ]
        },
        {
          "output_type": "stream",
          "name": "stdout",
          "text": [
            "0:\tlearn: 307.5337942\ttest: 134.9487967\tbest: 134.9487967 (0)\ttotal: 10.2ms\tremaining: 12.2s\n"
          ]
        },
        {
          "output_type": "stream",
          "name": "stdout",
          "text": [
            "bestTest = 125.5902859\nbestIteration = 22\nShrink model to first 23 iterations.\nSeed 42 Fold 1 done. tr=1330 va=64\n"
          ]
        },
        {
          "output_type": "stream",
          "name": "stdout",
          "text": [
            "0:\tlearn: 112.5418938\ttest: 89.9807281\tbest: 89.9807281 (0)\ttotal: 11.6ms\tremaining: 28.9s\n"
          ]
        },
        {
          "output_type": "stream",
          "name": "stdout",
          "text": [
            "200:\tlearn: 111.1715930\ttest: 88.7886963\tbest: 88.7886963 (200)\ttotal: 2.28s\tremaining: 26.1s\n"
          ]
        },
        {
          "output_type": "stream",
          "name": "stdout",
          "text": [
            "400:\tlearn: 109.8231673\ttest: 87.7895203\tbest: 87.7895203 (400)\ttotal: 4.6s\tremaining: 24.1s\n"
          ]
        },
        {
          "output_type": "stream",
          "name": "stdout",
          "text": [
            "600:\tlearn: 108.5168468\ttest: 86.7960815\tbest: 86.7960815 (600)\ttotal: 6.91s\tremaining: 21.8s\n"
          ]
        },
        {
          "output_type": "stream",
          "name": "stdout",
          "text": [
            "800:\tlearn: 107.2437383\ttest: 85.8436584\tbest: 85.8436584 (800)\ttotal: 9.21s\tremaining: 19.5s\n"
          ]
        },
        {
          "output_type": "stream",
          "name": "stdout",
          "text": [
            "1000:\tlearn: 106.0163769\ttest: 84.9082489\tbest: 84.9082489 (1000)\ttotal: 11.5s\tremaining: 17.2s\n"
          ]
        },
        {
          "output_type": "stream",
          "name": "stdout",
          "text": [
            "1200:\tlearn: 104.8391800\ttest: 84.0093842\tbest: 84.0093842 (1200)\ttotal: 13.8s\tremaining: 14.9s\n"
          ]
        },
        {
          "output_type": "stream",
          "name": "stdout",
          "text": [
            "1400:\tlearn: 103.7019972\ttest: 83.1603088\tbest: 83.1603088 (1400)\ttotal: 16.1s\tremaining: 12.6s\n"
          ]
        },
        {
          "output_type": "stream",
          "name": "stdout",
          "text": [
            "1600:\tlearn: 102.6160479\ttest: 82.3536224\tbest: 82.3536224 (1600)\ttotal: 18.4s\tremaining: 10.3s\n"
          ]
        },
        {
          "output_type": "stream",
          "name": "stdout",
          "text": [
            "1800:\tlearn: 101.5673285\ttest: 81.5379791\tbest: 81.5379791 (1800)\ttotal: 20.7s\tremaining: 8.03s\n"
          ]
        },
        {
          "output_type": "stream",
          "name": "stdout",
          "text": [
            "2000:\tlearn: 100.5452068\ttest: 80.7481842\tbest: 80.7481842 (2000)\ttotal: 23s\tremaining: 5.73s\n"
          ]
        },
        {
          "output_type": "stream",
          "name": "stdout",
          "text": [
            "2200:\tlearn: 99.5395794\ttest: 80.0027618\tbest: 80.0027618 (2200)\ttotal: 25.2s\tremaining: 3.43s\n"
          ]
        },
        {
          "output_type": "stream",
          "name": "stdout",
          "text": [
            "2400:\tlearn: 98.5791353\ttest: 79.2519836\tbest: 79.2519836 (2400)\ttotal: 27.5s\tremaining: 1.14s\n"
          ]
        },
        {
          "output_type": "stream",
          "name": "stdout",
          "text": [
            "2499:\tlearn: 98.1324013\ttest: 78.9027176\tbest: 78.9027176 (2499)\ttotal: 28.7s\tremaining: 0us\nbestTest = 78.90271759\nbestIteration = 2499\n"
          ]
        },
        {
          "output_type": "stream",
          "name": "stdout",
          "text": [
            "0:\tlearn: 306.6855851\ttest: 255.3659063\tbest: 255.3659063 (0)\ttotal: 10.3ms\tremaining: 12.3s\n"
          ]
        },
        {
          "output_type": "stream",
          "name": "stdout",
          "text": [
            "200:\tlearn: 161.3626840\ttest: 226.3142001\tbest: 226.2670228 (198)\ttotal: 1.83s\tremaining: 9.09s\n"
          ]
        },
        {
          "output_type": "stream",
          "name": "stdout",
          "text": [
            "bestTest = 225.5430946\nbestIteration = 219\nShrink model to first 220 iterations.\nSeed 42 Fold 2 done. tr=1330 va=64\n"
          ]
        },
        {
          "output_type": "stream",
          "name": "stdout",
          "text": [
            "0:\tlearn: 112.5267220\ttest: 110.8506411\tbest: 110.8506411 (0)\ttotal: 11.5ms\tremaining: 28.7s\n"
          ]
        },
        {
          "output_type": "stream",
          "name": "stdout",
          "text": [
            "200:\tlearn: 111.1203078\ttest: 109.4092663\tbest: 109.4092663 (200)\ttotal: 2.23s\tremaining: 25.5s\n"
          ]
        },
        {
          "output_type": "stream",
          "name": "stdout",
          "text": [
            "400:\tlearn: 109.7455424\ttest: 108.0633899\tbest: 108.0633899 (400)\ttotal: 4.5s\tremaining: 23.5s\n"
          ]
        },
        {
          "output_type": "stream",
          "name": "stdout",
          "text": [
            "600:\tlearn: 108.4257343\ttest: 106.7384230\tbest: 106.7384230 (600)\ttotal: 6.79s\tremaining: 21.4s\n"
          ]
        },
        {
          "output_type": "stream",
          "name": "stdout",
          "text": [
            "800:\tlearn: 107.1446016\ttest: 105.4414220\tbest: 105.4414220 (800)\ttotal: 9.07s\tremaining: 19.2s\n"
          ]
        },
        {
          "output_type": "stream",
          "name": "stdout",
          "text": [
            "1000:\tlearn: 105.9145434\ttest: 104.1990612\tbest: 104.1990612 (1000)\ttotal: 11.4s\tremaining: 17s\n"
          ]
        },
        {
          "output_type": "stream",
          "name": "stdout",
          "text": [
            "1200:\tlearn: 104.7288617\ttest: 102.9781297\tbest: 102.9781297 (1200)\ttotal: 13.6s\tremaining: 14.8s\n"
          ]
        },
        {
          "output_type": "stream",
          "name": "stdout",
          "text": [
            "1400:\tlearn: 103.5977266\ttest: 101.8028131\tbest: 101.8028131 (1400)\ttotal: 15.9s\tremaining: 12.5s\n"
          ]
        },
        {
          "output_type": "stream",
          "name": "stdout",
          "text": [
            "1600:\tlearn: 102.4952374\ttest: 100.6479807\tbest: 100.6479807 (1600)\ttotal: 18.2s\tremaining: 10.2s\n"
          ]
        },
        {
          "output_type": "stream",
          "name": "stdout",
          "text": [
            "1800:\tlearn: 101.4312359\ttest: 99.5199250\tbest: 99.5199250 (1800)\ttotal: 20.5s\tremaining: 7.97s\n"
          ]
        },
        {
          "output_type": "stream",
          "name": "stdout",
          "text": [
            "2000:\tlearn: 100.4075286\ttest: 98.3975712\tbest: 98.3975712 (2000)\ttotal: 22.8s\tremaining: 5.69s\n"
          ]
        },
        {
          "output_type": "stream",
          "name": "stdout",
          "text": [
            "2200:\tlearn: 99.4306963\ttest: 97.4044071\tbest: 97.4044071 (2200)\ttotal: 25.1s\tremaining: 3.41s\n"
          ]
        },
        {
          "output_type": "stream",
          "name": "stdout",
          "text": [
            "2400:\tlearn: 98.4892314\ttest: 96.4590474\tbest: 96.4590474 (2400)\ttotal: 27.4s\tremaining: 1.13s\n"
          ]
        },
        {
          "output_type": "stream",
          "name": "stdout",
          "text": [
            "2499:\tlearn: 98.0466521\ttest: 96.0079858\tbest: 96.0079858 (2499)\ttotal: 28.5s\tremaining: 0us\nbestTest = 96.00798576\nbestIteration = 2499\n"
          ]
        },
        {
          "output_type": "stream",
          "name": "stdout",
          "text": [
            "0:\tlearn: 307.8991586\ttest: 201.8242009\tbest: 201.8242009 (0)\ttotal: 10.1ms\tremaining: 12.1s\n"
          ]
        },
        {
          "output_type": "stream",
          "name": "stdout",
          "text": [
            "200:\tlearn: 190.0113558\ttest: 196.6797893\tbest: 196.6797893 (200)\ttotal: 1.68s\tremaining: 8.36s\n"
          ]
        },
        {
          "output_type": "stream",
          "name": "stdout",
          "text": [
            "400:\tlearn: 165.1522093\ttest: 191.2902920\tbest: 190.9878606 (398)\ttotal: 3.27s\tremaining: 6.51s\n"
          ]
        },
        {
          "output_type": "stream",
          "name": "stdout",
          "text": [
            "600:\tlearn: 148.0345914\ttest: 179.9960741\tbest: 179.9877796 (599)\ttotal: 5.11s\tremaining: 5.1s\n"
          ]
        },
        {
          "output_type": "stream",
          "name": "stdout",
          "text": [
            "800:\tlearn: 141.8681450\ttest: 175.2377072\tbest: 175.1931135 (791)\ttotal: 6.89s\tremaining: 3.43s\n"
          ]
        },
        {
          "output_type": "stream",
          "name": "stdout",
          "text": [
            "1000:\tlearn: 132.0561124\ttest: 169.0807631\tbest: 169.0807631 (1000)\ttotal: 8.65s\tremaining: 1.72s\n"
          ]
        },
        {
          "output_type": "stream",
          "name": "stdout",
          "text": [
            "1199:\tlearn: 125.1590760\ttest: 159.5530994\tbest: 159.4928517 (1180)\ttotal: 10.5s\tremaining: 0us\nbestTest = 159.4928517\nbestIteration = 1180\nShrink model to first 1181 iterations.\nSeed 42 Fold 3 done. tr=1332 va=62\n"
          ]
        },
        {
          "output_type": "stream",
          "name": "stdout",
          "text": [
            "0:\tlearn: 110.7690386\ttest: 147.7545835\tbest: 147.7545835 (0)\ttotal: 12.1ms\tremaining: 30.2s\n"
          ]
        },
        {
          "output_type": "stream",
          "name": "stdout",
          "text": [
            "200:\tlearn: 109.3779795\ttest: 146.5945848\tbest: 146.5945848 (200)\ttotal: 2.27s\tremaining: 25.9s\n"
          ]
        },
        {
          "output_type": "stream",
          "name": "stdout",
          "text": [
            "400:\tlearn: 108.0209858\ttest: 145.5115770\tbest: 145.5115770 (400)\ttotal: 4.53s\tremaining: 23.7s\n"
          ]
        },
        {
          "output_type": "stream",
          "name": "stdout",
          "text": [
            "600:\tlearn: 106.7323339\ttest: 144.4091797\tbest: 144.4091797 (600)\ttotal: 6.8s\tremaining: 21.5s\n"
          ]
        },
        {
          "output_type": "stream",
          "name": "stdout",
          "text": [
            "800:\tlearn: 105.4890437\ttest: 143.3050813\tbest: 143.3050813 (800)\ttotal: 9.1s\tremaining: 19.3s\n"
          ]
        },
        {
          "output_type": "stream",
          "name": "stdout",
          "text": [
            "1000:\tlearn: 104.2713964\ttest: 142.1690871\tbest: 142.1690871 (1000)\ttotal: 11.4s\tremaining: 17.1s\n"
          ]
        },
        {
          "output_type": "stream",
          "name": "stdout",
          "text": [
            "1200:\tlearn: 103.1157095\ttest: 141.0480091\tbest: 141.0480091 (1200)\ttotal: 13.7s\tremaining: 14.8s\n"
          ]
        },
        {
          "output_type": "stream",
          "name": "stdout",
          "text": [
            "1400:\tlearn: 101.9932667\ttest: 139.9829889\tbest: 139.9829889 (1400)\ttotal: 16s\tremaining: 12.6s\n"
          ]
        },
        {
          "output_type": "stream",
          "name": "stdout",
          "text": [
            "1600:\tlearn: 100.9122091\ttest: 138.9329637\tbest: 138.9329637 (1600)\ttotal: 18.3s\tremaining: 10.3s\n"
          ]
        },
        {
          "output_type": "stream",
          "name": "stdout",
          "text": [
            "1800:\tlearn: 99.8641845\ttest: 137.9319399\tbest: 137.9319399 (1800)\ttotal: 20.6s\tremaining: 8.01s\n"
          ]
        },
        {
          "output_type": "stream",
          "name": "stdout",
          "text": [
            "2000:\tlearn: 98.8543544\ttest: 136.9768303\tbest: 136.9768303 (2000)\ttotal: 22.9s\tremaining: 5.72s\n"
          ]
        },
        {
          "output_type": "stream",
          "name": "stdout",
          "text": [
            "2200:\tlearn: 97.8704192\ttest: 136.0321321\tbest: 136.0321321 (2200)\ttotal: 25.3s\tremaining: 3.43s\n"
          ]
        },
        {
          "output_type": "stream",
          "name": "stdout",
          "text": [
            "2400:\tlearn: 96.9383739\ttest: 135.1091230\tbest: 135.1091230 (2400)\ttotal: 27.6s\tremaining: 1.14s\n"
          ]
        },
        {
          "output_type": "stream",
          "name": "stdout",
          "text": [
            "2499:\tlearn: 96.4956949\ttest: 134.6754662\tbest: 134.6754662 (2499)\ttotal: 28.7s\tremaining: 0us\nbestTest = 134.6754662\nbestIteration = 2499\n"
          ]
        },
        {
          "output_type": "stream",
          "name": "stdout",
          "text": [
            "0:\tlearn: 306.9116628\ttest: 277.6876872\tbest: 277.6876872 (0)\ttotal: 10.2ms\tremaining: 12.3s\n"
          ]
        },
        {
          "output_type": "stream",
          "name": "stdout",
          "text": [
            "200:\tlearn: 176.0148267\ttest: 270.9163661\tbest: 270.8075439 (177)\ttotal: 1.75s\tremaining: 8.69s\n"
          ]
        },
        {
          "output_type": "stream",
          "name": "stdout",
          "text": [
            "400:\tlearn: 157.4168306\ttest: 266.3252468\tbest: 266.0652054 (385)\ttotal: 3.5s\tremaining: 6.98s\n"
          ]
        },
        {
          "output_type": "stream",
          "name": "stdout",
          "text": [
            "600:\tlearn: 134.9481437\ttest: 253.5433252\tbest: 253.3314162 (593)\ttotal: 5.36s\tremaining: 5.34s\n"
          ]
        },
        {
          "output_type": "stream",
          "name": "stdout",
          "text": [
            "800:\tlearn: 122.1081894\ttest: 243.3587223\tbest: 243.3587223 (800)\ttotal: 7.21s\tremaining: 3.59s\n"
          ]
        },
        {
          "output_type": "stream",
          "name": "stdout",
          "text": [
            "1000:\tlearn: 116.6317451\ttest: 239.0878753\tbest: 239.0864670 (999)\ttotal: 8.98s\tremaining: 1.79s\n"
          ]
        },
        {
          "output_type": "stream",
          "name": "stdout",
          "text": [
            "1199:\tlearn: 112.0528183\ttest: 235.6959496\tbest: 235.5508814 (1179)\ttotal: 10.8s\tremaining: 0us\nbestTest = 235.5508814\nbestIteration = 1179\nShrink model to first 1180 iterations.\nSeed 42 Fold 4 done. tr=1332 va=62\nSeed bag 2/5 (seed=123)\n"
          ]
        },
        {
          "output_type": "stream",
          "name": "stdout",
          "text": [
            "0:\tlearn: 112.4867364\ttest: 101.5860291\tbest: 101.5860291 (0)\ttotal: 11.6ms\tremaining: 29.1s\n"
          ]
        },
        {
          "output_type": "stream",
          "name": "stdout",
          "text": [
            "200:\tlearn: 111.1084704\ttest: 100.2271652\tbest: 100.2271652 (200)\ttotal: 2.28s\tremaining: 26s\n"
          ]
        },
        {
          "output_type": "stream",
          "name": "stdout",
          "text": [
            "400:\tlearn: 109.7557448\ttest: 98.9653168\tbest: 98.9653168 (400)\ttotal: 4.57s\tremaining: 23.9s\n"
          ]
        },
        {
          "output_type": "stream",
          "name": "stdout",
          "text": [
            "600:\tlearn: 108.4564145\ttest: 97.7653351\tbest: 97.7653351 (600)\ttotal: 6.86s\tremaining: 21.7s\n"
          ]
        },
        {
          "output_type": "stream",
          "name": "stdout",
          "text": [
            "800:\tlearn: 107.1914591\ttest: 96.5791321\tbest: 96.5791321 (800)\ttotal: 9.15s\tremaining: 19.4s\n"
          ]
        },
        {
          "output_type": "stream",
          "name": "stdout",
          "text": [
            "1000:\tlearn: 105.9617481\ttest: 95.4230804\tbest: 95.4230804 (1000)\ttotal: 11.4s\tremaining: 17.1s\n"
          ]
        },
        {
          "output_type": "stream",
          "name": "stdout",
          "text": [
            "1200:\tlearn: 104.7966635\ttest: 94.2828217\tbest: 94.2828217 (1200)\ttotal: 13.7s\tremaining: 14.9s\n"
          ]
        },
        {
          "output_type": "stream",
          "name": "stdout",
          "text": [
            "1400:\tlearn: 103.6835761\ttest: 93.1694260\tbest: 93.1694260 (1400)\ttotal: 16s\tremaining: 12.6s\n"
          ]
        },
        {
          "output_type": "stream",
          "name": "stdout",
          "text": [
            "1600:\tlearn: 102.6075423\ttest: 92.0912323\tbest: 92.0912323 (1600)\ttotal: 18.3s\tremaining: 10.3s\n"
          ]
        },
        {
          "output_type": "stream",
          "name": "stdout",
          "text": [
            "1800:\tlearn: 101.5632989\ttest: 91.0279388\tbest: 91.0279388 (1800)\ttotal: 20.6s\tremaining: 7.99s\n"
          ]
        },
        {
          "output_type": "stream",
          "name": "stdout",
          "text": [
            "2000:\tlearn: 100.5488487\ttest: 89.9840240\tbest: 89.9840240 (2000)\ttotal: 22.9s\tremaining: 5.71s\n"
          ]
        },
        {
          "output_type": "stream",
          "name": "stdout",
          "text": [
            "2200:\tlearn: 99.5824953\ttest: 89.0124512\tbest: 89.0124512 (2200)\ttotal: 25.2s\tremaining: 3.42s\n"
          ]
        },
        {
          "output_type": "stream",
          "name": "stdout",
          "text": [
            "2400:\tlearn: 98.6571898\ttest: 88.0691147\tbest: 88.0691147 (2400)\ttotal: 27.5s\tremaining: 1.13s\n"
          ]
        },
        {
          "output_type": "stream",
          "name": "stdout",
          "text": [
            "2499:\tlearn: 98.2144149\ttest: 87.6030579\tbest: 87.6030579 (2499)\ttotal: 28.7s\tremaining: 0us\nbestTest = 87.60305786\nbestIteration = 2499\n"
          ]
        },
        {
          "output_type": "stream",
          "name": "stdout",
          "text": [
            "0:\tlearn: 308.0611696\ttest: 155.7314646\tbest: 155.7314646 (0)\ttotal: 10.2ms\tremaining: 12.2s\n"
          ]
        },
        {
          "output_type": "stream",
          "name": "stdout",
          "text": [
            "bestTest = 151.551546\nbestIteration = 15\nShrink model to first 16 iterations.\nSeed 123 Fold 0 done. tr=1330 va=64\n"
          ]
        },
        {
          "output_type": "stream",
          "name": "stdout",
          "text": [
            "0:\tlearn: 112.7855146\ttest: 88.1092758\tbest: 88.1092758 (0)\ttotal: 11.4ms\tremaining: 28.5s\n"
          ]
        },
        {
          "output_type": "stream",
          "name": "stdout",
          "text": [
            "200:\tlearn: 111.4374178\ttest: 86.9008331\tbest: 86.9008331 (200)\ttotal: 2.27s\tremaining: 26s\n"
          ]
        },
        {
          "output_type": "stream",
          "name": "stdout",
          "text": [
            "400:\tlearn: 110.1058271\ttest: 85.7631683\tbest: 85.7631683 (400)\ttotal: 4.56s\tremaining: 23.9s\n"
          ]
        },
        {
          "output_type": "stream",
          "name": "stdout",
          "text": [
            "600:\tlearn: 108.8190555\ttest: 84.6315155\tbest: 84.6315155 (600)\ttotal: 6.86s\tremaining: 21.7s\n"
          ]
        },
        {
          "output_type": "stream",
          "name": "stdout",
          "text": [
            "800:\tlearn: 107.5683153\ttest: 83.5005722\tbest: 83.5005722 (800)\ttotal: 9.15s\tremaining: 19.4s\n"
          ]
        },
        {
          "output_type": "stream",
          "name": "stdout",
          "text": [
            "1000:\tlearn: 106.3525611\ttest: 82.3827438\tbest: 82.3827438 (1000)\ttotal: 11.4s\tremaining: 17.1s\n"
          ]
        },
        {
          "output_type": "stream",
          "name": "stdout",
          "text": [
            "1200:\tlearn: 105.1732613\ttest: 81.2978516\tbest: 81.2978516 (1200)\ttotal: 13.7s\tremaining: 14.8s\n"
          ]
        },
        {
          "output_type": "stream",
          "name": "stdout",
          "text": [
            "1400:\tlearn: 104.0484492\ttest: 80.2408142\tbest: 80.2408142 (1400)\ttotal: 16s\tremaining: 12.6s\n"
          ]
        },
        {
          "output_type": "stream",
          "name": "stdout",
          "text": [
            "1600:\tlearn: 102.9558741\ttest: 79.1976166\tbest: 79.1976166 (1600)\ttotal: 18.3s\tremaining: 10.3s\n"
          ]
        },
        {
          "output_type": "stream",
          "name": "stdout",
          "text": [
            "1800:\tlearn: 101.8999295\ttest: 78.1911392\tbest: 78.1911392 (1800)\ttotal: 20.6s\tremaining: 8.01s\n"
          ]
        },
        {
          "output_type": "stream",
          "name": "stdout",
          "text": [
            "2000:\tlearn: 100.8775376\ttest: 77.2251740\tbest: 77.2251740 (2000)\ttotal: 22.9s\tremaining: 5.72s\n"
          ]
        },
        {
          "output_type": "stream",
          "name": "stdout",
          "text": [
            "2200:\tlearn: 99.8849859\ttest: 76.2747955\tbest: 76.2747955 (2200)\ttotal: 25.2s\tremaining: 3.43s\n"
          ]
        },
        {
          "output_type": "stream",
          "name": "stdout",
          "text": [
            "2400:\tlearn: 98.9365014\ttest: 75.3256683\tbest: 75.3256683 (2400)\ttotal: 27.5s\tremaining: 1.14s\n"
          ]
        },
        {
          "output_type": "stream",
          "name": "stdout",
          "text": [
            "2499:\tlearn: 98.4893914\ttest: 74.8705978\tbest: 74.8705978 (2499)\ttotal: 28.7s\tremaining: 0us\nbestTest = 74.87059784\nbestIteration = 2499\n"
          ]
        },
        {
          "output_type": "stream",
          "name": "stdout",
          "text": [
            "0:\tlearn: 307.2129187\ttest: 134.9570389\tbest: 134.9570389 (0)\ttotal: 10.4ms\tremaining: 12.5s\n"
          ]
        },
        {
          "output_type": "stream",
          "name": "stdout",
          "text": [
            "bestTest = 124.8179612\nbestIteration = 22\nShrink model to first 23 iterations.\nSeed 123 Fold 1 done. tr=1330 va=64\n"
          ]
        },
        {
          "output_type": "stream",
          "name": "stdout",
          "text": [
            "0:\tlearn: 112.5418468\ttest: 89.9792175\tbest: 89.9792175 (0)\ttotal: 11.7ms\tremaining: 29.1s\n"
          ]
        },
        {
          "output_type": "stream",
          "name": "stdout",
          "text": [
            "200:\tlearn: 111.1750940\ttest: 88.7593231\tbest: 88.7593231 (200)\ttotal: 2.31s\tremaining: 26.4s\n"
          ]
        },
        {
          "output_type": "stream",
          "name": "stdout",
          "text": [
            "400:\tlearn: 109.8246593\ttest: 87.7265320\tbest: 87.7265320 (400)\ttotal: 4.61s\tremaining: 24.1s\n"
          ]
        },
        {
          "output_type": "stream",
          "name": "stdout",
          "text": [
            "600:\tlearn: 108.5239309\ttest: 86.7277222\tbest: 86.7277222 (600)\ttotal: 6.95s\tremaining: 22s\n"
          ]
        },
        {
          "output_type": "stream",
          "name": "stdout",
          "text": [
            "800:\tlearn: 107.2552279\ttest: 85.7382507\tbest: 85.7382507 (800)\ttotal: 9.33s\tremaining: 19.8s\n"
          ]
        },
        {
          "output_type": "stream",
          "name": "stdout",
          "text": [
            "1000:\tlearn: 106.0316847\ttest: 84.7943268\tbest: 84.7943268 (1000)\ttotal: 11.7s\tremaining: 17.5s\n"
          ]
        },
        {
          "output_type": "stream",
          "name": "stdout",
          "text": [
            "1200:\tlearn: 104.8452538\ttest: 83.8441010\tbest: 83.8441010 (1200)\ttotal: 13.9s\tremaining: 15.1s\n"
          ]
        },
        {
          "output_type": "stream",
          "name": "stdout",
          "text": [
            "1400:\tlearn: 103.7069314\ttest: 82.9588470\tbest: 82.9588470 (1400)\ttotal: 16.2s\tremaining: 12.7s\n"
          ]
        },
        {
          "output_type": "stream",
          "name": "stdout",
          "text": [
            "1600:\tlearn: 102.6187852\ttest: 82.0942993\tbest: 82.0942993 (1600)\ttotal: 18.5s\tremaining: 10.4s\n"
          ]
        },
        {
          "output_type": "stream",
          "name": "stdout",
          "text": [
            "1800:\tlearn: 101.5752585\ttest: 81.2739105\tbest: 81.2739105 (1800)\ttotal: 20.8s\tremaining: 8.07s\n"
          ]
        },
        {
          "output_type": "stream",
          "name": "stdout",
          "text": [
            "2000:\tlearn: 100.5572133\ttest: 80.5123062\tbest: 80.5123062 (2000)\ttotal: 23.1s\tremaining: 5.76s\n"
          ]
        },
        {
          "output_type": "stream",
          "name": "stdout",
          "text": [
            "2200:\tlearn: 99.5649084\ttest: 79.8179855\tbest: 79.8179855 (2200)\ttotal: 25.4s\tremaining: 3.45s\n"
          ]
        },
        {
          "output_type": "stream",
          "name": "stdout",
          "text": [
            "2400:\tlearn: 98.6249648\ttest: 79.1228409\tbest: 79.1228409 (2400)\ttotal: 27.7s\tremaining: 1.14s\n"
          ]
        },
        {
          "output_type": "stream",
          "name": "stdout",
          "text": [
            "2499:\tlearn: 98.1838581\ttest: 78.8026428\tbest: 78.8026428 (2499)\ttotal: 28.8s\tremaining: 0us\nbestTest = 78.80264282\nbestIteration = 2499\n"
          ]
        },
        {
          "output_type": "stream",
          "name": "stdout",
          "text": [
            "0:\tlearn: 306.7343393\ttest: 255.4929901\tbest: 255.4929901 (0)\ttotal: 9.76ms\tremaining: 11.7s\n"
          ]
        },
        {
          "output_type": "stream",
          "name": "stdout",
          "text": [
            "200:\tlearn: 165.7586433\ttest: 232.2819626\tbest: 232.2599735 (181)\ttotal: 1.75s\tremaining: 8.69s\n"
          ]
        },
        {
          "output_type": "stream",
          "name": "stdout",
          "text": [
            "400:\tlearn: 159.4418837\ttest: 229.6255869\tbest: 229.6255869 (400)\ttotal: 3.12s\tremaining: 6.21s\n"
          ]
        },
        {
          "output_type": "stream",
          "name": "stdout",
          "text": [
            "600:\tlearn: 157.6000458\ttest: 229.3498113\tbest: 229.2628898 (513)\ttotal: 4.35s\tremaining: 4.34s\nbestTest = 229.2628898\nbestIteration = 513\nShrink model to first 514 iterations.\nSeed 123 Fold 2 done. tr=1330 va=64\n"
          ]
        },
        {
          "output_type": "stream",
          "name": "stdout",
          "text": [
            "0:\tlearn: 112.5267455\ttest: 110.8506332\tbest: 110.8506332 (0)\ttotal: 12.1ms\tremaining: 30.3s\n"
          ]
        },
        {
          "output_type": "stream",
          "name": "stdout",
          "text": [
            "200:\tlearn: 111.1152989\ttest: 109.3898296\tbest: 109.3898296 (200)\ttotal: 2.26s\tremaining: 25.9s\n"
          ]
        },
        {
          "output_type": "stream",
          "name": "stdout",
          "text": [
            "400:\tlearn: 109.7366273\ttest: 108.0142704\tbest: 108.0142704 (400)\ttotal: 4.55s\tremaining: 23.8s\n"
          ]
        },
        {
          "output_type": "stream",
          "name": "stdout",
          "text": [
            "600:\tlearn: 108.4124906\ttest: 106.6730642\tbest: 106.6730642 (600)\ttotal: 6.87s\tremaining: 21.7s\n"
          ]
        },
        {
          "output_type": "stream",
          "name": "stdout",
          "text": [
            "800:\tlearn: 107.1289649\ttest: 105.3823793\tbest: 105.3823793 (800)\ttotal: 9.16s\tremaining: 19.4s\n"
          ]
        },
        {
          "output_type": "stream",
          "name": "stdout",
          "text": [
            "1000:\tlearn: 105.8882437\ttest: 104.1417906\tbest: 104.1417906 (1000)\ttotal: 11.5s\tremaining: 17.2s\n"
          ]
        },
        {
          "output_type": "stream",
          "name": "stdout",
          "text": [
            "1200:\tlearn: 104.6965794\ttest: 102.9256631\tbest: 102.9256631 (1200)\ttotal: 13.8s\tremaining: 14.9s\n"
          ]
        },
        {
          "output_type": "stream",
          "name": "stdout",
          "text": [
            "1400:\tlearn: 103.5528575\ttest: 101.7475428\tbest: 101.7475428 (1400)\ttotal: 16.1s\tremaining: 12.7s\n"
          ]
        },
        {
          "output_type": "stream",
          "name": "stdout",
          "text": [
            "1600:\tlearn: 102.4501572\ttest: 100.5944115\tbest: 100.5944115 (1600)\ttotal: 18.5s\tremaining: 10.4s\n"
          ]
        },
        {
          "output_type": "stream",
          "name": "stdout",
          "text": [
            "1800:\tlearn: 101.3826483\ttest: 99.4736013\tbest: 99.4736013 (1800)\ttotal: 20.8s\tremaining: 8.08s\n"
          ]
        },
        {
          "output_type": "stream",
          "name": "stdout",
          "text": [
            "2000:\tlearn: 100.3590114\ttest: 98.3920820\tbest: 98.3920820 (2000)\ttotal: 23.2s\tremaining: 5.77s\n"
          ]
        },
        {
          "output_type": "stream",
          "name": "stdout",
          "text": [
            "2200:\tlearn: 99.3861674\ttest: 97.4124086\tbest: 97.4124086 (2200)\ttotal: 25.5s\tremaining: 3.46s\n"
          ]
        },
        {
          "output_type": "stream",
          "name": "stdout",
          "text": [
            "2400:\tlearn: 98.4470955\ttest: 96.4582520\tbest: 96.4582520 (2400)\ttotal: 27.8s\tremaining: 1.15s\n"
          ]
        },
        {
          "output_type": "stream",
          "name": "stdout",
          "text": [
            "2499:\tlearn: 98.0071849\ttest: 96.0062689\tbest: 96.0062689 (2499)\ttotal: 29s\tremaining: 0us\nbestTest = 96.0062689\nbestIteration = 2499\n"
          ]
        },
        {
          "output_type": "stream",
          "name": "stdout",
          "text": [
            "0:\tlearn: 306.6118635\ttest: 201.7214724\tbest: 201.7214724 (0)\ttotal: 10.5ms\tremaining: 12.6s\n"
          ]
        },
        {
          "output_type": "stream",
          "name": "stdout",
          "text": [
            "200:\tlearn: 157.6455998\ttest: 199.0976013\tbest: 198.2601643 (131)\ttotal: 1.87s\tremaining: 9.3s\n"
          ]
        },
        {
          "output_type": "stream",
          "name": "stdout",
          "text": [
            "bestTest = 198.2601643\nbestIteration = 131\nShrink model to first 132 iterations.\nSeed 123 Fold 3 done. tr=1332 va=62\n"
          ]
        },
        {
          "output_type": "stream",
          "name": "stdout",
          "text": [
            "0:\tlearn: 110.7690972\ttest: 147.7544733\tbest: 147.7544733 (0)\ttotal: 12.1ms\tremaining: 30.1s\n"
          ]
        },
        {
          "output_type": "stream",
          "name": "stdout",
          "text": [
            "200:\tlearn: 109.3801849\ttest: 146.5898753\tbest: 146.5898753 (200)\ttotal: 2.3s\tremaining: 26.3s\n"
          ]
        },
        {
          "output_type": "stream",
          "name": "stdout",
          "text": [
            "400:\tlearn: 108.0233788\ttest: 145.5083165\tbest: 145.5083165 (400)\ttotal: 4.63s\tremaining: 24.2s\n"
          ]
        },
        {
          "output_type": "stream",
          "name": "stdout",
          "text": [
            "600:\tlearn: 106.7421523\ttest: 144.4070691\tbest: 144.4070691 (600)\ttotal: 6.92s\tremaining: 21.9s\n"
          ]
        },
        {
          "output_type": "stream",
          "name": "stdout",
          "text": [
            "800:\tlearn: 105.4945571\ttest: 143.2634356\tbest: 143.2634356 (800)\ttotal: 9.22s\tremaining: 19.6s\n"
          ]
        },
        {
          "output_type": "stream",
          "name": "stdout",
          "text": [
            "1000:\tlearn: 104.2787162\ttest: 142.1320565\tbest: 142.1320565 (1000)\ttotal: 11.5s\tremaining: 17.3s\n"
          ]
        },
        {
          "output_type": "stream",
          "name": "stdout",
          "text": [
            "1200:\tlearn: 103.1137505\ttest: 141.0270130\tbest: 141.0270130 (1200)\ttotal: 13.8s\tremaining: 15s\n"
          ]
        },
        {
          "output_type": "stream",
          "name": "stdout",
          "text": [
            "1400:\tlearn: 101.9891024\ttest: 139.9887853\tbest: 139.9887853 (1400)\ttotal: 16.1s\tremaining: 12.6s\n"
          ]
        },
        {
          "output_type": "stream",
          "name": "stdout",
          "text": [
            "1600:\tlearn: 100.9156813\ttest: 138.9724357\tbest: 138.9724357 (1600)\ttotal: 18.4s\tremaining: 10.3s\n"
          ]
        },
        {
          "output_type": "stream",
          "name": "stdout",
          "text": [
            "1800:\tlearn: 99.8740146\ttest: 137.9896831\tbest: 137.9896831 (1800)\ttotal: 20.7s\tremaining: 8.04s\n"
          ]
        },
        {
          "output_type": "stream",
          "name": "stdout",
          "text": [
            "2000:\tlearn: 98.8590465\ttest: 137.0232800\tbest: 137.0232800 (2000)\ttotal: 23s\tremaining: 5.74s\n"
          ]
        },
        {
          "output_type": "stream",
          "name": "stdout",
          "text": [
            "2200:\tlearn: 97.8736275\ttest: 136.0791016\tbest: 136.0791016 (2200)\ttotal: 25.3s\tremaining: 3.44s\n"
          ]
        },
        {
          "output_type": "stream",
          "name": "stdout",
          "text": [
            "2400:\tlearn: 96.9473536\ttest: 135.1700164\tbest: 135.1700164 (2400)\ttotal: 27.6s\tremaining: 1.14s\n"
          ]
        },
        {
          "output_type": "stream",
          "name": "stdout",
          "text": [
            "2499:\tlearn: 96.5005631\ttest: 134.7112840\tbest: 134.7112840 (2499)\ttotal: 28.7s\tremaining: 0us\nbestTest = 134.711284\nbestIteration = 2499\n"
          ]
        },
        {
          "output_type": "stream",
          "name": "stdout",
          "text": [
            "0:\tlearn: 305.6927347\ttest: 276.8338124\tbest: 276.8338124 (0)\ttotal: 10.3ms\tremaining: 12.4s\n"
          ]
        },
        {
          "output_type": "stream",
          "name": "stdout",
          "text": [
            "200:\tlearn: 168.8581952\ttest: 262.6984350\tbest: 262.6984350 (200)\ttotal: 1.8s\tremaining: 8.97s\n"
          ]
        },
        {
          "output_type": "stream",
          "name": "stdout",
          "text": [
            "400:\tlearn: 155.9057619\ttest: 249.7788215\tbest: 249.7788215 (400)\ttotal: 3.61s\tremaining: 7.19s\n"
          ]
        },
        {
          "output_type": "stream",
          "name": "stdout",
          "text": [
            "600:\tlearn: 151.7092901\ttest: 249.1113561\tbest: 248.1977213 (564)\ttotal: 5.25s\tremaining: 5.24s\n"
          ]
        },
        {
          "output_type": "stream",
          "name": "stdout",
          "text": [
            "bestTest = 248.1977213\nbestIteration = 564\nShrink model to first 565 iterations.\nSeed 123 Fold 4 done. tr=1332 va=62\nSeed bag 3/5 (seed=456)\n"
          ]
        },
        {
          "output_type": "stream",
          "name": "stdout",
          "text": [
            "0:\tlearn: 112.4864662\ttest: 101.5863571\tbest: 101.5863571 (0)\ttotal: 12.1ms\tremaining: 30.2s\n"
          ]
        },
        {
          "output_type": "stream",
          "name": "stdout",
          "text": [
            "200:\tlearn: 111.1087289\ttest: 100.2241135\tbest: 100.2241135 (200)\ttotal: 2.3s\tremaining: 26.3s\n"
          ]
        },
        {
          "output_type": "stream",
          "name": "stdout",
          "text": [
            "400:\tlearn: 109.7546523\ttest: 98.9712906\tbest: 98.9712906 (400)\ttotal: 4.59s\tremaining: 24s\n"
          ]
        },
        {
          "output_type": "stream",
          "name": "stdout",
          "text": [
            "600:\tlearn: 108.4529488\ttest: 97.7798462\tbest: 97.7798462 (600)\ttotal: 6.89s\tremaining: 21.8s\n"
          ]
        },
        {
          "output_type": "stream",
          "name": "stdout",
          "text": [
            "800:\tlearn: 107.1846335\ttest: 96.6052475\tbest: 96.6052475 (800)\ttotal: 9.2s\tremaining: 19.5s\n"
          ]
        },
        {
          "output_type": "stream",
          "name": "stdout",
          "text": [
            "1000:\tlearn: 105.9591753\ttest: 95.4298553\tbest: 95.4298553 (1000)\ttotal: 11.5s\tremaining: 17.2s\n"
          ]
        },
        {
          "output_type": "stream",
          "name": "stdout",
          "text": [
            "1200:\tlearn: 104.7937735\ttest: 94.3093414\tbest: 94.3093414 (1200)\ttotal: 13.8s\tremaining: 14.9s\n"
          ]
        },
        {
          "output_type": "stream",
          "name": "stdout",
          "text": [
            "1400:\tlearn: 103.6785009\ttest: 93.2169037\tbest: 93.2169037 (1400)\ttotal: 16.1s\tremaining: 12.7s\n"
          ]
        },
        {
          "output_type": "stream",
          "name": "stdout",
          "text": [
            "1600:\tlearn: 102.6042528\ttest: 92.1437836\tbest: 92.1437836 (1600)\ttotal: 18.4s\tremaining: 10.3s\n"
          ]
        },
        {
          "output_type": "stream",
          "name": "stdout",
          "text": [
            "1800:\tlearn: 101.5588346\ttest: 91.0961304\tbest: 91.0961304 (1800)\ttotal: 20.7s\tremaining: 8.03s\n"
          ]
        },
        {
          "output_type": "stream",
          "name": "stdout",
          "text": [
            "2000:\tlearn: 100.5375587\ttest: 90.0405121\tbest: 90.0405121 (2000)\ttotal: 23s\tremaining: 5.74s\n"
          ]
        },
        {
          "output_type": "stream",
          "name": "stdout",
          "text": [
            "2200:\tlearn: 99.5636513\ttest: 89.0495224\tbest: 89.0495224 (2200)\ttotal: 25.3s\tremaining: 3.44s\n"
          ]
        },
        {
          "output_type": "stream",
          "name": "stdout",
          "text": [
            "2400:\tlearn: 98.6279605\ttest: 88.0582352\tbest: 88.0582352 (2400)\ttotal: 27.6s\tremaining: 1.14s\n"
          ]
        },
        {
          "output_type": "stream",
          "name": "stdout",
          "text": [
            "2499:\tlearn: 98.1805216\ttest: 87.5791473\tbest: 87.5791473 (2499)\ttotal: 28.8s\tremaining: 0us\nbestTest = 87.57914734\nbestIteration = 2499\n"
          ]
        },
        {
          "output_type": "stream",
          "name": "stdout",
          "text": [
            "0:\tlearn: 308.0663438\ttest: 155.7186152\tbest: 155.7186152 (0)\ttotal: 7.61ms\tremaining: 9.12s\n"
          ]
        },
        {
          "output_type": "stream",
          "name": "stdout",
          "text": [
            "bestTest = 152.0682734\nbestIteration = 11\nShrink model to first 12 iterations.\nSeed 456 Fold 0 done. tr=1330 va=64\n"
          ]
        },
        {
          "output_type": "stream",
          "name": "stdout",
          "text": [
            "0:\tlearn: 112.7852209\ttest: 88.1094513\tbest: 88.1094513 (0)\ttotal: 12.2ms\tremaining: 30.5s\n"
          ]
        },
        {
          "output_type": "stream",
          "name": "stdout",
          "text": [
            "200:\tlearn: 111.4304629\ttest: 86.8891830\tbest: 86.8891830 (200)\ttotal: 2.28s\tremaining: 26.1s\n"
          ]
        },
        {
          "output_type": "stream",
          "name": "stdout",
          "text": [
            "400:\tlearn: 110.0912242\ttest: 85.7420502\tbest: 85.7420502 (400)\ttotal: 4.58s\tremaining: 23.9s\n"
          ]
        },
        {
          "output_type": "stream",
          "name": "stdout",
          "text": [
            "600:\tlearn: 108.7957942\ttest: 84.5712051\tbest: 84.5712051 (600)\ttotal: 6.87s\tremaining: 21.7s\n"
          ]
        },
        {
          "output_type": "stream",
          "name": "stdout",
          "text": [
            "800:\tlearn: 107.5328712\ttest: 83.4005814\tbest: 83.4005814 (800)\ttotal: 9.16s\tremaining: 19.4s\n"
          ]
        },
        {
          "output_type": "stream",
          "name": "stdout",
          "text": [
            "1000:\tlearn: 106.3162711\ttest: 82.2444763\tbest: 82.2444763 (1000)\ttotal: 11.5s\tremaining: 17.2s\n"
          ]
        },
        {
          "output_type": "stream",
          "name": "stdout",
          "text": [
            "1200:\tlearn: 105.1431861\ttest: 81.1366577\tbest: 81.1366577 (1200)\ttotal: 13.7s\tremaining: 14.9s\n"
          ]
        },
        {
          "output_type": "stream",
          "name": "stdout",
          "text": [
            "1400:\tlearn: 104.0185620\ttest: 80.0820770\tbest: 80.0820770 (1400)\ttotal: 16s\tremaining: 12.6s\n"
          ]
        },
        {
          "output_type": "stream",
          "name": "stdout",
          "text": [
            "1600:\tlearn: 102.9298167\ttest: 79.0147095\tbest: 79.0147095 (1600)\ttotal: 18.3s\tremaining: 10.3s\n"
          ]
        },
        {
          "output_type": "stream",
          "name": "stdout",
          "text": [
            "1800:\tlearn: 101.8946076\ttest: 77.9857483\tbest: 77.9857483 (1800)\ttotal: 20.6s\tremaining: 8.01s\n"
          ]
        },
        {
          "output_type": "stream",
          "name": "stdout",
          "text": [
            "2000:\tlearn: 100.8916588\ttest: 76.9846039\tbest: 76.9846039 (2000)\ttotal: 22.9s\tremaining: 5.72s\n"
          ]
        },
        {
          "output_type": "stream",
          "name": "stdout",
          "text": [
            "2200:\tlearn: 99.9054864\ttest: 75.9958344\tbest: 75.9958344 (2200)\ttotal: 25.2s\tremaining: 3.43s\n"
          ]
        },
        {
          "output_type": "stream",
          "name": "stdout",
          "text": [
            "2400:\tlearn: 98.9737312\ttest: 75.0506744\tbest: 75.0506744 (2400)\ttotal: 27.5s\tremaining: 1.14s\n"
          ]
        },
        {
          "output_type": "stream",
          "name": "stdout",
          "text": [
            "2499:\tlearn: 98.5368186\ttest: 74.6008759\tbest: 74.6008759 (2499)\ttotal: 28.7s\tremaining: 0us\nbestTest = 74.60087585\nbestIteration = 2499\n"
          ]
        },
        {
          "output_type": "stream",
          "name": "stdout",
          "text": [
            "0:\tlearn: 308.3863410\ttest: 135.1401183\tbest: 135.1401183 (0)\ttotal: 10.2ms\tremaining: 12.2s\n"
          ]
        },
        {
          "output_type": "stream",
          "name": "stdout",
          "text": [
            "200:\tlearn: 150.1577016\ttest: 115.1031043\tbest: 114.7687340 (195)\ttotal: 1.88s\tremaining: 9.36s\n"
          ]
        },
        {
          "output_type": "stream",
          "name": "stdout",
          "text": [
            "400:\tlearn: 136.1421526\ttest: 115.1964482\tbest: 114.2300738 (309)\ttotal: 3.77s\tremaining: 7.5s\nbestTest = 114.2300738\nbestIteration = 309\nShrink model to first 310 iterations.\nSeed 456 Fold 1 done. tr=1330 va=64\n"
          ]
        },
        {
          "output_type": "stream",
          "name": "stdout",
          "text": [
            "0:\tlearn: 112.5419173\ttest: 89.9811707\tbest: 89.9811707 (0)\ttotal: 12.2ms\tremaining: 30.4s\n"
          ]
        },
        {
          "output_type": "stream",
          "name": "stdout",
          "text": [
            "200:\tlearn: 111.1876292\ttest: 88.8313904\tbest: 88.8313904 (200)\ttotal: 2.31s\tremaining: 26.5s\n"
          ]
        },
        {
          "output_type": "stream",
          "name": "stdout",
          "text": [
            "400:\tlearn: 109.8441494\ttest: 87.8614883\tbest: 87.8614883 (400)\ttotal: 4.63s\tremaining: 24.3s\n"
          ]
        },
        {
          "output_type": "stream",
          "name": "stdout",
          "text": [
            "600:\tlearn: 108.5388980\ttest: 86.8807602\tbest: 86.8807602 (600)\ttotal: 6.96s\tremaining: 22s\n"
          ]
        },
        {
          "output_type": "stream",
          "name": "stdout",
          "text": [
            "800:\tlearn: 107.2621241\ttest: 85.9111633\tbest: 85.9111633 (800)\ttotal: 9.29s\tremaining: 19.7s\n"
          ]
        },
        {
          "output_type": "stream",
          "name": "stdout",
          "text": [
            "1000:\tlearn: 106.0311795\ttest: 84.9915161\tbest: 84.9915161 (1000)\ttotal: 11.6s\tremaining: 17.4s\n"
          ]
        },
        {
          "output_type": "stream",
          "name": "stdout",
          "text": [
            "1200:\tlearn: 104.8519384\ttest: 84.1432877\tbest: 84.1432877 (1200)\ttotal: 13.9s\tremaining: 15s\n"
          ]
        },
        {
          "output_type": "stream",
          "name": "stdout",
          "text": [
            "1400:\tlearn: 103.7225799\ttest: 83.3243713\tbest: 83.3243713 (1400)\ttotal: 16.2s\tremaining: 12.7s\n"
          ]
        },
        {
          "output_type": "stream",
          "name": "stdout",
          "text": [
            "1600:\tlearn: 102.6480968\ttest: 82.5288544\tbest: 82.5288544 (1600)\ttotal: 18.5s\tremaining: 10.4s\n"
          ]
        },
        {
          "output_type": "stream",
          "name": "stdout",
          "text": [
            "1800:\tlearn: 101.6142387\ttest: 81.7655640\tbest: 81.7655640 (1800)\ttotal: 20.8s\tremaining: 8.07s\n"
          ]
        },
        {
          "output_type": "stream",
          "name": "stdout",
          "text": [
            "2000:\tlearn: 100.5861255\ttest: 81.0238495\tbest: 81.0238495 (2000)\ttotal: 23.1s\tremaining: 5.76s\n"
          ]
        },
        {
          "output_type": "stream",
          "name": "stdout",
          "text": [
            "2200:\tlearn: 99.5804864\ttest: 80.3316803\tbest: 80.3316803 (2200)\ttotal: 25.4s\tremaining: 3.45s\n"
          ]
        },
        {
          "output_type": "stream",
          "name": "stdout",
          "text": [
            "2400:\tlearn: 98.6141682\ttest: 79.6080322\tbest: 79.6080322 (2400)\ttotal: 27.7s\tremaining: 1.14s\n"
          ]
        },
        {
          "output_type": "stream",
          "name": "stdout",
          "text": [
            "2499:\tlearn: 98.1585409\ttest: 79.2845535\tbest: 79.2845535 (2499)\ttotal: 28.8s\tremaining: 0us\nbestTest = 79.28455353\nbestIteration = 2499\n"
          ]
        },
        {
          "output_type": "stream",
          "name": "stdout",
          "text": [
            "0:\tlearn: 306.5186131\ttest: 255.2053707\tbest: 255.2053707 (0)\ttotal: 10.5ms\tremaining: 12.6s\n"
          ]
        },
        {
          "output_type": "stream",
          "name": "stdout",
          "text": [
            "200:\tlearn: 167.0304281\ttest: 235.3260205\tbest: 235.1853242 (185)\ttotal: 1.86s\tremaining: 9.27s\n"
          ]
        },
        {
          "output_type": "stream",
          "name": "stdout",
          "text": [
            "bestTest = 232.7364389\nbestIteration = 271\nShrink model to first 272 iterations.\nSeed 456 Fold 2 done. tr=1330 va=64\n"
          ]
        },
        {
          "output_type": "stream",
          "name": "stdout",
          "text": [
            "0:\tlearn: 112.5266986\ttest: 110.8500110\tbest: 110.8500110 (0)\ttotal: 12.5ms\tremaining: 31.1s\n"
          ]
        },
        {
          "output_type": "stream",
          "name": "stdout",
          "text": [
            "200:\tlearn: 111.1137153\ttest: 109.3866006\tbest: 109.3866006 (200)\ttotal: 2.31s\tremaining: 26.4s\n"
          ]
        },
        {
          "output_type": "stream",
          "name": "stdout",
          "text": [
            "400:\tlearn: 109.7381874\ttest: 108.0440241\tbest: 108.0440241 (400)\ttotal: 4.63s\tremaining: 24.2s\n"
          ]
        },
        {
          "output_type": "stream",
          "name": "stdout",
          "text": [
            "600:\tlearn: 108.4150831\ttest: 106.7268933\tbest: 106.7268933 (600)\ttotal: 6.96s\tremaining: 22s\n"
          ]
        },
        {
          "output_type": "stream",
          "name": "stdout",
          "text": [
            "800:\tlearn: 107.1338682\ttest: 105.4513451\tbest: 105.4513451 (800)\ttotal: 9.26s\tremaining: 19.6s\n"
          ]
        },
        {
          "output_type": "stream",
          "name": "stdout",
          "text": [
            "1000:\tlearn: 105.9033878\ttest: 104.2299647\tbest: 104.2299647 (1000)\ttotal: 11.6s\tremaining: 17.4s\n"
          ]
        },
        {
          "output_type": "stream",
          "name": "stdout",
          "text": [
            "1200:\tlearn: 104.7180227\ttest: 103.0342663\tbest: 103.0342663 (1200)\ttotal: 13.9s\tremaining: 15.1s\n"
          ]
        },
        {
          "output_type": "stream",
          "name": "stdout",
          "text": [
            "1400:\tlearn: 103.5825826\ttest: 101.8671245\tbest: 101.8671245 (1400)\ttotal: 16.2s\tremaining: 12.7s\n"
          ]
        },
        {
          "output_type": "stream",
          "name": "stdout",
          "text": [
            "1600:\tlearn: 102.4959530\ttest: 100.7346270\tbest: 100.7346270 (1600)\ttotal: 18.6s\tremaining: 10.4s\n"
          ]
        },
        {
          "output_type": "stream",
          "name": "stdout",
          "text": [
            "1800:\tlearn: 101.4402567\ttest: 99.6303396\tbest: 99.6303396 (1800)\ttotal: 20.9s\tremaining: 8.12s\n"
          ]
        },
        {
          "output_type": "stream",
          "name": "stdout",
          "text": [
            "2000:\tlearn: 100.4283737\ttest: 98.5798734\tbest: 98.5798734 (2000)\ttotal: 23.3s\tremaining: 5.8s\n"
          ]
        },
        {
          "output_type": "stream",
          "name": "stdout",
          "text": [
            "2200:\tlearn: 99.4604683\ttest: 97.6185263\tbest: 97.6185263 (2200)\ttotal: 25.6s\tremaining: 3.48s\n"
          ]
        },
        {
          "output_type": "stream",
          "name": "stdout",
          "text": [
            "2400:\tlearn: 98.5325638\ttest: 96.6846333\tbest: 96.6846333 (2400)\ttotal: 27.9s\tremaining: 1.15s\n"
          ]
        },
        {
          "output_type": "stream",
          "name": "stdout",
          "text": [
            "2499:\tlearn: 98.0870754\ttest: 96.2314926\tbest: 96.2314926 (2499)\ttotal: 29.1s\tremaining: 0us\nbestTest = 96.23149257\nbestIteration = 2499\n"
          ]
        },
        {
          "output_type": "stream",
          "name": "stdout",
          "text": [
            "0:\tlearn: 307.5590912\ttest: 201.3976067\tbest: 201.3976067 (0)\ttotal: 8.25ms\tremaining: 9.89s\n"
          ]
        },
        {
          "output_type": "stream",
          "name": "stdout",
          "text": [
            "200:\tlearn: 156.7318103\ttest: 190.1436214\tbest: 190.1436214 (200)\ttotal: 1.88s\tremaining: 9.34s\n"
          ]
        },
        {
          "output_type": "stream",
          "name": "stdout",
          "text": [
            "400:\tlearn: 142.7197426\ttest: 179.3858868\tbest: 179.3858868 (400)\ttotal: 3.78s\tremaining: 7.53s\n"
          ]
        },
        {
          "output_type": "stream",
          "name": "stdout",
          "text": [
            "600:\tlearn: 139.9960639\ttest: 178.8954799\tbest: 178.6624137 (504)\ttotal: 5.64s\tremaining: 5.62s\nbestTest = 178.6624137\nbestIteration = 504\nShrink model to first 505 iterations.\nSeed 456 Fold 3 done. tr=1332 va=62\n"
          ]
        },
        {
          "output_type": "stream",
          "name": "stdout",
          "text": [
            "0:\tlearn: 110.7690620\ttest: 147.7549773\tbest: 147.7549773 (0)\ttotal: 12ms\tremaining: 30.1s\n"
          ]
        },
        {
          "output_type": "stream",
          "name": "stdout",
          "text": [
            "200:\tlearn: 109.3786364\ttest: 146.5936555\tbest: 146.5936555 (200)\ttotal: 2.31s\tremaining: 26.4s\n"
          ]
        },
        {
          "output_type": "stream",
          "name": "stdout",
          "text": [
            "400:\tlearn: 108.0167042\ttest: 145.5159400\tbest: 145.5159400 (400)\ttotal: 4.64s\tremaining: 24.3s\n"
          ]
        },
        {
          "output_type": "stream",
          "name": "stdout",
          "text": [
            "600:\tlearn: 106.7301872\ttest: 144.3841356\tbest: 144.3841356 (600)\ttotal: 6.96s\tremaining: 22s\n"
          ]
        },
        {
          "output_type": "stream",
          "name": "stdout",
          "text": [
            "800:\tlearn: 105.4780171\ttest: 143.2201361\tbest: 143.2201361 (800)\ttotal: 9.27s\tremaining: 19.7s\n"
          ]
        },
        {
          "output_type": "stream",
          "name": "stdout",
          "text": [
            "1000:\tlearn: 104.2524517\ttest: 142.0619015\tbest: 142.0619015 (1000)\ttotal: 11.6s\tremaining: 17.3s\n"
          ]
        },
        {
          "output_type": "stream",
          "name": "stdout",
          "text": [
            "1200:\tlearn: 103.0777496\ttest: 140.9464308\tbest: 140.9464308 (1200)\ttotal: 13.9s\tremaining: 15s\n"
          ]
        },
        {
          "output_type": "stream",
          "name": "stdout",
          "text": [
            "1400:\tlearn: 101.9640343\ttest: 139.8989730\tbest: 139.8989730 (1400)\ttotal: 16.2s\tremaining: 12.7s\n"
          ]
        },
        {
          "output_type": "stream",
          "name": "stdout",
          "text": [
            "1600:\tlearn: 100.8990240\ttest: 138.9346963\tbest: 138.9346963 (1600)\ttotal: 18.6s\tremaining: 10.4s\n"
          ]
        },
        {
          "output_type": "stream",
          "name": "stdout",
          "text": [
            "1800:\tlearn: 99.8674104\ttest: 137.9793662\tbest: 137.9793662 (1800)\ttotal: 20.9s\tremaining: 8.11s\n"
          ]
        },
        {
          "output_type": "stream",
          "name": "stdout",
          "text": [
            "2000:\tlearn: 98.8622959\ttest: 137.0057964\tbest: 137.0057964 (2000)\ttotal: 23.2s\tremaining: 5.79s\n"
          ]
        },
        {
          "output_type": "stream",
          "name": "stdout",
          "text": [
            "2200:\tlearn: 97.8948656\ttest: 136.0178616\tbest: 136.0178616 (2200)\ttotal: 25.5s\tremaining: 3.47s\n"
          ]
        },
        {
          "output_type": "stream",
          "name": "stdout",
          "text": [
            "2400:\tlearn: 96.9870261\ttest: 135.0610509\tbest: 135.0610509 (2400)\ttotal: 27.8s\tremaining: 1.15s\n"
          ]
        },
        {
          "output_type": "stream",
          "name": "stdout",
          "text": [
            "2499:\tlearn: 96.5517549\ttest: 134.6038621\tbest: 134.6038621 (2499)\ttotal: 29s\tremaining: 0us\nbestTest = 134.6038621\nbestIteration = 2499\n"
          ]
        },
        {
          "output_type": "stream",
          "name": "stdout",
          "text": [
            "0:\tlearn: 305.5990130\ttest: 275.2495788\tbest: 275.2495788 (0)\ttotal: 10.3ms\tremaining: 12.4s\n"
          ]
        },
        {
          "output_type": "stream",
          "name": "stdout",
          "text": [
            "200:\tlearn: 165.6987027\ttest: 264.4685175\tbest: 263.9273483 (189)\ttotal: 1.84s\tremaining: 9.13s\n"
          ]
        },
        {
          "output_type": "stream",
          "name": "stdout",
          "text": [
            "bestTest = 263.4676328\nbestIteration = 238\nShrink model to first 239 iterations.\nSeed 456 Fold 4 done. tr=1332 va=62\nSeed bag 4/5 (seed=789)\n"
          ]
        },
        {
          "output_type": "stream",
          "name": "stdout",
          "text": [
            "0:\tlearn: 112.4870183\ttest: 101.5873566\tbest: 101.5873566 (0)\ttotal: 11.6ms\tremaining: 29s\n"
          ]
        },
        {
          "output_type": "stream",
          "name": "stdout",
          "text": [
            "200:\tlearn: 111.1027608\ttest: 100.2497101\tbest: 100.2497101 (200)\ttotal: 2.3s\tremaining: 26.3s\n"
          ]
        },
        {
          "output_type": "stream",
          "name": "stdout",
          "text": [
            "400:\tlearn: 109.7523614\ttest: 99.0414886\tbest: 99.0414886 (400)\ttotal: 4.63s\tremaining: 24.2s\n"
          ]
        },
        {
          "output_type": "stream",
          "name": "stdout",
          "text": [
            "600:\tlearn: 108.4578712\ttest: 97.9365845\tbest: 97.9365845 (600)\ttotal: 6.95s\tremaining: 22s\n"
          ]
        },
        {
          "output_type": "stream",
          "name": "stdout",
          "text": [
            "800:\tlearn: 107.1983670\ttest: 96.8280029\tbest: 96.8280029 (800)\ttotal: 9.28s\tremaining: 19.7s\n"
          ]
        },
        {
          "output_type": "stream",
          "name": "stdout",
          "text": [
            "1000:\tlearn: 105.9753759\ttest: 95.7267303\tbest: 95.7267303 (1000)\ttotal: 11.6s\tremaining: 17.4s\n"
          ]
        },
        {
          "output_type": "stream",
          "name": "stdout",
          "text": [
            "1200:\tlearn: 104.8096922\ttest: 94.6277313\tbest: 94.6277313 (1200)\ttotal: 13.9s\tremaining: 15s\n"
          ]
        },
        {
          "output_type": "stream",
          "name": "stdout",
          "text": [
            "1400:\tlearn: 103.6831297\ttest: 93.5695190\tbest: 93.5695190 (1400)\ttotal: 16.2s\tremaining: 12.7s\n"
          ]
        },
        {
          "output_type": "stream",
          "name": "stdout",
          "text": [
            "1600:\tlearn: 102.5982730\ttest: 92.5274353\tbest: 92.5274353 (1600)\ttotal: 18.5s\tremaining: 10.4s\n"
          ]
        },
        {
          "output_type": "stream",
          "name": "stdout",
          "text": [
            "1800:\tlearn: 101.5484375\ttest: 91.4727859\tbest: 91.4727859 (1800)\ttotal: 20.9s\tremaining: 8.1s\n"
          ]
        },
        {
          "output_type": "stream",
          "name": "stdout",
          "text": [
            "2000:\tlearn: 100.5352914\ttest: 90.4561920\tbest: 90.4561920 (2000)\ttotal: 23.2s\tremaining: 5.78s\n"
          ]
        },
        {
          "output_type": "stream",
          "name": "stdout",
          "text": [
            "2200:\tlearn: 99.5604676\ttest: 89.4580612\tbest: 89.4580612 (2200)\ttotal: 25.5s\tremaining: 3.46s\n"
          ]
        },
        {
          "output_type": "stream",
          "name": "stdout",
          "text": [
            "2400:\tlearn: 98.6250940\ttest: 88.4875412\tbest: 88.4875412 (2400)\ttotal: 27.8s\tremaining: 1.15s\n"
          ]
        },
        {
          "output_type": "stream",
          "name": "stdout",
          "text": [
            "2499:\tlearn: 98.1750352\ttest: 87.9913864\tbest: 87.9913864 (2499)\ttotal: 29s\tremaining: 0us\nbestTest = 87.99138641\nbestIteration = 2499\n"
          ]
        },
        {
          "output_type": "stream",
          "name": "stdout",
          "text": [
            "0:\tlearn: 306.8439882\ttest: 155.6040586\tbest: 155.6040586 (0)\ttotal: 10.3ms\tremaining: 12.3s\n"
          ]
        },
        {
          "output_type": "stream",
          "name": "stdout",
          "text": [
            "bestTest = 151.2411477\nbestIteration = 12\nShrink model to first 13 iterations.\nSeed 789 Fold 0 done. tr=1330 va=64\n"
          ]
        },
        {
          "output_type": "stream",
          "name": "stdout",
          "text": [
            "0:\tlearn: 112.7851269\ttest: 88.1080322\tbest: 88.1080322 (0)\ttotal: 11.7ms\tremaining: 29.1s\n"
          ]
        },
        {
          "output_type": "stream",
          "name": "stdout",
          "text": [
            "200:\tlearn: 111.4394737\ttest: 86.9277649\tbest: 86.9277649 (200)\ttotal: 2.27s\tremaining: 25.9s\n"
          ]
        },
        {
          "output_type": "stream",
          "name": "stdout",
          "text": [
            "400:\tlearn: 110.1023379\ttest: 85.8000565\tbest: 85.8000565 (400)\ttotal: 4.55s\tremaining: 23.8s\n"
          ]
        },
        {
          "output_type": "stream",
          "name": "stdout",
          "text": [
            "600:\tlearn: 108.8086584\ttest: 84.6743164\tbest: 84.6743164 (600)\ttotal: 6.82s\tremaining: 21.6s\n"
          ]
        },
        {
          "output_type": "stream",
          "name": "stdout",
          "text": [
            "800:\tlearn: 107.5472157\ttest: 83.5600281\tbest: 83.5600281 (800)\ttotal: 9.11s\tremaining: 19.3s\n"
          ]
        },
        {
          "output_type": "stream",
          "name": "stdout",
          "text": [
            "1000:\tlearn: 106.3242481\ttest: 82.4616013\tbest: 82.4616013 (1000)\ttotal: 11.4s\tremaining: 17s\n"
          ]
        },
        {
          "output_type": "stream",
          "name": "stdout",
          "text": [
            "1200:\tlearn: 105.1538181\ttest: 81.3875046\tbest: 81.3875046 (1200)\ttotal: 13.7s\tremaining: 14.8s\n"
          ]
        },
        {
          "output_type": "stream",
          "name": "stdout",
          "text": [
            "1400:\tlearn: 104.0318257\ttest: 80.3610229\tbest: 80.3610229 (1400)\ttotal: 16s\tremaining: 12.5s\n"
          ]
        },
        {
          "output_type": "stream",
          "name": "stdout",
          "text": [
            "1600:\tlearn: 102.9513863\ttest: 79.3774261\tbest: 79.3774261 (1600)\ttotal: 18.3s\tremaining: 10.3s\n"
          ]
        },
        {
          "output_type": "stream",
          "name": "stdout",
          "text": [
            "1800:\tlearn: 101.9142035\ttest: 78.3963470\tbest: 78.3963470 (1800)\ttotal: 20.6s\tremaining: 7.99s\n"
          ]
        },
        {
          "output_type": "stream",
          "name": "stdout",
          "text": [
            "2000:\tlearn: 100.8970630\ttest: 77.4320755\tbest: 77.4320755 (2000)\ttotal: 22.9s\tremaining: 5.71s\n"
          ]
        },
        {
          "output_type": "stream",
          "name": "stdout",
          "text": [
            "2200:\tlearn: 99.8965695\ttest: 76.4627609\tbest: 76.4627609 (2200)\ttotal: 25.2s\tremaining: 3.43s\n"
          ]
        },
        {
          "output_type": "stream",
          "name": "stdout",
          "text": [
            "2400:\tlearn: 98.9314615\ttest: 75.5337830\tbest: 75.5337830 (2400)\ttotal: 27.5s\tremaining: 1.14s\n"
          ]
        },
        {
          "output_type": "stream",
          "name": "stdout",
          "text": [
            "2499:\tlearn: 98.4790942\ttest: 75.0882568\tbest: 75.0882568 (2499)\ttotal: 28.7s\tremaining: 0us\nbestTest = 75.08825684\nbestIteration = 2499\n"
          ]
        },
        {
          "output_type": "stream",
          "name": "stdout",
          "text": [
            "0:\tlearn: 307.2480030\ttest: 135.3374111\tbest: 135.3374111 (0)\ttotal: 10.4ms\tremaining: 12.4s\n"
          ]
        },
        {
          "output_type": "stream",
          "name": "stdout",
          "text": [
            "bestTest = 125.2761559\nbestIteration = 26\nShrink model to first 27 iterations.\nSeed 789 Fold 1 done. tr=1330 va=64\n"
          ]
        },
        {
          "output_type": "stream",
          "name": "stdout",
          "text": [
            "0:\tlearn: 112.5422815\ttest: 89.9811554\tbest: 89.9811554 (0)\ttotal: 11.5ms\tremaining: 28.8s\n"
          ]
        },
        {
          "output_type": "stream",
          "name": "stdout",
          "text": [
            "200:\tlearn: 111.1815789\ttest: 88.8143539\tbest: 88.8143539 (200)\ttotal: 2.31s\tremaining: 26.5s\n"
          ]
        },
        {
          "output_type": "stream",
          "name": "stdout",
          "text": [
            "400:\tlearn: 109.8305921\ttest: 87.8238373\tbest: 87.8238373 (400)\ttotal: 4.64s\tremaining: 24.3s\n"
          ]
        },
        {
          "output_type": "stream",
          "name": "stdout",
          "text": [
            "600:\tlearn: 108.5282660\ttest: 86.8553314\tbest: 86.8553314 (600)\ttotal: 6.97s\tremaining: 22s\n"
          ]
        },
        {
          "output_type": "stream",
          "name": "stdout",
          "text": [
            "800:\tlearn: 107.2573778\ttest: 85.9065781\tbest: 85.9065781 (800)\ttotal: 9.3s\tremaining: 19.7s\n"
          ]
        },
        {
          "output_type": "stream",
          "name": "stdout",
          "text": [
            "1000:\tlearn: 106.0302279\ttest: 84.9756775\tbest: 84.9756775 (1000)\ttotal: 11.6s\tremaining: 17.4s\n"
          ]
        },
        {
          "output_type": "stream",
          "name": "stdout",
          "text": [
            "1200:\tlearn: 104.8622650\ttest: 84.1294556\tbest: 84.1294556 (1200)\ttotal: 13.9s\tremaining: 15.1s\n"
          ]
        },
        {
          "output_type": "stream",
          "name": "stdout",
          "text": [
            "1400:\tlearn: 103.7329887\ttest: 83.3280487\tbest: 83.3280487 (1400)\ttotal: 16.3s\tremaining: 12.8s\n"
          ]
        },
        {
          "output_type": "stream",
          "name": "stdout",
          "text": [
            "1600:\tlearn: 102.6279370\ttest: 82.5366516\tbest: 82.5366516 (1600)\ttotal: 18.6s\tremaining: 10.4s\n"
          ]
        },
        {
          "output_type": "stream",
          "name": "stdout",
          "text": [
            "1800:\tlearn: 101.5836584\ttest: 81.7883606\tbest: 81.7883606 (1800)\ttotal: 20.9s\tremaining: 8.1s\n"
          ]
        },
        {
          "output_type": "stream",
          "name": "stdout",
          "text": [
            "2000:\tlearn: 100.5630404\ttest: 81.0388031\tbest: 81.0388031 (2000)\ttotal: 23.1s\tremaining: 5.77s\n"
          ]
        },
        {
          "output_type": "stream",
          "name": "stdout",
          "text": [
            "2200:\tlearn: 99.5522674\ttest: 80.3018951\tbest: 80.3018951 (2200)\ttotal: 25.4s\tremaining: 3.45s\n"
          ]
        },
        {
          "output_type": "stream",
          "name": "stdout",
          "text": [
            "2400:\tlearn: 98.5855616\ttest: 79.5858917\tbest: 79.5858917 (2400)\ttotal: 27.7s\tremaining: 1.14s\n"
          ]
        },
        {
          "output_type": "stream",
          "name": "stdout",
          "text": [
            "2499:\tlearn: 98.1220512\ttest: 79.2247009\tbest: 79.2247009 (2499)\ttotal: 28.8s\tremaining: 0us\nbestTest = 79.22470093\nbestIteration = 2499\n"
          ]
        },
        {
          "output_type": "stream",
          "name": "stdout",
          "text": [
            "0:\tlearn: 306.4080723\ttest: 254.5221012\tbest: 254.5221012 (0)\ttotal: 10.7ms\tremaining: 12.9s\n"
          ]
        },
        {
          "output_type": "stream",
          "name": "stdout",
          "text": [
            "200:\tlearn: 153.2291272\ttest: 227.7517237\tbest: 227.7157116 (192)\ttotal: 1.86s\tremaining: 9.24s\n"
          ]
        },
        {
          "output_type": "stream",
          "name": "stdout",
          "text": [
            "400:\tlearn: 141.6343540\ttest: 225.8677797\tbest: 225.8164008 (388)\ttotal: 3.69s\tremaining: 7.35s\n"
          ]
        },
        {
          "output_type": "stream",
          "name": "stdout",
          "text": [
            "600:\tlearn: 138.6185766\ttest: 222.8781022\tbest: 222.8390324 (580)\ttotal: 5.05s\tremaining: 5.04s\n"
          ]
        },
        {
          "output_type": "stream",
          "name": "stdout",
          "text": [
            "800:\tlearn: 131.7750818\ttest: 219.6832503\tbest: 219.6832503 (800)\ttotal: 6.71s\tremaining: 3.34s\n"
          ]
        },
        {
          "output_type": "stream",
          "name": "stdout",
          "text": [
            "1000:\tlearn: 125.5299203\ttest: 210.9940572\tbest: 210.9940572 (1000)\ttotal: 8.52s\tremaining: 1.69s\n"
          ]
        },
        {
          "output_type": "stream",
          "name": "stdout",
          "text": [
            "1199:\tlearn: 120.2742605\ttest: 209.7283027\tbest: 209.0052425 (1154)\ttotal: 10.4s\tremaining: 0us\nbestTest = 209.0052425\nbestIteration = 1154\nShrink model to first 1155 iterations.\nSeed 789 Fold 2 done. tr=1330 va=64\n"
          ]
        },
        {
          "output_type": "stream",
          "name": "stdout",
          "text": [
            "0:\tlearn: 112.5268276\ttest: 110.8506332\tbest: 110.8506332 (0)\ttotal: 12ms\tremaining: 30.1s\n"
          ]
        },
        {
          "output_type": "stream",
          "name": "stdout",
          "text": [
            "200:\tlearn: 111.1162139\ttest: 109.3702589\tbest: 109.3702589 (200)\ttotal: 2.29s\tremaining: 26.2s\n"
          ]
        },
        {
          "output_type": "stream",
          "name": "stdout",
          "text": [
            "400:\tlearn: 109.7423752\ttest: 107.9972830\tbest: 107.9972830 (400)\ttotal: 4.6s\tremaining: 24.1s\n"
          ]
        },
        {
          "output_type": "stream",
          "name": "stdout",
          "text": [
            "600:\tlearn: 108.4219571\ttest: 106.6547537\tbest: 106.6547537 (600)\ttotal: 6.9s\tremaining: 21.8s\n"
          ]
        },
        {
          "output_type": "stream",
          "name": "stdout",
          "text": [
            "800:\tlearn: 107.1497513\ttest: 105.3613518\tbest: 105.3613518 (800)\ttotal: 9.22s\tremaining: 19.6s\n"
          ]
        },
        {
          "output_type": "stream",
          "name": "stdout",
          "text": [
            "1000:\tlearn: 105.9222035\ttest: 104.1123204\tbest: 104.1123204 (1000)\ttotal: 11.5s\tremaining: 17.3s\n"
          ]
        },
        {
          "output_type": "stream",
          "name": "stdout",
          "text": [
            "1200:\tlearn: 104.7420467\ttest: 102.9135191\tbest: 102.9135191 (1200)\ttotal: 13.8s\tremaining: 15s\n"
          ]
        },
        {
          "output_type": "stream",
          "name": "stdout",
          "text": [
            "1400:\tlearn: 103.6114161\ttest: 101.7118038\tbest: 101.7118038 (1400)\ttotal: 16.1s\tremaining: 12.7s\n"
          ]
        },
        {
          "output_type": "stream",
          "name": "stdout",
          "text": [
            "1600:\tlearn: 102.5259947\ttest: 100.5537897\tbest: 100.5537897 (1600)\ttotal: 18.4s\tremaining: 10.3s\n"
          ]
        },
        {
          "output_type": "stream",
          "name": "stdout",
          "text": [
            "1800:\tlearn: 101.4747677\ttest: 99.4586772\tbest: 99.4586772 (1800)\ttotal: 20.7s\tremaining: 8.05s\n"
          ]
        },
        {
          "output_type": "stream",
          "name": "stdout",
          "text": [
            "2000:\tlearn: 100.4598231\ttest: 98.4048560\tbest: 98.4048560 (2000)\ttotal: 23.1s\tremaining: 5.75s\n"
          ]
        },
        {
          "output_type": "stream",
          "name": "stdout",
          "text": [
            "2200:\tlearn: 99.4896420\ttest: 97.4487698\tbest: 97.4487698 (2200)\ttotal: 25.4s\tremaining: 3.45s\n"
          ]
        },
        {
          "output_type": "stream",
          "name": "stdout",
          "text": [
            "2400:\tlearn: 98.5673564\ttest: 96.5174364\tbest: 96.5174364 (2400)\ttotal: 27.7s\tremaining: 1.14s\n"
          ]
        },
        {
          "output_type": "stream",
          "name": "stdout",
          "text": [
            "2499:\tlearn: 98.1237038\ttest: 96.0521673\tbest: 96.0521673 (2499)\ttotal: 28.8s\tremaining: 0us\nbestTest = 96.05216734\nbestIteration = 2499\n"
          ]
        },
        {
          "output_type": "stream",
          "name": "stdout",
          "text": [
            "0:\tlearn: 307.4356399\ttest: 201.3605437\tbest: 201.3605437 (0)\ttotal: 10.1ms\tremaining: 12.2s\n"
          ]
        },
        {
          "output_type": "stream",
          "name": "stdout",
          "text": [
            "bestTest = 201.3322363\nbestIteration = 1\nShrink model to first 2 iterations.\nSeed 789 Fold 3 done. tr=1332 va=62\n"
          ]
        },
        {
          "output_type": "stream",
          "name": "stdout",
          "text": [
            "0:\tlearn: 110.7692732\ttest: 147.7544103\tbest: 147.7544103 (0)\ttotal: 11.4ms\tremaining: 28.6s\n"
          ]
        },
        {
          "output_type": "stream",
          "name": "stdout",
          "text": [
            "200:\tlearn: 109.3776042\ttest: 146.5829133\tbest: 146.5829133 (200)\ttotal: 2.29s\tremaining: 26.2s\n"
          ]
        },
        {
          "output_type": "stream",
          "name": "stdout",
          "text": [
            "400:\tlearn: 108.0188040\ttest: 145.4932586\tbest: 145.4932586 (400)\ttotal: 4.58s\tremaining: 24s\n"
          ]
        },
        {
          "output_type": "stream",
          "name": "stdout",
          "text": [
            "600:\tlearn: 106.7295538\ttest: 144.3856477\tbest: 144.3856477 (600)\ttotal: 6.88s\tremaining: 21.7s\n"
          ]
        },
        {
          "output_type": "stream",
          "name": "stdout",
          "text": [
            "800:\tlearn: 105.4820054\ttest: 143.2666331\tbest: 143.2666331 (800)\ttotal: 9.18s\tremaining: 19.5s\n"
          ]
        },
        {
          "output_type": "stream",
          "name": "stdout",
          "text": [
            "1000:\tlearn: 104.2630678\ttest: 142.1403100\tbest: 142.1403100 (1000)\ttotal: 11.5s\tremaining: 17.2s\n"
          ]
        },
        {
          "output_type": "stream",
          "name": "stdout",
          "text": [
            "1200:\tlearn: 103.0966122\ttest: 141.0657447\tbest: 141.0657447 (1200)\ttotal: 13.8s\tremaining: 14.9s\n"
          ]
        },
        {
          "output_type": "stream",
          "name": "stdout",
          "text": [
            "1400:\tlearn: 101.9757648\ttest: 140.0073085\tbest: 140.0073085 (1400)\ttotal: 16.1s\tremaining: 12.6s\n"
          ]
        },
        {
          "output_type": "stream",
          "name": "stdout",
          "text": [
            "1600:\tlearn: 100.8893229\ttest: 138.9714119\tbest: 138.9714119 (1600)\ttotal: 18.4s\tremaining: 10.3s\n"
          ]
        },
        {
          "output_type": "stream",
          "name": "stdout",
          "text": [
            "1800:\tlearn: 99.8524071\ttest: 137.9954165\tbest: 137.9954165 (1800)\ttotal: 20.7s\tremaining: 8.02s\n"
          ]
        },
        {
          "output_type": "stream",
          "name": "stdout",
          "text": [
            "2000:\tlearn: 98.8402191\ttest: 137.0248393\tbest: 137.0248393 (2000)\ttotal: 23s\tremaining: 5.73s\n"
          ]
        },
        {
          "output_type": "stream",
          "name": "stdout",
          "text": [
            "2200:\tlearn: 97.8512751\ttest: 136.0408896\tbest: 136.0408896 (2200)\ttotal: 25.3s\tremaining: 3.43s\n"
          ]
        },
        {
          "output_type": "stream",
          "name": "stdout",
          "text": [
            "2400:\tlearn: 96.9105492\ttest: 135.0348097\tbest: 135.0348097 (2400)\ttotal: 27.6s\tremaining: 1.14s\n"
          ]
        },
        {
          "output_type": "stream",
          "name": "stdout",
          "text": [
            "2499:\tlearn: 96.4570899\ttest: 134.5465915\tbest: 134.5465915 (2499)\ttotal: 28.7s\tremaining: 0us\nbestTest = 134.5465915\nbestIteration = 2499\n"
          ]
        },
        {
          "output_type": "stream",
          "name": "stdout",
          "text": [
            "0:\tlearn: 305.5149938\ttest: 276.2340055\tbest: 276.2340055 (0)\ttotal: 10.5ms\tremaining: 12.6s\n"
          ]
        },
        {
          "output_type": "stream",
          "name": "stdout",
          "text": [
            "200:\tlearn: 159.6194894\ttest: 259.5256917\tbest: 259.5256917 (200)\ttotal: 1.86s\tremaining: 9.27s\n"
          ]
        },
        {
          "output_type": "stream",
          "name": "stdout",
          "text": [
            "400:\tlearn: 143.8639717\ttest: 235.1566311\tbest: 235.1566311 (400)\ttotal: 3.74s\tremaining: 7.45s\n"
          ]
        },
        {
          "output_type": "stream",
          "name": "stdout",
          "text": [
            "600:\tlearn: 135.9552622\ttest: 229.7340328\tbest: 229.6777195 (588)\ttotal: 5.56s\tremaining: 5.54s\n"
          ]
        },
        {
          "output_type": "stream",
          "name": "stdout",
          "text": [
            "800:\tlearn: 133.5487449\ttest: 229.5549867\tbest: 229.1735326 (754)\ttotal: 7.21s\tremaining: 3.59s\n"
          ]
        },
        {
          "output_type": "stream",
          "name": "stdout",
          "text": [
            "bestTest = 229.1735326\nbestIteration = 754\nShrink model to first 755 iterations.\nSeed 789 Fold 4 done. tr=1332 va=62\nSeed bag 5/5 (seed=2024)\n"
          ]
        },
        {
          "output_type": "stream",
          "name": "stdout",
          "text": [
            "0:\tlearn: 112.4866776\ttest: 101.5861816\tbest: 101.5861816 (0)\ttotal: 12.5ms\tremaining: 31.2s\n"
          ]
        },
        {
          "output_type": "stream",
          "name": "stdout",
          "text": [
            "200:\tlearn: 111.1059093\ttest: 100.2451172\tbest: 100.2451172 (200)\ttotal: 2.31s\tremaining: 26.4s\n"
          ]
        },
        {
          "output_type": "stream",
          "name": "stdout",
          "text": [
            "400:\tlearn: 109.7498355\ttest: 99.0116730\tbest: 99.0116730 (400)\ttotal: 4.6s\tremaining: 24.1s\n"
          ]
        },
        {
          "output_type": "stream",
          "name": "stdout",
          "text": [
            "600:\tlearn: 108.4428454\ttest: 97.8405533\tbest: 97.8405533 (600)\ttotal: 6.9s\tremaining: 21.8s\n"
          ]
        },
        {
          "output_type": "stream",
          "name": "stdout",
          "text": [
            "800:\tlearn: 107.1734258\ttest: 96.7068024\tbest: 96.7068024 (800)\ttotal: 9.2s\tremaining: 19.5s\n"
          ]
        },
        {
          "output_type": "stream",
          "name": "stdout",
          "text": [
            "1000:\tlearn: 105.9440202\ttest: 95.5868835\tbest: 95.5868835 (1000)\ttotal: 11.5s\tremaining: 17.2s\n"
          ]
        },
        {
          "output_type": "stream",
          "name": "stdout",
          "text": [
            "1200:\tlearn: 104.7698073\ttest: 94.4909210\tbest: 94.4909210 (1200)\ttotal: 13.8s\tremaining: 14.9s\n"
          ]
        },
        {
          "output_type": "stream",
          "name": "stdout",
          "text": [
            "1400:\tlearn: 103.6461231\ttest: 93.4094315\tbest: 93.4094315 (1400)\ttotal: 16.1s\tremaining: 12.6s\n"
          ]
        },
        {
          "output_type": "stream",
          "name": "stdout",
          "text": [
            "1600:\tlearn: 102.5624413\ttest: 92.3353424\tbest: 92.3353424 (1600)\ttotal: 18.4s\tremaining: 10.3s\n"
          ]
        },
        {
          "output_type": "stream",
          "name": "stdout",
          "text": [
            "1800:\tlearn: 101.5209704\ttest: 91.2837677\tbest: 91.2837677 (1800)\ttotal: 20.6s\tremaining: 8.01s\n"
          ]
        },
        {
          "output_type": "stream",
          "name": "stdout",
          "text": [
            "2000:\tlearn: 100.5077420\ttest: 90.2552032\tbest: 90.2552032 (2000)\ttotal: 22.9s\tremaining: 5.72s\n"
          ]
        },
        {
          "output_type": "stream",
          "name": "stdout",
          "text": [
            "2200:\tlearn: 99.5173167\ttest: 89.2934265\tbest: 89.2934265 (2200)\ttotal: 25.2s\tremaining: 3.43s\n"
          ]
        },
        {
          "output_type": "stream",
          "name": "stdout",
          "text": [
            "2400:\tlearn: 98.5836936\ttest: 88.3414459\tbest: 88.3414459 (2400)\ttotal: 27.5s\tremaining: 1.13s\n"
          ]
        },
        {
          "output_type": "stream",
          "name": "stdout",
          "text": [
            "2499:\tlearn: 98.1428806\ttest: 87.8769531\tbest: 87.8769531 (2499)\ttotal: 28.7s\tremaining: 0us\nbestTest = 87.87695313\nbestIteration = 2499\n"
          ]
        },
        {
          "output_type": "stream",
          "name": "stdout",
          "text": [
            "0:\tlearn: 306.7119831\ttest: 155.5676727\tbest: 155.5676727 (0)\ttotal: 10.5ms\tremaining: 12.6s\n"
          ]
        },
        {
          "output_type": "stream",
          "name": "stdout",
          "text": [
            "200:\tlearn: 152.2675376\ttest: 141.0130064\tbest: 141.0130064 (200)\ttotal: 1.85s\tremaining: 9.21s\n"
          ]
        },
        {
          "output_type": "stream",
          "name": "stdout",
          "text": [
            "400:\tlearn: 142.3907258\ttest: 136.3455227\tbest: 136.3455227 (400)\ttotal: 3.43s\tremaining: 6.84s\n"
          ]
        },
        {
          "output_type": "stream",
          "name": "stdout",
          "text": [
            "600:\tlearn: 137.9279915\ttest: 133.7079811\tbest: 133.7079811 (600)\ttotal: 5.03s\tremaining: 5.02s\n"
          ]
        },
        {
          "output_type": "stream",
          "name": "stdout",
          "text": [
            "800:\tlearn: 135.2301519\ttest: 132.3884111\tbest: 132.3884111 (800)\ttotal: 6.7s\tremaining: 3.33s\n"
          ]
        },
        {
          "output_type": "stream",
          "name": "stdout",
          "text": [
            "bestTest = 131.1718592\nbestIteration = 859\nShrink model to first 860 iterations.\nSeed 2024 Fold 0 done. tr=1330 va=64\n"
          ]
        },
        {
          "output_type": "stream",
          "name": "stdout",
          "text": [
            "0:\tlearn: 112.7849389\ttest: 88.1081848\tbest: 88.1081848 (0)\ttotal: 11.4ms\tremaining: 28.6s\n"
          ]
        },
        {
          "output_type": "stream",
          "name": "stdout",
          "text": [
            "200:\tlearn: 111.4354206\ttest: 86.8950348\tbest: 86.8950348 (200)\ttotal: 2.23s\tremaining: 25.6s\n"
          ]
        },
        {
          "output_type": "stream",
          "name": "stdout",
          "text": [
            "400:\tlearn: 110.1039004\ttest: 85.7321548\tbest: 85.7321548 (400)\ttotal: 4.51s\tremaining: 23.6s\n"
          ]
        },
        {
          "output_type": "stream",
          "name": "stdout",
          "text": [
            "600:\tlearn: 108.8098567\ttest: 84.5848465\tbest: 84.5848465 (600)\ttotal: 6.8s\tremaining: 21.5s\n"
          ]
        },
        {
          "output_type": "stream",
          "name": "stdout",
          "text": [
            "800:\tlearn: 107.5532895\ttest: 83.4384232\tbest: 83.4384232 (800)\ttotal: 9.11s\tremaining: 19.3s\n"
          ]
        },
        {
          "output_type": "stream",
          "name": "stdout",
          "text": [
            "1000:\tlearn: 106.3350094\ttest: 82.2989197\tbest: 82.2989197 (1000)\ttotal: 11.4s\tremaining: 17.1s\n"
          ]
        },
        {
          "output_type": "stream",
          "name": "stdout",
          "text": [
            "1200:\tlearn: 105.1623120\ttest: 81.1943207\tbest: 81.1943207 (1200)\ttotal: 13.7s\tremaining: 14.8s\n"
          ]
        },
        {
          "output_type": "stream",
          "name": "stdout",
          "text": [
            "1400:\tlearn: 104.0265625\ttest: 80.1269531\tbest: 80.1269531 (1400)\ttotal: 16s\tremaining: 12.6s\n"
          ]
        },
        {
          "output_type": "stream",
          "name": "stdout",
          "text": [
            "1600:\tlearn: 102.9378524\ttest: 79.0848846\tbest: 79.0848846 (1600)\ttotal: 18.3s\tremaining: 10.3s\n"
          ]
        },
        {
          "output_type": "stream",
          "name": "stdout",
          "text": [
            "1800:\tlearn: 101.8828360\ttest: 78.0669403\tbest: 78.0669403 (1800)\ttotal: 20.6s\tremaining: 8.01s\n"
          ]
        },
        {
          "output_type": "stream",
          "name": "stdout",
          "text": [
            "2000:\tlearn: 100.8523261\ttest: 77.0593262\tbest: 77.0593262 (2000)\ttotal: 22.9s\tremaining: 5.72s\n"
          ]
        },
        {
          "output_type": "stream",
          "name": "stdout",
          "text": [
            "2200:\tlearn: 99.8500117\ttest: 76.0851212\tbest: 76.0851212 (2200)\ttotal: 25.2s\tremaining: 3.43s\n"
          ]
        },
        {
          "output_type": "stream",
          "name": "stdout",
          "text": [
            "2400:\tlearn: 98.8881814\ttest: 75.1470032\tbest: 75.1470032 (2400)\ttotal: 27.5s\tremaining: 1.14s\n"
          ]
        },
        {
          "output_type": "stream",
          "name": "stdout",
          "text": [
            "2499:\tlearn: 98.4361490\ttest: 74.6897659\tbest: 74.6897659 (2499)\ttotal: 28.7s\tremaining: 0us\nbestTest = 74.68976593\nbestIteration = 2499\n"
          ]
        },
        {
          "output_type": "stream",
          "name": "stdout",
          "text": [
            "0:\tlearn: 306.9258293\ttest: 135.0963559\tbest: 135.0963559 (0)\ttotal: 10.4ms\tremaining: 12.5s\n"
          ]
        },
        {
          "output_type": "stream",
          "name": "stdout",
          "text": [
            "bestTest = 125.7119335\nbestIteration = 36\nShrink model to first 37 iterations.\nSeed 2024 Fold 1 done. tr=1330 va=64\n"
          ]
        },
        {
          "output_type": "stream",
          "name": "stdout",
          "text": [
            "0:\tlearn: 112.5421523\ttest: 89.9804535\tbest: 89.9804535 (0)\ttotal: 9.05ms\tremaining: 22.6s\n"
          ]
        },
        {
          "output_type": "stream",
          "name": "stdout",
          "text": [
            "200:\tlearn: 111.1820489\ttest: 88.8126831\tbest: 88.8126831 (200)\ttotal: 2.26s\tremaining: 25.8s\n"
          ]
        },
        {
          "output_type": "stream",
          "name": "stdout",
          "text": [
            "400:\tlearn: 109.8335526\ttest: 87.8163147\tbest: 87.8163147 (400)\ttotal: 4.59s\tremaining: 24s\n"
          ]
        },
        {
          "output_type": "stream",
          "name": "stdout",
          "text": [
            "600:\tlearn: 108.5316847\ttest: 86.8604736\tbest: 86.8604736 (600)\ttotal: 6.92s\tremaining: 21.9s\n"
          ]
        },
        {
          "output_type": "stream",
          "name": "stdout",
          "text": [
            "800:\tlearn: 107.2644854\ttest: 85.9396667\tbest: 85.9396667 (800)\ttotal: 9.24s\tremaining: 19.6s\n"
          ]
        },
        {
          "output_type": "stream",
          "name": "stdout",
          "text": [
            "1000:\tlearn: 106.0507519\ttest: 85.0329132\tbest: 85.0329132 (1000)\ttotal: 11.6s\tremaining: 17.3s\n"
          ]
        },
        {
          "output_type": "stream",
          "name": "stdout",
          "text": [
            "1200:\tlearn: 104.8751175\ttest: 84.1587677\tbest: 84.1587677 (1200)\ttotal: 13.9s\tremaining: 15s\n"
          ]
        },
        {
          "output_type": "stream",
          "name": "stdout",
          "text": [
            "1400:\tlearn: 103.7400846\ttest: 83.3497314\tbest: 83.3497314 (1400)\ttotal: 16.2s\tremaining: 12.7s\n"
          ]
        },
        {
          "output_type": "stream",
          "name": "stdout",
          "text": [
            "1600:\tlearn: 102.6418468\ttest: 82.5738907\tbest: 82.5738907 (1600)\ttotal: 18.5s\tremaining: 10.4s\n"
          ]
        },
        {
          "output_type": "stream",
          "name": "stdout",
          "text": [
            "1800:\tlearn: 101.6012101\ttest: 81.8226166\tbest: 81.8226166 (1800)\ttotal: 20.8s\tremaining: 8.08s\n"
          ]
        },
        {
          "output_type": "stream",
          "name": "stdout",
          "text": [
            "2000:\tlearn: 100.5761866\ttest: 81.0614243\tbest: 81.0614243 (2000)\ttotal: 23.1s\tremaining: 5.77s\n"
          ]
        },
        {
          "output_type": "stream",
          "name": "stdout",
          "text": [
            "2200:\tlearn: 99.5709234\ttest: 80.3081665\tbest: 80.3081665 (2200)\ttotal: 25.5s\tremaining: 3.46s\n"
          ]
        },
        {
          "output_type": "stream",
          "name": "stdout",
          "text": [
            "2400:\tlearn: 98.6148144\ttest: 79.6184235\tbest: 79.6184235 (2400)\ttotal: 27.8s\tremaining: 1.14s\n"
          ]
        },
        {
          "output_type": "stream",
          "name": "stdout",
          "text": [
            "2499:\tlearn: 98.1680392\ttest: 79.2853699\tbest: 79.2853699 (2499)\ttotal: 28.9s\tremaining: 0us\nbestTest = 79.28536987\nbestIteration = 2499\n"
          ]
        },
        {
          "output_type": "stream",
          "name": "stdout",
          "text": [
            "0:\tlearn: 306.1922144\ttest: 255.3954578\tbest: 255.3954578 (0)\ttotal: 10.7ms\tremaining: 12.8s\n"
          ]
        },
        {
          "output_type": "stream",
          "name": "stdout",
          "text": [
            "200:\tlearn: 155.5855735\ttest: 228.7983726\tbest: 228.7575733 (192)\ttotal: 1.9s\tremaining: 9.43s\n"
          ]
        },
        {
          "output_type": "stream",
          "name": "stdout",
          "text": [
            "400:\tlearn: 147.1095904\ttest: 226.2585979\tbest: 226.1916966 (372)\ttotal: 3.79s\tremaining: 7.56s\n"
          ]
        },
        {
          "output_type": "stream",
          "name": "stdout",
          "text": [
            "bestTest = 226.1916966\nbestIteration = 372\nShrink model to first 373 iterations.\nSeed 2024 Fold 2 done. tr=1330 va=64\n"
          ]
        },
        {
          "output_type": "stream",
          "name": "stdout",
          "text": [
            "0:\tlearn: 112.5271913\ttest: 110.8520508\tbest: 110.8520508 (0)\ttotal: 9.68ms\tremaining: 24.2s\n"
          ]
        },
        {
          "output_type": "stream",
          "name": "stdout",
          "text": [
            "200:\tlearn: 111.1147006\ttest: 109.3883254\tbest: 109.3883254 (200)\ttotal: 2.22s\tremaining: 25.4s\n"
          ]
        },
        {
          "output_type": "stream",
          "name": "stdout",
          "text": [
            "400:\tlearn: 109.7350554\ttest: 108.0175072\tbest: 108.0175072 (400)\ttotal: 4.49s\tremaining: 23.5s\n"
          ]
        },
        {
          "output_type": "stream",
          "name": "stdout",
          "text": [
            "600:\tlearn: 108.4137575\ttest: 106.6833260\tbest: 106.6833260 (600)\ttotal: 6.8s\tremaining: 21.5s\n"
          ]
        },
        {
          "output_type": "stream",
          "name": "stdout",
          "text": [
            "800:\tlearn: 107.1292464\ttest: 105.3905935\tbest: 105.3905935 (800)\ttotal: 9.14s\tremaining: 19.4s\n"
          ]
        },
        {
          "output_type": "stream",
          "name": "stdout",
          "text": [
            "1000:\tlearn: 105.8879035\ttest: 104.1480516\tbest: 104.1480516 (1000)\ttotal: 11.5s\tremaining: 17.2s\n"
          ]
        },
        {
          "output_type": "stream",
          "name": "stdout",
          "text": [
            "1200:\tlearn: 104.6977524\ttest: 102.9425718\tbest: 102.9425718 (1200)\ttotal: 13.8s\tremaining: 14.9s\n"
          ]
        },
        {
          "output_type": "stream",
          "name": "stdout",
          "text": [
            "1400:\tlearn: 103.5556729\ttest: 101.7862431\tbest: 101.7862431 (1400)\ttotal: 16.1s\tremaining: 12.6s\n"
          ]
        },
        {
          "output_type": "stream",
          "name": "stdout",
          "text": [
            "1600:\tlearn: 102.4472598\ttest: 100.6360887\tbest: 100.6360887 (1600)\ttotal: 18.5s\tremaining: 10.4s\n"
          ]
        },
        {
          "output_type": "stream",
          "name": "stdout",
          "text": [
            "1800:\tlearn: 101.3829533\ttest: 99.5440398\tbest: 99.5440398 (1800)\ttotal: 20.8s\tremaining: 8.09s\n"
          ]
        },
        {
          "output_type": "stream",
          "name": "stdout",
          "text": [
            "2000:\tlearn: 100.3539203\ttest: 98.4691438\tbest: 98.4691438 (2000)\ttotal: 23.2s\tremaining: 5.79s\n"
          ]
        },
        {
          "output_type": "stream",
          "name": "stdout",
          "text": [
            "2200:\tlearn: 99.3669998\ttest: 97.4521484\tbest: 97.4521484 (2200)\ttotal: 25.6s\tremaining: 3.47s\n"
          ]
        },
        {
          "output_type": "stream",
          "name": "stdout",
          "text": [
            "2400:\tlearn: 98.4263326\ttest: 96.4636939\tbest: 96.4636939 (2400)\ttotal: 27.9s\tremaining: 1.15s\n"
          ]
        },
        {
          "output_type": "stream",
          "name": "stdout",
          "text": [
            "2499:\tlearn: 97.9812899\ttest: 95.9709788\tbest: 95.9709788 (2499)\ttotal: 29s\tremaining: 0us\nbestTest = 95.97097877\nbestIteration = 2499\n"
          ]
        },
        {
          "output_type": "stream",
          "name": "stdout",
          "text": [
            "0:\tlearn: 306.7397974\ttest: 201.7120672\tbest: 201.7120672 (0)\ttotal: 10.1ms\tremaining: 12.2s\n"
          ]
        },
        {
          "output_type": "stream",
          "name": "stdout",
          "text": [
            "bestTest = 201.1217935\nbestIteration = 2\nShrink model to first 3 iterations.\nSeed 2024 Fold 3 done. tr=1332 va=62\n"
          ]
        },
        {
          "output_type": "stream",
          "name": "stdout",
          "text": [
            "0:\tlearn: 110.7690034\ttest: 147.7545363\tbest: 147.7545363 (0)\ttotal: 12.4ms\tremaining: 30.9s\n"
          ]
        },
        {
          "output_type": "stream",
          "name": "stdout",
          "text": [
            "200:\tlearn: 109.3793168\ttest: 146.5876544\tbest: 146.5876544 (200)\ttotal: 2.28s\tremaining: 26.1s\n"
          ]
        },
        {
          "output_type": "stream",
          "name": "stdout",
          "text": [
            "400:\tlearn: 108.0203758\ttest: 145.4904391\tbest: 145.4904391 (400)\ttotal: 4.6s\tremaining: 24.1s\n"
          ]
        },
        {
          "output_type": "stream",
          "name": "stdout",
          "text": [
            "600:\tlearn: 106.7378120\ttest: 144.3787487\tbest: 144.3787487 (600)\ttotal: 6.91s\tremaining: 21.8s\n"
          ]
        },
        {
          "output_type": "stream",
          "name": "stdout",
          "text": [
            "800:\tlearn: 105.4967741\ttest: 143.2474798\tbest: 143.2474798 (800)\ttotal: 9.21s\tremaining: 19.5s\n"
          ]
        },
        {
          "output_type": "stream",
          "name": "stdout",
          "text": [
            "1000:\tlearn: 104.2812969\ttest: 142.1117061\tbest: 142.1117061 (1000)\ttotal: 11.5s\tremaining: 17.3s\n"
          ]
        },
        {
          "output_type": "stream",
          "name": "stdout",
          "text": [
            "1200:\tlearn: 103.1163077\ttest: 140.9999370\tbest: 140.9999370 (1200)\ttotal: 13.8s\tremaining: 14.9s\n"
          ]
        },
        {
          "output_type": "stream",
          "name": "stdout",
          "text": [
            "1400:\tlearn: 101.9975601\ttest: 139.9508569\tbest: 139.9508569 (1400)\ttotal: 16.1s\tremaining: 12.6s\n"
          ]
        },
        {
          "output_type": "stream",
          "name": "stdout",
          "text": [
            "1600:\tlearn: 100.9127370\ttest: 138.9363659\tbest: 138.9363659 (1600)\ttotal: 18.4s\tremaining: 10.3s\n"
          ]
        },
        {
          "output_type": "stream",
          "name": "stdout",
          "text": [
            "1800:\tlearn: 99.8642197\ttest: 137.9589214\tbest: 137.9589214 (1800)\ttotal: 20.7s\tremaining: 8.05s\n"
          ]
        },
        {
          "output_type": "stream",
          "name": "stdout",
          "text": [
            "2000:\tlearn: 98.8454509\ttest: 136.9687185\tbest: 136.9687185 (2000)\ttotal: 23s\tremaining: 5.75s\n"
          ]
        },
        {
          "output_type": "stream",
          "name": "stdout",
          "text": [
            "2200:\tlearn: 97.8756569\ttest: 135.9910534\tbest: 135.9910534 (2200)\ttotal: 25.3s\tremaining: 3.44s\n"
          ]
        },
        {
          "output_type": "stream",
          "name": "stdout",
          "text": [
            "2400:\tlearn: 96.9411892\ttest: 135.0460244\tbest: 135.0460244 (2400)\ttotal: 27.7s\tremaining: 1.14s\n"
          ]
        },
        {
          "output_type": "stream",
          "name": "stdout",
          "text": [
            "2499:\tlearn: 96.4894074\ttest: 134.5910566\tbest: 134.5910566 (2499)\ttotal: 28.8s\tremaining: 0us\nbestTest = 134.5910566\nbestIteration = 2499\n"
          ]
        },
        {
          "output_type": "stream",
          "name": "stdout",
          "text": [
            "0:\tlearn: 305.4638574\ttest: 276.4016479\tbest: 276.4016479 (0)\ttotal: 10.1ms\tremaining: 12.1s\n"
          ]
        },
        {
          "output_type": "stream",
          "name": "stdout",
          "text": [
            "200:\tlearn: 161.9329840\ttest: 259.6897653\tbest: 259.4636450 (195)\ttotal: 1.78s\tremaining: 8.85s\n"
          ]
        },
        {
          "output_type": "stream",
          "name": "stdout",
          "text": [
            "400:\tlearn: 149.7487586\ttest: 253.9412715\tbest: 253.9399297 (392)\ttotal: 3.35s\tremaining: 6.67s\n"
          ]
        },
        {
          "output_type": "stream",
          "name": "stdout",
          "text": [
            "600:\tlearn: 145.6949897\ttest: 250.1927483\tbest: 250.0719574 (556)\ttotal: 4.88s\tremaining: 4.86s\n"
          ]
        },
        {
          "output_type": "stream",
          "name": "stdout",
          "text": [
            "bestTest = 250.0719574\nbestIteration = 556\nShrink model to first 557 iterations.\nSeed 2024 Fold 4 done. tr=1332 va=62\nDiag valid_count: 316  nan(abs_wsb)= 0  nan(wsl)= 0  nan(prmse)= 0  calib_count= 316\n"
          ]
        },
        {
          "output_type": "stream",
          "name": "stdout",
          "text": [
            "Temporal OOF (last-2) residual blend (seed-bagged 5): -6.45984 with params {'w_cat': 0.3, 'd': 0.7, 's': 1.6, 'a': 0, 'b': 0.2, 'c': 0.8, 'e': 0.0}\nFull OOF (last-2, 5-seed): -6.45983801063374 best: {'w_cat': 0.3, 'd': 0.7, 's': 1.6, 'a': 0, 'b': 0.2, 'c': 0.8, 'e': 0.0}\n"
          ]
        }
      ]
    },
    {
      "id": "1c8483b1-9639-419c-9ed9-fdbb0bad72ed",
      "cell_type": "code",
      "metadata": {},
      "source": [
        "# 5-seed last-3 CV to get robust, LB-aligned params; register as res2 for production\n",
        "print('Running residual CV: last-3 per patient, 5 seeds (42,123,456,789,2024)...', flush=True)\n",
        "res3_5 = temporal_cv_with_lgbm_and_residuals(train, n_splits=5, seed=42, temporal_k=3, seeds_bag=(42,123,456,789,2024))\n",
        "print('Full OOF (last-3, 5-seed):', res3_5['best_score'], 'best:', res3_5['best'])\n",
        "\n",
        "# Register as res2 for production parity\n",
        "best3 = res3_5['best']\n",
        "train_sorted3 = res3_5.get('train_sorted', None)\n",
        "res2 = {'best_score': res3_5['best_score'], 'best': best3, 'train_sorted': train_sorted3}\n",
        "print('res2 (last-3 tuned) registered for production:', res2['best'])"
      ],
      "execution_count": 35,
      "outputs": [
        {
          "output_type": "stream",
          "name": "stdout",
          "text": [
            "Running residual CV: last-3 per patient, 5 seeds (42,123,456,789,2024)...\n"
          ]
        },
        {
          "output_type": "stream",
          "name": "stdout",
          "text": [
            "Seed bag 1/5 (seed=42)\n"
          ]
        },
        {
          "output_type": "stream",
          "name": "stdout",
          "text": [
            "0:\tlearn: 113.2495065\ttest: 149.3363851\tbest: 149.3363851 (0)\ttotal: 12.3ms\tremaining: 30.7s\n"
          ]
        },
        {
          "output_type": "stream",
          "name": "stdout",
          "text": [
            "200:\tlearn: 111.8935020\ttest: 147.9704386\tbest: 147.9704386 (200)\ttotal: 2.27s\tremaining: 25.9s\n"
          ]
        },
        {
          "output_type": "stream",
          "name": "stdout",
          "text": [
            "400:\tlearn: 110.5579497\ttest: 146.6234436\tbest: 146.6234436 (400)\ttotal: 4.55s\tremaining: 23.8s\n"
          ]
        },
        {
          "output_type": "stream",
          "name": "stdout",
          "text": [
            "600:\tlearn: 109.2583181\ttest: 145.2526449\tbest: 145.2526449 (600)\ttotal: 6.83s\tremaining: 21.6s\n"
          ]
        },
        {
          "output_type": "stream",
          "name": "stdout",
          "text": [
            "800:\tlearn: 107.9892864\ttest: 143.8810628\tbest: 143.8810628 (800)\ttotal: 9.11s\tremaining: 19.3s\n"
          ]
        },
        {
          "output_type": "stream",
          "name": "stdout",
          "text": [
            "1000:\tlearn: 106.7641082\ttest: 142.5346171\tbest: 142.5346171 (1000)\ttotal: 11.4s\tremaining: 17.1s\n"
          ]
        },
        {
          "output_type": "stream",
          "name": "stdout",
          "text": [
            "1200:\tlearn: 105.6010690\ttest: 141.2209880\tbest: 141.2209880 (1200)\ttotal: 13.7s\tremaining: 14.8s\n"
          ]
        },
        {
          "output_type": "stream",
          "name": "stdout",
          "text": [
            "1400:\tlearn: 104.4827619\ttest: 139.9352620\tbest: 139.9352620 (1400)\ttotal: 16s\tremaining: 12.5s\n"
          ]
        },
        {
          "output_type": "stream",
          "name": "stdout",
          "text": [
            "1600:\tlearn: 103.4114262\ttest: 138.6787313\tbest: 138.6787313 (1600)\ttotal: 18.3s\tremaining: 10.3s\n"
          ]
        },
        {
          "output_type": "stream",
          "name": "stdout",
          "text": [
            "1800:\tlearn: 102.3722915\ttest: 137.4537862\tbest: 137.4537862 (1800)\ttotal: 20.6s\tremaining: 7.99s\n"
          ]
        },
        {
          "output_type": "stream",
          "name": "stdout",
          "text": [
            "2000:\tlearn: 101.3698960\ttest: 136.2694194\tbest: 136.2694194 (2000)\ttotal: 22.9s\tremaining: 5.7s\n"
          ]
        },
        {
          "output_type": "stream",
          "name": "stdout",
          "text": [
            "2200:\tlearn: 100.3905407\ttest: 135.1094869\tbest: 135.1094869 (2200)\ttotal: 25.2s\tremaining: 3.42s\n"
          ]
        },
        {
          "output_type": "stream",
          "name": "stdout",
          "text": [
            "2400:\tlearn: 99.4602754\ttest: 133.9956665\tbest: 133.9956665 (2400)\ttotal: 27.5s\tremaining: 1.13s\n"
          ]
        },
        {
          "output_type": "stream",
          "name": "stdout",
          "text": [
            "2499:\tlearn: 99.0196456\ttest: 133.4332581\tbest: 133.4332581 (2499)\ttotal: 28.6s\tremaining: 0us\nbestTest = 133.4332581\nbestIteration = 2499\n"
          ]
        },
        {
          "output_type": "stream",
          "name": "stdout",
          "text": [
            "0:\tlearn: 309.8899949\ttest: 362.3509464\tbest: 362.3509464 (0)\ttotal: 10.4ms\tremaining: 12.5s\n"
          ]
        },
        {
          "output_type": "stream",
          "name": "stdout",
          "text": [
            "200:\tlearn: 159.8447774\ttest: 347.0005854\tbest: 347.0005854 (200)\ttotal: 1.91s\tremaining: 9.47s\n"
          ]
        },
        {
          "output_type": "stream",
          "name": "stdout",
          "text": [
            "400:\tlearn: 143.7512832\ttest: 330.4164040\tbest: 330.4164040 (400)\ttotal: 3.8s\tremaining: 7.56s\n"
          ]
        },
        {
          "output_type": "stream",
          "name": "stdout",
          "text": [
            "bestTest = 328.06813\nbestIteration = 459\nShrink model to first 460 iterations.\nSeed 42 Fold 0 done. tr=1298 va=96\n"
          ]
        },
        {
          "output_type": "stream",
          "name": "stdout",
          "text": [
            "0:\tlearn: 113.0472722\ttest: 171.3216553\tbest: 171.3216553 (0)\ttotal: 12.1ms\tremaining: 30.2s\n"
          ]
        },
        {
          "output_type": "stream",
          "name": "stdout",
          "text": [
            "200:\tlearn: 111.7070493\ttest: 169.9328308\tbest: 169.9328308 (200)\ttotal: 2.28s\tremaining: 26.1s\n"
          ]
        },
        {
          "output_type": "stream",
          "name": "stdout",
          "text": [
            "400:\tlearn: 110.3865201\ttest: 168.5638631\tbest: 168.5638631 (400)\ttotal: 4.55s\tremaining: 23.8s\n"
          ]
        },
        {
          "output_type": "stream",
          "name": "stdout",
          "text": [
            "600:\tlearn: 109.1004310\ttest: 167.1955566\tbest: 167.1955566 (600)\ttotal: 6.83s\tremaining: 21.6s\n"
          ]
        },
        {
          "output_type": "stream",
          "name": "stdout",
          "text": [
            "800:\tlearn: 107.8590500\ttest: 165.8305257\tbest: 165.8305257 (800)\ttotal: 9.12s\tremaining: 19.4s\n"
          ]
        },
        {
          "output_type": "stream",
          "name": "stdout",
          "text": [
            "1000:\tlearn: 106.6560092\ttest: 164.4741211\tbest: 164.4741211 (1000)\ttotal: 11.4s\tremaining: 17.1s\n"
          ]
        },
        {
          "output_type": "stream",
          "name": "stdout",
          "text": [
            "1200:\tlearn: 105.4939089\ttest: 163.0999146\tbest: 163.0999146 (1200)\ttotal: 13.7s\tremaining: 14.8s\n"
          ]
        },
        {
          "output_type": "stream",
          "name": "stdout",
          "text": [
            "1400:\tlearn: 104.3651892\ttest: 161.7098389\tbest: 161.7098389 (1400)\ttotal: 16s\tremaining: 12.5s\n"
          ]
        },
        {
          "output_type": "stream",
          "name": "stdout",
          "text": [
            "1600:\tlearn: 103.2758089\ttest: 160.3457845\tbest: 160.3457845 (1600)\ttotal: 18.3s\tremaining: 10.3s\n"
          ]
        },
        {
          "output_type": "stream",
          "name": "stdout",
          "text": [
            "1800:\tlearn: 102.2273690\ttest: 159.0548503\tbest: 159.0548503 (1800)\ttotal: 20.6s\tremaining: 7.99s\n"
          ]
        },
        {
          "output_type": "stream",
          "name": "stdout",
          "text": [
            "2000:\tlearn: 101.2148377\ttest: 157.8287150\tbest: 157.8287150 (2000)\ttotal: 22.9s\tremaining: 5.71s\n"
          ]
        },
        {
          "output_type": "stream",
          "name": "stdout",
          "text": [
            "2200:\tlearn: 100.2147956\ttest: 156.6637268\tbest: 156.6637268 (2200)\ttotal: 25.2s\tremaining: 3.42s\n"
          ]
        },
        {
          "output_type": "stream",
          "name": "stdout",
          "text": [
            "2400:\tlearn: 99.2561031\ttest: 155.5362345\tbest: 155.5362345 (2400)\ttotal: 27.5s\tremaining: 1.13s\n"
          ]
        },
        {
          "output_type": "stream",
          "name": "stdout",
          "text": [
            "2499:\tlearn: 98.8123194\ttest: 155.0071716\tbest: 155.0071716 (2499)\ttotal: 28.6s\tremaining: 0us\nbestTest = 155.0071716\nbestIteration = 2499\n"
          ]
        },
        {
          "output_type": "stream",
          "name": "stdout",
          "text": [
            "0:\tlearn: 310.4268347\ttest: 349.9485676\tbest: 349.9485676 (0)\ttotal: 10.3ms\tremaining: 12.3s\n"
          ]
        },
        {
          "output_type": "stream",
          "name": "stdout",
          "text": [
            "200:\tlearn: 167.6385428\ttest: 336.5889401\tbest: 336.4865029 (186)\ttotal: 1.86s\tremaining: 9.26s\n"
          ]
        },
        {
          "output_type": "stream",
          "name": "stdout",
          "text": [
            "400:\tlearn: 155.1770300\ttest: 330.2814456\tbest: 330.1953809 (368)\ttotal: 3.61s\tremaining: 7.2s\n"
          ]
        },
        {
          "output_type": "stream",
          "name": "stdout",
          "text": [
            "bestTest = 330.1953809\nbestIteration = 368\nShrink model to first 369 iterations.\nSeed 42 Fold 1 done. tr=1298 va=96\n"
          ]
        },
        {
          "output_type": "stream",
          "name": "stdout",
          "text": [
            "0:\tlearn: 113.3792734\ttest: 137.2503866\tbest: 137.2503866 (0)\ttotal: 12ms\tremaining: 30s\n"
          ]
        },
        {
          "output_type": "stream",
          "name": "stdout",
          "text": [
            "200:\tlearn: 112.0014084\ttest: 136.0018514\tbest: 136.0018514 (200)\ttotal: 2.3s\tremaining: 26.3s\n"
          ]
        },
        {
          "output_type": "stream",
          "name": "stdout",
          "text": [
            "400:\tlearn: 110.6412028\ttest: 134.8946330\tbest: 134.8946330 (400)\ttotal: 4.59s\tremaining: 24s\n"
          ]
        },
        {
          "output_type": "stream",
          "name": "stdout",
          "text": [
            "600:\tlearn: 109.3371774\ttest: 133.7479960\tbest: 133.7479960 (600)\ttotal: 6.89s\tremaining: 21.8s\n"
          ]
        },
        {
          "output_type": "stream",
          "name": "stdout",
          "text": [
            "800:\tlearn: 108.0626083\ttest: 132.5810750\tbest: 132.5810750 (800)\ttotal: 9.18s\tremaining: 19.5s\n"
          ]
        },
        {
          "output_type": "stream",
          "name": "stdout",
          "text": [
            "1000:\tlearn: 106.8303159\ttest: 131.3934326\tbest: 131.3934326 (1000)\ttotal: 11.5s\tremaining: 17.2s\n"
          ]
        },
        {
          "output_type": "stream",
          "name": "stdout",
          "text": [
            "1200:\tlearn: 105.6493644\ttest: 130.2308044\tbest: 130.2308044 (1200)\ttotal: 13.8s\tremaining: 14.9s\n"
          ]
        },
        {
          "output_type": "stream",
          "name": "stdout",
          "text": [
            "1400:\tlearn: 104.5259173\ttest: 129.1159871\tbest: 129.1159871 (1400)\ttotal: 16.1s\tremaining: 12.6s\n"
          ]
        },
        {
          "output_type": "stream",
          "name": "stdout",
          "text": [
            "1600:\tlearn: 103.4375361\ttest: 127.9957479\tbest: 127.9957479 (1600)\ttotal: 18.4s\tremaining: 10.3s\n"
          ]
        },
        {
          "output_type": "stream",
          "name": "stdout",
          "text": [
            "1800:\tlearn: 102.3955364\ttest: 126.8793335\tbest: 126.8793335 (1800)\ttotal: 20.7s\tremaining: 8.03s\n"
          ]
        },
        {
          "output_type": "stream",
          "name": "stdout",
          "text": [
            "2000:\tlearn: 101.3733147\ttest: 125.8017069\tbest: 125.8017069 (2000)\ttotal: 23s\tremaining: 5.74s\n"
          ]
        },
        {
          "output_type": "stream",
          "name": "stdout",
          "text": [
            "2200:\tlearn: 100.3739828\ttest: 124.7466838\tbest: 124.7466838 (2200)\ttotal: 25.3s\tremaining: 3.44s\n"
          ]
        },
        {
          "output_type": "stream",
          "name": "stdout",
          "text": [
            "2400:\tlearn: 99.4191665\ttest: 123.7038778\tbest: 123.7038778 (2400)\ttotal: 27.6s\tremaining: 1.14s\n"
          ]
        },
        {
          "output_type": "stream",
          "name": "stdout",
          "text": [
            "2499:\tlearn: 98.9718497\ttest: 123.1899312\tbest: 123.1899312 (2499)\ttotal: 28.7s\tremaining: 0us\nbestTest = 123.1899312\nbestIteration = 2499\n"
          ]
        },
        {
          "output_type": "stream",
          "name": "stdout",
          "text": [
            "0:\tlearn: 309.0070982\ttest: 313.4230036\tbest: 313.4230036 (0)\ttotal: 9.86ms\tremaining: 11.8s\n"
          ]
        },
        {
          "output_type": "stream",
          "name": "stdout",
          "text": [
            "bestTest = 313.4230036\nbestIteration = 0\nShrink model to first 1 iterations.\nSeed 42 Fold 2 done. tr=1298 va=96\n"
          ]
        },
        {
          "output_type": "stream",
          "name": "stdout",
          "text": [
            "0:\tlearn: 112.8750721\ttest: 167.3805444\tbest: 167.3805444 (0)\ttotal: 12.2ms\tremaining: 30.4s\n"
          ]
        },
        {
          "output_type": "stream",
          "name": "stdout",
          "text": [
            "200:\tlearn: 111.4693265\ttest: 165.9102928\tbest: 165.9102928 (200)\ttotal: 2.28s\tremaining: 26.1s\n"
          ]
        },
        {
          "output_type": "stream",
          "name": "stdout",
          "text": [
            "400:\tlearn: 110.0991425\ttest: 164.4984249\tbest: 164.4984249 (400)\ttotal: 4.56s\tremaining: 23.9s\n"
          ]
        },
        {
          "output_type": "stream",
          "name": "stdout",
          "text": [
            "600:\tlearn: 108.7739599\ttest: 163.1660366\tbest: 163.1660366 (600)\ttotal: 6.86s\tremaining: 21.7s\n"
          ]
        },
        {
          "output_type": "stream",
          "name": "stdout",
          "text": [
            "800:\tlearn: 107.4811203\ttest: 161.8943527\tbest: 161.8943527 (800)\ttotal: 9.14s\tremaining: 19.4s\n"
          ]
        },
        {
          "output_type": "stream",
          "name": "stdout",
          "text": [
            "1000:\tlearn: 106.2525581\ttest: 160.6635795\tbest: 160.6635795 (1000)\ttotal: 11.4s\tremaining: 17.1s\n"
          ]
        },
        {
          "output_type": "stream",
          "name": "stdout",
          "text": [
            "1200:\tlearn: 105.0781010\ttest: 159.4946867\tbest: 159.4946867 (1200)\ttotal: 13.7s\tremaining: 14.9s\n"
          ]
        },
        {
          "output_type": "stream",
          "name": "stdout",
          "text": [
            "1400:\tlearn: 103.9651950\ttest: 158.3766591\tbest: 158.3766591 (1400)\ttotal: 16s\tremaining: 12.6s\n"
          ]
        },
        {
          "output_type": "stream",
          "name": "stdout",
          "text": [
            "1600:\tlearn: 102.8838514\ttest: 157.2754116\tbest: 157.2754116 (1600)\ttotal: 18.3s\tremaining: 10.3s\n"
          ]
        },
        {
          "output_type": "stream",
          "name": "stdout",
          "text": [
            "1800:\tlearn: 101.8330851\ttest: 156.1931809\tbest: 156.1931809 (1800)\ttotal: 20.6s\tremaining: 8s\n"
          ]
        },
        {
          "output_type": "stream",
          "name": "stdout",
          "text": [
            "2000:\tlearn: 100.8141334\ttest: 155.1624034\tbest: 155.1624034 (2000)\ttotal: 22.9s\tremaining: 5.71s\n"
          ]
        },
        {
          "output_type": "stream",
          "name": "stdout",
          "text": [
            "2200:\tlearn: 99.8184389\ttest: 154.1746787\tbest: 154.1746787 (2200)\ttotal: 25.2s\tremaining: 3.43s\n"
          ]
        },
        {
          "output_type": "stream",
          "name": "stdout",
          "text": [
            "2400:\tlearn: 98.8692352\ttest: 153.1848013\tbest: 153.1848013 (2400)\ttotal: 27.6s\tremaining: 1.14s\n"
          ]
        },
        {
          "output_type": "stream",
          "name": "stdout",
          "text": [
            "2499:\tlearn: 98.4290089\ttest: 152.7128486\tbest: 152.7128486 (2499)\ttotal: 28.7s\tremaining: 0us\nbestTest = 152.7128486\nbestIteration = 2499\n"
          ]
        },
        {
          "output_type": "stream",
          "name": "stdout",
          "text": [
            "0:\tlearn: 310.4777306\ttest: 361.7568393\tbest: 361.7568393 (0)\ttotal: 10.5ms\tremaining: 12.6s\n"
          ]
        },
        {
          "output_type": "stream",
          "name": "stdout",
          "text": [
            "bestTest = 361.7568393\nbestIteration = 0\nShrink model to first 1 iterations.\nSeed 42 Fold 3 done. tr=1301 va=93\n"
          ]
        },
        {
          "output_type": "stream",
          "name": "stdout",
          "text": [
            "0:\tlearn: 110.0629684\ttest: 230.5955141\tbest: 230.5955141 (0)\ttotal: 12.6ms\tremaining: 31.5s\n"
          ]
        },
        {
          "output_type": "stream",
          "name": "stdout",
          "text": [
            "200:\tlearn: 108.6796815\ttest: 229.2131636\tbest: 229.2131636 (200)\ttotal: 2.33s\tremaining: 26.7s\n"
          ]
        },
        {
          "output_type": "stream",
          "name": "stdout",
          "text": [
            "400:\tlearn: 107.3161991\ttest: 227.8449891\tbest: 227.8449891 (400)\ttotal: 4.68s\tremaining: 24.5s\n"
          ]
        },
        {
          "output_type": "stream",
          "name": "stdout",
          "text": [
            "600:\tlearn: 106.0412543\ttest: 226.5540365\tbest: 226.5540365 (600)\ttotal: 7s\tremaining: 22.1s\n"
          ]
        },
        {
          "output_type": "stream",
          "name": "stdout",
          "text": [
            "800:\tlearn: 104.8186611\ttest: 225.2495380\tbest: 225.2495380 (800)\ttotal: 9.31s\tremaining: 19.8s\n"
          ]
        },
        {
          "output_type": "stream",
          "name": "stdout",
          "text": [
            "1000:\tlearn: 103.6175298\ttest: 223.9558972\tbest: 223.9558972 (1000)\ttotal: 11.6s\tremaining: 17.4s\n"
          ]
        },
        {
          "output_type": "stream",
          "name": "stdout",
          "text": [
            "1200:\tlearn: 102.4525365\ttest: 222.6626764\tbest: 222.6626764 (1200)\ttotal: 13.9s\tremaining: 15.1s\n"
          ]
        },
        {
          "output_type": "stream",
          "name": "stdout",
          "text": [
            "1400:\tlearn: 101.3467045\ttest: 221.4185148\tbest: 221.4185148 (1400)\ttotal: 16.3s\tremaining: 12.8s\n"
          ]
        },
        {
          "output_type": "stream",
          "name": "stdout",
          "text": [
            "1600:\tlearn: 100.2847329\ttest: 220.2057502\tbest: 220.2057502 (1600)\ttotal: 18.6s\tremaining: 10.4s\n"
          ]
        },
        {
          "output_type": "stream",
          "name": "stdout",
          "text": [
            "1800:\tlearn: 99.2525221\ttest: 219.0361433\tbest: 219.0361433 (1800)\ttotal: 20.9s\tremaining: 8.12s\n"
          ]
        },
        {
          "output_type": "stream",
          "name": "stdout",
          "text": [
            "2000:\tlearn: 98.2491293\ttest: 217.8888819\tbest: 217.8888819 (2000)\ttotal: 23.2s\tremaining: 5.8s\n"
          ]
        },
        {
          "output_type": "stream",
          "name": "stdout",
          "text": [
            "2200:\tlearn: 97.2825531\ttest: 216.7311828\tbest: 216.7311828 (2200)\ttotal: 25.5s\tremaining: 3.47s\n"
          ]
        },
        {
          "output_type": "stream",
          "name": "stdout",
          "text": [
            "2400:\tlearn: 96.3644432\ttest: 215.6257560\tbest: 215.6257560 (2400)\ttotal: 27.9s\tremaining: 1.15s\n"
          ]
        },
        {
          "output_type": "stream",
          "name": "stdout",
          "text": [
            "2499:\tlearn: 95.9239407\ttest: 215.0921539\tbest: 215.0921539 (2499)\ttotal: 29s\tremaining: 0us\nbestTest = 215.0921539\nbestIteration = 2499\n"
          ]
        },
        {
          "output_type": "stream",
          "name": "stdout",
          "text": [
            "0:\tlearn: 305.0458768\ttest: 616.8901194\tbest: 616.8901194 (0)\ttotal: 10ms\tremaining: 12s\n"
          ]
        },
        {
          "output_type": "stream",
          "name": "stdout",
          "text": [
            "200:\tlearn: 152.1546606\ttest: 577.7536775\tbest: 577.7536775 (200)\ttotal: 1.88s\tremaining: 9.32s\n"
          ]
        },
        {
          "output_type": "stream",
          "name": "stdout",
          "text": [
            "400:\tlearn: 132.5646913\ttest: 523.5804772\tbest: 523.5804772 (400)\ttotal: 3.75s\tremaining: 7.48s\n"
          ]
        },
        {
          "output_type": "stream",
          "name": "stdout",
          "text": [
            "600:\tlearn: 122.9508004\ttest: 492.9163160\tbest: 492.9013947 (599)\ttotal: 5.57s\tremaining: 5.55s\n"
          ]
        },
        {
          "output_type": "stream",
          "name": "stdout",
          "text": [
            "800:\tlearn: 119.9124585\ttest: 461.3508683\tbest: 461.3466497 (798)\ttotal: 7.47s\tremaining: 3.72s\n"
          ]
        },
        {
          "output_type": "stream",
          "name": "stdout",
          "text": [
            "1000:\tlearn: 119.4366034\ttest: 456.8850588\tbest: 456.8850588 (1000)\ttotal: 9.3s\tremaining: 1.85s\n"
          ]
        },
        {
          "output_type": "stream",
          "name": "stdout",
          "text": [
            "1199:\tlearn: 116.0243819\ttest: 445.9223135\tbest: 445.9223135 (1199)\ttotal: 11.1s\tremaining: 0us\nbestTest = 445.9223135\nbestIteration = 1199\nSeed 42 Fold 4 done. tr=1301 va=93\nSeed bag 2/5 (seed=123)\n"
          ]
        },
        {
          "output_type": "stream",
          "name": "stdout",
          "text": [
            "0:\tlearn: 113.2494222\ttest: 149.3354289\tbest: 149.3354289 (0)\ttotal: 12.3ms\tremaining: 30.7s\n"
          ]
        },
        {
          "output_type": "stream",
          "name": "stdout",
          "text": [
            "200:\tlearn: 111.8925992\ttest: 147.9676819\tbest: 147.9676819 (200)\ttotal: 2.28s\tremaining: 26.1s\n"
          ]
        },
        {
          "output_type": "stream",
          "name": "stdout",
          "text": [
            "400:\tlearn: 110.5528457\ttest: 146.6070964\tbest: 146.6070964 (400)\ttotal: 4.55s\tremaining: 23.8s\n"
          ]
        },
        {
          "output_type": "stream",
          "name": "stdout",
          "text": [
            "600:\tlearn: 109.2564763\ttest: 145.2236226\tbest: 145.2236226 (600)\ttotal: 6.82s\tremaining: 21.5s\n"
          ]
        },
        {
          "output_type": "stream",
          "name": "stdout",
          "text": [
            "800:\tlearn: 107.9973878\ttest: 143.8439738\tbest: 143.8439738 (800)\ttotal: 9.09s\tremaining: 19.3s\n"
          ]
        },
        {
          "output_type": "stream",
          "name": "stdout",
          "text": [
            "1000:\tlearn: 106.7870040\ttest: 142.4863688\tbest: 142.4863688 (1000)\ttotal: 11.4s\tremaining: 17s\n"
          ]
        },
        {
          "output_type": "stream",
          "name": "stdout",
          "text": [
            "1200:\tlearn: 105.6409861\ttest: 141.1603800\tbest: 141.1603800 (1200)\ttotal: 13.6s\tremaining: 14.8s\n"
          ]
        },
        {
          "output_type": "stream",
          "name": "stdout",
          "text": [
            "1400:\tlearn: 104.5442147\ttest: 139.8758240\tbest: 139.8758240 (1400)\ttotal: 15.9s\tremaining: 12.5s\n"
          ]
        },
        {
          "output_type": "stream",
          "name": "stdout",
          "text": [
            "1600:\tlearn: 103.4924162\ttest: 138.6432088\tbest: 138.6432088 (1600)\ttotal: 18.2s\tremaining: 10.2s\n"
          ]
        },
        {
          "output_type": "stream",
          "name": "stdout",
          "text": [
            "1800:\tlearn: 102.4734327\ttest: 137.4499512\tbest: 137.4499512 (1800)\ttotal: 20.5s\tremaining: 7.95s\n"
          ]
        },
        {
          "output_type": "stream",
          "name": "stdout",
          "text": [
            "2000:\tlearn: 101.4860121\ttest: 136.2883301\tbest: 136.2883301 (2000)\ttotal: 22.8s\tremaining: 5.67s\n"
          ]
        },
        {
          "output_type": "stream",
          "name": "stdout",
          "text": [
            "2200:\tlearn: 100.5380573\ttest: 135.1169840\tbest: 135.1169840 (2200)\ttotal: 25s\tremaining: 3.4s\n"
          ]
        },
        {
          "output_type": "stream",
          "name": "stdout",
          "text": [
            "2400:\tlearn: 99.6334866\ttest: 133.9735514\tbest: 133.9735514 (2400)\ttotal: 27.3s\tremaining: 1.13s\n"
          ]
        },
        {
          "output_type": "stream",
          "name": "stdout",
          "text": [
            "2499:\tlearn: 99.1996581\ttest: 133.3987122\tbest: 133.3987122 (2499)\ttotal: 28.5s\tremaining: 0us\nbestTest = 133.3987122\nbestIteration = 2499\n"
          ]
        },
        {
          "output_type": "stream",
          "name": "stdout",
          "text": [
            "0:\tlearn: 310.6362872\ttest: 360.4492423\tbest: 360.4492423 (0)\ttotal: 10.1ms\tremaining: 12.2s\n"
          ]
        },
        {
          "output_type": "stream",
          "name": "stdout",
          "text": [
            "200:\tlearn: 155.5911091\ttest: 324.3085593\tbest: 324.3085593 (200)\ttotal: 1.88s\tremaining: 9.33s\n"
          ]
        },
        {
          "output_type": "stream",
          "name": "stdout",
          "text": [
            "400:\tlearn: 138.9629319\ttest: 307.8678525\tbest: 307.8678525 (400)\ttotal: 3.78s\tremaining: 7.53s\n"
          ]
        },
        {
          "output_type": "stream",
          "name": "stdout",
          "text": [
            "600:\tlearn: 131.4188132\ttest: 293.3884300\tbest: 293.3884300 (600)\ttotal: 5.68s\tremaining: 5.67s\n"
          ]
        },
        {
          "output_type": "stream",
          "name": "stdout",
          "text": [
            "800:\tlearn: 128.1466441\ttest: 290.2236566\tbest: 290.1996619 (797)\ttotal: 7.57s\tremaining: 3.77s\n"
          ]
        },
        {
          "output_type": "stream",
          "name": "stdout",
          "text": [
            "1000:\tlearn: 123.8065492\ttest: 284.2599676\tbest: 284.2596011 (999)\ttotal: 9.49s\tremaining: 1.89s\n"
          ]
        },
        {
          "output_type": "stream",
          "name": "stdout",
          "text": [
            "1199:\tlearn: 121.9853612\ttest: 277.5163471\tbest: 277.5086898 (1198)\ttotal: 11.4s\tremaining: 0us\nbestTest = 277.5086898\nbestIteration = 1198\nShrink model to first 1199 iterations.\nSeed 123 Fold 0 done. tr=1298 va=96\n"
          ]
        },
        {
          "output_type": "stream",
          "name": "stdout",
          "text": [
            "0:\tlearn: 113.0471398\ttest: 171.3217367\tbest: 171.3217367 (0)\ttotal: 12.2ms\tremaining: 30.5s\n"
          ]
        },
        {
          "output_type": "stream",
          "name": "stdout",
          "text": [
            "200:\tlearn: 111.7126348\ttest: 169.9483643\tbest: 169.9483643 (200)\ttotal: 2.35s\tremaining: 26.9s\n"
          ]
        },
        {
          "output_type": "stream",
          "name": "stdout",
          "text": [
            "400:\tlearn: 110.3874831\ttest: 168.6022644\tbest: 168.6022644 (400)\ttotal: 4.64s\tremaining: 24.3s\n"
          ]
        },
        {
          "output_type": "stream",
          "name": "stdout",
          "text": [
            "600:\tlearn: 109.0965668\ttest: 167.2885640\tbest: 167.2885640 (600)\ttotal: 6.93s\tremaining: 21.9s\n"
          ]
        },
        {
          "output_type": "stream",
          "name": "stdout",
          "text": [
            "800:\tlearn: 107.8552822\ttest: 165.9364421\tbest: 165.9364421 (800)\ttotal: 9.2s\tremaining: 19.5s\n"
          ]
        },
        {
          "output_type": "stream",
          "name": "stdout",
          "text": [
            "1000:\tlearn: 106.6568639\ttest: 164.5793457\tbest: 164.5793457 (1000)\ttotal: 11.5s\tremaining: 17.2s\n"
          ]
        },
        {
          "output_type": "stream",
          "name": "stdout",
          "text": [
            "1200:\tlearn: 105.4990009\ttest: 163.2324727\tbest: 163.2324727 (1200)\ttotal: 13.8s\tremaining: 14.9s\n"
          ]
        },
        {
          "output_type": "stream",
          "name": "stdout",
          "text": [
            "1400:\tlearn: 104.3831375\ttest: 161.8926290\tbest: 161.8926290 (1400)\ttotal: 16.1s\tremaining: 12.6s\n"
          ]
        },
        {
          "output_type": "stream",
          "name": "stdout",
          "text": [
            "1600:\tlearn: 103.3030383\ttest: 160.5797119\tbest: 160.5797119 (1600)\ttotal: 18.4s\tremaining: 10.3s\n"
          ]
        },
        {
          "output_type": "stream",
          "name": "stdout",
          "text": [
            "1800:\tlearn: 102.2556457\ttest: 159.3412679\tbest: 159.3412679 (1800)\ttotal: 20.7s\tremaining: 8.02s\n"
          ]
        },
        {
          "output_type": "stream",
          "name": "stdout",
          "text": [
            "2000:\tlearn: 101.2296442\ttest: 158.1271667\tbest: 158.1271667 (2000)\ttotal: 23s\tremaining: 5.72s\n"
          ]
        },
        {
          "output_type": "stream",
          "name": "stdout",
          "text": [
            "2200:\tlearn: 100.2239022\ttest: 156.9573161\tbest: 156.9573161 (2200)\ttotal: 25.2s\tremaining: 3.43s\n"
          ]
        },
        {
          "output_type": "stream",
          "name": "stdout",
          "text": [
            "2400:\tlearn: 99.2763025\ttest: 155.8149007\tbest: 155.8149007 (2400)\ttotal: 27.5s\tremaining: 1.14s\n"
          ]
        },
        {
          "output_type": "stream",
          "name": "stdout",
          "text": [
            "2499:\tlearn: 98.8337526\ttest: 155.2814738\tbest: 155.2814738 (2499)\ttotal: 28.7s\tremaining: 0us\nbestTest = 155.2814738\nbestIteration = 2499\n"
          ]
        },
        {
          "output_type": "stream",
          "name": "stdout",
          "text": [
            "0:\tlearn: 309.2971106\ttest: 349.8404547\tbest: 349.8404547 (0)\ttotal: 9.44ms\tremaining: 11.3s\n"
          ]
        },
        {
          "output_type": "stream",
          "name": "stdout",
          "text": [
            "bestTest = 349.8404547\nbestIteration = 0\nShrink model to first 1 iterations.\nSeed 123 Fold 1 done. tr=1298 va=96\n"
          ]
        },
        {
          "output_type": "stream",
          "name": "stdout",
          "text": [
            "0:\tlearn: 113.3790808\ttest: 137.2499390\tbest: 137.2499390 (0)\ttotal: 12ms\tremaining: 30.1s\n"
          ]
        },
        {
          "output_type": "stream",
          "name": "stdout",
          "text": [
            "200:\tlearn: 111.9998555\ttest: 135.9886678\tbest: 135.9886678 (200)\ttotal: 2.29s\tremaining: 26.3s\n"
          ]
        },
        {
          "output_type": "stream",
          "name": "stdout",
          "text": [
            "400:\tlearn: 110.6462105\ttest: 134.8299357\tbest: 134.8299357 (400)\ttotal: 4.62s\tremaining: 24.2s\n"
          ]
        },
        {
          "output_type": "stream",
          "name": "stdout",
          "text": [
            "600:\tlearn: 109.3422694\ttest: 133.6948853\tbest: 133.6948853 (600)\ttotal: 6.93s\tremaining: 21.9s\n"
          ]
        },
        {
          "output_type": "stream",
          "name": "stdout",
          "text": [
            "800:\tlearn: 108.0591535\ttest: 132.5084534\tbest: 132.5084534 (800)\ttotal: 9.24s\tremaining: 19.6s\n"
          ]
        },
        {
          "output_type": "stream",
          "name": "stdout",
          "text": [
            "1000:\tlearn: 106.8299909\ttest: 131.3635763\tbest: 131.3635763 (1000)\ttotal: 11.6s\tremaining: 17.3s\n"
          ]
        },
        {
          "output_type": "stream",
          "name": "stdout",
          "text": [
            "1200:\tlearn: 105.6525905\ttest: 130.2397970\tbest: 130.2397970 (1200)\ttotal: 13.9s\tremaining: 15s\n"
          ]
        },
        {
          "output_type": "stream",
          "name": "stdout",
          "text": [
            "1400:\tlearn: 104.5206568\ttest: 129.1230876\tbest: 129.1230876 (1400)\ttotal: 16.2s\tremaining: 12.7s\n"
          ]
        },
        {
          "output_type": "stream",
          "name": "stdout",
          "text": [
            "1600:\tlearn: 103.4292662\ttest: 127.9854838\tbest: 127.9854838 (1600)\ttotal: 18.5s\tremaining: 10.4s\n"
          ]
        },
        {
          "output_type": "stream",
          "name": "stdout",
          "text": [
            "1800:\tlearn: 102.3863877\ttest: 126.9072469\tbest: 126.9072469 (1800)\ttotal: 20.8s\tremaining: 8.07s\n"
          ]
        },
        {
          "output_type": "stream",
          "name": "stdout",
          "text": [
            "2000:\tlearn: 101.3614936\ttest: 125.8220418\tbest: 125.8220418 (2000)\ttotal: 23.1s\tremaining: 5.76s\n"
          ]
        },
        {
          "output_type": "stream",
          "name": "stdout",
          "text": [
            "2200:\tlearn: 100.3511953\ttest: 124.7488200\tbest: 124.7488200 (2200)\ttotal: 25.4s\tremaining: 3.45s\n"
          ]
        },
        {
          "output_type": "stream",
          "name": "stdout",
          "text": [
            "2400:\tlearn: 99.3857136\ttest: 123.7001648\tbest: 123.7001648 (2400)\ttotal: 27.7s\tremaining: 1.14s\n"
          ]
        },
        {
          "output_type": "stream",
          "name": "stdout",
          "text": [
            "2499:\tlearn: 98.9304218\ttest: 123.1724447\tbest: 123.1724447 (2499)\ttotal: 28.9s\tremaining: 0us\nbestTest = 123.1724447\nbestIteration = 2499\n"
          ]
        },
        {
          "output_type": "stream",
          "name": "stdout",
          "text": [
            "0:\tlearn: 308.4479863\ttest: 313.3625097\tbest: 313.3625097 (0)\ttotal: 9.91ms\tremaining: 11.9s\n"
          ]
        },
        {
          "output_type": "stream",
          "name": "stdout",
          "text": [
            "bestTest = 313.3625097\nbestIteration = 0\nShrink model to first 1 iterations.\nSeed 123 Fold 2 done. tr=1298 va=96\n"
          ]
        },
        {
          "output_type": "stream",
          "name": "stdout",
          "text": [
            "0:\tlearn: 112.8753002\ttest: 167.3803238\tbest: 167.3803238 (0)\ttotal: 12.7ms\tremaining: 31.7s\n"
          ]
        },
        {
          "output_type": "stream",
          "name": "stdout",
          "text": [
            "200:\tlearn: 111.4729535\ttest: 165.9193548\tbest: 165.9193548 (200)\ttotal: 2.39s\tremaining: 27.4s\n"
          ]
        },
        {
          "output_type": "stream",
          "name": "stdout",
          "text": [
            "400:\tlearn: 110.1060482\ttest: 164.5042843\tbest: 164.5042843 (400)\ttotal: 4.82s\tremaining: 25.2s\n"
          ]
        },
        {
          "output_type": "stream",
          "name": "stdout",
          "text": [
            "600:\tlearn: 108.7810578\ttest: 163.1659631\tbest: 163.1659631 (600)\ttotal: 7.21s\tremaining: 22.8s\n"
          ]
        },
        {
          "output_type": "stream",
          "name": "stdout",
          "text": [
            "800:\tlearn: 107.4960607\ttest: 161.8934182\tbest: 161.8934182 (800)\ttotal: 9.54s\tremaining: 20.2s\n"
          ]
        },
        {
          "output_type": "stream",
          "name": "stdout",
          "text": [
            "1000:\tlearn: 106.2712817\ttest: 160.6627184\tbest: 160.6627184 (1000)\ttotal: 11.9s\tremaining: 17.8s\n"
          ]
        },
        {
          "output_type": "stream",
          "name": "stdout",
          "text": [
            "1200:\tlearn: 105.0997910\ttest: 159.4739898\tbest: 159.4739898 (1200)\ttotal: 14.2s\tremaining: 15.4s\n"
          ]
        },
        {
          "output_type": "stream",
          "name": "stdout",
          "text": [
            "1400:\tlearn: 103.9631533\ttest: 158.3528016\tbest: 158.3528016 (1400)\ttotal: 16.5s\tremaining: 13s\n"
          ]
        },
        {
          "output_type": "stream",
          "name": "stdout",
          "text": [
            "1600:\tlearn: 102.8776902\ttest: 157.2660240\tbest: 157.2660240 (1600)\ttotal: 18.8s\tremaining: 10.6s\n"
          ]
        },
        {
          "output_type": "stream",
          "name": "stdout",
          "text": [
            "1800:\tlearn: 101.8283532\ttest: 156.1909757\tbest: 156.1909757 (1800)\ttotal: 21.2s\tremaining: 8.21s\n"
          ]
        },
        {
          "output_type": "stream",
          "name": "stdout",
          "text": [
            "2000:\tlearn: 100.8052940\ttest: 155.1669397\tbest: 155.1669397 (2000)\ttotal: 23.5s\tremaining: 5.85s\n"
          ]
        },
        {
          "output_type": "stream",
          "name": "stdout",
          "text": [
            "2200:\tlearn: 99.8083085\ttest: 154.1504221\tbest: 154.1504221 (2200)\ttotal: 25.8s\tremaining: 3.5s\n"
          ]
        },
        {
          "output_type": "stream",
          "name": "stdout",
          "text": [
            "2400:\tlearn: 98.8483738\ttest: 153.1501596\tbest: 153.1501596 (2400)\ttotal: 28.1s\tremaining: 1.16s\n"
          ]
        },
        {
          "output_type": "stream",
          "name": "stdout",
          "text": [
            "2499:\tlearn: 98.4087721\ttest: 152.6738386\tbest: 152.6738386 (2499)\ttotal: 29.2s\tremaining: 0us\nbestTest = 152.6738386\nbestIteration = 2499\n"
          ]
        },
        {
          "output_type": "stream",
          "name": "stdout",
          "text": [
            "0:\tlearn: 309.6231127\ttest: 362.2772211\tbest: 362.2772211 (0)\ttotal: 10.4ms\tremaining: 12.4s\n"
          ]
        },
        {
          "output_type": "stream",
          "name": "stdout",
          "text": [
            "bestTest = 362.2772211\nbestIteration = 0\nShrink model to first 1 iterations.\nSeed 123 Fold 3 done. tr=1301 va=93\n"
          ]
        },
        {
          "output_type": "stream",
          "name": "stdout",
          "text": [
            "0:\tlearn: 110.0631605\ttest: 230.5959551\tbest: 230.5959551 (0)\ttotal: 12.2ms\tremaining: 30.5s\n"
          ]
        },
        {
          "output_type": "stream",
          "name": "stdout",
          "text": [
            "200:\tlearn: 108.6731000\ttest: 229.2266045\tbest: 229.2266045 (200)\ttotal: 2.29s\tremaining: 26.1s\n"
          ]
        },
        {
          "output_type": "stream",
          "name": "stdout",
          "text": [
            "400:\tlearn: 107.3094975\ttest: 227.8791163\tbest: 227.8791163 (400)\ttotal: 4.6s\tremaining: 24.1s\n"
          ]
        },
        {
          "output_type": "stream",
          "name": "stdout",
          "text": [
            "600:\tlearn: 106.0303252\ttest: 226.6249580\tbest: 226.6249580 (600)\ttotal: 6.9s\tremaining: 21.8s\n"
          ]
        },
        {
          "output_type": "stream",
          "name": "stdout",
          "text": [
            "800:\tlearn: 104.7961664\ttest: 225.3424479\tbest: 225.3424479 (800)\ttotal: 9.23s\tremaining: 19.6s\n"
          ]
        },
        {
          "output_type": "stream",
          "name": "stdout",
          "text": [
            "1000:\tlearn: 103.5931735\ttest: 224.0625420\tbest: 224.0625420 (1000)\ttotal: 11.6s\tremaining: 17.3s\n"
          ]
        },
        {
          "output_type": "stream",
          "name": "stdout",
          "text": [
            "1200:\tlearn: 102.4277119\ttest: 222.8173723\tbest: 222.8173723 (1200)\ttotal: 13.9s\tremaining: 15s\n"
          ]
        },
        {
          "output_type": "stream",
          "name": "stdout",
          "text": [
            "1400:\tlearn: 101.3188893\ttest: 221.6009115\tbest: 221.6009115 (1400)\ttotal: 16.2s\tremaining: 12.7s\n"
          ]
        },
        {
          "output_type": "stream",
          "name": "stdout",
          "text": [
            "1600:\tlearn: 100.2559930\ttest: 220.4214550\tbest: 220.4214550 (1600)\ttotal: 18.5s\tremaining: 10.4s\n"
          ]
        },
        {
          "output_type": "stream",
          "name": "stdout",
          "text": [
            "1800:\tlearn: 99.2159877\ttest: 219.2588206\tbest: 219.2588206 (1800)\ttotal: 20.8s\tremaining: 8.09s\n"
          ]
        },
        {
          "output_type": "stream",
          "name": "stdout",
          "text": [
            "2000:\tlearn: 98.1995821\ttest: 218.0948421\tbest: 218.0948421 (2000)\ttotal: 23.1s\tremaining: 5.77s\n"
          ]
        },
        {
          "output_type": "stream",
          "name": "stdout",
          "text": [
            "2200:\tlearn: 97.2355640\ttest: 217.0012181\tbest: 217.0012181 (2200)\ttotal: 25.5s\tremaining: 3.46s\n"
          ]
        },
        {
          "output_type": "stream",
          "name": "stdout",
          "text": [
            "2400:\tlearn: 96.3157907\ttest: 215.9269993\tbest: 215.9269993 (2400)\ttotal: 27.8s\tremaining: 1.14s\n"
          ]
        },
        {
          "output_type": "stream",
          "name": "stdout",
          "text": [
            "2499:\tlearn: 95.8731385\ttest: 215.4037298\tbest: 215.4037298 (2499)\ttotal: 28.9s\tremaining: 0us\nbestTest = 215.4037298\nbestIteration = 2499\n"
          ]
        },
        {
          "output_type": "stream",
          "name": "stdout",
          "text": [
            "0:\tlearn: 303.6250773\ttest: 617.1290449\tbest: 617.1290449 (0)\ttotal: 10.1ms\tremaining: 12.1s\n"
          ]
        },
        {
          "output_type": "stream",
          "name": "stdout",
          "text": [
            "200:\tlearn: 159.0949615\ttest: 527.1104024\tbest: 527.1104024 (200)\ttotal: 1.85s\tremaining: 9.18s\n"
          ]
        },
        {
          "output_type": "stream",
          "name": "stdout",
          "text": [
            "400:\tlearn: 136.3064098\ttest: 486.0318588\tbest: 486.0318588 (400)\ttotal: 3.73s\tremaining: 7.43s\n"
          ]
        },
        {
          "output_type": "stream",
          "name": "stdout",
          "text": [
            "600:\tlearn: 130.0232108\ttest: 471.1728674\tbest: 471.1728674 (600)\ttotal: 5.58s\tremaining: 5.56s\n"
          ]
        },
        {
          "output_type": "stream",
          "name": "stdout",
          "text": [
            "800:\tlearn: 126.2502730\ttest: 464.1631619\tbest: 464.1631619 (800)\ttotal: 7.39s\tremaining: 3.68s\n"
          ]
        },
        {
          "output_type": "stream",
          "name": "stdout",
          "text": [
            "1000:\tlearn: 121.8565644\ttest: 448.0074404\tbest: 448.0074404 (1000)\ttotal: 9.16s\tremaining: 1.82s\n"
          ]
        },
        {
          "output_type": "stream",
          "name": "stdout",
          "text": [
            "1199:\tlearn: 119.3238638\ttest: 446.6488843\tbest: 446.6352099 (1182)\ttotal: 10.9s\tremaining: 0us\nbestTest = 446.6352099\nbestIteration = 1182\nShrink model to first 1183 iterations.\nSeed 123 Fold 4 done. tr=1301 va=93\nSeed bag 3/5 (seed=456)\n"
          ]
        },
        {
          "output_type": "stream",
          "name": "stdout",
          "text": [
            "0:\tlearn: 113.2493740\ttest: 149.3355916\tbest: 149.3355916 (0)\ttotal: 11.6ms\tremaining: 29s\n"
          ]
        },
        {
          "output_type": "stream",
          "name": "stdout",
          "text": [
            "200:\tlearn: 111.8909019\ttest: 147.9579468\tbest: 147.9579468 (200)\ttotal: 2.27s\tremaining: 26s\n"
          ]
        },
        {
          "output_type": "stream",
          "name": "stdout",
          "text": [
            "400:\tlearn: 110.5548440\ttest: 146.6328023\tbest: 146.6328023 (400)\ttotal: 4.58s\tremaining: 24s\n"
          ]
        },
        {
          "output_type": "stream",
          "name": "stdout",
          "text": [
            "600:\tlearn: 109.2599191\ttest: 145.2905375\tbest: 145.2905375 (600)\ttotal: 6.87s\tremaining: 21.7s\n"
          ]
        },
        {
          "output_type": "stream",
          "name": "stdout",
          "text": [
            "800:\tlearn: 108.0033345\ttest: 143.9558614\tbest: 143.9558614 (800)\ttotal: 9.16s\tremaining: 19.4s\n"
          ]
        },
        {
          "output_type": "stream",
          "name": "stdout",
          "text": [
            "1000:\tlearn: 106.7889301\ttest: 142.6068929\tbest: 142.6068929 (1000)\ttotal: 11.5s\tremaining: 17.2s\n"
          ]
        },
        {
          "output_type": "stream",
          "name": "stdout",
          "text": [
            "1200:\tlearn: 105.6381332\ttest: 141.2950541\tbest: 141.2950541 (1200)\ttotal: 13.8s\tremaining: 14.9s\n"
          ]
        },
        {
          "output_type": "stream",
          "name": "stdout",
          "text": [
            "1400:\tlearn: 104.5282646\ttest: 140.0308228\tbest: 140.0308228 (1400)\ttotal: 16s\tremaining: 12.6s\n"
          ]
        },
        {
          "output_type": "stream",
          "name": "stdout",
          "text": [
            "1600:\tlearn: 103.4643683\ttest: 138.8005880\tbest: 138.8005880 (1600)\ttotal: 18.3s\tremaining: 10.3s\n"
          ]
        },
        {
          "output_type": "stream",
          "name": "stdout",
          "text": [
            "1800:\tlearn: 102.4332386\ttest: 137.6083781\tbest: 137.6083781 (1800)\ttotal: 20.6s\tremaining: 8.01s\n"
          ]
        },
        {
          "output_type": "stream",
          "name": "stdout",
          "text": [
            "2000:\tlearn: 101.4296995\ttest: 136.4400736\tbest: 136.4400736 (2000)\ttotal: 22.9s\tremaining: 5.72s\n"
          ]
        },
        {
          "output_type": "stream",
          "name": "stdout",
          "text": [
            "2200:\tlearn: 100.4521861\ttest: 135.3022563\tbest: 135.3022563 (2200)\ttotal: 25.2s\tremaining: 3.43s\n"
          ]
        },
        {
          "output_type": "stream",
          "name": "stdout",
          "text": [
            "2400:\tlearn: 99.5351924\ttest: 134.2161255\tbest: 134.2161255 (2400)\ttotal: 27.5s\tremaining: 1.14s\n"
          ]
        },
        {
          "output_type": "stream",
          "name": "stdout",
          "text": [
            "2499:\tlearn: 99.0981317\ttest: 133.6936646\tbest: 133.6936646 (2499)\ttotal: 28.7s\tremaining: 0us\nbestTest = 133.6936646\nbestIteration = 2499\n"
          ]
        },
        {
          "output_type": "stream",
          "name": "stdout",
          "text": [
            "0:\tlearn: 309.6047881\ttest: 362.3120921\tbest: 362.3120921 (0)\ttotal: 7.97ms\tremaining: 9.56s\n"
          ]
        },
        {
          "output_type": "stream",
          "name": "stdout",
          "text": [
            "200:\tlearn: 152.7353422\ttest: 315.2412766\tbest: 315.2412766 (200)\ttotal: 1.87s\tremaining: 9.29s\n"
          ]
        },
        {
          "output_type": "stream",
          "name": "stdout",
          "text": [
            "400:\tlearn: 134.8549298\ttest: 287.5994846\tbest: 287.5994846 (400)\ttotal: 3.7s\tremaining: 7.37s\n"
          ]
        },
        {
          "output_type": "stream",
          "name": "stdout",
          "text": [
            "600:\tlearn: 130.6433412\ttest: 281.2217856\tbest: 281.2210911 (599)\ttotal: 5.34s\tremaining: 5.33s\n"
          ]
        },
        {
          "output_type": "stream",
          "name": "stdout",
          "text": [
            "800:\tlearn: 126.1832930\ttest: 276.6134487\tbest: 276.6134487 (800)\ttotal: 7.12s\tremaining: 3.55s\n"
          ]
        },
        {
          "output_type": "stream",
          "name": "stdout",
          "text": [
            "1000:\tlearn: 123.1046006\ttest: 273.6967414\tbest: 273.6914797 (998)\ttotal: 8.88s\tremaining: 1.77s\n"
          ]
        },
        {
          "output_type": "stream",
          "name": "stdout",
          "text": [
            "1199:\tlearn: 117.5073941\ttest: 270.1546143\tbest: 270.1546143 (1199)\ttotal: 10.7s\tremaining: 0us\nbestTest = 270.1546143\nbestIteration = 1199\nSeed 456 Fold 0 done. tr=1298 va=96\n"
          ]
        },
        {
          "output_type": "stream",
          "name": "stdout",
          "text": [
            "0:\tlearn: 113.0472482\ttest: 171.3217977\tbest: 171.3217977 (0)\ttotal: 12.5ms\tremaining: 31.1s\n"
          ]
        },
        {
          "output_type": "stream",
          "name": "stdout",
          "text": [
            "200:\tlearn: 111.7083614\ttest: 169.9234823\tbest: 169.9234823 (200)\ttotal: 2.32s\tremaining: 26.6s\n"
          ]
        },
        {
          "output_type": "stream",
          "name": "stdout",
          "text": [
            "400:\tlearn: 110.3893731\ttest: 168.5261841\tbest: 168.5261841 (400)\ttotal: 4.62s\tremaining: 24.2s\n"
          ]
        },
        {
          "output_type": "stream",
          "name": "stdout",
          "text": [
            "600:\tlearn: 109.0976141\ttest: 167.1504313\tbest: 167.1504313 (600)\ttotal: 6.94s\tremaining: 21.9s\n"
          ]
        },
        {
          "output_type": "stream",
          "name": "stdout",
          "text": [
            "800:\tlearn: 107.8525977\ttest: 165.7672729\tbest: 165.7672729 (800)\ttotal: 9.26s\tremaining: 19.6s\n"
          ]
        },
        {
          "output_type": "stream",
          "name": "stdout",
          "text": [
            "1000:\tlearn: 106.6497496\ttest: 164.3910014\tbest: 164.3910014 (1000)\ttotal: 11.6s\tremaining: 17.3s\n"
          ]
        },
        {
          "output_type": "stream",
          "name": "stdout",
          "text": [
            "1200:\tlearn: 105.4959433\ttest: 163.0259196\tbest: 163.0259196 (1200)\ttotal: 13.9s\tremaining: 15s\n"
          ]
        },
        {
          "output_type": "stream",
          "name": "stdout",
          "text": [
            "1400:\tlearn: 104.3757463\ttest: 161.6761678\tbest: 161.6761678 (1400)\ttotal: 16.2s\tremaining: 12.7s\n"
          ]
        },
        {
          "output_type": "stream",
          "name": "stdout",
          "text": [
            "1600:\tlearn: 103.3017142\ttest: 160.3653971\tbest: 160.3653971 (1600)\ttotal: 18.5s\tremaining: 10.4s\n"
          ]
        },
        {
          "output_type": "stream",
          "name": "stdout",
          "text": [
            "1800:\tlearn: 102.2516010\ttest: 159.0700175\tbest: 159.0700175 (1800)\ttotal: 20.8s\tremaining: 8.08s\n"
          ]
        },
        {
          "output_type": "stream",
          "name": "stdout",
          "text": [
            "2000:\tlearn: 101.2312572\ttest: 157.8481649\tbest: 157.8481649 (2000)\ttotal: 23.1s\tremaining: 5.76s\n"
          ]
        },
        {
          "output_type": "stream",
          "name": "stdout",
          "text": [
            "2200:\tlearn: 100.2200320\ttest: 156.6775309\tbest: 156.6775309 (2200)\ttotal: 25.4s\tremaining: 3.45s\n"
          ]
        },
        {
          "output_type": "stream",
          "name": "stdout",
          "text": [
            "2400:\tlearn: 99.2738949\ttest: 155.5153605\tbest: 155.5153605 (2400)\ttotal: 27.7s\tremaining: 1.14s\n"
          ]
        },
        {
          "output_type": "stream",
          "name": "stdout",
          "text": [
            "2499:\tlearn: 98.8327956\ttest: 154.9408671\tbest: 154.9408671 (2499)\ttotal: 28.9s\tremaining: 0us\nbestTest = 154.9408671\nbestIteration = 2499\n"
          ]
        },
        {
          "output_type": "stream",
          "name": "stdout",
          "text": [
            "0:\tlearn: 309.7239489\ttest: 350.5960847\tbest: 350.5960847 (0)\ttotal: 7.76ms\tremaining: 9.3s\n"
          ]
        },
        {
          "output_type": "stream",
          "name": "stdout",
          "text": [
            "bestTest = 349.32068\nbestIteration = 1\nShrink model to first 2 iterations.\nSeed 456 Fold 1 done. tr=1298 va=96\n"
          ]
        },
        {
          "output_type": "stream",
          "name": "stdout",
          "text": [
            "0:\tlearn: 113.3792132\ttest: 137.2504985\tbest: 137.2504985 (0)\ttotal: 12.6ms\tremaining: 31.5s\n"
          ]
        },
        {
          "output_type": "stream",
          "name": "stdout",
          "text": [
            "200:\tlearn: 112.0026603\ttest: 135.9857992\tbest: 135.9857992 (200)\ttotal: 2.3s\tremaining: 26.4s\n"
          ]
        },
        {
          "output_type": "stream",
          "name": "stdout",
          "text": [
            "400:\tlearn: 110.6463670\ttest: 134.8390910\tbest: 134.8390910 (400)\ttotal: 4.62s\tremaining: 24.2s\n"
          ]
        },
        {
          "output_type": "stream",
          "name": "stdout",
          "text": [
            "600:\tlearn: 109.3370570\ttest: 133.6657308\tbest: 133.6657308 (600)\ttotal: 6.92s\tremaining: 21.9s\n"
          ]
        },
        {
          "output_type": "stream",
          "name": "stdout",
          "text": [
            "800:\tlearn: 108.0559394\ttest: 132.4723104\tbest: 132.4723104 (800)\ttotal: 9.23s\tremaining: 19.6s\n"
          ]
        },
        {
          "output_type": "stream",
          "name": "stdout",
          "text": [
            "1000:\tlearn: 106.8301112\ttest: 131.3235474\tbest: 131.3235474 (1000)\ttotal: 11.6s\tremaining: 17.3s\n"
          ]
        },
        {
          "output_type": "stream",
          "name": "stdout",
          "text": [
            "1200:\tlearn: 105.6630634\ttest: 130.1899923\tbest: 130.1899923 (1200)\ttotal: 13.9s\tremaining: 15s\n"
          ]
        },
        {
          "output_type": "stream",
          "name": "stdout",
          "text": [
            "1400:\tlearn: 104.5488733\ttest: 129.0653992\tbest: 129.0653992 (1400)\ttotal: 16.2s\tremaining: 12.7s\n"
          ]
        },
        {
          "output_type": "stream",
          "name": "stdout",
          "text": [
            "1600:\tlearn: 103.4653433\ttest: 127.9381816\tbest: 127.9381816 (1600)\ttotal: 18.5s\tremaining: 10.4s\n"
          ]
        },
        {
          "output_type": "stream",
          "name": "stdout",
          "text": [
            "1800:\tlearn: 102.4187211\ttest: 126.8029277\tbest: 126.8029277 (1800)\ttotal: 20.8s\tremaining: 8.05s\n"
          ]
        },
        {
          "output_type": "stream",
          "name": "stdout",
          "text": [
            "2000:\tlearn: 101.4008451\ttest: 125.7177734\tbest: 125.7177734 (2000)\ttotal: 23.1s\tremaining: 5.75s\n"
          ]
        },
        {
          "output_type": "stream",
          "name": "stdout",
          "text": [
            "2200:\tlearn: 100.4159163\ttest: 124.6560974\tbest: 124.6560974 (2200)\ttotal: 25.4s\tremaining: 3.44s\n"
          ]
        },
        {
          "output_type": "stream",
          "name": "stdout",
          "text": [
            "2400:\tlearn: 99.4688644\ttest: 123.6019287\tbest: 123.6019287 (2400)\ttotal: 27.7s\tremaining: 1.14s\n"
          ]
        },
        {
          "output_type": "stream",
          "name": "stdout",
          "text": [
            "2499:\tlearn: 99.0288906\ttest: 123.0880432\tbest: 123.0880432 (2499)\ttotal: 28.8s\tremaining: 0us\nbestTest = 123.0880432\nbestIteration = 2499\n"
          ]
        },
        {
          "output_type": "stream",
          "name": "stdout",
          "text": [
            "0:\tlearn: 309.3329769\ttest: 313.2744071\tbest: 313.2744071 (0)\ttotal: 10ms\tremaining: 12s\n"
          ]
        },
        {
          "output_type": "stream",
          "name": "stdout",
          "text": [
            "bestTest = 313.2744071\nbestIteration = 0\nShrink model to first 1 iterations.\nSeed 456 Fold 2 done. tr=1298 va=96\n"
          ]
        },
        {
          "output_type": "stream",
          "name": "stdout",
          "text": [
            "0:\tlearn: 112.8750961\ttest: 167.3805234\tbest: 167.3805234 (0)\ttotal: 11.9ms\tremaining: 29.7s\n"
          ]
        },
        {
          "output_type": "stream",
          "name": "stdout",
          "text": [
            "200:\tlearn: 111.4688701\ttest: 165.9252142\tbest: 165.9252142 (200)\ttotal: 2.3s\tremaining: 26.3s\n"
          ]
        },
        {
          "output_type": "stream",
          "name": "stdout",
          "text": [
            "400:\tlearn: 110.1021090\ttest: 164.5404906\tbest: 164.5404906 (400)\ttotal: 4.6s\tremaining: 24.1s\n"
          ]
        },
        {
          "output_type": "stream",
          "name": "stdout",
          "text": [
            "600:\tlearn: 108.7795566\ttest: 163.2394153\tbest: 163.2394153 (600)\ttotal: 6.91s\tremaining: 21.8s\n"
          ]
        },
        {
          "output_type": "stream",
          "name": "stdout",
          "text": [
            "800:\tlearn: 107.4929501\ttest: 161.9974903\tbest: 161.9974903 (800)\ttotal: 9.23s\tremaining: 19.6s\n"
          ]
        },
        {
          "output_type": "stream",
          "name": "stdout",
          "text": [
            "1000:\tlearn: 106.2575183\ttest: 160.7978831\tbest: 160.7978831 (1000)\ttotal: 11.5s\tremaining: 17.3s\n"
          ]
        },
        {
          "output_type": "stream",
          "name": "stdout",
          "text": [
            "1200:\tlearn: 105.0789537\ttest: 159.6416541\tbest: 159.6416541 (1200)\ttotal: 13.8s\tremaining: 15s\n"
          ]
        },
        {
          "output_type": "stream",
          "name": "stdout",
          "text": [
            "1400:\tlearn: 103.9629612\ttest: 158.5375819\tbest: 158.5375819 (1400)\ttotal: 16.1s\tremaining: 12.6s\n"
          ]
        },
        {
          "output_type": "stream",
          "name": "stdout",
          "text": [
            "1600:\tlearn: 102.8744475\ttest: 157.4574513\tbest: 157.4574513 (1600)\ttotal: 18.4s\tremaining: 10.3s\n"
          ]
        },
        {
          "output_type": "stream",
          "name": "stdout",
          "text": [
            "1800:\tlearn: 101.8213153\ttest: 156.3963164\tbest: 156.3963164 (1800)\ttotal: 20.7s\tremaining: 8.04s\n"
          ]
        },
        {
          "output_type": "stream",
          "name": "stdout",
          "text": [
            "2000:\tlearn: 100.8073237\ttest: 155.3922736\tbest: 155.3922736 (2000)\ttotal: 23s\tremaining: 5.74s\n"
          ]
        },
        {
          "output_type": "stream",
          "name": "stdout",
          "text": [
            "2200:\tlearn: 99.8257350\ttest: 154.4181158\tbest: 154.4181158 (2200)\ttotal: 25.3s\tremaining: 3.44s\n"
          ]
        },
        {
          "output_type": "stream",
          "name": "stdout",
          "text": [
            "2400:\tlearn: 98.8743875\ttest: 153.4532720\tbest: 153.4532720 (2400)\ttotal: 27.6s\tremaining: 1.14s\n"
          ]
        },
        {
          "output_type": "stream",
          "name": "stdout",
          "text": [
            "2499:\tlearn: 98.4322636\ttest: 152.9855406\tbest: 152.9855406 (2499)\ttotal: 28.8s\tremaining: 0us\nbestTest = 152.9855406\nbestIteration = 2499\n"
          ]
        },
        {
          "output_type": "stream",
          "name": "stdout",
          "text": [
            "0:\tlearn: 309.0129683\ttest: 361.7923869\tbest: 361.7923869 (0)\ttotal: 10ms\tremaining: 12s\n"
          ]
        },
        {
          "output_type": "stream",
          "name": "stdout",
          "text": [
            "bestTest = 361.7923869\nbestIteration = 0\nShrink model to first 1 iterations.\nSeed 456 Fold 3 done. tr=1301 va=93\n"
          ]
        },
        {
          "output_type": "stream",
          "name": "stdout",
          "text": [
            "0:\tlearn: 110.0628843\ttest: 230.5952411\tbest: 230.5952411 (0)\ttotal: 11.9ms\tremaining: 29.8s\n"
          ]
        },
        {
          "output_type": "stream",
          "name": "stdout",
          "text": [
            "200:\tlearn: 108.6742650\ttest: 229.2500420\tbest: 229.2500420 (200)\ttotal: 2.32s\tremaining: 26.6s\n"
          ]
        },
        {
          "output_type": "stream",
          "name": "stdout",
          "text": [
            "400:\tlearn: 107.3090892\ttest: 227.9315986\tbest: 227.9315986 (400)\ttotal: 4.65s\tremaining: 24.4s\n"
          ]
        },
        {
          "output_type": "stream",
          "name": "stdout",
          "text": [
            "600:\tlearn: 106.0283556\ttest: 226.6983787\tbest: 226.6983787 (600)\ttotal: 6.97s\tremaining: 22s\n"
          ]
        },
        {
          "output_type": "stream",
          "name": "stdout",
          "text": [
            "800:\tlearn: 104.8037327\ttest: 225.4541751\tbest: 225.4541751 (800)\ttotal: 9.28s\tremaining: 19.7s\n"
          ]
        },
        {
          "output_type": "stream",
          "name": "stdout",
          "text": [
            "1000:\tlearn: 103.6032379\ttest: 224.2065062\tbest: 224.2065062 (1000)\ttotal: 11.6s\tremaining: 17.3s\n"
          ]
        },
        {
          "output_type": "stream",
          "name": "stdout",
          "text": [
            "1200:\tlearn: 102.4313989\ttest: 222.9637307\tbest: 222.9637307 (1200)\ttotal: 13.9s\tremaining: 15s\n"
          ]
        },
        {
          "output_type": "stream",
          "name": "stdout",
          "text": [
            "1400:\tlearn: 101.3220119\ttest: 221.7691952\tbest: 221.7691952 (1400)\ttotal: 16.2s\tremaining: 12.7s\n"
          ]
        },
        {
          "output_type": "stream",
          "name": "stdout",
          "text": [
            "1600:\tlearn: 100.2588273\ttest: 220.5705435\tbest: 220.5705435 (1600)\ttotal: 18.5s\tremaining: 10.4s\n"
          ]
        },
        {
          "output_type": "stream",
          "name": "stdout",
          "text": [
            "1800:\tlearn: 99.2215603\ttest: 219.4269573\tbest: 219.4269573 (1800)\ttotal: 20.8s\tremaining: 8.07s\n"
          ]
        },
        {
          "output_type": "stream",
          "name": "stdout",
          "text": [
            "2000:\tlearn: 98.2119043\ttest: 218.3000882\tbest: 218.3000882 (2000)\ttotal: 23.1s\tremaining: 5.76s\n"
          ]
        },
        {
          "output_type": "stream",
          "name": "stdout",
          "text": [
            "2200:\tlearn: 97.2582749\ttest: 217.1983367\tbest: 217.1983367 (2200)\ttotal: 25.4s\tremaining: 3.45s\n"
          ]
        },
        {
          "output_type": "stream",
          "name": "stdout",
          "text": [
            "2400:\tlearn: 96.3529917\ttest: 216.1066658\tbest: 216.1066658 (2400)\ttotal: 27.7s\tremaining: 1.14s\n"
          ]
        },
        {
          "output_type": "stream",
          "name": "stdout",
          "text": [
            "2499:\tlearn: 95.9213646\ttest: 215.5949681\tbest: 215.5949681 (2499)\ttotal: 28.8s\tremaining: 0us\nbestTest = 215.5949681\nbestIteration = 2499\n"
          ]
        },
        {
          "output_type": "stream",
          "name": "stdout",
          "text": [
            "0:\tlearn: 303.6040951\ttest: 617.2719726\tbest: 617.2719726 (0)\ttotal: 8.26ms\tremaining: 9.91s\n"
          ]
        },
        {
          "output_type": "stream",
          "name": "stdout",
          "text": [
            "200:\tlearn: 145.7633357\ttest: 564.4920640\tbest: 564.4829397 (199)\ttotal: 1.91s\tremaining: 9.51s\n"
          ]
        },
        {
          "output_type": "stream",
          "name": "stdout",
          "text": [
            "400:\tlearn: 133.8064614\ttest: 533.8395917\tbest: 533.8220073 (399)\ttotal: 3.78s\tremaining: 7.54s\n"
          ]
        },
        {
          "output_type": "stream",
          "name": "stdout",
          "text": [
            "600:\tlearn: 131.2453740\ttest: 522.3601526\tbest: 522.3601526 (600)\ttotal: 5.45s\tremaining: 5.43s\n"
          ]
        },
        {
          "output_type": "stream",
          "name": "stdout",
          "text": [
            "800:\tlearn: 130.0154665\ttest: 516.0075018\tbest: 516.0075018 (800)\ttotal: 6.53s\tremaining: 3.25s\n"
          ]
        },
        {
          "output_type": "stream",
          "name": "stdout",
          "text": [
            "1000:\tlearn: 128.4042425\ttest: 511.4640382\tbest: 511.4640382 (1000)\ttotal: 7.72s\tremaining: 1.53s\n"
          ]
        },
        {
          "output_type": "stream",
          "name": "stdout",
          "text": [
            "1199:\tlearn: 123.6501723\ttest: 493.4705273\tbest: 493.4684572 (1197)\ttotal: 9.16s\tremaining: 0us\nbestTest = 493.4684572\nbestIteration = 1197\nShrink model to first 1198 iterations.\nSeed 456 Fold 4 done. tr=1301 va=93\nSeed bag 4/5 (seed=789)\n"
          ]
        },
        {
          "output_type": "stream",
          "name": "stdout",
          "text": [
            "0:\tlearn: 113.2493981\ttest: 149.3361308\tbest: 149.3361308 (0)\ttotal: 12.3ms\tremaining: 30.7s\n"
          ]
        },
        {
          "output_type": "stream",
          "name": "stdout",
          "text": [
            "200:\tlearn: 111.8858219\ttest: 147.9797668\tbest: 147.9797668 (200)\ttotal: 2.29s\tremaining: 26.1s\n"
          ]
        },
        {
          "output_type": "stream",
          "name": "stdout",
          "text": [
            "400:\tlearn: 110.5442267\ttest: 146.6554667\tbest: 146.6554667 (400)\ttotal: 4.59s\tremaining: 24s\n"
          ]
        },
        {
          "output_type": "stream",
          "name": "stdout",
          "text": [
            "600:\tlearn: 109.2440774\ttest: 145.3295492\tbest: 145.3295492 (600)\ttotal: 6.91s\tremaining: 21.8s\n"
          ]
        },
        {
          "output_type": "stream",
          "name": "stdout",
          "text": [
            "800:\tlearn: 107.9904180\ttest: 143.9957479\tbest: 143.9957479 (800)\ttotal: 9.22s\tremaining: 19.6s\n"
          ]
        },
        {
          "output_type": "stream",
          "name": "stdout",
          "text": [
            "1000:\tlearn: 106.7858243\ttest: 142.6644491\tbest: 142.6644491 (1000)\ttotal: 11.5s\tremaining: 17.3s\n"
          ]
        },
        {
          "output_type": "stream",
          "name": "stdout",
          "text": [
            "1200:\tlearn: 105.6375072\ttest: 141.3741455\tbest: 141.3741455 (1200)\ttotal: 13.8s\tremaining: 15s\n"
          ]
        },
        {
          "output_type": "stream",
          "name": "stdout",
          "text": [
            "1400:\tlearn: 104.5289628\ttest: 140.1084493\tbest: 140.1084493 (1400)\ttotal: 16.1s\tremaining: 12.7s\n"
          ]
        },
        {
          "output_type": "stream",
          "name": "stdout",
          "text": [
            "1600:\tlearn: 103.4595050\ttest: 138.8890584\tbest: 138.8890584 (1600)\ttotal: 18.4s\tremaining: 10.4s\n"
          ]
        },
        {
          "output_type": "stream",
          "name": "stdout",
          "text": [
            "1800:\tlearn: 102.4396427\ttest: 137.7314250\tbest: 137.7314250 (1800)\ttotal: 20.7s\tremaining: 8.05s\n"
          ]
        },
        {
          "output_type": "stream",
          "name": "stdout",
          "text": [
            "2000:\tlearn: 101.4429651\ttest: 136.5609233\tbest: 136.5609233 (2000)\ttotal: 23s\tremaining: 5.74s\n"
          ]
        },
        {
          "output_type": "stream",
          "name": "stdout",
          "text": [
            "2200:\tlearn: 100.4769838\ttest: 135.4181925\tbest: 135.4181925 (2200)\ttotal: 25.4s\tremaining: 3.45s\n"
          ]
        },
        {
          "output_type": "stream",
          "name": "stdout",
          "text": [
            "2400:\tlearn: 99.5464898\ttest: 134.2762858\tbest: 134.2762858 (2400)\ttotal: 27.7s\tremaining: 1.14s\n"
          ]
        },
        {
          "output_type": "stream",
          "name": "stdout",
          "text": [
            "2499:\tlearn: 99.1105968\ttest: 133.7528483\tbest: 133.7528483 (2499)\ttotal: 28.9s\tremaining: 0us\nbestTest = 133.7528483\nbestIteration = 2499\n"
          ]
        },
        {
          "output_type": "stream",
          "name": "stdout",
          "text": [
            "0:\tlearn: 309.0260260\ttest: 362.2599349\tbest: 362.2599349 (0)\ttotal: 10.3ms\tremaining: 12.4s\n"
          ]
        },
        {
          "output_type": "stream",
          "name": "stdout",
          "text": [
            "200:\tlearn: 151.3902599\ttest: 341.5048194\tbest: 341.4363502 (191)\ttotal: 1.9s\tremaining: 9.47s\n"
          ]
        },
        {
          "output_type": "stream",
          "name": "stdout",
          "text": [
            "400:\tlearn: 139.7394781\ttest: 327.9676369\tbest: 327.9674304 (399)\ttotal: 3.72s\tremaining: 7.41s\n"
          ]
        },
        {
          "output_type": "stream",
          "name": "stdout",
          "text": [
            "600:\tlearn: 135.2134306\ttest: 318.2719291\tbest: 318.2688525 (599)\ttotal: 5.35s\tremaining: 5.33s\n"
          ]
        },
        {
          "output_type": "stream",
          "name": "stdout",
          "text": [
            "800:\tlearn: 132.0972234\ttest: 309.8474255\tbest: 309.8435929 (799)\ttotal: 6.9s\tremaining: 3.44s\n"
          ]
        },
        {
          "output_type": "stream",
          "name": "stdout",
          "text": [
            "1000:\tlearn: 131.1770466\ttest: 306.2356799\tbest: 306.1934301 (998)\ttotal: 8.46s\tremaining: 1.68s\n"
          ]
        },
        {
          "output_type": "stream",
          "name": "stdout",
          "text": [
            "1199:\tlearn: 129.4591213\ttest: 304.0412013\tbest: 303.9654757 (1157)\ttotal: 9.91s\tremaining: 0us\nbestTest = 303.9654757\nbestIteration = 1157\nShrink model to first 1158 iterations.\nSeed 789 Fold 0 done. tr=1298 va=96\n"
          ]
        },
        {
          "output_type": "stream",
          "name": "stdout",
          "text": [
            "0:\tlearn: 113.0470315\ttest: 171.3215129\tbest: 171.3215129 (0)\ttotal: 11.9ms\tremaining: 29.8s\n"
          ]
        },
        {
          "output_type": "stream",
          "name": "stdout",
          "text": [
            "200:\tlearn: 111.7113347\ttest: 169.9114787\tbest: 169.9114787 (200)\ttotal: 2.3s\tremaining: 26.3s\n"
          ]
        },
        {
          "output_type": "stream",
          "name": "stdout",
          "text": [
            "400:\tlearn: 110.3927918\ttest: 168.5226949\tbest: 168.5226949 (400)\ttotal: 4.63s\tremaining: 24.2s\n"
          ]
        },
        {
          "output_type": "stream",
          "name": "stdout",
          "text": [
            "600:\tlearn: 109.1068952\ttest: 167.1455180\tbest: 167.1455180 (600)\ttotal: 6.91s\tremaining: 21.8s\n"
          ]
        },
        {
          "output_type": "stream",
          "name": "stdout",
          "text": [
            "800:\tlearn: 107.8700043\ttest: 165.7746379\tbest: 165.7746379 (800)\ttotal: 9.21s\tremaining: 19.5s\n"
          ]
        },
        {
          "output_type": "stream",
          "name": "stdout",
          "text": [
            "1000:\tlearn: 106.6761243\ttest: 164.4187826\tbest: 164.4187826 (1000)\ttotal: 11.5s\tremaining: 17.2s\n"
          ]
        },
        {
          "output_type": "stream",
          "name": "stdout",
          "text": [
            "1200:\tlearn: 105.5185381\ttest: 163.0349325\tbest: 163.0349325 (1200)\ttotal: 13.8s\tremaining: 14.9s\n"
          ]
        },
        {
          "output_type": "stream",
          "name": "stdout",
          "text": [
            "1400:\tlearn: 104.3985579\ttest: 161.6385498\tbest: 161.6385498 (1400)\ttotal: 16.1s\tremaining: 12.6s\n"
          ]
        },
        {
          "output_type": "stream",
          "name": "stdout",
          "text": [
            "1600:\tlearn: 103.3220941\ttest: 160.2748210\tbest: 160.2748210 (1600)\ttotal: 18.4s\tremaining: 10.3s\n"
          ]
        },
        {
          "output_type": "stream",
          "name": "stdout",
          "text": [
            "1800:\tlearn: 102.2779998\ttest: 158.9534505\tbest: 158.9534505 (1800)\ttotal: 20.6s\tremaining: 8.01s\n"
          ]
        },
        {
          "output_type": "stream",
          "name": "stdout",
          "text": [
            "2000:\tlearn: 101.2598710\ttest: 157.6865031\tbest: 157.6865031 (2000)\ttotal: 22.9s\tremaining: 5.72s\n"
          ]
        },
        {
          "output_type": "stream",
          "name": "stdout",
          "text": [
            "2200:\tlearn: 100.2700549\ttest: 156.4588521\tbest: 156.4588521 (2200)\ttotal: 25.2s\tremaining: 3.42s\n"
          ]
        },
        {
          "output_type": "stream",
          "name": "stdout",
          "text": [
            "2400:\tlearn: 99.3364852\ttest: 155.3297729\tbest: 155.3297729 (2400)\ttotal: 27.5s\tremaining: 1.13s\n"
          ]
        },
        {
          "output_type": "stream",
          "name": "stdout",
          "text": [
            "2499:\tlearn: 98.8902699\ttest: 154.7912394\tbest: 154.7912394 (2499)\ttotal: 28.6s\tremaining: 0us\nbestTest = 154.7912394\nbestIteration = 2499\n"
          ]
        },
        {
          "output_type": "stream",
          "name": "stdout",
          "text": [
            "0:\tlearn: 309.5292614\ttest: 350.1806082\tbest: 350.1806082 (0)\ttotal: 9.4ms\tremaining: 11.3s\n"
          ]
        },
        {
          "output_type": "stream",
          "name": "stdout",
          "text": [
            "bestTest = 348.2293904\nbestIteration = 2\nShrink model to first 3 iterations.\nSeed 789 Fold 1 done. tr=1298 va=96\n"
          ]
        },
        {
          "output_type": "stream",
          "name": "stdout",
          "text": [
            "0:\tlearn: 113.3791891\ttest: 137.2493490\tbest: 137.2493490 (0)\ttotal: 12.2ms\tremaining: 30.5s\n"
          ]
        },
        {
          "output_type": "stream",
          "name": "stdout",
          "text": [
            "200:\tlearn: 112.0004093\ttest: 136.0020549\tbest: 136.0020549 (200)\ttotal: 2.31s\tremaining: 26.4s\n"
          ]
        },
        {
          "output_type": "stream",
          "name": "stdout",
          "text": [
            "400:\tlearn: 110.6423825\ttest: 134.8597616\tbest: 134.8597616 (400)\ttotal: 4.62s\tremaining: 24.2s\n"
          ]
        },
        {
          "output_type": "stream",
          "name": "stdout",
          "text": [
            "600:\tlearn: 109.3377191\ttest: 133.7403971\tbest: 133.7403971 (600)\ttotal: 6.93s\tremaining: 21.9s\n"
          ]
        },
        {
          "output_type": "stream",
          "name": "stdout",
          "text": [
            "800:\tlearn: 108.0567941\ttest: 132.5725708\tbest: 132.5725708 (800)\ttotal: 9.21s\tremaining: 19.5s\n"
          ]
        },
        {
          "output_type": "stream",
          "name": "stdout",
          "text": [
            "1000:\tlearn: 106.8280768\ttest: 131.4100138\tbest: 131.4100138 (1000)\ttotal: 11.5s\tremaining: 17.2s\n"
          ]
        },
        {
          "output_type": "stream",
          "name": "stdout",
          "text": [
            "1200:\tlearn: 105.6466078\ttest: 130.2589417\tbest: 130.2589417 (1200)\ttotal: 13.8s\tremaining: 14.9s\n"
          ]
        },
        {
          "output_type": "stream",
          "name": "stdout",
          "text": [
            "1400:\tlearn: 104.5150713\ttest: 129.1309611\tbest: 129.1309611 (1400)\ttotal: 16.1s\tremaining: 12.6s\n"
          ]
        },
        {
          "output_type": "stream",
          "name": "stdout",
          "text": [
            "1600:\tlearn: 103.4340091\ttest: 128.0261027\tbest: 128.0261027 (1600)\ttotal: 18.3s\tremaining: 10.3s\n"
          ]
        },
        {
          "output_type": "stream",
          "name": "stdout",
          "text": [
            "1800:\tlearn: 102.3866164\ttest: 126.9195760\tbest: 126.9195760 (1800)\ttotal: 20.6s\tremaining: 8.01s\n"
          ]
        },
        {
          "output_type": "stream",
          "name": "stdout",
          "text": [
            "2000:\tlearn: 101.3564739\ttest: 125.8274943\tbest: 125.8274943 (2000)\ttotal: 22.9s\tremaining: 5.72s\n"
          ]
        },
        {
          "output_type": "stream",
          "name": "stdout",
          "text": [
            "2200:\tlearn: 100.3574189\ttest: 124.7588704\tbest: 124.7588704 (2200)\ttotal: 25.2s\tremaining: 3.43s\n"
          ]
        },
        {
          "output_type": "stream",
          "name": "stdout",
          "text": [
            "2400:\tlearn: 99.3987986\ttest: 123.7023112\tbest: 123.7023112 (2400)\ttotal: 27.5s\tremaining: 1.13s\n"
          ]
        },
        {
          "output_type": "stream",
          "name": "stdout",
          "text": [
            "2499:\tlearn: 98.9483520\ttest: 123.1840617\tbest: 123.1840617 (2499)\ttotal: 28.7s\tremaining: 0us\nbestTest = 123.1840617\nbestIteration = 2499\n"
          ]
        },
        {
          "output_type": "stream",
          "name": "stdout",
          "text": [
            "0:\tlearn: 308.4747507\ttest: 313.0986765\tbest: 313.0986765 (0)\ttotal: 10.4ms\tremaining: 12.5s\n"
          ]
        },
        {
          "output_type": "stream",
          "name": "stdout",
          "text": [
            "200:\tlearn: 166.2616146\ttest: 301.5249955\tbest: 301.5225772 (199)\ttotal: 1.87s\tremaining: 9.32s\n"
          ]
        },
        {
          "output_type": "stream",
          "name": "stdout",
          "text": [
            "400:\tlearn: 149.9658410\ttest: 287.5878761\tbest: 287.5878761 (400)\ttotal: 3.76s\tremaining: 7.5s\n"
          ]
        },
        {
          "output_type": "stream",
          "name": "stdout",
          "text": [
            "600:\tlearn: 138.3940133\ttest: 275.1164432\tbest: 275.1055858 (597)\ttotal: 5.6s\tremaining: 5.58s\n"
          ]
        },
        {
          "output_type": "stream",
          "name": "stdout",
          "text": [
            "800:\tlearn: 131.7778983\ttest: 267.5749700\tbest: 267.5749700 (800)\ttotal: 7.31s\tremaining: 3.64s\n"
          ]
        },
        {
          "output_type": "stream",
          "name": "stdout",
          "text": [
            "1000:\tlearn: 126.5706986\ttest: 258.1315475\tbest: 258.1301150 (999)\ttotal: 9.15s\tremaining: 1.82s\n"
          ]
        },
        {
          "output_type": "stream",
          "name": "stdout",
          "text": [
            "1199:\tlearn: 124.7152257\ttest: 256.0751131\tbest: 256.0747978 (1198)\ttotal: 11s\tremaining: 0us\nbestTest = 256.0747978\nbestIteration = 1198\nShrink model to first 1199 iterations.\nSeed 789 Fold 2 done. tr=1298 va=96\n"
          ]
        },
        {
          "output_type": "stream",
          "name": "stdout",
          "text": [
            "0:\tlearn: 112.8752522\ttest: 167.3803763\tbest: 167.3803763 (0)\ttotal: 12.1ms\tremaining: 30.3s\n"
          ]
        },
        {
          "output_type": "stream",
          "name": "stdout",
          "text": [
            "200:\tlearn: 111.4694706\ttest: 165.9111118\tbest: 165.9111118 (200)\ttotal: 2.27s\tremaining: 25.9s\n"
          ]
        },
        {
          "output_type": "stream",
          "name": "stdout",
          "text": [
            "400:\tlearn: 110.0948309\ttest: 164.5163285\tbest: 164.5163285 (400)\ttotal: 4.55s\tremaining: 23.8s\n"
          ]
        },
        {
          "output_type": "stream",
          "name": "stdout",
          "text": [
            "600:\tlearn: 108.7727830\ttest: 163.2010039\tbest: 163.2010039 (600)\ttotal: 6.84s\tremaining: 21.6s\n"
          ]
        },
        {
          "output_type": "stream",
          "name": "stdout",
          "text": [
            "800:\tlearn: 107.4879900\ttest: 161.9516759\tbest: 161.9516759 (800)\ttotal: 9.13s\tremaining: 19.4s\n"
          ]
        },
        {
          "output_type": "stream",
          "name": "stdout",
          "text": [
            "1000:\tlearn: 106.2601965\ttest: 160.7367692\tbest: 160.7367692 (1000)\ttotal: 11.4s\tremaining: 17.1s\n"
          ]
        },
        {
          "output_type": "stream",
          "name": "stdout",
          "text": [
            "1200:\tlearn: 105.0793981\ttest: 159.5782195\tbest: 159.5782195 (1200)\ttotal: 13.7s\tremaining: 14.8s\n"
          ]
        },
        {
          "output_type": "stream",
          "name": "stdout",
          "text": [
            "1400:\tlearn: 103.9468678\ttest: 158.4749139\tbest: 158.4749139 (1400)\ttotal: 16s\tremaining: 12.6s\n"
          ]
        },
        {
          "output_type": "stream",
          "name": "stdout",
          "text": [
            "1600:\tlearn: 102.8614047\ttest: 157.4110173\tbest: 157.4110173 (1600)\ttotal: 18.3s\tremaining: 10.3s\n"
          ]
        },
        {
          "output_type": "stream",
          "name": "stdout",
          "text": [
            "1800:\tlearn: 101.8140253\ttest: 156.3646568\tbest: 156.3646568 (1800)\ttotal: 20.7s\tremaining: 8.02s\n"
          ]
        },
        {
          "output_type": "stream",
          "name": "stdout",
          "text": [
            "2000:\tlearn: 100.7831236\ttest: 155.3672505\tbest: 155.3672505 (2000)\ttotal: 23s\tremaining: 5.73s\n"
          ]
        },
        {
          "output_type": "stream",
          "name": "stdout",
          "text": [
            "2200:\tlearn: 99.7995652\ttest: 154.4113218\tbest: 154.4113218 (2200)\ttotal: 25.3s\tremaining: 3.44s\n"
          ]
        },
        {
          "output_type": "stream",
          "name": "stdout",
          "text": [
            "2400:\tlearn: 98.8777623\ttest: 153.4597614\tbest: 153.4597614 (2400)\ttotal: 27.6s\tremaining: 1.14s\n"
          ]
        },
        {
          "output_type": "stream",
          "name": "stdout",
          "text": [
            "2499:\tlearn: 98.4445919\ttest: 152.9873677\tbest: 152.9873677 (2499)\ttotal: 28.8s\tremaining: 0us\nbestTest = 152.9873677\nbestIteration = 2499\n"
          ]
        },
        {
          "output_type": "stream",
          "name": "stdout",
          "text": [
            "0:\tlearn: 309.4490405\ttest: 361.9358198\tbest: 361.9358198 (0)\ttotal: 9.66ms\tremaining: 11.6s\n"
          ]
        },
        {
          "output_type": "stream",
          "name": "stdout",
          "text": [
            "bestTest = 361.9358198\nbestIteration = 0\nShrink model to first 1 iterations.\nSeed 789 Fold 3 done. tr=1301 va=93\n"
          ]
        },
        {
          "output_type": "stream",
          "name": "stdout",
          "text": [
            "0:\tlearn: 110.0631005\ttest: 230.5951361\tbest: 230.5951361 (0)\ttotal: 11.8ms\tremaining: 29.5s\n"
          ]
        },
        {
          "output_type": "stream",
          "name": "stdout",
          "text": [
            "200:\tlearn: 108.6749375\ttest: 229.2412214\tbest: 229.2412214 (200)\ttotal: 2.26s\tremaining: 25.8s\n"
          ]
        },
        {
          "output_type": "stream",
          "name": "stdout",
          "text": [
            "400:\tlearn: 107.3076239\ttest: 227.9178637\tbest: 227.9178637 (400)\ttotal: 4.56s\tremaining: 23.9s\n"
          ]
        },
        {
          "output_type": "stream",
          "name": "stdout",
          "text": [
            "600:\tlearn: 106.0306255\ttest: 226.6657006\tbest: 226.6657006 (600)\ttotal: 6.85s\tremaining: 21.7s\n"
          ]
        },
        {
          "output_type": "stream",
          "name": "stdout",
          "text": [
            "800:\tlearn: 104.8112990\ttest: 225.4191238\tbest: 225.4191238 (800)\ttotal: 9.14s\tremaining: 19.4s\n"
          ]
        },
        {
          "output_type": "stream",
          "name": "stdout",
          "text": [
            "1000:\tlearn: 103.6204963\ttest: 224.1503276\tbest: 224.1503276 (1000)\ttotal: 11.4s\tremaining: 17.1s\n"
          ]
        },
        {
          "output_type": "stream",
          "name": "stdout",
          "text": [
            "1200:\tlearn: 102.4626369\ttest: 222.9144405\tbest: 222.9144405 (1200)\ttotal: 13.7s\tremaining: 14.8s\n"
          ]
        },
        {
          "output_type": "stream",
          "name": "stdout",
          "text": [
            "1400:\tlearn: 101.3592189\ttest: 221.7278226\tbest: 221.7278226 (1400)\ttotal: 16.1s\tremaining: 12.6s\n"
          ]
        },
        {
          "output_type": "stream",
          "name": "stdout",
          "text": [
            "1600:\tlearn: 100.2963586\ttest: 220.5560946\tbest: 220.5560946 (1600)\ttotal: 18.4s\tremaining: 10.3s\n"
          ]
        },
        {
          "output_type": "stream",
          "name": "stdout",
          "text": [
            "1800:\tlearn: 99.2628447\ttest: 219.4319976\tbest: 219.4319976 (1800)\ttotal: 20.6s\tremaining: 8.01s\n"
          ]
        },
        {
          "output_type": "stream",
          "name": "stdout",
          "text": [
            "2000:\tlearn: 98.2551283\ttest: 218.3136761\tbest: 218.3136761 (2000)\ttotal: 22.9s\tremaining: 5.72s\n"
          ]
        },
        {
          "output_type": "stream",
          "name": "stdout",
          "text": [
            "2200:\tlearn: 97.3010064\ttest: 217.2263105\tbest: 217.2263105 (2200)\ttotal: 25.3s\tremaining: 3.43s\n"
          ]
        },
        {
          "output_type": "stream",
          "name": "stdout",
          "text": [
            "2400:\tlearn: 96.3975187\ttest: 216.1561660\tbest: 216.1561660 (2400)\ttotal: 27.6s\tremaining: 1.14s\n"
          ]
        },
        {
          "output_type": "stream",
          "name": "stdout",
          "text": [
            "2499:\tlearn: 95.9659517\ttest: 215.6430192\tbest: 215.6430192 (2499)\ttotal: 28.7s\tremaining: 0us\nbestTest = 215.6430192\nbestIteration = 2499\n"
          ]
        },
        {
          "output_type": "stream",
          "name": "stdout",
          "text": [
            "0:\tlearn: 303.4033447\ttest: 617.1501621\tbest: 617.1501621 (0)\ttotal: 10.1ms\tremaining: 12.1s\n"
          ]
        },
        {
          "output_type": "stream",
          "name": "stdout",
          "text": [
            "200:\tlearn: 154.6841964\ttest: 589.0315361\tbest: 589.0315361 (200)\ttotal: 1.89s\tremaining: 9.38s\n"
          ]
        },
        {
          "output_type": "stream",
          "name": "stdout",
          "text": [
            "400:\tlearn: 138.9831470\ttest: 577.3768081\tbest: 577.3768081 (400)\ttotal: 3.72s\tremaining: 7.41s\n"
          ]
        },
        {
          "output_type": "stream",
          "name": "stdout",
          "text": [
            "600:\tlearn: 130.4269993\ttest: 566.6269942\tbest: 566.6269942 (600)\ttotal: 5.48s\tremaining: 5.46s\n"
          ]
        },
        {
          "output_type": "stream",
          "name": "stdout",
          "text": [
            "800:\tlearn: 124.1482526\ttest: 556.1073231\tbest: 556.1073231 (800)\ttotal: 7.32s\tremaining: 3.65s\n"
          ]
        },
        {
          "output_type": "stream",
          "name": "stdout",
          "text": [
            "1000:\tlearn: 122.3640440\ttest: 552.7864119\tbest: 552.7851476 (999)\ttotal: 9.13s\tremaining: 1.81s\n"
          ]
        },
        {
          "output_type": "stream",
          "name": "stdout",
          "text": [
            "1199:\tlearn: 121.4253487\ttest: 548.6194207\tbest: 548.6194207 (1199)\ttotal: 10.8s\tremaining: 0us\nbestTest = 548.6194207\nbestIteration = 1199\nSeed 789 Fold 4 done. tr=1301 va=93\nSeed bag 5/5 (seed=2024)\n"
          ]
        },
        {
          "output_type": "stream",
          "name": "stdout",
          "text": [
            "0:\tlearn: 113.2492175\ttest: 149.3353678\tbest: 149.3353678 (0)\ttotal: 12ms\tremaining: 30s\n"
          ]
        },
        {
          "output_type": "stream",
          "name": "stdout",
          "text": [
            "200:\tlearn: 111.8889879\ttest: 147.9629924\tbest: 147.9629924 (200)\ttotal: 2.26s\tremaining: 25.9s\n"
          ]
        },
        {
          "output_type": "stream",
          "name": "stdout",
          "text": [
            "400:\tlearn: 110.5498604\ttest: 146.6275635\tbest: 146.6275635 (400)\ttotal: 4.56s\tremaining: 23.9s\n"
          ]
        },
        {
          "output_type": "stream",
          "name": "stdout",
          "text": [
            "600:\tlearn: 109.2488203\ttest: 145.2896932\tbest: 145.2896932 (600)\ttotal: 6.85s\tremaining: 21.7s\n"
          ]
        },
        {
          "output_type": "stream",
          "name": "stdout",
          "text": [
            "800:\tlearn: 107.9889132\ttest: 143.9546916\tbest: 143.9546916 (800)\ttotal: 9.14s\tremaining: 19.4s\n"
          ]
        },
        {
          "output_type": "stream",
          "name": "stdout",
          "text": [
            "1000:\tlearn: 106.7814426\ttest: 142.6460063\tbest: 142.6460063 (1000)\ttotal: 11.4s\tremaining: 17.1s\n"
          ]
        },
        {
          "output_type": "stream",
          "name": "stdout",
          "text": [
            "1200:\tlearn: 105.6282020\ttest: 141.3758748\tbest: 141.3758748 (1200)\ttotal: 13.7s\tremaining: 14.8s\n"
          ]
        },
        {
          "output_type": "stream",
          "name": "stdout",
          "text": [
            "1400:\tlearn: 104.5194530\ttest: 140.1254883\tbest: 140.1254883 (1400)\ttotal: 16s\tremaining: 12.6s\n"
          ]
        },
        {
          "output_type": "stream",
          "name": "stdout",
          "text": [
            "1600:\tlearn: 103.4528963\ttest: 138.8975830\tbest: 138.8975830 (1600)\ttotal: 18.3s\tremaining: 10.3s\n"
          ]
        },
        {
          "output_type": "stream",
          "name": "stdout",
          "text": [
            "1800:\tlearn: 102.4192748\ttest: 137.6785278\tbest: 137.6785278 (1800)\ttotal: 20.6s\tremaining: 7.99s\n"
          ]
        },
        {
          "output_type": "stream",
          "name": "stdout",
          "text": [
            "2000:\tlearn: 101.4193110\ttest: 136.5091858\tbest: 136.5091858 (2000)\ttotal: 22.9s\tremaining: 5.71s\n"
          ]
        },
        {
          "output_type": "stream",
          "name": "stdout",
          "text": [
            "2200:\tlearn: 100.4490322\ttest: 135.3741557\tbest: 135.3741557 (2200)\ttotal: 25.2s\tremaining: 3.42s\n"
          ]
        },
        {
          "output_type": "stream",
          "name": "stdout",
          "text": [
            "2400:\tlearn: 99.5286378\ttest: 134.2803955\tbest: 134.2803955 (2400)\ttotal: 27.5s\tremaining: 1.13s\n"
          ]
        },
        {
          "output_type": "stream",
          "name": "stdout",
          "text": [
            "2499:\tlearn: 99.0906081\ttest: 133.7733154\tbest: 133.7733154 (2499)\ttotal: 28.6s\tremaining: 0us\nbestTest = 133.7733154\nbestIteration = 2499\n"
          ]
        },
        {
          "output_type": "stream",
          "name": "stdout",
          "text": [
            "0:\tlearn: 309.2891896\ttest: 362.4295909\tbest: 362.4295909 (0)\ttotal: 10ms\tremaining: 12s\n"
          ]
        },
        {
          "output_type": "stream",
          "name": "stdout",
          "text": [
            "bestTest = 358.739634\nbestIteration = 88\nShrink model to first 89 iterations.\nSeed 2024 Fold 0 done. tr=1298 va=96\n"
          ]
        },
        {
          "output_type": "stream",
          "name": "stdout",
          "text": [
            "0:\tlearn: 113.0467546\ttest: 171.3216146\tbest: 171.3216146 (0)\ttotal: 11.7ms\tremaining: 29.2s\n"
          ]
        },
        {
          "output_type": "stream",
          "name": "stdout",
          "text": [
            "200:\tlearn: 111.7098421\ttest: 169.9434204\tbest: 169.9434204 (200)\ttotal: 2.25s\tremaining: 25.8s\n"
          ]
        },
        {
          "output_type": "stream",
          "name": "stdout",
          "text": [
            "400:\tlearn: 110.3879767\ttest: 168.5920207\tbest: 168.5920207 (400)\ttotal: 4.55s\tremaining: 23.8s\n"
          ]
        },
        {
          "output_type": "stream",
          "name": "stdout",
          "text": [
            "600:\tlearn: 109.0966992\ttest: 167.2551270\tbest: 167.2551270 (600)\ttotal: 6.85s\tremaining: 21.6s\n"
          ]
        },
        {
          "output_type": "stream",
          "name": "stdout",
          "text": [
            "800:\tlearn: 107.8541747\ttest: 165.8921204\tbest: 165.8921204 (800)\ttotal: 9.14s\tremaining: 19.4s\n"
          ]
        },
        {
          "output_type": "stream",
          "name": "stdout",
          "text": [
            "1000:\tlearn: 106.6527711\ttest: 164.5496826\tbest: 164.5496826 (1000)\ttotal: 11.4s\tremaining: 17.1s\n"
          ]
        },
        {
          "output_type": "stream",
          "name": "stdout",
          "text": [
            "1200:\tlearn: 105.5001926\ttest: 163.1652832\tbest: 163.1652832 (1200)\ttotal: 13.7s\tremaining: 14.8s\n"
          ]
        },
        {
          "output_type": "stream",
          "name": "stdout",
          "text": [
            "1400:\tlearn: 104.3731943\ttest: 161.8091431\tbest: 161.8091431 (1400)\ttotal: 16s\tremaining: 12.5s\n"
          ]
        },
        {
          "output_type": "stream",
          "name": "stdout",
          "text": [
            "1600:\tlearn: 103.2942628\ttest: 160.4936829\tbest: 160.4936829 (1600)\ttotal: 18.3s\tremaining: 10.3s\n"
          ]
        },
        {
          "output_type": "stream",
          "name": "stdout",
          "text": [
            "1800:\tlearn: 102.2443423\ttest: 159.2031657\tbest: 159.2031657 (1800)\ttotal: 20.6s\tremaining: 7.98s\n"
          ]
        },
        {
          "output_type": "stream",
          "name": "stdout",
          "text": [
            "2000:\tlearn: 101.2291627\ttest: 157.9856873\tbest: 157.9856873 (2000)\ttotal: 22.8s\tremaining: 5.7s\n"
          ]
        },
        {
          "output_type": "stream",
          "name": "stdout",
          "text": [
            "2200:\tlearn: 100.2333036\ttest: 156.8050741\tbest: 156.8050741 (2200)\ttotal: 25.2s\tremaining: 3.42s\n"
          ]
        },
        {
          "output_type": "stream",
          "name": "stdout",
          "text": [
            "2400:\tlearn: 99.2922766\ttest: 155.6895142\tbest: 155.6895142 (2400)\ttotal: 27.5s\tremaining: 1.13s\n"
          ]
        },
        {
          "output_type": "stream",
          "name": "stdout",
          "text": [
            "2499:\tlearn: 98.8510569\ttest: 155.1597493\tbest: 155.1597493 (2499)\ttotal: 28.7s\tremaining: 0us\nbestTest = 155.1597493\nbestIteration = 2499\n"
          ]
        },
        {
          "output_type": "stream",
          "name": "stdout",
          "text": [
            "0:\tlearn: 309.3315224\ttest: 350.2075872\tbest: 350.2075872 (0)\ttotal: 10.2ms\tremaining: 12.2s\n"
          ]
        },
        {
          "output_type": "stream",
          "name": "stdout",
          "text": [
            "bestTest = 350.2075872\nbestIteration = 0\nShrink model to first 1 iterations.\nSeed 2024 Fold 1 done. tr=1298 va=96\n"
          ]
        },
        {
          "output_type": "stream",
          "name": "stdout",
          "text": [
            "0:\tlearn: 113.3790206\ttest: 137.2500203\tbest: 137.2500203 (0)\ttotal: 12.6ms\tremaining: 31.6s\n"
          ]
        },
        {
          "output_type": "stream",
          "name": "stdout",
          "text": [
            "200:\tlearn: 112.0036595\ttest: 136.0028280\tbest: 136.0028280 (200)\ttotal: 2.33s\tremaining: 26.6s\n"
          ]
        },
        {
          "output_type": "stream",
          "name": "stdout",
          "text": [
            "400:\tlearn: 110.6484495\ttest: 134.8951213\tbest: 134.8951213 (400)\ttotal: 4.68s\tremaining: 24.5s\n"
          ]
        },
        {
          "output_type": "stream",
          "name": "stdout",
          "text": [
            "600:\tlearn: 109.3406202\ttest: 133.7564290\tbest: 133.7564290 (600)\ttotal: 7.03s\tremaining: 22.2s\n"
          ]
        },
        {
          "output_type": "stream",
          "name": "stdout",
          "text": [
            "800:\tlearn: 108.0568904\ttest: 132.5805155\tbest: 132.5805155 (800)\ttotal: 9.38s\tremaining: 19.9s\n"
          ]
        },
        {
          "output_type": "stream",
          "name": "stdout",
          "text": [
            "1000:\tlearn: 106.8278361\ttest: 131.3971151\tbest: 131.3971151 (1000)\ttotal: 11.7s\tremaining: 17.6s\n"
          ]
        },
        {
          "output_type": "stream",
          "name": "stdout",
          "text": [
            "1200:\tlearn: 105.6502913\ttest: 130.2238668\tbest: 130.2238668 (1200)\ttotal: 14.1s\tremaining: 15.2s\n"
          ]
        },
        {
          "output_type": "stream",
          "name": "stdout",
          "text": [
            "1400:\tlearn: 104.5232930\ttest: 129.0698039\tbest: 129.0698039 (1400)\ttotal: 16.4s\tremaining: 12.9s\n"
          ]
        },
        {
          "output_type": "stream",
          "name": "stdout",
          "text": [
            "1600:\tlearn: 103.4350924\ttest: 127.9320984\tbest: 127.9320984 (1600)\ttotal: 18.8s\tremaining: 10.6s\n"
          ]
        },
        {
          "output_type": "stream",
          "name": "stdout",
          "text": [
            "1800:\tlearn: 102.3904204\ttest: 126.8190308\tbest: 126.8190308 (1800)\ttotal: 21.1s\tremaining: 8.21s\n"
          ]
        },
        {
          "output_type": "stream",
          "name": "stdout",
          "text": [
            "2000:\tlearn: 101.3637086\ttest: 125.7049662\tbest: 125.7049662 (2000)\ttotal: 23.5s\tremaining: 5.85s\n"
          ]
        },
        {
          "output_type": "stream",
          "name": "stdout",
          "text": [
            "2200:\tlearn: 100.3588935\ttest: 124.6204020\tbest: 124.6204020 (2200)\ttotal: 25.8s\tremaining: 3.5s\n"
          ]
        },
        {
          "output_type": "stream",
          "name": "stdout",
          "text": [
            "2400:\tlearn: 99.3953498\ttest: 123.5835775\tbest: 123.5835775 (2400)\ttotal: 28.1s\tremaining: 1.16s\n"
          ]
        },
        {
          "output_type": "stream",
          "name": "stdout",
          "text": [
            "2499:\tlearn: 98.9440124\ttest: 123.0758057\tbest: 123.0758057 (2499)\ttotal: 29.3s\tremaining: 0us\nbestTest = 123.0758057\nbestIteration = 2499\n"
          ]
        },
        {
          "output_type": "stream",
          "name": "stdout",
          "text": [
            "0:\tlearn: 308.4495049\ttest: 313.3904480\tbest: 313.3904480 (0)\ttotal: 10.3ms\tremaining: 12.4s\n"
          ]
        },
        {
          "output_type": "stream",
          "name": "stdout",
          "text": [
            "bestTest = 313.390448\nbestIteration = 0\nShrink model to first 1 iterations.\nSeed 2024 Fold 2 done. tr=1298 va=96\n"
          ]
        },
        {
          "output_type": "stream",
          "name": "stdout",
          "text": [
            "0:\tlearn: 112.8750961\ttest: 167.3805234\tbest: 167.3805234 (0)\ttotal: 12ms\tremaining: 30s\n"
          ]
        },
        {
          "output_type": "stream",
          "name": "stdout",
          "text": [
            "200:\tlearn: 111.4672488\ttest: 165.9054519\tbest: 165.9054519 (200)\ttotal: 2.31s\tremaining: 26.4s\n"
          ]
        },
        {
          "output_type": "stream",
          "name": "stdout",
          "text": [
            "400:\tlearn: 110.0941583\ttest: 164.5019741\tbest: 164.5019741 (400)\ttotal: 4.65s\tremaining: 24.3s\n"
          ]
        },
        {
          "output_type": "stream",
          "name": "stdout",
          "text": [
            "600:\tlearn: 108.7690599\ttest: 163.1888651\tbest: 163.1888651 (600)\ttotal: 6.98s\tremaining: 22.1s\n"
          ]
        },
        {
          "output_type": "stream",
          "name": "stdout",
          "text": [
            "800:\tlearn: 107.4781178\ttest: 161.9369960\tbest: 161.9369960 (800)\ttotal: 9.31s\tremaining: 19.7s\n"
          ]
        },
        {
          "output_type": "stream",
          "name": "stdout",
          "text": [
            "1000:\tlearn: 106.2498078\ttest: 160.7270665\tbest: 160.7270665 (1000)\ttotal: 11.6s\tremaining: 17.4s\n"
          ]
        },
        {
          "output_type": "stream",
          "name": "stdout",
          "text": [
            "1200:\tlearn: 105.0767318\ttest: 159.5773900\tbest: 159.5773900 (1200)\ttotal: 14s\tremaining: 15.1s\n"
          ]
        },
        {
          "output_type": "stream",
          "name": "stdout",
          "text": [
            "1400:\tlearn: 103.9490176\ttest: 158.4822644\tbest: 158.4822644 (1400)\ttotal: 16.3s\tremaining: 12.8s\n"
          ]
        },
        {
          "output_type": "stream",
          "name": "stdout",
          "text": [
            "1600:\tlearn: 102.8550754\ttest: 157.4065545\tbest: 157.4065545 (1600)\ttotal: 18.6s\tremaining: 10.5s\n"
          ]
        },
        {
          "output_type": "stream",
          "name": "stdout",
          "text": [
            "1800:\tlearn: 101.7957461\ttest: 156.3610761\tbest: 156.3610761 (1800)\ttotal: 21s\tremaining: 8.14s\n"
          ]
        },
        {
          "output_type": "stream",
          "name": "stdout",
          "text": [
            "2000:\tlearn: 100.7683873\ttest: 155.3739919\tbest: 155.3739919 (2000)\ttotal: 23.3s\tremaining: 5.82s\n"
          ]
        },
        {
          "output_type": "stream",
          "name": "stdout",
          "text": [
            "2200:\tlearn: 99.7791963\ttest: 154.4075311\tbest: 154.4075311 (2200)\ttotal: 25.7s\tremaining: 3.49s\n"
          ]
        },
        {
          "output_type": "stream",
          "name": "stdout",
          "text": [
            "2400:\tlearn: 98.8367662\ttest: 153.4408392\tbest: 153.4408392 (2400)\ttotal: 28s\tremaining: 1.16s\n"
          ]
        },
        {
          "output_type": "stream",
          "name": "stdout",
          "text": [
            "2499:\tlearn: 98.3997286\ttest: 152.9781691\tbest: 152.9781691 (2499)\ttotal: 29.2s\tremaining: 0us\nbestTest = 152.9781691\nbestIteration = 2499\n"
          ]
        },
        {
          "output_type": "stream",
          "name": "stdout",
          "text": [
            "0:\tlearn: 308.5521071\ttest: 362.3001192\tbest: 362.3001192 (0)\ttotal: 10.2ms\tremaining: 12.3s\n"
          ]
        },
        {
          "output_type": "stream",
          "name": "stdout",
          "text": [
            "bestTest = 362.3001192\nbestIteration = 0\nShrink model to first 1 iterations.\nSeed 2024 Fold 3 done. tr=1301 va=93\n"
          ]
        },
        {
          "output_type": "stream",
          "name": "stdout",
          "text": [
            "0:\tlearn: 110.0632927\ttest: 230.5951361\tbest: 230.5951361 (0)\ttotal: 9.76ms\tremaining: 24.4s\n"
          ]
        },
        {
          "output_type": "stream",
          "name": "stdout",
          "text": [
            "200:\tlearn: 108.6654376\ttest: 229.2242524\tbest: 229.2242524 (200)\ttotal: 2.33s\tremaining: 26.7s\n"
          ]
        },
        {
          "output_type": "stream",
          "name": "stdout",
          "text": [
            "400:\tlearn: 107.2961904\ttest: 227.8975134\tbest: 227.8975134 (400)\ttotal: 4.67s\tremaining: 24.4s\n"
          ]
        },
        {
          "output_type": "stream",
          "name": "stdout",
          "text": [
            "600:\tlearn: 106.0188797\ttest: 226.6366767\tbest: 226.6366767 (600)\ttotal: 7s\tremaining: 22.1s\n"
          ]
        },
        {
          "output_type": "stream",
          "name": "stdout",
          "text": [
            "800:\tlearn: 104.7925394\ttest: 225.3691616\tbest: 225.3691616 (800)\ttotal: 9.32s\tremaining: 19.8s\n"
          ]
        },
        {
          "output_type": "stream",
          "name": "stdout",
          "text": [
            "1000:\tlearn: 103.5872286\ttest: 224.1089970\tbest: 224.1089970 (1000)\ttotal: 11.7s\tremaining: 17.5s\n"
          ]
        },
        {
          "output_type": "stream",
          "name": "stdout",
          "text": [
            "1200:\tlearn: 102.4293692\ttest: 222.8605301\tbest: 222.8605301 (1200)\ttotal: 14s\tremaining: 15.1s\n"
          ]
        },
        {
          "output_type": "stream",
          "name": "stdout",
          "text": [
            "1400:\tlearn: 101.3247382\ttest: 221.6441112\tbest: 221.6441112 (1400)\ttotal: 16.3s\tremaining: 12.8s\n"
          ]
        },
        {
          "output_type": "stream",
          "name": "stdout",
          "text": [
            "1600:\tlearn: 100.2563233\ttest: 220.4683300\tbest: 220.4683300 (1600)\ttotal: 18.7s\tremaining: 10.5s\n"
          ]
        },
        {
          "output_type": "stream",
          "name": "stdout",
          "text": [
            "1800:\tlearn: 99.2268688\ttest: 219.3039525\tbest: 219.3039525 (1800)\ttotal: 21s\tremaining: 8.14s\n"
          ]
        },
        {
          "output_type": "stream",
          "name": "stdout",
          "text": [
            "2000:\tlearn: 98.2204734\ttest: 218.1725050\tbest: 218.1725050 (2000)\ttotal: 23.3s\tremaining: 5.81s\n"
          ]
        },
        {
          "output_type": "stream",
          "name": "stdout",
          "text": [
            "2200:\tlearn: 97.2578425\ttest: 217.0765709\tbest: 217.0765709 (2200)\ttotal: 25.6s\tremaining: 3.48s\n"
          ]
        },
        {
          "output_type": "stream",
          "name": "stdout",
          "text": [
            "2400:\tlearn: 96.3396306\ttest: 215.9963248\tbest: 215.9963248 (2400)\ttotal: 27.9s\tremaining: 1.15s\n"
          ]
        },
        {
          "output_type": "stream",
          "name": "stdout",
          "text": [
            "2499:\tlearn: 95.8943601\ttest: 215.4867272\tbest: 215.4867272 (2499)\ttotal: 29.1s\tremaining: 0us\nbestTest = 215.4867272\nbestIteration = 2499\n"
          ]
        },
        {
          "output_type": "stream",
          "name": "stdout",
          "text": [
            "0:\tlearn: 302.7600628\ttest: 616.5403649\tbest: 616.5403649 (0)\ttotal: 10.3ms\tremaining: 12.3s\n"
          ]
        },
        {
          "output_type": "stream",
          "name": "stdout",
          "text": [
            "200:\tlearn: 147.8488956\ttest: 538.1587087\tbest: 538.1587087 (200)\ttotal: 1.89s\tremaining: 9.4s\n"
          ]
        },
        {
          "output_type": "stream",
          "name": "stdout",
          "text": [
            "400:\tlearn: 140.1592100\ttest: 513.0374654\tbest: 513.0004506 (392)\ttotal: 3.7s\tremaining: 7.37s\n"
          ]
        },
        {
          "output_type": "stream",
          "name": "stdout",
          "text": [
            "bestTest = 512.2349931\nbestIteration = 426\nShrink model to first 427 iterations.\nSeed 2024 Fold 4 done. tr=1301 va=93\nDiag valid_count: 474  nan(abs_wsb)= 0  nan(wsl)= 0  nan(prmse)= 0  calib_count= 474\n"
          ]
        },
        {
          "output_type": "stream",
          "name": "stdout",
          "text": [
            "Temporal OOF (last-3) residual blend (seed-bagged 5): -6.98672 with params {'w_cat': 0.3, 'd': 0.5, 's': 1.6, 'a': 40, 'b': 0.8, 'c': 0.8, 'e': 0.0}\nFull OOF (last-3, 5-seed): -6.986717575614458 best: {'w_cat': 0.3, 'd': 0.5, 's': 1.6, 'a': 40, 'b': 0.8, 'c': 0.8, 'e': 0.0}\nres2 (last-3 tuned) registered for production: {'w_cat': 0.3, 'd': 0.5, 's': 1.6, 'a': 40, 'b': 0.8, 'c': 0.8, 'e': 0.0}\n"
          ]
        }
      ]
    },
    {
      "id": "76b52c67-b4ae-410c-a1ba-23b509dc1f08",
      "cell_type": "code",
      "metadata": {},
      "source": [
        "# 10-seed last-3 CV (more stable) to tune LB-aligned params; register into res2\n",
        "print('Running residual CV: last-3 per patient, 10 seeds...', flush=True)\n",
        "seeds10 = (42,123,456,789,2024,7,13,101,2025,314159)\n",
        "res3_10 = temporal_cv_with_lgbm_and_residuals(train, n_splits=5, seed=42, temporal_k=3, seeds_bag=seeds10)\n",
        "print('Full OOF (last-3, 10-seed):', res3_10['best_score'], 'best:', res3_10['best'])\n",
        "\n",
        "# Register as res2 for production parity\n",
        "best10 = res3_10['best']\n",
        "train_sorted10 = res3_10.get('train_sorted', None)\n",
        "res2 = {'best_score': res3_10['best_score'], 'best': best10, 'train_sorted': train_sorted10}\n",
        "print('res2 (last-3 tuned, 10 seeds) registered for production:', res2['best'])"
      ],
      "execution_count": 42,
      "outputs": [
        {
          "output_type": "stream",
          "name": "stdout",
          "text": [
            "Running residual CV: last-3 per patient, 10 seeds...\n"
          ]
        },
        {
          "output_type": "stream",
          "name": "stdout",
          "text": [
            "Seed bag 1/10 (seed=42)\n"
          ]
        },
        {
          "output_type": "stream",
          "name": "stdout",
          "text": [
            "0:\tlearn: 113.2495065\ttest: 149.3363851\tbest: 149.3363851 (0)\ttotal: 12.8ms\tremaining: 32s\n"
          ]
        },
        {
          "output_type": "stream",
          "name": "stdout",
          "text": [
            "200:\tlearn: 111.8935020\ttest: 147.9704386\tbest: 147.9704386 (200)\ttotal: 2.34s\tremaining: 26.7s\n"
          ]
        },
        {
          "output_type": "stream",
          "name": "stdout",
          "text": [
            "400:\tlearn: 110.5579497\ttest: 146.6234436\tbest: 146.6234436 (400)\ttotal: 4.67s\tremaining: 24.4s\n"
          ]
        },
        {
          "output_type": "stream",
          "name": "stdout",
          "text": [
            "600:\tlearn: 109.2583181\ttest: 145.2526449\tbest: 145.2526449 (600)\ttotal: 6.96s\tremaining: 22s\n"
          ]
        },
        {
          "output_type": "stream",
          "name": "stdout",
          "text": [
            "800:\tlearn: 107.9892864\ttest: 143.8810628\tbest: 143.8810628 (800)\ttotal: 9.25s\tremaining: 19.6s\n"
          ]
        },
        {
          "output_type": "stream",
          "name": "stdout",
          "text": [
            "1000:\tlearn: 106.7641082\ttest: 142.5346171\tbest: 142.5346171 (1000)\ttotal: 11.5s\tremaining: 17.3s\n"
          ]
        },
        {
          "output_type": "stream",
          "name": "stdout",
          "text": [
            "1200:\tlearn: 105.6010690\ttest: 141.2209880\tbest: 141.2209880 (1200)\ttotal: 13.8s\tremaining: 15s\n"
          ]
        },
        {
          "output_type": "stream",
          "name": "stdout",
          "text": [
            "1400:\tlearn: 104.4827619\ttest: 139.9352620\tbest: 139.9352620 (1400)\ttotal: 16.1s\tremaining: 12.7s\n"
          ]
        },
        {
          "output_type": "stream",
          "name": "stdout",
          "text": [
            "1600:\tlearn: 103.4114262\ttest: 138.6787313\tbest: 138.6787313 (1600)\ttotal: 18.4s\tremaining: 10.3s\n"
          ]
        },
        {
          "output_type": "stream",
          "name": "stdout",
          "text": [
            "1800:\tlearn: 102.3722915\ttest: 137.4537862\tbest: 137.4537862 (1800)\ttotal: 20.7s\tremaining: 8.04s\n"
          ]
        },
        {
          "output_type": "stream",
          "name": "stdout",
          "text": [
            "2000:\tlearn: 101.3698960\ttest: 136.2694194\tbest: 136.2694194 (2000)\ttotal: 23s\tremaining: 5.74s\n"
          ]
        },
        {
          "output_type": "stream",
          "name": "stdout",
          "text": [
            "2200:\tlearn: 100.3905407\ttest: 135.1094869\tbest: 135.1094869 (2200)\ttotal: 25.3s\tremaining: 3.44s\n"
          ]
        },
        {
          "output_type": "stream",
          "name": "stdout",
          "text": [
            "2400:\tlearn: 99.4602754\ttest: 133.9956665\tbest: 133.9956665 (2400)\ttotal: 27.7s\tremaining: 1.14s\n"
          ]
        },
        {
          "output_type": "stream",
          "name": "stdout",
          "text": [
            "2499:\tlearn: 99.0196456\ttest: 133.4332581\tbest: 133.4332581 (2499)\ttotal: 28.8s\tremaining: 0us\nbestTest = 133.4332581\nbestIteration = 2499\n"
          ]
        },
        {
          "output_type": "stream",
          "name": "stdout",
          "text": [
            "0:\tlearn: 309.8899949\ttest: 362.3509464\tbest: 362.3509464 (0)\ttotal: 10.3ms\tremaining: 12.3s\n"
          ]
        },
        {
          "output_type": "stream",
          "name": "stdout",
          "text": [
            "200:\tlearn: 159.8447774\ttest: 347.0005854\tbest: 347.0005854 (200)\ttotal: 1.91s\tremaining: 9.49s\n"
          ]
        },
        {
          "output_type": "stream",
          "name": "stdout",
          "text": [
            "400:\tlearn: 143.7512832\ttest: 330.4164040\tbest: 330.4164040 (400)\ttotal: 3.81s\tremaining: 7.6s\n"
          ]
        },
        {
          "output_type": "stream",
          "name": "stdout",
          "text": [
            "bestTest = 328.06813\nbestIteration = 459\nShrink model to first 460 iterations.\nSeed 42 Fold 0 done. tr=1298 va=96\n"
          ]
        },
        {
          "output_type": "stream",
          "name": "stdout",
          "text": [
            "0:\tlearn: 113.0472722\ttest: 171.3216553\tbest: 171.3216553 (0)\ttotal: 12.4ms\tremaining: 31.1s\n"
          ]
        },
        {
          "output_type": "stream",
          "name": "stdout",
          "text": [
            "200:\tlearn: 111.7070493\ttest: 169.9328308\tbest: 169.9328308 (200)\ttotal: 2.28s\tremaining: 26s\n"
          ]
        },
        {
          "output_type": "stream",
          "name": "stdout",
          "text": [
            "400:\tlearn: 110.3865201\ttest: 168.5638631\tbest: 168.5638631 (400)\ttotal: 4.55s\tremaining: 23.8s\n"
          ]
        },
        {
          "output_type": "stream",
          "name": "stdout",
          "text": [
            "600:\tlearn: 109.1004310\ttest: 167.1955566\tbest: 167.1955566 (600)\ttotal: 6.85s\tremaining: 21.7s\n"
          ]
        },
        {
          "output_type": "stream",
          "name": "stdout",
          "text": [
            "800:\tlearn: 107.8590500\ttest: 165.8305257\tbest: 165.8305257 (800)\ttotal: 9.14s\tremaining: 19.4s\n"
          ]
        },
        {
          "output_type": "stream",
          "name": "stdout",
          "text": [
            "1000:\tlearn: 106.6560092\ttest: 164.4741211\tbest: 164.4741211 (1000)\ttotal: 11.4s\tremaining: 17.1s\n"
          ]
        },
        {
          "output_type": "stream",
          "name": "stdout",
          "text": [
            "1200:\tlearn: 105.4939089\ttest: 163.0999146\tbest: 163.0999146 (1200)\ttotal: 13.7s\tremaining: 14.8s\n"
          ]
        },
        {
          "output_type": "stream",
          "name": "stdout",
          "text": [
            "1400:\tlearn: 104.3651892\ttest: 161.7098389\tbest: 161.7098389 (1400)\ttotal: 16s\tremaining: 12.6s\n"
          ]
        },
        {
          "output_type": "stream",
          "name": "stdout",
          "text": [
            "1600:\tlearn: 103.2758089\ttest: 160.3457845\tbest: 160.3457845 (1600)\ttotal: 18.3s\tremaining: 10.3s\n"
          ]
        },
        {
          "output_type": "stream",
          "name": "stdout",
          "text": [
            "1800:\tlearn: 102.2273690\ttest: 159.0548503\tbest: 159.0548503 (1800)\ttotal: 20.6s\tremaining: 7.99s\n"
          ]
        },
        {
          "output_type": "stream",
          "name": "stdout",
          "text": [
            "2000:\tlearn: 101.2148377\ttest: 157.8287150\tbest: 157.8287150 (2000)\ttotal: 22.9s\tremaining: 5.7s\n"
          ]
        },
        {
          "output_type": "stream",
          "name": "stdout",
          "text": [
            "2200:\tlearn: 100.2147956\ttest: 156.6637268\tbest: 156.6637268 (2200)\ttotal: 25.2s\tremaining: 3.42s\n"
          ]
        },
        {
          "output_type": "stream",
          "name": "stdout",
          "text": [
            "2400:\tlearn: 99.2561031\ttest: 155.5362345\tbest: 155.5362345 (2400)\ttotal: 27.4s\tremaining: 1.13s\n"
          ]
        },
        {
          "output_type": "stream",
          "name": "stdout",
          "text": [
            "2499:\tlearn: 98.8123194\ttest: 155.0071716\tbest: 155.0071716 (2499)\ttotal: 28.6s\tremaining: 0us\nbestTest = 155.0071716\nbestIteration = 2499\n"
          ]
        },
        {
          "output_type": "stream",
          "name": "stdout",
          "text": [
            "0:\tlearn: 310.4268347\ttest: 349.9485676\tbest: 349.9485676 (0)\ttotal: 10.2ms\tremaining: 12.2s\n"
          ]
        },
        {
          "output_type": "stream",
          "name": "stdout",
          "text": [
            "200:\tlearn: 167.6385428\ttest: 336.5889401\tbest: 336.4865029 (186)\ttotal: 1.81s\tremaining: 8.99s\n"
          ]
        },
        {
          "output_type": "stream",
          "name": "stdout",
          "text": [
            "400:\tlearn: 155.1770300\ttest: 330.2814456\tbest: 330.1953809 (368)\ttotal: 3.53s\tremaining: 7.03s\n"
          ]
        },
        {
          "output_type": "stream",
          "name": "stdout",
          "text": [
            "bestTest = 330.1953809\nbestIteration = 368\nShrink model to first 369 iterations.\nSeed 42 Fold 1 done. tr=1298 va=96\n"
          ]
        },
        {
          "output_type": "stream",
          "name": "stdout",
          "text": [
            "0:\tlearn: 113.3792734\ttest: 137.2503866\tbest: 137.2503866 (0)\ttotal: 12.4ms\tremaining: 31s\n"
          ]
        },
        {
          "output_type": "stream",
          "name": "stdout",
          "text": [
            "200:\tlearn: 112.0014084\ttest: 136.0018514\tbest: 136.0018514 (200)\ttotal: 2.29s\tremaining: 26.1s\n"
          ]
        },
        {
          "output_type": "stream",
          "name": "stdout",
          "text": [
            "400:\tlearn: 110.6412028\ttest: 134.8946330\tbest: 134.8946330 (400)\ttotal: 4.58s\tremaining: 24s\n"
          ]
        },
        {
          "output_type": "stream",
          "name": "stdout",
          "text": [
            "600:\tlearn: 109.3371774\ttest: 133.7479960\tbest: 133.7479960 (600)\ttotal: 6.86s\tremaining: 21.7s\n"
          ]
        },
        {
          "output_type": "stream",
          "name": "stdout",
          "text": [
            "800:\tlearn: 108.0626083\ttest: 132.5810750\tbest: 132.5810750 (800)\ttotal: 9.17s\tremaining: 19.5s\n"
          ]
        },
        {
          "output_type": "stream",
          "name": "stdout",
          "text": [
            "1000:\tlearn: 106.8303159\ttest: 131.3934326\tbest: 131.3934326 (1000)\ttotal: 11.5s\tremaining: 17.3s\n"
          ]
        },
        {
          "output_type": "stream",
          "name": "stdout",
          "text": [
            "1200:\tlearn: 105.6493644\ttest: 130.2308044\tbest: 130.2308044 (1200)\ttotal: 13.9s\tremaining: 15.1s\n"
          ]
        },
        {
          "output_type": "stream",
          "name": "stdout",
          "text": [
            "1400:\tlearn: 104.5259173\ttest: 129.1159871\tbest: 129.1159871 (1400)\ttotal: 16.3s\tremaining: 12.8s\n"
          ]
        },
        {
          "output_type": "stream",
          "name": "stdout",
          "text": [
            "1600:\tlearn: 103.4375361\ttest: 127.9957479\tbest: 127.9957479 (1600)\ttotal: 18.7s\tremaining: 10.5s\n"
          ]
        },
        {
          "output_type": "stream",
          "name": "stdout",
          "text": [
            "1800:\tlearn: 102.3955364\ttest: 126.8793335\tbest: 126.8793335 (1800)\ttotal: 21s\tremaining: 8.14s\n"
          ]
        },
        {
          "output_type": "stream",
          "name": "stdout",
          "text": [
            "2000:\tlearn: 101.3733147\ttest: 125.8017069\tbest: 125.8017069 (2000)\ttotal: 23.3s\tremaining: 5.8s\n"
          ]
        },
        {
          "output_type": "stream",
          "name": "stdout",
          "text": [
            "2200:\tlearn: 100.3739828\ttest: 124.7466838\tbest: 124.7466838 (2200)\ttotal: 25.6s\tremaining: 3.47s\n"
          ]
        },
        {
          "output_type": "stream",
          "name": "stdout",
          "text": [
            "2400:\tlearn: 99.4191665\ttest: 123.7038778\tbest: 123.7038778 (2400)\ttotal: 27.9s\tremaining: 1.15s\n"
          ]
        },
        {
          "output_type": "stream",
          "name": "stdout",
          "text": [
            "2499:\tlearn: 98.9718497\ttest: 123.1899312\tbest: 123.1899312 (2499)\ttotal: 29s\tremaining: 0us\nbestTest = 123.1899312\nbestIteration = 2499\n"
          ]
        },
        {
          "output_type": "stream",
          "name": "stdout",
          "text": [
            "0:\tlearn: 309.0070982\ttest: 313.4230036\tbest: 313.4230036 (0)\ttotal: 9.99ms\tremaining: 12s\n"
          ]
        },
        {
          "output_type": "stream",
          "name": "stdout",
          "text": [
            "bestTest = 313.4230036\nbestIteration = 0\nShrink model to first 1 iterations.\nSeed 42 Fold 2 done. tr=1298 va=96\n"
          ]
        },
        {
          "output_type": "stream",
          "name": "stdout",
          "text": [
            "0:\tlearn: 112.8750721\ttest: 167.3805444\tbest: 167.3805444 (0)\ttotal: 12.1ms\tremaining: 30.2s\n"
          ]
        },
        {
          "output_type": "stream",
          "name": "stdout",
          "text": [
            "200:\tlearn: 111.4693265\ttest: 165.9102928\tbest: 165.9102928 (200)\ttotal: 2.3s\tremaining: 26.3s\n"
          ]
        },
        {
          "output_type": "stream",
          "name": "stdout",
          "text": [
            "400:\tlearn: 110.0991425\ttest: 164.4984249\tbest: 164.4984249 (400)\ttotal: 4.61s\tremaining: 24.1s\n"
          ]
        },
        {
          "output_type": "stream",
          "name": "stdout",
          "text": [
            "600:\tlearn: 108.7739599\ttest: 163.1660366\tbest: 163.1660366 (600)\ttotal: 6.92s\tremaining: 21.9s\n"
          ]
        },
        {
          "output_type": "stream",
          "name": "stdout",
          "text": [
            "800:\tlearn: 107.4811203\ttest: 161.8943527\tbest: 161.8943527 (800)\ttotal: 9.23s\tremaining: 19.6s\n"
          ]
        },
        {
          "output_type": "stream",
          "name": "stdout",
          "text": [
            "1000:\tlearn: 106.2525581\ttest: 160.6635795\tbest: 160.6635795 (1000)\ttotal: 11.6s\tremaining: 17.3s\n"
          ]
        },
        {
          "output_type": "stream",
          "name": "stdout",
          "text": [
            "1200:\tlearn: 105.0781010\ttest: 159.4946867\tbest: 159.4946867 (1200)\ttotal: 13.9s\tremaining: 15s\n"
          ]
        },
        {
          "output_type": "stream",
          "name": "stdout",
          "text": [
            "1400:\tlearn: 103.9651950\ttest: 158.3766591\tbest: 158.3766591 (1400)\ttotal: 16.2s\tremaining: 12.7s\n"
          ]
        },
        {
          "output_type": "stream",
          "name": "stdout",
          "text": [
            "1600:\tlearn: 102.8838514\ttest: 157.2754116\tbest: 157.2754116 (1600)\ttotal: 18.5s\tremaining: 10.4s\n"
          ]
        },
        {
          "output_type": "stream",
          "name": "stdout",
          "text": [
            "1800:\tlearn: 101.8330851\ttest: 156.1931809\tbest: 156.1931809 (1800)\ttotal: 20.8s\tremaining: 8.09s\n"
          ]
        },
        {
          "output_type": "stream",
          "name": "stdout",
          "text": [
            "2000:\tlearn: 100.8141334\ttest: 155.1624034\tbest: 155.1624034 (2000)\ttotal: 23.1s\tremaining: 5.77s\n"
          ]
        },
        {
          "output_type": "stream",
          "name": "stdout",
          "text": [
            "2200:\tlearn: 99.8184389\ttest: 154.1746787\tbest: 154.1746787 (2200)\ttotal: 25.4s\tremaining: 3.46s\n"
          ]
        },
        {
          "output_type": "stream",
          "name": "stdout",
          "text": [
            "2400:\tlearn: 98.8692352\ttest: 153.1848013\tbest: 153.1848013 (2400)\ttotal: 27.7s\tremaining: 1.14s\n"
          ]
        },
        {
          "output_type": "stream",
          "name": "stdout",
          "text": [
            "2499:\tlearn: 98.4290089\ttest: 152.7128486\tbest: 152.7128486 (2499)\ttotal: 28.9s\tremaining: 0us\nbestTest = 152.7128486\nbestIteration = 2499\n"
          ]
        },
        {
          "output_type": "stream",
          "name": "stdout",
          "text": [
            "0:\tlearn: 310.4777306\ttest: 361.7568393\tbest: 361.7568393 (0)\ttotal: 9.91ms\tremaining: 11.9s\n"
          ]
        },
        {
          "output_type": "stream",
          "name": "stdout",
          "text": [
            "bestTest = 361.7568393\nbestIteration = 0\nShrink model to first 1 iterations.\nSeed 42 Fold 3 done. tr=1301 va=93\n"
          ]
        },
        {
          "output_type": "stream",
          "name": "stdout",
          "text": [
            "0:\tlearn: 110.0629684\ttest: 230.5955141\tbest: 230.5955141 (0)\ttotal: 12.2ms\tremaining: 30.5s\n"
          ]
        },
        {
          "output_type": "stream",
          "name": "stdout",
          "text": [
            "200:\tlearn: 108.6796815\ttest: 229.2131636\tbest: 229.2131636 (200)\ttotal: 2.31s\tremaining: 26.5s\n"
          ]
        },
        {
          "output_type": "stream",
          "name": "stdout",
          "text": [
            "400:\tlearn: 107.3161991\ttest: 227.8449891\tbest: 227.8449891 (400)\ttotal: 4.61s\tremaining: 24.1s\n"
          ]
        },
        {
          "output_type": "stream",
          "name": "stdout",
          "text": [
            "600:\tlearn: 106.0412543\ttest: 226.5540365\tbest: 226.5540365 (600)\ttotal: 6.92s\tremaining: 21.9s\n"
          ]
        },
        {
          "output_type": "stream",
          "name": "stdout",
          "text": [
            "800:\tlearn: 104.8186611\ttest: 225.2495380\tbest: 225.2495380 (800)\ttotal: 9.22s\tremaining: 19.6s\n"
          ]
        },
        {
          "output_type": "stream",
          "name": "stdout",
          "text": [
            "1000:\tlearn: 103.6175298\ttest: 223.9558972\tbest: 223.9558972 (1000)\ttotal: 11.5s\tremaining: 17.2s\n"
          ]
        },
        {
          "output_type": "stream",
          "name": "stdout",
          "text": [
            "1200:\tlearn: 102.4525365\ttest: 222.6626764\tbest: 222.6626764 (1200)\ttotal: 13.8s\tremaining: 14.9s\n"
          ]
        },
        {
          "output_type": "stream",
          "name": "stdout",
          "text": [
            "1400:\tlearn: 101.3467045\ttest: 221.4185148\tbest: 221.4185148 (1400)\ttotal: 16.1s\tremaining: 12.6s\n"
          ]
        },
        {
          "output_type": "stream",
          "name": "stdout",
          "text": [
            "1600:\tlearn: 100.2847329\ttest: 220.2057502\tbest: 220.2057502 (1600)\ttotal: 18.4s\tremaining: 10.3s\n"
          ]
        },
        {
          "output_type": "stream",
          "name": "stdout",
          "text": [
            "1800:\tlearn: 99.2525221\ttest: 219.0361433\tbest: 219.0361433 (1800)\ttotal: 20.7s\tremaining: 8.05s\n"
          ]
        },
        {
          "output_type": "stream",
          "name": "stdout",
          "text": [
            "2000:\tlearn: 98.2491293\ttest: 217.8888819\tbest: 217.8888819 (2000)\ttotal: 23.1s\tremaining: 5.75s\n"
          ]
        },
        {
          "output_type": "stream",
          "name": "stdout",
          "text": [
            "2200:\tlearn: 97.2825531\ttest: 216.7311828\tbest: 216.7311828 (2200)\ttotal: 25.4s\tremaining: 3.45s\n"
          ]
        },
        {
          "output_type": "stream",
          "name": "stdout",
          "text": [
            "2400:\tlearn: 96.3644432\ttest: 215.6257560\tbest: 215.6257560 (2400)\ttotal: 27.7s\tremaining: 1.14s\n"
          ]
        },
        {
          "output_type": "stream",
          "name": "stdout",
          "text": [
            "2499:\tlearn: 95.9239407\ttest: 215.0921539\tbest: 215.0921539 (2499)\ttotal: 28.9s\tremaining: 0us\nbestTest = 215.0921539\nbestIteration = 2499\n"
          ]
        },
        {
          "output_type": "stream",
          "name": "stdout",
          "text": [
            "0:\tlearn: 305.0458768\ttest: 616.8901194\tbest: 616.8901194 (0)\ttotal: 10.2ms\tremaining: 12.2s\n"
          ]
        },
        {
          "output_type": "stream",
          "name": "stdout",
          "text": [
            "200:\tlearn: 152.1546606\ttest: 577.7536775\tbest: 577.7536775 (200)\ttotal: 1.86s\tremaining: 9.27s\n"
          ]
        },
        {
          "output_type": "stream",
          "name": "stdout",
          "text": [
            "400:\tlearn: 132.5646913\ttest: 523.5804772\tbest: 523.5804772 (400)\ttotal: 3.73s\tremaining: 7.43s\n"
          ]
        },
        {
          "output_type": "stream",
          "name": "stdout",
          "text": [
            "600:\tlearn: 122.9508004\ttest: 492.9163160\tbest: 492.9013947 (599)\ttotal: 5.54s\tremaining: 5.52s\n"
          ]
        },
        {
          "output_type": "stream",
          "name": "stdout",
          "text": [
            "800:\tlearn: 119.9124585\ttest: 461.3508683\tbest: 461.3466497 (798)\ttotal: 7.4s\tremaining: 3.69s\n"
          ]
        },
        {
          "output_type": "stream",
          "name": "stdout",
          "text": [
            "1000:\tlearn: 119.4366034\ttest: 456.8850588\tbest: 456.8850588 (1000)\ttotal: 9.21s\tremaining: 1.83s\n"
          ]
        },
        {
          "output_type": "stream",
          "name": "stdout",
          "text": [
            "1199:\tlearn: 116.0243819\ttest: 445.9223135\tbest: 445.9223135 (1199)\ttotal: 11s\tremaining: 0us\nbestTest = 445.9223135\nbestIteration = 1199\nSeed 42 Fold 4 done. tr=1301 va=93\nSeed bag 2/10 (seed=123)\n"
          ]
        },
        {
          "output_type": "stream",
          "name": "stdout",
          "text": [
            "0:\tlearn: 113.2494222\ttest: 149.3354289\tbest: 149.3354289 (0)\ttotal: 13.1ms\tremaining: 32.8s\n"
          ]
        },
        {
          "output_type": "stream",
          "name": "stdout",
          "text": [
            "200:\tlearn: 111.8925992\ttest: 147.9676819\tbest: 147.9676819 (200)\ttotal: 2.27s\tremaining: 26s\n"
          ]
        },
        {
          "output_type": "stream",
          "name": "stdout",
          "text": [
            "400:\tlearn: 110.5528457\ttest: 146.6070964\tbest: 146.6070964 (400)\ttotal: 4.57s\tremaining: 23.9s\n"
          ]
        },
        {
          "output_type": "stream",
          "name": "stdout",
          "text": [
            "600:\tlearn: 109.2564763\ttest: 145.2236226\tbest: 145.2236226 (600)\ttotal: 6.88s\tremaining: 21.8s\n"
          ]
        },
        {
          "output_type": "stream",
          "name": "stdout",
          "text": [
            "800:\tlearn: 107.9973878\ttest: 143.8439738\tbest: 143.8439738 (800)\ttotal: 9.17s\tremaining: 19.5s\n"
          ]
        },
        {
          "output_type": "stream",
          "name": "stdout",
          "text": [
            "1000:\tlearn: 106.7870040\ttest: 142.4863688\tbest: 142.4863688 (1000)\ttotal: 11.5s\tremaining: 17.2s\n"
          ]
        },
        {
          "output_type": "stream",
          "name": "stdout",
          "text": [
            "1200:\tlearn: 105.6409861\ttest: 141.1603800\tbest: 141.1603800 (1200)\ttotal: 13.8s\tremaining: 14.9s\n"
          ]
        },
        {
          "output_type": "stream",
          "name": "stdout",
          "text": [
            "1400:\tlearn: 104.5442147\ttest: 139.8758240\tbest: 139.8758240 (1400)\ttotal: 16.1s\tremaining: 12.6s\n"
          ]
        },
        {
          "output_type": "stream",
          "name": "stdout",
          "text": [
            "1600:\tlearn: 103.4924162\ttest: 138.6432088\tbest: 138.6432088 (1600)\ttotal: 18.4s\tremaining: 10.3s\n"
          ]
        },
        {
          "output_type": "stream",
          "name": "stdout",
          "text": [
            "1800:\tlearn: 102.4734327\ttest: 137.4499512\tbest: 137.4499512 (1800)\ttotal: 20.7s\tremaining: 8.02s\n"
          ]
        },
        {
          "output_type": "stream",
          "name": "stdout",
          "text": [
            "2000:\tlearn: 101.4860121\ttest: 136.2883301\tbest: 136.2883301 (2000)\ttotal: 23s\tremaining: 5.73s\n"
          ]
        },
        {
          "output_type": "stream",
          "name": "stdout",
          "text": [
            "2200:\tlearn: 100.5380573\ttest: 135.1169840\tbest: 135.1169840 (2200)\ttotal: 25.3s\tremaining: 3.43s\n"
          ]
        },
        {
          "output_type": "stream",
          "name": "stdout",
          "text": [
            "2400:\tlearn: 99.6334866\ttest: 133.9735514\tbest: 133.9735514 (2400)\ttotal: 27.5s\tremaining: 1.14s\n"
          ]
        },
        {
          "output_type": "stream",
          "name": "stdout",
          "text": [
            "2499:\tlearn: 99.1996581\ttest: 133.3987122\tbest: 133.3987122 (2499)\ttotal: 28.7s\tremaining: 0us\nbestTest = 133.3987122\nbestIteration = 2499\n"
          ]
        },
        {
          "output_type": "stream",
          "name": "stdout",
          "text": [
            "0:\tlearn: 310.6362872\ttest: 360.4492423\tbest: 360.4492423 (0)\ttotal: 10.4ms\tremaining: 12.5s\n"
          ]
        },
        {
          "output_type": "stream",
          "name": "stdout",
          "text": [
            "200:\tlearn: 155.5911091\ttest: 324.3085593\tbest: 324.3085593 (200)\ttotal: 1.92s\tremaining: 9.52s\n"
          ]
        },
        {
          "output_type": "stream",
          "name": "stdout",
          "text": [
            "400:\tlearn: 138.9629319\ttest: 307.8678525\tbest: 307.8678525 (400)\ttotal: 3.85s\tremaining: 7.67s\n"
          ]
        },
        {
          "output_type": "stream",
          "name": "stdout",
          "text": [
            "600:\tlearn: 131.4188132\ttest: 293.3884300\tbest: 293.3884300 (600)\ttotal: 5.78s\tremaining: 5.76s\n"
          ]
        },
        {
          "output_type": "stream",
          "name": "stdout",
          "text": [
            "800:\tlearn: 128.1466441\ttest: 290.2236566\tbest: 290.1996619 (797)\ttotal: 7.69s\tremaining: 3.83s\n"
          ]
        },
        {
          "output_type": "stream",
          "name": "stdout",
          "text": [
            "1000:\tlearn: 123.8065492\ttest: 284.2599676\tbest: 284.2596011 (999)\ttotal: 9.63s\tremaining: 1.92s\n"
          ]
        },
        {
          "output_type": "stream",
          "name": "stdout",
          "text": [
            "1199:\tlearn: 121.9853612\ttest: 277.5163471\tbest: 277.5086898 (1198)\ttotal: 11.5s\tremaining: 0us\nbestTest = 277.5086898\nbestIteration = 1198\nShrink model to first 1199 iterations.\nSeed 123 Fold 0 done. tr=1298 va=96\n"
          ]
        },
        {
          "output_type": "stream",
          "name": "stdout",
          "text": [
            "0:\tlearn: 113.0471398\ttest: 171.3217367\tbest: 171.3217367 (0)\ttotal: 12.5ms\tremaining: 31.1s\n"
          ]
        },
        {
          "output_type": "stream",
          "name": "stdout",
          "text": [
            "200:\tlearn: 111.7126348\ttest: 169.9483643\tbest: 169.9483643 (200)\ttotal: 2.37s\tremaining: 27.1s\n"
          ]
        },
        {
          "output_type": "stream",
          "name": "stdout",
          "text": [
            "400:\tlearn: 110.3874831\ttest: 168.6022644\tbest: 168.6022644 (400)\ttotal: 4.74s\tremaining: 24.8s\n"
          ]
        },
        {
          "output_type": "stream",
          "name": "stdout",
          "text": [
            "600:\tlearn: 109.0965668\ttest: 167.2885640\tbest: 167.2885640 (600)\ttotal: 7.09s\tremaining: 22.4s\n"
          ]
        },
        {
          "output_type": "stream",
          "name": "stdout",
          "text": [
            "800:\tlearn: 107.8552822\ttest: 165.9364421\tbest: 165.9364421 (800)\ttotal: 9.44s\tremaining: 20s\n"
          ]
        },
        {
          "output_type": "stream",
          "name": "stdout",
          "text": [
            "1000:\tlearn: 106.6568639\ttest: 164.5793457\tbest: 164.5793457 (1000)\ttotal: 11.8s\tremaining: 17.6s\n"
          ]
        },
        {
          "output_type": "stream",
          "name": "stdout",
          "text": [
            "1200:\tlearn: 105.4990009\ttest: 163.2324727\tbest: 163.2324727 (1200)\ttotal: 14.1s\tremaining: 15.2s\n"
          ]
        },
        {
          "output_type": "stream",
          "name": "stdout",
          "text": [
            "1400:\tlearn: 104.3831375\ttest: 161.8926290\tbest: 161.8926290 (1400)\ttotal: 16.4s\tremaining: 12.9s\n"
          ]
        },
        {
          "output_type": "stream",
          "name": "stdout",
          "text": [
            "1600:\tlearn: 103.3030383\ttest: 160.5797119\tbest: 160.5797119 (1600)\ttotal: 18.7s\tremaining: 10.5s\n"
          ]
        },
        {
          "output_type": "stream",
          "name": "stdout",
          "text": [
            "1800:\tlearn: 102.2556457\ttest: 159.3412679\tbest: 159.3412679 (1800)\ttotal: 21s\tremaining: 8.16s\n"
          ]
        },
        {
          "output_type": "stream",
          "name": "stdout",
          "text": [
            "2000:\tlearn: 101.2296442\ttest: 158.1271667\tbest: 158.1271667 (2000)\ttotal: 23.3s\tremaining: 5.82s\n"
          ]
        },
        {
          "output_type": "stream",
          "name": "stdout",
          "text": [
            "2200:\tlearn: 100.2239022\ttest: 156.9573161\tbest: 156.9573161 (2200)\ttotal: 25.7s\tremaining: 3.48s\n"
          ]
        },
        {
          "output_type": "stream",
          "name": "stdout",
          "text": [
            "2400:\tlearn: 99.2763025\ttest: 155.8149007\tbest: 155.8149007 (2400)\ttotal: 28s\tremaining: 1.15s\n"
          ]
        },
        {
          "output_type": "stream",
          "name": "stdout",
          "text": [
            "2499:\tlearn: 98.8337526\ttest: 155.2814738\tbest: 155.2814738 (2499)\ttotal: 29.1s\tremaining: 0us\nbestTest = 155.2814738\nbestIteration = 2499\n"
          ]
        },
        {
          "output_type": "stream",
          "name": "stdout",
          "text": [
            "0:\tlearn: 309.2971106\ttest: 349.8404547\tbest: 349.8404547 (0)\ttotal: 10.2ms\tremaining: 12.2s\n"
          ]
        },
        {
          "output_type": "stream",
          "name": "stdout",
          "text": [
            "bestTest = 349.8404547\nbestIteration = 0\nShrink model to first 1 iterations.\nSeed 123 Fold 1 done. tr=1298 va=96\n"
          ]
        },
        {
          "output_type": "stream",
          "name": "stdout",
          "text": [
            "0:\tlearn: 113.3790808\ttest: 137.2499390\tbest: 137.2499390 (0)\ttotal: 13ms\tremaining: 32.5s\n"
          ]
        },
        {
          "output_type": "stream",
          "name": "stdout",
          "text": [
            "200:\tlearn: 111.9998555\ttest: 135.9886678\tbest: 135.9886678 (200)\ttotal: 2.32s\tremaining: 26.6s\n"
          ]
        },
        {
          "output_type": "stream",
          "name": "stdout",
          "text": [
            "400:\tlearn: 110.6462105\ttest: 134.8299357\tbest: 134.8299357 (400)\ttotal: 4.64s\tremaining: 24.3s\n"
          ]
        },
        {
          "output_type": "stream",
          "name": "stdout",
          "text": [
            "600:\tlearn: 109.3422694\ttest: 133.6948853\tbest: 133.6948853 (600)\ttotal: 6.95s\tremaining: 22s\n"
          ]
        },
        {
          "output_type": "stream",
          "name": "stdout",
          "text": [
            "800:\tlearn: 108.0591535\ttest: 132.5084534\tbest: 132.5084534 (800)\ttotal: 9.26s\tremaining: 19.6s\n"
          ]
        },
        {
          "output_type": "stream",
          "name": "stdout",
          "text": [
            "1000:\tlearn: 106.8299909\ttest: 131.3635763\tbest: 131.3635763 (1000)\ttotal: 11.6s\tremaining: 17.3s\n"
          ]
        },
        {
          "output_type": "stream",
          "name": "stdout",
          "text": [
            "1200:\tlearn: 105.6525905\ttest: 130.2397970\tbest: 130.2397970 (1200)\ttotal: 13.9s\tremaining: 15s\n"
          ]
        },
        {
          "output_type": "stream",
          "name": "stdout",
          "text": [
            "1400:\tlearn: 104.5206568\ttest: 129.1230876\tbest: 129.1230876 (1400)\ttotal: 16.2s\tremaining: 12.7s\n"
          ]
        },
        {
          "output_type": "stream",
          "name": "stdout",
          "text": [
            "1600:\tlearn: 103.4292662\ttest: 127.9854838\tbest: 127.9854838 (1600)\ttotal: 18.5s\tremaining: 10.4s\n"
          ]
        },
        {
          "output_type": "stream",
          "name": "stdout",
          "text": [
            "1800:\tlearn: 102.3863877\ttest: 126.9072469\tbest: 126.9072469 (1800)\ttotal: 20.8s\tremaining: 8.09s\n"
          ]
        },
        {
          "output_type": "stream",
          "name": "stdout",
          "text": [
            "2000:\tlearn: 101.3614936\ttest: 125.8220418\tbest: 125.8220418 (2000)\ttotal: 23.2s\tremaining: 5.77s\n"
          ]
        },
        {
          "output_type": "stream",
          "name": "stdout",
          "text": [
            "2200:\tlearn: 100.3511953\ttest: 124.7488200\tbest: 124.7488200 (2200)\ttotal: 25.5s\tremaining: 3.46s\n"
          ]
        },
        {
          "output_type": "stream",
          "name": "stdout",
          "text": [
            "2400:\tlearn: 99.3857136\ttest: 123.7001648\tbest: 123.7001648 (2400)\ttotal: 27.8s\tremaining: 1.14s\n"
          ]
        },
        {
          "output_type": "stream",
          "name": "stdout",
          "text": [
            "2499:\tlearn: 98.9304218\ttest: 123.1724447\tbest: 123.1724447 (2499)\ttotal: 28.9s\tremaining: 0us\nbestTest = 123.1724447\nbestIteration = 2499\n"
          ]
        },
        {
          "output_type": "stream",
          "name": "stdout",
          "text": [
            "0:\tlearn: 308.4479863\ttest: 313.3625097\tbest: 313.3625097 (0)\ttotal: 9.98ms\tremaining: 12s\n"
          ]
        },
        {
          "output_type": "stream",
          "name": "stdout",
          "text": [
            "bestTest = 313.3625097\nbestIteration = 0\nShrink model to first 1 iterations.\nSeed 123 Fold 2 done. tr=1298 va=96\n"
          ]
        },
        {
          "output_type": "stream",
          "name": "stdout",
          "text": [
            "0:\tlearn: 112.8753002\ttest: 167.3803238\tbest: 167.3803238 (0)\ttotal: 12ms\tremaining: 30.1s\n"
          ]
        },
        {
          "output_type": "stream",
          "name": "stdout",
          "text": [
            "200:\tlearn: 111.4729535\ttest: 165.9193548\tbest: 165.9193548 (200)\ttotal: 2.24s\tremaining: 25.6s\n"
          ]
        },
        {
          "output_type": "stream",
          "name": "stdout",
          "text": [
            "400:\tlearn: 110.1060482\ttest: 164.5042843\tbest: 164.5042843 (400)\ttotal: 4.53s\tremaining: 23.7s\n"
          ]
        },
        {
          "output_type": "stream",
          "name": "stdout",
          "text": [
            "600:\tlearn: 108.7810578\ttest: 163.1659631\tbest: 163.1659631 (600)\ttotal: 6.85s\tremaining: 21.7s\n"
          ]
        },
        {
          "output_type": "stream",
          "name": "stdout",
          "text": [
            "800:\tlearn: 107.4960607\ttest: 161.8934182\tbest: 161.8934182 (800)\ttotal: 9.17s\tremaining: 19.5s\n"
          ]
        },
        {
          "output_type": "stream",
          "name": "stdout",
          "text": [
            "1000:\tlearn: 106.2712817\ttest: 160.6627184\tbest: 160.6627184 (1000)\ttotal: 11.5s\tremaining: 17.2s\n"
          ]
        },
        {
          "output_type": "stream",
          "name": "stdout",
          "text": [
            "1200:\tlearn: 105.0997910\ttest: 159.4739898\tbest: 159.4739898 (1200)\ttotal: 13.8s\tremaining: 15s\n"
          ]
        },
        {
          "output_type": "stream",
          "name": "stdout",
          "text": [
            "1400:\tlearn: 103.9631533\ttest: 158.3528016\tbest: 158.3528016 (1400)\ttotal: 16.2s\tremaining: 12.7s\n"
          ]
        },
        {
          "output_type": "stream",
          "name": "stdout",
          "text": [
            "1600:\tlearn: 102.8776902\ttest: 157.2660240\tbest: 157.2660240 (1600)\ttotal: 18.5s\tremaining: 10.4s\n"
          ]
        },
        {
          "output_type": "stream",
          "name": "stdout",
          "text": [
            "1800:\tlearn: 101.8283532\ttest: 156.1909757\tbest: 156.1909757 (1800)\ttotal: 20.8s\tremaining: 8.07s\n"
          ]
        },
        {
          "output_type": "stream",
          "name": "stdout",
          "text": [
            "2000:\tlearn: 100.8052940\ttest: 155.1669397\tbest: 155.1669397 (2000)\ttotal: 23.1s\tremaining: 5.77s\n"
          ]
        },
        {
          "output_type": "stream",
          "name": "stdout",
          "text": [
            "2200:\tlearn: 99.8083085\ttest: 154.1504221\tbest: 154.1504221 (2200)\ttotal: 25.5s\tremaining: 3.46s\n"
          ]
        },
        {
          "output_type": "stream",
          "name": "stdout",
          "text": [
            "2400:\tlearn: 98.8483738\ttest: 153.1501596\tbest: 153.1501596 (2400)\ttotal: 27.8s\tremaining: 1.15s\n"
          ]
        },
        {
          "output_type": "stream",
          "name": "stdout",
          "text": [
            "2499:\tlearn: 98.4087721\ttest: 152.6738386\tbest: 152.6738386 (2499)\ttotal: 28.9s\tremaining: 0us\nbestTest = 152.6738386\nbestIteration = 2499\n"
          ]
        },
        {
          "output_type": "stream",
          "name": "stdout",
          "text": [
            "0:\tlearn: 309.6231127\ttest: 362.2772211\tbest: 362.2772211 (0)\ttotal: 10.4ms\tremaining: 12.5s\n"
          ]
        },
        {
          "output_type": "stream",
          "name": "stdout",
          "text": [
            "bestTest = 362.2772211\nbestIteration = 0\nShrink model to first 1 iterations.\nSeed 123 Fold 3 done. tr=1301 va=93\n"
          ]
        },
        {
          "output_type": "stream",
          "name": "stdout",
          "text": [
            "0:\tlearn: 110.0631605\ttest: 230.5959551\tbest: 230.5959551 (0)\ttotal: 12.1ms\tremaining: 30.3s\n"
          ]
        },
        {
          "output_type": "stream",
          "name": "stdout",
          "text": [
            "200:\tlearn: 108.6731000\ttest: 229.2266045\tbest: 229.2266045 (200)\ttotal: 2.28s\tremaining: 26.1s\n"
          ]
        },
        {
          "output_type": "stream",
          "name": "stdout",
          "text": [
            "400:\tlearn: 107.3094975\ttest: 227.8791163\tbest: 227.8791163 (400)\ttotal: 4.61s\tremaining: 24.1s\n"
          ]
        },
        {
          "output_type": "stream",
          "name": "stdout",
          "text": [
            "600:\tlearn: 106.0303252\ttest: 226.6249580\tbest: 226.6249580 (600)\ttotal: 6.93s\tremaining: 21.9s\n"
          ]
        },
        {
          "output_type": "stream",
          "name": "stdout",
          "text": [
            "800:\tlearn: 104.7961664\ttest: 225.3424479\tbest: 225.3424479 (800)\ttotal: 9.26s\tremaining: 19.6s\n"
          ]
        },
        {
          "output_type": "stream",
          "name": "stdout",
          "text": [
            "1000:\tlearn: 103.5931735\ttest: 224.0625420\tbest: 224.0625420 (1000)\ttotal: 11.6s\tremaining: 17.3s\n"
          ]
        },
        {
          "output_type": "stream",
          "name": "stdout",
          "text": [
            "1200:\tlearn: 102.4277119\ttest: 222.8173723\tbest: 222.8173723 (1200)\ttotal: 13.9s\tremaining: 15s\n"
          ]
        },
        {
          "output_type": "stream",
          "name": "stdout",
          "text": [
            "1400:\tlearn: 101.3188893\ttest: 221.6009115\tbest: 221.6009115 (1400)\ttotal: 16.2s\tremaining: 12.7s\n"
          ]
        },
        {
          "output_type": "stream",
          "name": "stdout",
          "text": [
            "1600:\tlearn: 100.2559930\ttest: 220.4214550\tbest: 220.4214550 (1600)\ttotal: 18.5s\tremaining: 10.4s\n"
          ]
        },
        {
          "output_type": "stream",
          "name": "stdout",
          "text": [
            "1800:\tlearn: 99.2159877\ttest: 219.2588206\tbest: 219.2588206 (1800)\ttotal: 20.8s\tremaining: 8.08s\n"
          ]
        },
        {
          "output_type": "stream",
          "name": "stdout",
          "text": [
            "2000:\tlearn: 98.1995821\ttest: 218.0948421\tbest: 218.0948421 (2000)\ttotal: 23.1s\tremaining: 5.76s\n"
          ]
        },
        {
          "output_type": "stream",
          "name": "stdout",
          "text": [
            "2200:\tlearn: 97.2355640\ttest: 217.0012181\tbest: 217.0012181 (2200)\ttotal: 25.4s\tremaining: 3.46s\n"
          ]
        },
        {
          "output_type": "stream",
          "name": "stdout",
          "text": [
            "2400:\tlearn: 96.3157907\ttest: 215.9269993\tbest: 215.9269993 (2400)\ttotal: 27.8s\tremaining: 1.14s\n"
          ]
        },
        {
          "output_type": "stream",
          "name": "stdout",
          "text": [
            "2499:\tlearn: 95.8731385\ttest: 215.4037298\tbest: 215.4037298 (2499)\ttotal: 28.9s\tremaining: 0us\nbestTest = 215.4037298\nbestIteration = 2499\n"
          ]
        },
        {
          "output_type": "stream",
          "name": "stdout",
          "text": [
            "0:\tlearn: 303.6250773\ttest: 617.1290449\tbest: 617.1290449 (0)\ttotal: 10.1ms\tremaining: 12.1s\n"
          ]
        },
        {
          "output_type": "stream",
          "name": "stdout",
          "text": [
            "200:\tlearn: 159.0949615\ttest: 527.1104024\tbest: 527.1104024 (200)\ttotal: 1.86s\tremaining: 9.27s\n"
          ]
        },
        {
          "output_type": "stream",
          "name": "stdout",
          "text": [
            "400:\tlearn: 136.3064098\ttest: 486.0318588\tbest: 486.0318588 (400)\ttotal: 3.76s\tremaining: 7.48s\n"
          ]
        },
        {
          "output_type": "stream",
          "name": "stdout",
          "text": [
            "600:\tlearn: 130.0232108\ttest: 471.1728674\tbest: 471.1728674 (600)\ttotal: 5.62s\tremaining: 5.61s\n"
          ]
        },
        {
          "output_type": "stream",
          "name": "stdout",
          "text": [
            "800:\tlearn: 126.2502730\ttest: 464.1631619\tbest: 464.1631619 (800)\ttotal: 7.46s\tremaining: 3.71s\n"
          ]
        },
        {
          "output_type": "stream",
          "name": "stdout",
          "text": [
            "1000:\tlearn: 121.8565644\ttest: 448.0074404\tbest: 448.0074404 (1000)\ttotal: 9.26s\tremaining: 1.84s\n"
          ]
        },
        {
          "output_type": "stream",
          "name": "stdout",
          "text": [
            "1199:\tlearn: 119.3238638\ttest: 446.6488843\tbest: 446.6352099 (1182)\ttotal: 11.1s\tremaining: 0us\nbestTest = 446.6352099\nbestIteration = 1182\nShrink model to first 1183 iterations.\nSeed 123 Fold 4 done. tr=1301 va=93\nSeed bag 3/10 (seed=456)\n"
          ]
        },
        {
          "output_type": "stream",
          "name": "stdout",
          "text": [
            "0:\tlearn: 113.2493740\ttest: 149.3355916\tbest: 149.3355916 (0)\ttotal: 12ms\tremaining: 30.1s\n"
          ]
        },
        {
          "output_type": "stream",
          "name": "stdout",
          "text": [
            "200:\tlearn: 111.8909019\ttest: 147.9579468\tbest: 147.9579468 (200)\ttotal: 2.29s\tremaining: 26.2s\n"
          ]
        },
        {
          "output_type": "stream",
          "name": "stdout",
          "text": [
            "400:\tlearn: 110.5548440\ttest: 146.6328023\tbest: 146.6328023 (400)\ttotal: 4.61s\tremaining: 24.1s\n"
          ]
        },
        {
          "output_type": "stream",
          "name": "stdout",
          "text": [
            "600:\tlearn: 109.2599191\ttest: 145.2905375\tbest: 145.2905375 (600)\ttotal: 6.91s\tremaining: 21.8s\n"
          ]
        },
        {
          "output_type": "stream",
          "name": "stdout",
          "text": [
            "800:\tlearn: 108.0033345\ttest: 143.9558614\tbest: 143.9558614 (800)\ttotal: 9.22s\tremaining: 19.6s\n"
          ]
        },
        {
          "output_type": "stream",
          "name": "stdout",
          "text": [
            "1000:\tlearn: 106.7889301\ttest: 142.6068929\tbest: 142.6068929 (1000)\ttotal: 11.5s\tremaining: 17.3s\n"
          ]
        },
        {
          "output_type": "stream",
          "name": "stdout",
          "text": [
            "1200:\tlearn: 105.6381332\ttest: 141.2950541\tbest: 141.2950541 (1200)\ttotal: 13.8s\tremaining: 15s\n"
          ]
        },
        {
          "output_type": "stream",
          "name": "stdout",
          "text": [
            "1400:\tlearn: 104.5282646\ttest: 140.0308228\tbest: 140.0308228 (1400)\ttotal: 16.1s\tremaining: 12.7s\n"
          ]
        },
        {
          "output_type": "stream",
          "name": "stdout",
          "text": [
            "1600:\tlearn: 103.4643683\ttest: 138.8005880\tbest: 138.8005880 (1600)\ttotal: 18.4s\tremaining: 10.3s\n"
          ]
        },
        {
          "output_type": "stream",
          "name": "stdout",
          "text": [
            "1800:\tlearn: 102.4332386\ttest: 137.6083781\tbest: 137.6083781 (1800)\ttotal: 20.7s\tremaining: 8.04s\n"
          ]
        },
        {
          "output_type": "stream",
          "name": "stdout",
          "text": [
            "2000:\tlearn: 101.4296995\ttest: 136.4400736\tbest: 136.4400736 (2000)\ttotal: 23s\tremaining: 5.74s\n"
          ]
        },
        {
          "output_type": "stream",
          "name": "stdout",
          "text": [
            "2200:\tlearn: 100.4521861\ttest: 135.3022563\tbest: 135.3022563 (2200)\ttotal: 25.3s\tremaining: 3.44s\n"
          ]
        },
        {
          "output_type": "stream",
          "name": "stdout",
          "text": [
            "2400:\tlearn: 99.5351924\ttest: 134.2161255\tbest: 134.2161255 (2400)\ttotal: 27.6s\tremaining: 1.14s\n"
          ]
        },
        {
          "output_type": "stream",
          "name": "stdout",
          "text": [
            "2499:\tlearn: 99.0981317\ttest: 133.6936646\tbest: 133.6936646 (2499)\ttotal: 28.8s\tremaining: 0us\nbestTest = 133.6936646\nbestIteration = 2499\n"
          ]
        },
        {
          "output_type": "stream",
          "name": "stdout",
          "text": [
            "0:\tlearn: 309.6047881\ttest: 362.3120921\tbest: 362.3120921 (0)\ttotal: 7.97ms\tremaining: 9.55s\n"
          ]
        },
        {
          "output_type": "stream",
          "name": "stdout",
          "text": [
            "200:\tlearn: 152.7353422\ttest: 315.2412766\tbest: 315.2412766 (200)\ttotal: 1.88s\tremaining: 9.32s\n"
          ]
        },
        {
          "output_type": "stream",
          "name": "stdout",
          "text": [
            "400:\tlearn: 134.8549298\ttest: 287.5994846\tbest: 287.5994846 (400)\ttotal: 3.71s\tremaining: 7.38s\n"
          ]
        },
        {
          "output_type": "stream",
          "name": "stdout",
          "text": [
            "600:\tlearn: 130.6433412\ttest: 281.2217856\tbest: 281.2210911 (599)\ttotal: 5.36s\tremaining: 5.34s\n"
          ]
        },
        {
          "output_type": "stream",
          "name": "stdout",
          "text": [
            "800:\tlearn: 126.1832930\ttest: 276.6134487\tbest: 276.6134487 (800)\ttotal: 7.16s\tremaining: 3.56s\n"
          ]
        },
        {
          "output_type": "stream",
          "name": "stdout",
          "text": [
            "1000:\tlearn: 123.1046006\ttest: 273.6967414\tbest: 273.6914797 (998)\ttotal: 8.93s\tremaining: 1.77s\n"
          ]
        },
        {
          "output_type": "stream",
          "name": "stdout",
          "text": [
            "1199:\tlearn: 117.5073941\ttest: 270.1546143\tbest: 270.1546143 (1199)\ttotal: 10.8s\tremaining: 0us\nbestTest = 270.1546143\nbestIteration = 1199\nSeed 456 Fold 0 done. tr=1298 va=96\n"
          ]
        },
        {
          "output_type": "stream",
          "name": "stdout",
          "text": [
            "0:\tlearn: 113.0472482\ttest: 171.3217977\tbest: 171.3217977 (0)\ttotal: 12.2ms\tremaining: 30.5s\n"
          ]
        },
        {
          "output_type": "stream",
          "name": "stdout",
          "text": [
            "200:\tlearn: 111.7083614\ttest: 169.9234823\tbest: 169.9234823 (200)\ttotal: 2.32s\tremaining: 26.5s\n"
          ]
        },
        {
          "output_type": "stream",
          "name": "stdout",
          "text": [
            "400:\tlearn: 110.3893731\ttest: 168.5261841\tbest: 168.5261841 (400)\ttotal: 4.65s\tremaining: 24.4s\n"
          ]
        },
        {
          "output_type": "stream",
          "name": "stdout",
          "text": [
            "600:\tlearn: 109.0976141\ttest: 167.1504313\tbest: 167.1504313 (600)\ttotal: 6.98s\tremaining: 22.1s\n"
          ]
        },
        {
          "output_type": "stream",
          "name": "stdout",
          "text": [
            "800:\tlearn: 107.8525977\ttest: 165.7672729\tbest: 165.7672729 (800)\ttotal: 9.3s\tremaining: 19.7s\n"
          ]
        },
        {
          "output_type": "stream",
          "name": "stdout",
          "text": [
            "1000:\tlearn: 106.6497496\ttest: 164.3910014\tbest: 164.3910014 (1000)\ttotal: 11.6s\tremaining: 17.4s\n"
          ]
        },
        {
          "output_type": "stream",
          "name": "stdout",
          "text": [
            "1200:\tlearn: 105.4959433\ttest: 163.0259196\tbest: 163.0259196 (1200)\ttotal: 13.9s\tremaining: 15.1s\n"
          ]
        },
        {
          "output_type": "stream",
          "name": "stdout",
          "text": [
            "1400:\tlearn: 104.3757463\ttest: 161.6761678\tbest: 161.6761678 (1400)\ttotal: 16.2s\tremaining: 12.7s\n"
          ]
        },
        {
          "output_type": "stream",
          "name": "stdout",
          "text": [
            "1600:\tlearn: 103.3017142\ttest: 160.3653971\tbest: 160.3653971 (1600)\ttotal: 18.6s\tremaining: 10.4s\n"
          ]
        },
        {
          "output_type": "stream",
          "name": "stdout",
          "text": [
            "1800:\tlearn: 102.2516010\ttest: 159.0700175\tbest: 159.0700175 (1800)\ttotal: 20.9s\tremaining: 8.1s\n"
          ]
        },
        {
          "output_type": "stream",
          "name": "stdout",
          "text": [
            "2000:\tlearn: 101.2312572\ttest: 157.8481649\tbest: 157.8481649 (2000)\ttotal: 23.2s\tremaining: 5.79s\n"
          ]
        },
        {
          "output_type": "stream",
          "name": "stdout",
          "text": [
            "2200:\tlearn: 100.2200320\ttest: 156.6775309\tbest: 156.6775309 (2200)\ttotal: 25.5s\tremaining: 3.47s\n"
          ]
        },
        {
          "output_type": "stream",
          "name": "stdout",
          "text": [
            "2400:\tlearn: 99.2738949\ttest: 155.5153605\tbest: 155.5153605 (2400)\ttotal: 27.9s\tremaining: 1.15s\n"
          ]
        },
        {
          "output_type": "stream",
          "name": "stdout",
          "text": [
            "2499:\tlearn: 98.8327956\ttest: 154.9408671\tbest: 154.9408671 (2499)\ttotal: 29s\tremaining: 0us\nbestTest = 154.9408671\nbestIteration = 2499\n"
          ]
        },
        {
          "output_type": "stream",
          "name": "stdout",
          "text": [
            "0:\tlearn: 309.7239489\ttest: 350.5960847\tbest: 350.5960847 (0)\ttotal: 8.16ms\tremaining: 9.79s\n"
          ]
        },
        {
          "output_type": "stream",
          "name": "stdout",
          "text": [
            "bestTest = 349.32068\nbestIteration = 1\nShrink model to first 2 iterations.\nSeed 456 Fold 1 done. tr=1298 va=96\n"
          ]
        },
        {
          "output_type": "stream",
          "name": "stdout",
          "text": [
            "0:\tlearn: 113.3792132\ttest: 137.2504985\tbest: 137.2504985 (0)\ttotal: 12ms\tremaining: 29.9s\n"
          ]
        },
        {
          "output_type": "stream",
          "name": "stdout",
          "text": [
            "200:\tlearn: 112.0026603\ttest: 135.9857992\tbest: 135.9857992 (200)\ttotal: 2.29s\tremaining: 26.2s\n"
          ]
        },
        {
          "output_type": "stream",
          "name": "stdout",
          "text": [
            "400:\tlearn: 110.6463670\ttest: 134.8390910\tbest: 134.8390910 (400)\ttotal: 4.58s\tremaining: 24s\n"
          ]
        },
        {
          "output_type": "stream",
          "name": "stdout",
          "text": [
            "600:\tlearn: 109.3370570\ttest: 133.6657308\tbest: 133.6657308 (600)\ttotal: 6.87s\tremaining: 21.7s\n"
          ]
        },
        {
          "output_type": "stream",
          "name": "stdout",
          "text": [
            "800:\tlearn: 108.0559394\ttest: 132.4723104\tbest: 132.4723104 (800)\ttotal: 9.15s\tremaining: 19.4s\n"
          ]
        },
        {
          "output_type": "stream",
          "name": "stdout",
          "text": [
            "1000:\tlearn: 106.8301112\ttest: 131.3235474\tbest: 131.3235474 (1000)\ttotal: 11.4s\tremaining: 17.1s\n"
          ]
        },
        {
          "output_type": "stream",
          "name": "stdout",
          "text": [
            "1200:\tlearn: 105.6630634\ttest: 130.1899923\tbest: 130.1899923 (1200)\ttotal: 13.7s\tremaining: 14.9s\n"
          ]
        },
        {
          "output_type": "stream",
          "name": "stdout",
          "text": [
            "1400:\tlearn: 104.5488733\ttest: 129.0653992\tbest: 129.0653992 (1400)\ttotal: 16s\tremaining: 12.6s\n"
          ]
        },
        {
          "output_type": "stream",
          "name": "stdout",
          "text": [
            "1600:\tlearn: 103.4653433\ttest: 127.9381816\tbest: 127.9381816 (1600)\ttotal: 18.3s\tremaining: 10.3s\n"
          ]
        },
        {
          "output_type": "stream",
          "name": "stdout",
          "text": [
            "1800:\tlearn: 102.4187211\ttest: 126.8029277\tbest: 126.8029277 (1800)\ttotal: 20.6s\tremaining: 8.01s\n"
          ]
        },
        {
          "output_type": "stream",
          "name": "stdout",
          "text": [
            "2000:\tlearn: 101.4008451\ttest: 125.7177734\tbest: 125.7177734 (2000)\ttotal: 22.9s\tremaining: 5.72s\n"
          ]
        },
        {
          "output_type": "stream",
          "name": "stdout",
          "text": [
            "2200:\tlearn: 100.4159163\ttest: 124.6560974\tbest: 124.6560974 (2200)\ttotal: 25.2s\tremaining: 3.42s\n"
          ]
        },
        {
          "output_type": "stream",
          "name": "stdout",
          "text": [
            "2400:\tlearn: 99.4688644\ttest: 123.6019287\tbest: 123.6019287 (2400)\ttotal: 27.5s\tremaining: 1.13s\n"
          ]
        },
        {
          "output_type": "stream",
          "name": "stdout",
          "text": [
            "2499:\tlearn: 99.0288906\ttest: 123.0880432\tbest: 123.0880432 (2499)\ttotal: 28.6s\tremaining: 0us\nbestTest = 123.0880432\nbestIteration = 2499\n"
          ]
        },
        {
          "output_type": "stream",
          "name": "stdout",
          "text": [
            "0:\tlearn: 309.3329769\ttest: 313.2744071\tbest: 313.2744071 (0)\ttotal: 10ms\tremaining: 12s\n"
          ]
        },
        {
          "output_type": "stream",
          "name": "stdout",
          "text": [
            "bestTest = 313.2744071\nbestIteration = 0\nShrink model to first 1 iterations.\nSeed 456 Fold 2 done. tr=1298 va=96\n"
          ]
        },
        {
          "output_type": "stream",
          "name": "stdout",
          "text": [
            "0:\tlearn: 112.8750961\ttest: 167.3805234\tbest: 167.3805234 (0)\ttotal: 12.1ms\tremaining: 30.1s\n"
          ]
        },
        {
          "output_type": "stream",
          "name": "stdout",
          "text": [
            "200:\tlearn: 111.4688701\ttest: 165.9252142\tbest: 165.9252142 (200)\ttotal: 2.33s\tremaining: 26.6s\n"
          ]
        },
        {
          "output_type": "stream",
          "name": "stdout",
          "text": [
            "400:\tlearn: 110.1021090\ttest: 164.5404906\tbest: 164.5404906 (400)\ttotal: 4.64s\tremaining: 24.3s\n"
          ]
        },
        {
          "output_type": "stream",
          "name": "stdout",
          "text": [
            "600:\tlearn: 108.7795566\ttest: 163.2394153\tbest: 163.2394153 (600)\ttotal: 6.95s\tremaining: 22s\n"
          ]
        },
        {
          "output_type": "stream",
          "name": "stdout",
          "text": [
            "800:\tlearn: 107.4929501\ttest: 161.9974903\tbest: 161.9974903 (800)\ttotal: 9.27s\tremaining: 19.7s\n"
          ]
        },
        {
          "output_type": "stream",
          "name": "stdout",
          "text": [
            "1000:\tlearn: 106.2575183\ttest: 160.7978831\tbest: 160.7978831 (1000)\ttotal: 11.6s\tremaining: 17.4s\n"
          ]
        },
        {
          "output_type": "stream",
          "name": "stdout",
          "text": [
            "1200:\tlearn: 105.0789537\ttest: 159.6416541\tbest: 159.6416541 (1200)\ttotal: 13.9s\tremaining: 15.1s\n"
          ]
        },
        {
          "output_type": "stream",
          "name": "stdout",
          "text": [
            "1400:\tlearn: 103.9629612\ttest: 158.5375819\tbest: 158.5375819 (1400)\ttotal: 16.3s\tremaining: 12.8s\n"
          ]
        },
        {
          "output_type": "stream",
          "name": "stdout",
          "text": [
            "1600:\tlearn: 102.8744475\ttest: 157.4574513\tbest: 157.4574513 (1600)\ttotal: 18.6s\tremaining: 10.4s\n"
          ]
        },
        {
          "output_type": "stream",
          "name": "stdout",
          "text": [
            "1800:\tlearn: 101.8213153\ttest: 156.3963164\tbest: 156.3963164 (1800)\ttotal: 20.9s\tremaining: 8.11s\n"
          ]
        },
        {
          "output_type": "stream",
          "name": "stdout",
          "text": [
            "2000:\tlearn: 100.8073237\ttest: 155.3922736\tbest: 155.3922736 (2000)\ttotal: 23.2s\tremaining: 5.78s\n"
          ]
        },
        {
          "output_type": "stream",
          "name": "stdout",
          "text": [
            "2200:\tlearn: 99.8257350\ttest: 154.4181158\tbest: 154.4181158 (2200)\ttotal: 25.5s\tremaining: 3.46s\n"
          ]
        },
        {
          "output_type": "stream",
          "name": "stdout",
          "text": [
            "2400:\tlearn: 98.8743875\ttest: 153.4532720\tbest: 153.4532720 (2400)\ttotal: 27.8s\tremaining: 1.14s\n"
          ]
        },
        {
          "output_type": "stream",
          "name": "stdout",
          "text": [
            "2499:\tlearn: 98.4322636\ttest: 152.9855406\tbest: 152.9855406 (2499)\ttotal: 28.9s\tremaining: 0us\nbestTest = 152.9855406\nbestIteration = 2499\n"
          ]
        },
        {
          "output_type": "stream",
          "name": "stdout",
          "text": [
            "0:\tlearn: 309.0129683\ttest: 361.7923869\tbest: 361.7923869 (0)\ttotal: 10.2ms\tremaining: 12.2s\n"
          ]
        },
        {
          "output_type": "stream",
          "name": "stdout",
          "text": [
            "bestTest = 361.7923869\nbestIteration = 0\nShrink model to first 1 iterations.\nSeed 456 Fold 3 done. tr=1301 va=93\n"
          ]
        },
        {
          "output_type": "stream",
          "name": "stdout",
          "text": [
            "0:\tlearn: 110.0628843\ttest: 230.5952411\tbest: 230.5952411 (0)\ttotal: 11.4ms\tremaining: 28.5s\n"
          ]
        },
        {
          "output_type": "stream",
          "name": "stdout",
          "text": [
            "200:\tlearn: 108.6742650\ttest: 229.2500420\tbest: 229.2500420 (200)\ttotal: 2.28s\tremaining: 26.1s\n"
          ]
        },
        {
          "output_type": "stream",
          "name": "stdout",
          "text": [
            "400:\tlearn: 107.3090892\ttest: 227.9315986\tbest: 227.9315986 (400)\ttotal: 4.6s\tremaining: 24.1s\n"
          ]
        },
        {
          "output_type": "stream",
          "name": "stdout",
          "text": [
            "600:\tlearn: 106.0283556\ttest: 226.6983787\tbest: 226.6983787 (600)\ttotal: 6.92s\tremaining: 21.8s\n"
          ]
        },
        {
          "output_type": "stream",
          "name": "stdout",
          "text": [
            "800:\tlearn: 104.8037327\ttest: 225.4541751\tbest: 225.4541751 (800)\ttotal: 9.22s\tremaining: 19.5s\n"
          ]
        },
        {
          "output_type": "stream",
          "name": "stdout",
          "text": [
            "1000:\tlearn: 103.6032379\ttest: 224.2065062\tbest: 224.2065062 (1000)\ttotal: 11.5s\tremaining: 17.3s\n"
          ]
        },
        {
          "output_type": "stream",
          "name": "stdout",
          "text": [
            "1200:\tlearn: 102.4313989\ttest: 222.9637307\tbest: 222.9637307 (1200)\ttotal: 13.8s\tremaining: 15s\n"
          ]
        },
        {
          "output_type": "stream",
          "name": "stdout",
          "text": [
            "1400:\tlearn: 101.3220119\ttest: 221.7691952\tbest: 221.7691952 (1400)\ttotal: 16.1s\tremaining: 12.7s\n"
          ]
        },
        {
          "output_type": "stream",
          "name": "stdout",
          "text": [
            "1600:\tlearn: 100.2588273\ttest: 220.5705435\tbest: 220.5705435 (1600)\ttotal: 18.4s\tremaining: 10.3s\n"
          ]
        },
        {
          "output_type": "stream",
          "name": "stdout",
          "text": [
            "1800:\tlearn: 99.2215603\ttest: 219.4269573\tbest: 219.4269573 (1800)\ttotal: 20.7s\tremaining: 8.04s\n"
          ]
        },
        {
          "output_type": "stream",
          "name": "stdout",
          "text": [
            "2000:\tlearn: 98.2119043\ttest: 218.3000882\tbest: 218.3000882 (2000)\ttotal: 23s\tremaining: 5.74s\n"
          ]
        },
        {
          "output_type": "stream",
          "name": "stdout",
          "text": [
            "2200:\tlearn: 97.2582749\ttest: 217.1983367\tbest: 217.1983367 (2200)\ttotal: 25.3s\tremaining: 3.44s\n"
          ]
        },
        {
          "output_type": "stream",
          "name": "stdout",
          "text": [
            "2400:\tlearn: 96.3529917\ttest: 216.1066658\tbest: 216.1066658 (2400)\ttotal: 27.6s\tremaining: 1.14s\n"
          ]
        },
        {
          "output_type": "stream",
          "name": "stdout",
          "text": [
            "2499:\tlearn: 95.9213646\ttest: 215.5949681\tbest: 215.5949681 (2499)\ttotal: 28.7s\tremaining: 0us\nbestTest = 215.5949681\nbestIteration = 2499\n"
          ]
        },
        {
          "output_type": "stream",
          "name": "stdout",
          "text": [
            "0:\tlearn: 303.6040951\ttest: 617.2719726\tbest: 617.2719726 (0)\ttotal: 8.16ms\tremaining: 9.78s\n"
          ]
        },
        {
          "output_type": "stream",
          "name": "stdout",
          "text": [
            "200:\tlearn: 145.7633357\ttest: 564.4920640\tbest: 564.4829397 (199)\ttotal: 1.91s\tremaining: 9.49s\n"
          ]
        },
        {
          "output_type": "stream",
          "name": "stdout",
          "text": [
            "400:\tlearn: 133.8064614\ttest: 533.8395917\tbest: 533.8220073 (399)\ttotal: 3.77s\tremaining: 7.51s\n"
          ]
        },
        {
          "output_type": "stream",
          "name": "stdout",
          "text": [
            "600:\tlearn: 131.2453740\ttest: 522.3601526\tbest: 522.3601526 (600)\ttotal: 5.42s\tremaining: 5.4s\n"
          ]
        },
        {
          "output_type": "stream",
          "name": "stdout",
          "text": [
            "800:\tlearn: 130.0154665\ttest: 516.0075018\tbest: 516.0075018 (800)\ttotal: 6.5s\tremaining: 3.24s\n"
          ]
        },
        {
          "output_type": "stream",
          "name": "stdout",
          "text": [
            "1000:\tlearn: 128.4042425\ttest: 511.4640382\tbest: 511.4640382 (1000)\ttotal: 7.68s\tremaining: 1.53s\n"
          ]
        },
        {
          "output_type": "stream",
          "name": "stdout",
          "text": [
            "1199:\tlearn: 123.6501723\ttest: 493.4705273\tbest: 493.4684572 (1197)\ttotal: 9.12s\tremaining: 0us\nbestTest = 493.4684572\nbestIteration = 1197\nShrink model to first 1198 iterations.\nSeed 456 Fold 4 done. tr=1301 va=93\nSeed bag 4/10 (seed=789)\n"
          ]
        },
        {
          "output_type": "stream",
          "name": "stdout",
          "text": [
            "0:\tlearn: 113.2493981\ttest: 149.3361308\tbest: 149.3361308 (0)\ttotal: 12.1ms\tremaining: 30.2s\n"
          ]
        },
        {
          "output_type": "stream",
          "name": "stdout",
          "text": [
            "200:\tlearn: 111.8858219\ttest: 147.9797668\tbest: 147.9797668 (200)\ttotal: 2.3s\tremaining: 26.3s\n"
          ]
        },
        {
          "output_type": "stream",
          "name": "stdout",
          "text": [
            "400:\tlearn: 110.5442267\ttest: 146.6554667\tbest: 146.6554667 (400)\ttotal: 4.61s\tremaining: 24.1s\n"
          ]
        },
        {
          "output_type": "stream",
          "name": "stdout",
          "text": [
            "600:\tlearn: 109.2440774\ttest: 145.3295492\tbest: 145.3295492 (600)\ttotal: 6.92s\tremaining: 21.9s\n"
          ]
        },
        {
          "output_type": "stream",
          "name": "stdout",
          "text": [
            "800:\tlearn: 107.9904180\ttest: 143.9957479\tbest: 143.9957479 (800)\ttotal: 9.22s\tremaining: 19.6s\n"
          ]
        },
        {
          "output_type": "stream",
          "name": "stdout",
          "text": [
            "1000:\tlearn: 106.7858243\ttest: 142.6644491\tbest: 142.6644491 (1000)\ttotal: 11.5s\tremaining: 17.3s\n"
          ]
        },
        {
          "output_type": "stream",
          "name": "stdout",
          "text": [
            "1200:\tlearn: 105.6375072\ttest: 141.3741455\tbest: 141.3741455 (1200)\ttotal: 13.8s\tremaining: 15s\n"
          ]
        },
        {
          "output_type": "stream",
          "name": "stdout",
          "text": [
            "1400:\tlearn: 104.5289628\ttest: 140.1084493\tbest: 140.1084493 (1400)\ttotal: 16.2s\tremaining: 12.7s\n"
          ]
        },
        {
          "output_type": "stream",
          "name": "stdout",
          "text": [
            "1600:\tlearn: 103.4595050\ttest: 138.8890584\tbest: 138.8890584 (1600)\ttotal: 18.5s\tremaining: 10.4s\n"
          ]
        },
        {
          "output_type": "stream",
          "name": "stdout",
          "text": [
            "1800:\tlearn: 102.4396427\ttest: 137.7314250\tbest: 137.7314250 (1800)\ttotal: 20.8s\tremaining: 8.06s\n"
          ]
        },
        {
          "output_type": "stream",
          "name": "stdout",
          "text": [
            "2000:\tlearn: 101.4429651\ttest: 136.5609233\tbest: 136.5609233 (2000)\ttotal: 23.1s\tremaining: 5.75s\n"
          ]
        },
        {
          "output_type": "stream",
          "name": "stdout",
          "text": [
            "2200:\tlearn: 100.4769838\ttest: 135.4181925\tbest: 135.4181925 (2200)\ttotal: 25.4s\tremaining: 3.45s\n"
          ]
        },
        {
          "output_type": "stream",
          "name": "stdout",
          "text": [
            "2400:\tlearn: 99.5464898\ttest: 134.2762858\tbest: 134.2762858 (2400)\ttotal: 27.7s\tremaining: 1.14s\n"
          ]
        },
        {
          "output_type": "stream",
          "name": "stdout",
          "text": [
            "2499:\tlearn: 99.1105968\ttest: 133.7528483\tbest: 133.7528483 (2499)\ttotal: 28.8s\tremaining: 0us\nbestTest = 133.7528483\nbestIteration = 2499\n"
          ]
        },
        {
          "output_type": "stream",
          "name": "stdout",
          "text": [
            "0:\tlearn: 309.0260260\ttest: 362.2599349\tbest: 362.2599349 (0)\ttotal: 10.5ms\tremaining: 12.5s\n"
          ]
        },
        {
          "output_type": "stream",
          "name": "stdout",
          "text": [
            "200:\tlearn: 151.3902599\ttest: 341.5048194\tbest: 341.4363502 (191)\ttotal: 1.99s\tremaining: 9.89s\n"
          ]
        },
        {
          "output_type": "stream",
          "name": "stdout",
          "text": [
            "400:\tlearn: 139.7394781\ttest: 327.9676369\tbest: 327.9674304 (399)\ttotal: 3.84s\tremaining: 7.65s\n"
          ]
        },
        {
          "output_type": "stream",
          "name": "stdout",
          "text": [
            "600:\tlearn: 135.2134306\ttest: 318.2719291\tbest: 318.2688525 (599)\ttotal: 5.46s\tremaining: 5.45s\n"
          ]
        },
        {
          "output_type": "stream",
          "name": "stdout",
          "text": [
            "800:\tlearn: 132.0972234\ttest: 309.8474255\tbest: 309.8435929 (799)\ttotal: 6.99s\tremaining: 3.48s\n"
          ]
        },
        {
          "output_type": "stream",
          "name": "stdout",
          "text": [
            "1000:\tlearn: 131.1770466\ttest: 306.2356799\tbest: 306.1934301 (998)\ttotal: 8.54s\tremaining: 1.7s\n"
          ]
        },
        {
          "output_type": "stream",
          "name": "stdout",
          "text": [
            "1199:\tlearn: 129.4591213\ttest: 304.0412013\tbest: 303.9654757 (1157)\ttotal: 9.98s\tremaining: 0us\nbestTest = 303.9654757\nbestIteration = 1157\nShrink model to first 1158 iterations.\nSeed 789 Fold 0 done. tr=1298 va=96\n"
          ]
        },
        {
          "output_type": "stream",
          "name": "stdout",
          "text": [
            "0:\tlearn: 113.0470315\ttest: 171.3215129\tbest: 171.3215129 (0)\ttotal: 11.1ms\tremaining: 27.8s\n"
          ]
        },
        {
          "output_type": "stream",
          "name": "stdout",
          "text": [
            "200:\tlearn: 111.7113347\ttest: 169.9114787\tbest: 169.9114787 (200)\ttotal: 2.24s\tremaining: 25.7s\n"
          ]
        },
        {
          "output_type": "stream",
          "name": "stdout",
          "text": [
            "400:\tlearn: 110.3927918\ttest: 168.5226949\tbest: 168.5226949 (400)\ttotal: 4.54s\tremaining: 23.8s\n"
          ]
        },
        {
          "output_type": "stream",
          "name": "stdout",
          "text": [
            "600:\tlearn: 109.1068952\ttest: 167.1455180\tbest: 167.1455180 (600)\ttotal: 6.83s\tremaining: 21.6s\n"
          ]
        },
        {
          "output_type": "stream",
          "name": "stdout",
          "text": [
            "800:\tlearn: 107.8700043\ttest: 165.7746379\tbest: 165.7746379 (800)\ttotal: 9.13s\tremaining: 19.4s\n"
          ]
        },
        {
          "output_type": "stream",
          "name": "stdout",
          "text": [
            "1000:\tlearn: 106.6761243\ttest: 164.4187826\tbest: 164.4187826 (1000)\ttotal: 11.4s\tremaining: 17.1s\n"
          ]
        },
        {
          "output_type": "stream",
          "name": "stdout",
          "text": [
            "1200:\tlearn: 105.5185381\ttest: 163.0349325\tbest: 163.0349325 (1200)\ttotal: 13.7s\tremaining: 14.8s\n"
          ]
        },
        {
          "output_type": "stream",
          "name": "stdout",
          "text": [
            "1400:\tlearn: 104.3985579\ttest: 161.6385498\tbest: 161.6385498 (1400)\ttotal: 16s\tremaining: 12.6s\n"
          ]
        },
        {
          "output_type": "stream",
          "name": "stdout",
          "text": [
            "1600:\tlearn: 103.3220941\ttest: 160.2748210\tbest: 160.2748210 (1600)\ttotal: 18.3s\tremaining: 10.3s\n"
          ]
        },
        {
          "output_type": "stream",
          "name": "stdout",
          "text": [
            "1800:\tlearn: 102.2779998\ttest: 158.9534505\tbest: 158.9534505 (1800)\ttotal: 20.6s\tremaining: 7.99s\n"
          ]
        },
        {
          "output_type": "stream",
          "name": "stdout",
          "text": [
            "2000:\tlearn: 101.2598710\ttest: 157.6865031\tbest: 157.6865031 (2000)\ttotal: 22.9s\tremaining: 5.71s\n"
          ]
        },
        {
          "output_type": "stream",
          "name": "stdout",
          "text": [
            "2200:\tlearn: 100.2700549\ttest: 156.4588521\tbest: 156.4588521 (2200)\ttotal: 25.2s\tremaining: 3.42s\n"
          ]
        },
        {
          "output_type": "stream",
          "name": "stdout",
          "text": [
            "2400:\tlearn: 99.3364852\ttest: 155.3297729\tbest: 155.3297729 (2400)\ttotal: 27.5s\tremaining: 1.13s\n"
          ]
        },
        {
          "output_type": "stream",
          "name": "stdout",
          "text": [
            "2499:\tlearn: 98.8902699\ttest: 154.7912394\tbest: 154.7912394 (2499)\ttotal: 28.6s\tremaining: 0us\nbestTest = 154.7912394\nbestIteration = 2499\n"
          ]
        },
        {
          "output_type": "stream",
          "name": "stdout",
          "text": [
            "0:\tlearn: 309.5292614\ttest: 350.1806082\tbest: 350.1806082 (0)\ttotal: 10.3ms\tremaining: 12.4s\n"
          ]
        },
        {
          "output_type": "stream",
          "name": "stdout",
          "text": [
            "bestTest = 348.2293904\nbestIteration = 2\nShrink model to first 3 iterations.\nSeed 789 Fold 1 done. tr=1298 va=96\n"
          ]
        },
        {
          "output_type": "stream",
          "name": "stdout",
          "text": [
            "0:\tlearn: 113.3791891\ttest: 137.2493490\tbest: 137.2493490 (0)\ttotal: 12.3ms\tremaining: 30.7s\n"
          ]
        },
        {
          "output_type": "stream",
          "name": "stdout",
          "text": [
            "200:\tlearn: 112.0004093\ttest: 136.0020549\tbest: 136.0020549 (200)\ttotal: 2.31s\tremaining: 26.5s\n"
          ]
        },
        {
          "output_type": "stream",
          "name": "stdout",
          "text": [
            "400:\tlearn: 110.6423825\ttest: 134.8597616\tbest: 134.8597616 (400)\ttotal: 4.63s\tremaining: 24.2s\n"
          ]
        },
        {
          "output_type": "stream",
          "name": "stdout",
          "text": [
            "600:\tlearn: 109.3377191\ttest: 133.7403971\tbest: 133.7403971 (600)\ttotal: 6.94s\tremaining: 21.9s\n"
          ]
        },
        {
          "output_type": "stream",
          "name": "stdout",
          "text": [
            "800:\tlearn: 108.0567941\ttest: 132.5725708\tbest: 132.5725708 (800)\ttotal: 9.26s\tremaining: 19.6s\n"
          ]
        },
        {
          "output_type": "stream",
          "name": "stdout",
          "text": [
            "1000:\tlearn: 106.8280768\ttest: 131.4100138\tbest: 131.4100138 (1000)\ttotal: 11.6s\tremaining: 17.3s\n"
          ]
        },
        {
          "output_type": "stream",
          "name": "stdout",
          "text": [
            "1200:\tlearn: 105.6466078\ttest: 130.2589417\tbest: 130.2589417 (1200)\ttotal: 13.9s\tremaining: 15s\n"
          ]
        },
        {
          "output_type": "stream",
          "name": "stdout",
          "text": [
            "1400:\tlearn: 104.5150713\ttest: 129.1309611\tbest: 129.1309611 (1400)\ttotal: 16.2s\tremaining: 12.7s\n"
          ]
        },
        {
          "output_type": "stream",
          "name": "stdout",
          "text": [
            "1600:\tlearn: 103.4340091\ttest: 128.0261027\tbest: 128.0261027 (1600)\ttotal: 18.5s\tremaining: 10.4s\n"
          ]
        },
        {
          "output_type": "stream",
          "name": "stdout",
          "text": [
            "1800:\tlearn: 102.3866164\ttest: 126.9195760\tbest: 126.9195760 (1800)\ttotal: 20.8s\tremaining: 8.07s\n"
          ]
        },
        {
          "output_type": "stream",
          "name": "stdout",
          "text": [
            "2000:\tlearn: 101.3564739\ttest: 125.8274943\tbest: 125.8274943 (2000)\ttotal: 23.1s\tremaining: 5.76s\n"
          ]
        },
        {
          "output_type": "stream",
          "name": "stdout",
          "text": [
            "2200:\tlearn: 100.3574189\ttest: 124.7588704\tbest: 124.7588704 (2200)\ttotal: 25.4s\tremaining: 3.45s\n"
          ]
        },
        {
          "output_type": "stream",
          "name": "stdout",
          "text": [
            "2400:\tlearn: 99.3987986\ttest: 123.7023112\tbest: 123.7023112 (2400)\ttotal: 27.7s\tremaining: 1.14s\n"
          ]
        },
        {
          "output_type": "stream",
          "name": "stdout",
          "text": [
            "2499:\tlearn: 98.9483520\ttest: 123.1840617\tbest: 123.1840617 (2499)\ttotal: 28.9s\tremaining: 0us\nbestTest = 123.1840617\nbestIteration = 2499\n"
          ]
        },
        {
          "output_type": "stream",
          "name": "stdout",
          "text": [
            "0:\tlearn: 308.4747507\ttest: 313.0986765\tbest: 313.0986765 (0)\ttotal: 9.81ms\tremaining: 11.8s\n"
          ]
        },
        {
          "output_type": "stream",
          "name": "stdout",
          "text": [
            "200:\tlearn: 166.2616146\ttest: 301.5249955\tbest: 301.5225772 (199)\ttotal: 1.86s\tremaining: 9.26s\n"
          ]
        },
        {
          "output_type": "stream",
          "name": "stdout",
          "text": [
            "400:\tlearn: 149.9658410\ttest: 287.5878761\tbest: 287.5878761 (400)\ttotal: 3.75s\tremaining: 7.48s\n"
          ]
        },
        {
          "output_type": "stream",
          "name": "stdout",
          "text": [
            "600:\tlearn: 138.3940133\ttest: 275.1164432\tbest: 275.1055858 (597)\ttotal: 5.59s\tremaining: 5.57s\n"
          ]
        },
        {
          "output_type": "stream",
          "name": "stdout",
          "text": [
            "800:\tlearn: 131.7778983\ttest: 267.5749700\tbest: 267.5749700 (800)\ttotal: 7.3s\tremaining: 3.63s\n"
          ]
        },
        {
          "output_type": "stream",
          "name": "stdout",
          "text": [
            "1000:\tlearn: 126.5706986\ttest: 258.1315475\tbest: 258.1301150 (999)\ttotal: 9.14s\tremaining: 1.82s\n"
          ]
        },
        {
          "output_type": "stream",
          "name": "stdout",
          "text": [
            "1199:\tlearn: 124.7152257\ttest: 256.0751131\tbest: 256.0747978 (1198)\ttotal: 11s\tremaining: 0us\nbestTest = 256.0747978\nbestIteration = 1198\nShrink model to first 1199 iterations.\nSeed 789 Fold 2 done. tr=1298 va=96\n"
          ]
        },
        {
          "output_type": "stream",
          "name": "stdout",
          "text": [
            "0:\tlearn: 112.8752522\ttest: 167.3803763\tbest: 167.3803763 (0)\ttotal: 12ms\tremaining: 30.1s\n"
          ]
        },
        {
          "output_type": "stream",
          "name": "stdout",
          "text": [
            "200:\tlearn: 111.4694706\ttest: 165.9111118\tbest: 165.9111118 (200)\ttotal: 2.27s\tremaining: 26s\n"
          ]
        },
        {
          "output_type": "stream",
          "name": "stdout",
          "text": [
            "400:\tlearn: 110.0948309\ttest: 164.5163285\tbest: 164.5163285 (400)\ttotal: 4.57s\tremaining: 23.9s\n"
          ]
        },
        {
          "output_type": "stream",
          "name": "stdout",
          "text": [
            "600:\tlearn: 108.7727830\ttest: 163.2010039\tbest: 163.2010039 (600)\ttotal: 6.86s\tremaining: 21.7s\n"
          ]
        },
        {
          "output_type": "stream",
          "name": "stdout",
          "text": [
            "800:\tlearn: 107.4879900\ttest: 161.9516759\tbest: 161.9516759 (800)\ttotal: 9.17s\tremaining: 19.4s\n"
          ]
        },
        {
          "output_type": "stream",
          "name": "stdout",
          "text": [
            "1000:\tlearn: 106.2601965\ttest: 160.7367692\tbest: 160.7367692 (1000)\ttotal: 11.5s\tremaining: 17.2s\n"
          ]
        },
        {
          "output_type": "stream",
          "name": "stdout",
          "text": [
            "1200:\tlearn: 105.0793981\ttest: 159.5782195\tbest: 159.5782195 (1200)\ttotal: 13.8s\tremaining: 14.9s\n"
          ]
        },
        {
          "output_type": "stream",
          "name": "stdout",
          "text": [
            "1400:\tlearn: 103.9468678\ttest: 158.4749139\tbest: 158.4749139 (1400)\ttotal: 16.1s\tremaining: 12.6s\n"
          ]
        },
        {
          "output_type": "stream",
          "name": "stdout",
          "text": [
            "1600:\tlearn: 102.8614047\ttest: 157.4110173\tbest: 157.4110173 (1600)\ttotal: 18.4s\tremaining: 10.3s\n"
          ]
        },
        {
          "output_type": "stream",
          "name": "stdout",
          "text": [
            "1800:\tlearn: 101.8140253\ttest: 156.3646568\tbest: 156.3646568 (1800)\ttotal: 20.7s\tremaining: 8.03s\n"
          ]
        },
        {
          "output_type": "stream",
          "name": "stdout",
          "text": [
            "2000:\tlearn: 100.7831236\ttest: 155.3672505\tbest: 155.3672505 (2000)\ttotal: 23s\tremaining: 5.74s\n"
          ]
        },
        {
          "output_type": "stream",
          "name": "stdout",
          "text": [
            "2200:\tlearn: 99.7995652\ttest: 154.4113218\tbest: 154.4113218 (2200)\ttotal: 25.4s\tremaining: 3.44s\n"
          ]
        },
        {
          "output_type": "stream",
          "name": "stdout",
          "text": [
            "2400:\tlearn: 98.8777623\ttest: 153.4597614\tbest: 153.4597614 (2400)\ttotal: 27.7s\tremaining: 1.14s\n"
          ]
        },
        {
          "output_type": "stream",
          "name": "stdout",
          "text": [
            "2499:\tlearn: 98.4445919\ttest: 152.9873677\tbest: 152.9873677 (2499)\ttotal: 28.8s\tremaining: 0us\nbestTest = 152.9873677\nbestIteration = 2499\n"
          ]
        },
        {
          "output_type": "stream",
          "name": "stdout",
          "text": [
            "0:\tlearn: 309.4490405\ttest: 361.9358198\tbest: 361.9358198 (0)\ttotal: 10.2ms\tremaining: 12.3s\n"
          ]
        },
        {
          "output_type": "stream",
          "name": "stdout",
          "text": [
            "bestTest = 361.9358198\nbestIteration = 0\nShrink model to first 1 iterations.\nSeed 789 Fold 3 done. tr=1301 va=93\n"
          ]
        },
        {
          "output_type": "stream",
          "name": "stdout",
          "text": [
            "0:\tlearn: 110.0631005\ttest: 230.5951361\tbest: 230.5951361 (0)\ttotal: 11.8ms\tremaining: 29.4s\n"
          ]
        },
        {
          "output_type": "stream",
          "name": "stdout",
          "text": [
            "200:\tlearn: 108.6749375\ttest: 229.2412214\tbest: 229.2412214 (200)\ttotal: 2.23s\tremaining: 25.6s\n"
          ]
        },
        {
          "output_type": "stream",
          "name": "stdout",
          "text": [
            "400:\tlearn: 107.3076239\ttest: 227.9178637\tbest: 227.9178637 (400)\ttotal: 4.55s\tremaining: 23.8s\n"
          ]
        },
        {
          "output_type": "stream",
          "name": "stdout",
          "text": [
            "600:\tlearn: 106.0306255\ttest: 226.6657006\tbest: 226.6657006 (600)\ttotal: 6.88s\tremaining: 21.7s\n"
          ]
        },
        {
          "output_type": "stream",
          "name": "stdout",
          "text": [
            "800:\tlearn: 104.8112990\ttest: 225.4191238\tbest: 225.4191238 (800)\ttotal: 9.21s\tremaining: 19.5s\n"
          ]
        },
        {
          "output_type": "stream",
          "name": "stdout",
          "text": [
            "1000:\tlearn: 103.6204963\ttest: 224.1503276\tbest: 224.1503276 (1000)\ttotal: 11.5s\tremaining: 17.3s\n"
          ]
        },
        {
          "output_type": "stream",
          "name": "stdout",
          "text": [
            "1200:\tlearn: 102.4626369\ttest: 222.9144405\tbest: 222.9144405 (1200)\ttotal: 13.9s\tremaining: 15s\n"
          ]
        },
        {
          "output_type": "stream",
          "name": "stdout",
          "text": [
            "1400:\tlearn: 101.3592189\ttest: 221.7278226\tbest: 221.7278226 (1400)\ttotal: 16.2s\tremaining: 12.7s\n"
          ]
        },
        {
          "output_type": "stream",
          "name": "stdout",
          "text": [
            "1600:\tlearn: 100.2963586\ttest: 220.5560946\tbest: 220.5560946 (1600)\ttotal: 18.5s\tremaining: 10.4s\n"
          ]
        },
        {
          "output_type": "stream",
          "name": "stdout",
          "text": [
            "1800:\tlearn: 99.2628447\ttest: 219.4319976\tbest: 219.4319976 (1800)\ttotal: 20.9s\tremaining: 8.1s\n"
          ]
        },
        {
          "output_type": "stream",
          "name": "stdout",
          "text": [
            "2000:\tlearn: 98.2551283\ttest: 218.3136761\tbest: 218.3136761 (2000)\ttotal: 23.2s\tremaining: 5.79s\n"
          ]
        },
        {
          "output_type": "stream",
          "name": "stdout",
          "text": [
            "2200:\tlearn: 97.3010064\ttest: 217.2263105\tbest: 217.2263105 (2200)\ttotal: 25.5s\tremaining: 3.47s\n"
          ]
        },
        {
          "output_type": "stream",
          "name": "stdout",
          "text": [
            "2400:\tlearn: 96.3975187\ttest: 216.1561660\tbest: 216.1561660 (2400)\ttotal: 27.9s\tremaining: 1.15s\n"
          ]
        },
        {
          "output_type": "stream",
          "name": "stdout",
          "text": [
            "2499:\tlearn: 95.9659517\ttest: 215.6430192\tbest: 215.6430192 (2499)\ttotal: 29s\tremaining: 0us\nbestTest = 215.6430192\nbestIteration = 2499\n"
          ]
        },
        {
          "output_type": "stream",
          "name": "stdout",
          "text": [
            "0:\tlearn: 303.4033447\ttest: 617.1501621\tbest: 617.1501621 (0)\ttotal: 10.5ms\tremaining: 12.6s\n"
          ]
        },
        {
          "output_type": "stream",
          "name": "stdout",
          "text": [
            "200:\tlearn: 154.6841964\ttest: 589.0315361\tbest: 589.0315361 (200)\ttotal: 1.89s\tremaining: 9.39s\n"
          ]
        },
        {
          "output_type": "stream",
          "name": "stdout",
          "text": [
            "400:\tlearn: 138.9831470\ttest: 577.3768081\tbest: 577.3768081 (400)\ttotal: 3.73s\tremaining: 7.44s\n"
          ]
        },
        {
          "output_type": "stream",
          "name": "stdout",
          "text": [
            "600:\tlearn: 130.4269993\ttest: 566.6269942\tbest: 566.6269942 (600)\ttotal: 5.53s\tremaining: 5.51s\n"
          ]
        },
        {
          "output_type": "stream",
          "name": "stdout",
          "text": [
            "800:\tlearn: 124.1482526\ttest: 556.1073231\tbest: 556.1073231 (800)\ttotal: 7.39s\tremaining: 3.68s\n"
          ]
        },
        {
          "output_type": "stream",
          "name": "stdout",
          "text": [
            "1000:\tlearn: 122.3640440\ttest: 552.7864119\tbest: 552.7851476 (999)\ttotal: 9.22s\tremaining: 1.83s\n"
          ]
        },
        {
          "output_type": "stream",
          "name": "stdout",
          "text": [
            "1199:\tlearn: 121.4253487\ttest: 548.6194207\tbest: 548.6194207 (1199)\ttotal: 10.9s\tremaining: 0us\nbestTest = 548.6194207\nbestIteration = 1199\nSeed 789 Fold 4 done. tr=1301 va=93\nSeed bag 5/10 (seed=2024)\n"
          ]
        },
        {
          "output_type": "stream",
          "name": "stdout",
          "text": [
            "0:\tlearn: 113.2492175\ttest: 149.3353678\tbest: 149.3353678 (0)\ttotal: 11.9ms\tremaining: 29.7s\n"
          ]
        },
        {
          "output_type": "stream",
          "name": "stdout",
          "text": [
            "200:\tlearn: 111.8889879\ttest: 147.9629924\tbest: 147.9629924 (200)\ttotal: 2.27s\tremaining: 26s\n"
          ]
        },
        {
          "output_type": "stream",
          "name": "stdout",
          "text": [
            "400:\tlearn: 110.5498604\ttest: 146.6275635\tbest: 146.6275635 (400)\ttotal: 4.58s\tremaining: 24s\n"
          ]
        },
        {
          "output_type": "stream",
          "name": "stdout",
          "text": [
            "600:\tlearn: 109.2488203\ttest: 145.2896932\tbest: 145.2896932 (600)\ttotal: 6.9s\tremaining: 21.8s\n"
          ]
        },
        {
          "output_type": "stream",
          "name": "stdout",
          "text": [
            "800:\tlearn: 107.9889132\ttest: 143.9546916\tbest: 143.9546916 (800)\ttotal: 9.21s\tremaining: 19.5s\n"
          ]
        },
        {
          "output_type": "stream",
          "name": "stdout",
          "text": [
            "1000:\tlearn: 106.7814426\ttest: 142.6460063\tbest: 142.6460063 (1000)\ttotal: 11.5s\tremaining: 17.3s\n"
          ]
        },
        {
          "output_type": "stream",
          "name": "stdout",
          "text": [
            "1200:\tlearn: 105.6282020\ttest: 141.3758748\tbest: 141.3758748 (1200)\ttotal: 13.9s\tremaining: 15s\n"
          ]
        },
        {
          "output_type": "stream",
          "name": "stdout",
          "text": [
            "1400:\tlearn: 104.5194530\ttest: 140.1254883\tbest: 140.1254883 (1400)\ttotal: 16.2s\tremaining: 12.7s\n"
          ]
        },
        {
          "output_type": "stream",
          "name": "stdout",
          "text": [
            "1600:\tlearn: 103.4528963\ttest: 138.8975830\tbest: 138.8975830 (1600)\ttotal: 18.5s\tremaining: 10.4s\n"
          ]
        },
        {
          "output_type": "stream",
          "name": "stdout",
          "text": [
            "1800:\tlearn: 102.4192748\ttest: 137.6785278\tbest: 137.6785278 (1800)\ttotal: 20.8s\tremaining: 8.07s\n"
          ]
        },
        {
          "output_type": "stream",
          "name": "stdout",
          "text": [
            "2000:\tlearn: 101.4193110\ttest: 136.5091858\tbest: 136.5091858 (2000)\ttotal: 23.1s\tremaining: 5.76s\n"
          ]
        },
        {
          "output_type": "stream",
          "name": "stdout",
          "text": [
            "2200:\tlearn: 100.4490322\ttest: 135.3741557\tbest: 135.3741557 (2200)\ttotal: 25.4s\tremaining: 3.45s\n"
          ]
        },
        {
          "output_type": "stream",
          "name": "stdout",
          "text": [
            "2400:\tlearn: 99.5286378\ttest: 134.2803955\tbest: 134.2803955 (2400)\ttotal: 27.7s\tremaining: 1.14s\n"
          ]
        },
        {
          "output_type": "stream",
          "name": "stdout",
          "text": [
            "2499:\tlearn: 99.0906081\ttest: 133.7733154\tbest: 133.7733154 (2499)\ttotal: 28.9s\tremaining: 0us\nbestTest = 133.7733154\nbestIteration = 2499\n"
          ]
        },
        {
          "output_type": "stream",
          "name": "stdout",
          "text": [
            "0:\tlearn: 309.2891896\ttest: 362.4295909\tbest: 362.4295909 (0)\ttotal: 10.4ms\tremaining: 12.4s\n"
          ]
        },
        {
          "output_type": "stream",
          "name": "stdout",
          "text": [
            "bestTest = 358.739634\nbestIteration = 88\nShrink model to first 89 iterations.\nSeed 2024 Fold 0 done. tr=1298 va=96\n"
          ]
        },
        {
          "output_type": "stream",
          "name": "stdout",
          "text": [
            "0:\tlearn: 113.0467546\ttest: 171.3216146\tbest: 171.3216146 (0)\ttotal: 12.5ms\tremaining: 31.2s\n"
          ]
        },
        {
          "output_type": "stream",
          "name": "stdout",
          "text": [
            "200:\tlearn: 111.7098421\ttest: 169.9434204\tbest: 169.9434204 (200)\ttotal: 2.29s\tremaining: 26.2s\n"
          ]
        },
        {
          "output_type": "stream",
          "name": "stdout",
          "text": [
            "400:\tlearn: 110.3879767\ttest: 168.5920207\tbest: 168.5920207 (400)\ttotal: 4.62s\tremaining: 24.2s\n"
          ]
        },
        {
          "output_type": "stream",
          "name": "stdout",
          "text": [
            "600:\tlearn: 109.0966992\ttest: 167.2551270\tbest: 167.2551270 (600)\ttotal: 6.96s\tremaining: 22s\n"
          ]
        },
        {
          "output_type": "stream",
          "name": "stdout",
          "text": [
            "800:\tlearn: 107.8541747\ttest: 165.8921204\tbest: 165.8921204 (800)\ttotal: 9.28s\tremaining: 19.7s\n"
          ]
        },
        {
          "output_type": "stream",
          "name": "stdout",
          "text": [
            "1000:\tlearn: 106.6527711\ttest: 164.5496826\tbest: 164.5496826 (1000)\ttotal: 11.6s\tremaining: 17.4s\n"
          ]
        },
        {
          "output_type": "stream",
          "name": "stdout",
          "text": [
            "1200:\tlearn: 105.5001926\ttest: 163.1652832\tbest: 163.1652832 (1200)\ttotal: 13.9s\tremaining: 15.1s\n"
          ]
        },
        {
          "output_type": "stream",
          "name": "stdout",
          "text": [
            "1400:\tlearn: 104.3731943\ttest: 161.8091431\tbest: 161.8091431 (1400)\ttotal: 16.2s\tremaining: 12.7s\n"
          ]
        },
        {
          "output_type": "stream",
          "name": "stdout",
          "text": [
            "1600:\tlearn: 103.2942628\ttest: 160.4936829\tbest: 160.4936829 (1600)\ttotal: 18.6s\tremaining: 10.4s\n"
          ]
        },
        {
          "output_type": "stream",
          "name": "stdout",
          "text": [
            "1800:\tlearn: 102.2443423\ttest: 159.2031657\tbest: 159.2031657 (1800)\ttotal: 20.9s\tremaining: 8.11s\n"
          ]
        },
        {
          "output_type": "stream",
          "name": "stdout",
          "text": [
            "2000:\tlearn: 101.2291627\ttest: 157.9856873\tbest: 157.9856873 (2000)\ttotal: 23.2s\tremaining: 5.79s\n"
          ]
        },
        {
          "output_type": "stream",
          "name": "stdout",
          "text": [
            "2200:\tlearn: 100.2333036\ttest: 156.8050741\tbest: 156.8050741 (2200)\ttotal: 25.5s\tremaining: 3.47s\n"
          ]
        },
        {
          "output_type": "stream",
          "name": "stdout",
          "text": [
            "2400:\tlearn: 99.2922766\ttest: 155.6895142\tbest: 155.6895142 (2400)\ttotal: 27.9s\tremaining: 1.15s\n"
          ]
        },
        {
          "output_type": "stream",
          "name": "stdout",
          "text": [
            "2499:\tlearn: 98.8510569\ttest: 155.1597493\tbest: 155.1597493 (2499)\ttotal: 29s\tremaining: 0us\nbestTest = 155.1597493\nbestIteration = 2499\n"
          ]
        },
        {
          "output_type": "stream",
          "name": "stdout",
          "text": [
            "0:\tlearn: 309.3315224\ttest: 350.2075872\tbest: 350.2075872 (0)\ttotal: 10.3ms\tremaining: 12.3s\n"
          ]
        },
        {
          "output_type": "stream",
          "name": "stdout",
          "text": [
            "bestTest = 350.2075872\nbestIteration = 0\nShrink model to first 1 iterations.\nSeed 2024 Fold 1 done. tr=1298 va=96\n"
          ]
        },
        {
          "output_type": "stream",
          "name": "stdout",
          "text": [
            "0:\tlearn: 113.3790206\ttest: 137.2500203\tbest: 137.2500203 (0)\ttotal: 12.2ms\tremaining: 30.6s\n"
          ]
        },
        {
          "output_type": "stream",
          "name": "stdout",
          "text": [
            "200:\tlearn: 112.0036595\ttest: 136.0028280\tbest: 136.0028280 (200)\ttotal: 2.31s\tremaining: 26.5s\n"
          ]
        },
        {
          "output_type": "stream",
          "name": "stdout",
          "text": [
            "400:\tlearn: 110.6484495\ttest: 134.8951213\tbest: 134.8951213 (400)\ttotal: 4.64s\tremaining: 24.3s\n"
          ]
        },
        {
          "output_type": "stream",
          "name": "stdout",
          "text": [
            "600:\tlearn: 109.3406202\ttest: 133.7564290\tbest: 133.7564290 (600)\ttotal: 6.96s\tremaining: 22s\n"
          ]
        },
        {
          "output_type": "stream",
          "name": "stdout",
          "text": [
            "800:\tlearn: 108.0568904\ttest: 132.5805155\tbest: 132.5805155 (800)\ttotal: 9.26s\tremaining: 19.6s\n"
          ]
        },
        {
          "output_type": "stream",
          "name": "stdout",
          "text": [
            "1000:\tlearn: 106.8278361\ttest: 131.3971151\tbest: 131.3971151 (1000)\ttotal: 11.6s\tremaining: 17.3s\n"
          ]
        },
        {
          "output_type": "stream",
          "name": "stdout",
          "text": [
            "1200:\tlearn: 105.6502913\ttest: 130.2238668\tbest: 130.2238668 (1200)\ttotal: 13.9s\tremaining: 15s\n"
          ]
        },
        {
          "output_type": "stream",
          "name": "stdout",
          "text": [
            "1400:\tlearn: 104.5232930\ttest: 129.0698039\tbest: 129.0698039 (1400)\ttotal: 16.2s\tremaining: 12.7s\n"
          ]
        },
        {
          "output_type": "stream",
          "name": "stdout",
          "text": [
            "1600:\tlearn: 103.4350924\ttest: 127.9320984\tbest: 127.9320984 (1600)\ttotal: 18.5s\tremaining: 10.4s\n"
          ]
        },
        {
          "output_type": "stream",
          "name": "stdout",
          "text": [
            "1800:\tlearn: 102.3904204\ttest: 126.8190308\tbest: 126.8190308 (1800)\ttotal: 20.8s\tremaining: 8.07s\n"
          ]
        },
        {
          "output_type": "stream",
          "name": "stdout",
          "text": [
            "2000:\tlearn: 101.3637086\ttest: 125.7049662\tbest: 125.7049662 (2000)\ttotal: 23.1s\tremaining: 5.77s\n"
          ]
        },
        {
          "output_type": "stream",
          "name": "stdout",
          "text": [
            "2200:\tlearn: 100.3588935\ttest: 124.6204020\tbest: 124.6204020 (2200)\ttotal: 25.4s\tremaining: 3.46s\n"
          ]
        },
        {
          "output_type": "stream",
          "name": "stdout",
          "text": [
            "2400:\tlearn: 99.3953498\ttest: 123.5835775\tbest: 123.5835775 (2400)\ttotal: 27.8s\tremaining: 1.14s\n"
          ]
        },
        {
          "output_type": "stream",
          "name": "stdout",
          "text": [
            "2499:\tlearn: 98.9440124\ttest: 123.0758057\tbest: 123.0758057 (2499)\ttotal: 28.9s\tremaining: 0us\nbestTest = 123.0758057\nbestIteration = 2499\n"
          ]
        },
        {
          "output_type": "stream",
          "name": "stdout",
          "text": [
            "0:\tlearn: 308.4495049\ttest: 313.3904480\tbest: 313.3904480 (0)\ttotal: 10.5ms\tremaining: 12.6s\n"
          ]
        },
        {
          "output_type": "stream",
          "name": "stdout",
          "text": [
            "bestTest = 313.390448\nbestIteration = 0\nShrink model to first 1 iterations.\nSeed 2024 Fold 2 done. tr=1298 va=96\n"
          ]
        },
        {
          "output_type": "stream",
          "name": "stdout",
          "text": [
            "0:\tlearn: 112.8750961\ttest: 167.3805234\tbest: 167.3805234 (0)\ttotal: 12.3ms\tremaining: 30.7s\n"
          ]
        },
        {
          "output_type": "stream",
          "name": "stdout",
          "text": [
            "200:\tlearn: 111.4672488\ttest: 165.9054519\tbest: 165.9054519 (200)\ttotal: 2.31s\tremaining: 26.4s\n"
          ]
        },
        {
          "output_type": "stream",
          "name": "stdout",
          "text": [
            "400:\tlearn: 110.0941583\ttest: 164.5019741\tbest: 164.5019741 (400)\ttotal: 4.65s\tremaining: 24.3s\n"
          ]
        },
        {
          "output_type": "stream",
          "name": "stdout",
          "text": [
            "600:\tlearn: 108.7690599\ttest: 163.1888651\tbest: 163.1888651 (600)\ttotal: 6.99s\tremaining: 22.1s\n"
          ]
        },
        {
          "output_type": "stream",
          "name": "stdout",
          "text": [
            "800:\tlearn: 107.4781178\ttest: 161.9369960\tbest: 161.9369960 (800)\ttotal: 9.32s\tremaining: 19.8s\n"
          ]
        },
        {
          "output_type": "stream",
          "name": "stdout",
          "text": [
            "1000:\tlearn: 106.2498078\ttest: 160.7270665\tbest: 160.7270665 (1000)\ttotal: 11.7s\tremaining: 17.5s\n"
          ]
        },
        {
          "output_type": "stream",
          "name": "stdout",
          "text": [
            "1200:\tlearn: 105.0767318\ttest: 159.5773900\tbest: 159.5773900 (1200)\ttotal: 14s\tremaining: 15.1s\n"
          ]
        },
        {
          "output_type": "stream",
          "name": "stdout",
          "text": [
            "1400:\tlearn: 103.9490176\ttest: 158.4822644\tbest: 158.4822644 (1400)\ttotal: 16.3s\tremaining: 12.8s\n"
          ]
        },
        {
          "output_type": "stream",
          "name": "stdout",
          "text": [
            "1600:\tlearn: 102.8550754\ttest: 157.4065545\tbest: 157.4065545 (1600)\ttotal: 18.7s\tremaining: 10.5s\n"
          ]
        },
        {
          "output_type": "stream",
          "name": "stdout",
          "text": [
            "1800:\tlearn: 101.7957461\ttest: 156.3610761\tbest: 156.3610761 (1800)\ttotal: 21s\tremaining: 8.16s\n"
          ]
        },
        {
          "output_type": "stream",
          "name": "stdout",
          "text": [
            "2000:\tlearn: 100.7683873\ttest: 155.3739919\tbest: 155.3739919 (2000)\ttotal: 23.4s\tremaining: 5.83s\n"
          ]
        },
        {
          "output_type": "stream",
          "name": "stdout",
          "text": [
            "2200:\tlearn: 99.7791963\ttest: 154.4075311\tbest: 154.4075311 (2200)\ttotal: 25.7s\tremaining: 3.49s\n"
          ]
        },
        {
          "output_type": "stream",
          "name": "stdout",
          "text": [
            "2400:\tlearn: 98.8367662\ttest: 153.4408392\tbest: 153.4408392 (2400)\ttotal: 28.1s\tremaining: 1.16s\n"
          ]
        },
        {
          "output_type": "stream",
          "name": "stdout",
          "text": [
            "2499:\tlearn: 98.3997286\ttest: 152.9781691\tbest: 152.9781691 (2499)\ttotal: 29.2s\tremaining: 0us\nbestTest = 152.9781691\nbestIteration = 2499\n"
          ]
        },
        {
          "output_type": "stream",
          "name": "stdout",
          "text": [
            "0:\tlearn: 308.5521071\ttest: 362.3001192\tbest: 362.3001192 (0)\ttotal: 10.3ms\tremaining: 12.3s\n"
          ]
        },
        {
          "output_type": "stream",
          "name": "stdout",
          "text": [
            "bestTest = 362.3001192\nbestIteration = 0\nShrink model to first 1 iterations.\nSeed 2024 Fold 3 done. tr=1301 va=93\n"
          ]
        },
        {
          "output_type": "stream",
          "name": "stdout",
          "text": [
            "0:\tlearn: 110.0632927\ttest: 230.5951361\tbest: 230.5951361 (0)\ttotal: 9.77ms\tremaining: 24.4s\n"
          ]
        },
        {
          "output_type": "stream",
          "name": "stdout",
          "text": [
            "200:\tlearn: 108.6654376\ttest: 229.2242524\tbest: 229.2242524 (200)\ttotal: 2.32s\tremaining: 26.6s\n"
          ]
        },
        {
          "output_type": "stream",
          "name": "stdout",
          "text": [
            "400:\tlearn: 107.2961904\ttest: 227.8975134\tbest: 227.8975134 (400)\ttotal: 4.65s\tremaining: 24.4s\n"
          ]
        },
        {
          "output_type": "stream",
          "name": "stdout",
          "text": [
            "600:\tlearn: 106.0188797\ttest: 226.6366767\tbest: 226.6366767 (600)\ttotal: 6.98s\tremaining: 22s\n"
          ]
        },
        {
          "output_type": "stream",
          "name": "stdout",
          "text": [
            "800:\tlearn: 104.7925394\ttest: 225.3691616\tbest: 225.3691616 (800)\ttotal: 9.29s\tremaining: 19.7s\n"
          ]
        },
        {
          "output_type": "stream",
          "name": "stdout",
          "text": [
            "1000:\tlearn: 103.5872286\ttest: 224.1089970\tbest: 224.1089970 (1000)\ttotal: 11.6s\tremaining: 17.4s\n"
          ]
        },
        {
          "output_type": "stream",
          "name": "stdout",
          "text": [
            "1200:\tlearn: 102.4293692\ttest: 222.8605301\tbest: 222.8605301 (1200)\ttotal: 14s\tremaining: 15.1s\n"
          ]
        },
        {
          "output_type": "stream",
          "name": "stdout",
          "text": [
            "1400:\tlearn: 101.3247382\ttest: 221.6441112\tbest: 221.6441112 (1400)\ttotal: 16.3s\tremaining: 12.8s\n"
          ]
        },
        {
          "output_type": "stream",
          "name": "stdout",
          "text": [
            "1600:\tlearn: 100.2563233\ttest: 220.4683300\tbest: 220.4683300 (1600)\ttotal: 18.6s\tremaining: 10.5s\n"
          ]
        },
        {
          "output_type": "stream",
          "name": "stdout",
          "text": [
            "1800:\tlearn: 99.2268688\ttest: 219.3039525\tbest: 219.3039525 (1800)\ttotal: 20.9s\tremaining: 8.13s\n"
          ]
        },
        {
          "output_type": "stream",
          "name": "stdout",
          "text": [
            "2000:\tlearn: 98.2204734\ttest: 218.1725050\tbest: 218.1725050 (2000)\ttotal: 23.3s\tremaining: 5.8s\n"
          ]
        },
        {
          "output_type": "stream",
          "name": "stdout",
          "text": [
            "2200:\tlearn: 97.2578425\ttest: 217.0765709\tbest: 217.0765709 (2200)\ttotal: 25.6s\tremaining: 3.48s\n"
          ]
        },
        {
          "output_type": "stream",
          "name": "stdout",
          "text": [
            "2400:\tlearn: 96.3396306\ttest: 215.9963248\tbest: 215.9963248 (2400)\ttotal: 27.9s\tremaining: 1.15s\n"
          ]
        },
        {
          "output_type": "stream",
          "name": "stdout",
          "text": [
            "2499:\tlearn: 95.8943601\ttest: 215.4867272\tbest: 215.4867272 (2499)\ttotal: 29.1s\tremaining: 0us\nbestTest = 215.4867272\nbestIteration = 2499\n"
          ]
        },
        {
          "output_type": "stream",
          "name": "stdout",
          "text": [
            "0:\tlearn: 302.7600628\ttest: 616.5403649\tbest: 616.5403649 (0)\ttotal: 10.4ms\tremaining: 12.5s\n"
          ]
        },
        {
          "output_type": "stream",
          "name": "stdout",
          "text": [
            "200:\tlearn: 147.8488956\ttest: 538.1587087\tbest: 538.1587087 (200)\ttotal: 1.88s\tremaining: 9.34s\n"
          ]
        },
        {
          "output_type": "stream",
          "name": "stdout",
          "text": [
            "400:\tlearn: 140.1592100\ttest: 513.0374654\tbest: 513.0004506 (392)\ttotal: 3.66s\tremaining: 7.29s\n"
          ]
        },
        {
          "output_type": "stream",
          "name": "stdout",
          "text": [
            "bestTest = 512.2349931\nbestIteration = 426\nShrink model to first 427 iterations.\nSeed 2024 Fold 4 done. tr=1301 va=93\nSeed bag 6/10 (seed=7)\n"
          ]
        },
        {
          "output_type": "stream",
          "name": "stdout",
          "text": [
            "0:\tlearn: 113.2494342\ttest: 149.3358765\tbest: 149.3358765 (0)\ttotal: 11.6ms\tremaining: 29.1s\n"
          ]
        },
        {
          "output_type": "stream",
          "name": "stdout",
          "text": [
            "200:\tlearn: 111.8922621\ttest: 147.9746094\tbest: 147.9746094 (200)\ttotal: 2.3s\tremaining: 26.3s\n"
          ]
        },
        {
          "output_type": "stream",
          "name": "stdout",
          "text": [
            "400:\tlearn: 110.5496557\ttest: 146.6382243\tbest: 146.6382243 (400)\ttotal: 4.61s\tremaining: 24.1s\n"
          ]
        },
        {
          "output_type": "stream",
          "name": "stdout",
          "text": [
            "600:\tlearn: 109.2483027\ttest: 145.2893473\tbest: 145.2893473 (600)\ttotal: 6.92s\tremaining: 21.9s\n"
          ]
        },
        {
          "output_type": "stream",
          "name": "stdout",
          "text": [
            "800:\tlearn: 107.9877335\ttest: 143.9388631\tbest: 143.9388631 (800)\ttotal: 9.22s\tremaining: 19.6s\n"
          ]
        },
        {
          "output_type": "stream",
          "name": "stdout",
          "text": [
            "1000:\tlearn: 106.7776989\ttest: 142.6037394\tbest: 142.6037394 (1000)\ttotal: 11.5s\tremaining: 17.3s\n"
          ]
        },
        {
          "output_type": "stream",
          "name": "stdout",
          "text": [
            "1200:\tlearn: 105.6308263\ttest: 141.3121745\tbest: 141.3121745 (1200)\ttotal: 13.8s\tremaining: 15s\n"
          ]
        },
        {
          "output_type": "stream",
          "name": "stdout",
          "text": [
            "1400:\tlearn: 104.5279998\ttest: 140.0687358\tbest: 140.0687358 (1400)\ttotal: 16.1s\tremaining: 12.7s\n"
          ]
        },
        {
          "output_type": "stream",
          "name": "stdout",
          "text": [
            "1600:\tlearn: 103.4616237\ttest: 138.8417155\tbest: 138.8417155 (1600)\ttotal: 18.5s\tremaining: 10.4s\n"
          ]
        },
        {
          "output_type": "stream",
          "name": "stdout",
          "text": [
            "1800:\tlearn: 102.4309154\ttest: 137.6602987\tbest: 137.6602987 (1800)\ttotal: 20.8s\tremaining: 8.07s\n"
          ]
        },
        {
          "output_type": "stream",
          "name": "stdout",
          "text": [
            "2000:\tlearn: 101.4298681\ttest: 136.4955851\tbest: 136.4955851 (2000)\ttotal: 23.1s\tremaining: 5.76s\n"
          ]
        },
        {
          "output_type": "stream",
          "name": "stdout",
          "text": [
            "2200:\tlearn: 100.4636460\ttest: 135.3330485\tbest: 135.3330485 (2200)\ttotal: 25.4s\tremaining: 3.45s\n"
          ]
        },
        {
          "output_type": "stream",
          "name": "stdout",
          "text": [
            "2400:\tlearn: 99.5474047\ttest: 134.1878560\tbest: 134.1878560 (2400)\ttotal: 27.7s\tremaining: 1.14s\n"
          ]
        },
        {
          "output_type": "stream",
          "name": "stdout",
          "text": [
            "2499:\tlearn: 99.1044275\ttest: 133.6159058\tbest: 133.6159058 (2499)\ttotal: 28.9s\tremaining: 0us\nbestTest = 133.6159058\nbestIteration = 2499\n"
          ]
        },
        {
          "output_type": "stream",
          "name": "stdout",
          "text": [
            "0:\tlearn: 309.8329984\ttest: 362.1192253\tbest: 362.1192253 (0)\ttotal: 10.1ms\tremaining: 12.1s\n"
          ]
        },
        {
          "output_type": "stream",
          "name": "stdout",
          "text": [
            "200:\tlearn: 149.7964464\ttest: 335.3368642\tbest: 335.3368642 (200)\ttotal: 1.88s\tremaining: 9.36s\n"
          ]
        },
        {
          "output_type": "stream",
          "name": "stdout",
          "text": [
            "400:\tlearn: 131.7681931\ttest: 303.1280498\tbest: 303.1062279 (399)\ttotal: 3.79s\tremaining: 7.55s\n"
          ]
        },
        {
          "output_type": "stream",
          "name": "stdout",
          "text": [
            "600:\tlearn: 121.0615921\ttest: 286.7966487\tbest: 286.7966487 (600)\ttotal: 5.67s\tremaining: 5.65s\n"
          ]
        },
        {
          "output_type": "stream",
          "name": "stdout",
          "text": [
            "800:\tlearn: 117.6416892\ttest: 284.5736028\tbest: 284.5594548 (784)\ttotal: 7.52s\tremaining: 3.74s\n"
          ]
        },
        {
          "output_type": "stream",
          "name": "stdout",
          "text": [
            "1000:\tlearn: 115.1801430\ttest: 283.3704326\tbest: 283.2894482 (986)\ttotal: 9.36s\tremaining: 1.86s\n"
          ]
        },
        {
          "output_type": "stream",
          "name": "stdout",
          "text": [
            "1199:\tlearn: 112.5819715\ttest: 280.8785417\tbest: 280.8785417 (1199)\ttotal: 11.2s\tremaining: 0us\nbestTest = 280.8785417\nbestIteration = 1199\nSeed 7 Fold 0 done. tr=1298 va=96\n"
          ]
        },
        {
          "output_type": "stream",
          "name": "stdout",
          "text": [
            "0:\tlearn: 113.0470917\ttest: 171.3217773\tbest: 171.3217773 (0)\ttotal: 12.6ms\tremaining: 31.4s\n"
          ]
        },
        {
          "output_type": "stream",
          "name": "stdout",
          "text": [
            "200:\tlearn: 111.7187500\ttest: 169.9098714\tbest: 169.9098714 (200)\ttotal: 2.28s\tremaining: 26.1s\n"
          ]
        },
        {
          "output_type": "stream",
          "name": "stdout",
          "text": [
            "400:\tlearn: 110.3949345\ttest: 168.5339050\tbest: 168.5339050 (400)\ttotal: 4.58s\tremaining: 24s\n"
          ]
        },
        {
          "output_type": "stream",
          "name": "stdout",
          "text": [
            "600:\tlearn: 109.1042108\ttest: 167.1651815\tbest: 167.1651815 (600)\ttotal: 6.89s\tremaining: 21.8s\n"
          ]
        },
        {
          "output_type": "stream",
          "name": "stdout",
          "text": [
            "800:\tlearn: 107.8592426\ttest: 165.8173625\tbest: 165.8173625 (800)\ttotal: 9.18s\tremaining: 19.5s\n"
          ]
        },
        {
          "output_type": "stream",
          "name": "stdout",
          "text": [
            "1000:\tlearn: 106.6542036\ttest: 164.4671021\tbest: 164.4671021 (1000)\ttotal: 11.5s\tremaining: 17.2s\n"
          ]
        },
        {
          "output_type": "stream",
          "name": "stdout",
          "text": [
            "1200:\tlearn: 105.4903939\ttest: 163.1058757\tbest: 163.1058757 (1200)\ttotal: 13.8s\tremaining: 14.9s\n"
          ]
        },
        {
          "output_type": "stream",
          "name": "stdout",
          "text": [
            "1400:\tlearn: 104.3609158\ttest: 161.7453206\tbest: 161.7453206 (1400)\ttotal: 16.1s\tremaining: 12.6s\n"
          ]
        },
        {
          "output_type": "stream",
          "name": "stdout",
          "text": [
            "1600:\tlearn: 103.2897487\ttest: 160.4325155\tbest: 160.4325155 (1600)\ttotal: 18.4s\tremaining: 10.3s\n"
          ]
        },
        {
          "output_type": "stream",
          "name": "stdout",
          "text": [
            "1800:\tlearn: 102.2481943\ttest: 159.1648051\tbest: 159.1648051 (1800)\ttotal: 20.7s\tremaining: 8.02s\n"
          ]
        },
        {
          "output_type": "stream",
          "name": "stdout",
          "text": [
            "2000:\tlearn: 101.2366261\ttest: 157.9399618\tbest: 157.9399618 (2000)\ttotal: 23s\tremaining: 5.73s\n"
          ]
        },
        {
          "output_type": "stream",
          "name": "stdout",
          "text": [
            "2200:\tlearn: 100.2448719\ttest: 156.7534587\tbest: 156.7534587 (2200)\ttotal: 25.3s\tremaining: 3.43s\n"
          ]
        },
        {
          "output_type": "stream",
          "name": "stdout",
          "text": [
            "2400:\tlearn: 99.3011123\ttest: 155.5950114\tbest: 155.5950114 (2400)\ttotal: 27.5s\tremaining: 1.14s\n"
          ]
        },
        {
          "output_type": "stream",
          "name": "stdout",
          "text": [
            "2499:\tlearn: 98.8601213\ttest: 155.0647583\tbest: 155.0647583 (2499)\ttotal: 28.7s\tremaining: 0us\nbestTest = 155.0647583\nbestIteration = 2499\n"
          ]
        },
        {
          "output_type": "stream",
          "name": "stdout",
          "text": [
            "0:\tlearn: 309.6826548\ttest: 351.1302139\tbest: 351.1302139 (0)\ttotal: 9.45ms\tremaining: 11.3s\n"
          ]
        },
        {
          "output_type": "stream",
          "name": "stdout",
          "text": [
            "bestTest = 349.6687123\nbestIteration = 1\nShrink model to first 2 iterations.\nSeed 7 Fold 1 done. tr=1298 va=96\n"
          ]
        },
        {
          "output_type": "stream",
          "name": "stdout",
          "text": [
            "0:\tlearn: 113.3796466\ttest: 137.2502340\tbest: 137.2502340 (0)\ttotal: 12.5ms\tremaining: 31.2s\n"
          ]
        },
        {
          "output_type": "stream",
          "name": "stdout",
          "text": [
            "200:\tlearn: 112.0136508\ttest: 135.9964905\tbest: 135.9964905 (200)\ttotal: 2.33s\tremaining: 26.6s\n"
          ]
        },
        {
          "output_type": "stream",
          "name": "stdout",
          "text": [
            "400:\tlearn: 110.6511941\ttest: 134.8762207\tbest: 134.8762207 (400)\ttotal: 4.63s\tremaining: 24.3s\n"
          ]
        },
        {
          "output_type": "stream",
          "name": "stdout",
          "text": [
            "600:\tlearn: 109.3417638\ttest: 133.7339681\tbest: 133.7339681 (600)\ttotal: 6.94s\tremaining: 21.9s\n"
          ]
        },
        {
          "output_type": "stream",
          "name": "stdout",
          "text": [
            "800:\tlearn: 108.0576006\ttest: 132.5742798\tbest: 132.5742798 (800)\ttotal: 9.23s\tremaining: 19.6s\n"
          ]
        },
        {
          "output_type": "stream",
          "name": "stdout",
          "text": [
            "1000:\tlearn: 106.8214802\ttest: 131.4260050\tbest: 131.4260050 (1000)\ttotal: 11.5s\tremaining: 17.3s\n"
          ]
        },
        {
          "output_type": "stream",
          "name": "stdout",
          "text": [
            "1200:\tlearn: 105.6412269\ttest: 130.2703959\tbest: 130.2703959 (1200)\ttotal: 13.8s\tremaining: 15s\n"
          ]
        },
        {
          "output_type": "stream",
          "name": "stdout",
          "text": [
            "1400:\tlearn: 104.5134221\ttest: 129.1377563\tbest: 129.1377563 (1400)\ttotal: 16.1s\tremaining: 12.7s\n"
          ]
        },
        {
          "output_type": "stream",
          "name": "stdout",
          "text": [
            "1600:\tlearn: 103.4246798\ttest: 128.0178223\tbest: 128.0178223 (1600)\ttotal: 18.4s\tremaining: 10.4s\n"
          ]
        },
        {
          "output_type": "stream",
          "name": "stdout",
          "text": [
            "1800:\tlearn: 102.3732666\ttest: 126.9082031\tbest: 126.9082031 (1800)\ttotal: 20.7s\tremaining: 8.05s\n"
          ]
        },
        {
          "output_type": "stream",
          "name": "stdout",
          "text": [
            "2000:\tlearn: 101.3497930\ttest: 125.8297729\tbest: 125.8297729 (2000)\ttotal: 23.1s\tremaining: 5.75s\n"
          ]
        },
        {
          "output_type": "stream",
          "name": "stdout",
          "text": [
            "2200:\tlearn: 100.3463261\ttest: 124.7791341\tbest: 124.7791341 (2200)\ttotal: 25.4s\tremaining: 3.45s\n"
          ]
        },
        {
          "output_type": "stream",
          "name": "stdout",
          "text": [
            "2400:\tlearn: 99.3902217\ttest: 123.7325439\tbest: 123.7325439 (2400)\ttotal: 27.7s\tremaining: 1.14s\n"
          ]
        },
        {
          "output_type": "stream",
          "name": "stdout",
          "text": [
            "2499:\tlearn: 98.9417192\ttest: 123.2233887\tbest: 123.2233887 (2499)\ttotal: 28.9s\tremaining: 0us\nbestTest = 123.2233887\nbestIteration = 2499\n"
          ]
        },
        {
          "output_type": "stream",
          "name": "stdout",
          "text": [
            "0:\tlearn: 308.0030616\ttest: 313.0881798\tbest: 313.0881798 (0)\ttotal: 10.2ms\tremaining: 12.3s\n"
          ]
        },
        {
          "output_type": "stream",
          "name": "stdout",
          "text": [
            "bestTest = 313.0881798\nbestIteration = 0\nShrink model to first 1 iterations.\nSeed 7 Fold 2 done. tr=1298 va=96\n"
          ]
        },
        {
          "output_type": "stream",
          "name": "stdout",
          "text": [
            "0:\tlearn: 112.8753603\ttest: 167.3803448\tbest: 167.3803448 (0)\ttotal: 11.9ms\tremaining: 29.8s\n"
          ]
        },
        {
          "output_type": "stream",
          "name": "stdout",
          "text": [
            "200:\tlearn: 111.4694346\ttest: 165.9160891\tbest: 165.9160891 (200)\ttotal: 2.31s\tremaining: 26.5s\n"
          ]
        },
        {
          "output_type": "stream",
          "name": "stdout",
          "text": [
            "400:\tlearn: 110.1036222\ttest: 164.5124433\tbest: 164.5124433 (400)\ttotal: 4.64s\tremaining: 24.3s\n"
          ]
        },
        {
          "output_type": "stream",
          "name": "stdout",
          "text": [
            "600:\tlearn: 108.7819586\ttest: 163.1881090\tbest: 163.1881090 (600)\ttotal: 6.96s\tremaining: 22s\n"
          ]
        },
        {
          "output_type": "stream",
          "name": "stdout",
          "text": [
            "800:\tlearn: 107.4935146\ttest: 161.9386971\tbest: 161.9386971 (800)\ttotal: 9.29s\tremaining: 19.7s\n"
          ]
        },
        {
          "output_type": "stream",
          "name": "stdout",
          "text": [
            "1000:\tlearn: 106.2537711\ttest: 160.7123026\tbest: 160.7123026 (1000)\ttotal: 11.6s\tremaining: 17.4s\n"
          ]
        },
        {
          "output_type": "stream",
          "name": "stdout",
          "text": [
            "1200:\tlearn: 105.0776326\ttest: 159.5196888\tbest: 159.5196888 (1200)\ttotal: 13.9s\tremaining: 15.1s\n"
          ]
        },
        {
          "output_type": "stream",
          "name": "stdout",
          "text": [
            "1400:\tlearn: 103.9523444\ttest: 158.3934602\tbest: 158.3934602 (1400)\ttotal: 16.3s\tremaining: 12.8s\n"
          ]
        },
        {
          "output_type": "stream",
          "name": "stdout",
          "text": [
            "1600:\tlearn: 102.8725980\ttest: 157.2889785\tbest: 157.2889785 (1600)\ttotal: 18.6s\tremaining: 10.4s\n"
          ]
        },
        {
          "output_type": "stream",
          "name": "stdout",
          "text": [
            "1800:\tlearn: 101.8152623\ttest: 156.2126176\tbest: 156.2126176 (1800)\ttotal: 20.9s\tremaining: 8.11s\n"
          ]
        },
        {
          "output_type": "stream",
          "name": "stdout",
          "text": [
            "2000:\tlearn: 100.7846368\ttest: 155.1868490\tbest: 155.1868490 (2000)\ttotal: 23.2s\tremaining: 5.79s\n"
          ]
        },
        {
          "output_type": "stream",
          "name": "stdout",
          "text": [
            "2200:\tlearn: 99.8045734\ttest: 154.2036290\tbest: 154.2036290 (2200)\ttotal: 25.6s\tremaining: 3.47s\n"
          ]
        },
        {
          "output_type": "stream",
          "name": "stdout",
          "text": [
            "2400:\tlearn: 98.8580779\ttest: 153.2327369\tbest: 153.2327369 (2400)\ttotal: 27.9s\tremaining: 1.15s\n"
          ]
        },
        {
          "output_type": "stream",
          "name": "stdout",
          "text": [
            "2499:\tlearn: 98.4201816\ttest: 152.7584110\tbest: 152.7584110 (2499)\ttotal: 29.1s\tremaining: 0us\nbestTest = 152.758411\nbestIteration = 2499\n"
          ]
        },
        {
          "output_type": "stream",
          "name": "stdout",
          "text": [
            "0:\tlearn: 309.2089433\ttest: 361.9248570\tbest: 361.9248570 (0)\ttotal: 10.2ms\tremaining: 12.2s\n"
          ]
        },
        {
          "output_type": "stream",
          "name": "stdout",
          "text": [
            "bestTest = 361.7551004\nbestIteration = 1\nShrink model to first 2 iterations.\nSeed 7 Fold 3 done. tr=1301 va=93\n"
          ]
        },
        {
          "output_type": "stream",
          "name": "stdout",
          "text": [
            "0:\tlearn: 110.0629684\ttest: 230.5950101\tbest: 230.5950101 (0)\ttotal: 11.8ms\tremaining: 29.4s\n"
          ]
        },
        {
          "output_type": "stream",
          "name": "stdout",
          "text": [
            "200:\tlearn: 108.6766910\ttest: 229.2559644\tbest: 229.2559644 (200)\ttotal: 2.31s\tremaining: 26.5s\n"
          ]
        },
        {
          "output_type": "stream",
          "name": "stdout",
          "text": [
            "400:\tlearn: 107.3108546\ttest: 227.9577033\tbest: 227.9577033 (400)\ttotal: 4.6s\tremaining: 24.1s\n"
          ]
        },
        {
          "output_type": "stream",
          "name": "stdout",
          "text": [
            "600:\tlearn: 106.0302772\ttest: 226.7390583\tbest: 226.7390583 (600)\ttotal: 6.88s\tremaining: 21.7s\n"
          ]
        },
        {
          "output_type": "stream",
          "name": "stdout",
          "text": [
            "800:\tlearn: 104.8023275\ttest: 225.5159190\tbest: 225.5159190 (800)\ttotal: 9.16s\tremaining: 19.4s\n"
          ]
        },
        {
          "output_type": "stream",
          "name": "stdout",
          "text": [
            "1000:\tlearn: 103.6043788\ttest: 224.2832241\tbest: 224.2832241 (1000)\ttotal: 11.5s\tremaining: 17.2s\n"
          ]
        },
        {
          "output_type": "stream",
          "name": "stdout",
          "text": [
            "1200:\tlearn: 102.4438052\ttest: 223.0667003\tbest: 223.0667003 (1200)\ttotal: 13.7s\tremaining: 14.9s\n"
          ]
        },
        {
          "output_type": "stream",
          "name": "stdout",
          "text": [
            "1400:\tlearn: 101.3351629\ttest: 221.8838206\tbest: 221.8838206 (1400)\ttotal: 16.1s\tremaining: 12.6s\n"
          ]
        },
        {
          "output_type": "stream",
          "name": "stdout",
          "text": [
            "1600:\tlearn: 100.2698525\ttest: 220.7106015\tbest: 220.7106015 (1600)\ttotal: 18.4s\tremaining: 10.3s\n"
          ]
        },
        {
          "output_type": "stream",
          "name": "stdout",
          "text": [
            "1800:\tlearn: 99.2313605\ttest: 219.5698085\tbest: 219.5698085 (1800)\ttotal: 20.7s\tremaining: 8.03s\n"
          ]
        },
        {
          "output_type": "stream",
          "name": "stdout",
          "text": [
            "2000:\tlearn: 98.2325014\ttest: 218.4615255\tbest: 218.4615255 (2000)\ttotal: 23s\tremaining: 5.73s\n"
          ]
        },
        {
          "output_type": "stream",
          "name": "stdout",
          "text": [
            "2200:\tlearn: 97.2757014\ttest: 217.3886089\tbest: 217.3886089 (2200)\ttotal: 25.3s\tremaining: 3.44s\n"
          ]
        },
        {
          "output_type": "stream",
          "name": "stdout",
          "text": [
            "2400:\tlearn: 96.3671575\ttest: 216.3223706\tbest: 216.3223706 (2400)\ttotal: 27.7s\tremaining: 1.14s\n"
          ]
        },
        {
          "output_type": "stream",
          "name": "stdout",
          "text": [
            "2499:\tlearn: 95.9271894\ttest: 215.8040575\tbest: 215.8040575 (2499)\ttotal: 28.8s\tremaining: 0us\nbestTest = 215.8040575\nbestIteration = 2499\n"
          ]
        },
        {
          "output_type": "stream",
          "name": "stdout",
          "text": [
            "0:\tlearn: 302.3245427\ttest: 617.6301918\tbest: 617.6301918 (0)\ttotal: 10.2ms\tremaining: 12.2s\n"
          ]
        },
        {
          "output_type": "stream",
          "name": "stdout",
          "text": [
            "200:\tlearn: 151.9222464\ttest: 562.6253552\tbest: 562.6253552 (200)\ttotal: 1.88s\tremaining: 9.36s\n"
          ]
        },
        {
          "output_type": "stream",
          "name": "stdout",
          "text": [
            "400:\tlearn: 140.5610970\ttest: 540.7202286\tbest: 540.7202286 (400)\ttotal: 3.75s\tremaining: 7.46s\n"
          ]
        },
        {
          "output_type": "stream",
          "name": "stdout",
          "text": [
            "600:\tlearn: 131.9965644\ttest: 500.8297202\tbest: 500.8297202 (600)\ttotal: 5.59s\tremaining: 5.58s\n"
          ]
        },
        {
          "output_type": "stream",
          "name": "stdout",
          "text": [
            "800:\tlearn: 122.2090987\ttest: 469.4615080\tbest: 469.4615080 (800)\ttotal: 7.46s\tremaining: 3.72s\n"
          ]
        },
        {
          "output_type": "stream",
          "name": "stdout",
          "text": [
            "1000:\tlearn: 117.1789988\ttest: 449.6107994\tbest: 449.6107994 (1000)\ttotal: 9.35s\tremaining: 1.86s\n"
          ]
        },
        {
          "output_type": "stream",
          "name": "stdout",
          "text": [
            "1199:\tlearn: 114.8390780\ttest: 443.3381680\tbest: 443.3381680 (1199)\ttotal: 11s\tremaining: 0us\nbestTest = 443.338168\nbestIteration = 1199\nSeed 7 Fold 4 done. tr=1301 va=93\nSeed bag 7/10 (seed=13)\n"
          ]
        },
        {
          "output_type": "stream",
          "name": "stdout",
          "text": [
            "0:\tlearn: 113.2494342\ttest: 149.3356934\tbest: 149.3356934 (0)\ttotal: 12.1ms\tremaining: 30.3s\n"
          ]
        },
        {
          "output_type": "stream",
          "name": "stdout",
          "text": [
            "200:\tlearn: 111.8903000\ttest: 147.9766032\tbest: 147.9766032 (200)\ttotal: 2.29s\tremaining: 26.3s\n"
          ]
        },
        {
          "output_type": "stream",
          "name": "stdout",
          "text": [
            "400:\tlearn: 110.5525568\ttest: 146.6636658\tbest: 146.6636658 (400)\ttotal: 4.61s\tremaining: 24.1s\n"
          ]
        },
        {
          "output_type": "stream",
          "name": "stdout",
          "text": [
            "600:\tlearn: 109.2587996\ttest: 145.3382161\tbest: 145.3382161 (600)\ttotal: 6.94s\tremaining: 21.9s\n"
          ]
        },
        {
          "output_type": "stream",
          "name": "stdout",
          "text": [
            "800:\tlearn: 108.0011315\ttest: 144.0041300\tbest: 144.0041300 (800)\ttotal: 9.27s\tremaining: 19.7s\n"
          ]
        },
        {
          "output_type": "stream",
          "name": "stdout",
          "text": [
            "1000:\tlearn: 106.7872689\ttest: 142.6754354\tbest: 142.6754354 (1000)\ttotal: 11.6s\tremaining: 17.3s\n"
          ]
        },
        {
          "output_type": "stream",
          "name": "stdout",
          "text": [
            "1200:\tlearn: 105.6298151\ttest: 141.3895162\tbest: 141.3895162 (1200)\ttotal: 13.8s\tremaining: 15s\n"
          ]
        },
        {
          "output_type": "stream",
          "name": "stdout",
          "text": [
            "1400:\tlearn: 104.5171056\ttest: 140.1177775\tbest: 140.1177775 (1400)\ttotal: 16.2s\tremaining: 12.7s\n"
          ]
        },
        {
          "output_type": "stream",
          "name": "stdout",
          "text": [
            "1600:\tlearn: 103.4502600\ttest: 138.8894348\tbest: 138.8894348 (1600)\ttotal: 18.5s\tremaining: 10.4s\n"
          ]
        },
        {
          "output_type": "stream",
          "name": "stdout",
          "text": [
            "1800:\tlearn: 102.4101743\ttest: 137.6774089\tbest: 137.6774089 (1800)\ttotal: 20.8s\tremaining: 8.06s\n"
          ]
        },
        {
          "output_type": "stream",
          "name": "stdout",
          "text": [
            "2000:\tlearn: 101.4048175\ttest: 136.4844360\tbest: 136.4844360 (2000)\ttotal: 23.1s\tremaining: 5.76s\n"
          ]
        },
        {
          "output_type": "stream",
          "name": "stdout",
          "text": [
            "2200:\tlearn: 100.4432781\ttest: 135.3207194\tbest: 135.3207194 (2200)\ttotal: 25.4s\tremaining: 3.45s\n"
          ]
        },
        {
          "output_type": "stream",
          "name": "stdout",
          "text": [
            "2400:\tlearn: 99.5224083\ttest: 134.1831258\tbest: 134.1831258 (2400)\ttotal: 27.8s\tremaining: 1.14s\n"
          ]
        },
        {
          "output_type": "stream",
          "name": "stdout",
          "text": [
            "2499:\tlearn: 99.0907044\ttest: 133.6426697\tbest: 133.6426697 (2499)\ttotal: 28.9s\tremaining: 0us\nbestTest = 133.6426697\nbestIteration = 2499\n"
          ]
        },
        {
          "output_type": "stream",
          "name": "stdout",
          "text": [
            "0:\tlearn: 309.5776137\ttest: 362.0121142\tbest: 362.0121142 (0)\ttotal: 10.2ms\tremaining: 12.2s\n"
          ]
        },
        {
          "output_type": "stream",
          "name": "stdout",
          "text": [
            "bestTest = 359.5285107\nbestIteration = 1\nShrink model to first 2 iterations.\nSeed 13 Fold 0 done. tr=1298 va=96\n"
          ]
        },
        {
          "output_type": "stream",
          "name": "stdout",
          "text": [
            "0:\tlearn: 113.0471519\ttest: 171.3224284\tbest: 171.3224284 (0)\ttotal: 12.6ms\tremaining: 31.4s\n"
          ]
        },
        {
          "output_type": "stream",
          "name": "stdout",
          "text": [
            "200:\tlearn: 111.7099865\ttest: 169.9361471\tbest: 169.9361471 (200)\ttotal: 2.3s\tremaining: 26.3s\n"
          ]
        },
        {
          "output_type": "stream",
          "name": "stdout",
          "text": [
            "400:\tlearn: 110.3806939\ttest: 168.6068726\tbest: 168.6068726 (400)\ttotal: 4.6s\tremaining: 24.1s\n"
          ]
        },
        {
          "output_type": "stream",
          "name": "stdout",
          "text": [
            "600:\tlearn: 109.0886340\ttest: 167.2430623\tbest: 167.2430623 (600)\ttotal: 6.9s\tremaining: 21.8s\n"
          ]
        },
        {
          "output_type": "stream",
          "name": "stdout",
          "text": [
            "800:\tlearn: 107.8479391\ttest: 165.8884379\tbest: 165.8884379 (800)\ttotal: 9.22s\tremaining: 19.5s\n"
          ]
        },
        {
          "output_type": "stream",
          "name": "stdout",
          "text": [
            "1000:\tlearn: 106.6455966\ttest: 164.5331624\tbest: 164.5331624 (1000)\ttotal: 11.5s\tremaining: 17.3s\n"
          ]
        },
        {
          "output_type": "stream",
          "name": "stdout",
          "text": [
            "1200:\tlearn: 105.4949441\ttest: 163.1780192\tbest: 163.1780192 (1200)\ttotal: 13.8s\tremaining: 15s\n"
          ]
        },
        {
          "output_type": "stream",
          "name": "stdout",
          "text": [
            "1400:\tlearn: 104.3741935\ttest: 161.8214417\tbest: 161.8214417 (1400)\ttotal: 16.1s\tremaining: 12.7s\n"
          ]
        },
        {
          "output_type": "stream",
          "name": "stdout",
          "text": [
            "1600:\tlearn: 103.2913376\ttest: 160.5285339\tbest: 160.5285339 (1600)\ttotal: 18.4s\tremaining: 10.3s\n"
          ]
        },
        {
          "output_type": "stream",
          "name": "stdout",
          "text": [
            "1800:\tlearn: 102.2434154\ttest: 159.2663167\tbest: 159.2663167 (1800)\ttotal: 20.7s\tremaining: 8.05s\n"
          ]
        },
        {
          "output_type": "stream",
          "name": "stdout",
          "text": [
            "2000:\tlearn: 101.2125506\ttest: 158.0504150\tbest: 158.0504150 (2000)\ttotal: 23s\tremaining: 5.75s\n"
          ]
        },
        {
          "output_type": "stream",
          "name": "stdout",
          "text": [
            "2200:\tlearn: 100.2115755\ttest: 156.8613892\tbest: 156.8613892 (2200)\ttotal: 25.4s\tremaining: 3.44s\n"
          ]
        },
        {
          "output_type": "stream",
          "name": "stdout",
          "text": [
            "2400:\tlearn: 99.2612011\ttest: 155.7029622\tbest: 155.7029622 (2400)\ttotal: 27.7s\tremaining: 1.14s\n"
          ]
        },
        {
          "output_type": "stream",
          "name": "stdout",
          "text": [
            "2499:\tlearn: 98.8175197\ttest: 155.1441447\tbest: 155.1441447 (2499)\ttotal: 28.8s\tremaining: 0us\nbestTest = 155.1441447\nbestIteration = 2499\n"
          ]
        },
        {
          "output_type": "stream",
          "name": "stdout",
          "text": [
            "0:\tlearn: 309.2625853\ttest: 349.6541446\tbest: 349.6541446 (0)\ttotal: 10.3ms\tremaining: 12.3s\n"
          ]
        },
        {
          "output_type": "stream",
          "name": "stdout",
          "text": [
            "bestTest = 347.3857426\nbestIteration = 3\nShrink model to first 4 iterations.\nSeed 13 Fold 1 done. tr=1298 va=96\n"
          ]
        },
        {
          "output_type": "stream",
          "name": "stdout",
          "text": [
            "0:\tlearn: 113.3794058\ttest: 137.2506612\tbest: 137.2506612 (0)\ttotal: 12ms\tremaining: 29.9s\n"
          ]
        },
        {
          "output_type": "stream",
          "name": "stdout",
          "text": [
            "200:\tlearn: 112.0102562\ttest: 136.0122172\tbest: 136.0122172 (200)\ttotal: 2.28s\tremaining: 26.1s\n"
          ]
        },
        {
          "output_type": "stream",
          "name": "stdout",
          "text": [
            "400:\tlearn: 110.6483292\ttest: 134.8926086\tbest: 134.8926086 (400)\ttotal: 4.61s\tremaining: 24.1s\n"
          ]
        },
        {
          "output_type": "stream",
          "name": "stdout",
          "text": [
            "600:\tlearn: 109.3406443\ttest: 133.7735799\tbest: 133.7735799 (600)\ttotal: 6.92s\tremaining: 21.9s\n"
          ]
        },
        {
          "output_type": "stream",
          "name": "stdout",
          "text": [
            "800:\tlearn: 108.0678809\ttest: 132.6258850\tbest: 132.6258850 (800)\ttotal: 9.23s\tremaining: 19.6s\n"
          ]
        },
        {
          "output_type": "stream",
          "name": "stdout",
          "text": [
            "1000:\tlearn: 106.8369607\ttest: 131.4749247\tbest: 131.4749247 (1000)\ttotal: 11.6s\tremaining: 17.3s\n"
          ]
        },
        {
          "output_type": "stream",
          "name": "stdout",
          "text": [
            "1200:\tlearn: 105.6555518\ttest: 130.3207601\tbest: 130.3207601 (1200)\ttotal: 13.9s\tremaining: 15s\n"
          ]
        },
        {
          "output_type": "stream",
          "name": "stdout",
          "text": [
            "1400:\tlearn: 104.5243644\ttest: 129.1538289\tbest: 129.1538289 (1400)\ttotal: 16.2s\tremaining: 12.7s\n"
          ]
        },
        {
          "output_type": "stream",
          "name": "stdout",
          "text": [
            "1600:\tlearn: 103.4337201\ttest: 127.9963074\tbest: 127.9963074 (1600)\ttotal: 18.5s\tremaining: 10.4s\n"
          ]
        },
        {
          "output_type": "stream",
          "name": "stdout",
          "text": [
            "1800:\tlearn: 102.3841607\ttest: 126.8558655\tbest: 126.8558655 (1800)\ttotal: 20.8s\tremaining: 8.09s\n"
          ]
        },
        {
          "output_type": "stream",
          "name": "stdout",
          "text": [
            "2000:\tlearn: 101.3539099\ttest: 125.7523193\tbest: 125.7523193 (2000)\ttotal: 23.2s\tremaining: 5.77s\n"
          ]
        },
        {
          "output_type": "stream",
          "name": "stdout",
          "text": [
            "2200:\tlearn: 100.3531154\ttest: 124.6454875\tbest: 124.6454875 (2200)\ttotal: 25.5s\tremaining: 3.46s\n"
          ]
        },
        {
          "output_type": "stream",
          "name": "stdout",
          "text": [
            "2400:\tlearn: 99.3966680\ttest: 123.5783081\tbest: 123.5783081 (2400)\ttotal: 27.8s\tremaining: 1.15s\n"
          ]
        },
        {
          "output_type": "stream",
          "name": "stdout",
          "text": [
            "2499:\tlearn: 98.9478164\ttest: 123.0558879\tbest: 123.0558879 (2499)\ttotal: 29s\tremaining: 0us\nbestTest = 123.0558879\nbestIteration = 2499\n"
          ]
        },
        {
          "output_type": "stream",
          "name": "stdout",
          "text": [
            "0:\tlearn: 308.9540982\ttest: 313.2301470\tbest: 313.2301470 (0)\ttotal: 9.9ms\tremaining: 11.9s\n"
          ]
        },
        {
          "output_type": "stream",
          "name": "stdout",
          "text": [
            "bestTest = 313.230147\nbestIteration = 0\nShrink model to first 1 iterations.\nSeed 13 Fold 2 done. tr=1298 va=96\n"
          ]
        },
        {
          "output_type": "stream",
          "name": "stdout",
          "text": [
            "0:\tlearn: 112.8755284\ttest: 167.3808804\tbest: 167.3808804 (0)\ttotal: 11.9ms\tremaining: 29.8s\n"
          ]
        },
        {
          "output_type": "stream",
          "name": "stdout",
          "text": [
            "200:\tlearn: 111.4700831\ttest: 165.9094947\tbest: 165.9094947 (200)\ttotal: 2.26s\tremaining: 25.9s\n"
          ]
        },
        {
          "output_type": "stream",
          "name": "stdout",
          "text": [
            "400:\tlearn: 110.1007758\ttest: 164.4909274\tbest: 164.4909274 (400)\ttotal: 4.55s\tremaining: 23.8s\n"
          ]
        },
        {
          "output_type": "stream",
          "name": "stdout",
          "text": [
            "600:\tlearn: 108.7766982\ttest: 163.1767263\tbest: 163.1767263 (600)\ttotal: 6.84s\tremaining: 21.6s\n"
          ]
        },
        {
          "output_type": "stream",
          "name": "stdout",
          "text": [
            "800:\tlearn: 107.4886025\ttest: 161.9348748\tbest: 161.9348748 (800)\ttotal: 9.11s\tremaining: 19.3s\n"
          ]
        },
        {
          "output_type": "stream",
          "name": "stdout",
          "text": [
            "1000:\tlearn: 106.2611092\ttest: 160.7296077\tbest: 160.7296077 (1000)\ttotal: 11.4s\tremaining: 17.1s\n"
          ]
        },
        {
          "output_type": "stream",
          "name": "stdout",
          "text": [
            "1200:\tlearn: 105.0821724\ttest: 159.5642851\tbest: 159.5642851 (1200)\ttotal: 13.7s\tremaining: 14.8s\n"
          ]
        },
        {
          "output_type": "stream",
          "name": "stdout",
          "text": [
            "1400:\tlearn: 103.9478046\ttest: 158.4419103\tbest: 158.4419103 (1400)\ttotal: 16s\tremaining: 12.5s\n"
          ]
        },
        {
          "output_type": "stream",
          "name": "stdout",
          "text": [
            "1600:\tlearn: 102.8603718\ttest: 157.3234837\tbest: 157.3234837 (1600)\ttotal: 18.3s\tremaining: 10.3s\n"
          ]
        },
        {
          "output_type": "stream",
          "name": "stdout",
          "text": [
            "1800:\tlearn: 101.8125480\ttest: 156.2530452\tbest: 156.2530452 (1800)\ttotal: 20.6s\tremaining: 7.98s\n"
          ]
        },
        {
          "output_type": "stream",
          "name": "stdout",
          "text": [
            "2000:\tlearn: 100.7812260\ttest: 155.2382182\tbest: 155.2382182 (2000)\ttotal: 22.8s\tremaining: 5.69s\n"
          ]
        },
        {
          "output_type": "stream",
          "name": "stdout",
          "text": [
            "2200:\tlearn: 99.7865644\ttest: 154.2663390\tbest: 154.2663390 (2200)\ttotal: 25.1s\tremaining: 3.41s\n"
          ]
        },
        {
          "output_type": "stream",
          "name": "stdout",
          "text": [
            "2400:\tlearn: 98.8385557\ttest: 153.3058111\tbest: 153.3058111 (2400)\ttotal: 27.4s\tremaining: 1.13s\n"
          ]
        },
        {
          "output_type": "stream",
          "name": "stdout",
          "text": [
            "2499:\tlearn: 98.3987197\ttest: 152.8369981\tbest: 152.8369981 (2499)\ttotal: 28.6s\tremaining: 0us\nbestTest = 152.8369981\nbestIteration = 2499\n"
          ]
        },
        {
          "output_type": "stream",
          "name": "stdout",
          "text": [
            "0:\tlearn: 309.4719611\ttest: 362.1862528\tbest: 362.1862528 (0)\ttotal: 10.3ms\tremaining: 12.4s\n"
          ]
        },
        {
          "output_type": "stream",
          "name": "stdout",
          "text": [
            "bestTest = 362.1862528\nbestIteration = 0\nShrink model to first 1 iterations.\nSeed 13 Fold 3 done. tr=1301 va=93\n"
          ]
        },
        {
          "output_type": "stream",
          "name": "stdout",
          "text": [
            "0:\tlearn: 110.0628843\ttest: 230.5954721\tbest: 230.5954721 (0)\ttotal: 12ms\tremaining: 29.9s\n"
          ]
        },
        {
          "output_type": "stream",
          "name": "stdout",
          "text": [
            "200:\tlearn: 108.6744331\ttest: 229.2236853\tbest: 229.2236853 (200)\ttotal: 2.28s\tremaining: 26.1s\n"
          ]
        },
        {
          "output_type": "stream",
          "name": "stdout",
          "text": [
            "400:\tlearn: 107.3074798\ttest: 227.8835265\tbest: 227.8835265 (400)\ttotal: 4.59s\tremaining: 24.1s\n"
          ]
        },
        {
          "output_type": "stream",
          "name": "stdout",
          "text": [
            "600:\tlearn: 106.0278392\ttest: 226.6144153\tbest: 226.6144153 (600)\ttotal: 6.89s\tremaining: 21.8s\n"
          ]
        },
        {
          "output_type": "stream",
          "name": "stdout",
          "text": [
            "800:\tlearn: 104.8010425\ttest: 225.3689516\tbest: 225.3689516 (800)\ttotal: 9.19s\tremaining: 19.5s\n"
          ]
        },
        {
          "output_type": "stream",
          "name": "stdout",
          "text": [
            "1000:\tlearn: 103.6038264\ttest: 224.1050067\tbest: 224.1050067 (1000)\ttotal: 11.5s\tremaining: 17.2s\n"
          ]
        },
        {
          "output_type": "stream",
          "name": "stdout",
          "text": [
            "1200:\tlearn: 102.4487534\ttest: 222.8718498\tbest: 222.8718498 (1200)\ttotal: 13.8s\tremaining: 14.9s\n"
          ]
        },
        {
          "output_type": "stream",
          "name": "stdout",
          "text": [
            "1400:\tlearn: 101.3382374\ttest: 221.6744372\tbest: 221.6744372 (1400)\ttotal: 16.1s\tremaining: 12.6s\n"
          ]
        },
        {
          "output_type": "stream",
          "name": "stdout",
          "text": [
            "1600:\tlearn: 100.2667419\ttest: 220.5081485\tbest: 220.5081485 (1600)\ttotal: 18.4s\tremaining: 10.3s\n"
          ]
        },
        {
          "output_type": "stream",
          "name": "stdout",
          "text": [
            "1800:\tlearn: 99.2251453\ttest: 219.3641843\tbest: 219.3641843 (1800)\ttotal: 20.7s\tremaining: 8.05s\n"
          ]
        },
        {
          "output_type": "stream",
          "name": "stdout",
          "text": [
            "2000:\tlearn: 98.2234579\ttest: 218.2380502\tbest: 218.2380502 (2000)\ttotal: 23.1s\tremaining: 5.75s\n"
          ]
        },
        {
          "output_type": "stream",
          "name": "stdout",
          "text": [
            "2200:\tlearn: 97.2571159\ttest: 217.1102991\tbest: 217.1102991 (2200)\ttotal: 25.4s\tremaining: 3.45s\n"
          ]
        },
        {
          "output_type": "stream",
          "name": "stdout",
          "text": [
            "2400:\tlearn: 96.3345864\ttest: 215.9795447\tbest: 215.9795447 (2400)\ttotal: 27.7s\tremaining: 1.14s\n"
          ]
        },
        {
          "output_type": "stream",
          "name": "stdout",
          "text": [
            "2499:\tlearn: 95.8938557\ttest: 215.4399152\tbest: 215.4399152 (2499)\ttotal: 28.8s\tremaining: 0us\nbestTest = 215.4399152\nbestIteration = 2499\n"
          ]
        },
        {
          "output_type": "stream",
          "name": "stdout",
          "text": [
            "0:\tlearn: 303.1426886\ttest: 616.8713987\tbest: 616.8713987 (0)\ttotal: 10.3ms\tremaining: 12.3s\n"
          ]
        },
        {
          "output_type": "stream",
          "name": "stdout",
          "text": [
            "200:\tlearn: 169.3569154\ttest: 601.0291174\tbest: 601.0291174 (200)\ttotal: 1.84s\tremaining: 9.13s\n"
          ]
        },
        {
          "output_type": "stream",
          "name": "stdout",
          "text": [
            "400:\tlearn: 157.4769751\ttest: 585.0792061\tbest: 584.9760036 (395)\ttotal: 3.54s\tremaining: 7.04s\n"
          ]
        },
        {
          "output_type": "stream",
          "name": "stdout",
          "text": [
            "bestTest = 584.9760036\nbestIteration = 395\nShrink model to first 396 iterations.\nSeed 13 Fold 4 done. tr=1301 va=93\nSeed bag 8/10 (seed=101)\n"
          ]
        },
        {
          "output_type": "stream",
          "name": "stdout",
          "text": [
            "0:\tlearn: 113.2497111\ttest: 149.3353577\tbest: 149.3353577 (0)\ttotal: 12.2ms\tremaining: 30.5s\n"
          ]
        },
        {
          "output_type": "stream",
          "name": "stdout",
          "text": [
            "200:\tlearn: 111.8966680\ttest: 147.9788106\tbest: 147.9788106 (200)\ttotal: 2.27s\tremaining: 26s\n"
          ]
        },
        {
          "output_type": "stream",
          "name": "stdout",
          "text": [
            "400:\tlearn: 110.5606341\ttest: 146.6496887\tbest: 146.6496887 (400)\ttotal: 4.59s\tremaining: 24s\n"
          ]
        },
        {
          "output_type": "stream",
          "name": "stdout",
          "text": [
            "600:\tlearn: 109.2615322\ttest: 145.2943827\tbest: 145.2943827 (600)\ttotal: 6.9s\tremaining: 21.8s\n"
          ]
        },
        {
          "output_type": "stream",
          "name": "stdout",
          "text": [
            "800:\tlearn: 108.0032743\ttest: 143.9491679\tbest: 143.9491679 (800)\ttotal: 9.21s\tremaining: 19.5s\n"
          ]
        },
        {
          "output_type": "stream",
          "name": "stdout",
          "text": [
            "1000:\tlearn: 106.7962972\ttest: 142.6280009\tbest: 142.6280009 (1000)\ttotal: 11.5s\tremaining: 17.2s\n"
          ]
        },
        {
          "output_type": "stream",
          "name": "stdout",
          "text": [
            "1200:\tlearn: 105.6428520\ttest: 141.3184814\tbest: 141.3184814 (1200)\ttotal: 13.8s\tremaining: 14.9s\n"
          ]
        },
        {
          "output_type": "stream",
          "name": "stdout",
          "text": [
            "1400:\tlearn: 104.5470195\ttest: 140.0621847\tbest: 140.0621847 (1400)\ttotal: 16.1s\tremaining: 12.6s\n"
          ]
        },
        {
          "output_type": "stream",
          "name": "stdout",
          "text": [
            "1600:\tlearn: 103.4858918\ttest: 138.8224386\tbest: 138.8224386 (1600)\ttotal: 18.4s\tremaining: 10.3s\n"
          ]
        },
        {
          "output_type": "stream",
          "name": "stdout",
          "text": [
            "1800:\tlearn: 102.4619126\ttest: 137.6279907\tbest: 137.6279907 (1800)\ttotal: 20.7s\tremaining: 8.04s\n"
          ]
        },
        {
          "output_type": "stream",
          "name": "stdout",
          "text": [
            "2000:\tlearn: 101.4629839\ttest: 136.4705200\tbest: 136.4705200 (2000)\ttotal: 23s\tremaining: 5.74s\n"
          ]
        },
        {
          "output_type": "stream",
          "name": "stdout",
          "text": [
            "2200:\tlearn: 100.5006741\ttest: 135.3393351\tbest: 135.3393351 (2200)\ttotal: 25.3s\tremaining: 3.44s\n"
          ]
        },
        {
          "output_type": "stream",
          "name": "stdout",
          "text": [
            "2400:\tlearn: 99.5799246\ttest: 134.2224325\tbest: 134.2224325 (2400)\ttotal: 27.6s\tremaining: 1.14s\n"
          ]
        },
        {
          "output_type": "stream",
          "name": "stdout",
          "text": [
            "2499:\tlearn: 99.1400111\ttest: 133.6859945\tbest: 133.6859945 (2499)\ttotal: 28.7s\tremaining: 0us\nbestTest = 133.6859945\nbestIteration = 2499\n"
          ]
        },
        {
          "output_type": "stream",
          "name": "stdout",
          "text": [
            "0:\tlearn: 308.8545466\ttest: 360.4146050\tbest: 360.4146050 (0)\ttotal: 10ms\tremaining: 12s\n"
          ]
        },
        {
          "output_type": "stream",
          "name": "stdout",
          "text": [
            "200:\tlearn: 155.8230447\ttest: 350.7960590\tbest: 350.7960590 (200)\ttotal: 1.88s\tremaining: 9.34s\n"
          ]
        },
        {
          "output_type": "stream",
          "name": "stdout",
          "text": [
            "bestTest = 349.8862017\nbestIteration = 235\nShrink model to first 236 iterations.\nSeed 101 Fold 0 done. tr=1298 va=96\n"
          ]
        },
        {
          "output_type": "stream",
          "name": "stdout",
          "text": [
            "0:\tlearn: 113.0471158\ttest: 171.3212891\tbest: 171.3212891 (0)\ttotal: 12.3ms\tremaining: 30.8s\n"
          ]
        },
        {
          "output_type": "stream",
          "name": "stdout",
          "text": [
            "200:\tlearn: 111.7178231\ttest: 169.9240926\tbest: 169.9240926 (200)\ttotal: 2.31s\tremaining: 26.4s\n"
          ]
        },
        {
          "output_type": "stream",
          "name": "stdout",
          "text": [
            "400:\tlearn: 110.3980041\ttest: 168.5888062\tbest: 168.5888062 (400)\ttotal: 4.62s\tremaining: 24.2s\n"
          ]
        },
        {
          "output_type": "stream",
          "name": "stdout",
          "text": [
            "600:\tlearn: 109.1134919\ttest: 167.2431335\tbest: 167.2431335 (600)\ttotal: 6.93s\tremaining: 21.9s\n"
          ]
        },
        {
          "output_type": "stream",
          "name": "stdout",
          "text": [
            "800:\tlearn: 107.8687524\ttest: 165.9152832\tbest: 165.9152832 (800)\ttotal: 9.23s\tremaining: 19.6s\n"
          ]
        },
        {
          "output_type": "stream",
          "name": "stdout",
          "text": [
            "1000:\tlearn: 106.6664941\ttest: 164.5689494\tbest: 164.5689494 (1000)\ttotal: 11.5s\tremaining: 17.3s\n"
          ]
        },
        {
          "output_type": "stream",
          "name": "stdout",
          "text": [
            "1200:\tlearn: 105.5125794\ttest: 163.2402140\tbest: 163.2402140 (1200)\ttotal: 13.9s\tremaining: 15s\n"
          ]
        },
        {
          "output_type": "stream",
          "name": "stdout",
          "text": [
            "1400:\tlearn: 104.3978477\ttest: 161.9153442\tbest: 161.9153442 (1400)\ttotal: 16.2s\tremaining: 12.7s\n"
          ]
        },
        {
          "output_type": "stream",
          "name": "stdout",
          "text": [
            "1600:\tlearn: 103.3278481\ttest: 160.6013590\tbest: 160.6013590 (1600)\ttotal: 18.5s\tremaining: 10.4s\n"
          ]
        },
        {
          "output_type": "stream",
          "name": "stdout",
          "text": [
            "1800:\tlearn: 102.2799138\ttest: 159.3125610\tbest: 159.3125610 (1800)\ttotal: 20.8s\tremaining: 8.06s\n"
          ]
        },
        {
          "output_type": "stream",
          "name": "stdout",
          "text": [
            "2000:\tlearn: 101.2712105\ttest: 158.0793254\tbest: 158.0793254 (2000)\ttotal: 23.1s\tremaining: 5.75s\n"
          ]
        },
        {
          "output_type": "stream",
          "name": "stdout",
          "text": [
            "2200:\tlearn: 100.2745991\ttest: 156.9592896\tbest: 156.9592896 (2200)\ttotal: 25.4s\tremaining: 3.44s\n"
          ]
        },
        {
          "output_type": "stream",
          "name": "stdout",
          "text": [
            "2400:\tlearn: 99.3280227\ttest: 155.8245239\tbest: 155.8245239 (2400)\ttotal: 27.7s\tremaining: 1.14s\n"
          ]
        },
        {
          "output_type": "stream",
          "name": "stdout",
          "text": [
            "2499:\tlearn: 98.8893370\ttest: 155.2811584\tbest: 155.2811584 (2499)\ttotal: 28.8s\tremaining: 0us\nbestTest = 155.2811584\nbestIteration = 2499\n"
          ]
        },
        {
          "output_type": "stream",
          "name": "stdout",
          "text": [
            "0:\tlearn: 311.1253395\ttest: 350.8190714\tbest: 350.8190714 (0)\ttotal: 9.28ms\tremaining: 11.1s\n"
          ]
        },
        {
          "output_type": "stream",
          "name": "stdout",
          "text": [
            "bestTest = 349.5691098\nbestIteration = 1\nShrink model to first 2 iterations.\nSeed 101 Fold 1 done. tr=1298 va=96\n"
          ]
        },
        {
          "output_type": "stream",
          "name": "stdout",
          "text": [
            "0:\tlearn: 113.3797068\ttest: 137.2501831\tbest: 137.2501831 (0)\ttotal: 12.4ms\tremaining: 30.9s\n"
          ]
        },
        {
          "output_type": "stream",
          "name": "stdout",
          "text": [
            "200:\tlearn: 112.0055253\ttest: 136.0046082\tbest: 136.0046082 (200)\ttotal: 2.32s\tremaining: 26.5s\n"
          ]
        },
        {
          "output_type": "stream",
          "name": "stdout",
          "text": [
            "400:\tlearn: 110.6434298\ttest: 134.9281718\tbest: 134.9281718 (400)\ttotal: 4.64s\tremaining: 24.3s\n"
          ]
        },
        {
          "output_type": "stream",
          "name": "stdout",
          "text": [
            "600:\tlearn: 109.3378154\ttest: 133.8641968\tbest: 133.8641968 (600)\ttotal: 6.96s\tremaining: 22s\n"
          ]
        },
        {
          "output_type": "stream",
          "name": "stdout",
          "text": [
            "800:\tlearn: 108.0591415\ttest: 132.7852987\tbest: 132.7852987 (800)\ttotal: 9.28s\tremaining: 19.7s\n"
          ]
        },
        {
          "output_type": "stream",
          "name": "stdout",
          "text": [
            "1000:\tlearn: 106.8371052\ttest: 131.6474406\tbest: 131.6474406 (1000)\ttotal: 11.6s\tremaining: 17.4s\n"
          ]
        },
        {
          "output_type": "stream",
          "name": "stdout",
          "text": [
            "1200:\tlearn: 105.6659885\ttest: 130.4892985\tbest: 130.4892985 (1200)\ttotal: 13.9s\tremaining: 15s\n"
          ]
        },
        {
          "output_type": "stream",
          "name": "stdout",
          "text": [
            "1400:\tlearn: 104.5444915\ttest: 129.3961792\tbest: 129.3961792 (1400)\ttotal: 16.2s\tremaining: 12.7s\n"
          ]
        },
        {
          "output_type": "stream",
          "name": "stdout",
          "text": [
            "1600:\tlearn: 103.4654878\ttest: 128.3090413\tbest: 128.3090413 (1600)\ttotal: 18.5s\tremaining: 10.4s\n"
          ]
        },
        {
          "output_type": "stream",
          "name": "stdout",
          "text": [
            "1800:\tlearn: 102.4278216\ttest: 127.1977437\tbest: 127.1977437 (1800)\ttotal: 20.8s\tremaining: 8.08s\n"
          ]
        },
        {
          "output_type": "stream",
          "name": "stdout",
          "text": [
            "2000:\tlearn: 101.4069843\ttest: 126.0837504\tbest: 126.0837504 (2000)\ttotal: 23.1s\tremaining: 5.77s\n"
          ]
        },
        {
          "output_type": "stream",
          "name": "stdout",
          "text": [
            "2200:\tlearn: 100.4060694\ttest: 124.9812012\tbest: 124.9812012 (2200)\ttotal: 25.5s\tremaining: 3.46s\n"
          ]
        },
        {
          "output_type": "stream",
          "name": "stdout",
          "text": [
            "2400:\tlearn: 99.4574345\ttest: 123.9361064\tbest: 123.9361064 (2400)\ttotal: 27.8s\tremaining: 1.15s\n"
          ]
        },
        {
          "output_type": "stream",
          "name": "stdout",
          "text": [
            "2499:\tlearn: 99.0124169\ttest: 123.4285685\tbest: 123.4285685 (2499)\ttotal: 28.9s\tremaining: 0us\nbestTest = 123.4285685\nbestIteration = 2499\n"
          ]
        },
        {
          "output_type": "stream",
          "name": "stdout",
          "text": [
            "0:\tlearn: 309.7946832\ttest: 313.0457235\tbest: 313.0457235 (0)\ttotal: 9.98ms\tremaining: 12s\n"
          ]
        },
        {
          "output_type": "stream",
          "name": "stdout",
          "text": [
            "bestTest = 313.0457235\nbestIteration = 0\nShrink model to first 1 iterations.\nSeed 101 Fold 2 done. tr=1298 va=96\n"
          ]
        },
        {
          "output_type": "stream",
          "name": "stdout",
          "text": [
            "0:\tlearn: 112.8754924\ttest: 167.3810274\tbest: 167.3810274 (0)\ttotal: 12.4ms\tremaining: 30.9s\n"
          ]
        },
        {
          "output_type": "stream",
          "name": "stdout",
          "text": [
            "200:\tlearn: 111.4730976\ttest: 165.9340663\tbest: 165.9340663 (200)\ttotal: 2.29s\tremaining: 26.3s\n"
          ]
        },
        {
          "output_type": "stream",
          "name": "stdout",
          "text": [
            "400:\tlearn: 110.1022771\ttest: 164.5566511\tbest: 164.5566511 (400)\ttotal: 4.6s\tremaining: 24.1s\n"
          ]
        },
        {
          "output_type": "stream",
          "name": "stdout",
          "text": [
            "600:\tlearn: 108.7776230\ttest: 163.2565734\tbest: 163.2565734 (600)\ttotal: 6.92s\tremaining: 21.9s\n"
          ]
        },
        {
          "output_type": "stream",
          "name": "stdout",
          "text": [
            "800:\tlearn: 107.4880861\ttest: 162.0153415\tbest: 162.0153415 (800)\ttotal: 9.23s\tremaining: 19.6s\n"
          ]
        },
        {
          "output_type": "stream",
          "name": "stdout",
          "text": [
            "1000:\tlearn: 106.2573741\ttest: 160.8294271\tbest: 160.8294271 (1000)\ttotal: 11.6s\tremaining: 17.3s\n"
          ]
        },
        {
          "output_type": "stream",
          "name": "stdout",
          "text": [
            "1200:\tlearn: 105.0717597\ttest: 159.6813046\tbest: 159.6813046 (1200)\ttotal: 13.9s\tremaining: 15s\n"
          ]
        },
        {
          "output_type": "stream",
          "name": "stdout",
          "text": [
            "1400:\tlearn: 103.9469278\ttest: 158.5943380\tbest: 158.5943380 (1400)\ttotal: 16.2s\tremaining: 12.7s\n"
          ]
        },
        {
          "output_type": "stream",
          "name": "stdout",
          "text": [
            "1600:\tlearn: 102.8706884\ttest: 157.5288138\tbest: 157.5288138 (1600)\ttotal: 18.5s\tremaining: 10.4s\n"
          ]
        },
        {
          "output_type": "stream",
          "name": "stdout",
          "text": [
            "1800:\tlearn: 101.8286654\ttest: 156.5001680\tbest: 156.5001680 (1800)\ttotal: 20.8s\tremaining: 8.09s\n"
          ]
        },
        {
          "output_type": "stream",
          "name": "stdout",
          "text": [
            "2000:\tlearn: 100.8046094\ttest: 155.5055024\tbest: 155.5055024 (2000)\ttotal: 23.2s\tremaining: 5.77s\n"
          ]
        },
        {
          "output_type": "stream",
          "name": "stdout",
          "text": [
            "2200:\tlearn: 99.8108066\ttest: 154.5673828\tbest: 154.5673828 (2200)\ttotal: 25.5s\tremaining: 3.46s\n"
          ]
        },
        {
          "output_type": "stream",
          "name": "stdout",
          "text": [
            "2400:\tlearn: 98.8655121\ttest: 153.6344086\tbest: 153.6344086 (2400)\ttotal: 27.8s\tremaining: 1.14s\n"
          ]
        },
        {
          "output_type": "stream",
          "name": "stdout",
          "text": [
            "2499:\tlearn: 98.4238566\ttest: 153.1933174\tbest: 153.1933174 (2499)\ttotal: 28.9s\tremaining: 0us\nbestTest = 153.1933174\nbestIteration = 2499\n"
          ]
        },
        {
          "output_type": "stream",
          "name": "stdout",
          "text": [
            "0:\tlearn: 309.9246493\ttest: 361.7890730\tbest: 361.7890730 (0)\ttotal: 10.1ms\tremaining: 12.2s\n"
          ]
        },
        {
          "output_type": "stream",
          "name": "stdout",
          "text": [
            "bestTest = 361.789073\nbestIteration = 0\nShrink model to first 1 iterations.\nSeed 101 Fold 3 done. tr=1301 va=93\n"
          ]
        },
        {
          "output_type": "stream",
          "name": "stdout",
          "text": [
            "0:\tlearn: 110.0629924\ttest: 230.5951781\tbest: 230.5951781 (0)\ttotal: 12.2ms\tremaining: 30.4s\n"
          ]
        },
        {
          "output_type": "stream",
          "name": "stdout",
          "text": [
            "200:\tlearn: 108.6738206\ttest: 229.2370002\tbest: 229.2370002 (200)\ttotal: 2.3s\tremaining: 26.4s\n"
          ]
        },
        {
          "output_type": "stream",
          "name": "stdout",
          "text": [
            "400:\tlearn: 107.3016310\ttest: 227.9368700\tbest: 227.9368700 (400)\ttotal: 4.61s\tremaining: 24.2s\n"
          ]
        },
        {
          "output_type": "stream",
          "name": "stdout",
          "text": [
            "600:\tlearn: 106.0175226\ttest: 226.6828377\tbest: 226.6828377 (600)\ttotal: 6.92s\tremaining: 21.9s\n"
          ]
        },
        {
          "output_type": "stream",
          "name": "stdout",
          "text": [
            "800:\tlearn: 104.7859819\ttest: 225.4324177\tbest: 225.4324177 (800)\ttotal: 9.22s\tremaining: 19.6s\n"
          ]
        },
        {
          "output_type": "stream",
          "name": "stdout",
          "text": [
            "1000:\tlearn: 103.5809113\ttest: 224.1724000\tbest: 224.1724000 (1000)\ttotal: 11.5s\tremaining: 17.3s\n"
          ]
        },
        {
          "output_type": "stream",
          "name": "stdout",
          "text": [
            "1200:\tlearn: 102.4134080\ttest: 222.9399362\tbest: 222.9399362 (1200)\ttotal: 13.8s\tremaining: 15s\n"
          ]
        },
        {
          "output_type": "stream",
          "name": "stdout",
          "text": [
            "1400:\tlearn: 101.2962265\ttest: 221.7398774\tbest: 221.7398774 (1400)\ttotal: 16.1s\tremaining: 12.6s\n"
          ]
        },
        {
          "output_type": "stream",
          "name": "stdout",
          "text": [
            "1600:\tlearn: 100.2299553\ttest: 220.5786290\tbest: 220.5786290 (1600)\ttotal: 18.4s\tremaining: 10.3s\n"
          ]
        },
        {
          "output_type": "stream",
          "name": "stdout",
          "text": [
            "1800:\tlearn: 99.1880585\ttest: 219.4315146\tbest: 219.4315146 (1800)\ttotal: 20.7s\tremaining: 8.04s\n"
          ]
        },
        {
          "output_type": "stream",
          "name": "stdout",
          "text": [
            "2000:\tlearn: 98.1830083\ttest: 218.3114499\tbest: 218.3114499 (2000)\ttotal: 23s\tremaining: 5.74s\n"
          ]
        },
        {
          "output_type": "stream",
          "name": "stdout",
          "text": [
            "2200:\tlearn: 97.2204794\ttest: 217.2152218\tbest: 217.2152218 (2200)\ttotal: 25.3s\tremaining: 3.44s\n"
          ]
        },
        {
          "output_type": "stream",
          "name": "stdout",
          "text": [
            "2400:\tlearn: 96.2921911\ttest: 216.1351647\tbest: 216.1351647 (2400)\ttotal: 27.6s\tremaining: 1.14s\n"
          ]
        },
        {
          "output_type": "stream",
          "name": "stdout",
          "text": [
            "2499:\tlearn: 95.8387538\ttest: 215.6162424\tbest: 215.6162424 (2499)\ttotal: 28.7s\tremaining: 0us\nbestTest = 215.6162424\nbestIteration = 2499\n"
          ]
        },
        {
          "output_type": "stream",
          "name": "stdout",
          "text": [
            "0:\tlearn: 304.0280540\ttest: 617.4341287\tbest: 617.4341287 (0)\ttotal: 10ms\tremaining: 12s\n"
          ]
        },
        {
          "output_type": "stream",
          "name": "stdout",
          "text": [
            "200:\tlearn: 164.1780122\ttest: 581.0817128\tbest: 581.0676122 (199)\ttotal: 1.84s\tremaining: 9.16s\n"
          ]
        },
        {
          "output_type": "stream",
          "name": "stdout",
          "text": [
            "400:\tlearn: 150.9669271\ttest: 560.4951536\tbest: 560.4951536 (400)\ttotal: 3.68s\tremaining: 7.34s\n"
          ]
        },
        {
          "output_type": "stream",
          "name": "stdout",
          "text": [
            "600:\tlearn: 136.6836875\ttest: 523.6392914\tbest: 523.5654030 (597)\ttotal: 5.55s\tremaining: 5.53s\n"
          ]
        },
        {
          "output_type": "stream",
          "name": "stdout",
          "text": [
            "800:\tlearn: 127.2526704\ttest: 494.3155146\tbest: 494.3100764 (791)\ttotal: 7.41s\tremaining: 3.69s\n"
          ]
        },
        {
          "output_type": "stream",
          "name": "stdout",
          "text": [
            "1000:\tlearn: 120.5169495\ttest: 472.3930385\tbest: 472.3930385 (1000)\ttotal: 9.19s\tremaining: 1.83s\n"
          ]
        },
        {
          "output_type": "stream",
          "name": "stdout",
          "text": [
            "1199:\tlearn: 116.4307384\ttest: 445.8858526\tbest: 445.8811742 (1198)\ttotal: 11.1s\tremaining: 0us\nbestTest = 445.8811742\nbestIteration = 1198\nShrink model to first 1199 iterations.\nSeed 101 Fold 4 done. tr=1301 va=93\nSeed bag 9/10 (seed=2025)\n"
          ]
        },
        {
          "output_type": "stream",
          "name": "stdout",
          "text": [
            "0:\tlearn: 113.2493018\ttest: 149.3355408\tbest: 149.3355408 (0)\ttotal: 12.1ms\tremaining: 30.2s\n"
          ]
        },
        {
          "output_type": "stream",
          "name": "stdout",
          "text": [
            "200:\tlearn: 111.8867488\ttest: 147.9884237\tbest: 147.9884237 (200)\ttotal: 2.29s\tremaining: 26.2s\n"
          ]
        },
        {
          "output_type": "stream",
          "name": "stdout",
          "text": [
            "400:\tlearn: 110.5481149\ttest: 146.6772563\tbest: 146.6772563 (400)\ttotal: 4.61s\tremaining: 24.1s\n"
          ]
        },
        {
          "output_type": "stream",
          "name": "stdout",
          "text": [
            "600:\tlearn: 109.2511075\ttest: 145.3319702\tbest: 145.3319702 (600)\ttotal: 6.87s\tremaining: 21.7s\n"
          ]
        },
        {
          "output_type": "stream",
          "name": "stdout",
          "text": [
            "800:\tlearn: 107.9914171\ttest: 143.9874268\tbest: 143.9874268 (800)\ttotal: 9.21s\tremaining: 19.5s\n"
          ]
        },
        {
          "output_type": "stream",
          "name": "stdout",
          "text": [
            "1000:\tlearn: 106.7822852\ttest: 142.6518046\tbest: 142.6518046 (1000)\ttotal: 11.5s\tremaining: 17.3s\n"
          ]
        },
        {
          "output_type": "stream",
          "name": "stdout",
          "text": [
            "1200:\tlearn: 105.6332218\ttest: 141.3174235\tbest: 141.3174235 (1200)\ttotal: 13.9s\tremaining: 15s\n"
          ]
        },
        {
          "output_type": "stream",
          "name": "stdout",
          "text": [
            "1400:\tlearn: 104.5277711\ttest: 140.0237528\tbest: 140.0237528 (1400)\ttotal: 16.2s\tremaining: 12.7s\n"
          ]
        },
        {
          "output_type": "stream",
          "name": "stdout",
          "text": [
            "1600:\tlearn: 103.4651868\ttest: 138.7749227\tbest: 138.7749227 (1600)\ttotal: 18.5s\tremaining: 10.4s\n"
          ]
        },
        {
          "output_type": "stream",
          "name": "stdout",
          "text": [
            "1800:\tlearn: 102.4390529\ttest: 137.5622457\tbest: 137.5622457 (1800)\ttotal: 20.9s\tremaining: 8.11s\n"
          ]
        },
        {
          "output_type": "stream",
          "name": "stdout",
          "text": [
            "2000:\tlearn: 101.4328895\ttest: 136.3452759\tbest: 136.3452759 (2000)\ttotal: 23.2s\tremaining: 5.79s\n"
          ]
        },
        {
          "output_type": "stream",
          "name": "stdout",
          "text": [
            "2200:\tlearn: 100.4559719\ttest: 135.1617533\tbest: 135.1617533 (2200)\ttotal: 25.6s\tremaining: 3.47s\n"
          ]
        },
        {
          "output_type": "stream",
          "name": "stdout",
          "text": [
            "2400:\tlearn: 99.5362216\ttest: 134.0406291\tbest: 134.0406291 (2400)\ttotal: 27.9s\tremaining: 1.15s\n"
          ]
        },
        {
          "output_type": "stream",
          "name": "stdout",
          "text": [
            "2499:\tlearn: 99.1004189\ttest: 133.5043437\tbest: 133.5043437 (2499)\ttotal: 29s\tremaining: 0us\nbestTest = 133.5043437\nbestIteration = 2499\n"
          ]
        },
        {
          "output_type": "stream",
          "name": "stdout",
          "text": [
            "0:\tlearn: 308.8798591\ttest: 361.5658366\tbest: 361.5658366 (0)\ttotal: 10.5ms\tremaining: 12.5s\n"
          ]
        },
        {
          "output_type": "stream",
          "name": "stdout",
          "text": [
            "200:\tlearn: 161.5987345\ttest: 336.7914785\tbest: 336.7598056 (199)\ttotal: 1.89s\tremaining: 9.39s\n"
          ]
        },
        {
          "output_type": "stream",
          "name": "stdout",
          "text": [
            "400:\tlearn: 136.6870336\ttest: 315.9851988\tbest: 315.9851988 (400)\ttotal: 3.77s\tremaining: 7.5s\n"
          ]
        },
        {
          "output_type": "stream",
          "name": "stdout",
          "text": [
            "600:\tlearn: 131.8899481\ttest: 313.8498513\tbest: 313.8498513 (600)\ttotal: 5.61s\tremaining: 5.59s\n"
          ]
        },
        {
          "output_type": "stream",
          "name": "stdout",
          "text": [
            "800:\tlearn: 130.7920402\ttest: 312.4222070\tbest: 312.4222070 (800)\ttotal: 7.27s\tremaining: 3.62s\n"
          ]
        },
        {
          "output_type": "stream",
          "name": "stdout",
          "text": [
            "1000:\tlearn: 129.0257914\ttest: 309.8284135\tbest: 309.8108966 (984)\ttotal: 9.07s\tremaining: 1.8s\n"
          ]
        },
        {
          "output_type": "stream",
          "name": "stdout",
          "text": [
            "bestTest = 309.8108966\nbestIteration = 984\nShrink model to first 985 iterations.\nSeed 2025 Fold 0 done. tr=1298 va=96\n"
          ]
        },
        {
          "output_type": "stream",
          "name": "stdout",
          "text": [
            "0:\tlearn: 113.0469472\ttest: 171.3215942\tbest: 171.3215942 (0)\ttotal: 11.8ms\tremaining: 29.6s\n"
          ]
        },
        {
          "output_type": "stream",
          "name": "stdout",
          "text": [
            "200:\tlearn: 111.7094328\ttest: 169.9182943\tbest: 169.9182943 (200)\ttotal: 2.27s\tremaining: 26s\n"
          ]
        },
        {
          "output_type": "stream",
          "name": "stdout",
          "text": [
            "400:\tlearn: 110.3833422\ttest: 168.5658162\tbest: 168.5658162 (400)\ttotal: 4.57s\tremaining: 23.9s\n"
          ]
        },
        {
          "output_type": "stream",
          "name": "stdout",
          "text": [
            "600:\tlearn: 109.0930037\ttest: 167.2012227\tbest: 167.2012227 (600)\ttotal: 6.85s\tremaining: 21.7s\n"
          ]
        },
        {
          "output_type": "stream",
          "name": "stdout",
          "text": [
            "800:\tlearn: 107.8483484\ttest: 165.8337199\tbest: 165.8337199 (800)\ttotal: 9.17s\tremaining: 19.4s\n"
          ]
        },
        {
          "output_type": "stream",
          "name": "stdout",
          "text": [
            "1000:\tlearn: 106.6507608\ttest: 164.4662781\tbest: 164.4662781 (1000)\ttotal: 11.5s\tremaining: 17.2s\n"
          ]
        },
        {
          "output_type": "stream",
          "name": "stdout",
          "text": [
            "1200:\tlearn: 105.4971109\ttest: 163.1114299\tbest: 163.1114299 (1200)\ttotal: 13.8s\tremaining: 15s\n"
          ]
        },
        {
          "output_type": "stream",
          "name": "stdout",
          "text": [
            "1400:\tlearn: 104.3706423\ttest: 161.7453817\tbest: 161.7453817 (1400)\ttotal: 16.1s\tremaining: 12.7s\n"
          ]
        },
        {
          "output_type": "stream",
          "name": "stdout",
          "text": [
            "1600:\tlearn: 103.3010521\ttest: 160.4029541\tbest: 160.4029541 (1600)\ttotal: 18.5s\tremaining: 10.4s\n"
          ]
        },
        {
          "output_type": "stream",
          "name": "stdout",
          "text": [
            "1800:\tlearn: 102.2471591\ttest: 159.0976257\tbest: 159.0976257 (1800)\ttotal: 20.8s\tremaining: 8.06s\n"
          ]
        },
        {
          "output_type": "stream",
          "name": "stdout",
          "text": [
            "2000:\tlearn: 101.2314739\ttest: 157.8657633\tbest: 157.8657633 (2000)\ttotal: 23.1s\tremaining: 5.75s\n"
          ]
        },
        {
          "output_type": "stream",
          "name": "stdout",
          "text": [
            "2200:\tlearn: 100.2394489\ttest: 156.6736145\tbest: 156.6736145 (2200)\ttotal: 25.4s\tremaining: 3.45s\n"
          ]
        },
        {
          "output_type": "stream",
          "name": "stdout",
          "text": [
            "2400:\tlearn: 99.2952559\ttest: 155.4877828\tbest: 155.4877828 (2400)\ttotal: 27.7s\tremaining: 1.14s\n"
          ]
        },
        {
          "output_type": "stream",
          "name": "stdout",
          "text": [
            "2499:\tlearn: 98.8520380\ttest: 154.9214274\tbest: 154.9214274 (2499)\ttotal: 28.9s\tremaining: 0us\nbestTest = 154.9214274\nbestIteration = 2499\n"
          ]
        },
        {
          "output_type": "stream",
          "name": "stdout",
          "text": [
            "0:\tlearn: 309.4039799\ttest: 350.3007934\tbest: 350.3007934 (0)\ttotal: 10.5ms\tremaining: 12.6s\n"
          ]
        },
        {
          "output_type": "stream",
          "name": "stdout",
          "text": [
            "bestTest = 350.1661808\nbestIteration = 3\nShrink model to first 4 iterations.\nSeed 2025 Fold 1 done. tr=1298 va=96\n"
          ]
        },
        {
          "output_type": "stream",
          "name": "stdout",
          "text": [
            "0:\tlearn: 113.3791410\ttest: 137.2492269\tbest: 137.2492269 (0)\ttotal: 12.5ms\tremaining: 31.2s\n"
          ]
        },
        {
          "output_type": "stream",
          "name": "stdout",
          "text": [
            "200:\tlearn: 112.0034187\ttest: 136.0133565\tbest: 136.0133565 (200)\ttotal: 2.31s\tremaining: 26.5s\n"
          ]
        },
        {
          "output_type": "stream",
          "name": "stdout",
          "text": [
            "400:\tlearn: 110.6415760\ttest: 134.8614095\tbest: 134.8614095 (400)\ttotal: 4.6s\tremaining: 24.1s\n"
          ]
        },
        {
          "output_type": "stream",
          "name": "stdout",
          "text": [
            "600:\tlearn: 109.3297260\ttest: 133.7273153\tbest: 133.7273153 (600)\ttotal: 6.89s\tremaining: 21.8s\n"
          ]
        },
        {
          "output_type": "stream",
          "name": "stdout",
          "text": [
            "800:\tlearn: 108.0444674\ttest: 132.5256144\tbest: 132.5256144 (800)\ttotal: 9.19s\tremaining: 19.5s\n"
          ]
        },
        {
          "output_type": "stream",
          "name": "stdout",
          "text": [
            "1000:\tlearn: 106.8070589\ttest: 131.3302104\tbest: 131.3302104 (1000)\ttotal: 11.5s\tremaining: 17.2s\n"
          ]
        },
        {
          "output_type": "stream",
          "name": "stdout",
          "text": [
            "1200:\tlearn: 105.6291651\ttest: 130.1412964\tbest: 130.1412964 (1200)\ttotal: 13.8s\tremaining: 14.9s\n"
          ]
        },
        {
          "output_type": "stream",
          "name": "stdout",
          "text": [
            "1400:\tlearn: 104.5021427\ttest: 128.9810994\tbest: 128.9810994 (1400)\ttotal: 16.1s\tremaining: 12.6s\n"
          ]
        },
        {
          "output_type": "stream",
          "name": "stdout",
          "text": [
            "1600:\tlearn: 103.4221519\ttest: 127.8279419\tbest: 127.8279419 (1600)\ttotal: 18.4s\tremaining: 10.3s\n"
          ]
        },
        {
          "output_type": "stream",
          "name": "stdout",
          "text": [
            "1800:\tlearn: 102.3881452\ttest: 126.7067057\tbest: 126.7067057 (1800)\ttotal: 20.7s\tremaining: 8.02s\n"
          ]
        },
        {
          "output_type": "stream",
          "name": "stdout",
          "text": [
            "2000:\tlearn: 101.3588694\ttest: 125.5904134\tbest: 125.5904134 (2000)\ttotal: 22.9s\tremaining: 5.72s\n"
          ]
        },
        {
          "output_type": "stream",
          "name": "stdout",
          "text": [
            "2200:\tlearn: 100.3492753\ttest: 124.5093994\tbest: 124.5093994 (2200)\ttotal: 25.2s\tremaining: 3.43s\n"
          ]
        },
        {
          "output_type": "stream",
          "name": "stdout",
          "text": [
            "2400:\tlearn: 99.3807059\ttest: 123.4565837\tbest: 123.4565837 (2400)\ttotal: 27.5s\tremaining: 1.14s\n"
          ]
        },
        {
          "output_type": "stream",
          "name": "stdout",
          "text": [
            "2499:\tlearn: 98.9291398\ttest: 122.9591370\tbest: 122.9591370 (2499)\ttotal: 28.7s\tremaining: 0us\nbestTest = 122.959137\nbestIteration = 2499\n"
          ]
        },
        {
          "output_type": "stream",
          "name": "stdout",
          "text": [
            "0:\tlearn: 309.0282598\ttest: 313.6222848\tbest: 313.6222848 (0)\ttotal: 10.2ms\tremaining: 12.3s\n"
          ]
        },
        {
          "output_type": "stream",
          "name": "stdout",
          "text": [
            "bestTest = 313.6222848\nbestIteration = 0\nShrink model to first 1 iterations.\nSeed 2025 Fold 2 done. tr=1298 va=96\n"
          ]
        },
        {
          "output_type": "stream",
          "name": "stdout",
          "text": [
            "0:\tlearn: 112.8759968\ttest: 167.3813739\tbest: 167.3813739 (0)\ttotal: 12.5ms\tremaining: 31.3s\n"
          ]
        },
        {
          "output_type": "stream",
          "name": "stdout",
          "text": [
            "200:\tlearn: 111.4651470\ttest: 165.9146190\tbest: 165.9146190 (200)\ttotal: 2.27s\tremaining: 26s\n"
          ]
        },
        {
          "output_type": "stream",
          "name": "stdout",
          "text": [
            "400:\tlearn: 110.0990464\ttest: 164.5251281\tbest: 164.5251281 (400)\ttotal: 4.56s\tremaining: 23.9s\n"
          ]
        },
        {
          "output_type": "stream",
          "name": "stdout",
          "text": [
            "600:\tlearn: 108.7788360\ttest: 163.2277386\tbest: 163.2277386 (600)\ttotal: 6.88s\tremaining: 21.7s\n"
          ]
        },
        {
          "output_type": "stream",
          "name": "stdout",
          "text": [
            "800:\tlearn: 107.4944394\ttest: 161.9975848\tbest: 161.9975848 (800)\ttotal: 9.17s\tremaining: 19.5s\n"
          ]
        },
        {
          "output_type": "stream",
          "name": "stdout",
          "text": [
            "1000:\tlearn: 106.2663696\ttest: 160.8175193\tbest: 160.8175193 (1000)\ttotal: 11.5s\tremaining: 17.2s\n"
          ]
        },
        {
          "output_type": "stream",
          "name": "stdout",
          "text": [
            "1200:\tlearn: 105.0876489\ttest: 159.6687038\tbest: 159.6687038 (1200)\ttotal: 13.8s\tremaining: 14.9s\n"
          ]
        },
        {
          "output_type": "stream",
          "name": "stdout",
          "text": [
            "1400:\tlearn: 103.9521882\ttest: 158.5693674\tbest: 158.5693674 (1400)\ttotal: 16.1s\tremaining: 12.6s\n"
          ]
        },
        {
          "output_type": "stream",
          "name": "stdout",
          "text": [
            "1600:\tlearn: 102.8535742\ttest: 157.4871472\tbest: 157.4871472 (1600)\ttotal: 18.4s\tremaining: 10.3s\n"
          ]
        },
        {
          "output_type": "stream",
          "name": "stdout",
          "text": [
            "1800:\tlearn: 101.7977517\ttest: 156.4352529\tbest: 156.4352529 (1800)\ttotal: 20.7s\tremaining: 8.04s\n"
          ]
        },
        {
          "output_type": "stream",
          "name": "stdout",
          "text": [
            "2000:\tlearn: 100.7767342\ttest: 155.4254347\tbest: 155.4254347 (2000)\ttotal: 23s\tremaining: 5.75s\n"
          ]
        },
        {
          "output_type": "stream",
          "name": "stdout",
          "text": [
            "2200:\tlearn: 99.7914645\ttest: 154.4570523\tbest: 154.4570523 (2200)\ttotal: 25.4s\tremaining: 3.44s\n"
          ]
        },
        {
          "output_type": "stream",
          "name": "stdout",
          "text": [
            "2400:\tlearn: 98.8352469\ttest: 153.5003360\tbest: 153.5003360 (2400)\ttotal: 27.7s\tremaining: 1.14s\n"
          ]
        },
        {
          "output_type": "stream",
          "name": "stdout",
          "text": [
            "2499:\tlearn: 98.3911414\ttest: 153.0367839\tbest: 153.0367839 (2499)\ttotal: 28.8s\tremaining: 0us\nbestTest = 153.0367839\nbestIteration = 2499\n"
          ]
        },
        {
          "output_type": "stream",
          "name": "stdout",
          "text": [
            "0:\tlearn: 308.9616340\ttest: 362.6895352\tbest: 362.6895352 (0)\ttotal: 10.3ms\tremaining: 12.4s\n"
          ]
        },
        {
          "output_type": "stream",
          "name": "stdout",
          "text": [
            "bestTest = 362.6895352\nbestIteration = 0\nShrink model to first 1 iterations.\nSeed 2025 Fold 3 done. tr=1301 va=93\n"
          ]
        },
        {
          "output_type": "stream",
          "name": "stdout",
          "text": [
            "0:\tlearn: 110.0630044\ttest: 230.5950101\tbest: 230.5950101 (0)\ttotal: 12.7ms\tremaining: 31.7s\n"
          ]
        },
        {
          "output_type": "stream",
          "name": "stdout",
          "text": [
            "200:\tlearn: 108.6700615\ttest: 229.2253444\tbest: 229.2253444 (200)\ttotal: 2.35s\tremaining: 26.9s\n"
          ]
        },
        {
          "output_type": "stream",
          "name": "stdout",
          "text": [
            "400:\tlearn: 107.3053300\ttest: 227.9058720\tbest: 227.9058720 (400)\ttotal: 4.72s\tremaining: 24.7s\n"
          ]
        },
        {
          "output_type": "stream",
          "name": "stdout",
          "text": [
            "600:\tlearn: 106.0300490\ttest: 226.6573841\tbest: 226.6573841 (600)\ttotal: 7.07s\tremaining: 22.3s\n"
          ]
        },
        {
          "output_type": "stream",
          "name": "stdout",
          "text": [
            "800:\tlearn: 104.8082485\ttest: 225.4183888\tbest: 225.4183888 (800)\ttotal: 9.4s\tremaining: 19.9s\n"
          ]
        },
        {
          "output_type": "stream",
          "name": "stdout",
          "text": [
            "1000:\tlearn: 103.6091828\ttest: 224.1415071\tbest: 224.1415071 (1000)\ttotal: 11.7s\tremaining: 17.6s\n"
          ]
        },
        {
          "output_type": "stream",
          "name": "stdout",
          "text": [
            "1200:\tlearn: 102.4425922\ttest: 222.8737399\tbest: 222.8737399 (1200)\ttotal: 14.1s\tremaining: 15.2s\n"
          ]
        },
        {
          "output_type": "stream",
          "name": "stdout",
          "text": [
            "1400:\tlearn: 101.3308513\ttest: 221.6604083\tbest: 221.6604083 (1400)\ttotal: 16.4s\tremaining: 12.9s\n"
          ]
        },
        {
          "output_type": "stream",
          "name": "stdout",
          "text": [
            "1600:\tlearn: 100.2715039\ttest: 220.4681410\tbest: 220.4681410 (1600)\ttotal: 18.7s\tremaining: 10.5s\n"
          ]
        },
        {
          "output_type": "stream",
          "name": "stdout",
          "text": [
            "1800:\tlearn: 99.2407163\ttest: 219.3018103\tbest: 219.3018103 (1800)\ttotal: 21.1s\tremaining: 8.18s\n"
          ]
        },
        {
          "output_type": "stream",
          "name": "stdout",
          "text": [
            "2000:\tlearn: 98.2354859\ttest: 218.1478495\tbest: 218.1478495 (2000)\ttotal: 23.4s\tremaining: 5.84s\n"
          ]
        },
        {
          "output_type": "stream",
          "name": "stdout",
          "text": [
            "2200:\tlearn: 97.2678048\ttest: 217.0342532\tbest: 217.0342532 (2200)\ttotal: 25.8s\tremaining: 3.51s\n"
          ]
        },
        {
          "output_type": "stream",
          "name": "stdout",
          "text": [
            "2400:\tlearn: 96.3533520\ttest: 215.9455855\tbest: 215.9455855 (2400)\ttotal: 28.2s\tremaining: 1.16s\n"
          ]
        },
        {
          "output_type": "stream",
          "name": "stdout",
          "text": [
            "2499:\tlearn: 95.9114683\ttest: 215.4283014\tbest: 215.4283014 (2499)\ttotal: 29.3s\tremaining: 0us\nbestTest = 215.4283014\nbestIteration = 2499\n"
          ]
        },
        {
          "output_type": "stream",
          "name": "stdout",
          "text": [
            "0:\tlearn: 303.2226803\ttest: 612.8836828\tbest: 612.8836828 (0)\ttotal: 10.4ms\tremaining: 12.5s\n"
          ]
        },
        {
          "output_type": "stream",
          "name": "stdout",
          "text": [
            "200:\tlearn: 162.9385609\ttest: 594.3438598\tbest: 594.3438598 (200)\ttotal: 1.91s\tremaining: 9.5s\n"
          ]
        },
        {
          "output_type": "stream",
          "name": "stdout",
          "text": [
            "400:\tlearn: 150.9834632\ttest: 580.0060993\tbest: 579.9774189 (397)\ttotal: 3.72s\tremaining: 7.42s\n"
          ]
        },
        {
          "output_type": "stream",
          "name": "stdout",
          "text": [
            "600:\tlearn: 133.8767488\ttest: 533.5714925\tbest: 533.5714925 (600)\ttotal: 5.6s\tremaining: 5.58s\n"
          ]
        },
        {
          "output_type": "stream",
          "name": "stdout",
          "text": [
            "800:\tlearn: 123.4462730\ttest: 506.2305565\tbest: 506.2305565 (800)\ttotal: 7.37s\tremaining: 3.67s\n"
          ]
        },
        {
          "output_type": "stream",
          "name": "stdout",
          "text": [
            "1000:\tlearn: 118.2514290\ttest: 493.7381658\tbest: 493.7381658 (1000)\ttotal: 9.04s\tremaining: 1.8s\n"
          ]
        },
        {
          "output_type": "stream",
          "name": "stdout",
          "text": [
            "1199:\tlearn: 113.5887169\ttest: 484.0800609\tbest: 484.0800609 (1199)\ttotal: 10.7s\tremaining: 0us\nbestTest = 484.0800609\nbestIteration = 1199\nSeed 2025 Fold 4 done. tr=1301 va=93\nSeed bag 10/10 (seed=314159)\n"
          ]
        },
        {
          "output_type": "stream",
          "name": "stdout",
          "text": [
            "0:\tlearn: 113.2495185\ttest: 149.3361816\tbest: 149.3361816 (0)\ttotal: 12.4ms\tremaining: 30.9s\n"
          ]
        },
        {
          "output_type": "stream",
          "name": "stdout",
          "text": [
            "200:\tlearn: 111.8936826\ttest: 147.9822184\tbest: 147.9822184 (200)\ttotal: 2.33s\tremaining: 26.6s\n"
          ]
        },
        {
          "output_type": "stream",
          "name": "stdout",
          "text": [
            "400:\tlearn: 110.5606341\ttest: 146.6465251\tbest: 146.6465251 (400)\ttotal: 4.69s\tremaining: 24.6s\n"
          ]
        },
        {
          "output_type": "stream",
          "name": "stdout",
          "text": [
            "600:\tlearn: 109.2621581\ttest: 145.3096110\tbest: 145.3096110 (600)\ttotal: 7.03s\tremaining: 22.2s\n"
          ]
        },
        {
          "output_type": "stream",
          "name": "stdout",
          "text": [
            "800:\tlearn: 107.9983268\ttest: 143.9745280\tbest: 143.9745280 (800)\ttotal: 9.3s\tremaining: 19.7s\n"
          ]
        },
        {
          "output_type": "stream",
          "name": "stdout",
          "text": [
            "1000:\tlearn: 106.7840909\ttest: 142.6573893\tbest: 142.6573893 (1000)\ttotal: 11.6s\tremaining: 17.3s\n"
          ]
        },
        {
          "output_type": "stream",
          "name": "stdout",
          "text": [
            "1200:\tlearn: 105.6309105\ttest: 141.3695679\tbest: 141.3695679 (1200)\ttotal: 13.9s\tremaining: 15s\n"
          ]
        },
        {
          "output_type": "stream",
          "name": "stdout",
          "text": [
            "1400:\tlearn: 104.5195975\ttest: 140.1004842\tbest: 140.1004842 (1400)\ttotal: 16.1s\tremaining: 12.7s\n"
          ]
        },
        {
          "output_type": "stream",
          "name": "stdout",
          "text": [
            "1600:\tlearn: 103.4512832\ttest: 138.8563436\tbest: 138.8563436 (1600)\ttotal: 18.4s\tremaining: 10.3s\n"
          ]
        },
        {
          "output_type": "stream",
          "name": "stdout",
          "text": [
            "1800:\tlearn: 102.4282309\ttest: 137.6559245\tbest: 137.6559245 (1800)\ttotal: 20.7s\tremaining: 8.03s\n"
          ]
        },
        {
          "output_type": "stream",
          "name": "stdout",
          "text": [
            "2000:\tlearn: 101.4301931\ttest: 136.4719035\tbest: 136.4719035 (2000)\ttotal: 22.9s\tremaining: 5.72s\n"
          ]
        },
        {
          "output_type": "stream",
          "name": "stdout",
          "text": [
            "2200:\tlearn: 100.4551353\ttest: 135.3336385\tbest: 135.3336385 (2200)\ttotal: 25.2s\tremaining: 3.43s\n"
          ]
        },
        {
          "output_type": "stream",
          "name": "stdout",
          "text": [
            "2400:\tlearn: 99.5240755\ttest: 134.1909180\tbest: 134.1909180 (2400)\ttotal: 27.5s\tremaining: 1.13s\n"
          ]
        },
        {
          "output_type": "stream",
          "name": "stdout",
          "text": [
            "2499:\tlearn: 99.0826151\ttest: 133.6471049\tbest: 133.6471049 (2499)\ttotal: 28.6s\tremaining: 0us\nbestTest = 133.6471049\nbestIteration = 2499\n"
          ]
        },
        {
          "output_type": "stream",
          "name": "stdout",
          "text": [
            "0:\tlearn: 308.8774746\ttest: 362.4180223\tbest: 362.4180223 (0)\ttotal: 10.1ms\tremaining: 12.1s\n"
          ]
        },
        {
          "output_type": "stream",
          "name": "stdout",
          "text": [
            "200:\tlearn: 144.9360360\ttest: 323.4290881\tbest: 323.4168331 (199)\ttotal: 1.9s\tremaining: 9.43s\n"
          ]
        },
        {
          "output_type": "stream",
          "name": "stdout",
          "text": [
            "400:\tlearn: 127.3377453\ttest: 286.2061193\tbest: 286.2061193 (400)\ttotal: 3.77s\tremaining: 7.5s\n"
          ]
        },
        {
          "output_type": "stream",
          "name": "stdout",
          "text": [
            "600:\tlearn: 126.0220466\ttest: 285.1029419\tbest: 285.0961004 (592)\ttotal: 5.51s\tremaining: 5.49s\n"
          ]
        },
        {
          "output_type": "stream",
          "name": "stdout",
          "text": [
            "800:\tlearn: 125.5634635\ttest: 283.9814034\tbest: 283.9356588 (790)\ttotal: 7.07s\tremaining: 3.52s\n"
          ]
        },
        {
          "output_type": "stream",
          "name": "stdout",
          "text": [
            "bestTest = 283.9356588\nbestIteration = 790\nShrink model to first 791 iterations.\nSeed 314159 Fold 0 done. tr=1298 va=96\n"
          ]
        },
        {
          "output_type": "stream",
          "name": "stdout",
          "text": [
            "0:\tlearn: 113.0471639\ttest: 171.3217367\tbest: 171.3217367 (0)\ttotal: 12.8ms\tremaining: 32.1s\n"
          ]
        },
        {
          "output_type": "stream",
          "name": "stdout",
          "text": [
            "200:\tlearn: 111.7087948\ttest: 169.9656982\tbest: 169.9656982 (200)\ttotal: 2.28s\tremaining: 26s\n"
          ]
        },
        {
          "output_type": "stream",
          "name": "stdout",
          "text": [
            "400:\tlearn: 110.3846543\ttest: 168.6603597\tbest: 168.6603597 (400)\ttotal: 4.59s\tremaining: 24s\n"
          ]
        },
        {
          "output_type": "stream",
          "name": "stdout",
          "text": [
            "600:\tlearn: 109.0883210\ttest: 167.3371073\tbest: 167.3371073 (600)\ttotal: 6.91s\tremaining: 21.8s\n"
          ]
        },
        {
          "output_type": "stream",
          "name": "stdout",
          "text": [
            "800:\tlearn: 107.8406563\ttest: 166.0145060\tbest: 166.0145060 (800)\ttotal: 9.24s\tremaining: 19.6s\n"
          ]
        },
        {
          "output_type": "stream",
          "name": "stdout",
          "text": [
            "1000:\tlearn: 106.6273835\ttest: 164.6933187\tbest: 164.6933187 (1000)\ttotal: 11.6s\tremaining: 17.3s\n"
          ]
        },
        {
          "output_type": "stream",
          "name": "stdout",
          "text": [
            "1200:\tlearn: 105.4677148\ttest: 163.3826803\tbest: 163.3826803 (1200)\ttotal: 13.9s\tremaining: 15s\n"
          ]
        },
        {
          "output_type": "stream",
          "name": "stdout",
          "text": [
            "1400:\tlearn: 104.3408128\ttest: 162.0444336\tbest: 162.0444336 (1400)\ttotal: 16.2s\tremaining: 12.7s\n"
          ]
        },
        {
          "output_type": "stream",
          "name": "stdout",
          "text": [
            "1600:\tlearn: 103.2672862\ttest: 160.7654419\tbest: 160.7654419 (1600)\ttotal: 18.5s\tremaining: 10.4s\n"
          ]
        },
        {
          "output_type": "stream",
          "name": "stdout",
          "text": [
            "1800:\tlearn: 102.2097578\ttest: 159.5228271\tbest: 159.5228271 (1800)\ttotal: 20.8s\tremaining: 8.08s\n"
          ]
        },
        {
          "output_type": "stream",
          "name": "stdout",
          "text": [
            "2000:\tlearn: 101.1796995\ttest: 158.2770691\tbest: 158.2770691 (2000)\ttotal: 23.1s\tremaining: 5.76s\n"
          ]
        },
        {
          "output_type": "stream",
          "name": "stdout",
          "text": [
            "2200:\tlearn: 100.1886496\ttest: 157.0370585\tbest: 157.0370585 (2200)\ttotal: 25.4s\tremaining: 3.46s\n"
          ]
        },
        {
          "output_type": "stream",
          "name": "stdout",
          "text": [
            "2400:\tlearn: 99.2482786\ttest: 155.8279826\tbest: 155.8279826 (2400)\ttotal: 27.8s\tremaining: 1.15s\n"
          ]
        },
        {
          "output_type": "stream",
          "name": "stdout",
          "text": [
            "2499:\tlearn: 98.8026531\ttest: 155.2739868\tbest: 155.2739868 (2499)\ttotal: 28.9s\tremaining: 0us\nbestTest = 155.2739868\nbestIteration = 2499\n"
          ]
        },
        {
          "output_type": "stream",
          "name": "stdout",
          "text": [
            "0:\tlearn: 309.2021643\ttest: 350.8813605\tbest: 350.8813605 (0)\ttotal: 10.1ms\tremaining: 12.1s\n"
          ]
        },
        {
          "output_type": "stream",
          "name": "stdout",
          "text": [
            "bestTest = 350.8813605\nbestIteration = 0\nShrink model to first 1 iterations.\nSeed 314159 Fold 1 done. tr=1298 va=96\n"
          ]
        },
        {
          "output_type": "stream",
          "name": "stdout",
          "text": [
            "0:\tlearn: 113.3792012\ttest: 137.2496134\tbest: 137.2496134 (0)\ttotal: 12.4ms\tremaining: 30.9s\n"
          ]
        },
        {
          "output_type": "stream",
          "name": "stdout",
          "text": [
            "200:\tlearn: 112.0017695\ttest: 135.9924418\tbest: 135.9924418 (200)\ttotal: 2.3s\tremaining: 26.3s\n"
          ]
        },
        {
          "output_type": "stream",
          "name": "stdout",
          "text": [
            "400:\tlearn: 110.6406732\ttest: 134.8686320\tbest: 134.8686320 (400)\ttotal: 4.64s\tremaining: 24.3s\n"
          ]
        },
        {
          "output_type": "stream",
          "name": "stdout",
          "text": [
            "600:\tlearn: 109.3294492\ttest: 133.7012939\tbest: 133.7012939 (600)\ttotal: 6.95s\tremaining: 22s\n"
          ]
        },
        {
          "output_type": "stream",
          "name": "stdout",
          "text": [
            "800:\tlearn: 108.0493066\ttest: 132.5286051\tbest: 132.5286051 (800)\ttotal: 9.25s\tremaining: 19.6s\n"
          ]
        },
        {
          "output_type": "stream",
          "name": "stdout",
          "text": [
            "1000:\tlearn: 106.8148714\ttest: 131.3704224\tbest: 131.3704224 (1000)\ttotal: 11.6s\tremaining: 17.3s\n"
          ]
        },
        {
          "output_type": "stream",
          "name": "stdout",
          "text": [
            "1200:\tlearn: 105.6333783\ttest: 130.2050578\tbest: 130.2050578 (1200)\ttotal: 13.9s\tremaining: 15s\n"
          ]
        },
        {
          "output_type": "stream",
          "name": "stdout",
          "text": [
            "1400:\tlearn: 104.5037437\ttest: 129.0606181\tbest: 129.0606181 (1400)\ttotal: 16.2s\tremaining: 12.7s\n"
          ]
        },
        {
          "output_type": "stream",
          "name": "stdout",
          "text": [
            "1600:\tlearn: 103.4145681\ttest: 127.9459229\tbest: 127.9459229 (1600)\ttotal: 18.5s\tremaining: 10.4s\n"
          ]
        },
        {
          "output_type": "stream",
          "name": "stdout",
          "text": [
            "1800:\tlearn: 102.3664412\ttest: 126.8314006\tbest: 126.8314006 (1800)\ttotal: 20.8s\tremaining: 8.08s\n"
          ]
        },
        {
          "output_type": "stream",
          "name": "stdout",
          "text": [
            "2000:\tlearn: 101.3424379\ttest: 125.7141012\tbest: 125.7141012 (2000)\ttotal: 23.1s\tremaining: 5.77s\n"
          ]
        },
        {
          "output_type": "stream",
          "name": "stdout",
          "text": [
            "2200:\tlearn: 100.3517070\ttest: 124.5994670\tbest: 124.5994670 (2200)\ttotal: 25.5s\tremaining: 3.46s\n"
          ]
        },
        {
          "output_type": "stream",
          "name": "stdout",
          "text": [
            "2400:\tlearn: 99.4036980\ttest: 123.4997965\tbest: 123.4997965 (2400)\ttotal: 27.8s\tremaining: 1.15s\n"
          ]
        },
        {
          "output_type": "stream",
          "name": "stdout",
          "text": [
            "2499:\tlearn: 98.9573503\ttest: 122.9696859\tbest: 122.9696859 (2499)\ttotal: 28.9s\tremaining: 0us\nbestTest = 122.9696859\nbestIteration = 2499\n"
          ]
        },
        {
          "output_type": "stream",
          "name": "stdout",
          "text": [
            "0:\tlearn: 308.2703774\ttest: 313.0864830\tbest: 313.0864830 (0)\ttotal: 10.5ms\tremaining: 12.6s\n"
          ]
        },
        {
          "output_type": "stream",
          "name": "stdout",
          "text": [
            "bestTest = 313.086483\nbestIteration = 0\nShrink model to first 1 iterations.\nSeed 314159 Fold 2 done. tr=1298 va=96\n"
          ]
        },
        {
          "output_type": "stream",
          "name": "stdout",
          "text": [
            "0:\tlearn: 112.8754804\ttest: 167.3803868\tbest: 167.3803868 (0)\ttotal: 12.4ms\tremaining: 30.9s\n"
          ]
        },
        {
          "output_type": "stream",
          "name": "stdout",
          "text": [
            "200:\tlearn: 111.4734819\ttest: 165.9094632\tbest: 165.9094632 (200)\ttotal: 2.29s\tremaining: 26.2s\n"
          ]
        },
        {
          "output_type": "stream",
          "name": "stdout",
          "text": [
            "400:\tlearn: 110.1061443\ttest: 164.5071405\tbest: 164.5071405 (400)\ttotal: 4.63s\tremaining: 24.2s\n"
          ]
        },
        {
          "output_type": "stream",
          "name": "stdout",
          "text": [
            "600:\tlearn: 108.7845648\ttest: 163.1795930\tbest: 163.1795930 (600)\ttotal: 6.96s\tremaining: 22s\n"
          ]
        },
        {
          "output_type": "stream",
          "name": "stdout",
          "text": [
            "800:\tlearn: 107.5029905\ttest: 161.9221480\tbest: 161.9221480 (800)\ttotal: 9.3s\tremaining: 19.7s\n"
          ]
        },
        {
          "output_type": "stream",
          "name": "stdout",
          "text": [
            "1000:\tlearn: 106.2771426\ttest: 160.6925193\tbest: 160.6925193 (1000)\ttotal: 11.6s\tremaining: 17.4s\n"
          ]
        },
        {
          "output_type": "stream",
          "name": "stdout",
          "text": [
            "1200:\tlearn: 105.1057120\ttest: 159.4998110\tbest: 159.4998110 (1200)\ttotal: 14s\tremaining: 15.1s\n"
          ]
        },
        {
          "output_type": "stream",
          "name": "stdout",
          "text": [
            "1400:\tlearn: 103.9928541\ttest: 158.3603411\tbest: 158.3603411 (1400)\ttotal: 16.3s\tremaining: 12.8s\n"
          ]
        },
        {
          "output_type": "stream",
          "name": "stdout",
          "text": [
            "1600:\tlearn: 102.9131077\ttest: 157.2503465\tbest: 157.2503465 (1600)\ttotal: 18.7s\tremaining: 10.5s\n"
          ]
        },
        {
          "output_type": "stream",
          "name": "stdout",
          "text": [
            "1800:\tlearn: 101.8722617\ttest: 156.1712135\tbest: 156.1712135 (1800)\ttotal: 21s\tremaining: 8.15s\n"
          ]
        },
        {
          "output_type": "stream",
          "name": "stdout",
          "text": [
            "2000:\tlearn: 100.8540065\ttest: 155.1327285\tbest: 155.1327285 (2000)\ttotal: 23.3s\tremaining: 5.82s\n"
          ]
        },
        {
          "output_type": "stream",
          "name": "stdout",
          "text": [
            "2200:\tlearn: 99.8791074\ttest: 154.0974882\tbest: 154.0974882 (2200)\ttotal: 25.7s\tremaining: 3.48s\n"
          ]
        },
        {
          "output_type": "stream",
          "name": "stdout",
          "text": [
            "2400:\tlearn: 98.9529629\ttest: 153.0715096\tbest: 153.0715096 (2400)\ttotal: 28s\tremaining: 1.15s\n"
          ]
        },
        {
          "output_type": "stream",
          "name": "stdout",
          "text": [
            "2499:\tlearn: 98.5169701\ttest: 152.5862105\tbest: 152.5862105 (2499)\ttotal: 29.2s\tremaining: 0us\nbestTest = 152.5862105\nbestIteration = 2499\n"
          ]
        },
        {
          "output_type": "stream",
          "name": "stdout",
          "text": [
            "0:\tlearn: 309.7925020\ttest: 362.6780171\tbest: 362.6780171 (0)\ttotal: 10.1ms\tremaining: 12.1s\n"
          ]
        },
        {
          "output_type": "stream",
          "name": "stdout",
          "text": [
            "bestTest = 362.6780171\nbestIteration = 0\nShrink model to first 1 iterations.\nSeed 314159 Fold 3 done. tr=1301 va=93\n"
          ]
        },
        {
          "output_type": "stream",
          "name": "stdout",
          "text": [
            "0:\tlearn: 110.0631846\ttest: 230.5951151\tbest: 230.5951151 (0)\ttotal: 12.4ms\tremaining: 31.1s\n"
          ]
        },
        {
          "output_type": "stream",
          "name": "stdout",
          "text": [
            "200:\tlearn: 108.6748054\ttest: 229.2239163\tbest: 229.2239163 (200)\ttotal: 2.33s\tremaining: 26.6s\n"
          ]
        },
        {
          "output_type": "stream",
          "name": "stdout",
          "text": [
            "400:\tlearn: 107.3131485\ttest: 227.8782132\tbest: 227.8782132 (400)\ttotal: 4.69s\tremaining: 24.5s\n"
          ]
        },
        {
          "output_type": "stream",
          "name": "stdout",
          "text": [
            "600:\tlearn: 106.0328713\ttest: 226.5936870\tbest: 226.5936870 (600)\ttotal: 7.03s\tremaining: 22.2s\n"
          ]
        },
        {
          "output_type": "stream",
          "name": "stdout",
          "text": [
            "800:\tlearn: 104.8037327\ttest: 225.2899236\tbest: 225.2899236 (800)\ttotal: 9.34s\tremaining: 19.8s\n"
          ]
        },
        {
          "output_type": "stream",
          "name": "stdout",
          "text": [
            "1000:\tlearn: 103.6024332\ttest: 224.0001260\tbest: 224.0001260 (1000)\ttotal: 11.7s\tremaining: 17.5s\n"
          ]
        },
        {
          "output_type": "stream",
          "name": "stdout",
          "text": [
            "1200:\tlearn: 102.4330803\ttest: 222.7021379\tbest: 222.7021379 (1200)\ttotal: 14s\tremaining: 15.1s\n"
          ]
        },
        {
          "output_type": "stream",
          "name": "stdout",
          "text": [
            "1400:\tlearn: 101.3272122\ttest: 221.4398522\tbest: 221.4398522 (1400)\ttotal: 16.3s\tremaining: 12.8s\n"
          ]
        },
        {
          "output_type": "stream",
          "name": "stdout",
          "text": [
            "1600:\tlearn: 100.2648924\ttest: 220.2450437\tbest: 220.2450437 (1600)\ttotal: 18.6s\tremaining: 10.4s\n"
          ]
        },
        {
          "output_type": "stream",
          "name": "stdout",
          "text": [
            "1800:\tlearn: 99.2276374\ttest: 219.0797211\tbest: 219.0797211 (1800)\ttotal: 20.9s\tremaining: 8.13s\n"
          ]
        },
        {
          "output_type": "stream",
          "name": "stdout",
          "text": [
            "2000:\tlearn: 98.2177171\ttest: 217.9598034\tbest: 217.9598034 (2000)\ttotal: 23.3s\tremaining: 5.81s\n"
          ]
        },
        {
          "output_type": "stream",
          "name": "stdout",
          "text": [
            "2200:\tlearn: 97.2586712\ttest: 216.8584089\tbest: 216.8584089 (2200)\ttotal: 25.6s\tremaining: 3.48s\n"
          ]
        },
        {
          "output_type": "stream",
          "name": "stdout",
          "text": [
            "2400:\tlearn: 96.3387478\ttest: 215.8006972\tbest: 215.8006972 (2400)\ttotal: 28s\tremaining: 1.15s\n"
          ]
        },
        {
          "output_type": "stream",
          "name": "stdout",
          "text": [
            "2499:\tlearn: 95.8953569\ttest: 215.2727445\tbest: 215.2727445 (2499)\ttotal: 29.1s\tremaining: 0us\nbestTest = 215.2727445\nbestIteration = 2499\n"
          ]
        },
        {
          "output_type": "stream",
          "name": "stdout",
          "text": [
            "0:\tlearn: 304.0021845\ttest: 616.3391749\tbest: 616.3391749 (0)\ttotal: 10.3ms\tremaining: 12.3s\n"
          ]
        },
        {
          "output_type": "stream",
          "name": "stdout",
          "text": [
            "200:\tlearn: 170.1220342\ttest: 604.0048423\tbest: 604.0048423 (200)\ttotal: 1.8s\tremaining: 8.96s\n"
          ]
        },
        {
          "output_type": "stream",
          "name": "stdout",
          "text": [
            "400:\tlearn: 159.0004762\ttest: 586.2791914\tbest: 586.2791914 (400)\ttotal: 3.64s\tremaining: 7.25s\n"
          ]
        },
        {
          "output_type": "stream",
          "name": "stdout",
          "text": [
            "600:\tlearn: 146.2370539\ttest: 556.5698132\tbest: 556.5698132 (600)\ttotal: 5.53s\tremaining: 5.51s\n"
          ]
        },
        {
          "output_type": "stream",
          "name": "stdout",
          "text": [
            "800:\tlearn: 132.5284069\ttest: 521.9956124\tbest: 521.9496536 (799)\ttotal: 7.39s\tremaining: 3.68s\n"
          ]
        },
        {
          "output_type": "stream",
          "name": "stdout",
          "text": [
            "1000:\tlearn: 123.0180117\ttest: 493.8380954\tbest: 493.8289504 (998)\ttotal: 9.27s\tremaining: 1.84s\n"
          ]
        },
        {
          "output_type": "stream",
          "name": "stdout",
          "text": [
            "1199:\tlearn: 118.0662277\ttest: 475.0387194\tbest: 475.0387194 (1199)\ttotal: 11.1s\tremaining: 0us\nbestTest = 475.0387194\nbestIteration = 1199\nSeed 314159 Fold 4 done. tr=1301 va=93\nDiag valid_count: 474  nan(abs_wsb)= 0  nan(wsl)= 0  nan(prmse)= 0  calib_count= 474\n"
          ]
        },
        {
          "output_type": "stream",
          "name": "stdout",
          "text": [
            "Temporal OOF (last-3) residual blend (seed-bagged 10): -6.98952 with params {'w_cat': 0.3, 'd': 0.5, 's': 1.6, 'a': 40, 'b': 1.0, 'c': 0.8, 'e': 0.0}\nFull OOF (last-3, 10-seed): -6.98951670372391 best: {'w_cat': 0.3, 'd': 0.5, 's': 1.6, 'a': 40, 'b': 1.0, 'c': 0.8, 'e': 0.0}\nres2 (last-3 tuned, 10 seeds) registered for production: {'w_cat': 0.3, 'd': 0.5, 's': 1.6, 'a': 40, 'b': 1.0, 'c': 0.8, 'e': 0.0}\n"
          ]
        }
      ]
    },
    {
      "id": "b1752f88-192e-4f2a-84d9-a0d16bcb4a2e",
      "cell_type": "code",
      "metadata": {},
      "source": [
        "# Backup ultra-robust Linear-only production (deterministic). Saves submission_primary.csv copy, then writes submission_backup.csv and submission.csv.\n",
        "import numpy as np, pandas as pd, time, os\n",
        "from sklearn.linear_model import HuberRegressor\n",
        "\n",
        "PID, WEEK, TARGET = 'Patient','Weeks','FVC'\n",
        "\n",
        "# 1) Preserve current PRIMARY submission as submission_primary.csv if exists\n",
        "if os.path.exists('submission.csv'):\n",
        "    try:\n",
        "        pd.read_csv('submission.csv').to_csv('submission_primary.csv', index=False)\n",
        "        print('Saved submission_primary.csv (copy of current submission.csv)')\n",
        "    except Exception as e:\n",
        "        print('Warning: could not copy submission.csv -> submission_primary.csv:', e)\n",
        "\n",
        "# 2) Load data and prepare demographics for submission rows\n",
        "train = pd.read_csv('train.csv')\n",
        "ss = pd.read_csv('sample_submission.csv')\n",
        "sub = ss.copy()\n",
        "sub[[PID, WEEK]] = sub['Patient_Week'].str.rsplit('_', n=1, expand=True)\n",
        "sub[WEEK] = sub[WEEK].astype(int)\n",
        "\n",
        "meta_cols = [PID, WEEK, 'Percent','Age','Sex','SmokingStatus']\n",
        "test_meta = pd.read_csv('test.csv')[meta_cols]\n",
        "meta_all = pd.concat([train[meta_cols], test_meta], axis=0, ignore_index=True).sort_values([PID, WEEK])\n",
        "for c in ['Percent','Age','Sex','SmokingStatus']:\n",
        "    meta_all[c] = meta_all.groupby(PID)[c].ffill()\n",
        "    meta_all[c] = meta_all.groupby(PID)[c].bfill()\n",
        "sub = sub.merge(meta_all.drop(columns=[WEEK]).drop_duplicates(PID), on=PID, how='left')\n",
        "\n",
        "# 3) Helpers\n",
        "def huber_slope_intercept(prior_weeks, prior_fvc):\n",
        "    n = len(prior_weeks)\n",
        "    if n >= 2:\n",
        "        X = np.asarray(prior_weeks, dtype=float).reshape(-1,1)\n",
        "        y = np.asarray(prior_fvc, dtype=float)\n",
        "        try:\n",
        "            m = HuberRegressor(epsilon=1.35, alpha=0.0, fit_intercept=True, max_iter=200).fit(X, y)\n",
        "            slope = float(m.coef_[0]); intercept = float(m.intercept_)\n",
        "            yhat = m.predict(X); rmse = float(np.sqrt(np.mean((y - yhat)**2)))\n",
        "        except Exception:\n",
        "            x = X[:,0]; xm, ym = x.mean(), y.mean()\n",
        "            sxx = float(np.sum((x-xm)**2) + 1e-6); sxy = float(np.sum((x-xm)*(y-ym)))\n",
        "            slope = sxy / sxx; intercept = ym - slope * xm\n",
        "            rmse = float(np.sqrt(np.mean((y - (slope*x + intercept))**2)))\n",
        "        return slope, intercept, rmse\n",
        "    elif n == 1:\n",
        "        return 0.0, float(prior_fvc[0]), 120.0\n",
        "    else:\n",
        "        return 0.0, np.nan, 120.0\n",
        "\n",
        "def build_history(df_src):\n",
        "    hist = {}\n",
        "    for pid, g in df_src.groupby(PID):\n",
        "        gg = g.sort_values(WEEK)\n",
        "        hist[pid] = list(zip(gg[WEEK].tolist(), gg[TARGET].tolist(), gg['Percent'].tolist()))\n",
        "    return hist\n",
        "\n",
        "def build_feats_from_train_history(df_target, hist_train, basew_map):\n",
        "    rows = []\n",
        "    for pid, g in df_target.groupby(PID):\n",
        "        g_sorted = g.sort_values(WEEK)\n",
        "        prior = hist_train.get(pid, [])\n",
        "        for idx, r in g_sorted.iterrows():\n",
        "            w = float(r[WEEK]); pct = float(r['Percent']); age = float(r['Age'])\n",
        "            sex = r['Sex']; smoke = r['SmokingStatus']\n",
        "            prior_weeks = [float(pw) for (pw, pf, pp) in prior if pw < w]\n",
        "            prior_fvc = [float(pf) for (pw, pf, pp) in prior if pw < w]\n",
        "            prior_pct = [float(pp) for (pw, pf, pp) in prior if pw < w]\n",
        "            slope, intercept, prmse = huber_slope_intercept(prior_weeks, prior_fvc)\n",
        "            mu_lin = (intercept + slope * w) if np.isfinite(intercept) else np.nan\n",
        "            vcount = len(prior_weeks)\n",
        "            basew = float(basew_map.get(pid, np.nan))\n",
        "            wsb = w - basew if np.isfinite(basew) else np.nan\n",
        "            abs_wsb = abs(wsb) if np.isfinite(wsb) else np.nan\n",
        "            if vcount > 0:\n",
        "                last_w = float(prior_weeks[-1]); last_pct = float(prior_pct[-1]); last_fvc = float(prior_fvc[-1])\n",
        "            else:\n",
        "                last_w = basew if np.isfinite(basew) else w; last_pct = pct; last_fvc = np.nan\n",
        "            weeks_since_last = w - last_w if np.isfinite(last_w) else np.nan\n",
        "            sex_num = 1 if sex == 'Male' else 0\n",
        "            rows.append({\n",
        "                'idx': idx, PID: pid, WEEK: w,\n",
        "                'baseline_week': basew, 'weeks_since_baseline': wsb, 'abs_wsb': abs_wsb,\n",
        "                'mu_lin': mu_lin, 'intercept_prior': intercept, 'patient_RMSE': prmse,\n",
        "                'visit_count_so_far': vcount, 'weeks_since_last': weeks_since_last,\n",
        "                'delta_percent_last': float(pct - last_pct),\n",
        "                'Percent': pct, 'Age': age, 'Sex': sex, 'SmokingStatus': smoke,\n",
        "                'last_train_FVC': last_fvc\n",
        "            })\n",
        "    feats = pd.DataFrame(rows).set_index('idx').sort_index()\n",
        "    return feats\n",
        "\n",
        "def build_anchor_fields(df_target, hist_submit, baseline_fvc_map):\n",
        "    # last_known_FVC and weeks_since_anchor using train\u222atest anchors (causal per week ordering), baseline_FVC per earliest known\n",
        "    rows = []\n",
        "    for pid, g in df_target.groupby(PID):\n",
        "        g_sorted = g.sort_values(WEEK)\n",
        "        prior = hist_submit.get(pid, [])\n",
        "        baseF = float(baseline_fvc_map.get(pid, np.nan))\n",
        "        for idx, r in g_sorted.iterrows():\n",
        "            w = float(r[WEEK])\n",
        "            prior_weeks = [float(pw) for (pw, pf, pp) in prior if pw < w]\n",
        "            prior_fvc = [float(pf) for (pw, pf, pp) in prior if pw < w]\n",
        "            if len(prior_weeks) > 0:\n",
        "                lw = float(prior_weeks[-1]); lf = float(prior_fvc[-1])\n",
        "                wsl = w - lw\n",
        "            else:\n",
        "                lf = np.nan; wsl = np.nan\n",
        "            rows.append({'idx': idx, 'last_known_FVC': lf, 'weeks_since_anchor': wsl, 'baseline_FVC': baseF})\n",
        "    A = pd.DataFrame(rows).set_index('idx').sort_index()\n",
        "    return A\n",
        "\n",
        "# 4) Histories and feature frames\n",
        "train_sorted = train.sort_values([PID, WEEK]).reset_index(drop=True)\n",
        "basew_map_full = train_sorted.groupby(PID)[WEEK].min()\n",
        "hist_train = build_history(train_sorted[[PID, WEEK, TARGET, 'Percent']])\n",
        "X_sub_trainhist = build_feats_from_train_history(sub[[PID, WEEK, 'Percent','Age','Sex','SmokingStatus']], hist_train, basew_map_full)\n",
        "\n",
        "# Anchors from train\u222atest for last_known and baseline_FVC\n",
        "test_df = pd.read_csv('test.csv')\n",
        "anchors_src = pd.concat([train[[PID, WEEK, TARGET, 'Percent']], test_df[[PID, WEEK, TARGET, 'Percent']]], ignore_index=True)\n",
        "anchors_src = anchors_src.dropna(subset=[TARGET])\n",
        "hist_submit = build_history(anchors_src[[PID, WEEK, TARGET, 'Percent']])\n",
        "baseline_map = anchors_src.sort_values([PID, WEEK]).groupby(PID).head(1).set_index(PID)[TARGET].to_dict()\n",
        "A = build_anchor_fields(sub[[PID, WEEK]], hist_submit, baseline_map)\n",
        "\n",
        "# Merge pieces\n",
        "X = X_sub_trainhist.join(A, how='left')\n",
        "\n",
        "# 5) Compute mu (linear-only) with leak-free fallbacks\n",
        "global_med = float(train[TARGET].median())\n",
        "mu_lin_raw = X['mu_lin'].values.astype(float)\n",
        "intp = X['intercept_prior'].values.astype(float)\n",
        "mu_final = np.where(np.isfinite(mu_lin_raw), mu_lin_raw, np.where(np.isfinite(intp), intp, global_med)).astype(float)\n",
        "\n",
        "# 6) Mu clamps\n",
        "last_known = np.nan_to_num(X['last_known_FVC'].values.astype(float), nan=mu_final)\n",
        "base_fvc = np.nan_to_num(X['baseline_FVC'].values.astype(float), nan=last_known)\n",
        "wsl = np.nan_to_num(X['weeks_since_anchor'].values.astype(float), nan=0.0)\n",
        "# cap_up = last_known + 80 \u2212 clip(max(wsl\u22126,0)*3, 0, 30); then min/max guards\n",
        "cap_up = last_known + 80.0 - np.clip(np.maximum(wsl - 6.0, 0.0) * 3.0, 0.0, 30.0)\n",
        "cap_up = np.maximum(cap_up, last_known + 50.0)\n",
        "cap_up = np.minimum(cap_up, last_known + 150.0)\n",
        "mu_final = np.minimum(mu_final, cap_up)\n",
        "# baseline window and extra lower guard vs last_known\n",
        "mu_final = np.clip(mu_final, base_fvc - 350.0, base_fvc + 150.0)\n",
        "mu_final = np.maximum(mu_final, last_known - 400.0)\n",
        "\n",
        "# 7) Sigma (analytic, no model heads)\n",
        "abs_wsb = np.nan_to_num(X['abs_wsb'].values.astype(float), nan=0.0, posinf=0.0, neginf=0.0)\n",
        "prmse = np.nan_to_num(X['patient_RMSE'].values.astype(float), nan=120.0)\n",
        "vcount = np.nan_to_num(X['visit_count_so_far'].values.astype(float), nan=0.0)\n",
        "sigma = 140.0 + 1.2 * prmse + 1.8 * np.clip(abs_wsb, 0.0, 40.0)\n",
        "# Floors\n",
        "wsl_abs = np.clip(np.abs(wsl), 0.0, 24.0)\n",
        "mask_le1 = vcount <= 1\n",
        "sigma[mask_le1] = np.maximum(sigma[mask_le1], 260.0 + 2.0 * wsl_abs[mask_le1])\n",
        "mask_eq0 = vcount == 0\n",
        "sigma[mask_eq0] = np.maximum(sigma[mask_eq0], 280.0 + 2.5 * wsl_abs[mask_eq0])\n",
        "sparse_counts = train.groupby(PID)[WEEK].count()\n",
        "sparse_set = set(sparse_counts[sparse_counts <= 3].index)\n",
        "sparse_mask = sub[PID].isin(sparse_set).values\n",
        "sigma[sparse_mask] = np.maximum(sigma[sparse_mask], 280.0)\n",
        "sigma = np.maximum(sigma, np.where(abs_wsb > 32.0, 220.0, 0.0))\n",
        "\n",
        "# Multiplicative nudges\n",
        "pct = np.nan_to_num(X['Percent'].values.astype(float), nan=100.0)\n",
        "dpl = np.nan_to_num(X.get('delta_percent_last', pd.Series(0, index=X.index)).values.astype(float), nan=0.0)\n",
        "# anchor_resid using train mu_lin vs last_known anchor\n",
        "anchor_resid = last_known - np.nan_to_num(mu_lin_raw, nan=np.nan_to_num(intp, nan=global_med))\n",
        "sigma *= np.where(pct < 60.0, 1.10, 1.0)\n",
        "sigma *= np.where(dpl < -3.0, 1.10, 1.0)\n",
        "sigma *= np.where(np.abs(anchor_resid) > 200.0, 1.10, 1.0)\n",
        "sigma *= np.where(np.abs(wsl) >= 16.0, 1.05, 1.0)\n",
        "sigma *= np.where(base_fvc < 1800.0, 1.10, 1.0)\n",
        "sigma = np.maximum(sigma, 90.0)\n",
        "\n",
        "# 8) Write backup submissions\n",
        "out = ss.copy()\n",
        "out['FVC'] = mu_final.astype(float)\n",
        "out['Confidence'] = sigma.astype(float)\n",
        "out.to_csv('submission_backup.csv', index=False)\n",
        "out.to_csv('submission.csv', index=False)\n",
        "print('Saved submission_backup.csv and submission.csv (BACKUP linear-only).')\n",
        "# Quick sanity stats\n",
        "print('mu range:', float(np.nanmin(mu_final)), float(np.nanmax(mu_final)))\n",
        "print('sigma pctiles:', np.percentile(sigma, [10,25,50,75,90]).round(1))"
      ],
      "execution_count": 57,
      "outputs": [
        {
          "output_type": "stream",
          "name": "stdout",
          "text": [
            "Saved submission_primary.csv (copy of current submission.csv)\nSaved submission_backup.csv and submission.csv (BACKUP linear-only).\nmu range: 1633.0 6049.0\nsigma pctiles: [284.  335.5 392.7 392.7 432. ]\n"
          ]
        }
      ]
    },
    {
      "id": "29f2d0a1-353c-4738-bb7a-9195553b4e2f",
      "cell_type": "code",
      "metadata": {},
      "source": [
        "# Restore PRIMARY submission as the final submission.csv\n",
        "import pandas as pd, os, shutil\n",
        "src = 'submission_primary.csv'; dst = 'submission.csv'\n",
        "assert os.path.exists(src), 'submission_primary.csv not found'\n",
        "shutil.copyfile(src, dst)\n",
        "print('Restored PRIMARY to submission.csv from submission_primary.csv')\n",
        "print(pd.read_csv(dst).head())"
      ],
      "execution_count": 66,
      "outputs": [
        {
          "output_type": "stream",
          "name": "stdout",
          "text": [
            "Restored PRIMARY to submission.csv from submission_primary.csv\n                   Patient_Week     FVC  Confidence\n0  ID00126637202218610655908_-3  2525.0   450.33722\n1  ID00126637202218610655908_-2  2525.0   450.33722\n2  ID00126637202218610655908_-1  2525.0   450.33722\n3   ID00126637202218610655908_0  2525.0   450.33722\n4   ID00126637202218610655908_1  2525.0   450.33722\n"
          ]
        }
      ]
    },
    {
      "id": "18f892f2-b9dc-40b3-92bd-cce01c74b90f",
      "cell_type": "code",
      "metadata": {},
      "source": [
        "# Switch to BACKUP submission for final attempt\n",
        "import pandas as pd, shutil, os\n",
        "src = 'submission_backup.csv'; dst = 'submission.csv'\n",
        "assert os.path.exists(src), 'submission_backup.csv not found'\n",
        "shutil.copyfile(src, dst)\n",
        "print('Restored BACKUP to submission.csv from submission_backup.csv')\n",
        "print(pd.read_csv(dst).head())"
      ],
      "execution_count": 59,
      "outputs": [
        {
          "output_type": "stream",
          "name": "stdout",
          "text": [
            "Restored BACKUP to submission.csv from submission_backup.csv\n                   Patient_Week     FVC  Confidence\n0  ID00126637202218610655908_-3  2525.0       312.4\n1  ID00126637202218610655908_-2  2525.0       312.4\n2  ID00126637202218610655908_-1  2525.0       312.4\n3   ID00126637202218610655908_0  2525.0       312.4\n4   ID00126637202218610655908_1  2525.0       312.4\n"
          ]
        }
      ]
    },
    {
      "id": "f9a32583-dc5a-457a-ac7f-27b1cab75959",
      "cell_type": "code",
      "metadata": {},
      "source": [
        "# Inspect current submission.csv stats to gauge sigma distribution\n",
        "import pandas as pd, numpy as np, os\n",
        "assert os.path.exists('submission.csv'), 'submission.csv not found'\n",
        "sub = pd.read_csv('submission.csv')\n",
        "print('Rows:', len(sub))\n",
        "print('NaNs FVC:', sub['FVC'].isna().sum(), 'NaNs Confidence:', sub['Confidence'].isna().sum())\n",
        "print('Confidence percentiles [10,25,50,75,90]:', np.percentile(sub['Confidence'].values, [10,25,50,75,90]).round(1))\n",
        "print(sub.head())"
      ],
      "execution_count": 133,
      "outputs": [
        {
          "output_type": "stream",
          "name": "stdout",
          "text": [
            "Rows: 1908\nNaNs FVC: 0 NaNs Confidence: 0\nConfidence percentiles [10,25,50,75,90]: [230.  248.  251.6 305.2 545.4]\n                   Patient_Week          FVC  Confidence\n0  ID00126637202218610655908_-3  2522.518737  468.771497\n1  ID00126637202218610655908_-2  2522.518737  468.771508\n2  ID00126637202218610655908_-1  2522.518737  468.771457\n3   ID00126637202218610655908_0  2522.518737  468.771443\n4   ID00126637202218610655908_1  2522.518737  468.771459\n"
          ]
        }
      ]
    },
    {
      "id": "cb2a405d-2dd4-4383-983d-8bdcdfa60694",
      "cell_type": "code",
      "metadata": {},
      "source": [
        "# Post-process sigma to target LB-friendly distribution (median ~240-260, 75th ~280-320)\n",
        "import pandas as pd, numpy as np, os\n",
        "assert os.path.exists('submission.csv'), 'submission.csv not found'\n",
        "sub = pd.read_csv('submission.csv')\n",
        "conf = sub['Confidence'].values.astype(float)\n",
        "pcts = np.percentile(conf, [50, 75])\n",
        "med, p75 = float(pcts[0]), float(pcts[1])\n",
        "print('Before adjust - median:', round(med,1), 'p75:', round(p75,1))\n",
        "# Aim median ~250\n",
        "target_med = 250.0\n",
        "scale = target_med / max(med, 1e-6)\n",
        "# Guardrails\n",
        "scale = float(np.clip(scale, 0.75, 0.95))\n",
        "conf_adj = conf * scale\n",
        "conf_adj = np.maximum(conf_adj, 70.0)\n",
        "sub['Confidence'] = conf_adj\n",
        "sub.to_csv('submission.csv', index=False)\n",
        "pcts2 = np.percentile(conf_adj, [10,25,50,75,90])\n",
        "print('After adjust - percentiles [10,25,50,75,90]:', np.round(pcts2,1))\n",
        "print(sub.head())"
      ],
      "execution_count": 67,
      "outputs": [
        {
          "output_type": "stream",
          "name": "stdout",
          "text": [
            "Before adjust - median: 289.8 p75: 318.8\nAfter adjust - percentiles [10,25,50,75,90]: [226.4 250.  250.  275.  715.6]\n                   Patient_Week     FVC  Confidence\n0  ID00126637202218610655908_-3  2525.0  388.489665\n1  ID00126637202218610655908_-2  2525.0  388.489665\n2  ID00126637202218610655908_-1  2525.0  388.489665\n3   ID00126637202218610655908_0  2525.0  388.489665\n4   ID00126637202218610655908_1  2525.0  388.489665\n"
          ]
        }
      ]
    },
    {
      "id": "e95fc77c-5656-48f6-91ab-aa18ada714fd",
      "cell_type": "code",
      "metadata": {},
      "source": [
        "# Switch to BACKUP linear-only and recalibrate sigma to median~250, then overwrite submission.csv\n",
        "import pandas as pd, numpy as np, shutil, os\n",
        "src = 'submission_backup.csv'; dst = 'submission.csv'\n",
        "assert os.path.exists(src), 'submission_backup.csv not found'\n",
        "shutil.copyfile(src, dst)\n",
        "sub = pd.read_csv(dst)\n",
        "conf = sub['Confidence'].values.astype(float)\n",
        "med = float(np.percentile(conf, 50))\n",
        "target_med = 250.0\n",
        "scale = target_med / max(med, 1e-6)\n",
        "scale = float(np.clip(scale, 0.75, 0.95))\n",
        "conf_adj = np.maximum(conf * scale, 70.0)\n",
        "sub['Confidence'] = conf_adj\n",
        "sub.to_csv(dst, index=False)\n",
        "print('Backup sigma adjusted. New percentiles [10,25,50,75,90]:', np.percentile(conf_adj, [10,25,50,75,90]).round(1))\n",
        "print(sub.head())"
      ],
      "execution_count": 64,
      "outputs": [
        {
          "output_type": "stream",
          "name": "stdout",
          "text": [
            "Backup sigma adjusted. New percentiles [10,25,50,75,90]: [213.  251.6 294.5 294.5 324. ]\n                   Patient_Week     FVC  Confidence\n0  ID00126637202218610655908_-3  2525.0       234.3\n1  ID00126637202218610655908_-2  2525.0       234.3\n2  ID00126637202218610655908_-1  2525.0       234.3\n3   ID00126637202218610655908_0  2525.0       234.3\n4   ID00126637202218610655908_1  2525.0       234.3\n"
          ]
        }
      ]
    },
    {
      "id": "d573445e-b552-4496-bd03-be0567d8f71c",
      "cell_type": "code",
      "metadata": {},
      "source": [
        "# Recalibrate current submission.csv sigma to target median ~250 with wider bounds\n",
        "import pandas as pd, numpy as np, os\n",
        "assert os.path.exists('submission.csv'), 'submission.csv not found'\n",
        "sub = pd.read_csv('submission.csv')\n",
        "conf = sub['Confidence'].astype(float).values\n",
        "med = float(np.percentile(conf, 50))\n",
        "target_med = 250.0\n",
        "scale = target_med / max(med, 1e-6)\n",
        "scale = float(np.clip(scale, 0.6, 0.98))\n",
        "conf_adj = np.maximum(conf * scale, 70.0)\n",
        "sub['Confidence'] = conf_adj\n",
        "sub.to_csv('submission.csv', index=False)\n",
        "print('Recalibrated sigma with scale=', round(scale, 4))\n",
        "print('New Confidence percentiles [10,25,50,75,90]:', np.percentile(conf_adj, [10,25,50,75,90]).round(1))\n",
        "print(sub.head())"
      ],
      "execution_count": 65,
      "outputs": [
        {
          "output_type": "stream",
          "name": "stdout",
          "text": [
            "Recalibrated sigma with scale= 0.8488\nNew Confidence percentiles [10,25,50,75,90]: [180.8 213.6 250.  250.  275. ]\n                   Patient_Week     FVC  Confidence\n0  ID00126637202218610655908_-3  2525.0  198.879552\n1  ID00126637202218610655908_-2  2525.0  198.879552\n2  ID00126637202218610655908_-1  2525.0  198.879552\n3   ID00126637202218610655908_0  2525.0  198.879552\n4   ID00126637202218610655908_1  2525.0  198.879552\n"
          ]
        }
      ]
    },
    {
      "id": "16f488bf-0beb-4787-b145-0aabeea71554",
      "cell_type": "code",
      "metadata": {},
      "source": [
        "# Piecewise post-process: nudge upper-half sigmas slightly to hit target p75 without moving median\n",
        "import pandas as pd, numpy as np, os\n",
        "assert os.path.exists('submission.csv'), 'submission.csv not found'\n",
        "sub = pd.read_csv('submission.csv')\n",
        "conf = sub['Confidence'].astype(float).values\n",
        "med = float(np.percentile(conf, 50))\n",
        "# Only nudge sigmas above the median by a small factor\n",
        "scale_upper = 1.04\n",
        "conf2 = conf.copy()\n",
        "mask_hi = conf > med\n",
        "conf2[mask_hi] = conf2[mask_hi] * scale_upper\n",
        "conf2 = np.maximum(conf2, 70.0)\n",
        "sub['Confidence'] = conf2\n",
        "sub.to_csv('submission.csv', index=False)\n",
        "print('Post-piecewise adjust percentiles [10,25,50,75,90]:', np.percentile(conf2, [10,25,50,75,90]).round(1))\n",
        "print(sub.head())"
      ],
      "execution_count": 68,
      "outputs": [
        {
          "output_type": "stream",
          "name": "stdout",
          "text": [
            "Post-piecewise adjust percentiles [10,25,50,75,90]: [226.4 250.  250.  286.  744.3]\n                   Patient_Week     FVC  Confidence\n0  ID00126637202218610655908_-3  2525.0  404.029252\n1  ID00126637202218610655908_-2  2525.0  404.029252\n2  ID00126637202218610655908_-1  2525.0  404.029252\n3   ID00126637202218610655908_0  2525.0  404.029252\n4   ID00126637202218610655908_1  2525.0  404.029252\n"
          ]
        }
      ]
    },
    {
      "id": "ccdf2a65-0b38-4d29-950e-c33212e12027",
      "cell_type": "code",
      "metadata": {},
      "source": [
        "# Final post-process: lower-half-only median downscale to target p50\u2248248 without touching upper half\n",
        "import pandas as pd, numpy as np, os\n",
        "assert os.path.exists('submission.csv'), 'submission.csv not found'\n",
        "sub = pd.read_csv('submission.csv')\n",
        "conf = sub['Confidence'].astype(float).values\n",
        "p10,p25,p50,p75,p90 = np.percentile(conf, [10,25,50,75,90])\n",
        "print('Before final lower-half downscale percentiles [10,25,50,75,90]:', np.round([p10,p25,p50,p75,p90],1))\n",
        "if p50 > 252.0:\n",
        "    target_med = 248.0\n",
        "    scale_low = float(np.clip(target_med / max(p50, 1e-6), 0.88, 0.98))\n",
        "    lo = conf <= p50\n",
        "    conf[lo] = np.maximum(conf[lo] * scale_low, 70.0)\n",
        "    sub['Confidence'] = conf\n",
        "    sub.to_csv('submission.csv', index=False)\n",
        "    p10,p25,p50,p75,p90 = np.percentile(conf, [10,25,50,75,90])\n",
        "print('After final lower-half downscale percentiles [10,25,50,75,90]:', np.round([p10,p25,p50,p75,p90],1))\n",
        "print(sub.head())"
      ],
      "execution_count": 110,
      "outputs": [
        {
          "output_type": "stream",
          "name": "stdout",
          "text": [
            "Before final lower-half downscale percentiles [10,25,50,75,90]: [205.3 221.7 259.8 297.8 560. ]\nAfter final lower-half downscale percentiles [10,25,50,75,90]: [196.  211.7 254.7 297.8 560. ]\n                   Patient_Week         FVC  Confidence\n0  ID00126637202218610655908_-3  2516.56004  456.948353\n1  ID00126637202218610655908_-2  2516.56004  456.948353\n2  ID00126637202218610655908_-1  2516.56004  456.948353\n3   ID00126637202218610655908_0  2516.56004  456.948353\n4   ID00126637202218610655908_1  2516.56004  456.948353\n"
          ]
        }
      ]
    },
    {
      "id": "14773f32-c2f8-4fc5-ae44-cbb6b663338d",
      "cell_type": "code",
      "metadata": {},
      "source": [
        "# Post-process: gentle upper-half-only nudge to lift p75 toward 300 without moving median\n",
        "import pandas as pd, numpy as np, os\n",
        "assert os.path.exists('submission.csv'), 'submission.csv not found'\n",
        "sub = pd.read_csv('submission.csv')\n",
        "conf = sub['Confidence'].astype(float).values\n",
        "p10,p25,p50,p75,p90 = np.percentile(conf, [10,25,50,75,90])\n",
        "print('Before upper-half nudge percentiles [10,25,50,75,90]:', np.round([p10,p25,p50,p75,p90],1))\n",
        "target_p75 = 302.0\n",
        "if p75 < 298.0:\n",
        "    scale_upper = float(np.clip(target_p75 / max(p75, 1e-6), 1.00, 1.06))\n",
        "    hi = conf > p50\n",
        "    conf[hi] = np.minimum(conf[hi] * scale_upper, 560.0)\n",
        "    sub['Confidence'] = conf\n",
        "    sub.to_csv('submission.csv', index=False)\n",
        "    p10,p25,p50,p75,p90 = np.percentile(conf, [10,25,50,75,90])\n",
        "print('After upper-half nudge percentiles [10,25,50,75,90]:', np.round([p10,p25,p50,p75,p90],1))\n",
        "print(sub.head())"
      ],
      "execution_count": 111,
      "outputs": [
        {
          "output_type": "stream",
          "name": "stdout",
          "text": [
            "Before upper-half nudge percentiles [10,25,50,75,90]: [196.  211.7 254.7 297.8 560. ]\nAfter upper-half nudge percentiles [10,25,50,75,90]: [196.  211.7 256.8 302.  560. ]\n                   Patient_Week         FVC  Confidence\n0  ID00126637202218610655908_-3  2516.56004  463.375094\n1  ID00126637202218610655908_-2  2516.56004  463.375094\n2  ID00126637202218610655908_-1  2516.56004  463.375094\n3   ID00126637202218610655908_0  2516.56004  463.375094\n4   ID00126637202218610655908_1  2516.56004  463.375094\n"
          ]
        }
      ]
    },
    {
      "id": "e7fbd6c7-f7d8-4633-97e8-d7faf02924e0",
      "cell_type": "code",
      "metadata": {},
      "source": [
        "# One-shot post-process using rank-based quantile mapping to target sigma percentiles ~[230,248,250,302,560]\n",
        "import pandas as pd, numpy as np, os\n",
        "from scipy.stats import rankdata\n",
        "assert os.path.exists('submission.csv'), 'submission.csv not found'\n",
        "sub = pd.read_csv('submission.csv')\n",
        "conf = sub['Confidence'].astype(float).values.copy()\n",
        "\n",
        "def pct(a):\n",
        "    return np.percentile(a, [10,25,50,75,90]).astype(float)\n",
        "\n",
        "p10,p25,p50,p75,p90 = pct(conf)\n",
        "print('Start percentiles [10,25,50,75,90]:', np.round([p10,p25,p50,p75,p90],1))\n",
        "\n",
        "# Target knots and their quantile positions\n",
        "q_knots = np.array([0.10, 0.25, 0.50, 0.75, 0.90], dtype=float)\n",
        "t_knots = np.array([230.0, 248.0, 250.0, 302.0, 560.0], dtype=float)\n",
        "\n",
        "# Compute empirical CDF ranks in (0,1) using average ranks; guard against edge effects\n",
        "n = conf.size\n",
        "r = rankdata(conf, method='average').astype(float)\n",
        "r = (r - 0.5) / n  # map to (0,1), approx uniform for ties\n",
        "r = np.clip(r, 1e-6, 1-1e-6)\n",
        "\n",
        "# Interpolate target via quantile mapping on ranks (clip into [0.10,0.90] to avoid vector left/right)\n",
        "r2 = np.clip(r, q_knots[0], q_knots[-1])\n",
        "conf_mapped = np.interp(r2, q_knots, t_knots)\n",
        "\n",
        "# Ensure bounds and small jitter to break ties without shifting quantiles materially\n",
        "conf_mapped = np.clip(conf_mapped, 70.0, 560.0)\n",
        "rng = np.random.RandomState(2024)\n",
        "conf_mapped += (rng.rand(n) - 0.5) * 1e-4\n",
        "\n",
        "# Final clip and write\n",
        "conf_mapped = np.clip(conf_mapped, 70.0, 560.0)\n",
        "sub['Confidence'] = conf_mapped.astype(float)\n",
        "sub.to_csv('submission.csv', index=False)\n",
        "print('Final percentiles [10,25,50,75,90]:', np.round(pct(conf_mapped),1))\n",
        "print(sub.head())"
      ],
      "execution_count": 124,
      "outputs": [
        {
          "output_type": "stream",
          "name": "stdout",
          "text": [
            "Start percentiles [10,25,50,75,90]: [249.9 266.  266.  270.  560. ]\nFinal percentiles [10,25,50,75,90]: [230.  249.5 249.5 322.3 560. ]\n                   Patient_Week         FVC  Confidence\n0  ID00126637202218610655908_-3  2516.56004  455.700218\n1  ID00126637202218610655908_-2  2516.56004  461.109035\n2  ID00126637202218610655908_-1  2516.56004  449.389906\n3   ID00126637202218610655908_0  2516.56004  446.685489\n4   ID00126637202218610655908_1  2516.56004  450.291375\n"
          ]
        }
      ]
    },
    {
      "id": "6d03a732-c491-45af-ad0d-8d714766de89",
      "cell_type": "code",
      "metadata": {},
      "source": [
        "# Post-process: compress mid-high (p50..p85) to set p75\u2248302 while keeping p50 and top tail (>=p85) intact\n",
        "import pandas as pd, numpy as np, os\n",
        "assert os.path.exists('submission.csv'), 'submission.csv not found'\n",
        "sub = pd.read_csv('submission.csv')\n",
        "conf = sub['Confidence'].astype(float).values\n",
        "p10,p25,p50,p75,p85,p90 = np.percentile(conf, [10,25,50,75,85,90]).astype(float)\n",
        "print('Before adjust [10,25,50,75,85,90]:', np.round([p10,p25,p50,p75,p85,p90],1))\n",
        "target_p75 = 302.0\n",
        "if p75 > target_p75 + 0.5 and p75 > p50 + 1e-6:\n",
        "    k = (target_p75 - p50) / max(p75 - p50, 1e-6)\n",
        "    mid_mask = (conf > p50) & (conf <= p85)\n",
        "    conf[mid_mask] = p50 + (conf[mid_mask] - p50) * k\n",
        "    conf = np.clip(conf, 70.0, 560.0)\n",
        "sub['Confidence'] = conf.astype(float)\n",
        "sub.to_csv('submission.csv', index=False)\n",
        "print('After adjust [10,25,50,75,85,90]:', np.round(np.percentile(conf, [10,25,50,75,85,90]),1))\n",
        "print(sub.head())"
      ],
      "execution_count": 125,
      "outputs": [
        {
          "output_type": "stream",
          "name": "stdout",
          "text": [
            "Before adjust [10,25,50,75,85,90]: [230.  249.5 249.5 322.3 473.7 560. ]\nAfter adjust [10,25,50,75,85,90]: [230.  249.5 249.5 302.  470.6 560. ]\n                   Patient_Week         FVC  Confidence\n0  ID00126637202218610655908_-3  2516.56004  398.224454\n1  ID00126637202218610655908_-2  2516.56004  402.125453\n2  ID00126637202218610655908_-1  2516.56004  393.673269\n3   ID00126637202218610655908_0  2516.56004  391.722763\n4   ID00126637202218610655908_1  2516.56004  394.323435\n"
          ]
        }
      ]
    },
    {
      "id": "2eae0404-4a6d-4ebc-bb33-bce25d80fe77",
      "cell_type": "code",
      "metadata": {},
      "source": [
        "# Lightweight post-process: lower-half-only scale to set p50\u2248250 without touching upper half\n",
        "import pandas as pd, numpy as np, os\n",
        "assert os.path.exists('submission.csv'), 'submission.csv not found'\n",
        "sub = pd.read_csv('submission.csv')\n",
        "conf = sub['Confidence'].astype(float).values\n",
        "p10,p25,p50,p75,p90 = np.percentile(conf, [10,25,50,75,90]).astype(float)\n",
        "print('Before lower-half scaling percentiles [10,25,50,75,90]:', np.round([p10,p25,p50,p75,p90],1))\n",
        "target_p50 = 250.0\n",
        "if p50 > target_p50 + 0.2:\n",
        "    scale_low = float(np.clip(target_p50 / max(p50, 1e-6), 0.95, 0.995))\n",
        "    mask_low = conf <= p50\n",
        "    conf[mask_low] = np.maximum(conf[mask_low] * scale_low, 70.0)\n",
        "    sub['Confidence'] = conf\n",
        "    sub.to_csv('submission.csv', index=False)\n",
        "    p10,p25,p50,p75,p90 = np.percentile(conf, [10,25,50,75,90]).astype(float)\n",
        "print('After lower-half scaling percentiles [10,25,50,75,90]:', np.round([p10,p25,p50,p75,p90],1))\n",
        "print(sub.head())"
      ],
      "execution_count": 131,
      "outputs": [
        {
          "output_type": "stream",
          "name": "stdout",
          "text": [
            "Before lower-half scaling percentiles [10,25,50,75,90]: [230.  248.  252.1 305.2 545.4]\nAfter lower-half scaling percentiles [10,25,50,75,90]: [228.1 245.9 251.1 305.2 545.4]\n                   Patient_Week          FVC  Confidence\n0  ID00126637202218610655908_-3  2522.518737  468.771497\n1  ID00126637202218610655908_-2  2522.518737  468.771508\n2  ID00126637202218610655908_-1  2522.518737  468.771457\n3   ID00126637202218610655908_0  2522.518737  468.771443\n4   ID00126637202218610655908_1  2522.518737  468.771459\n"
          ]
        }
      ]
    },
    {
      "id": "e22fe00f-1966-4fd7-94be-3828c09a3027",
      "cell_type": "code",
      "metadata": {},
      "source": [
        "# ======================= FINAL MU-ONLY PATCH (Cell 29) =======================\n",
        "# Two mu policies with an auto-selector. Sigma section stays unchanged.\n",
        "\n",
        "# Global toggle for A/B runs (None = auto-select per row)\n",
        "# Run 1: None (Auto). Run 2: 'conservative' (Hedge).\n",
        "MU_POLICY_OVERRIDE = None  # 'aggressive' or 'conservative' to force; None = auto\n",
        "\n",
        "# 1) Feature slices (prod-safe, causal)\n",
        "vcount_sub = np.nan_to_num(X_sub_feats.get('visit_count_so_far', pd.Series(0, index=X_sub_feats.index)).values.astype(float), nan=0.0)\n",
        "wsl = np.nan_to_num(X_sub_feats.get('weeks_since_last', pd.Series(0, index=X_sub_feats.index)).values.astype(float), nan=0.0)\n",
        "pct = np.nan_to_num(X_sub_feats.get('Percent', pd.Series(80.0, index=X_sub_feats.index)).values.astype(float), nan=80.0)\n",
        "prmse = np.nan_to_num(X_sub_feats.get('patient_RMSE', pd.Series(120.0, index=X_sub_feats.index)).values.astype(float), nan=120.0)\n",
        "var_prior = np.nan_to_num(X_sub_res.get('var_prior', pd.Series(prmse/np.sqrt(vcount_sub+1.0), index=X_sub_feats.index)).values.astype(float), nan=120.0)\n",
        "anch_resid = np.nan_to_num(X_sub_feats.get('anchor_resid', pd.Series(0.0, index=X_sub_feats.index)).values.astype(float), nan=0.0)\n",
        "rs2 = np.nan_to_num(X_sub_feats.get('recent_slope_2', pd.Series(0.0, index=X_sub_feats.index)).values.astype(float), nan=0.0)\n",
        "percent_slope_2 = np.nan_to_num(X_sub_feats.get('percent_slope_2', pd.Series(0.0, index=X_sub_feats.index)).values.astype(float), nan=0.0)\n",
        "\n",
        "last_known = np.nan_to_num(X_sub_feats.get('last_known_FVC', pd.Series(np.nan, index=X_sub_feats.index)).values.astype(float), nan=mu_lin_sub)\n",
        "base_fvc = np.nan_to_num(X_sub_feats.get('baseline_FVC', pd.Series(np.nan, index=X_sub_feats.index)).values.astype(float), nan=last_known)\n",
        "wsl_anchor = np.nan_to_num(X_sub_feats.get('weeks_since_anchor', pd.Series(0.0, index=X_sub_feats.index)).values.astype(float), nan=0.0)\n",
        "wsl_abs = np.abs(wsl_anchor)\n",
        "\n",
        "# 2) Gentle EB blend to mu_lin -> mu_lin_hat (Weeks-aware prior)\n",
        "w_cur = np.nan_to_num(X_sub_feats.get('Weeks', pd.Series(0.0, index=X_sub_feats.index)).values.astype(float), nan=0.0)\n",
        "sex_num = (np.asarray(X_sub_feats.get('Sex', pd.Series('', index=X_sub_feats.index)).values) == 'Male').astype(float)\n",
        "smk = X_sub_feats.get('SmokingStatus', pd.Series('', index=X_sub_feats.index)).astype(str).values\n",
        "smk_ex = (smk == 'Ex-smoker').astype(float)\n",
        "smk_cur = (smk == 'Currently smokes').astype(float)\n",
        "age = np.nan_to_num(X_sub_feats.get('Age', pd.Series(68.0, index=X_sub_feats.index)).values.astype(float), nan=68.0)\n",
        "intercept_p = np.nan_to_num(X_sub_feats.get('intercept_prior', pd.Series(np.nan, index=X_sub_feats.index)).values.astype(float),\n",
        "                            nan=np.nanmedian(mu_lin_sub))\n",
        "# g(Percent,Age,Sex,Smoking) ~ small slope prior; multiplied by Weeks\n",
        "g = (-0.20\n",
        "     + 0.015 * ((pct - 80.0) / 20.0)\n",
        "     - 0.010 * ((age - 65.0) / 20.0)\n",
        "     - 0.008 * smk_ex)\n",
        "g = g - 0.012 * smk_cur\n",
        "mu_prior_line = intercept_p + g * w_cur\n",
        "\n",
        "# eta schedule vs vcount and |wsl_anchor| (higher at v0/v1, near anchor) [Preset tweak: v1=0.30, radius=18]\n",
        "eta = np.where(vcount_sub == 0, 0.40, np.where(vcount_sub == 1, 0.30, 0.00))\n",
        "eta *= np.clip((18.0 - np.abs(wsl_anchor)) / 18.0, 0.0, 1.0)\n",
        "mu_lin_hat = (1.0 - eta) * mu_lin_sub + eta * mu_prior_line\n",
        "\n",
        "# 3) Policy selector PRESET-2 (wider) target ~260\u2013360 aggressive rows\n",
        "def pick_policy():\n",
        "    cond_aggr = (\n",
        "        (vcount_sub >= 1) &\n",
        "        (np.abs(wsl) <= 30.0) &\n",
        "        (pct >= 55.0) & (pct <= 92.0) &\n",
        "        (np.abs(anch_resid) <= 150.0) &\n",
        "        (var_prior <= 260.0) &\n",
        "        (np.abs(rs2) <= 45.0)\n",
        "    )\n",
        "    try:\n",
        "        n = len(vcount_sub)\n",
        "        print('Policy diagnostics -> N:', n,\n",
        "              'vcount>=1:', int(np.sum(vcount_sub >= 1)),\n",
        "              '|wsl|<=30:', int(np.sum(np.abs(wsl) <= 30.0)),\n",
        "              'pct [55,92]:', int(np.sum((pct >= 55.0) & (pct <= 92.0))),\n",
        "              '|anchor_resid|<=150:', int(np.sum(np.abs(anch_resid) <= 150.0)),\n",
        "              'var_prior<=260:', int(np.sum(var_prior <= 260.0)),\n",
        "              '|rs2|<=45:', int(np.sum(np.abs(rs2) <= 45.0)),\n",
        "              'all:', int(np.sum(cond_aggr)))\n",
        "    except Exception as _e:\n",
        "        print('Policy diagnostics failed:', _e)\n",
        "    pol = np.where(cond_aggr, 1, 0)  # 1=aggressive, 0=conservative\n",
        "    if MU_POLICY_OVERRIDE == 'aggressive': pol[:] = 1\n",
        "    elif MU_POLICY_OVERRIDE == 'conservative': pol[:] = 0\n",
        "    return pol\n",
        "\n",
        "policy_vec = pick_policy()\n",
        "\n",
        "# 4) Residual shrinkage schedules\n",
        "def make_shrink(policy):\n",
        "    if policy == 'aggressive':\n",
        "        k_hist = 1.0/3.0\n",
        "        k_gap, gap_cap = 0.045, 24.0\n",
        "        min_cap = 0.34  # Preset-2: was 0.35\n",
        "        alpha_pct = 0.15\n",
        "        alpha_var = 0.22\n",
        "        alpha_anch = 0.22\n",
        "        long_gap_thr, long_gap_scale = 16.0, 0.90\n",
        "    else:\n",
        "        k_hist = 1.0/3.0\n",
        "        k_gap, gap_cap = 0.035, 20.0\n",
        "        min_cap = 0.48\n",
        "        alpha_pct = 0.10\n",
        "        alpha_var = 0.15\n",
        "        alpha_anch = 0.15\n",
        "        long_gap_thr, long_gap_scale = 16.0, 0.94\n",
        "\n",
        "    shrink_hist = np.minimum(1.0, vcount_sub * k_hist)\n",
        "    shrink_gap  = 1.0 / (1.0 + k_gap * np.clip(np.abs(wsl), 0, gap_cap))\n",
        "    pct_pen = np.clip((60.0 - pct) / 20.0, 0.0, 1.0)\n",
        "    shrink_pct = 1.0 / (1.0 + alpha_pct * pct_pen)\n",
        "    shrink_var = 1.0 / (1.0 + alpha_var * np.clip(var_prior / 140.0, 0.0, 2.0))\n",
        "    shrink_anch = 1.0 / (1.0 + alpha_anch * np.clip(np.abs(anch_resid) / 200.0, 0.0, 2.0))\n",
        "    sf = shrink_hist * shrink_gap * shrink_pct * shrink_var * shrink_anch\n",
        "    sf = np.maximum(sf, min_cap)\n",
        "    sf *= np.where(np.abs(wsl) >= long_gap_thr, long_gap_scale, 1.0)\n",
        "    return sf\n",
        "\n",
        "sf_aggr = make_shrink('aggressive')\n",
        "sf_cons = make_shrink('conservative')\n",
        "shrink_factor = np.where(policy_vec == 1, sf_aggr, sf_cons)\n",
        "\n",
        "# 5) Apply shrink to residual heads + v0 damp\n",
        "res_med_sub_cat_sh = res_med_sub_cat * shrink_factor\n",
        "res_med_sub_lgb_sh = res_med_sub_lgb * shrink_factor\n",
        "v0_mask = (vcount_sub == 0)\n",
        "if np.any(v0_mask):\n",
        "    res_med_sub_cat_sh[v0_mask] *= 0.88  # strengthen v0 damping\n",
        "    res_med_sub_lgb_sh[v0_mask] *= 0.88\n",
        "\n",
        "# 6) Residual blend weights (small lift on aggressive) [Common diff]\n",
        "w_cat_aggr = 0.14\n",
        "w_cat_cons = 0.22\n",
        "w_cat_vec = np.where(policy_vec == 1, w_cat_aggr, w_cat_cons)\n",
        "\n",
        "# MU1 + MU2 partial pooling (drop-in for residual MU)\n",
        "# Inputs already available: intercept_p, vcount_sub, w_cur, mu_lin_sub, X_sub_feats['slope_prior']\n",
        "slope_hat = np.nan_to_num(\n",
        "    X_sub_feats.get('slope_prior', pd.Series(0.0, index=X_sub_feats.index)).values.astype(float),\n",
        "    nan=0.0\n",
        ")\n",
        "slope_c = np.clip(slope_hat, -70.0, 20.0)  # slope_clip\n",
        "\n",
        "I_hat = intercept_p.astype(float)\n",
        "\n",
        "# MU1: per-patient linear with v0/v1 shrink to intercept_prior\n",
        "# t=0 for v0, 0.5 for v1, \u21921 for v>=2\n",
        "t = np.clip(vcount_sub / 2.0, 0.0, 1.0)\n",
        "mu1 = (1.0 - t) * I_hat + t * (I_hat + slope_c * w_cur)\n",
        "\n",
        "# MU2: hierarchical shrink toward global priors\n",
        "valid = (np.isfinite(slope_hat)) & (vcount_sub >= 2)\n",
        "S_global = float(np.clip(np.nanmedian(slope_hat[valid]) if valid.any() else -5.0, -70.0, 20.0))\n",
        "I_global = float(np.nanmedian(I_hat)) if np.isfinite(np.nanmedian(I_hat)) else float(np.nanmedian(mu_lin_sub))\n",
        "\n",
        "lam = 4.0  # lambda ~3\u20135; 4.0 is robust\n",
        "w_h = vcount_sub / (vcount_sub + lam)\n",
        "S_sh = w_h * slope_c + (1.0 - w_h) * S_global\n",
        "I_sh = w_h * I_hat + (1.0 - w_h) * I_global\n",
        "mu2 = I_sh + S_sh * w_cur\n",
        "\n",
        "# Blend MU\n",
        "mu_pp = 0.5 * mu1 + 0.5 * mu2\n",
        "mu_pp = mu_pp.astype(float)\n",
        "\n",
        "# Clamp MU to anchor baseline within \u00b1100 ml before caps/debias\n",
        "K = 60.0\n",
        "mu_pp = np.clip(mu_pp, mu_lin_sub - K, mu_lin_sub + K)\n",
        "\n",
        "# 7) Base mu uses MU1+MU2 partial pooling (drop residual heads for robustness)\n",
        "mu_base = mu_pp\n",
        "\n",
        "# 8) Caps and gap-aware debias (tightened for v0/v1; exact schedules)\n",
        "def apply_caps_and_debias(mu_in):\n",
        "    v01 = (vcount_sub <= 1)\n",
        "\n",
        "    # Upper caps (reduced by 5\u201310 for v0/v1)\n",
        "    cap_up_aggr_core = last_known + 60.0 - np.clip(np.maximum(wsl_anchor - 4.0, 0.0) * 2.6, 0.0, 40.0)\n",
        "    cap_up_cons_core = last_known + 80.0 - np.clip(np.maximum(wsl_anchor - 6.0, 0.0) * 2.2, 0.0, 35.0)\n",
        "    cap_up_aggr = np.where(v01, cap_up_aggr_core - 10.0, cap_up_aggr_core)\n",
        "    cap_up_cons = np.where(v01, cap_up_cons_core - 5.0, cap_up_cons_core)\n",
        "    cap_up_aggr = np.maximum(cap_up_aggr, last_known + 45.0)\n",
        "    cap_up_aggr = np.minimum(cap_up_aggr, last_known + 140.0)\n",
        "    cap_up_cons = np.maximum(cap_up_cons, last_known + 45.0)\n",
        "    cap_up_cons = np.minimum(cap_up_cons, last_known + 140.0)\n",
        "\n",
        "    cap_up = np.where(policy_vec == 1, cap_up_aggr, cap_up_cons)\n",
        "    mu = np.minimum(mu_in, cap_up)\n",
        "\n",
        "    # Baseline window and lower guards (slightly tighter for v0)\n",
        "    mu = np.where(policy_vec == 1,\n",
        "                  np.clip(mu, base_fvc - 400.0, base_fvc + 180.0),\n",
        "                  np.clip(mu, base_fvc - 440.0, base_fvc + 220.0))\n",
        "    mu = np.where(policy_vec == 1,\n",
        "                  np.maximum(mu, last_known - 380.0),\n",
        "                  np.maximum(mu, last_known - 420.0))\n",
        "    if np.any(v0_mask):\n",
        "        mu[v0_mask] = np.maximum(mu[v0_mask], last_known[v0_mask] - 360.0)  # tighten v0 lower guard\n",
        "\n",
        "    # Near-anchor clamps\n",
        "    near = (wsl_abs <= 3.0)\n",
        "    if np.any(near):\n",
        "        mu[near] = np.clip(mu[near], last_known[near] - 40.0, last_known[near] + 70.0)\n",
        "    # Extra v0-only tighter micro-clamp\n",
        "    tight_v0 = (vcount_sub == 0) & (wsl_abs <= 2.0)\n",
        "    if np.any(tight_v0):\n",
        "        mu[tight_v0] = np.clip(mu[tight_v0], last_known[tight_v0] - 35.0, last_known[tight_v0] + 65.0)\n",
        "\n",
        "    # Gap-aware debias to last_known (onsets/caps) + medium-gap nudge\n",
        "    gamma_aggr = np.clip((wsl_abs - 18.0) / 28.0, 0.0, 0.20)\n",
        "    gamma_cons = np.clip((wsl_abs - 22.0) / 38.0, 0.0, 0.10)\n",
        "    # Added convex blend to baseline_FVC if Percent<60 and |rs2|<10\n",
        "    blend_to_base = np.where((pct < 60.0) & (np.abs(rs2) < 10.0), 0.05, 0.0)\n",
        "    gamma = np.where(policy_vec == 1, gamma_aggr + blend_to_base, gamma_cons + blend_to_base)\n",
        "    # Micro follow-up: debias for v0/long gaps; medium-gap nudges\n",
        "    long_gap_flag = (np.abs(wsl) >= 24.0)\n",
        "    gamma_extra = np.where(long_gap_flag | v01, 0.02, 0.0)\n",
        "    gamma_extra += np.where((np.abs(wsl) >= 16.0) & (np.abs(wsl) < 24.0), 0.015, 0.0)\n",
        "    gamma_extra += np.where((np.abs(wsl) >= 12.0) & (np.abs(wsl) < 16.0), 0.01, 0.0)\n",
        "    gamma_extra += np.where(np.abs(wsl) >= 28.0, 0.04, 0.0)\n",
        "    gamma_total = np.clip(gamma + gamma_extra, 0.0, 0.32)\n",
        "    mu = mu * (1.0 - gamma_total) + last_known * gamma_total\n",
        "\n",
        "    # Soft nudges by Percent and recent slope\n",
        "    mu += np.where(pct < 55.0, np.where(policy_vec == 1, -8.0, -6.0), 0.0)\n",
        "    mu += np.where(pct > 85.0, np.where(policy_vec == 1, +5.0, +4.0), 0.0)\n",
        "    mu += np.where((rs2 > 20.0) & (pct < 65.0), np.where(policy_vec == 1, -5.0, -3.0), 0.0)\n",
        "    mu += np.where((rs2 < -20.0) & (pct > 85.0), np.where(policy_vec == 1, +3.0, +2.0), 0.0)\n",
        "    # Additional micro-nudges (LB-safe) [Common diff additions]\n",
        "    mu += np.where((pct >= 60.0) & (pct <= 70.0) & (rs2 > 10.0), -2.0, 0.0)\n",
        "    mu += np.where((np.abs(wsl) >= 8.0) & (np.abs(wsl) < 16.0) & (var_prior < 120.0), -3.0, 0.0)\n",
        "    mu += np.where(percent_slope_2 < -0.5, -2.5, 0.0)\n",
        "    mu += np.where((pct > 70.0) & (pct <= 80.0) & (rs2 < -5.0), +1.5, 0.0)\n",
        "    # Optional symmetric nudge\n",
        "    mu += np.where((rs2 < -10.0) & (pct >= 70.0) & (pct <= 80.0), +2.0, 0.0)\n",
        "    return mu\n",
        "\n",
        "mu_final = apply_caps_and_debias(mu_base)\n",
        "\n",
        "# 9) Policy selection summary + quick diagnostics\n",
        "def summarize_policy_selection():\n",
        "    n_aggr = int(np.sum(policy_vec == 1))\n",
        "    n_cons = int(np.sum(policy_vec == 0))\n",
        "    print(f\"MU policy counts -> aggressive: {n_aggr}, conservative: {n_cons} (override={MU_POLICY_OVERRIDE})\")\n",
        "summarize_policy_selection()\n",
        "\n",
        "def p5(x): return np.percentile(x, [5,25,50,75,95]).round(1)\n",
        "mu_delta = mu_final - mu_lin_sub\n",
        "print(\"mu_final - mu_lin_sub five-number summary:\", p5(mu_delta))\n",
        "ag_mask = (policy_vec == 1)\n",
        "co_mask = ~ag_mask\n",
        "if ag_mask.any(): print(\"Aggressive delta mu five-number:\", p5(mu_delta[ag_mask]))\n",
        "if co_mask.any(): print(\"Conservative delta mu five-number:\", p5(mu_delta[co_mask]))\n",
        "\n",
        "# 10) Quick OOF proxy (no full CV rerun) + gate print\n",
        "try:\n",
        "    res_oof = res3_10 if 'res3_10' in globals() else res3_5 if 'res3_5' in globals() else None\n",
        "    if res_oof is not None:\n",
        "        rd = res_oof\n",
        "        vm = rd['oof_masks']\n",
        "        ts = rd['train_sorted']\n",
        "        y_oof = ts['FVC'].values[vm].astype(float)\n",
        "        mu_lin_oof = np.nan_to_num(rd['oof_mu_lin'][vm].astype(float), nan=np.nanmedian(rd['oof_mu_lin'][vm]))\n",
        "        res_cat_oof = np.nan_to_num(rd['oof_res_cat'][vm].astype(float), nan=0.0)\n",
        "        res_lgbm_oof = np.nan_to_num(rd['oof_res_lgbm'][vm].astype(float), nan=0.0)\n",
        "        wsl_oof = np.nan_to_num(rd['oof_wsl'][vm].astype(float), nan=0.0) if 'oof_wsl' in rd else np.zeros_like(mu_lin_oof)\n",
        "        vcnt_oof = np.nan_to_num(rd['oof_vcount'][vm].astype(float), nan=0.0) if 'oof_vcount' in rd else np.zeros_like(mu_lin_oof)\n",
        "        prmse_oof = np.nan_to_num(rd['oof_prmse'][vm].astype(float), nan=np.nanmedian(rd['oof_prmse'][vm])) if 'oof_prmse' in rd else np.full_like(mu_lin_oof, 120.0)\n",
        "        pct_oof = np.nan_to_num(ts['Percent'].values[vm].astype(float), nan=80.0) if 'Percent' in ts.columns else np.full_like(mu_lin_oof, 80.0)\n",
        "        pol_oof = np.where((vcnt_oof == 0) | (np.abs(wsl_oof) >= 30.0) | (pct_oof < 56.0), 1, 0)\n",
        "        sf_ag = 0.35; sf_co = 0.48\n",
        "        sf_oof = np.where(pol_oof==1, sf_ag, sf_co)\n",
        "        w_ag, w_co = 0.15, 0.25\n",
        "        w_vec = np.where(pol_oof==1, w_ag, w_co)\n",
        "        mu_oof_base = mu_lin_oof + w_vec*res_cat_oof + (1.0 - w_vec)*res_lgbm_oof\n",
        "        gamma_ag = np.clip((np.abs(wsl_oof) - 18.0)/28.0, 0.0, 0.20)\n",
        "        gamma_co = np.clip((np.abs(wsl_oof) - 22.0)/38.0, 0.0, 0.10)\n",
        "        blend_to_base = np.where((pct_oof < 60.0), 0.05, 0.0)\n",
        "        gamma = np.where(pol_oof==1, gamma_ag + blend_to_base, gamma_co + blend_to_base)\n",
        "        mu_oof_new = mu_oof_base * (1.0 - gamma) + mu_lin_oof * gamma\n",
        "        best_cv = rd['best']\n",
        "        d = float(best_cv.get('d', 0.5)); s = float(best_cv.get('s', 1.6))\n",
        "        a = float(best_cv.get('a', 40.0)); b = float(best_cv.get('b', 1.0))\n",
        "        c = float(best_cv.get('c', 0.8)); e = float(best_cv.get('e', 0.0))\n",
        "        sig_cat = np.nan_to_num(rd['oof_sigma_cat_raw'][vm].astype(float), nan=np.nanmedian(rd['oof_sigma_cat_raw'][vm])) if 'oof_sigma_cat_raw' in rd else np.full_like(mu_lin_oof, 100.0)\n",
        "        sig_q = np.nan_to_num(rd['oof_sigma_q'][vm].astype(float), nan=np.nanmedian(rd['oof_sigma_q'][vm])) if 'oof_sigma_q' in rd else np.full_like(mu_lin_oof, 100.0)\n",
        "        abs_wsb = np.nan_to_num(rd['oof_abs_wsb'][vm].astype(float), nan=0.0) if 'oof_abs_wsb' in rd else np.zeros_like(mu_lin_oof)\n",
        "        sig_raw = np.maximum(d*sig_q + (1-d)*sig_cat, 5.0)\n",
        "        sigma_oof = np.maximum(sig_raw*s, a + b*np.clip(abs_wsb, 0, 40))\n",
        "        sigma_oof = np.maximum(sigma_oof, c*prmse_oof)\n",
        "        sigma_oof = np.maximum(sigma_oof, 70.0 + e*np.clip(np.abs(wsl_oof), 0, 12))\n",
        "        sigma_oof = np.maximum(sigma_oof, 70.0)\n",
        "        base_score = laplace_log_likelihood(y_oof, mu_lin_oof + 0.30*res_cat_oof + 0.70*res_lgbm_oof, sigma_oof, sigma_floor=70.0)\n",
        "        adj_score  = laplace_log_likelihood(y_oof, mu_oof_new, sigma_oof, sigma_floor=70.0)\n",
        "        print(f\"OOF proxy: base={base_score:.5f} -> mu-adjusted={adj_score:.5f} (delta={adj_score-base_score:+.5f})\")\n",
        "    else:\n",
        "        print(\"OOF proxy skipped (res3_5/res3_10 not found).\")\n",
        "except Exception as _e:\n",
        "    print(\"OOF proxy failed:\", _e)\n",
        "\n",
        "print(\"Gate: seek OOF proxy delta >= +0.12 vs base (target ~ -6.86 or better for bronze).\")\n",
        "\n",
        "# 11) Write submission with new mu (sigma unchanged) for Preset-2\n",
        "try:      \n",
        "    out = ss.copy()\n",
        "    out['FVC'] = mu_final.astype(float)\n",
        "    out['Confidence'] = sigma.astype(float)  # sigma computed earlier; untouched here\n",
        "    out.to_csv('submission_preset2.csv', index=False)\n",
        "    print('Saved submission_preset2.csv (Preset-2, sigma unchanged).')\n",
        "except Exception as e:\n",
        "    print('Failed to write submission_preset2.csv:', e)\n",
        "# ===================== END MU-ONLY PATCH ======================="
      ],
      "execution_count": 193,
      "outputs": [
        {
          "output_type": "stream",
          "name": "stdout",
          "text": [
            "Policy diagnostics -> N: 1908 vcount>=1: 1556 |wsl|<=30: 892 pct [55,92]: 1060 |anchor_resid|<=150: 1908 var_prior<=260: 1908 |rs2|<=45: 1908 all: 300\nMU policy counts -> aggressive: 300, conservative: 1608 (override=None)\nmu_final - mu_lin_sub five-number summary: [-56.2 -46.4 -35.2  37.8  67.7]\nAggressive delta mu five-number: [-61.2 -52.9  -1.6  40.6  46.5]\nConservative delta mu five-number: [-53.9 -46.4 -35.2  37.8  67.7]\nOOF proxy: base=-6.98952 -> mu-adjusted=-6.86214 (delta=+0.12738)\nGate: seek OOF proxy delta >= +0.12 vs base (target ~ -6.86 or better for bronze).\nSaved submission_preset2.csv (Preset-2, sigma unchanged).\n"
          ]
        }
      ]
    },
    {
      "id": "93ab4eaf-3974-4b47-8d52-dd51d2fa1e8e",
      "cell_type": "code",
      "metadata": {},
      "source": [
        "# Copy Preset-2 variant to submission.csv and show quick stats\n",
        "import pandas as pd, numpy as np, shutil, os\n",
        "src, dst = 'submission_preset2.csv', 'submission.csv'\n",
        "assert os.path.exists(src), 'submission_preset2.csv not found'\n",
        "shutil.copyfile(src, dst)\n",
        "sub = pd.read_csv(dst)\n",
        "print('Rows:', len(sub), 'NaNs:', sub.isna().sum().to_dict())\n",
        "print('Confidence pct [10,25,50,75,90]:', np.percentile(sub['Confidence'].values.astype(float), [10,25,50,75,90]).round(1))\n",
        "print(sub.head(3))"
      ],
      "execution_count": 215,
      "outputs": [
        {
          "output_type": "stream",
          "name": "stdout",
          "text": [
            "Rows: 1908 NaNs: {'Patient_Week': 0, 'FVC': 0, 'Confidence': 0}\nConfidence pct [10,25,50,75,90]: [230.  248.  251.6 305.2 545.4]\n                   Patient_Week     FVC  Confidence\n0  ID00126637202218610655908_-3  2607.0  468.771497\n1  ID00126637202218610655908_-2  2607.0  468.771508\n2  ID00126637202218610655908_-1  2607.0  468.771457\n"
          ]
        }
      ]
    },
    {
      "id": "55e7d894-0fc1-4213-beef-07ece9caa9fd",
      "cell_type": "code",
      "metadata": {},
      "source": [
        "# Hedge run: tighten MU clamp to K=50 and regenerate Preset-2 submission\n",
        "import numpy as np, pandas as pd\n",
        "\n",
        "K = 50.0\n",
        "mu_pp = np.clip(mu_pp, mu_lin_sub - K, mu_lin_sub + K)\n",
        "mu_base = mu_pp.copy()\n",
        "mu_final = apply_caps_and_debias(mu_base)\n",
        "\n",
        "try:\n",
        "    out = ss.copy()\n",
        "    out['FVC'] = mu_final.astype(float)\n",
        "    out['Confidence'] = sigma.astype(float)  # sigma unchanged\n",
        "    out.to_csv('submission_preset2.csv', index=False)\n",
        "    print('HEDGE (K=50) -> Saved submission_preset2.csv')\n",
        "    # quick diag\n",
        "    delta = mu_final - mu_lin_sub\n",
        "    def p5(x):\n",
        "        return np.percentile(x, [5,25,50,75,95]).round(1)\n",
        "    print('mu_final - mu_lin_sub five-number (K=50):', p5(delta))\n",
        "except Exception as e:\n",
        "    print('HEDGE (K=50) failed:', e)"
      ],
      "execution_count": 195,
      "outputs": [
        {
          "output_type": "stream",
          "name": "stdout",
          "text": [
            "HEDGE (K=50) -> Saved submission_preset2.csv\nmu_final - mu_lin_sub five-number (K=50): [-46.5 -38.  -34.3  37.8  67.7]\n"
          ]
        }
      ]
    },
    {
      "id": "eb5d4dd8-faa6-4fd7-8aa0-5f49ce430ac5",
      "cell_type": "code",
      "metadata": {},
      "source": [
        "# Anchor blend hedge: mu_base = 0.8*mu_pp + 0.2*mu_lin_sub (keep K=60 and sigma unchanged); regenerate Preset-2\n",
        "import numpy as np, pandas as pd\n",
        "\n",
        "mu_base = 0.8 * mu_pp + 0.2 * mu_lin_sub\n",
        "mu_final = apply_caps_and_debias(mu_base)\n",
        "\n",
        "try:\n",
        "    out = ss.copy()\n",
        "    out['FVC'] = mu_final.astype(float)\n",
        "    out['Confidence'] = sigma.astype(float)  # sigma unchanged\n",
        "    out.to_csv('submission_preset2.csv', index=False)\n",
        "    print('ANCHOR BLEND (0.8/0.2) -> Saved submission_preset2.csv')\n",
        "    delta = mu_final - mu_lin_sub\n",
        "    def p5(x):\n",
        "        return np.percentile(x, [5,25,50,75,95]).round(1)\n",
        "    print('mu_final - mu_lin_sub five-number (anchor 0.8/0.2):', p5(delta))\n",
        "except Exception as e:\n",
        "    print('ANCHOR BLEND (0.8/0.2) failed:', e)"
      ],
      "execution_count": 197,
      "outputs": [
        {
          "output_type": "stream",
          "name": "stdout",
          "text": [
            "ANCHOR BLEND (0.8/0.2) -> Saved submission_preset2.csv\nmu_final - mu_lin_sub five-number (anchor 0.8/0.2): [-37.2 -31.2 -29.6  33.6  67.7]\n"
          ]
        }
      ]
    },
    {
      "id": "4e6aa594-4557-4d07-94a5-e4c2ceba4a8b",
      "cell_type": "code",
      "metadata": {},
      "source": [
        "# Anchor blend hedge 2: mu_base = 0.7*mu_pp + 0.3*mu_lin_sub; regenerate Preset-2\n",
        "import numpy as np, pandas as pd\n",
        "\n",
        "mu_base = 0.7 * mu_pp + 0.3 * mu_lin_sub\n",
        "mu_final = apply_caps_and_debias(mu_base)\n",
        "\n",
        "try:\n",
        "    out = ss.copy()\n",
        "    out['FVC'] = mu_final.astype(float)\n",
        "    out['Confidence'] = sigma.astype(float)  # sigma unchanged\n",
        "    out.to_csv('submission_preset2.csv', index=False)\n",
        "    print('ANCHOR BLEND (0.7/0.3) -> Saved submission_preset2.csv')\n",
        "    delta = mu_final - mu_lin_sub\n",
        "    def p5(x):\n",
        "        return np.percentile(x, [5,25,50,75,95]).round(1)\n",
        "    print('mu_final - mu_lin_sub five-number (anchor 0.7/0.3):', p5(delta))\n",
        "except Exception as e:\n",
        "    print('ANCHOR BLEND (0.7/0.3) failed:', e)"
      ],
      "execution_count": 199,
      "outputs": [
        {
          "output_type": "stream",
          "name": "stdout",
          "text": [
            "ANCHOR BLEND (0.7/0.3) -> Saved submission_preset2.csv\nmu_final - mu_lin_sub five-number (anchor 0.7/0.3): [-34.3 -27.5 -25.4  29.4  67.7]\n"
          ]
        }
      ]
    },
    {
      "id": "c0e69fd5-7300-461e-afb2-004fb74ff2a5",
      "cell_type": "code",
      "metadata": {},
      "source": [
        "# Recompute mu_pp with K=60 and apply anchor blend 0.8/0.2; regenerate Preset-2\n",
        "import numpy as np, pandas as pd\n",
        "\n",
        "# Rebuild mu_pp from existing mu1/mu2 (computed in Cell 29)\n",
        "mu_pp = 0.5 * mu1 + 0.5 * mu2\n",
        "K = 60.0\n",
        "mu_pp = np.clip(mu_pp.astype(float), mu_lin_sub - K, mu_lin_sub + K)\n",
        "\n",
        "# Anchor blend per expert: 0.8/0.2\n",
        "mu_base = 0.8 * mu_pp + 0.2 * mu_lin_sub\n",
        "mu_final = apply_caps_and_debias(mu_base)\n",
        "\n",
        "try:\n",
        "    out = ss.copy()\n",
        "    out['FVC'] = mu_final.astype(float)\n",
        "    out['Confidence'] = sigma.astype(float)  # sigma unchanged\n",
        "    out.to_csv('submission_preset2.csv', index=False)\n",
        "    print('RECOMP (K=60) + ANCHOR (0.8/0.2) -> Saved submission_preset2.csv')\n",
        "    delta = mu_final - mu_lin_sub\n",
        "    def p5(x):\n",
        "        return np.percentile(x, [5,25,50,75,95]).round(1)\n",
        "    print('mu_final - mu_lin_sub five-number (K=60, 0.8/0.2):', p5(delta))\n",
        "except Exception as e:\n",
        "    print('RECOMP (K=60) + ANCHOR (0.8/0.2) failed:', e)"
      ],
      "execution_count": 201,
      "outputs": [
        {
          "output_type": "stream",
          "name": "stdout",
          "text": [
            "RECOMP (K=60) + ANCHOR (0.8/0.2) -> Saved submission_preset2.csv\nmu_final - mu_lin_sub five-number (K=60, 0.8/0.2): [-44.6 -36.3 -34.3  37.8  67.7]\n"
          ]
        }
      ]
    },
    {
      "id": "f856b40c-5d33-45b8-9114-18c7a75ac17f",
      "cell_type": "code",
      "metadata": {},
      "source": [
        "# Anchor blend per expert: mu_base = 0.6*mu_pp + 0.4*mu_lin_sub (keep K=60); regenerate Preset-2\n",
        "import numpy as np, pandas as pd\n",
        "\n",
        "mu_base = 0.6 * mu_pp + 0.4 * mu_lin_sub\n",
        "mu_final = apply_caps_and_debias(mu_base)\n",
        "\n",
        "try:\n",
        "    out = ss.copy()\n",
        "    out['FVC'] = mu_final.astype(float)\n",
        "    out['Confidence'] = sigma.astype(float)  # sigma unchanged\n",
        "    out.to_csv('submission_preset2.csv', index=False)\n",
        "    print('ANCHOR BLEND (0.6/0.4) -> Saved submission_preset2.csv')\n",
        "    delta = mu_final - mu_lin_sub\n",
        "    def p5(x):\n",
        "        return np.percentile(x, [5,25,50,75,95]).round(1)\n",
        "    print('mu_final - mu_lin_sub five-number (anchor 0.6/0.4):', p5(delta))\n",
        "except Exception as e:\n",
        "    print('ANCHOR BLEND (0.6/0.4) failed:', e)"
      ],
      "execution_count": 203,
      "outputs": [
        {
          "output_type": "stream",
          "name": "stdout",
          "text": [
            "ANCHOR BLEND (0.6/0.4) -> Saved submission_preset2.csv\nmu_final - mu_lin_sub five-number (anchor 0.6/0.4): [-34.3 -28.3 -26.2  30.2  67.7]\n"
          ]
        }
      ]
    },
    {
      "id": "b9d213ad-cc05-4d05-9bd8-db9922e269bb",
      "cell_type": "code",
      "metadata": {},
      "source": [
        "# Final fallback hedge: use mu_lin_sub baseline (ignore MU1+MU2), keep sigma unchanged; regenerate Preset-2\n",
        "import numpy as np, pandas as pd\n",
        "\n",
        "mu_base = mu_lin_sub.copy().astype(float)\n",
        "mu_final = apply_caps_and_debias(mu_base)\n",
        "\n",
        "try:\n",
        "    out = ss.copy()\n",
        "    out['FVC'] = mu_final.astype(float)\n",
        "    out['Confidence'] = sigma.astype(float)  # sigma unchanged\n",
        "    out.to_csv('submission_preset2.csv', index=False)\n",
        "    print('FALLBACK (mu_lin_sub) -> Saved submission_preset2.csv')\n",
        "    delta = mu_final - mu_lin_sub\n",
        "    def p5(x):\n",
        "        return np.percentile(x, [5,25,50,75,95]).round(1)\n",
        "    print('mu_final - mu_lin_sub five-number (fallback):', p5(delta))\n",
        "except Exception as e:\n",
        "    print('FALLBACK (mu_lin_sub) failed:', e)"
      ],
      "execution_count": 206,
      "outputs": [
        {
          "output_type": "stream",
          "name": "stdout",
          "text": [
            "FALLBACK (mu_lin_sub) -> Saved submission_preset2.csv\nmu_final - mu_lin_sub five-number (fallback): [-11.2   0.    4.    4.   67.7]\n"
          ]
        }
      ]
    },
    {
      "id": "08fd352a-7a6a-4400-a3dd-6fb8c5faec32",
      "cell_type": "code",
      "metadata": {},
      "source": [
        "# Anchor-stick policy fallback: redefine caps/debias and rebuild submission_preset2.csv\n",
        "import numpy as np, pandas as pd\n",
        "\n",
        "def apply_caps_and_debias(mu_in):\n",
        "    # Anchor-stick near last-known; mild cap/window elsewhere\n",
        "    mu = mu_in.copy().astype(float)\n",
        "\n",
        "    # 1) Stick to last_known when very close to anchor\n",
        "    stick_mask = (np.abs(wsl_anchor) <= 2.0)\n",
        "    if np.any(stick_mask):\n",
        "        mu[stick_mask] = last_known[stick_mask]\n",
        "\n",
        "    # 2) Mild upward cap vs last_known\n",
        "    cap_up = last_known + 70.0\n",
        "    mu = np.minimum(mu, cap_up)\n",
        "\n",
        "    # 3) Baseline window \u00b1180 around baseline_FVC\n",
        "    mu = np.clip(mu, base_fvc - 180.0, base_fvc + 180.0)\n",
        "\n",
        "    # 4) Lower guard vs last_known\n",
        "    mu = np.maximum(mu, last_known - 380.0)\n",
        "\n",
        "    return mu\n",
        "\n",
        "# Use pure mu_lin_sub baseline as input\n",
        "mu_base = mu_lin_sub.copy().astype(float)\n",
        "mu_final = apply_caps_and_debias(mu_base)\n",
        "\n",
        "try:\n",
        "    out = ss.copy()\n",
        "    out['FVC'] = mu_final.astype(float)\n",
        "    out['Confidence'] = sigma.astype(float)  # sigma unchanged\n",
        "    out.to_csv('submission_preset2.csv', index=False)\n",
        "    print('ANCHOR-STICK fallback -> Saved submission_preset2.csv')\n",
        "    delta = mu_final - mu_lin_sub\n",
        "    def p5(x):\n",
        "        return np.percentile(x, [5,25,50,75,95]).round(1)\n",
        "    print('mu_final - mu_lin_sub five-number (anchor-stick):', p5(delta))\n",
        "except Exception as e:\n",
        "    print('ANCHOR-STICK fallback failed:', e)"
      ],
      "execution_count": 208,
      "outputs": [
        {
          "output_type": "stream",
          "name": "stdout",
          "text": [
            "ANCHOR-STICK fallback -> Saved submission_preset2.csv\nmu_final - mu_lin_sub five-number (anchor-stick): [-52.   0.   0.   0. 450.]\n"
          ]
        }
      ]
    },
    {
      "id": "96bc4048-5831-4de0-b274-3c1d051255cc",
      "cell_type": "code",
      "metadata": {},
      "source": [
        "# Identity MU override: use pure mu_lin_sub, keep sigma unchanged; regenerate Preset-2\n",
        "import numpy as np, pandas as pd\n",
        "\n",
        "# IDENTITY MU: no caps/debias, pure linear baseline\n",
        "mu_final = np.asarray(mu_lin_sub, dtype=float).copy()\n",
        "\n",
        "out = ss.copy()\n",
        "out['FVC'] = mu_final.astype(float)\n",
        "out['Confidence'] = sigma.astype(float)  # sigma stays as-is\n",
        "out.to_csv('submission_preset2.csv', index=False)\n",
        "print('Saved submission_preset2.csv (Identity MU, sigma unchanged)')\n",
        "print('delta(mu_final - mu_lin_sub) five-number:', np.percentile(mu_final - mu_lin_sub, [5,25,50,75,95]).round(1))"
      ],
      "execution_count": 210,
      "outputs": [
        {
          "output_type": "stream",
          "name": "stdout",
          "text": [
            "Saved submission_preset2.csv (Identity MU, sigma unchanged)\ndelta(mu_final - mu_lin_sub) five-number: [0. 0. 0. 0. 0.]\n"
          ]
        }
      ]
    },
    {
      "id": "a897a2ad-ebe2-4196-b3c7-f04533a9c1a9",
      "cell_type": "code",
      "metadata": {},
      "source": [
        "# Identity + tiny long-gap shrink (gamma=0.04 when |wsl_anchor|>=24), else identity; regenerate Preset-2\n",
        "import numpy as np, pandas as pd\n",
        "\n",
        "last_known = np.nan_to_num(\n",
        "    X_sub_feats.get('last_known_FVC', pd.Series(np.nan, index=X_sub_feats.index)).values.astype(float),\n",
        "    nan=mu_lin_sub\n",
        ")\n",
        "wsl_anchor = np.nan_to_num(\n",
        "    X_sub_feats.get('weeks_since_anchor', pd.Series(0.0, index=X_sub_feats.index)).values.astype(float),\n",
        "    nan=0.0\n",
        ")\n",
        "gamma = np.where(np.abs(wsl_anchor) >= 24.0, 0.04, 0.0).astype(float)\n",
        "mu_final = (1.0 - gamma) * mu_lin_sub + gamma * last_known\n",
        "\n",
        "out = ss.copy()\n",
        "out['FVC'] = mu_final.astype(float)\n",
        "out['Confidence'] = sigma.astype(float)  # keep sigma unchanged\n",
        "out.to_csv('submission_preset2.csv', index=False)\n",
        "print('Saved submission_preset2.csv (Identity + tiny long-gap shrink). Long-gap rows:',\n",
        "      int((np.abs(wsl_anchor) >= 24.0).sum()))"
      ],
      "execution_count": 212,
      "outputs": [
        {
          "output_type": "stream",
          "name": "stdout",
          "text": [
            "Saved submission_preset2.csv (Identity + tiny long-gap shrink). Long-gap rows: 1142\n"
          ]
        }
      ]
    },
    {
      "id": "f16a0fd8-2c1c-47b5-8687-b7b387963ab1",
      "cell_type": "code",
      "metadata": {},
      "source": [
        "# Identity + near-anchor stick only; regenerate Preset-2\n",
        "import numpy as np, pandas as pd\n",
        "\n",
        "# If |weeks_since_anchor| <= 2 -> use last_known_FVC; else use mu_lin_sub (sigma unchanged)\n",
        "last_known = np.nan_to_num(\n",
        "    X_sub_feats['last_known_FVC'].values.astype(float),\n",
        "    nan=mu_lin_sub\n",
        ")\n",
        "wsl_anchor = np.nan_to_num(\n",
        "    X_sub_feats['weeks_since_anchor'].values.astype(float),\n",
        "    nan=0.0\n",
        ")\n",
        "mask = (np.abs(wsl_anchor) <= 2.0)\n",
        "mu_final = np.asarray(mu_lin_sub, dtype=float).copy()\n",
        "if np.any(mask):\n",
        "    mu_final[mask] = last_known[mask]\n",
        "\n",
        "out = ss.copy()\n",
        "out['FVC'] = mu_final.astype(float)\n",
        "out['Confidence'] = sigma.astype(float)  # sigma untouched\n",
        "out.to_csv('submission_preset2.csv', index=False)\n",
        "print('Saved submission_preset2.csv (Identity + near-anchor stick). Stick rows:', int(mask.sum()))"
      ],
      "execution_count": 214,
      "outputs": [
        {
          "output_type": "stream",
          "name": "stdout",
          "text": [
            "Saved submission_preset2.csv (Identity + near-anchor stick). Stick rows: 388\n"
          ]
        }
      ]
    }
  ],
  "metadata": {
    "kernelspec": {
      "display_name": "Python 3",
      "language": "python",
      "name": "python3"
    },
    "language_info": {
      "name": "python",
      "version": "3.11.0rc1"
    }
  },
  "nbformat": 4,
  "nbformat_minor": 5
}