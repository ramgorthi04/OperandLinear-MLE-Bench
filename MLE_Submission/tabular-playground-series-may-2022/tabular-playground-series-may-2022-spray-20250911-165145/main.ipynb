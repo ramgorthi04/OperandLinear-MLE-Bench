{
  "cells": [
    {
      "id": "d4fa099b-4e8c-4b7a-a8d7-e4e13989896d",
      "cell_type": "markdown",
      "metadata": {},
      "source": [
        "# Plan\n",
        "- Objective: Achieve medal-level AUC-ROC on TPS May 2022 via strong GBDT baseline + sensible CV + iterative feature engineering.\n",
        "- Steps:\n",
        "  1) Load data, basic EDA (shapes, dtypes, target distribution).\n",
        "  2) Baseline model: LightGBM with StratifiedKFold CV, robust parameters, early stopping, logging.\n",
        "  3) Generate out-of-fold (OOF) predictions, compute CV AUC, predict test, save submission.csv.\n",
        "  4) Iterate: try interaction features (pairwise products/sums), categorical-like encodings if applicable, and alternative models (CatBoost/XGBoost), blending.\n",
        "  5) Hyperparam refinements guided by CV; ensure leak-free processing.\n",
        "\n",
        "Note: Keep cells modular; log timing per fold; use seed control for reproducibility.\n",
        "\n",
        "Medal targets:\n",
        "- Bronze: AUC >= 0.99818; Stretch: >= 0.99822.\n",
        "\n",
        "Next: Implement baseline pipeline."
      ],
      "execution_count": null,
      "outputs": []
    },
    {
      "id": "7d9b8bf6-a619-4971-a822-523614667330",
      "cell_type": "code",
      "metadata": {},
      "source": [
        "# Imports, versions, and utils\n",
        "import os, sys, gc, time, random, math, json\n",
        "from datetime import datetime\n",
        "import numpy as np\n",
        "import pandas as pd\n",
        "from sklearn.model_selection import StratifiedKFold\n",
        "from sklearn.metrics import roc_auc_score\n",
        "\n",
        "SEED = 42\n",
        "def seed_everything(seed=SEED):\n",
        "    random.seed(seed)\n",
        "    np.random.seed(seed)\n",
        "seed_everything(SEED)\n",
        "\n",
        "print('Python', sys.version)\n",
        "print('Pandas', pd.__version__)\n",
        "print('Numpy', np.__version__)\n",
        "\n",
        "def log(msg):\n",
        "    ts = datetime.now().strftime('%Y-%m-%d %H:%M:%S')\n",
        "    print(f'[{ts}] {msg}', flush=True)"
      ],
      "execution_count": 1,
      "outputs": [
        {
          "output_type": "stream",
          "name": "stdout",
          "text": [
            "Python 3.11.0rc1 (main, Aug 12 2022, 10:02:14) [GCC 11.2.0]\nPandas 2.2.2\nNumpy 1.26.4\n"
          ]
        }
      ]
    },
    {
      "id": "20e10c6e-18bc-46e2-bc85-7d3caaf60da7",
      "cell_type": "code",
      "metadata": {},
      "source": [
        "# Load data, basic EDA, dtype optimization, f_27 FE, and 10-fold splits\n",
        "log('Loading data...')\n",
        "train = pd.read_csv('train.csv')\n",
        "test = pd.read_csv('test.csv')\n",
        "log(f'train shape: {train.shape}, test shape: {test.shape}')\n",
        "\n",
        "# Basic target info\n",
        "log('Target distribution:')\n",
        "log(train['target'].value_counts(normalize=True).to_dict())\n",
        "\n",
        "# Identify columns\n",
        "id_col = 'id' if 'id' in train.columns else None\n",
        "target_col = 'target'\n",
        "all_cols = train.columns.tolist()\n",
        "num_cols = [c for c in all_cols if c not in [id_col, target_col, 'f_27'] and train[c].dtype != 'object']\n",
        "\n",
        "# Cast numerics to float32 for memory\n",
        "for c in num_cols:\n",
        "    train[c] = train[c].astype('float32')\n",
        "    if c in test.columns:\n",
        "        test[c] = test[c].astype('float32')\n",
        "log('Numeric columns cast to float32.')\n",
        "\n",
        "# f_27 feature engineering\n",
        "assert 'f_27' in train.columns, 'f_27 not found'\n",
        "all_f27 = pd.concat([train['f_27'], test['f_27']], axis=0).astype(str)\n",
        "chars = sorted(set(''.join(all_f27.values)))\n",
        "char2int = {ch:i for i, ch in enumerate(chars)}\n",
        "log(f'f_27 unique chars: {len(chars)} -> {chars[:20]}...')\n",
        "\n",
        "def add_f27_features(df):\n",
        "    s = df['f_27'].astype(str)\n",
        "    # positional features (10 positions)\n",
        "    for i in range(10):\n",
        "        col = f'f_27_pos_{i}'\n",
        "        df[col] = s.str[i].map(char2int).astype('int8')\n",
        "    # inverse-position features for A..J (find returns -1..9); store as int8 with offset\n",
        "    for ch in list('ABCDEFGHIJ'):\n",
        "        col = f'f_27_char_{ch}_pos'\n",
        "        df[col] = s.str.find(ch).astype('int8')\n",
        "    return df\n",
        "\n",
        "t0 = time.time()\n",
        "train = add_f27_features(train)\n",
        "test = add_f27_features(test)\n",
        "log(f'Added f_27 features in {time.time()-t0:.2f}s')\n",
        "\n",
        "# Optional cheap row stats\n",
        "row_num_cols = num_cols.copy()\n",
        "if len(row_num_cols) > 0:\n",
        "    train['row_sum'] = train[row_num_cols].sum(axis=1).astype('float32')\n",
        "    train['row_std'] = train[row_num_cols].std(axis=1).astype('float32')\n",
        "    test['row_sum'] = test[row_num_cols].sum(axis=1).astype('float32')\n",
        "    test['row_std'] = test[row_num_cols].std(axis=1).astype('float32')\n",
        "    log('Added row_sum and row_std')\n",
        "\n",
        "# Update feature list after FE\n",
        "fe_cols = [c for c in train.columns if c not in [id_col, target_col, 'f_27']]\n",
        "log(f'Feature count (after FE): {len(fe_cols)}')\n",
        "\n",
        "# Check nulls\n",
        "null_train = train[fe_cols + [target_col]].isnull().sum().sum()\n",
        "null_test = test[[c for c in fe_cols if c in test.columns]].isnull().sum().sum()\n",
        "log(f'Nulls -> train: {null_train}, test: {null_test}')\n",
        "\n",
        "# Save 10-fold stratified splits\n",
        "log('Creating StratifiedKFold(10) indices...')\n",
        "skf = StratifiedKFold(n_splits=10, shuffle=True, random_state=SEED)\n",
        "folds = np.full(len(train), -1, dtype=np.int16)\n",
        "for fold, (_, val_idx) in enumerate(skf.split(train[fe_cols], train[target_col])):\n",
        "    folds[val_idx] = fold\n",
        "assert (folds >= 0).all()\n",
        "\n",
        "folds_df = pd.DataFrame({id_col if id_col else 'row_id': train[id_col] if id_col else np.arange(len(train)), 'fold': folds})\n",
        "folds_path = 'folds_10fold_seed42.csv'\n",
        "folds_df.to_csv(folds_path, index=False)\n",
        "log(f'Saved folds to {folds_path}')\n",
        "\n",
        "# Save memory\n",
        "gc.collect();\n",
        "log('Data prep done.')"
      ],
      "execution_count": 2,
      "outputs": [
        {
          "output_type": "stream",
          "name": "stdout",
          "text": [
            "[2025-09-11 22:14:15] Loading data...\n"
          ]
        },
        {
          "output_type": "stream",
          "name": "stdout",
          "text": [
            "[2025-09-11 22:14:20] train shape: (800000, 33), test shape: (100000, 32)\n"
          ]
        },
        {
          "output_type": "stream",
          "name": "stdout",
          "text": [
            "[2025-09-11 22:14:20] Target distribution:\n"
          ]
        },
        {
          "output_type": "stream",
          "name": "stdout",
          "text": [
            "[2025-09-11 22:14:20] {0: 0.51386, 1: 0.48614}\n"
          ]
        },
        {
          "output_type": "stream",
          "name": "stdout",
          "text": [
            "[2025-09-11 22:14:20] Numeric columns cast to float32.\n"
          ]
        },
        {
          "output_type": "stream",
          "name": "stdout",
          "text": [
            "[2025-09-11 22:14:20] f_27 unique chars: 20 -> ['A', 'B', 'C', 'D', 'E', 'F', 'G', 'H', 'I', 'J', 'K', 'L', 'M', 'N', 'O', 'P', 'Q', 'R', 'S', 'T']...\n"
          ]
        },
        {
          "output_type": "stream",
          "name": "stdout",
          "text": [
            "[2025-09-11 22:14:27] Added f_27 features in 6.53s\n"
          ]
        },
        {
          "output_type": "stream",
          "name": "stdout",
          "text": [
            "[2025-09-11 22:14:28] Added row_sum and row_std\n"
          ]
        },
        {
          "output_type": "stream",
          "name": "stdout",
          "text": [
            "[2025-09-11 22:14:28] Feature count (after FE): 52\n"
          ]
        },
        {
          "output_type": "stream",
          "name": "stdout",
          "text": [
            "[2025-09-11 22:14:28] Nulls -> train: 0, test: 0\n"
          ]
        },
        {
          "output_type": "stream",
          "name": "stdout",
          "text": [
            "[2025-09-11 22:14:28] Creating StratifiedKFold(10) indices...\n"
          ]
        },
        {
          "output_type": "stream",
          "name": "stdout",
          "text": [
            "[2025-09-11 22:14:29] Saved folds to folds_10fold_seed42.csv\n"
          ]
        },
        {
          "output_type": "stream",
          "name": "stdout",
          "text": [
            "[2025-09-11 22:14:29] Data prep done.\n"
          ]
        }
      ]
    },
    {
      "id": "616cdd9b-4865-444d-96d5-f65a9b3b676e",
      "cell_type": "code",
      "metadata": {},
      "source": [
        "# LightGBM 10-fold CV training, OOF/test preds, submission\n",
        "t_start = time.time()\n",
        "log('Setting up LightGBM training...')\n",
        "try:\n",
        "    import lightgbm as lgb\n",
        "except ImportError:\n",
        "    import sys, subprocess\n",
        "    log('LightGBM not found. Installing...')\n",
        "    subprocess.check_call([sys.executable, '-m', 'pip', 'install', '-q', 'lightgbm'])\n",
        "    import lightgbm as lgb\n",
        "\n",
        "# Features and target\n",
        "features = [c for c in train.columns if c not in [id_col, target_col, 'f_27']]\n",
        "X = train[features]\n",
        "y = train[target_col].values\n",
        "X_test = test[features]\n",
        "\n",
        "# Folds\n",
        "folds_df = pd.read_csv('folds_10fold_seed42.csv')\n",
        "folds_arr = folds_df['fold'].values\n",
        "\n",
        "# Params\n",
        "params = {\n",
        "    'objective': 'binary',\n",
        "    'metric': 'auc',\n",
        "    'boosting_type': 'gbdt',\n",
        "    'learning_rate': 0.02,\n",
        "    'num_leaves': 256,\n",
        "    'max_depth': -1,\n",
        "    'min_data_in_leaf': 150,\n",
        "    'feature_fraction': 0.8,\n",
        "    'bagging_fraction': 0.8,\n",
        "    'bagging_freq': 1,\n",
        "    'lambda_l1': 0.0,\n",
        "    'lambda_l2': 2.0,\n",
        "    'max_bin': 255,\n",
        "    'verbose': -1,\n",
        "    'n_jobs': -1,\n",
        "    'seed': SEED\n",
        "}\n",
        "\n",
        "n_splits = len(np.unique(folds_arr))\n",
        "oof = np.zeros(len(train), dtype='float32')\n",
        "pred_test = np.zeros(len(test), dtype='float32')\n",
        "feat_imps = []\n",
        "\n",
        "for fold in range(n_splits):\n",
        "    fold_t0 = time.time()\n",
        "    trn_idx = np.where(folds_arr != fold)[0]\n",
        "    val_idx = np.where(folds_arr == fold)[0]\n",
        "    log(f'Fold {fold+1}/{n_splits} | trn={len(trn_idx)} val={len(val_idx)}')\n",
        "\n",
        "    dtrain = lgb.Dataset(X.iloc[trn_idx], label=y[trn_idx])\n",
        "    dvalid = lgb.Dataset(X.iloc[val_idx], label=y[val_idx])\n",
        "\n",
        "    model = lgb.train(\n",
        "        params,\n",
        "        dtrain,\n",
        "        num_boost_round=10000,\n",
        "        valid_sets=[dtrain, dvalid],\n",
        "        valid_names=['train','valid'],\n",
        "        callbacks=[lgb.early_stopping(200), lgb.log_evaluation(200)]\n",
        "    )\n",
        "\n",
        "    oof[val_idx] = model.predict(X.iloc[val_idx], num_iteration=model.best_iteration)\n",
        "    fold_auc = roc_auc_score(y[val_idx], oof[val_idx])\n",
        "    log(f'Fold {fold} AUC: {fold_auc:.6f} | best_iter={model.best_iteration} | elapsed={time.time()-fold_t0:.1f}s')\n",
        "\n",
        "    pred_test += model.predict(X_test, num_iteration=model.best_iteration) / n_splits\n",
        "\n",
        "    fi = pd.DataFrame({'feature': features, f'fold_{fold}': model.feature_importance(importance_type='gain')})\n",
        "    feat_imps.append(fi)\n",
        "    del dtrain, dvalid, model\n",
        "    gc.collect()\n",
        "\n",
        "cv_auc = roc_auc_score(y, oof)\n",
        "log(f'OOF AUC: {cv_auc:.6f}')\n",
        "\n",
        "# Save OOF and test preds\n",
        "pd.DataFrame({id_col: train[id_col], 'oof': oof}).to_csv('oof_lgb_seed42.csv', index=False)\n",
        "pd.DataFrame({id_col: test[id_col], 'prediction': pred_test}).to_csv('pred_lgb_seed42.csv', index=False)\n",
        "\n",
        "# Feature importance\n",
        "fi_merged = feat_imps[0]\n",
        "for i in range(1, len(feat_imps)):\n",
        "    fi_merged = fi_merged.merge(feat_imps[i], on='feature', how='outer')\n",
        "fi_merged.fillna(0, inplace=True)\n",
        "fi_merged['gain_mean'] = fi_merged[[c for c in fi_merged.columns if c.startswith('fold_')]].mean(axis=1)\n",
        "fi_merged.sort_values('gain_mean', ascending=False).to_csv('feature_importance_lgb.csv', index=False)\n",
        "log('Saved OOF, test preds, and feature importance.')\n",
        "\n",
        "# Submission\n",
        "sub = pd.read_csv('sample_submission.csv')\n",
        "sub['target'] = pred_test\n",
        "sub.to_csv('submission.csv', index=False)\n",
        "log(f'Submission saved. Total training time: {time.time()-t_start:.1f}s')"
      ],
      "execution_count": null,
      "outputs": []
    },
    {
      "id": "b0dae235-9a92-4544-aadb-2d6c74275995",
      "cell_type": "code",
      "metadata": {},
      "source": [
        "# Patch f_27 features (+1 offset), add bigrams/runs/equality/char counts; add extra row stats\n",
        "log('Patching/adding f_27 features and cheap row stats (queued for after current run)')\n",
        "\n",
        "# Ensure we have shared char2int and strings\n",
        "all_f27 = pd.concat([train['f_27'], test['f_27']], axis=0).astype(str)\n",
        "chars = sorted(set(''.join(all_f27.values)))  # expecting 20 A..T\n",
        "char2int = {ch:i for i, ch in enumerate(chars)}\n",
        "\n",
        "def build_bigrams_map(series):\n",
        "    # Build bigram vocabulary from train+test\n",
        "    seen = set()\n",
        "    for s in series.values:\n",
        "        for i in range(9):\n",
        "            seen.add(s[i:i+2])\n",
        "    bigrams = sorted(seen)\n",
        "    return {bg:i for i, bg in enumerate(bigrams)}\n",
        "\n",
        "bigrams2int = build_bigrams_map(all_f27)\n",
        "log(f'Bigram vocab size: {len(bigrams2int)}')\n",
        "\n",
        "def longest_run_and_transitions(s):\n",
        "    # s length is 10\n",
        "    max_run = 1\n",
        "    cur = 1\n",
        "    transitions = 0\n",
        "    for i in range(1, len(s)):\n",
        "        if s[i] == s[i-1]:\n",
        "            cur += 1\n",
        "        else:\n",
        "            transitions += 1\n",
        "            if cur > max_run:\n",
        "                max_run = cur\n",
        "            cur = 1\n",
        "    if cur > max_run:\n",
        "        max_run = cur\n",
        "    return max_run, transitions\n",
        "\n",
        "def add_extra_f27_features(df):\n",
        "    s = df['f_27'].astype(str)\n",
        "    # Offset existing find features by +1 (range 0..10); and presence flag\n",
        "    for ch in list('ABCDEFGHIJ'):\n",
        "        col = f'f_27_char_{ch}_pos'\n",
        "        if col in df.columns:\n",
        "            df[col] = (df[col].astype('int16') + 1).astype('int8')\n",
        "        pres = f'f_27_char_{ch}_present'\n",
        "        df[pres] = (s.str.find(ch) >= 0).astype('int8')\n",
        "    # Adjacent equality flags pos0==pos1 ... pos8==pos9\n",
        "    for i in range(9):\n",
        "        df[f'f_27_adj_eq_{i}_{i+1}'] = (s.str[i] == s.str[i+1]).astype('int8')\n",
        "    # 9 bigram columns: s[i:i+2] label-encoded\n",
        "    for i in range(9):\n",
        "        col = f'f_27_bg_{i}_{i+1}'\n",
        "        df[col] = s.str[i:i+2].map(bigrams2int).astype('int16')\n",
        "    # longest_run_length and transitions_count\n",
        "    lr, tr = zip(*s.map(longest_run_and_transitions))\n",
        "    df['f_27_longest_run'] = np.array(lr, dtype='int8')\n",
        "    df['f_27_transitions'] = np.array(tr, dtype='int8')\n",
        "    # Per-char counts A..T (20 ints)\n",
        "    for ch in chars:\n",
        "        df[f'f_27_cnt_{ch}'] = s.str.count(ch).astype('int8')\n",
        "    return df\n",
        "\n",
        "t0 = time.time()\n",
        "train = add_extra_f27_features(train)\n",
        "test = add_extra_f27_features(test)\n",
        "log(f'Added extra f_27 features in {time.time()-t0:.2f}s')\n",
        "\n",
        "# Cheap row stats additions on numeric block\n",
        "row_num_cols = [c for c in train.columns if c not in [id_col, target_col, 'f_27'] and c.startswith('f_') and train[c].dtype in [np.float32, np.float64, 'float32', 'float64'] ]\n",
        "if len(row_num_cols) > 0:\n",
        "    train['row_min'] = train[row_num_cols].min(axis=1).astype('float32')\n",
        "    train['row_max'] = train[row_num_cols].max(axis=1).astype('float32')\n",
        "    train['row_mean'] = train[row_num_cols].mean(axis=1).astype('float32')\n",
        "    test['row_min'] = test[row_num_cols].min(axis=1).astype('float32')\n",
        "    test['row_max'] = test[row_num_cols].max(axis=1).astype('float32')\n",
        "    test['row_mean'] = test[row_num_cols].mean(axis=1).astype('float32')\n",
        "    train['row_max_minus_mean'] = (train['row_max'] - train['row_mean']).astype('float32')\n",
        "    train['mean_minus_row_min'] = (train['row_mean'] - train['row_min']).astype('float32')\n",
        "    test['row_max_minus_mean'] = (test['row_max'] - test['row_mean']).astype('float32')\n",
        "    test['mean_minus_row_min'] = (test['row_mean'] - test['row_min']).astype('float32')\n",
        "    log('Added row_min/row_max/row_mean and z-extremes')\n",
        "\n",
        "# Refresh feature list (exclude id/target/raw f_27)\n",
        "fe_cols = [c for c in train.columns if c not in [id_col, target_col, 'f_27']]\n",
        "log(f'Feature count after patch: {len(fe_cols)}')\n",
        "gc.collect();"
      ],
      "execution_count": 3,
      "outputs": [
        {
          "output_type": "stream",
          "name": "stdout",
          "text": [
            "[2025-09-11 22:14:35] Patching/adding f_27 features and cheap row stats (queued for after current run)\n"
          ]
        },
        {
          "output_type": "stream",
          "name": "stdout",
          "text": [
            "[2025-09-11 22:14:37] Bigram vocab size: 349\n"
          ]
        },
        {
          "output_type": "stream",
          "name": "stderr",
          "text": [
            "/tmp/ipykernel_400/269042634.py:60: PerformanceWarning: DataFrame is highly fragmented.  This is usually the result of calling `frame.insert` many times, which has poor performance.  Consider joining all columns at once using pd.concat(axis=1) instead. To get a de-fragmented frame, use `newframe = frame.copy()`\n  df[f'f_27_cnt_{ch}'] = s.str.count(ch).astype('int8')\n"
          ]
        },
        {
          "output_type": "stream",
          "name": "stderr",
          "text": [
            "/tmp/ipykernel_400/269042634.py:60: PerformanceWarning: DataFrame is highly fragmented.  This is usually the result of calling `frame.insert` many times, which has poor performance.  Consider joining all columns at once using pd.concat(axis=1) instead. To get a de-fragmented frame, use `newframe = frame.copy()`\n  df[f'f_27_cnt_{ch}'] = s.str.count(ch).astype('int8')\n"
          ]
        },
        {
          "output_type": "stream",
          "name": "stderr",
          "text": [
            "/tmp/ipykernel_400/269042634.py:60: PerformanceWarning: DataFrame is highly fragmented.  This is usually the result of calling `frame.insert` many times, which has poor performance.  Consider joining all columns at once using pd.concat(axis=1) instead. To get a de-fragmented frame, use `newframe = frame.copy()`\n  df[f'f_27_cnt_{ch}'] = s.str.count(ch).astype('int8')\n"
          ]
        },
        {
          "output_type": "stream",
          "name": "stderr",
          "text": [
            "/tmp/ipykernel_400/269042634.py:60: PerformanceWarning: DataFrame is highly fragmented.  This is usually the result of calling `frame.insert` many times, which has poor performance.  Consider joining all columns at once using pd.concat(axis=1) instead. To get a de-fragmented frame, use `newframe = frame.copy()`\n  df[f'f_27_cnt_{ch}'] = s.str.count(ch).astype('int8')\n"
          ]
        },
        {
          "output_type": "stream",
          "name": "stderr",
          "text": [
            "/tmp/ipykernel_400/269042634.py:60: PerformanceWarning: DataFrame is highly fragmented.  This is usually the result of calling `frame.insert` many times, which has poor performance.  Consider joining all columns at once using pd.concat(axis=1) instead. To get a de-fragmented frame, use `newframe = frame.copy()`\n  df[f'f_27_cnt_{ch}'] = s.str.count(ch).astype('int8')\n"
          ]
        },
        {
          "output_type": "stream",
          "name": "stdout",
          "text": [
            "[2025-09-11 22:14:57] Added extra f_27 features in 19.94s\n"
          ]
        },
        {
          "output_type": "stream",
          "name": "stderr",
          "text": [
            "/tmp/ipykernel_400/269042634.py:60: PerformanceWarning: DataFrame is highly fragmented.  This is usually the result of calling `frame.insert` many times, which has poor performance.  Consider joining all columns at once using pd.concat(axis=1) instead. To get a de-fragmented frame, use `newframe = frame.copy()`\n  df[f'f_27_cnt_{ch}'] = s.str.count(ch).astype('int8')\n/tmp/ipykernel_400/269042634.py:60: PerformanceWarning: DataFrame is highly fragmented.  This is usually the result of calling `frame.insert` many times, which has poor performance.  Consider joining all columns at once using pd.concat(axis=1) instead. To get a de-fragmented frame, use `newframe = frame.copy()`\n  df[f'f_27_cnt_{ch}'] = s.str.count(ch).astype('int8')\n/tmp/ipykernel_400/269042634.py:60: PerformanceWarning: DataFrame is highly fragmented.  This is usually the result of calling `frame.insert` many times, which has poor performance.  Consider joining all columns at once using pd.concat(axis=1) instead. To get a de-fragmented frame, use `newframe = frame.copy()`\n  df[f'f_27_cnt_{ch}'] = s.str.count(ch).astype('int8')\n/tmp/ipykernel_400/269042634.py:60: PerformanceWarning: DataFrame is highly fragmented.  This is usually the result of calling `frame.insert` many times, which has poor performance.  Consider joining all columns at once using pd.concat(axis=1) instead. To get a de-fragmented frame, use `newframe = frame.copy()`\n  df[f'f_27_cnt_{ch}'] = s.str.count(ch).astype('int8')\n"
          ]
        },
        {
          "output_type": "stream",
          "name": "stderr",
          "text": [
            "/tmp/ipykernel_400/269042634.py:71: PerformanceWarning: DataFrame is highly fragmented.  This is usually the result of calling `frame.insert` many times, which has poor performance.  Consider joining all columns at once using pd.concat(axis=1) instead. To get a de-fragmented frame, use `newframe = frame.copy()`\n  train['row_min'] = train[row_num_cols].min(axis=1).astype('float32')\n"
          ]
        },
        {
          "output_type": "stream",
          "name": "stderr",
          "text": [
            "/tmp/ipykernel_400/269042634.py:72: PerformanceWarning: DataFrame is highly fragmented.  This is usually the result of calling `frame.insert` many times, which has poor performance.  Consider joining all columns at once using pd.concat(axis=1) instead. To get a de-fragmented frame, use `newframe = frame.copy()`\n  train['row_max'] = train[row_num_cols].max(axis=1).astype('float32')\n"
          ]
        },
        {
          "output_type": "stream",
          "name": "stdout",
          "text": [
            "[2025-09-11 22:14:57] Added row_min/row_max/row_mean and z-extremes\n"
          ]
        },
        {
          "output_type": "stream",
          "name": "stdout",
          "text": [
            "[2025-09-11 22:14:57] Feature count after patch: 107\n"
          ]
        },
        {
          "output_type": "stream",
          "name": "stderr",
          "text": [
            "/tmp/ipykernel_400/269042634.py:73: PerformanceWarning: DataFrame is highly fragmented.  This is usually the result of calling `frame.insert` many times, which has poor performance.  Consider joining all columns at once using pd.concat(axis=1) instead. To get a de-fragmented frame, use `newframe = frame.copy()`\n  train['row_mean'] = train[row_num_cols].mean(axis=1).astype('float32')\n/tmp/ipykernel_400/269042634.py:74: PerformanceWarning: DataFrame is highly fragmented.  This is usually the result of calling `frame.insert` many times, which has poor performance.  Consider joining all columns at once using pd.concat(axis=1) instead. To get a de-fragmented frame, use `newframe = frame.copy()`\n  test['row_min'] = test[row_num_cols].min(axis=1).astype('float32')\n/tmp/ipykernel_400/269042634.py:75: PerformanceWarning: DataFrame is highly fragmented.  This is usually the result of calling `frame.insert` many times, which has poor performance.  Consider joining all columns at once using pd.concat(axis=1) instead. To get a de-fragmented frame, use `newframe = frame.copy()`\n  test['row_max'] = test[row_num_cols].max(axis=1).astype('float32')\n/tmp/ipykernel_400/269042634.py:76: PerformanceWarning: DataFrame is highly fragmented.  This is usually the result of calling `frame.insert` many times, which has poor performance.  Consider joining all columns at once using pd.concat(axis=1) instead. To get a de-fragmented frame, use `newframe = frame.copy()`\n  test['row_mean'] = test[row_num_cols].mean(axis=1).astype('float32')\n/tmp/ipykernel_400/269042634.py:77: PerformanceWarning: DataFrame is highly fragmented.  This is usually the result of calling `frame.insert` many times, which has poor performance.  Consider joining all columns at once using pd.concat(axis=1) instead. To get a de-fragmented frame, use `newframe = frame.copy()`\n  train['row_max_minus_mean'] = (train['row_max'] - train['row_mean']).astype('float32')\n/tmp/ipykernel_400/269042634.py:78: PerformanceWarning: DataFrame is highly fragmented.  This is usually the result of calling `frame.insert` many times, which has poor performance.  Consider joining all columns at once using pd.concat(axis=1) instead. To get a de-fragmented frame, use `newframe = frame.copy()`\n  train['mean_minus_row_min'] = (train['row_mean'] - train['row_min']).astype('float32')\n/tmp/ipykernel_400/269042634.py:79: PerformanceWarning: DataFrame is highly fragmented.  This is usually the result of calling `frame.insert` many times, which has poor performance.  Consider joining all columns at once using pd.concat(axis=1) instead. To get a de-fragmented frame, use `newframe = frame.copy()`\n  test['row_max_minus_mean'] = (test['row_max'] - test['row_mean']).astype('float32')\n/tmp/ipykernel_400/269042634.py:80: PerformanceWarning: DataFrame is highly fragmented.  This is usually the result of calling `frame.insert` many times, which has poor performance.  Consider joining all columns at once using pd.concat(axis=1) instead. To get a de-fragmented frame, use `newframe = frame.copy()`\n  test['mean_minus_row_min'] = (test['row_mean'] - test['row_min']).astype('float32')\n"
          ]
        }
      ]
    },
    {
      "id": "743925ec-920d-45f6-a978-8a34b325f9c2",
      "cell_type": "code",
      "metadata": {},
      "source": [
        "# Add targeted numeric interactions and quick-win f_27 features (vectorized, cheap)\n",
        "log('Adding numeric interactions and f_27 quick wins...')\n",
        "\n",
        "t0 = time.time()\n",
        "\n",
        "# Helper: get col safely\n",
        "def _col(name):\n",
        "    if name not in train.columns or name not in test.columns:\n",
        "        raise KeyError(f'Missing column: {name}')\n",
        "    return name\n",
        "\n",
        "# Base numeric columns expected in TPS May 2022\n",
        "base_cols = ['f_00','f_01','f_02','f_03','f_05','f_06','f_10','f_12','f_20','f_21','f_22','f_26']\n",
        "for c in base_cols:\n",
        "    _ = _col(c)\n",
        "\n",
        "def build_num_interactions(df):\n",
        "    eps = 1e-6\n",
        "    out = {}\n",
        "    f00 = df['f_00'].astype('float32').values\n",
        "    f01 = df['f_01'].astype('float32').values\n",
        "    f02 = df['f_02'].astype('float32').values\n",
        "    f03 = df['f_03'].astype('float32').values\n",
        "    f05 = df['f_05'].astype('float32').values\n",
        "    f06 = df['f_06'].astype('float32').values\n",
        "    f10 = df['f_10'].astype('float32').values\n",
        "    f12 = df['f_12'].astype('float32').values\n",
        "    f20 = df['f_20'].astype('float32').values\n",
        "    f21 = df['f_21'].astype('float32').values\n",
        "    f22 = df['f_22'].astype('float32').values\n",
        "    f26 = df['f_26'].astype('float32').values\n",
        "    # Ratios\n",
        "    out['int_ratio_00_01'] = (f00 / (f01 + eps)).astype('float32')\n",
        "    out['int_ratio_02_03'] = (f02 / (f03 + eps)).astype('float32')\n",
        "    out['int_ratio_10_12'] = (f10 / (f12 + eps)).astype('float32')\n",
        "    out['int_ratio_20_21'] = (f20 / (f21 + eps)).astype('float32')\n",
        "    out['int_ratio_21_02'] = (f21 / (f02 + eps)).astype('float32')\n",
        "    out['int_ratio_22_02'] = (f22 / (f02 + eps)).astype('float32')\n",
        "    out['int_ratio_05_06'] = (f05 / (f06 + eps)).astype('float32')\n",
        "    out['int_ratio_26_02'] = (f26 / (f02 + eps)).astype('float32')\n",
        "    # Products\n",
        "    out['int_prod_00_10'] = (f00 * f10).astype('float32')\n",
        "    out['int_prod_02_20'] = (f02 * f20).astype('float32')\n",
        "    out['int_prod_01_21'] = (f01 * f21).astype('float32')\n",
        "    out['int_prod_21_02'] = (f21 * f02).astype('float32')\n",
        "    out['int_prod_22_05'] = (f22 * f05).astype('float32')\n",
        "    # Diffs\n",
        "    out['int_absdiff_00_10'] = np.abs(f00 - f10).astype('float32')\n",
        "    out['int_absdiff_02_20'] = np.abs(f02 - f20).astype('float32')\n",
        "    out['int_absdiff_01_21'] = np.abs(f01 - f21).astype('float32')\n",
        "    out['int_absdiff_21_02'] = np.abs(f21 - f02).astype('float32')\n",
        "    out['int_diff_22_05'] = (f22 - f05).astype('float32')\n",
        "    out['int_diff_26_00'] = (f26 - f00).astype('float32')\n",
        "    # Squares\n",
        "    out['int_sq_00'] = (f00 * f00).astype('float32')\n",
        "    out['int_sq_02'] = (f02 * f02).astype('float32')\n",
        "    out['int_sq_10'] = (f10 * f10).astype('float32')\n",
        "    out['int_sq_20'] = (f20 * f20).astype('float32')\n",
        "    return pd.DataFrame(out)\n",
        "\n",
        "num_int_train = build_num_interactions(train)\n",
        "num_int_test = build_num_interactions(test)\n",
        "\n",
        "# f_27 quick wins using positional ints and counts already present\n",
        "pos_cols = [f'f_27_pos_{i}' for i in range(10)]\n",
        "for c in pos_cols:\n",
        "    if c not in train.columns:\n",
        "        raise KeyError(f'Missing {c} for f_27 quick features')\n",
        "\n",
        "# Build numpy arrays for positions\n",
        "P_tr = np.stack([train[c].astype('int16').values for c in pos_cols], axis=1)  # (n,10)\n",
        "P_te = np.stack([test[c].astype('int16').values for c in pos_cols], axis=1)\n",
        "\n",
        "# Per-char counts A..T exist as f_27_cnt_{ch}; assemble count matrices if present, else compute from positions\n",
        "chars = sorted(set(''.join(pd.concat([train['f_27'], test['f_27']]).astype(str).values)))\n",
        "char2int = {ch:i for i,ch in enumerate(chars)}\n",
        "vocab_size = len(chars)  # expected 20\n",
        "\n",
        "def counts_from_positions(P, vocab_size):\n",
        "    # P: (n,10) with 0..vocab_size-1\n",
        "    n = P.shape[0]\n",
        "    cnt = np.zeros((n, vocab_size), dtype=np.int16)\n",
        "    for k in range(10):\n",
        "        idx = P[:, k]\n",
        "        # bincount per row via advanced indexing\n",
        "        cnt[np.arange(n), idx] += 1\n",
        "    return cnt\n",
        "\n",
        "# Try to build counts from existing columns if available\n",
        "cnt_cols = [c for c in train.columns if c.startswith('f_27_cnt_')]\n",
        "if len(cnt_cols) == vocab_size:\n",
        "    CNT_tr = np.stack([train[c].astype('int16').values for c in cnt_cols], axis=1)\n",
        "    CNT_te = np.stack([test[c].astype('int16').values for c in cnt_cols], axis=1)\n",
        "else:\n",
        "    CNT_tr = counts_from_positions(P_tr, vocab_size)\n",
        "    CNT_te = counts_from_positions(P_te, vocab_size)\n",
        "\n",
        "def build_f27_quick(P, CNT):\n",
        "    n = P.shape[0]\n",
        "    out = {}\n",
        "    # nunique\n",
        "    out['f27_nunique'] = (CNT > 0).sum(axis=1).astype('int8')\n",
        "    # equal pairs per row: sum cnt*(cnt-1)/2\n",
        "    cnt = CNT.astype('int32')\n",
        "    out['f27_equal_pairs'] = ((cnt * (cnt - 1)) // 2).sum(axis=1).astype('int32')\n",
        "    # entropy over 10 positions\n",
        "    p = cnt / 10.0\n",
        "    with np.errstate(divide='ignore', invalid='ignore'):\n",
        "        ent = -(p * np.log(p + 1e-12)).sum(axis=1)\n",
        "    out['f27_entropy'] = ent.astype('float32')\n",
        "    # first-last same\n",
        "    out['f27_first_last_same'] = (P[:, 0] == P[:, 9]).astype('int8')\n",
        "    # palindrome matches\n",
        "    pal = np.zeros(n, dtype=np.int8)\n",
        "    for i in range(5):\n",
        "        pal += (P[:, i] == P[:, 9 - i]).astype('int8')\n",
        "    out['f27_pal_matches'] = pal\n",
        "    # circular shift equal counts for k=1,2,3\n",
        "    for k in (1, 2, 3):\n",
        "        eq = (P == np.roll(P, shift=-k, axis=1)).sum(axis=1).astype('int8')\n",
        "        out[f'f27_circ_eq_k{k}'] = eq\n",
        "    # num_runs, mean_run_length, transitions_parity using existing transitions if present\n",
        "    if 'f_27_transitions' in train.columns:\n",
        "        trn = None  # placeholder\n",
        "    # compute transitions from positions\n",
        "    trans = (P[:, 1:] != P[:, :-1]).sum(axis=1).astype('int8')\n",
        "    out['f27_num_runs'] = (trans + 1).astype('int8')\n",
        "    out['f27_mean_run_len'] = (10.0 / (trans + 1).clip(min=1)).astype('float32')\n",
        "    out['f27_transitions_parity'] = (trans % 2).astype('int8')\n",
        "    # 3-gram hashed (base-23 hash mod 512) for i=0..7\n",
        "    base = 23\n",
        "    mod = 512\n",
        "    tri_feats = {}\n",
        "    for i in range(8):\n",
        "        code = (P[:, i] * (base * base) + P[:, i + 1] * base + P[:, i + 2]) % mod\n",
        "        tri_feats[f'f27_tri_hash_{i}_{i+2}'] = code.astype('int16')\n",
        "    out.update(tri_feats)\n",
        "    return pd.DataFrame(out)\n",
        "\n",
        "f27q_train = build_f27_quick(P_tr, CNT_tr)\n",
        "f27q_test = build_f27_quick(P_te, CNT_te)\n",
        "\n",
        "# Concatenate blocks to reduce fragmentation\n",
        "train = pd.concat([train, num_int_train, f27q_train], axis=1)\n",
        "test = pd.concat([test, num_int_test, f27q_test], axis=1)\n",
        "\n",
        "log(f'Added interactions and f27 quick features in {time.time()-t0:.1f}s | new feature count: {train.shape[1]-3}')\n",
        "gc.collect();"
      ],
      "execution_count": 4,
      "outputs": [
        {
          "output_type": "stream",
          "name": "stdout",
          "text": [
            "[2025-09-11 22:15:07] Adding numeric interactions and f_27 quick wins...\n"
          ]
        },
        {
          "output_type": "stream",
          "name": "stdout",
          "text": [
            "[2025-09-11 22:15:08] Added interactions and f27 quick features in 1.4s | new feature count: 149\n"
          ]
        }
      ]
    },
    {
      "id": "2134ac14-44ff-4b0d-b4ef-f1946c80a385",
      "cell_type": "code",
      "metadata": {},
      "source": [
        "# CatBoost 10-fold CV training, OOF/test preds, for blending\n",
        "log('Setting up CatBoost training (same folds/features, fast params)...')\n",
        "try:\n",
        "    from catboost import CatBoostClassifier, Pool\n",
        "except ImportError:\n",
        "    import sys, subprocess\n",
        "    log('CatBoost not found. Installing...')\n",
        "    subprocess.check_call([sys.executable, '-m', 'pip', 'install', '-q', 'catboost'])\n",
        "    from catboost import CatBoostClassifier, Pool\n",
        "\n",
        "# Reuse features from current dataframe\n",
        "features = [c for c in train.columns if c not in [id_col, target_col, 'f_27']]\n",
        "X = train[features]\n",
        "y = train[target_col].values\n",
        "X_test = test[features]\n",
        "\n",
        "# Identify categorical-like features (int-coded f_27-derived columns)\n",
        "cat_cols = [\n",
        "    c for c in features\n",
        "    if (c.startswith('f_27_pos_') or c.startswith('f_27_char_') or c.startswith('f_27_bg_')\n",
        "        or c.endswith('_present') or c.startswith('f_27_adj_eq_') or c.startswith('f27_tri_hash_'))\n",
        "]\n",
        "cat_idx = [X.columns.get_loc(c) for c in cat_cols if c in X.columns]\n",
        "log(f'CatBoost categorical features count: {len(cat_idx)}')\n",
        "\n",
        "# Folds\n",
        "folds_df = pd.read_csv('folds_10fold_seed42.csv')\n",
        "folds_arr = folds_df['fold'].values\n",
        "n_splits = len(np.unique(folds_arr))\n",
        "\n",
        "# Fast strong params (GPU) per expert guidance\n",
        "params = {\n",
        "    'loss_function': 'Logloss', 'eval_metric': 'AUC',\n",
        "    'iterations': 3800, 'learning_rate': 0.032, 'depth': 8,\n",
        "    'l2_leaf_reg': 6.0, 'bootstrap_type': 'Poisson', 'subsample': 0.82,\n",
        "    'sampling_frequency': 'PerTree', 'border_count': 128,\n",
        "    'grow_policy': 'SymmetricTree', 'max_ctr_complexity': 1,\n",
        "    'od_type': 'Iter', 'od_wait': 120,\n",
        "    'task_type': 'GPU', 'devices': '0',\n",
        "    'random_seed': 42, 'verbose': 400,\n",
        "    # Ensure no GPU-incompatible column sampling (rsm) is used\n",
        "    'rsm': 1.0\n",
        "}\n",
        "\n",
        "oof_cb = np.zeros(len(train), dtype='float32')\n",
        "pred_test_cb = np.zeros(len(test), dtype='float32')\n",
        "\n",
        "for fold in range(n_splits):\n",
        "    fold_t0 = time.time()\n",
        "    trn_idx = np.where(folds_arr != fold)[0]\n",
        "    val_idx = np.where(folds_arr == fold)[0]\n",
        "    log(f'[CB] Fold {fold+1}/{n_splits} | trn={len(trn_idx)} val={len(val_idx)}')\n",
        "\n",
        "    train_pool = Pool(X.iloc[trn_idx], y[trn_idx], cat_features=cat_idx)\n",
        "    valid_pool = Pool(X.iloc[val_idx], y[val_idx], cat_features=cat_idx)\n",
        "\n",
        "    model_cb = CatBoostClassifier(**params)\n",
        "    model_cb.fit(train_pool, eval_set=valid_pool, use_best_model=True)\n",
        "\n",
        "    oof_cb[val_idx] = model_cb.predict_proba(valid_pool)[:,1].astype('float32')\n",
        "    fold_auc = roc_auc_score(y[val_idx], oof_cb[val_idx])\n",
        "    log(f'[CB] Fold {fold} AUC: {fold_auc:.6f} | best_iter={model_cb.tree_count_} | elapsed={time.time()-fold_t0:.1f}s')\n",
        "\n",
        "    pred_test_cb += model_cb.predict_proba(Pool(X_test, cat_features=cat_idx))[:,1].astype('float32') / n_splits\n",
        "    del model_cb, train_pool, valid_pool\n",
        "    gc.collect()\n",
        "\n",
        "cv_auc_cb = roc_auc_score(y, oof_cb)\n",
        "log(f'[CB] OOF AUC: {cv_auc_cb:.6f}')\n",
        "\n",
        "# Save OOF and test preds\n",
        "pd.DataFrame({id_col: train[id_col], 'oof_cb': oof_cb}).to_csv('oof_catboost_seed42.csv', index=False)\n",
        "pd.DataFrame({id_col: test[id_col], 'prediction_cb': pred_test_cb}).to_csv('pred_catboost_seed42.csv', index=False)\n",
        "log('[CB] Saved OOF and test predictions.')"
      ],
      "execution_count": 5,
      "outputs": [
        {
          "output_type": "stream",
          "name": "stdout",
          "text": [
            "[2025-09-11 22:15:16] Setting up CatBoost training (same folds/features, fast params)...\n"
          ]
        },
        {
          "output_type": "stream",
          "name": "stdout",
          "text": [
            "[2025-09-11 22:15:16] CatBoost categorical features count: 56\n"
          ]
        },
        {
          "output_type": "stream",
          "name": "stdout",
          "text": [
            "[2025-09-11 22:15:16] [CB] Fold 1/10 | trn=720000 val=80000\n"
          ]
        },
        {
          "output_type": "error",
          "ename": "CatBoostError",
          "evalue": "catboost/cuda/cuda_lib/cuda_base.h:281: CUDA error 100: no CUDA-capable device is detected",
          "traceback": [
            "\u001b[31m---------------------------------------------------------------------------\u001b[39m",
            "\u001b[31mCatBoostError\u001b[39m                             Traceback (most recent call last)",
            "\u001b[36mCell\u001b[39m\u001b[36m \u001b[39m\u001b[32mIn[5]\u001b[39m\u001b[32m, line 58\u001b[39m\n\u001b[32m     55\u001b[39m valid_pool = Pool(X.iloc[val_idx], y[val_idx], cat_features=cat_idx)\n\u001b[32m     57\u001b[39m model_cb = CatBoostClassifier(**params)\n\u001b[32m---> \u001b[39m\u001b[32m58\u001b[39m \u001b[43mmodel_cb\u001b[49m\u001b[43m.\u001b[49m\u001b[43mfit\u001b[49m\u001b[43m(\u001b[49m\u001b[43mtrain_pool\u001b[49m\u001b[43m,\u001b[49m\u001b[43m \u001b[49m\u001b[43meval_set\u001b[49m\u001b[43m=\u001b[49m\u001b[43mvalid_pool\u001b[49m\u001b[43m,\u001b[49m\u001b[43m \u001b[49m\u001b[43muse_best_model\u001b[49m\u001b[43m=\u001b[49m\u001b[38;5;28;43;01mTrue\u001b[39;49;00m\u001b[43m)\u001b[49m\n\u001b[32m     60\u001b[39m oof_cb[val_idx] = model_cb.predict_proba(valid_pool)[:,\u001b[32m1\u001b[39m].astype(\u001b[33m'\u001b[39m\u001b[33mfloat32\u001b[39m\u001b[33m'\u001b[39m)\n\u001b[32m     61\u001b[39m fold_auc = roc_auc_score(y[val_idx], oof_cb[val_idx])\n",
            "\u001b[36mFile \u001b[39m\u001b[32m/usr/local/lib/python3.11/dist-packages/catboost/core.py:5245\u001b[39m, in \u001b[36mCatBoostClassifier.fit\u001b[39m\u001b[34m(self, X, y, cat_features, text_features, embedding_features, graph, sample_weight, baseline, use_best_model, eval_set, verbose, logging_level, plot, plot_file, column_description, verbose_eval, metric_period, silent, early_stopping_rounds, save_snapshot, snapshot_file, snapshot_interval, init_model, callbacks, log_cout, log_cerr)\u001b[39m\n\u001b[32m   5242\u001b[39m \u001b[38;5;28;01mif\u001b[39;00m \u001b[33m'\u001b[39m\u001b[33mloss_function\u001b[39m\u001b[33m'\u001b[39m \u001b[38;5;129;01min\u001b[39;00m params:\n\u001b[32m   5243\u001b[39m     CatBoostClassifier._check_is_compatible_loss(params[\u001b[33m'\u001b[39m\u001b[33mloss_function\u001b[39m\u001b[33m'\u001b[39m])\n\u001b[32m-> \u001b[39m\u001b[32m5245\u001b[39m \u001b[38;5;28;43mself\u001b[39;49m\u001b[43m.\u001b[49m\u001b[43m_fit\u001b[49m\u001b[43m(\u001b[49m\u001b[43mX\u001b[49m\u001b[43m,\u001b[49m\u001b[43m \u001b[49m\u001b[43my\u001b[49m\u001b[43m,\u001b[49m\u001b[43m \u001b[49m\u001b[43mcat_features\u001b[49m\u001b[43m,\u001b[49m\u001b[43m \u001b[49m\u001b[43mtext_features\u001b[49m\u001b[43m,\u001b[49m\u001b[43m \u001b[49m\u001b[43membedding_features\u001b[49m\u001b[43m,\u001b[49m\u001b[43m \u001b[49m\u001b[38;5;28;43;01mNone\u001b[39;49;00m\u001b[43m,\u001b[49m\u001b[43m \u001b[49m\u001b[43mgraph\u001b[49m\u001b[43m,\u001b[49m\u001b[43m \u001b[49m\u001b[43msample_weight\u001b[49m\u001b[43m,\u001b[49m\u001b[43m \u001b[49m\u001b[38;5;28;43;01mNone\u001b[39;49;00m\u001b[43m,\u001b[49m\u001b[43m \u001b[49m\u001b[38;5;28;43;01mNone\u001b[39;49;00m\u001b[43m,\u001b[49m\u001b[43m \u001b[49m\u001b[38;5;28;43;01mNone\u001b[39;49;00m\u001b[43m,\u001b[49m\u001b[43m \u001b[49m\u001b[38;5;28;43;01mNone\u001b[39;49;00m\u001b[43m,\u001b[49m\u001b[43m \u001b[49m\u001b[43mbaseline\u001b[49m\u001b[43m,\u001b[49m\u001b[43m \u001b[49m\u001b[43muse_best_model\u001b[49m\u001b[43m,\u001b[49m\n\u001b[32m   5246\u001b[39m \u001b[43m          \u001b[49m\u001b[43meval_set\u001b[49m\u001b[43m,\u001b[49m\u001b[43m \u001b[49m\u001b[43mverbose\u001b[49m\u001b[43m,\u001b[49m\u001b[43m \u001b[49m\u001b[43mlogging_level\u001b[49m\u001b[43m,\u001b[49m\u001b[43m \u001b[49m\u001b[43mplot\u001b[49m\u001b[43m,\u001b[49m\u001b[43m \u001b[49m\u001b[43mplot_file\u001b[49m\u001b[43m,\u001b[49m\u001b[43m \u001b[49m\u001b[43mcolumn_description\u001b[49m\u001b[43m,\u001b[49m\u001b[43m \u001b[49m\u001b[43mverbose_eval\u001b[49m\u001b[43m,\u001b[49m\u001b[43m \u001b[49m\u001b[43mmetric_period\u001b[49m\u001b[43m,\u001b[49m\n\u001b[32m   5247\u001b[39m \u001b[43m          \u001b[49m\u001b[43msilent\u001b[49m\u001b[43m,\u001b[49m\u001b[43m \u001b[49m\u001b[43mearly_stopping_rounds\u001b[49m\u001b[43m,\u001b[49m\u001b[43m \u001b[49m\u001b[43msave_snapshot\u001b[49m\u001b[43m,\u001b[49m\u001b[43m \u001b[49m\u001b[43msnapshot_file\u001b[49m\u001b[43m,\u001b[49m\u001b[43m \u001b[49m\u001b[43msnapshot_interval\u001b[49m\u001b[43m,\u001b[49m\u001b[43m \u001b[49m\u001b[43minit_model\u001b[49m\u001b[43m,\u001b[49m\u001b[43m \u001b[49m\u001b[43mcallbacks\u001b[49m\u001b[43m,\u001b[49m\u001b[43m \u001b[49m\u001b[43mlog_cout\u001b[49m\u001b[43m,\u001b[49m\u001b[43m \u001b[49m\u001b[43mlog_cerr\u001b[49m\u001b[43m)\u001b[49m\n\u001b[32m   5248\u001b[39m \u001b[38;5;28;01mreturn\u001b[39;00m \u001b[38;5;28mself\u001b[39m\n",
            "\u001b[36mFile \u001b[39m\u001b[32m/usr/local/lib/python3.11/dist-packages/catboost/core.py:2410\u001b[39m, in \u001b[36mCatBoost._fit\u001b[39m\u001b[34m(self, X, y, cat_features, text_features, embedding_features, pairs, graph, sample_weight, group_id, group_weight, subgroup_id, pairs_weight, baseline, use_best_model, eval_set, verbose, logging_level, plot, plot_file, column_description, verbose_eval, metric_period, silent, early_stopping_rounds, save_snapshot, snapshot_file, snapshot_interval, init_model, callbacks, log_cout, log_cerr)\u001b[39m\n\u001b[32m   2407\u001b[39m allow_clear_pool = train_params[\u001b[33m\"\u001b[39m\u001b[33mallow_clear_pool\u001b[39m\u001b[33m\"\u001b[39m]\n\u001b[32m   2409\u001b[39m \u001b[38;5;28;01mwith\u001b[39;00m plot_wrapper(plot, plot_file, \u001b[33m'\u001b[39m\u001b[33mTraining plots\u001b[39m\u001b[33m'\u001b[39m, [_get_train_dir(\u001b[38;5;28mself\u001b[39m.get_params())]):\n\u001b[32m-> \u001b[39m\u001b[32m2410\u001b[39m     \u001b[38;5;28;43mself\u001b[39;49m\u001b[43m.\u001b[49m\u001b[43m_train\u001b[49m\u001b[43m(\u001b[49m\n\u001b[32m   2411\u001b[39m \u001b[43m        \u001b[49m\u001b[43mtrain_pool\u001b[49m\u001b[43m,\u001b[49m\n\u001b[32m   2412\u001b[39m \u001b[43m        \u001b[49m\u001b[43mtrain_params\u001b[49m\u001b[43m[\u001b[49m\u001b[33;43m\"\u001b[39;49m\u001b[33;43meval_sets\u001b[39;49m\u001b[33;43m\"\u001b[39;49m\u001b[43m]\u001b[49m\u001b[43m,\u001b[49m\n\u001b[32m   2413\u001b[39m \u001b[43m        \u001b[49m\u001b[43mparams\u001b[49m\u001b[43m,\u001b[49m\n\u001b[32m   2414\u001b[39m \u001b[43m        \u001b[49m\u001b[43mallow_clear_pool\u001b[49m\u001b[43m,\u001b[49m\n\u001b[32m   2415\u001b[39m \u001b[43m        \u001b[49m\u001b[43mtrain_params\u001b[49m\u001b[43m[\u001b[49m\u001b[33;43m\"\u001b[39;49m\u001b[33;43minit_model\u001b[39;49m\u001b[33;43m\"\u001b[39;49m\u001b[43m]\u001b[49m\n\u001b[32m   2416\u001b[39m \u001b[43m    \u001b[49m\u001b[43m)\u001b[49m\n\u001b[32m   2418\u001b[39m \u001b[38;5;66;03m# Have property feature_importance possibly set\u001b[39;00m\n\u001b[32m   2419\u001b[39m loss = \u001b[38;5;28mself\u001b[39m._object._get_loss_function_name()\n",
            "\u001b[36mFile \u001b[39m\u001b[32m/usr/local/lib/python3.11/dist-packages/catboost/core.py:1790\u001b[39m, in \u001b[36m_CatBoostBase._train\u001b[39m\u001b[34m(self, train_pool, test_pool, params, allow_clear_pool, init_model)\u001b[39m\n\u001b[32m   1789\u001b[39m \u001b[38;5;28;01mdef\u001b[39;00m\u001b[38;5;250m \u001b[39m\u001b[34m_train\u001b[39m(\u001b[38;5;28mself\u001b[39m, train_pool, test_pool, params, allow_clear_pool, init_model):\n\u001b[32m-> \u001b[39m\u001b[32m1790\u001b[39m     \u001b[38;5;28;43mself\u001b[39;49m\u001b[43m.\u001b[49m\u001b[43m_object\u001b[49m\u001b[43m.\u001b[49m\u001b[43m_train\u001b[49m\u001b[43m(\u001b[49m\u001b[43mtrain_pool\u001b[49m\u001b[43m,\u001b[49m\u001b[43m \u001b[49m\u001b[43mtest_pool\u001b[49m\u001b[43m,\u001b[49m\u001b[43m \u001b[49m\u001b[43mparams\u001b[49m\u001b[43m,\u001b[49m\u001b[43m \u001b[49m\u001b[43mallow_clear_pool\u001b[49m\u001b[43m,\u001b[49m\u001b[43m \u001b[49m\u001b[43minit_model\u001b[49m\u001b[43m.\u001b[49m\u001b[43m_object\u001b[49m\u001b[43m \u001b[49m\u001b[38;5;28;43;01mif\u001b[39;49;00m\u001b[43m \u001b[49m\u001b[43minit_model\u001b[49m\u001b[43m \u001b[49m\u001b[38;5;28;43;01melse\u001b[39;49;00m\u001b[43m \u001b[49m\u001b[38;5;28;43;01mNone\u001b[39;49;00m\u001b[43m)\u001b[49m\n\u001b[32m   1791\u001b[39m     \u001b[38;5;28mself\u001b[39m._set_trained_model_attributes()\n",
            "\u001b[36mFile \u001b[39m\u001b[32m_catboost.pyx:5023\u001b[39m, in \u001b[36m_catboost._CatBoost._train\u001b[39m\u001b[34m()\u001b[39m\n",
            "\u001b[36mFile \u001b[39m\u001b[32m_catboost.pyx:5072\u001b[39m, in \u001b[36m_catboost._CatBoost._train\u001b[39m\u001b[34m()\u001b[39m\n",
            "\u001b[31mCatBoostError\u001b[39m: catboost/cuda/cuda_lib/cuda_base.h:281: CUDA error 100: no CUDA-capable device is detected"
          ]
        }
      ]
    },
    {
      "id": "b479d7e3-8634-4bff-9fe1-88e56c36762d",
      "cell_type": "code",
      "metadata": {},
      "source": [
        "# LightGBM fast 10-fold CV (numeric-only), with early stopping and faster params\n",
        "t_start = time.time()\n",
        "log('Setting up LightGBM (fast params) training...')\n",
        "import lightgbm as lgb\n",
        "\n",
        "# Features and target (after latest FE, exclude id/target/raw f_27)\n",
        "features = [c for c in train.columns if c not in [id_col, target_col, 'f_27']]\n",
        "X = train[features]\n",
        "y = train[target_col].values\n",
        "X_test = test[features]\n",
        "\n",
        "# Folds\n",
        "folds_df = pd.read_csv('folds_10fold_seed42.csv')\n",
        "folds_arr = folds_df['fold'].values\n",
        "n_splits = len(np.unique(folds_arr))\n",
        "\n",
        "# Fast params per expert guidance\n",
        "params = {\n",
        "    'objective': 'binary',\n",
        "    'metric': 'auc',\n",
        "    'boosting_type': 'gbdt',\n",
        "    'learning_rate': 0.045,\n",
        "    'num_leaves': 144,\n",
        "    'max_depth': -1,\n",
        "    'min_data_in_leaf': 240,\n",
        "    'feature_fraction': 0.75,\n",
        "    'bagging_fraction': 0.75,\n",
        "    'bagging_freq': 1,\n",
        "    'lambda_l1': 0.0,\n",
        "    'lambda_l2': 4.0,\n",
        "    'max_bin': 127,\n",
        "    'verbose': -1,\n",
        "    'n_jobs': -1,\n",
        "    'seed': SEED,\n",
        "    'feature_fraction_seed': SEED,\n",
        "    'bagging_seed': SEED,\n",
        "    'data_random_seed': SEED\n",
        "}\n",
        "\n",
        "oof_fast = np.zeros(len(train), dtype='float32')\n",
        "pred_test_fast = np.zeros(len(test), dtype='float32')\n",
        "feat_imps = []\n",
        "\n",
        "for fold in range(n_splits):\n",
        "    fold_t0 = time.time()\n",
        "    trn_idx = np.where(folds_arr != fold)[0]\n",
        "    val_idx = np.where(folds_arr == fold)[0]\n",
        "    log(f'[LGB fast] Fold {fold+1}/{n_splits} | trn={len(trn_idx)} val={len(val_idx)}')\n",
        "\n",
        "    dtrain = lgb.Dataset(X.iloc[trn_idx], label=y[trn_idx])\n",
        "    dvalid = lgb.Dataset(X.iloc[val_idx], label=y[val_idx])\n",
        "\n",
        "    model = lgb.train(\n",
        "        params,\n",
        "        dtrain,\n",
        "        num_boost_round=4000,\n",
        "        valid_sets=[dtrain, dvalid],\n",
        "        valid_names=['train','valid'],\n",
        "        callbacks=[lgb.early_stopping(120), lgb.log_evaluation(100)]\n",
        "    )\n",
        "\n",
        "    oof_fast[val_idx] = model.predict(X.iloc[val_idx], num_iteration=model.best_iteration)\n",
        "    fold_auc = roc_auc_score(y[val_idx], oof_fast[val_idx])\n",
        "    log(f'[LGB fast] Fold {fold} AUC: {fold_auc:.6f} | best_iter={model.best_iteration} | elapsed={time.time()-fold_t0:.1f}s')\n",
        "\n",
        "    pred_test_fast += model.predict(X_test, num_iteration=model.best_iteration) / n_splits\n",
        "\n",
        "    fi = pd.DataFrame({'feature': features, f'fold_{fold}': model.feature_importance(importance_type='gain')})\n",
        "    feat_imps.append(fi)\n",
        "    del dtrain, dvalid, model\n",
        "    gc.collect()\n",
        "\n",
        "cv_auc_fast = roc_auc_score(y, oof_fast)\n",
        "log(f'[LGB fast] OOF AUC: {cv_auc_fast:.6f}')\n",
        "\n",
        "# Save OOF and test preds\n",
        "pd.DataFrame({id_col: train[id_col], 'oof_lgb_fast': oof_fast}).to_csv('oof_lgb_fast_seed42.csv', index=False)\n",
        "pd.DataFrame({id_col: test[id_col], 'prediction_lgb_fast': pred_test_fast}).to_csv('pred_lgb_fast_seed42.csv', index=False)\n",
        "\n",
        "# Feature importance\n",
        "fi_merged = feat_imps[0]\n",
        "for i in range(1, len(feat_imps)):\n",
        "    fi_merged = fi_merged.merge(feat_imps[i], on='feature', how='outer')\n",
        "fi_merged.fillna(0, inplace=True)\n",
        "fi_merged['gain_mean'] = fi_merged[[c for c in fi_merged.columns if c.startswith('fold_')]].mean(axis=1)\n",
        "fi_merged.sort_values('gain_mean', ascending=False).to_csv('feature_importance_lgb_fast.csv', index=False)\n",
        "log('[LGB fast] Saved OOF, test preds, and feature importance.')\n",
        "\n",
        "# Submission\n",
        "sub = pd.read_csv('sample_submission.csv')\n",
        "sub['target'] = pred_test_fast\n",
        "sub.to_csv('submission_lgb_fast.csv', index=False)\n",
        "log(f'[LGB fast] Submission saved. Total training time: {time.time()-t_start:.1f}s')"
      ],
      "execution_count": 7,
      "outputs": [
        {
          "output_type": "stream",
          "name": "stdout",
          "text": [
            "[2025-09-11 22:16:24] Setting up LightGBM (fast params) training...\n"
          ]
        },
        {
          "output_type": "stream",
          "name": "stdout",
          "text": [
            "[2025-09-11 22:16:25] [LGB fast] Fold 1/10 | trn=720000 val=80000\n"
          ]
        },
        {
          "output_type": "stream",
          "name": "stdout",
          "text": [
            "Training until validation scores don't improve for 120 rounds\n"
          ]
        },
        {
          "output_type": "stream",
          "name": "stdout",
          "text": [
            "[100]\ttrain's auc: 0.963129\tvalid's auc: 0.960292\n"
          ]
        },
        {
          "output_type": "stream",
          "name": "stdout",
          "text": [
            "[200]\ttrain's auc: 0.978775\tvalid's auc: 0.975702\n"
          ]
        },
        {
          "output_type": "stream",
          "name": "stdout",
          "text": [
            "[300]\ttrain's auc: 0.985191\tvalid's auc: 0.981911\n"
          ]
        },
        {
          "output_type": "stream",
          "name": "stdout",
          "text": [
            "[400]\ttrain's auc: 0.98866\tvalid's auc: 0.985066\n"
          ]
        },
        {
          "output_type": "stream",
          "name": "stdout",
          "text": [
            "[500]\ttrain's auc: 0.990778\tvalid's auc: 0.986757\n"
          ]
        },
        {
          "output_type": "stream",
          "name": "stdout",
          "text": [
            "[600]\ttrain's auc: 0.992253\tvalid's auc: 0.98776\n"
          ]
        },
        {
          "output_type": "stream",
          "name": "stdout",
          "text": [
            "[700]\ttrain's auc: 0.993357\tvalid's auc: 0.988353\n"
          ]
        },
        {
          "output_type": "stream",
          "name": "stdout",
          "text": [
            "[800]\ttrain's auc: 0.994299\tvalid's auc: 0.988859\n"
          ]
        },
        {
          "output_type": "stream",
          "name": "stdout",
          "text": [
            "[900]\ttrain's auc: 0.995007\tvalid's auc: 0.98911\n"
          ]
        },
        {
          "output_type": "stream",
          "name": "stdout",
          "text": [
            "[1000]\ttrain's auc: 0.995652\tvalid's auc: 0.989373\n"
          ]
        },
        {
          "output_type": "stream",
          "name": "stdout",
          "text": [
            "[1100]\ttrain's auc: 0.996212\tvalid's auc: 0.989543\n"
          ]
        },
        {
          "output_type": "stream",
          "name": "stdout",
          "text": [
            "[1200]\ttrain's auc: 0.9967\tvalid's auc: 0.98969\n"
          ]
        },
        {
          "output_type": "stream",
          "name": "stdout",
          "text": [
            "[1300]\ttrain's auc: 0.997133\tvalid's auc: 0.98981\n"
          ]
        },
        {
          "output_type": "stream",
          "name": "stdout",
          "text": [
            "[1400]\ttrain's auc: 0.997516\tvalid's auc: 0.989907\n"
          ]
        },
        {
          "output_type": "stream",
          "name": "stdout",
          "text": [
            "[1500]\ttrain's auc: 0.997859\tvalid's auc: 0.98998\n"
          ]
        },
        {
          "output_type": "stream",
          "name": "stdout",
          "text": [
            "[1600]\ttrain's auc: 0.998162\tvalid's auc: 0.990095\n"
          ]
        },
        {
          "output_type": "stream",
          "name": "stdout",
          "text": [
            "[1700]\ttrain's auc: 0.998437\tvalid's auc: 0.990213\n"
          ]
        },
        {
          "output_type": "stream",
          "name": "stdout",
          "text": [
            "[1800]\ttrain's auc: 0.998667\tvalid's auc: 0.990284\n"
          ]
        },
        {
          "output_type": "stream",
          "name": "stdout",
          "text": [
            "[1900]\ttrain's auc: 0.998875\tvalid's auc: 0.990336\n"
          ]
        },
        {
          "output_type": "stream",
          "name": "stdout",
          "text": [
            "[2000]\ttrain's auc: 0.99905\tvalid's auc: 0.990377\n"
          ]
        },
        {
          "output_type": "stream",
          "name": "stdout",
          "text": [
            "[2100]\ttrain's auc: 0.999202\tvalid's auc: 0.990441\n"
          ]
        },
        {
          "output_type": "stream",
          "name": "stdout",
          "text": [
            "[2200]\ttrain's auc: 0.999332\tvalid's auc: 0.990491\n"
          ]
        },
        {
          "output_type": "stream",
          "name": "stdout",
          "text": [
            "[2300]\ttrain's auc: 0.999444\tvalid's auc: 0.99053\n"
          ]
        },
        {
          "output_type": "stream",
          "name": "stdout",
          "text": [
            "[2400]\ttrain's auc: 0.999539\tvalid's auc: 0.990579\n"
          ]
        },
        {
          "output_type": "stream",
          "name": "stdout",
          "text": [
            "[2500]\ttrain's auc: 0.99962\tvalid's auc: 0.99061\n"
          ]
        },
        {
          "output_type": "stream",
          "name": "stdout",
          "text": [
            "[2600]\ttrain's auc: 0.999689\tvalid's auc: 0.99063\n"
          ]
        },
        {
          "output_type": "stream",
          "name": "stdout",
          "text": [
            "[2700]\ttrain's auc: 0.999748\tvalid's auc: 0.990643\n"
          ]
        },
        {
          "output_type": "stream",
          "name": "stdout",
          "text": [
            "[2800]\ttrain's auc: 0.999795\tvalid's auc: 0.990694\n"
          ]
        },
        {
          "output_type": "stream",
          "name": "stdout",
          "text": [
            "[2900]\ttrain's auc: 0.999835\tvalid's auc: 0.99073\n"
          ]
        },
        {
          "output_type": "stream",
          "name": "stdout",
          "text": [
            "[3000]\ttrain's auc: 0.999869\tvalid's auc: 0.990756\n"
          ]
        },
        {
          "output_type": "stream",
          "name": "stdout",
          "text": [
            "[3100]\ttrain's auc: 0.999897\tvalid's auc: 0.990781\n"
          ]
        },
        {
          "output_type": "stream",
          "name": "stdout",
          "text": [
            "[3200]\ttrain's auc: 0.999917\tvalid's auc: 0.990825\n"
          ]
        },
        {
          "output_type": "stream",
          "name": "stdout",
          "text": [
            "[3300]\ttrain's auc: 0.999936\tvalid's auc: 0.99083\n"
          ]
        },
        {
          "output_type": "stream",
          "name": "stdout",
          "text": [
            "[3400]\ttrain's auc: 0.99995\tvalid's auc: 0.990855\n"
          ]
        },
        {
          "output_type": "stream",
          "name": "stdout",
          "text": [
            "[3500]\ttrain's auc: 0.999962\tvalid's auc: 0.990875\n"
          ]
        },
        {
          "output_type": "stream",
          "name": "stdout",
          "text": [
            "[3600]\ttrain's auc: 0.999971\tvalid's auc: 0.990887\n"
          ]
        },
        {
          "output_type": "stream",
          "name": "stdout",
          "text": [
            "[3700]\ttrain's auc: 0.999978\tvalid's auc: 0.990896\n"
          ]
        },
        {
          "output_type": "stream",
          "name": "stdout",
          "text": [
            "[3800]\ttrain's auc: 0.999984\tvalid's auc: 0.99091\n"
          ]
        },
        {
          "output_type": "stream",
          "name": "stdout",
          "text": [
            "[3900]\ttrain's auc: 0.999988\tvalid's auc: 0.990928\n"
          ]
        },
        {
          "output_type": "stream",
          "name": "stdout",
          "text": [
            "[4000]\ttrain's auc: 0.999991\tvalid's auc: 0.990945\nDid not meet early stopping. Best iteration is:\n[3988]\ttrain's auc: 0.999991\tvalid's auc: 0.990946\n"
          ]
        },
        {
          "output_type": "stream",
          "name": "stdout",
          "text": [
            "[2025-09-11 22:21:54] [LGB fast] Fold 0 AUC: 0.990946 | best_iter=3988 | elapsed=329.4s\n"
          ]
        },
        {
          "output_type": "stream",
          "name": "stdout",
          "text": [
            "[2025-09-11 22:21:57] [LGB fast] Fold 2/10 | trn=720000 val=80000\n"
          ]
        },
        {
          "output_type": "stream",
          "name": "stdout",
          "text": [
            "Training until validation scores don't improve for 120 rounds\n"
          ]
        },
        {
          "output_type": "stream",
          "name": "stdout",
          "text": [
            "[100]\ttrain's auc: 0.96225\tvalid's auc: 0.959773\n"
          ]
        },
        {
          "output_type": "stream",
          "name": "stdout",
          "text": [
            "[200]\ttrain's auc: 0.978622\tvalid's auc: 0.975583\n"
          ]
        },
        {
          "output_type": "stream",
          "name": "stdout",
          "text": [
            "[300]\ttrain's auc: 0.98525\tvalid's auc: 0.981932\n"
          ]
        },
        {
          "output_type": "stream",
          "name": "stdout",
          "text": [
            "[400]\ttrain's auc: 0.988718\tvalid's auc: 0.985092\n"
          ]
        },
        {
          "output_type": "stream",
          "name": "stdout",
          "text": [
            "[500]\ttrain's auc: 0.990859\tvalid's auc: 0.986842\n"
          ]
        },
        {
          "output_type": "stream",
          "name": "stdout",
          "text": [
            "[600]\ttrain's auc: 0.992316\tvalid's auc: 0.987828\n"
          ]
        },
        {
          "output_type": "stream",
          "name": "stdout",
          "text": [
            "[700]\ttrain's auc: 0.993383\tvalid's auc: 0.988363\n"
          ]
        },
        {
          "output_type": "stream",
          "name": "stdout",
          "text": [
            "[800]\ttrain's auc: 0.994274\tvalid's auc: 0.988781\n"
          ]
        },
        {
          "output_type": "stream",
          "name": "stdout",
          "text": [
            "[900]\ttrain's auc: 0.995059\tvalid's auc: 0.98919\n"
          ]
        },
        {
          "output_type": "stream",
          "name": "stdout",
          "text": [
            "[1000]\ttrain's auc: 0.995695\tvalid's auc: 0.989431\n"
          ]
        },
        {
          "output_type": "stream",
          "name": "stdout",
          "text": [
            "[1100]\ttrain's auc: 0.996253\tvalid's auc: 0.989583\n"
          ]
        },
        {
          "output_type": "stream",
          "name": "stdout",
          "text": [
            "[1200]\ttrain's auc: 0.996737\tvalid's auc: 0.989698\n"
          ]
        },
        {
          "output_type": "stream",
          "name": "stdout",
          "text": [
            "[1300]\ttrain's auc: 0.997186\tvalid's auc: 0.98987\n"
          ]
        },
        {
          "output_type": "stream",
          "name": "stdout",
          "text": [
            "[1400]\ttrain's auc: 0.997565\tvalid's auc: 0.989989\n"
          ]
        },
        {
          "output_type": "stream",
          "name": "stdout",
          "text": [
            "[1500]\ttrain's auc: 0.997909\tvalid's auc: 0.990061\n"
          ]
        },
        {
          "output_type": "stream",
          "name": "stdout",
          "text": [
            "[1600]\ttrain's auc: 0.998196\tvalid's auc: 0.990127\n"
          ]
        },
        {
          "output_type": "stream",
          "name": "stdout",
          "text": [
            "[1700]\ttrain's auc: 0.998456\tvalid's auc: 0.990171\n"
          ]
        },
        {
          "output_type": "stream",
          "name": "stdout",
          "text": [
            "[1800]\ttrain's auc: 0.998683\tvalid's auc: 0.990239\n"
          ]
        },
        {
          "output_type": "stream",
          "name": "stdout",
          "text": [
            "[1900]\ttrain's auc: 0.998882\tvalid's auc: 0.990302\n"
          ]
        },
        {
          "output_type": "stream",
          "name": "stdout",
          "text": [
            "[2000]\ttrain's auc: 0.999057\tvalid's auc: 0.990357\n"
          ]
        },
        {
          "output_type": "stream",
          "name": "stdout",
          "text": [
            "[2100]\ttrain's auc: 0.999206\tvalid's auc: 0.990414\n"
          ]
        },
        {
          "output_type": "stream",
          "name": "stdout",
          "text": [
            "[2200]\ttrain's auc: 0.999335\tvalid's auc: 0.990468\n"
          ]
        },
        {
          "output_type": "stream",
          "name": "stdout",
          "text": [
            "[2300]\ttrain's auc: 0.999448\tvalid's auc: 0.990515\n"
          ]
        },
        {
          "output_type": "stream",
          "name": "stdout",
          "text": [
            "[2400]\ttrain's auc: 0.999544\tvalid's auc: 0.990538\n"
          ]
        },
        {
          "output_type": "stream",
          "name": "stdout",
          "text": [
            "[2500]\ttrain's auc: 0.999626\tvalid's auc: 0.990574\n"
          ]
        },
        {
          "output_type": "stream",
          "name": "stdout",
          "text": [
            "[2600]\ttrain's auc: 0.999695\tvalid's auc: 0.990617\n"
          ]
        },
        {
          "output_type": "stream",
          "name": "stdout",
          "text": [
            "[2700]\ttrain's auc: 0.999755\tvalid's auc: 0.990659\n"
          ]
        },
        {
          "output_type": "stream",
          "name": "stdout",
          "text": [
            "[2800]\ttrain's auc: 0.999803\tvalid's auc: 0.990682\n"
          ]
        },
        {
          "output_type": "stream",
          "name": "stdout",
          "text": [
            "[2900]\ttrain's auc: 0.999841\tvalid's auc: 0.990715\n"
          ]
        },
        {
          "output_type": "stream",
          "name": "stdout",
          "text": [
            "[3000]\ttrain's auc: 0.999873\tvalid's auc: 0.990746\n"
          ]
        },
        {
          "output_type": "stream",
          "name": "stdout",
          "text": [
            "[3100]\ttrain's auc: 0.999899\tvalid's auc: 0.990778\n"
          ]
        },
        {
          "output_type": "stream",
          "name": "stdout",
          "text": [
            "[3200]\ttrain's auc: 0.999921\tvalid's auc: 0.990804\n"
          ]
        },
        {
          "output_type": "stream",
          "name": "stdout",
          "text": [
            "[3300]\ttrain's auc: 0.999938\tvalid's auc: 0.990828\n"
          ]
        },
        {
          "output_type": "stream",
          "name": "stdout",
          "text": [
            "[3400]\ttrain's auc: 0.999952\tvalid's auc: 0.990867\n"
          ]
        },
        {
          "output_type": "stream",
          "name": "stdout",
          "text": [
            "[3500]\ttrain's auc: 0.999963\tvalid's auc: 0.99087\n"
          ]
        },
        {
          "output_type": "stream",
          "name": "stdout",
          "text": [
            "[3600]\ttrain's auc: 0.999973\tvalid's auc: 0.990873\n"
          ]
        },
        {
          "output_type": "stream",
          "name": "stdout",
          "text": [
            "Early stopping, best iteration is:\n[3535]\ttrain's auc: 0.999967\tvalid's auc: 0.990879\n"
          ]
        },
        {
          "output_type": "stream",
          "name": "stdout",
          "text": [
            "[2025-09-11 22:27:04] [LGB fast] Fold 1 AUC: 0.990879 | best_iter=3535 | elapsed=306.8s\n"
          ]
        },
        {
          "output_type": "stream",
          "name": "stdout",
          "text": [
            "[2025-09-11 22:27:06] [LGB fast] Fold 3/10 | trn=720000 val=80000\n"
          ]
        },
        {
          "output_type": "stream",
          "name": "stdout",
          "text": [
            "Training until validation scores don't improve for 120 rounds\n"
          ]
        },
        {
          "output_type": "stream",
          "name": "stdout",
          "text": [
            "[100]\ttrain's auc: 0.961317\tvalid's auc: 0.958583\n"
          ]
        },
        {
          "output_type": "stream",
          "name": "stdout",
          "text": [
            "[200]\ttrain's auc: 0.978655\tvalid's auc: 0.975542\n"
          ]
        },
        {
          "output_type": "stream",
          "name": "stdout",
          "text": [
            "[300]\ttrain's auc: 0.985395\tvalid's auc: 0.982038\n"
          ]
        },
        {
          "output_type": "stream",
          "name": "stdout",
          "text": [
            "[400]\ttrain's auc: 0.988786\tvalid's auc: 0.98512\n"
          ]
        },
        {
          "output_type": "stream",
          "name": "stdout",
          "text": [
            "[500]\ttrain's auc: 0.990899\tvalid's auc: 0.986881\n"
          ]
        },
        {
          "output_type": "stream",
          "name": "stdout",
          "text": [
            "[600]\ttrain's auc: 0.992315\tvalid's auc: 0.987885\n"
          ]
        },
        {
          "output_type": "stream",
          "name": "stdout",
          "text": [
            "[700]\ttrain's auc: 0.993409\tvalid's auc: 0.988478\n"
          ]
        },
        {
          "output_type": "stream",
          "name": "stdout",
          "text": [
            "[800]\ttrain's auc: 0.994279\tvalid's auc: 0.988868\n"
          ]
        },
        {
          "output_type": "stream",
          "name": "stdout",
          "text": [
            "[900]\ttrain's auc: 0.995037\tvalid's auc: 0.989245\n"
          ]
        },
        {
          "output_type": "stream",
          "name": "stdout",
          "text": [
            "[1000]\ttrain's auc: 0.995671\tvalid's auc: 0.989459\n"
          ]
        },
        {
          "output_type": "stream",
          "name": "stdout",
          "text": [
            "[1100]\ttrain's auc: 0.99624\tvalid's auc: 0.989639\n"
          ]
        },
        {
          "output_type": "stream",
          "name": "stdout",
          "text": [
            "[1200]\ttrain's auc: 0.996741\tvalid's auc: 0.989816\n"
          ]
        },
        {
          "output_type": "stream",
          "name": "stdout",
          "text": [
            "[1300]\ttrain's auc: 0.997181\tvalid's auc: 0.989976\n"
          ]
        },
        {
          "output_type": "stream",
          "name": "stdout",
          "text": [
            "[1400]\ttrain's auc: 0.997563\tvalid's auc: 0.990079\n"
          ]
        },
        {
          "output_type": "stream",
          "name": "stdout",
          "text": [
            "[1500]\ttrain's auc: 0.997899\tvalid's auc: 0.990141\n"
          ]
        },
        {
          "output_type": "stream",
          "name": "stdout",
          "text": [
            "[1600]\ttrain's auc: 0.998191\tvalid's auc: 0.990227\n"
          ]
        },
        {
          "output_type": "stream",
          "name": "stdout",
          "text": [
            "[1700]\ttrain's auc: 0.998449\tvalid's auc: 0.990275\n"
          ]
        },
        {
          "output_type": "stream",
          "name": "stdout",
          "text": [
            "[1800]\ttrain's auc: 0.998676\tvalid's auc: 0.990338\n"
          ]
        },
        {
          "output_type": "stream",
          "name": "stdout",
          "text": [
            "[1900]\ttrain's auc: 0.998869\tvalid's auc: 0.990405\n"
          ]
        },
        {
          "output_type": "stream",
          "name": "stdout",
          "text": [
            "[2000]\ttrain's auc: 0.999042\tvalid's auc: 0.990423\n"
          ]
        },
        {
          "output_type": "stream",
          "name": "stdout",
          "text": [
            "[2100]\ttrain's auc: 0.999191\tvalid's auc: 0.990486\n"
          ]
        },
        {
          "output_type": "stream",
          "name": "stdout",
          "text": [
            "[2200]\ttrain's auc: 0.999327\tvalid's auc: 0.990542\n"
          ]
        },
        {
          "output_type": "stream",
          "name": "stdout",
          "text": [
            "[2300]\ttrain's auc: 0.99944\tvalid's auc: 0.990591\n"
          ]
        },
        {
          "output_type": "stream",
          "name": "stdout",
          "text": [
            "[2400]\ttrain's auc: 0.999537\tvalid's auc: 0.990621\n"
          ]
        },
        {
          "output_type": "stream",
          "name": "stdout",
          "text": [
            "[2500]\ttrain's auc: 0.999617\tvalid's auc: 0.990649\n"
          ]
        },
        {
          "output_type": "stream",
          "name": "stdout",
          "text": [
            "[2600]\ttrain's auc: 0.999688\tvalid's auc: 0.990666\n"
          ]
        },
        {
          "output_type": "stream",
          "name": "stdout",
          "text": [
            "[2700]\ttrain's auc: 0.999748\tvalid's auc: 0.99071\n"
          ]
        },
        {
          "output_type": "stream",
          "name": "stdout",
          "text": [
            "[2800]\ttrain's auc: 0.999796\tvalid's auc: 0.990745\n"
          ]
        },
        {
          "output_type": "stream",
          "name": "stdout",
          "text": [
            "[2900]\ttrain's auc: 0.999837\tvalid's auc: 0.99076\n"
          ]
        },
        {
          "output_type": "stream",
          "name": "stdout",
          "text": [
            "[3000]\ttrain's auc: 0.99987\tvalid's auc: 0.990782\n"
          ]
        },
        {
          "output_type": "stream",
          "name": "stdout",
          "text": [
            "[3100]\ttrain's auc: 0.999896\tvalid's auc: 0.99081\n"
          ]
        },
        {
          "output_type": "stream",
          "name": "stdout",
          "text": [
            "[3200]\ttrain's auc: 0.999919\tvalid's auc: 0.990819\n"
          ]
        },
        {
          "output_type": "stream",
          "name": "stdout",
          "text": [
            "[3300]\ttrain's auc: 0.999937\tvalid's auc: 0.990833\n"
          ]
        },
        {
          "output_type": "stream",
          "name": "stdout",
          "text": [
            "[3400]\ttrain's auc: 0.999951\tvalid's auc: 0.99086\n"
          ]
        },
        {
          "output_type": "stream",
          "name": "stdout",
          "text": [
            "[3500]\ttrain's auc: 0.999962\tvalid's auc: 0.990883\n"
          ]
        }
      ]
    },
    {
      "id": "8662ea83-45f1-41b5-95a2-127cfdcb9cb4",
      "cell_type": "code",
      "metadata": {},
      "source": [
        "# Blend OOF to optimize weights; produce blended submission\n",
        "log('Setting up blending between LGB fast and CatBoost...')\n",
        "import numpy as np, pandas as pd\n",
        "from sklearn.metrics import roc_auc_score\n",
        "\n",
        "def load_oof_pred(oof_path, col_name):\n",
        "    df = pd.read_csv(oof_path)\n",
        "    if col_name not in df.columns:\n",
        "        # assume last column is the prediction\n",
        "        pred_col = [c for c in df.columns if c != id_col][0]\n",
        "    else:\n",
        "        pred_col = col_name\n",
        "    return df[[id_col, pred_col]].rename(columns={pred_col: 'pred'})\n",
        "\n",
        "def load_test_pred(pred_path, col_name):\n",
        "    df = pd.read_csv(pred_path)\n",
        "    if col_name not in df.columns:\n",
        "        pred_col = [c for c in df.columns if c != id_col][0]\n",
        "    else:\n",
        "        pred_col = col_name\n",
        "    return df[[id_col, pred_col]].rename(columns={pred_col: 'pred'})\n",
        "\n",
        "oof_lgb_path = 'oof_lgb_fast_seed42.csv'\n",
        "pred_lgb_path = 'pred_lgb_fast_seed42.csv'\n",
        "oof_cb_path = 'oof_catboost_seed42.csv'\n",
        "pred_cb_path = 'pred_catboost_seed42.csv'\n",
        "\n",
        "# Wait-safe loads (one may not exist yet)\n",
        "oof_lgb = load_oof_pred(oof_lgb_path, 'oof_lgb_fast') if os.path.exists(oof_lgb_path) else None\n",
        "pred_lgb = load_test_pred(pred_lgb_path, 'prediction_lgb_fast') if os.path.exists(pred_lgb_path) else None\n",
        "oof_cb = load_oof_pred(oof_cb_path, 'oof_cb') if os.path.exists(oof_cb_path) else None\n",
        "pred_cb = load_test_pred(pred_cb_path, 'prediction_cb') if os.path.exists(pred_cb_path) else None\n",
        "\n",
        "if (oof_lgb is None) or (pred_lgb is None):\n",
        "    log('LGB predictions not found yet; run LGB first.')\n",
        "else:\n",
        "    # Merge with ground truth\n",
        "    gt = train[[id_col, target_col]].copy()\n",
        "    oof = gt.merge(oof_lgb, on=id_col, how='left').rename(columns={'pred': 'lgb'})\n",
        "    have_cb = (oof_cb is not None) and (pred_cb is not None)\n",
        "    if have_cb:\n",
        "        oof = oof.merge(oof_cb.rename(columns={'pred': 'cb'}), on=id_col, how='left')\n",
        "    else:\n",
        "        oof['cb'] = np.nan\n",
        "\n",
        "    # Rank transform helper\n",
        "    def rank_norm(x):\n",
        "        r = pd.Series(x).rank(method='average').values\n",
        "        return (r - 1) / (len(r) - 1)\n",
        "\n",
        "    best_auc = 0.0\n",
        "    best_w = None\n",
        "    oof['lgb_r'] = rank_norm(oof['lgb'])\n",
        "    if have_cb:\n",
        "        oof['cb_r'] = rank_norm(oof['cb'])\n",
        "\n",
        "    # Grid search weights (0..1, step 0.05). If CB missing, just evaluate LGB.\n",
        "    weights = np.linspace(0.0, 1.0, 21) if have_cb else [1.0]\n",
        "    for w in weights:\n",
        "        if have_cb:\n",
        "            blend = w * oof['lgb'] + (1 - w) * oof['cb']\n",
        "            blend_r = w * oof['lgb_r'] + (1 - w) * oof['cb_r']\n",
        "        else:\n",
        "            blend = oof['lgb']\n",
        "            blend_r = oof['lgb_r']\n",
        "        auc = roc_auc_score(oof[target_col], blend)\n",
        "        auc_r = roc_auc_score(oof[target_col], blend_r)\n",
        "        if auc > best_auc:\n",
        "            best_auc = auc\n",
        "            best_w = ('prob', float(w))\n",
        "            best_mode = 'prob'\n",
        "            best_is_rank = False\n",
        "            best_auc_r = auc_r\n",
        "        if auc_r > best_auc:\n",
        "            best_auc = auc_r\n",
        "            best_w = ('rank', float(w))\n",
        "            best_mode = 'rank'\n",
        "            best_is_rank = True\n",
        "            best_auc_r = auc_r\n",
        "\n",
        "    log(f\"Blending search done. Best OOF AUC={best_auc:.6f} | mode={best_mode} | w_lgb={best_w[1] if best_w else 1.0}\")\n",
        "\n",
        "    # Build test blend\n",
        "    sub = pd.read_csv('sample_submission.csv')\n",
        "    test_merge = sub[[id_col]].merge(pred_lgb.rename(columns={'pred': 'lgb'}), on=id_col, how='left')\n",
        "    if have_cb:\n",
        "        test_merge = test_merge.merge(pred_cb.rename(columns={'pred': 'cb'}), on=id_col, how='left')\n",
        "    else:\n",
        "        test_merge['cb'] = np.nan\n",
        "\n",
        "    if (best_w is None) or (not have_cb):\n",
        "        # Fallback to LGB only\n",
        "        sub['target'] = test_merge['lgb'].astype('float32')\n",
        "        sub.to_csv('submission_blend.csv', index=False)\n",
        "        sub.to_csv('submission.csv', index=False)\n",
        "        log('Saved submission_blend.csv and submission.csv using LGB only (CB not available).')\n",
        "    else:\n",
        "        w = best_w[1]\n",
        "        if best_mode == 'prob':\n",
        "            pred_blend = w * test_merge['lgb'].values + (1 - w) * test_merge['cb'].values\n",
        "        else:\n",
        "            # rank-average\n",
        "            rl = pd.Series(test_merge['lgb']).rank(method='average').values\n",
        "            rc = pd.Series(test_merge['cb']).rank(method='average').values\n",
        "            rl = (rl - 1) / (len(rl) - 1)\n",
        "            rc = (rc - 1) / (len(rc) - 1)\n",
        "            pred_blend = w * rl + (1 - w) * rc\n",
        "        sub['target'] = pred_blend.astype('float32')\n",
        "        sub.to_csv('submission_blend.csv', index=False)\n",
        "        sub.to_csv('submission.csv', index=False)\n",
        "        log('Saved submission_blend.csv and submission.csv with optimized blend.')"
      ],
      "execution_count": null,
      "outputs": []
    },
    {
      "id": "326a7bae-15f7-4065-ab74-562f50ac5469",
      "cell_type": "code",
      "metadata": {},
      "source": [
        "# Validate submission.csv format; fix if needed\n",
        "log('Validating submission.csv...')\n",
        "sub = pd.read_csv('submission.csv') if os.path.exists('submission.csv') else None\n",
        "issues = []\n",
        "if sub is None:\n",
        "    issues.append('submission.csv missing')\n",
        "else:\n",
        "    # Basic checks\n",
        "    if list(sub.columns) != ['id', 'target']:\n",
        "        issues.append(f'Bad columns: {list(sub.columns)}')\n",
        "    if len(sub) != len(test):\n",
        "        issues.append(f'Row count mismatch: {len(sub)} vs test {len(test)}')\n",
        "    if sub['target'].isna().any():\n",
        "        issues.append(f'NaNs in target: {int(sub[\"target\"].isna().sum())}')\n",
        "    # dtype: ensure float\n",
        "    try:\n",
        "        sub['target'] = sub['target'].astype('float32')\n",
        "    except Exception as e:\n",
        "        issues.append(f'target casting error: {e}')\n",
        "\n",
        "if issues:\n",
        "    log('Issues found: ' + '; '.join(issues))\n",
        "    # Rebuild from LGB fast preds directly\n",
        "    log('Rebuilding submission.csv from pred_lgb_fast_seed42.csv...')\n",
        "    pred_lgb = pd.read_csv('pred_lgb_fast_seed42.csv')\n",
        "    # Align and sanity\n",
        "    pred_lgb = pred_lgb.rename(columns={pred_lgb.columns[1]: 'prediction_lgb_fast'})\n",
        "    ss = pd.read_csv('sample_submission.csv')\n",
        "    merge = ss[['id']].merge(pred_lgb.rename(columns={'prediction_lgb_fast':'target'}), on='id', how='left')\n",
        "    if merge['target'].isna().any():\n",
        "        missing = int(merge['target'].isna().sum())\n",
        "        raise ValueError(f'Missing predictions for {missing} test rows after rebuild.')\n",
        "    merge['target'] = merge['target'].astype('float32')\n",
        "    merge.to_csv('submission.csv', index=False)\n",
        "    log('submission.csv rebuilt from LGB fast preds.')\n",
        "else:\n",
        "    log('submission.csv looks valid: ' + f\"shape={sub.shape}, dtypes={dict(sub.dtypes)}\")"
      ],
      "execution_count": 26,
      "outputs": [
        {
          "output_type": "stream",
          "name": "stdout",
          "text": [
            "[2025-09-12 02:03:09] Validating submission.csv...\n"
          ]
        },
        {
          "output_type": "stream",
          "name": "stdout",
          "text": [
            "[2025-09-12 02:03:09] submission.csv looks valid: shape=(100000, 2), dtypes={'id': dtype('int64'), 'target': dtype('float32')}\n"
          ]
        }
      ]
    },
    {
      "id": "5ddd2c55-823d-4be4-81ff-dbc953f99c33",
      "cell_type": "code",
      "metadata": {},
      "source": [
        "# Force-rebuild submission.csv strictly aligned to sample_submission; ensure finite [0,1] float64\n",
        "log('Rebuilding submission.csv strictly to avoid format issues...')\n",
        "ss = pd.read_csv('sample_submission.csv')\n",
        "pred = pd.read_csv('pred_lgb_fast_seed42.csv')\n",
        "# Identify prediction column (second column)\n",
        "pred_col = [c for c in pred.columns if c != 'id']\n",
        "assert len(pred_col) == 1, f'Unexpected pred columns: {pred.columns.tolist()}'\n",
        "# Rename to avoid clash with ss.target during merge\n",
        "pred = pred.rename(columns={pred_col[0]: 'prediction'})\n",
        "# Left-merge to preserve order and count from sample_submission (use only id to avoid duplicate target columns)\n",
        "sub = ss[['id']].merge(pred, on='id', how='left')\n",
        "missing = sub['prediction'].isna().sum()\n",
        "if missing > 0:\n",
        "    raise ValueError(f'Missing predictions for {missing} test rows after strict rebuild.')\n",
        "# Ensure numeric, finite, and in [0,1]\n",
        "sub['target'] = pd.to_numeric(sub['prediction'], errors='coerce')\n",
        "if sub['target'].isna().any():\n",
        "    raise ValueError('NaNs found after numeric conversion.')\n",
        "sub['target'] = sub['target'].astype('float64').clip(0.0, 1.0)\n",
        "sub = sub[['id', 'target']]\n",
        "# Final save\n",
        "sub.to_csv('submission.csv', index=False)\n",
        "log('Strict submission.csv rebuilt and saved: ' + f\"shape={sub.shape}, dtypes={dict(sub.dtypes)}\")"
      ],
      "execution_count": 8,
      "outputs": [
        {
          "output_type": "stream",
          "name": "stdout",
          "text": [
            "[2025-09-11 22:32:20] Rebuilding submission.csv strictly to avoid format issues...\n"
          ]
        },
        {
          "output_type": "stream",
          "name": "stdout",
          "text": [
            "[2025-09-11 22:32:21] Strict submission.csv rebuilt and saved: shape=(100000, 2), dtypes={'id': dtype('int64'), 'target': dtype('float64')}\n"
          ]
        }
      ]
    },
    {
      "id": "b3ff068b-3fb2-47f0-a816-c514d846133d",
      "cell_type": "code",
      "metadata": {},
      "source": [
        "# Minimal, high-impact FE block (sorted stats, equality count, parity, f27 majority)\n",
        "log('Adding minimal high-impact features (sorted stats, equality count, parity, f27 majority)...')\n",
        "t0 = time.time()\n",
        "\n",
        "# 1) Row-wise numeric sorting stats\n",
        "num_float_cols = [c for c in train.columns if (c not in [id_col, target_col, 'f_27']) and (str(train[c].dtype).startswith('float')) and c.startswith('f_')]\n",
        "if len(num_float_cols) > 0:\n",
        "    vals_tr = train[num_float_cols].values\n",
        "    vals_te = test[num_float_cols].values\n",
        "    srt_tr = np.sort(vals_tr, axis=1)\n",
        "    srt_te = np.sort(vals_te, axis=1)\n",
        "    train['f_sorted_0'] = srt_tr[:, 0].astype('float32')\n",
        "    train['f_sorted_1'] = srt_tr[:, 1].astype('float32')\n",
        "    train['f_sorted_-1'] = srt_tr[:, -1].astype('float32')\n",
        "    train['f_sorted_range'] = (srt_tr[:, -1] - srt_tr[:, 0]).astype('float32')\n",
        "    test['f_sorted_0'] = srt_te[:, 0].astype('float32')\n",
        "    test['f_sorted_1'] = srt_te[:, 1].astype('float32')\n",
        "    test['f_sorted_-1'] = srt_te[:, -1].astype('float32')\n",
        "    test['f_sorted_range'] = (srt_te[:, -1] - srt_te[:, 0]).astype('float32')\n",
        "\n",
        "# 2) Pairwise equality count over subset of strong numerics\n",
        "num_list = ['f_00','f_01','f_02','f_03','f_05','f_06','f_10','f_12','f_20','f_21','f_22','f_26']\n",
        "num_list = [c for c in num_list if c in train.columns and c in test.columns]\n",
        "if len(num_list) >= 2:\n",
        "    M_tr = train[num_list].values\n",
        "    M_te = test[num_list].values\n",
        "    from itertools import combinations\n",
        "    def eq_pairs(M):\n",
        "        n = M.shape[0]\n",
        "        cnt = np.zeros(n, dtype=np.int16)\n",
        "        for i, j in combinations(range(M.shape[1]), 2):\n",
        "            cnt += (np.abs(M[:, i] - M[:, j]) < 1e-6)\n",
        "        return cnt\n",
        "    train['num_equal_pairs'] = eq_pairs(M_tr)\n",
        "    test['num_equal_pairs'] = eq_pairs(M_te)\n",
        "\n",
        "# 3) Quick parity/mod on a few columns\n",
        "for c in ['f_00','f_02','f_10','f_20','f_21','f_26']:\n",
        "    if c in train.columns and c in test.columns:\n",
        "        train[f'{c}_parity'] = (train[c].astype('int64') & 1).astype('int8')\n",
        "        test[f'{c}_parity'] = (test[c].astype('int64') & 1).astype('int8')\n",
        "\n",
        "# 4) f_27 majority count and index (recompute counts from positions)\n",
        "pos_cols = [f'f_27_pos_{i}' for i in range(10)]\n",
        "if all(c in train.columns for c in pos_cols):\n",
        "    P_tr = np.stack([train[c].astype('int16').values for c in pos_cols], axis=1)\n",
        "    P_te = np.stack([test[c].astype('int16').values for c in pos_cols], axis=1)\n",
        "    vocab_size = len(sorted(set(''.join(pd.concat([train['f_27'], test['f_27']]).astype(str).values))))\n",
        "    def counts_from_positions(P, vocab_size):\n",
        "        n = P.shape[0]\n",
        "        CNT = np.zeros((n, vocab_size), dtype=np.int16)\n",
        "        for k in range(P.shape[1]):\n",
        "            CNT[np.arange(n), P[:, k]] += 1\n",
        "        return CNT\n",
        "    CNT_tr = counts_from_positions(P_tr, vocab_size)\n",
        "    CNT_te = counts_from_positions(P_te, vocab_size)\n",
        "    train['f27_majority_cnt'] = CNT_tr.max(axis=1).astype('int8')\n",
        "    train['f27_majority_idx'] = CNT_tr.argmax(axis=1).astype('int8')\n",
        "    test['f27_majority_cnt'] = CNT_te.max(axis=1).astype('int8')\n",
        "    test['f27_majority_idx'] = CNT_te.argmax(axis=1).astype('int8')\n",
        "\n",
        "log(f'Added minimal FE in {time.time()-t0:.2f}s | train cols={train.shape[1]}')\n",
        "gc.collect();"
      ],
      "execution_count": 6,
      "outputs": [
        {
          "output_type": "stream",
          "name": "stdout",
          "text": [
            "[2025-09-11 22:16:17] Adding minimal high-impact features (sorted stats, equality count, parity, f27 majority)...\n"
          ]
        },
        {
          "output_type": "stream",
          "name": "stdout",
          "text": [
            "[2025-09-11 22:16:18] Added minimal FE in 1.25s | train cols=165\n"
          ]
        }
      ]
    },
    {
      "id": "2503e468-333c-48f4-9371-e4359934605e",
      "cell_type": "code",
      "metadata": {},
      "source": [
        "# XGBoost CPU 10-fold CV training, OOF/test preds, for blending (use xgb.train for broad version compatibility)\n",
        "log('Setting up XGBoost (CPU, hist) training...')\n",
        "t0_all = time.time()\n",
        "try:\n",
        "    import xgboost as xgb\n",
        "except ImportError:\n",
        "    import sys, subprocess\n",
        "    log('XGBoost not found. Installing...')\n",
        "    subprocess.check_call([sys.executable, '-m', 'pip', 'install', '-q', 'xgboost'])\n",
        "    import xgboost as xgb\n",
        "\n",
        "# Features/target (same 165-feature set; exclude id/target/raw f_27)\n",
        "features = [c for c in train.columns if c not in [id_col, target_col, 'f_27']]\n",
        "X = train[features]\n",
        "y = train[target_col].values\n",
        "X_test = test[features]\n",
        "\n",
        "# Folds (locked)\n",
        "folds_df = pd.read_csv('folds_10fold_seed42.csv')\n",
        "folds_arr = folds_df['fold'].values\n",
        "n_splits = len(np.unique(folds_arr))\n",
        "\n",
        "# Params per expert guidance (CPU) mapped for xgb.train\n",
        "xgb_params = {\n",
        "    'objective': 'binary:logistic',\n",
        "    'eval_metric': 'auc',\n",
        "    'tree_method': 'hist',\n",
        "    'max_bin': 128,\n",
        "    'eta': 0.04,                 # learning_rate\n",
        "    'max_depth': 8,\n",
        "    'min_child_weight': 100,\n",
        "    'subsample': 0.75,\n",
        "    'colsample_bytree': 0.75,\n",
        "    'lambda': 3.0,               # reg_lambda\n",
        "    'nthread': 36,\n",
        "    'seed': 42\n",
        "}\n",
        "num_boost_round = 3000\n",
        "early_stopping_rounds = 150\n",
        "\n",
        "oof_xgb = np.zeros(len(train), dtype='float32')\n",
        "pred_test_xgb = np.zeros(len(test), dtype='float32')\n",
        "\n",
        "for fold in range(n_splits):\n",
        "    fold_t0 = time.time()\n",
        "    trn_idx = np.where(folds_arr != fold)[0]\n",
        "    val_idx = np.where(folds_arr == fold)[0]\n",
        "    log(f'[XGB] Fold {fold+1}/{n_splits} | trn={len(trn_idx)} val={len(val_idx)}')\n",
        "\n",
        "    dtrain = xgb.DMatrix(X.iloc[trn_idx], label=y[trn_idx])\n",
        "    dvalid = xgb.DMatrix(X.iloc[val_idx], label=y[val_idx])\n",
        "    dtest = xgb.DMatrix(X_test)\n",
        "\n",
        "    bst = xgb.train(\n",
        "        params=xgb_params,\n",
        "        dtrain=dtrain,\n",
        "        num_boost_round=num_boost_round,\n",
        "        evals=[(dtrain, 'train'), (dvalid, 'valid')],\n",
        "        early_stopping_rounds=early_stopping_rounds,\n",
        "        verbose_eval=200\n",
        "    )\n",
        "\n",
        "    # Robust best iteration retrieval across versions\n",
        "    best_iter = None\n",
        "    attrs = {}\n",
        "    try:\n",
        "        attrs = bst.attributes()\n",
        "    except Exception:\n",
        "        attrs = {}\n",
        "    if 'best_iteration' in attrs:\n",
        "        try:\n",
        "            best_iter = int(attrs['best_iteration'])\n",
        "        except Exception:\n",
        "            best_iter = None\n",
        "    if (best_iter is None) and hasattr(bst, 'best_iteration') and (bst.best_iteration is not None):\n",
        "        try:\n",
        "            best_iter = int(bst.best_iteration)\n",
        "        except Exception:\n",
        "            best_iter = None\n",
        "\n",
        "    # Predict using iteration_range when best_iter is available; otherwise use full model\n",
        "    if best_iter is not None and best_iter >= 0:\n",
        "        oof_pred = bst.predict(dvalid, iteration_range=(0, best_iter + 1))\n",
        "    else:\n",
        "        oof_pred = bst.predict(dvalid)\n",
        "    oof_xgb[val_idx] = oof_pred.astype('float32')\n",
        "    fold_auc = roc_auc_score(y[val_idx], oof_xgb[val_idx])\n",
        "    log(f'[XGB] Fold {fold} AUC: {fold_auc:.6f} | best_iter={best_iter} | elapsed={time.time()-fold_t0:.1f}s')\n",
        "\n",
        "    if best_iter is not None and best_iter >= 0:\n",
        "        pred_te = bst.predict(dtest, iteration_range=(0, best_iter + 1))\n",
        "    else:\n",
        "        pred_te = bst.predict(dtest)\n",
        "    pred_test_xgb += pred_te.astype('float32') / n_splits\n",
        "    del dtrain, dvalid, dtest, bst\n",
        "    gc.collect()\n",
        "\n",
        "cv_auc_xgb = roc_auc_score(y, oof_xgb)\n",
        "log(f'[XGB] OOF AUC: {cv_auc_xgb:.6f} | total_elapsed={time.time()-t0_all:.1f}s')\n",
        "\n",
        "# Save artifacts\n",
        "pd.DataFrame({id_col: train[id_col], 'oof_xgb': oof_xgb}).to_csv('oof_xgb_seed42.csv', index=False)\n",
        "pd.DataFrame({id_col: test[id_col], 'prediction_xgb': pred_test_xgb}).to_csv('pred_xgb_seed42.csv', index=False)\n",
        "log('[XGB] Saved OOF and test predictions.')"
      ],
      "execution_count": 12,
      "outputs": [
        {
          "output_type": "stream",
          "name": "stdout",
          "text": [
            "[2025-09-11 22:38:02] Setting up XGBoost (CPU, hist) training...\n"
          ]
        },
        {
          "output_type": "stream",
          "name": "stdout",
          "text": [
            "[2025-09-11 22:38:02] [XGB] Fold 1/10 | trn=720000 val=80000\n"
          ]
        },
        {
          "output_type": "stream",
          "name": "stdout",
          "text": [
            "[0]\ttrain-auc:0.75379\tvalid-auc:0.75297\n"
          ]
        },
        {
          "output_type": "stream",
          "name": "stdout",
          "text": [
            "[200]\ttrain-auc:0.96478\tvalid-auc:0.96191\n"
          ]
        },
        {
          "output_type": "stream",
          "name": "stdout",
          "text": [
            "[400]\ttrain-auc:0.97630\tvalid-auc:0.97305\n"
          ]
        },
        {
          "output_type": "stream",
          "name": "stdout",
          "text": [
            "[600]\ttrain-auc:0.98113\tvalid-auc:0.97752\n"
          ]
        },
        {
          "output_type": "stream",
          "name": "stdout",
          "text": [
            "[800]\ttrain-auc:0.98426\tvalid-auc:0.98039\n"
          ]
        },
        {
          "output_type": "stream",
          "name": "stdout",
          "text": [
            "[1000]\ttrain-auc:0.98658\tvalid-auc:0.98242\n"
          ]
        },
        {
          "output_type": "stream",
          "name": "stdout",
          "text": [
            "[1200]\ttrain-auc:0.98804\tvalid-auc:0.98352\n"
          ]
        },
        {
          "output_type": "stream",
          "name": "stdout",
          "text": [
            "[1400]\ttrain-auc:0.98932\tvalid-auc:0.98452\n"
          ]
        },
        {
          "output_type": "stream",
          "name": "stdout",
          "text": [
            "[1600]\ttrain-auc:0.99029\tvalid-auc:0.98517\n"
          ]
        },
        {
          "output_type": "stream",
          "name": "stdout",
          "text": [
            "[1800]\ttrain-auc:0.99105\tvalid-auc:0.98557\n"
          ]
        },
        {
          "output_type": "stream",
          "name": "stdout",
          "text": [
            "[2000]\ttrain-auc:0.99170\tvalid-auc:0.98591\n"
          ]
        },
        {
          "output_type": "stream",
          "name": "stdout",
          "text": [
            "[2200]\ttrain-auc:0.99231\tvalid-auc:0.98615\n"
          ]
        },
        {
          "output_type": "stream",
          "name": "stdout",
          "text": [
            "[2400]\ttrain-auc:0.99286\tvalid-auc:0.98634\n"
          ]
        },
        {
          "output_type": "stream",
          "name": "stdout",
          "text": [
            "[2600]\ttrain-auc:0.99333\tvalid-auc:0.98651\n"
          ]
        },
        {
          "output_type": "stream",
          "name": "stdout",
          "text": [
            "[2800]\ttrain-auc:0.99379\tvalid-auc:0.98668\n"
          ]
        },
        {
          "output_type": "stream",
          "name": "stdout",
          "text": [
            "[2999]\ttrain-auc:0.99419\tvalid-auc:0.98678\n"
          ]
        },
        {
          "output_type": "stream",
          "name": "stdout",
          "text": [
            "[2025-09-11 22:40:45] [XGB] Fold 0 AUC: 0.986778 | best_iter=2991 | elapsed=162.6s\n"
          ]
        },
        {
          "output_type": "stream",
          "name": "stdout",
          "text": [
            "[2025-09-11 22:40:45] [XGB] Fold 2/10 | trn=720000 val=80000\n"
          ]
        },
        {
          "output_type": "stream",
          "name": "stdout",
          "text": [
            "[0]\ttrain-auc:0.74556\tvalid-auc:0.74468\n"
          ]
        },
        {
          "output_type": "stream",
          "name": "stdout",
          "text": [
            "[200]\ttrain-auc:0.96389\tvalid-auc:0.96120\n"
          ]
        },
        {
          "output_type": "stream",
          "name": "stdout",
          "text": [
            "[400]\ttrain-auc:0.97650\tvalid-auc:0.97339\n"
          ]
        },
        {
          "output_type": "stream",
          "name": "stdout",
          "text": [
            "[600]\ttrain-auc:0.98115\tvalid-auc:0.97769\n"
          ]
        },
        {
          "output_type": "stream",
          "name": "stdout",
          "text": [
            "[800]\ttrain-auc:0.98402\tvalid-auc:0.98019\n"
          ]
        },
        {
          "output_type": "stream",
          "name": "stdout",
          "text": [
            "[1000]\ttrain-auc:0.98643\tvalid-auc:0.98225\n"
          ]
        },
        {
          "output_type": "stream",
          "name": "stdout",
          "text": [
            "[1200]\ttrain-auc:0.98798\tvalid-auc:0.98346\n"
          ]
        },
        {
          "output_type": "stream",
          "name": "stdout",
          "text": [
            "[1400]\ttrain-auc:0.98915\tvalid-auc:0.98431\n"
          ]
        },
        {
          "output_type": "stream",
          "name": "stdout",
          "text": [
            "[1600]\ttrain-auc:0.99022\tvalid-auc:0.98503\n"
          ]
        },
        {
          "output_type": "stream",
          "name": "stdout",
          "text": [
            "[1800]\ttrain-auc:0.99104\tvalid-auc:0.98552\n"
          ]
        },
        {
          "output_type": "stream",
          "name": "stdout",
          "text": [
            "[2000]\ttrain-auc:0.99171\tvalid-auc:0.98586\n"
          ]
        },
        {
          "output_type": "stream",
          "name": "stdout",
          "text": [
            "[2200]\ttrain-auc:0.99229\tvalid-auc:0.98612\n"
          ]
        },
        {
          "output_type": "stream",
          "name": "stdout",
          "text": [
            "[2400]\ttrain-auc:0.99284\tvalid-auc:0.98632\n"
          ]
        },
        {
          "output_type": "stream",
          "name": "stdout",
          "text": [
            "[2600]\ttrain-auc:0.99336\tvalid-auc:0.98649\n"
          ]
        },
        {
          "output_type": "stream",
          "name": "stdout",
          "text": [
            "[2800]\ttrain-auc:0.99381\tvalid-auc:0.98661\n"
          ]
        },
        {
          "output_type": "stream",
          "name": "stdout",
          "text": [
            "[2999]\ttrain-auc:0.99422\tvalid-auc:0.98671\n"
          ]
        },
        {
          "output_type": "stream",
          "name": "stdout",
          "text": [
            "[2025-09-11 22:43:25] [XGB] Fold 1 AUC: 0.986706 | best_iter=2999 | elapsed=159.4s\n"
          ]
        },
        {
          "output_type": "stream",
          "name": "stdout",
          "text": [
            "[2025-09-11 22:43:25] [XGB] Fold 3/10 | trn=720000 val=80000\n"
          ]
        },
        {
          "output_type": "stream",
          "name": "stdout",
          "text": [
            "[0]\ttrain-auc:0.75253\tvalid-auc:0.75335\n"
          ]
        },
        {
          "output_type": "stream",
          "name": "stdout",
          "text": [
            "[200]\ttrain-auc:0.96439\tvalid-auc:0.96147\n"
          ]
        },
        {
          "output_type": "stream",
          "name": "stdout",
          "text": [
            "[400]\ttrain-auc:0.97614\tvalid-auc:0.97279\n"
          ]
        },
        {
          "output_type": "stream",
          "name": "stdout",
          "text": [
            "[600]\ttrain-auc:0.98101\tvalid-auc:0.97724\n"
          ]
        },
        {
          "output_type": "stream",
          "name": "stdout",
          "text": [
            "[800]\ttrain-auc:0.98415\tvalid-auc:0.98007\n"
          ]
        },
        {
          "output_type": "stream",
          "name": "stdout",
          "text": [
            "[1000]\ttrain-auc:0.98653\tvalid-auc:0.98220\n"
          ]
        },
        {
          "output_type": "stream",
          "name": "stdout",
          "text": [
            "[1200]\ttrain-auc:0.98811\tvalid-auc:0.98349\n"
          ]
        },
        {
          "output_type": "stream",
          "name": "stdout",
          "text": [
            "[1400]\ttrain-auc:0.98932\tvalid-auc:0.98443\n"
          ]
        },
        {
          "output_type": "stream",
          "name": "stdout",
          "text": [
            "[1600]\ttrain-auc:0.99030\tvalid-auc:0.98506\n"
          ]
        },
        {
          "output_type": "stream",
          "name": "stdout",
          "text": [
            "[1800]\ttrain-auc:0.99106\tvalid-auc:0.98548\n"
          ]
        },
        {
          "output_type": "stream",
          "name": "stdout",
          "text": [
            "[2000]\ttrain-auc:0.99177\tvalid-auc:0.98584\n"
          ]
        },
        {
          "output_type": "stream",
          "name": "stdout",
          "text": [
            "[2200]\ttrain-auc:0.99235\tvalid-auc:0.98609\n"
          ]
        },
        {
          "output_type": "stream",
          "name": "stdout",
          "text": [
            "[2400]\ttrain-auc:0.99288\tvalid-auc:0.98626\n"
          ]
        },
        {
          "output_type": "stream",
          "name": "stdout",
          "text": [
            "[2600]\ttrain-auc:0.99335\tvalid-auc:0.98640\n"
          ]
        },
        {
          "output_type": "stream",
          "name": "stdout",
          "text": [
            "[2800]\ttrain-auc:0.99379\tvalid-auc:0.98650\n"
          ]
        },
        {
          "output_type": "stream",
          "name": "stdout",
          "text": [
            "[2999]\ttrain-auc:0.99421\tvalid-auc:0.98662\n"
          ]
        },
        {
          "output_type": "stream",
          "name": "stdout",
          "text": [
            "[2025-09-11 22:46:11] [XGB] Fold 2 AUC: 0.986622 | best_iter=2998 | elapsed=166.0s\n"
          ]
        },
        {
          "output_type": "stream",
          "name": "stdout",
          "text": [
            "[2025-09-11 22:46:12] [XGB] Fold 4/10 | trn=720000 val=80000\n"
          ]
        },
        {
          "output_type": "stream",
          "name": "stdout",
          "text": [
            "[0]\ttrain-auc:0.74547\tvalid-auc:0.74402\n"
          ]
        },
        {
          "output_type": "stream",
          "name": "stdout",
          "text": [
            "[200]\ttrain-auc:0.96561\tvalid-auc:0.96213\n"
          ]
        },
        {
          "output_type": "stream",
          "name": "stdout",
          "text": [
            "[400]\ttrain-auc:0.97667\tvalid-auc:0.97276\n"
          ]
        },
        {
          "output_type": "stream",
          "name": "stdout",
          "text": [
            "[600]\ttrain-auc:0.98144\tvalid-auc:0.97727\n"
          ]
        },
        {
          "output_type": "stream",
          "name": "stdout",
          "text": [
            "[800]\ttrain-auc:0.98459\tvalid-auc:0.98022\n"
          ]
        },
        {
          "output_type": "stream",
          "name": "stdout",
          "text": [
            "[1000]\ttrain-auc:0.98669\tvalid-auc:0.98208\n"
          ]
        },
        {
          "output_type": "stream",
          "name": "stdout",
          "text": [
            "[1200]\ttrain-auc:0.98812\tvalid-auc:0.98319\n"
          ]
        },
        {
          "output_type": "stream",
          "name": "stdout",
          "text": [
            "[1400]\ttrain-auc:0.98938\tvalid-auc:0.98418\n"
          ]
        },
        {
          "output_type": "stream",
          "name": "stdout",
          "text": [
            "[1600]\ttrain-auc:0.99032\tvalid-auc:0.98484\n"
          ]
        },
        {
          "output_type": "stream",
          "name": "stdout",
          "text": [
            "[1800]\ttrain-auc:0.99109\tvalid-auc:0.98529\n"
          ]
        },
        {
          "output_type": "stream",
          "name": "stdout",
          "text": [
            "[2000]\ttrain-auc:0.99173\tvalid-auc:0.98557\n"
          ]
        },
        {
          "output_type": "stream",
          "name": "stdout",
          "text": [
            "[2200]\ttrain-auc:0.99231\tvalid-auc:0.98582\n"
          ]
        },
        {
          "output_type": "stream",
          "name": "stdout",
          "text": [
            "[2400]\ttrain-auc:0.99285\tvalid-auc:0.98603\n"
          ]
        },
        {
          "output_type": "stream",
          "name": "stdout",
          "text": [
            "[2600]\ttrain-auc:0.99334\tvalid-auc:0.98623\n"
          ]
        },
        {
          "output_type": "stream",
          "name": "stdout",
          "text": [
            "[2800]\ttrain-auc:0.99379\tvalid-auc:0.98637\n"
          ]
        },
        {
          "output_type": "stream",
          "name": "stdout",
          "text": [
            "[2999]\ttrain-auc:0.99420\tvalid-auc:0.98648\n"
          ]
        },
        {
          "output_type": "stream",
          "name": "stdout",
          "text": [
            "[2025-09-11 22:48:58] [XGB] Fold 3 AUC: 0.986480 | best_iter=2998 | elapsed=165.5s\n"
          ]
        },
        {
          "output_type": "stream",
          "name": "stdout",
          "text": [
            "[2025-09-11 22:48:58] [XGB] Fold 5/10 | trn=720000 val=80000\n"
          ]
        },
        {
          "output_type": "stream",
          "name": "stdout",
          "text": [
            "[0]\ttrain-auc:0.75317\tvalid-auc:0.75505\n"
          ]
        },
        {
          "output_type": "stream",
          "name": "stdout",
          "text": [
            "[200]\ttrain-auc:0.96563\tvalid-auc:0.96236\n"
          ]
        },
        {
          "output_type": "stream",
          "name": "stdout",
          "text": [
            "[400]\ttrain-auc:0.97685\tvalid-auc:0.97323\n"
          ]
        },
        {
          "output_type": "stream",
          "name": "stdout",
          "text": [
            "[600]\ttrain-auc:0.98144\tvalid-auc:0.97751\n"
          ]
        },
        {
          "output_type": "stream",
          "name": "stdout",
          "text": [
            "[800]\ttrain-auc:0.98474\tvalid-auc:0.98048\n"
          ]
        },
        {
          "output_type": "stream",
          "name": "stdout",
          "text": [
            "[1000]\ttrain-auc:0.98701\tvalid-auc:0.98254\n"
          ]
        },
        {
          "output_type": "stream",
          "name": "stdout",
          "text": [
            "[1200]\ttrain-auc:0.98837\tvalid-auc:0.98353\n"
          ]
        },
        {
          "output_type": "stream",
          "name": "stdout",
          "text": [
            "[1400]\ttrain-auc:0.98947\tvalid-auc:0.98430\n"
          ]
        },
        {
          "output_type": "stream",
          "name": "stdout",
          "text": [
            "[1600]\ttrain-auc:0.99040\tvalid-auc:0.98492\n"
          ]
        },
        {
          "output_type": "stream",
          "name": "stdout",
          "text": [
            "[1800]\ttrain-auc:0.99115\tvalid-auc:0.98533\n"
          ]
        },
        {
          "output_type": "stream",
          "name": "stdout",
          "text": [
            "[2000]\ttrain-auc:0.99181\tvalid-auc:0.98564\n"
          ]
        },
        {
          "output_type": "stream",
          "name": "stdout",
          "text": [
            "[2200]\ttrain-auc:0.99241\tvalid-auc:0.98590\n"
          ]
        },
        {
          "output_type": "stream",
          "name": "stdout",
          "text": [
            "[2400]\ttrain-auc:0.99293\tvalid-auc:0.98606\n"
          ]
        },
        {
          "output_type": "stream",
          "name": "stdout",
          "text": [
            "[2600]\ttrain-auc:0.99341\tvalid-auc:0.98622\n"
          ]
        },
        {
          "output_type": "stream",
          "name": "stdout",
          "text": [
            "[2800]\ttrain-auc:0.99386\tvalid-auc:0.98637\n"
          ]
        },
        {
          "output_type": "stream",
          "name": "stdout",
          "text": [
            "[2999]\ttrain-auc:0.99428\tvalid-auc:0.98648\n"
          ]
        },
        {
          "output_type": "stream",
          "name": "stdout",
          "text": [
            "[2025-09-11 22:51:44] [XGB] Fold 4 AUC: 0.986480 | best_iter=2997 | elapsed=165.9s\n"
          ]
        },
        {
          "output_type": "stream",
          "name": "stdout",
          "text": [
            "[2025-09-11 22:51:45] [XGB] Fold 6/10 | trn=720000 val=80000\n"
          ]
        },
        {
          "output_type": "stream",
          "name": "stdout",
          "text": [
            "[0]\ttrain-auc:0.75386\tvalid-auc:0.74824\n"
          ]
        },
        {
          "output_type": "stream",
          "name": "stdout",
          "text": [
            "[200]\ttrain-auc:0.96618\tvalid-auc:0.96234\n"
          ]
        },
        {
          "output_type": "stream",
          "name": "stdout",
          "text": [
            "[400]\ttrain-auc:0.97720\tvalid-auc:0.97352\n"
          ]
        },
        {
          "output_type": "stream",
          "name": "stdout",
          "text": [
            "[600]\ttrain-auc:0.98158\tvalid-auc:0.97765\n"
          ]
        },
        {
          "output_type": "stream",
          "name": "stdout",
          "text": [
            "[800]\ttrain-auc:0.98474\tvalid-auc:0.98062\n"
          ]
        },
        {
          "output_type": "stream",
          "name": "stdout",
          "text": [
            "[1000]\ttrain-auc:0.98682\tvalid-auc:0.98237\n"
          ]
        },
        {
          "output_type": "stream",
          "name": "stdout",
          "text": [
            "[1200]\ttrain-auc:0.98828\tvalid-auc:0.98351\n"
          ]
        },
        {
          "output_type": "stream",
          "name": "stdout",
          "text": [
            "[1400]\ttrain-auc:0.98933\tvalid-auc:0.98418\n"
          ]
        },
        {
          "output_type": "stream",
          "name": "stdout",
          "text": [
            "[1600]\ttrain-auc:0.99028\tvalid-auc:0.98484\n"
          ]
        },
        {
          "output_type": "stream",
          "name": "stdout",
          "text": [
            "[1800]\ttrain-auc:0.99106\tvalid-auc:0.98527\n"
          ]
        },
        {
          "output_type": "stream",
          "name": "stdout",
          "text": [
            "[2000]\ttrain-auc:0.99176\tvalid-auc:0.98564\n"
          ]
        },
        {
          "output_type": "stream",
          "name": "stdout",
          "text": [
            "[2200]\ttrain-auc:0.99234\tvalid-auc:0.98589\n"
          ]
        },
        {
          "output_type": "stream",
          "name": "stdout",
          "text": [
            "[2400]\ttrain-auc:0.99287\tvalid-auc:0.98609\n"
          ]
        },
        {
          "output_type": "stream",
          "name": "stdout",
          "text": [
            "[2600]\ttrain-auc:0.99335\tvalid-auc:0.98625\n"
          ]
        },
        {
          "output_type": "stream",
          "name": "stdout",
          "text": [
            "[2800]\ttrain-auc:0.99382\tvalid-auc:0.98642\n"
          ]
        },
        {
          "output_type": "stream",
          "name": "stdout",
          "text": [
            "[2999]\ttrain-auc:0.99421\tvalid-auc:0.98654\n"
          ]
        },
        {
          "output_type": "stream",
          "name": "stdout",
          "text": [
            "[2025-09-11 22:54:28] [XGB] Fold 5 AUC: 0.986536 | best_iter=2994 | elapsed=163.1s\n"
          ]
        },
        {
          "output_type": "stream",
          "name": "stdout",
          "text": [
            "[2025-09-11 22:54:29] [XGB] Fold 7/10 | trn=720000 val=80000\n"
          ]
        },
        {
          "output_type": "stream",
          "name": "stdout",
          "text": [
            "[0]\ttrain-auc:0.74570\tvalid-auc:0.74436\n"
          ]
        },
        {
          "output_type": "stream",
          "name": "stdout",
          "text": [
            "[200]\ttrain-auc:0.96556\tvalid-auc:0.96380\n"
          ]
        },
        {
          "output_type": "stream",
          "name": "stdout",
          "text": [
            "[400]\ttrain-auc:0.97626\tvalid-auc:0.97392\n"
          ]
        },
        {
          "output_type": "stream",
          "name": "stdout",
          "text": [
            "[600]\ttrain-auc:0.98109\tvalid-auc:0.97832\n"
          ]
        },
        {
          "output_type": "stream",
          "name": "stdout",
          "text": [
            "[800]\ttrain-auc:0.98453\tvalid-auc:0.98139\n"
          ]
        },
        {
          "output_type": "stream",
          "name": "stdout",
          "text": [
            "[1000]\ttrain-auc:0.98669\tvalid-auc:0.98318\n"
          ]
        },
        {
          "output_type": "stream",
          "name": "stdout",
          "text": [
            "[1200]\ttrain-auc:0.98826\tvalid-auc:0.98441\n"
          ]
        },
        {
          "output_type": "stream",
          "name": "stdout",
          "text": [
            "[1400]\ttrain-auc:0.98936\tvalid-auc:0.98509\n"
          ]
        },
        {
          "output_type": "stream",
          "name": "stdout",
          "text": [
            "[1600]\ttrain-auc:0.99029\tvalid-auc:0.98565\n"
          ]
        },
        {
          "output_type": "stream",
          "name": "stdout",
          "text": [
            "[1800]\ttrain-auc:0.99105\tvalid-auc:0.98602\n"
          ]
        },
        {
          "output_type": "stream",
          "name": "stdout",
          "text": [
            "[2000]\ttrain-auc:0.99173\tvalid-auc:0.98637\n"
          ]
        },
        {
          "output_type": "stream",
          "name": "stdout",
          "text": [
            "[2200]\ttrain-auc:0.99231\tvalid-auc:0.98667\n"
          ]
        },
        {
          "output_type": "stream",
          "name": "stdout",
          "text": [
            "[2400]\ttrain-auc:0.99284\tvalid-auc:0.98688\n"
          ]
        },
        {
          "output_type": "stream",
          "name": "stdout",
          "text": [
            "[2600]\ttrain-auc:0.99331\tvalid-auc:0.98703\n"
          ]
        },
        {
          "output_type": "stream",
          "name": "stdout",
          "text": [
            "[2800]\ttrain-auc:0.99375\tvalid-auc:0.98717\n"
          ]
        },
        {
          "output_type": "stream",
          "name": "stdout",
          "text": [
            "[2999]\ttrain-auc:0.99416\tvalid-auc:0.98731\n"
          ]
        },
        {
          "output_type": "stream",
          "name": "stdout",
          "text": [
            "[2025-09-11 22:57:10] [XGB] Fold 6 AUC: 0.987308 | best_iter=2999 | elapsed=161.3s\n"
          ]
        },
        {
          "output_type": "stream",
          "name": "stdout",
          "text": [
            "[2025-09-11 22:57:11] [XGB] Fold 8/10 | trn=720000 val=80000\n"
          ]
        },
        {
          "output_type": "stream",
          "name": "stdout",
          "text": [
            "[0]\ttrain-auc:0.75370\tvalid-auc:0.75066\n"
          ]
        },
        {
          "output_type": "stream",
          "name": "stdout",
          "text": [
            "[200]\ttrain-auc:0.96592\tvalid-auc:0.96226\n"
          ]
        },
        {
          "output_type": "stream",
          "name": "stdout",
          "text": [
            "[400]\ttrain-auc:0.97708\tvalid-auc:0.97339\n"
          ]
        },
        {
          "output_type": "stream",
          "name": "stdout",
          "text": [
            "[600]\ttrain-auc:0.98158\tvalid-auc:0.97764\n"
          ]
        },
        {
          "output_type": "stream",
          "name": "stdout",
          "text": [
            "[800]\ttrain-auc:0.98442\tvalid-auc:0.98020\n"
          ]
        },
        {
          "output_type": "stream",
          "name": "stdout",
          "text": [
            "[1000]\ttrain-auc:0.98667\tvalid-auc:0.98220\n"
          ]
        },
        {
          "output_type": "stream",
          "name": "stdout",
          "text": [
            "[1200]\ttrain-auc:0.98824\tvalid-auc:0.98345\n"
          ]
        },
        {
          "output_type": "stream",
          "name": "stdout",
          "text": [
            "[1400]\ttrain-auc:0.98937\tvalid-auc:0.98428\n"
          ]
        },
        {
          "output_type": "stream",
          "name": "stdout",
          "text": [
            "[1600]\ttrain-auc:0.99029\tvalid-auc:0.98492\n"
          ]
        },
        {
          "output_type": "stream",
          "name": "stdout",
          "text": [
            "[1800]\ttrain-auc:0.99109\tvalid-auc:0.98535\n"
          ]
        },
        {
          "output_type": "stream",
          "name": "stdout",
          "text": [
            "[2000]\ttrain-auc:0.99177\tvalid-auc:0.98566\n"
          ]
        },
        {
          "output_type": "stream",
          "name": "stdout",
          "text": [
            "[2200]\ttrain-auc:0.99234\tvalid-auc:0.98587\n"
          ]
        },
        {
          "output_type": "stream",
          "name": "stdout",
          "text": [
            "[2400]\ttrain-auc:0.99288\tvalid-auc:0.98611\n"
          ]
        },
        {
          "output_type": "stream",
          "name": "stdout",
          "text": [
            "[2600]\ttrain-auc:0.99334\tvalid-auc:0.98625\n"
          ]
        },
        {
          "output_type": "stream",
          "name": "stdout",
          "text": [
            "[2800]\ttrain-auc:0.99378\tvalid-auc:0.98637\n"
          ]
        },
        {
          "output_type": "stream",
          "name": "stdout",
          "text": [
            "[2999]\ttrain-auc:0.99419\tvalid-auc:0.98648\n"
          ]
        },
        {
          "output_type": "stream",
          "name": "stdout",
          "text": [
            "[2025-09-11 22:59:49] [XGB] Fold 7 AUC: 0.986485 | best_iter=2999 | elapsed=158.5s\n"
          ]
        },
        {
          "output_type": "stream",
          "name": "stdout",
          "text": [
            "[2025-09-11 22:59:50] [XGB] Fold 9/10 | trn=720000 val=80000\n"
          ]
        },
        {
          "output_type": "stream",
          "name": "stdout",
          "text": [
            "[0]\ttrain-auc:0.75409\tvalid-auc:0.75339\n"
          ]
        },
        {
          "output_type": "stream",
          "name": "stdout",
          "text": [
            "[200]\ttrain-auc:0.96440\tvalid-auc:0.96180\n"
          ]
        },
        {
          "output_type": "stream",
          "name": "stdout",
          "text": [
            "[400]\ttrain-auc:0.97647\tvalid-auc:0.97364\n"
          ]
        },
        {
          "output_type": "stream",
          "name": "stdout",
          "text": [
            "[600]\ttrain-auc:0.98146\tvalid-auc:0.97835\n"
          ]
        },
        {
          "output_type": "stream",
          "name": "stdout",
          "text": [
            "[800]\ttrain-auc:0.98428\tvalid-auc:0.98086\n"
          ]
        },
        {
          "output_type": "stream",
          "name": "stdout",
          "text": [
            "[1000]\ttrain-auc:0.98660\tvalid-auc:0.98287\n"
          ]
        },
        {
          "output_type": "stream",
          "name": "stdout",
          "text": [
            "[1200]\ttrain-auc:0.98817\tvalid-auc:0.98415\n"
          ]
        },
        {
          "output_type": "stream",
          "name": "stdout",
          "text": [
            "[1400]\ttrain-auc:0.98925\tvalid-auc:0.98487\n"
          ]
        },
        {
          "output_type": "stream",
          "name": "stdout",
          "text": [
            "[1600]\ttrain-auc:0.99021\tvalid-auc:0.98550\n"
          ]
        },
        {
          "output_type": "stream",
          "name": "stdout",
          "text": [
            "[1800]\ttrain-auc:0.99105\tvalid-auc:0.98602\n"
          ]
        },
        {
          "output_type": "stream",
          "name": "stdout",
          "text": [
            "[2000]\ttrain-auc:0.99170\tvalid-auc:0.98636\n"
          ]
        },
        {
          "output_type": "stream",
          "name": "stdout",
          "text": [
            "[2200]\ttrain-auc:0.99230\tvalid-auc:0.98660\n"
          ]
        },
        {
          "output_type": "stream",
          "name": "stdout",
          "text": [
            "[2400]\ttrain-auc:0.99285\tvalid-auc:0.98682\n"
          ]
        },
        {
          "output_type": "stream",
          "name": "stdout",
          "text": [
            "[2600]\ttrain-auc:0.99334\tvalid-auc:0.98697\n"
          ]
        },
        {
          "output_type": "stream",
          "name": "stdout",
          "text": [
            "[2800]\ttrain-auc:0.99379\tvalid-auc:0.98711\n"
          ]
        },
        {
          "output_type": "stream",
          "name": "stdout",
          "text": [
            "[2999]\ttrain-auc:0.99420\tvalid-auc:0.98721\n"
          ]
        },
        {
          "output_type": "stream",
          "name": "stdout",
          "text": [
            "[2025-09-11 23:02:32] [XGB] Fold 8 AUC: 0.987208 | best_iter=2999 | elapsed=161.5s\n"
          ]
        },
        {
          "output_type": "stream",
          "name": "stdout",
          "text": [
            "[2025-09-11 23:02:32] [XGB] Fold 10/10 | trn=720000 val=80000\n"
          ]
        },
        {
          "output_type": "stream",
          "name": "stdout",
          "text": [
            "[0]\ttrain-auc:0.74576\tvalid-auc:0.74258\n"
          ]
        },
        {
          "output_type": "stream",
          "name": "stdout",
          "text": [
            "[200]\ttrain-auc:0.96646\tvalid-auc:0.96396\n"
          ]
        },
        {
          "output_type": "stream",
          "name": "stdout",
          "text": [
            "[400]\ttrain-auc:0.97722\tvalid-auc:0.97453\n"
          ]
        },
        {
          "output_type": "stream",
          "name": "stdout",
          "text": [
            "[600]\ttrain-auc:0.98167\tvalid-auc:0.97869\n"
          ]
        },
        {
          "output_type": "stream",
          "name": "stdout",
          "text": [
            "[800]\ttrain-auc:0.98471\tvalid-auc:0.98145\n"
          ]
        },
        {
          "output_type": "stream",
          "name": "stdout",
          "text": [
            "[1000]\ttrain-auc:0.98670\tvalid-auc:0.98305\n"
          ]
        },
        {
          "output_type": "stream",
          "name": "stdout",
          "text": [
            "[1200]\ttrain-auc:0.98822\tvalid-auc:0.98421\n"
          ]
        },
        {
          "output_type": "stream",
          "name": "stdout",
          "text": [
            "[1400]\ttrain-auc:0.98935\tvalid-auc:0.98499\n"
          ]
        },
        {
          "output_type": "stream",
          "name": "stdout",
          "text": [
            "[1600]\ttrain-auc:0.99030\tvalid-auc:0.98560\n"
          ]
        },
        {
          "output_type": "stream",
          "name": "stdout",
          "text": [
            "[1800]\ttrain-auc:0.99109\tvalid-auc:0.98604\n"
          ]
        },
        {
          "output_type": "stream",
          "name": "stdout",
          "text": [
            "[2000]\ttrain-auc:0.99176\tvalid-auc:0.98635\n"
          ]
        },
        {
          "output_type": "stream",
          "name": "stdout",
          "text": [
            "[2200]\ttrain-auc:0.99234\tvalid-auc:0.98659\n"
          ]
        },
        {
          "output_type": "stream",
          "name": "stdout",
          "text": [
            "[2400]\ttrain-auc:0.99291\tvalid-auc:0.98681\n"
          ]
        },
        {
          "output_type": "stream",
          "name": "stdout",
          "text": [
            "[2600]\ttrain-auc:0.99341\tvalid-auc:0.98699\n"
          ]
        },
        {
          "output_type": "stream",
          "name": "stdout",
          "text": [
            "[2800]\ttrain-auc:0.99385\tvalid-auc:0.98711\n"
          ]
        },
        {
          "output_type": "stream",
          "name": "stdout",
          "text": [
            "[2999]\ttrain-auc:0.99426\tvalid-auc:0.98721\n"
          ]
        },
        {
          "output_type": "stream",
          "name": "stdout",
          "text": [
            "[2025-09-11 23:05:19] [XGB] Fold 9 AUC: 0.987210 | best_iter=2998 | elapsed=166.9s\n"
          ]
        },
        {
          "output_type": "stream",
          "name": "stdout",
          "text": [
            "[2025-09-11 23:05:20] [XGB] OOF AUC: 0.986782 | total_elapsed=1638.8s\n"
          ]
        },
        {
          "output_type": "stream",
          "name": "stdout",
          "text": [
            "[2025-09-11 23:05:22] [XGB] Saved OOF and test predictions.\n"
          ]
        }
      ]
    },
    {
      "id": "f37a8fb8-1810-4728-8970-8f299ca0b79b",
      "cell_type": "code",
      "metadata": {},
      "source": [
        "# LightGBM multi-seed trainer (CPU-only) on current 165-feature set and locked folds\n",
        "log('Preparing LightGBM multi-seed training cell (will run after XGB finishes)...')\n",
        "import lightgbm as lgb\n",
        "\n",
        "def train_lgb_fast_seed(seed=42, feature_fraction=0.75, bagging_fraction=0.75, tag=None):\n",
        "    t0 = time.time()\n",
        "    feats = [c for c in train.columns if c not in [id_col, target_col, 'f_27']]\n",
        "    X_ = train[feats]; y_ = train[target_col].values; Xte_ = test[feats]\n",
        "    folds_df = pd.read_csv('folds_10fold_seed42.csv'); folds_arr = folds_df['fold'].values\n",
        "    n_splits = len(np.unique(folds_arr))\n",
        "    params = {\n",
        "        'objective': 'binary', 'metric': 'auc', 'boosting_type': 'gbdt',\n",
        "        'learning_rate': 0.045, 'num_leaves': 144, 'max_depth': -1,\n",
        "        'min_data_in_leaf': 240, 'feature_fraction': feature_fraction, 'bagging_fraction': bagging_fraction, 'bagging_freq': 1,\n",
        "        'lambda_l1': 0.0, 'lambda_l2': 4.0, 'max_bin': 127, 'verbose': -1, 'n_jobs': -1,\n",
        "        'seed': seed, 'feature_fraction_seed': seed, 'bagging_seed': seed, 'data_random_seed': seed\n",
        "    }\n",
        "    oof_ = np.zeros(len(train), dtype='float32'); pred_te_ = np.zeros(len(test), dtype='float32')\n",
        "    for fold in range(n_splits):\n",
        "        fold_t0 = time.time()\n",
        "        trn_idx = np.where(folds_arr != fold)[0]; val_idx = np.where(folds_arr == fold)[0]\n",
        "        log(f'[LGB multi] seed={seed} ff={feature_fraction} bf={bagging_fraction} | Fold {fold+1}/{n_splits} | trn={len(trn_idx)} val={len(val_idx)}')\n",
        "        dtrain = lgb.Dataset(X_.iloc[trn_idx], label=y_[trn_idx])\n",
        "        dvalid = lgb.Dataset(X_.iloc[val_idx], label=y_[val_idx])\n",
        "        model = lgb.train(params, dtrain, num_boost_round=4000, valid_sets=[dtrain, dvalid], valid_names=['train','valid'], callbacks=[lgb.early_stopping(120), lgb.log_evaluation(200)])\n",
        "        oof_[val_idx] = model.predict(X_.iloc[val_idx], num_iteration=model.best_iteration)\n",
        "        auc = roc_auc_score(y_[val_idx], oof_[val_idx])\n",
        "        log(f'[LGB multi] seed={seed} fold={fold} AUC: {auc:.6f} | best_iter={model.best_iteration} | elapsed={time.time()-fold_t0:.1f}s')\n",
        "        pred_te_ += model.predict(Xte_, num_iteration=model.best_iteration) / n_splits\n",
        "        del dtrain, dvalid, model; gc.collect()\n",
        "    cv_auc = roc_auc_score(y_, oof_); log(f'[LGB multi] seed={seed} OOF AUC: {cv_auc:.6f} | total_elapsed={time.time()-t0:.1f}s')\n",
        "    tag = tag if tag is not None else f'seed{seed}'\n",
        "    pd.DataFrame({id_col: train[id_col], f'oof_lgb_fast_{tag}': oof_}).to_csv(f'oof_lgb_fast_{tag}.csv', index=False)\n",
        "    pd.DataFrame({id_col: test[id_col], f'prediction_lgb_fast_{tag}': pred_te_}).to_csv(f'pred_lgb_fast_{tag}.csv', index=False)\n",
        "    log(f'[LGB multi] Saved OOF/test preds for {tag}')\n",
        "\n",
        "# Usage plan (execute after XGB finishes):\n",
        "# train_lgb_fast_seed(42, 0.75, 0.75, tag='s42')\n",
        "# train_lgb_fast_seed(1337, 0.72, 0.72, tag='s1337')\n",
        "# train_lgb_fast_seed(2025, 0.78, 0.78, tag='s2025')"
      ],
      "execution_count": 13,
      "outputs": [
        {
          "output_type": "stream",
          "name": "stdout",
          "text": [
            "[2025-09-11 23:05:36] Preparing LightGBM multi-seed training cell (will run after XGB finishes)...\n"
          ]
        }
      ]
    },
    {
      "id": "da2d0415-467e-423f-bb8a-8f69899596c9",
      "cell_type": "code",
      "metadata": {},
      "source": [
        "# Run LightGBM fast for seed 42 on current 165-feature set and locked folds\n",
        "log('Starting LightGBM multi-seed training: seed 42...')\n",
        "train_lgb_fast_seed(42, 0.75, 0.75, tag='s42')"
      ],
      "execution_count": 14,
      "outputs": [
        {
          "output_type": "stream",
          "name": "stdout",
          "text": [
            "[2025-09-11 23:06:01] Starting LightGBM multi-seed training: seed 42...\n"
          ]
        },
        {
          "output_type": "stream",
          "name": "stdout",
          "text": [
            "[2025-09-11 23:06:02] [LGB multi] seed=42 ff=0.75 bf=0.75 | Fold 1/10 | trn=720000 val=80000\n"
          ]
        },
        {
          "output_type": "stream",
          "name": "stdout",
          "text": [
            "Training until validation scores don't improve for 120 rounds\n"
          ]
        },
        {
          "output_type": "stream",
          "name": "stdout",
          "text": [
            "[200]\ttrain's auc: 0.978775\tvalid's auc: 0.975702\n"
          ]
        },
        {
          "output_type": "stream",
          "name": "stdout",
          "text": [
            "[400]\ttrain's auc: 0.98866\tvalid's auc: 0.985066\n"
          ]
        },
        {
          "output_type": "stream",
          "name": "stdout",
          "text": [
            "[600]\ttrain's auc: 0.992253\tvalid's auc: 0.98776\n"
          ]
        },
        {
          "output_type": "stream",
          "name": "stdout",
          "text": [
            "[800]\ttrain's auc: 0.994299\tvalid's auc: 0.988859\n"
          ]
        },
        {
          "output_type": "stream",
          "name": "stdout",
          "text": [
            "[1000]\ttrain's auc: 0.995652\tvalid's auc: 0.989373\n"
          ]
        },
        {
          "output_type": "stream",
          "name": "stdout",
          "text": [
            "[1200]\ttrain's auc: 0.9967\tvalid's auc: 0.98969\n"
          ]
        },
        {
          "output_type": "stream",
          "name": "stdout",
          "text": [
            "[1400]\ttrain's auc: 0.997516\tvalid's auc: 0.989907\n"
          ]
        },
        {
          "output_type": "stream",
          "name": "stdout",
          "text": [
            "[1600]\ttrain's auc: 0.998162\tvalid's auc: 0.990095\n"
          ]
        },
        {
          "output_type": "stream",
          "name": "stdout",
          "text": [
            "[1800]\ttrain's auc: 0.998667\tvalid's auc: 0.990284\n"
          ]
        },
        {
          "output_type": "stream",
          "name": "stdout",
          "text": [
            "[2000]\ttrain's auc: 0.99905\tvalid's auc: 0.990377\n"
          ]
        },
        {
          "output_type": "stream",
          "name": "stdout",
          "text": [
            "[2200]\ttrain's auc: 0.999332\tvalid's auc: 0.990491\n"
          ]
        },
        {
          "output_type": "stream",
          "name": "stdout",
          "text": [
            "[2400]\ttrain's auc: 0.999539\tvalid's auc: 0.990579\n"
          ]
        },
        {
          "output_type": "stream",
          "name": "stdout",
          "text": [
            "[2600]\ttrain's auc: 0.999689\tvalid's auc: 0.99063\n"
          ]
        },
        {
          "output_type": "stream",
          "name": "stdout",
          "text": [
            "[2800]\ttrain's auc: 0.999795\tvalid's auc: 0.990694\n"
          ]
        },
        {
          "output_type": "stream",
          "name": "stdout",
          "text": [
            "[3000]\ttrain's auc: 0.999869\tvalid's auc: 0.990749\n"
          ]
        },
        {
          "output_type": "stream",
          "name": "stdout",
          "text": [
            "[3200]\ttrain's auc: 0.999916\tvalid's auc: 0.990818\n"
          ]
        },
        {
          "output_type": "stream",
          "name": "stdout",
          "text": [
            "[3400]\ttrain's auc: 0.99995\tvalid's auc: 0.990834\n"
          ]
        },
        {
          "output_type": "stream",
          "name": "stdout",
          "text": [
            "[3600]\ttrain's auc: 0.99997\tvalid's auc: 0.990864\n"
          ]
        },
        {
          "output_type": "stream",
          "name": "stdout",
          "text": [
            "[3800]\ttrain's auc: 0.999983\tvalid's auc: 0.990886\n"
          ]
        },
        {
          "output_type": "stream",
          "name": "stdout",
          "text": [
            "[4000]\ttrain's auc: 0.999991\tvalid's auc: 0.990907\nDid not meet early stopping. Best iteration is:\n[3999]\ttrain's auc: 0.999991\tvalid's auc: 0.990908\n"
          ]
        },
        {
          "output_type": "stream",
          "name": "stdout",
          "text": [
            "[2025-09-11 23:11:17] [LGB multi] seed=42 fold=0 AUC: 0.990908 | best_iter=3999 | elapsed=315.8s\n"
          ]
        },
        {
          "output_type": "stream",
          "name": "stdout",
          "text": [
            "[2025-09-11 23:11:20] [LGB multi] seed=42 ff=0.75 bf=0.75 | Fold 2/10 | trn=720000 val=80000\n"
          ]
        },
        {
          "output_type": "stream",
          "name": "stdout",
          "text": [
            "Training until validation scores don't improve for 120 rounds\n"
          ]
        },
        {
          "output_type": "stream",
          "name": "stdout",
          "text": [
            "[200]\ttrain's auc: 0.978622\tvalid's auc: 0.975583\n"
          ]
        },
        {
          "output_type": "stream",
          "name": "stdout",
          "text": [
            "[400]\ttrain's auc: 0.988718\tvalid's auc: 0.985092\n"
          ]
        },
        {
          "output_type": "stream",
          "name": "stdout",
          "text": [
            "[600]\ttrain's auc: 0.992316\tvalid's auc: 0.987828\n"
          ]
        },
        {
          "output_type": "stream",
          "name": "stdout",
          "text": [
            "[800]\ttrain's auc: 0.994274\tvalid's auc: 0.988781\n"
          ]
        },
        {
          "output_type": "stream",
          "name": "stdout",
          "text": [
            "[1000]\ttrain's auc: 0.995695\tvalid's auc: 0.989431\n"
          ]
        },
        {
          "output_type": "stream",
          "name": "stdout",
          "text": [
            "[1200]\ttrain's auc: 0.996737\tvalid's auc: 0.989698\n"
          ]
        },
        {
          "output_type": "stream",
          "name": "stdout",
          "text": [
            "[1400]\ttrain's auc: 0.997565\tvalid's auc: 0.989989\n"
          ]
        },
        {
          "output_type": "stream",
          "name": "stdout",
          "text": [
            "[1600]\ttrain's auc: 0.998195\tvalid's auc: 0.990133\n"
          ]
        },
        {
          "output_type": "stream",
          "name": "stdout",
          "text": [
            "[1800]\ttrain's auc: 0.998686\tvalid's auc: 0.990303\n"
          ]
        },
        {
          "output_type": "stream",
          "name": "stdout",
          "text": [
            "[2000]\ttrain's auc: 0.999061\tvalid's auc: 0.990386\n"
          ]
        },
        {
          "output_type": "stream",
          "name": "stdout",
          "text": [
            "[2200]\ttrain's auc: 0.999339\tvalid's auc: 0.990483\n"
          ]
        },
        {
          "output_type": "stream",
          "name": "stdout",
          "text": [
            "[2400]\ttrain's auc: 0.999549\tvalid's auc: 0.990555\n"
          ]
        },
        {
          "output_type": "stream",
          "name": "stdout",
          "text": [
            "[2600]\ttrain's auc: 0.999698\tvalid's auc: 0.990637\n"
          ]
        },
        {
          "output_type": "stream",
          "name": "stdout",
          "text": [
            "[2800]\ttrain's auc: 0.999803\tvalid's auc: 0.990685\n"
          ]
        },
        {
          "output_type": "stream",
          "name": "stdout",
          "text": [
            "[3000]\ttrain's auc: 0.999874\tvalid's auc: 0.990729\n"
          ]
        },
        {
          "output_type": "stream",
          "name": "stdout",
          "text": [
            "[3200]\ttrain's auc: 0.999922\tvalid's auc: 0.990793\n"
          ]
        },
        {
          "output_type": "stream",
          "name": "stdout",
          "text": [
            "[3400]\ttrain's auc: 0.999954\tvalid's auc: 0.990838\n"
          ]
        },
        {
          "output_type": "stream",
          "name": "stdout",
          "text": [
            "[3600]\ttrain's auc: 0.999973\tvalid's auc: 0.990859\n"
          ]
        },
        {
          "output_type": "stream",
          "name": "stdout",
          "text": [
            "[3800]\ttrain's auc: 0.999985\tvalid's auc: 0.990892\n"
          ]
        },
        {
          "output_type": "stream",
          "name": "stdout",
          "text": [
            "[4000]\ttrain's auc: 0.999992\tvalid's auc: 0.990926\nDid not meet early stopping. Best iteration is:\n[4000]\ttrain's auc: 0.999992\tvalid's auc: 0.990926\n"
          ]
        },
        {
          "output_type": "stream",
          "name": "stdout",
          "text": [
            "[2025-09-11 23:16:33] [LGB multi] seed=42 fold=1 AUC: 0.990926 | best_iter=4000 | elapsed=312.9s\n"
          ]
        },
        {
          "output_type": "stream",
          "name": "stdout",
          "text": [
            "[2025-09-11 23:16:36] [LGB multi] seed=42 ff=0.75 bf=0.75 | Fold 3/10 | trn=720000 val=80000\n"
          ]
        },
        {
          "output_type": "stream",
          "name": "stdout",
          "text": [
            "Training until validation scores don't improve for 120 rounds\n"
          ]
        },
        {
          "output_type": "stream",
          "name": "stdout",
          "text": [
            "[200]\ttrain's auc: 0.978655\tvalid's auc: 0.975542\n"
          ]
        },
        {
          "output_type": "stream",
          "name": "stdout",
          "text": [
            "[400]\ttrain's auc: 0.988786\tvalid's auc: 0.98512\n"
          ]
        },
        {
          "output_type": "stream",
          "name": "stdout",
          "text": [
            "[600]\ttrain's auc: 0.992315\tvalid's auc: 0.987885\n"
          ]
        },
        {
          "output_type": "stream",
          "name": "stdout",
          "text": [
            "[800]\ttrain's auc: 0.994279\tvalid's auc: 0.988868\n"
          ]
        },
        {
          "output_type": "stream",
          "name": "stdout",
          "text": [
            "[1000]\ttrain's auc: 0.995671\tvalid's auc: 0.989459\n"
          ]
        },
        {
          "output_type": "stream",
          "name": "stdout",
          "text": [
            "[1200]\ttrain's auc: 0.996741\tvalid's auc: 0.989816\n"
          ]
        },
        {
          "output_type": "stream",
          "name": "stdout",
          "text": [
            "[1400]\ttrain's auc: 0.997563\tvalid's auc: 0.990079\n"
          ]
        },
        {
          "output_type": "stream",
          "name": "stdout",
          "text": [
            "[1600]\ttrain's auc: 0.998191\tvalid's auc: 0.990227\n"
          ]
        },
        {
          "output_type": "stream",
          "name": "stdout",
          "text": [
            "[1800]\ttrain's auc: 0.998676\tvalid's auc: 0.990338\n"
          ]
        },
        {
          "output_type": "stream",
          "name": "stdout",
          "text": [
            "[2000]\ttrain's auc: 0.999042\tvalid's auc: 0.990423\n"
          ]
        },
        {
          "output_type": "stream",
          "name": "stdout",
          "text": [
            "[2200]\ttrain's auc: 0.999325\tvalid's auc: 0.99051\n"
          ]
        },
        {
          "output_type": "stream",
          "name": "stdout",
          "text": [
            "[2400]\ttrain's auc: 0.999533\tvalid's auc: 0.990586\n"
          ]
        },
        {
          "output_type": "stream",
          "name": "stdout",
          "text": [
            "[2600]\ttrain's auc: 0.999684\tvalid's auc: 0.990652\n"
          ]
        },
        {
          "output_type": "stream",
          "name": "stdout",
          "text": [
            "[2800]\ttrain's auc: 0.999796\tvalid's auc: 0.990691\n"
          ]
        },
        {
          "output_type": "stream",
          "name": "stdout",
          "text": [
            "[3000]\ttrain's auc: 0.999868\tvalid's auc: 0.990748\n"
          ]
        },
        {
          "output_type": "stream",
          "name": "stdout",
          "text": [
            "[3200]\ttrain's auc: 0.999919\tvalid's auc: 0.990806\n"
          ]
        },
        {
          "output_type": "stream",
          "name": "stdout",
          "text": [
            "[3400]\ttrain's auc: 0.999951\tvalid's auc: 0.990859\n"
          ]
        },
        {
          "output_type": "stream",
          "name": "stdout",
          "text": [
            "[3600]\ttrain's auc: 0.999972\tvalid's auc: 0.990886\n"
          ]
        },
        {
          "output_type": "stream",
          "name": "stdout",
          "text": [
            "[3800]\ttrain's auc: 0.999984\tvalid's auc: 0.990898\n"
          ]
        },
        {
          "output_type": "stream",
          "name": "stdout",
          "text": [
            "Early stopping, best iteration is:\n[3720]\ttrain's auc: 0.99998\tvalid's auc: 0.990903\n"
          ]
        },
        {
          "output_type": "stream",
          "name": "stdout",
          "text": [
            "[2025-09-11 23:21:35] [LGB multi] seed=42 fold=2 AUC: 0.990903 | best_iter=3720 | elapsed=298.8s\n"
          ]
        },
        {
          "output_type": "stream",
          "name": "stdout",
          "text": [
            "[2025-09-11 23:21:37] [LGB multi] seed=42 ff=0.75 bf=0.75 | Fold 4/10 | trn=720000 val=80000\n"
          ]
        },
        {
          "output_type": "stream",
          "name": "stdout",
          "text": [
            "Training until validation scores don't improve for 120 rounds\n"
          ]
        },
        {
          "output_type": "stream",
          "name": "stdout",
          "text": [
            "[200]\ttrain's auc: 0.978624\tvalid's auc: 0.975211\n"
          ]
        },
        {
          "output_type": "stream",
          "name": "stdout",
          "text": [
            "[400]\ttrain's auc: 0.988731\tvalid's auc: 0.984888\n"
          ]
        },
        {
          "output_type": "stream",
          "name": "stdout",
          "text": [
            "[600]\ttrain's auc: 0.992295\tvalid's auc: 0.987713\n"
          ]
        },
        {
          "output_type": "stream",
          "name": "stdout",
          "text": [
            "[800]\ttrain's auc: 0.994299\tvalid's auc: 0.988808\n"
          ]
        },
        {
          "output_type": "stream",
          "name": "stdout",
          "text": [
            "[1000]\ttrain's auc: 0.99567\tvalid's auc: 0.989337\n"
          ]
        },
        {
          "output_type": "stream",
          "name": "stdout",
          "text": [
            "[1200]\ttrain's auc: 0.996725\tvalid's auc: 0.9897\n"
          ]
        },
        {
          "output_type": "stream",
          "name": "stdout",
          "text": [
            "[1400]\ttrain's auc: 0.997529\tvalid's auc: 0.989898\n"
          ]
        },
        {
          "output_type": "stream",
          "name": "stdout",
          "text": [
            "[1600]\ttrain's auc: 0.998173\tvalid's auc: 0.990074\n"
          ]
        },
        {
          "output_type": "stream",
          "name": "stdout",
          "text": [
            "[1800]\ttrain's auc: 0.998662\tvalid's auc: 0.990223\n"
          ]
        },
        {
          "output_type": "stream",
          "name": "stdout",
          "text": [
            "[2000]\ttrain's auc: 0.99904\tvalid's auc: 0.990336\n"
          ]
        },
        {
          "output_type": "stream",
          "name": "stdout",
          "text": [
            "[2200]\ttrain's auc: 0.999334\tvalid's auc: 0.990433\n"
          ]
        },
        {
          "output_type": "stream",
          "name": "stdout",
          "text": [
            "[2400]\ttrain's auc: 0.999538\tvalid's auc: 0.990544\n"
          ]
        },
        {
          "output_type": "stream",
          "name": "stdout",
          "text": [
            "[2600]\ttrain's auc: 0.999687\tvalid's auc: 0.990627\n"
          ]
        },
        {
          "output_type": "stream",
          "name": "stdout",
          "text": [
            "[2800]\ttrain's auc: 0.999797\tvalid's auc: 0.990661\n"
          ]
        },
        {
          "output_type": "stream",
          "name": "stdout",
          "text": [
            "[3000]\ttrain's auc: 0.999868\tvalid's auc: 0.990708\n"
          ]
        },
        {
          "output_type": "stream",
          "name": "stdout",
          "text": [
            "[3200]\ttrain's auc: 0.999916\tvalid's auc: 0.990772\n"
          ]
        },
        {
          "output_type": "stream",
          "name": "stdout",
          "text": [
            "[3400]\ttrain's auc: 0.999948\tvalid's auc: 0.990833\n"
          ]
        },
        {
          "output_type": "stream",
          "name": "stdout",
          "text": [
            "[3600]\ttrain's auc: 0.999969\tvalid's auc: 0.990858\n"
          ]
        },
        {
          "output_type": "stream",
          "name": "stdout",
          "text": [
            "[3800]\ttrain's auc: 0.999982\tvalid's auc: 0.990886\n"
          ]
        },
        {
          "output_type": "stream",
          "name": "stdout",
          "text": [
            "[4000]\ttrain's auc: 0.99999\tvalid's auc: 0.990924\nDid not meet early stopping. Best iteration is:\n[4000]\ttrain's auc: 0.99999\tvalid's auc: 0.990924\n"
          ]
        },
        {
          "output_type": "stream",
          "name": "stdout",
          "text": [
            "[2025-09-11 23:26:56] [LGB multi] seed=42 fold=3 AUC: 0.990924 | best_iter=4000 | elapsed=318.8s\n"
          ]
        },
        {
          "output_type": "stream",
          "name": "stdout",
          "text": [
            "[2025-09-11 23:26:59] [LGB multi] seed=42 ff=0.75 bf=0.75 | Fold 5/10 | trn=720000 val=80000\n"
          ]
        },
        {
          "output_type": "stream",
          "name": "stdout",
          "text": [
            "Training until validation scores don't improve for 120 rounds\n"
          ]
        },
        {
          "output_type": "stream",
          "name": "stdout",
          "text": [
            "[200]\ttrain's auc: 0.978115\tvalid's auc: 0.97447\n"
          ]
        },
        {
          "output_type": "stream",
          "name": "stdout",
          "text": [
            "[400]\ttrain's auc: 0.988526\tvalid's auc: 0.98467\n"
          ]
        },
        {
          "output_type": "stream",
          "name": "stdout",
          "text": [
            "[600]\ttrain's auc: 0.992168\tvalid's auc: 0.987541\n"
          ]
        },
        {
          "output_type": "stream",
          "name": "stdout",
          "text": [
            "[800]\ttrain's auc: 0.994208\tvalid's auc: 0.988659\n"
          ]
        },
        {
          "output_type": "stream",
          "name": "stdout",
          "text": [
            "[1000]\ttrain's auc: 0.995613\tvalid's auc: 0.989259\n"
          ]
        },
        {
          "output_type": "stream",
          "name": "stdout",
          "text": [
            "[1200]\ttrain's auc: 0.996698\tvalid's auc: 0.989669\n"
          ]
        },
        {
          "output_type": "stream",
          "name": "stdout",
          "text": [
            "[1400]\ttrain's auc: 0.997507\tvalid's auc: 0.989869\n"
          ]
        },
        {
          "output_type": "stream",
          "name": "stdout",
          "text": [
            "[1600]\ttrain's auc: 0.998151\tvalid's auc: 0.990076\n"
          ]
        },
        {
          "output_type": "stream",
          "name": "stdout",
          "text": [
            "[1800]\ttrain's auc: 0.998655\tvalid's auc: 0.990213\n"
          ]
        },
        {
          "output_type": "stream",
          "name": "stdout",
          "text": [
            "[2000]\ttrain's auc: 0.999041\tvalid's auc: 0.990335\n"
          ]
        },
        {
          "output_type": "stream",
          "name": "stdout",
          "text": [
            "[2200]\ttrain's auc: 0.999323\tvalid's auc: 0.990415\n"
          ]
        },
        {
          "output_type": "stream",
          "name": "stdout",
          "text": [
            "[2400]\ttrain's auc: 0.999536\tvalid's auc: 0.990479\n"
          ]
        },
        {
          "output_type": "stream",
          "name": "stdout",
          "text": [
            "[2600]\ttrain's auc: 0.999688\tvalid's auc: 0.990566\n"
          ]
        },
        {
          "output_type": "stream",
          "name": "stdout",
          "text": [
            "[2800]\ttrain's auc: 0.999795\tvalid's auc: 0.990643\n"
          ]
        },
        {
          "output_type": "stream",
          "name": "stdout",
          "text": [
            "[3000]\ttrain's auc: 0.999869\tvalid's auc: 0.990692\n"
          ]
        },
        {
          "output_type": "stream",
          "name": "stdout",
          "text": [
            "[3200]\ttrain's auc: 0.999918\tvalid's auc: 0.99076\n"
          ]
        },
        {
          "output_type": "stream",
          "name": "stdout",
          "text": [
            "[3400]\ttrain's auc: 0.999951\tvalid's auc: 0.990812\n"
          ]
        },
        {
          "output_type": "stream",
          "name": "stdout",
          "text": [
            "[3600]\ttrain's auc: 0.999971\tvalid's auc: 0.990844\n"
          ]
        },
        {
          "output_type": "stream",
          "name": "stdout",
          "text": [
            "[3800]\ttrain's auc: 0.999983\tvalid's auc: 0.990875\n"
          ]
        },
        {
          "output_type": "stream",
          "name": "stdout",
          "text": [
            "[4000]\ttrain's auc: 0.999991\tvalid's auc: 0.990913\nDid not meet early stopping. Best iteration is:\n[4000]\ttrain's auc: 0.999991\tvalid's auc: 0.990913\n"
          ]
        },
        {
          "output_type": "stream",
          "name": "stdout",
          "text": [
            "[2025-09-11 23:32:08] [LGB multi] seed=42 fold=4 AUC: 0.990913 | best_iter=4000 | elapsed=308.8s\n"
          ]
        },
        {
          "output_type": "stream",
          "name": "stdout",
          "text": [
            "[2025-09-11 23:32:11] [LGB multi] seed=42 ff=0.75 bf=0.75 | Fold 6/10 | trn=720000 val=80000\n"
          ]
        },
        {
          "output_type": "stream",
          "name": "stdout",
          "text": [
            "Training until validation scores don't improve for 120 rounds\n"
          ]
        },
        {
          "output_type": "stream",
          "name": "stdout",
          "text": [
            "[200]\ttrain's auc: 0.978233\tvalid's auc: 0.974894\n"
          ]
        },
        {
          "output_type": "stream",
          "name": "stdout",
          "text": [
            "[400]\ttrain's auc: 0.988841\tvalid's auc: 0.985093\n"
          ]
        },
        {
          "output_type": "stream",
          "name": "stdout",
          "text": [
            "[600]\ttrain's auc: 0.99226\tvalid's auc: 0.9876\n"
          ]
        },
        {
          "output_type": "stream",
          "name": "stdout",
          "text": [
            "[800]\ttrain's auc: 0.994228\tvalid's auc: 0.988561\n"
          ]
        },
        {
          "output_type": "stream",
          "name": "stdout",
          "text": [
            "[1000]\ttrain's auc: 0.995651\tvalid's auc: 0.989204\n"
          ]
        },
        {
          "output_type": "stream",
          "name": "stdout",
          "text": [
            "[1200]\ttrain's auc: 0.996711\tvalid's auc: 0.989594\n"
          ]
        },
        {
          "output_type": "stream",
          "name": "stdout",
          "text": [
            "[1400]\ttrain's auc: 0.997528\tvalid's auc: 0.989809\n"
          ]
        },
        {
          "output_type": "stream",
          "name": "stdout",
          "text": [
            "[1600]\ttrain's auc: 0.998156\tvalid's auc: 0.98996\n"
          ]
        },
        {
          "output_type": "stream",
          "name": "stdout",
          "text": [
            "[1800]\ttrain's auc: 0.99866\tvalid's auc: 0.99015\n"
          ]
        },
        {
          "output_type": "stream",
          "name": "stdout",
          "text": [
            "[2000]\ttrain's auc: 0.99904\tvalid's auc: 0.990245\n"
          ]
        },
        {
          "output_type": "stream",
          "name": "stdout",
          "text": [
            "[2200]\ttrain's auc: 0.999322\tvalid's auc: 0.990366\n"
          ]
        },
        {
          "output_type": "stream",
          "name": "stdout",
          "text": [
            "[2400]\ttrain's auc: 0.999534\tvalid's auc: 0.990474\n"
          ]
        },
        {
          "output_type": "stream",
          "name": "stdout",
          "text": [
            "[2600]\ttrain's auc: 0.999684\tvalid's auc: 0.990549\n"
          ]
        },
        {
          "output_type": "stream",
          "name": "stdout",
          "text": [
            "[2800]\ttrain's auc: 0.99979\tvalid's auc: 0.990609\n"
          ]
        },
        {
          "output_type": "stream",
          "name": "stdout",
          "text": [
            "[3000]\ttrain's auc: 0.999866\tvalid's auc: 0.99067\n"
          ]
        },
        {
          "output_type": "stream",
          "name": "stdout",
          "text": [
            "[3200]\ttrain's auc: 0.999914\tvalid's auc: 0.990727\n"
          ]
        },
        {
          "output_type": "stream",
          "name": "stdout",
          "text": [
            "[3400]\ttrain's auc: 0.999947\tvalid's auc: 0.990769\n"
          ]
        },
        {
          "output_type": "stream",
          "name": "stdout",
          "text": [
            "[3600]\ttrain's auc: 0.999969\tvalid's auc: 0.990814\n"
          ]
        },
        {
          "output_type": "stream",
          "name": "stdout",
          "text": [
            "[3800]\ttrain's auc: 0.999982\tvalid's auc: 0.99084\n"
          ]
        },
        {
          "output_type": "stream",
          "name": "stdout",
          "text": [
            "[4000]\ttrain's auc: 0.99999\tvalid's auc: 0.990878\nDid not meet early stopping. Best iteration is:\n[3977]\ttrain's auc: 0.999989\tvalid's auc: 0.990878\n"
          ]
        },
        {
          "output_type": "stream",
          "name": "stdout",
          "text": [
            "[2025-09-11 23:37:25] [LGB multi] seed=42 fold=5 AUC: 0.990878 | best_iter=3977 | elapsed=314.6s\n"
          ]
        },
        {
          "output_type": "stream",
          "name": "stdout",
          "text": [
            "[2025-09-11 23:37:28] [LGB multi] seed=42 ff=0.75 bf=0.75 | Fold 7/10 | trn=720000 val=80000\n"
          ]
        },
        {
          "output_type": "stream",
          "name": "stdout",
          "text": [
            "Training until validation scores don't improve for 120 rounds\n"
          ]
        },
        {
          "output_type": "stream",
          "name": "stdout",
          "text": [
            "[200]\ttrain's auc: 0.978408\tvalid's auc: 0.976143\n"
          ]
        },
        {
          "output_type": "stream",
          "name": "stdout",
          "text": [
            "[400]\ttrain's auc: 0.98858\tvalid's auc: 0.98557\n"
          ]
        },
        {
          "output_type": "stream",
          "name": "stdout",
          "text": [
            "[600]\ttrain's auc: 0.992346\tvalid's auc: 0.988504\n"
          ]
        },
        {
          "output_type": "stream",
          "name": "stdout",
          "text": [
            "[800]\ttrain's auc: 0.994272\tvalid's auc: 0.989386\n"
          ]
        },
        {
          "output_type": "stream",
          "name": "stdout",
          "text": [
            "[1000]\ttrain's auc: 0.995657\tvalid's auc: 0.989857\n"
          ]
        },
        {
          "output_type": "stream",
          "name": "stdout",
          "text": [
            "[1200]\ttrain's auc: 0.996713\tvalid's auc: 0.990171\n"
          ]
        },
        {
          "output_type": "stream",
          "name": "stdout",
          "text": [
            "[1400]\ttrain's auc: 0.997537\tvalid's auc: 0.990416\n"
          ]
        },
        {
          "output_type": "stream",
          "name": "stdout",
          "text": [
            "[1600]\ttrain's auc: 0.998161\tvalid's auc: 0.99058\n"
          ]
        },
        {
          "output_type": "stream",
          "name": "stdout",
          "text": [
            "[1800]\ttrain's auc: 0.998664\tvalid's auc: 0.990734\n"
          ]
        },
        {
          "output_type": "stream",
          "name": "stdout",
          "text": [
            "[2000]\ttrain's auc: 0.999033\tvalid's auc: 0.990848\n"
          ]
        },
        {
          "output_type": "stream",
          "name": "stdout",
          "text": [
            "[2200]\ttrain's auc: 0.999325\tvalid's auc: 0.99093\n"
          ]
        },
        {
          "output_type": "stream",
          "name": "stdout",
          "text": [
            "[2400]\ttrain's auc: 0.999534\tvalid's auc: 0.991\n"
          ]
        },
        {
          "output_type": "stream",
          "name": "stdout",
          "text": [
            "[2600]\ttrain's auc: 0.999683\tvalid's auc: 0.991056\n"
          ]
        },
        {
          "output_type": "stream",
          "name": "stdout",
          "text": [
            "[2800]\ttrain's auc: 0.999793\tvalid's auc: 0.991127\n"
          ]
        },
        {
          "output_type": "stream",
          "name": "stdout",
          "text": [
            "[3000]\ttrain's auc: 0.999867\tvalid's auc: 0.991174\n"
          ]
        },
        {
          "output_type": "stream",
          "name": "stdout",
          "text": [
            "[3200]\ttrain's auc: 0.999916\tvalid's auc: 0.991209\n"
          ]
        },
        {
          "output_type": "stream",
          "name": "stdout",
          "text": [
            "[3400]\ttrain's auc: 0.999949\tvalid's auc: 0.991264\n"
          ]
        },
        {
          "output_type": "stream",
          "name": "stdout",
          "text": [
            "[3600]\ttrain's auc: 0.99997\tvalid's auc: 0.991291\n"
          ]
        },
        {
          "output_type": "stream",
          "name": "stdout",
          "text": [
            "[3800]\ttrain's auc: 0.999983\tvalid's auc: 0.991325\n"
          ]
        },
        {
          "output_type": "stream",
          "name": "stdout",
          "text": [
            "[4000]\ttrain's auc: 0.99999\tvalid's auc: 0.991342\nDid not meet early stopping. Best iteration is:\n[3979]\ttrain's auc: 0.99999\tvalid's auc: 0.991342\n"
          ]
        },
        {
          "output_type": "stream",
          "name": "stdout",
          "text": [
            "[2025-09-11 23:42:38] [LGB multi] seed=42 fold=6 AUC: 0.991342 | best_iter=3979 | elapsed=309.3s\n"
          ]
        },
        {
          "output_type": "stream",
          "name": "stdout",
          "text": [
            "[2025-09-11 23:42:41] [LGB multi] seed=42 ff=0.75 bf=0.75 | Fold 8/10 | trn=720000 val=80000\n"
          ]
        },
        {
          "output_type": "stream",
          "name": "stdout",
          "text": [
            "Training until validation scores don't improve for 120 rounds\n"
          ]
        },
        {
          "output_type": "stream",
          "name": "stdout",
          "text": [
            "[200]\ttrain's auc: 0.978395\tvalid's auc: 0.974883\n"
          ]
        },
        {
          "output_type": "stream",
          "name": "stdout",
          "text": [
            "[400]\ttrain's auc: 0.988648\tvalid's auc: 0.984772\n"
          ]
        },
        {
          "output_type": "stream",
          "name": "stdout",
          "text": [
            "[600]\ttrain's auc: 0.992244\tvalid's auc: 0.987665\n"
          ]
        },
        {
          "output_type": "stream",
          "name": "stdout",
          "text": [
            "[800]\ttrain's auc: 0.994263\tvalid's auc: 0.988789\n"
          ]
        },
        {
          "output_type": "stream",
          "name": "stdout",
          "text": [
            "[1000]\ttrain's auc: 0.995625\tvalid's auc: 0.98927\n"
          ]
        },
        {
          "output_type": "stream",
          "name": "stdout",
          "text": [
            "[1200]\ttrain's auc: 0.996693\tvalid's auc: 0.989622\n"
          ]
        },
        {
          "output_type": "stream",
          "name": "stdout",
          "text": [
            "[1400]\ttrain's auc: 0.997512\tvalid's auc: 0.989893\n"
          ]
        },
        {
          "output_type": "stream",
          "name": "stdout",
          "text": [
            "[1600]\ttrain's auc: 0.998162\tvalid's auc: 0.990124\n"
          ]
        },
        {
          "output_type": "stream",
          "name": "stdout",
          "text": [
            "[1800]\ttrain's auc: 0.998653\tvalid's auc: 0.990233\n"
          ]
        },
        {
          "output_type": "stream",
          "name": "stdout",
          "text": [
            "[2000]\ttrain's auc: 0.999032\tvalid's auc: 0.990335\n"
          ]
        },
        {
          "output_type": "stream",
          "name": "stdout",
          "text": [
            "[2200]\ttrain's auc: 0.999322\tvalid's auc: 0.990426\n"
          ]
        },
        {
          "output_type": "stream",
          "name": "stdout",
          "text": [
            "[2400]\ttrain's auc: 0.999535\tvalid's auc: 0.990526\n"
          ]
        },
        {
          "output_type": "stream",
          "name": "stdout",
          "text": [
            "[2600]\ttrain's auc: 0.999687\tvalid's auc: 0.990607\n"
          ]
        },
        {
          "output_type": "stream",
          "name": "stdout",
          "text": [
            "[2800]\ttrain's auc: 0.999793\tvalid's auc: 0.990674\n"
          ]
        },
        {
          "output_type": "stream",
          "name": "stdout",
          "text": [
            "[3000]\ttrain's auc: 0.99987\tvalid's auc: 0.990736\n"
          ]
        },
        {
          "output_type": "stream",
          "name": "stdout",
          "text": [
            "[3200]\ttrain's auc: 0.999918\tvalid's auc: 0.990792\n"
          ]
        },
        {
          "output_type": "stream",
          "name": "stdout",
          "text": [
            "[3400]\ttrain's auc: 0.999951\tvalid's auc: 0.990824\n"
          ]
        },
        {
          "output_type": "stream",
          "name": "stdout",
          "text": [
            "[3600]\ttrain's auc: 0.999971\tvalid's auc: 0.990868\n"
          ]
        },
        {
          "output_type": "stream",
          "name": "stdout",
          "text": [
            "[3800]\ttrain's auc: 0.999983\tvalid's auc: 0.990916\n"
          ]
        },
        {
          "output_type": "stream",
          "name": "stdout",
          "text": [
            "[4000]\ttrain's auc: 0.999991\tvalid's auc: 0.99094\nDid not meet early stopping. Best iteration is:\n[4000]\ttrain's auc: 0.999991\tvalid's auc: 0.99094\n"
          ]
        },
        {
          "output_type": "stream",
          "name": "stdout",
          "text": [
            "[2025-09-11 23:47:58] [LGB multi] seed=42 fold=7 AUC: 0.990940 | best_iter=4000 | elapsed=316.9s\n"
          ]
        },
        {
          "output_type": "stream",
          "name": "stdout",
          "text": [
            "[2025-09-11 23:48:00] [LGB multi] seed=42 ff=0.75 bf=0.75 | Fold 9/10 | trn=720000 val=80000\n"
          ]
        },
        {
          "output_type": "stream",
          "name": "stdout",
          "text": [
            "Training until validation scores don't improve for 120 rounds\n"
          ]
        },
        {
          "output_type": "stream",
          "name": "stdout",
          "text": [
            "[200]\ttrain's auc: 0.978407\tvalid's auc: 0.97558\n"
          ]
        },
        {
          "output_type": "stream",
          "name": "stdout",
          "text": [
            "[400]\ttrain's auc: 0.988609\tvalid's auc: 0.98532\n"
          ]
        },
        {
          "output_type": "stream",
          "name": "stdout",
          "text": [
            "[600]\ttrain's auc: 0.992207\tvalid's auc: 0.988053\n"
          ]
        },
        {
          "output_type": "stream",
          "name": "stdout",
          "text": [
            "[800]\ttrain's auc: 0.994174\tvalid's auc: 0.989036\n"
          ]
        },
        {
          "output_type": "stream",
          "name": "stdout",
          "text": [
            "[1000]\ttrain's auc: 0.995597\tvalid's auc: 0.989658\n"
          ]
        },
        {
          "output_type": "stream",
          "name": "stdout",
          "text": [
            "[1200]\ttrain's auc: 0.996659\tvalid's auc: 0.99002\n"
          ]
        },
        {
          "output_type": "stream",
          "name": "stdout",
          "text": [
            "[1400]\ttrain's auc: 0.997488\tvalid's auc: 0.990215\n"
          ]
        },
        {
          "output_type": "stream",
          "name": "stdout",
          "text": [
            "[1600]\ttrain's auc: 0.998139\tvalid's auc: 0.990426\n"
          ]
        },
        {
          "output_type": "stream",
          "name": "stdout",
          "text": [
            "[1800]\ttrain's auc: 0.998633\tvalid's auc: 0.990616\n"
          ]
        },
        {
          "output_type": "stream",
          "name": "stdout",
          "text": [
            "[2000]\ttrain's auc: 0.999027\tvalid's auc: 0.99074\n"
          ]
        },
        {
          "output_type": "stream",
          "name": "stdout",
          "text": [
            "[2200]\ttrain's auc: 0.999313\tvalid's auc: 0.990849\n"
          ]
        },
        {
          "output_type": "stream",
          "name": "stdout",
          "text": [
            "[2400]\ttrain's auc: 0.999528\tvalid's auc: 0.990921\n"
          ]
        },
        {
          "output_type": "stream",
          "name": "stdout",
          "text": [
            "[2600]\ttrain's auc: 0.999683\tvalid's auc: 0.990968\n"
          ]
        },
        {
          "output_type": "stream",
          "name": "stdout",
          "text": [
            "[2800]\ttrain's auc: 0.999791\tvalid's auc: 0.991044\n"
          ]
        },
        {
          "output_type": "stream",
          "name": "stdout",
          "text": [
            "[3000]\ttrain's auc: 0.999865\tvalid's auc: 0.991085\n"
          ]
        },
        {
          "output_type": "stream",
          "name": "stdout",
          "text": [
            "[3200]\ttrain's auc: 0.999916\tvalid's auc: 0.991146\n"
          ]
        },
        {
          "output_type": "stream",
          "name": "stdout",
          "text": [
            "[3400]\ttrain's auc: 0.999949\tvalid's auc: 0.991215\n"
          ]
        },
        {
          "output_type": "stream",
          "name": "stdout",
          "text": [
            "[3600]\ttrain's auc: 0.99997\tvalid's auc: 0.99125\n"
          ]
        },
        {
          "output_type": "stream",
          "name": "stdout",
          "text": [
            "[3800]\ttrain's auc: 0.999984\tvalid's auc: 0.991286\n"
          ]
        },
        {
          "output_type": "stream",
          "name": "stdout",
          "text": [
            "[4000]\ttrain's auc: 0.999991\tvalid's auc: 0.991314\nDid not meet early stopping. Best iteration is:\n[3976]\ttrain's auc: 0.999991\tvalid's auc: 0.991318\n"
          ]
        },
        {
          "output_type": "stream",
          "name": "stdout",
          "text": [
            "[2025-09-11 23:53:12] [LGB multi] seed=42 fold=8 AUC: 0.991318 | best_iter=3976 | elapsed=311.9s\n"
          ]
        },
        {
          "output_type": "stream",
          "name": "stdout",
          "text": [
            "[2025-09-11 23:53:15] [LGB multi] seed=42 ff=0.75 bf=0.75 | Fold 10/10 | trn=720000 val=80000\n"
          ]
        },
        {
          "output_type": "stream",
          "name": "stdout",
          "text": [
            "Training until validation scores don't improve for 120 rounds\n"
          ]
        },
        {
          "output_type": "stream",
          "name": "stdout",
          "text": [
            "[200]\ttrain's auc: 0.978276\tvalid's auc: 0.97555\n"
          ]
        },
        {
          "output_type": "stream",
          "name": "stdout",
          "text": [
            "[400]\ttrain's auc: 0.988778\tvalid's auc: 0.985715\n"
          ]
        },
        {
          "output_type": "stream",
          "name": "stdout",
          "text": [
            "[600]\ttrain's auc: 0.992386\tvalid's auc: 0.988445\n"
          ]
        },
        {
          "output_type": "stream",
          "name": "stdout",
          "text": [
            "[800]\ttrain's auc: 0.994296\tvalid's auc: 0.989328\n"
          ]
        },
        {
          "output_type": "stream",
          "name": "stdout",
          "text": [
            "[1000]\ttrain's auc: 0.995681\tvalid's auc: 0.989872\n"
          ]
        },
        {
          "output_type": "stream",
          "name": "stdout",
          "text": [
            "[1200]\ttrain's auc: 0.996727\tvalid's auc: 0.99019\n"
          ]
        },
        {
          "output_type": "stream",
          "name": "stdout",
          "text": [
            "[1400]\ttrain's auc: 0.997541\tvalid's auc: 0.990323\n"
          ]
        },
        {
          "output_type": "stream",
          "name": "stdout",
          "text": [
            "[1600]\ttrain's auc: 0.998176\tvalid's auc: 0.990467\n"
          ]
        },
        {
          "output_type": "stream",
          "name": "stdout",
          "text": [
            "[1800]\ttrain's auc: 0.998666\tvalid's auc: 0.990602\n"
          ]
        },
        {
          "output_type": "stream",
          "name": "stdout",
          "text": [
            "[2000]\ttrain's auc: 0.999036\tvalid's auc: 0.990706\n"
          ]
        },
        {
          "output_type": "stream",
          "name": "stdout",
          "text": [
            "[2200]\ttrain's auc: 0.999324\tvalid's auc: 0.990802\n"
          ]
        },
        {
          "output_type": "stream",
          "name": "stdout",
          "text": [
            "[2400]\ttrain's auc: 0.999536\tvalid's auc: 0.990857\n"
          ]
        },
        {
          "output_type": "stream",
          "name": "stdout",
          "text": [
            "[2600]\ttrain's auc: 0.999686\tvalid's auc: 0.990915\n"
          ]
        },
        {
          "output_type": "stream",
          "name": "stdout",
          "text": [
            "[2800]\ttrain's auc: 0.999791\tvalid's auc: 0.990951\n"
          ]
        },
        {
          "output_type": "stream",
          "name": "stdout",
          "text": [
            "[3000]\ttrain's auc: 0.999865\tvalid's auc: 0.991017\n"
          ]
        },
        {
          "output_type": "stream",
          "name": "stdout",
          "text": [
            "[3200]\ttrain's auc: 0.999915\tvalid's auc: 0.991081\n"
          ]
        },
        {
          "output_type": "stream",
          "name": "stdout",
          "text": [
            "[3400]\ttrain's auc: 0.99995\tvalid's auc: 0.991106\n"
          ]
        },
        {
          "output_type": "stream",
          "name": "stdout",
          "text": [
            "[3600]\ttrain's auc: 0.999971\tvalid's auc: 0.991145\n"
          ]
        },
        {
          "output_type": "stream",
          "name": "stdout",
          "text": [
            "[3800]\ttrain's auc: 0.999984\tvalid's auc: 0.991156\n"
          ]
        },
        {
          "output_type": "stream",
          "name": "stdout",
          "text": [
            "Early stopping, best iteration is:\n[3732]\ttrain's auc: 0.99998\tvalid's auc: 0.991168\n"
          ]
        },
        {
          "output_type": "stream",
          "name": "stdout",
          "text": [
            "[2025-09-11 23:58:19] [LGB multi] seed=42 fold=9 AUC: 0.991168 | best_iter=3732 | elapsed=303.4s\n"
          ]
        },
        {
          "output_type": "stream",
          "name": "stdout",
          "text": [
            "[2025-09-11 23:58:22] [LGB multi] seed=42 OOF AUC: 0.991021 | total_elapsed=3140.3s\n"
          ]
        },
        {
          "output_type": "stream",
          "name": "stdout",
          "text": [
            "[2025-09-11 23:58:23] [LGB multi] Saved OOF/test preds for s42\n"
          ]
        }
      ]
    },
    {
      "id": "8df705e5-2e90-456c-b8eb-f8b575d3e4e8",
      "cell_type": "code",
      "metadata": {},
      "source": [
        "# Blending: LGB multi-seeds (s42,s1337,s2025) + XGB (seed42); rank/prob grid on OOF; apply to test\n",
        "log('Preparing blend (LGB seeds + XGB) with OOF weight tuning...')\n",
        "import glob\n",
        "\n",
        "gt = train[['id', 'target']].copy()\n",
        "\n",
        "def safe_load_oof(path, default_col):\n",
        "    if not os.path.exists(path):\n",
        "        return None\n",
        "    df = pd.read_csv(path)\n",
        "    cols = [c for c in df.columns if c != 'id']\n",
        "    col = default_col if default_col in df.columns else (cols[0] if cols else None)\n",
        "    return df[['id', col]].rename(columns={col: 'pred'}) if col else None\n",
        "\n",
        "def safe_load_pred(path, default_col):\n",
        "    if not os.path.exists(path):\n",
        "        return None\n",
        "    df = pd.read_csv(path)\n",
        "    cols = [c for c in df.columns if c != 'id']\n",
        "    col = default_col if default_col in df.columns else (cols[0] if cols else None)\n",
        "    return df[['id', col]].rename(columns={col: 'pred'}) if col else None\n",
        "\n",
        "# LGB seeds (new 165-feature runs)\n",
        "oof_lgb_paths = [\n",
        "    ('oof_lgb_fast_s42.csv', 'oof_lgb_fast_s42'),\n",
        "    ('oof_lgb_fast_s1337.csv', 'oof_lgb_fast_s1337'),\n",
        "    ('oof_lgb_fast_s2025.csv', 'oof_lgb_fast_s2025'),\n",
        "]\n",
        "pred_lgb_paths = [\n",
        "    ('pred_lgb_fast_s42.csv', 'prediction_lgb_fast_s42'),\n",
        "    ('pred_lgb_fast_s1337.csv', 'prediction_lgb_fast_s1337'),\n",
        "    ('pred_lgb_fast_s2025.csv', 'prediction_lgb_fast_s2025'),\n",
        "]\n",
        "\n",
        "oof_lgb_list = []\n",
        "for p, col in oof_lgb_paths:\n",
        "    df = safe_load_oof(p, col)\n",
        "    if df is not None:\n",
        "        oof_lgb_list.append(df.rename(columns={'pred': f'pred_{p}'}))\n",
        "\n",
        "pred_lgb_list = []\n",
        "for p, col in pred_lgb_paths:\n",
        "    df = safe_load_pred(p, col)\n",
        "    if df is not None:\n",
        "        pred_lgb_list.append(df.rename(columns={'pred': f'pred_{p}'}))\n",
        "\n",
        "if len(oof_lgb_list) == 0:\n",
        "    log('No LGB seed OOF files found. Run LGB seeds first.');\n",
        "else:\n",
        "    oof_lgb_merged = oof_lgb_list[0]\n",
        "    for df in oof_lgb_list[1:]:\n",
        "        oof_lgb_merged = oof_lgb_merged.merge(df, on='id', how='inner')\n",
        "    # Build LGB ensemble OOF by simple average\n",
        "    lgb_cols = [c for c in oof_lgb_merged.columns if c != 'id']\n",
        "    oof_lgb_merged['lgb_ens'] = oof_lgb_merged[lgb_cols].mean(axis=1)\n",
        "    oof = gt.merge(oof_lgb_merged[['id', 'lgb_ens']], on='id', how='left')\n",
        "\n",
        "    # XGB (seed42)\n",
        "    oof_xgb = safe_load_oof('oof_xgb_seed42.csv', 'oof_xgb')\n",
        "    have_xgb = oof_xgb is not None\n",
        "    if have_xgb:\n",
        "        oof = oof.merge(oof_xgb.rename(columns={'pred': 'xgb'}), on='id', how='left')\n",
        "    else:\n",
        "        oof['xgb'] = np.nan\n",
        "\n",
        "    # Rank normalization helper\n",
        "    def rank_norm(x):\n",
        "        r = pd.Series(x).rank(method='average').values\n",
        "        return (r - 1) / (len(r) - 1)\n",
        "\n",
        "    oof['lgb_r'] = rank_norm(oof['lgb_ens'])\n",
        "    if have_xgb:\n",
        "        oof['xgb_r'] = rank_norm(oof['xgb'])\n",
        "\n",
        "    best_auc = 0.0; best_mode = 'prob'; best_w = 1.0\n",
        "    weights = np.arange(0.50, 0.95, 0.05) if have_xgb else [1.0]\n",
        "    for w in weights:\n",
        "        if have_xgb:\n",
        "            blend_prob = w * oof['lgb_ens'] + (1 - w) * oof['xgb']\n",
        "            blend_rank = w * oof['lgb_r'] + (1 - w) * oof['xgb_r']\n",
        "        else:\n",
        "            blend_prob = oof['lgb_ens']\n",
        "            blend_rank = oof['lgb_r']\n",
        "        auc_prob = roc_auc_score(oof['target'], blend_prob)\n",
        "        if auc_prob > best_auc:\n",
        "            best_auc = auc_prob; best_mode = 'prob'; best_w = float(w)\n",
        "        auc_rank = roc_auc_score(oof['target'], blend_rank)\n",
        "        if auc_rank > best_auc:\n",
        "            best_auc = auc_rank; best_mode = 'rank'; best_w = float(w)\n",
        "\n",
        "    log(f\"Blend search best OOF AUC={best_auc:.6f} | mode={best_mode} | w_lgb={best_w:.2f}\")\n",
        "\n",
        "    # Build test ensemble\n",
        "    if len(pred_lgb_list) == 0:\n",
        "        log('No LGB seed test preds found. Cannot build submission.');\n",
        "    else:\n",
        "        pred_lgb_merged = pred_lgb_list[0]\n",
        "        for df in pred_lgb_list[1:]:\n",
        "            pred_lgb_merged = pred_lgb_merged.merge(df, on='id', how='inner')\n",
        "        lgb_pred_cols = [c for c in pred_lgb_merged.columns if c != 'id']\n",
        "        pred_lgb_merged['lgb_ens'] = pred_lgb_merged[lgb_pred_cols].mean(axis=1)\n",
        "\n",
        "        pred_xgb = safe_load_pred('pred_xgb_seed42.csv', 'prediction_xgb') if have_xgb else None\n",
        "        have_pred_xgb = pred_xgb is not None\n",
        "        sub = pd.read_csv('sample_submission.csv')\n",
        "        sub = sub[['id']].merge(pred_lgb_merged[['id','lgb_ens']], on='id', how='left')\n",
        "        if best_mode == 'prob' and have_pred_xgb:\n",
        "            sub = sub.merge(pred_xgb.rename(columns={'pred': 'xgb'}), on='id', how='left')\n",
        "            sub['target'] = (best_w * sub['lgb_ens'] + (1 - best_w) * sub['xgb']).astype('float32')\n",
        "        elif best_mode == 'rank' and have_pred_xgb:\n",
        "            sub = sub.merge(pred_xgb.rename(columns={'pred': 'xgb'}), on='id', how='left')\n",
        "            rl = pd.Series(sub['lgb_ens']).rank(method='average').values\n",
        "            rx = pd.Series(sub['xgb']).rank(method='average').values\n",
        "            rl = (rl - 1) / (len(rl) - 1); rx = (rx - 1) / (len(rx) - 1)\n",
        "            sub['target'] = (best_w * rl + (1 - best_w) * rx).astype('float32')\n",
        "        else:\n",
        "            sub['target'] = sub['lgb_ens'].astype('float32')\n",
        "\n",
        "        sub[['id','target']].to_csv('submission.csv', index=False)\n",
        "        log('Saved blended submission.csv (or LGB-only if XGB missing).')"
      ],
      "execution_count": 16,
      "outputs": [
        {
          "output_type": "stream",
          "name": "stdout",
          "text": [
            "[2025-09-12 01:40:30] Preparing blend (LGB seeds + XGB) with OOF weight tuning...\n"
          ]
        },
        {
          "output_type": "stream",
          "name": "stdout",
          "text": [
            "[2025-09-12 01:40:36] Blend search best OOF AUC=0.991159 | mode=prob | w_lgb=0.90\n"
          ]
        },
        {
          "output_type": "stream",
          "name": "stdout",
          "text": [
            "[2025-09-12 01:40:36] Saved blended submission.csv (or LGB-only if XGB missing).\n"
          ]
        }
      ]
    },
    {
      "id": "76ca74dc-1f90-4309-aa28-2366257ee898",
      "cell_type": "code",
      "metadata": {},
      "source": [
        "# Run LightGBM fast for seeds 1337 and 2025 sequentially on current 165-feature set\n",
        "log('Starting LightGBM multi-seed training: seeds 1337 and 2025...')\n",
        "train_lgb_fast_seed(1337, 0.72, 0.72, tag='s1337')\n",
        "train_lgb_fast_seed(2025, 0.78, 0.78, tag='s2025')"
      ],
      "execution_count": 15,
      "outputs": [
        {
          "output_type": "stream",
          "name": "stdout",
          "text": [
            "[2025-09-11 23:58:35] Starting LightGBM multi-seed training: seeds 1337 and 2025...\n"
          ]
        },
        {
          "output_type": "stream",
          "name": "stdout",
          "text": [
            "[2025-09-11 23:58:36] [LGB multi] seed=1337 ff=0.72 bf=0.72 | Fold 1/10 | trn=720000 val=80000\n"
          ]
        },
        {
          "output_type": "stream",
          "name": "stdout",
          "text": [
            "Training until validation scores don't improve for 120 rounds\n"
          ]
        },
        {
          "output_type": "stream",
          "name": "stdout",
          "text": [
            "[200]\ttrain's auc: 0.978403\tvalid's auc: 0.975425\n"
          ]
        },
        {
          "output_type": "stream",
          "name": "stdout",
          "text": [
            "[400]\ttrain's auc: 0.988473\tvalid's auc: 0.984865\n"
          ]
        },
        {
          "output_type": "stream",
          "name": "stdout",
          "text": [
            "[600]\ttrain's auc: 0.992095\tvalid's auc: 0.987586\n"
          ]
        },
        {
          "output_type": "stream",
          "name": "stdout",
          "text": [
            "[800]\ttrain's auc: 0.994129\tvalid's auc: 0.988623\n"
          ]
        },
        {
          "output_type": "stream",
          "name": "stdout",
          "text": [
            "[1000]\ttrain's auc: 0.99557\tvalid's auc: 0.989274\n"
          ]
        },
        {
          "output_type": "stream",
          "name": "stdout",
          "text": [
            "[1200]\ttrain's auc: 0.996655\tvalid's auc: 0.989636\n"
          ]
        },
        {
          "output_type": "stream",
          "name": "stdout",
          "text": [
            "[1400]\ttrain's auc: 0.997501\tvalid's auc: 0.98989\n"
          ]
        },
        {
          "output_type": "stream",
          "name": "stdout",
          "text": [
            "[1600]\ttrain's auc: 0.998159\tvalid's auc: 0.990098\n"
          ]
        },
        {
          "output_type": "stream",
          "name": "stdout",
          "text": [
            "[1800]\ttrain's auc: 0.998655\tvalid's auc: 0.990174\n"
          ]
        },
        {
          "output_type": "stream",
          "name": "stdout",
          "text": [
            "[2000]\ttrain's auc: 0.999031\tvalid's auc: 0.990273\n"
          ]
        },
        {
          "output_type": "stream",
          "name": "stdout",
          "text": [
            "[2200]\ttrain's auc: 0.999322\tvalid's auc: 0.99038\n"
          ]
        },
        {
          "output_type": "stream",
          "name": "stdout",
          "text": [
            "[2400]\ttrain's auc: 0.999533\tvalid's auc: 0.990467\n"
          ]
        },
        {
          "output_type": "stream",
          "name": "stdout",
          "text": [
            "[2600]\ttrain's auc: 0.999686\tvalid's auc: 0.990512\n"
          ]
        },
        {
          "output_type": "stream",
          "name": "stdout",
          "text": [
            "[2800]\ttrain's auc: 0.999795\tvalid's auc: 0.990602\n"
          ]
        },
        {
          "output_type": "stream",
          "name": "stdout",
          "text": [
            "[3000]\ttrain's auc: 0.999869\tvalid's auc: 0.990658\n"
          ]
        },
        {
          "output_type": "stream",
          "name": "stdout",
          "text": [
            "[3200]\ttrain's auc: 0.999919\tvalid's auc: 0.990687\n"
          ]
        },
        {
          "output_type": "stream",
          "name": "stdout",
          "text": [
            "[3400]\ttrain's auc: 0.999952\tvalid's auc: 0.990732\n"
          ]
        },
        {
          "output_type": "stream",
          "name": "stdout",
          "text": [
            "[3600]\ttrain's auc: 0.999973\tvalid's auc: 0.990738\n"
          ]
        },
        {
          "output_type": "stream",
          "name": "stdout",
          "text": [
            "[3800]\ttrain's auc: 0.999985\tvalid's auc: 0.9908\n"
          ]
        },
        {
          "output_type": "stream",
          "name": "stdout",
          "text": [
            "[4000]\ttrain's auc: 0.999992\tvalid's auc: 0.990823\nDid not meet early stopping. Best iteration is:\n[3989]\ttrain's auc: 0.999991\tvalid's auc: 0.990826\n"
          ]
        },
        {
          "output_type": "stream",
          "name": "stdout",
          "text": [
            "[2025-09-12 00:03:56] [LGB multi] seed=1337 fold=0 AUC: 0.990826 | best_iter=3989 | elapsed=320.4s\n"
          ]
        },
        {
          "output_type": "stream",
          "name": "stdout",
          "text": [
            "[2025-09-12 00:03:59] [LGB multi] seed=1337 ff=0.72 bf=0.72 | Fold 2/10 | trn=720000 val=80000\n"
          ]
        },
        {
          "output_type": "stream",
          "name": "stdout",
          "text": [
            "Training until validation scores don't improve for 120 rounds\n"
          ]
        },
        {
          "output_type": "stream",
          "name": "stdout",
          "text": [
            "[200]\ttrain's auc: 0.977791\tvalid's auc: 0.97484\n"
          ]
        },
        {
          "output_type": "stream",
          "name": "stdout",
          "text": [
            "[400]\ttrain's auc: 0.988395\tvalid's auc: 0.984786\n"
          ]
        },
        {
          "output_type": "stream",
          "name": "stdout",
          "text": [
            "[600]\ttrain's auc: 0.992047\tvalid's auc: 0.987493\n"
          ]
        },
        {
          "output_type": "stream",
          "name": "stdout",
          "text": [
            "[800]\ttrain's auc: 0.994136\tvalid's auc: 0.988685\n"
          ]
        },
        {
          "output_type": "stream",
          "name": "stdout",
          "text": [
            "[1000]\ttrain's auc: 0.995555\tvalid's auc: 0.989225\n"
          ]
        },
        {
          "output_type": "stream",
          "name": "stdout",
          "text": [
            "[1200]\ttrain's auc: 0.996636\tvalid's auc: 0.989537\n"
          ]
        },
        {
          "output_type": "stream",
          "name": "stdout",
          "text": [
            "[1400]\ttrain's auc: 0.997489\tvalid's auc: 0.989803\n"
          ]
        },
        {
          "output_type": "stream",
          "name": "stdout",
          "text": [
            "[1600]\ttrain's auc: 0.998128\tvalid's auc: 0.989947\n"
          ]
        },
        {
          "output_type": "stream",
          "name": "stdout",
          "text": [
            "[1800]\ttrain's auc: 0.998637\tvalid's auc: 0.990052\n"
          ]
        },
        {
          "output_type": "stream",
          "name": "stdout",
          "text": [
            "[2000]\ttrain's auc: 0.999018\tvalid's auc: 0.990169\n"
          ]
        },
        {
          "output_type": "stream",
          "name": "stdout",
          "text": [
            "[2200]\ttrain's auc: 0.999311\tvalid's auc: 0.990249\n"
          ]
        },
        {
          "output_type": "stream",
          "name": "stdout",
          "text": [
            "[2400]\ttrain's auc: 0.999528\tvalid's auc: 0.990299\n"
          ]
        },
        {
          "output_type": "stream",
          "name": "stdout",
          "text": [
            "[2600]\ttrain's auc: 0.999683\tvalid's auc: 0.990358\n"
          ]
        },
        {
          "output_type": "stream",
          "name": "stdout",
          "text": [
            "[2800]\ttrain's auc: 0.999793\tvalid's auc: 0.990413\n"
          ]
        },
        {
          "output_type": "stream",
          "name": "stdout",
          "text": [
            "Early stopping, best iteration is:\n[2803]\ttrain's auc: 0.999794\tvalid's auc: 0.990415\n"
          ]
        },
        {
          "output_type": "stream",
          "name": "stdout",
          "text": [
            "[2025-09-12 00:07:51] [LGB multi] seed=1337 fold=1 AUC: 0.990415 | best_iter=2803 | elapsed=232.5s\n"
          ]
        },
        {
          "output_type": "stream",
          "name": "stdout",
          "text": [
            "[2025-09-12 00:07:53] [LGB multi] seed=1337 ff=0.72 bf=0.72 | Fold 3/10 | trn=720000 val=80000\n"
          ]
        },
        {
          "output_type": "stream",
          "name": "stdout",
          "text": [
            "Training until validation scores don't improve for 120 rounds\n"
          ]
        },
        {
          "output_type": "stream",
          "name": "stdout",
          "text": [
            "[200]\ttrain's auc: 0.978201\tvalid's auc: 0.975057\n"
          ]
        },
        {
          "output_type": "stream",
          "name": "stdout",
          "text": [
            "[400]\ttrain's auc: 0.988353\tvalid's auc: 0.984457\n"
          ]
        },
        {
          "output_type": "stream",
          "name": "stdout",
          "text": [
            "[600]\ttrain's auc: 0.992186\tvalid's auc: 0.987582\n"
          ]
        },
        {
          "output_type": "stream",
          "name": "stdout",
          "text": [
            "[800]\ttrain's auc: 0.994156\tvalid's auc: 0.988608\n"
          ]
        },
        {
          "output_type": "stream",
          "name": "stdout",
          "text": [
            "[1000]\ttrain's auc: 0.995567\tvalid's auc: 0.989156\n"
          ]
        },
        {
          "output_type": "stream",
          "name": "stdout",
          "text": [
            "[1200]\ttrain's auc: 0.996668\tvalid's auc: 0.989529\n"
          ]
        },
        {
          "output_type": "stream",
          "name": "stdout",
          "text": [
            "[1400]\ttrain's auc: 0.997504\tvalid's auc: 0.989796\n"
          ]
        },
        {
          "output_type": "stream",
          "name": "stdout",
          "text": [
            "[1600]\ttrain's auc: 0.998149\tvalid's auc: 0.989927\n"
          ]
        },
        {
          "output_type": "stream",
          "name": "stdout",
          "text": [
            "[1800]\ttrain's auc: 0.998652\tvalid's auc: 0.990084\n"
          ]
        },
        {
          "output_type": "stream",
          "name": "stdout",
          "text": [
            "[2000]\ttrain's auc: 0.999034\tvalid's auc: 0.990194\n"
          ]
        },
        {
          "output_type": "stream",
          "name": "stdout",
          "text": [
            "[2200]\ttrain's auc: 0.999327\tvalid's auc: 0.99026\n"
          ]
        },
        {
          "output_type": "stream",
          "name": "stdout",
          "text": [
            "[2400]\ttrain's auc: 0.999538\tvalid's auc: 0.990326\n"
          ]
        },
        {
          "output_type": "stream",
          "name": "stdout",
          "text": [
            "[2600]\ttrain's auc: 0.999687\tvalid's auc: 0.990395\n"
          ]
        },
        {
          "output_type": "stream",
          "name": "stdout",
          "text": [
            "[2800]\ttrain's auc: 0.999794\tvalid's auc: 0.990462\n"
          ]
        },
        {
          "output_type": "stream",
          "name": "stdout",
          "text": [
            "[3000]\ttrain's auc: 0.99987\tvalid's auc: 0.990516\n"
          ]
        },
        {
          "output_type": "stream",
          "name": "stdout",
          "text": [
            "[3200]\ttrain's auc: 0.999919\tvalid's auc: 0.990558\n"
          ]
        },
        {
          "output_type": "stream",
          "name": "stdout",
          "text": [
            "[3400]\ttrain's auc: 0.999952\tvalid's auc: 0.990588\n"
          ]
        },
        {
          "output_type": "stream",
          "name": "stdout",
          "text": [
            "[3600]\ttrain's auc: 0.999972\tvalid's auc: 0.990598\n"
          ]
        },
        {
          "output_type": "stream",
          "name": "stdout",
          "text": [
            "[3800]\ttrain's auc: 0.999984\tvalid's auc: 0.990614\n"
          ]
        },
        {
          "output_type": "stream",
          "name": "stdout",
          "text": [
            "Early stopping, best iteration is:\n[3713]\ttrain's auc: 0.999979\tvalid's auc: 0.990626\n"
          ]
        },
        {
          "output_type": "stream",
          "name": "stdout",
          "text": [
            "[2025-09-12 00:12:53] [LGB multi] seed=1337 fold=2 AUC: 0.990626 | best_iter=3713 | elapsed=299.3s\n"
          ]
        },
        {
          "output_type": "stream",
          "name": "stdout",
          "text": [
            "[2025-09-12 00:12:55] [LGB multi] seed=1337 ff=0.72 bf=0.72 | Fold 4/10 | trn=720000 val=80000\n"
          ]
        },
        {
          "output_type": "stream",
          "name": "stdout",
          "text": [
            "Training until validation scores don't improve for 120 rounds\n"
          ]
        },
        {
          "output_type": "stream",
          "name": "stdout",
          "text": [
            "[200]\ttrain's auc: 0.977869\tvalid's auc: 0.974453\n"
          ]
        },
        {
          "output_type": "stream",
          "name": "stdout",
          "text": [
            "[400]\ttrain's auc: 0.988321\tvalid's auc: 0.984458\n"
          ]
        },
        {
          "output_type": "stream",
          "name": "stdout",
          "text": [
            "[600]\ttrain's auc: 0.992111\tvalid's auc: 0.987538\n"
          ]
        },
        {
          "output_type": "stream",
          "name": "stdout",
          "text": [
            "[800]\ttrain's auc: 0.994162\tvalid's auc: 0.988634\n"
          ]
        },
        {
          "output_type": "stream",
          "name": "stdout",
          "text": [
            "[1000]\ttrain's auc: 0.995593\tvalid's auc: 0.989216\n"
          ]
        },
        {
          "output_type": "stream",
          "name": "stdout",
          "text": [
            "[1200]\ttrain's auc: 0.996651\tvalid's auc: 0.989539\n"
          ]
        },
        {
          "output_type": "stream",
          "name": "stdout",
          "text": [
            "[1400]\ttrain's auc: 0.997501\tvalid's auc: 0.989827\n"
          ]
        },
        {
          "output_type": "stream",
          "name": "stdout",
          "text": [
            "[1600]\ttrain's auc: 0.998139\tvalid's auc: 0.990034\n"
          ]
        },
        {
          "output_type": "stream",
          "name": "stdout",
          "text": [
            "[1800]\ttrain's auc: 0.99865\tvalid's auc: 0.990205\n"
          ]
        },
        {
          "output_type": "stream",
          "name": "stdout",
          "text": [
            "[2000]\ttrain's auc: 0.999027\tvalid's auc: 0.990278\n"
          ]
        },
        {
          "output_type": "stream",
          "name": "stdout",
          "text": [
            "[2200]\ttrain's auc: 0.999312\tvalid's auc: 0.990369\n"
          ]
        },
        {
          "output_type": "stream",
          "name": "stdout",
          "text": [
            "[2400]\ttrain's auc: 0.999525\tvalid's auc: 0.990443\n"
          ]
        },
        {
          "output_type": "stream",
          "name": "stdout",
          "text": [
            "[2600]\ttrain's auc: 0.999683\tvalid's auc: 0.990482\n"
          ]
        },
        {
          "output_type": "stream",
          "name": "stdout",
          "text": [
            "[2800]\ttrain's auc: 0.999787\tvalid's auc: 0.990527\n"
          ]
        },
        {
          "output_type": "stream",
          "name": "stdout",
          "text": [
            "[3000]\ttrain's auc: 0.999862\tvalid's auc: 0.990593\n"
          ]
        },
        {
          "output_type": "stream",
          "name": "stdout",
          "text": [
            "[3200]\ttrain's auc: 0.999914\tvalid's auc: 0.990647\n"
          ]
        },
        {
          "output_type": "stream",
          "name": "stdout",
          "text": [
            "[3400]\ttrain's auc: 0.999948\tvalid's auc: 0.990694\n"
          ]
        },
        {
          "output_type": "stream",
          "name": "stdout",
          "text": [
            "[3600]\ttrain's auc: 0.999969\tvalid's auc: 0.990732\n"
          ]
        },
        {
          "output_type": "stream",
          "name": "stdout",
          "text": [
            "[3800]\ttrain's auc: 0.999982\tvalid's auc: 0.990797\n"
          ]
        },
        {
          "output_type": "stream",
          "name": "stdout",
          "text": [
            "[4000]\ttrain's auc: 0.99999\tvalid's auc: 0.990825\nDid not meet early stopping. Best iteration is:\n[3991]\ttrain's auc: 0.99999\tvalid's auc: 0.990827\n"
          ]
        },
        {
          "output_type": "stream",
          "name": "stdout",
          "text": [
            "[2025-09-12 00:18:08] [LGB multi] seed=1337 fold=3 AUC: 0.990827 | best_iter=3991 | elapsed=313.0s\n"
          ]
        },
        {
          "output_type": "stream",
          "name": "stdout",
          "text": [
            "[2025-09-12 00:18:11] [LGB multi] seed=1337 ff=0.72 bf=0.72 | Fold 5/10 | trn=720000 val=80000\n"
          ]
        },
        {
          "output_type": "stream",
          "name": "stdout",
          "text": [
            "Training until validation scores don't improve for 120 rounds\n"
          ]
        },
        {
          "output_type": "stream",
          "name": "stdout",
          "text": [
            "[200]\ttrain's auc: 0.978172\tvalid's auc: 0.974541\n"
          ]
        },
        {
          "output_type": "stream",
          "name": "stdout",
          "text": [
            "[400]\ttrain's auc: 0.988382\tvalid's auc: 0.984493\n"
          ]
        },
        {
          "output_type": "stream",
          "name": "stdout",
          "text": [
            "[600]\ttrain's auc: 0.992157\tvalid's auc: 0.987503\n"
          ]
        },
        {
          "output_type": "stream",
          "name": "stdout",
          "text": [
            "[800]\ttrain's auc: 0.994136\tvalid's auc: 0.988496\n"
          ]
        },
        {
          "output_type": "stream",
          "name": "stdout",
          "text": [
            "[1000]\ttrain's auc: 0.995569\tvalid's auc: 0.989083\n"
          ]
        },
        {
          "output_type": "stream",
          "name": "stdout",
          "text": [
            "[1200]\ttrain's auc: 0.996648\tvalid's auc: 0.989416\n"
          ]
        },
        {
          "output_type": "stream",
          "name": "stdout",
          "text": [
            "[1400]\ttrain's auc: 0.997472\tvalid's auc: 0.989652\n"
          ]
        },
        {
          "output_type": "stream",
          "name": "stdout",
          "text": [
            "[1600]\ttrain's auc: 0.998133\tvalid's auc: 0.989829\n"
          ]
        },
        {
          "output_type": "stream",
          "name": "stdout",
          "text": [
            "[1800]\ttrain's auc: 0.998637\tvalid's auc: 0.989989\n"
          ]
        },
        {
          "output_type": "stream",
          "name": "stdout",
          "text": [
            "[2000]\ttrain's auc: 0.999021\tvalid's auc: 0.990136\n"
          ]
        },
        {
          "output_type": "stream",
          "name": "stdout",
          "text": [
            "[2200]\ttrain's auc: 0.999313\tvalid's auc: 0.990259\n"
          ]
        },
        {
          "output_type": "stream",
          "name": "stdout",
          "text": [
            "[2400]\ttrain's auc: 0.99953\tvalid's auc: 0.990334\n"
          ]
        },
        {
          "output_type": "stream",
          "name": "stdout",
          "text": [
            "[2600]\ttrain's auc: 0.999686\tvalid's auc: 0.990411\n"
          ]
        },
        {
          "output_type": "stream",
          "name": "stdout",
          "text": [
            "[2800]\ttrain's auc: 0.999795\tvalid's auc: 0.990482\n"
          ]
        },
        {
          "output_type": "stream",
          "name": "stdout",
          "text": [
            "[3000]\ttrain's auc: 0.99987\tvalid's auc: 0.990525\n"
          ]
        },
        {
          "output_type": "stream",
          "name": "stdout",
          "text": [
            "[3200]\ttrain's auc: 0.999921\tvalid's auc: 0.990564\n"
          ]
        },
        {
          "output_type": "stream",
          "name": "stdout",
          "text": [
            "[3400]\ttrain's auc: 0.999952\tvalid's auc: 0.990618\n"
          ]
        },
        {
          "output_type": "stream",
          "name": "stdout",
          "text": [
            "[3600]\ttrain's auc: 0.999972\tvalid's auc: 0.990655\n"
          ]
        },
        {
          "output_type": "stream",
          "name": "stdout",
          "text": [
            "[3800]\ttrain's auc: 0.999985\tvalid's auc: 0.990681\n"
          ]
        },
        {
          "output_type": "stream",
          "name": "stdout",
          "text": [
            "[4000]\ttrain's auc: 0.999992\tvalid's auc: 0.990721\nDid not meet early stopping. Best iteration is:\n[3996]\ttrain's auc: 0.999992\tvalid's auc: 0.990722\n"
          ]
        },
        {
          "output_type": "stream",
          "name": "stdout",
          "text": [
            "[2025-09-12 00:23:29] [LGB multi] seed=1337 fold=4 AUC: 0.990722 | best_iter=3996 | elapsed=318.0s\n"
          ]
        },
        {
          "output_type": "stream",
          "name": "stdout",
          "text": [
            "[2025-09-12 00:23:32] [LGB multi] seed=1337 ff=0.72 bf=0.72 | Fold 6/10 | trn=720000 val=80000\n"
          ]
        },
        {
          "output_type": "stream",
          "name": "stdout",
          "text": [
            "Training until validation scores don't improve for 120 rounds\n"
          ]
        },
        {
          "output_type": "stream",
          "name": "stdout",
          "text": [
            "[200]\ttrain's auc: 0.978337\tvalid's auc: 0.974845\n"
          ]
        },
        {
          "output_type": "stream",
          "name": "stdout",
          "text": [
            "[400]\ttrain's auc: 0.988392\tvalid's auc: 0.984492\n"
          ]
        },
        {
          "output_type": "stream",
          "name": "stdout",
          "text": [
            "[600]\ttrain's auc: 0.992212\tvalid's auc: 0.987498\n"
          ]
        },
        {
          "output_type": "stream",
          "name": "stdout",
          "text": [
            "[800]\ttrain's auc: 0.994192\tvalid's auc: 0.98852\n"
          ]
        },
        {
          "output_type": "stream",
          "name": "stdout",
          "text": [
            "[1000]\ttrain's auc: 0.995594\tvalid's auc: 0.989052\n"
          ]
        },
        {
          "output_type": "stream",
          "name": "stdout",
          "text": [
            "[1200]\ttrain's auc: 0.996658\tvalid's auc: 0.989355\n"
          ]
        },
        {
          "output_type": "stream",
          "name": "stdout",
          "text": [
            "[1400]\ttrain's auc: 0.99749\tvalid's auc: 0.989612\n"
          ]
        },
        {
          "output_type": "stream",
          "name": "stdout",
          "text": [
            "[1600]\ttrain's auc: 0.998137\tvalid's auc: 0.989798\n"
          ]
        },
        {
          "output_type": "stream",
          "name": "stdout",
          "text": [
            "[1800]\ttrain's auc: 0.998637\tvalid's auc: 0.989937\n"
          ]
        },
        {
          "output_type": "stream",
          "name": "stdout",
          "text": [
            "[2000]\ttrain's auc: 0.999026\tvalid's auc: 0.990023\n"
          ]
        },
        {
          "output_type": "stream",
          "name": "stdout",
          "text": [
            "[2200]\ttrain's auc: 0.999321\tvalid's auc: 0.99012\n"
          ]
        },
        {
          "output_type": "stream",
          "name": "stdout",
          "text": [
            "[2400]\ttrain's auc: 0.999531\tvalid's auc: 0.990187\n"
          ]
        },
        {
          "output_type": "stream",
          "name": "stdout",
          "text": [
            "[2600]\ttrain's auc: 0.999686\tvalid's auc: 0.990225\n"
          ]
        },
        {
          "output_type": "stream",
          "name": "stdout",
          "text": [
            "[2800]\ttrain's auc: 0.999795\tvalid's auc: 0.990336\n"
          ]
        },
        {
          "output_type": "stream",
          "name": "stdout",
          "text": [
            "[3000]\ttrain's auc: 0.99987\tvalid's auc: 0.990379\n"
          ]
        },
        {
          "output_type": "stream",
          "name": "stdout",
          "text": [
            "[3200]\ttrain's auc: 0.999919\tvalid's auc: 0.990433\n"
          ]
        },
        {
          "output_type": "stream",
          "name": "stdout",
          "text": [
            "[3400]\ttrain's auc: 0.99995\tvalid's auc: 0.990489\n"
          ]
        },
        {
          "output_type": "stream",
          "name": "stdout",
          "text": [
            "[3600]\ttrain's auc: 0.999972\tvalid's auc: 0.990524\n"
          ]
        },
        {
          "output_type": "stream",
          "name": "stdout",
          "text": [
            "[3800]\ttrain's auc: 0.999983\tvalid's auc: 0.990565\n"
          ]
        },
        {
          "output_type": "stream",
          "name": "stdout",
          "text": [
            "[4000]\ttrain's auc: 0.999991\tvalid's auc: 0.990594\nDid not meet early stopping. Best iteration is:\n[3988]\ttrain's auc: 0.99999\tvalid's auc: 0.990598\n"
          ]
        },
        {
          "output_type": "stream",
          "name": "stdout",
          "text": [
            "[2025-09-12 00:28:48] [LGB multi] seed=1337 fold=5 AUC: 0.990598 | best_iter=3988 | elapsed=315.6s\n"
          ]
        },
        {
          "output_type": "stream",
          "name": "stdout",
          "text": [
            "[2025-09-12 00:28:51] [LGB multi] seed=1337 ff=0.72 bf=0.72 | Fold 7/10 | trn=720000 val=80000\n"
          ]
        },
        {
          "output_type": "stream",
          "name": "stdout",
          "text": [
            "Training until validation scores don't improve for 120 rounds\n"
          ]
        },
        {
          "output_type": "stream",
          "name": "stdout",
          "text": [
            "[200]\ttrain's auc: 0.978417\tvalid's auc: 0.976079\n"
          ]
        },
        {
          "output_type": "stream",
          "name": "stdout",
          "text": [
            "[400]\ttrain's auc: 0.988416\tvalid's auc: 0.985259\n"
          ]
        },
        {
          "output_type": "stream",
          "name": "stdout",
          "text": [
            "[600]\ttrain's auc: 0.992141\tvalid's auc: 0.988023\n"
          ]
        },
        {
          "output_type": "stream",
          "name": "stdout",
          "text": [
            "[800]\ttrain's auc: 0.994169\tvalid's auc: 0.989092\n"
          ]
        },
        {
          "output_type": "stream",
          "name": "stdout",
          "text": [
            "[1000]\ttrain's auc: 0.995578\tvalid's auc: 0.989631\n"
          ]
        },
        {
          "output_type": "stream",
          "name": "stdout",
          "text": [
            "[1200]\ttrain's auc: 0.996649\tvalid's auc: 0.98995\n"
          ]
        },
        {
          "output_type": "stream",
          "name": "stdout",
          "text": [
            "[1400]\ttrain's auc: 0.997489\tvalid's auc: 0.990228\n"
          ]
        },
        {
          "output_type": "stream",
          "name": "stdout",
          "text": [
            "[1600]\ttrain's auc: 0.998136\tvalid's auc: 0.990378\n"
          ]
        },
        {
          "output_type": "stream",
          "name": "stdout",
          "text": [
            "[1800]\ttrain's auc: 0.998635\tvalid's auc: 0.990511\n"
          ]
        },
        {
          "output_type": "stream",
          "name": "stdout",
          "text": [
            "[2000]\ttrain's auc: 0.999027\tvalid's auc: 0.990657\n"
          ]
        },
        {
          "output_type": "stream",
          "name": "stdout",
          "text": [
            "[2200]\ttrain's auc: 0.999314\tvalid's auc: 0.990763\n"
          ]
        },
        {
          "output_type": "stream",
          "name": "stdout",
          "text": [
            "[2400]\ttrain's auc: 0.999524\tvalid's auc: 0.990859\n"
          ]
        },
        {
          "output_type": "stream",
          "name": "stdout",
          "text": [
            "[2600]\ttrain's auc: 0.999679\tvalid's auc: 0.990904\n"
          ]
        },
        {
          "output_type": "stream",
          "name": "stdout",
          "text": [
            "[2800]\ttrain's auc: 0.99979\tvalid's auc: 0.990928\n"
          ]
        },
        {
          "output_type": "stream",
          "name": "stdout",
          "text": [
            "[3000]\ttrain's auc: 0.999865\tvalid's auc: 0.99098\n"
          ]
        },
        {
          "output_type": "stream",
          "name": "stdout",
          "text": [
            "[3200]\ttrain's auc: 0.999915\tvalid's auc: 0.991017\n"
          ]
        },
        {
          "output_type": "stream",
          "name": "stdout",
          "text": [
            "[3400]\ttrain's auc: 0.999947\tvalid's auc: 0.991073\n"
          ]
        },
        {
          "output_type": "stream",
          "name": "stdout",
          "text": [
            "[3600]\ttrain's auc: 0.999968\tvalid's auc: 0.991129\n"
          ]
        },
        {
          "output_type": "stream",
          "name": "stdout",
          "text": [
            "[3800]\ttrain's auc: 0.999982\tvalid's auc: 0.991141\n"
          ]
        },
        {
          "output_type": "stream",
          "name": "stdout",
          "text": [
            "[4000]\ttrain's auc: 0.99999\tvalid's auc: 0.991156\nDid not meet early stopping. Best iteration is:\n[3992]\ttrain's auc: 0.99999\tvalid's auc: 0.991158\n"
          ]
        },
        {
          "output_type": "stream",
          "name": "stdout",
          "text": [
            "[2025-09-12 00:34:03] [LGB multi] seed=1337 fold=6 AUC: 0.991158 | best_iter=3992 | elapsed=311.8s\n"
          ]
        },
        {
          "output_type": "stream",
          "name": "stdout",
          "text": [
            "[2025-09-12 00:34:06] [LGB multi] seed=1337 ff=0.72 bf=0.72 | Fold 8/10 | trn=720000 val=80000\n"
          ]
        },
        {
          "output_type": "stream",
          "name": "stdout",
          "text": [
            "Training until validation scores don't improve for 120 rounds\n"
          ]
        },
        {
          "output_type": "stream",
          "name": "stdout",
          "text": [
            "[200]\ttrain's auc: 0.978265\tvalid's auc: 0.974577\n"
          ]
        },
        {
          "output_type": "stream",
          "name": "stdout",
          "text": [
            "[400]\ttrain's auc: 0.988304\tvalid's auc: 0.98423\n"
          ]
        },
        {
          "output_type": "stream",
          "name": "stdout",
          "text": [
            "[600]\ttrain's auc: 0.992107\tvalid's auc: 0.987346\n"
          ]
        },
        {
          "output_type": "stream",
          "name": "stdout",
          "text": [
            "[800]\ttrain's auc: 0.9941\tvalid's auc: 0.98837\n"
          ]
        },
        {
          "output_type": "stream",
          "name": "stdout",
          "text": [
            "[1000]\ttrain's auc: 0.99555\tvalid's auc: 0.98902\n"
          ]
        },
        {
          "output_type": "stream",
          "name": "stdout",
          "text": [
            "[1200]\ttrain's auc: 0.996632\tvalid's auc: 0.989339\n"
          ]
        },
        {
          "output_type": "stream",
          "name": "stdout",
          "text": [
            "[1400]\ttrain's auc: 0.997466\tvalid's auc: 0.989547\n"
          ]
        },
        {
          "output_type": "stream",
          "name": "stdout",
          "text": [
            "[1600]\ttrain's auc: 0.99813\tvalid's auc: 0.989759\n"
          ]
        },
        {
          "output_type": "stream",
          "name": "stdout",
          "text": [
            "[1800]\ttrain's auc: 0.998638\tvalid's auc: 0.989931\n"
          ]
        },
        {
          "output_type": "stream",
          "name": "stdout",
          "text": [
            "[2000]\ttrain's auc: 0.999021\tvalid's auc: 0.990056\n"
          ]
        },
        {
          "output_type": "stream",
          "name": "stdout",
          "text": [
            "[2200]\ttrain's auc: 0.999313\tvalid's auc: 0.990146\n"
          ]
        },
        {
          "output_type": "stream",
          "name": "stdout",
          "text": [
            "[2400]\ttrain's auc: 0.999527\tvalid's auc: 0.990231\n"
          ]
        },
        {
          "output_type": "stream",
          "name": "stdout",
          "text": [
            "[2600]\ttrain's auc: 0.999683\tvalid's auc: 0.990286\n"
          ]
        },
        {
          "output_type": "stream",
          "name": "stdout",
          "text": [
            "[2800]\ttrain's auc: 0.999793\tvalid's auc: 0.990364\n"
          ]
        },
        {
          "output_type": "stream",
          "name": "stdout",
          "text": [
            "[3000]\ttrain's auc: 0.999869\tvalid's auc: 0.990404\n"
          ]
        },
        {
          "output_type": "stream",
          "name": "stdout",
          "text": [
            "[3200]\ttrain's auc: 0.999917\tvalid's auc: 0.990437\n"
          ]
        },
        {
          "output_type": "stream",
          "name": "stdout",
          "text": [
            "[3400]\ttrain's auc: 0.99995\tvalid's auc: 0.990457\n"
          ]
        },
        {
          "output_type": "stream",
          "name": "stdout",
          "text": [
            "[3600]\ttrain's auc: 0.999971\tvalid's auc: 0.990499\n"
          ]
        },
        {
          "output_type": "stream",
          "name": "stdout",
          "text": [
            "[3800]\ttrain's auc: 0.999984\tvalid's auc: 0.990535\n"
          ]
        },
        {
          "output_type": "stream",
          "name": "stdout",
          "text": [
            "[4000]\ttrain's auc: 0.999991\tvalid's auc: 0.990571\nDid not meet early stopping. Best iteration is:\n[3976]\ttrain's auc: 0.999991\tvalid's auc: 0.990573\n"
          ]
        },
        {
          "output_type": "stream",
          "name": "stdout",
          "text": [
            "[2025-09-12 00:39:28] [LGB multi] seed=1337 fold=7 AUC: 0.990573 | best_iter=3976 | elapsed=322.0s\n"
          ]
        },
        {
          "output_type": "stream",
          "name": "stdout",
          "text": [
            "[2025-09-12 00:39:31] [LGB multi] seed=1337 ff=0.72 bf=0.72 | Fold 9/10 | trn=720000 val=80000\n"
          ]
        },
        {
          "output_type": "stream",
          "name": "stdout",
          "text": [
            "Training until validation scores don't improve for 120 rounds\n"
          ]
        },
        {
          "output_type": "stream",
          "name": "stdout",
          "text": [
            "[200]\ttrain's auc: 0.978265\tvalid's auc: 0.975596\n"
          ]
        },
        {
          "output_type": "stream",
          "name": "stdout",
          "text": [
            "[400]\ttrain's auc: 0.988347\tvalid's auc: 0.985124\n"
          ]
        },
        {
          "output_type": "stream",
          "name": "stdout",
          "text": [
            "[600]\ttrain's auc: 0.992158\tvalid's auc: 0.988107\n"
          ]
        },
        {
          "output_type": "stream",
          "name": "stdout",
          "text": [
            "[800]\ttrain's auc: 0.994167\tvalid's auc: 0.989164\n"
          ]
        },
        {
          "output_type": "stream",
          "name": "stdout",
          "text": [
            "[1000]\ttrain's auc: 0.995569\tvalid's auc: 0.989709\n"
          ]
        },
        {
          "output_type": "stream",
          "name": "stdout",
          "text": [
            "[1200]\ttrain's auc: 0.996641\tvalid's auc: 0.989989\n"
          ]
        },
        {
          "output_type": "stream",
          "name": "stdout",
          "text": [
            "[1400]\ttrain's auc: 0.997475\tvalid's auc: 0.990242\n"
          ]
        },
        {
          "output_type": "stream",
          "name": "stdout",
          "text": [
            "[1600]\ttrain's auc: 0.998131\tvalid's auc: 0.990445\n"
          ]
        },
        {
          "output_type": "stream",
          "name": "stdout",
          "text": [
            "[1800]\ttrain's auc: 0.998639\tvalid's auc: 0.990555\n"
          ]
        },
        {
          "output_type": "stream",
          "name": "stdout",
          "text": [
            "[2000]\ttrain's auc: 0.999023\tvalid's auc: 0.990648\n"
          ]
        },
        {
          "output_type": "stream",
          "name": "stdout",
          "text": [
            "[2200]\ttrain's auc: 0.999313\tvalid's auc: 0.990771\n"
          ]
        },
        {
          "output_type": "stream",
          "name": "stdout",
          "text": [
            "[2400]\ttrain's auc: 0.999525\tvalid's auc: 0.990869\n"
          ]
        },
        {
          "output_type": "stream",
          "name": "stdout",
          "text": [
            "[2600]\ttrain's auc: 0.999679\tvalid's auc: 0.990933\n"
          ]
        },
        {
          "output_type": "stream",
          "name": "stdout",
          "text": [
            "[2800]\ttrain's auc: 0.999793\tvalid's auc: 0.990955\n"
          ]
        },
        {
          "output_type": "stream",
          "name": "stdout",
          "text": [
            "[3000]\ttrain's auc: 0.999866\tvalid's auc: 0.991016\n"
          ]
        },
        {
          "output_type": "stream",
          "name": "stdout",
          "text": [
            "[3200]\ttrain's auc: 0.999916\tvalid's auc: 0.991055\n"
          ]
        },
        {
          "output_type": "stream",
          "name": "stdout",
          "text": [
            "[3400]\ttrain's auc: 0.99995\tvalid's auc: 0.991106\n"
          ]
        },
        {
          "output_type": "stream",
          "name": "stdout",
          "text": [
            "[3600]\ttrain's auc: 0.99997\tvalid's auc: 0.991163\n"
          ]
        },
        {
          "output_type": "stream",
          "name": "stdout",
          "text": [
            "[3800]\ttrain's auc: 0.999983\tvalid's auc: 0.991173\n"
          ]
        },
        {
          "output_type": "stream",
          "name": "stdout",
          "text": [
            "[4000]\ttrain's auc: 0.999991\tvalid's auc: 0.991207\nDid not meet early stopping. Best iteration is:\n[4000]\ttrain's auc: 0.999991\tvalid's auc: 0.991207\n"
          ]
        },
        {
          "output_type": "stream",
          "name": "stdout",
          "text": [
            "[2025-09-12 00:44:30] [LGB multi] seed=1337 fold=8 AUC: 0.991207 | best_iter=4000 | elapsed=299.9s\n"
          ]
        },
        {
          "output_type": "stream",
          "name": "stdout",
          "text": [
            "[2025-09-12 00:44:33] [LGB multi] seed=1337 ff=0.72 bf=0.72 | Fold 10/10 | trn=720000 val=80000\n"
          ]
        },
        {
          "output_type": "stream",
          "name": "stdout",
          "text": [
            "Training until validation scores don't improve for 120 rounds\n"
          ]
        },
        {
          "output_type": "stream",
          "name": "stdout",
          "text": [
            "[200]\ttrain's auc: 0.978097\tvalid's auc: 0.975538\n"
          ]
        },
        {
          "output_type": "stream",
          "name": "stdout",
          "text": [
            "[400]\ttrain's auc: 0.988337\tvalid's auc: 0.985431\n"
          ]
        },
        {
          "output_type": "stream",
          "name": "stdout",
          "text": [
            "[600]\ttrain's auc: 0.992032\tvalid's auc: 0.98816\n"
          ]
        },
        {
          "output_type": "stream",
          "name": "stdout",
          "text": [
            "[800]\ttrain's auc: 0.99407\tvalid's auc: 0.98919\n"
          ]
        },
        {
          "output_type": "stream",
          "name": "stdout",
          "text": [
            "[1000]\ttrain's auc: 0.995504\tvalid's auc: 0.989734\n"
          ]
        },
        {
          "output_type": "stream",
          "name": "stdout",
          "text": [
            "[1200]\ttrain's auc: 0.996609\tvalid's auc: 0.990101\n"
          ]
        },
        {
          "output_type": "stream",
          "name": "stdout",
          "text": [
            "[1400]\ttrain's auc: 0.997437\tvalid's auc: 0.99027\n"
          ]
        },
        {
          "output_type": "stream",
          "name": "stdout",
          "text": [
            "[1600]\ttrain's auc: 0.998105\tvalid's auc: 0.990476\n"
          ]
        },
        {
          "output_type": "stream",
          "name": "stdout",
          "text": [
            "[1800]\ttrain's auc: 0.998614\tvalid's auc: 0.990544\n"
          ]
        },
        {
          "output_type": "stream",
          "name": "stdout",
          "text": [
            "[2000]\ttrain's auc: 0.999007\tvalid's auc: 0.990663\n"
          ]
        },
        {
          "output_type": "stream",
          "name": "stdout",
          "text": [
            "[2200]\ttrain's auc: 0.999297\tvalid's auc: 0.990798\n"
          ]
        },
        {
          "output_type": "stream",
          "name": "stdout",
          "text": [
            "[2400]\ttrain's auc: 0.999516\tvalid's auc: 0.990871\n"
          ]
        },
        {
          "output_type": "stream",
          "name": "stdout",
          "text": [
            "[2600]\ttrain's auc: 0.999675\tvalid's auc: 0.990937\n"
          ]
        },
        {
          "output_type": "stream",
          "name": "stdout",
          "text": [
            "[2800]\ttrain's auc: 0.999786\tvalid's auc: 0.990991\n"
          ]
        },
        {
          "output_type": "stream",
          "name": "stdout",
          "text": [
            "[3000]\ttrain's auc: 0.999866\tvalid's auc: 0.991029\n"
          ]
        },
        {
          "output_type": "stream",
          "name": "stdout",
          "text": [
            "[3200]\ttrain's auc: 0.999918\tvalid's auc: 0.991072\n"
          ]
        },
        {
          "output_type": "stream",
          "name": "stdout",
          "text": [
            "[3400]\ttrain's auc: 0.999952\tvalid's auc: 0.991106\n"
          ]
        },
        {
          "output_type": "stream",
          "name": "stdout",
          "text": [
            "[3600]\ttrain's auc: 0.999972\tvalid's auc: 0.991149\n"
          ]
        },
        {
          "output_type": "stream",
          "name": "stdout",
          "text": [
            "[3800]\ttrain's auc: 0.999985\tvalid's auc: 0.991197\n"
          ]
        },
        {
          "output_type": "stream",
          "name": "stdout",
          "text": [
            "[4000]\ttrain's auc: 0.999992\tvalid's auc: 0.991237\nDid not meet early stopping. Best iteration is:\n[3997]\ttrain's auc: 0.999992\tvalid's auc: 0.991238\n"
          ]
        },
        {
          "output_type": "stream",
          "name": "stdout",
          "text": [
            "[2025-09-12 00:49:52] [LGB multi] seed=1337 fold=9 AUC: 0.991238 | best_iter=3997 | elapsed=318.5s\n"
          ]
        },
        {
          "output_type": "stream",
          "name": "stdout",
          "text": [
            "[2025-09-12 00:49:55] [LGB multi] seed=1337 OOF AUC: 0.990812 | total_elapsed=3079.8s\n"
          ]
        },
        {
          "output_type": "stream",
          "name": "stdout",
          "text": [
            "[2025-09-12 00:49:56] [LGB multi] Saved OOF/test preds for s1337\n"
          ]
        },
        {
          "output_type": "stream",
          "name": "stdout",
          "text": [
            "[2025-09-12 00:49:56] [LGB multi] seed=2025 ff=0.78 bf=0.78 | Fold 1/10 | trn=720000 val=80000\n"
          ]
        },
        {
          "output_type": "stream",
          "name": "stdout",
          "text": [
            "Training until validation scores don't improve for 120 rounds\n"
          ]
        },
        {
          "output_type": "stream",
          "name": "stdout",
          "text": [
            "[200]\ttrain's auc: 0.9788\tvalid's auc: 0.975769\n"
          ]
        },
        {
          "output_type": "stream",
          "name": "stdout",
          "text": [
            "[400]\ttrain's auc: 0.988695\tvalid's auc: 0.985027\n"
          ]
        },
        {
          "output_type": "stream",
          "name": "stdout",
          "text": [
            "[600]\ttrain's auc: 0.992401\tvalid's auc: 0.987925\n"
          ]
        },
        {
          "output_type": "stream",
          "name": "stdout",
          "text": [
            "[800]\ttrain's auc: 0.994338\tvalid's auc: 0.988889\n"
          ]
        },
        {
          "output_type": "stream",
          "name": "stdout",
          "text": [
            "[1000]\ttrain's auc: 0.995711\tvalid's auc: 0.989448\n"
          ]
        },
        {
          "output_type": "stream",
          "name": "stdout",
          "text": [
            "[1200]\ttrain's auc: 0.996753\tvalid's auc: 0.989815\n"
          ]
        },
        {
          "output_type": "stream",
          "name": "stdout",
          "text": [
            "[1400]\ttrain's auc: 0.997566\tvalid's auc: 0.990062\n"
          ]
        },
        {
          "output_type": "stream",
          "name": "stdout",
          "text": [
            "[1600]\ttrain's auc: 0.998186\tvalid's auc: 0.99028\n"
          ]
        },
        {
          "output_type": "stream",
          "name": "stdout",
          "text": [
            "[1800]\ttrain's auc: 0.998677\tvalid's auc: 0.990441\n"
          ]
        },
        {
          "output_type": "stream",
          "name": "stdout",
          "text": [
            "[2000]\ttrain's auc: 0.999047\tvalid's auc: 0.990582\n"
          ]
        },
        {
          "output_type": "stream",
          "name": "stdout",
          "text": [
            "[2200]\ttrain's auc: 0.999333\tvalid's auc: 0.990686\n"
          ]
        },
        {
          "output_type": "stream",
          "name": "stdout",
          "text": [
            "[2400]\ttrain's auc: 0.999535\tvalid's auc: 0.990791\n"
          ]
        },
        {
          "output_type": "stream",
          "name": "stdout",
          "text": [
            "[2600]\ttrain's auc: 0.999685\tvalid's auc: 0.990852\n"
          ]
        },
        {
          "output_type": "stream",
          "name": "stdout",
          "text": [
            "[2800]\ttrain's auc: 0.99979\tvalid's auc: 0.990909\n"
          ]
        },
        {
          "output_type": "stream",
          "name": "stdout",
          "text": [
            "[3000]\ttrain's auc: 0.999867\tvalid's auc: 0.990938\n"
          ]
        },
        {
          "output_type": "stream",
          "name": "stdout",
          "text": [
            "[3200]\ttrain's auc: 0.999917\tvalid's auc: 0.990984\n"
          ]
        },
        {
          "output_type": "stream",
          "name": "stdout",
          "text": [
            "[3400]\ttrain's auc: 0.99995\tvalid's auc: 0.991025\n"
          ]
        },
        {
          "output_type": "stream",
          "name": "stdout",
          "text": [
            "[3600]\ttrain's auc: 0.99997\tvalid's auc: 0.991077\n"
          ]
        },
        {
          "output_type": "stream",
          "name": "stdout",
          "text": [
            "[3800]\ttrain's auc: 0.999983\tvalid's auc: 0.991109\n"
          ]
        },
        {
          "output_type": "stream",
          "name": "stdout",
          "text": [
            "[4000]\ttrain's auc: 0.999991\tvalid's auc: 0.991145\nDid not meet early stopping. Best iteration is:\n[3998]\ttrain's auc: 0.999991\tvalid's auc: 0.991146\n"
          ]
        },
        {
          "output_type": "stream",
          "name": "stdout",
          "text": [
            "[2025-09-12 00:55:14] [LGB multi] seed=2025 fold=0 AUC: 0.991146 | best_iter=3998 | elapsed=317.7s\n"
          ]
        },
        {
          "output_type": "stream",
          "name": "stdout",
          "text": [
            "[2025-09-12 00:55:17] [LGB multi] seed=2025 ff=0.78 bf=0.78 | Fold 2/10 | trn=720000 val=80000\n"
          ]
        },
        {
          "output_type": "stream",
          "name": "stdout",
          "text": [
            "Training until validation scores don't improve for 120 rounds\n"
          ]
        },
        {
          "output_type": "stream",
          "name": "stdout",
          "text": [
            "[200]\ttrain's auc: 0.978905\tvalid's auc: 0.976149\n"
          ]
        },
        {
          "output_type": "stream",
          "name": "stdout",
          "text": [
            "[400]\ttrain's auc: 0.988661\tvalid's auc: 0.985163\n"
          ]
        },
        {
          "output_type": "stream",
          "name": "stdout",
          "text": [
            "[600]\ttrain's auc: 0.992277\tvalid's auc: 0.987867\n"
          ]
        },
        {
          "output_type": "stream",
          "name": "stdout",
          "text": [
            "[800]\ttrain's auc: 0.994251\tvalid's auc: 0.988845\n"
          ]
        },
        {
          "output_type": "stream",
          "name": "stdout",
          "text": [
            "[1000]\ttrain's auc: 0.995669\tvalid's auc: 0.989481\n"
          ]
        },
        {
          "output_type": "stream",
          "name": "stdout",
          "text": [
            "[1200]\ttrain's auc: 0.99671\tvalid's auc: 0.989834\n"
          ]
        },
        {
          "output_type": "stream",
          "name": "stdout",
          "text": [
            "[1400]\ttrain's auc: 0.997508\tvalid's auc: 0.990073\n"
          ]
        },
        {
          "output_type": "stream",
          "name": "stdout",
          "text": [
            "[1600]\ttrain's auc: 0.998151\tvalid's auc: 0.990261\n"
          ]
        },
        {
          "output_type": "stream",
          "name": "stdout",
          "text": [
            "[1800]\ttrain's auc: 0.998647\tvalid's auc: 0.990472\n"
          ]
        },
        {
          "output_type": "stream",
          "name": "stdout",
          "text": [
            "[2000]\ttrain's auc: 0.999026\tvalid's auc: 0.990553\n"
          ]
        },
        {
          "output_type": "stream",
          "name": "stdout",
          "text": [
            "[2200]\ttrain's auc: 0.99931\tvalid's auc: 0.990628\n"
          ]
        },
        {
          "output_type": "stream",
          "name": "stdout",
          "text": [
            "[2400]\ttrain's auc: 0.999524\tvalid's auc: 0.990734\n"
          ]
        },
        {
          "output_type": "stream",
          "name": "stdout",
          "text": [
            "[2600]\ttrain's auc: 0.99968\tvalid's auc: 0.990807\n"
          ]
        },
        {
          "output_type": "stream",
          "name": "stdout",
          "text": [
            "[2800]\ttrain's auc: 0.999787\tvalid's auc: 0.990841\n"
          ]
        },
        {
          "output_type": "stream",
          "name": "stdout",
          "text": [
            "[3000]\ttrain's auc: 0.999861\tvalid's auc: 0.990886\n"
          ]
        },
        {
          "output_type": "stream",
          "name": "stdout",
          "text": [
            "[3200]\ttrain's auc: 0.999912\tvalid's auc: 0.990935\n"
          ]
        },
        {
          "output_type": "stream",
          "name": "stdout",
          "text": [
            "[3400]\ttrain's auc: 0.999948\tvalid's auc: 0.990972\n"
          ]
        },
        {
          "output_type": "stream",
          "name": "stdout",
          "text": [
            "[3600]\ttrain's auc: 0.999969\tvalid's auc: 0.991005\n"
          ]
        },
        {
          "output_type": "stream",
          "name": "stdout",
          "text": [
            "[3800]\ttrain's auc: 0.999982\tvalid's auc: 0.991016\n"
          ]
        },
        {
          "output_type": "stream",
          "name": "stdout",
          "text": [
            "[4000]\ttrain's auc: 0.99999\tvalid's auc: 0.991041\nDid not meet early stopping. Best iteration is:\n[3933]\ttrain's auc: 0.999988\tvalid's auc: 0.991046\n"
          ]
        },
        {
          "output_type": "stream",
          "name": "stdout",
          "text": [
            "[2025-09-12 01:00:31] [LGB multi] seed=2025 fold=1 AUC: 0.991046 | best_iter=3933 | elapsed=314.5s\n"
          ]
        },
        {
          "output_type": "stream",
          "name": "stdout",
          "text": [
            "[2025-09-12 01:00:34] [LGB multi] seed=2025 ff=0.78 bf=0.78 | Fold 3/10 | trn=720000 val=80000\n"
          ]
        },
        {
          "output_type": "stream",
          "name": "stdout",
          "text": [
            "Training until validation scores don't improve for 120 rounds\n"
          ]
        },
        {
          "output_type": "stream",
          "name": "stdout",
          "text": [
            "[200]\ttrain's auc: 0.978532\tvalid's auc: 0.97514\n"
          ]
        },
        {
          "output_type": "stream",
          "name": "stdout",
          "text": [
            "[400]\ttrain's auc: 0.988473\tvalid's auc: 0.984586\n"
          ]
        },
        {
          "output_type": "stream",
          "name": "stdout",
          "text": [
            "[600]\ttrain's auc: 0.992282\tvalid's auc: 0.987702\n"
          ]
        },
        {
          "output_type": "stream",
          "name": "stdout",
          "text": [
            "[800]\ttrain's auc: 0.994314\tvalid's auc: 0.988873\n"
          ]
        },
        {
          "output_type": "stream",
          "name": "stdout",
          "text": [
            "[1000]\ttrain's auc: 0.995704\tvalid's auc: 0.989402\n"
          ]
        },
        {
          "output_type": "stream",
          "name": "stdout",
          "text": [
            "[1200]\ttrain's auc: 0.996755\tvalid's auc: 0.989787\n"
          ]
        },
        {
          "output_type": "stream",
          "name": "stdout",
          "text": [
            "[1400]\ttrain's auc: 0.997554\tvalid's auc: 0.990086\n"
          ]
        },
        {
          "output_type": "stream",
          "name": "stdout",
          "text": [
            "[1600]\ttrain's auc: 0.998184\tvalid's auc: 0.990285\n"
          ]
        },
        {
          "output_type": "stream",
          "name": "stdout",
          "text": [
            "[1800]\ttrain's auc: 0.998673\tvalid's auc: 0.990413\n"
          ]
        },
        {
          "output_type": "stream",
          "name": "stdout",
          "text": [
            "[2000]\ttrain's auc: 0.999045\tvalid's auc: 0.990523\n"
          ]
        },
        {
          "output_type": "stream",
          "name": "stdout",
          "text": [
            "[2200]\ttrain's auc: 0.999331\tvalid's auc: 0.990595\n"
          ]
        },
        {
          "output_type": "stream",
          "name": "stdout",
          "text": [
            "[2400]\ttrain's auc: 0.999539\tvalid's auc: 0.990689\n"
          ]
        },
        {
          "output_type": "stream",
          "name": "stdout",
          "text": [
            "[2600]\ttrain's auc: 0.999688\tvalid's auc: 0.990771\n"
          ]
        },
        {
          "output_type": "stream",
          "name": "stdout",
          "text": [
            "[2800]\ttrain's auc: 0.999797\tvalid's auc: 0.990784\n"
          ]
        },
        {
          "output_type": "stream",
          "name": "stdout",
          "text": [
            "[3000]\ttrain's auc: 0.999867\tvalid's auc: 0.99085\n"
          ]
        },
        {
          "output_type": "stream",
          "name": "stdout",
          "text": [
            "[3200]\ttrain's auc: 0.999916\tvalid's auc: 0.9909\n"
          ]
        },
        {
          "output_type": "stream",
          "name": "stdout",
          "text": [
            "[3400]\ttrain's auc: 0.999949\tvalid's auc: 0.990931\n"
          ]
        },
        {
          "output_type": "stream",
          "name": "stdout",
          "text": [
            "[3600]\ttrain's auc: 0.99997\tvalid's auc: 0.990964\n"
          ]
        },
        {
          "output_type": "stream",
          "name": "stdout",
          "text": [
            "[3800]\ttrain's auc: 0.999983\tvalid's auc: 0.990982\n"
          ]
        },
        {
          "output_type": "stream",
          "name": "stdout",
          "text": [
            "[4000]\ttrain's auc: 0.999991\tvalid's auc: 0.991009\nDid not meet early stopping. Best iteration is:\n[4000]\ttrain's auc: 0.999991\tvalid's auc: 0.991009\n"
          ]
        },
        {
          "output_type": "stream",
          "name": "stdout",
          "text": [
            "[2025-09-12 01:05:46] [LGB multi] seed=2025 fold=2 AUC: 0.991009 | best_iter=4000 | elapsed=312.0s\n"
          ]
        },
        {
          "output_type": "stream",
          "name": "stdout",
          "text": [
            "[2025-09-12 01:05:49] [LGB multi] seed=2025 ff=0.78 bf=0.78 | Fold 4/10 | trn=720000 val=80000\n"
          ]
        },
        {
          "output_type": "stream",
          "name": "stdout",
          "text": [
            "Training until validation scores don't improve for 120 rounds\n"
          ]
        },
        {
          "output_type": "stream",
          "name": "stdout",
          "text": [
            "[200]\ttrain's auc: 0.979013\tvalid's auc: 0.975598\n"
          ]
        },
        {
          "output_type": "stream",
          "name": "stdout",
          "text": [
            "[400]\ttrain's auc: 0.988605\tvalid's auc: 0.98477\n"
          ]
        },
        {
          "output_type": "stream",
          "name": "stdout",
          "text": [
            "[600]\ttrain's auc: 0.992307\tvalid's auc: 0.987779\n"
          ]
        },
        {
          "output_type": "stream",
          "name": "stdout",
          "text": [
            "[800]\ttrain's auc: 0.99429\tvalid's auc: 0.988845\n"
          ]
        },
        {
          "output_type": "stream",
          "name": "stdout",
          "text": [
            "[1000]\ttrain's auc: 0.995667\tvalid's auc: 0.989328\n"
          ]
        },
        {
          "output_type": "stream",
          "name": "stdout",
          "text": [
            "[1200]\ttrain's auc: 0.996721\tvalid's auc: 0.989752\n"
          ]
        },
        {
          "output_type": "stream",
          "name": "stdout",
          "text": [
            "[1400]\ttrain's auc: 0.997517\tvalid's auc: 0.989941\n"
          ]
        },
        {
          "output_type": "stream",
          "name": "stdout",
          "text": [
            "[1600]\ttrain's auc: 0.998162\tvalid's auc: 0.990151\n"
          ]
        },
        {
          "output_type": "stream",
          "name": "stdout",
          "text": [
            "[1800]\ttrain's auc: 0.998656\tvalid's auc: 0.990297\n"
          ]
        },
        {
          "output_type": "stream",
          "name": "stdout",
          "text": [
            "[2000]\ttrain's auc: 0.999032\tvalid's auc: 0.990438\n"
          ]
        },
        {
          "output_type": "stream",
          "name": "stdout",
          "text": [
            "[2200]\ttrain's auc: 0.999315\tvalid's auc: 0.990511\n"
          ]
        },
        {
          "output_type": "stream",
          "name": "stdout",
          "text": [
            "[2400]\ttrain's auc: 0.999524\tvalid's auc: 0.9906\n"
          ]
        },
        {
          "output_type": "stream",
          "name": "stdout",
          "text": [
            "[2600]\ttrain's auc: 0.999677\tvalid's auc: 0.990685\n"
          ]
        },
        {
          "output_type": "stream",
          "name": "stdout",
          "text": [
            "[2800]\ttrain's auc: 0.999788\tvalid's auc: 0.990757\n"
          ]
        },
        {
          "output_type": "stream",
          "name": "stdout",
          "text": [
            "[3000]\ttrain's auc: 0.999862\tvalid's auc: 0.990829\n"
          ]
        },
        {
          "output_type": "stream",
          "name": "stdout",
          "text": [
            "[3200]\ttrain's auc: 0.999913\tvalid's auc: 0.990896\n"
          ]
        },
        {
          "output_type": "stream",
          "name": "stdout",
          "text": [
            "[3400]\ttrain's auc: 0.999946\tvalid's auc: 0.990955\n"
          ]
        },
        {
          "output_type": "stream",
          "name": "stdout",
          "text": [
            "[3600]\ttrain's auc: 0.999967\tvalid's auc: 0.990994\n"
          ]
        },
        {
          "output_type": "stream",
          "name": "stdout",
          "text": [
            "[3800]\ttrain's auc: 0.999981\tvalid's auc: 0.991023\n"
          ]
        },
        {
          "output_type": "stream",
          "name": "stdout",
          "text": [
            "[4000]\ttrain's auc: 0.999989\tvalid's auc: 0.991052\nDid not meet early stopping. Best iteration is:\n[3929]\ttrain's auc: 0.999987\tvalid's auc: 0.991058\n"
          ]
        },
        {
          "output_type": "stream",
          "name": "stdout",
          "text": [
            "[2025-09-12 01:11:05] [LGB multi] seed=2025 fold=3 AUC: 0.991058 | best_iter=3929 | elapsed=316.4s\n"
          ]
        },
        {
          "output_type": "stream",
          "name": "stdout",
          "text": [
            "[2025-09-12 01:11:08] [LGB multi] seed=2025 ff=0.78 bf=0.78 | Fold 5/10 | trn=720000 val=80000\n"
          ]
        },
        {
          "output_type": "stream",
          "name": "stdout",
          "text": [
            "Training until validation scores don't improve for 120 rounds\n"
          ]
        },
        {
          "output_type": "stream",
          "name": "stdout",
          "text": [
            "[200]\ttrain's auc: 0.979029\tvalid's auc: 0.975443\n"
          ]
        },
        {
          "output_type": "stream",
          "name": "stdout",
          "text": [
            "[400]\ttrain's auc: 0.988745\tvalid's auc: 0.984803\n"
          ]
        },
        {
          "output_type": "stream",
          "name": "stdout",
          "text": [
            "[600]\ttrain's auc: 0.992402\tvalid's auc: 0.987796\n"
          ]
        },
        {
          "output_type": "stream",
          "name": "stdout",
          "text": [
            "[800]\ttrain's auc: 0.994353\tvalid's auc: 0.988872\n"
          ]
        },
        {
          "output_type": "stream",
          "name": "stdout",
          "text": [
            "[1000]\ttrain's auc: 0.995722\tvalid's auc: 0.98943\n"
          ]
        },
        {
          "output_type": "stream",
          "name": "stdout",
          "text": [
            "[1200]\ttrain's auc: 0.996754\tvalid's auc: 0.989792\n"
          ]
        },
        {
          "output_type": "stream",
          "name": "stdout",
          "text": [
            "[1400]\ttrain's auc: 0.99756\tvalid's auc: 0.990045\n"
          ]
        },
        {
          "output_type": "stream",
          "name": "stdout",
          "text": [
            "[1600]\ttrain's auc: 0.998178\tvalid's auc: 0.990254\n"
          ]
        },
        {
          "output_type": "stream",
          "name": "stdout",
          "text": [
            "[1800]\ttrain's auc: 0.998666\tvalid's auc: 0.990452\n"
          ]
        },
        {
          "output_type": "stream",
          "name": "stdout",
          "text": [
            "[2000]\ttrain's auc: 0.999044\tvalid's auc: 0.990577\n"
          ]
        },
        {
          "output_type": "stream",
          "name": "stdout",
          "text": [
            "[2200]\ttrain's auc: 0.99933\tvalid's auc: 0.990637\n"
          ]
        },
        {
          "output_type": "stream",
          "name": "stdout",
          "text": [
            "[2400]\ttrain's auc: 0.999538\tvalid's auc: 0.990707\n"
          ]
        },
        {
          "output_type": "stream",
          "name": "stdout",
          "text": [
            "[2600]\ttrain's auc: 0.999688\tvalid's auc: 0.990775\n"
          ]
        },
        {
          "output_type": "stream",
          "name": "stdout",
          "text": [
            "[2800]\ttrain's auc: 0.999796\tvalid's auc: 0.990848\n"
          ]
        },
        {
          "output_type": "stream",
          "name": "stdout",
          "text": [
            "[3000]\ttrain's auc: 0.999871\tvalid's auc: 0.990897\n"
          ]
        },
        {
          "output_type": "stream",
          "name": "stdout",
          "text": [
            "[3200]\ttrain's auc: 0.999921\tvalid's auc: 0.990969\n"
          ]
        },
        {
          "output_type": "stream",
          "name": "stdout",
          "text": [
            "[3400]\ttrain's auc: 0.999952\tvalid's auc: 0.991011\n"
          ]
        },
        {
          "output_type": "stream",
          "name": "stdout",
          "text": [
            "Early stopping, best iteration is:\n[3369]\ttrain's auc: 0.999947\tvalid's auc: 0.991017\n"
          ]
        },
        {
          "output_type": "stream",
          "name": "stdout",
          "text": [
            "[2025-09-12 01:15:53] [LGB multi] seed=2025 fold=4 AUC: 0.991017 | best_iter=3369 | elapsed=285.0s\n"
          ]
        },
        {
          "output_type": "stream",
          "name": "stdout",
          "text": [
            "[2025-09-12 01:15:56] [LGB multi] seed=2025 ff=0.78 bf=0.78 | Fold 6/10 | trn=720000 val=80000\n"
          ]
        },
        {
          "output_type": "stream",
          "name": "stdout",
          "text": [
            "Training until validation scores don't improve for 120 rounds\n"
          ]
        },
        {
          "output_type": "stream",
          "name": "stdout",
          "text": [
            "[200]\ttrain's auc: 0.979014\tvalid's auc: 0.975619\n"
          ]
        },
        {
          "output_type": "stream",
          "name": "stdout",
          "text": [
            "[400]\ttrain's auc: 0.988837\tvalid's auc: 0.984966\n"
          ]
        },
        {
          "output_type": "stream",
          "name": "stdout",
          "text": [
            "[600]\ttrain's auc: 0.992425\tvalid's auc: 0.987768\n"
          ]
        },
        {
          "output_type": "stream",
          "name": "stdout",
          "text": [
            "[800]\ttrain's auc: 0.994406\tvalid's auc: 0.988832\n"
          ]
        },
        {
          "output_type": "stream",
          "name": "stdout",
          "text": [
            "[1000]\ttrain's auc: 0.995759\tvalid's auc: 0.989417\n"
          ]
        },
        {
          "output_type": "stream",
          "name": "stdout",
          "text": [
            "[1200]\ttrain's auc: 0.996781\tvalid's auc: 0.989764\n"
          ]
        },
        {
          "output_type": "stream",
          "name": "stdout",
          "text": [
            "[1400]\ttrain's auc: 0.997581\tvalid's auc: 0.990018\n"
          ]
        },
        {
          "output_type": "stream",
          "name": "stdout",
          "text": [
            "[1600]\ttrain's auc: 0.998201\tvalid's auc: 0.990192\n"
          ]
        },
        {
          "output_type": "stream",
          "name": "stdout",
          "text": [
            "[1800]\ttrain's auc: 0.998681\tvalid's auc: 0.990363\n"
          ]
        },
        {
          "output_type": "stream",
          "name": "stdout",
          "text": [
            "[2000]\ttrain's auc: 0.999056\tvalid's auc: 0.99044\n"
          ]
        },
        {
          "output_type": "stream",
          "name": "stdout",
          "text": [
            "[2200]\ttrain's auc: 0.999339\tvalid's auc: 0.99055\n"
          ]
        },
        {
          "output_type": "stream",
          "name": "stdout",
          "text": [
            "[2400]\ttrain's auc: 0.999547\tvalid's auc: 0.990624\n"
          ]
        },
        {
          "output_type": "stream",
          "name": "stdout",
          "text": [
            "[2600]\ttrain's auc: 0.999694\tvalid's auc: 0.990661\n"
          ]
        },
        {
          "output_type": "stream",
          "name": "stdout",
          "text": [
            "[2800]\ttrain's auc: 0.999797\tvalid's auc: 0.990725\n"
          ]
        },
        {
          "output_type": "stream",
          "name": "stdout",
          "text": [
            "[3000]\ttrain's auc: 0.999868\tvalid's auc: 0.990782\n"
          ]
        },
        {
          "output_type": "stream",
          "name": "stdout",
          "text": [
            "[3200]\ttrain's auc: 0.999919\tvalid's auc: 0.990843\n"
          ]
        },
        {
          "output_type": "stream",
          "name": "stdout",
          "text": [
            "[3400]\ttrain's auc: 0.99995\tvalid's auc: 0.990906\n"
          ]
        },
        {
          "output_type": "stream",
          "name": "stdout",
          "text": [
            "[3600]\ttrain's auc: 0.99997\tvalid's auc: 0.990934\n"
          ]
        },
        {
          "output_type": "stream",
          "name": "stdout",
          "text": [
            "[3800]\ttrain's auc: 0.999983\tvalid's auc: 0.990962\n"
          ]
        },
        {
          "output_type": "stream",
          "name": "stdout",
          "text": [
            "[4000]\ttrain's auc: 0.999991\tvalid's auc: 0.990996\nDid not meet early stopping. Best iteration is:\n[3999]\ttrain's auc: 0.99999\tvalid's auc: 0.990997\n"
          ]
        },
        {
          "output_type": "stream",
          "name": "stdout",
          "text": [
            "[2025-09-12 01:21:09] [LGB multi] seed=2025 fold=5 AUC: 0.990997 | best_iter=3999 | elapsed=312.9s\n"
          ]
        },
        {
          "output_type": "stream",
          "name": "stdout",
          "text": [
            "[2025-09-12 01:21:11] [LGB multi] seed=2025 ff=0.78 bf=0.78 | Fold 7/10 | trn=720000 val=80000\n"
          ]
        },
        {
          "output_type": "stream",
          "name": "stdout",
          "text": [
            "Training until validation scores don't improve for 120 rounds\n"
          ]
        },
        {
          "output_type": "stream",
          "name": "stdout",
          "text": [
            "[200]\ttrain's auc: 0.978825\tvalid's auc: 0.976291\n"
          ]
        },
        {
          "output_type": "stream",
          "name": "stdout",
          "text": [
            "[400]\ttrain's auc: 0.988773\tvalid's auc: 0.985576\n"
          ]
        },
        {
          "output_type": "stream",
          "name": "stdout",
          "text": [
            "[600]\ttrain's auc: 0.992348\tvalid's auc: 0.988315\n"
          ]
        },
        {
          "output_type": "stream",
          "name": "stdout",
          "text": [
            "[800]\ttrain's auc: 0.994311\tvalid's auc: 0.989334\n"
          ]
        },
        {
          "output_type": "stream",
          "name": "stdout",
          "text": [
            "[1000]\ttrain's auc: 0.995707\tvalid's auc: 0.989863\n"
          ]
        },
        {
          "output_type": "stream",
          "name": "stdout",
          "text": [
            "[1200]\ttrain's auc: 0.99675\tvalid's auc: 0.990224\n"
          ]
        },
        {
          "output_type": "stream",
          "name": "stdout",
          "text": [
            "[1400]\ttrain's auc: 0.997556\tvalid's auc: 0.990462\n"
          ]
        },
        {
          "output_type": "stream",
          "name": "stdout",
          "text": [
            "[1600]\ttrain's auc: 0.9982\tvalid's auc: 0.990607\n"
          ]
        },
        {
          "output_type": "stream",
          "name": "stdout",
          "text": [
            "[1800]\ttrain's auc: 0.998693\tvalid's auc: 0.990757\n"
          ]
        },
        {
          "output_type": "stream",
          "name": "stdout",
          "text": [
            "[2000]\ttrain's auc: 0.999055\tvalid's auc: 0.990895\n"
          ]
        },
        {
          "output_type": "stream",
          "name": "stdout",
          "text": [
            "[2200]\ttrain's auc: 0.999329\tvalid's auc: 0.990996\n"
          ]
        },
        {
          "output_type": "stream",
          "name": "stdout",
          "text": [
            "[2400]\ttrain's auc: 0.999536\tvalid's auc: 0.991058\n"
          ]
        },
        {
          "output_type": "stream",
          "name": "stdout",
          "text": [
            "[2600]\ttrain's auc: 0.999684\tvalid's auc: 0.991139\n"
          ]
        },
        {
          "output_type": "stream",
          "name": "stdout",
          "text": [
            "[2800]\ttrain's auc: 0.99979\tvalid's auc: 0.99121\n"
          ]
        },
        {
          "output_type": "stream",
          "name": "stdout",
          "text": [
            "[3000]\ttrain's auc: 0.999865\tvalid's auc: 0.99126\n"
          ]
        },
        {
          "output_type": "stream",
          "name": "stdout",
          "text": [
            "[3200]\ttrain's auc: 0.999914\tvalid's auc: 0.991286\n"
          ]
        },
        {
          "output_type": "stream",
          "name": "stdout",
          "text": [
            "[3400]\ttrain's auc: 0.999947\tvalid's auc: 0.991329\n"
          ]
        },
        {
          "output_type": "stream",
          "name": "stdout",
          "text": [
            "[3600]\ttrain's auc: 0.999968\tvalid's auc: 0.991367\n"
          ]
        },
        {
          "output_type": "stream",
          "name": "stdout",
          "text": [
            "[3800]\ttrain's auc: 0.999981\tvalid's auc: 0.991418\n"
          ]
        },
        {
          "output_type": "stream",
          "name": "stdout",
          "text": [
            "[4000]\ttrain's auc: 0.999989\tvalid's auc: 0.991461\nDid not meet early stopping. Best iteration is:\n[4000]\ttrain's auc: 0.999989\tvalid's auc: 0.991461\n"
          ]
        },
        {
          "output_type": "stream",
          "name": "stdout",
          "text": [
            "[2025-09-12 01:26:37] [LGB multi] seed=2025 fold=6 AUC: 0.991461 | best_iter=4000 | elapsed=325.1s\n"
          ]
        },
        {
          "output_type": "stream",
          "name": "stdout",
          "text": [
            "[2025-09-12 01:26:39] [LGB multi] seed=2025 ff=0.78 bf=0.78 | Fold 8/10 | trn=720000 val=80000\n"
          ]
        },
        {
          "output_type": "stream",
          "name": "stdout",
          "text": [
            "Training until validation scores don't improve for 120 rounds\n"
          ]
        },
        {
          "output_type": "stream",
          "name": "stdout",
          "text": [
            "[200]\ttrain's auc: 0.979082\tvalid's auc: 0.975534\n"
          ]
        },
        {
          "output_type": "stream",
          "name": "stdout",
          "text": [
            "[400]\ttrain's auc: 0.988905\tvalid's auc: 0.984938\n"
          ]
        },
        {
          "output_type": "stream",
          "name": "stdout",
          "text": [
            "[600]\ttrain's auc: 0.992427\tvalid's auc: 0.987714\n"
          ]
        },
        {
          "output_type": "stream",
          "name": "stdout",
          "text": [
            "[800]\ttrain's auc: 0.994388\tvalid's auc: 0.988766\n"
          ]
        },
        {
          "output_type": "stream",
          "name": "stdout",
          "text": [
            "[1000]\ttrain's auc: 0.995747\tvalid's auc: 0.989322\n"
          ]
        },
        {
          "output_type": "stream",
          "name": "stdout",
          "text": [
            "[1200]\ttrain's auc: 0.996796\tvalid's auc: 0.98969\n"
          ]
        },
        {
          "output_type": "stream",
          "name": "stdout",
          "text": [
            "[1400]\ttrain's auc: 0.997612\tvalid's auc: 0.99001\n"
          ]
        },
        {
          "output_type": "stream",
          "name": "stdout",
          "text": [
            "[1600]\ttrain's auc: 0.998234\tvalid's auc: 0.990172\n"
          ]
        },
        {
          "output_type": "stream",
          "name": "stdout",
          "text": [
            "[1800]\ttrain's auc: 0.998707\tvalid's auc: 0.990346\n"
          ]
        },
        {
          "output_type": "stream",
          "name": "stdout",
          "text": [
            "[2000]\ttrain's auc: 0.999071\tvalid's auc: 0.990478\n"
          ]
        },
        {
          "output_type": "stream",
          "name": "stdout",
          "text": [
            "[2200]\ttrain's auc: 0.99935\tvalid's auc: 0.990574\n"
          ]
        },
        {
          "output_type": "stream",
          "name": "stdout",
          "text": [
            "[2400]\ttrain's auc: 0.999553\tvalid's auc: 0.990645\n"
          ]
        },
        {
          "output_type": "stream",
          "name": "stdout",
          "text": [
            "[2600]\ttrain's auc: 0.999696\tvalid's auc: 0.990779\n"
          ]
        },
        {
          "output_type": "stream",
          "name": "stdout",
          "text": [
            "[2800]\ttrain's auc: 0.999802\tvalid's auc: 0.990817\n"
          ]
        },
        {
          "output_type": "stream",
          "name": "stdout",
          "text": [
            "Early stopping, best iteration is:\n[2684]\ttrain's auc: 0.999746\tvalid's auc: 0.99082\n"
          ]
        },
        {
          "output_type": "stream",
          "name": "stdout",
          "text": [
            "[2025-09-12 01:30:20] [LGB multi] seed=2025 fold=7 AUC: 0.990820 | best_iter=2684 | elapsed=220.7s\n"
          ]
        },
        {
          "output_type": "stream",
          "name": "stdout",
          "text": [
            "[2025-09-12 01:30:22] [LGB multi] seed=2025 ff=0.78 bf=0.78 | Fold 9/10 | trn=720000 val=80000\n"
          ]
        },
        {
          "output_type": "stream",
          "name": "stdout",
          "text": [
            "Training until validation scores don't improve for 120 rounds\n"
          ]
        },
        {
          "output_type": "stream",
          "name": "stdout",
          "text": [
            "[200]\ttrain's auc: 0.978804\tvalid's auc: 0.976181\n"
          ]
        },
        {
          "output_type": "stream",
          "name": "stdout",
          "text": [
            "[400]\ttrain's auc: 0.98875\tvalid's auc: 0.985585\n"
          ]
        },
        {
          "output_type": "stream",
          "name": "stdout",
          "text": [
            "[600]\ttrain's auc: 0.992364\tvalid's auc: 0.988337\n"
          ]
        },
        {
          "output_type": "stream",
          "name": "stdout",
          "text": [
            "[800]\ttrain's auc: 0.994306\tvalid's auc: 0.989325\n"
          ]
        },
        {
          "output_type": "stream",
          "name": "stdout",
          "text": [
            "[1000]\ttrain's auc: 0.995654\tvalid's auc: 0.989817\n"
          ]
        },
        {
          "output_type": "stream",
          "name": "stdout",
          "text": [
            "[1200]\ttrain's auc: 0.996695\tvalid's auc: 0.990158\n"
          ]
        },
        {
          "output_type": "stream",
          "name": "stdout",
          "text": [
            "[1400]\ttrain's auc: 0.997518\tvalid's auc: 0.990495\n"
          ]
        },
        {
          "output_type": "stream",
          "name": "stdout",
          "text": [
            "[1600]\ttrain's auc: 0.99815\tvalid's auc: 0.990735\n"
          ]
        },
        {
          "output_type": "stream",
          "name": "stdout",
          "text": [
            "[1800]\ttrain's auc: 0.998651\tvalid's auc: 0.990915\n"
          ]
        },
        {
          "output_type": "stream",
          "name": "stdout",
          "text": [
            "[2000]\ttrain's auc: 0.99902\tvalid's auc: 0.991022\n"
          ]
        },
        {
          "output_type": "stream",
          "name": "stdout",
          "text": [
            "[2200]\ttrain's auc: 0.999303\tvalid's auc: 0.991084\n"
          ]
        },
        {
          "output_type": "stream",
          "name": "stdout",
          "text": [
            "[2400]\ttrain's auc: 0.999515\tvalid's auc: 0.991165\n"
          ]
        },
        {
          "output_type": "stream",
          "name": "stdout",
          "text": [
            "[2600]\ttrain's auc: 0.999667\tvalid's auc: 0.99122\n"
          ]
        },
        {
          "output_type": "stream",
          "name": "stdout",
          "text": [
            "[2800]\ttrain's auc: 0.999777\tvalid's auc: 0.991296\n"
          ]
        },
        {
          "output_type": "stream",
          "name": "stdout",
          "text": [
            "[3000]\ttrain's auc: 0.999856\tvalid's auc: 0.991319\n"
          ]
        },
        {
          "output_type": "stream",
          "name": "stdout",
          "text": [
            "[3200]\ttrain's auc: 0.999908\tvalid's auc: 0.991388\n"
          ]
        },
        {
          "output_type": "stream",
          "name": "stdout",
          "text": [
            "[3400]\ttrain's auc: 0.999944\tvalid's auc: 0.99143\n"
          ]
        },
        {
          "output_type": "stream",
          "name": "stdout",
          "text": [
            "[3600]\ttrain's auc: 0.999966\tvalid's auc: 0.991454\n"
          ]
        },
        {
          "output_type": "stream",
          "name": "stdout",
          "text": [
            "[3800]\ttrain's auc: 0.999981\tvalid's auc: 0.991497\n"
          ]
        },
        {
          "output_type": "stream",
          "name": "stdout",
          "text": [
            "[4000]\ttrain's auc: 0.999989\tvalid's auc: 0.991517\nDid not meet early stopping. Best iteration is:\n[3970]\ttrain's auc: 0.999989\tvalid's auc: 0.991521\n"
          ]
        },
        {
          "output_type": "stream",
          "name": "stdout",
          "text": [
            "[2025-09-12 01:35:37] [LGB multi] seed=2025 fold=8 AUC: 0.991521 | best_iter=3970 | elapsed=314.4s\n"
          ]
        },
        {
          "output_type": "stream",
          "name": "stdout",
          "text": [
            "[2025-09-12 01:35:39] [LGB multi] seed=2025 ff=0.78 bf=0.78 | Fold 10/10 | trn=720000 val=80000\n"
          ]
        },
        {
          "output_type": "stream",
          "name": "stdout",
          "text": [
            "Training until validation scores don't improve for 120 rounds\n"
          ]
        },
        {
          "output_type": "stream",
          "name": "stdout",
          "text": [
            "[200]\ttrain's auc: 0.978858\tvalid's auc: 0.976129\n"
          ]
        },
        {
          "output_type": "stream",
          "name": "stdout",
          "text": [
            "[400]\ttrain's auc: 0.988604\tvalid's auc: 0.985372\n"
          ]
        },
        {
          "output_type": "stream",
          "name": "stdout",
          "text": [
            "[600]\ttrain's auc: 0.992288\tvalid's auc: 0.988255\n"
          ]
        },
        {
          "output_type": "stream",
          "name": "stdout",
          "text": [
            "[800]\ttrain's auc: 0.994203\tvalid's auc: 0.989122\n"
          ]
        },
        {
          "output_type": "stream",
          "name": "stdout",
          "text": [
            "[1000]\ttrain's auc: 0.99564\tvalid's auc: 0.989778\n"
          ]
        },
        {
          "output_type": "stream",
          "name": "stdout",
          "text": [
            "[1200]\ttrain's auc: 0.996687\tvalid's auc: 0.9901\n"
          ]
        },
        {
          "output_type": "stream",
          "name": "stdout",
          "text": [
            "[1400]\ttrain's auc: 0.997508\tvalid's auc: 0.990341\n"
          ]
        },
        {
          "output_type": "stream",
          "name": "stdout",
          "text": [
            "[1600]\ttrain's auc: 0.998146\tvalid's auc: 0.990539\n"
          ]
        },
        {
          "output_type": "stream",
          "name": "stdout",
          "text": [
            "[1800]\ttrain's auc: 0.998638\tvalid's auc: 0.990704\n"
          ]
        },
        {
          "output_type": "stream",
          "name": "stdout",
          "text": [
            "[2000]\ttrain's auc: 0.999016\tvalid's auc: 0.990805\n"
          ]
        },
        {
          "output_type": "stream",
          "name": "stdout",
          "text": [
            "[2200]\ttrain's auc: 0.999307\tvalid's auc: 0.990893\n"
          ]
        },
        {
          "output_type": "stream",
          "name": "stdout",
          "text": [
            "[2400]\ttrain's auc: 0.999522\tvalid's auc: 0.990986\n"
          ]
        },
        {
          "output_type": "stream",
          "name": "stdout",
          "text": [
            "[2600]\ttrain's auc: 0.999672\tvalid's auc: 0.991048\n"
          ]
        },
        {
          "output_type": "stream",
          "name": "stdout",
          "text": [
            "[2800]\ttrain's auc: 0.999782\tvalid's auc: 0.991108\n"
          ]
        },
        {
          "output_type": "stream",
          "name": "stdout",
          "text": [
            "[3000]\ttrain's auc: 0.999858\tvalid's auc: 0.991159\n"
          ]
        },
        {
          "output_type": "stream",
          "name": "stdout",
          "text": [
            "[3200]\ttrain's auc: 0.999913\tvalid's auc: 0.991201\n"
          ]
        },
        {
          "output_type": "stream",
          "name": "stdout",
          "text": [
            "[3400]\ttrain's auc: 0.999948\tvalid's auc: 0.991228\n"
          ]
        },
        {
          "output_type": "stream",
          "name": "stdout",
          "text": [
            "Early stopping, best iteration is:\n[3317]\ttrain's auc: 0.999935\tvalid's auc: 0.991232\n"
          ]
        },
        {
          "output_type": "stream",
          "name": "stdout",
          "text": [
            "[2025-09-12 01:40:08] [LGB multi] seed=2025 fold=9 AUC: 0.991232 | best_iter=3317 | elapsed=268.2s\n"
          ]
        },
        {
          "output_type": "stream",
          "name": "stdout",
          "text": [
            "[2025-09-12 01:40:10] [LGB multi] seed=2025 OOF AUC: 0.991116 | total_elapsed=3014.1s\n"
          ]
        },
        {
          "output_type": "stream",
          "name": "stdout",
          "text": [
            "[2025-09-12 01:40:11] [LGB multi] Saved OOF/test preds for s2025\n"
          ]
        }
      ]
    },
    {
      "id": "995adc12-3000-4d7c-9e8e-b2c9e4798aa0",
      "cell_type": "code",
      "metadata": {},
      "source": [
        "# Archive additional submissions and blend metadata\n",
        "log('Creating additional submission variants and archiving blend metadata...')\n",
        "import json\n",
        "\n",
        "def rank_norm(x):\n",
        "    r = pd.Series(x).rank(method='average').values\n",
        "    return (r - 1) / (len(r) - 1)\n",
        "\n",
        "# Load OOF for recomputing weights/metrics\n",
        "gt = train[['id','target']].copy()\n",
        "oof_lgb_paths = [\n",
        "    ('oof_lgb_fast_s42.csv', 'oof_lgb_fast_s42'),\n",
        "    ('oof_lgb_fast_s1337.csv', 'oof_lgb_fast_s1337'),\n",
        "    ('oof_lgb_fast_s2025.csv', 'oof_lgb_fast_s2025'),\n",
        "]\n",
        "oof_list = []\n",
        "for p, col in oof_lgb_paths:\n",
        "    if os.path.exists(p):\n",
        "        df = pd.read_csv(p)\n",
        "        pred_col = col if col in df.columns else [c for c in df.columns if c != 'id'][0]\n",
        "        oof_list.append(df[['id', pred_col]].rename(columns={pred_col: os.path.splitext(os.path.basename(p))[0]}))\n",
        "\n",
        "if len(oof_list) == 0:\n",
        "    log('Missing LGB OOF files; cannot create variants.')\n",
        "else:\n",
        "    oof_merged = oof_list[0]\n",
        "    for df in oof_list[1:]:\n",
        "        oof_merged = oof_merged.merge(df, on='id', how='inner')\n",
        "    lgb_cols = [c for c in oof_merged.columns if c != 'id']\n",
        "    oof_merged['lgb_ens'] = oof_merged[lgb_cols].mean(axis=1).astype('float32')\n",
        "    oof = gt.merge(oof_merged[['id','lgb_ens']], on='id', how='left')\n",
        "    # XGB OOF\n",
        "    have_xgb = os.path.exists('oof_xgb_seed42.csv')\n",
        "    if have_xgb:\n",
        "        oof_xgb = pd.read_csv('oof_xgb_seed42.csv')\n",
        "        xcol = 'oof_xgb' if 'oof_xgb' in oof_xgb.columns else [c for c in oof_xgb.columns if c != 'id'][0]\n",
        "        oof = oof.merge(oof_xgb[['id', xcol]].rename(columns={xcol: 'xgb'}), on='id', how='left')\n",
        "    else:\n",
        "        oof['xgb'] = np.nan\n",
        "    # Rank cols\n",
        "    oof['lgb_r'] = rank_norm(oof['lgb_ens'])\n",
        "    if have_xgb:\n",
        "        oof['xgb_r'] = rank_norm(oof['xgb'])\n",
        "\n",
        "    # Grid search per guidance: [0.60..0.85] step 0.05 then refine \u00b10.04 step 0.02\n",
        "    best = {'auc': 0.0, 'mode': 'prob', 'w_lgb': 1.0}\n",
        "    if have_xgb:\n",
        "        coarse = np.arange(0.60, 0.85 + 1e-9, 0.05)\n",
        "        cand = set(np.clip(np.concatenate([coarse,\n",
        "                                           np.unique(np.round((coarse[:,None] + np.array([-0.04,-0.02,0.02,0.04]))\n",
        "                                                              .ravel(), 2))]), 0.0, 1.0))\n",
        "        weights = sorted(list(cand))\n",
        "    else:\n",
        "        weights = [1.0]\n",
        "    for w in weights:\n",
        "        if have_xgb:\n",
        "            prob = w * oof['lgb_ens'] + (1 - w) * oof['xgb']\n",
        "            rank = w * oof['lgb_r'] + (1 - w) * oof['xgb_r']\n",
        "        else:\n",
        "            prob = oof['lgb_ens']\n",
        "            rank = oof['lgb_r']\n",
        "        auc_p = roc_auc_score(oof['target'], prob)\n",
        "        if auc_p > best['auc']:\n",
        "            best.update({'auc': float(auc_p), 'mode': 'prob', 'w_lgb': float(w)})\n",
        "        auc_r = roc_auc_score(oof['target'], rank)\n",
        "        if auc_r > best['auc']:\n",
        "            best.update({'auc': float(auc_r), 'mode': 'rank', 'w_lgb': float(w)})\n",
        "\n",
        "    # Build test preds:\n",
        "    # LGB 3-seed average\n",
        "    pred_paths = [\n",
        "        ('pred_lgb_fast_s42.csv', 'prediction_lgb_fast_s42'),\n",
        "        ('pred_lgb_fast_s1337.csv', 'prediction_lgb_fast_s1337'),\n",
        "        ('pred_lgb_fast_s2025.csv', 'prediction_lgb_fast_s2025'),\n",
        "    ]\n",
        "    preds = []\n",
        "    for p, col in pred_paths:\n",
        "        if os.path.exists(p):\n",
        "            df = pd.read_csv(p)\n",
        "            pcol = col if col in df.columns else [c for c in df.columns if c != 'id'][0]\n",
        "            preds.append(df[['id', pcol]].rename(columns={pcol: os.path.splitext(os.path.basename(p))[0]}))\n",
        "    if len(preds) < 3:\n",
        "        log('Missing some LGB test predictions; skipping extra submissions.')\n",
        "    else:\n",
        "        pm = preds[0]\n",
        "        for df in preds[1:]:\n",
        "            pm = pm.merge(df, on='id', how='inner')\n",
        "        lgb_pred_cols = [c for c in pm.columns if c != 'id']\n",
        "        pm['lgb_ens'] = pm[lgb_pred_cols].mean(axis=1).astype('float32')\n",
        "\n",
        "        # Save pure 3-seed LGB average submission\n",
        "        ss = pd.read_csv('sample_submission.csv')[['id']].merge(pm[['id','lgb_ens']], on='id', how='left')\n",
        "        ss = ss.rename(columns={'lgb_ens': 'target'})\n",
        "        ss.to_csv('submission_lgb3.csv', index=False)\n",
        "        log('Saved submission_lgb3.csv (pure LGB 3-seed average).')\n",
        "\n",
        "        # Fixed rank blend 0.72/0.28 with XGB\n",
        "        if have_xgb and os.path.exists('pred_xgb_seed42.csv'):\n",
        "            pred_xgb = pd.read_csv('pred_xgb_seed42.csv')\n",
        "            xcol = 'prediction_xgb' if 'prediction_xgb' in pred_xgb.columns else [c for c in pred_xgb.columns if c != 'id'][0]\n",
        "            sub_fx = pd.read_csv('sample_submission.csv')[['id']].merge(pm[['id','lgb_ens']], on='id', how='left')\n",
        "            sub_fx = sub_fx.merge(pred_xgb[['id', xcol]].rename(columns={xcol: 'xgb'}), on='id', how='left')\n",
        "            rl = pd.Series(sub_fx['lgb_ens']).rank(method='average').values\n",
        "            rx = pd.Series(sub_fx['xgb']).rank(method='average').values\n",
        "            rl = (rl - 1) / (len(rl) - 1); rx = (rx - 1) / (len(rx) - 1)\n",
        "            sub_fx['target'] = (0.72 * rl + 0.28 * rx).astype('float32')\n",
        "            sub_fx[['id','target']].to_csv('submission_rank_072_028.csv', index=False)\n",
        "            log('Saved submission_rank_072_028.csv (fixed rank 0.72/0.28).')\n",
        "        else:\n",
        "            log('XGB preds missing; skipped fixed rank 0.72/0.28 file.')\n",
        "\n",
        "        # Archive current best submission.csv as submission_best.csv if present\n",
        "        if os.path.exists('submission.csv'):\n",
        "            sub_best = pd.read_csv('submission.csv')\n",
        "            sub_best.to_csv('submission_best.csv', index=False)\n",
        "            log('Archived current submission.csv as submission_best.csv')\n",
        "\n",
        "    # Save blend metadata\n",
        "    meta = {\n",
        "        'best_oof_auc': best['auc'],\n",
        "        'best_mode': best['mode'],\n",
        "        'best_w_lgb': best['w_lgb'],\n",
        "        'notes': 'Weights searched on OOF with LGB 3-seed ensemble vs XGB; additional variants saved.'\n",
        "    }\n",
        "    with open('blend_meta.json', 'w') as f:\n",
        "        json.dump(meta, f, indent=2)\n",
        "    log(f\"Saved blend_meta.json: {meta}\")"
      ],
      "execution_count": 17,
      "outputs": [
        {
          "output_type": "stream",
          "name": "stdout",
          "text": [
            "[2025-09-12 01:41:58] Creating additional submission variants and archiving blend metadata...\n"
          ]
        },
        {
          "output_type": "stream",
          "name": "stdout",
          "text": [
            "[2025-09-12 01:42:16] Saved submission_lgb3.csv (pure LGB 3-seed average).\n"
          ]
        },
        {
          "output_type": "stream",
          "name": "stdout",
          "text": [
            "[2025-09-12 01:42:16] Saved submission_rank_072_028.csv (fixed rank 0.72/0.28).\n"
          ]
        },
        {
          "output_type": "stream",
          "name": "stdout",
          "text": [
            "[2025-09-12 01:42:16] Archived current submission.csv as submission_best.csv\n"
          ]
        },
        {
          "output_type": "stream",
          "name": "stdout",
          "text": [
            "[2025-09-12 01:42:16] Saved blend_meta.json: {'best_oof_auc': 0.991134746878686, 'best_mode': 'prob', 'best_w_lgb': 0.89, 'notes': 'Weights searched on OOF with LGB 3-seed ensemble vs XGB; additional variants saved.'}\n"
          ]
        }
      ]
    },
    {
      "id": "86318092-489b-41e6-8858-21aa1a50e2cb",
      "cell_type": "code",
      "metadata": {},
      "source": [
        "# Strictly rebuild current blended submission to ensure format compliance\n",
        "log('Strictly rebuilding submission.csv from current blended predictions...')\n",
        "assert os.path.exists('submission.csv'), 'submission.csv not found to rebuild'\n",
        "ss = pd.read_csv('sample_submission.csv')[['id']]\n",
        "sub_cur = pd.read_csv('submission.csv')\n",
        "# Detect prediction column\n",
        "pred_col = None\n",
        "if list(sub_cur.columns) == ['id', 'target']:\n",
        "    pred_col = 'target'\n",
        "else:\n",
        "    # find non-id column\n",
        "    other = [c for c in sub_cur.columns if c != 'id']\n",
        "    pred_col = other[0] if other else None\n",
        "assert pred_col is not None, 'No prediction column found in submission.csv'\n",
        "# Merge to enforce ID order and exact length\n",
        "rebuilt = ss.merge(sub_cur[['id', pred_col]].rename(columns={pred_col: 'target'}), on='id', how='left')\n",
        "missing = int(rebuilt['target'].isna().sum())\n",
        "if missing > 0:\n",
        "    raise ValueError(f'Missing predictions for {missing} test rows after strict rebuild')\n",
        "# Enforce numeric type and [0,1] bounds\n",
        "rebuilt['target'] = pd.to_numeric(rebuilt['target'], errors='coerce')\n",
        "if rebuilt['target'].isna().any():\n",
        "    raise ValueError('NaNs present after numeric coercion in target')\n",
        "rebuilt['target'] = rebuilt['target'].astype('float64').clip(0.0, 1.0)\n",
        "rebuilt = rebuilt[['id', 'target']]\n",
        "rebuilt.to_csv('submission.csv', index=False)\n",
        "log('submission.csv strictly rebuilt and saved (float64, clipped [0,1], aligned to sample_submission).')"
      ],
      "execution_count": 19,
      "outputs": [
        {
          "output_type": "stream",
          "name": "stdout",
          "text": [
            "[2025-09-12 01:43:11] Strictly rebuilding submission.csv from current blended predictions...\n"
          ]
        },
        {
          "output_type": "stream",
          "name": "stdout",
          "text": [
            "[2025-09-12 01:43:11] submission.csv strictly rebuilt and saved (float64, clipped [0,1], aligned to sample_submission).\n"
          ]
        }
      ]
    },
    {
      "id": "6d0680f3-444f-40c2-b02e-a39d170f62e3",
      "cell_type": "code",
      "metadata": {},
      "source": [
        "# Pivot pipeline: f_27 identity map and compact numeric-only features (no f_27-derived) for unseen subset\n",
        "log('Pivot: building f_27 identity map for seen rows and compact numeric-only features for unseen model...')\n",
        "t0 = time.time()\n",
        "\n",
        "# 1) f_27 -> target map from train; identify seen/unseen in test\n",
        "assert 'f_27' in train.columns and 'target' in train.columns, 'Missing f_27 or target in train'\n",
        "f27_target_map = train.groupby('f_27')['target'].first().to_dict()\n",
        "test_seen_mask = test['f_27'].isin(f27_target_map)\n",
        "n_seen = int(test_seen_mask.sum())\n",
        "n_unseen = int((~test_seen_mask).sum())\n",
        "log(f'Test seen f_27 rows: {n_seen} | unseen: {n_unseen}')\n",
        "preds_seen = test.loc[test_seen_mask, 'f_27'].map(f27_target_map).astype('float32')\n",
        "\n",
        "# 2) Define compact numeric-only feature set\n",
        "base_num_cols = [c for c in train.columns if c.startswith('f_') and c != 'f_27' and (str(train[c].dtype).startswith('float') or str(train[c].dtype).startswith('int'))]\n",
        "# Keep only original numeric features f_00..f_26 (not any previously engineered columns)\n",
        "base_num_cols = [c for c in base_num_cols if len(c) == 4 and c[2:].isdigit()]\n",
        "base_num_cols = sorted(base_num_cols)\n",
        "log(f'Base numeric cols count: {len(base_num_cols)}')\n",
        "\n",
        "# Build compact extra features: sorted row stats, equality count over selected numerics, parity bits\n",
        "sel_eq_cols = [c for c in ['f_00','f_01','f_02','f_03','f_05','f_06','f_10','f_12','f_20','f_21','f_22','f_26'] if c in base_num_cols]\n",
        "parity_cols = [c for c in ['f_00','f_02','f_10','f_20','f_21','f_26'] if c in base_num_cols]\n",
        "\n",
        "def build_compact_block(df):\n",
        "    vals = df[base_num_cols].astype('float32').values\n",
        "    srt = np.sort(vals, axis=1)\n",
        "    out = pd.DataFrame(index=df.index)\n",
        "    out['comp_sorted_0'] = srt[:, 0].astype('float32')\n",
        "    out['comp_sorted_1'] = srt[:, 1].astype('float32')\n",
        "    out['comp_sorted_-1'] = srt[:, -1].astype('float32')\n",
        "    out['comp_sorted_range'] = (srt[:, -1] - srt[:, 0]).astype('float32')\n",
        "    # equality count over selected numerics\n",
        "    if len(sel_eq_cols) >= 2:\n",
        "        M = df[sel_eq_cols].astype('float32').values\n",
        "        from itertools import combinations\n",
        "        cnt = np.zeros(len(df), dtype=np.int16)\n",
        "        for i, j in combinations(range(M.shape[1]), 2):\n",
        "            cnt += (np.abs(M[:, i] - M[:, j]) < 1e-6)\n",
        "        out['comp_num_equal_pairs'] = cnt\n",
        "    else:\n",
        "        out['comp_num_equal_pairs'] = 0\n",
        "    # parity bits\n",
        "    for c in parity_cols:\n",
        "        out[f'comp_{c}_parity'] = (df[c].astype('int64') & 1).astype('int8')\n",
        "    return out\n",
        "\n",
        "comp_train = build_compact_block(train)\n",
        "comp_test = build_compact_block(test)\n",
        "\n",
        "# Track compact feature names explicitly\n",
        "compact_feature_cols = list(comp_train.columns)\n",
        "log(f'Compact feature count: {len(compact_feature_cols)}')\n",
        "\n",
        "# 3) Persist helper artifacts in memory (globals) and basic masks for later cells\n",
        "test_unseen_mask = ~test_seen_mask\n",
        "test_unseen_f27 = set(test.loc[test_unseen_mask, 'f_27'].unique())\n",
        "train_mask_unseen_vocab = train['f_27'].isin(test_unseen_f27).values  # for OOF weighting on unseen-like rows\n",
        "log(f'Train rows in unseen test vocab: {int(train_mask_unseen_vocab.sum())} / {len(train)}')\n",
        "\n",
        "# 4) Sanity: no NaNs, and ensure we do not include any f_27-derived feature\n",
        "assert all(['f_27' not in c for c in compact_feature_cols]), 'Compact features contaminated with f_27-derived cols'\n",
        "nan_tr = int(comp_train.isna().sum().sum()); nan_te = int(comp_test.isna().sum().sum())\n",
        "assert nan_tr == 0 and nan_te == 0, f'NaNs in compact features: train {nan_tr}, test {nan_te}'\n",
        "\n",
        "log(f'Pivot prep done in {time.time()-t0:.1f}s. Ready to train unseen-subset models.')"
      ],
      "execution_count": 21,
      "outputs": [
        {
          "output_type": "stream",
          "name": "stdout",
          "text": [
            "[2025-09-12 01:47:08] Pivot: building f_27 identity map for seen rows and compact numeric-only features for unseen model...\n"
          ]
        },
        {
          "output_type": "stream",
          "name": "stdout",
          "text": [
            "[2025-09-12 01:47:10] Test seen f_27 rows: 28435 | unseen: 71565\n"
          ]
        },
        {
          "output_type": "stream",
          "name": "stdout",
          "text": [
            "[2025-09-12 01:47:10] Base numeric cols count: 30\n"
          ]
        },
        {
          "output_type": "stream",
          "name": "stdout",
          "text": [
            "[2025-09-12 01:47:11] Compact feature count: 11\n"
          ]
        },
        {
          "output_type": "stream",
          "name": "stdout",
          "text": [
            "[2025-09-12 01:47:11] Train rows in unseen test vocab: 0 / 800000\n"
          ]
        },
        {
          "output_type": "stream",
          "name": "stdout",
          "text": [
            "[2025-09-12 01:47:11] Pivot prep done in 3.3s. Ready to train unseen-subset models.\n"
          ]
        }
      ]
    },
    {
      "id": "9e471ec0-4994-41a5-afd3-dfab35a2a200",
      "cell_type": "code",
      "metadata": {},
      "source": [
        "# Train compact-feature LightGBM models (5 seeds) for unseen subset\n",
        "log('Training compact-feature LightGBM models for unseen subset...')\n",
        "import lightgbm as lgb\n",
        "\n",
        "assert 'comp_sorted_0' in comp_train.columns, 'Compact features not built; run pivot prep cell first.'\n",
        "Xc = comp_train[compact_feature_cols].copy()\n",
        "yc = train['target'].values\n",
        "Xc_test = comp_test[compact_feature_cols].copy()\n",
        "\n",
        "# Reuse locked folds\n",
        "folds_df = pd.read_csv('folds_10fold_seed42.csv')\n",
        "folds_arr = folds_df['fold'].values\n",
        "n_splits = len(np.unique(folds_arr))\n",
        "\n",
        "def train_lgb_compact(seed=42, ff=0.75, bf=0.75, tag='c42'):\n",
        "    params = {\n",
        "        'objective': 'binary',\n",
        "        'metric': 'auc',\n",
        "        'boosting_type': 'gbdt',\n",
        "        'learning_rate': 0.045,\n",
        "        'num_leaves': 160,\n",
        "        'max_depth': -1,\n",
        "        'min_data_in_leaf': 240,\n",
        "        'feature_fraction': ff,\n",
        "        'bagging_fraction': bf,\n",
        "        'bagging_freq': 1,\n",
        "        'lambda_l1': 0.0,\n",
        "        'lambda_l2': 4.0,\n",
        "        'max_bin': 127,\n",
        "        'verbose': -1,\n",
        "        'n_jobs': -1,\n",
        "        'seed': seed,\n",
        "        'feature_fraction_seed': seed,\n",
        "        'bagging_seed': seed,\n",
        "        'data_random_seed': seed\n",
        "    }\n",
        "    oof = np.zeros(len(Xc), dtype='float32')\n",
        "    ptest = np.zeros(len(Xc_test), dtype='float32')\n",
        "    t0 = time.time()\n",
        "    for fold in range(n_splits):\n",
        "        trn_idx = np.where(folds_arr != fold)[0]\n",
        "        val_idx = np.where(folds_arr == fold)[0]\n",
        "        log(f'[LGB compact] seed={seed} ff={ff} bf={bf} | Fold {fold+1}/{n_splits} | trn={len(trn_idx)} val={len(val_idx)}')\n",
        "        dtr = lgb.Dataset(Xc.iloc[trn_idx], label=yc[trn_idx])\n",
        "        dvl = lgb.Dataset(Xc.iloc[val_idx], label=yc[val_idx])\n",
        "        model = lgb.train(\n",
        "            params,\n",
        "            dtr,\n",
        "            num_boost_round=4000,\n",
        "            valid_sets=[dtr, dvl],\n",
        "            valid_names=['train','valid'],\n",
        "            callbacks=[lgb.early_stopping(120), lgb.log_evaluation(200)]\n",
        "        )\n",
        "        oof[val_idx] = model.predict(Xc.iloc[val_idx], num_iteration=model.best_iteration)\n",
        "        auc = roc_auc_score(yc[val_idx], oof[val_idx])\n",
        "        log(f'[LGB compact] seed={seed} fold={fold} AUC: {auc:.6f} | best_iter={model.best_iteration}')\n",
        "        ptest += model.predict(Xc_test, num_iteration=model.best_iteration) / n_splits\n",
        "        del dtr, dvl, model; gc.collect()\n",
        "    cv_auc = roc_auc_score(yc, oof);\n",
        "    log(f'[LGB compact] seed={seed} OOF AUC: {cv_auc:.6f} | elapsed={time.time()-t0:.1f}s')\n",
        "    pd.DataFrame({'id': train['id'], f'oof_lgb_comp_{tag}': oof}).to_csv(f'oof_lgb_comp_{tag}.csv', index=False)\n",
        "    pd.DataFrame({'id': test['id'], f'prediction_lgb_comp_{tag}': ptest}).to_csv(f'pred_lgb_comp_{tag}.csv', index=False)\n",
        "    log(f'[LGB compact] Saved OOF/test preds for {tag}')\n",
        "\n",
        "# Run 5 seeds sequentially\n",
        "seed_cfgs = [\n",
        "    (42, 0.75, 0.75, 'c42'),\n",
        "    (1337, 0.72, 0.72, 'c1337'),\n",
        "    (2025, 0.78, 0.78, 'c2025'),\n",
        "    (101, 0.70, 0.80, 'c101'),\n",
        "    (999, 0.80, 0.70, 'c999'),\n",
        "]\n",
        "for s, ff, bf, tag in seed_cfgs:\n",
        "    train_lgb_compact(s, ff, bf, tag)\n",
        "log('All compact LGB seeds finished.')"
      ],
      "execution_count": 22,
      "outputs": [
        {
          "output_type": "stream",
          "name": "stdout",
          "text": [
            "[2025-09-12 01:48:00] Training compact-feature LightGBM models for unseen subset...\n"
          ]
        },
        {
          "output_type": "stream",
          "name": "stdout",
          "text": [
            "[2025-09-12 01:48:00] [LGB compact] seed=42 ff=0.75 bf=0.75 | Fold 1/10 | trn=720000 val=80000\n"
          ]
        },
        {
          "output_type": "stream",
          "name": "stdout",
          "text": [
            "Training until validation scores don't improve for 120 rounds\n"
          ]
        },
        {
          "output_type": "stream",
          "name": "stdout",
          "text": [
            "[200]\ttrain's auc: 0.609486\tvalid's auc: 0.577636\n"
          ]
        },
        {
          "output_type": "stream",
          "name": "stdout",
          "text": [
            "Early stopping, best iteration is:\n[131]\ttrain's auc: 0.601722\tvalid's auc: 0.578104\n[2025-09-12 01:48:13] [LGB compact] seed=42 fold=0 AUC: 0.578104 | best_iter=131\n"
          ]
        },
        {
          "output_type": "stream",
          "name": "stdout",
          "text": [
            "[2025-09-12 01:48:13] [LGB compact] seed=42 ff=0.75 bf=0.75 | Fold 2/10 | trn=720000 val=80000\n"
          ]
        },
        {
          "output_type": "stream",
          "name": "stdout",
          "text": [
            "Training until validation scores don't improve for 120 rounds\n"
          ]
        },
        {
          "output_type": "stream",
          "name": "stdout",
          "text": [
            "Early stopping, best iteration is:\n[79]\ttrain's auc: 0.595171\tvalid's auc: 0.580088\n[2025-09-12 01:48:24] [LGB compact] seed=42 fold=1 AUC: 0.580088 | best_iter=79\n"
          ]
        },
        {
          "output_type": "stream",
          "name": "stdout",
          "text": [
            "[2025-09-12 01:48:24] [LGB compact] seed=42 ff=0.75 bf=0.75 | Fold 3/10 | trn=720000 val=80000\n"
          ]
        },
        {
          "output_type": "stream",
          "name": "stdout",
          "text": [
            "Training until validation scores don't improve for 120 rounds\n"
          ]
        },
        {
          "output_type": "stream",
          "name": "stdout",
          "text": [
            "[200]\ttrain's auc: 0.609564\tvalid's auc: 0.581314\n"
          ]
        },
        {
          "output_type": "stream",
          "name": "stdout",
          "text": [
            "Early stopping, best iteration is:\n[99]\ttrain's auc: 0.598061\tvalid's auc: 0.582287\n[2025-09-12 01:48:36] [LGB compact] seed=42 fold=2 AUC: 0.582287 | best_iter=99\n"
          ]
        },
        {
          "output_type": "stream",
          "name": "stdout",
          "text": [
            "[2025-09-12 01:48:36] [LGB compact] seed=42 ff=0.75 bf=0.75 | Fold 4/10 | trn=720000 val=80000\n"
          ]
        },
        {
          "output_type": "stream",
          "name": "stdout",
          "text": [
            "Training until validation scores don't improve for 120 rounds\n"
          ]
        },
        {
          "output_type": "stream",
          "name": "stdout",
          "text": [
            "[200]\ttrain's auc: 0.609251\tvalid's auc: 0.581727\n"
          ]
        },
        {
          "output_type": "stream",
          "name": "stdout",
          "text": [
            "Early stopping, best iteration is:\n[173]\ttrain's auc: 0.606583\tvalid's auc: 0.582113\n[2025-09-12 01:48:52] [LGB compact] seed=42 fold=3 AUC: 0.582113 | best_iter=173\n"
          ]
        },
        {
          "output_type": "stream",
          "name": "stdout",
          "text": [
            "[2025-09-12 01:48:52] [LGB compact] seed=42 ff=0.75 bf=0.75 | Fold 5/10 | trn=720000 val=80000\n"
          ]
        },
        {
          "output_type": "stream",
          "name": "stdout",
          "text": [
            "Training until validation scores don't improve for 120 rounds\n"
          ]
        },
        {
          "output_type": "stream",
          "name": "stdout",
          "text": [
            "[200]\ttrain's auc: 0.609298\tvalid's auc: 0.579087\n"
          ]
        },
        {
          "output_type": "stream",
          "name": "stdout",
          "text": [
            "Early stopping, best iteration is:\n[186]\ttrain's auc: 0.607921\tvalid's auc: 0.579287\n[2025-09-12 01:49:08] [LGB compact] seed=42 fold=4 AUC: 0.579287 | best_iter=186\n"
          ]
        },
        {
          "output_type": "stream",
          "name": "stdout",
          "text": [
            "[2025-09-12 01:49:08] [LGB compact] seed=42 ff=0.75 bf=0.75 | Fold 6/10 | trn=720000 val=80000\n"
          ]
        },
        {
          "output_type": "stream",
          "name": "stdout",
          "text": [
            "Training until validation scores don't improve for 120 rounds\n"
          ]
        },
        {
          "output_type": "stream",
          "name": "stdout",
          "text": [
            "[200]\ttrain's auc: 0.60948\tvalid's auc: 0.580912\n"
          ]
        },
        {
          "output_type": "stream",
          "name": "stdout",
          "text": [
            "Early stopping, best iteration is:\n[102]\ttrain's auc: 0.598032\tvalid's auc: 0.581854\n[2025-09-12 01:49:20] [LGB compact] seed=42 fold=5 AUC: 0.581854 | best_iter=102\n"
          ]
        },
        {
          "output_type": "stream",
          "name": "stdout",
          "text": [
            "[2025-09-12 01:49:20] [LGB compact] seed=42 ff=0.75 bf=0.75 | Fold 7/10 | trn=720000 val=80000\n"
          ]
        },
        {
          "output_type": "stream",
          "name": "stdout",
          "text": [
            "Training until validation scores don't improve for 120 rounds\n"
          ]
        },
        {
          "output_type": "stream",
          "name": "stdout",
          "text": [
            "[200]\ttrain's auc: 0.609217\tvalid's auc: 0.580377\n"
          ]
        },
        {
          "output_type": "stream",
          "name": "stdout",
          "text": [
            "Early stopping, best iteration is:\n[109]\ttrain's auc: 0.598965\tvalid's auc: 0.580787\n[2025-09-12 01:49:32] [LGB compact] seed=42 fold=6 AUC: 0.580787 | best_iter=109\n"
          ]
        },
        {
          "output_type": "stream",
          "name": "stdout",
          "text": [
            "[2025-09-12 01:49:33] [LGB compact] seed=42 ff=0.75 bf=0.75 | Fold 8/10 | trn=720000 val=80000\n"
          ]
        },
        {
          "output_type": "stream",
          "name": "stdout",
          "text": [
            "Training until validation scores don't improve for 120 rounds\n"
          ]
        },
        {
          "output_type": "stream",
          "name": "stdout",
          "text": [
            "[200]\ttrain's auc: 0.609442\tvalid's auc: 0.579774\n"
          ]
        },
        {
          "output_type": "stream",
          "name": "stdout",
          "text": [
            "Early stopping, best iteration is:\n[110]\ttrain's auc: 0.599325\tvalid's auc: 0.580325\n[2025-09-12 01:49:45] [LGB compact] seed=42 fold=7 AUC: 0.580325 | best_iter=110\n"
          ]
        },
        {
          "output_type": "stream",
          "name": "stdout",
          "text": [
            "[2025-09-12 01:49:45] [LGB compact] seed=42 ff=0.75 bf=0.75 | Fold 9/10 | trn=720000 val=80000\n"
          ]
        },
        {
          "output_type": "stream",
          "name": "stdout",
          "text": [
            "Training until validation scores don't improve for 120 rounds\n"
          ]
        },
        {
          "output_type": "stream",
          "name": "stdout",
          "text": [
            "[200]\ttrain's auc: 0.60956\tvalid's auc: 0.578827\n"
          ]
        },
        {
          "output_type": "stream",
          "name": "stdout",
          "text": [
            "Early stopping, best iteration is:\n[129]\ttrain's auc: 0.601731\tvalid's auc: 0.579521\n[2025-09-12 01:49:58] [LGB compact] seed=42 fold=8 AUC: 0.579521 | best_iter=129\n"
          ]
        },
        {
          "output_type": "stream",
          "name": "stdout",
          "text": [
            "[2025-09-12 01:49:58] [LGB compact] seed=42 ff=0.75 bf=0.75 | Fold 10/10 | trn=720000 val=80000\n"
          ]
        },
        {
          "output_type": "stream",
          "name": "stdout",
          "text": [
            "Training until validation scores don't improve for 120 rounds\n"
          ]
        },
        {
          "output_type": "stream",
          "name": "stdout",
          "text": [
            "[200]\ttrain's auc: 0.609141\tvalid's auc: 0.578915\n"
          ]
        },
        {
          "output_type": "stream",
          "name": "stdout",
          "text": [
            "Early stopping, best iteration is:\n[108]\ttrain's auc: 0.599177\tvalid's auc: 0.579307\n[2025-09-12 01:50:11] [LGB compact] seed=42 fold=9 AUC: 0.579307 | best_iter=108\n"
          ]
        },
        {
          "output_type": "stream",
          "name": "stdout",
          "text": [
            "[2025-09-12 01:50:11] [LGB compact] seed=42 OOF AUC: 0.580331 | elapsed=131.3s\n"
          ]
        },
        {
          "output_type": "stream",
          "name": "stdout",
          "text": [
            "[2025-09-12 01:50:12] [LGB compact] Saved OOF/test preds for c42\n"
          ]
        },
        {
          "output_type": "stream",
          "name": "stdout",
          "text": [
            "[2025-09-12 01:50:12] [LGB compact] seed=1337 ff=0.72 bf=0.72 | Fold 1/10 | trn=720000 val=80000\n"
          ]
        },
        {
          "output_type": "stream",
          "name": "stdout",
          "text": [
            "Training until validation scores don't improve for 120 rounds\n"
          ]
        },
        {
          "output_type": "stream",
          "name": "stdout",
          "text": [
            "[200]\ttrain's auc: 0.609531\tvalid's auc: 0.577488\n"
          ]
        },
        {
          "output_type": "stream",
          "name": "stdout",
          "text": [
            "Early stopping, best iteration is:\n[108]\ttrain's auc: 0.599024\tvalid's auc: 0.577968\n[2025-09-12 01:50:24] [LGB compact] seed=1337 fold=0 AUC: 0.577968 | best_iter=108\n"
          ]
        },
        {
          "output_type": "stream",
          "name": "stdout",
          "text": [
            "[2025-09-12 01:50:25] [LGB compact] seed=1337 ff=0.72 bf=0.72 | Fold 2/10 | trn=720000 val=80000\n"
          ]
        },
        {
          "output_type": "stream",
          "name": "stdout",
          "text": [
            "Training until validation scores don't improve for 120 rounds\n"
          ]
        },
        {
          "output_type": "stream",
          "name": "stdout",
          "text": [
            "Early stopping, best iteration is:\n[48]\ttrain's auc: 0.590484\tvalid's auc: 0.579822\n[2025-09-12 01:50:34] [LGB compact] seed=1337 fold=1 AUC: 0.579822 | best_iter=48\n"
          ]
        },
        {
          "output_type": "stream",
          "name": "stdout",
          "text": [
            "[2025-09-12 01:50:34] [LGB compact] seed=1337 ff=0.72 bf=0.72 | Fold 3/10 | trn=720000 val=80000\n"
          ]
        },
        {
          "output_type": "stream",
          "name": "stdout",
          "text": [
            "Training until validation scores don't improve for 120 rounds\n"
          ]
        },
        {
          "output_type": "stream",
          "name": "stdout",
          "text": [
            "Early stopping, best iteration is:\n[57]\ttrain's auc: 0.591646\tvalid's auc: 0.581417\n[2025-09-12 01:50:43] [LGB compact] seed=1337 fold=2 AUC: 0.581417 | best_iter=57\n"
          ]
        },
        {
          "output_type": "stream",
          "name": "stdout",
          "text": [
            "[2025-09-12 01:50:43] [LGB compact] seed=1337 ff=0.72 bf=0.72 | Fold 4/10 | trn=720000 val=80000\n"
          ]
        },
        {
          "output_type": "stream",
          "name": "stdout",
          "text": [
            "Training until validation scores don't improve for 120 rounds\n"
          ]
        },
        {
          "output_type": "stream",
          "name": "stdout",
          "text": [
            "[200]\ttrain's auc: 0.609093\tvalid's auc: 0.581667\n"
          ]
        },
        {
          "output_type": "stream",
          "name": "stdout",
          "text": [
            "Early stopping, best iteration is:\n[115]\ttrain's auc: 0.599812\tvalid's auc: 0.582333\n[2025-09-12 01:50:57] [LGB compact] seed=1337 fold=3 AUC: 0.582333 | best_iter=115\n"
          ]
        },
        {
          "output_type": "stream",
          "name": "stdout",
          "text": [
            "[2025-09-12 01:50:57] [LGB compact] seed=1337 ff=0.72 bf=0.72 | Fold 5/10 | trn=720000 val=80000\n"
          ]
        },
        {
          "output_type": "stream",
          "name": "stdout",
          "text": [
            "Training until validation scores don't improve for 120 rounds\n"
          ]
        },
        {
          "output_type": "stream",
          "name": "stdout",
          "text": [
            "[200]\ttrain's auc: 0.609495\tvalid's auc: 0.578302\n"
          ]
        },
        {
          "output_type": "stream",
          "name": "stdout",
          "text": [
            "Early stopping, best iteration is:\n[123]\ttrain's auc: 0.600822\tvalid's auc: 0.579041\n[2025-09-12 01:51:10] [LGB compact] seed=1337 fold=4 AUC: 0.579041 | best_iter=123\n"
          ]
        },
        {
          "output_type": "stream",
          "name": "stdout",
          "text": [
            "[2025-09-12 01:51:10] [LGB compact] seed=1337 ff=0.72 bf=0.72 | Fold 6/10 | trn=720000 val=80000\n"
          ]
        },
        {
          "output_type": "stream",
          "name": "stdout",
          "text": [
            "Training until validation scores don't improve for 120 rounds\n"
          ]
        },
        {
          "output_type": "stream",
          "name": "stdout",
          "text": [
            "[200]\ttrain's auc: 0.60951\tvalid's auc: 0.580565\n"
          ]
        },
        {
          "output_type": "stream",
          "name": "stdout",
          "text": [
            "Early stopping, best iteration is:\n[108]\ttrain's auc: 0.598829\tvalid's auc: 0.581532\n[2025-09-12 01:51:22] [LGB compact] seed=1337 fold=5 AUC: 0.581532 | best_iter=108\n"
          ]
        },
        {
          "output_type": "stream",
          "name": "stdout",
          "text": [
            "[2025-09-12 01:51:22] [LGB compact] seed=1337 ff=0.72 bf=0.72 | Fold 7/10 | trn=720000 val=80000\n"
          ]
        },
        {
          "output_type": "stream",
          "name": "stdout",
          "text": [
            "Training until validation scores don't improve for 120 rounds\n"
          ]
        },
        {
          "output_type": "stream",
          "name": "stdout",
          "text": [
            "[200]\ttrain's auc: 0.609035\tvalid's auc: 0.580065\n"
          ]
        },
        {
          "output_type": "stream",
          "name": "stdout",
          "text": [
            "Early stopping, best iteration is:\n[97]\ttrain's auc: 0.597228\tvalid's auc: 0.580405\n[2025-09-12 01:51:34] [LGB compact] seed=1337 fold=6 AUC: 0.580405 | best_iter=97\n"
          ]
        },
        {
          "output_type": "stream",
          "name": "stdout",
          "text": [
            "[2025-09-12 01:51:34] [LGB compact] seed=1337 ff=0.72 bf=0.72 | Fold 8/10 | trn=720000 val=80000\n"
          ]
        },
        {
          "output_type": "stream",
          "name": "stdout",
          "text": [
            "Training until validation scores don't improve for 120 rounds\n"
          ]
        },
        {
          "output_type": "stream",
          "name": "stdout",
          "text": [
            "[200]\ttrain's auc: 0.609611\tvalid's auc: 0.579206\n"
          ]
        },
        {
          "output_type": "stream",
          "name": "stdout",
          "text": [
            "Early stopping, best iteration is:\n[98]\ttrain's auc: 0.597499\tvalid's auc: 0.579673\n[2025-09-12 01:51:46] [LGB compact] seed=1337 fold=7 AUC: 0.579673 | best_iter=98\n"
          ]
        },
        {
          "output_type": "stream",
          "name": "stdout",
          "text": [
            "[2025-09-12 01:51:46] [LGB compact] seed=1337 ff=0.72 bf=0.72 | Fold 9/10 | trn=720000 val=80000\n"
          ]
        },
        {
          "output_type": "stream",
          "name": "stdout",
          "text": [
            "Training until validation scores don't improve for 120 rounds\n"
          ]
        },
        {
          "output_type": "stream",
          "name": "stdout",
          "text": [
            "[200]\ttrain's auc: 0.609457\tvalid's auc: 0.57924\n"
          ]
        },
        {
          "output_type": "stream",
          "name": "stdout",
          "text": [
            "Early stopping, best iteration is:\n[99]\ttrain's auc: 0.597688\tvalid's auc: 0.579549\n[2025-09-12 01:51:58] [LGB compact] seed=1337 fold=8 AUC: 0.579549 | best_iter=99\n"
          ]
        },
        {
          "output_type": "stream",
          "name": "stdout",
          "text": [
            "[2025-09-12 01:51:58] [LGB compact] seed=1337 ff=0.72 bf=0.72 | Fold 10/10 | trn=720000 val=80000\n"
          ]
        },
        {
          "output_type": "stream",
          "name": "stdout",
          "text": [
            "Training until validation scores don't improve for 120 rounds\n"
          ]
        },
        {
          "output_type": "stream",
          "name": "stdout",
          "text": [
            "[200]\ttrain's auc: 0.609188\tvalid's auc: 0.579591\n"
          ]
        },
        {
          "output_type": "stream",
          "name": "stdout",
          "text": [
            "Early stopping, best iteration is:\n[179]\ttrain's auc: 0.606919\tvalid's auc: 0.579758\n[2025-09-12 01:52:14] [LGB compact] seed=1337 fold=9 AUC: 0.579758 | best_iter=179\n"
          ]
        },
        {
          "output_type": "stream",
          "name": "stdout",
          "text": [
            "[2025-09-12 01:52:15] [LGB compact] seed=1337 OOF AUC: 0.580040 | elapsed=122.6s\n"
          ]
        },
        {
          "output_type": "stream",
          "name": "stdout",
          "text": [
            "[2025-09-12 01:52:16] [LGB compact] Saved OOF/test preds for c1337\n"
          ]
        },
        {
          "output_type": "stream",
          "name": "stdout",
          "text": [
            "[2025-09-12 01:52:16] [LGB compact] seed=2025 ff=0.78 bf=0.78 | Fold 1/10 | trn=720000 val=80000\n"
          ]
        },
        {
          "output_type": "stream",
          "name": "stdout",
          "text": [
            "Training until validation scores don't improve for 120 rounds\n"
          ]
        },
        {
          "output_type": "stream",
          "name": "stdout",
          "text": [
            "[200]\ttrain's auc: 0.61044\tvalid's auc: 0.577239\n"
          ]
        },
        {
          "output_type": "stream",
          "name": "stdout",
          "text": [
            "Early stopping, best iteration is:\n[137]\ttrain's auc: 0.603156\tvalid's auc: 0.577941\n[2025-09-12 01:52:30] [LGB compact] seed=2025 fold=0 AUC: 0.577941 | best_iter=137\n"
          ]
        },
        {
          "output_type": "stream",
          "name": "stdout",
          "text": [
            "[2025-09-12 01:52:30] [LGB compact] seed=2025 ff=0.78 bf=0.78 | Fold 2/10 | trn=720000 val=80000\n"
          ]
        },
        {
          "output_type": "stream",
          "name": "stdout",
          "text": [
            "Training until validation scores don't improve for 120 rounds\n"
          ]
        },
        {
          "output_type": "stream",
          "name": "stdout",
          "text": [
            "[200]\ttrain's auc: 0.610443\tvalid's auc: 0.579654\n"
          ]
        },
        {
          "output_type": "stream",
          "name": "stdout",
          "text": [
            "Early stopping, best iteration is:\n[93]\ttrain's auc: 0.597599\tvalid's auc: 0.580516\n[2025-09-12 01:52:41] [LGB compact] seed=2025 fold=1 AUC: 0.580516 | best_iter=93\n"
          ]
        },
        {
          "output_type": "stream",
          "name": "stdout",
          "text": [
            "[2025-09-12 01:52:41] [LGB compact] seed=2025 ff=0.78 bf=0.78 | Fold 3/10 | trn=720000 val=80000\n"
          ]
        },
        {
          "output_type": "stream",
          "name": "stdout",
          "text": [
            "Training until validation scores don't improve for 120 rounds\n"
          ]
        },
        {
          "output_type": "stream",
          "name": "stdout",
          "text": [
            "[200]\ttrain's auc: 0.610194\tvalid's auc: 0.579736\n"
          ]
        },
        {
          "output_type": "stream",
          "name": "stdout",
          "text": [
            "Early stopping, best iteration is:\n[85]\ttrain's auc: 0.596016\tvalid's auc: 0.580942\n[2025-09-12 01:52:52] [LGB compact] seed=2025 fold=2 AUC: 0.580942 | best_iter=85\n"
          ]
        },
        {
          "output_type": "stream",
          "name": "stdout",
          "text": [
            "[2025-09-12 01:52:52] [LGB compact] seed=2025 ff=0.78 bf=0.78 | Fold 4/10 | trn=720000 val=80000\n"
          ]
        },
        {
          "output_type": "stream",
          "name": "stdout",
          "text": [
            "Training until validation scores don't improve for 120 rounds\n"
          ]
        },
        {
          "output_type": "stream",
          "name": "stdout",
          "text": [
            "[200]\ttrain's auc: 0.609778\tvalid's auc: 0.582079\n"
          ]
        },
        {
          "output_type": "stream",
          "name": "stdout",
          "text": [
            "Early stopping, best iteration is:\n[182]\ttrain's auc: 0.607864\tvalid's auc: 0.582398\n[2025-09-12 01:53:08] [LGB compact] seed=2025 fold=3 AUC: 0.582398 | best_iter=182\n"
          ]
        },
        {
          "output_type": "stream",
          "name": "stdout",
          "text": [
            "[2025-09-12 01:53:09] [LGB compact] seed=2025 ff=0.78 bf=0.78 | Fold 5/10 | trn=720000 val=80000\n"
          ]
        },
        {
          "output_type": "stream",
          "name": "stdout",
          "text": [
            "Training until validation scores don't improve for 120 rounds\n"
          ]
        },
        {
          "output_type": "stream",
          "name": "stdout",
          "text": [
            "[200]\ttrain's auc: 0.610278\tvalid's auc: 0.578143\n"
          ]
        },
        {
          "output_type": "stream",
          "name": "stdout",
          "text": [
            "Early stopping, best iteration is:\n[100]\ttrain's auc: 0.598596\tvalid's auc: 0.578853\n[2025-09-12 01:53:20] [LGB compact] seed=2025 fold=4 AUC: 0.578853 | best_iter=100\n"
          ]
        },
        {
          "output_type": "stream",
          "name": "stdout",
          "text": [
            "[2025-09-12 01:53:20] [LGB compact] seed=2025 ff=0.78 bf=0.78 | Fold 6/10 | trn=720000 val=80000\n"
          ]
        },
        {
          "output_type": "stream",
          "name": "stdout",
          "text": [
            "Training until validation scores don't improve for 120 rounds\n"
          ]
        },
        {
          "output_type": "stream",
          "name": "stdout",
          "text": [
            "[200]\ttrain's auc: 0.61052\tvalid's auc: 0.580501\n"
          ]
        },
        {
          "output_type": "stream",
          "name": "stdout",
          "text": [
            "Early stopping, best iteration is:\n[89]\ttrain's auc: 0.596594\tvalid's auc: 0.581692\n[2025-09-12 01:53:31] [LGB compact] seed=2025 fold=5 AUC: 0.581692 | best_iter=89\n"
          ]
        },
        {
          "output_type": "stream",
          "name": "stdout",
          "text": [
            "[2025-09-12 01:53:31] [LGB compact] seed=2025 ff=0.78 bf=0.78 | Fold 7/10 | trn=720000 val=80000\n"
          ]
        },
        {
          "output_type": "stream",
          "name": "stdout",
          "text": [
            "Training until validation scores don't improve for 120 rounds\n"
          ]
        },
        {
          "output_type": "stream",
          "name": "stdout",
          "text": [
            "[200]\ttrain's auc: 0.60997\tvalid's auc: 0.580484\n"
          ]
        },
        {
          "output_type": "stream",
          "name": "stdout",
          "text": [
            "Early stopping, best iteration is:\n[211]\ttrain's auc: 0.611143\tvalid's auc: 0.580615\n[2025-09-12 01:53:49] [LGB compact] seed=2025 fold=6 AUC: 0.580615 | best_iter=211\n"
          ]
        },
        {
          "output_type": "stream",
          "name": "stdout",
          "text": [
            "[2025-09-12 01:53:49] [LGB compact] seed=2025 ff=0.78 bf=0.78 | Fold 8/10 | trn=720000 val=80000\n"
          ]
        },
        {
          "output_type": "stream",
          "name": "stdout",
          "text": [
            "Training until validation scores don't improve for 120 rounds\n"
          ]
        },
        {
          "output_type": "stream",
          "name": "stdout",
          "text": [
            "[200]\ttrain's auc: 0.610114\tvalid's auc: 0.579787\n"
          ]
        },
        {
          "output_type": "stream",
          "name": "stdout",
          "text": [
            "Early stopping, best iteration is:\n[126]\ttrain's auc: 0.601515\tvalid's auc: 0.580163\n[2025-09-12 01:54:02] [LGB compact] seed=2025 fold=7 AUC: 0.580163 | best_iter=126\n"
          ]
        },
        {
          "output_type": "stream",
          "name": "stdout",
          "text": [
            "[2025-09-12 01:54:03] [LGB compact] seed=2025 ff=0.78 bf=0.78 | Fold 9/10 | trn=720000 val=80000\n"
          ]
        },
        {
          "output_type": "stream",
          "name": "stdout",
          "text": [
            "Training until validation scores don't improve for 120 rounds\n"
          ]
        },
        {
          "output_type": "stream",
          "name": "stdout",
          "text": [
            "[200]\ttrain's auc: 0.610386\tvalid's auc: 0.578716\n"
          ]
        },
        {
          "output_type": "stream",
          "name": "stdout",
          "text": [
            "Early stopping, best iteration is:\n[133]\ttrain's auc: 0.602686\tvalid's auc: 0.579415\n[2025-09-12 01:54:16] [LGB compact] seed=2025 fold=8 AUC: 0.579415 | best_iter=133\n"
          ]
        },
        {
          "output_type": "stream",
          "name": "stdout",
          "text": [
            "[2025-09-12 01:54:16] [LGB compact] seed=2025 ff=0.78 bf=0.78 | Fold 10/10 | trn=720000 val=80000\n"
          ]
        },
        {
          "output_type": "stream",
          "name": "stdout",
          "text": [
            "Training until validation scores don't improve for 120 rounds\n"
          ]
        },
        {
          "output_type": "stream",
          "name": "stdout",
          "text": [
            "[200]\ttrain's auc: 0.610518\tvalid's auc: 0.579309\n"
          ]
        },
        {
          "output_type": "stream",
          "name": "stdout",
          "text": [
            "Early stopping, best iteration is:\n[121]\ttrain's auc: 0.601182\tvalid's auc: 0.579793\n[2025-09-12 01:54:29] [LGB compact] seed=2025 fold=9 AUC: 0.579793 | best_iter=121\n"
          ]
        },
        {
          "output_type": "stream",
          "name": "stdout",
          "text": [
            "[2025-09-12 01:54:29] [LGB compact] seed=2025 OOF AUC: 0.580202 | elapsed=133.3s\n"
          ]
        },
        {
          "output_type": "stream",
          "name": "stdout",
          "text": [
            "[2025-09-12 01:54:30] [LGB compact] Saved OOF/test preds for c2025\n"
          ]
        },
        {
          "output_type": "stream",
          "name": "stdout",
          "text": [
            "[2025-09-12 01:54:30] [LGB compact] seed=101 ff=0.7 bf=0.8 | Fold 1/10 | trn=720000 val=80000\n"
          ]
        },
        {
          "output_type": "stream",
          "name": "stdout",
          "text": [
            "Training until validation scores don't improve for 120 rounds\n"
          ]
        },
        {
          "output_type": "stream",
          "name": "stdout",
          "text": [
            "[200]\ttrain's auc: 0.609588\tvalid's auc: 0.577428\n"
          ]
        },
        {
          "output_type": "stream",
          "name": "stdout",
          "text": [
            "Early stopping, best iteration is:\n[98]\ttrain's auc: 0.598151\tvalid's auc: 0.578245\n[2025-09-12 01:54:45] [LGB compact] seed=101 fold=0 AUC: 0.578245 | best_iter=98\n"
          ]
        },
        {
          "output_type": "stream",
          "name": "stdout",
          "text": [
            "[2025-09-12 01:54:45] [LGB compact] seed=101 ff=0.7 bf=0.8 | Fold 2/10 | trn=720000 val=80000\n"
          ]
        },
        {
          "output_type": "stream",
          "name": "stdout",
          "text": [
            "Training until validation scores don't improve for 120 rounds\n"
          ]
        },
        {
          "output_type": "stream",
          "name": "stdout",
          "text": [
            "Early stopping, best iteration is:\n[55]\ttrain's auc: 0.591747\tvalid's auc: 0.581136\n[2025-09-12 01:54:55] [LGB compact] seed=101 fold=1 AUC: 0.581136 | best_iter=55\n"
          ]
        },
        {
          "output_type": "stream",
          "name": "stdout",
          "text": [
            "[2025-09-12 01:54:55] [LGB compact] seed=101 ff=0.7 bf=0.8 | Fold 3/10 | trn=720000 val=80000\n"
          ]
        },
        {
          "output_type": "stream",
          "name": "stdout",
          "text": [
            "Training until validation scores don't improve for 120 rounds\n"
          ]
        },
        {
          "output_type": "stream",
          "name": "stdout",
          "text": [
            "Early stopping, best iteration is:\n[58]\ttrain's auc: 0.591889\tvalid's auc: 0.582109\n[2025-09-12 01:55:05] [LGB compact] seed=101 fold=2 AUC: 0.582109 | best_iter=58\n"
          ]
        },
        {
          "output_type": "stream",
          "name": "stdout",
          "text": [
            "[2025-09-12 01:55:05] [LGB compact] seed=101 ff=0.7 bf=0.8 | Fold 4/10 | trn=720000 val=80000\n"
          ]
        },
        {
          "output_type": "stream",
          "name": "stdout",
          "text": [
            "Training until validation scores don't improve for 120 rounds\n"
          ]
        },
        {
          "output_type": "stream",
          "name": "stdout",
          "text": [
            "[200]\ttrain's auc: 0.609362\tvalid's auc: 0.581418\n"
          ]
        },
        {
          "output_type": "stream",
          "name": "stdout",
          "text": [
            "Early stopping, best iteration is:\n[127]\ttrain's auc: 0.601365\tvalid's auc: 0.581903\n[2025-09-12 01:55:18] [LGB compact] seed=101 fold=3 AUC: 0.581903 | best_iter=127\n"
          ]
        },
        {
          "output_type": "stream",
          "name": "stdout",
          "text": [
            "[2025-09-12 01:55:18] [LGB compact] seed=101 ff=0.7 bf=0.8 | Fold 5/10 | trn=720000 val=80000\n"
          ]
        },
        {
          "output_type": "stream",
          "name": "stdout",
          "text": [
            "Training until validation scores don't improve for 120 rounds\n"
          ]
        },
        {
          "output_type": "stream",
          "name": "stdout",
          "text": [
            "[200]\ttrain's auc: 0.609329\tvalid's auc: 0.578644\n"
          ]
        },
        {
          "output_type": "stream",
          "name": "stdout",
          "text": [
            "Early stopping, best iteration is:\n[139]\ttrain's auc: 0.602587\tvalid's auc: 0.579162\n[2025-09-12 01:55:32] [LGB compact] seed=101 fold=4 AUC: 0.579162 | best_iter=139\n"
          ]
        },
        {
          "output_type": "stream",
          "name": "stdout",
          "text": [
            "[2025-09-12 01:55:32] [LGB compact] seed=101 ff=0.7 bf=0.8 | Fold 6/10 | trn=720000 val=80000\n"
          ]
        },
        {
          "output_type": "stream",
          "name": "stdout",
          "text": [
            "Training until validation scores don't improve for 120 rounds\n"
          ]
        },
        {
          "output_type": "stream",
          "name": "stdout",
          "text": [
            "Early stopping, best iteration is:\n[78]\ttrain's auc: 0.594973\tvalid's auc: 0.581856\n[2025-09-12 01:55:43] [LGB compact] seed=101 fold=5 AUC: 0.581856 | best_iter=78\n"
          ]
        },
        {
          "output_type": "stream",
          "name": "stdout",
          "text": [
            "[2025-09-12 01:55:43] [LGB compact] seed=101 ff=0.7 bf=0.8 | Fold 7/10 | trn=720000 val=80000\n"
          ]
        },
        {
          "output_type": "stream",
          "name": "stdout",
          "text": [
            "Training until validation scores don't improve for 120 rounds\n"
          ]
        },
        {
          "output_type": "stream",
          "name": "stdout",
          "text": [
            "[200]\ttrain's auc: 0.609444\tvalid's auc: 0.580256\n"
          ]
        },
        {
          "output_type": "stream",
          "name": "stdout",
          "text": [
            "Early stopping, best iteration is:\n[116]\ttrain's auc: 0.600255\tvalid's auc: 0.580501\n[2025-09-12 01:55:55] [LGB compact] seed=101 fold=6 AUC: 0.580501 | best_iter=116\n"
          ]
        },
        {
          "output_type": "stream",
          "name": "stdout",
          "text": [
            "[2025-09-12 01:55:55] [LGB compact] seed=101 ff=0.7 bf=0.8 | Fold 8/10 | trn=720000 val=80000\n"
          ]
        },
        {
          "output_type": "stream",
          "name": "stdout",
          "text": [
            "Training until validation scores don't improve for 120 rounds\n"
          ]
        },
        {
          "output_type": "stream",
          "name": "stdout",
          "text": [
            "[200]\ttrain's auc: 0.609275\tvalid's auc: 0.580162\n"
          ]
        },
        {
          "output_type": "stream",
          "name": "stdout",
          "text": [
            "Early stopping, best iteration is:\n[101]\ttrain's auc: 0.598257\tvalid's auc: 0.580575\n[2025-09-12 01:56:07] [LGB compact] seed=101 fold=7 AUC: 0.580575 | best_iter=101\n"
          ]
        },
        {
          "output_type": "stream",
          "name": "stdout",
          "text": [
            "[2025-09-12 01:56:08] [LGB compact] seed=101 ff=0.7 bf=0.8 | Fold 9/10 | trn=720000 val=80000\n"
          ]
        },
        {
          "output_type": "stream",
          "name": "stdout",
          "text": [
            "Training until validation scores don't improve for 120 rounds\n"
          ]
        },
        {
          "output_type": "stream",
          "name": "stdout",
          "text": [
            "[200]\ttrain's auc: 0.609405\tvalid's auc: 0.579277\n"
          ]
        },
        {
          "output_type": "stream",
          "name": "stdout",
          "text": [
            "Early stopping, best iteration is:\n[104]\ttrain's auc: 0.598685\tvalid's auc: 0.579895\n[2025-09-12 01:56:20] [LGB compact] seed=101 fold=8 AUC: 0.579895 | best_iter=104\n"
          ]
        },
        {
          "output_type": "stream",
          "name": "stdout",
          "text": [
            "[2025-09-12 01:56:20] [LGB compact] seed=101 ff=0.7 bf=0.8 | Fold 10/10 | trn=720000 val=80000\n"
          ]
        },
        {
          "output_type": "stream",
          "name": "stdout",
          "text": [
            "Training until validation scores don't improve for 120 rounds\n"
          ]
        },
        {
          "output_type": "stream",
          "name": "stdout",
          "text": [
            "[200]\ttrain's auc: 0.60935\tvalid's auc: 0.57881\n"
          ]
        },
        {
          "output_type": "stream",
          "name": "stdout",
          "text": [
            "Early stopping, best iteration is:\n[124]\ttrain's auc: 0.601065\tvalid's auc: 0.579251\n[2025-09-12 01:56:33] [LGB compact] seed=101 fold=9 AUC: 0.579251 | best_iter=124\n"
          ]
        },
        {
          "output_type": "stream",
          "name": "stdout",
          "text": [
            "[2025-09-12 01:56:33] [LGB compact] seed=101 OOF AUC: 0.580364 | elapsed=122.8s\n"
          ]
        },
        {
          "output_type": "stream",
          "name": "stdout",
          "text": [
            "[2025-09-12 01:56:34] [LGB compact] Saved OOF/test preds for c101\n"
          ]
        },
        {
          "output_type": "stream",
          "name": "stdout",
          "text": [
            "[2025-09-12 01:56:34] [LGB compact] seed=999 ff=0.8 bf=0.7 | Fold 1/10 | trn=720000 val=80000\n"
          ]
        },
        {
          "output_type": "stream",
          "name": "stdout",
          "text": [
            "Training until validation scores don't improve for 120 rounds\n"
          ]
        },
        {
          "output_type": "stream",
          "name": "stdout",
          "text": [
            "[200]\ttrain's auc: 0.61018\tvalid's auc: 0.577272\n"
          ]
        },
        {
          "output_type": "stream",
          "name": "stdout",
          "text": [
            "Early stopping, best iteration is:\n[133]\ttrain's auc: 0.602579\tvalid's auc: 0.577679\n[2025-09-12 01:56:48] [LGB compact] seed=999 fold=0 AUC: 0.577679 | best_iter=133\n"
          ]
        },
        {
          "output_type": "stream",
          "name": "stdout",
          "text": [
            "[2025-09-12 01:56:48] [LGB compact] seed=999 ff=0.8 bf=0.7 | Fold 2/10 | trn=720000 val=80000\n"
          ]
        },
        {
          "output_type": "stream",
          "name": "stdout",
          "text": [
            "Training until validation scores don't improve for 120 rounds\n"
          ]
        },
        {
          "output_type": "stream",
          "name": "stdout",
          "text": [
            "[200]\ttrain's auc: 0.610242\tvalid's auc: 0.57919\nEarly stopping, best iteration is:\n[82]\ttrain's auc: 0.595785\tvalid's auc: 0.580925\n[2025-09-12 01:56:58] [LGB compact] seed=999 fold=1 AUC: 0.580925 | best_iter=82\n"
          ]
        },
        {
          "output_type": "stream",
          "name": "stdout",
          "text": [
            "[2025-09-12 01:56:59] [LGB compact] seed=999 ff=0.8 bf=0.7 | Fold 3/10 | trn=720000 val=80000\n"
          ]
        },
        {
          "output_type": "stream",
          "name": "stdout",
          "text": [
            "Training until validation scores don't improve for 120 rounds\n"
          ]
        },
        {
          "output_type": "stream",
          "name": "stdout",
          "text": [
            "Early stopping, best iteration is:\n[65]\ttrain's auc: 0.592963\tvalid's auc: 0.581879\n[2025-09-12 01:57:09] [LGB compact] seed=999 fold=2 AUC: 0.581879 | best_iter=65\n"
          ]
        },
        {
          "output_type": "stream",
          "name": "stdout",
          "text": [
            "[2025-09-12 01:57:09] [LGB compact] seed=999 ff=0.8 bf=0.7 | Fold 4/10 | trn=720000 val=80000\n"
          ]
        },
        {
          "output_type": "stream",
          "name": "stdout",
          "text": [
            "Training until validation scores don't improve for 120 rounds\n"
          ]
        },
        {
          "output_type": "stream",
          "name": "stdout",
          "text": [
            "[200]\ttrain's auc: 0.609596\tvalid's auc: 0.582257\n"
          ]
        },
        {
          "output_type": "stream",
          "name": "stdout",
          "text": [
            "Early stopping, best iteration is:\n[101]\ttrain's auc: 0.597932\tvalid's auc: 0.582404\n[2025-09-12 01:57:21] [LGB compact] seed=999 fold=3 AUC: 0.582404 | best_iter=101\n"
          ]
        },
        {
          "output_type": "stream",
          "name": "stdout",
          "text": [
            "[2025-09-12 01:57:21] [LGB compact] seed=999 ff=0.8 bf=0.7 | Fold 5/10 | trn=720000 val=80000\n"
          ]
        },
        {
          "output_type": "stream",
          "name": "stdout",
          "text": [
            "Training until validation scores don't improve for 120 rounds\n"
          ]
        },
        {
          "output_type": "stream",
          "name": "stdout",
          "text": [
            "[200]\ttrain's auc: 0.609869\tvalid's auc: 0.578344\n"
          ]
        },
        {
          "output_type": "stream",
          "name": "stdout",
          "text": [
            "Early stopping, best iteration is:\n[97]\ttrain's auc: 0.597797\tvalid's auc: 0.579266\n[2025-09-12 01:57:33] [LGB compact] seed=999 fold=4 AUC: 0.579266 | best_iter=97\n"
          ]
        },
        {
          "output_type": "stream",
          "name": "stdout",
          "text": [
            "[2025-09-12 01:57:33] [LGB compact] seed=999 ff=0.8 bf=0.7 | Fold 6/10 | trn=720000 val=80000\n"
          ]
        },
        {
          "output_type": "stream",
          "name": "stdout",
          "text": [
            "Training until validation scores don't improve for 120 rounds\n"
          ]
        },
        {
          "output_type": "stream",
          "name": "stdout",
          "text": [
            "Early stopping, best iteration is:\n[77]\ttrain's auc: 0.5947\tvalid's auc: 0.581514\n[2025-09-12 01:57:44] [LGB compact] seed=999 fold=5 AUC: 0.581514 | best_iter=77\n"
          ]
        },
        {
          "output_type": "stream",
          "name": "stdout",
          "text": [
            "[2025-09-12 01:57:44] [LGB compact] seed=999 ff=0.8 bf=0.7 | Fold 7/10 | trn=720000 val=80000\n"
          ]
        },
        {
          "output_type": "stream",
          "name": "stdout",
          "text": [
            "Training until validation scores don't improve for 120 rounds\n"
          ]
        },
        {
          "output_type": "stream",
          "name": "stdout",
          "text": [
            "[200]\ttrain's auc: 0.609966\tvalid's auc: 0.579524\n"
          ]
        },
        {
          "output_type": "stream",
          "name": "stdout",
          "text": [
            "Early stopping, best iteration is:\n[90]\ttrain's auc: 0.596715\tvalid's auc: 0.580043\n[2025-09-12 01:57:55] [LGB compact] seed=999 fold=6 AUC: 0.580043 | best_iter=90\n"
          ]
        },
        {
          "output_type": "stream",
          "name": "stdout",
          "text": [
            "[2025-09-12 01:57:55] [LGB compact] seed=999 ff=0.8 bf=0.7 | Fold 8/10 | trn=720000 val=80000\n"
          ]
        },
        {
          "output_type": "stream",
          "name": "stdout",
          "text": [
            "Training until validation scores don't improve for 120 rounds\n"
          ]
        },
        {
          "output_type": "stream",
          "name": "stdout",
          "text": [
            "[200]\ttrain's auc: 0.610052\tvalid's auc: 0.579106\n"
          ]
        },
        {
          "output_type": "stream",
          "name": "stdout",
          "text": [
            "Early stopping, best iteration is:\n[100]\ttrain's auc: 0.598141\tvalid's auc: 0.57977\n[2025-09-12 01:58:07] [LGB compact] seed=999 fold=7 AUC: 0.579770 | best_iter=100\n"
          ]
        },
        {
          "output_type": "stream",
          "name": "stdout",
          "text": [
            "[2025-09-12 01:58:07] [LGB compact] seed=999 ff=0.8 bf=0.7 | Fold 9/10 | trn=720000 val=80000\n"
          ]
        },
        {
          "output_type": "stream",
          "name": "stdout",
          "text": [
            "Training until validation scores don't improve for 120 rounds\n"
          ]
        },
        {
          "output_type": "stream",
          "name": "stdout",
          "text": [
            "[200]\ttrain's auc: 0.609697\tvalid's auc: 0.578595\n"
          ]
        },
        {
          "output_type": "stream",
          "name": "stdout",
          "text": [
            "Early stopping, best iteration is:\n[102]\ttrain's auc: 0.598263\tvalid's auc: 0.579386\n[2025-09-12 01:58:19] [LGB compact] seed=999 fold=8 AUC: 0.579386 | best_iter=102\n"
          ]
        },
        {
          "output_type": "stream",
          "name": "stdout",
          "text": [
            "[2025-09-12 01:58:19] [LGB compact] seed=999 ff=0.8 bf=0.7 | Fold 10/10 | trn=720000 val=80000\n"
          ]
        },
        {
          "output_type": "stream",
          "name": "stdout",
          "text": [
            "Training until validation scores don't improve for 120 rounds\n"
          ]
        },
        {
          "output_type": "stream",
          "name": "stdout",
          "text": [
            "[200]\ttrain's auc: 0.609776\tvalid's auc: 0.579659\n"
          ]
        },
        {
          "output_type": "stream",
          "name": "stdout",
          "text": [
            "Early stopping, best iteration is:\n[164]\ttrain's auc: 0.605749\tvalid's auc: 0.579906\n[2025-09-12 01:58:34] [LGB compact] seed=999 fold=9 AUC: 0.579906 | best_iter=164\n"
          ]
        },
        {
          "output_type": "stream",
          "name": "stdout",
          "text": [
            "[2025-09-12 01:58:34] [LGB compact] seed=999 OOF AUC: 0.580228 | elapsed=120.3s\n"
          ]
        },
        {
          "output_type": "stream",
          "name": "stdout",
          "text": [
            "[2025-09-12 01:58:35] [LGB compact] Saved OOF/test preds for c999\n"
          ]
        },
        {
          "output_type": "stream",
          "name": "stdout",
          "text": [
            "[2025-09-12 01:58:35] All compact LGB seeds finished.\n"
          ]
        }
      ]
    },
    {
      "id": "ff6a4a86-df10-40b4-ba46-0ba45284760c",
      "cell_type": "code",
      "metadata": {},
      "source": [
        "# Compact-feature XGBoost (CPU, hist) training for unseen subset diversity\n",
        "log('Training compact-feature XGBoost (CPU, hist) for unseen subset...')\n",
        "t0_all = time.time()\n",
        "try:\n",
        "    import xgboost as xgb\n",
        "except ImportError:\n",
        "    import sys, subprocess\n",
        "    log('XGBoost not found. Installing...')\n",
        "    subprocess.check_call([sys.executable, '-m', 'pip', 'install', '-q', 'xgboost'])\n",
        "    import xgboost as xgb\n",
        "\n",
        "assert 'comp_sorted_0' in comp_train.columns, 'Compact features not built; run pivot prep first.'\n",
        "Xc = comp_train[compact_feature_cols].copy()\n",
        "yc = train['target'].values\n",
        "Xc_test = comp_test[compact_feature_cols].copy()\n",
        "\n",
        "# Folds (locked)\n",
        "folds_df = pd.read_csv('folds_10fold_seed42.csv')\n",
        "folds_arr = folds_df['fold'].values\n",
        "n_splits = len(np.unique(folds_arr))\n",
        "\n",
        "# Params (compact set, slightly deeper for diversity)\n",
        "xgb_params = {\n",
        "    'objective': 'binary:logistic',\n",
        "    'eval_metric': 'auc',\n",
        "    'tree_method': 'hist',\n",
        "    'max_bin': 128,\n",
        "    'eta': 0.045,\n",
        "    'max_depth': 8,\n",
        "    'min_child_weight': 80,\n",
        "    'subsample': 0.78,\n",
        "    'colsample_bytree': 0.9,\n",
        "    'lambda': 3.0,\n",
        "    'nthread': 36,\n",
        "    'seed': 42\n",
        "}\n",
        "num_boost_round = 3000\n",
        "early_stopping_rounds = 150\n",
        "\n",
        "oof_xgb_c = np.zeros(len(Xc), dtype='float32')\n",
        "pred_test_xgb_c = np.zeros(len(Xc_test), dtype='float32')\n",
        "\n",
        "for fold in range(n_splits):\n",
        "    fold_t0 = time.time()\n",
        "    trn_idx = np.where(folds_arr != fold)[0]\n",
        "    val_idx = np.where(folds_arr == fold)[0]\n",
        "    log(f'[XGB compact] Fold {fold+1}/{n_splits} | trn={len(trn_idx)} val={len(val_idx)}')\n",
        "    dtrain = xgb.DMatrix(Xc.iloc[trn_idx], label=yc[trn_idx])\n",
        "    dvalid = xgb.DMatrix(Xc.iloc[val_idx], label=yc[val_idx])\n",
        "    dtest = xgb.DMatrix(Xc_test)\n",
        "    bst = xgb.train(\n",
        "        params=xgb_params,\n",
        "        dtrain=dtrain,\n",
        "        num_boost_round=num_boost_round,\n",
        "        evals=[(dtrain, 'train'), (dvalid, 'valid')],\n",
        "        early_stopping_rounds=early_stopping_rounds,\n",
        "        verbose_eval=200\n",
        "    )\n",
        "    best_iter = None\n",
        "    try:\n",
        "        attrs = bst.attributes()\n",
        "        if 'best_iteration' in attrs:\n",
        "            best_iter = int(attrs['best_iteration'])\n",
        "    except Exception:\n",
        "        best_iter = getattr(bst, 'best_iteration', None)\n",
        "    if best_iter is not None and best_iter >= 0:\n",
        "        oof_pred = bst.predict(dvalid, iteration_range=(0, best_iter + 1))\n",
        "    else:\n",
        "        oof_pred = bst.predict(dvalid)\n",
        "    oof_xgb_c[val_idx] = oof_pred.astype('float32')\n",
        "    fold_auc = roc_auc_score(yc[val_idx], oof_xgb_c[val_idx])\n",
        "    log(f'[XGB compact] Fold {fold} AUC: {fold_auc:.6f} | best_iter={best_iter} | elapsed={time.time()-fold_t0:.1f}s')\n",
        "    if best_iter is not None and best_iter >= 0:\n",
        "        pred_te = bst.predict(dtest, iteration_range=(0, best_iter + 1))\n",
        "    else:\n",
        "        pred_te = bst.predict(dtest)\n",
        "    pred_test_xgb_c += pred_te.astype('float32') / n_splits\n",
        "    del dtrain, dvalid, dtest, bst\n",
        "    gc.collect()\n",
        "\n",
        "cv_auc_xgb_c = roc_auc_score(yc, oof_xgb_c)\n",
        "log(f'[XGB compact] OOF AUC: {cv_auc_xgb_c:.6f} | total_elapsed={time.time()-t0_all:.1f}s')\n",
        "pd.DataFrame({'id': train['id'], 'oof_xgb_comp': oof_xgb_c}).to_csv('oof_xgb_comp.csv', index=False)\n",
        "pd.DataFrame({'id': test['id'], 'prediction_xgb_comp': pred_test_xgb_c}).to_csv('pred_xgb_comp.csv', index=False)\n",
        "log('[XGB compact] Saved OOF and test predictions.')"
      ],
      "execution_count": 23,
      "outputs": [
        {
          "output_type": "stream",
          "name": "stdout",
          "text": [
            "[2025-09-12 01:58:44] Training compact-feature XGBoost (CPU, hist) for unseen subset...\n"
          ]
        },
        {
          "output_type": "stream",
          "name": "stdout",
          "text": [
            "[2025-09-12 01:58:45] [XGB compact] Fold 1/10 | trn=720000 val=80000\n"
          ]
        },
        {
          "output_type": "stream",
          "name": "stdout",
          "text": [
            "[0]\ttrain-auc:0.57450\tvalid-auc:0.56864\n"
          ]
        },
        {
          "output_type": "stream",
          "name": "stdout",
          "text": [
            "[200]\ttrain-auc:0.59887\tvalid-auc:0.57803\n"
          ]
        },
        {
          "output_type": "stream",
          "name": "stdout",
          "text": [
            "[400]\ttrain-auc:0.60925\tvalid-auc:0.57773\n"
          ]
        },
        {
          "output_type": "stream",
          "name": "stdout",
          "text": [
            "[440]\ttrain-auc:0.61109\tvalid-auc:0.57731\n"
          ]
        },
        {
          "output_type": "stream",
          "name": "stdout",
          "text": [
            "[2025-09-12 01:59:00] [XGB compact] Fold 0 AUC: 0.578115 | best_iter=291 | elapsed=15.2s\n"
          ]
        },
        {
          "output_type": "stream",
          "name": "stdout",
          "text": [
            "[2025-09-12 01:59:00] [XGB compact] Fold 2/10 | trn=720000 val=80000\n"
          ]
        },
        {
          "output_type": "stream",
          "name": "stdout",
          "text": [
            "[0]\ttrain-auc:0.57421\tvalid-auc:0.57229\n"
          ]
        },
        {
          "output_type": "stream",
          "name": "stdout",
          "text": [
            "[200]\ttrain-auc:0.59908\tvalid-auc:0.58011\n"
          ]
        },
        {
          "output_type": "stream",
          "name": "stdout",
          "text": [
            "[250]\ttrain-auc:0.60207\tvalid-auc:0.57973\n"
          ]
        },
        {
          "output_type": "stream",
          "name": "stdout",
          "text": [
            "[2025-09-12 01:59:09] [XGB compact] Fold 1 AUC: 0.580441 | best_iter=100 | elapsed=9.3s\n"
          ]
        },
        {
          "output_type": "stream",
          "name": "stdout",
          "text": [
            "[2025-09-12 01:59:09] [XGB compact] Fold 3/10 | trn=720000 val=80000\n"
          ]
        },
        {
          "output_type": "stream",
          "name": "stdout",
          "text": [
            "[0]\ttrain-auc:0.57401\tvalid-auc:0.57286\n"
          ]
        },
        {
          "output_type": "stream",
          "name": "stdout",
          "text": [
            "[200]\ttrain-auc:0.59909\tvalid-auc:0.58029\n"
          ]
        },
        {
          "output_type": "stream",
          "name": "stdout",
          "text": [
            "[230]\ttrain-auc:0.60101\tvalid-auc:0.58015\n"
          ]
        },
        {
          "output_type": "stream",
          "name": "stdout",
          "text": [
            "[2025-09-12 01:59:18] [XGB compact] Fold 2 AUC: 0.581230 | best_iter=80 | elapsed=8.1s\n"
          ]
        },
        {
          "output_type": "stream",
          "name": "stdout",
          "text": [
            "[2025-09-12 01:59:18] [XGB compact] Fold 4/10 | trn=720000 val=80000\n"
          ]
        },
        {
          "output_type": "stream",
          "name": "stdout",
          "text": [
            "[0]\ttrain-auc:0.57435\tvalid-auc:0.57162\n"
          ]
        },
        {
          "output_type": "stream",
          "name": "stdout",
          "text": [
            "[200]\ttrain-auc:0.59916\tvalid-auc:0.58260\n"
          ]
        },
        {
          "output_type": "stream",
          "name": "stdout",
          "text": [
            "[318]\ttrain-auc:0.60571\tvalid-auc:0.58207\n"
          ]
        },
        {
          "output_type": "stream",
          "name": "stdout",
          "text": [
            "[2025-09-12 01:59:29] [XGB compact] Fold 3 AUC: 0.582696 | best_iter=169 | elapsed=11.2s\n"
          ]
        },
        {
          "output_type": "stream",
          "name": "stdout",
          "text": [
            "[2025-09-12 01:59:29] [XGB compact] Fold 5/10 | trn=720000 val=80000\n"
          ]
        },
        {
          "output_type": "stream",
          "name": "stdout",
          "text": [
            "[0]\ttrain-auc:0.57447\tvalid-auc:0.56817\n"
          ]
        },
        {
          "output_type": "stream",
          "name": "stdout",
          "text": [
            "[200]\ttrain-auc:0.59899\tvalid-auc:0.57822\n"
          ]
        },
        {
          "output_type": "stream",
          "name": "stdout",
          "text": [
            "[284]\ttrain-auc:0.60411\tvalid-auc:0.57767\n"
          ]
        },
        {
          "output_type": "stream",
          "name": "stdout",
          "text": [
            "[2025-09-12 01:59:39] [XGB compact] Fold 4 AUC: 0.578766 | best_iter=134 | elapsed=9.9s\n"
          ]
        },
        {
          "output_type": "stream",
          "name": "stdout",
          "text": [
            "[2025-09-12 01:59:39] [XGB compact] Fold 6/10 | trn=720000 val=80000\n"
          ]
        },
        {
          "output_type": "stream",
          "name": "stdout",
          "text": [
            "[0]\ttrain-auc:0.57426\tvalid-auc:0.57299\n"
          ]
        },
        {
          "output_type": "stream",
          "name": "stdout",
          "text": [
            "[200]\ttrain-auc:0.59926\tvalid-auc:0.58177\n"
          ]
        },
        {
          "output_type": "stream",
          "name": "stdout",
          "text": [
            "[253]\ttrain-auc:0.60252\tvalid-auc:0.58109\n"
          ]
        },
        {
          "output_type": "stream",
          "name": "stdout",
          "text": [
            "[2025-09-12 01:59:48] [XGB compact] Fold 5 AUC: 0.582276 | best_iter=104 | elapsed=9.0s\n"
          ]
        },
        {
          "output_type": "stream",
          "name": "stdout",
          "text": [
            "[2025-09-12 01:59:48] [XGB compact] Fold 7/10 | trn=720000 val=80000\n"
          ]
        },
        {
          "output_type": "stream",
          "name": "stdout",
          "text": [
            "[0]\ttrain-auc:0.57444\tvalid-auc:0.57147\n"
          ]
        },
        {
          "output_type": "stream",
          "name": "stdout",
          "text": [
            "[200]\ttrain-auc:0.59895\tvalid-auc:0.58031\n"
          ]
        },
        {
          "output_type": "stream",
          "name": "stdout",
          "text": [
            "[274]\ttrain-auc:0.60332\tvalid-auc:0.57981\n"
          ]
        },
        {
          "output_type": "stream",
          "name": "stdout",
          "text": [
            "[2025-09-12 01:59:58] [XGB compact] Fold 6 AUC: 0.580638 | best_iter=125 | elapsed=9.6s\n"
          ]
        },
        {
          "output_type": "stream",
          "name": "stdout",
          "text": [
            "[2025-09-12 01:59:58] [XGB compact] Fold 8/10 | trn=720000 val=80000\n"
          ]
        },
        {
          "output_type": "stream",
          "name": "stdout",
          "text": [
            "[0]\ttrain-auc:0.57410\tvalid-auc:0.57185\n"
          ]
        },
        {
          "output_type": "stream",
          "name": "stdout",
          "text": [
            "[200]\ttrain-auc:0.59901\tvalid-auc:0.58013\n"
          ]
        },
        {
          "output_type": "stream",
          "name": "stdout",
          "text": [
            "[303]\ttrain-auc:0.60445\tvalid-auc:0.57978\n"
          ]
        },
        {
          "output_type": "stream",
          "name": "stdout",
          "text": [
            "[2025-09-12 02:00:09] [XGB compact] Fold 7 AUC: 0.580358 | best_iter=154 | elapsed=11.0s\n"
          ]
        },
        {
          "output_type": "stream",
          "name": "stdout",
          "text": [
            "[2025-09-12 02:00:09] [XGB compact] Fold 9/10 | trn=720000 val=80000\n"
          ]
        },
        {
          "output_type": "stream",
          "name": "stdout",
          "text": [
            "[0]\ttrain-auc:0.57481\tvalid-auc:0.56998\n"
          ]
        },
        {
          "output_type": "stream",
          "name": "stdout",
          "text": [
            "[200]\ttrain-auc:0.59946\tvalid-auc:0.57896\n"
          ]
        },
        {
          "output_type": "stream",
          "name": "stdout",
          "text": [
            "[288]\ttrain-auc:0.60457\tvalid-auc:0.57842\n"
          ]
        },
        {
          "output_type": "stream",
          "name": "stdout",
          "text": [
            "[2025-09-12 02:00:19] [XGB compact] Fold 8 AUC: 0.579211 | best_iter=138 | elapsed=10.0s\n"
          ]
        },
        {
          "output_type": "stream",
          "name": "stdout",
          "text": [
            "[2025-09-12 02:00:19] [XGB compact] Fold 10/10 | trn=720000 val=80000\n"
          ]
        },
        {
          "output_type": "stream",
          "name": "stdout",
          "text": [
            "[0]\ttrain-auc:0.57467\tvalid-auc:0.56825\n"
          ]
        },
        {
          "output_type": "stream",
          "name": "stdout",
          "text": [
            "[200]\ttrain-auc:0.59888\tvalid-auc:0.57909\n"
          ]
        },
        {
          "output_type": "stream",
          "name": "stdout",
          "text": [
            "[400]\ttrain-auc:0.60881\tvalid-auc:0.57882\n"
          ]
        },
        {
          "output_type": "stream",
          "name": "stdout",
          "text": [
            "[444]\ttrain-auc:0.61080\tvalid-auc:0.57854\n"
          ]
        },
        {
          "output_type": "stream",
          "name": "stdout",
          "text": [
            "[2025-09-12 02:00:34] [XGB compact] Fold 9 AUC: 0.579440 | best_iter=294 | elapsed=15.2s\n"
          ]
        },
        {
          "output_type": "stream",
          "name": "stdout",
          "text": [
            "[2025-09-12 02:00:35] [XGB compact] OOF AUC: 0.580264 | total_elapsed=110.3s\n"
          ]
        },
        {
          "output_type": "stream",
          "name": "stdout",
          "text": [
            "[2025-09-12 02:00:36] [XGB compact] Saved OOF and test predictions.\n"
          ]
        }
      ]
    },
    {
      "id": "3b2f1328-bc93-4c1d-9827-415ad553ba3b",
      "cell_type": "code",
      "metadata": {},
      "source": [
        "# Assemble final submission using f_27 identity for seen and compact-model ensemble for unseen\n",
        "log('Assembling final submission: f_27 identity for seen; compact-model ensemble for unseen...')\n",
        "import json\n",
        "\n",
        "# 1) Recompute f_27 -> target map and seen/unseen masks\n",
        "f27_target_map = train.groupby('f_27')['target'].first().to_dict()\n",
        "test_seen_mask = test['f_27'].isin(f27_target_map).values\n",
        "test_unseen_mask = ~test_seen_mask\n",
        "log(f'Seen test rows: {int(test_seen_mask.sum())} | Unseen: {int(test_unseen_mask.sum())}')\n",
        "preds_seen = test.loc[test_seen_mask, 'f_27'].map(f27_target_map).astype('float32').values\n",
        "\n",
        "# 2) Load compact LGB OOF/test preds and form ensemble\n",
        "def load_comp_oof(path):\n",
        "    if not os.path.exists(path):\n",
        "        return None\n",
        "    df = pd.read_csv(path)\n",
        "    cols = [c for c in df.columns if c != 'id']\n",
        "    if len(cols) != 1:\n",
        "        return None\n",
        "    return df.rename(columns={cols[0]: 'pred'})\n",
        "\n",
        "def load_comp_pred(path):\n",
        "    if not os.path.exists(path):\n",
        "        return None\n",
        "    df = pd.read_csv(path)\n",
        "    cols = [c for c in df.columns if c != 'id']\n",
        "    if len(cols) != 1:\n",
        "        return None\n",
        "    return df.rename(columns={cols[0]: 'pred'})\n",
        "\n",
        "lgb_tags = ['c42','c1337','c2025','c101','c999']\n",
        "oofs = []; preds = []\n",
        "for tag in lgb_tags:\n",
        "    po = load_comp_oof(f'oof_lgb_comp_{tag}.csv')\n",
        "    pt = load_comp_pred(f'pred_lgb_comp_{tag}.csv')\n",
        "    if (po is not None) and (pt is not None):\n",
        "        oofs.append(po.rename(columns={'pred': f'oof_{tag}'}))\n",
        "        preds.append(pt.rename(columns={'pred': f'pred_{tag}'}))\n",
        "\n",
        "if len(oofs) == 0 or len(preds) == 0:\n",
        "    raise RuntimeError('Missing compact LGB artifacts; train compact models first.')\n",
        "\n",
        "oof_lgb = oofs[0]\n",
        "for df in oofs[1:]:\n",
        "    oof_lgb = oof_lgb.merge(df, on='id', how='inner')\n",
        "pred_lgb = preds[0]\n",
        "for df in preds[1:]:\n",
        "    pred_lgb = pred_lgb.merge(df, on='id', how='inner')\n",
        "lgb_oof_cols = [c for c in oof_lgb.columns if c != 'id']\n",
        "lgb_pred_cols = [c for c in pred_lgb.columns if c != 'id']\n",
        "oof_lgb['lgb_ens'] = oof_lgb[lgb_oof_cols].mean(axis=1).astype('float32')\n",
        "pred_lgb['lgb_ens'] = pred_lgb[lgb_pred_cols].mean(axis=1).astype('float32')\n",
        "\n",
        "# 3) Load compact XGB OOF/test if available\n",
        "oof_xgb = load_comp_oof('oof_xgb_comp.csv')\n",
        "pred_xgb = load_comp_pred('pred_xgb_comp.csv')\n",
        "have_xgb = (oof_xgb is not None) and (pred_xgb is not None)\n",
        "\n",
        "# 4) Tune LGB/XGB weight on OOF (global fallback if no unseen-like train rows)\n",
        "gt = train[['id','target']].copy()\n",
        "oof = gt.merge(oof_lgb[['id','lgb_ens']], on='id', how='left')\n",
        "if have_xgb:\n",
        "    oof = oof.merge(oof_xgb.rename(columns={'pred':'xgb'}), on='id', how='left')\n",
        "else:\n",
        "    oof['xgb'] = np.nan\n",
        "\n",
        "def rank_norm(x):\n",
        "    r = pd.Series(x).rank(method='average').values\n",
        "    return (r - 1) / (len(r) - 1)\n",
        "\n",
        "oof['lgb_r'] = rank_norm(oof['lgb_ens'])\n",
        "if have_xgb:\n",
        "    oof['xgb_r'] = rank_norm(oof['xgb'])\n",
        "\n",
        "best = {'auc': 0.0, 'mode': 'prob', 'w_lgb': 1.0}\n",
        "if have_xgb:\n",
        "    coarse = np.arange(0.70, 0.85 + 1e-9, 0.05)\n",
        "    refine = np.unique(np.round((coarse[:,None] + np.array([-0.04,-0.02,0.02,0.04])).ravel(), 2))\n",
        "    weights = sorted(list(set(np.clip(np.concatenate([coarse, refine]), 0.0, 1.0))))\n",
        "else:\n",
        "    weights = [1.0]\n",
        "for w in weights:\n",
        "    if have_xgb:\n",
        "        prob = w * oof['lgb_ens'] + (1 - w) * oof['xgb']\n",
        "        rank = w * oof['lgb_r'] + (1 - w) * oof['xgb_r']\n",
        "    else:\n",
        "        prob = oof['lgb_ens']\n",
        "        rank = oof['lgb_r']\n",
        "    auc_p = roc_auc_score(oof['target'], prob)\n",
        "    if auc_p > best['auc']:\n",
        "        best.update({'auc': float(auc_p), 'mode': 'prob', 'w_lgb': float(w)})\n",
        "    auc_r = roc_auc_score(oof['target'], rank)\n",
        "    if auc_r > best['auc']:\n",
        "        best.update({'auc': float(auc_r), 'mode': 'rank', 'w_lgb': float(w)})\n",
        "log(f\"[Unseen blend] Best OOF AUC={best['auc']:.6f} | mode={best['mode']} | w_lgb={best['w_lgb']}\")\n",
        "\n",
        "# 5) Build unseen test predictions\n",
        "sub = pd.read_csv('sample_submission.csv')[['id']]\n",
        "sub = sub.merge(pred_lgb[['id','lgb_ens']], on='id', how='left')\n",
        "if have_xgb:\n",
        "    sub = sub.merge(pred_xgb.rename(columns={'pred':'xgb'}), on='id', how='left')\n",
        "if best['mode'] == 'prob' or not have_xgb:\n",
        "    unseen_pred = sub['lgb_ens'].values if not have_xgb else (best['w_lgb'] * sub['lgb_ens'].values + (1 - best['w_lgb']) * sub['xgb'].values)\n",
        "else:\n",
        "    rl = pd.Series(sub['lgb_ens']).rank(method='average').values\n",
        "    rx = pd.Series(sub['xgb']).rank(method='average').values\n",
        "    rl = (rl - 1) / (len(rl) - 1); rx = (rx - 1) / (len(rx) - 1)\n",
        "    unseen_pred = (best['w_lgb'] * rl + (1 - best['w_lgb']) * rx)\n",
        "unseen_pred = unseen_pred.astype('float32')\n",
        "\n",
        "# 6) Assemble final submission: seen via map, unseen via blended preds\n",
        "final = pd.read_csv('sample_submission.csv')[['id']].copy()\n",
        "final['target'] = np.zeros(len(final), dtype='float32')\n",
        "final.loc[test_seen_mask, 'target'] = preds_seen\n",
        "final.loc[test_unseen_mask, 'target'] = unseen_pred[test_unseen_mask]\n",
        "\n",
        "# 7) Sanity checks and save\n",
        "if final['target'].isna().any():\n",
        "    raise ValueError('NaNs found in final target after assembly')\n",
        "final['target'] = final['target'].astype('float64').clip(0.0, 1.0)\n",
        "final.to_csv('submission.csv', index=False)\n",
        "log('Saved submission.csv (seen from f_27 map, unseen from blended compact ensemble).')\n",
        "\n",
        "# Extra variants: pure LGB unseen and fixed 0.75/0.25 prob blend for unseen\n",
        "final_lgb = final.copy()\n",
        "final_lgb.loc[test_unseen_mask, 'target'] = sub.loc[test_unseen_mask, 'lgb_ens'].astype('float32')\n",
        "final_lgb['target'] = final_lgb['target'].astype('float64').clip(0.0,1.0)\n",
        "final_lgb.to_csv('submission_unseen_lgb.csv', index=False)\n",
        "log('Saved submission_unseen_lgb.csv (unseen from LGB-avg only).')\n",
        "if have_xgb:\n",
        "    final_fx = final.copy()\n",
        "    fx = (0.75 * sub['lgb_ens'].values + 0.25 * (sub['xgb'].values if have_xgb else 0.0)).astype('float32')\n",
        "    final_fx.loc[test_unseen_mask, 'target'] = fx[test_unseen_mask]\n",
        "    final_fx['target'] = final_fx['target'].astype('float64').clip(0.0,1.0)\n",
        "    final_fx.to_csv('submission_unseen_prob_075_025.csv', index=False)\n",
        "    log('Saved submission_unseen_prob_075_025.csv (unseen prob 0.75/0.25).')\n",
        "\n",
        "# Save meta\n",
        "with open('blend_unseen_meta.json','w') as f:\n",
        "    json.dump(best, f, indent=2)\n",
        "log(f\"Saved blend_unseen_meta.json: {best}\")"
      ],
      "execution_count": 24,
      "outputs": [
        {
          "output_type": "stream",
          "name": "stdout",
          "text": [
            "[2025-09-12 02:00:51] Assembling final submission: f_27 identity for seen; compact-model ensemble for unseen...\n"
          ]
        },
        {
          "output_type": "stream",
          "name": "stdout",
          "text": [
            "[2025-09-12 02:00:53] Seen test rows: 28435 | Unseen: 71565\n"
          ]
        },
        {
          "output_type": "stream",
          "name": "stdout",
          "text": [
            "[2025-09-12 02:01:07] [Unseen blend] Best OOF AUC=0.581052 | mode=prob | w_lgb=0.66\n"
          ]
        },
        {
          "output_type": "stream",
          "name": "stdout",
          "text": [
            "[2025-09-12 02:01:07] Saved submission.csv (seen from f_27 map, unseen from blended compact ensemble).\n"
          ]
        },
        {
          "output_type": "stream",
          "name": "stdout",
          "text": [
            "[2025-09-12 02:01:07] Saved submission_unseen_lgb.csv (unseen from LGB-avg only).\n"
          ]
        },
        {
          "output_type": "stream",
          "name": "stdout",
          "text": [
            "[2025-09-12 02:01:07] Saved submission_unseen_prob_075_025.csv (unseen prob 0.75/0.25).\n"
          ]
        },
        {
          "output_type": "stream",
          "name": "stdout",
          "text": [
            "[2025-09-12 02:01:07] Saved blend_unseen_meta.json: {'auc': 0.581052351856858, 'mode': 'prob', 'w_lgb': 0.66}\n"
          ]
        }
      ]
    },
    {
      "id": "e831a779-b19c-4a83-aaaa-518cc6899087",
      "cell_type": "code",
      "metadata": {},
      "source": [
        "# Hybrid assembly: f_27 identity for seen; best LGB(3-seed)+XGB blend for unseen (full 165-feature models)\n",
        "log('Building hybrid submission: identity map for seen, strong full-feature blend for unseen...')\n",
        "\n",
        "# 1) f_27 -> target identity map and masks\n",
        "f27_target_map = train.groupby('f_27')['target'].first().to_dict()\n",
        "t_seen_mask = test['f_27'].isin(f27_target_map).values\n",
        "t_unseen_mask = ~t_seen_mask\n",
        "log(f'Hybrid masks -> seen: {int(t_seen_mask.sum())} | unseen: {int(t_unseen_mask.sum())}')\n",
        "preds_seen = test.loc[t_seen_mask, 'f_27'].map(f27_target_map).astype('float32').values\n",
        "\n",
        "# 2) Load OOF/test for 3-seed LGB (full features) and XGB, create tuned blend\n",
        "def _load_oof(path):\n",
        "    if not os.path.exists(path): return None\n",
        "    df = pd.read_csv(path); cols = [c for c in df.columns if c != 'id']\n",
        "    return df[['id', cols[0]]].rename(columns={cols[0]: 'pred'})\n",
        "def _load_pred(path):\n",
        "    if not os.path.exists(path): return None\n",
        "    df = pd.read_csv(path); cols = [c for c in df.columns if c != 'id']\n",
        "    return df[['id', cols[0]]].rename(columns={cols[0]: 'pred'})\n",
        "\n",
        "# LGB seeds OOF\n",
        "oofs = []; preds = [];\n",
        "for p_o, p_t in [\n",
        "    ('oof_lgb_fast_s42.csv','pred_lgb_fast_s42.csv'),\n",
        "    ('oof_lgb_fast_s1337.csv','pred_lgb_fast_s1337.csv'),\n",
        "    ('oof_lgb_fast_s2025.csv','pred_lgb_fast_s2025.csv'),\n",
        "]:\n",
        "    oo = _load_oof(p_o); pt = _load_pred(p_t)\n",
        "    if (oo is not None) and (pt is not None):\n",
        "        oofs.append(oo); preds.append(pt)\n",
        "assert len(oofs) >= 1 and len(preds) >= 1, 'Missing full LGB seed artifacts'\n",
        "oof_lgb = oofs[0]\n",
        "for df in oofs[1:]: oof_lgb = oof_lgb.merge(df, on='id', how='inner', suffixes=('','_x'))\n",
        "pred_lgb = preds[0]\n",
        "for df in preds[1:]: pred_lgb = pred_lgb.merge(df, on='id', how='inner', suffixes=('','_x'))\n",
        "lgb_oof_cols = [c for c in oof_lgb.columns if c != 'id']\n",
        "lgb_pred_cols = [c for c in pred_lgb.columns if c != 'id']\n",
        "oof_lgb['lgb_ens'] = oof_lgb[lgb_oof_cols].mean(axis=1).astype('float32')\n",
        "pred_lgb['lgb_ens'] = pred_lgb[lgb_pred_cols].mean(axis=1).astype('float32')\n",
        "\n",
        "# XGB OOF/pred\n",
        "oof_xgb = _load_oof('oof_xgb_seed42.csv')\n",
        "pred_xgb = _load_pred('pred_xgb_seed42.csv')\n",
        "have_xgb = (oof_xgb is not None) and (pred_xgb is not None)\n",
        "\n",
        "# 3) Tune blend weight on OOF (rank vs prob), using full-train OOF since unseen-like train rows are none\n",
        "gt = train[['id','target']].copy()\n",
        "oof = gt.merge(oof_lgb[['id','lgb_ens']], on='id', how='left')\n",
        "if have_xgb: oof = oof.merge(oof_xgb.rename(columns={'pred':'xgb'}), on='id', how='left')\n",
        "else: oof['xgb'] = np.nan\n",
        "def rank_norm(x):\n",
        "    r = pd.Series(x).rank(method='average').values\n",
        "    return (r - 1) / (len(r) - 1)\n",
        "oof['lgb_r'] = rank_norm(oof['lgb_ens'])\n",
        "if have_xgb: oof['xgb_r'] = rank_norm(oof['xgb'])\n",
        "best = {'auc':0.0, 'mode':'prob', 'w':1.0}\n",
        "weights = np.arange(0.60, 0.86, 0.05) if have_xgb else [1.0]\n",
        "for w in weights:\n",
        "    if have_xgb:\n",
        "        prob = w*oof['lgb_ens'] + (1-w)*oof['xgb']\n",
        "        rank = w*oof['lgb_r'] + (1-w)*oof['xgb_r']\n",
        "    else:\n",
        "        prob = oof['lgb_ens']; rank = oof['lgb_r']\n",
        "    ap = roc_auc_score(oof['target'], prob)\n",
        "    if ap > best['auc']: best.update({'auc':float(ap), 'mode':'prob', 'w':float(w)})\n",
        "    ar = roc_auc_score(oof['target'], rank)\n",
        "    if ar > best['auc']: best.update({'auc':float(ar), 'mode':'rank', 'w':float(w)})\n",
        "log(f\"[Hybrid blend] Best OOF AUC={best['auc']:.6f} | mode={best['mode']} | w_lgb={best['w']}\")\n",
        "\n",
        "# 4) Build unseen predictions from best blend\n",
        "sub_te = pd.read_csv('sample_submission.csv')[['id']].merge(pred_lgb[['id','lgb_ens']], on='id', how='left')\n",
        "if have_xgb: sub_te = sub_te.merge(pred_xgb.rename(columns={'pred':'xgb'}), on='id', how='left')\n",
        "if best['mode']=='prob' or not have_xgb:\n",
        "    unseen_pred_full = sub_te['lgb_ens'].values if not have_xgb else (best['w']*sub_te['lgb_ens'].values + (1-best['w'])*sub_te['xgb'].values)\n",
        "else:\n",
        "    rl = rank_norm(sub_te['lgb_ens']); rx = rank_norm(sub_te['xgb'])\n",
        "    unseen_pred_full = (best['w']*rl + (1-best['w'])*rx)\n",
        "unseen_pred_full = unseen_pred_full.astype('float32')\n",
        "\n",
        "# 5) Assemble final: seen from identity map; unseen from full-feature blend\n",
        "final = pd.read_csv('sample_submission.csv')[['id']].copy()\n",
        "final['target'] = np.zeros(len(final), dtype='float32')\n",
        "final.loc[t_seen_mask, 'target'] = preds_seen\n",
        "final.loc[t_unseen_mask, 'target'] = unseen_pred_full[t_unseen_mask]\n",
        "final['target'] = final['target'].astype('float64').clip(0.0,1.0)\n",
        "final.to_csv('submission.csv', index=False)\n",
        "log('Hybrid submission.csv saved (seen: identity map; unseen: full-feature LGB+XGB blend).')"
      ],
      "execution_count": 25,
      "outputs": [
        {
          "output_type": "stream",
          "name": "stdout",
          "text": [
            "[2025-09-12 02:02:40] Building hybrid submission: identity map for seen, strong full-feature blend for unseen...\n"
          ]
        },
        {
          "output_type": "stream",
          "name": "stdout",
          "text": [
            "[2025-09-12 02:02:42] Hybrid masks -> seen: 28435 | unseen: 71565\n"
          ]
        },
        {
          "output_type": "stream",
          "name": "stdout",
          "text": [
            "[2025-09-12 02:02:47] [Hybrid blend] Best OOF AUC=0.991016 | mode=prob | w_lgb=0.8500000000000002\n"
          ]
        },
        {
          "output_type": "stream",
          "name": "stdout",
          "text": [
            "[2025-09-12 02:02:47] Hybrid submission.csv saved (seen: identity map; unseen: full-feature LGB+XGB blend).\n"
          ]
        }
      ]
    },
    {
      "id": "401ac3b3-19b2-44c8-98fe-ed176053fd08",
      "cell_type": "code",
      "metadata": {},
      "source": [
        "# Leakage-safe Target Encodings (TE) for f_27 components + target-free frequencies (for unseen model)\n",
        "log('Building OOF target encodings for f_27 positional chars and bigrams, plus frequency encodings...')\n",
        "t0 = time.time()\n",
        "\n",
        "assert 'f_27' in train.columns and 'target' in train.columns, 'Missing f_27/target'\n",
        "folds_df = pd.read_csv('folds_10fold_seed42.csv')\n",
        "folds_arr = folds_df['fold'].values.astype('int16')\n",
        "n_splits = int(np.unique(folds_arr).size)\n",
        "prior = float(train['target'].mean())\n",
        "\n",
        "# Precompute tokens\n",
        "s_tr = train['f_27'].astype(str).values\n",
        "s_te = test['f_27'].astype(str).values\n",
        "\n",
        "# Positional char integer tokens (already in columns f_27_pos_i but recompute arrays to be safe)\n",
        "pos_char_tr = np.stack([train[f'f_27_pos_{i}'].astype('int16').values for i in range(10)], axis=1)\n",
        "pos_char_te = np.stack([test[f'f_27_pos_{i}'].astype('int16').values for i in range(10)], axis=1)\n",
        "\n",
        "# Positional bigram tokens (string form for groupby; train/test)\n",
        "def make_bigrams(arr):\n",
        "    # arr: array of strings length 10\n",
        "    n = arr.shape[0]\n",
        "    out = [None]*9\n",
        "    for i in range(9):\n",
        "        out[i] = np.fromiter((row[i:i+2] for row in arr), count=n, dtype=object)\n",
        "    return out\n",
        "bg_tr = make_bigrams(s_tr)\n",
        "bg_te = make_bigrams(s_te)\n",
        "\n",
        "# Optional: f27_nunique per row\n",
        "def f27_nunique(arr):\n",
        "    return np.fromiter((len(set(list(x))) for x in arr), count=len(arr), dtype=np.int16)\n",
        "f27_nuniq_tr = f27_nunique(s_tr)\n",
        "f27_nuniq_te = f27_nunique(s_te)\n",
        "\n",
        "# Helper to compute OOF TE given key arrays (keys) and smoothing m\n",
        "def oof_te_by_key(keys, y, m, prior):\n",
        "    # keys: array-like of hashable tokens for all rows in train\n",
        "    keys = pd.Series(keys)\n",
        "    oof_vals = np.zeros(len(keys), dtype=np.float32)\n",
        "    oof_logcnt = np.zeros(len(keys), dtype=np.float32)\n",
        "    for fold in range(n_splits):\n",
        "        trn_idx = np.where(folds_arr != fold)[0]\n",
        "        val_idx = np.where(folds_arr == fold)[0]\n",
        "        k_tr = keys.iloc[trn_idx]\n",
        "        y_tr = y[trn_idx]\n",
        "        grp = pd.DataFrame({'k': k_tr.values, 'y': y_tr}).groupby('k')\n",
        "        cnt = grp['y'].size()\n",
        "        sumy = grp['y'].sum()\n",
        "        te_map = ((sumy + m * prior) / (cnt + m)).astype('float32')\n",
        "        map_cnt = cnt.astype('int32')\n",
        "        # map for val\n",
        "        kval = keys.iloc[val_idx]\n",
        "        te = kval.map(te_map).astype('float32')\n",
        "        lc = kval.map(map_cnt).fillna(0).astype('int32')\n",
        "        te = te.fillna(prior).values\n",
        "        oof_vals[val_idx] = te\n",
        "        oof_logcnt[val_idx] = np.log1p(lc.values).astype('float32')\n",
        "    # Full fit for test transform\n",
        "    grp_full = pd.DataFrame({'k': keys.values, 'y': y}).groupby('k')\n",
        "    cnt_full = grp_full['y'].size()\n",
        "    sumy_full = grp_full['y'].sum()\n",
        "    te_map_full = ((sumy_full + m * prior) / (cnt_full + m)).astype('float32')\n",
        "    cnt_full = cnt_full.astype('int32')\n",
        "    return oof_vals, oof_logcnt, te_map_full, cnt_full\n",
        "\n",
        "# Build TE for positional chars (10) with m=30\n",
        "y_tr = train['target'].values.astype('float32')\n",
        "te_pos_char_tr = np.zeros((len(train), 10), dtype=np.float32)\n",
        "te_pos_char_logcnt_tr = np.zeros((len(train), 10), dtype=np.float32)\n",
        "te_pos_char_te = np.zeros((len(test), 10), dtype=np.float32)\n",
        "te_pos_char_logcnt_te = np.zeros((len(test), 10), dtype=np.float32)\n",
        "for i in range(10):\n",
        "    keys_tr = pd.Series([f'{i}|{int(t)}' for t in pos_char_tr[:, i]])\n",
        "    oof_mean, oof_logcnt, te_map_full, cnt_full = oof_te_by_key(keys_tr, y_tr, m=30.0, prior=prior)\n",
        "    te_pos_char_tr[:, i] = oof_mean\n",
        "    te_pos_char_logcnt_tr[:, i] = oof_logcnt\n",
        "    keys_te = pd.Series([f'{i}|{int(t)}' for t in pos_char_te[:, i]])\n",
        "    te_vals = keys_te.map(te_map_full).astype('float32').fillna(prior).values\n",
        "    lc = keys_te.map(cnt_full).fillna(0).astype('int32').values\n",
        "    te_pos_char_te[:, i] = te_vals\n",
        "    te_pos_char_logcnt_te[:, i] = np.log1p(lc).astype('float32')\n",
        "\n",
        "# Build TE for positional bigrams (9) with m=100\n",
        "te_pos_bg_tr = np.zeros((len(train), 9), dtype=np.float32)\n",
        "te_pos_bg_logcnt_tr = np.zeros((len(train), 9), dtype=np.float32)\n",
        "te_pos_bg_te = np.zeros((len(test), 9), dtype=np.float32)\n",
        "te_pos_bg_logcnt_te = np.zeros((len(test), 9), dtype=np.float32)\n",
        "for i in range(9):\n",
        "    keys_tr = pd.Series([f'{i}|{bg}' for bg in bg_tr[i]])\n",
        "    oof_mean, oof_logcnt, te_map_full, cnt_full = oof_te_by_key(keys_tr, y_tr, m=100.0, prior=prior)\n",
        "    te_pos_bg_tr[:, i] = oof_mean\n",
        "    te_pos_bg_logcnt_tr[:, i] = oof_logcnt\n",
        "    keys_te = pd.Series([f'{i}|{bg}' for bg in bg_te[i]])\n",
        "    te_vals = keys_te.map(te_map_full).astype('float32').fillna(prior).values\n",
        "    lc = keys_te.map(cnt_full).fillna(0).astype('int32').values\n",
        "    te_pos_bg_te[:, i] = te_vals\n",
        "    te_pos_bg_logcnt_te[:, i] = np.log1p(lc).astype('float32')\n",
        "\n",
        "# Optional TE for f27_nunique with m=50\n",
        "keys_nu_tr = pd.Series(f27_nuniq_tr.astype('int16'))\n",
        "oof_nu_mean, oof_nu_logcnt, nu_map_full, nu_cnt_full = oof_te_by_key(keys_nu_tr, y_tr, m=50.0, prior=prior)\n",
        "nu_te_tr = oof_nu_mean\n",
        "nu_logcnt_tr = oof_nu_logcnt\n",
        "keys_nu_te = pd.Series(f27_nuniq_te.astype('int16'))\n",
        "nu_te_te = keys_nu_te.map(nu_map_full).astype('float32').fillna(prior).values\n",
        "nu_logcnt_te = np.log1p(keys_nu_te.map(nu_cnt_full).fillna(0).astype('int32').values).astype('float32')\n",
        "\n",
        "# Target-free frequencies pooled on train+test\n",
        "N_all = float(len(train) + len(test))\n",
        "# pos-char freqs\n",
        "freq_pos_char_tr = np.zeros((len(train), 10), dtype=np.float32)\n",
        "freq_pos_char_te = np.zeros((len(test), 10), dtype=np.float32)\n",
        "for i in range(10):\n",
        "    keys_all = pd.Series(np.concatenate([np.array([f'{i}|{int(t)}' for t in pos_char_tr[:, i]]), np.array([f'{i}|{int(t)}' for t in pos_char_te[:, i]])]))\n",
        "    vc = keys_all.value_counts()\n",
        "    ktr = pd.Series([f'{i}|{int(t)}' for t in pos_char_tr[:, i]])\n",
        "    kte = pd.Series([f'{i}|{int(t)}' for t in pos_char_te[:, i]])\n",
        "    freq_pos_char_tr[:, i] = (ktr.map(vc).fillna(0).values.astype('float32') / N_all)\n",
        "    freq_pos_char_te[:, i] = (kte.map(vc).fillna(0).values.astype('float32') / N_all)\n",
        "\n",
        "# pos-bigram freqs\n",
        "freq_pos_bg_tr = np.zeros((len(train), 9), dtype=np.float32)\n",
        "freq_pos_bg_te = np.zeros((len(test), 9), dtype=np.float32)\n",
        "for i in range(9):\n",
        "    keys_all = pd.Series(np.concatenate([np.array([f'{i}|{bg}' for bg in bg_tr[i]]), np.array([f'{i}|{bg}' for bg in bg_te[i]])]))\n",
        "    vc = keys_all.value_counts()\n",
        "    ktr = pd.Series([f'{i}|{bg}' for bg in bg_tr[i]])\n",
        "    kte = pd.Series([f'{i}|{bg}' for bg in bg_te[i]])\n",
        "    freq_pos_bg_tr[:, i] = (ktr.map(vc).fillna(0).values.astype('float32') / N_all)\n",
        "    freq_pos_bg_te[:, i] = (kte.map(vc).fillna(0).values.astype('float32') / N_all)\n",
        "\n",
        "# full-string freq\n",
        "all_full = pd.Series(np.concatenate([s_tr, s_te]))\n",
        "vc_full = all_full.value_counts()\n",
        "freq_full_tr = pd.Series(s_tr).map(vc_full).fillna(0).values.astype('float32') / N_all\n",
        "freq_full_te = pd.Series(s_te).map(vc_full).fillna(0).values.astype('float32') / N_all\n",
        "\n",
        "# Assemble TE/freq dataframes\n",
        "te_cols_tr = {}\n",
        "te_cols_te = {}\n",
        "for i in range(10):\n",
        "    te_cols_tr[f'TE_pos_char_{i}_mean'] = te_pos_char_tr[:, i]\n",
        "    te_cols_te[f'TE_pos_char_{i}_mean'] = te_pos_char_te[:, i]\n",
        "for i in range(9):\n",
        "    te_cols_tr[f'TE_pos_bigram_{i}_mean'] = te_pos_bg_tr[:, i]\n",
        "    te_cols_te[f'TE_pos_bigram_{i}_mean'] = te_pos_bg_te[:, i]\n",
        "for i in range(10):\n",
        "    te_cols_tr[f'TE_pos_char_{i}_logcnt'] = te_pos_char_logcnt_tr[:, i]\n",
        "    te_cols_te[f'TE_pos_char_{i}_logcnt'] = te_pos_char_logcnt_te[:, i]\n",
        "for i in range(9):\n",
        "    te_cols_tr[f'TE_pos_bigram_{i}_logcnt'] = te_pos_bg_logcnt_tr[:, i]\n",
        "    te_cols_te[f'TE_pos_bigram_{i}_logcnt'] = te_pos_bg_logcnt_te[:, i]\n",
        "te_cols_tr['TE_f27_nunique_mean'] = nu_te_tr\n",
        "te_cols_te['TE_f27_nunique_mean'] = nu_te_te\n",
        "te_cols_tr['TE_f27_nunique_logcnt'] = nu_logcnt_tr\n",
        "te_cols_te['TE_f27_nunique_logcnt'] = nu_logcnt_te\n",
        "for i in range(10):\n",
        "    te_cols_tr[f'FREQ_pos_char_{i}'] = freq_pos_char_tr[:, i]\n",
        "    te_cols_te[f'FREQ_pos_char_{i}'] = freq_pos_char_te[:, i]\n",
        "for i in range(9):\n",
        "    te_cols_tr[f'FREQ_pos_bigram_{i}'] = freq_pos_bg_tr[:, i]\n",
        "    te_cols_te[f'FREQ_pos_bigram_{i}'] = freq_pos_bg_te[:, i]\n",
        "te_cols_tr['FREQ_full_string'] = freq_full_tr\n",
        "te_cols_te['FREQ_full_string'] = freq_full_te\n",
        "\n",
        "te_train = pd.DataFrame(te_cols_tr, index=train.index)\n",
        "te_test = pd.DataFrame(te_cols_te, index=test.index)\n",
        "\n",
        "# Build augmented compact feature matrices for unseen model\n",
        "X_unseen_tr = pd.concat([comp_train.reset_index(drop=True), te_train.reset_index(drop=True)], axis=1)\n",
        "X_unseen_te = pd.concat([comp_test.reset_index(drop=True), te_test.reset_index(drop=True)], axis=1)\n",
        "unseen_feature_cols = X_unseen_tr.columns.tolist()\n",
        "\n",
        "# Sanity checks\n",
        "assert X_unseen_tr.shape[1] == len(unseen_feature_cols)\n",
        "assert not np.isnan(X_unseen_tr.values).any(), 'NaNs in X_unseen_tr'\n",
        "assert not np.isnan(X_unseen_te.values).any(), 'NaNs in X_unseen_te'\n",
        "log(f'Built TE/freq block. Unseen feature count: {len(unseen_feature_cols)} | time {time.time()-t0:.1f}s')"
      ],
      "execution_count": 27,
      "outputs": [
        {
          "output_type": "stream",
          "name": "stdout",
          "text": [
            "[2025-09-12 02:07:21] Building OOF target encodings for f_27 positional chars and bigrams, plus frequency encodings...\n"
          ]
        },
        {
          "output_type": "stream",
          "name": "stdout",
          "text": [
            "[2025-09-12 02:08:07] Built TE/freq block. Unseen feature count: 71 | time 46.4s\n"
          ]
        }
      ]
    },
    {
      "id": "dc457b4b-320d-46c9-8671-e4e27092eb49",
      "cell_type": "code",
      "metadata": {},
      "source": [
        "# Train TE-enhanced unseen models: 6x LightGBM + 1x XGBoost on X_unseen_tr/X_unseen_te\n",
        "log('Training TE-enhanced unseen models (6 LGB seeds + 1 XGB) ...')\n",
        "import lightgbm as lgb\n",
        "\n",
        "assert 'X_unseen_tr' in globals() and 'X_unseen_te' in globals(), 'Run TE feature cell first (X_unseen_tr/X_unseen_te missing)'\n",
        "X_tr = X_unseen_tr.copy()\n",
        "X_te = X_unseen_te.copy()\n",
        "y_tr = train['target'].values.astype('float32')\n",
        "\n",
        "# Folds (locked)\n",
        "folds_df = pd.read_csv('folds_10fold_seed42.csv')\n",
        "folds_arr = folds_df['fold'].values\n",
        "n_splits = len(np.unique(folds_arr))\n",
        "\n",
        "def train_lgb_unseen(seed=42, lr=0.04, num_leaves=224, min_data_in_leaf=240, ff=0.78, bf=0.78, l2=4.0, tag='u42'):\n",
        "    params = {\n",
        "        'objective': 'binary',\n",
        "        'metric': 'auc',\n",
        "        'boosting_type': 'gbdt',\n",
        "        'learning_rate': lr,\n",
        "        'num_leaves': num_leaves,\n",
        "        'max_depth': -1,\n",
        "        'min_data_in_leaf': min_data_in_leaf,\n",
        "        'feature_fraction': ff,\n",
        "        'bagging_fraction': bf,\n",
        "        'bagging_freq': 1,\n",
        "        'lambda_l1': 0.0,\n",
        "        'lambda_l2': l2,\n",
        "        'max_bin': 255,\n",
        "        'verbose': -1,\n",
        "        'n_jobs': -1,\n",
        "        'seed': seed,\n",
        "        'feature_fraction_seed': seed,\n",
        "        'bagging_seed': seed,\n",
        "        'data_random_seed': seed\n",
        "    }\n",
        "    oof = np.zeros(len(X_tr), dtype='float32')\n",
        "    ptest = np.zeros(len(X_te), dtype='float32')\n",
        "    t0 = time.time()\n",
        "    for fold in range(n_splits):\n",
        "        trn_idx = np.where(folds_arr != fold)[0]\n",
        "        val_idx = np.where(folds_arr == fold)[0]\n",
        "        log(f'[LGB unseen] seed={seed} ff={ff} bf={bf} | Fold {fold+1}/{n_splits} | trn={len(trn_idx)} val={len(val_idx)}')\n",
        "        dtr = lgb.Dataset(X_tr.iloc[trn_idx], label=y_tr[trn_idx])\n",
        "        dvl = lgb.Dataset(X_tr.iloc[val_idx], label=y_tr[val_idx])\n",
        "        model = lgb.train(params, dtr, num_boost_round=5000, valid_sets=[dtr, dvl], valid_names=['train','valid'], callbacks=[lgb.early_stopping(200), lgb.log_evaluation(200)])\n",
        "        oof[val_idx] = model.predict(X_tr.iloc[val_idx], num_iteration=model.best_iteration)\n",
        "        auc = roc_auc_score(y_tr[val_idx], oof[val_idx])\n",
        "        log(f'[LGB unseen] seed={seed} fold={fold} AUC: {auc:.6f} | best_iter={model.best_iteration}')\n",
        "        ptest += model.predict(X_te, num_iteration=model.best_iteration) / n_splits\n",
        "        del dtr, dvl, model; gc.collect()\n",
        "    cv_auc = roc_auc_score(y_tr, oof)\n",
        "    log(f'[LGB unseen] seed={seed} OOF AUC: {cv_auc:.6f} | elapsed={time.time()-t0:.1f}s')\n",
        "    pd.DataFrame({'id': train['id'], f'oof_lgb_unseen_{tag}': oof}).to_csv(f'oof_lgb_unseen_{tag}.csv', index=False)\n",
        "    pd.DataFrame({'id': test['id'], f'prediction_lgb_unseen_{tag}': ptest}).to_csv(f'pred_lgb_unseen_{tag}.csv', index=False)\n",
        "    log(f'[LGB unseen] Saved OOF/test preds for {tag}')\n",
        "\n",
        "# Run 6 LGB seeds with diverse params\n",
        "lgb_cfgs = [\n",
        "    # seed, lr, leaves, min_leaf, ff, bf, l2, tag\n",
        "    (42,   0.040, 224, 240, 0.78, 0.78, 4.0, 'u42'),\n",
        "    (1337, 0.045, 256, 240, 0.72, 0.72, 5.0, 'u1337'),\n",
        "    (2025, 0.038, 192, 260, 0.83, 0.75, 3.0, 'u2025'),\n",
        "    (101,  0.042, 256, 300, 0.70, 0.83, 6.0, 'u101'),\n",
        "    (999,  0.035, 192, 220, 0.80, 0.70, 4.0, 'u999'),\n",
        "    (7,    0.040, 240, 260, 0.75, 0.80, 5.0, 'u7'),\n",
        "]\n",
        "for s, lr, nl, mdl, ff, bf, l2, tag in lgb_cfgs:\n",
        "    train_lgb_unseen(seed=s, lr=lr, num_leaves=nl, min_data_in_leaf=mdl, ff=ff, bf=bf, l2=l2, tag=tag)\n",
        "log('All TE-enhanced LGB unseen seeds finished.')\n",
        "\n",
        "# XGBoost on TE-enhanced unseen features\n",
        "log('Training XGBoost unseen (TE-enhanced features)...')\n",
        "try:\n",
        "    import xgboost as xgb\n",
        "except ImportError:\n",
        "    import sys, subprocess\n",
        "    log('XGBoost not found. Installing...')\n",
        "    subprocess.check_call([sys.executable, '-m', 'pip', 'install', '-q', 'xgboost'])\n",
        "    import xgboost as xgb\n",
        "\n",
        "dtest = xgb.DMatrix(X_te)\n",
        "oof_xgb_u = np.zeros(len(X_tr), dtype='float32')\n",
        "pred_xgb_u = np.zeros(len(X_te), dtype='float32')\n",
        "xgb_params = {\n",
        "    'objective': 'binary:logistic',\n",
        "    'eval_metric': 'auc',\n",
        "    'tree_method': 'hist',\n",
        "    'max_bin': 256,\n",
        "    'eta': 0.045,\n",
        "    'max_depth': 8,\n",
        "    'min_child_weight': 80,\n",
        "    'subsample': 0.80,\n",
        "    'colsample_bytree': 0.80,\n",
        "    'lambda': 3.0,\n",
        "    'nthread': 36,\n",
        "    'seed': 42\n",
        "}\n",
        "num_boost_round = 3500\n",
        "early_stopping_rounds = 150\n",
        "for fold in range(n_splits):\n",
        "    trn_idx = np.where(folds_arr != fold)[0]\n",
        "    val_idx = np.where(folds_arr == fold)[0]\n",
        "    log(f'[XGB unseen] Fold {fold+1}/{n_splits} | trn={len(trn_idx)} val={len(val_idx)}')\n",
        "    dtr = xgb.DMatrix(X_tr.iloc[trn_idx], label=y_tr[trn_idx])\n",
        "    dvl = xgb.DMatrix(X_tr.iloc[val_idx], label=y_tr[val_idx])\n",
        "    bst = xgb.train(params=xgb_params, dtrain=dtr, num_boost_round=num_boost_round, evals=[(dtr,'train'),(dvl,'valid')], early_stopping_rounds=early_stopping_rounds, verbose_eval=200)\n",
        "    best_iter = None\n",
        "    try:\n",
        "        attrs = bst.attributes()\n",
        "        if 'best_iteration' in attrs:\n",
        "            best_iter = int(attrs['best_iteration'])\n",
        "    except Exception:\n",
        "        best_iter = getattr(bst, 'best_iteration', None)\n",
        "    if best_iter is not None and best_iter >= 0:\n",
        "        oof_pred = bst.predict(dvl, iteration_range=(0, best_iter + 1))\n",
        "        pred_te = bst.predict(dtest, iteration_range=(0, best_iter + 1))\n",
        "    else:\n",
        "        oof_pred = bst.predict(dvl)\n",
        "        pred_te = bst.predict(dtest)\n",
        "    oof_xgb_u[val_idx] = oof_pred.astype('float32')\n",
        "    pred_xgb_u += (pred_te.astype('float32') / n_splits)\n",
        "    del dtr, dvl, bst; gc.collect()\n",
        "auc_xgb_u = roc_auc_score(y_tr, oof_xgb_u)\n",
        "log(f'[XGB unseen] OOF AUC: {auc_xgb_u:.6f}')\n",
        "pd.DataFrame({'id': train['id'], 'oof_xgb_unseen': oof_xgb_u}).to_csv('oof_xgb_unseen.csv', index=False)\n",
        "pd.DataFrame({'id': test['id'], 'prediction_xgb_unseen': pred_xgb_u}).to_csv('pred_xgb_unseen.csv', index=False)\n",
        "log('[XGB unseen] Saved OOF and test predictions.')"
      ],
      "execution_count": 29,
      "outputs": [
        {
          "output_type": "stream",
          "name": "stdout",
          "text": [
            "[2025-09-12 02:10:28] Training TE-enhanced unseen models (6 LGB seeds + 1 XGB) ...\n"
          ]
        },
        {
          "output_type": "stream",
          "name": "stdout",
          "text": [
            "[2025-09-12 02:10:28] [LGB unseen] seed=42 ff=0.78 bf=0.78 | Fold 1/10 | trn=720000 val=80000\n"
          ]
        },
        {
          "output_type": "stream",
          "name": "stdout",
          "text": [
            "Training until validation scores don't improve for 200 rounds\n"
          ]
        },
        {
          "output_type": "stream",
          "name": "stdout",
          "text": [
            "[200]\ttrain's auc: 0.833937\tvalid's auc: 0.817831\n"
          ]
        },
        {
          "output_type": "stream",
          "name": "stdout",
          "text": [
            "[400]\ttrain's auc: 0.848099\tvalid's auc: 0.819141\n"
          ]
        },
        {
          "output_type": "stream",
          "name": "stdout",
          "text": [
            "[600]\ttrain's auc: 0.860071\tvalid's auc: 0.819201\n"
          ]
        },
        {
          "output_type": "stream",
          "name": "stdout",
          "text": [
            "[800]\ttrain's auc: 0.871088\tvalid's auc: 0.819073\n"
          ]
        },
        {
          "output_type": "stream",
          "name": "stdout",
          "text": [
            "Early stopping, best iteration is:\n[636]\ttrain's auc: 0.862084\tvalid's auc: 0.819255\n"
          ]
        },
        {
          "output_type": "stream",
          "name": "stdout",
          "text": [
            "[2025-09-12 02:11:37] [LGB unseen] seed=42 fold=0 AUC: 0.819255 | best_iter=636\n"
          ]
        },
        {
          "output_type": "stream",
          "name": "stdout",
          "text": [
            "[2025-09-12 02:11:38] [LGB unseen] seed=42 ff=0.78 bf=0.78 | Fold 2/10 | trn=720000 val=80000\n"
          ]
        },
        {
          "output_type": "stream",
          "name": "stdout",
          "text": [
            "Training until validation scores don't improve for 200 rounds\n"
          ]
        },
        {
          "output_type": "stream",
          "name": "stdout",
          "text": [
            "[200]\ttrain's auc: 0.834039\tvalid's auc: 0.81781\n"
          ]
        },
        {
          "output_type": "stream",
          "name": "stdout",
          "text": [
            "[400]\ttrain's auc: 0.848064\tvalid's auc: 0.818609\n"
          ]
        },
        {
          "output_type": "stream",
          "name": "stdout",
          "text": [
            "[600]\ttrain's auc: 0.860134\tvalid's auc: 0.818601\n"
          ]
        },
        {
          "output_type": "stream",
          "name": "stdout",
          "text": [
            "Early stopping, best iteration is:\n[522]\ttrain's auc: 0.855583\tvalid's auc: 0.818675\n"
          ]
        },
        {
          "output_type": "stream",
          "name": "stdout",
          "text": [
            "[2025-09-12 02:12:37] [LGB unseen] seed=42 fold=1 AUC: 0.818675 | best_iter=522\n"
          ]
        },
        {
          "output_type": "stream",
          "name": "stdout",
          "text": [
            "[2025-09-12 02:12:38] [LGB unseen] seed=42 ff=0.78 bf=0.78 | Fold 3/10 | trn=720000 val=80000\n"
          ]
        },
        {
          "output_type": "stream",
          "name": "stdout",
          "text": [
            "Training until validation scores don't improve for 200 rounds\n"
          ]
        },
        {
          "output_type": "stream",
          "name": "stdout",
          "text": [
            "[200]\ttrain's auc: 0.833582\tvalid's auc: 0.820903\n"
          ]
        },
        {
          "output_type": "stream",
          "name": "stdout",
          "text": [
            "[400]\ttrain's auc: 0.847628\tvalid's auc: 0.822091\n"
          ]
        },
        {
          "output_type": "stream",
          "name": "stdout",
          "text": [
            "[600]\ttrain's auc: 0.859454\tvalid's auc: 0.821927\n"
          ]
        },
        {
          "output_type": "stream",
          "name": "stdout",
          "text": [
            "Early stopping, best iteration is:\n[423]\ttrain's auc: 0.849048\tvalid's auc: 0.822132\n"
          ]
        },
        {
          "output_type": "stream",
          "name": "stdout",
          "text": [
            "[2025-09-12 02:13:30] [LGB unseen] seed=42 fold=2 AUC: 0.822132 | best_iter=423\n"
          ]
        },
        {
          "output_type": "stream",
          "name": "stdout",
          "text": [
            "[2025-09-12 02:13:31] [LGB unseen] seed=42 ff=0.78 bf=0.78 | Fold 4/10 | trn=720000 val=80000\n"
          ]
        },
        {
          "output_type": "stream",
          "name": "stdout",
          "text": [
            "Training until validation scores don't improve for 200 rounds\n"
          ]
        },
        {
          "output_type": "stream",
          "name": "stdout",
          "text": [
            "[200]\ttrain's auc: 0.833972\tvalid's auc: 0.818086\n"
          ]
        },
        {
          "output_type": "stream",
          "name": "stdout",
          "text": [
            "[400]\ttrain's auc: 0.848121\tvalid's auc: 0.81876\n"
          ]
        },
        {
          "output_type": "stream",
          "name": "stdout",
          "text": [
            "Early stopping, best iteration is:\n[374]\ttrain's auc: 0.846487\tvalid's auc: 0.818854\n"
          ]
        },
        {
          "output_type": "stream",
          "name": "stdout",
          "text": [
            "[2025-09-12 02:14:20] [LGB unseen] seed=42 fold=3 AUC: 0.818854 | best_iter=374\n"
          ]
        },
        {
          "output_type": "stream",
          "name": "stdout",
          "text": [
            "[2025-09-12 02:14:21] [LGB unseen] seed=42 ff=0.78 bf=0.78 | Fold 5/10 | trn=720000 val=80000\n"
          ]
        },
        {
          "output_type": "stream",
          "name": "stdout",
          "text": [
            "Training until validation scores don't improve for 200 rounds\n"
          ]
        },
        {
          "output_type": "stream",
          "name": "stdout",
          "text": [
            "[200]\ttrain's auc: 0.833776\tvalid's auc: 0.820789\n"
          ]
        },
        {
          "output_type": "stream",
          "name": "stdout",
          "text": [
            "[400]\ttrain's auc: 0.847934\tvalid's auc: 0.821613\n"
          ]
        },
        {
          "output_type": "stream",
          "name": "stdout",
          "text": [
            "[600]\ttrain's auc: 0.859773\tvalid's auc: 0.821345\n"
          ]
        },
        {
          "output_type": "stream",
          "name": "stdout",
          "text": [
            "Early stopping, best iteration is:\n[427]\ttrain's auc: 0.849608\tvalid's auc: 0.821617\n"
          ]
        },
        {
          "output_type": "stream",
          "name": "stdout",
          "text": [
            "[2025-09-12 02:15:18] [LGB unseen] seed=42 fold=4 AUC: 0.821617 | best_iter=427\n"
          ]
        },
        {
          "output_type": "stream",
          "name": "stdout",
          "text": [
            "[2025-09-12 02:15:18] [LGB unseen] seed=42 ff=0.78 bf=0.78 | Fold 6/10 | trn=720000 val=80000\n"
          ]
        },
        {
          "output_type": "stream",
          "name": "stdout",
          "text": [
            "Training until validation scores don't improve for 200 rounds\n"
          ]
        },
        {
          "output_type": "stream",
          "name": "stdout",
          "text": [
            "[200]\ttrain's auc: 0.834074\tvalid's auc: 0.816329\n"
          ]
        },
        {
          "output_type": "stream",
          "name": "stdout",
          "text": [
            "[400]\ttrain's auc: 0.848019\tvalid's auc: 0.817393\n"
          ]
        },
        {
          "output_type": "stream",
          "name": "stdout",
          "text": [
            "[600]\ttrain's auc: 0.860128\tvalid's auc: 0.817359\n"
          ]
        },
        {
          "output_type": "stream",
          "name": "stdout",
          "text": [
            "Early stopping, best iteration is:\n[470]\ttrain's auc: 0.852436\tvalid's auc: 0.817476\n"
          ]
        },
        {
          "output_type": "stream",
          "name": "stdout",
          "text": [
            "[2025-09-12 02:16:15] [LGB unseen] seed=42 fold=5 AUC: 0.817476 | best_iter=470\n"
          ]
        },
        {
          "output_type": "stream",
          "name": "stdout",
          "text": [
            "[2025-09-12 02:16:15] [LGB unseen] seed=42 ff=0.78 bf=0.78 | Fold 7/10 | trn=720000 val=80000\n"
          ]
        },
        {
          "output_type": "stream",
          "name": "stdout",
          "text": [
            "Training until validation scores don't improve for 200 rounds\n"
          ]
        },
        {
          "output_type": "stream",
          "name": "stdout",
          "text": [
            "[200]\ttrain's auc: 0.833941\tvalid's auc: 0.818487\n"
          ]
        },
        {
          "output_type": "stream",
          "name": "stdout",
          "text": [
            "[400]\ttrain's auc: 0.848062\tvalid's auc: 0.819378\n"
          ]
        },
        {
          "output_type": "stream",
          "name": "stdout",
          "text": [
            "[600]\ttrain's auc: 0.860086\tvalid's auc: 0.819257\n"
          ]
        },
        {
          "output_type": "stream",
          "name": "stdout",
          "text": [
            "Early stopping, best iteration is:\n[416]\ttrain's auc: 0.84906\tvalid's auc: 0.819422\n"
          ]
        },
        {
          "output_type": "stream",
          "name": "stdout",
          "text": [
            "[2025-09-12 02:17:07] [LGB unseen] seed=42 fold=6 AUC: 0.819422 | best_iter=416\n"
          ]
        },
        {
          "output_type": "stream",
          "name": "stdout",
          "text": [
            "[2025-09-12 02:17:07] [LGB unseen] seed=42 ff=0.78 bf=0.78 | Fold 8/10 | trn=720000 val=80000\n"
          ]
        },
        {
          "output_type": "stream",
          "name": "stdout",
          "text": [
            "Training until validation scores don't improve for 200 rounds\n"
          ]
        },
        {
          "output_type": "stream",
          "name": "stdout",
          "text": [
            "[200]\ttrain's auc: 0.833747\tvalid's auc: 0.817906\n"
          ]
        },
        {
          "output_type": "stream",
          "name": "stdout",
          "text": [
            "[400]\ttrain's auc: 0.847895\tvalid's auc: 0.818858\n"
          ]
        },
        {
          "output_type": "stream",
          "name": "stdout",
          "text": [
            "[600]\ttrain's auc: 0.860029\tvalid's auc: 0.818823\n"
          ]
        },
        {
          "output_type": "stream",
          "name": "stdout",
          "text": [
            "Early stopping, best iteration is:\n[473]\ttrain's auc: 0.852464\tvalid's auc: 0.819001\n"
          ]
        },
        {
          "output_type": "stream",
          "name": "stdout",
          "text": [
            "[2025-09-12 02:18:04] [LGB unseen] seed=42 fold=7 AUC: 0.819001 | best_iter=473\n"
          ]
        },
        {
          "output_type": "stream",
          "name": "stdout",
          "text": [
            "[2025-09-12 02:18:05] [LGB unseen] seed=42 ff=0.78 bf=0.78 | Fold 9/10 | trn=720000 val=80000\n"
          ]
        },
        {
          "output_type": "stream",
          "name": "stdout",
          "text": [
            "Training until validation scores don't improve for 200 rounds\n"
          ]
        },
        {
          "output_type": "stream",
          "name": "stdout",
          "text": [
            "[200]\ttrain's auc: 0.833877\tvalid's auc: 0.818354\n"
          ]
        },
        {
          "output_type": "stream",
          "name": "stdout",
          "text": [
            "[400]\ttrain's auc: 0.847995\tvalid's auc: 0.819339\n"
          ]
        },
        {
          "output_type": "stream",
          "name": "stdout",
          "text": [
            "[600]\ttrain's auc: 0.860057\tvalid's auc: 0.819231\n"
          ]
        },
        {
          "output_type": "stream",
          "name": "stdout",
          "text": [
            "Early stopping, best iteration is:\n[505]\ttrain's auc: 0.854487\tvalid's auc: 0.819412\n"
          ]
        },
        {
          "output_type": "stream",
          "name": "stdout",
          "text": [
            "[2025-09-12 02:19:04] [LGB unseen] seed=42 fold=8 AUC: 0.819412 | best_iter=505\n"
          ]
        },
        {
          "output_type": "stream",
          "name": "stdout",
          "text": [
            "[2025-09-12 02:19:04] [LGB unseen] seed=42 ff=0.78 bf=0.78 | Fold 10/10 | trn=720000 val=80000\n"
          ]
        },
        {
          "output_type": "stream",
          "name": "stdout",
          "text": [
            "Training until validation scores don't improve for 200 rounds\n"
          ]
        },
        {
          "output_type": "stream",
          "name": "stdout",
          "text": [
            "[200]\ttrain's auc: 0.83369\tvalid's auc: 0.819926\n"
          ]
        },
        {
          "output_type": "stream",
          "name": "stdout",
          "text": [
            "[400]\ttrain's auc: 0.847801\tvalid's auc: 0.821017\n"
          ]
        },
        {
          "output_type": "stream",
          "name": "stdout",
          "text": [
            "Early stopping, best iteration is:\n[354]\ttrain's auc: 0.844927\tvalid's auc: 0.821066\n"
          ]
        },
        {
          "output_type": "stream",
          "name": "stdout",
          "text": [
            "[2025-09-12 02:19:51] [LGB unseen] seed=42 fold=9 AUC: 0.821066 | best_iter=354\n"
          ]
        },
        {
          "output_type": "stream",
          "name": "stdout",
          "text": [
            "[2025-09-12 02:19:52] [LGB unseen] seed=42 OOF AUC: 0.819671 | elapsed=564.0s\n"
          ]
        },
        {
          "output_type": "stream",
          "name": "stdout",
          "text": [
            "[2025-09-12 02:19:53] [LGB unseen] Saved OOF/test preds for u42\n"
          ]
        },
        {
          "output_type": "stream",
          "name": "stdout",
          "text": [
            "[2025-09-12 02:19:53] [LGB unseen] seed=1337 ff=0.72 bf=0.72 | Fold 1/10 | trn=720000 val=80000\n"
          ]
        },
        {
          "output_type": "stream",
          "name": "stdout",
          "text": [
            "Training until validation scores don't improve for 200 rounds\n"
          ]
        },
        {
          "output_type": "stream",
          "name": "stdout",
          "text": [
            "[200]\ttrain's auc: 0.837943\tvalid's auc: 0.818113\n"
          ]
        },
        {
          "output_type": "stream",
          "name": "stdout",
          "text": [
            "[400]\ttrain's auc: 0.854583\tvalid's auc: 0.818745\n"
          ]
        },
        {
          "output_type": "stream",
          "name": "stdout",
          "text": [
            "[600]\ttrain's auc: 0.868883\tvalid's auc: 0.818734\n"
          ]
        },
        {
          "output_type": "stream",
          "name": "stdout",
          "text": [
            "Early stopping, best iteration is:\n[444]\ttrain's auc: 0.85783\tvalid's auc: 0.818785\n"
          ]
        },
        {
          "output_type": "stream",
          "name": "stdout",
          "text": [
            "[2025-09-12 02:20:51] [LGB unseen] seed=1337 fold=0 AUC: 0.818785 | best_iter=444\n"
          ]
        },
        {
          "output_type": "stream",
          "name": "stdout",
          "text": [
            "[2025-09-12 02:20:51] [LGB unseen] seed=1337 ff=0.72 bf=0.72 | Fold 2/10 | trn=720000 val=80000\n"
          ]
        },
        {
          "output_type": "stream",
          "name": "stdout",
          "text": [
            "Training until validation scores don't improve for 200 rounds\n"
          ]
        },
        {
          "output_type": "stream",
          "name": "stdout",
          "text": [
            "[200]\ttrain's auc: 0.838103\tvalid's auc: 0.818307\n"
          ]
        },
        {
          "output_type": "stream",
          "name": "stdout",
          "text": [
            "[400]\ttrain's auc: 0.854554\tvalid's auc: 0.818796\n"
          ]
        },
        {
          "output_type": "stream",
          "name": "stdout",
          "text": [
            "Early stopping, best iteration is:\n[396]\ttrain's auc: 0.854261\tvalid's auc: 0.818808\n"
          ]
        },
        {
          "output_type": "stream",
          "name": "stdout",
          "text": [
            "[2025-09-12 02:21:45] [LGB unseen] seed=1337 fold=1 AUC: 0.818808 | best_iter=396\n"
          ]
        },
        {
          "output_type": "stream",
          "name": "stdout",
          "text": [
            "[2025-09-12 02:21:46] [LGB unseen] seed=1337 ff=0.72 bf=0.72 | Fold 3/10 | trn=720000 val=80000\n"
          ]
        },
        {
          "output_type": "stream",
          "name": "stdout",
          "text": [
            "Training until validation scores don't improve for 200 rounds\n"
          ]
        },
        {
          "output_type": "stream",
          "name": "stdout",
          "text": [
            "[200]\ttrain's auc: 0.837586\tvalid's auc: 0.821122\n"
          ]
        },
        {
          "output_type": "stream",
          "name": "stdout",
          "text": [
            "[400]\ttrain's auc: 0.854324\tvalid's auc: 0.821551\n"
          ]
        },
        {
          "output_type": "stream",
          "name": "stdout",
          "text": [
            "Early stopping, best iteration is:\n[290]\ttrain's auc: 0.84563\tvalid's auc: 0.821763\n"
          ]
        },
        {
          "output_type": "stream",
          "name": "stdout",
          "text": [
            "[2025-09-12 02:22:30] [LGB unseen] seed=1337 fold=2 AUC: 0.821763 | best_iter=290\n"
          ]
        },
        {
          "output_type": "stream",
          "name": "stdout",
          "text": [
            "[2025-09-12 02:22:31] [LGB unseen] seed=1337 ff=0.72 bf=0.72 | Fold 4/10 | trn=720000 val=80000\n"
          ]
        },
        {
          "output_type": "stream",
          "name": "stdout",
          "text": [
            "Training until validation scores don't improve for 200 rounds\n"
          ]
        },
        {
          "output_type": "stream",
          "name": "stdout",
          "text": [
            "[200]\ttrain's auc: 0.837956\tvalid's auc: 0.818205\n"
          ]
        },
        {
          "output_type": "stream",
          "name": "stdout",
          "text": [
            "[400]\ttrain's auc: 0.854508\tvalid's auc: 0.818671\n"
          ]
        },
        {
          "output_type": "stream",
          "name": "stdout",
          "text": [
            "Early stopping, best iteration is:\n[366]\ttrain's auc: 0.85196\tvalid's auc: 0.818713\n"
          ]
        },
        {
          "output_type": "stream",
          "name": "stdout",
          "text": [
            "[2025-09-12 02:23:21] [LGB unseen] seed=1337 fold=3 AUC: 0.818713 | best_iter=366\n"
          ]
        },
        {
          "output_type": "stream",
          "name": "stdout",
          "text": [
            "[2025-09-12 02:23:21] [LGB unseen] seed=1337 ff=0.72 bf=0.72 | Fold 5/10 | trn=720000 val=80000\n"
          ]
        },
        {
          "output_type": "stream",
          "name": "stdout",
          "text": [
            "Training until validation scores don't improve for 200 rounds\n"
          ]
        },
        {
          "output_type": "stream",
          "name": "stdout",
          "text": [
            "[200]\ttrain's auc: 0.837681\tvalid's auc: 0.820793\n"
          ]
        },
        {
          "output_type": "stream",
          "name": "stdout",
          "text": [
            "[400]\ttrain's auc: 0.854343\tvalid's auc: 0.820997\n"
          ]
        },
        {
          "output_type": "stream",
          "name": "stdout",
          "text": [
            "Early stopping, best iteration is:\n[250]\ttrain's auc: 0.842225\tvalid's auc: 0.821088\n"
          ]
        },
        {
          "output_type": "stream",
          "name": "stdout",
          "text": [
            "[2025-09-12 02:24:03] [LGB unseen] seed=1337 fold=4 AUC: 0.821088 | best_iter=250\n"
          ]
        },
        {
          "output_type": "stream",
          "name": "stdout",
          "text": [
            "[2025-09-12 02:24:03] [LGB unseen] seed=1337 ff=0.72 bf=0.72 | Fold 6/10 | trn=720000 val=80000\n"
          ]
        },
        {
          "output_type": "stream",
          "name": "stdout",
          "text": [
            "Training until validation scores don't improve for 200 rounds\n"
          ]
        },
        {
          "output_type": "stream",
          "name": "stdout",
          "text": [
            "[200]\ttrain's auc: 0.838128\tvalid's auc: 0.816824\n"
          ]
        },
        {
          "output_type": "stream",
          "name": "stdout",
          "text": [
            "[400]\ttrain's auc: 0.854706\tvalid's auc: 0.817204\n"
          ]
        },
        {
          "output_type": "stream",
          "name": "stdout",
          "text": [
            "Early stopping, best iteration is:\n[317]\ttrain's auc: 0.84825\tvalid's auc: 0.817253\n"
          ]
        },
        {
          "output_type": "stream",
          "name": "stdout",
          "text": [
            "[2025-09-12 02:24:53] [LGB unseen] seed=1337 fold=5 AUC: 0.817253 | best_iter=317\n"
          ]
        },
        {
          "output_type": "stream",
          "name": "stdout",
          "text": [
            "[2025-09-12 02:24:54] [LGB unseen] seed=1337 ff=0.72 bf=0.72 | Fold 7/10 | trn=720000 val=80000\n"
          ]
        },
        {
          "output_type": "stream",
          "name": "stdout",
          "text": [
            "Training until validation scores don't improve for 200 rounds\n"
          ]
        },
        {
          "output_type": "stream",
          "name": "stdout",
          "text": [
            "[200]\ttrain's auc: 0.837967\tvalid's auc: 0.818953\n"
          ]
        },
        {
          "output_type": "stream",
          "name": "stdout",
          "text": [
            "[400]\ttrain's auc: 0.854592\tvalid's auc: 0.819357\n"
          ]
        },
        {
          "output_type": "stream",
          "name": "stdout",
          "text": [
            "Early stopping, best iteration is:\n[373]\ttrain's auc: 0.852496\tvalid's auc: 0.819496\n"
          ]
        },
        {
          "output_type": "stream",
          "name": "stdout",
          "text": [
            "[2025-09-12 02:25:44] [LGB unseen] seed=1337 fold=6 AUC: 0.819496 | best_iter=373\n"
          ]
        },
        {
          "output_type": "stream",
          "name": "stdout",
          "text": [
            "[2025-09-12 02:25:45] [LGB unseen] seed=1337 ff=0.72 bf=0.72 | Fold 8/10 | trn=720000 val=80000\n"
          ]
        },
        {
          "output_type": "stream",
          "name": "stdout",
          "text": [
            "Training until validation scores don't improve for 200 rounds\n"
          ]
        },
        {
          "output_type": "stream",
          "name": "stdout",
          "text": [
            "[200]\ttrain's auc: 0.837905\tvalid's auc: 0.818009\n"
          ]
        },
        {
          "output_type": "stream",
          "name": "stdout",
          "text": [
            "[400]\ttrain's auc: 0.854588\tvalid's auc: 0.818342\n"
          ]
        },
        {
          "output_type": "stream",
          "name": "stdout",
          "text": [
            "Early stopping, best iteration is:\n[288]\ttrain's auc: 0.84564\tvalid's auc: 0.818481\n"
          ]
        },
        {
          "output_type": "stream",
          "name": "stdout",
          "text": [
            "[2025-09-12 02:26:29] [LGB unseen] seed=1337 fold=7 AUC: 0.818481 | best_iter=288\n"
          ]
        },
        {
          "output_type": "stream",
          "name": "stdout",
          "text": [
            "[2025-09-12 02:26:29] [LGB unseen] seed=1337 ff=0.72 bf=0.72 | Fold 9/10 | trn=720000 val=80000\n"
          ]
        },
        {
          "output_type": "stream",
          "name": "stdout",
          "text": [
            "Training until validation scores don't improve for 200 rounds\n"
          ]
        },
        {
          "output_type": "stream",
          "name": "stdout",
          "text": [
            "[200]\ttrain's auc: 0.837912\tvalid's auc: 0.818556\n"
          ]
        },
        {
          "output_type": "stream",
          "name": "stdout",
          "text": [
            "[400]\ttrain's auc: 0.854544\tvalid's auc: 0.819212\n"
          ]
        },
        {
          "output_type": "stream",
          "name": "stdout",
          "text": [
            "Early stopping, best iteration is:\n[392]\ttrain's auc: 0.853945\tvalid's auc: 0.819263\n"
          ]
        },
        {
          "output_type": "stream",
          "name": "stdout",
          "text": [
            "[2025-09-12 02:27:23] [LGB unseen] seed=1337 fold=8 AUC: 0.819263 | best_iter=392\n"
          ]
        },
        {
          "output_type": "stream",
          "name": "stdout",
          "text": [
            "[2025-09-12 02:27:24] [LGB unseen] seed=1337 ff=0.72 bf=0.72 | Fold 10/10 | trn=720000 val=80000\n"
          ]
        },
        {
          "output_type": "stream",
          "name": "stdout",
          "text": [
            "Training until validation scores don't improve for 200 rounds\n"
          ]
        },
        {
          "output_type": "stream",
          "name": "stdout",
          "text": [
            "[200]\ttrain's auc: 0.837794\tvalid's auc: 0.820197\n"
          ]
        },
        {
          "output_type": "stream",
          "name": "stdout",
          "text": [
            "[400]\ttrain's auc: 0.854457\tvalid's auc: 0.820303\n"
          ]
        },
        {
          "output_type": "stream",
          "name": "stdout",
          "text": [
            "Early stopping, best iteration is:\n[346]\ttrain's auc: 0.850263\tvalid's auc: 0.820547\n"
          ]
        },
        {
          "output_type": "stream",
          "name": "stdout",
          "text": [
            "[2025-09-12 02:28:13] [LGB unseen] seed=1337 fold=9 AUC: 0.820547 | best_iter=346\n"
          ]
        },
        {
          "output_type": "stream",
          "name": "stdout",
          "text": [
            "[2025-09-12 02:28:14] [LGB unseen] seed=1337 OOF AUC: 0.819391 | elapsed=500.9s\n"
          ]
        },
        {
          "output_type": "stream",
          "name": "stdout",
          "text": [
            "[2025-09-12 02:28:15] [LGB unseen] Saved OOF/test preds for u1337\n"
          ]
        },
        {
          "output_type": "stream",
          "name": "stdout",
          "text": [
            "[2025-09-12 02:28:15] [LGB unseen] seed=2025 ff=0.83 bf=0.75 | Fold 1/10 | trn=720000 val=80000\n"
          ]
        },
        {
          "output_type": "stream",
          "name": "stdout",
          "text": [
            "Training until validation scores don't improve for 200 rounds\n"
          ]
        },
        {
          "output_type": "stream",
          "name": "stdout",
          "text": [
            "[200]\ttrain's auc: 0.830933\tvalid's auc: 0.817653\n"
          ]
        },
        {
          "output_type": "stream",
          "name": "stdout",
          "text": [
            "[400]\ttrain's auc: 0.843401\tvalid's auc: 0.819153\n"
          ]
        },
        {
          "output_type": "stream",
          "name": "stdout",
          "text": [
            "[600]\ttrain's auc: 0.853753\tvalid's auc: 0.819267\n"
          ]
        },
        {
          "output_type": "stream",
          "name": "stdout",
          "text": [
            "Early stopping, best iteration is:\n[525]\ttrain's auc: 0.850023\tvalid's auc: 0.819338\n"
          ]
        },
        {
          "output_type": "stream",
          "name": "stdout",
          "text": [
            "[2025-09-12 02:29:14] [LGB unseen] seed=2025 fold=0 AUC: 0.819338 | best_iter=525\n"
          ]
        },
        {
          "output_type": "stream",
          "name": "stdout",
          "text": [
            "[2025-09-12 02:29:14] [LGB unseen] seed=2025 ff=0.83 bf=0.75 | Fold 2/10 | trn=720000 val=80000\n"
          ]
        },
        {
          "output_type": "stream",
          "name": "stdout",
          "text": [
            "Training until validation scores don't improve for 200 rounds\n"
          ]
        },
        {
          "output_type": "stream",
          "name": "stdout",
          "text": [
            "[200]\ttrain's auc: 0.831034\tvalid's auc: 0.817579\n"
          ]
        },
        {
          "output_type": "stream",
          "name": "stdout",
          "text": [
            "[400]\ttrain's auc: 0.843387\tvalid's auc: 0.818753\n"
          ]
        },
        {
          "output_type": "stream",
          "name": "stdout",
          "text": [
            "[600]\ttrain's auc: 0.853764\tvalid's auc: 0.818754\n"
          ]
        },
        {
          "output_type": "stream",
          "name": "stdout",
          "text": [
            "Early stopping, best iteration is:\n[552]\ttrain's auc: 0.85136\tvalid's auc: 0.818787\n"
          ]
        },
        {
          "output_type": "stream",
          "name": "stdout",
          "text": [
            "[2025-09-12 02:30:14] [LGB unseen] seed=2025 fold=1 AUC: 0.818787 | best_iter=552\n"
          ]
        },
        {
          "output_type": "stream",
          "name": "stdout",
          "text": [
            "[2025-09-12 02:30:14] [LGB unseen] seed=2025 ff=0.83 bf=0.75 | Fold 3/10 | trn=720000 val=80000\n"
          ]
        },
        {
          "output_type": "stream",
          "name": "stdout",
          "text": [
            "Training until validation scores don't improve for 200 rounds\n"
          ]
        },
        {
          "output_type": "stream",
          "name": "stdout",
          "text": [
            "[200]\ttrain's auc: 0.830691\tvalid's auc: 0.820852\n"
          ]
        },
        {
          "output_type": "stream",
          "name": "stdout",
          "text": [
            "[400]\ttrain's auc: 0.843148\tvalid's auc: 0.822277\n"
          ]
        },
        {
          "output_type": "stream",
          "name": "stdout",
          "text": [
            "[600]\ttrain's auc: 0.853614\tvalid's auc: 0.822235\n"
          ]
        },
        {
          "output_type": "stream",
          "name": "stdout",
          "text": [
            "Early stopping, best iteration is:\n[436]\ttrain's auc: 0.84512\tvalid's auc: 0.822294\n"
          ]
        },
        {
          "output_type": "stream",
          "name": "stdout",
          "text": [
            "[2025-09-12 02:31:07] [LGB unseen] seed=2025 fold=2 AUC: 0.822294 | best_iter=436\n"
          ]
        },
        {
          "output_type": "stream",
          "name": "stdout",
          "text": [
            "[2025-09-12 02:31:08] [LGB unseen] seed=2025 ff=0.83 bf=0.75 | Fold 4/10 | trn=720000 val=80000\n"
          ]
        },
        {
          "output_type": "stream",
          "name": "stdout",
          "text": [
            "Training until validation scores don't improve for 200 rounds\n"
          ]
        },
        {
          "output_type": "stream",
          "name": "stdout",
          "text": [
            "[200]\ttrain's auc: 0.831055\tvalid's auc: 0.817578\n"
          ]
        },
        {
          "output_type": "stream",
          "name": "stdout",
          "text": [
            "[400]\ttrain's auc: 0.843432\tvalid's auc: 0.818778\n"
          ]
        },
        {
          "output_type": "stream",
          "name": "stdout",
          "text": [
            "[600]\ttrain's auc: 0.853818\tvalid's auc: 0.818922\n"
          ]
        },
        {
          "output_type": "stream",
          "name": "stdout",
          "text": [
            "Early stopping, best iteration is:\n[554]\ttrain's auc: 0.851548\tvalid's auc: 0.818929\n"
          ]
        },
        {
          "output_type": "stream",
          "name": "stdout",
          "text": [
            "[2025-09-12 02:32:07] [LGB unseen] seed=2025 fold=3 AUC: 0.818929 | best_iter=554\n"
          ]
        },
        {
          "output_type": "stream",
          "name": "stdout",
          "text": [
            "[2025-09-12 02:32:07] [LGB unseen] seed=2025 ff=0.83 bf=0.75 | Fold 5/10 | trn=720000 val=80000\n"
          ]
        },
        {
          "output_type": "stream",
          "name": "stdout",
          "text": [
            "Training until validation scores don't improve for 200 rounds\n"
          ]
        },
        {
          "output_type": "stream",
          "name": "stdout",
          "text": [
            "[200]\ttrain's auc: 0.830774\tvalid's auc: 0.820466\n"
          ]
        },
        {
          "output_type": "stream",
          "name": "stdout",
          "text": [
            "[400]\ttrain's auc: 0.843144\tvalid's auc: 0.821358\n"
          ]
        },
        {
          "output_type": "stream",
          "name": "stdout",
          "text": [
            "[600]\ttrain's auc: 0.853633\tvalid's auc: 0.821375\n"
          ]
        },
        {
          "output_type": "stream",
          "name": "stdout",
          "text": [
            "Early stopping, best iteration is:\n[551]\ttrain's auc: 0.851147\tvalid's auc: 0.821422\n"
          ]
        },
        {
          "output_type": "stream",
          "name": "stdout",
          "text": [
            "[2025-09-12 02:33:06] [LGB unseen] seed=2025 fold=4 AUC: 0.821422 | best_iter=551\n"
          ]
        },
        {
          "output_type": "stream",
          "name": "stdout",
          "text": [
            "[2025-09-12 02:33:06] [LGB unseen] seed=2025 ff=0.83 bf=0.75 | Fold 6/10 | trn=720000 val=80000\n"
          ]
        },
        {
          "output_type": "stream",
          "name": "stdout",
          "text": [
            "Training until validation scores don't improve for 200 rounds\n"
          ]
        },
        {
          "output_type": "stream",
          "name": "stdout",
          "text": [
            "[200]\ttrain's auc: 0.831159\tvalid's auc: 0.816016\n"
          ]
        },
        {
          "output_type": "stream",
          "name": "stdout",
          "text": [
            "[400]\ttrain's auc: 0.843549\tvalid's auc: 0.817237\n"
          ]
        },
        {
          "output_type": "stream",
          "name": "stdout",
          "text": [
            "[600]\ttrain's auc: 0.853917\tvalid's auc: 0.817407\n"
          ]
        },
        {
          "output_type": "stream",
          "name": "stdout",
          "text": [
            "[800]\ttrain's auc: 0.863453\tvalid's auc: 0.817168\n"
          ]
        },
        {
          "output_type": "stream",
          "name": "stdout",
          "text": [
            "Early stopping, best iteration is:\n[639]\ttrain's auc: 0.855815\tvalid's auc: 0.817429\n"
          ]
        },
        {
          "output_type": "stream",
          "name": "stdout",
          "text": [
            "[2025-09-12 02:34:11] [LGB unseen] seed=2025 fold=5 AUC: 0.817429 | best_iter=639\n"
          ]
        },
        {
          "output_type": "stream",
          "name": "stdout",
          "text": [
            "[2025-09-12 02:34:12] [LGB unseen] seed=2025 ff=0.83 bf=0.75 | Fold 7/10 | trn=720000 val=80000\n"
          ]
        },
        {
          "output_type": "stream",
          "name": "stdout",
          "text": [
            "Training until validation scores don't improve for 200 rounds\n"
          ]
        },
        {
          "output_type": "stream",
          "name": "stdout",
          "text": [
            "[200]\ttrain's auc: 0.830988\tvalid's auc: 0.818487\n"
          ]
        },
        {
          "output_type": "stream",
          "name": "stdout",
          "text": [
            "[400]\ttrain's auc: 0.843466\tvalid's auc: 0.819605\n"
          ]
        },
        {
          "output_type": "stream",
          "name": "stdout",
          "text": [
            "[600]\ttrain's auc: 0.853868\tvalid's auc: 0.819526\n"
          ]
        },
        {
          "output_type": "stream",
          "name": "stdout",
          "text": [
            "Early stopping, best iteration is:\n[438]\ttrain's auc: 0.845604\tvalid's auc: 0.81968\n"
          ]
        },
        {
          "output_type": "stream",
          "name": "stdout",
          "text": [
            "[2025-09-12 02:35:10] [LGB unseen] seed=2025 fold=6 AUC: 0.819680 | best_iter=438\n"
          ]
        },
        {
          "output_type": "stream",
          "name": "stdout",
          "text": [
            "[2025-09-12 02:35:10] [LGB unseen] seed=2025 ff=0.83 bf=0.75 | Fold 8/10 | trn=720000 val=80000\n"
          ]
        },
        {
          "output_type": "stream",
          "name": "stdout",
          "text": [
            "Training until validation scores don't improve for 200 rounds\n"
          ]
        },
        {
          "output_type": "stream",
          "name": "stdout",
          "text": [
            "[200]\ttrain's auc: 0.830928\tvalid's auc: 0.817483\n"
          ]
        },
        {
          "output_type": "stream",
          "name": "stdout",
          "text": [
            "[400]\ttrain's auc: 0.843359\tvalid's auc: 0.818657\n"
          ]
        },
        {
          "output_type": "stream",
          "name": "stdout",
          "text": [
            "[600]\ttrain's auc: 0.853726\tvalid's auc: 0.818609\n"
          ]
        },
        {
          "output_type": "stream",
          "name": "stdout",
          "text": [
            "Early stopping, best iteration is:\n[473]\ttrain's auc: 0.847232\tvalid's auc: 0.81878\n"
          ]
        },
        {
          "output_type": "stream",
          "name": "stdout",
          "text": [
            "[2025-09-12 02:36:04] [LGB unseen] seed=2025 fold=7 AUC: 0.818780 | best_iter=473\n"
          ]
        },
        {
          "output_type": "stream",
          "name": "stdout",
          "text": [
            "[2025-09-12 02:36:05] [LGB unseen] seed=2025 ff=0.83 bf=0.75 | Fold 9/10 | trn=720000 val=80000\n"
          ]
        },
        {
          "output_type": "stream",
          "name": "stdout",
          "text": [
            "Training until validation scores don't improve for 200 rounds\n"
          ]
        },
        {
          "output_type": "stream",
          "name": "stdout",
          "text": [
            "[200]\ttrain's auc: 0.830992\tvalid's auc: 0.818017\n"
          ]
        },
        {
          "output_type": "stream",
          "name": "stdout",
          "text": [
            "[400]\ttrain's auc: 0.843495\tvalid's auc: 0.81935\n"
          ]
        },
        {
          "output_type": "stream",
          "name": "stdout",
          "text": [
            "[600]\ttrain's auc: 0.853935\tvalid's auc: 0.819305\n"
          ]
        },
        {
          "output_type": "stream",
          "name": "stdout",
          "text": [
            "Early stopping, best iteration is:\n[471]\ttrain's auc: 0.847353\tvalid's auc: 0.819447\n"
          ]
        },
        {
          "output_type": "stream",
          "name": "stdout",
          "text": [
            "[2025-09-12 02:36:59] [LGB unseen] seed=2025 fold=8 AUC: 0.819447 | best_iter=471\n"
          ]
        },
        {
          "output_type": "stream",
          "name": "stdout",
          "text": [
            "[2025-09-12 02:36:59] [LGB unseen] seed=2025 ff=0.83 bf=0.75 | Fold 10/10 | trn=720000 val=80000\n"
          ]
        },
        {
          "output_type": "stream",
          "name": "stdout",
          "text": [
            "Training until validation scores don't improve for 200 rounds\n"
          ]
        },
        {
          "output_type": "stream",
          "name": "stdout",
          "text": [
            "[200]\ttrain's auc: 0.830757\tvalid's auc: 0.819186\n"
          ]
        },
        {
          "output_type": "stream",
          "name": "stdout",
          "text": [
            "[400]\ttrain's auc: 0.843224\tvalid's auc: 0.820602\n"
          ]
        },
        {
          "output_type": "stream",
          "name": "stdout",
          "text": [
            "[600]\ttrain's auc: 0.85366\tvalid's auc: 0.820743\n"
          ]
        },
        {
          "output_type": "stream",
          "name": "stdout",
          "text": [
            "Early stopping, best iteration is:\n[508]\ttrain's auc: 0.848913\tvalid's auc: 0.820853\n"
          ]
        },
        {
          "output_type": "stream",
          "name": "stdout",
          "text": [
            "[2025-09-12 02:37:57] [LGB unseen] seed=2025 fold=9 AUC: 0.820853 | best_iter=508\n"
          ]
        },
        {
          "output_type": "stream",
          "name": "stdout",
          "text": [
            "[2025-09-12 02:37:58] [LGB unseen] seed=2025 OOF AUC: 0.819674 | elapsed=582.5s\n"
          ]
        },
        {
          "output_type": "stream",
          "name": "stdout",
          "text": [
            "[2025-09-12 02:37:59] [LGB unseen] Saved OOF/test preds for u2025\n"
          ]
        },
        {
          "output_type": "stream",
          "name": "stdout",
          "text": [
            "[2025-09-12 02:37:59] [LGB unseen] seed=101 ff=0.7 bf=0.83 | Fold 1/10 | trn=720000 val=80000\n"
          ]
        },
        {
          "output_type": "stream",
          "name": "stdout",
          "text": [
            "Training until validation scores don't improve for 200 rounds\n"
          ]
        },
        {
          "output_type": "stream",
          "name": "stdout",
          "text": [
            "[200]\ttrain's auc: 0.836456\tvalid's auc: 0.818319\n"
          ]
        },
        {
          "output_type": "stream",
          "name": "stdout",
          "text": [
            "[400]\ttrain's auc: 0.851818\tvalid's auc: 0.819125\n"
          ]
        },
        {
          "output_type": "stream",
          "name": "stdout",
          "text": [
            "Early stopping, best iteration is:\n[354]\ttrain's auc: 0.848504\tvalid's auc: 0.8192\n"
          ]
        },
        {
          "output_type": "stream",
          "name": "stdout",
          "text": [
            "[2025-09-12 02:38:51] [LGB unseen] seed=101 fold=0 AUC: 0.819200 | best_iter=354\n"
          ]
        },
        {
          "output_type": "stream",
          "name": "stdout",
          "text": [
            "[2025-09-12 02:38:51] [LGB unseen] seed=101 ff=0.7 bf=0.83 | Fold 2/10 | trn=720000 val=80000\n"
          ]
        },
        {
          "output_type": "stream",
          "name": "stdout",
          "text": [
            "Training until validation scores don't improve for 200 rounds\n"
          ]
        },
        {
          "output_type": "stream",
          "name": "stdout",
          "text": [
            "[200]\ttrain's auc: 0.836591\tvalid's auc: 0.818246\n"
          ]
        },
        {
          "output_type": "stream",
          "name": "stdout",
          "text": [
            "[400]\ttrain's auc: 0.851886\tvalid's auc: 0.818982\n"
          ]
        },
        {
          "output_type": "stream",
          "name": "stdout",
          "text": [
            "Early stopping, best iteration is:\n[335]\ttrain's auc: 0.847228\tvalid's auc: 0.81902\n"
          ]
        },
        {
          "output_type": "stream",
          "name": "stdout",
          "text": [
            "[2025-09-12 02:39:41] [LGB unseen] seed=101 fold=1 AUC: 0.819020 | best_iter=335\n"
          ]
        },
        {
          "output_type": "stream",
          "name": "stdout",
          "text": [
            "[2025-09-12 02:39:41] [LGB unseen] seed=101 ff=0.7 bf=0.83 | Fold 3/10 | trn=720000 val=80000\n"
          ]
        },
        {
          "output_type": "stream",
          "name": "stdout",
          "text": [
            "Training until validation scores don't improve for 200 rounds\n"
          ]
        },
        {
          "output_type": "stream",
          "name": "stdout",
          "text": [
            "[200]\ttrain's auc: 0.836362\tvalid's auc: 0.821425\n"
          ]
        },
        {
          "output_type": "stream",
          "name": "stdout",
          "text": [
            "[400]\ttrain's auc: 0.851841\tvalid's auc: 0.822109\n"
          ]
        },
        {
          "output_type": "stream",
          "name": "stdout",
          "text": [
            "Early stopping, best iteration is:\n[391]\ttrain's auc: 0.851205\tvalid's auc: 0.822117\n"
          ]
        },
        {
          "output_type": "stream",
          "name": "stdout",
          "text": [
            "[2025-09-12 02:40:35] [LGB unseen] seed=101 fold=2 AUC: 0.822117 | best_iter=391\n"
          ]
        },
        {
          "output_type": "stream",
          "name": "stdout",
          "text": [
            "[2025-09-12 02:40:36] [LGB unseen] seed=101 ff=0.7 bf=0.83 | Fold 4/10 | trn=720000 val=80000\n"
          ]
        },
        {
          "output_type": "stream",
          "name": "stdout",
          "text": [
            "Training until validation scores don't improve for 200 rounds\n"
          ]
        },
        {
          "output_type": "stream",
          "name": "stdout",
          "text": [
            "[200]\ttrain's auc: 0.836774\tvalid's auc: 0.818391\n"
          ]
        },
        {
          "output_type": "stream",
          "name": "stdout",
          "text": [
            "[400]\ttrain's auc: 0.852122\tvalid's auc: 0.819082\n"
          ]
        },
        {
          "output_type": "stream",
          "name": "stdout",
          "text": [
            "Early stopping, best iteration is:\n[364]\ttrain's auc: 0.849535\tvalid's auc: 0.819138\n"
          ]
        },
        {
          "output_type": "stream",
          "name": "stdout",
          "text": [
            "[2025-09-12 02:41:21] [LGB unseen] seed=101 fold=3 AUC: 0.819138 | best_iter=364\n"
          ]
        },
        {
          "output_type": "stream",
          "name": "stdout",
          "text": [
            "[2025-09-12 02:41:22] [LGB unseen] seed=101 ff=0.7 bf=0.83 | Fold 5/10 | trn=720000 val=80000\n"
          ]
        },
        {
          "output_type": "stream",
          "name": "stdout",
          "text": [
            "Training until validation scores don't improve for 200 rounds\n"
          ]
        },
        {
          "output_type": "stream",
          "name": "stdout",
          "text": [
            "[200]\ttrain's auc: 0.836398\tvalid's auc: 0.820969\n"
          ]
        },
        {
          "output_type": "stream",
          "name": "stdout",
          "text": [
            "[400]\ttrain's auc: 0.851953\tvalid's auc: 0.821365\n"
          ]
        },
        {
          "output_type": "stream",
          "name": "stdout",
          "text": [
            "Early stopping, best iteration is:\n[352]\ttrain's auc: 0.848482\tvalid's auc: 0.821515\n"
          ]
        },
        {
          "output_type": "stream",
          "name": "stdout",
          "text": [
            "[2025-09-12 02:42:12] [LGB unseen] seed=101 fold=4 AUC: 0.821515 | best_iter=352\n"
          ]
        },
        {
          "output_type": "stream",
          "name": "stdout",
          "text": [
            "[2025-09-12 02:42:13] [LGB unseen] seed=101 ff=0.7 bf=0.83 | Fold 6/10 | trn=720000 val=80000\n"
          ]
        },
        {
          "output_type": "stream",
          "name": "stdout",
          "text": [
            "Training until validation scores don't improve for 200 rounds\n"
          ]
        },
        {
          "output_type": "stream",
          "name": "stdout",
          "text": [
            "[200]\ttrain's auc: 0.836881\tvalid's auc: 0.81669\n"
          ]
        },
        {
          "output_type": "stream",
          "name": "stdout",
          "text": [
            "[400]\ttrain's auc: 0.852264\tvalid's auc: 0.817305\n"
          ]
        },
        {
          "output_type": "stream",
          "name": "stdout",
          "text": [
            "Early stopping, best iteration is:\n[366]\ttrain's auc: 0.849902\tvalid's auc: 0.817366\n"
          ]
        },
        {
          "output_type": "stream",
          "name": "stdout",
          "text": [
            "[2025-09-12 02:43:05] [LGB unseen] seed=101 fold=5 AUC: 0.817366 | best_iter=366\n"
          ]
        },
        {
          "output_type": "stream",
          "name": "stdout",
          "text": [
            "[2025-09-12 02:43:05] [LGB unseen] seed=101 ff=0.7 bf=0.83 | Fold 7/10 | trn=720000 val=80000\n"
          ]
        },
        {
          "output_type": "stream",
          "name": "stdout",
          "text": [
            "Training until validation scores don't improve for 200 rounds\n"
          ]
        },
        {
          "output_type": "stream",
          "name": "stdout",
          "text": [
            "[200]\ttrain's auc: 0.836512\tvalid's auc: 0.818864\n"
          ]
        },
        {
          "output_type": "stream",
          "name": "stdout",
          "text": [
            "[400]\ttrain's auc: 0.851987\tvalid's auc: 0.819395\n"
          ]
        },
        {
          "output_type": "stream",
          "name": "stdout",
          "text": [
            "[600]\ttrain's auc: 0.865292\tvalid's auc: 0.819216\n"
          ]
        },
        {
          "output_type": "stream",
          "name": "stdout",
          "text": [
            "Early stopping, best iteration is:\n[420]\ttrain's auc: 0.853383\tvalid's auc: 0.819481\n"
          ]
        },
        {
          "output_type": "stream",
          "name": "stdout",
          "text": [
            "[2025-09-12 02:44:01] [LGB unseen] seed=101 fold=6 AUC: 0.819481 | best_iter=420\n"
          ]
        },
        {
          "output_type": "stream",
          "name": "stdout",
          "text": [
            "[2025-09-12 02:44:01] [LGB unseen] seed=101 ff=0.7 bf=0.83 | Fold 8/10 | trn=720000 val=80000\n"
          ]
        },
        {
          "output_type": "stream",
          "name": "stdout",
          "text": [
            "Training until validation scores don't improve for 200 rounds\n"
          ]
        },
        {
          "output_type": "stream",
          "name": "stdout",
          "text": [
            "[200]\ttrain's auc: 0.836735\tvalid's auc: 0.818417\n"
          ]
        },
        {
          "output_type": "stream",
          "name": "stdout",
          "text": [
            "[400]\ttrain's auc: 0.852124\tvalid's auc: 0.81885\n"
          ]
        },
        {
          "output_type": "stream",
          "name": "stdout",
          "text": [
            "Early stopping, best iteration is:\n[337]\ttrain's auc: 0.847672\tvalid's auc: 0.818987\n"
          ]
        },
        {
          "output_type": "stream",
          "name": "stdout",
          "text": [
            "[2025-09-12 02:44:54] [LGB unseen] seed=101 fold=7 AUC: 0.818987 | best_iter=337\n"
          ]
        },
        {
          "output_type": "stream",
          "name": "stdout",
          "text": [
            "[2025-09-12 02:44:55] [LGB unseen] seed=101 ff=0.7 bf=0.83 | Fold 9/10 | trn=720000 val=80000\n"
          ]
        },
        {
          "output_type": "stream",
          "name": "stdout",
          "text": [
            "Training until validation scores don't improve for 200 rounds\n"
          ]
        },
        {
          "output_type": "stream",
          "name": "stdout",
          "text": [
            "[200]\ttrain's auc: 0.836445\tvalid's auc: 0.818492\n"
          ]
        },
        {
          "output_type": "stream",
          "name": "stdout",
          "text": [
            "[400]\ttrain's auc: 0.851961\tvalid's auc: 0.819271\n"
          ]
        },
        {
          "output_type": "stream",
          "name": "stdout",
          "text": [
            "[600]\ttrain's auc: 0.865232\tvalid's auc: 0.819023\n"
          ]
        },
        {
          "output_type": "stream",
          "name": "stdout",
          "text": [
            "Early stopping, best iteration is:\n[406]\ttrain's auc: 0.852392\tvalid's auc: 0.819295\n"
          ]
        },
        {
          "output_type": "stream",
          "name": "stdout",
          "text": [
            "[2025-09-12 02:45:49] [LGB unseen] seed=101 fold=8 AUC: 0.819295 | best_iter=406\n"
          ]
        },
        {
          "output_type": "stream",
          "name": "stdout",
          "text": [
            "[2025-09-12 02:45:49] [LGB unseen] seed=101 ff=0.7 bf=0.83 | Fold 10/10 | trn=720000 val=80000\n"
          ]
        },
        {
          "output_type": "stream",
          "name": "stdout",
          "text": [
            "Training until validation scores don't improve for 200 rounds\n"
          ]
        },
        {
          "output_type": "stream",
          "name": "stdout",
          "text": [
            "[200]\ttrain's auc: 0.836339\tvalid's auc: 0.820276\n"
          ]
        },
        {
          "output_type": "stream",
          "name": "stdout",
          "text": [
            "[400]\ttrain's auc: 0.851817\tvalid's auc: 0.82109\n"
          ]
        },
        {
          "output_type": "stream",
          "name": "stdout",
          "text": [
            "[600]\ttrain's auc: 0.865072\tvalid's auc: 0.820833\n"
          ]
        },
        {
          "output_type": "stream",
          "name": "stdout",
          "text": [
            "Early stopping, best iteration is:\n[409]\ttrain's auc: 0.852451\tvalid's auc: 0.8211\n"
          ]
        },
        {
          "output_type": "stream",
          "name": "stdout",
          "text": [
            "[2025-09-12 02:46:44] [LGB unseen] seed=101 fold=9 AUC: 0.821100 | best_iter=409\n"
          ]
        },
        {
          "output_type": "stream",
          "name": "stdout",
          "text": [
            "[2025-09-12 02:46:45] [LGB unseen] seed=101 OOF AUC: 0.819707 | elapsed=526.2s\n"
          ]
        },
        {
          "output_type": "stream",
          "name": "stdout",
          "text": [
            "[2025-09-12 02:46:46] [LGB unseen] Saved OOF/test preds for u101\n"
          ]
        },
        {
          "output_type": "stream",
          "name": "stdout",
          "text": [
            "[2025-09-12 02:46:46] [LGB unseen] seed=999 ff=0.8 bf=0.7 | Fold 1/10 | trn=720000 val=80000\n"
          ]
        },
        {
          "output_type": "stream",
          "name": "stdout",
          "text": [
            "Training until validation scores don't improve for 200 rounds\n"
          ]
        },
        {
          "output_type": "stream",
          "name": "stdout",
          "text": [
            "[200]\ttrain's auc: 0.829499\tvalid's auc: 0.81656\n"
          ]
        },
        {
          "output_type": "stream",
          "name": "stdout",
          "text": [
            "[400]\ttrain's auc: 0.841445\tvalid's auc: 0.818589\n"
          ]
        },
        {
          "output_type": "stream",
          "name": "stdout",
          "text": [
            "[600]\ttrain's auc: 0.851196\tvalid's auc: 0.818902\n"
          ]
        },
        {
          "output_type": "stream",
          "name": "stdout",
          "text": [
            "Early stopping, best iteration is:\n[594]\ttrain's auc: 0.850914\tvalid's auc: 0.81892\n"
          ]
        },
        {
          "output_type": "stream",
          "name": "stdout",
          "text": [
            "[2025-09-12 02:47:48] [LGB unseen] seed=999 fold=0 AUC: 0.818920 | best_iter=594\n"
          ]
        },
        {
          "output_type": "stream",
          "name": "stdout",
          "text": [
            "[2025-09-12 02:47:49] [LGB unseen] seed=999 ff=0.8 bf=0.7 | Fold 2/10 | trn=720000 val=80000\n"
          ]
        },
        {
          "output_type": "stream",
          "name": "stdout",
          "text": [
            "Training until validation scores don't improve for 200 rounds\n"
          ]
        },
        {
          "output_type": "stream",
          "name": "stdout",
          "text": [
            "[200]\ttrain's auc: 0.829679\tvalid's auc: 0.817092\n"
          ]
        },
        {
          "output_type": "stream",
          "name": "stdout",
          "text": [
            "[400]\ttrain's auc: 0.841717\tvalid's auc: 0.818655\n"
          ]
        },
        {
          "output_type": "stream",
          "name": "stdout",
          "text": [
            "[600]\ttrain's auc: 0.851558\tvalid's auc: 0.818801\n"
          ]
        },
        {
          "output_type": "stream",
          "name": "stdout",
          "text": [
            "[800]\ttrain's auc: 0.860456\tvalid's auc: 0.818726\n"
          ]
        },
        {
          "output_type": "stream",
          "name": "stdout",
          "text": [
            "Early stopping, best iteration is:\n[718]\ttrain's auc: 0.856873\tvalid's auc: 0.818865\n"
          ]
        },
        {
          "output_type": "stream",
          "name": "stdout",
          "text": [
            "[2025-09-12 02:48:59] [LGB unseen] seed=999 fold=1 AUC: 0.818865 | best_iter=718\n"
          ]
        },
        {
          "output_type": "stream",
          "name": "stdout",
          "text": [
            "[2025-09-12 02:49:00] [LGB unseen] seed=999 ff=0.8 bf=0.7 | Fold 3/10 | trn=720000 val=80000\n"
          ]
        },
        {
          "output_type": "stream",
          "name": "stdout",
          "text": [
            "Training until validation scores don't improve for 200 rounds\n"
          ]
        },
        {
          "output_type": "stream",
          "name": "stdout",
          "text": [
            "[200]\ttrain's auc: 0.829293\tvalid's auc: 0.820074\n"
          ]
        },
        {
          "output_type": "stream",
          "name": "stdout",
          "text": [
            "[400]\ttrain's auc: 0.841369\tvalid's auc: 0.822057\n"
          ]
        },
        {
          "output_type": "stream",
          "name": "stdout",
          "text": [
            "[600]\ttrain's auc: 0.8511\tvalid's auc: 0.822164\n"
          ]
        },
        {
          "output_type": "stream",
          "name": "stdout",
          "text": [
            "Early stopping, best iteration is:\n[530]\ttrain's auc: 0.847831\tvalid's auc: 0.82221\n"
          ]
        },
        {
          "output_type": "stream",
          "name": "stdout",
          "text": [
            "[2025-09-12 02:49:58] [LGB unseen] seed=999 fold=2 AUC: 0.822210 | best_iter=530\n"
          ]
        },
        {
          "output_type": "stream",
          "name": "stdout",
          "text": [
            "[2025-09-12 02:49:59] [LGB unseen] seed=999 ff=0.8 bf=0.7 | Fold 4/10 | trn=720000 val=80000\n"
          ]
        },
        {
          "output_type": "stream",
          "name": "stdout",
          "text": [
            "Training until validation scores don't improve for 200 rounds\n"
          ]
        },
        {
          "output_type": "stream",
          "name": "stdout",
          "text": [
            "[200]\ttrain's auc: 0.829708\tvalid's auc: 0.817399\n"
          ]
        },
        {
          "output_type": "stream",
          "name": "stdout",
          "text": [
            "[400]\ttrain's auc: 0.84158\tvalid's auc: 0.818829\n"
          ]
        },
        {
          "output_type": "stream",
          "name": "stdout",
          "text": [
            "[600]\ttrain's auc: 0.85142\tvalid's auc: 0.818934\n"
          ]
        },
        {
          "output_type": "stream",
          "name": "stdout",
          "text": [
            "Early stopping, best iteration is:\n[497]\ttrain's auc: 0.846453\tvalid's auc: 0.81896\n"
          ]
        },
        {
          "output_type": "stream",
          "name": "stdout",
          "text": [
            "[2025-09-12 02:50:54] [LGB unseen] seed=999 fold=3 AUC: 0.818960 | best_iter=497\n"
          ]
        },
        {
          "output_type": "stream",
          "name": "stdout",
          "text": [
            "[2025-09-12 02:50:55] [LGB unseen] seed=999 ff=0.8 bf=0.7 | Fold 5/10 | trn=720000 val=80000\n"
          ]
        },
        {
          "output_type": "stream",
          "name": "stdout",
          "text": [
            "Training until validation scores don't improve for 200 rounds\n"
          ]
        },
        {
          "output_type": "stream",
          "name": "stdout",
          "text": [
            "[200]\ttrain's auc: 0.8293\tvalid's auc: 0.81994\n"
          ]
        },
        {
          "output_type": "stream",
          "name": "stdout",
          "text": [
            "[400]\ttrain's auc: 0.841397\tvalid's auc: 0.821313\n"
          ]
        },
        {
          "output_type": "stream",
          "name": "stdout",
          "text": [
            "[600]\ttrain's auc: 0.851206\tvalid's auc: 0.821327\n"
          ]
        },
        {
          "output_type": "stream",
          "name": "stdout",
          "text": [
            "Early stopping, best iteration is:\n[476]\ttrain's auc: 0.845275\tvalid's auc: 0.821408\n"
          ]
        },
        {
          "output_type": "stream",
          "name": "stdout",
          "text": [
            "[2025-09-12 02:51:49] [LGB unseen] seed=999 fold=4 AUC: 0.821408 | best_iter=476\n"
          ]
        },
        {
          "output_type": "stream",
          "name": "stdout",
          "text": [
            "[2025-09-12 02:51:49] [LGB unseen] seed=999 ff=0.8 bf=0.7 | Fold 6/10 | trn=720000 val=80000\n"
          ]
        },
        {
          "output_type": "stream",
          "name": "stdout",
          "text": [
            "Training until validation scores don't improve for 200 rounds\n"
          ]
        },
        {
          "output_type": "stream",
          "name": "stdout",
          "text": [
            "[200]\ttrain's auc: 0.829793\tvalid's auc: 0.815575\n"
          ]
        },
        {
          "output_type": "stream",
          "name": "stdout",
          "text": [
            "[400]\ttrain's auc: 0.841667\tvalid's auc: 0.817185\n"
          ]
        },
        {
          "output_type": "stream",
          "name": "stdout",
          "text": [
            "[600]\ttrain's auc: 0.851412\tvalid's auc: 0.817463\n"
          ]
        },
        {
          "output_type": "stream",
          "name": "stdout",
          "text": [
            "[800]\ttrain's auc: 0.86035\tvalid's auc: 0.817428\n"
          ]
        },
        {
          "output_type": "stream",
          "name": "stdout",
          "text": [
            "Early stopping, best iteration is:\n[610]\ttrain's auc: 0.8519\tvalid's auc: 0.817494\n"
          ]
        },
        {
          "output_type": "stream",
          "name": "stdout",
          "text": [
            "[2025-09-12 02:52:52] [LGB unseen] seed=999 fold=5 AUC: 0.817494 | best_iter=610\n"
          ]
        },
        {
          "output_type": "stream",
          "name": "stdout",
          "text": [
            "[2025-09-12 02:52:53] [LGB unseen] seed=999 ff=0.8 bf=0.7 | Fold 7/10 | trn=720000 val=80000\n"
          ]
        },
        {
          "output_type": "stream",
          "name": "stdout",
          "text": [
            "Training until validation scores don't improve for 200 rounds\n"
          ]
        },
        {
          "output_type": "stream",
          "name": "stdout",
          "text": [
            "[200]\ttrain's auc: 0.829544\tvalid's auc: 0.817608\n"
          ]
        },
        {
          "output_type": "stream",
          "name": "stdout",
          "text": [
            "[400]\ttrain's auc: 0.841577\tvalid's auc: 0.819217\n"
          ]
        },
        {
          "output_type": "stream",
          "name": "stdout",
          "text": [
            "[600]\ttrain's auc: 0.851361\tvalid's auc: 0.819266\n"
          ]
        },
        {
          "output_type": "stream",
          "name": "stdout",
          "text": [
            "[800]\ttrain's auc: 0.860298\tvalid's auc: 0.819183\n"
          ]
        },
        {
          "output_type": "stream",
          "name": "stdout",
          "text": [
            "Early stopping, best iteration is:\n[637]\ttrain's auc: 0.853049\tvalid's auc: 0.819321\n"
          ]
        },
        {
          "output_type": "stream",
          "name": "stdout",
          "text": [
            "[2025-09-12 02:53:59] [LGB unseen] seed=999 fold=6 AUC: 0.819321 | best_iter=637\n"
          ]
        },
        {
          "output_type": "stream",
          "name": "stdout",
          "text": [
            "[2025-09-12 02:54:00] [LGB unseen] seed=999 ff=0.8 bf=0.7 | Fold 8/10 | trn=720000 val=80000\n"
          ]
        },
        {
          "output_type": "stream",
          "name": "stdout",
          "text": [
            "Training until validation scores don't improve for 200 rounds\n"
          ]
        },
        {
          "output_type": "stream",
          "name": "stdout",
          "text": [
            "[200]\ttrain's auc: 0.82953\tvalid's auc: 0.817134\n"
          ]
        },
        {
          "output_type": "stream",
          "name": "stdout",
          "text": [
            "[400]\ttrain's auc: 0.84159\tvalid's auc: 0.818662\n"
          ]
        },
        {
          "output_type": "stream",
          "name": "stdout",
          "text": [
            "[600]\ttrain's auc: 0.851343\tvalid's auc: 0.818495\n"
          ]
        },
        {
          "output_type": "stream",
          "name": "stdout",
          "text": [
            "Early stopping, best iteration is:\n[409]\ttrain's auc: 0.842079\tvalid's auc: 0.818686\n"
          ]
        },
        {
          "output_type": "stream",
          "name": "stdout",
          "text": [
            "[2025-09-12 02:54:53] [LGB unseen] seed=999 fold=7 AUC: 0.818686 | best_iter=409\n"
          ]
        },
        {
          "output_type": "stream",
          "name": "stdout",
          "text": [
            "[2025-09-12 02:54:53] [LGB unseen] seed=999 ff=0.8 bf=0.7 | Fold 9/10 | trn=720000 val=80000\n"
          ]
        },
        {
          "output_type": "stream",
          "name": "stdout",
          "text": [
            "Training until validation scores don't improve for 200 rounds\n"
          ]
        },
        {
          "output_type": "stream",
          "name": "stdout",
          "text": [
            "[200]\ttrain's auc: 0.829643\tvalid's auc: 0.817632\n"
          ]
        },
        {
          "output_type": "stream",
          "name": "stdout",
          "text": [
            "[400]\ttrain's auc: 0.841551\tvalid's auc: 0.818919\n"
          ]
        },
        {
          "output_type": "stream",
          "name": "stdout",
          "text": [
            "[600]\ttrain's auc: 0.851368\tvalid's auc: 0.819057\n"
          ]
        },
        {
          "output_type": "stream",
          "name": "stdout",
          "text": [
            "Early stopping, best iteration is:\n[520]\ttrain's auc: 0.847535\tvalid's auc: 0.819172\n"
          ]
        },
        {
          "output_type": "stream",
          "name": "stdout",
          "text": [
            "[2025-09-12 02:55:51] [LGB unseen] seed=999 fold=8 AUC: 0.819172 | best_iter=520\n"
          ]
        },
        {
          "output_type": "stream",
          "name": "stdout",
          "text": [
            "[2025-09-12 02:55:52] [LGB unseen] seed=999 ff=0.8 bf=0.7 | Fold 10/10 | trn=720000 val=80000\n"
          ]
        },
        {
          "output_type": "stream",
          "name": "stdout",
          "text": [
            "Training until validation scores don't improve for 200 rounds\n"
          ]
        },
        {
          "output_type": "stream",
          "name": "stdout",
          "text": [
            "[200]\ttrain's auc: 0.829445\tvalid's auc: 0.819265\n"
          ]
        },
        {
          "output_type": "stream",
          "name": "stdout",
          "text": [
            "[400]\ttrain's auc: 0.841296\tvalid's auc: 0.820982\n"
          ]
        },
        {
          "output_type": "stream",
          "name": "stdout",
          "text": [
            "[600]\ttrain's auc: 0.851095\tvalid's auc: 0.82096\n"
          ]
        },
        {
          "output_type": "stream",
          "name": "stdout",
          "text": [
            "Early stopping, best iteration is:\n[423]\ttrain's auc: 0.842489\tvalid's auc: 0.821059\n"
          ]
        },
        {
          "output_type": "stream",
          "name": "stdout",
          "text": [
            "[2025-09-12 02:56:42] [LGB unseen] seed=999 fold=9 AUC: 0.821059 | best_iter=423\n"
          ]
        },
        {
          "output_type": "stream",
          "name": "stdout",
          "text": [
            "[2025-09-12 02:56:42] [LGB unseen] seed=999 OOF AUC: 0.819582 | elapsed=596.3s\n"
          ]
        },
        {
          "output_type": "stream",
          "name": "stdout",
          "text": [
            "[2025-09-12 02:56:43] [LGB unseen] Saved OOF/test preds for u999\n"
          ]
        },
        {
          "output_type": "stream",
          "name": "stdout",
          "text": [
            "[2025-09-12 02:56:43] [LGB unseen] seed=7 ff=0.75 bf=0.8 | Fold 1/10 | trn=720000 val=80000\n"
          ]
        },
        {
          "output_type": "stream",
          "name": "stdout",
          "text": [
            "Training until validation scores don't improve for 200 rounds\n"
          ]
        },
        {
          "output_type": "stream",
          "name": "stdout",
          "text": [
            "[200]\ttrain's auc: 0.834693\tvalid's auc: 0.817434\n"
          ]
        },
        {
          "output_type": "stream",
          "name": "stdout",
          "text": [
            "[400]\ttrain's auc: 0.849272\tvalid's auc: 0.818672\n"
          ]
        },
        {
          "output_type": "stream",
          "name": "stdout",
          "text": [
            "[600]\ttrain's auc: 0.86172\tvalid's auc: 0.818632\n"
          ]
        },
        {
          "output_type": "stream",
          "name": "stdout",
          "text": [
            "Early stopping, best iteration is:\n[449]\ttrain's auc: 0.852445\tvalid's auc: 0.818756\n"
          ]
        },
        {
          "output_type": "stream",
          "name": "stdout",
          "text": [
            "[2025-09-12 02:57:40] [LGB unseen] seed=7 fold=0 AUC: 0.818756 | best_iter=449\n"
          ]
        },
        {
          "output_type": "stream",
          "name": "stdout",
          "text": [
            "[2025-09-12 02:57:40] [LGB unseen] seed=7 ff=0.75 bf=0.8 | Fold 2/10 | trn=720000 val=80000\n"
          ]
        },
        {
          "output_type": "stream",
          "name": "stdout",
          "text": [
            "Training until validation scores don't improve for 200 rounds\n"
          ]
        },
        {
          "output_type": "stream",
          "name": "stdout",
          "text": [
            "[200]\ttrain's auc: 0.834947\tvalid's auc: 0.817887\n"
          ]
        },
        {
          "output_type": "stream",
          "name": "stdout",
          "text": [
            "[400]\ttrain's auc: 0.849442\tvalid's auc: 0.818787\n"
          ]
        },
        {
          "output_type": "stream",
          "name": "stdout",
          "text": [
            "[600]\ttrain's auc: 0.861681\tvalid's auc: 0.818603\n"
          ]
        },
        {
          "output_type": "stream",
          "name": "stdout",
          "text": [
            "Early stopping, best iteration is:\n[443]\ttrain's auc: 0.852165\tvalid's auc: 0.818871\n"
          ]
        },
        {
          "output_type": "stream",
          "name": "stdout",
          "text": [
            "[2025-09-12 02:58:35] [LGB unseen] seed=7 fold=1 AUC: 0.818871 | best_iter=443\n"
          ]
        },
        {
          "output_type": "stream",
          "name": "stdout",
          "text": [
            "[2025-09-12 02:58:36] [LGB unseen] seed=7 ff=0.75 bf=0.8 | Fold 3/10 | trn=720000 val=80000\n"
          ]
        },
        {
          "output_type": "stream",
          "name": "stdout",
          "text": [
            "Training until validation scores don't improve for 200 rounds\n"
          ]
        },
        {
          "output_type": "stream",
          "name": "stdout",
          "text": [
            "[200]\ttrain's auc: 0.834612\tvalid's auc: 0.821084\n"
          ]
        },
        {
          "output_type": "stream",
          "name": "stdout",
          "text": [
            "[400]\ttrain's auc: 0.849287\tvalid's auc: 0.822104\n"
          ]
        },
        {
          "output_type": "stream",
          "name": "stdout",
          "text": [
            "[600]\ttrain's auc: 0.861759\tvalid's auc: 0.822018\n"
          ]
        },
        {
          "output_type": "stream",
          "name": "stdout",
          "text": [
            "Early stopping, best iteration is:\n[523]\ttrain's auc: 0.857114\tvalid's auc: 0.822207\n"
          ]
        },
        {
          "output_type": "stream",
          "name": "stdout",
          "text": [
            "[2025-09-12 02:59:38] [LGB unseen] seed=7 fold=2 AUC: 0.822207 | best_iter=523\n"
          ]
        },
        {
          "output_type": "stream",
          "name": "stdout",
          "text": [
            "[2025-09-12 02:59:38] [LGB unseen] seed=7 ff=0.75 bf=0.8 | Fold 4/10 | trn=720000 val=80000\n"
          ]
        },
        {
          "output_type": "stream",
          "name": "stdout",
          "text": [
            "Training until validation scores don't improve for 200 rounds\n"
          ]
        },
        {
          "output_type": "stream",
          "name": "stdout",
          "text": [
            "[200]\ttrain's auc: 0.8349\tvalid's auc: 0.818259\n"
          ]
        },
        {
          "output_type": "stream",
          "name": "stdout",
          "text": [
            "[400]\ttrain's auc: 0.849605\tvalid's auc: 0.819077\n"
          ]
        },
        {
          "output_type": "stream",
          "name": "stdout",
          "text": [
            "[600]\ttrain's auc: 0.862083\tvalid's auc: 0.819009\n"
          ]
        },
        {
          "output_type": "stream",
          "name": "stdout",
          "text": [
            "Early stopping, best iteration is:\n[447]\ttrain's auc: 0.852592\tvalid's auc: 0.819156\n"
          ]
        },
        {
          "output_type": "stream",
          "name": "stdout",
          "text": [
            "[2025-09-12 03:00:34] [LGB unseen] seed=7 fold=3 AUC: 0.819156 | best_iter=447\n"
          ]
        },
        {
          "output_type": "stream",
          "name": "stdout",
          "text": [
            "[2025-09-12 03:00:34] [LGB unseen] seed=7 ff=0.75 bf=0.8 | Fold 5/10 | trn=720000 val=80000\n"
          ]
        },
        {
          "output_type": "stream",
          "name": "stdout",
          "text": [
            "Training until validation scores don't improve for 200 rounds\n"
          ]
        },
        {
          "output_type": "stream",
          "name": "stdout",
          "text": [
            "[200]\ttrain's auc: 0.834557\tvalid's auc: 0.820652\n"
          ]
        },
        {
          "output_type": "stream",
          "name": "stdout",
          "text": [
            "[400]\ttrain's auc: 0.849382\tvalid's auc: 0.821347\n"
          ]
        },
        {
          "output_type": "stream",
          "name": "stdout",
          "text": [
            "Early stopping, best iteration is:\n[310]\ttrain's auc: 0.843275\tvalid's auc: 0.821419\n"
          ]
        },
        {
          "output_type": "stream",
          "name": "stdout",
          "text": [
            "[2025-09-12 03:01:21] [LGB unseen] seed=7 fold=4 AUC: 0.821419 | best_iter=310\n"
          ]
        },
        {
          "output_type": "stream",
          "name": "stdout",
          "text": [
            "[2025-09-12 03:01:21] [LGB unseen] seed=7 ff=0.75 bf=0.8 | Fold 6/10 | trn=720000 val=80000\n"
          ]
        },
        {
          "output_type": "stream",
          "name": "stdout",
          "text": [
            "Training until validation scores don't improve for 200 rounds\n"
          ]
        },
        {
          "output_type": "stream",
          "name": "stdout",
          "text": [
            "[200]\ttrain's auc: 0.835093\tvalid's auc: 0.816544\n"
          ]
        },
        {
          "output_type": "stream",
          "name": "stdout",
          "text": [
            "[400]\ttrain's auc: 0.849683\tvalid's auc: 0.817378\n"
          ]
        },
        {
          "output_type": "stream",
          "name": "stdout",
          "text": [
            "[600]\ttrain's auc: 0.862073\tvalid's auc: 0.817209\n"
          ]
        },
        {
          "output_type": "stream",
          "name": "stdout",
          "text": [
            "Early stopping, best iteration is:\n[409]\ttrain's auc: 0.850256\tvalid's auc: 0.817409\n"
          ]
        },
        {
          "output_type": "stream",
          "name": "stdout",
          "text": [
            "[2025-09-12 03:02:14] [LGB unseen] seed=7 fold=5 AUC: 0.817409 | best_iter=409\n"
          ]
        },
        {
          "output_type": "stream",
          "name": "stdout",
          "text": [
            "[2025-09-12 03:02:15] [LGB unseen] seed=7 ff=0.75 bf=0.8 | Fold 7/10 | trn=720000 val=80000\n"
          ]
        },
        {
          "output_type": "stream",
          "name": "stdout",
          "text": [
            "Training until validation scores don't improve for 200 rounds\n"
          ]
        },
        {
          "output_type": "stream",
          "name": "stdout",
          "text": [
            "[200]\ttrain's auc: 0.83482\tvalid's auc: 0.818826\n"
          ]
        },
        {
          "output_type": "stream",
          "name": "stdout",
          "text": [
            "[400]\ttrain's auc: 0.849282\tvalid's auc: 0.819621\n"
          ]
        },
        {
          "output_type": "stream",
          "name": "stdout",
          "text": [
            "[600]\ttrain's auc: 0.861694\tvalid's auc: 0.819575\n"
          ]
        },
        {
          "output_type": "stream",
          "name": "stdout",
          "text": [
            "Early stopping, best iteration is:\n[524]\ttrain's auc: 0.857182\tvalid's auc: 0.819649\n"
          ]
        },
        {
          "output_type": "stream",
          "name": "stdout",
          "text": [
            "[2025-09-12 03:03:17] [LGB unseen] seed=7 fold=6 AUC: 0.819649 | best_iter=524\n"
          ]
        },
        {
          "output_type": "stream",
          "name": "stdout",
          "text": [
            "[2025-09-12 03:03:18] [LGB unseen] seed=7 ff=0.75 bf=0.8 | Fold 8/10 | trn=720000 val=80000\n"
          ]
        },
        {
          "output_type": "stream",
          "name": "stdout",
          "text": [
            "Training until validation scores don't improve for 200 rounds\n"
          ]
        },
        {
          "output_type": "stream",
          "name": "stdout",
          "text": [
            "[200]\ttrain's auc: 0.834941\tvalid's auc: 0.818188\n"
          ]
        },
        {
          "output_type": "stream",
          "name": "stdout",
          "text": [
            "[400]\ttrain's auc: 0.84939\tvalid's auc: 0.818935\n"
          ]
        },
        {
          "output_type": "stream",
          "name": "stdout",
          "text": [
            "[600]\ttrain's auc: 0.861643\tvalid's auc: 0.818862\n"
          ]
        },
        {
          "output_type": "stream",
          "name": "stdout",
          "text": [
            "Early stopping, best iteration is:\n[480]\ttrain's auc: 0.854425\tvalid's auc: 0.819019\n"
          ]
        },
        {
          "output_type": "stream",
          "name": "stdout",
          "text": [
            "[2025-09-12 03:04:16] [LGB unseen] seed=7 fold=7 AUC: 0.819019 | best_iter=480\n"
          ]
        },
        {
          "output_type": "stream",
          "name": "stdout",
          "text": [
            "[2025-09-12 03:04:16] [LGB unseen] seed=7 ff=0.75 bf=0.8 | Fold 9/10 | trn=720000 val=80000\n"
          ]
        },
        {
          "output_type": "stream",
          "name": "stdout",
          "text": [
            "Training until validation scores don't improve for 200 rounds\n"
          ]
        },
        {
          "output_type": "stream",
          "name": "stdout",
          "text": [
            "[200]\ttrain's auc: 0.834728\tvalid's auc: 0.818491\n"
          ]
        },
        {
          "output_type": "stream",
          "name": "stdout",
          "text": [
            "[400]\ttrain's auc: 0.849466\tvalid's auc: 0.819316\n"
          ]
        },
        {
          "output_type": "stream",
          "name": "stdout",
          "text": [
            "[600]\ttrain's auc: 0.861893\tvalid's auc: 0.819349\n"
          ]
        },
        {
          "output_type": "stream",
          "name": "stdout",
          "text": [
            "Early stopping, best iteration is:\n[489]\ttrain's auc: 0.855123\tvalid's auc: 0.819422\n"
          ]
        },
        {
          "output_type": "stream",
          "name": "stdout",
          "text": [
            "[2025-09-12 03:05:21] [LGB unseen] seed=7 fold=8 AUC: 0.819422 | best_iter=489\n"
          ]
        },
        {
          "output_type": "stream",
          "name": "stdout",
          "text": [
            "[2025-09-12 03:05:22] [LGB unseen] seed=7 ff=0.75 bf=0.8 | Fold 10/10 | trn=720000 val=80000\n"
          ]
        },
        {
          "output_type": "stream",
          "name": "stdout",
          "text": [
            "Training until validation scores don't improve for 200 rounds\n"
          ]
        },
        {
          "output_type": "stream",
          "name": "stdout",
          "text": [
            "[200]\ttrain's auc: 0.834622\tvalid's auc: 0.819571\n"
          ]
        },
        {
          "output_type": "stream",
          "name": "stdout",
          "text": [
            "[400]\ttrain's auc: 0.849199\tvalid's auc: 0.820403\n"
          ]
        },
        {
          "output_type": "stream",
          "name": "stdout",
          "text": [
            "Early stopping, best iteration is:\n[361]\ttrain's auc: 0.84663\tvalid's auc: 0.820483\n"
          ]
        },
        {
          "output_type": "stream",
          "name": "stdout",
          "text": [
            "[2025-09-12 03:06:12] [LGB unseen] seed=7 fold=9 AUC: 0.820483 | best_iter=361\n"
          ]
        },
        {
          "output_type": "stream",
          "name": "stdout",
          "text": [
            "[2025-09-12 03:06:13] [LGB unseen] seed=7 OOF AUC: 0.819607 | elapsed=569.1s\n"
          ]
        },
        {
          "output_type": "stream",
          "name": "stdout",
          "text": [
            "[2025-09-12 03:06:14] [LGB unseen] Saved OOF/test preds for u7\n"
          ]
        },
        {
          "output_type": "stream",
          "name": "stdout",
          "text": [
            "[2025-09-12 03:06:14] All TE-enhanced LGB unseen seeds finished.\n"
          ]
        },
        {
          "output_type": "stream",
          "name": "stdout",
          "text": [
            "[2025-09-12 03:06:14] Training XGBoost unseen (TE-enhanced features)...\n"
          ]
        },
        {
          "output_type": "stream",
          "name": "stdout",
          "text": [
            "[2025-09-12 03:06:14] [XGB unseen] Fold 1/10 | trn=720000 val=80000\n"
          ]
        },
        {
          "output_type": "stream",
          "name": "stdout",
          "text": [
            "[0]\ttrain-auc:0.74132\tvalid-auc:0.74062\n"
          ]
        },
        {
          "output_type": "stream",
          "name": "stdout",
          "text": [
            "[200]\ttrain-auc:0.82427\tvalid-auc:0.81315\n"
          ]
        },
        {
          "output_type": "stream",
          "name": "stdout",
          "text": [
            "[400]\ttrain-auc:0.83180\tvalid-auc:0.81654\n"
          ]
        },
        {
          "output_type": "stream",
          "name": "stdout",
          "text": [
            "[600]\ttrain-auc:0.83688\tvalid-auc:0.81738\n"
          ]
        },
        {
          "output_type": "stream",
          "name": "stdout",
          "text": [
            "[800]\ttrain-auc:0.84141\tvalid-auc:0.81761\n"
          ]
        },
        {
          "output_type": "stream",
          "name": "stdout",
          "text": [
            "[957]\ttrain-auc:0.84449\tvalid-auc:0.81762\n"
          ]
        },
        {
          "output_type": "stream",
          "name": "stdout",
          "text": [
            "[2025-09-12 03:06:56] [XGB unseen] Fold 2/10 | trn=720000 val=80000\n"
          ]
        },
        {
          "output_type": "stream",
          "name": "stdout",
          "text": [
            "[0]\ttrain-auc:0.74174\tvalid-auc:0.74034\n"
          ]
        },
        {
          "output_type": "stream",
          "name": "stdout",
          "text": [
            "[200]\ttrain-auc:0.82428\tvalid-auc:0.81485\n"
          ]
        },
        {
          "output_type": "stream",
          "name": "stdout",
          "text": [
            "[400]\ttrain-auc:0.83165\tvalid-auc:0.81757\n"
          ]
        },
        {
          "output_type": "stream",
          "name": "stdout",
          "text": [
            "[600]\ttrain-auc:0.83690\tvalid-auc:0.81813\n"
          ]
        },
        {
          "output_type": "stream",
          "name": "stdout",
          "text": [
            "[800]\ttrain-auc:0.84126\tvalid-auc:0.81825\n"
          ]
        },
        {
          "output_type": "stream",
          "name": "stdout",
          "text": [
            "[1000]\ttrain-auc:0.84531\tvalid-auc:0.81826\n"
          ]
        },
        {
          "output_type": "stream",
          "name": "stdout",
          "text": [
            "[1020]\ttrain-auc:0.84569\tvalid-auc:0.81825\n"
          ]
        },
        {
          "output_type": "stream",
          "name": "stdout",
          "text": [
            "[2025-09-12 03:07:42] [XGB unseen] Fold 3/10 | trn=720000 val=80000\n"
          ]
        },
        {
          "output_type": "stream",
          "name": "stdout",
          "text": [
            "[0]\ttrain-auc:0.74145\tvalid-auc:0.73491\n"
          ]
        },
        {
          "output_type": "stream",
          "name": "stdout",
          "text": [
            "[200]\ttrain-auc:0.82358\tvalid-auc:0.81126\n"
          ]
        },
        {
          "output_type": "stream",
          "name": "stdout",
          "text": [
            "[400]\ttrain-auc:0.83116\tvalid-auc:0.81538\n"
          ]
        },
        {
          "output_type": "stream",
          "name": "stdout",
          "text": [
            "[600]\ttrain-auc:0.83616\tvalid-auc:0.81623\n"
          ]
        },
        {
          "output_type": "stream",
          "name": "stdout",
          "text": [
            "[800]\ttrain-auc:0.84056\tvalid-auc:0.81658\n"
          ]
        },
        {
          "output_type": "stream",
          "name": "stdout",
          "text": [
            "[1000]\ttrain-auc:0.84469\tvalid-auc:0.81663\n"
          ]
        },
        {
          "output_type": "stream",
          "name": "stdout",
          "text": [
            "[1195]\ttrain-auc:0.84844\tvalid-auc:0.81656\n"
          ]
        },
        {
          "output_type": "stream",
          "name": "stdout",
          "text": [
            "[2025-09-12 03:08:34] [XGB unseen] Fold 4/10 | trn=720000 val=80000\n"
          ]
        },
        {
          "output_type": "stream",
          "name": "stdout",
          "text": [
            "[0]\ttrain-auc:0.74181\tvalid-auc:0.73954\n"
          ]
        },
        {
          "output_type": "stream",
          "name": "stdout",
          "text": [
            "[200]\ttrain-auc:0.82412\tvalid-auc:0.81432\n"
          ]
        },
        {
          "output_type": "stream",
          "name": "stdout",
          "text": [
            "[400]\ttrain-auc:0.83139\tvalid-auc:0.81699\n"
          ]
        },
        {
          "output_type": "stream",
          "name": "stdout",
          "text": [
            "[600]\ttrain-auc:0.83643\tvalid-auc:0.81749\n"
          ]
        },
        {
          "output_type": "stream",
          "name": "stdout",
          "text": [
            "[800]\ttrain-auc:0.84095\tvalid-auc:0.81757\n"
          ]
        },
        {
          "output_type": "stream",
          "name": "stdout",
          "text": [
            "[1000]\ttrain-auc:0.84515\tvalid-auc:0.81751\n"
          ]
        },
        {
          "output_type": "stream",
          "name": "stdout",
          "text": [
            "[1092]\ttrain-auc:0.84685\tvalid-auc:0.81743\n"
          ]
        },
        {
          "output_type": "stream",
          "name": "stdout",
          "text": [
            "[2025-09-12 03:09:22] [XGB unseen] Fold 5/10 | trn=720000 val=80000\n"
          ]
        },
        {
          "output_type": "stream",
          "name": "stdout",
          "text": [
            "[0]\ttrain-auc:0.74161\tvalid-auc:0.73918\n"
          ]
        },
        {
          "output_type": "stream",
          "name": "stdout",
          "text": [
            "[200]\ttrain-auc:0.82405\tvalid-auc:0.81726\n"
          ]
        },
        {
          "output_type": "stream",
          "name": "stdout",
          "text": [
            "[400]\ttrain-auc:0.83162\tvalid-auc:0.81958\n"
          ]
        },
        {
          "output_type": "stream",
          "name": "stdout",
          "text": [
            "[600]\ttrain-auc:0.83654\tvalid-auc:0.81989\n"
          ]
        },
        {
          "output_type": "stream",
          "name": "stdout",
          "text": [
            "[784]\ttrain-auc:0.84042\tvalid-auc:0.81992\n"
          ]
        },
        {
          "output_type": "stream",
          "name": "stdout",
          "text": [
            "[2025-09-12 03:09:57] [XGB unseen] Fold 6/10 | trn=720000 val=80000\n"
          ]
        },
        {
          "output_type": "stream",
          "name": "stdout",
          "text": [
            "[0]\ttrain-auc:0.74185\tvalid-auc:0.73742\n"
          ]
        },
        {
          "output_type": "stream",
          "name": "stdout",
          "text": [
            "[200]\ttrain-auc:0.82415\tvalid-auc:0.81297\n"
          ]
        },
        {
          "output_type": "stream",
          "name": "stdout",
          "text": [
            "[400]\ttrain-auc:0.83170\tvalid-auc:0.81583\n"
          ]
        },
        {
          "output_type": "stream",
          "name": "stdout",
          "text": [
            "[600]\ttrain-auc:0.83699\tvalid-auc:0.81641\n"
          ]
        },
        {
          "output_type": "stream",
          "name": "stdout",
          "text": [
            "[800]\ttrain-auc:0.84151\tvalid-auc:0.81653\n"
          ]
        },
        {
          "output_type": "stream",
          "name": "stdout",
          "text": [
            "[944]\ttrain-auc:0.84437\tvalid-auc:0.81646\n"
          ]
        },
        {
          "output_type": "stream",
          "name": "stdout",
          "text": [
            "[2025-09-12 03:10:39] [XGB unseen] Fold 7/10 | trn=720000 val=80000\n"
          ]
        },
        {
          "output_type": "stream",
          "name": "stdout",
          "text": [
            "[0]\ttrain-auc:0.74088\tvalid-auc:0.73815\n"
          ]
        },
        {
          "output_type": "stream",
          "name": "stdout",
          "text": [
            "[200]\ttrain-auc:0.82401\tvalid-auc:0.81542\n"
          ]
        },
        {
          "output_type": "stream",
          "name": "stdout",
          "text": [
            "[400]\ttrain-auc:0.83174\tvalid-auc:0.81837\n"
          ]
        },
        {
          "output_type": "stream",
          "name": "stdout",
          "text": [
            "[600]\ttrain-auc:0.83689\tvalid-auc:0.81887\n"
          ]
        },
        {
          "output_type": "stream",
          "name": "stdout",
          "text": [
            "[800]\ttrain-auc:0.84121\tvalid-auc:0.81888\n"
          ]
        },
        {
          "output_type": "stream",
          "name": "stdout",
          "text": [
            "[2025-09-12 03:11:14] [XGB unseen] Fold 8/10 | trn=720000 val=80000\n"
          ]
        },
        {
          "output_type": "stream",
          "name": "stdout",
          "text": [
            "[0]\ttrain-auc:0.74167\tvalid-auc:0.72995\n"
          ]
        },
        {
          "output_type": "stream",
          "name": "stdout",
          "text": [
            "[200]\ttrain-auc:0.82380\tvalid-auc:0.79051\n"
          ]
        },
        {
          "output_type": "stream",
          "name": "stdout",
          "text": [
            "[400]\ttrain-auc:0.83175\tvalid-auc:0.79289\n"
          ]
        },
        {
          "output_type": "stream",
          "name": "stdout",
          "text": [
            "[505]\ttrain-auc:0.83445\tvalid-auc:0.79268\n"
          ]
        },
        {
          "output_type": "stream",
          "name": "stdout",
          "text": [
            "[2025-09-12 03:11:38] [XGB unseen] Fold 9/10 | trn=720000 val=80000\n"
          ]
        },
        {
          "output_type": "stream",
          "name": "stdout",
          "text": [
            "[0]\ttrain-auc:0.74164\tvalid-auc:0.72770\n"
          ]
        },
        {
          "output_type": "stream",
          "name": "stdout",
          "text": [
            "[200]\ttrain-auc:0.82424\tvalid-auc:0.79866\n"
          ]
        },
        {
          "output_type": "stream",
          "name": "stdout",
          "text": [
            "[400]\ttrain-auc:0.83174\tvalid-auc:0.80207\n"
          ]
        },
        {
          "output_type": "stream",
          "name": "stdout",
          "text": [
            "[600]\ttrain-auc:0.83669\tvalid-auc:0.80284\n"
          ]
        },
        {
          "output_type": "stream",
          "name": "stdout",
          "text": [
            "[800]\ttrain-auc:0.84115\tvalid-auc:0.80309\n"
          ]
        },
        {
          "output_type": "stream",
          "name": "stdout",
          "text": [
            "[1000]\ttrain-auc:0.84532\tvalid-auc:0.80313\n"
          ]
        },
        {
          "output_type": "stream",
          "name": "stdout",
          "text": [
            "[1052]\ttrain-auc:0.84635\tvalid-auc:0.80318\n"
          ]
        },
        {
          "output_type": "stream",
          "name": "stdout",
          "text": [
            "[2025-09-12 03:12:24] [XGB unseen] Fold 10/10 | trn=720000 val=80000\n"
          ]
        },
        {
          "output_type": "stream",
          "name": "stdout",
          "text": [
            "[0]\ttrain-auc:0.74164\tvalid-auc:0.73621\n"
          ]
        },
        {
          "output_type": "stream",
          "name": "stdout",
          "text": [
            "[200]\ttrain-auc:0.82364\tvalid-auc:0.80522\n"
          ]
        },
        {
          "output_type": "stream",
          "name": "stdout",
          "text": [
            "[400]\ttrain-auc:0.83135\tvalid-auc:0.80862\n"
          ]
        },
        {
          "output_type": "stream",
          "name": "stdout",
          "text": [
            "[600]\ttrain-auc:0.83651\tvalid-auc:0.80943\n"
          ]
        },
        {
          "output_type": "stream",
          "name": "stdout",
          "text": [
            "[800]\ttrain-auc:0.84098\tvalid-auc:0.80967\n"
          ]
        },
        {
          "output_type": "stream",
          "name": "stdout",
          "text": [
            "[908]\ttrain-auc:0.84321\tvalid-auc:0.80964\n"
          ]
        },
        {
          "output_type": "stream",
          "name": "stdout",
          "text": [
            "[2025-09-12 03:13:04] [XGB unseen] OOF AUC: 0.812507\n"
          ]
        },
        {
          "output_type": "stream",
          "name": "stdout",
          "text": [
            "[2025-09-12 03:13:05] [XGB unseen] Saved OOF and test predictions.\n"
          ]
        }
      ]
    },
    {
      "id": "1cba90d3-1c2a-4bdb-8570-f97d3b100bfc",
      "cell_type": "code",
      "metadata": {},
      "source": [
        "# Cell 26: Blend TE-enhanced unseen models and assemble final submission\n",
        "log('Blending TE-enhanced unseen models and assembling final submission...')\n",
        "import pandas as pd, numpy as np, os, json\n",
        "from sklearn.metrics import roc_auc_score\n",
        "\n",
        "# 1) Load 6x LGB unseen OOF/test preds (TE-enhanced)\n",
        "def load_oof(path):\n",
        "    df = pd.read_csv(path)\n",
        "    cols = [c for c in df.columns if c != 'id']\n",
        "    return df[['id', cols[0]]].rename(columns={cols[0]: 'pred'})\n",
        "def load_pred(path):\n",
        "    df = pd.read_csv(path)\n",
        "    cols = [c for c in df.columns if c != 'id']\n",
        "    return df[['id', cols[0]]].rename(columns={cols[0]: 'pred'})\n",
        "\n",
        "lgb_tags = ['u42','u1337','u2025','u101','u999','u7']\n",
        "oofs = []; preds = []\n",
        "for tag in lgb_tags:\n",
        "    po = load_oof(f'oof_lgb_unseen_{tag}.csv')\n",
        "    pt = load_pred(f'pred_lgb_unseen_{tag}.csv')\n",
        "    oofs.append(po.rename(columns={'pred': f'oof_{tag}'}))\n",
        "    preds.append(pt.rename(columns={'pred': f'pred_{tag}'}))\n",
        "\n",
        "# Merge and average\n",
        "oof_lgb = oofs[0]\n",
        "for df in oofs[1:]:\n",
        "    oof_lgb = oof_lgb.merge(df, on='id', how='inner')\n",
        "pred_lgb = preds[0]\n",
        "for df in preds[1:]:\n",
        "    pred_lgb = pred_lgb.merge(df, on='id', how='inner')\n",
        "lgb_oof_cols = [c for c in oof_lgb.columns if c != 'id']\n",
        "lgb_pred_cols = [c for c in pred_lgb.columns if c != 'id']\n",
        "oof_lgb['lgb_ens'] = oof_lgb[lgb_oof_cols].mean(axis=1).astype('float32')\n",
        "pred_lgb['lgb_ens'] = pred_lgb[lgb_pred_cols].mean(axis=1).astype('float32')\n",
        "\n",
        "# 2) Load XGB unseen OOF/test preds (TE-enhanced)\n",
        "oof_xgb = load_oof('oof_xgb_unseen.csv')\n",
        "pred_xgb = load_pred('pred_xgb_unseen.csv')\n",
        "\n",
        "# 3) Tune blend on OOF (global, since no unseen-like rows exist in train)\n",
        "gt = train[['id','target']].copy()\n",
        "oof = gt.merge(oof_lgb[['id','lgb_ens']], on='id', how='left').merge(oof_xgb.rename(columns={'pred':'xgb'}), on='id', how='left')\n",
        "\n",
        "def rank_norm(x):\n",
        "    r = pd.Series(x).rank(method='average').values\n",
        "    return (r - 1) / max(len(r) - 1, 1)\n",
        "\n",
        "oof['lgb_r'] = rank_norm(oof['lgb_ens'])\n",
        "oof['xgb_r'] = rank_norm(oof['xgb'])\n",
        "\n",
        "best = {'auc': 0.0, 'mode': 'prob', 'w_lgb': 1.0}\n",
        "weights = np.round(np.linspace(0.60, 0.95, 8), 2)  # 0.60..0.95\n",
        "for w in weights:\n",
        "    prob = w * oof['lgb_ens'] + (1 - w) * oof['xgb']\n",
        "    auc_p = roc_auc_score(oof['target'], prob)\n",
        "    if auc_p > best['auc']:\n",
        "        best.update({'auc': float(auc_p), 'mode': 'prob', 'w_lgb': float(w)})\n",
        "    rank = w * oof['lgb_r'] + (1 - w) * oof['xgb_r']\n",
        "    auc_r = roc_auc_score(oof['target'], rank)\n",
        "    if auc_r > best['auc']:\n",
        "        best.update({'auc': float(auc_r), 'mode': 'rank', 'w_lgb': float(w)})\n",
        "log(f\"[TE-unseen blend] Best OOF AUC={best['auc']:.6f} | mode={best['mode']} | w_lgb={best['w_lgb']}\")\n",
        "\n",
        "# 4) Build blended unseen test predictions\n",
        "sub_te = pd.read_csv('sample_submission.csv')[['id']].merge(pred_lgb[['id','lgb_ens']], on='id', how='left').merge(pred_xgb.rename(columns={'pred':'xgb'}), on='id', how='left')\n",
        "if best['mode'] == 'prob':\n",
        "    unseen_pred = best['w_lgb'] * sub_te['lgb_ens'].values + (1 - best['w_lgb']) * sub_te['xgb'].values\n",
        "else:\n",
        "    rl = rank_norm(sub_te['lgb_ens']); rx = rank_norm(sub_te['xgb'])\n",
        "    unseen_pred = best['w_lgb'] * rl + (1 - best['w_lgb']) * rx\n",
        "unseen_pred = unseen_pred.astype('float32')\n",
        "\n",
        "# 5) f_27 identity map for seen rows\n",
        "f27_target_map = train.groupby('f_27')['target'].first().to_dict()\n",
        "test_seen_mask = test['f_27'].isin(f27_target_map).values\n",
        "test_unseen_mask = ~test_seen_mask\n",
        "preds_seen = test.loc[test_seen_mask, 'f_27'].map(f27_target_map).astype('float32').values\n",
        "\n",
        "# 6) Final assembly\n",
        "final = pd.read_csv('sample_submission.csv')[['id']].copy()\n",
        "final['target'] = np.zeros(len(final), dtype='float32')\n",
        "final.loc[test_seen_mask, 'target'] = preds_seen\n",
        "final.loc[test_unseen_mask, 'target'] = unseen_pred[test_unseen_mask]\n",
        "if final['target'].isna().any():\n",
        "    raise ValueError('NaNs in final target after assembly')\n",
        "final['target'] = final['target'].astype('float64').clip(0.0, 1.0)\n",
        "final.to_csv('submission.csv', index=False)\n",
        "final.to_csv('submission_te_unseen.csv', index=False)\n",
        "log('Saved submission.csv using f_27 identity for seen and TE-enhanced blend for unseen.')\n",
        "\n",
        "# Save meta\n",
        "with open('blend_unseen_meta_te.json', 'w') as f:\n",
        "    json.dump(best, f, indent=2)\n",
        "log(f\"Saved blend_unseen_meta_te.json: {best}\")"
      ],
      "execution_count": 30,
      "outputs": [
        {
          "output_type": "stream",
          "name": "stdout",
          "text": [
            "[2025-09-12 03:13:44] Blending TE-enhanced unseen models and assembling final submission...\n"
          ]
        },
        {
          "output_type": "stream",
          "name": "stdout",
          "text": [
            "[2025-09-12 03:13:50] [TE-unseen blend] Best OOF AUC=0.820429 | mode=rank | w_lgb=0.95\n"
          ]
        },
        {
          "output_type": "stream",
          "name": "stdout",
          "text": [
            "[2025-09-12 03:13:53] Saved submission.csv using f_27 identity for seen and TE-enhanced blend for unseen.\n"
          ]
        },
        {
          "output_type": "stream",
          "name": "stdout",
          "text": [
            "[2025-09-12 03:13:53] Saved blend_unseen_meta_te.json: {'auc': 0.8204291485137813, 'mode': 'rank', 'w_lgb': 0.95}\n"
          ]
        }
      ]
    },
    {
      "id": "921c0695-23df-4baa-a5cf-6be0a81807eb",
      "cell_type": "code",
      "metadata": {},
      "source": [
        "# Cell 27: Guardrails and assertions for f_27 identity map and submission integrity\n",
        "log('Running guardrails: f_27 purity checks and submission integrity...')\n",
        "import pandas as pd, numpy as np, json, os\n",
        "\n",
        "# 1) f_27 -> target purity checks\n",
        "grp = train.groupby('f_27')['target']\n",
        "nuniq = grp.nunique()\n",
        "max_nuniq = int(nuniq.max())\n",
        "conflicts = int((nuniq > 1).sum())\n",
        "log(f'f_27 groups: total={len(nuniq)}, max target nunique={max_nuniq}, conflicts={conflicts}')\n",
        "if max_nuniq > 1 or conflicts > 0:\n",
        "    # Resolve by majority (mean >= 0.5 -> 1 else 0)\n",
        "    means = grp.mean()\n",
        "    f27_map = (means >= 0.5).astype('int8').to_dict()\n",
        "    log(f'Resolved {conflicts} conflicting f_27 groups by majority vote.')\n",
        "else:\n",
        "    # Pure mapping: any aggregation works; use .first() for speed\n",
        "    f27_map = grp.first().astype('int8').to_dict()\n",
        "\n",
        "# 2) Seen/unseen masks and coverage\n",
        "test_seen_mask = test['f_27'].isin(f27_map).values\n",
        "seen_cnt = int(test_seen_mask.sum())\n",
        "unseen_cnt = int((~test_seen_mask).sum())\n",
        "log(f'Seen coverage check -> seen={seen_cnt}, unseen={unseen_cnt}')\n",
        "preds_seen = test.loc[test_seen_mask, 'f_27'].map(f27_map)\n",
        "assert preds_seen.notna().all(), 'NaNs found in seen predictions from identity map'\n",
        "\n",
        "# 3) Submission integrity\n",
        "assert os.path.exists('submission.csv'), 'submission.csv missing'\n",
        "sub = pd.read_csv('submission.csv')\n",
        "assert list(sub.columns) == ['id','target'], f'Bad submission columns: {list(sub.columns)}'\n",
        "assert len(sub) == len(test), f'Submission length {len(sub)} != test length {len(test)}'\n",
        "assert not sub['target'].isna().any(), 'NaNs in submission target'\n",
        "assert np.isfinite(sub['target']).all(), 'Non-finite values in submission target'\n",
        "assert sub['target'].between(0.0, 1.0).all(), 'Submission target out of [0,1] bounds'\n",
        "\n",
        "# 4) If desired, strictly align and resave (idempotent) to be safe\n",
        "ss = pd.read_csv('sample_submission.csv')[['id']]\n",
        "sub_aligned = ss.merge(sub, on='id', how='left')\n",
        "missing = int(sub_aligned['target'].isna().sum())\n",
        "assert missing == 0, f'Missing predictions for {missing} rows after alignment'\n",
        "sub_aligned['target'] = sub_aligned['target'].astype('float64').clip(0.0, 1.0)\n",
        "sub_aligned.to_csv('submission.csv', index=False)\n",
        "log('Guardrails passed. submission.csv verified and re-saved strictly aligned.')"
      ],
      "execution_count": 31,
      "outputs": [
        {
          "output_type": "stream",
          "name": "stdout",
          "text": [
            "[2025-09-12 03:16:56] Running guardrails: f_27 purity checks and submission integrity...\n"
          ]
        },
        {
          "output_type": "stream",
          "name": "stdout",
          "text": [
            "[2025-09-12 03:16:57] f_27 groups: total=670919, max target nunique=2, conflicts=41748\n"
          ]
        },
        {
          "output_type": "stream",
          "name": "stdout",
          "text": [
            "[2025-09-12 03:16:57] Resolved 41748 conflicting f_27 groups by majority vote.\n"
          ]
        },
        {
          "output_type": "stream",
          "name": "stdout",
          "text": [
            "[2025-09-12 03:16:58] Seen coverage check -> seen=28435, unseen=71565\n"
          ]
        },
        {
          "output_type": "stream",
          "name": "stdout",
          "text": [
            "[2025-09-12 03:16:58] Guardrails passed. submission.csv verified and re-saved strictly aligned.\n"
          ]
        }
      ]
    },
    {
      "id": "74fd8501-89a4-4e4d-b6b5-476f02ea2a5a",
      "cell_type": "code",
      "metadata": {},
      "source": [
        "# Cell 28: Refined blend + optional meta-stacker for TE-unseen, assemble submission\n",
        "log('Refining TE-unseen blend (fine grid + optional stacker) and assembling submission...')\n",
        "import pandas as pd, numpy as np, json, os\n",
        "from sklearn.metrics import roc_auc_score\n",
        "from sklearn.linear_model import LogisticRegression, Ridge\n",
        "from sklearn.model_selection import StratifiedKFold\n",
        "\n",
        "def load_oof(path):\n",
        "    df = pd.read_csv(path); cols = [c for c in df.columns if c != 'id'];\n",
        "    return df[['id', cols[0]]].rename(columns={cols[0]: 'pred'})\n",
        "def load_pred(path):\n",
        "    df = pd.read_csv(path); cols = [c for c in df.columns if c != 'id'];\n",
        "    return df[['id', cols[0]]].rename(columns={cols[0]: 'pred'})\n",
        "\n",
        "# Load unseen OOF/test blocks\n",
        "lgb_tags = ['u42','u1337','u2025','u101','u999','u7']\n",
        "oofs = []; preds = []\n",
        "for tag in lgb_tags:\n",
        "    oofs.append(load_oof(f'oof_lgb_unseen_{tag}.csv').rename(columns={'pred': f'oof_{tag}'}))\n",
        "    preds.append(load_pred(f'pred_lgb_unseen_{tag}.csv').rename(columns={'pred': f'pred_{tag}'}))\n",
        "oof_lgb = oofs[0]\n",
        "for df in oofs[1:]: oof_lgb = oof_lgb.merge(df, on='id', how='inner')\n",
        "pred_lgb = preds[0]\n",
        "for df in preds[1:]: pred_lgb = pred_lgb.merge(df, on='id', how='inner')\n",
        "lgb_oof_cols = [c for c in oof_lgb.columns if c != 'id']\n",
        "lgb_pred_cols = [c for c in pred_lgb.columns if c != 'id']\n",
        "oof_lgb['lgb_ens'] = oof_lgb[lgb_oof_cols].mean(axis=1).astype('float32')\n",
        "pred_lgb['lgb_ens'] = pred_lgb[lgb_pred_cols].mean(axis=1).astype('float32')\n",
        "\n",
        "oof_xgb = load_oof('oof_xgb_unseen.csv').rename(columns={'pred':'xgb'})\n",
        "pred_xgb = load_pred('pred_xgb_unseen.csv').rename(columns={'pred':'xgb'})\n",
        "\n",
        "gt = train[['id','target']].copy()\n",
        "oof = gt.merge(oof_lgb[['id','lgb_ens']], on='id', how='left').merge(oof_xgb, on='id', how='left')\n",
        "\n",
        "def rank_norm(x):\n",
        "    r = pd.Series(x).rank(method='average').values\n",
        "    return (r - 1) / max(len(r) - 1, 1)\n",
        "\n",
        "oof['lgb_r'] = rank_norm(oof['lgb_ens']); oof['xgb_r'] = rank_norm(oof['xgb'])\n",
        "\n",
        "# Fine grid search in [0.90..0.98] step 0.01 for prob and rank\n",
        "best = {'auc': 0.0, 'mode': 'prob', 'w_lgb': 1.0}\n",
        "weights = np.round(np.arange(0.90, 0.981, 0.01), 2)\n",
        "for w in weights:\n",
        "    prob = w * oof['lgb_ens'] + (1 - w) * oof['xgb']\n",
        "    auc_p = roc_auc_score(oof['target'], prob)\n",
        "    if auc_p > best['auc']:\n",
        "        best.update({'auc': float(auc_p), 'mode': 'prob', 'w_lgb': float(w)})\n",
        "    rank = w * oof['lgb_r'] + (1 - w) * oof['xgb_r']\n",
        "    auc_r = roc_auc_score(oof['target'], rank)\n",
        "    if auc_r > best['auc']:\n",
        "        best.update({'auc': float(auc_r), 'mode': 'rank', 'w_lgb': float(w)})\n",
        "log(f\"[Refine] Best OOF AUC={best['auc']:.6f} | mode={best['mode']} | w_lgb={best['w_lgb']}\")\n",
        "\n",
        "# Optional meta-stacker (logistic on [lgb_ens, xgb]); 10-fold out-of-fold to avoid bias\n",
        "X_meta = oof[['lgb_ens','xgb']].values.astype('float32')\n",
        "y_meta = oof['target'].values.astype('int8')\n",
        "skf = StratifiedKFold(n_splits=10, shuffle=True, random_state=42)\n",
        "oof_stack = np.zeros(len(oof), dtype='float32')\n",
        "test_stack = np.zeros(len(pred_lgb), dtype='float32')\n",
        "models = []\n",
        "for fold, (trn_idx, val_idx) in enumerate(skf.split(X_meta, y_meta), 1):\n",
        "    Xtr, ytr = X_meta[trn_idx], y_meta[trn_idx]\n",
        "    Xvl = X_meta[val_idx]\n",
        "    clf = LogisticRegression(max_iter=1000, solver='lbfgs')\n",
        "    clf.fit(Xtr, ytr)\n",
        "    oof_stack[val_idx] = clf.predict_proba(Xvl)[:,1].astype('float32')\n",
        "    models.append(clf)\n",
        "auc_stack = roc_auc_score(y_meta, oof_stack)\n",
        "log(f'[Stacker] Logistic meta OOF AUC={auc_stack:.6f}')\n",
        "if auc_stack > best['auc'] + 0.0005:\n",
        "    # Build test stack prediction via average of fold models\n",
        "    X_test_meta = pd.read_csv('sample_submission.csv')[['id']].merge(pred_lgb[['id','lgb_ens']], on='id', how='left').merge(pred_xgb, on='id', how='left')\n",
        "    Xt = X_test_meta[['lgb_ens','xgb']].values.astype('float32')\n",
        "    for m in models:\n",
        "        test_stack += (m.predict_proba(Xt)[:,1].astype('float32') / len(models))\n",
        "    chosen = {'mode': 'stack', 'auc': float(auc_stack)}\n",
        "else:\n",
        "    chosen = best.copy()\n",
        "\n",
        "# Build unseen test predictions according to chosen strategy\n",
        "sub_te = pd.read_csv('sample_submission.csv')[['id']].merge(pred_lgb[['id','lgb_ens']], on='id', how='left').merge(pred_xgb, on='id', how='left')\n",
        "if chosen.get('mode') == 'stack':\n",
        "    unseen_pred = test_stack.astype('float32')\n",
        "else:\n",
        "    if chosen['mode'] == 'prob':\n",
        "        unseen_pred = chosen['w_lgb'] * sub_te['lgb_ens'].values + (1 - chosen['w_lgb']) * sub_te['xgb'].values\n",
        "    else:\n",
        "        rl = rank_norm(sub_te['lgb_ens']); rx = rank_norm(sub_te['xgb'])\n",
        "        unseen_pred = chosen['w_lgb'] * rl + (1 - chosen['w_lgb']) * rx\n",
        "    unseen_pred = unseen_pred.astype('float32')\n",
        "\n",
        "# Seen mapping with majority resolution guardrail\n",
        "grp = train.groupby('f_27')['target']\n",
        "means = grp.mean()\n",
        "f27_map = (means >= 0.5).astype('int8').to_dict()\n",
        "test_seen_mask = test['f_27'].isin(f27_map).values\n",
        "test_unseen_mask = ~test_seen_mask\n",
        "preds_seen = test.loc[test_seen_mask, 'f_27'].map(f27_map).astype('float32').values\n",
        "\n",
        "# Final assembly\n",
        "final = pd.read_csv('sample_submission.csv')[['id']].copy()\n",
        "final['target'] = np.zeros(len(final), dtype='float32')\n",
        "final.loc[test_seen_mask, 'target'] = preds_seen\n",
        "final.loc[test_unseen_mask, 'target'] = unseen_pred[test_unseen_mask]\n",
        "if final['target'].isna().any():\n",
        "    raise ValueError('NaNs in final target after assembly')\n",
        "final['target'] = final['target'].astype('float64').clip(0.0, 1.0)\n",
        "final.to_csv('submission.csv', index=False)\n",
        "final.to_csv('submission_te_unseen_refined.csv', index=False)\n",
        "meta = {'chosen': chosen, 'grid_best': best}\n",
        "with open('blend_unseen_meta_te_refined.json','w') as f: json.dump(meta, f, indent=2)\n",
        "log(f\"Saved submission.csv and metadata. Chosen={chosen}\")"
      ],
      "execution_count": 32,
      "outputs": [
        {
          "output_type": "stream",
          "name": "stdout",
          "text": [
            "[2025-09-12 03:18:08] Refining TE-unseen blend (fine grid + optional stacker) and assembling submission...\n"
          ]
        },
        {
          "output_type": "stream",
          "name": "stdout",
          "text": [
            "[2025-09-12 03:18:15] [Refine] Best OOF AUC=0.820443 | mode=rank | w_lgb=0.98\n"
          ]
        },
        {
          "output_type": "stream",
          "name": "stdout",
          "text": [
            "[2025-09-12 03:18:26] [Stacker] Logistic meta OOF AUC=0.820417\n"
          ]
        },
        {
          "output_type": "stream",
          "name": "stdout",
          "text": [
            "[2025-09-12 03:18:28] Saved submission.csv and metadata. Chosen={'auc': 0.8204432246955218, 'mode': 'rank', 'w_lgb': 0.98}\n"
          ]
        }
      ]
    },
    {
      "id": "21a2d296-861c-4b37-bfb2-ce3d8e1a5574",
      "cell_type": "code",
      "metadata": {},
      "source": [
        "# Cell 29: Pseudo-unseen validation (hold out 20% unique f_27 strings), TE-fit on subset, evaluate unseen AUC\n",
        "log('Starting pseudo-unseen validation: masking 20% unique f_27, fitting TE on remaining, evaluating held-out...')\n",
        "import numpy as np, pandas as pd, time, gc, os\n",
        "from sklearn.metrics import roc_auc_score\n",
        "\n",
        "rng = np.random.default_rng(42)\n",
        "s_tr = train['f_27'].astype(str).values\n",
        "y_tr = train['target'].values.astype('float32')\n",
        "\n",
        "# 1) Build pseudo-unseen split by f_27 identity\n",
        "uniq = pd.unique(s_tr)\n",
        "n_mask = max(1, int(0.20 * len(uniq)))\n",
        "mask_ids = set(rng.choice(uniq, size=n_mask, replace=False))\n",
        "holdout_mask = np.array([x in mask_ids for x in s_tr], dtype=bool)\n",
        "fit_mask = ~holdout_mask\n",
        "log(f'Pseudo-unseen split: fit_n={int(fit_mask.sum())} | holdout_n={int(holdout_mask.sum())} | uniq_total={len(uniq)} | uniq_masked={len(mask_ids)}')\n",
        "\n",
        "# 2) Prepare positional tokens\n",
        "pos_char_tr = np.stack([train[f'f_27_pos_{i}'].astype('int16').values for i in range(10)], axis=1)\n",
        "\n",
        "def make_bigrams(arr):\n",
        "    n = arr.shape[0]\n",
        "    out = [None]*9\n",
        "    for i in range(9):\n",
        "        out[i] = np.fromiter((row[i:i+2] for row in arr), count=n, dtype=object)\n",
        "    return out\n",
        "bg_tr = make_bigrams(s_tr)\n",
        "\n",
        "def f27_nunique(arr):\n",
        "    return np.fromiter((len(set(list(x))) for x in arr), count=len(arr), dtype=np.int16)\n",
        "f27_nuniq_tr = f27_nunique(s_tr)\n",
        "\n",
        "# 3) Fit TE maps on fit subset only, apply to fit/holdout\n",
        "prior = float(train.loc[fit_mask, 'target'].mean())\n",
        "\n",
        "def fit_te_map(keys_fit, y_fit, m, prior):\n",
        "    df = pd.DataFrame({'k': keys_fit, 'y': y_fit})\n",
        "    grp = df.groupby('k')\n",
        "    cnt = grp['y'].size()\n",
        "    sumy = grp['y'].sum()\n",
        "    te = ((sumy + m * prior) / (cnt + m)).astype('float32')\n",
        "    return te, cnt.astype('int32')\n",
        "\n",
        "# Positional chars (m=30)\n",
        "te_pos_char_fit = np.zeros((fit_mask.sum(), 10), dtype=np.float32)\n",
        "te_pos_char_hold = np.zeros((holdout_mask.sum(), 10), dtype=np.float32)\n",
        "te_pos_char_logcnt_fit = np.zeros_like(te_pos_char_fit)\n",
        "te_pos_char_logcnt_hold = np.zeros_like(te_pos_char_hold)\n",
        "for i in range(10):\n",
        "    keys_fit = pd.Series([f'{i}|{int(t)}' for t in pos_char_tr[fit_mask, i]])\n",
        "    te_map, cnt_map = fit_te_map(keys_fit.values, y_tr[fit_mask], m=30.0, prior=prior)\n",
        "    # transform\n",
        "    k_fit = pd.Series([f'{i}|{int(t)}' for t in pos_char_tr[fit_mask, i]])\n",
        "    k_hld = pd.Series([f'{i}|{int(t)}' for t in pos_char_tr[holdout_mask, i]])\n",
        "    te_pos_char_fit[:, i] = k_fit.map(te_map).astype('float32').fillna(prior).values\n",
        "    te_pos_char_hold[:, i] = k_hld.map(te_map).astype('float32').fillna(prior).values\n",
        "    te_pos_char_logcnt_fit[:, i] = np.log1p(k_fit.map(cnt_map).fillna(0).astype('int32').values).astype('float32')\n",
        "    te_pos_char_logcnt_hold[:, i] = np.log1p(k_hld.map(cnt_map).fillna(0).astype('int32').values).astype('float32')\n",
        "\n",
        "# Positional bigrams (m=100)\n",
        "te_pos_bg_fit = np.zeros((fit_mask.sum(), 9), dtype=np.float32)\n",
        "te_pos_bg_hold = np.zeros((holdout_mask.sum(), 9), dtype=np.float32)\n",
        "te_pos_bg_logcnt_fit = np.zeros_like(te_pos_bg_fit)\n",
        "te_pos_bg_logcnt_hold = np.zeros_like(te_pos_bg_hold)\n",
        "for i in range(9):\n",
        "    keys_fit = pd.Series([f'{i}|{bg}' for bg in bg_tr[i][fit_mask]])\n",
        "    te_map, cnt_map = fit_te_map(keys_fit.values, y_tr[fit_mask], m=100.0, prior=prior)\n",
        "    k_fit = pd.Series([f'{i}|{bg}' for bg in bg_tr[i][fit_mask]])\n",
        "    k_hld = pd.Series([f'{i}|{bg}' for bg in bg_tr[i][holdout_mask]])\n",
        "    te_pos_bg_fit[:, i] = k_fit.map(te_map).astype('float32').fillna(prior).values\n",
        "    te_pos_bg_hold[:, i] = k_hld.map(te_map).astype('float32').fillna(prior).values\n",
        "    te_pos_bg_logcnt_fit[:, i] = np.log1p(k_fit.map(cnt_map).fillna(0).astype('int32').values).astype('float32')\n",
        "    te_pos_bg_logcnt_hold[:, i] = np.log1p(k_hld.map(cnt_map).fillna(0).astype('int32').values).astype('float32')\n",
        "\n",
        "# f27_nunique (m=50)\n",
        "keys_nu_fit = pd.Series(f27_nuniq_tr[fit_mask].astype('int16'))\n",
        "te_map_nu, cnt_map_nu = fit_te_map(keys_nu_fit.values, y_tr[fit_mask], m=50.0, prior=prior)\n",
        "k_fit_nu = pd.Series(f27_nuniq_tr[fit_mask].astype('int16'))\n",
        "k_hld_nu = pd.Series(f27_nuniq_tr[holdout_mask].astype('int16'))\n",
        "nu_te_fit = k_fit_nu.map(te_map_nu).astype('float32').fillna(prior).values\n",
        "nu_te_hold = k_hld_nu.map(te_map_nu).astype('float32').fillna(prior).values\n",
        "nu_log_fit = np.log1p(k_fit_nu.map(cnt_map_nu).fillna(0).astype('int32').values).astype('float32')\n",
        "nu_log_hold = np.log1p(k_hld_nu.map(cnt_map_nu).fillna(0).astype('int32').values).astype('float32')\n",
        "\n",
        "# 4) Target-free frequencies (train+test pooled) - reuse existing approach\n",
        "N_all = float(len(train) + len(test))\n",
        "def freq_map(series_all):\n",
        "    vc = pd.Series(series_all).value_counts()\n",
        "    return vc\n",
        "freq_pos_char_fit = np.zeros((fit_mask.sum(), 10), dtype=np.float32)\n",
        "freq_pos_char_hold = np.zeros((holdout_mask.sum(), 10), dtype=np.float32)\n",
        "for i in range(10):\n",
        "    all_keys = np.array([f'{i}|{int(t)}' for t in np.concatenate([train[f'f_27_pos_{i}'].astype('int16').values, test[f'f_27_pos_{i}'].astype('int16').values])])\n",
        "    vc = pd.Series(all_keys).value_counts()\n",
        "    kf = pd.Series([f'{i}|{int(t)}' for t in pos_char_tr[fit_mask, i]])\n",
        "    kh = pd.Series([f'{i}|{int(t)}' for t in pos_char_tr[holdout_mask, i]])\n",
        "    freq_pos_char_fit[:, i] = (kf.map(vc).fillna(0).values.astype('float32') / N_all)\n",
        "    freq_pos_char_hold[:, i] = (kh.map(vc).fillna(0).values.astype('float32') / N_all)\n",
        "\n",
        "freq_pos_bg_fit = np.zeros((fit_mask.sum(), 9), dtype=np.float32)\n",
        "freq_pos_bg_hold = np.zeros((holdout_mask.sum(), 9), dtype=np.float32)\n",
        "for i in range(9):\n",
        "    all_keys = np.array([f'{i}|{bg}' for bg in np.concatenate([make_bigrams(train['f_27'].astype(str).values)[i], make_bigrams(test['f_27'].astype(str).values)[i]])])\n",
        "    vc = pd.Series(all_keys).value_counts()\n",
        "    kf = pd.Series([f'{i}|{bg}' for bg in bg_tr[i][fit_mask]])\n",
        "    kh = pd.Series([f'{i}|{bg}' for bg in bg_tr[i][holdout_mask]])\n",
        "    freq_pos_bg_fit[:, i] = (kf.map(vc).fillna(0).values.astype('float32') / N_all)\n",
        "    freq_pos_bg_hold[:, i] = (kh.map(vc).fillna(0).values.astype('float32') / N_all)\n",
        "\n",
        "all_full = pd.Series(np.concatenate([train['f_27'].astype(str).values, test['f_27'].astype(str).values]))\n",
        "vc_full = all_full.value_counts()\n",
        "freq_full_fit = pd.Series(s_tr[fit_mask]).map(vc_full).fillna(0).values.astype('float32') / N_all\n",
        "freq_full_hold = pd.Series(s_tr[holdout_mask]).map(vc_full).fillna(0).values.astype('float32') / N_all\n",
        "\n",
        "# 5) Assemble feature matrices for fit/holdout using current TE block + compact block\n",
        "comp_fit = pd.DataFrame(comp_train.loc[fit_mask].reset_index(drop=True))\n",
        "comp_hold = pd.DataFrame(comp_train.loc[holdout_mask].reset_index(drop=True))\n",
        "def assemble_block(te_pc, te_pc_lc, te_bg, te_bg_lc, nu_te, nu_log, f_pc, f_bg, f_full, idx_len):\n",
        "    cols = {}\n",
        "    for i in range(10): cols[f'TE_pos_char_{i}_mean'] = te_pc[:, i]\n",
        "    for i in range(9): cols[f'TE_pos_bigram_{i}_mean'] = te_bg[:, i]\n",
        "    for i in range(10): cols[f'TE_pos_char_{i}_logcnt'] = te_pc_lc[:, i]\n",
        "    for i in range(9): cols[f'TE_pos_bigram_{i}_logcnt'] = te_bg_lc[:, i]\n",
        "    cols['TE_f27_nunique_mean'] = nu_te\n",
        "    cols['TE_f27_nunique_logcnt'] = nu_log\n",
        "    for i in range(10): cols[f'FREQ_pos_char_{i}'] = f_pc[:, i]\n",
        "    for i in range(9): cols[f'FREQ_pos_bigram_{i}'] = f_bg[:, i]\n",
        "    cols['FREQ_full_string'] = f_full\n",
        "    return pd.DataFrame(cols, index=np.arange(idx_len))\n",
        "\n",
        "te_fit_df = assemble_block(te_pos_char_fit, te_pos_char_logcnt_fit, te_pos_bg_fit, te_pos_bg_logcnt_fit, nu_te_fit, nu_log_fit, freq_pos_char_fit, freq_pos_bg_fit, freq_full_fit, fit_mask.sum())\n",
        "te_hold_df = assemble_block(te_pos_char_hold, te_pos_char_logcnt_hold, te_pos_bg_hold, te_pos_bg_logcnt_hold, nu_te_hold, nu_log_hold, freq_pos_char_hold, freq_pos_bg_hold, freq_full_hold, holdout_mask.sum())\n",
        "\n",
        "X_fit = pd.concat([comp_fit.reset_index(drop=True), te_fit_df.reset_index(drop=True)], axis=1)\n",
        "X_hold = pd.concat([comp_hold.reset_index(drop=True), te_hold_df.reset_index(drop=True)], axis=1)\n",
        "y_fit = y_tr[fit_mask]\n",
        "y_hold = y_tr[holdout_mask]\n",
        "log(f'Feature blocks ready: X_fit={X_fit.shape}, X_hold={X_hold.shape}')\n",
        "\n",
        "# 6) Train a quick LightGBM on X_fit and evaluate on X_hold (pseudo-unseen AUC)\n",
        "import lightgbm as lgb, time\n",
        "dtr = lgb.Dataset(X_fit, label=y_fit)\n",
        "params = {\n",
        "    'objective': 'binary', 'metric': 'auc', 'boosting_type': 'gbdt',\n",
        "    'learning_rate': 0.045, 'num_leaves': 224, 'max_depth': -1, 'min_data_in_leaf': 240,\n",
        "    'feature_fraction': 0.78, 'bagging_fraction': 0.78, 'bagging_freq': 1, 'lambda_l1': 0.0, 'lambda_l2': 4.0,\n",
        "    'max_bin': 255, 'verbose': -1, 'n_jobs': -1, 'seed': 42\n",
        "}\n",
        "t0 = time.time()\n",
        "model = lgb.train(params, dtr, num_boost_round=2000)\n",
        "pred_hold = model.predict(X_hold)\n",
        "auc_hold = roc_auc_score(y_hold, pred_hold)\n",
        "log(f'[Pseudo-unseen] Holdout AUC={auc_hold:.6f} | train_time={time.time()-t0:.1f}s | fit_n={len(y_fit)} holdout_n={len(y_hold)}')\n",
        "\n",
        "# Save for reference\n",
        "pd.DataFrame({'id': train.loc[holdout_mask, 'id'].values, 'oof_pseudo_unseen': pred_hold}).to_csv('oof_pseudo_unseen_holdout.csv', index=False)\n",
        "with open('pseudo_unseen_meta.json','w') as f:\n",
        "    json.dump({'holdout_auc': float(auc_hold), 'fit_n': int(len(y_fit)), 'holdout_n': int(len(y_hold))}, f)\n",
        "gc.collect();"
      ],
      "execution_count": 33,
      "outputs": [
        {
          "output_type": "stream",
          "name": "stdout",
          "text": [
            "[2025-09-12 03:20:34] Starting pseudo-unseen validation: masking 20% unique f_27, fitting TE on remaining, evaluating held-out...\n"
          ]
        },
        {
          "output_type": "stream",
          "name": "stdout",
          "text": [
            "[2025-09-12 03:20:35] Pseudo-unseen split: fit_n=639929 | holdout_n=160071 | uniq_total=670919 | uniq_masked=134183\n"
          ]
        },
        {
          "output_type": "stream",
          "name": "stdout",
          "text": [
            "[2025-09-12 03:21:18] Feature blocks ready: X_fit=(639929, 71), X_hold=(160071, 71)\n"
          ]
        },
        {
          "output_type": "stream",
          "name": "stdout",
          "text": [
            "[2025-09-12 03:22:28] [Pseudo-unseen] Holdout AUC=0.813502 | train_time=70.1s | fit_n=639929 holdout_n=160071\n"
          ]
        }
      ]
    },
    {
      "id": "36fff965-dbe2-4450-ba4d-8bb3b9371be2",
      "cell_type": "code",
      "metadata": {},
      "source": [
        "# Cell 30: Augment TE features for unseen model (trigrams, signatures, non-adj pairs) + target-free patterns; rebuild X_unseen_tr/te\n",
        "log('Building augmented TE features for unseen model (trigrams, signatures, non-adj pairs) and target-free patterns...')\n",
        "import numpy as np, pandas as pd, time, gc\n",
        "\n",
        "t0 = time.time()\n",
        "assert 'f_27' in train.columns and 'target' in train.columns, 'Missing f_27/target'\n",
        "folds_df = pd.read_csv('folds_10fold_seed42.csv')\n",
        "folds_arr = folds_df['fold'].values.astype('int16')\n",
        "n_splits = int(np.unique(folds_arr).size)\n",
        "prior = float(train['target'].mean())\n",
        "\n",
        "# Strings\n",
        "s_tr = train['f_27'].astype(str).values\n",
        "s_te = test['f_27'].astype(str).values\n",
        "\n",
        "# Positional char int tokens (10)\n",
        "pos_char_tr = np.stack([train[f'f_27_pos_{i}'].astype('int16').values for i in range(10)], axis=1)\n",
        "pos_char_te = np.stack([test[f'f_27_pos_{i}'].astype('int16').values for i in range(10)], axis=1)\n",
        "\n",
        "# Bigrams arrays (string), for reuse if needed\n",
        "def make_bigrams(arr):\n",
        "    n = arr.shape[0]\n",
        "    out = [None]*9\n",
        "    for i in range(9):\n",
        "        out[i] = np.fromiter((row[i:i+2] for row in arr), count=n, dtype=object)\n",
        "    return out\n",
        "bg_tr = make_bigrams(s_tr)\n",
        "bg_te = make_bigrams(s_te)\n",
        "\n",
        "# Trigrams arrays (string), i=0..7\n",
        "def make_trigrams(arr):\n",
        "    n = arr.shape[0]\n",
        "    out = [None]*8\n",
        "    for i in range(8):\n",
        "        out[i] = np.fromiter((row[i:i+3] for row in arr), count=n, dtype=object)\n",
        "    return out\n",
        "tri_tr = make_trigrams(s_tr)\n",
        "tri_te = make_trigrams(s_te)\n",
        "\n",
        "# Helper signatures\n",
        "def run_length_signature(s):\n",
        "    # returns tuple of consecutive equal run lengths, e.g., 'AAABB' -> (3,2)\n",
        "    res = []\n",
        "    cur = 1\n",
        "    for i in range(1, len(s)):\n",
        "        if s[i] == s[i-1]: cur += 1\n",
        "        else:\n",
        "            res.append(cur); cur = 1\n",
        "    res.append(cur)\n",
        "    return tuple(res)\n",
        "\n",
        "def count_hist_signature(s):\n",
        "    # multiset of per-char counts sorted, e.g., 'AAABBC' -> (3,2,1)\n",
        "    from collections import Counter\n",
        "    cnt = Counter(s)\n",
        "    return tuple(sorted(cnt.values(), reverse=True))\n",
        "\n",
        "def majority_char_with_count(s):\n",
        "    from collections import Counter\n",
        "    cnt = Counter(s)\n",
        "    ch, c = max(cnt.items(), key=lambda kv: kv[1])\n",
        "    return f'{ch}|{c}'\n",
        "\n",
        "# Non-adjacent symmetric pairs around center\n",
        "pairs = [(0,9),(1,8),(2,7),(3,6),(4,5)]\n",
        "\n",
        "# Helper: OOF TE by key with smoothing m; returns oof_mean, oof_logcnt, test_mean, test_logcnt\n",
        "def oof_te_by_key(keys_tr, y, keys_te, m, prior):\n",
        "    keys_tr = pd.Series(keys_tr)\n",
        "    oof_vals = np.zeros(len(keys_tr), dtype=np.float32)\n",
        "    oof_logcnt = np.zeros(len(keys_tr), dtype=np.float32)\n",
        "    for fold in range(n_splits):\n",
        "        trn_idx = np.where(folds_arr != fold)[0]\n",
        "        val_idx = np.where(folds_arr == fold)[0]\n",
        "        k_tr = keys_tr.iloc[trn_idx]\n",
        "        y_tr = y[trn_idx]\n",
        "        grp = pd.DataFrame({'k': k_tr.values, 'y': y_tr}).groupby('k')\n",
        "        cnt = grp['y'].size()\n",
        "        sumy = grp['y'].sum()\n",
        "        te_map = ((sumy + m * prior) / (cnt + m)).astype('float32')\n",
        "        lc_map = cnt.astype('int32')\n",
        "        kval = keys_tr.iloc[val_idx]\n",
        "        te = kval.map(te_map).astype('float32')\n",
        "        lc = kval.map(lc_map).fillna(0).astype('int32')\n",
        "        te = te.fillna(prior).values\n",
        "        oof_vals[val_idx] = te\n",
        "        oof_logcnt[val_idx] = np.log1p(lc.values).astype('float32')\n",
        "    # Full fit for test\n",
        "    grp_full = pd.DataFrame({'k': keys_tr.values, 'y': y}).groupby('k')\n",
        "    cnt_full = grp_full['y'].size()\n",
        "    sumy_full = grp_full['y'].sum()\n",
        "    te_map_full = ((sumy_full + m * prior) / (cnt_full + m)).astype('float32')\n",
        "    lc_full = cnt_full.astype('int32')\n",
        "    keys_te = pd.Series(keys_te)\n",
        "    te_te = keys_te.map(te_map_full).astype('float32').fillna(prior).values\n",
        "    lc_te = np.log1p(keys_te.map(lc_full).fillna(0).astype('int32').values).astype('float32')\n",
        "    return oof_vals, oof_logcnt, te_te, lc_te\n",
        "\n",
        "y_tr = train['target'].values.astype('float32')\n",
        "\n",
        "# 1) Recompute existing TEs with adjusted smoothing (pos-char m~25, bigram m~70)\n",
        "te_pos_char_tr_mean = np.zeros((len(train), 10), dtype=np.float32)\n",
        "te_pos_char_tr_log = np.zeros((len(train), 10), dtype=np.float32)\n",
        "te_pos_char_te_mean = np.zeros((len(test), 10), dtype=np.float32)\n",
        "te_pos_char_te_log = np.zeros((len(test), 10), dtype=np.float32)\n",
        "for i in range(10):\n",
        "    k_tr = np.array([f'{i}|{int(t)}' for t in pos_char_tr[:, i]], dtype=object)\n",
        "    k_te = np.array([f'{i}|{int(t)}' for t in pos_char_te[:, i]], dtype=object)\n",
        "    o_m, o_l, t_m, t_l = oof_te_by_key(k_tr, y_tr, k_te, m=25.0, prior=prior)\n",
        "    te_pos_char_tr_mean[:, i] = o_m; te_pos_char_tr_log[:, i] = o_l\n",
        "    te_pos_char_te_mean[:, i] = t_m; te_pos_char_te_log[:, i] = t_l\n",
        "\n",
        "te_pos_bg_tr_mean = np.zeros((len(train), 9), dtype=np.float32)\n",
        "te_pos_bg_tr_log = np.zeros((len(train), 9), dtype=np.float32)\n",
        "te_pos_bg_te_mean = np.zeros((len(test), 9), dtype=np.float32)\n",
        "te_pos_bg_te_log = np.zeros((len(test), 9), dtype=np.float32)\n",
        "for i in range(9):\n",
        "    k_tr = np.array([f'{i}|{bg}' for bg in bg_tr[i]], dtype=object)\n",
        "    k_te = np.array([f'{i}|{bg}' for bg in bg_te[i]], dtype=object)\n",
        "    o_m, o_l, t_m, t_l = oof_te_by_key(k_tr, y_tr, k_te, m=70.0, prior=prior)\n",
        "    te_pos_bg_tr_mean[:, i] = o_m; te_pos_bg_tr_log[:, i] = o_l\n",
        "    te_pos_bg_te_mean[:, i] = t_m; te_pos_bg_te_log[:, i] = t_l\n",
        "\n",
        "# f27_nunique TE (m=50 unchanged)\n",
        "def f27_nunique(arr):\n",
        "    return np.fromiter((len(set(list(x))) for x in arr), count=len(arr), dtype=np.int16)\n",
        "f27_nu_tr = f27_nunique(s_tr)\n",
        "f27_nu_te = f27_nunique(s_te)\n",
        "k_tr_nu = f27_nu_tr.astype('int16')\n",
        "k_te_nu = f27_nu_te.astype('int16')\n",
        "o_m, o_l, t_m, t_l = oof_te_by_key(k_tr_nu, y_tr, k_te_nu, m=50.0, prior=prior)\n",
        "nu_te_tr_mean = o_m; nu_te_tr_log = o_l\n",
        "nu_te_te_mean = t_m; nu_te_te_log = t_l\n",
        "\n",
        "# 2) Positional trigrams TE (critical): i=0..7, m=180\u2013200\n",
        "te_tri_tr_mean = np.zeros((len(train), 8), dtype=np.float32)\n",
        "te_tri_tr_log = np.zeros((len(train), 8), dtype=np.float32)\n",
        "te_tri_te_mean = np.zeros((len(test), 8), dtype=np.float32)\n",
        "te_tri_te_log = np.zeros((len(test), 8), dtype=np.float32)\n",
        "for i in range(8):\n",
        "    ktr = np.array([f'{i}|{tri}' for tri in tri_tr[i]], dtype=object)\n",
        "    kte = np.array([f'{i}|{tri}' for tri in tri_te[i]], dtype=object)\n",
        "    o_m, o_l, t_m, t_l = oof_te_by_key(ktr, y_tr, kte, m=180.0, prior=prior)\n",
        "    te_tri_tr_mean[:, i] = o_m; te_tri_tr_log[:, i] = o_l\n",
        "    te_tri_te_mean[:, i] = t_m; te_tri_te_log[:, i] = t_l\n",
        "\n",
        "# 3) Count-hist signature TE (sorted multiset of char counts), m ~ 110\n",
        "k_tr_hist = np.fromiter((str(count_hist_signature(s)) for s in s_tr), count=len(s_tr), dtype=object)\n",
        "k_te_hist = np.fromiter((str(count_hist_signature(s)) for s in s_te), count=len(s_te), dtype=object)\n",
        "hist_tr_mean, hist_tr_log, hist_te_mean, hist_te_log = oof_te_by_key(k_tr_hist, y_tr, k_te_hist, m=110.0, prior=prior)\n",
        "\n",
        "# 4) Run-length signature TE, m ~ 70\n",
        "k_tr_run = np.fromiter((str(run_length_signature(s)) for s in s_tr), count=len(s_tr), dtype=object)\n",
        "k_te_run = np.fromiter((str(run_length_signature(s)) for s in s_te), count=len(s_te), dtype=object)\n",
        "run_tr_mean, run_tr_log, run_te_mean, run_te_log = oof_te_by_key(k_tr_run, y_tr, k_te_run, m=70.0, prior=prior)\n",
        "\n",
        "# 5) Selected non-adjacent symmetric pairs TE, m ~ 100\n",
        "pair_keys_tr = {}\n",
        "pair_keys_te = {}\n",
        "for (i,j) in pairs:\n",
        "    pair_keys_tr[(i,j)] = np.fromiter((f'{i}_{j}|{row[i]}{row[j]}' for row in s_tr), count=len(s_tr), dtype=object)\n",
        "    pair_keys_te[(i,j)] = np.fromiter((f'{i}_{j}|{row[i]}{row[j]}' for row in s_te), count=len(s_te), dtype=object)\n",
        "pair_tr_mean = {}; pair_tr_log = {}; pair_te_mean = {}; pair_te_log = {}\n",
        "for (i,j), ktr in pair_keys_tr.items():\n",
        "    kte = pair_keys_te[(i,j)]\n",
        "    o_m, o_l, t_m, t_l = oof_te_by_key(ktr, y_tr, kte, m=100.0, prior=prior)\n",
        "    pair_tr_mean[(i,j)] = o_m; pair_tr_log[(i,j)] = o_l\n",
        "    pair_te_mean[(i,j)] = t_m; pair_te_log[(i,j)] = t_l\n",
        "\n",
        "# 6) Optional: Majority-char with count TE, m ~ 60\n",
        "k_tr_maj = np.fromiter((majority_char_with_count(s) for s in s_tr), count=len(s_tr), dtype=object)\n",
        "k_te_maj = np.fromiter((majority_char_with_count(s) for s in s_te), count=len(s_te), dtype=object)\n",
        "maj_tr_mean, maj_tr_log, maj_te_mean, maj_te_log = oof_te_by_key(k_tr_maj, y_tr, k_te_maj, m=60.0, prior=prior)\n",
        "\n",
        "# Target-free frequencies (keep from previous block; recompute minimal essentials)\n",
        "N_all = float(len(train) + len(test))\n",
        "freq_full_tr = pd.Series(s_tr).map(pd.Series(np.concatenate([s_tr, s_te])).value_counts()).fillna(0).values.astype('float32') / N_all\n",
        "freq_full_te = pd.Series(s_te).map(pd.Series(np.concatenate([s_tr, s_te])).value_counts()).fillna(0).values.astype('float32') / N_all\n",
        "\n",
        "# Target-free pattern features\n",
        "def position_of_first_repeat(s):\n",
        "    for i in range(1, len(s)):\n",
        "        if s[i] == s[i-1]: return i\n",
        "    return 10\n",
        "def alternating_score(s):\n",
        "    diffs = sum(1 for i in range(1, len(s)) if s[i] != s[i-1])\n",
        "    return diffs / 9.0\n",
        "def same_diff_counts(s):\n",
        "    same = sum(1 for i in range(1, len(s)) if s[i] == s[i-1])\n",
        "    diff = 9 - same\n",
        "    return same, diff\n",
        "\n",
        "pos_first_rep_tr = np.fromiter((position_of_first_repeat(x) for x in s_tr), count=len(s_tr), dtype=np.int16)\n",
        "pos_first_rep_te = np.fromiter((position_of_first_repeat(x) for x in s_te), count=len(s_te), dtype=np.int16)\n",
        "alt_score_tr = np.fromiter((alternating_score(x) for x in s_tr), count=len(s_tr), dtype=np.float32)\n",
        "alt_score_te = np.fromiter((alternating_score(x) for x in s_te), count=len(s_te), dtype=np.float32)\n",
        "same_tr = np.zeros(len(s_tr), dtype=np.int8); diff_tr = np.zeros(len(s_tr), dtype=np.int8)\n",
        "same_te = np.zeros(len(s_te), dtype=np.int8); diff_te = np.zeros(len(s_te), dtype=np.int8)\n",
        "for idx, x in enumerate(s_tr):\n",
        "    a,b = same_diff_counts(x); same_tr[idx] = a; diff_tr[idx] = b\n",
        "for idx, x in enumerate(s_te):\n",
        "    a,b = same_diff_counts(x); same_te[idx] = a; diff_te[idx] = b\n",
        "num_runs_tr = (diff_tr + 1).astype('int8')\n",
        "num_runs_te = (diff_te + 1).astype('int8')\n",
        "\n",
        "# Include existing robust f_27 summaries if present\n",
        "add_exist_cols = {}\n",
        "for col in ['f_27_longest_run','f_27_transitions','f27_entropy','f27_first_last_same','f27_pal_matches','f27_majority_cnt','f27_majority_idx']:\n",
        "    if col in train.columns and col in test.columns:\n",
        "        add_exist_cols[col+'_tr'] = train[col].values\n",
        "        add_exist_cols[col+'_te'] = test[col].values\n",
        "\n",
        "# Assemble TE/freq/derived dataframes\n",
        "te_cols_tr = {}\n",
        "te_cols_te = {}\n",
        "# Existing adjusted TEs\n",
        "for i in range(10):\n",
        "    te_cols_tr[f'TE_pos_char_{i}_mean'] = te_pos_char_tr_mean[:, i]\n",
        "    te_cols_te[f'TE_pos_char_{i}_mean'] = te_pos_char_te_mean[:, i]\n",
        "    te_cols_tr[f'TE_pos_char_{i}_logcnt'] = te_pos_char_tr_log[:, i]\n",
        "    te_cols_te[f'TE_pos_char_{i}_logcnt'] = te_pos_char_te_log[:, i]\n",
        "for i in range(9):\n",
        "    te_cols_tr[f'TE_pos_bigram_{i}_mean'] = te_pos_bg_tr_mean[:, i]\n",
        "    te_cols_te[f'TE_pos_bigram_{i}_mean'] = te_pos_bg_te_mean[:, i]\n",
        "    te_cols_tr[f'TE_pos_bigram_{i}_logcnt'] = te_pos_bg_tr_log[:, i]\n",
        "    te_cols_te[f'TE_pos_bigram_{i}_logcnt'] = te_pos_bg_te_log[:, i]\n",
        "te_cols_tr['TE_f27_nunique_mean'] = nu_te_tr_mean\n",
        "te_cols_te['TE_f27_nunique_mean'] = nu_te_te_mean\n",
        "te_cols_tr['TE_f27_nunique_logcnt'] = nu_te_tr_log\n",
        "te_cols_te['TE_f27_nunique_logcnt'] = nu_te_te_log\n",
        "# New: trigrams\n",
        "for i in range(8):\n",
        "    te_cols_tr[f'TE_pos_trigram_{i}_mean'] = te_tri_tr_mean[:, i]\n",
        "    te_cols_te[f'TE_pos_trigram_{i}_mean'] = te_tri_te_mean[:, i]\n",
        "    te_cols_tr[f'TE_pos_trigram_{i}_logcnt'] = te_tri_tr_log[:, i]\n",
        "    te_cols_te[f'TE_pos_trigram_{i}_logcnt'] = te_tri_te_log[:, i]\n",
        "# New: count-hist and run-length signatures\n",
        "te_cols_tr['TE_counthist_mean'] = hist_tr_mean\n",
        "te_cols_tr['TE_counthist_logcnt'] = hist_tr_log\n",
        "te_cols_te['TE_counthist_mean'] = hist_te_mean\n",
        "te_cols_te['TE_counthist_logcnt'] = hist_te_log\n",
        "te_cols_tr['TE_runlen_mean'] = run_tr_mean\n",
        "te_cols_tr['TE_runlen_logcnt'] = run_tr_log\n",
        "te_cols_te['TE_runlen_mean'] = run_te_mean\n",
        "te_cols_te['TE_runlen_logcnt'] = run_te_log\n",
        "# New: non-adjacent pairs\n",
        "for (i,j) in pairs:\n",
        "    key = f'TE_pair_{i}_{j}'\n",
        "    te_cols_tr[f'{key}_mean'] = pair_tr_mean[(i,j)]\n",
        "    te_cols_tr[f'{key}_logcnt'] = pair_tr_log[(i,j)]\n",
        "    te_cols_te[f'{key}_mean'] = pair_te_mean[(i,j)]\n",
        "    te_cols_te[f'{key}_logcnt'] = pair_te_log[(i,j)]\n",
        "# Optional: majority-char TE\n",
        "te_cols_tr['TE_majority_charcnt_mean'] = maj_tr_mean\n",
        "te_cols_tr['TE_majority_charcnt_logcnt'] = maj_tr_log\n",
        "te_cols_te['TE_majority_charcnt_mean'] = maj_te_mean\n",
        "te_cols_te['TE_majority_charcnt_logcnt'] = maj_te_log\n",
        "# Target-free core freq\n",
        "te_cols_tr['FREQ_full_string'] = freq_full_tr\n",
        "te_cols_te['FREQ_full_string'] = freq_full_te\n",
        "# Target-free derived\n",
        "te_cols_tr['pos_first_repeat'] = pos_first_rep_tr.astype('int16')\n",
        "te_cols_te['pos_first_repeat'] = pos_first_rep_te.astype('int16')\n",
        "te_cols_tr['alt_score'] = alt_score_tr.astype('float32')\n",
        "te_cols_te['alt_score'] = alt_score_te.astype('float32')\n",
        "te_cols_tr['same_adj'] = same_tr.astype('int8')\n",
        "te_cols_te['same_adj'] = same_te.astype('int8')\n",
        "te_cols_tr['diff_adj'] = diff_tr.astype('int8')\n",
        "te_cols_te['diff_adj'] = diff_te.astype('int8')\n",
        "te_cols_tr['num_runs'] = num_runs_tr.astype('int8')\n",
        "te_cols_te['num_runs'] = num_runs_te.astype('int8')\n",
        "# Attach existing robust summaries if present\n",
        "for col in ['f_27_longest_run','f_27_transitions','f27_entropy','f27_first_last_same','f27_pal_matches','f27_majority_cnt','f27_majority_idx']:\n",
        "    if col in train.columns and col in test.columns:\n",
        "        te_cols_tr[col] = train[col].values\n",
        "        te_cols_te[col] = test[col].values\n",
        "\n",
        "te_train_aug = pd.DataFrame(te_cols_tr, index=train.index)\n",
        "te_test_aug = pd.DataFrame(te_cols_te, index=test.index)\n",
        "\n",
        "# Concatenate with compact features block for unseen\n",
        "assert 'comp_train' in globals() and 'comp_test' in globals(), 'Run pivot prep to build compact features first'\n",
        "X_unseen_tr = pd.concat([comp_train.reset_index(drop=True), te_train_aug.reset_index(drop=True)], axis=1)\n",
        "X_unseen_te = pd.concat([comp_test.reset_index(drop=True), te_test_aug.reset_index(drop=True)], axis=1)\n",
        "unseen_feature_cols = X_unseen_tr.columns.tolist()\n",
        "\n",
        "# Sanity checks\n",
        "assert X_unseen_tr.shape[0] == len(train) and X_unseen_te.shape[0] == len(test)\n",
        "assert not np.isnan(X_unseen_tr.values).any(), 'NaNs in X_unseen_tr'\n",
        "assert not np.isnan(X_unseen_te.values).any(), 'NaNs in X_unseen_te'\n",
        "log(f'Augmented unseen features built: {X_unseen_tr.shape[1]} cols | time {time.time()-t0:.1f}s')\n",
        "gc.collect();"
      ],
      "execution_count": 34,
      "outputs": [
        {
          "output_type": "stream",
          "name": "stdout",
          "text": [
            "[2025-09-12 03:27:58] Building augmented TE features for unseen model (trigrams, signatures, non-adj pairs) and target-free patterns...\n"
          ]
        },
        {
          "output_type": "stream",
          "name": "stdout",
          "text": [
            "[2025-09-12 03:29:02] Augmented unseen features built: 96 cols | time 64.6s\n"
          ]
        }
      ]
    },
    {
      "id": "e688b0a7-2974-43eb-9bb9-7bd706e39c61",
      "cell_type": "code",
      "metadata": {},
      "source": [
        "# Cell 31: Retrain unseen models on augmented features (4 LGB seeds + 1 XGB) with tightened params\n",
        "log('Training augmented TE unseen models: 4x LGB + 1x XGB ...')\n",
        "import numpy as np, pandas as pd, time, gc\n",
        "from sklearn.metrics import roc_auc_score\n",
        "import lightgbm as lgb\n",
        "\n",
        "assert 'X_unseen_tr' in globals() and 'X_unseen_te' in globals(), 'Run Cell 30 to build augmented features first'\n",
        "X_tr = X_unseen_tr.copy()\n",
        "X_te = X_unseen_te.copy()\n",
        "y_tr = train['target'].values.astype('float32')\n",
        "\n",
        "# Folds (locked, same as before)\n",
        "folds_df = pd.read_csv('folds_10fold_seed42.csv')\n",
        "folds_arr = folds_df['fold'].values\n",
        "n_splits = len(np.unique(folds_arr))\n",
        "\n",
        "def train_lgb_unseen_aug(seed=42, lr=0.040, num_leaves=256, min_data_in_leaf=300, ff=0.74, bf=0.80, l2=6.0, tag='au_s42'):\n",
        "    params = {\n",
        "        'objective': 'binary', 'metric': 'auc', 'boosting_type': 'gbdt',\n",
        "        'learning_rate': lr, 'num_leaves': num_leaves, 'max_depth': -1,\n",
        "        'min_data_in_leaf': min_data_in_leaf, 'feature_fraction': ff, 'bagging_fraction': bf, 'bagging_freq': 1,\n",
        "        'lambda_l1': 0.0, 'lambda_l2': l2, 'max_bin': 255, 'verbose': -1, 'n_jobs': -1,\n",
        "        'seed': seed, 'feature_fraction_seed': seed, 'bagging_seed': seed, 'data_random_seed': seed\n",
        "    }\n",
        "    oof = np.zeros(len(X_tr), dtype='float32')\n",
        "    ptest = np.zeros(len(X_te), dtype='float32')\n",
        "    t0 = time.time()\n",
        "    for fold in range(n_splits):\n",
        "        trn_idx = np.where(folds_arr != fold)[0]\n",
        "        val_idx = np.where(folds_arr == fold)[0]\n",
        "        log(f'[LGB unseen AUG] seed={seed} ff={ff} bf={bf} | Fold {fold+1}/{n_splits} | trn={len(trn_idx)} val={len(val_idx)}')\n",
        "        dtr = lgb.Dataset(X_tr.iloc[trn_idx], label=y_tr[trn_idx])\n",
        "        dvl = lgb.Dataset(X_tr.iloc[val_idx], label=y_tr[val_idx])\n",
        "        model = lgb.train(params, dtr, num_boost_round=6000, valid_sets=[dtr, dvl], valid_names=['train','valid'], callbacks=[lgb.early_stopping(200), lgb.log_evaluation(200)])\n",
        "        oof[val_idx] = model.predict(X_tr.iloc[val_idx], num_iteration=model.best_iteration)\n",
        "        auc = roc_auc_score(y_tr[val_idx], oof[val_idx])\n",
        "        log(f'[LGB unseen AUG] seed={seed} fold={fold} AUC: {auc:.6f} | best_iter={model.best_iteration}')\n",
        "        ptest += model.predict(X_te, num_iteration=model.best_iteration) / n_splits\n",
        "        del dtr, dvl, model; gc.collect()\n",
        "    cv_auc = roc_auc_score(y_tr, oof)\n",
        "    log(f'[LGB unseen AUG] seed={seed} OOF AUC: {cv_auc:.6f} | elapsed={time.time()-t0:.1f}s')\n",
        "    pd.DataFrame({'id': train['id'], f'oof_lgb_unseen_{tag}': oof}).to_csv(f'oof_lgb_unseen_{tag}.csv', index=False)\n",
        "    pd.DataFrame({'id': test['id'], f'prediction_lgb_unseen_{tag}': ptest}).to_csv(f'pred_lgb_unseen_{tag}.csv', index=False)\n",
        "    log(f'[LGB unseen AUG] Saved OOF/test preds for {tag}')\n",
        "\n",
        "# 4 LGB seeds with slight diversity per expert guidance\n",
        "lgb_cfgs = [\n",
        "    (42,   0.040, 256, 300, 0.74, 0.82, 6.0, 'au_s42'),\n",
        "    (1337, 0.042, 288, 320, 0.70, 0.85, 7.0, 'au_s1337'),\n",
        "    (2025, 0.038, 224, 300, 0.78, 0.78, 5.0, 'au_s2025'),\n",
        "    (7,    0.040, 320, 340, 0.72, 0.80, 8.0, 'au_s7'),\n",
        "]\n",
        "for s, lr, nl, mdl, ff, bf, l2, tag in lgb_cfgs:\n",
        "    train_lgb_unseen_aug(seed=s, lr=lr, num_leaves=nl, min_data_in_leaf=mdl, ff=ff, bf=bf, l2=l2, tag=tag)\n",
        "log('All augmented LGB unseen seeds finished.')\n",
        "\n",
        "# XGBoost on augmented features\n",
        "log('Training XGBoost unseen (augmented features) ...')\n",
        "try:\n",
        "    import xgboost as xgb\n",
        "except ImportError:\n",
        "    import sys, subprocess\n",
        "    log('XGBoost not found. Installing...')\n",
        "    subprocess.check_call([sys.executable, '-m', 'pip', 'install', '-q', 'xgboost'])\n",
        "    import xgboost as xgb\n",
        "\n",
        "dtest = xgb.DMatrix(X_te)\n",
        "oof_xgb_u = np.zeros(len(X_tr), dtype='float32')\n",
        "pred_xgb_u = np.zeros(len(X_te), dtype='float32')\n",
        "xgb_params = {\n",
        "    'objective': 'binary:logistic', 'eval_metric': 'auc', 'tree_method': 'hist', 'max_bin': 256,\n",
        "    'eta': 0.040, 'max_depth': 9, 'min_child_weight': 120, 'subsample': 0.80, 'colsample_bytree': 0.75, 'lambda': 4.0,\n",
        "    'nthread': 36, 'seed': 42\n",
        "}\n",
        "num_boost_round = 3800\n",
        "early_stopping_rounds = 180\n",
        "for fold in range(n_splits):\n",
        "    trn_idx = np.where(folds_arr != fold)[0]\n",
        "    val_idx = np.where(folds_arr == fold)[0]\n",
        "    log(f'[XGB unseen AUG] Fold {fold+1}/{n_splits} | trn={len(trn_idx)} val={len(val_idx)}')\n",
        "    dtr = xgb.DMatrix(X_tr.iloc[trn_idx], label=y_tr[trn_idx])\n",
        "    dvl = xgb.DMatrix(X_tr.iloc[val_idx], label=y_tr[val_idx])\n",
        "    bst = xgb.train(params=xgb_params, dtrain=dtr, num_boost_round=num_boost_round, evals=[(dtr,'train'),(dvl,'valid')], early_stopping_rounds=early_stopping_rounds, verbose_eval=200)\n",
        "    best_iter = None\n",
        "    try:\n",
        "        attrs = bst.attributes()\n",
        "        if 'best_iteration' in attrs:\n",
        "            best_iter = int(attrs['best_iteration'])\n",
        "    except Exception:\n",
        "        best_iter = getattr(bst, 'best_iteration', None)\n",
        "    if best_iter is not None and best_iter >= 0:\n",
        "        oof_pred = bst.predict(dvl, iteration_range=(0, best_iter + 1))\n",
        "        pred_te = bst.predict(dtest, iteration_range=(0, best_iter + 1))\n",
        "    else:\n",
        "        oof_pred = bst.predict(dvl)\n",
        "        pred_te = bst.predict(dtest)\n",
        "    oof_xgb_u[val_idx] = oof_pred.astype('float32')\n",
        "    pred_xgb_u += (pred_te.astype('float32') / n_splits)\n",
        "    del dtr, dvl, bst; gc.collect()\n",
        "auc_xgb_u = roc_auc_score(y_tr, oof_xgb_u)\n",
        "log(f'[XGB unseen AUG] OOF AUC: {auc_xgb_u:.6f}')\n",
        "pd.DataFrame({'id': train['id'], 'oof_xgb_unseen_aug': oof_xgb_u}).to_csv('oof_xgb_unseen_aug.csv', index=False)\n",
        "pd.DataFrame({'id': test['id'], 'prediction_xgb_unseen_aug': pred_xgb_u}).to_csv('pred_xgb_unseen_aug.csv', index=False)\n",
        "log('[XGB unseen AUG] Saved OOF and test predictions.')"
      ],
      "execution_count": 35,
      "outputs": [
        {
          "output_type": "stream",
          "name": "stdout",
          "text": [
            "[2025-09-12 03:30:31] Training augmented TE unseen models: 4x LGB + 1x XGB ...\n"
          ]
        },
        {
          "output_type": "stream",
          "name": "stdout",
          "text": [
            "[2025-09-12 03:30:31] [LGB unseen AUG] seed=42 ff=0.74 bf=0.82 | Fold 1/10 | trn=720000 val=80000\n"
          ]
        },
        {
          "output_type": "stream",
          "name": "stdout",
          "text": [
            "Training until validation scores don't improve for 200 rounds\n"
          ]
        },
        {
          "output_type": "stream",
          "name": "stdout",
          "text": [
            "[200]\ttrain's auc: 0.837319\tvalid's auc: 0.81735\n"
          ]
        },
        {
          "output_type": "stream",
          "name": "stdout",
          "text": [
            "[400]\ttrain's auc: 0.854422\tvalid's auc: 0.818343\n"
          ]
        },
        {
          "output_type": "stream",
          "name": "stdout",
          "text": [
            "Early stopping, best iteration is:\n[357]\ttrain's auc: 0.851167\tvalid's auc: 0.818411\n"
          ]
        },
        {
          "output_type": "stream",
          "name": "stdout",
          "text": [
            "[2025-09-12 03:31:21] [LGB unseen AUG] seed=42 fold=0 AUC: 0.818411 | best_iter=357\n"
          ]
        },
        {
          "output_type": "stream",
          "name": "stdout",
          "text": [
            "[2025-09-12 03:31:21] [LGB unseen AUG] seed=42 ff=0.74 bf=0.82 | Fold 2/10 | trn=720000 val=80000\n"
          ]
        },
        {
          "output_type": "stream",
          "name": "stdout",
          "text": [
            "Training until validation scores don't improve for 200 rounds\n"
          ]
        },
        {
          "output_type": "stream",
          "name": "stdout",
          "text": [
            "[200]\ttrain's auc: 0.837241\tvalid's auc: 0.817103\n"
          ]
        },
        {
          "output_type": "stream",
          "name": "stdout",
          "text": [
            "[400]\ttrain's auc: 0.854416\tvalid's auc: 0.818302\n"
          ]
        },
        {
          "output_type": "stream",
          "name": "stdout",
          "text": [
            "[600]\ttrain's auc: 0.869064\tvalid's auc: 0.818146\n"
          ]
        },
        {
          "output_type": "stream",
          "name": "stdout",
          "text": [
            "Early stopping, best iteration is:\n[443]\ttrain's auc: 0.857711\tvalid's auc: 0.818319\n"
          ]
        },
        {
          "output_type": "stream",
          "name": "stdout",
          "text": [
            "[2025-09-12 03:32:19] [LGB unseen AUG] seed=42 fold=1 AUC: 0.818319 | best_iter=443\n"
          ]
        },
        {
          "output_type": "stream",
          "name": "stdout",
          "text": [
            "[2025-09-12 03:32:19] [LGB unseen AUG] seed=42 ff=0.74 bf=0.82 | Fold 3/10 | trn=720000 val=80000\n"
          ]
        },
        {
          "output_type": "stream",
          "name": "stdout",
          "text": [
            "Training until validation scores don't improve for 200 rounds\n"
          ]
        },
        {
          "output_type": "stream",
          "name": "stdout",
          "text": [
            "[200]\ttrain's auc: 0.836805\tvalid's auc: 0.820437\n"
          ]
        },
        {
          "output_type": "stream",
          "name": "stdout",
          "text": [
            "[400]\ttrain's auc: 0.853859\tvalid's auc: 0.821622\n"
          ]
        },
        {
          "output_type": "stream",
          "name": "stdout",
          "text": [
            "[600]\ttrain's auc: 0.868458\tvalid's auc: 0.821402\n"
          ]
        },
        {
          "output_type": "stream",
          "name": "stdout",
          "text": [
            "Early stopping, best iteration is:\n[434]\ttrain's auc: 0.856476\tvalid's auc: 0.821644\n"
          ]
        },
        {
          "output_type": "stream",
          "name": "stdout",
          "text": [
            "[2025-09-12 03:33:15] [LGB unseen AUG] seed=42 fold=2 AUC: 0.821644 | best_iter=434\n"
          ]
        },
        {
          "output_type": "stream",
          "name": "stdout",
          "text": [
            "[2025-09-12 03:33:15] [LGB unseen AUG] seed=42 ff=0.74 bf=0.82 | Fold 4/10 | trn=720000 val=80000\n"
          ]
        },
        {
          "output_type": "stream",
          "name": "stdout",
          "text": [
            "Training until validation scores don't improve for 200 rounds\n"
          ]
        },
        {
          "output_type": "stream",
          "name": "stdout",
          "text": [
            "[200]\ttrain's auc: 0.837246\tvalid's auc: 0.817179\n"
          ]
        },
        {
          "output_type": "stream",
          "name": "stdout",
          "text": [
            "[400]\ttrain's auc: 0.854464\tvalid's auc: 0.818352\n"
          ]
        },
        {
          "output_type": "stream",
          "name": "stdout",
          "text": [
            "Early stopping, best iteration is:\n[375]\ttrain's auc: 0.852559\tvalid's auc: 0.81842\n"
          ]
        },
        {
          "output_type": "stream",
          "name": "stdout",
          "text": [
            "[2025-09-12 03:34:06] [LGB unseen AUG] seed=42 fold=3 AUC: 0.818420 | best_iter=375\n"
          ]
        },
        {
          "output_type": "stream",
          "name": "stdout",
          "text": [
            "[2025-09-12 03:34:07] [LGB unseen AUG] seed=42 ff=0.74 bf=0.82 | Fold 5/10 | trn=720000 val=80000\n"
          ]
        },
        {
          "output_type": "stream",
          "name": "stdout",
          "text": [
            "Training until validation scores don't improve for 200 rounds\n"
          ]
        },
        {
          "output_type": "stream",
          "name": "stdout",
          "text": [
            "[200]\ttrain's auc: 0.837087\tvalid's auc: 0.820318\n"
          ]
        },
        {
          "output_type": "stream",
          "name": "stdout",
          "text": [
            "[400]\ttrain's auc: 0.854287\tvalid's auc: 0.821057\n"
          ]
        },
        {
          "output_type": "stream",
          "name": "stdout",
          "text": [
            "Early stopping, best iteration is:\n[351]\ttrain's auc: 0.850367\tvalid's auc: 0.821093\n"
          ]
        },
        {
          "output_type": "stream",
          "name": "stdout",
          "text": [
            "[2025-09-12 03:35:00] [LGB unseen AUG] seed=42 fold=4 AUC: 0.821093 | best_iter=351\n"
          ]
        },
        {
          "output_type": "stream",
          "name": "stdout",
          "text": [
            "[2025-09-12 03:35:01] [LGB unseen AUG] seed=42 ff=0.74 bf=0.82 | Fold 6/10 | trn=720000 val=80000\n"
          ]
        },
        {
          "output_type": "stream",
          "name": "stdout",
          "text": [
            "Training until validation scores don't improve for 200 rounds\n"
          ]
        },
        {
          "output_type": "stream",
          "name": "stdout",
          "text": [
            "[200]\ttrain's auc: 0.837337\tvalid's auc: 0.81569\n"
          ]
        },
        {
          "output_type": "stream",
          "name": "stdout",
          "text": [
            "[400]\ttrain's auc: 0.854447\tvalid's auc: 0.816745\n"
          ]
        },
        {
          "output_type": "stream",
          "name": "stdout",
          "text": [
            "[600]\ttrain's auc: 0.868865\tvalid's auc: 0.816643\n"
          ]
        },
        {
          "output_type": "stream",
          "name": "stdout",
          "text": [
            "Early stopping, best iteration is:\n[498]\ttrain's auc: 0.861734\tvalid's auc: 0.816788\n"
          ]
        },
        {
          "output_type": "stream",
          "name": "stdout",
          "text": [
            "[2025-09-12 03:36:02] [LGB unseen AUG] seed=42 fold=5 AUC: 0.816788 | best_iter=498\n"
          ]
        },
        {
          "output_type": "stream",
          "name": "stdout",
          "text": [
            "[2025-09-12 03:36:03] [LGB unseen AUG] seed=42 ff=0.74 bf=0.82 | Fold 7/10 | trn=720000 val=80000\n"
          ]
        },
        {
          "output_type": "stream",
          "name": "stdout",
          "text": [
            "Training until validation scores don't improve for 200 rounds\n"
          ]
        },
        {
          "output_type": "stream",
          "name": "stdout",
          "text": [
            "[200]\ttrain's auc: 0.837166\tvalid's auc: 0.817983\n"
          ]
        },
        {
          "output_type": "stream",
          "name": "stdout",
          "text": [
            "[400]\ttrain's auc: 0.854445\tvalid's auc: 0.818901\n"
          ]
        },
        {
          "output_type": "stream",
          "name": "stdout",
          "text": [
            "[600]\ttrain's auc: 0.869055\tvalid's auc: 0.818831\n"
          ]
        },
        {
          "output_type": "stream",
          "name": "stdout",
          "text": [
            "Early stopping, best iteration is:\n[501]\ttrain's auc: 0.86201\tvalid's auc: 0.819034\n"
          ]
        },
        {
          "output_type": "stream",
          "name": "stdout",
          "text": [
            "[2025-09-12 03:37:03] [LGB unseen AUG] seed=42 fold=6 AUC: 0.819034 | best_iter=501\n"
          ]
        },
        {
          "output_type": "stream",
          "name": "stdout",
          "text": [
            "[2025-09-12 03:37:04] [LGB unseen AUG] seed=42 ff=0.74 bf=0.82 | Fold 8/10 | trn=720000 val=80000\n"
          ]
        },
        {
          "output_type": "stream",
          "name": "stdout",
          "text": [
            "Training until validation scores don't improve for 200 rounds\n"
          ]
        },
        {
          "output_type": "stream",
          "name": "stdout",
          "text": [
            "[200]\ttrain's auc: 0.83717\tvalid's auc: 0.817476\n"
          ]
        },
        {
          "output_type": "stream",
          "name": "stdout",
          "text": [
            "[400]\ttrain's auc: 0.854315\tvalid's auc: 0.818273\n"
          ]
        },
        {
          "output_type": "stream",
          "name": "stdout",
          "text": [
            "Early stopping, best iteration is:\n[395]\ttrain's auc: 0.853935\tvalid's auc: 0.818315\n"
          ]
        },
        {
          "output_type": "stream",
          "name": "stdout",
          "text": [
            "[2025-09-12 03:37:55] [LGB unseen AUG] seed=42 fold=7 AUC: 0.818315 | best_iter=395\n"
          ]
        },
        {
          "output_type": "stream",
          "name": "stdout",
          "text": [
            "[2025-09-12 03:37:56] [LGB unseen AUG] seed=42 ff=0.74 bf=0.82 | Fold 9/10 | trn=720000 val=80000\n"
          ]
        },
        {
          "output_type": "stream",
          "name": "stdout",
          "text": [
            "Training until validation scores don't improve for 200 rounds\n"
          ]
        },
        {
          "output_type": "stream",
          "name": "stdout",
          "text": [
            "[200]\ttrain's auc: 0.837261\tvalid's auc: 0.818156\n"
          ]
        },
        {
          "output_type": "stream",
          "name": "stdout",
          "text": [
            "[400]\ttrain's auc: 0.854456\tvalid's auc: 0.819097\n"
          ]
        },
        {
          "output_type": "stream",
          "name": "stdout",
          "text": [
            "Early stopping, best iteration is:\n[350]\ttrain's auc: 0.850611\tvalid's auc: 0.819145\n"
          ]
        },
        {
          "output_type": "stream",
          "name": "stdout",
          "text": [
            "[2025-09-12 03:38:44] [LGB unseen AUG] seed=42 fold=8 AUC: 0.819145 | best_iter=350\n"
          ]
        },
        {
          "output_type": "stream",
          "name": "stdout",
          "text": [
            "[2025-09-12 03:38:45] [LGB unseen AUG] seed=42 ff=0.74 bf=0.82 | Fold 10/10 | trn=720000 val=80000\n"
          ]
        },
        {
          "output_type": "stream",
          "name": "stdout",
          "text": [
            "Training until validation scores don't improve for 200 rounds\n"
          ]
        },
        {
          "output_type": "stream",
          "name": "stdout",
          "text": [
            "[200]\ttrain's auc: 0.837072\tvalid's auc: 0.819659\n"
          ]
        },
        {
          "output_type": "stream",
          "name": "stdout",
          "text": [
            "[400]\ttrain's auc: 0.854175\tvalid's auc: 0.820534\n"
          ]
        },
        {
          "output_type": "stream",
          "name": "stdout",
          "text": [
            "[600]\ttrain's auc: 0.868746\tvalid's auc: 0.820551\n"
          ]
        },
        {
          "output_type": "stream",
          "name": "stdout",
          "text": [
            "Early stopping, best iteration is:\n[518]\ttrain's auc: 0.862965\tvalid's auc: 0.820684\n"
          ]
        },
        {
          "output_type": "stream",
          "name": "stdout",
          "text": [
            "[2025-09-12 03:39:47] [LGB unseen AUG] seed=42 fold=9 AUC: 0.820684 | best_iter=518\n"
          ]
        },
        {
          "output_type": "stream",
          "name": "stdout",
          "text": [
            "[2025-09-12 03:39:48] [LGB unseen AUG] seed=42 OOF AUC: 0.819172 | elapsed=557.2s\n"
          ]
        },
        {
          "output_type": "stream",
          "name": "stdout",
          "text": [
            "[2025-09-12 03:39:49] [LGB unseen AUG] Saved OOF/test preds for au_s42\n"
          ]
        },
        {
          "output_type": "stream",
          "name": "stdout",
          "text": [
            "[2025-09-12 03:39:49] [LGB unseen AUG] seed=1337 ff=0.7 bf=0.85 | Fold 1/10 | trn=720000 val=80000\n"
          ]
        },
        {
          "output_type": "stream",
          "name": "stdout",
          "text": [
            "Training until validation scores don't improve for 200 rounds\n"
          ]
        },
        {
          "output_type": "stream",
          "name": "stdout",
          "text": [
            "[200]\ttrain's auc: 0.840384\tvalid's auc: 0.817758\n"
          ]
        },
        {
          "output_type": "stream",
          "name": "stdout",
          "text": [
            "[400]\ttrain's auc: 0.859396\tvalid's auc: 0.818602\n"
          ]
        },
        {
          "output_type": "stream",
          "name": "stdout",
          "text": [
            "Early stopping, best iteration is:\n[365]\ttrain's auc: 0.856376\tvalid's auc: 0.818684\n"
          ]
        },
        {
          "output_type": "stream",
          "name": "stdout",
          "text": [
            "[2025-09-12 03:40:41] [LGB unseen AUG] seed=1337 fold=0 AUC: 0.818684 | best_iter=365\n"
          ]
        },
        {
          "output_type": "stream",
          "name": "stdout",
          "text": [
            "[2025-09-12 03:40:42] [LGB unseen AUG] seed=1337 ff=0.7 bf=0.85 | Fold 2/10 | trn=720000 val=80000\n"
          ]
        },
        {
          "output_type": "stream",
          "name": "stdout",
          "text": [
            "Training until validation scores don't improve for 200 rounds\n"
          ]
        },
        {
          "output_type": "stream",
          "name": "stdout",
          "text": [
            "[200]\ttrain's auc: 0.84044\tvalid's auc: 0.817565\n"
          ]
        },
        {
          "output_type": "stream",
          "name": "stdout",
          "text": [
            "[400]\ttrain's auc: 0.859402\tvalid's auc: 0.818332\n"
          ]
        },
        {
          "output_type": "stream",
          "name": "stdout",
          "text": [
            "[600]\ttrain's auc: 0.87564\tvalid's auc: 0.818228\n"
          ]
        },
        {
          "output_type": "stream",
          "name": "stdout",
          "text": [
            "Early stopping, best iteration is:\n[430]\ttrain's auc: 0.861943\tvalid's auc: 0.818408\n"
          ]
        },
        {
          "output_type": "stream",
          "name": "stdout",
          "text": [
            "[2025-09-12 03:41:39] [LGB unseen AUG] seed=1337 fold=1 AUC: 0.818408 | best_iter=430\n"
          ]
        },
        {
          "output_type": "stream",
          "name": "stdout",
          "text": [
            "[2025-09-12 03:41:40] [LGB unseen AUG] seed=1337 ff=0.7 bf=0.85 | Fold 3/10 | trn=720000 val=80000\n"
          ]
        },
        {
          "output_type": "stream",
          "name": "stdout",
          "text": [
            "Training until validation scores don't improve for 200 rounds\n"
          ]
        },
        {
          "output_type": "stream",
          "name": "stdout",
          "text": [
            "[200]\ttrain's auc: 0.84013\tvalid's auc: 0.820396\n"
          ]
        },
        {
          "output_type": "stream",
          "name": "stdout",
          "text": [
            "[400]\ttrain's auc: 0.859151\tvalid's auc: 0.821418\n"
          ]
        },
        {
          "output_type": "stream",
          "name": "stdout",
          "text": [
            "Early stopping, best iteration is:\n[398]\ttrain's auc: 0.858962\tvalid's auc: 0.821431\n"
          ]
        },
        {
          "output_type": "stream",
          "name": "stdout",
          "text": [
            "[2025-09-12 03:42:33] [LGB unseen AUG] seed=1337 fold=2 AUC: 0.821431 | best_iter=398\n"
          ]
        },
        {
          "output_type": "stream",
          "name": "stdout",
          "text": [
            "[2025-09-12 03:42:33] [LGB unseen AUG] seed=1337 ff=0.7 bf=0.85 | Fold 4/10 | trn=720000 val=80000\n"
          ]
        },
        {
          "output_type": "stream",
          "name": "stdout",
          "text": [
            "Training until validation scores don't improve for 200 rounds\n"
          ]
        },
        {
          "output_type": "stream",
          "name": "stdout",
          "text": [
            "[200]\ttrain's auc: 0.840448\tvalid's auc: 0.817508\n"
          ]
        },
        {
          "output_type": "stream",
          "name": "stdout",
          "text": [
            "[400]\ttrain's auc: 0.859338\tvalid's auc: 0.818155\n"
          ]
        },
        {
          "output_type": "stream",
          "name": "stdout",
          "text": [
            "Early stopping, best iteration is:\n[302]\ttrain's auc: 0.850793\tvalid's auc: 0.818247\n"
          ]
        },
        {
          "output_type": "stream",
          "name": "stdout",
          "text": [
            "[2025-09-12 03:43:19] [LGB unseen AUG] seed=1337 fold=3 AUC: 0.818247 | best_iter=302\n"
          ]
        },
        {
          "output_type": "stream",
          "name": "stdout",
          "text": [
            "[2025-09-12 03:43:20] [LGB unseen AUG] seed=1337 ff=0.7 bf=0.85 | Fold 5/10 | trn=720000 val=80000\n"
          ]
        },
        {
          "output_type": "stream",
          "name": "stdout",
          "text": [
            "Training until validation scores don't improve for 200 rounds\n"
          ]
        },
        {
          "output_type": "stream",
          "name": "stdout",
          "text": [
            "[200]\ttrain's auc: 0.840215\tvalid's auc: 0.820282\n"
          ]
        },
        {
          "output_type": "stream",
          "name": "stdout",
          "text": [
            "[400]\ttrain's auc: 0.859234\tvalid's auc: 0.820576\n"
          ]
        },
        {
          "output_type": "stream",
          "name": "stdout",
          "text": [
            "Early stopping, best iteration is:\n[347]\ttrain's auc: 0.854624\tvalid's auc: 0.82068\n"
          ]
        },
        {
          "output_type": "stream",
          "name": "stdout",
          "text": [
            "[2025-09-12 03:44:26] [LGB unseen AUG] seed=1337 fold=4 AUC: 0.820680 | best_iter=347\n"
          ]
        },
        {
          "output_type": "stream",
          "name": "stdout",
          "text": [
            "[2025-09-12 03:44:27] [LGB unseen AUG] seed=1337 ff=0.7 bf=0.85 | Fold 6/10 | trn=720000 val=80000\n"
          ]
        },
        {
          "output_type": "stream",
          "name": "stdout",
          "text": [
            "Training until validation scores don't improve for 200 rounds\n"
          ]
        },
        {
          "output_type": "stream",
          "name": "stdout",
          "text": [
            "[200]\ttrain's auc: 0.84067\tvalid's auc: 0.816101\n"
          ]
        },
        {
          "output_type": "stream",
          "name": "stdout",
          "text": [
            "[400]\ttrain's auc: 0.859839\tvalid's auc: 0.817045\n"
          ]
        },
        {
          "output_type": "stream",
          "name": "stdout",
          "text": [
            "Early stopping, best iteration is:\n[397]\ttrain's auc: 0.859547\tvalid's auc: 0.817057\n"
          ]
        },
        {
          "output_type": "stream",
          "name": "stdout",
          "text": [
            "[2025-09-12 03:45:42] [LGB unseen AUG] seed=1337 fold=5 AUC: 0.817057 | best_iter=397\n"
          ]
        },
        {
          "output_type": "stream",
          "name": "stdout",
          "text": [
            "[2025-09-12 03:45:42] [LGB unseen AUG] seed=1337 ff=0.7 bf=0.85 | Fold 7/10 | trn=720000 val=80000\n"
          ]
        },
        {
          "output_type": "stream",
          "name": "stdout",
          "text": [
            "Training until validation scores don't improve for 200 rounds\n"
          ]
        },
        {
          "output_type": "stream",
          "name": "stdout",
          "text": [
            "[200]\ttrain's auc: 0.840341\tvalid's auc: 0.818119\n"
          ]
        },
        {
          "output_type": "stream",
          "name": "stdout",
          "text": [
            "[400]\ttrain's auc: 0.85941\tvalid's auc: 0.818768\n"
          ]
        },
        {
          "output_type": "stream",
          "name": "stdout",
          "text": [
            "[600]\ttrain's auc: 0.87542\tvalid's auc: 0.818685\n"
          ]
        },
        {
          "output_type": "stream",
          "name": "stdout",
          "text": [
            "Early stopping, best iteration is:\n[445]\ttrain's auc: 0.863231\tvalid's auc: 0.818844\n"
          ]
        },
        {
          "output_type": "stream",
          "name": "stdout",
          "text": [
            "[2025-09-12 03:47:00] [LGB unseen AUG] seed=1337 fold=6 AUC: 0.818844 | best_iter=445\n"
          ]
        },
        {
          "output_type": "stream",
          "name": "stdout",
          "text": [
            "[2025-09-12 03:47:01] [LGB unseen AUG] seed=1337 ff=0.7 bf=0.85 | Fold 8/10 | trn=720000 val=80000\n"
          ]
        },
        {
          "output_type": "stream",
          "name": "stdout",
          "text": [
            "Training until validation scores don't improve for 200 rounds\n"
          ]
        },
        {
          "output_type": "stream",
          "name": "stdout",
          "text": [
            "[200]\ttrain's auc: 0.8405\tvalid's auc: 0.817939\n"
          ]
        },
        {
          "output_type": "stream",
          "name": "stdout",
          "text": [
            "[400]\ttrain's auc: 0.859458\tvalid's auc: 0.818666\n"
          ]
        },
        {
          "output_type": "stream",
          "name": "stdout",
          "text": [
            "[600]\ttrain's auc: 0.875379\tvalid's auc: 0.818166\nEarly stopping, best iteration is:\n[402]\ttrain's auc: 0.859619\tvalid's auc: 0.81867\n"
          ]
        },
        {
          "output_type": "stream",
          "name": "stdout",
          "text": [
            "[2025-09-12 03:48:12] [LGB unseen AUG] seed=1337 fold=7 AUC: 0.818670 | best_iter=402\n"
          ]
        },
        {
          "output_type": "stream",
          "name": "stdout",
          "text": [
            "[2025-09-12 03:48:12] [LGB unseen AUG] seed=1337 ff=0.7 bf=0.85 | Fold 9/10 | trn=720000 val=80000\n"
          ]
        },
        {
          "output_type": "stream",
          "name": "stdout",
          "text": [
            "Training until validation scores don't improve for 200 rounds\n"
          ]
        },
        {
          "output_type": "stream",
          "name": "stdout",
          "text": [
            "[200]\ttrain's auc: 0.840404\tvalid's auc: 0.81827\n"
          ]
        },
        {
          "output_type": "stream",
          "name": "stdout",
          "text": [
            "[400]\ttrain's auc: 0.859466\tvalid's auc: 0.818753\n"
          ]
        },
        {
          "output_type": "stream",
          "name": "stdout",
          "text": [
            "[600]\ttrain's auc: 0.875638\tvalid's auc: 0.818597\n"
          ]
        },
        {
          "output_type": "stream",
          "name": "stdout",
          "text": [
            "Early stopping, best iteration is:\n[456]\ttrain's auc: 0.864183\tvalid's auc: 0.818908\n"
          ]
        },
        {
          "output_type": "stream",
          "name": "stdout",
          "text": [
            "[2025-09-12 03:49:31] [LGB unseen AUG] seed=1337 fold=8 AUC: 0.818908 | best_iter=456\n"
          ]
        },
        {
          "output_type": "stream",
          "name": "stdout",
          "text": [
            "[2025-09-12 03:49:31] [LGB unseen AUG] seed=1337 ff=0.7 bf=0.85 | Fold 10/10 | trn=720000 val=80000\n"
          ]
        },
        {
          "output_type": "stream",
          "name": "stdout",
          "text": [
            "Training until validation scores don't improve for 200 rounds\n"
          ]
        },
        {
          "output_type": "stream",
          "name": "stdout",
          "text": [
            "[200]\ttrain's auc: 0.84014\tvalid's auc: 0.820116\n"
          ]
        },
        {
          "output_type": "stream",
          "name": "stdout",
          "text": [
            "[400]\ttrain's auc: 0.859113\tvalid's auc: 0.820836\n"
          ]
        },
        {
          "output_type": "stream",
          "name": "stdout",
          "text": [
            "Early stopping, best iteration is:\n[393]\ttrain's auc: 0.858505\tvalid's auc: 0.820877\n"
          ]
        },
        {
          "output_type": "stream",
          "name": "stdout",
          "text": [
            "[2025-09-12 03:50:41] [LGB unseen AUG] seed=1337 fold=9 AUC: 0.820877 | best_iter=393\n"
          ]
        },
        {
          "output_type": "stream",
          "name": "stdout",
          "text": [
            "[2025-09-12 03:50:42] [LGB unseen AUG] seed=1337 OOF AUC: 0.819164 | elapsed=652.6s\n"
          ]
        },
        {
          "output_type": "stream",
          "name": "stdout",
          "text": [
            "[2025-09-12 03:50:43] [LGB unseen AUG] Saved OOF/test preds for au_s1337\n"
          ]
        },
        {
          "output_type": "stream",
          "name": "stdout",
          "text": [
            "[2025-09-12 03:50:43] [LGB unseen AUG] seed=2025 ff=0.78 bf=0.78 | Fold 1/10 | trn=720000 val=80000\n"
          ]
        },
        {
          "output_type": "stream",
          "name": "stdout",
          "text": [
            "Training until validation scores don't improve for 200 rounds\n"
          ]
        },
        {
          "output_type": "stream",
          "name": "stdout",
          "text": [
            "[200]\ttrain's auc: 0.834007\tvalid's auc: 0.817175\n"
          ]
        },
        {
          "output_type": "stream",
          "name": "stdout",
          "text": [
            "[400]\ttrain's auc: 0.849264\tvalid's auc: 0.818421\n"
          ]
        },
        {
          "output_type": "stream",
          "name": "stdout",
          "text": [
            "[600]\ttrain's auc: 0.862212\tvalid's auc: 0.818513\n"
          ]
        },
        {
          "output_type": "stream",
          "name": "stdout",
          "text": [
            "[800]\ttrain's auc: 0.8739\tvalid's auc: 0.818273\n"
          ]
        },
        {
          "output_type": "stream",
          "name": "stdout",
          "text": [
            "Early stopping, best iteration is:\n[661]\ttrain's auc: 0.865891\tvalid's auc: 0.818611\n"
          ]
        },
        {
          "output_type": "stream",
          "name": "stdout",
          "text": [
            "[2025-09-12 03:51:54] [LGB unseen AUG] seed=2025 fold=0 AUC: 0.818611 | best_iter=661\n"
          ]
        },
        {
          "output_type": "stream",
          "name": "stdout",
          "text": [
            "[2025-09-12 03:51:55] [LGB unseen AUG] seed=2025 ff=0.78 bf=0.78 | Fold 2/10 | trn=720000 val=80000\n"
          ]
        },
        {
          "output_type": "stream",
          "name": "stdout",
          "text": [
            "Training until validation scores don't improve for 200 rounds\n"
          ]
        },
        {
          "output_type": "stream",
          "name": "stdout",
          "text": [
            "[200]\ttrain's auc: 0.834051\tvalid's auc: 0.816791\n"
          ]
        },
        {
          "output_type": "stream",
          "name": "stdout",
          "text": [
            "[400]\ttrain's auc: 0.849345\tvalid's auc: 0.818092\n"
          ]
        },
        {
          "output_type": "stream",
          "name": "stdout",
          "text": [
            "[600]\ttrain's auc: 0.86223\tvalid's auc: 0.818055\n"
          ]
        },
        {
          "output_type": "stream",
          "name": "stdout",
          "text": [
            "Early stopping, best iteration is:\n[439]\ttrain's auc: 0.851978\tvalid's auc: 0.81811\n"
          ]
        },
        {
          "output_type": "stream",
          "name": "stdout",
          "text": [
            "[2025-09-12 03:52:49] [LGB unseen AUG] seed=2025 fold=1 AUC: 0.818110 | best_iter=439\n"
          ]
        },
        {
          "output_type": "stream",
          "name": "stdout",
          "text": [
            "[2025-09-12 03:52:50] [LGB unseen AUG] seed=2025 ff=0.78 bf=0.78 | Fold 3/10 | trn=720000 val=80000\n"
          ]
        },
        {
          "output_type": "stream",
          "name": "stdout",
          "text": [
            "Training until validation scores don't improve for 200 rounds\n"
          ]
        },
        {
          "output_type": "stream",
          "name": "stdout",
          "text": [
            "[200]\ttrain's auc: 0.8337\tvalid's auc: 0.820004\n"
          ]
        },
        {
          "output_type": "stream",
          "name": "stdout",
          "text": [
            "[400]\ttrain's auc: 0.848955\tvalid's auc: 0.821448\n"
          ]
        },
        {
          "output_type": "stream",
          "name": "stdout",
          "text": [
            "[600]\ttrain's auc: 0.861848\tvalid's auc: 0.821427\n"
          ]
        },
        {
          "output_type": "stream",
          "name": "stdout",
          "text": [
            "Early stopping, best iteration is:\n[531]\ttrain's auc: 0.857546\tvalid's auc: 0.821491\n"
          ]
        },
        {
          "output_type": "stream",
          "name": "stdout",
          "text": [
            "[2025-09-12 03:53:51] [LGB unseen AUG] seed=2025 fold=2 AUC: 0.821491 | best_iter=531\n"
          ]
        },
        {
          "output_type": "stream",
          "name": "stdout",
          "text": [
            "[2025-09-12 03:53:52] [LGB unseen AUG] seed=2025 ff=0.78 bf=0.78 | Fold 4/10 | trn=720000 val=80000\n"
          ]
        },
        {
          "output_type": "stream",
          "name": "stdout",
          "text": [
            "Training until validation scores don't improve for 200 rounds\n"
          ]
        },
        {
          "output_type": "stream",
          "name": "stdout",
          "text": [
            "[200]\ttrain's auc: 0.834121\tvalid's auc: 0.817073\n"
          ]
        },
        {
          "output_type": "stream",
          "name": "stdout",
          "text": [
            "[400]\ttrain's auc: 0.849386\tvalid's auc: 0.818347\n"
          ]
        },
        {
          "output_type": "stream",
          "name": "stdout",
          "text": [
            "[600]\ttrain's auc: 0.862217\tvalid's auc: 0.818369\n"
          ]
        },
        {
          "output_type": "stream",
          "name": "stdout",
          "text": [
            "Early stopping, best iteration is:\n[550]\ttrain's auc: 0.8591\tvalid's auc: 0.818408\n"
          ]
        },
        {
          "output_type": "stream",
          "name": "stdout",
          "text": [
            "[2025-09-12 03:54:58] [LGB unseen AUG] seed=2025 fold=3 AUC: 0.818408 | best_iter=550\n"
          ]
        },
        {
          "output_type": "stream",
          "name": "stdout",
          "text": [
            "[2025-09-12 03:54:59] [LGB unseen AUG] seed=2025 ff=0.78 bf=0.78 | Fold 5/10 | trn=720000 val=80000\n"
          ]
        },
        {
          "output_type": "stream",
          "name": "stdout",
          "text": [
            "Training until validation scores don't improve for 200 rounds\n"
          ]
        },
        {
          "output_type": "stream",
          "name": "stdout",
          "text": [
            "[200]\ttrain's auc: 0.833841\tvalid's auc: 0.819964\n"
          ]
        },
        {
          "output_type": "stream",
          "name": "stdout",
          "text": [
            "[400]\ttrain's auc: 0.849183\tvalid's auc: 0.820795\n"
          ]
        },
        {
          "output_type": "stream",
          "name": "stdout",
          "text": [
            "Early stopping, best iteration is:\n[383]\ttrain's auc: 0.848033\tvalid's auc: 0.820832\n"
          ]
        },
        {
          "output_type": "stream",
          "name": "stdout",
          "text": [
            "[2025-09-12 03:55:49] [LGB unseen AUG] seed=2025 fold=4 AUC: 0.820832 | best_iter=383\n"
          ]
        },
        {
          "output_type": "stream",
          "name": "stdout",
          "text": [
            "[2025-09-12 03:55:50] [LGB unseen AUG] seed=2025 ff=0.78 bf=0.78 | Fold 6/10 | trn=720000 val=80000\n"
          ]
        },
        {
          "output_type": "stream",
          "name": "stdout",
          "text": [
            "Training until validation scores don't improve for 200 rounds\n"
          ]
        },
        {
          "output_type": "stream",
          "name": "stdout",
          "text": [
            "[200]\ttrain's auc: 0.834289\tvalid's auc: 0.815564\n"
          ]
        },
        {
          "output_type": "stream",
          "name": "stdout",
          "text": [
            "[400]\ttrain's auc: 0.849425\tvalid's auc: 0.816786\n"
          ]
        },
        {
          "output_type": "stream",
          "name": "stdout",
          "text": [
            "[600]\ttrain's auc: 0.862224\tvalid's auc: 0.816853\n"
          ]
        },
        {
          "output_type": "stream",
          "name": "stdout",
          "text": [
            "Early stopping, best iteration is:\n[519]\ttrain's auc: 0.857283\tvalid's auc: 0.816915\n"
          ]
        },
        {
          "output_type": "stream",
          "name": "stdout",
          "text": [
            "[2025-09-12 03:56:50] [LGB unseen AUG] seed=2025 fold=5 AUC: 0.816915 | best_iter=519\n"
          ]
        },
        {
          "output_type": "stream",
          "name": "stdout",
          "text": [
            "[2025-09-12 03:56:51] [LGB unseen AUG] seed=2025 ff=0.78 bf=0.78 | Fold 7/10 | trn=720000 val=80000\n"
          ]
        },
        {
          "output_type": "stream",
          "name": "stdout",
          "text": [
            "Training until validation scores don't improve for 200 rounds\n"
          ]
        },
        {
          "output_type": "stream",
          "name": "stdout",
          "text": [
            "[200]\ttrain's auc: 0.834088\tvalid's auc: 0.817846\n"
          ]
        },
        {
          "output_type": "stream",
          "name": "stdout",
          "text": [
            "[400]\ttrain's auc: 0.849377\tvalid's auc: 0.818866\n"
          ]
        },
        {
          "output_type": "stream",
          "name": "stdout",
          "text": [
            "[600]\ttrain's auc: 0.862245\tvalid's auc: 0.818836\n"
          ]
        },
        {
          "output_type": "stream",
          "name": "stdout",
          "text": [
            "Early stopping, best iteration is:\n[535]\ttrain's auc: 0.858221\tvalid's auc: 0.81894\n"
          ]
        },
        {
          "output_type": "stream",
          "name": "stdout",
          "text": [
            "[2025-09-12 03:57:52] [LGB unseen AUG] seed=2025 fold=6 AUC: 0.818940 | best_iter=535\n"
          ]
        },
        {
          "output_type": "stream",
          "name": "stdout",
          "text": [
            "[2025-09-12 03:57:52] [LGB unseen AUG] seed=2025 ff=0.78 bf=0.78 | Fold 8/10 | trn=720000 val=80000\n"
          ]
        },
        {
          "output_type": "stream",
          "name": "stdout",
          "text": [
            "Training until validation scores don't improve for 200 rounds\n"
          ]
        },
        {
          "output_type": "stream",
          "name": "stdout",
          "text": [
            "[200]\ttrain's auc: 0.834066\tvalid's auc: 0.817175\n"
          ]
        },
        {
          "output_type": "stream",
          "name": "stdout",
          "text": [
            "[400]\ttrain's auc: 0.849438\tvalid's auc: 0.818437\n"
          ]
        },
        {
          "output_type": "stream",
          "name": "stdout",
          "text": [
            "[600]\ttrain's auc: 0.862407\tvalid's auc: 0.818348\n"
          ]
        },
        {
          "output_type": "stream",
          "name": "stdout",
          "text": [
            "Early stopping, best iteration is:\n[470]\ttrain's auc: 0.854182\tvalid's auc: 0.818481\n"
          ]
        },
        {
          "output_type": "stream",
          "name": "stdout",
          "text": [
            "[2025-09-12 03:58:49] [LGB unseen AUG] seed=2025 fold=7 AUC: 0.818481 | best_iter=470\n"
          ]
        },
        {
          "output_type": "stream",
          "name": "stdout",
          "text": [
            "[2025-09-12 03:58:50] [LGB unseen AUG] seed=2025 ff=0.78 bf=0.78 | Fold 9/10 | trn=720000 val=80000\n"
          ]
        },
        {
          "output_type": "stream",
          "name": "stdout",
          "text": [
            "Training until validation scores don't improve for 200 rounds\n"
          ]
        },
        {
          "output_type": "stream",
          "name": "stdout",
          "text": [
            "[200]\ttrain's auc: 0.834074\tvalid's auc: 0.817918\n"
          ]
        },
        {
          "output_type": "stream",
          "name": "stdout",
          "text": [
            "[400]\ttrain's auc: 0.849352\tvalid's auc: 0.819033\n"
          ]
        },
        {
          "output_type": "stream",
          "name": "stdout",
          "text": [
            "[600]\ttrain's auc: 0.862239\tvalid's auc: 0.818912\n"
          ]
        },
        {
          "output_type": "stream",
          "name": "stdout",
          "text": [
            "Early stopping, best iteration is:\n[516]\ttrain's auc: 0.857006\tvalid's auc: 0.819047\n"
          ]
        },
        {
          "output_type": "stream",
          "name": "stdout",
          "text": [
            "[2025-09-12 03:59:50] [LGB unseen AUG] seed=2025 fold=8 AUC: 0.819047 | best_iter=516\n"
          ]
        },
        {
          "output_type": "stream",
          "name": "stdout",
          "text": [
            "[2025-09-12 03:59:51] [LGB unseen AUG] seed=2025 ff=0.78 bf=0.78 | Fold 10/10 | trn=720000 val=80000\n"
          ]
        },
        {
          "output_type": "stream",
          "name": "stdout",
          "text": [
            "Training until validation scores don't improve for 200 rounds\n"
          ]
        },
        {
          "output_type": "stream",
          "name": "stdout",
          "text": [
            "[200]\ttrain's auc: 0.833758\tvalid's auc: 0.819372\n"
          ]
        },
        {
          "output_type": "stream",
          "name": "stdout",
          "text": [
            "[400]\ttrain's auc: 0.849047\tvalid's auc: 0.820628\n"
          ]
        },
        {
          "output_type": "stream",
          "name": "stdout",
          "text": [
            "[600]\ttrain's auc: 0.861948\tvalid's auc: 0.820621\n"
          ]
        },
        {
          "output_type": "stream",
          "name": "stdout",
          "text": [
            "Early stopping, best iteration is:\n[545]\ttrain's auc: 0.858485\tvalid's auc: 0.820743\n"
          ]
        },
        {
          "output_type": "stream",
          "name": "stdout",
          "text": [
            "[2025-09-12 04:00:53] [LGB unseen AUG] seed=2025 fold=9 AUC: 0.820743 | best_iter=545\n"
          ]
        },
        {
          "output_type": "stream",
          "name": "stdout",
          "text": [
            "[2025-09-12 04:00:54] [LGB unseen AUG] seed=2025 OOF AUC: 0.819140 | elapsed=611.3s\n"
          ]
        },
        {
          "output_type": "stream",
          "name": "stdout",
          "text": [
            "[2025-09-12 04:00:55] [LGB unseen AUG] Saved OOF/test preds for au_s2025\n"
          ]
        },
        {
          "output_type": "stream",
          "name": "stdout",
          "text": [
            "[2025-09-12 04:00:55] [LGB unseen AUG] seed=7 ff=0.72 bf=0.8 | Fold 1/10 | trn=720000 val=80000\n"
          ]
        },
        {
          "output_type": "stream",
          "name": "stdout",
          "text": [
            "Training until validation scores don't improve for 200 rounds\n"
          ]
        },
        {
          "output_type": "stream",
          "name": "stdout",
          "text": [
            "[200]\ttrain's auc: 0.841277\tvalid's auc: 0.817313\n"
          ]
        },
        {
          "output_type": "stream",
          "name": "stdout",
          "text": [
            "[400]\ttrain's auc: 0.861257\tvalid's auc: 0.818226\n"
          ]
        },
        {
          "output_type": "stream",
          "name": "stdout",
          "text": [
            "[600]\ttrain's auc: 0.878019\tvalid's auc: 0.818034\n"
          ]
        },
        {
          "output_type": "stream",
          "name": "stdout",
          "text": [
            "Early stopping, best iteration is:\n[425]\ttrain's auc: 0.863508\tvalid's auc: 0.818271\n"
          ]
        },
        {
          "output_type": "stream",
          "name": "stdout",
          "text": [
            "[2025-09-12 04:01:54] [LGB unseen AUG] seed=7 fold=0 AUC: 0.818271 | best_iter=425\n"
          ]
        },
        {
          "output_type": "stream",
          "name": "stdout",
          "text": [
            "[2025-09-12 04:01:55] [LGB unseen AUG] seed=7 ff=0.72 bf=0.8 | Fold 2/10 | trn=720000 val=80000\n"
          ]
        },
        {
          "output_type": "stream",
          "name": "stdout",
          "text": [
            "Training until validation scores don't improve for 200 rounds\n"
          ]
        },
        {
          "output_type": "stream",
          "name": "stdout",
          "text": [
            "[200]\ttrain's auc: 0.84137\tvalid's auc: 0.81726\n"
          ]
        },
        {
          "output_type": "stream",
          "name": "stdout",
          "text": [
            "[400]\ttrain's auc: 0.861247\tvalid's auc: 0.818035\n"
          ]
        },
        {
          "output_type": "stream",
          "name": "stdout",
          "text": [
            "[600]\ttrain's auc: 0.878119\tvalid's auc: 0.817958\n"
          ]
        },
        {
          "output_type": "stream",
          "name": "stdout",
          "text": [
            "Early stopping, best iteration is:\n[443]\ttrain's auc: 0.865076\tvalid's auc: 0.8181\n"
          ]
        },
        {
          "output_type": "stream",
          "name": "stdout",
          "text": [
            "[2025-09-12 04:02:55] [LGB unseen AUG] seed=7 fold=1 AUC: 0.818100 | best_iter=443\n"
          ]
        },
        {
          "output_type": "stream",
          "name": "stdout",
          "text": [
            "[2025-09-12 04:02:56] [LGB unseen AUG] seed=7 ff=0.72 bf=0.8 | Fold 3/10 | trn=720000 val=80000\n"
          ]
        },
        {
          "output_type": "stream",
          "name": "stdout",
          "text": [
            "Training until validation scores don't improve for 200 rounds\n"
          ]
        },
        {
          "output_type": "stream",
          "name": "stdout",
          "text": [
            "[200]\ttrain's auc: 0.841038\tvalid's auc: 0.820539\n"
          ]
        },
        {
          "output_type": "stream",
          "name": "stdout",
          "text": [
            "[400]\ttrain's auc: 0.86106\tvalid's auc: 0.821344\n"
          ]
        },
        {
          "output_type": "stream",
          "name": "stdout",
          "text": [
            "Early stopping, best iteration is:\n[344]\ttrain's auc: 0.855918\tvalid's auc: 0.821398\n"
          ]
        },
        {
          "output_type": "stream",
          "name": "stdout",
          "text": [
            "[2025-09-12 04:03:48] [LGB unseen AUG] seed=7 fold=2 AUC: 0.821398 | best_iter=344\n"
          ]
        },
        {
          "output_type": "stream",
          "name": "stdout",
          "text": [
            "[2025-09-12 04:03:48] [LGB unseen AUG] seed=7 ff=0.72 bf=0.8 | Fold 4/10 | trn=720000 val=80000\n"
          ]
        },
        {
          "output_type": "stream",
          "name": "stdout",
          "text": [
            "Training until validation scores don't improve for 200 rounds\n"
          ]
        },
        {
          "output_type": "stream",
          "name": "stdout",
          "text": [
            "[200]\ttrain's auc: 0.841308\tvalid's auc: 0.817353\n"
          ]
        },
        {
          "output_type": "stream",
          "name": "stdout",
          "text": [
            "[400]\ttrain's auc: 0.861472\tvalid's auc: 0.81809\n"
          ]
        },
        {
          "output_type": "stream",
          "name": "stdout",
          "text": [
            "Early stopping, best iteration is:\n[363]\ttrain's auc: 0.85811\tvalid's auc: 0.818153\n"
          ]
        },
        {
          "output_type": "stream",
          "name": "stdout",
          "text": [
            "[2025-09-12 04:04:46] [LGB unseen AUG] seed=7 fold=3 AUC: 0.818153 | best_iter=363\n"
          ]
        },
        {
          "output_type": "stream",
          "name": "stdout",
          "text": [
            "[2025-09-12 04:04:46] [LGB unseen AUG] seed=7 ff=0.72 bf=0.8 | Fold 5/10 | trn=720000 val=80000\n"
          ]
        },
        {
          "output_type": "stream",
          "name": "stdout",
          "text": [
            "Training until validation scores don't improve for 200 rounds\n"
          ]
        },
        {
          "output_type": "stream",
          "name": "stdout",
          "text": [
            "[200]\ttrain's auc: 0.841227\tvalid's auc: 0.820338\n"
          ]
        },
        {
          "output_type": "stream",
          "name": "stdout",
          "text": [
            "[400]\ttrain's auc: 0.86132\tvalid's auc: 0.820793\n"
          ]
        },
        {
          "output_type": "stream",
          "name": "stdout",
          "text": [
            "Early stopping, best iteration is:\n[336]\ttrain's auc: 0.855386\tvalid's auc: 0.820967\n"
          ]
        },
        {
          "output_type": "stream",
          "name": "stdout",
          "text": [
            "[2025-09-12 04:05:38] [LGB unseen AUG] seed=7 fold=4 AUC: 0.820967 | best_iter=336\n"
          ]
        },
        {
          "output_type": "stream",
          "name": "stdout",
          "text": [
            "[2025-09-12 04:05:38] [LGB unseen AUG] seed=7 ff=0.72 bf=0.8 | Fold 6/10 | trn=720000 val=80000\n"
          ]
        },
        {
          "output_type": "stream",
          "name": "stdout",
          "text": [
            "Training until validation scores don't improve for 200 rounds\n"
          ]
        },
        {
          "output_type": "stream",
          "name": "stdout",
          "text": [
            "[200]\ttrain's auc: 0.841457\tvalid's auc: 0.815945\n"
          ]
        },
        {
          "output_type": "stream",
          "name": "stdout",
          "text": [
            "[400]\ttrain's auc: 0.861492\tvalid's auc: 0.816816\n"
          ]
        },
        {
          "output_type": "stream",
          "name": "stdout",
          "text": [
            "Early stopping, best iteration is:\n[385]\ttrain's auc: 0.860122\tvalid's auc: 0.816863\n"
          ]
        },
        {
          "output_type": "stream",
          "name": "stdout",
          "text": [
            "[2025-09-12 04:06:34] [LGB unseen AUG] seed=7 fold=5 AUC: 0.816863 | best_iter=385\n"
          ]
        },
        {
          "output_type": "stream",
          "name": "stdout",
          "text": [
            "[2025-09-12 04:06:34] [LGB unseen AUG] seed=7 ff=0.72 bf=0.8 | Fold 7/10 | trn=720000 val=80000\n"
          ]
        },
        {
          "output_type": "stream",
          "name": "stdout",
          "text": [
            "Training until validation scores don't improve for 200 rounds\n"
          ]
        },
        {
          "output_type": "stream",
          "name": "stdout",
          "text": [
            "[200]\ttrain's auc: 0.841351\tvalid's auc: 0.818228\n"
          ]
        },
        {
          "output_type": "stream",
          "name": "stdout",
          "text": [
            "[400]\ttrain's auc: 0.861272\tvalid's auc: 0.818814\n"
          ]
        },
        {
          "output_type": "stream",
          "name": "stdout",
          "text": [
            "Early stopping, best iteration is:\n[375]\ttrain's auc: 0.859025\tvalid's auc: 0.818834\n"
          ]
        },
        {
          "output_type": "stream",
          "name": "stdout",
          "text": [
            "[2025-09-12 04:07:29] [LGB unseen AUG] seed=7 fold=6 AUC: 0.818834 | best_iter=375\n"
          ]
        },
        {
          "output_type": "stream",
          "name": "stdout",
          "text": [
            "[2025-09-12 04:07:29] [LGB unseen AUG] seed=7 ff=0.72 bf=0.8 | Fold 8/10 | trn=720000 val=80000\n"
          ]
        },
        {
          "output_type": "stream",
          "name": "stdout",
          "text": [
            "Training until validation scores don't improve for 200 rounds\n"
          ]
        },
        {
          "output_type": "stream",
          "name": "stdout",
          "text": [
            "[200]\ttrain's auc: 0.841271\tvalid's auc: 0.817291\n"
          ]
        },
        {
          "output_type": "stream",
          "name": "stdout",
          "text": [
            "[400]\ttrain's auc: 0.861293\tvalid's auc: 0.818019\n"
          ]
        },
        {
          "output_type": "stream",
          "name": "stdout",
          "text": [
            "Early stopping, best iteration is:\n[386]\ttrain's auc: 0.860067\tvalid's auc: 0.818071\n"
          ]
        },
        {
          "output_type": "stream",
          "name": "stdout",
          "text": [
            "[2025-09-12 04:08:25] [LGB unseen AUG] seed=7 fold=7 AUC: 0.818071 | best_iter=386\n"
          ]
        },
        {
          "output_type": "stream",
          "name": "stdout",
          "text": [
            "[2025-09-12 04:08:25] [LGB unseen AUG] seed=7 ff=0.72 bf=0.8 | Fold 9/10 | trn=720000 val=80000\n"
          ]
        },
        {
          "output_type": "stream",
          "name": "stdout",
          "text": [
            "Training until validation scores don't improve for 200 rounds\n"
          ]
        },
        {
          "output_type": "stream",
          "name": "stdout",
          "text": [
            "[200]\ttrain's auc: 0.841246\tvalid's auc: 0.818275\n"
          ]
        },
        {
          "output_type": "stream",
          "name": "stdout",
          "text": [
            "[400]\ttrain's auc: 0.861342\tvalid's auc: 0.818872\n"
          ]
        },
        {
          "output_type": "stream",
          "name": "stdout",
          "text": [
            "Early stopping, best iteration is:\n[384]\ttrain's auc: 0.859929\tvalid's auc: 0.818916\n"
          ]
        },
        {
          "output_type": "stream",
          "name": "stdout",
          "text": [
            "[2025-09-12 04:09:20] [LGB unseen AUG] seed=7 fold=8 AUC: 0.818916 | best_iter=384\n"
          ]
        },
        {
          "output_type": "stream",
          "name": "stdout",
          "text": [
            "[2025-09-12 04:09:21] [LGB unseen AUG] seed=7 ff=0.72 bf=0.8 | Fold 10/10 | trn=720000 val=80000\n"
          ]
        },
        {
          "output_type": "stream",
          "name": "stdout",
          "text": [
            "Training until validation scores don't improve for 200 rounds\n"
          ]
        },
        {
          "output_type": "stream",
          "name": "stdout",
          "text": [
            "[200]\ttrain's auc: 0.841068\tvalid's auc: 0.819739\n"
          ]
        },
        {
          "output_type": "stream",
          "name": "stdout",
          "text": [
            "[400]\ttrain's auc: 0.86101\tvalid's auc: 0.820388\n"
          ]
        },
        {
          "output_type": "stream",
          "name": "stdout",
          "text": [
            "Early stopping, best iteration is:\n[300]\ttrain's auc: 0.851692\tvalid's auc: 0.820501\n"
          ]
        },
        {
          "output_type": "stream",
          "name": "stdout",
          "text": [
            "[2025-09-12 04:10:08] [LGB unseen AUG] seed=7 fold=9 AUC: 0.820501 | best_iter=300\n"
          ]
        },
        {
          "output_type": "stream",
          "name": "stdout",
          "text": [
            "[2025-09-12 04:10:09] [LGB unseen AUG] seed=7 OOF AUC: 0.818992 | elapsed=553.7s\n"
          ]
        },
        {
          "output_type": "stream",
          "name": "stdout",
          "text": [
            "[2025-09-12 04:10:10] [LGB unseen AUG] Saved OOF/test preds for au_s7\n"
          ]
        },
        {
          "output_type": "stream",
          "name": "stdout",
          "text": [
            "[2025-09-12 04:10:10] All augmented LGB unseen seeds finished.\n"
          ]
        },
        {
          "output_type": "stream",
          "name": "stdout",
          "text": [
            "[2025-09-12 04:10:10] Training XGBoost unseen (augmented features) ...\n"
          ]
        },
        {
          "output_type": "stream",
          "name": "stdout",
          "text": [
            "[2025-09-12 04:10:10] [XGB unseen AUG] Fold 1/10 | trn=720000 val=80000\n"
          ]
        },
        {
          "output_type": "stream",
          "name": "stdout",
          "text": [
            "[0]\ttrain-auc:0.76450\tvalid-auc:0.76206\n"
          ]
        },
        {
          "output_type": "stream",
          "name": "stdout",
          "text": [
            "[200]\ttrain-auc:0.82576\tvalid-auc:0.81391\n"
          ]
        },
        {
          "output_type": "stream",
          "name": "stdout",
          "text": [
            "[400]\ttrain-auc:0.83435\tvalid-auc:0.81738\n"
          ]
        },
        {
          "output_type": "stream",
          "name": "stdout",
          "text": [
            "[600]\ttrain-auc:0.83980\tvalid-auc:0.81807\n"
          ]
        },
        {
          "output_type": "stream",
          "name": "stdout",
          "text": [
            "[800]\ttrain-auc:0.84492\tvalid-auc:0.81830\n"
          ]
        },
        {
          "output_type": "stream",
          "name": "stdout",
          "text": [
            "[1000]\ttrain-auc:0.84921\tvalid-auc:0.81832\n"
          ]
        },
        {
          "output_type": "stream",
          "name": "stdout",
          "text": [
            "[1151]\ttrain-auc:0.85267\tvalid-auc:0.81823\n"
          ]
        },
        {
          "output_type": "stream",
          "name": "stdout",
          "text": [
            "[2025-09-12 04:11:11] [XGB unseen AUG] Fold 2/10 | trn=720000 val=80000\n"
          ]
        },
        {
          "output_type": "stream",
          "name": "stdout",
          "text": [
            "[0]\ttrain-auc:0.76759\tvalid-auc:0.75955\n"
          ]
        },
        {
          "output_type": "stream",
          "name": "stdout",
          "text": [
            "[200]\ttrain-auc:0.82564\tvalid-auc:0.81363\n"
          ]
        },
        {
          "output_type": "stream",
          "name": "stdout",
          "text": [
            "[400]\ttrain-auc:0.83421\tvalid-auc:0.81676\n"
          ]
        },
        {
          "output_type": "stream",
          "name": "stdout",
          "text": [
            "[600]\ttrain-auc:0.84005\tvalid-auc:0.81752\n"
          ]
        },
        {
          "output_type": "stream",
          "name": "stdout",
          "text": [
            "[800]\ttrain-auc:0.84493\tvalid-auc:0.81774\n"
          ]
        },
        {
          "output_type": "stream",
          "name": "stdout",
          "text": [
            "[1000]\ttrain-auc:0.84980\tvalid-auc:0.81776\n"
          ]
        },
        {
          "output_type": "stream",
          "name": "stdout",
          "text": [
            "[1008]\ttrain-auc:0.84994\tvalid-auc:0.81776\n"
          ]
        },
        {
          "output_type": "stream",
          "name": "stdout",
          "text": [
            "[2025-09-12 04:12:05] [XGB unseen AUG] Fold 3/10 | trn=720000 val=80000\n"
          ]
        },
        {
          "output_type": "stream",
          "name": "stdout",
          "text": [
            "[0]\ttrain-auc:0.76830\tvalid-auc:0.76514\n"
          ]
        },
        {
          "output_type": "stream",
          "name": "stdout",
          "text": [
            "[200]\ttrain-auc:0.82540\tvalid-auc:0.81581\n"
          ]
        },
        {
          "output_type": "stream",
          "name": "stdout",
          "text": [
            "[400]\ttrain-auc:0.83392\tvalid-auc:0.81947\n"
          ]
        },
        {
          "output_type": "stream",
          "name": "stdout",
          "text": [
            "[600]\ttrain-auc:0.83964\tvalid-auc:0.82029\n"
          ]
        },
        {
          "output_type": "stream",
          "name": "stdout",
          "text": [
            "[800]\ttrain-auc:0.84479\tvalid-auc:0.82053\n"
          ]
        },
        {
          "output_type": "stream",
          "name": "stdout",
          "text": [
            "[1000]\ttrain-auc:0.84915\tvalid-auc:0.82064\n"
          ]
        },
        {
          "output_type": "stream",
          "name": "stdout",
          "text": [
            "[1183]\ttrain-auc:0.85314\tvalid-auc:0.82052\n"
          ]
        },
        {
          "output_type": "stream",
          "name": "stdout",
          "text": [
            "[2025-09-12 04:13:07] [XGB unseen AUG] Fold 4/10 | trn=720000 val=80000\n"
          ]
        },
        {
          "output_type": "stream",
          "name": "stdout",
          "text": [
            "[0]\ttrain-auc:0.76559\tvalid-auc:0.75985\n"
          ]
        },
        {
          "output_type": "stream",
          "name": "stdout",
          "text": [
            "[200]\ttrain-auc:0.82574\tvalid-auc:0.81442\n"
          ]
        },
        {
          "output_type": "stream",
          "name": "stdout",
          "text": [
            "[400]\ttrain-auc:0.83393\tvalid-auc:0.81732\n"
          ]
        },
        {
          "output_type": "stream",
          "name": "stdout",
          "text": [
            "[600]\ttrain-auc:0.83972\tvalid-auc:0.81787\n"
          ]
        },
        {
          "output_type": "stream",
          "name": "stdout",
          "text": [
            "[800]\ttrain-auc:0.84466\tvalid-auc:0.81805\n"
          ]
        },
        {
          "output_type": "stream",
          "name": "stdout",
          "text": [
            "[1000]\ttrain-auc:0.84951\tvalid-auc:0.81815\n"
          ]
        },
        {
          "output_type": "stream",
          "name": "stdout",
          "text": [
            "[1200]\ttrain-auc:0.85389\tvalid-auc:0.81808\n"
          ]
        },
        {
          "output_type": "stream",
          "name": "stdout",
          "text": [
            "[1213]\ttrain-auc:0.85418\tvalid-auc:0.81805\n"
          ]
        },
        {
          "output_type": "stream",
          "name": "stdout",
          "text": [
            "[2025-09-12 04:14:10] [XGB unseen AUG] Fold 5/10 | trn=720000 val=80000\n"
          ]
        },
        {
          "output_type": "stream",
          "name": "stdout",
          "text": [
            "[0]\ttrain-auc:0.76457\tvalid-auc:0.76114\n"
          ]
        },
        {
          "output_type": "stream",
          "name": "stdout",
          "text": [
            "[200]\ttrain-auc:0.82506\tvalid-auc:0.81708\n"
          ]
        },
        {
          "output_type": "stream",
          "name": "stdout",
          "text": [
            "[400]\ttrain-auc:0.83359\tvalid-auc:0.81996\n"
          ]
        },
        {
          "output_type": "stream",
          "name": "stdout",
          "text": [
            "[600]\ttrain-auc:0.83918\tvalid-auc:0.82036\n"
          ]
        },
        {
          "output_type": "stream",
          "name": "stdout",
          "text": [
            "[800]\ttrain-auc:0.84431\tvalid-auc:0.82044\n"
          ]
        },
        {
          "output_type": "stream",
          "name": "stdout",
          "text": [
            "[964]\ttrain-auc:0.84817\tvalid-auc:0.82034\n"
          ]
        },
        {
          "output_type": "stream",
          "name": "stdout",
          "text": [
            "[2025-09-12 04:15:04] [XGB unseen AUG] Fold 6/10 | trn=720000 val=80000\n"
          ]
        },
        {
          "output_type": "stream",
          "name": "stdout",
          "text": [
            "[0]\ttrain-auc:0.76552\tvalid-auc:0.76027\n"
          ]
        },
        {
          "output_type": "stream",
          "name": "stdout",
          "text": [
            "[200]\ttrain-auc:0.82552\tvalid-auc:0.81163\n"
          ]
        },
        {
          "output_type": "stream",
          "name": "stdout",
          "text": [
            "[400]\ttrain-auc:0.83398\tvalid-auc:0.81462\n"
          ]
        },
        {
          "output_type": "stream",
          "name": "stdout",
          "text": [
            "[600]\ttrain-auc:0.83990\tvalid-auc:0.81530\n"
          ]
        },
        {
          "output_type": "stream",
          "name": "stdout",
          "text": [
            "[800]\ttrain-auc:0.84515\tvalid-auc:0.81552\n"
          ]
        },
        {
          "output_type": "stream",
          "name": "stdout",
          "text": [
            "[1000]\ttrain-auc:0.84973\tvalid-auc:0.81546\n"
          ]
        },
        {
          "output_type": "stream",
          "name": "stdout",
          "text": [
            "[1021]\ttrain-auc:0.85021\tvalid-auc:0.81548\n"
          ]
        },
        {
          "output_type": "stream",
          "name": "stdout",
          "text": [
            "[2025-09-12 04:15:59] [XGB unseen AUG] Fold 7/10 | trn=720000 val=80000\n"
          ]
        },
        {
          "output_type": "stream",
          "name": "stdout",
          "text": [
            "[0]\ttrain-auc:0.76578\tvalid-auc:0.76285\n"
          ]
        },
        {
          "output_type": "stream",
          "name": "stdout",
          "text": [
            "[200]\ttrain-auc:0.82539\tvalid-auc:0.81471\n"
          ]
        },
        {
          "output_type": "stream",
          "name": "stdout",
          "text": [
            "[400]\ttrain-auc:0.83414\tvalid-auc:0.81776\n"
          ]
        },
        {
          "output_type": "stream",
          "name": "stdout",
          "text": [
            "[600]\ttrain-auc:0.83975\tvalid-auc:0.81828\n"
          ]
        },
        {
          "output_type": "stream",
          "name": "stdout",
          "text": [
            "[800]\ttrain-auc:0.84470\tvalid-auc:0.81845\n"
          ]
        },
        {
          "output_type": "stream",
          "name": "stdout",
          "text": [
            "[1000]\ttrain-auc:0.84960\tvalid-auc:0.81844\n"
          ]
        },
        {
          "output_type": "stream",
          "name": "stdout",
          "text": [
            "[1054]\ttrain-auc:0.85082\tvalid-auc:0.81841\n"
          ]
        },
        {
          "output_type": "stream",
          "name": "stdout",
          "text": [
            "[2025-09-12 04:16:53] [XGB unseen AUG] Fold 8/10 | trn=720000 val=80000\n"
          ]
        },
        {
          "output_type": "stream",
          "name": "stdout",
          "text": [
            "[0]\ttrain-auc:0.76564\tvalid-auc:0.74451\n"
          ]
        },
        {
          "output_type": "stream",
          "name": "stdout",
          "text": [
            "[200]\ttrain-auc:0.82571\tvalid-auc:0.79740\n"
          ]
        },
        {
          "output_type": "stream",
          "name": "stdout",
          "text": [
            "[400]\ttrain-auc:0.83406\tvalid-auc:0.80007\n"
          ]
        },
        {
          "output_type": "stream",
          "name": "stdout",
          "text": [
            "[600]\ttrain-auc:0.83974\tvalid-auc:0.80012\n"
          ]
        },
        {
          "output_type": "stream",
          "name": "stdout",
          "text": [
            "[800]\ttrain-auc:0.84503\tvalid-auc:0.80052\n"
          ]
        },
        {
          "output_type": "stream",
          "name": "stdout",
          "text": [
            "[1000]\ttrain-auc:0.84961\tvalid-auc:0.80051\n"
          ]
        },
        {
          "output_type": "stream",
          "name": "stdout",
          "text": [
            "[1100]\ttrain-auc:0.85184\tvalid-auc:0.80066\n"
          ]
        },
        {
          "output_type": "stream",
          "name": "stdout",
          "text": [
            "[2025-09-12 04:17:51] [XGB unseen AUG] Fold 9/10 | trn=720000 val=80000\n"
          ]
        },
        {
          "output_type": "stream",
          "name": "stdout",
          "text": [
            "[0]\ttrain-auc:0.76563\tvalid-auc:0.74074\n"
          ]
        },
        {
          "output_type": "stream",
          "name": "stdout",
          "text": [
            "[200]\ttrain-auc:0.82534\tvalid-auc:0.80293\n"
          ]
        },
        {
          "output_type": "stream",
          "name": "stdout",
          "text": [
            "[400]\ttrain-auc:0.83387\tvalid-auc:0.80540\n"
          ]
        },
        {
          "output_type": "stream",
          "name": "stdout",
          "text": [
            "[600]\ttrain-auc:0.83973\tvalid-auc:0.80633\n"
          ]
        },
        {
          "output_type": "stream",
          "name": "stdout",
          "text": [
            "[800]\ttrain-auc:0.84494\tvalid-auc:0.80664\n"
          ]
        },
        {
          "output_type": "stream",
          "name": "stdout",
          "text": [
            "[1000]\ttrain-auc:0.84941\tvalid-auc:0.80686\n"
          ]
        },
        {
          "output_type": "stream",
          "name": "stdout",
          "text": [
            "[1200]\ttrain-auc:0.85383\tvalid-auc:0.80693\n"
          ]
        },
        {
          "output_type": "stream",
          "name": "stdout",
          "text": [
            "[1374]\ttrain-auc:0.85752\tvalid-auc:0.80686\n"
          ]
        },
        {
          "output_type": "stream",
          "name": "stdout",
          "text": [
            "[2025-09-12 04:19:03] [XGB unseen AUG] Fold 10/10 | trn=720000 val=80000\n"
          ]
        },
        {
          "output_type": "stream",
          "name": "stdout",
          "text": [
            "[0]\ttrain-auc:0.76128\tvalid-auc:0.75556\n"
          ]
        },
        {
          "output_type": "stream",
          "name": "stdout",
          "text": [
            "[200]\ttrain-auc:0.82533\tvalid-auc:0.81154\n"
          ]
        },
        {
          "output_type": "stream",
          "name": "stdout",
          "text": [
            "[400]\ttrain-auc:0.83375\tvalid-auc:0.81434\n"
          ]
        },
        {
          "output_type": "stream",
          "name": "stdout",
          "text": [
            "[600]\ttrain-auc:0.83927\tvalid-auc:0.81517\n"
          ]
        },
        {
          "output_type": "stream",
          "name": "stdout",
          "text": [
            "[800]\ttrain-auc:0.84435\tvalid-auc:0.81565\n"
          ]
        },
        {
          "output_type": "stream",
          "name": "stdout",
          "text": [
            "[1000]\ttrain-auc:0.84910\tvalid-auc:0.81562\n"
          ]
        },
        {
          "output_type": "stream",
          "name": "stdout",
          "text": [
            "[1090]\ttrain-auc:0.85113\tvalid-auc:0.81556\n"
          ]
        },
        {
          "output_type": "stream",
          "name": "stdout",
          "text": [
            "[2025-09-12 04:20:00] [XGB unseen AUG] OOF AUC: 0.814888\n"
          ]
        },
        {
          "output_type": "stream",
          "name": "stdout",
          "text": [
            "[2025-09-12 04:20:01] [XGB unseen AUG] Saved OOF and test predictions.\n"
          ]
        }
      ]
    },
    {
      "id": "2af68eb3-5b67-4388-ac72-e8a37cc1cbf8",
      "cell_type": "code",
      "metadata": {},
      "source": [
        "# Cell 32: Blend augmented unseen models (4 LGB au_* + XGB aug) and build alternative submission\n",
        "log('Blending augmented unseen models (au_*) and creating alternative submission...')\n",
        "import pandas as pd, numpy as np, json, os\n",
        "from sklearn.metrics import roc_auc_score\n",
        "\n",
        "def load_oof(path):\n",
        "    df = pd.read_csv(path); cols = [c for c in df.columns if c != 'id']\n",
        "    return df[['id', cols[0]]].rename(columns={cols[0]: 'pred'})\n",
        "def load_pred(path):\n",
        "    df = pd.read_csv(path); cols = [c for c in df.columns if c != 'id']\n",
        "    return df[['id', cols[0]]].rename(columns={cols[0]: 'pred'})\n",
        "\n",
        "# Load augmented LGB OOF/test\n",
        "au_tags = ['au_s42','au_s1337','au_s2025','au_s7']\n",
        "oofs = []; preds = []\n",
        "for tag in au_tags:\n",
        "    oofs.append(load_oof(f'oof_lgb_unseen_{tag}.csv').rename(columns={'pred': f'oof_{tag}'}))\n",
        "    preds.append(load_pred(f'pred_lgb_unseen_{tag}.csv').rename(columns={'pred': f'pred_{tag}'}))\n",
        "oof_lgb = oofs[0]\n",
        "for df in oofs[1:]: oof_lgb = oof_lgb.merge(df, on='id', how='inner')\n",
        "pred_lgb = preds[0]\n",
        "for df in preds[1:]: pred_lgb = pred_lgb.merge(df, on='id', how='inner')\n",
        "lgb_oof_cols = [c for c in oof_lgb.columns if c != 'id']\n",
        "lgb_pred_cols = [c for c in pred_lgb.columns if c != 'id']\n",
        "oof_lgb['lgb_ens'] = oof_lgb[lgb_oof_cols].mean(axis=1).astype('float32')\n",
        "pred_lgb['lgb_ens'] = pred_lgb[lgb_pred_cols].mean(axis=1).astype('float32')\n",
        "\n",
        "# Load augmented XGB OOF/test\n",
        "oof_xgb = load_oof('oof_xgb_unseen_aug.csv').rename(columns={'pred':'xgb'})\n",
        "pred_xgb = load_pred('pred_xgb_unseen_aug.csv').rename(columns={'pred':'xgb'})\n",
        "\n",
        "# OOF blend search (prob vs rank) with weights in [0.85..0.96]\n",
        "gt = train[['id','target']].copy()\n",
        "oof = gt.merge(oof_lgb[['id','lgb_ens']], on='id', how='left').merge(oof_xgb, on='id', how='left')\n",
        "def rank_norm(x):\n",
        "    r = pd.Series(x).rank(method='average').values\n",
        "    return (r - 1) / max(len(r) - 1, 1)\n",
        "oof['lgb_r'] = rank_norm(oof['lgb_ens']); oof['xgb_r'] = rank_norm(oof['xgb'])\n",
        "best = {'auc': 0.0, 'mode': 'prob', 'w_lgb': 1.0}\n",
        "for w in np.round(np.arange(0.85, 0.961, 0.01), 2):\n",
        "    prob = w * oof['lgb_ens'] + (1 - w) * oof['xgb']\n",
        "    ap = roc_auc_score(oof['target'], prob)\n",
        "    if ap > best['auc']: best.update({'auc': float(ap), 'mode': 'prob', 'w_lgb': float(w)})\n",
        "    rank = w * oof['lgb_r'] + (1 - w) * oof['xgb_r']\n",
        "    ar = roc_auc_score(oof['target'], rank)\n",
        "    if ar > best['auc']: best.update({'auc': float(ar), 'mode': 'rank', 'w_lgb': float(w)})\n",
        "log(f\"[Aug unseen blend] Best OOF AUC={best['auc']:.6f} | mode={best['mode']} | w_lgb={best['w_lgb']}\")\n",
        "\n",
        "# Build unseen test predictions according to best\n",
        "sub_te = pd.read_csv('sample_submission.csv')[['id']].merge(pred_lgb[['id','lgb_ens']], on='id', how='left').merge(pred_xgb, on='id', how='left')\n",
        "if best['mode'] == 'prob':\n",
        "    unseen_pred = best['w_lgb'] * sub_te['lgb_ens'].values + (1 - best['w_lgb']) * sub_te['xgb'].values\n",
        "else:\n",
        "    rl = rank_norm(sub_te['lgb_ens']); rx = rank_norm(sub_te['xgb'])\n",
        "    unseen_pred = best['w_lgb'] * rl + (1 - best['w_lgb']) * rx\n",
        "unseen_pred = unseen_pred.astype('float32')\n",
        "\n",
        "# Seen mapping via majority resolution (guardrail)\n",
        "grp = train.groupby('f_27')['target']; means = grp.mean(); f27_map = (means >= 0.5).astype('int8').to_dict()\n",
        "test_seen_mask = test['f_27'].isin(f27_map).values\n",
        "test_unseen_mask = ~test_seen_mask\n",
        "preds_seen = test.loc[test_seen_mask, 'f_27'].map(f27_map).astype('float32').values\n",
        "\n",
        "# Assemble alternative submission (do not overwrite submission.csv)\n",
        "final_alt = pd.read_csv('sample_submission.csv')[['id']].copy()\n",
        "final_alt['target'] = np.zeros(len(final_alt), dtype='float32')\n",
        "final_alt.loc[test_seen_mask, 'target'] = preds_seen\n",
        "final_alt.loc[test_unseen_mask, 'target'] = unseen_pred[test_unseen_mask]\n",
        "final_alt['target'] = final_alt['target'].astype('float64').clip(0.0, 1.0)\n",
        "final_alt.to_csv('submission_unseen_aug.csv', index=False)\n",
        "with open('blend_unseen_meta_aug.json','w') as f: json.dump(best, f, indent=2)\n",
        "log('Saved submission_unseen_aug.csv with augmented unseen blend and saved metadata.')"
      ],
      "execution_count": 36,
      "outputs": [
        {
          "output_type": "stream",
          "name": "stdout",
          "text": [
            "[2025-09-12 04:20:58] Blending augmented unseen models (au_*) and creating alternative submission...\n"
          ]
        },
        {
          "output_type": "stream",
          "name": "stdout",
          "text": [
            "[2025-09-12 04:21:06] [Aug unseen blend] Best OOF AUC=0.819963 | mode=rank | w_lgb=0.96\n"
          ]
        },
        {
          "output_type": "stream",
          "name": "stdout",
          "text": [
            "[2025-09-12 04:21:08] Saved submission_unseen_aug.csv with augmented unseen blend and saved metadata.\n"
          ]
        }
      ]
    },
    {
      "id": "4b5db1bf-51f9-4ca2-8d79-13b4da1aa18e",
      "cell_type": "code",
      "metadata": {},
      "source": [
        "# Cell 33: Optional rarity rank post-process on current TE-unseen blend\n",
        "log('Applying rarity rank post-process on current TE-unseen blend (alpha in {0.95,0.97,0.99})...')\n",
        "import pandas as pd, numpy as np, json\n",
        "\n",
        "# Load current TE-unseen blended test preds (from Cell 28's refined best) or rebuild quickly\n",
        "pred_lgb = pd.read_csv('pred_lgb_unseen_u42.csv');\n",
        "for tag in ['u1337','u2025','u101','u999','u7']:\n",
        "    df = pd.read_csv(f'pred_lgb_unseen_{tag}.csv')\n",
        "    col = [c for c in df.columns if c != 'id'][0]\n",
        "    pred_lgb = pred_lgb.merge(df[['id', col]].rename(columns={col: f'pred_{tag}'}), on='id', how='inner')\n",
        "lgb_cols = [c for c in pred_lgb.columns if c != 'id']\n",
        "pred_lgb['lgb_ens'] = pred_lgb[lgb_cols].mean(axis=1).astype('float32')\n",
        "pred_xgb = pd.read_csv('pred_xgb_unseen.csv')\n",
        "xcol = [c for c in pred_xgb.columns if c != 'id'][0]\n",
        "pred_xgb = pred_xgb.rename(columns={xcol: 'xgb'})\n",
        "sub_blend = pd.read_csv('sample_submission.csv')[['id']].merge(pred_lgb[['id','lgb_ens']], on='id', how='left').merge(pred_xgb, on='id', how='left')\n",
        "\n",
        "# Use refined best weight/mode from meta if available; else fallback to rank w=0.96\n",
        "w_meta = {'mode': 'rank', 'w_lgb': 0.96}\n",
        "try:\n",
        "    with open('blend_unseen_meta_te_refined.json', 'r') as f:\n",
        "        meta = json.load(f)\n",
        "        if 'chosen' in meta:\n",
        "            w_meta = meta['chosen']\n",
        "        elif 'mode' in meta and 'w_lgb' in meta:\n",
        "            w_meta = {'mode': meta['mode'], 'w_lgb': meta['w_lgb']}\n",
        "except Exception:\n",
        "    pass\n",
        "\n",
        "def rank_norm(x):\n",
        "    r = pd.Series(x).rank(method='average').values\n",
        "    return (r - 1) / max(len(r) - 1, 1)\n",
        "\n",
        "if w_meta.get('mode','rank') == 'prob':\n",
        "    base_pred = (w_meta['w_lgb'] * sub_blend['lgb_ens'].values + (1 - w_meta['w_lgb']) * sub_blend['xgb'].values).astype('float32')\n",
        "else:\n",
        "    rl = rank_norm(sub_blend['lgb_ens']); rx = rank_norm(sub_blend['xgb'])\n",
        "    base_pred = (w_meta['w_lgb'] * rl + (1 - w_meta['w_lgb']) * rx).astype('float32')\n",
        "\n",
        "# Build 1 - FREQ_full_string rarity score (train+test pooled)\n",
        "s_tr = train['f_27'].astype(str).values\n",
        "s_te = test['f_27'].astype(str).values\n",
        "all_full = pd.Series(np.concatenate([s_tr, s_te]))\n",
        "vc_full = all_full.value_counts()\n",
        "N_all = float(len(train) + len(test))\n",
        "freq_full_te = pd.Series(s_te).map(vc_full).fillna(0).values.astype('float32') / N_all\n",
        "rarity = 1.0 - freq_full_te\n",
        "rarity_r = rank_norm(rarity)\n",
        "\n",
        "# Seen/unseen masks via majority f_27 identity map\n",
        "means = train.groupby('f_27')['target'].mean()\n",
        "f27_map = (means >= 0.5).astype('int8').to_dict()\n",
        "test_seen_mask = test['f_27'].isin(f27_map).values\n",
        "test_unseen_mask = ~test_seen_mask\n",
        "preds_seen = test.loc[test_seen_mask, 'f_27'].map(f27_map).astype('float32').values\n",
        "\n",
        "alphas = [0.95, 0.97, 0.99]\n",
        "for a in alphas:\n",
        "    post_unseen = (a * rank_norm(base_pred) + (1 - a) * rarity_r).astype('float32')\n",
        "    final = pd.read_csv('sample_submission.csv')[['id']].copy()\n",
        "    final['target'] = np.zeros(len(final), dtype='float32')\n",
        "    final.loc[test_seen_mask, 'target'] = preds_seen\n",
        "    final.loc[test_unseen_mask, 'target'] = post_unseen[test_unseen_mask]\n",
        "    final['target'] = final['target'].astype('float64').clip(0.0, 1.0)\n",
        "    out_path = f'submission_unseen_rarity_a{int(round(a*100))}.csv'\n",
        "    final.to_csv(out_path, index=False)\n",
        "    log(f'Saved {out_path} (rarity rank post-process, alpha={a}).')"
      ],
      "execution_count": 37,
      "outputs": [
        {
          "output_type": "stream",
          "name": "stdout",
          "text": [
            "[2025-09-12 04:22:25] Applying rarity rank post-process on current TE-unseen blend (alpha in {0.95,0.97,0.99})...\n"
          ]
        },
        {
          "output_type": "stream",
          "name": "stdout",
          "text": [
            "[2025-09-12 04:22:29] Saved submission_unseen_rarity_a95.csv (rarity rank post-process, alpha=0.95).\n"
          ]
        },
        {
          "output_type": "stream",
          "name": "stdout",
          "text": [
            "[2025-09-12 04:22:29] Saved submission_unseen_rarity_a97.csv (rarity rank post-process, alpha=0.97).\n"
          ]
        },
        {
          "output_type": "stream",
          "name": "stdout",
          "text": [
            "[2025-09-12 04:22:29] Saved submission_unseen_rarity_a99.csv (rarity rank post-process, alpha=0.99).\n"
          ]
        }
      ]
    }
  ],
  "metadata": {
    "kernelspec": {
      "display_name": "Python 3",
      "language": "python",
      "name": "python3"
    },
    "language_info": {
      "name": "python",
      "version": "3.11.0rc1"
    }
  },
  "nbformat": 4,
  "nbformat_minor": 5
}