{
  "cells": [
    {
      "id": "8b0be063-5d70-4559-b9be-bddd50100c3a",
      "cell_type": "markdown",
      "metadata": {},
      "source": [
        "# Plan: iNaturalist 2019 (FGVC6) \u2014 Medal-Oriented Workflow\n",
        "\n",
        "Objectives:\n",
        "- Ship a strong, working baseline fast; iterate to medal.\n",
        "\n",
        "Data & Metric:\n",
        "- Train/Val/Test artifacts present: train_val2019.tar.gz, train2019.json, val2019.json, test2019.tar.gz, test2019.json.\n",
        "- Metric: top-1 classification error (minimize). 1010 classes.\n",
        "\n",
        "Validation:\n",
        "- Use official val2019 as holdout for fast feedback. Avoid leakage.\n",
        "- Later add K-fold on train+val via stratified split if beneficial, but keep official val for LB sanity.\n",
        "\n",
        "Baseline Model:\n",
        "- Single-GPU PyTorch with timm.\n",
        "- Pretrained strong backbone (e.g., convnext_base, tf_efficientnet_b3_ns).\n",
        "- Input size 224\u2192320 later; AMP; label smoothing; cosine schedule; warmup.\n",
        "- Augs: RandAugment/AutoAugment, Mixup/CutMix moderate, RandomResizedCrop, flips.\n",
        "- BCE/CE with label smoothing (CE+LS).\n",
        "- Save best on val top-1.\n",
        "\n",
        "Pipeline:\n",
        "1) Environment & GPU check.\n",
        "2) Extract tars to /mnt if space allows; build PyTorch datasets from JSONs.\n",
        "3) Train baseline (few epochs on 224 to validate pipeline).\n",
        "4) Full train with tuned epochs (e.g., 25-40) with AMP, EMA.\n",
        "5) Inference: TTA (e.g., 5-10 crops/flips).\n",
        "6) Generate submission.csv matching sample format.\n",
        "\n",
        "Risk/Time Controls:\n",
        "- Log progress and elapsed per epoch; early stop if divergence.\n",
        "- Cache checkpoints and logits.\n",
        "- While training, consult experts for architecture/aug choices and whether to scale input/epochs.\n",
        "\n",
        "Next:\n",
        "- Run environment checks, parse JSONs, inspect class counts, then implement training script (train.py) and inference script (predict.py).\n",
        "- Request expert review on plan before heavy training."
      ],
      "execution_count": null,
      "outputs": []
    },
    {
      "id": "d59bf32c-4ee8-49a3-970a-9b24b6227f37",
      "cell_type": "code",
      "metadata": {},
      "source": [
        "# Environment & GPU check; repo contents overview\n",
        "import os, sys, json, time, shutil, subprocess, platform, psutil\n",
        "\n",
        "def run(cmd):\n",
        "    print(\"$\", \" \".join(cmd), flush=True)\n",
        "    try:\n",
        "        out = subprocess.run(cmd, stdout=subprocess.PIPE, stderr=subprocess.STDOUT, text=True)\n",
        "        print(out.stdout, flush=True)\n",
        "        return out.returncode, out.stdout\n",
        "    except Exception as e:\n",
        "        print(\"ERR:\", e, flush=True)\n",
        "        return 1, str(e)\n",
        "\n",
        "print(f\"Python: {platform.python_version()} | Platform: {platform.platform()}\")\n",
        "print(f\"CWD: {os.getcwd()}\")\n",
        "print(\"Checking GPU via nvidia-smi...\")\n",
        "run(['bash','-lc','nvidia-smi || true'])\n",
        "\n",
        "print(\"Disk usage (df -h):\")\n",
        "run(['bash','-lc','df -h'])\n",
        "\n",
        "print(\"Listing repo files with sizes and mtimes:\")\n",
        "run(['bash','-lc','ls -alh --time-style=+%Y-%m-%dT%H:%M:%S'])\n",
        "\n",
        "print(\"CPU/Memory info:\")\n",
        "print(f\"CPU count: {psutil.cpu_count(logical=True)} | RAM: {psutil.virtual_memory().total/1e9:.1f} GB\")\n",
        "\n",
        "print(\"If torch not installed, we will install cu121 stack next.\")\n",
        "try:\n",
        "    import torch, torchvision\n",
        "    print(\"torch:\", torch.__version__, \"CUDA avail:\", torch.cuda.is_available(), \"CUDA build:\", getattr(torch.version,'cuda',None))\n",
        "    if torch.cuda.is_available():\n",
        "        print(\"GPU:\", torch.cuda.get_device_name(0))\n",
        "except Exception as e:\n",
        "    print(\"torch not importable yet:\", e)"
      ],
      "execution_count": null,
      "outputs": []
    },
    {
      "id": "87d98b5a-9ca2-4468-8c48-c9940ad961a4",
      "cell_type": "code",
      "metadata": {},
      "source": [
        "# Install CUDA 12.1-compatible PyTorch stack and verify GPU\n",
        "import os, sys, subprocess, shutil, time, textwrap\n",
        "\n",
        "def pip(*args):\n",
        "    print(\">\", *args, flush=True)\n",
        "    subprocess.run([sys.executable, \"-m\", \"pip\", *args], check=True)\n",
        "\n",
        "# 0) Uninstall any preexisting torch stack\n",
        "for pkg in (\"torch\",\"torchvision\",\"torchaudio\"):\n",
        "    subprocess.run([sys.executable, \"-m\", \"pip\", \"uninstall\", \"-y\", pkg], check=False)\n",
        "\n",
        "# Clean stray site dirs that can shadow correct wheels (idempotent)\n",
        "for d in (\n",
        "    \"/app/.pip-target/torch\",\n",
        "    \"/app/.pip-target/torch-2.8.0.dist-info\",\n",
        "    \"/app/.pip-target/torch-2.4.1.dist-info\",\n",
        "    \"/app/.pip-target/torchvision\",\n",
        "    \"/app/.pip-target/torchvision-0.23.0.dist-info\",\n",
        "    \"/app/.pip-target/torchvision-0.19.1.dist-info\",\n",
        "    \"/app/.pip-target/torchaudio\",\n",
        "    \"/app/.pip-target/torchaudio-2.8.0.dist-info\",\n",
        "    \"/app/.pip-target/torchaudio-2.4.1.dist-info\",\n",
        "    \"/app/.pip-target/torchgen\",\n",
        "    \"/app/.pip-target/functorch\",\n",
        "):\n",
        "    if os.path.exists(d):\n",
        "        print(\"Removing\", d, flush=True)\n",
        "        shutil.rmtree(d, ignore_errors=True)\n",
        "\n",
        "# 1) Install EXACT cu121 torch stack\n",
        "pip(\"install\",\n",
        "    \"--index-url\", \"https://download.pytorch.org/whl/cu121\",\n",
        "    \"--extra-index-url\", \"https://pypi.org/simple\",\n",
        "    \"torch==2.4.1\", \"torchvision==0.19.1\", \"torchaudio==2.4.1\")\n",
        "\n",
        "# 2) Freeze versions\n",
        "from pathlib import Path\n",
        "Path(\"constraints.txt\").write_text(\"\\n\".join([\n",
        "    \"torch==2.4.1\",\n",
        "    \"torchvision==0.19.1\",\n",
        "    \"torchaudio==2.4.1\",\n",
        "]))\n",
        "\n",
        "# 3) Install non-torch deps\n",
        "pip(\"install\", \"-c\", \"constraints.txt\",\n",
        "    \"timm==1.0.9\",\n",
        "    \"albumentations==1.4.14\",\n",
        "    \"opencv-python-headless\",\n",
        "    \"scikit-learn\",\n",
        "    \"pillow-simd\",\n",
        "    \"jpeg4py\",\n",
        "    \"pyyaml\",\n",
        "    \"einops\",\n",
        "    \"wandb\",\n",
        "    \"--upgrade-strategy\", \"only-if-needed\")\n",
        "\n",
        "# 4) Sanity check\n",
        "import torch\n",
        "print(\"torch:\", torch.__version__, \"built CUDA:\", getattr(torch.version, \"cuda\", None))\n",
        "print(\"CUDA available:\", torch.cuda.is_available())\n",
        "assert str(getattr(torch.version, \"cuda\", \"\")).startswith(\"12.1\"), f\"Wrong CUDA build: {torch.version.cuda}\"\n",
        "assert torch.cuda.is_available(), \"CUDA not available\"\n",
        "print(\"GPU:\", torch.cuda.get_device_name(0))\n",
        "\n",
        "print(\"Environment ready.\")"
      ],
      "execution_count": null,
      "outputs": []
    },
    {
      "id": "ea6d714f-3cc3-4005-ba99-f257dca12312",
      "cell_type": "code",
      "metadata": {},
      "source": [
        "# Install remaining deps without pillow-simd/jpeg4py (use standard Pillow) and verify torch GPU\n",
        "import sys, subprocess\n",
        "\n",
        "def pip(*args):\n",
        "    print(\">\", *args, flush=True)\n",
        "    subprocess.run([sys.executable, \"-m\", \"pip\", *args], check=True)\n",
        "\n",
        "pip(\"install\", \"-c\", \"constraints.txt\",\n",
        "    \"timm==1.0.9\",\n",
        "    \"albumentations==1.4.14\",\n",
        "    \"opencv-python-headless\",\n",
        "    \"scikit-learn\",\n",
        "    \"pyyaml\",\n",
        "    \"einops\",\n",
        "    \"wandb\",\n",
        "    \"--upgrade-strategy\", \"only-if-needed\")\n",
        "\n",
        "import torch\n",
        "print(\"torch:\", torch.__version__, \"built CUDA:\", getattr(torch.version, \"cuda\", None))\n",
        "print(\"CUDA available:\", torch.cuda.is_available())\n",
        "if torch.cuda.is_available():\n",
        "    print(\"GPU:\", torch.cuda.get_device_name(0))\n",
        "print(\"Deps ready.\")"
      ],
      "execution_count": null,
      "outputs": []
    },
    {
      "id": "b977d56f-e7d5-4824-91f6-779e0471b137",
      "cell_type": "code",
      "metadata": {},
      "source": [
        "# Extract datasets to project dir (./inat2019) using Python tarfile (auto-detect compression) and verify a few files\n",
        "import os, json, time, random, tarfile, pathlib\n",
        "\n",
        "root = os.path.abspath(\"./inat2019\")\n",
        "train_root = os.path.join(root, \"train_val2019\")\n",
        "test_root = os.path.join(root, \"test2019\")\n",
        "os.makedirs(root, exist_ok=True)\n",
        "\n",
        "def extract_tar_auto(tar_path, dest_dir):\n",
        "    print(f\"Extracting {tar_path} -> {dest_dir}\", flush=True)\n",
        "    t0=time.time()\n",
        "    with tarfile.open(tar_path, mode=\"r:*\") as tf:\n",
        "        members = tf.getmembers()\n",
        "        total = len(members)\n",
        "        print(f\"Members: {total}\")\n",
        "        for i, m in enumerate(members, 1):\n",
        "            tf.extract(m, path=dest_dir)\n",
        "            if i % 5000 == 0 or i == total:\n",
        "                print(f\"  {i}/{total} extracted ({(time.time()-t0)/60:.1f} min)\", flush=True)\n",
        "    print(f\"Done {tar_path} in {(time.time()-t0)/60:.1f} min\")\n",
        "\n",
        "start=time.time()\n",
        "if not os.path.exists(train_root) or (os.path.isdir(train_root) and not any(os.scandir(train_root))):\n",
        "    os.makedirs(train_root, exist_ok=True)\n",
        "    extract_tar_auto(\"train_val2019.tar.gz\", root)\n",
        "else:\n",
        "    print(\"Train/Val already extracted:\", train_root)\n",
        "\n",
        "if not os.path.exists(test_root) or (os.path.isdir(test_root) and not any(os.scandir(test_root))):\n",
        "    os.makedirs(test_root, exist_ok=True)\n",
        "    extract_tar_auto(\"test2019.tar.gz\", root)\n",
        "else:\n",
        "    print(\"Test already extracted:\", test_root)\n",
        "\n",
        "print(f\"Extraction stage took {(time.time()-start)/60:.1f} min total\")\n",
        "\n",
        "# Quick JSON and file existence sanity checks\n",
        "with open(\"train2019.json\",\"r\") as f: train_json=json.load(f)\n",
        "with open(\"val2019.json\",\"r\") as f: val_json=json.load(f)\n",
        "with open(\"test2019.json\",\"r\") as f: test_json=json.load(f)\n",
        "\n",
        "def rel_paths_from_json(js):\n",
        "    # COCO-style jsons have images list with file_name fields\n",
        "    return [img[\"file_name\"] for img in js.get(\"images\", js)]\n",
        "\n",
        "train_files = rel_paths_from_json(train_json)\n",
        "val_files = rel_paths_from_json(val_json)\n",
        "test_files = rel_paths_from_json(test_json)\n",
        "\n",
        "def check_some(files, base):\n",
        "    if not files:\n",
        "        print(\"No files listed in JSON\")\n",
        "        return\n",
        "    ok=0; tot=min(10, len(files))\n",
        "    for p in random.sample(files, tot):\n",
        "        full=os.path.join(base, p)\n",
        "        if os.path.exists(full):\n",
        "            ok+=1\n",
        "        else:\n",
        "            print(\"Missing:\", full)\n",
        "    print(f\"Existence check: {ok}/{tot} ok\")\n",
        "\n",
        "print(\"Example train file:\", train_files[0] if train_files else None)\n",
        "print(\"Example test file:\", test_files[0] if test_files else None)\n",
        "\n",
        "# Check existence relative to extracted root\n",
        "check_some(train_files, base=root)\n",
        "check_some(test_files, base=root)\n",
        "\n",
        "print(\"Ready for dataset building.\")"
      ],
      "execution_count": null,
      "outputs": []
    },
    {
      "id": "49deaaec-117d-46bf-a0de-458b1b0a55cd",
      "cell_type": "code",
      "metadata": {},
      "source": [
        "# Inspect extracted directory structure and locate sample files\n",
        "import os, json, random, glob\n",
        "\n",
        "root = os.path.abspath(\"./inat2019\")\n",
        "print(\"Root:\", root)\n",
        "print(\"Top-level entries:\", os.listdir(root))\n",
        "for d in os.listdir(root):\n",
        "    p = os.path.join(root, d)\n",
        "    print(d, \"-> dir:\", os.path.isdir(p), \"files:\", sum(len(files) for _,_,files in os.walk(p)))\n",
        "\n",
        "with open(\"train2019.json\",\"r\") as f: train_json=json.load(f)\n",
        "with open(\"test2019.json\",\"r\") as f: test_json=json.load(f)\n",
        "\n",
        "train_files = [img[\"file_name\"] for img in train_json[\"images\"]]\n",
        "test_files = [img[\"file_name\"] for img in test_json[\"images\"]]\n",
        "ex_train = train_files[0]\n",
        "ex_test = test_files[0]\n",
        "print(\"Example train JSON path:\", ex_train)\n",
        "print(\"Example test JSON path:\", ex_test)\n",
        "\n",
        "def exists_at_root(rel):\n",
        "    return os.path.exists(os.path.join(root, rel))\n",
        "\n",
        "print(\"Exists at root (train ex):\", exists_at_root(ex_train))\n",
        "print(\"Exists at root (test ex):\", exists_at_root(ex_test))\n",
        "\n",
        "# If not found, try to locate by basename anywhere under root\n",
        "def locate_by_basename(rel):\n",
        "    base = os.path.basename(rel)\n",
        "    hits = list(glob.iglob(os.path.join(root, \"**\", base), recursive=True))\n",
        "    return hits[:5]\n",
        "\n",
        "if not exists_at_root(ex_train):\n",
        "    print(\"Searching for train basename...\")\n",
        "    print(locate_by_basename(ex_train))\n",
        "if not exists_at_root(ex_test):\n",
        "    print(\"Searching for test basename...\")\n",
        "    print(locate_by_basename(ex_test))\n",
        "\n",
        "print(\"Done structure inspection.\")"
      ],
      "execution_count": null,
      "outputs": []
    },
    {
      "id": "ad308f77-2ab8-4f9d-a84b-18ef63b6c57e",
      "cell_type": "code",
      "metadata": {},
      "source": [
        "# Build datasets with robust path resolution + basename index (filters missing files)\n",
        "import os, json, time, math, random\n",
        "from pathlib import Path\n",
        "from typing import Dict, Tuple, List\n",
        "import torch\n",
        "from torch.utils.data import Dataset, DataLoader\n",
        "from PIL import Image, ImageFile\n",
        "import torchvision.transforms as T\n",
        "\n",
        "ImageFile.LOAD_TRUNCATED_IMAGES = True\n",
        "torch.backends.cudnn.benchmark = True\n",
        "\n",
        "root = os.path.abspath(\"./inat2019\")\n",
        "print(\"Root:\", root)\n",
        "\n",
        "# Load JSONs\n",
        "with open(\"train2019.json\",\"r\") as f: train_json = json.load(f)\n",
        "with open(\"val2019.json\",\"r\") as f: val_json = json.load(f)\n",
        "\n",
        "# Build category id mapping (sparse category_id -> dense [0..C-1])\n",
        "cat_ids = sorted({c[\"id\"] for c in train_json[\"categories\"]})\n",
        "catid_to_idx: Dict[int,int] = {cid:i for i, cid in enumerate(cat_ids)}\n",
        "idx_to_catid: Dict[int,int] = {i:cid for cid,i in catid_to_idx.items()}\n",
        "num_classes = len(catid_to_idx)\n",
        "print(\"Classes:\", num_classes)\n",
        "\n",
        "# COCO-style join images and anns (1 ann per image expected)\n",
        "def build_records(js: dict) -> List[Tuple[str,int]]:\n",
        "    anns_by_img = {a[\"image_id\"]: a for a in js[\"annotations\"]}\n",
        "    recs = []\n",
        "    for im in js[\"images\"]:\n",
        "        img_id = im[\"id\"]\n",
        "        fn = im[\"file_name\"]\n",
        "        ann = anns_by_img.get(img_id, None)\n",
        "        if ann is None:\n",
        "            continue\n",
        "        cid = ann[\"category_id\"]\n",
        "        if cid not in catid_to_idx:\n",
        "            continue\n",
        "        recs.append((fn, catid_to_idx[cid]))\n",
        "    return recs\n",
        "\n",
        "# Build a basename -> full path index (handles any layout differences robustly)\n",
        "def build_basename_index(root_dir: str):\n",
        "    t0 = time.time()\n",
        "    idx: Dict[str, str] = {}\n",
        "    dup = 0\n",
        "    count = 0\n",
        "    for dirpath, _, files in os.walk(root_dir):\n",
        "        for fn in files:\n",
        "            if not fn.lower().endswith(('.jpg','.jpeg','.png')):\n",
        "                continue\n",
        "            count += 1\n",
        "            if fn in idx:\n",
        "                dup += 1\n",
        "                continue\n",
        "            idx[fn] = os.path.join(dirpath, fn)\n",
        "    print(f\"Basename index: {count} files, {dup} dups, built in {time.time()-t0:.1f}s\")\n",
        "    return idx\n",
        "\n",
        "BASENAME_INDEX = build_basename_index(root)\n",
        "\n",
        "# Robust path resolver because extracted layout differs from JSON top-level dirs\n",
        "def resolve_path(rel: str) -> str:\n",
        "    # 1) as-is (e.g., train_val2019/Plants/... or test2019/...)\n",
        "    p = os.path.join(root, rel)\n",
        "    if os.path.exists(p):\n",
        "        return p\n",
        "    # 2) drop first component\n",
        "    parts = rel.split('/')\n",
        "    if len(parts) > 1:\n",
        "        p2 = os.path.join(root, \"/\".join(parts[1:]))\n",
        "        if os.path.exists(p2):\n",
        "            return p2\n",
        "    # 3) basename lookup (handles val/test pointing to different top-level)\n",
        "    base = os.path.basename(rel)\n",
        "    p3 = BASENAME_INDEX.get(base, None)\n",
        "    if p3 is not None and os.path.exists(p3):\n",
        "        return p3\n",
        "    # 4) last fallback: direct basename in root\n",
        "    p4 = os.path.join(root, base)\n",
        "    if os.path.exists(p4):\n",
        "        return p4\n",
        "    return p  # may not exist; will be filtered out\n",
        "\n",
        "train_recs_raw = build_records(train_json)\n",
        "val_recs_raw = build_records(val_json)\n",
        "print(\"Train records (raw):\", len(train_recs_raw), \"Val records (raw):\", len(val_recs_raw))\n",
        "\n",
        "# Filter out missing files to avoid DataLoader errors\n",
        "def filter_existing(recs: List[Tuple[str,int]]):\n",
        "    kept = []\n",
        "    missing = 0\n",
        "    for rel, y in recs:\n",
        "        rp = resolve_path(rel)\n",
        "        if os.path.exists(rp):\n",
        "            kept.append((rel, y))\n",
        "        else:\n",
        "            missing += 1\n",
        "    return kept, missing\n",
        "\n",
        "t0=time.time()\n",
        "train_recs, miss_tr = filter_existing(train_recs_raw)\n",
        "val_recs, miss_va = filter_existing(val_recs_raw)\n",
        "print(f\"Filtered: train {len(train_recs)} kept, {miss_tr} missing; val {len(val_recs)} kept, {miss_va} missing; took {time.time()-t0:.1f}s\")\n",
        "\n",
        "class INatDataset(Dataset):\n",
        "    def __init__(self, recs, train: bool):\n",
        "        self.recs = recs\n",
        "        self.train = train\n",
        "        if train:\n",
        "            self.tf = T.Compose([\n",
        "                T.RandomResizedCrop(224, scale=(0.5, 1.0), ratio=(0.75, 1.33)),\n",
        "                T.RandomHorizontalFlip(),\n",
        "                T.ToTensor(),\n",
        "                T.Normalize(mean=[0.485,0.456,0.406], std=[0.229,0.224,0.225]),\n",
        "            ])\n",
        "        else:\n",
        "            self.tf = T.Compose([\n",
        "                T.Resize(256, interpolation=T.InterpolationMode.BICUBIC),\n",
        "                T.CenterCrop(224),\n",
        "                T.ToTensor(),\n",
        "                T.Normalize(mean=[0.485,0.456,0.406], std=[0.229,0.224,0.225]),\n",
        "            ])\n",
        "    def __len__(self):\n",
        "        return len(self.recs)\n",
        "    def __getitem__(self, idx):\n",
        "        rel, y = self.recs[idx]\n",
        "        path = resolve_path(rel)\n",
        "        with Image.open(path) as img:\n",
        "            img = img.convert('RGB')\n",
        "            x = self.tf(img)\n",
        "        return x, y\n",
        "\n",
        "# Instantiate datasets and loaders\n",
        "train_ds = INatDataset(train_recs, train=True)\n",
        "val_ds = INatDataset(val_recs, train=False)\n",
        "\n",
        "batch_size = 64\n",
        "num_workers = min(12, os.cpu_count() or 8)\n",
        "train_loader = DataLoader(train_ds, batch_size=batch_size, shuffle=True, num_workers=num_workers, pin_memory=True, persistent_workers=True)\n",
        "val_loader = DataLoader(val_ds, batch_size=batch_size, shuffle=False, num_workers=num_workers, pin_memory=True, persistent_workers=True)\n",
        "\n",
        "# Quick smoke: iterate a batch\n",
        "t0=time.time()\n",
        "xb, yb = next(iter(train_loader))\n",
        "print(\"Train batch:\", xb.shape, yb.shape, \"time:\", f\"{time.time()-t0:.2f}s\")\n",
        "if len(val_ds) > 0:\n",
        "    t0=time.time()\n",
        "    xb2, yb2 = next(iter(val_loader))\n",
        "    print(\"Val batch:\", xb2.shape, yb2.shape, \"time:\", f\"{time.time()-t0:.2f}s\")\n",
        "else:\n",
        "    print(\"Val dataset is empty after filtering; will adjust resolver if needed.\")\n",
        "\n",
        "# Torch/CUDA sanity\n",
        "print(\"Torch:\", torch.__version__, \"CUDA avail:\", torch.cuda.is_available())\n",
        "if torch.cuda.is_available():\n",
        "    print(\"GPU:\", torch.cuda.get_device_name(0))\n",
        "print(\"Dataset smoke OK.\")"
      ],
      "execution_count": 1,
      "outputs": [
        {
          "output_type": "stream",
          "name": "stdout",
          "text": [
            "Root: /var/lib/simon/agent_run_states/inaturalist-2019-fgvc6-20250927-163935/inat2019\n"
          ]
        },
        {
          "output_type": "stream",
          "name": "stdout",
          "text": [
            "Classes: 1010\n"
          ]
        },
        {
          "output_type": "stream",
          "name": "stdout",
          "text": [
            "Basename index: 265213 files, 0 dups, built in 0.4s\nTrain records (raw): 232999 Val records (raw): 3030\n"
          ]
        },
        {
          "output_type": "stream",
          "name": "stdout",
          "text": [
            "Filtered: train 232999 kept, 0 missing; val 0 kept, 3030 missing; took 3.0s\n"
          ]
        },
        {
          "output_type": "stream",
          "name": "stdout",
          "text": [
            "Train batch: torch.Size([64, 3, 224, 224]) torch.Size([64]) time: 0.98s\nVal dataset is empty after filtering; will adjust resolver if needed.\nTorch: 2.4.1+cu121 CUDA avail: True\nGPU: NVIDIA A10-24Q\nDataset smoke OK.\n"
          ]
        }
      ]
    },
    {
      "id": "51175419-4f45-4278-acfb-d1c5c7c5b79b",
      "cell_type": "code",
      "metadata": {},
      "source": [
        "# Baseline training (stratified holdout from train) + inference to submission\n",
        "import os, time, math, random, json\n",
        "from collections import defaultdict\n",
        "import torch\n",
        "import torch.nn as nn\n",
        "from torch.utils.data import Subset, DataLoader\n",
        "from torchvision import models\n",
        "import torchvision.transforms as T\n",
        "\n",
        "# Reuse train_ds, resolve_path, idx_to_catid from previous cell\n",
        "assert 'train_ds' in globals(), 'Run previous cell to build datasets/mappings.'\n",
        "assert 'resolve_path' in globals() and 'idx_to_catid' in globals(), 'Mappings/resolver missing.'\n",
        "\n",
        "# Build a small stratified validation split from train (since val images are not present here)\n",
        "labels = [y for _, y in train_ds.recs]\n",
        "by_cls = defaultdict(list)\n",
        "for i, y in enumerate(labels):\n",
        "    by_cls[y].append(i)\n",
        "val_idx = []\n",
        "train_idx = []\n",
        "random.seed(42)\n",
        "per_cls_val = 3  # small, fast sanity; later increase\n",
        "for c, idxs in by_cls.items():\n",
        "    random.shuffle(idxs)\n",
        "    v = idxs[:per_cls_val]\n",
        "    t = idxs[per_cls_val:]\n",
        "    val_idx.extend(v)\n",
        "    train_idx.extend(t)\n",
        "print(f\"Holdout sizes -> train: {len(train_idx)}, val: {len(val_idx)}\")\n",
        "\n",
        "train_sub = Subset(train_ds, train_idx)\n",
        "val_sub = Subset(INatDataset([(train_ds.recs[i][0], train_ds.recs[i][1]) for i in val_idx], train=False), list(range(len(val_idx))))\n",
        "\n",
        "batch_size = 64\n",
        "num_workers = min(12, os.cpu_count() or 8)\n",
        "train_loader = DataLoader(train_sub, batch_size=batch_size, shuffle=True, num_workers=num_workers, pin_memory=True, persistent_workers=True)\n",
        "val_loader = DataLoader(val_sub, batch_size=batch_size, shuffle=False, num_workers=num_workers, pin_memory=True, persistent_workers=True)\n",
        "\n",
        "# Model: torchvision ConvNeXt-Base pretrained, replace head to 1010 classes\n",
        "num_classes = len(idx_to_catid)\n",
        "print('Building model...')\n",
        "model = models.convnext_base(weights=models.ConvNeXt_Base_Weights.DEFAULT)\n",
        "in_features = model.classifier[2].in_features\n",
        "model.classifier[2] = nn.Linear(in_features, num_classes)\n",
        "model = model.to('cuda' if torch.cuda.is_available() else 'cpu', memory_format=torch.channels_last)\n",
        "\n",
        "optimizer = torch.optim.AdamW(model.parameters(), lr=3e-4, weight_decay=0.05)\n",
        "criterion = nn.CrossEntropyLoss(label_smoothing=0.1)\n",
        "scaler = torch.cuda.amp.GradScaler(enabled=torch.cuda.is_available())\n",
        "\n",
        "def evaluate(model, loader):\n",
        "    model.eval()\n",
        "    correct = 0\n",
        "    total = 0\n",
        "    device = next(model.parameters()).device\n",
        "    with torch.no_grad():\n",
        "        for xb, yb in loader:\n",
        "            xb = xb.to(device, non_blocking=True).to(memory_format=torch.channels_last)\n",
        "            yb = yb.to(device, non_blocking=True)\n",
        "            with torch.cuda.amp.autocast(enabled=torch.cuda.is_available()):\n",
        "                logits = model(xb)\n",
        "            preds = logits.argmax(1)\n",
        "            correct += (preds == yb).sum().item()\n",
        "            total += yb.size(0)\n",
        "    acc = correct / max(1,total)\n",
        "    return acc\n",
        "\n",
        "# Train a very short sanity run (1 epoch); extend later\n",
        "epochs = 1\n",
        "device = next(model.parameters()).device\n",
        "best_acc = 0.0\n",
        "best_path = 'baseline_convnext_base_224.pth'\n",
        "t_start = time.time()\n",
        "for epoch in range(epochs):\n",
        "    model.train()\n",
        "    epoch_start = time.time()\n",
        "    seen = 0\n",
        "    for it, (xb, yb) in enumerate(train_loader):\n",
        "        xb = xb.to(device, non_blocking=True).to(memory_format=torch.channels_last)\n",
        "        yb = yb.to(device, non_blocking=True)\n",
        "        optimizer.zero_grad(set_to_none=True)\n",
        "        with torch.cuda.amp.autocast(enabled=torch.cuda.is_available()):\n",
        "            logits = model(xb)\n",
        "            loss = criterion(logits, yb)\n",
        "        scaler.scale(loss).backward()\n",
        "        scaler.step(optimizer)\n",
        "        scaler.update()\n",
        "        seen += yb.size(0)\n",
        "        if (it+1) % 50 == 0:\n",
        "            print(f\"Epoch {epoch+1}/{epochs} it {it+1} seen {seen} loss {loss.item():.4f} elapsed {time.time()-epoch_start:.1f}s\", flush=True)\n",
        "    val_acc = evaluate(model, val_loader)\n",
        "    print(f\"Epoch {epoch+1} val_acc {val_acc:.4f} epoch_time {time.time()-epoch_start:.1f}s total_elapsed {time.time()-t_start:.1f}s\", flush=True)\n",
        "    if val_acc > best_acc:\n",
        "        best_acc = val_acc\n",
        "        torch.save({'model': model.state_dict(), 'num_classes': num_classes}, best_path)\n",
        "        print(f\"Saved best to {best_path}\")\n",
        "\n",
        "print(f\"Training done. Best val_acc {best_acc:.4f}\")\n",
        "\n",
        "# Inference on test set and write submission.csv\n",
        "print('Preparing test dataset...')\n",
        "with open('test2019.json','r') as f: test_json = json.load(f)\n",
        "test_images = test_json['images']\n",
        "test_file_names = [im['file_name'] for im in test_images]\n",
        "test_ids = [im['id'] for im in test_images]\n",
        "\n",
        "class INatTestDataset(torch.utils.data.Dataset):\n",
        "    def __init__(self, rel_paths):\n",
        "        self.rel_paths = rel_paths\n",
        "        self.tf = T.Compose([\n",
        "            T.Resize(256, interpolation=T.InterpolationMode.BICUBIC),\n",
        "            T.CenterCrop(224),\n",
        "            T.ToTensor(),\n",
        "            T.Normalize(mean=[0.485,0.456,0.406], std=[0.229,0.224,0.225]),\n",
        "        ])\n",
        "    def __len__(self):\n",
        "        return len(self.rel_paths)\n",
        "    def __getitem__(self, idx):\n",
        "        rel = self.rel_paths[idx]\n",
        "        path = resolve_path(rel)\n",
        "        from PIL import Image\n",
        "        with Image.open(path) as img:\n",
        "            img = img.convert('RGB')\n",
        "            x = self.tf(img)\n",
        "        return x\n",
        "\n",
        "test_ds = INatTestDataset(test_file_names)\n",
        "test_loader = DataLoader(test_ds, batch_size=batch_size, shuffle=False, num_workers=num_workers, pin_memory=True, persistent_workers=True)\n",
        "\n",
        "# Load best weights if saved\n",
        "if os.path.exists(best_path):\n",
        "    ckpt = torch.load(best_path, map_location=device)\n",
        "    model.load_state_dict(ckpt['model'], strict=False)\n",
        "model.eval()\n",
        "\n",
        "all_preds = []\n",
        "with torch.no_grad():\n",
        "    for it, xb in enumerate(test_loader):\n",
        "        xb = xb.to(device, non_blocking=True).to(memory_format=torch.channels_last)\n",
        "        with torch.cuda.amp.autocast(enabled=torch.cuda.is_available()):\n",
        "            logits = model(xb)\n",
        "        preds = logits.argmax(1).detach().cpu().tolist()\n",
        "        all_preds.extend(preds)\n",
        "        if (it+1) % 100 == 0:\n",
        "            print(f\"Infer it {it+1}/{math.ceil(len(test_ds)/batch_size)}\", flush=True)\n",
        "\n",
        "assert len(all_preds) == len(test_ids), 'Prediction length mismatch'\n",
        "\n",
        "# Map model idx -> original category_id\n",
        "pred_cat_ids = [idx_to_catid[p] for p in all_preds]\n",
        "\n",
        "# Build submission matching sample format (image_id, category_id)\n",
        "import pandas as pd\n",
        "sub = pd.DataFrame({'image_id': test_ids, 'category_id': pred_cat_ids})\n",
        "sub.to_csv('submission.csv', index=False)\n",
        "print('Wrote submission.csv with', len(sub), 'rows')"
      ],
      "execution_count": null,
      "outputs": []
    },
    {
      "id": "b05f3af5-6746-452a-afec-75909ed9840a",
      "cell_type": "code",
      "metadata": {},
      "source": [
        "# Train timm EfficientNetV2-M @320 with AMP + EMA on stratified holdout; then infer test and write submission.csv\n",
        "import os, math, time, random, json, subprocess, sys, importlib\n",
        "from collections import defaultdict\n",
        "import torch\n",
        "import torch.nn as nn\n",
        "from torch.utils.data import Subset, DataLoader\n",
        "import torchvision.transforms as T\n",
        "\n",
        "# Improve CUDA memory handling\n",
        "os.environ.setdefault('PYTORCH_CUDA_ALLOC_CONF', 'expandable_segments:True')\n",
        "\n",
        "# Ensure huggingface_hub available BEFORE importing timm (timm checks at import-time)\n",
        "try:\n",
        "    import huggingface_hub  # noqa: F401\n",
        "except Exception:\n",
        "    subprocess.run([sys.executable, '-m', 'pip', 'install', 'huggingface_hub==0.24.6', '--no-deps'], check=True)\n",
        "    import huggingface_hub  # noqa: F401\n",
        "\n",
        "# Safe timm import without touching torch stack\n",
        "try:\n",
        "    import timm\n",
        "except Exception:\n",
        "    subprocess.run([sys.executable, '-m', 'pip', 'install', 'timm==1.0.9', '--no-deps'], check=True)\n",
        "    import timm\n",
        "\n",
        "from timm.loss import SoftTargetCrossEntropy\n",
        "from timm.data.mixup import Mixup\n",
        "from timm.utils import ModelEmaV2\n",
        "\n",
        "device = 'cuda' if torch.cuda.is_available() else 'cpu'\n",
        "torch.backends.cudnn.benchmark = True\n",
        "torch.backends.cuda.matmul.allow_tf32 = True\n",
        "torch.backends.cudnn.allow_tf32 = True\n",
        "if hasattr(torch, 'set_float32_matmul_precision'):\n",
        "    torch.set_float32_matmul_precision('medium')\n",
        "\n",
        "# Reuse train_ds, resolve_path, idx_to_catid from previous cells\n",
        "assert 'train_ds' in globals() and 'resolve_path' in globals() and 'idx_to_catid' in globals()\n",
        "\n",
        "# Build larger stratified holdout (10/class) from train records\n",
        "labels = [y for _, y in train_ds.recs]\n",
        "by_cls = defaultdict(list)\n",
        "for i, y in enumerate(labels):\n",
        "    by_cls[y].append(i)\n",
        "val_idx, tr_idx = [], []\n",
        "random.seed(42)\n",
        "per_cls_val = 10\n",
        "for c, idxs in by_cls.items():\n",
        "    random.shuffle(idxs)\n",
        "    v = idxs[:per_cls_val]\n",
        "    t = idxs[per_cls_val:]\n",
        "    val_idx.extend(v)\n",
        "    tr_idx.extend(t)\n",
        "print(f\"Holdout sizes -> train: {len(tr_idx)}, val: {len(val_idx)}\")\n",
        "\n",
        "# 320px transforms\n",
        "train_tf = T.Compose([\n",
        "    T.RandomResizedCrop(320, scale=(0.2, 1.0), ratio=(0.75, 1.33), interpolation=T.InterpolationMode.BICUBIC),\n",
        "    T.RandAugment(num_ops=2, magnitude=9),\n",
        "    T.RandomHorizontalFlip(),\n",
        "    T.ToTensor(),\n",
        "    T.Normalize([0.485,0.456,0.406],[0.229,0.224,0.225]),\n",
        "    T.RandomErasing(p=0.25, value='random')\n",
        "])\n",
        "val_tf = T.Compose([\n",
        "    T.Resize(352, interpolation=T.InterpolationMode.BICUBIC),\n",
        "    T.CenterCrop(320),\n",
        "    T.ToTensor(),\n",
        "    T.Normalize([0.485,0.456,0.406],[0.229,0.224,0.225]),\n",
        "])\n",
        "\n",
        "class WrappedDS(torch.utils.data.Dataset):\n",
        "    def __init__(self, base, indices, train):\n",
        "        self.base = base\n",
        "        self.idxs = indices\n",
        "        self.train = train\n",
        "    def __len__(self):\n",
        "        return len(self.idxs)\n",
        "    def __getitem__(self, k):\n",
        "        rel, y = self.base.recs[self.idxs[k]]\n",
        "        from PIL import Image\n",
        "        path = resolve_path(rel)\n",
        "        with Image.open(path) as img:\n",
        "            img = img.convert('RGB')\n",
        "            x = (train_tf if self.train else val_tf)(img)\n",
        "        return x, y\n",
        "\n",
        "# Model FIRST to control CUDA memory; build loaders after\n",
        "num_classes = len(idx_to_catid)\n",
        "print('Building timm model...')\n",
        "try:\n",
        "    model = timm.create_model(\n",
        "        'tf_efficientnetv2_m.in21k_ft_in1k',\n",
        "        pretrained=True,\n",
        "        num_classes=num_classes,\n",
        "        drop_path_rate=0.3,\n",
        "        pretrained_cfg_overlay={'hf_hub_id': None}\n",
        "    )\n",
        "except Exception as e:\n",
        "    print('Pretrained load w/ URL fallback failed, retrying default...', e)\n",
        "    try:\n",
        "        model = timm.create_model('tf_efficientnetv2_m.in21k_ft_in1k', pretrained=True, num_classes=num_classes, drop_path_rate=0.3)\n",
        "    except Exception as e2:\n",
        "        print('Retry failed, falling back to pretrained=False (sanity only):', e2)\n",
        "        model = timm.create_model('tf_efficientnetv2_m.in21k_ft_in1k', pretrained=False, num_classes=num_classes, drop_path_rate=0.3)\n",
        "\n",
        "# Free any cached GPU memory before moving model\n",
        "if torch.cuda.is_available():\n",
        "    torch.cuda.empty_cache()\n",
        "    try:\n",
        "        print('Before to():', torch.cuda.memory_summary(abbreviated=True))\n",
        "    except Exception:\n",
        "        pass\n",
        "\n",
        "if hasattr(model, 'set_grad_checkpointing'):\n",
        "    model.set_grad_checkpointing(True)\n",
        "model = model.to(device)  # defer channels_last until after to() to reduce transient copies\n",
        "model = model.to(memory_format=torch.channels_last)\n",
        "\n",
        "# Optimizer & LR schedule\n",
        "batch_size = 48  # further reduced; build loaders after model to minimize CUDA pressure\n",
        "base_lr = 3e-4 * (batch_size/64)\n",
        "optimizer = torch.optim.AdamW(model.parameters(), lr=base_lr, weight_decay=0.05, betas=(0.9,0.999))\n",
        "epochs = 2  # quick sanity; extend to 35 later\n",
        "warmup_epochs = 1  # use 5 when epochs=35\n",
        "cosine_min_lr = 1e-6\n",
        "\n",
        "def lr_at_epoch(ep):\n",
        "    if ep < warmup_epochs:\n",
        "        return base_lr * (ep+1)/max(1,warmup_epochs)\n",
        "    t = (ep - warmup_epochs)/max(1,(epochs - warmup_epochs))\n",
        "    return cosine_min_lr + 0.5*(base_lr - cosine_min_lr)*(1 + math.cos(math.pi*t))\n",
        "\n",
        "# Dataloaders (after model) and with conservative worker settings to avoid fragmentation)\n",
        "num_workers = min(8, os.cpu_count() or 8)\n",
        "train_sub = WrappedDS(train_ds, tr_idx, train=True)\n",
        "val_sub = WrappedDS(train_ds, val_idx, train=False)\n",
        "train_loader = DataLoader(train_sub, batch_size=batch_size, shuffle=True, num_workers=num_workers, pin_memory=True, persistent_workers=False, drop_last=True, prefetch_factor=2)\n",
        "val_loader = DataLoader(val_sub, batch_size=batch_size, shuffle=False, num_workers=num_workers, pin_memory=True, persistent_workers=False, prefetch_factor=2)\n",
        "\n",
        "# Mixup/CutMix and loss (lighter, prob=0.8)\n",
        "mixup_fn = Mixup(\n",
        "    mixup_alpha=0.2,\n",
        "    cutmix_alpha=0.3,\n",
        "    prob=0.8,\n",
        "    switch_prob=0.5,\n",
        "    label_smoothing=0.1,\n",
        "    num_classes=num_classes\n",
        ")\n",
        "use_mixup = True\n",
        "criterion = SoftTargetCrossEntropy() if use_mixup else nn.CrossEntropyLoss(label_smoothing=0.1)\n",
        "scaler = torch.amp.GradScaler('cuda' if torch.cuda.is_available() else 'cpu')\n",
        "\n",
        "# EMA with timm\n",
        "ema = ModelEmaV2(model, decay=0.9998)\n",
        "\n",
        "def evaluate(m, loader):\n",
        "    m.eval()\n",
        "    correct = 0\n",
        "    total = 0\n",
        "    with torch.no_grad(), torch.amp.autocast(device_type='cuda', enabled=torch.cuda.is_available()):\n",
        "        for xb, yb in loader:\n",
        "            xb = xb.to(device, non_blocking=True).to(memory_format=torch.channels_last)\n",
        "            yb = yb.to(device, non_blocking=True)\n",
        "            logits = m(xb)\n",
        "            preds = logits.argmax(1)\n",
        "            correct += (preds == yb).sum().item()\n",
        "            total += yb.size(0)\n",
        "    return correct / max(1,total)\n",
        "\n",
        "best_acc = 0.0\n",
        "best_path = 'effv2m_320_ema.pth'\n",
        "t0 = time.time()\n",
        "for epoch in range(epochs):\n",
        "    for pg in optimizer.param_groups:\n",
        "        pg['lr'] = lr_at_epoch(epoch)\n",
        "    model.train()\n",
        "    ep_start = time.time()\n",
        "    seen = 0\n",
        "    for it, (xb, yb) in enumerate(train_loader):\n",
        "        xb = xb.to(device, non_blocking=True).to(memory_format=torch.channels_last)\n",
        "        yb = yb.to(device, non_blocking=True)\n",
        "        optimizer.zero_grad(set_to_none=True)\n",
        "        with torch.amp.autocast(device_type='cuda', enabled=torch.cuda.is_available()):\n",
        "            if use_mixup:\n",
        "                mx, my = mixup_fn(xb, yb)\n",
        "                logits = model(mx)\n",
        "                loss = criterion(logits, my)\n",
        "            else:\n",
        "                logits = model(xb)\n",
        "                loss = criterion(logits, yb)\n",
        "        scaler.scale(loss).backward()\n",
        "        scaler.step(optimizer)\n",
        "        scaler.update()\n",
        "        ema.update(model)\n",
        "        seen += yb.size(0)\n",
        "        if (it+1) % 100 == 0:\n",
        "            print(f\"Ep {epoch+1}/{epochs} it {it+1} seen {seen} loss {loss.item():.4f} lr {optimizer.param_groups[0]['lr']:.2e} elapsed {time.time()-ep_start:.1f}s\", flush=True)\n",
        "    # Evaluate EMA model\n",
        "    val_acc = evaluate(ema.module, val_loader)\n",
        "    print(f\"Epoch {epoch+1} val_acc(EMA) {val_acc:.4f} ep_time {time.time()-ep_start:.1f}s total {time.time()-t0:.1f}s\", flush=True)\n",
        "    if val_acc > best_acc:\n",
        "        best_acc = val_acc\n",
        "        torch.save({'model': ema.module.state_dict(), 'num_classes': num_classes}, best_path)\n",
        "        print(f\"Saved EMA best to {best_path}\")\n",
        "\n",
        "print(f\"Training done. Best EMA val_acc {best_acc:.4f}\")\n",
        "\n",
        "# Inference with 2x TTA (orig + hflip) using EMA weights\n",
        "print('Preparing test loader...')\n",
        "with open('test2019.json','r') as f: test_json = json.load(f)\n",
        "test_images = test_json['images']\n",
        "test_rel = [im['file_name'] for im in test_images]\n",
        "test_ids = [im['id'] for im in test_images]\n",
        "\n",
        "class TestDS(torch.utils.data.Dataset):\n",
        "    def __init__(self, rels):\n",
        "        self.rels = rels\n",
        "        self.tf = val_tf\n",
        "    def __len__(self): return len(self.rels)\n",
        "    def __getitem__(self, i):\n",
        "        from PIL import Image\n",
        "        p = resolve_path(self.rels[i])\n",
        "        with Image.open(p) as im:\n",
        "            im = im.convert('RGB')\n",
        "            x = self.tf(im)\n",
        "        return x\n",
        "\n",
        "test_loader = DataLoader(TestDS(test_rel), batch_size=batch_size, shuffle=False, num_workers=num_workers, pin_memory=True, persistent_workers=False, prefetch_factor=2)\n",
        "\n",
        "# Load EMA weights\n",
        "if os.path.exists(best_path):\n",
        "    ckpt = torch.load(best_path, map_location=device)\n",
        "    model.load_state_dict(ckpt['model'], strict=False)\n",
        "else:\n",
        "    print('Warning: best EMA checkpoint not found; using current weights')\n",
        "\n",
        "model.eval()\n",
        "preds = []\n",
        "with torch.no_grad(), torch.amp.autocast(device_type='cuda', enabled=torch.cuda.is_available()):\n",
        "    for it, xb in enumerate(test_loader):\n",
        "        xb = xb.to(device, non_blocking=True).to(memory_format=torch.channels_last)\n",
        "        logits = model(xb)\n",
        "        logits_flip = model(torch.flip(xb, dims=[-1]))\n",
        "        logits = (logits + logits_flip) * 0.5\n",
        "        preds.extend(logits.argmax(1).cpu().tolist())\n",
        "        if (it+1) % 100 == 0:\n",
        "            total_it = math.ceil(len(test_rel)/batch_size)\n",
        "            print(f\"Infer it {it+1}/{total_it}\", flush=True)\n",
        "\n",
        "assert len(preds) == len(test_ids)\n",
        "pred_cat_ids = [idx_to_catid[i] for i in preds]\n",
        "import pandas as pd\n",
        "sub = pd.DataFrame({'image_id': test_ids, 'category_id': pred_cat_ids})\n",
        "sub.to_csv('submission.csv', index=False)\n",
        "print('Wrote submission.csv with', len(sub), 'rows')\n",
        "\n",
        "# Notes:\n",
        "# - For full run: set epochs=35, warmup_epochs=5; keep same recipe.\n",
        "# - If OOM persists at batch=48, try 40/32; only then reduce image size."
      ],
      "execution_count": 2,
      "outputs": [
        {
          "output_type": "stream",
          "name": "stderr",
          "text": [
            "/usr/local/lib/python3.11/dist-packages/tqdm/auto.py:21: TqdmWarning: IProgress not found. Please update jupyter and ipywidgets. See https://ipywidgets.readthedocs.io/en/stable/user_install.html\n  from .autonotebook import tqdm as notebook_tqdm\n"
          ]
        },
        {
          "output_type": "stream",
          "name": "stdout",
          "text": [
            "Holdout sizes -> train: 222899, val: 10100\nBuilding timm model...\n"
          ]
        },
        {
          "output_type": "stream",
          "name": "stdout",
          "text": [
            "Before to(): |===========================================================================|\n|                  PyTorch CUDA memory summary, device ID 0                 |\n|---------------------------------------------------------------------------|\n|            CUDA OOMs: 0            |        cudaMalloc retries: 0         |\n|===========================================================================|\n|        Metric         | Cur Usage  | Peak Usage | Tot Alloc  | Tot Freed  |\n|---------------------------------------------------------------------------|\n| Allocated memory      |    512 B   |    512 B   |    512 B   |      0 B   |\n|---------------------------------------------------------------------------|\n| Active memory         |    512 B   |    512 B   |    512 B   |      0 B   |\n|---------------------------------------------------------------------------|\n| Requested memory      |      4 B   |      4 B   |      4 B   |      0 B   |\n|---------------------------------------------------------------------------|\n| GPU reserved memory   |   2048 KiB |   2048 KiB |   2048 KiB |      0 B   |\n|---------------------------------------------------------------------------|\n| Non-releasable memory |   2047 KiB |   2047 KiB |   2047 KiB |      0 B   |\n|---------------------------------------------------------------------------|\n| Allocations           |       1    |       1    |       1    |       0    |\n|---------------------------------------------------------------------------|\n| Active allocs         |       1    |       1    |       1    |       0    |\n|---------------------------------------------------------------------------|\n| GPU reserved segments |       1    |       1    |       1    |       0    |\n|---------------------------------------------------------------------------|\n| Non-releasable allocs |       1    |       1    |       1    |       0    |\n|---------------------------------------------------------------------------|\n| Oversize allocations  |       0    |       0    |       0    |       0    |\n|---------------------------------------------------------------------------|\n| Oversize GPU segments |       0    |       0    |       0    |       0    |\n|===========================================================================|\n\n"
          ]
        },
        {
          "output_type": "stream",
          "name": "stderr",
          "text": [
            "/app/.pip-target/torch/_dynamo/eval_frame.py:600: UserWarning: torch.utils.checkpoint: the use_reentrant parameter should be passed explicitly. In version 2.4 we will raise an exception if use_reentrant is not passed. use_reentrant=False is recommended, but if you need to preserve the current default behavior, you can pass use_reentrant=True. Refer to docs for more details on the differences between the two variants.\n  return fn(*args, **kwargs)\n"
          ]
        },
        {
          "output_type": "stream",
          "name": "stderr",
          "text": [
            "/app/.pip-target/torch/utils/checkpoint.py:295: FutureWarning: `torch.cpu.amp.autocast(args...)` is deprecated. Please use `torch.amp.autocast('cpu', args...)` instead.\n  with torch.enable_grad(), device_autocast_ctx, torch.cpu.amp.autocast(**ctx.cpu_autocast_kwargs):  # type: ignore[attr-defined]\n"
          ]
        },
        {
          "output_type": "stream",
          "name": "stdout",
          "text": [
            "Ep 1/2 it 100 seen 4800 loss 6.3330 lr 2.25e-04 elapsed 45.3s\n"
          ]
        },
        {
          "output_type": "stream",
          "name": "stdout",
          "text": [
            "Ep 1/2 it 200 seen 9600 loss 5.5159 lr 2.25e-04 elapsed 85.4s\n"
          ]
        },
        {
          "output_type": "stream",
          "name": "stdout",
          "text": [
            "Ep 1/2 it 300 seen 14400 loss 5.3506 lr 2.25e-04 elapsed 125.8s\n"
          ]
        },
        {
          "output_type": "stream",
          "name": "stdout",
          "text": [
            "Ep 1/2 it 400 seen 19200 loss 6.0161 lr 2.25e-04 elapsed 166.3s\n"
          ]
        },
        {
          "output_type": "stream",
          "name": "stdout",
          "text": [
            "Ep 1/2 it 500 seen 24000 loss 4.9669 lr 2.25e-04 elapsed 206.9s\n"
          ]
        },
        {
          "output_type": "stream",
          "name": "stdout",
          "text": [
            "Ep 1/2 it 600 seen 28800 loss 5.3659 lr 2.25e-04 elapsed 247.7s\n"
          ]
        },
        {
          "output_type": "stream",
          "name": "stdout",
          "text": [
            "Ep 1/2 it 700 seen 33600 loss 4.5594 lr 2.25e-04 elapsed 288.4s\n"
          ]
        },
        {
          "output_type": "stream",
          "name": "stdout",
          "text": [
            "Ep 1/2 it 800 seen 38400 loss 3.3625 lr 2.25e-04 elapsed 329.2s\n"
          ]
        },
        {
          "output_type": "stream",
          "name": "stdout",
          "text": [
            "Ep 1/2 it 900 seen 43200 loss 3.7671 lr 2.25e-04 elapsed 369.8s\n"
          ]
        },
        {
          "output_type": "stream",
          "name": "stdout",
          "text": [
            "Ep 1/2 it 1000 seen 48000 loss 5.0295 lr 2.25e-04 elapsed 410.5s\n"
          ]
        },
        {
          "output_type": "stream",
          "name": "stdout",
          "text": [
            "Ep 1/2 it 1100 seen 52800 loss 5.4533 lr 2.25e-04 elapsed 451.2s\n"
          ]
        },
        {
          "output_type": "stream",
          "name": "stdout",
          "text": [
            "Ep 1/2 it 1200 seen 57600 loss 5.1888 lr 2.25e-04 elapsed 491.8s\n"
          ]
        },
        {
          "output_type": "stream",
          "name": "stdout",
          "text": [
            "Ep 1/2 it 1300 seen 62400 loss 2.9670 lr 2.25e-04 elapsed 532.5s\n"
          ]
        },
        {
          "output_type": "stream",
          "name": "stdout",
          "text": [
            "Ep 1/2 it 1400 seen 67200 loss 3.2395 lr 2.25e-04 elapsed 573.2s\n"
          ]
        },
        {
          "output_type": "stream",
          "name": "stdout",
          "text": [
            "Ep 1/2 it 1500 seen 72000 loss 5.1117 lr 2.25e-04 elapsed 614.3s\n"
          ]
        },
        {
          "output_type": "stream",
          "name": "stdout",
          "text": [
            "Ep 1/2 it 1600 seen 76800 loss 2.9796 lr 2.25e-04 elapsed 655.5s\n"
          ]
        },
        {
          "output_type": "stream",
          "name": "stdout",
          "text": [
            "Ep 1/2 it 1700 seen 81600 loss 3.1759 lr 2.25e-04 elapsed 696.5s\n"
          ]
        },
        {
          "output_type": "stream",
          "name": "stdout",
          "text": [
            "Ep 1/2 it 1800 seen 86400 loss 5.4103 lr 2.25e-04 elapsed 737.4s\n"
          ]
        },
        {
          "output_type": "stream",
          "name": "stdout",
          "text": [
            "Ep 1/2 it 1900 seen 91200 loss 2.8411 lr 2.25e-04 elapsed 778.4s\n"
          ]
        },
        {
          "output_type": "stream",
          "name": "stdout",
          "text": [
            "Ep 1/2 it 2000 seen 96000 loss 3.1248 lr 2.25e-04 elapsed 819.4s\n"
          ]
        },
        {
          "output_type": "stream",
          "name": "stdout",
          "text": [
            "Ep 1/2 it 2100 seen 100800 loss 3.9237 lr 2.25e-04 elapsed 860.2s\n"
          ]
        },
        {
          "output_type": "stream",
          "name": "stdout",
          "text": [
            "Ep 1/2 it 2200 seen 105600 loss 3.6367 lr 2.25e-04 elapsed 901.2s\n"
          ]
        },
        {
          "output_type": "stream",
          "name": "stdout",
          "text": [
            "Ep 1/2 it 2300 seen 110400 loss 3.0370 lr 2.25e-04 elapsed 942.0s\n"
          ]
        },
        {
          "output_type": "stream",
          "name": "stdout",
          "text": [
            "Ep 1/2 it 2400 seen 115200 loss 3.3330 lr 2.25e-04 elapsed 983.1s\n"
          ]
        },
        {
          "output_type": "stream",
          "name": "stdout",
          "text": [
            "Ep 1/2 it 2500 seen 120000 loss 4.0690 lr 2.25e-04 elapsed 1024.1s\n"
          ]
        },
        {
          "output_type": "stream",
          "name": "stdout",
          "text": [
            "Ep 1/2 it 2600 seen 124800 loss 5.4907 lr 2.25e-04 elapsed 1065.2s\n"
          ]
        },
        {
          "output_type": "stream",
          "name": "stdout",
          "text": [
            "Ep 1/2 it 2700 seen 129600 loss 5.1362 lr 2.25e-04 elapsed 1106.2s\n"
          ]
        },
        {
          "output_type": "stream",
          "name": "stdout",
          "text": [
            "Ep 1/2 it 2800 seen 134400 loss 4.7662 lr 2.25e-04 elapsed 1147.3s\n"
          ]
        },
        {
          "output_type": "stream",
          "name": "stdout",
          "text": [
            "Ep 1/2 it 2900 seen 139200 loss 2.8764 lr 2.25e-04 elapsed 1188.4s\n"
          ]
        },
        {
          "output_type": "stream",
          "name": "stdout",
          "text": [
            "Ep 1/2 it 3000 seen 144000 loss 2.8157 lr 2.25e-04 elapsed 1229.2s\n"
          ]
        },
        {
          "output_type": "stream",
          "name": "stdout",
          "text": [
            "Ep 1/2 it 3100 seen 148800 loss 4.9404 lr 2.25e-04 elapsed 1270.2s\n"
          ]
        },
        {
          "output_type": "stream",
          "name": "stdout",
          "text": [
            "Ep 1/2 it 3200 seen 153600 loss 2.9053 lr 2.25e-04 elapsed 1311.0s\n"
          ]
        },
        {
          "output_type": "stream",
          "name": "stdout",
          "text": [
            "Ep 1/2 it 3300 seen 158400 loss 4.4846 lr 2.25e-04 elapsed 1351.8s\n"
          ]
        },
        {
          "output_type": "stream",
          "name": "stdout",
          "text": [
            "Ep 1/2 it 3400 seen 163200 loss 2.7080 lr 2.25e-04 elapsed 1392.6s\n"
          ]
        },
        {
          "output_type": "stream",
          "name": "stdout",
          "text": [
            "Ep 1/2 it 3500 seen 168000 loss 3.0966 lr 2.25e-04 elapsed 1433.5s\n"
          ]
        },
        {
          "output_type": "stream",
          "name": "stdout",
          "text": [
            "Ep 1/2 it 3600 seen 172800 loss 3.8890 lr 2.25e-04 elapsed 1474.4s\n"
          ]
        },
        {
          "output_type": "stream",
          "name": "stdout",
          "text": [
            "Ep 1/2 it 3700 seen 177600 loss 4.9617 lr 2.25e-04 elapsed 1515.4s\n"
          ]
        },
        {
          "output_type": "stream",
          "name": "stdout",
          "text": [
            "Ep 1/2 it 3800 seen 182400 loss 5.0171 lr 2.25e-04 elapsed 1556.5s\n"
          ]
        },
        {
          "output_type": "stream",
          "name": "stdout",
          "text": [
            "Ep 1/2 it 3900 seen 187200 loss 2.7811 lr 2.25e-04 elapsed 1597.4s\n"
          ]
        },
        {
          "output_type": "stream",
          "name": "stdout",
          "text": [
            "Ep 1/2 it 4000 seen 192000 loss 2.6402 lr 2.25e-04 elapsed 1638.3s\n"
          ]
        },
        {
          "output_type": "stream",
          "name": "stdout",
          "text": [
            "Ep 1/2 it 4100 seen 196800 loss 2.1949 lr 2.25e-04 elapsed 1679.2s\n"
          ]
        },
        {
          "output_type": "stream",
          "name": "stdout",
          "text": [
            "Ep 1/2 it 4200 seen 201600 loss 5.2894 lr 2.25e-04 elapsed 1720.1s\n"
          ]
        },
        {
          "output_type": "stream",
          "name": "stdout",
          "text": [
            "Ep 1/2 it 4300 seen 206400 loss 4.6924 lr 2.25e-04 elapsed 1760.9s\n"
          ]
        },
        {
          "output_type": "stream",
          "name": "stdout",
          "text": [
            "Ep 1/2 it 4400 seen 211200 loss 2.8227 lr 2.25e-04 elapsed 1801.9s\n"
          ]
        },
        {
          "output_type": "stream",
          "name": "stdout",
          "text": [
            "Ep 1/2 it 4500 seen 216000 loss 3.5423 lr 2.25e-04 elapsed 1842.8s\n"
          ]
        },
        {
          "output_type": "stream",
          "name": "stdout",
          "text": [
            "Ep 1/2 it 4600 seen 220800 loss 2.1446 lr 2.25e-04 elapsed 1883.7s\n"
          ]
        },
        {
          "output_type": "stream",
          "name": "stderr",
          "text": [
            "/app/.pip-target/torch/utils/checkpoint.py:92: UserWarning: None of the inputs have requires_grad=True. Gradients will be None\n  warnings.warn(\n"
          ]
        },
        {
          "output_type": "stream",
          "name": "stdout",
          "text": [
            "Epoch 1 val_acc(EMA) 0.4904 ep_time 1919.9s total 1919.9s\n"
          ]
        },
        {
          "output_type": "stream",
          "name": "stdout",
          "text": [
            "Saved EMA best to effv2m_320_ema.pth\n"
          ]
        },
        {
          "output_type": "stream",
          "name": "stdout",
          "text": [
            "Ep 2/2 it 100 seen 4800 loss 4.6906 lr 2.25e-04 elapsed 41.5s\n"
          ]
        },
        {
          "output_type": "stream",
          "name": "stdout",
          "text": [
            "Ep 2/2 it 200 seen 9600 loss 2.5339 lr 2.25e-04 elapsed 82.6s\n"
          ]
        },
        {
          "output_type": "stream",
          "name": "stdout",
          "text": [
            "Ep 2/2 it 300 seen 14400 loss 3.3515 lr 2.25e-04 elapsed 123.6s\n"
          ]
        },
        {
          "output_type": "stream",
          "name": "stdout",
          "text": [
            "Ep 2/2 it 400 seen 19200 loss 2.5314 lr 2.25e-04 elapsed 164.6s\n"
          ]
        },
        {
          "output_type": "stream",
          "name": "stdout",
          "text": [
            "Ep 2/2 it 500 seen 24000 loss 4.1245 lr 2.25e-04 elapsed 205.6s\n"
          ]
        },
        {
          "output_type": "stream",
          "name": "stdout",
          "text": [
            "Ep 2/2 it 600 seen 28800 loss 2.5058 lr 2.25e-04 elapsed 246.4s\n"
          ]
        },
        {
          "output_type": "stream",
          "name": "stdout",
          "text": [
            "Ep 2/2 it 700 seen 33600 loss 2.5979 lr 2.25e-04 elapsed 287.3s\n"
          ]
        },
        {
          "output_type": "stream",
          "name": "stdout",
          "text": [
            "Ep 2/2 it 800 seen 38400 loss 1.9202 lr 2.25e-04 elapsed 328.1s\n"
          ]
        },
        {
          "output_type": "stream",
          "name": "stdout",
          "text": [
            "Ep 2/2 it 900 seen 43200 loss 2.7805 lr 2.25e-04 elapsed 369.1s\n"
          ]
        },
        {
          "output_type": "stream",
          "name": "stdout",
          "text": [
            "Ep 2/2 it 1000 seen 48000 loss 3.4676 lr 2.25e-04 elapsed 409.9s\n"
          ]
        },
        {
          "output_type": "stream",
          "name": "stdout",
          "text": [
            "Ep 2/2 it 1100 seen 52800 loss 2.4305 lr 2.25e-04 elapsed 450.9s\n"
          ]
        },
        {
          "output_type": "stream",
          "name": "stdout",
          "text": [
            "Ep 2/2 it 1200 seen 57600 loss 2.4085 lr 2.25e-04 elapsed 491.9s\n"
          ]
        },
        {
          "output_type": "stream",
          "name": "stdout",
          "text": [
            "Ep 2/2 it 1300 seen 62400 loss 2.5230 lr 2.25e-04 elapsed 532.7s\n"
          ]
        },
        {
          "output_type": "stream",
          "name": "stdout",
          "text": [
            "Ep 2/2 it 1400 seen 67200 loss 3.4217 lr 2.25e-04 elapsed 573.5s\n"
          ]
        },
        {
          "output_type": "stream",
          "name": "stdout",
          "text": [
            "Ep 2/2 it 1500 seen 72000 loss 2.8199 lr 2.25e-04 elapsed 614.4s\n"
          ]
        },
        {
          "output_type": "stream",
          "name": "stdout",
          "text": [
            "Ep 2/2 it 1600 seen 76800 loss 2.5724 lr 2.25e-04 elapsed 655.2s\n"
          ]
        },
        {
          "output_type": "stream",
          "name": "stdout",
          "text": [
            "Ep 2/2 it 1700 seen 81600 loss 3.3558 lr 2.25e-04 elapsed 695.8s\n"
          ]
        },
        {
          "output_type": "stream",
          "name": "stdout",
          "text": [
            "Ep 2/2 it 1800 seen 86400 loss 5.1512 lr 2.25e-04 elapsed 736.8s\n"
          ]
        },
        {
          "output_type": "stream",
          "name": "stdout",
          "text": [
            "Ep 2/2 it 1900 seen 91200 loss 4.8229 lr 2.25e-04 elapsed 777.7s\n"
          ]
        },
        {
          "output_type": "stream",
          "name": "stdout",
          "text": [
            "Ep 2/2 it 2000 seen 96000 loss 4.1234 lr 2.25e-04 elapsed 818.6s\n"
          ]
        },
        {
          "output_type": "stream",
          "name": "stdout",
          "text": [
            "Ep 2/2 it 2100 seen 100800 loss 2.9692 lr 2.25e-04 elapsed 859.5s\n"
          ]
        },
        {
          "output_type": "stream",
          "name": "stdout",
          "text": [
            "Ep 2/2 it 2200 seen 105600 loss 2.6118 lr 2.25e-04 elapsed 900.3s\n"
          ]
        },
        {
          "output_type": "stream",
          "name": "stdout",
          "text": [
            "Ep 2/2 it 2300 seen 110400 loss 2.1596 lr 2.25e-04 elapsed 941.2s\n"
          ]
        },
        {
          "output_type": "stream",
          "name": "stdout",
          "text": [
            "Ep 2/2 it 2400 seen 115200 loss 2.6629 lr 2.25e-04 elapsed 982.1s\n"
          ]
        },
        {
          "output_type": "stream",
          "name": "stdout",
          "text": [
            "Ep 2/2 it 2500 seen 120000 loss 4.5040 lr 2.25e-04 elapsed 1023.0s\n"
          ]
        },
        {
          "output_type": "stream",
          "name": "stdout",
          "text": [
            "Ep 2/2 it 2600 seen 124800 loss 2.5083 lr 2.25e-04 elapsed 1063.9s\n"
          ]
        },
        {
          "output_type": "stream",
          "name": "stdout",
          "text": [
            "Ep 2/2 it 2700 seen 129600 loss 2.6579 lr 2.25e-04 elapsed 1104.9s\n"
          ]
        },
        {
          "output_type": "stream",
          "name": "stdout",
          "text": [
            "Ep 2/2 it 2800 seen 134400 loss 2.3411 lr 2.25e-04 elapsed 1145.9s\n"
          ]
        },
        {
          "output_type": "stream",
          "name": "stdout",
          "text": [
            "Ep 2/2 it 2900 seen 139200 loss 4.3179 lr 2.25e-04 elapsed 1186.8s\n"
          ]
        },
        {
          "output_type": "stream",
          "name": "stdout",
          "text": [
            "Ep 2/2 it 3000 seen 144000 loss 4.3257 lr 2.25e-04 elapsed 1227.6s\n"
          ]
        },
        {
          "output_type": "stream",
          "name": "stdout",
          "text": [
            "Ep 2/2 it 3100 seen 148800 loss 4.3465 lr 2.25e-04 elapsed 1268.6s\n"
          ]
        },
        {
          "output_type": "stream",
          "name": "stdout",
          "text": [
            "Ep 2/2 it 3200 seen 153600 loss 2.1517 lr 2.25e-04 elapsed 1309.7s\n"
          ]
        },
        {
          "output_type": "stream",
          "name": "stdout",
          "text": [
            "Ep 2/2 it 3300 seen 158400 loss 4.9708 lr 2.25e-04 elapsed 1350.6s\n"
          ]
        },
        {
          "output_type": "stream",
          "name": "stdout",
          "text": [
            "Ep 2/2 it 3400 seen 163200 loss 2.5253 lr 2.25e-04 elapsed 1391.7s\n"
          ]
        },
        {
          "output_type": "stream",
          "name": "stdout",
          "text": [
            "Ep 2/2 it 3500 seen 168000 loss 2.3319 lr 2.25e-04 elapsed 1432.6s\n"
          ]
        },
        {
          "output_type": "stream",
          "name": "stdout",
          "text": [
            "Ep 2/2 it 3600 seen 172800 loss 4.7614 lr 2.25e-04 elapsed 1473.6s\n"
          ]
        },
        {
          "output_type": "stream",
          "name": "stdout",
          "text": [
            "Ep 2/2 it 3700 seen 177600 loss 4.8354 lr 2.25e-04 elapsed 1514.5s\n"
          ]
        },
        {
          "output_type": "stream",
          "name": "stdout",
          "text": [
            "Ep 2/2 it 3800 seen 182400 loss 4.7978 lr 2.25e-04 elapsed 1555.4s\n"
          ]
        },
        {
          "output_type": "stream",
          "name": "stdout",
          "text": [
            "Ep 2/2 it 3900 seen 187200 loss 4.4130 lr 2.25e-04 elapsed 1596.3s\n"
          ]
        },
        {
          "output_type": "stream",
          "name": "stdout",
          "text": [
            "Ep 2/2 it 4000 seen 192000 loss 2.4038 lr 2.25e-04 elapsed 1637.3s\n"
          ]
        },
        {
          "output_type": "stream",
          "name": "stdout",
          "text": [
            "Ep 2/2 it 4100 seen 196800 loss 2.0450 lr 2.25e-04 elapsed 1678.3s\n"
          ]
        },
        {
          "output_type": "stream",
          "name": "stdout",
          "text": [
            "Ep 2/2 it 4200 seen 201600 loss 2.3812 lr 2.25e-04 elapsed 1719.2s\n"
          ]
        },
        {
          "output_type": "stream",
          "name": "stdout",
          "text": [
            "Ep 2/2 it 4300 seen 206400 loss 5.1900 lr 2.25e-04 elapsed 1760.2s\n"
          ]
        },
        {
          "output_type": "stream",
          "name": "stdout",
          "text": [
            "Ep 2/2 it 4400 seen 211200 loss 2.4810 lr 2.25e-04 elapsed 1801.1s\n"
          ]
        },
        {
          "output_type": "stream",
          "name": "stdout",
          "text": [
            "Ep 2/2 it 4500 seen 216000 loss 4.5549 lr 2.25e-04 elapsed 1842.1s\n"
          ]
        },
        {
          "output_type": "stream",
          "name": "stdout",
          "text": [
            "Ep 2/2 it 4600 seen 220800 loss 2.4127 lr 2.25e-04 elapsed 1883.0s\n"
          ]
        },
        {
          "output_type": "stream",
          "name": "stdout",
          "text": [
            "Epoch 2 val_acc(EMA) 0.6508 ep_time 1918.5s total 3838.7s\n"
          ]
        },
        {
          "output_type": "stream",
          "name": "stdout",
          "text": [
            "Saved EMA best to effv2m_320_ema.pth\nTraining done. Best EMA val_acc 0.6508\nPreparing test loader...\n"
          ]
        },
        {
          "output_type": "stream",
          "name": "stderr",
          "text": [
            "/tmp/ipykernel_1897/151821084.py:233: FutureWarning: You are using `torch.load` with `weights_only=False` (the current default value), which uses the default pickle module implicitly. It is possible to construct malicious pickle data which will execute arbitrary code during unpickling (See https://github.com/pytorch/pytorch/blob/main/SECURITY.md#untrusted-models for more details). In a future release, the default value for `weights_only` will be flipped to `True`. This limits the functions that could be executed during unpickling. Arbitrary objects will no longer be allowed to be loaded via this mode unless they are explicitly allowlisted by the user via `torch.serialization.add_safe_globals`. We recommend you start setting `weights_only=True` for any use case where you don't have full control of the loaded file. Please open an issue on GitHub for any issues related to this experimental feature.\n  ckpt = torch.load(best_path, map_location=device)\n"
          ]
        },
        {
          "output_type": "stream",
          "name": "stdout",
          "text": [
            "Infer it 100/672\n"
          ]
        },
        {
          "output_type": "stream",
          "name": "stdout",
          "text": [
            "Infer it 200/672\n"
          ]
        },
        {
          "output_type": "stream",
          "name": "stdout",
          "text": [
            "Infer it 300/672\n"
          ]
        },
        {
          "output_type": "stream",
          "name": "stdout",
          "text": [
            "Infer it 400/672\n"
          ]
        },
        {
          "output_type": "stream",
          "name": "stdout",
          "text": [
            "Infer it 500/672\n"
          ]
        },
        {
          "output_type": "stream",
          "name": "stdout",
          "text": [
            "Infer it 600/672\n"
          ]
        },
        {
          "output_type": "stream",
          "name": "stdout",
          "text": [
            "Wrote submission.csv with 32214 rows\n"
          ]
        }
      ]
    },
    {
      "id": "fc354396-fbe3-4bc1-b9b4-ec5a1107ae46",
      "cell_type": "code",
      "metadata": {},
      "source": [
        "# Full 35-epoch training: tf_efficientnetv2_m.in21k_ft_in1k @320 with EMA, Mixup/CutMix, GradClip, and 6x TTA\n",
        "import os, math, time, random, json, subprocess, sys\n",
        "from collections import defaultdict\n",
        "import torch, torch.nn as nn\n",
        "from torch.utils.data import DataLoader\n",
        "import torchvision.transforms as T\n",
        "\n",
        "os.environ.setdefault('PYTORCH_CUDA_ALLOC_CONF', 'expandable_segments:True')\n",
        "device = 'cuda' if torch.cuda.is_available() else 'cpu'\n",
        "torch.backends.cudnn.benchmark = True\n",
        "torch.backends.cuda.matmul.allow_tf32 = True\n",
        "torch.backends.cudnn.allow_tf32 = True\n",
        "if hasattr(torch, 'set_float32_matmul_precision'):\n",
        "    torch.set_float32_matmul_precision('medium')\n",
        "\n",
        "# AMP dtype selection (BF16 for A10); GradScaler only if FP16\n",
        "cap = torch.cuda.get_device_capability(0)[0] if torch.cuda.is_available() else 0\n",
        "autocast_dtype = torch.bfloat16 if (torch.cuda.is_available() and cap >= 8) else torch.float16\n",
        "scaler = torch.amp.GradScaler(enabled=(autocast_dtype == torch.float16))\n",
        "\n",
        "# Pre-reqs from earlier cells\n",
        "assert 'train_ds' in globals() and 'resolve_path' in globals() and 'idx_to_catid' in globals()\n",
        "\n",
        "# Build stratified holdout: safer cap by percentage and availability\n",
        "labels = [y for _, y in train_ds.recs]\n",
        "by_cls = defaultdict(list)\n",
        "for i, y in enumerate(labels):\n",
        "    by_cls[y].append(i)\n",
        "val_idx, tr_idx = [], []\n",
        "random.seed(42)\n",
        "for c, idxs in by_cls.items():\n",
        "    random.shuffle(idxs)\n",
        "    n = len(idxs)\n",
        "    v_count = min(20, max(5, n // 10))\n",
        "    v_count = min(v_count, n - 1)  # leave at least one for train\n",
        "    v = idxs[:v_count]\n",
        "    t = idxs[v_count:]\n",
        "    val_idx.extend(v)\n",
        "    tr_idx.extend(t)\n",
        "print(f\"Holdout sizes -> train: {len(tr_idx)}, val: {len(val_idx)}\", flush=True)\n",
        "\n",
        "# Transforms\n",
        "train_tf = T.Compose([\n",
        "    T.RandomResizedCrop(320, scale=(0.2, 1.0), ratio=(0.75, 1.33), interpolation=T.InterpolationMode.BICUBIC),\n",
        "    T.RandAugment(num_ops=2, magnitude=9),\n",
        "    T.RandomHorizontalFlip(),\n",
        "    T.ToTensor(),\n",
        "    T.Normalize([0.485,0.456,0.406],[0.229,0.224,0.225]),\n",
        "    T.RandomErasing(p=0.10, value='random')\n",
        "])\n",
        "val_tf = T.Compose([\n",
        "    T.Resize(352, interpolation=T.InterpolationMode.BICUBIC),\n",
        "    T.CenterCrop(320),\n",
        "    T.ToTensor(),\n",
        "    T.Normalize([0.485,0.456,0.406],[0.229,0.224,0.225]),\n",
        "])\n",
        "\n",
        "class WrappedDS(torch.utils.data.Dataset):\n",
        "    def __init__(self, base, indices, train):\n",
        "        self.base = base\n",
        "        self.idxs = indices\n",
        "        self.train = train\n",
        "    def __len__(self): return len(self.idxs)\n",
        "    def __getitem__(self, k):\n",
        "        rel, y = self.base.recs[self.idxs[k]]\n",
        "        from PIL import Image\n",
        "        p = resolve_path(rel)\n",
        "        with Image.open(p) as img:\n",
        "            img = img.convert('RGB')\n",
        "            x = (train_tf if self.train else val_tf)(img)\n",
        "        return x, y\n",
        "\n",
        "# Import timm and helpers\n",
        "try:\n",
        "    import timm\n",
        "except Exception:\n",
        "    subprocess.run([sys.executable, '-m', 'pip', 'install', 'timm==1.0.9', '--no-deps'], check=True)\n",
        "    import timm\n",
        "from timm.loss import SoftTargetCrossEntropy\n",
        "from timm.data.mixup import Mixup\n",
        "from timm.utils import ModelEmaV2\n",
        "\n",
        "num_classes = len(idx_to_catid)\n",
        "print('Building model...', flush=True)\n",
        "model = None\n",
        "try:\n",
        "    model = timm.create_model(\n",
        "        'tf_efficientnetv2_m.in21k_ft_in1k',\n",
        "        pretrained=True,\n",
        "        num_classes=num_classes,\n",
        "        drop_path_rate=0.3,\n",
        "        pretrained_cfg_overlay={'hf_hub_id': None}\n",
        "    )\n",
        "except Exception as e:\n",
        "    print('Pretrained URL fallback failed, retrying default:', e, flush=True)\n",
        "    model = timm.create_model('tf_efficientnetv2_m.in21k_ft_in1k', pretrained=True, num_classes=num_classes, drop_path_rate=0.3)\n",
        "\n",
        "if hasattr(model, 'set_grad_checkpointing'):\n",
        "    model.set_grad_checkpointing(True)\n",
        "if torch.cuda.is_available():\n",
        "    torch.cuda.empty_cache()\n",
        "model = model.to(device)\n",
        "model = model.to(memory_format=torch.channels_last)\n",
        "\n",
        "# Disable torch.compile due to Triton requiring Python.h in this env; use eager for stability\n",
        "try:\n",
        "    import torch._dynamo\n",
        "    torch._dynamo.config.suppress_errors = True\n",
        "except Exception:\n",
        "    pass\n",
        "print(\"Skipping torch.compile: using eager mode.\", flush=True)\n",
        "\n",
        "# Optimizer, sched, EMA, loss, mixup\n",
        "init_batch = 64\n",
        "batch_size = init_batch\n",
        "base_lr = 3e-4 * (batch_size/64)\n",
        "optimizer = torch.optim.AdamW(model.parameters(), lr=base_lr, weight_decay=0.05, betas=(0.9,0.999))\n",
        "epochs = 35\n",
        "warmup_epochs = 5\n",
        "cosine_min_lr = 1e-6\n",
        "\n",
        "def lr_at_epoch(ep):\n",
        "    if ep < warmup_epochs:\n",
        "        return base_lr * (ep+1)/max(1,warmup_epochs)\n",
        "    t = (ep - warmup_epochs)/max(1,(epochs - warmup_epochs))\n",
        "    return cosine_min_lr + 0.5*(base_lr - cosine_min_lr)*(1 + math.cos(math.pi*t))\n",
        "\n",
        "mixup_fn = Mixup(\n",
        "    mixup_alpha=0.2,\n",
        "    cutmix_alpha=0.3,\n",
        "    prob=0.7,\n",
        "    switch_prob=0.5,\n",
        "    label_smoothing=0.1,\n",
        "    num_classes=num_classes\n",
        ")\n",
        "use_mixup = True\n",
        "criterion = SoftTargetCrossEntropy() if use_mixup else nn.CrossEntropyLoss(label_smoothing=0.1)\n",
        "ema = ModelEmaV2(model, decay=0.9995)  # ramp to 0.9998\n",
        "\n",
        "# DataLoaders (after model for memory safety), tuned throughput\n",
        "num_workers = min(12, os.cpu_count() or 12)\n",
        "train_sub = WrappedDS(train_ds, tr_idx, train=True)\n",
        "val_sub = WrappedDS(train_ds, val_idx, train=False)\n",
        "\n",
        "def make_loaders(bs):\n",
        "    tl = DataLoader(train_sub, batch_size=bs, shuffle=True, num_workers=num_workers, pin_memory=True, persistent_workers=False, drop_last=True, prefetch_factor=4)\n",
        "    vl = DataLoader(val_sub, batch_size=bs, shuffle=False, num_workers=num_workers, pin_memory=True, persistent_workers=False, prefetch_factor=4)\n",
        "    return tl, vl\n",
        "\n",
        "# Try larger batch, fallback on OOM automatically with quick forward sanity\n",
        "for bs_try in (64, 56, 48, 40, 32):\n",
        "    try:\n",
        "        torch.cuda.empty_cache()\n",
        "        train_loader, val_loader = make_loaders(bs_try)\n",
        "        xb, yb = next(iter(train_loader))\n",
        "        with torch.no_grad(), torch.amp.autocast(device_type='cuda', dtype=autocast_dtype, enabled=torch.cuda.is_available()):\n",
        "            _ = model(xb.to(device, non_blocking=True).to(memory_format=torch.channels_last))\n",
        "        batch_size = bs_try\n",
        "        print(f\"Using batch_size={batch_size}\", flush=True)\n",
        "        break\n",
        "    except RuntimeError as e:\n",
        "        if 'out of memory' in str(e).lower():\n",
        "            print(f\"OOM with batch_size={bs_try}, reducing...\", flush=True)\n",
        "            try:\n",
        "                del train_loader, val_loader\n",
        "            except Exception:\n",
        "                pass\n",
        "            torch.cuda.empty_cache()\n",
        "            continue\n",
        "        else:\n",
        "            raise\n",
        "\n",
        "# Update LR to reflect final batch size\n",
        "for pg in optimizer.param_groups:\n",
        "    pg['lr'] = 3e-4 * (batch_size/64)\n",
        "base_lr = optimizer.param_groups[0]['lr']\n",
        "print(f\"Base LR set to {base_lr:.2e}\", flush=True)\n",
        "\n",
        "def evaluate(m, loader):\n",
        "    m.eval()\n",
        "    correct = 0\n",
        "    total = 0\n",
        "    with torch.no_grad(), torch.amp.autocast(device_type='cuda', dtype=autocast_dtype, enabled=torch.cuda.is_available()):\n",
        "        for xb, yb in loader:\n",
        "            xb = xb.to(device, non_blocking=True).to(memory_format=torch.channels_last)\n",
        "            yb = yb.to(device, non_blocking=True)\n",
        "            logits = m(xb)\n",
        "            preds = logits.argmax(1)\n",
        "            correct += (preds == yb).sum().item()\n",
        "            total += yb.size(0)\n",
        "    return correct / max(1,total)\n",
        "\n",
        "best_acc = 0.0\n",
        "best_path = 'effv2m_320_ema.pth'\n",
        "t0 = time.time()\n",
        "update_count = 0\n",
        "for epoch in range(epochs):\n",
        "    # Set LR for epoch\n",
        "    cur_lr = lr_at_epoch(epoch)\n",
        "    for pg in optimizer.param_groups:\n",
        "        pg['lr'] = cur_lr\n",
        "    # Ramp EMA decay from 0.9995 -> 0.9998 across training\n",
        "    ema.decay = 0.9995 + (0.9998 - 0.9995) * (epoch / max(1, epochs-1))\n",
        "    model.train()\n",
        "    ep_start = time.time()\n",
        "    seen = 0\n",
        "    for it, (xb, yb) in enumerate(train_loader):\n",
        "        xb = xb.to(device, non_blocking=True).to(memory_format=torch.channels_last)\n",
        "        yb = yb.to(device, non_blocking=True)\n",
        "        optimizer.zero_grad(set_to_none=True)\n",
        "        with torch.amp.autocast(device_type='cuda', dtype=autocast_dtype, enabled=torch.cuda.is_available()):\n",
        "            if use_mixup:\n",
        "                mx, my = mixup_fn(xb, yb)\n",
        "                logits = model(mx)\n",
        "                loss = criterion(logits, my)\n",
        "            else:\n",
        "                logits = model(xb)\n",
        "                loss = criterion(logits, yb)\n",
        "        scaler.scale(loss).backward()\n",
        "        # Grad clipping\n",
        "        scaler.unscale_(optimizer)\n",
        "        torch.nn.utils.clip_grad_norm_(model.parameters(), max_norm=1.0)\n",
        "        scaler.step(optimizer)\n",
        "        scaler.update()\n",
        "        ema.update(model)\n",
        "        update_count += 1\n",
        "        seen += yb.size(0)\n",
        "        if (it+1) % 200 == 0:\n",
        "            print(f\"Ep {epoch+1}/{epochs} it {it+1} seen {seen} loss {loss.item():.4f} lr {cur_lr:.2e} ema {ema.decay:.6f} elapsed {time.time()-ep_start:.1f}s\", flush=True)\n",
        "    val_acc = evaluate(ema.module, val_loader)\n",
        "    print(f\"Epoch {epoch+1} val_acc(EMA) {val_acc:.4f} ep_time {time.time()-ep_start:.1f}s total {time.time()-t0:.1f}s\", flush=True)\n",
        "    if val_acc > best_acc:\n",
        "        best_acc = val_acc\n",
        "        torch.save({'model': ema.module.state_dict(), 'num_classes': num_classes}, best_path)\n",
        "        print(f\"Saved EMA best to {best_path}\", flush=True)\n",
        "    # Save 'last' checkpoint every epoch for resume\n",
        "    torch.save({\n",
        "        'epoch': epoch,\n",
        "        'model_state_dict': model.state_dict(),\n",
        "        'optimizer_state_dict': optimizer.state_dict(),\n",
        "        'ema_state_dict': ema.state_dict(),\n",
        "        'scaler_state_dict': getattr(scaler, 'state_dict', lambda: {})(),\n",
        "        'best_acc': best_acc,\n",
        "        'batch_size': batch_size,\n",
        "    }, 'checkpoint-last.pth')\n",
        "    # Periodic EMA snapshot every 5 epochs\n",
        "    if (epoch + 1) % 5 == 0:\n",
        "        p = f'effv2m_320_ema_ep{epoch+1}.pth'\n",
        "        torch.save({'model': ema.module.state_dict(), 'num_classes': num_classes}, p)\n",
        "        print(f\"Saved periodic EMA to {p}\", flush=True)\n",
        "\n",
        "print(f\"Training done. Best EMA val_acc {best_acc:.4f}\", flush=True)\n",
        "\n",
        "# Inference with 6x TTA: scales [288,320,352] x {orig, hflip}, CPU accumulation and 320 weighted 2x\n",
        "with open('test2019.json','r') as f: test_json = json.load(f)\n",
        "test_images = test_json['images']\n",
        "test_rel = [im['file_name'] for im in test_images]\n",
        "test_ids = [im['id'] for im in test_images]\n",
        "\n",
        "def make_val_tf(scale):\n",
        "    resize_side = scale + 32\n",
        "    return T.Compose([\n",
        "        T.Resize(resize_side, interpolation=T.InterpolationMode.BICUBIC),\n",
        "        T.CenterCrop(scale),\n",
        "        T.ToTensor(),\n",
        "        T.Normalize([0.485,0.456,0.406],[0.229,0.224,0.225]),\n",
        "    ])\n",
        "\n",
        "class TestDS(torch.utils.data.Dataset):\n",
        "    def __init__(self, rels, tf):\n",
        "        self.rels = rels\n",
        "        self.tf = tf\n",
        "    def __len__(self): return len(self.rels)\n",
        "    def __getitem__(self, i):\n",
        "        from PIL import Image\n",
        "        p = resolve_path(self.rels[i])\n",
        "        with Image.open(p) as im:\n",
        "            im = im.convert('RGB')\n",
        "            x = self.tf(im)\n",
        "        return x\n",
        "\n",
        "# Load EMA weights\n",
        "ckpt = torch.load(best_path, map_location=device)\n",
        "model.load_state_dict(ckpt['model'], strict=False)\n",
        "model.eval()\n",
        "\n",
        "scales = [288, 320, 352]\n",
        "tta_logits = torch.zeros((len(test_rel), num_classes), dtype=torch.float32)  # CPU accumulation\n",
        "tta_weight = 0.0\n",
        "num_workers = min(12, os.cpu_count() or 12)\n",
        "\n",
        "with torch.no_grad():\n",
        "    for s in scales:\n",
        "        tf_s = make_val_tf(s)\n",
        "        ds_s = TestDS(test_rel, tf_s)\n",
        "        dl_s = DataLoader(ds_s, batch_size=batch_size, shuffle=False, num_workers=num_workers, pin_memory=True, persistent_workers=False, prefetch_factor=4)\n",
        "        w = 2.0 if s == 320 else 1.0\n",
        "        idx = 0\n",
        "        for it, xb in enumerate(dl_s):\n",
        "            xb = xb.to(device, non_blocking=True).to(memory_format=torch.channels_last)\n",
        "            with torch.amp.autocast(device_type='cuda', dtype=autocast_dtype, enabled=torch.cuda.is_available()):\n",
        "                lg = model(xb)\n",
        "                lg_flip = model(torch.flip(xb, dims=[-1]))\n",
        "                lg = (lg + lg_flip) * 0.5\n",
        "            lg = lg.float().cpu()\n",
        "            bsz = lg.shape[0]\n",
        "            tta_logits[idx:idx+bsz] += lg * w\n",
        "            idx += bsz\n",
        "            if (it+1) % 100 == 0:\n",
        "                total_it = math.ceil(len(ds_s)/batch_size)\n",
        "                print(f\"TTA scale {s} it {it+1}/{total_it}\", flush=True)\n",
        "        tta_weight += w\n",
        "\n",
        "tta_logits /= max(1.0, tta_weight)\n",
        "preds = tta_logits.argmax(1).tolist()\n",
        "pred_cat_ids = [idx_to_catid[i] for i in preds]\n",
        "import pandas as pd\n",
        "sub = pd.DataFrame({'image_id': test_ids, 'category_id': pred_cat_ids})\n",
        "sub.to_csv('submission.csv', index=False)\n",
        "print('Wrote submission.csv with', len(sub), 'rows')\n",
        "print('Done.')"
      ],
      "execution_count": 4,
      "outputs": [
        {
          "output_type": "stream",
          "name": "stdout",
          "text": [
            "Holdout sizes -> train: 217930, val: 15069\n"
          ]
        },
        {
          "output_type": "stream",
          "name": "stdout",
          "text": [
            "Building model...\n"
          ]
        },
        {
          "output_type": "stream",
          "name": "stdout",
          "text": [
            "Skipping torch.compile: using eager mode.\n"
          ]
        },
        {
          "output_type": "stream",
          "name": "stderr",
          "text": [
            "/app/.pip-target/torch/_dynamo/eval_frame.py:600: UserWarning: torch.utils.checkpoint: the use_reentrant parameter should be passed explicitly. In version 2.4 we will raise an exception if use_reentrant is not passed. use_reentrant=False is recommended, but if you need to preserve the current default behavior, you can pass use_reentrant=True. Refer to docs for more details on the differences between the two variants.\n  return fn(*args, **kwargs)\n/app/.pip-target/torch/utils/checkpoint.py:92: UserWarning: None of the inputs have requires_grad=True. Gradients will be None\n  warnings.warn(\n"
          ]
        },
        {
          "output_type": "stream",
          "name": "stdout",
          "text": [
            "Using batch_size=64\n"
          ]
        },
        {
          "output_type": "stream",
          "name": "stdout",
          "text": [
            "Base LR set to 3.00e-04\n"
          ]
        },
        {
          "output_type": "stream",
          "name": "stderr",
          "text": [
            "/app/.pip-target/torch/utils/checkpoint.py:295: FutureWarning: `torch.cpu.amp.autocast(args...)` is deprecated. Please use `torch.amp.autocast('cpu', args...)` instead.\n  with torch.enable_grad(), device_autocast_ctx, torch.cpu.amp.autocast(**ctx.cpu_autocast_kwargs):  # type: ignore[attr-defined]\n"
          ]
        },
        {
          "output_type": "stream",
          "name": "stdout",
          "text": [
            "Ep 1/35 it 200 seen 12800 loss 6.7616 lr 6.00e-05 ema 0.999500 elapsed 123.9s\n"
          ]
        },
        {
          "output_type": "stream",
          "name": "stdout",
          "text": [
            "Ep 1/35 it 400 seen 25600 loss 5.5811 lr 6.00e-05 ema 0.999500 elapsed 235.4s\n"
          ]
        },
        {
          "output_type": "stream",
          "name": "stdout",
          "text": [
            "Ep 1/35 it 600 seen 38400 loss 6.0355 lr 6.00e-05 ema 0.999500 elapsed 348.5s\n"
          ]
        },
        {
          "output_type": "stream",
          "name": "stdout",
          "text": [
            "Ep 1/35 it 800 seen 51200 loss 4.3742 lr 6.00e-05 ema 0.999500 elapsed 462.1s\n"
          ]
        },
        {
          "output_type": "stream",
          "name": "stdout",
          "text": [
            "Ep 1/35 it 1000 seen 64000 loss 4.0707 lr 6.00e-05 ema 0.999500 elapsed 575.1s\n"
          ]
        },
        {
          "output_type": "stream",
          "name": "stdout",
          "text": [
            "Ep 1/35 it 1200 seen 76800 loss 5.3470 lr 6.00e-05 ema 0.999500 elapsed 688.5s\n"
          ]
        },
        {
          "output_type": "stream",
          "name": "stdout",
          "text": [
            "Ep 1/35 it 1400 seen 89600 loss 3.5551 lr 6.00e-05 ema 0.999500 elapsed 801.4s\n"
          ]
        },
        {
          "output_type": "stream",
          "name": "stdout",
          "text": [
            "Ep 1/35 it 1600 seen 102400 loss 3.3467 lr 6.00e-05 ema 0.999500 elapsed 915.1s\n"
          ]
        },
        {
          "output_type": "stream",
          "name": "stdout",
          "text": [
            "Ep 1/35 it 1800 seen 115200 loss 3.6219 lr 6.00e-05 ema 0.999500 elapsed 1028.5s\n"
          ]
        },
        {
          "output_type": "stream",
          "name": "stdout",
          "text": [
            "Ep 1/35 it 2000 seen 128000 loss 3.5069 lr 6.00e-05 ema 0.999500 elapsed 1141.2s\n"
          ]
        },
        {
          "output_type": "stream",
          "name": "stdout",
          "text": [
            "Ep 1/35 it 2200 seen 140800 loss 5.0420 lr 6.00e-05 ema 0.999500 elapsed 1254.8s\n"
          ]
        },
        {
          "output_type": "stream",
          "name": "stdout",
          "text": [
            "Ep 1/35 it 2400 seen 153600 loss 3.0317 lr 6.00e-05 ema 0.999500 elapsed 1367.5s\n"
          ]
        },
        {
          "output_type": "stream",
          "name": "stdout",
          "text": [
            "Ep 1/35 it 2600 seen 166400 loss 5.0835 lr 6.00e-05 ema 0.999500 elapsed 1481.2s\n"
          ]
        },
        {
          "output_type": "stream",
          "name": "stdout",
          "text": [
            "Ep 1/35 it 2800 seen 179200 loss 4.0170 lr 6.00e-05 ema 0.999500 elapsed 1594.6s\n"
          ]
        },
        {
          "output_type": "stream",
          "name": "stdout",
          "text": [
            "Ep 1/35 it 3000 seen 192000 loss 2.7126 lr 6.00e-05 ema 0.999500 elapsed 1707.6s\n"
          ]
        },
        {
          "output_type": "stream",
          "name": "stdout",
          "text": [
            "Ep 1/35 it 3200 seen 204800 loss 2.9315 lr 6.00e-05 ema 0.999500 elapsed 1821.3s\n"
          ]
        },
        {
          "output_type": "stream",
          "name": "stdout",
          "text": [
            "Ep 1/35 it 3400 seen 217600 loss 3.0413 lr 6.00e-05 ema 0.999500 elapsed 1933.8s\n"
          ]
        },
        {
          "output_type": "stream",
          "name": "stdout",
          "text": [
            "Epoch 1 val_acc(EMA) 0.4848 ep_time 1963.4s total 1963.4s\n"
          ]
        },
        {
          "output_type": "stream",
          "name": "stdout",
          "text": [
            "Saved EMA best to effv2m_320_ema.pth\n"
          ]
        },
        {
          "output_type": "stream",
          "name": "stdout",
          "text": [
            "Ep 2/35 it 200 seen 12800 loss 4.1699 lr 1.20e-04 ema 0.999509 elapsed 113.8s\n"
          ]
        },
        {
          "output_type": "stream",
          "name": "stdout",
          "text": [
            "Ep 2/35 it 400 seen 25600 loss 2.6717 lr 1.20e-04 ema 0.999509 elapsed 228.1s\n"
          ]
        },
        {
          "output_type": "stream",
          "name": "stdout",
          "text": [
            "Ep 2/35 it 600 seen 38400 loss 2.9924 lr 1.20e-04 ema 0.999509 elapsed 341.0s\n"
          ]
        },
        {
          "output_type": "stream",
          "name": "stdout",
          "text": [
            "Ep 2/35 it 800 seen 51200 loss 2.7077 lr 1.20e-04 ema 0.999509 elapsed 454.4s\n"
          ]
        },
        {
          "output_type": "stream",
          "name": "stdout",
          "text": [
            "Ep 2/35 it 1000 seen 64000 loss 2.4574 lr 1.20e-04 ema 0.999509 elapsed 568.3s\n"
          ]
        },
        {
          "output_type": "stream",
          "name": "stdout",
          "text": [
            "Ep 2/35 it 1200 seen 76800 loss 5.3453 lr 1.20e-04 ema 0.999509 elapsed 681.5s\n"
          ]
        },
        {
          "output_type": "stream",
          "name": "stdout",
          "text": [
            "Ep 2/35 it 1400 seen 89600 loss 4.5054 lr 1.20e-04 ema 0.999509 elapsed 794.9s\n"
          ]
        },
        {
          "output_type": "stream",
          "name": "stdout",
          "text": [
            "Ep 2/35 it 1600 seen 102400 loss 2.2664 lr 1.20e-04 ema 0.999509 elapsed 907.6s\n"
          ]
        },
        {
          "output_type": "stream",
          "name": "stdout",
          "text": [
            "Ep 2/35 it 1800 seen 115200 loss 3.4976 lr 1.20e-04 ema 0.999509 elapsed 1021.4s\n"
          ]
        },
        {
          "output_type": "stream",
          "name": "stdout",
          "text": [
            "Ep 2/35 it 2000 seen 128000 loss 2.3797 lr 1.20e-04 ema 0.999509 elapsed 1135.2s\n"
          ]
        },
        {
          "output_type": "stream",
          "name": "stdout",
          "text": [
            "Ep 2/35 it 2200 seen 140800 loss 3.8406 lr 1.20e-04 ema 0.999509 elapsed 1247.8s\n"
          ]
        },
        {
          "output_type": "stream",
          "name": "stdout",
          "text": [
            "Ep 2/35 it 2400 seen 153600 loss 3.6691 lr 1.20e-04 ema 0.999509 elapsed 1361.1s\n"
          ]
        },
        {
          "output_type": "stream",
          "name": "stdout",
          "text": [
            "Ep 2/35 it 2600 seen 166400 loss 2.2451 lr 1.20e-04 ema 0.999509 elapsed 1474.1s\n"
          ]
        },
        {
          "output_type": "stream",
          "name": "stdout",
          "text": [
            "Ep 2/35 it 2800 seen 179200 loss 5.1646 lr 1.20e-04 ema 0.999509 elapsed 1588.1s\n"
          ]
        },
        {
          "output_type": "stream",
          "name": "stdout",
          "text": [
            "Ep 2/35 it 3000 seen 192000 loss 2.4083 lr 1.20e-04 ema 0.999509 elapsed 1701.7s\n"
          ]
        },
        {
          "output_type": "stream",
          "name": "stdout",
          "text": [
            "Ep 2/35 it 3200 seen 204800 loss 4.2392 lr 1.20e-04 ema 0.999509 elapsed 1814.4s\n"
          ]
        },
        {
          "output_type": "stream",
          "name": "stdout",
          "text": [
            "Ep 2/35 it 3400 seen 217600 loss 2.5025 lr 1.20e-04 ema 0.999509 elapsed 1928.0s\n"
          ]
        },
        {
          "output_type": "stream",
          "name": "stdout",
          "text": [
            "Epoch 2 val_acc(EMA) 0.6834 ep_time 1957.1s total 3923.2s\n"
          ]
        },
        {
          "output_type": "stream",
          "name": "stdout",
          "text": [
            "Saved EMA best to effv2m_320_ema.pth\n"
          ]
        },
        {
          "output_type": "stream",
          "name": "stdout",
          "text": [
            "Ep 3/35 it 200 seen 12800 loss 4.5424 lr 1.80e-04 ema 0.999518 elapsed 113.8s\n"
          ]
        },
        {
          "output_type": "stream",
          "name": "stdout",
          "text": [
            "Ep 3/35 it 400 seen 25600 loss 2.4367 lr 1.80e-04 ema 0.999518 elapsed 227.5s\n"
          ]
        },
        {
          "output_type": "stream",
          "name": "stdout",
          "text": [
            "Ep 3/35 it 600 seen 38400 loss 2.3912 lr 1.80e-04 ema 0.999518 elapsed 340.3s\n"
          ]
        },
        {
          "output_type": "stream",
          "name": "stdout",
          "text": [
            "Ep 3/35 it 800 seen 51200 loss 2.5148 lr 1.80e-04 ema 0.999518 elapsed 454.3s\n"
          ]
        },
        {
          "output_type": "stream",
          "name": "stdout",
          "text": [
            "Ep 3/35 it 1000 seen 64000 loss 3.5920 lr 1.80e-04 ema 0.999518 elapsed 566.9s\n"
          ]
        },
        {
          "output_type": "stream",
          "name": "stdout",
          "text": [
            "Ep 3/35 it 1200 seen 76800 loss 3.4121 lr 1.80e-04 ema 0.999518 elapsed 680.4s\n"
          ]
        },
        {
          "output_type": "stream",
          "name": "stdout",
          "text": [
            "Ep 3/35 it 1400 seen 89600 loss 2.4619 lr 1.80e-04 ema 0.999518 elapsed 794.2s\n"
          ]
        },
        {
          "output_type": "stream",
          "name": "stdout",
          "text": [
            "Ep 3/35 it 1600 seen 102400 loss 2.4570 lr 1.80e-04 ema 0.999518 elapsed 906.9s\n"
          ]
        },
        {
          "output_type": "stream",
          "name": "stdout",
          "text": [
            "Ep 3/35 it 1800 seen 115200 loss 2.7913 lr 1.80e-04 ema 0.999518 elapsed 1020.5s\n"
          ]
        },
        {
          "output_type": "stream",
          "name": "stdout",
          "text": [
            "Ep 3/35 it 2000 seen 128000 loss 4.5104 lr 1.80e-04 ema 0.999518 elapsed 1134.2s\n"
          ]
        },
        {
          "output_type": "stream",
          "name": "stdout",
          "text": [
            "Ep 3/35 it 2200 seen 140800 loss 2.4381 lr 1.80e-04 ema 0.999518 elapsed 1246.9s\n"
          ]
        },
        {
          "output_type": "stream",
          "name": "stdout",
          "text": [
            "Ep 3/35 it 2400 seen 153600 loss 2.5261 lr 1.80e-04 ema 0.999518 elapsed 1360.8s\n"
          ]
        },
        {
          "output_type": "stream",
          "name": "stdout",
          "text": [
            "Ep 3/35 it 2600 seen 166400 loss 2.4166 lr 1.80e-04 ema 0.999518 elapsed 1474.2s\n"
          ]
        },
        {
          "output_type": "stream",
          "name": "stdout",
          "text": [
            "Ep 3/35 it 2800 seen 179200 loss 2.4168 lr 1.80e-04 ema 0.999518 elapsed 1586.6s\n"
          ]
        },
        {
          "output_type": "stream",
          "name": "stdout",
          "text": [
            "Ep 3/35 it 3000 seen 192000 loss 2.7311 lr 1.80e-04 ema 0.999518 elapsed 1700.3s\n"
          ]
        },
        {
          "output_type": "stream",
          "name": "stdout",
          "text": [
            "Ep 3/35 it 3200 seen 204800 loss 2.5516 lr 1.80e-04 ema 0.999518 elapsed 1813.0s\n"
          ]
        },
        {
          "output_type": "stream",
          "name": "stdout",
          "text": [
            "Ep 3/35 it 3400 seen 217600 loss 2.2187 lr 1.80e-04 ema 0.999518 elapsed 1926.3s\n"
          ]
        },
        {
          "output_type": "stream",
          "name": "stdout",
          "text": [
            "Epoch 3 val_acc(EMA) 0.7486 ep_time 1955.1s total 5880.0s\n"
          ]
        },
        {
          "output_type": "stream",
          "name": "stdout",
          "text": [
            "Saved EMA best to effv2m_320_ema.pth\n"
          ]
        },
        {
          "output_type": "stream",
          "name": "stdout",
          "text": [
            "Ep 4/35 it 200 seen 12800 loss 3.4591 lr 2.40e-04 ema 0.999526 elapsed 113.6s\n"
          ]
        },
        {
          "output_type": "stream",
          "name": "stdout",
          "text": [
            "Ep 4/35 it 400 seen 25600 loss 2.4368 lr 2.40e-04 ema 0.999526 elapsed 227.8s\n"
          ]
        },
        {
          "output_type": "stream",
          "name": "stdout",
          "text": [
            "Ep 4/35 it 600 seen 38400 loss 4.0749 lr 2.40e-04 ema 0.999526 elapsed 340.5s\n"
          ]
        },
        {
          "output_type": "stream",
          "name": "stdout",
          "text": [
            "Ep 4/35 it 800 seen 51200 loss 2.2733 lr 2.40e-04 ema 0.999526 elapsed 453.9s\n"
          ]
        },
        {
          "output_type": "stream",
          "name": "stdout",
          "text": [
            "Ep 4/35 it 1000 seen 64000 loss 3.9126 lr 2.40e-04 ema 0.999526 elapsed 567.4s\n"
          ]
        },
        {
          "output_type": "stream",
          "name": "stdout",
          "text": [
            "Ep 4/35 it 1200 seen 76800 loss 2.6018 lr 2.40e-04 ema 0.999526 elapsed 680.2s\n"
          ]
        },
        {
          "output_type": "stream",
          "name": "stdout",
          "text": [
            "Ep 4/35 it 1400 seen 89600 loss 2.7218 lr 2.40e-04 ema 0.999526 elapsed 793.7s\n"
          ]
        },
        {
          "output_type": "stream",
          "name": "stdout",
          "text": [
            "Ep 4/35 it 1600 seen 102400 loss 2.2073 lr 2.40e-04 ema 0.999526 elapsed 906.4s\n"
          ]
        },
        {
          "output_type": "stream",
          "name": "stdout",
          "text": [
            "Ep 4/35 it 1800 seen 115200 loss 2.0807 lr 2.40e-04 ema 0.999526 elapsed 1019.8s\n"
          ]
        },
        {
          "output_type": "stream",
          "name": "stdout",
          "text": [
            "Ep 4/35 it 2000 seen 128000 loss 4.4117 lr 2.40e-04 ema 0.999526 elapsed 1133.5s\n"
          ]
        },
        {
          "output_type": "stream",
          "name": "stdout",
          "text": [
            "Ep 4/35 it 2200 seen 140800 loss 3.4837 lr 2.40e-04 ema 0.999526 elapsed 1246.3s\n"
          ]
        },
        {
          "output_type": "stream",
          "name": "stdout",
          "text": [
            "Ep 4/35 it 2400 seen 153600 loss 2.3853 lr 2.40e-04 ema 0.999526 elapsed 1359.7s\n"
          ]
        },
        {
          "output_type": "stream",
          "name": "stdout",
          "text": [
            "Ep 4/35 it 2600 seen 166400 loss 2.2889 lr 2.40e-04 ema 0.999526 elapsed 1473.3s\n"
          ]
        },
        {
          "output_type": "stream",
          "name": "stdout",
          "text": [
            "Ep 4/35 it 2800 seen 179200 loss 4.4853 lr 2.40e-04 ema 0.999526 elapsed 1586.1s\n"
          ]
        },
        {
          "output_type": "stream",
          "name": "stdout",
          "text": [
            "Ep 4/35 it 3000 seen 192000 loss 3.4448 lr 2.40e-04 ema 0.999526 elapsed 1699.4s\n"
          ]
        },
        {
          "output_type": "stream",
          "name": "stdout",
          "text": [
            "Ep 4/35 it 3200 seen 204800 loss 2.2480 lr 2.40e-04 ema 0.999526 elapsed 1811.9s\n"
          ]
        },
        {
          "output_type": "stream",
          "name": "stdout",
          "text": [
            "Ep 4/35 it 3400 seen 217600 loss 2.3372 lr 2.40e-04 ema 0.999526 elapsed 1925.4s\n"
          ]
        },
        {
          "output_type": "stream",
          "name": "stdout",
          "text": [
            "Epoch 4 val_acc(EMA) 0.7660 ep_time 1954.4s total 7836.5s\n"
          ]
        },
        {
          "output_type": "stream",
          "name": "stdout",
          "text": [
            "Saved EMA best to effv2m_320_ema.pth\n"
          ]
        },
        {
          "output_type": "stream",
          "name": "stdout",
          "text": [
            "Ep 5/35 it 200 seen 12800 loss 4.3506 lr 3.00e-04 ema 0.999535 elapsed 113.9s\n"
          ]
        },
        {
          "output_type": "stream",
          "name": "stdout",
          "text": [
            "Ep 5/35 it 400 seen 25600 loss 5.0326 lr 3.00e-04 ema 0.999535 elapsed 227.6s\n"
          ]
        },
        {
          "output_type": "stream",
          "name": "stdout",
          "text": [
            "Ep 5/35 it 600 seen 38400 loss 2.4043 lr 3.00e-04 ema 0.999535 elapsed 340.0s\n"
          ]
        },
        {
          "output_type": "stream",
          "name": "stdout",
          "text": [
            "Ep 5/35 it 800 seen 51200 loss 4.9031 lr 3.00e-04 ema 0.999535 elapsed 453.6s\n"
          ]
        },
        {
          "output_type": "stream",
          "name": "stdout",
          "text": [
            "Ep 5/35 it 1000 seen 64000 loss 3.4125 lr 3.00e-04 ema 0.999535 elapsed 567.2s\n"
          ]
        },
        {
          "output_type": "stream",
          "name": "stdout",
          "text": [
            "Ep 5/35 it 1200 seen 76800 loss 2.5950 lr 3.00e-04 ema 0.999535 elapsed 679.8s\n"
          ]
        },
        {
          "output_type": "stream",
          "name": "stdout",
          "text": [
            "Ep 5/35 it 1400 seen 89600 loss 2.6903 lr 3.00e-04 ema 0.999535 elapsed 793.4s\n"
          ]
        },
        {
          "output_type": "stream",
          "name": "stdout",
          "text": [
            "Ep 5/35 it 1600 seen 102400 loss 4.2878 lr 3.00e-04 ema 0.999535 elapsed 906.2s\n"
          ]
        },
        {
          "output_type": "stream",
          "name": "stdout",
          "text": [
            "Ep 5/35 it 1800 seen 115200 loss 2.0800 lr 3.00e-04 ema 0.999535 elapsed 1019.8s\n"
          ]
        },
        {
          "output_type": "stream",
          "name": "stdout",
          "text": [
            "Ep 5/35 it 2000 seen 128000 loss 2.7634 lr 3.00e-04 ema 0.999535 elapsed 1133.0s\n"
          ]
        },
        {
          "output_type": "stream",
          "name": "stdout",
          "text": [
            "Ep 5/35 it 2200 seen 140800 loss 5.0463 lr 3.00e-04 ema 0.999535 elapsed 1245.5s\n"
          ]
        },
        {
          "output_type": "stream",
          "name": "stdout",
          "text": [
            "Ep 5/35 it 2400 seen 153600 loss 2.4686 lr 3.00e-04 ema 0.999535 elapsed 1359.2s\n"
          ]
        },
        {
          "output_type": "stream",
          "name": "stdout",
          "text": [
            "Ep 5/35 it 2600 seen 166400 loss 2.2289 lr 3.00e-04 ema 0.999535 elapsed 1471.8s\n"
          ]
        },
        {
          "output_type": "stream",
          "name": "stdout",
          "text": [
            "Ep 5/35 it 2800 seen 179200 loss 4.3326 lr 3.00e-04 ema 0.999535 elapsed 1585.3s\n"
          ]
        },
        {
          "output_type": "stream",
          "name": "stdout",
          "text": [
            "Ep 5/35 it 3000 seen 192000 loss 4.2855 lr 3.00e-04 ema 0.999535 elapsed 1697.7s\n"
          ]
        },
        {
          "output_type": "stream",
          "name": "stdout",
          "text": [
            "Ep 5/35 it 3200 seen 204800 loss 2.2040 lr 3.00e-04 ema 0.999535 elapsed 1811.4s\n"
          ]
        },
        {
          "output_type": "stream",
          "name": "stdout",
          "text": [
            "Ep 5/35 it 3400 seen 217600 loss 3.4666 lr 3.00e-04 ema 0.999535 elapsed 1925.0s\n"
          ]
        },
        {
          "output_type": "stream",
          "name": "stdout",
          "text": [
            "Epoch 5 val_acc(EMA) 0.7717 ep_time 1953.9s total 9792.0s\n"
          ]
        },
        {
          "output_type": "stream",
          "name": "stdout",
          "text": [
            "Saved EMA best to effv2m_320_ema.pth\n"
          ]
        },
        {
          "output_type": "stream",
          "name": "stdout",
          "text": [
            "Saved periodic EMA to effv2m_320_ema_ep5.pth\n"
          ]
        },
        {
          "output_type": "stream",
          "name": "stdout",
          "text": [
            "Ep 6/35 it 200 seen 12800 loss 2.0199 lr 3.00e-04 ema 0.999544 elapsed 114.6s\n"
          ]
        },
        {
          "output_type": "stream",
          "name": "stdout",
          "text": [
            "Ep 6/35 it 400 seen 25600 loss 2.1971 lr 3.00e-04 ema 0.999544 elapsed 227.6s\n"
          ]
        },
        {
          "output_type": "stream",
          "name": "stdout",
          "text": [
            "Ep 6/35 it 600 seen 38400 loss 4.0562 lr 3.00e-04 ema 0.999544 elapsed 341.8s\n"
          ]
        },
        {
          "output_type": "stream",
          "name": "stdout",
          "text": [
            "Ep 6/35 it 800 seen 51200 loss 4.2924 lr 3.00e-04 ema 0.999544 elapsed 454.6s\n"
          ]
        },
        {
          "output_type": "stream",
          "name": "stdout",
          "text": [
            "Ep 6/35 it 1000 seen 64000 loss 5.0904 lr 3.00e-04 ema 0.999544 elapsed 568.2s\n"
          ]
        },
        {
          "output_type": "stream",
          "name": "stdout",
          "text": [
            "Ep 6/35 it 1200 seen 76800 loss 2.1793 lr 3.00e-04 ema 0.999544 elapsed 681.0s\n"
          ]
        },
        {
          "output_type": "stream",
          "name": "stdout",
          "text": [
            "Ep 6/35 it 1400 seen 89600 loss 4.4109 lr 3.00e-04 ema 0.999544 elapsed 794.7s\n"
          ]
        },
        {
          "output_type": "stream",
          "name": "stdout",
          "text": [
            "Ep 6/35 it 1600 seen 102400 loss 4.1336 lr 3.00e-04 ema 0.999544 elapsed 907.4s\n"
          ]
        },
        {
          "output_type": "stream",
          "name": "stdout",
          "text": [
            "Ep 6/35 it 1800 seen 115200 loss 2.4608 lr 3.00e-04 ema 0.999544 elapsed 1021.1s\n"
          ]
        },
        {
          "output_type": "stream",
          "name": "stdout",
          "text": [
            "Ep 6/35 it 2000 seen 128000 loss 2.3146 lr 3.00e-04 ema 0.999544 elapsed 1134.9s\n"
          ]
        },
        {
          "output_type": "stream",
          "name": "stdout",
          "text": [
            "Ep 6/35 it 2200 seen 140800 loss 2.6958 lr 3.00e-04 ema 0.999544 elapsed 1247.8s\n"
          ]
        },
        {
          "output_type": "stream",
          "name": "stdout",
          "text": [
            "Ep 6/35 it 2400 seen 153600 loss 4.2520 lr 3.00e-04 ema 0.999544 elapsed 1361.5s\n"
          ]
        },
        {
          "output_type": "stream",
          "name": "stdout",
          "text": [
            "Ep 6/35 it 2600 seen 166400 loss 2.5628 lr 3.00e-04 ema 0.999544 elapsed 1474.2s\n"
          ]
        },
        {
          "output_type": "stream",
          "name": "stdout",
          "text": [
            "Ep 6/35 it 2800 seen 179200 loss 2.8046 lr 3.00e-04 ema 0.999544 elapsed 1588.1s\n"
          ]
        },
        {
          "output_type": "stream",
          "name": "stdout",
          "text": [
            "Ep 6/35 it 3000 seen 192000 loss 2.4306 lr 3.00e-04 ema 0.999544 elapsed 1701.9s\n"
          ]
        },
        {
          "output_type": "stream",
          "name": "stdout",
          "text": [
            "Ep 6/35 it 3200 seen 204800 loss 3.6446 lr 3.00e-04 ema 0.999544 elapsed 1814.6s\n"
          ]
        },
        {
          "output_type": "stream",
          "name": "stdout",
          "text": [
            "Ep 6/35 it 3400 seen 217600 loss 2.3992 lr 3.00e-04 ema 0.999544 elapsed 1928.3s\n"
          ]
        },
        {
          "output_type": "stream",
          "name": "stdout",
          "text": [
            "Epoch 6 val_acc(EMA) 0.7809 ep_time 1957.2s total 11751.2s\n"
          ]
        },
        {
          "output_type": "stream",
          "name": "stdout",
          "text": [
            "Saved EMA best to effv2m_320_ema.pth\n"
          ]
        },
        {
          "output_type": "stream",
          "name": "stdout",
          "text": [
            "Ep 7/35 it 200 seen 12800 loss 1.9602 lr 2.99e-04 ema 0.999553 elapsed 113.8s\n"
          ]
        },
        {
          "output_type": "stream",
          "name": "stdout",
          "text": [
            "Ep 7/35 it 400 seen 25600 loss 3.8764 lr 2.99e-04 ema 0.999553 elapsed 227.5s\n"
          ]
        },
        {
          "output_type": "stream",
          "name": "stdout",
          "text": [
            "Ep 7/35 it 600 seen 38400 loss 3.9796 lr 2.99e-04 ema 0.999553 elapsed 340.9s\n"
          ]
        },
        {
          "output_type": "stream",
          "name": "stdout",
          "text": [
            "Ep 7/35 it 800 seen 51200 loss 2.1194 lr 2.99e-04 ema 0.999553 elapsed 453.6s\n"
          ]
        },
        {
          "output_type": "stream",
          "name": "stdout",
          "text": [
            "Ep 7/35 it 1000 seen 64000 loss 2.1527 lr 2.99e-04 ema 0.999553 elapsed 567.1s\n"
          ]
        },
        {
          "output_type": "stream",
          "name": "stdout",
          "text": [
            "Ep 7/35 it 1200 seen 76800 loss 2.0395 lr 2.99e-04 ema 0.999553 elapsed 679.5s\n"
          ]
        },
        {
          "output_type": "stream",
          "name": "stdout",
          "text": [
            "Ep 7/35 it 1400 seen 89600 loss 2.8882 lr 2.99e-04 ema 0.999553 elapsed 793.0s\n"
          ]
        },
        {
          "output_type": "stream",
          "name": "stdout",
          "text": [
            "Ep 7/35 it 1600 seen 102400 loss 3.8699 lr 2.99e-04 ema 0.999553 elapsed 906.7s\n"
          ]
        },
        {
          "output_type": "stream",
          "name": "stdout",
          "text": [
            "Ep 7/35 it 1800 seen 115200 loss 2.3285 lr 2.99e-04 ema 0.999553 elapsed 1019.3s\n"
          ]
        },
        {
          "output_type": "stream",
          "name": "stdout",
          "text": [
            "Ep 7/35 it 2000 seen 128000 loss 2.3312 lr 2.99e-04 ema 0.999553 elapsed 1132.8s\n"
          ]
        },
        {
          "output_type": "stream",
          "name": "stdout",
          "text": [
            "Ep 7/35 it 2200 seen 140800 loss 1.9248 lr 2.99e-04 ema 0.999553 elapsed 1245.1s\n"
          ]
        },
        {
          "output_type": "stream",
          "name": "stdout",
          "text": [
            "Ep 7/35 it 2400 seen 153600 loss 3.3169 lr 2.99e-04 ema 0.999553 elapsed 1358.3s\n"
          ]
        },
        {
          "output_type": "stream",
          "name": "stdout",
          "text": [
            "Ep 7/35 it 2600 seen 166400 loss 2.5833 lr 2.99e-04 ema 0.999553 elapsed 1471.9s\n"
          ]
        },
        {
          "output_type": "stream",
          "name": "stdout",
          "text": [
            "Ep 7/35 it 2800 seen 179200 loss 1.9232 lr 2.99e-04 ema 0.999553 elapsed 1584.2s\n"
          ]
        },
        {
          "output_type": "stream",
          "name": "stdout",
          "text": [
            "Ep 7/35 it 3000 seen 192000 loss 4.1844 lr 2.99e-04 ema 0.999553 elapsed 1697.8s\n"
          ]
        },
        {
          "output_type": "stream",
          "name": "stdout",
          "text": [
            "Ep 7/35 it 3200 seen 204800 loss 4.0085 lr 2.99e-04 ema 0.999553 elapsed 1811.3s\n"
          ]
        },
        {
          "output_type": "stream",
          "name": "stdout",
          "text": [
            "Ep 7/35 it 3400 seen 217600 loss 1.9568 lr 2.99e-04 ema 0.999553 elapsed 1923.6s\n"
          ]
        },
        {
          "output_type": "stream",
          "name": "stdout",
          "text": [
            "Epoch 7 val_acc(EMA) 0.7866 ep_time 1952.5s total 13705.5s\n"
          ]
        },
        {
          "output_type": "stream",
          "name": "stdout",
          "text": [
            "Saved EMA best to effv2m_320_ema.pth\n"
          ]
        },
        {
          "output_type": "stream",
          "name": "stdout",
          "text": [
            "Ep 8/35 it 200 seen 12800 loss 1.8278 lr 2.97e-04 ema 0.999562 elapsed 114.8s\n"
          ]
        },
        {
          "output_type": "stream",
          "name": "stdout",
          "text": [
            "Ep 8/35 it 400 seen 25600 loss 2.2141 lr 2.97e-04 ema 0.999562 elapsed 227.7s\n"
          ]
        },
        {
          "output_type": "stream",
          "name": "stdout",
          "text": [
            "Ep 8/35 it 600 seen 38400 loss 3.7407 lr 2.97e-04 ema 0.999562 elapsed 341.6s\n"
          ]
        },
        {
          "output_type": "stream",
          "name": "stdout",
          "text": [
            "Ep 8/35 it 800 seen 51200 loss 2.0901 lr 2.97e-04 ema 0.999562 elapsed 455.0s\n"
          ]
        },
        {
          "output_type": "stream",
          "name": "stdout",
          "text": [
            "Ep 8/35 it 1000 seen 64000 loss 3.6507 lr 2.97e-04 ema 0.999562 elapsed 567.5s\n"
          ]
        },
        {
          "output_type": "stream",
          "name": "stdout",
          "text": [
            "Ep 8/35 it 1200 seen 76800 loss 1.9323 lr 2.97e-04 ema 0.999562 elapsed 681.1s\n"
          ]
        },
        {
          "output_type": "stream",
          "name": "stdout",
          "text": [
            "Ep 8/35 it 1400 seen 89600 loss 2.4760 lr 2.97e-04 ema 0.999562 elapsed 794.8s\n"
          ]
        },
        {
          "output_type": "stream",
          "name": "stdout",
          "text": [
            "Ep 8/35 it 1600 seen 102400 loss 3.3395 lr 2.97e-04 ema 0.999562 elapsed 907.3s\n"
          ]
        },
        {
          "output_type": "stream",
          "name": "stdout",
          "text": [
            "Ep 8/35 it 1800 seen 115200 loss 3.7181 lr 2.97e-04 ema 0.999562 elapsed 1020.7s\n"
          ]
        },
        {
          "output_type": "stream",
          "name": "stdout",
          "text": [
            "Ep 8/35 it 2000 seen 128000 loss 1.9927 lr 2.97e-04 ema 0.999562 elapsed 1133.4s\n"
          ]
        },
        {
          "output_type": "stream",
          "name": "stdout",
          "text": [
            "Ep 8/35 it 2200 seen 140800 loss 1.9777 lr 2.97e-04 ema 0.999562 elapsed 1247.1s\n"
          ]
        },
        {
          "output_type": "stream",
          "name": "stdout",
          "text": [
            "Ep 8/35 it 2400 seen 153600 loss 2.2467 lr 2.97e-04 ema 0.999562 elapsed 1360.4s\n"
          ]
        },
        {
          "output_type": "stream",
          "name": "stdout",
          "text": [
            "Ep 8/35 it 2600 seen 166400 loss 2.1807 lr 2.97e-04 ema 0.999562 elapsed 1472.9s\n"
          ]
        },
        {
          "output_type": "stream",
          "name": "stdout",
          "text": [
            "Ep 8/35 it 2800 seen 179200 loss 2.8052 lr 2.97e-04 ema 0.999562 elapsed 1586.3s\n"
          ]
        },
        {
          "output_type": "stream",
          "name": "stdout",
          "text": [
            "Ep 8/35 it 3000 seen 192000 loss 1.9633 lr 2.97e-04 ema 0.999562 elapsed 1699.1s\n"
          ]
        },
        {
          "output_type": "stream",
          "name": "stdout",
          "text": [
            "Ep 8/35 it 3200 seen 204800 loss 3.7729 lr 2.97e-04 ema 0.999562 elapsed 1812.9s\n"
          ]
        },
        {
          "output_type": "stream",
          "name": "stdout",
          "text": [
            "Ep 8/35 it 3400 seen 217600 loss 4.7345 lr 2.97e-04 ema 0.999562 elapsed 1925.5s\n"
          ]
        },
        {
          "output_type": "stream",
          "name": "stdout",
          "text": [
            "Epoch 8 val_acc(EMA) 0.7958 ep_time 1954.4s total 15661.7s\n"
          ]
        },
        {
          "output_type": "stream",
          "name": "stdout",
          "text": [
            "Saved EMA best to effv2m_320_ema.pth\n"
          ]
        },
        {
          "output_type": "stream",
          "name": "stdout",
          "text": [
            "Ep 9/35 it 200 seen 12800 loss 1.9945 lr 2.93e-04 ema 0.999571 elapsed 113.8s\n"
          ]
        },
        {
          "output_type": "stream",
          "name": "stdout",
          "text": [
            "Ep 9/35 it 400 seen 25600 loss 1.9753 lr 2.93e-04 ema 0.999571 elapsed 227.6s\n"
          ]
        },
        {
          "output_type": "stream",
          "name": "stdout",
          "text": [
            "Ep 9/35 it 600 seen 38400 loss 3.9980 lr 2.93e-04 ema 0.999571 elapsed 340.7s\n"
          ]
        },
        {
          "output_type": "stream",
          "name": "stdout",
          "text": [
            "Ep 9/35 it 800 seen 51200 loss 2.2013 lr 2.93e-04 ema 0.999571 elapsed 453.4s\n"
          ]
        },
        {
          "output_type": "stream",
          "name": "stdout",
          "text": [
            "Ep 9/35 it 1000 seen 64000 loss 2.1461 lr 2.93e-04 ema 0.999571 elapsed 566.6s\n"
          ]
        },
        {
          "output_type": "stream",
          "name": "stdout",
          "text": [
            "Ep 9/35 it 1200 seen 76800 loss 2.1419 lr 2.93e-04 ema 0.999571 elapsed 679.1s\n"
          ]
        },
        {
          "output_type": "stream",
          "name": "stdout",
          "text": [
            "Ep 9/35 it 1400 seen 89600 loss 2.0889 lr 2.93e-04 ema 0.999571 elapsed 792.5s\n"
          ]
        },
        {
          "output_type": "stream",
          "name": "stdout",
          "text": [
            "Ep 9/35 it 1600 seen 102400 loss 2.0216 lr 2.93e-04 ema 0.999571 elapsed 904.9s\n"
          ]
        },
        {
          "output_type": "stream",
          "name": "stdout",
          "text": [
            "Ep 9/35 it 1800 seen 115200 loss 2.2653 lr 2.93e-04 ema 0.999571 elapsed 1018.3s\n"
          ]
        },
        {
          "output_type": "stream",
          "name": "stdout",
          "text": [
            "Ep 9/35 it 2000 seen 128000 loss 3.1770 lr 2.93e-04 ema 0.999571 elapsed 1131.8s\n"
          ]
        },
        {
          "output_type": "stream",
          "name": "stdout",
          "text": [
            "Ep 9/35 it 2200 seen 140800 loss 3.5830 lr 2.93e-04 ema 0.999571 elapsed 1244.1s\n"
          ]
        },
        {
          "output_type": "stream",
          "name": "stdout",
          "text": [
            "Ep 9/35 it 2400 seen 153600 loss 2.1972 lr 2.93e-04 ema 0.999571 elapsed 1357.5s\n"
          ]
        },
        {
          "output_type": "stream",
          "name": "stdout",
          "text": [
            "Ep 9/35 it 2600 seen 166400 loss 2.0750 lr 2.93e-04 ema 0.999571 elapsed 1470.0s\n"
          ]
        },
        {
          "output_type": "stream",
          "name": "stdout",
          "text": [
            "Ep 9/35 it 2800 seen 179200 loss 2.7491 lr 2.93e-04 ema 0.999571 elapsed 1583.4s\n"
          ]
        },
        {
          "output_type": "stream",
          "name": "stdout",
          "text": [
            "Ep 9/35 it 3000 seen 192000 loss 2.0540 lr 2.93e-04 ema 0.999571 elapsed 1696.0s\n"
          ]
        },
        {
          "output_type": "stream",
          "name": "stdout",
          "text": [
            "Ep 9/35 it 3200 seen 204800 loss 3.7552 lr 2.93e-04 ema 0.999571 elapsed 1809.4s\n"
          ]
        },
        {
          "output_type": "stream",
          "name": "stdout",
          "text": [
            "Ep 9/35 it 3400 seen 217600 loss 2.6245 lr 2.93e-04 ema 0.999571 elapsed 1922.6s\n"
          ]
        },
        {
          "output_type": "stream",
          "name": "stdout",
          "text": [
            "Epoch 9 val_acc(EMA) 0.7991 ep_time 1951.6s total 17616.3s\n"
          ]
        },
        {
          "output_type": "stream",
          "name": "stdout",
          "text": [
            "Saved EMA best to effv2m_320_ema.pth\n"
          ]
        },
        {
          "output_type": "stream",
          "name": "stdout",
          "text": [
            "Ep 10/35 it 200 seen 12800 loss 1.9914 lr 2.87e-04 ema 0.999579 elapsed 113.5s\n"
          ]
        },
        {
          "output_type": "stream",
          "name": "stdout",
          "text": [
            "Ep 10/35 it 400 seen 25600 loss 2.0108 lr 2.87e-04 ema 0.999579 elapsed 227.4s\n"
          ]
        },
        {
          "output_type": "stream",
          "name": "stdout",
          "text": [
            "Ep 10/35 it 600 seen 38400 loss 1.7529 lr 2.87e-04 ema 0.999579 elapsed 340.1s\n"
          ]
        },
        {
          "output_type": "stream",
          "name": "stdout",
          "text": [
            "Ep 10/35 it 800 seen 51200 loss 2.3158 lr 2.87e-04 ema 0.999579 elapsed 453.7s\n"
          ]
        },
        {
          "output_type": "stream",
          "name": "stdout",
          "text": [
            "Ep 10/35 it 1000 seen 64000 loss 3.7305 lr 2.87e-04 ema 0.999579 elapsed 567.3s\n"
          ]
        },
        {
          "output_type": "stream",
          "name": "stdout",
          "text": [
            "Ep 10/35 it 1200 seen 76800 loss 1.9247 lr 2.87e-04 ema 0.999579 elapsed 679.9s\n"
          ]
        },
        {
          "output_type": "stream",
          "name": "stdout",
          "text": [
            "Ep 10/35 it 1400 seen 89600 loss 1.9293 lr 2.87e-04 ema 0.999579 elapsed 793.7s\n"
          ]
        },
        {
          "output_type": "stream",
          "name": "stdout",
          "text": [
            "Ep 10/35 it 1600 seen 102400 loss 2.3394 lr 2.87e-04 ema 0.999579 elapsed 906.1s\n"
          ]
        },
        {
          "output_type": "stream",
          "name": "stdout",
          "text": [
            "Ep 10/35 it 1800 seen 115200 loss 1.9342 lr 2.87e-04 ema 0.999579 elapsed 1019.5s\n"
          ]
        },
        {
          "output_type": "stream",
          "name": "stdout",
          "text": [
            "Ep 10/35 it 2000 seen 128000 loss 2.7111 lr 2.87e-04 ema 0.999579 elapsed 1133.4s\n"
          ]
        },
        {
          "output_type": "stream",
          "name": "stdout",
          "text": [
            "Ep 10/35 it 2200 seen 140800 loss 1.8178 lr 2.87e-04 ema 0.999579 elapsed 1246.0s\n"
          ]
        },
        {
          "output_type": "stream",
          "name": "stdout",
          "text": [
            "Ep 10/35 it 2400 seen 153600 loss 3.8475 lr 2.87e-04 ema 0.999579 elapsed 1359.2s\n"
          ]
        },
        {
          "output_type": "stream",
          "name": "stdout",
          "text": [
            "Ep 10/35 it 2600 seen 166400 loss 3.7364 lr 2.87e-04 ema 0.999579 elapsed 1472.0s\n"
          ]
        },
        {
          "output_type": "stream",
          "name": "stdout",
          "text": [
            "Ep 10/35 it 2800 seen 179200 loss 3.8618 lr 2.87e-04 ema 0.999579 elapsed 1585.8s\n"
          ]
        },
        {
          "output_type": "stream",
          "name": "stdout",
          "text": [
            "Ep 10/35 it 3000 seen 192000 loss 3.8206 lr 2.87e-04 ema 0.999579 elapsed 1699.3s\n"
          ]
        },
        {
          "output_type": "stream",
          "name": "stdout",
          "text": [
            "Ep 10/35 it 3200 seen 204800 loss 4.2853 lr 2.87e-04 ema 0.999579 elapsed 1812.0s\n"
          ]
        },
        {
          "output_type": "stream",
          "name": "stdout",
          "text": [
            "Ep 10/35 it 3400 seen 217600 loss 1.9747 lr 2.87e-04 ema 0.999579 elapsed 1925.6s\n"
          ]
        },
        {
          "output_type": "stream",
          "name": "stdout",
          "text": [
            "Epoch 10 val_acc(EMA) 0.8028 ep_time 1954.5s total 19572.8s\n"
          ]
        },
        {
          "output_type": "stream",
          "name": "stdout",
          "text": [
            "Saved EMA best to effv2m_320_ema.pth\n"
          ]
        },
        {
          "output_type": "stream",
          "name": "stdout",
          "text": [
            "Saved periodic EMA to effv2m_320_ema_ep10.pth\n"
          ]
        },
        {
          "output_type": "stream",
          "name": "stdout",
          "text": [
            "Ep 11/35 it 200 seen 12800 loss 2.2844 lr 2.80e-04 ema 0.999588 elapsed 113.6s\n"
          ]
        },
        {
          "output_type": "stream",
          "name": "stdout",
          "text": [
            "Ep 11/35 it 400 seen 25600 loss 2.1195 lr 2.80e-04 ema 0.999588 elapsed 227.1s\n"
          ]
        },
        {
          "output_type": "stream",
          "name": "stdout",
          "text": [
            "Ep 11/35 it 600 seen 38400 loss 2.1235 lr 2.80e-04 ema 0.999588 elapsed 339.3s\n"
          ]
        },
        {
          "output_type": "stream",
          "name": "stdout",
          "text": [
            "Ep 11/35 it 800 seen 51200 loss 3.4267 lr 2.80e-04 ema 0.999588 elapsed 453.0s\n"
          ]
        },
        {
          "output_type": "stream",
          "name": "stdout",
          "text": [
            "Ep 11/35 it 1000 seen 64000 loss 4.4211 lr 2.80e-04 ema 0.999588 elapsed 566.4s\n"
          ]
        },
        {
          "output_type": "stream",
          "name": "stdout",
          "text": [
            "Ep 11/35 it 1200 seen 76800 loss 2.6195 lr 2.80e-04 ema 0.999588 elapsed 678.7s\n"
          ]
        },
        {
          "output_type": "stream",
          "name": "stdout",
          "text": [
            "Ep 11/35 it 1400 seen 89600 loss 1.8978 lr 2.80e-04 ema 0.999588 elapsed 791.9s\n"
          ]
        },
        {
          "output_type": "stream",
          "name": "stdout",
          "text": [
            "Ep 11/35 it 1600 seen 102400 loss 1.5801 lr 2.80e-04 ema 0.999588 elapsed 904.7s\n"
          ]
        },
        {
          "output_type": "stream",
          "name": "stdout",
          "text": [
            "Ep 11/35 it 1800 seen 115200 loss 1.8795 lr 2.80e-04 ema 0.999588 elapsed 1018.2s\n"
          ]
        },
        {
          "output_type": "stream",
          "name": "stdout",
          "text": [
            "Ep 11/35 it 2000 seen 128000 loss 4.1125 lr 2.80e-04 ema 0.999588 elapsed 1131.4s\n"
          ]
        },
        {
          "output_type": "stream",
          "name": "stdout",
          "text": [
            "Ep 11/35 it 2200 seen 140800 loss 3.4675 lr 2.80e-04 ema 0.999588 elapsed 1243.8s\n"
          ]
        },
        {
          "output_type": "stream",
          "name": "stdout",
          "text": [
            "Ep 11/35 it 2400 seen 153600 loss 2.0959 lr 2.80e-04 ema 0.999588 elapsed 1357.5s\n"
          ]
        },
        {
          "output_type": "stream",
          "name": "stdout",
          "text": [
            "Ep 11/35 it 2600 seen 166400 loss 2.0595 lr 2.80e-04 ema 0.999588 elapsed 1470.8s\n"
          ]
        },
        {
          "output_type": "stream",
          "name": "stdout",
          "text": [
            "Ep 11/35 it 2800 seen 179200 loss 1.9688 lr 2.80e-04 ema 0.999588 elapsed 1583.2s\n"
          ]
        },
        {
          "output_type": "stream",
          "name": "stdout",
          "text": [
            "Ep 11/35 it 3000 seen 192000 loss 2.1600 lr 2.80e-04 ema 0.999588 elapsed 1696.6s\n"
          ]
        },
        {
          "output_type": "stream",
          "name": "stdout",
          "text": [
            "Ep 11/35 it 3200 seen 204800 loss 3.6945 lr 2.80e-04 ema 0.999588 elapsed 1809.3s\n"
          ]
        },
        {
          "output_type": "stream",
          "name": "stdout",
          "text": [
            "Ep 11/35 it 3400 seen 217600 loss 3.9803 lr 2.80e-04 ema 0.999588 elapsed 1922.8s\n"
          ]
        },
        {
          "output_type": "stream",
          "name": "stdout",
          "text": [
            "Epoch 11 val_acc(EMA) 0.8042 ep_time 1951.6s total 21526.5s\n"
          ]
        },
        {
          "output_type": "stream",
          "name": "stdout",
          "text": [
            "Saved EMA best to effv2m_320_ema.pth\n"
          ]
        },
        {
          "output_type": "stream",
          "name": "stdout",
          "text": [
            "Ep 12/35 it 200 seen 12800 loss 2.1531 lr 2.71e-04 ema 0.999597 elapsed 114.5s\n"
          ]
        },
        {
          "output_type": "stream",
          "name": "stdout",
          "text": [
            "Ep 12/35 it 400 seen 25600 loss 2.8195 lr 2.71e-04 ema 0.999597 elapsed 227.3s\n"
          ]
        },
        {
          "output_type": "stream",
          "name": "stdout",
          "text": [
            "Ep 12/35 it 600 seen 38400 loss 3.7191 lr 2.71e-04 ema 0.999597 elapsed 341.1s\n"
          ]
        },
        {
          "output_type": "stream",
          "name": "stdout",
          "text": [
            "Ep 12/35 it 800 seen 51200 loss 1.7685 lr 2.71e-04 ema 0.999597 elapsed 453.8s\n"
          ]
        },
        {
          "output_type": "stream",
          "name": "stdout",
          "text": [
            "Ep 12/35 it 1000 seen 64000 loss 1.9690 lr 2.71e-04 ema 0.999597 elapsed 567.0s\n"
          ]
        },
        {
          "output_type": "stream",
          "name": "stdout",
          "text": [
            "Ep 12/35 it 1200 seen 76800 loss 1.8982 lr 2.71e-04 ema 0.999597 elapsed 679.7s\n"
          ]
        },
        {
          "output_type": "stream",
          "name": "stdout",
          "text": [
            "Ep 12/35 it 1400 seen 89600 loss 1.9585 lr 2.71e-04 ema 0.999597 elapsed 793.5s\n"
          ]
        },
        {
          "output_type": "stream",
          "name": "stdout",
          "text": [
            "Ep 12/35 it 1600 seen 102400 loss 1.8985 lr 2.71e-04 ema 0.999597 elapsed 905.8s\n"
          ]
        },
        {
          "output_type": "stream",
          "name": "stdout",
          "text": [
            "Ep 12/35 it 1800 seen 115200 loss 2.9948 lr 2.71e-04 ema 0.999597 elapsed 1018.9s\n"
          ]
        },
        {
          "output_type": "stream",
          "name": "stdout",
          "text": [
            "Ep 12/35 it 2000 seen 128000 loss 2.1604 lr 2.71e-04 ema 0.999597 elapsed 1131.7s\n"
          ]
        },
        {
          "output_type": "stream",
          "name": "stdout",
          "text": [
            "Ep 12/35 it 2200 seen 140800 loss 1.8994 lr 2.71e-04 ema 0.999597 elapsed 1245.4s\n"
          ]
        },
        {
          "output_type": "stream",
          "name": "stdout",
          "text": [
            "Ep 12/35 it 2400 seen 153600 loss 2.2001 lr 2.71e-04 ema 0.999597 elapsed 1358.8s\n"
          ]
        },
        {
          "output_type": "stream",
          "name": "stdout",
          "text": [
            "Ep 12/35 it 2600 seen 166400 loss 3.9950 lr 2.71e-04 ema 0.999597 elapsed 1472.1s\n"
          ]
        },
        {
          "output_type": "stream",
          "name": "stdout",
          "text": [
            "Ep 12/35 it 2800 seen 179200 loss 2.0086 lr 2.71e-04 ema 0.999597 elapsed 1584.9s\n"
          ]
        },
        {
          "output_type": "stream",
          "name": "stdout",
          "text": [
            "Ep 12/35 it 3000 seen 192000 loss 1.9410 lr 2.71e-04 ema 0.999597 elapsed 1698.6s\n"
          ]
        },
        {
          "output_type": "stream",
          "name": "stdout",
          "text": [
            "Ep 12/35 it 3200 seen 204800 loss 3.7179 lr 2.71e-04 ema 0.999597 elapsed 1810.9s\n"
          ]
        },
        {
          "output_type": "stream",
          "name": "stdout",
          "text": [
            "Ep 12/35 it 3400 seen 217600 loss 1.8674 lr 2.71e-04 ema 0.999597 elapsed 1924.1s\n"
          ]
        },
        {
          "output_type": "stream",
          "name": "stdout",
          "text": [
            "Epoch 12 val_acc(EMA) 0.8093 ep_time 1953.1s total 23483.7s\n"
          ]
        },
        {
          "output_type": "stream",
          "name": "stdout",
          "text": [
            "Saved EMA best to effv2m_320_ema.pth\n"
          ]
        },
        {
          "output_type": "stream",
          "name": "stdout",
          "text": [
            "Ep 13/35 it 200 seen 12800 loss 1.7705 lr 2.62e-04 ema 0.999606 elapsed 114.2s\n"
          ]
        },
        {
          "output_type": "stream",
          "name": "stdout",
          "text": [
            "Ep 13/35 it 400 seen 25600 loss 3.9027 lr 2.62e-04 ema 0.999606 elapsed 228.5s\n"
          ]
        },
        {
          "output_type": "stream",
          "name": "stdout",
          "text": [
            "Ep 13/35 it 600 seen 38400 loss 3.7888 lr 2.62e-04 ema 0.999606 elapsed 341.9s\n"
          ]
        },
        {
          "output_type": "stream",
          "name": "stdout",
          "text": [
            "Ep 13/35 it 800 seen 51200 loss 2.1093 lr 2.62e-04 ema 0.999606 elapsed 454.5s\n"
          ]
        },
        {
          "output_type": "stream",
          "name": "stdout",
          "text": [
            "Ep 13/35 it 1000 seen 64000 loss 3.8567 lr 2.62e-04 ema 0.999606 elapsed 568.4s\n"
          ]
        },
        {
          "output_type": "stream",
          "name": "stdout",
          "text": [
            "Ep 13/35 it 1200 seen 76800 loss 3.2236 lr 2.62e-04 ema 0.999606 elapsed 681.1s\n"
          ]
        },
        {
          "output_type": "stream",
          "name": "stdout",
          "text": [
            "Ep 13/35 it 1400 seen 89600 loss 2.0888 lr 2.62e-04 ema 0.999606 elapsed 794.6s\n"
          ]
        },
        {
          "output_type": "stream",
          "name": "stdout",
          "text": [
            "Ep 13/35 it 1600 seen 102400 loss 3.3493 lr 2.62e-04 ema 0.999606 elapsed 908.1s\n"
          ]
        },
        {
          "output_type": "stream",
          "name": "stdout",
          "text": [
            "Ep 13/35 it 1800 seen 115200 loss 2.0063 lr 2.62e-04 ema 0.999606 elapsed 1021.2s\n"
          ]
        },
        {
          "output_type": "stream",
          "name": "stdout",
          "text": [
            "Ep 13/35 it 2000 seen 128000 loss 4.7517 lr 2.62e-04 ema 0.999606 elapsed 1134.5s\n"
          ]
        },
        {
          "output_type": "stream",
          "name": "stdout",
          "text": [
            "Ep 13/35 it 2200 seen 140800 loss 2.0427 lr 2.62e-04 ema 0.999606 elapsed 1247.0s\n"
          ]
        },
        {
          "output_type": "stream",
          "name": "stdout",
          "text": [
            "Ep 13/35 it 2400 seen 153600 loss 1.6880 lr 2.62e-04 ema 0.999606 elapsed 1360.7s\n"
          ]
        },
        {
          "output_type": "stream",
          "name": "stdout",
          "text": [
            "Ep 13/35 it 2600 seen 166400 loss 2.0772 lr 2.62e-04 ema 0.999606 elapsed 1473.7s\n"
          ]
        },
        {
          "output_type": "stream",
          "name": "stdout",
          "text": [
            "Ep 13/35 it 2800 seen 179200 loss 3.7020 lr 2.62e-04 ema 0.999606 elapsed 1587.1s\n"
          ]
        },
        {
          "output_type": "stream",
          "name": "stdout",
          "text": [
            "Ep 13/35 it 3000 seen 192000 loss 3.7981 lr 2.62e-04 ema 0.999606 elapsed 1700.7s\n"
          ]
        },
        {
          "output_type": "stream",
          "name": "stdout",
          "text": [
            "Ep 13/35 it 3200 seen 204800 loss 3.4432 lr 2.62e-04 ema 0.999606 elapsed 1813.5s\n"
          ]
        },
        {
          "output_type": "stream",
          "name": "stdout",
          "text": [
            "Ep 13/35 it 3400 seen 217600 loss 1.7283 lr 2.62e-04 ema 0.999606 elapsed 1927.2s\n"
          ]
        },
        {
          "output_type": "stream",
          "name": "stdout",
          "text": [
            "Epoch 13 val_acc(EMA) 0.8121 ep_time 1956.1s total 25441.8s\n"
          ]
        },
        {
          "output_type": "stream",
          "name": "stdout",
          "text": [
            "Saved EMA best to effv2m_320_ema.pth\n"
          ]
        },
        {
          "output_type": "stream",
          "name": "stdout",
          "text": [
            "Ep 14/35 it 200 seen 12800 loss 2.1159 lr 2.51e-04 ema 0.999615 elapsed 114.8s\n"
          ]
        },
        {
          "output_type": "stream",
          "name": "stdout",
          "text": [
            "Ep 14/35 it 400 seen 25600 loss 1.5453 lr 2.51e-04 ema 0.999615 elapsed 227.5s\n"
          ]
        },
        {
          "output_type": "stream",
          "name": "stdout",
          "text": [
            "Ep 14/35 it 600 seen 38400 loss 1.8760 lr 2.51e-04 ema 0.999615 elapsed 341.5s\n"
          ]
        },
        {
          "output_type": "stream",
          "name": "stdout",
          "text": [
            "Ep 14/35 it 800 seen 51200 loss 1.6982 lr 2.51e-04 ema 0.999615 elapsed 454.3s\n"
          ]
        },
        {
          "output_type": "stream",
          "name": "stdout",
          "text": [
            "Ep 14/35 it 1000 seen 64000 loss 3.7951 lr 2.51e-04 ema 0.999615 elapsed 567.8s\n"
          ]
        },
        {
          "output_type": "stream",
          "name": "stdout",
          "text": [
            "Ep 14/35 it 1200 seen 76800 loss 2.6142 lr 2.51e-04 ema 0.999615 elapsed 681.2s\n"
          ]
        },
        {
          "output_type": "stream",
          "name": "stdout",
          "text": [
            "Ep 14/35 it 1400 seen 89600 loss 2.7710 lr 2.51e-04 ema 0.999615 elapsed 794.2s\n"
          ]
        },
        {
          "output_type": "stream",
          "name": "stdout",
          "text": [
            "Ep 14/35 it 1600 seen 102400 loss 1.8945 lr 2.51e-04 ema 0.999615 elapsed 907.8s\n"
          ]
        },
        {
          "output_type": "stream",
          "name": "stdout",
          "text": [
            "Ep 14/35 it 1800 seen 115200 loss 1.8031 lr 2.51e-04 ema 0.999615 elapsed 1021.3s\n"
          ]
        },
        {
          "output_type": "stream",
          "name": "stdout",
          "text": [
            "Ep 14/35 it 2000 seen 128000 loss 2.0882 lr 2.51e-04 ema 0.999615 elapsed 1133.9s\n"
          ]
        },
        {
          "output_type": "stream",
          "name": "stdout",
          "text": [
            "Ep 14/35 it 2200 seen 140800 loss 2.4734 lr 2.51e-04 ema 0.999615 elapsed 1247.5s\n"
          ]
        },
        {
          "output_type": "stream",
          "name": "stdout",
          "text": [
            "Ep 14/35 it 2400 seen 153600 loss 1.8301 lr 2.51e-04 ema 0.999615 elapsed 1360.3s\n"
          ]
        },
        {
          "output_type": "stream",
          "name": "stdout",
          "text": [
            "Ep 14/35 it 2600 seen 166400 loss 1.7054 lr 2.51e-04 ema 0.999615 elapsed 1473.8s\n"
          ]
        },
        {
          "output_type": "stream",
          "name": "stdout",
          "text": [
            "Ep 14/35 it 2800 seen 179200 loss 1.8023 lr 2.51e-04 ema 0.999615 elapsed 1586.3s\n"
          ]
        },
        {
          "output_type": "stream",
          "name": "stdout",
          "text": [
            "Ep 14/35 it 3000 seen 192000 loss 2.7363 lr 2.51e-04 ema 0.999615 elapsed 1700.2s\n"
          ]
        },
        {
          "output_type": "stream",
          "name": "stdout",
          "text": [
            "Ep 14/35 it 3200 seen 204800 loss 1.8024 lr 2.51e-04 ema 0.999615 elapsed 1813.9s\n"
          ]
        },
        {
          "output_type": "stream",
          "name": "stdout",
          "text": [
            "Ep 14/35 it 3400 seen 217600 loss 1.7692 lr 2.51e-04 ema 0.999615 elapsed 1926.4s\n"
          ]
        },
        {
          "output_type": "stream",
          "name": "stdout",
          "text": [
            "Epoch 14 val_acc(EMA) 0.8164 ep_time 1955.4s total 27398.8s\n"
          ]
        },
        {
          "output_type": "stream",
          "name": "stdout",
          "text": [
            "Saved EMA best to effv2m_320_ema.pth\n"
          ]
        },
        {
          "output_type": "stream",
          "name": "stdout",
          "text": [
            "Ep 15/35 it 200 seen 12800 loss 3.7154 lr 2.38e-04 ema 0.999624 elapsed 115.3s\n"
          ]
        },
        {
          "output_type": "stream",
          "name": "stdout",
          "text": [
            "Ep 15/35 it 400 seen 25600 loss 1.9620 lr 2.38e-04 ema 0.999624 elapsed 229.3s\n"
          ]
        },
        {
          "output_type": "stream",
          "name": "stdout",
          "text": [
            "Ep 15/35 it 600 seen 38400 loss 2.3862 lr 2.38e-04 ema 0.999624 elapsed 341.8s\n"
          ]
        },
        {
          "output_type": "stream",
          "name": "stdout",
          "text": [
            "Ep 15/35 it 800 seen 51200 loss 3.5010 lr 2.38e-04 ema 0.999624 elapsed 455.3s\n"
          ]
        },
        {
          "output_type": "stream",
          "name": "stdout",
          "text": [
            "Ep 15/35 it 1000 seen 64000 loss 1.7360 lr 2.38e-04 ema 0.999624 elapsed 568.9s\n"
          ]
        },
        {
          "output_type": "stream",
          "name": "stdout",
          "text": [
            "Ep 15/35 it 1200 seen 76800 loss 2.4864 lr 2.38e-04 ema 0.999624 elapsed 681.6s\n"
          ]
        },
        {
          "output_type": "stream",
          "name": "stdout",
          "text": [
            "Ep 15/35 it 1400 seen 89600 loss 4.1559 lr 2.38e-04 ema 0.999624 elapsed 795.0s\n"
          ]
        },
        {
          "output_type": "stream",
          "name": "stdout",
          "text": [
            "Ep 15/35 it 1600 seen 102400 loss 2.9865 lr 2.38e-04 ema 0.999624 elapsed 907.6s\n"
          ]
        },
        {
          "output_type": "stream",
          "name": "stdout",
          "text": [
            "Ep 15/35 it 1800 seen 115200 loss 3.4023 lr 2.38e-04 ema 0.999624 elapsed 1021.4s\n"
          ]
        },
        {
          "output_type": "stream",
          "name": "stdout",
          "text": [
            "Ep 15/35 it 2000 seen 128000 loss 1.7250 lr 2.38e-04 ema 0.999624 elapsed 1135.1s\n"
          ]
        },
        {
          "output_type": "stream",
          "name": "stdout",
          "text": [
            "Ep 15/35 it 2200 seen 140800 loss 2.1245 lr 2.38e-04 ema 0.999624 elapsed 1247.8s\n"
          ]
        },
        {
          "output_type": "stream",
          "name": "stdout",
          "text": [
            "Ep 15/35 it 2400 seen 153600 loss 2.0426 lr 2.38e-04 ema 0.999624 elapsed 1361.4s\n"
          ]
        },
        {
          "output_type": "stream",
          "name": "stdout",
          "text": [
            "Ep 15/35 it 2600 seen 166400 loss 2.4513 lr 2.38e-04 ema 0.999624 elapsed 1474.2s\n"
          ]
        },
        {
          "output_type": "stream",
          "name": "stdout",
          "text": [
            "Ep 15/35 it 2800 seen 179200 loss 1.8625 lr 2.38e-04 ema 0.999624 elapsed 1588.0s\n"
          ]
        },
        {
          "output_type": "stream",
          "name": "stdout",
          "text": [
            "Ep 15/35 it 3000 seen 192000 loss 1.9238 lr 2.38e-04 ema 0.999624 elapsed 1701.6s\n"
          ]
        },
        {
          "output_type": "stream",
          "name": "stdout",
          "text": [
            "Ep 15/35 it 3200 seen 204800 loss 1.8882 lr 2.38e-04 ema 0.999624 elapsed 1814.2s\n"
          ]
        },
        {
          "output_type": "stream",
          "name": "stdout",
          "text": [
            "Ep 15/35 it 3400 seen 217600 loss 4.3440 lr 2.38e-04 ema 0.999624 elapsed 1928.0s\n"
          ]
        },
        {
          "output_type": "stream",
          "name": "stdout",
          "text": [
            "Epoch 15 val_acc(EMA) 0.8202 ep_time 1957.1s total 29358.0s\n"
          ]
        },
        {
          "output_type": "stream",
          "name": "stdout",
          "text": [
            "Saved EMA best to effv2m_320_ema.pth\n"
          ]
        },
        {
          "output_type": "stream",
          "name": "stdout",
          "text": [
            "Saved periodic EMA to effv2m_320_ema_ep15.pth\n"
          ]
        },
        {
          "output_type": "stream",
          "name": "stdout",
          "text": [
            "Ep 16/35 it 200 seen 12800 loss 1.7928 lr 2.25e-04 ema 0.999632 elapsed 113.7s\n"
          ]
        },
        {
          "output_type": "stream",
          "name": "stdout",
          "text": [
            "Ep 16/35 it 400 seen 25600 loss 1.6377 lr 2.25e-04 ema 0.999632 elapsed 227.7s\n"
          ]
        },
        {
          "output_type": "stream",
          "name": "stdout",
          "text": [
            "Ep 16/35 it 600 seen 38400 loss 3.7989 lr 2.25e-04 ema 0.999632 elapsed 341.2s\n"
          ]
        },
        {
          "output_type": "stream",
          "name": "stdout",
          "text": [
            "Ep 16/35 it 800 seen 51200 loss 2.3431 lr 2.25e-04 ema 0.999632 elapsed 453.8s\n"
          ]
        },
        {
          "output_type": "stream",
          "name": "stdout",
          "text": [
            "Ep 16/35 it 1000 seen 64000 loss 1.7669 lr 2.25e-04 ema 0.999632 elapsed 567.5s\n"
          ]
        },
        {
          "output_type": "stream",
          "name": "stdout",
          "text": [
            "Ep 16/35 it 1200 seen 76800 loss 1.7873 lr 2.25e-04 ema 0.999632 elapsed 679.9s\n"
          ]
        },
        {
          "output_type": "stream",
          "name": "stdout",
          "text": [
            "Ep 16/35 it 1400 seen 89600 loss 3.6389 lr 2.25e-04 ema 0.999632 elapsed 793.4s\n"
          ]
        },
        {
          "output_type": "stream",
          "name": "stdout",
          "text": [
            "Ep 16/35 it 1600 seen 102400 loss 2.3796 lr 2.25e-04 ema 0.999632 elapsed 906.3s\n"
          ]
        },
        {
          "output_type": "stream",
          "name": "stdout",
          "text": [
            "Ep 16/35 it 1800 seen 115200 loss 1.8883 lr 2.25e-04 ema 0.999632 elapsed 1019.8s\n"
          ]
        },
        {
          "output_type": "stream",
          "name": "stdout",
          "text": [
            "Ep 16/35 it 2000 seen 128000 loss 1.9354 lr 2.25e-04 ema 0.999632 elapsed 1133.4s\n"
          ]
        },
        {
          "output_type": "stream",
          "name": "stdout",
          "text": [
            "Ep 16/35 it 2200 seen 140800 loss 2.4794 lr 2.25e-04 ema 0.999632 elapsed 1246.1s\n"
          ]
        },
        {
          "output_type": "stream",
          "name": "stdout",
          "text": [
            "Ep 16/35 it 2400 seen 153600 loss 1.8596 lr 2.25e-04 ema 0.999632 elapsed 1359.8s\n"
          ]
        },
        {
          "output_type": "stream",
          "name": "stdout",
          "text": [
            "Ep 16/35 it 2600 seen 166400 loss 1.9171 lr 2.25e-04 ema 0.999632 elapsed 1472.2s\n"
          ]
        },
        {
          "output_type": "stream",
          "name": "stdout",
          "text": [
            "Ep 16/35 it 2800 seen 179200 loss 2.7669 lr 2.25e-04 ema 0.999632 elapsed 1585.8s\n"
          ]
        },
        {
          "output_type": "stream",
          "name": "stdout",
          "text": [
            "Ep 16/35 it 3000 seen 192000 loss 2.0258 lr 2.25e-04 ema 0.999632 elapsed 1699.3s\n"
          ]
        },
        {
          "output_type": "stream",
          "name": "stdout",
          "text": [
            "Ep 16/35 it 3200 seen 204800 loss 2.4222 lr 2.25e-04 ema 0.999632 elapsed 1812.1s\n"
          ]
        },
        {
          "output_type": "stream",
          "name": "stdout",
          "text": [
            "Ep 16/35 it 3400 seen 217600 loss 3.3081 lr 2.25e-04 ema 0.999632 elapsed 1925.4s\n"
          ]
        },
        {
          "output_type": "stream",
          "name": "stdout",
          "text": [
            "Epoch 16 val_acc(EMA) 0.8221 ep_time 1954.4s total 31314.6s\n"
          ]
        },
        {
          "output_type": "stream",
          "name": "stdout",
          "text": [
            "Saved EMA best to effv2m_320_ema.pth\n"
          ]
        },
        {
          "output_type": "stream",
          "name": "stdout",
          "text": [
            "Ep 17/35 it 200 seen 12800 loss 3.1646 lr 2.11e-04 ema 0.999641 elapsed 114.9s\n"
          ]
        },
        {
          "output_type": "stream",
          "name": "stdout",
          "text": [
            "Ep 17/35 it 400 seen 25600 loss 1.7421 lr 2.11e-04 ema 0.999641 elapsed 227.8s\n"
          ]
        },
        {
          "output_type": "stream",
          "name": "stdout",
          "text": [
            "Ep 17/35 it 600 seen 38400 loss 1.8406 lr 2.11e-04 ema 0.999641 elapsed 341.2s\n"
          ]
        },
        {
          "output_type": "stream",
          "name": "stdout",
          "text": [
            "Ep 17/35 it 800 seen 51200 loss 3.4851 lr 2.11e-04 ema 0.999641 elapsed 453.8s\n"
          ]
        },
        {
          "output_type": "stream",
          "name": "stdout",
          "text": [
            "Ep 17/35 it 1000 seen 64000 loss 1.6973 lr 2.11e-04 ema 0.999641 elapsed 567.2s\n"
          ]
        },
        {
          "output_type": "stream",
          "name": "stdout",
          "text": [
            "Ep 17/35 it 1200 seen 76800 loss 1.9235 lr 2.11e-04 ema 0.999641 elapsed 681.0s\n"
          ]
        },
        {
          "output_type": "stream",
          "name": "stdout",
          "text": [
            "Ep 17/35 it 1400 seen 89600 loss 3.2707 lr 2.11e-04 ema 0.999641 elapsed 793.7s\n"
          ]
        },
        {
          "output_type": "stream",
          "name": "stdout",
          "text": [
            "Ep 17/35 it 1600 seen 102400 loss 1.7985 lr 2.11e-04 ema 0.999641 elapsed 907.0s\n"
          ]
        },
        {
          "output_type": "stream",
          "name": "stdout",
          "text": [
            "Ep 17/35 it 1800 seen 115200 loss 3.7281 lr 2.11e-04 ema 0.999641 elapsed 1019.6s\n"
          ]
        },
        {
          "output_type": "stream",
          "name": "stdout",
          "text": [
            "Ep 17/35 it 2000 seen 128000 loss 3.4163 lr 2.11e-04 ema 0.999641 elapsed 1133.2s\n"
          ]
        },
        {
          "output_type": "stream",
          "name": "stdout",
          "text": [
            "Ep 17/35 it 2200 seen 140800 loss 3.5478 lr 2.11e-04 ema 0.999641 elapsed 1245.9s\n"
          ]
        },
        {
          "output_type": "stream",
          "name": "stdout",
          "text": [
            "Ep 17/35 it 2400 seen 153600 loss 2.4573 lr 2.11e-04 ema 0.999641 elapsed 1359.1s\n"
          ]
        },
        {
          "output_type": "stream",
          "name": "stdout",
          "text": [
            "Ep 17/35 it 2600 seen 166400 loss 2.7563 lr 2.11e-04 ema 0.999641 elapsed 1472.8s\n"
          ]
        },
        {
          "output_type": "stream",
          "name": "stdout",
          "text": [
            "Ep 17/35 it 2800 seen 179200 loss 3.4575 lr 2.11e-04 ema 0.999641 elapsed 1585.5s\n"
          ]
        },
        {
          "output_type": "stream",
          "name": "stdout",
          "text": [
            "Ep 17/35 it 3000 seen 192000 loss 2.1555 lr 2.11e-04 ema 0.999641 elapsed 1699.0s\n"
          ]
        },
        {
          "output_type": "stream",
          "name": "stdout",
          "text": [
            "Ep 17/35 it 3200 seen 204800 loss 2.1834 lr 2.11e-04 ema 0.999641 elapsed 1811.5s\n"
          ]
        },
        {
          "output_type": "stream",
          "name": "stdout",
          "text": [
            "Ep 17/35 it 3400 seen 217600 loss 1.6901 lr 2.11e-04 ema 0.999641 elapsed 1924.8s\n"
          ]
        },
        {
          "output_type": "stream",
          "name": "stdout",
          "text": [
            "Epoch 17 val_acc(EMA) 0.8214 ep_time 1953.8s total 33270.3s\n"
          ]
        },
        {
          "output_type": "stream",
          "name": "stdout",
          "text": [
            "Ep 18/35 it 200 seen 12800 loss 1.9851 lr 1.97e-04 ema 0.999650 elapsed 113.8s\n"
          ]
        },
        {
          "output_type": "stream",
          "name": "stdout",
          "text": [
            "Ep 18/35 it 400 seen 25600 loss 2.6755 lr 1.97e-04 ema 0.999650 elapsed 227.6s\n"
          ]
        },
        {
          "output_type": "stream",
          "name": "stdout",
          "text": [
            "Ep 18/35 it 600 seen 38400 loss 1.6569 lr 1.97e-04 ema 0.999650 elapsed 341.0s\n"
          ]
        },
        {
          "output_type": "stream",
          "name": "stdout",
          "text": [
            "Ep 18/35 it 800 seen 51200 loss 3.4843 lr 1.97e-04 ema 0.999650 elapsed 453.9s\n"
          ]
        },
        {
          "output_type": "stream",
          "name": "stdout",
          "text": [
            "Ep 18/35 it 1000 seen 64000 loss 3.7019 lr 1.97e-04 ema 0.999650 elapsed 567.2s\n"
          ]
        },
        {
          "output_type": "stream",
          "name": "stdout",
          "text": [
            "Ep 18/35 it 1200 seen 76800 loss 2.9957 lr 1.97e-04 ema 0.999650 elapsed 679.7s\n"
          ]
        },
        {
          "output_type": "stream",
          "name": "stdout",
          "text": [
            "Ep 18/35 it 1400 seen 89600 loss 3.3761 lr 1.97e-04 ema 0.999650 elapsed 793.3s\n"
          ]
        },
        {
          "output_type": "stream",
          "name": "stdout",
          "text": [
            "Ep 18/35 it 1600 seen 102400 loss 3.4619 lr 1.97e-04 ema 0.999650 elapsed 906.1s\n"
          ]
        },
        {
          "output_type": "stream",
          "name": "stdout",
          "text": [
            "Ep 18/35 it 1800 seen 115200 loss 3.7320 lr 1.97e-04 ema 0.999650 elapsed 1019.4s\n"
          ]
        },
        {
          "output_type": "stream",
          "name": "stdout",
          "text": [
            "Ep 18/35 it 2000 seen 128000 loss 1.8891 lr 1.97e-04 ema 0.999650 elapsed 1132.7s\n"
          ]
        },
        {
          "output_type": "stream",
          "name": "stdout",
          "text": [
            "Ep 18/35 it 2200 seen 140800 loss 1.7909 lr 1.97e-04 ema 0.999650 elapsed 1245.3s\n"
          ]
        },
        {
          "output_type": "stream",
          "name": "stdout",
          "text": [
            "Ep 18/35 it 2400 seen 153600 loss 3.4906 lr 1.97e-04 ema 0.999650 elapsed 1358.9s\n"
          ]
        },
        {
          "output_type": "stream",
          "name": "stdout",
          "text": [
            "Ep 18/35 it 2600 seen 166400 loss 1.9359 lr 1.97e-04 ema 0.999650 elapsed 1472.2s\n"
          ]
        },
        {
          "output_type": "stream",
          "name": "stdout",
          "text": [
            "Ep 18/35 it 2800 seen 179200 loss 1.4644 lr 1.97e-04 ema 0.999650 elapsed 1584.8s\n"
          ]
        },
        {
          "output_type": "stream",
          "name": "stdout",
          "text": [
            "Ep 18/35 it 3000 seen 192000 loss 3.5482 lr 1.97e-04 ema 0.999650 elapsed 1698.2s\n"
          ]
        },
        {
          "output_type": "stream",
          "name": "stdout",
          "text": [
            "Ep 18/35 it 3200 seen 204800 loss 1.9409 lr 1.97e-04 ema 0.999650 elapsed 1810.9s\n"
          ]
        },
        {
          "output_type": "stream",
          "name": "stdout",
          "text": [
            "Ep 18/35 it 3400 seen 217600 loss 1.7371 lr 1.97e-04 ema 0.999650 elapsed 1924.3s\n"
          ]
        },
        {
          "output_type": "stream",
          "name": "stdout",
          "text": [
            "Epoch 18 val_acc(EMA) 0.8263 ep_time 1953.3s total 35225.4s\n"
          ]
        },
        {
          "output_type": "stream",
          "name": "stdout",
          "text": [
            "Saved EMA best to effv2m_320_ema.pth\n"
          ]
        },
        {
          "output_type": "stream",
          "name": "stdout",
          "text": [
            "Ep 19/35 it 200 seen 12800 loss 1.6387 lr 1.82e-04 ema 0.999659 elapsed 114.8s\n"
          ]
        },
        {
          "output_type": "stream",
          "name": "stdout",
          "text": [
            "Ep 19/35 it 400 seen 25600 loss 1.7075 lr 1.82e-04 ema 0.999659 elapsed 227.8s\n"
          ]
        },
        {
          "output_type": "stream",
          "name": "stdout",
          "text": [
            "Ep 19/35 it 600 seen 38400 loss 3.6655 lr 1.82e-04 ema 0.999659 elapsed 341.2s\n"
          ]
        },
        {
          "output_type": "stream",
          "name": "stdout",
          "text": [
            "Ep 19/35 it 800 seen 51200 loss 2.4727 lr 1.82e-04 ema 0.999659 elapsed 453.8s\n"
          ]
        },
        {
          "output_type": "stream",
          "name": "stdout",
          "text": [
            "Ep 19/35 it 1000 seen 64000 loss 3.4182 lr 1.82e-04 ema 0.999659 elapsed 567.5s\n"
          ]
        },
        {
          "output_type": "stream",
          "name": "stdout",
          "text": [
            "Ep 19/35 it 1200 seen 76800 loss 2.1189 lr 1.82e-04 ema 0.999659 elapsed 680.1s\n"
          ]
        },
        {
          "output_type": "stream",
          "name": "stdout",
          "text": [
            "Ep 19/35 it 1400 seen 89600 loss 2.0583 lr 1.82e-04 ema 0.999659 elapsed 793.7s\n"
          ]
        },
        {
          "output_type": "stream",
          "name": "stdout",
          "text": [
            "Ep 19/35 it 1600 seen 102400 loss 1.8109 lr 1.82e-04 ema 0.999659 elapsed 907.2s\n"
          ]
        },
        {
          "output_type": "stream",
          "name": "stdout",
          "text": [
            "Ep 19/35 it 1800 seen 115200 loss 2.2743 lr 1.82e-04 ema 0.999659 elapsed 1019.8s\n"
          ]
        },
        {
          "output_type": "stream",
          "name": "stdout",
          "text": [
            "Ep 19/35 it 2000 seen 128000 loss 2.1465 lr 1.82e-04 ema 0.999659 elapsed 1133.4s\n"
          ]
        },
        {
          "output_type": "stream",
          "name": "stdout",
          "text": [
            "Ep 19/35 it 2200 seen 140800 loss 2.9512 lr 1.82e-04 ema 0.999659 elapsed 1246.2s\n"
          ]
        },
        {
          "output_type": "stream",
          "name": "stdout",
          "text": [
            "Ep 19/35 it 2400 seen 153600 loss 3.5792 lr 1.82e-04 ema 0.999659 elapsed 1359.8s\n"
          ]
        },
        {
          "output_type": "stream",
          "name": "stdout",
          "text": [
            "Ep 19/35 it 2600 seen 166400 loss 3.2093 lr 1.82e-04 ema 0.999659 elapsed 1473.6s\n"
          ]
        },
        {
          "output_type": "stream",
          "name": "stdout",
          "text": [
            "Ep 19/35 it 2800 seen 179200 loss 3.6112 lr 1.82e-04 ema 0.999659 elapsed 1586.3s\n"
          ]
        },
        {
          "output_type": "stream",
          "name": "stdout",
          "text": [
            "Ep 19/35 it 3000 seen 192000 loss 3.3841 lr 1.82e-04 ema 0.999659 elapsed 1699.9s\n"
          ]
        },
        {
          "output_type": "stream",
          "name": "stdout",
          "text": [
            "Ep 19/35 it 3200 seen 204800 loss 1.8289 lr 1.82e-04 ema 0.999659 elapsed 1813.4s\n"
          ]
        },
        {
          "output_type": "stream",
          "name": "stdout",
          "text": [
            "Ep 19/35 it 3400 seen 217600 loss 3.1599 lr 1.82e-04 ema 0.999659 elapsed 1926.2s\n"
          ]
        },
        {
          "output_type": "stream",
          "name": "stdout",
          "text": [
            "Epoch 19 val_acc(EMA) 0.8277 ep_time 1955.2s total 37184.7s\n"
          ]
        },
        {
          "output_type": "stream",
          "name": "stdout",
          "text": [
            "Saved EMA best to effv2m_320_ema.pth\n"
          ]
        },
        {
          "output_type": "stream",
          "name": "stdout",
          "text": [
            "Ep 20/35 it 200 seen 12800 loss 1.7888 lr 1.66e-04 ema 0.999668 elapsed 115.0s\n"
          ]
        },
        {
          "output_type": "stream",
          "name": "stdout",
          "text": [
            "Ep 20/35 it 400 seen 25600 loss 1.6857 lr 1.66e-04 ema 0.999668 elapsed 227.7s\n"
          ]
        },
        {
          "output_type": "stream",
          "name": "stdout",
          "text": [
            "Ep 20/35 it 600 seen 38400 loss 3.5817 lr 1.66e-04 ema 0.999668 elapsed 341.5s\n"
          ]
        },
        {
          "output_type": "stream",
          "name": "stdout",
          "text": [
            "Ep 20/35 it 800 seen 51200 loss 3.4971 lr 1.66e-04 ema 0.999668 elapsed 455.1s\n"
          ]
        },
        {
          "output_type": "stream",
          "name": "stdout",
          "text": [
            "Ep 20/35 it 1000 seen 64000 loss 3.1440 lr 1.66e-04 ema 0.999668 elapsed 568.0s\n"
          ]
        },
        {
          "output_type": "stream",
          "name": "stdout",
          "text": [
            "Ep 20/35 it 1200 seen 76800 loss 1.6909 lr 1.66e-04 ema 0.999668 elapsed 681.7s\n"
          ]
        },
        {
          "output_type": "stream",
          "name": "stdout",
          "text": [
            "Ep 20/35 it 1400 seen 89600 loss 1.5648 lr 1.66e-04 ema 0.999668 elapsed 795.3s\n"
          ]
        },
        {
          "output_type": "stream",
          "name": "stdout",
          "text": [
            "Ep 20/35 it 1600 seen 102400 loss 2.5638 lr 1.66e-04 ema 0.999668 elapsed 908.1s\n"
          ]
        },
        {
          "output_type": "stream",
          "name": "stdout",
          "text": [
            "Ep 20/35 it 1800 seen 115200 loss 2.0217 lr 1.66e-04 ema 0.999668 elapsed 1021.8s\n"
          ]
        },
        {
          "output_type": "stream",
          "name": "stdout",
          "text": [
            "Ep 20/35 it 2000 seen 128000 loss 4.7377 lr 1.66e-04 ema 0.999668 elapsed 1134.7s\n"
          ]
        },
        {
          "output_type": "stream",
          "name": "stdout",
          "text": [
            "Ep 20/35 it 2200 seen 140800 loss 3.3271 lr 1.66e-04 ema 0.999668 elapsed 1248.5s\n"
          ]
        },
        {
          "output_type": "stream",
          "name": "stdout",
          "text": [
            "Ep 20/35 it 2400 seen 153600 loss 3.3036 lr 1.66e-04 ema 0.999668 elapsed 1361.0s\n"
          ]
        },
        {
          "output_type": "stream",
          "name": "stdout",
          "text": [
            "Ep 20/35 it 2600 seen 166400 loss 1.6438 lr 1.66e-04 ema 0.999668 elapsed 1474.6s\n"
          ]
        },
        {
          "output_type": "stream",
          "name": "stdout",
          "text": [
            "Ep 20/35 it 2800 seen 179200 loss 2.9069 lr 1.66e-04 ema 0.999668 elapsed 1588.2s\n"
          ]
        },
        {
          "output_type": "stream",
          "name": "stdout",
          "text": [
            "Ep 20/35 it 3000 seen 192000 loss 1.6370 lr 1.66e-04 ema 0.999668 elapsed 1701.1s\n"
          ]
        },
        {
          "output_type": "stream",
          "name": "stdout",
          "text": [
            "Ep 20/35 it 3200 seen 204800 loss 3.5830 lr 1.66e-04 ema 0.999668 elapsed 1814.7s\n"
          ]
        },
        {
          "output_type": "stream",
          "name": "stdout",
          "text": [
            "Ep 20/35 it 3400 seen 217600 loss 1.5212 lr 1.66e-04 ema 0.999668 elapsed 1927.1s\n"
          ]
        },
        {
          "output_type": "stream",
          "name": "stdout",
          "text": [
            "Epoch 20 val_acc(EMA) 0.8295 ep_time 1956.1s total 39142.8s\n"
          ]
        },
        {
          "output_type": "stream",
          "name": "stdout",
          "text": [
            "Saved EMA best to effv2m_320_ema.pth\n"
          ]
        },
        {
          "output_type": "stream",
          "name": "stdout",
          "text": [
            "Saved periodic EMA to effv2m_320_ema_ep20.pth\n"
          ]
        },
        {
          "output_type": "stream",
          "name": "stdout",
          "text": [
            "Ep 21/35 it 200 seen 12800 loss 3.1852 lr 1.50e-04 ema 0.999676 elapsed 115.0s\n"
          ]
        },
        {
          "output_type": "stream",
          "name": "stdout",
          "text": [
            "Ep 21/35 it 400 seen 25600 loss 1.7841 lr 1.50e-04 ema 0.999676 elapsed 228.0s\n"
          ]
        },
        {
          "output_type": "stream",
          "name": "stdout",
          "text": [
            "Ep 21/35 it 600 seen 38400 loss 1.5528 lr 1.50e-04 ema 0.999676 elapsed 341.5s\n"
          ]
        },
        {
          "output_type": "stream",
          "name": "stdout",
          "text": [
            "Ep 21/35 it 800 seen 51200 loss 1.5762 lr 1.50e-04 ema 0.999676 elapsed 454.1s\n"
          ]
        },
        {
          "output_type": "stream",
          "name": "stdout",
          "text": [
            "Ep 21/35 it 1000 seen 64000 loss 1.5722 lr 1.50e-04 ema 0.999676 elapsed 567.9s\n"
          ]
        },
        {
          "output_type": "stream",
          "name": "stdout",
          "text": [
            "Ep 21/35 it 1200 seen 76800 loss 2.5107 lr 1.50e-04 ema 0.999676 elapsed 681.4s\n"
          ]
        },
        {
          "output_type": "stream",
          "name": "stdout",
          "text": [
            "Ep 21/35 it 1400 seen 89600 loss 1.4472 lr 1.50e-04 ema 0.999676 elapsed 793.7s\n"
          ]
        },
        {
          "output_type": "stream",
          "name": "stdout",
          "text": [
            "Ep 21/35 it 1600 seen 102400 loss 4.2933 lr 1.50e-04 ema 0.999676 elapsed 907.2s\n"
          ]
        },
        {
          "output_type": "stream",
          "name": "stdout",
          "text": [
            "Ep 21/35 it 1800 seen 115200 loss 1.6673 lr 1.50e-04 ema 0.999676 elapsed 1019.9s\n"
          ]
        },
        {
          "output_type": "stream",
          "name": "stdout",
          "text": [
            "Ep 21/35 it 2000 seen 128000 loss 1.6748 lr 1.50e-04 ema 0.999676 elapsed 1133.7s\n"
          ]
        },
        {
          "output_type": "stream",
          "name": "stdout",
          "text": [
            "Ep 21/35 it 2200 seen 140800 loss 3.5652 lr 1.50e-04 ema 0.999676 elapsed 1247.3s\n"
          ]
        },
        {
          "output_type": "stream",
          "name": "stdout",
          "text": [
            "Ep 21/35 it 2400 seen 153600 loss 2.0351 lr 1.50e-04 ema 0.999676 elapsed 1360.1s\n"
          ]
        },
        {
          "output_type": "stream",
          "name": "stdout",
          "text": [
            "Ep 21/35 it 2600 seen 166400 loss 1.5260 lr 1.50e-04 ema 0.999676 elapsed 1473.8s\n"
          ]
        },
        {
          "output_type": "stream",
          "name": "stdout",
          "text": [
            "Ep 21/35 it 2800 seen 179200 loss 2.1133 lr 1.50e-04 ema 0.999676 elapsed 1586.5s\n"
          ]
        },
        {
          "output_type": "stream",
          "name": "stdout",
          "text": [
            "Ep 21/35 it 3000 seen 192000 loss 2.1102 lr 1.50e-04 ema 0.999676 elapsed 1699.6s\n"
          ]
        },
        {
          "output_type": "stream",
          "name": "stdout",
          "text": [
            "Ep 21/35 it 3200 seen 204800 loss 3.4510 lr 1.50e-04 ema 0.999676 elapsed 1813.2s\n"
          ]
        },
        {
          "output_type": "stream",
          "name": "stdout",
          "text": [
            "Ep 21/35 it 3400 seen 217600 loss 2.9254 lr 1.50e-04 ema 0.999676 elapsed 1925.7s\n"
          ]
        },
        {
          "output_type": "stream",
          "name": "stdout",
          "text": [
            "Epoch 21 val_acc(EMA) 0.8306 ep_time 1954.6s total 41101.4s\n"
          ]
        },
        {
          "output_type": "stream",
          "name": "stdout",
          "text": [
            "Saved EMA best to effv2m_320_ema.pth\n"
          ]
        },
        {
          "output_type": "stream",
          "name": "stdout",
          "text": [
            "Ep 22/35 it 200 seen 12800 loss 2.5500 lr 1.35e-04 ema 0.999685 elapsed 114.8s\n"
          ]
        },
        {
          "output_type": "stream",
          "name": "stdout",
          "text": [
            "Ep 22/35 it 400 seen 25600 loss 1.7718 lr 1.35e-04 ema 0.999685 elapsed 227.5s\n"
          ]
        },
        {
          "output_type": "stream",
          "name": "stdout",
          "text": [
            "Ep 22/35 it 600 seen 38400 loss 4.1240 lr 1.35e-04 ema 0.999685 elapsed 341.6s\n"
          ]
        },
        {
          "output_type": "stream",
          "name": "stdout",
          "text": [
            "Ep 22/35 it 800 seen 51200 loss 1.5318 lr 1.35e-04 ema 0.999685 elapsed 454.5s\n"
          ]
        },
        {
          "output_type": "stream",
          "name": "stdout",
          "text": [
            "Ep 22/35 it 1000 seen 64000 loss 1.5888 lr 1.35e-04 ema 0.999685 elapsed 567.8s\n"
          ]
        },
        {
          "output_type": "stream",
          "name": "stdout",
          "text": [
            "Ep 22/35 it 1200 seen 76800 loss 1.5956 lr 1.35e-04 ema 0.999685 elapsed 680.2s\n"
          ]
        },
        {
          "output_type": "stream",
          "name": "stdout",
          "text": [
            "Ep 22/35 it 1400 seen 89600 loss 1.7276 lr 1.35e-04 ema 0.999685 elapsed 794.2s\n"
          ]
        },
        {
          "output_type": "stream",
          "name": "stdout",
          "text": [
            "Ep 22/35 it 1600 seen 102400 loss 2.7838 lr 1.35e-04 ema 0.999685 elapsed 907.9s\n"
          ]
        },
        {
          "output_type": "stream",
          "name": "stdout",
          "text": [
            "Ep 22/35 it 1800 seen 115200 loss 4.0614 lr 1.35e-04 ema 0.999685 elapsed 1020.3s\n"
          ]
        },
        {
          "output_type": "stream",
          "name": "stdout",
          "text": [
            "Ep 22/35 it 2000 seen 128000 loss 1.5210 lr 1.35e-04 ema 0.999685 elapsed 1133.9s\n"
          ]
        },
        {
          "output_type": "stream",
          "name": "stdout",
          "text": [
            "Ep 22/35 it 2200 seen 140800 loss 1.4935 lr 1.35e-04 ema 0.999685 elapsed 1247.7s\n"
          ]
        },
        {
          "output_type": "stream",
          "name": "stdout",
          "text": [
            "Ep 22/35 it 2400 seen 153600 loss 1.6186 lr 1.35e-04 ema 0.999685 elapsed 1360.4s\n"
          ]
        },
        {
          "output_type": "stream",
          "name": "stdout",
          "text": [
            "Ep 22/35 it 2600 seen 166400 loss 1.6308 lr 1.35e-04 ema 0.999685 elapsed 1473.7s\n"
          ]
        },
        {
          "output_type": "stream",
          "name": "stdout",
          "text": [
            "Ep 22/35 it 2800 seen 179200 loss 1.6225 lr 1.35e-04 ema 0.999685 elapsed 1586.1s\n"
          ]
        },
        {
          "output_type": "stream",
          "name": "stdout",
          "text": [
            "Ep 22/35 it 3000 seen 192000 loss 3.5487 lr 1.35e-04 ema 0.999685 elapsed 1699.8s\n"
          ]
        },
        {
          "output_type": "stream",
          "name": "stdout",
          "text": [
            "Ep 22/35 it 3200 seen 204800 loss 3.2331 lr 1.35e-04 ema 0.999685 elapsed 1813.6s\n"
          ]
        },
        {
          "output_type": "stream",
          "name": "stdout",
          "text": [
            "Ep 22/35 it 3400 seen 217600 loss 2.1693 lr 1.35e-04 ema 0.999685 elapsed 1926.1s\n"
          ]
        },
        {
          "output_type": "stream",
          "name": "stdout",
          "text": [
            "Epoch 22 val_acc(EMA) 0.8340 ep_time 1954.9s total 43058.1s\n"
          ]
        },
        {
          "output_type": "stream",
          "name": "stdout",
          "text": [
            "Saved EMA best to effv2m_320_ema.pth\n"
          ]
        },
        {
          "output_type": "stream",
          "name": "stdout",
          "text": [
            "Ep 23/35 it 200 seen 12800 loss 1.3607 lr 1.19e-04 ema 0.999694 elapsed 114.8s\n"
          ]
        },
        {
          "output_type": "stream",
          "name": "stdout",
          "text": [
            "Ep 23/35 it 400 seen 25600 loss 2.9662 lr 1.19e-04 ema 0.999694 elapsed 228.8s\n"
          ]
        },
        {
          "output_type": "stream",
          "name": "stdout",
          "text": [
            "Ep 23/35 it 600 seen 38400 loss 3.2277 lr 1.19e-04 ema 0.999694 elapsed 341.7s\n"
          ]
        },
        {
          "output_type": "stream",
          "name": "stdout",
          "text": [
            "Ep 23/35 it 800 seen 51200 loss 2.1880 lr 1.19e-04 ema 0.999694 elapsed 455.1s\n"
          ]
        },
        {
          "output_type": "stream",
          "name": "stdout",
          "text": [
            "Ep 23/35 it 1000 seen 64000 loss 1.4443 lr 1.19e-04 ema 0.999694 elapsed 568.0s\n"
          ]
        },
        {
          "output_type": "stream",
          "name": "stdout",
          "text": [
            "Ep 23/35 it 1200 seen 76800 loss 1.5785 lr 1.19e-04 ema 0.999694 elapsed 682.0s\n"
          ]
        },
        {
          "output_type": "stream",
          "name": "stdout",
          "text": [
            "Ep 23/35 it 1400 seen 89600 loss 1.5061 lr 1.19e-04 ema 0.999694 elapsed 795.6s\n"
          ]
        },
        {
          "output_type": "stream",
          "name": "stdout",
          "text": [
            "Ep 23/35 it 1600 seen 102400 loss 1.9141 lr 1.19e-04 ema 0.999694 elapsed 908.2s\n"
          ]
        },
        {
          "output_type": "stream",
          "name": "stdout",
          "text": [
            "Ep 23/35 it 1800 seen 115200 loss 1.5142 lr 1.19e-04 ema 0.999694 elapsed 1021.7s\n"
          ]
        },
        {
          "output_type": "stream",
          "name": "stdout",
          "text": [
            "Ep 23/35 it 2000 seen 128000 loss 2.0645 lr 1.19e-04 ema 0.999694 elapsed 1135.7s\n"
          ]
        },
        {
          "output_type": "stream",
          "name": "stdout",
          "text": [
            "Ep 23/35 it 2200 seen 140800 loss 3.8599 lr 1.19e-04 ema 0.999694 elapsed 1248.4s\n"
          ]
        },
        {
          "output_type": "stream",
          "name": "stdout",
          "text": [
            "Ep 23/35 it 2400 seen 153600 loss 3.5283 lr 1.19e-04 ema 0.999694 elapsed 1361.7s\n"
          ]
        },
        {
          "output_type": "stream",
          "name": "stdout",
          "text": [
            "Ep 23/35 it 2600 seen 166400 loss 1.5588 lr 1.19e-04 ema 0.999694 elapsed 1474.5s\n"
          ]
        },
        {
          "output_type": "stream",
          "name": "stdout",
          "text": [
            "Ep 23/35 it 2800 seen 179200 loss 1.6875 lr 1.19e-04 ema 0.999694 elapsed 1588.2s\n"
          ]
        },
        {
          "output_type": "stream",
          "name": "stdout",
          "text": [
            "Ep 23/35 it 3000 seen 192000 loss 1.4477 lr 1.19e-04 ema 0.999694 elapsed 1701.4s\n"
          ]
        },
        {
          "output_type": "stream",
          "name": "stdout",
          "text": [
            "Ep 23/35 it 3200 seen 204800 loss 3.3090 lr 1.19e-04 ema 0.999694 elapsed 1814.0s\n"
          ]
        },
        {
          "output_type": "stream",
          "name": "stdout",
          "text": [
            "Ep 23/35 it 3400 seen 217600 loss 1.7276 lr 1.19e-04 ema 0.999694 elapsed 1927.5s\n"
          ]
        },
        {
          "output_type": "stream",
          "name": "stdout",
          "text": [
            "Epoch 23 val_acc(EMA) 0.8389 ep_time 1956.4s total 45016.5s\n"
          ]
        },
        {
          "output_type": "stream",
          "name": "stdout",
          "text": [
            "Saved EMA best to effv2m_320_ema.pth\n"
          ]
        },
        {
          "output_type": "stream",
          "name": "stdout",
          "text": [
            "Ep 24/35 it 200 seen 12800 loss 3.1454 lr 1.04e-04 ema 0.999703 elapsed 113.9s\n"
          ]
        },
        {
          "output_type": "stream",
          "name": "stdout",
          "text": [
            "Ep 24/35 it 400 seen 25600 loss 1.5950 lr 1.04e-04 ema 0.999703 elapsed 227.5s\n"
          ]
        },
        {
          "output_type": "stream",
          "name": "stdout",
          "text": [
            "Ep 24/35 it 600 seen 38400 loss 2.0424 lr 1.04e-04 ema 0.999703 elapsed 340.2s\n"
          ]
        },
        {
          "output_type": "stream",
          "name": "stdout",
          "text": [
            "Ep 24/35 it 800 seen 51200 loss 3.3313 lr 1.04e-04 ema 0.999703 elapsed 454.1s\n"
          ]
        },
        {
          "output_type": "stream",
          "name": "stdout",
          "text": [
            "Ep 24/35 it 1000 seen 64000 loss 1.5579 lr 1.04e-04 ema 0.999703 elapsed 567.7s\n"
          ]
        },
        {
          "output_type": "stream",
          "name": "stdout",
          "text": [
            "Ep 24/35 it 1200 seen 76800 loss 1.5444 lr 1.04e-04 ema 0.999703 elapsed 680.3s\n"
          ]
        },
        {
          "output_type": "stream",
          "name": "stdout",
          "text": [
            "Ep 24/35 it 1400 seen 89600 loss 1.5521 lr 1.04e-04 ema 0.999703 elapsed 794.0s\n"
          ]
        },
        {
          "output_type": "stream",
          "name": "stdout",
          "text": [
            "Ep 24/35 it 1600 seen 102400 loss 1.5950 lr 1.04e-04 ema 0.999703 elapsed 907.1s\n"
          ]
        },
        {
          "output_type": "stream",
          "name": "stdout",
          "text": [
            "Ep 24/35 it 1800 seen 115200 loss 1.6964 lr 1.04e-04 ema 0.999703 elapsed 1020.8s\n"
          ]
        },
        {
          "output_type": "stream",
          "name": "stdout",
          "text": [
            "Ep 24/35 it 2000 seen 128000 loss 1.6451 lr 1.04e-04 ema 0.999703 elapsed 1133.4s\n"
          ]
        },
        {
          "output_type": "stream",
          "name": "stdout",
          "text": [
            "Ep 24/35 it 2200 seen 140800 loss 1.2724 lr 1.04e-04 ema 0.999703 elapsed 1247.3s\n"
          ]
        },
        {
          "output_type": "stream",
          "name": "stdout",
          "text": [
            "Ep 24/35 it 2400 seen 153600 loss 2.7573 lr 1.04e-04 ema 0.999703 elapsed 1361.1s\n"
          ]
        },
        {
          "output_type": "stream",
          "name": "stdout",
          "text": [
            "Ep 24/35 it 2600 seen 166400 loss 1.5496 lr 1.04e-04 ema 0.999703 elapsed 1473.8s\n"
          ]
        },
        {
          "output_type": "stream",
          "name": "stdout",
          "text": [
            "Ep 24/35 it 2800 seen 179200 loss 1.8920 lr 1.04e-04 ema 0.999703 elapsed 1587.3s\n"
          ]
        },
        {
          "output_type": "stream",
          "name": "stdout",
          "text": [
            "Ep 24/35 it 3000 seen 192000 loss 1.5026 lr 1.04e-04 ema 0.999703 elapsed 1700.1s\n"
          ]
        },
        {
          "output_type": "stream",
          "name": "stdout",
          "text": [
            "Ep 24/35 it 3200 seen 204800 loss 3.4564 lr 1.04e-04 ema 0.999703 elapsed 1814.1s\n"
          ]
        },
        {
          "output_type": "stream",
          "name": "stdout",
          "text": [
            "Ep 24/35 it 3400 seen 217600 loss 1.5738 lr 1.04e-04 ema 0.999703 elapsed 1927.5s\n"
          ]
        },
        {
          "output_type": "stream",
          "name": "stdout",
          "text": [
            "Epoch 24 val_acc(EMA) 0.8410 ep_time 1956.4s total 46976.4s\n"
          ]
        },
        {
          "output_type": "stream",
          "name": "stdout",
          "text": [
            "Saved EMA best to effv2m_320_ema.pth\n"
          ]
        },
        {
          "output_type": "stream",
          "name": "stdout",
          "text": [
            "Ep 25/35 it 200 seen 12800 loss 1.4416 lr 8.97e-05 ema 0.999712 elapsed 113.9s\n"
          ]
        },
        {
          "output_type": "stream",
          "name": "stdout",
          "text": [
            "Ep 25/35 it 400 seen 25600 loss 3.0289 lr 8.97e-05 ema 0.999712 elapsed 228.1s\n"
          ]
        },
        {
          "output_type": "stream",
          "name": "stdout",
          "text": [
            "Ep 25/35 it 600 seen 38400 loss 1.5816 lr 8.97e-05 ema 0.999712 elapsed 341.7s\n"
          ]
        },
        {
          "output_type": "stream",
          "name": "stdout",
          "text": [
            "Ep 25/35 it 800 seen 51200 loss 3.3126 lr 8.97e-05 ema 0.999712 elapsed 454.1s\n"
          ]
        },
        {
          "output_type": "stream",
          "name": "stdout",
          "text": [
            "Ep 25/35 it 1000 seen 64000 loss 3.2917 lr 8.97e-05 ema 0.999712 elapsed 567.8s\n"
          ]
        },
        {
          "output_type": "stream",
          "name": "stdout",
          "text": [
            "Ep 25/35 it 1200 seen 76800 loss 1.6987 lr 8.97e-05 ema 0.999712 elapsed 681.8s\n"
          ]
        },
        {
          "output_type": "stream",
          "name": "stdout",
          "text": [
            "Ep 25/35 it 1400 seen 89600 loss 1.8814 lr 8.97e-05 ema 0.999712 elapsed 794.2s\n"
          ]
        },
        {
          "output_type": "stream",
          "name": "stdout",
          "text": [
            "Ep 25/35 it 1600 seen 102400 loss 1.6261 lr 8.97e-05 ema 0.999712 elapsed 907.7s\n"
          ]
        },
        {
          "output_type": "stream",
          "name": "stdout",
          "text": [
            "Ep 25/35 it 1800 seen 115200 loss 2.6828 lr 8.97e-05 ema 0.999712 elapsed 1020.4s\n"
          ]
        },
        {
          "output_type": "stream",
          "name": "stdout",
          "text": [
            "Ep 25/35 it 2000 seen 128000 loss 1.7641 lr 8.97e-05 ema 0.999712 elapsed 1133.9s\n"
          ]
        },
        {
          "output_type": "stream",
          "name": "stdout",
          "text": [
            "Ep 25/35 it 2200 seen 140800 loss 1.6940 lr 8.97e-05 ema 0.999712 elapsed 1247.6s\n"
          ]
        },
        {
          "output_type": "stream",
          "name": "stdout",
          "text": [
            "Ep 25/35 it 2400 seen 153600 loss 3.0430 lr 8.97e-05 ema 0.999712 elapsed 1360.0s\n"
          ]
        },
        {
          "output_type": "stream",
          "name": "stdout",
          "text": [
            "Ep 25/35 it 2600 seen 166400 loss 1.6212 lr 8.97e-05 ema 0.999712 elapsed 1473.5s\n"
          ]
        },
        {
          "output_type": "stream",
          "name": "stdout",
          "text": [
            "Ep 25/35 it 2800 seen 179200 loss 1.4278 lr 8.97e-05 ema 0.999712 elapsed 1586.1s\n"
          ]
        },
        {
          "output_type": "stream",
          "name": "stdout",
          "text": [
            "Ep 25/35 it 3000 seen 192000 loss 4.1322 lr 8.97e-05 ema 0.999712 elapsed 1699.6s\n"
          ]
        },
        {
          "output_type": "stream",
          "name": "stdout",
          "text": [
            "Ep 25/35 it 3200 seen 204800 loss 1.6983 lr 8.97e-05 ema 0.999712 elapsed 1812.4s\n"
          ]
        },
        {
          "output_type": "stream",
          "name": "stdout",
          "text": [
            "Ep 25/35 it 3400 seen 217600 loss 1.5919 lr 8.97e-05 ema 0.999712 elapsed 1925.9s\n"
          ]
        },
        {
          "output_type": "stream",
          "name": "stdout",
          "text": [
            "Epoch 25 val_acc(EMA) 0.8415 ep_time 1954.7s total 48932.9s\n"
          ]
        },
        {
          "output_type": "stream",
          "name": "stdout",
          "text": [
            "Saved EMA best to effv2m_320_ema.pth\n"
          ]
        },
        {
          "output_type": "stream",
          "name": "stdout",
          "text": [
            "Saved periodic EMA to effv2m_320_ema_ep25.pth\n"
          ]
        },
        {
          "output_type": "stream",
          "name": "stdout",
          "text": [
            "Ep 26/35 it 200 seen 12800 loss 1.5083 lr 7.58e-05 ema 0.999721 elapsed 114.8s\n"
          ]
        },
        {
          "output_type": "stream",
          "name": "stdout",
          "text": [
            "Ep 26/35 it 400 seen 25600 loss 1.4921 lr 7.58e-05 ema 0.999721 elapsed 227.5s\n"
          ]
        },
        {
          "output_type": "stream",
          "name": "stdout",
          "text": [
            "Ep 26/35 it 600 seen 38400 loss 3.8491 lr 7.58e-05 ema 0.999721 elapsed 341.3s\n"
          ]
        },
        {
          "output_type": "stream",
          "name": "stdout",
          "text": [
            "Ep 26/35 it 800 seen 51200 loss 1.5575 lr 7.58e-05 ema 0.999721 elapsed 454.8s\n"
          ]
        },
        {
          "output_type": "stream",
          "name": "stdout",
          "text": [
            "Ep 26/35 it 1000 seen 64000 loss 2.7491 lr 7.58e-05 ema 0.999721 elapsed 567.3s\n"
          ]
        },
        {
          "output_type": "stream",
          "name": "stdout",
          "text": [
            "Ep 26/35 it 1200 seen 76800 loss 3.3743 lr 7.58e-05 ema 0.999721 elapsed 680.7s\n"
          ]
        },
        {
          "output_type": "stream",
          "name": "stdout",
          "text": [
            "Ep 26/35 it 1400 seen 89600 loss 1.4896 lr 7.58e-05 ema 0.999721 elapsed 793.6s\n"
          ]
        },
        {
          "output_type": "stream",
          "name": "stdout",
          "text": [
            "Ep 26/35 it 1600 seen 102400 loss 3.4119 lr 7.58e-05 ema 0.999721 elapsed 906.9s\n"
          ]
        },
        {
          "output_type": "stream",
          "name": "stdout",
          "text": [
            "Ep 26/35 it 1800 seen 115200 loss 2.9995 lr 7.58e-05 ema 0.999721 elapsed 1020.3s\n"
          ]
        },
        {
          "output_type": "stream",
          "name": "stdout",
          "text": [
            "Ep 26/35 it 2000 seen 128000 loss 1.7399 lr 7.58e-05 ema 0.999721 elapsed 1132.6s\n"
          ]
        },
        {
          "output_type": "stream",
          "name": "stdout",
          "text": [
            "Ep 26/35 it 2200 seen 140800 loss 3.5571 lr 7.58e-05 ema 0.999721 elapsed 1246.0s\n"
          ]
        },
        {
          "output_type": "stream",
          "name": "stdout",
          "text": [
            "Ep 26/35 it 2400 seen 153600 loss 3.0969 lr 7.58e-05 ema 0.999721 elapsed 1358.4s\n"
          ]
        },
        {
          "output_type": "stream",
          "name": "stdout",
          "text": [
            "Ep 26/35 it 2600 seen 166400 loss 1.4492 lr 7.58e-05 ema 0.999721 elapsed 1471.7s\n"
          ]
        },
        {
          "output_type": "stream",
          "name": "stdout",
          "text": [
            "Ep 26/35 it 2800 seen 179200 loss 1.5395 lr 7.58e-05 ema 0.999721 elapsed 1585.1s\n"
          ]
        },
        {
          "output_type": "stream",
          "name": "stdout",
          "text": [
            "Ep 26/35 it 3000 seen 192000 loss 1.5549 lr 7.58e-05 ema 0.999721 elapsed 1697.5s\n"
          ]
        },
        {
          "output_type": "stream",
          "name": "stdout",
          "text": [
            "Ep 26/35 it 3200 seen 204800 loss 3.2632 lr 7.58e-05 ema 0.999721 elapsed 1810.7s\n"
          ]
        },
        {
          "output_type": "stream",
          "name": "stdout",
          "text": [
            "Ep 26/35 it 3400 seen 217600 loss 2.0356 lr 7.58e-05 ema 0.999721 elapsed 1923.0s\n"
          ]
        },
        {
          "output_type": "stream",
          "name": "stdout",
          "text": [
            "Epoch 26 val_acc(EMA) 0.8418 ep_time 1951.8s total 50886.9s\n"
          ]
        },
        {
          "output_type": "stream",
          "name": "stdout",
          "text": [
            "Saved EMA best to effv2m_320_ema.pth\n"
          ]
        },
        {
          "output_type": "stream",
          "name": "stdout",
          "text": [
            "Ep 27/35 it 200 seen 12800 loss 1.5438 lr 6.26e-05 ema 0.999729 elapsed 115.1s\n"
          ]
        },
        {
          "output_type": "stream",
          "name": "stdout",
          "text": [
            "Ep 27/35 it 400 seen 25600 loss 1.6559 lr 6.26e-05 ema 0.999729 elapsed 228.7s\n"
          ]
        },
        {
          "output_type": "stream",
          "name": "stdout",
          "text": [
            "Ep 27/35 it 600 seen 38400 loss 3.2763 lr 6.26e-05 ema 0.999729 elapsed 341.4s\n"
          ]
        },
        {
          "output_type": "stream",
          "name": "stdout",
          "text": [
            "Ep 27/35 it 800 seen 51200 loss 3.1308 lr 6.26e-05 ema 0.999729 elapsed 455.0s\n"
          ]
        },
        {
          "output_type": "stream",
          "name": "stdout",
          "text": [
            "Ep 27/35 it 1000 seen 64000 loss 2.1644 lr 6.26e-05 ema 0.999729 elapsed 567.9s\n"
          ]
        },
        {
          "output_type": "stream",
          "name": "stdout",
          "text": [
            "Ep 27/35 it 1200 seen 76800 loss 1.3265 lr 6.26e-05 ema 0.999729 elapsed 681.6s\n"
          ]
        },
        {
          "output_type": "stream",
          "name": "stdout",
          "text": [
            "Ep 27/35 it 1400 seen 89600 loss 1.9561 lr 6.26e-05 ema 0.999729 elapsed 794.9s\n"
          ]
        },
        {
          "output_type": "stream",
          "name": "stdout",
          "text": [
            "Ep 27/35 it 1600 seen 102400 loss 1.9471 lr 6.26e-05 ema 0.999729 elapsed 907.6s\n"
          ]
        },
        {
          "output_type": "stream",
          "name": "stdout",
          "text": [
            "Ep 27/35 it 1800 seen 115200 loss 1.4816 lr 6.26e-05 ema 0.999729 elapsed 1021.4s\n"
          ]
        },
        {
          "output_type": "stream",
          "name": "stdout",
          "text": [
            "Ep 27/35 it 2000 seen 128000 loss 1.5987 lr 6.26e-05 ema 0.999729 elapsed 1133.9s\n"
          ]
        },
        {
          "output_type": "stream",
          "name": "stdout",
          "text": [
            "Ep 27/35 it 2200 seen 140800 loss 3.4236 lr 6.26e-05 ema 0.999729 elapsed 1247.3s\n"
          ]
        },
        {
          "output_type": "stream",
          "name": "stdout",
          "text": [
            "Ep 27/35 it 2400 seen 153600 loss 1.4714 lr 6.26e-05 ema 0.999729 elapsed 1361.1s\n"
          ]
        },
        {
          "output_type": "stream",
          "name": "stdout",
          "text": [
            "Ep 27/35 it 2600 seen 166400 loss 2.0113 lr 6.26e-05 ema 0.999729 elapsed 1474.0s\n"
          ]
        },
        {
          "output_type": "stream",
          "name": "stdout",
          "text": [
            "Ep 27/35 it 2800 seen 179200 loss 2.2616 lr 6.26e-05 ema 0.999729 elapsed 1587.6s\n"
          ]
        },
        {
          "output_type": "stream",
          "name": "stdout",
          "text": [
            "Ep 27/35 it 3000 seen 192000 loss 1.4871 lr 6.26e-05 ema 0.999729 elapsed 1700.1s\n"
          ]
        },
        {
          "output_type": "stream",
          "name": "stdout",
          "text": [
            "Ep 27/35 it 3200 seen 204800 loss 4.0478 lr 6.26e-05 ema 0.999729 elapsed 1813.5s\n"
          ]
        },
        {
          "output_type": "stream",
          "name": "stdout",
          "text": [
            "Ep 27/35 it 3400 seen 217600 loss 1.5918 lr 6.26e-05 ema 0.999729 elapsed 1927.1s\n"
          ]
        },
        {
          "output_type": "stream",
          "name": "stdout",
          "text": [
            "Epoch 27 val_acc(EMA) 0.8427 ep_time 1956.2s total 52844.8s\n"
          ]
        },
        {
          "output_type": "stream",
          "name": "stdout",
          "text": [
            "Saved EMA best to effv2m_320_ema.pth\n"
          ]
        },
        {
          "output_type": "stream",
          "name": "stdout",
          "text": [
            "Ep 28/35 it 200 seen 12800 loss 1.3721 lr 5.05e-05 ema 0.999738 elapsed 113.6s\n"
          ]
        },
        {
          "output_type": "stream",
          "name": "stdout",
          "text": [
            "Ep 28/35 it 400 seen 25600 loss 1.4470 lr 5.05e-05 ema 0.999738 elapsed 227.4s\n"
          ]
        },
        {
          "output_type": "stream",
          "name": "stdout",
          "text": [
            "Ep 28/35 it 600 seen 38400 loss 1.3838 lr 5.05e-05 ema 0.999738 elapsed 340.5s\n"
          ]
        },
        {
          "output_type": "stream",
          "name": "stdout",
          "text": [
            "Ep 28/35 it 800 seen 51200 loss 1.3906 lr 5.05e-05 ema 0.999738 elapsed 454.1s\n"
          ]
        },
        {
          "output_type": "stream",
          "name": "stdout",
          "text": [
            "Ep 28/35 it 1000 seen 64000 loss 1.4390 lr 5.05e-05 ema 0.999738 elapsed 567.6s\n"
          ]
        },
        {
          "output_type": "stream",
          "name": "stdout",
          "text": [
            "Ep 28/35 it 1200 seen 76800 loss 1.4825 lr 5.05e-05 ema 0.999738 elapsed 680.4s\n"
          ]
        },
        {
          "output_type": "stream",
          "name": "stdout",
          "text": [
            "Ep 28/35 it 1400 seen 89600 loss 1.4021 lr 5.05e-05 ema 0.999738 elapsed 794.1s\n"
          ]
        },
        {
          "output_type": "stream",
          "name": "stdout",
          "text": [
            "Ep 28/35 it 1600 seen 102400 loss 3.4461 lr 5.05e-05 ema 0.999738 elapsed 906.8s\n"
          ]
        },
        {
          "output_type": "stream",
          "name": "stdout",
          "text": [
            "Ep 28/35 it 1800 seen 115200 loss 3.5624 lr 5.05e-05 ema 0.999738 elapsed 1020.1s\n"
          ]
        },
        {
          "output_type": "stream",
          "name": "stdout",
          "text": [
            "Ep 28/35 it 2000 seen 128000 loss 3.1772 lr 5.05e-05 ema 0.999738 elapsed 1133.7s\n"
          ]
        },
        {
          "output_type": "stream",
          "name": "stdout",
          "text": [
            "Ep 28/35 it 2200 seen 140800 loss 3.7425 lr 5.05e-05 ema 0.999738 elapsed 1246.6s\n"
          ]
        },
        {
          "output_type": "stream",
          "name": "stdout",
          "text": [
            "Ep 28/35 it 2400 seen 153600 loss 2.9554 lr 5.05e-05 ema 0.999738 elapsed 1360.0s\n"
          ]
        },
        {
          "output_type": "stream",
          "name": "stdout",
          "text": [
            "Ep 28/35 it 2600 seen 166400 loss 1.4792 lr 5.05e-05 ema 0.999738 elapsed 1472.5s\n"
          ]
        },
        {
          "output_type": "stream",
          "name": "stdout",
          "text": [
            "Ep 28/35 it 2800 seen 179200 loss 1.3473 lr 5.05e-05 ema 0.999738 elapsed 1586.1s\n"
          ]
        },
        {
          "output_type": "stream",
          "name": "stdout",
          "text": [
            "Ep 28/35 it 3000 seen 192000 loss 2.8003 lr 5.05e-05 ema 0.999738 elapsed 1698.9s\n"
          ]
        },
        {
          "output_type": "stream",
          "name": "stdout",
          "text": [
            "Ep 28/35 it 3200 seen 204800 loss 1.5731 lr 5.05e-05 ema 0.999738 elapsed 1812.3s\n"
          ]
        },
        {
          "output_type": "stream",
          "name": "stdout",
          "text": [
            "Ep 28/35 it 3400 seen 217600 loss 1.3609 lr 5.05e-05 ema 0.999738 elapsed 1925.6s\n"
          ]
        },
        {
          "output_type": "stream",
          "name": "stdout",
          "text": [
            "Epoch 28 val_acc(EMA) 0.8443 ep_time 1954.5s total 54801.4s\n"
          ]
        },
        {
          "output_type": "stream",
          "name": "stdout",
          "text": [
            "Saved EMA best to effv2m_320_ema.pth\n"
          ]
        },
        {
          "output_type": "stream",
          "name": "stdout",
          "text": [
            "Ep 29/35 it 200 seen 12800 loss 1.2487 lr 3.94e-05 ema 0.999747 elapsed 113.8s\n"
          ]
        },
        {
          "output_type": "stream",
          "name": "stdout",
          "text": [
            "Ep 29/35 it 400 seen 25600 loss 1.3174 lr 3.94e-05 ema 0.999747 elapsed 228.3s\n"
          ]
        },
        {
          "output_type": "stream",
          "name": "stdout",
          "text": [
            "Ep 29/35 it 600 seen 38400 loss 1.8952 lr 3.94e-05 ema 0.999747 elapsed 341.9s\n"
          ]
        },
        {
          "output_type": "stream",
          "name": "stdout",
          "text": [
            "Ep 29/35 it 800 seen 51200 loss 1.5017 lr 3.94e-05 ema 0.999747 elapsed 454.5s\n"
          ]
        },
        {
          "output_type": "stream",
          "name": "stdout",
          "text": [
            "Ep 29/35 it 1000 seen 64000 loss 2.4761 lr 3.94e-05 ema 0.999747 elapsed 568.1s\n"
          ]
        },
        {
          "output_type": "stream",
          "name": "stdout",
          "text": [
            "Ep 29/35 it 1200 seen 76800 loss 1.4466 lr 3.94e-05 ema 0.999747 elapsed 681.0s\n"
          ]
        },
        {
          "output_type": "stream",
          "name": "stdout",
          "text": [
            "Ep 29/35 it 1400 seen 89600 loss 1.3637 lr 3.94e-05 ema 0.999747 elapsed 794.4s\n"
          ]
        },
        {
          "output_type": "stream",
          "name": "stdout",
          "text": [
            "Ep 29/35 it 1600 seen 102400 loss 1.6591 lr 3.94e-05 ema 0.999747 elapsed 908.0s\n"
          ]
        },
        {
          "output_type": "stream",
          "name": "stdout",
          "text": [
            "Ep 29/35 it 1800 seen 115200 loss 2.5932 lr 3.94e-05 ema 0.999747 elapsed 1020.9s\n"
          ]
        },
        {
          "output_type": "stream",
          "name": "stdout",
          "text": [
            "Ep 29/35 it 2000 seen 128000 loss 3.1851 lr 3.94e-05 ema 0.999747 elapsed 1134.7s\n"
          ]
        },
        {
          "output_type": "stream",
          "name": "stdout",
          "text": [
            "Ep 29/35 it 2200 seen 140800 loss 1.2808 lr 3.94e-05 ema 0.999747 elapsed 1247.2s\n"
          ]
        },
        {
          "output_type": "stream",
          "name": "stdout",
          "text": [
            "Ep 29/35 it 2400 seen 153600 loss 2.6585 lr 3.94e-05 ema 0.999747 elapsed 1360.6s\n"
          ]
        },
        {
          "output_type": "stream",
          "name": "stdout",
          "text": [
            "Ep 29/35 it 2600 seen 166400 loss 1.5099 lr 3.94e-05 ema 0.999747 elapsed 1473.4s\n"
          ]
        },
        {
          "output_type": "stream",
          "name": "stdout",
          "text": [
            "Ep 29/35 it 2800 seen 179200 loss 1.7738 lr 3.94e-05 ema 0.999747 elapsed 1587.2s\n"
          ]
        },
        {
          "output_type": "stream",
          "name": "stdout",
          "text": [
            "Ep 29/35 it 3000 seen 192000 loss 1.5695 lr 3.94e-05 ema 0.999747 elapsed 1700.8s\n"
          ]
        },
        {
          "output_type": "stream",
          "name": "stdout",
          "text": [
            "Ep 29/35 it 3200 seen 204800 loss 1.2295 lr 3.94e-05 ema 0.999747 elapsed 1813.4s\n"
          ]
        },
        {
          "output_type": "stream",
          "name": "stdout",
          "text": [
            "Ep 29/35 it 3400 seen 217600 loss 1.4840 lr 3.94e-05 ema 0.999747 elapsed 1926.9s\n"
          ]
        },
        {
          "output_type": "stream",
          "name": "stdout",
          "text": [
            "Epoch 29 val_acc(EMA) 0.8461 ep_time 1955.9s total 56759.3s\n"
          ]
        },
        {
          "output_type": "stream",
          "name": "stdout",
          "text": [
            "Saved EMA best to effv2m_320_ema.pth\n"
          ]
        },
        {
          "output_type": "stream",
          "name": "stdout",
          "text": [
            "Ep 30/35 it 200 seen 12800 loss 1.9267 lr 2.96e-05 ema 0.999756 elapsed 115.0s\n"
          ]
        },
        {
          "output_type": "stream",
          "name": "stdout",
          "text": [
            "Ep 30/35 it 400 seen 25600 loss 1.4031 lr 2.96e-05 ema 0.999756 elapsed 227.8s\n"
          ]
        },
        {
          "output_type": "stream",
          "name": "stdout",
          "text": [
            "Ep 30/35 it 600 seen 38400 loss 1.4236 lr 2.96e-05 ema 0.999756 elapsed 341.5s\n"
          ]
        },
        {
          "output_type": "stream",
          "name": "stdout",
          "text": [
            "Ep 30/35 it 800 seen 51200 loss 1.2349 lr 2.96e-05 ema 0.999756 elapsed 454.6s\n"
          ]
        },
        {
          "output_type": "stream",
          "name": "stdout",
          "text": [
            "Ep 30/35 it 1000 seen 64000 loss 1.2933 lr 2.96e-05 ema 0.999756 elapsed 568.2s\n"
          ]
        },
        {
          "output_type": "stream",
          "name": "stdout",
          "text": [
            "Ep 30/35 it 1200 seen 76800 loss 1.3176 lr 2.96e-05 ema 0.999756 elapsed 681.0s\n"
          ]
        },
        {
          "output_type": "stream",
          "name": "stdout",
          "text": [
            "Ep 30/35 it 1400 seen 89600 loss 1.3806 lr 2.96e-05 ema 0.999756 elapsed 795.0s\n"
          ]
        },
        {
          "output_type": "stream",
          "name": "stdout",
          "text": [
            "Ep 30/35 it 1600 seen 102400 loss 2.6018 lr 2.96e-05 ema 0.999756 elapsed 909.1s\n"
          ]
        },
        {
          "output_type": "stream",
          "name": "stdout",
          "text": [
            "Ep 30/35 it 1800 seen 115200 loss 1.2525 lr 2.96e-05 ema 0.999756 elapsed 1021.8s\n"
          ]
        },
        {
          "output_type": "stream",
          "name": "stdout",
          "text": [
            "Ep 30/35 it 2000 seen 128000 loss 1.4686 lr 2.96e-05 ema 0.999756 elapsed 1135.4s\n"
          ]
        },
        {
          "output_type": "stream",
          "name": "stdout",
          "text": [
            "Ep 30/35 it 2200 seen 140800 loss 2.7182 lr 2.96e-05 ema 0.999756 elapsed 1248.4s\n"
          ]
        },
        {
          "output_type": "stream",
          "name": "stdout",
          "text": [
            "Ep 30/35 it 2400 seen 153600 loss 1.3051 lr 2.96e-05 ema 0.999756 elapsed 1362.2s\n"
          ]
        },
        {
          "output_type": "stream",
          "name": "stdout",
          "text": [
            "Ep 30/35 it 2600 seen 166400 loss 1.4787 lr 2.96e-05 ema 0.999756 elapsed 1476.0s\n"
          ]
        },
        {
          "output_type": "stream",
          "name": "stdout",
          "text": [
            "Ep 30/35 it 2800 seen 179200 loss 1.4938 lr 2.96e-05 ema 0.999756 elapsed 1588.8s\n"
          ]
        },
        {
          "output_type": "stream",
          "name": "stdout",
          "text": [
            "Ep 30/35 it 3000 seen 192000 loss 1.3710 lr 2.96e-05 ema 0.999756 elapsed 1702.7s\n"
          ]
        },
        {
          "output_type": "stream",
          "name": "stdout",
          "text": [
            "Ep 30/35 it 3200 seen 204800 loss 1.3585 lr 2.96e-05 ema 0.999756 elapsed 1815.8s\n"
          ]
        },
        {
          "output_type": "stream",
          "name": "stdout",
          "text": [
            "Ep 30/35 it 3400 seen 217600 loss 1.5345 lr 2.96e-05 ema 0.999756 elapsed 1929.2s\n"
          ]
        },
        {
          "output_type": "stream",
          "name": "stdout",
          "text": [
            "Epoch 30 val_acc(EMA) 0.8462 ep_time 1958.3s total 58719.4s\n"
          ]
        },
        {
          "output_type": "stream",
          "name": "stdout",
          "text": [
            "Saved EMA best to effv2m_320_ema.pth\n"
          ]
        },
        {
          "output_type": "stream",
          "name": "stdout",
          "text": [
            "Saved periodic EMA to effv2m_320_ema_ep30.pth\n"
          ]
        },
        {
          "output_type": "stream",
          "name": "stdout",
          "text": [
            "Ep 31/35 it 200 seen 12800 loss 1.5063 lr 2.10e-05 ema 0.999765 elapsed 114.8s\n"
          ]
        },
        {
          "output_type": "stream",
          "name": "stdout",
          "text": [
            "Ep 31/35 it 400 seen 25600 loss 4.0072 lr 2.10e-05 ema 0.999765 elapsed 227.9s\n"
          ]
        },
        {
          "output_type": "stream",
          "name": "stdout",
          "text": [
            "Ep 31/35 it 600 seen 38400 loss 3.1874 lr 2.10e-05 ema 0.999765 elapsed 341.4s\n"
          ]
        },
        {
          "output_type": "stream",
          "name": "stdout",
          "text": [
            "Ep 31/35 it 800 seen 51200 loss 1.4251 lr 2.10e-05 ema 0.999765 elapsed 454.0s\n"
          ]
        },
        {
          "output_type": "stream",
          "name": "stdout",
          "text": [
            "Ep 31/35 it 1000 seen 64000 loss 1.4459 lr 2.10e-05 ema 0.999765 elapsed 567.9s\n"
          ]
        },
        {
          "output_type": "stream",
          "name": "stdout",
          "text": [
            "Ep 31/35 it 1200 seen 76800 loss 1.2902 lr 2.10e-05 ema 0.999765 elapsed 680.7s\n"
          ]
        },
        {
          "output_type": "stream",
          "name": "stdout",
          "text": [
            "Ep 31/35 it 1400 seen 89600 loss 1.3470 lr 2.10e-05 ema 0.999765 elapsed 794.1s\n"
          ]
        },
        {
          "output_type": "stream",
          "name": "stdout",
          "text": [
            "Ep 31/35 it 1600 seen 102400 loss 1.4440 lr 2.10e-05 ema 0.999765 elapsed 907.7s\n"
          ]
        },
        {
          "output_type": "stream",
          "name": "stdout",
          "text": [
            "Ep 31/35 it 1800 seen 115200 loss 1.3510 lr 2.10e-05 ema 0.999765 elapsed 1020.7s\n"
          ]
        },
        {
          "output_type": "stream",
          "name": "stdout",
          "text": [
            "Ep 31/35 it 2000 seen 128000 loss 1.2033 lr 2.10e-05 ema 0.999765 elapsed 1134.4s\n"
          ]
        },
        {
          "output_type": "stream",
          "name": "stdout",
          "text": [
            "Ep 31/35 it 2200 seen 140800 loss 2.2355 lr 2.10e-05 ema 0.999765 elapsed 1247.1s\n"
          ]
        },
        {
          "output_type": "stream",
          "name": "stdout",
          "text": [
            "Ep 31/35 it 2400 seen 153600 loss 1.4816 lr 2.10e-05 ema 0.999765 elapsed 1360.6s\n"
          ]
        },
        {
          "output_type": "stream",
          "name": "stdout",
          "text": [
            "Ep 31/35 it 2600 seen 166400 loss 1.5350 lr 2.10e-05 ema 0.999765 elapsed 1474.3s\n"
          ]
        },
        {
          "output_type": "stream",
          "name": "stdout",
          "text": [
            "Ep 31/35 it 2800 seen 179200 loss 3.6237 lr 2.10e-05 ema 0.999765 elapsed 1587.2s\n"
          ]
        },
        {
          "output_type": "stream",
          "name": "stdout",
          "text": [
            "Ep 31/35 it 3000 seen 192000 loss 2.9537 lr 2.10e-05 ema 0.999765 elapsed 1700.5s\n"
          ]
        },
        {
          "output_type": "stream",
          "name": "stdout",
          "text": [
            "Ep 31/35 it 3200 seen 204800 loss 1.3570 lr 2.10e-05 ema 0.999765 elapsed 1813.1s\n"
          ]
        },
        {
          "output_type": "stream",
          "name": "stdout",
          "text": [
            "Ep 31/35 it 3400 seen 217600 loss 2.9964 lr 2.10e-05 ema 0.999765 elapsed 1926.8s\n"
          ]
        },
        {
          "output_type": "stream",
          "name": "stdout",
          "text": [
            "Epoch 31 val_acc(EMA) 0.8454 ep_time 1955.6s total 60679.4s\n"
          ]
        },
        {
          "output_type": "stream",
          "name": "stdout",
          "text": [
            "Ep 32/35 it 200 seen 12800 loss 1.3283 lr 1.39e-05 ema 0.999774 elapsed 114.6s\n"
          ]
        },
        {
          "output_type": "stream",
          "name": "stdout",
          "text": [
            "Ep 32/35 it 400 seen 25600 loss 2.8047 lr 1.39e-05 ema 0.999774 elapsed 227.2s\n"
          ]
        },
        {
          "output_type": "stream",
          "name": "stdout",
          "text": [
            "Ep 32/35 it 600 seen 38400 loss 1.3937 lr 1.39e-05 ema 0.999774 elapsed 340.8s\n"
          ]
        },
        {
          "output_type": "stream",
          "name": "stdout",
          "text": [
            "Ep 32/35 it 800 seen 51200 loss 1.2531 lr 1.39e-05 ema 0.999774 elapsed 453.5s\n"
          ]
        },
        {
          "output_type": "stream",
          "name": "stdout",
          "text": [
            "Ep 32/35 it 1000 seen 64000 loss 1.6448 lr 1.39e-05 ema 0.999774 elapsed 567.1s\n"
          ]
        },
        {
          "output_type": "stream",
          "name": "stdout",
          "text": [
            "Ep 32/35 it 1200 seen 76800 loss 3.4045 lr 1.39e-05 ema 0.999774 elapsed 680.8s\n"
          ]
        },
        {
          "output_type": "stream",
          "name": "stdout",
          "text": [
            "Ep 32/35 it 1400 seen 89600 loss 3.3843 lr 1.39e-05 ema 0.999774 elapsed 793.6s\n"
          ]
        },
        {
          "output_type": "stream",
          "name": "stdout",
          "text": [
            "Ep 32/35 it 1600 seen 102400 loss 1.5223 lr 1.39e-05 ema 0.999774 elapsed 907.2s\n"
          ]
        },
        {
          "output_type": "stream",
          "name": "stdout",
          "text": [
            "Ep 32/35 it 1800 seen 115200 loss 1.4436 lr 1.39e-05 ema 0.999774 elapsed 1019.9s\n"
          ]
        },
        {
          "output_type": "stream",
          "name": "stdout",
          "text": [
            "Ep 32/35 it 2000 seen 128000 loss 1.4395 lr 1.39e-05 ema 0.999774 elapsed 1133.6s\n"
          ]
        },
        {
          "output_type": "stream",
          "name": "stdout",
          "text": [
            "Ep 32/35 it 2200 seen 140800 loss 1.6840 lr 1.39e-05 ema 0.999774 elapsed 1247.2s\n"
          ]
        },
        {
          "output_type": "stream",
          "name": "stdout",
          "text": [
            "Ep 32/35 it 2400 seen 153600 loss 1.2856 lr 1.39e-05 ema 0.999774 elapsed 1360.0s\n"
          ]
        },
        {
          "output_type": "stream",
          "name": "stdout",
          "text": [
            "Ep 32/35 it 2600 seen 166400 loss 1.4181 lr 1.39e-05 ema 0.999774 elapsed 1473.4s\n"
          ]
        },
        {
          "output_type": "stream",
          "name": "stdout",
          "text": [
            "Ep 32/35 it 2800 seen 179200 loss 1.3930 lr 1.39e-05 ema 0.999774 elapsed 1586.1s\n"
          ]
        },
        {
          "output_type": "stream",
          "name": "stdout",
          "text": [
            "Ep 32/35 it 3000 seen 192000 loss 2.9870 lr 1.39e-05 ema 0.999774 elapsed 1699.7s\n"
          ]
        },
        {
          "output_type": "stream",
          "name": "stdout",
          "text": [
            "Ep 32/35 it 3200 seen 204800 loss 2.9712 lr 1.39e-05 ema 0.999774 elapsed 1813.3s\n"
          ]
        },
        {
          "output_type": "stream",
          "name": "stdout",
          "text": [
            "Ep 32/35 it 3400 seen 217600 loss 2.6440 lr 1.39e-05 ema 0.999774 elapsed 1925.8s\n"
          ]
        },
        {
          "output_type": "stream",
          "name": "stdout",
          "text": [
            "Epoch 32 val_acc(EMA) 0.8472 ep_time 1954.7s total 62636.0s\n"
          ]
        },
        {
          "output_type": "stream",
          "name": "stdout",
          "text": [
            "Saved EMA best to effv2m_320_ema.pth\n"
          ]
        },
        {
          "output_type": "stream",
          "name": "stdout",
          "text": [
            "Ep 33/35 it 200 seen 12800 loss 1.4602 lr 8.32e-06 ema 0.999782 elapsed 115.1s\n"
          ]
        },
        {
          "output_type": "stream",
          "name": "stdout",
          "text": [
            "Ep 33/35 it 400 seen 25600 loss 3.7967 lr 8.32e-06 ema 0.999782 elapsed 229.2s\n"
          ]
        },
        {
          "output_type": "stream",
          "name": "stdout",
          "text": [
            "Ep 33/35 it 600 seen 38400 loss 1.3790 lr 8.32e-06 ema 0.999782 elapsed 341.7s\n"
          ]
        },
        {
          "output_type": "stream",
          "name": "stdout",
          "text": [
            "Ep 33/35 it 800 seen 51200 loss 3.0062 lr 8.32e-06 ema 0.999782 elapsed 455.3s\n"
          ]
        },
        {
          "output_type": "stream",
          "name": "stdout",
          "text": [
            "Ep 33/35 it 1000 seen 64000 loss 2.7951 lr 8.32e-06 ema 0.999782 elapsed 568.0s\n"
          ]
        },
        {
          "output_type": "stream",
          "name": "stdout",
          "text": [
            "Ep 33/35 it 1200 seen 76800 loss 1.2901 lr 8.32e-06 ema 0.999782 elapsed 681.6s\n"
          ]
        },
        {
          "output_type": "stream",
          "name": "stdout",
          "text": [
            "Ep 33/35 it 1400 seen 89600 loss 1.3732 lr 8.32e-06 ema 0.999782 elapsed 794.8s\n"
          ]
        },
        {
          "output_type": "stream",
          "name": "stdout",
          "text": [
            "Ep 33/35 it 1600 seen 102400 loss 1.4295 lr 8.32e-06 ema 0.999782 elapsed 907.5s\n"
          ]
        },
        {
          "output_type": "stream",
          "name": "stdout",
          "text": [
            "Ep 33/35 it 1800 seen 115200 loss 3.0617 lr 8.32e-06 ema 0.999782 elapsed 1021.1s\n"
          ]
        },
        {
          "output_type": "stream",
          "name": "stdout",
          "text": [
            "Ep 33/35 it 2000 seen 128000 loss 3.1248 lr 8.32e-06 ema 0.999782 elapsed 1133.6s\n"
          ]
        },
        {
          "output_type": "stream",
          "name": "stdout",
          "text": [
            "Ep 33/35 it 2200 seen 140800 loss 2.0241 lr 8.32e-06 ema 0.999782 elapsed 1246.9s\n"
          ]
        },
        {
          "output_type": "stream",
          "name": "stdout",
          "text": [
            "Ep 33/35 it 2400 seen 153600 loss 1.9152 lr 8.32e-06 ema 0.999782 elapsed 1359.6s\n"
          ]
        },
        {
          "output_type": "stream",
          "name": "stdout",
          "text": [
            "Ep 33/35 it 2600 seen 166400 loss 1.3144 lr 8.32e-06 ema 0.999782 elapsed 1472.9s\n"
          ]
        },
        {
          "output_type": "stream",
          "name": "stdout",
          "text": [
            "Ep 33/35 it 2800 seen 179200 loss 1.3416 lr 8.32e-06 ema 0.999782 elapsed 1586.2s\n"
          ]
        },
        {
          "output_type": "stream",
          "name": "stdout",
          "text": [
            "Ep 33/35 it 3000 seen 192000 loss 3.1082 lr 8.32e-06 ema 0.999782 elapsed 1698.8s\n"
          ]
        },
        {
          "output_type": "stream",
          "name": "stdout",
          "text": [
            "Ep 33/35 it 3200 seen 204800 loss 1.4629 lr 8.32e-06 ema 0.999782 elapsed 1812.6s\n"
          ]
        },
        {
          "output_type": "stream",
          "name": "stdout",
          "text": [
            "Ep 33/35 it 3400 seen 217600 loss 1.3510 lr 8.32e-06 ema 0.999782 elapsed 1926.2s\n"
          ]
        },
        {
          "output_type": "stream",
          "name": "stdout",
          "text": [
            "Epoch 33 val_acc(EMA) 0.8475 ep_time 1955.0s total 64592.8s\n"
          ]
        },
        {
          "output_type": "stream",
          "name": "stdout",
          "text": [
            "Saved EMA best to effv2m_320_ema.pth\n"
          ]
        },
        {
          "output_type": "stream",
          "name": "stdout",
          "text": [
            "Ep 34/35 it 200 seen 12800 loss 3.1430 lr 4.27e-06 ema 0.999791 elapsed 113.4s\n"
          ]
        },
        {
          "output_type": "stream",
          "name": "stdout",
          "text": [
            "Ep 34/35 it 400 seen 25600 loss 1.5441 lr 4.27e-06 ema 0.999791 elapsed 227.3s\n"
          ]
        },
        {
          "output_type": "stream",
          "name": "stdout",
          "text": [
            "Ep 34/35 it 600 seen 38400 loss 1.2814 lr 4.27e-06 ema 0.999791 elapsed 341.2s\n"
          ]
        },
        {
          "output_type": "stream",
          "name": "stdout",
          "text": [
            "Ep 34/35 it 800 seen 51200 loss 2.4170 lr 4.27e-06 ema 0.999791 elapsed 453.6s\n"
          ]
        },
        {
          "output_type": "stream",
          "name": "stdout",
          "text": [
            "Ep 34/35 it 1000 seen 64000 loss 1.3296 lr 4.27e-06 ema 0.999791 elapsed 566.8s\n"
          ]
        },
        {
          "output_type": "stream",
          "name": "stdout",
          "text": [
            "Ep 34/35 it 1200 seen 76800 loss 2.1521 lr 4.27e-06 ema 0.999791 elapsed 679.5s\n"
          ]
        },
        {
          "output_type": "stream",
          "name": "stdout",
          "text": [
            "Ep 34/35 it 1400 seen 89600 loss 1.4402 lr 4.27e-06 ema 0.999791 elapsed 793.2s\n"
          ]
        },
        {
          "output_type": "stream",
          "name": "stdout",
          "text": [
            "Ep 34/35 it 1600 seen 102400 loss 1.5941 lr 4.27e-06 ema 0.999791 elapsed 905.4s\n"
          ]
        },
        {
          "output_type": "stream",
          "name": "stdout",
          "text": [
            "Ep 34/35 it 1800 seen 115200 loss 1.2953 lr 4.27e-06 ema 0.999791 elapsed 1018.7s\n"
          ]
        },
        {
          "output_type": "stream",
          "name": "stdout",
          "text": [
            "Ep 34/35 it 2000 seen 128000 loss 1.4183 lr 4.27e-06 ema 0.999791 elapsed 1132.3s\n"
          ]
        },
        {
          "output_type": "stream",
          "name": "stdout",
          "text": [
            "Ep 34/35 it 2200 seen 140800 loss 1.3433 lr 4.27e-06 ema 0.999791 elapsed 1245.1s\n"
          ]
        },
        {
          "output_type": "stream",
          "name": "stdout",
          "text": [
            "Ep 34/35 it 2400 seen 153600 loss 3.2319 lr 4.27e-06 ema 0.999791 elapsed 1358.2s\n"
          ]
        },
        {
          "output_type": "stream",
          "name": "stdout",
          "text": [
            "Ep 34/35 it 2600 seen 166400 loss 1.8548 lr 4.27e-06 ema 0.999791 elapsed 1471.5s\n"
          ]
        },
        {
          "output_type": "stream",
          "name": "stdout",
          "text": [
            "Ep 34/35 it 2800 seen 179200 loss 1.4026 lr 4.27e-06 ema 0.999791 elapsed 1584.1s\n"
          ]
        },
        {
          "output_type": "stream",
          "name": "stdout",
          "text": [
            "Ep 34/35 it 3000 seen 192000 loss 3.0708 lr 4.27e-06 ema 0.999791 elapsed 1697.6s\n"
          ]
        },
        {
          "output_type": "stream",
          "name": "stdout",
          "text": [
            "Ep 34/35 it 3200 seen 204800 loss 2.1978 lr 4.27e-06 ema 0.999791 elapsed 1809.8s\n"
          ]
        },
        {
          "output_type": "stream",
          "name": "stdout",
          "text": [
            "Ep 34/35 it 3400 seen 217600 loss 2.9668 lr 4.27e-06 ema 0.999791 elapsed 1923.2s\n"
          ]
        },
        {
          "output_type": "stream",
          "name": "stdout",
          "text": [
            "Epoch 34 val_acc(EMA) 0.8472 ep_time 1952.2s total 66547.0s\n"
          ]
        },
        {
          "output_type": "stream",
          "name": "stdout",
          "text": [
            "Ep 35/35 it 200 seen 12800 loss 1.3576 lr 1.82e-06 ema 0.999800 elapsed 115.2s\n"
          ]
        },
        {
          "output_type": "stream",
          "name": "stdout",
          "text": [
            "Ep 35/35 it 400 seen 25600 loss 1.2822 lr 1.82e-06 ema 0.999800 elapsed 228.0s\n"
          ]
        },
        {
          "output_type": "stream",
          "name": "stdout",
          "text": [
            "Ep 35/35 it 600 seen 38400 loss 1.9796 lr 1.82e-06 ema 0.999800 elapsed 341.3s\n"
          ]
        },
        {
          "output_type": "stream",
          "name": "stdout",
          "text": [
            "Ep 35/35 it 800 seen 51200 loss 1.3511 lr 1.82e-06 ema 0.999800 elapsed 454.0s\n"
          ]
        },
        {
          "output_type": "stream",
          "name": "stdout",
          "text": [
            "Ep 35/35 it 1000 seen 64000 loss 2.6053 lr 1.82e-06 ema 0.999800 elapsed 567.6s\n"
          ]
        },
        {
          "output_type": "stream",
          "name": "stdout",
          "text": [
            "Ep 35/35 it 1200 seen 76800 loss 1.4531 lr 1.82e-06 ema 0.999800 elapsed 680.1s\n"
          ]
        },
        {
          "output_type": "stream",
          "name": "stdout",
          "text": [
            "Ep 35/35 it 1400 seen 89600 loss 3.8607 lr 1.82e-06 ema 0.999800 elapsed 793.4s\n"
          ]
        },
        {
          "output_type": "stream",
          "name": "stdout",
          "text": [
            "Ep 35/35 it 1600 seen 102400 loss 1.4004 lr 1.82e-06 ema 0.999800 elapsed 907.0s\n"
          ]
        },
        {
          "output_type": "stream",
          "name": "stdout",
          "text": [
            "Ep 35/35 it 1800 seen 115200 loss 2.6725 lr 1.82e-06 ema 0.999800 elapsed 1019.8s\n"
          ]
        },
        {
          "output_type": "stream",
          "name": "stdout",
          "text": [
            "Ep 35/35 it 2000 seen 128000 loss 2.6255 lr 1.82e-06 ema 0.999800 elapsed 1133.1s\n"
          ]
        },
        {
          "output_type": "stream",
          "name": "stdout",
          "text": [
            "Ep 35/35 it 2200 seen 140800 loss 2.9372 lr 1.82e-06 ema 0.999800 elapsed 1245.7s\n"
          ]
        },
        {
          "output_type": "stream",
          "name": "stdout",
          "text": [
            "Ep 35/35 it 2400 seen 153600 loss 3.5339 lr 1.82e-06 ema 0.999800 elapsed 1359.4s\n"
          ]
        },
        {
          "output_type": "stream",
          "name": "stdout",
          "text": [
            "Ep 35/35 it 2600 seen 166400 loss 1.2398 lr 1.82e-06 ema 0.999800 elapsed 1472.2s\n"
          ]
        },
        {
          "output_type": "stream",
          "name": "stdout",
          "text": [
            "Ep 35/35 it 2800 seen 179200 loss 2.7649 lr 1.82e-06 ema 0.999800 elapsed 1585.7s\n"
          ]
        },
        {
          "output_type": "stream",
          "name": "stdout",
          "text": [
            "Ep 35/35 it 3000 seen 192000 loss 1.3494 lr 1.82e-06 ema 0.999800 elapsed 1699.1s\n"
          ]
        },
        {
          "output_type": "stream",
          "name": "stdout",
          "text": [
            "Ep 35/35 it 3200 seen 204800 loss 2.4771 lr 1.82e-06 ema 0.999800 elapsed 1811.8s\n"
          ]
        },
        {
          "output_type": "stream",
          "name": "stdout",
          "text": [
            "Ep 35/35 it 3400 seen 217600 loss 2.4842 lr 1.82e-06 ema 0.999800 elapsed 1925.6s\n"
          ]
        },
        {
          "output_type": "stream",
          "name": "stdout",
          "text": [
            "Epoch 35 val_acc(EMA) 0.8484 ep_time 1954.5s total 68503.4s\n"
          ]
        },
        {
          "output_type": "stream",
          "name": "stdout",
          "text": [
            "Saved EMA best to effv2m_320_ema.pth\n"
          ]
        },
        {
          "output_type": "stream",
          "name": "stdout",
          "text": [
            "Saved periodic EMA to effv2m_320_ema_ep35.pth\n"
          ]
        },
        {
          "output_type": "stream",
          "name": "stdout",
          "text": [
            "Training done. Best EMA val_acc 0.8484\n"
          ]
        },
        {
          "output_type": "stream",
          "name": "stderr",
          "text": [
            "/tmp/ipykernel_1897/3710063295.py:283: FutureWarning: You are using `torch.load` with `weights_only=False` (the current default value), which uses the default pickle module implicitly. It is possible to construct malicious pickle data which will execute arbitrary code during unpickling (See https://github.com/pytorch/pytorch/blob/main/SECURITY.md#untrusted-models for more details). In a future release, the default value for `weights_only` will be flipped to `True`. This limits the functions that could be executed during unpickling. Arbitrary objects will no longer be allowed to be loaded via this mode unless they are explicitly allowlisted by the user via `torch.serialization.add_safe_globals`. We recommend you start setting `weights_only=True` for any use case where you don't have full control of the loaded file. Please open an issue on GitHub for any issues related to this experimental feature.\n  ckpt = torch.load(best_path, map_location=device)\n"
          ]
        },
        {
          "output_type": "stream",
          "name": "stdout",
          "text": [
            "TTA scale 288 it 100/504\n"
          ]
        },
        {
          "output_type": "stream",
          "name": "stdout",
          "text": [
            "TTA scale 288 it 200/504\n"
          ]
        },
        {
          "output_type": "stream",
          "name": "stdout",
          "text": [
            "TTA scale 288 it 300/504\n"
          ]
        },
        {
          "output_type": "stream",
          "name": "stdout",
          "text": [
            "TTA scale 288 it 400/504\n"
          ]
        },
        {
          "output_type": "stream",
          "name": "stdout",
          "text": [
            "TTA scale 288 it 500/504\n"
          ]
        },
        {
          "output_type": "stream",
          "name": "stdout",
          "text": [
            "TTA scale 320 it 100/504\n"
          ]
        },
        {
          "output_type": "stream",
          "name": "stdout",
          "text": [
            "TTA scale 320 it 200/504\n"
          ]
        },
        {
          "output_type": "stream",
          "name": "stdout",
          "text": [
            "TTA scale 320 it 300/504\n"
          ]
        },
        {
          "output_type": "stream",
          "name": "stdout",
          "text": [
            "TTA scale 320 it 400/504\n"
          ]
        },
        {
          "output_type": "stream",
          "name": "stdout",
          "text": [
            "TTA scale 320 it 500/504\n"
          ]
        },
        {
          "output_type": "stream",
          "name": "stdout",
          "text": [
            "TTA scale 352 it 100/504\n"
          ]
        },
        {
          "output_type": "stream",
          "name": "stdout",
          "text": [
            "TTA scale 352 it 200/504\n"
          ]
        },
        {
          "output_type": "stream",
          "name": "stdout",
          "text": [
            "TTA scale 352 it 300/504\n"
          ]
        },
        {
          "output_type": "stream",
          "name": "stdout",
          "text": [
            "TTA scale 352 it 400/504\n"
          ]
        },
        {
          "output_type": "stream",
          "name": "stdout",
          "text": [
            "TTA scale 352 it 500/504\n"
          ]
        },
        {
          "output_type": "stream",
          "name": "stdout",
          "text": [
            "Wrote submission.csv with 32214 rows\nDone.\n"
          ]
        }
      ]
    },
    {
      "id": "ad026cc0-d059-4358-8001-f836284fb2ce",
      "cell_type": "code",
      "metadata": {},
      "source": [
        "# Diagnose and fix submission format to match Kaggle sample\n",
        "import pandas as pd\n",
        "import os\n",
        "\n",
        "sample_path = 'kaggle_sample_submission.csv'\n",
        "sub_path = 'submission.csv'\n",
        "assert os.path.exists(sample_path), 'kaggle_sample_submission.csv not found'\n",
        "assert os.path.exists(sub_path), 'submission.csv not found'\n",
        "\n",
        "sample = pd.read_csv(sample_path)\n",
        "sub = pd.read_csv(sub_path)\n",
        "print('Sample columns:', list(sample.columns))\n",
        "print('Submission columns:', list(sub.columns))\n",
        "print('Sample shape:', sample.shape, 'Submission shape:', sub.shape)\n",
        "\n",
        "# Ensure columns and order match sample exactly\n",
        "required_cols = list(sample.columns)  # expected e.g. ['id', 'predicted']\n",
        "rename_map = {}\n",
        "# Map common alt names to required ones\n",
        "if 'id' in required_cols and 'id' not in sub.columns and 'image_id' in sub.columns:\n",
        "    rename_map['image_id'] = 'id'\n",
        "if 'predicted' in required_cols and 'predicted' not in sub.columns and 'category_id' in sub.columns:\n",
        "    rename_map['category_id'] = 'predicted'\n",
        "if rename_map:\n",
        "    sub = sub.rename(columns=rename_map)\n",
        "\n",
        "# Reorder and filter to required columns only\n",
        "missing = [c for c in required_cols if c not in sub.columns]\n",
        "assert not missing, f'Missing columns in submission: {missing}'\n",
        "sub = sub[required_cols]\n",
        "\n",
        "# Enforce integer dtypes for id/predicted\n",
        "for c in required_cols:\n",
        "    if pd.api.types.is_float_dtype(sub[c]):\n",
        "        sub[c] = sub[c].round().astype('int64')\n",
        "    elif not pd.api.types.is_integer_dtype(sub[c]):\n",
        "        try:\n",
        "            sub[c] = sub[c].astype('int64')\n",
        "        except Exception:\n",
        "            pass\n",
        "\n",
        "# Final sanity\n",
        "assert sub.shape[0] == sample.shape[0], f'Row count mismatch: {sub.shape[0]} vs sample {sample.shape[0]}'\n",
        "assert list(sub.columns) == required_cols, f'Column order mismatch: {list(sub.columns)} vs {required_cols}'\n",
        "\n",
        "sub.to_csv(sub_path, index=False)\n",
        "print('Fixed submission saved. Columns:', list(sub.columns), 'shape:', sub.shape)"
      ],
      "execution_count": 6,
      "outputs": [
        {
          "output_type": "stream",
          "name": "stdout",
          "text": [
            "Sample columns: ['id', 'predicted']\nSubmission columns: ['image_id', 'category_id']\nSample shape: (32214, 2) Submission shape: (32214, 2)\nFixed submission saved. Columns: ['id', 'predicted'] shape: (32214, 2)\n"
          ]
        }
      ]
    }
  ],
  "metadata": {
    "kernelspec": {
      "display_name": "Python 3",
      "language": "python",
      "name": "python3"
    },
    "language_info": {
      "name": "python",
      "version": "3.11.0rc1"
    }
  },
  "nbformat": 4,
  "nbformat_minor": 5
}