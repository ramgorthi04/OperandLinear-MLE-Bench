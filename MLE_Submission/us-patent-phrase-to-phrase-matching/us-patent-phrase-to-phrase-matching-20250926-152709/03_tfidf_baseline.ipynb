{
  "cells": [
    {
      "id": "5e736438-4589-4a52-a43e-22b5bf21fe10",
      "cell_type": "markdown",
      "metadata": {},
      "source": [
        "# Quick TF-IDF + Ridge Baseline for Patent Phrase Matching\n",
        "\n",
        "## Objective\n",
        "Implement a fast baseline using TF-IDF features on anchor/target/context texts + Ridge regression to generate submission.csv with OOF Pearson ~0.83-0.85 (above median). This unblocks leaderboard while GPU/CPU env fixes proceed in parallel.\n",
        "\n",
        "## Strategy\n",
        "- **Features:** TF-IDF on combined 'anchor + context' and 'target + context' texts (separate vectorizers), ngram=(1,3), max_features=5000.\n",
        "- **Model:** Ridge regression (alpha=1.0) for each fold.\n",
        "- **CV:** 5-fold GroupKFold grouped by 'anchor' to prevent leakage.\n",
        "- **Evaluation:** OOF Pearson correlation overall.\n",
        "- **Inference:** Average predictions across folds for test set.\n",
        "- **Output:** submission.csv with 'id' and 'score' columns.\n",
        "\n",
        "## Expected Performance\n",
        "OOF ~0.83-0.85; submit if >=0.83 to secure above-median position. Later replace with DeBERTa cross-encoder for medal push (>=0.85 OOF).\n",
        "\n",
        "## Workflow\n",
        "1. Imports (pandas, sklearn, scipy).\n",
        "2. Load data, prepare texts (anchor_context = anchor + ' ' + context, similarly for target).\n",
        "3. Fit TF-IDF vectorizers on train, transform train/test.\n",
        "4. CV loop: GroupKFold, train Ridge on fold, predict OOF, compute fold/overall Pearson.\n",
        "5. Test predictions: average fold preds, clip [0,1], save submission.csv.\n",
        "\n",
        "Next: Insert code cell for implementation and execution."
      ],
      "execution_count": null,
      "outputs": []
    },
    {
      "id": "3b3a9731-9845-4045-9ffa-efaea98a2781",
      "cell_type": "code",
      "metadata": {},
      "source": [
        "import pandas as pd\n",
        "import numpy as np\n",
        "from sklearn.feature_extraction.text import TfidfVectorizer\n",
        "from sklearn.linear_model import Ridge\n",
        "from sklearn.model_selection import GroupKFold\n",
        "from scipy.stats import pearsonr\n",
        "from scipy.sparse import hstack\n",
        "\n",
        "# Load data\n",
        "train = pd.read_csv('train.csv')\n",
        "test = pd.read_csv('test.csv')\n",
        "print(f'Train shape: {train.shape}, Test shape: {test.shape}')\n",
        "\n",
        "# Prepare texts: combine anchor + context, target + context\n",
        "train['anchor_context'] = train['anchor'] + ' ' + train['context']\n",
        "train['target_context'] = train['target'] + ' ' + train['context']\n",
        "test['anchor_context'] = test['anchor'] + ' ' + test['context']\n",
        "test['target_context'] = test['target'] + ' ' + test['context']\n",
        "\n",
        "# TF-IDF vectorizers\n",
        "tfidf_anchor = TfidfVectorizer(ngram_range=(1,3), max_features=5000)\n",
        "tfidf_target = TfidfVectorizer(ngram_range=(1,3), max_features=5000)\n",
        "\n",
        "# Fit and transform\n",
        "X_anchor_train = tfidf_anchor.fit_transform(train['anchor_context'])\n",
        "X_target_train = tfidf_target.fit_transform(train['target_context'])\n",
        "X_train = hstack([X_anchor_train, X_target_train]).tocsr()\n",
        "\n",
        "X_anchor_test = tfidf_anchor.transform(test['anchor_context'])\n",
        "X_target_test = tfidf_target.transform(test['target_context'])\n",
        "X_test = hstack([X_anchor_test, X_target_test]).tocsr()\n",
        "\n",
        "y_train = train['score'].values\n",
        "\n",
        "# CV setup\n",
        "gkf = GroupKFold(n_splits=5)\n",
        "oof = np.zeros(len(train))\n",
        "test_preds = np.zeros((5, len(test)))\n",
        "\n",
        "for fold, (tr_idx, val_idx) in enumerate(gkf.split(X_train, y_train, groups=train['anchor'])):\n",
        "    print(f'Training fold {fold+1}/5...')\n",
        "    X_tr = X_train[tr_idx]\n",
        "    X_val = X_train[val_idx]\n",
        "    y_tr, y_val = y_train[tr_idx], y_train[val_idx]\n",
        "    \n",
        "    model = Ridge(alpha=1.0)\n",
        "    model.fit(X_tr, y_tr)\n",
        "    \n",
        "    oof_val = model.predict(X_val)\n",
        "    oof[val_idx] = oof_val\n",
        "    test_preds[fold] = model.predict(X_test)\n",
        "    \n",
        "    fold_pearson = pearsonr(oof_val, y_val)[0]\n",
        "    print(f'Fold {fold+1} Pearson: {fold_pearson:.4f}')\n",
        "\n",
        "# Overall OOF\n",
        "oof_pearson = pearsonr(oof, y_train)[0]\n",
        "print(f'OOF Pearson: {oof_pearson:.4f}')\n",
        "\n",
        "# Test predictions: average folds, clip [0,1]\n",
        "test['score'] = np.mean(test_preds, axis=0)\n",
        "test['score'] = np.clip(test['score'], 0, 1)\n",
        "\n",
        "# Save submission\n",
        "submission = test[['id', 'score']]\n",
        "submission.to_csv('submission.csv', index=False)\n",
        "print('Submission saved to submission.csv')\n",
        "print(submission.head())"
      ],
      "execution_count": 2,
      "outputs": [
        {
          "output_type": "stream",
          "name": "stdout",
          "text": [
            "Train shape: (32825, 5), Test shape: (3648, 4)\n"
          ]
        },
        {
          "output_type": "stream",
          "name": "stdout",
          "text": [
            "Training fold 1/5...\nFold 1 Pearson: 0.2530\nTraining fold 2/5...\n"
          ]
        },
        {
          "output_type": "stream",
          "name": "stdout",
          "text": [
            "Fold 2 Pearson: 0.2537\nTraining fold 3/5...\nFold 3 Pearson: 0.2489\nTraining fold 4/5...\n"
          ]
        },
        {
          "output_type": "stream",
          "name": "stdout",
          "text": [
            "Fold 4 Pearson: 0.2711\nTraining fold 5/5...\nFold 5 Pearson: 0.2283\nOOF Pearson: 0.2509\nSubmission saved to submission.csv\n                 id     score\n0  2a988c7d98568627  0.291179\n1  75a3ae03b26e2f7e  0.236453\n2  0126c870aede9858  0.419978\n3  2cf662e1cc9b354e  0.144750\n4  8dfee5874de0b408  0.298207\n"
          ]
        }
      ]
    }
  ],
  "metadata": {
    "kernelspec": {
      "display_name": "Python 3",
      "language": "python",
      "name": "python3"
    },
    "language_info": {
      "name": "python",
      "version": "3.11.0rc1"
    }
  },
  "nbformat": 4,
  "nbformat_minor": 5
}