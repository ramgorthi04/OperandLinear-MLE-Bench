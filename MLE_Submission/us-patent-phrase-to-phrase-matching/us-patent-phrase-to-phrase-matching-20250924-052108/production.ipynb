{
  "cells": [
    {
      "id": "66c6b52e-80b2-4930-a47d-953f421d835b",
      "cell_type": "code",
      "metadata": {},
      "source": [
        "# CE Reranker on CPU: NLI DeBERTa v3 base with asymmetric CPC-on-anchor prompt\n",
        "# - Produces raw CE scores and per-fold isotonic calibrated scores\n",
        "# - Overwrites oof_ce_stsb.csv/submission_ce_stsb.csv with RAW reranker scores for stacker consumption\n",
        "# - Writes oof_ce_l12.csv/submission_ce_l12.csv with ce_iso for optional usage in LGBM stacker\n",
        "import time, numpy as np, pandas as pd\n",
        "from scipy.stats import pearsonr\n",
        "from sklearn.isotonic import IsotonicRegression\n",
        "from sklearn.linear_model import LinearRegression\n",
        "from sentence_transformers import CrossEncoder\n",
        "\n",
        "SEED = 42\n",
        "np.random.seed(SEED)\n",
        "\n",
        "# CPC mapping (4->3->2 title; RAW code fallback), truncate to 10 words\n",
        "CPC_DESCRIPTIONS = {\n",
        "    'A61B':'Diagnosis; Surgery; Identification','A61F':'Filters; Prostheses; Braces','A61K':'Preparations for medical, dental, or toilet purposes','A61M':'Devices for introducing/circulating media into the body',\n",
        "    'B01D':'Separation; Sorption; Membranes','B29C':'Shaping or joining of plastics','B32B':'Layered products','B60K':'Arrangement or mounting of vehicle power plant or auxiliaries','B60R':'Vehicles, vehicle fittings, or vehicle parts','B60T':'Vehicle brake control systems or parts',\n",
        "    'C01B':'Non-metallic elements; Compounds thereof','C04B':'Cement; Concrete; Ceramics','C07C':'Acyclic or carbocyclic compounds','C07D':'Heterocyclic compounds','C07K':'Peptides','C08F':'Macromolecular compounds by polymerising monomers','C08L':'Compositions of macromolecular compounds','C09K':'Materials for miscellaneous applications',\n",
        "    'C12N':'Microorganisms or enzymes; Genetic engineering','C12P':'Fermentation or enzyme-using processes','C12Q':'Measuring/testing involving enzymes or microorganisms',\n",
        "    'E04B':'Building constructions; Walls; Floors; Roofs','F16B':'Screws; Rivets; Joints','F16F':'Springs; Shock-absorbers; Dampers','F16L':'Pipes; Joints or fittings for pipes',\n",
        "    'G01N':'Investigating or analysing materials','G02B':'Optical elements, systems, or apparatus','G02F':'Control of light','G06F':'Electric digital data processing','G06K':'Recognition/Presentation of data','G06Q':'Data processing for administrative/financial/managerial',\n",
        "    'H01L':'Semiconductor devices','H01M':'Batteries; Fuel cells','H02J':'Power supply/distribution','H04L':'Transmission of digital information','H04N':'Pictorial communication','H04W':'Wireless communication networks','H05K':'Printed circuits; Electric assemblies',\n",
        "    'A01':'Agriculture; Forestry; Animal husbandry; Hunting; Trapping; Fishing','A21':'Baking; Edible doughs','A23':'Foods or foodstuffs; Treatment thereof','A24':'Tobacco; Cigars; Cigarettes; Simulated smoking devices; Smokers\\' requisites','A41':'Wearing apparel','A42':'Headwear','A43':'Footwear','A45':'Hand or travelling articles','A46':'Brushware','A47':'Furniture; Domestic articles or appliances; Coffee mills; Spice mills; Suction cleaners','A61':'Medical or veterinary science; Hygiene','A62':'Life-saving; Fire-fighting','A63':'Sports; Games; Amusements',\n",
        "    'B01':'Physical or chemical processes or apparatus','B02':'Crushing; pulverising; disintegrating','B03':'Separation of solid materials using liquids or jigs','B04':'Centrifugal apparatus or machines','B05':'Spraying; atomising; Applying fluent materials to surfaces','B06':'Mechanical vibrations','B07':'Separating solids; Sorting','B08':'Cleaning','B09':'Disposal of solid waste; Soil reclamation','B21':'Mechanical metal-working without removing material','B22':'Casting; Powder metallurgy','B23':'Machine tools; Metal-working n.e.c.','B24':'Grinding; Polishing','B25':'Hand tools; Portable power-driven tools; Manipulators','B26':'Hand cutting tools; Cutting; Severing','B27':'Working/preserving wood; Nailing or stapling','B28':'Working cement, clay, or stone','B29':'Working of plastics; Plastic state substances','B30':'Presses','B31':'Making paper-like articles','B32':'Layered products','B33':'Additive manufacturing','B41':'Printing; Typewriters; Stamps','B42':'Bookbinding; Albums; Files','B43':'Writing or drawing implements; Bureau accessories','B44':'Decorative arts','B60':'Vehicles in general','B61':'Railways','B62':'Land vehicles not on rails','B63':'Ships or waterborne vessels','B64':'Aircraft; Aviation; Cosmonautics','B65':'Conveying; Packing; Storing','B66':'Hoisting; Lifting; Hauling','B67':'Opening/closing containers; Liquid handling','B68':'Saddlery; Upholstery','B81':'Microstructural technology','B82':'Nanotechnology',\n",
        "    'C01':'Inorganic chemistry','C02':'Treatment of water, wastewater, sewage, sludge','C03':'Glass; Mineral or slag wool','C04':'Cements; Concrete; Ceramics; Refractories','C05':'Fertilisers','C06':'Explosives; Matches','C07':'Organic chemistry','C08':'Organic macromolecular compounds; Polymers','C09':'Dyes; Paints; Polishes; Adhesives; Misc compositions','C10':'Petroleum/gas/coke industries; Fuels; Lubricants; Peat','C11':'Oils, fats, waxes; Detergents; Candles','C12':'Biochemistry; Microbiology; Enzymology; Fermentation','C13':'Sugar industry','C14':'Skins; Hides; Leather',\n",
        "    'C21':'Metallurgy of iron','C22':'Metallurgy; Alloys; Treatment of non-ferrous metals','C23':'Coating metallic material; Chemical surface treatment','C25':'Electrolytic/electrophoretic processes','C30':'Crystal growth','C40':'Combinatorial technology',\n",
        "    'D01':'Threads or fibres; Spinning','D02':'Yarns; Finishing; Warping or beaming','D03':'Weaving','D04':'Braiding; Lace-making; Knitting; Non-wovens','D05':'Sewing; Embroidering; Tufting','D06':'Textile treatment; Laundering; Flexible materials','D07':'Ropes; Cables other than electric','D21':'Paper-making; Cellulose production',\n",
        "    'E01':'Road/rail/bridge construction','E02':'Hydraulic engineering; Foundations; Soil shifting','E03':'Water supply; Sewerage','E04':'Building','E05':'Locks; Keys; Fittings; Safes','E06':'Doors; Windows; Shutters; Ladders','E21':'Earth/rock drilling; Mining',\n",
        "    'F01':'Machines or engines in general','F02':'Combustion engines; Hot-gas plants','F03':'Machines or engines for liquids; Wind/spring motors','F04':'Positive-displacement machines; Pumps','F15':'Fluid-pressure actuators; Hydraulics; Pneumatics','F16':'Engineering elements or units','F17':'Storing/distributing gases or liquids','F21':'Lighting','F22':'Steam generation','F23':'Combustion apparatus; Processes','F24':'Heating; Ranges; Ventilating','F25':'Refrigeration or cooling; Heat pumps','F26':'Drying','F27':'Furnaces; Kilns; Ovens','F28':'Heat exchange in general','F41':'Weapons','F42':'Ammunition; Blasting',\n",
        "    'G01':'Measuring; Testing','G02':'Optics','G03':'Photography; Cinematography; Non-optical waves','G04':'Horology','G05':'Controlling; Regulating','G06':'Computing; Calculating; Counting','G07':'Checking-devices','G08':'Signalling','G09':'Educating; Cryptography; Display; Advertising; Seals','G10':'Musical instruments; Acoustics','G11':'Information storage','G12':'Instrument details','G16':'ICT adapted for specific fields','G21':'Nuclear physics; Nuclear engineering',\n",
        "    'H01':'Electric elements','H02':'Electric power: generation, conversion, distribution','H03':'Electronic circuitry','H04':'Electric communication technique','H05':'Electric techniques not otherwise provided for'\n",
        "}\n",
        "\n",
        "def get_cpc_text(code: str) -> str:\n",
        "    if not isinstance(code, str) or not code:\n",
        "        return 'GENERAL'\n",
        "    code = code.strip().upper()\n",
        "    for k in (4,3,2):\n",
        "        pref = code[:k]\n",
        "        if pref in CPC_DESCRIPTIONS:\n",
        "            return CPC_DESCRIPTIONS[pref]\n",
        "    return code  # RAW fallback\n",
        "\n",
        "def truncate_words(text: str, n: int = 10) -> str:\n",
        "    w = text.split() if isinstance(text, str) else []\n",
        "    return ' '.join(w[:n])\n",
        "\n",
        "def build_pairs_asym(df: pd.DataFrame):\n",
        "    cpc_full = df['context'].astype(str).map(get_cpc_text)\n",
        "    cpc_10w = cpc_full.map(lambda x: truncate_words(x, 10))\n",
        "    a_side = (cpc_10w + ' [SEP] ' + df['anchor'].astype(str)).tolist()\n",
        "    b_side = df['target'].astype(str).tolist()\n",
        "    return list(zip(a_side, b_side))\n",
        "\n",
        "t0 = time.time()\n",
        "train = pd.read_csv('train.csv')\n",
        "test = pd.read_csv('test.csv')\n",
        "folds = pd.read_csv('folds_by_id.csv')\n",
        "train = train.merge(folds, on='id', how='left', validate='one_to_one')\n",
        "assert (train['fold']>=0).all(), 'Fold merge by id failed'\n",
        "\n",
        "train_pairs = build_pairs_asym(train)\n",
        "test_pairs = build_pairs_asym(test)\n",
        "\n",
        "# Public reranker backbone suggested by experts; CPU-friendly\n",
        "model_name = 'cross-encoder/nli-deberta-v3-base'\n",
        "ce = CrossEncoder(model_name, device='cpu', max_length=256, tokenizer_args={'use_fast': False})\n",
        "\n",
        "def predict_entailment_prob(ce: CrossEncoder, pairs, batch_size=64):\n",
        "    # Get softmax probabilities and select the 'entailment' index using id2label when available\n",
        "    probs = np.asarray(ce.predict(pairs, batch_size=batch_size, show_progress_bar=True, apply_softmax=True))\n",
        "    ent_idx = None\n",
        "    try:\n",
        "        id2label = getattr(ce.model.config, 'id2label', None)\n",
        "        if isinstance(id2label, dict) and len(id2label) >= 2:\n",
        "            for k, v in id2label.items():\n",
        "                name = str(v).lower()\n",
        "                if 'entail' in name:\n",
        "                    ent_idx = int(k) if isinstance(k, (int, np.integer)) or str(k).isdigit() else None\n",
        "                    break\n",
        "    except Exception:\n",
        "        pass\n",
        "    if ent_idx is None:\n",
        "        # Fallback: common mapping for NLI is 0:contradiction,1:neutral,2:entailment\n",
        "        ent_idx = 2 if probs.shape[1] == 3 else probs.shape[1]-1\n",
        "    return probs[:, ent_idx].astype(np.float32)\n",
        "\n",
        "print('Scoring train pairs (nli-deberta-v3-base, context on anchor)...', flush=True)\n",
        "train_scores_raw = predict_entailment_prob(ce, train_pairs, batch_size=64)\n",
        "print('Scoring test pairs (nli-deberta-v3-base, context on anchor)...', flush=True)\n",
        "test_scores_raw = predict_entailment_prob(ce, test_pairs, batch_size=64)\n",
        "\n",
        "# Per-fold isotonic vs linear calibration for diagnostics\n",
        "y = train['score'].values.astype(np.float32)\n",
        "oof_iso = np.zeros_like(y, dtype=np.float32)\n",
        "oof_lin = np.zeros_like(y, dtype=np.float32)\n",
        "test_iso_f, test_lin_f = [], []\n",
        "for f in sorted(train['fold'].unique()):\n",
        "    tr_idx = np.where(train['fold'] != f)[0]\n",
        "    va_idx = np.where(train['fold'] == f)[0]\n",
        "    raw_p = pearsonr(train_scores_raw[va_idx], y[va_idx])[0]\n",
        "    iso = IsotonicRegression(out_of_bounds='clip')\n",
        "    iso.fit(train_scores_raw[tr_idx], y[tr_idx])\n",
        "    oof_iso[va_idx] = iso.predict(train_scores_raw[va_idx]).astype(np.float32)\n",
        "    test_iso_f.append(iso.predict(test_scores_raw).astype(np.float32))\n",
        "    lr = LinearRegression()\n",
        "    lr.fit(train_scores_raw[tr_idx].reshape(-1,1), y[tr_idx])\n",
        "    oof_lin[va_idx] = lr.predict(train_scores_raw[va_idx].reshape(-1,1)).astype(np.float32)\n",
        "    test_lin_f.append(lr.predict(test_scores_raw.reshape(-1,1)).astype(np.float32))\n",
        "    print(f'NLI-CE Fold {int(f)}: raw={raw_p:.6f} | iso={pearsonr(oof_iso[va_idx], y[va_idx])[0]:.6f} | lin={pearsonr(oof_lin[va_idx], y[va_idx])[0]:.6f}', flush=True)\n",
        "\n",
        "p_raw = pearsonr(train_scores_raw, y)[0]\n",
        "p_iso = pearsonr(oof_iso, y)[0]\n",
        "p_lin = pearsonr(oof_lin, y)[0]\n",
        "print('NLI-CE OOF Pearson: raw=', round(float(p_raw),6), ' iso=', round(float(p_iso),6), ' lin=', round(float(p_lin),6))\n",
        "\n",
        "# Save dedicated artifacts\n",
        "pd.DataFrame({'id': train['id'], 'oof_raw': train_scores_raw, 'oof_iso': oof_iso}).to_csv('oof_ce_bge_rerank.csv', index=False)\n",
        "pd.DataFrame({'id': test['id'], 'score_raw': test_scores_raw, 'score_iso': np.mean(np.vstack(test_iso_f), axis=0).astype(np.float32)}).to_csv('submission_ce_bge_rerank.csv', index=False)\n",
        "\n",
        "# Overwrite CE artifacts used by stackers:\n",
        "pd.DataFrame({'id': train['id'], 'oof': train_scores_raw}).to_csv('oof_ce_stsb.csv', index=False)\n",
        "pd.DataFrame({'id': test['id'], 'score': test_scores_raw}).to_csv('submission_ce_stsb.csv', index=False)\n",
        "pd.DataFrame({'id': train['id'], 'oof_raw': train_scores_raw, 'oof_iso': oof_iso}).to_csv('oof_ce_l12.csv', index=False)\n",
        "pd.DataFrame({'id': test['id'], 'score_raw': test_scores_raw, 'score_iso': np.mean(np.vstack(test_iso_f), axis=0).astype(np.float32)}).to_csv('submission_ce_l12.csv', index=False)\n",
        "\n",
        "print('Saved NLI DeBERTa CE artifacts and overwrote CE files for stacker. Elapsed', round((time.time()-t0)/60,2), 'min')"
      ],
      "execution_count": 3,
      "outputs": [
        {
          "output_type": "stream",
          "name": "stdout",
          "text": [
            "Scoring train pairs (nli-deberta-v3-base, context on anchor)...\n"
          ]
        },
        {
          "output_type": "stream",
          "name": "stderr",
          "text": [
            "\rBatches:   0%|          | 0/513 [00:00<?, ?it/s]"
          ]
        },
        {
          "output_type": "stream",
          "name": "stderr",
          "text": [
            "\rBatches:   0%|          | 1/513 [00:00<04:14,  2.01it/s]"
          ]
        },
        {
          "output_type": "stream",
          "name": "stderr",
          "text": [
            "\rBatches:   0%|          | 2/513 [00:00<03:22,  2.52it/s]"
          ]
        },
        {
          "output_type": "stream",
          "name": "stderr",
          "text": [
            "\rBatches:   1%|          | 3/513 [00:01<03:09,  2.69it/s]"
          ]
        },
        {
          "output_type": "stream",
          "name": "stderr",
          "text": [
            "\rBatches:   1%|          | 4/513 [00:01<03:00,  2.81it/s]"
          ]
        },
        {
          "output_type": "stream",
          "name": "stderr",
          "text": [
            "\rBatches:   1%|          | 5/513 [00:01<03:07,  2.71it/s]"
          ]
        },
        {
          "output_type": "stream",
          "name": "stderr",
          "text": [
            "\rBatches:   1%|          | 6/513 [00:02<02:59,  2.82it/s]"
          ]
        },
        {
          "output_type": "stream",
          "name": "stderr",
          "text": [
            "\rBatches:   1%|\u258f         | 7/513 [00:02<02:54,  2.90it/s]"
          ]
        },
        {
          "output_type": "stream",
          "name": "stderr",
          "text": [
            "\rBatches:   2%|\u258f         | 8/513 [00:02<02:53,  2.91it/s]"
          ]
        },
        {
          "output_type": "stream",
          "name": "stderr",
          "text": [
            "\rBatches:   2%|\u258f         | 9/513 [00:03<03:01,  2.78it/s]"
          ]
        },
        {
          "output_type": "stream",
          "name": "stderr",
          "text": [
            "\rBatches:   2%|\u258f         | 10/513 [00:03<02:58,  2.82it/s]"
          ]
        },
        {
          "output_type": "stream",
          "name": "stderr",
          "text": [
            "\rBatches:   2%|\u258f         | 11/513 [00:03<02:53,  2.89it/s]"
          ]
        },
        {
          "output_type": "stream",
          "name": "stderr",
          "text": [
            "\rBatches:   2%|\u258f         | 12/513 [00:04<03:07,  2.68it/s]"
          ]
        },
        {
          "output_type": "stream",
          "name": "stderr",
          "text": [
            "\rBatches:   3%|\u258e         | 13/513 [00:04<03:03,  2.72it/s]"
          ]
        },
        {
          "output_type": "stream",
          "name": "stderr",
          "text": [
            "\rBatches:   3%|\u258e         | 14/513 [00:05<02:57,  2.82it/s]"
          ]
        },
        {
          "output_type": "stream",
          "name": "stderr",
          "text": [
            "\rBatches:   3%|\u258e         | 15/513 [00:05<02:52,  2.89it/s]"
          ]
        },
        {
          "output_type": "stream",
          "name": "stderr",
          "text": [
            "\rBatches:   3%|\u258e         | 16/513 [00:05<02:59,  2.77it/s]"
          ]
        },
        {
          "output_type": "stream",
          "name": "stderr",
          "text": [
            "\rBatches:   3%|\u258e         | 17/513 [00:06<02:53,  2.85it/s]"
          ]
        },
        {
          "output_type": "stream",
          "name": "stderr",
          "text": [
            "\rBatches:   4%|\u258e         | 18/513 [00:06<03:11,  2.59it/s]"
          ]
        },
        {
          "output_type": "stream",
          "name": "stderr",
          "text": [
            "\rBatches:   4%|\u258e         | 19/513 [00:06<03:02,  2.70it/s]"
          ]
        },
        {
          "output_type": "stream",
          "name": "stderr",
          "text": [
            "\rBatches:   4%|\u258d         | 20/513 [00:07<02:56,  2.80it/s]"
          ]
        },
        {
          "output_type": "stream",
          "name": "stderr",
          "text": [
            "\rBatches:   4%|\u258d         | 21/513 [00:07<02:50,  2.88it/s]"
          ]
        },
        {
          "output_type": "stream",
          "name": "stderr",
          "text": [
            "\rBatches:   4%|\u258d         | 22/513 [00:07<02:49,  2.90it/s]"
          ]
        },
        {
          "output_type": "stream",
          "name": "stderr",
          "text": [
            "\rBatches:   4%|\u258d         | 23/513 [00:08<02:46,  2.94it/s]"
          ]
        },
        {
          "output_type": "stream",
          "name": "stderr",
          "text": [
            "\rBatches:   5%|\u258d         | 24/513 [00:08<02:45,  2.95it/s]"
          ]
        },
        {
          "output_type": "stream",
          "name": "stderr",
          "text": [
            "\rBatches:   5%|\u258d         | 25/513 [00:08<02:41,  3.02it/s]"
          ]
        },
        {
          "output_type": "stream",
          "name": "stderr",
          "text": [
            "\rBatches:   5%|\u258c         | 26/513 [00:09<02:40,  3.03it/s]"
          ]
        },
        {
          "output_type": "stream",
          "name": "stderr",
          "text": [
            "\rBatches:   5%|\u258c         | 27/513 [00:09<02:41,  3.01it/s]"
          ]
        },
        {
          "output_type": "stream",
          "name": "stderr",
          "text": [
            "\rBatches:   5%|\u258c         | 28/513 [00:09<02:37,  3.09it/s]"
          ]
        },
        {
          "output_type": "stream",
          "name": "stderr",
          "text": [
            "\rBatches:   6%|\u258c         | 29/513 [00:10<02:36,  3.09it/s]"
          ]
        },
        {
          "output_type": "stream",
          "name": "stderr",
          "text": [
            "\rBatches:   6%|\u258c         | 30/513 [00:10<02:34,  3.12it/s]"
          ]
        },
        {
          "output_type": "stream",
          "name": "stderr",
          "text": [
            "\rBatches:   6%|\u258c         | 31/513 [00:10<02:44,  2.92it/s]"
          ]
        },
        {
          "output_type": "stream",
          "name": "stderr",
          "text": [
            "\rBatches:   6%|\u258c         | 32/513 [00:11<02:44,  2.92it/s]"
          ]
        },
        {
          "output_type": "stream",
          "name": "stderr",
          "text": [
            "\rBatches:   6%|\u258b         | 33/513 [00:11<02:41,  2.97it/s]"
          ]
        },
        {
          "output_type": "stream",
          "name": "stderr",
          "text": [
            "\rBatches:   7%|\u258b         | 34/513 [00:11<02:41,  2.96it/s]"
          ]
        },
        {
          "output_type": "stream",
          "name": "stderr",
          "text": [
            "\rBatches:   7%|\u258b         | 35/513 [00:12<02:47,  2.85it/s]"
          ]
        },
        {
          "output_type": "stream",
          "name": "stderr",
          "text": [
            "\rBatches:   7%|\u258b         | 36/513 [00:12<02:42,  2.93it/s]"
          ]
        },
        {
          "output_type": "stream",
          "name": "stderr",
          "text": [
            "\rBatches:   7%|\u258b         | 37/513 [00:12<02:38,  3.00it/s]"
          ]
        },
        {
          "output_type": "stream",
          "name": "stderr",
          "text": [
            "\rBatches:   7%|\u258b         | 38/513 [00:13<02:37,  3.02it/s]"
          ]
        },
        {
          "output_type": "stream",
          "name": "stderr",
          "text": [
            "\rBatches:   8%|\u258a         | 39/513 [00:13<02:43,  2.89it/s]"
          ]
        },
        {
          "output_type": "stream",
          "name": "stderr",
          "text": [
            "\rBatches:   8%|\u258a         | 40/513 [00:13<02:42,  2.92it/s]"
          ]
        },
        {
          "output_type": "stream",
          "name": "stderr",
          "text": [
            "\rBatches:   8%|\u258a         | 41/513 [00:14<02:39,  2.97it/s]"
          ]
        },
        {
          "output_type": "stream",
          "name": "stderr",
          "text": [
            "\rBatches:   8%|\u258a         | 42/513 [00:14<02:37,  3.00it/s]"
          ]
        },
        {
          "output_type": "stream",
          "name": "stderr",
          "text": [
            "\rBatches:   8%|\u258a         | 43/513 [00:14<02:34,  3.04it/s]"
          ]
        },
        {
          "output_type": "stream",
          "name": "stderr",
          "text": [
            "\rBatches:   9%|\u258a         | 44/513 [00:15<02:33,  3.06it/s]"
          ]
        },
        {
          "output_type": "stream",
          "name": "stderr",
          "text": [
            "\rBatches:   9%|\u2589         | 45/513 [00:15<02:33,  3.06it/s]"
          ]
        },
        {
          "output_type": "stream",
          "name": "stderr",
          "text": [
            "\rBatches:   9%|\u2589         | 46/513 [00:15<02:32,  3.07it/s]"
          ]
        },
        {
          "output_type": "stream",
          "name": "stderr",
          "text": [
            "\rBatches:   9%|\u2589         | 47/513 [00:16<02:31,  3.08it/s]"
          ]
        },
        {
          "output_type": "stream",
          "name": "stderr",
          "text": [
            "\rBatches:   9%|\u2589         | 48/513 [00:16<02:33,  3.04it/s]"
          ]
        },
        {
          "output_type": "stream",
          "name": "stderr",
          "text": [
            "\rBatches:  10%|\u2589         | 49/513 [00:16<02:33,  3.01it/s]"
          ]
        },
        {
          "output_type": "stream",
          "name": "stderr",
          "text": [
            "\rBatches:  10%|\u2589         | 50/513 [00:17<02:34,  3.00it/s]"
          ]
        },
        {
          "output_type": "stream",
          "name": "stderr",
          "text": [
            "\rBatches:  10%|\u2589         | 51/513 [00:17<02:34,  2.99it/s]"
          ]
        },
        {
          "output_type": "stream",
          "name": "stderr",
          "text": [
            "\rBatches:  10%|\u2588         | 52/513 [00:17<02:32,  3.02it/s]"
          ]
        },
        {
          "output_type": "stream",
          "name": "stderr",
          "text": [
            "\rBatches:  10%|\u2588         | 53/513 [00:18<02:43,  2.81it/s]"
          ]
        },
        {
          "output_type": "stream",
          "name": "stderr",
          "text": [
            "\rBatches:  11%|\u2588         | 54/513 [00:18<02:48,  2.73it/s]"
          ]
        },
        {
          "output_type": "stream",
          "name": "stderr",
          "text": [
            "\rBatches:  11%|\u2588         | 55/513 [00:19<02:46,  2.75it/s]"
          ]
        },
        {
          "output_type": "stream",
          "name": "stderr",
          "text": [
            "\rBatches:  11%|\u2588         | 56/513 [00:19<02:42,  2.81it/s]"
          ]
        },
        {
          "output_type": "stream",
          "name": "stderr",
          "text": [
            "\rBatches:  11%|\u2588         | 57/513 [00:19<02:45,  2.76it/s]"
          ]
        },
        {
          "output_type": "stream",
          "name": "stderr",
          "text": [
            "\rBatches:  11%|\u2588\u258f        | 58/513 [00:20<02:46,  2.73it/s]"
          ]
        },
        {
          "output_type": "stream",
          "name": "stderr",
          "text": [
            "\rBatches:  12%|\u2588\u258f        | 59/513 [00:20<02:41,  2.81it/s]"
          ]
        },
        {
          "output_type": "stream",
          "name": "stderr",
          "text": [
            "\rBatches:  12%|\u2588\u258f        | 60/513 [00:20<02:43,  2.77it/s]"
          ]
        },
        {
          "output_type": "stream",
          "name": "stderr",
          "text": [
            "\rBatches:  12%|\u2588\u258f        | 61/513 [00:21<02:40,  2.82it/s]"
          ]
        },
        {
          "output_type": "stream",
          "name": "stderr",
          "text": [
            "\rBatches:  12%|\u2588\u258f        | 62/513 [00:21<02:38,  2.84it/s]"
          ]
        },
        {
          "output_type": "stream",
          "name": "stderr",
          "text": [
            "\rBatches:  12%|\u2588\u258f        | 63/513 [00:21<02:35,  2.90it/s]"
          ]
        },
        {
          "output_type": "stream",
          "name": "stderr",
          "text": [
            "\rBatches:  12%|\u2588\u258f        | 64/513 [00:22<02:33,  2.93it/s]"
          ]
        },
        {
          "output_type": "stream",
          "name": "stderr",
          "text": [
            "\rBatches:  13%|\u2588\u258e        | 65/513 [00:22<02:31,  2.95it/s]"
          ]
        },
        {
          "output_type": "stream",
          "name": "stderr",
          "text": [
            "\rBatches:  13%|\u2588\u258e        | 66/513 [00:22<02:35,  2.87it/s]"
          ]
        },
        {
          "output_type": "stream",
          "name": "stderr",
          "text": [
            "\rBatches:  13%|\u2588\u258e        | 67/513 [00:23<02:35,  2.87it/s]"
          ]
        },
        {
          "output_type": "stream",
          "name": "stderr",
          "text": [
            "\rBatches:  13%|\u2588\u258e        | 68/513 [00:23<02:35,  2.86it/s]"
          ]
        },
        {
          "output_type": "stream",
          "name": "stderr",
          "text": [
            "\rBatches:  13%|\u2588\u258e        | 69/513 [00:23<02:38,  2.80it/s]"
          ]
        },
        {
          "output_type": "stream",
          "name": "stderr",
          "text": [
            "\rBatches:  14%|\u2588\u258e        | 70/513 [00:24<02:33,  2.88it/s]"
          ]
        },
        {
          "output_type": "stream",
          "name": "stderr",
          "text": [
            "\rBatches:  14%|\u2588\u258d        | 71/513 [00:24<02:30,  2.94it/s]"
          ]
        },
        {
          "output_type": "stream",
          "name": "stderr",
          "text": [
            "\rBatches:  14%|\u2588\u258d        | 72/513 [00:24<02:32,  2.89it/s]"
          ]
        },
        {
          "output_type": "stream",
          "name": "stderr",
          "text": [
            "\rBatches:  14%|\u2588\u258d        | 73/513 [00:25<02:40,  2.74it/s]"
          ]
        },
        {
          "output_type": "stream",
          "name": "stderr",
          "text": [
            "\rBatches:  14%|\u2588\u258d        | 74/513 [00:25<02:38,  2.78it/s]"
          ]
        },
        {
          "output_type": "stream",
          "name": "stderr",
          "text": [
            "\rBatches:  15%|\u2588\u258d        | 75/513 [00:26<02:38,  2.76it/s]"
          ]
        },
        {
          "output_type": "stream",
          "name": "stderr",
          "text": [
            "\rBatches:  15%|\u2588\u258d        | 76/513 [00:26<02:40,  2.72it/s]"
          ]
        },
        {
          "output_type": "stream",
          "name": "stderr",
          "text": [
            "\rBatches:  15%|\u2588\u258c        | 77/513 [00:26<02:37,  2.76it/s]"
          ]
        },
        {
          "output_type": "stream",
          "name": "stderr",
          "text": [
            "\rBatches:  15%|\u2588\u258c        | 78/513 [00:27<02:33,  2.84it/s]"
          ]
        },
        {
          "output_type": "stream",
          "name": "stderr",
          "text": [
            "\rBatches:  15%|\u2588\u258c        | 79/513 [00:27<02:28,  2.92it/s]"
          ]
        },
        {
          "output_type": "stream",
          "name": "stderr",
          "text": [
            "\rBatches:  16%|\u2588\u258c        | 80/513 [00:27<02:26,  2.96it/s]"
          ]
        },
        {
          "output_type": "stream",
          "name": "stderr",
          "text": [
            "\rBatches:  16%|\u2588\u258c        | 81/513 [00:28<02:24,  2.98it/s]"
          ]
        },
        {
          "output_type": "stream",
          "name": "stderr",
          "text": [
            "\rBatches:  16%|\u2588\u258c        | 82/513 [00:28<02:32,  2.83it/s]"
          ]
        },
        {
          "output_type": "stream",
          "name": "stderr",
          "text": [
            "\rBatches:  16%|\u2588\u258c        | 83/513 [00:28<02:29,  2.87it/s]"
          ]
        },
        {
          "output_type": "stream",
          "name": "stderr",
          "text": [
            "\rBatches:  16%|\u2588\u258b        | 84/513 [00:29<02:32,  2.82it/s]"
          ]
        },
        {
          "output_type": "stream",
          "name": "stderr",
          "text": [
            "\rBatches:  17%|\u2588\u258b        | 85/513 [00:29<02:28,  2.87it/s]"
          ]
        },
        {
          "output_type": "stream",
          "name": "stderr",
          "text": [
            "\rBatches:  17%|\u2588\u258b        | 86/513 [00:29<02:26,  2.92it/s]"
          ]
        },
        {
          "output_type": "stream",
          "name": "stderr",
          "text": [
            "\rBatches:  17%|\u2588\u258b        | 87/513 [00:30<02:29,  2.84it/s]"
          ]
        },
        {
          "output_type": "stream",
          "name": "stderr",
          "text": [
            "\rBatches:  17%|\u2588\u258b        | 88/513 [00:30<02:31,  2.80it/s]"
          ]
        },
        {
          "output_type": "stream",
          "name": "stderr",
          "text": [
            "\rBatches:  17%|\u2588\u258b        | 89/513 [00:30<02:32,  2.78it/s]"
          ]
        },
        {
          "output_type": "stream",
          "name": "stderr",
          "text": [
            "\rBatches:  18%|\u2588\u258a        | 90/513 [00:31<02:35,  2.72it/s]"
          ]
        },
        {
          "output_type": "stream",
          "name": "stderr",
          "text": [
            "\rBatches:  18%|\u2588\u258a        | 91/513 [00:31<02:31,  2.79it/s]"
          ]
        },
        {
          "output_type": "stream",
          "name": "stderr",
          "text": [
            "\rBatches:  18%|\u2588\u258a        | 92/513 [00:32<02:30,  2.79it/s]"
          ]
        },
        {
          "output_type": "stream",
          "name": "stderr",
          "text": [
            "\rBatches:  18%|\u2588\u258a        | 93/513 [00:32<02:30,  2.80it/s]"
          ]
        },
        {
          "output_type": "stream",
          "name": "stderr",
          "text": [
            "\rBatches:  18%|\u2588\u258a        | 94/513 [00:32<02:29,  2.81it/s]"
          ]
        },
        {
          "output_type": "stream",
          "name": "stderr",
          "text": [
            "\rBatches:  19%|\u2588\u258a        | 95/513 [00:33<02:26,  2.86it/s]"
          ]
        },
        {
          "output_type": "stream",
          "name": "stderr",
          "text": [
            "\rBatches:  19%|\u2588\u258a        | 96/513 [00:33<02:24,  2.89it/s]"
          ]
        },
        {
          "output_type": "stream",
          "name": "stderr",
          "text": [
            "\rBatches:  19%|\u2588\u2589        | 97/513 [00:33<02:22,  2.93it/s]"
          ]
        },
        {
          "output_type": "stream",
          "name": "stderr",
          "text": [
            "\rBatches:  19%|\u2588\u2589        | 98/513 [00:34<02:20,  2.95it/s]"
          ]
        },
        {
          "output_type": "stream",
          "name": "stderr",
          "text": [
            "\rBatches:  19%|\u2588\u2589        | 99/513 [00:34<02:22,  2.90it/s]"
          ]
        },
        {
          "output_type": "stream",
          "name": "stderr",
          "text": [
            "\rBatches:  19%|\u2588\u2589        | 100/513 [00:34<02:25,  2.84it/s]"
          ]
        },
        {
          "output_type": "stream",
          "name": "stderr",
          "text": [
            "\rBatches:  20%|\u2588\u2589        | 101/513 [00:35<02:29,  2.75it/s]"
          ]
        },
        {
          "output_type": "stream",
          "name": "stderr",
          "text": [
            "\rBatches:  20%|\u2588\u2589        | 102/513 [00:35<02:36,  2.63it/s]"
          ]
        },
        {
          "output_type": "stream",
          "name": "stderr",
          "text": [
            "\rBatches:  20%|\u2588\u2588        | 103/513 [00:36<02:32,  2.70it/s]"
          ]
        },
        {
          "output_type": "stream",
          "name": "stderr",
          "text": [
            "\rBatches:  20%|\u2588\u2588        | 104/513 [00:36<02:27,  2.77it/s]"
          ]
        },
        {
          "output_type": "stream",
          "name": "stderr",
          "text": [
            "\rBatches:  20%|\u2588\u2588        | 105/513 [00:36<02:22,  2.86it/s]"
          ]
        },
        {
          "output_type": "stream",
          "name": "stderr",
          "text": [
            "\rBatches:  21%|\u2588\u2588        | 106/513 [00:37<02:20,  2.89it/s]"
          ]
        },
        {
          "output_type": "stream",
          "name": "stderr",
          "text": [
            "\rBatches:  21%|\u2588\u2588        | 107/513 [00:37<02:27,  2.76it/s]"
          ]
        },
        {
          "output_type": "stream",
          "name": "stderr",
          "text": [
            "\rBatches:  21%|\u2588\u2588        | 108/513 [00:37<02:25,  2.77it/s]"
          ]
        },
        {
          "output_type": "stream",
          "name": "stderr",
          "text": [
            "\rBatches:  21%|\u2588\u2588        | 109/513 [00:38<02:22,  2.84it/s]"
          ]
        },
        {
          "output_type": "stream",
          "name": "stderr",
          "text": [
            "\rBatches:  21%|\u2588\u2588\u258f       | 110/513 [00:38<02:18,  2.92it/s]"
          ]
        },
        {
          "output_type": "stream",
          "name": "stderr",
          "text": [
            "\rBatches:  22%|\u2588\u2588\u258f       | 111/513 [00:38<02:17,  2.93it/s]"
          ]
        },
        {
          "output_type": "stream",
          "name": "stderr",
          "text": [
            "\rBatches:  22%|\u2588\u2588\u258f       | 112/513 [00:39<02:14,  2.98it/s]"
          ]
        },
        {
          "output_type": "stream",
          "name": "stderr",
          "text": [
            "\rBatches:  22%|\u2588\u2588\u258f       | 113/513 [00:39<02:15,  2.95it/s]"
          ]
        },
        {
          "output_type": "stream",
          "name": "stderr",
          "text": [
            "\rBatches:  22%|\u2588\u2588\u258f       | 114/513 [00:39<02:14,  2.97it/s]"
          ]
        },
        {
          "output_type": "stream",
          "name": "stderr",
          "text": [
            "\rBatches:  22%|\u2588\u2588\u258f       | 115/513 [00:40<02:19,  2.86it/s]"
          ]
        },
        {
          "output_type": "stream",
          "name": "stderr",
          "text": [
            "\rBatches:  23%|\u2588\u2588\u258e       | 116/513 [00:40<02:19,  2.84it/s]"
          ]
        },
        {
          "output_type": "stream",
          "name": "stderr",
          "text": [
            "\rBatches:  23%|\u2588\u2588\u258e       | 117/513 [00:40<02:17,  2.88it/s]"
          ]
        },
        {
          "output_type": "stream",
          "name": "stderr",
          "text": [
            "\rBatches:  23%|\u2588\u2588\u258e       | 118/513 [00:41<02:16,  2.90it/s]"
          ]
        },
        {
          "output_type": "stream",
          "name": "stderr",
          "text": [
            "\rBatches:  23%|\u2588\u2588\u258e       | 119/513 [00:41<02:14,  2.92it/s]"
          ]
        },
        {
          "output_type": "stream",
          "name": "stderr",
          "text": [
            "\rBatches:  23%|\u2588\u2588\u258e       | 120/513 [00:41<02:13,  2.94it/s]"
          ]
        },
        {
          "output_type": "stream",
          "name": "stderr",
          "text": [
            "\rBatches:  24%|\u2588\u2588\u258e       | 121/513 [00:42<02:14,  2.92it/s]"
          ]
        },
        {
          "output_type": "stream",
          "name": "stderr",
          "text": [
            "\rBatches:  24%|\u2588\u2588\u258d       | 122/513 [00:42<02:18,  2.83it/s]"
          ]
        },
        {
          "output_type": "stream",
          "name": "stderr",
          "text": [
            "\rBatches:  24%|\u2588\u2588\u258d       | 123/513 [00:42<02:16,  2.87it/s]"
          ]
        },
        {
          "output_type": "stream",
          "name": "stderr",
          "text": [
            "\rBatches:  24%|\u2588\u2588\u258d       | 124/513 [00:43<02:14,  2.88it/s]"
          ]
        },
        {
          "output_type": "stream",
          "name": "stderr",
          "text": [
            "\rBatches:  24%|\u2588\u2588\u258d       | 125/513 [00:43<02:14,  2.88it/s]"
          ]
        },
        {
          "output_type": "stream",
          "name": "stderr",
          "text": [
            "\rBatches:  25%|\u2588\u2588\u258d       | 126/513 [00:43<02:13,  2.90it/s]"
          ]
        },
        {
          "output_type": "stream",
          "name": "stderr",
          "text": [
            "\rBatches:  25%|\u2588\u2588\u258d       | 127/513 [00:44<02:13,  2.90it/s]"
          ]
        },
        {
          "output_type": "stream",
          "name": "stderr",
          "text": [
            "\rBatches:  25%|\u2588\u2588\u258d       | 128/513 [00:44<02:13,  2.88it/s]"
          ]
        },
        {
          "output_type": "stream",
          "name": "stderr",
          "text": [
            "\rBatches:  25%|\u2588\u2588\u258c       | 129/513 [00:44<02:11,  2.91it/s]"
          ]
        },
        {
          "output_type": "stream",
          "name": "stderr",
          "text": [
            "\rBatches:  25%|\u2588\u2588\u258c       | 130/513 [00:45<02:11,  2.92it/s]"
          ]
        },
        {
          "output_type": "stream",
          "name": "stderr",
          "text": [
            "\rBatches:  26%|\u2588\u2588\u258c       | 131/513 [00:45<02:11,  2.91it/s]"
          ]
        },
        {
          "output_type": "stream",
          "name": "stderr",
          "text": [
            "\rBatches:  26%|\u2588\u2588\u258c       | 132/513 [00:46<02:17,  2.77it/s]"
          ]
        },
        {
          "output_type": "stream",
          "name": "stderr",
          "text": [
            "\rBatches:  26%|\u2588\u2588\u258c       | 133/513 [00:46<02:18,  2.74it/s]"
          ]
        },
        {
          "output_type": "stream",
          "name": "stderr",
          "text": [
            "\rBatches:  26%|\u2588\u2588\u258c       | 134/513 [00:46<02:14,  2.81it/s]"
          ]
        },
        {
          "output_type": "stream",
          "name": "stderr",
          "text": [
            "\rBatches:  26%|\u2588\u2588\u258b       | 135/513 [00:47<02:12,  2.85it/s]"
          ]
        },
        {
          "output_type": "stream",
          "name": "stderr",
          "text": [
            "\rBatches:  27%|\u2588\u2588\u258b       | 136/513 [00:47<02:11,  2.86it/s]"
          ]
        },
        {
          "output_type": "stream",
          "name": "stderr",
          "text": [
            "\rBatches:  27%|\u2588\u2588\u258b       | 137/513 [00:47<02:13,  2.82it/s]"
          ]
        },
        {
          "output_type": "stream",
          "name": "stderr",
          "text": [
            "\rBatches:  27%|\u2588\u2588\u258b       | 138/513 [00:48<02:11,  2.86it/s]"
          ]
        },
        {
          "output_type": "stream",
          "name": "stderr",
          "text": [
            "\rBatches:  27%|\u2588\u2588\u258b       | 139/513 [00:48<02:07,  2.93it/s]"
          ]
        },
        {
          "output_type": "stream",
          "name": "stderr",
          "text": [
            "\rBatches:  27%|\u2588\u2588\u258b       | 140/513 [00:48<02:03,  3.01it/s]"
          ]
        },
        {
          "output_type": "stream",
          "name": "stderr",
          "text": [
            "\rBatches:  27%|\u2588\u2588\u258b       | 141/513 [00:49<02:04,  2.99it/s]"
          ]
        },
        {
          "output_type": "stream",
          "name": "stderr",
          "text": [
            "\rBatches:  28%|\u2588\u2588\u258a       | 142/513 [00:49<02:04,  2.98it/s]"
          ]
        },
        {
          "output_type": "stream",
          "name": "stderr",
          "text": [
            "\rBatches:  28%|\u2588\u2588\u258a       | 143/513 [00:49<02:03,  2.99it/s]"
          ]
        },
        {
          "output_type": "stream",
          "name": "stderr",
          "text": [
            "\rBatches:  28%|\u2588\u2588\u258a       | 144/513 [00:50<02:03,  2.98it/s]"
          ]
        },
        {
          "output_type": "stream",
          "name": "stderr",
          "text": [
            "\rBatches:  28%|\u2588\u2588\u258a       | 145/513 [00:50<02:02,  2.99it/s]"
          ]
        },
        {
          "output_type": "stream",
          "name": "stderr",
          "text": [
            "\rBatches:  28%|\u2588\u2588\u258a       | 146/513 [00:50<02:04,  2.96it/s]"
          ]
        },
        {
          "output_type": "stream",
          "name": "stderr",
          "text": [
            "\rBatches:  29%|\u2588\u2588\u258a       | 147/513 [00:51<02:06,  2.88it/s]"
          ]
        },
        {
          "output_type": "stream",
          "name": "stderr",
          "text": [
            "\rBatches:  29%|\u2588\u2588\u2589       | 148/513 [00:51<02:12,  2.76it/s]"
          ]
        },
        {
          "output_type": "stream",
          "name": "stderr",
          "text": [
            "\rBatches:  29%|\u2588\u2588\u2589       | 149/513 [00:51<02:11,  2.78it/s]"
          ]
        },
        {
          "output_type": "stream",
          "name": "stderr",
          "text": [
            "\rBatches:  29%|\u2588\u2588\u2589       | 150/513 [00:52<02:06,  2.87it/s]"
          ]
        },
        {
          "output_type": "stream",
          "name": "stderr",
          "text": [
            "\rBatches:  29%|\u2588\u2588\u2589       | 151/513 [00:52<02:03,  2.94it/s]"
          ]
        },
        {
          "output_type": "stream",
          "name": "stderr",
          "text": [
            "\rBatches:  30%|\u2588\u2588\u2589       | 152/513 [00:52<02:02,  2.96it/s]"
          ]
        },
        {
          "output_type": "stream",
          "name": "stderr",
          "text": [
            "\rBatches:  30%|\u2588\u2588\u2589       | 153/513 [00:53<02:01,  2.95it/s]"
          ]
        },
        {
          "output_type": "stream",
          "name": "stderr",
          "text": [
            "\rBatches:  30%|\u2588\u2588\u2588       | 154/513 [00:53<01:58,  3.03it/s]"
          ]
        },
        {
          "output_type": "stream",
          "name": "stderr",
          "text": [
            "\rBatches:  30%|\u2588\u2588\u2588       | 155/513 [00:53<01:58,  3.02it/s]"
          ]
        },
        {
          "output_type": "stream",
          "name": "stderr",
          "text": [
            "\rBatches:  30%|\u2588\u2588\u2588       | 156/513 [00:54<01:58,  3.01it/s]"
          ]
        },
        {
          "output_type": "stream",
          "name": "stderr",
          "text": [
            "\rBatches:  31%|\u2588\u2588\u2588       | 157/513 [00:54<02:00,  2.97it/s]"
          ]
        },
        {
          "output_type": "stream",
          "name": "stderr",
          "text": [
            "\rBatches:  31%|\u2588\u2588\u2588       | 158/513 [00:54<01:59,  2.98it/s]"
          ]
        },
        {
          "output_type": "stream",
          "name": "stderr",
          "text": [
            "\rBatches:  31%|\u2588\u2588\u2588       | 159/513 [00:55<01:59,  2.95it/s]"
          ]
        },
        {
          "output_type": "stream",
          "name": "stderr",
          "text": [
            "\rBatches:  31%|\u2588\u2588\u2588       | 160/513 [00:55<01:59,  2.95it/s]"
          ]
        },
        {
          "output_type": "stream",
          "name": "stderr",
          "text": [
            "\rBatches:  31%|\u2588\u2588\u2588\u258f      | 161/513 [00:55<01:59,  2.96it/s]"
          ]
        },
        {
          "output_type": "stream",
          "name": "stderr",
          "text": [
            "\rBatches:  32%|\u2588\u2588\u2588\u258f      | 162/513 [00:56<01:58,  2.97it/s]"
          ]
        },
        {
          "output_type": "stream",
          "name": "stderr",
          "text": [
            "\rBatches:  32%|\u2588\u2588\u2588\u258f      | 163/513 [00:56<01:56,  3.02it/s]"
          ]
        },
        {
          "output_type": "stream",
          "name": "stderr",
          "text": [
            "\rBatches:  32%|\u2588\u2588\u2588\u258f      | 164/513 [00:56<01:55,  3.01it/s]"
          ]
        },
        {
          "output_type": "stream",
          "name": "stderr",
          "text": [
            "\rBatches:  32%|\u2588\u2588\u2588\u258f      | 165/513 [00:57<01:55,  3.01it/s]"
          ]
        },
        {
          "output_type": "stream",
          "name": "stderr",
          "text": [
            "\rBatches:  32%|\u2588\u2588\u2588\u258f      | 166/513 [00:57<01:54,  3.04it/s]"
          ]
        },
        {
          "output_type": "stream",
          "name": "stderr",
          "text": [
            "\rBatches:  33%|\u2588\u2588\u2588\u258e      | 167/513 [00:57<01:57,  2.94it/s]"
          ]
        },
        {
          "output_type": "stream",
          "name": "stderr",
          "text": [
            "\rBatches:  33%|\u2588\u2588\u2588\u258e      | 168/513 [00:58<01:58,  2.92it/s]"
          ]
        },
        {
          "output_type": "stream",
          "name": "stderr",
          "text": [
            "\rBatches:  33%|\u2588\u2588\u2588\u258e      | 169/513 [00:58<02:01,  2.83it/s]"
          ]
        },
        {
          "output_type": "stream",
          "name": "stderr",
          "text": [
            "\rBatches:  33%|\u2588\u2588\u2588\u258e      | 170/513 [00:59<02:02,  2.81it/s]"
          ]
        },
        {
          "output_type": "stream",
          "name": "stderr",
          "text": [
            "\rBatches:  33%|\u2588\u2588\u2588\u258e      | 171/513 [00:59<01:59,  2.86it/s]"
          ]
        },
        {
          "output_type": "stream",
          "name": "stderr",
          "text": [
            "\rBatches:  34%|\u2588\u2588\u2588\u258e      | 172/513 [00:59<01:56,  2.93it/s]"
          ]
        },
        {
          "output_type": "stream",
          "name": "stderr",
          "text": [
            "\rBatches:  34%|\u2588\u2588\u2588\u258e      | 173/513 [01:00<01:53,  2.99it/s]"
          ]
        },
        {
          "output_type": "stream",
          "name": "stderr",
          "text": [
            "\rBatches:  34%|\u2588\u2588\u2588\u258d      | 174/513 [01:00<01:53,  2.98it/s]"
          ]
        },
        {
          "output_type": "stream",
          "name": "stderr",
          "text": [
            "\rBatches:  34%|\u2588\u2588\u2588\u258d      | 175/513 [01:00<01:53,  2.97it/s]"
          ]
        },
        {
          "output_type": "stream",
          "name": "stderr",
          "text": [
            "\rBatches:  34%|\u2588\u2588\u2588\u258d      | 176/513 [01:01<02:15,  2.49it/s]"
          ]
        },
        {
          "output_type": "stream",
          "name": "stderr",
          "text": [
            "\rBatches:  35%|\u2588\u2588\u2588\u258d      | 177/513 [01:01<02:22,  2.35it/s]"
          ]
        },
        {
          "output_type": "stream",
          "name": "stderr",
          "text": [
            "\rBatches:  35%|\u2588\u2588\u2588\u258d      | 178/513 [01:02<02:14,  2.50it/s]"
          ]
        },
        {
          "output_type": "stream",
          "name": "stderr",
          "text": [
            "\rBatches:  35%|\u2588\u2588\u2588\u258d      | 179/513 [01:02<02:07,  2.62it/s]"
          ]
        },
        {
          "output_type": "stream",
          "name": "stderr",
          "text": [
            "\rBatches:  35%|\u2588\u2588\u2588\u258c      | 180/513 [01:02<02:02,  2.71it/s]"
          ]
        },
        {
          "output_type": "stream",
          "name": "stderr",
          "text": [
            "\rBatches:  35%|\u2588\u2588\u2588\u258c      | 181/513 [01:03<02:02,  2.70it/s]"
          ]
        },
        {
          "output_type": "stream",
          "name": "stderr",
          "text": [
            "\rBatches:  35%|\u2588\u2588\u2588\u258c      | 182/513 [01:03<01:59,  2.78it/s]"
          ]
        },
        {
          "output_type": "stream",
          "name": "stderr",
          "text": [
            "\rBatches:  36%|\u2588\u2588\u2588\u258c      | 183/513 [01:03<01:56,  2.82it/s]"
          ]
        },
        {
          "output_type": "stream",
          "name": "stderr",
          "text": [
            "\rBatches:  36%|\u2588\u2588\u2588\u258c      | 184/513 [01:04<01:53,  2.91it/s]"
          ]
        },
        {
          "output_type": "stream",
          "name": "stderr",
          "text": [
            "\rBatches:  36%|\u2588\u2588\u2588\u258c      | 185/513 [01:04<01:51,  2.94it/s]"
          ]
        },
        {
          "output_type": "stream",
          "name": "stderr",
          "text": [
            "\rBatches:  36%|\u2588\u2588\u2588\u258b      | 186/513 [01:04<01:51,  2.94it/s]"
          ]
        },
        {
          "output_type": "stream",
          "name": "stderr",
          "text": [
            "\rBatches:  36%|\u2588\u2588\u2588\u258b      | 187/513 [01:05<01:50,  2.95it/s]"
          ]
        },
        {
          "output_type": "stream",
          "name": "stderr",
          "text": [
            "\rBatches:  37%|\u2588\u2588\u2588\u258b      | 188/513 [01:05<01:50,  2.95it/s]"
          ]
        },
        {
          "output_type": "stream",
          "name": "stderr",
          "text": [
            "\rBatches:  37%|\u2588\u2588\u2588\u258b      | 189/513 [01:05<01:48,  3.00it/s]"
          ]
        },
        {
          "output_type": "stream",
          "name": "stderr",
          "text": [
            "\rBatches:  37%|\u2588\u2588\u2588\u258b      | 190/513 [01:06<01:48,  2.99it/s]"
          ]
        },
        {
          "output_type": "stream",
          "name": "stderr",
          "text": [
            "\rBatches:  37%|\u2588\u2588\u2588\u258b      | 191/513 [01:06<01:48,  2.97it/s]"
          ]
        },
        {
          "output_type": "stream",
          "name": "stderr",
          "text": [
            "\rBatches:  37%|\u2588\u2588\u2588\u258b      | 192/513 [01:06<01:46,  3.02it/s]"
          ]
        },
        {
          "output_type": "stream",
          "name": "stderr",
          "text": [
            "\rBatches:  38%|\u2588\u2588\u2588\u258a      | 193/513 [01:07<01:51,  2.88it/s]"
          ]
        },
        {
          "output_type": "stream",
          "name": "stderr",
          "text": [
            "\rBatches:  38%|\u2588\u2588\u2588\u258a      | 194/513 [01:07<01:54,  2.78it/s]"
          ]
        },
        {
          "output_type": "stream",
          "name": "stderr",
          "text": [
            "\rBatches:  38%|\u2588\u2588\u2588\u258a      | 195/513 [01:07<01:49,  2.89it/s]"
          ]
        },
        {
          "output_type": "stream",
          "name": "stderr",
          "text": [
            "\rBatches:  38%|\u2588\u2588\u2588\u258a      | 196/513 [01:08<01:50,  2.86it/s]"
          ]
        },
        {
          "output_type": "stream",
          "name": "stderr",
          "text": [
            "\rBatches:  38%|\u2588\u2588\u2588\u258a      | 197/513 [01:08<01:49,  2.90it/s]"
          ]
        },
        {
          "output_type": "stream",
          "name": "stderr",
          "text": [
            "\rBatches:  39%|\u2588\u2588\u2588\u258a      | 198/513 [01:08<01:48,  2.90it/s]"
          ]
        },
        {
          "output_type": "stream",
          "name": "stderr",
          "text": [
            "\rBatches:  39%|\u2588\u2588\u2588\u2589      | 199/513 [01:09<01:47,  2.93it/s]"
          ]
        },
        {
          "output_type": "stream",
          "name": "stderr",
          "text": [
            "\rBatches:  39%|\u2588\u2588\u2588\u2589      | 200/513 [01:09<01:46,  2.93it/s]"
          ]
        },
        {
          "output_type": "stream",
          "name": "stderr",
          "text": [
            "\rBatches:  39%|\u2588\u2588\u2588\u2589      | 201/513 [01:09<01:45,  2.95it/s]"
          ]
        },
        {
          "output_type": "stream",
          "name": "stderr",
          "text": [
            "\rBatches:  39%|\u2588\u2588\u2588\u2589      | 202/513 [01:10<01:45,  2.95it/s]"
          ]
        },
        {
          "output_type": "stream",
          "name": "stderr",
          "text": [
            "\rBatches:  40%|\u2588\u2588\u2588\u2589      | 203/513 [01:10<01:49,  2.83it/s]"
          ]
        },
        {
          "output_type": "stream",
          "name": "stderr",
          "text": [
            "\rBatches:  40%|\u2588\u2588\u2588\u2589      | 204/513 [01:10<01:47,  2.86it/s]"
          ]
        },
        {
          "output_type": "stream",
          "name": "stderr",
          "text": [
            "\rBatches:  40%|\u2588\u2588\u2588\u2589      | 205/513 [01:11<01:46,  2.89it/s]"
          ]
        },
        {
          "output_type": "stream",
          "name": "stderr",
          "text": [
            "\rBatches:  40%|\u2588\u2588\u2588\u2588      | 206/513 [01:11<01:44,  2.93it/s]"
          ]
        },
        {
          "output_type": "stream",
          "name": "stderr",
          "text": [
            "\rBatches:  40%|\u2588\u2588\u2588\u2588      | 207/513 [01:11<01:44,  2.94it/s]"
          ]
        },
        {
          "output_type": "stream",
          "name": "stderr",
          "text": [
            "\rBatches:  41%|\u2588\u2588\u2588\u2588      | 208/513 [01:12<01:43,  2.94it/s]"
          ]
        },
        {
          "output_type": "stream",
          "name": "stderr",
          "text": [
            "\rBatches:  41%|\u2588\u2588\u2588\u2588      | 209/513 [01:12<01:41,  2.99it/s]"
          ]
        },
        {
          "output_type": "stream",
          "name": "stderr",
          "text": [
            "\rBatches:  41%|\u2588\u2588\u2588\u2588      | 210/513 [01:12<01:42,  2.95it/s]"
          ]
        },
        {
          "output_type": "stream",
          "name": "stderr",
          "text": [
            "\rBatches:  41%|\u2588\u2588\u2588\u2588      | 211/513 [01:13<01:47,  2.80it/s]"
          ]
        },
        {
          "output_type": "stream",
          "name": "stderr",
          "text": [
            "\rBatches:  41%|\u2588\u2588\u2588\u2588\u258f     | 212/513 [01:13<01:46,  2.83it/s]"
          ]
        },
        {
          "output_type": "stream",
          "name": "stderr",
          "text": [
            "\rBatches:  42%|\u2588\u2588\u2588\u2588\u258f     | 213/513 [01:14<01:44,  2.88it/s]"
          ]
        },
        {
          "output_type": "stream",
          "name": "stderr",
          "text": [
            "\rBatches:  42%|\u2588\u2588\u2588\u2588\u258f     | 214/513 [01:14<01:42,  2.91it/s]"
          ]
        },
        {
          "output_type": "stream",
          "name": "stderr",
          "text": [
            "\rBatches:  42%|\u2588\u2588\u2588\u2588\u258f     | 215/513 [01:14<01:43,  2.89it/s]"
          ]
        },
        {
          "output_type": "stream",
          "name": "stderr",
          "text": [
            "\rBatches:  42%|\u2588\u2588\u2588\u2588\u258f     | 216/513 [01:15<01:41,  2.91it/s]"
          ]
        },
        {
          "output_type": "stream",
          "name": "stderr",
          "text": [
            "\rBatches:  42%|\u2588\u2588\u2588\u2588\u258f     | 217/513 [01:15<01:42,  2.88it/s]"
          ]
        },
        {
          "output_type": "stream",
          "name": "stderr",
          "text": [
            "\rBatches:  42%|\u2588\u2588\u2588\u2588\u258f     | 218/513 [01:15<01:40,  2.94it/s]"
          ]
        },
        {
          "output_type": "stream",
          "name": "stderr",
          "text": [
            "\rBatches:  43%|\u2588\u2588\u2588\u2588\u258e     | 219/513 [01:16<01:37,  3.02it/s]"
          ]
        },
        {
          "output_type": "stream",
          "name": "stderr",
          "text": [
            "\rBatches:  43%|\u2588\u2588\u2588\u2588\u258e     | 220/513 [01:16<01:37,  3.01it/s]"
          ]
        },
        {
          "output_type": "stream",
          "name": "stderr",
          "text": [
            "\rBatches:  43%|\u2588\u2588\u2588\u2588\u258e     | 221/513 [01:16<01:37,  3.00it/s]"
          ]
        },
        {
          "output_type": "stream",
          "name": "stderr",
          "text": [
            "\rBatches:  43%|\u2588\u2588\u2588\u2588\u258e     | 222/513 [01:17<01:37,  2.99it/s]"
          ]
        },
        {
          "output_type": "stream",
          "name": "stderr",
          "text": [
            "\rBatches:  43%|\u2588\u2588\u2588\u2588\u258e     | 223/513 [01:17<01:37,  2.98it/s]"
          ]
        },
        {
          "output_type": "stream",
          "name": "stderr",
          "text": [
            "\rBatches:  44%|\u2588\u2588\u2588\u2588\u258e     | 224/513 [01:17<01:38,  2.94it/s]"
          ]
        },
        {
          "output_type": "stream",
          "name": "stderr",
          "text": [
            "\rBatches:  44%|\u2588\u2588\u2588\u2588\u258d     | 225/513 [01:18<01:37,  2.95it/s]"
          ]
        },
        {
          "output_type": "stream",
          "name": "stderr",
          "text": [
            "\rBatches:  44%|\u2588\u2588\u2588\u2588\u258d     | 226/513 [01:18<01:37,  2.95it/s]"
          ]
        },
        {
          "output_type": "stream",
          "name": "stderr",
          "text": [
            "\rBatches:  44%|\u2588\u2588\u2588\u2588\u258d     | 227/513 [01:18<01:36,  2.97it/s]"
          ]
        },
        {
          "output_type": "stream",
          "name": "stderr",
          "text": [
            "\rBatches:  44%|\u2588\u2588\u2588\u2588\u258d     | 228/513 [01:19<01:36,  2.97it/s]"
          ]
        },
        {
          "output_type": "stream",
          "name": "stderr",
          "text": [
            "\rBatches:  45%|\u2588\u2588\u2588\u2588\u258d     | 229/513 [01:19<01:35,  2.98it/s]"
          ]
        },
        {
          "output_type": "stream",
          "name": "stderr",
          "text": [
            "\rBatches:  45%|\u2588\u2588\u2588\u2588\u258d     | 230/513 [01:19<01:36,  2.92it/s]"
          ]
        },
        {
          "output_type": "stream",
          "name": "stderr",
          "text": [
            "\rBatches:  45%|\u2588\u2588\u2588\u2588\u258c     | 231/513 [01:20<01:34,  2.98it/s]"
          ]
        },
        {
          "output_type": "stream",
          "name": "stderr",
          "text": [
            "\rBatches:  45%|\u2588\u2588\u2588\u2588\u258c     | 232/513 [01:20<01:33,  3.02it/s]"
          ]
        },
        {
          "output_type": "stream",
          "name": "stderr",
          "text": [
            "\rBatches:  45%|\u2588\u2588\u2588\u2588\u258c     | 233/513 [01:20<01:33,  3.00it/s]"
          ]
        },
        {
          "output_type": "stream",
          "name": "stderr",
          "text": [
            "\rBatches:  46%|\u2588\u2588\u2588\u2588\u258c     | 234/513 [01:21<01:34,  2.95it/s]"
          ]
        },
        {
          "output_type": "stream",
          "name": "stderr",
          "text": [
            "\rBatches:  46%|\u2588\u2588\u2588\u2588\u258c     | 235/513 [01:21<01:35,  2.91it/s]"
          ]
        },
        {
          "output_type": "stream",
          "name": "stderr",
          "text": [
            "\rBatches:  46%|\u2588\u2588\u2588\u2588\u258c     | 236/513 [01:21<01:35,  2.91it/s]"
          ]
        },
        {
          "output_type": "stream",
          "name": "stderr",
          "text": [
            "\rBatches:  46%|\u2588\u2588\u2588\u2588\u258c     | 237/513 [01:22<01:42,  2.70it/s]"
          ]
        },
        {
          "output_type": "stream",
          "name": "stderr",
          "text": [
            "\rBatches:  46%|\u2588\u2588\u2588\u2588\u258b     | 238/513 [01:22<01:39,  2.75it/s]"
          ]
        },
        {
          "output_type": "stream",
          "name": "stderr",
          "text": [
            "\rBatches:  47%|\u2588\u2588\u2588\u2588\u258b     | 239/513 [01:22<01:38,  2.79it/s]"
          ]
        },
        {
          "output_type": "stream",
          "name": "stderr",
          "text": [
            "\rBatches:  47%|\u2588\u2588\u2588\u2588\u258b     | 240/513 [01:23<01:36,  2.82it/s]"
          ]
        },
        {
          "output_type": "stream",
          "name": "stderr",
          "text": [
            "\rBatches:  47%|\u2588\u2588\u2588\u2588\u258b     | 241/513 [01:23<01:35,  2.84it/s]"
          ]
        },
        {
          "output_type": "stream",
          "name": "stderr",
          "text": [
            "\rBatches:  47%|\u2588\u2588\u2588\u2588\u258b     | 242/513 [01:23<01:33,  2.89it/s]"
          ]
        },
        {
          "output_type": "stream",
          "name": "stderr",
          "text": [
            "\rBatches:  47%|\u2588\u2588\u2588\u2588\u258b     | 243/513 [01:24<01:31,  2.95it/s]"
          ]
        },
        {
          "output_type": "stream",
          "name": "stderr",
          "text": [
            "\rBatches:  48%|\u2588\u2588\u2588\u2588\u258a     | 244/513 [01:24<01:30,  2.96it/s]"
          ]
        },
        {
          "output_type": "stream",
          "name": "stderr",
          "text": [
            "\rBatches:  48%|\u2588\u2588\u2588\u2588\u258a     | 245/513 [01:24<01:32,  2.91it/s]"
          ]
        },
        {
          "output_type": "stream",
          "name": "stderr",
          "text": [
            "\rBatches:  48%|\u2588\u2588\u2588\u2588\u258a     | 246/513 [01:25<01:32,  2.88it/s]"
          ]
        },
        {
          "output_type": "stream",
          "name": "stderr",
          "text": [
            "\rBatches:  48%|\u2588\u2588\u2588\u2588\u258a     | 247/513 [01:25<01:31,  2.91it/s]"
          ]
        },
        {
          "output_type": "stream",
          "name": "stderr",
          "text": [
            "\rBatches:  48%|\u2588\u2588\u2588\u2588\u258a     | 248/513 [01:26<01:31,  2.88it/s]"
          ]
        },
        {
          "output_type": "stream",
          "name": "stderr",
          "text": [
            "\rBatches:  49%|\u2588\u2588\u2588\u2588\u258a     | 249/513 [01:26<01:32,  2.86it/s]"
          ]
        },
        {
          "output_type": "stream",
          "name": "stderr",
          "text": [
            "\rBatches:  49%|\u2588\u2588\u2588\u2588\u258a     | 250/513 [01:26<01:30,  2.90it/s]"
          ]
        },
        {
          "output_type": "stream",
          "name": "stderr",
          "text": [
            "\rBatches:  49%|\u2588\u2588\u2588\u2588\u2589     | 251/513 [01:27<01:30,  2.89it/s]"
          ]
        },
        {
          "output_type": "stream",
          "name": "stderr",
          "text": [
            "\rBatches:  49%|\u2588\u2588\u2588\u2588\u2589     | 252/513 [01:27<01:28,  2.95it/s]"
          ]
        },
        {
          "output_type": "stream",
          "name": "stderr",
          "text": [
            "\rBatches:  49%|\u2588\u2588\u2588\u2588\u2589     | 253/513 [01:27<01:27,  2.96it/s]"
          ]
        },
        {
          "output_type": "stream",
          "name": "stderr",
          "text": [
            "\rBatches:  50%|\u2588\u2588\u2588\u2588\u2589     | 254/513 [01:28<01:29,  2.89it/s]"
          ]
        },
        {
          "output_type": "stream",
          "name": "stderr",
          "text": [
            "\rBatches:  50%|\u2588\u2588\u2588\u2588\u2589     | 255/513 [01:28<01:27,  2.94it/s]"
          ]
        },
        {
          "output_type": "stream",
          "name": "stderr",
          "text": [
            "\rBatches:  50%|\u2588\u2588\u2588\u2588\u2589     | 256/513 [01:28<01:25,  3.02it/s]"
          ]
        },
        {
          "output_type": "stream",
          "name": "stderr",
          "text": [
            "\rBatches:  50%|\u2588\u2588\u2588\u2588\u2588     | 257/513 [01:29<01:27,  2.94it/s]"
          ]
        },
        {
          "output_type": "stream",
          "name": "stderr",
          "text": [
            "\rBatches:  50%|\u2588\u2588\u2588\u2588\u2588     | 258/513 [01:29<01:26,  2.94it/s]"
          ]
        },
        {
          "output_type": "stream",
          "name": "stderr",
          "text": [
            "\rBatches:  50%|\u2588\u2588\u2588\u2588\u2588     | 259/513 [01:29<01:25,  2.99it/s]"
          ]
        },
        {
          "output_type": "stream",
          "name": "stderr",
          "text": [
            "\rBatches:  51%|\u2588\u2588\u2588\u2588\u2588     | 260/513 [01:30<01:25,  2.95it/s]"
          ]
        },
        {
          "output_type": "stream",
          "name": "stderr",
          "text": [
            "\rBatches:  51%|\u2588\u2588\u2588\u2588\u2588     | 261/513 [01:30<01:45,  2.39it/s]"
          ]
        },
        {
          "output_type": "stream",
          "name": "stderr",
          "text": [
            "\rBatches:  51%|\u2588\u2588\u2588\u2588\u2588     | 262/513 [01:31<01:37,  2.59it/s]"
          ]
        },
        {
          "output_type": "stream",
          "name": "stderr",
          "text": [
            "\rBatches:  51%|\u2588\u2588\u2588\u2588\u2588\u258f    | 263/513 [01:31<01:33,  2.69it/s]"
          ]
        },
        {
          "output_type": "stream",
          "name": "stderr",
          "text": [
            "\rBatches:  51%|\u2588\u2588\u2588\u2588\u2588\u258f    | 264/513 [01:31<01:28,  2.81it/s]"
          ]
        },
        {
          "output_type": "stream",
          "name": "stderr",
          "text": [
            "\rBatches:  52%|\u2588\u2588\u2588\u2588\u2588\u258f    | 265/513 [01:32<01:25,  2.90it/s]"
          ]
        },
        {
          "output_type": "stream",
          "name": "stderr",
          "text": [
            "\rBatches:  52%|\u2588\u2588\u2588\u2588\u2588\u258f    | 266/513 [01:32<01:26,  2.87it/s]"
          ]
        },
        {
          "output_type": "stream",
          "name": "stderr",
          "text": [
            "\rBatches:  52%|\u2588\u2588\u2588\u2588\u2588\u258f    | 267/513 [01:32<01:24,  2.89it/s]"
          ]
        },
        {
          "output_type": "stream",
          "name": "stderr",
          "text": [
            "\rBatches:  52%|\u2588\u2588\u2588\u2588\u2588\u258f    | 268/513 [01:33<01:28,  2.78it/s]"
          ]
        },
        {
          "output_type": "stream",
          "name": "stderr",
          "text": [
            "\rBatches:  52%|\u2588\u2588\u2588\u2588\u2588\u258f    | 269/513 [01:33<01:25,  2.84it/s]"
          ]
        },
        {
          "output_type": "stream",
          "name": "stderr",
          "text": [
            "\rBatches:  53%|\u2588\u2588\u2588\u2588\u2588\u258e    | 270/513 [01:33<01:23,  2.92it/s]"
          ]
        },
        {
          "output_type": "stream",
          "name": "stderr",
          "text": [
            "\rBatches:  53%|\u2588\u2588\u2588\u2588\u2588\u258e    | 271/513 [01:34<01:22,  2.93it/s]"
          ]
        },
        {
          "output_type": "stream",
          "name": "stderr",
          "text": [
            "\rBatches:  53%|\u2588\u2588\u2588\u2588\u2588\u258e    | 272/513 [01:34<01:20,  2.99it/s]"
          ]
        },
        {
          "output_type": "stream",
          "name": "stderr",
          "text": [
            "\rBatches:  53%|\u2588\u2588\u2588\u2588\u2588\u258e    | 273/513 [01:34<01:20,  3.00it/s]"
          ]
        },
        {
          "output_type": "stream",
          "name": "stderr",
          "text": [
            "\rBatches:  53%|\u2588\u2588\u2588\u2588\u2588\u258e    | 274/513 [01:35<01:21,  2.93it/s]"
          ]
        },
        {
          "output_type": "stream",
          "name": "stderr",
          "text": [
            "\rBatches:  54%|\u2588\u2588\u2588\u2588\u2588\u258e    | 275/513 [01:35<01:20,  2.96it/s]"
          ]
        },
        {
          "output_type": "stream",
          "name": "stderr",
          "text": [
            "\rBatches:  54%|\u2588\u2588\u2588\u2588\u2588\u258d    | 276/513 [01:35<01:19,  2.98it/s]"
          ]
        },
        {
          "output_type": "stream",
          "name": "stderr",
          "text": [
            "\rBatches:  54%|\u2588\u2588\u2588\u2588\u2588\u258d    | 277/513 [01:36<01:19,  2.97it/s]"
          ]
        },
        {
          "output_type": "stream",
          "name": "stderr",
          "text": [
            "\rBatches:  54%|\u2588\u2588\u2588\u2588\u2588\u258d    | 278/513 [01:36<01:21,  2.88it/s]"
          ]
        },
        {
          "output_type": "stream",
          "name": "stderr",
          "text": [
            "\rBatches:  54%|\u2588\u2588\u2588\u2588\u2588\u258d    | 279/513 [01:36<01:20,  2.89it/s]"
          ]
        },
        {
          "output_type": "stream",
          "name": "stderr",
          "text": [
            "\rBatches:  55%|\u2588\u2588\u2588\u2588\u2588\u258d    | 280/513 [01:37<01:21,  2.84it/s]"
          ]
        },
        {
          "output_type": "stream",
          "name": "stderr",
          "text": [
            "\rBatches:  55%|\u2588\u2588\u2588\u2588\u2588\u258d    | 281/513 [01:37<01:20,  2.88it/s]"
          ]
        },
        {
          "output_type": "stream",
          "name": "stderr",
          "text": [
            "\rBatches:  55%|\u2588\u2588\u2588\u2588\u2588\u258d    | 282/513 [01:37<01:19,  2.92it/s]"
          ]
        },
        {
          "output_type": "stream",
          "name": "stderr",
          "text": [
            "\rBatches:  55%|\u2588\u2588\u2588\u2588\u2588\u258c    | 283/513 [01:38<01:19,  2.90it/s]"
          ]
        },
        {
          "output_type": "stream",
          "name": "stderr",
          "text": [
            "\rBatches:  55%|\u2588\u2588\u2588\u2588\u2588\u258c    | 284/513 [01:38<01:19,  2.87it/s]"
          ]
        },
        {
          "output_type": "stream",
          "name": "stderr",
          "text": [
            "\rBatches:  56%|\u2588\u2588\u2588\u2588\u2588\u258c    | 285/513 [01:38<01:18,  2.91it/s]"
          ]
        },
        {
          "output_type": "stream",
          "name": "stderr",
          "text": [
            "\rBatches:  56%|\u2588\u2588\u2588\u2588\u2588\u258c    | 286/513 [01:39<01:16,  2.96it/s]"
          ]
        },
        {
          "output_type": "stream",
          "name": "stderr",
          "text": [
            "\rBatches:  56%|\u2588\u2588\u2588\u2588\u2588\u258c    | 287/513 [01:39<01:15,  2.97it/s]"
          ]
        },
        {
          "output_type": "stream",
          "name": "stderr",
          "text": [
            "\rBatches:  56%|\u2588\u2588\u2588\u2588\u2588\u258c    | 288/513 [01:39<01:18,  2.86it/s]"
          ]
        },
        {
          "output_type": "stream",
          "name": "stderr",
          "text": [
            "\rBatches:  56%|\u2588\u2588\u2588\u2588\u2588\u258b    | 289/513 [01:40<01:17,  2.90it/s]"
          ]
        },
        {
          "output_type": "stream",
          "name": "stderr",
          "text": [
            "\rBatches:  57%|\u2588\u2588\u2588\u2588\u2588\u258b    | 290/513 [01:40<01:16,  2.93it/s]"
          ]
        },
        {
          "output_type": "stream",
          "name": "stderr",
          "text": [
            "\rBatches:  57%|\u2588\u2588\u2588\u2588\u2588\u258b    | 291/513 [01:40<01:15,  2.94it/s]"
          ]
        },
        {
          "output_type": "stream",
          "name": "stderr",
          "text": [
            "\rBatches:  57%|\u2588\u2588\u2588\u2588\u2588\u258b    | 292/513 [01:41<01:14,  2.96it/s]"
          ]
        },
        {
          "output_type": "stream",
          "name": "stderr",
          "text": [
            "\rBatches:  57%|\u2588\u2588\u2588\u2588\u2588\u258b    | 293/513 [01:41<01:15,  2.93it/s]"
          ]
        },
        {
          "output_type": "stream",
          "name": "stderr",
          "text": [
            "\rBatches:  57%|\u2588\u2588\u2588\u2588\u2588\u258b    | 294/513 [01:41<01:17,  2.83it/s]"
          ]
        },
        {
          "output_type": "stream",
          "name": "stderr",
          "text": [
            "\rBatches:  58%|\u2588\u2588\u2588\u2588\u2588\u258a    | 295/513 [01:42<01:15,  2.89it/s]"
          ]
        },
        {
          "output_type": "stream",
          "name": "stderr",
          "text": [
            "\rBatches:  58%|\u2588\u2588\u2588\u2588\u2588\u258a    | 296/513 [01:42<01:14,  2.93it/s]"
          ]
        },
        {
          "output_type": "stream",
          "name": "stderr",
          "text": [
            "\rBatches:  58%|\u2588\u2588\u2588\u2588\u2588\u258a    | 297/513 [01:42<01:13,  2.94it/s]"
          ]
        },
        {
          "output_type": "stream",
          "name": "stderr",
          "text": [
            "\rBatches:  58%|\u2588\u2588\u2588\u2588\u2588\u258a    | 298/513 [01:43<01:13,  2.92it/s]"
          ]
        },
        {
          "output_type": "stream",
          "name": "stderr",
          "text": [
            "\rBatches:  58%|\u2588\u2588\u2588\u2588\u2588\u258a    | 299/513 [01:43<01:12,  2.96it/s]"
          ]
        },
        {
          "output_type": "stream",
          "name": "stderr",
          "text": [
            "\rBatches:  58%|\u2588\u2588\u2588\u2588\u2588\u258a    | 300/513 [01:44<01:13,  2.91it/s]"
          ]
        },
        {
          "output_type": "stream",
          "name": "stderr",
          "text": [
            "\rBatches:  59%|\u2588\u2588\u2588\u2588\u2588\u258a    | 301/513 [01:44<01:14,  2.84it/s]"
          ]
        },
        {
          "output_type": "stream",
          "name": "stderr",
          "text": [
            "\rBatches:  59%|\u2588\u2588\u2588\u2588\u2588\u2589    | 302/513 [01:44<01:13,  2.87it/s]"
          ]
        },
        {
          "output_type": "stream",
          "name": "stderr",
          "text": [
            "\rBatches:  59%|\u2588\u2588\u2588\u2588\u2588\u2589    | 303/513 [01:45<01:17,  2.69it/s]"
          ]
        },
        {
          "output_type": "stream",
          "name": "stderr",
          "text": [
            "\rBatches:  59%|\u2588\u2588\u2588\u2588\u2588\u2589    | 304/513 [01:45<01:14,  2.80it/s]"
          ]
        },
        {
          "output_type": "stream",
          "name": "stderr",
          "text": [
            "\rBatches:  59%|\u2588\u2588\u2588\u2588\u2588\u2589    | 305/513 [01:45<01:16,  2.73it/s]"
          ]
        },
        {
          "output_type": "stream",
          "name": "stderr",
          "text": [
            "\rBatches:  60%|\u2588\u2588\u2588\u2588\u2588\u2589    | 306/513 [01:46<01:14,  2.79it/s]"
          ]
        },
        {
          "output_type": "stream",
          "name": "stderr",
          "text": [
            "\rBatches:  60%|\u2588\u2588\u2588\u2588\u2588\u2589    | 307/513 [01:46<01:13,  2.80it/s]"
          ]
        },
        {
          "output_type": "stream",
          "name": "stderr",
          "text": [
            "\rBatches:  60%|\u2588\u2588\u2588\u2588\u2588\u2588    | 308/513 [01:46<01:11,  2.88it/s]"
          ]
        },
        {
          "output_type": "stream",
          "name": "stderr",
          "text": [
            "\rBatches:  60%|\u2588\u2588\u2588\u2588\u2588\u2588    | 309/513 [01:47<01:09,  2.92it/s]"
          ]
        },
        {
          "output_type": "stream",
          "name": "stderr",
          "text": [
            "\rBatches:  60%|\u2588\u2588\u2588\u2588\u2588\u2588    | 310/513 [01:47<01:11,  2.82it/s]"
          ]
        },
        {
          "output_type": "stream",
          "name": "stderr",
          "text": [
            "\rBatches:  61%|\u2588\u2588\u2588\u2588\u2588\u2588    | 311/513 [01:47<01:10,  2.86it/s]"
          ]
        },
        {
          "output_type": "stream",
          "name": "stderr",
          "text": [
            "\rBatches:  61%|\u2588\u2588\u2588\u2588\u2588\u2588    | 312/513 [01:48<01:12,  2.77it/s]"
          ]
        },
        {
          "output_type": "stream",
          "name": "stderr",
          "text": [
            "\rBatches:  61%|\u2588\u2588\u2588\u2588\u2588\u2588    | 313/513 [01:48<01:10,  2.84it/s]"
          ]
        },
        {
          "output_type": "stream",
          "name": "stderr",
          "text": [
            "\rBatches:  61%|\u2588\u2588\u2588\u2588\u2588\u2588    | 314/513 [01:49<01:09,  2.85it/s]"
          ]
        },
        {
          "output_type": "stream",
          "name": "stderr",
          "text": [
            "\rBatches:  61%|\u2588\u2588\u2588\u2588\u2588\u2588\u258f   | 315/513 [01:49<01:07,  2.95it/s]"
          ]
        },
        {
          "output_type": "stream",
          "name": "stderr",
          "text": [
            "\rBatches:  62%|\u2588\u2588\u2588\u2588\u2588\u2588\u258f   | 316/513 [01:49<01:06,  2.96it/s]"
          ]
        },
        {
          "output_type": "stream",
          "name": "stderr",
          "text": [
            "\rBatches:  62%|\u2588\u2588\u2588\u2588\u2588\u2588\u258f   | 317/513 [01:50<01:08,  2.85it/s]"
          ]
        },
        {
          "output_type": "stream",
          "name": "stderr",
          "text": [
            "\rBatches:  62%|\u2588\u2588\u2588\u2588\u2588\u2588\u258f   | 318/513 [01:50<01:07,  2.88it/s]"
          ]
        },
        {
          "output_type": "stream",
          "name": "stderr",
          "text": [
            "\rBatches:  62%|\u2588\u2588\u2588\u2588\u2588\u2588\u258f   | 319/513 [01:50<01:09,  2.78it/s]"
          ]
        },
        {
          "output_type": "stream",
          "name": "stderr",
          "text": [
            "\rBatches:  62%|\u2588\u2588\u2588\u2588\u2588\u2588\u258f   | 320/513 [01:51<01:08,  2.82it/s]"
          ]
        },
        {
          "output_type": "stream",
          "name": "stderr",
          "text": [
            "\rBatches:  63%|\u2588\u2588\u2588\u2588\u2588\u2588\u258e   | 321/513 [01:51<01:07,  2.86it/s]"
          ]
        },
        {
          "output_type": "stream",
          "name": "stderr",
          "text": [
            "\rBatches:  63%|\u2588\u2588\u2588\u2588\u2588\u2588\u258e   | 322/513 [01:51<01:09,  2.76it/s]"
          ]
        },
        {
          "output_type": "stream",
          "name": "stderr",
          "text": [
            "\rBatches:  63%|\u2588\u2588\u2588\u2588\u2588\u2588\u258e   | 323/513 [01:52<01:13,  2.57it/s]"
          ]
        },
        {
          "output_type": "stream",
          "name": "stderr",
          "text": [
            "\rBatches:  63%|\u2588\u2588\u2588\u2588\u2588\u2588\u258e   | 324/513 [01:52<01:09,  2.73it/s]"
          ]
        },
        {
          "output_type": "stream",
          "name": "stderr",
          "text": [
            "\rBatches:  63%|\u2588\u2588\u2588\u2588\u2588\u2588\u258e   | 325/513 [01:52<01:09,  2.69it/s]"
          ]
        },
        {
          "output_type": "stream",
          "name": "stderr",
          "text": [
            "\rBatches:  64%|\u2588\u2588\u2588\u2588\u2588\u2588\u258e   | 326/513 [01:53<01:07,  2.76it/s]"
          ]
        },
        {
          "output_type": "stream",
          "name": "stderr",
          "text": [
            "\rBatches:  64%|\u2588\u2588\u2588\u2588\u2588\u2588\u258e   | 327/513 [01:53<01:05,  2.86it/s]"
          ]
        },
        {
          "output_type": "stream",
          "name": "stderr",
          "text": [
            "\rBatches:  64%|\u2588\u2588\u2588\u2588\u2588\u2588\u258d   | 328/513 [01:53<01:03,  2.91it/s]"
          ]
        },
        {
          "output_type": "stream",
          "name": "stderr",
          "text": [
            "\rBatches:  64%|\u2588\u2588\u2588\u2588\u2588\u2588\u258d   | 329/513 [01:54<01:03,  2.90it/s]"
          ]
        },
        {
          "output_type": "stream",
          "name": "stderr",
          "text": [
            "\rBatches:  64%|\u2588\u2588\u2588\u2588\u2588\u2588\u258d   | 330/513 [01:54<01:02,  2.91it/s]"
          ]
        },
        {
          "output_type": "stream",
          "name": "stderr",
          "text": [
            "\rBatches:  65%|\u2588\u2588\u2588\u2588\u2588\u2588\u258d   | 331/513 [01:55<01:03,  2.85it/s]"
          ]
        },
        {
          "output_type": "stream",
          "name": "stderr",
          "text": [
            "\rBatches:  65%|\u2588\u2588\u2588\u2588\u2588\u2588\u258d   | 332/513 [01:55<01:03,  2.83it/s]"
          ]
        },
        {
          "output_type": "stream",
          "name": "stderr",
          "text": [
            "\rBatches:  65%|\u2588\u2588\u2588\u2588\u2588\u2588\u258d   | 333/513 [01:55<01:02,  2.88it/s]"
          ]
        },
        {
          "output_type": "stream",
          "name": "stderr",
          "text": [
            "\rBatches:  65%|\u2588\u2588\u2588\u2588\u2588\u2588\u258c   | 334/513 [01:56<01:00,  2.94it/s]"
          ]
        },
        {
          "output_type": "stream",
          "name": "stderr",
          "text": [
            "\rBatches:  65%|\u2588\u2588\u2588\u2588\u2588\u2588\u258c   | 335/513 [01:56<00:59,  2.99it/s]"
          ]
        },
        {
          "output_type": "stream",
          "name": "stderr",
          "text": [
            "\rBatches:  65%|\u2588\u2588\u2588\u2588\u2588\u2588\u258c   | 336/513 [01:56<01:01,  2.86it/s]"
          ]
        },
        {
          "output_type": "stream",
          "name": "stderr",
          "text": [
            "\rBatches:  66%|\u2588\u2588\u2588\u2588\u2588\u2588\u258c   | 337/513 [01:57<01:02,  2.80it/s]"
          ]
        },
        {
          "output_type": "stream",
          "name": "stderr",
          "text": [
            "\rBatches:  66%|\u2588\u2588\u2588\u2588\u2588\u2588\u258c   | 338/513 [01:57<01:01,  2.85it/s]"
          ]
        },
        {
          "output_type": "stream",
          "name": "stderr",
          "text": [
            "\rBatches:  66%|\u2588\u2588\u2588\u2588\u2588\u2588\u258c   | 339/513 [01:57<01:00,  2.89it/s]"
          ]
        },
        {
          "output_type": "stream",
          "name": "stderr",
          "text": [
            "\rBatches:  66%|\u2588\u2588\u2588\u2588\u2588\u2588\u258b   | 340/513 [01:58<01:00,  2.87it/s]"
          ]
        },
        {
          "output_type": "stream",
          "name": "stderr",
          "text": [
            "\rBatches:  66%|\u2588\u2588\u2588\u2588\u2588\u2588\u258b   | 341/513 [01:58<00:59,  2.90it/s]"
          ]
        },
        {
          "output_type": "stream",
          "name": "stderr",
          "text": [
            "\rBatches:  67%|\u2588\u2588\u2588\u2588\u2588\u2588\u258b   | 342/513 [01:58<00:57,  2.96it/s]"
          ]
        },
        {
          "output_type": "stream",
          "name": "stderr",
          "text": [
            "\rBatches:  67%|\u2588\u2588\u2588\u2588\u2588\u2588\u258b   | 343/513 [01:59<00:56,  2.98it/s]"
          ]
        },
        {
          "output_type": "stream",
          "name": "stderr",
          "text": [
            "\rBatches:  67%|\u2588\u2588\u2588\u2588\u2588\u2588\u258b   | 344/513 [01:59<00:57,  2.93it/s]"
          ]
        },
        {
          "output_type": "stream",
          "name": "stderr",
          "text": [
            "\rBatches:  67%|\u2588\u2588\u2588\u2588\u2588\u2588\u258b   | 345/513 [01:59<00:58,  2.89it/s]"
          ]
        },
        {
          "output_type": "stream",
          "name": "stderr",
          "text": [
            "\rBatches:  67%|\u2588\u2588\u2588\u2588\u2588\u2588\u258b   | 346/513 [02:00<00:57,  2.92it/s]"
          ]
        },
        {
          "output_type": "stream",
          "name": "stderr",
          "text": [
            "\rBatches:  68%|\u2588\u2588\u2588\u2588\u2588\u2588\u258a   | 347/513 [02:00<00:56,  2.96it/s]"
          ]
        },
        {
          "output_type": "stream",
          "name": "stderr",
          "text": [
            "\rBatches:  68%|\u2588\u2588\u2588\u2588\u2588\u2588\u258a   | 348/513 [02:00<00:58,  2.80it/s]"
          ]
        },
        {
          "output_type": "stream",
          "name": "stderr",
          "text": [
            "\rBatches:  68%|\u2588\u2588\u2588\u2588\u2588\u2588\u258a   | 349/513 [02:01<00:58,  2.80it/s]"
          ]
        },
        {
          "output_type": "stream",
          "name": "stderr",
          "text": [
            "\rBatches:  68%|\u2588\u2588\u2588\u2588\u2588\u2588\u258a   | 350/513 [02:01<00:57,  2.85it/s]"
          ]
        },
        {
          "output_type": "stream",
          "name": "stderr",
          "text": [
            "\rBatches:  68%|\u2588\u2588\u2588\u2588\u2588\u2588\u258a   | 351/513 [02:01<00:55,  2.91it/s]"
          ]
        },
        {
          "output_type": "stream",
          "name": "stderr",
          "text": [
            "\rBatches:  69%|\u2588\u2588\u2588\u2588\u2588\u2588\u258a   | 352/513 [02:02<00:54,  2.94it/s]"
          ]
        },
        {
          "output_type": "stream",
          "name": "stderr",
          "text": [
            "\rBatches:  69%|\u2588\u2588\u2588\u2588\u2588\u2588\u2589   | 353/513 [02:02<00:53,  2.99it/s]"
          ]
        },
        {
          "output_type": "stream",
          "name": "stderr",
          "text": [
            "\rBatches:  69%|\u2588\u2588\u2588\u2588\u2588\u2588\u2589   | 354/513 [02:02<00:53,  2.99it/s]"
          ]
        },
        {
          "output_type": "stream",
          "name": "stderr",
          "text": [
            "\rBatches:  69%|\u2588\u2588\u2588\u2588\u2588\u2588\u2589   | 355/513 [02:03<00:57,  2.77it/s]"
          ]
        },
        {
          "output_type": "stream",
          "name": "stderr",
          "text": [
            "\rBatches:  69%|\u2588\u2588\u2588\u2588\u2588\u2588\u2589   | 356/513 [02:03<00:55,  2.82it/s]"
          ]
        },
        {
          "output_type": "stream",
          "name": "stderr",
          "text": [
            "\rBatches:  70%|\u2588\u2588\u2588\u2588\u2588\u2588\u2589   | 357/513 [02:03<00:53,  2.91it/s]"
          ]
        },
        {
          "output_type": "stream",
          "name": "stderr",
          "text": [
            "\rBatches:  70%|\u2588\u2588\u2588\u2588\u2588\u2588\u2589   | 358/513 [02:04<00:55,  2.78it/s]"
          ]
        },
        {
          "output_type": "stream",
          "name": "stderr",
          "text": [
            "\rBatches:  70%|\u2588\u2588\u2588\u2588\u2588\u2588\u2589   | 359/513 [02:04<00:54,  2.83it/s]"
          ]
        },
        {
          "output_type": "stream",
          "name": "stderr",
          "text": [
            "\rBatches:  70%|\u2588\u2588\u2588\u2588\u2588\u2588\u2588   | 360/513 [02:05<00:52,  2.89it/s]"
          ]
        },
        {
          "output_type": "stream",
          "name": "stderr",
          "text": [
            "\rBatches:  70%|\u2588\u2588\u2588\u2588\u2588\u2588\u2588   | 361/513 [02:05<00:51,  2.94it/s]"
          ]
        },
        {
          "output_type": "stream",
          "name": "stderr",
          "text": [
            "\rBatches:  71%|\u2588\u2588\u2588\u2588\u2588\u2588\u2588   | 362/513 [02:05<00:51,  2.95it/s]"
          ]
        },
        {
          "output_type": "stream",
          "name": "stderr",
          "text": [
            "\rBatches:  71%|\u2588\u2588\u2588\u2588\u2588\u2588\u2588   | 363/513 [02:06<00:53,  2.81it/s]"
          ]
        },
        {
          "output_type": "stream",
          "name": "stderr",
          "text": [
            "\rBatches:  71%|\u2588\u2588\u2588\u2588\u2588\u2588\u2588   | 364/513 [02:06<00:52,  2.86it/s]"
          ]
        },
        {
          "output_type": "stream",
          "name": "stderr",
          "text": [
            "\rBatches:  71%|\u2588\u2588\u2588\u2588\u2588\u2588\u2588   | 365/513 [02:06<00:50,  2.93it/s]"
          ]
        },
        {
          "output_type": "stream",
          "name": "stderr",
          "text": [
            "\rBatches:  71%|\u2588\u2588\u2588\u2588\u2588\u2588\u2588\u258f  | 366/513 [02:07<00:50,  2.91it/s]"
          ]
        },
        {
          "output_type": "stream",
          "name": "stderr",
          "text": [
            "\rBatches:  72%|\u2588\u2588\u2588\u2588\u2588\u2588\u2588\u258f  | 367/513 [02:07<00:51,  2.83it/s]"
          ]
        },
        {
          "output_type": "stream",
          "name": "stderr",
          "text": [
            "\rBatches:  72%|\u2588\u2588\u2588\u2588\u2588\u2588\u2588\u258f  | 368/513 [02:07<00:50,  2.87it/s]"
          ]
        },
        {
          "output_type": "stream",
          "name": "stderr",
          "text": [
            "\rBatches:  72%|\u2588\u2588\u2588\u2588\u2588\u2588\u2588\u258f  | 369/513 [02:08<00:49,  2.92it/s]"
          ]
        },
        {
          "output_type": "stream",
          "name": "stderr",
          "text": [
            "\rBatches:  72%|\u2588\u2588\u2588\u2588\u2588\u2588\u2588\u258f  | 370/513 [02:08<00:48,  2.94it/s]"
          ]
        },
        {
          "output_type": "stream",
          "name": "stderr",
          "text": [
            "\rBatches:  72%|\u2588\u2588\u2588\u2588\u2588\u2588\u2588\u258f  | 371/513 [02:08<00:48,  2.95it/s]"
          ]
        },
        {
          "output_type": "stream",
          "name": "stderr",
          "text": [
            "\rBatches:  73%|\u2588\u2588\u2588\u2588\u2588\u2588\u2588\u258e  | 372/513 [02:09<00:48,  2.90it/s]"
          ]
        },
        {
          "output_type": "stream",
          "name": "stderr",
          "text": [
            "\rBatches:  73%|\u2588\u2588\u2588\u2588\u2588\u2588\u2588\u258e  | 373/513 [02:09<00:47,  2.95it/s]"
          ]
        },
        {
          "output_type": "stream",
          "name": "stderr",
          "text": [
            "\rBatches:  73%|\u2588\u2588\u2588\u2588\u2588\u2588\u2588\u258e  | 374/513 [02:09<00:46,  3.00it/s]"
          ]
        },
        {
          "output_type": "stream",
          "name": "stderr",
          "text": [
            "\rBatches:  73%|\u2588\u2588\u2588\u2588\u2588\u2588\u2588\u258e  | 375/513 [02:10<00:46,  2.99it/s]"
          ]
        },
        {
          "output_type": "stream",
          "name": "stderr",
          "text": [
            "\rBatches:  73%|\u2588\u2588\u2588\u2588\u2588\u2588\u2588\u258e  | 376/513 [02:10<00:46,  2.94it/s]"
          ]
        },
        {
          "output_type": "stream",
          "name": "stderr",
          "text": [
            "\rBatches:  73%|\u2588\u2588\u2588\u2588\u2588\u2588\u2588\u258e  | 377/513 [02:10<00:46,  2.92it/s]"
          ]
        },
        {
          "output_type": "stream",
          "name": "stderr",
          "text": [
            "\rBatches:  74%|\u2588\u2588\u2588\u2588\u2588\u2588\u2588\u258e  | 378/513 [02:11<00:45,  2.94it/s]"
          ]
        },
        {
          "output_type": "stream",
          "name": "stderr",
          "text": [
            "\rBatches:  74%|\u2588\u2588\u2588\u2588\u2588\u2588\u2588\u258d  | 379/513 [02:11<00:46,  2.90it/s]"
          ]
        },
        {
          "output_type": "stream",
          "name": "stderr",
          "text": [
            "\rBatches:  74%|\u2588\u2588\u2588\u2588\u2588\u2588\u2588\u258d  | 380/513 [02:11<00:45,  2.93it/s]"
          ]
        },
        {
          "output_type": "stream",
          "name": "stderr",
          "text": [
            "\rBatches:  74%|\u2588\u2588\u2588\u2588\u2588\u2588\u2588\u258d  | 381/513 [02:12<00:45,  2.91it/s]"
          ]
        },
        {
          "output_type": "stream",
          "name": "stderr",
          "text": [
            "\rBatches:  74%|\u2588\u2588\u2588\u2588\u2588\u2588\u2588\u258d  | 382/513 [02:12<00:45,  2.90it/s]"
          ]
        },
        {
          "output_type": "stream",
          "name": "stderr",
          "text": [
            "\rBatches:  75%|\u2588\u2588\u2588\u2588\u2588\u2588\u2588\u258d  | 383/513 [02:13<00:47,  2.74it/s]"
          ]
        },
        {
          "output_type": "stream",
          "name": "stderr",
          "text": [
            "\rBatches:  75%|\u2588\u2588\u2588\u2588\u2588\u2588\u2588\u258d  | 384/513 [02:13<00:48,  2.64it/s]"
          ]
        },
        {
          "output_type": "stream",
          "name": "stderr",
          "text": [
            "\rBatches:  75%|\u2588\u2588\u2588\u2588\u2588\u2588\u2588\u258c  | 385/513 [02:13<00:46,  2.76it/s]"
          ]
        },
        {
          "output_type": "stream",
          "name": "stderr",
          "text": [
            "\rBatches:  75%|\u2588\u2588\u2588\u2588\u2588\u2588\u2588\u258c  | 386/513 [02:14<00:44,  2.85it/s]"
          ]
        },
        {
          "output_type": "stream",
          "name": "stderr",
          "text": [
            "\rBatches:  75%|\u2588\u2588\u2588\u2588\u2588\u2588\u2588\u258c  | 387/513 [02:14<00:43,  2.89it/s]"
          ]
        },
        {
          "output_type": "stream",
          "name": "stderr",
          "text": [
            "\rBatches:  76%|\u2588\u2588\u2588\u2588\u2588\u2588\u2588\u258c  | 388/513 [02:14<00:42,  2.93it/s]"
          ]
        },
        {
          "output_type": "stream",
          "name": "stderr",
          "text": [
            "\rBatches:  76%|\u2588\u2588\u2588\u2588\u2588\u2588\u2588\u258c  | 389/513 [02:15<00:41,  2.96it/s]"
          ]
        },
        {
          "output_type": "stream",
          "name": "stderr",
          "text": [
            "\rBatches:  76%|\u2588\u2588\u2588\u2588\u2588\u2588\u2588\u258c  | 390/513 [02:15<00:42,  2.92it/s]"
          ]
        },
        {
          "output_type": "stream",
          "name": "stderr",
          "text": [
            "\rBatches:  76%|\u2588\u2588\u2588\u2588\u2588\u2588\u2588\u258c  | 391/513 [02:15<00:41,  2.93it/s]"
          ]
        },
        {
          "output_type": "stream",
          "name": "stderr",
          "text": [
            "\rBatches:  76%|\u2588\u2588\u2588\u2588\u2588\u2588\u2588\u258b  | 392/513 [02:16<00:40,  2.98it/s]"
          ]
        },
        {
          "output_type": "stream",
          "name": "stderr",
          "text": [
            "\rBatches:  77%|\u2588\u2588\u2588\u2588\u2588\u2588\u2588\u258b  | 393/513 [02:16<00:41,  2.91it/s]"
          ]
        },
        {
          "output_type": "stream",
          "name": "stderr",
          "text": [
            "\rBatches:  77%|\u2588\u2588\u2588\u2588\u2588\u2588\u2588\u258b  | 394/513 [02:16<00:40,  2.96it/s]"
          ]
        },
        {
          "output_type": "stream",
          "name": "stderr",
          "text": [
            "\rBatches:  77%|\u2588\u2588\u2588\u2588\u2588\u2588\u2588\u258b  | 395/513 [02:17<00:39,  2.95it/s]"
          ]
        },
        {
          "output_type": "stream",
          "name": "stderr",
          "text": [
            "\rBatches:  77%|\u2588\u2588\u2588\u2588\u2588\u2588\u2588\u258b  | 396/513 [02:17<00:39,  3.00it/s]"
          ]
        },
        {
          "output_type": "stream",
          "name": "stderr",
          "text": [
            "\rBatches:  77%|\u2588\u2588\u2588\u2588\u2588\u2588\u2588\u258b  | 397/513 [02:17<00:40,  2.90it/s]"
          ]
        },
        {
          "output_type": "stream",
          "name": "stderr",
          "text": [
            "\rBatches:  78%|\u2588\u2588\u2588\u2588\u2588\u2588\u2588\u258a  | 398/513 [02:18<00:39,  2.91it/s]"
          ]
        },
        {
          "output_type": "stream",
          "name": "stderr",
          "text": [
            "\rBatches:  78%|\u2588\u2588\u2588\u2588\u2588\u2588\u2588\u258a  | 399/513 [02:18<00:38,  2.97it/s]"
          ]
        },
        {
          "output_type": "stream",
          "name": "stderr",
          "text": [
            "\rBatches:  78%|\u2588\u2588\u2588\u2588\u2588\u2588\u2588\u258a  | 400/513 [02:18<00:38,  2.97it/s]"
          ]
        },
        {
          "output_type": "stream",
          "name": "stderr",
          "text": [
            "\rBatches:  78%|\u2588\u2588\u2588\u2588\u2588\u2588\u2588\u258a  | 401/513 [02:19<00:38,  2.93it/s]"
          ]
        },
        {
          "output_type": "stream",
          "name": "stderr",
          "text": [
            "\rBatches:  78%|\u2588\u2588\u2588\u2588\u2588\u2588\u2588\u258a  | 402/513 [02:19<00:37,  2.99it/s]"
          ]
        },
        {
          "output_type": "stream",
          "name": "stderr",
          "text": [
            "\rBatches:  79%|\u2588\u2588\u2588\u2588\u2588\u2588\u2588\u258a  | 403/513 [02:19<00:36,  3.00it/s]"
          ]
        },
        {
          "output_type": "stream",
          "name": "stderr",
          "text": [
            "\rBatches:  79%|\u2588\u2588\u2588\u2588\u2588\u2588\u2588\u2589  | 404/513 [02:20<00:36,  3.00it/s]"
          ]
        },
        {
          "output_type": "stream",
          "name": "stderr",
          "text": [
            "\rBatches:  79%|\u2588\u2588\u2588\u2588\u2588\u2588\u2588\u2589  | 405/513 [02:20<00:35,  3.01it/s]"
          ]
        },
        {
          "output_type": "stream",
          "name": "stderr",
          "text": [
            "\rBatches:  79%|\u2588\u2588\u2588\u2588\u2588\u2588\u2588\u2589  | 406/513 [02:20<00:35,  3.03it/s]"
          ]
        },
        {
          "output_type": "stream",
          "name": "stderr",
          "text": [
            "\rBatches:  79%|\u2588\u2588\u2588\u2588\u2588\u2588\u2588\u2589  | 407/513 [02:21<00:35,  3.01it/s]"
          ]
        },
        {
          "output_type": "stream",
          "name": "stderr",
          "text": [
            "\rBatches:  80%|\u2588\u2588\u2588\u2588\u2588\u2588\u2588\u2589  | 408/513 [02:21<00:34,  3.02it/s]"
          ]
        },
        {
          "output_type": "stream",
          "name": "stderr",
          "text": [
            "\rBatches:  80%|\u2588\u2588\u2588\u2588\u2588\u2588\u2588\u2589  | 409/513 [02:21<00:36,  2.87it/s]"
          ]
        },
        {
          "output_type": "stream",
          "name": "stderr",
          "text": [
            "\rBatches:  80%|\u2588\u2588\u2588\u2588\u2588\u2588\u2588\u2589  | 410/513 [02:22<00:34,  2.98it/s]"
          ]
        },
        {
          "output_type": "stream",
          "name": "stderr",
          "text": [
            "\rBatches:  80%|\u2588\u2588\u2588\u2588\u2588\u2588\u2588\u2588  | 411/513 [02:22<00:34,  2.97it/s]"
          ]
        },
        {
          "output_type": "stream",
          "name": "stderr",
          "text": [
            "\rBatches:  80%|\u2588\u2588\u2588\u2588\u2588\u2588\u2588\u2588  | 412/513 [02:22<00:33,  3.01it/s]"
          ]
        },
        {
          "output_type": "stream",
          "name": "stderr",
          "text": [
            "\rBatches:  81%|\u2588\u2588\u2588\u2588\u2588\u2588\u2588\u2588  | 413/513 [02:23<00:34,  2.92it/s]"
          ]
        },
        {
          "output_type": "stream",
          "name": "stderr",
          "text": [
            "\rBatches:  81%|\u2588\u2588\u2588\u2588\u2588\u2588\u2588\u2588  | 414/513 [02:23<00:33,  2.93it/s]"
          ]
        },
        {
          "output_type": "stream",
          "name": "stderr",
          "text": [
            "\rBatches:  81%|\u2588\u2588\u2588\u2588\u2588\u2588\u2588\u2588  | 415/513 [02:23<00:34,  2.88it/s]"
          ]
        },
        {
          "output_type": "stream",
          "name": "stderr",
          "text": [
            "\rBatches:  81%|\u2588\u2588\u2588\u2588\u2588\u2588\u2588\u2588  | 416/513 [02:24<00:35,  2.70it/s]"
          ]
        },
        {
          "output_type": "stream",
          "name": "stderr",
          "text": [
            "\rBatches:  81%|\u2588\u2588\u2588\u2588\u2588\u2588\u2588\u2588\u258f | 417/513 [02:24<00:34,  2.77it/s]"
          ]
        },
        {
          "output_type": "stream",
          "name": "stderr",
          "text": [
            "\rBatches:  81%|\u2588\u2588\u2588\u2588\u2588\u2588\u2588\u2588\u258f | 418/513 [02:24<00:34,  2.79it/s]"
          ]
        },
        {
          "output_type": "stream",
          "name": "stderr",
          "text": [
            "\rBatches:  82%|\u2588\u2588\u2588\u2588\u2588\u2588\u2588\u2588\u258f | 419/513 [02:25<00:33,  2.85it/s]"
          ]
        },
        {
          "output_type": "stream",
          "name": "stderr",
          "text": [
            "\rBatches:  82%|\u2588\u2588\u2588\u2588\u2588\u2588\u2588\u2588\u258f | 420/513 [02:25<00:32,  2.90it/s]"
          ]
        },
        {
          "output_type": "stream",
          "name": "stderr",
          "text": [
            "\rBatches:  82%|\u2588\u2588\u2588\u2588\u2588\u2588\u2588\u2588\u258f | 421/513 [02:25<00:31,  2.93it/s]"
          ]
        },
        {
          "output_type": "stream",
          "name": "stderr",
          "text": [
            "\rBatches:  82%|\u2588\u2588\u2588\u2588\u2588\u2588\u2588\u2588\u258f | 422/513 [02:26<00:30,  2.96it/s]"
          ]
        },
        {
          "output_type": "stream",
          "name": "stderr",
          "text": [
            "\rBatches:  82%|\u2588\u2588\u2588\u2588\u2588\u2588\u2588\u2588\u258f | 423/513 [02:26<00:29,  3.00it/s]"
          ]
        },
        {
          "output_type": "stream",
          "name": "stderr",
          "text": [
            "\rBatches:  83%|\u2588\u2588\u2588\u2588\u2588\u2588\u2588\u2588\u258e | 424/513 [02:26<00:29,  3.03it/s]"
          ]
        },
        {
          "output_type": "stream",
          "name": "stderr",
          "text": [
            "\rBatches:  83%|\u2588\u2588\u2588\u2588\u2588\u2588\u2588\u2588\u258e | 425/513 [02:27<00:29,  3.01it/s]"
          ]
        },
        {
          "output_type": "stream",
          "name": "stderr",
          "text": [
            "\rBatches:  83%|\u2588\u2588\u2588\u2588\u2588\u2588\u2588\u2588\u258e | 426/513 [02:27<00:29,  3.00it/s]"
          ]
        },
        {
          "output_type": "stream",
          "name": "stderr",
          "text": [
            "\rBatches:  83%|\u2588\u2588\u2588\u2588\u2588\u2588\u2588\u2588\u258e | 427/513 [02:27<00:28,  2.98it/s]"
          ]
        },
        {
          "output_type": "stream",
          "name": "stderr",
          "text": [
            "\rBatches:  83%|\u2588\u2588\u2588\u2588\u2588\u2588\u2588\u2588\u258e | 428/513 [02:28<00:28,  2.99it/s]"
          ]
        },
        {
          "output_type": "stream",
          "name": "stderr",
          "text": [
            "\rBatches:  84%|\u2588\u2588\u2588\u2588\u2588\u2588\u2588\u2588\u258e | 429/513 [02:28<00:28,  3.00it/s]"
          ]
        },
        {
          "output_type": "stream",
          "name": "stderr",
          "text": [
            "\rBatches:  84%|\u2588\u2588\u2588\u2588\u2588\u2588\u2588\u2588\u258d | 430/513 [02:28<00:28,  2.96it/s]"
          ]
        },
        {
          "output_type": "stream",
          "name": "stderr",
          "text": [
            "\rBatches:  84%|\u2588\u2588\u2588\u2588\u2588\u2588\u2588\u2588\u258d | 431/513 [02:29<00:27,  2.94it/s]"
          ]
        },
        {
          "output_type": "stream",
          "name": "stderr",
          "text": [
            "\rBatches:  84%|\u2588\u2588\u2588\u2588\u2588\u2588\u2588\u2588\u258d | 432/513 [02:29<00:28,  2.83it/s]"
          ]
        },
        {
          "output_type": "stream",
          "name": "stderr",
          "text": [
            "\rBatches:  84%|\u2588\u2588\u2588\u2588\u2588\u2588\u2588\u2588\u258d | 433/513 [02:30<00:27,  2.88it/s]"
          ]
        },
        {
          "output_type": "stream",
          "name": "stderr",
          "text": [
            "\rBatches:  85%|\u2588\u2588\u2588\u2588\u2588\u2588\u2588\u2588\u258d | 434/513 [02:30<00:27,  2.92it/s]"
          ]
        },
        {
          "output_type": "stream",
          "name": "stderr",
          "text": [
            "\rBatches:  85%|\u2588\u2588\u2588\u2588\u2588\u2588\u2588\u2588\u258d | 435/513 [02:30<00:26,  2.95it/s]"
          ]
        },
        {
          "output_type": "stream",
          "name": "stderr",
          "text": [
            "\rBatches:  85%|\u2588\u2588\u2588\u2588\u2588\u2588\u2588\u2588\u258d | 436/513 [02:31<00:25,  3.00it/s]"
          ]
        },
        {
          "output_type": "stream",
          "name": "stderr",
          "text": [
            "\rBatches:  85%|\u2588\u2588\u2588\u2588\u2588\u2588\u2588\u2588\u258c | 437/513 [02:31<00:26,  2.90it/s]"
          ]
        },
        {
          "output_type": "stream",
          "name": "stderr",
          "text": [
            "\rBatches:  85%|\u2588\u2588\u2588\u2588\u2588\u2588\u2588\u2588\u258c | 438/513 [02:31<00:26,  2.84it/s]"
          ]
        },
        {
          "output_type": "stream",
          "name": "stderr",
          "text": [
            "\rBatches:  86%|\u2588\u2588\u2588\u2588\u2588\u2588\u2588\u2588\u258c | 439/513 [02:32<00:25,  2.91it/s]"
          ]
        },
        {
          "output_type": "stream",
          "name": "stderr",
          "text": [
            "\rBatches:  86%|\u2588\u2588\u2588\u2588\u2588\u2588\u2588\u2588\u258c | 440/513 [02:32<00:25,  2.88it/s]"
          ]
        },
        {
          "output_type": "stream",
          "name": "stderr",
          "text": [
            "\rBatches:  86%|\u2588\u2588\u2588\u2588\u2588\u2588\u2588\u2588\u258c | 441/513 [02:32<00:24,  2.91it/s]"
          ]
        },
        {
          "output_type": "stream",
          "name": "stderr",
          "text": [
            "\rBatches:  86%|\u2588\u2588\u2588\u2588\u2588\u2588\u2588\u2588\u258c | 442/513 [02:33<00:24,  2.94it/s]"
          ]
        },
        {
          "output_type": "stream",
          "name": "stderr",
          "text": [
            "\rBatches:  86%|\u2588\u2588\u2588\u2588\u2588\u2588\u2588\u2588\u258b | 443/513 [02:33<00:23,  2.94it/s]"
          ]
        },
        {
          "output_type": "stream",
          "name": "stderr",
          "text": [
            "\rBatches:  87%|\u2588\u2588\u2588\u2588\u2588\u2588\u2588\u2588\u258b | 444/513 [02:33<00:23,  2.90it/s]"
          ]
        },
        {
          "output_type": "stream",
          "name": "stderr",
          "text": [
            "\rBatches:  87%|\u2588\u2588\u2588\u2588\u2588\u2588\u2588\u2588\u258b | 445/513 [02:34<00:23,  2.90it/s]"
          ]
        },
        {
          "output_type": "stream",
          "name": "stderr",
          "text": [
            "\rBatches:  87%|\u2588\u2588\u2588\u2588\u2588\u2588\u2588\u2588\u258b | 446/513 [02:34<00:23,  2.80it/s]"
          ]
        },
        {
          "output_type": "stream",
          "name": "stderr",
          "text": [
            "\rBatches:  87%|\u2588\u2588\u2588\u2588\u2588\u2588\u2588\u2588\u258b | 447/513 [02:34<00:23,  2.86it/s]"
          ]
        },
        {
          "output_type": "stream",
          "name": "stderr",
          "text": [
            "\rBatches:  87%|\u2588\u2588\u2588\u2588\u2588\u2588\u2588\u2588\u258b | 448/513 [02:35<00:22,  2.92it/s]"
          ]
        },
        {
          "output_type": "stream",
          "name": "stderr",
          "text": [
            "\rBatches:  88%|\u2588\u2588\u2588\u2588\u2588\u2588\u2588\u2588\u258a | 449/513 [02:35<00:22,  2.91it/s]"
          ]
        },
        {
          "output_type": "stream",
          "name": "stderr",
          "text": [
            "\rBatches:  88%|\u2588\u2588\u2588\u2588\u2588\u2588\u2588\u2588\u258a | 450/513 [02:35<00:21,  2.95it/s]"
          ]
        },
        {
          "output_type": "stream",
          "name": "stderr",
          "text": [
            "\rBatches:  88%|\u2588\u2588\u2588\u2588\u2588\u2588\u2588\u2588\u258a | 451/513 [02:36<00:20,  2.96it/s]"
          ]
        },
        {
          "output_type": "stream",
          "name": "stderr",
          "text": [
            "\rBatches:  88%|\u2588\u2588\u2588\u2588\u2588\u2588\u2588\u2588\u258a | 452/513 [02:36<00:20,  2.98it/s]"
          ]
        },
        {
          "output_type": "stream",
          "name": "stderr",
          "text": [
            "\rBatches:  88%|\u2588\u2588\u2588\u2588\u2588\u2588\u2588\u2588\u258a | 453/513 [02:36<00:19,  3.02it/s]"
          ]
        },
        {
          "output_type": "stream",
          "name": "stderr",
          "text": [
            "\rBatches:  88%|\u2588\u2588\u2588\u2588\u2588\u2588\u2588\u2588\u258a | 454/513 [02:37<00:19,  3.02it/s]"
          ]
        },
        {
          "output_type": "stream",
          "name": "stderr",
          "text": [
            "\rBatches:  89%|\u2588\u2588\u2588\u2588\u2588\u2588\u2588\u2588\u258a | 455/513 [02:37<00:19,  2.97it/s]"
          ]
        },
        {
          "output_type": "stream",
          "name": "stderr",
          "text": [
            "\rBatches:  89%|\u2588\u2588\u2588\u2588\u2588\u2588\u2588\u2588\u2589 | 456/513 [02:37<00:19,  2.89it/s]"
          ]
        },
        {
          "output_type": "stream",
          "name": "stderr",
          "text": [
            "\rBatches:  89%|\u2588\u2588\u2588\u2588\u2588\u2588\u2588\u2588\u2589 | 457/513 [02:38<00:19,  2.89it/s]"
          ]
        },
        {
          "output_type": "stream",
          "name": "stderr",
          "text": [
            "\rBatches:  89%|\u2588\u2588\u2588\u2588\u2588\u2588\u2588\u2588\u2589 | 458/513 [02:38<00:18,  2.93it/s]"
          ]
        },
        {
          "output_type": "stream",
          "name": "stderr",
          "text": [
            "\rBatches:  89%|\u2588\u2588\u2588\u2588\u2588\u2588\u2588\u2588\u2589 | 459/513 [02:38<00:18,  2.94it/s]"
          ]
        },
        {
          "output_type": "stream",
          "name": "stderr",
          "text": [
            "\rBatches:  90%|\u2588\u2588\u2588\u2588\u2588\u2588\u2588\u2588\u2589 | 460/513 [02:39<00:17,  2.98it/s]"
          ]
        },
        {
          "output_type": "stream",
          "name": "stderr",
          "text": [
            "\rBatches:  90%|\u2588\u2588\u2588\u2588\u2588\u2588\u2588\u2588\u2589 | 461/513 [02:39<00:17,  2.99it/s]"
          ]
        },
        {
          "output_type": "stream",
          "name": "stderr",
          "text": [
            "\rBatches:  90%|\u2588\u2588\u2588\u2588\u2588\u2588\u2588\u2588\u2588 | 462/513 [02:39<00:16,  3.02it/s]"
          ]
        },
        {
          "output_type": "stream",
          "name": "stderr",
          "text": [
            "\rBatches:  90%|\u2588\u2588\u2588\u2588\u2588\u2588\u2588\u2588\u2588 | 463/513 [02:40<00:16,  3.01it/s]"
          ]
        },
        {
          "output_type": "stream",
          "name": "stderr",
          "text": [
            "\rBatches:  90%|\u2588\u2588\u2588\u2588\u2588\u2588\u2588\u2588\u2588 | 464/513 [02:40<00:16,  3.02it/s]"
          ]
        },
        {
          "output_type": "stream",
          "name": "stderr",
          "text": [
            "\rBatches:  91%|\u2588\u2588\u2588\u2588\u2588\u2588\u2588\u2588\u2588 | 465/513 [02:40<00:15,  3.07it/s]"
          ]
        },
        {
          "output_type": "stream",
          "name": "stderr",
          "text": [
            "\rBatches:  91%|\u2588\u2588\u2588\u2588\u2588\u2588\u2588\u2588\u2588 | 466/513 [02:41<00:15,  3.07it/s]"
          ]
        },
        {
          "output_type": "stream",
          "name": "stderr",
          "text": [
            "\rBatches:  91%|\u2588\u2588\u2588\u2588\u2588\u2588\u2588\u2588\u2588 | 467/513 [02:41<00:15,  2.93it/s]"
          ]
        },
        {
          "output_type": "stream",
          "name": "stderr",
          "text": [
            "\rBatches:  91%|\u2588\u2588\u2588\u2588\u2588\u2588\u2588\u2588\u2588 | 468/513 [02:41<00:15,  2.95it/s]"
          ]
        },
        {
          "output_type": "stream",
          "name": "stderr",
          "text": [
            "\rBatches:  91%|\u2588\u2588\u2588\u2588\u2588\u2588\u2588\u2588\u2588\u258f| 469/513 [02:42<00:14,  2.98it/s]"
          ]
        },
        {
          "output_type": "stream",
          "name": "stderr",
          "text": [
            "\rBatches:  92%|\u2588\u2588\u2588\u2588\u2588\u2588\u2588\u2588\u2588\u258f| 470/513 [02:42<00:14,  2.94it/s]"
          ]
        },
        {
          "output_type": "stream",
          "name": "stderr",
          "text": [
            "\rBatches:  92%|\u2588\u2588\u2588\u2588\u2588\u2588\u2588\u2588\u2588\u258f| 471/513 [02:42<00:14,  2.96it/s]"
          ]
        },
        {
          "output_type": "stream",
          "name": "stderr",
          "text": [
            "\rBatches:  92%|\u2588\u2588\u2588\u2588\u2588\u2588\u2588\u2588\u2588\u258f| 472/513 [02:43<00:14,  2.93it/s]"
          ]
        },
        {
          "output_type": "stream",
          "name": "stderr",
          "text": [
            "\rBatches:  92%|\u2588\u2588\u2588\u2588\u2588\u2588\u2588\u2588\u2588\u258f| 473/513 [02:43<00:13,  2.93it/s]"
          ]
        },
        {
          "output_type": "stream",
          "name": "stderr",
          "text": [
            "\rBatches:  92%|\u2588\u2588\u2588\u2588\u2588\u2588\u2588\u2588\u2588\u258f| 474/513 [02:43<00:13,  2.95it/s]"
          ]
        },
        {
          "output_type": "stream",
          "name": "stderr",
          "text": [
            "\rBatches:  93%|\u2588\u2588\u2588\u2588\u2588\u2588\u2588\u2588\u2588\u258e| 475/513 [02:44<00:12,  2.97it/s]"
          ]
        },
        {
          "output_type": "stream",
          "name": "stderr",
          "text": [
            "\rBatches:  93%|\u2588\u2588\u2588\u2588\u2588\u2588\u2588\u2588\u2588\u258e| 476/513 [02:44<00:12,  2.98it/s]"
          ]
        },
        {
          "output_type": "stream",
          "name": "stderr",
          "text": [
            "\rBatches:  93%|\u2588\u2588\u2588\u2588\u2588\u2588\u2588\u2588\u2588\u258e| 477/513 [02:44<00:12,  3.00it/s]"
          ]
        },
        {
          "output_type": "stream",
          "name": "stderr",
          "text": [
            "\rBatches:  93%|\u2588\u2588\u2588\u2588\u2588\u2588\u2588\u2588\u2588\u258e| 478/513 [02:45<00:11,  2.93it/s]"
          ]
        },
        {
          "output_type": "stream",
          "name": "stderr",
          "text": [
            "\rBatches:  93%|\u2588\u2588\u2588\u2588\u2588\u2588\u2588\u2588\u2588\u258e| 479/513 [02:45<00:11,  2.94it/s]"
          ]
        },
        {
          "output_type": "stream",
          "name": "stderr",
          "text": [
            "\rBatches:  94%|\u2588\u2588\u2588\u2588\u2588\u2588\u2588\u2588\u2588\u258e| 480/513 [02:45<00:11,  2.97it/s]"
          ]
        },
        {
          "output_type": "stream",
          "name": "stderr",
          "text": [
            "\rBatches:  94%|\u2588\u2588\u2588\u2588\u2588\u2588\u2588\u2588\u2588\u258d| 481/513 [02:46<00:10,  3.03it/s]"
          ]
        },
        {
          "output_type": "stream",
          "name": "stderr",
          "text": [
            "\rBatches:  94%|\u2588\u2588\u2588\u2588\u2588\u2588\u2588\u2588\u2588\u258d| 482/513 [02:46<00:10,  2.98it/s]"
          ]
        },
        {
          "output_type": "stream",
          "name": "stderr",
          "text": [
            "\rBatches:  94%|\u2588\u2588\u2588\u2588\u2588\u2588\u2588\u2588\u2588\u258d| 483/513 [02:46<00:09,  3.00it/s]"
          ]
        },
        {
          "output_type": "stream",
          "name": "stderr",
          "text": [
            "\rBatches:  94%|\u2588\u2588\u2588\u2588\u2588\u2588\u2588\u2588\u2588\u258d| 484/513 [02:47<00:09,  3.04it/s]"
          ]
        },
        {
          "output_type": "stream",
          "name": "stderr",
          "text": [
            "\rBatches:  95%|\u2588\u2588\u2588\u2588\u2588\u2588\u2588\u2588\u2588\u258d| 485/513 [02:47<00:09,  3.03it/s]"
          ]
        },
        {
          "output_type": "stream",
          "name": "stderr",
          "text": [
            "\rBatches:  95%|\u2588\u2588\u2588\u2588\u2588\u2588\u2588\u2588\u2588\u258d| 486/513 [02:47<00:08,  3.01it/s]"
          ]
        },
        {
          "output_type": "stream",
          "name": "stderr",
          "text": [
            "\rBatches:  95%|\u2588\u2588\u2588\u2588\u2588\u2588\u2588\u2588\u2588\u258d| 487/513 [02:48<00:08,  3.06it/s]"
          ]
        },
        {
          "output_type": "stream",
          "name": "stderr",
          "text": [
            "\rBatches:  95%|\u2588\u2588\u2588\u2588\u2588\u2588\u2588\u2588\u2588\u258c| 488/513 [02:48<00:08,  3.04it/s]"
          ]
        },
        {
          "output_type": "stream",
          "name": "stderr",
          "text": [
            "\rBatches:  95%|\u2588\u2588\u2588\u2588\u2588\u2588\u2588\u2588\u2588\u258c| 489/513 [02:48<00:07,  3.04it/s]"
          ]
        },
        {
          "output_type": "stream",
          "name": "stderr",
          "text": [
            "\rBatches:  96%|\u2588\u2588\u2588\u2588\u2588\u2588\u2588\u2588\u2588\u258c| 490/513 [02:49<00:08,  2.81it/s]"
          ]
        },
        {
          "output_type": "stream",
          "name": "stderr",
          "text": [
            "\rBatches:  96%|\u2588\u2588\u2588\u2588\u2588\u2588\u2588\u2588\u2588\u258c| 491/513 [02:49<00:07,  2.85it/s]"
          ]
        },
        {
          "output_type": "stream",
          "name": "stderr",
          "text": [
            "\rBatches:  96%|\u2588\u2588\u2588\u2588\u2588\u2588\u2588\u2588\u2588\u258c| 492/513 [02:50<00:07,  2.78it/s]"
          ]
        },
        {
          "output_type": "stream",
          "name": "stderr",
          "text": [
            "\rBatches:  96%|\u2588\u2588\u2588\u2588\u2588\u2588\u2588\u2588\u2588\u258c| 493/513 [02:50<00:07,  2.84it/s]"
          ]
        },
        {
          "output_type": "stream",
          "name": "stderr",
          "text": [
            "\rBatches:  96%|\u2588\u2588\u2588\u2588\u2588\u2588\u2588\u2588\u2588\u258b| 494/513 [02:50<00:06,  2.79it/s]"
          ]
        },
        {
          "output_type": "stream",
          "name": "stderr",
          "text": [
            "\rBatches:  96%|\u2588\u2588\u2588\u2588\u2588\u2588\u2588\u2588\u2588\u258b| 495/513 [02:51<00:06,  2.86it/s]"
          ]
        },
        {
          "output_type": "stream",
          "name": "stderr",
          "text": [
            "\rBatches:  97%|\u2588\u2588\u2588\u2588\u2588\u2588\u2588\u2588\u2588\u258b| 496/513 [02:51<00:05,  2.90it/s]"
          ]
        },
        {
          "output_type": "stream",
          "name": "stderr",
          "text": [
            "\rBatches:  97%|\u2588\u2588\u2588\u2588\u2588\u2588\u2588\u2588\u2588\u258b| 497/513 [02:51<00:05,  2.96it/s]"
          ]
        },
        {
          "output_type": "stream",
          "name": "stderr",
          "text": [
            "\rBatches:  97%|\u2588\u2588\u2588\u2588\u2588\u2588\u2588\u2588\u2588\u258b| 498/513 [02:52<00:05,  2.99it/s]"
          ]
        },
        {
          "output_type": "stream",
          "name": "stderr",
          "text": [
            "\rBatches:  97%|\u2588\u2588\u2588\u2588\u2588\u2588\u2588\u2588\u2588\u258b| 499/513 [02:52<00:04,  3.05it/s]"
          ]
        },
        {
          "output_type": "stream",
          "name": "stderr",
          "text": [
            "\rBatches:  97%|\u2588\u2588\u2588\u2588\u2588\u2588\u2588\u2588\u2588\u258b| 500/513 [02:52<00:04,  3.07it/s]"
          ]
        },
        {
          "output_type": "stream",
          "name": "stderr",
          "text": [
            "\rBatches:  98%|\u2588\u2588\u2588\u2588\u2588\u2588\u2588\u2588\u2588\u258a| 501/513 [02:53<00:03,  3.07it/s]"
          ]
        },
        {
          "output_type": "stream",
          "name": "stderr",
          "text": [
            "\rBatches:  98%|\u2588\u2588\u2588\u2588\u2588\u2588\u2588\u2588\u2588\u258a| 502/513 [02:53<00:03,  2.97it/s]"
          ]
        },
        {
          "output_type": "stream",
          "name": "stderr",
          "text": [
            "\rBatches:  98%|\u2588\u2588\u2588\u2588\u2588\u2588\u2588\u2588\u2588\u258a| 503/513 [02:53<00:03,  2.82it/s]"
          ]
        },
        {
          "output_type": "stream",
          "name": "stderr",
          "text": [
            "\rBatches:  98%|\u2588\u2588\u2588\u2588\u2588\u2588\u2588\u2588\u2588\u258a| 504/513 [02:54<00:03,  2.86it/s]"
          ]
        },
        {
          "output_type": "stream",
          "name": "stderr",
          "text": [
            "\rBatches:  98%|\u2588\u2588\u2588\u2588\u2588\u2588\u2588\u2588\u2588\u258a| 505/513 [02:54<00:02,  2.91it/s]"
          ]
        },
        {
          "output_type": "stream",
          "name": "stderr",
          "text": [
            "\rBatches:  99%|\u2588\u2588\u2588\u2588\u2588\u2588\u2588\u2588\u2588\u258a| 506/513 [02:54<00:02,  2.91it/s]"
          ]
        },
        {
          "output_type": "stream",
          "name": "stderr",
          "text": [
            "\rBatches:  99%|\u2588\u2588\u2588\u2588\u2588\u2588\u2588\u2588\u2588\u2589| 507/513 [02:55<00:02,  2.94it/s]"
          ]
        },
        {
          "output_type": "stream",
          "name": "stderr",
          "text": [
            "\rBatches:  99%|\u2588\u2588\u2588\u2588\u2588\u2588\u2588\u2588\u2588\u2589| 508/513 [02:55<00:01,  2.93it/s]"
          ]
        },
        {
          "output_type": "stream",
          "name": "stderr",
          "text": [
            "\rBatches:  99%|\u2588\u2588\u2588\u2588\u2588\u2588\u2588\u2588\u2588\u2589| 509/513 [02:55<00:01,  2.88it/s]"
          ]
        },
        {
          "output_type": "stream",
          "name": "stderr",
          "text": [
            "\rBatches:  99%|\u2588\u2588\u2588\u2588\u2588\u2588\u2588\u2588\u2588\u2589| 510/513 [02:56<00:01,  2.90it/s]"
          ]
        },
        {
          "output_type": "stream",
          "name": "stderr",
          "text": [
            "\rBatches: 100%|\u2588\u2588\u2588\u2588\u2588\u2588\u2588\u2588\u2588\u2589| 511/513 [02:56<00:00,  2.81it/s]"
          ]
        },
        {
          "output_type": "stream",
          "name": "stderr",
          "text": [
            "\rBatches: 100%|\u2588\u2588\u2588\u2588\u2588\u2588\u2588\u2588\u2588\u2589| 512/513 [02:56<00:00,  2.82it/s]"
          ]
        },
        {
          "output_type": "stream",
          "name": "stderr",
          "text": [
            "\rBatches: 100%|\u2588\u2588\u2588\u2588\u2588\u2588\u2588\u2588\u2588\u2588| 513/513 [02:57<00:00,  2.96it/s]"
          ]
        },
        {
          "output_type": "stream",
          "name": "stderr",
          "text": [
            "\rBatches: 100%|\u2588\u2588\u2588\u2588\u2588\u2588\u2588\u2588\u2588\u2588| 513/513 [02:57<00:00,  2.89it/s]"
          ]
        },
        {
          "output_type": "stream",
          "name": "stderr",
          "text": [
            "\n"
          ]
        },
        {
          "output_type": "stream",
          "name": "stdout",
          "text": [
            "Scoring test pairs (nli-deberta-v3-base, context on anchor)...\n"
          ]
        },
        {
          "output_type": "stream",
          "name": "stderr",
          "text": [
            "\rBatches:   0%|          | 0/57 [00:00<?, ?it/s]"
          ]
        },
        {
          "output_type": "stream",
          "name": "stderr",
          "text": [
            "\rBatches:   2%|\u258f         | 1/57 [00:00<00:18,  2.96it/s]"
          ]
        },
        {
          "output_type": "stream",
          "name": "stderr",
          "text": [
            "\rBatches:   4%|\u258e         | 2/57 [00:00<00:18,  2.92it/s]"
          ]
        },
        {
          "output_type": "stream",
          "name": "stderr",
          "text": [
            "\rBatches:   5%|\u258c         | 3/57 [00:01<00:18,  2.97it/s]"
          ]
        },
        {
          "output_type": "stream",
          "name": "stderr",
          "text": [
            "\rBatches:   7%|\u258b         | 4/57 [00:01<00:17,  3.00it/s]"
          ]
        },
        {
          "output_type": "stream",
          "name": "stderr",
          "text": [
            "\rBatches:   9%|\u2589         | 5/57 [00:01<00:17,  3.01it/s]"
          ]
        },
        {
          "output_type": "stream",
          "name": "stderr",
          "text": [
            "\rBatches:  11%|\u2588         | 6/57 [00:02<00:16,  3.00it/s]"
          ]
        },
        {
          "output_type": "stream",
          "name": "stderr",
          "text": [
            "\rBatches:  12%|\u2588\u258f        | 7/57 [00:02<00:17,  2.90it/s]"
          ]
        },
        {
          "output_type": "stream",
          "name": "stderr",
          "text": [
            "\rBatches:  14%|\u2588\u258d        | 8/57 [00:02<00:17,  2.82it/s]"
          ]
        },
        {
          "output_type": "stream",
          "name": "stderr",
          "text": [
            "\rBatches:  16%|\u2588\u258c        | 9/57 [00:03<00:16,  2.87it/s]"
          ]
        },
        {
          "output_type": "stream",
          "name": "stderr",
          "text": [
            "\rBatches:  18%|\u2588\u258a        | 10/57 [00:03<00:16,  2.89it/s]"
          ]
        },
        {
          "output_type": "stream",
          "name": "stderr",
          "text": [
            "\rBatches:  19%|\u2588\u2589        | 11/57 [00:03<00:16,  2.79it/s]"
          ]
        },
        {
          "output_type": "stream",
          "name": "stderr",
          "text": [
            "\rBatches:  21%|\u2588\u2588        | 12/57 [00:04<00:15,  2.87it/s]"
          ]
        },
        {
          "output_type": "stream",
          "name": "stderr",
          "text": [
            "\rBatches:  23%|\u2588\u2588\u258e       | 13/57 [00:04<00:15,  2.87it/s]"
          ]
        },
        {
          "output_type": "stream",
          "name": "stderr",
          "text": [
            "\rBatches:  25%|\u2588\u2588\u258d       | 14/57 [00:04<00:14,  2.92it/s]"
          ]
        },
        {
          "output_type": "stream",
          "name": "stderr",
          "text": [
            "\rBatches:  26%|\u2588\u2588\u258b       | 15/57 [00:05<00:14,  2.91it/s]"
          ]
        },
        {
          "output_type": "stream",
          "name": "stderr",
          "text": [
            "\rBatches:  28%|\u2588\u2588\u258a       | 16/57 [00:05<00:14,  2.86it/s]"
          ]
        },
        {
          "output_type": "stream",
          "name": "stderr",
          "text": [
            "\rBatches:  30%|\u2588\u2588\u2589       | 17/57 [00:05<00:14,  2.70it/s]"
          ]
        },
        {
          "output_type": "stream",
          "name": "stderr",
          "text": [
            "\rBatches:  32%|\u2588\u2588\u2588\u258f      | 18/57 [00:06<00:14,  2.77it/s]"
          ]
        },
        {
          "output_type": "stream",
          "name": "stderr",
          "text": [
            "\rBatches:  33%|\u2588\u2588\u2588\u258e      | 19/57 [00:06<00:13,  2.83it/s]"
          ]
        },
        {
          "output_type": "stream",
          "name": "stderr",
          "text": [
            "\rBatches:  35%|\u2588\u2588\u2588\u258c      | 20/57 [00:06<00:12,  2.85it/s]"
          ]
        },
        {
          "output_type": "stream",
          "name": "stderr",
          "text": [
            "\rBatches:  37%|\u2588\u2588\u2588\u258b      | 21/57 [00:07<00:12,  2.90it/s]"
          ]
        },
        {
          "output_type": "stream",
          "name": "stderr",
          "text": [
            "\rBatches:  39%|\u2588\u2588\u2588\u258a      | 22/57 [00:07<00:11,  2.92it/s]"
          ]
        },
        {
          "output_type": "stream",
          "name": "stderr",
          "text": [
            "\rBatches:  40%|\u2588\u2588\u2588\u2588      | 23/57 [00:08<00:11,  2.85it/s]"
          ]
        },
        {
          "output_type": "stream",
          "name": "stderr",
          "text": [
            "\rBatches:  42%|\u2588\u2588\u2588\u2588\u258f     | 24/57 [00:08<00:11,  2.92it/s]"
          ]
        },
        {
          "output_type": "stream",
          "name": "stderr",
          "text": [
            "\rBatches:  44%|\u2588\u2588\u2588\u2588\u258d     | 25/57 [00:08<00:10,  2.94it/s]"
          ]
        },
        {
          "output_type": "stream",
          "name": "stderr",
          "text": [
            "\rBatches:  46%|\u2588\u2588\u2588\u2588\u258c     | 26/57 [00:08<00:10,  2.95it/s]"
          ]
        },
        {
          "output_type": "stream",
          "name": "stderr",
          "text": [
            "\rBatches:  47%|\u2588\u2588\u2588\u2588\u258b     | 27/57 [00:09<00:10,  2.98it/s]"
          ]
        },
        {
          "output_type": "stream",
          "name": "stderr",
          "text": [
            "\rBatches:  49%|\u2588\u2588\u2588\u2588\u2589     | 28/57 [00:09<00:09,  2.98it/s]"
          ]
        },
        {
          "output_type": "stream",
          "name": "stderr",
          "text": [
            "\rBatches:  51%|\u2588\u2588\u2588\u2588\u2588     | 29/57 [00:09<00:09,  2.99it/s]"
          ]
        },
        {
          "output_type": "stream",
          "name": "stderr",
          "text": [
            "\rBatches:  53%|\u2588\u2588\u2588\u2588\u2588\u258e    | 30/57 [00:10<00:08,  3.01it/s]"
          ]
        },
        {
          "output_type": "stream",
          "name": "stderr",
          "text": [
            "\rBatches:  54%|\u2588\u2588\u2588\u2588\u2588\u258d    | 31/57 [00:10<00:08,  2.99it/s]"
          ]
        },
        {
          "output_type": "stream",
          "name": "stderr",
          "text": [
            "\rBatches:  56%|\u2588\u2588\u2588\u2588\u2588\u258c    | 32/57 [00:11<00:08,  2.89it/s]"
          ]
        },
        {
          "output_type": "stream",
          "name": "stderr",
          "text": [
            "\rBatches:  58%|\u2588\u2588\u2588\u2588\u2588\u258a    | 33/57 [00:11<00:08,  2.93it/s]"
          ]
        },
        {
          "output_type": "stream",
          "name": "stderr",
          "text": [
            "\rBatches:  60%|\u2588\u2588\u2588\u2588\u2588\u2589    | 34/57 [00:11<00:07,  2.96it/s]"
          ]
        },
        {
          "output_type": "stream",
          "name": "stderr",
          "text": [
            "\rBatches:  61%|\u2588\u2588\u2588\u2588\u2588\u2588\u258f   | 35/57 [00:12<00:07,  2.99it/s]"
          ]
        },
        {
          "output_type": "stream",
          "name": "stderr",
          "text": [
            "\rBatches:  63%|\u2588\u2588\u2588\u2588\u2588\u2588\u258e   | 36/57 [00:12<00:06,  3.06it/s]"
          ]
        },
        {
          "output_type": "stream",
          "name": "stderr",
          "text": [
            "\rBatches:  65%|\u2588\u2588\u2588\u2588\u2588\u2588\u258d   | 37/57 [00:12<00:06,  2.97it/s]"
          ]
        },
        {
          "output_type": "stream",
          "name": "stderr",
          "text": [
            "\rBatches:  67%|\u2588\u2588\u2588\u2588\u2588\u2588\u258b   | 38/57 [00:13<00:06,  2.97it/s]"
          ]
        },
        {
          "output_type": "stream",
          "name": "stderr",
          "text": [
            "\rBatches:  68%|\u2588\u2588\u2588\u2588\u2588\u2588\u258a   | 39/57 [00:13<00:06,  2.95it/s]"
          ]
        },
        {
          "output_type": "stream",
          "name": "stderr",
          "text": [
            "\rBatches:  70%|\u2588\u2588\u2588\u2588\u2588\u2588\u2588   | 40/57 [00:13<00:05,  2.98it/s]"
          ]
        },
        {
          "output_type": "stream",
          "name": "stderr",
          "text": [
            "\rBatches:  72%|\u2588\u2588\u2588\u2588\u2588\u2588\u2588\u258f  | 41/57 [00:14<00:05,  2.98it/s]"
          ]
        },
        {
          "output_type": "stream",
          "name": "stderr",
          "text": [
            "\rBatches:  74%|\u2588\u2588\u2588\u2588\u2588\u2588\u2588\u258e  | 42/57 [00:14<00:05,  2.86it/s]"
          ]
        },
        {
          "output_type": "stream",
          "name": "stderr",
          "text": [
            "\rBatches:  75%|\u2588\u2588\u2588\u2588\u2588\u2588\u2588\u258c  | 43/57 [00:14<00:04,  2.81it/s]"
          ]
        },
        {
          "output_type": "stream",
          "name": "stderr",
          "text": [
            "\rBatches:  77%|\u2588\u2588\u2588\u2588\u2588\u2588\u2588\u258b  | 44/57 [00:15<00:04,  2.82it/s]"
          ]
        },
        {
          "output_type": "stream",
          "name": "stderr",
          "text": [
            "\rBatches:  79%|\u2588\u2588\u2588\u2588\u2588\u2588\u2588\u2589  | 45/57 [00:15<00:04,  2.90it/s]"
          ]
        },
        {
          "output_type": "stream",
          "name": "stderr",
          "text": [
            "\rBatches:  81%|\u2588\u2588\u2588\u2588\u2588\u2588\u2588\u2588  | 46/57 [00:15<00:03,  2.96it/s]"
          ]
        },
        {
          "output_type": "stream",
          "name": "stderr",
          "text": [
            "\rBatches:  82%|\u2588\u2588\u2588\u2588\u2588\u2588\u2588\u2588\u258f | 47/57 [00:16<00:03,  2.96it/s]"
          ]
        },
        {
          "output_type": "stream",
          "name": "stderr",
          "text": [
            "\rBatches:  84%|\u2588\u2588\u2588\u2588\u2588\u2588\u2588\u2588\u258d | 48/57 [00:16<00:03,  2.98it/s]"
          ]
        },
        {
          "output_type": "stream",
          "name": "stderr",
          "text": [
            "\rBatches:  86%|\u2588\u2588\u2588\u2588\u2588\u2588\u2588\u2588\u258c | 49/57 [00:16<00:02,  3.02it/s]"
          ]
        },
        {
          "output_type": "stream",
          "name": "stderr",
          "text": [
            "\rBatches:  88%|\u2588\u2588\u2588\u2588\u2588\u2588\u2588\u2588\u258a | 50/57 [00:17<00:02,  3.01it/s]"
          ]
        },
        {
          "output_type": "stream",
          "name": "stderr",
          "text": [
            "\rBatches:  89%|\u2588\u2588\u2588\u2588\u2588\u2588\u2588\u2588\u2589 | 51/57 [00:17<00:01,  3.02it/s]"
          ]
        },
        {
          "output_type": "stream",
          "name": "stderr",
          "text": [
            "\rBatches:  91%|\u2588\u2588\u2588\u2588\u2588\u2588\u2588\u2588\u2588 | 52/57 [00:17<00:01,  2.98it/s]"
          ]
        },
        {
          "output_type": "stream",
          "name": "stderr",
          "text": [
            "\rBatches:  93%|\u2588\u2588\u2588\u2588\u2588\u2588\u2588\u2588\u2588\u258e| 53/57 [00:18<00:01,  2.97it/s]"
          ]
        },
        {
          "output_type": "stream",
          "name": "stderr",
          "text": [
            "\rBatches:  95%|\u2588\u2588\u2588\u2588\u2588\u2588\u2588\u2588\u2588\u258d| 54/57 [00:18<00:01,  2.99it/s]"
          ]
        },
        {
          "output_type": "stream",
          "name": "stderr",
          "text": [
            "\rBatches:  96%|\u2588\u2588\u2588\u2588\u2588\u2588\u2588\u2588\u2588\u258b| 55/57 [00:18<00:00,  2.96it/s]"
          ]
        },
        {
          "output_type": "stream",
          "name": "stderr",
          "text": [
            "\rBatches:  98%|\u2588\u2588\u2588\u2588\u2588\u2588\u2588\u2588\u2588\u258a| 56/57 [00:19<00:00,  2.96it/s]"
          ]
        },
        {
          "output_type": "stream",
          "name": "stderr",
          "text": [
            "\rBatches: 100%|\u2588\u2588\u2588\u2588\u2588\u2588\u2588\u2588\u2588\u2588| 57/57 [00:19<00:00,  3.00it/s]"
          ]
        },
        {
          "output_type": "stream",
          "name": "stderr",
          "text": [
            "\rBatches: 100%|\u2588\u2588\u2588\u2588\u2588\u2588\u2588\u2588\u2588\u2588| 57/57 [00:19<00:00,  2.93it/s]"
          ]
        },
        {
          "output_type": "stream",
          "name": "stdout",
          "text": [
            "NLI-CE Fold 0: raw=0.439924 | iso=0.461154 | lin=0.439924\n"
          ]
        },
        {
          "output_type": "stream",
          "name": "stdout",
          "text": [
            "NLI-CE Fold 1: raw=0.424813 | iso=0.442479 | lin=0.424813\n"
          ]
        },
        {
          "output_type": "stream",
          "name": "stdout",
          "text": [
            "NLI-CE Fold 2: raw=0.418987 | iso=0.434908 | lin=0.418987\n"
          ]
        },
        {
          "output_type": "stream",
          "name": "stdout",
          "text": [
            "NLI-CE Fold 3: raw=0.421060 | iso=0.446963 | lin=0.421060\n"
          ]
        },
        {
          "output_type": "stream",
          "name": "stdout",
          "text": [
            "NLI-CE Fold 4: raw=0.428902 | iso=0.445477 | lin=0.428902\n"
          ]
        },
        {
          "output_type": "stream",
          "name": "stdout",
          "text": [
            "NLI-CE OOF Pearson: raw= 0.426387  iso= 0.445772  lin= 0.42618\nSaved NLI DeBERTa CE artifacts and overwrote CE files for stacker. Elapsed 3.3 min\n"
          ]
        },
        {
          "output_type": "stream",
          "name": "stderr",
          "text": [
            "\n"
          ]
        }
      ]
    },
    {
      "id": "e803e2f3-5548-482a-b70a-ee313b92f726",
      "cell_type": "code",
      "metadata": {},
      "source": [
        "# BM25 features (CPU, no leakage): per-fold IDF on train-only; compute bm25_ab (anchor->target) and bm25_ba (target->anchor)\n",
        "# Test features are averaged over folds (fit IDF on train!=fold, score all test rows).\n",
        "import time, re, math, numpy as np, pandas as pd\n",
        "from collections import Counter\n",
        "from tqdm.auto import tqdm\n",
        "\n",
        "SEED = 42\n",
        "np.random.seed(SEED)\n",
        "\n",
        "def tokenize_words(s: str):\n",
        "    return re.findall(r\"\\w+\", str(s).lower())\n",
        "\n",
        "def build_df(tokens_list):\n",
        "    df = Counter()\n",
        "    for toks in tokens_list:\n",
        "        df.update(set(toks))  # document frequency counts presence once per doc\n",
        "    return df\n",
        "\n",
        "def bm25_idf(df_counter, N):\n",
        "    # idf(t) = log((N - df + 0.5)/(df + 0.5) + 1)\n",
        "    idf = {}\n",
        "    for t, df in df_counter.items():\n",
        "        idf[t] = math.log((N - df + 0.5)/(df + 0.5) + 1.0)\n",
        "    return idf\n",
        "\n",
        "def bm25_score(query_tokens, doc_tokens, idf, avgdl, k1=1.5, b=0.75):\n",
        "    if not query_tokens or not doc_tokens:\n",
        "        return 0.0\n",
        "    f = Counter(doc_tokens)\n",
        "    dl = len(doc_tokens)\n",
        "    score = 0.0\n",
        "    # Use unique terms from query to avoid overweighting repeated query terms (common practice in IR scoring)\n",
        "    for term in set(query_tokens):\n",
        "        if term not in idf:\n",
        "            continue\n",
        "        tf = f.get(term, 0)\n",
        "        if tf == 0:\n",
        "            continue\n",
        "        denom = tf + k1 * (1.0 - b + b * (dl / (avgdl + 1e-12)))\n",
        "        score += idf[term] * (tf * (k1 + 1.0)) / (denom + 1e-12)\n",
        "    return float(score)\n",
        "\n",
        "t0 = time.time()\n",
        "train = pd.read_csv('train.csv')\n",
        "test = pd.read_csv('test.csv')\n",
        "folds = pd.read_csv('folds_by_id.csv')\n",
        "train = train.merge(folds, on='id', how='left', validate='one_to_one')\n",
        "assert (train['fold']>=0).all(), 'Fold merge by id failed'\n",
        "\n",
        "# Pre-tokenize\n",
        "A_tr_tok = [tokenize_words(x) for x in train['anchor'].astype(str).tolist()]\n",
        "B_tr_tok = [tokenize_words(x) for x in train['target'].astype(str).tolist()]\n",
        "A_te_tok = [tokenize_words(x) for x in test['anchor'].astype(str).tolist()]\n",
        "B_te_tok = [tokenize_words(x) for x in test['target'].astype(str).tolist()]\n",
        "\n",
        "fold_arr = train['fold'].values.astype(int)\n",
        "n_tr = len(train); n_te = len(test)\n",
        "\n",
        "bm25_ab_oof = np.zeros(n_tr, dtype=np.float32)\n",
        "bm25_ba_oof = np.zeros(n_tr, dtype=np.float32)\n",
        "bm25_ab_te_folds = []\n",
        "bm25_ba_te_folds = []\n",
        "\n",
        "for f in sorted(np.unique(fold_arr)):\n",
        "    f0 = time.time()\n",
        "    tr_idx = np.where(fold_arr != f)[0]\n",
        "    va_idx = np.where(fold_arr == f)[0]\n",
        "    # Fit IDF on train-only for targets (for A->B) and anchors (for B->A)\n",
        "    corpus_B = [B_tr_tok[i] for i in tr_idx]\n",
        "    corpus_A = [A_tr_tok[i] for i in tr_idx]\n",
        "    N_B = len(corpus_B); N_A = len(corpus_A)\n",
        "    df_B = build_df(corpus_B); idf_B = bm25_idf(df_B, N_B)\n",
        "    df_A = build_df(corpus_A); idf_A = bm25_idf(df_A, N_A)\n",
        "    avgdl_B = float(np.mean([len(t) for t in corpus_B]) if corpus_B else 0.0)\n",
        "    avgdl_A = float(np.mean([len(t) for t in corpus_A]) if corpus_A else 0.0)\n",
        "\n",
        "    # Compute OOF for this fold\n",
        "    for i in va_idx:\n",
        "        # bm25_ab: query = anchor, doc = target\n",
        "        bm25_ab_oof[i] = bm25_score(A_tr_tok[i], B_tr_tok[i], idf_B, avgdl_B)\n",
        "        # bm25_ba: query = target, doc = anchor\n",
        "        bm25_ba_oof[i] = bm25_score(B_tr_tok[i], A_tr_tok[i], idf_A, avgdl_A)\n",
        "\n",
        "    # Compute test features for this fold\n",
        "    te_ab = np.zeros(n_te, dtype=np.float32)\n",
        "    te_ba = np.zeros(n_te, dtype=np.float32)\n",
        "    for j in range(n_te):\n",
        "        te_ab[j] = bm25_score(A_te_tok[j], B_te_tok[j], idf_B, avgdl_B)\n",
        "        te_ba[j] = bm25_score(B_te_tok[j], A_te_tok[j], idf_A, avgdl_A)\n",
        "    bm25_ab_te_folds.append(te_ab)\n",
        "    bm25_ba_te_folds.append(te_ba)\n",
        "    print(f'BM25 fold {int(f)} done in {time.time()-f0:.1f}s', flush=True)\n",
        "\n",
        "# Aggregate test across folds (mean)\n",
        "bm25_ab_te = np.mean(np.vstack(bm25_ab_te_folds), axis=0).astype(np.float32)\n",
        "bm25_ba_te = np.mean(np.vstack(bm25_ba_te_folds), axis=0).astype(np.float32)\n",
        "\n",
        "# Save artifacts\n",
        "pd.DataFrame({'id': train['id'], 'bm25_ab': bm25_ab_oof, 'bm25_ba': bm25_ba_oof}).to_csv('oof_bm25.csv', index=False)\n",
        "pd.DataFrame({'id': test['id'], 'bm25_ab': bm25_ab_te, 'bm25_ba': bm25_ba_te}).to_csv('bm25_test.csv', index=False)\n",
        "print('Saved oof_bm25.csv and bm25_test.csv; elapsed', round((time.time()-t0)/60,2), 'min')"
      ],
      "execution_count": 4,
      "outputs": [
        {
          "output_type": "stream",
          "name": "stdout",
          "text": [
            "BM25 fold 0 done in 0.1s\n"
          ]
        },
        {
          "output_type": "stream",
          "name": "stdout",
          "text": [
            "BM25 fold 1 done in 0.1s\n"
          ]
        },
        {
          "output_type": "stream",
          "name": "stdout",
          "text": [
            "BM25 fold 2 done in 0.1s\n"
          ]
        },
        {
          "output_type": "stream",
          "name": "stdout",
          "text": [
            "BM25 fold 3 done in 0.1s\n"
          ]
        },
        {
          "output_type": "stream",
          "name": "stdout",
          "text": [
            "BM25 fold 4 done in 0.1s\n"
          ]
        },
        {
          "output_type": "stream",
          "name": "stdout",
          "text": [
            "Saved oof_bm25.csv and bm25_test.csv; elapsed 0.01 min\n"
          ]
        }
      ]
    }
  ],
  "metadata": {
    "kernelspec": {
      "display_name": "Python 3",
      "language": "python",
      "name": "python3"
    },
    "language_info": {
      "name": "python",
      "version": "3.11.0rc1"
    }
  },
  "nbformat": 4,
  "nbformat_minor": 5
}