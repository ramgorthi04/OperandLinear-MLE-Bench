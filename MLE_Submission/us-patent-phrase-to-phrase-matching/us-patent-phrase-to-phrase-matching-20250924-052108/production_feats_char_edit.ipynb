{
  "cells": [
    {
      "id": "eac5b44a-9260-485e-83e2-6fc1e259929d",
      "cell_type": "code",
      "metadata": {},
      "source": [
        "# Char edit similarity features: Jaro-Winkler, Levenshtein, Damerau-Levenshtein (train/test)\n",
        "import time, pandas as pd\n",
        "from rapidfuzz.distance import JaroWinkler, Levenshtein, DamerauLevenshtein\n",
        "\n",
        "t0 = time.time()\n",
        "train = pd.read_csv('train.csv')\n",
        "test = pd.read_csv('test.csv')\n",
        "\n",
        "def compute_char_edit(df: pd.DataFrame) -> pd.DataFrame:\n",
        "    a = df['anchor'].astype(str).tolist()\n",
        "    b = df['target'].astype(str).tolist()\n",
        "    n = len(df)\n",
        "    jw = [0.0]*n; lev = [0.0]*n; dlev = [0.0]*n\n",
        "    for i, (x, y) in enumerate(zip(a, b)):\n",
        "        # normalized_similarity returns 0..1\n",
        "        jw[i] = float(JaroWinkler.normalized_similarity(x, y))\n",
        "        lev[i] = float(Levenshtein.normalized_similarity(x, y))\n",
        "        dlev[i] = float(DamerauLevenshtein.normalized_similarity(x, y))\n",
        "        if (i+1) % 50000 == 0:\n",
        "            print(f'.. {i+1} rows done', flush=True)\n",
        "    out = pd.DataFrame({\n",
        "        'jaro_winkler': jw,\n",
        "        'levenshtein_norm': lev,\n",
        "        'damerau_lev_norm': dlev,\n",
        "    })\n",
        "    # cheap non-linearities\n",
        "    out['jaro_winkler_sq'] = out['jaro_winkler']**2\n",
        "    out['levenshtein_norm_sq'] = out['levenshtein_norm']**2\n",
        "    out['damerau_lev_norm_sq'] = out['damerau_lev_norm']**2\n",
        "    out['one_minus_jw'] = 1.0 - out['jaro_winkler']\n",
        "    out['one_minus_lev'] = 1.0 - out['levenshtein_norm']\n",
        "    out['one_minus_dlev'] = 1.0 - out['damerau_lev_norm']\n",
        "    return out.astype('float32')\n",
        "\n",
        "print('Computing train char-edit features...', flush=True)\n",
        "tr_feats = compute_char_edit(train)\n",
        "tr_out = pd.concat([train[['id']].reset_index(drop=True), tr_feats.reset_index(drop=True)], axis=1)\n",
        "tr_out.to_csv('oof_char_edit.csv', index=False)\n",
        "print('Saved oof_char_edit.csv with shape', tr_out.shape, flush=True)\n",
        "\n",
        "print('Computing test char-edit features...', flush=True)\n",
        "te_feats = compute_char_edit(test)\n",
        "te_out = pd.concat([test[['id']].reset_index(drop=True), te_feats.reset_index(drop=True)], axis=1)\n",
        "te_out.to_csv('char_edit_test.csv', index=False)\n",
        "print('Saved char_edit_test.csv with shape', te_out.shape, flush=True)\n",
        "\n",
        "print('Done in', round((time.time()-t0)/60,2), 'min', flush=True)"
      ],
      "execution_count": 1,
      "outputs": [
        {
          "output_type": "stream",
          "name": "stdout",
          "text": [
            "Computing train char-edit features...\n"
          ]
        },
        {
          "output_type": "stream",
          "name": "stdout",
          "text": [
            "Saved oof_char_edit.csv with shape (32825, 10)\n"
          ]
        },
        {
          "output_type": "stream",
          "name": "stdout",
          "text": [
            "Computing test char-edit features...\n"
          ]
        },
        {
          "output_type": "stream",
          "name": "stdout",
          "text": [
            "Saved char_edit_test.csv with shape (3648, 10)\n"
          ]
        },
        {
          "output_type": "stream",
          "name": "stdout",
          "text": [
            "Done in 0.0 min\n"
          ]
        }
      ]
    }
  ],
  "metadata": {
    "kernelspec": {
      "display_name": "Python 3",
      "language": "python",
      "name": "python3"
    },
    "language_info": {
      "name": "python",
      "version": "3.11.0rc1"
    }
  },
  "nbformat": 4,
  "nbformat_minor": 5
}