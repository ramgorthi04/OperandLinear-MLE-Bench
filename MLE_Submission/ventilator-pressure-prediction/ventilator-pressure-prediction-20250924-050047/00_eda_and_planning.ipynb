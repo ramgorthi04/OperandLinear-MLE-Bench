{
  "cells": [
    {
      "id": "9b43a4b6-a4dd-4177-8b72-cd9b58d3786a",
      "cell_type": "markdown",
      "metadata": {},
      "source": [
        "# Plan: Google Brain Ventilator Pressure Prediction\n",
        "\n",
        "Objectives:\n",
        "- Build a robust CV and fast baseline quickly, then iterate to medal-level.\n",
        "- Use GroupKFold by breath_id and fit transforms inside folds only.\n",
        "- Start with a feature-engineered tree baseline (fast), then a GRU/LSTM 1D deep model if needed.\n",
        "- Log progress and cache artifacts; keep seeds/folds deterministic.\n",
        "\n",
        "Environment and Setup Checklist:\n",
        "- Verify GPU availability via nvidia-smi and torch.cuda.is_available().\n",
        "- Install PyTorch CUDA 12.1 wheels if needed; prefer XGBoost/CatBoost for GPU-accelerated trees.\n",
        "- Create a constraints file to lock torch versions.\n",
        "\n",
        "Data Understanding:\n",
        "- train.csv/test.csv contain sequences for breaths (breath_id) with time_step, u_in, u_out, R, C.\n",
        "- Predict pressure for each time step; evaluation here is dice-hausdorff-combo (proxy; original comp used MAE).\n",
        "- Key caution: leakage via using future time steps for current prediction in non-autoregressive models\u2014must align features per time step.\n",
        "\n",
        "Validation Protocol:\n",
        "- GroupKFold(n_splits=5) on breath_id. Shuffle with fixed seed.\n",
        "- Metric for model selection: MAE on OOF for u_out==0 steps only (typical comp rule), but we will also track full-seq MAE; we will rely on leaderboard metric after submission. Ensure no leakage by fitting scalers/encoders inside each fold.\n",
        "\n",
        "Baseline v1: Feature-Engineered Trees (XGBoost/CB, GPU):\n",
        "- Features per time step:\n",
        "  - raw: time_step, u_in, u_out, R, C\n",
        "  - interaction: R*C, R/C, 1/R, 1/C, RC one-hot\n",
        "  - lags/leads of u_in, pressure (train only for targets, but for features avoid target leakage; can use cumulative stats of u_in only)\n",
        "  - deltas: du_in, d2u_in; dt (time_step diff), cumulative_time\n",
        "  - rolling stats per breath: rolling mean/std/min/max of u_in over windows (3,5,7), expanding mean/std\n",
        "  - cumulative integrals: cumsum(u_in*dt), cumsum(u_in), cummean(u_in), area under curve proxies\n",
        "  - segment features at inspiratory/expiratory phases using u_out transitions\n",
        "  - breath-level stats: mean/median/std of u_in, count, unique R,C\n",
        "- Target transformation: None for trees.\n",
        "- Train with GPU if available; early stopping; 5-fold OOF; log per-fold times.\n",
        "\n",
        "Deep Model v2: Sequence GRU/1D-CNN (if needed):\n",
        "- Inputs: standardized sequence features per breath, length ~80 time steps.\n",
        "- Architecture: 2-3 layer bidirectional GRU + FC head; mask u_out==1 for loss.\n",
        "- Loss: MAE on masked positions; scheduler + early stopping.\n",
        "- Quantization trick (optional): classify over unique pressures then refine; consider later.\n",
        "\n",
        "Iteration Strategy:\n",
        "1) Sanity: environment + quick EDA (shapes, unique breaths, sequence length).\n",
        "2) Baseline features + XGBoost GPU, 5-fold OOF. Produce submission.\n",
        "3) Error analysis on OOF: buckets by R,C; by time position; by u_out; tune features accordingly.\n",
        "4) If needed, implement GRU and blend with tree model.\n",
        "\n",
        "Risk/Checks:\n",
        "- Consistent fold split saved to disk; reuse across runs.\n",
        "- Avoid using future info when generating per-step features unless symmetrical windows are allowed in both train/test.\n",
        "- Ensure deterministic seeds; log config and runtime per fold.\n",
        "\n",
        "Next Steps:\n",
        "1) Run environment check (nvidia-smi, torch install).\n",
        "2) Load data, basic EDA, confirm sequence length and breath counts.\n",
        "3) Implement fold creation and feature pipeline (cached).\n",
        "4) Train baseline XGBoost (GPU) with early stopping; create submission.\n",
        "5) Request expert review after baseline OOF.\n",
        "\n",
        "Questions for Experts:\n",
        "- Which engineered features historically gave the largest gains for this comp? Any must-haves we missed?\n",
        "- Preferred CV split (5x GroupKFold vs. 10x) and whether to mask u_out==1 during training for trees?\n",
        "- Tips on ensembling trees with GRU for robust gains vs. overfit?\n",
        "- Any pitfalls around time_step scaling or leakage to watch closely?"
      ],
      "execution_count": null,
      "outputs": []
    },
    {
      "id": "a0a4939d-acd9-4775-9961-b28390dd919d",
      "cell_type": "code",
      "metadata": {},
      "source": [
        "# Environment check: GPU + Torch cu121, quick data sanity\n",
        "import os, sys, subprocess, shutil, time\n",
        "from pathlib import Path\n",
        "import pandas as pd\n",
        "\n",
        "print('=== nvidia-smi ===', flush=True)\n",
        "subprocess.run(['bash','-lc','nvidia-smi || true'], check=False)\n",
        "\n",
        "def pip(*args):\n",
        "    print('> pip', *args, flush=True)\n",
        "    subprocess.run([sys.executable, '-m', 'pip', *args], check=True)\n",
        "\n",
        "torch_ok = False\n",
        "try:\n",
        "    import torch\n",
        "    v = getattr(torch.version, 'cuda', None)\n",
        "    print('Found torch:', torch.__version__, 'CUDA build:', v, flush=True)\n",
        "    torch_ok = (v or '').startswith('12.1')\n",
        "except Exception as e:\n",
        "    print('Torch import failed:', e, flush=True)\n",
        "    torch_ok = False\n",
        "\n",
        "if not torch_ok:\n",
        "    # Clean any stray torch installs\n",
        "    for pkg in ('torch','torchvision','torchaudio'):\n",
        "        subprocess.run([sys.executable, '-m', 'pip', 'uninstall', '-y', pkg], check=False)\n",
        "    for d in (\n",
        "        '/app/.pip-target/torch',\n",
        "        '/app/.pip-target/torchvision',\n",
        "        '/app/.pip-target/torchaudio',\n",
        "        '/app/.pip-target/torch-2.8.0.dist-info',\n",
        "        '/app/.pip-target/torch-2.4.1.dist-info',\n",
        "        '/app/.pip-target/torchvision-0.23.0.dist-info',\n",
        "        '/app/.pip-target/torchvision-0.19.1.dist-info',\n",
        "        '/app/.pip-target/torchaudio-2.8.0.dist-info',\n",
        "        '/app/.pip-target/torchaudio-2.4.1.dist-info',\n",
        "        '/app/.pip-target/torchgen',\n",
        "        '/app/.pip-target/functorch',\n",
        "    ):\n",
        "        if os.path.exists(d):\n",
        "            print('Removing', d, flush=True)\n",
        "            shutil.rmtree(d, ignore_errors=True)\n",
        "    # Install exact cu121 stack\n",
        "    pip('install',\n",
        "        '--index-url', 'https://download.pytorch.org/whl/cu121',\n",
        "        '--extra-index-url', 'https://pypi.org/simple',\n",
        "        'torch==2.4.1', 'torchvision==0.19.1', 'torchaudio==2.4.1')\n",
        "    Path('constraints.txt').write_text('torch==2.4.1\\ntorchvision==0.19.1\\ntorchaudio==2.4.1\\n')\n",
        "    import importlib; importlib.invalidate_caches()\n",
        "    import torch\n",
        "\n",
        "print('torch:', torch.__version__, 'built CUDA:', getattr(torch.version, 'cuda', None), flush=True)\n",
        "print('CUDA available:', torch.cuda.is_available(), flush=True)\n",
        "if torch.cuda.is_available():\n",
        "    print('GPU:', torch.cuda.get_device_name(0), flush=True)\n",
        "\n",
        "# Quick data sanity\n",
        "train_path = 'train.csv'; test_path = 'test.csv'\n",
        "assert os.path.exists(train_path) and os.path.exists(test_path), 'Missing train/test CSVs'\n",
        "t0 = time.time()\n",
        "train_head = pd.read_csv(train_path, nrows=1000)\n",
        "print('train.csv sample shape:', train_head.shape, 'cols:', list(train_head.columns), flush=True)\n",
        "print(train_head.head(3))\n",
        "print('Loaded sample in', round(time.time()-t0,2), 's', flush=True)"
      ],
      "execution_count": null,
      "outputs": [
        {
          "output_type": "stream",
          "name": "stdout",
          "text": [
            "=== nvidia-smi ===\n"
          ]
        },
        {
          "output_type": "stream",
          "name": "stdout",
          "text": [
            "Failed to initialize NVML: Unknown Error\nTorch import failed: No module named 'torch'\n"
          ]
        },
        {
          "output_type": "stream",
          "name": "stderr",
          "text": [
            "WARNING: Skipping torch as it is not installed.\n"
          ]
        },
        {
          "output_type": "stream",
          "name": "stderr",
          "text": [
            "WARNING: Skipping torchvision as it is not installed.\n"
          ]
        },
        {
          "output_type": "stream",
          "name": "stdout",
          "text": [
            "> pip install --index-url https://download.pytorch.org/whl/cu121 --extra-index-url https://pypi.org/simple torch==2.4.1 torchvision==0.19.1 torchaudio==2.4.1\n"
          ]
        },
        {
          "output_type": "stream",
          "name": "stderr",
          "text": [
            "WARNING: Skipping torchaudio as it is not installed.\n"
          ]
        },
        {
          "output_type": "stream",
          "name": "stdout",
          "text": [
            "Looking in indexes: https://download.pytorch.org/whl/cu121, https://pypi.org/simple\n"
          ]
        },
        {
          "output_type": "stream",
          "name": "stdout",
          "text": [
            "Collecting torch==2.4.1\n  Downloading https://download.pytorch.org/whl/cu121/torch-2.4.1%2Bcu121-cp311-cp311-linux_x86_64.whl (799.0 MB)\n"
          ]
        }
      ]
    }
  ],
  "metadata": {
    "kernelspec": {
      "display_name": "Python 3",
      "language": "python",
      "name": "python3"
    },
    "language_info": {
      "name": "python",
      "version": "3.11.0rc1"
    }
  },
  "nbformat": 4,
  "nbformat_minor": 5
}