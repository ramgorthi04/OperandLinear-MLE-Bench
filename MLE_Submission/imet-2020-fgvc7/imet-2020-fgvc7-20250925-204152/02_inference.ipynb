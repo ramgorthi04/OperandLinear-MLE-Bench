{
  "cells": [
    {
      "id": "68d3c652-d5ad-46c8-bb08-a1804b66152d",
      "cell_type": "code",
      "metadata": {},
      "source": [
        "import os\n",
        "import pandas as pd\n",
        "import numpy as np\n",
        "from PIL import Image\n",
        "import torch\n",
        "import torch.nn as nn\n",
        "from torch.utils.data import Dataset, DataLoader\n",
        "import timm\n",
        "from torchvision import transforms as T\n",
        "from tqdm import tqdm\n",
        "import gc\n",
        "\n",
        "class CFG:\n",
        "    # General\n",
        "    num_workers = 4\n",
        "    device = torch.device(\"cuda\" if torch.cuda.is_available() else \"cpu\")\n",
        "\n",
        "    # Data paths\n",
        "    data_dir = './'\n",
        "    labels_csv_path = os.path.join(data_dir, 'labels.csv')\n",
        "    sample_submission_path = os.path.join(data_dir, 'sample_submission.csv')\n",
        "    test_img_dir = os.path.join(data_dir, 'test')\n",
        "\n",
        "    # Model\n",
        "    model_name = 'tf_efficientnet_b4_ns'\n",
        "    img_size = 384\n",
        "    model_paths = [\n",
        "        'models/tf_efficientnet_b4_ns_fold0_best.pth',\n",
        "        'models/tf_efficientnet_b4_ns_fold1_best.pth',\n",
        "        'models/tf_efficientnet_b4_ns_fold2_best.pth'\n",
        "    ]\n",
        "\n",
        "    # Inference\n",
        "    batch_size = 32\n",
        "    # This threshold was found by optimizing F1 on the OOF predictions\n",
        "    threshold = 0.9897\n",
        "\n",
        "# Load label mappings\n",
        "labels_df = pd.read_csv(CFG.labels_csv_path)\n",
        "CFG.attr_ids = labels_df['attribute_id'].values\n",
        "CFG.attr_id_to_idx = {attr_id: i for i, attr_id in enumerate(CFG.attr_ids)}\n",
        "CFG.idx_to_attr_id = {i: attr_id for i, attr_id in enumerate(CFG.attr_ids)}\n",
        "CFG.num_classes = len(labels_df)\n",
        "\n",
        "# Clean up memory\n",
        "torch.cuda.empty_cache()\n",
        "gc.collect()"
      ],
      "execution_count": 6,
      "outputs": [
        {
          "output_type": "execute_result",
          "data": {
            "text/plain": "6"
          },
          "metadata": {}
        }
      ]
    },
    {
      "id": "36ae00b3-64a9-4cf2-861c-a0d4e1b0c67b",
      "cell_type": "code",
      "metadata": {},
      "source": [
        "def get_test_transforms():\n",
        "    # This transform matches the one used for OOF generation which proved to be correct.\n",
        "    # 1. Squishing resize: T.Resize((h, w)) to match training.\n",
        "    # 2. TF Normalization: mean=[0.5, 0.5, 0.5], std=[0.5, 0.5, 0.5] for `tf_` models.\n",
        "    return T.Compose([\n",
        "        T.Resize((CFG.img_size, CFG.img_size)),\n",
        "        T.ToTensor(),\n",
        "        T.Normalize(mean=[0.5, 0.5, 0.5], std=[0.5, 0.5, 0.5]),\n",
        "    ])\n",
        "\n",
        "class iMetTestDataset(Dataset):\n",
        "    def __init__(self, df, transforms=None):\n",
        "        self.df = df\n",
        "        self.filepaths = df['filepath'].values\n",
        "        self.transforms = transforms\n",
        "\n",
        "    def __len__(self):\n",
        "        return len(self.df)\n",
        "\n",
        "    def __getitem__(self, idx):\n",
        "        filepath = self.filepaths[idx]\n",
        "        image = Image.open(filepath).convert('RGB')\n",
        "        \n",
        "        if self.transforms:\n",
        "            image = self.transforms(image)\n",
        "            \n",
        "        return image\n",
        "\n",
        "class iMetModel(nn.Module):\n",
        "    def __init__(self, model_name, pretrained=False):\n",
        "        super().__init__()\n",
        "        self.model = timm.create_model(model_name, pretrained=pretrained, num_classes=CFG.num_classes)\n",
        "\n",
        "    def forward(self, x):\n",
        "        return self.model(x)"
      ],
      "execution_count": 7,
      "outputs": []
    },
    {
      "id": "6d68a9bd-a6ca-4ff1-bba7-9cf4f65f6993",
      "cell_type": "code",
      "metadata": {},
      "source": [
        "## Prepare Test Data\n",
        "sub_df = pd.read_csv(CFG.sample_submission_path)\n",
        "sub_df['filepath'] = sub_df['id'].apply(lambda x: os.path.join(CFG.test_img_dir, x + '.png'))\n",
        "display(sub_df.head())\n",
        "\n",
        "test_dataset = iMetTestDataset(sub_df, transforms=get_test_transforms())\n",
        "test_loader = DataLoader(test_dataset, batch_size=CFG.batch_size, shuffle=False, num_workers=CFG.num_workers)"
      ],
      "execution_count": 8,
      "outputs": [
        {
          "output_type": "display_data",
          "data": {
            "text/plain": "                                 id attribute_ids  \\\n0  347c119163f84420f10f7a8126c1b8a2         0 1 2   \n1  98c91458324cba5415c5f5d8ead68328         0 1 2   \n2  3f75d332f579af62ff88d369c0736c76         0 1 2   \n3  3fa35a29218b7449c8f03e2a368a708d         0 1 2   \n4  c848b91558e4edd8034cb7d334b4e448         0 1 2   \n\n                                      filepath  \n0  ./test/347c119163f84420f10f7a8126c1b8a2.png  \n1  ./test/98c91458324cba5415c5f5d8ead68328.png  \n2  ./test/3f75d332f579af62ff88d369c0736c76.png  \n3  ./test/3fa35a29218b7449c8f03e2a368a708d.png  \n4  ./test/c848b91558e4edd8034cb7d334b4e448.png  ",
            "text/html": "<div>\n<style scoped>\n    .dataframe tbody tr th:only-of-type {\n        vertical-align: middle;\n    }\n\n    .dataframe tbody tr th {\n        vertical-align: top;\n    }\n\n    .dataframe thead th {\n        text-align: right;\n    }\n</style>\n<table border=\"1\" class=\"dataframe\">\n  <thead>\n    <tr style=\"text-align: right;\">\n      <th></th>\n      <th>id</th>\n      <th>attribute_ids</th>\n      <th>filepath</th>\n    </tr>\n  </thead>\n  <tbody>\n    <tr>\n      <th>0</th>\n      <td>347c119163f84420f10f7a8126c1b8a2</td>\n      <td>0 1 2</td>\n      <td>./test/347c119163f84420f10f7a8126c1b8a2.png</td>\n    </tr>\n    <tr>\n      <th>1</th>\n      <td>98c91458324cba5415c5f5d8ead68328</td>\n      <td>0 1 2</td>\n      <td>./test/98c91458324cba5415c5f5d8ead68328.png</td>\n    </tr>\n    <tr>\n      <th>2</th>\n      <td>3f75d332f579af62ff88d369c0736c76</td>\n      <td>0 1 2</td>\n      <td>./test/3f75d332f579af62ff88d369c0736c76.png</td>\n    </tr>\n    <tr>\n      <th>3</th>\n      <td>3fa35a29218b7449c8f03e2a368a708d</td>\n      <td>0 1 2</td>\n      <td>./test/3fa35a29218b7449c8f03e2a368a708d.png</td>\n    </tr>\n    <tr>\n      <th>4</th>\n      <td>c848b91558e4edd8034cb7d334b4e448</td>\n      <td>0 1 2</td>\n      <td>./test/c848b91558e4edd8034cb7d334b4e448.png</td>\n    </tr>\n  </tbody>\n</table>\n</div>"
          },
          "metadata": {}
        }
      ]
    },
    {
      "id": "646b122d-8e98-49b5-a37d-c576682af55d",
      "cell_type": "code",
      "metadata": {},
      "source": [
        "## Inference (Ensemble)\n",
        "\n",
        "# Pre-allocate array for summed predictions for memory efficiency\n",
        "n_samples = len(test_dataset)\n",
        "summed_preds = np.zeros((n_samples, CFG.num_classes), dtype=np.float32)\n",
        "\n",
        "for i, model_path in enumerate(CFG.model_paths):\n",
        "    print(f\"--- Inferencing with model {i+1}/{len(CFG.model_paths)}: {model_path} ---\")\n",
        "    \n",
        "    # Load model\n",
        "    model = iMetModel(CFG.model_name, pretrained=False).to(CFG.device)\n",
        "    model.load_state_dict(torch.load(model_path))\n",
        "    model.eval()\n",
        "\n",
        "    pbar = tqdm(test_loader, desc=f\"Predicting (Model {i+1})\")\n",
        "    current_pos = 0\n",
        "    with torch.no_grad():\n",
        "        for images in pbar:\n",
        "            images = images.to(CFG.device)\n",
        "            logits = model(images)\n",
        "            preds = logits.sigmoid().cpu().numpy()\n",
        "            \n",
        "            batch_size = images.size(0)\n",
        "            summed_preds[current_pos : current_pos + batch_size] += preds\n",
        "            current_pos += batch_size\n",
        "            \n",
        "    # Clean up memory after each model\n",
        "    del model\n",
        "    torch.cuda.empty_cache()\n",
        "    gc.collect()\n",
        "\n",
        "# Average the predictions\n",
        "all_preds = summed_preds / len(CFG.model_paths)\n",
        "print(\"\\nEnsemble predictions calculated.\")"
      ],
      "execution_count": 9,
      "outputs": [
        {
          "output_type": "stream",
          "name": "stdout",
          "text": [
            "--- Inferencing with model 1/3: models/tf_efficientnet_b4_ns_fold0_best.pth ---\n"
          ]
        },
        {
          "output_type": "stream",
          "name": "stderr",
          "text": [
            "/app/.pip-target/timm/models/_factory.py:138: UserWarning: Mapping deprecated model name tf_efficientnet_b4_ns to current tf_efficientnet_b4.ns_jft_in1k.\n  model = create_fn(\n"
          ]
        },
        {
          "output_type": "stream",
          "name": "stderr",
          "text": [
            "/tmp/ipykernel_6132/2155724467.py:12: FutureWarning: You are using `torch.load` with `weights_only=False` (the current default value), which uses the default pickle module implicitly. It is possible to construct malicious pickle data which will execute arbitrary code during unpickling (See https://github.com/pytorch/pytorch/blob/main/SECURITY.md#untrusted-models for more details). In a future release, the default value for `weights_only` will be flipped to `True`. This limits the functions that could be executed during unpickling. Arbitrary objects will no longer be allowed to be loaded via this mode unless they are explicitly allowlisted by the user via `torch.serialization.add_safe_globals`. We recommend you start setting `weights_only=True` for any use case where you don't have full control of the loaded file. Please open an issue on GitHub for any issues related to this experimental feature.\n  model.load_state_dict(torch.load(model_path))\n"
          ]
        },
        {
          "output_type": "stream",
          "name": "stderr",
          "text": [
            "\rPredicting (Model 1):   0%|          | 0/667 [00:00<?, ?it/s]"
          ]
        },
        {
          "output_type": "stream",
          "name": "stderr",
          "text": [
            "\rPredicting (Model 1):   0%|          | 1/667 [00:00<05:10,  2.15it/s]"
          ]
        },
        {
          "output_type": "stream",
          "name": "stderr",
          "text": [
            "\rPredicting (Model 1):   0%|          | 2/667 [00:00<03:01,  3.66it/s]"
          ]
        },
        {
          "output_type": "stream",
          "name": "stderr",
          "text": [
            "\rPredicting (Model 1):   0%|          | 3/667 [00:00<02:20,  4.74it/s]"
          ]
        },
        {
          "output_type": "stream",
          "name": "stderr",
          "text": [
            "\rPredicting (Model 1):   1%|          | 4/667 [00:00<02:00,  5.50it/s]"
          ]
        },
        {
          "output_type": "stream",
          "name": "stderr",
          "text": [
            "\rPredicting (Model 1):   1%|          | 5/667 [00:01<01:49,  6.05it/s]"
          ]
        },
        {
          "output_type": "stream",
          "name": "stderr",
          "text": [
            "\rPredicting (Model 1):   1%|          | 6/667 [00:01<01:42,  6.44it/s]"
          ]
        },
        {
          "output_type": "stream",
          "name": "stderr",
          "text": [
            "\rPredicting (Model 1):   1%|          | 7/667 [00:01<01:38,  6.70it/s]"
          ]
        },
        {
          "output_type": "stream",
          "name": "stderr",
          "text": [
            "\rPredicting (Model 1):   1%|          | 8/667 [00:01<01:35,  6.88it/s]"
          ]
        },
        {
          "output_type": "stream",
          "name": "stderr",
          "text": [
            "\rPredicting (Model 1):   1%|\u258f         | 9/667 [00:01<01:33,  7.01it/s]"
          ]
        },
        {
          "output_type": "stream",
          "name": "stderr",
          "text": [
            "\rPredicting (Model 1):   1%|\u258f         | 10/667 [00:01<01:32,  7.12it/s]"
          ]
        },
        {
          "output_type": "stream",
          "name": "stderr",
          "text": [
            "\rPredicting (Model 1):   2%|\u258f         | 11/667 [00:01<01:31,  7.20it/s]"
          ]
        },
        {
          "output_type": "stream",
          "name": "stderr",
          "text": [
            "\rPredicting (Model 1):   2%|\u258f         | 12/667 [00:01<01:30,  7.25it/s]"
          ]
        },
        {
          "output_type": "stream",
          "name": "stderr",
          "text": [
            "\rPredicting (Model 1):   2%|\u258f         | 13/667 [00:02<01:29,  7.29it/s]"
          ]
        },
        {
          "output_type": "stream",
          "name": "stderr",
          "text": [
            "\rPredicting (Model 1):   2%|\u258f         | 14/667 [00:02<01:29,  7.31it/s]"
          ]
        },
        {
          "output_type": "stream",
          "name": "stderr",
          "text": [
            "\rPredicting (Model 1):   2%|\u258f         | 15/667 [00:02<01:29,  7.33it/s]"
          ]
        },
        {
          "output_type": "stream",
          "name": "stderr",
          "text": [
            "\rPredicting (Model 1):   2%|\u258f         | 16/667 [00:02<01:28,  7.33it/s]"
          ]
        },
        {
          "output_type": "stream",
          "name": "stderr",
          "text": [
            "\rPredicting (Model 1):   3%|\u258e         | 17/667 [00:02<01:28,  7.34it/s]"
          ]
        },
        {
          "output_type": "stream",
          "name": "stderr",
          "text": [
            "\rPredicting (Model 1):   3%|\u258e         | 18/667 [00:02<01:28,  7.33it/s]"
          ]
        },
        {
          "output_type": "stream",
          "name": "stderr",
          "text": [
            "\rPredicting (Model 1):   3%|\u258e         | 19/667 [00:02<01:28,  7.33it/s]"
          ]
        },
        {
          "output_type": "stream",
          "name": "stderr",
          "text": [
            "\rPredicting (Model 1):   3%|\u258e         | 20/667 [00:03<01:28,  7.34it/s]"
          ]
        },
        {
          "output_type": "stream",
          "name": "stderr",
          "text": [
            "\rPredicting (Model 1):   3%|\u258e         | 21/667 [00:03<01:28,  7.34it/s]"
          ]
        },
        {
          "output_type": "stream",
          "name": "stderr",
          "text": [
            "\rPredicting (Model 1):   3%|\u258e         | 22/667 [00:03<01:27,  7.34it/s]"
          ]
        },
        {
          "output_type": "stream",
          "name": "stderr",
          "text": [
            "\rPredicting (Model 1):   3%|\u258e         | 23/667 [00:03<01:27,  7.34it/s]"
          ]
        },
        {
          "output_type": "stream",
          "name": "stderr",
          "text": [
            "\rPredicting (Model 1):   4%|\u258e         | 24/667 [00:03<01:27,  7.34it/s]"
          ]
        },
        {
          "output_type": "stream",
          "name": "stderr",
          "text": [
            "\rPredicting (Model 1):   4%|\u258e         | 25/667 [00:03<01:27,  7.33it/s]"
          ]
        },
        {
          "output_type": "stream",
          "name": "stderr",
          "text": [
            "\rPredicting (Model 1):   4%|\u258d         | 26/667 [00:03<01:27,  7.32it/s]"
          ]
        },
        {
          "output_type": "stream",
          "name": "stderr",
          "text": [
            "\rPredicting (Model 1):   4%|\u258d         | 27/667 [00:04<01:27,  7.34it/s]"
          ]
        },
        {
          "output_type": "stream",
          "name": "stderr",
          "text": [
            "\rPredicting (Model 1):   4%|\u258d         | 28/667 [00:04<01:27,  7.33it/s]"
          ]
        },
        {
          "output_type": "stream",
          "name": "stderr",
          "text": [
            "\rPredicting (Model 1):   4%|\u258d         | 29/667 [00:04<01:27,  7.31it/s]"
          ]
        },
        {
          "output_type": "stream",
          "name": "stderr",
          "text": [
            "\rPredicting (Model 1):   4%|\u258d         | 30/667 [00:04<01:27,  7.30it/s]"
          ]
        },
        {
          "output_type": "stream",
          "name": "stderr",
          "text": [
            "\rPredicting (Model 1):   5%|\u258d         | 31/667 [00:04<01:27,  7.31it/s]"
          ]
        },
        {
          "output_type": "stream",
          "name": "stderr",
          "text": [
            "\rPredicting (Model 1):   5%|\u258d         | 32/667 [00:04<01:26,  7.31it/s]"
          ]
        },
        {
          "output_type": "stream",
          "name": "stderr",
          "text": [
            "\n"
          ]
        },
        {
          "output_type": "stream",
          "name": "stdout",
          "text": [
            "--- Inferencing with model 2/3: models/tf_efficientnet_b4_ns_fold1_best.pth ---\n"
          ]
        },
        {
          "output_type": "stream",
          "name": "stderr",
          "text": [
            "\rPredicting (Model 2):   0%|          | 0/667 [00:00<?, ?it/s]"
          ]
        },
        {
          "output_type": "stream",
          "name": "stderr",
          "text": [
            "\rPredicting (Model 2):   0%|          | 1/667 [00:00<05:23,  2.06it/s]"
          ]
        },
        {
          "output_type": "stream",
          "name": "stderr",
          "text": [
            "\rPredicting (Model 2):   0%|          | 2/667 [00:00<03:08,  3.53it/s]"
          ]
        },
        {
          "output_type": "stream",
          "name": "stderr",
          "text": [
            "\rPredicting (Model 2):   0%|          | 3/667 [00:00<02:23,  4.62it/s]"
          ]
        },
        {
          "output_type": "stream",
          "name": "stderr",
          "text": [
            "\rPredicting (Model 2):   1%|          | 4/667 [00:00<02:03,  5.38it/s]"
          ]
        },
        {
          "output_type": "stream",
          "name": "stderr",
          "text": [
            "\rPredicting (Model 2):   1%|          | 5/667 [00:01<01:52,  5.89it/s]"
          ]
        },
        {
          "output_type": "stream",
          "name": "stderr",
          "text": [
            "\rPredicting (Model 2):   1%|          | 6/667 [00:01<01:45,  6.28it/s]"
          ]
        },
        {
          "output_type": "stream",
          "name": "stderr",
          "text": [
            "\rPredicting (Model 2):   1%|          | 7/667 [00:01<01:40,  6.57it/s]"
          ]
        },
        {
          "output_type": "stream",
          "name": "stderr",
          "text": [
            "\rPredicting (Model 2):   1%|          | 8/667 [00:01<01:37,  6.77it/s]"
          ]
        },
        {
          "output_type": "stream",
          "name": "stderr",
          "text": [
            "\rPredicting (Model 2):   1%|\u258f         | 9/667 [00:01<01:35,  6.89it/s]"
          ]
        },
        {
          "output_type": "stream",
          "name": "stderr",
          "text": [
            "\rPredicting (Model 2):   1%|\u258f         | 10/667 [00:01<01:33,  6.99it/s]"
          ]
        },
        {
          "output_type": "stream",
          "name": "stderr",
          "text": [
            "\rPredicting (Model 2):   2%|\u258f         | 11/667 [00:01<01:32,  7.08it/s]"
          ]
        },
        {
          "output_type": "stream",
          "name": "stderr",
          "text": [
            "\rPredicting (Model 2):   2%|\u258f         | 12/667 [00:02<01:31,  7.12it/s]"
          ]
        },
        {
          "output_type": "stream",
          "name": "stderr",
          "text": [
            "\rPredicting (Model 2):   2%|\u258f         | 13/667 [00:02<01:31,  7.15it/s]"
          ]
        },
        {
          "output_type": "stream",
          "name": "stderr",
          "text": [
            "\rPredicting (Model 2):   2%|\u258f         | 14/667 [00:02<01:30,  7.18it/s]"
          ]
        },
        {
          "output_type": "stream",
          "name": "stderr",
          "text": [
            "\rPredicting (Model 2):   2%|\u258f         | 15/667 [00:02<01:30,  7.20it/s]"
          ]
        },
        {
          "output_type": "stream",
          "name": "stderr",
          "text": [
            "\rPredicting (Model 2):   2%|\u258f         | 16/667 [00:02<01:30,  7.21it/s]"
          ]
        },
        {
          "output_type": "stream",
          "name": "stderr",
          "text": [
            "\rPredicting (Model 2):   3%|\u258e         | 17/667 [00:02<01:30,  7.20it/s]"
          ]
        },
        {
          "output_type": "stream",
          "name": "stderr",
          "text": [
            "\rPredicting (Model 2):   3%|\u258e         | 18/667 [00:02<01:29,  7.21it/s]"
          ]
        },
        {
          "output_type": "stream",
          "name": "stderr",
          "text": [
            "\rPredicting (Model 2):   3%|\u258e         | 19/667 [00:02<01:29,  7.21it/s]"
          ]
        },
        {
          "output_type": "stream",
          "name": "stderr",
          "text": [
            "\rPredicting (Model 2):   3%|\u258e         | 20/667 [00:03<01:29,  7.19it/s]"
          ]
        },
        {
          "output_type": "stream",
          "name": "stderr",
          "text": [
            "\rPredicting (Model 2):   3%|\u258e         | 21/667 [00:03<01:29,  7.20it/s]"
          ]
        },
        {
          "output_type": "stream",
          "name": "stderr",
          "text": [
            "\rPredicting (Model 2):   3%|\u258e         | 22/667 [00:03<01:29,  7.22it/s]"
          ]
        },
        {
          "output_type": "stream",
          "name": "stderr",
          "text": [
            "\rPredicting (Model 2):   3%|\u258e         | 23/667 [00:03<01:29,  7.22it/s]"
          ]
        },
        {
          "output_type": "stream",
          "name": "stderr",
          "text": [
            "\rPredicting (Model 2):   4%|\u258e         | 24/667 [00:03<01:29,  7.18it/s]"
          ]
        },
        {
          "output_type": "stream",
          "name": "stderr",
          "text": [
            "\rPredicting (Model 2):   4%|\u258e         | 25/667 [00:03<01:29,  7.19it/s]"
          ]
        },
        {
          "output_type": "stream",
          "name": "stderr",
          "text": [
            "\rPredicting (Model 2):   4%|\u258d         | 26/667 [00:03<01:28,  7.21it/s]"
          ]
        },
        {
          "output_type": "stream",
          "name": "stderr",
          "text": [
            "\rPredicting (Model 2):   4%|\u258d         | 27/667 [00:04<01:28,  7.22it/s]"
          ]
        },
        {
          "output_type": "stream",
          "name": "stderr",
          "text": [
            "\rPredicting (Model 2):   4%|\u258d         | 28/667 [00:04<01:28,  7.20it/s]"
          ]
        },
        {
          "output_type": "stream",
          "name": "stderr",
          "text": [
            "\rPredicting (Model 2):   4%|\u258d         | 29/667 [00:04<01:28,  7.19it/s]"
          ]
        },
        {
          "output_type": "stream",
          "name": "stderr",
          "text": [
            "\rPredicting (Model 2):   4%|\u258d         | 30/667 [00:04<01:28,  7.20it/s]"
          ]
        },
        {
          "output_type": "stream",
          "name": "stderr",
          "text": [
            "\rPredicting (Model 2):   5%|\u258d         | 31/667 [00:04<01:28,  7.20it/s]"
          ]
        },
        {
          "output_type": "stream",
          "name": "stderr",
          "text": [
            "\rPredicting (Model 2):   5%|\u258d         | 32/667 [00:04<01:28,  7.16it/s]"
          ]
        },
        {
          "output_type": "stream",
          "name": "stderr",
          "text": [
            "\rPredicting (Model 2):   5%|\u258d         | 33/667 [00:04<01:28,  7.15it/s]"
          ]
        },
        {
          "output_type": "stream",
          "name": "stderr",
          "text": [
            "\rPredicting (Model 2):   5%|\u258c         | 34/667 [00:05<01:28,  7.17it/s]"
          ]
        },
        {
          "output_type": "stream",
          "name": "stderr",
          "text": [
            "\rPredicting (Model 2):   5%|\u258c         | 35/667 [00:05<01:27,  7.19it/s]"
          ]
        },
        {
          "output_type": "stream",
          "name": "stderr",
          "text": [
            "\rPredicting (Model 2):   5%|\u258c         | 36/667 [00:05<01:27,  7.18it/s]"
          ]
        },
        {
          "output_type": "stream",
          "name": "stderr",
          "text": [
            "\rPredicting (Model 2):   6%|\u258c         | 37/667 [00:05<01:27,  7.17it/s]"
          ]
        },
        {
          "output_type": "stream",
          "name": "stderr",
          "text": [
            "\rPredicting (Model 2):   6%|\u258c         | 38/667 [00:05<01:27,  7.19it/s]"
          ]
        },
        {
          "output_type": "stream",
          "name": "stderr",
          "text": [
            "\rPredicting (Model 2):   6%|\u258c         | 39/667 [00:05<01:27,  7.19it/s]"
          ]
        },
        {
          "output_type": "stream",
          "name": "stderr",
          "text": [
            "\rPredicting (Model 2):   6%|\u258c         | 40/667 [00:05<01:27,  7.17it/s]"
          ]
        },
        {
          "output_type": "stream",
          "name": "stderr",
          "text": [
            "\rPredicting (Model 2):   6%|\u258c         | 41/667 [00:06<01:27,  7.17it/s]"
          ]
        },
        {
          "output_type": "stream",
          "name": "stderr",
          "text": [
            "\rPredicting (Model 2):   6%|\u258b         | 42/667 [00:06<01:27,  7.18it/s]"
          ]
        },
        {
          "output_type": "stream",
          "name": "stderr",
          "text": [
            "\rPredicting (Model 2):   6%|\u258b         | 43/667 [00:06<01:26,  7.19it/s]"
          ]
        },
        {
          "output_type": "stream",
          "name": "stderr",
          "text": [
            "\rPredicting (Model 2):   7%|\u258b         | 44/667 [00:06<01:26,  7.19it/s]"
          ]
        },
        {
          "output_type": "stream",
          "name": "stderr",
          "text": [
            "\rPredicting (Model 2):   7%|\u258b         | 45/667 [00:06<01:26,  7.19it/s]"
          ]
        },
        {
          "output_type": "stream",
          "name": "stderr",
          "text": [
            "\rPredicting (Model 2):   7%|\u258b         | 46/667 [00:06<01:26,  7.19it/s]"
          ]
        },
        {
          "output_type": "stream",
          "name": "stderr",
          "text": [
            "\rPredicting (Model 2):   7%|\u258b         | 47/667 [00:06<01:25,  7.22it/s]"
          ]
        },
        {
          "output_type": "stream",
          "name": "stderr",
          "text": [
            "\rPredicting (Model 2):   7%|\u258b         | 48/667 [00:07<01:26,  7.18it/s]"
          ]
        },
        {
          "output_type": "stream",
          "name": "stderr",
          "text": [
            "\rPredicting (Model 2):   7%|\u258b         | 49/667 [00:07<01:26,  7.16it/s]"
          ]
        },
        {
          "output_type": "stream",
          "name": "stderr",
          "text": [
            "\rPredicting (Model 2):   7%|\u258b         | 50/667 [00:07<01:26,  7.17it/s]"
          ]
        },
        {
          "output_type": "stream",
          "name": "stderr",
          "text": [
            "\rPredicting (Model 2):   8%|\u258a         | 51/667 [00:07<01:25,  7.19it/s]"
          ]
        },
        {
          "output_type": "stream",
          "name": "stderr",
          "text": [
            "\rPredicting (Model 2):   8%|\u258a         | 52/667 [00:07<01:25,  7.17it/s]"
          ]
        },
        {
          "output_type": "stream",
          "name": "stderr",
          "text": [
            "\rPredicting (Model 2):   8%|\u258a         | 53/667 [00:07<01:25,  7.17it/s]"
          ]
        },
        {
          "output_type": "stream",
          "name": "stderr",
          "text": [
            "\rPredicting (Model 2):   8%|\u258a         | 54/667 [00:07<01:25,  7.17it/s]"
          ]
        },
        {
          "output_type": "stream",
          "name": "stderr",
          "text": [
            "\rPredicting (Model 2):   8%|\u258a         | 55/667 [00:07<01:25,  7.18it/s]"
          ]
        },
        {
          "output_type": "stream",
          "name": "stderr",
          "text": [
            "\rPredicting (Model 2):   8%|\u258a         | 56/667 [00:08<01:25,  7.14it/s]"
          ]
        },
        {
          "output_type": "stream",
          "name": "stderr",
          "text": [
            "\rPredicting (Model 2):   9%|\u258a         | 57/667 [00:08<01:25,  7.12it/s]"
          ]
        },
        {
          "output_type": "stream",
          "name": "stderr",
          "text": [
            "\rPredicting (Model 2):   9%|\u258a         | 58/667 [00:08<01:25,  7.12it/s]"
          ]
        },
        {
          "output_type": "stream",
          "name": "stderr",
          "text": [
            "\rPredicting (Model 2):   9%|\u2589         | 59/667 [00:08<01:24,  7.15it/s]"
          ]
        },
        {
          "output_type": "stream",
          "name": "stderr",
          "text": [
            "\rPredicting (Model 2):   9%|\u2589         | 60/667 [00:08<01:24,  7.17it/s]"
          ]
        },
        {
          "output_type": "stream",
          "name": "stderr",
          "text": [
            "\rPredicting (Model 2):   9%|\u2589         | 61/667 [00:08<01:24,  7.15it/s]"
          ]
        },
        {
          "output_type": "stream",
          "name": "stderr",
          "text": [
            "\rPredicting (Model 2):   9%|\u2589         | 62/667 [00:08<01:24,  7.17it/s]"
          ]
        },
        {
          "output_type": "stream",
          "name": "stderr",
          "text": [
            "\rPredicting (Model 2):   9%|\u2589         | 63/667 [00:09<01:23,  7.19it/s]"
          ]
        },
        {
          "output_type": "stream",
          "name": "stderr",
          "text": [
            "\rPredicting (Model 2):  10%|\u2589         | 64/667 [00:09<01:24,  7.17it/s]"
          ]
        },
        {
          "output_type": "stream",
          "name": "stderr",
          "text": [
            "\rPredicting (Model 2):  10%|\u2589         | 65/667 [00:09<01:24,  7.14it/s]"
          ]
        },
        {
          "output_type": "stream",
          "name": "stderr",
          "text": [
            "\rPredicting (Model 2):  10%|\u2589         | 66/667 [00:09<01:23,  7.16it/s]"
          ]
        },
        {
          "output_type": "stream",
          "name": "stderr",
          "text": [
            "\rPredicting (Model 2):  10%|\u2588         | 67/667 [00:09<01:23,  7.18it/s]"
          ]
        },
        {
          "output_type": "stream",
          "name": "stderr",
          "text": [
            "\rPredicting (Model 2):  10%|\u2588         | 68/667 [00:09<01:23,  7.17it/s]"
          ]
        },
        {
          "output_type": "stream",
          "name": "stderr",
          "text": [
            "\rPredicting (Model 2):  10%|\u2588         | 69/667 [00:09<01:23,  7.17it/s]"
          ]
        },
        {
          "output_type": "stream",
          "name": "stderr",
          "text": [
            "\rPredicting (Model 2):  10%|\u2588         | 70/667 [00:10<01:23,  7.18it/s]"
          ]
        },
        {
          "output_type": "stream",
          "name": "stderr",
          "text": [
            "\rPredicting (Model 2):  11%|\u2588         | 71/667 [00:10<01:22,  7.19it/s]"
          ]
        },
        {
          "output_type": "stream",
          "name": "stderr",
          "text": [
            "\rPredicting (Model 2):  11%|\u2588         | 72/667 [00:10<01:22,  7.19it/s]"
          ]
        },
        {
          "output_type": "stream",
          "name": "stderr",
          "text": [
            "\rPredicting (Model 2):  11%|\u2588         | 73/667 [00:10<01:22,  7.17it/s]"
          ]
        },
        {
          "output_type": "stream",
          "name": "stderr",
          "text": [
            "\rPredicting (Model 2):  11%|\u2588         | 74/667 [00:10<01:22,  7.18it/s]"
          ]
        },
        {
          "output_type": "stream",
          "name": "stderr",
          "text": [
            "\rPredicting (Model 2):  11%|\u2588         | 75/667 [00:10<01:22,  7.19it/s]"
          ]
        },
        {
          "output_type": "stream",
          "name": "stderr",
          "text": [
            "\rPredicting (Model 2):  11%|\u2588\u258f        | 76/667 [00:10<01:22,  7.16it/s]"
          ]
        },
        {
          "output_type": "stream",
          "name": "stderr",
          "text": [
            "\rPredicting (Model 2):  12%|\u2588\u258f        | 77/667 [00:11<01:22,  7.15it/s]"
          ]
        },
        {
          "output_type": "stream",
          "name": "stderr",
          "text": [
            "\rPredicting (Model 2):  12%|\u2588\u258f        | 78/667 [00:11<01:22,  7.15it/s]"
          ]
        },
        {
          "output_type": "stream",
          "name": "stderr",
          "text": [
            "\rPredicting (Model 2):  12%|\u2588\u258f        | 79/667 [00:11<01:22,  7.17it/s]"
          ]
        },
        {
          "output_type": "stream",
          "name": "stderr",
          "text": [
            "\rPredicting (Model 2):  12%|\u2588\u258f        | 80/667 [00:11<01:22,  7.15it/s]"
          ]
        },
        {
          "output_type": "stream",
          "name": "stderr",
          "text": [
            "\rPredicting (Model 2):  12%|\u2588\u258f        | 81/667 [00:11<01:22,  7.14it/s]"
          ]
        },
        {
          "output_type": "stream",
          "name": "stderr",
          "text": [
            "\rPredicting (Model 2):  12%|\u2588\u258f        | 82/667 [00:11<01:21,  7.15it/s]"
          ]
        },
        {
          "output_type": "stream",
          "name": "stderr",
          "text": [
            "\rPredicting (Model 2):  12%|\u2588\u258f        | 83/667 [00:11<01:21,  7.17it/s]"
          ]
        },
        {
          "output_type": "stream",
          "name": "stderr",
          "text": [
            "\rPredicting (Model 2):  13%|\u2588\u258e        | 84/667 [00:12<01:21,  7.17it/s]"
          ]
        },
        {
          "output_type": "stream",
          "name": "stderr",
          "text": [
            "\rPredicting (Model 2):  13%|\u2588\u258e        | 85/667 [00:12<01:21,  7.16it/s]"
          ]
        },
        {
          "output_type": "stream",
          "name": "stderr",
          "text": [
            "\rPredicting (Model 2):  13%|\u2588\u258e        | 86/667 [00:12<01:21,  7.16it/s]"
          ]
        },
        {
          "output_type": "stream",
          "name": "stderr",
          "text": [
            "\rPredicting (Model 2):  13%|\u2588\u258e        | 87/667 [00:12<01:20,  7.17it/s]"
          ]
        },
        {
          "output_type": "stream",
          "name": "stderr",
          "text": [
            "\rPredicting (Model 2):  13%|\u2588\u258e        | 88/667 [00:12<01:20,  7.17it/s]"
          ]
        },
        {
          "output_type": "stream",
          "name": "stderr",
          "text": [
            "\rPredicting (Model 2):  13%|\u2588\u258e        | 89/667 [00:12<01:20,  7.14it/s]"
          ]
        },
        {
          "output_type": "stream",
          "name": "stderr",
          "text": [
            "\rPredicting (Model 2):  13%|\u2588\u258e        | 90/667 [00:12<01:20,  7.15it/s]"
          ]
        },
        {
          "output_type": "stream",
          "name": "stderr",
          "text": [
            "\rPredicting (Model 2):  14%|\u2588\u258e        | 91/667 [00:13<01:20,  7.18it/s]"
          ]
        },
        {
          "output_type": "stream",
          "name": "stderr",
          "text": [
            "\rPredicting (Model 2):  14%|\u2588\u258d        | 92/667 [00:13<01:20,  7.19it/s]"
          ]
        },
        {
          "output_type": "stream",
          "name": "stderr",
          "text": [
            "\rPredicting (Model 2):  14%|\u2588\u258d        | 93/667 [00:13<01:19,  7.18it/s]"
          ]
        },
        {
          "output_type": "stream",
          "name": "stderr",
          "text": [
            "\rPredicting (Model 2):  14%|\u2588\u258d        | 94/667 [00:13<01:19,  7.18it/s]"
          ]
        },
        {
          "output_type": "stream",
          "name": "stderr",
          "text": [
            "\rPredicting (Model 2):  14%|\u2588\u258d        | 95/667 [00:13<01:19,  7.18it/s]"
          ]
        },
        {
          "output_type": "stream",
          "name": "stderr",
          "text": [
            "\rPredicting (Model 2):  14%|\u2588\u258d        | 96/667 [00:13<01:19,  7.16it/s]"
          ]
        },
        {
          "output_type": "stream",
          "name": "stderr",
          "text": [
            "\rPredicting (Model 2):  15%|\u2588\u258d        | 97/667 [00:13<01:19,  7.17it/s]"
          ]
        },
        {
          "output_type": "stream",
          "name": "stderr",
          "text": [
            "\rPredicting (Model 2):  15%|\u2588\u258d        | 98/667 [00:13<01:19,  7.17it/s]"
          ]
        },
        {
          "output_type": "stream",
          "name": "stderr",
          "text": [
            "\rPredicting (Model 2):  15%|\u2588\u258d        | 99/667 [00:14<01:19,  7.18it/s]"
          ]
        },
        {
          "output_type": "stream",
          "name": "stderr",
          "text": [
            "\rPredicting (Model 2):  15%|\u2588\u258d        | 100/667 [00:14<01:19,  7.16it/s]"
          ]
        },
        {
          "output_type": "stream",
          "name": "stderr",
          "text": [
            "\rPredicting (Model 2):  15%|\u2588\u258c        | 101/667 [00:14<01:18,  7.17it/s]"
          ]
        },
        {
          "output_type": "stream",
          "name": "stderr",
          "text": [
            "\rPredicting (Model 2):  15%|\u2588\u258c        | 102/667 [00:14<01:18,  7.19it/s]"
          ]
        },
        {
          "output_type": "stream",
          "name": "stderr",
          "text": [
            "\rPredicting (Model 2):  15%|\u2588\u258c        | 103/667 [00:14<01:18,  7.22it/s]"
          ]
        },
        {
          "output_type": "stream",
          "name": "stderr",
          "text": [
            "\rPredicting (Model 2):  16%|\u2588\u258c        | 104/667 [00:14<01:18,  7.20it/s]"
          ]
        },
        {
          "output_type": "stream",
          "name": "stderr",
          "text": [
            "\rPredicting (Model 2):  16%|\u2588\u258c        | 105/667 [00:14<01:18,  7.18it/s]"
          ]
        },
        {
          "output_type": "stream",
          "name": "stderr",
          "text": [
            "\rPredicting (Model 2):  16%|\u2588\u258c        | 106/667 [00:15<01:18,  7.19it/s]"
          ]
        },
        {
          "output_type": "stream",
          "name": "stderr",
          "text": [
            "\rPredicting (Model 2):  16%|\u2588\u258c        | 107/667 [00:15<01:17,  7.19it/s]"
          ]
        },
        {
          "output_type": "stream",
          "name": "stderr",
          "text": [
            "\rPredicting (Model 2):  16%|\u2588\u258c        | 108/667 [00:15<01:17,  7.17it/s]"
          ]
        },
        {
          "output_type": "stream",
          "name": "stderr",
          "text": [
            "\rPredicting (Model 2):  16%|\u2588\u258b        | 109/667 [00:15<01:17,  7.19it/s]"
          ]
        },
        {
          "output_type": "stream",
          "name": "stderr",
          "text": [
            "\rPredicting (Model 2):  16%|\u2588\u258b        | 110/667 [00:15<01:17,  7.19it/s]"
          ]
        },
        {
          "output_type": "stream",
          "name": "stderr",
          "text": [
            "\rPredicting (Model 2):  17%|\u2588\u258b        | 111/667 [00:15<01:17,  7.19it/s]"
          ]
        },
        {
          "output_type": "stream",
          "name": "stderr",
          "text": [
            "\rPredicting (Model 2):  17%|\u2588\u258b        | 112/667 [00:15<01:17,  7.19it/s]"
          ]
        },
        {
          "output_type": "stream",
          "name": "stderr",
          "text": [
            "\rPredicting (Model 2):  17%|\u2588\u258b        | 113/667 [00:16<01:17,  7.18it/s]"
          ]
        },
        {
          "output_type": "stream",
          "name": "stderr",
          "text": [
            "\rPredicting (Model 2):  17%|\u2588\u258b        | 114/667 [00:16<01:16,  7.19it/s]"
          ]
        },
        {
          "output_type": "stream",
          "name": "stderr",
          "text": [
            "\rPredicting (Model 2):  17%|\u2588\u258b        | 115/667 [00:16<01:16,  7.19it/s]"
          ]
        },
        {
          "output_type": "stream",
          "name": "stderr",
          "text": [
            "\rPredicting (Model 2):  17%|\u2588\u258b        | 116/667 [00:16<01:16,  7.17it/s]"
          ]
        },
        {
          "output_type": "stream",
          "name": "stderr",
          "text": [
            "\rPredicting (Model 2):  18%|\u2588\u258a        | 117/667 [00:16<01:16,  7.17it/s]"
          ]
        },
        {
          "output_type": "stream",
          "name": "stderr",
          "text": [
            "\rPredicting (Model 2):  18%|\u2588\u258a        | 118/667 [00:16<01:16,  7.17it/s]"
          ]
        },
        {
          "output_type": "stream",
          "name": "stderr",
          "text": [
            "\rPredicting (Model 2):  18%|\u2588\u258a        | 119/667 [00:16<01:16,  7.18it/s]"
          ]
        },
        {
          "output_type": "stream",
          "name": "stderr",
          "text": [
            "\rPredicting (Model 2):  18%|\u2588\u258a        | 120/667 [00:17<01:16,  7.16it/s]"
          ]
        },
        {
          "output_type": "stream",
          "name": "stderr",
          "text": [
            "\rPredicting (Model 2):  18%|\u2588\u258a        | 121/667 [00:17<01:16,  7.17it/s]"
          ]
        },
        {
          "output_type": "stream",
          "name": "stderr",
          "text": [
            "\rPredicting (Model 2):  18%|\u2588\u258a        | 122/667 [00:17<01:16,  7.16it/s]"
          ]
        },
        {
          "output_type": "stream",
          "name": "stderr",
          "text": [
            "\rPredicting (Model 2):  18%|\u2588\u258a        | 123/667 [00:17<01:15,  7.17it/s]"
          ]
        },
        {
          "output_type": "stream",
          "name": "stderr",
          "text": [
            "\rPredicting (Model 2):  19%|\u2588\u258a        | 124/667 [00:17<01:15,  7.15it/s]"
          ]
        },
        {
          "output_type": "stream",
          "name": "stderr",
          "text": [
            "\rPredicting (Model 2):  19%|\u2588\u258a        | 125/667 [00:17<01:15,  7.16it/s]"
          ]
        },
        {
          "output_type": "stream",
          "name": "stderr",
          "text": [
            "\rPredicting (Model 2):  19%|\u2588\u2589        | 126/667 [00:17<01:15,  7.16it/s]"
          ]
        },
        {
          "output_type": "stream",
          "name": "stderr",
          "text": [
            "\rPredicting (Model 2):  19%|\u2588\u2589        | 127/667 [00:18<01:15,  7.18it/s]"
          ]
        },
        {
          "output_type": "stream",
          "name": "stderr",
          "text": [
            "\rPredicting (Model 2):  19%|\u2588\u2589        | 128/667 [00:18<01:15,  7.18it/s]"
          ]
        },
        {
          "output_type": "stream",
          "name": "stderr",
          "text": [
            "\rPredicting (Model 2):  19%|\u2588\u2589        | 129/667 [00:18<01:14,  7.19it/s]"
          ]
        },
        {
          "output_type": "stream",
          "name": "stderr",
          "text": [
            "\rPredicting (Model 2):  19%|\u2588\u2589        | 130/667 [00:18<01:14,  7.19it/s]"
          ]
        },
        {
          "output_type": "stream",
          "name": "stderr",
          "text": [
            "\rPredicting (Model 2):  20%|\u2588\u2589        | 131/667 [00:18<01:14,  7.21it/s]"
          ]
        },
        {
          "output_type": "stream",
          "name": "stderr",
          "text": [
            "\rPredicting (Model 2):  20%|\u2588\u2589        | 132/667 [00:18<01:14,  7.19it/s]"
          ]
        },
        {
          "output_type": "stream",
          "name": "stderr",
          "text": [
            "\rPredicting (Model 2):  20%|\u2588\u2589        | 133/667 [00:18<01:14,  7.19it/s]"
          ]
        },
        {
          "output_type": "stream",
          "name": "stderr",
          "text": [
            "\rPredicting (Model 2):  20%|\u2588\u2588        | 134/667 [00:19<01:14,  7.17it/s]"
          ]
        },
        {
          "output_type": "stream",
          "name": "stderr",
          "text": [
            "\rPredicting (Model 2):  20%|\u2588\u2588        | 135/667 [00:19<01:13,  7.19it/s]"
          ]
        },
        {
          "output_type": "stream",
          "name": "stderr",
          "text": [
            "\rPredicting (Model 2):  20%|\u2588\u2588        | 136/667 [00:19<01:14,  7.17it/s]"
          ]
        },
        {
          "output_type": "stream",
          "name": "stderr",
          "text": [
            "\rPredicting (Model 2):  21%|\u2588\u2588        | 137/667 [00:19<01:13,  7.17it/s]"
          ]
        },
        {
          "output_type": "stream",
          "name": "stderr",
          "text": [
            "\rPredicting (Model 2):  21%|\u2588\u2588        | 138/667 [00:19<01:13,  7.18it/s]"
          ]
        },
        {
          "output_type": "stream",
          "name": "stderr",
          "text": [
            "\rPredicting (Model 2):  21%|\u2588\u2588        | 139/667 [00:19<01:13,  7.20it/s]"
          ]
        },
        {
          "output_type": "stream",
          "name": "stderr",
          "text": [
            "\rPredicting (Model 2):  21%|\u2588\u2588        | 140/667 [00:19<01:13,  7.20it/s]"
          ]
        },
        {
          "output_type": "stream",
          "name": "stderr",
          "text": [
            "\rPredicting (Model 2):  21%|\u2588\u2588        | 141/667 [00:19<01:13,  7.20it/s]"
          ]
        },
        {
          "output_type": "stream",
          "name": "stderr",
          "text": [
            "\rPredicting (Model 2):  21%|\u2588\u2588\u258f       | 142/667 [00:20<01:13,  7.18it/s]"
          ]
        },
        {
          "output_type": "stream",
          "name": "stderr",
          "text": [
            "\rPredicting (Model 2):  21%|\u2588\u2588\u258f       | 143/667 [00:20<01:12,  7.19it/s]"
          ]
        },
        {
          "output_type": "stream",
          "name": "stderr",
          "text": [
            "\rPredicting (Model 2):  22%|\u2588\u2588\u258f       | 144/667 [00:20<01:12,  7.17it/s]"
          ]
        },
        {
          "output_type": "stream",
          "name": "stderr",
          "text": [
            "\rPredicting (Model 2):  22%|\u2588\u2588\u258f       | 145/667 [00:20<01:12,  7.16it/s]"
          ]
        },
        {
          "output_type": "stream",
          "name": "stderr",
          "text": [
            "\rPredicting (Model 2):  22%|\u2588\u2588\u258f       | 146/667 [00:20<01:12,  7.17it/s]"
          ]
        },
        {
          "output_type": "stream",
          "name": "stderr",
          "text": [
            "\rPredicting (Model 2):  22%|\u2588\u2588\u258f       | 147/667 [00:20<01:12,  7.19it/s]"
          ]
        },
        {
          "output_type": "stream",
          "name": "stderr",
          "text": [
            "\rPredicting (Model 2):  22%|\u2588\u2588\u258f       | 148/667 [00:20<01:12,  7.19it/s]"
          ]
        },
        {
          "output_type": "stream",
          "name": "stderr",
          "text": [
            "\rPredicting (Model 2):  22%|\u2588\u2588\u258f       | 149/667 [00:21<01:12,  7.19it/s]"
          ]
        },
        {
          "output_type": "stream",
          "name": "stderr",
          "text": [
            "\rPredicting (Model 2):  22%|\u2588\u2588\u258f       | 150/667 [00:21<01:11,  7.20it/s]"
          ]
        },
        {
          "output_type": "stream",
          "name": "stderr",
          "text": [
            "\rPredicting (Model 2):  23%|\u2588\u2588\u258e       | 151/667 [00:21<01:11,  7.20it/s]"
          ]
        },
        {
          "output_type": "stream",
          "name": "stderr",
          "text": [
            "\rPredicting (Model 2):  23%|\u2588\u2588\u258e       | 152/667 [00:21<01:11,  7.17it/s]"
          ]
        },
        {
          "output_type": "stream",
          "name": "stderr",
          "text": [
            "\rPredicting (Model 2):  23%|\u2588\u2588\u258e       | 153/667 [00:21<01:11,  7.17it/s]"
          ]
        },
        {
          "output_type": "stream",
          "name": "stderr",
          "text": [
            "\rPredicting (Model 2):  23%|\u2588\u2588\u258e       | 154/667 [00:21<01:11,  7.18it/s]"
          ]
        },
        {
          "output_type": "stream",
          "name": "stderr",
          "text": [
            "\rPredicting (Model 2):  23%|\u2588\u2588\u258e       | 155/667 [00:21<01:11,  7.19it/s]"
          ]
        },
        {
          "output_type": "stream",
          "name": "stderr",
          "text": [
            "\rPredicting (Model 2):  23%|\u2588\u2588\u258e       | 156/667 [00:22<01:11,  7.18it/s]"
          ]
        },
        {
          "output_type": "stream",
          "name": "stderr",
          "text": [
            "\rPredicting (Model 2):  24%|\u2588\u2588\u258e       | 157/667 [00:22<01:10,  7.19it/s]"
          ]
        },
        {
          "output_type": "stream",
          "name": "stderr",
          "text": [
            "\rPredicting (Model 2):  24%|\u2588\u2588\u258e       | 158/667 [00:22<01:10,  7.20it/s]"
          ]
        },
        {
          "output_type": "stream",
          "name": "stderr",
          "text": [
            "\rPredicting (Model 2):  24%|\u2588\u2588\u258d       | 159/667 [00:22<01:10,  7.20it/s]"
          ]
        },
        {
          "output_type": "stream",
          "name": "stderr",
          "text": [
            "\rPredicting (Model 2):  24%|\u2588\u2588\u258d       | 160/667 [00:22<01:10,  7.19it/s]"
          ]
        },
        {
          "output_type": "stream",
          "name": "stderr",
          "text": [
            "\rPredicting (Model 2):  24%|\u2588\u2588\u258d       | 161/667 [00:22<01:10,  7.18it/s]"
          ]
        },
        {
          "output_type": "stream",
          "name": "stderr",
          "text": [
            "\rPredicting (Model 2):  24%|\u2588\u2588\u258d       | 162/667 [00:22<01:10,  7.20it/s]"
          ]
        },
        {
          "output_type": "stream",
          "name": "stderr",
          "text": [
            "\rPredicting (Model 2):  24%|\u2588\u2588\u258d       | 163/667 [00:23<01:09,  7.21it/s]"
          ]
        },
        {
          "output_type": "stream",
          "name": "stderr",
          "text": [
            "\rPredicting (Model 2):  25%|\u2588\u2588\u258d       | 164/667 [00:23<01:09,  7.20it/s]"
          ]
        },
        {
          "output_type": "stream",
          "name": "stderr",
          "text": [
            "\rPredicting (Model 2):  25%|\u2588\u2588\u258d       | 165/667 [00:23<01:09,  7.22it/s]"
          ]
        },
        {
          "output_type": "stream",
          "name": "stderr",
          "text": [
            "\rPredicting (Model 2):  25%|\u2588\u2588\u258d       | 166/667 [00:23<01:09,  7.22it/s]"
          ]
        },
        {
          "output_type": "stream",
          "name": "stderr",
          "text": [
            "\rPredicting (Model 2):  25%|\u2588\u2588\u258c       | 167/667 [00:23<01:09,  7.23it/s]"
          ]
        },
        {
          "output_type": "stream",
          "name": "stderr",
          "text": [
            "\rPredicting (Model 2):  25%|\u2588\u2588\u258c       | 168/667 [00:23<01:09,  7.22it/s]"
          ]
        },
        {
          "output_type": "stream",
          "name": "stderr",
          "text": [
            "\rPredicting (Model 2):  25%|\u2588\u2588\u258c       | 169/667 [00:23<01:09,  7.20it/s]"
          ]
        },
        {
          "output_type": "stream",
          "name": "stderr",
          "text": [
            "\rPredicting (Model 2):  25%|\u2588\u2588\u258c       | 170/667 [00:24<01:08,  7.21it/s]"
          ]
        },
        {
          "output_type": "stream",
          "name": "stderr",
          "text": [
            "\rPredicting (Model 2):  26%|\u2588\u2588\u258c       | 171/667 [00:24<01:08,  7.21it/s]"
          ]
        },
        {
          "output_type": "stream",
          "name": "stderr",
          "text": [
            "\rPredicting (Model 2):  26%|\u2588\u2588\u258c       | 172/667 [00:24<01:09,  7.16it/s]"
          ]
        },
        {
          "output_type": "stream",
          "name": "stderr",
          "text": [
            "\rPredicting (Model 2):  26%|\u2588\u2588\u258c       | 173/667 [00:24<01:09,  7.15it/s]"
          ]
        },
        {
          "output_type": "stream",
          "name": "stderr",
          "text": [
            "\rPredicting (Model 2):  26%|\u2588\u2588\u258c       | 174/667 [00:24<01:08,  7.17it/s]"
          ]
        },
        {
          "output_type": "stream",
          "name": "stderr",
          "text": [
            "\rPredicting (Model 2):  26%|\u2588\u2588\u258c       | 175/667 [00:24<01:08,  7.19it/s]"
          ]
        },
        {
          "output_type": "stream",
          "name": "stderr",
          "text": [
            "\rPredicting (Model 2):  26%|\u2588\u2588\u258b       | 176/667 [00:24<01:08,  7.16it/s]"
          ]
        },
        {
          "output_type": "stream",
          "name": "stderr",
          "text": [
            "\rPredicting (Model 2):  27%|\u2588\u2588\u258b       | 177/667 [00:24<01:08,  7.15it/s]"
          ]
        },
        {
          "output_type": "stream",
          "name": "stderr",
          "text": [
            "\rPredicting (Model 2):  27%|\u2588\u2588\u258b       | 178/667 [00:25<01:08,  7.17it/s]"
          ]
        },
        {
          "output_type": "stream",
          "name": "stderr",
          "text": [
            "\rPredicting (Model 2):  27%|\u2588\u2588\u258b       | 179/667 [00:25<01:07,  7.18it/s]"
          ]
        },
        {
          "output_type": "stream",
          "name": "stderr",
          "text": [
            "\rPredicting (Model 2):  27%|\u2588\u2588\u258b       | 180/667 [00:25<01:07,  7.20it/s]"
          ]
        },
        {
          "output_type": "stream",
          "name": "stderr",
          "text": [
            "\rPredicting (Model 2):  27%|\u2588\u2588\u258b       | 181/667 [00:25<01:07,  7.21it/s]"
          ]
        },
        {
          "output_type": "stream",
          "name": "stderr",
          "text": [
            "\rPredicting (Model 2):  27%|\u2588\u2588\u258b       | 182/667 [00:25<01:07,  7.20it/s]"
          ]
        },
        {
          "output_type": "stream",
          "name": "stderr",
          "text": [
            "\rPredicting (Model 2):  27%|\u2588\u2588\u258b       | 183/667 [00:25<01:07,  7.21it/s]"
          ]
        },
        {
          "output_type": "stream",
          "name": "stderr",
          "text": [
            "\rPredicting (Model 2):  28%|\u2588\u2588\u258a       | 184/667 [00:25<01:07,  7.20it/s]"
          ]
        },
        {
          "output_type": "stream",
          "name": "stderr",
          "text": [
            "\rPredicting (Model 2):  28%|\u2588\u2588\u258a       | 185/667 [00:26<01:06,  7.21it/s]"
          ]
        },
        {
          "output_type": "stream",
          "name": "stderr",
          "text": [
            "\rPredicting (Model 2):  28%|\u2588\u2588\u258a       | 186/667 [00:26<01:06,  7.19it/s]"
          ]
        },
        {
          "output_type": "stream",
          "name": "stderr",
          "text": [
            "\rPredicting (Model 2):  28%|\u2588\u2588\u258a       | 187/667 [00:26<01:06,  7.19it/s]"
          ]
        },
        {
          "output_type": "stream",
          "name": "stderr",
          "text": [
            "\rPredicting (Model 2):  28%|\u2588\u2588\u258a       | 188/667 [00:26<01:06,  7.16it/s]"
          ]
        },
        {
          "output_type": "stream",
          "name": "stderr",
          "text": [
            "\rPredicting (Model 2):  28%|\u2588\u2588\u258a       | 189/667 [00:26<01:06,  7.15it/s]"
          ]
        },
        {
          "output_type": "stream",
          "name": "stderr",
          "text": [
            "\rPredicting (Model 2):  28%|\u2588\u2588\u258a       | 190/667 [00:26<01:06,  7.15it/s]"
          ]
        },
        {
          "output_type": "stream",
          "name": "stderr",
          "text": [
            "\rPredicting (Model 2):  29%|\u2588\u2588\u258a       | 191/667 [00:26<01:06,  7.17it/s]"
          ]
        },
        {
          "output_type": "stream",
          "name": "stderr",
          "text": [
            "\rPredicting (Model 2):  29%|\u2588\u2588\u2589       | 192/667 [00:27<01:06,  7.15it/s]"
          ]
        },
        {
          "output_type": "stream",
          "name": "stderr",
          "text": [
            "\rPredicting (Model 2):  29%|\u2588\u2588\u2589       | 193/667 [00:27<01:06,  7.16it/s]"
          ]
        },
        {
          "output_type": "stream",
          "name": "stderr",
          "text": [
            "\rPredicting (Model 2):  29%|\u2588\u2588\u2589       | 194/667 [00:27<01:06,  7.16it/s]"
          ]
        },
        {
          "output_type": "stream",
          "name": "stderr",
          "text": [
            "\rPredicting (Model 2):  29%|\u2588\u2588\u2589       | 195/667 [00:27<01:05,  7.18it/s]"
          ]
        },
        {
          "output_type": "stream",
          "name": "stderr",
          "text": [
            "\rPredicting (Model 2):  29%|\u2588\u2588\u2589       | 196/667 [00:27<01:05,  7.18it/s]"
          ]
        },
        {
          "output_type": "stream",
          "name": "stderr",
          "text": [
            "\rPredicting (Model 2):  30%|\u2588\u2588\u2589       | 197/667 [00:27<01:05,  7.17it/s]"
          ]
        },
        {
          "output_type": "stream",
          "name": "stderr",
          "text": [
            "\rPredicting (Model 2):  30%|\u2588\u2588\u2589       | 198/667 [00:27<01:05,  7.17it/s]"
          ]
        },
        {
          "output_type": "stream",
          "name": "stderr",
          "text": [
            "\rPredicting (Model 2):  30%|\u2588\u2588\u2589       | 199/667 [00:28<01:05,  7.19it/s]"
          ]
        },
        {
          "output_type": "stream",
          "name": "stderr",
          "text": [
            "\rPredicting (Model 2):  30%|\u2588\u2588\u2589       | 200/667 [00:28<01:05,  7.18it/s]"
          ]
        },
        {
          "output_type": "stream",
          "name": "stderr",
          "text": [
            "\rPredicting (Model 2):  30%|\u2588\u2588\u2588       | 201/667 [00:28<01:05,  7.16it/s]"
          ]
        },
        {
          "output_type": "stream",
          "name": "stderr",
          "text": [
            "\rPredicting (Model 2):  30%|\u2588\u2588\u2588       | 202/667 [00:28<01:04,  7.17it/s]"
          ]
        },
        {
          "output_type": "stream",
          "name": "stderr",
          "text": [
            "\rPredicting (Model 2):  30%|\u2588\u2588\u2588       | 203/667 [00:28<01:04,  7.19it/s]"
          ]
        },
        {
          "output_type": "stream",
          "name": "stderr",
          "text": [
            "\rPredicting (Model 2):  31%|\u2588\u2588\u2588       | 204/667 [00:28<01:04,  7.18it/s]"
          ]
        },
        {
          "output_type": "stream",
          "name": "stderr",
          "text": [
            "\rPredicting (Model 2):  31%|\u2588\u2588\u2588       | 205/667 [00:28<01:04,  7.17it/s]"
          ]
        },
        {
          "output_type": "stream",
          "name": "stderr",
          "text": [
            "\rPredicting (Model 2):  31%|\u2588\u2588\u2588       | 206/667 [00:29<01:04,  7.17it/s]"
          ]
        },
        {
          "output_type": "stream",
          "name": "stderr",
          "text": [
            "\rPredicting (Model 2):  31%|\u2588\u2588\u2588       | 207/667 [00:29<01:03,  7.20it/s]"
          ]
        },
        {
          "output_type": "stream",
          "name": "stderr",
          "text": [
            "\rPredicting (Model 2):  31%|\u2588\u2588\u2588       | 208/667 [00:29<01:03,  7.18it/s]"
          ]
        },
        {
          "output_type": "stream",
          "name": "stderr",
          "text": [
            "\rPredicting (Model 2):  31%|\u2588\u2588\u2588\u258f      | 209/667 [00:29<01:03,  7.19it/s]"
          ]
        },
        {
          "output_type": "stream",
          "name": "stderr",
          "text": [
            "\rPredicting (Model 2):  31%|\u2588\u2588\u2588\u258f      | 210/667 [00:29<01:03,  7.20it/s]"
          ]
        },
        {
          "output_type": "stream",
          "name": "stderr",
          "text": [
            "\rPredicting (Model 2):  32%|\u2588\u2588\u2588\u258f      | 211/667 [00:29<01:03,  7.20it/s]"
          ]
        },
        {
          "output_type": "stream",
          "name": "stderr",
          "text": [
            "\rPredicting (Model 2):  32%|\u2588\u2588\u2588\u258f      | 212/667 [00:29<01:03,  7.17it/s]"
          ]
        },
        {
          "output_type": "stream",
          "name": "stderr",
          "text": [
            "\rPredicting (Model 2):  32%|\u2588\u2588\u2588\u258f      | 213/667 [00:30<01:03,  7.15it/s]"
          ]
        },
        {
          "output_type": "stream",
          "name": "stderr",
          "text": [
            "\rPredicting (Model 2):  32%|\u2588\u2588\u2588\u258f      | 214/667 [00:30<01:03,  7.16it/s]"
          ]
        },
        {
          "output_type": "stream",
          "name": "stderr",
          "text": [
            "\rPredicting (Model 2):  32%|\u2588\u2588\u2588\u258f      | 215/667 [00:30<01:02,  7.18it/s]"
          ]
        },
        {
          "output_type": "stream",
          "name": "stderr",
          "text": [
            "\rPredicting (Model 2):  32%|\u2588\u2588\u2588\u258f      | 216/667 [00:30<01:02,  7.18it/s]"
          ]
        },
        {
          "output_type": "stream",
          "name": "stderr",
          "text": [
            "\rPredicting (Model 2):  33%|\u2588\u2588\u2588\u258e      | 217/667 [00:30<01:02,  7.20it/s]"
          ]
        },
        {
          "output_type": "stream",
          "name": "stderr",
          "text": [
            "\rPredicting (Model 2):  33%|\u2588\u2588\u2588\u258e      | 218/667 [00:30<01:02,  7.21it/s]"
          ]
        },
        {
          "output_type": "stream",
          "name": "stderr",
          "text": [
            "\rPredicting (Model 2):  33%|\u2588\u2588\u2588\u258e      | 219/667 [00:30<01:02,  7.21it/s]"
          ]
        },
        {
          "output_type": "stream",
          "name": "stderr",
          "text": [
            "\rPredicting (Model 2):  33%|\u2588\u2588\u2588\u258e      | 220/667 [00:30<01:01,  7.21it/s]"
          ]
        },
        {
          "output_type": "stream",
          "name": "stderr",
          "text": [
            "\rPredicting (Model 2):  33%|\u2588\u2588\u2588\u258e      | 221/667 [00:31<01:02,  7.18it/s]"
          ]
        },
        {
          "output_type": "stream",
          "name": "stderr",
          "text": [
            "\rPredicting (Model 2):  33%|\u2588\u2588\u2588\u258e      | 222/667 [00:31<01:01,  7.18it/s]"
          ]
        },
        {
          "output_type": "stream",
          "name": "stderr",
          "text": [
            "\rPredicting (Model 2):  33%|\u2588\u2588\u2588\u258e      | 223/667 [00:31<01:01,  7.18it/s]"
          ]
        },
        {
          "output_type": "stream",
          "name": "stderr",
          "text": [
            "\rPredicting (Model 2):  34%|\u2588\u2588\u2588\u258e      | 224/667 [00:31<01:01,  7.16it/s]"
          ]
        },
        {
          "output_type": "stream",
          "name": "stderr",
          "text": [
            "\rPredicting (Model 2):  34%|\u2588\u2588\u2588\u258e      | 225/667 [00:31<01:01,  7.16it/s]"
          ]
        },
        {
          "output_type": "stream",
          "name": "stderr",
          "text": [
            "\rPredicting (Model 2):  34%|\u2588\u2588\u2588\u258d      | 226/667 [00:31<01:01,  7.17it/s]"
          ]
        },
        {
          "output_type": "stream",
          "name": "stderr",
          "text": [
            "\rPredicting (Model 2):  34%|\u2588\u2588\u2588\u258d      | 227/667 [00:31<01:01,  7.17it/s]"
          ]
        },
        {
          "output_type": "stream",
          "name": "stderr",
          "text": [
            "\rPredicting (Model 2):  34%|\u2588\u2588\u2588\u258d      | 228/667 [00:32<01:01,  7.15it/s]"
          ]
        },
        {
          "output_type": "stream",
          "name": "stderr",
          "text": [
            "\rPredicting (Model 2):  34%|\u2588\u2588\u2588\u258d      | 229/667 [00:32<01:01,  7.15it/s]"
          ]
        },
        {
          "output_type": "stream",
          "name": "stderr",
          "text": [
            "\rPredicting (Model 2):  34%|\u2588\u2588\u2588\u258d      | 230/667 [00:32<01:01,  7.15it/s]"
          ]
        },
        {
          "output_type": "stream",
          "name": "stderr",
          "text": [
            "\rPredicting (Model 2):  35%|\u2588\u2588\u2588\u258d      | 231/667 [00:32<01:00,  7.17it/s]"
          ]
        },
        {
          "output_type": "stream",
          "name": "stderr",
          "text": [
            "\rPredicting (Model 2):  35%|\u2588\u2588\u2588\u258d      | 232/667 [00:32<01:00,  7.18it/s]"
          ]
        },
        {
          "output_type": "stream",
          "name": "stderr",
          "text": [
            "\rPredicting (Model 2):  35%|\u2588\u2588\u2588\u258d      | 233/667 [00:32<01:00,  7.18it/s]"
          ]
        },
        {
          "output_type": "stream",
          "name": "stderr",
          "text": [
            "\rPredicting (Model 2):  35%|\u2588\u2588\u2588\u258c      | 234/667 [00:32<01:00,  7.19it/s]"
          ]
        },
        {
          "output_type": "stream",
          "name": "stderr",
          "text": [
            "\rPredicting (Model 2):  35%|\u2588\u2588\u2588\u258c      | 235/667 [00:33<01:00,  7.18it/s]"
          ]
        },
        {
          "output_type": "stream",
          "name": "stderr",
          "text": [
            "\rPredicting (Model 2):  35%|\u2588\u2588\u2588\u258c      | 236/667 [00:33<01:00,  7.16it/s]"
          ]
        },
        {
          "output_type": "stream",
          "name": "stderr",
          "text": [
            "\rPredicting (Model 2):  36%|\u2588\u2588\u2588\u258c      | 237/667 [00:33<00:59,  7.17it/s]"
          ]
        },
        {
          "output_type": "stream",
          "name": "stderr",
          "text": [
            "\rPredicting (Model 2):  36%|\u2588\u2588\u2588\u258c      | 238/667 [00:33<00:59,  7.18it/s]"
          ]
        },
        {
          "output_type": "stream",
          "name": "stderr",
          "text": [
            "\rPredicting (Model 2):  36%|\u2588\u2588\u2588\u258c      | 239/667 [00:33<00:59,  7.22it/s]"
          ]
        },
        {
          "output_type": "stream",
          "name": "stderr",
          "text": [
            "\rPredicting (Model 2):  36%|\u2588\u2588\u2588\u258c      | 240/667 [00:33<00:59,  7.21it/s]"
          ]
        },
        {
          "output_type": "stream",
          "name": "stderr",
          "text": [
            "\rPredicting (Model 2):  36%|\u2588\u2588\u2588\u258c      | 241/667 [00:33<00:59,  7.19it/s]"
          ]
        },
        {
          "output_type": "stream",
          "name": "stderr",
          "text": [
            "\rPredicting (Model 2):  36%|\u2588\u2588\u2588\u258b      | 242/667 [00:34<00:59,  7.19it/s]"
          ]
        },
        {
          "output_type": "stream",
          "name": "stderr",
          "text": [
            "\rPredicting (Model 2):  36%|\u2588\u2588\u2588\u258b      | 243/667 [00:34<00:58,  7.19it/s]"
          ]
        },
        {
          "output_type": "stream",
          "name": "stderr",
          "text": [
            "\rPredicting (Model 2):  37%|\u2588\u2588\u2588\u258b      | 244/667 [00:34<00:59,  7.16it/s]"
          ]
        },
        {
          "output_type": "stream",
          "name": "stderr",
          "text": [
            "\rPredicting (Model 2):  37%|\u2588\u2588\u2588\u258b      | 245/667 [00:34<00:58,  7.16it/s]"
          ]
        },
        {
          "output_type": "stream",
          "name": "stderr",
          "text": [
            "\rPredicting (Model 2):  37%|\u2588\u2588\u2588\u258b      | 246/667 [00:34<00:58,  7.16it/s]"
          ]
        },
        {
          "output_type": "stream",
          "name": "stderr",
          "text": [
            "\rPredicting (Model 2):  37%|\u2588\u2588\u2588\u258b      | 247/667 [00:34<00:58,  7.19it/s]"
          ]
        },
        {
          "output_type": "stream",
          "name": "stderr",
          "text": [
            "\rPredicting (Model 2):  37%|\u2588\u2588\u2588\u258b      | 248/667 [00:34<00:58,  7.18it/s]"
          ]
        },
        {
          "output_type": "stream",
          "name": "stderr",
          "text": [
            "\rPredicting (Model 2):  37%|\u2588\u2588\u2588\u258b      | 249/667 [00:35<00:58,  7.17it/s]"
          ]
        },
        {
          "output_type": "stream",
          "name": "stderr",
          "text": [
            "\rPredicting (Model 2):  37%|\u2588\u2588\u2588\u258b      | 250/667 [00:35<00:58,  7.18it/s]"
          ]
        },
        {
          "output_type": "stream",
          "name": "stderr",
          "text": [
            "\rPredicting (Model 2):  38%|\u2588\u2588\u2588\u258a      | 251/667 [00:35<00:57,  7.19it/s]"
          ]
        },
        {
          "output_type": "stream",
          "name": "stderr",
          "text": [
            "\rPredicting (Model 2):  38%|\u2588\u2588\u2588\u258a      | 252/667 [00:35<00:57,  7.18it/s]"
          ]
        },
        {
          "output_type": "stream",
          "name": "stderr",
          "text": [
            "\rPredicting (Model 2):  38%|\u2588\u2588\u2588\u258a      | 253/667 [00:35<00:57,  7.18it/s]"
          ]
        },
        {
          "output_type": "stream",
          "name": "stderr",
          "text": [
            "\rPredicting (Model 2):  38%|\u2588\u2588\u2588\u258a      | 254/667 [00:35<00:57,  7.18it/s]"
          ]
        },
        {
          "output_type": "stream",
          "name": "stderr",
          "text": [
            "\rPredicting (Model 2):  38%|\u2588\u2588\u2588\u258a      | 255/667 [00:35<00:57,  7.18it/s]"
          ]
        },
        {
          "output_type": "stream",
          "name": "stderr",
          "text": [
            "\rPredicting (Model 2):  38%|\u2588\u2588\u2588\u258a      | 256/667 [00:35<00:57,  7.17it/s]"
          ]
        },
        {
          "output_type": "stream",
          "name": "stderr",
          "text": [
            "\rPredicting (Model 2):  39%|\u2588\u2588\u2588\u258a      | 257/667 [00:36<00:57,  7.16it/s]"
          ]
        },
        {
          "output_type": "stream",
          "name": "stderr",
          "text": [
            "\rPredicting (Model 2):  39%|\u2588\u2588\u2588\u258a      | 258/667 [00:36<00:57,  7.17it/s]"
          ]
        },
        {
          "output_type": "stream",
          "name": "stderr",
          "text": [
            "\rPredicting (Model 2):  39%|\u2588\u2588\u2588\u2589      | 259/667 [00:36<00:56,  7.17it/s]"
          ]
        },
        {
          "output_type": "stream",
          "name": "stderr",
          "text": [
            "\rPredicting (Model 2):  39%|\u2588\u2588\u2588\u2589      | 260/667 [00:36<00:56,  7.18it/s]"
          ]
        },
        {
          "output_type": "stream",
          "name": "stderr",
          "text": [
            "\rPredicting (Model 2):  39%|\u2588\u2588\u2588\u2589      | 261/667 [00:36<00:56,  7.17it/s]"
          ]
        },
        {
          "output_type": "stream",
          "name": "stderr",
          "text": [
            "\rPredicting (Model 2):  39%|\u2588\u2588\u2588\u2589      | 262/667 [00:36<00:56,  7.17it/s]"
          ]
        },
        {
          "output_type": "stream",
          "name": "stderr",
          "text": [
            "\rPredicting (Model 2):  39%|\u2588\u2588\u2588\u2589      | 263/667 [00:36<00:56,  7.18it/s]"
          ]
        },
        {
          "output_type": "stream",
          "name": "stderr",
          "text": [
            "\rPredicting (Model 2):  40%|\u2588\u2588\u2588\u2589      | 264/667 [00:37<00:56,  7.18it/s]"
          ]
        },
        {
          "output_type": "stream",
          "name": "stderr",
          "text": [
            "\rPredicting (Model 2):  40%|\u2588\u2588\u2588\u2589      | 265/667 [00:37<00:56,  7.16it/s]"
          ]
        },
        {
          "output_type": "stream",
          "name": "stderr",
          "text": [
            "\rPredicting (Model 2):  40%|\u2588\u2588\u2588\u2589      | 266/667 [00:37<00:55,  7.18it/s]"
          ]
        },
        {
          "output_type": "stream",
          "name": "stderr",
          "text": [
            "\rPredicting (Model 2):  40%|\u2588\u2588\u2588\u2588      | 267/667 [00:37<00:55,  7.19it/s]"
          ]
        },
        {
          "output_type": "stream",
          "name": "stderr",
          "text": [
            "\rPredicting (Model 2):  40%|\u2588\u2588\u2588\u2588      | 268/667 [00:37<00:55,  7.15it/s]"
          ]
        },
        {
          "output_type": "stream",
          "name": "stderr",
          "text": [
            "\rPredicting (Model 2):  40%|\u2588\u2588\u2588\u2588      | 269/667 [00:37<00:55,  7.13it/s]"
          ]
        },
        {
          "output_type": "stream",
          "name": "stderr",
          "text": [
            "\rPredicting (Model 2):  40%|\u2588\u2588\u2588\u2588      | 270/667 [00:37<00:55,  7.15it/s]"
          ]
        },
        {
          "output_type": "stream",
          "name": "stderr",
          "text": [
            "\rPredicting (Model 2):  41%|\u2588\u2588\u2588\u2588      | 271/667 [00:38<00:55,  7.17it/s]"
          ]
        },
        {
          "output_type": "stream",
          "name": "stderr",
          "text": [
            "\rPredicting (Model 2):  41%|\u2588\u2588\u2588\u2588      | 272/667 [00:38<00:55,  7.17it/s]"
          ]
        },
        {
          "output_type": "stream",
          "name": "stderr",
          "text": [
            "\rPredicting (Model 2):  41%|\u2588\u2588\u2588\u2588      | 273/667 [00:38<00:54,  7.17it/s]"
          ]
        },
        {
          "output_type": "stream",
          "name": "stderr",
          "text": [
            "\rPredicting (Model 2):  41%|\u2588\u2588\u2588\u2588      | 274/667 [00:38<00:54,  7.17it/s]"
          ]
        },
        {
          "output_type": "stream",
          "name": "stderr",
          "text": [
            "\rPredicting (Model 2):  41%|\u2588\u2588\u2588\u2588      | 275/667 [00:38<00:54,  7.16it/s]"
          ]
        },
        {
          "output_type": "stream",
          "name": "stderr",
          "text": [
            "\rPredicting (Model 2):  41%|\u2588\u2588\u2588\u2588\u258f     | 276/667 [00:38<00:54,  7.16it/s]"
          ]
        },
        {
          "output_type": "stream",
          "name": "stderr",
          "text": [
            "\rPredicting (Model 2):  42%|\u2588\u2588\u2588\u2588\u258f     | 277/667 [00:38<00:54,  7.19it/s]"
          ]
        },
        {
          "output_type": "stream",
          "name": "stderr",
          "text": [
            "\rPredicting (Model 2):  42%|\u2588\u2588\u2588\u2588\u258f     | 278/667 [00:39<00:54,  7.20it/s]"
          ]
        },
        {
          "output_type": "stream",
          "name": "stderr",
          "text": [
            "\rPredicting (Model 2):  42%|\u2588\u2588\u2588\u2588\u258f     | 279/667 [00:39<00:53,  7.20it/s]"
          ]
        },
        {
          "output_type": "stream",
          "name": "stderr",
          "text": [
            "\rPredicting (Model 2):  42%|\u2588\u2588\u2588\u2588\u258f     | 280/667 [00:39<00:53,  7.19it/s]"
          ]
        },
        {
          "output_type": "stream",
          "name": "stderr",
          "text": [
            "\rPredicting (Model 2):  42%|\u2588\u2588\u2588\u2588\u258f     | 281/667 [00:39<00:53,  7.19it/s]"
          ]
        },
        {
          "output_type": "stream",
          "name": "stderr",
          "text": [
            "\rPredicting (Model 2):  42%|\u2588\u2588\u2588\u2588\u258f     | 282/667 [00:39<00:53,  7.21it/s]"
          ]
        },
        {
          "output_type": "stream",
          "name": "stderr",
          "text": [
            "\rPredicting (Model 2):  42%|\u2588\u2588\u2588\u2588\u258f     | 283/667 [00:39<00:53,  7.20it/s]"
          ]
        },
        {
          "output_type": "stream",
          "name": "stderr",
          "text": [
            "\rPredicting (Model 2):  43%|\u2588\u2588\u2588\u2588\u258e     | 284/667 [00:39<00:53,  7.19it/s]"
          ]
        },
        {
          "output_type": "stream",
          "name": "stderr",
          "text": [
            "\rPredicting (Model 2):  43%|\u2588\u2588\u2588\u2588\u258e     | 285/667 [00:40<00:53,  7.17it/s]"
          ]
        },
        {
          "output_type": "stream",
          "name": "stderr",
          "text": [
            "\rPredicting (Model 2):  43%|\u2588\u2588\u2588\u2588\u258e     | 286/667 [00:40<00:52,  7.19it/s]"
          ]
        },
        {
          "output_type": "stream",
          "name": "stderr",
          "text": [
            "\rPredicting (Model 2):  43%|\u2588\u2588\u2588\u2588\u258e     | 287/667 [00:40<00:52,  7.20it/s]"
          ]
        },
        {
          "output_type": "stream",
          "name": "stderr",
          "text": [
            "\rPredicting (Model 2):  43%|\u2588\u2588\u2588\u2588\u258e     | 288/667 [00:40<00:52,  7.19it/s]"
          ]
        },
        {
          "output_type": "stream",
          "name": "stderr",
          "text": [
            "\rPredicting (Model 2):  43%|\u2588\u2588\u2588\u2588\u258e     | 289/667 [00:40<00:52,  7.20it/s]"
          ]
        },
        {
          "output_type": "stream",
          "name": "stderr",
          "text": [
            "\rPredicting (Model 2):  43%|\u2588\u2588\u2588\u2588\u258e     | 290/667 [00:40<00:52,  7.20it/s]"
          ]
        },
        {
          "output_type": "stream",
          "name": "stderr",
          "text": [
            "\rPredicting (Model 2):  44%|\u2588\u2588\u2588\u2588\u258e     | 291/667 [00:40<00:52,  7.19it/s]"
          ]
        },
        {
          "output_type": "stream",
          "name": "stderr",
          "text": [
            "\rPredicting (Model 2):  44%|\u2588\u2588\u2588\u2588\u258d     | 292/667 [00:41<00:52,  7.18it/s]"
          ]
        },
        {
          "output_type": "stream",
          "name": "stderr",
          "text": [
            "\rPredicting (Model 2):  44%|\u2588\u2588\u2588\u2588\u258d     | 293/667 [00:41<00:52,  7.18it/s]"
          ]
        },
        {
          "output_type": "stream",
          "name": "stderr",
          "text": [
            "\rPredicting (Model 2):  44%|\u2588\u2588\u2588\u2588\u258d     | 294/667 [00:41<00:51,  7.19it/s]"
          ]
        },
        {
          "output_type": "stream",
          "name": "stderr",
          "text": [
            "\rPredicting (Model 2):  44%|\u2588\u2588\u2588\u2588\u258d     | 295/667 [00:41<00:51,  7.20it/s]"
          ]
        },
        {
          "output_type": "stream",
          "name": "stderr",
          "text": [
            "\rPredicting (Model 2):  44%|\u2588\u2588\u2588\u2588\u258d     | 296/667 [00:41<00:51,  7.18it/s]"
          ]
        },
        {
          "output_type": "stream",
          "name": "stderr",
          "text": [
            "\rPredicting (Model 2):  45%|\u2588\u2588\u2588\u2588\u258d     | 297/667 [00:41<00:51,  7.18it/s]"
          ]
        },
        {
          "output_type": "stream",
          "name": "stderr",
          "text": [
            "\rPredicting (Model 2):  45%|\u2588\u2588\u2588\u2588\u258d     | 298/667 [00:41<00:51,  7.20it/s]"
          ]
        },
        {
          "output_type": "stream",
          "name": "stderr",
          "text": [
            "\rPredicting (Model 2):  45%|\u2588\u2588\u2588\u2588\u258d     | 299/667 [00:41<00:51,  7.20it/s]"
          ]
        },
        {
          "output_type": "stream",
          "name": "stderr",
          "text": [
            "\rPredicting (Model 2):  45%|\u2588\u2588\u2588\u2588\u258d     | 300/667 [00:42<00:51,  7.16it/s]"
          ]
        },
        {
          "output_type": "stream",
          "name": "stderr",
          "text": [
            "\rPredicting (Model 2):  45%|\u2588\u2588\u2588\u2588\u258c     | 301/667 [00:42<00:51,  7.17it/s]"
          ]
        },
        {
          "output_type": "stream",
          "name": "stderr",
          "text": [
            "\rPredicting (Model 2):  45%|\u2588\u2588\u2588\u2588\u258c     | 302/667 [00:42<00:50,  7.18it/s]"
          ]
        },
        {
          "output_type": "stream",
          "name": "stderr",
          "text": [
            "\rPredicting (Model 2):  45%|\u2588\u2588\u2588\u2588\u258c     | 303/667 [00:42<00:50,  7.18it/s]"
          ]
        },
        {
          "output_type": "stream",
          "name": "stderr",
          "text": [
            "\rPredicting (Model 2):  46%|\u2588\u2588\u2588\u2588\u258c     | 304/667 [00:42<00:50,  7.17it/s]"
          ]
        },
        {
          "output_type": "stream",
          "name": "stderr",
          "text": [
            "\rPredicting (Model 2):  46%|\u2588\u2588\u2588\u2588\u258c     | 305/667 [00:42<00:50,  7.17it/s]"
          ]
        },
        {
          "output_type": "stream",
          "name": "stderr",
          "text": [
            "\rPredicting (Model 2):  46%|\u2588\u2588\u2588\u2588\u258c     | 306/667 [00:42<00:50,  7.18it/s]"
          ]
        },
        {
          "output_type": "stream",
          "name": "stderr",
          "text": [
            "\rPredicting (Model 2):  46%|\u2588\u2588\u2588\u2588\u258c     | 307/667 [00:43<00:50,  7.20it/s]"
          ]
        },
        {
          "output_type": "stream",
          "name": "stderr",
          "text": [
            "\rPredicting (Model 2):  46%|\u2588\u2588\u2588\u2588\u258c     | 308/667 [00:43<00:49,  7.21it/s]"
          ]
        },
        {
          "output_type": "stream",
          "name": "stderr",
          "text": [
            "\rPredicting (Model 2):  46%|\u2588\u2588\u2588\u2588\u258b     | 309/667 [00:43<00:49,  7.20it/s]"
          ]
        },
        {
          "output_type": "stream",
          "name": "stderr",
          "text": [
            "\rPredicting (Model 2):  46%|\u2588\u2588\u2588\u2588\u258b     | 310/667 [00:43<00:49,  7.21it/s]"
          ]
        },
        {
          "output_type": "stream",
          "name": "stderr",
          "text": [
            "\rPredicting (Model 2):  47%|\u2588\u2588\u2588\u2588\u258b     | 311/667 [00:43<00:49,  7.21it/s]"
          ]
        },
        {
          "output_type": "stream",
          "name": "stderr",
          "text": [
            "\rPredicting (Model 2):  47%|\u2588\u2588\u2588\u2588\u258b     | 312/667 [00:43<00:49,  7.17it/s]"
          ]
        },
        {
          "output_type": "stream",
          "name": "stderr",
          "text": [
            "\rPredicting (Model 2):  47%|\u2588\u2588\u2588\u2588\u258b     | 313/667 [00:43<00:49,  7.16it/s]"
          ]
        },
        {
          "output_type": "stream",
          "name": "stderr",
          "text": [
            "\rPredicting (Model 2):  47%|\u2588\u2588\u2588\u2588\u258b     | 314/667 [00:44<00:49,  7.16it/s]"
          ]
        },
        {
          "output_type": "stream",
          "name": "stderr",
          "text": [
            "\rPredicting (Model 2):  47%|\u2588\u2588\u2588\u2588\u258b     | 315/667 [00:44<00:49,  7.18it/s]"
          ]
        },
        {
          "output_type": "stream",
          "name": "stderr",
          "text": [
            "\rPredicting (Model 2):  47%|\u2588\u2588\u2588\u2588\u258b     | 316/667 [00:44<00:48,  7.19it/s]"
          ]
        },
        {
          "output_type": "stream",
          "name": "stderr",
          "text": [
            "\rPredicting (Model 2):  48%|\u2588\u2588\u2588\u2588\u258a     | 317/667 [00:44<00:48,  7.17it/s]"
          ]
        },
        {
          "output_type": "stream",
          "name": "stderr",
          "text": [
            "\rPredicting (Model 2):  48%|\u2588\u2588\u2588\u2588\u258a     | 318/667 [00:44<00:48,  7.17it/s]"
          ]
        },
        {
          "output_type": "stream",
          "name": "stderr",
          "text": [
            "\rPredicting (Model 2):  48%|\u2588\u2588\u2588\u2588\u258a     | 319/667 [00:44<00:48,  7.18it/s]"
          ]
        },
        {
          "output_type": "stream",
          "name": "stderr",
          "text": [
            "\rPredicting (Model 2):  48%|\u2588\u2588\u2588\u2588\u258a     | 320/667 [00:44<00:48,  7.18it/s]"
          ]
        },
        {
          "output_type": "stream",
          "name": "stderr",
          "text": [
            "\rPredicting (Model 2):  48%|\u2588\u2588\u2588\u2588\u258a     | 321/667 [00:45<00:48,  7.19it/s]"
          ]
        },
        {
          "output_type": "stream",
          "name": "stderr",
          "text": [
            "\rPredicting (Model 2):  48%|\u2588\u2588\u2588\u2588\u258a     | 322/667 [00:45<00:47,  7.19it/s]"
          ]
        },
        {
          "output_type": "stream",
          "name": "stderr",
          "text": [
            "\rPredicting (Model 2):  48%|\u2588\u2588\u2588\u2588\u258a     | 323/667 [00:45<00:47,  7.21it/s]"
          ]
        },
        {
          "output_type": "stream",
          "name": "stderr",
          "text": [
            "\rPredicting (Model 2):  49%|\u2588\u2588\u2588\u2588\u258a     | 324/667 [00:45<00:47,  7.21it/s]"
          ]
        },
        {
          "output_type": "stream",
          "name": "stderr",
          "text": [
            "\rPredicting (Model 2):  49%|\u2588\u2588\u2588\u2588\u258a     | 325/667 [00:45<00:47,  7.18it/s]"
          ]
        },
        {
          "output_type": "stream",
          "name": "stderr",
          "text": [
            "\rPredicting (Model 2):  49%|\u2588\u2588\u2588\u2588\u2589     | 326/667 [00:45<00:47,  7.16it/s]"
          ]
        },
        {
          "output_type": "stream",
          "name": "stderr",
          "text": [
            "\rPredicting (Model 2):  49%|\u2588\u2588\u2588\u2588\u2589     | 327/667 [00:45<00:47,  7.18it/s]"
          ]
        },
        {
          "output_type": "stream",
          "name": "stderr",
          "text": [
            "\rPredicting (Model 2):  49%|\u2588\u2588\u2588\u2588\u2589     | 328/667 [00:46<00:47,  7.17it/s]"
          ]
        },
        {
          "output_type": "stream",
          "name": "stderr",
          "text": [
            "\rPredicting (Model 2):  49%|\u2588\u2588\u2588\u2588\u2589     | 329/667 [00:46<00:47,  7.15it/s]"
          ]
        },
        {
          "output_type": "stream",
          "name": "stderr",
          "text": [
            "\rPredicting (Model 2):  49%|\u2588\u2588\u2588\u2588\u2589     | 330/667 [00:46<00:47,  7.15it/s]"
          ]
        },
        {
          "output_type": "stream",
          "name": "stderr",
          "text": [
            "\rPredicting (Model 2):  50%|\u2588\u2588\u2588\u2588\u2589     | 331/667 [00:46<00:46,  7.16it/s]"
          ]
        },
        {
          "output_type": "stream",
          "name": "stderr",
          "text": [
            "\rPredicting (Model 2):  50%|\u2588\u2588\u2588\u2588\u2589     | 332/667 [00:46<00:46,  7.17it/s]"
          ]
        },
        {
          "output_type": "stream",
          "name": "stderr",
          "text": [
            "\rPredicting (Model 2):  50%|\u2588\u2588\u2588\u2588\u2589     | 333/667 [00:46<00:46,  7.13it/s]"
          ]
        },
        {
          "output_type": "stream",
          "name": "stderr",
          "text": [
            "\rPredicting (Model 2):  50%|\u2588\u2588\u2588\u2588\u2588     | 334/667 [00:46<00:46,  7.15it/s]"
          ]
        },
        {
          "output_type": "stream",
          "name": "stderr",
          "text": [
            "\rPredicting (Model 2):  50%|\u2588\u2588\u2588\u2588\u2588     | 335/667 [00:46<00:46,  7.18it/s]"
          ]
        },
        {
          "output_type": "stream",
          "name": "stderr",
          "text": [
            "\rPredicting (Model 2):  50%|\u2588\u2588\u2588\u2588\u2588     | 336/667 [00:47<00:46,  7.17it/s]"
          ]
        },
        {
          "output_type": "stream",
          "name": "stderr",
          "text": [
            "\rPredicting (Model 2):  51%|\u2588\u2588\u2588\u2588\u2588     | 337/667 [00:47<00:46,  7.17it/s]"
          ]
        },
        {
          "output_type": "stream",
          "name": "stderr",
          "text": [
            "\rPredicting (Model 2):  51%|\u2588\u2588\u2588\u2588\u2588     | 338/667 [00:47<00:45,  7.16it/s]"
          ]
        },
        {
          "output_type": "stream",
          "name": "stderr",
          "text": [
            "\rPredicting (Model 2):  51%|\u2588\u2588\u2588\u2588\u2588     | 339/667 [00:47<00:45,  7.18it/s]"
          ]
        },
        {
          "output_type": "stream",
          "name": "stderr",
          "text": [
            "\rPredicting (Model 2):  51%|\u2588\u2588\u2588\u2588\u2588     | 340/667 [00:47<00:45,  7.16it/s]"
          ]
        },
        {
          "output_type": "stream",
          "name": "stderr",
          "text": [
            "\rPredicting (Model 2):  51%|\u2588\u2588\u2588\u2588\u2588     | 341/667 [00:47<00:45,  7.14it/s]"
          ]
        },
        {
          "output_type": "stream",
          "name": "stderr",
          "text": [
            "\rPredicting (Model 2):  51%|\u2588\u2588\u2588\u2588\u2588\u258f    | 342/667 [00:47<00:45,  7.14it/s]"
          ]
        },
        {
          "output_type": "stream",
          "name": "stderr",
          "text": [
            "\rPredicting (Model 2):  51%|\u2588\u2588\u2588\u2588\u2588\u258f    | 343/667 [00:48<00:45,  7.15it/s]"
          ]
        },
        {
          "output_type": "stream",
          "name": "stderr",
          "text": [
            "\rPredicting (Model 2):  52%|\u2588\u2588\u2588\u2588\u2588\u258f    | 344/667 [00:48<00:45,  7.14it/s]"
          ]
        },
        {
          "output_type": "stream",
          "name": "stderr",
          "text": [
            "\rPredicting (Model 2):  52%|\u2588\u2588\u2588\u2588\u2588\u258f    | 345/667 [00:48<00:45,  7.14it/s]"
          ]
        },
        {
          "output_type": "stream",
          "name": "stderr",
          "text": [
            "\rPredicting (Model 2):  52%|\u2588\u2588\u2588\u2588\u2588\u258f    | 346/667 [00:48<00:44,  7.15it/s]"
          ]
        },
        {
          "output_type": "stream",
          "name": "stderr",
          "text": [
            "\rPredicting (Model 2):  52%|\u2588\u2588\u2588\u2588\u2588\u258f    | 347/667 [00:48<00:44,  7.17it/s]"
          ]
        },
        {
          "output_type": "stream",
          "name": "stderr",
          "text": [
            "\rPredicting (Model 2):  52%|\u2588\u2588\u2588\u2588\u2588\u258f    | 348/667 [00:48<00:44,  7.17it/s]"
          ]
        },
        {
          "output_type": "stream",
          "name": "stderr",
          "text": [
            "\rPredicting (Model 2):  52%|\u2588\u2588\u2588\u2588\u2588\u258f    | 349/667 [00:48<00:44,  7.14it/s]"
          ]
        },
        {
          "output_type": "stream",
          "name": "stderr",
          "text": [
            "\rPredicting (Model 2):  52%|\u2588\u2588\u2588\u2588\u2588\u258f    | 350/667 [00:49<00:44,  7.14it/s]"
          ]
        },
        {
          "output_type": "stream",
          "name": "stderr",
          "text": [
            "\rPredicting (Model 2):  53%|\u2588\u2588\u2588\u2588\u2588\u258e    | 351/667 [00:49<00:44,  7.16it/s]"
          ]
        },
        {
          "output_type": "stream",
          "name": "stderr",
          "text": [
            "\rPredicting (Model 2):  53%|\u2588\u2588\u2588\u2588\u2588\u258e    | 352/667 [00:49<00:43,  7.17it/s]"
          ]
        },
        {
          "output_type": "stream",
          "name": "stderr",
          "text": [
            "\rPredicting (Model 2):  53%|\u2588\u2588\u2588\u2588\u2588\u258e    | 353/667 [00:49<00:43,  7.15it/s]"
          ]
        },
        {
          "output_type": "stream",
          "name": "stderr",
          "text": [
            "\rPredicting (Model 2):  53%|\u2588\u2588\u2588\u2588\u2588\u258e    | 354/667 [00:49<00:43,  7.15it/s]"
          ]
        },
        {
          "output_type": "stream",
          "name": "stderr",
          "text": [
            "\rPredicting (Model 2):  53%|\u2588\u2588\u2588\u2588\u2588\u258e    | 355/667 [00:49<00:43,  7.17it/s]"
          ]
        },
        {
          "output_type": "stream",
          "name": "stderr",
          "text": [
            "\rPredicting (Model 2):  53%|\u2588\u2588\u2588\u2588\u2588\u258e    | 356/667 [00:49<00:43,  7.16it/s]"
          ]
        },
        {
          "output_type": "stream",
          "name": "stderr",
          "text": [
            "\rPredicting (Model 2):  54%|\u2588\u2588\u2588\u2588\u2588\u258e    | 357/667 [00:50<00:43,  7.16it/s]"
          ]
        },
        {
          "output_type": "stream",
          "name": "stderr",
          "text": [
            "\rPredicting (Model 2):  54%|\u2588\u2588\u2588\u2588\u2588\u258e    | 358/667 [00:50<00:43,  7.15it/s]"
          ]
        },
        {
          "output_type": "stream",
          "name": "stderr",
          "text": [
            "\rPredicting (Model 2):  54%|\u2588\u2588\u2588\u2588\u2588\u258d    | 359/667 [00:50<00:42,  7.18it/s]"
          ]
        },
        {
          "output_type": "stream",
          "name": "stderr",
          "text": [
            "\rPredicting (Model 2):  54%|\u2588\u2588\u2588\u2588\u2588\u258d    | 360/667 [00:50<00:42,  7.20it/s]"
          ]
        },
        {
          "output_type": "stream",
          "name": "stderr",
          "text": [
            "\rPredicting (Model 2):  54%|\u2588\u2588\u2588\u2588\u2588\u258d    | 361/667 [00:50<00:42,  7.18it/s]"
          ]
        },
        {
          "output_type": "stream",
          "name": "stderr",
          "text": [
            "\rPredicting (Model 2):  54%|\u2588\u2588\u2588\u2588\u2588\u258d    | 362/667 [00:50<00:42,  7.18it/s]"
          ]
        },
        {
          "output_type": "stream",
          "name": "stderr",
          "text": [
            "\rPredicting (Model 2):  54%|\u2588\u2588\u2588\u2588\u2588\u258d    | 363/667 [00:50<00:42,  7.17it/s]"
          ]
        },
        {
          "output_type": "stream",
          "name": "stderr",
          "text": [
            "\rPredicting (Model 2):  55%|\u2588\u2588\u2588\u2588\u2588\u258d    | 364/667 [00:51<00:42,  7.16it/s]"
          ]
        },
        {
          "output_type": "stream",
          "name": "stderr",
          "text": [
            "\rPredicting (Model 2):  55%|\u2588\u2588\u2588\u2588\u2588\u258d    | 365/667 [00:51<00:42,  7.15it/s]"
          ]
        },
        {
          "output_type": "stream",
          "name": "stderr",
          "text": [
            "\rPredicting (Model 2):  55%|\u2588\u2588\u2588\u2588\u2588\u258d    | 366/667 [00:51<00:42,  7.16it/s]"
          ]
        },
        {
          "output_type": "stream",
          "name": "stderr",
          "text": [
            "\rPredicting (Model 2):  55%|\u2588\u2588\u2588\u2588\u2588\u258c    | 367/667 [00:51<00:41,  7.17it/s]"
          ]
        },
        {
          "output_type": "stream",
          "name": "stderr",
          "text": [
            "\rPredicting (Model 2):  55%|\u2588\u2588\u2588\u2588\u2588\u258c    | 368/667 [00:51<00:41,  7.18it/s]"
          ]
        },
        {
          "output_type": "stream",
          "name": "stderr",
          "text": [
            "\rPredicting (Model 2):  55%|\u2588\u2588\u2588\u2588\u2588\u258c    | 369/667 [00:51<00:41,  7.16it/s]"
          ]
        },
        {
          "output_type": "stream",
          "name": "stderr",
          "text": [
            "\rPredicting (Model 2):  55%|\u2588\u2588\u2588\u2588\u2588\u258c    | 370/667 [00:51<00:41,  7.16it/s]"
          ]
        },
        {
          "output_type": "stream",
          "name": "stderr",
          "text": [
            "\rPredicting (Model 2):  56%|\u2588\u2588\u2588\u2588\u2588\u258c    | 371/667 [00:52<00:41,  7.17it/s]"
          ]
        },
        {
          "output_type": "stream",
          "name": "stderr",
          "text": [
            "\rPredicting (Model 2):  56%|\u2588\u2588\u2588\u2588\u2588\u258c    | 372/667 [00:52<00:41,  7.15it/s]"
          ]
        },
        {
          "output_type": "stream",
          "name": "stderr",
          "text": [
            "\rPredicting (Model 2):  56%|\u2588\u2588\u2588\u2588\u2588\u258c    | 373/667 [00:52<00:41,  7.13it/s]"
          ]
        },
        {
          "output_type": "stream",
          "name": "stderr",
          "text": [
            "\rPredicting (Model 2):  56%|\u2588\u2588\u2588\u2588\u2588\u258c    | 374/667 [00:52<00:41,  7.13it/s]"
          ]
        },
        {
          "output_type": "stream",
          "name": "stderr",
          "text": [
            "\rPredicting (Model 2):  56%|\u2588\u2588\u2588\u2588\u2588\u258c    | 375/667 [00:52<00:40,  7.14it/s]"
          ]
        },
        {
          "output_type": "stream",
          "name": "stderr",
          "text": [
            "\rPredicting (Model 2):  56%|\u2588\u2588\u2588\u2588\u2588\u258b    | 376/667 [00:52<00:40,  7.16it/s]"
          ]
        },
        {
          "output_type": "stream",
          "name": "stderr",
          "text": [
            "\rPredicting (Model 2):  57%|\u2588\u2588\u2588\u2588\u2588\u258b    | 377/667 [00:52<00:40,  7.16it/s]"
          ]
        },
        {
          "output_type": "stream",
          "name": "stderr",
          "text": [
            "\rPredicting (Model 2):  57%|\u2588\u2588\u2588\u2588\u2588\u258b    | 378/667 [00:53<00:40,  7.16it/s]"
          ]
        },
        {
          "output_type": "stream",
          "name": "stderr",
          "text": [
            "\rPredicting (Model 2):  57%|\u2588\u2588\u2588\u2588\u2588\u258b    | 379/667 [00:53<00:40,  7.18it/s]"
          ]
        },
        {
          "output_type": "stream",
          "name": "stderr",
          "text": [
            "\rPredicting (Model 2):  57%|\u2588\u2588\u2588\u2588\u2588\u258b    | 380/667 [00:53<00:39,  7.18it/s]"
          ]
        },
        {
          "output_type": "stream",
          "name": "stderr",
          "text": [
            "\rPredicting (Model 2):  57%|\u2588\u2588\u2588\u2588\u2588\u258b    | 381/667 [00:53<00:39,  7.16it/s]"
          ]
        },
        {
          "output_type": "stream",
          "name": "stderr",
          "text": [
            "\rPredicting (Model 2):  57%|\u2588\u2588\u2588\u2588\u2588\u258b    | 382/667 [00:53<00:39,  7.14it/s]"
          ]
        },
        {
          "output_type": "stream",
          "name": "stderr",
          "text": [
            "\rPredicting (Model 2):  57%|\u2588\u2588\u2588\u2588\u2588\u258b    | 383/667 [00:53<00:39,  7.15it/s]"
          ]
        },
        {
          "output_type": "stream",
          "name": "stderr",
          "text": [
            "\rPredicting (Model 2):  58%|\u2588\u2588\u2588\u2588\u2588\u258a    | 384/667 [00:53<00:39,  7.14it/s]"
          ]
        },
        {
          "output_type": "stream",
          "name": "stderr",
          "text": [
            "\rPredicting (Model 2):  58%|\u2588\u2588\u2588\u2588\u2588\u258a    | 385/667 [00:53<00:39,  7.15it/s]"
          ]
        },
        {
          "output_type": "stream",
          "name": "stderr",
          "text": [
            "\rPredicting (Model 2):  58%|\u2588\u2588\u2588\u2588\u2588\u258a    | 386/667 [00:54<00:39,  7.15it/s]"
          ]
        },
        {
          "output_type": "stream",
          "name": "stderr",
          "text": [
            "\rPredicting (Model 2):  58%|\u2588\u2588\u2588\u2588\u2588\u258a    | 387/667 [00:54<00:39,  7.16it/s]"
          ]
        },
        {
          "output_type": "stream",
          "name": "stderr",
          "text": [
            "\rPredicting (Model 2):  58%|\u2588\u2588\u2588\u2588\u2588\u258a    | 388/667 [00:54<00:39,  7.15it/s]"
          ]
        },
        {
          "output_type": "stream",
          "name": "stderr",
          "text": [
            "\rPredicting (Model 2):  58%|\u2588\u2588\u2588\u2588\u2588\u258a    | 389/667 [00:54<00:38,  7.16it/s]"
          ]
        },
        {
          "output_type": "stream",
          "name": "stderr",
          "text": [
            "\rPredicting (Model 2):  58%|\u2588\u2588\u2588\u2588\u2588\u258a    | 390/667 [00:54<00:38,  7.16it/s]"
          ]
        },
        {
          "output_type": "stream",
          "name": "stderr",
          "text": [
            "\rPredicting (Model 2):  59%|\u2588\u2588\u2588\u2588\u2588\u258a    | 391/667 [00:54<00:38,  7.16it/s]"
          ]
        },
        {
          "output_type": "stream",
          "name": "stderr",
          "text": [
            "\rPredicting (Model 2):  59%|\u2588\u2588\u2588\u2588\u2588\u2589    | 392/667 [00:54<00:38,  7.15it/s]"
          ]
        },
        {
          "output_type": "stream",
          "name": "stderr",
          "text": [
            "\rPredicting (Model 2):  59%|\u2588\u2588\u2588\u2588\u2588\u2589    | 393/667 [00:55<00:38,  7.16it/s]"
          ]
        },
        {
          "output_type": "stream",
          "name": "stderr",
          "text": [
            "\rPredicting (Model 2):  59%|\u2588\u2588\u2588\u2588\u2588\u2589    | 394/667 [00:55<00:38,  7.16it/s]"
          ]
        },
        {
          "output_type": "stream",
          "name": "stderr",
          "text": [
            "\rPredicting (Model 2):  59%|\u2588\u2588\u2588\u2588\u2588\u2589    | 395/667 [00:55<00:37,  7.16it/s]"
          ]
        },
        {
          "output_type": "stream",
          "name": "stderr",
          "text": [
            "\rPredicting (Model 2):  59%|\u2588\u2588\u2588\u2588\u2588\u2589    | 396/667 [00:55<00:37,  7.15it/s]"
          ]
        },
        {
          "output_type": "stream",
          "name": "stderr",
          "text": [
            "\rPredicting (Model 2):  60%|\u2588\u2588\u2588\u2588\u2588\u2589    | 397/667 [00:55<00:37,  7.18it/s]"
          ]
        },
        {
          "output_type": "stream",
          "name": "stderr",
          "text": [
            "\rPredicting (Model 2):  60%|\u2588\u2588\u2588\u2588\u2588\u2589    | 398/667 [00:55<00:37,  7.19it/s]"
          ]
        },
        {
          "output_type": "stream",
          "name": "stderr",
          "text": [
            "\rPredicting (Model 2):  60%|\u2588\u2588\u2588\u2588\u2588\u2589    | 399/667 [00:55<00:37,  7.19it/s]"
          ]
        },
        {
          "output_type": "stream",
          "name": "stderr",
          "text": [
            "\rPredicting (Model 2):  60%|\u2588\u2588\u2588\u2588\u2588\u2589    | 400/667 [00:56<00:37,  7.18it/s]"
          ]
        },
        {
          "output_type": "stream",
          "name": "stderr",
          "text": [
            "\rPredicting (Model 2):  60%|\u2588\u2588\u2588\u2588\u2588\u2588    | 401/667 [00:56<00:37,  7.15it/s]"
          ]
        },
        {
          "output_type": "stream",
          "name": "stderr",
          "text": [
            "\rPredicting (Model 2):  60%|\u2588\u2588\u2588\u2588\u2588\u2588    | 402/667 [00:56<00:36,  7.17it/s]"
          ]
        },
        {
          "output_type": "stream",
          "name": "stderr",
          "text": [
            "\rPredicting (Model 2):  60%|\u2588\u2588\u2588\u2588\u2588\u2588    | 403/667 [00:56<00:36,  7.20it/s]"
          ]
        },
        {
          "output_type": "stream",
          "name": "stderr",
          "text": [
            "\rPredicting (Model 2):  61%|\u2588\u2588\u2588\u2588\u2588\u2588    | 404/667 [00:56<00:36,  7.21it/s]"
          ]
        },
        {
          "output_type": "stream",
          "name": "stderr",
          "text": [
            "\rPredicting (Model 2):  61%|\u2588\u2588\u2588\u2588\u2588\u2588    | 405/667 [00:56<00:36,  7.22it/s]"
          ]
        },
        {
          "output_type": "stream",
          "name": "stderr",
          "text": [
            "\rPredicting (Model 2):  61%|\u2588\u2588\u2588\u2588\u2588\u2588    | 406/667 [00:56<00:36,  7.22it/s]"
          ]
        },
        {
          "output_type": "stream",
          "name": "stderr",
          "text": [
            "\rPredicting (Model 2):  61%|\u2588\u2588\u2588\u2588\u2588\u2588    | 407/667 [00:57<00:35,  7.22it/s]"
          ]
        },
        {
          "output_type": "stream",
          "name": "stderr",
          "text": [
            "\rPredicting (Model 2):  61%|\u2588\u2588\u2588\u2588\u2588\u2588    | 408/667 [00:57<00:35,  7.21it/s]"
          ]
        },
        {
          "output_type": "stream",
          "name": "stderr",
          "text": [
            "\rPredicting (Model 2):  61%|\u2588\u2588\u2588\u2588\u2588\u2588\u258f   | 409/667 [00:57<00:35,  7.20it/s]"
          ]
        },
        {
          "output_type": "stream",
          "name": "stderr",
          "text": [
            "\rPredicting (Model 2):  61%|\u2588\u2588\u2588\u2588\u2588\u2588\u258f   | 410/667 [00:57<00:35,  7.18it/s]"
          ]
        },
        {
          "output_type": "stream",
          "name": "stderr",
          "text": [
            "\rPredicting (Model 2):  62%|\u2588\u2588\u2588\u2588\u2588\u2588\u258f   | 411/667 [00:57<00:35,  7.18it/s]"
          ]
        },
        {
          "output_type": "stream",
          "name": "stderr",
          "text": [
            "\rPredicting (Model 2):  62%|\u2588\u2588\u2588\u2588\u2588\u2588\u258f   | 412/667 [00:57<00:35,  7.20it/s]"
          ]
        },
        {
          "output_type": "stream",
          "name": "stderr",
          "text": [
            "\rPredicting (Model 2):  62%|\u2588\u2588\u2588\u2588\u2588\u2588\u258f   | 413/667 [00:57<00:35,  7.19it/s]"
          ]
        },
        {
          "output_type": "stream",
          "name": "stderr",
          "text": [
            "\rPredicting (Model 2):  62%|\u2588\u2588\u2588\u2588\u2588\u2588\u258f   | 414/667 [00:58<00:35,  7.18it/s]"
          ]
        },
        {
          "output_type": "stream",
          "name": "stderr",
          "text": [
            "\rPredicting (Model 2):  62%|\u2588\u2588\u2588\u2588\u2588\u2588\u258f   | 415/667 [00:58<00:35,  7.19it/s]"
          ]
        },
        {
          "output_type": "stream",
          "name": "stderr",
          "text": [
            "\rPredicting (Model 2):  62%|\u2588\u2588\u2588\u2588\u2588\u2588\u258f   | 416/667 [00:58<00:34,  7.20it/s]"
          ]
        },
        {
          "output_type": "stream",
          "name": "stderr",
          "text": [
            "\rPredicting (Model 2):  63%|\u2588\u2588\u2588\u2588\u2588\u2588\u258e   | 417/667 [00:58<00:34,  7.20it/s]"
          ]
        },
        {
          "output_type": "stream",
          "name": "stderr",
          "text": [
            "\rPredicting (Model 2):  63%|\u2588\u2588\u2588\u2588\u2588\u2588\u258e   | 418/667 [00:58<00:34,  7.18it/s]"
          ]
        },
        {
          "output_type": "stream",
          "name": "stderr",
          "text": [
            "\rPredicting (Model 2):  63%|\u2588\u2588\u2588\u2588\u2588\u2588\u258e   | 419/667 [00:58<00:34,  7.20it/s]"
          ]
        },
        {
          "output_type": "stream",
          "name": "stderr",
          "text": [
            "\rPredicting (Model 2):  63%|\u2588\u2588\u2588\u2588\u2588\u2588\u258e   | 420/667 [00:58<00:34,  7.19it/s]"
          ]
        },
        {
          "output_type": "stream",
          "name": "stderr",
          "text": [
            "\rPredicting (Model 2):  63%|\u2588\u2588\u2588\u2588\u2588\u2588\u258e   | 421/667 [00:58<00:34,  7.16it/s]"
          ]
        },
        {
          "output_type": "stream",
          "name": "stderr",
          "text": [
            "\rPredicting (Model 2):  63%|\u2588\u2588\u2588\u2588\u2588\u2588\u258e   | 422/667 [00:59<00:34,  7.16it/s]"
          ]
        },
        {
          "output_type": "stream",
          "name": "stderr",
          "text": [
            "\rPredicting (Model 2):  63%|\u2588\u2588\u2588\u2588\u2588\u2588\u258e   | 423/667 [00:59<00:34,  7.17it/s]"
          ]
        },
        {
          "output_type": "stream",
          "name": "stderr",
          "text": [
            "\rPredicting (Model 2):  64%|\u2588\u2588\u2588\u2588\u2588\u2588\u258e   | 424/667 [00:59<00:33,  7.17it/s]"
          ]
        },
        {
          "output_type": "stream",
          "name": "stderr",
          "text": [
            "\rPredicting (Model 2):  64%|\u2588\u2588\u2588\u2588\u2588\u2588\u258e   | 425/667 [00:59<00:33,  7.16it/s]"
          ]
        },
        {
          "output_type": "stream",
          "name": "stderr",
          "text": [
            "\rPredicting (Model 2):  64%|\u2588\u2588\u2588\u2588\u2588\u2588\u258d   | 426/667 [00:59<00:33,  7.18it/s]"
          ]
        },
        {
          "output_type": "stream",
          "name": "stderr",
          "text": [
            "\rPredicting (Model 2):  64%|\u2588\u2588\u2588\u2588\u2588\u2588\u258d   | 427/667 [00:59<00:33,  7.19it/s]"
          ]
        },
        {
          "output_type": "stream",
          "name": "stderr",
          "text": [
            "\rPredicting (Model 2):  64%|\u2588\u2588\u2588\u2588\u2588\u2588\u258d   | 428/667 [00:59<00:33,  7.18it/s]"
          ]
        },
        {
          "output_type": "stream",
          "name": "stderr",
          "text": [
            "\rPredicting (Model 2):  64%|\u2588\u2588\u2588\u2588\u2588\u2588\u258d   | 429/667 [01:00<00:33,  7.16it/s]"
          ]
        },
        {
          "output_type": "stream",
          "name": "stderr",
          "text": [
            "\rPredicting (Model 2):  64%|\u2588\u2588\u2588\u2588\u2588\u2588\u258d   | 430/667 [01:00<00:33,  7.15it/s]"
          ]
        },
        {
          "output_type": "stream",
          "name": "stderr",
          "text": [
            "\rPredicting (Model 2):  65%|\u2588\u2588\u2588\u2588\u2588\u2588\u258d   | 431/667 [01:00<00:33,  7.15it/s]"
          ]
        },
        {
          "output_type": "stream",
          "name": "stderr",
          "text": [
            "\rPredicting (Model 2):  65%|\u2588\u2588\u2588\u2588\u2588\u2588\u258d   | 432/667 [01:00<00:32,  7.15it/s]"
          ]
        },
        {
          "output_type": "stream",
          "name": "stderr",
          "text": [
            "\rPredicting (Model 2):  65%|\u2588\u2588\u2588\u2588\u2588\u2588\u258d   | 433/667 [01:00<00:32,  7.14it/s]"
          ]
        },
        {
          "output_type": "stream",
          "name": "stderr",
          "text": [
            "\rPredicting (Model 2):  65%|\u2588\u2588\u2588\u2588\u2588\u2588\u258c   | 434/667 [01:00<00:32,  7.14it/s]"
          ]
        },
        {
          "output_type": "stream",
          "name": "stderr",
          "text": [
            "\rPredicting (Model 2):  65%|\u2588\u2588\u2588\u2588\u2588\u2588\u258c   | 435/667 [01:00<00:32,  7.17it/s]"
          ]
        },
        {
          "output_type": "stream",
          "name": "stderr",
          "text": [
            "\rPredicting (Model 2):  65%|\u2588\u2588\u2588\u2588\u2588\u2588\u258c   | 436/667 [01:01<00:32,  7.19it/s]"
          ]
        },
        {
          "output_type": "stream",
          "name": "stderr",
          "text": [
            "\rPredicting (Model 2):  66%|\u2588\u2588\u2588\u2588\u2588\u2588\u258c   | 437/667 [01:01<00:32,  7.16it/s]"
          ]
        },
        {
          "output_type": "stream",
          "name": "stderr",
          "text": [
            "\rPredicting (Model 2):  66%|\u2588\u2588\u2588\u2588\u2588\u2588\u258c   | 438/667 [01:01<00:32,  7.13it/s]"
          ]
        },
        {
          "output_type": "stream",
          "name": "stderr",
          "text": [
            "\rPredicting (Model 2):  66%|\u2588\u2588\u2588\u2588\u2588\u2588\u258c   | 439/667 [01:01<00:31,  7.15it/s]"
          ]
        },
        {
          "output_type": "stream",
          "name": "stderr",
          "text": [
            "\rPredicting (Model 2):  66%|\u2588\u2588\u2588\u2588\u2588\u2588\u258c   | 440/667 [01:01<00:31,  7.18it/s]"
          ]
        },
        {
          "output_type": "stream",
          "name": "stderr",
          "text": [
            "\rPredicting (Model 2):  66%|\u2588\u2588\u2588\u2588\u2588\u2588\u258c   | 441/667 [01:01<00:31,  7.18it/s]"
          ]
        },
        {
          "output_type": "stream",
          "name": "stderr",
          "text": [
            "\rPredicting (Model 2):  66%|\u2588\u2588\u2588\u2588\u2588\u2588\u258b   | 442/667 [01:01<00:31,  7.17it/s]"
          ]
        },
        {
          "output_type": "stream",
          "name": "stderr",
          "text": [
            "\rPredicting (Model 2):  66%|\u2588\u2588\u2588\u2588\u2588\u2588\u258b   | 443/667 [01:02<00:31,  7.18it/s]"
          ]
        },
        {
          "output_type": "stream",
          "name": "stderr",
          "text": [
            "\rPredicting (Model 2):  67%|\u2588\u2588\u2588\u2588\u2588\u2588\u258b   | 444/667 [01:02<00:31,  7.18it/s]"
          ]
        },
        {
          "output_type": "stream",
          "name": "stderr",
          "text": [
            "\rPredicting (Model 2):  67%|\u2588\u2588\u2588\u2588\u2588\u2588\u258b   | 445/667 [01:02<00:30,  7.17it/s]"
          ]
        },
        {
          "output_type": "stream",
          "name": "stderr",
          "text": [
            "\rPredicting (Model 2):  67%|\u2588\u2588\u2588\u2588\u2588\u2588\u258b   | 446/667 [01:02<00:30,  7.14it/s]"
          ]
        },
        {
          "output_type": "stream",
          "name": "stderr",
          "text": [
            "\rPredicting (Model 2):  67%|\u2588\u2588\u2588\u2588\u2588\u2588\u258b   | 447/667 [01:02<00:30,  7.15it/s]"
          ]
        },
        {
          "output_type": "stream",
          "name": "stderr",
          "text": [
            "\rPredicting (Model 2):  67%|\u2588\u2588\u2588\u2588\u2588\u2588\u258b   | 448/667 [01:02<00:30,  7.18it/s]"
          ]
        },
        {
          "output_type": "stream",
          "name": "stderr",
          "text": [
            "\rPredicting (Model 2):  67%|\u2588\u2588\u2588\u2588\u2588\u2588\u258b   | 449/667 [01:02<00:30,  7.19it/s]"
          ]
        },
        {
          "output_type": "stream",
          "name": "stderr",
          "text": [
            "\rPredicting (Model 2):  67%|\u2588\u2588\u2588\u2588\u2588\u2588\u258b   | 450/667 [01:03<00:30,  7.19it/s]"
          ]
        },
        {
          "output_type": "stream",
          "name": "stderr",
          "text": [
            "\rPredicting (Model 2):  68%|\u2588\u2588\u2588\u2588\u2588\u2588\u258a   | 451/667 [01:03<00:29,  7.20it/s]"
          ]
        },
        {
          "output_type": "stream",
          "name": "stderr",
          "text": [
            "\rPredicting (Model 2):  68%|\u2588\u2588\u2588\u2588\u2588\u2588\u258a   | 452/667 [01:03<00:29,  7.22it/s]"
          ]
        },
        {
          "output_type": "stream",
          "name": "stderr",
          "text": [
            "\rPredicting (Model 2):  68%|\u2588\u2588\u2588\u2588\u2588\u2588\u258a   | 453/667 [01:03<00:29,  7.20it/s]"
          ]
        },
        {
          "output_type": "stream",
          "name": "stderr",
          "text": [
            "\rPredicting (Model 2):  68%|\u2588\u2588\u2588\u2588\u2588\u2588\u258a   | 454/667 [01:03<00:29,  7.17it/s]"
          ]
        },
        {
          "output_type": "stream",
          "name": "stderr",
          "text": [
            "\rPredicting (Model 2):  68%|\u2588\u2588\u2588\u2588\u2588\u2588\u258a   | 455/667 [01:03<00:29,  7.18it/s]"
          ]
        },
        {
          "output_type": "stream",
          "name": "stderr",
          "text": [
            "\rPredicting (Model 2):  68%|\u2588\u2588\u2588\u2588\u2588\u2588\u258a   | 456/667 [01:03<00:29,  7.18it/s]"
          ]
        },
        {
          "output_type": "stream",
          "name": "stderr",
          "text": [
            "\rPredicting (Model 2):  69%|\u2588\u2588\u2588\u2588\u2588\u2588\u258a   | 457/667 [01:04<00:29,  7.16it/s]"
          ]
        },
        {
          "output_type": "stream",
          "name": "stderr",
          "text": [
            "\rPredicting (Model 2):  69%|\u2588\u2588\u2588\u2588\u2588\u2588\u258a   | 458/667 [01:04<00:29,  7.14it/s]"
          ]
        },
        {
          "output_type": "stream",
          "name": "stderr",
          "text": [
            "\rPredicting (Model 2):  69%|\u2588\u2588\u2588\u2588\u2588\u2588\u2589   | 459/667 [01:04<00:28,  7.18it/s]"
          ]
        },
        {
          "output_type": "stream",
          "name": "stderr",
          "text": [
            "\rPredicting (Model 2):  69%|\u2588\u2588\u2588\u2588\u2588\u2588\u2589   | 460/667 [01:04<00:28,  7.19it/s]"
          ]
        },
        {
          "output_type": "stream",
          "name": "stderr",
          "text": [
            "\rPredicting (Model 2):  69%|\u2588\u2588\u2588\u2588\u2588\u2588\u2589   | 461/667 [01:04<00:28,  7.18it/s]"
          ]
        },
        {
          "output_type": "stream",
          "name": "stderr",
          "text": [
            "\rPredicting (Model 2):  69%|\u2588\u2588\u2588\u2588\u2588\u2588\u2589   | 462/667 [01:04<00:28,  7.15it/s]"
          ]
        },
        {
          "output_type": "stream",
          "name": "stderr",
          "text": [
            "\rPredicting (Model 2):  69%|\u2588\u2588\u2588\u2588\u2588\u2588\u2589   | 463/667 [01:04<00:28,  7.17it/s]"
          ]
        },
        {
          "output_type": "stream",
          "name": "stderr",
          "text": [
            "\rPredicting (Model 2):  70%|\u2588\u2588\u2588\u2588\u2588\u2588\u2589   | 464/667 [01:04<00:28,  7.12it/s]"
          ]
        },
        {
          "output_type": "stream",
          "name": "stderr",
          "text": [
            "\rPredicting (Model 2):  70%|\u2588\u2588\u2588\u2588\u2588\u2588\u2589   | 465/667 [01:05<00:28,  7.13it/s]"
          ]
        },
        {
          "output_type": "stream",
          "name": "stderr",
          "text": [
            "\rPredicting (Model 2):  70%|\u2588\u2588\u2588\u2588\u2588\u2588\u2589   | 466/667 [01:05<00:28,  7.12it/s]"
          ]
        },
        {
          "output_type": "stream",
          "name": "stderr",
          "text": [
            "\rPredicting (Model 2):  70%|\u2588\u2588\u2588\u2588\u2588\u2588\u2588   | 467/667 [01:05<00:27,  7.15it/s]"
          ]
        },
        {
          "output_type": "stream",
          "name": "stderr",
          "text": [
            "\rPredicting (Model 2):  70%|\u2588\u2588\u2588\u2588\u2588\u2588\u2588   | 468/667 [01:05<00:27,  7.15it/s]"
          ]
        },
        {
          "output_type": "stream",
          "name": "stderr",
          "text": [
            "\rPredicting (Model 2):  70%|\u2588\u2588\u2588\u2588\u2588\u2588\u2588   | 469/667 [01:05<00:27,  7.16it/s]"
          ]
        },
        {
          "output_type": "stream",
          "name": "stderr",
          "text": [
            "\rPredicting (Model 2):  70%|\u2588\u2588\u2588\u2588\u2588\u2588\u2588   | 470/667 [01:05<00:27,  7.15it/s]"
          ]
        },
        {
          "output_type": "stream",
          "name": "stderr",
          "text": [
            "\rPredicting (Model 2):  71%|\u2588\u2588\u2588\u2588\u2588\u2588\u2588   | 471/667 [01:05<00:27,  7.15it/s]"
          ]
        },
        {
          "output_type": "stream",
          "name": "stderr",
          "text": [
            "\rPredicting (Model 2):  71%|\u2588\u2588\u2588\u2588\u2588\u2588\u2588   | 472/667 [01:06<00:27,  7.16it/s]"
          ]
        },
        {
          "output_type": "stream",
          "name": "stderr",
          "text": [
            "\rPredicting (Model 2):  71%|\u2588\u2588\u2588\u2588\u2588\u2588\u2588   | 473/667 [01:06<00:27,  7.18it/s]"
          ]
        },
        {
          "output_type": "stream",
          "name": "stderr",
          "text": [
            "\rPredicting (Model 2):  71%|\u2588\u2588\u2588\u2588\u2588\u2588\u2588   | 474/667 [01:06<00:26,  7.18it/s]"
          ]
        },
        {
          "output_type": "stream",
          "name": "stderr",
          "text": [
            "\rPredicting (Model 2):  71%|\u2588\u2588\u2588\u2588\u2588\u2588\u2588   | 475/667 [01:06<00:26,  7.19it/s]"
          ]
        },
        {
          "output_type": "stream",
          "name": "stderr",
          "text": [
            "\rPredicting (Model 2):  71%|\u2588\u2588\u2588\u2588\u2588\u2588\u2588\u258f  | 476/667 [01:06<00:26,  7.19it/s]"
          ]
        },
        {
          "output_type": "stream",
          "name": "stderr",
          "text": [
            "\rPredicting (Model 2):  72%|\u2588\u2588\u2588\u2588\u2588\u2588\u2588\u258f  | 477/667 [01:06<00:26,  7.19it/s]"
          ]
        },
        {
          "output_type": "stream",
          "name": "stderr",
          "text": [
            "\rPredicting (Model 2):  72%|\u2588\u2588\u2588\u2588\u2588\u2588\u2588\u258f  | 478/667 [01:06<00:26,  7.18it/s]"
          ]
        },
        {
          "output_type": "stream",
          "name": "stderr",
          "text": [
            "\rPredicting (Model 2):  72%|\u2588\u2588\u2588\u2588\u2588\u2588\u2588\u258f  | 479/667 [01:07<00:26,  7.20it/s]"
          ]
        },
        {
          "output_type": "stream",
          "name": "stderr",
          "text": [
            "\rPredicting (Model 2):  72%|\u2588\u2588\u2588\u2588\u2588\u2588\u2588\u258f  | 480/667 [01:07<00:25,  7.21it/s]"
          ]
        },
        {
          "output_type": "stream",
          "name": "stderr",
          "text": [
            "\rPredicting (Model 2):  72%|\u2588\u2588\u2588\u2588\u2588\u2588\u2588\u258f  | 481/667 [01:07<00:25,  7.19it/s]"
          ]
        },
        {
          "output_type": "stream",
          "name": "stderr",
          "text": [
            "\rPredicting (Model 2):  72%|\u2588\u2588\u2588\u2588\u2588\u2588\u2588\u258f  | 482/667 [01:07<00:25,  7.17it/s]"
          ]
        },
        {
          "output_type": "stream",
          "name": "stderr",
          "text": [
            "\rPredicting (Model 2):  72%|\u2588\u2588\u2588\u2588\u2588\u2588\u2588\u258f  | 483/667 [01:07<00:25,  7.19it/s]"
          ]
        },
        {
          "output_type": "stream",
          "name": "stderr",
          "text": [
            "\rPredicting (Model 2):  73%|\u2588\u2588\u2588\u2588\u2588\u2588\u2588\u258e  | 484/667 [01:07<00:25,  7.19it/s]"
          ]
        },
        {
          "output_type": "stream",
          "name": "stderr",
          "text": [
            "\rPredicting (Model 2):  73%|\u2588\u2588\u2588\u2588\u2588\u2588\u2588\u258e  | 485/667 [01:07<00:25,  7.16it/s]"
          ]
        },
        {
          "output_type": "stream",
          "name": "stderr",
          "text": [
            "\rPredicting (Model 2):  73%|\u2588\u2588\u2588\u2588\u2588\u2588\u2588\u258e  | 486/667 [01:08<00:25,  7.14it/s]"
          ]
        },
        {
          "output_type": "stream",
          "name": "stderr",
          "text": [
            "\rPredicting (Model 2):  73%|\u2588\u2588\u2588\u2588\u2588\u2588\u2588\u258e  | 487/667 [01:08<00:25,  7.17it/s]"
          ]
        },
        {
          "output_type": "stream",
          "name": "stderr",
          "text": [
            "\rPredicting (Model 2):  73%|\u2588\u2588\u2588\u2588\u2588\u2588\u2588\u258e  | 488/667 [01:08<00:24,  7.17it/s]"
          ]
        },
        {
          "output_type": "stream",
          "name": "stderr",
          "text": [
            "\rPredicting (Model 2):  73%|\u2588\u2588\u2588\u2588\u2588\u2588\u2588\u258e  | 489/667 [01:08<00:24,  7.17it/s]"
          ]
        },
        {
          "output_type": "stream",
          "name": "stderr",
          "text": [
            "\rPredicting (Model 2):  73%|\u2588\u2588\u2588\u2588\u2588\u2588\u2588\u258e  | 490/667 [01:08<00:24,  7.16it/s]"
          ]
        },
        {
          "output_type": "stream",
          "name": "stderr",
          "text": [
            "\rPredicting (Model 2):  74%|\u2588\u2588\u2588\u2588\u2588\u2588\u2588\u258e  | 491/667 [01:08<00:24,  7.16it/s]"
          ]
        },
        {
          "output_type": "stream",
          "name": "stderr",
          "text": [
            "\rPredicting (Model 2):  74%|\u2588\u2588\u2588\u2588\u2588\u2588\u2588\u258d  | 492/667 [01:08<00:24,  7.18it/s]"
          ]
        },
        {
          "output_type": "stream",
          "name": "stderr",
          "text": [
            "\rPredicting (Model 2):  74%|\u2588\u2588\u2588\u2588\u2588\u2588\u2588\u258d  | 493/667 [01:09<00:24,  7.18it/s]"
          ]
        },
        {
          "output_type": "stream",
          "name": "stderr",
          "text": [
            "\rPredicting (Model 2):  74%|\u2588\u2588\u2588\u2588\u2588\u2588\u2588\u258d  | 494/667 [01:09<00:24,  7.15it/s]"
          ]
        },
        {
          "output_type": "stream",
          "name": "stderr",
          "text": [
            "\rPredicting (Model 2):  74%|\u2588\u2588\u2588\u2588\u2588\u2588\u2588\u258d  | 495/667 [01:09<00:24,  7.16it/s]"
          ]
        },
        {
          "output_type": "stream",
          "name": "stderr",
          "text": [
            "\rPredicting (Model 2):  74%|\u2588\u2588\u2588\u2588\u2588\u2588\u2588\u258d  | 496/667 [01:09<00:23,  7.15it/s]"
          ]
        },
        {
          "output_type": "stream",
          "name": "stderr",
          "text": [
            "\rPredicting (Model 2):  75%|\u2588\u2588\u2588\u2588\u2588\u2588\u2588\u258d  | 497/667 [01:09<00:23,  7.15it/s]"
          ]
        },
        {
          "output_type": "stream",
          "name": "stderr",
          "text": [
            "\rPredicting (Model 2):  75%|\u2588\u2588\u2588\u2588\u2588\u2588\u2588\u258d  | 498/667 [01:09<00:23,  7.11it/s]"
          ]
        },
        {
          "output_type": "stream",
          "name": "stderr",
          "text": [
            "\rPredicting (Model 2):  75%|\u2588\u2588\u2588\u2588\u2588\u2588\u2588\u258d  | 499/667 [01:09<00:23,  7.11it/s]"
          ]
        },
        {
          "output_type": "stream",
          "name": "stderr",
          "text": [
            "\rPredicting (Model 2):  75%|\u2588\u2588\u2588\u2588\u2588\u2588\u2588\u258d  | 500/667 [01:10<00:23,  7.13it/s]"
          ]
        },
        {
          "output_type": "stream",
          "name": "stderr",
          "text": [
            "\rPredicting (Model 2):  75%|\u2588\u2588\u2588\u2588\u2588\u2588\u2588\u258c  | 501/667 [01:10<00:23,  7.11it/s]"
          ]
        },
        {
          "output_type": "stream",
          "name": "stderr",
          "text": [
            "\rPredicting (Model 2):  75%|\u2588\u2588\u2588\u2588\u2588\u2588\u2588\u258c  | 502/667 [01:10<00:23,  7.13it/s]"
          ]
        },
        {
          "output_type": "stream",
          "name": "stderr",
          "text": [
            "\rPredicting (Model 2):  75%|\u2588\u2588\u2588\u2588\u2588\u2588\u2588\u258c  | 503/667 [01:10<00:22,  7.16it/s]"
          ]
        },
        {
          "output_type": "stream",
          "name": "stderr",
          "text": [
            "\rPredicting (Model 2):  76%|\u2588\u2588\u2588\u2588\u2588\u2588\u2588\u258c  | 504/667 [01:10<00:22,  7.17it/s]"
          ]
        },
        {
          "output_type": "stream",
          "name": "stderr",
          "text": [
            "\rPredicting (Model 2):  76%|\u2588\u2588\u2588\u2588\u2588\u2588\u2588\u258c  | 505/667 [01:10<00:22,  7.15it/s]"
          ]
        },
        {
          "output_type": "stream",
          "name": "stderr",
          "text": [
            "\rPredicting (Model 2):  76%|\u2588\u2588\u2588\u2588\u2588\u2588\u2588\u258c  | 506/667 [01:10<00:22,  7.14it/s]"
          ]
        },
        {
          "output_type": "stream",
          "name": "stderr",
          "text": [
            "\rPredicting (Model 2):  76%|\u2588\u2588\u2588\u2588\u2588\u2588\u2588\u258c  | 507/667 [01:11<00:22,  7.15it/s]"
          ]
        },
        {
          "output_type": "stream",
          "name": "stderr",
          "text": [
            "\rPredicting (Model 2):  76%|\u2588\u2588\u2588\u2588\u2588\u2588\u2588\u258c  | 508/667 [01:11<00:22,  7.15it/s]"
          ]
        },
        {
          "output_type": "stream",
          "name": "stderr",
          "text": [
            "\rPredicting (Model 2):  76%|\u2588\u2588\u2588\u2588\u2588\u2588\u2588\u258b  | 509/667 [01:11<00:22,  7.16it/s]"
          ]
        },
        {
          "output_type": "stream",
          "name": "stderr",
          "text": [
            "\rPredicting (Model 2):  76%|\u2588\u2588\u2588\u2588\u2588\u2588\u2588\u258b  | 510/667 [01:11<00:21,  7.14it/s]"
          ]
        },
        {
          "output_type": "stream",
          "name": "stderr",
          "text": [
            "\rPredicting (Model 2):  77%|\u2588\u2588\u2588\u2588\u2588\u2588\u2588\u258b  | 511/667 [01:11<00:21,  7.17it/s]"
          ]
        },
        {
          "output_type": "stream",
          "name": "stderr",
          "text": [
            "\rPredicting (Model 2):  77%|\u2588\u2588\u2588\u2588\u2588\u2588\u2588\u258b  | 512/667 [01:11<00:21,  7.19it/s]"
          ]
        },
        {
          "output_type": "stream",
          "name": "stderr",
          "text": [
            "\rPredicting (Model 2):  77%|\u2588\u2588\u2588\u2588\u2588\u2588\u2588\u258b  | 513/667 [01:11<00:21,  7.19it/s]"
          ]
        },
        {
          "output_type": "stream",
          "name": "stderr",
          "text": [
            "\rPredicting (Model 2):  77%|\u2588\u2588\u2588\u2588\u2588\u2588\u2588\u258b  | 514/667 [01:11<00:21,  7.19it/s]"
          ]
        },
        {
          "output_type": "stream",
          "name": "stderr",
          "text": [
            "\rPredicting (Model 2):  77%|\u2588\u2588\u2588\u2588\u2588\u2588\u2588\u258b  | 515/667 [01:12<00:21,  7.20it/s]"
          ]
        },
        {
          "output_type": "stream",
          "name": "stderr",
          "text": [
            "\rPredicting (Model 2):  77%|\u2588\u2588\u2588\u2588\u2588\u2588\u2588\u258b  | 516/667 [01:12<00:20,  7.20it/s]"
          ]
        },
        {
          "output_type": "stream",
          "name": "stderr",
          "text": [
            "\rPredicting (Model 2):  78%|\u2588\u2588\u2588\u2588\u2588\u2588\u2588\u258a  | 517/667 [01:12<00:20,  7.20it/s]"
          ]
        },
        {
          "output_type": "stream",
          "name": "stderr",
          "text": [
            "\rPredicting (Model 2):  78%|\u2588\u2588\u2588\u2588\u2588\u2588\u2588\u258a  | 518/667 [01:12<00:20,  7.20it/s]"
          ]
        },
        {
          "output_type": "stream",
          "name": "stderr",
          "text": [
            "\rPredicting (Model 2):  78%|\u2588\u2588\u2588\u2588\u2588\u2588\u2588\u258a  | 519/667 [01:12<00:20,  7.21it/s]"
          ]
        },
        {
          "output_type": "stream",
          "name": "stderr",
          "text": [
            "\rPredicting (Model 2):  78%|\u2588\u2588\u2588\u2588\u2588\u2588\u2588\u258a  | 520/667 [01:12<00:20,  7.21it/s]"
          ]
        },
        {
          "output_type": "stream",
          "name": "stderr",
          "text": [
            "\rPredicting (Model 2):  78%|\u2588\u2588\u2588\u2588\u2588\u2588\u2588\u258a  | 521/667 [01:12<00:20,  7.18it/s]"
          ]
        },
        {
          "output_type": "stream",
          "name": "stderr",
          "text": [
            "\rPredicting (Model 2):  78%|\u2588\u2588\u2588\u2588\u2588\u2588\u2588\u258a  | 522/667 [01:13<00:20,  7.17it/s]"
          ]
        },
        {
          "output_type": "stream",
          "name": "stderr",
          "text": [
            "\rPredicting (Model 2):  78%|\u2588\u2588\u2588\u2588\u2588\u2588\u2588\u258a  | 523/667 [01:13<00:20,  7.18it/s]"
          ]
        },
        {
          "output_type": "stream",
          "name": "stderr",
          "text": [
            "\rPredicting (Model 2):  79%|\u2588\u2588\u2588\u2588\u2588\u2588\u2588\u258a  | 524/667 [01:13<00:19,  7.18it/s]"
          ]
        },
        {
          "output_type": "stream",
          "name": "stderr",
          "text": [
            "\rPredicting (Model 2):  79%|\u2588\u2588\u2588\u2588\u2588\u2588\u2588\u258a  | 525/667 [01:13<00:19,  7.16it/s]"
          ]
        },
        {
          "output_type": "stream",
          "name": "stderr",
          "text": [
            "\rPredicting (Model 2):  79%|\u2588\u2588\u2588\u2588\u2588\u2588\u2588\u2589  | 526/667 [01:13<00:19,  7.16it/s]"
          ]
        },
        {
          "output_type": "stream",
          "name": "stderr",
          "text": [
            "\rPredicting (Model 2):  79%|\u2588\u2588\u2588\u2588\u2588\u2588\u2588\u2589  | 527/667 [01:13<00:19,  7.19it/s]"
          ]
        },
        {
          "output_type": "stream",
          "name": "stderr",
          "text": [
            "\rPredicting (Model 2):  79%|\u2588\u2588\u2588\u2588\u2588\u2588\u2588\u2589  | 528/667 [01:13<00:19,  7.18it/s]"
          ]
        },
        {
          "output_type": "stream",
          "name": "stderr",
          "text": [
            "\rPredicting (Model 2):  79%|\u2588\u2588\u2588\u2588\u2588\u2588\u2588\u2589  | 529/667 [01:14<00:19,  7.17it/s]"
          ]
        },
        {
          "output_type": "stream",
          "name": "stderr",
          "text": [
            "\rPredicting (Model 2):  79%|\u2588\u2588\u2588\u2588\u2588\u2588\u2588\u2589  | 530/667 [01:14<00:19,  7.14it/s]"
          ]
        },
        {
          "output_type": "stream",
          "name": "stderr",
          "text": [
            "\rPredicting (Model 2):  80%|\u2588\u2588\u2588\u2588\u2588\u2588\u2588\u2589  | 531/667 [01:14<00:18,  7.17it/s]"
          ]
        },
        {
          "output_type": "stream",
          "name": "stderr",
          "text": [
            "\rPredicting (Model 2):  80%|\u2588\u2588\u2588\u2588\u2588\u2588\u2588\u2589  | 532/667 [01:14<00:18,  7.15it/s]"
          ]
        },
        {
          "output_type": "stream",
          "name": "stderr",
          "text": [
            "\rPredicting (Model 2):  80%|\u2588\u2588\u2588\u2588\u2588\u2588\u2588\u2589  | 533/667 [01:14<00:18,  7.16it/s]"
          ]
        },
        {
          "output_type": "stream",
          "name": "stderr",
          "text": [
            "\rPredicting (Model 2):  80%|\u2588\u2588\u2588\u2588\u2588\u2588\u2588\u2588  | 534/667 [01:14<00:18,  7.13it/s]"
          ]
        },
        {
          "output_type": "stream",
          "name": "stderr",
          "text": [
            "\rPredicting (Model 2):  80%|\u2588\u2588\u2588\u2588\u2588\u2588\u2588\u2588  | 535/667 [01:14<00:18,  7.15it/s]"
          ]
        },
        {
          "output_type": "stream",
          "name": "stderr",
          "text": [
            "\rPredicting (Model 2):  80%|\u2588\u2588\u2588\u2588\u2588\u2588\u2588\u2588  | 536/667 [01:15<00:18,  7.16it/s]"
          ]
        },
        {
          "output_type": "stream",
          "name": "stderr",
          "text": [
            "\rPredicting (Model 2):  81%|\u2588\u2588\u2588\u2588\u2588\u2588\u2588\u2588  | 537/667 [01:15<00:18,  7.16it/s]"
          ]
        },
        {
          "output_type": "stream",
          "name": "stderr",
          "text": [
            "\rPredicting (Model 2):  81%|\u2588\u2588\u2588\u2588\u2588\u2588\u2588\u2588  | 538/667 [01:15<00:17,  7.17it/s]"
          ]
        },
        {
          "output_type": "stream",
          "name": "stderr",
          "text": [
            "\rPredicting (Model 2):  81%|\u2588\u2588\u2588\u2588\u2588\u2588\u2588\u2588  | 539/667 [01:15<00:17,  7.18it/s]"
          ]
        },
        {
          "output_type": "stream",
          "name": "stderr",
          "text": [
            "\rPredicting (Model 2):  81%|\u2588\u2588\u2588\u2588\u2588\u2588\u2588\u2588  | 540/667 [01:15<00:17,  7.18it/s]"
          ]
        },
        {
          "output_type": "stream",
          "name": "stderr",
          "text": [
            "\rPredicting (Model 2):  81%|\u2588\u2588\u2588\u2588\u2588\u2588\u2588\u2588  | 541/667 [01:15<00:17,  7.18it/s]"
          ]
        },
        {
          "output_type": "stream",
          "name": "stderr",
          "text": [
            "\rPredicting (Model 2):  81%|\u2588\u2588\u2588\u2588\u2588\u2588\u2588\u2588\u258f | 542/667 [01:15<00:17,  7.18it/s]"
          ]
        },
        {
          "output_type": "stream",
          "name": "stderr",
          "text": [
            "\rPredicting (Model 2):  81%|\u2588\u2588\u2588\u2588\u2588\u2588\u2588\u2588\u258f | 543/667 [01:16<00:17,  7.18it/s]"
          ]
        },
        {
          "output_type": "stream",
          "name": "stderr",
          "text": [
            "\rPredicting (Model 2):  82%|\u2588\u2588\u2588\u2588\u2588\u2588\u2588\u2588\u258f | 544/667 [01:16<00:17,  7.19it/s]"
          ]
        },
        {
          "output_type": "stream",
          "name": "stderr",
          "text": [
            "\rPredicting (Model 2):  82%|\u2588\u2588\u2588\u2588\u2588\u2588\u2588\u2588\u258f | 545/667 [01:16<00:16,  7.19it/s]"
          ]
        },
        {
          "output_type": "stream",
          "name": "stderr",
          "text": [
            "\rPredicting (Model 2):  82%|\u2588\u2588\u2588\u2588\u2588\u2588\u2588\u2588\u258f | 546/667 [01:16<00:16,  7.20it/s]"
          ]
        },
        {
          "output_type": "stream",
          "name": "stderr",
          "text": [
            "\rPredicting (Model 2):  82%|\u2588\u2588\u2588\u2588\u2588\u2588\u2588\u2588\u258f | 547/667 [01:16<00:16,  7.21it/s]"
          ]
        },
        {
          "output_type": "stream",
          "name": "stderr",
          "text": [
            "\rPredicting (Model 2):  82%|\u2588\u2588\u2588\u2588\u2588\u2588\u2588\u2588\u258f | 548/667 [01:16<00:16,  7.21it/s]"
          ]
        },
        {
          "output_type": "stream",
          "name": "stderr",
          "text": [
            "\rPredicting (Model 2):  82%|\u2588\u2588\u2588\u2588\u2588\u2588\u2588\u2588\u258f | 549/667 [01:16<00:16,  7.22it/s]"
          ]
        },
        {
          "output_type": "stream",
          "name": "stderr",
          "text": [
            "\rPredicting (Model 2):  82%|\u2588\u2588\u2588\u2588\u2588\u2588\u2588\u2588\u258f | 550/667 [01:16<00:16,  7.20it/s]"
          ]
        },
        {
          "output_type": "stream",
          "name": "stderr",
          "text": [
            "\rPredicting (Model 2):  83%|\u2588\u2588\u2588\u2588\u2588\u2588\u2588\u2588\u258e | 551/667 [01:17<00:16,  7.19it/s]"
          ]
        },
        {
          "output_type": "stream",
          "name": "stderr",
          "text": [
            "\rPredicting (Model 2):  83%|\u2588\u2588\u2588\u2588\u2588\u2588\u2588\u2588\u258e | 552/667 [01:17<00:15,  7.19it/s]"
          ]
        },
        {
          "output_type": "stream",
          "name": "stderr",
          "text": [
            "\rPredicting (Model 2):  83%|\u2588\u2588\u2588\u2588\u2588\u2588\u2588\u2588\u258e | 553/667 [01:17<00:15,  7.20it/s]"
          ]
        },
        {
          "output_type": "stream",
          "name": "stderr",
          "text": [
            "\rPredicting (Model 2):  83%|\u2588\u2588\u2588\u2588\u2588\u2588\u2588\u2588\u258e | 554/667 [01:17<00:15,  7.20it/s]"
          ]
        },
        {
          "output_type": "stream",
          "name": "stderr",
          "text": [
            "\rPredicting (Model 2):  83%|\u2588\u2588\u2588\u2588\u2588\u2588\u2588\u2588\u258e | 555/667 [01:17<00:15,  7.21it/s]"
          ]
        },
        {
          "output_type": "stream",
          "name": "stderr",
          "text": [
            "\rPredicting (Model 2):  83%|\u2588\u2588\u2588\u2588\u2588\u2588\u2588\u2588\u258e | 556/667 [01:17<00:15,  7.19it/s]"
          ]
        },
        {
          "output_type": "stream",
          "name": "stderr",
          "text": [
            "\rPredicting (Model 2):  84%|\u2588\u2588\u2588\u2588\u2588\u2588\u2588\u2588\u258e | 557/667 [01:17<00:15,  7.19it/s]"
          ]
        },
        {
          "output_type": "stream",
          "name": "stderr",
          "text": [
            "\rPredicting (Model 2):  84%|\u2588\u2588\u2588\u2588\u2588\u2588\u2588\u2588\u258e | 558/667 [01:18<00:15,  7.17it/s]"
          ]
        },
        {
          "output_type": "stream",
          "name": "stderr",
          "text": [
            "\rPredicting (Model 2):  84%|\u2588\u2588\u2588\u2588\u2588\u2588\u2588\u2588\u258d | 559/667 [01:18<00:15,  7.17it/s]"
          ]
        },
        {
          "output_type": "stream",
          "name": "stderr",
          "text": [
            "\rPredicting (Model 2):  84%|\u2588\u2588\u2588\u2588\u2588\u2588\u2588\u2588\u258d | 560/667 [01:18<00:14,  7.18it/s]"
          ]
        },
        {
          "output_type": "stream",
          "name": "stderr",
          "text": [
            "\rPredicting (Model 2):  84%|\u2588\u2588\u2588\u2588\u2588\u2588\u2588\u2588\u258d | 561/667 [01:18<00:14,  7.19it/s]"
          ]
        },
        {
          "output_type": "stream",
          "name": "stderr",
          "text": [
            "\rPredicting (Model 2):  84%|\u2588\u2588\u2588\u2588\u2588\u2588\u2588\u2588\u258d | 562/667 [01:18<00:14,  7.18it/s]"
          ]
        },
        {
          "output_type": "stream",
          "name": "stderr",
          "text": [
            "\rPredicting (Model 2):  84%|\u2588\u2588\u2588\u2588\u2588\u2588\u2588\u2588\u258d | 563/667 [01:18<00:14,  7.19it/s]"
          ]
        },
        {
          "output_type": "stream",
          "name": "stderr",
          "text": [
            "\rPredicting (Model 2):  85%|\u2588\u2588\u2588\u2588\u2588\u2588\u2588\u2588\u258d | 564/667 [01:18<00:14,  7.19it/s]"
          ]
        },
        {
          "output_type": "stream",
          "name": "stderr",
          "text": [
            "\rPredicting (Model 2):  85%|\u2588\u2588\u2588\u2588\u2588\u2588\u2588\u2588\u258d | 565/667 [01:19<00:14,  7.19it/s]"
          ]
        },
        {
          "output_type": "stream",
          "name": "stderr",
          "text": [
            "\rPredicting (Model 2):  85%|\u2588\u2588\u2588\u2588\u2588\u2588\u2588\u2588\u258d | 566/667 [01:19<00:14,  7.17it/s]"
          ]
        },
        {
          "output_type": "stream",
          "name": "stderr",
          "text": [
            "\rPredicting (Model 2):  85%|\u2588\u2588\u2588\u2588\u2588\u2588\u2588\u2588\u258c | 567/667 [01:19<00:13,  7.18it/s]"
          ]
        },
        {
          "output_type": "stream",
          "name": "stderr",
          "text": [
            "\rPredicting (Model 2):  85%|\u2588\u2588\u2588\u2588\u2588\u2588\u2588\u2588\u258c | 568/667 [01:19<00:13,  7.18it/s]"
          ]
        },
        {
          "output_type": "stream",
          "name": "stderr",
          "text": [
            "\rPredicting (Model 2):  85%|\u2588\u2588\u2588\u2588\u2588\u2588\u2588\u2588\u258c | 569/667 [01:19<00:13,  7.18it/s]"
          ]
        },
        {
          "output_type": "stream",
          "name": "stderr",
          "text": [
            "\rPredicting (Model 2):  85%|\u2588\u2588\u2588\u2588\u2588\u2588\u2588\u2588\u258c | 570/667 [01:19<00:13,  7.17it/s]"
          ]
        },
        {
          "output_type": "stream",
          "name": "stderr",
          "text": [
            "\rPredicting (Model 2):  86%|\u2588\u2588\u2588\u2588\u2588\u2588\u2588\u2588\u258c | 571/667 [01:19<00:13,  7.16it/s]"
          ]
        },
        {
          "output_type": "stream",
          "name": "stderr",
          "text": [
            "\rPredicting (Model 2):  86%|\u2588\u2588\u2588\u2588\u2588\u2588\u2588\u2588\u258c | 572/667 [01:20<00:13,  7.16it/s]"
          ]
        },
        {
          "output_type": "stream",
          "name": "stderr",
          "text": [
            "\rPredicting (Model 2):  86%|\u2588\u2588\u2588\u2588\u2588\u2588\u2588\u2588\u258c | 573/667 [01:20<00:13,  7.14it/s]"
          ]
        },
        {
          "output_type": "stream",
          "name": "stderr",
          "text": [
            "\rPredicting (Model 2):  86%|\u2588\u2588\u2588\u2588\u2588\u2588\u2588\u2588\u258c | 574/667 [01:20<00:13,  7.13it/s]"
          ]
        },
        {
          "output_type": "stream",
          "name": "stderr",
          "text": [
            "\rPredicting (Model 2):  86%|\u2588\u2588\u2588\u2588\u2588\u2588\u2588\u2588\u258c | 575/667 [01:20<00:12,  7.15it/s]"
          ]
        },
        {
          "output_type": "stream",
          "name": "stderr",
          "text": [
            "\rPredicting (Model 2):  86%|\u2588\u2588\u2588\u2588\u2588\u2588\u2588\u2588\u258b | 576/667 [01:20<00:12,  7.16it/s]"
          ]
        },
        {
          "output_type": "stream",
          "name": "stderr",
          "text": [
            "\rPredicting (Model 2):  87%|\u2588\u2588\u2588\u2588\u2588\u2588\u2588\u2588\u258b | 577/667 [01:20<00:12,  7.14it/s]"
          ]
        },
        {
          "output_type": "stream",
          "name": "stderr",
          "text": [
            "\rPredicting (Model 2):  87%|\u2588\u2588\u2588\u2588\u2588\u2588\u2588\u2588\u258b | 578/667 [01:20<00:12,  7.14it/s]"
          ]
        },
        {
          "output_type": "stream",
          "name": "stderr",
          "text": [
            "\rPredicting (Model 2):  87%|\u2588\u2588\u2588\u2588\u2588\u2588\u2588\u2588\u258b | 579/667 [01:21<00:12,  7.15it/s]"
          ]
        },
        {
          "output_type": "stream",
          "name": "stderr",
          "text": [
            "\rPredicting (Model 2):  87%|\u2588\u2588\u2588\u2588\u2588\u2588\u2588\u2588\u258b | 580/667 [01:21<00:12,  7.16it/s]"
          ]
        },
        {
          "output_type": "stream",
          "name": "stderr",
          "text": [
            "\rPredicting (Model 2):  87%|\u2588\u2588\u2588\u2588\u2588\u2588\u2588\u2588\u258b | 581/667 [01:21<00:12,  7.16it/s]"
          ]
        },
        {
          "output_type": "stream",
          "name": "stderr",
          "text": [
            "\rPredicting (Model 2):  87%|\u2588\u2588\u2588\u2588\u2588\u2588\u2588\u2588\u258b | 582/667 [01:21<00:11,  7.10it/s]"
          ]
        },
        {
          "output_type": "stream",
          "name": "stderr",
          "text": [
            "\rPredicting (Model 2):  87%|\u2588\u2588\u2588\u2588\u2588\u2588\u2588\u2588\u258b | 583/667 [01:21<00:11,  7.13it/s]"
          ]
        },
        {
          "output_type": "stream",
          "name": "stderr",
          "text": [
            "\rPredicting (Model 2):  88%|\u2588\u2588\u2588\u2588\u2588\u2588\u2588\u2588\u258a | 584/667 [01:21<00:11,  7.14it/s]"
          ]
        },
        {
          "output_type": "stream",
          "name": "stderr",
          "text": [
            "\rPredicting (Model 2):  88%|\u2588\u2588\u2588\u2588\u2588\u2588\u2588\u2588\u258a | 585/667 [01:21<00:11,  7.15it/s]"
          ]
        },
        {
          "output_type": "stream",
          "name": "stderr",
          "text": [
            "\rPredicting (Model 2):  88%|\u2588\u2588\u2588\u2588\u2588\u2588\u2588\u2588\u258a | 586/667 [01:22<00:11,  7.14it/s]"
          ]
        },
        {
          "output_type": "stream",
          "name": "stderr",
          "text": [
            "\rPredicting (Model 2):  88%|\u2588\u2588\u2588\u2588\u2588\u2588\u2588\u2588\u258a | 587/667 [01:22<00:11,  7.15it/s]"
          ]
        },
        {
          "output_type": "stream",
          "name": "stderr",
          "text": [
            "\rPredicting (Model 2):  88%|\u2588\u2588\u2588\u2588\u2588\u2588\u2588\u2588\u258a | 588/667 [01:22<00:11,  7.17it/s]"
          ]
        },
        {
          "output_type": "stream",
          "name": "stderr",
          "text": [
            "\rPredicting (Model 2):  88%|\u2588\u2588\u2588\u2588\u2588\u2588\u2588\u2588\u258a | 589/667 [01:22<00:10,  7.15it/s]"
          ]
        },
        {
          "output_type": "stream",
          "name": "stderr",
          "text": [
            "\rPredicting (Model 2):  88%|\u2588\u2588\u2588\u2588\u2588\u2588\u2588\u2588\u258a | 590/667 [01:22<00:10,  7.14it/s]"
          ]
        },
        {
          "output_type": "stream",
          "name": "stderr",
          "text": [
            "\rPredicting (Model 2):  89%|\u2588\u2588\u2588\u2588\u2588\u2588\u2588\u2588\u258a | 591/667 [01:22<00:10,  7.17it/s]"
          ]
        },
        {
          "output_type": "stream",
          "name": "stderr",
          "text": [
            "\rPredicting (Model 2):  89%|\u2588\u2588\u2588\u2588\u2588\u2588\u2588\u2588\u2589 | 592/667 [01:22<00:10,  7.18it/s]"
          ]
        },
        {
          "output_type": "stream",
          "name": "stderr",
          "text": [
            "\rPredicting (Model 2):  89%|\u2588\u2588\u2588\u2588\u2588\u2588\u2588\u2588\u2589 | 593/667 [01:22<00:10,  7.16it/s]"
          ]
        },
        {
          "output_type": "stream",
          "name": "stderr",
          "text": [
            "\rPredicting (Model 2):  89%|\u2588\u2588\u2588\u2588\u2588\u2588\u2588\u2588\u2589 | 594/667 [01:23<00:10,  7.13it/s]"
          ]
        },
        {
          "output_type": "stream",
          "name": "stderr",
          "text": [
            "\rPredicting (Model 2):  89%|\u2588\u2588\u2588\u2588\u2588\u2588\u2588\u2588\u2589 | 595/667 [01:23<00:10,  7.15it/s]"
          ]
        },
        {
          "output_type": "stream",
          "name": "stderr",
          "text": [
            "\rPredicting (Model 2):  89%|\u2588\u2588\u2588\u2588\u2588\u2588\u2588\u2588\u2589 | 596/667 [01:23<00:09,  7.17it/s]"
          ]
        },
        {
          "output_type": "stream",
          "name": "stderr",
          "text": [
            "\rPredicting (Model 2):  90%|\u2588\u2588\u2588\u2588\u2588\u2588\u2588\u2588\u2589 | 597/667 [01:23<00:09,  7.17it/s]"
          ]
        },
        {
          "output_type": "stream",
          "name": "stderr",
          "text": [
            "\rPredicting (Model 2):  90%|\u2588\u2588\u2588\u2588\u2588\u2588\u2588\u2588\u2589 | 598/667 [01:23<00:09,  7.17it/s]"
          ]
        },
        {
          "output_type": "stream",
          "name": "stderr",
          "text": [
            "\rPredicting (Model 2):  90%|\u2588\u2588\u2588\u2588\u2588\u2588\u2588\u2588\u2589 | 599/667 [01:23<00:09,  7.19it/s]"
          ]
        },
        {
          "output_type": "stream",
          "name": "stderr",
          "text": [
            "\rPredicting (Model 2):  90%|\u2588\u2588\u2588\u2588\u2588\u2588\u2588\u2588\u2589 | 600/667 [01:23<00:09,  7.18it/s]"
          ]
        },
        {
          "output_type": "stream",
          "name": "stderr",
          "text": [
            "\rPredicting (Model 2):  90%|\u2588\u2588\u2588\u2588\u2588\u2588\u2588\u2588\u2588 | 601/667 [01:24<00:09,  7.17it/s]"
          ]
        },
        {
          "output_type": "stream",
          "name": "stderr",
          "text": [
            "\rPredicting (Model 2):  90%|\u2588\u2588\u2588\u2588\u2588\u2588\u2588\u2588\u2588 | 602/667 [01:24<00:09,  7.16it/s]"
          ]
        },
        {
          "output_type": "stream",
          "name": "stderr",
          "text": [
            "\rPredicting (Model 2):  90%|\u2588\u2588\u2588\u2588\u2588\u2588\u2588\u2588\u2588 | 603/667 [01:24<00:08,  7.16it/s]"
          ]
        },
        {
          "output_type": "stream",
          "name": "stderr",
          "text": [
            "\rPredicting (Model 2):  91%|\u2588\u2588\u2588\u2588\u2588\u2588\u2588\u2588\u2588 | 604/667 [01:24<00:08,  7.17it/s]"
          ]
        },
        {
          "output_type": "stream",
          "name": "stderr",
          "text": [
            "\rPredicting (Model 2):  91%|\u2588\u2588\u2588\u2588\u2588\u2588\u2588\u2588\u2588 | 605/667 [01:24<00:08,  7.17it/s]"
          ]
        },
        {
          "output_type": "stream",
          "name": "stderr",
          "text": [
            "\rPredicting (Model 2):  91%|\u2588\u2588\u2588\u2588\u2588\u2588\u2588\u2588\u2588 | 606/667 [01:24<00:08,  7.16it/s]"
          ]
        },
        {
          "output_type": "stream",
          "name": "stderr",
          "text": [
            "\rPredicting (Model 2):  91%|\u2588\u2588\u2588\u2588\u2588\u2588\u2588\u2588\u2588 | 607/667 [01:24<00:08,  7.16it/s]"
          ]
        },
        {
          "output_type": "stream",
          "name": "stderr",
          "text": [
            "\rPredicting (Model 2):  91%|\u2588\u2588\u2588\u2588\u2588\u2588\u2588\u2588\u2588 | 608/667 [01:25<00:08,  7.15it/s]"
          ]
        },
        {
          "output_type": "stream",
          "name": "stderr",
          "text": [
            "\rPredicting (Model 2):  91%|\u2588\u2588\u2588\u2588\u2588\u2588\u2588\u2588\u2588\u258f| 609/667 [01:25<00:08,  7.16it/s]"
          ]
        },
        {
          "output_type": "stream",
          "name": "stderr",
          "text": [
            "\rPredicting (Model 2):  91%|\u2588\u2588\u2588\u2588\u2588\u2588\u2588\u2588\u2588\u258f| 610/667 [01:25<00:07,  7.14it/s]"
          ]
        },
        {
          "output_type": "stream",
          "name": "stderr",
          "text": [
            "\rPredicting (Model 2):  92%|\u2588\u2588\u2588\u2588\u2588\u2588\u2588\u2588\u2588\u258f| 611/667 [01:25<00:07,  7.15it/s]"
          ]
        },
        {
          "output_type": "stream",
          "name": "stderr",
          "text": [
            "\rPredicting (Model 2):  92%|\u2588\u2588\u2588\u2588\u2588\u2588\u2588\u2588\u2588\u258f| 612/667 [01:25<00:07,  7.15it/s]"
          ]
        },
        {
          "output_type": "stream",
          "name": "stderr",
          "text": [
            "\rPredicting (Model 2):  92%|\u2588\u2588\u2588\u2588\u2588\u2588\u2588\u2588\u2588\u258f| 613/667 [01:25<00:07,  7.16it/s]"
          ]
        },
        {
          "output_type": "stream",
          "name": "stderr",
          "text": [
            "\rPredicting (Model 2):  92%|\u2588\u2588\u2588\u2588\u2588\u2588\u2588\u2588\u2588\u258f| 614/667 [01:25<00:07,  7.16it/s]"
          ]
        },
        {
          "output_type": "stream",
          "name": "stderr",
          "text": [
            "\rPredicting (Model 2):  92%|\u2588\u2588\u2588\u2588\u2588\u2588\u2588\u2588\u2588\u258f| 615/667 [01:26<00:07,  7.19it/s]"
          ]
        },
        {
          "output_type": "stream",
          "name": "stderr",
          "text": [
            "\rPredicting (Model 2):  92%|\u2588\u2588\u2588\u2588\u2588\u2588\u2588\u2588\u2588\u258f| 616/667 [01:26<00:07,  7.18it/s]"
          ]
        },
        {
          "output_type": "stream",
          "name": "stderr",
          "text": [
            "\rPredicting (Model 2):  93%|\u2588\u2588\u2588\u2588\u2588\u2588\u2588\u2588\u2588\u258e| 617/667 [01:26<00:06,  7.18it/s]"
          ]
        },
        {
          "output_type": "stream",
          "name": "stderr",
          "text": [
            "\rPredicting (Model 2):  93%|\u2588\u2588\u2588\u2588\u2588\u2588\u2588\u2588\u2588\u258e| 618/667 [01:26<00:06,  7.15it/s]"
          ]
        },
        {
          "output_type": "stream",
          "name": "stderr",
          "text": [
            "\rPredicting (Model 2):  93%|\u2588\u2588\u2588\u2588\u2588\u2588\u2588\u2588\u2588\u258e| 619/667 [01:26<00:06,  7.17it/s]"
          ]
        },
        {
          "output_type": "stream",
          "name": "stderr",
          "text": [
            "\rPredicting (Model 2):  93%|\u2588\u2588\u2588\u2588\u2588\u2588\u2588\u2588\u2588\u258e| 620/667 [01:26<00:06,  7.16it/s]"
          ]
        },
        {
          "output_type": "stream",
          "name": "stderr",
          "text": [
            "\rPredicting (Model 2):  93%|\u2588\u2588\u2588\u2588\u2588\u2588\u2588\u2588\u2588\u258e| 621/667 [01:26<00:06,  7.15it/s]"
          ]
        },
        {
          "output_type": "stream",
          "name": "stderr",
          "text": [
            "\rPredicting (Model 2):  93%|\u2588\u2588\u2588\u2588\u2588\u2588\u2588\u2588\u2588\u258e| 622/667 [01:27<00:06,  7.14it/s]"
          ]
        },
        {
          "output_type": "stream",
          "name": "stderr",
          "text": [
            "\rPredicting (Model 2):  93%|\u2588\u2588\u2588\u2588\u2588\u2588\u2588\u2588\u2588\u258e| 623/667 [01:27<00:06,  7.16it/s]"
          ]
        },
        {
          "output_type": "stream",
          "name": "stderr",
          "text": [
            "\rPredicting (Model 2):  94%|\u2588\u2588\u2588\u2588\u2588\u2588\u2588\u2588\u2588\u258e| 624/667 [01:27<00:06,  7.16it/s]"
          ]
        },
        {
          "output_type": "stream",
          "name": "stderr",
          "text": [
            "\rPredicting (Model 2):  94%|\u2588\u2588\u2588\u2588\u2588\u2588\u2588\u2588\u2588\u258e| 625/667 [01:27<00:05,  7.16it/s]"
          ]
        },
        {
          "output_type": "stream",
          "name": "stderr",
          "text": [
            "\rPredicting (Model 2):  94%|\u2588\u2588\u2588\u2588\u2588\u2588\u2588\u2588\u2588\u258d| 626/667 [01:27<00:05,  7.14it/s]"
          ]
        },
        {
          "output_type": "stream",
          "name": "stderr",
          "text": [
            "\rPredicting (Model 2):  94%|\u2588\u2588\u2588\u2588\u2588\u2588\u2588\u2588\u2588\u258d| 627/667 [01:27<00:05,  7.16it/s]"
          ]
        },
        {
          "output_type": "stream",
          "name": "stderr",
          "text": [
            "\rPredicting (Model 2):  94%|\u2588\u2588\u2588\u2588\u2588\u2588\u2588\u2588\u2588\u258d| 628/667 [01:27<00:05,  7.16it/s]"
          ]
        },
        {
          "output_type": "stream",
          "name": "stderr",
          "text": [
            "\rPredicting (Model 2):  94%|\u2588\u2588\u2588\u2588\u2588\u2588\u2588\u2588\u2588\u258d| 629/667 [01:28<00:05,  7.15it/s]"
          ]
        },
        {
          "output_type": "stream",
          "name": "stderr",
          "text": [
            "\rPredicting (Model 2):  94%|\u2588\u2588\u2588\u2588\u2588\u2588\u2588\u2588\u2588\u258d| 630/667 [01:28<00:05,  7.14it/s]"
          ]
        },
        {
          "output_type": "stream",
          "name": "stderr",
          "text": [
            "\rPredicting (Model 2):  95%|\u2588\u2588\u2588\u2588\u2588\u2588\u2588\u2588\u2588\u258d| 631/667 [01:28<00:05,  7.16it/s]"
          ]
        },
        {
          "output_type": "stream",
          "name": "stderr",
          "text": [
            "\rPredicting (Model 2):  95%|\u2588\u2588\u2588\u2588\u2588\u2588\u2588\u2588\u2588\u258d| 632/667 [01:28<00:04,  7.15it/s]"
          ]
        },
        {
          "output_type": "stream",
          "name": "stderr",
          "text": [
            "\rPredicting (Model 2):  95%|\u2588\u2588\u2588\u2588\u2588\u2588\u2588\u2588\u2588\u258d| 633/667 [01:28<00:04,  7.15it/s]"
          ]
        },
        {
          "output_type": "stream",
          "name": "stderr",
          "text": [
            "\rPredicting (Model 2):  95%|\u2588\u2588\u2588\u2588\u2588\u2588\u2588\u2588\u2588\u258c| 634/667 [01:28<00:04,  7.13it/s]"
          ]
        },
        {
          "output_type": "stream",
          "name": "stderr",
          "text": [
            "\rPredicting (Model 2):  95%|\u2588\u2588\u2588\u2588\u2588\u2588\u2588\u2588\u2588\u258c| 635/667 [01:28<00:04,  7.14it/s]"
          ]
        },
        {
          "output_type": "stream",
          "name": "stderr",
          "text": [
            "\rPredicting (Model 2):  95%|\u2588\u2588\u2588\u2588\u2588\u2588\u2588\u2588\u2588\u258c| 636/667 [01:29<00:04,  7.13it/s]"
          ]
        },
        {
          "output_type": "stream",
          "name": "stderr",
          "text": [
            "\rPredicting (Model 2):  96%|\u2588\u2588\u2588\u2588\u2588\u2588\u2588\u2588\u2588\u258c| 637/667 [01:29<00:04,  7.14it/s]"
          ]
        },
        {
          "output_type": "stream",
          "name": "stderr",
          "text": [
            "\rPredicting (Model 2):  96%|\u2588\u2588\u2588\u2588\u2588\u2588\u2588\u2588\u2588\u258c| 638/667 [01:29<00:04,  7.14it/s]"
          ]
        },
        {
          "output_type": "stream",
          "name": "stderr",
          "text": [
            "\rPredicting (Model 2):  96%|\u2588\u2588\u2588\u2588\u2588\u2588\u2588\u2588\u2588\u258c| 639/667 [01:29<00:03,  7.16it/s]"
          ]
        },
        {
          "output_type": "stream",
          "name": "stderr",
          "text": [
            "\rPredicting (Model 2):  96%|\u2588\u2588\u2588\u2588\u2588\u2588\u2588\u2588\u2588\u258c| 640/667 [01:29<00:03,  7.17it/s]"
          ]
        },
        {
          "output_type": "stream",
          "name": "stderr",
          "text": [
            "\rPredicting (Model 2):  96%|\u2588\u2588\u2588\u2588\u2588\u2588\u2588\u2588\u2588\u258c| 641/667 [01:29<00:03,  7.17it/s]"
          ]
        },
        {
          "output_type": "stream",
          "name": "stderr",
          "text": [
            "\rPredicting (Model 2):  96%|\u2588\u2588\u2588\u2588\u2588\u2588\u2588\u2588\u2588\u258b| 642/667 [01:29<00:03,  7.15it/s]"
          ]
        },
        {
          "output_type": "stream",
          "name": "stderr",
          "text": [
            "\rPredicting (Model 2):  96%|\u2588\u2588\u2588\u2588\u2588\u2588\u2588\u2588\u2588\u258b| 643/667 [01:29<00:03,  7.14it/s]"
          ]
        },
        {
          "output_type": "stream",
          "name": "stderr",
          "text": [
            "\rPredicting (Model 2):  97%|\u2588\u2588\u2588\u2588\u2588\u2588\u2588\u2588\u2588\u258b| 644/667 [01:30<00:03,  7.14it/s]"
          ]
        },
        {
          "output_type": "stream",
          "name": "stderr",
          "text": [
            "\rPredicting (Model 2):  97%|\u2588\u2588\u2588\u2588\u2588\u2588\u2588\u2588\u2588\u258b| 645/667 [01:30<00:03,  7.14it/s]"
          ]
        },
        {
          "output_type": "stream",
          "name": "stderr",
          "text": [
            "\rPredicting (Model 2):  97%|\u2588\u2588\u2588\u2588\u2588\u2588\u2588\u2588\u2588\u258b| 646/667 [01:30<00:02,  7.15it/s]"
          ]
        },
        {
          "output_type": "stream",
          "name": "stderr",
          "text": [
            "\rPredicting (Model 2):  97%|\u2588\u2588\u2588\u2588\u2588\u2588\u2588\u2588\u2588\u258b| 647/667 [01:30<00:02,  7.17it/s]"
          ]
        },
        {
          "output_type": "stream",
          "name": "stderr",
          "text": [
            "\rPredicting (Model 2):  97%|\u2588\u2588\u2588\u2588\u2588\u2588\u2588\u2588\u2588\u258b| 648/667 [01:30<00:02,  7.18it/s]"
          ]
        },
        {
          "output_type": "stream",
          "name": "stderr",
          "text": [
            "\rPredicting (Model 2):  97%|\u2588\u2588\u2588\u2588\u2588\u2588\u2588\u2588\u2588\u258b| 649/667 [01:30<00:02,  7.18it/s]"
          ]
        },
        {
          "output_type": "stream",
          "name": "stderr",
          "text": [
            "\rPredicting (Model 2):  97%|\u2588\u2588\u2588\u2588\u2588\u2588\u2588\u2588\u2588\u258b| 650/667 [01:30<00:02,  7.16it/s]"
          ]
        },
        {
          "output_type": "stream",
          "name": "stderr",
          "text": [
            "\rPredicting (Model 2):  98%|\u2588\u2588\u2588\u2588\u2588\u2588\u2588\u2588\u2588\u258a| 651/667 [01:31<00:02,  7.15it/s]"
          ]
        },
        {
          "output_type": "stream",
          "name": "stderr",
          "text": [
            "\rPredicting (Model 2):  98%|\u2588\u2588\u2588\u2588\u2588\u2588\u2588\u2588\u2588\u258a| 652/667 [01:31<00:02,  7.15it/s]"
          ]
        },
        {
          "output_type": "stream",
          "name": "stderr",
          "text": [
            "\rPredicting (Model 2):  98%|\u2588\u2588\u2588\u2588\u2588\u2588\u2588\u2588\u2588\u258a| 653/667 [01:31<00:01,  7.16it/s]"
          ]
        },
        {
          "output_type": "stream",
          "name": "stderr",
          "text": [
            "\rPredicting (Model 2):  98%|\u2588\u2588\u2588\u2588\u2588\u2588\u2588\u2588\u2588\u258a| 654/667 [01:31<00:01,  7.16it/s]"
          ]
        },
        {
          "output_type": "stream",
          "name": "stderr",
          "text": [
            "\rPredicting (Model 2):  98%|\u2588\u2588\u2588\u2588\u2588\u2588\u2588\u2588\u2588\u258a| 655/667 [01:31<00:01,  7.18it/s]"
          ]
        },
        {
          "output_type": "stream",
          "name": "stderr",
          "text": [
            "\rPredicting (Model 2):  98%|\u2588\u2588\u2588\u2588\u2588\u2588\u2588\u2588\u2588\u258a| 656/667 [01:31<00:01,  7.17it/s]"
          ]
        },
        {
          "output_type": "stream",
          "name": "stderr",
          "text": [
            "\rPredicting (Model 2):  99%|\u2588\u2588\u2588\u2588\u2588\u2588\u2588\u2588\u2588\u258a| 657/667 [01:31<00:01,  7.18it/s]"
          ]
        },
        {
          "output_type": "stream",
          "name": "stderr",
          "text": [
            "\rPredicting (Model 2):  99%|\u2588\u2588\u2588\u2588\u2588\u2588\u2588\u2588\u2588\u258a| 658/667 [01:32<00:01,  7.16it/s]"
          ]
        },
        {
          "output_type": "stream",
          "name": "stderr",
          "text": [
            "\rPredicting (Model 2):  99%|\u2588\u2588\u2588\u2588\u2588\u2588\u2588\u2588\u2588\u2589| 659/667 [01:32<00:01,  7.17it/s]"
          ]
        },
        {
          "output_type": "stream",
          "name": "stderr",
          "text": [
            "\rPredicting (Model 2):  99%|\u2588\u2588\u2588\u2588\u2588\u2588\u2588\u2588\u2588\u2589| 660/667 [01:32<00:00,  7.17it/s]"
          ]
        },
        {
          "output_type": "stream",
          "name": "stderr",
          "text": [
            "\rPredicting (Model 2):  99%|\u2588\u2588\u2588\u2588\u2588\u2588\u2588\u2588\u2588\u2589| 661/667 [01:32<00:00,  7.19it/s]"
          ]
        },
        {
          "output_type": "stream",
          "name": "stderr",
          "text": [
            "\rPredicting (Model 2):  99%|\u2588\u2588\u2588\u2588\u2588\u2588\u2588\u2588\u2588\u2589| 662/667 [01:32<00:00,  7.18it/s]"
          ]
        },
        {
          "output_type": "stream",
          "name": "stderr",
          "text": [
            "\rPredicting (Model 2):  99%|\u2588\u2588\u2588\u2588\u2588\u2588\u2588\u2588\u2588\u2589| 663/667 [01:32<00:00,  7.19it/s]"
          ]
        },
        {
          "output_type": "stream",
          "name": "stderr",
          "text": [
            "\rPredicting (Model 2): 100%|\u2588\u2588\u2588\u2588\u2588\u2588\u2588\u2588\u2588\u2589| 664/667 [01:32<00:00,  7.20it/s]"
          ]
        },
        {
          "output_type": "stream",
          "name": "stderr",
          "text": [
            "\rPredicting (Model 2): 100%|\u2588\u2588\u2588\u2588\u2588\u2588\u2588\u2588\u2588\u2589| 665/667 [01:33<00:00,  7.20it/s]"
          ]
        },
        {
          "output_type": "stream",
          "name": "stderr",
          "text": [
            "\rPredicting (Model 2): 100%|\u2588\u2588\u2588\u2588\u2588\u2588\u2588\u2588\u2588\u2589| 666/667 [01:33<00:00,  7.13it/s]"
          ]
        },
        {
          "output_type": "stream",
          "name": "stderr",
          "text": [
            "\rPredicting (Model 2): 100%|\u2588\u2588\u2588\u2588\u2588\u2588\u2588\u2588\u2588\u2588| 667/667 [01:33<00:00,  7.15it/s]"
          ]
        },
        {
          "output_type": "stream",
          "name": "stderr",
          "text": [
            "\n"
          ]
        },
        {
          "output_type": "stream",
          "name": "stdout",
          "text": [
            "--- Inferencing with model 3/3: models/tf_efficientnet_b4_ns_fold2_best.pth ---\n"
          ]
        },
        {
          "output_type": "stream",
          "name": "stderr",
          "text": [
            "\rPredicting (Model 3):   0%|          | 0/667 [00:00<?, ?it/s]"
          ]
        },
        {
          "output_type": "stream",
          "name": "stderr",
          "text": [
            "\rPredicting (Model 3):   0%|          | 1/667 [00:00<05:14,  2.12it/s]"
          ]
        },
        {
          "output_type": "stream",
          "name": "stderr",
          "text": [
            "\rPredicting (Model 3):   0%|          | 2/667 [00:00<03:04,  3.60it/s]"
          ]
        },
        {
          "output_type": "stream",
          "name": "stderr",
          "text": [
            "\rPredicting (Model 3):   0%|          | 3/667 [00:00<02:23,  4.64it/s]"
          ]
        },
        {
          "output_type": "stream",
          "name": "stderr",
          "text": [
            "\rPredicting (Model 3):   1%|          | 4/667 [00:00<02:02,  5.39it/s]"
          ]
        },
        {
          "output_type": "stream",
          "name": "stderr",
          "text": [
            "\rPredicting (Model 3):   1%|          | 5/667 [00:01<01:52,  5.91it/s]"
          ]
        },
        {
          "output_type": "stream",
          "name": "stderr",
          "text": [
            "\rPredicting (Model 3):   1%|          | 6/667 [00:01<01:45,  6.28it/s]"
          ]
        },
        {
          "output_type": "stream",
          "name": "stderr",
          "text": [
            "\rPredicting (Model 3):   1%|          | 7/667 [00:01<01:41,  6.50it/s]"
          ]
        },
        {
          "output_type": "stream",
          "name": "stderr",
          "text": [
            "\rPredicting (Model 3):   1%|          | 8/667 [00:01<01:38,  6.71it/s]"
          ]
        },
        {
          "output_type": "stream",
          "name": "stderr",
          "text": [
            "\rPredicting (Model 3):   1%|\u258f         | 9/667 [00:01<01:35,  6.86it/s]"
          ]
        },
        {
          "output_type": "stream",
          "name": "stderr",
          "text": [
            "\rPredicting (Model 3):   1%|\u258f         | 10/667 [00:01<01:34,  6.97it/s]"
          ]
        },
        {
          "output_type": "stream",
          "name": "stderr",
          "text": [
            "\rPredicting (Model 3):   2%|\u258f         | 11/667 [00:01<01:33,  7.01it/s]"
          ]
        },
        {
          "output_type": "stream",
          "name": "stderr",
          "text": [
            "\rPredicting (Model 3):   2%|\u258f         | 12/667 [00:02<01:32,  7.05it/s]"
          ]
        },
        {
          "output_type": "stream",
          "name": "stderr",
          "text": [
            "\rPredicting (Model 3):   2%|\u258f         | 13/667 [00:02<01:32,  7.07it/s]"
          ]
        },
        {
          "output_type": "stream",
          "name": "stderr",
          "text": [
            "\rPredicting (Model 3):   2%|\u258f         | 14/667 [00:02<01:32,  7.09it/s]"
          ]
        },
        {
          "output_type": "stream",
          "name": "stderr",
          "text": [
            "\rPredicting (Model 3):   2%|\u258f         | 15/667 [00:02<01:32,  7.08it/s]"
          ]
        },
        {
          "output_type": "stream",
          "name": "stderr",
          "text": [
            "\rPredicting (Model 3):   2%|\u258f         | 16/667 [00:02<01:31,  7.11it/s]"
          ]
        },
        {
          "output_type": "stream",
          "name": "stderr",
          "text": [
            "\rPredicting (Model 3):   3%|\u258e         | 17/667 [00:02<01:31,  7.14it/s]"
          ]
        },
        {
          "output_type": "stream",
          "name": "stderr",
          "text": [
            "\rPredicting (Model 3):   3%|\u258e         | 18/667 [00:02<01:30,  7.16it/s]"
          ]
        },
        {
          "output_type": "stream",
          "name": "stderr",
          "text": [
            "\rPredicting (Model 3):   3%|\u258e         | 19/667 [00:02<01:30,  7.17it/s]"
          ]
        },
        {
          "output_type": "stream",
          "name": "stderr",
          "text": [
            "\rPredicting (Model 3):   3%|\u258e         | 20/667 [00:03<01:30,  7.13it/s]"
          ]
        },
        {
          "output_type": "stream",
          "name": "stderr",
          "text": [
            "\rPredicting (Model 3):   3%|\u258e         | 21/667 [00:03<01:30,  7.12it/s]"
          ]
        },
        {
          "output_type": "stream",
          "name": "stderr",
          "text": [
            "\rPredicting (Model 3):   3%|\u258e         | 22/667 [00:03<01:30,  7.12it/s]"
          ]
        },
        {
          "output_type": "stream",
          "name": "stderr",
          "text": [
            "\rPredicting (Model 3):   3%|\u258e         | 23/667 [00:03<01:31,  7.06it/s]"
          ]
        },
        {
          "output_type": "stream",
          "name": "stderr",
          "text": [
            "\rPredicting (Model 3):   4%|\u258e         | 24/667 [00:03<01:30,  7.07it/s]"
          ]
        },
        {
          "output_type": "stream",
          "name": "stderr",
          "text": [
            "\rPredicting (Model 3):   4%|\u258e         | 25/667 [00:03<01:30,  7.11it/s]"
          ]
        },
        {
          "output_type": "stream",
          "name": "stderr",
          "text": [
            "\rPredicting (Model 3):   4%|\u258d         | 26/667 [00:03<01:29,  7.14it/s]"
          ]
        },
        {
          "output_type": "stream",
          "name": "stderr",
          "text": [
            "\rPredicting (Model 3):   4%|\u258d         | 27/667 [00:04<01:29,  7.15it/s]"
          ]
        },
        {
          "output_type": "stream",
          "name": "stderr",
          "text": [
            "\rPredicting (Model 3):   4%|\u258d         | 28/667 [00:04<01:29,  7.15it/s]"
          ]
        },
        {
          "output_type": "stream",
          "name": "stderr",
          "text": [
            "\rPredicting (Model 3):   4%|\u258d         | 29/667 [00:04<01:29,  7.16it/s]"
          ]
        },
        {
          "output_type": "stream",
          "name": "stderr",
          "text": [
            "\rPredicting (Model 3):   4%|\u258d         | 30/667 [00:04<01:28,  7.17it/s]"
          ]
        },
        {
          "output_type": "stream",
          "name": "stderr",
          "text": [
            "\rPredicting (Model 3):   5%|\u258d         | 31/667 [00:04<01:28,  7.17it/s]"
          ]
        },
        {
          "output_type": "stream",
          "name": "stderr",
          "text": [
            "\rPredicting (Model 3):   5%|\u258d         | 32/667 [00:04<01:28,  7.16it/s]"
          ]
        },
        {
          "output_type": "stream",
          "name": "stderr",
          "text": [
            "\rPredicting (Model 3):   5%|\u258d         | 33/667 [00:04<01:28,  7.16it/s]"
          ]
        },
        {
          "output_type": "stream",
          "name": "stderr",
          "text": [
            "\rPredicting (Model 3):   5%|\u258c         | 34/667 [00:05<01:28,  7.17it/s]"
          ]
        },
        {
          "output_type": "stream",
          "name": "stderr",
          "text": [
            "\rPredicting (Model 3):   5%|\u258c         | 35/667 [00:05<01:28,  7.18it/s]"
          ]
        },
        {
          "output_type": "stream",
          "name": "stderr",
          "text": [
            "\rPredicting (Model 3):   5%|\u258c         | 36/667 [00:05<01:27,  7.17it/s]"
          ]
        },
        {
          "output_type": "stream",
          "name": "stderr",
          "text": [
            "\rPredicting (Model 3):   6%|\u258c         | 37/667 [00:05<01:27,  7.17it/s]"
          ]
        },
        {
          "output_type": "stream",
          "name": "stderr",
          "text": [
            "\rPredicting (Model 3):   6%|\u258c         | 38/667 [00:05<01:27,  7.18it/s]"
          ]
        },
        {
          "output_type": "stream",
          "name": "stderr",
          "text": [
            "\rPredicting (Model 3):   6%|\u258c         | 39/667 [00:05<01:27,  7.17it/s]"
          ]
        },
        {
          "output_type": "stream",
          "name": "stderr",
          "text": [
            "\rPredicting (Model 3):   6%|\u258c         | 40/667 [00:05<01:27,  7.16it/s]"
          ]
        },
        {
          "output_type": "stream",
          "name": "stderr",
          "text": [
            "\rPredicting (Model 3):   6%|\u258c         | 41/667 [00:06<01:27,  7.14it/s]"
          ]
        },
        {
          "output_type": "stream",
          "name": "stderr",
          "text": [
            "\rPredicting (Model 3):   6%|\u258b         | 42/667 [00:06<01:27,  7.14it/s]"
          ]
        },
        {
          "output_type": "stream",
          "name": "stderr",
          "text": [
            "\rPredicting (Model 3):   6%|\u258b         | 43/667 [00:06<01:27,  7.15it/s]"
          ]
        },
        {
          "output_type": "stream",
          "name": "stderr",
          "text": [
            "\rPredicting (Model 3):   7%|\u258b         | 44/667 [00:06<01:27,  7.16it/s]"
          ]
        },
        {
          "output_type": "stream",
          "name": "stderr",
          "text": [
            "\rPredicting (Model 3):   7%|\u258b         | 45/667 [00:06<01:26,  7.17it/s]"
          ]
        },
        {
          "output_type": "stream",
          "name": "stderr",
          "text": [
            "\rPredicting (Model 3):   7%|\u258b         | 46/667 [00:06<01:26,  7.17it/s]"
          ]
        },
        {
          "output_type": "stream",
          "name": "stderr",
          "text": [
            "\rPredicting (Model 3):   7%|\u258b         | 47/667 [00:06<01:26,  7.17it/s]"
          ]
        },
        {
          "output_type": "stream",
          "name": "stderr",
          "text": [
            "\rPredicting (Model 3):   7%|\u258b         | 48/667 [00:07<01:26,  7.18it/s]"
          ]
        },
        {
          "output_type": "stream",
          "name": "stderr",
          "text": [
            "\rPredicting (Model 3):   7%|\u258b         | 49/667 [00:07<01:26,  7.16it/s]"
          ]
        },
        {
          "output_type": "stream",
          "name": "stderr",
          "text": [
            "\rPredicting (Model 3):   7%|\u258b         | 50/667 [00:07<01:26,  7.15it/s]"
          ]
        },
        {
          "output_type": "stream",
          "name": "stderr",
          "text": [
            "\rPredicting (Model 3):   8%|\u258a         | 51/667 [00:07<01:26,  7.15it/s]"
          ]
        },
        {
          "output_type": "stream",
          "name": "stderr",
          "text": [
            "\rPredicting (Model 3):   8%|\u258a         | 52/667 [00:07<01:25,  7.16it/s]"
          ]
        },
        {
          "output_type": "stream",
          "name": "stderr",
          "text": [
            "\rPredicting (Model 3):   8%|\u258a         | 53/667 [00:07<01:25,  7.16it/s]"
          ]
        },
        {
          "output_type": "stream",
          "name": "stderr",
          "text": [
            "\rPredicting (Model 3):   8%|\u258a         | 54/667 [00:07<01:25,  7.15it/s]"
          ]
        },
        {
          "output_type": "stream",
          "name": "stderr",
          "text": [
            "\rPredicting (Model 3):   8%|\u258a         | 55/667 [00:08<01:25,  7.16it/s]"
          ]
        },
        {
          "output_type": "stream",
          "name": "stderr",
          "text": [
            "\rPredicting (Model 3):   8%|\u258a         | 56/667 [00:08<01:25,  7.15it/s]"
          ]
        },
        {
          "output_type": "stream",
          "name": "stderr",
          "text": [
            "\rPredicting (Model 3):   9%|\u258a         | 57/667 [00:08<01:25,  7.15it/s]"
          ]
        },
        {
          "output_type": "stream",
          "name": "stderr",
          "text": [
            "\rPredicting (Model 3):   9%|\u258a         | 58/667 [00:08<01:25,  7.15it/s]"
          ]
        },
        {
          "output_type": "stream",
          "name": "stderr",
          "text": [
            "\rPredicting (Model 3):   9%|\u2589         | 59/667 [00:08<01:24,  7.16it/s]"
          ]
        },
        {
          "output_type": "stream",
          "name": "stderr",
          "text": [
            "\rPredicting (Model 3):   9%|\u2589         | 60/667 [00:08<01:24,  7.16it/s]"
          ]
        },
        {
          "output_type": "stream",
          "name": "stderr",
          "text": [
            "\rPredicting (Model 3):   9%|\u2589         | 61/667 [00:08<01:24,  7.17it/s]"
          ]
        },
        {
          "output_type": "stream",
          "name": "stderr",
          "text": [
            "\rPredicting (Model 3):   9%|\u2589         | 62/667 [00:09<01:24,  7.18it/s]"
          ]
        },
        {
          "output_type": "stream",
          "name": "stderr",
          "text": [
            "\rPredicting (Model 3):   9%|\u2589         | 63/667 [00:09<01:24,  7.18it/s]"
          ]
        },
        {
          "output_type": "stream",
          "name": "stderr",
          "text": [
            "\rPredicting (Model 3):  10%|\u2589         | 64/667 [00:09<01:24,  7.17it/s]"
          ]
        },
        {
          "output_type": "stream",
          "name": "stderr",
          "text": [
            "\rPredicting (Model 3):  10%|\u2589         | 65/667 [00:09<01:23,  7.17it/s]"
          ]
        },
        {
          "output_type": "stream",
          "name": "stderr",
          "text": [
            "\rPredicting (Model 3):  10%|\u2589         | 66/667 [00:09<01:23,  7.17it/s]"
          ]
        },
        {
          "output_type": "stream",
          "name": "stderr",
          "text": [
            "\rPredicting (Model 3):  10%|\u2588         | 67/667 [00:09<01:23,  7.18it/s]"
          ]
        },
        {
          "output_type": "stream",
          "name": "stderr",
          "text": [
            "\rPredicting (Model 3):  10%|\u2588         | 68/667 [00:09<01:23,  7.17it/s]"
          ]
        },
        {
          "output_type": "stream",
          "name": "stderr",
          "text": [
            "\rPredicting (Model 3):  10%|\u2588         | 69/667 [00:09<01:23,  7.16it/s]"
          ]
        },
        {
          "output_type": "stream",
          "name": "stderr",
          "text": [
            "\rPredicting (Model 3):  10%|\u2588         | 70/667 [00:10<01:23,  7.16it/s]"
          ]
        },
        {
          "output_type": "stream",
          "name": "stderr",
          "text": [
            "\rPredicting (Model 3):  11%|\u2588         | 71/667 [00:10<01:23,  7.16it/s]"
          ]
        },
        {
          "output_type": "stream",
          "name": "stderr",
          "text": [
            "\rPredicting (Model 3):  11%|\u2588         | 72/667 [00:10<01:23,  7.17it/s]"
          ]
        },
        {
          "output_type": "stream",
          "name": "stderr",
          "text": [
            "\rPredicting (Model 3):  11%|\u2588         | 73/667 [00:10<01:22,  7.16it/s]"
          ]
        },
        {
          "output_type": "stream",
          "name": "stderr",
          "text": [
            "\rPredicting (Model 3):  11%|\u2588         | 74/667 [00:10<01:23,  7.14it/s]"
          ]
        },
        {
          "output_type": "stream",
          "name": "stderr",
          "text": [
            "\rPredicting (Model 3):  11%|\u2588         | 75/667 [00:10<01:22,  7.15it/s]"
          ]
        },
        {
          "output_type": "stream",
          "name": "stderr",
          "text": [
            "\rPredicting (Model 3):  11%|\u2588\u258f        | 76/667 [00:10<01:22,  7.13it/s]"
          ]
        },
        {
          "output_type": "stream",
          "name": "stderr",
          "text": [
            "\rPredicting (Model 3):  12%|\u2588\u258f        | 77/667 [00:11<01:22,  7.14it/s]"
          ]
        },
        {
          "output_type": "stream",
          "name": "stderr",
          "text": [
            "\rPredicting (Model 3):  12%|\u2588\u258f        | 78/667 [00:11<01:22,  7.15it/s]"
          ]
        },
        {
          "output_type": "stream",
          "name": "stderr",
          "text": [
            "\rPredicting (Model 3):  12%|\u2588\u258f        | 79/667 [00:11<01:22,  7.17it/s]"
          ]
        },
        {
          "output_type": "stream",
          "name": "stderr",
          "text": [
            "\rPredicting (Model 3):  12%|\u2588\u258f        | 80/667 [00:11<01:21,  7.17it/s]"
          ]
        },
        {
          "output_type": "stream",
          "name": "stderr",
          "text": [
            "\rPredicting (Model 3):  12%|\u2588\u258f        | 81/667 [00:11<01:21,  7.16it/s]"
          ]
        },
        {
          "output_type": "stream",
          "name": "stderr",
          "text": [
            "\rPredicting (Model 3):  12%|\u2588\u258f        | 82/667 [00:11<01:21,  7.16it/s]"
          ]
        },
        {
          "output_type": "stream",
          "name": "stderr",
          "text": [
            "\rPredicting (Model 3):  12%|\u2588\u258f        | 83/667 [00:11<01:21,  7.15it/s]"
          ]
        },
        {
          "output_type": "stream",
          "name": "stderr",
          "text": [
            "\rPredicting (Model 3):  13%|\u2588\u258e        | 84/667 [00:12<01:21,  7.15it/s]"
          ]
        },
        {
          "output_type": "stream",
          "name": "stderr",
          "text": [
            "\rPredicting (Model 3):  13%|\u2588\u258e        | 85/667 [00:12<01:21,  7.15it/s]"
          ]
        },
        {
          "output_type": "stream",
          "name": "stderr",
          "text": [
            "\rPredicting (Model 3):  13%|\u2588\u258e        | 86/667 [00:12<01:21,  7.16it/s]"
          ]
        },
        {
          "output_type": "stream",
          "name": "stderr",
          "text": [
            "\rPredicting (Model 3):  13%|\u2588\u258e        | 87/667 [00:12<01:20,  7.16it/s]"
          ]
        },
        {
          "output_type": "stream",
          "name": "stderr",
          "text": [
            "\rPredicting (Model 3):  13%|\u2588\u258e        | 88/667 [00:12<01:20,  7.15it/s]"
          ]
        },
        {
          "output_type": "stream",
          "name": "stderr",
          "text": [
            "\rPredicting (Model 3):  13%|\u2588\u258e        | 89/667 [00:12<01:20,  7.14it/s]"
          ]
        },
        {
          "output_type": "stream",
          "name": "stderr",
          "text": [
            "\rPredicting (Model 3):  13%|\u2588\u258e        | 90/667 [00:12<01:21,  7.12it/s]"
          ]
        },
        {
          "output_type": "stream",
          "name": "stderr",
          "text": [
            "\rPredicting (Model 3):  14%|\u2588\u258e        | 91/667 [00:13<01:20,  7.14it/s]"
          ]
        },
        {
          "output_type": "stream",
          "name": "stderr",
          "text": [
            "\rPredicting (Model 3):  14%|\u2588\u258d        | 92/667 [00:13<01:20,  7.15it/s]"
          ]
        },
        {
          "output_type": "stream",
          "name": "stderr",
          "text": [
            "\rPredicting (Model 3):  14%|\u2588\u258d        | 93/667 [00:13<01:20,  7.16it/s]"
          ]
        },
        {
          "output_type": "stream",
          "name": "stderr",
          "text": [
            "\rPredicting (Model 3):  14%|\u2588\u258d        | 94/667 [00:13<01:20,  7.16it/s]"
          ]
        },
        {
          "output_type": "stream",
          "name": "stderr",
          "text": [
            "\rPredicting (Model 3):  14%|\u2588\u258d        | 95/667 [00:13<01:19,  7.15it/s]"
          ]
        },
        {
          "output_type": "stream",
          "name": "stderr",
          "text": [
            "\rPredicting (Model 3):  14%|\u2588\u258d        | 96/667 [00:13<01:19,  7.15it/s]"
          ]
        },
        {
          "output_type": "stream",
          "name": "stderr",
          "text": [
            "\rPredicting (Model 3):  15%|\u2588\u258d        | 97/667 [00:13<01:19,  7.15it/s]"
          ]
        },
        {
          "output_type": "stream",
          "name": "stderr",
          "text": [
            "\rPredicting (Model 3):  15%|\u2588\u258d        | 98/667 [00:14<01:19,  7.15it/s]"
          ]
        },
        {
          "output_type": "stream",
          "name": "stderr",
          "text": [
            "\rPredicting (Model 3):  15%|\u2588\u258d        | 99/667 [00:14<01:19,  7.14it/s]"
          ]
        },
        {
          "output_type": "stream",
          "name": "stderr",
          "text": [
            "\rPredicting (Model 3):  15%|\u2588\u258d        | 100/667 [00:14<01:19,  7.10it/s]"
          ]
        },
        {
          "output_type": "stream",
          "name": "stderr",
          "text": [
            "\rPredicting (Model 3):  15%|\u2588\u258c        | 101/667 [00:14<01:19,  7.12it/s]"
          ]
        },
        {
          "output_type": "stream",
          "name": "stderr",
          "text": [
            "\rPredicting (Model 3):  15%|\u2588\u258c        | 102/667 [00:14<01:19,  7.13it/s]"
          ]
        },
        {
          "output_type": "stream",
          "name": "stderr",
          "text": [
            "\rPredicting (Model 3):  15%|\u2588\u258c        | 103/667 [00:14<01:19,  7.14it/s]"
          ]
        },
        {
          "output_type": "stream",
          "name": "stderr",
          "text": [
            "\rPredicting (Model 3):  16%|\u2588\u258c        | 104/667 [00:14<01:19,  7.12it/s]"
          ]
        },
        {
          "output_type": "stream",
          "name": "stderr",
          "text": [
            "\rPredicting (Model 3):  16%|\u2588\u258c        | 105/667 [00:15<01:18,  7.12it/s]"
          ]
        },
        {
          "output_type": "stream",
          "name": "stderr",
          "text": [
            "\rPredicting (Model 3):  16%|\u2588\u258c        | 106/667 [00:15<01:18,  7.13it/s]"
          ]
        },
        {
          "output_type": "stream",
          "name": "stderr",
          "text": [
            "\rPredicting (Model 3):  16%|\u2588\u258c        | 107/667 [00:15<01:18,  7.12it/s]"
          ]
        },
        {
          "output_type": "stream",
          "name": "stderr",
          "text": [
            "\rPredicting (Model 3):  16%|\u2588\u258c        | 108/667 [00:15<01:18,  7.12it/s]"
          ]
        },
        {
          "output_type": "stream",
          "name": "stderr",
          "text": [
            "\rPredicting (Model 3):  16%|\u2588\u258b        | 109/667 [00:15<01:18,  7.11it/s]"
          ]
        },
        {
          "output_type": "stream",
          "name": "stderr",
          "text": [
            "\rPredicting (Model 3):  16%|\u2588\u258b        | 110/667 [00:15<01:18,  7.13it/s]"
          ]
        },
        {
          "output_type": "stream",
          "name": "stderr",
          "text": [
            "\rPredicting (Model 3):  17%|\u2588\u258b        | 111/667 [00:15<01:17,  7.15it/s]"
          ]
        },
        {
          "output_type": "stream",
          "name": "stderr",
          "text": [
            "\rPredicting (Model 3):  17%|\u2588\u258b        | 112/667 [00:16<01:17,  7.16it/s]"
          ]
        },
        {
          "output_type": "stream",
          "name": "stderr",
          "text": [
            "\rPredicting (Model 3):  17%|\u2588\u258b        | 113/667 [00:16<01:17,  7.16it/s]"
          ]
        },
        {
          "output_type": "stream",
          "name": "stderr",
          "text": [
            "\rPredicting (Model 3):  17%|\u2588\u258b        | 114/667 [00:16<01:17,  7.15it/s]"
          ]
        },
        {
          "output_type": "stream",
          "name": "stderr",
          "text": [
            "\rPredicting (Model 3):  17%|\u2588\u258b        | 115/667 [00:16<01:17,  7.15it/s]"
          ]
        },
        {
          "output_type": "stream",
          "name": "stderr",
          "text": [
            "\rPredicting (Model 3):  17%|\u2588\u258b        | 116/667 [00:16<01:17,  7.15it/s]"
          ]
        },
        {
          "output_type": "stream",
          "name": "stderr",
          "text": [
            "\rPredicting (Model 3):  18%|\u2588\u258a        | 117/667 [00:16<01:16,  7.14it/s]"
          ]
        },
        {
          "output_type": "stream",
          "name": "stderr",
          "text": [
            "\rPredicting (Model 3):  18%|\u2588\u258a        | 118/667 [00:16<01:16,  7.13it/s]"
          ]
        },
        {
          "output_type": "stream",
          "name": "stderr",
          "text": [
            "\rPredicting (Model 3):  18%|\u2588\u258a        | 119/667 [00:16<01:16,  7.14it/s]"
          ]
        },
        {
          "output_type": "stream",
          "name": "stderr",
          "text": [
            "\rPredicting (Model 3):  18%|\u2588\u258a        | 120/667 [00:17<01:16,  7.14it/s]"
          ]
        },
        {
          "output_type": "stream",
          "name": "stderr",
          "text": [
            "\rPredicting (Model 3):  18%|\u2588\u258a        | 121/667 [00:17<01:16,  7.14it/s]"
          ]
        },
        {
          "output_type": "stream",
          "name": "stderr",
          "text": [
            "\rPredicting (Model 3):  18%|\u2588\u258a        | 122/667 [00:17<01:16,  7.15it/s]"
          ]
        },
        {
          "output_type": "stream",
          "name": "stderr",
          "text": [
            "\rPredicting (Model 3):  18%|\u2588\u258a        | 123/667 [00:17<01:15,  7.17it/s]"
          ]
        },
        {
          "output_type": "stream",
          "name": "stderr",
          "text": [
            "\rPredicting (Model 3):  19%|\u2588\u258a        | 124/667 [00:17<01:15,  7.17it/s]"
          ]
        },
        {
          "output_type": "stream",
          "name": "stderr",
          "text": [
            "\rPredicting (Model 3):  19%|\u2588\u258a        | 125/667 [00:17<01:15,  7.17it/s]"
          ]
        },
        {
          "output_type": "stream",
          "name": "stderr",
          "text": [
            "\rPredicting (Model 3):  19%|\u2588\u2589        | 126/667 [00:17<01:15,  7.18it/s]"
          ]
        },
        {
          "output_type": "stream",
          "name": "stderr",
          "text": [
            "\rPredicting (Model 3):  19%|\u2588\u2589        | 127/667 [00:18<01:15,  7.17it/s]"
          ]
        },
        {
          "output_type": "stream",
          "name": "stderr",
          "text": [
            "\rPredicting (Model 3):  19%|\u2588\u2589        | 128/667 [00:18<01:15,  7.14it/s]"
          ]
        },
        {
          "output_type": "stream",
          "name": "stderr",
          "text": [
            "\rPredicting (Model 3):  19%|\u2588\u2589        | 129/667 [00:18<01:15,  7.16it/s]"
          ]
        },
        {
          "output_type": "stream",
          "name": "stderr",
          "text": [
            "\rPredicting (Model 3):  19%|\u2588\u2589        | 130/667 [00:18<01:15,  7.15it/s]"
          ]
        },
        {
          "output_type": "stream",
          "name": "stderr",
          "text": [
            "\rPredicting (Model 3):  20%|\u2588\u2589        | 131/667 [00:18<01:14,  7.16it/s]"
          ]
        },
        {
          "output_type": "stream",
          "name": "stderr",
          "text": [
            "\rPredicting (Model 3):  20%|\u2588\u2589        | 132/667 [00:18<01:14,  7.16it/s]"
          ]
        },
        {
          "output_type": "stream",
          "name": "stderr",
          "text": [
            "\rPredicting (Model 3):  20%|\u2588\u2589        | 133/667 [00:18<01:14,  7.16it/s]"
          ]
        },
        {
          "output_type": "stream",
          "name": "stderr",
          "text": [
            "\rPredicting (Model 3):  20%|\u2588\u2588        | 134/667 [00:19<01:14,  7.16it/s]"
          ]
        },
        {
          "output_type": "stream",
          "name": "stderr",
          "text": [
            "\rPredicting (Model 3):  20%|\u2588\u2588        | 135/667 [00:19<01:14,  7.17it/s]"
          ]
        },
        {
          "output_type": "stream",
          "name": "stderr",
          "text": [
            "\rPredicting (Model 3):  20%|\u2588\u2588        | 136/667 [00:19<01:14,  7.16it/s]"
          ]
        },
        {
          "output_type": "stream",
          "name": "stderr",
          "text": [
            "\rPredicting (Model 3):  21%|\u2588\u2588        | 137/667 [00:19<01:13,  7.17it/s]"
          ]
        },
        {
          "output_type": "stream",
          "name": "stderr",
          "text": [
            "\rPredicting (Model 3):  21%|\u2588\u2588        | 138/667 [00:19<01:13,  7.18it/s]"
          ]
        },
        {
          "output_type": "stream",
          "name": "stderr",
          "text": [
            "\rPredicting (Model 3):  21%|\u2588\u2588        | 139/667 [00:19<01:13,  7.17it/s]"
          ]
        },
        {
          "output_type": "stream",
          "name": "stderr",
          "text": [
            "\rPredicting (Model 3):  21%|\u2588\u2588        | 140/667 [00:19<01:13,  7.14it/s]"
          ]
        },
        {
          "output_type": "stream",
          "name": "stderr",
          "text": [
            "\rPredicting (Model 3):  21%|\u2588\u2588        | 141/667 [00:20<01:13,  7.13it/s]"
          ]
        },
        {
          "output_type": "stream",
          "name": "stderr",
          "text": [
            "\rPredicting (Model 3):  21%|\u2588\u2588\u258f       | 142/667 [00:20<01:13,  7.12it/s]"
          ]
        },
        {
          "output_type": "stream",
          "name": "stderr",
          "text": [
            "\rPredicting (Model 3):  21%|\u2588\u2588\u258f       | 143/667 [00:20<01:13,  7.13it/s]"
          ]
        },
        {
          "output_type": "stream",
          "name": "stderr",
          "text": [
            "\rPredicting (Model 3):  22%|\u2588\u2588\u258f       | 144/667 [00:20<01:13,  7.12it/s]"
          ]
        },
        {
          "output_type": "stream",
          "name": "stderr",
          "text": [
            "\rPredicting (Model 3):  22%|\u2588\u2588\u258f       | 145/667 [00:20<01:12,  7.15it/s]"
          ]
        },
        {
          "output_type": "stream",
          "name": "stderr",
          "text": [
            "\rPredicting (Model 3):  22%|\u2588\u2588\u258f       | 146/667 [00:20<01:13,  7.13it/s]"
          ]
        },
        {
          "output_type": "stream",
          "name": "stderr",
          "text": [
            "\rPredicting (Model 3):  22%|\u2588\u2588\u258f       | 147/667 [00:20<01:12,  7.14it/s]"
          ]
        },
        {
          "output_type": "stream",
          "name": "stderr",
          "text": [
            "\rPredicting (Model 3):  22%|\u2588\u2588\u258f       | 148/667 [00:21<01:12,  7.13it/s]"
          ]
        },
        {
          "output_type": "stream",
          "name": "stderr",
          "text": [
            "\rPredicting (Model 3):  22%|\u2588\u2588\u258f       | 149/667 [00:21<01:12,  7.13it/s]"
          ]
        },
        {
          "output_type": "stream",
          "name": "stderr",
          "text": [
            "\rPredicting (Model 3):  22%|\u2588\u2588\u258f       | 150/667 [00:21<01:12,  7.11it/s]"
          ]
        },
        {
          "output_type": "stream",
          "name": "stderr",
          "text": [
            "\rPredicting (Model 3):  23%|\u2588\u2588\u258e       | 151/667 [00:21<01:12,  7.13it/s]"
          ]
        },
        {
          "output_type": "stream",
          "name": "stderr",
          "text": [
            "\rPredicting (Model 3):  23%|\u2588\u2588\u258e       | 152/667 [00:21<01:12,  7.13it/s]"
          ]
        },
        {
          "output_type": "stream",
          "name": "stderr",
          "text": [
            "\rPredicting (Model 3):  23%|\u2588\u2588\u258e       | 153/667 [00:21<01:11,  7.15it/s]"
          ]
        },
        {
          "output_type": "stream",
          "name": "stderr",
          "text": [
            "\rPredicting (Model 3):  23%|\u2588\u2588\u258e       | 154/667 [00:21<01:12,  7.12it/s]"
          ]
        },
        {
          "output_type": "stream",
          "name": "stderr",
          "text": [
            "\rPredicting (Model 3):  23%|\u2588\u2588\u258e       | 155/667 [00:22<01:11,  7.13it/s]"
          ]
        },
        {
          "output_type": "stream",
          "name": "stderr",
          "text": [
            "\rPredicting (Model 3):  23%|\u2588\u2588\u258e       | 156/667 [00:22<01:11,  7.14it/s]"
          ]
        },
        {
          "output_type": "stream",
          "name": "stderr",
          "text": [
            "\rPredicting (Model 3):  24%|\u2588\u2588\u258e       | 157/667 [00:22<01:11,  7.13it/s]"
          ]
        },
        {
          "output_type": "stream",
          "name": "stderr",
          "text": [
            "\rPredicting (Model 3):  24%|\u2588\u2588\u258e       | 158/667 [00:22<01:11,  7.13it/s]"
          ]
        },
        {
          "output_type": "stream",
          "name": "stderr",
          "text": [
            "\rPredicting (Model 3):  24%|\u2588\u2588\u258d       | 159/667 [00:22<01:11,  7.15it/s]"
          ]
        },
        {
          "output_type": "stream",
          "name": "stderr",
          "text": [
            "\rPredicting (Model 3):  24%|\u2588\u2588\u258d       | 160/667 [00:22<01:11,  7.14it/s]"
          ]
        },
        {
          "output_type": "stream",
          "name": "stderr",
          "text": [
            "\rPredicting (Model 3):  24%|\u2588\u2588\u258d       | 161/667 [00:22<01:10,  7.14it/s]"
          ]
        },
        {
          "output_type": "stream",
          "name": "stderr",
          "text": [
            "\rPredicting (Model 3):  24%|\u2588\u2588\u258d       | 162/667 [00:22<01:10,  7.13it/s]"
          ]
        },
        {
          "output_type": "stream",
          "name": "stderr",
          "text": [
            "\rPredicting (Model 3):  24%|\u2588\u2588\u258d       | 163/667 [00:23<01:10,  7.14it/s]"
          ]
        },
        {
          "output_type": "stream",
          "name": "stderr",
          "text": [
            "\rPredicting (Model 3):  25%|\u2588\u2588\u258d       | 164/667 [00:23<01:10,  7.14it/s]"
          ]
        },
        {
          "output_type": "stream",
          "name": "stderr",
          "text": [
            "\rPredicting (Model 3):  25%|\u2588\u2588\u258d       | 165/667 [00:23<01:10,  7.16it/s]"
          ]
        },
        {
          "output_type": "stream",
          "name": "stderr",
          "text": [
            "\rPredicting (Model 3):  25%|\u2588\u2588\u258d       | 166/667 [00:23<01:10,  7.14it/s]"
          ]
        },
        {
          "output_type": "stream",
          "name": "stderr",
          "text": [
            "\rPredicting (Model 3):  25%|\u2588\u2588\u258c       | 167/667 [00:23<01:09,  7.15it/s]"
          ]
        },
        {
          "output_type": "stream",
          "name": "stderr",
          "text": [
            "\rPredicting (Model 3):  25%|\u2588\u2588\u258c       | 168/667 [00:23<01:09,  7.14it/s]"
          ]
        },
        {
          "output_type": "stream",
          "name": "stderr",
          "text": [
            "\rPredicting (Model 3):  25%|\u2588\u2588\u258c       | 169/667 [00:23<01:10,  7.11it/s]"
          ]
        },
        {
          "output_type": "stream",
          "name": "stderr",
          "text": [
            "\rPredicting (Model 3):  25%|\u2588\u2588\u258c       | 170/667 [00:24<01:09,  7.11it/s]"
          ]
        },
        {
          "output_type": "stream",
          "name": "stderr",
          "text": [
            "\rPredicting (Model 3):  26%|\u2588\u2588\u258c       | 171/667 [00:24<01:09,  7.11it/s]"
          ]
        },
        {
          "output_type": "stream",
          "name": "stderr",
          "text": [
            "\rPredicting (Model 3):  26%|\u2588\u2588\u258c       | 172/667 [00:24<01:09,  7.12it/s]"
          ]
        },
        {
          "output_type": "stream",
          "name": "stderr",
          "text": [
            "\rPredicting (Model 3):  26%|\u2588\u2588\u258c       | 173/667 [00:24<01:09,  7.13it/s]"
          ]
        },
        {
          "output_type": "stream",
          "name": "stderr",
          "text": [
            "\rPredicting (Model 3):  26%|\u2588\u2588\u258c       | 174/667 [00:24<01:09,  7.12it/s]"
          ]
        },
        {
          "output_type": "stream",
          "name": "stderr",
          "text": [
            "\rPredicting (Model 3):  26%|\u2588\u2588\u258c       | 175/667 [00:24<01:08,  7.14it/s]"
          ]
        },
        {
          "output_type": "stream",
          "name": "stderr",
          "text": [
            "\rPredicting (Model 3):  26%|\u2588\u2588\u258b       | 176/667 [00:24<01:08,  7.14it/s]"
          ]
        },
        {
          "output_type": "stream",
          "name": "stderr",
          "text": [
            "\rPredicting (Model 3):  27%|\u2588\u2588\u258b       | 177/667 [00:25<01:08,  7.14it/s]"
          ]
        },
        {
          "output_type": "stream",
          "name": "stderr",
          "text": [
            "\rPredicting (Model 3):  27%|\u2588\u2588\u258b       | 178/667 [00:25<01:08,  7.12it/s]"
          ]
        },
        {
          "output_type": "stream",
          "name": "stderr",
          "text": [
            "\rPredicting (Model 3):  27%|\u2588\u2588\u258b       | 179/667 [00:25<01:08,  7.13it/s]"
          ]
        },
        {
          "output_type": "stream",
          "name": "stderr",
          "text": [
            "\rPredicting (Model 3):  27%|\u2588\u2588\u258b       | 180/667 [00:25<01:08,  7.11it/s]"
          ]
        },
        {
          "output_type": "stream",
          "name": "stderr",
          "text": [
            "\rPredicting (Model 3):  27%|\u2588\u2588\u258b       | 181/667 [00:25<01:08,  7.12it/s]"
          ]
        },
        {
          "output_type": "stream",
          "name": "stderr",
          "text": [
            "\rPredicting (Model 3):  27%|\u2588\u2588\u258b       | 182/667 [00:25<01:08,  7.12it/s]"
          ]
        },
        {
          "output_type": "stream",
          "name": "stderr",
          "text": [
            "\rPredicting (Model 3):  27%|\u2588\u2588\u258b       | 183/667 [00:25<01:07,  7.13it/s]"
          ]
        },
        {
          "output_type": "stream",
          "name": "stderr",
          "text": [
            "\rPredicting (Model 3):  28%|\u2588\u2588\u258a       | 184/667 [00:26<01:07,  7.13it/s]"
          ]
        },
        {
          "output_type": "stream",
          "name": "stderr",
          "text": [
            "\rPredicting (Model 3):  28%|\u2588\u2588\u258a       | 185/667 [00:26<01:07,  7.14it/s]"
          ]
        },
        {
          "output_type": "stream",
          "name": "stderr",
          "text": [
            "\rPredicting (Model 3):  28%|\u2588\u2588\u258a       | 186/667 [00:26<01:07,  7.11it/s]"
          ]
        },
        {
          "output_type": "stream",
          "name": "stderr",
          "text": [
            "\rPredicting (Model 3):  28%|\u2588\u2588\u258a       | 187/667 [00:26<01:07,  7.11it/s]"
          ]
        },
        {
          "output_type": "stream",
          "name": "stderr",
          "text": [
            "\rPredicting (Model 3):  28%|\u2588\u2588\u258a       | 188/667 [00:26<01:07,  7.09it/s]"
          ]
        },
        {
          "output_type": "stream",
          "name": "stderr",
          "text": [
            "\rPredicting (Model 3):  28%|\u2588\u2588\u258a       | 189/667 [00:26<01:07,  7.11it/s]"
          ]
        },
        {
          "output_type": "stream",
          "name": "stderr",
          "text": [
            "\rPredicting (Model 3):  28%|\u2588\u2588\u258a       | 190/667 [00:26<01:07,  7.10it/s]"
          ]
        },
        {
          "output_type": "stream",
          "name": "stderr",
          "text": [
            "\rPredicting (Model 3):  29%|\u2588\u2588\u258a       | 191/667 [00:27<01:06,  7.12it/s]"
          ]
        },
        {
          "output_type": "stream",
          "name": "stderr",
          "text": [
            "\rPredicting (Model 3):  29%|\u2588\u2588\u2589       | 192/667 [00:27<01:06,  7.12it/s]"
          ]
        },
        {
          "output_type": "stream",
          "name": "stderr",
          "text": [
            "\rPredicting (Model 3):  29%|\u2588\u2588\u2589       | 193/667 [00:27<01:06,  7.14it/s]"
          ]
        },
        {
          "output_type": "stream",
          "name": "stderr",
          "text": [
            "\rPredicting (Model 3):  29%|\u2588\u2588\u2589       | 194/667 [00:27<01:06,  7.14it/s]"
          ]
        },
        {
          "output_type": "stream",
          "name": "stderr",
          "text": [
            "\rPredicting (Model 3):  29%|\u2588\u2588\u2589       | 195/667 [00:27<01:06,  7.14it/s]"
          ]
        },
        {
          "output_type": "stream",
          "name": "stderr",
          "text": [
            "\rPredicting (Model 3):  29%|\u2588\u2588\u2589       | 196/667 [00:27<01:06,  7.13it/s]"
          ]
        },
        {
          "output_type": "stream",
          "name": "stderr",
          "text": [
            "\rPredicting (Model 3):  30%|\u2588\u2588\u2589       | 197/667 [00:27<01:05,  7.13it/s]"
          ]
        },
        {
          "output_type": "stream",
          "name": "stderr",
          "text": [
            "\rPredicting (Model 3):  30%|\u2588\u2588\u2589       | 198/667 [00:28<01:05,  7.12it/s]"
          ]
        },
        {
          "output_type": "stream",
          "name": "stderr",
          "text": [
            "\rPredicting (Model 3):  30%|\u2588\u2588\u2589       | 199/667 [00:28<01:05,  7.13it/s]"
          ]
        },
        {
          "output_type": "stream",
          "name": "stderr",
          "text": [
            "\rPredicting (Model 3):  30%|\u2588\u2588\u2589       | 200/667 [00:28<01:05,  7.13it/s]"
          ]
        },
        {
          "output_type": "stream",
          "name": "stderr",
          "text": [
            "\rPredicting (Model 3):  30%|\u2588\u2588\u2588       | 201/667 [00:28<01:05,  7.12it/s]"
          ]
        },
        {
          "output_type": "stream",
          "name": "stderr",
          "text": [
            "\rPredicting (Model 3):  30%|\u2588\u2588\u2588       | 202/667 [00:28<01:05,  7.11it/s]"
          ]
        },
        {
          "output_type": "stream",
          "name": "stderr",
          "text": [
            "\rPredicting (Model 3):  30%|\u2588\u2588\u2588       | 203/667 [00:28<01:05,  7.12it/s]"
          ]
        },
        {
          "output_type": "stream",
          "name": "stderr",
          "text": [
            "\rPredicting (Model 3):  31%|\u2588\u2588\u2588       | 204/667 [00:28<01:05,  7.12it/s]"
          ]
        },
        {
          "output_type": "stream",
          "name": "stderr",
          "text": [
            "\rPredicting (Model 3):  31%|\u2588\u2588\u2588       | 205/667 [00:29<01:04,  7.13it/s]"
          ]
        },
        {
          "output_type": "stream",
          "name": "stderr",
          "text": [
            "\rPredicting (Model 3):  31%|\u2588\u2588\u2588       | 206/667 [00:29<01:04,  7.14it/s]"
          ]
        },
        {
          "output_type": "stream",
          "name": "stderr",
          "text": [
            "\rPredicting (Model 3):  31%|\u2588\u2588\u2588       | 207/667 [00:29<01:04,  7.14it/s]"
          ]
        },
        {
          "output_type": "stream",
          "name": "stderr",
          "text": [
            "\rPredicting (Model 3):  31%|\u2588\u2588\u2588       | 208/667 [00:29<01:04,  7.13it/s]"
          ]
        },
        {
          "output_type": "stream",
          "name": "stderr",
          "text": [
            "\rPredicting (Model 3):  31%|\u2588\u2588\u2588\u258f      | 209/667 [00:29<01:04,  7.16it/s]"
          ]
        },
        {
          "output_type": "stream",
          "name": "stderr",
          "text": [
            "\rPredicting (Model 3):  31%|\u2588\u2588\u2588\u258f      | 210/667 [00:29<01:04,  7.14it/s]"
          ]
        },
        {
          "output_type": "stream",
          "name": "stderr",
          "text": [
            "\rPredicting (Model 3):  32%|\u2588\u2588\u2588\u258f      | 211/667 [00:29<01:03,  7.14it/s]"
          ]
        },
        {
          "output_type": "stream",
          "name": "stderr",
          "text": [
            "\rPredicting (Model 3):  32%|\u2588\u2588\u2588\u258f      | 212/667 [00:30<01:03,  7.13it/s]"
          ]
        },
        {
          "output_type": "stream",
          "name": "stderr",
          "text": [
            "\rPredicting (Model 3):  32%|\u2588\u2588\u2588\u258f      | 213/667 [00:30<01:03,  7.13it/s]"
          ]
        },
        {
          "output_type": "stream",
          "name": "stderr",
          "text": [
            "\rPredicting (Model 3):  32%|\u2588\u2588\u2588\u258f      | 214/667 [00:30<01:03,  7.11it/s]"
          ]
        },
        {
          "output_type": "stream",
          "name": "stderr",
          "text": [
            "\rPredicting (Model 3):  32%|\u2588\u2588\u2588\u258f      | 215/667 [00:30<01:03,  7.13it/s]"
          ]
        },
        {
          "output_type": "stream",
          "name": "stderr",
          "text": [
            "\rPredicting (Model 3):  32%|\u2588\u2588\u2588\u258f      | 216/667 [00:30<01:03,  7.12it/s]"
          ]
        },
        {
          "output_type": "stream",
          "name": "stderr",
          "text": [
            "\rPredicting (Model 3):  33%|\u2588\u2588\u2588\u258e      | 217/667 [00:30<01:03,  7.13it/s]"
          ]
        },
        {
          "output_type": "stream",
          "name": "stderr",
          "text": [
            "\rPredicting (Model 3):  33%|\u2588\u2588\u2588\u258e      | 218/667 [00:30<01:02,  7.13it/s]"
          ]
        },
        {
          "output_type": "stream",
          "name": "stderr",
          "text": [
            "\rPredicting (Model 3):  33%|\u2588\u2588\u2588\u258e      | 219/667 [00:30<01:02,  7.14it/s]"
          ]
        },
        {
          "output_type": "stream",
          "name": "stderr",
          "text": [
            "\rPredicting (Model 3):  33%|\u2588\u2588\u2588\u258e      | 220/667 [00:31<01:02,  7.12it/s]"
          ]
        },
        {
          "output_type": "stream",
          "name": "stderr",
          "text": [
            "\rPredicting (Model 3):  33%|\u2588\u2588\u2588\u258e      | 221/667 [00:31<01:02,  7.13it/s]"
          ]
        },
        {
          "output_type": "stream",
          "name": "stderr",
          "text": [
            "\rPredicting (Model 3):  33%|\u2588\u2588\u2588\u258e      | 222/667 [00:31<01:02,  7.13it/s]"
          ]
        },
        {
          "output_type": "stream",
          "name": "stderr",
          "text": [
            "\rPredicting (Model 3):  33%|\u2588\u2588\u2588\u258e      | 223/667 [00:31<01:02,  7.14it/s]"
          ]
        },
        {
          "output_type": "stream",
          "name": "stderr",
          "text": [
            "\rPredicting (Model 3):  34%|\u2588\u2588\u2588\u258e      | 224/667 [00:31<01:02,  7.14it/s]"
          ]
        },
        {
          "output_type": "stream",
          "name": "stderr",
          "text": [
            "\rPredicting (Model 3):  34%|\u2588\u2588\u2588\u258e      | 225/667 [00:31<01:01,  7.16it/s]"
          ]
        },
        {
          "output_type": "stream",
          "name": "stderr",
          "text": [
            "\rPredicting (Model 3):  34%|\u2588\u2588\u2588\u258d      | 226/667 [00:31<01:01,  7.14it/s]"
          ]
        },
        {
          "output_type": "stream",
          "name": "stderr",
          "text": [
            "\rPredicting (Model 3):  34%|\u2588\u2588\u2588\u258d      | 227/667 [00:32<01:01,  7.15it/s]"
          ]
        },
        {
          "output_type": "stream",
          "name": "stderr",
          "text": [
            "\rPredicting (Model 3):  34%|\u2588\u2588\u2588\u258d      | 228/667 [00:32<01:01,  7.13it/s]"
          ]
        },
        {
          "output_type": "stream",
          "name": "stderr",
          "text": [
            "\rPredicting (Model 3):  34%|\u2588\u2588\u2588\u258d      | 229/667 [00:32<01:01,  7.14it/s]"
          ]
        },
        {
          "output_type": "stream",
          "name": "stderr",
          "text": [
            "\rPredicting (Model 3):  34%|\u2588\u2588\u2588\u258d      | 230/667 [00:32<01:01,  7.12it/s]"
          ]
        },
        {
          "output_type": "stream",
          "name": "stderr",
          "text": [
            "\rPredicting (Model 3):  35%|\u2588\u2588\u2588\u258d      | 231/667 [00:32<01:01,  7.12it/s]"
          ]
        },
        {
          "output_type": "stream",
          "name": "stderr",
          "text": [
            "\rPredicting (Model 3):  35%|\u2588\u2588\u2588\u258d      | 232/667 [00:32<01:01,  7.12it/s]"
          ]
        },
        {
          "output_type": "stream",
          "name": "stderr",
          "text": [
            "\rPredicting (Model 3):  35%|\u2588\u2588\u2588\u258d      | 233/667 [00:32<01:00,  7.14it/s]"
          ]
        },
        {
          "output_type": "stream",
          "name": "stderr",
          "text": [
            "\rPredicting (Model 3):  35%|\u2588\u2588\u2588\u258c      | 234/667 [00:33<01:00,  7.13it/s]"
          ]
        },
        {
          "output_type": "stream",
          "name": "stderr",
          "text": [
            "\rPredicting (Model 3):  35%|\u2588\u2588\u2588\u258c      | 235/667 [00:33<01:00,  7.13it/s]"
          ]
        },
        {
          "output_type": "stream",
          "name": "stderr",
          "text": [
            "\rPredicting (Model 3):  35%|\u2588\u2588\u2588\u258c      | 236/667 [00:33<01:00,  7.12it/s]"
          ]
        },
        {
          "output_type": "stream",
          "name": "stderr",
          "text": [
            "\rPredicting (Model 3):  36%|\u2588\u2588\u2588\u258c      | 237/667 [00:33<01:00,  7.09it/s]"
          ]
        },
        {
          "output_type": "stream",
          "name": "stderr",
          "text": [
            "\rPredicting (Model 3):  36%|\u2588\u2588\u2588\u258c      | 238/667 [00:33<01:00,  7.08it/s]"
          ]
        },
        {
          "output_type": "stream",
          "name": "stderr",
          "text": [
            "\rPredicting (Model 3):  36%|\u2588\u2588\u2588\u258c      | 239/667 [00:33<01:00,  7.09it/s]"
          ]
        },
        {
          "output_type": "stream",
          "name": "stderr",
          "text": [
            "\rPredicting (Model 3):  36%|\u2588\u2588\u2588\u258c      | 240/667 [00:33<01:00,  7.09it/s]"
          ]
        },
        {
          "output_type": "stream",
          "name": "stderr",
          "text": [
            "\rPredicting (Model 3):  36%|\u2588\u2588\u2588\u258c      | 241/667 [00:34<01:00,  7.08it/s]"
          ]
        },
        {
          "output_type": "stream",
          "name": "stderr",
          "text": [
            "\rPredicting (Model 3):  36%|\u2588\u2588\u2588\u258b      | 242/667 [00:34<00:59,  7.09it/s]"
          ]
        },
        {
          "output_type": "stream",
          "name": "stderr",
          "text": [
            "\rPredicting (Model 3):  36%|\u2588\u2588\u2588\u258b      | 243/667 [00:34<00:59,  7.12it/s]"
          ]
        },
        {
          "output_type": "stream",
          "name": "stderr",
          "text": [
            "\rPredicting (Model 3):  37%|\u2588\u2588\u2588\u258b      | 244/667 [00:34<00:59,  7.11it/s]"
          ]
        },
        {
          "output_type": "stream",
          "name": "stderr",
          "text": [
            "\rPredicting (Model 3):  37%|\u2588\u2588\u2588\u258b      | 245/667 [00:34<00:59,  7.13it/s]"
          ]
        },
        {
          "output_type": "stream",
          "name": "stderr",
          "text": [
            "\rPredicting (Model 3):  37%|\u2588\u2588\u2588\u258b      | 246/667 [00:34<00:59,  7.13it/s]"
          ]
        },
        {
          "output_type": "stream",
          "name": "stderr",
          "text": [
            "\rPredicting (Model 3):  37%|\u2588\u2588\u2588\u258b      | 247/667 [00:34<00:58,  7.13it/s]"
          ]
        },
        {
          "output_type": "stream",
          "name": "stderr",
          "text": [
            "\rPredicting (Model 3):  37%|\u2588\u2588\u2588\u258b      | 248/667 [00:35<00:58,  7.11it/s]"
          ]
        },
        {
          "output_type": "stream",
          "name": "stderr",
          "text": [
            "\rPredicting (Model 3):  37%|\u2588\u2588\u2588\u258b      | 249/667 [00:35<00:58,  7.13it/s]"
          ]
        },
        {
          "output_type": "stream",
          "name": "stderr",
          "text": [
            "\rPredicting (Model 3):  37%|\u2588\u2588\u2588\u258b      | 250/667 [00:35<00:58,  7.11it/s]"
          ]
        },
        {
          "output_type": "stream",
          "name": "stderr",
          "text": [
            "\rPredicting (Model 3):  38%|\u2588\u2588\u2588\u258a      | 251/667 [00:35<00:58,  7.12it/s]"
          ]
        },
        {
          "output_type": "stream",
          "name": "stderr",
          "text": [
            "\rPredicting (Model 3):  38%|\u2588\u2588\u2588\u258a      | 252/667 [00:35<00:58,  7.12it/s]"
          ]
        },
        {
          "output_type": "stream",
          "name": "stderr",
          "text": [
            "\rPredicting (Model 3):  38%|\u2588\u2588\u2588\u258a      | 253/667 [00:35<00:57,  7.14it/s]"
          ]
        },
        {
          "output_type": "stream",
          "name": "stderr",
          "text": [
            "\rPredicting (Model 3):  38%|\u2588\u2588\u2588\u258a      | 254/667 [00:35<00:57,  7.13it/s]"
          ]
        },
        {
          "output_type": "stream",
          "name": "stderr",
          "text": [
            "\rPredicting (Model 3):  38%|\u2588\u2588\u2588\u258a      | 255/667 [00:36<00:57,  7.13it/s]"
          ]
        },
        {
          "output_type": "stream",
          "name": "stderr",
          "text": [
            "\rPredicting (Model 3):  38%|\u2588\u2588\u2588\u258a      | 256/667 [00:36<00:57,  7.11it/s]"
          ]
        },
        {
          "output_type": "stream",
          "name": "stderr",
          "text": [
            "\rPredicting (Model 3):  39%|\u2588\u2588\u2588\u258a      | 257/667 [00:36<00:57,  7.13it/s]"
          ]
        },
        {
          "output_type": "stream",
          "name": "stderr",
          "text": [
            "\rPredicting (Model 3):  39%|\u2588\u2588\u2588\u258a      | 258/667 [00:36<00:57,  7.12it/s]"
          ]
        },
        {
          "output_type": "stream",
          "name": "stderr",
          "text": [
            "\rPredicting (Model 3):  39%|\u2588\u2588\u2588\u2589      | 259/667 [00:36<00:57,  7.12it/s]"
          ]
        },
        {
          "output_type": "stream",
          "name": "stderr",
          "text": [
            "\rPredicting (Model 3):  39%|\u2588\u2588\u2588\u2589      | 260/667 [00:36<00:57,  7.12it/s]"
          ]
        },
        {
          "output_type": "stream",
          "name": "stderr",
          "text": [
            "\rPredicting (Model 3):  39%|\u2588\u2588\u2588\u2589      | 261/667 [00:36<00:56,  7.14it/s]"
          ]
        },
        {
          "output_type": "stream",
          "name": "stderr",
          "text": [
            "\rPredicting (Model 3):  39%|\u2588\u2588\u2588\u2589      | 262/667 [00:37<00:56,  7.13it/s]"
          ]
        },
        {
          "output_type": "stream",
          "name": "stderr",
          "text": [
            "\rPredicting (Model 3):  39%|\u2588\u2588\u2588\u2589      | 263/667 [00:37<00:56,  7.13it/s]"
          ]
        },
        {
          "output_type": "stream",
          "name": "stderr",
          "text": [
            "\rPredicting (Model 3):  40%|\u2588\u2588\u2588\u2589      | 264/667 [00:37<00:56,  7.12it/s]"
          ]
        },
        {
          "output_type": "stream",
          "name": "stderr",
          "text": [
            "\rPredicting (Model 3):  40%|\u2588\u2588\u2588\u2589      | 265/667 [00:37<00:56,  7.14it/s]"
          ]
        },
        {
          "output_type": "stream",
          "name": "stderr",
          "text": [
            "\rPredicting (Model 3):  40%|\u2588\u2588\u2588\u2589      | 266/667 [00:37<00:56,  7.12it/s]"
          ]
        },
        {
          "output_type": "stream",
          "name": "stderr",
          "text": [
            "\rPredicting (Model 3):  40%|\u2588\u2588\u2588\u2588      | 267/667 [00:37<00:56,  7.13it/s]"
          ]
        },
        {
          "output_type": "stream",
          "name": "stderr",
          "text": [
            "\rPredicting (Model 3):  40%|\u2588\u2588\u2588\u2588      | 268/667 [00:37<00:56,  7.12it/s]"
          ]
        },
        {
          "output_type": "stream",
          "name": "stderr",
          "text": [
            "\rPredicting (Model 3):  40%|\u2588\u2588\u2588\u2588      | 269/667 [00:38<00:55,  7.15it/s]"
          ]
        },
        {
          "output_type": "stream",
          "name": "stderr",
          "text": [
            "\rPredicting (Model 3):  40%|\u2588\u2588\u2588\u2588      | 270/667 [00:38<00:55,  7.15it/s]"
          ]
        },
        {
          "output_type": "stream",
          "name": "stderr",
          "text": [
            "\rPredicting (Model 3):  41%|\u2588\u2588\u2588\u2588      | 271/667 [00:38<00:55,  7.14it/s]"
          ]
        },
        {
          "output_type": "stream",
          "name": "stderr",
          "text": [
            "\rPredicting (Model 3):  41%|\u2588\u2588\u2588\u2588      | 272/667 [00:38<00:55,  7.12it/s]"
          ]
        },
        {
          "output_type": "stream",
          "name": "stderr",
          "text": [
            "\rPredicting (Model 3):  41%|\u2588\u2588\u2588\u2588      | 273/667 [00:38<00:55,  7.14it/s]"
          ]
        },
        {
          "output_type": "stream",
          "name": "stderr",
          "text": [
            "\rPredicting (Model 3):  41%|\u2588\u2588\u2588\u2588      | 274/667 [00:38<00:55,  7.14it/s]"
          ]
        },
        {
          "output_type": "stream",
          "name": "stderr",
          "text": [
            "\rPredicting (Model 3):  41%|\u2588\u2588\u2588\u2588      | 275/667 [00:38<00:54,  7.14it/s]"
          ]
        },
        {
          "output_type": "stream",
          "name": "stderr",
          "text": [
            "\rPredicting (Model 3):  41%|\u2588\u2588\u2588\u2588\u258f     | 276/667 [00:38<00:54,  7.13it/s]"
          ]
        },
        {
          "output_type": "stream",
          "name": "stderr",
          "text": [
            "\rPredicting (Model 3):  42%|\u2588\u2588\u2588\u2588\u258f     | 277/667 [00:39<00:54,  7.15it/s]"
          ]
        },
        {
          "output_type": "stream",
          "name": "stderr",
          "text": [
            "\rPredicting (Model 3):  42%|\u2588\u2588\u2588\u2588\u258f     | 278/667 [00:39<00:54,  7.14it/s]"
          ]
        },
        {
          "output_type": "stream",
          "name": "stderr",
          "text": [
            "\rPredicting (Model 3):  42%|\u2588\u2588\u2588\u2588\u258f     | 279/667 [00:39<00:54,  7.13it/s]"
          ]
        },
        {
          "output_type": "stream",
          "name": "stderr",
          "text": [
            "\rPredicting (Model 3):  42%|\u2588\u2588\u2588\u2588\u258f     | 280/667 [00:39<00:54,  7.12it/s]"
          ]
        },
        {
          "output_type": "stream",
          "name": "stderr",
          "text": [
            "\rPredicting (Model 3):  42%|\u2588\u2588\u2588\u2588\u258f     | 281/667 [00:39<00:54,  7.13it/s]"
          ]
        },
        {
          "output_type": "stream",
          "name": "stderr",
          "text": [
            "\rPredicting (Model 3):  42%|\u2588\u2588\u2588\u2588\u258f     | 282/667 [00:39<00:54,  7.13it/s]"
          ]
        },
        {
          "output_type": "stream",
          "name": "stderr",
          "text": [
            "\rPredicting (Model 3):  42%|\u2588\u2588\u2588\u2588\u258f     | 283/667 [00:39<00:53,  7.12it/s]"
          ]
        },
        {
          "output_type": "stream",
          "name": "stderr",
          "text": [
            "\rPredicting (Model 3):  43%|\u2588\u2588\u2588\u2588\u258e     | 284/667 [00:40<00:53,  7.12it/s]"
          ]
        },
        {
          "output_type": "stream",
          "name": "stderr",
          "text": [
            "\rPredicting (Model 3):  43%|\u2588\u2588\u2588\u2588\u258e     | 285/667 [00:40<00:53,  7.12it/s]"
          ]
        },
        {
          "output_type": "stream",
          "name": "stderr",
          "text": [
            "\rPredicting (Model 3):  43%|\u2588\u2588\u2588\u2588\u258e     | 286/667 [00:40<00:53,  7.10it/s]"
          ]
        },
        {
          "output_type": "stream",
          "name": "stderr",
          "text": [
            "\rPredicting (Model 3):  43%|\u2588\u2588\u2588\u2588\u258e     | 287/667 [00:40<00:53,  7.11it/s]"
          ]
        },
        {
          "output_type": "stream",
          "name": "stderr",
          "text": [
            "\rPredicting (Model 3):  43%|\u2588\u2588\u2588\u2588\u258e     | 288/667 [00:40<00:53,  7.10it/s]"
          ]
        },
        {
          "output_type": "stream",
          "name": "stderr",
          "text": [
            "\rPredicting (Model 3):  43%|\u2588\u2588\u2588\u2588\u258e     | 289/667 [00:40<00:53,  7.12it/s]"
          ]
        },
        {
          "output_type": "stream",
          "name": "stderr",
          "text": [
            "\rPredicting (Model 3):  43%|\u2588\u2588\u2588\u2588\u258e     | 290/667 [00:40<00:53,  7.11it/s]"
          ]
        },
        {
          "output_type": "stream",
          "name": "stderr",
          "text": [
            "\rPredicting (Model 3):  44%|\u2588\u2588\u2588\u2588\u258e     | 291/667 [00:41<00:52,  7.12it/s]"
          ]
        },
        {
          "output_type": "stream",
          "name": "stderr",
          "text": [
            "\rPredicting (Model 3):  44%|\u2588\u2588\u2588\u2588\u258d     | 292/667 [00:41<00:52,  7.13it/s]"
          ]
        },
        {
          "output_type": "stream",
          "name": "stderr",
          "text": [
            "\rPredicting (Model 3):  44%|\u2588\u2588\u2588\u2588\u258d     | 293/667 [00:41<00:52,  7.15it/s]"
          ]
        },
        {
          "output_type": "stream",
          "name": "stderr",
          "text": [
            "\rPredicting (Model 3):  44%|\u2588\u2588\u2588\u2588\u258d     | 294/667 [00:41<00:52,  7.13it/s]"
          ]
        },
        {
          "output_type": "stream",
          "name": "stderr",
          "text": [
            "\rPredicting (Model 3):  44%|\u2588\u2588\u2588\u2588\u258d     | 295/667 [00:41<00:52,  7.14it/s]"
          ]
        },
        {
          "output_type": "stream",
          "name": "stderr",
          "text": [
            "\rPredicting (Model 3):  44%|\u2588\u2588\u2588\u2588\u258d     | 296/667 [00:41<00:52,  7.13it/s]"
          ]
        },
        {
          "output_type": "stream",
          "name": "stderr",
          "text": [
            "\rPredicting (Model 3):  45%|\u2588\u2588\u2588\u2588\u258d     | 297/667 [00:41<00:51,  7.15it/s]"
          ]
        },
        {
          "output_type": "stream",
          "name": "stderr",
          "text": [
            "\rPredicting (Model 3):  45%|\u2588\u2588\u2588\u2588\u258d     | 298/667 [00:42<00:51,  7.14it/s]"
          ]
        },
        {
          "output_type": "stream",
          "name": "stderr",
          "text": [
            "\rPredicting (Model 3):  45%|\u2588\u2588\u2588\u2588\u258d     | 299/667 [00:42<00:51,  7.15it/s]"
          ]
        },
        {
          "output_type": "stream",
          "name": "stderr",
          "text": [
            "\rPredicting (Model 3):  45%|\u2588\u2588\u2588\u2588\u258d     | 300/667 [00:42<00:51,  7.14it/s]"
          ]
        },
        {
          "output_type": "stream",
          "name": "stderr",
          "text": [
            "\rPredicting (Model 3):  45%|\u2588\u2588\u2588\u2588\u258c     | 301/667 [00:42<00:51,  7.15it/s]"
          ]
        },
        {
          "output_type": "stream",
          "name": "stderr",
          "text": [
            "\rPredicting (Model 3):  45%|\u2588\u2588\u2588\u2588\u258c     | 302/667 [00:42<00:51,  7.13it/s]"
          ]
        },
        {
          "output_type": "stream",
          "name": "stderr",
          "text": [
            "\rPredicting (Model 3):  45%|\u2588\u2588\u2588\u2588\u258c     | 303/667 [00:42<00:51,  7.14it/s]"
          ]
        },
        {
          "output_type": "stream",
          "name": "stderr",
          "text": [
            "\rPredicting (Model 3):  46%|\u2588\u2588\u2588\u2588\u258c     | 304/667 [00:42<00:50,  7.13it/s]"
          ]
        },
        {
          "output_type": "stream",
          "name": "stderr",
          "text": [
            "\rPredicting (Model 3):  46%|\u2588\u2588\u2588\u2588\u258c     | 305/667 [00:43<00:50,  7.14it/s]"
          ]
        },
        {
          "output_type": "stream",
          "name": "stderr",
          "text": [
            "\rPredicting (Model 3):  46%|\u2588\u2588\u2588\u2588\u258c     | 306/667 [00:43<00:50,  7.13it/s]"
          ]
        },
        {
          "output_type": "stream",
          "name": "stderr",
          "text": [
            "\rPredicting (Model 3):  46%|\u2588\u2588\u2588\u2588\u258c     | 307/667 [00:43<00:50,  7.14it/s]"
          ]
        },
        {
          "output_type": "stream",
          "name": "stderr",
          "text": [
            "\rPredicting (Model 3):  46%|\u2588\u2588\u2588\u2588\u258c     | 308/667 [00:43<00:50,  7.12it/s]"
          ]
        },
        {
          "output_type": "stream",
          "name": "stderr",
          "text": [
            "\rPredicting (Model 3):  46%|\u2588\u2588\u2588\u2588\u258b     | 309/667 [00:43<00:50,  7.14it/s]"
          ]
        },
        {
          "output_type": "stream",
          "name": "stderr",
          "text": [
            "\rPredicting (Model 3):  46%|\u2588\u2588\u2588\u2588\u258b     | 310/667 [00:43<00:50,  7.13it/s]"
          ]
        },
        {
          "output_type": "stream",
          "name": "stderr",
          "text": [
            "\rPredicting (Model 3):  47%|\u2588\u2588\u2588\u2588\u258b     | 311/667 [00:43<00:49,  7.13it/s]"
          ]
        },
        {
          "output_type": "stream",
          "name": "stderr",
          "text": [
            "\rPredicting (Model 3):  47%|\u2588\u2588\u2588\u2588\u258b     | 312/667 [00:44<00:49,  7.11it/s]"
          ]
        },
        {
          "output_type": "stream",
          "name": "stderr",
          "text": [
            "\rPredicting (Model 3):  47%|\u2588\u2588\u2588\u2588\u258b     | 313/667 [00:44<00:49,  7.12it/s]"
          ]
        },
        {
          "output_type": "stream",
          "name": "stderr",
          "text": [
            "\rPredicting (Model 3):  47%|\u2588\u2588\u2588\u2588\u258b     | 314/667 [00:44<00:49,  7.12it/s]"
          ]
        },
        {
          "output_type": "stream",
          "name": "stderr",
          "text": [
            "\rPredicting (Model 3):  47%|\u2588\u2588\u2588\u2588\u258b     | 315/667 [00:44<00:49,  7.13it/s]"
          ]
        },
        {
          "output_type": "stream",
          "name": "stderr",
          "text": [
            "\rPredicting (Model 3):  47%|\u2588\u2588\u2588\u2588\u258b     | 316/667 [00:44<00:49,  7.11it/s]"
          ]
        },
        {
          "output_type": "stream",
          "name": "stderr",
          "text": [
            "\rPredicting (Model 3):  48%|\u2588\u2588\u2588\u2588\u258a     | 317/667 [00:44<00:49,  7.12it/s]"
          ]
        },
        {
          "output_type": "stream",
          "name": "stderr",
          "text": [
            "\rPredicting (Model 3):  48%|\u2588\u2588\u2588\u2588\u258a     | 318/667 [00:44<00:49,  7.12it/s]"
          ]
        },
        {
          "output_type": "stream",
          "name": "stderr",
          "text": [
            "\rPredicting (Model 3):  48%|\u2588\u2588\u2588\u2588\u258a     | 319/667 [00:45<00:48,  7.13it/s]"
          ]
        },
        {
          "output_type": "stream",
          "name": "stderr",
          "text": [
            "\rPredicting (Model 3):  48%|\u2588\u2588\u2588\u2588\u258a     | 320/667 [00:45<00:48,  7.09it/s]"
          ]
        },
        {
          "output_type": "stream",
          "name": "stderr",
          "text": [
            "\rPredicting (Model 3):  48%|\u2588\u2588\u2588\u2588\u258a     | 321/667 [00:45<00:48,  7.12it/s]"
          ]
        },
        {
          "output_type": "stream",
          "name": "stderr",
          "text": [
            "\rPredicting (Model 3):  48%|\u2588\u2588\u2588\u2588\u258a     | 322/667 [00:45<00:48,  7.12it/s]"
          ]
        },
        {
          "output_type": "stream",
          "name": "stderr",
          "text": [
            "\rPredicting (Model 3):  48%|\u2588\u2588\u2588\u2588\u258a     | 323/667 [00:45<00:48,  7.13it/s]"
          ]
        },
        {
          "output_type": "stream",
          "name": "stderr",
          "text": [
            "\rPredicting (Model 3):  49%|\u2588\u2588\u2588\u2588\u258a     | 324/667 [00:45<00:48,  7.12it/s]"
          ]
        },
        {
          "output_type": "stream",
          "name": "stderr",
          "text": [
            "\rPredicting (Model 3):  49%|\u2588\u2588\u2588\u2588\u258a     | 325/667 [00:45<00:47,  7.14it/s]"
          ]
        },
        {
          "output_type": "stream",
          "name": "stderr",
          "text": [
            "\rPredicting (Model 3):  49%|\u2588\u2588\u2588\u2588\u2589     | 326/667 [00:46<00:47,  7.13it/s]"
          ]
        },
        {
          "output_type": "stream",
          "name": "stderr",
          "text": [
            "\rPredicting (Model 3):  49%|\u2588\u2588\u2588\u2588\u2589     | 327/667 [00:46<00:47,  7.13it/s]"
          ]
        },
        {
          "output_type": "stream",
          "name": "stderr",
          "text": [
            "\rPredicting (Model 3):  49%|\u2588\u2588\u2588\u2588\u2589     | 328/667 [00:46<00:47,  7.11it/s]"
          ]
        },
        {
          "output_type": "stream",
          "name": "stderr",
          "text": [
            "\rPredicting (Model 3):  49%|\u2588\u2588\u2588\u2588\u2589     | 329/667 [00:46<00:47,  7.12it/s]"
          ]
        },
        {
          "output_type": "stream",
          "name": "stderr",
          "text": [
            "\rPredicting (Model 3):  49%|\u2588\u2588\u2588\u2588\u2589     | 330/667 [00:46<00:47,  7.11it/s]"
          ]
        },
        {
          "output_type": "stream",
          "name": "stderr",
          "text": [
            "\rPredicting (Model 3):  50%|\u2588\u2588\u2588\u2588\u2589     | 331/667 [00:46<00:47,  7.13it/s]"
          ]
        },
        {
          "output_type": "stream",
          "name": "stderr",
          "text": [
            "\rPredicting (Model 3):  50%|\u2588\u2588\u2588\u2588\u2589     | 332/667 [00:46<00:47,  7.11it/s]"
          ]
        },
        {
          "output_type": "stream",
          "name": "stderr",
          "text": [
            "\rPredicting (Model 3):  50%|\u2588\u2588\u2588\u2588\u2589     | 333/667 [00:46<00:46,  7.12it/s]"
          ]
        },
        {
          "output_type": "stream",
          "name": "stderr",
          "text": [
            "\rPredicting (Model 3):  50%|\u2588\u2588\u2588\u2588\u2588     | 334/667 [00:47<00:46,  7.13it/s]"
          ]
        },
        {
          "output_type": "stream",
          "name": "stderr",
          "text": [
            "\rPredicting (Model 3):  50%|\u2588\u2588\u2588\u2588\u2588     | 335/667 [00:47<00:46,  7.13it/s]"
          ]
        },
        {
          "output_type": "stream",
          "name": "stderr",
          "text": [
            "\rPredicting (Model 3):  50%|\u2588\u2588\u2588\u2588\u2588     | 336/667 [00:47<00:46,  7.11it/s]"
          ]
        },
        {
          "output_type": "stream",
          "name": "stderr",
          "text": [
            "\rPredicting (Model 3):  51%|\u2588\u2588\u2588\u2588\u2588     | 337/667 [00:47<00:46,  7.12it/s]"
          ]
        },
        {
          "output_type": "stream",
          "name": "stderr",
          "text": [
            "\rPredicting (Model 3):  51%|\u2588\u2588\u2588\u2588\u2588     | 338/667 [00:47<00:46,  7.11it/s]"
          ]
        },
        {
          "output_type": "stream",
          "name": "stderr",
          "text": [
            "\rPredicting (Model 3):  51%|\u2588\u2588\u2588\u2588\u2588     | 339/667 [00:47<00:46,  7.11it/s]"
          ]
        },
        {
          "output_type": "stream",
          "name": "stderr",
          "text": [
            "\rPredicting (Model 3):  51%|\u2588\u2588\u2588\u2588\u2588     | 340/667 [00:47<00:46,  7.10it/s]"
          ]
        },
        {
          "output_type": "stream",
          "name": "stderr",
          "text": [
            "\rPredicting (Model 3):  51%|\u2588\u2588\u2588\u2588\u2588     | 341/667 [00:48<00:45,  7.11it/s]"
          ]
        },
        {
          "output_type": "stream",
          "name": "stderr",
          "text": [
            "\rPredicting (Model 3):  51%|\u2588\u2588\u2588\u2588\u2588\u258f    | 342/667 [00:48<00:45,  7.10it/s]"
          ]
        },
        {
          "output_type": "stream",
          "name": "stderr",
          "text": [
            "\rPredicting (Model 3):  51%|\u2588\u2588\u2588\u2588\u2588\u258f    | 343/667 [00:48<00:45,  7.12it/s]"
          ]
        },
        {
          "output_type": "stream",
          "name": "stderr",
          "text": [
            "\rPredicting (Model 3):  52%|\u2588\u2588\u2588\u2588\u2588\u258f    | 344/667 [00:48<00:45,  7.10it/s]"
          ]
        },
        {
          "output_type": "stream",
          "name": "stderr",
          "text": [
            "\rPredicting (Model 3):  52%|\u2588\u2588\u2588\u2588\u2588\u258f    | 345/667 [00:48<00:45,  7.12it/s]"
          ]
        },
        {
          "output_type": "stream",
          "name": "stderr",
          "text": [
            "\rPredicting (Model 3):  52%|\u2588\u2588\u2588\u2588\u2588\u258f    | 346/667 [00:48<00:45,  7.11it/s]"
          ]
        },
        {
          "output_type": "stream",
          "name": "stderr",
          "text": [
            "\rPredicting (Model 3):  52%|\u2588\u2588\u2588\u2588\u2588\u258f    | 347/667 [00:48<00:44,  7.12it/s]"
          ]
        },
        {
          "output_type": "stream",
          "name": "stderr",
          "text": [
            "\rPredicting (Model 3):  52%|\u2588\u2588\u2588\u2588\u2588\u258f    | 348/667 [00:49<00:44,  7.10it/s]"
          ]
        },
        {
          "output_type": "stream",
          "name": "stderr",
          "text": [
            "\rPredicting (Model 3):  52%|\u2588\u2588\u2588\u2588\u2588\u258f    | 349/667 [00:49<00:44,  7.10it/s]"
          ]
        },
        {
          "output_type": "stream",
          "name": "stderr",
          "text": [
            "\rPredicting (Model 3):  52%|\u2588\u2588\u2588\u2588\u2588\u258f    | 350/667 [00:49<00:44,  7.10it/s]"
          ]
        },
        {
          "output_type": "stream",
          "name": "stderr",
          "text": [
            "\rPredicting (Model 3):  53%|\u2588\u2588\u2588\u2588\u2588\u258e    | 351/667 [00:49<00:44,  7.12it/s]"
          ]
        },
        {
          "output_type": "stream",
          "name": "stderr",
          "text": [
            "\rPredicting (Model 3):  53%|\u2588\u2588\u2588\u2588\u2588\u258e    | 352/667 [00:49<00:44,  7.10it/s]"
          ]
        },
        {
          "output_type": "stream",
          "name": "stderr",
          "text": [
            "\rPredicting (Model 3):  53%|\u2588\u2588\u2588\u2588\u2588\u258e    | 353/667 [00:49<00:44,  7.12it/s]"
          ]
        },
        {
          "output_type": "stream",
          "name": "stderr",
          "text": [
            "\rPredicting (Model 3):  53%|\u2588\u2588\u2588\u2588\u2588\u258e    | 354/667 [00:49<00:43,  7.12it/s]"
          ]
        },
        {
          "output_type": "stream",
          "name": "stderr",
          "text": [
            "\rPredicting (Model 3):  53%|\u2588\u2588\u2588\u2588\u2588\u258e    | 355/667 [00:50<00:43,  7.14it/s]"
          ]
        },
        {
          "output_type": "stream",
          "name": "stderr",
          "text": [
            "\rPredicting (Model 3):  53%|\u2588\u2588\u2588\u2588\u2588\u258e    | 356/667 [00:50<00:43,  7.13it/s]"
          ]
        },
        {
          "output_type": "stream",
          "name": "stderr",
          "text": [
            "\rPredicting (Model 3):  54%|\u2588\u2588\u2588\u2588\u2588\u258e    | 357/667 [00:50<00:43,  7.14it/s]"
          ]
        },
        {
          "output_type": "stream",
          "name": "stderr",
          "text": [
            "\rPredicting (Model 3):  54%|\u2588\u2588\u2588\u2588\u2588\u258e    | 358/667 [00:50<00:43,  7.13it/s]"
          ]
        },
        {
          "output_type": "stream",
          "name": "stderr",
          "text": [
            "\rPredicting (Model 3):  54%|\u2588\u2588\u2588\u2588\u2588\u258d    | 359/667 [00:50<00:43,  7.13it/s]"
          ]
        },
        {
          "output_type": "stream",
          "name": "stderr",
          "text": [
            "\rPredicting (Model 3):  54%|\u2588\u2588\u2588\u2588\u2588\u258d    | 360/667 [00:50<00:43,  7.11it/s]"
          ]
        },
        {
          "output_type": "stream",
          "name": "stderr",
          "text": [
            "\rPredicting (Model 3):  54%|\u2588\u2588\u2588\u2588\u2588\u258d    | 361/667 [00:50<00:42,  7.12it/s]"
          ]
        },
        {
          "output_type": "stream",
          "name": "stderr",
          "text": [
            "\rPredicting (Model 3):  54%|\u2588\u2588\u2588\u2588\u2588\u258d    | 362/667 [00:51<00:42,  7.12it/s]"
          ]
        },
        {
          "output_type": "stream",
          "name": "stderr",
          "text": [
            "\rPredicting (Model 3):  54%|\u2588\u2588\u2588\u2588\u2588\u258d    | 363/667 [00:51<00:42,  7.13it/s]"
          ]
        },
        {
          "output_type": "stream",
          "name": "stderr",
          "text": [
            "\rPredicting (Model 3):  55%|\u2588\u2588\u2588\u2588\u2588\u258d    | 364/667 [00:51<00:42,  7.12it/s]"
          ]
        },
        {
          "output_type": "stream",
          "name": "stderr",
          "text": [
            "\rPredicting (Model 3):  55%|\u2588\u2588\u2588\u2588\u2588\u258d    | 365/667 [00:51<00:42,  7.13it/s]"
          ]
        },
        {
          "output_type": "stream",
          "name": "stderr",
          "text": [
            "\rPredicting (Model 3):  55%|\u2588\u2588\u2588\u2588\u2588\u258d    | 366/667 [00:51<00:42,  7.12it/s]"
          ]
        },
        {
          "output_type": "stream",
          "name": "stderr",
          "text": [
            "\rPredicting (Model 3):  55%|\u2588\u2588\u2588\u2588\u2588\u258c    | 367/667 [00:51<00:42,  7.12it/s]"
          ]
        },
        {
          "output_type": "stream",
          "name": "stderr",
          "text": [
            "\rPredicting (Model 3):  55%|\u2588\u2588\u2588\u2588\u2588\u258c    | 368/667 [00:51<00:42,  7.12it/s]"
          ]
        },
        {
          "output_type": "stream",
          "name": "stderr",
          "text": [
            "\rPredicting (Model 3):  55%|\u2588\u2588\u2588\u2588\u2588\u258c    | 369/667 [00:52<00:41,  7.13it/s]"
          ]
        },
        {
          "output_type": "stream",
          "name": "stderr",
          "text": [
            "\rPredicting (Model 3):  55%|\u2588\u2588\u2588\u2588\u2588\u258c    | 370/667 [00:52<00:41,  7.12it/s]"
          ]
        },
        {
          "output_type": "stream",
          "name": "stderr",
          "text": [
            "\rPredicting (Model 3):  56%|\u2588\u2588\u2588\u2588\u2588\u258c    | 371/667 [00:52<00:41,  7.14it/s]"
          ]
        },
        {
          "output_type": "stream",
          "name": "stderr",
          "text": [
            "\rPredicting (Model 3):  56%|\u2588\u2588\u2588\u2588\u2588\u258c    | 372/667 [00:52<00:41,  7.12it/s]"
          ]
        },
        {
          "output_type": "stream",
          "name": "stderr",
          "text": [
            "\rPredicting (Model 3):  56%|\u2588\u2588\u2588\u2588\u2588\u258c    | 373/667 [00:52<00:41,  7.11it/s]"
          ]
        },
        {
          "output_type": "stream",
          "name": "stderr",
          "text": [
            "\rPredicting (Model 3):  56%|\u2588\u2588\u2588\u2588\u2588\u258c    | 374/667 [00:52<00:41,  7.11it/s]"
          ]
        },
        {
          "output_type": "stream",
          "name": "stderr",
          "text": [
            "\rPredicting (Model 3):  56%|\u2588\u2588\u2588\u2588\u2588\u258c    | 375/667 [00:52<00:41,  7.11it/s]"
          ]
        },
        {
          "output_type": "stream",
          "name": "stderr",
          "text": [
            "\rPredicting (Model 3):  56%|\u2588\u2588\u2588\u2588\u2588\u258b    | 376/667 [00:53<00:41,  7.09it/s]"
          ]
        },
        {
          "output_type": "stream",
          "name": "stderr",
          "text": [
            "\rPredicting (Model 3):  57%|\u2588\u2588\u2588\u2588\u2588\u258b    | 377/667 [00:53<00:40,  7.10it/s]"
          ]
        },
        {
          "output_type": "stream",
          "name": "stderr",
          "text": [
            "\rPredicting (Model 3):  57%|\u2588\u2588\u2588\u2588\u2588\u258b    | 378/667 [00:53<00:40,  7.10it/s]"
          ]
        },
        {
          "output_type": "stream",
          "name": "stderr",
          "text": [
            "\rPredicting (Model 3):  57%|\u2588\u2588\u2588\u2588\u2588\u258b    | 379/667 [00:53<00:40,  7.12it/s]"
          ]
        },
        {
          "output_type": "stream",
          "name": "stderr",
          "text": [
            "\rPredicting (Model 3):  57%|\u2588\u2588\u2588\u2588\u2588\u258b    | 380/667 [00:53<00:40,  7.10it/s]"
          ]
        },
        {
          "output_type": "stream",
          "name": "stderr",
          "text": [
            "\rPredicting (Model 3):  57%|\u2588\u2588\u2588\u2588\u2588\u258b    | 381/667 [00:53<00:40,  7.12it/s]"
          ]
        },
        {
          "output_type": "stream",
          "name": "stderr",
          "text": [
            "\rPredicting (Model 3):  57%|\u2588\u2588\u2588\u2588\u2588\u258b    | 382/667 [00:53<00:40,  7.11it/s]"
          ]
        },
        {
          "output_type": "stream",
          "name": "stderr",
          "text": [
            "\rPredicting (Model 3):  57%|\u2588\u2588\u2588\u2588\u2588\u258b    | 383/667 [00:54<00:39,  7.12it/s]"
          ]
        },
        {
          "output_type": "stream",
          "name": "stderr",
          "text": [
            "\rPredicting (Model 3):  58%|\u2588\u2588\u2588\u2588\u2588\u258a    | 384/667 [00:54<00:39,  7.09it/s]"
          ]
        },
        {
          "output_type": "stream",
          "name": "stderr",
          "text": [
            "\rPredicting (Model 3):  58%|\u2588\u2588\u2588\u2588\u2588\u258a    | 385/667 [00:54<00:39,  7.12it/s]"
          ]
        },
        {
          "output_type": "stream",
          "name": "stderr",
          "text": [
            "\rPredicting (Model 3):  58%|\u2588\u2588\u2588\u2588\u2588\u258a    | 386/667 [00:54<00:39,  7.12it/s]"
          ]
        },
        {
          "output_type": "stream",
          "name": "stderr",
          "text": [
            "\rPredicting (Model 3):  58%|\u2588\u2588\u2588\u2588\u2588\u258a    | 387/667 [00:54<00:39,  7.13it/s]"
          ]
        },
        {
          "output_type": "stream",
          "name": "stderr",
          "text": [
            "\rPredicting (Model 3):  58%|\u2588\u2588\u2588\u2588\u2588\u258a    | 388/667 [00:54<00:39,  7.11it/s]"
          ]
        },
        {
          "output_type": "stream",
          "name": "stderr",
          "text": [
            "\rPredicting (Model 3):  58%|\u2588\u2588\u2588\u2588\u2588\u258a    | 389/667 [00:54<00:38,  7.13it/s]"
          ]
        },
        {
          "output_type": "stream",
          "name": "stderr",
          "text": [
            "\rPredicting (Model 3):  58%|\u2588\u2588\u2588\u2588\u2588\u258a    | 390/667 [00:55<00:38,  7.13it/s]"
          ]
        },
        {
          "output_type": "stream",
          "name": "stderr",
          "text": [
            "\rPredicting (Model 3):  59%|\u2588\u2588\u2588\u2588\u2588\u258a    | 391/667 [00:55<00:38,  7.14it/s]"
          ]
        },
        {
          "output_type": "stream",
          "name": "stderr",
          "text": [
            "\rPredicting (Model 3):  59%|\u2588\u2588\u2588\u2588\u2588\u2589    | 392/667 [00:55<00:38,  7.12it/s]"
          ]
        },
        {
          "output_type": "stream",
          "name": "stderr",
          "text": [
            "\rPredicting (Model 3):  59%|\u2588\u2588\u2588\u2588\u2588\u2589    | 393/667 [00:55<00:38,  7.13it/s]"
          ]
        },
        {
          "output_type": "stream",
          "name": "stderr",
          "text": [
            "\rPredicting (Model 3):  59%|\u2588\u2588\u2588\u2588\u2588\u2589    | 394/667 [00:55<00:38,  7.12it/s]"
          ]
        },
        {
          "output_type": "stream",
          "name": "stderr",
          "text": [
            "\rPredicting (Model 3):  59%|\u2588\u2588\u2588\u2588\u2588\u2589    | 395/667 [00:55<00:38,  7.13it/s]"
          ]
        },
        {
          "output_type": "stream",
          "name": "stderr",
          "text": [
            "\rPredicting (Model 3):  59%|\u2588\u2588\u2588\u2588\u2588\u2589    | 396/667 [00:55<00:38,  7.11it/s]"
          ]
        },
        {
          "output_type": "stream",
          "name": "stderr",
          "text": [
            "\rPredicting (Model 3):  60%|\u2588\u2588\u2588\u2588\u2588\u2589    | 397/667 [00:55<00:38,  7.10it/s]"
          ]
        },
        {
          "output_type": "stream",
          "name": "stderr",
          "text": [
            "\rPredicting (Model 3):  60%|\u2588\u2588\u2588\u2588\u2588\u2589    | 398/667 [00:56<00:37,  7.09it/s]"
          ]
        },
        {
          "output_type": "stream",
          "name": "stderr",
          "text": [
            "\rPredicting (Model 3):  60%|\u2588\u2588\u2588\u2588\u2588\u2589    | 399/667 [00:56<00:37,  7.09it/s]"
          ]
        },
        {
          "output_type": "stream",
          "name": "stderr",
          "text": [
            "\rPredicting (Model 3):  60%|\u2588\u2588\u2588\u2588\u2588\u2589    | 400/667 [00:56<00:37,  7.08it/s]"
          ]
        },
        {
          "output_type": "stream",
          "name": "stderr",
          "text": [
            "\rPredicting (Model 3):  60%|\u2588\u2588\u2588\u2588\u2588\u2588    | 401/667 [00:56<00:37,  7.10it/s]"
          ]
        },
        {
          "output_type": "stream",
          "name": "stderr",
          "text": [
            "\rPredicting (Model 3):  60%|\u2588\u2588\u2588\u2588\u2588\u2588    | 402/667 [00:56<00:37,  7.10it/s]"
          ]
        },
        {
          "output_type": "stream",
          "name": "stderr",
          "text": [
            "\rPredicting (Model 3):  60%|\u2588\u2588\u2588\u2588\u2588\u2588    | 403/667 [00:56<00:37,  7.11it/s]"
          ]
        },
        {
          "output_type": "stream",
          "name": "stderr",
          "text": [
            "\rPredicting (Model 3):  61%|\u2588\u2588\u2588\u2588\u2588\u2588    | 404/667 [00:56<00:37,  7.10it/s]"
          ]
        },
        {
          "output_type": "stream",
          "name": "stderr",
          "text": [
            "\rPredicting (Model 3):  61%|\u2588\u2588\u2588\u2588\u2588\u2588    | 405/667 [00:57<00:36,  7.11it/s]"
          ]
        },
        {
          "output_type": "stream",
          "name": "stderr",
          "text": [
            "\rPredicting (Model 3):  61%|\u2588\u2588\u2588\u2588\u2588\u2588    | 406/667 [00:57<00:36,  7.08it/s]"
          ]
        },
        {
          "output_type": "stream",
          "name": "stderr",
          "text": [
            "\rPredicting (Model 3):  61%|\u2588\u2588\u2588\u2588\u2588\u2588    | 407/667 [00:57<00:36,  7.08it/s]"
          ]
        },
        {
          "output_type": "stream",
          "name": "stderr",
          "text": [
            "\rPredicting (Model 3):  61%|\u2588\u2588\u2588\u2588\u2588\u2588    | 408/667 [00:57<00:36,  7.08it/s]"
          ]
        },
        {
          "output_type": "stream",
          "name": "stderr",
          "text": [
            "\rPredicting (Model 3):  61%|\u2588\u2588\u2588\u2588\u2588\u2588\u258f   | 409/667 [00:57<00:36,  7.11it/s]"
          ]
        },
        {
          "output_type": "stream",
          "name": "stderr",
          "text": [
            "\rPredicting (Model 3):  61%|\u2588\u2588\u2588\u2588\u2588\u2588\u258f   | 410/667 [00:57<00:36,  7.11it/s]"
          ]
        },
        {
          "output_type": "stream",
          "name": "stderr",
          "text": [
            "\rPredicting (Model 3):  62%|\u2588\u2588\u2588\u2588\u2588\u2588\u258f   | 411/667 [00:57<00:35,  7.13it/s]"
          ]
        },
        {
          "output_type": "stream",
          "name": "stderr",
          "text": [
            "\rPredicting (Model 3):  62%|\u2588\u2588\u2588\u2588\u2588\u2588\u258f   | 412/667 [00:58<00:35,  7.12it/s]"
          ]
        },
        {
          "output_type": "stream",
          "name": "stderr",
          "text": [
            "\rPredicting (Model 3):  62%|\u2588\u2588\u2588\u2588\u2588\u2588\u258f   | 413/667 [00:58<00:35,  7.12it/s]"
          ]
        },
        {
          "output_type": "stream",
          "name": "stderr",
          "text": [
            "\rPredicting (Model 3):  62%|\u2588\u2588\u2588\u2588\u2588\u2588\u258f   | 414/667 [00:58<00:35,  7.12it/s]"
          ]
        },
        {
          "output_type": "stream",
          "name": "stderr",
          "text": [
            "\rPredicting (Model 3):  62%|\u2588\u2588\u2588\u2588\u2588\u2588\u258f   | 415/667 [00:58<00:35,  7.13it/s]"
          ]
        },
        {
          "output_type": "stream",
          "name": "stderr",
          "text": [
            "\rPredicting (Model 3):  62%|\u2588\u2588\u2588\u2588\u2588\u2588\u258f   | 416/667 [00:58<00:35,  7.12it/s]"
          ]
        },
        {
          "output_type": "stream",
          "name": "stderr",
          "text": [
            "\rPredicting (Model 3):  63%|\u2588\u2588\u2588\u2588\u2588\u2588\u258e   | 417/667 [00:58<00:35,  7.13it/s]"
          ]
        },
        {
          "output_type": "stream",
          "name": "stderr",
          "text": [
            "\rPredicting (Model 3):  63%|\u2588\u2588\u2588\u2588\u2588\u2588\u258e   | 418/667 [00:58<00:34,  7.12it/s]"
          ]
        },
        {
          "output_type": "stream",
          "name": "stderr",
          "text": [
            "\rPredicting (Model 3):  63%|\u2588\u2588\u2588\u2588\u2588\u2588\u258e   | 419/667 [00:59<00:34,  7.13it/s]"
          ]
        },
        {
          "output_type": "stream",
          "name": "stderr",
          "text": [
            "\rPredicting (Model 3):  63%|\u2588\u2588\u2588\u2588\u2588\u2588\u258e   | 420/667 [00:59<00:34,  7.12it/s]"
          ]
        },
        {
          "output_type": "stream",
          "name": "stderr",
          "text": [
            "\rPredicting (Model 3):  63%|\u2588\u2588\u2588\u2588\u2588\u2588\u258e   | 421/667 [00:59<00:34,  7.13it/s]"
          ]
        },
        {
          "output_type": "stream",
          "name": "stderr",
          "text": [
            "\rPredicting (Model 3):  63%|\u2588\u2588\u2588\u2588\u2588\u2588\u258e   | 422/667 [00:59<00:34,  7.12it/s]"
          ]
        },
        {
          "output_type": "stream",
          "name": "stderr",
          "text": [
            "\rPredicting (Model 3):  63%|\u2588\u2588\u2588\u2588\u2588\u2588\u258e   | 423/667 [00:59<00:34,  7.12it/s]"
          ]
        },
        {
          "output_type": "stream",
          "name": "stderr",
          "text": [
            "\rPredicting (Model 3):  64%|\u2588\u2588\u2588\u2588\u2588\u2588\u258e   | 424/667 [00:59<00:34,  7.10it/s]"
          ]
        },
        {
          "output_type": "stream",
          "name": "stderr",
          "text": [
            "\rPredicting (Model 3):  64%|\u2588\u2588\u2588\u2588\u2588\u2588\u258e   | 425/667 [00:59<00:33,  7.12it/s]"
          ]
        },
        {
          "output_type": "stream",
          "name": "stderr",
          "text": [
            "\rPredicting (Model 3):  64%|\u2588\u2588\u2588\u2588\u2588\u2588\u258d   | 426/667 [01:00<00:33,  7.11it/s]"
          ]
        },
        {
          "output_type": "stream",
          "name": "stderr",
          "text": [
            "\rPredicting (Model 3):  64%|\u2588\u2588\u2588\u2588\u2588\u2588\u258d   | 427/667 [01:00<00:33,  7.13it/s]"
          ]
        },
        {
          "output_type": "stream",
          "name": "stderr",
          "text": [
            "\rPredicting (Model 3):  64%|\u2588\u2588\u2588\u2588\u2588\u2588\u258d   | 428/667 [01:00<00:33,  7.12it/s]"
          ]
        },
        {
          "output_type": "stream",
          "name": "stderr",
          "text": [
            "\rPredicting (Model 3):  64%|\u2588\u2588\u2588\u2588\u2588\u2588\u258d   | 429/667 [01:00<00:33,  7.13it/s]"
          ]
        },
        {
          "output_type": "stream",
          "name": "stderr",
          "text": [
            "\rPredicting (Model 3):  64%|\u2588\u2588\u2588\u2588\u2588\u2588\u258d   | 430/667 [01:00<00:33,  7.12it/s]"
          ]
        },
        {
          "output_type": "stream",
          "name": "stderr",
          "text": [
            "\rPredicting (Model 3):  65%|\u2588\u2588\u2588\u2588\u2588\u2588\u258d   | 431/667 [01:00<00:33,  7.11it/s]"
          ]
        },
        {
          "output_type": "stream",
          "name": "stderr",
          "text": [
            "\rPredicting (Model 3):  65%|\u2588\u2588\u2588\u2588\u2588\u2588\u258d   | 432/667 [01:00<00:33,  7.10it/s]"
          ]
        },
        {
          "output_type": "stream",
          "name": "stderr",
          "text": [
            "\rPredicting (Model 3):  65%|\u2588\u2588\u2588\u2588\u2588\u2588\u258d   | 433/667 [01:01<00:32,  7.11it/s]"
          ]
        },
        {
          "output_type": "stream",
          "name": "stderr",
          "text": [
            "\rPredicting (Model 3):  65%|\u2588\u2588\u2588\u2588\u2588\u2588\u258c   | 434/667 [01:01<00:32,  7.11it/s]"
          ]
        },
        {
          "output_type": "stream",
          "name": "stderr",
          "text": [
            "\rPredicting (Model 3):  65%|\u2588\u2588\u2588\u2588\u2588\u2588\u258c   | 435/667 [01:01<00:32,  7.12it/s]"
          ]
        },
        {
          "output_type": "stream",
          "name": "stderr",
          "text": [
            "\rPredicting (Model 3):  65%|\u2588\u2588\u2588\u2588\u2588\u2588\u258c   | 436/667 [01:01<00:32,  7.11it/s]"
          ]
        },
        {
          "output_type": "stream",
          "name": "stderr",
          "text": [
            "\rPredicting (Model 3):  66%|\u2588\u2588\u2588\u2588\u2588\u2588\u258c   | 437/667 [01:01<00:32,  7.12it/s]"
          ]
        },
        {
          "output_type": "stream",
          "name": "stderr",
          "text": [
            "\rPredicting (Model 3):  66%|\u2588\u2588\u2588\u2588\u2588\u2588\u258c   | 438/667 [01:01<00:32,  7.11it/s]"
          ]
        },
        {
          "output_type": "stream",
          "name": "stderr",
          "text": [
            "\rPredicting (Model 3):  66%|\u2588\u2588\u2588\u2588\u2588\u2588\u258c   | 439/667 [01:01<00:32,  7.12it/s]"
          ]
        },
        {
          "output_type": "stream",
          "name": "stderr",
          "text": [
            "\rPredicting (Model 3):  66%|\u2588\u2588\u2588\u2588\u2588\u2588\u258c   | 440/667 [01:02<00:31,  7.11it/s]"
          ]
        },
        {
          "output_type": "stream",
          "name": "stderr",
          "text": [
            "\rPredicting (Model 3):  66%|\u2588\u2588\u2588\u2588\u2588\u2588\u258c   | 441/667 [01:02<00:31,  7.12it/s]"
          ]
        },
        {
          "output_type": "stream",
          "name": "stderr",
          "text": [
            "\rPredicting (Model 3):  66%|\u2588\u2588\u2588\u2588\u2588\u2588\u258b   | 442/667 [01:02<00:31,  7.11it/s]"
          ]
        },
        {
          "output_type": "stream",
          "name": "stderr",
          "text": [
            "\rPredicting (Model 3):  66%|\u2588\u2588\u2588\u2588\u2588\u2588\u258b   | 443/667 [01:02<00:31,  7.13it/s]"
          ]
        },
        {
          "output_type": "stream",
          "name": "stderr",
          "text": [
            "\rPredicting (Model 3):  67%|\u2588\u2588\u2588\u2588\u2588\u2588\u258b   | 444/667 [01:02<00:31,  7.12it/s]"
          ]
        },
        {
          "output_type": "stream",
          "name": "stderr",
          "text": [
            "\rPredicting (Model 3):  67%|\u2588\u2588\u2588\u2588\u2588\u2588\u258b   | 445/667 [01:02<00:31,  7.14it/s]"
          ]
        },
        {
          "output_type": "stream",
          "name": "stderr",
          "text": [
            "\rPredicting (Model 3):  67%|\u2588\u2588\u2588\u2588\u2588\u2588\u258b   | 446/667 [01:02<00:31,  7.12it/s]"
          ]
        },
        {
          "output_type": "stream",
          "name": "stderr",
          "text": [
            "\rPredicting (Model 3):  67%|\u2588\u2588\u2588\u2588\u2588\u2588\u258b   | 447/667 [01:03<00:30,  7.12it/s]"
          ]
        },
        {
          "output_type": "stream",
          "name": "stderr",
          "text": [
            "\rPredicting (Model 3):  67%|\u2588\u2588\u2588\u2588\u2588\u2588\u258b   | 448/667 [01:03<00:30,  7.11it/s]"
          ]
        },
        {
          "output_type": "stream",
          "name": "stderr",
          "text": [
            "\rPredicting (Model 3):  67%|\u2588\u2588\u2588\u2588\u2588\u2588\u258b   | 449/667 [01:03<00:30,  7.13it/s]"
          ]
        },
        {
          "output_type": "stream",
          "name": "stderr",
          "text": [
            "\rPredicting (Model 3):  67%|\u2588\u2588\u2588\u2588\u2588\u2588\u258b   | 450/667 [01:03<00:30,  7.12it/s]"
          ]
        },
        {
          "output_type": "stream",
          "name": "stderr",
          "text": [
            "\rPredicting (Model 3):  68%|\u2588\u2588\u2588\u2588\u2588\u2588\u258a   | 451/667 [01:03<00:30,  7.13it/s]"
          ]
        },
        {
          "output_type": "stream",
          "name": "stderr",
          "text": [
            "\rPredicting (Model 3):  68%|\u2588\u2588\u2588\u2588\u2588\u2588\u258a   | 452/667 [01:03<00:30,  7.12it/s]"
          ]
        },
        {
          "output_type": "stream",
          "name": "stderr",
          "text": [
            "\rPredicting (Model 3):  68%|\u2588\u2588\u2588\u2588\u2588\u2588\u258a   | 453/667 [01:03<00:29,  7.14it/s]"
          ]
        },
        {
          "output_type": "stream",
          "name": "stderr",
          "text": [
            "\rPredicting (Model 3):  68%|\u2588\u2588\u2588\u2588\u2588\u2588\u258a   | 454/667 [01:03<00:29,  7.12it/s]"
          ]
        },
        {
          "output_type": "stream",
          "name": "stderr",
          "text": [
            "\rPredicting (Model 3):  68%|\u2588\u2588\u2588\u2588\u2588\u2588\u258a   | 455/667 [01:04<00:29,  7.13it/s]"
          ]
        },
        {
          "output_type": "stream",
          "name": "stderr",
          "text": [
            "\rPredicting (Model 3):  68%|\u2588\u2588\u2588\u2588\u2588\u2588\u258a   | 456/667 [01:04<00:29,  7.12it/s]"
          ]
        },
        {
          "output_type": "stream",
          "name": "stderr",
          "text": [
            "\rPredicting (Model 3):  69%|\u2588\u2588\u2588\u2588\u2588\u2588\u258a   | 457/667 [01:04<00:29,  7.14it/s]"
          ]
        },
        {
          "output_type": "stream",
          "name": "stderr",
          "text": [
            "\rPredicting (Model 3):  69%|\u2588\u2588\u2588\u2588\u2588\u2588\u258a   | 458/667 [01:04<00:29,  7.13it/s]"
          ]
        },
        {
          "output_type": "stream",
          "name": "stderr",
          "text": [
            "\rPredicting (Model 3):  69%|\u2588\u2588\u2588\u2588\u2588\u2588\u2589   | 459/667 [01:04<00:29,  7.14it/s]"
          ]
        },
        {
          "output_type": "stream",
          "name": "stderr",
          "text": [
            "\rPredicting (Model 3):  69%|\u2588\u2588\u2588\u2588\u2588\u2588\u2589   | 460/667 [01:04<00:29,  7.13it/s]"
          ]
        },
        {
          "output_type": "stream",
          "name": "stderr",
          "text": [
            "\rPredicting (Model 3):  69%|\u2588\u2588\u2588\u2588\u2588\u2588\u2589   | 461/667 [01:04<00:28,  7.15it/s]"
          ]
        },
        {
          "output_type": "stream",
          "name": "stderr",
          "text": [
            "\rPredicting (Model 3):  69%|\u2588\u2588\u2588\u2588\u2588\u2588\u2589   | 462/667 [01:05<00:28,  7.13it/s]"
          ]
        },
        {
          "output_type": "stream",
          "name": "stderr",
          "text": [
            "\rPredicting (Model 3):  69%|\u2588\u2588\u2588\u2588\u2588\u2588\u2589   | 463/667 [01:05<00:28,  7.13it/s]"
          ]
        },
        {
          "output_type": "stream",
          "name": "stderr",
          "text": [
            "\rPredicting (Model 3):  70%|\u2588\u2588\u2588\u2588\u2588\u2588\u2589   | 464/667 [01:05<00:28,  7.12it/s]"
          ]
        },
        {
          "output_type": "stream",
          "name": "stderr",
          "text": [
            "\rPredicting (Model 3):  70%|\u2588\u2588\u2588\u2588\u2588\u2588\u2589   | 465/667 [01:05<00:28,  7.14it/s]"
          ]
        },
        {
          "output_type": "stream",
          "name": "stderr",
          "text": [
            "\rPredicting (Model 3):  70%|\u2588\u2588\u2588\u2588\u2588\u2588\u2589   | 466/667 [01:05<00:28,  7.13it/s]"
          ]
        },
        {
          "output_type": "stream",
          "name": "stderr",
          "text": [
            "\rPredicting (Model 3):  70%|\u2588\u2588\u2588\u2588\u2588\u2588\u2588   | 467/667 [01:05<00:28,  7.13it/s]"
          ]
        },
        {
          "output_type": "stream",
          "name": "stderr",
          "text": [
            "\rPredicting (Model 3):  70%|\u2588\u2588\u2588\u2588\u2588\u2588\u2588   | 468/667 [01:05<00:27,  7.12it/s]"
          ]
        },
        {
          "output_type": "stream",
          "name": "stderr",
          "text": [
            "\rPredicting (Model 3):  70%|\u2588\u2588\u2588\u2588\u2588\u2588\u2588   | 469/667 [01:06<00:27,  7.14it/s]"
          ]
        },
        {
          "output_type": "stream",
          "name": "stderr",
          "text": [
            "\rPredicting (Model 3):  70%|\u2588\u2588\u2588\u2588\u2588\u2588\u2588   | 470/667 [01:06<00:27,  7.13it/s]"
          ]
        },
        {
          "output_type": "stream",
          "name": "stderr",
          "text": [
            "\rPredicting (Model 3):  71%|\u2588\u2588\u2588\u2588\u2588\u2588\u2588   | 471/667 [01:06<00:27,  7.13it/s]"
          ]
        },
        {
          "output_type": "stream",
          "name": "stderr",
          "text": [
            "\rPredicting (Model 3):  71%|\u2588\u2588\u2588\u2588\u2588\u2588\u2588   | 472/667 [01:06<00:27,  7.12it/s]"
          ]
        },
        {
          "output_type": "stream",
          "name": "stderr",
          "text": [
            "\rPredicting (Model 3):  71%|\u2588\u2588\u2588\u2588\u2588\u2588\u2588   | 473/667 [01:06<00:27,  7.12it/s]"
          ]
        },
        {
          "output_type": "stream",
          "name": "stderr",
          "text": [
            "\rPredicting (Model 3):  71%|\u2588\u2588\u2588\u2588\u2588\u2588\u2588   | 474/667 [01:06<00:27,  7.11it/s]"
          ]
        },
        {
          "output_type": "stream",
          "name": "stderr",
          "text": [
            "\rPredicting (Model 3):  71%|\u2588\u2588\u2588\u2588\u2588\u2588\u2588   | 475/667 [01:06<00:26,  7.12it/s]"
          ]
        },
        {
          "output_type": "stream",
          "name": "stderr",
          "text": [
            "\rPredicting (Model 3):  71%|\u2588\u2588\u2588\u2588\u2588\u2588\u2588\u258f  | 476/667 [01:07<00:26,  7.12it/s]"
          ]
        },
        {
          "output_type": "stream",
          "name": "stderr",
          "text": [
            "\rPredicting (Model 3):  72%|\u2588\u2588\u2588\u2588\u2588\u2588\u2588\u258f  | 477/667 [01:07<00:26,  7.13it/s]"
          ]
        },
        {
          "output_type": "stream",
          "name": "stderr",
          "text": [
            "\rPredicting (Model 3):  72%|\u2588\u2588\u2588\u2588\u2588\u2588\u2588\u258f  | 478/667 [01:07<00:26,  7.12it/s]"
          ]
        },
        {
          "output_type": "stream",
          "name": "stderr",
          "text": [
            "\rPredicting (Model 3):  72%|\u2588\u2588\u2588\u2588\u2588\u2588\u2588\u258f  | 479/667 [01:07<00:26,  7.12it/s]"
          ]
        },
        {
          "output_type": "stream",
          "name": "stderr",
          "text": [
            "\rPredicting (Model 3):  72%|\u2588\u2588\u2588\u2588\u2588\u2588\u2588\u258f  | 480/667 [01:07<00:26,  7.11it/s]"
          ]
        },
        {
          "output_type": "stream",
          "name": "stderr",
          "text": [
            "\rPredicting (Model 3):  72%|\u2588\u2588\u2588\u2588\u2588\u2588\u2588\u258f  | 481/667 [01:07<00:26,  7.11it/s]"
          ]
        },
        {
          "output_type": "stream",
          "name": "stderr",
          "text": [
            "\rPredicting (Model 3):  72%|\u2588\u2588\u2588\u2588\u2588\u2588\u2588\u258f  | 482/667 [01:07<00:26,  7.11it/s]"
          ]
        },
        {
          "output_type": "stream",
          "name": "stderr",
          "text": [
            "\rPredicting (Model 3):  72%|\u2588\u2588\u2588\u2588\u2588\u2588\u2588\u258f  | 483/667 [01:08<00:25,  7.12it/s]"
          ]
        },
        {
          "output_type": "stream",
          "name": "stderr",
          "text": [
            "\rPredicting (Model 3):  73%|\u2588\u2588\u2588\u2588\u2588\u2588\u2588\u258e  | 484/667 [01:08<00:25,  7.12it/s]"
          ]
        },
        {
          "output_type": "stream",
          "name": "stderr",
          "text": [
            "\rPredicting (Model 3):  73%|\u2588\u2588\u2588\u2588\u2588\u2588\u2588\u258e  | 485/667 [01:08<00:25,  7.13it/s]"
          ]
        },
        {
          "output_type": "stream",
          "name": "stderr",
          "text": [
            "\rPredicting (Model 3):  73%|\u2588\u2588\u2588\u2588\u2588\u2588\u2588\u258e  | 486/667 [01:08<00:25,  7.12it/s]"
          ]
        },
        {
          "output_type": "stream",
          "name": "stderr",
          "text": [
            "\rPredicting (Model 3):  73%|\u2588\u2588\u2588\u2588\u2588\u2588\u2588\u258e  | 487/667 [01:08<00:25,  7.12it/s]"
          ]
        },
        {
          "output_type": "stream",
          "name": "stderr",
          "text": [
            "\rPredicting (Model 3):  73%|\u2588\u2588\u2588\u2588\u2588\u2588\u2588\u258e  | 488/667 [01:08<00:25,  7.11it/s]"
          ]
        },
        {
          "output_type": "stream",
          "name": "stderr",
          "text": [
            "\rPredicting (Model 3):  73%|\u2588\u2588\u2588\u2588\u2588\u2588\u2588\u258e  | 489/667 [01:08<00:25,  7.11it/s]"
          ]
        },
        {
          "output_type": "stream",
          "name": "stderr",
          "text": [
            "\rPredicting (Model 3):  73%|\u2588\u2588\u2588\u2588\u2588\u2588\u2588\u258e  | 490/667 [01:09<00:24,  7.10it/s]"
          ]
        },
        {
          "output_type": "stream",
          "name": "stderr",
          "text": [
            "\rPredicting (Model 3):  74%|\u2588\u2588\u2588\u2588\u2588\u2588\u2588\u258e  | 491/667 [01:09<00:24,  7.11it/s]"
          ]
        },
        {
          "output_type": "stream",
          "name": "stderr",
          "text": [
            "\rPredicting (Model 3):  74%|\u2588\u2588\u2588\u2588\u2588\u2588\u2588\u258d  | 492/667 [01:09<00:24,  7.10it/s]"
          ]
        },
        {
          "output_type": "stream",
          "name": "stderr",
          "text": [
            "\rPredicting (Model 3):  74%|\u2588\u2588\u2588\u2588\u2588\u2588\u2588\u258d  | 493/667 [01:09<00:24,  7.12it/s]"
          ]
        },
        {
          "output_type": "stream",
          "name": "stderr",
          "text": [
            "\rPredicting (Model 3):  74%|\u2588\u2588\u2588\u2588\u2588\u2588\u2588\u258d  | 494/667 [01:09<00:24,  7.12it/s]"
          ]
        },
        {
          "output_type": "stream",
          "name": "stderr",
          "text": [
            "\rPredicting (Model 3):  74%|\u2588\u2588\u2588\u2588\u2588\u2588\u2588\u258d  | 495/667 [01:09<00:24,  7.13it/s]"
          ]
        },
        {
          "output_type": "stream",
          "name": "stderr",
          "text": [
            "\rPredicting (Model 3):  74%|\u2588\u2588\u2588\u2588\u2588\u2588\u2588\u258d  | 496/667 [01:09<00:24,  7.12it/s]"
          ]
        },
        {
          "output_type": "stream",
          "name": "stderr",
          "text": [
            "\rPredicting (Model 3):  75%|\u2588\u2588\u2588\u2588\u2588\u2588\u2588\u258d  | 497/667 [01:10<00:23,  7.14it/s]"
          ]
        },
        {
          "output_type": "stream",
          "name": "stderr",
          "text": [
            "\rPredicting (Model 3):  75%|\u2588\u2588\u2588\u2588\u2588\u2588\u2588\u258d  | 498/667 [01:10<00:23,  7.13it/s]"
          ]
        },
        {
          "output_type": "stream",
          "name": "stderr",
          "text": [
            "\rPredicting (Model 3):  75%|\u2588\u2588\u2588\u2588\u2588\u2588\u2588\u258d  | 499/667 [01:10<00:23,  7.13it/s]"
          ]
        },
        {
          "output_type": "stream",
          "name": "stderr",
          "text": [
            "\rPredicting (Model 3):  75%|\u2588\u2588\u2588\u2588\u2588\u2588\u2588\u258d  | 500/667 [01:10<00:23,  7.12it/s]"
          ]
        },
        {
          "output_type": "stream",
          "name": "stderr",
          "text": [
            "\rPredicting (Model 3):  75%|\u2588\u2588\u2588\u2588\u2588\u2588\u2588\u258c  | 501/667 [01:10<00:23,  7.12it/s]"
          ]
        },
        {
          "output_type": "stream",
          "name": "stderr",
          "text": [
            "\rPredicting (Model 3):  75%|\u2588\u2588\u2588\u2588\u2588\u2588\u2588\u258c  | 502/667 [01:10<00:23,  7.12it/s]"
          ]
        },
        {
          "output_type": "stream",
          "name": "stderr",
          "text": [
            "\rPredicting (Model 3):  75%|\u2588\u2588\u2588\u2588\u2588\u2588\u2588\u258c  | 503/667 [01:10<00:22,  7.13it/s]"
          ]
        },
        {
          "output_type": "stream",
          "name": "stderr",
          "text": [
            "\rPredicting (Model 3):  76%|\u2588\u2588\u2588\u2588\u2588\u2588\u2588\u258c  | 504/667 [01:11<00:22,  7.13it/s]"
          ]
        },
        {
          "output_type": "stream",
          "name": "stderr",
          "text": [
            "\rPredicting (Model 3):  76%|\u2588\u2588\u2588\u2588\u2588\u2588\u2588\u258c  | 505/667 [01:11<00:22,  7.13it/s]"
          ]
        },
        {
          "output_type": "stream",
          "name": "stderr",
          "text": [
            "\rPredicting (Model 3):  76%|\u2588\u2588\u2588\u2588\u2588\u2588\u2588\u258c  | 506/667 [01:11<00:22,  7.11it/s]"
          ]
        },
        {
          "output_type": "stream",
          "name": "stderr",
          "text": [
            "\rPredicting (Model 3):  76%|\u2588\u2588\u2588\u2588\u2588\u2588\u2588\u258c  | 507/667 [01:11<00:22,  7.13it/s]"
          ]
        },
        {
          "output_type": "stream",
          "name": "stderr",
          "text": [
            "\rPredicting (Model 3):  76%|\u2588\u2588\u2588\u2588\u2588\u2588\u2588\u258c  | 508/667 [01:11<00:22,  7.12it/s]"
          ]
        },
        {
          "output_type": "stream",
          "name": "stderr",
          "text": [
            "\rPredicting (Model 3):  76%|\u2588\u2588\u2588\u2588\u2588\u2588\u2588\u258b  | 509/667 [01:11<00:22,  7.12it/s]"
          ]
        },
        {
          "output_type": "stream",
          "name": "stderr",
          "text": [
            "\rPredicting (Model 3):  76%|\u2588\u2588\u2588\u2588\u2588\u2588\u2588\u258b  | 510/667 [01:11<00:22,  7.12it/s]"
          ]
        },
        {
          "output_type": "stream",
          "name": "stderr",
          "text": [
            "\rPredicting (Model 3):  77%|\u2588\u2588\u2588\u2588\u2588\u2588\u2588\u258b  | 511/667 [01:11<00:21,  7.13it/s]"
          ]
        },
        {
          "output_type": "stream",
          "name": "stderr",
          "text": [
            "\rPredicting (Model 3):  77%|\u2588\u2588\u2588\u2588\u2588\u2588\u2588\u258b  | 512/667 [01:12<00:21,  7.12it/s]"
          ]
        },
        {
          "output_type": "stream",
          "name": "stderr",
          "text": [
            "\rPredicting (Model 3):  77%|\u2588\u2588\u2588\u2588\u2588\u2588\u2588\u258b  | 513/667 [01:12<00:21,  7.12it/s]"
          ]
        },
        {
          "output_type": "stream",
          "name": "stderr",
          "text": [
            "\rPredicting (Model 3):  77%|\u2588\u2588\u2588\u2588\u2588\u2588\u2588\u258b  | 514/667 [01:12<00:21,  7.11it/s]"
          ]
        },
        {
          "output_type": "stream",
          "name": "stderr",
          "text": [
            "\rPredicting (Model 3):  77%|\u2588\u2588\u2588\u2588\u2588\u2588\u2588\u258b  | 515/667 [01:12<00:21,  7.12it/s]"
          ]
        },
        {
          "output_type": "stream",
          "name": "stderr",
          "text": [
            "\rPredicting (Model 3):  77%|\u2588\u2588\u2588\u2588\u2588\u2588\u2588\u258b  | 516/667 [01:12<00:21,  7.11it/s]"
          ]
        },
        {
          "output_type": "stream",
          "name": "stderr",
          "text": [
            "\rPredicting (Model 3):  78%|\u2588\u2588\u2588\u2588\u2588\u2588\u2588\u258a  | 517/667 [01:12<00:21,  7.12it/s]"
          ]
        },
        {
          "output_type": "stream",
          "name": "stderr",
          "text": [
            "\rPredicting (Model 3):  78%|\u2588\u2588\u2588\u2588\u2588\u2588\u2588\u258a  | 518/667 [01:12<00:20,  7.11it/s]"
          ]
        },
        {
          "output_type": "stream",
          "name": "stderr",
          "text": [
            "\rPredicting (Model 3):  78%|\u2588\u2588\u2588\u2588\u2588\u2588\u2588\u258a  | 519/667 [01:13<00:20,  7.12it/s]"
          ]
        },
        {
          "output_type": "stream",
          "name": "stderr",
          "text": [
            "\rPredicting (Model 3):  78%|\u2588\u2588\u2588\u2588\u2588\u2588\u2588\u258a  | 520/667 [01:13<00:20,  7.11it/s]"
          ]
        },
        {
          "output_type": "stream",
          "name": "stderr",
          "text": [
            "\rPredicting (Model 3):  78%|\u2588\u2588\u2588\u2588\u2588\u2588\u2588\u258a  | 521/667 [01:13<00:20,  7.12it/s]"
          ]
        },
        {
          "output_type": "stream",
          "name": "stderr",
          "text": [
            "\rPredicting (Model 3):  78%|\u2588\u2588\u2588\u2588\u2588\u2588\u2588\u258a  | 522/667 [01:13<00:20,  7.12it/s]"
          ]
        },
        {
          "output_type": "stream",
          "name": "stderr",
          "text": [
            "\rPredicting (Model 3):  78%|\u2588\u2588\u2588\u2588\u2588\u2588\u2588\u258a  | 523/667 [01:13<00:20,  7.13it/s]"
          ]
        },
        {
          "output_type": "stream",
          "name": "stderr",
          "text": [
            "\rPredicting (Model 3):  79%|\u2588\u2588\u2588\u2588\u2588\u2588\u2588\u258a  | 524/667 [01:13<00:20,  7.11it/s]"
          ]
        },
        {
          "output_type": "stream",
          "name": "stderr",
          "text": [
            "\rPredicting (Model 3):  79%|\u2588\u2588\u2588\u2588\u2588\u2588\u2588\u258a  | 525/667 [01:13<00:19,  7.13it/s]"
          ]
        },
        {
          "output_type": "stream",
          "name": "stderr",
          "text": [
            "\rPredicting (Model 3):  79%|\u2588\u2588\u2588\u2588\u2588\u2588\u2588\u2589  | 526/667 [01:14<00:19,  7.11it/s]"
          ]
        },
        {
          "output_type": "stream",
          "name": "stderr",
          "text": [
            "\rPredicting (Model 3):  79%|\u2588\u2588\u2588\u2588\u2588\u2588\u2588\u2589  | 527/667 [01:14<00:19,  7.12it/s]"
          ]
        },
        {
          "output_type": "stream",
          "name": "stderr",
          "text": [
            "\rPredicting (Model 3):  79%|\u2588\u2588\u2588\u2588\u2588\u2588\u2588\u2589  | 528/667 [01:14<00:19,  7.11it/s]"
          ]
        },
        {
          "output_type": "stream",
          "name": "stderr",
          "text": [
            "\rPredicting (Model 3):  79%|\u2588\u2588\u2588\u2588\u2588\u2588\u2588\u2589  | 529/667 [01:14<00:19,  7.13it/s]"
          ]
        },
        {
          "output_type": "stream",
          "name": "stderr",
          "text": [
            "\rPredicting (Model 3):  79%|\u2588\u2588\u2588\u2588\u2588\u2588\u2588\u2589  | 530/667 [01:14<00:19,  7.12it/s]"
          ]
        },
        {
          "output_type": "stream",
          "name": "stderr",
          "text": [
            "\rPredicting (Model 3):  80%|\u2588\u2588\u2588\u2588\u2588\u2588\u2588\u2589  | 531/667 [01:14<00:19,  7.13it/s]"
          ]
        },
        {
          "output_type": "stream",
          "name": "stderr",
          "text": [
            "\rPredicting (Model 3):  80%|\u2588\u2588\u2588\u2588\u2588\u2588\u2588\u2589  | 532/667 [01:14<00:18,  7.12it/s]"
          ]
        },
        {
          "output_type": "stream",
          "name": "stderr",
          "text": [
            "\rPredicting (Model 3):  80%|\u2588\u2588\u2588\u2588\u2588\u2588\u2588\u2589  | 533/667 [01:15<00:18,  7.12it/s]"
          ]
        },
        {
          "output_type": "stream",
          "name": "stderr",
          "text": [
            "\rPredicting (Model 3):  80%|\u2588\u2588\u2588\u2588\u2588\u2588\u2588\u2588  | 534/667 [01:15<00:18,  7.10it/s]"
          ]
        },
        {
          "output_type": "stream",
          "name": "stderr",
          "text": [
            "\rPredicting (Model 3):  80%|\u2588\u2588\u2588\u2588\u2588\u2588\u2588\u2588  | 535/667 [01:15<00:18,  7.11it/s]"
          ]
        },
        {
          "output_type": "stream",
          "name": "stderr",
          "text": [
            "\rPredicting (Model 3):  80%|\u2588\u2588\u2588\u2588\u2588\u2588\u2588\u2588  | 536/667 [01:15<00:18,  7.11it/s]"
          ]
        },
        {
          "output_type": "stream",
          "name": "stderr",
          "text": [
            "\rPredicting (Model 3):  81%|\u2588\u2588\u2588\u2588\u2588\u2588\u2588\u2588  | 537/667 [01:15<00:18,  7.12it/s]"
          ]
        },
        {
          "output_type": "stream",
          "name": "stderr",
          "text": [
            "\rPredicting (Model 3):  81%|\u2588\u2588\u2588\u2588\u2588\u2588\u2588\u2588  | 538/667 [01:15<00:18,  7.12it/s]"
          ]
        },
        {
          "output_type": "stream",
          "name": "stderr",
          "text": [
            "\rPredicting (Model 3):  81%|\u2588\u2588\u2588\u2588\u2588\u2588\u2588\u2588  | 539/667 [01:15<00:17,  7.14it/s]"
          ]
        },
        {
          "output_type": "stream",
          "name": "stderr",
          "text": [
            "\rPredicting (Model 3):  81%|\u2588\u2588\u2588\u2588\u2588\u2588\u2588\u2588  | 540/667 [01:16<00:17,  7.13it/s]"
          ]
        },
        {
          "output_type": "stream",
          "name": "stderr",
          "text": [
            "\rPredicting (Model 3):  81%|\u2588\u2588\u2588\u2588\u2588\u2588\u2588\u2588  | 541/667 [01:16<00:17,  7.14it/s]"
          ]
        },
        {
          "output_type": "stream",
          "name": "stderr",
          "text": [
            "\rPredicting (Model 3):  81%|\u2588\u2588\u2588\u2588\u2588\u2588\u2588\u2588\u258f | 542/667 [01:16<00:17,  7.13it/s]"
          ]
        },
        {
          "output_type": "stream",
          "name": "stderr",
          "text": [
            "\rPredicting (Model 3):  81%|\u2588\u2588\u2588\u2588\u2588\u2588\u2588\u2588\u258f | 543/667 [01:16<00:17,  7.14it/s]"
          ]
        },
        {
          "output_type": "stream",
          "name": "stderr",
          "text": [
            "\rPredicting (Model 3):  82%|\u2588\u2588\u2588\u2588\u2588\u2588\u2588\u2588\u258f | 544/667 [01:16<00:17,  7.13it/s]"
          ]
        },
        {
          "output_type": "stream",
          "name": "stderr",
          "text": [
            "\rPredicting (Model 3):  82%|\u2588\u2588\u2588\u2588\u2588\u2588\u2588\u2588\u258f | 545/667 [01:16<00:17,  7.14it/s]"
          ]
        },
        {
          "output_type": "stream",
          "name": "stderr",
          "text": [
            "\rPredicting (Model 3):  82%|\u2588\u2588\u2588\u2588\u2588\u2588\u2588\u2588\u258f | 546/667 [01:16<00:16,  7.13it/s]"
          ]
        },
        {
          "output_type": "stream",
          "name": "stderr",
          "text": [
            "\rPredicting (Model 3):  82%|\u2588\u2588\u2588\u2588\u2588\u2588\u2588\u2588\u258f | 547/667 [01:17<00:16,  7.15it/s]"
          ]
        },
        {
          "output_type": "stream",
          "name": "stderr",
          "text": [
            "\rPredicting (Model 3):  82%|\u2588\u2588\u2588\u2588\u2588\u2588\u2588\u2588\u258f | 548/667 [01:17<00:16,  7.13it/s]"
          ]
        },
        {
          "output_type": "stream",
          "name": "stderr",
          "text": [
            "\rPredicting (Model 3):  82%|\u2588\u2588\u2588\u2588\u2588\u2588\u2588\u2588\u258f | 549/667 [01:17<00:16,  7.15it/s]"
          ]
        },
        {
          "output_type": "stream",
          "name": "stderr",
          "text": [
            "\rPredicting (Model 3):  82%|\u2588\u2588\u2588\u2588\u2588\u2588\u2588\u2588\u258f | 550/667 [01:17<00:16,  7.13it/s]"
          ]
        },
        {
          "output_type": "stream",
          "name": "stderr",
          "text": [
            "\rPredicting (Model 3):  83%|\u2588\u2588\u2588\u2588\u2588\u2588\u2588\u2588\u258e | 551/667 [01:17<00:16,  7.14it/s]"
          ]
        },
        {
          "output_type": "stream",
          "name": "stderr",
          "text": [
            "\rPredicting (Model 3):  83%|\u2588\u2588\u2588\u2588\u2588\u2588\u2588\u2588\u258e | 552/667 [01:17<00:16,  7.14it/s]"
          ]
        },
        {
          "output_type": "stream",
          "name": "stderr",
          "text": [
            "\rPredicting (Model 3):  83%|\u2588\u2588\u2588\u2588\u2588\u2588\u2588\u2588\u258e | 553/667 [01:17<00:15,  7.14it/s]"
          ]
        },
        {
          "output_type": "stream",
          "name": "stderr",
          "text": [
            "\rPredicting (Model 3):  83%|\u2588\u2588\u2588\u2588\u2588\u2588\u2588\u2588\u258e | 554/667 [01:18<00:15,  7.13it/s]"
          ]
        },
        {
          "output_type": "stream",
          "name": "stderr",
          "text": [
            "\rPredicting (Model 3):  83%|\u2588\u2588\u2588\u2588\u2588\u2588\u2588\u2588\u258e | 555/667 [01:18<00:15,  7.14it/s]"
          ]
        },
        {
          "output_type": "stream",
          "name": "stderr",
          "text": [
            "\rPredicting (Model 3):  83%|\u2588\u2588\u2588\u2588\u2588\u2588\u2588\u2588\u258e | 556/667 [01:18<00:15,  7.14it/s]"
          ]
        },
        {
          "output_type": "stream",
          "name": "stderr",
          "text": [
            "\rPredicting (Model 3):  84%|\u2588\u2588\u2588\u2588\u2588\u2588\u2588\u2588\u258e | 557/667 [01:18<00:15,  7.15it/s]"
          ]
        },
        {
          "output_type": "stream",
          "name": "stderr",
          "text": [
            "\rPredicting (Model 3):  84%|\u2588\u2588\u2588\u2588\u2588\u2588\u2588\u2588\u258e | 558/667 [01:18<00:15,  7.15it/s]"
          ]
        },
        {
          "output_type": "stream",
          "name": "stderr",
          "text": [
            "\rPredicting (Model 3):  84%|\u2588\u2588\u2588\u2588\u2588\u2588\u2588\u2588\u258d | 559/667 [01:18<00:15,  7.14it/s]"
          ]
        },
        {
          "output_type": "stream",
          "name": "stderr",
          "text": [
            "\rPredicting (Model 3):  84%|\u2588\u2588\u2588\u2588\u2588\u2588\u2588\u2588\u258d | 560/667 [01:18<00:15,  7.13it/s]"
          ]
        },
        {
          "output_type": "stream",
          "name": "stderr",
          "text": [
            "\rPredicting (Model 3):  84%|\u2588\u2588\u2588\u2588\u2588\u2588\u2588\u2588\u258d | 561/667 [01:19<00:14,  7.14it/s]"
          ]
        },
        {
          "output_type": "stream",
          "name": "stderr",
          "text": [
            "\rPredicting (Model 3):  84%|\u2588\u2588\u2588\u2588\u2588\u2588\u2588\u2588\u258d | 562/667 [01:19<00:14,  7.13it/s]"
          ]
        },
        {
          "output_type": "stream",
          "name": "stderr",
          "text": [
            "\rPredicting (Model 3):  84%|\u2588\u2588\u2588\u2588\u2588\u2588\u2588\u2588\u258d | 563/667 [01:19<00:14,  7.14it/s]"
          ]
        },
        {
          "output_type": "stream",
          "name": "stderr",
          "text": [
            "\rPredicting (Model 3):  85%|\u2588\u2588\u2588\u2588\u2588\u2588\u2588\u2588\u258d | 564/667 [01:19<00:14,  7.13it/s]"
          ]
        },
        {
          "output_type": "stream",
          "name": "stderr",
          "text": [
            "\rPredicting (Model 3):  85%|\u2588\u2588\u2588\u2588\u2588\u2588\u2588\u2588\u258d | 565/667 [01:19<00:14,  7.14it/s]"
          ]
        },
        {
          "output_type": "stream",
          "name": "stderr",
          "text": [
            "\rPredicting (Model 3):  85%|\u2588\u2588\u2588\u2588\u2588\u2588\u2588\u2588\u258d | 566/667 [01:19<00:14,  7.14it/s]"
          ]
        },
        {
          "output_type": "stream",
          "name": "stderr",
          "text": [
            "\rPredicting (Model 3):  85%|\u2588\u2588\u2588\u2588\u2588\u2588\u2588\u2588\u258c | 567/667 [01:19<00:14,  7.14it/s]"
          ]
        },
        {
          "output_type": "stream",
          "name": "stderr",
          "text": [
            "\rPredicting (Model 3):  85%|\u2588\u2588\u2588\u2588\u2588\u2588\u2588\u2588\u258c | 568/667 [01:19<00:13,  7.13it/s]"
          ]
        },
        {
          "output_type": "stream",
          "name": "stderr",
          "text": [
            "\rPredicting (Model 3):  85%|\u2588\u2588\u2588\u2588\u2588\u2588\u2588\u2588\u258c | 569/667 [01:20<00:13,  7.13it/s]"
          ]
        },
        {
          "output_type": "stream",
          "name": "stderr",
          "text": [
            "\rPredicting (Model 3):  85%|\u2588\u2588\u2588\u2588\u2588\u2588\u2588\u2588\u258c | 570/667 [01:20<00:13,  7.12it/s]"
          ]
        },
        {
          "output_type": "stream",
          "name": "stderr",
          "text": [
            "\rPredicting (Model 3):  86%|\u2588\u2588\u2588\u2588\u2588\u2588\u2588\u2588\u258c | 571/667 [01:20<00:13,  7.13it/s]"
          ]
        },
        {
          "output_type": "stream",
          "name": "stderr",
          "text": [
            "\rPredicting (Model 3):  86%|\u2588\u2588\u2588\u2588\u2588\u2588\u2588\u2588\u258c | 572/667 [01:20<00:13,  7.12it/s]"
          ]
        },
        {
          "output_type": "stream",
          "name": "stderr",
          "text": [
            "\rPredicting (Model 3):  86%|\u2588\u2588\u2588\u2588\u2588\u2588\u2588\u2588\u258c | 573/667 [01:20<00:13,  7.13it/s]"
          ]
        },
        {
          "output_type": "stream",
          "name": "stderr",
          "text": [
            "\rPredicting (Model 3):  86%|\u2588\u2588\u2588\u2588\u2588\u2588\u2588\u2588\u258c | 574/667 [01:20<00:13,  7.12it/s]"
          ]
        },
        {
          "output_type": "stream",
          "name": "stderr",
          "text": [
            "\rPredicting (Model 3):  86%|\u2588\u2588\u2588\u2588\u2588\u2588\u2588\u2588\u258c | 575/667 [01:20<00:12,  7.12it/s]"
          ]
        },
        {
          "output_type": "stream",
          "name": "stderr",
          "text": [
            "\rPredicting (Model 3):  86%|\u2588\u2588\u2588\u2588\u2588\u2588\u2588\u2588\u258b | 576/667 [01:21<00:12,  7.11it/s]"
          ]
        },
        {
          "output_type": "stream",
          "name": "stderr",
          "text": [
            "\rPredicting (Model 3):  87%|\u2588\u2588\u2588\u2588\u2588\u2588\u2588\u2588\u258b | 577/667 [01:21<00:12,  7.12it/s]"
          ]
        },
        {
          "output_type": "stream",
          "name": "stderr",
          "text": [
            "\rPredicting (Model 3):  87%|\u2588\u2588\u2588\u2588\u2588\u2588\u2588\u2588\u258b | 578/667 [01:21<00:12,  7.11it/s]"
          ]
        },
        {
          "output_type": "stream",
          "name": "stderr",
          "text": [
            "\rPredicting (Model 3):  87%|\u2588\u2588\u2588\u2588\u2588\u2588\u2588\u2588\u258b | 579/667 [01:21<00:12,  7.12it/s]"
          ]
        },
        {
          "output_type": "stream",
          "name": "stderr",
          "text": [
            "\rPredicting (Model 3):  87%|\u2588\u2588\u2588\u2588\u2588\u2588\u2588\u2588\u258b | 580/667 [01:21<00:12,  7.11it/s]"
          ]
        },
        {
          "output_type": "stream",
          "name": "stderr",
          "text": [
            "\rPredicting (Model 3):  87%|\u2588\u2588\u2588\u2588\u2588\u2588\u2588\u2588\u258b | 581/667 [01:21<00:12,  7.12it/s]"
          ]
        },
        {
          "output_type": "stream",
          "name": "stderr",
          "text": [
            "\rPredicting (Model 3):  87%|\u2588\u2588\u2588\u2588\u2588\u2588\u2588\u2588\u258b | 582/667 [01:21<00:11,  7.11it/s]"
          ]
        },
        {
          "output_type": "stream",
          "name": "stderr",
          "text": [
            "\rPredicting (Model 3):  87%|\u2588\u2588\u2588\u2588\u2588\u2588\u2588\u2588\u258b | 583/667 [01:22<00:11,  7.11it/s]"
          ]
        },
        {
          "output_type": "stream",
          "name": "stderr",
          "text": [
            "\rPredicting (Model 3):  88%|\u2588\u2588\u2588\u2588\u2588\u2588\u2588\u2588\u258a | 584/667 [01:22<00:11,  7.09it/s]"
          ]
        },
        {
          "output_type": "stream",
          "name": "stderr",
          "text": [
            "\rPredicting (Model 3):  88%|\u2588\u2588\u2588\u2588\u2588\u2588\u2588\u2588\u258a | 585/667 [01:22<00:11,  7.10it/s]"
          ]
        },
        {
          "output_type": "stream",
          "name": "stderr",
          "text": [
            "\rPredicting (Model 3):  88%|\u2588\u2588\u2588\u2588\u2588\u2588\u2588\u2588\u258a | 586/667 [01:22<00:11,  7.10it/s]"
          ]
        },
        {
          "output_type": "stream",
          "name": "stderr",
          "text": [
            "\rPredicting (Model 3):  88%|\u2588\u2588\u2588\u2588\u2588\u2588\u2588\u2588\u258a | 587/667 [01:22<00:11,  7.11it/s]"
          ]
        },
        {
          "output_type": "stream",
          "name": "stderr",
          "text": [
            "\rPredicting (Model 3):  88%|\u2588\u2588\u2588\u2588\u2588\u2588\u2588\u2588\u258a | 588/667 [01:22<00:11,  7.11it/s]"
          ]
        },
        {
          "output_type": "stream",
          "name": "stderr",
          "text": [
            "\rPredicting (Model 3):  88%|\u2588\u2588\u2588\u2588\u2588\u2588\u2588\u2588\u258a | 589/667 [01:22<00:11,  7.08it/s]"
          ]
        },
        {
          "output_type": "stream",
          "name": "stderr",
          "text": [
            "\rPredicting (Model 3):  88%|\u2588\u2588\u2588\u2588\u2588\u2588\u2588\u2588\u258a | 590/667 [01:23<00:10,  7.08it/s]"
          ]
        },
        {
          "output_type": "stream",
          "name": "stderr",
          "text": [
            "\rPredicting (Model 3):  89%|\u2588\u2588\u2588\u2588\u2588\u2588\u2588\u2588\u258a | 591/667 [01:23<00:10,  7.09it/s]"
          ]
        },
        {
          "output_type": "stream",
          "name": "stderr",
          "text": [
            "\rPredicting (Model 3):  89%|\u2588\u2588\u2588\u2588\u2588\u2588\u2588\u2588\u2589 | 592/667 [01:23<00:10,  7.09it/s]"
          ]
        },
        {
          "output_type": "stream",
          "name": "stderr",
          "text": [
            "\rPredicting (Model 3):  89%|\u2588\u2588\u2588\u2588\u2588\u2588\u2588\u2588\u2589 | 593/667 [01:23<00:10,  7.11it/s]"
          ]
        },
        {
          "output_type": "stream",
          "name": "stderr",
          "text": [
            "\rPredicting (Model 3):  89%|\u2588\u2588\u2588\u2588\u2588\u2588\u2588\u2588\u2589 | 594/667 [01:23<00:10,  7.11it/s]"
          ]
        },
        {
          "output_type": "stream",
          "name": "stderr",
          "text": [
            "\rPredicting (Model 3):  89%|\u2588\u2588\u2588\u2588\u2588\u2588\u2588\u2588\u2589 | 595/667 [01:23<00:10,  7.11it/s]"
          ]
        },
        {
          "output_type": "stream",
          "name": "stderr",
          "text": [
            "\rPredicting (Model 3):  89%|\u2588\u2588\u2588\u2588\u2588\u2588\u2588\u2588\u2589 | 596/667 [01:23<00:09,  7.10it/s]"
          ]
        },
        {
          "output_type": "stream",
          "name": "stderr",
          "text": [
            "\rPredicting (Model 3):  90%|\u2588\u2588\u2588\u2588\u2588\u2588\u2588\u2588\u2589 | 597/667 [01:24<00:09,  7.09it/s]"
          ]
        },
        {
          "output_type": "stream",
          "name": "stderr",
          "text": [
            "\rPredicting (Model 3):  90%|\u2588\u2588\u2588\u2588\u2588\u2588\u2588\u2588\u2589 | 598/667 [01:24<00:09,  7.08it/s]"
          ]
        },
        {
          "output_type": "stream",
          "name": "stderr",
          "text": [
            "\rPredicting (Model 3):  90%|\u2588\u2588\u2588\u2588\u2588\u2588\u2588\u2588\u2589 | 599/667 [01:24<00:09,  7.10it/s]"
          ]
        },
        {
          "output_type": "stream",
          "name": "stderr",
          "text": [
            "\rPredicting (Model 3):  90%|\u2588\u2588\u2588\u2588\u2588\u2588\u2588\u2588\u2589 | 600/667 [01:24<00:09,  7.09it/s]"
          ]
        },
        {
          "output_type": "stream",
          "name": "stderr",
          "text": [
            "\rPredicting (Model 3):  90%|\u2588\u2588\u2588\u2588\u2588\u2588\u2588\u2588\u2588 | 601/667 [01:24<00:09,  7.11it/s]"
          ]
        },
        {
          "output_type": "stream",
          "name": "stderr",
          "text": [
            "\rPredicting (Model 3):  90%|\u2588\u2588\u2588\u2588\u2588\u2588\u2588\u2588\u2588 | 602/667 [01:24<00:09,  7.10it/s]"
          ]
        },
        {
          "output_type": "stream",
          "name": "stderr",
          "text": [
            "\rPredicting (Model 3):  90%|\u2588\u2588\u2588\u2588\u2588\u2588\u2588\u2588\u2588 | 603/667 [01:24<00:09,  7.11it/s]"
          ]
        },
        {
          "output_type": "stream",
          "name": "stderr",
          "text": [
            "\rPredicting (Model 3):  91%|\u2588\u2588\u2588\u2588\u2588\u2588\u2588\u2588\u2588 | 604/667 [01:25<00:08,  7.11it/s]"
          ]
        },
        {
          "output_type": "stream",
          "name": "stderr",
          "text": [
            "\rPredicting (Model 3):  91%|\u2588\u2588\u2588\u2588\u2588\u2588\u2588\u2588\u2588 | 605/667 [01:25<00:08,  7.12it/s]"
          ]
        },
        {
          "output_type": "stream",
          "name": "stderr",
          "text": [
            "\rPredicting (Model 3):  91%|\u2588\u2588\u2588\u2588\u2588\u2588\u2588\u2588\u2588 | 606/667 [01:25<00:08,  7.11it/s]"
          ]
        },
        {
          "output_type": "stream",
          "name": "stderr",
          "text": [
            "\rPredicting (Model 3):  91%|\u2588\u2588\u2588\u2588\u2588\u2588\u2588\u2588\u2588 | 607/667 [01:25<00:08,  7.12it/s]"
          ]
        },
        {
          "output_type": "stream",
          "name": "stderr",
          "text": [
            "\rPredicting (Model 3):  91%|\u2588\u2588\u2588\u2588\u2588\u2588\u2588\u2588\u2588 | 608/667 [01:25<00:08,  7.12it/s]"
          ]
        },
        {
          "output_type": "stream",
          "name": "stderr",
          "text": [
            "\rPredicting (Model 3):  91%|\u2588\u2588\u2588\u2588\u2588\u2588\u2588\u2588\u2588\u258f| 609/667 [01:25<00:08,  7.13it/s]"
          ]
        },
        {
          "output_type": "stream",
          "name": "stderr",
          "text": [
            "\rPredicting (Model 3):  91%|\u2588\u2588\u2588\u2588\u2588\u2588\u2588\u2588\u2588\u258f| 610/667 [01:25<00:07,  7.13it/s]"
          ]
        },
        {
          "output_type": "stream",
          "name": "stderr",
          "text": [
            "\rPredicting (Model 3):  92%|\u2588\u2588\u2588\u2588\u2588\u2588\u2588\u2588\u2588\u258f| 611/667 [01:26<00:07,  7.14it/s]"
          ]
        },
        {
          "output_type": "stream",
          "name": "stderr",
          "text": [
            "\rPredicting (Model 3):  92%|\u2588\u2588\u2588\u2588\u2588\u2588\u2588\u2588\u2588\u258f| 612/667 [01:26<00:07,  7.12it/s]"
          ]
        },
        {
          "output_type": "stream",
          "name": "stderr",
          "text": [
            "\rPredicting (Model 3):  92%|\u2588\u2588\u2588\u2588\u2588\u2588\u2588\u2588\u2588\u258f| 613/667 [01:26<00:07,  7.13it/s]"
          ]
        },
        {
          "output_type": "stream",
          "name": "stderr",
          "text": [
            "\rPredicting (Model 3):  92%|\u2588\u2588\u2588\u2588\u2588\u2588\u2588\u2588\u2588\u258f| 614/667 [01:26<00:07,  7.13it/s]"
          ]
        },
        {
          "output_type": "stream",
          "name": "stderr",
          "text": [
            "\rPredicting (Model 3):  92%|\u2588\u2588\u2588\u2588\u2588\u2588\u2588\u2588\u2588\u258f| 615/667 [01:26<00:07,  7.13it/s]"
          ]
        },
        {
          "output_type": "stream",
          "name": "stderr",
          "text": [
            "\rPredicting (Model 3):  92%|\u2588\u2588\u2588\u2588\u2588\u2588\u2588\u2588\u2588\u258f| 616/667 [01:26<00:07,  7.12it/s]"
          ]
        },
        {
          "output_type": "stream",
          "name": "stderr",
          "text": [
            "\rPredicting (Model 3):  93%|\u2588\u2588\u2588\u2588\u2588\u2588\u2588\u2588\u2588\u258e| 617/667 [01:26<00:07,  7.13it/s]"
          ]
        },
        {
          "output_type": "stream",
          "name": "stderr",
          "text": [
            "\rPredicting (Model 3):  93%|\u2588\u2588\u2588\u2588\u2588\u2588\u2588\u2588\u2588\u258e| 618/667 [01:27<00:06,  7.13it/s]"
          ]
        },
        {
          "output_type": "stream",
          "name": "stderr",
          "text": [
            "\rPredicting (Model 3):  93%|\u2588\u2588\u2588\u2588\u2588\u2588\u2588\u2588\u2588\u258e| 619/667 [01:27<00:06,  7.13it/s]"
          ]
        },
        {
          "output_type": "stream",
          "name": "stderr",
          "text": [
            "\rPredicting (Model 3):  93%|\u2588\u2588\u2588\u2588\u2588\u2588\u2588\u2588\u2588\u258e| 620/667 [01:27<00:06,  7.12it/s]"
          ]
        },
        {
          "output_type": "stream",
          "name": "stderr",
          "text": [
            "\rPredicting (Model 3):  93%|\u2588\u2588\u2588\u2588\u2588\u2588\u2588\u2588\u2588\u258e| 621/667 [01:27<00:06,  7.13it/s]"
          ]
        },
        {
          "output_type": "stream",
          "name": "stderr",
          "text": [
            "\rPredicting (Model 3):  93%|\u2588\u2588\u2588\u2588\u2588\u2588\u2588\u2588\u2588\u258e| 622/667 [01:27<00:06,  7.13it/s]"
          ]
        },
        {
          "output_type": "stream",
          "name": "stderr",
          "text": [
            "\rPredicting (Model 3):  93%|\u2588\u2588\u2588\u2588\u2588\u2588\u2588\u2588\u2588\u258e| 623/667 [01:27<00:06,  7.14it/s]"
          ]
        },
        {
          "output_type": "stream",
          "name": "stderr",
          "text": [
            "\rPredicting (Model 3):  94%|\u2588\u2588\u2588\u2588\u2588\u2588\u2588\u2588\u2588\u258e| 624/667 [01:27<00:06,  7.13it/s]"
          ]
        },
        {
          "output_type": "stream",
          "name": "stderr",
          "text": [
            "\rPredicting (Model 3):  94%|\u2588\u2588\u2588\u2588\u2588\u2588\u2588\u2588\u2588\u258e| 625/667 [01:28<00:05,  7.13it/s]"
          ]
        },
        {
          "output_type": "stream",
          "name": "stderr",
          "text": [
            "\rPredicting (Model 3):  94%|\u2588\u2588\u2588\u2588\u2588\u2588\u2588\u2588\u2588\u258d| 626/667 [01:28<00:05,  7.13it/s]"
          ]
        },
        {
          "output_type": "stream",
          "name": "stderr",
          "text": [
            "\rPredicting (Model 3):  94%|\u2588\u2588\u2588\u2588\u2588\u2588\u2588\u2588\u2588\u258d| 627/667 [01:28<00:05,  7.12it/s]"
          ]
        },
        {
          "output_type": "stream",
          "name": "stderr",
          "text": [
            "\rPredicting (Model 3):  94%|\u2588\u2588\u2588\u2588\u2588\u2588\u2588\u2588\u2588\u258d| 628/667 [01:28<00:05,  7.12it/s]"
          ]
        },
        {
          "output_type": "stream",
          "name": "stderr",
          "text": [
            "\rPredicting (Model 3):  94%|\u2588\u2588\u2588\u2588\u2588\u2588\u2588\u2588\u2588\u258d| 629/667 [01:28<00:05,  7.14it/s]"
          ]
        },
        {
          "output_type": "stream",
          "name": "stderr",
          "text": [
            "\rPredicting (Model 3):  94%|\u2588\u2588\u2588\u2588\u2588\u2588\u2588\u2588\u2588\u258d| 630/667 [01:28<00:05,  7.14it/s]"
          ]
        },
        {
          "output_type": "stream",
          "name": "stderr",
          "text": [
            "\rPredicting (Model 3):  95%|\u2588\u2588\u2588\u2588\u2588\u2588\u2588\u2588\u2588\u258d| 631/667 [01:28<00:05,  7.15it/s]"
          ]
        },
        {
          "output_type": "stream",
          "name": "stderr",
          "text": [
            "\rPredicting (Model 3):  95%|\u2588\u2588\u2588\u2588\u2588\u2588\u2588\u2588\u2588\u258d| 632/667 [01:28<00:04,  7.14it/s]"
          ]
        },
        {
          "output_type": "stream",
          "name": "stderr",
          "text": [
            "\rPredicting (Model 3):  95%|\u2588\u2588\u2588\u2588\u2588\u2588\u2588\u2588\u2588\u258d| 633/667 [01:29<00:04,  7.14it/s]"
          ]
        },
        {
          "output_type": "stream",
          "name": "stderr",
          "text": [
            "\rPredicting (Model 3):  95%|\u2588\u2588\u2588\u2588\u2588\u2588\u2588\u2588\u2588\u258c| 634/667 [01:29<00:04,  7.13it/s]"
          ]
        },
        {
          "output_type": "stream",
          "name": "stderr",
          "text": [
            "\rPredicting (Model 3):  95%|\u2588\u2588\u2588\u2588\u2588\u2588\u2588\u2588\u2588\u258c| 635/667 [01:29<00:04,  7.13it/s]"
          ]
        },
        {
          "output_type": "stream",
          "name": "stderr",
          "text": [
            "\rPredicting (Model 3):  95%|\u2588\u2588\u2588\u2588\u2588\u2588\u2588\u2588\u2588\u258c| 636/667 [01:29<00:04,  7.13it/s]"
          ]
        },
        {
          "output_type": "stream",
          "name": "stderr",
          "text": [
            "\rPredicting (Model 3):  96%|\u2588\u2588\u2588\u2588\u2588\u2588\u2588\u2588\u2588\u258c| 637/667 [01:29<00:04,  7.14it/s]"
          ]
        },
        {
          "output_type": "stream",
          "name": "stderr",
          "text": [
            "\rPredicting (Model 3):  96%|\u2588\u2588\u2588\u2588\u2588\u2588\u2588\u2588\u2588\u258c| 638/667 [01:29<00:04,  7.14it/s]"
          ]
        },
        {
          "output_type": "stream",
          "name": "stderr",
          "text": [
            "\rPredicting (Model 3):  96%|\u2588\u2588\u2588\u2588\u2588\u2588\u2588\u2588\u2588\u258c| 639/667 [01:29<00:03,  7.15it/s]"
          ]
        },
        {
          "output_type": "stream",
          "name": "stderr",
          "text": [
            "\rPredicting (Model 3):  96%|\u2588\u2588\u2588\u2588\u2588\u2588\u2588\u2588\u2588\u258c| 640/667 [01:30<00:03,  7.15it/s]"
          ]
        },
        {
          "output_type": "stream",
          "name": "stderr",
          "text": [
            "\rPredicting (Model 3):  96%|\u2588\u2588\u2588\u2588\u2588\u2588\u2588\u2588\u2588\u258c| 641/667 [01:30<00:03,  7.16it/s]"
          ]
        },
        {
          "output_type": "stream",
          "name": "stderr",
          "text": [
            "\rPredicting (Model 3):  96%|\u2588\u2588\u2588\u2588\u2588\u2588\u2588\u2588\u2588\u258b| 642/667 [01:30<00:03,  7.15it/s]"
          ]
        },
        {
          "output_type": "stream",
          "name": "stderr",
          "text": [
            "\rPredicting (Model 3):  96%|\u2588\u2588\u2588\u2588\u2588\u2588\u2588\u2588\u2588\u258b| 643/667 [01:30<00:03,  7.15it/s]"
          ]
        },
        {
          "output_type": "stream",
          "name": "stderr",
          "text": [
            "\rPredicting (Model 3):  97%|\u2588\u2588\u2588\u2588\u2588\u2588\u2588\u2588\u2588\u258b| 644/667 [01:30<00:03,  7.14it/s]"
          ]
        },
        {
          "output_type": "stream",
          "name": "stderr",
          "text": [
            "\rPredicting (Model 3):  97%|\u2588\u2588\u2588\u2588\u2588\u2588\u2588\u2588\u2588\u258b| 645/667 [01:30<00:03,  7.15it/s]"
          ]
        },
        {
          "output_type": "stream",
          "name": "stderr",
          "text": [
            "\rPredicting (Model 3):  97%|\u2588\u2588\u2588\u2588\u2588\u2588\u2588\u2588\u2588\u258b| 646/667 [01:30<00:02,  7.14it/s]"
          ]
        },
        {
          "output_type": "stream",
          "name": "stderr",
          "text": [
            "\rPredicting (Model 3):  97%|\u2588\u2588\u2588\u2588\u2588\u2588\u2588\u2588\u2588\u258b| 647/667 [01:31<00:02,  7.16it/s]"
          ]
        },
        {
          "output_type": "stream",
          "name": "stderr",
          "text": [
            "\rPredicting (Model 3):  97%|\u2588\u2588\u2588\u2588\u2588\u2588\u2588\u2588\u2588\u258b| 648/667 [01:31<00:02,  7.15it/s]"
          ]
        },
        {
          "output_type": "stream",
          "name": "stderr",
          "text": [
            "\rPredicting (Model 3):  97%|\u2588\u2588\u2588\u2588\u2588\u2588\u2588\u2588\u2588\u258b| 649/667 [01:31<00:02,  7.15it/s]"
          ]
        },
        {
          "output_type": "stream",
          "name": "stderr",
          "text": [
            "\rPredicting (Model 3):  97%|\u2588\u2588\u2588\u2588\u2588\u2588\u2588\u2588\u2588\u258b| 650/667 [01:31<00:02,  7.14it/s]"
          ]
        },
        {
          "output_type": "stream",
          "name": "stderr",
          "text": [
            "\rPredicting (Model 3):  98%|\u2588\u2588\u2588\u2588\u2588\u2588\u2588\u2588\u2588\u258a| 651/667 [01:31<00:02,  7.14it/s]"
          ]
        },
        {
          "output_type": "stream",
          "name": "stderr",
          "text": [
            "\rPredicting (Model 3):  98%|\u2588\u2588\u2588\u2588\u2588\u2588\u2588\u2588\u2588\u258a| 652/667 [01:31<00:02,  7.12it/s]"
          ]
        },
        {
          "output_type": "stream",
          "name": "stderr",
          "text": [
            "\rPredicting (Model 3):  98%|\u2588\u2588\u2588\u2588\u2588\u2588\u2588\u2588\u2588\u258a| 653/667 [01:31<00:01,  7.13it/s]"
          ]
        },
        {
          "output_type": "stream",
          "name": "stderr",
          "text": [
            "\rPredicting (Model 3):  98%|\u2588\u2588\u2588\u2588\u2588\u2588\u2588\u2588\u2588\u258a| 654/667 [01:32<00:01,  7.13it/s]"
          ]
        },
        {
          "output_type": "stream",
          "name": "stderr",
          "text": [
            "\rPredicting (Model 3):  98%|\u2588\u2588\u2588\u2588\u2588\u2588\u2588\u2588\u2588\u258a| 655/667 [01:32<00:01,  7.14it/s]"
          ]
        },
        {
          "output_type": "stream",
          "name": "stderr",
          "text": [
            "\rPredicting (Model 3):  98%|\u2588\u2588\u2588\u2588\u2588\u2588\u2588\u2588\u2588\u258a| 656/667 [01:32<00:01,  7.14it/s]"
          ]
        },
        {
          "output_type": "stream",
          "name": "stderr",
          "text": [
            "\rPredicting (Model 3):  99%|\u2588\u2588\u2588\u2588\u2588\u2588\u2588\u2588\u2588\u258a| 657/667 [01:32<00:01,  7.15it/s]"
          ]
        },
        {
          "output_type": "stream",
          "name": "stderr",
          "text": [
            "\rPredicting (Model 3):  99%|\u2588\u2588\u2588\u2588\u2588\u2588\u2588\u2588\u2588\u258a| 658/667 [01:32<00:01,  7.14it/s]"
          ]
        },
        {
          "output_type": "stream",
          "name": "stderr",
          "text": [
            "\rPredicting (Model 3):  99%|\u2588\u2588\u2588\u2588\u2588\u2588\u2588\u2588\u2588\u2589| 659/667 [01:32<00:01,  7.13it/s]"
          ]
        },
        {
          "output_type": "stream",
          "name": "stderr",
          "text": [
            "\rPredicting (Model 3):  99%|\u2588\u2588\u2588\u2588\u2588\u2588\u2588\u2588\u2588\u2589| 660/667 [01:32<00:00,  7.12it/s]"
          ]
        },
        {
          "output_type": "stream",
          "name": "stderr",
          "text": [
            "\rPredicting (Model 3):  99%|\u2588\u2588\u2588\u2588\u2588\u2588\u2588\u2588\u2588\u2589| 661/667 [01:33<00:00,  7.11it/s]"
          ]
        },
        {
          "output_type": "stream",
          "name": "stderr",
          "text": [
            "\rPredicting (Model 3):  99%|\u2588\u2588\u2588\u2588\u2588\u2588\u2588\u2588\u2588\u2589| 662/667 [01:33<00:00,  7.11it/s]"
          ]
        },
        {
          "output_type": "stream",
          "name": "stderr",
          "text": [
            "\rPredicting (Model 3):  99%|\u2588\u2588\u2588\u2588\u2588\u2588\u2588\u2588\u2588\u2589| 663/667 [01:33<00:00,  7.13it/s]"
          ]
        },
        {
          "output_type": "stream",
          "name": "stderr",
          "text": [
            "\rPredicting (Model 3): 100%|\u2588\u2588\u2588\u2588\u2588\u2588\u2588\u2588\u2588\u2589| 664/667 [01:33<00:00,  7.13it/s]"
          ]
        },
        {
          "output_type": "stream",
          "name": "stderr",
          "text": [
            "\rPredicting (Model 3): 100%|\u2588\u2588\u2588\u2588\u2588\u2588\u2588\u2588\u2588\u2589| 665/667 [01:33<00:00,  7.14it/s]"
          ]
        },
        {
          "output_type": "stream",
          "name": "stderr",
          "text": [
            "\rPredicting (Model 3): 100%|\u2588\u2588\u2588\u2588\u2588\u2588\u2588\u2588\u2588\u2589| 666/667 [01:33<00:00,  7.13it/s]"
          ]
        },
        {
          "output_type": "stream",
          "name": "stderr",
          "text": [
            "\rPredicting (Model 3): 100%|\u2588\u2588\u2588\u2588\u2588\u2588\u2588\u2588\u2588\u2588| 667/667 [01:33<00:00,  7.11it/s]"
          ]
        },
        {
          "output_type": "stream",
          "name": "stderr",
          "text": [
            "\n"
          ]
        },
        {
          "output_type": "stream",
          "name": "stdout",
          "text": [
            "\nEnsemble predictions calculated.\n"
          ]
        }
      ]
    },
    {
      "id": "dacd8674-5614-42aa-9479-29bff688227e",
      "cell_type": "code",
      "metadata": {},
      "source": [
        "## Create Submission\n",
        "predictions = []\n",
        "for pred_row in tqdm(all_preds, desc=\"Formatting submission\"):\n",
        "    # Apply threshold\n",
        "    pred_labels = (pred_row > CFG.threshold).astype(int)\n",
        "    \n",
        "    # If no labels are predicted, take the one with the highest probability\n",
        "    if pred_labels.sum() == 0:\n",
        "        pred_labels[pred_row.argmax()] = 1\n",
        "        \n",
        "    # Convert indices to attribute_ids\n",
        "    attr_ids = [CFG.idx_to_attr_id[i] for i, label in enumerate(pred_labels) if label == 1]\n",
        "    predictions.append(' '.join(map(str, attr_ids)))\n",
        "\n",
        "sub_df['attribute_ids'] = predictions\n",
        "sub_df[['id', 'attribute_ids']].to_csv('submission.csv', index=False)\n",
        "print(\"Submission file created successfully!\")\n",
        "display(sub_df.head())"
      ],
      "execution_count": 10,
      "outputs": [
        {
          "output_type": "stream",
          "name": "stderr",
          "text": [
            "\rFormatting submission:   0%|          | 0/21318 [00:00<?, ?it/s]"
          ]
        },
        {
          "output_type": "stream",
          "name": "stderr",
          "text": [
            "\rFormatting submission:   2%|\u258f         | 458/21318 [00:00<00:04, 4573.28it/s]"
          ]
        },
        {
          "output_type": "stream",
          "name": "stderr",
          "text": [
            "\rFormatting submission:   4%|\u258d         | 916/21318 [00:00<00:04, 4572.32it/s]"
          ]
        },
        {
          "output_type": "stream",
          "name": "stderr",
          "text": [
            "\rFormatting submission:   6%|\u258b         | 1381/21318 [00:00<00:04, 4604.36it/s]"
          ]
        },
        {
          "output_type": "stream",
          "name": "stderr",
          "text": [
            "\rFormatting submission:   9%|\u258a         | 1842/21318 [00:00<00:04, 4572.31it/s]"
          ]
        },
        {
          "output_type": "stream",
          "name": "stderr",
          "text": [
            "\rFormatting submission:  11%|\u2588         | 2300/21318 [00:00<00:04, 4568.09it/s]"
          ]
        },
        {
          "output_type": "stream",
          "name": "stderr",
          "text": [
            "\rFormatting submission:  13%|\u2588\u258e        | 2758/21318 [00:00<00:04, 4570.22it/s]"
          ]
        },
        {
          "output_type": "stream",
          "name": "stderr",
          "text": [
            "\rFormatting submission:  15%|\u2588\u258c        | 3222/21318 [00:00<00:03, 4592.03it/s]"
          ]
        },
        {
          "output_type": "stream",
          "name": "stderr",
          "text": [
            "\rFormatting submission:  17%|\u2588\u258b        | 3682/21318 [00:00<00:03, 4587.85it/s]"
          ]
        },
        {
          "output_type": "stream",
          "name": "stderr",
          "text": [
            "\rFormatting submission:  19%|\u2588\u2589        | 4141/21318 [00:00<00:03, 4578.75it/s]"
          ]
        },
        {
          "output_type": "stream",
          "name": "stderr",
          "text": [
            "\rFormatting submission:  22%|\u2588\u2588\u258f       | 4599/21318 [00:01<00:03, 4574.75it/s]"
          ]
        },
        {
          "output_type": "stream",
          "name": "stderr",
          "text": [
            "\rFormatting submission:  24%|\u2588\u2588\u258e       | 5062/21318 [00:01<00:03, 4589.64it/s]"
          ]
        },
        {
          "output_type": "stream",
          "name": "stderr",
          "text": [
            "\rFormatting submission:  26%|\u2588\u2588\u258c       | 5521/21318 [00:01<00:03, 4580.41it/s]"
          ]
        },
        {
          "output_type": "stream",
          "name": "stderr",
          "text": [
            "\rFormatting submission:  28%|\u2588\u2588\u258a       | 5980/21318 [00:01<00:03, 4546.86it/s]"
          ]
        },
        {
          "output_type": "stream",
          "name": "stderr",
          "text": [
            "\rFormatting submission:  30%|\u2588\u2588\u2588       | 6440/21318 [00:01<00:03, 4560.98it/s]"
          ]
        },
        {
          "output_type": "stream",
          "name": "stderr",
          "text": [
            "\rFormatting submission:  32%|\u2588\u2588\u2588\u258f      | 6897/21318 [00:01<00:03, 4562.69it/s]"
          ]
        },
        {
          "output_type": "stream",
          "name": "stderr",
          "text": [
            "\rFormatting submission:  35%|\u2588\u2588\u2588\u258d      | 7364/21318 [00:01<00:03, 4592.25it/s]"
          ]
        },
        {
          "output_type": "stream",
          "name": "stderr",
          "text": [
            "\rFormatting submission:  37%|\u2588\u2588\u2588\u258b      | 7824/21318 [00:01<00:02, 4550.43it/s]"
          ]
        },
        {
          "output_type": "stream",
          "name": "stderr",
          "text": [
            "\rFormatting submission:  39%|\u2588\u2588\u2588\u2589      | 8281/21318 [00:01<00:02, 4554.42it/s]"
          ]
        },
        {
          "output_type": "stream",
          "name": "stderr",
          "text": [
            "\rFormatting submission:  41%|\u2588\u2588\u2588\u2588      | 8737/21318 [00:01<00:02, 4537.89it/s]"
          ]
        },
        {
          "output_type": "stream",
          "name": "stderr",
          "text": [
            "\rFormatting submission:  43%|\u2588\u2588\u2588\u2588\u258e     | 9192/21318 [00:02<00:02, 4540.21it/s]"
          ]
        },
        {
          "output_type": "stream",
          "name": "stderr",
          "text": [
            "\rFormatting submission:  45%|\u2588\u2588\u2588\u2588\u258c     | 9656/21318 [00:02<00:02, 4569.93it/s]"
          ]
        },
        {
          "output_type": "stream",
          "name": "stderr",
          "text": [
            "\rFormatting submission:  47%|\u2588\u2588\u2588\u2588\u258b     | 10114/21318 [00:02<00:02, 4571.98it/s]"
          ]
        },
        {
          "output_type": "stream",
          "name": "stderr",
          "text": [
            "\rFormatting submission:  50%|\u2588\u2588\u2588\u2588\u2589     | 10585/21318 [00:02<00:02, 4611.50it/s]"
          ]
        },
        {
          "output_type": "stream",
          "name": "stderr",
          "text": [
            "\rFormatting submission:  52%|\u2588\u2588\u2588\u2588\u2588\u258f    | 11055/21318 [00:02<00:02, 4637.07it/s]"
          ]
        },
        {
          "output_type": "stream",
          "name": "stderr",
          "text": [
            "\rFormatting submission:  54%|\u2588\u2588\u2588\u2588\u2588\u258d    | 11520/21318 [00:02<00:02, 4638.44it/s]"
          ]
        },
        {
          "output_type": "stream",
          "name": "stderr",
          "text": [
            "\rFormatting submission:  56%|\u2588\u2588\u2588\u2588\u2588\u258c    | 11984/21318 [00:02<00:02, 4615.14it/s]"
          ]
        },
        {
          "output_type": "stream",
          "name": "stderr",
          "text": [
            "\rFormatting submission:  58%|\u2588\u2588\u2588\u2588\u2588\u258a    | 12446/21318 [00:02<00:01, 4603.44it/s]"
          ]
        },
        {
          "output_type": "stream",
          "name": "stderr",
          "text": [
            "\rFormatting submission:  61%|\u2588\u2588\u2588\u2588\u2588\u2588    | 12907/21318 [00:02<00:01, 4592.81it/s]"
          ]
        },
        {
          "output_type": "stream",
          "name": "stderr",
          "text": [
            "\rFormatting submission:  63%|\u2588\u2588\u2588\u2588\u2588\u2588\u258e   | 13367/21318 [00:02<00:01, 4580.03it/s]"
          ]
        },
        {
          "output_type": "stream",
          "name": "stderr",
          "text": [
            "\rFormatting submission:  65%|\u2588\u2588\u2588\u2588\u2588\u2588\u258d   | 13826/21318 [00:03<00:01, 4555.97it/s]"
          ]
        },
        {
          "output_type": "stream",
          "name": "stderr",
          "text": [
            "\rFormatting submission:  67%|\u2588\u2588\u2588\u2588\u2588\u2588\u258b   | 14296/21318 [00:03<00:01, 4596.62it/s]"
          ]
        },
        {
          "output_type": "stream",
          "name": "stderr",
          "text": [
            "\rFormatting submission:  69%|\u2588\u2588\u2588\u2588\u2588\u2588\u2589   | 14756/21318 [00:03<00:01, 4581.15it/s]"
          ]
        },
        {
          "output_type": "stream",
          "name": "stderr",
          "text": [
            "\rFormatting submission:  71%|\u2588\u2588\u2588\u2588\u2588\u2588\u2588\u258f  | 15216/21318 [00:03<00:01, 4584.73it/s]"
          ]
        },
        {
          "output_type": "stream",
          "name": "stderr",
          "text": [
            "\rFormatting submission:  74%|\u2588\u2588\u2588\u2588\u2588\u2588\u2588\u258e  | 15676/21318 [00:03<00:01, 4588.92it/s]"
          ]
        },
        {
          "output_type": "stream",
          "name": "stderr",
          "text": [
            "\rFormatting submission:  76%|\u2588\u2588\u2588\u2588\u2588\u2588\u2588\u258c  | 16137/21318 [00:03<00:01, 4594.92it/s]"
          ]
        },
        {
          "output_type": "stream",
          "name": "stderr",
          "text": [
            "\rFormatting submission:  78%|\u2588\u2588\u2588\u2588\u2588\u2588\u2588\u258a  | 16603/21318 [00:03<00:01, 4614.23it/s]"
          ]
        },
        {
          "output_type": "stream",
          "name": "stderr",
          "text": [
            "\rFormatting submission:  80%|\u2588\u2588\u2588\u2588\u2588\u2588\u2588\u2588  | 17069/21318 [00:03<00:00, 4627.87it/s]"
          ]
        },
        {
          "output_type": "stream",
          "name": "stderr",
          "text": [
            "\rFormatting submission:  82%|\u2588\u2588\u2588\u2588\u2588\u2588\u2588\u2588\u258f | 17538/21318 [00:03<00:00, 4644.84it/s]"
          ]
        },
        {
          "output_type": "stream",
          "name": "stderr",
          "text": [
            "\rFormatting submission:  84%|\u2588\u2588\u2588\u2588\u2588\u2588\u2588\u2588\u258d | 18003/21318 [00:03<00:00, 4637.94it/s]"
          ]
        },
        {
          "output_type": "stream",
          "name": "stderr",
          "text": [
            "\rFormatting submission:  87%|\u2588\u2588\u2588\u2588\u2588\u2588\u2588\u2588\u258b | 18467/21318 [00:04<00:00, 4637.60it/s]"
          ]
        },
        {
          "output_type": "stream",
          "name": "stderr",
          "text": [
            "\rFormatting submission:  89%|\u2588\u2588\u2588\u2588\u2588\u2588\u2588\u2588\u2589 | 18931/21318 [00:04<00:00, 4615.57it/s]"
          ]
        },
        {
          "output_type": "stream",
          "name": "stderr",
          "text": [
            "\rFormatting submission:  91%|\u2588\u2588\u2588\u2588\u2588\u2588\u2588\u2588\u2588 | 19400/21318 [00:04<00:00, 4636.26it/s]"
          ]
        },
        {
          "output_type": "stream",
          "name": "stderr",
          "text": [
            "\rFormatting submission:  93%|\u2588\u2588\u2588\u2588\u2588\u2588\u2588\u2588\u2588\u258e| 19864/21318 [00:04<00:00, 4631.10it/s]"
          ]
        },
        {
          "output_type": "stream",
          "name": "stderr",
          "text": [
            "\rFormatting submission:  95%|\u2588\u2588\u2588\u2588\u2588\u2588\u2588\u2588\u2588\u258c| 20330/21318 [00:04<00:00, 4638.63it/s]"
          ]
        },
        {
          "output_type": "stream",
          "name": "stderr",
          "text": [
            "\rFormatting submission:  98%|\u2588\u2588\u2588\u2588\u2588\u2588\u2588\u2588\u2588\u258a| 20798/21318 [00:04<00:00, 4649.55it/s]"
          ]
        },
        {
          "output_type": "stream",
          "name": "stderr",
          "text": [
            "\rFormatting submission: 100%|\u2588\u2588\u2588\u2588\u2588\u2588\u2588\u2588\u2588\u2589| 21266/21318 [00:04<00:00, 4657.01it/s]"
          ]
        },
        {
          "output_type": "stream",
          "name": "stderr",
          "text": [
            "\rFormatting submission: 100%|\u2588\u2588\u2588\u2588\u2588\u2588\u2588\u2588\u2588\u2588| 21318/21318 [00:04<00:00, 4597.34it/s]"
          ]
        },
        {
          "output_type": "stream",
          "name": "stdout",
          "text": [
            "Submission file created successfully!\n"
          ]
        },
        {
          "output_type": "stream",
          "name": "stderr",
          "text": [
            "\n"
          ]
        },
        {
          "output_type": "display_data",
          "data": {
            "text/plain": "                                 id  attribute_ids  \\\n0  347c119163f84420f10f7a8126c1b8a2  584 1071 2401   \n1  98c91458324cba5415c5f5d8ead68328           2663   \n2  3f75d332f579af62ff88d369c0736c76             10   \n3  3fa35a29218b7449c8f03e2a368a708d           1591   \n4  c848b91558e4edd8034cb7d334b4e448           1537   \n\n                                      filepath  \n0  ./test/347c119163f84420f10f7a8126c1b8a2.png  \n1  ./test/98c91458324cba5415c5f5d8ead68328.png  \n2  ./test/3f75d332f579af62ff88d369c0736c76.png  \n3  ./test/3fa35a29218b7449c8f03e2a368a708d.png  \n4  ./test/c848b91558e4edd8034cb7d334b4e448.png  ",
            "text/html": "<div>\n<style scoped>\n    .dataframe tbody tr th:only-of-type {\n        vertical-align: middle;\n    }\n\n    .dataframe tbody tr th {\n        vertical-align: top;\n    }\n\n    .dataframe thead th {\n        text-align: right;\n    }\n</style>\n<table border=\"1\" class=\"dataframe\">\n  <thead>\n    <tr style=\"text-align: right;\">\n      <th></th>\n      <th>id</th>\n      <th>attribute_ids</th>\n      <th>filepath</th>\n    </tr>\n  </thead>\n  <tbody>\n    <tr>\n      <th>0</th>\n      <td>347c119163f84420f10f7a8126c1b8a2</td>\n      <td>584 1071 2401</td>\n      <td>./test/347c119163f84420f10f7a8126c1b8a2.png</td>\n    </tr>\n    <tr>\n      <th>1</th>\n      <td>98c91458324cba5415c5f5d8ead68328</td>\n      <td>2663</td>\n      <td>./test/98c91458324cba5415c5f5d8ead68328.png</td>\n    </tr>\n    <tr>\n      <th>2</th>\n      <td>3f75d332f579af62ff88d369c0736c76</td>\n      <td>10</td>\n      <td>./test/3f75d332f579af62ff88d369c0736c76.png</td>\n    </tr>\n    <tr>\n      <th>3</th>\n      <td>3fa35a29218b7449c8f03e2a368a708d</td>\n      <td>1591</td>\n      <td>./test/3fa35a29218b7449c8f03e2a368a708d.png</td>\n    </tr>\n    <tr>\n      <th>4</th>\n      <td>c848b91558e4edd8034cb7d334b4e448</td>\n      <td>1537</td>\n      <td>./test/c848b91558e4edd8034cb7d334b4e448.png</td>\n    </tr>\n  </tbody>\n</table>\n</div>"
          },
          "metadata": {}
        }
      ]
    }
  ],
  "metadata": {
    "kernelspec": {
      "display_name": "Python 3",
      "language": "python",
      "name": "python3"
    },
    "language_info": {
      "name": "python",
      "version": "3.11.0rc1"
    }
  },
  "nbformat": 4,
  "nbformat_minor": 5
}