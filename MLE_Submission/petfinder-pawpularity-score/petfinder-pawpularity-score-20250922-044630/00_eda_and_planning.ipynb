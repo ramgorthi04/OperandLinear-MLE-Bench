{
  "cells": [
    {
      "id": "fd8313ab-8fc0-4459-9026-c529db3bf316",
      "cell_type": "markdown",
      "metadata": {},
      "source": [
        "# PetFinder Pawpularity: Plan\n",
        "\n",
        "Objectives:\n",
        "- Win a medal (RMSE \u2264 17.097).\n",
        "- Build a strong, GPU-accelerated image model with robust CV and fast iteration.\n",
        "\n",
        "Milestones:\n",
        "1) Environment + Data Check\n",
        "   - Verify GPU availability, install PyTorch/torchvision, check image counts and CSVs.\n",
        "   - Lock folds (StratifiedKFold on Pawpularity bins). Save folds.\n",
        "\n",
        "2) Baseline\n",
        "   - Simple image-only CNN (timm pretrained, e.g., convnext_tiny or efficientnet_v2_s).\n",
        "   - Input size 384, light augs, MSE loss; predict Pawpularity scaled to 0-1 then rescale.\n",
        "   - 5-fold CV, early stopping, mixed precision, EMA, cosine LR.\n",
        "\n",
        "3) Add Metadata\n",
        "   - Use train.csv binary attributes (Subject Focus, Eyes, etc.).\n",
        "   - Tabular head + image backbone (late fusion).\n",
        "\n",
        "4) Improve\n",
        "   - Resolution sweep (384\u2192512), TTA, better augs, CutMix/TrivialAugment optional.\n",
        "   - Seeds x2, model variants, simple weighted blend.\n",
        "\n",
        "5) Error Analysis\n",
        "   - OOF diagnostics, bins by target, per-fold checks.\n",
        "\n",
        "6) Submission\n",
        "   - Inference with TTA, generate submission.csv.\n",
        "\n",
        "Validation:\n",
        "- 5-fold Stratified by binned Pawpularity (e.g., 10 bins), deterministic seeds.\n",
        "- All transforms fitted per-fold. Cache OOF/test preds.\n",
        "\n",
        "Logging/Speed:\n",
        "- Print progress/time per epoch/fold, early stop patience, checkpoint best RMSE.\n",
        "- Subsample for smoke tests before full runs.\n",
        "\n",
        "Next:\n",
        "- Run env check cell: GPU, package install, data sanity; then lock folds and request expert review."
      ],
      "execution_count": null,
      "outputs": []
    },
    {
      "id": "3fd2fd22-611a-4290-9f82-bc0fbee9ed77",
      "cell_type": "code",
      "metadata": {},
      "source": [
        "# Environment and data sanity check\n",
        "import sys, subprocess, time, os, glob, platform, json\n",
        "print(f\"Python: {sys.version.split()[0]} | Platform: {platform.platform()}\")\n",
        "\n",
        "def pip_run(args):\n",
        "    print(f\"\\n[pip] {' '.join(args)}\", flush=True)\n",
        "    cmd = [sys.executable, '-m', 'pip'] + args\n",
        "    subprocess.run(cmd, check=True)\n",
        "\n",
        "# 1) Install GPU builds of torch/torchvision for CUDA 12.1 (pin to avoid surprises)\n",
        "pip_run(['install', '--index-url', 'https://download.pytorch.org/whl/cu121', 'torch==2.5.1+cu121', 'torchvision==0.20.1+cu121'])\n",
        "\n",
        "# 2) Install timm without deps to avoid touching torch/torchvision\n",
        "pip_run(['install', 'timm', '--no-deps', '--upgrade-strategy', 'only-if-needed'])\n",
        "\n",
        "# 3) Install remaining deps without upgrading torch\n",
        "other_pkgs = ['albumentations>=1.4.0', 'opencv-python-headless', 'pandas', 'numpy', 'scikit-learn', 'tqdm', 'matplotlib']\n",
        "pip_run(['install', '--upgrade-strategy', 'only-if-needed'] + other_pkgs)\n",
        "\n",
        "import torch, torchvision\n",
        "import pandas as pd, numpy as np\n",
        "\n",
        "print(f\"Torch: {torch.__version__} | TorchVision: {torchvision.__version__}\")\n",
        "print(f\"GPU Available: {torch.cuda.is_available()}\")\n",
        "print(f\"GPU Count: {torch.cuda.device_count()}\")\n",
        "if torch.cuda.is_available():\n",
        "    print(f\"GPU Name: {torch.cuda.get_device_name(0)}\")\n",
        "    props = torch.cuda.get_device_properties(0)\n",
        "    print(f\"GPU Memory: {props.total_memory/1024**3:.1f} GB\")\n",
        "\n",
        "# Data sanity\n",
        "train_csv = 'train.csv'; test_csv = 'test.csv'\n",
        "train_dir = 'train'; test_dir = 'test'\n",
        "assert os.path.exists(train_csv) and os.path.exists(test_csv), 'CSV files missing'\n",
        "assert os.path.isdir(train_dir) and os.path.isdir(test_dir), 'Image dirs missing'\n",
        "train_df = pd.read_csv(train_csv)\n",
        "test_df = pd.read_csv(test_csv)\n",
        "print('train.csv shape:', train_df.shape, '| test.csv shape:', test_df.shape)\n",
        "print('Columns (train):', list(train_df.columns))\n",
        "print('Columns (test):', list(test_df.columns))\n",
        "\n",
        "# Check image counts and missing files\n",
        "train_imgs = set(os.path.splitext(os.path.basename(p))[0] for p in glob.glob(os.path.join(train_dir, '*.jpg')))\n",
        "test_imgs = set(os.path.splitext(os.path.basename(p))[0] for p in glob.glob(os.path.join(test_dir, '*.jpg')))\n",
        "missing_train = [i for i in train_df['Id'].astype(str).tolist() if i not in train_imgs]\n",
        "missing_test = [i for i in test_df['Id'].astype(str).tolist() if i not in test_imgs]\n",
        "print(f\"Train images on disk: {len(train_imgs)} | in CSV: {len(train_df)} | missing: {len(missing_train)}\")\n",
        "print(f\"Test images on disk: {len(test_imgs)} | in CSV: {len(test_df)} | missing: {len(missing_test)}\")\n",
        "if missing_train[:5]: print('Sample missing train ids:', missing_train[:5])\n",
        "if missing_test[:5]: print('Sample missing test ids:', missing_test[:5])\n",
        "\n",
        "# Target distribution quick stats\n",
        "if 'Pawpularity' in train_df.columns:\n",
        "    y = train_df['Pawpularity'].values\n",
        "    print('Pawpularity stats:', {'min': int(np.min(y)), 'max': int(np.max(y)), 'mean': float(np.mean(y)), 'std': float(np.std(y))})\n",
        "    # propose bins for stratification (20 bins using floor/5 capped to 19)\n",
        "    bins = np.clip((y // 5).astype(int), 0, 19)\n",
        "    uniq, counts = np.unique(bins, return_counts=True)\n",
        "    print('Strat bins (floor/5) distribution sample:', dict(zip(uniq.tolist()[:10], counts.tolist()[:10])))\n",
        "\n",
        "print('\\nEnv & data check complete.')"
      ],
      "execution_count": 3,
      "outputs": [
        {
          "output_type": "stream",
          "name": "stdout",
          "text": [
            "Python: 3.11.0rc1 | Platform: Linux-6.8.0-1031-azure-x86_64-with-glibc2.35\n\n[pip] install --index-url https://download.pytorch.org/whl/cu121 torch==2.5.1+cu121 torchvision==0.20.1+cu121\n"
          ]
        },
        {
          "output_type": "stream",
          "name": "stdout",
          "text": [
            "Looking in indexes: https://download.pytorch.org/whl/cu121\n"
          ]
        },
        {
          "output_type": "stream",
          "name": "stdout",
          "text": [
            "Collecting torch==2.5.1+cu121\n  Downloading https://download.pytorch.org/whl/cu121/torch-2.5.1%2Bcu121-cp311-cp311-linux_x86_64.whl (780.5 MB)\n"
          ]
        },
        {
          "output_type": "stream",
          "name": "stdout",
          "text": [
            "     \u2501\u2501\u2501\u2501\u2501\u2501\u2501\u2501\u2501\u2501\u2501\u2501\u2501\u2501\u2501\u2501\u2501\u2501\u2501\u2501\u2501\u2501\u2501\u2501\u2501\u2501\u2501\u2501\u2501\u2501\u2501\u2501\u2501\u2501\u2501\u2501\u2501 780.5/780.5 MB 566.0 MB/s eta 0:00:00\n"
          ]
        },
        {
          "output_type": "stream",
          "name": "stdout",
          "text": [
            "Collecting torchvision==0.20.1+cu121\n  Downloading https://download.pytorch.org/whl/cu121/torchvision-0.20.1%2Bcu121-cp311-cp311-linux_x86_64.whl (7.3 MB)\n     \u2501\u2501\u2501\u2501\u2501\u2501\u2501\u2501\u2501\u2501\u2501\u2501\u2501\u2501\u2501\u2501\u2501\u2501\u2501\u2501\u2501\u2501\u2501\u2501\u2501\u2501\u2501\u2501\u2501\u2501\u2501\u2501\u2501\u2501\u2501\u2501\u2501\u2501\u2501\u2501 7.3/7.3 MB 371.7 MB/s eta 0:00:00\nCollecting sympy==1.13.1\n  Downloading https://download.pytorch.org/whl/sympy-1.13.1-py3-none-any.whl (6.2 MB)\n     \u2501\u2501\u2501\u2501\u2501\u2501\u2501\u2501\u2501\u2501\u2501\u2501\u2501\u2501\u2501\u2501\u2501\u2501\u2501\u2501\u2501\u2501\u2501\u2501\u2501\u2501\u2501\u2501\u2501\u2501\u2501\u2501\u2501\u2501\u2501\u2501\u2501\u2501\u2501\u2501 6.2/6.2 MB 549.4 MB/s eta 0:00:00\n"
          ]
        },
        {
          "output_type": "stream",
          "name": "stdout",
          "text": [
            "Collecting nvidia-cufft-cu12==11.0.2.54\n  Downloading https://download.pytorch.org/whl/cu121/nvidia_cufft_cu12-11.0.2.54-py3-none-manylinux1_x86_64.whl (121.6 MB)\n"
          ]
        },
        {
          "output_type": "stream",
          "name": "stdout",
          "text": [
            "     \u2501\u2501\u2501\u2501\u2501\u2501\u2501\u2501\u2501\u2501\u2501\u2501\u2501\u2501\u2501\u2501\u2501\u2501\u2501\u2501\u2501\u2501\u2501\u2501\u2501\u2501\u2501\u2501\u2501\u2501\u2501\u2501\u2501\u2501\u2501\u2501\u2501 121.6/121.6 MB 559.6 MB/s eta 0:00:00\nCollecting nvidia-nccl-cu12==2.21.5\n  Downloading https://download.pytorch.org/whl/nvidia_nccl_cu12-2.21.5-py3-none-manylinux2014_x86_64.whl (188.7 MB)\n"
          ]
        },
        {
          "output_type": "stream",
          "name": "stdout",
          "text": [
            "     \u2501\u2501\u2501\u2501\u2501\u2501\u2501\u2501\u2501\u2501\u2501\u2501\u2501\u2501\u2501\u2501\u2501\u2501\u2501\u2501\u2501\u2501\u2501\u2501\u2501\u2501\u2501\u2501\u2501\u2501\u2501\u2501\u2501\u2501\u2501\u2501\u2501 188.7/188.7 MB 561.8 MB/s eta 0:00:00\n"
          ]
        },
        {
          "output_type": "stream",
          "name": "stdout",
          "text": [
            "Collecting nvidia-cuda-runtime-cu12==12.1.105\n  Downloading https://download.pytorch.org/whl/cu121/nvidia_cuda_runtime_cu12-12.1.105-py3-none-manylinux1_x86_64.whl (823 kB)\n     \u2501\u2501\u2501\u2501\u2501\u2501\u2501\u2501\u2501\u2501\u2501\u2501\u2501\u2501\u2501\u2501\u2501\u2501\u2501\u2501\u2501\u2501\u2501\u2501\u2501\u2501\u2501\u2501\u2501\u2501\u2501\u2501\u2501\u2501\u2501\u2501\u2501 823.6/823.6 KB 530.9 MB/s eta 0:00:00\nCollecting nvidia-curand-cu12==10.3.2.106\n  Downloading https://download.pytorch.org/whl/cu121/nvidia_curand_cu12-10.3.2.106-py3-none-manylinux1_x86_64.whl (56.5 MB)\n"
          ]
        },
        {
          "output_type": "stream",
          "name": "stdout",
          "text": [
            "     \u2501\u2501\u2501\u2501\u2501\u2501\u2501\u2501\u2501\u2501\u2501\u2501\u2501\u2501\u2501\u2501\u2501\u2501\u2501\u2501\u2501\u2501\u2501\u2501\u2501\u2501\u2501\u2501\u2501\u2501\u2501\u2501\u2501\u2501\u2501\u2501\u2501\u2501\u2501 56.5/56.5 MB 316.1 MB/s eta 0:00:00\nCollecting nvidia-nvtx-cu12==12.1.105\n  Downloading https://download.pytorch.org/whl/cu121/nvidia_nvtx_cu12-12.1.105-py3-none-manylinux1_x86_64.whl (99 kB)\n     \u2501\u2501\u2501\u2501\u2501\u2501\u2501\u2501\u2501\u2501\u2501\u2501\u2501\u2501\u2501\u2501\u2501\u2501\u2501\u2501\u2501\u2501\u2501\u2501\u2501\u2501\u2501\u2501\u2501\u2501\u2501\u2501\u2501\u2501\u2501\u2501\u2501\u2501\u2501 99.1/99.1 KB 422.8 MB/s eta 0:00:00\n"
          ]
        },
        {
          "output_type": "stream",
          "name": "stdout",
          "text": [
            "Collecting fsspec\n  Downloading https://download.pytorch.org/whl/fsspec-2024.6.1-py3-none-any.whl (177 kB)\n     \u2501\u2501\u2501\u2501\u2501\u2501\u2501\u2501\u2501\u2501\u2501\u2501\u2501\u2501\u2501\u2501\u2501\u2501\u2501\u2501\u2501\u2501\u2501\u2501\u2501\u2501\u2501\u2501\u2501\u2501\u2501\u2501\u2501\u2501\u2501\u2501\u2501 177.6/177.6 KB 479.2 MB/s eta 0:00:00\nCollecting nvidia-cuda-cupti-cu12==12.1.105\n  Downloading https://download.pytorch.org/whl/cu121/nvidia_cuda_cupti_cu12-12.1.105-py3-none-manylinux1_x86_64.whl (14.1 MB)\n     \u2501\u2501\u2501\u2501\u2501\u2501\u2501\u2501\u2501\u2501\u2501\u2501\u2501\u2501\u2501\u2501\u2501\u2501\u2501\u2501\u2501\u2501\u2501\u2501\u2501\u2501\u2501\u2501\u2501\u2501\u2501\u2501\u2501\u2501\u2501\u2501\u2501\u2501\u2501 14.1/14.1 MB 310.1 MB/s eta 0:00:00\n"
          ]
        },
        {
          "output_type": "stream",
          "name": "stdout",
          "text": [
            "Collecting nvidia-cublas-cu12==12.1.3.1\n  Downloading https://download.pytorch.org/whl/cu121/nvidia_cublas_cu12-12.1.3.1-py3-none-manylinux1_x86_64.whl (410.6 MB)\n"
          ]
        },
        {
          "output_type": "stream",
          "name": "stdout",
          "text": [
            "     \u2501\u2501\u2501\u2501\u2501\u2501\u2501\u2501\u2501\u2501\u2501\u2501\u2501\u2501\u2501\u2501\u2501\u2501\u2501\u2501\u2501\u2501\u2501\u2501\u2501\u2501\u2501\u2501\u2501\u2501\u2501\u2501\u2501\u2501\u2501\u2501\u2501 410.6/410.6 MB 479.9 MB/s eta 0:00:00\n"
          ]
        },
        {
          "output_type": "stream",
          "name": "stdout",
          "text": [
            "Collecting jinja2\n  Downloading https://download.pytorch.org/whl/Jinja2-3.1.4-py3-none-any.whl (133 kB)\n     \u2501\u2501\u2501\u2501\u2501\u2501\u2501\u2501\u2501\u2501\u2501\u2501\u2501\u2501\u2501\u2501\u2501\u2501\u2501\u2501\u2501\u2501\u2501\u2501\u2501\u2501\u2501\u2501\u2501\u2501\u2501\u2501\u2501\u2501\u2501\u2501\u2501 133.3/133.3 KB 443.1 MB/s eta 0:00:00\n"
          ]
        },
        {
          "output_type": "stream",
          "name": "stdout",
          "text": [
            "Collecting nvidia-cuda-nvrtc-cu12==12.1.105\n  Downloading https://download.pytorch.org/whl/cu121/nvidia_cuda_nvrtc_cu12-12.1.105-py3-none-manylinux1_x86_64.whl (23.7 MB)\n     \u2501\u2501\u2501\u2501\u2501\u2501\u2501\u2501\u2501\u2501\u2501\u2501\u2501\u2501\u2501\u2501\u2501\u2501\u2501\u2501\u2501\u2501\u2501\u2501\u2501\u2501\u2501\u2501\u2501\u2501\u2501\u2501\u2501\u2501\u2501\u2501\u2501\u2501\u2501 23.7/23.7 MB 290.7 MB/s eta 0:00:00\n"
          ]
        },
        {
          "output_type": "stream",
          "name": "stdout",
          "text": [
            "Collecting nvidia-cudnn-cu12==9.1.0.70\n  Downloading https://download.pytorch.org/whl/cu121/nvidia_cudnn_cu12-9.1.0.70-py3-none-manylinux2014_x86_64.whl (664.8 MB)\n"
          ]
        },
        {
          "output_type": "stream",
          "name": "stdout",
          "text": [
            "     \u2501\u2501\u2501\u2501\u2501\u2501\u2501\u2501\u2501\u2501\u2501\u2501\u2501\u2501\u2501\u2501\u2501\u2501\u2501\u2501\u2501\u2501\u2501\u2501\u2501\u2501\u2501\u2501\u2501\u2501\u2501\u2501\u2501\u2501\u2501\u2501\u2501 664.8/664.8 MB 489.6 MB/s eta 0:00:00\n"
          ]
        },
        {
          "output_type": "stream",
          "name": "stdout",
          "text": [
            "Collecting nvidia-cusolver-cu12==11.4.5.107\n  Downloading https://download.pytorch.org/whl/cu121/nvidia_cusolver_cu12-11.4.5.107-py3-none-manylinux1_x86_64.whl (124.2 MB)\n"
          ]
        },
        {
          "output_type": "stream",
          "name": "stdout",
          "text": [
            "     \u2501\u2501\u2501\u2501\u2501\u2501\u2501\u2501\u2501\u2501\u2501\u2501\u2501\u2501\u2501\u2501\u2501\u2501\u2501\u2501\u2501\u2501\u2501\u2501\u2501\u2501\u2501\u2501\u2501\u2501\u2501\u2501\u2501\u2501\u2501\u2501\u2501 124.2/124.2 MB 487.6 MB/s eta 0:00:00\nCollecting triton==3.1.0\n  Downloading https://download.pytorch.org/whl/triton-3.1.0-cp311-cp311-manylinux_2_17_x86_64.manylinux2014_x86_64.whl (209.5 MB)\n"
          ]
        },
        {
          "output_type": "stream",
          "name": "stdout",
          "text": [
            "     \u2501\u2501\u2501\u2501\u2501\u2501\u2501\u2501\u2501\u2501\u2501\u2501\u2501\u2501\u2501\u2501\u2501\u2501\u2501\u2501\u2501\u2501\u2501\u2501\u2501\u2501\u2501\u2501\u2501\u2501\u2501\u2501\u2501\u2501\u2501\u2501\u2501 209.5/209.5 MB 482.8 MB/s eta 0:00:00\n"
          ]
        },
        {
          "output_type": "stream",
          "name": "stdout",
          "text": [
            "Collecting nvidia-cusparse-cu12==12.1.0.106\n  Downloading https://download.pytorch.org/whl/cu121/nvidia_cusparse_cu12-12.1.0.106-py3-none-manylinux1_x86_64.whl (196.0 MB)\n"
          ]
        },
        {
          "output_type": "stream",
          "name": "stdout",
          "text": [
            "     \u2501\u2501\u2501\u2501\u2501\u2501\u2501\u2501\u2501\u2501\u2501\u2501\u2501\u2501\u2501\u2501\u2501\u2501\u2501\u2501\u2501\u2501\u2501\u2501\u2501\u2501\u2501\u2501\u2501\u2501\u2501\u2501\u2501\u2501\u2501\u2501\u2501 196.0/196.0 MB 494.4 MB/s eta 0:00:00\n"
          ]
        },
        {
          "output_type": "stream",
          "name": "stdout",
          "text": [
            "Collecting networkx\n  Downloading https://download.pytorch.org/whl/networkx-3.3-py3-none-any.whl (1.7 MB)\n     \u2501\u2501\u2501\u2501\u2501\u2501\u2501\u2501\u2501\u2501\u2501\u2501\u2501\u2501\u2501\u2501\u2501\u2501\u2501\u2501\u2501\u2501\u2501\u2501\u2501\u2501\u2501\u2501\u2501\u2501\u2501\u2501\u2501\u2501\u2501\u2501\u2501\u2501\u2501\u2501 1.7/1.7 MB 446.7 MB/s eta 0:00:00\n"
          ]
        },
        {
          "output_type": "stream",
          "name": "stdout",
          "text": [
            "Collecting filelock\n  Downloading https://download.pytorch.org/whl/filelock-3.13.1-py3-none-any.whl (11 kB)\n"
          ]
        },
        {
          "output_type": "stream",
          "name": "stdout",
          "text": [
            "Collecting typing-extensions>=4.8.0\n  Downloading https://download.pytorch.org/whl/typing_extensions-4.12.2-py3-none-any.whl (37 kB)\n"
          ]
        },
        {
          "output_type": "stream",
          "name": "stdout",
          "text": [
            "Collecting pillow!=8.3.*,>=5.3.0\n  Downloading https://download.pytorch.org/whl/pillow-11.0.0-cp311-cp311-manylinux_2_28_x86_64.whl (4.4 MB)\n     \u2501\u2501\u2501\u2501\u2501\u2501\u2501\u2501\u2501\u2501\u2501\u2501\u2501\u2501\u2501\u2501\u2501\u2501\u2501\u2501\u2501\u2501\u2501\u2501\u2501\u2501\u2501\u2501\u2501\u2501\u2501\u2501\u2501\u2501\u2501\u2501\u2501\u2501\u2501\u2501 4.4/4.4 MB 382.5 MB/s eta 0:00:00\n"
          ]
        },
        {
          "output_type": "stream",
          "name": "stdout",
          "text": [
            "Collecting numpy\n  Downloading https://download.pytorch.org/whl/numpy-1.26.3-cp311-cp311-manylinux_2_17_x86_64.manylinux2014_x86_64.whl (18.3 MB)\n     \u2501\u2501\u2501\u2501\u2501\u2501\u2501\u2501\u2501\u2501\u2501\u2501\u2501\u2501\u2501\u2501\u2501\u2501\u2501\u2501\u2501\u2501\u2501\u2501\u2501\u2501\u2501\u2501\u2501\u2501\u2501\u2501\u2501\u2501\u2501\u2501\u2501\u2501\u2501 18.3/18.3 MB 268.0 MB/s eta 0:00:00\n"
          ]
        },
        {
          "output_type": "stream",
          "name": "stdout",
          "text": [
            "Collecting nvidia-nvjitlink-cu12\n  Downloading https://download.pytorch.org/whl/nvidia_nvjitlink_cu12-12.9.86-py3-none-manylinux2010_x86_64.manylinux_2_12_x86_64.whl (39.7 MB)\n     \u2501\u2501\u2501\u2501\u2501\u2501\u2501\u2501\u2501\u2501\u2501\u2501\u2501\u2501\u2501\u2501\u2501\u2501\u2501\u2501\u2501\u2501\u2501\u2501\u2501\u2501\u2501\u2501\u2501\u2501\u2501\u2501\u2501\u2501\u2501\u2501\u2501\u2501\u2501 39.7/39.7 MB 331.0 MB/s eta 0:00:00\n"
          ]
        },
        {
          "output_type": "stream",
          "name": "stdout",
          "text": [
            "Collecting mpmath<1.4,>=1.1.0\n  Downloading https://download.pytorch.org/whl/mpmath-1.3.0-py3-none-any.whl (536 kB)\n     \u2501\u2501\u2501\u2501\u2501\u2501\u2501\u2501\u2501\u2501\u2501\u2501\u2501\u2501\u2501\u2501\u2501\u2501\u2501\u2501\u2501\u2501\u2501\u2501\u2501\u2501\u2501\u2501\u2501\u2501\u2501\u2501\u2501\u2501\u2501\u2501\u2501 536.2/536.2 KB 535.9 MB/s eta 0:00:00\nCollecting MarkupSafe>=2.0\n  Downloading https://download.pytorch.org/whl/MarkupSafe-2.1.5-cp311-cp311-manylinux_2_17_x86_64.manylinux2014_x86_64.whl (28 kB)\n"
          ]
        },
        {
          "output_type": "stream",
          "name": "stdout",
          "text": [
            "Installing collected packages: mpmath, typing-extensions, sympy, pillow, nvidia-nvtx-cu12, nvidia-nvjitlink-cu12, nvidia-nccl-cu12, nvidia-curand-cu12, nvidia-cufft-cu12, nvidia-cuda-runtime-cu12, nvidia-cuda-nvrtc-cu12, nvidia-cuda-cupti-cu12, nvidia-cublas-cu12, numpy, networkx, MarkupSafe, fsspec, filelock, triton, nvidia-cusparse-cu12, nvidia-cudnn-cu12, jinja2, nvidia-cusolver-cu12, torch, torchvision\n"
          ]
        },
        {
          "output_type": "stream",
          "name": "stdout",
          "text": [
            "Successfully installed MarkupSafe-2.1.5 filelock-3.13.1 fsspec-2024.6.1 jinja2-3.1.4 mpmath-1.3.0 networkx-3.3 numpy-1.26.3 nvidia-cublas-cu12-12.1.3.1 nvidia-cuda-cupti-cu12-12.1.105 nvidia-cuda-nvrtc-cu12-12.1.105 nvidia-cuda-runtime-cu12-12.1.105 nvidia-cudnn-cu12-9.1.0.70 nvidia-cufft-cu12-11.0.2.54 nvidia-curand-cu12-10.3.2.106 nvidia-cusolver-cu12-11.4.5.107 nvidia-cusparse-cu12-12.1.0.106 nvidia-nccl-cu12-2.21.5 nvidia-nvjitlink-cu12-12.9.86 nvidia-nvtx-cu12-12.1.105 pillow-11.0.0 sympy-1.13.1 torch-2.5.1+cu121 torchvision-0.20.1+cu121 triton-3.1.0 typing-extensions-4.12.2\n"
          ]
        },
        {
          "output_type": "stream",
          "name": "stderr",
          "text": [
            "WARNING: Target directory /app/.pip-target/torchvision.libs already exists. Specify --upgrade to force replacement.\nWARNING: Target directory /app/.pip-target/torchvision-0.20.1+cu121.dist-info already exists. Specify --upgrade to force replacement.\nWARNING: Target directory /app/.pip-target/torchvision already exists. Specify --upgrade to force replacement.\nWARNING: Target directory /app/.pip-target/torchgen already exists. Specify --upgrade to force replacement.\nWARNING: Target directory /app/.pip-target/torch-2.5.1+cu121.dist-info already exists. Specify --upgrade to force replacement.\nWARNING: Target directory /app/.pip-target/torch already exists. Specify --upgrade to force replacement.\nWARNING: Target directory /app/.pip-target/functorch already exists. Specify --upgrade to force replacement.\nWARNING: Target directory /app/.pip-target/nvidia_cusolver_cu12-11.4.5.107.dist-info already exists. Specify --upgrade to force replacement.\nWARNING: Target directory /app/.pip-target/jinja2-3.1.4.dist-info already exists. Specify --upgrade to force replacement.\nWARNING: Target directory /app/.pip-target/jinja2 already exists. Specify --upgrade to force replacement.\nWARNING: Target directory /app/.pip-target/nvidia_cudnn_cu12-9.1.0.70.dist-info already exists. Specify --upgrade to force replacement.\nWARNING: Target directory /app/.pip-target/nvidia_cusparse_cu12-12.1.0.106.dist-info already exists. Specify --upgrade to force replacement.\nWARNING: Target directory /app/.pip-target/triton already exists. Specify --upgrade to force replacement.\nWARNING: Target directory /app/.pip-target/triton-3.1.0.dist-info already exists. Specify --upgrade to force replacement.\nWARNING: Target directory /app/.pip-target/filelock-3.13.1.dist-info already exists. Specify --upgrade to force replacement.\nWARNING: Target directory /app/.pip-target/filelock already exists. Specify --upgrade to force replacement.\nWARNING: Target directory /app/.pip-target/fsspec-2024.6.1.dist-info already exists. Specify --upgrade to force replacement.\nWARNING: Target directory /app/.pip-target/fsspec already exists. Specify --upgrade to force replacement.\nWARNING: Target directory /app/.pip-target/MarkupSafe-2.1.5.dist-info already exists. Specify --upgrade to force replacement.\nWARNING: Target directory /app/.pip-target/markupsafe already exists. Specify --upgrade to force replacement.\nWARNING: Target directory /app/.pip-target/networkx-3.3.dist-info already exists. Specify --upgrade to force replacement.\nWARNING: Target directory /app/.pip-target/networkx already exists. Specify --upgrade to force replacement.\nWARNING: Target directory /app/.pip-target/numpy already exists. Specify --upgrade to force replacement.\nWARNING: Target directory /app/.pip-target/numpy.libs already exists. Specify --upgrade to force replacement.\nWARNING: Target directory /app/.pip-target/numpy-1.26.3.dist-info already exists. Specify --upgrade to force replacement.\nWARNING: Target directory /app/.pip-target/nvidia_cublas_cu12-12.1.3.1.dist-info already exists. Specify --upgrade to force replacement.\nWARNING: Target directory /app/.pip-target/nvidia_cuda_cupti_cu12-12.1.105.dist-info already exists. Specify --upgrade to force replacement.\nWARNING: Target directory /app/.pip-target/nvidia_cuda_nvrtc_cu12-12.1.105.dist-info already exists. Specify --upgrade to force replacement.\nWARNING: Target directory /app/.pip-target/nvidia_cuda_runtime_cu12-12.1.105.dist-info already exists. Specify --upgrade to force replacement.\nWARNING: Target directory /app/.pip-target/nvidia_cufft_cu12-11.0.2.54.dist-info already exists. Specify --upgrade to force replacement.\nWARNING: Target directory /app/.pip-target/nvidia_curand_cu12-10.3.2.106.dist-info already exists. Specify --upgrade to force replacement.\nWARNING: Target directory /app/.pip-target/nvidia_nccl_cu12-2.21.5.dist-info already exists. Specify --upgrade to force replacement.\nWARNING: Target directory /app/.pip-target/nvidia_nvjitlink_cu12-12.9.86.dist-info already exists. Specify --upgrade to force replacement.\nWARNING: Target directory /app/.pip-target/nvidia_nvtx_cu12-12.1.105.dist-info already exists. Specify --upgrade to force replacement.\nWARNING: Target directory /app/.pip-target/nvidia already exists. Specify --upgrade to force replacement.\nWARNING: Target directory /app/.pip-target/pillow-11.0.0.dist-info already exists. Specify --upgrade to force replacement.\nWARNING: Target directory /app/.pip-target/pillow.libs already exists. Specify --upgrade to force replacement.\nWARNING: Target directory /app/.pip-target/PIL already exists. Specify --upgrade to force replacement.\nWARNING: Target directory /app/.pip-target/sympy-1.13.1.dist-info already exists. Specify --upgrade to force replacement.\nWARNING: Target directory /app/.pip-target/sympy already exists. Specify --upgrade to force replacement.\nWARNING: Target directory /app/.pip-target/isympy.py already exists. Specify --upgrade to force replacement.\nWARNING: Target directory /app/.pip-target/__pycache__ already exists. Specify --upgrade to force replacement.\nWARNING: Target directory /app/.pip-target/typing_extensions-4.12.2.dist-info already exists. Specify --upgrade to force replacement.\nWARNING: Target directory /app/.pip-target/typing_extensions.py already exists. Specify --upgrade to force replacement.\nWARNING: Target directory /app/.pip-target/mpmath-1.3.0.dist-info already exists. Specify --upgrade to force replacement.\nWARNING: Target directory /app/.pip-target/mpmath already exists. Specify --upgrade to force replacement.\nWARNING: Target directory /app/.pip-target/bin already exists. Specify --upgrade to force replacement.\nWARNING: Target directory /app/.pip-target/share already exists. Specify --upgrade to force replacement.\n"
          ]
        },
        {
          "output_type": "stream",
          "name": "stdout",
          "text": [
            "\n[pip] install timm --no-deps --upgrade-strategy only-if-needed\n"
          ]
        },
        {
          "output_type": "stream",
          "name": "stdout",
          "text": [
            "Collecting timm\n  Downloading timm-1.0.20-py3-none-any.whl (2.5 MB)\n     \u2501\u2501\u2501\u2501\u2501\u2501\u2501\u2501\u2501\u2501\u2501\u2501\u2501\u2501\u2501\u2501\u2501\u2501\u2501\u2501\u2501\u2501\u2501\u2501\u2501\u2501\u2501\u2501\u2501\u2501\u2501\u2501\u2501\u2501\u2501\u2501\u2501\u2501\u2501\u2501 2.5/2.5 MB 36.5 MB/s eta 0:00:00\nInstalling collected packages: timm\n"
          ]
        },
        {
          "output_type": "stream",
          "name": "stdout",
          "text": [
            "Successfully installed timm-1.0.20\n\n[pip] install --upgrade-strategy only-if-needed albumentations>=1.4.0 opencv-python-headless pandas numpy scikit-learn tqdm matplotlib\n"
          ]
        },
        {
          "output_type": "stream",
          "name": "stdout",
          "text": [
            "Collecting albumentations>=1.4.0\n  Downloading albumentations-2.0.8-py3-none-any.whl (369 kB)\n     \u2501\u2501\u2501\u2501\u2501\u2501\u2501\u2501\u2501\u2501\u2501\u2501\u2501\u2501\u2501\u2501\u2501\u2501\u2501\u2501\u2501\u2501\u2501\u2501\u2501\u2501\u2501\u2501\u2501\u2501\u2501\u2501\u2501\u2501\u2501\u2501\u2501\u2501 369.4/369.4 KB 16.1 MB/s eta 0:00:00\n"
          ]
        },
        {
          "output_type": "stream",
          "name": "stdout",
          "text": [
            "Collecting opencv-python-headless\n  Downloading opencv_python_headless-4.12.0.88-cp37-abi3-manylinux2014_x86_64.manylinux_2_17_x86_64.whl (54.0 MB)\n"
          ]
        },
        {
          "output_type": "stream",
          "name": "stdout",
          "text": [
            "     \u2501\u2501\u2501\u2501\u2501\u2501\u2501\u2501\u2501\u2501\u2501\u2501\u2501\u2501\u2501\u2501\u2501\u2501\u2501\u2501\u2501\u2501\u2501\u2501\u2501\u2501\u2501\u2501\u2501\u2501\u2501\u2501\u2501\u2501\u2501\u2501\u2501\u2501\u2501 54.0/54.0 MB 177.2 MB/s eta 0:00:00\n"
          ]
        },
        {
          "output_type": "stream",
          "name": "stdout",
          "text": [
            "Collecting pandas\n  Downloading pandas-2.3.2-cp311-cp311-manylinux_2_17_x86_64.manylinux2014_x86_64.whl (12.4 MB)\n     \u2501\u2501\u2501\u2501\u2501\u2501\u2501\u2501\u2501\u2501\u2501\u2501\u2501\u2501\u2501\u2501\u2501\u2501\u2501\u2501\u2501\u2501\u2501\u2501\u2501\u2501\u2501\u2501\u2501\u2501\u2501\u2501\u2501\u2501\u2501\u2501\u2501\u2501\u2501 12.4/12.4 MB 126.3 MB/s eta 0:00:00\n"
          ]
        },
        {
          "output_type": "stream",
          "name": "stdout",
          "text": [
            "Collecting numpy\n  Downloading numpy-1.26.4-cp311-cp311-manylinux_2_17_x86_64.manylinux2014_x86_64.whl (18.3 MB)\n     \u2501\u2501\u2501\u2501\u2501\u2501\u2501\u2501\u2501\u2501\u2501\u2501\u2501\u2501\u2501\u2501\u2501\u2501\u2501\u2501\u2501\u2501\u2501\u2501\u2501\u2501\u2501\u2501\u2501\u2501\u2501\u2501\u2501\u2501\u2501\u2501\u2501\u2501\u2501 18.3/18.3 MB 428.2 MB/s eta 0:00:00\n"
          ]
        },
        {
          "output_type": "stream",
          "name": "stdout",
          "text": [
            "Collecting scikit-learn\n  Downloading scikit_learn-1.7.2-cp311-cp311-manylinux2014_x86_64.manylinux_2_17_x86_64.whl (9.7 MB)\n     \u2501\u2501\u2501\u2501\u2501\u2501\u2501\u2501\u2501\u2501\u2501\u2501\u2501\u2501\u2501\u2501\u2501\u2501\u2501\u2501\u2501\u2501\u2501\u2501\u2501\u2501\u2501\u2501\u2501\u2501\u2501\u2501\u2501\u2501\u2501\u2501\u2501\u2501\u2501\u2501 9.7/9.7 MB 106.7 MB/s eta 0:00:00\n"
          ]
        },
        {
          "output_type": "stream",
          "name": "stdout",
          "text": [
            "Collecting tqdm\n  Downloading tqdm-4.67.1-py3-none-any.whl (78 kB)\n     \u2501\u2501\u2501\u2501\u2501\u2501\u2501\u2501\u2501\u2501\u2501\u2501\u2501\u2501\u2501\u2501\u2501\u2501\u2501\u2501\u2501\u2501\u2501\u2501\u2501\u2501\u2501\u2501\u2501\u2501\u2501\u2501\u2501\u2501\u2501\u2501\u2501\u2501\u2501 78.5/78.5 KB 370.8 MB/s eta 0:00:00\n"
          ]
        },
        {
          "output_type": "stream",
          "name": "stdout",
          "text": [
            "Collecting matplotlib\n  Downloading matplotlib-3.10.6-cp311-cp311-manylinux2014_x86_64.manylinux_2_17_x86_64.whl (8.7 MB)\n     \u2501\u2501\u2501\u2501\u2501\u2501\u2501\u2501\u2501\u2501\u2501\u2501\u2501\u2501\u2501\u2501\u2501\u2501\u2501\u2501\u2501\u2501\u2501\u2501\u2501\u2501\u2501\u2501\u2501\u2501\u2501\u2501\u2501\u2501\u2501\u2501\u2501\u2501\u2501\u2501 8.7/8.7 MB 77.6 MB/s eta 0:00:00\n"
          ]
        },
        {
          "output_type": "stream",
          "name": "stdout",
          "text": [
            "Collecting albucore==0.0.24\n  Downloading albucore-0.0.24-py3-none-any.whl (15 kB)\nCollecting PyYAML\n  Downloading PyYAML-6.0.2-cp311-cp311-manylinux_2_17_x86_64.manylinux2014_x86_64.whl (762 kB)\n     \u2501\u2501\u2501\u2501\u2501\u2501\u2501\u2501\u2501\u2501\u2501\u2501\u2501\u2501\u2501\u2501\u2501\u2501\u2501\u2501\u2501\u2501\u2501\u2501\u2501\u2501\u2501\u2501\u2501\u2501\u2501\u2501\u2501\u2501\u2501\u2501\u2501 763.0/763.0 KB 495.6 MB/s eta 0:00:00\n"
          ]
        },
        {
          "output_type": "stream",
          "name": "stdout",
          "text": [
            "Collecting pydantic>=2.9.2\n  Downloading pydantic-2.11.9-py3-none-any.whl (444 kB)\n     \u2501\u2501\u2501\u2501\u2501\u2501\u2501\u2501\u2501\u2501\u2501\u2501\u2501\u2501\u2501\u2501\u2501\u2501\u2501\u2501\u2501\u2501\u2501\u2501\u2501\u2501\u2501\u2501\u2501\u2501\u2501\u2501\u2501\u2501\u2501\u2501\u2501 444.9/444.9 KB 524.9 MB/s eta 0:00:00\n"
          ]
        },
        {
          "output_type": "stream",
          "name": "stdout",
          "text": [
            "Collecting scipy>=1.10.0\n  Downloading scipy-1.16.2-cp311-cp311-manylinux2014_x86_64.manylinux_2_17_x86_64.whl (35.9 MB)\n"
          ]
        },
        {
          "output_type": "stream",
          "name": "stdout",
          "text": [
            "     \u2501\u2501\u2501\u2501\u2501\u2501\u2501\u2501\u2501\u2501\u2501\u2501\u2501\u2501\u2501\u2501\u2501\u2501\u2501\u2501\u2501\u2501\u2501\u2501\u2501\u2501\u2501\u2501\u2501\u2501\u2501\u2501\u2501\u2501\u2501\u2501\u2501\u2501\u2501\u2501 35.9/35.9 MB 94.3 MB/s eta 0:00:00\n"
          ]
        },
        {
          "output_type": "stream",
          "name": "stdout",
          "text": [
            "Collecting simsimd>=5.9.2\n  Downloading simsimd-6.5.3-cp311-cp311-manylinux_2_24_x86_64.manylinux_2_28_x86_64.whl (1.1 MB)\n     \u2501\u2501\u2501\u2501\u2501\u2501\u2501\u2501\u2501\u2501\u2501\u2501\u2501\u2501\u2501\u2501\u2501\u2501\u2501\u2501\u2501\u2501\u2501\u2501\u2501\u2501\u2501\u2501\u2501\u2501\u2501\u2501\u2501\u2501\u2501\u2501\u2501\u2501\u2501\u2501 1.1/1.1 MB 91.0 MB/s eta 0:00:00\n"
          ]
        },
        {
          "output_type": "stream",
          "name": "stdout",
          "text": [
            "Collecting stringzilla>=3.10.4\n  Downloading stringzilla-4.0.13-cp311-cp311-manylinux_2_17_x86_64.manylinux2014_x86_64.manylinux_2_28_x86_64.whl (496 kB)\n     \u2501\u2501\u2501\u2501\u2501\u2501\u2501\u2501\u2501\u2501\u2501\u2501\u2501\u2501\u2501\u2501\u2501\u2501\u2501\u2501\u2501\u2501\u2501\u2501\u2501\u2501\u2501\u2501\u2501\u2501\u2501\u2501\u2501\u2501\u2501\u2501\u2501 496.5/496.5 KB 277.8 MB/s eta 0:00:00\nCollecting opencv-python-headless\n  Downloading opencv_python_headless-4.11.0.86-cp37-abi3-manylinux_2_17_x86_64.manylinux2014_x86_64.whl (50.0 MB)\n"
          ]
        },
        {
          "output_type": "stream",
          "name": "stdout",
          "text": [
            "     \u2501\u2501\u2501\u2501\u2501\u2501\u2501\u2501\u2501\u2501\u2501\u2501\u2501\u2501\u2501\u2501\u2501\u2501\u2501\u2501\u2501\u2501\u2501\u2501\u2501\u2501\u2501\u2501\u2501\u2501\u2501\u2501\u2501\u2501\u2501\u2501\u2501\u2501\u2501 50.0/50.0 MB 227.9 MB/s eta 0:00:00\nCollecting python-dateutil>=2.8.2\n  Downloading python_dateutil-2.9.0.post0-py2.py3-none-any.whl (229 kB)\n     \u2501\u2501\u2501\u2501\u2501\u2501\u2501\u2501\u2501\u2501\u2501\u2501\u2501\u2501\u2501\u2501\u2501\u2501\u2501\u2501\u2501\u2501\u2501\u2501\u2501\u2501\u2501\u2501\u2501\u2501\u2501\u2501\u2501\u2501\u2501\u2501\u2501 229.9/229.9 KB 520.5 MB/s eta 0:00:00\n"
          ]
        },
        {
          "output_type": "stream",
          "name": "stdout",
          "text": [
            "Collecting tzdata>=2022.7\n  Downloading tzdata-2025.2-py2.py3-none-any.whl (347 kB)\n     \u2501\u2501\u2501\u2501\u2501\u2501\u2501\u2501\u2501\u2501\u2501\u2501\u2501\u2501\u2501\u2501\u2501\u2501\u2501\u2501\u2501\u2501\u2501\u2501\u2501\u2501\u2501\u2501\u2501\u2501\u2501\u2501\u2501\u2501\u2501\u2501\u2501 347.8/347.8 KB 518.6 MB/s eta 0:00:00\nCollecting pytz>=2020.1\n  Downloading pytz-2025.2-py2.py3-none-any.whl (509 kB)\n     \u2501\u2501\u2501\u2501\u2501\u2501\u2501\u2501\u2501\u2501\u2501\u2501\u2501\u2501\u2501\u2501\u2501\u2501\u2501\u2501\u2501\u2501\u2501\u2501\u2501\u2501\u2501\u2501\u2501\u2501\u2501\u2501\u2501\u2501\u2501\u2501\u2501 509.2/509.2 KB 498.9 MB/s eta 0:00:00\nCollecting threadpoolctl>=3.1.0\n  Downloading threadpoolctl-3.6.0-py3-none-any.whl (18 kB)\n"
          ]
        },
        {
          "output_type": "stream",
          "name": "stdout",
          "text": [
            "Collecting joblib>=1.2.0\n  Downloading joblib-1.5.2-py3-none-any.whl (308 kB)\n     \u2501\u2501\u2501\u2501\u2501\u2501\u2501\u2501\u2501\u2501\u2501\u2501\u2501\u2501\u2501\u2501\u2501\u2501\u2501\u2501\u2501\u2501\u2501\u2501\u2501\u2501\u2501\u2501\u2501\u2501\u2501\u2501\u2501\u2501\u2501\u2501\u2501 308.4/308.4 KB 547.9 MB/s eta 0:00:00\n"
          ]
        },
        {
          "output_type": "stream",
          "name": "stdout",
          "text": [
            "Collecting cycler>=0.10\n  Downloading cycler-0.12.1-py3-none-any.whl (8.3 kB)\n"
          ]
        },
        {
          "output_type": "stream",
          "name": "stdout",
          "text": [
            "Collecting pillow>=8\n  Downloading pillow-11.3.0-cp311-cp311-manylinux_2_27_x86_64.manylinux_2_28_x86_64.whl (6.6 MB)\n     \u2501\u2501\u2501\u2501\u2501\u2501\u2501\u2501\u2501\u2501\u2501\u2501\u2501\u2501\u2501\u2501\u2501\u2501\u2501\u2501\u2501\u2501\u2501\u2501\u2501\u2501\u2501\u2501\u2501\u2501\u2501\u2501\u2501\u2501\u2501\u2501\u2501\u2501\u2501\u2501 6.6/6.6 MB 173.6 MB/s eta 0:00:00\nCollecting pyparsing>=2.3.1\n  Downloading pyparsing-3.2.5-py3-none-any.whl (113 kB)\n     \u2501\u2501\u2501\u2501\u2501\u2501\u2501\u2501\u2501\u2501\u2501\u2501\u2501\u2501\u2501\u2501\u2501\u2501\u2501\u2501\u2501\u2501\u2501\u2501\u2501\u2501\u2501\u2501\u2501\u2501\u2501\u2501\u2501\u2501\u2501\u2501\u2501 113.9/113.9 KB 472.4 MB/s eta 0:00:00\n"
          ]
        },
        {
          "output_type": "stream",
          "name": "stdout",
          "text": [
            "Collecting kiwisolver>=1.3.1\n  Downloading kiwisolver-1.4.9-cp311-cp311-manylinux2014_x86_64.manylinux_2_17_x86_64.whl (1.4 MB)\n     \u2501\u2501\u2501\u2501\u2501\u2501\u2501\u2501\u2501\u2501\u2501\u2501\u2501\u2501\u2501\u2501\u2501\u2501\u2501\u2501\u2501\u2501\u2501\u2501\u2501\u2501\u2501\u2501\u2501\u2501\u2501\u2501\u2501\u2501\u2501\u2501\u2501\u2501\u2501\u2501 1.4/1.4 MB 444.4 MB/s eta 0:00:00\n"
          ]
        },
        {
          "output_type": "stream",
          "name": "stdout",
          "text": [
            "Collecting contourpy>=1.0.1\n  Downloading contourpy-1.3.3-cp311-cp311-manylinux_2_27_x86_64.manylinux_2_28_x86_64.whl (355 kB)\n     \u2501\u2501\u2501\u2501\u2501\u2501\u2501\u2501\u2501\u2501\u2501\u2501\u2501\u2501\u2501\u2501\u2501\u2501\u2501\u2501\u2501\u2501\u2501\u2501\u2501\u2501\u2501\u2501\u2501\u2501\u2501\u2501\u2501\u2501\u2501\u2501\u2501 355.2/355.2 KB 533.8 MB/s eta 0:00:00\nCollecting packaging>=20.0\n  Downloading packaging-25.0-py3-none-any.whl (66 kB)\n     \u2501\u2501\u2501\u2501\u2501\u2501\u2501\u2501\u2501\u2501\u2501\u2501\u2501\u2501\u2501\u2501\u2501\u2501\u2501\u2501\u2501\u2501\u2501\u2501\u2501\u2501\u2501\u2501\u2501\u2501\u2501\u2501\u2501\u2501\u2501\u2501\u2501\u2501\u2501\u2501 66.5/66.5 KB 25.4 MB/s eta 0:00:00\n"
          ]
        },
        {
          "output_type": "stream",
          "name": "stdout",
          "text": [
            "Collecting fonttools>=4.22.0\n  Downloading fonttools-4.60.0-cp311-cp311-manylinux2014_x86_64.manylinux_2_17_x86_64.whl (5.0 MB)\n     \u2501\u2501\u2501\u2501\u2501\u2501\u2501\u2501\u2501\u2501\u2501\u2501\u2501\u2501\u2501\u2501\u2501\u2501\u2501\u2501\u2501\u2501\u2501\u2501\u2501\u2501\u2501\u2501\u2501\u2501\u2501\u2501\u2501\u2501\u2501\u2501\u2501\u2501\u2501\u2501 5.0/5.0 MB 165.3 MB/s eta 0:00:00\n"
          ]
        },
        {
          "output_type": "stream",
          "name": "stdout",
          "text": [
            "Collecting annotated-types>=0.6.0\n  Downloading annotated_types-0.7.0-py3-none-any.whl (13 kB)\n"
          ]
        },
        {
          "output_type": "stream",
          "name": "stdout",
          "text": [
            "Collecting pydantic-core==2.33.2\n  Downloading pydantic_core-2.33.2-cp311-cp311-manylinux_2_17_x86_64.manylinux2014_x86_64.whl (2.0 MB)\n     \u2501\u2501\u2501\u2501\u2501\u2501\u2501\u2501\u2501\u2501\u2501\u2501\u2501\u2501\u2501\u2501\u2501\u2501\u2501\u2501\u2501\u2501\u2501\u2501\u2501\u2501\u2501\u2501\u2501\u2501\u2501\u2501\u2501\u2501\u2501\u2501\u2501\u2501\u2501\u2501 2.0/2.0 MB 271.7 MB/s eta 0:00:00\nCollecting typing-extensions>=4.12.2\n  Downloading typing_extensions-4.15.0-py3-none-any.whl (44 kB)\n     \u2501\u2501\u2501\u2501\u2501\u2501\u2501\u2501\u2501\u2501\u2501\u2501\u2501\u2501\u2501\u2501\u2501\u2501\u2501\u2501\u2501\u2501\u2501\u2501\u2501\u2501\u2501\u2501\u2501\u2501\u2501\u2501\u2501\u2501\u2501\u2501\u2501\u2501\u2501 44.6/44.6 KB 393.9 MB/s eta 0:00:00\nCollecting typing-inspection>=0.4.0\n  Downloading typing_inspection-0.4.1-py3-none-any.whl (14 kB)\nCollecting six>=1.5\n  Downloading six-1.17.0-py2.py3-none-any.whl (11 kB)\n"
          ]
        },
        {
          "output_type": "stream",
          "name": "stdout",
          "text": [
            "Installing collected packages: simsimd, pytz, tzdata, typing-extensions, tqdm, threadpoolctl, stringzilla, six, PyYAML, pyparsing, pillow, packaging, numpy, kiwisolver, joblib, fonttools, cycler, annotated-types, typing-inspection, scipy, python-dateutil, pydantic-core, opencv-python-headless, contourpy, scikit-learn, pydantic, pandas, matplotlib, albucore, albumentations\n"
          ]
        },
        {
          "output_type": "stream",
          "name": "stderr",
          "text": [
            "ERROR: pip's dependency resolver does not currently take into account all the packages that are installed. This behaviour is the source of the following dependency conflicts.\ntimm 1.0.20 requires huggingface_hub, which is not installed.\ntimm 1.0.20 requires safetensors, which is not installed.\n"
          ]
        },
        {
          "output_type": "stream",
          "name": "stdout",
          "text": [
            "Successfully installed PyYAML-6.0.2 albucore-0.0.24 albumentations-2.0.8 annotated-types-0.7.0 contourpy-1.3.3 cycler-0.12.1 fonttools-4.60.0 joblib-1.5.2 kiwisolver-1.4.9 matplotlib-3.10.6 numpy-1.26.4 opencv-python-headless-4.11.0.86 packaging-25.0 pandas-2.3.2 pillow-11.3.0 pydantic-2.11.9 pydantic-core-2.33.2 pyparsing-3.2.5 python-dateutil-2.9.0.post0 pytz-2025.2 scikit-learn-1.7.2 scipy-1.16.2 simsimd-6.5.3 six-1.17.0 stringzilla-4.0.13 threadpoolctl-3.6.0 tqdm-4.67.1 typing-extensions-4.15.0 typing-inspection-0.4.1 tzdata-2025.2\n"
          ]
        },
        {
          "output_type": "stream",
          "name": "stderr",
          "text": [
            "WARNING: Target directory /app/.pip-target/numpy.libs already exists. Specify --upgrade to force replacement.\nWARNING: Target directory /app/.pip-target/numpy already exists. Specify --upgrade to force replacement.\nWARNING: Target directory /app/.pip-target/pillow.libs already exists. Specify --upgrade to force replacement.\nWARNING: Target directory /app/.pip-target/PIL already exists. Specify --upgrade to force replacement.\nWARNING: Target directory /app/.pip-target/__pycache__ already exists. Specify --upgrade to force replacement.\nWARNING: Target directory /app/.pip-target/typing_extensions.py already exists. Specify --upgrade to force replacement.\nWARNING: Target directory /app/.pip-target/share already exists. Specify --upgrade to force replacement.\nWARNING: Target directory /app/.pip-target/bin already exists. Specify --upgrade to force replacement.\n"
          ]
        },
        {
          "output_type": "stream",
          "name": "stdout",
          "text": [
            "Torch: 2.5.1+cu121 | TorchVision: 0.20.1+cu121\nGPU Available: False\nGPU Count: 0\ntrain.csv shape: (8920, 14) | test.csv shape: (992, 13)\nColumns (train): ['Id', 'Subject Focus', 'Eyes', 'Face', 'Near', 'Action', 'Accessory', 'Group', 'Collage', 'Human', 'Occlusion', 'Info', 'Blur', 'Pawpularity']\nColumns (test): ['Id', 'Subject Focus', 'Eyes', 'Face', 'Near', 'Action', 'Accessory', 'Group', 'Collage', 'Human', 'Occlusion', 'Info', 'Blur']\nTrain images on disk: 8920 | in CSV: 8920 | missing: 0\nTest images on disk: 992 | in CSV: 992 | missing: 0\nPawpularity stats: {'min': 1, 'max': 100, 'mean': 38.024775784753366, 'std': 20.646554573509412}\nStrat bins (floor/5) distribution sample: {0: 184, 1: 147, 2: 267, 3: 528, 4: 1009, 5: 1369, 6: 1256, 7: 974, 8: 746, 9: 535}\n\nEnv & data check complete.\n"
          ]
        },
        {
          "output_type": "stream",
          "name": "stderr",
          "text": [
            "/app/.pip-target/torch/cuda/__init__.py:716: UserWarning: Can't initialize NVML\n  warnings.warn(\"Can't initialize NVML\")\n"
          ]
        }
      ]
    },
    {
      "id": "3a8e656b-dee2-46d1-8c54-5e2b51903106",
      "cell_type": "code",
      "metadata": {},
      "source": [
        "# Create and save stratified 5-fold splits (20 bins)\n",
        "import os, time\n",
        "import pandas as pd, numpy as np\n",
        "from sklearn.model_selection import StratifiedKFold\n",
        "\n",
        "t0 = time.time()\n",
        "train_df = pd.read_csv('train.csv')\n",
        "assert 'Id' in train_df.columns and 'Pawpularity' in train_df.columns, 'Missing Id/Pawpularity'\n",
        "\n",
        "# 20-bin stratification via floor/5 capped to 19\n",
        "y = train_df['Pawpularity'].values.astype(int)\n",
        "bins = np.clip((y // 5).astype(int), 0, 19)\n",
        "\n",
        "skf = StratifiedKFold(n_splits=5, shuffle=True, random_state=2025)\n",
        "folds = np.full(len(train_df), -1, dtype=int)\n",
        "for f, (_, val_idx) in enumerate(skf.split(np.zeros(len(bins)), bins)):\n",
        "    folds[val_idx] = f\n",
        "\n",
        "train_df['fold'] = folds\n",
        "assert (train_df['fold'] >= 0).all(), 'Unassigned fold discovered'\n",
        "\n",
        "# Save folds mapping for reuse\n",
        "folds_path = 'folds.csv'\n",
        "train_df[['Id', 'fold']].to_csv(folds_path, index=False)\n",
        "\n",
        "# Summary\n",
        "print('Saved:', folds_path, '| shape:', train_df.shape)\n",
        "print('Fold distribution (counts):', train_df['fold'].value_counts().sort_index().to_dict())\n",
        "print('Bins per fold (head):')\n",
        "print(train_df.groupby('fold')['Pawpularity'].agg(['mean','std','min','max']).round(3))\n",
        "print(f'Done in {time.time()-t0:.2f}s')"
      ],
      "execution_count": 4,
      "outputs": [
        {
          "output_type": "stream",
          "name": "stdout",
          "text": [
            "Saved: folds.csv | shape: (8920, 15)\nFold distribution (counts): {0: 1784, 1: 1784, 2: 1784, 3: 1784, 4: 1784}\nBins per fold (head):\n        mean     std  min  max\nfold                          \n0     38.031  20.561    1  100\n1     37.999  20.636    2  100\n2     38.006  20.725    2  100\n3     38.066  20.667    1  100\n4     38.022  20.671    2  100\nDone in 0.02s\n"
          ]
        }
      ]
    },
    {
      "id": "606758f5-83c2-436d-9837-b265510966d3",
      "cell_type": "code",
      "metadata": {},
      "source": [
        "# GPU diagnostics\n",
        "import os, subprocess, sys, torch\n",
        "\n",
        "def run_cmd(cmd):\n",
        "    print(f\"\\n$ {' '.join(cmd)}\", flush=True)\n",
        "    try:\n",
        "        out = subprocess.run(cmd, stdout=subprocess.PIPE, stderr=subprocess.STDOUT, text=True, check=False)\n",
        "        print(out.stdout)\n",
        "    except Exception as e:\n",
        "        print(f\"FAILED: {e}\")\n",
        "\n",
        "print('Env vars:')\n",
        "for k in ['CUDA_VISIBLE_DEVICES','NVIDIA_VISIBLE_DEVICES','NVIDIA_DRIVER_CAPABILITIES']:\n",
        "    print(f\"  {k} = {os.getenv(k)}\")\n",
        "\n",
        "print('\\nPyTorch CUDA:')\n",
        "print('  torch_ver =', torch.__version__)\n",
        "print('  torch.version.cuda =', torch.version.cuda)\n",
        "print('  is_available =', torch.cuda.is_available())\n",
        "print('  device_count =', torch.cuda.device_count())\n",
        "\n",
        "run_cmd(['nvidia-smi'])\n",
        "run_cmd(['bash','-lc','ls -l /dev/nvidia*'])\n",
        "run_cmd(['bash','-lc','cat /proc/driver/nvidia/version || true'])\n",
        "run_cmd(['bash','-lc','ldconfig -p | grep nvidia || true'])\n",
        "\n",
        "print('\\nDiagnostics complete.')"
      ],
      "execution_count": 5,
      "outputs": [
        {
          "output_type": "stream",
          "name": "stdout",
          "text": [
            "Env vars:\n  CUDA_VISIBLE_DEVICES = None\n  NVIDIA_VISIBLE_DEVICES = None\n  NVIDIA_DRIVER_CAPABILITIES = None\n\nPyTorch CUDA:\n  torch_ver = 2.5.1+cu121\n  torch.version.cuda = 12.1\n  is_available = False\n  device_count = 0\n\n$ nvidia-smi\n"
          ]
        },
        {
          "output_type": "stream",
          "name": "stdout",
          "text": [
            "Failed to initialize NVML: Unknown Error\n\n\n$ bash -lc ls -l /dev/nvidia*\n"
          ]
        },
        {
          "output_type": "stream",
          "name": "stdout",
          "text": [
            "crw-rw-rw- 1 root root 234,   0 Sep 22 04:48 /dev/nvidia-uvm\ncrw-rw-rw- 1 root root 234,   1 Sep 22 04:48 /dev/nvidia-uvm-tools\ncrw-rw-rw- 1 root root 195,   0 Sep 22 04:47 /dev/nvidia0\ncrw-rw-rw- 1 root root 195, 255 Sep 22 04:47 /dev/nvidiactl\n\n\n$ bash -lc cat /proc/driver/nvidia/version || true\n"
          ]
        },
        {
          "output_type": "stream",
          "name": "stdout",
          "text": [
            "NVRM version: NVIDIA UNIX x86_64 Kernel Module  550.144.06  Mon Apr 14 05:50:23 UTC 2025\nGCC version:  gcc version 11.4.0 (Ubuntu 11.4.0-1ubuntu1~22.04.2) \n\n\n$ bash -lc ldconfig -p | grep nvidia || true\n"
          ]
        },
        {
          "output_type": "stream",
          "name": "stdout",
          "text": [
            "\tlibnvidia-ptxjitcompiler.so.1 (libc6,x86-64) => /usr/lib/x86_64-linux-gnu/libnvidia-ptxjitcompiler.so.1\n\tlibnvidia-pkcs11.so.550.144.06 (libc6,x86-64) => /usr/lib/x86_64-linux-gnu/libnvidia-pkcs11.so.550.144.06\n\tlibnvidia-pkcs11-openssl3.so.550.144.06 (libc6,x86-64) => /usr/lib/x86_64-linux-gnu/libnvidia-pkcs11-openssl3.so.550.144.06\n\tlibnvidia-opencl.so.1 (libc6,x86-64) => /usr/lib/x86_64-linux-gnu/libnvidia-opencl.so.1\n\tlibnvidia-nvvm.so.4 (libc6,x86-64) => /usr/lib/x86_64-linux-gnu/libnvidia-nvvm.so.4\n\tlibnvidia-ml.so.1 (libc6,x86-64) => /usr/lib/x86_64-linux-gnu/libnvidia-ml.so.1\n\tlibnvidia-gpucomp.so.550.144.06 (libc6,x86-64) => /usr/lib/x86_64-linux-gnu/libnvidia-gpucomp.so.550.144.06\n\tlibnvidia-cfg.so.1 (libc6,x86-64) => /usr/lib/x86_64-linux-gnu/libnvidia-cfg.so.1\n\tlibnvidia-allocator.so.1 (libc6,x86-64) => /usr/lib/x86_64-linux-gnu/libnvidia-allocator.so.1\n\n\nDiagnostics complete.\n"
          ]
        },
        {
          "output_type": "stream",
          "name": "stderr",
          "text": [
            "/app/.pip-target/torch/cuda/__init__.py:716: UserWarning: Can't initialize NVML\n  warnings.warn(\"Can't initialize NVML\")\n"
          ]
        }
      ]
    },
    {
      "id": "282cd1ed-1678-486c-810f-d2453761133e",
      "cell_type": "code",
      "metadata": {},
      "source": [
        "# CPU fallback: install extras for embeddings + boosted trees\n",
        "import sys, subprocess\n",
        "def pip_run(args):\n",
        "    print(f\"[pip] {' '.join(args)}\", flush=True)\n",
        "    subprocess.run([sys.executable, '-m', 'pip'] + args, check=True)\n",
        "\n",
        "pkgs1 = ['install', '--upgrade-strategy', 'only-if-needed', 'huggingface_hub', 'safetensors']\n",
        "pkgs2 = ['install', '--upgrade-strategy', 'only-if-needed', 'lightgbm', 'xgboost']\n",
        "pip_run(pkgs1)\n",
        "pip_run(pkgs2)\n",
        "print('Installed huggingface_hub, safetensors, lightgbm, xgboost')"
      ],
      "execution_count": 6,
      "outputs": [
        {
          "output_type": "stream",
          "name": "stdout",
          "text": [
            "[pip] install --upgrade-strategy only-if-needed huggingface_hub safetensors\n"
          ]
        },
        {
          "output_type": "stream",
          "name": "stdout",
          "text": [
            "Collecting huggingface_hub\n"
          ]
        },
        {
          "output_type": "stream",
          "name": "stdout",
          "text": [
            "  Downloading huggingface_hub-0.35.0-py3-none-any.whl (563 kB)\n     \u2501\u2501\u2501\u2501\u2501\u2501\u2501\u2501\u2501\u2501\u2501\u2501\u2501\u2501\u2501\u2501\u2501\u2501\u2501\u2501\u2501\u2501\u2501\u2501\u2501\u2501\u2501\u2501\u2501\u2501\u2501\u2501\u2501\u2501\u2501\u2501\u2501\u2501 563.4/563.4 KB 21.8 MB/s eta 0:00:00\n"
          ]
        },
        {
          "output_type": "stream",
          "name": "stdout",
          "text": [
            "Collecting safetensors\n  Downloading safetensors-0.6.2-cp38-abi3-manylinux_2_17_x86_64.manylinux2014_x86_64.whl (485 kB)\n     \u2501\u2501\u2501\u2501\u2501\u2501\u2501\u2501\u2501\u2501\u2501\u2501\u2501\u2501\u2501\u2501\u2501\u2501\u2501\u2501\u2501\u2501\u2501\u2501\u2501\u2501\u2501\u2501\u2501\u2501\u2501\u2501\u2501\u2501\u2501\u2501\u2501\u2501 485.8/485.8 KB 50.1 MB/s eta 0:00:00\nCollecting typing-extensions>=3.7.4.3\n  Downloading typing_extensions-4.15.0-py3-none-any.whl (44 kB)\n     \u2501\u2501\u2501\u2501\u2501\u2501\u2501\u2501\u2501\u2501\u2501\u2501\u2501\u2501\u2501\u2501\u2501\u2501\u2501\u2501\u2501\u2501\u2501\u2501\u2501\u2501\u2501\u2501\u2501\u2501\u2501\u2501\u2501\u2501\u2501\u2501\u2501\u2501\u2501 44.6/44.6 KB 397.7 MB/s eta 0:00:00\nCollecting requests\n  Downloading requests-2.32.5-py3-none-any.whl (64 kB)\n     \u2501\u2501\u2501\u2501\u2501\u2501\u2501\u2501\u2501\u2501\u2501\u2501\u2501\u2501\u2501\u2501\u2501\u2501\u2501\u2501\u2501\u2501\u2501\u2501\u2501\u2501\u2501\u2501\u2501\u2501\u2501\u2501\u2501\u2501\u2501\u2501\u2501\u2501\u2501 64.7/64.7 KB 418.4 MB/s eta 0:00:00\n"
          ]
        },
        {
          "output_type": "stream",
          "name": "stdout",
          "text": [
            "Collecting hf-xet<2.0.0,>=1.1.3\n  Downloading hf_xet-1.1.10-cp37-abi3-manylinux_2_17_x86_64.manylinux2014_x86_64.whl (3.2 MB)\n"
          ]
        },
        {
          "output_type": "stream",
          "name": "stdout",
          "text": [
            "     \u2501\u2501\u2501\u2501\u2501\u2501\u2501\u2501\u2501\u2501\u2501\u2501\u2501\u2501\u2501\u2501\u2501\u2501\u2501\u2501\u2501\u2501\u2501\u2501\u2501\u2501\u2501\u2501\u2501\u2501\u2501\u2501\u2501\u2501\u2501\u2501\u2501\u2501\u2501\u2501 3.2/3.2 MB 14.7 MB/s eta 0:00:00\nCollecting filelock\n  Downloading filelock-3.19.1-py3-none-any.whl (15 kB)\nCollecting packaging>=20.9\n  Downloading packaging-25.0-py3-none-any.whl (66 kB)\n     \u2501\u2501\u2501\u2501\u2501\u2501\u2501\u2501\u2501\u2501\u2501\u2501\u2501\u2501\u2501\u2501\u2501\u2501\u2501\u2501\u2501\u2501\u2501\u2501\u2501\u2501\u2501\u2501\u2501\u2501\u2501\u2501\u2501\u2501\u2501\u2501\u2501\u2501\u2501 66.5/66.5 KB 435.0 MB/s eta 0:00:00\nCollecting tqdm>=4.42.1\n  Downloading tqdm-4.67.1-py3-none-any.whl (78 kB)\n     \u2501\u2501\u2501\u2501\u2501\u2501\u2501\u2501\u2501\u2501\u2501\u2501\u2501\u2501\u2501\u2501\u2501\u2501\u2501\u2501\u2501\u2501\u2501\u2501\u2501\u2501\u2501\u2501\u2501\u2501\u2501\u2501\u2501\u2501\u2501\u2501\u2501\u2501\u2501 78.5/78.5 KB 422.1 MB/s eta 0:00:00\nCollecting fsspec>=2023.5.0\n  Downloading fsspec-2025.9.0-py3-none-any.whl (199 kB)\n     \u2501\u2501\u2501\u2501\u2501\u2501\u2501\u2501\u2501\u2501\u2501\u2501\u2501\u2501\u2501\u2501\u2501\u2501\u2501\u2501\u2501\u2501\u2501\u2501\u2501\u2501\u2501\u2501\u2501\u2501\u2501\u2501\u2501\u2501\u2501\u2501\u2501 199.3/199.3 KB 417.3 MB/s eta 0:00:00\n"
          ]
        },
        {
          "output_type": "stream",
          "name": "stdout",
          "text": [
            "Collecting pyyaml>=5.1\n  Downloading PyYAML-6.0.2-cp311-cp311-manylinux_2_17_x86_64.manylinux2014_x86_64.whl (762 kB)\n     \u2501\u2501\u2501\u2501\u2501\u2501\u2501\u2501\u2501\u2501\u2501\u2501\u2501\u2501\u2501\u2501\u2501\u2501\u2501\u2501\u2501\u2501\u2501\u2501\u2501\u2501\u2501\u2501\u2501\u2501\u2501\u2501\u2501\u2501\u2501\u2501\u2501 763.0/763.0 KB 264.9 MB/s eta 0:00:00\nCollecting idna<4,>=2.5\n  Downloading idna-3.10-py3-none-any.whl (70 kB)\n     \u2501\u2501\u2501\u2501\u2501\u2501\u2501\u2501\u2501\u2501\u2501\u2501\u2501\u2501\u2501\u2501\u2501\u2501\u2501\u2501\u2501\u2501\u2501\u2501\u2501\u2501\u2501\u2501\u2501\u2501\u2501\u2501\u2501\u2501\u2501\u2501\u2501\u2501\u2501 70.4/70.4 KB 450.3 MB/s eta 0:00:00\nCollecting certifi>=2017.4.17\n  Downloading certifi-2025.8.3-py3-none-any.whl (161 kB)\n     \u2501\u2501\u2501\u2501\u2501\u2501\u2501\u2501\u2501\u2501\u2501\u2501\u2501\u2501\u2501\u2501\u2501\u2501\u2501\u2501\u2501\u2501\u2501\u2501\u2501\u2501\u2501\u2501\u2501\u2501\u2501\u2501\u2501\u2501\u2501\u2501\u2501 161.2/161.2 KB 477.8 MB/s eta 0:00:00\nCollecting urllib3<3,>=1.21.1\n  Downloading urllib3-2.5.0-py3-none-any.whl (129 kB)\n"
          ]
        },
        {
          "output_type": "stream",
          "name": "stdout",
          "text": [
            "     \u2501\u2501\u2501\u2501\u2501\u2501\u2501\u2501\u2501\u2501\u2501\u2501\u2501\u2501\u2501\u2501\u2501\u2501\u2501\u2501\u2501\u2501\u2501\u2501\u2501\u2501\u2501\u2501\u2501\u2501\u2501\u2501\u2501\u2501\u2501\u2501\u2501 129.8/129.8 KB 443.3 MB/s eta 0:00:00\nCollecting charset_normalizer<4,>=2\n  Downloading charset_normalizer-3.4.3-cp311-cp311-manylinux2014_x86_64.manylinux_2_17_x86_64.manylinux_2_28_x86_64.whl (150 kB)\n     \u2501\u2501\u2501\u2501\u2501\u2501\u2501\u2501\u2501\u2501\u2501\u2501\u2501\u2501\u2501\u2501\u2501\u2501\u2501\u2501\u2501\u2501\u2501\u2501\u2501\u2501\u2501\u2501\u2501\u2501\u2501\u2501\u2501\u2501\u2501\u2501\u2501 150.3/150.3 KB 482.4 MB/s eta 0:00:00\n"
          ]
        },
        {
          "output_type": "stream",
          "name": "stdout",
          "text": [
            "Installing collected packages: urllib3, typing-extensions, tqdm, safetensors, pyyaml, packaging, idna, hf-xet, fsspec, filelock, charset_normalizer, certifi, requests, huggingface_hub\n"
          ]
        },
        {
          "output_type": "stream",
          "name": "stdout",
          "text": [
            "Successfully installed certifi-2025.8.3 charset_normalizer-3.4.3 filelock-3.19.1 fsspec-2025.9.0 hf-xet-1.1.10 huggingface_hub-0.35.0 idna-3.10 packaging-25.0 pyyaml-6.0.2 requests-2.32.5 safetensors-0.6.2 tqdm-4.67.1 typing-extensions-4.15.0 urllib3-2.5.0\n[pip] install --upgrade-strategy only-if-needed lightgbm xgboost\n"
          ]
        },
        {
          "output_type": "stream",
          "name": "stderr",
          "text": [
            "WARNING: Target directory /app/.pip-target/filelock already exists. Specify --upgrade to force replacement.\nWARNING: Target directory /app/.pip-target/fsspec already exists. Specify --upgrade to force replacement.\nWARNING: Target directory /app/.pip-target/packaging-25.0.dist-info already exists. Specify --upgrade to force replacement.\nWARNING: Target directory /app/.pip-target/packaging already exists. Specify --upgrade to force replacement.\nWARNING: Target directory /app/.pip-target/_yaml already exists. Specify --upgrade to force replacement.\nWARNING: Target directory /app/.pip-target/yaml already exists. Specify --upgrade to force replacement.\nWARNING: Target directory /app/.pip-target/PyYAML-6.0.2.dist-info already exists. Specify --upgrade to force replacement.\nWARNING: Target directory /app/.pip-target/tqdm-4.67.1.dist-info already exists. Specify --upgrade to force replacement.\nWARNING: Target directory /app/.pip-target/tqdm already exists. Specify --upgrade to force replacement.\nWARNING: Target directory /app/.pip-target/__pycache__ already exists. Specify --upgrade to force replacement.\nWARNING: Target directory /app/.pip-target/typing_extensions-4.15.0.dist-info already exists. Specify --upgrade to force replacement.\nWARNING: Target directory /app/.pip-target/typing_extensions.py already exists. Specify --upgrade to force replacement.\nWARNING: Target directory /app/.pip-target/bin already exists. Specify --upgrade to force replacement.\n"
          ]
        },
        {
          "output_type": "stream",
          "name": "stdout",
          "text": [
            "Collecting lightgbm\n  Downloading lightgbm-4.6.0-py3-none-manylinux_2_28_x86_64.whl (3.6 MB)\n"
          ]
        },
        {
          "output_type": "stream",
          "name": "stdout",
          "text": [
            "     \u2501\u2501\u2501\u2501\u2501\u2501\u2501\u2501\u2501\u2501\u2501\u2501\u2501\u2501\u2501\u2501\u2501\u2501\u2501\u2501\u2501\u2501\u2501\u2501\u2501\u2501\u2501\u2501\u2501\u2501\u2501\u2501\u2501\u2501\u2501\u2501\u2501\u2501\u2501\u2501 3.6/3.6 MB 7.4 MB/s eta 0:00:00\nCollecting xgboost\n  Downloading xgboost-3.0.5-py3-none-manylinux_2_28_x86_64.whl (94.9 MB)\n"
          ]
        },
        {
          "output_type": "stream",
          "name": "stdout",
          "text": [
            "     \u2501\u2501\u2501\u2501\u2501\u2501\u2501\u2501\u2501\u2501\u2501\u2501\u2501\u2501\u2501\u2501\u2501\u2501\u2501\u2501\u2501\u2501\u2501\u2501\u2501\u2501\u2501\u2501\u2501\u2501\u2501\u2501\u2501\u2501\u2501\u2501\u2501\u2501\u2501 94.9/94.9 MB 330.3 MB/s eta 0:00:00\n"
          ]
        },
        {
          "output_type": "stream",
          "name": "stdout",
          "text": [
            "Collecting numpy>=1.17.0\n  Downloading numpy-1.26.4-cp311-cp311-manylinux_2_17_x86_64.manylinux2014_x86_64.whl (18.3 MB)\n     \u2501\u2501\u2501\u2501\u2501\u2501\u2501\u2501\u2501\u2501\u2501\u2501\u2501\u2501\u2501\u2501\u2501\u2501\u2501\u2501\u2501\u2501\u2501\u2501\u2501\u2501\u2501\u2501\u2501\u2501\u2501\u2501\u2501\u2501\u2501\u2501\u2501\u2501\u2501 18.3/18.3 MB 440.8 MB/s eta 0:00:00\n"
          ]
        },
        {
          "output_type": "stream",
          "name": "stdout",
          "text": [
            "Collecting scipy\n  Downloading scipy-1.16.2-cp311-cp311-manylinux2014_x86_64.manylinux_2_17_x86_64.whl (35.9 MB)\n"
          ]
        },
        {
          "output_type": "stream",
          "name": "stdout",
          "text": [
            "     \u2501\u2501\u2501\u2501\u2501\u2501\u2501\u2501\u2501\u2501\u2501\u2501\u2501\u2501\u2501\u2501\u2501\u2501\u2501\u2501\u2501\u2501\u2501\u2501\u2501\u2501\u2501\u2501\u2501\u2501\u2501\u2501\u2501\u2501\u2501\u2501\u2501\u2501\u2501\u2501 35.9/35.9 MB 18.6 MB/s eta 0:00:00\nCollecting nvidia-nccl-cu12\n  Downloading nvidia_nccl_cu12-2.28.3-py3-none-manylinux_2_18_x86_64.whl (295.9 MB)\n"
          ]
        },
        {
          "output_type": "stream",
          "name": "stdout",
          "text": [
            "     \u2501\u2501\u2501\u2501\u2501\u2501\u2501\u2501\u2501\u2501\u2501\u2501\u2501\u2501\u2501\u2501\u2501\u2501\u2501\u2501\u2501\u2578                 170.9/295.9 MB 22.5 MB/s eta 0:00:06\n"
          ]
        },
        {
          "output_type": "stream",
          "name": "stderr",
          "text": [
            "ERROR: Exception:\nTraceback (most recent call last):\n  File \"/usr/lib/python3/dist-packages/pip/_vendor/urllib3/response.py\", line 438, in _error_catcher\n    yield\n  File \"/usr/lib/python3/dist-packages/pip/_vendor/urllib3/response.py\", line 519, in read\n    data = self._fp.read(amt) if not fp_closed else b\"\"\n           ^^^^^^^^^^^^^^^^^^\n  File \"/usr/lib/python3.11/http/client.py\", line 465, in read\n    s = self.fp.read(amt)\n        ^^^^^^^^^^^^^^^^^\n  File \"/usr/lib/python3.11/socket.py\", line 705, in readinto\n    return self._sock.recv_into(b)\n           ^^^^^^^^^^^^^^^^^^^^^^^\n  File \"/usr/lib/python3.11/ssl.py\", line 1278, in recv_into\n    return self.read(nbytes, buffer)\n           ^^^^^^^^^^^^^^^^^^^^^^^^^\n  File \"/usr/lib/python3.11/ssl.py\", line 1134, in read\n    return self._sslobj.read(len, buffer)\n           ^^^^^^^^^^^^^^^^^^^^^^^^^^^^^^\nTimeoutError: The read operation timed out\n\nDuring handling of the above exception, another exception occurred:\n\nTraceback (most recent call last):\n  File \"/usr/lib/python3/dist-packages/pip/_internal/cli/base_command.py\", line 165, in exc_logging_wrapper\n    status = run_func(*args)\n             ^^^^^^^^^^^^^^^\n  File \"/usr/lib/python3/dist-packages/pip/_internal/cli/req_command.py\", line 205, in wrapper\n    return func(self, options, args)\n           ^^^^^^^^^^^^^^^^^^^^^^^^^\n  File \"/usr/lib/python3/dist-packages/pip/_internal/commands/install.py\", line 339, in run\n    requirement_set = resolver.resolve(\n                      ^^^^^^^^^^^^^^^^^\n  File \"/usr/lib/python3/dist-packages/pip/_internal/resolution/resolvelib/resolver.py\", line 94, in resolve\n    result = self._result = resolver.resolve(\n                            ^^^^^^^^^^^^^^^^^\n  File \"/usr/lib/python3/dist-packages/pip/_vendor/resolvelib/resolvers.py\", line 481, in resolve\n    state = resolution.resolve(requirements, max_rounds=max_rounds)\n            ^^^^^^^^^^^^^^^^^^^^^^^^^^^^^^^^^^^^^^^^^^^^^^^^^^^^^^^\n  File \"/usr/lib/python3/dist-packages/pip/_vendor/resolvelib/resolvers.py\", line 373, in resolve\n    failure_causes = self._attempt_to_pin_criterion(name)\n                     ^^^^^^^^^^^^^^^^^^^^^^^^^^^^^^^^^^^^\n  File \"/usr/lib/python3/dist-packages/pip/_vendor/resolvelib/resolvers.py\", line 213, in _attempt_to_pin_criterion\n    criteria = self._get_updated_criteria(candidate)\n               ^^^^^^^^^^^^^^^^^^^^^^^^^^^^^^^^^^^^^\n  File \"/usr/lib/python3/dist-packages/pip/_vendor/resolvelib/resolvers.py\", line 204, in _get_updated_criteria\n    self._add_to_criteria(criteria, requirement, parent=candidate)\n  File \"/usr/lib/python3/dist-packages/pip/_vendor/resolvelib/resolvers.py\", line 172, in _add_to_criteria\n    if not criterion.candidates:\n  File \"/usr/lib/python3/dist-packages/pip/_vendor/resolvelib/structs.py\", line 151, in __bool__\n    return bool(self._sequence)\n           ^^^^^^^^^^^^^^^^^^^^\n  File \"/usr/lib/python3/dist-packages/pip/_internal/resolution/resolvelib/found_candidates.py\", line 155, in __bool__\n    return any(self)\n           ^^^^^^^^^\n  File \"/usr/lib/python3/dist-packages/pip/_internal/resolution/resolvelib/found_candidates.py\", line 143, in <genexpr>\n    return (c for c in iterator if id(c) not in self._incompatible_ids)\n           ^^^^^^^^^^^^^^^^^^^^^^^^^^^^^^^^^^^^^^^^^^^^^^^^^^^^^^^^^^^^\n  File \"/usr/lib/python3/dist-packages/pip/_internal/resolution/resolvelib/found_candidates.py\", line 47, in _iter_built\n    candidate = func()\n                ^^^^^^\n  File \"/usr/lib/python3/dist-packages/pip/_internal/resolution/resolvelib/factory.py\", line 215, in _make_candidate_from_link\n    self._link_candidate_cache[link] = LinkCandidate(\n                                       ^^^^^^^^^^^^^^\n  File \"/usr/lib/python3/dist-packages/pip/_internal/resolution/resolvelib/candidates.py\", line 288, in __init__\n    super().__init__(\n  File \"/usr/lib/python3/dist-packages/pip/_internal/resolution/resolvelib/candidates.py\", line 158, in __init__\n    self.dist = self._prepare()\n                ^^^^^^^^^^^^^^^\n  File \"/usr/lib/python3/dist-packages/pip/_internal/resolution/resolvelib/candidates.py\", line 227, in _prepare\n    dist = self._prepare_distribution()\n           ^^^^^^^^^^^^^^^^^^^^^^^^^^^^\n  File \"/usr/lib/python3/dist-packages/pip/_internal/resolution/resolvelib/candidates.py\", line 299, in _prepare_distribution\n    return preparer.prepare_linked_requirement(self._ireq, parallel_builds=True)\n           ^^^^^^^^^^^^^^^^^^^^^^^^^^^^^^^^^^^^^^^^^^^^^^^^^^^^^^^^^^^^^^^^^^^^^\n  File \"/usr/lib/python3/dist-packages/pip/_internal/operations/prepare.py\", line 487, in prepare_linked_requirement\n    return self._prepare_linked_requirement(req, parallel_builds)\n           ^^^^^^^^^^^^^^^^^^^^^^^^^^^^^^^^^^^^^^^^^^^^^^^^^^^^^^\n  File \"/usr/lib/python3/dist-packages/pip/_internal/operations/prepare.py\", line 532, in _prepare_linked_requirement\n    local_file = unpack_url(\n                 ^^^^^^^^^^^\n  File \"/usr/lib/python3/dist-packages/pip/_internal/operations/prepare.py\", line 214, in unpack_url\n    file = get_http_url(\n           ^^^^^^^^^^^^^\n  File \"/usr/lib/python3/dist-packages/pip/_internal/operations/prepare.py\", line 94, in get_http_url\n    from_path, content_type = download(link, temp_dir.path)\n                              ^^^^^^^^^^^^^^^^^^^^^^^^^^^^^\n  File \"/usr/lib/python3/dist-packages/pip/_internal/network/download.py\", line 146, in __call__\n    for chunk in chunks:\n  File \"/usr/lib/python3/dist-packages/pip/_internal/cli/progress_bars.py\", line 304, in _rich_progress_bar\n    for chunk in iterable:\n  File \"/usr/lib/python3/dist-packages/pip/_internal/network/utils.py\", line 63, in response_chunks\n    for chunk in response.raw.stream(\n  File \"/usr/lib/python3/dist-packages/pip/_vendor/urllib3/response.py\", line 576, in stream\n    data = self.read(amt=amt, decode_content=decode_content)\n           ^^^^^^^^^^^^^^^^^^^^^^^^^^^^^^^^^^^^^^^^^^^^^^^^^\n  File \"/usr/lib/python3/dist-packages/pip/_vendor/urllib3/response.py\", line 512, in read\n    with self._error_catcher():\n  File \"/usr/lib/python3.11/contextlib.py\", line 155, in __exit__\n    self.gen.throw(typ, value, traceback)\n  File \"/usr/lib/python3/dist-packages/pip/_vendor/urllib3/response.py\", line 443, in _error_catcher\n    raise ReadTimeoutError(self._pool, None, \"Read timed out.\")\npip._vendor.urllib3.exceptions.ReadTimeoutError: HTTPSConnectionPool(host='files.pythonhosted.org', port=443): Read timed out.\n"
          ]
        },
        {
          "output_type": "error",
          "ename": "CalledProcessError",
          "evalue": "Command '['/usr/bin/python3.11', '-m', 'pip', 'install', '--upgrade-strategy', 'only-if-needed', 'lightgbm', 'xgboost']' returned non-zero exit status 2.",
          "traceback": [
            "\u001b[31m---------------------------------------------------------------------------\u001b[39m",
            "\u001b[31mCalledProcessError\u001b[39m                        Traceback (most recent call last)",
            "\u001b[36mCell\u001b[39m\u001b[36m \u001b[39m\u001b[32mIn[6]\u001b[39m\u001b[32m, line 10\u001b[39m\n\u001b[32m      8\u001b[39m pkgs2 = [\u001b[33m'\u001b[39m\u001b[33minstall\u001b[39m\u001b[33m'\u001b[39m, \u001b[33m'\u001b[39m\u001b[33m--upgrade-strategy\u001b[39m\u001b[33m'\u001b[39m, \u001b[33m'\u001b[39m\u001b[33monly-if-needed\u001b[39m\u001b[33m'\u001b[39m, \u001b[33m'\u001b[39m\u001b[33mlightgbm\u001b[39m\u001b[33m'\u001b[39m, \u001b[33m'\u001b[39m\u001b[33mxgboost\u001b[39m\u001b[33m'\u001b[39m]\n\u001b[32m      9\u001b[39m pip_run(pkgs1)\n\u001b[32m---> \u001b[39m\u001b[32m10\u001b[39m \u001b[43mpip_run\u001b[49m\u001b[43m(\u001b[49m\u001b[43mpkgs2\u001b[49m\u001b[43m)\u001b[49m\n\u001b[32m     11\u001b[39m \u001b[38;5;28mprint\u001b[39m(\u001b[33m'\u001b[39m\u001b[33mInstalled huggingface_hub, safetensors, lightgbm, xgboost\u001b[39m\u001b[33m'\u001b[39m)\n",
            "\u001b[36mCell\u001b[39m\u001b[36m \u001b[39m\u001b[32mIn[6]\u001b[39m\u001b[32m, line 5\u001b[39m, in \u001b[36mpip_run\u001b[39m\u001b[34m(args)\u001b[39m\n\u001b[32m      3\u001b[39m \u001b[38;5;28;01mdef\u001b[39;00m\u001b[38;5;250m \u001b[39m\u001b[34mpip_run\u001b[39m(args):\n\u001b[32m      4\u001b[39m     \u001b[38;5;28mprint\u001b[39m(\u001b[33mf\u001b[39m\u001b[33m\"\u001b[39m\u001b[33m[pip] \u001b[39m\u001b[38;5;132;01m{\u001b[39;00m\u001b[33m'\u001b[39m\u001b[33m \u001b[39m\u001b[33m'\u001b[39m.join(args)\u001b[38;5;132;01m}\u001b[39;00m\u001b[33m\"\u001b[39m, flush=\u001b[38;5;28;01mTrue\u001b[39;00m)\n\u001b[32m----> \u001b[39m\u001b[32m5\u001b[39m     \u001b[43msubprocess\u001b[49m\u001b[43m.\u001b[49m\u001b[43mrun\u001b[49m\u001b[43m(\u001b[49m\u001b[43m[\u001b[49m\u001b[43msys\u001b[49m\u001b[43m.\u001b[49m\u001b[43mexecutable\u001b[49m\u001b[43m,\u001b[49m\u001b[43m \u001b[49m\u001b[33;43m'\u001b[39;49m\u001b[33;43m-m\u001b[39;49m\u001b[33;43m'\u001b[39;49m\u001b[43m,\u001b[49m\u001b[43m \u001b[49m\u001b[33;43m'\u001b[39;49m\u001b[33;43mpip\u001b[39;49m\u001b[33;43m'\u001b[39;49m\u001b[43m]\u001b[49m\u001b[43m \u001b[49m\u001b[43m+\u001b[49m\u001b[43m \u001b[49m\u001b[43margs\u001b[49m\u001b[43m,\u001b[49m\u001b[43m \u001b[49m\u001b[43mcheck\u001b[49m\u001b[43m=\u001b[49m\u001b[38;5;28;43;01mTrue\u001b[39;49;00m\u001b[43m)\u001b[49m\n",
            "\u001b[36mFile \u001b[39m\u001b[32m/usr/lib/python3.11/subprocess.py:569\u001b[39m, in \u001b[36mrun\u001b[39m\u001b[34m(input, capture_output, timeout, check, *popenargs, **kwargs)\u001b[39m\n\u001b[32m    567\u001b[39m     retcode = process.poll()\n\u001b[32m    568\u001b[39m     \u001b[38;5;28;01mif\u001b[39;00m check \u001b[38;5;129;01mand\u001b[39;00m retcode:\n\u001b[32m--> \u001b[39m\u001b[32m569\u001b[39m         \u001b[38;5;28;01mraise\u001b[39;00m CalledProcessError(retcode, process.args,\n\u001b[32m    570\u001b[39m                                  output=stdout, stderr=stderr)\n\u001b[32m    571\u001b[39m \u001b[38;5;28;01mreturn\u001b[39;00m CompletedProcess(process.args, retcode, stdout, stderr)\n",
            "\u001b[31mCalledProcessError\u001b[39m: Command '['/usr/bin/python3.11', '-m', 'pip', 'install', '--upgrade-strategy', 'only-if-needed', 'lightgbm', 'xgboost']' returned non-zero exit status 2."
          ]
        }
      ]
    },
    {
      "id": "6bb796a3-852a-44a1-9631-3a5fbfdba94e",
      "cell_type": "code",
      "metadata": {},
      "source": [
        "# CPU fallback: extract 224px frozen embeddings for two timm models\n",
        "import os, time, gc, sys, math, glob\n",
        "import numpy as np, pandas as pd\n",
        "from PIL import Image\n",
        "import torch\n",
        "import timm\n",
        "from torch.utils.data import Dataset, DataLoader\n",
        "from timm.data import resolve_data_config, create_transform\n",
        "\n",
        "torch.set_num_threads(8)\n",
        "\n",
        "class ImageDataset(Dataset):\n",
        "    def __init__(self, ids, folder, transform):\n",
        "        self.ids = ids\n",
        "        self.folder = folder\n",
        "        self.transform = transform\n",
        "    def __len__(self):\n",
        "        return len(self.ids)\n",
        "    def __getitem__(self, idx):\n",
        "        img_id = self.ids[idx]\n",
        "        path = os.path.join(self.folder, f\"{img_id}.jpg\")\n",
        "        img = Image.open(path).convert('RGB')\n",
        "        img = self.transform(img)\n",
        "        return img\n",
        "\n",
        "def extract_embeddings(model_name, img_size=224, batch_size=128, num_workers=8):\n",
        "    t0 = time.time()\n",
        "    print(f\"\\n[Emb] {model_name} @ {img_size}\")\n",
        "    train_df = pd.read_csv('train.csv')\n",
        "    test_df = pd.read_csv('test.csv')\n",
        "    train_ids = train_df['Id'].tolist()\n",
        "    test_ids = test_df['Id'].tolist()\n",
        "\n",
        "    # Model\n",
        "    model = timm.create_model(model_name, pretrained=True, num_classes=0, global_pool='avg')\n",
        "    model.eval()\n",
        "    device = torch.device('cpu')\n",
        "    model.to(device)\n",
        "\n",
        "    # Transforms based on timm config\n",
        "    cfg = resolve_data_config({}, model=model)\n",
        "    cfg['input_size'] = (3, img_size, img_size)\n",
        "    transform = create_transform(**cfg, is_training=False)\n",
        "\n",
        "    # Datasets/DataLoaders\n",
        "    train_ds = ImageDataset(train_ids, 'train', transform)\n",
        "    test_ds = ImageDataset(test_ids, 'test', transform)\n",
        "    train_loader = DataLoader(train_ds, batch_size=batch_size, shuffle=False, num_workers=num_workers, pin_memory=False)\n",
        "    test_loader = DataLoader(test_ds, batch_size=batch_size, shuffle=False, num_workers=num_workers, pin_memory=False)\n",
        "\n",
        "    # Infer embedding dimension\n",
        "    with torch.no_grad():\n",
        "        sample = next(iter(train_loader))[:1].to(device)\n",
        "        emb_dim = model(sample).shape[1]\n",
        "    print(f\"Embedding dim: {emb_dim}\")\n",
        "\n",
        "    def run_loader(loader, n_items):\n",
        "        X = np.zeros((n_items, emb_dim), dtype=np.float32)\n",
        "        i0 = 0\n",
        "        with torch.no_grad():\n",
        "            for i, xb in enumerate(loader):\n",
        "                xb = xb.to(device)\n",
        "                feats = model(xb).cpu().numpy().astype(np.float32)\n",
        "                X[i0:i0+feats.shape[0]] = feats\n",
        "                i0 += feats.shape[0]\n",
        "                if (i+1) % 20 == 0:\n",
        "                    print(f\"  Batches {i+1}/{math.ceil(n_items/loader.batch_size)} | rows {i0}/{n_items} | elapsed {time.time()-t0:.1f}s\", flush=True)\n",
        "        return X\n",
        "\n",
        "    X_tr = run_loader(train_loader, len(train_ds))\n",
        "    X_te = run_loader(test_loader, len(test_ds))\n",
        "\n",
        "    tr_out = f\"X_img_train_{model_name.replace('/', '_')}_{img_size}.npy\"\n",
        "    te_out = f\"X_img_test_{model_name.replace('/', '_')}_{img_size}.npy\"\n",
        "    np.save(tr_out, X_tr)\n",
        "    np.save(te_out, X_te)\n",
        "    print(f\"Saved {tr_out} {X_tr.shape}, {te_out} {X_te.shape} | time {time.time()-t0:.1f}s\")\n",
        "    del model, X_tr, X_te, train_loader, test_loader, train_ds, test_ds\n",
        "    gc.collect()\n",
        "\n",
        "models = [\n",
        "    ('tf_efficientnet_b0', 224),\n",
        "    ('swin_tiny_patch4_window7_224', 224),\n",
        "]\n",
        "\n",
        "for name, sz in models:\n",
        "    extract_embeddings(name, img_size=sz, batch_size=128, num_workers=8)\n",
        "print('Embeddings extraction complete.')"
      ],
      "execution_count": 7,
      "outputs": [
        {
          "output_type": "stream",
          "name": "stderr",
          "text": [
            "/app/.pip-target/tqdm/auto.py:21: TqdmWarning: IProgress not found. Please update jupyter and ipywidgets. See https://ipywidgets.readthedocs.io/en/stable/user_install.html\n  from .autonotebook import tqdm as notebook_tqdm\n"
          ]
        },
        {
          "output_type": "stream",
          "name": "stdout",
          "text": [
            "\n[Emb] tf_efficientnet_b0 @ 224\n"
          ]
        },
        {
          "output_type": "stream",
          "name": "stdout",
          "text": [
            "Embedding dim: 1280\n"
          ]
        },
        {
          "output_type": "stream",
          "name": "stdout",
          "text": [
            "  Batches 20/70 | rows 2560/8920 | elapsed 19.2s\n"
          ]
        },
        {
          "output_type": "stream",
          "name": "stdout",
          "text": [
            "  Batches 40/70 | rows 5120/8920 | elapsed 34.0s\n"
          ]
        },
        {
          "output_type": "stream",
          "name": "stdout",
          "text": [
            "  Batches 60/70 | rows 7680/8920 | elapsed 48.5s\n"
          ]
        },
        {
          "output_type": "stream",
          "name": "stdout",
          "text": [
            "Saved X_img_train_tf_efficientnet_b0_224.npy (8920, 1280), X_img_test_tf_efficientnet_b0_224.npy (992, 1280) | time 62.3s\n\n[Emb] swin_tiny_patch4_window7_224 @ 224\n"
          ]
        },
        {
          "output_type": "stream",
          "name": "stdout",
          "text": [
            "Embedding dim: 768\n"
          ]
        },
        {
          "output_type": "stream",
          "name": "stdout",
          "text": [
            "  Batches 20/70 | rows 2560/8920 | elapsed 54.0s\n"
          ]
        },
        {
          "output_type": "stream",
          "name": "stdout",
          "text": [
            "  Batches 40/70 | rows 5120/8920 | elapsed 105.1s\n"
          ]
        },
        {
          "output_type": "stream",
          "name": "stdout",
          "text": [
            "  Batches 60/70 | rows 7680/8920 | elapsed 155.9s\n"
          ]
        },
        {
          "output_type": "stream",
          "name": "stdout",
          "text": [
            "Saved X_img_train_swin_tiny_patch4_window7_224_224.npy (8920, 768), X_img_test_swin_tiny_patch4_window7_224_224.npy (992, 768) | time 201.3s\nEmbeddings extraction complete.\n"
          ]
        }
      ]
    },
    {
      "id": "816c3367-7264-4892-a4cf-8e41cdb34b98",
      "cell_type": "code",
      "metadata": {},
      "source": [
        "# CPU fallback: build metadata + simple image stats and save aligned arrays\n",
        "import os, time, cv2, numpy as np, pandas as pd\n",
        "\n",
        "def compute_img_stats(img_path):\n",
        "    img = cv2.imread(img_path, cv2.IMREAD_COLOR)\n",
        "    if img is None:\n",
        "        return [0,0,0.0, 0.0,0.0,0.0, 0.0,0.0,0.0]\n",
        "    h, w = img.shape[:2]\n",
        "    aspect = (w / max(h,1)) if h>0 else 0.0\n",
        "    # per-channel means/std in BGR\n",
        "    ch_means = img.reshape(-1,3).mean(axis=0).tolist()\n",
        "    ch_stds = img.reshape(-1,3).std(axis=0).tolist()\n",
        "    # blur metric: Laplacian variance (grayscale)\n",
        "    gray = cv2.cvtColor(img, cv2.COLOR_BGR2GRAY)\n",
        "    lap = cv2.Laplacian(gray, cv2.CV_64F)\n",
        "    lap_var = float(lap.var())\n",
        "    return [w, h, aspect] + ch_means + ch_stds + [lap_var]\n",
        "\n",
        "t0 = time.time()\n",
        "train_df = pd.read_csv('train.csv')\n",
        "test_df = pd.read_csv('test.csv')\n",
        "\n",
        "meta_cols = ['Subject Focus','Eyes','Face','Near','Action','Accessory','Group','Collage','Human','Occlusion','Info','Blur']\n",
        "assert all(c in train_df.columns for c in meta_cols), 'Meta columns missing'\n",
        "\n",
        "def build_features(df, folder):\n",
        "    ids = df['Id'].tolist()\n",
        "    X_meta = df[meta_cols].astype(np.float32).values\n",
        "    stats = []\n",
        "    for i, id_ in enumerate(ids):\n",
        "        if (i+1) % 1000 == 0:\n",
        "            print(f'  Stats {i+1}/{len(ids)} ...', flush=True)\n",
        "        stats.append(compute_img_stats(os.path.join(folder, f'{id_}.jpg')))\n",
        "    X_stats = np.asarray(stats, dtype=np.float32)\n",
        "    X = np.concatenate([X_meta, X_stats], axis=1)\n",
        "    return ids, X\n",
        "\n",
        "print('Building train features...')\n",
        "tr_ids, X_tr = build_features(train_df, 'train')\n",
        "print('Building test features...')\n",
        "te_ids, X_te = build_features(test_df, 'test')\n",
        "\n",
        "np.save('X_meta_stats_train.npy', X_tr)\n",
        "np.save('X_meta_stats_test.npy', X_te)\n",
        "pd.Series(tr_ids, name='Id').to_csv('ids_train_order.csv', index=False)\n",
        "pd.Series(te_ids, name='Id').to_csv('ids_test_order.csv', index=False)\n",
        "print('Saved X_meta_stats_train.npy', X_tr.shape, '| X_meta_stats_test.npy', X_te.shape)\n",
        "print(f'Done in {time.time()-t0:.1f}s')"
      ],
      "execution_count": 8,
      "outputs": [
        {
          "output_type": "stream",
          "name": "stdout",
          "text": [
            "Building train features...\n"
          ]
        },
        {
          "output_type": "stream",
          "name": "stdout",
          "text": [
            "  Stats 1000/8920 ...\n"
          ]
        },
        {
          "output_type": "stream",
          "name": "stdout",
          "text": [
            "  Stats 2000/8920 ...\n"
          ]
        },
        {
          "output_type": "stream",
          "name": "stdout",
          "text": [
            "  Stats 3000/8920 ...\n"
          ]
        },
        {
          "output_type": "stream",
          "name": "stdout",
          "text": [
            "  Stats 4000/8920 ...\n"
          ]
        },
        {
          "output_type": "stream",
          "name": "stdout",
          "text": [
            "  Stats 5000/8920 ...\n"
          ]
        },
        {
          "output_type": "stream",
          "name": "stdout",
          "text": [
            "  Stats 6000/8920 ...\n"
          ]
        },
        {
          "output_type": "stream",
          "name": "stdout",
          "text": [
            "  Stats 7000/8920 ...\n"
          ]
        },
        {
          "output_type": "stream",
          "name": "stdout",
          "text": [
            "  Stats 8000/8920 ...\n"
          ]
        },
        {
          "output_type": "stream",
          "name": "stdout",
          "text": [
            "Building test features...\n"
          ]
        },
        {
          "output_type": "stream",
          "name": "stdout",
          "text": [
            "Saved X_meta_stats_train.npy (8920, 22) | X_meta_stats_test.npy (992, 22)\nDone in 781.4s\n"
          ]
        }
      ]
    },
    {
      "id": "5a971291-c905-429b-b51e-1d8085622c80",
      "cell_type": "code",
      "metadata": {},
      "source": [
        "# CPU fallback: 5-fold CV training on embeddings + meta-stats; blend and create submission\n",
        "import os, glob, time, math, json\n",
        "import numpy as np, pandas as pd\n",
        "from sklearn.metrics import mean_squared_error\n",
        "from sklearn.model_selection import KFold\n",
        "from sklearn.preprocessing import StandardScaler\n",
        "from sklearn.linear_model import RidgeCV\n",
        "\n",
        "def rmse(y_true, y_pred):\n",
        "    y_true = np.asarray(y_true, dtype=float)\n",
        "    y_pred = np.asarray(y_pred, dtype=float)\n",
        "    return float(np.sqrt(np.mean((y_true - y_pred) ** 2)))\n",
        "\n",
        "def load_feature_set(name):\n",
        "    if name == 'meta_stats':\n",
        "        X_tr = np.load('X_meta_stats_train.npy') if os.path.exists('X_meta_stats_train.npy') else None\n",
        "        X_te = np.load('X_meta_stats_test.npy') if os.path.exists('X_meta_stats_test.npy') else None\n",
        "        return X_tr, X_te\n",
        "    elif name.startswith('emb:'):\n",
        "        tag = name.split(':',1)[1]\n",
        "        tr_path = f\"X_img_train_{tag}.npy\"\n",
        "        te_path = f\"X_img_test_{tag}.npy\"\n",
        "        X_tr = np.load(tr_path) if os.path.exists(tr_path) else None\n",
        "        X_te = np.load(te_path) if os.path.exists(te_path) else None\n",
        "        return X_tr, X_te\n",
        "    else:\n",
        "        return None, None\n",
        "\n",
        "def discover_embeddings():\n",
        "    feats = []\n",
        "    for tr_path in sorted(glob.glob('X_img_train_*.npy')):\n",
        "        tag = tr_path[len('X_img_train_'):-len('.npy')]\n",
        "        te_path = f\"X_img_test_{tag}.npy\"\n",
        "        if os.path.exists(te_path):\n",
        "            feats.append(f\"emb:{tag}\")\n",
        "    return feats\n",
        "\n",
        "# Try importing boosted trees; fallback to sklearn if unavailable\n",
        "lgbm_ok = False; xgb_ok = False\n",
        "try:\n",
        "    import lightgbm as lgb\n",
        "    lgbm_ok = True\n",
        "except Exception as e:\n",
        "    print('LightGBM not available:', e)\n",
        "try:\n",
        "    from xgboost import XGBRegressor\n",
        "    xgb_ok = True\n",
        "except Exception as e:\n",
        "    print('XGBoost not available:', e)\n",
        "\n",
        "train_df = pd.read_csv('train.csv')\n",
        "test_df = pd.read_csv('test.csv')\n",
        "folds_df = pd.read_csv('folds.csv')\n",
        "id2fold = dict(zip(folds_df['Id'], folds_df['fold']))\n",
        "train_df['fold'] = train_df['Id'].map(id2fold)\n",
        "y = train_df['Pawpularity'].values.astype(float)\n",
        "\n",
        "# Gather feature sets available\n",
        "feature_sets = []\n",
        "if os.path.exists('X_meta_stats_train.npy') and os.path.exists('X_meta_stats_test.npy'):\n",
        "    feature_sets.append('meta_stats')\n",
        "feature_sets += discover_embeddings()\n",
        "print('Feature sets found:', feature_sets)\n",
        "assert len(feature_sets) > 0, 'No feature sets found yet. Run extraction cells first.'\n",
        "\n",
        "results = {}\n",
        "oof_blend = np.zeros(len(train_df), dtype=float)\n",
        "test_preds_for_blend = []\n",
        "weights = []\n",
        "\n",
        "for fs in feature_sets:\n",
        "    X_tr, X_te = load_feature_set(fs)\n",
        "    if X_tr is None or X_te is None:\n",
        "        print(f'Skipping {fs}: files missing')\n",
        "        continue\n",
        "    print(f'Feature set {fs}: train {X_tr.shape}, test {X_te.shape}')\n",
        "\n",
        "    oof = np.zeros(len(train_df), dtype=float)\n",
        "    te_pred_accum = np.zeros(len(test_df), dtype=float)\n",
        "    fold_rmses = []\n",
        "\n",
        "    for fold in range(5):\n",
        "        tr_idx = np.where(train_df['fold'].values != fold)[0]\n",
        "        va_idx = np.where(train_df['fold'].values == fold)[0]\n",
        "        X_tr_fold, y_tr_fold = X_tr[tr_idx], y[tr_idx]\n",
        "        X_va_fold, y_va_fold = X_tr[va_idx], y[va_idx]\n",
        "\n",
        "        model_name = None\n",
        "        if lgbm_ok:\n",
        "            model_name = 'lgbm'\n",
        "            dtrain = lgb.Dataset(X_tr_fold, label=y_tr_fold)\n",
        "            dvalid = lgb.Dataset(X_va_fold, label=y_va_fold)\n",
        "            params = dict(objective='regression', metric='rmse', learning_rate=0.03,\n",
        "                          num_leaves=64, min_data_in_leaf=20, feature_fraction=0.8,\n",
        "                          bagging_fraction=0.8, bagging_freq=1, verbosity=-1)\n",
        "            gbm = lgb.train(params, dtrain, num_boost_round=5000, valid_sets=[dvalid],\n",
        "                            valid_names=['valid'], callbacks=[lgb.early_stopping(200), lgb.log_evaluation(100)])\n",
        "            va_pred = gbm.predict(X_va_fold, num_iteration=gbm.best_iteration)\n",
        "            te_pred = gbm.predict(X_te, num_iteration=gbm.best_iteration)\n",
        "        elif xgb_ok:\n",
        "            model_name = 'xgb'\n",
        "            xgb = XGBRegressor(n_estimators=5000, learning_rate=0.03, max_depth=7, subsample=0.8, colsample_bytree=0.8,\n",
        "                               reg_alpha=0.0, reg_lambda=1.0, tree_method='hist', random_state=42)\n",
        "            xgb.fit(X_tr_fold, y_tr_fold,\n",
        "                    eval_set=[(X_va_fold, y_va_fold)], eval_metric='rmse', verbose=100,\n",
        "                    callbacks=[])\n",
        "            va_pred = xgb.predict(X_va_fold)\n",
        "            te_pred = xgb.predict(X_te)\n",
        "        else:\n",
        "            model_name = 'ridge'\n",
        "            scaler = StandardScaler(with_mean=True, with_std=True)\n",
        "            X_tr_s = scaler.fit_transform(X_tr_fold)\n",
        "            X_va_s = scaler.transform(X_va_fold)\n",
        "            X_te_s = scaler.transform(X_te)\n",
        "            ridge = RidgeCV(alphas=[0.1, 0.3, 1.0, 3.0, 10.0], cv=5, scoring='neg_root_mean_squared_error')\n",
        "            ridge.fit(X_tr_s, y_tr_fold)\n",
        "            va_pred = ridge.predict(X_va_s)\n",
        "            te_pred = ridge.predict(X_te_s)\n",
        "\n",
        "        oof[va_idx] = va_pred\n",
        "        fold_rmse = rmse(y_va_fold, va_pred)\n",
        "        fold_rmses.append(fold_rmse)\n",
        "        te_pred_accum += te_pred\n",
        "        print(f'  {fs} fold {fold} [{model_name}] RMSE: {fold_rmse:.4f}')\n",
        "\n",
        "    te_pred_mean = te_pred_accum / 5.0\n",
        "    fs_oof_rmse = rmse(y, oof)\n",
        "    results[fs] = {'oof_rmse': fs_oof_rmse, 'fold_rmses': fold_rmses}\n",
        "    np.save(f'oof_{fs}.npy', oof)\n",
        "    np.save(f'test_pred_{fs}.npy', te_pred_mean)\n",
        "    print(f'{fs} OOF RMSE: {fs_oof_rmse:.5f}')\n",
        "\n",
        "    test_preds_for_blend.append(te_pred_mean)\n",
        "    # inverse-variance style weight; avoid div by zero\n",
        "    w = 1.0 / max(fs_oof_rmse**2, 1e-6)\n",
        "    weights.append(w)\n",
        "\n",
        "# Blend available models\n",
        "if len(test_preds_for_blend) == 0:\n",
        "    raise RuntimeError('No successful models to blend.')\n",
        "weights = np.array(weights, dtype=float)\n",
        "weights = weights / weights.sum()\n",
        "print('Blend weights:', {fs: float(w) for fs, w in zip(results.keys(), weights)})\n",
        "stacked = np.vstack(test_preds_for_blend)\n",
        "blend_test = (weights.reshape(-1,1) * stacked).sum(axis=0)\n",
        "\n",
        "# Clip predictions and save submission\n",
        "blend_test = np.clip(blend_test, 1.0, 100.0)\n",
        "sub = pd.DataFrame({'Id': test_df['Id'], 'Pawpularity': blend_test})\n",
        "sub.to_csv('submission.csv', index=False)\n",
        "print('Saved submission.csv. Head:')\n",
        "print(sub.head())\n",
        "print('Results summary:', json.dumps(results, indent=2))"
      ],
      "execution_count": 10,
      "outputs": [
        {
          "output_type": "stream",
          "name": "stdout",
          "text": [
            "Feature sets found: ['meta_stats', 'emb:swin_tiny_patch4_window7_224_224', 'emb:tf_efficientnet_b0_224']\nFeature set meta_stats: train (8920, 22), test (992, 22)\nTraining until validation scores don't improve for 200 rounds\n[100]\tvalid's rmse: 20.4865\n"
          ]
        },
        {
          "output_type": "stream",
          "name": "stdout",
          "text": [
            "[200]\tvalid's rmse: 20.6486\nEarly stopping, best iteration is:\n[62]\tvalid's rmse: 20.4324\n  meta_stats fold 0 [lgbm] RMSE: 20.4324\nTraining until validation scores don't improve for 200 rounds\n"
          ]
        },
        {
          "output_type": "stream",
          "name": "stdout",
          "text": [
            "[100]\tvalid's rmse: 20.842\n[200]\tvalid's rmse: 21.1366\nEarly stopping, best iteration is:\n[5]\tvalid's rmse: 20.6156\n  meta_stats fold 1 [lgbm] RMSE: 20.6156\nTraining until validation scores don't improve for 200 rounds\n"
          ]
        },
        {
          "output_type": "stream",
          "name": "stdout",
          "text": [
            "[100]\tvalid's rmse: 20.8778\n[200]\tvalid's rmse: 21.0774\n"
          ]
        },
        {
          "output_type": "stream",
          "name": "stdout",
          "text": [
            "Early stopping, best iteration is:\n[16]\tvalid's rmse: 20.695\n  meta_stats fold 2 [lgbm] RMSE: 20.6950\nTraining until validation scores don't improve for 200 rounds\n[100]\tvalid's rmse: 20.7922\n"
          ]
        },
        {
          "output_type": "stream",
          "name": "stdout",
          "text": [
            "[200]\tvalid's rmse: 20.9894\nEarly stopping, best iteration is:\n[32]\tvalid's rmse: 20.6158\n  meta_stats fold 3 [lgbm] RMSE: 20.6158\nTraining until validation scores don't improve for 200 rounds\n"
          ]
        },
        {
          "output_type": "stream",
          "name": "stdout",
          "text": [
            "[100]\tvalid's rmse: 20.8897\n[200]\tvalid's rmse: 21.0811\nEarly stopping, best iteration is:\n[13]\tvalid's rmse: 20.6591\n  meta_stats fold 4 [lgbm] RMSE: 20.6591\nmeta_stats OOF RMSE: 20.60378\nFeature set emb:swin_tiny_patch4_window7_224_224: train (8920, 768), test (992, 768)\n"
          ]
        },
        {
          "output_type": "stream",
          "name": "stdout",
          "text": [
            "Training until validation scores don't improve for 200 rounds\n"
          ]
        },
        {
          "output_type": "stream",
          "name": "stdout",
          "text": [
            "[100]\tvalid's rmse: 17.8075\n"
          ]
        },
        {
          "output_type": "stream",
          "name": "stdout",
          "text": [
            "[200]\tvalid's rmse: 17.6133\n"
          ]
        },
        {
          "output_type": "stream",
          "name": "stdout",
          "text": [
            "[300]\tvalid's rmse: 17.6113\n"
          ]
        },
        {
          "output_type": "stream",
          "name": "stdout",
          "text": [
            "[400]\tvalid's rmse: 17.6335\n"
          ]
        },
        {
          "output_type": "stream",
          "name": "stdout",
          "text": [
            "Early stopping, best iteration is:\n[238]\tvalid's rmse: 17.5942\n  emb:swin_tiny_patch4_window7_224_224 fold 0 [lgbm] RMSE: 17.5942\n"
          ]
        },
        {
          "output_type": "stream",
          "name": "stdout",
          "text": [
            "Training until validation scores don't improve for 200 rounds\n"
          ]
        },
        {
          "output_type": "stream",
          "name": "stdout",
          "text": [
            "[100]\tvalid's rmse: 18.5057\n"
          ]
        },
        {
          "output_type": "stream",
          "name": "stdout",
          "text": [
            "[200]\tvalid's rmse: 18.4667\n"
          ]
        },
        {
          "output_type": "stream",
          "name": "stdout",
          "text": [
            "[300]\tvalid's rmse: 18.4493\n"
          ]
        },
        {
          "output_type": "stream",
          "name": "stdout",
          "text": [
            "[400]\tvalid's rmse: 18.4496\n"
          ]
        },
        {
          "output_type": "stream",
          "name": "stdout",
          "text": [
            "Early stopping, best iteration is:\n[273]\tvalid's rmse: 18.4447\n  emb:swin_tiny_patch4_window7_224_224 fold 1 [lgbm] RMSE: 18.4447\n"
          ]
        },
        {
          "output_type": "stream",
          "name": "stdout",
          "text": [
            "Training until validation scores don't improve for 200 rounds\n"
          ]
        },
        {
          "output_type": "stream",
          "name": "stdout",
          "text": [
            "[100]\tvalid's rmse: 18.5767\n"
          ]
        },
        {
          "output_type": "stream",
          "name": "stdout",
          "text": [
            "[200]\tvalid's rmse: 18.4363\n"
          ]
        },
        {
          "output_type": "stream",
          "name": "stdout",
          "text": [
            "[300]\tvalid's rmse: 18.4152\n"
          ]
        },
        {
          "output_type": "stream",
          "name": "stdout",
          "text": [
            "[400]\tvalid's rmse: 18.4215\n"
          ]
        },
        {
          "output_type": "stream",
          "name": "stdout",
          "text": [
            "[500]\tvalid's rmse: 18.4099\n"
          ]
        },
        {
          "output_type": "stream",
          "name": "stdout",
          "text": [
            "[600]\tvalid's rmse: 18.4084\n"
          ]
        },
        {
          "output_type": "stream",
          "name": "stdout",
          "text": [
            "Early stopping, best iteration is:\n[474]\tvalid's rmse: 18.4051\n  emb:swin_tiny_patch4_window7_224_224 fold 2 [lgbm] RMSE: 18.4051\n"
          ]
        },
        {
          "output_type": "stream",
          "name": "stdout",
          "text": [
            "Training until validation scores don't improve for 200 rounds\n"
          ]
        },
        {
          "output_type": "stream",
          "name": "stdout",
          "text": [
            "[100]\tvalid's rmse: 18.3535\n"
          ]
        },
        {
          "output_type": "stream",
          "name": "stdout",
          "text": [
            "[200]\tvalid's rmse: 18.2623\n"
          ]
        },
        {
          "output_type": "stream",
          "name": "stdout",
          "text": [
            "[300]\tvalid's rmse: 18.2307\n"
          ]
        },
        {
          "output_type": "stream",
          "name": "stdout",
          "text": [
            "[400]\tvalid's rmse: 18.2382\n"
          ]
        },
        {
          "output_type": "stream",
          "name": "stdout",
          "text": [
            "[500]\tvalid's rmse: 18.2368\n"
          ]
        },
        {
          "output_type": "stream",
          "name": "stdout",
          "text": [
            "Early stopping, best iteration is:\n[326]\tvalid's rmse: 18.2243\n  emb:swin_tiny_patch4_window7_224_224 fold 3 [lgbm] RMSE: 18.2243\n"
          ]
        },
        {
          "output_type": "stream",
          "name": "stdout",
          "text": [
            "Training until validation scores don't improve for 200 rounds\n"
          ]
        },
        {
          "output_type": "stream",
          "name": "stdout",
          "text": [
            "[100]\tvalid's rmse: 18.7809\n"
          ]
        },
        {
          "output_type": "stream",
          "name": "stdout",
          "text": [
            "[200]\tvalid's rmse: 18.642\n"
          ]
        },
        {
          "output_type": "stream",
          "name": "stdout",
          "text": [
            "[300]\tvalid's rmse: 18.6101\n"
          ]
        },
        {
          "output_type": "stream",
          "name": "stdout",
          "text": [
            "[400]\tvalid's rmse: 18.5916\n"
          ]
        },
        {
          "output_type": "stream",
          "name": "stdout",
          "text": [
            "[500]\tvalid's rmse: 18.5965\n"
          ]
        },
        {
          "output_type": "stream",
          "name": "stdout",
          "text": [
            "[600]\tvalid's rmse: 18.5969\nEarly stopping, best iteration is:\n[410]\tvalid's rmse: 18.5834\n  emb:swin_tiny_patch4_window7_224_224 fold 4 [lgbm] RMSE: 18.5834\nemb:swin_tiny_patch4_window7_224_224 OOF RMSE: 18.25365\nFeature set emb:tf_efficientnet_b0_224: train (8920, 1280), test (992, 1280)\n"
          ]
        },
        {
          "output_type": "stream",
          "name": "stdout",
          "text": [
            "Training until validation scores don't improve for 200 rounds\n"
          ]
        },
        {
          "output_type": "stream",
          "name": "stdout",
          "text": [
            "[100]\tvalid's rmse: 17.5537\n"
          ]
        },
        {
          "output_type": "stream",
          "name": "stdout",
          "text": [
            "[200]\tvalid's rmse: 17.5098\n"
          ]
        },
        {
          "output_type": "stream",
          "name": "stdout",
          "text": [
            "[300]\tvalid's rmse: 17.5496\n"
          ]
        },
        {
          "output_type": "stream",
          "name": "stdout",
          "text": [
            "Early stopping, best iteration is:\n[183]\tvalid's rmse: 17.4973\n  emb:tf_efficientnet_b0_224 fold 0 [lgbm] RMSE: 17.4973\n"
          ]
        },
        {
          "output_type": "stream",
          "name": "stdout",
          "text": [
            "Training until validation scores don't improve for 200 rounds\n"
          ]
        },
        {
          "output_type": "stream",
          "name": "stdout",
          "text": [
            "[100]\tvalid's rmse: 18.1929\n"
          ]
        },
        {
          "output_type": "stream",
          "name": "stdout",
          "text": [
            "[200]\tvalid's rmse: 18.1584\n"
          ]
        },
        {
          "output_type": "stream",
          "name": "stdout",
          "text": [
            "[300]\tvalid's rmse: 18.1706\n"
          ]
        },
        {
          "output_type": "stream",
          "name": "stdout",
          "text": [
            "Early stopping, best iteration is:\n[156]\tvalid's rmse: 18.1494\n  emb:tf_efficientnet_b0_224 fold 1 [lgbm] RMSE: 18.1494\n"
          ]
        },
        {
          "output_type": "stream",
          "name": "stdout",
          "text": [
            "Training until validation scores don't improve for 200 rounds\n"
          ]
        },
        {
          "output_type": "stream",
          "name": "stdout",
          "text": [
            "[100]\tvalid's rmse: 18.4794\n"
          ]
        },
        {
          "output_type": "stream",
          "name": "stdout",
          "text": [
            "[200]\tvalid's rmse: 18.4558\n"
          ]
        },
        {
          "output_type": "stream",
          "name": "stdout",
          "text": [
            "[300]\tvalid's rmse: 18.4649\n"
          ]
        },
        {
          "output_type": "stream",
          "name": "stdout",
          "text": [
            "Early stopping, best iteration is:\n[129]\tvalid's rmse: 18.4391\n  emb:tf_efficientnet_b0_224 fold 2 [lgbm] RMSE: 18.4391\n"
          ]
        },
        {
          "output_type": "stream",
          "name": "stdout",
          "text": [
            "Training until validation scores don't improve for 200 rounds\n"
          ]
        },
        {
          "output_type": "stream",
          "name": "stdout",
          "text": [
            "[100]\tvalid's rmse: 18.0803\n"
          ]
        },
        {
          "output_type": "stream",
          "name": "stdout",
          "text": [
            "[200]\tvalid's rmse: 18.0345\n"
          ]
        },
        {
          "output_type": "stream",
          "name": "stdout",
          "text": [
            "[300]\tvalid's rmse: 18.0611\n"
          ]
        },
        {
          "output_type": "stream",
          "name": "stdout",
          "text": [
            "Early stopping, best iteration is:\n[172]\tvalid's rmse: 18.015\n  emb:tf_efficientnet_b0_224 fold 3 [lgbm] RMSE: 18.0150\n"
          ]
        },
        {
          "output_type": "stream",
          "name": "stdout",
          "text": [
            "Training until validation scores don't improve for 200 rounds\n"
          ]
        },
        {
          "output_type": "stream",
          "name": "stdout",
          "text": [
            "[100]\tvalid's rmse: 18.3521\n"
          ]
        },
        {
          "output_type": "stream",
          "name": "stdout",
          "text": [
            "[200]\tvalid's rmse: 18.31\n"
          ]
        },
        {
          "output_type": "stream",
          "name": "stdout",
          "text": [
            "[300]\tvalid's rmse: 18.3303\n"
          ]
        },
        {
          "output_type": "stream",
          "name": "stdout",
          "text": [
            "Early stopping, best iteration is:\n[145]\tvalid's rmse: 18.298\n  emb:tf_efficientnet_b0_224 fold 4 [lgbm] RMSE: 18.2980\nemb:tf_efficientnet_b0_224 OOF RMSE: 18.08268\nBlend weights: {'meta_stats': 0.27992766980776335, 'emb:swin_tiny_patch4_window7_224_224': 0.3566479893738934, 'emb:tf_efficientnet_b0_224': 0.3634243408183432}\nSaved submission.csv. Head:\n                                 Id  Pawpularity\n0  ee51b99832f1ba868f646df93d2b6b81    49.616345\n1  caddfb3f8bff9c4b95dbe022018eea21    33.025846\n2  582eeabd4a448a53ebb79995888a4b0b    35.647525\n3  afc1ad7f0c5eea880759d09e77f7deee    32.913339\n4  d5bdf3446e86ce4ec67ce7a00f1cccc2    32.701493\nResults summary: {\n  \"meta_stats\": {\n    \"oof_rmse\": 20.603775323132393,\n    \"fold_rmses\": [\n      20.432436381299492,\n      20.61560497149953,\n      20.694954573731803,\n      20.615822958224896,\n      20.65906246566223\n    ]\n  },\n  \"emb:swin_tiny_patch4_window7_224_224\": {\n    \"oof_rmse\": 18.25365466088792,\n    \"fold_rmses\": [\n      17.594214012354314,\n      18.444674518977898,\n      18.405112345471846,\n      18.22432802813926,\n      18.583402945762025\n    ]\n  },\n  \"emb:tf_efficientnet_b0_224\": {\n    \"oof_rmse\": 18.082676557742076,\n    \"fold_rmses\": [\n      17.49732177099159,\n      18.149434458859716,\n      18.439111221091967,\n      18.014991873367272,\n      18.298004325724282\n    ]\n  }\n}\n"
          ]
        }
      ]
    },
    {
      "id": "d01c3557-6529-455b-957e-ad40af53c12f",
      "cell_type": "code",
      "metadata": {},
      "source": [
        "# Extract additional CPU-friendly embeddings (per expert ROI list) incl. OpenCLIP\n",
        "import os, time, gc, math, subprocess, sys\n",
        "import numpy as np, pandas as pd\n",
        "import torch\n",
        "import timm\n",
        "from PIL import Image\n",
        "from torch.utils.data import Dataset, DataLoader\n",
        "from timm.data import resolve_data_config, create_transform\n",
        "\n",
        "torch.set_num_threads(8)\n",
        "\n",
        "def ensure_openclip():\n",
        "    try:\n",
        "        import open_clip  # noqa\n",
        "    except Exception:\n",
        "        print(\"Installing open-clip-torch (no-deps)...\", flush=True)\n",
        "        subprocess.run([sys.executable, '-m', 'pip', 'install', '--no-deps', '--upgrade-strategy', 'only-if-needed', 'open-clip-torch'], check=True)\n",
        "    # ensure runtime deps without touching torch\n",
        "    try:\n",
        "        import ftfy  # noqa\n",
        "    except Exception:\n",
        "        print(\"Installing ftfy...\", flush=True)\n",
        "        subprocess.run([sys.executable, '-m', 'pip', 'install', '--upgrade-strategy', 'only-if-needed', 'ftfy'], check=True)\n",
        "    try:\n",
        "        import regex  # noqa\n",
        "    except Exception:\n",
        "        print(\"Installing regex...\", flush=True)\n",
        "        subprocess.run([sys.executable, '-m', 'pip', 'install', '--upgrade-strategy', 'only-if-needed', 'regex'], check=True)\n",
        "    return True\n",
        "\n",
        "class ImageDataset(Dataset):\n",
        "    def __init__(self, ids, folder, transform):\n",
        "        self.ids = ids\n",
        "        self.folder = folder\n",
        "        self.transform = transform\n",
        "    def __len__(self):\n",
        "        return len(self.ids)\n",
        "    def __getitem__(self, idx):\n",
        "        img_id = self.ids[idx]\n",
        "        path = os.path.join(self.folder, f\"{img_id}.jpg\")\n",
        "        img = Image.open(path).convert('RGB')\n",
        "        img = self.transform(img)\n",
        "        return img\n",
        "\n",
        "def extract_timm_embeddings(model_name, img_size=224, batch_size=128, num_workers=8):\n",
        "    tr_out = f\"X_img_train_{model_name.replace('/', '_')}_{img_size}.npy\"\n",
        "    te_out = f\"X_img_test_{model_name.replace('/', '_')}_{img_size}.npy\"\n",
        "    if os.path.exists(tr_out) and os.path.exists(te_out):\n",
        "        print(f\"[Skip] {model_name} exists: {tr_out}, {te_out}\")\n",
        "        return\n",
        "    t0 = time.time()\n",
        "    print(f\"\\n[Emb] {model_name} @ {img_size}\", flush=True)\n",
        "    train_df = pd.read_csv('train.csv')\n",
        "    test_df = pd.read_csv('test.csv')\n",
        "    train_ids = train_df['Id'].tolist()\n",
        "    test_ids = test_df['Id'].tolist()\n",
        "\n",
        "    model = timm.create_model(model_name, pretrained=True, num_classes=0, global_pool='avg')\n",
        "    model.eval().to('cpu')\n",
        "\n",
        "    cfg = resolve_data_config({}, model=model)\n",
        "    cfg['input_size'] = (3, img_size, img_size)\n",
        "    transform = create_transform(**cfg, is_training=False)\n",
        "\n",
        "    train_ds = ImageDataset(train_ids, 'train', transform)\n",
        "    test_ds = ImageDataset(test_ids, 'test', transform)\n",
        "    train_loader = DataLoader(train_ds, batch_size=batch_size, shuffle=False, num_workers=num_workers, pin_memory=False)\n",
        "    test_loader = DataLoader(test_ds, batch_size=batch_size, shuffle=False, num_workers=num_workers, pin_memory=False)\n",
        "\n",
        "    with torch.no_grad():\n",
        "        sample = next(iter(train_loader))[:1]\n",
        "        emb_dim = model(sample).shape[1]\n",
        "    print(f\"Embedding dim: {emb_dim}\")\n",
        "\n",
        "    def run_loader(loader, n_items):\n",
        "        X = np.zeros((n_items, emb_dim), dtype=np.float32)\n",
        "        i0 = 0\n",
        "        with torch.no_grad():\n",
        "            for i, xb in enumerate(loader):\n",
        "                feats = model(xb).cpu().numpy().astype(np.float32)\n",
        "                X[i0:i0+feats.shape[0]] = feats\n",
        "                i0 += feats.shape[0]\n",
        "                if (i+1) % 20 == 0:\n",
        "                    print(f\"  Batches {i+1}/{math.ceil(n_items/loader.batch_size)} | rows {i0}/{n_items} | elapsed {time.time()-t0:.1f}s\", flush=True)\n",
        "        return X\n",
        "\n",
        "    X_tr = run_loader(train_loader, len(train_ds))\n",
        "    X_te = run_loader(test_loader, len(test_ds))\n",
        "    np.save(tr_out, X_tr); np.save(te_out, X_te)\n",
        "    print(f\"Saved {tr_out} {X_tr.shape}, {te_out} {X_te.shape} | time {time.time()-t0:.1f}s\")\n",
        "    del model, X_tr, X_te, train_loader, test_loader, train_ds, test_ds\n",
        "    gc.collect()\n",
        "\n",
        "def extract_openclip_vitb32(img_size=224, batch_size=128, num_workers=8):\n",
        "    tag = f\"openclip_vit_b32_{img_size}\"\n",
        "    tr_out = f\"X_img_train_{tag}.npy\"\n",
        "    te_out = f\"X_img_test_{tag}.npy\"\n",
        "    if os.path.exists(tr_out) and os.path.exists(te_out):\n",
        "        print(f\"[Skip] OpenCLIP ViT-B/32 exists: {tr_out}, {te_out}\")\n",
        "        return\n",
        "    ensure_openclip()\n",
        "    import open_clip\n",
        "    from torchvision import transforms as T\n",
        "\n",
        "    t0 = time.time()\n",
        "    print(f\"\\n[Emb] OpenCLIP ViT-B/32 @ {img_size}\", flush=True)\n",
        "    model, _, preprocess = open_clip.create_model_and_transforms('ViT-B-32', pretrained='laion2b_s34b_b79k', device='cpu')\n",
        "    model.eval()\n",
        "    preprocess = T.Compose([\n",
        "        T.Resize(img_size, interpolation=T.InterpolationMode.BICUBIC),\n",
        "        T.CenterCrop(img_size),\n",
        "        T.ToTensor(),\n",
        "        T.Normalize(mean=(0.48145466, 0.4578275, 0.40821073), std=(0.26862954, 0.26130258, 0.27577711)),\n",
        "    ])\n",
        "\n",
        "    class OpenClipDS(Dataset):\n",
        "        def __init__(self, ids, folder):\n",
        "            self.ids = ids; self.folder = folder\n",
        "        def __len__(self): return len(self.ids)\n",
        "        def __getitem__(self, idx):\n",
        "            img = Image.open(os.path.join(self.folder, f\"{self.ids[idx]}.jpg\")).convert('RGB')\n",
        "            return preprocess(img)\n",
        "\n",
        "    train_df = pd.read_csv('train.csv'); test_df = pd.read_csv('test.csv')\n",
        "    train_ids = train_df['Id'].tolist(); test_ids = test_df['Id'].tolist()\n",
        "    train_loader = DataLoader(OpenClipDS(train_ids, 'train'), batch_size=batch_size, shuffle=False, num_workers=num_workers)\n",
        "    test_loader = DataLoader(OpenClipDS(test_ids, 'test'), batch_size=batch_size, shuffle=False, num_workers=num_workers)\n",
        "\n",
        "    with torch.no_grad():\n",
        "        sample = next(iter(train_loader))[:1]\n",
        "        feats = model.encode_image(sample)\n",
        "        emb_dim = feats.shape[1]\n",
        "    print(f\"Embedding dim: {emb_dim}\")\n",
        "\n",
        "    def run_loader(loader, n_items):\n",
        "        X = np.zeros((n_items, emb_dim), dtype=np.float32)\n",
        "        i0 = 0\n",
        "        with torch.no_grad():\n",
        "            for i, xb in enumerate(loader):\n",
        "                feats = model.encode_image(xb).float().cpu().numpy().astype(np.float32)\n",
        "                X[i0:i0+feats.shape[0]] = feats\n",
        "                i0 += feats.shape[0]\n",
        "                if (i+1) % 20 == 0:\n",
        "                    print(f\"  Batches {i+1}/{math.ceil(n_items/loader.batch_size)} | rows {i0}/{n_items} | elapsed {time.time()-t0:.1f}s\", flush=True)\n",
        "        return X\n",
        "\n",
        "    X_tr = run_loader(train_loader, len(train_ids))\n",
        "    X_te = run_loader(test_loader, len(test_ids))\n",
        "    np.save(tr_out, X_tr); np.save(te_out, X_te)\n",
        "    print(f\"Saved {tr_out} {X_tr.shape}, {te_out} {X_te.shape} | time {time.time()-t0:.1f}s\")\n",
        "    del model, X_tr, X_te, train_loader, test_loader\n",
        "    gc.collect()\n",
        "\n",
        "# Queue models (fast ROI on CPU)\n",
        "models = [\n",
        "    ('convnext_tiny_in22k', 224),\n",
        "    ('tf_efficientnetv2_s_in21k', 224),\n",
        "    ('swin_small_patch4_window7_224', 224),\n",
        "    ('vit_base_patch16_224', 224),\n",
        "    ('deit3_small_patch16_224', 224),\n",
        "]\n",
        "\n",
        "for name, sz in models:\n",
        "    try:\n",
        "        extract_timm_embeddings(name, img_size=sz, batch_size=128, num_workers=8)\n",
        "    except Exception as e:\n",
        "        print(f\"[Warn] Failed {name}: {e}\")\n",
        "\n",
        "# OpenCLIP ViT-B/32\n",
        "try:\n",
        "    extract_openclip_vitb32(img_size=224, batch_size=128, num_workers=8)\n",
        "except Exception as e:\n",
        "    print(f\"[Warn] Failed OpenCLIP ViT-B/32: {e}\")\n",
        "print('Additional embeddings extraction done.')"
      ],
      "execution_count": 16,
      "outputs": [
        {
          "output_type": "stream",
          "name": "stdout",
          "text": [
            "[Skip] convnext_tiny_in22k exists: X_img_train_convnext_tiny_in22k_224.npy, X_img_test_convnext_tiny_in22k_224.npy\n[Skip] tf_efficientnetv2_s_in21k exists: X_img_train_tf_efficientnetv2_s_in21k_224.npy, X_img_test_tf_efficientnetv2_s_in21k_224.npy\n[Skip] swin_small_patch4_window7_224 exists: X_img_train_swin_small_patch4_window7_224_224.npy, X_img_test_swin_small_patch4_window7_224_224.npy\n[Skip] vit_base_patch16_224 exists: X_img_train_vit_base_patch16_224_224.npy, X_img_test_vit_base_patch16_224_224.npy\n[Skip] deit3_small_patch16_224 exists: X_img_train_deit3_small_patch16_224_224.npy, X_img_test_deit3_small_patch16_224_224.npy\nInstalling open-clip-torch (no-deps)...\n"
          ]
        },
        {
          "output_type": "stream",
          "name": "stdout",
          "text": [
            "Collecting open-clip-torch\n  Downloading open_clip_torch-3.2.0-py3-none-any.whl (1.5 MB)\n     \u2501\u2501\u2501\u2501\u2501\u2501\u2501\u2501\u2501\u2501\u2501\u2501\u2501\u2501\u2501\u2501\u2501\u2501\u2501\u2501\u2501\u2501\u2501\u2501\u2501\u2501\u2501\u2501\u2501\u2501\u2501\u2501\u2501\u2501\u2501\u2501\u2501\u2501\u2501\u2501 1.5/1.5 MB 42.0 MB/s eta 0:00:00\nInstalling collected packages: open-clip-torch\nSuccessfully installed open-clip-torch-3.2.0\nInstalling ftfy...\n"
          ]
        },
        {
          "output_type": "stream",
          "name": "stderr",
          "text": [
            "WARNING: Target directory /app/.pip-target/open_clip_train already exists. Specify --upgrade to force replacement.\nWARNING: Target directory /app/.pip-target/open_clip_torch-3.2.0.dist-info already exists. Specify --upgrade to force replacement.\nWARNING: Target directory /app/.pip-target/open_clip already exists. Specify --upgrade to force replacement.\n"
          ]
        },
        {
          "output_type": "stream",
          "name": "stdout",
          "text": [
            "Collecting ftfy\n  Downloading ftfy-6.3.1-py3-none-any.whl (44 kB)\n     \u2501\u2501\u2501\u2501\u2501\u2501\u2501\u2501\u2501\u2501\u2501\u2501\u2501\u2501\u2501\u2501\u2501\u2501\u2501\u2501\u2501\u2501\u2501\u2501\u2501\u2501\u2501\u2501\u2501\u2501\u2501\u2501\u2501\u2501\u2501\u2501\u2501\u2501\u2501\u2501 44.8/44.8 KB 3.4 MB/s eta 0:00:00\nCollecting wcwidth\n  Downloading wcwidth-0.2.13-py2.py3-none-any.whl (34 kB)\n"
          ]
        },
        {
          "output_type": "stream",
          "name": "stdout",
          "text": [
            "Installing collected packages: wcwidth, ftfy\nSuccessfully installed ftfy-6.3.1 wcwidth-0.2.13\nInstalling regex...\n"
          ]
        },
        {
          "output_type": "stream",
          "name": "stderr",
          "text": [
            "ERROR: pip's dependency resolver does not currently take into account all the packages that are installed. This behaviour is the source of the following dependency conflicts.\nopen-clip-torch 3.2.0 requires regex, which is not installed.\nWARNING: Target directory /app/.pip-target/bin already exists. Specify --upgrade to force replacement.\n"
          ]
        },
        {
          "output_type": "stream",
          "name": "stdout",
          "text": [
            "Collecting regex\n  Downloading regex-2025.9.18-cp311-cp311-manylinux2014_x86_64.manylinux_2_17_x86_64.manylinux_2_28_x86_64.whl (798 kB)\n     \u2501\u2501\u2501\u2501\u2501\u2501\u2501\u2501\u2501\u2501\u2501\u2501\u2501\u2501\u2501\u2501\u2501\u2501\u2501\u2501\u2501\u2501\u2501\u2501\u2501\u2501\u2501\u2501\u2501\u2501\u2501\u2501\u2501\u2501\u2501\u2501\u2501\u2501 799.0/799.0 KB 29.6 MB/s eta 0:00:00\n"
          ]
        },
        {
          "output_type": "stream",
          "name": "stdout",
          "text": [
            "Installing collected packages: regex\nSuccessfully installed regex-2025.9.18\n"
          ]
        },
        {
          "output_type": "stream",
          "name": "stdout",
          "text": [
            "\n[Emb] OpenCLIP ViT-B/32 @ 224\n"
          ]
        },
        {
          "output_type": "stream",
          "name": "stdout",
          "text": [
            "Embedding dim: 512\n"
          ]
        },
        {
          "output_type": "stream",
          "name": "stdout",
          "text": [
            "  Batches 20/70 | rows 2560/8920 | elapsed 37.9s\n"
          ]
        },
        {
          "output_type": "stream",
          "name": "stdout",
          "text": [
            "  Batches 40/70 | rows 5120/8920 | elapsed 67.5s\n"
          ]
        },
        {
          "output_type": "stream",
          "name": "stdout",
          "text": [
            "  Batches 60/70 | rows 7680/8920 | elapsed 97.1s\n"
          ]
        },
        {
          "output_type": "stream",
          "name": "stdout",
          "text": [
            "Saved X_img_train_openclip_vit_b32_224.npy (8920, 512), X_img_test_openclip_vit_b32_224.npy (992, 512) | time 124.5s\nAdditional embeddings extraction done.\n"
          ]
        }
      ]
    },
    {
      "id": "0d2c8049-3bb2-4532-8fb9-a6c3846f662e",
      "cell_type": "code",
      "metadata": {},
      "source": [
        "# Improved training: L2+PCA for embeddings, LightGBM per set, try raw vs sqrt target per-set, NNLS blend\n",
        "import os, glob, time, math, json\n",
        "import numpy as np, pandas as pd\n",
        "from sklearn.preprocessing import StandardScaler\n",
        "from sklearn.decomposition import PCA\n",
        "from sklearn.linear_model import LinearRegression\n",
        "\n",
        "def rmse(y_true, y_pred):\n",
        "    y_true = np.asarray(y_true, dtype=float)\n",
        "    y_pred = np.asarray(y_pred, dtype=float)\n",
        "    return float(np.sqrt(np.mean((y_true - y_pred) ** 2)))\n",
        "\n",
        "def load_feature_set(name):\n",
        "    if name == 'meta_stats':\n",
        "        X_tr = np.load('X_meta_stats_train.npy') if os.path.exists('X_meta_stats_train.npy') else None\n",
        "        X_te = np.load('X_meta_stats_test.npy') if os.path.exists('X_meta_stats_test.npy') else None\n",
        "        return X_tr, X_te\n",
        "    elif name.startswith('emb:'):\n",
        "        tag = name.split(':',1)[1]\n",
        "        tr_path = f\"X_img_train_{tag}.npy\"\n",
        "        te_path = f\"X_img_test_{tag}.npy\"\n",
        "        X_tr = np.load(tr_path) if os.path.exists(tr_path) else None\n",
        "        X_te = np.load(te_path) if os.path.exists(te_path) else None\n",
        "        return X_tr, X_te\n",
        "    else:\n",
        "        return None, None\n",
        "\n",
        "def discover_feature_sets():\n",
        "    feats = []\n",
        "    if os.path.exists('X_meta_stats_train.npy') and os.path.exists('X_meta_stats_test.npy'):\n",
        "        feats.append('meta_stats')\n",
        "    for tr_path in sorted(glob.glob('X_img_train_*.npy')):\n",
        "        tag = tr_path[len('X_img_train_'):-len('.npy')]\n",
        "        te_path = f\"X_img_test_{tag}.npy\"\n",
        "        if os.path.exists(te_path):\n",
        "            feats.append(f\"emb:{tag}\")\n",
        "    return feats\n",
        "\n",
        "# Import LightGBM if available\n",
        "lgbm_ok = False\n",
        "try:\n",
        "    import lightgbm as lgb\n",
        "    lgbm_ok = True\n",
        "except Exception as e:\n",
        "    print('LightGBM not available:', e)\n",
        "\n",
        "train_df = pd.read_csv('train.csv')\n",
        "test_df = pd.read_csv('test.csv')\n",
        "folds_df = pd.read_csv('folds.csv')\n",
        "id2fold = dict(zip(folds_df['Id'], folds_df['fold']))\n",
        "train_df['fold'] = train_df['Id'].map(id2fold)\n",
        "y = train_df['Pawpularity'].values.astype(float)\n",
        "y_sqrt = np.sqrt(np.clip(y, 0, None))\n",
        "\n",
        "feature_sets = discover_feature_sets()\n",
        "print('Feature sets found:', feature_sets)\n",
        "assert len(feature_sets) > 0, 'No feature sets found.'\n",
        "\n",
        "def train_feature_set(fs, X_tr, X_te, target_mode='raw'):\n",
        "    use_pca = fs.startswith('emb:') and X_tr.shape[1] >= 512\n",
        "    n_comp = 512 if X_tr.shape[1] >= 512 else X_tr.shape[1]\n",
        "    oof = np.zeros(len(train_df), dtype=float)\n",
        "    te_pred_accum = np.zeros(len(test_df), dtype=float)\n",
        "    fold_rmses = []\n",
        "\n",
        "    for fold in range(5):\n",
        "        tr_idx = np.where(train_df['fold'].values != fold)[0]\n",
        "        va_idx = np.where(train_df['fold'].values == fold)[0]\n",
        "        X_tr_fold = X_tr[tr_idx]\n",
        "        X_va_fold = X_tr[va_idx]\n",
        "        X_te_fold = X_te\n",
        "        y_tr_fold_raw = y[tr_idx]\n",
        "        y_va_fold_raw = y[va_idx]\n",
        "        if target_mode == 'sqrt':\n",
        "            y_tr_fold = y_sqrt[tr_idx]\n",
        "            y_va_fold_eval = y_va_fold_raw  # evaluate in raw space after inverse-transform\n",
        "        else:\n",
        "            y_tr_fold = y_tr_fold_raw\n",
        "            y_va_fold_eval = y_va_fold_raw\n",
        "\n",
        "        if use_pca:\n",
        "            def l2norm(a):\n",
        "                n = np.linalg.norm(a, axis=1, keepdims=True) + 1e-12\n",
        "                return a / n\n",
        "            X_tr_fold = l2norm(X_tr_fold)\n",
        "            X_va_fold = l2norm(X_va_fold)\n",
        "            X_te_fold = l2norm(X_te_fold)\n",
        "            pca = PCA(n_components=min(n_comp, X_tr.shape[1]), whiten=False, random_state=42)\n",
        "            X_tr_fold = pca.fit_transform(X_tr_fold)\n",
        "            X_va_fold = pca.transform(X_va_fold)\n",
        "            X_te_fold = pca.transform(X_te_fold)\n",
        "            print(f'  Fold {fold}: PCA -> {X_tr_fold.shape[1]} dims')\n",
        "\n",
        "        if lgbm_ok:\n",
        "            dtrain = lgb.Dataset(X_tr_fold, label=y_tr_fold)\n",
        "            if target_mode == 'sqrt':\n",
        "                dvalid = lgb.Dataset(X_va_fold, label=np.sqrt(np.clip(y_va_fold_raw, 0, None)))\n",
        "            else:\n",
        "                dvalid = lgb.Dataset(X_va_fold, label=y_va_fold_raw)\n",
        "            params = dict(objective='regression', metric='rmse', learning_rate=0.03,\n",
        "                          num_leaves=64, min_data_in_leaf=40, feature_fraction=0.8,\n",
        "                          bagging_fraction=0.8, bagging_freq=1, lambda_l2=1.0, verbosity=-1)\n",
        "            gbm = lgb.train(params, dtrain, num_boost_round=10000, valid_sets=[dvalid],\n",
        "                            valid_names=['valid'], callbacks=[lgb.early_stopping(300), lgb.log_evaluation(100)])\n",
        "            va_pred = gbm.predict(X_va_fold, num_iteration=gbm.best_iteration)\n",
        "            te_pred = gbm.predict(X_te_fold, num_iteration=gbm.best_iteration)\n",
        "        else:\n",
        "            scaler = StandardScaler(with_mean=True, with_std=True)\n",
        "            X_tr_s = scaler.fit_transform(X_tr_fold)\n",
        "            X_va_s = scaler.transform(X_va_fold)\n",
        "            X_te_s = scaler.transform(X_te_fold)\n",
        "            from sklearn.linear_model import RidgeCV\n",
        "            ridge = RidgeCV(alphas=[0.1, 0.3, 1.0, 3.0, 10.0], cv=5, scoring='neg_root_mean_squared_error')\n",
        "            ridge.fit(X_tr_s, y_tr_fold)\n",
        "            va_pred = ridge.predict(X_va_s)\n",
        "            te_pred = ridge.predict(X_te_s)\n",
        "\n",
        "        if target_mode == 'sqrt':\n",
        "            va_pred = np.clip(va_pred, 0, None) ** 2\n",
        "            te_pred = np.clip(te_pred, 0, None) ** 2\n",
        "        va_pred = np.clip(va_pred, 1.0, 100.0)\n",
        "        te_pred = np.clip(te_pred, 1.0, 100.0)\n",
        "\n",
        "        oof[va_idx] = va_pred\n",
        "        fold_rmses.append(rmse(y_va_fold_eval, va_pred))\n",
        "        te_pred_accum += te_pred\n",
        "        print(f'  {fs} [{target_mode}] fold {fold} RMSE: {fold_rmses[-1]:.4f}')\n",
        "\n",
        "    te_pred_mean = te_pred_accum / 5.0\n",
        "    fs_oof_rmse = rmse(y, oof)\n",
        "    return {'oof': oof, 'test_pred': te_pred_mean, 'oof_rmse': fs_oof_rmse, 'fold_rmses': fold_rmses, 'used_pca': use_pca, 'n_comp': int(n_comp) if use_pca else int(X_tr.shape[1]), 'target': target_mode}\n",
        "\n",
        "results = {}\n",
        "oof_matrix = []\n",
        "test_matrix = []\n",
        "names_used = []\n",
        "\n",
        "for fs in feature_sets:\n",
        "    X_tr, X_te = load_feature_set(fs)\n",
        "    if X_tr is None or X_te is None:\n",
        "        print(f'Skipping {fs}: files missing')\n",
        "        continue\n",
        "    print(f'Feature set {fs}: train {X_tr.shape}, test {X_te.shape}')\n",
        "\n",
        "    res_raw = train_feature_set(fs, X_tr, X_te, target_mode='raw')\n",
        "    res_sqrt = train_feature_set(fs, X_tr, X_te, target_mode='sqrt') if fs.startswith('emb:') else None\n",
        "    cand = [res_raw] + ([res_sqrt] if res_sqrt is not None else [])\n",
        "    best = min(cand, key=lambda d: d['oof_rmse'])\n",
        "    print(f\"{fs} best target: {best['target']} | OOF RMSE: {best['oof_rmse']:.5f}\")\n",
        "\n",
        "    # Save best\n",
        "    np.save(f'oof_{fs}.npy', best['oof'])\n",
        "    np.save(f'test_pred_{fs}.npy', best['test_pred'])\n",
        "    results[fs] = {k: best[k] for k in ['oof_rmse','fold_rmses','used_pca','n_comp','target']}\n",
        "\n",
        "    oof_matrix.append(best['oof'])\n",
        "    test_matrix.append(best['test_pred'])\n",
        "    names_used.append(fs)\n",
        "\n",
        "# Blend via non-negative least squares (LinearRegression positive=True, no intercept)\n",
        "if len(oof_matrix) == 0:\n",
        "    raise RuntimeError('No successful models to blend.')\n",
        "P = np.vstack(oof_matrix).T\n",
        "reg = LinearRegression(fit_intercept=False, positive=True)\n",
        "reg.fit(P, y)\n",
        "w = reg.coef_.copy()\n",
        "if w.sum() == 0:\n",
        "    w = np.ones_like(w)\n",
        "w = w / w.sum()\n",
        "print('NNLS-like blend weights:', {n: float(wi) for n, wi in zip(names_used, w)})\n",
        "Tstack = np.vstack(test_matrix)\n",
        "blend_test = (w.reshape(-1,1) * Tstack).sum(axis=0)\n",
        "blend_test = np.clip(blend_test, 1.0, 100.0)\n",
        "sub = pd.DataFrame({'Id': test_df['Id'], 'Pawpularity': blend_test})\n",
        "sub.to_csv('submission.csv', index=False)\n",
        "print('Saved submission.csv. Head:')\n",
        "print(sub.head())\n",
        "print('Results summary:', json.dumps(results, indent=2))"
      ],
      "execution_count": 20,
      "outputs": [
        {
          "output_type": "stream",
          "name": "stdout",
          "text": [
            "Feature sets found: ['meta_stats', 'emb:convnext_tiny_in22k_224', 'emb:deit3_small_patch16_224_224', 'emb:openclip_vit_b32_224', 'emb:swin_small_patch4_window7_224_224', 'emb:swin_tiny_patch4_window7_224_224', 'emb:tf_efficientnet_b0_224', 'emb:tf_efficientnetv2_s_in21k_224', 'emb:vit_base_patch16_224_224']\nFeature set meta_stats: train (8920, 22), test (992, 22)\nTraining until validation scores don't improve for 300 rounds\n[100]\tvalid's rmse: 20.5344\n"
          ]
        },
        {
          "output_type": "stream",
          "name": "stdout",
          "text": [
            "[200]\tvalid's rmse: 20.6577\n[300]\tvalid's rmse: 20.8641\n"
          ]
        },
        {
          "output_type": "stream",
          "name": "stdout",
          "text": [
            "Early stopping, best iteration is:\n[40]\tvalid's rmse: 20.4286\n  meta_stats [raw] fold 0 RMSE: 20.4286\nTraining until validation scores don't improve for 300 rounds\n[100]\tvalid's rmse: 20.9231\n"
          ]
        },
        {
          "output_type": "stream",
          "name": "stdout",
          "text": [
            "[200]\tvalid's rmse: 21.2493\n[300]\tvalid's rmse: 21.4906\nEarly stopping, best iteration is:\n[2]\tvalid's rmse: 20.6147\n  meta_stats [raw] fold 1 RMSE: 20.6147\nTraining until validation scores don't improve for 300 rounds\n"
          ]
        },
        {
          "output_type": "stream",
          "name": "stdout",
          "text": [
            "[100]\tvalid's rmse: 20.8299\n[200]\tvalid's rmse: 21.0454\n"
          ]
        },
        {
          "output_type": "stream",
          "name": "stdout",
          "text": [
            "[300]\tvalid's rmse: 21.3105\nEarly stopping, best iteration is:\n[16]\tvalid's rmse: 20.6994\n  meta_stats [raw] fold 2 RMSE: 20.6994\nTraining until validation scores don't improve for 300 rounds\n"
          ]
        },
        {
          "output_type": "stream",
          "name": "stdout",
          "text": [
            "[100]\tvalid's rmse: 20.8168\n[200]\tvalid's rmse: 21.028\n"
          ]
        },
        {
          "output_type": "stream",
          "name": "stdout",
          "text": [
            "[300]\tvalid's rmse: 21.2813\nEarly stopping, best iteration is:\n[9]\tvalid's rmse: 20.6354\n  meta_stats [raw] fold 3 RMSE: 20.6354\nTraining until validation scores don't improve for 300 rounds\n"
          ]
        },
        {
          "output_type": "stream",
          "name": "stdout",
          "text": [
            "[100]\tvalid's rmse: 20.9255\n[200]\tvalid's rmse: 21.1956\n"
          ]
        },
        {
          "output_type": "stream",
          "name": "stdout",
          "text": [
            "[300]\tvalid's rmse: 21.3889\nEarly stopping, best iteration is:\n[1]\tvalid's rmse: 20.6571\n  meta_stats [raw] fold 4 RMSE: 20.6571\nmeta_stats best target: raw | OOF RMSE: 20.60728\nFeature set emb:convnext_tiny_in22k_224: train (8920, 768), test (992, 768)\n"
          ]
        },
        {
          "output_type": "stream",
          "name": "stdout",
          "text": [
            "  Fold 0: PCA -> 512 dims\n"
          ]
        },
        {
          "output_type": "stream",
          "name": "stdout",
          "text": [
            "Training until validation scores don't improve for 300 rounds\n"
          ]
        },
        {
          "output_type": "stream",
          "name": "stdout",
          "text": [
            "[100]\tvalid's rmse: 18.1726\n"
          ]
        },
        {
          "output_type": "stream",
          "name": "stdout",
          "text": [
            "[200]\tvalid's rmse: 18.0188\n"
          ]
        },
        {
          "output_type": "stream",
          "name": "stdout",
          "text": [
            "[300]\tvalid's rmse: 18.001\n"
          ]
        },
        {
          "output_type": "stream",
          "name": "stdout",
          "text": [
            "[400]\tvalid's rmse: 18.0244\n"
          ]
        },
        {
          "output_type": "stream",
          "name": "stdout",
          "text": [
            "[500]\tvalid's rmse: 18.0223\n"
          ]
        },
        {
          "output_type": "stream",
          "name": "stdout",
          "text": [
            "Early stopping, best iteration is:\n[290]\tvalid's rmse: 17.995\n  emb:convnext_tiny_in22k_224 [raw] fold 0 RMSE: 17.9950\n"
          ]
        },
        {
          "output_type": "stream",
          "name": "stdout",
          "text": [
            "  Fold 1: PCA -> 512 dims\nTraining until validation scores don't improve for 300 rounds\n"
          ]
        },
        {
          "output_type": "stream",
          "name": "stdout",
          "text": [
            "[100]\tvalid's rmse: 18.6761\n"
          ]
        },
        {
          "output_type": "stream",
          "name": "stdout",
          "text": [
            "[200]\tvalid's rmse: 18.5465\n"
          ]
        },
        {
          "output_type": "stream",
          "name": "stdout",
          "text": [
            "[300]\tvalid's rmse: 18.5566\n"
          ]
        },
        {
          "output_type": "stream",
          "name": "stdout",
          "text": [
            "[400]\tvalid's rmse: 18.5669\n"
          ]
        },
        {
          "output_type": "stream",
          "name": "stdout",
          "text": [
            "[500]\tvalid's rmse: 18.5856\nEarly stopping, best iteration is:\n[200]\tvalid's rmse: 18.5465\n  emb:convnext_tiny_in22k_224 [raw] fold 1 RMSE: 18.5465\n"
          ]
        },
        {
          "output_type": "stream",
          "name": "stdout",
          "text": [
            "  Fold 2: PCA -> 512 dims\n"
          ]
        },
        {
          "output_type": "stream",
          "name": "stdout",
          "text": [
            "Training until validation scores don't improve for 300 rounds\n"
          ]
        },
        {
          "output_type": "stream",
          "name": "stdout",
          "text": [
            "[100]\tvalid's rmse: 18.6438\n"
          ]
        },
        {
          "output_type": "stream",
          "name": "stdout",
          "text": [
            "[200]\tvalid's rmse: 18.5369\n"
          ]
        },
        {
          "output_type": "stream",
          "name": "stdout",
          "text": [
            "[300]\tvalid's rmse: 18.5684\n"
          ]
        },
        {
          "output_type": "stream",
          "name": "stdout",
          "text": [
            "[400]\tvalid's rmse: 18.5389\n"
          ]
        },
        {
          "output_type": "stream",
          "name": "stdout",
          "text": [
            "[500]\tvalid's rmse: 18.5407\n"
          ]
        },
        {
          "output_type": "stream",
          "name": "stdout",
          "text": [
            "Early stopping, best iteration is:\n[230]\tvalid's rmse: 18.5235\n  emb:convnext_tiny_in22k_224 [raw] fold 2 RMSE: 18.5235\n"
          ]
        },
        {
          "output_type": "stream",
          "name": "stdout",
          "text": [
            "  Fold 3: PCA -> 512 dims\n"
          ]
        },
        {
          "output_type": "stream",
          "name": "stdout",
          "text": [
            "Training until validation scores don't improve for 300 rounds\n"
          ]
        },
        {
          "output_type": "stream",
          "name": "stdout",
          "text": [
            "[100]\tvalid's rmse: 18.2821\n"
          ]
        },
        {
          "output_type": "stream",
          "name": "stdout",
          "text": [
            "[200]\tvalid's rmse: 18.1077\n"
          ]
        },
        {
          "output_type": "stream",
          "name": "stdout",
          "text": [
            "[300]\tvalid's rmse: 18.0539\n"
          ]
        },
        {
          "output_type": "stream",
          "name": "stdout",
          "text": [
            "[400]\tvalid's rmse: 18.0293\n"
          ]
        },
        {
          "output_type": "stream",
          "name": "stdout",
          "text": [
            "[500]\tvalid's rmse: 18.0282\n"
          ]
        },
        {
          "output_type": "stream",
          "name": "stdout",
          "text": [
            "[600]\tvalid's rmse: 18.0444\n"
          ]
        },
        {
          "output_type": "stream",
          "name": "stdout",
          "text": [
            "[700]\tvalid's rmse: 18.046\nEarly stopping, best iteration is:\n[406]\tvalid's rmse: 18.0252\n  emb:convnext_tiny_in22k_224 [raw] fold 3 RMSE: 18.0252\n"
          ]
        },
        {
          "output_type": "stream",
          "name": "stdout",
          "text": [
            "  Fold 4: PCA -> 512 dims\n"
          ]
        },
        {
          "output_type": "stream",
          "name": "stdout",
          "text": [
            "Training until validation scores don't improve for 300 rounds\n"
          ]
        },
        {
          "output_type": "stream",
          "name": "stdout",
          "text": [
            "[100]\tvalid's rmse: 18.6686\n"
          ]
        },
        {
          "output_type": "stream",
          "name": "stdout",
          "text": [
            "[200]\tvalid's rmse: 18.5234\n"
          ]
        },
        {
          "output_type": "stream",
          "name": "stdout",
          "text": [
            "[300]\tvalid's rmse: 18.5002\n"
          ]
        },
        {
          "output_type": "stream",
          "name": "stdout",
          "text": [
            "[400]\tvalid's rmse: 18.504\n"
          ]
        },
        {
          "output_type": "stream",
          "name": "stdout",
          "text": [
            "[500]\tvalid's rmse: 18.5081\n"
          ]
        },
        {
          "output_type": "stream",
          "name": "stdout",
          "text": [
            "Early stopping, best iteration is:\n[286]\tvalid's rmse: 18.4917\n  emb:convnext_tiny_in22k_224 [raw] fold 4 RMSE: 18.4917\n"
          ]
        },
        {
          "output_type": "stream",
          "name": "stdout",
          "text": [
            "  Fold 0: PCA -> 512 dims\n"
          ]
        },
        {
          "output_type": "stream",
          "name": "stdout",
          "text": [
            "Training until validation scores don't improve for 300 rounds\n"
          ]
        },
        {
          "output_type": "stream",
          "name": "stdout",
          "text": [
            "[100]\tvalid's rmse: 1.47438\n"
          ]
        },
        {
          "output_type": "stream",
          "name": "stdout",
          "text": [
            "[200]\tvalid's rmse: 1.46572\n"
          ]
        },
        {
          "output_type": "stream",
          "name": "stdout",
          "text": [
            "[300]\tvalid's rmse: 1.46834\n"
          ]
        },
        {
          "output_type": "stream",
          "name": "stdout",
          "text": [
            "[400]\tvalid's rmse: 1.46941\n"
          ]
        },
        {
          "output_type": "stream",
          "name": "stdout",
          "text": [
            "[500]\tvalid's rmse: 1.47102\n"
          ]
        },
        {
          "output_type": "stream",
          "name": "stdout",
          "text": [
            "Early stopping, best iteration is:\n[244]\tvalid's rmse: 1.46471\n  emb:convnext_tiny_in22k_224 [sqrt] fold 0 RMSE: 18.2395\n"
          ]
        },
        {
          "output_type": "stream",
          "name": "stdout",
          "text": [
            "  Fold 1: PCA -> 512 dims\n"
          ]
        },
        {
          "output_type": "stream",
          "name": "stdout",
          "text": [
            "Training until validation scores don't improve for 300 rounds\n"
          ]
        },
        {
          "output_type": "stream",
          "name": "stdout",
          "text": [
            "[100]\tvalid's rmse: 1.52887\n"
          ]
        },
        {
          "output_type": "stream",
          "name": "stdout",
          "text": [
            "[200]\tvalid's rmse: 1.52601\n"
          ]
        },
        {
          "output_type": "stream",
          "name": "stdout",
          "text": [
            "[300]\tvalid's rmse: 1.52808\n"
          ]
        },
        {
          "output_type": "stream",
          "name": "stdout",
          "text": [
            "[400]\tvalid's rmse: 1.52574\n"
          ]
        },
        {
          "output_type": "stream",
          "name": "stdout",
          "text": [
            "Early stopping, best iteration is:\n[152]\tvalid's rmse: 1.52335\n  emb:convnext_tiny_in22k_224 [sqrt] fold 1 RMSE: 18.9617\n"
          ]
        },
        {
          "output_type": "stream",
          "name": "stdout",
          "text": [
            "  Fold 2: PCA -> 512 dims\n"
          ]
        },
        {
          "output_type": "stream",
          "name": "stdout",
          "text": [
            "Training until validation scores don't improve for 300 rounds\n"
          ]
        },
        {
          "output_type": "stream",
          "name": "stdout",
          "text": [
            "[100]\tvalid's rmse: 1.52207\n"
          ]
        },
        {
          "output_type": "stream",
          "name": "stdout",
          "text": [
            "[200]\tvalid's rmse: 1.51384\n"
          ]
        },
        {
          "output_type": "stream",
          "name": "stdout",
          "text": [
            "[300]\tvalid's rmse: 1.51715\n"
          ]
        },
        {
          "output_type": "stream",
          "name": "stdout",
          "text": [
            "[400]\tvalid's rmse: 1.5154\n"
          ]
        },
        {
          "output_type": "stream",
          "name": "stdout",
          "text": [
            "[500]\tvalid's rmse: 1.51605\n"
          ]
        },
        {
          "output_type": "stream",
          "name": "stdout",
          "text": [
            "Early stopping, best iteration is:\n[223]\tvalid's rmse: 1.51331\n  emb:convnext_tiny_in22k_224 [sqrt] fold 2 RMSE: 18.8214\n"
          ]
        },
        {
          "output_type": "stream",
          "name": "stdout",
          "text": [
            "  Fold 3: PCA -> 512 dims\n"
          ]
        },
        {
          "output_type": "stream",
          "name": "stdout",
          "text": [
            "Training until validation scores don't improve for 300 rounds\n"
          ]
        },
        {
          "output_type": "stream",
          "name": "stdout",
          "text": [
            "[100]\tvalid's rmse: 1.48744\n"
          ]
        },
        {
          "output_type": "stream",
          "name": "stdout",
          "text": [
            "[200]\tvalid's rmse: 1.48316\n"
          ]
        },
        {
          "output_type": "stream",
          "name": "stdout",
          "text": [
            "[300]\tvalid's rmse: 1.48199\n"
          ]
        },
        {
          "output_type": "stream",
          "name": "stdout",
          "text": [
            "[400]\tvalid's rmse: 1.48525\n"
          ]
        },
        {
          "output_type": "stream",
          "name": "stdout",
          "text": [
            "[500]\tvalid's rmse: 1.48457\n"
          ]
        },
        {
          "output_type": "stream",
          "name": "stdout",
          "text": [
            "Early stopping, best iteration is:\n[251]\tvalid's rmse: 1.48091\n  emb:convnext_tiny_in22k_224 [sqrt] fold 3 RMSE: 18.4233\n"
          ]
        },
        {
          "output_type": "stream",
          "name": "stdout",
          "text": [
            "  Fold 4: PCA -> 512 dims\n"
          ]
        },
        {
          "output_type": "stream",
          "name": "stdout",
          "text": [
            "Training until validation scores don't improve for 300 rounds\n"
          ]
        },
        {
          "output_type": "stream",
          "name": "stdout",
          "text": [
            "[100]\tvalid's rmse: 1.5188\n"
          ]
        },
        {
          "output_type": "stream",
          "name": "stdout",
          "text": [
            "[200]\tvalid's rmse: 1.51358\n"
          ]
        },
        {
          "output_type": "stream",
          "name": "stdout",
          "text": [
            "[300]\tvalid's rmse: 1.51283\n"
          ]
        },
        {
          "output_type": "stream",
          "name": "stdout",
          "text": [
            "[400]\tvalid's rmse: 1.51427\n"
          ]
        },
        {
          "output_type": "stream",
          "name": "stdout",
          "text": [
            "[500]\tvalid's rmse: 1.51445\n"
          ]
        },
        {
          "output_type": "stream",
          "name": "stdout",
          "text": [
            "[600]\tvalid's rmse: 1.51466\nEarly stopping, best iteration is:\n[319]\tvalid's rmse: 1.51205\n"
          ]
        },
        {
          "output_type": "stream",
          "name": "stdout",
          "text": [
            "  emb:convnext_tiny_in22k_224 [sqrt] fold 4 RMSE: 18.7885\nemb:convnext_tiny_in22k_224 best target: raw | OOF RMSE: 18.31812\nFeature set emb:deit3_small_patch16_224_224: train (8920, 384), test (992, 384)\nTraining until validation scores don't improve for 300 rounds\n"
          ]
        },
        {
          "output_type": "stream",
          "name": "stdout",
          "text": [
            "[100]\tvalid's rmse: 18.1561\n"
          ]
        },
        {
          "output_type": "stream",
          "name": "stdout",
          "text": [
            "[200]\tvalid's rmse: 17.9559\n"
          ]
        },
        {
          "output_type": "stream",
          "name": "stdout",
          "text": [
            "[300]\tvalid's rmse: 17.9152\n"
          ]
        },
        {
          "output_type": "stream",
          "name": "stdout",
          "text": [
            "[400]\tvalid's rmse: 17.9297\n"
          ]
        },
        {
          "output_type": "stream",
          "name": "stdout",
          "text": [
            "[500]\tvalid's rmse: 17.9516\n"
          ]
        },
        {
          "output_type": "stream",
          "name": "stdout",
          "text": [
            "[600]\tvalid's rmse: 17.9632\nEarly stopping, best iteration is:\n[323]\tvalid's rmse: 17.9042\n  emb:deit3_small_patch16_224_224 [raw] fold 0 RMSE: 17.9042\n"
          ]
        },
        {
          "output_type": "stream",
          "name": "stdout",
          "text": [
            "Training until validation scores don't improve for 300 rounds\n"
          ]
        },
        {
          "output_type": "stream",
          "name": "stdout",
          "text": [
            "[100]\tvalid's rmse: 18.7727\n"
          ]
        },
        {
          "output_type": "stream",
          "name": "stdout",
          "text": [
            "[200]\tvalid's rmse: 18.7385\n"
          ]
        },
        {
          "output_type": "stream",
          "name": "stdout",
          "text": [
            "[300]\tvalid's rmse: 18.7384\n"
          ]
        },
        {
          "output_type": "stream",
          "name": "stdout",
          "text": [
            "[400]\tvalid's rmse: 18.7632\n"
          ]
        },
        {
          "output_type": "stream",
          "name": "stdout",
          "text": [
            "[500]\tvalid's rmse: 18.7898\nEarly stopping, best iteration is:\n[225]\tvalid's rmse: 18.724\n"
          ]
        },
        {
          "output_type": "stream",
          "name": "stdout",
          "text": [
            "  emb:deit3_small_patch16_224_224 [raw] fold 1 RMSE: 18.7240\nTraining until validation scores don't improve for 300 rounds\n"
          ]
        },
        {
          "output_type": "stream",
          "name": "stdout",
          "text": [
            "[100]\tvalid's rmse: 18.8604\n"
          ]
        },
        {
          "output_type": "stream",
          "name": "stdout",
          "text": [
            "[200]\tvalid's rmse: 18.8436\n"
          ]
        },
        {
          "output_type": "stream",
          "name": "stdout",
          "text": [
            "[300]\tvalid's rmse: 18.8483\n"
          ]
        },
        {
          "output_type": "stream",
          "name": "stdout",
          "text": [
            "[400]\tvalid's rmse: 18.8754\n"
          ]
        },
        {
          "output_type": "stream",
          "name": "stdout",
          "text": [
            "[500]\tvalid's rmse: 18.8895\n"
          ]
        },
        {
          "output_type": "stream",
          "name": "stdout",
          "text": [
            "Early stopping, best iteration is:\n[247]\tvalid's rmse: 18.8348\n  emb:deit3_small_patch16_224_224 [raw] fold 2 RMSE: 18.8348\nTraining until validation scores don't improve for 300 rounds\n"
          ]
        },
        {
          "output_type": "stream",
          "name": "stdout",
          "text": [
            "[100]\tvalid's rmse: 18.5087\n"
          ]
        },
        {
          "output_type": "stream",
          "name": "stdout",
          "text": [
            "[200]\tvalid's rmse: 18.3635\n"
          ]
        },
        {
          "output_type": "stream",
          "name": "stdout",
          "text": [
            "[300]\tvalid's rmse: 18.3268\n"
          ]
        },
        {
          "output_type": "stream",
          "name": "stdout",
          "text": [
            "[400]\tvalid's rmse: 18.3272\n"
          ]
        },
        {
          "output_type": "stream",
          "name": "stdout",
          "text": [
            "[500]\tvalid's rmse: 18.339\n"
          ]
        },
        {
          "output_type": "stream",
          "name": "stdout",
          "text": [
            "[600]\tvalid's rmse: 18.339\n"
          ]
        },
        {
          "output_type": "stream",
          "name": "stdout",
          "text": [
            "Early stopping, best iteration is:\n[355]\tvalid's rmse: 18.3042\n  emb:deit3_small_patch16_224_224 [raw] fold 3 RMSE: 18.3042\nTraining until validation scores don't improve for 300 rounds\n"
          ]
        },
        {
          "output_type": "stream",
          "name": "stdout",
          "text": [
            "[100]\tvalid's rmse: 18.7675\n"
          ]
        },
        {
          "output_type": "stream",
          "name": "stdout",
          "text": [
            "[200]\tvalid's rmse: 18.73\n"
          ]
        },
        {
          "output_type": "stream",
          "name": "stdout",
          "text": [
            "[300]\tvalid's rmse: 18.7798\n"
          ]
        },
        {
          "output_type": "stream",
          "name": "stdout",
          "text": [
            "[400]\tvalid's rmse: 18.8048\nEarly stopping, best iteration is:\n[123]\tvalid's rmse: 18.7185\n  emb:deit3_small_patch16_224_224 [raw] fold 4 RMSE: 18.7185\n"
          ]
        },
        {
          "output_type": "stream",
          "name": "stdout",
          "text": [
            "Training until validation scores don't improve for 300 rounds\n"
          ]
        },
        {
          "output_type": "stream",
          "name": "stdout",
          "text": [
            "[100]\tvalid's rmse: 1.48507\n"
          ]
        },
        {
          "output_type": "stream",
          "name": "stdout",
          "text": [
            "[200]\tvalid's rmse: 1.47139\n"
          ]
        },
        {
          "output_type": "stream",
          "name": "stdout",
          "text": [
            "[300]\tvalid's rmse: 1.47147\n"
          ]
        },
        {
          "output_type": "stream",
          "name": "stdout",
          "text": [
            "[400]\tvalid's rmse: 1.47137\n"
          ]
        },
        {
          "output_type": "stream",
          "name": "stdout",
          "text": [
            "[500]\tvalid's rmse: 1.47175\n"
          ]
        },
        {
          "output_type": "stream",
          "name": "stdout",
          "text": [
            "Early stopping, best iteration is:\n[246]\tvalid's rmse: 1.4704\n  emb:deit3_small_patch16_224_224 [sqrt] fold 0 RMSE: 18.2957\nTraining until validation scores don't improve for 300 rounds\n"
          ]
        },
        {
          "output_type": "stream",
          "name": "stdout",
          "text": [
            "[100]\tvalid's rmse: 1.51704\n"
          ]
        },
        {
          "output_type": "stream",
          "name": "stdout",
          "text": [
            "[200]\tvalid's rmse: 1.51097\n"
          ]
        },
        {
          "output_type": "stream",
          "name": "stdout",
          "text": [
            "[300]\tvalid's rmse: 1.51571\n"
          ]
        },
        {
          "output_type": "stream",
          "name": "stdout",
          "text": [
            "[400]\tvalid's rmse: 1.51564\n"
          ]
        },
        {
          "output_type": "stream",
          "name": "stdout",
          "text": [
            "Early stopping, best iteration is:\n[153]\tvalid's rmse: 1.51023\n  emb:deit3_small_patch16_224_224 [sqrt] fold 1 RMSE: 18.7560\nTraining until validation scores don't improve for 300 rounds\n"
          ]
        },
        {
          "output_type": "stream",
          "name": "stdout",
          "text": [
            "[100]\tvalid's rmse: 1.5359\n"
          ]
        },
        {
          "output_type": "stream",
          "name": "stdout",
          "text": [
            "[200]\tvalid's rmse: 1.53372\n"
          ]
        },
        {
          "output_type": "stream",
          "name": "stdout",
          "text": [
            "[300]\tvalid's rmse: 1.5327\n"
          ]
        },
        {
          "output_type": "stream",
          "name": "stdout",
          "text": [
            "[400]\tvalid's rmse: 1.53393\n"
          ]
        },
        {
          "output_type": "stream",
          "name": "stdout",
          "text": [
            "[500]\tvalid's rmse: 1.53451\n"
          ]
        },
        {
          "output_type": "stream",
          "name": "stdout",
          "text": [
            "Early stopping, best iteration is:\n[256]\tvalid's rmse: 1.5313\n  emb:deit3_small_patch16_224_224 [sqrt] fold 2 RMSE: 19.0372\nTraining until validation scores don't improve for 300 rounds\n"
          ]
        },
        {
          "output_type": "stream",
          "name": "stdout",
          "text": [
            "[100]\tvalid's rmse: 1.50639\n"
          ]
        },
        {
          "output_type": "stream",
          "name": "stdout",
          "text": [
            "[200]\tvalid's rmse: 1.49606\n"
          ]
        },
        {
          "output_type": "stream",
          "name": "stdout",
          "text": [
            "[300]\tvalid's rmse: 1.49832\n"
          ]
        },
        {
          "output_type": "stream",
          "name": "stdout",
          "text": [
            "[400]\tvalid's rmse: 1.5008\n"
          ]
        },
        {
          "output_type": "stream",
          "name": "stdout",
          "text": [
            "[500]\tvalid's rmse: 1.50087\nEarly stopping, best iteration is:\n[200]\tvalid's rmse: 1.49606\n  emb:deit3_small_patch16_224_224 [sqrt] fold 3 RMSE: 18.5550\nTraining until validation scores don't improve for 300 rounds\n"
          ]
        },
        {
          "output_type": "stream",
          "name": "stdout",
          "text": [
            "[100]\tvalid's rmse: 1.52264\n"
          ]
        },
        {
          "output_type": "stream",
          "name": "stdout",
          "text": [
            "[200]\tvalid's rmse: 1.52357\n"
          ]
        },
        {
          "output_type": "stream",
          "name": "stdout",
          "text": [
            "[300]\tvalid's rmse: 1.52394\n"
          ]
        },
        {
          "output_type": "stream",
          "name": "stdout",
          "text": [
            "[400]\tvalid's rmse: 1.52648\n"
          ]
        },
        {
          "output_type": "stream",
          "name": "stdout",
          "text": [
            "Early stopping, best iteration is:\n[127]\tvalid's rmse: 1.51933\n  emb:deit3_small_patch16_224_224 [sqrt] fold 4 RMSE: 18.9123\nemb:deit3_small_patch16_224_224 best target: raw | OOF RMSE: 18.50040\nFeature set emb:openclip_vit_b32_224: train (8920, 512), test (992, 512)\n  Fold 0: PCA -> 512 dims\n"
          ]
        },
        {
          "output_type": "stream",
          "name": "stdout",
          "text": [
            "Training until validation scores don't improve for 300 rounds\n"
          ]
        },
        {
          "output_type": "stream",
          "name": "stdout",
          "text": [
            "[100]\tvalid's rmse: 17.9719\n"
          ]
        },
        {
          "output_type": "stream",
          "name": "stdout",
          "text": [
            "[200]\tvalid's rmse: 17.7511\n"
          ]
        },
        {
          "output_type": "stream",
          "name": "stdout",
          "text": [
            "[300]\tvalid's rmse: 17.756\n"
          ]
        },
        {
          "output_type": "stream",
          "name": "stdout",
          "text": [
            "[400]\tvalid's rmse: 17.7378\n"
          ]
        },
        {
          "output_type": "stream",
          "name": "stdout",
          "text": [
            "[500]\tvalid's rmse: 17.7634\n"
          ]
        },
        {
          "output_type": "stream",
          "name": "stdout",
          "text": [
            "[600]\tvalid's rmse: 17.7684\n"
          ]
        },
        {
          "output_type": "stream",
          "name": "stdout",
          "text": [
            "Early stopping, best iteration is:\n[357]\tvalid's rmse: 17.7307\n  emb:openclip_vit_b32_224 [raw] fold 0 RMSE: 17.7307\n  Fold 1: PCA -> 512 dims\n"
          ]
        },
        {
          "output_type": "stream",
          "name": "stdout",
          "text": [
            "Training until validation scores don't improve for 300 rounds\n"
          ]
        },
        {
          "output_type": "stream",
          "name": "stdout",
          "text": [
            "[100]\tvalid's rmse: 18.4306\n"
          ]
        },
        {
          "output_type": "stream",
          "name": "stdout",
          "text": [
            "[200]\tvalid's rmse: 18.304\n"
          ]
        },
        {
          "output_type": "stream",
          "name": "stdout",
          "text": [
            "[300]\tvalid's rmse: 18.3061\n"
          ]
        },
        {
          "output_type": "stream",
          "name": "stdout",
          "text": [
            "[400]\tvalid's rmse: 18.3353\n"
          ]
        },
        {
          "output_type": "stream",
          "name": "stdout",
          "text": [
            "[500]\tvalid's rmse: 18.3497\n"
          ]
        },
        {
          "output_type": "stream",
          "name": "stdout",
          "text": [
            "Early stopping, best iteration is:\n[256]\tvalid's rmse: 18.2982\n  emb:openclip_vit_b32_224 [raw] fold 1 RMSE: 18.2982\n  Fold 2: PCA -> 512 dims\n"
          ]
        },
        {
          "output_type": "stream",
          "name": "stdout",
          "text": [
            "Training until validation scores don't improve for 300 rounds\n"
          ]
        },
        {
          "output_type": "stream",
          "name": "stdout",
          "text": [
            "[100]\tvalid's rmse: 18.6622\n"
          ]
        },
        {
          "output_type": "stream",
          "name": "stdout",
          "text": [
            "[200]\tvalid's rmse: 18.5667\n"
          ]
        },
        {
          "output_type": "stream",
          "name": "stdout",
          "text": [
            "[300]\tvalid's rmse: 18.5498\n"
          ]
        },
        {
          "output_type": "stream",
          "name": "stdout",
          "text": [
            "[400]\tvalid's rmse: 18.5658\n"
          ]
        },
        {
          "output_type": "stream",
          "name": "stdout",
          "text": [
            "[500]\tvalid's rmse: 18.5633\n"
          ]
        },
        {
          "output_type": "stream",
          "name": "stdout",
          "text": [
            "Early stopping, best iteration is:\n[296]\tvalid's rmse: 18.5434\n  emb:openclip_vit_b32_224 [raw] fold 2 RMSE: 18.5434\n  Fold 3: PCA -> 512 dims\n"
          ]
        },
        {
          "output_type": "stream",
          "name": "stdout",
          "text": [
            "Training until validation scores don't improve for 300 rounds\n"
          ]
        },
        {
          "output_type": "stream",
          "name": "stdout",
          "text": [
            "[100]\tvalid's rmse: 18.4948\n"
          ]
        },
        {
          "output_type": "stream",
          "name": "stdout",
          "text": [
            "[200]\tvalid's rmse: 18.3388\n"
          ]
        },
        {
          "output_type": "stream",
          "name": "stdout",
          "text": [
            "[300]\tvalid's rmse: 18.2791\n"
          ]
        },
        {
          "output_type": "stream",
          "name": "stdout",
          "text": [
            "[400]\tvalid's rmse: 18.2653\n"
          ]
        },
        {
          "output_type": "stream",
          "name": "stdout",
          "text": [
            "[500]\tvalid's rmse: 18.2935\n"
          ]
        },
        {
          "output_type": "stream",
          "name": "stdout",
          "text": [
            "[600]\tvalid's rmse: 18.294\n"
          ]
        },
        {
          "output_type": "stream",
          "name": "stdout",
          "text": [
            "Early stopping, best iteration is:\n[351]\tvalid's rmse: 18.259\n  emb:openclip_vit_b32_224 [raw] fold 3 RMSE: 18.2590\n  Fold 4: PCA -> 512 dims\n"
          ]
        },
        {
          "output_type": "stream",
          "name": "stdout",
          "text": [
            "Training until validation scores don't improve for 300 rounds\n"
          ]
        },
        {
          "output_type": "stream",
          "name": "stdout",
          "text": [
            "[100]\tvalid's rmse: 18.6512\n"
          ]
        },
        {
          "output_type": "stream",
          "name": "stdout",
          "text": [
            "[200]\tvalid's rmse: 18.477\n"
          ]
        },
        {
          "output_type": "stream",
          "name": "stdout",
          "text": [
            "[300]\tvalid's rmse: 18.4297\n"
          ]
        },
        {
          "output_type": "stream",
          "name": "stdout",
          "text": [
            "[400]\tvalid's rmse: 18.4101\n"
          ]
        },
        {
          "output_type": "stream",
          "name": "stdout",
          "text": [
            "[500]\tvalid's rmse: 18.4145\n"
          ]
        },
        {
          "output_type": "stream",
          "name": "stdout",
          "text": [
            "[600]\tvalid's rmse: 18.4229\n"
          ]
        },
        {
          "output_type": "stream",
          "name": "stdout",
          "text": [
            "Early stopping, best iteration is:\n[387]\tvalid's rmse: 18.4009\n  emb:openclip_vit_b32_224 [raw] fold 4 RMSE: 18.4009\n  Fold 0: PCA -> 512 dims\n"
          ]
        },
        {
          "output_type": "stream",
          "name": "stdout",
          "text": [
            "Training until validation scores don't improve for 300 rounds\n"
          ]
        },
        {
          "output_type": "stream",
          "name": "stdout",
          "text": [
            "[100]\tvalid's rmse: 1.46079\n"
          ]
        },
        {
          "output_type": "stream",
          "name": "stdout",
          "text": [
            "[200]\tvalid's rmse: 1.44739\n"
          ]
        },
        {
          "output_type": "stream",
          "name": "stdout",
          "text": [
            "[300]\tvalid's rmse: 1.44192\n"
          ]
        },
        {
          "output_type": "stream",
          "name": "stdout",
          "text": [
            "[400]\tvalid's rmse: 1.44086\n"
          ]
        },
        {
          "output_type": "stream",
          "name": "stdout",
          "text": [
            "[500]\tvalid's rmse: 1.44079\n"
          ]
        },
        {
          "output_type": "stream",
          "name": "stdout",
          "text": [
            "[600]\tvalid's rmse: 1.44125\n"
          ]
        },
        {
          "output_type": "stream",
          "name": "stdout",
          "text": [
            "[700]\tvalid's rmse: 1.44149\nEarly stopping, best iteration is:\n[416]\tvalid's rmse: 1.43998\n  emb:openclip_vit_b32_224 [sqrt] fold 0 RMSE: 17.9372\n"
          ]
        },
        {
          "output_type": "stream",
          "name": "stdout",
          "text": [
            "  Fold 1: PCA -> 512 dims\n"
          ]
        },
        {
          "output_type": "stream",
          "name": "stdout",
          "text": [
            "Training until validation scores don't improve for 300 rounds\n"
          ]
        },
        {
          "output_type": "stream",
          "name": "stdout",
          "text": [
            "[100]\tvalid's rmse: 1.50615\n"
          ]
        },
        {
          "output_type": "stream",
          "name": "stdout",
          "text": [
            "[200]\tvalid's rmse: 1.49747\n"
          ]
        },
        {
          "output_type": "stream",
          "name": "stdout",
          "text": [
            "[300]\tvalid's rmse: 1.49611\n"
          ]
        },
        {
          "output_type": "stream",
          "name": "stdout",
          "text": [
            "[400]\tvalid's rmse: 1.49832\n"
          ]
        },
        {
          "output_type": "stream",
          "name": "stdout",
          "text": [
            "[500]\tvalid's rmse: 1.49851\n"
          ]
        },
        {
          "output_type": "stream",
          "name": "stdout",
          "text": [
            "Early stopping, best iteration is:\n[271]\tvalid's rmse: 1.49548\n  emb:openclip_vit_b32_224 [sqrt] fold 1 RMSE: 18.5937\n  Fold 2: PCA -> 512 dims\n"
          ]
        },
        {
          "output_type": "stream",
          "name": "stdout",
          "text": [
            "Training until validation scores don't improve for 300 rounds\n"
          ]
        },
        {
          "output_type": "stream",
          "name": "stdout",
          "text": [
            "[100]\tvalid's rmse: 1.52462\n"
          ]
        },
        {
          "output_type": "stream",
          "name": "stdout",
          "text": [
            "[200]\tvalid's rmse: 1.52135\n"
          ]
        },
        {
          "output_type": "stream",
          "name": "stdout",
          "text": [
            "[300]\tvalid's rmse: 1.52214\n"
          ]
        },
        {
          "output_type": "stream",
          "name": "stdout",
          "text": [
            "[400]\tvalid's rmse: 1.52472\n"
          ]
        },
        {
          "output_type": "stream",
          "name": "stdout",
          "text": [
            "Early stopping, best iteration is:\n[168]\tvalid's rmse: 1.51901\n  emb:openclip_vit_b32_224 [sqrt] fold 2 RMSE: 18.9227\n  Fold 3: PCA -> 512 dims\n"
          ]
        },
        {
          "output_type": "stream",
          "name": "stdout",
          "text": [
            "Training until validation scores don't improve for 300 rounds\n"
          ]
        },
        {
          "output_type": "stream",
          "name": "stdout",
          "text": [
            "[100]\tvalid's rmse: 1.49853\n"
          ]
        },
        {
          "output_type": "stream",
          "name": "stdout",
          "text": [
            "[200]\tvalid's rmse: 1.48911\n"
          ]
        },
        {
          "output_type": "stream",
          "name": "stdout",
          "text": [
            "[300]\tvalid's rmse: 1.4841\n"
          ]
        },
        {
          "output_type": "stream",
          "name": "stdout",
          "text": [
            "[400]\tvalid's rmse: 1.48321\n"
          ]
        },
        {
          "output_type": "stream",
          "name": "stdout",
          "text": [
            "[500]\tvalid's rmse: 1.48442\n"
          ]
        },
        {
          "output_type": "stream",
          "name": "stdout",
          "text": [
            "[600]\tvalid's rmse: 1.4845\n"
          ]
        },
        {
          "output_type": "stream",
          "name": "stdout",
          "text": [
            "[700]\tvalid's rmse: 1.48518\n"
          ]
        },
        {
          "output_type": "stream",
          "name": "stdout",
          "text": [
            "Early stopping, best iteration is:\n[437]\tvalid's rmse: 1.48279\n  emb:openclip_vit_b32_224 [sqrt] fold 3 RMSE: 18.4133\n  Fold 4: PCA -> 512 dims\n"
          ]
        },
        {
          "output_type": "stream",
          "name": "stdout",
          "text": [
            "Training until validation scores don't improve for 300 rounds\n"
          ]
        },
        {
          "output_type": "stream",
          "name": "stdout",
          "text": [
            "[100]\tvalid's rmse: 1.51886\n"
          ]
        },
        {
          "output_type": "stream",
          "name": "stdout",
          "text": [
            "[200]\tvalid's rmse: 1.51332\n"
          ]
        },
        {
          "output_type": "stream",
          "name": "stdout",
          "text": [
            "[300]\tvalid's rmse: 1.51455\n"
          ]
        },
        {
          "output_type": "stream",
          "name": "stdout",
          "text": [
            "[400]\tvalid's rmse: 1.51425\n"
          ]
        },
        {
          "output_type": "stream",
          "name": "stdout",
          "text": [
            "[500]\tvalid's rmse: 1.51489\nEarly stopping, best iteration is:\n[206]\tvalid's rmse: 1.51282\n  emb:openclip_vit_b32_224 [sqrt] fold 4 RMSE: 18.7817\nemb:openclip_vit_b32_224 best target: raw | OOF RMSE: 18.24854\nFeature set emb:swin_small_patch4_window7_224_224: train (8920, 768), test (992, 768)\n"
          ]
        },
        {
          "output_type": "stream",
          "name": "stdout",
          "text": [
            "  Fold 0: PCA -> 512 dims\n"
          ]
        },
        {
          "output_type": "stream",
          "name": "stdout",
          "text": [
            "Training until validation scores don't improve for 300 rounds\n"
          ]
        },
        {
          "output_type": "stream",
          "name": "stdout",
          "text": [
            "[100]\tvalid's rmse: 17.8066\n"
          ]
        },
        {
          "output_type": "stream",
          "name": "stdout",
          "text": [
            "[200]\tvalid's rmse: 17.5853\n"
          ]
        },
        {
          "output_type": "stream",
          "name": "stdout",
          "text": [
            "[300]\tvalid's rmse: 17.5978\n"
          ]
        },
        {
          "output_type": "stream",
          "name": "stdout",
          "text": [
            "[400]\tvalid's rmse: 17.5732\n"
          ]
        },
        {
          "output_type": "stream",
          "name": "stdout",
          "text": [
            "[500]\tvalid's rmse: 17.5818\n"
          ]
        },
        {
          "output_type": "stream",
          "name": "stdout",
          "text": [
            "[600]\tvalid's rmse: 17.5998\n"
          ]
        },
        {
          "output_type": "stream",
          "name": "stdout",
          "text": [
            "[700]\tvalid's rmse: 17.609\nEarly stopping, best iteration is:\n[406]\tvalid's rmse: 17.572\n  emb:swin_small_patch4_window7_224_224 [raw] fold 0 RMSE: 17.5720\n"
          ]
        },
        {
          "output_type": "stream",
          "name": "stdout",
          "text": [
            "  Fold 1: PCA -> 512 dims\n"
          ]
        },
        {
          "output_type": "stream",
          "name": "stdout",
          "text": [
            "Training until validation scores don't improve for 300 rounds\n"
          ]
        },
        {
          "output_type": "stream",
          "name": "stdout",
          "text": [
            "[100]\tvalid's rmse: 18.6107\n"
          ]
        },
        {
          "output_type": "stream",
          "name": "stdout",
          "text": [
            "[200]\tvalid's rmse: 18.5136\n"
          ]
        },
        {
          "output_type": "stream",
          "name": "stdout",
          "text": [
            "[300]\tvalid's rmse: 18.5286\n"
          ]
        },
        {
          "output_type": "stream",
          "name": "stdout",
          "text": [
            "[400]\tvalid's rmse: 18.5161\n"
          ]
        },
        {
          "output_type": "stream",
          "name": "stdout",
          "text": [
            "[500]\tvalid's rmse: 18.5116\n"
          ]
        },
        {
          "output_type": "stream",
          "name": "stdout",
          "text": [
            "[600]\tvalid's rmse: 18.5112\n"
          ]
        },
        {
          "output_type": "stream",
          "name": "stdout",
          "text": [
            "[700]\tvalid's rmse: 18.5166\n"
          ]
        },
        {
          "output_type": "stream",
          "name": "stdout",
          "text": [
            "[800]\tvalid's rmse: 18.5173\n"
          ]
        },
        {
          "output_type": "stream",
          "name": "stdout",
          "text": [
            "Early stopping, best iteration is:\n[535]\tvalid's rmse: 18.4969\n  emb:swin_small_patch4_window7_224_224 [raw] fold 1 RMSE: 18.4969\n"
          ]
        },
        {
          "output_type": "stream",
          "name": "stdout",
          "text": [
            "  Fold 2: PCA -> 512 dims\nTraining until validation scores don't improve for 300 rounds\n"
          ]
        },
        {
          "output_type": "stream",
          "name": "stdout",
          "text": [
            "[100]\tvalid's rmse: 18.6887\n"
          ]
        },
        {
          "output_type": "stream",
          "name": "stdout",
          "text": [
            "[200]\tvalid's rmse: 18.6311\n"
          ]
        },
        {
          "output_type": "stream",
          "name": "stdout",
          "text": [
            "[300]\tvalid's rmse: 18.636\n"
          ]
        },
        {
          "output_type": "stream",
          "name": "stdout",
          "text": [
            "[400]\tvalid's rmse: 18.63\n"
          ]
        },
        {
          "output_type": "stream",
          "name": "stdout",
          "text": [
            "Early stopping, best iteration is:\n[167]\tvalid's rmse: 18.6176\n  emb:swin_small_patch4_window7_224_224 [raw] fold 2 RMSE: 18.6176\n"
          ]
        },
        {
          "output_type": "stream",
          "name": "stdout",
          "text": [
            "  Fold 3: PCA -> 512 dims\nTraining until validation scores don't improve for 300 rounds\n"
          ]
        },
        {
          "output_type": "stream",
          "name": "stdout",
          "text": [
            "[100]\tvalid's rmse: 18.2503\n"
          ]
        },
        {
          "output_type": "stream",
          "name": "stdout",
          "text": [
            "[200]\tvalid's rmse: 18.0857\n"
          ]
        },
        {
          "output_type": "stream",
          "name": "stdout",
          "text": [
            "[300]\tvalid's rmse: 18.0509\n"
          ]
        },
        {
          "output_type": "stream",
          "name": "stdout",
          "text": [
            "[400]\tvalid's rmse: 18.0529\n"
          ]
        },
        {
          "output_type": "stream",
          "name": "stdout",
          "text": [
            "[500]\tvalid's rmse: 18.061\n"
          ]
        },
        {
          "output_type": "stream",
          "name": "stdout",
          "text": [
            "[600]\tvalid's rmse: 18.0645\n"
          ]
        },
        {
          "output_type": "stream",
          "name": "stdout",
          "text": [
            "Early stopping, best iteration is:\n[377]\tvalid's rmse: 18.0416\n  emb:swin_small_patch4_window7_224_224 [raw] fold 3 RMSE: 18.0416\n"
          ]
        },
        {
          "output_type": "stream",
          "name": "stdout",
          "text": [
            "  Fold 4: PCA -> 512 dims\nTraining until validation scores don't improve for 300 rounds\n"
          ]
        },
        {
          "output_type": "stream",
          "name": "stdout",
          "text": [
            "[100]\tvalid's rmse: 18.5697\n"
          ]
        },
        {
          "output_type": "stream",
          "name": "stdout",
          "text": [
            "[200]\tvalid's rmse: 18.3897\n"
          ]
        },
        {
          "output_type": "stream",
          "name": "stdout",
          "text": [
            "[300]\tvalid's rmse: 18.3461\n"
          ]
        },
        {
          "output_type": "stream",
          "name": "stdout",
          "text": [
            "[400]\tvalid's rmse: 18.3092\n"
          ]
        },
        {
          "output_type": "stream",
          "name": "stdout",
          "text": [
            "[500]\tvalid's rmse: 18.3063\n"
          ]
        },
        {
          "output_type": "stream",
          "name": "stdout",
          "text": [
            "[600]\tvalid's rmse: 18.3057\n"
          ]
        },
        {
          "output_type": "stream",
          "name": "stdout",
          "text": [
            "[700]\tvalid's rmse: 18.3012\n"
          ]
        },
        {
          "output_type": "stream",
          "name": "stdout",
          "text": [
            "[800]\tvalid's rmse: 18.3008\n"
          ]
        },
        {
          "output_type": "stream",
          "name": "stdout",
          "text": [
            "[900]\tvalid's rmse: 18.3006\n"
          ]
        },
        {
          "output_type": "stream",
          "name": "stdout",
          "text": [
            "Early stopping, best iteration is:\n[642]\tvalid's rmse: 18.2968\n  emb:swin_small_patch4_window7_224_224 [raw] fold 4 RMSE: 18.2968\n"
          ]
        },
        {
          "output_type": "stream",
          "name": "stdout",
          "text": [
            "  Fold 0: PCA -> 512 dims\nTraining until validation scores don't improve for 300 rounds\n"
          ]
        },
        {
          "output_type": "stream",
          "name": "stdout",
          "text": [
            "[100]\tvalid's rmse: 1.44949\n"
          ]
        },
        {
          "output_type": "stream",
          "name": "stdout",
          "text": [
            "[200]\tvalid's rmse: 1.43836\n"
          ]
        },
        {
          "output_type": "stream",
          "name": "stdout",
          "text": [
            "[300]\tvalid's rmse: 1.4405\n"
          ]
        },
        {
          "output_type": "stream",
          "name": "stdout",
          "text": [
            "[400]\tvalid's rmse: 1.44313\n"
          ]
        },
        {
          "output_type": "stream",
          "name": "stdout",
          "text": [
            "[500]\tvalid's rmse: 1.44467\nEarly stopping, best iteration is:\n[210]\tvalid's rmse: 1.43801\n  emb:swin_small_patch4_window7_224_224 [sqrt] fold 0 RMSE: 17.8697\n"
          ]
        },
        {
          "output_type": "stream",
          "name": "stdout",
          "text": [
            "  Fold 1: PCA -> 512 dims\n"
          ]
        },
        {
          "output_type": "stream",
          "name": "stdout",
          "text": [
            "Training until validation scores don't improve for 300 rounds\n"
          ]
        },
        {
          "output_type": "stream",
          "name": "stdout",
          "text": [
            "[100]\tvalid's rmse: 1.51342\n"
          ]
        },
        {
          "output_type": "stream",
          "name": "stdout",
          "text": [
            "[200]\tvalid's rmse: 1.50632\n"
          ]
        },
        {
          "output_type": "stream",
          "name": "stdout",
          "text": [
            "[300]\tvalid's rmse: 1.50657\n"
          ]
        },
        {
          "output_type": "stream",
          "name": "stdout",
          "text": [
            "[400]\tvalid's rmse: 1.50593\n"
          ]
        },
        {
          "output_type": "stream",
          "name": "stdout",
          "text": [
            "[500]\tvalid's rmse: 1.50628\n"
          ]
        },
        {
          "output_type": "stream",
          "name": "stdout",
          "text": [
            "Early stopping, best iteration is:\n[284]\tvalid's rmse: 1.5052\n  emb:swin_small_patch4_window7_224_224 [sqrt] fold 1 RMSE: 18.6491\n"
          ]
        },
        {
          "output_type": "stream",
          "name": "stdout",
          "text": [
            "  Fold 2: PCA -> 512 dims\n"
          ]
        },
        {
          "output_type": "stream",
          "name": "stdout",
          "text": [
            "Training until validation scores don't improve for 300 rounds\n"
          ]
        },
        {
          "output_type": "stream",
          "name": "stdout",
          "text": [
            "[100]\tvalid's rmse: 1.51616\n"
          ]
        },
        {
          "output_type": "stream",
          "name": "stdout",
          "text": [
            "[200]\tvalid's rmse: 1.51136\n"
          ]
        },
        {
          "output_type": "stream",
          "name": "stdout",
          "text": [
            "[300]\tvalid's rmse: 1.5127\n"
          ]
        },
        {
          "output_type": "stream",
          "name": "stdout",
          "text": [
            "[400]\tvalid's rmse: 1.51338\n"
          ]
        },
        {
          "output_type": "stream",
          "name": "stdout",
          "text": [
            "Early stopping, best iteration is:\n[172]\tvalid's rmse: 1.51081\n  emb:swin_small_patch4_window7_224_224 [sqrt] fold 2 RMSE: 18.7897\n"
          ]
        },
        {
          "output_type": "stream",
          "name": "stdout",
          "text": [
            "  Fold 3: PCA -> 512 dims\n"
          ]
        },
        {
          "output_type": "stream",
          "name": "stdout",
          "text": [
            "Training until validation scores don't improve for 300 rounds\n"
          ]
        },
        {
          "output_type": "stream",
          "name": "stdout",
          "text": [
            "[100]\tvalid's rmse: 1.48779\n"
          ]
        },
        {
          "output_type": "stream",
          "name": "stdout",
          "text": [
            "[200]\tvalid's rmse: 1.47886\n"
          ]
        },
        {
          "output_type": "stream",
          "name": "stdout",
          "text": [
            "[300]\tvalid's rmse: 1.47918\n"
          ]
        },
        {
          "output_type": "stream",
          "name": "stdout",
          "text": [
            "[400]\tvalid's rmse: 1.48018\n"
          ]
        },
        {
          "output_type": "stream",
          "name": "stdout",
          "text": [
            "[500]\tvalid's rmse: 1.47962\n"
          ]
        },
        {
          "output_type": "stream",
          "name": "stdout",
          "text": [
            "Early stopping, best iteration is:\n[239]\tvalid's rmse: 1.47802\n  emb:swin_small_patch4_window7_224_224 [sqrt] fold 3 RMSE: 18.3576\n"
          ]
        },
        {
          "output_type": "stream",
          "name": "stdout",
          "text": [
            "  Fold 4: PCA -> 512 dims\n"
          ]
        },
        {
          "output_type": "stream",
          "name": "stdout",
          "text": [
            "Training until validation scores don't improve for 300 rounds\n"
          ]
        },
        {
          "output_type": "stream",
          "name": "stdout",
          "text": [
            "[100]\tvalid's rmse: 1.51104\n"
          ]
        },
        {
          "output_type": "stream",
          "name": "stdout",
          "text": [
            "[200]\tvalid's rmse: 1.50281\n"
          ]
        },
        {
          "output_type": "stream",
          "name": "stdout",
          "text": [
            "[300]\tvalid's rmse: 1.50135\n"
          ]
        },
        {
          "output_type": "stream",
          "name": "stdout",
          "text": [
            "[400]\tvalid's rmse: 1.49816\n"
          ]
        },
        {
          "output_type": "stream",
          "name": "stdout",
          "text": [
            "[500]\tvalid's rmse: 1.49636\n"
          ]
        },
        {
          "output_type": "stream",
          "name": "stdout",
          "text": [
            "[600]\tvalid's rmse: 1.49542\n"
          ]
        },
        {
          "output_type": "stream",
          "name": "stdout",
          "text": [
            "[700]\tvalid's rmse: 1.495\n"
          ]
        },
        {
          "output_type": "stream",
          "name": "stdout",
          "text": [
            "[800]\tvalid's rmse: 1.49482\n"
          ]
        },
        {
          "output_type": "stream",
          "name": "stdout",
          "text": [
            "[900]\tvalid's rmse: 1.49455\n"
          ]
        },
        {
          "output_type": "stream",
          "name": "stdout",
          "text": [
            "[1000]\tvalid's rmse: 1.49425\n"
          ]
        },
        {
          "output_type": "stream",
          "name": "stdout",
          "text": [
            "[1100]\tvalid's rmse: 1.49419\n"
          ]
        },
        {
          "output_type": "stream",
          "name": "stdout",
          "text": [
            "[1200]\tvalid's rmse: 1.49434\n"
          ]
        },
        {
          "output_type": "stream",
          "name": "stdout",
          "text": [
            "[1300]\tvalid's rmse: 1.49431\n"
          ]
        },
        {
          "output_type": "stream",
          "name": "stdout",
          "text": [
            "Early stopping, best iteration is:\n[1075]\tvalid's rmse: 1.49416\n  emb:swin_small_patch4_window7_224_224 [sqrt] fold 4 RMSE: 18.4783\nemb:swin_small_patch4_window7_224_224 best target: raw | OOF RMSE: 18.20880\nFeature set emb:swin_tiny_patch4_window7_224_224: train (8920, 768), test (992, 768)\n"
          ]
        },
        {
          "output_type": "stream",
          "name": "stdout",
          "text": [
            "  Fold 0: PCA -> 512 dims\n"
          ]
        },
        {
          "output_type": "stream",
          "name": "stdout",
          "text": [
            "Training until validation scores don't improve for 300 rounds\n"
          ]
        },
        {
          "output_type": "stream",
          "name": "stdout",
          "text": [
            "[100]\tvalid's rmse: 18.0222\n"
          ]
        },
        {
          "output_type": "stream",
          "name": "stdout",
          "text": [
            "[200]\tvalid's rmse: 17.8285\n"
          ]
        },
        {
          "output_type": "stream",
          "name": "stdout",
          "text": [
            "[300]\tvalid's rmse: 17.8307\n"
          ]
        },
        {
          "output_type": "stream",
          "name": "stdout",
          "text": [
            "[400]\tvalid's rmse: 17.8358\n"
          ]
        },
        {
          "output_type": "stream",
          "name": "stdout",
          "text": [
            "[500]\tvalid's rmse: 17.8122\n"
          ]
        },
        {
          "output_type": "stream",
          "name": "stdout",
          "text": [
            "[600]\tvalid's rmse: 17.8225\n"
          ]
        },
        {
          "output_type": "stream",
          "name": "stdout",
          "text": [
            "[700]\tvalid's rmse: 17.8185\n"
          ]
        },
        {
          "output_type": "stream",
          "name": "stdout",
          "text": [
            "[800]\tvalid's rmse: 17.8193\nEarly stopping, best iteration is:\n[519]\tvalid's rmse: 17.8098\n"
          ]
        },
        {
          "output_type": "stream",
          "name": "stdout",
          "text": [
            "  emb:swin_tiny_patch4_window7_224_224 [raw] fold 0 RMSE: 17.8098\n"
          ]
        },
        {
          "output_type": "stream",
          "name": "stdout",
          "text": [
            "  Fold 1: PCA -> 512 dims\n"
          ]
        },
        {
          "output_type": "stream",
          "name": "stdout",
          "text": [
            "Training until validation scores don't improve for 300 rounds\n"
          ]
        },
        {
          "output_type": "stream",
          "name": "stdout",
          "text": [
            "[100]\tvalid's rmse: 18.6553\n"
          ]
        },
        {
          "output_type": "stream",
          "name": "stdout",
          "text": [
            "[200]\tvalid's rmse: 18.5693\n"
          ]
        },
        {
          "output_type": "stream",
          "name": "stdout",
          "text": [
            "[300]\tvalid's rmse: 18.6005\n"
          ]
        },
        {
          "output_type": "stream",
          "name": "stdout",
          "text": [
            "[400]\tvalid's rmse: 18.5794\n"
          ]
        },
        {
          "output_type": "stream",
          "name": "stdout",
          "text": [
            "Early stopping, best iteration is:\n[181]\tvalid's rmse: 18.548\n  emb:swin_tiny_patch4_window7_224_224 [raw] fold 1 RMSE: 18.5480\n"
          ]
        },
        {
          "output_type": "stream",
          "name": "stdout",
          "text": [
            "  Fold 2: PCA -> 512 dims\n"
          ]
        },
        {
          "output_type": "stream",
          "name": "stdout",
          "text": [
            "Training until validation scores don't improve for 300 rounds\n"
          ]
        },
        {
          "output_type": "stream",
          "name": "stdout",
          "text": [
            "[100]\tvalid's rmse: 18.715\n"
          ]
        },
        {
          "output_type": "stream",
          "name": "stdout",
          "text": [
            "[200]\tvalid's rmse: 18.6201\n"
          ]
        },
        {
          "output_type": "stream",
          "name": "stdout",
          "text": [
            "[300]\tvalid's rmse: 18.5951\n"
          ]
        },
        {
          "output_type": "stream",
          "name": "stdout",
          "text": [
            "[400]\tvalid's rmse: 18.5925\n"
          ]
        },
        {
          "output_type": "stream",
          "name": "stdout",
          "text": [
            "[500]\tvalid's rmse: 18.5946\n"
          ]
        },
        {
          "output_type": "stream",
          "name": "stdout",
          "text": [
            "[600]\tvalid's rmse: 18.598\n"
          ]
        },
        {
          "output_type": "stream",
          "name": "stdout",
          "text": [
            "Early stopping, best iteration is:\n[363]\tvalid's rmse: 18.5831\n  emb:swin_tiny_patch4_window7_224_224 [raw] fold 2 RMSE: 18.5831\n"
          ]
        },
        {
          "output_type": "stream",
          "name": "stdout",
          "text": [
            "  Fold 3: PCA -> 512 dims\n"
          ]
        },
        {
          "output_type": "stream",
          "name": "stdout",
          "text": [
            "Training until validation scores don't improve for 300 rounds\n"
          ]
        },
        {
          "output_type": "stream",
          "name": "stdout",
          "text": [
            "[100]\tvalid's rmse: 18.498\n"
          ]
        },
        {
          "output_type": "stream",
          "name": "stdout",
          "text": [
            "[200]\tvalid's rmse: 18.3998\n"
          ]
        },
        {
          "output_type": "stream",
          "name": "stdout",
          "text": [
            "[300]\tvalid's rmse: 18.4006\n"
          ]
        },
        {
          "output_type": "stream",
          "name": "stdout",
          "text": [
            "[400]\tvalid's rmse: 18.4282\n"
          ]
        },
        {
          "output_type": "stream",
          "name": "stdout",
          "text": [
            "[500]\tvalid's rmse: 18.4443\n"
          ]
        },
        {
          "output_type": "stream",
          "name": "stdout",
          "text": [
            "Early stopping, best iteration is:\n[266]\tvalid's rmse: 18.3701\n  emb:swin_tiny_patch4_window7_224_224 [raw] fold 3 RMSE: 18.3701\n"
          ]
        },
        {
          "output_type": "stream",
          "name": "stdout",
          "text": [
            "  Fold 4: PCA -> 512 dims\n"
          ]
        },
        {
          "output_type": "stream",
          "name": "stdout",
          "text": [
            "Training until validation scores don't improve for 300 rounds\n"
          ]
        },
        {
          "output_type": "stream",
          "name": "stdout",
          "text": [
            "[100]\tvalid's rmse: 18.6335\n"
          ]
        },
        {
          "output_type": "stream",
          "name": "stdout",
          "text": [
            "[200]\tvalid's rmse: 18.4939\n"
          ]
        },
        {
          "output_type": "stream",
          "name": "stdout",
          "text": [
            "[300]\tvalid's rmse: 18.5123\n"
          ]
        },
        {
          "output_type": "stream",
          "name": "stdout",
          "text": [
            "[400]\tvalid's rmse: 18.5048\n"
          ]
        },
        {
          "output_type": "stream",
          "name": "stdout",
          "text": [
            "Early stopping, best iteration is:\n[180]\tvalid's rmse: 18.4854\n  emb:swin_tiny_patch4_window7_224_224 [raw] fold 4 RMSE: 18.4854\n"
          ]
        },
        {
          "output_type": "stream",
          "name": "stdout",
          "text": [
            "  Fold 0: PCA -> 512 dims\nTraining until validation scores don't improve for 300 rounds\n"
          ]
        },
        {
          "output_type": "stream",
          "name": "stdout",
          "text": [
            "[100]\tvalid's rmse: 1.46314\n"
          ]
        },
        {
          "output_type": "stream",
          "name": "stdout",
          "text": [
            "[200]\tvalid's rmse: 1.45458\n"
          ]
        },
        {
          "output_type": "stream",
          "name": "stdout",
          "text": [
            "[300]\tvalid's rmse: 1.45489\n"
          ]
        },
        {
          "output_type": "stream",
          "name": "stdout",
          "text": [
            "[400]\tvalid's rmse: 1.4576\n"
          ]
        },
        {
          "output_type": "stream",
          "name": "stdout",
          "text": [
            "Early stopping, best iteration is:\n[194]\tvalid's rmse: 1.45355\n  emb:swin_tiny_patch4_window7_224_224 [sqrt] fold 0 RMSE: 18.0481\n"
          ]
        },
        {
          "output_type": "stream",
          "name": "stdout",
          "text": [
            "  Fold 1: PCA -> 512 dims\n"
          ]
        },
        {
          "output_type": "stream",
          "name": "stdout",
          "text": [
            "Training until validation scores don't improve for 300 rounds\n"
          ]
        },
        {
          "output_type": "stream",
          "name": "stdout",
          "text": [
            "[100]\tvalid's rmse: 1.52531\n"
          ]
        },
        {
          "output_type": "stream",
          "name": "stdout",
          "text": [
            "[200]\tvalid's rmse: 1.52129\n"
          ]
        },
        {
          "output_type": "stream",
          "name": "stdout",
          "text": [
            "[300]\tvalid's rmse: 1.51991\n"
          ]
        },
        {
          "output_type": "stream",
          "name": "stdout",
          "text": [
            "[400]\tvalid's rmse: 1.52071\n"
          ]
        },
        {
          "output_type": "stream",
          "name": "stdout",
          "text": [
            "[500]\tvalid's rmse: 1.52192\n"
          ]
        },
        {
          "output_type": "stream",
          "name": "stdout",
          "text": [
            "Early stopping, best iteration is:\n[255]\tvalid's rmse: 1.51924\n  emb:swin_tiny_patch4_window7_224_224 [sqrt] fold 1 RMSE: 18.7961\n"
          ]
        },
        {
          "output_type": "stream",
          "name": "stdout",
          "text": [
            "  Fold 2: PCA -> 512 dims\n"
          ]
        },
        {
          "output_type": "stream",
          "name": "stdout",
          "text": [
            "Training until validation scores don't improve for 300 rounds\n"
          ]
        },
        {
          "output_type": "stream",
          "name": "stdout",
          "text": [
            "[100]\tvalid's rmse: 1.52038\n"
          ]
        },
        {
          "output_type": "stream",
          "name": "stdout",
          "text": [
            "[200]\tvalid's rmse: 1.51562\n"
          ]
        },
        {
          "output_type": "stream",
          "name": "stdout",
          "text": [
            "[300]\tvalid's rmse: 1.51473\n"
          ]
        },
        {
          "output_type": "stream",
          "name": "stdout",
          "text": [
            "[400]\tvalid's rmse: 1.51583\n"
          ]
        },
        {
          "output_type": "stream",
          "name": "stdout",
          "text": [
            "[500]\tvalid's rmse: 1.51685\n"
          ]
        },
        {
          "output_type": "stream",
          "name": "stdout",
          "text": [
            "Early stopping, best iteration is:\n[271]\tvalid's rmse: 1.51334\n  emb:swin_tiny_patch4_window7_224_224 [sqrt] fold 2 RMSE: 18.8520\n"
          ]
        },
        {
          "output_type": "stream",
          "name": "stdout",
          "text": [
            "  Fold 3: PCA -> 512 dims\nTraining until validation scores don't improve for 300 rounds\n"
          ]
        },
        {
          "output_type": "stream",
          "name": "stdout",
          "text": [
            "[100]\tvalid's rmse: 1.49557\n"
          ]
        },
        {
          "output_type": "stream",
          "name": "stdout",
          "text": [
            "[200]\tvalid's rmse: 1.48675\n"
          ]
        },
        {
          "output_type": "stream",
          "name": "stdout",
          "text": [
            "[300]\tvalid's rmse: 1.48798\n"
          ]
        },
        {
          "output_type": "stream",
          "name": "stdout",
          "text": [
            "[400]\tvalid's rmse: 1.48862\n"
          ]
        },
        {
          "output_type": "stream",
          "name": "stdout",
          "text": [
            "Early stopping, best iteration is:\n[189]\tvalid's rmse: 1.48579\n  emb:swin_tiny_patch4_window7_224_224 [sqrt] fold 3 RMSE: 18.4564\n"
          ]
        },
        {
          "output_type": "stream",
          "name": "stdout",
          "text": [
            "  Fold 4: PCA -> 512 dims\n"
          ]
        },
        {
          "output_type": "stream",
          "name": "stdout",
          "text": [
            "Training until validation scores don't improve for 300 rounds\n"
          ]
        },
        {
          "output_type": "stream",
          "name": "stdout",
          "text": [
            "[100]\tvalid's rmse: 1.52474\n"
          ]
        },
        {
          "output_type": "stream",
          "name": "stdout",
          "text": [
            "[200]\tvalid's rmse: 1.52035\n"
          ]
        },
        {
          "output_type": "stream",
          "name": "stdout",
          "text": [
            "[300]\tvalid's rmse: 1.52022\n"
          ]
        },
        {
          "output_type": "stream",
          "name": "stdout",
          "text": [
            "[400]\tvalid's rmse: 1.51926\n"
          ]
        },
        {
          "output_type": "stream",
          "name": "stdout",
          "text": [
            "[500]\tvalid's rmse: 1.51922\n"
          ]
        },
        {
          "output_type": "stream",
          "name": "stdout",
          "text": [
            "[600]\tvalid's rmse: 1.51979\n"
          ]
        },
        {
          "output_type": "stream",
          "name": "stdout",
          "text": [
            "Early stopping, best iteration is:\n[375]\tvalid's rmse: 1.51846\n  emb:swin_tiny_patch4_window7_224_224 [sqrt] fold 4 RMSE: 18.8469\nemb:swin_tiny_patch4_window7_224_224 best target: raw | OOF RMSE: 18.36148\nFeature set emb:tf_efficientnet_b0_224: train (8920, 1280), test (992, 1280)\n"
          ]
        },
        {
          "output_type": "stream",
          "name": "stdout",
          "text": [
            "  Fold 0: PCA -> 512 dims\nTraining until validation scores don't improve for 300 rounds\n"
          ]
        },
        {
          "output_type": "stream",
          "name": "stdout",
          "text": [
            "[100]\tvalid's rmse: 17.9588\n"
          ]
        },
        {
          "output_type": "stream",
          "name": "stdout",
          "text": [
            "[200]\tvalid's rmse: 17.8509\n"
          ]
        },
        {
          "output_type": "stream",
          "name": "stdout",
          "text": [
            "[300]\tvalid's rmse: 17.8387\n"
          ]
        },
        {
          "output_type": "stream",
          "name": "stdout",
          "text": [
            "[400]\tvalid's rmse: 17.8555\n"
          ]
        },
        {
          "output_type": "stream",
          "name": "stdout",
          "text": [
            "[500]\tvalid's rmse: 17.8699\n"
          ]
        },
        {
          "output_type": "stream",
          "name": "stdout",
          "text": [
            "Early stopping, best iteration is:\n[254]\tvalid's rmse: 17.821\n  emb:tf_efficientnet_b0_224 [raw] fold 0 RMSE: 17.8210\n"
          ]
        },
        {
          "output_type": "stream",
          "name": "stdout",
          "text": [
            "  Fold 1: PCA -> 512 dims\n"
          ]
        },
        {
          "output_type": "stream",
          "name": "stdout",
          "text": [
            "Training until validation scores don't improve for 300 rounds\n"
          ]
        },
        {
          "output_type": "stream",
          "name": "stdout",
          "text": [
            "[100]\tvalid's rmse: 18.4655\n"
          ]
        },
        {
          "output_type": "stream",
          "name": "stdout",
          "text": [
            "[200]\tvalid's rmse: 18.3753\n"
          ]
        },
        {
          "output_type": "stream",
          "name": "stdout",
          "text": [
            "[300]\tvalid's rmse: 18.3915\n"
          ]
        },
        {
          "output_type": "stream",
          "name": "stdout",
          "text": [
            "[400]\tvalid's rmse: 18.4137\n"
          ]
        },
        {
          "output_type": "stream",
          "name": "stdout",
          "text": [
            "[500]\tvalid's rmse: 18.43\n"
          ]
        },
        {
          "output_type": "stream",
          "name": "stdout",
          "text": [
            "Early stopping, best iteration is:\n[255]\tvalid's rmse: 18.362\n  emb:tf_efficientnet_b0_224 [raw] fold 1 RMSE: 18.3620\n"
          ]
        },
        {
          "output_type": "stream",
          "name": "stdout",
          "text": [
            "  Fold 2: PCA -> 512 dims\nTraining until validation scores don't improve for 300 rounds\n"
          ]
        },
        {
          "output_type": "stream",
          "name": "stdout",
          "text": [
            "[100]\tvalid's rmse: 18.587\n"
          ]
        },
        {
          "output_type": "stream",
          "name": "stdout",
          "text": [
            "[200]\tvalid's rmse: 18.5273\n"
          ]
        },
        {
          "output_type": "stream",
          "name": "stdout",
          "text": [
            "[300]\tvalid's rmse: 18.5044\n"
          ]
        },
        {
          "output_type": "stream",
          "name": "stdout",
          "text": [
            "[400]\tvalid's rmse: 18.5134\n"
          ]
        },
        {
          "output_type": "stream",
          "name": "stdout",
          "text": [
            "[500]\tvalid's rmse: 18.5404\n"
          ]
        },
        {
          "output_type": "stream",
          "name": "stdout",
          "text": [
            "[600]\tvalid's rmse: 18.5415\nEarly stopping, best iteration is:\n[315]\tvalid's rmse: 18.4944\n  emb:tf_efficientnet_b0_224 [raw] fold 2 RMSE: 18.4944\n"
          ]
        },
        {
          "output_type": "stream",
          "name": "stdout",
          "text": [
            "  Fold 3: PCA -> 512 dims\n"
          ]
        },
        {
          "output_type": "stream",
          "name": "stdout",
          "text": [
            "Training until validation scores don't improve for 300 rounds\n"
          ]
        },
        {
          "output_type": "stream",
          "name": "stdout",
          "text": [
            "[100]\tvalid's rmse: 18.1459\n"
          ]
        },
        {
          "output_type": "stream",
          "name": "stdout",
          "text": [
            "[200]\tvalid's rmse: 18.0407\n"
          ]
        },
        {
          "output_type": "stream",
          "name": "stdout",
          "text": [
            "[300]\tvalid's rmse: 18.0446\n"
          ]
        },
        {
          "output_type": "stream",
          "name": "stdout",
          "text": [
            "[400]\tvalid's rmse: 18.0584\n"
          ]
        },
        {
          "output_type": "stream",
          "name": "stdout",
          "text": [
            "[500]\tvalid's rmse: 18.0738\nEarly stopping, best iteration is:\n[213]\tvalid's rmse: 18.0186\n  emb:tf_efficientnet_b0_224 [raw] fold 3 RMSE: 18.0186\n"
          ]
        },
        {
          "output_type": "stream",
          "name": "stdout",
          "text": [
            "  Fold 4: PCA -> 512 dims\nTraining until validation scores don't improve for 300 rounds\n"
          ]
        },
        {
          "output_type": "stream",
          "name": "stdout",
          "text": [
            "[100]\tvalid's rmse: 18.4745\n"
          ]
        },
        {
          "output_type": "stream",
          "name": "stdout",
          "text": [
            "[200]\tvalid's rmse: 18.3828\n"
          ]
        },
        {
          "output_type": "stream",
          "name": "stdout",
          "text": [
            "[300]\tvalid's rmse: 18.405\n"
          ]
        },
        {
          "output_type": "stream",
          "name": "stdout",
          "text": [
            "[400]\tvalid's rmse: 18.4316\n"
          ]
        },
        {
          "output_type": "stream",
          "name": "stdout",
          "text": [
            "[500]\tvalid's rmse: 18.4254\n"
          ]
        },
        {
          "output_type": "stream",
          "name": "stdout",
          "text": [
            "Early stopping, best iteration is:\n[226]\tvalid's rmse: 18.3778\n  emb:tf_efficientnet_b0_224 [raw] fold 4 RMSE: 18.3778\n"
          ]
        },
        {
          "output_type": "stream",
          "name": "stdout",
          "text": [
            "  Fold 0: PCA -> 512 dims\nTraining until validation scores don't improve for 300 rounds\n"
          ]
        },
        {
          "output_type": "stream",
          "name": "stdout",
          "text": [
            "[100]\tvalid's rmse: 1.46265\n"
          ]
        },
        {
          "output_type": "stream",
          "name": "stdout",
          "text": [
            "[200]\tvalid's rmse: 1.46266\n"
          ]
        },
        {
          "output_type": "stream",
          "name": "stdout",
          "text": [
            "[300]\tvalid's rmse: 1.4605\n"
          ]
        },
        {
          "output_type": "stream",
          "name": "stdout",
          "text": [
            "[400]\tvalid's rmse: 1.46308\n"
          ]
        },
        {
          "output_type": "stream",
          "name": "stdout",
          "text": [
            "Early stopping, best iteration is:\n[143]\tvalid's rmse: 1.4602\n  emb:tf_efficientnet_b0_224 [sqrt] fold 0 RMSE: 18.2256\n"
          ]
        },
        {
          "output_type": "stream",
          "name": "stdout",
          "text": [
            "  Fold 1: PCA -> 512 dims\n"
          ]
        },
        {
          "output_type": "stream",
          "name": "stdout",
          "text": [
            "Training until validation scores don't improve for 300 rounds\n"
          ]
        },
        {
          "output_type": "stream",
          "name": "stdout",
          "text": [
            "[100]\tvalid's rmse: 1.51676\n"
          ]
        },
        {
          "output_type": "stream",
          "name": "stdout",
          "text": [
            "[200]\tvalid's rmse: 1.51094\n"
          ]
        },
        {
          "output_type": "stream",
          "name": "stdout",
          "text": [
            "[300]\tvalid's rmse: 1.51233\n"
          ]
        },
        {
          "output_type": "stream",
          "name": "stdout",
          "text": [
            "[400]\tvalid's rmse: 1.51258\n"
          ]
        },
        {
          "output_type": "stream",
          "name": "stdout",
          "text": [
            "[500]\tvalid's rmse: 1.51328\n"
          ]
        },
        {
          "output_type": "stream",
          "name": "stdout",
          "text": [
            "Early stopping, best iteration is:\n[252]\tvalid's rmse: 1.51067\n  emb:tf_efficientnet_b0_224 [sqrt] fold 1 RMSE: 18.6730\n"
          ]
        },
        {
          "output_type": "stream",
          "name": "stdout",
          "text": [
            "  Fold 2: PCA -> 512 dims\n"
          ]
        },
        {
          "output_type": "stream",
          "name": "stdout",
          "text": [
            "Training until validation scores don't improve for 300 rounds\n"
          ]
        },
        {
          "output_type": "stream",
          "name": "stdout",
          "text": [
            "[100]\tvalid's rmse: 1.50844\n"
          ]
        },
        {
          "output_type": "stream",
          "name": "stdout",
          "text": [
            "[200]\tvalid's rmse: 1.50305\n"
          ]
        },
        {
          "output_type": "stream",
          "name": "stdout",
          "text": [
            "[300]\tvalid's rmse: 1.50324\n"
          ]
        },
        {
          "output_type": "stream",
          "name": "stdout",
          "text": [
            "[400]\tvalid's rmse: 1.50417\n"
          ]
        },
        {
          "output_type": "stream",
          "name": "stdout",
          "text": [
            "[500]\tvalid's rmse: 1.50595\n"
          ]
        },
        {
          "output_type": "stream",
          "name": "stdout",
          "text": [
            "Early stopping, best iteration is:\n[241]\tvalid's rmse: 1.50109\n  emb:tf_efficientnet_b0_224 [sqrt] fold 2 RMSE: 18.6341\n"
          ]
        },
        {
          "output_type": "stream",
          "name": "stdout",
          "text": [
            "  Fold 3: PCA -> 512 dims\n"
          ]
        },
        {
          "output_type": "stream",
          "name": "stdout",
          "text": [
            "Training until validation scores don't improve for 300 rounds\n"
          ]
        },
        {
          "output_type": "stream",
          "name": "stdout",
          "text": [
            "[100]\tvalid's rmse: 1.49605\n"
          ]
        },
        {
          "output_type": "stream",
          "name": "stdout",
          "text": [
            "[200]\tvalid's rmse: 1.48945\n"
          ]
        },
        {
          "output_type": "stream",
          "name": "stdout",
          "text": [
            "[300]\tvalid's rmse: 1.48789\n"
          ]
        },
        {
          "output_type": "stream",
          "name": "stdout",
          "text": [
            "[400]\tvalid's rmse: 1.4898\n"
          ]
        },
        {
          "output_type": "stream",
          "name": "stdout",
          "text": [
            "[500]\tvalid's rmse: 1.49026\n"
          ]
        },
        {
          "output_type": "stream",
          "name": "stdout",
          "text": [
            "Early stopping, best iteration is:\n[239]\tvalid's rmse: 1.486\n  emb:tf_efficientnet_b0_224 [sqrt] fold 3 RMSE: 18.4238\n"
          ]
        },
        {
          "output_type": "stream",
          "name": "stdout",
          "text": [
            "  Fold 4: PCA -> 512 dims\n"
          ]
        },
        {
          "output_type": "stream",
          "name": "stdout",
          "text": [
            "Training until validation scores don't improve for 300 rounds\n"
          ]
        },
        {
          "output_type": "stream",
          "name": "stdout",
          "text": [
            "[100]\tvalid's rmse: 1.5076\n"
          ]
        },
        {
          "output_type": "stream",
          "name": "stdout",
          "text": [
            "[200]\tvalid's rmse: 1.50793\n"
          ]
        },
        {
          "output_type": "stream",
          "name": "stdout",
          "text": [
            "[300]\tvalid's rmse: 1.51052\n"
          ]
        },
        {
          "output_type": "stream",
          "name": "stdout",
          "text": [
            "[400]\tvalid's rmse: 1.5099\nEarly stopping, best iteration is:\n[103]\tvalid's rmse: 1.50635\n  emb:tf_efficientnet_b0_224 [sqrt] fold 4 RMSE: 18.7689\nemb:tf_efficientnet_b0_224 best target: raw | OOF RMSE: 18.21653\nFeature set emb:tf_efficientnetv2_s_in21k_224: train (8920, 1280), test (992, 1280)\n"
          ]
        },
        {
          "output_type": "stream",
          "name": "stdout",
          "text": [
            "  Fold 0: PCA -> 512 dims\nTraining until validation scores don't improve for 300 rounds\n"
          ]
        },
        {
          "output_type": "stream",
          "name": "stdout",
          "text": [
            "[100]\tvalid's rmse: 18.0962\n"
          ]
        },
        {
          "output_type": "stream",
          "name": "stdout",
          "text": [
            "[200]\tvalid's rmse: 17.9683\n"
          ]
        },
        {
          "output_type": "stream",
          "name": "stdout",
          "text": [
            "[300]\tvalid's rmse: 17.9423\n"
          ]
        },
        {
          "output_type": "stream",
          "name": "stdout",
          "text": [
            "[400]\tvalid's rmse: 17.97\n"
          ]
        },
        {
          "output_type": "stream",
          "name": "stdout",
          "text": [
            "[500]\tvalid's rmse: 17.9813\n"
          ]
        },
        {
          "output_type": "stream",
          "name": "stdout",
          "text": [
            "Early stopping, best iteration is:\n[241]\tvalid's rmse: 17.9196\n  emb:tf_efficientnetv2_s_in21k_224 [raw] fold 0 RMSE: 17.9196\n"
          ]
        },
        {
          "output_type": "stream",
          "name": "stdout",
          "text": [
            "  Fold 1: PCA -> 512 dims\n"
          ]
        },
        {
          "output_type": "stream",
          "name": "stdout",
          "text": [
            "Training until validation scores don't improve for 300 rounds\n"
          ]
        },
        {
          "output_type": "stream",
          "name": "stdout",
          "text": [
            "[100]\tvalid's rmse: 18.4787\n"
          ]
        },
        {
          "output_type": "stream",
          "name": "stdout",
          "text": [
            "[200]\tvalid's rmse: 18.3528\n"
          ]
        },
        {
          "output_type": "stream",
          "name": "stdout",
          "text": [
            "[300]\tvalid's rmse: 18.3746\n"
          ]
        },
        {
          "output_type": "stream",
          "name": "stdout",
          "text": [
            "[400]\tvalid's rmse: 18.3856\n"
          ]
        },
        {
          "output_type": "stream",
          "name": "stdout",
          "text": [
            "[500]\tvalid's rmse: 18.3626\n"
          ]
        },
        {
          "output_type": "stream",
          "name": "stdout",
          "text": [
            "Early stopping, best iteration is:\n[222]\tvalid's rmse: 18.3469\n  emb:tf_efficientnetv2_s_in21k_224 [raw] fold 1 RMSE: 18.3469\n"
          ]
        },
        {
          "output_type": "stream",
          "name": "stdout",
          "text": [
            "  Fold 2: PCA -> 512 dims\nTraining until validation scores don't improve for 300 rounds\n"
          ]
        },
        {
          "output_type": "stream",
          "name": "stdout",
          "text": [
            "[100]\tvalid's rmse: 18.6234\n"
          ]
        },
        {
          "output_type": "stream",
          "name": "stdout",
          "text": [
            "[200]\tvalid's rmse: 18.5408\n"
          ]
        },
        {
          "output_type": "stream",
          "name": "stdout",
          "text": [
            "[300]\tvalid's rmse: 18.5667\n"
          ]
        },
        {
          "output_type": "stream",
          "name": "stdout",
          "text": [
            "[400]\tvalid's rmse: 18.5631\n"
          ]
        },
        {
          "output_type": "stream",
          "name": "stdout",
          "text": [
            "[500]\tvalid's rmse: 18.5589\nEarly stopping, best iteration is:\n[201]\tvalid's rmse: 18.535\n  emb:tf_efficientnetv2_s_in21k_224 [raw] fold 2 RMSE: 18.5350\n"
          ]
        },
        {
          "output_type": "stream",
          "name": "stdout",
          "text": [
            "  Fold 3: PCA -> 512 dims\nTraining until validation scores don't improve for 300 rounds\n"
          ]
        },
        {
          "output_type": "stream",
          "name": "stdout",
          "text": [
            "[100]\tvalid's rmse: 18.3598\n"
          ]
        },
        {
          "output_type": "stream",
          "name": "stdout",
          "text": [
            "[200]\tvalid's rmse: 18.2401\n"
          ]
        },
        {
          "output_type": "stream",
          "name": "stdout",
          "text": [
            "[300]\tvalid's rmse: 18.1959\n"
          ]
        },
        {
          "output_type": "stream",
          "name": "stdout",
          "text": [
            "[400]\tvalid's rmse: 18.1954\n"
          ]
        },
        {
          "output_type": "stream",
          "name": "stdout",
          "text": [
            "[500]\tvalid's rmse: 18.1884\n"
          ]
        },
        {
          "output_type": "stream",
          "name": "stdout",
          "text": [
            "[600]\tvalid's rmse: 18.1908\n"
          ]
        },
        {
          "output_type": "stream",
          "name": "stdout",
          "text": [
            "Early stopping, best iteration is:\n[357]\tvalid's rmse: 18.1832\n  emb:tf_efficientnetv2_s_in21k_224 [raw] fold 3 RMSE: 18.1832\n"
          ]
        },
        {
          "output_type": "stream",
          "name": "stdout",
          "text": [
            "  Fold 4: PCA -> 512 dims\n"
          ]
        },
        {
          "output_type": "stream",
          "name": "stdout",
          "text": [
            "Training until validation scores don't improve for 300 rounds\n"
          ]
        },
        {
          "output_type": "stream",
          "name": "stdout",
          "text": [
            "[100]\tvalid's rmse: 18.5952\n"
          ]
        },
        {
          "output_type": "stream",
          "name": "stdout",
          "text": [
            "[200]\tvalid's rmse: 18.4076\n"
          ]
        },
        {
          "output_type": "stream",
          "name": "stdout",
          "text": [
            "[300]\tvalid's rmse: 18.3644\n"
          ]
        },
        {
          "output_type": "stream",
          "name": "stdout",
          "text": [
            "[400]\tvalid's rmse: 18.3713\n"
          ]
        },
        {
          "output_type": "stream",
          "name": "stdout",
          "text": [
            "[500]\tvalid's rmse: 18.3633\n"
          ]
        },
        {
          "output_type": "stream",
          "name": "stdout",
          "text": [
            "[600]\tvalid's rmse: 18.3535\n"
          ]
        },
        {
          "output_type": "stream",
          "name": "stdout",
          "text": [
            "[700]\tvalid's rmse: 18.3489\n"
          ]
        },
        {
          "output_type": "stream",
          "name": "stdout",
          "text": [
            "[800]\tvalid's rmse: 18.3539\n"
          ]
        },
        {
          "output_type": "stream",
          "name": "stdout",
          "text": [
            "[900]\tvalid's rmse: 18.3517\n"
          ]
        },
        {
          "output_type": "stream",
          "name": "stdout",
          "text": [
            "Early stopping, best iteration is:\n[652]\tvalid's rmse: 18.3432\n  emb:tf_efficientnetv2_s_in21k_224 [raw] fold 4 RMSE: 18.3432\n"
          ]
        },
        {
          "output_type": "stream",
          "name": "stdout",
          "text": [
            "  Fold 0: PCA -> 512 dims\n"
          ]
        },
        {
          "output_type": "stream",
          "name": "stdout",
          "text": [
            "Training until validation scores don't improve for 300 rounds\n"
          ]
        },
        {
          "output_type": "stream",
          "name": "stdout",
          "text": [
            "[100]\tvalid's rmse: 1.47459\n"
          ]
        },
        {
          "output_type": "stream",
          "name": "stdout",
          "text": [
            "[200]\tvalid's rmse: 1.46862\n"
          ]
        },
        {
          "output_type": "stream",
          "name": "stdout",
          "text": [
            "[300]\tvalid's rmse: 1.46937\n"
          ]
        },
        {
          "output_type": "stream",
          "name": "stdout",
          "text": [
            "[400]\tvalid's rmse: 1.4701\n"
          ]
        },
        {
          "output_type": "stream",
          "name": "stdout",
          "text": [
            "[500]\tvalid's rmse: 1.47122\n"
          ]
        },
        {
          "output_type": "stream",
          "name": "stdout",
          "text": [
            "Early stopping, best iteration is:\n[220]\tvalid's rmse: 1.46798\n  emb:tf_efficientnetv2_s_in21k_224 [sqrt] fold 0 RMSE: 18.3495\n"
          ]
        },
        {
          "output_type": "stream",
          "name": "stdout",
          "text": [
            "  Fold 1: PCA -> 512 dims\n"
          ]
        },
        {
          "output_type": "stream",
          "name": "stdout",
          "text": [
            "Training until validation scores don't improve for 300 rounds\n"
          ]
        },
        {
          "output_type": "stream",
          "name": "stdout",
          "text": [
            "[100]\tvalid's rmse: 1.51256\n"
          ]
        },
        {
          "output_type": "stream",
          "name": "stdout",
          "text": [
            "[200]\tvalid's rmse: 1.50657\n"
          ]
        },
        {
          "output_type": "stream",
          "name": "stdout",
          "text": [
            "[300]\tvalid's rmse: 1.50627\n"
          ]
        },
        {
          "output_type": "stream",
          "name": "stdout",
          "text": [
            "[400]\tvalid's rmse: 1.50836\n"
          ]
        },
        {
          "output_type": "stream",
          "name": "stdout",
          "text": [
            "[500]\tvalid's rmse: 1.50886\n"
          ]
        },
        {
          "output_type": "stream",
          "name": "stdout",
          "text": [
            "Early stopping, best iteration is:\n[288]\tvalid's rmse: 1.5049\n  emb:tf_efficientnetv2_s_in21k_224 [sqrt] fold 1 RMSE: 18.6857\n"
          ]
        },
        {
          "output_type": "stream",
          "name": "stdout",
          "text": [
            "  Fold 2: PCA -> 512 dims\n"
          ]
        },
        {
          "output_type": "stream",
          "name": "stdout",
          "text": [
            "Training until validation scores don't improve for 300 rounds\n"
          ]
        },
        {
          "output_type": "stream",
          "name": "stdout",
          "text": [
            "[100]\tvalid's rmse: 1.51437\n"
          ]
        },
        {
          "output_type": "stream",
          "name": "stdout",
          "text": [
            "[200]\tvalid's rmse: 1.50609\n"
          ]
        },
        {
          "output_type": "stream",
          "name": "stdout",
          "text": [
            "[300]\tvalid's rmse: 1.50598\n"
          ]
        },
        {
          "output_type": "stream",
          "name": "stdout",
          "text": [
            "[400]\tvalid's rmse: 1.50509\n"
          ]
        },
        {
          "output_type": "stream",
          "name": "stdout",
          "text": [
            "[500]\tvalid's rmse: 1.50476\n"
          ]
        },
        {
          "output_type": "stream",
          "name": "stdout",
          "text": [
            "[600]\tvalid's rmse: 1.50551\n"
          ]
        },
        {
          "output_type": "stream",
          "name": "stdout",
          "text": [
            "[700]\tvalid's rmse: 1.50635\n"
          ]
        },
        {
          "output_type": "stream",
          "name": "stdout",
          "text": [
            "Early stopping, best iteration is:\n[466]\tvalid's rmse: 1.50394\n  emb:tf_efficientnetv2_s_in21k_224 [sqrt] fold 2 RMSE: 18.6662\n"
          ]
        },
        {
          "output_type": "stream",
          "name": "stdout",
          "text": [
            "  Fold 3: PCA -> 512 dims\n"
          ]
        },
        {
          "output_type": "stream",
          "name": "stdout",
          "text": [
            "Training until validation scores don't improve for 300 rounds\n"
          ]
        },
        {
          "output_type": "stream",
          "name": "stdout",
          "text": [
            "[100]\tvalid's rmse: 1.49631\n"
          ]
        },
        {
          "output_type": "stream",
          "name": "stdout",
          "text": [
            "[200]\tvalid's rmse: 1.48736\n"
          ]
        },
        {
          "output_type": "stream",
          "name": "stdout",
          "text": [
            "[300]\tvalid's rmse: 1.48454\n"
          ]
        },
        {
          "output_type": "stream",
          "name": "stdout",
          "text": [
            "[400]\tvalid's rmse: 1.48519\n"
          ]
        },
        {
          "output_type": "stream",
          "name": "stdout",
          "text": [
            "[500]\tvalid's rmse: 1.48619\n"
          ]
        },
        {
          "output_type": "stream",
          "name": "stdout",
          "text": [
            "[600]\tvalid's rmse: 1.48776\n"
          ]
        },
        {
          "output_type": "stream",
          "name": "stdout",
          "text": [
            "Early stopping, best iteration is:\n[349]\tvalid's rmse: 1.48384\n  emb:tf_efficientnetv2_s_in21k_224 [sqrt] fold 3 RMSE: 18.4402\n"
          ]
        },
        {
          "output_type": "stream",
          "name": "stdout",
          "text": [
            "  Fold 4: PCA -> 512 dims\nTraining until validation scores don't improve for 300 rounds\n"
          ]
        },
        {
          "output_type": "stream",
          "name": "stdout",
          "text": [
            "[100]\tvalid's rmse: 1.51934\n"
          ]
        },
        {
          "output_type": "stream",
          "name": "stdout",
          "text": [
            "[200]\tvalid's rmse: 1.51329\n"
          ]
        },
        {
          "output_type": "stream",
          "name": "stdout",
          "text": [
            "[300]\tvalid's rmse: 1.50752\n"
          ]
        },
        {
          "output_type": "stream",
          "name": "stdout",
          "text": [
            "[400]\tvalid's rmse: 1.50718\n"
          ]
        },
        {
          "output_type": "stream",
          "name": "stdout",
          "text": [
            "[500]\tvalid's rmse: 1.50656\n"
          ]
        },
        {
          "output_type": "stream",
          "name": "stdout",
          "text": [
            "[600]\tvalid's rmse: 1.50565\n"
          ]
        },
        {
          "output_type": "stream",
          "name": "stdout",
          "text": [
            "[700]\tvalid's rmse: 1.5053\n"
          ]
        },
        {
          "output_type": "stream",
          "name": "stdout",
          "text": [
            "[800]\tvalid's rmse: 1.50522\n"
          ]
        },
        {
          "output_type": "stream",
          "name": "stdout",
          "text": [
            "[900]\tvalid's rmse: 1.50525\n"
          ]
        },
        {
          "output_type": "stream",
          "name": "stdout",
          "text": [
            "Early stopping, best iteration is:\n[678]\tvalid's rmse: 1.50485\n  emb:tf_efficientnetv2_s_in21k_224 [sqrt] fold 4 RMSE: 18.6282\nemb:tf_efficientnetv2_s_in21k_224 best target: raw | OOF RMSE: 18.26675\nFeature set emb:vit_base_patch16_224_224: train (8920, 768), test (992, 768)\n"
          ]
        },
        {
          "output_type": "stream",
          "name": "stdout",
          "text": [
            "  Fold 0: PCA -> 512 dims\n"
          ]
        },
        {
          "output_type": "stream",
          "name": "stdout",
          "text": [
            "Training until validation scores don't improve for 300 rounds\n"
          ]
        },
        {
          "output_type": "stream",
          "name": "stdout",
          "text": [
            "[100]\tvalid's rmse: 18.119\n"
          ]
        },
        {
          "output_type": "stream",
          "name": "stdout",
          "text": [
            "[200]\tvalid's rmse: 17.9733\n"
          ]
        },
        {
          "output_type": "stream",
          "name": "stdout",
          "text": [
            "[300]\tvalid's rmse: 17.9328\n"
          ]
        },
        {
          "output_type": "stream",
          "name": "stdout",
          "text": [
            "[400]\tvalid's rmse: 17.927\n"
          ]
        },
        {
          "output_type": "stream",
          "name": "stdout",
          "text": [
            "[500]\tvalid's rmse: 17.9355\n"
          ]
        },
        {
          "output_type": "stream",
          "name": "stdout",
          "text": [
            "Early stopping, best iteration is:\n[271]\tvalid's rmse: 17.9207\n  emb:vit_base_patch16_224_224 [raw] fold 0 RMSE: 17.9207\n"
          ]
        },
        {
          "output_type": "stream",
          "name": "stdout",
          "text": [
            "  Fold 1: PCA -> 512 dims\n"
          ]
        },
        {
          "output_type": "stream",
          "name": "stdout",
          "text": [
            "Training until validation scores don't improve for 300 rounds\n"
          ]
        },
        {
          "output_type": "stream",
          "name": "stdout",
          "text": [
            "[100]\tvalid's rmse: 18.4208\n"
          ]
        },
        {
          "output_type": "stream",
          "name": "stdout",
          "text": [
            "[200]\tvalid's rmse: 18.3061\n"
          ]
        },
        {
          "output_type": "stream",
          "name": "stdout",
          "text": [
            "[300]\tvalid's rmse: 18.2841\n"
          ]
        },
        {
          "output_type": "stream",
          "name": "stdout",
          "text": [
            "[400]\tvalid's rmse: 18.2622\n"
          ]
        },
        {
          "output_type": "stream",
          "name": "stdout",
          "text": [
            "[500]\tvalid's rmse: 18.2531\n"
          ]
        },
        {
          "output_type": "stream",
          "name": "stdout",
          "text": [
            "[600]\tvalid's rmse: 18.2561\n"
          ]
        },
        {
          "output_type": "stream",
          "name": "stdout",
          "text": [
            "[700]\tvalid's rmse: 18.2551\n"
          ]
        },
        {
          "output_type": "stream",
          "name": "stdout",
          "text": [
            "[800]\tvalid's rmse: 18.2561\n"
          ]
        },
        {
          "output_type": "stream",
          "name": "stdout",
          "text": [
            "Early stopping, best iteration is:\n[564]\tvalid's rmse: 18.2472\n  emb:vit_base_patch16_224_224 [raw] fold 1 RMSE: 18.2472\n"
          ]
        },
        {
          "output_type": "stream",
          "name": "stdout",
          "text": [
            "  Fold 2: PCA -> 512 dims\nTraining until validation scores don't improve for 300 rounds\n"
          ]
        },
        {
          "output_type": "stream",
          "name": "stdout",
          "text": [
            "[100]\tvalid's rmse: 18.8406\n"
          ]
        },
        {
          "output_type": "stream",
          "name": "stdout",
          "text": [
            "[200]\tvalid's rmse: 18.7079\n"
          ]
        },
        {
          "output_type": "stream",
          "name": "stdout",
          "text": [
            "[300]\tvalid's rmse: 18.6849\n"
          ]
        },
        {
          "output_type": "stream",
          "name": "stdout",
          "text": [
            "[400]\tvalid's rmse: 18.6634\n"
          ]
        },
        {
          "output_type": "stream",
          "name": "stdout",
          "text": [
            "[500]\tvalid's rmse: 18.6699\n"
          ]
        },
        {
          "output_type": "stream",
          "name": "stdout",
          "text": [
            "[600]\tvalid's rmse: 18.6686\n"
          ]
        },
        {
          "output_type": "stream",
          "name": "stdout",
          "text": [
            "[700]\tvalid's rmse: 18.673\n"
          ]
        },
        {
          "output_type": "stream",
          "name": "stdout",
          "text": [
            "[800]\tvalid's rmse: 18.6724\n"
          ]
        },
        {
          "output_type": "stream",
          "name": "stdout",
          "text": [
            "Early stopping, best iteration is:\n[549]\tvalid's rmse: 18.6575\n  emb:vit_base_patch16_224_224 [raw] fold 2 RMSE: 18.6575\n"
          ]
        },
        {
          "output_type": "stream",
          "name": "stdout",
          "text": [
            "  Fold 3: PCA -> 512 dims\nTraining until validation scores don't improve for 300 rounds\n"
          ]
        },
        {
          "output_type": "stream",
          "name": "stdout",
          "text": [
            "[100]\tvalid's rmse: 18.2232\n"
          ]
        },
        {
          "output_type": "stream",
          "name": "stdout",
          "text": [
            "[200]\tvalid's rmse: 18.0492\n"
          ]
        },
        {
          "output_type": "stream",
          "name": "stdout",
          "text": [
            "[300]\tvalid's rmse: 18.009\n"
          ]
        },
        {
          "output_type": "stream",
          "name": "stdout",
          "text": [
            "[400]\tvalid's rmse: 17.9849\n"
          ]
        },
        {
          "output_type": "stream",
          "name": "stdout",
          "text": [
            "[500]\tvalid's rmse: 17.9819\n"
          ]
        },
        {
          "output_type": "stream",
          "name": "stdout",
          "text": [
            "[600]\tvalid's rmse: 17.9908\n"
          ]
        },
        {
          "output_type": "stream",
          "name": "stdout",
          "text": [
            "Early stopping, best iteration is:\n[368]\tvalid's rmse: 17.978\n  emb:vit_base_patch16_224_224 [raw] fold 3 RMSE: 17.9780\n"
          ]
        },
        {
          "output_type": "stream",
          "name": "stdout",
          "text": [
            "  Fold 4: PCA -> 512 dims\n"
          ]
        },
        {
          "output_type": "stream",
          "name": "stdout",
          "text": [
            "Training until validation scores don't improve for 300 rounds\n"
          ]
        },
        {
          "output_type": "stream",
          "name": "stdout",
          "text": [
            "[100]\tvalid's rmse: 18.6034\n"
          ]
        },
        {
          "output_type": "stream",
          "name": "stdout",
          "text": [
            "[200]\tvalid's rmse: 18.4966\n"
          ]
        },
        {
          "output_type": "stream",
          "name": "stdout",
          "text": [
            "[300]\tvalid's rmse: 18.4568\n"
          ]
        },
        {
          "output_type": "stream",
          "name": "stdout",
          "text": [
            "[400]\tvalid's rmse: 18.4191\n"
          ]
        },
        {
          "output_type": "stream",
          "name": "stdout",
          "text": [
            "[500]\tvalid's rmse: 18.4306\n"
          ]
        },
        {
          "output_type": "stream",
          "name": "stdout",
          "text": [
            "[600]\tvalid's rmse: 18.4178\n"
          ]
        },
        {
          "output_type": "stream",
          "name": "stdout",
          "text": [
            "[700]\tvalid's rmse: 18.4183\n"
          ]
        },
        {
          "output_type": "stream",
          "name": "stdout",
          "text": [
            "Early stopping, best iteration is:\n[449]\tvalid's rmse: 18.4158\n  emb:vit_base_patch16_224_224 [raw] fold 4 RMSE: 18.4158\n"
          ]
        },
        {
          "output_type": "stream",
          "name": "stdout",
          "text": [
            "  Fold 0: PCA -> 512 dims\nTraining until validation scores don't improve for 300 rounds\n"
          ]
        },
        {
          "output_type": "stream",
          "name": "stdout",
          "text": [
            "[100]\tvalid's rmse: 1.46954\n"
          ]
        },
        {
          "output_type": "stream",
          "name": "stdout",
          "text": [
            "[200]\tvalid's rmse: 1.45437\n"
          ]
        },
        {
          "output_type": "stream",
          "name": "stdout",
          "text": [
            "[300]\tvalid's rmse: 1.45362\n"
          ]
        },
        {
          "output_type": "stream",
          "name": "stdout",
          "text": [
            "[400]\tvalid's rmse: 1.45446\n"
          ]
        },
        {
          "output_type": "stream",
          "name": "stdout",
          "text": [
            "[500]\tvalid's rmse: 1.45379\n"
          ]
        },
        {
          "output_type": "stream",
          "name": "stdout",
          "text": [
            "Early stopping, best iteration is:\n[256]\tvalid's rmse: 1.4517\n  emb:vit_base_patch16_224_224 [sqrt] fold 0 RMSE: 18.1066\n"
          ]
        },
        {
          "output_type": "stream",
          "name": "stdout",
          "text": [
            "  Fold 1: PCA -> 512 dims\n"
          ]
        },
        {
          "output_type": "stream",
          "name": "stdout",
          "text": [
            "Training until validation scores don't improve for 300 rounds\n"
          ]
        },
        {
          "output_type": "stream",
          "name": "stdout",
          "text": [
            "[100]\tvalid's rmse: 1.50446\n"
          ]
        },
        {
          "output_type": "stream",
          "name": "stdout",
          "text": [
            "[200]\tvalid's rmse: 1.49843\n"
          ]
        },
        {
          "output_type": "stream",
          "name": "stdout",
          "text": [
            "[300]\tvalid's rmse: 1.49585\n"
          ]
        },
        {
          "output_type": "stream",
          "name": "stdout",
          "text": [
            "[400]\tvalid's rmse: 1.49703\n"
          ]
        },
        {
          "output_type": "stream",
          "name": "stdout",
          "text": [
            "[500]\tvalid's rmse: 1.4978\n"
          ]
        },
        {
          "output_type": "stream",
          "name": "stdout",
          "text": [
            "[600]\tvalid's rmse: 1.49877\n"
          ]
        },
        {
          "output_type": "stream",
          "name": "stdout",
          "text": [
            "Early stopping, best iteration is:\n[336]\tvalid's rmse: 1.49517\n  emb:vit_base_patch16_224_224 [sqrt] fold 1 RMSE: 18.5152\n"
          ]
        },
        {
          "output_type": "stream",
          "name": "stdout",
          "text": [
            "  Fold 2: PCA -> 512 dims\n"
          ]
        },
        {
          "output_type": "stream",
          "name": "stdout",
          "text": [
            "Training until validation scores don't improve for 300 rounds\n"
          ]
        },
        {
          "output_type": "stream",
          "name": "stdout",
          "text": [
            "[100]\tvalid's rmse: 1.52728\n"
          ]
        },
        {
          "output_type": "stream",
          "name": "stdout",
          "text": [
            "[200]\tvalid's rmse: 1.52182\n"
          ]
        },
        {
          "output_type": "stream",
          "name": "stdout",
          "text": [
            "[300]\tvalid's rmse: 1.51693\n"
          ]
        },
        {
          "output_type": "stream",
          "name": "stdout",
          "text": [
            "[400]\tvalid's rmse: 1.51718\n"
          ]
        },
        {
          "output_type": "stream",
          "name": "stdout",
          "text": [
            "[500]\tvalid's rmse: 1.51805\n"
          ]
        },
        {
          "output_type": "stream",
          "name": "stdout",
          "text": [
            "[600]\tvalid's rmse: 1.51852\nEarly stopping, best iteration is:\n[315]\tvalid's rmse: 1.5159\n  emb:vit_base_patch16_224_224 [sqrt] fold 2 RMSE: 18.7998\n"
          ]
        },
        {
          "output_type": "stream",
          "name": "stdout",
          "text": [
            "  Fold 3: PCA -> 512 dims\n"
          ]
        },
        {
          "output_type": "stream",
          "name": "stdout",
          "text": [
            "Training until validation scores don't improve for 300 rounds\n"
          ]
        },
        {
          "output_type": "stream",
          "name": "stdout",
          "text": [
            "[100]\tvalid's rmse: 1.49329\n"
          ]
        },
        {
          "output_type": "stream",
          "name": "stdout",
          "text": [
            "[200]\tvalid's rmse: 1.48535\n"
          ]
        },
        {
          "output_type": "stream",
          "name": "stdout",
          "text": [
            "[300]\tvalid's rmse: 1.4812\n"
          ]
        },
        {
          "output_type": "stream",
          "name": "stdout",
          "text": [
            "[400]\tvalid's rmse: 1.48047\n"
          ]
        },
        {
          "output_type": "stream",
          "name": "stdout",
          "text": [
            "[500]\tvalid's rmse: 1.47966\n"
          ]
        },
        {
          "output_type": "stream",
          "name": "stdout",
          "text": [
            "[600]\tvalid's rmse: 1.47916\n"
          ]
        },
        {
          "output_type": "stream",
          "name": "stdout",
          "text": [
            "[700]\tvalid's rmse: 1.4793\n"
          ]
        },
        {
          "output_type": "stream",
          "name": "stdout",
          "text": [
            "[800]\tvalid's rmse: 1.47922\n"
          ]
        },
        {
          "output_type": "stream",
          "name": "stdout",
          "text": [
            "[900]\tvalid's rmse: 1.47924\n"
          ]
        },
        {
          "output_type": "stream",
          "name": "stdout",
          "text": [
            "[1000]\tvalid's rmse: 1.47915\n"
          ]
        },
        {
          "output_type": "stream",
          "name": "stdout",
          "text": [
            "Early stopping, best iteration is:\n[736]\tvalid's rmse: 1.47903\n  emb:vit_base_patch16_224_224 [sqrt] fold 3 RMSE: 18.3887\n"
          ]
        },
        {
          "output_type": "stream",
          "name": "stdout",
          "text": [
            "  Fold 4: PCA -> 512 dims\n"
          ]
        },
        {
          "output_type": "stream",
          "name": "stdout",
          "text": [
            "Training until validation scores don't improve for 300 rounds\n"
          ]
        },
        {
          "output_type": "stream",
          "name": "stdout",
          "text": [
            "[100]\tvalid's rmse: 1.50918\n"
          ]
        },
        {
          "output_type": "stream",
          "name": "stdout",
          "text": [
            "[200]\tvalid's rmse: 1.50462\n"
          ]
        },
        {
          "output_type": "stream",
          "name": "stdout",
          "text": [
            "[300]\tvalid's rmse: 1.50589\n"
          ]
        },
        {
          "output_type": "stream",
          "name": "stdout",
          "text": [
            "[400]\tvalid's rmse: 1.50716\n"
          ]
        },
        {
          "output_type": "stream",
          "name": "stdout",
          "text": [
            "[500]\tvalid's rmse: 1.50666\nEarly stopping, best iteration is:\n[212]\tvalid's rmse: 1.50284\n  emb:vit_base_patch16_224_224 [sqrt] fold 4 RMSE: 18.6707\nemb:vit_base_patch16_224_224 best target: raw | OOF RMSE: 18.24591\nNNLS-like blend weights: {'meta_stats': 0.0, 'emb:convnext_tiny_in22k_224': 0.032384446586774765, 'emb:deit3_small_patch16_224_224': 0.05806099820648654, 'emb:openclip_vit_b32_224': 0.24248823516498855, 'emb:swin_small_patch4_window7_224_224': 0.16702355124203574, 'emb:swin_tiny_patch4_window7_224_224': 0.028105946831819956, 'emb:tf_efficientnet_b0_224': 0.19094628513304182, 'emb:tf_efficientnetv2_s_in21k_224': 0.10936125649893741, 'emb:vit_base_patch16_224_224': 0.17162928033591524}\nSaved submission.csv. Head:\n                                 Id  Pawpularity\n0  ee51b99832f1ba868f646df93d2b6b81    51.831425\n1  caddfb3f8bff9c4b95dbe022018eea21    35.857884\n2  582eeabd4a448a53ebb79995888a4b0b    35.430708\n3  afc1ad7f0c5eea880759d09e77f7deee    33.104743\n4  d5bdf3446e86ce4ec67ce7a00f1cccc2    30.061956\nResults summary: {\n  \"meta_stats\": {\n    \"oof_rmse\": 20.607276333282545,\n    \"fold_rmses\": [\n      20.4286040897657,\n      20.614720212047942,\n      20.69943143509435,\n      20.635420228569792,\n      20.657144167529186\n    ],\n    \"used_pca\": false,\n    \"n_comp\": 22,\n    \"target\": \"raw\"\n  },\n  \"emb:convnext_tiny_in22k_224\": {\n    \"oof_rmse\": 18.318120381924416,\n    \"fold_rmses\": [\n      17.995043643188385,\n      18.546518135257383,\n      18.523549803854436,\n      18.02518310987044,\n      18.49171753762893\n    ],\n    \"used_pca\": true,\n    \"n_comp\": 512,\n    \"target\": \"raw\"\n  },\n  \"emb:deit3_small_patch16_224_224\": {\n    \"oof_rmse\": 18.500397307604896,\n    \"fold_rmses\": [\n      17.904233052720283,\n      18.72402441365623,\n      18.834756887013384,\n      18.30419610710493,\n      18.71847186942897\n    ],\n    \"used_pca\": false,\n    \"n_comp\": 384,\n    \"target\": \"raw\"\n  },\n  \"emb:openclip_vit_b32_224\": {\n    \"oof_rmse\": 18.248544231524136,\n    \"fold_rmses\": [\n      17.730713882637502,\n      18.29818487597382,\n      18.543445424316523,\n      18.259024654694333,\n      18.40091570441134\n    ],\n    \"used_pca\": true,\n    \"n_comp\": 512,\n    \"target\": \"raw\"\n  },\n  \"emb:swin_small_patch4_window7_224_224\": {\n    \"oof_rmse\": 18.208800900731976,\n    \"fold_rmses\": [\n      17.572044617045197,\n      18.496922994251157,\n      18.617639531237725,\n      18.041616866146107,\n      18.2967974813597\n    ],\n    \"used_pca\": true,\n    \"n_comp\": 512,\n    \"target\": \"raw\"\n  },\n  \"emb:swin_tiny_patch4_window7_224_224\": {\n    \"oof_rmse\": 18.361477374563425,\n    \"fold_rmses\": [\n      17.809841575882917,\n      18.548004599606518,\n      18.583089005059662,\n      18.37010541067753,\n      18.48535516371209\n    ],\n    \"used_pca\": true,\n    \"n_comp\": 512,\n    \"target\": \"raw\"\n  },\n  \"emb:tf_efficientnet_b0_224\": {\n    \"oof_rmse\": 18.216529373631676,\n    \"fold_rmses\": [\n      17.820999260670813,\n      18.3620389785354,\n      18.494442019193748,\n      18.018599294648805,\n      18.377783214017075\n    ],\n    \"used_pca\": true,\n    \"n_comp\": 512,\n    \"target\": \"raw\"\n  },\n  \"emb:tf_efficientnetv2_s_in21k_224\": {\n    \"oof_rmse\": 18.266754815966955,\n    \"fold_rmses\": [\n      17.91961306729545,\n      18.346910827317245,\n      18.53500754880674,\n      18.183208028785966,\n      18.34323932934731\n    ],\n    \"used_pca\": true,\n    \"n_comp\": 512,\n    \"target\": \"raw\"\n  },\n  \"emb:vit_base_patch16_224_224\": {\n    \"oof_rmse\": 18.245914437324217,\n    \"fold_rmses\": [\n      17.920708151521595,\n      18.247247010004948,\n      18.65751090903062,\n      17.97803843769775,\n      18.415770002546743\n    ],\n    \"used_pca\": true,\n    \"n_comp\": 512,\n    \"target\": \"raw\"\n  }\n}\n"
          ]
        }
      ]
    },
    {
      "id": "23197d28-ea19-4685-89f1-a0c450ce2e44",
      "cell_type": "code",
      "metadata": {},
      "source": [
        "# Compute blended OOF RMSE for current saved OOFs\n",
        "import glob, json\n",
        "import numpy as np, pandas as pd\n",
        "from sklearn.linear_model import LinearRegression\n",
        "\n",
        "def rmse(y_true, y_pred):\n",
        "    y_true = np.asarray(y_true, dtype=float)\n",
        "    y_pred = np.asarray(y_pred, dtype=float)\n",
        "    return float(np.sqrt(np.mean((y_true - y_pred) ** 2)))\n",
        "\n",
        "train_df = pd.read_csv('train.csv')\n",
        "y = train_df['Pawpularity'].values.astype(float)\n",
        "\n",
        "# discover OOF files\n",
        "oof_files = sorted(glob.glob('oof_*.npy'))\n",
        "names = [f[4:-4] for f in oof_files]  # strip 'oof_' and '.npy'\n",
        "if len(oof_files) == 0:\n",
        "    raise SystemExit('No oof_*.npy found.')\n",
        "print('OOF files:', names)\n",
        "\n",
        "O = np.vstack([np.load(f) for f in oof_files]).T  # (n_samples, n_models)\n",
        "single_scores = {n: rmse(y, O[:,i]) for i, n in enumerate(names)}\n",
        "print('Single OOF RMSEs:', json.dumps(single_scores, indent=2))\n",
        "\n",
        "# NNLS-like blend (non-negative, no intercept)\n",
        "reg = LinearRegression(fit_intercept=False, positive=True)\n",
        "reg.fit(O, y)\n",
        "w = reg.coef_.copy()\n",
        "w = w / (w.sum() if w.sum() > 0 else 1.0)\n",
        "blend_oof = O @ w\n",
        "blend_rmse = rmse(y, blend_oof)\n",
        "print('NNLS weights:', {n: float(wi) for n, wi in zip(names, w)})\n",
        "print(f'NNLS blend OOF RMSE: {blend_rmse:.5f}')\n",
        "\n",
        "# Inverse-variance weighting\n",
        "invw = np.array([1.0 / max(single_scores[n]**2, 1e-6) for n in names], dtype=float)\n",
        "invw = invw / invw.sum()\n",
        "blend_iv = O @ invw\n",
        "blend_iv_rmse = rmse(y, blend_iv)\n",
        "print('Inv-var weights:', {n: float(wi) for n, wi in zip(names, invw)})\n",
        "print(f'Inv-var blend OOF RMSE: {blend_iv_rmse:.5f}')"
      ],
      "execution_count": 18,
      "outputs": [
        {
          "output_type": "stream",
          "name": "stdout",
          "text": [
            "OOF files: ['emb:convnext_tiny_in22k_224', 'emb:deit3_small_patch16_224_224', 'emb:openclip_vit_b32_224', 'emb:swin_small_patch4_window7_224_224', 'emb:swin_tiny_patch4_window7_224_224', 'emb:tf_efficientnet_b0_224', 'emb:tf_efficientnetv2_s_in21k_224', 'emb:vit_base_patch16_224_224', 'meta_stats']\nSingle OOF RMSEs: {\n  \"emb:convnext_tiny_in22k_224\": 18.343681791120346,\n  \"emb:deit3_small_patch16_224_224\": 18.519840874368242,\n  \"emb:openclip_vit_b32_224\": 18.275847412336976,\n  \"emb:swin_small_patch4_window7_224_224\": 18.173627077168888,\n  \"emb:swin_tiny_patch4_window7_224_224\": 18.33451618004236,\n  \"emb:tf_efficientnet_b0_224\": 18.212714967463256,\n  \"emb:tf_efficientnetv2_s_in21k_224\": 18.284960028331636,\n  \"emb:vit_base_patch16_224_224\": 18.316501053056516,\n  \"meta_stats\": 20.603775323132393\n}\nNNLS weights: {'emb:convnext_tiny_in22k_224': 0.011721418495030226, 'emb:deit3_small_patch16_224_224': 0.05101623467959047, 'emb:openclip_vit_b32_224': 0.2438208130537412, 'emb:swin_small_patch4_window7_224_224': 0.22149610912172701, 'emb:swin_tiny_patch4_window7_224_224': 0.06399461981329854, 'emb:tf_efficientnet_b0_224': 0.19567316676891805, 'emb:tf_efficientnetv2_s_in21k_224': 0.0929816133947135, 'emb:vit_base_patch16_224_224': 0.11929602467298103, 'meta_stats': 0.0}\nNNLS blend OOF RMSE: 17.80387\nInv-var weights: {'emb:convnext_tiny_in22k_224': 0.11331715523345232, 'emb:deit3_small_patch16_224_224': 0.11117168231475326, 'emb:openclip_vit_b32_224': 0.1141599138957395, 'emb:swin_small_patch4_window7_224_224': 0.1154477452078604, 'emb:swin_tiny_patch4_window7_224_224': 0.1134304803489585, 'emb:tf_efficientnet_b0_224': 0.11495273209679784, 'emb:tf_efficientnetv2_s_in21k_224': 0.11404615524038847, 'emb:vit_base_patch16_224_224': 0.11365371833776604, 'meta_stats': 0.0898204173242837}\nInv-var blend OOF RMSE: 17.95569\n"
          ]
        }
      ]
    },
    {
      "id": "64ebc957-ac41-4b23-b884-a3585506c4e7",
      "cell_type": "code",
      "metadata": {},
      "source": [
        "# Add HGBR base learner per feature set with per-fold L2+PCA; save OOF/test for stacking\n",
        "import os, glob, time, math, json\n",
        "import numpy as np, pandas as pd\n",
        "from sklearn.decomposition import PCA\n",
        "from sklearn.ensemble import HistGradientBoostingRegressor\n",
        "\n",
        "def rmse(y_true, y_pred):\n",
        "    y_true = np.asarray(y_true, dtype=float)\n",
        "    y_pred = np.asarray(y_pred, dtype=float)\n",
        "    return float(np.sqrt(np.mean((y_true - y_pred) ** 2)))\n",
        "\n",
        "def load_feature_set(name):\n",
        "    if name == 'meta_stats':\n",
        "        X_tr = np.load('X_meta_stats_train.npy') if os.path.exists('X_meta_stats_train.npy') else None\n",
        "        X_te = np.load('X_meta_stats_test.npy') if os.path.exists('X_meta_stats_test.npy') else None\n",
        "        return X_tr, X_te\n",
        "    elif name.startswith('emb:'):\n",
        "        tag = name.split(':',1)[1]\n",
        "        tr_path = f\"X_img_train_{tag}.npy\"\n",
        "        te_path = f\"X_img_test_{tag}.npy\"\n",
        "        X_tr = np.load(tr_path) if os.path.exists(tr_path) else None\n",
        "        X_te = np.load(te_path) if os.path.exists(te_path) else None\n",
        "        return X_tr, X_te\n",
        "    else:\n",
        "        return None, None\n",
        "\n",
        "def discover_feature_sets():\n",
        "    feats = []\n",
        "    if os.path.exists('X_meta_stats_train.npy') and os.path.exists('X_meta_stats_test.npy'):\n",
        "        feats.append('meta_stats')\n",
        "    for tr_path in sorted(glob.glob('X_img_train_*.npy')):\n",
        "        tag = tr_path[len('X_img_train_'):-len('.npy')]\n",
        "        te_path = f\"X_img_test_{tag}.npy\"\n",
        "        if os.path.exists(te_path):\n",
        "            feats.append(f\"emb:{tag}\")\n",
        "    return feats\n",
        "\n",
        "train_df = pd.read_csv('train.csv')\n",
        "test_df = pd.read_csv('test.csv')\n",
        "folds_df = pd.read_csv('folds.csv')\n",
        "id2fold = dict(zip(folds_df['Id'], folds_df['fold']))\n",
        "train_df['fold'] = train_df['Id'].map(id2fold)\n",
        "y = train_df['Pawpularity'].values.astype(float)\n",
        "y_sqrt = np.sqrt(np.clip(y, 0, None))\n",
        "\n",
        "feature_sets = discover_feature_sets()\n",
        "print('Feature sets:', feature_sets)\n",
        "assert len(feature_sets) > 0, 'No feature sets found.'\n",
        "\n",
        "def l2norm(a):\n",
        "    n = np.linalg.norm(a, axis=1, keepdims=True) + 1e-12\n",
        "    return a / n\n",
        "\n",
        "def train_hgbr_for_fs(fs, X_tr, X_te, target_mode='raw'):\n",
        "    use_pca = fs.startswith('emb:') and X_tr.shape[1] >= 512\n",
        "    n_comp = 512 if X_tr.shape[1] >= 512 else X_tr.shape[1]\n",
        "    oof = np.zeros(len(train_df), dtype=float)\n",
        "    te_pred_accum = np.zeros(len(test_df), dtype=float)\n",
        "    fold_rmses = []\n",
        "    t0 = time.time()\n",
        "\n",
        "    for fold in range(5):\n",
        "        tr_idx = np.where(train_df['fold'].values != fold)[0]\n",
        "        va_idx = np.where(train_df['fold'].values == fold)[0]\n",
        "        X_tr_fold = X_tr[tr_idx].copy()\n",
        "        X_va_fold = X_tr[va_idx].copy()\n",
        "        X_te_fold = X_te.copy()\n",
        "\n",
        "        y_tr_fold_raw = y[tr_idx]\n",
        "        y_va_fold_raw = y[va_idx]\n",
        "\n",
        "        if target_mode == 'sqrt':\n",
        "            y_tr_fold = y_sqrt[tr_idx]\n",
        "            eval_y = y_va_fold_raw\n",
        "        else:\n",
        "            y_tr_fold = y_tr_fold_raw\n",
        "            eval_y = y_va_fold_raw\n",
        "\n",
        "        if use_pca:\n",
        "            X_tr_fold = l2norm(X_tr_fold)\n",
        "            X_va_fold = l2norm(X_va_fold)\n",
        "            X_te_fold = l2norm(X_te_fold)\n",
        "            pca = PCA(n_components=min(n_comp, X_tr.shape[1]), whiten=False, random_state=42)\n",
        "            X_tr_fold = pca.fit_transform(X_tr_fold)\n",
        "            X_va_fold = pca.transform(X_va_fold)\n",
        "            X_te_fold = pca.transform(X_te_fold)\n",
        "            print(f'  {fs} [{target_mode}] fold {fold}: PCA -> {X_tr_fold.shape[1]} dims', flush=True)\n",
        "\n",
        "        model = HistGradientBoostingRegressor(\n",
        "            learning_rate=0.04,\n",
        "            max_iter=2000,\n",
        "            max_leaf_nodes=31,\n",
        "            min_samples_leaf=30,\n",
        "            l2_regularization=1.0,\n",
        "            validation_fraction=0.12,\n",
        "            early_stopping=True,\n",
        "            random_state=42\n",
        "        )\n",
        "        model.fit(X_tr_fold, y_tr_fold)\n",
        "        va_pred = model.predict(X_va_fold)\n",
        "        te_pred = model.predict(X_te_fold)\n",
        "\n",
        "        if target_mode == 'sqrt':\n",
        "            va_pred = np.clip(va_pred, 0, None) ** 2\n",
        "            te_pred = np.clip(te_pred, 0, None) ** 2\n",
        "\n",
        "        va_pred = np.clip(va_pred, 1.0, 100.0)\n",
        "        te_pred = np.clip(te_pred, 1.0, 100.0)\n",
        "\n",
        "        oof[va_idx] = va_pred\n",
        "        f_rmse = rmse(eval_y, va_pred)\n",
        "        fold_rmses.append(f_rmse)\n",
        "        te_pred_accum += te_pred\n",
        "        print(f'    {fs} [HGBR|{target_mode}] fold {fold} RMSE: {f_rmse:.4f} | elapsed {time.time()-t0:.1f}s', flush=True)\n",
        "\n",
        "    te_mean = te_pred_accum / 5.0\n",
        "    fs_oof_rmse = rmse(y, oof)\n",
        "    return {'oof': oof, 'test_pred': te_mean, 'oof_rmse': fs_oof_rmse, 'fold_rmses': fold_rmses, 'used_pca': use_pca, 'n_comp': int(n_comp) if use_pca else int(X_tr.shape[1]), 'target': target_mode}\n",
        "\n",
        "results_hgbr = {}\n",
        "for fs in feature_sets:\n",
        "    X_tr, X_te = load_feature_set(fs)\n",
        "    if X_tr is None or X_te is None:\n",
        "        print(f'[Skip] {fs}: features missing')\n",
        "        continue\n",
        "    print(f'=== HGBR training for {fs}: train {X_tr.shape}, test {X_te.shape} ===', flush=True)\n",
        "    res_raw = train_hgbr_for_fs(fs, X_tr, X_te, target_mode='raw')\n",
        "    res_sqrt = train_hgbr_for_fs(fs, X_tr, X_te, target_mode='sqrt') if fs.startswith('emb:') else None\n",
        "    best = res_raw if (res_sqrt is None or res_raw['oof_rmse'] <= res_sqrt['oof_rmse']) else res_sqrt\n",
        "    results_hgbr[fs] = {k: best[k] for k in ['oof_rmse','fold_rmses','used_pca','n_comp','target']}\n",
        "    np.save(f'oof_hgb_{fs}.npy', best['oof'])\n",
        "    np.save(f'test_pred_hgb_{fs}.npy', best['test_pred'])\n",
        "    print(f'>>> {fs} [HGBR] best target: {best[\"target\"]} | OOF RMSE: {best[\"oof_rmse\"]:.5f}', flush=True)\n",
        "\n",
        "print('HGBR results:', json.dumps(results_hgbr, indent=2))"
      ],
      "execution_count": 29,
      "outputs": [
        {
          "output_type": "stream",
          "name": "stdout",
          "text": [
            "Feature sets: ['meta_stats', 'emb:convnext_tiny_in22k_224', 'emb:deit3_small_patch16_224_224', 'emb:openclip_vit_b16_224', 'emb:openclip_vit_b32_224', 'emb:swin_small_patch4_window7_224_224', 'emb:swin_tiny_patch4_window7_224_224', 'emb:tf_efficientnet_b0_224', 'emb:tf_efficientnetv2_s_in21k_224', 'emb:vit_base_patch16_224_224']\n=== HGBR training for meta_stats: train (8920, 39), test (992, 39) ===\n"
          ]
        },
        {
          "output_type": "stream",
          "name": "stdout",
          "text": [
            "    meta_stats [HGBR|raw] fold 0 RMSE: 20.4575 | elapsed 0.1s\n"
          ]
        },
        {
          "output_type": "stream",
          "name": "stdout",
          "text": [
            "    meta_stats [HGBR|raw] fold 1 RMSE: 20.6736 | elapsed 0.2s\n"
          ]
        },
        {
          "output_type": "stream",
          "name": "stdout",
          "text": [
            "    meta_stats [HGBR|raw] fold 2 RMSE: 20.7505 | elapsed 0.3s\n"
          ]
        },
        {
          "output_type": "stream",
          "name": "stdout",
          "text": [
            "    meta_stats [HGBR|raw] fold 3 RMSE: 20.6603 | elapsed 0.4s\n"
          ]
        },
        {
          "output_type": "stream",
          "name": "stdout",
          "text": [
            "    meta_stats [HGBR|raw] fold 4 RMSE: 20.6912 | elapsed 0.5s\n"
          ]
        },
        {
          "output_type": "stream",
          "name": "stdout",
          "text": [
            ">>> meta_stats [HGBR] best target: raw | OOF RMSE: 20.64686\n"
          ]
        },
        {
          "output_type": "stream",
          "name": "stdout",
          "text": [
            "=== HGBR training for emb:convnext_tiny_in22k_224: train (8920, 768), test (992, 768) ===\n"
          ]
        },
        {
          "output_type": "stream",
          "name": "stdout",
          "text": [
            "  emb:convnext_tiny_in22k_224 [raw] fold 0: PCA -> 512 dims\n"
          ]
        },
        {
          "output_type": "stream",
          "name": "stdout",
          "text": [
            "    emb:convnext_tiny_in22k_224 [HGBR|raw] fold 0 RMSE: 18.0900 | elapsed 6.9s\n"
          ]
        },
        {
          "output_type": "stream",
          "name": "stdout",
          "text": [
            "  emb:convnext_tiny_in22k_224 [raw] fold 1: PCA -> 512 dims\n"
          ]
        },
        {
          "output_type": "stream",
          "name": "stdout",
          "text": [
            "    emb:convnext_tiny_in22k_224 [HGBR|raw] fold 1 RMSE: 18.6785 | elapsed 15.1s\n"
          ]
        },
        {
          "output_type": "stream",
          "name": "stdout",
          "text": [
            "  emb:convnext_tiny_in22k_224 [raw] fold 2: PCA -> 512 dims\n"
          ]
        },
        {
          "output_type": "stream",
          "name": "stdout",
          "text": [
            "    emb:convnext_tiny_in22k_224 [HGBR|raw] fold 2 RMSE: 18.6102 | elapsed 19.6s\n"
          ]
        },
        {
          "output_type": "stream",
          "name": "stdout",
          "text": [
            "  emb:convnext_tiny_in22k_224 [raw] fold 3: PCA -> 512 dims\n"
          ]
        },
        {
          "output_type": "stream",
          "name": "stdout",
          "text": [
            "    emb:convnext_tiny_in22k_224 [HGBR|raw] fold 3 RMSE: 18.2815 | elapsed 23.9s\n"
          ]
        },
        {
          "output_type": "stream",
          "name": "stdout",
          "text": [
            "  emb:convnext_tiny_in22k_224 [raw] fold 4: PCA -> 512 dims\n"
          ]
        },
        {
          "output_type": "stream",
          "name": "stdout",
          "text": [
            "    emb:convnext_tiny_in22k_224 [HGBR|raw] fold 4 RMSE: 18.6253 | elapsed 27.8s\n"
          ]
        },
        {
          "output_type": "stream",
          "name": "stdout",
          "text": [
            "  emb:convnext_tiny_in22k_224 [sqrt] fold 0: PCA -> 512 dims\n"
          ]
        },
        {
          "output_type": "stream",
          "name": "stdout",
          "text": [
            "    emb:convnext_tiny_in22k_224 [HGBR|sqrt] fold 0 RMSE: 18.3446 | elapsed 5.0s\n"
          ]
        },
        {
          "output_type": "stream",
          "name": "stdout",
          "text": [
            "  emb:convnext_tiny_in22k_224 [sqrt] fold 1: PCA -> 512 dims\n"
          ]
        },
        {
          "output_type": "stream",
          "name": "stdout",
          "text": [
            "    emb:convnext_tiny_in22k_224 [HGBR|sqrt] fold 1 RMSE: 19.0753 | elapsed 12.4s\n"
          ]
        },
        {
          "output_type": "stream",
          "name": "stdout",
          "text": [
            "  emb:convnext_tiny_in22k_224 [sqrt] fold 2: PCA -> 512 dims\n"
          ]
        },
        {
          "output_type": "stream",
          "name": "stdout",
          "text": [
            "    emb:convnext_tiny_in22k_224 [HGBR|sqrt] fold 2 RMSE: 18.8151 | elapsed 19.2s\n"
          ]
        },
        {
          "output_type": "stream",
          "name": "stdout",
          "text": [
            "  emb:convnext_tiny_in22k_224 [sqrt] fold 3: PCA -> 512 dims\n"
          ]
        },
        {
          "output_type": "stream",
          "name": "stdout",
          "text": [
            "    emb:convnext_tiny_in22k_224 [HGBR|sqrt] fold 3 RMSE: 18.7492 | elapsed 23.1s\n"
          ]
        },
        {
          "output_type": "stream",
          "name": "stdout",
          "text": [
            "  emb:convnext_tiny_in22k_224 [sqrt] fold 4: PCA -> 512 dims\n"
          ]
        },
        {
          "output_type": "stream",
          "name": "stdout",
          "text": [
            "    emb:convnext_tiny_in22k_224 [HGBR|sqrt] fold 4 RMSE: 18.9403 | elapsed 27.0s\n"
          ]
        },
        {
          "output_type": "stream",
          "name": "stdout",
          "text": [
            ">>> emb:convnext_tiny_in22k_224 [HGBR] best target: raw | OOF RMSE: 18.45852\n"
          ]
        },
        {
          "output_type": "stream",
          "name": "stdout",
          "text": [
            "=== HGBR training for emb:deit3_small_patch16_224_224: train (8920, 384), test (992, 384) ===\n"
          ]
        },
        {
          "output_type": "stream",
          "name": "stdout",
          "text": [
            "    emb:deit3_small_patch16_224_224 [HGBR|raw] fold 0 RMSE: 18.2919 | elapsed 0.9s\n"
          ]
        },
        {
          "output_type": "stream",
          "name": "stdout",
          "text": [
            "    emb:deit3_small_patch16_224_224 [HGBR|raw] fold 1 RMSE: 18.8236 | elapsed 2.2s\n"
          ]
        },
        {
          "output_type": "stream",
          "name": "stdout",
          "text": [
            "    emb:deit3_small_patch16_224_224 [HGBR|raw] fold 2 RMSE: 19.0473 | elapsed 3.2s\n"
          ]
        },
        {
          "output_type": "stream",
          "name": "stdout",
          "text": [
            "    emb:deit3_small_patch16_224_224 [HGBR|raw] fold 3 RMSE: 18.5428 | elapsed 4.3s\n"
          ]
        },
        {
          "output_type": "stream",
          "name": "stdout",
          "text": [
            "    emb:deit3_small_patch16_224_224 [HGBR|raw] fold 4 RMSE: 18.7662 | elapsed 5.7s\n"
          ]
        },
        {
          "output_type": "stream",
          "name": "stdout",
          "text": [
            "    emb:deit3_small_patch16_224_224 [HGBR|sqrt] fold 0 RMSE: 18.4276 | elapsed 1.0s\n"
          ]
        },
        {
          "output_type": "stream",
          "name": "stdout",
          "text": [
            "    emb:deit3_small_patch16_224_224 [HGBR|sqrt] fold 1 RMSE: 18.9991 | elapsed 1.9s\n"
          ]
        },
        {
          "output_type": "stream",
          "name": "stdout",
          "text": [
            "    emb:deit3_small_patch16_224_224 [HGBR|sqrt] fold 2 RMSE: 19.1043 | elapsed 3.1s\n"
          ]
        },
        {
          "output_type": "stream",
          "name": "stdout",
          "text": [
            "    emb:deit3_small_patch16_224_224 [HGBR|sqrt] fold 3 RMSE: 18.9386 | elapsed 4.0s\n"
          ]
        },
        {
          "output_type": "stream",
          "name": "stdout",
          "text": [
            "    emb:deit3_small_patch16_224_224 [HGBR|sqrt] fold 4 RMSE: 18.9599 | elapsed 5.2s\n"
          ]
        },
        {
          "output_type": "stream",
          "name": "stdout",
          "text": [
            ">>> emb:deit3_small_patch16_224_224 [HGBR] best target: raw | OOF RMSE: 18.69613\n"
          ]
        },
        {
          "output_type": "stream",
          "name": "stdout",
          "text": [
            "=== HGBR training for emb:openclip_vit_b16_224: train (8920, 512), test (992, 512) ===\n"
          ]
        },
        {
          "output_type": "stream",
          "name": "stdout",
          "text": [
            "  emb:openclip_vit_b16_224 [raw] fold 0: PCA -> 512 dims\n"
          ]
        },
        {
          "output_type": "stream",
          "name": "stdout",
          "text": [
            "    emb:openclip_vit_b16_224 [HGBR|raw] fold 0 RMSE: 17.7838 | elapsed 1.6s\n"
          ]
        },
        {
          "output_type": "stream",
          "name": "stdout",
          "text": [
            "  emb:openclip_vit_b16_224 [raw] fold 1: PCA -> 512 dims\n"
          ]
        },
        {
          "output_type": "stream",
          "name": "stdout",
          "text": [
            "    emb:openclip_vit_b16_224 [HGBR|raw] fold 1 RMSE: 18.3470 | elapsed 3.3s\n"
          ]
        },
        {
          "output_type": "stream",
          "name": "stdout",
          "text": [
            "  emb:openclip_vit_b16_224 [raw] fold 2: PCA -> 512 dims\n"
          ]
        },
        {
          "output_type": "stream",
          "name": "stdout",
          "text": [
            "    emb:openclip_vit_b16_224 [HGBR|raw] fold 2 RMSE: 18.5573 | elapsed 5.0s\n"
          ]
        },
        {
          "output_type": "stream",
          "name": "stdout",
          "text": [
            "  emb:openclip_vit_b16_224 [raw] fold 3: PCA -> 512 dims\n"
          ]
        },
        {
          "output_type": "stream",
          "name": "stdout",
          "text": [
            "    emb:openclip_vit_b16_224 [HGBR|raw] fold 3 RMSE: 18.1927 | elapsed 6.5s\n"
          ]
        },
        {
          "output_type": "stream",
          "name": "stdout",
          "text": [
            "  emb:openclip_vit_b16_224 [raw] fold 4: PCA -> 512 dims\n"
          ]
        },
        {
          "output_type": "stream",
          "name": "stdout",
          "text": [
            "    emb:openclip_vit_b16_224 [HGBR|raw] fold 4 RMSE: 18.7329 | elapsed 8.1s\n"
          ]
        },
        {
          "output_type": "stream",
          "name": "stdout",
          "text": [
            "  emb:openclip_vit_b16_224 [sqrt] fold 0: PCA -> 512 dims\n"
          ]
        },
        {
          "output_type": "stream",
          "name": "stdout",
          "text": [
            "    emb:openclip_vit_b16_224 [HGBR|sqrt] fold 0 RMSE: 18.0295 | elapsed 1.7s\n"
          ]
        },
        {
          "output_type": "stream",
          "name": "stdout",
          "text": [
            "  emb:openclip_vit_b16_224 [sqrt] fold 1: PCA -> 512 dims\n"
          ]
        },
        {
          "output_type": "stream",
          "name": "stdout",
          "text": [
            "    emb:openclip_vit_b16_224 [HGBR|sqrt] fold 1 RMSE: 18.6063 | elapsed 3.2s\n"
          ]
        },
        {
          "output_type": "stream",
          "name": "stdout",
          "text": [
            "  emb:openclip_vit_b16_224 [sqrt] fold 2: PCA -> 512 dims\n"
          ]
        },
        {
          "output_type": "stream",
          "name": "stdout",
          "text": [
            "    emb:openclip_vit_b16_224 [HGBR|sqrt] fold 2 RMSE: 18.8867 | elapsed 4.7s\n"
          ]
        },
        {
          "output_type": "stream",
          "name": "stdout",
          "text": [
            "  emb:openclip_vit_b16_224 [sqrt] fold 3: PCA -> 512 dims\n"
          ]
        },
        {
          "output_type": "stream",
          "name": "stdout",
          "text": [
            "    emb:openclip_vit_b16_224 [HGBR|sqrt] fold 3 RMSE: 18.3887 | elapsed 6.5s\n"
          ]
        },
        {
          "output_type": "stream",
          "name": "stdout",
          "text": [
            "  emb:openclip_vit_b16_224 [sqrt] fold 4: PCA -> 512 dims\n"
          ]
        },
        {
          "output_type": "stream",
          "name": "stdout",
          "text": [
            "    emb:openclip_vit_b16_224 [HGBR|sqrt] fold 4 RMSE: 18.7899 | elapsed 7.9s\n"
          ]
        },
        {
          "output_type": "stream",
          "name": "stdout",
          "text": [
            ">>> emb:openclip_vit_b16_224 [HGBR] best target: raw | OOF RMSE: 18.32564\n"
          ]
        },
        {
          "output_type": "stream",
          "name": "stdout",
          "text": [
            "=== HGBR training for emb:openclip_vit_b32_224: train (8920, 512), test (992, 512) ===\n"
          ]
        },
        {
          "output_type": "stream",
          "name": "stdout",
          "text": [
            "  emb:openclip_vit_b32_224 [raw] fold 0: PCA -> 512 dims\n"
          ]
        },
        {
          "output_type": "stream",
          "name": "stdout",
          "text": [
            "    emb:openclip_vit_b32_224 [HGBR|raw] fold 0 RMSE: 17.8975 | elapsed 1.5s\n"
          ]
        },
        {
          "output_type": "stream",
          "name": "stdout",
          "text": [
            "  emb:openclip_vit_b32_224 [raw] fold 1: PCA -> 512 dims\n"
          ]
        },
        {
          "output_type": "stream",
          "name": "stdout",
          "text": [
            "    emb:openclip_vit_b32_224 [HGBR|raw] fold 1 RMSE: 18.4212 | elapsed 3.0s\n"
          ]
        },
        {
          "output_type": "stream",
          "name": "stdout",
          "text": [
            "  emb:openclip_vit_b32_224 [raw] fold 2: PCA -> 512 dims\n"
          ]
        },
        {
          "output_type": "stream",
          "name": "stdout",
          "text": [
            "    emb:openclip_vit_b32_224 [HGBR|raw] fold 2 RMSE: 18.8548 | elapsed 4.4s\n"
          ]
        },
        {
          "output_type": "stream",
          "name": "stdout",
          "text": [
            "  emb:openclip_vit_b32_224 [raw] fold 3: PCA -> 512 dims\n"
          ]
        },
        {
          "output_type": "stream",
          "name": "stdout",
          "text": [
            "    emb:openclip_vit_b32_224 [HGBR|raw] fold 3 RMSE: 18.5235 | elapsed 5.8s\n"
          ]
        },
        {
          "output_type": "stream",
          "name": "stdout",
          "text": [
            "  emb:openclip_vit_b32_224 [raw] fold 4: PCA -> 512 dims\n"
          ]
        },
        {
          "output_type": "stream",
          "name": "stdout",
          "text": [
            "    emb:openclip_vit_b32_224 [HGBR|raw] fold 4 RMSE: 18.7496 | elapsed 7.0s\n"
          ]
        },
        {
          "output_type": "stream",
          "name": "stdout",
          "text": [
            "  emb:openclip_vit_b32_224 [sqrt] fold 0: PCA -> 512 dims\n"
          ]
        },
        {
          "output_type": "stream",
          "name": "stdout",
          "text": [
            "    emb:openclip_vit_b32_224 [HGBR|sqrt] fold 0 RMSE: 18.1973 | elapsed 1.7s\n"
          ]
        },
        {
          "output_type": "stream",
          "name": "stdout",
          "text": [
            "  emb:openclip_vit_b32_224 [sqrt] fold 1: PCA -> 512 dims\n"
          ]
        },
        {
          "output_type": "stream",
          "name": "stdout",
          "text": [
            "    emb:openclip_vit_b32_224 [HGBR|sqrt] fold 1 RMSE: 18.7197 | elapsed 3.2s\n"
          ]
        },
        {
          "output_type": "stream",
          "name": "stdout",
          "text": [
            "  emb:openclip_vit_b32_224 [sqrt] fold 2: PCA -> 512 dims\n"
          ]
        },
        {
          "output_type": "stream",
          "name": "stdout",
          "text": [
            "    emb:openclip_vit_b32_224 [HGBR|sqrt] fold 2 RMSE: 19.1572 | elapsed 4.6s\n"
          ]
        },
        {
          "output_type": "stream",
          "name": "stdout",
          "text": [
            "  emb:openclip_vit_b32_224 [sqrt] fold 3: PCA -> 512 dims\n"
          ]
        },
        {
          "output_type": "stream",
          "name": "stdout",
          "text": [
            "    emb:openclip_vit_b32_224 [HGBR|sqrt] fold 3 RMSE: 18.7546 | elapsed 5.8s\n"
          ]
        },
        {
          "output_type": "stream",
          "name": "stdout",
          "text": [
            "  emb:openclip_vit_b32_224 [sqrt] fold 4: PCA -> 512 dims\n"
          ]
        },
        {
          "output_type": "stream",
          "name": "stdout",
          "text": [
            "    emb:openclip_vit_b32_224 [HGBR|sqrt] fold 4 RMSE: 18.9996 | elapsed 7.3s\n"
          ]
        },
        {
          "output_type": "stream",
          "name": "stdout",
          "text": [
            ">>> emb:openclip_vit_b32_224 [HGBR] best target: raw | OOF RMSE: 18.49235\n"
          ]
        },
        {
          "output_type": "stream",
          "name": "stdout",
          "text": [
            "=== HGBR training for emb:swin_small_patch4_window7_224_224: train (8920, 768), test (992, 768) ===\n"
          ]
        },
        {
          "output_type": "stream",
          "name": "stdout",
          "text": [
            "  emb:swin_small_patch4_window7_224_224 [raw] fold 0: PCA -> 512 dims\n"
          ]
        },
        {
          "output_type": "stream",
          "name": "stdout",
          "text": [
            "    emb:swin_small_patch4_window7_224_224 [HGBR|raw] fold 0 RMSE: 17.6175 | elapsed 3.5s\n"
          ]
        },
        {
          "output_type": "stream",
          "name": "stdout",
          "text": [
            "  emb:swin_small_patch4_window7_224_224 [raw] fold 1: PCA -> 512 dims\n"
          ]
        },
        {
          "output_type": "stream",
          "name": "stdout",
          "text": [
            "    emb:swin_small_patch4_window7_224_224 [HGBR|raw] fold 1 RMSE: 18.6928 | elapsed 10.1s\n"
          ]
        },
        {
          "output_type": "stream",
          "name": "stdout",
          "text": [
            "  emb:swin_small_patch4_window7_224_224 [raw] fold 2: PCA -> 512 dims\n"
          ]
        },
        {
          "output_type": "stream",
          "name": "stdout",
          "text": [
            "    emb:swin_small_patch4_window7_224_224 [HGBR|raw] fold 2 RMSE: 18.5159 | elapsed 15.2s\n"
          ]
        },
        {
          "output_type": "stream",
          "name": "stdout",
          "text": [
            "  emb:swin_small_patch4_window7_224_224 [raw] fold 3: PCA -> 512 dims\n"
          ]
        },
        {
          "output_type": "stream",
          "name": "stdout",
          "text": [
            "    emb:swin_small_patch4_window7_224_224 [HGBR|raw] fold 3 RMSE: 18.1963 | elapsed 19.6s\n"
          ]
        },
        {
          "output_type": "stream",
          "name": "stdout",
          "text": [
            "  emb:swin_small_patch4_window7_224_224 [raw] fold 4: PCA -> 512 dims\n"
          ]
        },
        {
          "output_type": "stream",
          "name": "stdout",
          "text": [
            "    emb:swin_small_patch4_window7_224_224 [HGBR|raw] fold 4 RMSE: 18.4639 | elapsed 24.7s\n"
          ]
        },
        {
          "output_type": "stream",
          "name": "stdout",
          "text": [
            "  emb:swin_small_patch4_window7_224_224 [sqrt] fold 0: PCA -> 512 dims\n"
          ]
        },
        {
          "output_type": "stream",
          "name": "stdout",
          "text": [
            "    emb:swin_small_patch4_window7_224_224 [HGBR|sqrt] fold 0 RMSE: 18.0737 | elapsed 4.6s\n"
          ]
        },
        {
          "output_type": "stream",
          "name": "stdout",
          "text": [
            "  emb:swin_small_patch4_window7_224_224 [sqrt] fold 1: PCA -> 512 dims\n"
          ]
        },
        {
          "output_type": "stream",
          "name": "stdout",
          "text": [
            "    emb:swin_small_patch4_window7_224_224 [HGBR|sqrt] fold 1 RMSE: 18.8576 | elapsed 9.4s\n"
          ]
        },
        {
          "output_type": "stream",
          "name": "stdout",
          "text": [
            "  emb:swin_small_patch4_window7_224_224 [sqrt] fold 2: PCA -> 512 dims\n"
          ]
        },
        {
          "output_type": "stream",
          "name": "stdout",
          "text": [
            "    emb:swin_small_patch4_window7_224_224 [HGBR|sqrt] fold 2 RMSE: 19.0208 | elapsed 14.4s\n"
          ]
        },
        {
          "output_type": "stream",
          "name": "stdout",
          "text": [
            "  emb:swin_small_patch4_window7_224_224 [sqrt] fold 3: PCA -> 512 dims\n"
          ]
        },
        {
          "output_type": "stream",
          "name": "stdout",
          "text": [
            "    emb:swin_small_patch4_window7_224_224 [HGBR|sqrt] fold 3 RMSE: 18.6574 | elapsed 17.9s\n"
          ]
        },
        {
          "output_type": "stream",
          "name": "stdout",
          "text": [
            "  emb:swin_small_patch4_window7_224_224 [sqrt] fold 4: PCA -> 512 dims\n"
          ]
        },
        {
          "output_type": "stream",
          "name": "stdout",
          "text": [
            "    emb:swin_small_patch4_window7_224_224 [HGBR|sqrt] fold 4 RMSE: 18.8841 | elapsed 24.5s\n"
          ]
        },
        {
          "output_type": "stream",
          "name": "stdout",
          "text": [
            ">>> emb:swin_small_patch4_window7_224_224 [HGBR] best target: raw | OOF RMSE: 18.30112\n"
          ]
        },
        {
          "output_type": "stream",
          "name": "stdout",
          "text": [
            "=== HGBR training for emb:swin_tiny_patch4_window7_224_224: train (8920, 768), test (992, 768) ===\n"
          ]
        },
        {
          "output_type": "stream",
          "name": "stdout",
          "text": [
            "  emb:swin_tiny_patch4_window7_224_224 [raw] fold 0: PCA -> 512 dims\n"
          ]
        },
        {
          "output_type": "stream",
          "name": "stdout",
          "text": [
            "    emb:swin_tiny_patch4_window7_224_224 [HGBR|raw] fold 0 RMSE: 17.8739 | elapsed 7.5s\n"
          ]
        },
        {
          "output_type": "stream",
          "name": "stdout",
          "text": [
            "  emb:swin_tiny_patch4_window7_224_224 [raw] fold 1: PCA -> 512 dims\n"
          ]
        },
        {
          "output_type": "stream",
          "name": "stdout",
          "text": [
            "    emb:swin_tiny_patch4_window7_224_224 [HGBR|raw] fold 1 RMSE: 18.6021 | elapsed 15.5s\n"
          ]
        },
        {
          "output_type": "stream",
          "name": "stdout",
          "text": [
            "  emb:swin_tiny_patch4_window7_224_224 [raw] fold 2: PCA -> 512 dims\n"
          ]
        },
        {
          "output_type": "stream",
          "name": "stdout",
          "text": [
            "    emb:swin_tiny_patch4_window7_224_224 [HGBR|raw] fold 2 RMSE: 18.6202 | elapsed 18.7s\n"
          ]
        },
        {
          "output_type": "stream",
          "name": "stdout",
          "text": [
            "  emb:swin_tiny_patch4_window7_224_224 [raw] fold 3: PCA -> 512 dims\n"
          ]
        },
        {
          "output_type": "stream",
          "name": "stdout",
          "text": [
            "    emb:swin_tiny_patch4_window7_224_224 [HGBR|raw] fold 3 RMSE: 18.4655 | elapsed 23.6s\n"
          ]
        },
        {
          "output_type": "stream",
          "name": "stdout",
          "text": [
            "  emb:swin_tiny_patch4_window7_224_224 [raw] fold 4: PCA -> 512 dims\n"
          ]
        },
        {
          "output_type": "stream",
          "name": "stdout",
          "text": [
            "    emb:swin_tiny_patch4_window7_224_224 [HGBR|raw] fold 4 RMSE: 18.6933 | elapsed 31.1s\n"
          ]
        },
        {
          "output_type": "stream",
          "name": "stdout",
          "text": [
            "  emb:swin_tiny_patch4_window7_224_224 [sqrt] fold 0: PCA -> 512 dims\n"
          ]
        },
        {
          "output_type": "stream",
          "name": "stdout",
          "text": [
            "    emb:swin_tiny_patch4_window7_224_224 [HGBR|sqrt] fold 0 RMSE: 18.2598 | elapsed 4.3s\n"
          ]
        },
        {
          "output_type": "stream",
          "name": "stdout",
          "text": [
            "  emb:swin_tiny_patch4_window7_224_224 [sqrt] fold 1: PCA -> 512 dims\n"
          ]
        },
        {
          "output_type": "stream",
          "name": "stdout",
          "text": [
            "    emb:swin_tiny_patch4_window7_224_224 [HGBR|sqrt] fold 1 RMSE: 18.9485 | elapsed 8.4s\n"
          ]
        },
        {
          "output_type": "stream",
          "name": "stdout",
          "text": [
            "  emb:swin_tiny_patch4_window7_224_224 [sqrt] fold 2: PCA -> 512 dims\n"
          ]
        },
        {
          "output_type": "stream",
          "name": "stdout",
          "text": [
            "    emb:swin_tiny_patch4_window7_224_224 [HGBR|sqrt] fold 2 RMSE: 18.8192 | elapsed 12.2s\n"
          ]
        },
        {
          "output_type": "stream",
          "name": "stdout",
          "text": [
            "  emb:swin_tiny_patch4_window7_224_224 [sqrt] fold 3: PCA -> 512 dims\n"
          ]
        },
        {
          "output_type": "stream",
          "name": "stdout",
          "text": [
            "    emb:swin_tiny_patch4_window7_224_224 [HGBR|sqrt] fold 3 RMSE: 18.8308 | elapsed 16.0s\n"
          ]
        },
        {
          "output_type": "stream",
          "name": "stdout",
          "text": [
            "  emb:swin_tiny_patch4_window7_224_224 [sqrt] fold 4: PCA -> 512 dims\n"
          ]
        },
        {
          "output_type": "stream",
          "name": "stdout",
          "text": [
            "    emb:swin_tiny_patch4_window7_224_224 [HGBR|sqrt] fold 4 RMSE: 18.8900 | elapsed 20.7s\n"
          ]
        },
        {
          "output_type": "stream",
          "name": "stdout",
          "text": [
            ">>> emb:swin_tiny_patch4_window7_224_224 [HGBR] best target: raw | OOF RMSE: 18.45341\n"
          ]
        },
        {
          "output_type": "stream",
          "name": "stdout",
          "text": [
            "=== HGBR training for emb:tf_efficientnet_b0_224: train (8920, 1280), test (992, 1280) ===\n"
          ]
        },
        {
          "output_type": "stream",
          "name": "stdout",
          "text": [
            "  emb:tf_efficientnet_b0_224 [raw] fold 0: PCA -> 512 dims\n"
          ]
        },
        {
          "output_type": "stream",
          "name": "stdout",
          "text": [
            "    emb:tf_efficientnet_b0_224 [HGBR|raw] fold 0 RMSE: 18.0223 | elapsed 7.4s\n"
          ]
        },
        {
          "output_type": "stream",
          "name": "stdout",
          "text": [
            "  emb:tf_efficientnet_b0_224 [raw] fold 1: PCA -> 512 dims\n"
          ]
        },
        {
          "output_type": "stream",
          "name": "stdout",
          "text": [
            "    emb:tf_efficientnet_b0_224 [HGBR|raw] fold 1 RMSE: 18.4258 | elapsed 12.3s\n"
          ]
        },
        {
          "output_type": "stream",
          "name": "stdout",
          "text": [
            "  emb:tf_efficientnet_b0_224 [raw] fold 2: PCA -> 512 dims\n"
          ]
        },
        {
          "output_type": "stream",
          "name": "stdout",
          "text": [
            "    emb:tf_efficientnet_b0_224 [HGBR|raw] fold 2 RMSE: 18.6001 | elapsed 17.9s\n"
          ]
        },
        {
          "output_type": "stream",
          "name": "stdout",
          "text": [
            "  emb:tf_efficientnet_b0_224 [raw] fold 3: PCA -> 512 dims\n"
          ]
        },
        {
          "output_type": "stream",
          "name": "stdout",
          "text": [
            "    emb:tf_efficientnet_b0_224 [HGBR|raw] fold 3 RMSE: 18.1866 | elapsed 24.4s\n"
          ]
        },
        {
          "output_type": "stream",
          "name": "stdout",
          "text": [
            "  emb:tf_efficientnet_b0_224 [raw] fold 4: PCA -> 512 dims\n"
          ]
        },
        {
          "output_type": "stream",
          "name": "stdout",
          "text": [
            "    emb:tf_efficientnet_b0_224 [HGBR|raw] fold 4 RMSE: 18.6178 | elapsed 30.1s\n"
          ]
        },
        {
          "output_type": "stream",
          "name": "stdout",
          "text": [
            "  emb:tf_efficientnet_b0_224 [sqrt] fold 0: PCA -> 512 dims\n"
          ]
        },
        {
          "output_type": "stream",
          "name": "stdout",
          "text": [
            "    emb:tf_efficientnet_b0_224 [HGBR|sqrt] fold 0 RMSE: 18.2260 | elapsed 5.9s\n"
          ]
        },
        {
          "output_type": "stream",
          "name": "stdout",
          "text": [
            "  emb:tf_efficientnet_b0_224 [sqrt] fold 1: PCA -> 512 dims\n"
          ]
        },
        {
          "output_type": "stream",
          "name": "stdout",
          "text": [
            "    emb:tf_efficientnet_b0_224 [HGBR|sqrt] fold 1 RMSE: 18.8042 | elapsed 10.5s\n"
          ]
        },
        {
          "output_type": "stream",
          "name": "stdout",
          "text": [
            "  emb:tf_efficientnet_b0_224 [sqrt] fold 2: PCA -> 512 dims\n"
          ]
        },
        {
          "output_type": "stream",
          "name": "stdout",
          "text": [
            "    emb:tf_efficientnet_b0_224 [HGBR|sqrt] fold 2 RMSE: 18.9228 | elapsed 15.1s\n"
          ]
        },
        {
          "output_type": "stream",
          "name": "stdout",
          "text": [
            "  emb:tf_efficientnet_b0_224 [sqrt] fold 3: PCA -> 512 dims\n"
          ]
        },
        {
          "output_type": "stream",
          "name": "stdout",
          "text": [
            "    emb:tf_efficientnet_b0_224 [HGBR|sqrt] fold 3 RMSE: 18.4445 | elapsed 21.0s\n"
          ]
        },
        {
          "output_type": "stream",
          "name": "stdout",
          "text": [
            "  emb:tf_efficientnet_b0_224 [sqrt] fold 4: PCA -> 512 dims\n"
          ]
        },
        {
          "output_type": "stream",
          "name": "stdout",
          "text": [
            "    emb:tf_efficientnet_b0_224 [HGBR|sqrt] fold 4 RMSE: 18.7099 | elapsed 26.6s\n"
          ]
        },
        {
          "output_type": "stream",
          "name": "stdout",
          "text": [
            ">>> emb:tf_efficientnet_b0_224 [HGBR] best target: raw | OOF RMSE: 18.37200\n"
          ]
        },
        {
          "output_type": "stream",
          "name": "stdout",
          "text": [
            "=== HGBR training for emb:tf_efficientnetv2_s_in21k_224: train (8920, 1280), test (992, 1280) ===\n"
          ]
        },
        {
          "output_type": "stream",
          "name": "stdout",
          "text": [
            "  emb:tf_efficientnetv2_s_in21k_224 [raw] fold 0: PCA -> 512 dims\n"
          ]
        },
        {
          "output_type": "stream",
          "name": "stdout",
          "text": [
            "    emb:tf_efficientnetv2_s_in21k_224 [HGBR|raw] fold 0 RMSE: 18.0869 | elapsed 4.3s\n"
          ]
        },
        {
          "output_type": "stream",
          "name": "stdout",
          "text": [
            "  emb:tf_efficientnetv2_s_in21k_224 [raw] fold 1: PCA -> 512 dims\n"
          ]
        },
        {
          "output_type": "stream",
          "name": "stdout",
          "text": [
            "    emb:tf_efficientnetv2_s_in21k_224 [HGBR|raw] fold 1 RMSE: 18.5339 | elapsed 8.6s\n"
          ]
        },
        {
          "output_type": "stream",
          "name": "stdout",
          "text": [
            "  emb:tf_efficientnetv2_s_in21k_224 [raw] fold 2: PCA -> 512 dims\n"
          ]
        },
        {
          "output_type": "stream",
          "name": "stdout",
          "text": [
            "    emb:tf_efficientnetv2_s_in21k_224 [HGBR|raw] fold 2 RMSE: 18.7813 | elapsed 13.7s\n"
          ]
        },
        {
          "output_type": "stream",
          "name": "stdout",
          "text": [
            "  emb:tf_efficientnetv2_s_in21k_224 [raw] fold 3: PCA -> 512 dims\n"
          ]
        },
        {
          "output_type": "stream",
          "name": "stdout",
          "text": [
            "    emb:tf_efficientnetv2_s_in21k_224 [HGBR|raw] fold 3 RMSE: 18.3667 | elapsed 19.8s\n"
          ]
        },
        {
          "output_type": "stream",
          "name": "stdout",
          "text": [
            "  emb:tf_efficientnetv2_s_in21k_224 [raw] fold 4: PCA -> 512 dims\n"
          ]
        },
        {
          "output_type": "stream",
          "name": "stdout",
          "text": [
            "    emb:tf_efficientnetv2_s_in21k_224 [HGBR|raw] fold 4 RMSE: 18.6896 | elapsed 25.6s\n"
          ]
        },
        {
          "output_type": "stream",
          "name": "stdout",
          "text": [
            "  emb:tf_efficientnetv2_s_in21k_224 [sqrt] fold 0: PCA -> 512 dims\n"
          ]
        },
        {
          "output_type": "stream",
          "name": "stdout",
          "text": [
            "    emb:tf_efficientnetv2_s_in21k_224 [HGBR|sqrt] fold 0 RMSE: 18.4709 | elapsed 5.2s\n"
          ]
        },
        {
          "output_type": "stream",
          "name": "stdout",
          "text": [
            "  emb:tf_efficientnetv2_s_in21k_224 [sqrt] fold 1: PCA -> 512 dims\n"
          ]
        },
        {
          "output_type": "stream",
          "name": "stdout",
          "text": [
            "    emb:tf_efficientnetv2_s_in21k_224 [HGBR|sqrt] fold 1 RMSE: 18.9131 | elapsed 9.4s\n"
          ]
        },
        {
          "output_type": "stream",
          "name": "stdout",
          "text": [
            "  emb:tf_efficientnetv2_s_in21k_224 [sqrt] fold 2: PCA -> 512 dims\n"
          ]
        },
        {
          "output_type": "stream",
          "name": "stdout",
          "text": [
            "    emb:tf_efficientnetv2_s_in21k_224 [HGBR|sqrt] fold 2 RMSE: 19.0946 | elapsed 17.4s\n"
          ]
        },
        {
          "output_type": "stream",
          "name": "stdout",
          "text": [
            "  emb:tf_efficientnetv2_s_in21k_224 [sqrt] fold 3: PCA -> 512 dims\n"
          ]
        },
        {
          "output_type": "stream",
          "name": "stdout",
          "text": [
            "    emb:tf_efficientnetv2_s_in21k_224 [HGBR|sqrt] fold 3 RMSE: 18.6486 | elapsed 22.2s\n"
          ]
        },
        {
          "output_type": "stream",
          "name": "stdout",
          "text": [
            "  emb:tf_efficientnetv2_s_in21k_224 [sqrt] fold 4: PCA -> 512 dims\n"
          ]
        },
        {
          "output_type": "stream",
          "name": "stdout",
          "text": [
            "    emb:tf_efficientnetv2_s_in21k_224 [HGBR|sqrt] fold 4 RMSE: 18.9927 | elapsed 28.1s\n"
          ]
        },
        {
          "output_type": "stream",
          "name": "stdout",
          "text": [
            ">>> emb:tf_efficientnetv2_s_in21k_224 [HGBR] best target: raw | OOF RMSE: 18.49333\n"
          ]
        },
        {
          "output_type": "stream",
          "name": "stdout",
          "text": [
            "=== HGBR training for emb:vit_base_patch16_224_224: train (8920, 768), test (992, 768) ===\n"
          ]
        },
        {
          "output_type": "stream",
          "name": "stdout",
          "text": [
            "  emb:vit_base_patch16_224_224 [raw] fold 0: PCA -> 512 dims\n"
          ]
        },
        {
          "output_type": "stream",
          "name": "stdout",
          "text": [
            "    emb:vit_base_patch16_224_224 [HGBR|raw] fold 0 RMSE: 17.9077 | elapsed 5.3s\n"
          ]
        },
        {
          "output_type": "stream",
          "name": "stdout",
          "text": [
            "  emb:vit_base_patch16_224_224 [raw] fold 1: PCA -> 512 dims\n"
          ]
        },
        {
          "output_type": "stream",
          "name": "stdout",
          "text": [
            "    emb:vit_base_patch16_224_224 [HGBR|raw] fold 1 RMSE: 18.6358 | elapsed 8.7s\n"
          ]
        },
        {
          "output_type": "stream",
          "name": "stdout",
          "text": [
            "  emb:vit_base_patch16_224_224 [raw] fold 2: PCA -> 512 dims\n"
          ]
        },
        {
          "output_type": "stream",
          "name": "stdout",
          "text": [
            "    emb:vit_base_patch16_224_224 [HGBR|raw] fold 2 RMSE: 18.8713 | elapsed 15.6s\n"
          ]
        },
        {
          "output_type": "stream",
          "name": "stdout",
          "text": [
            "  emb:vit_base_patch16_224_224 [raw] fold 3: PCA -> 512 dims\n"
          ]
        },
        {
          "output_type": "stream",
          "name": "stdout",
          "text": [
            "    emb:vit_base_patch16_224_224 [HGBR|raw] fold 3 RMSE: 18.3547 | elapsed 22.8s\n"
          ]
        },
        {
          "output_type": "stream",
          "name": "stdout",
          "text": [
            "  emb:vit_base_patch16_224_224 [raw] fold 4: PCA -> 512 dims\n"
          ]
        },
        {
          "output_type": "stream",
          "name": "stdout",
          "text": [
            "    emb:vit_base_patch16_224_224 [HGBR|raw] fold 4 RMSE: 18.5086 | elapsed 29.1s\n"
          ]
        },
        {
          "output_type": "stream",
          "name": "stdout",
          "text": [
            "  emb:vit_base_patch16_224_224 [sqrt] fold 0: PCA -> 512 dims\n"
          ]
        },
        {
          "output_type": "stream",
          "name": "stdout",
          "text": [
            "    emb:vit_base_patch16_224_224 [HGBR|sqrt] fold 0 RMSE: 18.3510 | elapsed 6.4s\n"
          ]
        },
        {
          "output_type": "stream",
          "name": "stdout",
          "text": [
            "  emb:vit_base_patch16_224_224 [sqrt] fold 1: PCA -> 512 dims\n"
          ]
        },
        {
          "output_type": "stream",
          "name": "stdout",
          "text": [
            "    emb:vit_base_patch16_224_224 [HGBR|sqrt] fold 1 RMSE: 18.7841 | elapsed 10.8s\n"
          ]
        },
        {
          "output_type": "stream",
          "name": "stdout",
          "text": [
            "  emb:vit_base_patch16_224_224 [sqrt] fold 2: PCA -> 512 dims\n"
          ]
        },
        {
          "output_type": "stream",
          "name": "stdout",
          "text": [
            "    emb:vit_base_patch16_224_224 [HGBR|sqrt] fold 2 RMSE: 19.1652 | elapsed 15.0s\n"
          ]
        },
        {
          "output_type": "stream",
          "name": "stdout",
          "text": [
            "  emb:vit_base_patch16_224_224 [sqrt] fold 3: PCA -> 512 dims\n"
          ]
        },
        {
          "output_type": "stream",
          "name": "stdout",
          "text": [
            "    emb:vit_base_patch16_224_224 [HGBR|sqrt] fold 3 RMSE: 18.6520 | elapsed 19.7s\n"
          ]
        },
        {
          "output_type": "stream",
          "name": "stdout",
          "text": [
            "  emb:vit_base_patch16_224_224 [sqrt] fold 4: PCA -> 512 dims\n"
          ]
        },
        {
          "output_type": "stream",
          "name": "stdout",
          "text": [
            "    emb:vit_base_patch16_224_224 [HGBR|sqrt] fold 4 RMSE: 18.9193 | elapsed 25.1s\n"
          ]
        },
        {
          "output_type": "stream",
          "name": "stdout",
          "text": [
            ">>> emb:vit_base_patch16_224_224 [HGBR] best target: raw | OOF RMSE: 18.45844\n"
          ]
        },
        {
          "output_type": "stream",
          "name": "stdout",
          "text": [
            "HGBR results: {\n  \"meta_stats\": {\n    \"oof_rmse\": 20.646863559898133,\n    \"fold_rmses\": [\n      20.45747953581059,\n      20.67361744259402,\n      20.750477198553718,\n      20.6603480073514,\n      20.691197728305713\n    ],\n    \"used_pca\": false,\n    \"n_comp\": 39,\n    \"target\": \"raw\"\n  },\n  \"emb:convnext_tiny_in22k_224\": {\n    \"oof_rmse\": 18.45852255637422,\n    \"fold_rmses\": [\n      18.089962761292096,\n      18.678476519274646,\n      18.610188004644606,\n      18.281480274905174,\n      18.625289754118874\n    ],\n    \"used_pca\": true,\n    \"n_comp\": 512,\n    \"target\": \"raw\"\n  },\n  \"emb:deit3_small_patch16_224_224\": {\n    \"oof_rmse\": 18.696130405766517,\n    \"fold_rmses\": [\n      18.29185240600516,\n      18.823628435869978,\n      19.047284746421806,\n      18.542782911689756,\n      18.76623975363846\n    ],\n    \"used_pca\": false,\n    \"n_comp\": 384,\n    \"target\": \"raw\"\n  },\n  \"emb:openclip_vit_b16_224\": {\n    \"oof_rmse\": 18.325641171999695,\n    \"fold_rmses\": [\n      17.783822615909695,\n      18.34696614256626,\n      18.557281043871257,\n      18.192707757309673,\n      18.732933915159663\n    ],\n    \"used_pca\": true,\n    \"n_comp\": 512,\n    \"target\": \"raw\"\n  },\n  \"emb:openclip_vit_b32_224\": {\n    \"oof_rmse\": 18.49234716918692,\n    \"fold_rmses\": [\n      17.89754975166942,\n      18.421162595700377,\n      18.854792515256207,\n      18.523542892653133,\n      18.749617557396814\n    ],\n    \"used_pca\": true,\n    \"n_comp\": 512,\n    \"target\": \"raw\"\n  },\n  \"emb:swin_small_patch4_window7_224_224\": {\n    \"oof_rmse\": 18.30111955722337,\n    \"fold_rmses\": [\n      17.61754306436945,\n      18.692750556797357,\n      18.515854805906713,\n      18.19633060123086,\n      18.463878565801092\n    ],\n    \"used_pca\": true,\n    \"n_comp\": 512,\n    \"target\": \"raw\"\n  },\n  \"emb:swin_tiny_patch4_window7_224_224\": {\n    \"oof_rmse\": 18.45341005234638,\n    \"fold_rmses\": [\n      17.87387930759262,\n      18.602097976509096,\n      18.620242226127658,\n      18.465469731321978,\n      18.69334398153859\n    ],\n    \"used_pca\": true,\n    \"n_comp\": 512,\n    \"target\": \"raw\"\n  },\n  \"emb:tf_efficientnet_b0_224\": {\n    \"oof_rmse\": 18.371998059722774,\n    \"fold_rmses\": [\n      18.022317938339583,\n      18.425762181603442,\n      18.60005049243655,\n      18.186609122478945,\n      18.61784837175496\n    ],\n    \"used_pca\": true,\n    \"n_comp\": 512,\n    \"target\": \"raw\"\n  },\n  \"emb:tf_efficientnetv2_s_in21k_224\": {\n    \"oof_rmse\": 18.49333496811152,\n    \"fold_rmses\": [\n      18.086914163407403,\n      18.53393431822925,\n      18.78132664652644,\n      18.366681945505206,\n      18.689589873940708\n    ],\n    \"used_pca\": true,\n    \"n_comp\": 512,\n    \"target\": \"raw\"\n  },\n  \"emb:vit_base_patch16_224_224\": {\n    \"oof_rmse\": 18.45843822165671,\n    \"fold_rmses\": [\n      17.90772840318828,\n      18.635785575090253,\n      18.87130202690165,\n      18.354728333136375,\n      18.508602728912496\n    ],\n    \"used_pca\": true,\n    \"n_comp\": 512,\n    \"target\": \"raw\"\n  }\n}\n"
          ]
        }
      ]
    },
    {
      "id": "b94edb38-b020-41f9-b1cf-cc58c071abc3",
      "cell_type": "code",
      "metadata": {},
      "source": [
        "# Level-2 RidgeCV stacker with nested CV over LGBM + HGBR OOFs\n",
        "import glob, json, time, os\n",
        "import numpy as np, pandas as pd\n",
        "from sklearn.linear_model import RidgeCV\n",
        "\n",
        "def rmse(y_true, y_pred):\n",
        "    y_true = np.asarray(y_true, dtype=float)\n",
        "    y_pred = np.asarray(y_pred, dtype=float)\n",
        "    return float(np.sqrt(np.mean((y_true - y_pred) ** 2)))\n",
        "\n",
        "# Load target and folds\n",
        "train_df = pd.read_csv('train.csv')\n",
        "test_df = pd.read_csv('test.csv')\n",
        "folds_df = pd.read_csv('folds.csv')\n",
        "id2fold = dict(zip(folds_df['Id'], folds_df['fold']))\n",
        "train_df['fold'] = train_df['Id'].map(id2fold)\n",
        "y = train_df['Pawpularity'].values.astype(float)\n",
        "\n",
        "# Discover base OOF/test files (exclude previous L2 artifacts to avoid leakage)\n",
        "all_oof = sorted(glob.glob('oof_*.npy'))\n",
        "oof_lgb_files = [f for f in all_oof if not os.path.basename(f).startswith('oof_L2_')]\n",
        "oof_hgb_files = sorted(glob.glob('oof_hgb_*.npy'))\n",
        "def name_from(path, prefix):\n",
        "    return path[len(prefix):-4]\n",
        "names_lgb = [name_from(p, 'oof_') for p in oof_lgb_files]\n",
        "names_hgb = [name_from(p, 'oof_hgb_') for p in oof_hgb_files]\n",
        "print('Base models (LGB):', names_lgb)\n",
        "print('Base models (HGB):', names_hgb)\n",
        "assert len(oof_lgb_files) > 0 or len(oof_hgb_files) > 0, 'No base OOF files found.'\n",
        "\n",
        "# Load matrices\n",
        "cols = []\n",
        "O_list = []\n",
        "T_list = []\n",
        "for p, n in zip(oof_lgb_files, names_lgb):\n",
        "    O_list.append(np.load(p))\n",
        "    T_list.append(np.load(f'test_pred_{n}.npy'))\n",
        "    cols.append(f'lgb:{n}')\n",
        "for p, n in zip(oof_hgb_files, names_hgb):\n",
        "    O_list.append(np.load(p))\n",
        "    T_list.append(np.load(f'test_pred_hgb_{n}.npy'))\n",
        "    cols.append(f'hgb:{n}')\n",
        "O = np.vstack(O_list).T  # (n_samples, n_models)\n",
        "T = np.vstack(T_list).T  # (n_test, n_models)\n",
        "print('L2 feature matrix shapes:', O.shape, T.shape)\n",
        "\n",
        "# Row-wise aggregation features (simple and cheap)\n",
        "def add_row_aggs(M, prefix):\n",
        "    mean = M.mean(axis=1, keepdims=True)\n",
        "    std = M.std(axis=1, keepdims=True)\n",
        "    vmin = M.min(axis=1, keepdims=True)\n",
        "    vmax = M.max(axis=1, keepdims=True)\n",
        "    return np.hstack([M, mean, std, vmin, vmax]), [f'{prefix}_mean', f'{prefix}_std', f'{prefix}_min', f'{prefix}_max']\n",
        "\n",
        "# Use combined columns for aggs\n",
        "O_ext, agg_names = add_row_aggs(O, 'agg')\n",
        "T_ext, _ = add_row_aggs(T, 'agg')\n",
        "cols_ext = cols + agg_names\n",
        "\n",
        "# Nested CV stacker\n",
        "alphas = np.logspace(-4, 2, 20)\n",
        "meta_oof = np.zeros(len(train_df), dtype=float)\n",
        "meta_test_accum = np.zeros(len(test_df), dtype=float)\n",
        "coefs = []\n",
        "t0 = time.time()\n",
        "for fold in range(5):\n",
        "    tr_idx = np.where(train_df['fold'].values != fold)[0]\n",
        "    va_idx = np.where(train_df['fold'].values == fold)[0]\n",
        "    X_tr, X_va = O_ext[tr_idx], O_ext[va_idx]\n",
        "    y_tr, y_va = y[tr_idx], y[va_idx]\n",
        "    ridge = RidgeCV(alphas=alphas, fit_intercept=True, cv=5, scoring='neg_root_mean_squared_error')\n",
        "    ridge.fit(X_tr, y_tr)\n",
        "    va_pred = ridge.predict(X_va)\n",
        "    meta_oof[va_idx] = va_pred\n",
        "    fold_rmse = rmse(y_va, va_pred)\n",
        "    meta_test_accum += ridge.predict(T_ext)\n",
        "    coefs.append(ridge.coef_.copy())\n",
        "    print(f'L2 Ridge fold {fold} RMSE: {fold_rmse:.5f} | alpha: {ridge.alpha_:.5g} | elapsed {time.time()-t0:.1f}s', flush=True)\n",
        "\n",
        "meta_rmse = rmse(y, meta_oof)\n",
        "meta_test = meta_test_accum / 5.0\n",
        "print(f'L2 Ridge meta OOF RMSE: {meta_rmse:.5f}')\n",
        "\n",
        "# Save artifacts and submission\n",
        "np.save('oof_L2_ridge.npy', meta_oof)\n",
        "np.save('test_pred_L2_ridge.npy', meta_test)\n",
        "sub = pd.DataFrame({'Id': test_df['Id'], 'Pawpularity': np.clip(meta_test, 1.0, 100.0)})\n",
        "sub.to_csv('submission.csv', index=False)\n",
        "print('Saved submission.csv. Head:')\n",
        "print(sub.head())\n",
        "\n",
        "# Report average coefficients per feature for inspection\n",
        "avg_coef = np.mean(np.vstack(coefs), axis=0)\n",
        "coef_report = {name: float(c) for name, c in zip(cols_ext, avg_coef)}\n",
        "print('Average L2 coefficients (top 12 by abs):')\n",
        "top = sorted(coef_report.items(), key=lambda kv: abs(kv[1]), reverse=True)[:12]\n",
        "print(json.dumps(dict(top), indent=2))\n",
        "\n",
        "# Also print single-model RMSEs for reference\n",
        "single_scores = {cols[i]: rmse(y, O[:, i]) for i in range(len(cols))}\n",
        "print('Single base OOF RMSEs (subset):', json.dumps(dict(list(single_scores.items())[:8]), indent=2))"
      ],
      "execution_count": 30,
      "outputs": [
        {
          "output_type": "stream",
          "name": "stdout",
          "text": [
            "Base models (LGB): ['emb:convnext_tiny_in22k_224', 'emb:deit3_small_patch16_224_224', 'emb:openclip_vit_b16_224', 'emb:openclip_vit_b32_224', 'emb:swin_small_patch4_window7_224_224', 'emb:swin_tiny_patch4_window7_224_224', 'emb:tf_efficientnet_b0_224', 'emb:tf_efficientnetv2_s_in21k_224', 'emb:vit_base_patch16_224_224', 'hgb_emb:convnext_tiny_in22k_224', 'hgb_emb:deit3_small_patch16_224_224', 'hgb_emb:openclip_vit_b16_224', 'hgb_emb:openclip_vit_b32_224', 'hgb_emb:swin_small_patch4_window7_224_224', 'hgb_emb:swin_tiny_patch4_window7_224_224', 'hgb_emb:tf_efficientnet_b0_224', 'hgb_emb:tf_efficientnetv2_s_in21k_224', 'hgb_emb:vit_base_patch16_224_224', 'hgb_meta_stats', 'meta_stats']\nBase models (HGB): ['emb:convnext_tiny_in22k_224', 'emb:deit3_small_patch16_224_224', 'emb:openclip_vit_b16_224', 'emb:openclip_vit_b32_224', 'emb:swin_small_patch4_window7_224_224', 'emb:swin_tiny_patch4_window7_224_224', 'emb:tf_efficientnet_b0_224', 'emb:tf_efficientnetv2_s_in21k_224', 'emb:vit_base_patch16_224_224', 'meta_stats']\nL2 feature matrix shapes: (8920, 30) (992, 30)\n"
          ]
        },
        {
          "output_type": "stream",
          "name": "stdout",
          "text": [
            "L2 Ridge fold 0 RMSE: 16.93826 | alpha: 100 | elapsed 0.2s\n"
          ]
        },
        {
          "output_type": "stream",
          "name": "stdout",
          "text": [
            "L2 Ridge fold 1 RMSE: 17.69146 | alpha: 100 | elapsed 0.5s\n"
          ]
        },
        {
          "output_type": "stream",
          "name": "stdout",
          "text": [
            "L2 Ridge fold 2 RMSE: 17.89423 | alpha: 100 | elapsed 0.8s\n"
          ]
        },
        {
          "output_type": "stream",
          "name": "stdout",
          "text": [
            "L2 Ridge fold 3 RMSE: 17.24341 | alpha: 100 | elapsed 1.0s\n"
          ]
        },
        {
          "output_type": "stream",
          "name": "stdout",
          "text": [
            "L2 Ridge fold 4 RMSE: 17.69985 | alpha: 100 | elapsed 1.2s\n"
          ]
        },
        {
          "output_type": "stream",
          "name": "stdout",
          "text": [
            "L2 Ridge meta OOF RMSE: 17.49695\nSaved submission.csv. Head:\n                                 Id  Pawpularity\n0  ee51b99832f1ba868f646df93d2b6b81    54.325589\n1  caddfb3f8bff9c4b95dbe022018eea21    39.015959\n2  582eeabd4a448a53ebb79995888a4b0b    32.744878\n3  afc1ad7f0c5eea880759d09e77f7deee    31.604933\n4  d5bdf3446e86ce4ec67ce7a00f1cccc2    24.989403\nAverage L2 coefficients (top 12 by abs):\n{\n  \"lgb:emb:openclip_vit_b16_224\": 0.40855216339259615,\n  \"agg_min\": 0.4067674784122034,\n  \"lgb:meta_stats\": 0.24580635827245093,\n  \"lgb:emb:openclip_vit_b32_224\": 0.22175726418799577,\n  \"lgb:emb:tf_efficientnetv2_s_in21k_224\": 0.19633917222157776,\n  \"lgb:emb:vit_base_patch16_224_224\": 0.17476867150676131,\n  \"lgb:emb:tf_efficientnet_b0_224\": 0.16076190735151252,\n  \"lgb:emb:deit3_small_patch16_224_224\": 0.15879837958488446,\n  \"lgb:emb:swin_small_patch4_window7_224_224\": 0.14425655602618073,\n  \"agg_std\": 0.13294185891827248,\n  \"lgb:hgb_meta_stats\": -0.09074945078720045,\n  \"hgb:meta_stats\": -0.09074945078719461\n}\nSingle base OOF RMSEs (subset): {\n  \"lgb:emb:convnext_tiny_in22k_224\": 18.318120381924416,\n  \"lgb:emb:deit3_small_patch16_224_224\": 18.500397307604896,\n  \"lgb:emb:openclip_vit_b16_224\": 17.992867001924974,\n  \"lgb:emb:openclip_vit_b32_224\": 18.207280286371326,\n  \"lgb:emb:swin_small_patch4_window7_224_224\": 18.109638128206022,\n  \"lgb:emb:swin_tiny_patch4_window7_224_224\": 18.361477374563425,\n  \"lgb:emb:tf_efficientnet_b0_224\": 18.193774521161647,\n  \"lgb:emb:tf_efficientnetv2_s_in21k_224\": 18.266754815966955\n}\n"
          ]
        }
      ]
    },
    {
      "id": "e0372160-f011-4b97-8cf8-70efa1337445",
      "cell_type": "code",
      "metadata": {},
      "source": [
        "# PCA sweep for top embeddings (per-fold L2+PCA) with LightGBM; overwrite oof_/test_pred_ if improved\n",
        "import os, time, glob, json\n",
        "import numpy as np, pandas as pd\n",
        "from sklearn.decomposition import PCA\n",
        "\n",
        "def rmse(y_true, y_pred):\n",
        "    y_true = np.asarray(y_true, dtype=float)\n",
        "    y_pred = np.asarray(y_pred, dtype=float)\n",
        "    return float(np.sqrt(np.mean((y_true - y_pred) ** 2)))\n",
        "\n",
        "try:\n",
        "    import lightgbm as lgb\n",
        "    lgbm_ok = True\n",
        "except Exception as e:\n",
        "    print('LightGBM not available for PCA sweep:', e)\n",
        "    lgbm_ok = False\n",
        "\n",
        "if lgbm_ok:\n",
        "    train_df = pd.read_csv('train.csv')\n",
        "    test_df = pd.read_csv('test.csv')\n",
        "    folds_df = pd.read_csv('folds.csv')\n",
        "    id2fold = dict(zip(folds_df['Id'], folds_df['fold']))\n",
        "    train_df['fold'] = train_df['Id'].map(id2fold)\n",
        "    y = train_df['Pawpularity'].values.astype(float)\n",
        "\n",
        "    def l2norm(a):\n",
        "        n = np.linalg.norm(a, axis=1, keepdims=True) + 1e-12\n",
        "        return a / n\n",
        "\n",
        "    def load_fs(tag):\n",
        "        X_tr = np.load(f'X_img_train_{tag}.npy')\n",
        "        X_te = np.load(f'X_img_test_{tag}.npy')\n",
        "        return X_tr, X_te\n",
        "\n",
        "    # Targets to sweep: ViT/CLIP: 256/384/512; ConvNet: 384/512/640\n",
        "    sweep_plan = {\n",
        "        'openclip_vit_b32_224': [256, 384, 512],\n",
        "        'openclip_vit_b16_224': [256, 384, 512],\n",
        "        'swin_small_patch4_window7_224_224': [256, 384, 512],\n",
        "        'tf_efficientnet_b0_224': [384, 512, 640],\n",
        "        'vit_base_patch16_224_224': [256, 384, 512],\n",
        "    }\n",
        "\n",
        "    improved = {}\n",
        "    for tag, ncomps in sweep_plan.items():\n",
        "        tr_path = f'X_img_train_{tag}.npy'; te_path = f'X_img_test_{tag}.npy'\n",
        "        if not (os.path.exists(tr_path) and os.path.exists(te_path)):\n",
        "            print(f'[Skip] Missing arrays for {tag}')\n",
        "            continue\n",
        "        X_tr, X_te = load_fs(tag)\n",
        "        base_oof_path = f'oof_emb:{tag}.npy'\n",
        "        base_rmse = None\n",
        "        if os.path.exists(base_oof_path):\n",
        "            base_rmse = rmse(y, np.load(base_oof_path))\n",
        "        else:\n",
        "            print(f'[Info] No existing OOF for emb:{tag}; will treat best found as baseline')\n",
        "\n",
        "        best = {'rmse': float('inf'), 'oof': None, 'test': None, 'n_comp': None}\n",
        "        print(f'=== PCA sweep for emb:{tag} | candidates: {ncomps} ===', flush=True)\n",
        "        for nc in ncomps:\n",
        "            oof = np.zeros(len(train_df), dtype=float)\n",
        "            te_pred_accum = np.zeros(len(test_df), dtype=float)\n",
        "            t0 = time.time()\n",
        "            for fold in range(5):\n",
        "                tr_idx = np.where(train_df['fold'].values != fold)[0]\n",
        "                va_idx = np.where(train_df['fold'].values == fold)[0]\n",
        "                X_tr_fold = l2norm(X_tr[tr_idx])\n",
        "                X_va_fold = l2norm(X_tr[va_idx])\n",
        "                X_te_fold = l2norm(X_te)\n",
        "                pca = PCA(n_components=min(nc, X_tr.shape[1]), whiten=False, random_state=42)\n",
        "                X_tr_p = pca.fit_transform(X_tr_fold)\n",
        "                X_va_p = pca.transform(X_va_fold)\n",
        "                X_te_p = pca.transform(X_te_fold)\n",
        "                dtrain = lgb.Dataset(X_tr_p, label=y[tr_idx])\n",
        "                dvalid = lgb.Dataset(X_va_p, label=y[va_idx])\n",
        "                params = dict(objective='regression', metric='rmse', learning_rate=0.03,\n",
        "                              num_leaves=64, min_data_in_leaf=40, feature_fraction=0.8,\n",
        "                              bagging_fraction=0.8, bagging_freq=1, lambda_l2=1.0, verbosity=-1)\n",
        "                gbm = lgb.train(params, dtrain, num_boost_round=10000, valid_sets=[dvalid],\n",
        "                                valid_names=['valid'], callbacks=[lgb.early_stopping(300), lgb.log_evaluation(200)])\n",
        "                va_pred = np.clip(gbm.predict(X_va_p, num_iteration=gbm.best_iteration), 1.0, 100.0)\n",
        "                te_pred = np.clip(gbm.predict(X_te_p, num_iteration=gbm.best_iteration), 1.0, 100.0)\n",
        "                oof[va_idx] = va_pred\n",
        "                te_pred_accum += te_pred\n",
        "                print(f'  n_comp={nc} fold {fold} done | elapsed {time.time()-t0:.1f}s', flush=True)\n",
        "            fs_rmse = rmse(y, oof)\n",
        "            print(f'  -> n_comp={nc} OOF RMSE: {fs_rmse:.5f}', flush=True)\n",
        "            if fs_rmse < best['rmse']:\n",
        "                best = {'rmse': fs_rmse, 'oof': oof.copy(), 'test': (te_pred_accum/5.0).copy(), 'n_comp': nc}\n",
        "\n",
        "        print(f'Best for emb:{tag}: n_comp={best[\"n_comp\"]} | OOF RMSE: {best[\"rmse\"]:.5f} | prev: {base_rmse}', flush=True)\n",
        "        # Overwrite only if improvement vs existing (or if no baseline)\n",
        "        if (base_rmse is None) or (best['rmse'] + 1e-6 < base_rmse):\n",
        "            np.save(f'oof_emb:{tag}.npy', best['oof'])\n",
        "            np.save(f'test_pred_emb:{tag}.npy', best['test'])\n",
        "            improved[f'emb:{tag}'] = {'oof_rmse': best['rmse'], 'n_comp': best['n_comp']}\n",
        "            print(f'  Saved improved OOF/test for emb:{tag}')\n",
        "        else:\n",
        "            print(f'  No improvement for emb:{tag}; kept existing files')\n",
        "\n",
        "    print('PCA sweep improvements:', json.dumps(improved, indent=2))\n",
        "else:\n",
        "    print('Skipping PCA sweep: LightGBM unavailable.')"
      ],
      "execution_count": 28,
      "outputs": [
        {
          "output_type": "stream",
          "name": "stdout",
          "text": [
            "=== PCA sweep for emb:openclip_vit_b32_224 | candidates: [256, 384, 512] ===\n"
          ]
        },
        {
          "output_type": "stream",
          "name": "stdout",
          "text": [
            "Training until validation scores don't improve for 300 rounds\n"
          ]
        },
        {
          "output_type": "stream",
          "name": "stdout",
          "text": [
            "[200]\tvalid's rmse: 17.7075\n"
          ]
        },
        {
          "output_type": "stream",
          "name": "stdout",
          "text": [
            "[400]\tvalid's rmse: 17.7214\n"
          ]
        },
        {
          "output_type": "stream",
          "name": "stdout",
          "text": [
            "Early stopping, best iteration is:\n[250]\tvalid's rmse: 17.6792\n  n_comp=256 fold 0 done | elapsed 3.4s\n"
          ]
        },
        {
          "output_type": "stream",
          "name": "stdout",
          "text": [
            "Training until validation scores don't improve for 300 rounds\n"
          ]
        },
        {
          "output_type": "stream",
          "name": "stdout",
          "text": [
            "[200]\tvalid's rmse: 18.2634\n"
          ]
        },
        {
          "output_type": "stream",
          "name": "stdout",
          "text": [
            "[400]\tvalid's rmse: 18.3034\n"
          ]
        },
        {
          "output_type": "stream",
          "name": "stdout",
          "text": [
            "Early stopping, best iteration is:\n[196]\tvalid's rmse: 18.2574\n  n_comp=256 fold 1 done | elapsed 6.5s\n"
          ]
        },
        {
          "output_type": "stream",
          "name": "stdout",
          "text": [
            "Training until validation scores don't improve for 300 rounds\n"
          ]
        },
        {
          "output_type": "stream",
          "name": "stdout",
          "text": [
            "[200]\tvalid's rmse: 18.643\n"
          ]
        },
        {
          "output_type": "stream",
          "name": "stdout",
          "text": [
            "[400]\tvalid's rmse: 18.6648\n"
          ]
        },
        {
          "output_type": "stream",
          "name": "stdout",
          "text": [
            "Early stopping, best iteration is:\n[250]\tvalid's rmse: 18.6138\n  n_comp=256 fold 2 done | elapsed 9.8s\n"
          ]
        },
        {
          "output_type": "stream",
          "name": "stdout",
          "text": [
            "Training until validation scores don't improve for 300 rounds\n"
          ]
        },
        {
          "output_type": "stream",
          "name": "stdout",
          "text": [
            "[200]\tvalid's rmse: 18.1074\n"
          ]
        },
        {
          "output_type": "stream",
          "name": "stdout",
          "text": [
            "[400]\tvalid's rmse: 18.1178\n"
          ]
        },
        {
          "output_type": "stream",
          "name": "stdout",
          "text": [
            "Early stopping, best iteration is:\n[226]\tvalid's rmse: 18.0813\n  n_comp=256 fold 3 done | elapsed 13.0s\n"
          ]
        },
        {
          "output_type": "stream",
          "name": "stdout",
          "text": [
            "Training until validation scores don't improve for 300 rounds\n"
          ]
        },
        {
          "output_type": "stream",
          "name": "stdout",
          "text": [
            "[200]\tvalid's rmse: 18.4492\n"
          ]
        },
        {
          "output_type": "stream",
          "name": "stdout",
          "text": [
            "[400]\tvalid's rmse: 18.4104\n"
          ]
        },
        {
          "output_type": "stream",
          "name": "stdout",
          "text": [
            "[600]\tvalid's rmse: 18.4303\nEarly stopping, best iteration is:\n[314]\tvalid's rmse: 18.391\n  n_comp=256 fold 4 done | elapsed 16.7s\n"
          ]
        },
        {
          "output_type": "stream",
          "name": "stdout",
          "text": [
            "  -> n_comp=256 OOF RMSE: 18.20728\n"
          ]
        },
        {
          "output_type": "stream",
          "name": "stdout",
          "text": [
            "Training until validation scores don't improve for 300 rounds\n"
          ]
        },
        {
          "output_type": "stream",
          "name": "stdout",
          "text": [
            "[200]\tvalid's rmse: 17.7513\n"
          ]
        },
        {
          "output_type": "stream",
          "name": "stdout",
          "text": [
            "[400]\tvalid's rmse: 17.7263\n"
          ]
        },
        {
          "output_type": "stream",
          "name": "stdout",
          "text": [
            "[600]\tvalid's rmse: 17.7571\nEarly stopping, best iteration is:\n[322]\tvalid's rmse: 17.7138\n  n_comp=384 fold 0 done | elapsed 5.2s\n"
          ]
        },
        {
          "output_type": "stream",
          "name": "stdout",
          "text": [
            "Training until validation scores don't improve for 300 rounds\n"
          ]
        },
        {
          "output_type": "stream",
          "name": "stdout",
          "text": [
            "[200]\tvalid's rmse: 18.3766\n"
          ]
        },
        {
          "output_type": "stream",
          "name": "stdout",
          "text": [
            "[400]\tvalid's rmse: 18.3589\n"
          ]
        },
        {
          "output_type": "stream",
          "name": "stdout",
          "text": [
            "[600]\tvalid's rmse: 18.3544\n"
          ]
        },
        {
          "output_type": "stream",
          "name": "stdout",
          "text": [
            "Early stopping, best iteration is:\n[337]\tvalid's rmse: 18.3478\n  n_comp=384 fold 1 done | elapsed 10.4s\n"
          ]
        },
        {
          "output_type": "stream",
          "name": "stdout",
          "text": [
            "Training until validation scores don't improve for 300 rounds\n"
          ]
        },
        {
          "output_type": "stream",
          "name": "stdout",
          "text": [
            "[200]\tvalid's rmse: 18.6832\n"
          ]
        },
        {
          "output_type": "stream",
          "name": "stdout",
          "text": [
            "[400]\tvalid's rmse: 18.6432\n"
          ]
        },
        {
          "output_type": "stream",
          "name": "stdout",
          "text": [
            "[600]\tvalid's rmse: 18.6449\n"
          ]
        },
        {
          "output_type": "stream",
          "name": "stdout",
          "text": [
            "Early stopping, best iteration is:\n[334]\tvalid's rmse: 18.6399\n  n_comp=384 fold 2 done | elapsed 15.6s\n"
          ]
        },
        {
          "output_type": "stream",
          "name": "stdout",
          "text": [
            "Training until validation scores don't improve for 300 rounds\n"
          ]
        },
        {
          "output_type": "stream",
          "name": "stdout",
          "text": [
            "[200]\tvalid's rmse: 18.1919\n"
          ]
        },
        {
          "output_type": "stream",
          "name": "stdout",
          "text": [
            "[400]\tvalid's rmse: 18.1375\n"
          ]
        },
        {
          "output_type": "stream",
          "name": "stdout",
          "text": [
            "Early stopping, best iteration is:\n[280]\tvalid's rmse: 18.1303\n  n_comp=384 fold 3 done | elapsed 20.3s\n"
          ]
        },
        {
          "output_type": "stream",
          "name": "stdout",
          "text": [
            "Training until validation scores don't improve for 300 rounds\n"
          ]
        },
        {
          "output_type": "stream",
          "name": "stdout",
          "text": [
            "[200]\tvalid's rmse: 18.4123\n"
          ]
        },
        {
          "output_type": "stream",
          "name": "stdout",
          "text": [
            "[400]\tvalid's rmse: 18.3831\n"
          ]
        },
        {
          "output_type": "stream",
          "name": "stdout",
          "text": [
            "[600]\tvalid's rmse: 18.3613\n"
          ]
        },
        {
          "output_type": "stream",
          "name": "stdout",
          "text": [
            "[800]\tvalid's rmse: 18.3785\n"
          ]
        },
        {
          "output_type": "stream",
          "name": "stdout",
          "text": [
            "Early stopping, best iteration is:\n[636]\tvalid's rmse: 18.3575\n  n_comp=384 fold 4 done | elapsed 27.9s\n"
          ]
        },
        {
          "output_type": "stream",
          "name": "stdout",
          "text": [
            "  -> n_comp=384 OOF RMSE: 18.24045\n"
          ]
        },
        {
          "output_type": "stream",
          "name": "stdout",
          "text": [
            "Training until validation scores don't improve for 300 rounds\n"
          ]
        },
        {
          "output_type": "stream",
          "name": "stdout",
          "text": [
            "[200]\tvalid's rmse: 17.7511\n"
          ]
        },
        {
          "output_type": "stream",
          "name": "stdout",
          "text": [
            "[400]\tvalid's rmse: 17.7378\n"
          ]
        },
        {
          "output_type": "stream",
          "name": "stdout",
          "text": [
            "[600]\tvalid's rmse: 17.7684\n"
          ]
        },
        {
          "output_type": "stream",
          "name": "stdout",
          "text": [
            "Early stopping, best iteration is:\n[357]\tvalid's rmse: 17.7307\n  n_comp=512 fold 0 done | elapsed 7.0s\n"
          ]
        },
        {
          "output_type": "stream",
          "name": "stdout",
          "text": [
            "Training until validation scores don't improve for 300 rounds\n"
          ]
        },
        {
          "output_type": "stream",
          "name": "stdout",
          "text": [
            "[200]\tvalid's rmse: 18.304\n"
          ]
        },
        {
          "output_type": "stream",
          "name": "stdout",
          "text": [
            "[400]\tvalid's rmse: 18.3353\n"
          ]
        },
        {
          "output_type": "stream",
          "name": "stdout",
          "text": [
            "Early stopping, best iteration is:\n[256]\tvalid's rmse: 18.2982\n  n_comp=512 fold 1 done | elapsed 13.1s\n"
          ]
        },
        {
          "output_type": "stream",
          "name": "stdout",
          "text": [
            "Training until validation scores don't improve for 300 rounds\n"
          ]
        },
        {
          "output_type": "stream",
          "name": "stdout",
          "text": [
            "[200]\tvalid's rmse: 18.5667\n"
          ]
        },
        {
          "output_type": "stream",
          "name": "stdout",
          "text": [
            "[400]\tvalid's rmse: 18.5658\n"
          ]
        },
        {
          "output_type": "stream",
          "name": "stdout",
          "text": [
            "Early stopping, best iteration is:\n[296]\tvalid's rmse: 18.5434\n  n_comp=512 fold 2 done | elapsed 19.6s\n"
          ]
        },
        {
          "output_type": "stream",
          "name": "stdout",
          "text": [
            "Training until validation scores don't improve for 300 rounds\n"
          ]
        },
        {
          "output_type": "stream",
          "name": "stdout",
          "text": [
            "[200]\tvalid's rmse: 18.3388\n"
          ]
        },
        {
          "output_type": "stream",
          "name": "stdout",
          "text": [
            "[400]\tvalid's rmse: 18.2653\n"
          ]
        },
        {
          "output_type": "stream",
          "name": "stdout",
          "text": [
            "[600]\tvalid's rmse: 18.294\n"
          ]
        },
        {
          "output_type": "stream",
          "name": "stdout",
          "text": [
            "Early stopping, best iteration is:\n[351]\tvalid's rmse: 18.259\n  n_comp=512 fold 3 done | elapsed 26.6s\n"
          ]
        },
        {
          "output_type": "stream",
          "name": "stdout",
          "text": [
            "Training until validation scores don't improve for 300 rounds\n"
          ]
        },
        {
          "output_type": "stream",
          "name": "stdout",
          "text": [
            "[200]\tvalid's rmse: 18.477\n"
          ]
        },
        {
          "output_type": "stream",
          "name": "stdout",
          "text": [
            "[400]\tvalid's rmse: 18.4101\n"
          ]
        },
        {
          "output_type": "stream",
          "name": "stdout",
          "text": [
            "[600]\tvalid's rmse: 18.4229\n"
          ]
        },
        {
          "output_type": "stream",
          "name": "stdout",
          "text": [
            "Early stopping, best iteration is:\n[387]\tvalid's rmse: 18.4009\n  n_comp=512 fold 4 done | elapsed 34.1s\n"
          ]
        },
        {
          "output_type": "stream",
          "name": "stdout",
          "text": [
            "  -> n_comp=512 OOF RMSE: 18.24854\n"
          ]
        },
        {
          "output_type": "stream",
          "name": "stdout",
          "text": [
            "Best for emb:openclip_vit_b32_224: n_comp=256 | OOF RMSE: 18.20728 | prev: 18.207280286371326\n"
          ]
        },
        {
          "output_type": "stream",
          "name": "stdout",
          "text": [
            "  No improvement for emb:openclip_vit_b32_224; kept existing files\n[Info] No existing OOF for emb:openclip_vit_b16_224; will treat best found as baseline\n=== PCA sweep for emb:openclip_vit_b16_224 | candidates: [256, 384, 512] ===\n"
          ]
        },
        {
          "output_type": "stream",
          "name": "stdout",
          "text": [
            "Training until validation scores don't improve for 300 rounds\n"
          ]
        },
        {
          "output_type": "stream",
          "name": "stdout",
          "text": [
            "[200]\tvalid's rmse: 17.5574\n"
          ]
        },
        {
          "output_type": "stream",
          "name": "stdout",
          "text": [
            "[400]\tvalid's rmse: 17.5463\n"
          ]
        },
        {
          "output_type": "stream",
          "name": "stdout",
          "text": [
            "Early stopping, best iteration is:\n[257]\tvalid's rmse: 17.5235\n  n_comp=256 fold 0 done | elapsed 3.3s\n"
          ]
        },
        {
          "output_type": "stream",
          "name": "stdout",
          "text": [
            "Training until validation scores don't improve for 300 rounds\n"
          ]
        },
        {
          "output_type": "stream",
          "name": "stdout",
          "text": [
            "[200]\tvalid's rmse: 18.0246\n"
          ]
        },
        {
          "output_type": "stream",
          "name": "stdout",
          "text": [
            "[400]\tvalid's rmse: 18.0084\n"
          ]
        },
        {
          "output_type": "stream",
          "name": "stdout",
          "text": [
            "[600]\tvalid's rmse: 18.0334\n"
          ]
        },
        {
          "output_type": "stream",
          "name": "stdout",
          "text": [
            "Early stopping, best iteration is:\n[412]\tvalid's rmse: 18.0035\n  n_comp=256 fold 1 done | elapsed 7.6s\n"
          ]
        },
        {
          "output_type": "stream",
          "name": "stdout",
          "text": [
            "Training until validation scores don't improve for 300 rounds\n"
          ]
        },
        {
          "output_type": "stream",
          "name": "stdout",
          "text": [
            "[200]\tvalid's rmse: 18.4248\n"
          ]
        },
        {
          "output_type": "stream",
          "name": "stdout",
          "text": [
            "[400]\tvalid's rmse: 18.4463\n"
          ]
        },
        {
          "output_type": "stream",
          "name": "stdout",
          "text": [
            "Early stopping, best iteration is:\n[183]\tvalid's rmse: 18.4118\n  n_comp=256 fold 2 done | elapsed 10.6s\n"
          ]
        },
        {
          "output_type": "stream",
          "name": "stdout",
          "text": [
            "Training until validation scores don't improve for 300 rounds\n"
          ]
        },
        {
          "output_type": "stream",
          "name": "stdout",
          "text": [
            "[200]\tvalid's rmse: 17.7777\n"
          ]
        },
        {
          "output_type": "stream",
          "name": "stdout",
          "text": [
            "[400]\tvalid's rmse: 17.7735\n"
          ]
        },
        {
          "output_type": "stream",
          "name": "stdout",
          "text": [
            "Early stopping, best iteration is:\n[254]\tvalid's rmse: 17.7416\n  n_comp=256 fold 3 done | elapsed 13.9s\n"
          ]
        },
        {
          "output_type": "stream",
          "name": "stdout",
          "text": [
            "Training until validation scores don't improve for 300 rounds\n"
          ]
        },
        {
          "output_type": "stream",
          "name": "stdout",
          "text": [
            "[200]\tvalid's rmse: 18.2827\n"
          ]
        },
        {
          "output_type": "stream",
          "name": "stdout",
          "text": [
            "[400]\tvalid's rmse: 18.312\n"
          ]
        },
        {
          "output_type": "stream",
          "name": "stdout",
          "text": [
            "Early stopping, best iteration is:\n[210]\tvalid's rmse: 18.2691\n  n_comp=256 fold 4 done | elapsed 17.0s\n"
          ]
        },
        {
          "output_type": "stream",
          "name": "stdout",
          "text": [
            "  -> n_comp=256 OOF RMSE: 17.99287\n"
          ]
        },
        {
          "output_type": "stream",
          "name": "stdout",
          "text": [
            "Training until validation scores don't improve for 300 rounds\n"
          ]
        },
        {
          "output_type": "stream",
          "name": "stdout",
          "text": [
            "[200]\tvalid's rmse: 17.5014\n"
          ]
        },
        {
          "output_type": "stream",
          "name": "stdout",
          "text": [
            "[400]\tvalid's rmse: 17.4763\n"
          ]
        },
        {
          "output_type": "stream",
          "name": "stdout",
          "text": [
            "[600]\tvalid's rmse: 17.4831\n"
          ]
        },
        {
          "output_type": "stream",
          "name": "stdout",
          "text": [
            "Early stopping, best iteration is:\n[329]\tvalid's rmse: 17.4669\n  n_comp=384 fold 0 done | elapsed 5.1s\n"
          ]
        },
        {
          "output_type": "stream",
          "name": "stdout",
          "text": [
            "Training until validation scores don't improve for 300 rounds\n"
          ]
        },
        {
          "output_type": "stream",
          "name": "stdout",
          "text": [
            "[200]\tvalid's rmse: 18.1087\n"
          ]
        },
        {
          "output_type": "stream",
          "name": "stdout",
          "text": [
            "[400]\tvalid's rmse: 18.0488\n"
          ]
        },
        {
          "output_type": "stream",
          "name": "stdout",
          "text": [
            "[600]\tvalid's rmse: 18.0648\n"
          ]
        },
        {
          "output_type": "stream",
          "name": "stdout",
          "text": [
            "Early stopping, best iteration is:\n[412]\tvalid's rmse: 18.045\n  n_comp=384 fold 1 done | elapsed 10.9s\n"
          ]
        },
        {
          "output_type": "stream",
          "name": "stdout",
          "text": [
            "Training until validation scores don't improve for 300 rounds\n"
          ]
        },
        {
          "output_type": "stream",
          "name": "stdout",
          "text": [
            "[200]\tvalid's rmse: 18.3029\n"
          ]
        },
        {
          "output_type": "stream",
          "name": "stdout",
          "text": [
            "[400]\tvalid's rmse: 18.3392\n"
          ]
        },
        {
          "output_type": "stream",
          "name": "stdout",
          "text": [
            "Early stopping, best iteration is:\n[236]\tvalid's rmse: 18.2949\n  n_comp=384 fold 2 done | elapsed 15.2s\n"
          ]
        },
        {
          "output_type": "stream",
          "name": "stdout",
          "text": [
            "Training until validation scores don't improve for 300 rounds\n"
          ]
        },
        {
          "output_type": "stream",
          "name": "stdout",
          "text": [
            "[200]\tvalid's rmse: 17.9246\n"
          ]
        },
        {
          "output_type": "stream",
          "name": "stdout",
          "text": [
            "[400]\tvalid's rmse: 17.9216\n"
          ]
        },
        {
          "output_type": "stream",
          "name": "stdout",
          "text": [
            "[600]\tvalid's rmse: 17.9197\nEarly stopping, best iteration is:\n[305]\tvalid's rmse: 17.8988\n  n_comp=384 fold 3 done | elapsed 20.1s\n"
          ]
        },
        {
          "output_type": "stream",
          "name": "stdout",
          "text": [
            "Training until validation scores don't improve for 300 rounds\n"
          ]
        },
        {
          "output_type": "stream",
          "name": "stdout",
          "text": [
            "[200]\tvalid's rmse: 18.3339\n"
          ]
        },
        {
          "output_type": "stream",
          "name": "stdout",
          "text": [
            "[400]\tvalid's rmse: 18.3573\n"
          ]
        },
        {
          "output_type": "stream",
          "name": "stdout",
          "text": [
            "Early stopping, best iteration is:\n[236]\tvalid's rmse: 18.3238\n  n_comp=384 fold 4 done | elapsed 24.5s\n"
          ]
        },
        {
          "output_type": "stream",
          "name": "stdout",
          "text": [
            "  -> n_comp=384 OOF RMSE: 18.00860\n"
          ]
        },
        {
          "output_type": "stream",
          "name": "stdout",
          "text": [
            "Training until validation scores don't improve for 300 rounds\n"
          ]
        },
        {
          "output_type": "stream",
          "name": "stdout",
          "text": [
            "[200]\tvalid's rmse: 17.5513\n"
          ]
        },
        {
          "output_type": "stream",
          "name": "stdout",
          "text": [
            "[400]\tvalid's rmse: 17.539\n"
          ]
        },
        {
          "output_type": "stream",
          "name": "stdout",
          "text": [
            "Early stopping, best iteration is:\n[238]\tvalid's rmse: 17.5133\n  n_comp=512 fold 0 done | elapsed 5.7s\n"
          ]
        },
        {
          "output_type": "stream",
          "name": "stdout",
          "text": [
            "Training until validation scores don't improve for 300 rounds\n"
          ]
        },
        {
          "output_type": "stream",
          "name": "stdout",
          "text": [
            "[200]\tvalid's rmse: 18.2388\n"
          ]
        },
        {
          "output_type": "stream",
          "name": "stdout",
          "text": [
            "[400]\tvalid's rmse: 18.2454\n"
          ]
        },
        {
          "output_type": "stream",
          "name": "stdout",
          "text": [
            "[600]\tvalid's rmse: 18.2519\nEarly stopping, best iteration is:\n[306]\tvalid's rmse: 18.193\n  n_comp=512 fold 1 done | elapsed 12.3s\n"
          ]
        },
        {
          "output_type": "stream",
          "name": "stdout",
          "text": [
            "Training until validation scores don't improve for 300 rounds\n"
          ]
        },
        {
          "output_type": "stream",
          "name": "stdout",
          "text": [
            "[200]\tvalid's rmse: 18.4699\n"
          ]
        },
        {
          "output_type": "stream",
          "name": "stdout",
          "text": [
            "[400]\tvalid's rmse: 18.4593\n"
          ]
        },
        {
          "output_type": "stream",
          "name": "stdout",
          "text": [
            "Early stopping, best iteration is:\n[287]\tvalid's rmse: 18.4553\n  n_comp=512 fold 2 done | elapsed 18.7s\n"
          ]
        },
        {
          "output_type": "stream",
          "name": "stdout",
          "text": [
            "Training until validation scores don't improve for 300 rounds\n"
          ]
        },
        {
          "output_type": "stream",
          "name": "stdout",
          "text": [
            "[200]\tvalid's rmse: 17.9655\n"
          ]
        },
        {
          "output_type": "stream",
          "name": "stdout",
          "text": [
            "[400]\tvalid's rmse: 17.9435\n"
          ]
        },
        {
          "output_type": "stream",
          "name": "stdout",
          "text": [
            "[600]\tvalid's rmse: 17.955\n"
          ]
        },
        {
          "output_type": "stream",
          "name": "stdout",
          "text": [
            "Early stopping, best iteration is:\n[346]\tvalid's rmse: 17.936\n  n_comp=512 fold 3 done | elapsed 25.6s\n"
          ]
        },
        {
          "output_type": "stream",
          "name": "stdout",
          "text": [
            "Training until validation scores don't improve for 300 rounds\n"
          ]
        },
        {
          "output_type": "stream",
          "name": "stdout",
          "text": [
            "[200]\tvalid's rmse: 18.2974\n"
          ]
        },
        {
          "output_type": "stream",
          "name": "stdout",
          "text": [
            "[400]\tvalid's rmse: 18.2969\n"
          ]
        },
        {
          "output_type": "stream",
          "name": "stdout",
          "text": [
            "[600]\tvalid's rmse: 18.2881\n"
          ]
        },
        {
          "output_type": "stream",
          "name": "stdout",
          "text": [
            "Early stopping, best iteration is:\n[333]\tvalid's rmse: 18.28\n  n_comp=512 fold 4 done | elapsed 32.5s\n"
          ]
        },
        {
          "output_type": "stream",
          "name": "stdout",
          "text": [
            "  -> n_comp=512 OOF RMSE: 18.07847\n"
          ]
        },
        {
          "output_type": "stream",
          "name": "stdout",
          "text": [
            "Best for emb:openclip_vit_b16_224: n_comp=256 | OOF RMSE: 17.99287 | prev: None\n"
          ]
        },
        {
          "output_type": "stream",
          "name": "stdout",
          "text": [
            "  Saved improved OOF/test for emb:openclip_vit_b16_224\n=== PCA sweep for emb:swin_small_patch4_window7_224_224 | candidates: [256, 384, 512] ===\n"
          ]
        },
        {
          "output_type": "stream",
          "name": "stdout",
          "text": [
            "Training until validation scores don't improve for 300 rounds\n"
          ]
        },
        {
          "output_type": "stream",
          "name": "stdout",
          "text": [
            "[200]\tvalid's rmse: 17.4771\n"
          ]
        },
        {
          "output_type": "stream",
          "name": "stdout",
          "text": [
            "[400]\tvalid's rmse: 17.4546\n"
          ]
        },
        {
          "output_type": "stream",
          "name": "stdout",
          "text": [
            "[600]\tvalid's rmse: 17.4513\nEarly stopping, best iteration is:\n[306]\tvalid's rmse: 17.4268\n  n_comp=256 fold 0 done | elapsed 5.0s\n"
          ]
        },
        {
          "output_type": "stream",
          "name": "stdout",
          "text": [
            "Training until validation scores don't improve for 300 rounds\n"
          ]
        },
        {
          "output_type": "stream",
          "name": "stdout",
          "text": [
            "[200]\tvalid's rmse: 18.3685\n"
          ]
        },
        {
          "output_type": "stream",
          "name": "stdout",
          "text": [
            "[400]\tvalid's rmse: 18.3485\n"
          ]
        },
        {
          "output_type": "stream",
          "name": "stdout",
          "text": [
            "[600]\tvalid's rmse: 18.343\n"
          ]
        },
        {
          "output_type": "stream",
          "name": "stdout",
          "text": [
            "[800]\tvalid's rmse: 18.3528\n"
          ]
        },
        {
          "output_type": "stream",
          "name": "stdout",
          "text": [
            "Early stopping, best iteration is:\n[604]\tvalid's rmse: 18.3417\n  n_comp=256 fold 1 done | elapsed 11.9s\n"
          ]
        },
        {
          "output_type": "stream",
          "name": "stdout",
          "text": [
            "Training until validation scores don't improve for 300 rounds\n"
          ]
        },
        {
          "output_type": "stream",
          "name": "stdout",
          "text": [
            "[200]\tvalid's rmse: 18.5449\n"
          ]
        },
        {
          "output_type": "stream",
          "name": "stdout",
          "text": [
            "[400]\tvalid's rmse: 18.5715\n"
          ]
        },
        {
          "output_type": "stream",
          "name": "stdout",
          "text": [
            "Early stopping, best iteration is:\n[179]\tvalid's rmse: 18.5304\n  n_comp=256 fold 2 done | elapsed 16.2s\n"
          ]
        },
        {
          "output_type": "stream",
          "name": "stdout",
          "text": [
            "Training until validation scores don't improve for 300 rounds\n"
          ]
        },
        {
          "output_type": "stream",
          "name": "stdout",
          "text": [
            "[200]\tvalid's rmse: 18.0568\n"
          ]
        },
        {
          "output_type": "stream",
          "name": "stdout",
          "text": [
            "[400]\tvalid's rmse: 18.0561\n"
          ]
        },
        {
          "output_type": "stream",
          "name": "stdout",
          "text": [
            "[600]\tvalid's rmse: 18.0979\nEarly stopping, best iteration is:\n[323]\tvalid's rmse: 18.0505\n  n_comp=256 fold 3 done | elapsed 21.3s\n"
          ]
        },
        {
          "output_type": "stream",
          "name": "stdout",
          "text": [
            "Training until validation scores don't improve for 300 rounds\n"
          ]
        },
        {
          "output_type": "stream",
          "name": "stdout",
          "text": [
            "[200]\tvalid's rmse: 18.218\n"
          ]
        },
        {
          "output_type": "stream",
          "name": "stdout",
          "text": [
            "[400]\tvalid's rmse: 18.1993\n"
          ]
        },
        {
          "output_type": "stream",
          "name": "stdout",
          "text": [
            "[600]\tvalid's rmse: 18.2157\n"
          ]
        },
        {
          "output_type": "stream",
          "name": "stdout",
          "text": [
            "Early stopping, best iteration is:\n[373]\tvalid's rmse: 18.1831\n  n_comp=256 fold 4 done | elapsed 26.8s\n"
          ]
        },
        {
          "output_type": "stream",
          "name": "stdout",
          "text": [
            "  -> n_comp=256 OOF RMSE: 18.11041\n"
          ]
        },
        {
          "output_type": "stream",
          "name": "stdout",
          "text": [
            "Training until validation scores don't improve for 300 rounds\n"
          ]
        },
        {
          "output_type": "stream",
          "name": "stdout",
          "text": [
            "[200]\tvalid's rmse: 17.4742\n"
          ]
        },
        {
          "output_type": "stream",
          "name": "stdout",
          "text": [
            "[400]\tvalid's rmse: 17.4355\n"
          ]
        },
        {
          "output_type": "stream",
          "name": "stdout",
          "text": [
            "Early stopping, best iteration is:\n[292]\tvalid's rmse: 17.4202\n  n_comp=384 fold 0 done | elapsed 6.7s\n"
          ]
        },
        {
          "output_type": "stream",
          "name": "stdout",
          "text": [
            "Training until validation scores don't improve for 300 rounds\n"
          ]
        },
        {
          "output_type": "stream",
          "name": "stdout",
          "text": [
            "[200]\tvalid's rmse: 18.3448\n"
          ]
        },
        {
          "output_type": "stream",
          "name": "stdout",
          "text": [
            "[400]\tvalid's rmse: 18.3467\n"
          ]
        },
        {
          "output_type": "stream",
          "name": "stdout",
          "text": [
            "Early stopping, best iteration is:\n[294]\tvalid's rmse: 18.3159\n  n_comp=384 fold 1 done | elapsed 13.3s\n"
          ]
        },
        {
          "output_type": "stream",
          "name": "stdout",
          "text": [
            "Training until validation scores don't improve for 300 rounds\n"
          ]
        },
        {
          "output_type": "stream",
          "name": "stdout",
          "text": [
            "[200]\tvalid's rmse: 18.5108\n"
          ]
        },
        {
          "output_type": "stream",
          "name": "stdout",
          "text": [
            "[400]\tvalid's rmse: 18.4993\n"
          ]
        },
        {
          "output_type": "stream",
          "name": "stdout",
          "text": [
            "Early stopping, best iteration is:\n[273]\tvalid's rmse: 18.4736\n  n_comp=384 fold 2 done | elapsed 19.6s\n"
          ]
        },
        {
          "output_type": "stream",
          "name": "stdout",
          "text": [
            "Training until validation scores don't improve for 300 rounds\n"
          ]
        },
        {
          "output_type": "stream",
          "name": "stdout",
          "text": [
            "[200]\tvalid's rmse: 18.0519\n"
          ]
        },
        {
          "output_type": "stream",
          "name": "stdout",
          "text": [
            "[400]\tvalid's rmse: 18.0539\n"
          ]
        },
        {
          "output_type": "stream",
          "name": "stdout",
          "text": [
            "Early stopping, best iteration is:\n[183]\tvalid's rmse: 18.0401\n  n_comp=384 fold 3 done | elapsed 25.5s\n"
          ]
        },
        {
          "output_type": "stream",
          "name": "stdout",
          "text": [
            "Training until validation scores don't improve for 300 rounds\n"
          ]
        },
        {
          "output_type": "stream",
          "name": "stdout",
          "text": [
            "[200]\tvalid's rmse: 18.3559\n"
          ]
        },
        {
          "output_type": "stream",
          "name": "stdout",
          "text": [
            "[400]\tvalid's rmse: 18.3043\n"
          ]
        },
        {
          "output_type": "stream",
          "name": "stdout",
          "text": [
            "[600]\tvalid's rmse: 18.2957\n"
          ]
        },
        {
          "output_type": "stream",
          "name": "stdout",
          "text": [
            "[800]\tvalid's rmse: 18.2865\n"
          ]
        },
        {
          "output_type": "stream",
          "name": "stdout",
          "text": [
            "[1000]\tvalid's rmse: 18.2812\n"
          ]
        },
        {
          "output_type": "stream",
          "name": "stdout",
          "text": [
            "[1200]\tvalid's rmse: 18.2801\n"
          ]
        },
        {
          "output_type": "stream",
          "name": "stdout",
          "text": [
            "[1400]\tvalid's rmse: 18.28\n"
          ]
        },
        {
          "output_type": "stream",
          "name": "stdout",
          "text": [
            "Early stopping, best iteration is:\n[1266]\tvalid's rmse: 18.2795\n  n_comp=384 fold 4 done | elapsed 39.5s\n"
          ]
        },
        {
          "output_type": "stream",
          "name": "stdout",
          "text": [
            "  -> n_comp=384 OOF RMSE: 18.10964\n"
          ]
        },
        {
          "output_type": "stream",
          "name": "stdout",
          "text": [
            "Training until validation scores don't improve for 300 rounds\n"
          ]
        },
        {
          "output_type": "stream",
          "name": "stdout",
          "text": [
            "[200]\tvalid's rmse: 17.5853\n"
          ]
        },
        {
          "output_type": "stream",
          "name": "stdout",
          "text": [
            "[400]\tvalid's rmse: 17.5732\n"
          ]
        },
        {
          "output_type": "stream",
          "name": "stdout",
          "text": [
            "[600]\tvalid's rmse: 17.5998\n"
          ]
        },
        {
          "output_type": "stream",
          "name": "stdout",
          "text": [
            "Early stopping, best iteration is:\n[406]\tvalid's rmse: 17.572\n  n_comp=512 fold 0 done | elapsed 9.5s\n"
          ]
        },
        {
          "output_type": "stream",
          "name": "stdout",
          "text": [
            "Training until validation scores don't improve for 300 rounds\n"
          ]
        },
        {
          "output_type": "stream",
          "name": "stdout",
          "text": [
            "[200]\tvalid's rmse: 18.5136\n"
          ]
        },
        {
          "output_type": "stream",
          "name": "stdout",
          "text": [
            "[400]\tvalid's rmse: 18.5161\n"
          ]
        },
        {
          "output_type": "stream",
          "name": "stdout",
          "text": [
            "[600]\tvalid's rmse: 18.5112\n"
          ]
        },
        {
          "output_type": "stream",
          "name": "stdout",
          "text": [
            "[800]\tvalid's rmse: 18.5173\n"
          ]
        },
        {
          "output_type": "stream",
          "name": "stdout",
          "text": [
            "Early stopping, best iteration is:\n[535]\tvalid's rmse: 18.4969\n  n_comp=512 fold 1 done | elapsed 21.3s\n"
          ]
        },
        {
          "output_type": "stream",
          "name": "stdout",
          "text": [
            "Training until validation scores don't improve for 300 rounds\n"
          ]
        },
        {
          "output_type": "stream",
          "name": "stdout",
          "text": [
            "[200]\tvalid's rmse: 18.6311\n"
          ]
        },
        {
          "output_type": "stream",
          "name": "stdout",
          "text": [
            "[400]\tvalid's rmse: 18.63\n"
          ]
        },
        {
          "output_type": "stream",
          "name": "stdout",
          "text": [
            "Early stopping, best iteration is:\n[167]\tvalid's rmse: 18.6176\n  n_comp=512 fold 2 done | elapsed 28.8s\n"
          ]
        },
        {
          "output_type": "stream",
          "name": "stdout",
          "text": [
            "Training until validation scores don't improve for 300 rounds\n"
          ]
        },
        {
          "output_type": "stream",
          "name": "stdout",
          "text": [
            "[200]\tvalid's rmse: 18.0857\n"
          ]
        },
        {
          "output_type": "stream",
          "name": "stdout",
          "text": [
            "[400]\tvalid's rmse: 18.0529\n"
          ]
        },
        {
          "output_type": "stream",
          "name": "stdout",
          "text": [
            "[600]\tvalid's rmse: 18.0645\n"
          ]
        },
        {
          "output_type": "stream",
          "name": "stdout",
          "text": [
            "Early stopping, best iteration is:\n[377]\tvalid's rmse: 18.0416\n  n_comp=512 fold 3 done | elapsed 41.0s\n"
          ]
        },
        {
          "output_type": "stream",
          "name": "stdout",
          "text": [
            "Training until validation scores don't improve for 300 rounds\n"
          ]
        },
        {
          "output_type": "stream",
          "name": "stdout",
          "text": [
            "[200]\tvalid's rmse: 18.3897\n"
          ]
        },
        {
          "output_type": "stream",
          "name": "stdout",
          "text": [
            "[400]\tvalid's rmse: 18.3092\n"
          ]
        },
        {
          "output_type": "stream",
          "name": "stdout",
          "text": [
            "[600]\tvalid's rmse: 18.3057\n"
          ]
        },
        {
          "output_type": "stream",
          "name": "stdout",
          "text": [
            "[800]\tvalid's rmse: 18.3008\n"
          ]
        },
        {
          "output_type": "stream",
          "name": "stdout",
          "text": [
            "Early stopping, best iteration is:\n[642]\tvalid's rmse: 18.2968\n  n_comp=512 fold 4 done | elapsed 54.1s\n"
          ]
        },
        {
          "output_type": "stream",
          "name": "stdout",
          "text": [
            "  -> n_comp=512 OOF RMSE: 18.20880\n"
          ]
        },
        {
          "output_type": "stream",
          "name": "stdout",
          "text": [
            "Best for emb:swin_small_patch4_window7_224_224: n_comp=384 | OOF RMSE: 18.10964 | prev: 18.109638128206022\n"
          ]
        },
        {
          "output_type": "stream",
          "name": "stdout",
          "text": [
            "  No improvement for emb:swin_small_patch4_window7_224_224; kept existing files\n=== PCA sweep for emb:tf_efficientnet_b0_224 | candidates: [384, 512, 640] ===\n"
          ]
        },
        {
          "output_type": "stream",
          "name": "stdout",
          "text": [
            "Training until validation scores don't improve for 300 rounds\n"
          ]
        },
        {
          "output_type": "stream",
          "name": "stdout",
          "text": [
            "[200]\tvalid's rmse: 17.8597\n"
          ]
        },
        {
          "output_type": "stream",
          "name": "stdout",
          "text": [
            "[400]\tvalid's rmse: 17.8955\n"
          ]
        },
        {
          "output_type": "stream",
          "name": "stdout",
          "text": [
            "Early stopping, best iteration is:\n[198]\tvalid's rmse: 17.8566\n  n_comp=384 fold 0 done | elapsed 6.0s\n"
          ]
        },
        {
          "output_type": "stream",
          "name": "stdout",
          "text": [
            "Training until validation scores don't improve for 300 rounds\n"
          ]
        },
        {
          "output_type": "stream",
          "name": "stdout",
          "text": [
            "[200]\tvalid's rmse: 18.4146\n"
          ]
        },
        {
          "output_type": "stream",
          "name": "stdout",
          "text": [
            "[400]\tvalid's rmse: 18.4552\n"
          ]
        },
        {
          "output_type": "stream",
          "name": "stdout",
          "text": [
            "Early stopping, best iteration is:\n[205]\tvalid's rmse: 18.4098\n  n_comp=384 fold 1 done | elapsed 13.2s\n"
          ]
        },
        {
          "output_type": "stream",
          "name": "stdout",
          "text": [
            "Training until validation scores don't improve for 300 rounds\n"
          ]
        },
        {
          "output_type": "stream",
          "name": "stdout",
          "text": [
            "[200]\tvalid's rmse: 18.3492\n"
          ]
        },
        {
          "output_type": "stream",
          "name": "stdout",
          "text": [
            "[400]\tvalid's rmse: 18.387\n"
          ]
        },
        {
          "output_type": "stream",
          "name": "stdout",
          "text": [
            "Early stopping, best iteration is:\n[263]\tvalid's rmse: 18.3433\n  n_comp=384 fold 2 done | elapsed 21.1s\n"
          ]
        },
        {
          "output_type": "stream",
          "name": "stdout",
          "text": [
            "Training until validation scores don't improve for 300 rounds\n"
          ]
        },
        {
          "output_type": "stream",
          "name": "stdout",
          "text": [
            "[200]\tvalid's rmse: 17.9957\n"
          ]
        },
        {
          "output_type": "stream",
          "name": "stdout",
          "text": [
            "[400]\tvalid's rmse: 17.9786\n"
          ]
        },
        {
          "output_type": "stream",
          "name": "stdout",
          "text": [
            "[600]\tvalid's rmse: 17.9948\n"
          ]
        },
        {
          "output_type": "stream",
          "name": "stdout",
          "text": [
            "Early stopping, best iteration is:\n[360]\tvalid's rmse: 17.9582\n  n_comp=384 fold 3 done | elapsed 33.9s\n"
          ]
        },
        {
          "output_type": "stream",
          "name": "stdout",
          "text": [
            "Training until validation scores don't improve for 300 rounds\n"
          ]
        },
        {
          "output_type": "stream",
          "name": "stdout",
          "text": [
            "[200]\tvalid's rmse: 18.4098\n"
          ]
        },
        {
          "output_type": "stream",
          "name": "stdout",
          "text": [
            "[400]\tvalid's rmse: 18.4531\n"
          ]
        },
        {
          "output_type": "stream",
          "name": "stdout",
          "text": [
            "Early stopping, best iteration is:\n[213]\tvalid's rmse: 18.3934\n  n_comp=384 fold 4 done | elapsed 41.4s\n"
          ]
        },
        {
          "output_type": "stream",
          "name": "stdout",
          "text": [
            "  -> n_comp=384 OOF RMSE: 18.19377\n"
          ]
        },
        {
          "output_type": "stream",
          "name": "stdout",
          "text": [
            "Training until validation scores don't improve for 300 rounds\n"
          ]
        },
        {
          "output_type": "stream",
          "name": "stdout",
          "text": [
            "[200]\tvalid's rmse: 17.8509\n"
          ]
        },
        {
          "output_type": "stream",
          "name": "stdout",
          "text": [
            "[400]\tvalid's rmse: 17.8555\n"
          ]
        },
        {
          "output_type": "stream",
          "name": "stdout",
          "text": [
            "Early stopping, best iteration is:\n[254]\tvalid's rmse: 17.821\n  n_comp=512 fold 0 done | elapsed 9.5s\n"
          ]
        },
        {
          "output_type": "stream",
          "name": "stdout",
          "text": [
            "Training until validation scores don't improve for 300 rounds\n"
          ]
        },
        {
          "output_type": "stream",
          "name": "stdout",
          "text": [
            "[200]\tvalid's rmse: 18.3753\n"
          ]
        },
        {
          "output_type": "stream",
          "name": "stdout",
          "text": [
            "[400]\tvalid's rmse: 18.4137\n"
          ]
        },
        {
          "output_type": "stream",
          "name": "stdout",
          "text": [
            "Early stopping, best iteration is:\n[255]\tvalid's rmse: 18.362\n  n_comp=512 fold 1 done | elapsed 17.9s\n"
          ]
        },
        {
          "output_type": "stream",
          "name": "stdout",
          "text": [
            "Training until validation scores don't improve for 300 rounds\n"
          ]
        },
        {
          "output_type": "stream",
          "name": "stdout",
          "text": [
            "[200]\tvalid's rmse: 18.5273\n"
          ]
        },
        {
          "output_type": "stream",
          "name": "stdout",
          "text": [
            "[400]\tvalid's rmse: 18.5134\n"
          ]
        },
        {
          "output_type": "stream",
          "name": "stdout",
          "text": [
            "[600]\tvalid's rmse: 18.5415\nEarly stopping, best iteration is:\n[315]\tvalid's rmse: 18.4944\n  n_comp=512 fold 2 done | elapsed 29.5s\n"
          ]
        },
        {
          "output_type": "stream",
          "name": "stdout",
          "text": [
            "Training until validation scores don't improve for 300 rounds\n"
          ]
        },
        {
          "output_type": "stream",
          "name": "stdout",
          "text": [
            "[200]\tvalid's rmse: 18.0407\n"
          ]
        },
        {
          "output_type": "stream",
          "name": "stdout",
          "text": [
            "[400]\tvalid's rmse: 18.0584\n"
          ]
        },
        {
          "output_type": "stream",
          "name": "stdout",
          "text": [
            "Early stopping, best iteration is:\n[213]\tvalid's rmse: 18.0186\n  n_comp=512 fold 3 done | elapsed 38.7s\n"
          ]
        },
        {
          "output_type": "stream",
          "name": "stdout",
          "text": [
            "Training until validation scores don't improve for 300 rounds\n"
          ]
        },
        {
          "output_type": "stream",
          "name": "stdout",
          "text": [
            "[200]\tvalid's rmse: 18.3828\n"
          ]
        },
        {
          "output_type": "stream",
          "name": "stdout",
          "text": [
            "[400]\tvalid's rmse: 18.4316\n"
          ]
        },
        {
          "output_type": "stream",
          "name": "stdout",
          "text": [
            "Early stopping, best iteration is:\n[226]\tvalid's rmse: 18.3778\n  n_comp=512 fold 4 done | elapsed 47.7s\n"
          ]
        },
        {
          "output_type": "stream",
          "name": "stdout",
          "text": [
            "  -> n_comp=512 OOF RMSE: 18.21653\n"
          ]
        },
        {
          "output_type": "stream",
          "name": "stdout",
          "text": [
            "Training until validation scores don't improve for 300 rounds\n"
          ]
        },
        {
          "output_type": "stream",
          "name": "stdout",
          "text": [
            "[200]\tvalid's rmse: 17.8313\n"
          ]
        },
        {
          "output_type": "stream",
          "name": "stdout",
          "text": [
            "[400]\tvalid's rmse: 17.857\n"
          ]
        },
        {
          "output_type": "stream",
          "name": "stdout",
          "text": [
            "Early stopping, best iteration is:\n[220]\tvalid's rmse: 17.8252\n  n_comp=640 fold 0 done | elapsed 9.2s\n"
          ]
        },
        {
          "output_type": "stream",
          "name": "stdout",
          "text": [
            "Training until validation scores don't improve for 300 rounds\n"
          ]
        },
        {
          "output_type": "stream",
          "name": "stdout",
          "text": [
            "[200]\tvalid's rmse: 18.3758\n"
          ]
        },
        {
          "output_type": "stream",
          "name": "stdout",
          "text": [
            "[400]\tvalid's rmse: 18.3389\n"
          ]
        },
        {
          "output_type": "stream",
          "name": "stdout",
          "text": [
            "[600]\tvalid's rmse: 18.3551\n"
          ]
        },
        {
          "output_type": "stream",
          "name": "stdout",
          "text": [
            "Early stopping, best iteration is:\n[414]\tvalid's rmse: 18.3332\n  n_comp=640 fold 1 done | elapsed 23.4s\n"
          ]
        },
        {
          "output_type": "stream",
          "name": "stdout",
          "text": [
            "Training until validation scores don't improve for 300 rounds\n"
          ]
        },
        {
          "output_type": "stream",
          "name": "stdout",
          "text": [
            "[200]\tvalid's rmse: 18.5485\n"
          ]
        },
        {
          "output_type": "stream",
          "name": "stdout",
          "text": [
            "[400]\tvalid's rmse: 18.5733\n"
          ]
        },
        {
          "output_type": "stream",
          "name": "stdout",
          "text": [
            "Early stopping, best iteration is:\n[230]\tvalid's rmse: 18.5282\n  n_comp=640 fold 2 done | elapsed 33.4s\n"
          ]
        },
        {
          "output_type": "stream",
          "name": "stdout",
          "text": [
            "Training until validation scores don't improve for 300 rounds\n"
          ]
        },
        {
          "output_type": "stream",
          "name": "stdout",
          "text": [
            "[200]\tvalid's rmse: 18.1504\n"
          ]
        },
        {
          "output_type": "stream",
          "name": "stdout",
          "text": [
            "[400]\tvalid's rmse: 18.1349\n"
          ]
        },
        {
          "output_type": "stream",
          "name": "stdout",
          "text": [
            "[600]\tvalid's rmse: 18.1576\n"
          ]
        },
        {
          "output_type": "stream",
          "name": "stdout",
          "text": [
            "Early stopping, best iteration is:\n[362]\tvalid's rmse: 18.1215\n  n_comp=640 fold 3 done | elapsed 51.7s\n"
          ]
        },
        {
          "output_type": "stream",
          "name": "stdout",
          "text": [
            "Training until validation scores don't improve for 300 rounds\n"
          ]
        },
        {
          "output_type": "stream",
          "name": "stdout",
          "text": [
            "[200]\tvalid's rmse: 18.4397\n"
          ]
        },
        {
          "output_type": "stream",
          "name": "stdout",
          "text": [
            "[400]\tvalid's rmse: 18.4786\n"
          ]
        },
        {
          "output_type": "stream",
          "name": "stdout",
          "text": [
            "Early stopping, best iteration is:\n[197]\tvalid's rmse: 18.4288\n  n_comp=640 fold 4 done | elapsed 60.5s\n"
          ]
        },
        {
          "output_type": "stream",
          "name": "stdout",
          "text": [
            "  -> n_comp=640 OOF RMSE: 18.24910\n"
          ]
        },
        {
          "output_type": "stream",
          "name": "stdout",
          "text": [
            "Best for emb:tf_efficientnet_b0_224: n_comp=384 | OOF RMSE: 18.19377 | prev: 18.193774521161647\n"
          ]
        },
        {
          "output_type": "stream",
          "name": "stdout",
          "text": [
            "  No improvement for emb:tf_efficientnet_b0_224; kept existing files\n=== PCA sweep for emb:vit_base_patch16_224_224 | candidates: [256, 384, 512] ===\n"
          ]
        },
        {
          "output_type": "stream",
          "name": "stdout",
          "text": [
            "Training until validation scores don't improve for 300 rounds\n"
          ]
        },
        {
          "output_type": "stream",
          "name": "stdout",
          "text": [
            "[200]\tvalid's rmse: 17.8036\n"
          ]
        },
        {
          "output_type": "stream",
          "name": "stdout",
          "text": [
            "[400]\tvalid's rmse: 17.8215\n"
          ]
        },
        {
          "output_type": "stream",
          "name": "stdout",
          "text": [
            "Early stopping, best iteration is:\n[232]\tvalid's rmse: 17.7872\n  n_comp=256 fold 0 done | elapsed 4.6s\n"
          ]
        },
        {
          "output_type": "stream",
          "name": "stdout",
          "text": [
            "Training until validation scores don't improve for 300 rounds\n"
          ]
        },
        {
          "output_type": "stream",
          "name": "stdout",
          "text": [
            "[200]\tvalid's rmse: 18.3253\n"
          ]
        },
        {
          "output_type": "stream",
          "name": "stdout",
          "text": [
            "[400]\tvalid's rmse: 18.3278\n"
          ]
        },
        {
          "output_type": "stream",
          "name": "stdout",
          "text": [
            "Early stopping, best iteration is:\n[243]\tvalid's rmse: 18.3008\n  n_comp=256 fold 1 done | elapsed 9.7s\n"
          ]
        },
        {
          "output_type": "stream",
          "name": "stdout",
          "text": [
            "Training until validation scores don't improve for 300 rounds\n"
          ]
        },
        {
          "output_type": "stream",
          "name": "stdout",
          "text": [
            "[200]\tvalid's rmse: 18.6123\n"
          ]
        },
        {
          "output_type": "stream",
          "name": "stdout",
          "text": [
            "[400]\tvalid's rmse: 18.6048\n"
          ]
        },
        {
          "output_type": "stream",
          "name": "stdout",
          "text": [
            "Early stopping, best iteration is:\n[282]\tvalid's rmse: 18.5874\n  n_comp=256 fold 2 done | elapsed 14.8s\n"
          ]
        },
        {
          "output_type": "stream",
          "name": "stdout",
          "text": [
            "Training until validation scores don't improve for 300 rounds\n"
          ]
        },
        {
          "output_type": "stream",
          "name": "stdout",
          "text": [
            "[200]\tvalid's rmse: 18.0177\n"
          ]
        },
        {
          "output_type": "stream",
          "name": "stdout",
          "text": [
            "[400]\tvalid's rmse: 17.9955\n"
          ]
        },
        {
          "output_type": "stream",
          "name": "stdout",
          "text": [
            "[600]\tvalid's rmse: 18.0137\n"
          ]
        },
        {
          "output_type": "stream",
          "name": "stdout",
          "text": [
            "Early stopping, best iteration is:\n[376]\tvalid's rmse: 17.9903\n  n_comp=256 fold 3 done | elapsed 20.6s\n"
          ]
        },
        {
          "output_type": "stream",
          "name": "stdout",
          "text": [
            "Training until validation scores don't improve for 300 rounds\n"
          ]
        },
        {
          "output_type": "stream",
          "name": "stdout",
          "text": [
            "[200]\tvalid's rmse: 18.3495\n"
          ]
        },
        {
          "output_type": "stream",
          "name": "stdout",
          "text": [
            "[400]\tvalid's rmse: 18.319\n"
          ]
        },
        {
          "output_type": "stream",
          "name": "stdout",
          "text": [
            "Early stopping, best iteration is:\n[251]\tvalid's rmse: 18.3115\n  n_comp=256 fold 4 done | elapsed 25.3s\n"
          ]
        },
        {
          "output_type": "stream",
          "name": "stdout",
          "text": [
            "  -> n_comp=256 OOF RMSE: 18.19758\n"
          ]
        },
        {
          "output_type": "stream",
          "name": "stdout",
          "text": [
            "Training until validation scores don't improve for 300 rounds\n"
          ]
        },
        {
          "output_type": "stream",
          "name": "stdout",
          "text": [
            "[200]\tvalid's rmse: 17.9112\n"
          ]
        },
        {
          "output_type": "stream",
          "name": "stdout",
          "text": [
            "[400]\tvalid's rmse: 17.925\n"
          ]
        },
        {
          "output_type": "stream",
          "name": "stdout",
          "text": [
            "Early stopping, best iteration is:\n[238]\tvalid's rmse: 17.8833\n  n_comp=384 fold 0 done | elapsed 8.3s\n"
          ]
        },
        {
          "output_type": "stream",
          "name": "stdout",
          "text": [
            "Training until validation scores don't improve for 300 rounds\n"
          ]
        },
        {
          "output_type": "stream",
          "name": "stdout",
          "text": [
            "[200]\tvalid's rmse: 18.2839\n"
          ]
        },
        {
          "output_type": "stream",
          "name": "stdout",
          "text": [
            "[400]\tvalid's rmse: 18.2318\n"
          ]
        },
        {
          "output_type": "stream",
          "name": "stdout",
          "text": [
            "[600]\tvalid's rmse: 18.2309\n"
          ]
        },
        {
          "output_type": "stream",
          "name": "stdout",
          "text": [
            "Early stopping, best iteration is:\n[431]\tvalid's rmse: 18.2198\n  n_comp=384 fold 1 done | elapsed 17.2s\n"
          ]
        },
        {
          "output_type": "stream",
          "name": "stdout",
          "text": [
            "Training until validation scores don't improve for 300 rounds\n"
          ]
        },
        {
          "output_type": "stream",
          "name": "stdout",
          "text": [
            "[200]\tvalid's rmse: 18.7266\n"
          ]
        },
        {
          "output_type": "stream",
          "name": "stdout",
          "text": [
            "[400]\tvalid's rmse: 18.7163\n"
          ]
        },
        {
          "output_type": "stream",
          "name": "stdout",
          "text": [
            "Early stopping, best iteration is:\n[296]\tvalid's rmse: 18.6804\n  n_comp=384 fold 2 done | elapsed 23.8s\n"
          ]
        },
        {
          "output_type": "stream",
          "name": "stdout",
          "text": [
            "Training until validation scores don't improve for 300 rounds\n"
          ]
        },
        {
          "output_type": "stream",
          "name": "stdout",
          "text": [
            "[200]\tvalid's rmse: 18.053\n"
          ]
        },
        {
          "output_type": "stream",
          "name": "stdout",
          "text": [
            "[400]\tvalid's rmse: 18.0189\n"
          ]
        },
        {
          "output_type": "stream",
          "name": "stdout",
          "text": [
            "[600]\tvalid's rmse: 18.0124\n"
          ]
        },
        {
          "output_type": "stream",
          "name": "stdout",
          "text": [
            "[800]\tvalid's rmse: 18.0057\n"
          ]
        },
        {
          "output_type": "stream",
          "name": "stdout",
          "text": [
            "Early stopping, best iteration is:\n[648]\tvalid's rmse: 18.0021\n  n_comp=384 fold 3 done | elapsed 35.0s\n"
          ]
        },
        {
          "output_type": "stream",
          "name": "stdout",
          "text": [
            "Training until validation scores don't improve for 300 rounds\n"
          ]
        },
        {
          "output_type": "stream",
          "name": "stdout",
          "text": [
            "[200]\tvalid's rmse: 18.3699\n"
          ]
        },
        {
          "output_type": "stream",
          "name": "stdout",
          "text": [
            "[400]\tvalid's rmse: 18.3263\n"
          ]
        },
        {
          "output_type": "stream",
          "name": "stdout",
          "text": [
            "[600]\tvalid's rmse: 18.3274\n"
          ]
        },
        {
          "output_type": "stream",
          "name": "stdout",
          "text": [
            "[800]\tvalid's rmse: 18.3247\n"
          ]
        },
        {
          "output_type": "stream",
          "name": "stdout",
          "text": [
            "Early stopping, best iteration is:\n[563]\tvalid's rmse: 18.3152\n  n_comp=384 fold 4 done | elapsed 43.9s\n"
          ]
        },
        {
          "output_type": "stream",
          "name": "stdout",
          "text": [
            "  -> n_comp=384 OOF RMSE: 18.22226\n"
          ]
        },
        {
          "output_type": "stream",
          "name": "stdout",
          "text": [
            "Training until validation scores don't improve for 300 rounds\n"
          ]
        },
        {
          "output_type": "stream",
          "name": "stdout",
          "text": [
            "[200]\tvalid's rmse: 17.9733\n"
          ]
        },
        {
          "output_type": "stream",
          "name": "stdout",
          "text": [
            "[400]\tvalid's rmse: 17.927\n"
          ]
        },
        {
          "output_type": "stream",
          "name": "stdout",
          "text": [
            "Early stopping, best iteration is:\n[271]\tvalid's rmse: 17.9207\n  n_comp=512 fold 0 done | elapsed 8.2s\n"
          ]
        },
        {
          "output_type": "stream",
          "name": "stdout",
          "text": [
            "Training until validation scores don't improve for 300 rounds\n"
          ]
        },
        {
          "output_type": "stream",
          "name": "stdout",
          "text": [
            "[200]\tvalid's rmse: 18.3061\n"
          ]
        },
        {
          "output_type": "stream",
          "name": "stdout",
          "text": [
            "[400]\tvalid's rmse: 18.2622\n"
          ]
        },
        {
          "output_type": "stream",
          "name": "stdout",
          "text": [
            "[600]\tvalid's rmse: 18.2561\n"
          ]
        },
        {
          "output_type": "stream",
          "name": "stdout",
          "text": [
            "[800]\tvalid's rmse: 18.2561\n"
          ]
        },
        {
          "output_type": "stream",
          "name": "stdout",
          "text": [
            "Early stopping, best iteration is:\n[564]\tvalid's rmse: 18.2472\n  n_comp=512 fold 1 done | elapsed 19.8s\n"
          ]
        },
        {
          "output_type": "stream",
          "name": "stdout",
          "text": [
            "Training until validation scores don't improve for 300 rounds\n"
          ]
        },
        {
          "output_type": "stream",
          "name": "stdout",
          "text": [
            "[200]\tvalid's rmse: 18.7079\n"
          ]
        },
        {
          "output_type": "stream",
          "name": "stdout",
          "text": [
            "[400]\tvalid's rmse: 18.6634\n"
          ]
        },
        {
          "output_type": "stream",
          "name": "stdout",
          "text": [
            "[600]\tvalid's rmse: 18.6686\n"
          ]
        },
        {
          "output_type": "stream",
          "name": "stdout",
          "text": [
            "[800]\tvalid's rmse: 18.6724\n"
          ]
        },
        {
          "output_type": "stream",
          "name": "stdout",
          "text": [
            "Early stopping, best iteration is:\n[549]\tvalid's rmse: 18.6575\n  n_comp=512 fold 2 done | elapsed 31.9s\n"
          ]
        },
        {
          "output_type": "stream",
          "name": "stdout",
          "text": [
            "Training until validation scores don't improve for 300 rounds\n"
          ]
        },
        {
          "output_type": "stream",
          "name": "stdout",
          "text": [
            "[200]\tvalid's rmse: 18.0492\n"
          ]
        },
        {
          "output_type": "stream",
          "name": "stdout",
          "text": [
            "[400]\tvalid's rmse: 17.9849\n"
          ]
        },
        {
          "output_type": "stream",
          "name": "stdout",
          "text": [
            "[600]\tvalid's rmse: 17.9908\n"
          ]
        },
        {
          "output_type": "stream",
          "name": "stdout",
          "text": [
            "Early stopping, best iteration is:\n[368]\tvalid's rmse: 17.978\n  n_comp=512 fold 3 done | elapsed 42.5s\n"
          ]
        },
        {
          "output_type": "stream",
          "name": "stdout",
          "text": [
            "Training until validation scores don't improve for 300 rounds\n"
          ]
        },
        {
          "output_type": "stream",
          "name": "stdout",
          "text": [
            "[200]\tvalid's rmse: 18.4966\n"
          ]
        },
        {
          "output_type": "stream",
          "name": "stdout",
          "text": [
            "[400]\tvalid's rmse: 18.4191\n"
          ]
        },
        {
          "output_type": "stream",
          "name": "stdout",
          "text": [
            "[600]\tvalid's rmse: 18.4178\n"
          ]
        },
        {
          "output_type": "stream",
          "name": "stdout",
          "text": [
            "Early stopping, best iteration is:\n[449]\tvalid's rmse: 18.4158\n  n_comp=512 fold 4 done | elapsed 52.9s\n"
          ]
        },
        {
          "output_type": "stream",
          "name": "stdout",
          "text": [
            "  -> n_comp=512 OOF RMSE: 18.24591\n"
          ]
        },
        {
          "output_type": "stream",
          "name": "stdout",
          "text": [
            "Best for emb:vit_base_patch16_224_224: n_comp=256 | OOF RMSE: 18.19758 | prev: 18.197577009031072\n"
          ]
        },
        {
          "output_type": "stream",
          "name": "stdout",
          "text": [
            "  No improvement for emb:vit_base_patch16_224_224; kept existing files\nPCA sweep improvements: {\n  \"emb:openclip_vit_b16_224\": {\n    \"oof_rmse\": 17.992867001924974,\n    \"n_comp\": 256\n  }\n}\n"
          ]
        }
      ]
    },
    {
      "id": "6ed9b0bc-0683-45e7-bb27-9e2335274653",
      "cell_type": "code",
      "metadata": {},
      "source": [
        "# Level-2 LightGBM stacker (nested CV) over LGBM + HGBR OOFs\n",
        "import glob, json, time\n",
        "import numpy as np, pandas as pd\n",
        "\n",
        "def rmse(y_true, y_pred):\n",
        "    y_true = np.asarray(y_true, dtype=float)\n",
        "    y_pred = np.asarray(y_pred, dtype=float)\n",
        "    return float(np.sqrt(np.mean((y_true - y_pred) ** 2)))\n",
        "\n",
        "try:\n",
        "    import lightgbm as lgb\n",
        "    lgbm_ok = True\n",
        "except Exception as e:\n",
        "    print('LightGBM not available for L2 stacker:', e)\n",
        "    lgbm_ok = False\n",
        "\n",
        "train_df = pd.read_csv('train.csv')\n",
        "test_df = pd.read_csv('test.csv')\n",
        "folds_df = pd.read_csv('folds.csv')\n",
        "id2fold = dict(zip(folds_df['Id'], folds_df['fold']))\n",
        "train_df['fold'] = train_df['Id'].map(id2fold)\n",
        "y = train_df['Pawpularity'].values.astype(float)\n",
        "\n",
        "# Load base OOF/Test matrices\n",
        "oof_lgb_files = sorted(glob.glob('oof_*.npy'))\n",
        "oof_hgb_files = sorted(glob.glob('oof_hgb_*.npy'))\n",
        "def name_from(path, prefix):\n",
        "    return path[len(prefix):-4]\n",
        "names_lgb = [name_from(p, 'oof_') for p in oof_lgb_files]\n",
        "names_hgb = [name_from(p, 'oof_hgb_') for p in oof_hgb_files]\n",
        "cols = []\n",
        "O_list, T_list = [], []\n",
        "for p, n in zip(oof_lgb_files, names_lgb):\n",
        "    O_list.append(np.load(p))\n",
        "    T_list.append(np.load(f'test_pred_{n}.npy'))\n",
        "    cols.append(f'lgb:{n}')\n",
        "for p, n in zip(oof_hgb_files, names_hgb):\n",
        "    O_list.append(np.load(p))\n",
        "    T_list.append(np.load(f'test_pred_hgb_{n}.npy'))\n",
        "    cols.append(f'hgb:{n}')\n",
        "if len(O_list) == 0:\n",
        "    raise SystemExit('No base models found for L2 stacker')\n",
        "O = np.vstack(O_list).T\n",
        "T = np.vstack(T_list).T\n",
        "print('L2 LightGBM: base features:', len(cols), '| shapes:', O.shape, T.shape)\n",
        "\n",
        "# Row-wise aggregation features\n",
        "def add_row_aggs(M):\n",
        "    mean = M.mean(axis=1, keepdims=True)\n",
        "    std = M.std(axis=1, keepdims=True)\n",
        "    vmin = M.min(axis=1, keepdims=True)\n",
        "    vmax = M.max(axis=1, keepdims=True)\n",
        "    return np.hstack([M, mean, std, vmin, vmax])\n",
        "O_ext = add_row_aggs(O)\n",
        "T_ext = add_row_aggs(T)\n",
        "\n",
        "if lgbm_ok:\n",
        "    meta_oof = np.zeros(len(train_df), dtype=float)\n",
        "    meta_test_accum = np.zeros(len(test_df), dtype=float)\n",
        "    t0 = time.time()\n",
        "    for fold in range(5):\n",
        "        tr_idx = np.where(train_df['fold'].values != fold)[0]\n",
        "        va_idx = np.where(train_df['fold'].values == fold)[0]\n",
        "        X_tr, X_va = O_ext[tr_idx], O_ext[va_idx]\n",
        "        y_tr, y_va = y[tr_idx], y[va_idx]\n",
        "        dtrain = lgb.Dataset(X_tr, label=y_tr)\n",
        "        dvalid = lgb.Dataset(X_va, label=y_va)\n",
        "        params = dict(\n",
        "            objective='regression', metric='rmse', learning_rate=0.03,\n",
        "            num_leaves=31, min_data_in_leaf=60, feature_fraction=0.8,\n",
        "            bagging_fraction=0.8, bagging_freq=1, lambda_l2=2.0, verbosity=-1\n",
        "        )\n",
        "        gbm = lgb.train(params, dtrain, num_boost_round=20000, valid_sets=[dvalid], valid_names=['valid'],\n",
        "                        callbacks=[lgb.early_stopping(150), lgb.log_evaluation(200)])\n",
        "        va_pred = gbm.predict(X_va, num_iteration=gbm.best_iteration)\n",
        "        meta_oof[va_idx] = va_pred\n",
        "        meta_test_accum += gbm.predict(T_ext, num_iteration=gbm.best_iteration)\n",
        "        print(f'L2 LGBM fold {fold} RMSE: {rmse(y_va, va_pred):.5f} | iters: {gbm.best_iteration} | elapsed {time.time()-t0:.1f}s', flush=True)\n",
        "\n",
        "    meta_rmse = rmse(y, meta_oof)\n",
        "    meta_test = meta_test_accum / 5.0\n",
        "    print(f'L2 LGBM meta OOF RMSE: {meta_rmse:.5f}')\n",
        "    np.save('oof_L2_lgbm.npy', meta_oof)\n",
        "    np.save('test_pred_L2_lgbm.npy', meta_test)\n",
        "    sub = pd.DataFrame({'Id': test_df['Id'], 'Pawpularity': np.clip(meta_test, 1.0, 100.0)})\n",
        "    sub.to_csv('submission.csv', index=False)\n",
        "    print('Saved submission.csv (L2 LGBM). Head:')\n",
        "    print(sub.head())\n",
        "else:\n",
        "    print('Skipping L2 LightGBM: LightGBM not available')"
      ],
      "execution_count": 25,
      "outputs": [
        {
          "output_type": "stream",
          "name": "stdout",
          "text": [
            "L2 LightGBM: base features: 28 | shapes: (8920, 28) (992, 28)\nTraining until validation scores don't improve for 150 rounds\n[200]\tvalid's rmse: 17.3565\n"
          ]
        },
        {
          "output_type": "stream",
          "name": "stdout",
          "text": [
            "Early stopping, best iteration is:\n[90]\tvalid's rmse: 17.199\nL2 LGBM fold 0 RMSE: 17.19895 | iters: 90 | elapsed 0.2s\n"
          ]
        },
        {
          "output_type": "stream",
          "name": "stdout",
          "text": [
            "Training until validation scores don't improve for 150 rounds\n[200]\tvalid's rmse: 18.0293\n"
          ]
        },
        {
          "output_type": "stream",
          "name": "stdout",
          "text": [
            "Early stopping, best iteration is:\n[66]\tvalid's rmse: 17.9094\nL2 LGBM fold 1 RMSE: 17.90943 | iters: 66 | elapsed 0.4s\n"
          ]
        },
        {
          "output_type": "stream",
          "name": "stdout",
          "text": [
            "Training until validation scores don't improve for 150 rounds\n[200]\tvalid's rmse: 18.1887\n"
          ]
        },
        {
          "output_type": "stream",
          "name": "stdout",
          "text": [
            "Early stopping, best iteration is:\n[78]\tvalid's rmse: 18.0441\nL2 LGBM fold 2 RMSE: 18.04406 | iters: 78 | elapsed 0.6s\n"
          ]
        },
        {
          "output_type": "stream",
          "name": "stdout",
          "text": [
            "Training until validation scores don't improve for 150 rounds\n[200]\tvalid's rmse: 17.5849\n"
          ]
        },
        {
          "output_type": "stream",
          "name": "stdout",
          "text": [
            "Early stopping, best iteration is:\n[99]\tvalid's rmse: 17.5192\nL2 LGBM fold 3 RMSE: 17.51919 | iters: 99 | elapsed 0.9s\n"
          ]
        },
        {
          "output_type": "stream",
          "name": "stdout",
          "text": [
            "Training until validation scores don't improve for 150 rounds\n[200]\tvalid's rmse: 18.157\n"
          ]
        },
        {
          "output_type": "stream",
          "name": "stdout",
          "text": [
            "Early stopping, best iteration is:\n[75]\tvalid's rmse: 17.963\n"
          ]
        },
        {
          "output_type": "stream",
          "name": "stdout",
          "text": [
            "L2 LGBM fold 4 RMSE: 17.96302 | iters: 75 | elapsed 1.1s\n"
          ]
        },
        {
          "output_type": "stream",
          "name": "stdout",
          "text": [
            "L2 LGBM meta OOF RMSE: 17.72981\nSaved submission.csv (L2 LGBM). Head:\n                                 Id  Pawpularity\n0  ee51b99832f1ba868f646df93d2b6b81    61.325353\n1  caddfb3f8bff9c4b95dbe022018eea21    35.590551\n2  582eeabd4a448a53ebb79995888a4b0b    33.021473\n3  afc1ad7f0c5eea880759d09e77f7deee    30.657687\n4  d5bdf3446e86ce4ec67ce7a00f1cccc2    28.041714\n"
          ]
        }
      ]
    },
    {
      "id": "69cdc4bd-bace-4801-9aa3-cceb9dfa0e03",
      "cell_type": "code",
      "metadata": {},
      "source": [
        "# Enrich meta features (cheap image stats) and retrain meta models (LGBM + HGBR); overwrite OOF/test for meta_stats\n",
        "import os, time, json, math\n",
        "import numpy as np, pandas as pd, cv2\n",
        "from sklearn.ensemble import HistGradientBoostingRegressor\n",
        "\n",
        "def rmse(y_true, y_pred):\n",
        "    y_true = np.asarray(y_true, dtype=float)\n",
        "    y_pred = np.asarray(y_pred, dtype=float)\n",
        "    return float(np.sqrt(np.mean((y_true - y_pred) ** 2)))\n",
        "\n",
        "def colorfulness_bgr(img):\n",
        "    # img BGR uint8\n",
        "    B, G, R = cv2.split(img.astype(np.float32))\n",
        "    rg = R - G\n",
        "    yb = 0.5 * (R + G) - B\n",
        "    std_rg, mean_rg = np.std(rg), np.mean(rg)\n",
        "    std_yb, mean_yb = np.std(yb), np.mean(yb)\n",
        "    return float(np.sqrt(std_rg**2 + std_yb**2) + 0.3 * np.sqrt(mean_rg**2 + mean_yb**2))\n",
        "\n",
        "def entropy_channel(ch):\n",
        "    # ch uint8 0..255\n",
        "    hist = cv2.calcHist([ch], [0], None, [256], [0,256]).ravel()\n",
        "    p = hist / (np.sum(hist) + 1e-12)\n",
        "    p = p[p > 0]\n",
        "    return float(-np.sum(p * np.log2(p)))\n",
        "\n",
        "def center_brightness_ratio(gray):\n",
        "    h, w = gray.shape\n",
        "    ch0, ch1 = int(h*0.25), int(h*0.75)\n",
        "    cw0, cw1 = int(w*0.25), int(w*0.75)\n",
        "    center = gray[ch0:ch1, cw0:cw1]\n",
        "    g_mean = float(np.mean(gray)) + 1e-6\n",
        "    c_mean = float(np.mean(center))\n",
        "    return float(c_mean / g_mean)\n",
        "\n",
        "def otsu_foreground_fraction(gray):\n",
        "    _, th = cv2.threshold(gray, 0, 255, cv2.THRESH_BINARY+cv2.THRESH_OTSU)\n",
        "    return float(np.mean(th > 0))\n",
        "\n",
        "def compute_features_row(img_path):\n",
        "    img = cv2.imread(img_path, cv2.IMREAD_COLOR)\n",
        "    if img is None:\n",
        "        return None\n",
        "    h, w = img.shape[:2]\n",
        "    aspect = (w / max(h,1.0)) if h>0 else 0.0\n",
        "    # original stats\n",
        "    bgr_means = img.reshape(-1,3).mean(axis=0).tolist()\n",
        "    bgr_stds = img.reshape(-1,3).std(axis=0).tolist()\n",
        "    gray = cv2.cvtColor(img, cv2.COLOR_BGR2GRAY)\n",
        "    lap_var = float(cv2.Laplacian(gray, cv2.CV_64F).var())\n",
        "    # enrichments\n",
        "    gray_mean = float(np.mean(gray))\n",
        "    gray_std = float(np.std(gray))\n",
        "    p10 = float(np.percentile(gray, 10))\n",
        "    p50 = float(np.percentile(gray, 50))\n",
        "    p90 = float(np.percentile(gray, 90))\n",
        "    hsv = cv2.cvtColor(img, cv2.COLOR_BGR2HSV)\n",
        "    H, S, V = cv2.split(hsv)\n",
        "    hsv_means = [float(np.mean(H)), float(np.mean(S)), float(np.mean(V))]\n",
        "    hsv_stds = [float(np.std(H)), float(np.std(S)), float(np.std(V))]\n",
        "    ent_s = entropy_channel(S)\n",
        "    ent_v = entropy_channel(V)\n",
        "    edges = cv2.Canny(gray, 100, 200)\n",
        "    edge_density = float(np.mean(edges > 0))\n",
        "    colorful = colorfulness_bgr(img)\n",
        "    center_ratio = center_brightness_ratio(gray)\n",
        "    otsu_frac = otsu_foreground_fraction(gray)\n",
        "    feats = [w, h, aspect] + bgr_means + bgr_stds + [lap_var,\n",
        "             gray_mean, gray_std, p10, p50, p90] + hsv_means + hsv_stds + [ent_s, ent_v,\n",
        "             edge_density, colorful, center_ratio, otsu_frac]\n",
        "    return np.array(feats, dtype=np.float32)\n",
        "\n",
        "meta_cols = ['Subject Focus','Eyes','Face','Near','Action','Accessory','Group','Collage','Human','Occlusion','Info','Blur']\n",
        "train_df = pd.read_csv('train.csv')\n",
        "test_df = pd.read_csv('test.csv')\n",
        "y = train_df['Pawpularity'].values.astype(float)\n",
        "\n",
        "def build_meta_matrix(df, folder, log_every=1000):\n",
        "    Xm = df[meta_cols].astype(np.float32).values\n",
        "    feats = []\n",
        "    ids = df['Id'].tolist()\n",
        "    t0 = time.time()\n",
        "    for i, id_ in enumerate(ids):\n",
        "        f = compute_features_row(os.path.join(folder, f'{id_}.jpg'))\n",
        "        if f is None:\n",
        "            f = np.zeros(3+6+1+5+6+2+1+1+1, dtype=np.float32)  # fallback to zeros for enrichments+orig stats\n",
        "        feats.append(f)\n",
        "        if (i+1) % log_every == 0:\n",
        "            print(f'  {folder}: {i+1}/{len(ids)} | elapsed {time.time()-t0:.1f}s', flush=True)\n",
        "    Xf = np.vstack(feats)\n",
        "    X = np.concatenate([Xm, Xf], axis=1)\n",
        "    return X\n",
        "\n",
        "print('Building enriched meta features...')\n",
        "t0_all = time.time()\n",
        "X_tr = build_meta_matrix(train_df, 'train')\n",
        "X_te = build_meta_matrix(test_df, 'test')\n",
        "np.save('X_meta_stats_train.npy', X_tr)\n",
        "np.save('X_meta_stats_test.npy', X_te)\n",
        "print('Saved enriched X_meta_stats_train.npy', X_tr.shape, '| X_meta_stats_test.npy', X_te.shape, '| time', f'{time.time()-t0_all:.1f}s')\n",
        "\n",
        "# Retrain meta_stats models: LightGBM and HGBR\n",
        "folds_df = pd.read_csv('folds.csv')\n",
        "train_df = train_df.merge(folds_df, on='Id', how='left')\n",
        "\n",
        "# Train LGBM for meta_stats\n",
        "try:\n",
        "    import lightgbm as lgb\n",
        "    lgb_ok = True\n",
        "except Exception as e:\n",
        "    print('LightGBM not available for meta retrain:', e); lgb_ok = False\n",
        "\n",
        "if lgb_ok:\n",
        "    oof = np.zeros(len(train_df), dtype=float)\n",
        "    te_acc = np.zeros(len(test_df), dtype=float)\n",
        "    for fold in range(5):\n",
        "        tr_idx = np.where(train_df['fold'].values != fold)[0]\n",
        "        va_idx = np.where(train_df['fold'].values == fold)[0]\n",
        "        dtrain = lgb.Dataset(X_tr[tr_idx], label=y[tr_idx])\n",
        "        dvalid = lgb.Dataset(X_tr[va_idx], label=y[va_idx])\n",
        "        params = dict(objective='regression', metric='rmse', learning_rate=0.03,\n",
        "                      num_leaves=64, min_data_in_leaf=40, feature_fraction=0.8,\n",
        "                      bagging_fraction=0.8, bagging_freq=1, lambda_l2=1.0, verbosity=-1)\n",
        "        gbm = lgb.train(params, dtrain, num_boost_round=10000, valid_sets=[dvalid],\n",
        "                        valid_names=['valid'], callbacks=[lgb.early_stopping(300), lgb.log_evaluation(200)])\n",
        "        va_pred = gbm.predict(X_tr[va_idx], num_iteration=gbm.best_iteration)\n",
        "        te_pred = gbm.predict(X_te, num_iteration=gbm.best_iteration)\n",
        "        oof[va_idx] = np.clip(va_pred, 1.0, 100.0)\n",
        "        te_acc += np.clip(te_pred, 1.0, 100.0)\n",
        "        print(f'  meta_stats [LGBM] fold {fold} RMSE: {rmse(y[va_idx], oof[va_idx]):.4f}', flush=True)\n",
        "    te_mean = te_acc / 5.0\n",
        "    print('meta_stats [LGBM] OOF RMSE:', f'{rmse(y, oof):.5f}')\n",
        "    np.save('oof_meta_stats.npy', oof)\n",
        "    np.save('test_pred_meta_stats.npy', te_mean)\n",
        "\n",
        "# Train HGBR for meta_stats\n",
        "oof_h = np.zeros(len(train_df), dtype=float)\n",
        "te_acc_h = np.zeros(len(test_df), dtype=float)\n",
        "hgbr = HistGradientBoostingRegressor(learning_rate=0.05, max_iter=2500, max_leaf_nodes=31,\n",
        "                                     min_samples_leaf=30, l2_regularization=1.0,\n",
        "                                     validation_fraction=0.12, early_stopping=True, random_state=42)\n",
        "for fold in range(5):\n",
        "    tr_idx = np.where(train_df['fold'].values != fold)[0]\n",
        "    va_idx = np.where(train_df['fold'].values == fold)[0]\n",
        "    hgbr.fit(X_tr[tr_idx], y[tr_idx])\n",
        "    va_pred = np.clip(hgbr.predict(X_tr[va_idx]), 1.0, 100.0)\n",
        "    te_pred = np.clip(hgbr.predict(X_te), 1.0, 100.0)\n",
        "    oof_h[va_idx] = va_pred\n",
        "    te_acc_h += te_pred\n",
        "    print(f'  meta_stats [HGBR] fold {fold} RMSE: {rmse(y[va_idx], va_pred):.4f}', flush=True)\n",
        "te_mean_h = te_acc_h / 5.0\n",
        "print('meta_stats [HGBR] OOF RMSE:', f'{rmse(y, oof_h):.5f}')\n",
        "np.save('oof_hgb_meta_stats.npy', oof_h)\n",
        "np.save('test_pred_hgb_meta_stats.npy', te_mean_h)\n",
        "print('Meta retrain complete.')"
      ],
      "execution_count": 26,
      "outputs": [
        {
          "output_type": "stream",
          "name": "stdout",
          "text": [
            "Building enriched meta features...\n"
          ]
        },
        {
          "output_type": "stream",
          "name": "stdout",
          "text": [
            "  train: 1000/8920 | elapsed 95.9s\n"
          ]
        },
        {
          "output_type": "stream",
          "name": "stdout",
          "text": [
            "  train: 2000/8920 | elapsed 183.3s\n"
          ]
        },
        {
          "output_type": "stream",
          "name": "stdout",
          "text": [
            "  train: 3000/8920 | elapsed 277.4s\n"
          ]
        },
        {
          "output_type": "stream",
          "name": "stdout",
          "text": [
            "  train: 4000/8920 | elapsed 376.7s\n"
          ]
        },
        {
          "output_type": "stream",
          "name": "stdout",
          "text": [
            "  train: 5000/8920 | elapsed 482.6s\n"
          ]
        },
        {
          "output_type": "stream",
          "name": "stdout",
          "text": [
            "  train: 6000/8920 | elapsed 588.2s\n"
          ]
        },
        {
          "output_type": "stream",
          "name": "stdout",
          "text": [
            "  train: 7000/8920 | elapsed 693.3s\n"
          ]
        },
        {
          "output_type": "stream",
          "name": "stdout",
          "text": [
            "  train: 8000/8920 | elapsed 798.3s\n"
          ]
        },
        {
          "output_type": "stream",
          "name": "stdout",
          "text": [
            "Saved enriched X_meta_stats_train.npy (8920, 39) | X_meta_stats_test.npy (992, 39) | time 997.0s\nTraining until validation scores don't improve for 300 rounds\n"
          ]
        },
        {
          "output_type": "stream",
          "name": "stdout",
          "text": [
            "[200]\tvalid's rmse: 20.7459\n"
          ]
        },
        {
          "output_type": "stream",
          "name": "stdout",
          "text": [
            "Early stopping, best iteration is:\n[43]\tvalid's rmse: 20.4775\n  meta_stats [LGBM] fold 0 RMSE: 20.4775\n"
          ]
        },
        {
          "output_type": "stream",
          "name": "stdout",
          "text": [
            "Training until validation scores don't improve for 300 rounds\n"
          ]
        },
        {
          "output_type": "stream",
          "name": "stdout",
          "text": [
            "[200]\tvalid's rmse: 21.0927\n"
          ]
        },
        {
          "output_type": "stream",
          "name": "stdout",
          "text": [
            "Early stopping, best iteration is:\n[9]\tvalid's rmse: 20.6157\n  meta_stats [LGBM] fold 1 RMSE: 20.6157\n"
          ]
        },
        {
          "output_type": "stream",
          "name": "stdout",
          "text": [
            "Training until validation scores don't improve for 300 rounds\n"
          ]
        },
        {
          "output_type": "stream",
          "name": "stdout",
          "text": [
            "[200]\tvalid's rmse: 21.0516\n"
          ]
        },
        {
          "output_type": "stream",
          "name": "stdout",
          "text": [
            "Early stopping, best iteration is:\n[3]\tvalid's rmse: 20.7187\n  meta_stats [LGBM] fold 2 RMSE: 20.7187\n"
          ]
        },
        {
          "output_type": "stream",
          "name": "stdout",
          "text": [
            "Training until validation scores don't improve for 300 rounds\n"
          ]
        },
        {
          "output_type": "stream",
          "name": "stdout",
          "text": [
            "[200]\tvalid's rmse: 20.9148\n"
          ]
        },
        {
          "output_type": "stream",
          "name": "stdout",
          "text": [
            "Early stopping, best iteration is:\n[40]\tvalid's rmse: 20.639\n  meta_stats [LGBM] fold 3 RMSE: 20.6390\n"
          ]
        },
        {
          "output_type": "stream",
          "name": "stdout",
          "text": [
            "Training until validation scores don't improve for 300 rounds\n"
          ]
        },
        {
          "output_type": "stream",
          "name": "stdout",
          "text": [
            "[200]\tvalid's rmse: 20.9158\n"
          ]
        },
        {
          "output_type": "stream",
          "name": "stdout",
          "text": [
            "Early stopping, best iteration is:\n[26]\tvalid's rmse: 20.6338\n  meta_stats [LGBM] fold 4 RMSE: 20.6338\n"
          ]
        },
        {
          "output_type": "stream",
          "name": "stdout",
          "text": [
            "meta_stats [LGBM] OOF RMSE: 20.61709\n  meta_stats [HGBR] fold 0 RMSE: 20.4368\n"
          ]
        },
        {
          "output_type": "stream",
          "name": "stdout",
          "text": [
            "  meta_stats [HGBR] fold 1 RMSE: 20.6704\n"
          ]
        },
        {
          "output_type": "stream",
          "name": "stdout",
          "text": [
            "  meta_stats [HGBR] fold 2 RMSE: 20.7867\n"
          ]
        },
        {
          "output_type": "stream",
          "name": "stdout",
          "text": [
            "  meta_stats [HGBR] fold 3 RMSE: 20.6797\n"
          ]
        },
        {
          "output_type": "stream",
          "name": "stdout",
          "text": [
            "  meta_stats [HGBR] fold 4 RMSE: 20.6813\n"
          ]
        },
        {
          "output_type": "stream",
          "name": "stdout",
          "text": [
            "meta_stats [HGBR] OOF RMSE: 20.65130\nMeta retrain complete.\n"
          ]
        }
      ]
    },
    {
      "id": "512b6559-9ff6-4d19-b1e8-7a785e2dfd8c",
      "cell_type": "code",
      "metadata": {},
      "source": [
        "# Extract extra embeddings: OpenCLIP ViT-B/16 and BEiT-Base (in22k) @224 on CPU\n",
        "import os, time, gc, math, subprocess, sys\n",
        "import numpy as np, pandas as pd\n",
        "import torch\n",
        "import timm\n",
        "from PIL import Image\n",
        "from torch.utils.data import Dataset, DataLoader\n",
        "from timm.data import resolve_data_config, create_transform\n",
        "\n",
        "torch.set_num_threads(8)\n",
        "\n",
        "def ensure_openclip():\n",
        "    try:\n",
        "        import open_clip  # noqa\n",
        "    except Exception:\n",
        "        print(\"Installing open-clip-torch (no-deps)...\", flush=True)\n",
        "        subprocess.run([sys.executable, '-m', 'pip', 'install', '--no-deps', '--upgrade-strategy', 'only-if-needed', 'open-clip-torch'], check=True)\n",
        "    for pkg in ['ftfy', 'regex']:\n",
        "        try:\n",
        "            __import__(pkg)\n",
        "        except Exception:\n",
        "            print(f\"Installing {pkg}...\", flush=True)\n",
        "            subprocess.run([sys.executable, '-m', 'pip', 'install', '--upgrade-strategy', 'only-if-needed', pkg], check=True)\n",
        "    return True\n",
        "\n",
        "class ImageDataset(Dataset):\n",
        "    def __init__(self, ids, folder, transform):\n",
        "        self.ids = ids\n",
        "        self.folder = folder\n",
        "        self.transform = transform\n",
        "    def __len__(self):\n",
        "        return len(self.ids)\n",
        "    def __getitem__(self, idx):\n",
        "        img_id = self.ids[idx]\n",
        "        path = os.path.join(self.folder, f\"{img_id}.jpg\")\n",
        "        img = Image.open(path).convert('RGB')\n",
        "        img = self.transform(img)\n",
        "        return img\n",
        "\n",
        "def extract_timm_embeddings(model_name, img_size=224, batch_size=128, num_workers=8):\n",
        "    tr_out = f\"X_img_train_{model_name.replace('/', '_')}_{img_size}.npy\"\n",
        "    te_out = f\"X_img_test_{model_name.replace('/', '_')}_{img_size}.npy\"\n",
        "    if os.path.exists(tr_out) and os.path.exists(te_out):\n",
        "        print(f\"[Skip] {model_name} exists: {tr_out}, {te_out}\")\n",
        "        return\n",
        "    t0 = time.time()\n",
        "    print(f\"\\n[Emb] {model_name} @ {img_size}\", flush=True)\n",
        "    train_df = pd.read_csv('train.csv')\n",
        "    test_df = pd.read_csv('test.csv')\n",
        "    train_ids = train_df['Id'].tolist()\n",
        "    test_ids = test_df['Id'].tolist()\n",
        "\n",
        "    model = timm.create_model(model_name, pretrained=True, num_classes=0, global_pool='avg')\n",
        "    model.eval().to('cpu')\n",
        "\n",
        "    cfg = resolve_data_config({}, model=model)\n",
        "    cfg['input_size'] = (3, img_size, img_size)\n",
        "    transform = create_transform(**cfg, is_training=False)\n",
        "\n",
        "    train_ds = ImageDataset(train_ids, 'train', transform)\n",
        "    test_ds = ImageDataset(test_ids, 'test', transform)\n",
        "    train_loader = DataLoader(train_ds, batch_size=batch_size, shuffle=False, num_workers=num_workers, pin_memory=False)\n",
        "    test_loader = DataLoader(test_ds, batch_size=batch_size, shuffle=False, num_workers=num_workers, pin_memory=False)\n",
        "\n",
        "    with torch.no_grad():\n",
        "        sample = next(iter(train_loader))[:1]\n",
        "        emb_dim = model(sample).shape[1]\n",
        "    print(f\"Embedding dim: {emb_dim}\")\n",
        "\n",
        "    def run_loader(loader, n_items):\n",
        "        X = np.zeros((n_items, emb_dim), dtype=np.float32)\n",
        "        i0 = 0\n",
        "        with torch.no_grad():\n",
        "            for i, xb in enumerate(loader):\n",
        "                feats = model(xb).cpu().numpy().astype(np.float32)\n",
        "                X[i0:i0+feats.shape[0]] = feats\n",
        "                i0 += feats.shape[0]\n",
        "                if (i+1) % 20 == 0:\n",
        "                    print(f\"  Batches {i+1}/{math.ceil(n_items/loader.batch_size)} | rows {i0}/{n_items} | elapsed {time.time()-t0:.1f}s\", flush=True)\n",
        "        return X\n",
        "\n",
        "    X_tr = run_loader(train_loader, len(train_ds))\n",
        "    X_te = run_loader(test_loader, len(test_ds))\n",
        "    np.save(tr_out, X_tr); np.save(te_out, X_te)\n",
        "    print(f\"Saved {tr_out} {X_tr.shape}, {te_out} {X_te.shape} | time {time.time()-t0:.1f}s\")\n",
        "    del model, X_tr, X_te, train_loader, test_loader, train_ds, test_ds\n",
        "    gc.collect()\n",
        "\n",
        "def extract_openclip_vitb16(img_size=224, batch_size=128, num_workers=8):\n",
        "    tag = f\"openclip_vit_b16_{img_size}\"\n",
        "    tr_out = f\"X_img_train_{tag}.npy\"\n",
        "    te_out = f\"X_img_test_{tag}.npy\"\n",
        "    if os.path.exists(tr_out) and os.path.exists(te_out):\n",
        "        print(f\"[Skip] OpenCLIP ViT-B/16 exists: {tr_out}, {te_out}\")\n",
        "        return\n",
        "    ensure_openclip()\n",
        "    import open_clip\n",
        "    from torchvision import transforms as T\n",
        "    t0 = time.time()\n",
        "    print(f\"\\n[Emb] OpenCLIP ViT-B/16 @ {img_size}\", flush=True)\n",
        "    model, _, preprocess = open_clip.create_model_and_transforms('ViT-B-16', pretrained='laion2b_s34b_b88k', device='cpu')\n",
        "    model.eval()\n",
        "    preprocess = T.Compose([\n",
        "        T.Resize(img_size, interpolation=T.InterpolationMode.BICUBIC),\n",
        "        T.CenterCrop(img_size),\n",
        "        T.ToTensor(),\n",
        "        T.Normalize(mean=(0.48145466, 0.4578275, 0.40821073), std=(0.26862954, 0.26130258, 0.27577711)),\n",
        "    ])\n",
        "\n",
        "    class OpenClipDS(Dataset):\n",
        "        def __init__(self, ids, folder):\n",
        "            self.ids = ids; self.folder = folder\n",
        "        def __len__(self): return len(self.ids)\n",
        "        def __getitem__(self, idx):\n",
        "            img = Image.open(os.path.join(self.folder, f\"{self.ids[idx]}.jpg\")).convert('RGB')\n",
        "            return preprocess(img)\n",
        "\n",
        "    train_df = pd.read_csv('train.csv'); test_df = pd.read_csv('test.csv')\n",
        "    train_ids = train_df['Id'].tolist(); test_ids = test_df['Id'].tolist()\n",
        "    train_loader = DataLoader(OpenClipDS(train_ids, 'train'), batch_size=batch_size, shuffle=False, num_workers=num_workers)\n",
        "    test_loader = DataLoader(OpenClipDS(test_ids, 'test'), batch_size=batch_size, shuffle=False, num_workers=num_workers)\n",
        "\n",
        "    with torch.no_grad():\n",
        "        sample = next(iter(train_loader))[:1]\n",
        "        emb_dim = model.encode_image(sample).shape[1]\n",
        "    print(f\"Embedding dim: {emb_dim}\")\n",
        "\n",
        "    def run_loader(loader, n_items):\n",
        "        X = np.zeros((n_items, emb_dim), dtype=np.float32)\n",
        "        i0 = 0\n",
        "        with torch.no_grad():\n",
        "            for i, xb in enumerate(loader):\n",
        "                feats = model.encode_image(xb).float().cpu().numpy().astype(np.float32)\n",
        "                X[i0:i0+feats.shape[0]] = feats\n",
        "                i0 += feats.shape[0]\n",
        "                if (i+1) % 20 == 0:\n",
        "                    print(f\"  Batches {i+1}/{math.ceil(n_items/loader.batch_size)} | rows {i0}/{n_items} | elapsed {time.time()-t0:.1f}s\", flush=True)\n",
        "        return X\n",
        "\n",
        "    X_tr = run_loader(train_loader, len(train_ids))\n",
        "    X_te = run_loader(test_loader, len(test_ids))\n",
        "    np.save(tr_out, X_tr); np.save(te_out, X_te)\n",
        "    print(f\"Saved {tr_out} {X_tr.shape}, {te_out} {X_te.shape} | time {time.time()-t0:.1f}s\")\n",
        "    del model, X_tr, X_te, train_loader, test_loader\n",
        "    gc.collect()\n",
        "\n",
        "# Execute extractions\n",
        "try:\n",
        "    extract_openclip_vitb16(img_size=224, batch_size=128, num_workers=8)\n",
        "except Exception as e:\n",
        "    print(f\"[Warn] OpenCLIP ViT-B/16 extraction failed: {e}\")\n",
        "\n",
        "try:\n",
        "    extract_timm_embeddings('beit_base_patch16_224_in22k', img_size=224, batch_size=128, num_workers=8)\n",
        "except Exception as e:\n",
        "    print(f\"[Warn] BEiT-Base extraction failed: {e}\")\n",
        "\n",
        "print('Extra embeddings extraction complete.')"
      ],
      "execution_count": 27,
      "outputs": [
        {
          "output_type": "stream",
          "name": "stdout",
          "text": [
            "\n[Emb] OpenCLIP ViT-B/16 @ 224\n"
          ]
        },
        {
          "output_type": "stream",
          "name": "stdout",
          "text": [
            "  Batches 20/70 | rows 2560/8920 | elapsed 127.7s\n"
          ]
        },
        {
          "output_type": "stream",
          "name": "stdout",
          "text": [
            "  Batches 40/70 | rows 5120/8920 | elapsed 248.6s\n"
          ]
        },
        {
          "output_type": "stream",
          "name": "stdout",
          "text": [
            "  Batches 60/70 | rows 7680/8920 | elapsed 370.1s\n"
          ]
        },
        {
          "output_type": "stream",
          "name": "stdout",
          "text": [
            "Saved X_img_train_openclip_vit_b16_224.npy (8920, 512), X_img_test_openclip_vit_b16_224.npy (992, 512) | time 477.3s\n"
          ]
        },
        {
          "output_type": "stream",
          "name": "stdout",
          "text": [
            "\n[Emb] beit_base_patch16_224_in22k @ 224\n"
          ]
        },
        {
          "output_type": "stream",
          "name": "stdout",
          "text": [
            "[Warn] BEiT-Base extraction failed: Unknown model (beit_base_patch16_224_in22k)\nExtra embeddings extraction complete.\n"
          ]
        }
      ]
    }
  ],
  "metadata": {
    "kernelspec": {
      "display_name": "Python 3",
      "language": "python",
      "name": "python3"
    },
    "language_info": {
      "name": "python",
      "version": "3.11.0rc1"
    }
  },
  "nbformat": 4,
  "nbformat_minor": 5
}