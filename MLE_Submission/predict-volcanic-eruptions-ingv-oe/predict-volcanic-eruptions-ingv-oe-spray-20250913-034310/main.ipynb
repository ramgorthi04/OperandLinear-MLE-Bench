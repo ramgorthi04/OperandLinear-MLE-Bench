{
  "cells": [
    {
      "id": "c350b962-b48d-4ded-ac25-6c892f0dc20b",
      "cell_type": "markdown",
      "metadata": {},
      "source": [
        "# Plan to Medal: INGV Volcanic Eruption Prediction\n",
        "\n",
        "Objectives:\n",
        "- Build a fast, reliable baseline with robust CV and no leakage.\n",
        "- Use GPU-accelerated models (XGBoost/CatBoost) and iterate quickly.\n",
        "- Engineer strong timeseries summary features; validate; then improve via error analysis and ensembling.\n",
        "\n",
        "Workflow:\n",
        "1) Environment & GPU\n",
        "- Verify GPU availability; prefer XGBoost/CatBoost (LightGBM here is CPU-only).\n",
        "\n",
        "2) Data audit & schema\n",
        "- Inspect train.csv (targets, IDs), sample_submission.csv, and the per-segment CSVs in train/ and test/.\n",
        "- Confirm target: time_to_eruption (seconds).\n",
        "- Determine grouping/stratification keys (e.g., volcano id if present, or file-level CV).\n",
        "\n",
        "3) Validation protocol\n",
        "- Lock a deterministic KFold/GroupKFold that mirrors test conditions.\n",
        "- Likely GroupKFold by volcano or station/source if available; else KFold with multiple seeds.\n",
        "- Prevent leakage: fit scalers/feature selection inside folds only.\n",
        "\n",
        "4) Fast baseline features (FE v1)\n",
        "- Compute per-file statistical summaries across channels: mean, std, min, max, ptp, quantiles (e.g., q1, q5, q10, q25, q50, q75, q90, q95, q99), skew, kurtosis.\n",
        "- Rolling/windowed stats over multiple window sizes (if cheap): std/mean of windows; maybe only 1\u20132 windows for baseline.\n",
        "- Frequency-domain: simple FFT energy bands, spectral centroid, dominant freq, spectral entropy.\n",
        "- Counts: zero-crossing rate, RMS, number of peaks (lightweight).\n",
        "- Log-safe transforms where needed.\n",
        "- Cache features to parquet/npy for reuse.\n",
        "\n",
        "5) Modeling baseline\n",
        "- Train XGBoost regressor with GPU, early stopping; log per-fold metrics and time.\n",
        "- Evaluate MAE OOF; save OOF preds and feature importances.\n",
        "\n",
        "6) Improvement loop\n",
        "- Feature ablations; add richer spectral features (Welch PSD bands), autocorr features, trend features.\n",
        "- Try CatBoost with GPU; blend with XGB by OOF-calibrated weighted average.\n",
        "- Tune key params (learning_rate, depth, n_estimators) narrowly based on OOF.\n",
        "\n",
        "7) Error analysis\n",
        "- Slice OOF errors by file/volcano/station, by feature bins; fix top error buckets.\n",
        "- Check adversarial validation if domain shift suspected.\n",
        "\n",
        "8) Submission\n",
        "- Generate test features using the exact pipeline; create submission.csv.\n",
        "- Sanity checks: head/tail, shape equals sample_submission, MAE proxy if any CV on pseudo folds.\n",
        "\n",
        "Logging & Efficiency:\n",
        "- Always print progress, fold indices, timings.\n",
        "- Start with subsample runs (e.g., 200\u2013500 files, 2 folds) to validate pipeline before full run.\n",
        "- Cache intermediate artifacts; avoid recomputing features.\n",
        "\n",
        "Next Actions:\n",
        "- Verify GPU and inspect train.csv/sample_submission schema.\n",
        "- Draft a fast feature-extraction function and run on a small subset to validate alignment with train.csv.\n",
        "- Establish CV and train a first XGBoost baseline."
      ],
      "execution_count": null,
      "outputs": []
    },
    {
      "id": "f2fac3b4-7ad6-4e14-99d2-5362dbca90e5",
      "cell_type": "code",
      "metadata": {},
      "source": [
        "# Environment check + schema inspection\n",
        "import os, sys, subprocess, json, glob, time\n",
        "import pandas as pd\n",
        "import numpy as np\n",
        "\n",
        "print('Python version:', sys.version)\n",
        "print('CWD:', os.getcwd())\n",
        "\n",
        "# GPU check via nvidia-smi (lightweight)\n",
        "def gpu_info():\n",
        "    try:\n",
        "        out = subprocess.check_output(['nvidia-smi', '--query-gpu=name,memory.total', '--format=csv,noheader'], stderr=subprocess.STDOUT).decode().strip()\n",
        "        print('nvidia-smi:', out)\n",
        "    except Exception as e:\n",
        "        print('nvidia-smi not available or failed:', e)\n",
        "\n",
        "gpu_info()\n",
        "\n",
        "# Check xgboost availability/version\n",
        "try:\n",
        "    import xgboost as xgb\n",
        "    print('xgboost version:', xgb.__version__)\n",
        "except Exception as e:\n",
        "    print('xgboost import failed:', e)\n",
        "\n",
        "train_csv_path = 'train.csv'\n",
        "test_dir = 'test'\n",
        "train_dir = 'train'\n",
        "ss_path = 'sample_submission.csv'\n",
        "\n",
        "assert os.path.exists(train_csv_path), 'train.csv missing'\n",
        "assert os.path.exists(ss_path), 'sample_submission.csv missing'\n",
        "assert os.path.isdir(train_dir), 'train/ dir missing'\n",
        "assert os.path.isdir(test_dir), 'test/ dir missing'\n",
        "\n",
        "train_df = pd.read_csv(train_csv_path)\n",
        "ss_df = pd.read_csv(ss_path)\n",
        "print('train.csv shape:', train_df.shape)\n",
        "print('train.csv columns:', list(train_df.columns))\n",
        "print(train_df.head(3))\n",
        "print('sample_submission shape:', ss_df.shape)\n",
        "print('sample_submission columns:', list(ss_df.columns))\n",
        "print(ss_df.head(3))\n",
        "\n",
        "# Infer ID columns\n",
        "id_col_candidates = [c for c in train_df.columns if 'id' in c.lower() or 'segment' in c.lower()]\n",
        "target_candidates = [c for c in train_df.columns if 'time' in c.lower() and 'eruption' in c.lower()]\n",
        "print('ID candidates:', id_col_candidates)\n",
        "print('Target candidates:', target_candidates)\n",
        "\n",
        "# List a few files in train/ and test/\n",
        "train_files = sorted(glob.glob(os.path.join(train_dir, '*.csv')))\n",
        "test_files = sorted(glob.glob(os.path.join(test_dir, '*.csv')))\n",
        "print('n_train_files:', len(train_files), 'n_test_files:', len(test_files))\n",
        "print('train sample files:', [os.path.basename(p) for p in train_files[:5]])\n",
        "print('test sample files:', [os.path.basename(p) for p in test_files[:5]])\n",
        "\n",
        "# Try to read one train CSV to inspect sensors and length\n",
        "sample_path = train_files[0] if train_files else None\n",
        "if sample_path:\n",
        "    sdf_head = pd.read_csv(sample_path, nrows=5)\n",
        "    print('Sample train file:', os.path.basename(sample_path))\n",
        "    print('Sample file head shape:', sdf_head.shape)\n",
        "    print('Sample file columns:', list(sdf_head.columns))\n",
        "    # Try reading only header to infer dtypes quickly\n",
        "    sdf = pd.read_csv(sample_path)\n",
        "    print('Sample full file shape:', sdf.shape)\n",
        "    # Basic stats\n",
        "    numeric_cols = [c for c in sdf.columns if sdf[c].dtype != 'O']\n",
        "    print('Numeric cols:', len(numeric_cols))\n",
        "    # If a time column exists, inspect\n",
        "    time_like = [c for c in sdf.columns if 'time' in c.lower()]\n",
        "    if time_like:\n",
        "        print('Time-like columns in segment:', time_like[:3])\n",
        "    # Estimate sampling rate if time present\n",
        "    if time_like:\n",
        "        tcol = time_like[0]\n",
        "        t = sdf[tcol].values\n",
        "        if len(t) > 1:\n",
        "            dt = np.diff(t[:1000])\n",
        "            dt = dt[np.isfinite(dt)]\n",
        "            if dt.size:\n",
        "                fs_est = 1.0 / np.median(dt)\n",
        "                print('Estimated sampling rate (Hz):', fs_est)\n",
        "else:\n",
        "    print('No train files found!')\n",
        "\n",
        "# Cross-check that IDs from train.csv map to files\n",
        "if id_col_candidates:\n",
        "    id_col = id_col_candidates[0]\n",
        "    train_ids = set(str(x) + '.csv' for x in train_df[id_col].astype(str).values)\n",
        "    files_set = set(os.path.basename(p) for p in train_files)\n",
        "    missing = list(train_ids - files_set)\n",
        "    print('IDs in train.csv not found as files:', len(missing))\n",
        "    print('First few missing IDs:', missing[:5])\n",
        "\n",
        "print('Inspection complete.')"
      ],
      "execution_count": 1,
      "outputs": [
        {
          "output_type": "stream",
          "name": "stdout",
          "text": [
            "Python version: 3.11.0rc1 (main, Aug 12 2022, 10:02:14) [GCC 11.2.0]\nCWD: /app/agent_run_states/predict-volcanic-eruptions-ingv-oe-spray-20250913-034310\n"
          ]
        },
        {
          "output_type": "stream",
          "name": "stdout",
          "text": [
            "nvidia-smi: Tesla T4, 15360 MiB\n"
          ]
        },
        {
          "output_type": "stream",
          "name": "stdout",
          "text": [
            "xgboost version: 2.1.4\ntrain.csv shape: (3987, 2)\ntrain.csv columns: ['segment_id', 'time_to_eruption']\n   segment_id  time_to_eruption\n0  1410693848          20109998\n1   987159268           7202883\n2  1990984540          28138930\nsample_submission shape: (444, 2)\nsample_submission columns: ['segment_id', 'time_to_eruption']\n   segment_id  time_to_eruption\n0   951290289                 0\n1   508758258                 0\n2  1566132188                 0\nID candidates: ['segment_id']\nTarget candidates: ['time_to_eruption']\nn_train_files: 3987 n_test_files: 444\ntrain sample files: ['1000015382.csv', '1000554676.csv', '1000745424.csv', '1001461087.csv', '1001732002.csv']\ntest sample files: ['1003520023.csv', '1004346803.csv', '1007996426.csv', '1009749143.csv', '1016956864.csv']\nSample train file: 1000015382.csv\nSample file head shape: (5, 10)\nSample file columns: ['sensor_1', 'sensor_2', 'sensor_3', 'sensor_4', 'sensor_5', 'sensor_6', 'sensor_7', 'sensor_8', 'sensor_9', 'sensor_10']\nSample full file shape: (60001, 10)\nNumeric cols: 10\nIDs in train.csv not found as files: 0\nFirst few missing IDs: []\nInspection complete.\n"
          ]
        }
      ]
    },
    {
      "id": "0415e945-ab01-4b38-9616-5fa486345b44",
      "cell_type": "code",
      "metadata": {},
      "source": [
        "# Feature Extraction v1: stats + simple spectral bands; subsample build\n",
        "import os, glob, time, math\n",
        "import numpy as np\n",
        "import pandas as pd\n",
        "from tqdm import tqdm\n",
        "\n",
        "np.seterr(all='ignore')\n",
        "\n",
        "train_df = pd.read_csv('train.csv')\n",
        "train_path = 'train'\n",
        "test_path = 'test'\n",
        "\n",
        "def zero_crossings(x):\n",
        "    x = np.asarray(x, dtype=np.float32)\n",
        "    return ((x[:-1] * x[1:]) < 0).sum()\n",
        "\n",
        "def hjorth_params(x):\n",
        "    # activity, mobility, complexity\n",
        "    x = np.asarray(x, dtype=np.float32)\n",
        "    if x.size < 3:\n",
        "        return (np.nan, np.nan, np.nan)\n",
        "    dx = np.diff(x)\n",
        "    ddx = np.diff(dx)\n",
        "    var_x = np.var(x)\n",
        "    var_dx = np.var(dx)\n",
        "    var_ddx = np.var(ddx) if ddx.size else np.nan\n",
        "    activity = var_x\n",
        "    mobility = math.sqrt(var_dx / var_x) if var_x > 0 else np.nan\n",
        "    complexity = math.sqrt(var_ddx / var_dx) / mobility if (var_dx > 0 and mobility not in (0, np.nan)) else np.nan\n",
        "    return activity, mobility, complexity\n",
        "\n",
        "def linear_trend_slope(x):\n",
        "    x = np.asarray(x, dtype=np.float32)\n",
        "    n = x.size\n",
        "    if n < 2:\n",
        "        return np.nan\n",
        "    idx = np.arange(n, dtype=np.float32)\n",
        "    # closed form slope of least squares fit\n",
        "    idx_mean = (n - 1) / 2.0\n",
        "    x_mean = x.mean() if n else 0.0\n",
        "    cov = ((idx - idx_mean) * (x - x_mean)).sum()\n",
        "    var = ((idx - idx_mean) ** 2).sum()\n",
        "    return cov / var if var > 0 else np.nan\n",
        "\n",
        "def spectral_features(x, n_bands=6, downsample=10):\n",
        "    # simple rfft-based band energies, centroid, entropy, flatness\n",
        "    x = np.asarray(x, dtype=np.float32)\n",
        "    if downsample > 1:\n",
        "        x = x[::downsample]\n",
        "    x = x - np.nanmean(x)\n",
        "    x = np.nan_to_num(x)\n",
        "    n = x.size\n",
        "    if n < 8:\n",
        "        return {}, []\n",
        "    # next power of 2 for speed\n",
        "    nfft = 1 << (n - 1).bit_length()\n",
        "    X = np.fft.rfft(x, n=nfft)\n",
        "    P = (np.abs(X) ** 2).astype(np.float32)\n",
        "    # ignore DC\n",
        "    P[0] = 0.0\n",
        "    # define bands over frequency bins (1..len(P)-1) quasi-log\n",
        "    L = len(P)\n",
        "    edges = np.unique(np.round(np.geomspace(1, L - 1, num=n_bands + 1)).astype(int))\n",
        "    if edges[-1] != L - 1:\n",
        "        edges[-1] = L - 1\n",
        "    band_energies = []\n",
        "    feats = {}\n",
        "    for i in range(len(edges) - 1):\n",
        "        a, b = edges[i], edges[i + 1]\n",
        "        if b <= a:\n",
        "            band_energies.append(0.0)\n",
        "            feats[f'band_{i}_energy'] = 0.0\n",
        "        else:\n",
        "            e = float(P[a:b].sum())\n",
        "            band_energies.append(e)\n",
        "            feats[f'band_{i}_energy'] = math.log1p(e)\n",
        "    total = float(np.sum(P)) + 1e-12\n",
        "    # spectral centroid (bin index weighted)\n",
        "    idx = np.arange(L, dtype=np.float32)\n",
        "    centroid = float((idx * P).sum() / total)\n",
        "    feats['spec_centroid'] = centroid\n",
        "    # spectral entropy\n",
        "    p = P / total\n",
        "    p = p[p > 0]\n",
        "    spec_entropy = -float(np.sum(p * np.log(p)))\n",
        "    feats['spec_entropy'] = spec_entropy\n",
        "    # spectral flatness\n",
        "    geo_mean = float(np.exp(np.mean(np.log(P[P > 0])))) if np.any(P > 0) else 0.0\n",
        "    arith_mean = float(np.mean(P)) + 1e-12\n",
        "    feats['spec_flatness'] = geo_mean / arith_mean\n",
        "    # dominant frequency bin and power\n",
        "    dom_idx = int(np.argmax(P))\n",
        "    feats['dom_freq_bin'] = dom_idx\n",
        "    feats['dom_power_log1p'] = math.log1p(float(P[dom_idx]))\n",
        "    return feats, band_energies\n",
        "\n",
        "def extract_features_for_file(path):\n",
        "    try:\n",
        "        df = pd.read_csv(path)\n",
        "        arr = df.values.astype(np.float32)  # shape (T, C)\n",
        "        T, C = arr.shape\n",
        "        feats = {'rows': T, 'cols': C, 'missing_frac': float(np.isnan(arr).mean())}\n",
        "        # per-sensor features\n",
        "        for j in range(C):\n",
        "            x = arr[:, j]\n",
        "            x = x.astype(np.float32)\n",
        "            # basic stats\n",
        "            feats[f's{j}_mean'] = float(np.nanmean(x))\n",
        "            feats[f's{j}_std'] = float(np.nanstd(x))\n",
        "            feats[f's{j}_min'] = float(np.nanmin(x))\n",
        "            feats[f's{j}_max'] = float(np.nanmax(x))\n",
        "            feats[f's{j}_ptp'] = float(np.nanmax(x) - np.nanmin(x))\n",
        "            qs = [1,5,10,25,50,75,90,95,99]\n",
        "            qv = np.nanpercentile(x, qs)\n",
        "            for qi, q in enumerate(qs):\n",
        "                feats[f's{j}_q{q}'] = float(qv[qi])\n",
        "            # skew/kurtosis (manual, robust)\n",
        "            xm = np.nanmean(x)\n",
        "            xc = x - xm\n",
        "            v = np.nanvar(xc)\n",
        "            if v > 0:\n",
        "                m3 = np.nanmean(xc**3)\n",
        "                m4 = np.nanmean(xc**4)\n",
        "                feats[f's{j}_skew'] = float(m3 / (v**1.5 + 1e-12))\n",
        "                feats[f's{j}_kurt'] = float(m4 / (v**2 + 1e-12))\n",
        "            else:\n",
        "                feats[f's{j}_skew'] = np.nan\n",
        "                feats[f's{j}_kurt'] = np.nan\n",
        "            feats[f's{j}_rms'] = float(np.sqrt(np.nanmean(x*x)))\n",
        "            feats[f's{j}_zcr'] = float(zero_crossings(np.nan_to_num(x))) / max(1, len(x)-1)\n",
        "            a, m, c = hjorth_params(np.nan_to_num(x))\n",
        "            feats[f's{j}_hj_activity'] = float(a)\n",
        "            feats[f's{j}_hj_mobility'] = float(m) if np.isfinite(m) else np.nan\n",
        "            feats[f's{j}_hj_complexity'] = float(c) if np.isfinite(c) else np.nan\n",
        "            feats[f's{j}_trend_slope'] = float(linear_trend_slope(np.nan_to_num(x)))\n",
        "            # spectral\n",
        "            sf, bands = spectral_features(x, n_bands=6, downsample=10)\n",
        "            for k, v in sf.items():\n",
        "                feats[f's{j}_{k}'] = v\n",
        "        return feats\n",
        "    except Exception as e:\n",
        "        return {'error': str(e)}\n",
        "\n",
        "def build_feature_frame(file_paths, id_from_name=True):\n",
        "    records = []\n",
        "    names = []\n",
        "    t0 = time.time()\n",
        "    for idx, p in enumerate(tqdm(file_paths, desc='FE')):\n",
        "        feats = extract_features_for_file(p)\n",
        "        if 'error' in feats:\n",
        "            print('Error on', p, feats['error'])\n",
        "            continue\n",
        "        records.append(feats)\n",
        "        names.append(os.path.splitext(os.path.basename(p))[0])\n",
        "        if (idx + 1) % 50 == 0:\n",
        "            elapsed = time.time() - t0\n",
        "            print(f'Processed {idx+1}/{len(file_paths)} in {elapsed:.1f}s')\n",
        "    df = pd.DataFrame.from_records(records)\n",
        "    if id_from_name:\n",
        "        df.insert(0, 'segment_id', pd.Series(names, dtype=str))\n",
        "    return df\n",
        "\n",
        "# Subsample for smoke test\n",
        "sub_n = min(200, len(train_df))\n",
        "sub_ids = train_df['segment_id'].astype(str).values[:sub_n]\n",
        "sub_files = [os.path.join(train_path, f'{sid}.csv') for sid in sub_ids]\n",
        "print('Building features for subsample:', len(sub_files))\n",
        "t0 = time.time()\n",
        "train_feat_sub = build_feature_frame(sub_files)\n",
        "print('Sub features shape:', train_feat_sub.shape, 'time:', f'{time.time()-t0:.1f}s')\n",
        "\n",
        "# Merge with target for quick check\n",
        "y_sub = train_df.loc[train_df['segment_id'].astype(str).isin(sub_ids), ['segment_id', 'time_to_eruption']].copy()\n",
        "y_sub['segment_id'] = y_sub['segment_id'].astype(str)\n",
        "train_feat_sub = train_feat_sub.merge(y_sub, on='segment_id', how='left')\n",
        "print('Merged sub shape:', train_feat_sub.shape)\n",
        "print(train_feat_sub.head(2).iloc[:, :12])\n",
        "\n",
        "# Cache subsample features\n",
        "out_path = 'features_sub_train.parquet'\n",
        "train_feat_sub.to_parquet(out_path, index=False)\n",
        "print('Wrote', out_path)"
      ],
      "execution_count": 2,
      "outputs": [
        {
          "output_type": "stream",
          "name": "stdout",
          "text": [
            "Building features for subsample: 200\n"
          ]
        },
        {
          "output_type": "stream",
          "name": "stderr",
          "text": [
            "\rFE:   0%|          | 0/200 [00:00<?, ?it/s]"
          ]
        },
        {
          "output_type": "stream",
          "name": "stderr",
          "text": [
            "/tmp/ipykernel_60/282438512.py:108: RuntimeWarning: Mean of empty slice\n  feats[f's{j}_mean'] = float(np.nanmean(x))\n/usr/local/lib/python3.11/dist-packages/numpy/lib/nanfunctions.py:1879: RuntimeWarning: Degrees of freedom <= 0 for slice.\n  var = nanvar(a, axis=axis, dtype=dtype, out=out, ddof=ddof,\n/tmp/ipykernel_60/282438512.py:110: RuntimeWarning: All-NaN slice encountered\n  feats[f's{j}_min'] = float(np.nanmin(x))\n/tmp/ipykernel_60/282438512.py:111: RuntimeWarning: All-NaN slice encountered\n  feats[f's{j}_max'] = float(np.nanmax(x))\n/tmp/ipykernel_60/282438512.py:112: RuntimeWarning: All-NaN slice encountered\n  feats[f's{j}_ptp'] = float(np.nanmax(x) - np.nanmin(x))\n/usr/local/lib/python3.11/dist-packages/numpy/lib/nanfunctions.py:1384: RuntimeWarning: All-NaN slice encountered\n  return _nanquantile_unchecked(\n/tmp/ipykernel_60/282438512.py:118: RuntimeWarning: Mean of empty slice\n  xm = np.nanmean(x)\n/tmp/ipykernel_60/282438512.py:120: RuntimeWarning: Degrees of freedom <= 0 for slice.\n  v = np.nanvar(xc)\n/tmp/ipykernel_60/282438512.py:129: RuntimeWarning: Mean of empty slice\n  feats[f's{j}_rms'] = float(np.sqrt(np.nanmean(x*x)))\n/tmp/ipykernel_60/282438512.py:50: RuntimeWarning: Mean of empty slice\n  x = x - np.nanmean(x)\n\rFE:   0%|          | 1/200 [00:00<00:24,  8.12it/s]"
          ]
        },
        {
          "output_type": "stream",
          "name": "stderr",
          "text": [
            "\rFE:   1%|          | 2/200 [00:00<00:25,  7.76it/s]"
          ]
        },
        {
          "output_type": "stream",
          "name": "stderr",
          "text": [
            "/tmp/ipykernel_60/282438512.py:108: RuntimeWarning: Mean of empty slice\n  feats[f's{j}_mean'] = float(np.nanmean(x))\n/usr/local/lib/python3.11/dist-packages/numpy/lib/nanfunctions.py:1879: RuntimeWarning: Degrees of freedom <= 0 for slice.\n  var = nanvar(a, axis=axis, dtype=dtype, out=out, ddof=ddof,\n/tmp/ipykernel_60/282438512.py:110: RuntimeWarning: All-NaN slice encountered\n  feats[f's{j}_min'] = float(np.nanmin(x))\n/tmp/ipykernel_60/282438512.py:111: RuntimeWarning: All-NaN slice encountered\n  feats[f's{j}_max'] = float(np.nanmax(x))\n/tmp/ipykernel_60/282438512.py:112: RuntimeWarning: All-NaN slice encountered\n  feats[f's{j}_ptp'] = float(np.nanmax(x) - np.nanmin(x))\n/usr/local/lib/python3.11/dist-packages/numpy/lib/nanfunctions.py:1384: RuntimeWarning: All-NaN slice encountered\n  return _nanquantile_unchecked(\n/tmp/ipykernel_60/282438512.py:118: RuntimeWarning: Mean of empty slice\n  xm = np.nanmean(x)\n/tmp/ipykernel_60/282438512.py:120: RuntimeWarning: Degrees of freedom <= 0 for slice.\n  v = np.nanvar(xc)\n/tmp/ipykernel_60/282438512.py:129: RuntimeWarning: Mean of empty slice\n  feats[f's{j}_rms'] = float(np.sqrt(np.nanmean(x*x)))\n/tmp/ipykernel_60/282438512.py:50: RuntimeWarning: Mean of empty slice\n  x = x - np.nanmean(x)\n\rFE:   2%|\u258f         | 3/200 [00:00<00:24,  8.04it/s]"
          ]
        },
        {
          "output_type": "stream",
          "name": "stderr",
          "text": [
            "/tmp/ipykernel_60/282438512.py:108: RuntimeWarning: Mean of empty slice\n  feats[f's{j}_mean'] = float(np.nanmean(x))\n/usr/local/lib/python3.11/dist-packages/numpy/lib/nanfunctions.py:1879: RuntimeWarning: Degrees of freedom <= 0 for slice.\n  var = nanvar(a, axis=axis, dtype=dtype, out=out, ddof=ddof,\n/tmp/ipykernel_60/282438512.py:110: RuntimeWarning: All-NaN slice encountered\n  feats[f's{j}_min'] = float(np.nanmin(x))\n/tmp/ipykernel_60/282438512.py:111: RuntimeWarning: All-NaN slice encountered\n  feats[f's{j}_max'] = float(np.nanmax(x))\n/tmp/ipykernel_60/282438512.py:112: RuntimeWarning: All-NaN slice encountered\n  feats[f's{j}_ptp'] = float(np.nanmax(x) - np.nanmin(x))\n/usr/local/lib/python3.11/dist-packages/numpy/lib/nanfunctions.py:1384: RuntimeWarning: All-NaN slice encountered\n  return _nanquantile_unchecked(\n/tmp/ipykernel_60/282438512.py:118: RuntimeWarning: Mean of empty slice\n  xm = np.nanmean(x)\n/tmp/ipykernel_60/282438512.py:120: RuntimeWarning: Degrees of freedom <= 0 for slice.\n  v = np.nanvar(xc)\n/tmp/ipykernel_60/282438512.py:129: RuntimeWarning: Mean of empty slice\n  feats[f's{j}_rms'] = float(np.sqrt(np.nanmean(x*x)))\n/tmp/ipykernel_60/282438512.py:50: RuntimeWarning: Mean of empty slice\n  x = x - np.nanmean(x)\n"
          ]
        },
        {
          "output_type": "stream",
          "name": "stderr",
          "text": [
            "\rFE:   2%|\u258f         | 4/200 [00:00<00:23,  8.32it/s]"
          ]
        },
        {
          "output_type": "stream",
          "name": "stderr",
          "text": [
            "\rFE:   2%|\u258e         | 5/200 [00:00<00:24,  8.01it/s]"
          ]
        },
        {
          "output_type": "stream",
          "name": "stderr",
          "text": [
            "/tmp/ipykernel_60/282438512.py:108: RuntimeWarning: Mean of empty slice\n  feats[f's{j}_mean'] = float(np.nanmean(x))\n/usr/local/lib/python3.11/dist-packages/numpy/lib/nanfunctions.py:1879: RuntimeWarning: Degrees of freedom <= 0 for slice.\n  var = nanvar(a, axis=axis, dtype=dtype, out=out, ddof=ddof,\n/tmp/ipykernel_60/282438512.py:110: RuntimeWarning: All-NaN slice encountered\n  feats[f's{j}_min'] = float(np.nanmin(x))\n/tmp/ipykernel_60/282438512.py:111: RuntimeWarning: All-NaN slice encountered\n  feats[f's{j}_max'] = float(np.nanmax(x))\n/tmp/ipykernel_60/282438512.py:112: RuntimeWarning: All-NaN slice encountered\n  feats[f's{j}_ptp'] = float(np.nanmax(x) - np.nanmin(x))\n/usr/local/lib/python3.11/dist-packages/numpy/lib/nanfunctions.py:1384: RuntimeWarning: All-NaN slice encountered\n  return _nanquantile_unchecked(\n/tmp/ipykernel_60/282438512.py:118: RuntimeWarning: Mean of empty slice\n  xm = np.nanmean(x)\n/tmp/ipykernel_60/282438512.py:120: RuntimeWarning: Degrees of freedom <= 0 for slice.\n  v = np.nanvar(xc)\n/tmp/ipykernel_60/282438512.py:129: RuntimeWarning: Mean of empty slice\n  feats[f's{j}_rms'] = float(np.sqrt(np.nanmean(x*x)))\n/tmp/ipykernel_60/282438512.py:50: RuntimeWarning: Mean of empty slice\n  x = x - np.nanmean(x)\n\rFE:   3%|\u258e         | 6/200 [00:00<00:25,  7.70it/s]"
          ]
        },
        {
          "output_type": "stream",
          "name": "stderr",
          "text": [
            "/tmp/ipykernel_60/282438512.py:108: RuntimeWarning: Mean of empty slice\n  feats[f's{j}_mean'] = float(np.nanmean(x))\n/usr/local/lib/python3.11/dist-packages/numpy/lib/nanfunctions.py:1879: RuntimeWarning: Degrees of freedom <= 0 for slice.\n  var = nanvar(a, axis=axis, dtype=dtype, out=out, ddof=ddof,\n/tmp/ipykernel_60/282438512.py:110: RuntimeWarning: All-NaN slice encountered\n  feats[f's{j}_min'] = float(np.nanmin(x))\n/tmp/ipykernel_60/282438512.py:111: RuntimeWarning: All-NaN slice encountered\n  feats[f's{j}_max'] = float(np.nanmax(x))\n/tmp/ipykernel_60/282438512.py:112: RuntimeWarning: All-NaN slice encountered\n  feats[f's{j}_ptp'] = float(np.nanmax(x) - np.nanmin(x))\n/usr/local/lib/python3.11/dist-packages/numpy/lib/nanfunctions.py:1384: RuntimeWarning: All-NaN slice encountered\n  return _nanquantile_unchecked(\n/tmp/ipykernel_60/282438512.py:118: RuntimeWarning: Mean of empty slice\n  xm = np.nanmean(x)\n/tmp/ipykernel_60/282438512.py:120: RuntimeWarning: Degrees of freedom <= 0 for slice.\n  v = np.nanvar(xc)\n/tmp/ipykernel_60/282438512.py:129: RuntimeWarning: Mean of empty slice\n  feats[f's{j}_rms'] = float(np.sqrt(np.nanmean(x*x)))\n/tmp/ipykernel_60/282438512.py:50: RuntimeWarning: Mean of empty slice\n  x = x - np.nanmean(x)\n\rFE:   4%|\u258e         | 7/200 [00:00<00:25,  7.70it/s]"
          ]
        },
        {
          "output_type": "stream",
          "name": "stderr",
          "text": [
            "\rFE:   4%|\u258d         | 8/200 [00:01<00:25,  7.51it/s]"
          ]
        },
        {
          "output_type": "stream",
          "name": "stderr",
          "text": [
            "\rFE:   4%|\u258d         | 9/200 [00:01<00:25,  7.40it/s]"
          ]
        },
        {
          "output_type": "stream",
          "name": "stderr",
          "text": [
            "\rFE:   5%|\u258c         | 10/200 [00:01<00:25,  7.34it/s]"
          ]
        },
        {
          "output_type": "stream",
          "name": "stderr",
          "text": [
            "\rFE:   6%|\u258c         | 11/200 [00:01<00:26,  7.18it/s]"
          ]
        },
        {
          "output_type": "stream",
          "name": "stderr",
          "text": [
            "\rFE:   6%|\u258c         | 12/200 [00:01<00:25,  7.28it/s]"
          ]
        },
        {
          "output_type": "stream",
          "name": "stderr",
          "text": [
            "\rFE:   6%|\u258b         | 13/200 [00:01<00:25,  7.35it/s]"
          ]
        },
        {
          "output_type": "stream",
          "name": "stderr",
          "text": [
            "\rFE:   7%|\u258b         | 14/200 [00:01<00:24,  7.46it/s]"
          ]
        },
        {
          "output_type": "stream",
          "name": "stderr",
          "text": [
            "\rFE:   8%|\u258a         | 15/200 [00:01<00:24,  7.48it/s]"
          ]
        },
        {
          "output_type": "stream",
          "name": "stderr",
          "text": [
            "/tmp/ipykernel_60/282438512.py:108: RuntimeWarning: Mean of empty slice\n  feats[f's{j}_mean'] = float(np.nanmean(x))\n/usr/local/lib/python3.11/dist-packages/numpy/lib/nanfunctions.py:1879: RuntimeWarning: Degrees of freedom <= 0 for slice.\n  var = nanvar(a, axis=axis, dtype=dtype, out=out, ddof=ddof,\n/tmp/ipykernel_60/282438512.py:110: RuntimeWarning: All-NaN slice encountered\n  feats[f's{j}_min'] = float(np.nanmin(x))\n/tmp/ipykernel_60/282438512.py:111: RuntimeWarning: All-NaN slice encountered\n  feats[f's{j}_max'] = float(np.nanmax(x))\n/tmp/ipykernel_60/282438512.py:112: RuntimeWarning: All-NaN slice encountered\n  feats[f's{j}_ptp'] = float(np.nanmax(x) - np.nanmin(x))\n/usr/local/lib/python3.11/dist-packages/numpy/lib/nanfunctions.py:1384: RuntimeWarning: All-NaN slice encountered\n  return _nanquantile_unchecked(\n/tmp/ipykernel_60/282438512.py:118: RuntimeWarning: Mean of empty slice\n  xm = np.nanmean(x)\n/tmp/ipykernel_60/282438512.py:120: RuntimeWarning: Degrees of freedom <= 0 for slice.\n  v = np.nanvar(xc)\n/tmp/ipykernel_60/282438512.py:129: RuntimeWarning: Mean of empty slice\n  feats[f's{j}_rms'] = float(np.sqrt(np.nanmean(x*x)))\n/tmp/ipykernel_60/282438512.py:50: RuntimeWarning: Mean of empty slice\n  x = x - np.nanmean(x)\n\rFE:   8%|\u258a         | 16/200 [00:02<00:24,  7.65it/s]"
          ]
        },
        {
          "output_type": "stream",
          "name": "stderr",
          "text": [
            "\rFE:   8%|\u258a         | 17/200 [00:02<00:24,  7.56it/s]"
          ]
        },
        {
          "output_type": "stream",
          "name": "stderr",
          "text": [
            "\rFE:   9%|\u2589         | 18/200 [00:02<00:23,  7.59it/s]"
          ]
        },
        {
          "output_type": "stream",
          "name": "stderr",
          "text": [
            "\rFE:  10%|\u2589         | 19/200 [00:02<00:23,  7.59it/s]"
          ]
        },
        {
          "output_type": "stream",
          "name": "stderr",
          "text": [
            "\rFE:  10%|\u2588         | 20/200 [00:02<00:23,  7.57it/s]"
          ]
        },
        {
          "output_type": "stream",
          "name": "stderr",
          "text": [
            "/tmp/ipykernel_60/282438512.py:108: RuntimeWarning: Mean of empty slice\n  feats[f's{j}_mean'] = float(np.nanmean(x))\n/usr/local/lib/python3.11/dist-packages/numpy/lib/nanfunctions.py:1879: RuntimeWarning: Degrees of freedom <= 0 for slice.\n  var = nanvar(a, axis=axis, dtype=dtype, out=out, ddof=ddof,\n/tmp/ipykernel_60/282438512.py:110: RuntimeWarning: All-NaN slice encountered\n  feats[f's{j}_min'] = float(np.nanmin(x))\n/tmp/ipykernel_60/282438512.py:111: RuntimeWarning: All-NaN slice encountered\n  feats[f's{j}_max'] = float(np.nanmax(x))\n/tmp/ipykernel_60/282438512.py:112: RuntimeWarning: All-NaN slice encountered\n  feats[f's{j}_ptp'] = float(np.nanmax(x) - np.nanmin(x))\n/usr/local/lib/python3.11/dist-packages/numpy/lib/nanfunctions.py:1384: RuntimeWarning: All-NaN slice encountered\n  return _nanquantile_unchecked(\n/tmp/ipykernel_60/282438512.py:118: RuntimeWarning: Mean of empty slice\n  xm = np.nanmean(x)\n/tmp/ipykernel_60/282438512.py:120: RuntimeWarning: Degrees of freedom <= 0 for slice.\n  v = np.nanvar(xc)\n/tmp/ipykernel_60/282438512.py:129: RuntimeWarning: Mean of empty slice\n  feats[f's{j}_rms'] = float(np.sqrt(np.nanmean(x*x)))\n/tmp/ipykernel_60/282438512.py:50: RuntimeWarning: Mean of empty slice\n  x = x - np.nanmean(x)\n\rFE:  10%|\u2588         | 21/200 [00:02<00:23,  7.71it/s]"
          ]
        },
        {
          "output_type": "stream",
          "name": "stderr",
          "text": [
            "\rFE:  11%|\u2588         | 22/200 [00:02<00:23,  7.68it/s]"
          ]
        },
        {
          "output_type": "stream",
          "name": "stderr",
          "text": [
            "\rFE:  12%|\u2588\u258f        | 23/200 [00:03<00:23,  7.68it/s]"
          ]
        },
        {
          "output_type": "stream",
          "name": "stderr",
          "text": [
            "\rFE:  12%|\u2588\u258f        | 24/200 [00:03<00:22,  7.67it/s]"
          ]
        },
        {
          "output_type": "stream",
          "name": "stderr",
          "text": [
            "\rFE:  12%|\u2588\u258e        | 25/200 [00:03<00:22,  7.68it/s]"
          ]
        },
        {
          "output_type": "stream",
          "name": "stderr",
          "text": [
            "/tmp/ipykernel_60/282438512.py:108: RuntimeWarning: Mean of empty slice\n  feats[f's{j}_mean'] = float(np.nanmean(x))\n/usr/local/lib/python3.11/dist-packages/numpy/lib/nanfunctions.py:1879: RuntimeWarning: Degrees of freedom <= 0 for slice.\n  var = nanvar(a, axis=axis, dtype=dtype, out=out, ddof=ddof,\n/tmp/ipykernel_60/282438512.py:110: RuntimeWarning: All-NaN slice encountered\n  feats[f's{j}_min'] = float(np.nanmin(x))\n/tmp/ipykernel_60/282438512.py:111: RuntimeWarning: All-NaN slice encountered\n  feats[f's{j}_max'] = float(np.nanmax(x))\n/tmp/ipykernel_60/282438512.py:112: RuntimeWarning: All-NaN slice encountered\n  feats[f's{j}_ptp'] = float(np.nanmax(x) - np.nanmin(x))\n/usr/local/lib/python3.11/dist-packages/numpy/lib/nanfunctions.py:1384: RuntimeWarning: All-NaN slice encountered\n  return _nanquantile_unchecked(\n/tmp/ipykernel_60/282438512.py:118: RuntimeWarning: Mean of empty slice\n  xm = np.nanmean(x)\n/tmp/ipykernel_60/282438512.py:120: RuntimeWarning: Degrees of freedom <= 0 for slice.\n  v = np.nanvar(xc)\n/tmp/ipykernel_60/282438512.py:129: RuntimeWarning: Mean of empty slice\n  feats[f's{j}_rms'] = float(np.sqrt(np.nanmean(x*x)))\n/tmp/ipykernel_60/282438512.py:50: RuntimeWarning: Mean of empty slice\n  x = x - np.nanmean(x)\n"
          ]
        },
        {
          "output_type": "stream",
          "name": "stderr",
          "text": [
            "\rFE:  13%|\u2588\u258e        | 26/200 [00:03<00:21,  7.93it/s]"
          ]
        },
        {
          "output_type": "stream",
          "name": "stderr",
          "text": [
            "/tmp/ipykernel_60/282438512.py:108: RuntimeWarning: Mean of empty slice\n  feats[f's{j}_mean'] = float(np.nanmean(x))\n/usr/local/lib/python3.11/dist-packages/numpy/lib/nanfunctions.py:1879: RuntimeWarning: Degrees of freedom <= 0 for slice.\n  var = nanvar(a, axis=axis, dtype=dtype, out=out, ddof=ddof,\n/tmp/ipykernel_60/282438512.py:110: RuntimeWarning: All-NaN slice encountered\n  feats[f's{j}_min'] = float(np.nanmin(x))\n/tmp/ipykernel_60/282438512.py:111: RuntimeWarning: All-NaN slice encountered\n  feats[f's{j}_max'] = float(np.nanmax(x))\n/tmp/ipykernel_60/282438512.py:112: RuntimeWarning: All-NaN slice encountered\n  feats[f's{j}_ptp'] = float(np.nanmax(x) - np.nanmin(x))\n/usr/local/lib/python3.11/dist-packages/numpy/lib/nanfunctions.py:1384: RuntimeWarning: All-NaN slice encountered\n  return _nanquantile_unchecked(\n/tmp/ipykernel_60/282438512.py:118: RuntimeWarning: Mean of empty slice\n  xm = np.nanmean(x)\n/tmp/ipykernel_60/282438512.py:120: RuntimeWarning: Degrees of freedom <= 0 for slice.\n  v = np.nanvar(xc)\n/tmp/ipykernel_60/282438512.py:129: RuntimeWarning: Mean of empty slice\n  feats[f's{j}_rms'] = float(np.sqrt(np.nanmean(x*x)))\n/tmp/ipykernel_60/282438512.py:50: RuntimeWarning: Mean of empty slice\n  x = x - np.nanmean(x)\n\rFE:  14%|\u2588\u258e        | 27/200 [00:03<00:21,  7.95it/s]"
          ]
        },
        {
          "output_type": "stream",
          "name": "stderr",
          "text": [
            "/tmp/ipykernel_60/282438512.py:108: RuntimeWarning: Mean of empty slice\n  feats[f's{j}_mean'] = float(np.nanmean(x))\n/usr/local/lib/python3.11/dist-packages/numpy/lib/nanfunctions.py:1879: RuntimeWarning: Degrees of freedom <= 0 for slice.\n  var = nanvar(a, axis=axis, dtype=dtype, out=out, ddof=ddof,\n/tmp/ipykernel_60/282438512.py:110: RuntimeWarning: All-NaN slice encountered\n  feats[f's{j}_min'] = float(np.nanmin(x))\n/tmp/ipykernel_60/282438512.py:111: RuntimeWarning: All-NaN slice encountered\n  feats[f's{j}_max'] = float(np.nanmax(x))\n/tmp/ipykernel_60/282438512.py:112: RuntimeWarning: All-NaN slice encountered\n  feats[f's{j}_ptp'] = float(np.nanmax(x) - np.nanmin(x))\n/usr/local/lib/python3.11/dist-packages/numpy/lib/nanfunctions.py:1384: RuntimeWarning: All-NaN slice encountered\n  return _nanquantile_unchecked(\n/tmp/ipykernel_60/282438512.py:118: RuntimeWarning: Mean of empty slice\n  xm = np.nanmean(x)\n/tmp/ipykernel_60/282438512.py:120: RuntimeWarning: Degrees of freedom <= 0 for slice.\n  v = np.nanvar(xc)\n/tmp/ipykernel_60/282438512.py:129: RuntimeWarning: Mean of empty slice\n  feats[f's{j}_rms'] = float(np.sqrt(np.nanmean(x*x)))\n/tmp/ipykernel_60/282438512.py:50: RuntimeWarning: Mean of empty slice\n  x = x - np.nanmean(x)\n\rFE:  14%|\u2588\u258d        | 28/200 [00:03<00:21,  8.04it/s]"
          ]
        },
        {
          "output_type": "stream",
          "name": "stderr",
          "text": [
            "/tmp/ipykernel_60/282438512.py:108: RuntimeWarning: Mean of empty slice\n  feats[f's{j}_mean'] = float(np.nanmean(x))\n/usr/local/lib/python3.11/dist-packages/numpy/lib/nanfunctions.py:1879: RuntimeWarning: Degrees of freedom <= 0 for slice.\n  var = nanvar(a, axis=axis, dtype=dtype, out=out, ddof=ddof,\n/tmp/ipykernel_60/282438512.py:110: RuntimeWarning: All-NaN slice encountered\n  feats[f's{j}_min'] = float(np.nanmin(x))\n/tmp/ipykernel_60/282438512.py:111: RuntimeWarning: All-NaN slice encountered\n  feats[f's{j}_max'] = float(np.nanmax(x))\n/tmp/ipykernel_60/282438512.py:112: RuntimeWarning: All-NaN slice encountered\n  feats[f's{j}_ptp'] = float(np.nanmax(x) - np.nanmin(x))\n/usr/local/lib/python3.11/dist-packages/numpy/lib/nanfunctions.py:1384: RuntimeWarning: All-NaN slice encountered\n  return _nanquantile_unchecked(\n/tmp/ipykernel_60/282438512.py:118: RuntimeWarning: Mean of empty slice\n  xm = np.nanmean(x)\n/tmp/ipykernel_60/282438512.py:120: RuntimeWarning: Degrees of freedom <= 0 for slice.\n  v = np.nanvar(xc)\n/tmp/ipykernel_60/282438512.py:129: RuntimeWarning: Mean of empty slice\n  feats[f's{j}_rms'] = float(np.sqrt(np.nanmean(x*x)))\n/tmp/ipykernel_60/282438512.py:50: RuntimeWarning: Mean of empty slice\n  x = x - np.nanmean(x)\n\rFE:  14%|\u2588\u258d        | 29/200 [00:03<00:21,  8.10it/s]"
          ]
        },
        {
          "output_type": "stream",
          "name": "stderr",
          "text": [
            "/tmp/ipykernel_60/282438512.py:108: RuntimeWarning: Mean of empty slice\n  feats[f's{j}_mean'] = float(np.nanmean(x))\n/usr/local/lib/python3.11/dist-packages/numpy/lib/nanfunctions.py:1879: RuntimeWarning: Degrees of freedom <= 0 for slice.\n  var = nanvar(a, axis=axis, dtype=dtype, out=out, ddof=ddof,\n/tmp/ipykernel_60/282438512.py:110: RuntimeWarning: All-NaN slice encountered\n  feats[f's{j}_min'] = float(np.nanmin(x))\n/tmp/ipykernel_60/282438512.py:111: RuntimeWarning: All-NaN slice encountered\n  feats[f's{j}_max'] = float(np.nanmax(x))\n/tmp/ipykernel_60/282438512.py:112: RuntimeWarning: All-NaN slice encountered\n  feats[f's{j}_ptp'] = float(np.nanmax(x) - np.nanmin(x))\n/usr/local/lib/python3.11/dist-packages/numpy/lib/nanfunctions.py:1384: RuntimeWarning: All-NaN slice encountered\n  return _nanquantile_unchecked(\n/tmp/ipykernel_60/282438512.py:118: RuntimeWarning: Mean of empty slice\n  xm = np.nanmean(x)\n/tmp/ipykernel_60/282438512.py:120: RuntimeWarning: Degrees of freedom <= 0 for slice.\n  v = np.nanvar(xc)\n/tmp/ipykernel_60/282438512.py:129: RuntimeWarning: Mean of empty slice\n  feats[f's{j}_rms'] = float(np.sqrt(np.nanmean(x*x)))\n/tmp/ipykernel_60/282438512.py:50: RuntimeWarning: Mean of empty slice\n  x = x - np.nanmean(x)\n\rFE:  15%|\u2588\u258c        | 30/200 [00:03<00:20,  8.27it/s]"
          ]
        },
        {
          "output_type": "stream",
          "name": "stderr",
          "text": [
            "\rFE:  16%|\u2588\u258c        | 31/200 [00:04<00:20,  8.11it/s]"
          ]
        },
        {
          "output_type": "stream",
          "name": "stderr",
          "text": [
            "/tmp/ipykernel_60/282438512.py:108: RuntimeWarning: Mean of empty slice\n  feats[f's{j}_mean'] = float(np.nanmean(x))\n/usr/local/lib/python3.11/dist-packages/numpy/lib/nanfunctions.py:1879: RuntimeWarning: Degrees of freedom <= 0 for slice.\n  var = nanvar(a, axis=axis, dtype=dtype, out=out, ddof=ddof,\n/tmp/ipykernel_60/282438512.py:110: RuntimeWarning: All-NaN slice encountered\n  feats[f's{j}_min'] = float(np.nanmin(x))\n/tmp/ipykernel_60/282438512.py:111: RuntimeWarning: All-NaN slice encountered\n  feats[f's{j}_max'] = float(np.nanmax(x))\n/tmp/ipykernel_60/282438512.py:112: RuntimeWarning: All-NaN slice encountered\n  feats[f's{j}_ptp'] = float(np.nanmax(x) - np.nanmin(x))\n/usr/local/lib/python3.11/dist-packages/numpy/lib/nanfunctions.py:1384: RuntimeWarning: All-NaN slice encountered\n  return _nanquantile_unchecked(\n/tmp/ipykernel_60/282438512.py:118: RuntimeWarning: Mean of empty slice\n  xm = np.nanmean(x)\n/tmp/ipykernel_60/282438512.py:120: RuntimeWarning: Degrees of freedom <= 0 for slice.\n  v = np.nanvar(xc)\n/tmp/ipykernel_60/282438512.py:129: RuntimeWarning: Mean of empty slice\n  feats[f's{j}_rms'] = float(np.sqrt(np.nanmean(x*x)))\n/tmp/ipykernel_60/282438512.py:50: RuntimeWarning: Mean of empty slice\n  x = x - np.nanmean(x)\n\rFE:  16%|\u2588\u258c        | 32/200 [00:04<00:20,  8.13it/s]"
          ]
        },
        {
          "output_type": "stream",
          "name": "stderr",
          "text": [
            "\rFE:  16%|\u2588\u258b        | 33/200 [00:04<00:21,  7.89it/s]"
          ]
        },
        {
          "output_type": "stream",
          "name": "stderr",
          "text": [
            "/tmp/ipykernel_60/282438512.py:108: RuntimeWarning: Mean of empty slice\n  feats[f's{j}_mean'] = float(np.nanmean(x))\n/usr/local/lib/python3.11/dist-packages/numpy/lib/nanfunctions.py:1879: RuntimeWarning: Degrees of freedom <= 0 for slice.\n  var = nanvar(a, axis=axis, dtype=dtype, out=out, ddof=ddof,\n/tmp/ipykernel_60/282438512.py:110: RuntimeWarning: All-NaN slice encountered\n  feats[f's{j}_min'] = float(np.nanmin(x))\n/tmp/ipykernel_60/282438512.py:111: RuntimeWarning: All-NaN slice encountered\n  feats[f's{j}_max'] = float(np.nanmax(x))\n/tmp/ipykernel_60/282438512.py:112: RuntimeWarning: All-NaN slice encountered\n  feats[f's{j}_ptp'] = float(np.nanmax(x) - np.nanmin(x))\n/usr/local/lib/python3.11/dist-packages/numpy/lib/nanfunctions.py:1384: RuntimeWarning: All-NaN slice encountered\n  return _nanquantile_unchecked(\n/tmp/ipykernel_60/282438512.py:118: RuntimeWarning: Mean of empty slice\n  xm = np.nanmean(x)\n/tmp/ipykernel_60/282438512.py:120: RuntimeWarning: Degrees of freedom <= 0 for slice.\n  v = np.nanvar(xc)\n/tmp/ipykernel_60/282438512.py:129: RuntimeWarning: Mean of empty slice\n  feats[f's{j}_rms'] = float(np.sqrt(np.nanmean(x*x)))\n/tmp/ipykernel_60/282438512.py:50: RuntimeWarning: Mean of empty slice\n  x = x - np.nanmean(x)\n\rFE:  17%|\u2588\u258b        | 34/200 [00:04<00:20,  7.99it/s]"
          ]
        },
        {
          "output_type": "stream",
          "name": "stderr",
          "text": [
            "\rFE:  18%|\u2588\u258a        | 35/200 [00:04<00:21,  7.77it/s]"
          ]
        },
        {
          "output_type": "stream",
          "name": "stderr",
          "text": [
            "\rFE:  18%|\u2588\u258a        | 36/200 [00:04<00:21,  7.61it/s]"
          ]
        },
        {
          "output_type": "stream",
          "name": "stderr",
          "text": [
            "\rFE:  18%|\u2588\u258a        | 37/200 [00:04<00:21,  7.52it/s]"
          ]
        },
        {
          "output_type": "stream",
          "name": "stderr",
          "text": [
            "\rFE:  19%|\u2588\u2589        | 38/200 [00:04<00:21,  7.54it/s]"
          ]
        },
        {
          "output_type": "stream",
          "name": "stderr",
          "text": [
            "/tmp/ipykernel_60/282438512.py:108: RuntimeWarning: Mean of empty slice\n  feats[f's{j}_mean'] = float(np.nanmean(x))\n/usr/local/lib/python3.11/dist-packages/numpy/lib/nanfunctions.py:1879: RuntimeWarning: Degrees of freedom <= 0 for slice.\n  var = nanvar(a, axis=axis, dtype=dtype, out=out, ddof=ddof,\n/tmp/ipykernel_60/282438512.py:110: RuntimeWarning: All-NaN slice encountered\n  feats[f's{j}_min'] = float(np.nanmin(x))\n/tmp/ipykernel_60/282438512.py:111: RuntimeWarning: All-NaN slice encountered\n  feats[f's{j}_max'] = float(np.nanmax(x))\n/tmp/ipykernel_60/282438512.py:112: RuntimeWarning: All-NaN slice encountered\n  feats[f's{j}_ptp'] = float(np.nanmax(x) - np.nanmin(x))\n/usr/local/lib/python3.11/dist-packages/numpy/lib/nanfunctions.py:1384: RuntimeWarning: All-NaN slice encountered\n  return _nanquantile_unchecked(\n/tmp/ipykernel_60/282438512.py:118: RuntimeWarning: Mean of empty slice\n  xm = np.nanmean(x)\n/tmp/ipykernel_60/282438512.py:120: RuntimeWarning: Degrees of freedom <= 0 for slice.\n  v = np.nanvar(xc)\n/tmp/ipykernel_60/282438512.py:129: RuntimeWarning: Mean of empty slice\n  feats[f's{j}_rms'] = float(np.sqrt(np.nanmean(x*x)))\n/tmp/ipykernel_60/282438512.py:50: RuntimeWarning: Mean of empty slice\n  x = x - np.nanmean(x)\n\rFE:  20%|\u2588\u2589        | 39/200 [00:05<00:21,  7.65it/s]"
          ]
        }
      ]
    },
    {
      "id": "ad2c03a9-63b3-465f-8071-2d471b5461a5",
      "cell_type": "code",
      "metadata": {},
      "source": [
        "# Parallel Feature Extraction v1.1: robust NaN handling + joblib parallel\n",
        "import os, time, math, glob, warnings\n",
        "import numpy as np\n",
        "import pandas as pd\n",
        "from joblib import Parallel, delayed\n",
        "\n",
        "warnings.filterwarnings('ignore')\n",
        "np.seterr(all='ignore')\n",
        "\n",
        "train_df = pd.read_csv('train.csv')\n",
        "train_dir = 'train'\n",
        "\n",
        "def zero_crossings(x):\n",
        "    x = np.asarray(x, dtype=np.float32)\n",
        "    if x.size < 2:\n",
        "        return 0\n",
        "    return int(((x[:-1] * x[1:]) < 0).sum())\n",
        "\n",
        "def hjorth_params(x):\n",
        "    x = np.asarray(x, dtype=np.float32)\n",
        "    n = x.size\n",
        "    if n < 3:\n",
        "        return (np.nan, np.nan, np.nan)\n",
        "    dx = np.diff(x)\n",
        "    ddx = np.diff(dx)\n",
        "    var_x = float(np.var(x))\n",
        "    var_dx = float(np.var(dx))\n",
        "    var_ddx = float(np.var(ddx)) if ddx.size else np.nan\n",
        "    activity = var_x\n",
        "    mobility = math.sqrt(var_dx / var_x) if var_x > 0 else np.nan\n",
        "    complexity = (math.sqrt(var_ddx / var_dx) / mobility) if (var_dx > 0 and mobility not in (0.0, np.nan)) else np.nan\n",
        "    return activity, mobility, complexity\n",
        "\n",
        "def linear_trend_slope(x):\n",
        "    x = np.asarray(x, dtype=np.float32)\n",
        "    n = x.size\n",
        "    if n < 2:\n",
        "        return np.nan\n",
        "    idx = np.arange(n, dtype=np.float32)\n",
        "    idx_mean = (n - 1) / 2.0\n",
        "    x_mean = float(np.mean(x)) if n else 0.0\n",
        "    cov = float(((idx - idx_mean) * (x - x_mean)).sum())\n",
        "    var = float(((idx - idx_mean) ** 2).sum())\n",
        "    return cov / var if var > 0 else np.nan\n",
        "\n",
        "def spectral_features(x, n_bands=6, downsample=10):\n",
        "    x = np.asarray(x, dtype=np.float32)\n",
        "    if downsample > 1:\n",
        "        x = x[::downsample]\n",
        "    if x.size < 8:\n",
        "        return {}\n",
        "    x = x - float(np.mean(x))\n",
        "    x = np.nan_to_num(x)\n",
        "    n = x.size\n",
        "    nfft = 1 << (n - 1).bit_length()\n",
        "    X = np.fft.rfft(x, n=nfft)\n",
        "    P = (np.abs(X) ** 2).astype(np.float32)\n",
        "    if P.size == 0:\n",
        "        return {}\n",
        "    P[0] = 0.0\n",
        "    L = len(P)\n",
        "    edges = np.unique(np.round(np.geomspace(1, L - 1, num=n_bands + 1)).astype(int))\n",
        "    if edges[-1] != L - 1:\n",
        "        edges[-1] = L - 1\n",
        "    feats = {}\n",
        "    for i in range(len(edges) - 1):\n",
        "        a, b = edges[i], edges[i + 1]\n",
        "        if b <= a:\n",
        "            feats[f'band_{i}_energy'] = 0.0\n",
        "        else:\n",
        "            e = float(P[a:b].sum())\n",
        "            feats[f'band_{i}_energy'] = math.log1p(e)\n",
        "    total = float(np.sum(P)) + 1e-12\n",
        "    idx = np.arange(L, dtype=np.float32)\n",
        "    feats['spec_centroid'] = float((idx * P).sum() / total)\n",
        "    p = P / total\n",
        "    p = p[p > 0]\n",
        "    feats['spec_entropy'] = -float(np.sum(p * np.log(p))) if p.size else 0.0\n",
        "    geo_mean = float(np.exp(np.mean(np.log(P[P > 0])))) if np.any(P > 0) else 0.0\n",
        "    arith_mean = float(np.mean(P)) + 1e-12\n",
        "    feats['spec_flatness'] = geo_mean / arith_mean\n",
        "    dom_idx = int(np.argmax(P)) if P.size else 0\n",
        "    feats['dom_freq_bin'] = dom_idx\n",
        "    feats['dom_power_log1p'] = math.log1p(float(P[dom_idx])) if P.size else 0.0\n",
        "    return feats\n",
        "\n",
        "def per_sensor_features(x):\n",
        "    # x is 1D float32, may contain NaN\n",
        "    if x.size == 0:\n",
        "        return {}\n",
        "    feats = {}\n",
        "    valid = np.isfinite(x)\n",
        "    if not np.any(valid):\n",
        "        # all NaN: fill informative NaNs and zeros where appropriate\n",
        "        feats.update({\n",
        "            'mean': np.nan, 'std': np.nan, 'min': np.nan, 'max': np.nan, 'ptp': np.nan,\n",
        "            'rms': np.nan, 'zcr': 0.0, 'skew': np.nan, 'kurt': np.nan,\n",
        "            'hj_activity': np.nan, 'hj_mobility': np.nan, 'hj_complexity': np.nan, 'trend_slope': np.nan\n",
        "        })\n",
        "        # spectral placeholders\n",
        "        feats.update({\n",
        "            'spec_centroid': np.nan, 'spec_entropy': np.nan, 'spec_flatness': np.nan,\n",
        "            'dom_freq_bin': 0, 'dom_power_log1p': 0.0,\n",
        "            **{f'band_{i}_energy': 0.0 for i in range(6)}\n",
        "        })\n",
        "        # quantiles\n",
        "        for q in [1,5,10,25,50,75,90,95,99]:\n",
        "            feats[f'q{q}'] = np.nan\n",
        "        return feats\n",
        "    x = x.astype(np.float32)\n",
        "    x = np.where(valid, x, np.nan)\n",
        "    feats['mean'] = float(np.nanmean(x))\n",
        "    feats['std'] = float(np.nanstd(x))\n",
        "    feats['min'] = float(np.nanmin(x))\n",
        "    feats['max'] = float(np.nanmax(x))\n",
        "    feats['ptp'] = feats['max'] - feats['min']\n",
        "    qs = [1,5,10,25,50,75,90,95,99]\n",
        "    qv = np.nanpercentile(x, qs)\n",
        "    for qi, q in enumerate(qs):\n",
        "        feats[f'q{q}'] = float(qv[qi])\n",
        "    xm = float(np.nanmean(x))\n",
        "    xc = x - xm\n",
        "    v = float(np.nanvar(xc))\n",
        "    if v > 0:\n",
        "        m3 = float(np.nanmean(xc**3))\n",
        "        m4 = float(np.nanmean(xc**4))\n",
        "        feats['skew'] = m3 / (v**1.5 + 1e-12)\n",
        "        feats['kurt'] = m4 / (v**2 + 1e-12)\n",
        "    else:\n",
        "        feats['skew'] = np.nan\n",
        "        feats['kurt'] = np.nan\n",
        "    feats['rms'] = float(np.sqrt(np.nanmean(x*x)))\n",
        "    feats['zcr'] = float(zero_crossings(np.nan_to_num(x))) / max(1, x.size - 1)\n",
        "    a, m, c = hjorth_params(np.nan_to_num(x))\n",
        "    feats['hj_activity'] = float(a)\n",
        "    feats['hj_mobility'] = float(m) if np.isfinite(m) else np.nan\n",
        "    feats['hj_complexity'] = float(c) if np.isfinite(c) else np.nan\n",
        "    feats['trend_slope'] = float(linear_trend_slope(np.nan_to_num(x)))\n",
        "    # spectral\n",
        "    feats.update(spectral_features(x, n_bands=6, downsample=10))\n",
        "    return feats\n",
        "\n",
        "def extract_one(path):\n",
        "    seg_id = os.path.splitext(os.path.basename(path))[0]\n",
        "    try:\n",
        "        df = pd.read_csv(path)\n",
        "        arr = df.values.astype(np.float32)\n",
        "        T, C = arr.shape\n",
        "        out = {'segment_id': seg_id, 'rows': T, 'cols': C, 'missing_frac': float(np.isnan(arr).mean())}\n",
        "        for j in range(C):\n",
        "            f = per_sensor_features(arr[:, j])\n",
        "            for k, v in f.items():\n",
        "                out[f's{j}_{k}'] = v\n",
        "        return out\n",
        "    except Exception as e:\n",
        "        return {'segment_id': seg_id, 'error': str(e)}\n",
        "\n",
        "# Fast smoke parallel run on 80 segments\n",
        "sub_n = min(80, len(train_df))\n",
        "sub_ids = train_df['segment_id'].astype(str).values[:sub_n]\n",
        "sub_files = [os.path.join(train_dir, f'{sid}.csv') for sid in sub_ids]\n",
        "print('Parallel FE on subsample:', len(sub_files))\n",
        "t0 = time.time()\n",
        "n_jobs = max(1, os.cpu_count() - 2)\n",
        "results = Parallel(n_jobs=n_jobs, prefer='processes', batch_size=2)(delayed(extract_one)(p) for p in sub_files)\n",
        "elapsed = time.time() - t0\n",
        "print(f'FE done in {elapsed:.1f}s with n_jobs={n_jobs}')\n",
        "err = [r for r in results if 'error' in r]\n",
        "print('Errors:', len(err))\n",
        "feat_df = pd.DataFrame([r for r in results if 'error' not in r])\n",
        "feat_df = feat_df.merge(train_df[['segment_id', 'time_to_eruption']].astype({'segment_id': str}), on='segment_id', how='left')\n",
        "print('Sub features shape:', feat_df.shape)\n",
        "print('Columns:', len(feat_df.columns))\n",
        "feat_df.to_parquet('features_sub_train_parallel.parquet', index=False)\n",
        "print('Wrote features_sub_train_parallel.parquet')"
      ],
      "execution_count": 3,
      "outputs": [
        {
          "output_type": "stream",
          "name": "stdout",
          "text": [
            "Parallel FE on subsample: 80\n"
          ]
        },
        {
          "output_type": "stream",
          "name": "stdout",
          "text": [
            "FE done in 2.0s with n_jobs=34\nErrors: 0\nSub features shape: (80, 335)\nColumns: 335\nWrote features_sub_train_parallel.parquet\n"
          ]
        }
      ]
    },
    {
      "id": "35fa9c32-6294-4074-b19c-1f6fe17fc1a3",
      "cell_type": "code",
      "metadata": {},
      "source": [
        "# Full Feature Extraction (train/test) with parallelism and grouping aids\n",
        "import os, time, math, warnings\n",
        "import numpy as np\n",
        "import pandas as pd\n",
        "from joblib import Parallel, delayed\n",
        "\n",
        "warnings.filterwarnings('ignore')\n",
        "np.seterr(all='ignore')\n",
        "\n",
        "train_df = pd.read_csv('train.csv')\n",
        "ss_df = pd.read_csv('sample_submission.csv')\n",
        "train_dir, test_dir = 'train', 'test'\n",
        "\n",
        "def zero_crossings(x):\n",
        "    x = np.asarray(x, dtype=np.float32)\n",
        "    if x.size < 2:\n",
        "        return 0\n",
        "    return int(((x[:-1] * x[1:]) < 0).sum())\n",
        "\n",
        "def hjorth_params(x):\n",
        "    x = np.asarray(x, dtype=np.float32)\n",
        "    n = x.size\n",
        "    if n < 3:\n",
        "        return (np.nan, np.nan, np.nan)\n",
        "    dx = np.diff(x)\n",
        "    ddx = np.diff(dx)\n",
        "    var_x = float(np.var(x))\n",
        "    var_dx = float(np.var(dx))\n",
        "    var_ddx = float(np.var(ddx)) if ddx.size else np.nan\n",
        "    activity = var_x\n",
        "    mobility = math.sqrt(var_dx / var_x) if var_x > 0 else np.nan\n",
        "    complexity = (math.sqrt(var_ddx / var_dx) / mobility) if (var_dx > 0 and mobility not in (0.0, np.nan)) else np.nan\n",
        "    return activity, mobility, complexity\n",
        "\n",
        "def linear_trend_slope(x):\n",
        "    x = np.asarray(x, dtype=np.float32)\n",
        "    n = x.size\n",
        "    if n < 2:\n",
        "        return np.nan\n",
        "    idx = np.arange(n, dtype=np.float32)\n",
        "    idx_mean = (n - 1) / 2.0\n",
        "    x_mean = float(np.mean(x)) if n else 0.0\n",
        "    cov = float(((idx - idx_mean) * (x - x_mean)).sum())\n",
        "    var = float(((idx - idx_mean) ** 2).sum())\n",
        "    return cov / var if var > 0 else np.nan\n",
        "\n",
        "def spectral_features(x, n_bands=6, downsample=10):\n",
        "    x = np.asarray(x, dtype=np.float32)\n",
        "    if downsample > 1:\n",
        "        x = x[::downsample]\n",
        "    if x.size < 8:\n",
        "        return {}\n",
        "    x = x - float(np.mean(x))\n",
        "    x = np.nan_to_num(x)\n",
        "    n = x.size\n",
        "    nfft = 1 << (n - 1).bit_length()\n",
        "    X = np.fft.rfft(x, n=nfft)\n",
        "    P = (np.abs(X) ** 2).astype(np.float32)\n",
        "    if P.size == 0:\n",
        "        return {}\n",
        "    P[0] = 0.0\n",
        "    L = len(P)\n",
        "    edges = np.unique(np.round(np.geomspace(1, L - 1, num=n_bands + 1)).astype(int))\n",
        "    if edges[-1] != L - 1:\n",
        "        edges[-1] = L - 1\n",
        "    feats = {}\n",
        "    for i in range(len(edges) - 1):\n",
        "        a, b = edges[i], edges[i + 1]\n",
        "        if b <= a:\n",
        "            feats[f'band_{i}_energy'] = 0.0\n",
        "        else:\n",
        "            e = float(P[a:b].sum())\n",
        "            feats[f'band_{i}_energy'] = math.log1p(e)\n",
        "    total = float(np.sum(P)) + 1e-12\n",
        "    idx = np.arange(L, dtype=np.float32)\n",
        "    feats['spec_centroid'] = float((idx * P).sum() / total)\n",
        "    p = P / total\n",
        "    p = p[p > 0]\n",
        "    feats['spec_entropy'] = -float(np.sum(p * np.log(p))) if p.size else 0.0\n",
        "    geo_mean = float(np.exp(np.mean(np.log(P[P > 0])))) if np.any(P > 0) else 0.0\n",
        "    arith_mean = float(np.mean(P)) + 1e-12\n",
        "    feats['spec_flatness'] = geo_mean / arith_mean\n",
        "    dom_idx = int(np.argmax(P)) if P.size else 0\n",
        "    feats['dom_freq_bin'] = dom_idx\n",
        "    feats['dom_power_log1p'] = math.log1p(float(P[dom_idx])) if P.size else 0.0\n",
        "    return feats\n",
        "\n",
        "def per_sensor_features(x):\n",
        "    feats = {}\n",
        "    if x.size == 0:\n",
        "        return feats\n",
        "    valid = np.isfinite(x)\n",
        "    feats['all_nan'] = float(1.0 if not np.any(valid) else 0.0)\n",
        "    if not np.any(valid):\n",
        "        base = {\n",
        "            'mean': np.nan, 'std': np.nan, 'min': np.nan, 'max': np.nan, 'ptp': np.nan,\n",
        "            'rms': np.nan, 'zcr': 0.0, 'skew': np.nan, 'kurt': np.nan,\n",
        "            'hj_activity': np.nan, 'hj_mobility': np.nan, 'hj_complexity': np.nan, 'trend_slope': np.nan,\n",
        "            'spec_centroid': np.nan, 'spec_entropy': np.nan, 'spec_flatness': np.nan,\n",
        "            'dom_freq_bin': 0, 'dom_power_log1p': 0.0\n",
        "        }\n",
        "        base.update({f'band_{i}_energy': 0.0 for i in range(6)})\n",
        "        for q in [1,5,10,25,50,75,90,95,99]:\n",
        "            base[f'q{q}'] = np.nan\n",
        "        feats.update(base)\n",
        "        return feats\n",
        "    x = x.astype(np.float32)\n",
        "    x = np.where(valid, x, np.nan)\n",
        "    feats['mean'] = float(np.nanmean(x))\n",
        "    feats['std'] = float(np.nanstd(x))\n",
        "    feats['min'] = float(np.nanmin(x))\n",
        "    feats['max'] = float(np.nanmax(x))\n",
        "    feats['ptp'] = feats['max'] - feats['min']\n",
        "    qs = [1,5,10,25,50,75,90,95,99]\n",
        "    qv = np.nanpercentile(x, qs)\n",
        "    for qi, q in enumerate(qs):\n",
        "        feats[f'q{q}'] = float(qv[qi])\n",
        "    xm = float(np.nanmean(x))\n",
        "    xc = x - xm\n",
        "    v = float(np.nanvar(xc))\n",
        "    if v > 0:\n",
        "        m3 = float(np.nanmean(xc**3))\n",
        "        m4 = float(np.nanmean(xc**4))\n",
        "        feats['skew'] = m3 / (v**1.5 + 1e-12)\n",
        "        feats['kurt'] = m4 / (v**2 + 1e-12)\n",
        "    else:\n",
        "        feats['skew'] = np.nan\n",
        "        feats['kurt'] = np.nan\n",
        "    feats['rms'] = float(np.sqrt(np.nanmean(x*x)))\n",
        "    feats['zcr'] = float(zero_crossings(np.nan_to_num(x))) / max(1, x.size - 1)\n",
        "    a, m, c = hjorth_params(np.nan_to_num(x))\n",
        "    feats['hj_activity'] = float(a)\n",
        "    feats['hj_mobility'] = float(m) if np.isfinite(m) else np.nan\n",
        "    feats['hj_complexity'] = float(c) if np.isfinite(c) else np.nan\n",
        "    feats['trend_slope'] = float(linear_trend_slope(np.nan_to_num(x)))\n",
        "    feats.update(spectral_features(x, n_bands=6, downsample=10))\n",
        "    return feats\n",
        "\n",
        "def extract_one(path):\n",
        "    seg_id = os.path.splitext(os.path.basename(path))[0]\n",
        "    try:\n",
        "        df = pd.read_csv(path)\n",
        "        arr = df.values.astype(np.float32)\n",
        "        T, C = arr.shape\n",
        "        out = {'segment_id': seg_id, 'rows': T, 'cols': C}\n",
        "        nan_mask = np.isnan(arr)\n",
        "        out['missing_frac'] = float(nan_mask.mean())\n",
        "        out['active_sensors'] = float((~np.all(nan_mask, axis=0)).sum())\n",
        "        for j in range(C):\n",
        "            f = per_sensor_features(arr[:, j])\n",
        "            for k, v in f.items():\n",
        "                out[f's{j}_{k}'] = v\n",
        "        return out\n",
        "    except Exception as e:\n",
        "        return {'segment_id': seg_id, 'error': str(e)}\n",
        "\n",
        "def run_parallel(file_ids, data_dir, out_path, n_jobs=12):\n",
        "    files = [os.path.join(data_dir, f'{sid}.csv') for sid in file_ids]\n",
        "    t0 = time.time()\n",
        "    results = Parallel(n_jobs=n_jobs, prefer='processes', batch_size=2)(delayed(extract_one)(p) for p in files)\n",
        "    elapsed = time.time() - t0\n",
        "    print(f'Extracted {len(files)} segments in {elapsed:.1f}s (n_jobs={n_jobs})')\n",
        "    errs = [r for r in results if 'error' in r]\n",
        "    if errs:\n",
        "        print('Errors:', len(errs), 'Example:', errs[0])\n",
        "    feat_df = pd.DataFrame([r for r in results if 'error' not in r])\n",
        "    feat_df.to_parquet(out_path, index=False)\n",
        "    print('Wrote', out_path, 'shape:', feat_df.shape)\n",
        "    return feat_df\n",
        "\n",
        "# Execute full extraction\n",
        "train_ids = train_df['segment_id'].astype(str).tolist()\n",
        "test_ids = ss_df['segment_id'].astype(str).tolist()\n",
        "n_jobs = min(16, max(2, os.cpu_count() // 2))\n",
        "print('Using n_jobs=', n_jobs)\n",
        "train_feats_path = 'features_train.parquet'\n",
        "test_feats_path = 'features_test.parquet'\n",
        "\n",
        "if not os.path.exists(train_feats_path):\n",
        "    _ = run_parallel(train_ids, train_dir, train_feats_path, n_jobs=n_jobs)\n",
        "else:\n",
        "    print('Found cached', train_feats_path)\n",
        "if not os.path.exists(test_feats_path):\n",
        "    _ = run_parallel(test_ids, test_dir, test_feats_path, n_jobs=n_jobs)\n",
        "else:\n",
        "    print('Found cached', test_feats_path)"
      ],
      "execution_count": 4,
      "outputs": [
        {
          "output_type": "stream",
          "name": "stdout",
          "text": [
            "Using n_jobs= 16\n"
          ]
        },
        {
          "output_type": "stream",
          "name": "stdout",
          "text": [
            "Extracted 3987 segments in 40.0s (n_jobs=16)\n"
          ]
        },
        {
          "output_type": "stream",
          "name": "stdout",
          "text": [
            "Wrote features_train.parquet shape: (3987, 345)\n"
          ]
        },
        {
          "output_type": "stream",
          "name": "stdout",
          "text": [
            "Extracted 444 segments in 4.3s (n_jobs=16)\nWrote features_test.parquet shape: (444, 345)\n"
          ]
        }
      ]
    },
    {
      "id": "ad90f95b-7ef6-4aad-8638-74c83b983e55",
      "cell_type": "code",
      "metadata": {},
      "source": [
        "# GroupKFold + XGBoost GPU baseline, OOF MAE, and submission\n",
        "import os, time, re\n",
        "import numpy as np\n",
        "import pandas as pd\n",
        "from sklearn.cluster import KMeans\n",
        "from sklearn.preprocessing import StandardScaler\n",
        "from sklearn.model_selection import GroupKFold\n",
        "from sklearn.metrics import mean_absolute_error\n",
        "import xgboost as xgb\n",
        "\n",
        "train_df = pd.read_parquet('features_train.parquet')\n",
        "test_df = pd.read_parquet('features_test.parquet')\n",
        "y_df = pd.read_csv('train.csv').astype({'segment_id': str})\n",
        "ss = pd.read_csv('sample_submission.csv').astype({'segment_id': str})\n",
        "\n",
        "# Merge target\n",
        "train_df = train_df.merge(y_df, on='segment_id', how='left')\n",
        "\n",
        "# Align feature columns between train/test: union, fill missing with NaN\n",
        "ignore_cols = {'segment_id', 'time_to_eruption'}\n",
        "train_feats = [c for c in train_df.columns if c not in ignore_cols]\n",
        "test_feats = [c for c in test_df.columns if c not in {'segment_id'}]\n",
        "all_feats = sorted(set(train_feats).union(test_feats))\n",
        "for c in all_feats:\n",
        "    if c not in train_df.columns:\n",
        "        train_df[c] = np.nan\n",
        "    if c not in test_df.columns:\n",
        "        test_df[c] = np.nan\n",
        "\n",
        "# Derive clustering features per expert advice\n",
        "def make_cluster_frame(df):\n",
        "    cols = []\n",
        "    # all_nan flags\n",
        "    cols += [c for c in df.columns if re.fullmatch(r's\\d+_all_nan', c) is not None]\n",
        "    basic = ['active_sensors', 'missing_frac']\n",
        "    cols += [c for c in basic if c in df.columns]\n",
        "    # aggregated spectral shape: per-sensor spec_centroid, dom_freq_bin, low-band energy band_0_energy\n",
        "    spec_cent_cols = [c for c in df.columns if re.fullmatch(r's\\d+_spec_centroid', c) is not None]\n",
        "    dom_bin_cols = [c for c in df.columns if re.fullmatch(r's\\d+_dom_freq_bin', c) is not None]\n",
        "    band0_cols = [c for c in df.columns if re.fullmatch(r's\\d+_band_0_energy', c) is not None]\n",
        "    agg = pd.DataFrame(index=df.index)\n",
        "    for name, lst in [('spec_centroid', spec_cent_cols), ('dom_freq_bin', dom_bin_cols), ('band0', band0_cols)]:\n",
        "        if lst:\n",
        "            vals = df[lst].astype(float)\n",
        "            agg[f'{name}_mean'] = vals.mean(axis=1)\n",
        "            agg[f'{name}_std'] = vals.std(axis=1)\n",
        "    base = df[cols].copy() if cols else pd.DataFrame(index=df.index)\n",
        "    cdf = pd.concat([base, agg], axis=1)\n",
        "    return cdf\n",
        "\n",
        "cluster_train = make_cluster_frame(train_df)\n",
        "cluster_test = make_cluster_frame(test_df)\n",
        "# Fill NaNs with 0 for clustering and scale\n",
        "scaler = StandardScaler()\n",
        "Xc = scaler.fit_transform(cluster_train.fillna(0.0)) if cluster_train.shape[1] > 0 else np.zeros((len(train_df), 1))\n",
        "Xt = scaler.transform(cluster_test.fillna(0.0)) if cluster_test.shape[1] > 0 else np.zeros((len(test_df), 1))\n",
        "\n",
        "# KMeans clustering\n",
        "k = 6\n",
        "km = KMeans(n_clusters=k, random_state=42, n_init=10)\n",
        "groups = km.fit_predict(Xc) if Xc.shape[1] > 0 else np.zeros(len(train_df), dtype=int)\n",
        "train_df['cluster'] = groups\n",
        "print('Cluster sizes:', pd.Series(groups).value_counts().to_dict())\n",
        "\n",
        "# Prepare matrices\n",
        "feature_cols = [c for c in all_feats]\n",
        "X = train_df[feature_cols].astype(np.float32).values\n",
        "y = train_df['time_to_eruption'].values.astype(np.float32)\n",
        "X_test = test_df[feature_cols].astype(np.float32).values\n",
        "groups_arr = train_df['cluster'].values\n",
        "\n",
        "# 5-fold GroupKFold\n",
        "gkf = GroupKFold(n_splits=5)\n",
        "oof = np.zeros(len(train_df), dtype=np.float32)\n",
        "test_pred_folds = []\n",
        "fold_maes = []\n",
        "\n",
        "params = {\n",
        "    'tree_method': 'gpu_hist',\n",
        "    'predictor': 'gpu_predictor',\n",
        "    'objective': 'reg:absoluteerror',\n",
        "    'eval_metric': 'mae',\n",
        "    'max_depth': 8,\n",
        "    'learning_rate': 0.05,\n",
        "    'subsample': 0.8,\n",
        "    'colsample_bytree': 0.75,\n",
        "    'min_child_weight': 6,\n",
        "    'reg_alpha': 1.0,\n",
        "    'reg_lambda': 8.0,\n",
        "    'max_bin': 256,\n",
        "    'random_state': 42\n",
        "}\n",
        "\n",
        "n_estimators = 5000\n",
        "early_stopping_rounds = 200\n",
        "\n",
        "t_total = time.time()\n",
        "for fold, (tr_idx, va_idx) in enumerate(gkf.split(X, y, groups=groups_arr), 1):\n",
        "    t0 = time.time()\n",
        "    X_tr, X_va = X[tr_idx], X[va_idx]\n",
        "    y_tr, y_va = y[tr_idx], y[va_idx]\n",
        "    dtrain = xgb.DMatrix(X_tr, label=y_tr, nthread=-1)\n",
        "    dvalid = xgb.DMatrix(X_va, label=y_va, nthread=-1)\n",
        "    dtest = xgb.DMatrix(X_test, nthread=-1)\n",
        "    evals = [(dtrain, 'train'), (dvalid, 'valid')]\n",
        "    model = xgb.train(params, dtrain, num_boost_round=n_estimators, evals=evals, early_stopping_rounds=early_stopping_rounds, verbose_eval=200)\n",
        "    oof[va_idx] = model.predict(dvalid, iteration_range=(0, model.best_iteration + 1))\n",
        "    fold_test = model.predict(dtest, iteration_range=(0, model.best_iteration + 1))\n",
        "    test_pred_folds.append(fold_test)\n",
        "    mae = mean_absolute_error(y_va, oof[va_idx])\n",
        "    fold_maes.append(mae)\n",
        "    print(f'Fold {fold} MAE: {mae:.2f} | best_iter {model.best_iteration} | elapsed {time.time()-t0:.1f}s', flush=True)\n",
        "\n",
        "oof_mae = mean_absolute_error(y, oof)\n",
        "print('OOF MAE:', oof_mae, 'folds:', [round(m,2) for m in fold_maes])\n",
        "\n",
        "# Test prediction: average over folds\n",
        "test_pred = np.mean(np.vstack(test_pred_folds), axis=0).astype(np.float32)\n",
        "\n",
        "# Clip predictions\n",
        "ymax = float(y.max())\n",
        "clip_max = ymax * 1.05\n",
        "oof_clipped = np.clip(oof, 0.0, clip_max)\n",
        "test_pred_clipped = np.clip(test_pred, 0.0, clip_max)\n",
        "oof_mae_clipped = mean_absolute_error(y, oof_clipped)\n",
        "print('OOF MAE (clipped):', oof_mae_clipped)\n",
        "\n",
        "# Optional bias correction: global median residual\n",
        "resid = y - oof_clipped\n",
        "bias = float(np.median(resid))\n",
        "print('Median residual (bias):', bias)\n",
        "test_pred_bc = np.clip(test_pred_clipped + bias, 0.0, clip_max)\n",
        "\n",
        "# Build submission\n",
        "sub = ss.copy()\n",
        "sub['time_to_eruption'] = test_pred_bc.astype(np.int64)\n",
        "sub_path = 'submission.csv'\n",
        "sub.to_csv(sub_path, index=False)\n",
        "print('Saved submission to', sub_path, 'shape:', sub.shape)"
      ],
      "execution_count": 5,
      "outputs": [
        {
          "output_type": "stream",
          "name": "stdout",
          "text": [
            "Cluster sizes: {1: 1581, 5: 1309, 0: 509, 2: 451, 3: 115, 4: 22}\n"
          ]
        },
        {
          "output_type": "stream",
          "name": "stdout",
          "text": [
            "[0]\ttrain-mae:10971203.19742\tvalid-mae:11912628.62176\n"
          ]
        },
        {
          "output_type": "stream",
          "name": "stdout",
          "text": [
            "[200]\ttrain-mae:915897.79729\tvalid-mae:8060441.59709\n"
          ]
        },
        {
          "output_type": "stream",
          "name": "stdout",
          "text": [
            "[400]\ttrain-mae:606875.64876\tvalid-mae:7886861.18042\n"
          ]
        },
        {
          "output_type": "stream",
          "name": "stdout",
          "text": [
            "[600]\ttrain-mae:507404.00388\tvalid-mae:7827702.95754\n"
          ]
        },
        {
          "output_type": "stream",
          "name": "stdout",
          "text": [
            "[800]\ttrain-mae:451501.83761\tvalid-mae:7805549.48956\n"
          ]
        },
        {
          "output_type": "stream",
          "name": "stdout",
          "text": [
            "[1000]\ttrain-mae:414948.81554\tvalid-mae:7794305.73522\n"
          ]
        },
        {
          "output_type": "stream",
          "name": "stdout",
          "text": [
            "[1200]\ttrain-mae:385854.88584\tvalid-mae:7784235.59503\n"
          ]
        },
        {
          "output_type": "stream",
          "name": "stdout",
          "text": [
            "[1400]\ttrain-mae:361248.53334\tvalid-mae:7781180.22913\n"
          ]
        },
        {
          "output_type": "stream",
          "name": "stdout",
          "text": [
            "[1600]\ttrain-mae:343756.30238\tvalid-mae:7781118.08286\n"
          ]
        },
        {
          "output_type": "stream",
          "name": "stdout",
          "text": [
            "[1715]\ttrain-mae:334873.32154\tvalid-mae:7779319.29578\n"
          ]
        },
        {
          "output_type": "stream",
          "name": "stdout",
          "text": [
            "Fold 1 MAE: 7778755.50 | best_iter 1516 | elapsed 27.3s\n"
          ]
        },
        {
          "output_type": "stream",
          "name": "stdout",
          "text": [
            "[0]\ttrain-mae:11295112.64339\tvalid-mae:11319284.33766\n"
          ]
        },
        {
          "output_type": "stream",
          "name": "stdout",
          "text": [
            "[200]\ttrain-mae:1014226.67368\tvalid-mae:7450379.38708\n"
          ]
        },
        {
          "output_type": "stream",
          "name": "stdout",
          "text": [
            "[400]\ttrain-mae:639304.95927\tvalid-mae:7127908.13589\n"
          ]
        },
        {
          "output_type": "stream",
          "name": "stdout",
          "text": [
            "[600]\ttrain-mae:524001.03790\tvalid-mae:7051230.53299\n"
          ]
        },
        {
          "output_type": "stream",
          "name": "stdout",
          "text": [
            "[800]\ttrain-mae:461934.27371\tvalid-mae:7018205.58919\n"
          ]
        },
        {
          "output_type": "stream",
          "name": "stdout",
          "text": [
            "[1000]\ttrain-mae:420255.80543\tvalid-mae:6993246.24398\n"
          ]
        },
        {
          "output_type": "stream",
          "name": "stdout",
          "text": [
            "[1200]\ttrain-mae:381507.94028\tvalid-mae:6967246.07131\n"
          ]
        },
        {
          "output_type": "stream",
          "name": "stdout",
          "text": [
            "[1400]\ttrain-mae:353150.37539\tvalid-mae:6948781.00427\n"
          ]
        },
        {
          "output_type": "stream",
          "name": "stdout",
          "text": [
            "[1600]\ttrain-mae:330963.12395\tvalid-mae:6901285.62424\n"
          ]
        },
        {
          "output_type": "stream",
          "name": "stdout",
          "text": [
            "[1800]\ttrain-mae:310691.76607\tvalid-mae:6895889.97231\n"
          ]
        },
        {
          "output_type": "stream",
          "name": "stdout",
          "text": [
            "[2000]\ttrain-mae:294013.58038\tvalid-mae:6887990.20708\n"
          ]
        },
        {
          "output_type": "stream",
          "name": "stdout",
          "text": [
            "[2200]\ttrain-mae:281047.95744\tvalid-mae:6875728.84585\n"
          ]
        },
        {
          "output_type": "stream",
          "name": "stdout",
          "text": [
            "[2400]\ttrain-mae:271251.33992\tvalid-mae:6868926.09788\n"
          ]
        },
        {
          "output_type": "stream",
          "name": "stdout",
          "text": [
            "[2600]\ttrain-mae:262858.04042\tvalid-mae:6865349.67289\n"
          ]
        },
        {
          "output_type": "stream",
          "name": "stdout",
          "text": [
            "[2800]\ttrain-mae:255880.75376\tvalid-mae:6863476.19590\n"
          ]
        },
        {
          "output_type": "stream",
          "name": "stdout",
          "text": [
            "[3000]\ttrain-mae:249460.04593\tvalid-mae:6854580.90131\n"
          ]
        },
        {
          "output_type": "stream",
          "name": "stdout",
          "text": [
            "[3200]\ttrain-mae:242656.65386\tvalid-mae:6850625.22622\n"
          ]
        },
        {
          "output_type": "stream",
          "name": "stdout",
          "text": [
            "[3400]\ttrain-mae:236247.64331\tvalid-mae:6844333.82506\n"
          ]
        },
        {
          "output_type": "stream",
          "name": "stdout",
          "text": [
            "[3600]\ttrain-mae:229067.90921\tvalid-mae:6837982.82635\n"
          ]
        },
        {
          "output_type": "stream",
          "name": "stdout",
          "text": [
            "[3800]\ttrain-mae:222670.54496\tvalid-mae:6833641.45187\n"
          ]
        },
        {
          "output_type": "stream",
          "name": "stdout",
          "text": [
            "[4000]\ttrain-mae:217342.85471\tvalid-mae:6831001.46304\n"
          ]
        },
        {
          "output_type": "stream",
          "name": "stdout",
          "text": [
            "[4200]\ttrain-mae:212144.52491\tvalid-mae:6828267.36268\n"
          ]
        },
        {
          "output_type": "stream",
          "name": "stdout",
          "text": [
            "[4400]\ttrain-mae:207303.89738\tvalid-mae:6823727.27258\n"
          ]
        },
        {
          "output_type": "stream",
          "name": "stdout",
          "text": [
            "[4600]\ttrain-mae:202535.91869\tvalid-mae:6816715.16067\n"
          ]
        },
        {
          "output_type": "stream",
          "name": "stdout",
          "text": [
            "[4800]\ttrain-mae:199516.52639\tvalid-mae:6816477.99303\n"
          ]
        },
        {
          "output_type": "stream",
          "name": "stdout",
          "text": [
            "[4999]\ttrain-mae:196250.58639\tvalid-mae:6813937.71500\n"
          ]
        },
        {
          "output_type": "stream",
          "name": "stdout",
          "text": [
            "Fold 2 MAE: 6813938.50 | best_iter 4999 | elapsed 73.2s\n"
          ]
        },
        {
          "output_type": "stream",
          "name": "stdout",
          "text": [
            "[0]\ttrain-mae:11123541.01121\tvalid-mae:11717182.67780\n"
          ]
        },
        {
          "output_type": "stream",
          "name": "stdout",
          "text": [
            "[200]\ttrain-mae:1029109.91545\tvalid-mae:11414487.48821\n"
          ]
        },
        {
          "output_type": "stream",
          "name": "stdout",
          "text": [
            "[215]\ttrain-mae:985623.87989\tvalid-mae:11396612.86346\n"
          ]
        },
        {
          "output_type": "stream",
          "name": "stdout",
          "text": [
            "Fold 3 MAE: 11311244.00 | best_iter 15 | elapsed 3.4s\n"
          ]
        },
        {
          "output_type": "stream",
          "name": "stdout",
          "text": [
            "[0]\ttrain-mae:11045868.89112\tvalid-mae:12242216.94013\n"
          ]
        },
        {
          "output_type": "stream",
          "name": "stdout",
          "text": [
            "[200]\ttrain-mae:1036785.15629\tvalid-mae:12266937.31707\n"
          ]
        },
        {
          "output_type": "stream",
          "name": "stdout",
          "text": [
            "[211]\ttrain-mae:1008425.74059\tvalid-mae:12254597.32151\n"
          ]
        },
        {
          "output_type": "stream",
          "name": "stdout",
          "text": [
            "Fold 4 MAE: 11861471.00 | best_iter 11 | elapsed 3.3s\n"
          ]
        },
        {
          "output_type": "stream",
          "name": "stdout",
          "text": [
            "[0]\ttrain-mae:11229989.26286\tvalid-mae:9296863.29927\n"
          ]
        },
        {
          "output_type": "stream",
          "name": "stdout",
          "text": [
            "[200]\ttrain-mae:1069407.31072\tvalid-mae:12864830.50365\n"
          ]
        },
        {
          "output_type": "stream",
          "name": "stdout",
          "text": [
            "Fold 5 MAE: 9296863.00 | best_iter 0 | elapsed 3.2s\n"
          ]
        },
        {
          "output_type": "stream",
          "name": "stdout",
          "text": [
            "OOF MAE: 8426957.0 folds: [7778755.0, 6813938.5, 11311244.0, 11861471.0, 9296863.0]\nOOF MAE (clipped): 8426957.0\nMedian residual (bias): 16996.0\nSaved submission to submission.csv shape: (444, 2)\n"
          ]
        }
      ]
    },
    {
      "id": "54dc89cd-b058-4827-bdbe-cde1f69e3268",
      "cell_type": "code",
      "metadata": {},
      "source": [
        "# Feature Extraction v2: Add Welch PSD bands + Hilbert envelope + 3-window stats; cache to v2 parquet\n",
        "import os, time, math, warnings\n",
        "import numpy as np\n",
        "import pandas as pd\n",
        "from joblib import Parallel, delayed\n",
        "from scipy.signal import welch, hilbert\n",
        "\n",
        "warnings.filterwarnings('ignore')\n",
        "np.seterr(all='ignore')\n",
        "\n",
        "train_ids = pd.read_csv('train.csv')['segment_id'].astype(str).tolist()\n",
        "test_ids = pd.read_csv('sample_submission.csv')['segment_id'].astype(str).tolist()\n",
        "train_dir, test_dir = 'train', 'test'\n",
        "\n",
        "def three_window_stats(x):\n",
        "    n = x.size\n",
        "    if n < 3:\n",
        "        return {}\n",
        "    thirds = n // 3\n",
        "    a = x[:thirds]\n",
        "    b = x[thirds:2*thirds]\n",
        "    c = x[2*thirds:]\n",
        "    def mstats(z):\n",
        "        return float(np.nanmean(z)), float(np.nanstd(z))\n",
        "    ma, sa = mstats(a)\n",
        "    mb, sb = mstats(b)\n",
        "    mc, sc = mstats(c)\n",
        "    return {\n",
        "        'w_start_mean': ma, 'w_start_std': sa,\n",
        "        'w_mid_mean': mb, 'w_mid_std': sb,\n",
        "        'w_end_mean': mc, 'w_end_std': sc,\n",
        "        'w_delta_mean_end_start': mc - ma\n",
        "    }\n",
        "\n",
        "def welch_psd_feats(x, fs=100.0, nperseg=512, noverlap=256, n_bands=8):\n",
        "    # If true fs unknown, treat index as time with fs=100 for stable banding\n",
        "    x = np.nan_to_num(x.astype(np.float32))\n",
        "    if x.size < nperseg:\n",
        "        # fallback: rfft bands like v1\n",
        "        return {}\n",
        "    f, Pxx = welch(x, fs=fs, nperseg=nperseg, noverlap=noverlap, detrend='constant', scaling='density')\n",
        "    if Pxx.size == 0:\n",
        "        return {}\n",
        "    # Log-spaced bands up to Nyquist\n",
        "    fmin, fmax = f[1], f[-1]\n",
        "    edges = np.unique(np.round(np.geomspace(max(1e-3, fmin), fmax, num=n_bands + 1), 5))\n",
        "    feats = {}\n",
        "    total = float(np.trapz(Pxx, f)) + 1e-12\n",
        "    for i in range(len(edges) - 1):\n",
        "        a, b = edges[i], edges[i+1]\n",
        "        mask = (f >= a) & (f < b)\n",
        "        e = float(np.trapz(Pxx[mask], f[mask])) if np.any(mask) else 0.0\n",
        "        feats[f'welch_band_{i}_loge'] = math.log1p(e)\n",
        "    # Spectral summary\n",
        "    p = Pxx / (np.sum(Pxx) + 1e-12)\n",
        "    p_pos = p[p > 0]\n",
        "    feats['welch_entropy'] = -float(np.sum(p_pos * np.log(p_pos))) if p_pos.size else 0.0\n",
        "    geo = float(np.exp(np.mean(np.log(Pxx[Pxx > 0])))) if np.any(Pxx > 0) else 0.0\n",
        "    ari = float(np.mean(Pxx)) + 1e-12\n",
        "    feats['welch_flatness'] = geo / ari\n",
        "    # rolloffs\n",
        "    cumsum = np.cumsum(Pxx) / (np.sum(Pxx) + 1e-12)\n",
        "    def rolloff(th):\n",
        "        idx = np.searchsorted(cumsum, th)\n",
        "        idx = np.clip(idx, 0, len(f)-1)\n",
        "        return float(f[idx])\n",
        "    feats['welch_rolloff85'] = rolloff(0.85)\n",
        "    feats['welch_rolloff95'] = rolloff(0.95)\n",
        "    return feats\n",
        "\n",
        "def hilbert_envelope_feats(x):\n",
        "    x = np.nan_to_num(x.astype(np.float32))\n",
        "    if x.size < 8:\n",
        "        return {}\n",
        "    env = np.abs(hilbert(x))\n",
        "    qs = [10,25,50,75,90]\n",
        "    qv = np.percentile(env, qs)\n",
        "    feats = {\n",
        "        'hilb_mean': float(env.mean()),\n",
        "        'hilb_std': float(env.std()),\n",
        "        'hilb_q10': float(qv[0]), 'hilb_q25': float(qv[1]), 'hilb_q50': float(qv[2]),\n",
        "        'hilb_q75': float(qv[3]), 'hilb_q90': float(qv[4])\n",
        "    }\n",
        "    return feats\n",
        "\n",
        "def extract_v2_one(path):\n",
        "    seg_id = os.path.splitext(os.path.basename(path))[0]\n",
        "    try:\n",
        "        df = pd.read_csv(path)\n",
        "        arr = df.values.astype(np.float32)  # (T, C)\n",
        "        T, C = arr.shape\n",
        "        out = {'segment_id': seg_id}\n",
        "        # choose a nominal fs (unknown in data); relative features still useful\n",
        "        fs = 100.0\n",
        "        for j in range(C):\n",
        "            x = arr[:, j]\n",
        "            # Welch PSD features\n",
        "            wfe = welch_psd_feats(x, fs=fs, nperseg=512, noverlap=256, n_bands=8)\n",
        "            for k, v in wfe.items():\n",
        "                out[f's{j}_{k}'] = v\n",
        "            # Hilbert envelope features\n",
        "            hfe = hilbert_envelope_feats(x)\n",
        "            for k, v in hfe.items():\n",
        "                out[f's{j}_{k}'] = v\n",
        "            # 3-window stats\n",
        "            tw = three_window_stats(x)\n",
        "            for k, v in tw.items():\n",
        "                out[f's{j}_{k}'] = v\n",
        "        return out\n",
        "    except Exception as e:\n",
        "        return {'segment_id': seg_id, 'error': str(e)}\n",
        "\n",
        "def run_parallel_v2(ids, data_dir, out_path, n_jobs=16):\n",
        "    files = [os.path.join(data_dir, f'{sid}.csv') for sid in ids]\n",
        "    t0 = time.time()\n",
        "    res = Parallel(n_jobs=n_jobs, prefer='processes', batch_size=2)(delayed(extract_v2_one)(p) for p in files)\n",
        "    dt = time.time() - t0\n",
        "    errs = [r for r in res if 'error' in r]\n",
        "    if errs:\n",
        "        print('Errors:', len(errs), 'Example:', errs[0])\n",
        "    df = pd.DataFrame([r for r in res if 'error' not in r])\n",
        "    df.to_parquet(out_path, index=False)\n",
        "    print(f'Wrote {out_path} shape {df.shape} in {dt:.1f}s (n_jobs={n_jobs})')\n",
        "    return df\n",
        "\n",
        "n_jobs = min(24, max(4, os.cpu_count() // 2))\n",
        "print('FE v2 using n_jobs=', n_jobs)\n",
        "train_v2 = 'features_train_v2.parquet'\n",
        "test_v2 = 'features_test_v2.parquet'\n",
        "if not os.path.exists(train_v2):\n",
        "    _ = run_parallel_v2(train_ids, train_dir, train_v2, n_jobs=n_jobs)\n",
        "else:\n",
        "    print('Found cached', train_v2)\n",
        "if not os.path.exists(test_v2):\n",
        "    _ = run_parallel_v2(test_ids, test_dir, test_v2, n_jobs=n_jobs)\n",
        "else:\n",
        "    print('Found cached', test_v2)\n",
        "\n",
        "# Merge v2 features into existing v1 caches for modeling\n",
        "base_tr = pd.read_parquet('features_train.parquet')\n",
        "base_te = pd.read_parquet('features_test.parquet')\n",
        "v2_tr = pd.read_parquet(train_v2)\n",
        "v2_te = pd.read_parquet(test_v2)\n",
        "full_tr = base_tr.merge(v2_tr, on='segment_id', how='left')\n",
        "full_te = base_te.merge(v2_te, on='segment_id', how='left')\n",
        "full_tr.to_parquet('features_train_full.parquet', index=False)\n",
        "full_te.to_parquet('features_test_full.parquet', index=False)\n",
        "print('Wrote features_train_full.parquet', full_tr.shape)\n",
        "print('Wrote features_test_full.parquet', full_te.shape)"
      ],
      "execution_count": 6,
      "outputs": [
        {
          "output_type": "stream",
          "name": "stdout",
          "text": [
            "FE v2 using n_jobs= 18\n"
          ]
        },
        {
          "output_type": "stream",
          "name": "stderr",
          "text": [
            "/tmp/ipykernel_60/294650540.py:24: RuntimeWarning: Mean of empty slice\n/usr/local/lib/python3.11/dist-packages/numpy/lib/nanfunctions.py:1879: RuntimeWarning: Degrees of freedom <= 0 for slice.\n  var = nanvar(a, axis=axis, dtype=dtype, out=out, ddof=ddof,\n/tmp/ipykernel_60/294650540.py:24: RuntimeWarning: Mean of empty slice\n/usr/local/lib/python3.11/dist-packages/numpy/lib/nanfunctions.py:1879: RuntimeWarning: Degrees of freedom <= 0 for slice.\n  var = nanvar(a, axis=axis, dtype=dtype, out=out, ddof=ddof,\n/tmp/ipykernel_60/294650540.py:24: RuntimeWarning: Mean of empty slice\n/usr/local/lib/python3.11/dist-packages/numpy/lib/nanfunctions.py:1879: RuntimeWarning: Degrees of freedom <= 0 for slice.\n  var = nanvar(a, axis=axis, dtype=dtype, out=out, ddof=ddof,\n"
          ]
        },
        {
          "output_type": "stream",
          "name": "stderr",
          "text": [
            "/tmp/ipykernel_60/294650540.py:24: RuntimeWarning: Mean of empty slice\n/usr/local/lib/python3.11/dist-packages/numpy/lib/nanfunctions.py:1879: RuntimeWarning: Degrees of freedom <= 0 for slice.\n  var = nanvar(a, axis=axis, dtype=dtype, out=out, ddof=ddof,\n/tmp/ipykernel_60/294650540.py:24: RuntimeWarning: Mean of empty slice\n/usr/local/lib/python3.11/dist-packages/numpy/lib/nanfunctions.py:1879: RuntimeWarning: Degrees of freedom <= 0 for slice.\n  var = nanvar(a, axis=axis, dtype=dtype, out=out, ddof=ddof,\n/tmp/ipykernel_60/294650540.py:24: RuntimeWarning: Mean of empty slice\n/usr/local/lib/python3.11/dist-packages/numpy/lib/nanfunctions.py:1879: RuntimeWarning: Degrees of freedom <= 0 for slice.\n  var = nanvar(a, axis=axis, dtype=dtype, out=out, ddof=ddof,\n/tmp/ipykernel_60/294650540.py:24: RuntimeWarning: Mean of empty slice\n/usr/local/lib/python3.11/dist-packages/numpy/lib/nanfunctions.py:1879: RuntimeWarning: Degrees of freedom <= 0 for slice.\n  var = nanvar(a, axis=axis, dtype=dtype, out=out, ddof=ddof,\n/tmp/ipykernel_60/294650540.py:24: RuntimeWarning: Mean of empty slice\n/usr/local/lib/python3.11/dist-packages/numpy/lib/nanfunctions.py:1879: RuntimeWarning: Degrees of freedom <= 0 for slice.\n  var = nanvar(a, axis=axis, dtype=dtype, out=out, ddof=ddof,\n/tmp/ipykernel_60/294650540.py:24: RuntimeWarning: Mean of empty slice\n/usr/local/lib/python3.11/dist-packages/numpy/lib/nanfunctions.py:1879: RuntimeWarning: Degrees of freedom <= 0 for slice.\n  var = nanvar(a, axis=axis, dtype=dtype, out=out, ddof=ddof,\n/tmp/ipykernel_60/294650540.py:24: RuntimeWarning: Mean of empty slice\n/usr/local/lib/python3.11/dist-packages/numpy/lib/nanfunctions.py:1879: RuntimeWarning: Degrees of freedom <= 0 for slice.\n  var = nanvar(a, axis=axis, dtype=dtype, out=out, ddof=ddof,\n/tmp/ipykernel_60/294650540.py:24: RuntimeWarning: Mean of empty slice\n/usr/local/lib/python3.11/dist-packages/numpy/lib/nanfunctions.py:1879: RuntimeWarning: Degrees of freedom <= 0 for slice.\n  var = nanvar(a, axis=axis, dtype=dtype, out=out, ddof=ddof,\n"
          ]
        },
        {
          "output_type": "stream",
          "name": "stderr",
          "text": [
            "/tmp/ipykernel_60/294650540.py:24: RuntimeWarning: Mean of empty slice\n/usr/local/lib/python3.11/dist-packages/numpy/lib/nanfunctions.py:1879: RuntimeWarning: Degrees of freedom <= 0 for slice.\n  var = nanvar(a, axis=axis, dtype=dtype, out=out, ddof=ddof,\n/tmp/ipykernel_60/294650540.py:24: RuntimeWarning: Mean of empty slice\n/usr/local/lib/python3.11/dist-packages/numpy/lib/nanfunctions.py:1879: RuntimeWarning: Degrees of freedom <= 0 for slice.\n  var = nanvar(a, axis=axis, dtype=dtype, out=out, ddof=ddof,\n/tmp/ipykernel_60/294650540.py:24: RuntimeWarning: Mean of empty slice\n/usr/local/lib/python3.11/dist-packages/numpy/lib/nanfunctions.py:1879: RuntimeWarning: Degrees of freedom <= 0 for slice.\n  var = nanvar(a, axis=axis, dtype=dtype, out=out, ddof=ddof,\n/tmp/ipykernel_60/294650540.py:24: RuntimeWarning: Mean of empty slice\n/usr/local/lib/python3.11/dist-packages/numpy/lib/nanfunctions.py:1879: RuntimeWarning: Degrees of freedom <= 0 for slice.\n  var = nanvar(a, axis=axis, dtype=dtype, out=out, ddof=ddof,\n/tmp/ipykernel_60/294650540.py:24: RuntimeWarning: Mean of empty slice\n/usr/local/lib/python3.11/dist-packages/numpy/lib/nanfunctions.py:1879: RuntimeWarning: Degrees of freedom <= 0 for slice.\n  var = nanvar(a, axis=axis, dtype=dtype, out=out, ddof=ddof,\n/tmp/ipykernel_60/294650540.py:24: RuntimeWarning: Mean of empty slice\n/usr/local/lib/python3.11/dist-packages/numpy/lib/nanfunctions.py:1879: RuntimeWarning: Degrees of freedom <= 0 for slice.\n  var = nanvar(a, axis=axis, dtype=dtype, out=out, ddof=ddof,\n/tmp/ipykernel_60/294650540.py:24: RuntimeWarning: Mean of empty slice\n/usr/local/lib/python3.11/dist-packages/numpy/lib/nanfunctions.py:1879: RuntimeWarning: Degrees of freedom <= 0 for slice.\n  var = nanvar(a, axis=axis, dtype=dtype, out=out, ddof=ddof,\n/tmp/ipykernel_60/294650540.py:24: RuntimeWarning: Mean of empty slice\n/usr/local/lib/python3.11/dist-packages/numpy/lib/nanfunctions.py:1879: RuntimeWarning: Degrees of freedom <= 0 for slice.\n  var = nanvar(a, axis=axis, dtype=dtype, out=out, ddof=ddof,\n/tmp/ipykernel_60/294650540.py:24: RuntimeWarning: Mean of empty slice\n/usr/local/lib/python3.11/dist-packages/numpy/lib/nanfunctions.py:1879: RuntimeWarning: Degrees of freedom <= 0 for slice.\n  var = nanvar(a, axis=axis, dtype=dtype, out=out, ddof=ddof,\n/tmp/ipykernel_60/294650540.py:24: RuntimeWarning: Mean of empty slice\n/usr/local/lib/python3.11/dist-packages/numpy/lib/nanfunctions.py:1879: RuntimeWarning: Degrees of freedom <= 0 for slice.\n  var = nanvar(a, axis=axis, dtype=dtype, out=out, ddof=ddof,\n"
          ]
        },
        {
          "output_type": "stream",
          "name": "stderr",
          "text": [
            "/tmp/ipykernel_60/294650540.py:24: RuntimeWarning: Mean of empty slice\n/usr/local/lib/python3.11/dist-packages/numpy/lib/nanfunctions.py:1879: RuntimeWarning: Degrees of freedom <= 0 for slice.\n  var = nanvar(a, axis=axis, dtype=dtype, out=out, ddof=ddof,\n/tmp/ipykernel_60/294650540.py:24: RuntimeWarning: Mean of empty slice\n/usr/local/lib/python3.11/dist-packages/numpy/lib/nanfunctions.py:1879: RuntimeWarning: Degrees of freedom <= 0 for slice.\n  var = nanvar(a, axis=axis, dtype=dtype, out=out, ddof=ddof,\n/tmp/ipykernel_60/294650540.py:24: RuntimeWarning: Mean of empty slice\n/usr/local/lib/python3.11/dist-packages/numpy/lib/nanfunctions.py:1879: RuntimeWarning: Degrees of freedom <= 0 for slice.\n  var = nanvar(a, axis=axis, dtype=dtype, out=out, ddof=ddof,\n/tmp/ipykernel_60/294650540.py:24: RuntimeWarning: Mean of empty slice\n/usr/local/lib/python3.11/dist-packages/numpy/lib/nanfunctions.py:1879: RuntimeWarning: Degrees of freedom <= 0 for slice.\n  var = nanvar(a, axis=axis, dtype=dtype, out=out, ddof=ddof,\n/tmp/ipykernel_60/294650540.py:24: RuntimeWarning: Mean of empty slice\n/usr/local/lib/python3.11/dist-packages/numpy/lib/nanfunctions.py:1879: RuntimeWarning: Degrees of freedom <= 0 for slice.\n  var = nanvar(a, axis=axis, dtype=dtype, out=out, ddof=ddof,\n/tmp/ipykernel_60/294650540.py:24: RuntimeWarning: Mean of empty slice\n/usr/local/lib/python3.11/dist-packages/numpy/lib/nanfunctions.py:1879: RuntimeWarning: Degrees of freedom <= 0 for slice.\n  var = nanvar(a, axis=axis, dtype=dtype, out=out, ddof=ddof,\n/tmp/ipykernel_60/294650540.py:24: RuntimeWarning: Mean of empty slice\n/usr/local/lib/python3.11/dist-packages/numpy/lib/nanfunctions.py:1879: RuntimeWarning: Degrees of freedom <= 0 for slice.\n  var = nanvar(a, axis=axis, dtype=dtype, out=out, ddof=ddof,\n"
          ]
        },
        {
          "output_type": "stream",
          "name": "stderr",
          "text": [
            "/tmp/ipykernel_60/294650540.py:24: RuntimeWarning: Mean of empty slice\n/usr/local/lib/python3.11/dist-packages/numpy/lib/nanfunctions.py:1879: RuntimeWarning: Degrees of freedom <= 0 for slice.\n  var = nanvar(a, axis=axis, dtype=dtype, out=out, ddof=ddof,\n/tmp/ipykernel_60/294650540.py:24: RuntimeWarning: Mean of empty slice\n/usr/local/lib/python3.11/dist-packages/numpy/lib/nanfunctions.py:1879: RuntimeWarning: Degrees of freedom <= 0 for slice.\n  var = nanvar(a, axis=axis, dtype=dtype, out=out, ddof=ddof,\n/tmp/ipykernel_60/294650540.py:24: RuntimeWarning: Mean of empty slice\n/usr/local/lib/python3.11/dist-packages/numpy/lib/nanfunctions.py:1879: RuntimeWarning: Degrees of freedom <= 0 for slice.\n  var = nanvar(a, axis=axis, dtype=dtype, out=out, ddof=ddof,\n/tmp/ipykernel_60/294650540.py:24: RuntimeWarning: Mean of empty slice\n/usr/local/lib/python3.11/dist-packages/numpy/lib/nanfunctions.py:1879: RuntimeWarning: Degrees of freedom <= 0 for slice.\n  var = nanvar(a, axis=axis, dtype=dtype, out=out, ddof=ddof,\n/tmp/ipykernel_60/294650540.py:24: RuntimeWarning: Mean of empty slice\n/usr/local/lib/python3.11/dist-packages/numpy/lib/nanfunctions.py:1879: RuntimeWarning: Degrees of freedom <= 0 for slice.\n  var = nanvar(a, axis=axis, dtype=dtype, out=out, ddof=ddof,\n/tmp/ipykernel_60/294650540.py:24: RuntimeWarning: Mean of empty slice\n/usr/local/lib/python3.11/dist-packages/numpy/lib/nanfunctions.py:1879: RuntimeWarning: Degrees of freedom <= 0 for slice.\n  var = nanvar(a, axis=axis, dtype=dtype, out=out, ddof=ddof,\n/tmp/ipykernel_60/294650540.py:24: RuntimeWarning: Mean of empty slice\n/usr/local/lib/python3.11/dist-packages/numpy/lib/nanfunctions.py:1879: RuntimeWarning: Degrees of freedom <= 0 for slice.\n  var = nanvar(a, axis=axis, dtype=dtype, out=out, ddof=ddof,\n/tmp/ipykernel_60/294650540.py:24: RuntimeWarning: Mean of empty slice\n/usr/local/lib/python3.11/dist-packages/numpy/lib/nanfunctions.py:1879: RuntimeWarning: Degrees of freedom <= 0 for slice.\n  var = nanvar(a, axis=axis, dtype=dtype, out=out, ddof=ddof,\n"
          ]
        },
        {
          "output_type": "stream",
          "name": "stderr",
          "text": [
            "/tmp/ipykernel_60/294650540.py:24: RuntimeWarning: Mean of empty slice\n/usr/local/lib/python3.11/dist-packages/numpy/lib/nanfunctions.py:1879: RuntimeWarning: Degrees of freedom <= 0 for slice.\n  var = nanvar(a, axis=axis, dtype=dtype, out=out, ddof=ddof,\n/tmp/ipykernel_60/294650540.py:24: RuntimeWarning: Mean of empty slice\n/usr/local/lib/python3.11/dist-packages/numpy/lib/nanfunctions.py:1879: RuntimeWarning: Degrees of freedom <= 0 for slice.\n  var = nanvar(a, axis=axis, dtype=dtype, out=out, ddof=ddof,\n/tmp/ipykernel_60/294650540.py:24: RuntimeWarning: Mean of empty slice\n/usr/local/lib/python3.11/dist-packages/numpy/lib/nanfunctions.py:1879: RuntimeWarning: Degrees of freedom <= 0 for slice.\n  var = nanvar(a, axis=axis, dtype=dtype, out=out, ddof=ddof,\n/tmp/ipykernel_60/294650540.py:24: RuntimeWarning: Mean of empty slice\n/usr/local/lib/python3.11/dist-packages/numpy/lib/nanfunctions.py:1879: RuntimeWarning: Degrees of freedom <= 0 for slice.\n  var = nanvar(a, axis=axis, dtype=dtype, out=out, ddof=ddof,\n/tmp/ipykernel_60/294650540.py:24: RuntimeWarning: Mean of empty slice\n/usr/local/lib/python3.11/dist-packages/numpy/lib/nanfunctions.py:1879: RuntimeWarning: Degrees of freedom <= 0 for slice.\n  var = nanvar(a, axis=axis, dtype=dtype, out=out, ddof=ddof,\n/tmp/ipykernel_60/294650540.py:24: RuntimeWarning: Mean of empty slice\n/usr/local/lib/python3.11/dist-packages/numpy/lib/nanfunctions.py:1879: RuntimeWarning: Degrees of freedom <= 0 for slice.\n  var = nanvar(a, axis=axis, dtype=dtype, out=out, ddof=ddof,\n/tmp/ipykernel_60/294650540.py:24: RuntimeWarning: Mean of empty slice\n/usr/local/lib/python3.11/dist-packages/numpy/lib/nanfunctions.py:1879: RuntimeWarning: Degrees of freedom <= 0 for slice.\n  var = nanvar(a, axis=axis, dtype=dtype, out=out, ddof=ddof,\n/tmp/ipykernel_60/294650540.py:24: RuntimeWarning: Mean of empty slice\n/usr/local/lib/python3.11/dist-packages/numpy/lib/nanfunctions.py:1879: RuntimeWarning: Degrees of freedom <= 0 for slice.\n  var = nanvar(a, axis=axis, dtype=dtype, out=out, ddof=ddof,\n/tmp/ipykernel_60/294650540.py:24: RuntimeWarning: Mean of empty slice\n/usr/local/lib/python3.11/dist-packages/numpy/lib/nanfunctions.py:1879: RuntimeWarning: Degrees of freedom <= 0 for slice.\n  var = nanvar(a, axis=axis, dtype=dtype, out=out, ddof=ddof,\n/tmp/ipykernel_60/294650540.py:24: RuntimeWarning: Mean of empty slice\n/usr/local/lib/python3.11/dist-packages/numpy/lib/nanfunctions.py:1879: RuntimeWarning: Degrees of freedom <= 0 for slice.\n  var = nanvar(a, axis=axis, dtype=dtype, out=out, ddof=ddof,\n"
          ]
        },
        {
          "output_type": "stream",
          "name": "stderr",
          "text": [
            "/tmp/ipykernel_60/294650540.py:24: RuntimeWarning: Mean of empty slice\n/usr/local/lib/python3.11/dist-packages/numpy/lib/nanfunctions.py:1879: RuntimeWarning: Degrees of freedom <= 0 for slice.\n  var = nanvar(a, axis=axis, dtype=dtype, out=out, ddof=ddof,\n/tmp/ipykernel_60/294650540.py:24: RuntimeWarning: Mean of empty slice\n/usr/local/lib/python3.11/dist-packages/numpy/lib/nanfunctions.py:1879: RuntimeWarning: Degrees of freedom <= 0 for slice.\n  var = nanvar(a, axis=axis, dtype=dtype, out=out, ddof=ddof,\n/tmp/ipykernel_60/294650540.py:24: RuntimeWarning: Mean of empty slice\n/usr/local/lib/python3.11/dist-packages/numpy/lib/nanfunctions.py:1879: RuntimeWarning: Degrees of freedom <= 0 for slice.\n  var = nanvar(a, axis=axis, dtype=dtype, out=out, ddof=ddof,\n/tmp/ipykernel_60/294650540.py:24: RuntimeWarning: Mean of empty slice\n/usr/local/lib/python3.11/dist-packages/numpy/lib/nanfunctions.py:1879: RuntimeWarning: Degrees of freedom <= 0 for slice.\n  var = nanvar(a, axis=axis, dtype=dtype, out=out, ddof=ddof,\n/tmp/ipykernel_60/294650540.py:24: RuntimeWarning: Mean of empty slice\n/usr/local/lib/python3.11/dist-packages/numpy/lib/nanfunctions.py:1879: RuntimeWarning: Degrees of freedom <= 0 for slice.\n  var = nanvar(a, axis=axis, dtype=dtype, out=out, ddof=ddof,\n/tmp/ipykernel_60/294650540.py:24: RuntimeWarning: Mean of empty slice\n/usr/local/lib/python3.11/dist-packages/numpy/lib/nanfunctions.py:1879: RuntimeWarning: Degrees of freedom <= 0 for slice.\n  var = nanvar(a, axis=axis, dtype=dtype, out=out, ddof=ddof,\n/tmp/ipykernel_60/294650540.py:24: RuntimeWarning: Mean of empty slice\n/usr/local/lib/python3.11/dist-packages/numpy/lib/nanfunctions.py:1879: RuntimeWarning: Degrees of freedom <= 0 for slice.\n  var = nanvar(a, axis=axis, dtype=dtype, out=out, ddof=ddof,\n/tmp/ipykernel_60/294650540.py:24: RuntimeWarning: Mean of empty slice\n/usr/local/lib/python3.11/dist-packages/numpy/lib/nanfunctions.py:1879: RuntimeWarning: Degrees of freedom <= 0 for slice.\n  var = nanvar(a, axis=axis, dtype=dtype, out=out, ddof=ddof,\n/tmp/ipykernel_60/294650540.py:24: RuntimeWarning: Mean of empty slice\n/usr/local/lib/python3.11/dist-packages/numpy/lib/nanfunctions.py:1879: RuntimeWarning: Degrees of freedom <= 0 for slice.\n  var = nanvar(a, axis=axis, dtype=dtype, out=out, ddof=ddof,\n/tmp/ipykernel_60/294650540.py:24: RuntimeWarning: Mean of empty slice\n/usr/local/lib/python3.11/dist-packages/numpy/lib/nanfunctions.py:1879: RuntimeWarning: Degrees of freedom <= 0 for slice.\n  var = nanvar(a, axis=axis, dtype=dtype, out=out, ddof=ddof,\n"
          ]
        },
        {
          "output_type": "stream",
          "name": "stderr",
          "text": [
            "/tmp/ipykernel_60/294650540.py:24: RuntimeWarning: Mean of empty slice\n/usr/local/lib/python3.11/dist-packages/numpy/lib/nanfunctions.py:1879: RuntimeWarning: Degrees of freedom <= 0 for slice.\n  var = nanvar(a, axis=axis, dtype=dtype, out=out, ddof=ddof,\n/tmp/ipykernel_60/294650540.py:24: RuntimeWarning: Mean of empty slice\n/usr/local/lib/python3.11/dist-packages/numpy/lib/nanfunctions.py:1879: RuntimeWarning: Degrees of freedom <= 0 for slice.\n  var = nanvar(a, axis=axis, dtype=dtype, out=out, ddof=ddof,\n/tmp/ipykernel_60/294650540.py:24: RuntimeWarning: Mean of empty slice\n/usr/local/lib/python3.11/dist-packages/numpy/lib/nanfunctions.py:1879: RuntimeWarning: Degrees of freedom <= 0 for slice.\n  var = nanvar(a, axis=axis, dtype=dtype, out=out, ddof=ddof,\n/tmp/ipykernel_60/294650540.py:24: RuntimeWarning: Mean of empty slice\n/usr/local/lib/python3.11/dist-packages/numpy/lib/nanfunctions.py:1879: RuntimeWarning: Degrees of freedom <= 0 for slice.\n  var = nanvar(a, axis=axis, dtype=dtype, out=out, ddof=ddof,\n/tmp/ipykernel_60/294650540.py:24: RuntimeWarning: Mean of empty slice\n/usr/local/lib/python3.11/dist-packages/numpy/lib/nanfunctions.py:1879: RuntimeWarning: Degrees of freedom <= 0 for slice.\n  var = nanvar(a, axis=axis, dtype=dtype, out=out, ddof=ddof,\n/tmp/ipykernel_60/294650540.py:24: RuntimeWarning: Mean of empty slice\n/usr/local/lib/python3.11/dist-packages/numpy/lib/nanfunctions.py:1879: RuntimeWarning: Degrees of freedom <= 0 for slice.\n  var = nanvar(a, axis=axis, dtype=dtype, out=out, ddof=ddof,\n/tmp/ipykernel_60/294650540.py:24: RuntimeWarning: Mean of empty slice\n/usr/local/lib/python3.11/dist-packages/numpy/lib/nanfunctions.py:1879: RuntimeWarning: Degrees of freedom <= 0 for slice.\n  var = nanvar(a, axis=axis, dtype=dtype, out=out, ddof=ddof,\n/tmp/ipykernel_60/294650540.py:24: RuntimeWarning: Mean of empty slice\n/usr/local/lib/python3.11/dist-packages/numpy/lib/nanfunctions.py:1879: RuntimeWarning: Degrees of freedom <= 0 for slice.\n  var = nanvar(a, axis=axis, dtype=dtype, out=out, ddof=ddof,\n/tmp/ipykernel_60/294650540.py:24: RuntimeWarning: Mean of empty slice\n/usr/local/lib/python3.11/dist-packages/numpy/lib/nanfunctions.py:1879: RuntimeWarning: Degrees of freedom <= 0 for slice.\n  var = nanvar(a, axis=axis, dtype=dtype, out=out, ddof=ddof,\n/tmp/ipykernel_60/294650540.py:24: RuntimeWarning: Mean of empty slice\n/usr/local/lib/python3.11/dist-packages/numpy/lib/nanfunctions.py:1879: RuntimeWarning: Degrees of freedom <= 0 for slice.\n  var = nanvar(a, axis=axis, dtype=dtype, out=out, ddof=ddof,\n"
          ]
        },
        {
          "output_type": "stream",
          "name": "stderr",
          "text": [
            "/tmp/ipykernel_60/294650540.py:24: RuntimeWarning: Mean of empty slice\n/usr/local/lib/python3.11/dist-packages/numpy/lib/nanfunctions.py:1879: RuntimeWarning: Degrees of freedom <= 0 for slice.\n  var = nanvar(a, axis=axis, dtype=dtype, out=out, ddof=ddof,\n/tmp/ipykernel_60/294650540.py:24: RuntimeWarning: Mean of empty slice\n/usr/local/lib/python3.11/dist-packages/numpy/lib/nanfunctions.py:1879: RuntimeWarning: Degrees of freedom <= 0 for slice.\n  var = nanvar(a, axis=axis, dtype=dtype, out=out, ddof=ddof,\n/tmp/ipykernel_60/294650540.py:24: RuntimeWarning: Mean of empty slice\n/usr/local/lib/python3.11/dist-packages/numpy/lib/nanfunctions.py:1879: RuntimeWarning: Degrees of freedom <= 0 for slice.\n  var = nanvar(a, axis=axis, dtype=dtype, out=out, ddof=ddof,\n/tmp/ipykernel_60/294650540.py:24: RuntimeWarning: Mean of empty slice\n/usr/local/lib/python3.11/dist-packages/numpy/lib/nanfunctions.py:1879: RuntimeWarning: Degrees of freedom <= 0 for slice.\n  var = nanvar(a, axis=axis, dtype=dtype, out=out, ddof=ddof,\n/tmp/ipykernel_60/294650540.py:24: RuntimeWarning: Mean of empty slice\n/usr/local/lib/python3.11/dist-packages/numpy/lib/nanfunctions.py:1879: RuntimeWarning: Degrees of freedom <= 0 for slice.\n  var = nanvar(a, axis=axis, dtype=dtype, out=out, ddof=ddof,\n/tmp/ipykernel_60/294650540.py:24: RuntimeWarning: Mean of empty slice\n/usr/local/lib/python3.11/dist-packages/numpy/lib/nanfunctions.py:1879: RuntimeWarning: Degrees of freedom <= 0 for slice.\n  var = nanvar(a, axis=axis, dtype=dtype, out=out, ddof=ddof,\n/tmp/ipykernel_60/294650540.py:24: RuntimeWarning: Mean of empty slice\n/usr/local/lib/python3.11/dist-packages/numpy/lib/nanfunctions.py:1879: RuntimeWarning: Degrees of freedom <= 0 for slice.\n  var = nanvar(a, axis=axis, dtype=dtype, out=out, ddof=ddof,\n"
          ]
        },
        {
          "output_type": "stream",
          "name": "stderr",
          "text": [
            "/tmp/ipykernel_60/294650540.py:24: RuntimeWarning: Mean of empty slice\n/usr/local/lib/python3.11/dist-packages/numpy/lib/nanfunctions.py:1879: RuntimeWarning: Degrees of freedom <= 0 for slice.\n  var = nanvar(a, axis=axis, dtype=dtype, out=out, ddof=ddof,\n/tmp/ipykernel_60/294650540.py:24: RuntimeWarning: Mean of empty slice\n/usr/local/lib/python3.11/dist-packages/numpy/lib/nanfunctions.py:1879: RuntimeWarning: Degrees of freedom <= 0 for slice.\n  var = nanvar(a, axis=axis, dtype=dtype, out=out, ddof=ddof,\n/tmp/ipykernel_60/294650540.py:24: RuntimeWarning: Mean of empty slice\n/usr/local/lib/python3.11/dist-packages/numpy/lib/nanfunctions.py:1879: RuntimeWarning: Degrees of freedom <= 0 for slice.\n  var = nanvar(a, axis=axis, dtype=dtype, out=out, ddof=ddof,\n/tmp/ipykernel_60/294650540.py:24: RuntimeWarning: Mean of empty slice\n/usr/local/lib/python3.11/dist-packages/numpy/lib/nanfunctions.py:1879: RuntimeWarning: Degrees of freedom <= 0 for slice.\n  var = nanvar(a, axis=axis, dtype=dtype, out=out, ddof=ddof,\n/tmp/ipykernel_60/294650540.py:24: RuntimeWarning: Mean of empty slice\n/usr/local/lib/python3.11/dist-packages/numpy/lib/nanfunctions.py:1879: RuntimeWarning: Degrees of freedom <= 0 for slice.\n  var = nanvar(a, axis=axis, dtype=dtype, out=out, ddof=ddof,\n/tmp/ipykernel_60/294650540.py:24: RuntimeWarning: Mean of empty slice\n/usr/local/lib/python3.11/dist-packages/numpy/lib/nanfunctions.py:1879: RuntimeWarning: Degrees of freedom <= 0 for slice.\n  var = nanvar(a, axis=axis, dtype=dtype, out=out, ddof=ddof,\n/tmp/ipykernel_60/294650540.py:24: RuntimeWarning: Mean of empty slice\n/usr/local/lib/python3.11/dist-packages/numpy/lib/nanfunctions.py:1879: RuntimeWarning: Degrees of freedom <= 0 for slice.\n  var = nanvar(a, axis=axis, dtype=dtype, out=out, ddof=ddof,\n/tmp/ipykernel_60/294650540.py:24: RuntimeWarning: Mean of empty slice\n/usr/local/lib/python3.11/dist-packages/numpy/lib/nanfunctions.py:1879: RuntimeWarning: Degrees of freedom <= 0 for slice.\n  var = nanvar(a, axis=axis, dtype=dtype, out=out, ddof=ddof,\n/tmp/ipykernel_60/294650540.py:24: RuntimeWarning: Mean of empty slice\n/usr/local/lib/python3.11/dist-packages/numpy/lib/nanfunctions.py:1879: RuntimeWarning: Degrees of freedom <= 0 for slice.\n  var = nanvar(a, axis=axis, dtype=dtype, out=out, ddof=ddof,\n/tmp/ipykernel_60/294650540.py:24: RuntimeWarning: Mean of empty slice\n/usr/local/lib/python3.11/dist-packages/numpy/lib/nanfunctions.py:1879: RuntimeWarning: Degrees of freedom <= 0 for slice.\n  var = nanvar(a, axis=axis, dtype=dtype, out=out, ddof=ddof,\n"
          ]
        },
        {
          "output_type": "stream",
          "name": "stderr",
          "text": [
            "/tmp/ipykernel_60/294650540.py:24: RuntimeWarning: Mean of empty slice\n/usr/local/lib/python3.11/dist-packages/numpy/lib/nanfunctions.py:1879: RuntimeWarning: Degrees of freedom <= 0 for slice.\n  var = nanvar(a, axis=axis, dtype=dtype, out=out, ddof=ddof,\n/tmp/ipykernel_60/294650540.py:24: RuntimeWarning: Mean of empty slice\n/usr/local/lib/python3.11/dist-packages/numpy/lib/nanfunctions.py:1879: RuntimeWarning: Degrees of freedom <= 0 for slice.\n  var = nanvar(a, axis=axis, dtype=dtype, out=out, ddof=ddof,\n/tmp/ipykernel_60/294650540.py:24: RuntimeWarning: Mean of empty slice\n/usr/local/lib/python3.11/dist-packages/numpy/lib/nanfunctions.py:1879: RuntimeWarning: Degrees of freedom <= 0 for slice.\n  var = nanvar(a, axis=axis, dtype=dtype, out=out, ddof=ddof,\n/tmp/ipykernel_60/294650540.py:24: RuntimeWarning: Mean of empty slice\n/usr/local/lib/python3.11/dist-packages/numpy/lib/nanfunctions.py:1879: RuntimeWarning: Degrees of freedom <= 0 for slice.\n  var = nanvar(a, axis=axis, dtype=dtype, out=out, ddof=ddof,\n/tmp/ipykernel_60/294650540.py:24: RuntimeWarning: Mean of empty slice\n/usr/local/lib/python3.11/dist-packages/numpy/lib/nanfunctions.py:1879: RuntimeWarning: Degrees of freedom <= 0 for slice.\n  var = nanvar(a, axis=axis, dtype=dtype, out=out, ddof=ddof,\n/tmp/ipykernel_60/294650540.py:24: RuntimeWarning: Mean of empty slice\n/usr/local/lib/python3.11/dist-packages/numpy/lib/nanfunctions.py:1879: RuntimeWarning: Degrees of freedom <= 0 for slice.\n  var = nanvar(a, axis=axis, dtype=dtype, out=out, ddof=ddof,\n"
          ]
        },
        {
          "output_type": "stream",
          "name": "stderr",
          "text": [
            "/tmp/ipykernel_60/294650540.py:24: RuntimeWarning: Mean of empty slice\n/usr/local/lib/python3.11/dist-packages/numpy/lib/nanfunctions.py:1879: RuntimeWarning: Degrees of freedom <= 0 for slice.\n  var = nanvar(a, axis=axis, dtype=dtype, out=out, ddof=ddof,\n/tmp/ipykernel_60/294650540.py:24: RuntimeWarning: Mean of empty slice\n/usr/local/lib/python3.11/dist-packages/numpy/lib/nanfunctions.py:1879: RuntimeWarning: Degrees of freedom <= 0 for slice.\n  var = nanvar(a, axis=axis, dtype=dtype, out=out, ddof=ddof,\n/tmp/ipykernel_60/294650540.py:24: RuntimeWarning: Mean of empty slice\n/usr/local/lib/python3.11/dist-packages/numpy/lib/nanfunctions.py:1879: RuntimeWarning: Degrees of freedom <= 0 for slice.\n  var = nanvar(a, axis=axis, dtype=dtype, out=out, ddof=ddof,\n/tmp/ipykernel_60/294650540.py:24: RuntimeWarning: Mean of empty slice\n/usr/local/lib/python3.11/dist-packages/numpy/lib/nanfunctions.py:1879: RuntimeWarning: Degrees of freedom <= 0 for slice.\n  var = nanvar(a, axis=axis, dtype=dtype, out=out, ddof=ddof,\n/tmp/ipykernel_60/294650540.py:24: RuntimeWarning: Mean of empty slice\n/usr/local/lib/python3.11/dist-packages/numpy/lib/nanfunctions.py:1879: RuntimeWarning: Degrees of freedom <= 0 for slice.\n  var = nanvar(a, axis=axis, dtype=dtype, out=out, ddof=ddof,\n/tmp/ipykernel_60/294650540.py:24: RuntimeWarning: Mean of empty slice\n/usr/local/lib/python3.11/dist-packages/numpy/lib/nanfunctions.py:1879: RuntimeWarning: Degrees of freedom <= 0 for slice.\n  var = nanvar(a, axis=axis, dtype=dtype, out=out, ddof=ddof,\n"
          ]
        },
        {
          "output_type": "stream",
          "name": "stderr",
          "text": [
            "/tmp/ipykernel_60/294650540.py:24: RuntimeWarning: Mean of empty slice\n/usr/local/lib/python3.11/dist-packages/numpy/lib/nanfunctions.py:1879: RuntimeWarning: Degrees of freedom <= 0 for slice.\n  var = nanvar(a, axis=axis, dtype=dtype, out=out, ddof=ddof,\n/tmp/ipykernel_60/294650540.py:24: RuntimeWarning: Mean of empty slice\n/usr/local/lib/python3.11/dist-packages/numpy/lib/nanfunctions.py:1879: RuntimeWarning: Degrees of freedom <= 0 for slice.\n  var = nanvar(a, axis=axis, dtype=dtype, out=out, ddof=ddof,\n/tmp/ipykernel_60/294650540.py:24: RuntimeWarning: Mean of empty slice\n/usr/local/lib/python3.11/dist-packages/numpy/lib/nanfunctions.py:1879: RuntimeWarning: Degrees of freedom <= 0 for slice.\n  var = nanvar(a, axis=axis, dtype=dtype, out=out, ddof=ddof,\n/tmp/ipykernel_60/294650540.py:24: RuntimeWarning: Mean of empty slice\n/usr/local/lib/python3.11/dist-packages/numpy/lib/nanfunctions.py:1879: RuntimeWarning: Degrees of freedom <= 0 for slice.\n  var = nanvar(a, axis=axis, dtype=dtype, out=out, ddof=ddof,\n/tmp/ipykernel_60/294650540.py:24: RuntimeWarning: Mean of empty slice\n/usr/local/lib/python3.11/dist-packages/numpy/lib/nanfunctions.py:1879: RuntimeWarning: Degrees of freedom <= 0 for slice.\n  var = nanvar(a, axis=axis, dtype=dtype, out=out, ddof=ddof,\n"
          ]
        },
        {
          "output_type": "stream",
          "name": "stderr",
          "text": [
            "/tmp/ipykernel_60/294650540.py:24: RuntimeWarning: Mean of empty slice\n/usr/local/lib/python3.11/dist-packages/numpy/lib/nanfunctions.py:1879: RuntimeWarning: Degrees of freedom <= 0 for slice.\n  var = nanvar(a, axis=axis, dtype=dtype, out=out, ddof=ddof,\n/tmp/ipykernel_60/294650540.py:24: RuntimeWarning: Mean of empty slice\n/usr/local/lib/python3.11/dist-packages/numpy/lib/nanfunctions.py:1879: RuntimeWarning: Degrees of freedom <= 0 for slice.\n  var = nanvar(a, axis=axis, dtype=dtype, out=out, ddof=ddof,\n/tmp/ipykernel_60/294650540.py:24: RuntimeWarning: Mean of empty slice\n/usr/local/lib/python3.11/dist-packages/numpy/lib/nanfunctions.py:1879: RuntimeWarning: Degrees of freedom <= 0 for slice.\n  var = nanvar(a, axis=axis, dtype=dtype, out=out, ddof=ddof,\n/tmp/ipykernel_60/294650540.py:24: RuntimeWarning: Mean of empty slice\n/usr/local/lib/python3.11/dist-packages/numpy/lib/nanfunctions.py:1879: RuntimeWarning: Degrees of freedom <= 0 for slice.\n  var = nanvar(a, axis=axis, dtype=dtype, out=out, ddof=ddof,\n/tmp/ipykernel_60/294650540.py:24: RuntimeWarning: Mean of empty slice\n/usr/local/lib/python3.11/dist-packages/numpy/lib/nanfunctions.py:1879: RuntimeWarning: Degrees of freedom <= 0 for slice.\n  var = nanvar(a, axis=axis, dtype=dtype, out=out, ddof=ddof,\n/tmp/ipykernel_60/294650540.py:24: RuntimeWarning: Mean of empty slice\n/usr/local/lib/python3.11/dist-packages/numpy/lib/nanfunctions.py:1879: RuntimeWarning: Degrees of freedom <= 0 for slice.\n  var = nanvar(a, axis=axis, dtype=dtype, out=out, ddof=ddof,\n"
          ]
        },
        {
          "output_type": "stream",
          "name": "stderr",
          "text": [
            "/tmp/ipykernel_60/294650540.py:24: RuntimeWarning: Mean of empty slice\n/usr/local/lib/python3.11/dist-packages/numpy/lib/nanfunctions.py:1879: RuntimeWarning: Degrees of freedom <= 0 for slice.\n  var = nanvar(a, axis=axis, dtype=dtype, out=out, ddof=ddof,\n/tmp/ipykernel_60/294650540.py:24: RuntimeWarning: Mean of empty slice\n/usr/local/lib/python3.11/dist-packages/numpy/lib/nanfunctions.py:1879: RuntimeWarning: Degrees of freedom <= 0 for slice.\n  var = nanvar(a, axis=axis, dtype=dtype, out=out, ddof=ddof,\n/tmp/ipykernel_60/294650540.py:24: RuntimeWarning: Mean of empty slice\n/usr/local/lib/python3.11/dist-packages/numpy/lib/nanfunctions.py:1879: RuntimeWarning: Degrees of freedom <= 0 for slice.\n  var = nanvar(a, axis=axis, dtype=dtype, out=out, ddof=ddof,\n/tmp/ipykernel_60/294650540.py:24: RuntimeWarning: Mean of empty slice\n/usr/local/lib/python3.11/dist-packages/numpy/lib/nanfunctions.py:1879: RuntimeWarning: Degrees of freedom <= 0 for slice.\n  var = nanvar(a, axis=axis, dtype=dtype, out=out, ddof=ddof,\n/tmp/ipykernel_60/294650540.py:24: RuntimeWarning: Mean of empty slice\n/usr/local/lib/python3.11/dist-packages/numpy/lib/nanfunctions.py:1879: RuntimeWarning: Degrees of freedom <= 0 for slice.\n  var = nanvar(a, axis=axis, dtype=dtype, out=out, ddof=ddof,\n"
          ]
        },
        {
          "output_type": "stream",
          "name": "stderr",
          "text": [
            "/tmp/ipykernel_60/294650540.py:24: RuntimeWarning: Mean of empty slice\n/usr/local/lib/python3.11/dist-packages/numpy/lib/nanfunctions.py:1879: RuntimeWarning: Degrees of freedom <= 0 for slice.\n  var = nanvar(a, axis=axis, dtype=dtype, out=out, ddof=ddof,\n/tmp/ipykernel_60/294650540.py:24: RuntimeWarning: Mean of empty slice\n/usr/local/lib/python3.11/dist-packages/numpy/lib/nanfunctions.py:1879: RuntimeWarning: Degrees of freedom <= 0 for slice.\n  var = nanvar(a, axis=axis, dtype=dtype, out=out, ddof=ddof,\n/tmp/ipykernel_60/294650540.py:24: RuntimeWarning: Mean of empty slice\n/usr/local/lib/python3.11/dist-packages/numpy/lib/nanfunctions.py:1879: RuntimeWarning: Degrees of freedom <= 0 for slice.\n  var = nanvar(a, axis=axis, dtype=dtype, out=out, ddof=ddof,\n/tmp/ipykernel_60/294650540.py:24: RuntimeWarning: Mean of empty slice\n/usr/local/lib/python3.11/dist-packages/numpy/lib/nanfunctions.py:1879: RuntimeWarning: Degrees of freedom <= 0 for slice.\n  var = nanvar(a, axis=axis, dtype=dtype, out=out, ddof=ddof,\n"
          ]
        },
        {
          "output_type": "stream",
          "name": "stderr",
          "text": [
            "/tmp/ipykernel_60/294650540.py:24: RuntimeWarning: Mean of empty slice\n/usr/local/lib/python3.11/dist-packages/numpy/lib/nanfunctions.py:1879: RuntimeWarning: Degrees of freedom <= 0 for slice.\n  var = nanvar(a, axis=axis, dtype=dtype, out=out, ddof=ddof,\n/tmp/ipykernel_60/294650540.py:24: RuntimeWarning: Mean of empty slice\n/usr/local/lib/python3.11/dist-packages/numpy/lib/nanfunctions.py:1879: RuntimeWarning: Degrees of freedom <= 0 for slice.\n  var = nanvar(a, axis=axis, dtype=dtype, out=out, ddof=ddof,\n/tmp/ipykernel_60/294650540.py:24: RuntimeWarning: Mean of empty slice\n/usr/local/lib/python3.11/dist-packages/numpy/lib/nanfunctions.py:1879: RuntimeWarning: Degrees of freedom <= 0 for slice.\n  var = nanvar(a, axis=axis, dtype=dtype, out=out, ddof=ddof,\n/tmp/ipykernel_60/294650540.py:24: RuntimeWarning: Mean of empty slice\n/usr/local/lib/python3.11/dist-packages/numpy/lib/nanfunctions.py:1879: RuntimeWarning: Degrees of freedom <= 0 for slice.\n  var = nanvar(a, axis=axis, dtype=dtype, out=out, ddof=ddof,\n/tmp/ipykernel_60/294650540.py:24: RuntimeWarning: Mean of empty slice\n/usr/local/lib/python3.11/dist-packages/numpy/lib/nanfunctions.py:1879: RuntimeWarning: Degrees of freedom <= 0 for slice.\n  var = nanvar(a, axis=axis, dtype=dtype, out=out, ddof=ddof,\n"
          ]
        },
        {
          "output_type": "stream",
          "name": "stderr",
          "text": [
            "/tmp/ipykernel_60/294650540.py:24: RuntimeWarning: Mean of empty slice\n/tmp/ipykernel_60/294650540.py:24: RuntimeWarning: Mean of empty slice\n/usr/local/lib/python3.11/dist-packages/numpy/lib/nanfunctions.py:1879: RuntimeWarning: Degrees of freedom <= 0 for slice.\n  var = nanvar(a, axis=axis, dtype=dtype, out=out, ddof=ddof,\n/usr/local/lib/python3.11/dist-packages/numpy/lib/nanfunctions.py:1879: RuntimeWarning: Degrees of freedom <= 0 for slice.\n  var = nanvar(a, axis=axis, dtype=dtype, out=out, ddof=ddof,\n/tmp/ipykernel_60/294650540.py:24: RuntimeWarning: Mean of empty slice\n/usr/local/lib/python3.11/dist-packages/numpy/lib/nanfunctions.py:1879: RuntimeWarning: Degrees of freedom <= 0 for slice.\n  var = nanvar(a, axis=axis, dtype=dtype, out=out, ddof=ddof,\n/tmp/ipykernel_60/294650540.py:24: RuntimeWarning: Mean of empty slice\n/usr/local/lib/python3.11/dist-packages/numpy/lib/nanfunctions.py:1879: RuntimeWarning: Degrees of freedom <= 0 for slice.\n  var = nanvar(a, axis=axis, dtype=dtype, out=out, ddof=ddof,\n/tmp/ipykernel_60/294650540.py:24: RuntimeWarning: Mean of empty slice\n/usr/local/lib/python3.11/dist-packages/numpy/lib/nanfunctions.py:1879: RuntimeWarning: Degrees of freedom <= 0 for slice.\n  var = nanvar(a, axis=axis, dtype=dtype, out=out, ddof=ddof,\n/tmp/ipykernel_60/294650540.py:24: RuntimeWarning: Mean of empty slice\n/usr/local/lib/python3.11/dist-packages/numpy/lib/nanfunctions.py:1879: RuntimeWarning: Degrees of freedom <= 0 for slice.\n  var = nanvar(a, axis=axis, dtype=dtype, out=out, ddof=ddof,\n/tmp/ipykernel_60/294650540.py:24: RuntimeWarning: Mean of empty slice\n/usr/local/lib/python3.11/dist-packages/numpy/lib/nanfunctions.py:1879: RuntimeWarning: Degrees of freedom <= 0 for slice.\n  var = nanvar(a, axis=axis, dtype=dtype, out=out, ddof=ddof,\n"
          ]
        },
        {
          "output_type": "stream",
          "name": "stderr",
          "text": [
            "/tmp/ipykernel_60/294650540.py:24: RuntimeWarning: Mean of empty slice\n/usr/local/lib/python3.11/dist-packages/numpy/lib/nanfunctions.py:1879: RuntimeWarning: Degrees of freedom <= 0 for slice.\n  var = nanvar(a, axis=axis, dtype=dtype, out=out, ddof=ddof,\n/tmp/ipykernel_60/294650540.py:24: RuntimeWarning: Mean of empty slice\n/usr/local/lib/python3.11/dist-packages/numpy/lib/nanfunctions.py:1879: RuntimeWarning: Degrees of freedom <= 0 for slice.\n  var = nanvar(a, axis=axis, dtype=dtype, out=out, ddof=ddof,\n/tmp/ipykernel_60/294650540.py:24: RuntimeWarning: Mean of empty slice\n/usr/local/lib/python3.11/dist-packages/numpy/lib/nanfunctions.py:1879: RuntimeWarning: Degrees of freedom <= 0 for slice.\n  var = nanvar(a, axis=axis, dtype=dtype, out=out, ddof=ddof,\n/tmp/ipykernel_60/294650540.py:24: RuntimeWarning: Mean of empty slice\n/usr/local/lib/python3.11/dist-packages/numpy/lib/nanfunctions.py:1879: RuntimeWarning: Degrees of freedom <= 0 for slice.\n  var = nanvar(a, axis=axis, dtype=dtype, out=out, ddof=ddof,\n/tmp/ipykernel_60/294650540.py:24: RuntimeWarning: Mean of empty slice\n/usr/local/lib/python3.11/dist-packages/numpy/lib/nanfunctions.py:1879: RuntimeWarning: Degrees of freedom <= 0 for slice.\n  var = nanvar(a, axis=axis, dtype=dtype, out=out, ddof=ddof,\n/tmp/ipykernel_60/294650540.py:24: RuntimeWarning: Mean of empty slice\n/usr/local/lib/python3.11/dist-packages/numpy/lib/nanfunctions.py:1879: RuntimeWarning: Degrees of freedom <= 0 for slice.\n  var = nanvar(a, axis=axis, dtype=dtype, out=out, ddof=ddof,\n/tmp/ipykernel_60/294650540.py:24: RuntimeWarning: Mean of empty slice\n/usr/local/lib/python3.11/dist-packages/numpy/lib/nanfunctions.py:1879: RuntimeWarning: Degrees of freedom <= 0 for slice.\n  var = nanvar(a, axis=axis, dtype=dtype, out=out, ddof=ddof,\n/tmp/ipykernel_60/294650540.py:24: RuntimeWarning: Mean of empty slice\n/usr/local/lib/python3.11/dist-packages/numpy/lib/nanfunctions.py:1879: RuntimeWarning: Degrees of freedom <= 0 for slice.\n  var = nanvar(a, axis=axis, dtype=dtype, out=out, ddof=ddof,\n/tmp/ipykernel_60/294650540.py:24: RuntimeWarning: Mean of empty slice\n/usr/local/lib/python3.11/dist-packages/numpy/lib/nanfunctions.py:1879: RuntimeWarning: Degrees of freedom <= 0 for slice.\n  var = nanvar(a, axis=axis, dtype=dtype, out=out, ddof=ddof,\n/tmp/ipykernel_60/294650540.py:24: RuntimeWarning: Mean of empty slice\n/usr/local/lib/python3.11/dist-packages/numpy/lib/nanfunctions.py:1879: RuntimeWarning: Degrees of freedom <= 0 for slice.\n  var = nanvar(a, axis=axis, dtype=dtype, out=out, ddof=ddof,\n"
          ]
        },
        {
          "output_type": "stream",
          "name": "stderr",
          "text": [
            "/tmp/ipykernel_60/294650540.py:24: RuntimeWarning: Mean of empty slice\n/usr/local/lib/python3.11/dist-packages/numpy/lib/nanfunctions.py:1879: RuntimeWarning: Degrees of freedom <= 0 for slice.\n  var = nanvar(a, axis=axis, dtype=dtype, out=out, ddof=ddof,\n/tmp/ipykernel_60/294650540.py:24: RuntimeWarning: Mean of empty slice\n/usr/local/lib/python3.11/dist-packages/numpy/lib/nanfunctions.py:1879: RuntimeWarning: Degrees of freedom <= 0 for slice.\n  var = nanvar(a, axis=axis, dtype=dtype, out=out, ddof=ddof,\n/tmp/ipykernel_60/294650540.py:24: RuntimeWarning: Mean of empty slice\n/usr/local/lib/python3.11/dist-packages/numpy/lib/nanfunctions.py:1879: RuntimeWarning: Degrees of freedom <= 0 for slice.\n  var = nanvar(a, axis=axis, dtype=dtype, out=out, ddof=ddof,\n/tmp/ipykernel_60/294650540.py:24: RuntimeWarning: Mean of empty slice\n/usr/local/lib/python3.11/dist-packages/numpy/lib/nanfunctions.py:1879: RuntimeWarning: Degrees of freedom <= 0 for slice.\n  var = nanvar(a, axis=axis, dtype=dtype, out=out, ddof=ddof,\n/tmp/ipykernel_60/294650540.py:24: RuntimeWarning: Mean of empty slice\n/usr/local/lib/python3.11/dist-packages/numpy/lib/nanfunctions.py:1879: RuntimeWarning: Degrees of freedom <= 0 for slice.\n  var = nanvar(a, axis=axis, dtype=dtype, out=out, ddof=ddof,\n/tmp/ipykernel_60/294650540.py:24: RuntimeWarning: Mean of empty slice\n/usr/local/lib/python3.11/dist-packages/numpy/lib/nanfunctions.py:1879: RuntimeWarning: Degrees of freedom <= 0 for slice.\n  var = nanvar(a, axis=axis, dtype=dtype, out=out, ddof=ddof,\n"
          ]
        },
        {
          "output_type": "stream",
          "name": "stderr",
          "text": [
            "/tmp/ipykernel_60/294650540.py:24: RuntimeWarning: Mean of empty slice\n/usr/local/lib/python3.11/dist-packages/numpy/lib/nanfunctions.py:1879: RuntimeWarning: Degrees of freedom <= 0 for slice.\n  var = nanvar(a, axis=axis, dtype=dtype, out=out, ddof=ddof,\n/tmp/ipykernel_60/294650540.py:24: RuntimeWarning: Mean of empty slice\n/usr/local/lib/python3.11/dist-packages/numpy/lib/nanfunctions.py:1879: RuntimeWarning: Degrees of freedom <= 0 for slice.\n  var = nanvar(a, axis=axis, dtype=dtype, out=out, ddof=ddof,\n/tmp/ipykernel_60/294650540.py:24: RuntimeWarning: Mean of empty slice\n/usr/local/lib/python3.11/dist-packages/numpy/lib/nanfunctions.py:1879: RuntimeWarning: Degrees of freedom <= 0 for slice.\n  var = nanvar(a, axis=axis, dtype=dtype, out=out, ddof=ddof,\n"
          ]
        },
        {
          "output_type": "stream",
          "name": "stderr",
          "text": [
            "/tmp/ipykernel_60/294650540.py:24: RuntimeWarning: Mean of empty slice\n/usr/local/lib/python3.11/dist-packages/numpy/lib/nanfunctions.py:1879: RuntimeWarning: Degrees of freedom <= 0 for slice.\n  var = nanvar(a, axis=axis, dtype=dtype, out=out, ddof=ddof,\n/tmp/ipykernel_60/294650540.py:24: RuntimeWarning: Mean of empty slice\n/usr/local/lib/python3.11/dist-packages/numpy/lib/nanfunctions.py:1879: RuntimeWarning: Degrees of freedom <= 0 for slice.\n  var = nanvar(a, axis=axis, dtype=dtype, out=out, ddof=ddof,\n/tmp/ipykernel_60/294650540.py:24: RuntimeWarning: Mean of empty slice\n/usr/local/lib/python3.11/dist-packages/numpy/lib/nanfunctions.py:1879: RuntimeWarning: Degrees of freedom <= 0 for slice.\n  var = nanvar(a, axis=axis, dtype=dtype, out=out, ddof=ddof,\n/tmp/ipykernel_60/294650540.py:24: RuntimeWarning: Mean of empty slice\n/usr/local/lib/python3.11/dist-packages/numpy/lib/nanfunctions.py:1879: RuntimeWarning: Degrees of freedom <= 0 for slice.\n  var = nanvar(a, axis=axis, dtype=dtype, out=out, ddof=ddof,\n/tmp/ipykernel_60/294650540.py:24: RuntimeWarning: Mean of empty slice\n/usr/local/lib/python3.11/dist-packages/numpy/lib/nanfunctions.py:1879: RuntimeWarning: Degrees of freedom <= 0 for slice.\n  var = nanvar(a, axis=axis, dtype=dtype, out=out, ddof=ddof,\n/tmp/ipykernel_60/294650540.py:24: RuntimeWarning: Mean of empty slice\n/usr/local/lib/python3.11/dist-packages/numpy/lib/nanfunctions.py:1879: RuntimeWarning: Degrees of freedom <= 0 for slice.\n  var = nanvar(a, axis=axis, dtype=dtype, out=out, ddof=ddof,\n/tmp/ipykernel_60/294650540.py:24: RuntimeWarning: Mean of empty slice\n/usr/local/lib/python3.11/dist-packages/numpy/lib/nanfunctions.py:1879: RuntimeWarning: Degrees of freedom <= 0 for slice.\n  var = nanvar(a, axis=axis, dtype=dtype, out=out, ddof=ddof,\n/tmp/ipykernel_60/294650540.py:24: RuntimeWarning: Mean of empty slice\n/usr/local/lib/python3.11/dist-packages/numpy/lib/nanfunctions.py:1879: RuntimeWarning: Degrees of freedom <= 0 for slice.\n  var = nanvar(a, axis=axis, dtype=dtype, out=out, ddof=ddof,\n"
          ]
        },
        {
          "output_type": "stream",
          "name": "stderr",
          "text": [
            "/tmp/ipykernel_60/294650540.py:24: RuntimeWarning: Mean of empty slice\n/usr/local/lib/python3.11/dist-packages/numpy/lib/nanfunctions.py:1879: RuntimeWarning: Degrees of freedom <= 0 for slice.\n  var = nanvar(a, axis=axis, dtype=dtype, out=out, ddof=ddof,\n/tmp/ipykernel_60/294650540.py:24: RuntimeWarning: Mean of empty slice\n/usr/local/lib/python3.11/dist-packages/numpy/lib/nanfunctions.py:1879: RuntimeWarning: Degrees of freedom <= 0 for slice.\n  var = nanvar(a, axis=axis, dtype=dtype, out=out, ddof=ddof,\n/tmp/ipykernel_60/294650540.py:24: RuntimeWarning: Mean of empty slice\n/usr/local/lib/python3.11/dist-packages/numpy/lib/nanfunctions.py:1879: RuntimeWarning: Degrees of freedom <= 0 for slice.\n  var = nanvar(a, axis=axis, dtype=dtype, out=out, ddof=ddof,\n/tmp/ipykernel_60/294650540.py:24: RuntimeWarning: Mean of empty slice\n/usr/local/lib/python3.11/dist-packages/numpy/lib/nanfunctions.py:1879: RuntimeWarning: Degrees of freedom <= 0 for slice.\n  var = nanvar(a, axis=axis, dtype=dtype, out=out, ddof=ddof,\n/tmp/ipykernel_60/294650540.py:24: RuntimeWarning: Mean of empty slice\n/usr/local/lib/python3.11/dist-packages/numpy/lib/nanfunctions.py:1879: RuntimeWarning: Degrees of freedom <= 0 for slice.\n  var = nanvar(a, axis=axis, dtype=dtype, out=out, ddof=ddof,\n/tmp/ipykernel_60/294650540.py:24: RuntimeWarning: Mean of empty slice\n/usr/local/lib/python3.11/dist-packages/numpy/lib/nanfunctions.py:1879: RuntimeWarning: Degrees of freedom <= 0 for slice.\n  var = nanvar(a, axis=axis, dtype=dtype, out=out, ddof=ddof,\n/tmp/ipykernel_60/294650540.py:24: RuntimeWarning: Mean of empty slice\n/usr/local/lib/python3.11/dist-packages/numpy/lib/nanfunctions.py:1879: RuntimeWarning: Degrees of freedom <= 0 for slice.\n  var = nanvar(a, axis=axis, dtype=dtype, out=out, ddof=ddof,\n/tmp/ipykernel_60/294650540.py:24: RuntimeWarning: Mean of empty slice\n/usr/local/lib/python3.11/dist-packages/numpy/lib/nanfunctions.py:1879: RuntimeWarning: Degrees of freedom <= 0 for slice.\n  var = nanvar(a, axis=axis, dtype=dtype, out=out, ddof=ddof,\n/tmp/ipykernel_60/294650540.py:24: RuntimeWarning: Mean of empty slice\n/usr/local/lib/python3.11/dist-packages/numpy/lib/nanfunctions.py:1879: RuntimeWarning: Degrees of freedom <= 0 for slice.\n  var = nanvar(a, axis=axis, dtype=dtype, out=out, ddof=ddof,\n"
          ]
        },
        {
          "output_type": "stream",
          "name": "stderr",
          "text": [
            "/tmp/ipykernel_60/294650540.py:24: RuntimeWarning: Mean of empty slice\n/usr/local/lib/python3.11/dist-packages/numpy/lib/nanfunctions.py:1879: RuntimeWarning: Degrees of freedom <= 0 for slice.\n  var = nanvar(a, axis=axis, dtype=dtype, out=out, ddof=ddof,\n/tmp/ipykernel_60/294650540.py:24: RuntimeWarning: Mean of empty slice\n/usr/local/lib/python3.11/dist-packages/numpy/lib/nanfunctions.py:1879: RuntimeWarning: Degrees of freedom <= 0 for slice.\n  var = nanvar(a, axis=axis, dtype=dtype, out=out, ddof=ddof,\n/tmp/ipykernel_60/294650540.py:24: RuntimeWarning: Mean of empty slice\n/usr/local/lib/python3.11/dist-packages/numpy/lib/nanfunctions.py:1879: RuntimeWarning: Degrees of freedom <= 0 for slice.\n  var = nanvar(a, axis=axis, dtype=dtype, out=out, ddof=ddof,\n/tmp/ipykernel_60/294650540.py:24: RuntimeWarning: Mean of empty slice\n/usr/local/lib/python3.11/dist-packages/numpy/lib/nanfunctions.py:1879: RuntimeWarning: Degrees of freedom <= 0 for slice.\n  var = nanvar(a, axis=axis, dtype=dtype, out=out, ddof=ddof,\n/tmp/ipykernel_60/294650540.py:24: RuntimeWarning: Mean of empty slice\n/usr/local/lib/python3.11/dist-packages/numpy/lib/nanfunctions.py:1879: RuntimeWarning: Degrees of freedom <= 0 for slice.\n  var = nanvar(a, axis=axis, dtype=dtype, out=out, ddof=ddof,\n/tmp/ipykernel_60/294650540.py:24: RuntimeWarning: Mean of empty slice\n/usr/local/lib/python3.11/dist-packages/numpy/lib/nanfunctions.py:1879: RuntimeWarning: Degrees of freedom <= 0 for slice.\n  var = nanvar(a, axis=axis, dtype=dtype, out=out, ddof=ddof,\n"
          ]
        },
        {
          "output_type": "stream",
          "name": "stderr",
          "text": [
            "/tmp/ipykernel_60/294650540.py:24: RuntimeWarning: Mean of empty slice\n/usr/local/lib/python3.11/dist-packages/numpy/lib/nanfunctions.py:1879: RuntimeWarning: Degrees of freedom <= 0 for slice.\n  var = nanvar(a, axis=axis, dtype=dtype, out=out, ddof=ddof,\n/tmp/ipykernel_60/294650540.py:24: RuntimeWarning: Mean of empty slice\n/usr/local/lib/python3.11/dist-packages/numpy/lib/nanfunctions.py:1879: RuntimeWarning: Degrees of freedom <= 0 for slice.\n  var = nanvar(a, axis=axis, dtype=dtype, out=out, ddof=ddof,\n/tmp/ipykernel_60/294650540.py:24: RuntimeWarning: Mean of empty slice\n/usr/local/lib/python3.11/dist-packages/numpy/lib/nanfunctions.py:1879: RuntimeWarning: Degrees of freedom <= 0 for slice.\n  var = nanvar(a, axis=axis, dtype=dtype, out=out, ddof=ddof,\n/tmp/ipykernel_60/294650540.py:24: RuntimeWarning: Mean of empty slice\n/usr/local/lib/python3.11/dist-packages/numpy/lib/nanfunctions.py:1879: RuntimeWarning: Degrees of freedom <= 0 for slice.\n  var = nanvar(a, axis=axis, dtype=dtype, out=out, ddof=ddof,\n/tmp/ipykernel_60/294650540.py:24: RuntimeWarning: Mean of empty slice\n/usr/local/lib/python3.11/dist-packages/numpy/lib/nanfunctions.py:1879: RuntimeWarning: Degrees of freedom <= 0 for slice.\n  var = nanvar(a, axis=axis, dtype=dtype, out=out, ddof=ddof,\n/tmp/ipykernel_60/294650540.py:24: RuntimeWarning: Mean of empty slice\n/usr/local/lib/python3.11/dist-packages/numpy/lib/nanfunctions.py:1879: RuntimeWarning: Degrees of freedom <= 0 for slice.\n  var = nanvar(a, axis=axis, dtype=dtype, out=out, ddof=ddof,\n/tmp/ipykernel_60/294650540.py:24: RuntimeWarning: Mean of empty slice\n/usr/local/lib/python3.11/dist-packages/numpy/lib/nanfunctions.py:1879: RuntimeWarning: Degrees of freedom <= 0 for slice.\n  var = nanvar(a, axis=axis, dtype=dtype, out=out, ddof=ddof,\n/tmp/ipykernel_60/294650540.py:24: RuntimeWarning: Mean of empty slice\n/usr/local/lib/python3.11/dist-packages/numpy/lib/nanfunctions.py:1879: RuntimeWarning: Degrees of freedom <= 0 for slice.\n  var = nanvar(a, axis=axis, dtype=dtype, out=out, ddof=ddof,\n"
          ]
        },
        {
          "output_type": "stream",
          "name": "stderr",
          "text": [
            "/tmp/ipykernel_60/294650540.py:24: RuntimeWarning: Mean of empty slice\n/usr/local/lib/python3.11/dist-packages/numpy/lib/nanfunctions.py:1879: RuntimeWarning: Degrees of freedom <= 0 for slice.\n  var = nanvar(a, axis=axis, dtype=dtype, out=out, ddof=ddof,\n/tmp/ipykernel_60/294650540.py:24: RuntimeWarning: Mean of empty slice\n/usr/local/lib/python3.11/dist-packages/numpy/lib/nanfunctions.py:1879: RuntimeWarning: Degrees of freedom <= 0 for slice.\n  var = nanvar(a, axis=axis, dtype=dtype, out=out, ddof=ddof,\n/tmp/ipykernel_60/294650540.py:24: RuntimeWarning: Mean of empty slice\n/usr/local/lib/python3.11/dist-packages/numpy/lib/nanfunctions.py:1879: RuntimeWarning: Degrees of freedom <= 0 for slice.\n  var = nanvar(a, axis=axis, dtype=dtype, out=out, ddof=ddof,\n/tmp/ipykernel_60/294650540.py:24: RuntimeWarning: Mean of empty slice\n/usr/local/lib/python3.11/dist-packages/numpy/lib/nanfunctions.py:1879: RuntimeWarning: Degrees of freedom <= 0 for slice.\n  var = nanvar(a, axis=axis, dtype=dtype, out=out, ddof=ddof,\n/tmp/ipykernel_60/294650540.py:24: RuntimeWarning: Mean of empty slice\n/usr/local/lib/python3.11/dist-packages/numpy/lib/nanfunctions.py:1879: RuntimeWarning: Degrees of freedom <= 0 for slice.\n  var = nanvar(a, axis=axis, dtype=dtype, out=out, ddof=ddof,\n/tmp/ipykernel_60/294650540.py:24: RuntimeWarning: Mean of empty slice\n/usr/local/lib/python3.11/dist-packages/numpy/lib/nanfunctions.py:1879: RuntimeWarning: Degrees of freedom <= 0 for slice.\n  var = nanvar(a, axis=axis, dtype=dtype, out=out, ddof=ddof,\n/tmp/ipykernel_60/294650540.py:24: RuntimeWarning: Mean of empty slice\n/usr/local/lib/python3.11/dist-packages/numpy/lib/nanfunctions.py:1879: RuntimeWarning: Degrees of freedom <= 0 for slice.\n  var = nanvar(a, axis=axis, dtype=dtype, out=out, ddof=ddof,\n/tmp/ipykernel_60/294650540.py:24: RuntimeWarning: Mean of empty slice\n/usr/local/lib/python3.11/dist-packages/numpy/lib/nanfunctions.py:1879: RuntimeWarning: Degrees of freedom <= 0 for slice.\n  var = nanvar(a, axis=axis, dtype=dtype, out=out, ddof=ddof,\n/tmp/ipykernel_60/294650540.py:24: RuntimeWarning: Mean of empty slice\n"
          ]
        },
        {
          "output_type": "stream",
          "name": "stderr",
          "text": [
            "/usr/local/lib/python3.11/dist-packages/numpy/lib/nanfunctions.py:1879: RuntimeWarning: Degrees of freedom <= 0 for slice.\n  var = nanvar(a, axis=axis, dtype=dtype, out=out, ddof=ddof,\n/tmp/ipykernel_60/294650540.py:24: RuntimeWarning: Mean of empty slice\n/usr/local/lib/python3.11/dist-packages/numpy/lib/nanfunctions.py:1879: RuntimeWarning: Degrees of freedom <= 0 for slice.\n  var = nanvar(a, axis=axis, dtype=dtype, out=out, ddof=ddof,\n/tmp/ipykernel_60/294650540.py:24: RuntimeWarning: Mean of empty slice\n/usr/local/lib/python3.11/dist-packages/numpy/lib/nanfunctions.py:1879: RuntimeWarning: Degrees of freedom <= 0 for slice.\n  var = nanvar(a, axis=axis, dtype=dtype, out=out, ddof=ddof,\n/tmp/ipykernel_60/294650540.py:24: RuntimeWarning: Mean of empty slice\n/usr/local/lib/python3.11/dist-packages/numpy/lib/nanfunctions.py:1879: RuntimeWarning: Degrees of freedom <= 0 for slice.\n  var = nanvar(a, axis=axis, dtype=dtype, out=out, ddof=ddof,\n/tmp/ipykernel_60/294650540.py:24: RuntimeWarning: Mean of empty slice\n/usr/local/lib/python3.11/dist-packages/numpy/lib/nanfunctions.py:1879: RuntimeWarning: Degrees of freedom <= 0 for slice.\n  var = nanvar(a, axis=axis, dtype=dtype, out=out, ddof=ddof,\n/tmp/ipykernel_60/294650540.py:24: RuntimeWarning: Mean of empty slice\n/usr/local/lib/python3.11/dist-packages/numpy/lib/nanfunctions.py:1879: RuntimeWarning: Degrees of freedom <= 0 for slice.\n  var = nanvar(a, axis=axis, dtype=dtype, out=out, ddof=ddof,\n"
          ]
        },
        {
          "output_type": "stream",
          "name": "stderr",
          "text": [
            "/tmp/ipykernel_60/294650540.py:24: RuntimeWarning: Mean of empty slice\n/usr/local/lib/python3.11/dist-packages/numpy/lib/nanfunctions.py:1879: RuntimeWarning: Degrees of freedom <= 0 for slice.\n  var = nanvar(a, axis=axis, dtype=dtype, out=out, ddof=ddof,\n/tmp/ipykernel_60/294650540.py:24: RuntimeWarning: Mean of empty slice\n/usr/local/lib/python3.11/dist-packages/numpy/lib/nanfunctions.py:1879: RuntimeWarning: Degrees of freedom <= 0 for slice.\n  var = nanvar(a, axis=axis, dtype=dtype, out=out, ddof=ddof,\n/tmp/ipykernel_60/294650540.py:24: RuntimeWarning: Mean of empty slice\n/usr/local/lib/python3.11/dist-packages/numpy/lib/nanfunctions.py:1879: RuntimeWarning: Degrees of freedom <= 0 for slice.\n  var = nanvar(a, axis=axis, dtype=dtype, out=out, ddof=ddof,\n/tmp/ipykernel_60/294650540.py:24: RuntimeWarning: Mean of empty slice\n/usr/local/lib/python3.11/dist-packages/numpy/lib/nanfunctions.py:1879: RuntimeWarning: Degrees of freedom <= 0 for slice.\n  var = nanvar(a, axis=axis, dtype=dtype, out=out, ddof=ddof,\n/tmp/ipykernel_60/294650540.py:24: RuntimeWarning: Mean of empty slice\n/usr/local/lib/python3.11/dist-packages/numpy/lib/nanfunctions.py:1879: RuntimeWarning: Degrees of freedom <= 0 for slice.\n  var = nanvar(a, axis=axis, dtype=dtype, out=out, ddof=ddof,\n"
          ]
        },
        {
          "output_type": "stream",
          "name": "stderr",
          "text": [
            "/tmp/ipykernel_60/294650540.py:24: RuntimeWarning: Mean of empty slice\n/usr/local/lib/python3.11/dist-packages/numpy/lib/nanfunctions.py:1879: RuntimeWarning: Degrees of freedom <= 0 for slice.\n  var = nanvar(a, axis=axis, dtype=dtype, out=out, ddof=ddof,\n/tmp/ipykernel_60/294650540.py:24: RuntimeWarning: Mean of empty slice\n/usr/local/lib/python3.11/dist-packages/numpy/lib/nanfunctions.py:1879: RuntimeWarning: Degrees of freedom <= 0 for slice.\n  var = nanvar(a, axis=axis, dtype=dtype, out=out, ddof=ddof,\n/tmp/ipykernel_60/294650540.py:24: RuntimeWarning: Mean of empty slice\n/usr/local/lib/python3.11/dist-packages/numpy/lib/nanfunctions.py:1879: RuntimeWarning: Degrees of freedom <= 0 for slice.\n  var = nanvar(a, axis=axis, dtype=dtype, out=out, ddof=ddof,\n"
          ]
        },
        {
          "output_type": "stream",
          "name": "stderr",
          "text": [
            "/tmp/ipykernel_60/294650540.py:24: RuntimeWarning: Mean of empty slice\n/usr/local/lib/python3.11/dist-packages/numpy/lib/nanfunctions.py:1879: RuntimeWarning: Degrees of freedom <= 0 for slice.\n  var = nanvar(a, axis=axis, dtype=dtype, out=out, ddof=ddof,\n/tmp/ipykernel_60/294650540.py:24: RuntimeWarning: Mean of empty slice\n/usr/local/lib/python3.11/dist-packages/numpy/lib/nanfunctions.py:1879: RuntimeWarning: Degrees of freedom <= 0 for slice.\n  var = nanvar(a, axis=axis, dtype=dtype, out=out, ddof=ddof,\n/tmp/ipykernel_60/294650540.py:24: RuntimeWarning: Mean of empty slice\n/usr/local/lib/python3.11/dist-packages/numpy/lib/nanfunctions.py:1879: RuntimeWarning: Degrees of freedom <= 0 for slice.\n  var = nanvar(a, axis=axis, dtype=dtype, out=out, ddof=ddof,\n/tmp/ipykernel_60/294650540.py:24: RuntimeWarning: Mean of empty slice\n/usr/local/lib/python3.11/dist-packages/numpy/lib/nanfunctions.py:1879: RuntimeWarning: Degrees of freedom <= 0 for slice.\n  var = nanvar(a, axis=axis, dtype=dtype, out=out, ddof=ddof,\n/tmp/ipykernel_60/294650540.py:24: RuntimeWarning: Mean of empty slice\n/usr/local/lib/python3.11/dist-packages/numpy/lib/nanfunctions.py:1879: RuntimeWarning: Degrees of freedom <= 0 for slice.\n  var = nanvar(a, axis=axis, dtype=dtype, out=out, ddof=ddof,\n/tmp/ipykernel_60/294650540.py:24: RuntimeWarning: Mean of empty slice\n/usr/local/lib/python3.11/dist-packages/numpy/lib/nanfunctions.py:1879: RuntimeWarning: Degrees of freedom <= 0 for slice.\n  var = nanvar(a, axis=axis, dtype=dtype, out=out, ddof=ddof,\n"
          ]
        },
        {
          "output_type": "stream",
          "name": "stderr",
          "text": [
            "/tmp/ipykernel_60/294650540.py:24: RuntimeWarning: Mean of empty slice\n/usr/local/lib/python3.11/dist-packages/numpy/lib/nanfunctions.py:1879: RuntimeWarning: Degrees of freedom <= 0 for slice.\n  var = nanvar(a, axis=axis, dtype=dtype, out=out, ddof=ddof,\n/tmp/ipykernel_60/294650540.py:24: RuntimeWarning: Mean of empty slice\n/usr/local/lib/python3.11/dist-packages/numpy/lib/nanfunctions.py:1879: RuntimeWarning: Degrees of freedom <= 0 for slice.\n  var = nanvar(a, axis=axis, dtype=dtype, out=out, ddof=ddof,\n/tmp/ipykernel_60/294650540.py:24: RuntimeWarning: Mean of empty slice\n/usr/local/lib/python3.11/dist-packages/numpy/lib/nanfunctions.py:1879: RuntimeWarning: Degrees of freedom <= 0 for slice.\n  var = nanvar(a, axis=axis, dtype=dtype, out=out, ddof=ddof,\n/tmp/ipykernel_60/294650540.py:24: RuntimeWarning: Mean of empty slice\n/usr/local/lib/python3.11/dist-packages/numpy/lib/nanfunctions.py:1879: RuntimeWarning: Degrees of freedom <= 0 for slice.\n  var = nanvar(a, axis=axis, dtype=dtype, out=out, ddof=ddof,\n/tmp/ipykernel_60/294650540.py:24: RuntimeWarning: Mean of empty slice\n/usr/local/lib/python3.11/dist-packages/numpy/lib/nanfunctions.py:1879: RuntimeWarning: Degrees of freedom <= 0 for slice.\n  var = nanvar(a, axis=axis, dtype=dtype, out=out, ddof=ddof,\n"
          ]
        },
        {
          "output_type": "stream",
          "name": "stderr",
          "text": [
            "/tmp/ipykernel_60/294650540.py:24: RuntimeWarning: Mean of empty slice\n/usr/local/lib/python3.11/dist-packages/numpy/lib/nanfunctions.py:1879: RuntimeWarning: Degrees of freedom <= 0 for slice.\n  var = nanvar(a, axis=axis, dtype=dtype, out=out, ddof=ddof,\n/tmp/ipykernel_60/294650540.py:24: RuntimeWarning: Mean of empty slice\n/usr/local/lib/python3.11/dist-packages/numpy/lib/nanfunctions.py:1879: RuntimeWarning: Degrees of freedom <= 0 for slice.\n  var = nanvar(a, axis=axis, dtype=dtype, out=out, ddof=ddof,\n/tmp/ipykernel_60/294650540.py:24: RuntimeWarning: Mean of empty slice\n/usr/local/lib/python3.11/dist-packages/numpy/lib/nanfunctions.py:1879: RuntimeWarning: Degrees of freedom <= 0 for slice.\n  var = nanvar(a, axis=axis, dtype=dtype, out=out, ddof=ddof,\n/tmp/ipykernel_60/294650540.py:24: RuntimeWarning: Mean of empty slice\n/usr/local/lib/python3.11/dist-packages/numpy/lib/nanfunctions.py:1879: RuntimeWarning: Degrees of freedom <= 0 for slice.\n  var = nanvar(a, axis=axis, dtype=dtype, out=out, ddof=ddof,\n/tmp/ipykernel_60/294650540.py:24: RuntimeWarning: Mean of empty slice\n/usr/local/lib/python3.11/dist-packages/numpy/lib/nanfunctions.py:1879: RuntimeWarning: Degrees of freedom <= 0 for slice.\n  var = nanvar(a, axis=axis, dtype=dtype, out=out, ddof=ddof,\n"
          ]
        },
        {
          "output_type": "stream",
          "name": "stderr",
          "text": [
            "/tmp/ipykernel_60/294650540.py:24: RuntimeWarning: Mean of empty slice\n/usr/local/lib/python3.11/dist-packages/numpy/lib/nanfunctions.py:1879: RuntimeWarning: Degrees of freedom <= 0 for slice.\n  var = nanvar(a, axis=axis, dtype=dtype, out=out, ddof=ddof,\n/tmp/ipykernel_60/294650540.py:24: RuntimeWarning: Mean of empty slice\n/usr/local/lib/python3.11/dist-packages/numpy/lib/nanfunctions.py:1879: RuntimeWarning: Degrees of freedom <= 0 for slice.\n  var = nanvar(a, axis=axis, dtype=dtype, out=out, ddof=ddof,\n/tmp/ipykernel_60/294650540.py:24: RuntimeWarning: Mean of empty slice\n/usr/local/lib/python3.11/dist-packages/numpy/lib/nanfunctions.py:1879: RuntimeWarning: Degrees of freedom <= 0 for slice.\n  var = nanvar(a, axis=axis, dtype=dtype, out=out, ddof=ddof,\n/tmp/ipykernel_60/294650540.py:24: RuntimeWarning: Mean of empty slice\n/usr/local/lib/python3.11/dist-packages/numpy/lib/nanfunctions.py:1879: RuntimeWarning: Degrees of freedom <= 0 for slice.\n  var = nanvar(a, axis=axis, dtype=dtype, out=out, ddof=ddof,\n/tmp/ipykernel_60/294650540.py:24: RuntimeWarning: Mean of empty slice\n/usr/local/lib/python3.11/dist-packages/numpy/lib/nanfunctions.py:1879: RuntimeWarning: Degrees of freedom <= 0 for slice.\n  var = nanvar(a, axis=axis, dtype=dtype, out=out, ddof=ddof,\n/tmp/ipykernel_60/294650540.py:24: RuntimeWarning: Mean of empty slice\n/usr/local/lib/python3.11/dist-packages/numpy/lib/nanfunctions.py:1879: RuntimeWarning: Degrees of freedom <= 0 for slice.\n  var = nanvar(a, axis=axis, dtype=dtype, out=out, ddof=ddof,\n"
          ]
        },
        {
          "output_type": "stream",
          "name": "stderr",
          "text": [
            "/tmp/ipykernel_60/294650540.py:24: RuntimeWarning: Mean of empty slice\n/usr/local/lib/python3.11/dist-packages/numpy/lib/nanfunctions.py:1879: RuntimeWarning: Degrees of freedom <= 0 for slice.\n  var = nanvar(a, axis=axis, dtype=dtype, out=out, ddof=ddof,\n/tmp/ipykernel_60/294650540.py:24: RuntimeWarning: Mean of empty slice\n/usr/local/lib/python3.11/dist-packages/numpy/lib/nanfunctions.py:1879: RuntimeWarning: Degrees of freedom <= 0 for slice.\n  var = nanvar(a, axis=axis, dtype=dtype, out=out, ddof=ddof,\n/tmp/ipykernel_60/294650540.py:24: RuntimeWarning: Mean of empty slice\n/usr/local/lib/python3.11/dist-packages/numpy/lib/nanfunctions.py:1879: RuntimeWarning: Degrees of freedom <= 0 for slice.\n  var = nanvar(a, axis=axis, dtype=dtype, out=out, ddof=ddof,\n/tmp/ipykernel_60/294650540.py:24: RuntimeWarning: Mean of empty slice\n/usr/local/lib/python3.11/dist-packages/numpy/lib/nanfunctions.py:1879: RuntimeWarning: Degrees of freedom <= 0 for slice.\n  var = nanvar(a, axis=axis, dtype=dtype, out=out, ddof=ddof,\n/tmp/ipykernel_60/294650540.py:24: RuntimeWarning: Mean of empty slice\n/usr/local/lib/python3.11/dist-packages/numpy/lib/nanfunctions.py:1879: RuntimeWarning: Degrees of freedom <= 0 for slice.\n  var = nanvar(a, axis=axis, dtype=dtype, out=out, ddof=ddof,\n/tmp/ipykernel_60/294650540.py:24: RuntimeWarning: Mean of empty slice\n/usr/local/lib/python3.11/dist-packages/numpy/lib/nanfunctions.py:1879: RuntimeWarning: Degrees of freedom <= 0 for slice.\n  var = nanvar(a, axis=axis, dtype=dtype, out=out, ddof=ddof,\n/tmp/ipykernel_60/294650540.py:24: RuntimeWarning: Mean of empty slice\n/usr/local/lib/python3.11/dist-packages/numpy/lib/nanfunctions.py:1879: RuntimeWarning: Degrees of freedom <= 0 for slice.\n  var = nanvar(a, axis=axis, dtype=dtype, out=out, ddof=ddof,\n/tmp/ipykernel_60/294650540.py:24: RuntimeWarning: Mean of empty slice\n/usr/local/lib/python3.11/dist-packages/numpy/lib/nanfunctions.py:1879: RuntimeWarning: Degrees of freedom <= 0 for slice.\n  var = nanvar(a, axis=axis, dtype=dtype, out=out, ddof=ddof,\n/tmp/ipykernel_60/294650540.py:24: RuntimeWarning: Mean of empty slice\n/usr/local/lib/python3.11/dist-packages/numpy/lib/nanfunctions.py:1879: RuntimeWarning: Degrees of freedom <= 0 for slice.\n  var = nanvar(a, axis=axis, dtype=dtype, out=out, ddof=ddof,\n"
          ]
        },
        {
          "output_type": "stream",
          "name": "stderr",
          "text": [
            "/tmp/ipykernel_60/294650540.py:24: RuntimeWarning: Mean of empty slice\n/usr/local/lib/python3.11/dist-packages/numpy/lib/nanfunctions.py:1879: RuntimeWarning: Degrees of freedom <= 0 for slice.\n  var = nanvar(a, axis=axis, dtype=dtype, out=out, ddof=ddof,\n/tmp/ipykernel_60/294650540.py:24: RuntimeWarning: Mean of empty slice\n/usr/local/lib/python3.11/dist-packages/numpy/lib/nanfunctions.py:1879: RuntimeWarning: Degrees of freedom <= 0 for slice.\n  var = nanvar(a, axis=axis, dtype=dtype, out=out, ddof=ddof,\n/tmp/ipykernel_60/294650540.py:24: RuntimeWarning: Mean of empty slice\n/usr/local/lib/python3.11/dist-packages/numpy/lib/nanfunctions.py:1879: RuntimeWarning: Degrees of freedom <= 0 for slice.\n  var = nanvar(a, axis=axis, dtype=dtype, out=out, ddof=ddof,\n/tmp/ipykernel_60/294650540.py:24: RuntimeWarning: Mean of empty slice\n/usr/local/lib/python3.11/dist-packages/numpy/lib/nanfunctions.py:1879: RuntimeWarning: Degrees of freedom <= 0 for slice.\n  var = nanvar(a, axis=axis, dtype=dtype, out=out, ddof=ddof,\n/tmp/ipykernel_60/294650540.py:24: RuntimeWarning: Mean of empty slice\n/usr/local/lib/python3.11/dist-packages/numpy/lib/nanfunctions.py:1879: RuntimeWarning: Degrees of freedom <= 0 for slice.\n  var = nanvar(a, axis=axis, dtype=dtype, out=out, ddof=ddof,\n/tmp/ipykernel_60/294650540.py:24: RuntimeWarning: Mean of empty slice\n/usr/local/lib/python3.11/dist-packages/numpy/lib/nanfunctions.py:1879: RuntimeWarning: Degrees of freedom <= 0 for slice.\n  var = nanvar(a, axis=axis, dtype=dtype, out=out, ddof=ddof,\n/tmp/ipykernel_60/294650540.py:24: RuntimeWarning: Mean of empty slice\n/usr/local/lib/python3.11/dist-packages/numpy/lib/nanfunctions.py:1879: RuntimeWarning: Degrees of freedom <= 0 for slice.\n  var = nanvar(a, axis=axis, dtype=dtype, out=out, ddof=ddof,\n"
          ]
        },
        {
          "output_type": "stream",
          "name": "stderr",
          "text": [
            "/tmp/ipykernel_60/294650540.py:24: RuntimeWarning: Mean of empty slice\n/usr/local/lib/python3.11/dist-packages/numpy/lib/nanfunctions.py:1879: RuntimeWarning: Degrees of freedom <= 0 for slice.\n  var = nanvar(a, axis=axis, dtype=dtype, out=out, ddof=ddof,\n/tmp/ipykernel_60/294650540.py:24: RuntimeWarning: Mean of empty slice\n/usr/local/lib/python3.11/dist-packages/numpy/lib/nanfunctions.py:1879: RuntimeWarning: Degrees of freedom <= 0 for slice.\n  var = nanvar(a, axis=axis, dtype=dtype, out=out, ddof=ddof,\n/tmp/ipykernel_60/294650540.py:24: RuntimeWarning: Mean of empty slice\n/usr/local/lib/python3.11/dist-packages/numpy/lib/nanfunctions.py:1879: RuntimeWarning: Degrees of freedom <= 0 for slice.\n  var = nanvar(a, axis=axis, dtype=dtype, out=out, ddof=ddof,\n/tmp/ipykernel_60/294650540.py:24: RuntimeWarning: Mean of empty slice\n/usr/local/lib/python3.11/dist-packages/numpy/lib/nanfunctions.py:1879: RuntimeWarning: Degrees of freedom <= 0 for slice.\n  var = nanvar(a, axis=axis, dtype=dtype, out=out, ddof=ddof,\n/tmp/ipykernel_60/294650540.py:24: RuntimeWarning: Mean of empty slice\n/usr/local/lib/python3.11/dist-packages/numpy/lib/nanfunctions.py:1879: RuntimeWarning: Degrees of freedom <= 0 for slice.\n  var = nanvar(a, axis=axis, dtype=dtype, out=out, ddof=ddof,\n/tmp/ipykernel_60/294650540.py:24: RuntimeWarning: Mean of empty slice\n/usr/local/lib/python3.11/dist-packages/numpy/lib/nanfunctions.py:1879: RuntimeWarning: Degrees of freedom <= 0 for slice.\n  var = nanvar(a, axis=axis, dtype=dtype, out=out, ddof=ddof,\n"
          ]
        },
        {
          "output_type": "stream",
          "name": "stderr",
          "text": [
            "/tmp/ipykernel_60/294650540.py:24: RuntimeWarning: Mean of empty slice\n/usr/local/lib/python3.11/dist-packages/numpy/lib/nanfunctions.py:1879: RuntimeWarning: Degrees of freedom <= 0 for slice.\n  var = nanvar(a, axis=axis, dtype=dtype, out=out, ddof=ddof,\n/tmp/ipykernel_60/294650540.py:24: RuntimeWarning: Mean of empty slice\n/usr/local/lib/python3.11/dist-packages/numpy/lib/nanfunctions.py:1879: RuntimeWarning: Degrees of freedom <= 0 for slice.\n  var = nanvar(a, axis=axis, dtype=dtype, out=out, ddof=ddof,\n/tmp/ipykernel_60/294650540.py:24: RuntimeWarning: Mean of empty slice\n/usr/local/lib/python3.11/dist-packages/numpy/lib/nanfunctions.py:1879: RuntimeWarning: Degrees of freedom <= 0 for slice.\n  var = nanvar(a, axis=axis, dtype=dtype, out=out, ddof=ddof,\n/tmp/ipykernel_60/294650540.py:24: RuntimeWarning: Mean of empty slice\n/usr/local/lib/python3.11/dist-packages/numpy/lib/nanfunctions.py:1879: RuntimeWarning: Degrees of freedom <= 0 for slice.\n  var = nanvar(a, axis=axis, dtype=dtype, out=out, ddof=ddof,\n/tmp/ipykernel_60/294650540.py:24: RuntimeWarning: Mean of empty slice\n/usr/local/lib/python3.11/dist-packages/numpy/lib/nanfunctions.py:1879: RuntimeWarning: Degrees of freedom <= 0 for slice.\n  var = nanvar(a, axis=axis, dtype=dtype, out=out, ddof=ddof,\n/tmp/ipykernel_60/294650540.py:24: RuntimeWarning: Mean of empty slice\n/usr/local/lib/python3.11/dist-packages/numpy/lib/nanfunctions.py:1879: RuntimeWarning: Degrees of freedom <= 0 for slice.\n  var = nanvar(a, axis=axis, dtype=dtype, out=out, ddof=ddof,\n/tmp/ipykernel_60/294650540.py:24: RuntimeWarning: Mean of empty slice\n/usr/local/lib/python3.11/dist-packages/numpy/lib/nanfunctions.py:1879: RuntimeWarning: Degrees of freedom <= 0 for slice.\n  var = nanvar(a, axis=axis, dtype=dtype, out=out, ddof=ddof,\n"
          ]
        },
        {
          "output_type": "stream",
          "name": "stderr",
          "text": [
            "/tmp/ipykernel_60/294650540.py:24: RuntimeWarning: Mean of empty slice\n/usr/local/lib/python3.11/dist-packages/numpy/lib/nanfunctions.py:1879: RuntimeWarning: Degrees of freedom <= 0 for slice.\n  var = nanvar(a, axis=axis, dtype=dtype, out=out, ddof=ddof,\n/tmp/ipykernel_60/294650540.py:24: RuntimeWarning: Mean of empty slice\n/usr/local/lib/python3.11/dist-packages/numpy/lib/nanfunctions.py:1879: RuntimeWarning: Degrees of freedom <= 0 for slice.\n  var = nanvar(a, axis=axis, dtype=dtype, out=out, ddof=ddof,\n/tmp/ipykernel_60/294650540.py:24: RuntimeWarning: Mean of empty slice\n/usr/local/lib/python3.11/dist-packages/numpy/lib/nanfunctions.py:1879: RuntimeWarning: Degrees of freedom <= 0 for slice.\n  var = nanvar(a, axis=axis, dtype=dtype, out=out, ddof=ddof,\n/tmp/ipykernel_60/294650540.py:24: RuntimeWarning: Mean of empty slice\n/usr/local/lib/python3.11/dist-packages/numpy/lib/nanfunctions.py:1879: RuntimeWarning: Degrees of freedom <= 0 for slice.\n  var = nanvar(a, axis=axis, dtype=dtype, out=out, ddof=ddof,\n/tmp/ipykernel_60/294650540.py:24: RuntimeWarning: Mean of empty slice\n/usr/local/lib/python3.11/dist-packages/numpy/lib/nanfunctions.py:1879: RuntimeWarning: Degrees of freedom <= 0 for slice.\n  var = nanvar(a, axis=axis, dtype=dtype, out=out, ddof=ddof,\n/tmp/ipykernel_60/294650540.py:24: RuntimeWarning: Mean of empty slice\n/usr/local/lib/python3.11/dist-packages/numpy/lib/nanfunctions.py:1879: RuntimeWarning: Degrees of freedom <= 0 for slice.\n  var = nanvar(a, axis=axis, dtype=dtype, out=out, ddof=ddof,\n/tmp/ipykernel_60/294650540.py:24: RuntimeWarning: Mean of empty slice\n/usr/local/lib/python3.11/dist-packages/numpy/lib/nanfunctions.py:1879: RuntimeWarning: Degrees of freedom <= 0 for slice.\n  var = nanvar(a, axis=axis, dtype=dtype, out=out, ddof=ddof,\n/tmp/ipykernel_60/294650540.py:24: RuntimeWarning: Mean of empty slice\n/usr/local/lib/python3.11/dist-packages/numpy/lib/nanfunctions.py:1879: RuntimeWarning: Degrees of freedom <= 0 for slice.\n  var = nanvar(a, axis=axis, dtype=dtype, out=out, ddof=ddof,\n/tmp/ipykernel_60/294650540.py:24: RuntimeWarning: Mean of empty slice\n/usr/local/lib/python3.11/dist-packages/numpy/lib/nanfunctions.py:1879: RuntimeWarning: Degrees of freedom <= 0 for slice.\n  var = nanvar(a, axis=axis, dtype=dtype, out=out, ddof=ddof,\n/tmp/ipykernel_60/294650540.py:24: RuntimeWarning: Mean of empty slice\n/usr/local/lib/python3.11/dist-packages/numpy/lib/nanfunctions.py:1879: RuntimeWarning: Degrees of freedom <= 0 for slice.\n  var = nanvar(a, axis=axis, dtype=dtype, out=out, ddof=ddof,\n"
          ]
        },
        {
          "output_type": "stream",
          "name": "stderr",
          "text": [
            "/tmp/ipykernel_60/294650540.py:24: RuntimeWarning: Mean of empty slice\n/usr/local/lib/python3.11/dist-packages/numpy/lib/nanfunctions.py:1879: RuntimeWarning: Degrees of freedom <= 0 for slice.\n  var = nanvar(a, axis=axis, dtype=dtype, out=out, ddof=ddof,\n/tmp/ipykernel_60/294650540.py:24: RuntimeWarning: Mean of empty slice\n/usr/local/lib/python3.11/dist-packages/numpy/lib/nanfunctions.py:1879: RuntimeWarning: Degrees of freedom <= 0 for slice.\n  var = nanvar(a, axis=axis, dtype=dtype, out=out, ddof=ddof,\n/tmp/ipykernel_60/294650540.py:24: RuntimeWarning: Mean of empty slice\n/usr/local/lib/python3.11/dist-packages/numpy/lib/nanfunctions.py:1879: RuntimeWarning: Degrees of freedom <= 0 for slice.\n  var = nanvar(a, axis=axis, dtype=dtype, out=out, ddof=ddof,\n/tmp/ipykernel_60/294650540.py:24: RuntimeWarning: Mean of empty slice\n/usr/local/lib/python3.11/dist-packages/numpy/lib/nanfunctions.py:1879: RuntimeWarning: Degrees of freedom <= 0 for slice.\n  var = nanvar(a, axis=axis, dtype=dtype, out=out, ddof=ddof,\n/tmp/ipykernel_60/294650540.py:24: RuntimeWarning: Mean of empty slice\n/usr/local/lib/python3.11/dist-packages/numpy/lib/nanfunctions.py:1879: RuntimeWarning: Degrees of freedom <= 0 for slice.\n  var = nanvar(a, axis=axis, dtype=dtype, out=out, ddof=ddof,\n/tmp/ipykernel_60/294650540.py:24: RuntimeWarning: Mean of empty slice\n/usr/local/lib/python3.11/dist-packages/numpy/lib/nanfunctions.py:1879: RuntimeWarning: Degrees of freedom <= 0 for slice.\n  var = nanvar(a, axis=axis, dtype=dtype, out=out, ddof=ddof,\n/tmp/ipykernel_60/294650540.py:24: RuntimeWarning: Mean of empty slice\n/usr/local/lib/python3.11/dist-packages/numpy/lib/nanfunctions.py:1879: RuntimeWarning: Degrees of freedom <= 0 for slice.\n  var = nanvar(a, axis=axis, dtype=dtype, out=out, ddof=ddof,\n/tmp/ipykernel_60/294650540.py:24: RuntimeWarning: Mean of empty slice\n/usr/local/lib/python3.11/dist-packages/numpy/lib/nanfunctions.py:1879: RuntimeWarning: Degrees of freedom <= 0 for slice.\n  var = nanvar(a, axis=axis, dtype=dtype, out=out, ddof=ddof,\n/tmp/ipykernel_60/294650540.py:24: RuntimeWarning: Mean of empty slice\n/usr/local/lib/python3.11/dist-packages/numpy/lib/nanfunctions.py:1879: RuntimeWarning: Degrees of freedom <= 0 for slice.\n  var = nanvar(a, axis=axis, dtype=dtype, out=out, ddof=ddof,\n"
          ]
        },
        {
          "output_type": "stream",
          "name": "stderr",
          "text": [
            "/tmp/ipykernel_60/294650540.py:24: RuntimeWarning: Mean of empty slice\n/usr/local/lib/python3.11/dist-packages/numpy/lib/nanfunctions.py:1879: RuntimeWarning: Degrees of freedom <= 0 for slice.\n  var = nanvar(a, axis=axis, dtype=dtype, out=out, ddof=ddof,\n/tmp/ipykernel_60/294650540.py:24: RuntimeWarning: Mean of empty slice\n/usr/local/lib/python3.11/dist-packages/numpy/lib/nanfunctions.py:1879: RuntimeWarning: Degrees of freedom <= 0 for slice.\n  var = nanvar(a, axis=axis, dtype=dtype, out=out, ddof=ddof,\n/tmp/ipykernel_60/294650540.py:24: RuntimeWarning: Mean of empty slice\n/usr/local/lib/python3.11/dist-packages/numpy/lib/nanfunctions.py:1879: RuntimeWarning: Degrees of freedom <= 0 for slice.\n  var = nanvar(a, axis=axis, dtype=dtype, out=out, ddof=ddof,\n/tmp/ipykernel_60/294650540.py:24: RuntimeWarning: Mean of empty slice\n/usr/local/lib/python3.11/dist-packages/numpy/lib/nanfunctions.py:1879: RuntimeWarning: Degrees of freedom <= 0 for slice.\n  var = nanvar(a, axis=axis, dtype=dtype, out=out, ddof=ddof,\n/tmp/ipykernel_60/294650540.py:24: RuntimeWarning: Mean of empty slice\n/usr/local/lib/python3.11/dist-packages/numpy/lib/nanfunctions.py:1879: RuntimeWarning: Degrees of freedom <= 0 for slice.\n  var = nanvar(a, axis=axis, dtype=dtype, out=out, ddof=ddof,\n/tmp/ipykernel_60/294650540.py:24: RuntimeWarning: Mean of empty slice\n/usr/local/lib/python3.11/dist-packages/numpy/lib/nanfunctions.py:1879: RuntimeWarning: Degrees of freedom <= 0 for slice.\n  var = nanvar(a, axis=axis, dtype=dtype, out=out, ddof=ddof,\n"
          ]
        },
        {
          "output_type": "stream",
          "name": "stderr",
          "text": [
            "/tmp/ipykernel_60/294650540.py:24: RuntimeWarning: Mean of empty slice\n/usr/local/lib/python3.11/dist-packages/numpy/lib/nanfunctions.py:1879: RuntimeWarning: Degrees of freedom <= 0 for slice.\n  var = nanvar(a, axis=axis, dtype=dtype, out=out, ddof=ddof,\n/tmp/ipykernel_60/294650540.py:24: RuntimeWarning: Mean of empty slice\n/usr/local/lib/python3.11/dist-packages/numpy/lib/nanfunctions.py:1879: RuntimeWarning: Degrees of freedom <= 0 for slice.\n  var = nanvar(a, axis=axis, dtype=dtype, out=out, ddof=ddof,\n/tmp/ipykernel_60/294650540.py:24: RuntimeWarning: Mean of empty slice\n/usr/local/lib/python3.11/dist-packages/numpy/lib/nanfunctions.py:1879: RuntimeWarning: Degrees of freedom <= 0 for slice.\n  var = nanvar(a, axis=axis, dtype=dtype, out=out, ddof=ddof,\n/tmp/ipykernel_60/294650540.py:24: RuntimeWarning: Mean of empty slice\n/usr/local/lib/python3.11/dist-packages/numpy/lib/nanfunctions.py:1879: RuntimeWarning: Degrees of freedom <= 0 for slice.\n  var = nanvar(a, axis=axis, dtype=dtype, out=out, ddof=ddof,\n/tmp/ipykernel_60/294650540.py:24: RuntimeWarning: Mean of empty slice\n/usr/local/lib/python3.11/dist-packages/numpy/lib/nanfunctions.py:1879: RuntimeWarning: Degrees of freedom <= 0 for slice.\n  var = nanvar(a, axis=axis, dtype=dtype, out=out, ddof=ddof,\n/tmp/ipykernel_60/294650540.py:24: RuntimeWarning: Mean of empty slice\n/usr/local/lib/python3.11/dist-packages/numpy/lib/nanfunctions.py:1879: RuntimeWarning: Degrees of freedom <= 0 for slice.\n  var = nanvar(a, axis=axis, dtype=dtype, out=out, ddof=ddof,\n"
          ]
        },
        {
          "output_type": "stream",
          "name": "stderr",
          "text": [
            "/tmp/ipykernel_60/294650540.py:24: RuntimeWarning: Mean of empty slice\n/usr/local/lib/python3.11/dist-packages/numpy/lib/nanfunctions.py:1879: RuntimeWarning: Degrees of freedom <= 0 for slice.\n  var = nanvar(a, axis=axis, dtype=dtype, out=out, ddof=ddof,\n/tmp/ipykernel_60/294650540.py:24: RuntimeWarning: Mean of empty slice\n/usr/local/lib/python3.11/dist-packages/numpy/lib/nanfunctions.py:1879: RuntimeWarning: Degrees of freedom <= 0 for slice.\n  var = nanvar(a, axis=axis, dtype=dtype, out=out, ddof=ddof,\n/tmp/ipykernel_60/294650540.py:24: RuntimeWarning: Mean of empty slice\n/usr/local/lib/python3.11/dist-packages/numpy/lib/nanfunctions.py:1879: RuntimeWarning: Degrees of freedom <= 0 for slice.\n  var = nanvar(a, axis=axis, dtype=dtype, out=out, ddof=ddof,\n/tmp/ipykernel_60/294650540.py:24: RuntimeWarning: Mean of empty slice\n/usr/local/lib/python3.11/dist-packages/numpy/lib/nanfunctions.py:1879: RuntimeWarning: Degrees of freedom <= 0 for slice.\n  var = nanvar(a, axis=axis, dtype=dtype, out=out, ddof=ddof,\n/tmp/ipykernel_60/294650540.py:24: RuntimeWarning: Mean of empty slice\n/usr/local/lib/python3.11/dist-packages/numpy/lib/nanfunctions.py:1879: RuntimeWarning: Degrees of freedom <= 0 for slice.\n  var = nanvar(a, axis=axis, dtype=dtype, out=out, ddof=ddof,\n/tmp/ipykernel_60/294650540.py:24: RuntimeWarning: Mean of empty slice\n/usr/local/lib/python3.11/dist-packages/numpy/lib/nanfunctions.py:1879: RuntimeWarning: Degrees of freedom <= 0 for slice.\n  var = nanvar(a, axis=axis, dtype=dtype, out=out, ddof=ddof,\n/tmp/ipykernel_60/294650540.py:24: RuntimeWarning: Mean of empty slice\n/usr/local/lib/python3.11/dist-packages/numpy/lib/nanfunctions.py:1879: RuntimeWarning: Degrees of freedom <= 0 for slice.\n  var = nanvar(a, axis=axis, dtype=dtype, out=out, ddof=ddof,\n/tmp/ipykernel_60/294650540.py:24: RuntimeWarning: Mean of empty slice\n/usr/local/lib/python3.11/dist-packages/numpy/lib/nanfunctions.py:1879: RuntimeWarning: Degrees of freedom <= 0 for slice.\n  var = nanvar(a, axis=axis, dtype=dtype, out=out, ddof=ddof,\n/tmp/ipykernel_60/294650540.py:24: RuntimeWarning: Mean of empty slice\n/usr/local/lib/python3.11/dist-packages/numpy/lib/nanfunctions.py:1879: RuntimeWarning: Degrees of freedom <= 0 for slice.\n  var = nanvar(a, axis=axis, dtype=dtype, out=out, ddof=ddof,\n/tmp/ipykernel_60/294650540.py:24: RuntimeWarning: Mean of empty slice\n/usr/local/lib/python3.11/dist-packages/numpy/lib/nanfunctions.py:1879: RuntimeWarning: Degrees of freedom <= 0 for slice.\n  var = nanvar(a, axis=axis, dtype=dtype, out=out, ddof=ddof,\n/tmp/ipykernel_60/294650540.py:24: RuntimeWarning: Mean of empty slice\n/usr/local/lib/python3.11/dist-packages/numpy/lib/nanfunctions.py:1879: RuntimeWarning: Degrees of freedom <= 0 for slice.\n  var = nanvar(a, axis=axis, dtype=dtype, out=out, ddof=ddof,\n"
          ]
        },
        {
          "output_type": "stream",
          "name": "stderr",
          "text": [
            "/tmp/ipykernel_60/294650540.py:24: RuntimeWarning: Mean of empty slice\n/usr/local/lib/python3.11/dist-packages/numpy/lib/nanfunctions.py:1879: RuntimeWarning: Degrees of freedom <= 0 for slice.\n  var = nanvar(a, axis=axis, dtype=dtype, out=out, ddof=ddof,\n/tmp/ipykernel_60/294650540.py:24: RuntimeWarning: Mean of empty slice\n/usr/local/lib/python3.11/dist-packages/numpy/lib/nanfunctions.py:1879: RuntimeWarning: Degrees of freedom <= 0 for slice.\n  var = nanvar(a, axis=axis, dtype=dtype, out=out, ddof=ddof,\n/tmp/ipykernel_60/294650540.py:24: RuntimeWarning: Mean of empty slice\n/usr/local/lib/python3.11/dist-packages/numpy/lib/nanfunctions.py:1879: RuntimeWarning: Degrees of freedom <= 0 for slice.\n  var = nanvar(a, axis=axis, dtype=dtype, out=out, ddof=ddof,\n/tmp/ipykernel_60/294650540.py:24: RuntimeWarning: Mean of empty slice\n/usr/local/lib/python3.11/dist-packages/numpy/lib/nanfunctions.py:1879: RuntimeWarning: Degrees of freedom <= 0 for slice.\n  var = nanvar(a, axis=axis, dtype=dtype, out=out, ddof=ddof,\n/tmp/ipykernel_60/294650540.py:24: RuntimeWarning: Mean of empty slice\n/usr/local/lib/python3.11/dist-packages/numpy/lib/nanfunctions.py:1879: RuntimeWarning: Degrees of freedom <= 0 for slice.\n  var = nanvar(a, axis=axis, dtype=dtype, out=out, ddof=ddof,\n/tmp/ipykernel_60/294650540.py:24: RuntimeWarning: Mean of empty slice\n/usr/local/lib/python3.11/dist-packages/numpy/lib/nanfunctions.py:1879: RuntimeWarning: Degrees of freedom <= 0 for slice.\n  var = nanvar(a, axis=axis, dtype=dtype, out=out, ddof=ddof,\n/tmp/ipykernel_60/294650540.py:24: RuntimeWarning: Mean of empty slice\n/usr/local/lib/python3.11/dist-packages/numpy/lib/nanfunctions.py:1879: RuntimeWarning: Degrees of freedom <= 0 for slice.\n  var = nanvar(a, axis=axis, dtype=dtype, out=out, ddof=ddof,\n/tmp/ipykernel_60/294650540.py:24: RuntimeWarning: Mean of empty slice\n/usr/local/lib/python3.11/dist-packages/numpy/lib/nanfunctions.py:1879: RuntimeWarning: Degrees of freedom <= 0 for slice.\n  var = nanvar(a, axis=axis, dtype=dtype, out=out, ddof=ddof,\n/tmp/ipykernel_60/294650540.py:24: RuntimeWarning: Mean of empty slice\n/usr/local/lib/python3.11/dist-packages/numpy/lib/nanfunctions.py:1879: RuntimeWarning: Degrees of freedom <= 0 for slice.\n  var = nanvar(a, axis=axis, dtype=dtype, out=out, ddof=ddof,\n"
          ]
        },
        {
          "output_type": "stream",
          "name": "stderr",
          "text": [
            "/tmp/ipykernel_60/294650540.py:24: RuntimeWarning: Mean of empty slice\n/usr/local/lib/python3.11/dist-packages/numpy/lib/nanfunctions.py:1879: RuntimeWarning: Degrees of freedom <= 0 for slice.\n  var = nanvar(a, axis=axis, dtype=dtype, out=out, ddof=ddof,\n/tmp/ipykernel_60/294650540.py:24: RuntimeWarning: Mean of empty slice\n/usr/local/lib/python3.11/dist-packages/numpy/lib/nanfunctions.py:1879: RuntimeWarning: Degrees of freedom <= 0 for slice.\n  var = nanvar(a, axis=axis, dtype=dtype, out=out, ddof=ddof,\n/tmp/ipykernel_60/294650540.py:24: RuntimeWarning: Mean of empty slice\n/usr/local/lib/python3.11/dist-packages/numpy/lib/nanfunctions.py:1879: RuntimeWarning: Degrees of freedom <= 0 for slice.\n  var = nanvar(a, axis=axis, dtype=dtype, out=out, ddof=ddof,\n/tmp/ipykernel_60/294650540.py:24: RuntimeWarning: Mean of empty slice\n/usr/local/lib/python3.11/dist-packages/numpy/lib/nanfunctions.py:1879: RuntimeWarning: Degrees of freedom <= 0 for slice.\n  var = nanvar(a, axis=axis, dtype=dtype, out=out, ddof=ddof,\n/tmp/ipykernel_60/294650540.py:24: RuntimeWarning: Mean of empty slice\n/usr/local/lib/python3.11/dist-packages/numpy/lib/nanfunctions.py:1879: RuntimeWarning: Degrees of freedom <= 0 for slice.\n  var = nanvar(a, axis=axis, dtype=dtype, out=out, ddof=ddof,\n/tmp/ipykernel_60/294650540.py:24: RuntimeWarning: Mean of empty slice\n/usr/local/lib/python3.11/dist-packages/numpy/lib/nanfunctions.py:1879: RuntimeWarning: Degrees of freedom <= 0 for slice.\n  var = nanvar(a, axis=axis, dtype=dtype, out=out, ddof=ddof,\n/tmp/ipykernel_60/294650540.py:24: RuntimeWarning: Mean of empty slice\n/usr/local/lib/python3.11/dist-packages/numpy/lib/nanfunctions.py:1879: RuntimeWarning: Degrees of freedom <= 0 for slice.\n  var = nanvar(a, axis=axis, dtype=dtype, out=out, ddof=ddof,\n/tmp/ipykernel_60/294650540.py:24: RuntimeWarning: Mean of empty slice\n/usr/local/lib/python3.11/dist-packages/numpy/lib/nanfunctions.py:1879: RuntimeWarning: Degrees of freedom <= 0 for slice.\n  var = nanvar(a, axis=axis, dtype=dtype, out=out, ddof=ddof,\n/tmp/ipykernel_60/294650540.py:24: RuntimeWarning: Mean of empty slice\n/usr/local/lib/python3.11/dist-packages/numpy/lib/nanfunctions.py:1879: RuntimeWarning: Degrees of freedom <= 0 for slice.\n  var = nanvar(a, axis=axis, dtype=dtype, out=out, ddof=ddof,\n"
          ]
        },
        {
          "output_type": "stream",
          "name": "stderr",
          "text": [
            "/tmp/ipykernel_60/294650540.py:24: RuntimeWarning: Mean of empty slice\n/usr/local/lib/python3.11/dist-packages/numpy/lib/nanfunctions.py:1879: RuntimeWarning: Degrees of freedom <= 0 for slice.\n  var = nanvar(a, axis=axis, dtype=dtype, out=out, ddof=ddof,\n/tmp/ipykernel_60/294650540.py:24: RuntimeWarning: Mean of empty slice\n/usr/local/lib/python3.11/dist-packages/numpy/lib/nanfunctions.py:1879: RuntimeWarning: Degrees of freedom <= 0 for slice.\n  var = nanvar(a, axis=axis, dtype=dtype, out=out, ddof=ddof,\n/tmp/ipykernel_60/294650540.py:24: RuntimeWarning: Mean of empty slice\n/usr/local/lib/python3.11/dist-packages/numpy/lib/nanfunctions.py:1879: RuntimeWarning: Degrees of freedom <= 0 for slice.\n  var = nanvar(a, axis=axis, dtype=dtype, out=out, ddof=ddof,\n/tmp/ipykernel_60/294650540.py:24: RuntimeWarning: Mean of empty slice\n/usr/local/lib/python3.11/dist-packages/numpy/lib/nanfunctions.py:1879: RuntimeWarning: Degrees of freedom <= 0 for slice.\n  var = nanvar(a, axis=axis, dtype=dtype, out=out, ddof=ddof,\n/tmp/ipykernel_60/294650540.py:24: RuntimeWarning: Mean of empty slice\n/usr/local/lib/python3.11/dist-packages/numpy/lib/nanfunctions.py:1879: RuntimeWarning: Degrees of freedom <= 0 for slice.\n  var = nanvar(a, axis=axis, dtype=dtype, out=out, ddof=ddof,\n/tmp/ipykernel_60/294650540.py:24: RuntimeWarning: Mean of empty slice\n/usr/local/lib/python3.11/dist-packages/numpy/lib/nanfunctions.py:1879: RuntimeWarning: Degrees of freedom <= 0 for slice.\n  var = nanvar(a, axis=axis, dtype=dtype, out=out, ddof=ddof,\n"
          ]
        },
        {
          "output_type": "stream",
          "name": "stderr",
          "text": [
            "/tmp/ipykernel_60/294650540.py:24: RuntimeWarning: Mean of empty slice\n/usr/local/lib/python3.11/dist-packages/numpy/lib/nanfunctions.py:1879: RuntimeWarning: Degrees of freedom <= 0 for slice.\n  var = nanvar(a, axis=axis, dtype=dtype, out=out, ddof=ddof,\n/tmp/ipykernel_60/294650540.py:24: RuntimeWarning: Mean of empty slice\n/usr/local/lib/python3.11/dist-packages/numpy/lib/nanfunctions.py:1879: RuntimeWarning: Degrees of freedom <= 0 for slice.\n  var = nanvar(a, axis=axis, dtype=dtype, out=out, ddof=ddof,\n/tmp/ipykernel_60/294650540.py:24: RuntimeWarning: Mean of empty slice\n/usr/local/lib/python3.11/dist-packages/numpy/lib/nanfunctions.py:1879: RuntimeWarning: Degrees of freedom <= 0 for slice.\n  var = nanvar(a, axis=axis, dtype=dtype, out=out, ddof=ddof,\n/tmp/ipykernel_60/294650540.py:24: RuntimeWarning: Mean of empty slice\n/usr/local/lib/python3.11/dist-packages/numpy/lib/nanfunctions.py:1879: RuntimeWarning: Degrees of freedom <= 0 for slice.\n  var = nanvar(a, axis=axis, dtype=dtype, out=out, ddof=ddof,\n"
          ]
        },
        {
          "output_type": "stream",
          "name": "stderr",
          "text": [
            "/tmp/ipykernel_60/294650540.py:24: RuntimeWarning: Mean of empty slice\n/usr/local/lib/python3.11/dist-packages/numpy/lib/nanfunctions.py:1879: RuntimeWarning: Degrees of freedom <= 0 for slice.\n  var = nanvar(a, axis=axis, dtype=dtype, out=out, ddof=ddof,\n/tmp/ipykernel_60/294650540.py:24: RuntimeWarning: Mean of empty slice\n/usr/local/lib/python3.11/dist-packages/numpy/lib/nanfunctions.py:1879: RuntimeWarning: Degrees of freedom <= 0 for slice.\n  var = nanvar(a, axis=axis, dtype=dtype, out=out, ddof=ddof,\n/tmp/ipykernel_60/294650540.py:24: RuntimeWarning: Mean of empty slice\n/usr/local/lib/python3.11/dist-packages/numpy/lib/nanfunctions.py:1879: RuntimeWarning: Degrees of freedom <= 0 for slice.\n  var = nanvar(a, axis=axis, dtype=dtype, out=out, ddof=ddof,\n/tmp/ipykernel_60/294650540.py:24: RuntimeWarning: Mean of empty slice\n/usr/local/lib/python3.11/dist-packages/numpy/lib/nanfunctions.py:1879: RuntimeWarning: Degrees of freedom <= 0 for slice.\n  var = nanvar(a, axis=axis, dtype=dtype, out=out, ddof=ddof,\n/tmp/ipykernel_60/294650540.py:24: RuntimeWarning: Mean of empty slice\n/usr/local/lib/python3.11/dist-packages/numpy/lib/nanfunctions.py:1879: RuntimeWarning: Degrees of freedom <= 0 for slice.\n  var = nanvar(a, axis=axis, dtype=dtype, out=out, ddof=ddof,\n/tmp/ipykernel_60/294650540.py:24: RuntimeWarning: Mean of empty slice\n/usr/local/lib/python3.11/dist-packages/numpy/lib/nanfunctions.py:1879: RuntimeWarning: Degrees of freedom <= 0 for slice.\n  var = nanvar(a, axis=axis, dtype=dtype, out=out, ddof=ddof,\n/tmp/ipykernel_60/294650540.py:24: RuntimeWarning: Mean of empty slice\n/usr/local/lib/python3.11/dist-packages/numpy/lib/nanfunctions.py:1879: RuntimeWarning: Degrees of freedom <= 0 for slice.\n  var = nanvar(a, axis=axis, dtype=dtype, out=out, ddof=ddof,\n/tmp/ipykernel_60/294650540.py:24: RuntimeWarning: Mean of empty slice\n/usr/local/lib/python3.11/dist-packages/numpy/lib/nanfunctions.py:1879: RuntimeWarning: Degrees of freedom <= 0 for slice.\n  var = nanvar(a, axis=axis, dtype=dtype, out=out, ddof=ddof,\n"
          ]
        },
        {
          "output_type": "stream",
          "name": "stderr",
          "text": [
            "/tmp/ipykernel_60/294650540.py:24: RuntimeWarning: Mean of empty slice\n/usr/local/lib/python3.11/dist-packages/numpy/lib/nanfunctions.py:1879: RuntimeWarning: Degrees of freedom <= 0 for slice.\n  var = nanvar(a, axis=axis, dtype=dtype, out=out, ddof=ddof,\n/tmp/ipykernel_60/294650540.py:24: RuntimeWarning: Mean of empty slice\n/usr/local/lib/python3.11/dist-packages/numpy/lib/nanfunctions.py:1879: RuntimeWarning: Degrees of freedom <= 0 for slice.\n  var = nanvar(a, axis=axis, dtype=dtype, out=out, ddof=ddof,\n/tmp/ipykernel_60/294650540.py:24: RuntimeWarning: Mean of empty slice\n/usr/local/lib/python3.11/dist-packages/numpy/lib/nanfunctions.py:1879: RuntimeWarning: Degrees of freedom <= 0 for slice.\n  var = nanvar(a, axis=axis, dtype=dtype, out=out, ddof=ddof,\n/tmp/ipykernel_60/294650540.py:24: RuntimeWarning: Mean of empty slice\n/usr/local/lib/python3.11/dist-packages/numpy/lib/nanfunctions.py:1879: RuntimeWarning: Degrees of freedom <= 0 for slice.\n  var = nanvar(a, axis=axis, dtype=dtype, out=out, ddof=ddof,\n/tmp/ipykernel_60/294650540.py:24: RuntimeWarning: Mean of empty slice\n/usr/local/lib/python3.11/dist-packages/numpy/lib/nanfunctions.py:1879: RuntimeWarning: Degrees of freedom <= 0 for slice.\n  var = nanvar(a, axis=axis, dtype=dtype, out=out, ddof=ddof,\n/tmp/ipykernel_60/294650540.py:24: RuntimeWarning: Mean of empty slice\n/usr/local/lib/python3.11/dist-packages/numpy/lib/nanfunctions.py:1879: RuntimeWarning: Degrees of freedom <= 0 for slice.\n  var = nanvar(a, axis=axis, dtype=dtype, out=out, ddof=ddof,\n/tmp/ipykernel_60/294650540.py:24: RuntimeWarning: Mean of empty slice\n/usr/local/lib/python3.11/dist-packages/numpy/lib/nanfunctions.py:1879: RuntimeWarning: Degrees of freedom <= 0 for slice.\n  var = nanvar(a, axis=axis, dtype=dtype, out=out, ddof=ddof,\n"
          ]
        },
        {
          "output_type": "stream",
          "name": "stderr",
          "text": [
            "/tmp/ipykernel_60/294650540.py:24: RuntimeWarning: Mean of empty slice\n/usr/local/lib/python3.11/dist-packages/numpy/lib/nanfunctions.py:1879: RuntimeWarning: Degrees of freedom <= 0 for slice.\n  var = nanvar(a, axis=axis, dtype=dtype, out=out, ddof=ddof,\n/tmp/ipykernel_60/294650540.py:24: RuntimeWarning: Mean of empty slice\n/usr/local/lib/python3.11/dist-packages/numpy/lib/nanfunctions.py:1879: RuntimeWarning: Degrees of freedom <= 0 for slice.\n  var = nanvar(a, axis=axis, dtype=dtype, out=out, ddof=ddof,\n/tmp/ipykernel_60/294650540.py:24: RuntimeWarning: Mean of empty slice\n/usr/local/lib/python3.11/dist-packages/numpy/lib/nanfunctions.py:1879: RuntimeWarning: Degrees of freedom <= 0 for slice.\n  var = nanvar(a, axis=axis, dtype=dtype, out=out, ddof=ddof,\n/tmp/ipykernel_60/294650540.py:24: RuntimeWarning: Mean of empty slice\n/usr/local/lib/python3.11/dist-packages/numpy/lib/nanfunctions.py:1879: RuntimeWarning: Degrees of freedom <= 0 for slice.\n  var = nanvar(a, axis=axis, dtype=dtype, out=out, ddof=ddof,\n/tmp/ipykernel_60/294650540.py:24: RuntimeWarning: Mean of empty slice\n/usr/local/lib/python3.11/dist-packages/numpy/lib/nanfunctions.py:1879: RuntimeWarning: Degrees of freedom <= 0 for slice.\n  var = nanvar(a, axis=axis, dtype=dtype, out=out, ddof=ddof,\n/tmp/ipykernel_60/294650540.py:24: RuntimeWarning: Mean of empty slice\n/usr/local/lib/python3.11/dist-packages/numpy/lib/nanfunctions.py:1879: RuntimeWarning: Degrees of freedom <= 0 for slice.\n  var = nanvar(a, axis=axis, dtype=dtype, out=out, ddof=ddof,\n/tmp/ipykernel_60/294650540.py:24: RuntimeWarning: Mean of empty slice\n/usr/local/lib/python3.11/dist-packages/numpy/lib/nanfunctions.py:1879: RuntimeWarning: Degrees of freedom <= 0 for slice.\n  var = nanvar(a, axis=axis, dtype=dtype, out=out, ddof=ddof,\n"
          ]
        },
        {
          "output_type": "stream",
          "name": "stderr",
          "text": [
            "/tmp/ipykernel_60/294650540.py:24: RuntimeWarning: Mean of empty slice\n/usr/local/lib/python3.11/dist-packages/numpy/lib/nanfunctions.py:1879: RuntimeWarning: Degrees of freedom <= 0 for slice.\n  var = nanvar(a, axis=axis, dtype=dtype, out=out, ddof=ddof,\n/tmp/ipykernel_60/294650540.py:24: RuntimeWarning: Mean of empty slice\n/usr/local/lib/python3.11/dist-packages/numpy/lib/nanfunctions.py:1879: RuntimeWarning: Degrees of freedom <= 0 for slice.\n  var = nanvar(a, axis=axis, dtype=dtype, out=out, ddof=ddof,\n/tmp/ipykernel_60/294650540.py:24: RuntimeWarning: Mean of empty slice\n/usr/local/lib/python3.11/dist-packages/numpy/lib/nanfunctions.py:1879: RuntimeWarning: Degrees of freedom <= 0 for slice.\n  var = nanvar(a, axis=axis, dtype=dtype, out=out, ddof=ddof,\n/tmp/ipykernel_60/294650540.py:24: RuntimeWarning: Mean of empty slice\n/usr/local/lib/python3.11/dist-packages/numpy/lib/nanfunctions.py:1879: RuntimeWarning: Degrees of freedom <= 0 for slice.\n  var = nanvar(a, axis=axis, dtype=dtype, out=out, ddof=ddof,\n/tmp/ipykernel_60/294650540.py:24: RuntimeWarning: Mean of empty slice\n/usr/local/lib/python3.11/dist-packages/numpy/lib/nanfunctions.py:1879: RuntimeWarning: Degrees of freedom <= 0 for slice.\n  var = nanvar(a, axis=axis, dtype=dtype, out=out, ddof=ddof,\n"
          ]
        },
        {
          "output_type": "stream",
          "name": "stderr",
          "text": [
            "/tmp/ipykernel_60/294650540.py:24: RuntimeWarning: Mean of empty slice\n/usr/local/lib/python3.11/dist-packages/numpy/lib/nanfunctions.py:1879: RuntimeWarning: Degrees of freedom <= 0 for slice.\n  var = nanvar(a, axis=axis, dtype=dtype, out=out, ddof=ddof,\n/tmp/ipykernel_60/294650540.py:24: RuntimeWarning: Mean of empty slice\n/usr/local/lib/python3.11/dist-packages/numpy/lib/nanfunctions.py:1879: RuntimeWarning: Degrees of freedom <= 0 for slice.\n  var = nanvar(a, axis=axis, dtype=dtype, out=out, ddof=ddof,\n/tmp/ipykernel_60/294650540.py:24: RuntimeWarning: Mean of empty slice\n/usr/local/lib/python3.11/dist-packages/numpy/lib/nanfunctions.py:1879: RuntimeWarning: Degrees of freedom <= 0 for slice.\n  var = nanvar(a, axis=axis, dtype=dtype, out=out, ddof=ddof,\n/tmp/ipykernel_60/294650540.py:24: RuntimeWarning: Mean of empty slice\n/usr/local/lib/python3.11/dist-packages/numpy/lib/nanfunctions.py:1879: RuntimeWarning: Degrees of freedom <= 0 for slice.\n  var = nanvar(a, axis=axis, dtype=dtype, out=out, ddof=ddof,\n/tmp/ipykernel_60/294650540.py:24: RuntimeWarning: Mean of empty slice\n/usr/local/lib/python3.11/dist-packages/numpy/lib/nanfunctions.py:1879: RuntimeWarning: Degrees of freedom <= 0 for slice.\n  var = nanvar(a, axis=axis, dtype=dtype, out=out, ddof=ddof,\n/tmp/ipykernel_60/294650540.py:24: RuntimeWarning: Mean of empty slice\n/usr/local/lib/python3.11/dist-packages/numpy/lib/nanfunctions.py:1879: RuntimeWarning: Degrees of freedom <= 0 for slice.\n  var = nanvar(a, axis=axis, dtype=dtype, out=out, ddof=ddof,\n"
          ]
        },
        {
          "output_type": "stream",
          "name": "stderr",
          "text": [
            "/tmp/ipykernel_60/294650540.py:24: RuntimeWarning: Mean of empty slice\n/usr/local/lib/python3.11/dist-packages/numpy/lib/nanfunctions.py:1879: RuntimeWarning: Degrees of freedom <= 0 for slice.\n  var = nanvar(a, axis=axis, dtype=dtype, out=out, ddof=ddof,\n/tmp/ipykernel_60/294650540.py:24: RuntimeWarning: Mean of empty slice\n/usr/local/lib/python3.11/dist-packages/numpy/lib/nanfunctions.py:1879: RuntimeWarning: Degrees of freedom <= 0 for slice.\n  var = nanvar(a, axis=axis, dtype=dtype, out=out, ddof=ddof,\n/tmp/ipykernel_60/294650540.py:24: RuntimeWarning: Mean of empty slice\n/usr/local/lib/python3.11/dist-packages/numpy/lib/nanfunctions.py:1879: RuntimeWarning: Degrees of freedom <= 0 for slice.\n  var = nanvar(a, axis=axis, dtype=dtype, out=out, ddof=ddof,\n/tmp/ipykernel_60/294650540.py:24: RuntimeWarning: Mean of empty slice\n/usr/local/lib/python3.11/dist-packages/numpy/lib/nanfunctions.py:1879: RuntimeWarning: Degrees of freedom <= 0 for slice.\n  var = nanvar(a, axis=axis, dtype=dtype, out=out, ddof=ddof,\n/tmp/ipykernel_60/294650540.py:24: RuntimeWarning: Mean of empty slice\n/usr/local/lib/python3.11/dist-packages/numpy/lib/nanfunctions.py:1879: RuntimeWarning: Degrees of freedom <= 0 for slice.\n  var = nanvar(a, axis=axis, dtype=dtype, out=out, ddof=ddof,\n/tmp/ipykernel_60/294650540.py:24: RuntimeWarning: Mean of empty slice\n/usr/local/lib/python3.11/dist-packages/numpy/lib/nanfunctions.py:1879: RuntimeWarning: Degrees of freedom <= 0 for slice.\n  var = nanvar(a, axis=axis, dtype=dtype, out=out, ddof=ddof,\n/tmp/ipykernel_60/294650540.py:24: RuntimeWarning: Mean of empty slice\n/usr/local/lib/python3.11/dist-packages/numpy/lib/nanfunctions.py:1879: RuntimeWarning: Degrees of freedom <= 0 for slice.\n  var = nanvar(a, axis=axis, dtype=dtype, out=out, ddof=ddof,\n"
          ]
        },
        {
          "output_type": "stream",
          "name": "stderr",
          "text": [
            "/tmp/ipykernel_60/294650540.py:24: RuntimeWarning: Mean of empty slice\n/usr/local/lib/python3.11/dist-packages/numpy/lib/nanfunctions.py:1879: RuntimeWarning: Degrees of freedom <= 0 for slice.\n  var = nanvar(a, axis=axis, dtype=dtype, out=out, ddof=ddof,\n/tmp/ipykernel_60/294650540.py:24: RuntimeWarning: Mean of empty slice\n/usr/local/lib/python3.11/dist-packages/numpy/lib/nanfunctions.py:1879: RuntimeWarning: Degrees of freedom <= 0 for slice.\n  var = nanvar(a, axis=axis, dtype=dtype, out=out, ddof=ddof,\n/tmp/ipykernel_60/294650540.py:24: RuntimeWarning: Mean of empty slice\n/usr/local/lib/python3.11/dist-packages/numpy/lib/nanfunctions.py:1879: RuntimeWarning: Degrees of freedom <= 0 for slice.\n  var = nanvar(a, axis=axis, dtype=dtype, out=out, ddof=ddof,\n/tmp/ipykernel_60/294650540.py:24: RuntimeWarning: Mean of empty slice\n/usr/local/lib/python3.11/dist-packages/numpy/lib/nanfunctions.py:1879: RuntimeWarning: Degrees of freedom <= 0 for slice.\n  var = nanvar(a, axis=axis, dtype=dtype, out=out, ddof=ddof,\n/tmp/ipykernel_60/294650540.py:24: RuntimeWarning: Mean of empty slice\n/usr/local/lib/python3.11/dist-packages/numpy/lib/nanfunctions.py:1879: RuntimeWarning: Degrees of freedom <= 0 for slice.\n  var = nanvar(a, axis=axis, dtype=dtype, out=out, ddof=ddof,\n/tmp/ipykernel_60/294650540.py:24: RuntimeWarning: Mean of empty slice\n/usr/local/lib/python3.11/dist-packages/numpy/lib/nanfunctions.py:1879: RuntimeWarning: Degrees of freedom <= 0 for slice.\n  var = nanvar(a, axis=axis, dtype=dtype, out=out, ddof=ddof,\n/tmp/ipykernel_60/294650540.py:24: RuntimeWarning: Mean of empty slice\n/usr/local/lib/python3.11/dist-packages/numpy/lib/nanfunctions.py:1879: RuntimeWarning: Degrees of freedom <= 0 for slice.\n  var = nanvar(a, axis=axis, dtype=dtype, out=out, ddof=ddof,\n"
          ]
        },
        {
          "output_type": "stream",
          "name": "stderr",
          "text": [
            "/tmp/ipykernel_60/294650540.py:24: RuntimeWarning: Mean of empty slice\n/usr/local/lib/python3.11/dist-packages/numpy/lib/nanfunctions.py:1879: RuntimeWarning: Degrees of freedom <= 0 for slice.\n  var = nanvar(a, axis=axis, dtype=dtype, out=out, ddof=ddof,\n/tmp/ipykernel_60/294650540.py:24: RuntimeWarning: Mean of empty slice\n/usr/local/lib/python3.11/dist-packages/numpy/lib/nanfunctions.py:1879: RuntimeWarning: Degrees of freedom <= 0 for slice.\n  var = nanvar(a, axis=axis, dtype=dtype, out=out, ddof=ddof,\n/tmp/ipykernel_60/294650540.py:24: RuntimeWarning: Mean of empty slice\n/usr/local/lib/python3.11/dist-packages/numpy/lib/nanfunctions.py:1879: RuntimeWarning: Degrees of freedom <= 0 for slice.\n  var = nanvar(a, axis=axis, dtype=dtype, out=out, ddof=ddof,\n/tmp/ipykernel_60/294650540.py:24: RuntimeWarning: Mean of empty slice\n/usr/local/lib/python3.11/dist-packages/numpy/lib/nanfunctions.py:1879: RuntimeWarning: Degrees of freedom <= 0 for slice.\n  var = nanvar(a, axis=axis, dtype=dtype, out=out, ddof=ddof,\n/tmp/ipykernel_60/294650540.py:24: RuntimeWarning: Mean of empty slice\n/usr/local/lib/python3.11/dist-packages/numpy/lib/nanfunctions.py:1879: RuntimeWarning: Degrees of freedom <= 0 for slice.\n  var = nanvar(a, axis=axis, dtype=dtype, out=out, ddof=ddof,\n/tmp/ipykernel_60/294650540.py:24: RuntimeWarning: Mean of empty slice\n/usr/local/lib/python3.11/dist-packages/numpy/lib/nanfunctions.py:1879: RuntimeWarning: Degrees of freedom <= 0 for slice.\n  var = nanvar(a, axis=axis, dtype=dtype, out=out, ddof=ddof,\n"
          ]
        },
        {
          "output_type": "stream",
          "name": "stderr",
          "text": [
            "/tmp/ipykernel_60/294650540.py:24: RuntimeWarning: Mean of empty slice\n/usr/local/lib/python3.11/dist-packages/numpy/lib/nanfunctions.py:1879: RuntimeWarning: Degrees of freedom <= 0 for slice.\n  var = nanvar(a, axis=axis, dtype=dtype, out=out, ddof=ddof,\n/tmp/ipykernel_60/294650540.py:24: RuntimeWarning: Mean of empty slice\n/usr/local/lib/python3.11/dist-packages/numpy/lib/nanfunctions.py:1879: RuntimeWarning: Degrees of freedom <= 0 for slice.\n  var = nanvar(a, axis=axis, dtype=dtype, out=out, ddof=ddof,\n/tmp/ipykernel_60/294650540.py:24: RuntimeWarning: Mean of empty slice\n/usr/local/lib/python3.11/dist-packages/numpy/lib/nanfunctions.py:1879: RuntimeWarning: Degrees of freedom <= 0 for slice.\n  var = nanvar(a, axis=axis, dtype=dtype, out=out, ddof=ddof,\n/tmp/ipykernel_60/294650540.py:24: RuntimeWarning: Mean of empty slice\n/usr/local/lib/python3.11/dist-packages/numpy/lib/nanfunctions.py:1879: RuntimeWarning: Degrees of freedom <= 0 for slice.\n  var = nanvar(a, axis=axis, dtype=dtype, out=out, ddof=ddof,\n"
          ]
        },
        {
          "output_type": "stream",
          "name": "stderr",
          "text": [
            "/tmp/ipykernel_60/294650540.py:24: RuntimeWarning: Mean of empty slice\n/usr/local/lib/python3.11/dist-packages/numpy/lib/nanfunctions.py:1879: RuntimeWarning: Degrees of freedom <= 0 for slice.\n  var = nanvar(a, axis=axis, dtype=dtype, out=out, ddof=ddof,\n/tmp/ipykernel_60/294650540.py:24: RuntimeWarning: Mean of empty slice\n/usr/local/lib/python3.11/dist-packages/numpy/lib/nanfunctions.py:1879: RuntimeWarning: Degrees of freedom <= 0 for slice.\n  var = nanvar(a, axis=axis, dtype=dtype, out=out, ddof=ddof,\n/tmp/ipykernel_60/294650540.py:24: RuntimeWarning: Mean of empty slice\n/usr/local/lib/python3.11/dist-packages/numpy/lib/nanfunctions.py:1879: RuntimeWarning: Degrees of freedom <= 0 for slice.\n  var = nanvar(a, axis=axis, dtype=dtype, out=out, ddof=ddof,\n/tmp/ipykernel_60/294650540.py:24: RuntimeWarning: Mean of empty slice\n/usr/local/lib/python3.11/dist-packages/numpy/lib/nanfunctions.py:1879: RuntimeWarning: Degrees of freedom <= 0 for slice.\n  var = nanvar(a, axis=axis, dtype=dtype, out=out, ddof=ddof,\n/tmp/ipykernel_60/294650540.py:24: RuntimeWarning: Mean of empty slice\n/usr/local/lib/python3.11/dist-packages/numpy/lib/nanfunctions.py:1879: RuntimeWarning: Degrees of freedom <= 0 for slice.\n  var = nanvar(a, axis=axis, dtype=dtype, out=out, ddof=ddof,\n/tmp/ipykernel_60/294650540.py:24: RuntimeWarning: Mean of empty slice\n/usr/local/lib/python3.11/dist-packages/numpy/lib/nanfunctions.py:1879: RuntimeWarning: Degrees of freedom <= 0 for slice.\n  var = nanvar(a, axis=axis, dtype=dtype, out=out, ddof=ddof,\n/tmp/ipykernel_60/294650540.py:24: RuntimeWarning: Mean of empty slice\n/usr/local/lib/python3.11/dist-packages/numpy/lib/nanfunctions.py:1879: RuntimeWarning: Degrees of freedom <= 0 for slice.\n  var = nanvar(a, axis=axis, dtype=dtype, out=out, ddof=ddof,\n"
          ]
        },
        {
          "output_type": "stream",
          "name": "stderr",
          "text": [
            "/tmp/ipykernel_60/294650540.py:24: RuntimeWarning: Mean of empty slice\n/usr/local/lib/python3.11/dist-packages/numpy/lib/nanfunctions.py:1879: RuntimeWarning: Degrees of freedom <= 0 for slice.\n  var = nanvar(a, axis=axis, dtype=dtype, out=out, ddof=ddof,\n/tmp/ipykernel_60/294650540.py:24: RuntimeWarning: Mean of empty slice\n/usr/local/lib/python3.11/dist-packages/numpy/lib/nanfunctions.py:1879: RuntimeWarning: Degrees of freedom <= 0 for slice.\n  var = nanvar(a, axis=axis, dtype=dtype, out=out, ddof=ddof,\n/tmp/ipykernel_60/294650540.py:24: RuntimeWarning: Mean of empty slice\n/usr/local/lib/python3.11/dist-packages/numpy/lib/nanfunctions.py:1879: RuntimeWarning: Degrees of freedom <= 0 for slice.\n  var = nanvar(a, axis=axis, dtype=dtype, out=out, ddof=ddof,\n"
          ]
        },
        {
          "output_type": "stream",
          "name": "stderr",
          "text": [
            "/tmp/ipykernel_60/294650540.py:24: RuntimeWarning: Mean of empty slice\n/usr/local/lib/python3.11/dist-packages/numpy/lib/nanfunctions.py:1879: RuntimeWarning: Degrees of freedom <= 0 for slice.\n  var = nanvar(a, axis=axis, dtype=dtype, out=out, ddof=ddof,\n/tmp/ipykernel_60/294650540.py:24: RuntimeWarning: Mean of empty slice\n/usr/local/lib/python3.11/dist-packages/numpy/lib/nanfunctions.py:1879: RuntimeWarning: Degrees of freedom <= 0 for slice.\n  var = nanvar(a, axis=axis, dtype=dtype, out=out, ddof=ddof,\n/tmp/ipykernel_60/294650540.py:24: RuntimeWarning: Mean of empty slice\n/usr/local/lib/python3.11/dist-packages/numpy/lib/nanfunctions.py:1879: RuntimeWarning: Degrees of freedom <= 0 for slice.\n  var = nanvar(a, axis=axis, dtype=dtype, out=out, ddof=ddof,\n/tmp/ipykernel_60/294650540.py:24: RuntimeWarning: Mean of empty slice\n/usr/local/lib/python3.11/dist-packages/numpy/lib/nanfunctions.py:1879: RuntimeWarning: Degrees of freedom <= 0 for slice.\n  var = nanvar(a, axis=axis, dtype=dtype, out=out, ddof=ddof,\n/tmp/ipykernel_60/294650540.py:24: RuntimeWarning: Mean of empty slice\n/usr/local/lib/python3.11/dist-packages/numpy/lib/nanfunctions.py:1879: RuntimeWarning: Degrees of freedom <= 0 for slice.\n  var = nanvar(a, axis=axis, dtype=dtype, out=out, ddof=ddof,\n/tmp/ipykernel_60/294650540.py:24: RuntimeWarning: Mean of empty slice\n/usr/local/lib/python3.11/dist-packages/numpy/lib/nanfunctions.py:1879: RuntimeWarning: Degrees of freedom <= 0 for slice.\n  var = nanvar(a, axis=axis, dtype=dtype, out=out, ddof=ddof,\n/tmp/ipykernel_60/294650540.py:24: RuntimeWarning: Mean of empty slice\n/usr/local/lib/python3.11/dist-packages/numpy/lib/nanfunctions.py:1879: RuntimeWarning: Degrees of freedom <= 0 for slice.\n  var = nanvar(a, axis=axis, dtype=dtype, out=out, ddof=ddof,\n"
          ]
        },
        {
          "output_type": "stream",
          "name": "stderr",
          "text": [
            "/tmp/ipykernel_60/294650540.py:24: RuntimeWarning: Mean of empty slice\n/usr/local/lib/python3.11/dist-packages/numpy/lib/nanfunctions.py:1879: RuntimeWarning: Degrees of freedom <= 0 for slice.\n  var = nanvar(a, axis=axis, dtype=dtype, out=out, ddof=ddof,\n/tmp/ipykernel_60/294650540.py:24: RuntimeWarning: Mean of empty slice\n/usr/local/lib/python3.11/dist-packages/numpy/lib/nanfunctions.py:1879: RuntimeWarning: Degrees of freedom <= 0 for slice.\n  var = nanvar(a, axis=axis, dtype=dtype, out=out, ddof=ddof,\n/tmp/ipykernel_60/294650540.py:24: RuntimeWarning: Mean of empty slice\n/usr/local/lib/python3.11/dist-packages/numpy/lib/nanfunctions.py:1879: RuntimeWarning: Degrees of freedom <= 0 for slice.\n  var = nanvar(a, axis=axis, dtype=dtype, out=out, ddof=ddof,\n/tmp/ipykernel_60/294650540.py:24: RuntimeWarning: Mean of empty slice\n/usr/local/lib/python3.11/dist-packages/numpy/lib/nanfunctions.py:1879: RuntimeWarning: Degrees of freedom <= 0 for slice.\n  var = nanvar(a, axis=axis, dtype=dtype, out=out, ddof=ddof,\n"
          ]
        },
        {
          "output_type": "stream",
          "name": "stderr",
          "text": [
            "/tmp/ipykernel_60/294650540.py:24: RuntimeWarning: Mean of empty slice\n/usr/local/lib/python3.11/dist-packages/numpy/lib/nanfunctions.py:1879: RuntimeWarning: Degrees of freedom <= 0 for slice.\n  var = nanvar(a, axis=axis, dtype=dtype, out=out, ddof=ddof,\n/tmp/ipykernel_60/294650540.py:24: RuntimeWarning: Mean of empty slice\n/usr/local/lib/python3.11/dist-packages/numpy/lib/nanfunctions.py:1879: RuntimeWarning: Degrees of freedom <= 0 for slice.\n  var = nanvar(a, axis=axis, dtype=dtype, out=out, ddof=ddof,\n/tmp/ipykernel_60/294650540.py:24: RuntimeWarning: Mean of empty slice\n/usr/local/lib/python3.11/dist-packages/numpy/lib/nanfunctions.py:1879: RuntimeWarning: Degrees of freedom <= 0 for slice.\n  var = nanvar(a, axis=axis, dtype=dtype, out=out, ddof=ddof,\n/tmp/ipykernel_60/294650540.py:24: RuntimeWarning: Mean of empty slice\n/usr/local/lib/python3.11/dist-packages/numpy/lib/nanfunctions.py:1879: RuntimeWarning: Degrees of freedom <= 0 for slice.\n  var = nanvar(a, axis=axis, dtype=dtype, out=out, ddof=ddof,\n/tmp/ipykernel_60/294650540.py:24: RuntimeWarning: Mean of empty slice\n/usr/local/lib/python3.11/dist-packages/numpy/lib/nanfunctions.py:1879: RuntimeWarning: Degrees of freedom <= 0 for slice.\n  var = nanvar(a, axis=axis, dtype=dtype, out=out, ddof=ddof,\n"
          ]
        },
        {
          "output_type": "stream",
          "name": "stderr",
          "text": [
            "/tmp/ipykernel_60/294650540.py:24: RuntimeWarning: Mean of empty slice\n/usr/local/lib/python3.11/dist-packages/numpy/lib/nanfunctions.py:1879: RuntimeWarning: Degrees of freedom <= 0 for slice.\n  var = nanvar(a, axis=axis, dtype=dtype, out=out, ddof=ddof,\n/tmp/ipykernel_60/294650540.py:24: RuntimeWarning: Mean of empty slice\n/usr/local/lib/python3.11/dist-packages/numpy/lib/nanfunctions.py:1879: RuntimeWarning: Degrees of freedom <= 0 for slice.\n  var = nanvar(a, axis=axis, dtype=dtype, out=out, ddof=ddof,\n/tmp/ipykernel_60/294650540.py:24: RuntimeWarning: Mean of empty slice\n/usr/local/lib/python3.11/dist-packages/numpy/lib/nanfunctions.py:1879: RuntimeWarning: Degrees of freedom <= 0 for slice.\n  var = nanvar(a, axis=axis, dtype=dtype, out=out, ddof=ddof,\n/tmp/ipykernel_60/294650540.py:24: RuntimeWarning: Mean of empty slice\n/usr/local/lib/python3.11/dist-packages/numpy/lib/nanfunctions.py:1879: RuntimeWarning: Degrees of freedom <= 0 for slice.\n  var = nanvar(a, axis=axis, dtype=dtype, out=out, ddof=ddof,\n/tmp/ipykernel_60/294650540.py:24: RuntimeWarning: Mean of empty slice\n/usr/local/lib/python3.11/dist-packages/numpy/lib/nanfunctions.py:1879: RuntimeWarning: Degrees of freedom <= 0 for slice.\n  var = nanvar(a, axis=axis, dtype=dtype, out=out, ddof=ddof,\n/tmp/ipykernel_60/294650540.py:24: RuntimeWarning: Mean of empty slice\n/usr/local/lib/python3.11/dist-packages/numpy/lib/nanfunctions.py:1879: RuntimeWarning: Degrees of freedom <= 0 for slice.\n  var = nanvar(a, axis=axis, dtype=dtype, out=out, ddof=ddof,\n"
          ]
        },
        {
          "output_type": "stream",
          "name": "stderr",
          "text": [
            "/tmp/ipykernel_60/294650540.py:24: RuntimeWarning: Mean of empty slice\n/usr/local/lib/python3.11/dist-packages/numpy/lib/nanfunctions.py:1879: RuntimeWarning: Degrees of freedom <= 0 for slice.\n  var = nanvar(a, axis=axis, dtype=dtype, out=out, ddof=ddof,\n/tmp/ipykernel_60/294650540.py:24: RuntimeWarning: Mean of empty slice\n/usr/local/lib/python3.11/dist-packages/numpy/lib/nanfunctions.py:1879: RuntimeWarning: Degrees of freedom <= 0 for slice.\n  var = nanvar(a, axis=axis, dtype=dtype, out=out, ddof=ddof,\n/tmp/ipykernel_60/294650540.py:24: RuntimeWarning: Mean of empty slice\n/usr/local/lib/python3.11/dist-packages/numpy/lib/nanfunctions.py:1879: RuntimeWarning: Degrees of freedom <= 0 for slice.\n  var = nanvar(a, axis=axis, dtype=dtype, out=out, ddof=ddof,\n/tmp/ipykernel_60/294650540.py:24: RuntimeWarning: Mean of empty slice\n/usr/local/lib/python3.11/dist-packages/numpy/lib/nanfunctions.py:1879: RuntimeWarning: Degrees of freedom <= 0 for slice.\n  var = nanvar(a, axis=axis, dtype=dtype, out=out, ddof=ddof,\n/tmp/ipykernel_60/294650540.py:24: RuntimeWarning: Mean of empty slice\n/usr/local/lib/python3.11/dist-packages/numpy/lib/nanfunctions.py:1879: RuntimeWarning: Degrees of freedom <= 0 for slice.\n  var = nanvar(a, axis=axis, dtype=dtype, out=out, ddof=ddof,\n/tmp/ipykernel_60/294650540.py:24: RuntimeWarning: Mean of empty slice\n/usr/local/lib/python3.11/dist-packages/numpy/lib/nanfunctions.py:1879: RuntimeWarning: Degrees of freedom <= 0 for slice.\n  var = nanvar(a, axis=axis, dtype=dtype, out=out, ddof=ddof,\n/tmp/ipykernel_60/294650540.py:24: RuntimeWarning: Mean of empty slice\n/usr/local/lib/python3.11/dist-packages/numpy/lib/nanfunctions.py:1879: RuntimeWarning: Degrees of freedom <= 0 for slice.\n  var = nanvar(a, axis=axis, dtype=dtype, out=out, ddof=ddof,\n/tmp/ipykernel_60/294650540.py:24: RuntimeWarning: Mean of empty slice\n/usr/local/lib/python3.11/dist-packages/numpy/lib/nanfunctions.py:1879: RuntimeWarning: Degrees of freedom <= 0 for slice.\n  var = nanvar(a, axis=axis, dtype=dtype, out=out, ddof=ddof,\n/tmp/ipykernel_60/294650540.py:24: RuntimeWarning: Mean of empty slice\n/usr/local/lib/python3.11/dist-packages/numpy/lib/nanfunctions.py:1879: RuntimeWarning: Degrees of freedom <= 0 for slice.\n  var = nanvar(a, axis=axis, dtype=dtype, out=out, ddof=ddof,\n"
          ]
        },
        {
          "output_type": "stream",
          "name": "stderr",
          "text": [
            "/tmp/ipykernel_60/294650540.py:24: RuntimeWarning: Mean of empty slice\n/usr/local/lib/python3.11/dist-packages/numpy/lib/nanfunctions.py:1879: RuntimeWarning: Degrees of freedom <= 0 for slice.\n  var = nanvar(a, axis=axis, dtype=dtype, out=out, ddof=ddof,\n/tmp/ipykernel_60/294650540.py:24: RuntimeWarning: Mean of empty slice\n/usr/local/lib/python3.11/dist-packages/numpy/lib/nanfunctions.py:1879: RuntimeWarning: Degrees of freedom <= 0 for slice.\n  var = nanvar(a, axis=axis, dtype=dtype, out=out, ddof=ddof,\n/tmp/ipykernel_60/294650540.py:24: RuntimeWarning: Mean of empty slice\n/usr/local/lib/python3.11/dist-packages/numpy/lib/nanfunctions.py:1879: RuntimeWarning: Degrees of freedom <= 0 for slice.\n  var = nanvar(a, axis=axis, dtype=dtype, out=out, ddof=ddof,\n/tmp/ipykernel_60/294650540.py:24: RuntimeWarning: Mean of empty slice\n/usr/local/lib/python3.11/dist-packages/numpy/lib/nanfunctions.py:1879: RuntimeWarning: Degrees of freedom <= 0 for slice.\n  var = nanvar(a, axis=axis, dtype=dtype, out=out, ddof=ddof,\n/tmp/ipykernel_60/294650540.py:24: RuntimeWarning: Mean of empty slice\n/usr/local/lib/python3.11/dist-packages/numpy/lib/nanfunctions.py:1879: RuntimeWarning: Degrees of freedom <= 0 for slice.\n  var = nanvar(a, axis=axis, dtype=dtype, out=out, ddof=ddof,\n/tmp/ipykernel_60/294650540.py:24: RuntimeWarning: Mean of empty slice\n/usr/local/lib/python3.11/dist-packages/numpy/lib/nanfunctions.py:1879: RuntimeWarning: Degrees of freedom <= 0 for slice.\n  var = nanvar(a, axis=axis, dtype=dtype, out=out, ddof=ddof,\n/tmp/ipykernel_60/294650540.py:24: RuntimeWarning: Mean of empty slice\n/usr/local/lib/python3.11/dist-packages/numpy/lib/nanfunctions.py:1879: RuntimeWarning: Degrees of freedom <= 0 for slice.\n  var = nanvar(a, axis=axis, dtype=dtype, out=out, ddof=ddof,\n"
          ]
        },
        {
          "output_type": "stream",
          "name": "stderr",
          "text": [
            "/tmp/ipykernel_60/294650540.py:24: RuntimeWarning: Mean of empty slice\n/usr/local/lib/python3.11/dist-packages/numpy/lib/nanfunctions.py:1879: RuntimeWarning: Degrees of freedom <= 0 for slice.\n  var = nanvar(a, axis=axis, dtype=dtype, out=out, ddof=ddof,\n/tmp/ipykernel_60/294650540.py:24: RuntimeWarning: Mean of empty slice\n/usr/local/lib/python3.11/dist-packages/numpy/lib/nanfunctions.py:1879: RuntimeWarning: Degrees of freedom <= 0 for slice.\n  var = nanvar(a, axis=axis, dtype=dtype, out=out, ddof=ddof,\n/tmp/ipykernel_60/294650540.py:24: RuntimeWarning: Mean of empty slice\n/usr/local/lib/python3.11/dist-packages/numpy/lib/nanfunctions.py:1879: RuntimeWarning: Degrees of freedom <= 0 for slice.\n  var = nanvar(a, axis=axis, dtype=dtype, out=out, ddof=ddof,\n/tmp/ipykernel_60/294650540.py:24: RuntimeWarning: Mean of empty slice\n/usr/local/lib/python3.11/dist-packages/numpy/lib/nanfunctions.py:1879: RuntimeWarning: Degrees of freedom <= 0 for slice.\n  var = nanvar(a, axis=axis, dtype=dtype, out=out, ddof=ddof,\n/tmp/ipykernel_60/294650540.py:24: RuntimeWarning: Mean of empty slice\n/usr/local/lib/python3.11/dist-packages/numpy/lib/nanfunctions.py:1879: RuntimeWarning: Degrees of freedom <= 0 for slice.\n  var = nanvar(a, axis=axis, dtype=dtype, out=out, ddof=ddof,\n/tmp/ipykernel_60/294650540.py:24: RuntimeWarning: Mean of empty slice\n/usr/local/lib/python3.11/dist-packages/numpy/lib/nanfunctions.py:1879: RuntimeWarning: Degrees of freedom <= 0 for slice.\n  var = nanvar(a, axis=axis, dtype=dtype, out=out, ddof=ddof,\n"
          ]
        },
        {
          "output_type": "stream",
          "name": "stderr",
          "text": [
            "/tmp/ipykernel_60/294650540.py:24: RuntimeWarning: Mean of empty slice\n/usr/local/lib/python3.11/dist-packages/numpy/lib/nanfunctions.py:1879: RuntimeWarning: Degrees of freedom <= 0 for slice.\n  var = nanvar(a, axis=axis, dtype=dtype, out=out, ddof=ddof,\n/tmp/ipykernel_60/294650540.py:24: RuntimeWarning: Mean of empty slice\n/usr/local/lib/python3.11/dist-packages/numpy/lib/nanfunctions.py:1879: RuntimeWarning: Degrees of freedom <= 0 for slice.\n  var = nanvar(a, axis=axis, dtype=dtype, out=out, ddof=ddof,\n/tmp/ipykernel_60/294650540.py:24: RuntimeWarning: Mean of empty slice\n/usr/local/lib/python3.11/dist-packages/numpy/lib/nanfunctions.py:1879: RuntimeWarning: Degrees of freedom <= 0 for slice.\n  var = nanvar(a, axis=axis, dtype=dtype, out=out, ddof=ddof,\n/tmp/ipykernel_60/294650540.py:24: RuntimeWarning: Mean of empty slice\n/usr/local/lib/python3.11/dist-packages/numpy/lib/nanfunctions.py:1879: RuntimeWarning: Degrees of freedom <= 0 for slice.\n  var = nanvar(a, axis=axis, dtype=dtype, out=out, ddof=ddof,\n/tmp/ipykernel_60/294650540.py:24: RuntimeWarning: Mean of empty slice\n/usr/local/lib/python3.11/dist-packages/numpy/lib/nanfunctions.py:1879: RuntimeWarning: Degrees of freedom <= 0 for slice.\n  var = nanvar(a, axis=axis, dtype=dtype, out=out, ddof=ddof,\n/tmp/ipykernel_60/294650540.py:24: RuntimeWarning: Mean of empty slice\n/usr/local/lib/python3.11/dist-packages/numpy/lib/nanfunctions.py:1879: RuntimeWarning: Degrees of freedom <= 0 for slice.\n  var = nanvar(a, axis=axis, dtype=dtype, out=out, ddof=ddof,\n/tmp/ipykernel_60/294650540.py:24: RuntimeWarning: Mean of empty slice\n/usr/local/lib/python3.11/dist-packages/numpy/lib/nanfunctions.py:1879: RuntimeWarning: Degrees of freedom <= 0 for slice.\n  var = nanvar(a, axis=axis, dtype=dtype, out=out, ddof=ddof,\n"
          ]
        },
        {
          "output_type": "stream",
          "name": "stderr",
          "text": [
            "/tmp/ipykernel_60/294650540.py:24: RuntimeWarning: Mean of empty slice\n/usr/local/lib/python3.11/dist-packages/numpy/lib/nanfunctions.py:1879: RuntimeWarning: Degrees of freedom <= 0 for slice.\n  var = nanvar(a, axis=axis, dtype=dtype, out=out, ddof=ddof,\n/tmp/ipykernel_60/294650540.py:24: RuntimeWarning: Mean of empty slice\n/usr/local/lib/python3.11/dist-packages/numpy/lib/nanfunctions.py:1879: RuntimeWarning: Degrees of freedom <= 0 for slice.\n  var = nanvar(a, axis=axis, dtype=dtype, out=out, ddof=ddof,\n/tmp/ipykernel_60/294650540.py:24: RuntimeWarning: Mean of empty slice\n/usr/local/lib/python3.11/dist-packages/numpy/lib/nanfunctions.py:1879: RuntimeWarning: Degrees of freedom <= 0 for slice.\n  var = nanvar(a, axis=axis, dtype=dtype, out=out, ddof=ddof,\n/tmp/ipykernel_60/294650540.py:24: RuntimeWarning: Mean of empty slice\n/usr/local/lib/python3.11/dist-packages/numpy/lib/nanfunctions.py:1879: RuntimeWarning: Degrees of freedom <= 0 for slice.\n  var = nanvar(a, axis=axis, dtype=dtype, out=out, ddof=ddof,\n/tmp/ipykernel_60/294650540.py:24: RuntimeWarning: Mean of empty slice\n/usr/local/lib/python3.11/dist-packages/numpy/lib/nanfunctions.py:1879: RuntimeWarning: Degrees of freedom <= 0 for slice.\n  var = nanvar(a, axis=axis, dtype=dtype, out=out, ddof=ddof,\n/tmp/ipykernel_60/294650540.py:24: RuntimeWarning: Mean of empty slice\n/usr/local/lib/python3.11/dist-packages/numpy/lib/nanfunctions.py:1879: RuntimeWarning: Degrees of freedom <= 0 for slice.\n  var = nanvar(a, axis=axis, dtype=dtype, out=out, ddof=ddof,\n/tmp/ipykernel_60/294650540.py:24: RuntimeWarning: Mean of empty slice\n/usr/local/lib/python3.11/dist-packages/numpy/lib/nanfunctions.py:1879: RuntimeWarning: Degrees of freedom <= 0 for slice.\n  var = nanvar(a, axis=axis, dtype=dtype, out=out, ddof=ddof,\n"
          ]
        },
        {
          "output_type": "stream",
          "name": "stderr",
          "text": [
            "/tmp/ipykernel_60/294650540.py:24: RuntimeWarning: Mean of empty slice\n/usr/local/lib/python3.11/dist-packages/numpy/lib/nanfunctions.py:1879: RuntimeWarning: Degrees of freedom <= 0 for slice.\n  var = nanvar(a, axis=axis, dtype=dtype, out=out, ddof=ddof,\n/tmp/ipykernel_60/294650540.py:24: RuntimeWarning: Mean of empty slice\n/usr/local/lib/python3.11/dist-packages/numpy/lib/nanfunctions.py:1879: RuntimeWarning: Degrees of freedom <= 0 for slice.\n  var = nanvar(a, axis=axis, dtype=dtype, out=out, ddof=ddof,\n/tmp/ipykernel_60/294650540.py:24: RuntimeWarning: Mean of empty slice\n/usr/local/lib/python3.11/dist-packages/numpy/lib/nanfunctions.py:1879: RuntimeWarning: Degrees of freedom <= 0 for slice.\n  var = nanvar(a, axis=axis, dtype=dtype, out=out, ddof=ddof,\n/tmp/ipykernel_60/294650540.py:24: RuntimeWarning: Mean of empty slice\n/usr/local/lib/python3.11/dist-packages/numpy/lib/nanfunctions.py:1879: RuntimeWarning: Degrees of freedom <= 0 for slice.\n  var = nanvar(a, axis=axis, dtype=dtype, out=out, ddof=ddof,\n/tmp/ipykernel_60/294650540.py:24: RuntimeWarning: Mean of empty slice\n/usr/local/lib/python3.11/dist-packages/numpy/lib/nanfunctions.py:1879: RuntimeWarning: Degrees of freedom <= 0 for slice.\n  var = nanvar(a, axis=axis, dtype=dtype, out=out, ddof=ddof,\n/tmp/ipykernel_60/294650540.py:24: RuntimeWarning: Mean of empty slice\n/usr/local/lib/python3.11/dist-packages/numpy/lib/nanfunctions.py:1879: RuntimeWarning: Degrees of freedom <= 0 for slice.\n  var = nanvar(a, axis=axis, dtype=dtype, out=out, ddof=ddof,\n"
          ]
        },
        {
          "output_type": "stream",
          "name": "stderr",
          "text": [
            "/tmp/ipykernel_60/294650540.py:24: RuntimeWarning: Mean of empty slice\n/usr/local/lib/python3.11/dist-packages/numpy/lib/nanfunctions.py:1879: RuntimeWarning: Degrees of freedom <= 0 for slice.\n  var = nanvar(a, axis=axis, dtype=dtype, out=out, ddof=ddof,\n/tmp/ipykernel_60/294650540.py:24: RuntimeWarning: Mean of empty slice\n/usr/local/lib/python3.11/dist-packages/numpy/lib/nanfunctions.py:1879: RuntimeWarning: Degrees of freedom <= 0 for slice.\n  var = nanvar(a, axis=axis, dtype=dtype, out=out, ddof=ddof,\n/tmp/ipykernel_60/294650540.py:24: RuntimeWarning: Mean of empty slice\n/usr/local/lib/python3.11/dist-packages/numpy/lib/nanfunctions.py:1879: RuntimeWarning: Degrees of freedom <= 0 for slice.\n  var = nanvar(a, axis=axis, dtype=dtype, out=out, ddof=ddof,\n/tmp/ipykernel_60/294650540.py:24: RuntimeWarning: Mean of empty slice\n/usr/local/lib/python3.11/dist-packages/numpy/lib/nanfunctions.py:1879: RuntimeWarning: Degrees of freedom <= 0 for slice.\n  var = nanvar(a, axis=axis, dtype=dtype, out=out, ddof=ddof,\n/tmp/ipykernel_60/294650540.py:24: RuntimeWarning: Mean of empty slice\n/usr/local/lib/python3.11/dist-packages/numpy/lib/nanfunctions.py:1879: RuntimeWarning: Degrees of freedom <= 0 for slice.\n  var = nanvar(a, axis=axis, dtype=dtype, out=out, ddof=ddof,\n/tmp/ipykernel_60/294650540.py:24: RuntimeWarning: Mean of empty slice\n/usr/local/lib/python3.11/dist-packages/numpy/lib/nanfunctions.py:1879: RuntimeWarning: Degrees of freedom <= 0 for slice.\n  var = nanvar(a, axis=axis, dtype=dtype, out=out, ddof=ddof,\n/tmp/ipykernel_60/294650540.py:24: RuntimeWarning: Mean of empty slice\n/usr/local/lib/python3.11/dist-packages/numpy/lib/nanfunctions.py:1879: RuntimeWarning: Degrees of freedom <= 0 for slice.\n  var = nanvar(a, axis=axis, dtype=dtype, out=out, ddof=ddof,\n/tmp/ipykernel_60/294650540.py:24: RuntimeWarning: Mean of empty slice\n/usr/local/lib/python3.11/dist-packages/numpy/lib/nanfunctions.py:1879: RuntimeWarning: Degrees of freedom <= 0 for slice.\n  var = nanvar(a, axis=axis, dtype=dtype, out=out, ddof=ddof,\n"
          ]
        },
        {
          "output_type": "stream",
          "name": "stderr",
          "text": [
            "/tmp/ipykernel_60/294650540.py:24: RuntimeWarning: Mean of empty slice\n/usr/local/lib/python3.11/dist-packages/numpy/lib/nanfunctions.py:1879: RuntimeWarning: Degrees of freedom <= 0 for slice.\n  var = nanvar(a, axis=axis, dtype=dtype, out=out, ddof=ddof,\n/tmp/ipykernel_60/294650540.py:24: RuntimeWarning: Mean of empty slice\n/usr/local/lib/python3.11/dist-packages/numpy/lib/nanfunctions.py:1879: RuntimeWarning: Degrees of freedom <= 0 for slice.\n  var = nanvar(a, axis=axis, dtype=dtype, out=out, ddof=ddof,\n/tmp/ipykernel_60/294650540.py:24: RuntimeWarning: Mean of empty slice\n/usr/local/lib/python3.11/dist-packages/numpy/lib/nanfunctions.py:1879: RuntimeWarning: Degrees of freedom <= 0 for slice.\n  var = nanvar(a, axis=axis, dtype=dtype, out=out, ddof=ddof,\n/tmp/ipykernel_60/294650540.py:24: RuntimeWarning: Mean of empty slice\n/usr/local/lib/python3.11/dist-packages/numpy/lib/nanfunctions.py:1879: RuntimeWarning: Degrees of freedom <= 0 for slice.\n  var = nanvar(a, axis=axis, dtype=dtype, out=out, ddof=ddof,\n/tmp/ipykernel_60/294650540.py:24: RuntimeWarning: Mean of empty slice\n/usr/local/lib/python3.11/dist-packages/numpy/lib/nanfunctions.py:1879: RuntimeWarning: Degrees of freedom <= 0 for slice.\n  var = nanvar(a, axis=axis, dtype=dtype, out=out, ddof=ddof,\n/tmp/ipykernel_60/294650540.py:24: RuntimeWarning: Mean of empty slice\n/usr/local/lib/python3.11/dist-packages/numpy/lib/nanfunctions.py:1879: RuntimeWarning: Degrees of freedom <= 0 for slice.\n  var = nanvar(a, axis=axis, dtype=dtype, out=out, ddof=ddof,\n/tmp/ipykernel_60/294650540.py:24: RuntimeWarning: Mean of empty slice\n/usr/local/lib/python3.11/dist-packages/numpy/lib/nanfunctions.py:1879: RuntimeWarning: Degrees of freedom <= 0 for slice.\n  var = nanvar(a, axis=axis, dtype=dtype, out=out, ddof=ddof,\n/tmp/ipykernel_60/294650540.py:24: RuntimeWarning: Mean of empty slice\n/usr/local/lib/python3.11/dist-packages/numpy/lib/nanfunctions.py:1879: RuntimeWarning: Degrees of freedom <= 0 for slice.\n  var = nanvar(a, axis=axis, dtype=dtype, out=out, ddof=ddof,\n"
          ]
        },
        {
          "output_type": "stream",
          "name": "stderr",
          "text": [
            "/tmp/ipykernel_60/294650540.py:24: RuntimeWarning: Mean of empty slice\n/usr/local/lib/python3.11/dist-packages/numpy/lib/nanfunctions.py:1879: RuntimeWarning: Degrees of freedom <= 0 for slice.\n  var = nanvar(a, axis=axis, dtype=dtype, out=out, ddof=ddof,\n/tmp/ipykernel_60/294650540.py:24: RuntimeWarning: Mean of empty slice\n/usr/local/lib/python3.11/dist-packages/numpy/lib/nanfunctions.py:1879: RuntimeWarning: Degrees of freedom <= 0 for slice.\n  var = nanvar(a, axis=axis, dtype=dtype, out=out, ddof=ddof,\n/tmp/ipykernel_60/294650540.py:24: RuntimeWarning: Mean of empty slice\n/usr/local/lib/python3.11/dist-packages/numpy/lib/nanfunctions.py:1879: RuntimeWarning: Degrees of freedom <= 0 for slice.\n  var = nanvar(a, axis=axis, dtype=dtype, out=out, ddof=ddof,\n"
          ]
        },
        {
          "output_type": "stream",
          "name": "stderr",
          "text": [
            "/tmp/ipykernel_60/294650540.py:24: RuntimeWarning: Mean of empty slice\n/usr/local/lib/python3.11/dist-packages/numpy/lib/nanfunctions.py:1879: RuntimeWarning: Degrees of freedom <= 0 for slice.\n  var = nanvar(a, axis=axis, dtype=dtype, out=out, ddof=ddof,\n/tmp/ipykernel_60/294650540.py:24: RuntimeWarning: Mean of empty slice\n/usr/local/lib/python3.11/dist-packages/numpy/lib/nanfunctions.py:1879: RuntimeWarning: Degrees of freedom <= 0 for slice.\n  var = nanvar(a, axis=axis, dtype=dtype, out=out, ddof=ddof,\n/tmp/ipykernel_60/294650540.py:24: RuntimeWarning: Mean of empty slice\n/usr/local/lib/python3.11/dist-packages/numpy/lib/nanfunctions.py:1879: RuntimeWarning: Degrees of freedom <= 0 for slice.\n  var = nanvar(a, axis=axis, dtype=dtype, out=out, ddof=ddof,\n/tmp/ipykernel_60/294650540.py:24: RuntimeWarning: Mean of empty slice\n/usr/local/lib/python3.11/dist-packages/numpy/lib/nanfunctions.py:1879: RuntimeWarning: Degrees of freedom <= 0 for slice.\n  var = nanvar(a, axis=axis, dtype=dtype, out=out, ddof=ddof,\n/tmp/ipykernel_60/294650540.py:24: RuntimeWarning: Mean of empty slice\n/usr/local/lib/python3.11/dist-packages/numpy/lib/nanfunctions.py:1879: RuntimeWarning: Degrees of freedom <= 0 for slice.\n  var = nanvar(a, axis=axis, dtype=dtype, out=out, ddof=ddof,\n/tmp/ipykernel_60/294650540.py:24: RuntimeWarning: Mean of empty slice\n/usr/local/lib/python3.11/dist-packages/numpy/lib/nanfunctions.py:1879: RuntimeWarning: Degrees of freedom <= 0 for slice.\n  var = nanvar(a, axis=axis, dtype=dtype, out=out, ddof=ddof,\n/tmp/ipykernel_60/294650540.py:24: RuntimeWarning: Mean of empty slice\n/usr/local/lib/python3.11/dist-packages/numpy/lib/nanfunctions.py:1879: RuntimeWarning: Degrees of freedom <= 0 for slice.\n  var = nanvar(a, axis=axis, dtype=dtype, out=out, ddof=ddof,\n"
          ]
        },
        {
          "output_type": "stream",
          "name": "stderr",
          "text": [
            "/tmp/ipykernel_60/294650540.py:24: RuntimeWarning: Mean of empty slice\n/usr/local/lib/python3.11/dist-packages/numpy/lib/nanfunctions.py:1879: RuntimeWarning: Degrees of freedom <= 0 for slice.\n  var = nanvar(a, axis=axis, dtype=dtype, out=out, ddof=ddof,\n/tmp/ipykernel_60/294650540.py:24: RuntimeWarning: Mean of empty slice\n/usr/local/lib/python3.11/dist-packages/numpy/lib/nanfunctions.py:1879: RuntimeWarning: Degrees of freedom <= 0 for slice.\n  var = nanvar(a, axis=axis, dtype=dtype, out=out, ddof=ddof,\n/tmp/ipykernel_60/294650540.py:24: RuntimeWarning: Mean of empty slice\n/usr/local/lib/python3.11/dist-packages/numpy/lib/nanfunctions.py:1879: RuntimeWarning: Degrees of freedom <= 0 for slice.\n  var = nanvar(a, axis=axis, dtype=dtype, out=out, ddof=ddof,\n/tmp/ipykernel_60/294650540.py:24: RuntimeWarning: Mean of empty slice\n/usr/local/lib/python3.11/dist-packages/numpy/lib/nanfunctions.py:1879: RuntimeWarning: Degrees of freedom <= 0 for slice.\n  var = nanvar(a, axis=axis, dtype=dtype, out=out, ddof=ddof,\n/tmp/ipykernel_60/294650540.py:24: RuntimeWarning: Mean of empty slice\n/usr/local/lib/python3.11/dist-packages/numpy/lib/nanfunctions.py:1879: RuntimeWarning: Degrees of freedom <= 0 for slice.\n  var = nanvar(a, axis=axis, dtype=dtype, out=out, ddof=ddof,\n/tmp/ipykernel_60/294650540.py:24: RuntimeWarning: Mean of empty slice\n/usr/local/lib/python3.11/dist-packages/numpy/lib/nanfunctions.py:1879: RuntimeWarning: Degrees of freedom <= 0 for slice.\n  var = nanvar(a, axis=axis, dtype=dtype, out=out, ddof=ddof,\n/tmp/ipykernel_60/294650540.py:24: RuntimeWarning: Mean of empty slice\n/usr/local/lib/python3.11/dist-packages/numpy/lib/nanfunctions.py:1879: RuntimeWarning: Degrees of freedom <= 0 for slice.\n  var = nanvar(a, axis=axis, dtype=dtype, out=out, ddof=ddof,\n/tmp/ipykernel_60/294650540.py:24: RuntimeWarning: Mean of empty slice\n/usr/local/lib/python3.11/dist-packages/numpy/lib/nanfunctions.py:1879: RuntimeWarning: Degrees of freedom <= 0 for slice.\n  var = nanvar(a, axis=axis, dtype=dtype, out=out, ddof=ddof,\n"
          ]
        },
        {
          "output_type": "stream",
          "name": "stderr",
          "text": [
            "/tmp/ipykernel_60/294650540.py:24: RuntimeWarning: Mean of empty slice\n/usr/local/lib/python3.11/dist-packages/numpy/lib/nanfunctions.py:1879: RuntimeWarning: Degrees of freedom <= 0 for slice.\n  var = nanvar(a, axis=axis, dtype=dtype, out=out, ddof=ddof,\n/tmp/ipykernel_60/294650540.py:24: RuntimeWarning: Mean of empty slice\n/usr/local/lib/python3.11/dist-packages/numpy/lib/nanfunctions.py:1879: RuntimeWarning: Degrees of freedom <= 0 for slice.\n  var = nanvar(a, axis=axis, dtype=dtype, out=out, ddof=ddof,\n/tmp/ipykernel_60/294650540.py:24: RuntimeWarning: Mean of empty slice\n/usr/local/lib/python3.11/dist-packages/numpy/lib/nanfunctions.py:1879: RuntimeWarning: Degrees of freedom <= 0 for slice.\n  var = nanvar(a, axis=axis, dtype=dtype, out=out, ddof=ddof,\n/tmp/ipykernel_60/294650540.py:24: RuntimeWarning: Mean of empty slice\n/usr/local/lib/python3.11/dist-packages/numpy/lib/nanfunctions.py:1879: RuntimeWarning: Degrees of freedom <= 0 for slice.\n  var = nanvar(a, axis=axis, dtype=dtype, out=out, ddof=ddof,\n/tmp/ipykernel_60/294650540.py:24: RuntimeWarning: Mean of empty slice\n/usr/local/lib/python3.11/dist-packages/numpy/lib/nanfunctions.py:1879: RuntimeWarning: Degrees of freedom <= 0 for slice.\n  var = nanvar(a, axis=axis, dtype=dtype, out=out, ddof=ddof,\n/tmp/ipykernel_60/294650540.py:24: RuntimeWarning: Mean of empty slice\n/usr/local/lib/python3.11/dist-packages/numpy/lib/nanfunctions.py:1879: RuntimeWarning: Degrees of freedom <= 0 for slice.\n  var = nanvar(a, axis=axis, dtype=dtype, out=out, ddof=ddof,\n/tmp/ipykernel_60/294650540.py:24: RuntimeWarning: Mean of empty slice\n/usr/local/lib/python3.11/dist-packages/numpy/lib/nanfunctions.py:1879: RuntimeWarning: Degrees of freedom <= 0 for slice.\n  var = nanvar(a, axis=axis, dtype=dtype, out=out, ddof=ddof,\n"
          ]
        },
        {
          "output_type": "stream",
          "name": "stderr",
          "text": [
            "/tmp/ipykernel_60/294650540.py:24: RuntimeWarning: Mean of empty slice\n/usr/local/lib/python3.11/dist-packages/numpy/lib/nanfunctions.py:1879: RuntimeWarning: Degrees of freedom <= 0 for slice.\n  var = nanvar(a, axis=axis, dtype=dtype, out=out, ddof=ddof,\n/tmp/ipykernel_60/294650540.py:24: RuntimeWarning: Mean of empty slice\n/usr/local/lib/python3.11/dist-packages/numpy/lib/nanfunctions.py:1879: RuntimeWarning: Degrees of freedom <= 0 for slice.\n  var = nanvar(a, axis=axis, dtype=dtype, out=out, ddof=ddof,\n/tmp/ipykernel_60/294650540.py:24: RuntimeWarning: Mean of empty slice\n/usr/local/lib/python3.11/dist-packages/numpy/lib/nanfunctions.py:1879: RuntimeWarning: Degrees of freedom <= 0 for slice.\n  var = nanvar(a, axis=axis, dtype=dtype, out=out, ddof=ddof,\n/tmp/ipykernel_60/294650540.py:24: RuntimeWarning: Mean of empty slice\n/usr/local/lib/python3.11/dist-packages/numpy/lib/nanfunctions.py:1879: RuntimeWarning: Degrees of freedom <= 0 for slice.\n  var = nanvar(a, axis=axis, dtype=dtype, out=out, ddof=ddof,\n/tmp/ipykernel_60/294650540.py:24: RuntimeWarning: Mean of empty slice\n/usr/local/lib/python3.11/dist-packages/numpy/lib/nanfunctions.py:1879: RuntimeWarning: Degrees of freedom <= 0 for slice.\n  var = nanvar(a, axis=axis, dtype=dtype, out=out, ddof=ddof,\n/tmp/ipykernel_60/294650540.py:24: RuntimeWarning: Mean of empty slice\n/usr/local/lib/python3.11/dist-packages/numpy/lib/nanfunctions.py:1879: RuntimeWarning: Degrees of freedom <= 0 for slice.\n  var = nanvar(a, axis=axis, dtype=dtype, out=out, ddof=ddof,\n/tmp/ipykernel_60/294650540.py:24: RuntimeWarning: Mean of empty slice\n/usr/local/lib/python3.11/dist-packages/numpy/lib/nanfunctions.py:1879: RuntimeWarning: Degrees of freedom <= 0 for slice.\n  var = nanvar(a, axis=axis, dtype=dtype, out=out, ddof=ddof,\n"
          ]
        },
        {
          "output_type": "stream",
          "name": "stderr",
          "text": [
            "/tmp/ipykernel_60/294650540.py:24: RuntimeWarning: Mean of empty slice\n/usr/local/lib/python3.11/dist-packages/numpy/lib/nanfunctions.py:1879: RuntimeWarning: Degrees of freedom <= 0 for slice.\n  var = nanvar(a, axis=axis, dtype=dtype, out=out, ddof=ddof,\n/tmp/ipykernel_60/294650540.py:24: RuntimeWarning: Mean of empty slice\n/usr/local/lib/python3.11/dist-packages/numpy/lib/nanfunctions.py:1879: RuntimeWarning: Degrees of freedom <= 0 for slice.\n  var = nanvar(a, axis=axis, dtype=dtype, out=out, ddof=ddof,\n/tmp/ipykernel_60/294650540.py:24: RuntimeWarning: Mean of empty slice\n/usr/local/lib/python3.11/dist-packages/numpy/lib/nanfunctions.py:1879: RuntimeWarning: Degrees of freedom <= 0 for slice.\n  var = nanvar(a, axis=axis, dtype=dtype, out=out, ddof=ddof,\n/tmp/ipykernel_60/294650540.py:24: RuntimeWarning: Mean of empty slice\n/usr/local/lib/python3.11/dist-packages/numpy/lib/nanfunctions.py:1879: RuntimeWarning: Degrees of freedom <= 0 for slice.\n  var = nanvar(a, axis=axis, dtype=dtype, out=out, ddof=ddof,\n/tmp/ipykernel_60/294650540.py:24: RuntimeWarning: Mean of empty slice\n/usr/local/lib/python3.11/dist-packages/numpy/lib/nanfunctions.py:1879: RuntimeWarning: Degrees of freedom <= 0 for slice.\n  var = nanvar(a, axis=axis, dtype=dtype, out=out, ddof=ddof,\n/tmp/ipykernel_60/294650540.py:24: RuntimeWarning: Mean of empty slice\n/usr/local/lib/python3.11/dist-packages/numpy/lib/nanfunctions.py:1879: RuntimeWarning: Degrees of freedom <= 0 for slice.\n  var = nanvar(a, axis=axis, dtype=dtype, out=out, ddof=ddof,\n"
          ]
        },
        {
          "output_type": "stream",
          "name": "stderr",
          "text": [
            "/tmp/ipykernel_60/294650540.py:24: RuntimeWarning: Mean of empty slice\n/usr/local/lib/python3.11/dist-packages/numpy/lib/nanfunctions.py:1879: RuntimeWarning: Degrees of freedom <= 0 for slice.\n  var = nanvar(a, axis=axis, dtype=dtype, out=out, ddof=ddof,\n/tmp/ipykernel_60/294650540.py:24: RuntimeWarning: Mean of empty slice\n/usr/local/lib/python3.11/dist-packages/numpy/lib/nanfunctions.py:1879: RuntimeWarning: Degrees of freedom <= 0 for slice.\n  var = nanvar(a, axis=axis, dtype=dtype, out=out, ddof=ddof,\n/tmp/ipykernel_60/294650540.py:24: RuntimeWarning: Mean of empty slice\n/usr/local/lib/python3.11/dist-packages/numpy/lib/nanfunctions.py:1879: RuntimeWarning: Degrees of freedom <= 0 for slice.\n  var = nanvar(a, axis=axis, dtype=dtype, out=out, ddof=ddof,\n/tmp/ipykernel_60/294650540.py:24: RuntimeWarning: Mean of empty slice\n/usr/local/lib/python3.11/dist-packages/numpy/lib/nanfunctions.py:1879: RuntimeWarning: Degrees of freedom <= 0 for slice.\n  var = nanvar(a, axis=axis, dtype=dtype, out=out, ddof=ddof,\n/tmp/ipykernel_60/294650540.py:24: RuntimeWarning: Mean of empty slice\n/usr/local/lib/python3.11/dist-packages/numpy/lib/nanfunctions.py:1879: RuntimeWarning: Degrees of freedom <= 0 for slice.\n  var = nanvar(a, axis=axis, dtype=dtype, out=out, ddof=ddof,\n"
          ]
        },
        {
          "output_type": "stream",
          "name": "stderr",
          "text": [
            "/tmp/ipykernel_60/294650540.py:24: RuntimeWarning: Mean of empty slice\n/usr/local/lib/python3.11/dist-packages/numpy/lib/nanfunctions.py:1879: RuntimeWarning: Degrees of freedom <= 0 for slice.\n  var = nanvar(a, axis=axis, dtype=dtype, out=out, ddof=ddof,\n/tmp/ipykernel_60/294650540.py:24: RuntimeWarning: Mean of empty slice\n/usr/local/lib/python3.11/dist-packages/numpy/lib/nanfunctions.py:1879: RuntimeWarning: Degrees of freedom <= 0 for slice.\n  var = nanvar(a, axis=axis, dtype=dtype, out=out, ddof=ddof,\n/tmp/ipykernel_60/294650540.py:24: RuntimeWarning: Mean of empty slice\n/usr/local/lib/python3.11/dist-packages/numpy/lib/nanfunctions.py:1879: RuntimeWarning: Degrees of freedom <= 0 for slice.\n  var = nanvar(a, axis=axis, dtype=dtype, out=out, ddof=ddof,\n/tmp/ipykernel_60/294650540.py:24: RuntimeWarning: Mean of empty slice\n/usr/local/lib/python3.11/dist-packages/numpy/lib/nanfunctions.py:1879: RuntimeWarning: Degrees of freedom <= 0 for slice.\n  var = nanvar(a, axis=axis, dtype=dtype, out=out, ddof=ddof,\n/tmp/ipykernel_60/294650540.py:24: RuntimeWarning: Mean of empty slice\n/usr/local/lib/python3.11/dist-packages/numpy/lib/nanfunctions.py:1879: RuntimeWarning: Degrees of freedom <= 0 for slice.\n  var = nanvar(a, axis=axis, dtype=dtype, out=out, ddof=ddof,\n/tmp/ipykernel_60/294650540.py:24: RuntimeWarning: Mean of empty slice\n/usr/local/lib/python3.11/dist-packages/numpy/lib/nanfunctions.py:1879: RuntimeWarning: Degrees of freedom <= 0 for slice.\n  var = nanvar(a, axis=axis, dtype=dtype, out=out, ddof=ddof,\n/tmp/ipykernel_60/294650540.py:24: RuntimeWarning: Mean of empty slice\n/usr/local/lib/python3.11/dist-packages/numpy/lib/nanfunctions.py:1879: RuntimeWarning: Degrees of freedom <= 0 for slice.\n  var = nanvar(a, axis=axis, dtype=dtype, out=out, ddof=ddof,\n/tmp/ipykernel_60/294650540.py:24: RuntimeWarning: Mean of empty slice\n/usr/local/lib/python3.11/dist-packages/numpy/lib/nanfunctions.py:1879: RuntimeWarning: Degrees of freedom <= 0 for slice.\n  var = nanvar(a, axis=axis, dtype=dtype, out=out, ddof=ddof,\n/tmp/ipykernel_60/294650540.py:24: RuntimeWarning: Mean of empty slice\n/usr/local/lib/python3.11/dist-packages/numpy/lib/nanfunctions.py:1879: RuntimeWarning: Degrees of freedom <= 0 for slice.\n  var = nanvar(a, axis=axis, dtype=dtype, out=out, ddof=ddof,\n/tmp/ipykernel_60/294650540.py:24: RuntimeWarning: Mean of empty slice\n/usr/local/lib/python3.11/dist-packages/numpy/lib/nanfunctions.py:1879: RuntimeWarning: Degrees of freedom <= 0 for slice.\n  var = nanvar(a, axis=axis, dtype=dtype, out=out, ddof=ddof,\n/tmp/ipykernel_60/294650540.py:24: RuntimeWarning: Mean of empty slice\n/usr/local/lib/python3.11/dist-packages/numpy/lib/nanfunctions.py:1879: RuntimeWarning: Degrees of freedom <= 0 for slice.\n  var = nanvar(a, axis=axis, dtype=dtype, out=out, ddof=ddof,\n/tmp/ipykernel_60/294650540.py:24: RuntimeWarning: Mean of empty slice\n/usr/local/lib/python3.11/dist-packages/numpy/lib/nanfunctions.py:1879: RuntimeWarning: Degrees of freedom <= 0 for slice.\n  var = nanvar(a, axis=axis, dtype=dtype, out=out, ddof=ddof,\n"
          ]
        },
        {
          "output_type": "stream",
          "name": "stderr",
          "text": [
            "/tmp/ipykernel_60/294650540.py:24: RuntimeWarning: Mean of empty slice\n/usr/local/lib/python3.11/dist-packages/numpy/lib/nanfunctions.py:1879: RuntimeWarning: Degrees of freedom <= 0 for slice.\n  var = nanvar(a, axis=axis, dtype=dtype, out=out, ddof=ddof,\n/tmp/ipykernel_60/294650540.py:24: RuntimeWarning: Mean of empty slice\n/usr/local/lib/python3.11/dist-packages/numpy/lib/nanfunctions.py:1879: RuntimeWarning: Degrees of freedom <= 0 for slice.\n  var = nanvar(a, axis=axis, dtype=dtype, out=out, ddof=ddof,\n/tmp/ipykernel_60/294650540.py:24: RuntimeWarning: Mean of empty slice\n/usr/local/lib/python3.11/dist-packages/numpy/lib/nanfunctions.py:1879: RuntimeWarning: Degrees of freedom <= 0 for slice.\n  var = nanvar(a, axis=axis, dtype=dtype, out=out, ddof=ddof,\n/tmp/ipykernel_60/294650540.py:24: RuntimeWarning: Mean of empty slice\n/usr/local/lib/python3.11/dist-packages/numpy/lib/nanfunctions.py:1879: RuntimeWarning: Degrees of freedom <= 0 for slice.\n  var = nanvar(a, axis=axis, dtype=dtype, out=out, ddof=ddof,\n/tmp/ipykernel_60/294650540.py:24: RuntimeWarning: Mean of empty slice\n/usr/local/lib/python3.11/dist-packages/numpy/lib/nanfunctions.py:1879: RuntimeWarning: Degrees of freedom <= 0 for slice.\n  var = nanvar(a, axis=axis, dtype=dtype, out=out, ddof=ddof,\n"
          ]
        },
        {
          "output_type": "stream",
          "name": "stderr",
          "text": [
            "/tmp/ipykernel_60/294650540.py:24: RuntimeWarning: Mean of empty slice\n/usr/local/lib/python3.11/dist-packages/numpy/lib/nanfunctions.py:1879: RuntimeWarning: Degrees of freedom <= 0 for slice.\n  var = nanvar(a, axis=axis, dtype=dtype, out=out, ddof=ddof,\n/tmp/ipykernel_60/294650540.py:24: RuntimeWarning: Mean of empty slice\n/usr/local/lib/python3.11/dist-packages/numpy/lib/nanfunctions.py:1879: RuntimeWarning: Degrees of freedom <= 0 for slice.\n  var = nanvar(a, axis=axis, dtype=dtype, out=out, ddof=ddof,\n/tmp/ipykernel_60/294650540.py:24: RuntimeWarning: Mean of empty slice\n/usr/local/lib/python3.11/dist-packages/numpy/lib/nanfunctions.py:1879: RuntimeWarning: Degrees of freedom <= 0 for slice.\n  var = nanvar(a, axis=axis, dtype=dtype, out=out, ddof=ddof,\n/tmp/ipykernel_60/294650540.py:24: RuntimeWarning: Mean of empty slice\n/usr/local/lib/python3.11/dist-packages/numpy/lib/nanfunctions.py:1879: RuntimeWarning: Degrees of freedom <= 0 for slice.\n  var = nanvar(a, axis=axis, dtype=dtype, out=out, ddof=ddof,\n/tmp/ipykernel_60/294650540.py:24: RuntimeWarning: Mean of empty slice\n/usr/local/lib/python3.11/dist-packages/numpy/lib/nanfunctions.py:1879: RuntimeWarning: Degrees of freedom <= 0 for slice.\n  var = nanvar(a, axis=axis, dtype=dtype, out=out, ddof=ddof,\n/tmp/ipykernel_60/294650540.py:24: RuntimeWarning: Mean of empty slice\n/usr/local/lib/python3.11/dist-packages/numpy/lib/nanfunctions.py:1879: RuntimeWarning: Degrees of freedom <= 0 for slice.\n  var = nanvar(a, axis=axis, dtype=dtype, out=out, ddof=ddof,\n/tmp/ipykernel_60/294650540.py:24: RuntimeWarning: Mean of empty slice\n/usr/local/lib/python3.11/dist-packages/numpy/lib/nanfunctions.py:1879: RuntimeWarning: Degrees of freedom <= 0 for slice.\n  var = nanvar(a, axis=axis, dtype=dtype, out=out, ddof=ddof,\n"
          ]
        },
        {
          "output_type": "stream",
          "name": "stderr",
          "text": [
            "/tmp/ipykernel_60/294650540.py:24: RuntimeWarning: Mean of empty slice\n/usr/local/lib/python3.11/dist-packages/numpy/lib/nanfunctions.py:1879: RuntimeWarning: Degrees of freedom <= 0 for slice.\n  var = nanvar(a, axis=axis, dtype=dtype, out=out, ddof=ddof,\n/tmp/ipykernel_60/294650540.py:24: RuntimeWarning: Mean of empty slice\n/usr/local/lib/python3.11/dist-packages/numpy/lib/nanfunctions.py:1879: RuntimeWarning: Degrees of freedom <= 0 for slice.\n  var = nanvar(a, axis=axis, dtype=dtype, out=out, ddof=ddof,\n/tmp/ipykernel_60/294650540.py:24: RuntimeWarning: Mean of empty slice\n/usr/local/lib/python3.11/dist-packages/numpy/lib/nanfunctions.py:1879: RuntimeWarning: Degrees of freedom <= 0 for slice.\n  var = nanvar(a, axis=axis, dtype=dtype, out=out, ddof=ddof,\n/tmp/ipykernel_60/294650540.py:24: RuntimeWarning: Mean of empty slice\n/usr/local/lib/python3.11/dist-packages/numpy/lib/nanfunctions.py:1879: RuntimeWarning: Degrees of freedom <= 0 for slice.\n  var = nanvar(a, axis=axis, dtype=dtype, out=out, ddof=ddof,\n/tmp/ipykernel_60/294650540.py:24: RuntimeWarning: Mean of empty slice\n/usr/local/lib/python3.11/dist-packages/numpy/lib/nanfunctions.py:1879: RuntimeWarning: Degrees of freedom <= 0 for slice.\n  var = nanvar(a, axis=axis, dtype=dtype, out=out, ddof=ddof,\n/tmp/ipykernel_60/294650540.py:24: RuntimeWarning: Mean of empty slice\n/usr/local/lib/python3.11/dist-packages/numpy/lib/nanfunctions.py:1879: RuntimeWarning: Degrees of freedom <= 0 for slice.\n  var = nanvar(a, axis=axis, dtype=dtype, out=out, ddof=ddof,\n"
          ]
        },
        {
          "output_type": "stream",
          "name": "stderr",
          "text": [
            "/tmp/ipykernel_60/294650540.py:24: RuntimeWarning: Mean of empty slice\n/usr/local/lib/python3.11/dist-packages/numpy/lib/nanfunctions.py:1879: RuntimeWarning: Degrees of freedom <= 0 for slice.\n  var = nanvar(a, axis=axis, dtype=dtype, out=out, ddof=ddof,\n/tmp/ipykernel_60/294650540.py:24: RuntimeWarning: Mean of empty slice\n/usr/local/lib/python3.11/dist-packages/numpy/lib/nanfunctions.py:1879: RuntimeWarning: Degrees of freedom <= 0 for slice.\n  var = nanvar(a, axis=axis, dtype=dtype, out=out, ddof=ddof,\n/tmp/ipykernel_60/294650540.py:24: RuntimeWarning: Mean of empty slice\n/usr/local/lib/python3.11/dist-packages/numpy/lib/nanfunctions.py:1879: RuntimeWarning: Degrees of freedom <= 0 for slice.\n  var = nanvar(a, axis=axis, dtype=dtype, out=out, ddof=ddof,\n/tmp/ipykernel_60/294650540.py:24: RuntimeWarning: Mean of empty slice\n/usr/local/lib/python3.11/dist-packages/numpy/lib/nanfunctions.py:1879: RuntimeWarning: Degrees of freedom <= 0 for slice.\n  var = nanvar(a, axis=axis, dtype=dtype, out=out, ddof=ddof,\n/tmp/ipykernel_60/294650540.py:24: RuntimeWarning: Mean of empty slice\n/usr/local/lib/python3.11/dist-packages/numpy/lib/nanfunctions.py:1879: RuntimeWarning: Degrees of freedom <= 0 for slice.\n  var = nanvar(a, axis=axis, dtype=dtype, out=out, ddof=ddof,\n/tmp/ipykernel_60/294650540.py:24: RuntimeWarning: Mean of empty slice\n/usr/local/lib/python3.11/dist-packages/numpy/lib/nanfunctions.py:1879: RuntimeWarning: Degrees of freedom <= 0 for slice.\n  var = nanvar(a, axis=axis, dtype=dtype, out=out, ddof=ddof,\n/tmp/ipykernel_60/294650540.py:24: RuntimeWarning: Mean of empty slice\n/usr/local/lib/python3.11/dist-packages/numpy/lib/nanfunctions.py:1879: RuntimeWarning: Degrees of freedom <= 0 for slice.\n  var = nanvar(a, axis=axis, dtype=dtype, out=out, ddof=ddof,\n"
          ]
        },
        {
          "output_type": "stream",
          "name": "stderr",
          "text": [
            "/tmp/ipykernel_60/294650540.py:24: RuntimeWarning: Mean of empty slice\n/usr/local/lib/python3.11/dist-packages/numpy/lib/nanfunctions.py:1879: RuntimeWarning: Degrees of freedom <= 0 for slice.\n  var = nanvar(a, axis=axis, dtype=dtype, out=out, ddof=ddof,\n/tmp/ipykernel_60/294650540.py:24: RuntimeWarning: Mean of empty slice\n/usr/local/lib/python3.11/dist-packages/numpy/lib/nanfunctions.py:1879: RuntimeWarning: Degrees of freedom <= 0 for slice.\n  var = nanvar(a, axis=axis, dtype=dtype, out=out, ddof=ddof,\n/tmp/ipykernel_60/294650540.py:24: RuntimeWarning: Mean of empty slice\n/usr/local/lib/python3.11/dist-packages/numpy/lib/nanfunctions.py:1879: RuntimeWarning: Degrees of freedom <= 0 for slice.\n  var = nanvar(a, axis=axis, dtype=dtype, out=out, ddof=ddof,\n/tmp/ipykernel_60/294650540.py:24: RuntimeWarning: Mean of empty slice\n/usr/local/lib/python3.11/dist-packages/numpy/lib/nanfunctions.py:1879: RuntimeWarning: Degrees of freedom <= 0 for slice.\n  var = nanvar(a, axis=axis, dtype=dtype, out=out, ddof=ddof,\n/tmp/ipykernel_60/294650540.py:24: RuntimeWarning: Mean of empty slice\n/usr/local/lib/python3.11/dist-packages/numpy/lib/nanfunctions.py:1879: RuntimeWarning: Degrees of freedom <= 0 for slice.\n  var = nanvar(a, axis=axis, dtype=dtype, out=out, ddof=ddof,\n/tmp/ipykernel_60/294650540.py:24: RuntimeWarning: Mean of empty slice\n/usr/local/lib/python3.11/dist-packages/numpy/lib/nanfunctions.py:1879: RuntimeWarning: Degrees of freedom <= 0 for slice.\n  var = nanvar(a, axis=axis, dtype=dtype, out=out, ddof=ddof,\n/tmp/ipykernel_60/294650540.py:24: RuntimeWarning: Mean of empty slice\n/usr/local/lib/python3.11/dist-packages/numpy/lib/nanfunctions.py:1879: RuntimeWarning: Degrees of freedom <= 0 for slice.\n  var = nanvar(a, axis=axis, dtype=dtype, out=out, ddof=ddof,\n/tmp/ipykernel_60/294650540.py:24: RuntimeWarning: Mean of empty slice\n/usr/local/lib/python3.11/dist-packages/numpy/lib/nanfunctions.py:1879: RuntimeWarning: Degrees of freedom <= 0 for slice.\n  var = nanvar(a, axis=axis, dtype=dtype, out=out, ddof=ddof,\n"
          ]
        },
        {
          "output_type": "stream",
          "name": "stderr",
          "text": [
            "/tmp/ipykernel_60/294650540.py:24: RuntimeWarning: Mean of empty slice\n/usr/local/lib/python3.11/dist-packages/numpy/lib/nanfunctions.py:1879: RuntimeWarning: Degrees of freedom <= 0 for slice.\n  var = nanvar(a, axis=axis, dtype=dtype, out=out, ddof=ddof,\n/tmp/ipykernel_60/294650540.py:24: RuntimeWarning: Mean of empty slice\n/usr/local/lib/python3.11/dist-packages/numpy/lib/nanfunctions.py:1879: RuntimeWarning: Degrees of freedom <= 0 for slice.\n  var = nanvar(a, axis=axis, dtype=dtype, out=out, ddof=ddof,\n/tmp/ipykernel_60/294650540.py:24: RuntimeWarning: Mean of empty slice\n/usr/local/lib/python3.11/dist-packages/numpy/lib/nanfunctions.py:1879: RuntimeWarning: Degrees of freedom <= 0 for slice.\n  var = nanvar(a, axis=axis, dtype=dtype, out=out, ddof=ddof,\n/tmp/ipykernel_60/294650540.py:24: RuntimeWarning: Mean of empty slice\n/usr/local/lib/python3.11/dist-packages/numpy/lib/nanfunctions.py:1879: RuntimeWarning: Degrees of freedom <= 0 for slice.\n  var = nanvar(a, axis=axis, dtype=dtype, out=out, ddof=ddof,\n/tmp/ipykernel_60/294650540.py:24: RuntimeWarning: Mean of empty slice\n/usr/local/lib/python3.11/dist-packages/numpy/lib/nanfunctions.py:1879: RuntimeWarning: Degrees of freedom <= 0 for slice.\n  var = nanvar(a, axis=axis, dtype=dtype, out=out, ddof=ddof,\n/tmp/ipykernel_60/294650540.py:24: RuntimeWarning: Mean of empty slice\n/usr/local/lib/python3.11/dist-packages/numpy/lib/nanfunctions.py:1879: RuntimeWarning: Degrees of freedom <= 0 for slice.\n  var = nanvar(a, axis=axis, dtype=dtype, out=out, ddof=ddof,\n/tmp/ipykernel_60/294650540.py:24: RuntimeWarning: Mean of empty slice\n/usr/local/lib/python3.11/dist-packages/numpy/lib/nanfunctions.py:1879: RuntimeWarning: Degrees of freedom <= 0 for slice.\n  var = nanvar(a, axis=axis, dtype=dtype, out=out, ddof=ddof,\n/tmp/ipykernel_60/294650540.py:24: RuntimeWarning: Mean of empty slice\n/usr/local/lib/python3.11/dist-packages/numpy/lib/nanfunctions.py:1879: RuntimeWarning: Degrees of freedom <= 0 for slice.\n  var = nanvar(a, axis=axis, dtype=dtype, out=out, ddof=ddof,\n"
          ]
        },
        {
          "output_type": "stream",
          "name": "stderr",
          "text": [
            "/tmp/ipykernel_60/294650540.py:24: RuntimeWarning: Mean of empty slice\n/usr/local/lib/python3.11/dist-packages/numpy/lib/nanfunctions.py:1879: RuntimeWarning: Degrees of freedom <= 0 for slice.\n  var = nanvar(a, axis=axis, dtype=dtype, out=out, ddof=ddof,\n/tmp/ipykernel_60/294650540.py:24: RuntimeWarning: Mean of empty slice\n/usr/local/lib/python3.11/dist-packages/numpy/lib/nanfunctions.py:1879: RuntimeWarning: Degrees of freedom <= 0 for slice.\n  var = nanvar(a, axis=axis, dtype=dtype, out=out, ddof=ddof,\n/tmp/ipykernel_60/294650540.py:24: RuntimeWarning: Mean of empty slice\n/usr/local/lib/python3.11/dist-packages/numpy/lib/nanfunctions.py:1879: RuntimeWarning: Degrees of freedom <= 0 for slice.\n  var = nanvar(a, axis=axis, dtype=dtype, out=out, ddof=ddof,\n/tmp/ipykernel_60/294650540.py:24: RuntimeWarning: Mean of empty slice\n/usr/local/lib/python3.11/dist-packages/numpy/lib/nanfunctions.py:1879: RuntimeWarning: Degrees of freedom <= 0 for slice.\n  var = nanvar(a, axis=axis, dtype=dtype, out=out, ddof=ddof,\n/tmp/ipykernel_60/294650540.py:24: RuntimeWarning: Mean of empty slice\n/usr/local/lib/python3.11/dist-packages/numpy/lib/nanfunctions.py:1879: RuntimeWarning: Degrees of freedom <= 0 for slice.\n  var = nanvar(a, axis=axis, dtype=dtype, out=out, ddof=ddof,\n/tmp/ipykernel_60/294650540.py:24: RuntimeWarning: Mean of empty slice\n/usr/local/lib/python3.11/dist-packages/numpy/lib/nanfunctions.py:1879: RuntimeWarning: Degrees of freedom <= 0 for slice.\n  var = nanvar(a, axis=axis, dtype=dtype, out=out, ddof=ddof,\n/tmp/ipykernel_60/294650540.py:24: RuntimeWarning: Mean of empty slice\n/usr/local/lib/python3.11/dist-packages/numpy/lib/nanfunctions.py:1879: RuntimeWarning: Degrees of freedom <= 0 for slice.\n  var = nanvar(a, axis=axis, dtype=dtype, out=out, ddof=ddof,\n"
          ]
        },
        {
          "output_type": "stream",
          "name": "stderr",
          "text": [
            "/tmp/ipykernel_60/294650540.py:24: RuntimeWarning: Mean of empty slice\n/usr/local/lib/python3.11/dist-packages/numpy/lib/nanfunctions.py:1879: RuntimeWarning: Degrees of freedom <= 0 for slice.\n  var = nanvar(a, axis=axis, dtype=dtype, out=out, ddof=ddof,\n/tmp/ipykernel_60/294650540.py:24: RuntimeWarning: Mean of empty slice\n/usr/local/lib/python3.11/dist-packages/numpy/lib/nanfunctions.py:1879: RuntimeWarning: Degrees of freedom <= 0 for slice.\n  var = nanvar(a, axis=axis, dtype=dtype, out=out, ddof=ddof,\n/tmp/ipykernel_60/294650540.py:24: RuntimeWarning: Mean of empty slice\n/usr/local/lib/python3.11/dist-packages/numpy/lib/nanfunctions.py:1879: RuntimeWarning: Degrees of freedom <= 0 for slice.\n  var = nanvar(a, axis=axis, dtype=dtype, out=out, ddof=ddof,\n/tmp/ipykernel_60/294650540.py:24: RuntimeWarning: Mean of empty slice\n/usr/local/lib/python3.11/dist-packages/numpy/lib/nanfunctions.py:1879: RuntimeWarning: Degrees of freedom <= 0 for slice.\n  var = nanvar(a, axis=axis, dtype=dtype, out=out, ddof=ddof,\n/tmp/ipykernel_60/294650540.py:24: RuntimeWarning: Mean of empty slice\n/usr/local/lib/python3.11/dist-packages/numpy/lib/nanfunctions.py:1879: RuntimeWarning: Degrees of freedom <= 0 for slice.\n  var = nanvar(a, axis=axis, dtype=dtype, out=out, ddof=ddof,\n/tmp/ipykernel_60/294650540.py:24: RuntimeWarning: Mean of empty slice\n/usr/local/lib/python3.11/dist-packages/numpy/lib/nanfunctions.py:1879: RuntimeWarning: Degrees of freedom <= 0 for slice.\n  var = nanvar(a, axis=axis, dtype=dtype, out=out, ddof=ddof,\n/tmp/ipykernel_60/294650540.py:24: RuntimeWarning: Mean of empty slice\n/usr/local/lib/python3.11/dist-packages/numpy/lib/nanfunctions.py:1879: RuntimeWarning: Degrees of freedom <= 0 for slice.\n  var = nanvar(a, axis=axis, dtype=dtype, out=out, ddof=ddof,\n"
          ]
        },
        {
          "output_type": "stream",
          "name": "stderr",
          "text": [
            "/tmp/ipykernel_60/294650540.py:24: RuntimeWarning: Mean of empty slice\n/usr/local/lib/python3.11/dist-packages/numpy/lib/nanfunctions.py:1879: RuntimeWarning: Degrees of freedom <= 0 for slice.\n  var = nanvar(a, axis=axis, dtype=dtype, out=out, ddof=ddof,\n/tmp/ipykernel_60/294650540.py:24: RuntimeWarning: Mean of empty slice\n/usr/local/lib/python3.11/dist-packages/numpy/lib/nanfunctions.py:1879: RuntimeWarning: Degrees of freedom <= 0 for slice.\n  var = nanvar(a, axis=axis, dtype=dtype, out=out, ddof=ddof,\n/tmp/ipykernel_60/294650540.py:24: RuntimeWarning: Mean of empty slice\n/usr/local/lib/python3.11/dist-packages/numpy/lib/nanfunctions.py:1879: RuntimeWarning: Degrees of freedom <= 0 for slice.\n  var = nanvar(a, axis=axis, dtype=dtype, out=out, ddof=ddof,\n/tmp/ipykernel_60/294650540.py:24: RuntimeWarning: Mean of empty slice\n/usr/local/lib/python3.11/dist-packages/numpy/lib/nanfunctions.py:1879: RuntimeWarning: Degrees of freedom <= 0 for slice.\n  var = nanvar(a, axis=axis, dtype=dtype, out=out, ddof=ddof,\n/tmp/ipykernel_60/294650540.py:24: RuntimeWarning: Mean of empty slice\n/usr/local/lib/python3.11/dist-packages/numpy/lib/nanfunctions.py:1879: RuntimeWarning: Degrees of freedom <= 0 for slice.\n  var = nanvar(a, axis=axis, dtype=dtype, out=out, ddof=ddof,\n/tmp/ipykernel_60/294650540.py:24: RuntimeWarning: Mean of empty slice\n/usr/local/lib/python3.11/dist-packages/numpy/lib/nanfunctions.py:1879: RuntimeWarning: Degrees of freedom <= 0 for slice.\n  var = nanvar(a, axis=axis, dtype=dtype, out=out, ddof=ddof,\n/tmp/ipykernel_60/294650540.py:24: RuntimeWarning: Mean of empty slice\n/usr/local/lib/python3.11/dist-packages/numpy/lib/nanfunctions.py:1879: RuntimeWarning: Degrees of freedom <= 0 for slice.\n  var = nanvar(a, axis=axis, dtype=dtype, out=out, ddof=ddof,\n"
          ]
        },
        {
          "output_type": "stream",
          "name": "stderr",
          "text": [
            "/tmp/ipykernel_60/294650540.py:24: RuntimeWarning: Mean of empty slice\n/usr/local/lib/python3.11/dist-packages/numpy/lib/nanfunctions.py:1879: RuntimeWarning: Degrees of freedom <= 0 for slice.\n  var = nanvar(a, axis=axis, dtype=dtype, out=out, ddof=ddof,\n/tmp/ipykernel_60/294650540.py:24: RuntimeWarning: Mean of empty slice\n/usr/local/lib/python3.11/dist-packages/numpy/lib/nanfunctions.py:1879: RuntimeWarning: Degrees of freedom <= 0 for slice.\n  var = nanvar(a, axis=axis, dtype=dtype, out=out, ddof=ddof,\n/tmp/ipykernel_60/294650540.py:24: RuntimeWarning: Mean of empty slice\n/usr/local/lib/python3.11/dist-packages/numpy/lib/nanfunctions.py:1879: RuntimeWarning: Degrees of freedom <= 0 for slice.\n  var = nanvar(a, axis=axis, dtype=dtype, out=out, ddof=ddof,\n/tmp/ipykernel_60/294650540.py:24: RuntimeWarning: Mean of empty slice\n/usr/local/lib/python3.11/dist-packages/numpy/lib/nanfunctions.py:1879: RuntimeWarning: Degrees of freedom <= 0 for slice.\n  var = nanvar(a, axis=axis, dtype=dtype, out=out, ddof=ddof,\n/tmp/ipykernel_60/294650540.py:24: RuntimeWarning: Mean of empty slice\n/usr/local/lib/python3.11/dist-packages/numpy/lib/nanfunctions.py:1879: RuntimeWarning: Degrees of freedom <= 0 for slice.\n  var = nanvar(a, axis=axis, dtype=dtype, out=out, ddof=ddof,\n/tmp/ipykernel_60/294650540.py:24: RuntimeWarning: Mean of empty slice\n/usr/local/lib/python3.11/dist-packages/numpy/lib/nanfunctions.py:1879: RuntimeWarning: Degrees of freedom <= 0 for slice.\n  var = nanvar(a, axis=axis, dtype=dtype, out=out, ddof=ddof,\n"
          ]
        },
        {
          "output_type": "stream",
          "name": "stderr",
          "text": [
            "/tmp/ipykernel_60/294650540.py:24: RuntimeWarning: Mean of empty slice\n/usr/local/lib/python3.11/dist-packages/numpy/lib/nanfunctions.py:1879: RuntimeWarning: Degrees of freedom <= 0 for slice.\n  var = nanvar(a, axis=axis, dtype=dtype, out=out, ddof=ddof,\n/tmp/ipykernel_60/294650540.py:24: RuntimeWarning: Mean of empty slice\n/usr/local/lib/python3.11/dist-packages/numpy/lib/nanfunctions.py:1879: RuntimeWarning: Degrees of freedom <= 0 for slice.\n  var = nanvar(a, axis=axis, dtype=dtype, out=out, ddof=ddof,\n/tmp/ipykernel_60/294650540.py:24: RuntimeWarning: Mean of empty slice\n/usr/local/lib/python3.11/dist-packages/numpy/lib/nanfunctions.py:1879: RuntimeWarning: Degrees of freedom <= 0 for slice.\n  var = nanvar(a, axis=axis, dtype=dtype, out=out, ddof=ddof,\n/tmp/ipykernel_60/294650540.py:24: RuntimeWarning: Mean of empty slice\n/usr/local/lib/python3.11/dist-packages/numpy/lib/nanfunctions.py:1879: RuntimeWarning: Degrees of freedom <= 0 for slice.\n  var = nanvar(a, axis=axis, dtype=dtype, out=out, ddof=ddof,\n/tmp/ipykernel_60/294650540.py:24: RuntimeWarning: Mean of empty slice\n/usr/local/lib/python3.11/dist-packages/numpy/lib/nanfunctions.py:1879: RuntimeWarning: Degrees of freedom <= 0 for slice.\n  var = nanvar(a, axis=axis, dtype=dtype, out=out, ddof=ddof,\n"
          ]
        },
        {
          "output_type": "stream",
          "name": "stderr",
          "text": [
            "/tmp/ipykernel_60/294650540.py:24: RuntimeWarning: Mean of empty slice\n/usr/local/lib/python3.11/dist-packages/numpy/lib/nanfunctions.py:1879: RuntimeWarning: Degrees of freedom <= 0 for slice.\n  var = nanvar(a, axis=axis, dtype=dtype, out=out, ddof=ddof,\n/tmp/ipykernel_60/294650540.py:24: RuntimeWarning: Mean of empty slice\n/usr/local/lib/python3.11/dist-packages/numpy/lib/nanfunctions.py:1879: RuntimeWarning: Degrees of freedom <= 0 for slice.\n  var = nanvar(a, axis=axis, dtype=dtype, out=out, ddof=ddof,\n/tmp/ipykernel_60/294650540.py:24: RuntimeWarning: Mean of empty slice\n/usr/local/lib/python3.11/dist-packages/numpy/lib/nanfunctions.py:1879: RuntimeWarning: Degrees of freedom <= 0 for slice.\n  var = nanvar(a, axis=axis, dtype=dtype, out=out, ddof=ddof,\n/tmp/ipykernel_60/294650540.py:24: RuntimeWarning: Mean of empty slice\n/usr/local/lib/python3.11/dist-packages/numpy/lib/nanfunctions.py:1879: RuntimeWarning: Degrees of freedom <= 0 for slice.\n  var = nanvar(a, axis=axis, dtype=dtype, out=out, ddof=ddof,\n/tmp/ipykernel_60/294650540.py:24: RuntimeWarning: Mean of empty slice\n/usr/local/lib/python3.11/dist-packages/numpy/lib/nanfunctions.py:1879: RuntimeWarning: Degrees of freedom <= 0 for slice.\n  var = nanvar(a, axis=axis, dtype=dtype, out=out, ddof=ddof,\n/tmp/ipykernel_60/294650540.py:24: RuntimeWarning: Mean of empty slice\n/usr/local/lib/python3.11/dist-packages/numpy/lib/nanfunctions.py:1879: RuntimeWarning: Degrees of freedom <= 0 for slice.\n  var = nanvar(a, axis=axis, dtype=dtype, out=out, ddof=ddof,\n/tmp/ipykernel_60/294650540.py:24: RuntimeWarning: Mean of empty slice\n/usr/local/lib/python3.11/dist-packages/numpy/lib/nanfunctions.py:1879: RuntimeWarning: Degrees of freedom <= 0 for slice.\n  var = nanvar(a, axis=axis, dtype=dtype, out=out, ddof=ddof,\n"
          ]
        },
        {
          "output_type": "stream",
          "name": "stderr",
          "text": [
            "/tmp/ipykernel_60/294650540.py:24: RuntimeWarning: Mean of empty slice\n/usr/local/lib/python3.11/dist-packages/numpy/lib/nanfunctions.py:1879: RuntimeWarning: Degrees of freedom <= 0 for slice.\n  var = nanvar(a, axis=axis, dtype=dtype, out=out, ddof=ddof,\n/tmp/ipykernel_60/294650540.py:24: RuntimeWarning: Mean of empty slice\n/usr/local/lib/python3.11/dist-packages/numpy/lib/nanfunctions.py:1879: RuntimeWarning: Degrees of freedom <= 0 for slice.\n  var = nanvar(a, axis=axis, dtype=dtype, out=out, ddof=ddof,\n/tmp/ipykernel_60/294650540.py:24: RuntimeWarning: Mean of empty slice\n/usr/local/lib/python3.11/dist-packages/numpy/lib/nanfunctions.py:1879: RuntimeWarning: Degrees of freedom <= 0 for slice.\n  var = nanvar(a, axis=axis, dtype=dtype, out=out, ddof=ddof,\n/tmp/ipykernel_60/294650540.py:24: RuntimeWarning: Mean of empty slice\n/usr/local/lib/python3.11/dist-packages/numpy/lib/nanfunctions.py:1879: RuntimeWarning: Degrees of freedom <= 0 for slice.\n  var = nanvar(a, axis=axis, dtype=dtype, out=out, ddof=ddof,\n/tmp/ipykernel_60/294650540.py:24: RuntimeWarning: Mean of empty slice\n/usr/local/lib/python3.11/dist-packages/numpy/lib/nanfunctions.py:1879: RuntimeWarning: Degrees of freedom <= 0 for slice.\n  var = nanvar(a, axis=axis, dtype=dtype, out=out, ddof=ddof,\n/tmp/ipykernel_60/294650540.py:24: RuntimeWarning: Mean of empty slice\n/usr/local/lib/python3.11/dist-packages/numpy/lib/nanfunctions.py:1879: RuntimeWarning: Degrees of freedom <= 0 for slice.\n  var = nanvar(a, axis=axis, dtype=dtype, out=out, ddof=ddof,\n/tmp/ipykernel_60/294650540.py:24: RuntimeWarning: Mean of empty slice\n/usr/local/lib/python3.11/dist-packages/numpy/lib/nanfunctions.py:1879: RuntimeWarning: Degrees of freedom <= 0 for slice.\n  var = nanvar(a, axis=axis, dtype=dtype, out=out, ddof=ddof,\n/tmp/ipykernel_60/294650540.py:24: RuntimeWarning: Mean of empty slice\n/usr/local/lib/python3.11/dist-packages/numpy/lib/nanfunctions.py:1879: RuntimeWarning: Degrees of freedom <= 0 for slice.\n  var = nanvar(a, axis=axis, dtype=dtype, out=out, ddof=ddof,\n"
          ]
        },
        {
          "output_type": "stream",
          "name": "stderr",
          "text": [
            "/tmp/ipykernel_60/294650540.py:24: RuntimeWarning: Mean of empty slice\n/usr/local/lib/python3.11/dist-packages/numpy/lib/nanfunctions.py:1879: RuntimeWarning: Degrees of freedom <= 0 for slice.\n  var = nanvar(a, axis=axis, dtype=dtype, out=out, ddof=ddof,\n/tmp/ipykernel_60/294650540.py:24: RuntimeWarning: Mean of empty slice\n/usr/local/lib/python3.11/dist-packages/numpy/lib/nanfunctions.py:1879: RuntimeWarning: Degrees of freedom <= 0 for slice.\n  var = nanvar(a, axis=axis, dtype=dtype, out=out, ddof=ddof,\n/tmp/ipykernel_60/294650540.py:24: RuntimeWarning: Mean of empty slice\n/usr/local/lib/python3.11/dist-packages/numpy/lib/nanfunctions.py:1879: RuntimeWarning: Degrees of freedom <= 0 for slice.\n  var = nanvar(a, axis=axis, dtype=dtype, out=out, ddof=ddof,\n/tmp/ipykernel_60/294650540.py:24: RuntimeWarning: Mean of empty slice\n/usr/local/lib/python3.11/dist-packages/numpy/lib/nanfunctions.py:1879: RuntimeWarning: Degrees of freedom <= 0 for slice.\n  var = nanvar(a, axis=axis, dtype=dtype, out=out, ddof=ddof,\n/tmp/ipykernel_60/294650540.py:24: RuntimeWarning: Mean of empty slice\n/usr/local/lib/python3.11/dist-packages/numpy/lib/nanfunctions.py:1879: RuntimeWarning: Degrees of freedom <= 0 for slice.\n  var = nanvar(a, axis=axis, dtype=dtype, out=out, ddof=ddof,\n/tmp/ipykernel_60/294650540.py:24: RuntimeWarning: Mean of empty slice\n/usr/local/lib/python3.11/dist-packages/numpy/lib/nanfunctions.py:1879: RuntimeWarning: Degrees of freedom <= 0 for slice.\n  var = nanvar(a, axis=axis, dtype=dtype, out=out, ddof=ddof,\n"
          ]
        },
        {
          "output_type": "stream",
          "name": "stderr",
          "text": [
            "/tmp/ipykernel_60/294650540.py:24: RuntimeWarning: Mean of empty slice\n/usr/local/lib/python3.11/dist-packages/numpy/lib/nanfunctions.py:1879: RuntimeWarning: Degrees of freedom <= 0 for slice.\n  var = nanvar(a, axis=axis, dtype=dtype, out=out, ddof=ddof,\n/tmp/ipykernel_60/294650540.py:24: RuntimeWarning: Mean of empty slice\n/usr/local/lib/python3.11/dist-packages/numpy/lib/nanfunctions.py:1879: RuntimeWarning: Degrees of freedom <= 0 for slice.\n  var = nanvar(a, axis=axis, dtype=dtype, out=out, ddof=ddof,\n/tmp/ipykernel_60/294650540.py:24: RuntimeWarning: Mean of empty slice\n/usr/local/lib/python3.11/dist-packages/numpy/lib/nanfunctions.py:1879: RuntimeWarning: Degrees of freedom <= 0 for slice.\n  var = nanvar(a, axis=axis, dtype=dtype, out=out, ddof=ddof,\n/tmp/ipykernel_60/294650540.py:24: RuntimeWarning: Mean of empty slice\n/usr/local/lib/python3.11/dist-packages/numpy/lib/nanfunctions.py:1879: RuntimeWarning: Degrees of freedom <= 0 for slice.\n  var = nanvar(a, axis=axis, dtype=dtype, out=out, ddof=ddof,\n/tmp/ipykernel_60/294650540.py:24: RuntimeWarning: Mean of empty slice\n/usr/local/lib/python3.11/dist-packages/numpy/lib/nanfunctions.py:1879: RuntimeWarning: Degrees of freedom <= 0 for slice.\n  var = nanvar(a, axis=axis, dtype=dtype, out=out, ddof=ddof,\n/tmp/ipykernel_60/294650540.py:24: RuntimeWarning: Mean of empty slice\n/usr/local/lib/python3.11/dist-packages/numpy/lib/nanfunctions.py:1879: RuntimeWarning: Degrees of freedom <= 0 for slice.\n  var = nanvar(a, axis=axis, dtype=dtype, out=out, ddof=ddof,\n/tmp/ipykernel_60/294650540.py:24: RuntimeWarning: Mean of empty slice\n/usr/local/lib/python3.11/dist-packages/numpy/lib/nanfunctions.py:1879: RuntimeWarning: Degrees of freedom <= 0 for slice.\n  var = nanvar(a, axis=axis, dtype=dtype, out=out, ddof=ddof,\n/tmp/ipykernel_60/294650540.py:24: RuntimeWarning: Mean of empty slice\n/usr/local/lib/python3.11/dist-packages/numpy/lib/nanfunctions.py:1879: RuntimeWarning: Degrees of freedom <= 0 for slice.\n  var = nanvar(a, axis=axis, dtype=dtype, out=out, ddof=ddof,\n"
          ]
        },
        {
          "output_type": "stream",
          "name": "stderr",
          "text": [
            "/tmp/ipykernel_60/294650540.py:24: RuntimeWarning: Mean of empty slice\n/usr/local/lib/python3.11/dist-packages/numpy/lib/nanfunctions.py:1879: RuntimeWarning: Degrees of freedom <= 0 for slice.\n  var = nanvar(a, axis=axis, dtype=dtype, out=out, ddof=ddof,\n/tmp/ipykernel_60/294650540.py:24: RuntimeWarning: Mean of empty slice\n/usr/local/lib/python3.11/dist-packages/numpy/lib/nanfunctions.py:1879: RuntimeWarning: Degrees of freedom <= 0 for slice.\n  var = nanvar(a, axis=axis, dtype=dtype, out=out, ddof=ddof,\n/tmp/ipykernel_60/294650540.py:24: RuntimeWarning: Mean of empty slice\n/usr/local/lib/python3.11/dist-packages/numpy/lib/nanfunctions.py:1879: RuntimeWarning: Degrees of freedom <= 0 for slice.\n  var = nanvar(a, axis=axis, dtype=dtype, out=out, ddof=ddof,\n/tmp/ipykernel_60/294650540.py:24: RuntimeWarning: Mean of empty slice\n/usr/local/lib/python3.11/dist-packages/numpy/lib/nanfunctions.py:1879: RuntimeWarning: Degrees of freedom <= 0 for slice.\n  var = nanvar(a, axis=axis, dtype=dtype, out=out, ddof=ddof,\n/tmp/ipykernel_60/294650540.py:24: RuntimeWarning: Mean of empty slice\n/usr/local/lib/python3.11/dist-packages/numpy/lib/nanfunctions.py:1879: RuntimeWarning: Degrees of freedom <= 0 for slice.\n  var = nanvar(a, axis=axis, dtype=dtype, out=out, ddof=ddof,\n/tmp/ipykernel_60/294650540.py:24: RuntimeWarning: Mean of empty slice\n/usr/local/lib/python3.11/dist-packages/numpy/lib/nanfunctions.py:1879: RuntimeWarning: Degrees of freedom <= 0 for slice.\n  var = nanvar(a, axis=axis, dtype=dtype, out=out, ddof=ddof,\n/tmp/ipykernel_60/294650540.py:24: RuntimeWarning: Mean of empty slice\n/usr/local/lib/python3.11/dist-packages/numpy/lib/nanfunctions.py:1879: RuntimeWarning: Degrees of freedom <= 0 for slice.\n  var = nanvar(a, axis=axis, dtype=dtype, out=out, ddof=ddof,\n/tmp/ipykernel_60/294650540.py:24: RuntimeWarning: Mean of empty slice\n/usr/local/lib/python3.11/dist-packages/numpy/lib/nanfunctions.py:1879: RuntimeWarning: Degrees of freedom <= 0 for slice.\n  var = nanvar(a, axis=axis, dtype=dtype, out=out, ddof=ddof,\n"
          ]
        },
        {
          "output_type": "stream",
          "name": "stderr",
          "text": [
            "/tmp/ipykernel_60/294650540.py:24: RuntimeWarning: Mean of empty slice\n/usr/local/lib/python3.11/dist-packages/numpy/lib/nanfunctions.py:1879: RuntimeWarning: Degrees of freedom <= 0 for slice.\n  var = nanvar(a, axis=axis, dtype=dtype, out=out, ddof=ddof,\n/tmp/ipykernel_60/294650540.py:24: RuntimeWarning: Mean of empty slice\n/usr/local/lib/python3.11/dist-packages/numpy/lib/nanfunctions.py:1879: RuntimeWarning: Degrees of freedom <= 0 for slice.\n  var = nanvar(a, axis=axis, dtype=dtype, out=out, ddof=ddof,\n/tmp/ipykernel_60/294650540.py:24: RuntimeWarning: Mean of empty slice\n/usr/local/lib/python3.11/dist-packages/numpy/lib/nanfunctions.py:1879: RuntimeWarning: Degrees of freedom <= 0 for slice.\n  var = nanvar(a, axis=axis, dtype=dtype, out=out, ddof=ddof,\n/tmp/ipykernel_60/294650540.py:24: RuntimeWarning: Mean of empty slice\n/usr/local/lib/python3.11/dist-packages/numpy/lib/nanfunctions.py:1879: RuntimeWarning: Degrees of freedom <= 0 for slice.\n  var = nanvar(a, axis=axis, dtype=dtype, out=out, ddof=ddof,\n/tmp/ipykernel_60/294650540.py:24: RuntimeWarning: Mean of empty slice\n/usr/local/lib/python3.11/dist-packages/numpy/lib/nanfunctions.py:1879: RuntimeWarning: Degrees of freedom <= 0 for slice.\n  var = nanvar(a, axis=axis, dtype=dtype, out=out, ddof=ddof,\n/tmp/ipykernel_60/294650540.py:24: RuntimeWarning: Mean of empty slice\n/usr/local/lib/python3.11/dist-packages/numpy/lib/nanfunctions.py:1879: RuntimeWarning: Degrees of freedom <= 0 for slice.\n  var = nanvar(a, axis=axis, dtype=dtype, out=out, ddof=ddof,\n/tmp/ipykernel_60/294650540.py:24: RuntimeWarning: Mean of empty slice\n/usr/local/lib/python3.11/dist-packages/numpy/lib/nanfunctions.py:1879: RuntimeWarning: Degrees of freedom <= 0 for slice.\n  var = nanvar(a, axis=axis, dtype=dtype, out=out, ddof=ddof,\n"
          ]
        },
        {
          "output_type": "stream",
          "name": "stderr",
          "text": [
            "/tmp/ipykernel_60/294650540.py:24: RuntimeWarning: Mean of empty slice\n/usr/local/lib/python3.11/dist-packages/numpy/lib/nanfunctions.py:1879: RuntimeWarning: Degrees of freedom <= 0 for slice.\n  var = nanvar(a, axis=axis, dtype=dtype, out=out, ddof=ddof,\n/tmp/ipykernel_60/294650540.py:24: RuntimeWarning: Mean of empty slice\n/usr/local/lib/python3.11/dist-packages/numpy/lib/nanfunctions.py:1879: RuntimeWarning: Degrees of freedom <= 0 for slice.\n  var = nanvar(a, axis=axis, dtype=dtype, out=out, ddof=ddof,\n/tmp/ipykernel_60/294650540.py:24: RuntimeWarning: Mean of empty slice\n/usr/local/lib/python3.11/dist-packages/numpy/lib/nanfunctions.py:1879: RuntimeWarning: Degrees of freedom <= 0 for slice.\n  var = nanvar(a, axis=axis, dtype=dtype, out=out, ddof=ddof,\n/tmp/ipykernel_60/294650540.py:24: RuntimeWarning: Mean of empty slice\n/usr/local/lib/python3.11/dist-packages/numpy/lib/nanfunctions.py:1879: RuntimeWarning: Degrees of freedom <= 0 for slice.\n  var = nanvar(a, axis=axis, dtype=dtype, out=out, ddof=ddof,\n/tmp/ipykernel_60/294650540.py:24: RuntimeWarning: Mean of empty slice\n/usr/local/lib/python3.11/dist-packages/numpy/lib/nanfunctions.py:1879: RuntimeWarning: Degrees of freedom <= 0 for slice.\n  var = nanvar(a, axis=axis, dtype=dtype, out=out, ddof=ddof,\n/tmp/ipykernel_60/294650540.py:24: RuntimeWarning: Mean of empty slice\n/usr/local/lib/python3.11/dist-packages/numpy/lib/nanfunctions.py:1879: RuntimeWarning: Degrees of freedom <= 0 for slice.\n  var = nanvar(a, axis=axis, dtype=dtype, out=out, ddof=ddof,\n/tmp/ipykernel_60/294650540.py:24: RuntimeWarning: Mean of empty slice\n/usr/local/lib/python3.11/dist-packages/numpy/lib/nanfunctions.py:1879: RuntimeWarning: Degrees of freedom <= 0 for slice.\n  var = nanvar(a, axis=axis, dtype=dtype, out=out, ddof=ddof,\n/tmp/ipykernel_60/294650540.py:24: RuntimeWarning: Mean of empty slice\n/usr/local/lib/python3.11/dist-packages/numpy/lib/nanfunctions.py:1879: RuntimeWarning: Degrees of freedom <= 0 for slice.\n  var = nanvar(a, axis=axis, dtype=dtype, out=out, ddof=ddof,\n/tmp/ipykernel_60/294650540.py:24: RuntimeWarning: Mean of empty slice\n/usr/local/lib/python3.11/dist-packages/numpy/lib/nanfunctions.py:1879: RuntimeWarning: Degrees of freedom <= 0 for slice.\n  var = nanvar(a, axis=axis, dtype=dtype, out=out, ddof=ddof,\n/tmp/ipykernel_60/294650540.py:24: RuntimeWarning: Mean of empty slice\n/usr/local/lib/python3.11/dist-packages/numpy/lib/nanfunctions.py:1879: RuntimeWarning: Degrees of freedom <= 0 for slice.\n  var = nanvar(a, axis=axis, dtype=dtype, out=out, ddof=ddof,\n/tmp/ipykernel_60/294650540.py:24: RuntimeWarning: Mean of empty slice\n/usr/local/lib/python3.11/dist-packages/numpy/lib/nanfunctions.py:1879: RuntimeWarning: Degrees of freedom <= 0 for slice.\n  var = nanvar(a, axis=axis, dtype=dtype, out=out, ddof=ddof,\n/tmp/ipykernel_60/294650540.py:24: RuntimeWarning: Mean of empty slice\n/usr/local/lib/python3.11/dist-packages/numpy/lib/nanfunctions.py:1879: RuntimeWarning: Degrees of freedom <= 0 for slice.\n  var = nanvar(a, axis=axis, dtype=dtype, out=out, ddof=ddof,\n/tmp/ipykernel_60/294650540.py:24: RuntimeWarning: Mean of empty slice\n/usr/local/lib/python3.11/dist-packages/numpy/lib/nanfunctions.py:1879: RuntimeWarning: Degrees of freedom <= 0 for slice.\n  var = nanvar(a, axis=axis, dtype=dtype, out=out, ddof=ddof,\n"
          ]
        },
        {
          "output_type": "stream",
          "name": "stderr",
          "text": [
            "/tmp/ipykernel_60/294650540.py:24: RuntimeWarning: Mean of empty slice\n/usr/local/lib/python3.11/dist-packages/numpy/lib/nanfunctions.py:1879: RuntimeWarning: Degrees of freedom <= 0 for slice.\n  var = nanvar(a, axis=axis, dtype=dtype, out=out, ddof=ddof,\n/tmp/ipykernel_60/294650540.py:24: RuntimeWarning: Mean of empty slice\n/usr/local/lib/python3.11/dist-packages/numpy/lib/nanfunctions.py:1879: RuntimeWarning: Degrees of freedom <= 0 for slice.\n  var = nanvar(a, axis=axis, dtype=dtype, out=out, ddof=ddof,\n/tmp/ipykernel_60/294650540.py:24: RuntimeWarning: Mean of empty slice\n/tmp/ipykernel_60/294650540.py:24: RuntimeWarning: Mean of empty slice\n/usr/local/lib/python3.11/dist-packages/numpy/lib/nanfunctions.py:1879: RuntimeWarning: Degrees of freedom <= 0 for slice.\n  var = nanvar(a, axis=axis, dtype=dtype, out=out, ddof=ddof,\n/usr/local/lib/python3.11/dist-packages/numpy/lib/nanfunctions.py:1879: RuntimeWarning: Degrees of freedom <= 0 for slice.\n  var = nanvar(a, axis=axis, dtype=dtype, out=out, ddof=ddof,\n/tmp/ipykernel_60/294650540.py:24: RuntimeWarning: Mean of empty slice\n/usr/local/lib/python3.11/dist-packages/numpy/lib/nanfunctions.py:1879: RuntimeWarning: Degrees of freedom <= 0 for slice.\n  var = nanvar(a, axis=axis, dtype=dtype, out=out, ddof=ddof,\n/tmp/ipykernel_60/294650540.py:24: RuntimeWarning: Mean of empty slice\n/usr/local/lib/python3.11/dist-packages/numpy/lib/nanfunctions.py:1879: RuntimeWarning: Degrees of freedom <= 0 for slice.\n  var = nanvar(a, axis=axis, dtype=dtype, out=out, ddof=ddof,\n/tmp/ipykernel_60/294650540.py:24: RuntimeWarning: Mean of empty slice\n/usr/local/lib/python3.11/dist-packages/numpy/lib/nanfunctions.py:1879: RuntimeWarning: Degrees of freedom <= 0 for slice.\n  var = nanvar(a, axis=axis, dtype=dtype, out=out, ddof=ddof,\n"
          ]
        },
        {
          "output_type": "stream",
          "name": "stderr",
          "text": [
            "/tmp/ipykernel_60/294650540.py:24: RuntimeWarning: Mean of empty slice\n/usr/local/lib/python3.11/dist-packages/numpy/lib/nanfunctions.py:1879: RuntimeWarning: Degrees of freedom <= 0 for slice.\n  var = nanvar(a, axis=axis, dtype=dtype, out=out, ddof=ddof,\n/tmp/ipykernel_60/294650540.py:24: RuntimeWarning: Mean of empty slice\n/usr/local/lib/python3.11/dist-packages/numpy/lib/nanfunctions.py:1879: RuntimeWarning: Degrees of freedom <= 0 for slice.\n  var = nanvar(a, axis=axis, dtype=dtype, out=out, ddof=ddof,\n/tmp/ipykernel_60/294650540.py:24: RuntimeWarning: Mean of empty slice\n/usr/local/lib/python3.11/dist-packages/numpy/lib/nanfunctions.py:1879: RuntimeWarning: Degrees of freedom <= 0 for slice.\n  var = nanvar(a, axis=axis, dtype=dtype, out=out, ddof=ddof,\n/tmp/ipykernel_60/294650540.py:24: RuntimeWarning: Mean of empty slice\n/usr/local/lib/python3.11/dist-packages/numpy/lib/nanfunctions.py:1879: RuntimeWarning: Degrees of freedom <= 0 for slice.\n  var = nanvar(a, axis=axis, dtype=dtype, out=out, ddof=ddof,\n/tmp/ipykernel_60/294650540.py:24: RuntimeWarning: Mean of empty slice\n/usr/local/lib/python3.11/dist-packages/numpy/lib/nanfunctions.py:1879: RuntimeWarning: Degrees of freedom <= 0 for slice.\n  var = nanvar(a, axis=axis, dtype=dtype, out=out, ddof=ddof,\n/tmp/ipykernel_60/294650540.py:24: RuntimeWarning: Mean of empty slice\n/usr/local/lib/python3.11/dist-packages/numpy/lib/nanfunctions.py:1879: RuntimeWarning: Degrees of freedom <= 0 for slice.\n  var = nanvar(a, axis=axis, dtype=dtype, out=out, ddof=ddof,\n/tmp/ipykernel_60/294650540.py:24: RuntimeWarning: Mean of empty slice\n/usr/local/lib/python3.11/dist-packages/numpy/lib/nanfunctions.py:1879: RuntimeWarning: Degrees of freedom <= 0 for slice.\n  var = nanvar(a, axis=axis, dtype=dtype, out=out, ddof=ddof,\n/tmp/ipykernel_60/294650540.py:24: RuntimeWarning: Mean of empty slice\n/usr/local/lib/python3.11/dist-packages/numpy/lib/nanfunctions.py:1879: RuntimeWarning: Degrees of freedom <= 0 for slice.\n  var = nanvar(a, axis=axis, dtype=dtype, out=out, ddof=ddof,\n/tmp/ipykernel_60/294650540.py:24: RuntimeWarning: Mean of empty slice\n/usr/local/lib/python3.11/dist-packages/numpy/lib/nanfunctions.py:1879: RuntimeWarning: Degrees of freedom <= 0 for slice.\n  var = nanvar(a, axis=axis, dtype=dtype, out=out, ddof=ddof,\n/tmp/ipykernel_60/294650540.py:24: RuntimeWarning: Mean of empty slice\n/usr/local/lib/python3.11/dist-packages/numpy/lib/nanfunctions.py:1879: RuntimeWarning: Degrees of freedom <= 0 for slice.\n  var = nanvar(a, axis=axis, dtype=dtype, out=out, ddof=ddof,\n"
          ]
        },
        {
          "output_type": "stream",
          "name": "stderr",
          "text": [
            "/tmp/ipykernel_60/294650540.py:24: RuntimeWarning: Mean of empty slice\n/usr/local/lib/python3.11/dist-packages/numpy/lib/nanfunctions.py:1879: RuntimeWarning: Degrees of freedom <= 0 for slice.\n  var = nanvar(a, axis=axis, dtype=dtype, out=out, ddof=ddof,\n/tmp/ipykernel_60/294650540.py:24: RuntimeWarning: Mean of empty slice\n/usr/local/lib/python3.11/dist-packages/numpy/lib/nanfunctions.py:1879: RuntimeWarning: Degrees of freedom <= 0 for slice.\n  var = nanvar(a, axis=axis, dtype=dtype, out=out, ddof=ddof,\n/tmp/ipykernel_60/294650540.py:24: RuntimeWarning: Mean of empty slice\n/usr/local/lib/python3.11/dist-packages/numpy/lib/nanfunctions.py:1879: RuntimeWarning: Degrees of freedom <= 0 for slice.\n  var = nanvar(a, axis=axis, dtype=dtype, out=out, ddof=ddof,\n/tmp/ipykernel_60/294650540.py:24: RuntimeWarning: Mean of empty slice\n/usr/local/lib/python3.11/dist-packages/numpy/lib/nanfunctions.py:1879: RuntimeWarning: Degrees of freedom <= 0 for slice.\n  var = nanvar(a, axis=axis, dtype=dtype, out=out, ddof=ddof,\n/tmp/ipykernel_60/294650540.py:24: RuntimeWarning: Mean of empty slice\n/usr/local/lib/python3.11/dist-packages/numpy/lib/nanfunctions.py:1879: RuntimeWarning: Degrees of freedom <= 0 for slice.\n  var = nanvar(a, axis=axis, dtype=dtype, out=out, ddof=ddof,\n"
          ]
        },
        {
          "output_type": "stream",
          "name": "stderr",
          "text": [
            "/tmp/ipykernel_60/294650540.py:24: RuntimeWarning: Mean of empty slice\n/usr/local/lib/python3.11/dist-packages/numpy/lib/nanfunctions.py:1879: RuntimeWarning: Degrees of freedom <= 0 for slice.\n  var = nanvar(a, axis=axis, dtype=dtype, out=out, ddof=ddof,\n/tmp/ipykernel_60/294650540.py:24: RuntimeWarning: Mean of empty slice\n/usr/local/lib/python3.11/dist-packages/numpy/lib/nanfunctions.py:1879: RuntimeWarning: Degrees of freedom <= 0 for slice.\n  var = nanvar(a, axis=axis, dtype=dtype, out=out, ddof=ddof,\n/tmp/ipykernel_60/294650540.py:24: RuntimeWarning: Mean of empty slice\n/usr/local/lib/python3.11/dist-packages/numpy/lib/nanfunctions.py:1879: RuntimeWarning: Degrees of freedom <= 0 for slice.\n  var = nanvar(a, axis=axis, dtype=dtype, out=out, ddof=ddof,\n/tmp/ipykernel_60/294650540.py:24: RuntimeWarning: Mean of empty slice\n/usr/local/lib/python3.11/dist-packages/numpy/lib/nanfunctions.py:1879: RuntimeWarning: Degrees of freedom <= 0 for slice.\n  var = nanvar(a, axis=axis, dtype=dtype, out=out, ddof=ddof,\n/tmp/ipykernel_60/294650540.py:24: RuntimeWarning: Mean of empty slice\n/usr/local/lib/python3.11/dist-packages/numpy/lib/nanfunctions.py:1879: RuntimeWarning: Degrees of freedom <= 0 for slice.\n  var = nanvar(a, axis=axis, dtype=dtype, out=out, ddof=ddof,\n/tmp/ipykernel_60/294650540.py:24: RuntimeWarning: Mean of empty slice\n/usr/local/lib/python3.11/dist-packages/numpy/lib/nanfunctions.py:1879: RuntimeWarning: Degrees of freedom <= 0 for slice.\n  var = nanvar(a, axis=axis, dtype=dtype, out=out, ddof=ddof,\n/tmp/ipykernel_60/294650540.py:24: RuntimeWarning: Mean of empty slice\n/usr/local/lib/python3.11/dist-packages/numpy/lib/nanfunctions.py:1879: RuntimeWarning: Degrees of freedom <= 0 for slice.\n  var = nanvar(a, axis=axis, dtype=dtype, out=out, ddof=ddof,\n"
          ]
        },
        {
          "output_type": "stream",
          "name": "stderr",
          "text": [
            "/tmp/ipykernel_60/294650540.py:24: RuntimeWarning: Mean of empty slice\n/usr/local/lib/python3.11/dist-packages/numpy/lib/nanfunctions.py:1879: RuntimeWarning: Degrees of freedom <= 0 for slice.\n  var = nanvar(a, axis=axis, dtype=dtype, out=out, ddof=ddof,\n/tmp/ipykernel_60/294650540.py:24: RuntimeWarning: Mean of empty slice\n/usr/local/lib/python3.11/dist-packages/numpy/lib/nanfunctions.py:1879: RuntimeWarning: Degrees of freedom <= 0 for slice.\n  var = nanvar(a, axis=axis, dtype=dtype, out=out, ddof=ddof,\n/tmp/ipykernel_60/294650540.py:24: RuntimeWarning: Mean of empty slice\n/usr/local/lib/python3.11/dist-packages/numpy/lib/nanfunctions.py:1879: RuntimeWarning: Degrees of freedom <= 0 for slice.\n  var = nanvar(a, axis=axis, dtype=dtype, out=out, ddof=ddof,\n/tmp/ipykernel_60/294650540.py:24: RuntimeWarning: Mean of empty slice\n/usr/local/lib/python3.11/dist-packages/numpy/lib/nanfunctions.py:1879: RuntimeWarning: Degrees of freedom <= 0 for slice.\n  var = nanvar(a, axis=axis, dtype=dtype, out=out, ddof=ddof,\n/tmp/ipykernel_60/294650540.py:24: RuntimeWarning: Mean of empty slice\n/usr/local/lib/python3.11/dist-packages/numpy/lib/nanfunctions.py:1879: RuntimeWarning: Degrees of freedom <= 0 for slice.\n  var = nanvar(a, axis=axis, dtype=dtype, out=out, ddof=ddof,\n/tmp/ipykernel_60/294650540.py:24: RuntimeWarning: Mean of empty slice\n/usr/local/lib/python3.11/dist-packages/numpy/lib/nanfunctions.py:1879: RuntimeWarning: Degrees of freedom <= 0 for slice.\n  var = nanvar(a, axis=axis, dtype=dtype, out=out, ddof=ddof,\n/tmp/ipykernel_60/294650540.py:24: RuntimeWarning: Mean of empty slice\n/usr/local/lib/python3.11/dist-packages/numpy/lib/nanfunctions.py:1879: RuntimeWarning: Degrees of freedom <= 0 for slice.\n  var = nanvar(a, axis=axis, dtype=dtype, out=out, ddof=ddof,\n"
          ]
        },
        {
          "output_type": "stream",
          "name": "stderr",
          "text": [
            "/tmp/ipykernel_60/294650540.py:24: RuntimeWarning: Mean of empty slice\n/usr/local/lib/python3.11/dist-packages/numpy/lib/nanfunctions.py:1879: RuntimeWarning: Degrees of freedom <= 0 for slice.\n  var = nanvar(a, axis=axis, dtype=dtype, out=out, ddof=ddof,\n/tmp/ipykernel_60/294650540.py:24: RuntimeWarning: Mean of empty slice\n/usr/local/lib/python3.11/dist-packages/numpy/lib/nanfunctions.py:1879: RuntimeWarning: Degrees of freedom <= 0 for slice.\n  var = nanvar(a, axis=axis, dtype=dtype, out=out, ddof=ddof,\n/tmp/ipykernel_60/294650540.py:24: RuntimeWarning: Mean of empty slice\n/usr/local/lib/python3.11/dist-packages/numpy/lib/nanfunctions.py:1879: RuntimeWarning: Degrees of freedom <= 0 for slice.\n  var = nanvar(a, axis=axis, dtype=dtype, out=out, ddof=ddof,\n/tmp/ipykernel_60/294650540.py:24: RuntimeWarning: Mean of empty slice\n/usr/local/lib/python3.11/dist-packages/numpy/lib/nanfunctions.py:1879: RuntimeWarning: Degrees of freedom <= 0 for slice.\n  var = nanvar(a, axis=axis, dtype=dtype, out=out, ddof=ddof,\n/tmp/ipykernel_60/294650540.py:24: RuntimeWarning: Mean of empty slice\n/tmp/ipykernel_60/294650540.py:24: RuntimeWarning: Mean of empty slice\n/usr/local/lib/python3.11/dist-packages/numpy/lib/nanfunctions.py:1879: RuntimeWarning: Degrees of freedom <= 0 for slice.\n  var = nanvar(a, axis=axis, dtype=dtype, out=out, ddof=ddof,\n/usr/local/lib/python3.11/dist-packages/numpy/lib/nanfunctions.py:1879: RuntimeWarning: Degrees of freedom <= 0 for slice.\n  var = nanvar(a, axis=axis, dtype=dtype, out=out, ddof=ddof,\n/tmp/ipykernel_60/294650540.py:24: RuntimeWarning: Mean of empty slice\n/usr/local/lib/python3.11/dist-packages/numpy/lib/nanfunctions.py:1879: RuntimeWarning: Degrees of freedom <= 0 for slice.\n  var = nanvar(a, axis=axis, dtype=dtype, out=out, ddof=ddof,\n/tmp/ipykernel_60/294650540.py:24: RuntimeWarning: Mean of empty slice\n/usr/local/lib/python3.11/dist-packages/numpy/lib/nanfunctions.py:1879: RuntimeWarning: Degrees of freedom <= 0 for slice.\n  var = nanvar(a, axis=axis, dtype=dtype, out=out, ddof=ddof,\n/tmp/ipykernel_60/294650540.py:24: RuntimeWarning: Mean of empty slice\n/usr/local/lib/python3.11/dist-packages/numpy/lib/nanfunctions.py:1879: RuntimeWarning: Degrees of freedom <= 0 for slice.\n  var = nanvar(a, axis=axis, dtype=dtype, out=out, ddof=ddof,\n"
          ]
        },
        {
          "output_type": "stream",
          "name": "stderr",
          "text": [
            "/tmp/ipykernel_60/294650540.py:24: RuntimeWarning: Mean of empty slice\n/usr/local/lib/python3.11/dist-packages/numpy/lib/nanfunctions.py:1879: RuntimeWarning: Degrees of freedom <= 0 for slice.\n  var = nanvar(a, axis=axis, dtype=dtype, out=out, ddof=ddof,\n/tmp/ipykernel_60/294650540.py:24: RuntimeWarning: Mean of empty slice\n/usr/local/lib/python3.11/dist-packages/numpy/lib/nanfunctions.py:1879: RuntimeWarning: Degrees of freedom <= 0 for slice.\n  var = nanvar(a, axis=axis, dtype=dtype, out=out, ddof=ddof,\n/tmp/ipykernel_60/294650540.py:24: RuntimeWarning: Mean of empty slice\n/usr/local/lib/python3.11/dist-packages/numpy/lib/nanfunctions.py:1879: RuntimeWarning: Degrees of freedom <= 0 for slice.\n  var = nanvar(a, axis=axis, dtype=dtype, out=out, ddof=ddof,\n/tmp/ipykernel_60/294650540.py:24: RuntimeWarning: Mean of empty slice\n/usr/local/lib/python3.11/dist-packages/numpy/lib/nanfunctions.py:1879: RuntimeWarning: Degrees of freedom <= 0 for slice.\n  var = nanvar(a, axis=axis, dtype=dtype, out=out, ddof=ddof,\n/tmp/ipykernel_60/294650540.py:24: RuntimeWarning: Mean of empty slice\n/usr/local/lib/python3.11/dist-packages/numpy/lib/nanfunctions.py:1879: RuntimeWarning: Degrees of freedom <= 0 for slice.\n  var = nanvar(a, axis=axis, dtype=dtype, out=out, ddof=ddof,\n/tmp/ipykernel_60/294650540.py:24: RuntimeWarning: Mean of empty slice\n/usr/local/lib/python3.11/dist-packages/numpy/lib/nanfunctions.py:1879: RuntimeWarning: Degrees of freedom <= 0 for slice.\n  var = nanvar(a, axis=axis, dtype=dtype, out=out, ddof=ddof,\n/tmp/ipykernel_60/294650540.py:24: RuntimeWarning: Mean of empty slice\n/usr/local/lib/python3.11/dist-packages/numpy/lib/nanfunctions.py:1879: RuntimeWarning: Degrees of freedom <= 0 for slice.\n  var = nanvar(a, axis=axis, dtype=dtype, out=out, ddof=ddof,\n/tmp/ipykernel_60/294650540.py:24: RuntimeWarning: Mean of empty slice\n/usr/local/lib/python3.11/dist-packages/numpy/lib/nanfunctions.py:1879: RuntimeWarning: Degrees of freedom <= 0 for slice.\n  var = nanvar(a, axis=axis, dtype=dtype, out=out, ddof=ddof,\n/tmp/ipykernel_60/294650540.py:24: RuntimeWarning: Mean of empty slice\n/usr/local/lib/python3.11/dist-packages/numpy/lib/nanfunctions.py:1879: RuntimeWarning: Degrees of freedom <= 0 for slice.\n  var = nanvar(a, axis=axis, dtype=dtype, out=out, ddof=ddof,\n"
          ]
        },
        {
          "output_type": "stream",
          "name": "stderr",
          "text": [
            "/tmp/ipykernel_60/294650540.py:24: RuntimeWarning: Mean of empty slice\n/usr/local/lib/python3.11/dist-packages/numpy/lib/nanfunctions.py:1879: RuntimeWarning: Degrees of freedom <= 0 for slice.\n  var = nanvar(a, axis=axis, dtype=dtype, out=out, ddof=ddof,\n/tmp/ipykernel_60/294650540.py:24: RuntimeWarning: Mean of empty slice\n/usr/local/lib/python3.11/dist-packages/numpy/lib/nanfunctions.py:1879: RuntimeWarning: Degrees of freedom <= 0 for slice.\n  var = nanvar(a, axis=axis, dtype=dtype, out=out, ddof=ddof,\n/tmp/ipykernel_60/294650540.py:24: RuntimeWarning: Mean of empty slice\n/usr/local/lib/python3.11/dist-packages/numpy/lib/nanfunctions.py:1879: RuntimeWarning: Degrees of freedom <= 0 for slice.\n  var = nanvar(a, axis=axis, dtype=dtype, out=out, ddof=ddof,\n/tmp/ipykernel_60/294650540.py:24: RuntimeWarning: Mean of empty slice\n/usr/local/lib/python3.11/dist-packages/numpy/lib/nanfunctions.py:1879: RuntimeWarning: Degrees of freedom <= 0 for slice.\n  var = nanvar(a, axis=axis, dtype=dtype, out=out, ddof=ddof,\n/tmp/ipykernel_60/294650540.py:24: RuntimeWarning: Mean of empty slice\n/usr/local/lib/python3.11/dist-packages/numpy/lib/nanfunctions.py:1879: RuntimeWarning: Degrees of freedom <= 0 for slice.\n  var = nanvar(a, axis=axis, dtype=dtype, out=out, ddof=ddof,\n/tmp/ipykernel_60/294650540.py:24: RuntimeWarning: Mean of empty slice\n/usr/local/lib/python3.11/dist-packages/numpy/lib/nanfunctions.py:1879: RuntimeWarning: Degrees of freedom <= 0 for slice.\n  var = nanvar(a, axis=axis, dtype=dtype, out=out, ddof=ddof,\n/tmp/ipykernel_60/294650540.py:24: RuntimeWarning: Mean of empty slice\n/usr/local/lib/python3.11/dist-packages/numpy/lib/nanfunctions.py:1879: RuntimeWarning: Degrees of freedom <= 0 for slice.\n  var = nanvar(a, axis=axis, dtype=dtype, out=out, ddof=ddof,\n/tmp/ipykernel_60/294650540.py:24: RuntimeWarning: Mean of empty slice\n/usr/local/lib/python3.11/dist-packages/numpy/lib/nanfunctions.py:1879: RuntimeWarning: Degrees of freedom <= 0 for slice.\n  var = nanvar(a, axis=axis, dtype=dtype, out=out, ddof=ddof,\n/tmp/ipykernel_60/294650540.py:24: RuntimeWarning: Mean of empty slice\n"
          ]
        },
        {
          "output_type": "stream",
          "name": "stderr",
          "text": [
            "/usr/local/lib/python3.11/dist-packages/numpy/lib/nanfunctions.py:1879: RuntimeWarning: Degrees of freedom <= 0 for slice.\n  var = nanvar(a, axis=axis, dtype=dtype, out=out, ddof=ddof,\n/tmp/ipykernel_60/294650540.py:24: RuntimeWarning: Mean of empty slice\n/usr/local/lib/python3.11/dist-packages/numpy/lib/nanfunctions.py:1879: RuntimeWarning: Degrees of freedom <= 0 for slice.\n  var = nanvar(a, axis=axis, dtype=dtype, out=out, ddof=ddof,\n/tmp/ipykernel_60/294650540.py:24: RuntimeWarning: Mean of empty slice\n/usr/local/lib/python3.11/dist-packages/numpy/lib/nanfunctions.py:1879: RuntimeWarning: Degrees of freedom <= 0 for slice.\n  var = nanvar(a, axis=axis, dtype=dtype, out=out, ddof=ddof,\n/tmp/ipykernel_60/294650540.py:24: RuntimeWarning: Mean of empty slice\n/usr/local/lib/python3.11/dist-packages/numpy/lib/nanfunctions.py:1879: RuntimeWarning: Degrees of freedom <= 0 for slice.\n  var = nanvar(a, axis=axis, dtype=dtype, out=out, ddof=ddof,\n/tmp/ipykernel_60/294650540.py:24: RuntimeWarning: Mean of empty slice\n/usr/local/lib/python3.11/dist-packages/numpy/lib/nanfunctions.py:1879: RuntimeWarning: Degrees of freedom <= 0 for slice.\n  var = nanvar(a, axis=axis, dtype=dtype, out=out, ddof=ddof,\n/tmp/ipykernel_60/294650540.py:24: RuntimeWarning: Mean of empty slice\n/tmp/ipykernel_60/294650540.py:24: RuntimeWarning: Mean of empty slice\n/usr/local/lib/python3.11/dist-packages/numpy/lib/nanfunctions.py:1879: RuntimeWarning: Degrees of freedom <= 0 for slice.\n  var = nanvar(a, axis=axis, dtype=dtype, out=out, ddof=ddof,\n/usr/local/lib/python3.11/dist-packages/numpy/lib/nanfunctions.py:1879: RuntimeWarning: Degrees of freedom <= 0 for slice.\n  var = nanvar(a, axis=axis, dtype=dtype, out=out, ddof=ddof,\n/tmp/ipykernel_60/294650540.py:24: RuntimeWarning: Mean of empty slice\n/usr/local/lib/python3.11/dist-packages/numpy/lib/nanfunctions.py:1879: RuntimeWarning: Degrees of freedom <= 0 for slice.\n  var = nanvar(a, axis=axis, dtype=dtype, out=out, ddof=ddof,\n/tmp/ipykernel_60/294650540.py:24: RuntimeWarning: Mean of empty slice\n/usr/local/lib/python3.11/dist-packages/numpy/lib/nanfunctions.py:1879: RuntimeWarning: Degrees of freedom <= 0 for slice.\n  var = nanvar(a, axis=axis, dtype=dtype, out=out, ddof=ddof,\n"
          ]
        },
        {
          "output_type": "stream",
          "name": "stderr",
          "text": [
            "/tmp/ipykernel_60/294650540.py:24: RuntimeWarning: Mean of empty slice\n/usr/local/lib/python3.11/dist-packages/numpy/lib/nanfunctions.py:1879: RuntimeWarning: Degrees of freedom <= 0 for slice.\n  var = nanvar(a, axis=axis, dtype=dtype, out=out, ddof=ddof,\n/tmp/ipykernel_60/294650540.py:24: RuntimeWarning: Mean of empty slice\n/usr/local/lib/python3.11/dist-packages/numpy/lib/nanfunctions.py:1879: RuntimeWarning: Degrees of freedom <= 0 for slice.\n  var = nanvar(a, axis=axis, dtype=dtype, out=out, ddof=ddof,\n/tmp/ipykernel_60/294650540.py:24: RuntimeWarning: Mean of empty slice\n/usr/local/lib/python3.11/dist-packages/numpy/lib/nanfunctions.py:1879: RuntimeWarning: Degrees of freedom <= 0 for slice.\n  var = nanvar(a, axis=axis, dtype=dtype, out=out, ddof=ddof,\n/tmp/ipykernel_60/294650540.py:24: RuntimeWarning: Mean of empty slice\n/usr/local/lib/python3.11/dist-packages/numpy/lib/nanfunctions.py:1879: RuntimeWarning: Degrees of freedom <= 0 for slice.\n  var = nanvar(a, axis=axis, dtype=dtype, out=out, ddof=ddof,\n/tmp/ipykernel_60/294650540.py:24: RuntimeWarning: Mean of empty slice\n/usr/local/lib/python3.11/dist-packages/numpy/lib/nanfunctions.py:1879: RuntimeWarning: Degrees of freedom <= 0 for slice.\n  var = nanvar(a, axis=axis, dtype=dtype, out=out, ddof=ddof,\n/tmp/ipykernel_60/294650540.py:24: RuntimeWarning: Mean of empty slice\n/usr/local/lib/python3.11/dist-packages/numpy/lib/nanfunctions.py:1879: RuntimeWarning: Degrees of freedom <= 0 for slice.\n  var = nanvar(a, axis=axis, dtype=dtype, out=out, ddof=ddof,\n/tmp/ipykernel_60/294650540.py:24: RuntimeWarning: Mean of empty slice\n/usr/local/lib/python3.11/dist-packages/numpy/lib/nanfunctions.py:1879: RuntimeWarning: Degrees of freedom <= 0 for slice.\n  var = nanvar(a, axis=axis, dtype=dtype, out=out, ddof=ddof,\n"
          ]
        },
        {
          "output_type": "stream",
          "name": "stderr",
          "text": [
            "/tmp/ipykernel_60/294650540.py:24: RuntimeWarning: Mean of empty slice\n/usr/local/lib/python3.11/dist-packages/numpy/lib/nanfunctions.py:1879: RuntimeWarning: Degrees of freedom <= 0 for slice.\n  var = nanvar(a, axis=axis, dtype=dtype, out=out, ddof=ddof,\n/tmp/ipykernel_60/294650540.py:24: RuntimeWarning: Mean of empty slice\n/usr/local/lib/python3.11/dist-packages/numpy/lib/nanfunctions.py:1879: RuntimeWarning: Degrees of freedom <= 0 for slice.\n  var = nanvar(a, axis=axis, dtype=dtype, out=out, ddof=ddof,\n/tmp/ipykernel_60/294650540.py:24: RuntimeWarning: Mean of empty slice\n/usr/local/lib/python3.11/dist-packages/numpy/lib/nanfunctions.py:1879: RuntimeWarning: Degrees of freedom <= 0 for slice.\n  var = nanvar(a, axis=axis, dtype=dtype, out=out, ddof=ddof,\n/tmp/ipykernel_60/294650540.py:24: RuntimeWarning: Mean of empty slice\n/usr/local/lib/python3.11/dist-packages/numpy/lib/nanfunctions.py:1879: RuntimeWarning: Degrees of freedom <= 0 for slice.\n  var = nanvar(a, axis=axis, dtype=dtype, out=out, ddof=ddof,\n/tmp/ipykernel_60/294650540.py:24: RuntimeWarning: Mean of empty slice\n/usr/local/lib/python3.11/dist-packages/numpy/lib/nanfunctions.py:1879: RuntimeWarning: Degrees of freedom <= 0 for slice.\n  var = nanvar(a, axis=axis, dtype=dtype, out=out, ddof=ddof,\n/tmp/ipykernel_60/294650540.py:24: RuntimeWarning: Mean of empty slice\n/usr/local/lib/python3.11/dist-packages/numpy/lib/nanfunctions.py:1879: RuntimeWarning: Degrees of freedom <= 0 for slice.\n  var = nanvar(a, axis=axis, dtype=dtype, out=out, ddof=ddof,\n/tmp/ipykernel_60/294650540.py:24: RuntimeWarning: Mean of empty slice\n/usr/local/lib/python3.11/dist-packages/numpy/lib/nanfunctions.py:1879: RuntimeWarning: Degrees of freedom <= 0 for slice.\n  var = nanvar(a, axis=axis, dtype=dtype, out=out, ddof=ddof,\n"
          ]
        },
        {
          "output_type": "stream",
          "name": "stderr",
          "text": [
            "/tmp/ipykernel_60/294650540.py:24: RuntimeWarning: Mean of empty slice\n/usr/local/lib/python3.11/dist-packages/numpy/lib/nanfunctions.py:1879: RuntimeWarning: Degrees of freedom <= 0 for slice.\n  var = nanvar(a, axis=axis, dtype=dtype, out=out, ddof=ddof,\n/tmp/ipykernel_60/294650540.py:24: RuntimeWarning: Mean of empty slice\n/usr/local/lib/python3.11/dist-packages/numpy/lib/nanfunctions.py:1879: RuntimeWarning: Degrees of freedom <= 0 for slice.\n  var = nanvar(a, axis=axis, dtype=dtype, out=out, ddof=ddof,\n/tmp/ipykernel_60/294650540.py:24: RuntimeWarning: Mean of empty slice\n/usr/local/lib/python3.11/dist-packages/numpy/lib/nanfunctions.py:1879: RuntimeWarning: Degrees of freedom <= 0 for slice.\n  var = nanvar(a, axis=axis, dtype=dtype, out=out, ddof=ddof,\n/tmp/ipykernel_60/294650540.py:24: RuntimeWarning: Mean of empty slice\n/usr/local/lib/python3.11/dist-packages/numpy/lib/nanfunctions.py:1879: RuntimeWarning: Degrees of freedom <= 0 for slice.\n  var = nanvar(a, axis=axis, dtype=dtype, out=out, ddof=ddof,\n/tmp/ipykernel_60/294650540.py:24: RuntimeWarning: Mean of empty slice\n/usr/local/lib/python3.11/dist-packages/numpy/lib/nanfunctions.py:1879: RuntimeWarning: Degrees of freedom <= 0 for slice.\n  var = nanvar(a, axis=axis, dtype=dtype, out=out, ddof=ddof,\n/tmp/ipykernel_60/294650540.py:24: RuntimeWarning: Mean of empty slice\n/usr/local/lib/python3.11/dist-packages/numpy/lib/nanfunctions.py:1879: RuntimeWarning: Degrees of freedom <= 0 for slice.\n  var = nanvar(a, axis=axis, dtype=dtype, out=out, ddof=ddof,\n"
          ]
        },
        {
          "output_type": "stream",
          "name": "stderr",
          "text": [
            "/tmp/ipykernel_60/294650540.py:24: RuntimeWarning: Mean of empty slice\n/usr/local/lib/python3.11/dist-packages/numpy/lib/nanfunctions.py:1879: RuntimeWarning: Degrees of freedom <= 0 for slice.\n  var = nanvar(a, axis=axis, dtype=dtype, out=out, ddof=ddof,\n/tmp/ipykernel_60/294650540.py:24: RuntimeWarning: Mean of empty slice\n/usr/local/lib/python3.11/dist-packages/numpy/lib/nanfunctions.py:1879: RuntimeWarning: Degrees of freedom <= 0 for slice.\n  var = nanvar(a, axis=axis, dtype=dtype, out=out, ddof=ddof,\n/tmp/ipykernel_60/294650540.py:24: RuntimeWarning: Mean of empty slice\n/usr/local/lib/python3.11/dist-packages/numpy/lib/nanfunctions.py:1879: RuntimeWarning: Degrees of freedom <= 0 for slice.\n  var = nanvar(a, axis=axis, dtype=dtype, out=out, ddof=ddof,\n/tmp/ipykernel_60/294650540.py:24: RuntimeWarning: Mean of empty slice\n/usr/local/lib/python3.11/dist-packages/numpy/lib/nanfunctions.py:1879: RuntimeWarning: Degrees of freedom <= 0 for slice.\n  var = nanvar(a, axis=axis, dtype=dtype, out=out, ddof=ddof,\n/tmp/ipykernel_60/294650540.py:24: RuntimeWarning: Mean of empty slice\n/usr/local/lib/python3.11/dist-packages/numpy/lib/nanfunctions.py:1879: RuntimeWarning: Degrees of freedom <= 0 for slice.\n  var = nanvar(a, axis=axis, dtype=dtype, out=out, ddof=ddof,\n/tmp/ipykernel_60/294650540.py:24: RuntimeWarning: Mean of empty slice\n/usr/local/lib/python3.11/dist-packages/numpy/lib/nanfunctions.py:1879: RuntimeWarning: Degrees of freedom <= 0 for slice.\n  var = nanvar(a, axis=axis, dtype=dtype, out=out, ddof=ddof,\n"
          ]
        },
        {
          "output_type": "stream",
          "name": "stderr",
          "text": [
            "/tmp/ipykernel_60/294650540.py:24: RuntimeWarning: Mean of empty slice\n/usr/local/lib/python3.11/dist-packages/numpy/lib/nanfunctions.py:1879: RuntimeWarning: Degrees of freedom <= 0 for slice.\n  var = nanvar(a, axis=axis, dtype=dtype, out=out, ddof=ddof,\n/tmp/ipykernel_60/294650540.py:24: RuntimeWarning: Mean of empty slice\n/usr/local/lib/python3.11/dist-packages/numpy/lib/nanfunctions.py:1879: RuntimeWarning: Degrees of freedom <= 0 for slice.\n  var = nanvar(a, axis=axis, dtype=dtype, out=out, ddof=ddof,\n/tmp/ipykernel_60/294650540.py:24: RuntimeWarning: Mean of empty slice\n/usr/local/lib/python3.11/dist-packages/numpy/lib/nanfunctions.py:1879: RuntimeWarning: Degrees of freedom <= 0 for slice.\n  var = nanvar(a, axis=axis, dtype=dtype, out=out, ddof=ddof,\n/tmp/ipykernel_60/294650540.py:24: RuntimeWarning: Mean of empty slice\n/usr/local/lib/python3.11/dist-packages/numpy/lib/nanfunctions.py:1879: RuntimeWarning: Degrees of freedom <= 0 for slice.\n  var = nanvar(a, axis=axis, dtype=dtype, out=out, ddof=ddof,\n/tmp/ipykernel_60/294650540.py:24: RuntimeWarning: Mean of empty slice\n/usr/local/lib/python3.11/dist-packages/numpy/lib/nanfunctions.py:1879: RuntimeWarning: Degrees of freedom <= 0 for slice.\n  var = nanvar(a, axis=axis, dtype=dtype, out=out, ddof=ddof,\n/tmp/ipykernel_60/294650540.py:24: RuntimeWarning: Mean of empty slice\n/usr/local/lib/python3.11/dist-packages/numpy/lib/nanfunctions.py:1879: RuntimeWarning: Degrees of freedom <= 0 for slice.\n  var = nanvar(a, axis=axis, dtype=dtype, out=out, ddof=ddof,\n/tmp/ipykernel_60/294650540.py:24: RuntimeWarning: Mean of empty slice\n/usr/local/lib/python3.11/dist-packages/numpy/lib/nanfunctions.py:1879: RuntimeWarning: Degrees of freedom <= 0 for slice.\n  var = nanvar(a, axis=axis, dtype=dtype, out=out, ddof=ddof,\n"
          ]
        },
        {
          "output_type": "stream",
          "name": "stderr",
          "text": [
            "/tmp/ipykernel_60/294650540.py:24: RuntimeWarning: Mean of empty slice\n/usr/local/lib/python3.11/dist-packages/numpy/lib/nanfunctions.py:1879: RuntimeWarning: Degrees of freedom <= 0 for slice.\n  var = nanvar(a, axis=axis, dtype=dtype, out=out, ddof=ddof,\n/tmp/ipykernel_60/294650540.py:24: RuntimeWarning: Mean of empty slice\n/usr/local/lib/python3.11/dist-packages/numpy/lib/nanfunctions.py:1879: RuntimeWarning: Degrees of freedom <= 0 for slice.\n  var = nanvar(a, axis=axis, dtype=dtype, out=out, ddof=ddof,\n/tmp/ipykernel_60/294650540.py:24: RuntimeWarning: Mean of empty slice\n/usr/local/lib/python3.11/dist-packages/numpy/lib/nanfunctions.py:1879: RuntimeWarning: Degrees of freedom <= 0 for slice.\n  var = nanvar(a, axis=axis, dtype=dtype, out=out, ddof=ddof,\n/tmp/ipykernel_60/294650540.py:24: RuntimeWarning: Mean of empty slice\n/usr/local/lib/python3.11/dist-packages/numpy/lib/nanfunctions.py:1879: RuntimeWarning: Degrees of freedom <= 0 for slice.\n  var = nanvar(a, axis=axis, dtype=dtype, out=out, ddof=ddof,\n/tmp/ipykernel_60/294650540.py:24: RuntimeWarning: Mean of empty slice\n/usr/local/lib/python3.11/dist-packages/numpy/lib/nanfunctions.py:1879: RuntimeWarning: Degrees of freedom <= 0 for slice.\n  var = nanvar(a, axis=axis, dtype=dtype, out=out, ddof=ddof,\n/tmp/ipykernel_60/294650540.py:24: RuntimeWarning: Mean of empty slice\n/usr/local/lib/python3.11/dist-packages/numpy/lib/nanfunctions.py:1879: RuntimeWarning: Degrees of freedom <= 0 for slice.\n  var = nanvar(a, axis=axis, dtype=dtype, out=out, ddof=ddof,\n/tmp/ipykernel_60/294650540.py:24: RuntimeWarning: Mean of empty slice\n/usr/local/lib/python3.11/dist-packages/numpy/lib/nanfunctions.py:1879: RuntimeWarning: Degrees of freedom <= 0 for slice.\n  var = nanvar(a, axis=axis, dtype=dtype, out=out, ddof=ddof,\n"
          ]
        },
        {
          "output_type": "stream",
          "name": "stderr",
          "text": [
            "/tmp/ipykernel_60/294650540.py:24: RuntimeWarning: Mean of empty slice\n/usr/local/lib/python3.11/dist-packages/numpy/lib/nanfunctions.py:1879: RuntimeWarning: Degrees of freedom <= 0 for slice.\n  var = nanvar(a, axis=axis, dtype=dtype, out=out, ddof=ddof,\n/tmp/ipykernel_60/294650540.py:24: RuntimeWarning: Mean of empty slice\n/usr/local/lib/python3.11/dist-packages/numpy/lib/nanfunctions.py:1879: RuntimeWarning: Degrees of freedom <= 0 for slice.\n  var = nanvar(a, axis=axis, dtype=dtype, out=out, ddof=ddof,\n/tmp/ipykernel_60/294650540.py:24: RuntimeWarning: Mean of empty slice\n/usr/local/lib/python3.11/dist-packages/numpy/lib/nanfunctions.py:1879: RuntimeWarning: Degrees of freedom <= 0 for slice.\n  var = nanvar(a, axis=axis, dtype=dtype, out=out, ddof=ddof,\n/tmp/ipykernel_60/294650540.py:24: RuntimeWarning: Mean of empty slice\n/usr/local/lib/python3.11/dist-packages/numpy/lib/nanfunctions.py:1879: RuntimeWarning: Degrees of freedom <= 0 for slice.\n  var = nanvar(a, axis=axis, dtype=dtype, out=out, ddof=ddof,\n/tmp/ipykernel_60/294650540.py:24: RuntimeWarning: Mean of empty slice\n/usr/local/lib/python3.11/dist-packages/numpy/lib/nanfunctions.py:1879: RuntimeWarning: Degrees of freedom <= 0 for slice.\n  var = nanvar(a, axis=axis, dtype=dtype, out=out, ddof=ddof,\n/tmp/ipykernel_60/294650540.py:24: RuntimeWarning: Mean of empty slice\n/usr/local/lib/python3.11/dist-packages/numpy/lib/nanfunctions.py:1879: RuntimeWarning: Degrees of freedom <= 0 for slice.\n  var = nanvar(a, axis=axis, dtype=dtype, out=out, ddof=ddof,\n/tmp/ipykernel_60/294650540.py:24: RuntimeWarning: Mean of empty slice\n/usr/local/lib/python3.11/dist-packages/numpy/lib/nanfunctions.py:1879: RuntimeWarning: Degrees of freedom <= 0 for slice.\n  var = nanvar(a, axis=axis, dtype=dtype, out=out, ddof=ddof,\n/tmp/ipykernel_60/294650540.py:24: RuntimeWarning: Mean of empty slice\n/usr/local/lib/python3.11/dist-packages/numpy/lib/nanfunctions.py:1879: RuntimeWarning: Degrees of freedom <= 0 for slice.\n  var = nanvar(a, axis=axis, dtype=dtype, out=out, ddof=ddof,\n"
          ]
        },
        {
          "output_type": "stream",
          "name": "stderr",
          "text": [
            "/tmp/ipykernel_60/294650540.py:24: RuntimeWarning: Mean of empty slice\n/usr/local/lib/python3.11/dist-packages/numpy/lib/nanfunctions.py:1879: RuntimeWarning: Degrees of freedom <= 0 for slice.\n  var = nanvar(a, axis=axis, dtype=dtype, out=out, ddof=ddof,\n/tmp/ipykernel_60/294650540.py:24: RuntimeWarning: Mean of empty slice\n/usr/local/lib/python3.11/dist-packages/numpy/lib/nanfunctions.py:1879: RuntimeWarning: Degrees of freedom <= 0 for slice.\n  var = nanvar(a, axis=axis, dtype=dtype, out=out, ddof=ddof,\n/tmp/ipykernel_60/294650540.py:24: RuntimeWarning: Mean of empty slice\n/usr/local/lib/python3.11/dist-packages/numpy/lib/nanfunctions.py:1879: RuntimeWarning: Degrees of freedom <= 0 for slice.\n  var = nanvar(a, axis=axis, dtype=dtype, out=out, ddof=ddof,\n/tmp/ipykernel_60/294650540.py:24: RuntimeWarning: Mean of empty slice\n/usr/local/lib/python3.11/dist-packages/numpy/lib/nanfunctions.py:1879: RuntimeWarning: Degrees of freedom <= 0 for slice.\n  var = nanvar(a, axis=axis, dtype=dtype, out=out, ddof=ddof,\n/tmp/ipykernel_60/294650540.py:24: RuntimeWarning: Mean of empty slice\n/usr/local/lib/python3.11/dist-packages/numpy/lib/nanfunctions.py:1879: RuntimeWarning: Degrees of freedom <= 0 for slice.\n  var = nanvar(a, axis=axis, dtype=dtype, out=out, ddof=ddof,\n/tmp/ipykernel_60/294650540.py:24: RuntimeWarning: Mean of empty slice\n/usr/local/lib/python3.11/dist-packages/numpy/lib/nanfunctions.py:1879: RuntimeWarning: Degrees of freedom <= 0 for slice.\n  var = nanvar(a, axis=axis, dtype=dtype, out=out, ddof=ddof,\n/tmp/ipykernel_60/294650540.py:24: RuntimeWarning: Mean of empty slice\n/usr/local/lib/python3.11/dist-packages/numpy/lib/nanfunctions.py:1879: RuntimeWarning: Degrees of freedom <= 0 for slice.\n  var = nanvar(a, axis=axis, dtype=dtype, out=out, ddof=ddof,\n/tmp/ipykernel_60/294650540.py:24: RuntimeWarning: Mean of empty slice\n/usr/local/lib/python3.11/dist-packages/numpy/lib/nanfunctions.py:1879: RuntimeWarning: Degrees of freedom <= 0 for slice.\n  var = nanvar(a, axis=axis, dtype=dtype, out=out, ddof=ddof,\n/tmp/ipykernel_60/294650540.py:24: RuntimeWarning: Mean of empty slice\n/usr/local/lib/python3.11/dist-packages/numpy/lib/nanfunctions.py:1879: RuntimeWarning: Degrees of freedom <= 0 for slice.\n  var = nanvar(a, axis=axis, dtype=dtype, out=out, ddof=ddof,\n"
          ]
        },
        {
          "output_type": "stream",
          "name": "stderr",
          "text": [
            "/tmp/ipykernel_60/294650540.py:24: RuntimeWarning: Mean of empty slice\n/usr/local/lib/python3.11/dist-packages/numpy/lib/nanfunctions.py:1879: RuntimeWarning: Degrees of freedom <= 0 for slice.\n  var = nanvar(a, axis=axis, dtype=dtype, out=out, ddof=ddof,\n/tmp/ipykernel_60/294650540.py:24: RuntimeWarning: Mean of empty slice\n/usr/local/lib/python3.11/dist-packages/numpy/lib/nanfunctions.py:1879: RuntimeWarning: Degrees of freedom <= 0 for slice.\n  var = nanvar(a, axis=axis, dtype=dtype, out=out, ddof=ddof,\n/tmp/ipykernel_60/294650540.py:24: RuntimeWarning: Mean of empty slice\n/usr/local/lib/python3.11/dist-packages/numpy/lib/nanfunctions.py:1879: RuntimeWarning: Degrees of freedom <= 0 for slice.\n  var = nanvar(a, axis=axis, dtype=dtype, out=out, ddof=ddof,\n/tmp/ipykernel_60/294650540.py:24: RuntimeWarning: Mean of empty slice\n/usr/local/lib/python3.11/dist-packages/numpy/lib/nanfunctions.py:1879: RuntimeWarning: Degrees of freedom <= 0 for slice.\n  var = nanvar(a, axis=axis, dtype=dtype, out=out, ddof=ddof,\n/tmp/ipykernel_60/294650540.py:24: RuntimeWarning: Mean of empty slice\n/usr/local/lib/python3.11/dist-packages/numpy/lib/nanfunctions.py:1879: RuntimeWarning: Degrees of freedom <= 0 for slice.\n  var = nanvar(a, axis=axis, dtype=dtype, out=out, ddof=ddof,\n/tmp/ipykernel_60/294650540.py:24: RuntimeWarning: Mean of empty slice\n/usr/local/lib/python3.11/dist-packages/numpy/lib/nanfunctions.py:1879: RuntimeWarning: Degrees of freedom <= 0 for slice.\n  var = nanvar(a, axis=axis, dtype=dtype, out=out, ddof=ddof,\n/tmp/ipykernel_60/294650540.py:24: RuntimeWarning: Mean of empty slice\n/usr/local/lib/python3.11/dist-packages/numpy/lib/nanfunctions.py:1879: RuntimeWarning: Degrees of freedom <= 0 for slice.\n  var = nanvar(a, axis=axis, dtype=dtype, out=out, ddof=ddof,\n"
          ]
        },
        {
          "output_type": "stream",
          "name": "stderr",
          "text": [
            "/tmp/ipykernel_60/294650540.py:24: RuntimeWarning: Mean of empty slice\n/usr/local/lib/python3.11/dist-packages/numpy/lib/nanfunctions.py:1879: RuntimeWarning: Degrees of freedom <= 0 for slice.\n  var = nanvar(a, axis=axis, dtype=dtype, out=out, ddof=ddof,\n/tmp/ipykernel_60/294650540.py:24: RuntimeWarning: Mean of empty slice\n/usr/local/lib/python3.11/dist-packages/numpy/lib/nanfunctions.py:1879: RuntimeWarning: Degrees of freedom <= 0 for slice.\n  var = nanvar(a, axis=axis, dtype=dtype, out=out, ddof=ddof,\n/tmp/ipykernel_60/294650540.py:24: RuntimeWarning: Mean of empty slice\n/usr/local/lib/python3.11/dist-packages/numpy/lib/nanfunctions.py:1879: RuntimeWarning: Degrees of freedom <= 0 for slice.\n  var = nanvar(a, axis=axis, dtype=dtype, out=out, ddof=ddof,\n/tmp/ipykernel_60/294650540.py:24: RuntimeWarning: Mean of empty slice\n/usr/local/lib/python3.11/dist-packages/numpy/lib/nanfunctions.py:1879: RuntimeWarning: Degrees of freedom <= 0 for slice.\n  var = nanvar(a, axis=axis, dtype=dtype, out=out, ddof=ddof,\n/tmp/ipykernel_60/294650540.py:24: RuntimeWarning: Mean of empty slice\n/usr/local/lib/python3.11/dist-packages/numpy/lib/nanfunctions.py:1879: RuntimeWarning: Degrees of freedom <= 0 for slice.\n  var = nanvar(a, axis=axis, dtype=dtype, out=out, ddof=ddof,\n/tmp/ipykernel_60/294650540.py:24: RuntimeWarning: Mean of empty slice\n/usr/local/lib/python3.11/dist-packages/numpy/lib/nanfunctions.py:1879: RuntimeWarning: Degrees of freedom <= 0 for slice.\n  var = nanvar(a, axis=axis, dtype=dtype, out=out, ddof=ddof,\n/tmp/ipykernel_60/294650540.py:24: RuntimeWarning: Mean of empty slice\n/usr/local/lib/python3.11/dist-packages/numpy/lib/nanfunctions.py:1879: RuntimeWarning: Degrees of freedom <= 0 for slice.\n  var = nanvar(a, axis=axis, dtype=dtype, out=out, ddof=ddof,\n/tmp/ipykernel_60/294650540.py:24: RuntimeWarning: Mean of empty slice\n/usr/local/lib/python3.11/dist-packages/numpy/lib/nanfunctions.py:1879: RuntimeWarning: Degrees of freedom <= 0 for slice.\n  var = nanvar(a, axis=axis, dtype=dtype, out=out, ddof=ddof,\n/tmp/ipykernel_60/294650540.py:24: RuntimeWarning: Mean of empty slice\n/usr/local/lib/python3.11/dist-packages/numpy/lib/nanfunctions.py:1879: RuntimeWarning: Degrees of freedom <= 0 for slice.\n  var = nanvar(a, axis=axis, dtype=dtype, out=out, ddof=ddof,\n/tmp/ipykernel_60/294650540.py:24: RuntimeWarning: Mean of empty slice\n/usr/local/lib/python3.11/dist-packages/numpy/lib/nanfunctions.py:1879: RuntimeWarning: Degrees of freedom <= 0 for slice.\n  var = nanvar(a, axis=axis, dtype=dtype, out=out, ddof=ddof,\n/tmp/ipykernel_60/294650540.py:24: RuntimeWarning: Mean of empty slice\n/usr/local/lib/python3.11/dist-packages/numpy/lib/nanfunctions.py:1879: RuntimeWarning: Degrees of freedom <= 0 for slice.\n  var = nanvar(a, axis=axis, dtype=dtype, out=out, ddof=ddof,\n"
          ]
        },
        {
          "output_type": "stream",
          "name": "stderr",
          "text": [
            "/tmp/ipykernel_60/294650540.py:24: RuntimeWarning: Mean of empty slice\n/usr/local/lib/python3.11/dist-packages/numpy/lib/nanfunctions.py:1879: RuntimeWarning: Degrees of freedom <= 0 for slice.\n  var = nanvar(a, axis=axis, dtype=dtype, out=out, ddof=ddof,\n/tmp/ipykernel_60/294650540.py:24: RuntimeWarning: Mean of empty slice\n/usr/local/lib/python3.11/dist-packages/numpy/lib/nanfunctions.py:1879: RuntimeWarning: Degrees of freedom <= 0 for slice.\n  var = nanvar(a, axis=axis, dtype=dtype, out=out, ddof=ddof,\n/tmp/ipykernel_60/294650540.py:24: RuntimeWarning: Mean of empty slice\n/usr/local/lib/python3.11/dist-packages/numpy/lib/nanfunctions.py:1879: RuntimeWarning: Degrees of freedom <= 0 for slice.\n  var = nanvar(a, axis=axis, dtype=dtype, out=out, ddof=ddof,\n/tmp/ipykernel_60/294650540.py:24: RuntimeWarning: Mean of empty slice\n/usr/local/lib/python3.11/dist-packages/numpy/lib/nanfunctions.py:1879: RuntimeWarning: Degrees of freedom <= 0 for slice.\n  var = nanvar(a, axis=axis, dtype=dtype, out=out, ddof=ddof,\n/tmp/ipykernel_60/294650540.py:24: RuntimeWarning: Mean of empty slice\n/usr/local/lib/python3.11/dist-packages/numpy/lib/nanfunctions.py:1879: RuntimeWarning: Degrees of freedom <= 0 for slice.\n  var = nanvar(a, axis=axis, dtype=dtype, out=out, ddof=ddof,\n"
          ]
        },
        {
          "output_type": "stream",
          "name": "stderr",
          "text": [
            "/tmp/ipykernel_60/294650540.py:24: RuntimeWarning: Mean of empty slice\n/usr/local/lib/python3.11/dist-packages/numpy/lib/nanfunctions.py:1879: RuntimeWarning: Degrees of freedom <= 0 for slice.\n  var = nanvar(a, axis=axis, dtype=dtype, out=out, ddof=ddof,\n/tmp/ipykernel_60/294650540.py:24: RuntimeWarning: Mean of empty slice\n/usr/local/lib/python3.11/dist-packages/numpy/lib/nanfunctions.py:1879: RuntimeWarning: Degrees of freedom <= 0 for slice.\n  var = nanvar(a, axis=axis, dtype=dtype, out=out, ddof=ddof,\n/tmp/ipykernel_60/294650540.py:24: RuntimeWarning: Mean of empty slice\n/usr/local/lib/python3.11/dist-packages/numpy/lib/nanfunctions.py:1879: RuntimeWarning: Degrees of freedom <= 0 for slice.\n  var = nanvar(a, axis=axis, dtype=dtype, out=out, ddof=ddof,\n/tmp/ipykernel_60/294650540.py:24: RuntimeWarning: Mean of empty slice\n/usr/local/lib/python3.11/dist-packages/numpy/lib/nanfunctions.py:1879: RuntimeWarning: Degrees of freedom <= 0 for slice.\n  var = nanvar(a, axis=axis, dtype=dtype, out=out, ddof=ddof,\n/tmp/ipykernel_60/294650540.py:24: RuntimeWarning: Mean of empty slice\n/usr/local/lib/python3.11/dist-packages/numpy/lib/nanfunctions.py:1879: RuntimeWarning: Degrees of freedom <= 0 for slice.\n  var = nanvar(a, axis=axis, dtype=dtype, out=out, ddof=ddof,\n/tmp/ipykernel_60/294650540.py:24: RuntimeWarning: Mean of empty slice\n/usr/local/lib/python3.11/dist-packages/numpy/lib/nanfunctions.py:1879: RuntimeWarning: Degrees of freedom <= 0 for slice.\n  var = nanvar(a, axis=axis, dtype=dtype, out=out, ddof=ddof,\n/tmp/ipykernel_60/294650540.py:24: RuntimeWarning: Mean of empty slice\n/usr/local/lib/python3.11/dist-packages/numpy/lib/nanfunctions.py:1879: RuntimeWarning: Degrees of freedom <= 0 for slice.\n  var = nanvar(a, axis=axis, dtype=dtype, out=out, ddof=ddof,\n/tmp/ipykernel_60/294650540.py:24: RuntimeWarning: Mean of empty slice\n/usr/local/lib/python3.11/dist-packages/numpy/lib/nanfunctions.py:1879: RuntimeWarning: Degrees of freedom <= 0 for slice.\n  var = nanvar(a, axis=axis, dtype=dtype, out=out, ddof=ddof,\n"
          ]
        },
        {
          "output_type": "stream",
          "name": "stderr",
          "text": [
            "/tmp/ipykernel_60/294650540.py:24: RuntimeWarning: Mean of empty slice\n/usr/local/lib/python3.11/dist-packages/numpy/lib/nanfunctions.py:1879: RuntimeWarning: Degrees of freedom <= 0 for slice.\n  var = nanvar(a, axis=axis, dtype=dtype, out=out, ddof=ddof,\n/tmp/ipykernel_60/294650540.py:24: RuntimeWarning: Mean of empty slice\n/usr/local/lib/python3.11/dist-packages/numpy/lib/nanfunctions.py:1879: RuntimeWarning: Degrees of freedom <= 0 for slice.\n  var = nanvar(a, axis=axis, dtype=dtype, out=out, ddof=ddof,\n/tmp/ipykernel_60/294650540.py:24: RuntimeWarning: Mean of empty slice\n/usr/local/lib/python3.11/dist-packages/numpy/lib/nanfunctions.py:1879: RuntimeWarning: Degrees of freedom <= 0 for slice.\n  var = nanvar(a, axis=axis, dtype=dtype, out=out, ddof=ddof,\n/tmp/ipykernel_60/294650540.py:24: RuntimeWarning: Mean of empty slice\n/usr/local/lib/python3.11/dist-packages/numpy/lib/nanfunctions.py:1879: RuntimeWarning: Degrees of freedom <= 0 for slice.\n  var = nanvar(a, axis=axis, dtype=dtype, out=out, ddof=ddof,\n/tmp/ipykernel_60/294650540.py:24: RuntimeWarning: Mean of empty slice\n/usr/local/lib/python3.11/dist-packages/numpy/lib/nanfunctions.py:1879: RuntimeWarning: Degrees of freedom <= 0 for slice.\n  var = nanvar(a, axis=axis, dtype=dtype, out=out, ddof=ddof,\n/tmp/ipykernel_60/294650540.py:24: RuntimeWarning: Mean of empty slice\n/usr/local/lib/python3.11/dist-packages/numpy/lib/nanfunctions.py:1879: RuntimeWarning: Degrees of freedom <= 0 for slice.\n  var = nanvar(a, axis=axis, dtype=dtype, out=out, ddof=ddof,\n/tmp/ipykernel_60/294650540.py:24: RuntimeWarning: Mean of empty slice\n/usr/local/lib/python3.11/dist-packages/numpy/lib/nanfunctions.py:1879: RuntimeWarning: Degrees of freedom <= 0 for slice.\n  var = nanvar(a, axis=axis, dtype=dtype, out=out, ddof=ddof,\n/tmp/ipykernel_60/294650540.py:24: RuntimeWarning: Mean of empty slice\n/usr/local/lib/python3.11/dist-packages/numpy/lib/nanfunctions.py:1879: RuntimeWarning: Degrees of freedom <= 0 for slice.\n  var = nanvar(a, axis=axis, dtype=dtype, out=out, ddof=ddof,\n/tmp/ipykernel_60/294650540.py:24: RuntimeWarning: Mean of empty slice\n/usr/local/lib/python3.11/dist-packages/numpy/lib/nanfunctions.py:1879: RuntimeWarning: Degrees of freedom <= 0 for slice.\n  var = nanvar(a, axis=axis, dtype=dtype, out=out, ddof=ddof,\n/tmp/ipykernel_60/294650540.py:24: RuntimeWarning: Mean of empty slice\n/usr/local/lib/python3.11/dist-packages/numpy/lib/nanfunctions.py:1879: RuntimeWarning: Degrees of freedom <= 0 for slice.\n  var = nanvar(a, axis=axis, dtype=dtype, out=out, ddof=ddof,\n/tmp/ipykernel_60/294650540.py:24: RuntimeWarning: Mean of empty slice\n/usr/local/lib/python3.11/dist-packages/numpy/lib/nanfunctions.py:1879: RuntimeWarning: Degrees of freedom <= 0 for slice.\n  var = nanvar(a, axis=axis, dtype=dtype, out=out, ddof=ddof,\n"
          ]
        },
        {
          "output_type": "stream",
          "name": "stderr",
          "text": [
            "/tmp/ipykernel_60/294650540.py:24: RuntimeWarning: Mean of empty slice\n/usr/local/lib/python3.11/dist-packages/numpy/lib/nanfunctions.py:1879: RuntimeWarning: Degrees of freedom <= 0 for slice.\n  var = nanvar(a, axis=axis, dtype=dtype, out=out, ddof=ddof,\n/tmp/ipykernel_60/294650540.py:24: RuntimeWarning: Mean of empty slice\n/usr/local/lib/python3.11/dist-packages/numpy/lib/nanfunctions.py:1879: RuntimeWarning: Degrees of freedom <= 0 for slice.\n  var = nanvar(a, axis=axis, dtype=dtype, out=out, ddof=ddof,\n/tmp/ipykernel_60/294650540.py:24: RuntimeWarning: Mean of empty slice\n/usr/local/lib/python3.11/dist-packages/numpy/lib/nanfunctions.py:1879: RuntimeWarning: Degrees of freedom <= 0 for slice.\n  var = nanvar(a, axis=axis, dtype=dtype, out=out, ddof=ddof,\n/tmp/ipykernel_60/294650540.py:24: RuntimeWarning: Mean of empty slice\n/usr/local/lib/python3.11/dist-packages/numpy/lib/nanfunctions.py:1879: RuntimeWarning: Degrees of freedom <= 0 for slice.\n  var = nanvar(a, axis=axis, dtype=dtype, out=out, ddof=ddof,\n/tmp/ipykernel_60/294650540.py:24: RuntimeWarning: Mean of empty slice\n/usr/local/lib/python3.11/dist-packages/numpy/lib/nanfunctions.py:1879: RuntimeWarning: Degrees of freedom <= 0 for slice.\n  var = nanvar(a, axis=axis, dtype=dtype, out=out, ddof=ddof,\n/tmp/ipykernel_60/294650540.py:24: RuntimeWarning: Mean of empty slice\n/usr/local/lib/python3.11/dist-packages/numpy/lib/nanfunctions.py:1879: RuntimeWarning: Degrees of freedom <= 0 for slice.\n  var = nanvar(a, axis=axis, dtype=dtype, out=out, ddof=ddof,\n/tmp/ipykernel_60/294650540.py:24: RuntimeWarning: Mean of empty slice\n/usr/local/lib/python3.11/dist-packages/numpy/lib/nanfunctions.py:1879: RuntimeWarning: Degrees of freedom <= 0 for slice.\n  var = nanvar(a, axis=axis, dtype=dtype, out=out, ddof=ddof,\n"
          ]
        },
        {
          "output_type": "stream",
          "name": "stderr",
          "text": [
            "/tmp/ipykernel_60/294650540.py:24: RuntimeWarning: Mean of empty slice\n/usr/local/lib/python3.11/dist-packages/numpy/lib/nanfunctions.py:1879: RuntimeWarning: Degrees of freedom <= 0 for slice.\n  var = nanvar(a, axis=axis, dtype=dtype, out=out, ddof=ddof,\n/tmp/ipykernel_60/294650540.py:24: RuntimeWarning: Mean of empty slice\n/usr/local/lib/python3.11/dist-packages/numpy/lib/nanfunctions.py:1879: RuntimeWarning: Degrees of freedom <= 0 for slice.\n  var = nanvar(a, axis=axis, dtype=dtype, out=out, ddof=ddof,\n/tmp/ipykernel_60/294650540.py:24: RuntimeWarning: Mean of empty slice\n/usr/local/lib/python3.11/dist-packages/numpy/lib/nanfunctions.py:1879: RuntimeWarning: Degrees of freedom <= 0 for slice.\n  var = nanvar(a, axis=axis, dtype=dtype, out=out, ddof=ddof,\n/tmp/ipykernel_60/294650540.py:24: RuntimeWarning: Mean of empty slice\n/usr/local/lib/python3.11/dist-packages/numpy/lib/nanfunctions.py:1879: RuntimeWarning: Degrees of freedom <= 0 for slice.\n  var = nanvar(a, axis=axis, dtype=dtype, out=out, ddof=ddof,\n/tmp/ipykernel_60/294650540.py:24: RuntimeWarning: Mean of empty slice\n/usr/local/lib/python3.11/dist-packages/numpy/lib/nanfunctions.py:1879: RuntimeWarning: Degrees of freedom <= 0 for slice.\n  var = nanvar(a, axis=axis, dtype=dtype, out=out, ddof=ddof,\n/tmp/ipykernel_60/294650540.py:24: RuntimeWarning: Mean of empty slice\n/usr/local/lib/python3.11/dist-packages/numpy/lib/nanfunctions.py:1879: RuntimeWarning: Degrees of freedom <= 0 for slice.\n  var = nanvar(a, axis=axis, dtype=dtype, out=out, ddof=ddof,\n/tmp/ipykernel_60/294650540.py:24: RuntimeWarning: Mean of empty slice\n/usr/local/lib/python3.11/dist-packages/numpy/lib/nanfunctions.py:1879: RuntimeWarning: Degrees of freedom <= 0 for slice.\n  var = nanvar(a, axis=axis, dtype=dtype, out=out, ddof=ddof,\n/tmp/ipykernel_60/294650540.py:24: RuntimeWarning: Mean of empty slice\n/usr/local/lib/python3.11/dist-packages/numpy/lib/nanfunctions.py:1879: RuntimeWarning: Degrees of freedom <= 0 for slice.\n  var = nanvar(a, axis=axis, dtype=dtype, out=out, ddof=ddof,\n/tmp/ipykernel_60/294650540.py:24: RuntimeWarning: Mean of empty slice\n/usr/local/lib/python3.11/dist-packages/numpy/lib/nanfunctions.py:1879: RuntimeWarning: Degrees of freedom <= 0 for slice.\n  var = nanvar(a, axis=axis, dtype=dtype, out=out, ddof=ddof,\n/tmp/ipykernel_60/294650540.py:24: RuntimeWarning: Mean of empty slice\n/usr/local/lib/python3.11/dist-packages/numpy/lib/nanfunctions.py:1879: RuntimeWarning: Degrees of freedom <= 0 for slice.\n  var = nanvar(a, axis=axis, dtype=dtype, out=out, ddof=ddof,\n/tmp/ipykernel_60/294650540.py:24: RuntimeWarning: Mean of empty slice\n/usr/local/lib/python3.11/dist-packages/numpy/lib/nanfunctions.py:1879: RuntimeWarning: Degrees of freedom <= 0 for slice.\n  var = nanvar(a, axis=axis, dtype=dtype, out=out, ddof=ddof,\n"
          ]
        },
        {
          "output_type": "stream",
          "name": "stderr",
          "text": [
            "/tmp/ipykernel_60/294650540.py:24: RuntimeWarning: Mean of empty slice\n/usr/local/lib/python3.11/dist-packages/numpy/lib/nanfunctions.py:1879: RuntimeWarning: Degrees of freedom <= 0 for slice.\n  var = nanvar(a, axis=axis, dtype=dtype, out=out, ddof=ddof,\n/tmp/ipykernel_60/294650540.py:24: RuntimeWarning: Mean of empty slice\n/usr/local/lib/python3.11/dist-packages/numpy/lib/nanfunctions.py:1879: RuntimeWarning: Degrees of freedom <= 0 for slice.\n  var = nanvar(a, axis=axis, dtype=dtype, out=out, ddof=ddof,\n/tmp/ipykernel_60/294650540.py:24: RuntimeWarning: Mean of empty slice\n/usr/local/lib/python3.11/dist-packages/numpy/lib/nanfunctions.py:1879: RuntimeWarning: Degrees of freedom <= 0 for slice.\n  var = nanvar(a, axis=axis, dtype=dtype, out=out, ddof=ddof,\n/tmp/ipykernel_60/294650540.py:24: RuntimeWarning: Mean of empty slice\n/usr/local/lib/python3.11/dist-packages/numpy/lib/nanfunctions.py:1879: RuntimeWarning: Degrees of freedom <= 0 for slice.\n  var = nanvar(a, axis=axis, dtype=dtype, out=out, ddof=ddof,\n"
          ]
        },
        {
          "output_type": "stream",
          "name": "stderr",
          "text": [
            "/tmp/ipykernel_60/294650540.py:24: RuntimeWarning: Mean of empty slice\n/usr/local/lib/python3.11/dist-packages/numpy/lib/nanfunctions.py:1879: RuntimeWarning: Degrees of freedom <= 0 for slice.\n  var = nanvar(a, axis=axis, dtype=dtype, out=out, ddof=ddof,\n/tmp/ipykernel_60/294650540.py:24: RuntimeWarning: Mean of empty slice\n/usr/local/lib/python3.11/dist-packages/numpy/lib/nanfunctions.py:1879: RuntimeWarning: Degrees of freedom <= 0 for slice.\n  var = nanvar(a, axis=axis, dtype=dtype, out=out, ddof=ddof,\n/tmp/ipykernel_60/294650540.py:24: RuntimeWarning: Mean of empty slice\n/usr/local/lib/python3.11/dist-packages/numpy/lib/nanfunctions.py:1879: RuntimeWarning: Degrees of freedom <= 0 for slice.\n  var = nanvar(a, axis=axis, dtype=dtype, out=out, ddof=ddof,\n/tmp/ipykernel_60/294650540.py:24: RuntimeWarning: Mean of empty slice\n/usr/local/lib/python3.11/dist-packages/numpy/lib/nanfunctions.py:1879: RuntimeWarning: Degrees of freedom <= 0 for slice.\n  var = nanvar(a, axis=axis, dtype=dtype, out=out, ddof=ddof,\n/tmp/ipykernel_60/294650540.py:24: RuntimeWarning: Mean of empty slice\n/usr/local/lib/python3.11/dist-packages/numpy/lib/nanfunctions.py:1879: RuntimeWarning: Degrees of freedom <= 0 for slice.\n  var = nanvar(a, axis=axis, dtype=dtype, out=out, ddof=ddof,\n/tmp/ipykernel_60/294650540.py:24: RuntimeWarning: Mean of empty slice\n/usr/local/lib/python3.11/dist-packages/numpy/lib/nanfunctions.py:1879: RuntimeWarning: Degrees of freedom <= 0 for slice.\n  var = nanvar(a, axis=axis, dtype=dtype, out=out, ddof=ddof,\n/tmp/ipykernel_60/294650540.py:24: RuntimeWarning: Mean of empty slice\n/usr/local/lib/python3.11/dist-packages/numpy/lib/nanfunctions.py:1879: RuntimeWarning: Degrees of freedom <= 0 for slice.\n  var = nanvar(a, axis=axis, dtype=dtype, out=out, ddof=ddof,\n/tmp/ipykernel_60/294650540.py:24: RuntimeWarning: Mean of empty slice\n"
          ]
        },
        {
          "output_type": "stream",
          "name": "stderr",
          "text": [
            "/usr/local/lib/python3.11/dist-packages/numpy/lib/nanfunctions.py:1879: RuntimeWarning: Degrees of freedom <= 0 for slice.\n  var = nanvar(a, axis=axis, dtype=dtype, out=out, ddof=ddof,\n/tmp/ipykernel_60/294650540.py:24: RuntimeWarning: Mean of empty slice\n/usr/local/lib/python3.11/dist-packages/numpy/lib/nanfunctions.py:1879: RuntimeWarning: Degrees of freedom <= 0 for slice.\n  var = nanvar(a, axis=axis, dtype=dtype, out=out, ddof=ddof,\n/tmp/ipykernel_60/294650540.py:24: RuntimeWarning: Mean of empty slice\n/usr/local/lib/python3.11/dist-packages/numpy/lib/nanfunctions.py:1879: RuntimeWarning: Degrees of freedom <= 0 for slice.\n  var = nanvar(a, axis=axis, dtype=dtype, out=out, ddof=ddof,\n/tmp/ipykernel_60/294650540.py:24: RuntimeWarning: Mean of empty slice\n/usr/local/lib/python3.11/dist-packages/numpy/lib/nanfunctions.py:1879: RuntimeWarning: Degrees of freedom <= 0 for slice.\n  var = nanvar(a, axis=axis, dtype=dtype, out=out, ddof=ddof,\n/tmp/ipykernel_60/294650540.py:24: RuntimeWarning: Mean of empty slice\n/usr/local/lib/python3.11/dist-packages/numpy/lib/nanfunctions.py:1879: RuntimeWarning: Degrees of freedom <= 0 for slice.\n  var = nanvar(a, axis=axis, dtype=dtype, out=out, ddof=ddof,\n/tmp/ipykernel_60/294650540.py:24: RuntimeWarning: Mean of empty slice\n/usr/local/lib/python3.11/dist-packages/numpy/lib/nanfunctions.py:1879: RuntimeWarning: Degrees of freedom <= 0 for slice.\n  var = nanvar(a, axis=axis, dtype=dtype, out=out, ddof=ddof,\n"
          ]
        },
        {
          "output_type": "stream",
          "name": "stderr",
          "text": [
            "/tmp/ipykernel_60/294650540.py:24: RuntimeWarning: Mean of empty slice\n/usr/local/lib/python3.11/dist-packages/numpy/lib/nanfunctions.py:1879: RuntimeWarning: Degrees of freedom <= 0 for slice.\n  var = nanvar(a, axis=axis, dtype=dtype, out=out, ddof=ddof,\n/tmp/ipykernel_60/294650540.py:24: RuntimeWarning: Mean of empty slice\n/usr/local/lib/python3.11/dist-packages/numpy/lib/nanfunctions.py:1879: RuntimeWarning: Degrees of freedom <= 0 for slice.\n  var = nanvar(a, axis=axis, dtype=dtype, out=out, ddof=ddof,\n/tmp/ipykernel_60/294650540.py:24: RuntimeWarning: Mean of empty slice\n/usr/local/lib/python3.11/dist-packages/numpy/lib/nanfunctions.py:1879: RuntimeWarning: Degrees of freedom <= 0 for slice.\n  var = nanvar(a, axis=axis, dtype=dtype, out=out, ddof=ddof,\n/tmp/ipykernel_60/294650540.py:24: RuntimeWarning: Mean of empty slice\n/usr/local/lib/python3.11/dist-packages/numpy/lib/nanfunctions.py:1879: RuntimeWarning: Degrees of freedom <= 0 for slice.\n  var = nanvar(a, axis=axis, dtype=dtype, out=out, ddof=ddof,\n/tmp/ipykernel_60/294650540.py:24: RuntimeWarning: Mean of empty slice\n/usr/local/lib/python3.11/dist-packages/numpy/lib/nanfunctions.py:1879: RuntimeWarning: Degrees of freedom <= 0 for slice.\n  var = nanvar(a, axis=axis, dtype=dtype, out=out, ddof=ddof,\n"
          ]
        },
        {
          "output_type": "stream",
          "name": "stderr",
          "text": [
            "/tmp/ipykernel_60/294650540.py:24: RuntimeWarning: Mean of empty slice\n/usr/local/lib/python3.11/dist-packages/numpy/lib/nanfunctions.py:1879: RuntimeWarning: Degrees of freedom <= 0 for slice.\n  var = nanvar(a, axis=axis, dtype=dtype, out=out, ddof=ddof,\n/tmp/ipykernel_60/294650540.py:24: RuntimeWarning: Mean of empty slice\n/usr/local/lib/python3.11/dist-packages/numpy/lib/nanfunctions.py:1879: RuntimeWarning: Degrees of freedom <= 0 for slice.\n  var = nanvar(a, axis=axis, dtype=dtype, out=out, ddof=ddof,\n/tmp/ipykernel_60/294650540.py:24: RuntimeWarning: Mean of empty slice\n/usr/local/lib/python3.11/dist-packages/numpy/lib/nanfunctions.py:1879: RuntimeWarning: Degrees of freedom <= 0 for slice.\n  var = nanvar(a, axis=axis, dtype=dtype, out=out, ddof=ddof,\n/tmp/ipykernel_60/294650540.py:24: RuntimeWarning: Mean of empty slice\n/usr/local/lib/python3.11/dist-packages/numpy/lib/nanfunctions.py:1879: RuntimeWarning: Degrees of freedom <= 0 for slice.\n  var = nanvar(a, axis=axis, dtype=dtype, out=out, ddof=ddof,\n"
          ]
        },
        {
          "output_type": "stream",
          "name": "stderr",
          "text": [
            "/tmp/ipykernel_60/294650540.py:24: RuntimeWarning: Mean of empty slice\n/usr/local/lib/python3.11/dist-packages/numpy/lib/nanfunctions.py:1879: RuntimeWarning: Degrees of freedom <= 0 for slice.\n  var = nanvar(a, axis=axis, dtype=dtype, out=out, ddof=ddof,\n/tmp/ipykernel_60/294650540.py:24: RuntimeWarning: Mean of empty slice\n/usr/local/lib/python3.11/dist-packages/numpy/lib/nanfunctions.py:1879: RuntimeWarning: Degrees of freedom <= 0 for slice.\n  var = nanvar(a, axis=axis, dtype=dtype, out=out, ddof=ddof,\n/tmp/ipykernel_60/294650540.py:24: RuntimeWarning: Mean of empty slice\n/usr/local/lib/python3.11/dist-packages/numpy/lib/nanfunctions.py:1879: RuntimeWarning: Degrees of freedom <= 0 for slice.\n  var = nanvar(a, axis=axis, dtype=dtype, out=out, ddof=ddof,\n/tmp/ipykernel_60/294650540.py:24: RuntimeWarning: Mean of empty slice\n/usr/local/lib/python3.11/dist-packages/numpy/lib/nanfunctions.py:1879: RuntimeWarning: Degrees of freedom <= 0 for slice.\n  var = nanvar(a, axis=axis, dtype=dtype, out=out, ddof=ddof,\n/tmp/ipykernel_60/294650540.py:24: RuntimeWarning: Mean of empty slice\n/usr/local/lib/python3.11/dist-packages/numpy/lib/nanfunctions.py:1879: RuntimeWarning: Degrees of freedom <= 0 for slice.\n  var = nanvar(a, axis=axis, dtype=dtype, out=out, ddof=ddof,\n"
          ]
        },
        {
          "output_type": "stream",
          "name": "stderr",
          "text": [
            "/tmp/ipykernel_60/294650540.py:24: RuntimeWarning: Mean of empty slice\n/usr/local/lib/python3.11/dist-packages/numpy/lib/nanfunctions.py:1879: RuntimeWarning: Degrees of freedom <= 0 for slice.\n  var = nanvar(a, axis=axis, dtype=dtype, out=out, ddof=ddof,\n/tmp/ipykernel_60/294650540.py:24: RuntimeWarning: Mean of empty slice\n/usr/local/lib/python3.11/dist-packages/numpy/lib/nanfunctions.py:1879: RuntimeWarning: Degrees of freedom <= 0 for slice.\n  var = nanvar(a, axis=axis, dtype=dtype, out=out, ddof=ddof,\n/tmp/ipykernel_60/294650540.py:24: RuntimeWarning: Mean of empty slice\n/usr/local/lib/python3.11/dist-packages/numpy/lib/nanfunctions.py:1879: RuntimeWarning: Degrees of freedom <= 0 for slice.\n  var = nanvar(a, axis=axis, dtype=dtype, out=out, ddof=ddof,\n/tmp/ipykernel_60/294650540.py:24: RuntimeWarning: Mean of empty slice\n/usr/local/lib/python3.11/dist-packages/numpy/lib/nanfunctions.py:1879: RuntimeWarning: Degrees of freedom <= 0 for slice.\n  var = nanvar(a, axis=axis, dtype=dtype, out=out, ddof=ddof,\n/tmp/ipykernel_60/294650540.py:24: RuntimeWarning: Mean of empty slice\n/usr/local/lib/python3.11/dist-packages/numpy/lib/nanfunctions.py:1879: RuntimeWarning: Degrees of freedom <= 0 for slice.\n  var = nanvar(a, axis=axis, dtype=dtype, out=out, ddof=ddof,\n/tmp/ipykernel_60/294650540.py:24: RuntimeWarning: Mean of empty slice\n/usr/local/lib/python3.11/dist-packages/numpy/lib/nanfunctions.py:1879: RuntimeWarning: Degrees of freedom <= 0 for slice.\n  var = nanvar(a, axis=axis, dtype=dtype, out=out, ddof=ddof,\n/tmp/ipykernel_60/294650540.py:24: RuntimeWarning: Mean of empty slice\n/usr/local/lib/python3.11/dist-packages/numpy/lib/nanfunctions.py:1879: RuntimeWarning: Degrees of freedom <= 0 for slice.\n  var = nanvar(a, axis=axis, dtype=dtype, out=out, ddof=ddof,\n/tmp/ipykernel_60/294650540.py:24: RuntimeWarning: Mean of empty slice\n/usr/local/lib/python3.11/dist-packages/numpy/lib/nanfunctions.py:1879: RuntimeWarning: Degrees of freedom <= 0 for slice.\n  var = nanvar(a, axis=axis, dtype=dtype, out=out, ddof=ddof,\n/tmp/ipykernel_60/294650540.py:24: RuntimeWarning: Mean of empty slice\n/usr/local/lib/python3.11/dist-packages/numpy/lib/nanfunctions.py:1879: RuntimeWarning: Degrees of freedom <= 0 for slice.\n  var = nanvar(a, axis=axis, dtype=dtype, out=out, ddof=ddof,\n/tmp/ipykernel_60/294650540.py:24: RuntimeWarning: Mean of empty slice\n/usr/local/lib/python3.11/dist-packages/numpy/lib/nanfunctions.py:1879: RuntimeWarning: Degrees of freedom <= 0 for slice.\n  var = nanvar(a, axis=axis, dtype=dtype, out=out, ddof=ddof,\n/tmp/ipykernel_60/294650540.py:24: RuntimeWarning: Mean of empty slice\n"
          ]
        },
        {
          "output_type": "stream",
          "name": "stderr",
          "text": [
            "/usr/local/lib/python3.11/dist-packages/numpy/lib/nanfunctions.py:1879: RuntimeWarning: Degrees of freedom <= 0 for slice.\n  var = nanvar(a, axis=axis, dtype=dtype, out=out, ddof=ddof,\n/tmp/ipykernel_60/294650540.py:24: RuntimeWarning: Mean of empty slice\n/usr/local/lib/python3.11/dist-packages/numpy/lib/nanfunctions.py:1879: RuntimeWarning: Degrees of freedom <= 0 for slice.\n  var = nanvar(a, axis=axis, dtype=dtype, out=out, ddof=ddof,\n/tmp/ipykernel_60/294650540.py:24: RuntimeWarning: Mean of empty slice\n/usr/local/lib/python3.11/dist-packages/numpy/lib/nanfunctions.py:1879: RuntimeWarning: Degrees of freedom <= 0 for slice.\n  var = nanvar(a, axis=axis, dtype=dtype, out=out, ddof=ddof,\n/tmp/ipykernel_60/294650540.py:24: RuntimeWarning: Mean of empty slice\n/usr/local/lib/python3.11/dist-packages/numpy/lib/nanfunctions.py:1879: RuntimeWarning: Degrees of freedom <= 0 for slice.\n  var = nanvar(a, axis=axis, dtype=dtype, out=out, ddof=ddof,\n/tmp/ipykernel_60/294650540.py:24: RuntimeWarning: Mean of empty slice\n/usr/local/lib/python3.11/dist-packages/numpy/lib/nanfunctions.py:1879: RuntimeWarning: Degrees of freedom <= 0 for slice.\n  var = nanvar(a, axis=axis, dtype=dtype, out=out, ddof=ddof,\n/tmp/ipykernel_60/294650540.py:24: RuntimeWarning: Mean of empty slice\n/usr/local/lib/python3.11/dist-packages/numpy/lib/nanfunctions.py:1879: RuntimeWarning: Degrees of freedom <= 0 for slice.\n  var = nanvar(a, axis=axis, dtype=dtype, out=out, ddof=ddof,\n/tmp/ipykernel_60/294650540.py:24: RuntimeWarning: Mean of empty slice\n/usr/local/lib/python3.11/dist-packages/numpy/lib/nanfunctions.py:1879: RuntimeWarning: Degrees of freedom <= 0 for slice.\n  var = nanvar(a, axis=axis, dtype=dtype, out=out, ddof=ddof,\n/tmp/ipykernel_60/294650540.py:24: RuntimeWarning: Mean of empty slice\n/usr/local/lib/python3.11/dist-packages/numpy/lib/nanfunctions.py:1879: RuntimeWarning: Degrees of freedom <= 0 for slice.\n  var = nanvar(a, axis=axis, dtype=dtype, out=out, ddof=ddof,\n"
          ]
        },
        {
          "output_type": "stream",
          "name": "stderr",
          "text": [
            "/tmp/ipykernel_60/294650540.py:24: RuntimeWarning: Mean of empty slice\n/usr/local/lib/python3.11/dist-packages/numpy/lib/nanfunctions.py:1879: RuntimeWarning: Degrees of freedom <= 0 for slice.\n  var = nanvar(a, axis=axis, dtype=dtype, out=out, ddof=ddof,\n/tmp/ipykernel_60/294650540.py:24: RuntimeWarning: Mean of empty slice\n/usr/local/lib/python3.11/dist-packages/numpy/lib/nanfunctions.py:1879: RuntimeWarning: Degrees of freedom <= 0 for slice.\n  var = nanvar(a, axis=axis, dtype=dtype, out=out, ddof=ddof,\n/tmp/ipykernel_60/294650540.py:24: RuntimeWarning: Mean of empty slice\n/usr/local/lib/python3.11/dist-packages/numpy/lib/nanfunctions.py:1879: RuntimeWarning: Degrees of freedom <= 0 for slice.\n  var = nanvar(a, axis=axis, dtype=dtype, out=out, ddof=ddof,\n/tmp/ipykernel_60/294650540.py:24: RuntimeWarning: Mean of empty slice\n/usr/local/lib/python3.11/dist-packages/numpy/lib/nanfunctions.py:1879: RuntimeWarning: Degrees of freedom <= 0 for slice.\n  var = nanvar(a, axis=axis, dtype=dtype, out=out, ddof=ddof,\n"
          ]
        },
        {
          "output_type": "stream",
          "name": "stderr",
          "text": [
            "/tmp/ipykernel_60/294650540.py:24: RuntimeWarning: Mean of empty slice\n/usr/local/lib/python3.11/dist-packages/numpy/lib/nanfunctions.py:1879: RuntimeWarning: Degrees of freedom <= 0 for slice.\n  var = nanvar(a, axis=axis, dtype=dtype, out=out, ddof=ddof,\n/tmp/ipykernel_60/294650540.py:24: RuntimeWarning: Mean of empty slice\n/usr/local/lib/python3.11/dist-packages/numpy/lib/nanfunctions.py:1879: RuntimeWarning: Degrees of freedom <= 0 for slice.\n  var = nanvar(a, axis=axis, dtype=dtype, out=out, ddof=ddof,\n/tmp/ipykernel_60/294650540.py:24: RuntimeWarning: Mean of empty slice\n/usr/local/lib/python3.11/dist-packages/numpy/lib/nanfunctions.py:1879: RuntimeWarning: Degrees of freedom <= 0 for slice.\n  var = nanvar(a, axis=axis, dtype=dtype, out=out, ddof=ddof,\n/tmp/ipykernel_60/294650540.py:24: RuntimeWarning: Mean of empty slice\n/usr/local/lib/python3.11/dist-packages/numpy/lib/nanfunctions.py:1879: RuntimeWarning: Degrees of freedom <= 0 for slice.\n  var = nanvar(a, axis=axis, dtype=dtype, out=out, ddof=ddof,\n/tmp/ipykernel_60/294650540.py:24: RuntimeWarning: Mean of empty slice\n/usr/local/lib/python3.11/dist-packages/numpy/lib/nanfunctions.py:1879: RuntimeWarning: Degrees of freedom <= 0 for slice.\n  var = nanvar(a, axis=axis, dtype=dtype, out=out, ddof=ddof,\n/tmp/ipykernel_60/294650540.py:24: RuntimeWarning: Mean of empty slice\n/usr/local/lib/python3.11/dist-packages/numpy/lib/nanfunctions.py:1879: RuntimeWarning: Degrees of freedom <= 0 for slice.\n  var = nanvar(a, axis=axis, dtype=dtype, out=out, ddof=ddof,\n/tmp/ipykernel_60/294650540.py:24: RuntimeWarning: Mean of empty slice\n/usr/local/lib/python3.11/dist-packages/numpy/lib/nanfunctions.py:1879: RuntimeWarning: Degrees of freedom <= 0 for slice.\n  var = nanvar(a, axis=axis, dtype=dtype, out=out, ddof=ddof,\n"
          ]
        },
        {
          "output_type": "stream",
          "name": "stderr",
          "text": [
            "/tmp/ipykernel_60/294650540.py:24: RuntimeWarning: Mean of empty slice\n/usr/local/lib/python3.11/dist-packages/numpy/lib/nanfunctions.py:1879: RuntimeWarning: Degrees of freedom <= 0 for slice.\n  var = nanvar(a, axis=axis, dtype=dtype, out=out, ddof=ddof,\n/tmp/ipykernel_60/294650540.py:24: RuntimeWarning: Mean of empty slice\n/usr/local/lib/python3.11/dist-packages/numpy/lib/nanfunctions.py:1879: RuntimeWarning: Degrees of freedom <= 0 for slice.\n  var = nanvar(a, axis=axis, dtype=dtype, out=out, ddof=ddof,\n/tmp/ipykernel_60/294650540.py:24: RuntimeWarning: Mean of empty slice\n/usr/local/lib/python3.11/dist-packages/numpy/lib/nanfunctions.py:1879: RuntimeWarning: Degrees of freedom <= 0 for slice.\n  var = nanvar(a, axis=axis, dtype=dtype, out=out, ddof=ddof,\n/tmp/ipykernel_60/294650540.py:24: RuntimeWarning: Mean of empty slice\n/usr/local/lib/python3.11/dist-packages/numpy/lib/nanfunctions.py:1879: RuntimeWarning: Degrees of freedom <= 0 for slice.\n  var = nanvar(a, axis=axis, dtype=dtype, out=out, ddof=ddof,\n/tmp/ipykernel_60/294650540.py:24: RuntimeWarning: Mean of empty slice\n/usr/local/lib/python3.11/dist-packages/numpy/lib/nanfunctions.py:1879: RuntimeWarning: Degrees of freedom <= 0 for slice.\n  var = nanvar(a, axis=axis, dtype=dtype, out=out, ddof=ddof,\n/tmp/ipykernel_60/294650540.py:24: RuntimeWarning: Mean of empty slice\n/usr/local/lib/python3.11/dist-packages/numpy/lib/nanfunctions.py:1879: RuntimeWarning: Degrees of freedom <= 0 for slice.\n  var = nanvar(a, axis=axis, dtype=dtype, out=out, ddof=ddof,\n/tmp/ipykernel_60/294650540.py:24: RuntimeWarning: Mean of empty slice\n/usr/local/lib/python3.11/dist-packages/numpy/lib/nanfunctions.py:1879: RuntimeWarning: Degrees of freedom <= 0 for slice.\n  var = nanvar(a, axis=axis, dtype=dtype, out=out, ddof=ddof,\n"
          ]
        },
        {
          "output_type": "stream",
          "name": "stderr",
          "text": [
            "/tmp/ipykernel_60/294650540.py:24: RuntimeWarning: Mean of empty slice\n/usr/local/lib/python3.11/dist-packages/numpy/lib/nanfunctions.py:1879: RuntimeWarning: Degrees of freedom <= 0 for slice.\n  var = nanvar(a, axis=axis, dtype=dtype, out=out, ddof=ddof,\n/tmp/ipykernel_60/294650540.py:24: RuntimeWarning: Mean of empty slice\n/usr/local/lib/python3.11/dist-packages/numpy/lib/nanfunctions.py:1879: RuntimeWarning: Degrees of freedom <= 0 for slice.\n  var = nanvar(a, axis=axis, dtype=dtype, out=out, ddof=ddof,\n/tmp/ipykernel_60/294650540.py:24: RuntimeWarning: Mean of empty slice\n/usr/local/lib/python3.11/dist-packages/numpy/lib/nanfunctions.py:1879: RuntimeWarning: Degrees of freedom <= 0 for slice.\n  var = nanvar(a, axis=axis, dtype=dtype, out=out, ddof=ddof,\n/tmp/ipykernel_60/294650540.py:24: RuntimeWarning: Mean of empty slice\n/usr/local/lib/python3.11/dist-packages/numpy/lib/nanfunctions.py:1879: RuntimeWarning: Degrees of freedom <= 0 for slice.\n  var = nanvar(a, axis=axis, dtype=dtype, out=out, ddof=ddof,\n/tmp/ipykernel_60/294650540.py:24: RuntimeWarning: Mean of empty slice\n/usr/local/lib/python3.11/dist-packages/numpy/lib/nanfunctions.py:1879: RuntimeWarning: Degrees of freedom <= 0 for slice.\n  var = nanvar(a, axis=axis, dtype=dtype, out=out, ddof=ddof,\n/tmp/ipykernel_60/294650540.py:24: RuntimeWarning: Mean of empty slice\n/usr/local/lib/python3.11/dist-packages/numpy/lib/nanfunctions.py:1879: RuntimeWarning: Degrees of freedom <= 0 for slice.\n  var = nanvar(a, axis=axis, dtype=dtype, out=out, ddof=ddof,\n/tmp/ipykernel_60/294650540.py:24: RuntimeWarning: Mean of empty slice\n/usr/local/lib/python3.11/dist-packages/numpy/lib/nanfunctions.py:1879: RuntimeWarning: Degrees of freedom <= 0 for slice.\n  var = nanvar(a, axis=axis, dtype=dtype, out=out, ddof=ddof,\n"
          ]
        },
        {
          "output_type": "stream",
          "name": "stderr",
          "text": [
            "/tmp/ipykernel_60/294650540.py:24: RuntimeWarning: Mean of empty slice\n/usr/local/lib/python3.11/dist-packages/numpy/lib/nanfunctions.py:1879: RuntimeWarning: Degrees of freedom <= 0 for slice.\n  var = nanvar(a, axis=axis, dtype=dtype, out=out, ddof=ddof,\n/tmp/ipykernel_60/294650540.py:24: RuntimeWarning: Mean of empty slice\n/usr/local/lib/python3.11/dist-packages/numpy/lib/nanfunctions.py:1879: RuntimeWarning: Degrees of freedom <= 0 for slice.\n  var = nanvar(a, axis=axis, dtype=dtype, out=out, ddof=ddof,\n/tmp/ipykernel_60/294650540.py:24: RuntimeWarning: Mean of empty slice\n/usr/local/lib/python3.11/dist-packages/numpy/lib/nanfunctions.py:1879: RuntimeWarning: Degrees of freedom <= 0 for slice.\n  var = nanvar(a, axis=axis, dtype=dtype, out=out, ddof=ddof,\n/tmp/ipykernel_60/294650540.py:24: RuntimeWarning: Mean of empty slice\n/usr/local/lib/python3.11/dist-packages/numpy/lib/nanfunctions.py:1879: RuntimeWarning: Degrees of freedom <= 0 for slice.\n  var = nanvar(a, axis=axis, dtype=dtype, out=out, ddof=ddof,\n/tmp/ipykernel_60/294650540.py:24: RuntimeWarning: Mean of empty slice\n/usr/local/lib/python3.11/dist-packages/numpy/lib/nanfunctions.py:1879: RuntimeWarning: Degrees of freedom <= 0 for slice.\n  var = nanvar(a, axis=axis, dtype=dtype, out=out, ddof=ddof,\n/tmp/ipykernel_60/294650540.py:24: RuntimeWarning: Mean of empty slice\n/usr/local/lib/python3.11/dist-packages/numpy/lib/nanfunctions.py:1879: RuntimeWarning: Degrees of freedom <= 0 for slice.\n  var = nanvar(a, axis=axis, dtype=dtype, out=out, ddof=ddof,\n/tmp/ipykernel_60/294650540.py:24: RuntimeWarning: Mean of empty slice\n/usr/local/lib/python3.11/dist-packages/numpy/lib/nanfunctions.py:1879: RuntimeWarning: Degrees of freedom <= 0 for slice.\n  var = nanvar(a, axis=axis, dtype=dtype, out=out, ddof=ddof,\n/tmp/ipykernel_60/294650540.py:24: RuntimeWarning: Mean of empty slice\n/usr/local/lib/python3.11/dist-packages/numpy/lib/nanfunctions.py:1879: RuntimeWarning: Degrees of freedom <= 0 for slice.\n  var = nanvar(a, axis=axis, dtype=dtype, out=out, ddof=ddof,\n/tmp/ipykernel_60/294650540.py:24: RuntimeWarning: Mean of empty slice\n/usr/local/lib/python3.11/dist-packages/numpy/lib/nanfunctions.py:1879: RuntimeWarning: Degrees of freedom <= 0 for slice.\n  var = nanvar(a, axis=axis, dtype=dtype, out=out, ddof=ddof,\n"
          ]
        },
        {
          "output_type": "stream",
          "name": "stderr",
          "text": [
            "/tmp/ipykernel_60/294650540.py:24: RuntimeWarning: Mean of empty slice\n/tmp/ipykernel_60/294650540.py:24: RuntimeWarning: Mean of empty slice\n/usr/local/lib/python3.11/dist-packages/numpy/lib/nanfunctions.py:1879: RuntimeWarning: Degrees of freedom <= 0 for slice.\n  var = nanvar(a, axis=axis, dtype=dtype, out=out, ddof=ddof,\n/usr/local/lib/python3.11/dist-packages/numpy/lib/nanfunctions.py:1879: RuntimeWarning: Degrees of freedom <= 0 for slice.\n  var = nanvar(a, axis=axis, dtype=dtype, out=out, ddof=ddof,\n/tmp/ipykernel_60/294650540.py:24: RuntimeWarning: Mean of empty slice\n/usr/local/lib/python3.11/dist-packages/numpy/lib/nanfunctions.py:1879: RuntimeWarning: Degrees of freedom <= 0 for slice.\n  var = nanvar(a, axis=axis, dtype=dtype, out=out, ddof=ddof,\n/tmp/ipykernel_60/294650540.py:24: RuntimeWarning: Mean of empty slice\n/usr/local/lib/python3.11/dist-packages/numpy/lib/nanfunctions.py:1879: RuntimeWarning: Degrees of freedom <= 0 for slice.\n  var = nanvar(a, axis=axis, dtype=dtype, out=out, ddof=ddof,\n/tmp/ipykernel_60/294650540.py:24: RuntimeWarning: Mean of empty slice\n/usr/local/lib/python3.11/dist-packages/numpy/lib/nanfunctions.py:1879: RuntimeWarning: Degrees of freedom <= 0 for slice.\n  var = nanvar(a, axis=axis, dtype=dtype, out=out, ddof=ddof,\n/tmp/ipykernel_60/294650540.py:24: RuntimeWarning: Mean of empty slice\n/usr/local/lib/python3.11/dist-packages/numpy/lib/nanfunctions.py:1879: RuntimeWarning: Degrees of freedom <= 0 for slice.\n  var = nanvar(a, axis=axis, dtype=dtype, out=out, ddof=ddof,\n/tmp/ipykernel_60/294650540.py:24: RuntimeWarning: Mean of empty slice\n/usr/local/lib/python3.11/dist-packages/numpy/lib/nanfunctions.py:1879: RuntimeWarning: Degrees of freedom <= 0 for slice.\n  var = nanvar(a, axis=axis, dtype=dtype, out=out, ddof=ddof,\n/tmp/ipykernel_60/294650540.py:24: RuntimeWarning: Mean of empty slice\n/usr/local/lib/python3.11/dist-packages/numpy/lib/nanfunctions.py:1879: RuntimeWarning: Degrees of freedom <= 0 for slice.\n  var = nanvar(a, axis=axis, dtype=dtype, out=out, ddof=ddof,\n/tmp/ipykernel_60/294650540.py:24: RuntimeWarning: Mean of empty slice\n/usr/local/lib/python3.11/dist-packages/numpy/lib/nanfunctions.py:1879: RuntimeWarning: Degrees of freedom <= 0 for slice.\n  var = nanvar(a, axis=axis, dtype=dtype, out=out, ddof=ddof,\n/tmp/ipykernel_60/294650540.py:24: RuntimeWarning: Mean of empty slice\n/usr/local/lib/python3.11/dist-packages/numpy/lib/nanfunctions.py:1879: RuntimeWarning: Degrees of freedom <= 0 for slice.\n  var = nanvar(a, axis=axis, dtype=dtype, out=out, ddof=ddof,\n"
          ]
        },
        {
          "output_type": "stream",
          "name": "stderr",
          "text": [
            "/tmp/ipykernel_60/294650540.py:24: RuntimeWarning: Mean of empty slice\n/usr/local/lib/python3.11/dist-packages/numpy/lib/nanfunctions.py:1879: RuntimeWarning: Degrees of freedom <= 0 for slice.\n  var = nanvar(a, axis=axis, dtype=dtype, out=out, ddof=ddof,\n/tmp/ipykernel_60/294650540.py:24: RuntimeWarning: Mean of empty slice\n/usr/local/lib/python3.11/dist-packages/numpy/lib/nanfunctions.py:1879: RuntimeWarning: Degrees of freedom <= 0 for slice.\n  var = nanvar(a, axis=axis, dtype=dtype, out=out, ddof=ddof,\n"
          ]
        },
        {
          "output_type": "stream",
          "name": "stderr",
          "text": [
            "/tmp/ipykernel_60/294650540.py:24: RuntimeWarning: Mean of empty slice\n/usr/local/lib/python3.11/dist-packages/numpy/lib/nanfunctions.py:1879: RuntimeWarning: Degrees of freedom <= 0 for slice.\n  var = nanvar(a, axis=axis, dtype=dtype, out=out, ddof=ddof,\n/tmp/ipykernel_60/294650540.py:24: RuntimeWarning: Mean of empty slice\n/usr/local/lib/python3.11/dist-packages/numpy/lib/nanfunctions.py:1879: RuntimeWarning: Degrees of freedom <= 0 for slice.\n  var = nanvar(a, axis=axis, dtype=dtype, out=out, ddof=ddof,\n/tmp/ipykernel_60/294650540.py:24: RuntimeWarning: Mean of empty slice\n/usr/local/lib/python3.11/dist-packages/numpy/lib/nanfunctions.py:1879: RuntimeWarning: Degrees of freedom <= 0 for slice.\n  var = nanvar(a, axis=axis, dtype=dtype, out=out, ddof=ddof,\n/tmp/ipykernel_60/294650540.py:24: RuntimeWarning: Mean of empty slice\n/usr/local/lib/python3.11/dist-packages/numpy/lib/nanfunctions.py:1879: RuntimeWarning: Degrees of freedom <= 0 for slice.\n  var = nanvar(a, axis=axis, dtype=dtype, out=out, ddof=ddof,\n/tmp/ipykernel_60/294650540.py:24: RuntimeWarning: Mean of empty slice\n/usr/local/lib/python3.11/dist-packages/numpy/lib/nanfunctions.py:1879: RuntimeWarning: Degrees of freedom <= 0 for slice.\n  var = nanvar(a, axis=axis, dtype=dtype, out=out, ddof=ddof,\n/tmp/ipykernel_60/294650540.py:24: RuntimeWarning: Mean of empty slice\n/usr/local/lib/python3.11/dist-packages/numpy/lib/nanfunctions.py:1879: RuntimeWarning: Degrees of freedom <= 0 for slice.\n  var = nanvar(a, axis=axis, dtype=dtype, out=out, ddof=ddof,\n/tmp/ipykernel_60/294650540.py:24: RuntimeWarning: Mean of empty slice\n/usr/local/lib/python3.11/dist-packages/numpy/lib/nanfunctions.py:1879: RuntimeWarning: Degrees of freedom <= 0 for slice.\n  var = nanvar(a, axis=axis, dtype=dtype, out=out, ddof=ddof,\n"
          ]
        },
        {
          "output_type": "stream",
          "name": "stderr",
          "text": [
            "/tmp/ipykernel_60/294650540.py:24: RuntimeWarning: Mean of empty slice\n/usr/local/lib/python3.11/dist-packages/numpy/lib/nanfunctions.py:1879: RuntimeWarning: Degrees of freedom <= 0 for slice.\n  var = nanvar(a, axis=axis, dtype=dtype, out=out, ddof=ddof,\n/tmp/ipykernel_60/294650540.py:24: RuntimeWarning: Mean of empty slice\n/usr/local/lib/python3.11/dist-packages/numpy/lib/nanfunctions.py:1879: RuntimeWarning: Degrees of freedom <= 0 for slice.\n  var = nanvar(a, axis=axis, dtype=dtype, out=out, ddof=ddof,\n/tmp/ipykernel_60/294650540.py:24: RuntimeWarning: Mean of empty slice\n/usr/local/lib/python3.11/dist-packages/numpy/lib/nanfunctions.py:1879: RuntimeWarning: Degrees of freedom <= 0 for slice.\n  var = nanvar(a, axis=axis, dtype=dtype, out=out, ddof=ddof,\n"
          ]
        },
        {
          "output_type": "stream",
          "name": "stderr",
          "text": [
            "/tmp/ipykernel_60/294650540.py:24: RuntimeWarning: Mean of empty slice\n/usr/local/lib/python3.11/dist-packages/numpy/lib/nanfunctions.py:1879: RuntimeWarning: Degrees of freedom <= 0 for slice.\n  var = nanvar(a, axis=axis, dtype=dtype, out=out, ddof=ddof,\n/tmp/ipykernel_60/294650540.py:24: RuntimeWarning: Mean of empty slice\n/usr/local/lib/python3.11/dist-packages/numpy/lib/nanfunctions.py:1879: RuntimeWarning: Degrees of freedom <= 0 for slice.\n  var = nanvar(a, axis=axis, dtype=dtype, out=out, ddof=ddof,\n/tmp/ipykernel_60/294650540.py:24: RuntimeWarning: Mean of empty slice\n/usr/local/lib/python3.11/dist-packages/numpy/lib/nanfunctions.py:1879: RuntimeWarning: Degrees of freedom <= 0 for slice.\n  var = nanvar(a, axis=axis, dtype=dtype, out=out, ddof=ddof,\n"
          ]
        },
        {
          "output_type": "stream",
          "name": "stderr",
          "text": [
            "/tmp/ipykernel_60/294650540.py:24: RuntimeWarning: Mean of empty slice\n/usr/local/lib/python3.11/dist-packages/numpy/lib/nanfunctions.py:1879: RuntimeWarning: Degrees of freedom <= 0 for slice.\n  var = nanvar(a, axis=axis, dtype=dtype, out=out, ddof=ddof,\n/tmp/ipykernel_60/294650540.py:24: RuntimeWarning: Mean of empty slice\n/usr/local/lib/python3.11/dist-packages/numpy/lib/nanfunctions.py:1879: RuntimeWarning: Degrees of freedom <= 0 for slice.\n  var = nanvar(a, axis=axis, dtype=dtype, out=out, ddof=ddof,\n/tmp/ipykernel_60/294650540.py:24: RuntimeWarning: Mean of empty slice\n/usr/local/lib/python3.11/dist-packages/numpy/lib/nanfunctions.py:1879: RuntimeWarning: Degrees of freedom <= 0 for slice.\n  var = nanvar(a, axis=axis, dtype=dtype, out=out, ddof=ddof,\n/tmp/ipykernel_60/294650540.py:24: RuntimeWarning: Mean of empty slice\n/usr/local/lib/python3.11/dist-packages/numpy/lib/nanfunctions.py:1879: RuntimeWarning: Degrees of freedom <= 0 for slice.\n  var = nanvar(a, axis=axis, dtype=dtype, out=out, ddof=ddof,\n/tmp/ipykernel_60/294650540.py:24: RuntimeWarning: Mean of empty slice\n/usr/local/lib/python3.11/dist-packages/numpy/lib/nanfunctions.py:1879: RuntimeWarning: Degrees of freedom <= 0 for slice.\n  var = nanvar(a, axis=axis, dtype=dtype, out=out, ddof=ddof,\n/tmp/ipykernel_60/294650540.py:24: RuntimeWarning: Mean of empty slice\n/usr/local/lib/python3.11/dist-packages/numpy/lib/nanfunctions.py:1879: RuntimeWarning: Degrees of freedom <= 0 for slice.\n  var = nanvar(a, axis=axis, dtype=dtype, out=out, ddof=ddof,\n"
          ]
        },
        {
          "output_type": "stream",
          "name": "stderr",
          "text": [
            "/tmp/ipykernel_60/294650540.py:24: RuntimeWarning: Mean of empty slice\n/usr/local/lib/python3.11/dist-packages/numpy/lib/nanfunctions.py:1879: RuntimeWarning: Degrees of freedom <= 0 for slice.\n  var = nanvar(a, axis=axis, dtype=dtype, out=out, ddof=ddof,\n/tmp/ipykernel_60/294650540.py:24: RuntimeWarning: Mean of empty slice\n/usr/local/lib/python3.11/dist-packages/numpy/lib/nanfunctions.py:1879: RuntimeWarning: Degrees of freedom <= 0 for slice.\n  var = nanvar(a, axis=axis, dtype=dtype, out=out, ddof=ddof,\n/tmp/ipykernel_60/294650540.py:24: RuntimeWarning: Mean of empty slice\n/usr/local/lib/python3.11/dist-packages/numpy/lib/nanfunctions.py:1879: RuntimeWarning: Degrees of freedom <= 0 for slice.\n  var = nanvar(a, axis=axis, dtype=dtype, out=out, ddof=ddof,\n/tmp/ipykernel_60/294650540.py:24: RuntimeWarning: Mean of empty slice\n/usr/local/lib/python3.11/dist-packages/numpy/lib/nanfunctions.py:1879: RuntimeWarning: Degrees of freedom <= 0 for slice.\n  var = nanvar(a, axis=axis, dtype=dtype, out=out, ddof=ddof,\n/tmp/ipykernel_60/294650540.py:24: RuntimeWarning: Mean of empty slice\n/usr/local/lib/python3.11/dist-packages/numpy/lib/nanfunctions.py:1879: RuntimeWarning: Degrees of freedom <= 0 for slice.\n  var = nanvar(a, axis=axis, dtype=dtype, out=out, ddof=ddof,\n"
          ]
        },
        {
          "output_type": "stream",
          "name": "stderr",
          "text": [
            "/tmp/ipykernel_60/294650540.py:24: RuntimeWarning: Mean of empty slice\n/usr/local/lib/python3.11/dist-packages/numpy/lib/nanfunctions.py:1879: RuntimeWarning: Degrees of freedom <= 0 for slice.\n  var = nanvar(a, axis=axis, dtype=dtype, out=out, ddof=ddof,\n/tmp/ipykernel_60/294650540.py:24: RuntimeWarning: Mean of empty slice\n/usr/local/lib/python3.11/dist-packages/numpy/lib/nanfunctions.py:1879: RuntimeWarning: Degrees of freedom <= 0 for slice.\n  var = nanvar(a, axis=axis, dtype=dtype, out=out, ddof=ddof,\n/tmp/ipykernel_60/294650540.py:24: RuntimeWarning: Mean of empty slice\n/usr/local/lib/python3.11/dist-packages/numpy/lib/nanfunctions.py:1879: RuntimeWarning: Degrees of freedom <= 0 for slice.\n  var = nanvar(a, axis=axis, dtype=dtype, out=out, ddof=ddof,\n/tmp/ipykernel_60/294650540.py:24: RuntimeWarning: Mean of empty slice\n/usr/local/lib/python3.11/dist-packages/numpy/lib/nanfunctions.py:1879: RuntimeWarning: Degrees of freedom <= 0 for slice.\n  var = nanvar(a, axis=axis, dtype=dtype, out=out, ddof=ddof,\n/tmp/ipykernel_60/294650540.py:24: RuntimeWarning: Mean of empty slice\n/usr/local/lib/python3.11/dist-packages/numpy/lib/nanfunctions.py:1879: RuntimeWarning: Degrees of freedom <= 0 for slice.\n  var = nanvar(a, axis=axis, dtype=dtype, out=out, ddof=ddof,\n/tmp/ipykernel_60/294650540.py:24: RuntimeWarning: Mean of empty slice\n/usr/local/lib/python3.11/dist-packages/numpy/lib/nanfunctions.py:1879: RuntimeWarning: Degrees of freedom <= 0 for slice.\n  var = nanvar(a, axis=axis, dtype=dtype, out=out, ddof=ddof,\n/tmp/ipykernel_60/294650540.py:24: RuntimeWarning: Mean of empty slice\n/usr/local/lib/python3.11/dist-packages/numpy/lib/nanfunctions.py:1879: RuntimeWarning: Degrees of freedom <= 0 for slice.\n  var = nanvar(a, axis=axis, dtype=dtype, out=out, ddof=ddof,\n/tmp/ipykernel_60/294650540.py:24: RuntimeWarning: Mean of empty slice\n/usr/local/lib/python3.11/dist-packages/numpy/lib/nanfunctions.py:1879: RuntimeWarning: Degrees of freedom <= 0 for slice.\n  var = nanvar(a, axis=axis, dtype=dtype, out=out, ddof=ddof,\n/tmp/ipykernel_60/294650540.py:24: RuntimeWarning: Mean of empty slice\n/usr/local/lib/python3.11/dist-packages/numpy/lib/nanfunctions.py:1879: RuntimeWarning: Degrees of freedom <= 0 for slice.\n  var = nanvar(a, axis=axis, dtype=dtype, out=out, ddof=ddof,\n"
          ]
        },
        {
          "output_type": "stream",
          "name": "stderr",
          "text": [
            "/tmp/ipykernel_60/294650540.py:24: RuntimeWarning: Mean of empty slice\n/usr/local/lib/python3.11/dist-packages/numpy/lib/nanfunctions.py:1879: RuntimeWarning: Degrees of freedom <= 0 for slice.\n  var = nanvar(a, axis=axis, dtype=dtype, out=out, ddof=ddof,\n/tmp/ipykernel_60/294650540.py:24: RuntimeWarning: Mean of empty slice\n/usr/local/lib/python3.11/dist-packages/numpy/lib/nanfunctions.py:1879: RuntimeWarning: Degrees of freedom <= 0 for slice.\n  var = nanvar(a, axis=axis, dtype=dtype, out=out, ddof=ddof,\n/tmp/ipykernel_60/294650540.py:24: RuntimeWarning: Mean of empty slice\n/usr/local/lib/python3.11/dist-packages/numpy/lib/nanfunctions.py:1879: RuntimeWarning: Degrees of freedom <= 0 for slice.\n  var = nanvar(a, axis=axis, dtype=dtype, out=out, ddof=ddof,\n/tmp/ipykernel_60/294650540.py:24: RuntimeWarning: Mean of empty slice\n/usr/local/lib/python3.11/dist-packages/numpy/lib/nanfunctions.py:1879: RuntimeWarning: Degrees of freedom <= 0 for slice.\n  var = nanvar(a, axis=axis, dtype=dtype, out=out, ddof=ddof,\n/tmp/ipykernel_60/294650540.py:24: RuntimeWarning: Mean of empty slice\n/usr/local/lib/python3.11/dist-packages/numpy/lib/nanfunctions.py:1879: RuntimeWarning: Degrees of freedom <= 0 for slice.\n  var = nanvar(a, axis=axis, dtype=dtype, out=out, ddof=ddof,\n/tmp/ipykernel_60/294650540.py:24: RuntimeWarning: Mean of empty slice\n/usr/local/lib/python3.11/dist-packages/numpy/lib/nanfunctions.py:1879: RuntimeWarning: Degrees of freedom <= 0 for slice.\n  var = nanvar(a, axis=axis, dtype=dtype, out=out, ddof=ddof,\n/tmp/ipykernel_60/294650540.py:24: RuntimeWarning: Mean of empty slice\n/usr/local/lib/python3.11/dist-packages/numpy/lib/nanfunctions.py:1879: RuntimeWarning: Degrees of freedom <= 0 for slice.\n  var = nanvar(a, axis=axis, dtype=dtype, out=out, ddof=ddof,\n/tmp/ipykernel_60/294650540.py:24: RuntimeWarning: Mean of empty slice\n/usr/local/lib/python3.11/dist-packages/numpy/lib/nanfunctions.py:1879: RuntimeWarning: Degrees of freedom <= 0 for slice.\n  var = nanvar(a, axis=axis, dtype=dtype, out=out, ddof=ddof,\n"
          ]
        },
        {
          "output_type": "stream",
          "name": "stderr",
          "text": [
            "/tmp/ipykernel_60/294650540.py:24: RuntimeWarning: Mean of empty slice\n/usr/local/lib/python3.11/dist-packages/numpy/lib/nanfunctions.py:1879: RuntimeWarning: Degrees of freedom <= 0 for slice.\n  var = nanvar(a, axis=axis, dtype=dtype, out=out, ddof=ddof,\n/tmp/ipykernel_60/294650540.py:24: RuntimeWarning: Mean of empty slice\n/usr/local/lib/python3.11/dist-packages/numpy/lib/nanfunctions.py:1879: RuntimeWarning: Degrees of freedom <= 0 for slice.\n  var = nanvar(a, axis=axis, dtype=dtype, out=out, ddof=ddof,\n/tmp/ipykernel_60/294650540.py:24: RuntimeWarning: Mean of empty slice\n/usr/local/lib/python3.11/dist-packages/numpy/lib/nanfunctions.py:1879: RuntimeWarning: Degrees of freedom <= 0 for slice.\n  var = nanvar(a, axis=axis, dtype=dtype, out=out, ddof=ddof,\n/tmp/ipykernel_60/294650540.py:24: RuntimeWarning: Mean of empty slice\n/usr/local/lib/python3.11/dist-packages/numpy/lib/nanfunctions.py:1879: RuntimeWarning: Degrees of freedom <= 0 for slice.\n  var = nanvar(a, axis=axis, dtype=dtype, out=out, ddof=ddof,\n/tmp/ipykernel_60/294650540.py:24: RuntimeWarning: Mean of empty slice\n/usr/local/lib/python3.11/dist-packages/numpy/lib/nanfunctions.py:1879: RuntimeWarning: Degrees of freedom <= 0 for slice.\n  var = nanvar(a, axis=axis, dtype=dtype, out=out, ddof=ddof,\n/tmp/ipykernel_60/294650540.py:24: RuntimeWarning: Mean of empty slice\n/usr/local/lib/python3.11/dist-packages/numpy/lib/nanfunctions.py:1879: RuntimeWarning: Degrees of freedom <= 0 for slice.\n  var = nanvar(a, axis=axis, dtype=dtype, out=out, ddof=ddof,\n"
          ]
        },
        {
          "output_type": "stream",
          "name": "stderr",
          "text": [
            "/tmp/ipykernel_60/294650540.py:24: RuntimeWarning: Mean of empty slice\n/usr/local/lib/python3.11/dist-packages/numpy/lib/nanfunctions.py:1879: RuntimeWarning: Degrees of freedom <= 0 for slice.\n  var = nanvar(a, axis=axis, dtype=dtype, out=out, ddof=ddof,\n/tmp/ipykernel_60/294650540.py:24: RuntimeWarning: Mean of empty slice\n/usr/local/lib/python3.11/dist-packages/numpy/lib/nanfunctions.py:1879: RuntimeWarning: Degrees of freedom <= 0 for slice.\n  var = nanvar(a, axis=axis, dtype=dtype, out=out, ddof=ddof,\n/tmp/ipykernel_60/294650540.py:24: RuntimeWarning: Mean of empty slice\n/usr/local/lib/python3.11/dist-packages/numpy/lib/nanfunctions.py:1879: RuntimeWarning: Degrees of freedom <= 0 for slice.\n  var = nanvar(a, axis=axis, dtype=dtype, out=out, ddof=ddof,\n/tmp/ipykernel_60/294650540.py:24: RuntimeWarning: Mean of empty slice\n/usr/local/lib/python3.11/dist-packages/numpy/lib/nanfunctions.py:1879: RuntimeWarning: Degrees of freedom <= 0 for slice.\n  var = nanvar(a, axis=axis, dtype=dtype, out=out, ddof=ddof,\n/tmp/ipykernel_60/294650540.py:24: RuntimeWarning: Mean of empty slice\n/usr/local/lib/python3.11/dist-packages/numpy/lib/nanfunctions.py:1879: RuntimeWarning: Degrees of freedom <= 0 for slice.\n  var = nanvar(a, axis=axis, dtype=dtype, out=out, ddof=ddof,\n/tmp/ipykernel_60/294650540.py:24: RuntimeWarning: Mean of empty slice\n/usr/local/lib/python3.11/dist-packages/numpy/lib/nanfunctions.py:1879: RuntimeWarning: Degrees of freedom <= 0 for slice.\n  var = nanvar(a, axis=axis, dtype=dtype, out=out, ddof=ddof,\n/tmp/ipykernel_60/294650540.py:24: RuntimeWarning: Mean of empty slice\n/usr/local/lib/python3.11/dist-packages/numpy/lib/nanfunctions.py:1879: RuntimeWarning: Degrees of freedom <= 0 for slice.\n  var = nanvar(a, axis=axis, dtype=dtype, out=out, ddof=ddof,\n"
          ]
        },
        {
          "output_type": "stream",
          "name": "stderr",
          "text": [
            "/tmp/ipykernel_60/294650540.py:24: RuntimeWarning: Mean of empty slice\n/usr/local/lib/python3.11/dist-packages/numpy/lib/nanfunctions.py:1879: RuntimeWarning: Degrees of freedom <= 0 for slice.\n  var = nanvar(a, axis=axis, dtype=dtype, out=out, ddof=ddof,\n/tmp/ipykernel_60/294650540.py:24: RuntimeWarning: Mean of empty slice\n/usr/local/lib/python3.11/dist-packages/numpy/lib/nanfunctions.py:1879: RuntimeWarning: Degrees of freedom <= 0 for slice.\n  var = nanvar(a, axis=axis, dtype=dtype, out=out, ddof=ddof,\n/tmp/ipykernel_60/294650540.py:24: RuntimeWarning: Mean of empty slice\n/usr/local/lib/python3.11/dist-packages/numpy/lib/nanfunctions.py:1879: RuntimeWarning: Degrees of freedom <= 0 for slice.\n  var = nanvar(a, axis=axis, dtype=dtype, out=out, ddof=ddof,\n/tmp/ipykernel_60/294650540.py:24: RuntimeWarning: Mean of empty slice\n/usr/local/lib/python3.11/dist-packages/numpy/lib/nanfunctions.py:1879: RuntimeWarning: Degrees of freedom <= 0 for slice.\n  var = nanvar(a, axis=axis, dtype=dtype, out=out, ddof=ddof,\n/tmp/ipykernel_60/294650540.py:24: RuntimeWarning: Mean of empty slice\n/usr/local/lib/python3.11/dist-packages/numpy/lib/nanfunctions.py:1879: RuntimeWarning: Degrees of freedom <= 0 for slice.\n  var = nanvar(a, axis=axis, dtype=dtype, out=out, ddof=ddof,\n"
          ]
        },
        {
          "output_type": "stream",
          "name": "stderr",
          "text": [
            "/tmp/ipykernel_60/294650540.py:24: RuntimeWarning: Mean of empty slice\n/usr/local/lib/python3.11/dist-packages/numpy/lib/nanfunctions.py:1879: RuntimeWarning: Degrees of freedom <= 0 for slice.\n  var = nanvar(a, axis=axis, dtype=dtype, out=out, ddof=ddof,\n/tmp/ipykernel_60/294650540.py:24: RuntimeWarning: Mean of empty slice\n/usr/local/lib/python3.11/dist-packages/numpy/lib/nanfunctions.py:1879: RuntimeWarning: Degrees of freedom <= 0 for slice.\n  var = nanvar(a, axis=axis, dtype=dtype, out=out, ddof=ddof,\n/tmp/ipykernel_60/294650540.py:24: RuntimeWarning: Mean of empty slice\n/usr/local/lib/python3.11/dist-packages/numpy/lib/nanfunctions.py:1879: RuntimeWarning: Degrees of freedom <= 0 for slice.\n  var = nanvar(a, axis=axis, dtype=dtype, out=out, ddof=ddof,\n/tmp/ipykernel_60/294650540.py:24: RuntimeWarning: Mean of empty slice\n/usr/local/lib/python3.11/dist-packages/numpy/lib/nanfunctions.py:1879: RuntimeWarning: Degrees of freedom <= 0 for slice.\n  var = nanvar(a, axis=axis, dtype=dtype, out=out, ddof=ddof,\n/tmp/ipykernel_60/294650540.py:24: RuntimeWarning: Mean of empty slice\n/usr/local/lib/python3.11/dist-packages/numpy/lib/nanfunctions.py:1879: RuntimeWarning: Degrees of freedom <= 0 for slice.\n  var = nanvar(a, axis=axis, dtype=dtype, out=out, ddof=ddof,\n"
          ]
        },
        {
          "output_type": "stream",
          "name": "stderr",
          "text": [
            "/tmp/ipykernel_60/294650540.py:24: RuntimeWarning: Mean of empty slice\n/usr/local/lib/python3.11/dist-packages/numpy/lib/nanfunctions.py:1879: RuntimeWarning: Degrees of freedom <= 0 for slice.\n  var = nanvar(a, axis=axis, dtype=dtype, out=out, ddof=ddof,\n/tmp/ipykernel_60/294650540.py:24: RuntimeWarning: Mean of empty slice\n/usr/local/lib/python3.11/dist-packages/numpy/lib/nanfunctions.py:1879: RuntimeWarning: Degrees of freedom <= 0 for slice.\n  var = nanvar(a, axis=axis, dtype=dtype, out=out, ddof=ddof,\n/tmp/ipykernel_60/294650540.py:24: RuntimeWarning: Mean of empty slice\n/usr/local/lib/python3.11/dist-packages/numpy/lib/nanfunctions.py:1879: RuntimeWarning: Degrees of freedom <= 0 for slice.\n  var = nanvar(a, axis=axis, dtype=dtype, out=out, ddof=ddof,\n/tmp/ipykernel_60/294650540.py:24: RuntimeWarning: Mean of empty slice\n/usr/local/lib/python3.11/dist-packages/numpy/lib/nanfunctions.py:1879: RuntimeWarning: Degrees of freedom <= 0 for slice.\n  var = nanvar(a, axis=axis, dtype=dtype, out=out, ddof=ddof,\n/tmp/ipykernel_60/294650540.py:24: RuntimeWarning: Mean of empty slice\n/usr/local/lib/python3.11/dist-packages/numpy/lib/nanfunctions.py:1879: RuntimeWarning: Degrees of freedom <= 0 for slice.\n  var = nanvar(a, axis=axis, dtype=dtype, out=out, ddof=ddof,\n/tmp/ipykernel_60/294650540.py:24: RuntimeWarning: Mean of empty slice\n/usr/local/lib/python3.11/dist-packages/numpy/lib/nanfunctions.py:1879: RuntimeWarning: Degrees of freedom <= 0 for slice.\n  var = nanvar(a, axis=axis, dtype=dtype, out=out, ddof=ddof,\n/tmp/ipykernel_60/294650540.py:24: RuntimeWarning: Mean of empty slice\n/usr/local/lib/python3.11/dist-packages/numpy/lib/nanfunctions.py:1879: RuntimeWarning: Degrees of freedom <= 0 for slice.\n  var = nanvar(a, axis=axis, dtype=dtype, out=out, ddof=ddof,\n/tmp/ipykernel_60/294650540.py:24: RuntimeWarning: Mean of empty slice\n/usr/local/lib/python3.11/dist-packages/numpy/lib/nanfunctions.py:1879: RuntimeWarning: Degrees of freedom <= 0 for slice.\n  var = nanvar(a, axis=axis, dtype=dtype, out=out, ddof=ddof,\n"
          ]
        },
        {
          "output_type": "stream",
          "name": "stderr",
          "text": [
            "/tmp/ipykernel_60/294650540.py:24: RuntimeWarning: Mean of empty slice\n/usr/local/lib/python3.11/dist-packages/numpy/lib/nanfunctions.py:1879: RuntimeWarning: Degrees of freedom <= 0 for slice.\n  var = nanvar(a, axis=axis, dtype=dtype, out=out, ddof=ddof,\n/tmp/ipykernel_60/294650540.py:24: RuntimeWarning: Mean of empty slice\n/usr/local/lib/python3.11/dist-packages/numpy/lib/nanfunctions.py:1879: RuntimeWarning: Degrees of freedom <= 0 for slice.\n  var = nanvar(a, axis=axis, dtype=dtype, out=out, ddof=ddof,\n/tmp/ipykernel_60/294650540.py:24: RuntimeWarning: Mean of empty slice\n/usr/local/lib/python3.11/dist-packages/numpy/lib/nanfunctions.py:1879: RuntimeWarning: Degrees of freedom <= 0 for slice.\n  var = nanvar(a, axis=axis, dtype=dtype, out=out, ddof=ddof,\n/tmp/ipykernel_60/294650540.py:24: RuntimeWarning: Mean of empty slice\n/usr/local/lib/python3.11/dist-packages/numpy/lib/nanfunctions.py:1879: RuntimeWarning: Degrees of freedom <= 0 for slice.\n  var = nanvar(a, axis=axis, dtype=dtype, out=out, ddof=ddof,\n/tmp/ipykernel_60/294650540.py:24: RuntimeWarning: Mean of empty slice\n/usr/local/lib/python3.11/dist-packages/numpy/lib/nanfunctions.py:1879: RuntimeWarning: Degrees of freedom <= 0 for slice.\n  var = nanvar(a, axis=axis, dtype=dtype, out=out, ddof=ddof,\n/tmp/ipykernel_60/294650540.py:24: RuntimeWarning: Mean of empty slice\n/usr/local/lib/python3.11/dist-packages/numpy/lib/nanfunctions.py:1879: RuntimeWarning: Degrees of freedom <= 0 for slice.\n  var = nanvar(a, axis=axis, dtype=dtype, out=out, ddof=ddof,\n/tmp/ipykernel_60/294650540.py:24: RuntimeWarning: Mean of empty slice\n/usr/local/lib/python3.11/dist-packages/numpy/lib/nanfunctions.py:1879: RuntimeWarning: Degrees of freedom <= 0 for slice.\n  var = nanvar(a, axis=axis, dtype=dtype, out=out, ddof=ddof,\n/tmp/ipykernel_60/294650540.py:24: RuntimeWarning: Mean of empty slice\n/usr/local/lib/python3.11/dist-packages/numpy/lib/nanfunctions.py:1879: RuntimeWarning: Degrees of freedom <= 0 for slice.\n  var = nanvar(a, axis=axis, dtype=dtype, out=out, ddof=ddof,\n/tmp/ipykernel_60/294650540.py:24: RuntimeWarning: Mean of empty slice\n/usr/local/lib/python3.11/dist-packages/numpy/lib/nanfunctions.py:1879: RuntimeWarning: Degrees of freedom <= 0 for slice.\n  var = nanvar(a, axis=axis, dtype=dtype, out=out, ddof=ddof,\n"
          ]
        },
        {
          "output_type": "stream",
          "name": "stderr",
          "text": [
            "/tmp/ipykernel_60/294650540.py:24: RuntimeWarning: Mean of empty slice\n/usr/local/lib/python3.11/dist-packages/numpy/lib/nanfunctions.py:1879: RuntimeWarning: Degrees of freedom <= 0 for slice.\n  var = nanvar(a, axis=axis, dtype=dtype, out=out, ddof=ddof,\n/tmp/ipykernel_60/294650540.py:24: RuntimeWarning: Mean of empty slice\n/usr/local/lib/python3.11/dist-packages/numpy/lib/nanfunctions.py:1879: RuntimeWarning: Degrees of freedom <= 0 for slice.\n  var = nanvar(a, axis=axis, dtype=dtype, out=out, ddof=ddof,\n/tmp/ipykernel_60/294650540.py:24: RuntimeWarning: Mean of empty slice\n/usr/local/lib/python3.11/dist-packages/numpy/lib/nanfunctions.py:1879: RuntimeWarning: Degrees of freedom <= 0 for slice.\n  var = nanvar(a, axis=axis, dtype=dtype, out=out, ddof=ddof,\n/tmp/ipykernel_60/294650540.py:24: RuntimeWarning: Mean of empty slice\n/usr/local/lib/python3.11/dist-packages/numpy/lib/nanfunctions.py:1879: RuntimeWarning: Degrees of freedom <= 0 for slice.\n  var = nanvar(a, axis=axis, dtype=dtype, out=out, ddof=ddof,\n/tmp/ipykernel_60/294650540.py:24: RuntimeWarning: Mean of empty slice\n/usr/local/lib/python3.11/dist-packages/numpy/lib/nanfunctions.py:1879: RuntimeWarning: Degrees of freedom <= 0 for slice.\n  var = nanvar(a, axis=axis, dtype=dtype, out=out, ddof=ddof,\n/tmp/ipykernel_60/294650540.py:24: RuntimeWarning: Mean of empty slice\n/usr/local/lib/python3.11/dist-packages/numpy/lib/nanfunctions.py:1879: RuntimeWarning: Degrees of freedom <= 0 for slice.\n  var = nanvar(a, axis=axis, dtype=dtype, out=out, ddof=ddof,\n/tmp/ipykernel_60/294650540.py:24: RuntimeWarning: Mean of empty slice\n/usr/local/lib/python3.11/dist-packages/numpy/lib/nanfunctions.py:1879: RuntimeWarning: Degrees of freedom <= 0 for slice.\n  var = nanvar(a, axis=axis, dtype=dtype, out=out, ddof=ddof,\n"
          ]
        },
        {
          "output_type": "stream",
          "name": "stderr",
          "text": [
            "/tmp/ipykernel_60/294650540.py:24: RuntimeWarning: Mean of empty slice\n/usr/local/lib/python3.11/dist-packages/numpy/lib/nanfunctions.py:1879: RuntimeWarning: Degrees of freedom <= 0 for slice.\n  var = nanvar(a, axis=axis, dtype=dtype, out=out, ddof=ddof,\n/tmp/ipykernel_60/294650540.py:24: RuntimeWarning: Mean of empty slice\n/usr/local/lib/python3.11/dist-packages/numpy/lib/nanfunctions.py:1879: RuntimeWarning: Degrees of freedom <= 0 for slice.\n  var = nanvar(a, axis=axis, dtype=dtype, out=out, ddof=ddof,\n/tmp/ipykernel_60/294650540.py:24: RuntimeWarning: Mean of empty slice\n/usr/local/lib/python3.11/dist-packages/numpy/lib/nanfunctions.py:1879: RuntimeWarning: Degrees of freedom <= 0 for slice.\n  var = nanvar(a, axis=axis, dtype=dtype, out=out, ddof=ddof,\n/tmp/ipykernel_60/294650540.py:24: RuntimeWarning: Mean of empty slice\n/usr/local/lib/python3.11/dist-packages/numpy/lib/nanfunctions.py:1879: RuntimeWarning: Degrees of freedom <= 0 for slice.\n  var = nanvar(a, axis=axis, dtype=dtype, out=out, ddof=ddof,\n/tmp/ipykernel_60/294650540.py:24: RuntimeWarning: Mean of empty slice\n/usr/local/lib/python3.11/dist-packages/numpy/lib/nanfunctions.py:1879: RuntimeWarning: Degrees of freedom <= 0 for slice.\n  var = nanvar(a, axis=axis, dtype=dtype, out=out, ddof=ddof,\n/tmp/ipykernel_60/294650540.py:24: RuntimeWarning: Mean of empty slice\n/usr/local/lib/python3.11/dist-packages/numpy/lib/nanfunctions.py:1879: RuntimeWarning: Degrees of freedom <= 0 for slice.\n  var = nanvar(a, axis=axis, dtype=dtype, out=out, ddof=ddof,\n/tmp/ipykernel_60/294650540.py:24: RuntimeWarning: Mean of empty slice\n/usr/local/lib/python3.11/dist-packages/numpy/lib/nanfunctions.py:1879: RuntimeWarning: Degrees of freedom <= 0 for slice.\n  var = nanvar(a, axis=axis, dtype=dtype, out=out, ddof=ddof,\n"
          ]
        },
        {
          "output_type": "stream",
          "name": "stderr",
          "text": [
            "/tmp/ipykernel_60/294650540.py:24: RuntimeWarning: Mean of empty slice\n/usr/local/lib/python3.11/dist-packages/numpy/lib/nanfunctions.py:1879: RuntimeWarning: Degrees of freedom <= 0 for slice.\n  var = nanvar(a, axis=axis, dtype=dtype, out=out, ddof=ddof,\n/tmp/ipykernel_60/294650540.py:24: RuntimeWarning: Mean of empty slice\n/usr/local/lib/python3.11/dist-packages/numpy/lib/nanfunctions.py:1879: RuntimeWarning: Degrees of freedom <= 0 for slice.\n  var = nanvar(a, axis=axis, dtype=dtype, out=out, ddof=ddof,\n/tmp/ipykernel_60/294650540.py:24: RuntimeWarning: Mean of empty slice\n/usr/local/lib/python3.11/dist-packages/numpy/lib/nanfunctions.py:1879: RuntimeWarning: Degrees of freedom <= 0 for slice.\n  var = nanvar(a, axis=axis, dtype=dtype, out=out, ddof=ddof,\n/tmp/ipykernel_60/294650540.py:24: RuntimeWarning: Mean of empty slice\n/usr/local/lib/python3.11/dist-packages/numpy/lib/nanfunctions.py:1879: RuntimeWarning: Degrees of freedom <= 0 for slice.\n  var = nanvar(a, axis=axis, dtype=dtype, out=out, ddof=ddof,\n/tmp/ipykernel_60/294650540.py:24: RuntimeWarning: Mean of empty slice\n/usr/local/lib/python3.11/dist-packages/numpy/lib/nanfunctions.py:1879: RuntimeWarning: Degrees of freedom <= 0 for slice.\n  var = nanvar(a, axis=axis, dtype=dtype, out=out, ddof=ddof,\n"
          ]
        },
        {
          "output_type": "stream",
          "name": "stderr",
          "text": [
            "/tmp/ipykernel_60/294650540.py:24: RuntimeWarning: Mean of empty slice\n/usr/local/lib/python3.11/dist-packages/numpy/lib/nanfunctions.py:1879: RuntimeWarning: Degrees of freedom <= 0 for slice.\n  var = nanvar(a, axis=axis, dtype=dtype, out=out, ddof=ddof,\n/tmp/ipykernel_60/294650540.py:24: RuntimeWarning: Mean of empty slice\n/usr/local/lib/python3.11/dist-packages/numpy/lib/nanfunctions.py:1879: RuntimeWarning: Degrees of freedom <= 0 for slice.\n  var = nanvar(a, axis=axis, dtype=dtype, out=out, ddof=ddof,\n/tmp/ipykernel_60/294650540.py:24: RuntimeWarning: Mean of empty slice\n/usr/local/lib/python3.11/dist-packages/numpy/lib/nanfunctions.py:1879: RuntimeWarning: Degrees of freedom <= 0 for slice.\n  var = nanvar(a, axis=axis, dtype=dtype, out=out, ddof=ddof,\n/tmp/ipykernel_60/294650540.py:24: RuntimeWarning: Mean of empty slice\n/usr/local/lib/python3.11/dist-packages/numpy/lib/nanfunctions.py:1879: RuntimeWarning: Degrees of freedom <= 0 for slice.\n  var = nanvar(a, axis=axis, dtype=dtype, out=out, ddof=ddof,\n/tmp/ipykernel_60/294650540.py:24: RuntimeWarning: Mean of empty slice\n/usr/local/lib/python3.11/dist-packages/numpy/lib/nanfunctions.py:1879: RuntimeWarning: Degrees of freedom <= 0 for slice.\n  var = nanvar(a, axis=axis, dtype=dtype, out=out, ddof=ddof,\n"
          ]
        },
        {
          "output_type": "stream",
          "name": "stderr",
          "text": [
            "/tmp/ipykernel_60/294650540.py:24: RuntimeWarning: Mean of empty slice\n/usr/local/lib/python3.11/dist-packages/numpy/lib/nanfunctions.py:1879: RuntimeWarning: Degrees of freedom <= 0 for slice.\n  var = nanvar(a, axis=axis, dtype=dtype, out=out, ddof=ddof,\n/tmp/ipykernel_60/294650540.py:24: RuntimeWarning: Mean of empty slice\n/usr/local/lib/python3.11/dist-packages/numpy/lib/nanfunctions.py:1879: RuntimeWarning: Degrees of freedom <= 0 for slice.\n  var = nanvar(a, axis=axis, dtype=dtype, out=out, ddof=ddof,\n/tmp/ipykernel_60/294650540.py:24: RuntimeWarning: Mean of empty slice\n/usr/local/lib/python3.11/dist-packages/numpy/lib/nanfunctions.py:1879: RuntimeWarning: Degrees of freedom <= 0 for slice.\n  var = nanvar(a, axis=axis, dtype=dtype, out=out, ddof=ddof,\n/tmp/ipykernel_60/294650540.py:24: RuntimeWarning: Mean of empty slice\n/usr/local/lib/python3.11/dist-packages/numpy/lib/nanfunctions.py:1879: RuntimeWarning: Degrees of freedom <= 0 for slice.\n  var = nanvar(a, axis=axis, dtype=dtype, out=out, ddof=ddof,\n/tmp/ipykernel_60/294650540.py:24: RuntimeWarning: Mean of empty slice\n/usr/local/lib/python3.11/dist-packages/numpy/lib/nanfunctions.py:1879: RuntimeWarning: Degrees of freedom <= 0 for slice.\n  var = nanvar(a, axis=axis, dtype=dtype, out=out, ddof=ddof,\n"
          ]
        },
        {
          "output_type": "stream",
          "name": "stderr",
          "text": [
            "/tmp/ipykernel_60/294650540.py:24: RuntimeWarning: Mean of empty slice\n/usr/local/lib/python3.11/dist-packages/numpy/lib/nanfunctions.py:1879: RuntimeWarning: Degrees of freedom <= 0 for slice.\n  var = nanvar(a, axis=axis, dtype=dtype, out=out, ddof=ddof,\n/tmp/ipykernel_60/294650540.py:24: RuntimeWarning: Mean of empty slice\n/usr/local/lib/python3.11/dist-packages/numpy/lib/nanfunctions.py:1879: RuntimeWarning: Degrees of freedom <= 0 for slice.\n  var = nanvar(a, axis=axis, dtype=dtype, out=out, ddof=ddof,\n/tmp/ipykernel_60/294650540.py:24: RuntimeWarning: Mean of empty slice\n/usr/local/lib/python3.11/dist-packages/numpy/lib/nanfunctions.py:1879: RuntimeWarning: Degrees of freedom <= 0 for slice.\n  var = nanvar(a, axis=axis, dtype=dtype, out=out, ddof=ddof,\n/tmp/ipykernel_60/294650540.py:24: RuntimeWarning: Mean of empty slice\n/usr/local/lib/python3.11/dist-packages/numpy/lib/nanfunctions.py:1879: RuntimeWarning: Degrees of freedom <= 0 for slice.\n  var = nanvar(a, axis=axis, dtype=dtype, out=out, ddof=ddof,\n/tmp/ipykernel_60/294650540.py:24: RuntimeWarning: Mean of empty slice\n/usr/local/lib/python3.11/dist-packages/numpy/lib/nanfunctions.py:1879: RuntimeWarning: Degrees of freedom <= 0 for slice.\n  var = nanvar(a, axis=axis, dtype=dtype, out=out, ddof=ddof,\n/tmp/ipykernel_60/294650540.py:24: RuntimeWarning: Mean of empty slice\n/usr/local/lib/python3.11/dist-packages/numpy/lib/nanfunctions.py:1879: RuntimeWarning: Degrees of freedom <= 0 for slice.\n  var = nanvar(a, axis=axis, dtype=dtype, out=out, ddof=ddof,\n/tmp/ipykernel_60/294650540.py:24: RuntimeWarning: Mean of empty slice\n/usr/local/lib/python3.11/dist-packages/numpy/lib/nanfunctions.py:1879: RuntimeWarning: Degrees of freedom <= 0 for slice.\n  var = nanvar(a, axis=axis, dtype=dtype, out=out, ddof=ddof,\n/tmp/ipykernel_60/294650540.py:24: RuntimeWarning: Mean of empty slice\n/usr/local/lib/python3.11/dist-packages/numpy/lib/nanfunctions.py:1879: RuntimeWarning: Degrees of freedom <= 0 for slice.\n  var = nanvar(a, axis=axis, dtype=dtype, out=out, ddof=ddof,\n"
          ]
        },
        {
          "output_type": "stream",
          "name": "stderr",
          "text": [
            "/tmp/ipykernel_60/294650540.py:24: RuntimeWarning: Mean of empty slice\n/usr/local/lib/python3.11/dist-packages/numpy/lib/nanfunctions.py:1879: RuntimeWarning: Degrees of freedom <= 0 for slice.\n  var = nanvar(a, axis=axis, dtype=dtype, out=out, ddof=ddof,\n/tmp/ipykernel_60/294650540.py:24: RuntimeWarning: Mean of empty slice\n/usr/local/lib/python3.11/dist-packages/numpy/lib/nanfunctions.py:1879: RuntimeWarning: Degrees of freedom <= 0 for slice.\n  var = nanvar(a, axis=axis, dtype=dtype, out=out, ddof=ddof,\n/tmp/ipykernel_60/294650540.py:24: RuntimeWarning: Mean of empty slice\n/usr/local/lib/python3.11/dist-packages/numpy/lib/nanfunctions.py:1879: RuntimeWarning: Degrees of freedom <= 0 for slice.\n  var = nanvar(a, axis=axis, dtype=dtype, out=out, ddof=ddof,\n/tmp/ipykernel_60/294650540.py:24: RuntimeWarning: Mean of empty slice\n/usr/local/lib/python3.11/dist-packages/numpy/lib/nanfunctions.py:1879: RuntimeWarning: Degrees of freedom <= 0 for slice.\n  var = nanvar(a, axis=axis, dtype=dtype, out=out, ddof=ddof,\n/tmp/ipykernel_60/294650540.py:24: RuntimeWarning: Mean of empty slice\n/usr/local/lib/python3.11/dist-packages/numpy/lib/nanfunctions.py:1879: RuntimeWarning: Degrees of freedom <= 0 for slice.\n  var = nanvar(a, axis=axis, dtype=dtype, out=out, ddof=ddof,\n/tmp/ipykernel_60/294650540.py:24: RuntimeWarning: Mean of empty slice\n/usr/local/lib/python3.11/dist-packages/numpy/lib/nanfunctions.py:1879: RuntimeWarning: Degrees of freedom <= 0 for slice.\n  var = nanvar(a, axis=axis, dtype=dtype, out=out, ddof=ddof,\n/tmp/ipykernel_60/294650540.py:24: RuntimeWarning: Mean of empty slice\n/usr/local/lib/python3.11/dist-packages/numpy/lib/nanfunctions.py:1879: RuntimeWarning: Degrees of freedom <= 0 for slice.\n  var = nanvar(a, axis=axis, dtype=dtype, out=out, ddof=ddof,\n/tmp/ipykernel_60/294650540.py:24: RuntimeWarning: Mean of empty slice\n/usr/local/lib/python3.11/dist-packages/numpy/lib/nanfunctions.py:1879: RuntimeWarning: Degrees of freedom <= 0 for slice.\n  var = nanvar(a, axis=axis, dtype=dtype, out=out, ddof=ddof,\n"
          ]
        },
        {
          "output_type": "stream",
          "name": "stderr",
          "text": [
            "/tmp/ipykernel_60/294650540.py:24: RuntimeWarning: Mean of empty slice\n/usr/local/lib/python3.11/dist-packages/numpy/lib/nanfunctions.py:1879: RuntimeWarning: Degrees of freedom <= 0 for slice.\n  var = nanvar(a, axis=axis, dtype=dtype, out=out, ddof=ddof,\n/tmp/ipykernel_60/294650540.py:24: RuntimeWarning: Mean of empty slice\n/usr/local/lib/python3.11/dist-packages/numpy/lib/nanfunctions.py:1879: RuntimeWarning: Degrees of freedom <= 0 for slice.\n  var = nanvar(a, axis=axis, dtype=dtype, out=out, ddof=ddof,\n/tmp/ipykernel_60/294650540.py:24: RuntimeWarning: Mean of empty slice\n/usr/local/lib/python3.11/dist-packages/numpy/lib/nanfunctions.py:1879: RuntimeWarning: Degrees of freedom <= 0 for slice.\n  var = nanvar(a, axis=axis, dtype=dtype, out=out, ddof=ddof,\n/tmp/ipykernel_60/294650540.py:24: RuntimeWarning: Mean of empty slice\n/usr/local/lib/python3.11/dist-packages/numpy/lib/nanfunctions.py:1879: RuntimeWarning: Degrees of freedom <= 0 for slice.\n  var = nanvar(a, axis=axis, dtype=dtype, out=out, ddof=ddof,\n/tmp/ipykernel_60/294650540.py:24: RuntimeWarning: Mean of empty slice\n/usr/local/lib/python3.11/dist-packages/numpy/lib/nanfunctions.py:1879: RuntimeWarning: Degrees of freedom <= 0 for slice.\n  var = nanvar(a, axis=axis, dtype=dtype, out=out, ddof=ddof,\n/tmp/ipykernel_60/294650540.py:24: RuntimeWarning: Mean of empty slice\n/usr/local/lib/python3.11/dist-packages/numpy/lib/nanfunctions.py:1879: RuntimeWarning: Degrees of freedom <= 0 for slice.\n  var = nanvar(a, axis=axis, dtype=dtype, out=out, ddof=ddof,\n"
          ]
        },
        {
          "output_type": "stream",
          "name": "stderr",
          "text": [
            "/tmp/ipykernel_60/294650540.py:24: RuntimeWarning: Mean of empty slice\n/usr/local/lib/python3.11/dist-packages/numpy/lib/nanfunctions.py:1879: RuntimeWarning: Degrees of freedom <= 0 for slice.\n  var = nanvar(a, axis=axis, dtype=dtype, out=out, ddof=ddof,\n/tmp/ipykernel_60/294650540.py:24: RuntimeWarning: Mean of empty slice\n/usr/local/lib/python3.11/dist-packages/numpy/lib/nanfunctions.py:1879: RuntimeWarning: Degrees of freedom <= 0 for slice.\n  var = nanvar(a, axis=axis, dtype=dtype, out=out, ddof=ddof,\n/tmp/ipykernel_60/294650540.py:24: RuntimeWarning: Mean of empty slice\n/usr/local/lib/python3.11/dist-packages/numpy/lib/nanfunctions.py:1879: RuntimeWarning: Degrees of freedom <= 0 for slice.\n  var = nanvar(a, axis=axis, dtype=dtype, out=out, ddof=ddof,\n"
          ]
        },
        {
          "output_type": "stream",
          "name": "stderr",
          "text": [
            "/tmp/ipykernel_60/294650540.py:24: RuntimeWarning: Mean of empty slice\n/usr/local/lib/python3.11/dist-packages/numpy/lib/nanfunctions.py:1879: RuntimeWarning: Degrees of freedom <= 0 for slice.\n  var = nanvar(a, axis=axis, dtype=dtype, out=out, ddof=ddof,\n/tmp/ipykernel_60/294650540.py:24: RuntimeWarning: Mean of empty slice\n/usr/local/lib/python3.11/dist-packages/numpy/lib/nanfunctions.py:1879: RuntimeWarning: Degrees of freedom <= 0 for slice.\n  var = nanvar(a, axis=axis, dtype=dtype, out=out, ddof=ddof,\n/tmp/ipykernel_60/294650540.py:24: RuntimeWarning: Mean of empty slice\n/usr/local/lib/python3.11/dist-packages/numpy/lib/nanfunctions.py:1879: RuntimeWarning: Degrees of freedom <= 0 for slice.\n  var = nanvar(a, axis=axis, dtype=dtype, out=out, ddof=ddof,\n/tmp/ipykernel_60/294650540.py:24: RuntimeWarning: Mean of empty slice\n/usr/local/lib/python3.11/dist-packages/numpy/lib/nanfunctions.py:1879: RuntimeWarning: Degrees of freedom <= 0 for slice.\n  var = nanvar(a, axis=axis, dtype=dtype, out=out, ddof=ddof,\n/tmp/ipykernel_60/294650540.py:24: RuntimeWarning: Mean of empty slice\n/usr/local/lib/python3.11/dist-packages/numpy/lib/nanfunctions.py:1879: RuntimeWarning: Degrees of freedom <= 0 for slice.\n  var = nanvar(a, axis=axis, dtype=dtype, out=out, ddof=ddof,\n/tmp/ipykernel_60/294650540.py:24: RuntimeWarning: Mean of empty slice\n/usr/local/lib/python3.11/dist-packages/numpy/lib/nanfunctions.py:1879: RuntimeWarning: Degrees of freedom <= 0 for slice.\n  var = nanvar(a, axis=axis, dtype=dtype, out=out, ddof=ddof,\n/tmp/ipykernel_60/294650540.py:24: RuntimeWarning: Mean of empty slice\n/usr/local/lib/python3.11/dist-packages/numpy/lib/nanfunctions.py:1879: RuntimeWarning: Degrees of freedom <= 0 for slice.\n  var = nanvar(a, axis=axis, dtype=dtype, out=out, ddof=ddof,\n/tmp/ipykernel_60/294650540.py:24: RuntimeWarning: Mean of empty slice\n/usr/local/lib/python3.11/dist-packages/numpy/lib/nanfunctions.py:1879: RuntimeWarning: Degrees of freedom <= 0 for slice.\n  var = nanvar(a, axis=axis, dtype=dtype, out=out, ddof=ddof,\n"
          ]
        },
        {
          "output_type": "stream",
          "name": "stderr",
          "text": [
            "/tmp/ipykernel_60/294650540.py:24: RuntimeWarning: Mean of empty slice\n/usr/local/lib/python3.11/dist-packages/numpy/lib/nanfunctions.py:1879: RuntimeWarning: Degrees of freedom <= 0 for slice.\n  var = nanvar(a, axis=axis, dtype=dtype, out=out, ddof=ddof,\n/tmp/ipykernel_60/294650540.py:24: RuntimeWarning: Mean of empty slice\n/usr/local/lib/python3.11/dist-packages/numpy/lib/nanfunctions.py:1879: RuntimeWarning: Degrees of freedom <= 0 for slice.\n  var = nanvar(a, axis=axis, dtype=dtype, out=out, ddof=ddof,\n/tmp/ipykernel_60/294650540.py:24: RuntimeWarning: Mean of empty slice\n/usr/local/lib/python3.11/dist-packages/numpy/lib/nanfunctions.py:1879: RuntimeWarning: Degrees of freedom <= 0 for slice.\n  var = nanvar(a, axis=axis, dtype=dtype, out=out, ddof=ddof,\n/tmp/ipykernel_60/294650540.py:24: RuntimeWarning: Mean of empty slice\n/usr/local/lib/python3.11/dist-packages/numpy/lib/nanfunctions.py:1879: RuntimeWarning: Degrees of freedom <= 0 for slice.\n  var = nanvar(a, axis=axis, dtype=dtype, out=out, ddof=ddof,\n/tmp/ipykernel_60/294650540.py:24: RuntimeWarning: Mean of empty slice\n/usr/local/lib/python3.11/dist-packages/numpy/lib/nanfunctions.py:1879: RuntimeWarning: Degrees of freedom <= 0 for slice.\n  var = nanvar(a, axis=axis, dtype=dtype, out=out, ddof=ddof,\n/tmp/ipykernel_60/294650540.py:24: RuntimeWarning: Mean of empty slice\n/usr/local/lib/python3.11/dist-packages/numpy/lib/nanfunctions.py:1879: RuntimeWarning: Degrees of freedom <= 0 for slice.\n  var = nanvar(a, axis=axis, dtype=dtype, out=out, ddof=ddof,\n/tmp/ipykernel_60/294650540.py:24: RuntimeWarning: Mean of empty slice\n/usr/local/lib/python3.11/dist-packages/numpy/lib/nanfunctions.py:1879: RuntimeWarning: Degrees of freedom <= 0 for slice.\n  var = nanvar(a, axis=axis, dtype=dtype, out=out, ddof=ddof,\n"
          ]
        },
        {
          "output_type": "stream",
          "name": "stderr",
          "text": [
            "/tmp/ipykernel_60/294650540.py:24: RuntimeWarning: Mean of empty slice\n/usr/local/lib/python3.11/dist-packages/numpy/lib/nanfunctions.py:1879: RuntimeWarning: Degrees of freedom <= 0 for slice.\n  var = nanvar(a, axis=axis, dtype=dtype, out=out, ddof=ddof,\n/tmp/ipykernel_60/294650540.py:24: RuntimeWarning: Mean of empty slice\n/usr/local/lib/python3.11/dist-packages/numpy/lib/nanfunctions.py:1879: RuntimeWarning: Degrees of freedom <= 0 for slice.\n  var = nanvar(a, axis=axis, dtype=dtype, out=out, ddof=ddof,\n/tmp/ipykernel_60/294650540.py:24: RuntimeWarning: Mean of empty slice\n/usr/local/lib/python3.11/dist-packages/numpy/lib/nanfunctions.py:1879: RuntimeWarning: Degrees of freedom <= 0 for slice.\n  var = nanvar(a, axis=axis, dtype=dtype, out=out, ddof=ddof,\n/tmp/ipykernel_60/294650540.py:24: RuntimeWarning: Mean of empty slice\n/usr/local/lib/python3.11/dist-packages/numpy/lib/nanfunctions.py:1879: RuntimeWarning: Degrees of freedom <= 0 for slice.\n  var = nanvar(a, axis=axis, dtype=dtype, out=out, ddof=ddof,\n/tmp/ipykernel_60/294650540.py:24: RuntimeWarning: Mean of empty slice\n/usr/local/lib/python3.11/dist-packages/numpy/lib/nanfunctions.py:1879: RuntimeWarning: Degrees of freedom <= 0 for slice.\n  var = nanvar(a, axis=axis, dtype=dtype, out=out, ddof=ddof,\n/tmp/ipykernel_60/294650540.py:24: RuntimeWarning: Mean of empty slice\n/usr/local/lib/python3.11/dist-packages/numpy/lib/nanfunctions.py:1879: RuntimeWarning: Degrees of freedom <= 0 for slice.\n  var = nanvar(a, axis=axis, dtype=dtype, out=out, ddof=ddof,\n/tmp/ipykernel_60/294650540.py:24: RuntimeWarning: Mean of empty slice\n/usr/local/lib/python3.11/dist-packages/numpy/lib/nanfunctions.py:1879: RuntimeWarning: Degrees of freedom <= 0 for slice.\n  var = nanvar(a, axis=axis, dtype=dtype, out=out, ddof=ddof,\n/tmp/ipykernel_60/294650540.py:24: RuntimeWarning: Mean of empty slice\n/tmp/ipykernel_60/294650540.py:24: RuntimeWarning: Mean of empty slice\n/usr/local/lib/python3.11/dist-packages/numpy/lib/nanfunctions.py:1879: RuntimeWarning: Degrees of freedom <= 0 for slice.\n  var = nanvar(a, axis=axis, dtype=dtype, out=out, ddof=ddof,\n/usr/local/lib/python3.11/dist-packages/numpy/lib/nanfunctions.py:1879: RuntimeWarning: Degrees of freedom <= 0 for slice.\n  var = nanvar(a, axis=axis, dtype=dtype, out=out, ddof=ddof,\n/tmp/ipykernel_60/294650540.py:24: RuntimeWarning: Mean of empty slice\n/usr/local/lib/python3.11/dist-packages/numpy/lib/nanfunctions.py:1879: RuntimeWarning: Degrees of freedom <= 0 for slice.\n  var = nanvar(a, axis=axis, dtype=dtype, out=out, ddof=ddof,\n"
          ]
        },
        {
          "output_type": "stream",
          "name": "stderr",
          "text": [
            "/tmp/ipykernel_60/294650540.py:24: RuntimeWarning: Mean of empty slice\n/usr/local/lib/python3.11/dist-packages/numpy/lib/nanfunctions.py:1879: RuntimeWarning: Degrees of freedom <= 0 for slice.\n  var = nanvar(a, axis=axis, dtype=dtype, out=out, ddof=ddof,\n/tmp/ipykernel_60/294650540.py:24: RuntimeWarning: Mean of empty slice\n/usr/local/lib/python3.11/dist-packages/numpy/lib/nanfunctions.py:1879: RuntimeWarning: Degrees of freedom <= 0 for slice.\n  var = nanvar(a, axis=axis, dtype=dtype, out=out, ddof=ddof,\n/tmp/ipykernel_60/294650540.py:24: RuntimeWarning: Mean of empty slice\n/usr/local/lib/python3.11/dist-packages/numpy/lib/nanfunctions.py:1879: RuntimeWarning: Degrees of freedom <= 0 for slice.\n  var = nanvar(a, axis=axis, dtype=dtype, out=out, ddof=ddof,\n/tmp/ipykernel_60/294650540.py:24: RuntimeWarning: Mean of empty slice\n/usr/local/lib/python3.11/dist-packages/numpy/lib/nanfunctions.py:1879: RuntimeWarning: Degrees of freedom <= 0 for slice.\n  var = nanvar(a, axis=axis, dtype=dtype, out=out, ddof=ddof,\n/tmp/ipykernel_60/294650540.py:24: RuntimeWarning: Mean of empty slice\n/usr/local/lib/python3.11/dist-packages/numpy/lib/nanfunctions.py:1879: RuntimeWarning: Degrees of freedom <= 0 for slice.\n  var = nanvar(a, axis=axis, dtype=dtype, out=out, ddof=ddof,\n"
          ]
        },
        {
          "output_type": "stream",
          "name": "stderr",
          "text": [
            "/tmp/ipykernel_60/294650540.py:24: RuntimeWarning: Mean of empty slice\n/usr/local/lib/python3.11/dist-packages/numpy/lib/nanfunctions.py:1879: RuntimeWarning: Degrees of freedom <= 0 for slice.\n  var = nanvar(a, axis=axis, dtype=dtype, out=out, ddof=ddof,\n/tmp/ipykernel_60/294650540.py:24: RuntimeWarning: Mean of empty slice\n/usr/local/lib/python3.11/dist-packages/numpy/lib/nanfunctions.py:1879: RuntimeWarning: Degrees of freedom <= 0 for slice.\n  var = nanvar(a, axis=axis, dtype=dtype, out=out, ddof=ddof,\n/tmp/ipykernel_60/294650540.py:24: RuntimeWarning: Mean of empty slice\n/usr/local/lib/python3.11/dist-packages/numpy/lib/nanfunctions.py:1879: RuntimeWarning: Degrees of freedom <= 0 for slice.\n  var = nanvar(a, axis=axis, dtype=dtype, out=out, ddof=ddof,\n/tmp/ipykernel_60/294650540.py:24: RuntimeWarning: Mean of empty slice\n/usr/local/lib/python3.11/dist-packages/numpy/lib/nanfunctions.py:1879: RuntimeWarning: Degrees of freedom <= 0 for slice.\n  var = nanvar(a, axis=axis, dtype=dtype, out=out, ddof=ddof,\n/tmp/ipykernel_60/294650540.py:24: RuntimeWarning: Mean of empty slice\n/usr/local/lib/python3.11/dist-packages/numpy/lib/nanfunctions.py:1879: RuntimeWarning: Degrees of freedom <= 0 for slice.\n  var = nanvar(a, axis=axis, dtype=dtype, out=out, ddof=ddof,\n"
          ]
        },
        {
          "output_type": "stream",
          "name": "stderr",
          "text": [
            "/tmp/ipykernel_60/294650540.py:24: RuntimeWarning: Mean of empty slice\n/usr/local/lib/python3.11/dist-packages/numpy/lib/nanfunctions.py:1879: RuntimeWarning: Degrees of freedom <= 0 for slice.\n  var = nanvar(a, axis=axis, dtype=dtype, out=out, ddof=ddof,\n/tmp/ipykernel_60/294650540.py:24: RuntimeWarning: Mean of empty slice\n/usr/local/lib/python3.11/dist-packages/numpy/lib/nanfunctions.py:1879: RuntimeWarning: Degrees of freedom <= 0 for slice.\n  var = nanvar(a, axis=axis, dtype=dtype, out=out, ddof=ddof,\n/tmp/ipykernel_60/294650540.py:24: RuntimeWarning: Mean of empty slice\n/usr/local/lib/python3.11/dist-packages/numpy/lib/nanfunctions.py:1879: RuntimeWarning: Degrees of freedom <= 0 for slice.\n  var = nanvar(a, axis=axis, dtype=dtype, out=out, ddof=ddof,\n/tmp/ipykernel_60/294650540.py:24: RuntimeWarning: Mean of empty slice\n/usr/local/lib/python3.11/dist-packages/numpy/lib/nanfunctions.py:1879: RuntimeWarning: Degrees of freedom <= 0 for slice.\n  var = nanvar(a, axis=axis, dtype=dtype, out=out, ddof=ddof,\n/tmp/ipykernel_60/294650540.py:24: RuntimeWarning: Mean of empty slice\n/usr/local/lib/python3.11/dist-packages/numpy/lib/nanfunctions.py:1879: RuntimeWarning: Degrees of freedom <= 0 for slice.\n  var = nanvar(a, axis=axis, dtype=dtype, out=out, ddof=ddof,\n/tmp/ipykernel_60/294650540.py:24: RuntimeWarning: Mean of empty slice\n/usr/local/lib/python3.11/dist-packages/numpy/lib/nanfunctions.py:1879: RuntimeWarning: Degrees of freedom <= 0 for slice.\n  var = nanvar(a, axis=axis, dtype=dtype, out=out, ddof=ddof,\n/tmp/ipykernel_60/294650540.py:24: RuntimeWarning: Mean of empty slice\n/usr/local/lib/python3.11/dist-packages/numpy/lib/nanfunctions.py:1879: RuntimeWarning: Degrees of freedom <= 0 for slice.\n  var = nanvar(a, axis=axis, dtype=dtype, out=out, ddof=ddof,\n"
          ]
        },
        {
          "output_type": "stream",
          "name": "stderr",
          "text": [
            "/tmp/ipykernel_60/294650540.py:24: RuntimeWarning: Mean of empty slice\n/usr/local/lib/python3.11/dist-packages/numpy/lib/nanfunctions.py:1879: RuntimeWarning: Degrees of freedom <= 0 for slice.\n  var = nanvar(a, axis=axis, dtype=dtype, out=out, ddof=ddof,\n/tmp/ipykernel_60/294650540.py:24: RuntimeWarning: Mean of empty slice\n/usr/local/lib/python3.11/dist-packages/numpy/lib/nanfunctions.py:1879: RuntimeWarning: Degrees of freedom <= 0 for slice.\n  var = nanvar(a, axis=axis, dtype=dtype, out=out, ddof=ddof,\n/tmp/ipykernel_60/294650540.py:24: RuntimeWarning: Mean of empty slice\n/usr/local/lib/python3.11/dist-packages/numpy/lib/nanfunctions.py:1879: RuntimeWarning: Degrees of freedom <= 0 for slice.\n  var = nanvar(a, axis=axis, dtype=dtype, out=out, ddof=ddof,\n/tmp/ipykernel_60/294650540.py:24: RuntimeWarning: Mean of empty slice\n/usr/local/lib/python3.11/dist-packages/numpy/lib/nanfunctions.py:1879: RuntimeWarning: Degrees of freedom <= 0 for slice.\n  var = nanvar(a, axis=axis, dtype=dtype, out=out, ddof=ddof,\n/tmp/ipykernel_60/294650540.py:24: RuntimeWarning: Mean of empty slice\n/usr/local/lib/python3.11/dist-packages/numpy/lib/nanfunctions.py:1879: RuntimeWarning: Degrees of freedom <= 0 for slice.\n  var = nanvar(a, axis=axis, dtype=dtype, out=out, ddof=ddof,\n/tmp/ipykernel_60/294650540.py:24: RuntimeWarning: Mean of empty slice\n/usr/local/lib/python3.11/dist-packages/numpy/lib/nanfunctions.py:1879: RuntimeWarning: Degrees of freedom <= 0 for slice.\n  var = nanvar(a, axis=axis, dtype=dtype, out=out, ddof=ddof,\n/tmp/ipykernel_60/294650540.py:24: RuntimeWarning: Mean of empty slice\n/usr/local/lib/python3.11/dist-packages/numpy/lib/nanfunctions.py:1879: RuntimeWarning: Degrees of freedom <= 0 for slice.\n  var = nanvar(a, axis=axis, dtype=dtype, out=out, ddof=ddof,\n/tmp/ipykernel_60/294650540.py:24: RuntimeWarning: Mean of empty slice\n/usr/local/lib/python3.11/dist-packages/numpy/lib/nanfunctions.py:1879: RuntimeWarning: Degrees of freedom <= 0 for slice.\n  var = nanvar(a, axis=axis, dtype=dtype, out=out, ddof=ddof,\n/tmp/ipykernel_60/294650540.py:24: RuntimeWarning: Mean of empty slice\n/usr/local/lib/python3.11/dist-packages/numpy/lib/nanfunctions.py:1879: RuntimeWarning: Degrees of freedom <= 0 for slice.\n  var = nanvar(a, axis=axis, dtype=dtype, out=out, ddof=ddof,\n/tmp/ipykernel_60/294650540.py:24: RuntimeWarning: Mean of empty slice\n/usr/local/lib/python3.11/dist-packages/numpy/lib/nanfunctions.py:1879: RuntimeWarning: Degrees of freedom <= 0 for slice.\n  var = nanvar(a, axis=axis, dtype=dtype, out=out, ddof=ddof,\n/tmp/ipykernel_60/294650540.py:24: RuntimeWarning: Mean of empty slice\n/usr/local/lib/python3.11/dist-packages/numpy/lib/nanfunctions.py:1879: RuntimeWarning: Degrees of freedom <= 0 for slice.\n  var = nanvar(a, axis=axis, dtype=dtype, out=out, ddof=ddof,\n/tmp/ipykernel_60/294650540.py:24: RuntimeWarning: Mean of empty slice\n/usr/local/lib/python3.11/dist-packages/numpy/lib/nanfunctions.py:1879: RuntimeWarning: Degrees of freedom <= 0 for slice.\n  var = nanvar(a, axis=axis, dtype=dtype, out=out, ddof=ddof,\n"
          ]
        },
        {
          "output_type": "stream",
          "name": "stderr",
          "text": [
            "/tmp/ipykernel_60/294650540.py:24: RuntimeWarning: Mean of empty slice\n/usr/local/lib/python3.11/dist-packages/numpy/lib/nanfunctions.py:1879: RuntimeWarning: Degrees of freedom <= 0 for slice.\n  var = nanvar(a, axis=axis, dtype=dtype, out=out, ddof=ddof,\n/tmp/ipykernel_60/294650540.py:24: RuntimeWarning: Mean of empty slice\n/usr/local/lib/python3.11/dist-packages/numpy/lib/nanfunctions.py:1879: RuntimeWarning: Degrees of freedom <= 0 for slice.\n  var = nanvar(a, axis=axis, dtype=dtype, out=out, ddof=ddof,\n/tmp/ipykernel_60/294650540.py:24: RuntimeWarning: Mean of empty slice\n/usr/local/lib/python3.11/dist-packages/numpy/lib/nanfunctions.py:1879: RuntimeWarning: Degrees of freedom <= 0 for slice.\n  var = nanvar(a, axis=axis, dtype=dtype, out=out, ddof=ddof,\n/tmp/ipykernel_60/294650540.py:24: RuntimeWarning: Mean of empty slice\n/usr/local/lib/python3.11/dist-packages/numpy/lib/nanfunctions.py:1879: RuntimeWarning: Degrees of freedom <= 0 for slice.\n  var = nanvar(a, axis=axis, dtype=dtype, out=out, ddof=ddof,\n/tmp/ipykernel_60/294650540.py:24: RuntimeWarning: Mean of empty slice\n/usr/local/lib/python3.11/dist-packages/numpy/lib/nanfunctions.py:1879: RuntimeWarning: Degrees of freedom <= 0 for slice.\n  var = nanvar(a, axis=axis, dtype=dtype, out=out, ddof=ddof,\n"
          ]
        },
        {
          "output_type": "stream",
          "name": "stderr",
          "text": [
            "/tmp/ipykernel_60/294650540.py:24: RuntimeWarning: Mean of empty slice\n/usr/local/lib/python3.11/dist-packages/numpy/lib/nanfunctions.py:1879: RuntimeWarning: Degrees of freedom <= 0 for slice.\n  var = nanvar(a, axis=axis, dtype=dtype, out=out, ddof=ddof,\n/tmp/ipykernel_60/294650540.py:24: RuntimeWarning: Mean of empty slice\n/usr/local/lib/python3.11/dist-packages/numpy/lib/nanfunctions.py:1879: RuntimeWarning: Degrees of freedom <= 0 for slice.\n  var = nanvar(a, axis=axis, dtype=dtype, out=out, ddof=ddof,\n/tmp/ipykernel_60/294650540.py:24: RuntimeWarning: Mean of empty slice\n/usr/local/lib/python3.11/dist-packages/numpy/lib/nanfunctions.py:1879: RuntimeWarning: Degrees of freedom <= 0 for slice.\n  var = nanvar(a, axis=axis, dtype=dtype, out=out, ddof=ddof,\n/tmp/ipykernel_60/294650540.py:24: RuntimeWarning: Mean of empty slice\n/usr/local/lib/python3.11/dist-packages/numpy/lib/nanfunctions.py:1879: RuntimeWarning: Degrees of freedom <= 0 for slice.\n  var = nanvar(a, axis=axis, dtype=dtype, out=out, ddof=ddof,\n/tmp/ipykernel_60/294650540.py:24: RuntimeWarning: Mean of empty slice\n/usr/local/lib/python3.11/dist-packages/numpy/lib/nanfunctions.py:1879: RuntimeWarning: Degrees of freedom <= 0 for slice.\n  var = nanvar(a, axis=axis, dtype=dtype, out=out, ddof=ddof,\n/tmp/ipykernel_60/294650540.py:24: RuntimeWarning: Mean of empty slice\n/usr/local/lib/python3.11/dist-packages/numpy/lib/nanfunctions.py:1879: RuntimeWarning: Degrees of freedom <= 0 for slice.\n  var = nanvar(a, axis=axis, dtype=dtype, out=out, ddof=ddof,\n"
          ]
        },
        {
          "output_type": "stream",
          "name": "stderr",
          "text": [
            "/tmp/ipykernel_60/294650540.py:24: RuntimeWarning: Mean of empty slice\n/usr/local/lib/python3.11/dist-packages/numpy/lib/nanfunctions.py:1879: RuntimeWarning: Degrees of freedom <= 0 for slice.\n  var = nanvar(a, axis=axis, dtype=dtype, out=out, ddof=ddof,\n/tmp/ipykernel_60/294650540.py:24: RuntimeWarning: Mean of empty slice\n/usr/local/lib/python3.11/dist-packages/numpy/lib/nanfunctions.py:1879: RuntimeWarning: Degrees of freedom <= 0 for slice.\n  var = nanvar(a, axis=axis, dtype=dtype, out=out, ddof=ddof,\n/tmp/ipykernel_60/294650540.py:24: RuntimeWarning: Mean of empty slice\n/usr/local/lib/python3.11/dist-packages/numpy/lib/nanfunctions.py:1879: RuntimeWarning: Degrees of freedom <= 0 for slice.\n  var = nanvar(a, axis=axis, dtype=dtype, out=out, ddof=ddof,\n/tmp/ipykernel_60/294650540.py:24: RuntimeWarning: Mean of empty slice\n/usr/local/lib/python3.11/dist-packages/numpy/lib/nanfunctions.py:1879: RuntimeWarning: Degrees of freedom <= 0 for slice.\n  var = nanvar(a, axis=axis, dtype=dtype, out=out, ddof=ddof,\n/tmp/ipykernel_60/294650540.py:24: RuntimeWarning: Mean of empty slice\n/usr/local/lib/python3.11/dist-packages/numpy/lib/nanfunctions.py:1879: RuntimeWarning: Degrees of freedom <= 0 for slice.\n  var = nanvar(a, axis=axis, dtype=dtype, out=out, ddof=ddof,\n"
          ]
        },
        {
          "output_type": "stream",
          "name": "stderr",
          "text": [
            "/tmp/ipykernel_60/294650540.py:24: RuntimeWarning: Mean of empty slice\n/usr/local/lib/python3.11/dist-packages/numpy/lib/nanfunctions.py:1879: RuntimeWarning: Degrees of freedom <= 0 for slice.\n  var = nanvar(a, axis=axis, dtype=dtype, out=out, ddof=ddof,\n/tmp/ipykernel_60/294650540.py:24: RuntimeWarning: Mean of empty slice\n/usr/local/lib/python3.11/dist-packages/numpy/lib/nanfunctions.py:1879: RuntimeWarning: Degrees of freedom <= 0 for slice.\n  var = nanvar(a, axis=axis, dtype=dtype, out=out, ddof=ddof,\n/tmp/ipykernel_60/294650540.py:24: RuntimeWarning: Mean of empty slice\n/usr/local/lib/python3.11/dist-packages/numpy/lib/nanfunctions.py:1879: RuntimeWarning: Degrees of freedom <= 0 for slice.\n  var = nanvar(a, axis=axis, dtype=dtype, out=out, ddof=ddof,\n/tmp/ipykernel_60/294650540.py:24: RuntimeWarning: Mean of empty slice\n/usr/local/lib/python3.11/dist-packages/numpy/lib/nanfunctions.py:1879: RuntimeWarning: Degrees of freedom <= 0 for slice.\n  var = nanvar(a, axis=axis, dtype=dtype, out=out, ddof=ddof,\n/tmp/ipykernel_60/294650540.py:24: RuntimeWarning: Mean of empty slice\n/usr/local/lib/python3.11/dist-packages/numpy/lib/nanfunctions.py:1879: RuntimeWarning: Degrees of freedom <= 0 for slice.\n  var = nanvar(a, axis=axis, dtype=dtype, out=out, ddof=ddof,\n/tmp/ipykernel_60/294650540.py:24: RuntimeWarning: Mean of empty slice\n/usr/local/lib/python3.11/dist-packages/numpy/lib/nanfunctions.py:1879: RuntimeWarning: Degrees of freedom <= 0 for slice.\n  var = nanvar(a, axis=axis, dtype=dtype, out=out, ddof=ddof,\n/tmp/ipykernel_60/294650540.py:24: RuntimeWarning: Mean of empty slice\n/tmp/ipykernel_60/294650540.py:24: RuntimeWarning: Mean of empty slice\n/usr/local/lib/python3.11/dist-packages/numpy/lib/nanfunctions.py:1879: RuntimeWarning: Degrees of freedom <= 0 for slice.\n  var = nanvar(a, axis=axis, dtype=dtype, out=out, ddof=ddof,\n/usr/local/lib/python3.11/dist-packages/numpy/lib/nanfunctions.py:1879: RuntimeWarning: Degrees of freedom <= 0 for slice.\n  var = nanvar(a, axis=axis, dtype=dtype, out=out, ddof=ddof,\n"
          ]
        },
        {
          "output_type": "stream",
          "name": "stderr",
          "text": [
            "/tmp/ipykernel_60/294650540.py:24: RuntimeWarning: Mean of empty slice\n/usr/local/lib/python3.11/dist-packages/numpy/lib/nanfunctions.py:1879: RuntimeWarning: Degrees of freedom <= 0 for slice.\n  var = nanvar(a, axis=axis, dtype=dtype, out=out, ddof=ddof,\n/tmp/ipykernel_60/294650540.py:24: RuntimeWarning: Mean of empty slice\n/usr/local/lib/python3.11/dist-packages/numpy/lib/nanfunctions.py:1879: RuntimeWarning: Degrees of freedom <= 0 for slice.\n  var = nanvar(a, axis=axis, dtype=dtype, out=out, ddof=ddof,\n/tmp/ipykernel_60/294650540.py:24: RuntimeWarning: Mean of empty slice\n/usr/local/lib/python3.11/dist-packages/numpy/lib/nanfunctions.py:1879: RuntimeWarning: Degrees of freedom <= 0 for slice.\n  var = nanvar(a, axis=axis, dtype=dtype, out=out, ddof=ddof,\n/tmp/ipykernel_60/294650540.py:24: RuntimeWarning: Mean of empty slice\n/usr/local/lib/python3.11/dist-packages/numpy/lib/nanfunctions.py:1879: RuntimeWarning: Degrees of freedom <= 0 for slice.\n  var = nanvar(a, axis=axis, dtype=dtype, out=out, ddof=ddof,\n/tmp/ipykernel_60/294650540.py:24: RuntimeWarning: Mean of empty slice\n/usr/local/lib/python3.11/dist-packages/numpy/lib/nanfunctions.py:1879: RuntimeWarning: Degrees of freedom <= 0 for slice.\n  var = nanvar(a, axis=axis, dtype=dtype, out=out, ddof=ddof,\n"
          ]
        },
        {
          "output_type": "stream",
          "name": "stderr",
          "text": [
            "/tmp/ipykernel_60/294650540.py:24: RuntimeWarning: Mean of empty slice\n/usr/local/lib/python3.11/dist-packages/numpy/lib/nanfunctions.py:1879: RuntimeWarning: Degrees of freedom <= 0 for slice.\n  var = nanvar(a, axis=axis, dtype=dtype, out=out, ddof=ddof,\n/tmp/ipykernel_60/294650540.py:24: RuntimeWarning: Mean of empty slice\n/usr/local/lib/python3.11/dist-packages/numpy/lib/nanfunctions.py:1879: RuntimeWarning: Degrees of freedom <= 0 for slice.\n  var = nanvar(a, axis=axis, dtype=dtype, out=out, ddof=ddof,\n/tmp/ipykernel_60/294650540.py:24: RuntimeWarning: Mean of empty slice\n/usr/local/lib/python3.11/dist-packages/numpy/lib/nanfunctions.py:1879: RuntimeWarning: Degrees of freedom <= 0 for slice.\n  var = nanvar(a, axis=axis, dtype=dtype, out=out, ddof=ddof,\n/tmp/ipykernel_60/294650540.py:24: RuntimeWarning: Mean of empty slice\n/usr/local/lib/python3.11/dist-packages/numpy/lib/nanfunctions.py:1879: RuntimeWarning: Degrees of freedom <= 0 for slice.\n  var = nanvar(a, axis=axis, dtype=dtype, out=out, ddof=ddof,\n/tmp/ipykernel_60/294650540.py:24: RuntimeWarning: Mean of empty slice\n/usr/local/lib/python3.11/dist-packages/numpy/lib/nanfunctions.py:1879: RuntimeWarning: Degrees of freedom <= 0 for slice.\n  var = nanvar(a, axis=axis, dtype=dtype, out=out, ddof=ddof,\n/tmp/ipykernel_60/294650540.py:24: RuntimeWarning: Mean of empty slice\n/usr/local/lib/python3.11/dist-packages/numpy/lib/nanfunctions.py:1879: RuntimeWarning: Degrees of freedom <= 0 for slice.\n  var = nanvar(a, axis=axis, dtype=dtype, out=out, ddof=ddof,\n"
          ]
        },
        {
          "output_type": "stream",
          "name": "stderr",
          "text": [
            "/tmp/ipykernel_60/294650540.py:24: RuntimeWarning: Mean of empty slice\n/usr/local/lib/python3.11/dist-packages/numpy/lib/nanfunctions.py:1879: RuntimeWarning: Degrees of freedom <= 0 for slice.\n  var = nanvar(a, axis=axis, dtype=dtype, out=out, ddof=ddof,\n/tmp/ipykernel_60/294650540.py:24: RuntimeWarning: Mean of empty slice\n/usr/local/lib/python3.11/dist-packages/numpy/lib/nanfunctions.py:1879: RuntimeWarning: Degrees of freedom <= 0 for slice.\n  var = nanvar(a, axis=axis, dtype=dtype, out=out, ddof=ddof,\n/tmp/ipykernel_60/294650540.py:24: RuntimeWarning: Mean of empty slice\n/usr/local/lib/python3.11/dist-packages/numpy/lib/nanfunctions.py:1879: RuntimeWarning: Degrees of freedom <= 0 for slice.\n  var = nanvar(a, axis=axis, dtype=dtype, out=out, ddof=ddof,\n/tmp/ipykernel_60/294650540.py:24: RuntimeWarning: Mean of empty slice\n/usr/local/lib/python3.11/dist-packages/numpy/lib/nanfunctions.py:1879: RuntimeWarning: Degrees of freedom <= 0 for slice.\n  var = nanvar(a, axis=axis, dtype=dtype, out=out, ddof=ddof,\n/tmp/ipykernel_60/294650540.py:24: RuntimeWarning: Mean of empty slice\n/usr/local/lib/python3.11/dist-packages/numpy/lib/nanfunctions.py:1879: RuntimeWarning: Degrees of freedom <= 0 for slice.\n  var = nanvar(a, axis=axis, dtype=dtype, out=out, ddof=ddof,\n/tmp/ipykernel_60/294650540.py:24: RuntimeWarning: Mean of empty slice\n/usr/local/lib/python3.11/dist-packages/numpy/lib/nanfunctions.py:1879: RuntimeWarning: Degrees of freedom <= 0 for slice.\n  var = nanvar(a, axis=axis, dtype=dtype, out=out, ddof=ddof,\n/tmp/ipykernel_60/294650540.py:24: RuntimeWarning: Mean of empty slice\n/usr/local/lib/python3.11/dist-packages/numpy/lib/nanfunctions.py:1879: RuntimeWarning: Degrees of freedom <= 0 for slice.\n  var = nanvar(a, axis=axis, dtype=dtype, out=out, ddof=ddof,\n"
          ]
        },
        {
          "output_type": "stream",
          "name": "stderr",
          "text": [
            "/tmp/ipykernel_60/294650540.py:24: RuntimeWarning: Mean of empty slice\n/usr/local/lib/python3.11/dist-packages/numpy/lib/nanfunctions.py:1879: RuntimeWarning: Degrees of freedom <= 0 for slice.\n  var = nanvar(a, axis=axis, dtype=dtype, out=out, ddof=ddof,\n/tmp/ipykernel_60/294650540.py:24: RuntimeWarning: Mean of empty slice\n/usr/local/lib/python3.11/dist-packages/numpy/lib/nanfunctions.py:1879: RuntimeWarning: Degrees of freedom <= 0 for slice.\n  var = nanvar(a, axis=axis, dtype=dtype, out=out, ddof=ddof,\n/tmp/ipykernel_60/294650540.py:24: RuntimeWarning: Mean of empty slice\n/usr/local/lib/python3.11/dist-packages/numpy/lib/nanfunctions.py:1879: RuntimeWarning: Degrees of freedom <= 0 for slice.\n  var = nanvar(a, axis=axis, dtype=dtype, out=out, ddof=ddof,\n/tmp/ipykernel_60/294650540.py:24: RuntimeWarning: Mean of empty slice\n/usr/local/lib/python3.11/dist-packages/numpy/lib/nanfunctions.py:1879: RuntimeWarning: Degrees of freedom <= 0 for slice.\n  var = nanvar(a, axis=axis, dtype=dtype, out=out, ddof=ddof,\n"
          ]
        },
        {
          "output_type": "stream",
          "name": "stderr",
          "text": [
            "/tmp/ipykernel_60/294650540.py:24: RuntimeWarning: Mean of empty slice\n/usr/local/lib/python3.11/dist-packages/numpy/lib/nanfunctions.py:1879: RuntimeWarning: Degrees of freedom <= 0 for slice.\n  var = nanvar(a, axis=axis, dtype=dtype, out=out, ddof=ddof,\n/tmp/ipykernel_60/294650540.py:24: RuntimeWarning: Mean of empty slice\n/usr/local/lib/python3.11/dist-packages/numpy/lib/nanfunctions.py:1879: RuntimeWarning: Degrees of freedom <= 0 for slice.\n  var = nanvar(a, axis=axis, dtype=dtype, out=out, ddof=ddof,\n/tmp/ipykernel_60/294650540.py:24: RuntimeWarning: Mean of empty slice\n/usr/local/lib/python3.11/dist-packages/numpy/lib/nanfunctions.py:1879: RuntimeWarning: Degrees of freedom <= 0 for slice.\n  var = nanvar(a, axis=axis, dtype=dtype, out=out, ddof=ddof,\n/tmp/ipykernel_60/294650540.py:24: RuntimeWarning: Mean of empty slice\n/usr/local/lib/python3.11/dist-packages/numpy/lib/nanfunctions.py:1879: RuntimeWarning: Degrees of freedom <= 0 for slice.\n  var = nanvar(a, axis=axis, dtype=dtype, out=out, ddof=ddof,\n/tmp/ipykernel_60/294650540.py:24: RuntimeWarning: Mean of empty slice\n/usr/local/lib/python3.11/dist-packages/numpy/lib/nanfunctions.py:1879: RuntimeWarning: Degrees of freedom <= 0 for slice.\n  var = nanvar(a, axis=axis, dtype=dtype, out=out, ddof=ddof,\n/tmp/ipykernel_60/294650540.py:24: RuntimeWarning: Mean of empty slice\n/usr/local/lib/python3.11/dist-packages/numpy/lib/nanfunctions.py:1879: RuntimeWarning: Degrees of freedom <= 0 for slice.\n  var = nanvar(a, axis=axis, dtype=dtype, out=out, ddof=ddof,\n"
          ]
        },
        {
          "output_type": "stream",
          "name": "stderr",
          "text": [
            "/tmp/ipykernel_60/294650540.py:24: RuntimeWarning: Mean of empty slice\n/usr/local/lib/python3.11/dist-packages/numpy/lib/nanfunctions.py:1879: RuntimeWarning: Degrees of freedom <= 0 for slice.\n  var = nanvar(a, axis=axis, dtype=dtype, out=out, ddof=ddof,\n/tmp/ipykernel_60/294650540.py:24: RuntimeWarning: Mean of empty slice\n/usr/local/lib/python3.11/dist-packages/numpy/lib/nanfunctions.py:1879: RuntimeWarning: Degrees of freedom <= 0 for slice.\n  var = nanvar(a, axis=axis, dtype=dtype, out=out, ddof=ddof,\n/tmp/ipykernel_60/294650540.py:24: RuntimeWarning: Mean of empty slice\n/usr/local/lib/python3.11/dist-packages/numpy/lib/nanfunctions.py:1879: RuntimeWarning: Degrees of freedom <= 0 for slice.\n  var = nanvar(a, axis=axis, dtype=dtype, out=out, ddof=ddof,\n/tmp/ipykernel_60/294650540.py:24: RuntimeWarning: Mean of empty slice\n/usr/local/lib/python3.11/dist-packages/numpy/lib/nanfunctions.py:1879: RuntimeWarning: Degrees of freedom <= 0 for slice.\n  var = nanvar(a, axis=axis, dtype=dtype, out=out, ddof=ddof,\n/tmp/ipykernel_60/294650540.py:24: RuntimeWarning: Mean of empty slice\n/usr/local/lib/python3.11/dist-packages/numpy/lib/nanfunctions.py:1879: RuntimeWarning: Degrees of freedom <= 0 for slice.\n  var = nanvar(a, axis=axis, dtype=dtype, out=out, ddof=ddof,\n/tmp/ipykernel_60/294650540.py:24: RuntimeWarning: Mean of empty slice\n/usr/local/lib/python3.11/dist-packages/numpy/lib/nanfunctions.py:1879: RuntimeWarning: Degrees of freedom <= 0 for slice.\n  var = nanvar(a, axis=axis, dtype=dtype, out=out, ddof=ddof,\n/tmp/ipykernel_60/294650540.py:24: RuntimeWarning: Mean of empty slice\n/usr/local/lib/python3.11/dist-packages/numpy/lib/nanfunctions.py:1879: RuntimeWarning: Degrees of freedom <= 0 for slice.\n  var = nanvar(a, axis=axis, dtype=dtype, out=out, ddof=ddof,\n"
          ]
        },
        {
          "output_type": "stream",
          "name": "stderr",
          "text": [
            "/tmp/ipykernel_60/294650540.py:24: RuntimeWarning: Mean of empty slice\n/usr/local/lib/python3.11/dist-packages/numpy/lib/nanfunctions.py:1879: RuntimeWarning: Degrees of freedom <= 0 for slice.\n  var = nanvar(a, axis=axis, dtype=dtype, out=out, ddof=ddof,\n/tmp/ipykernel_60/294650540.py:24: RuntimeWarning: Mean of empty slice\n/usr/local/lib/python3.11/dist-packages/numpy/lib/nanfunctions.py:1879: RuntimeWarning: Degrees of freedom <= 0 for slice.\n  var = nanvar(a, axis=axis, dtype=dtype, out=out, ddof=ddof,\n/tmp/ipykernel_60/294650540.py:24: RuntimeWarning: Mean of empty slice\n/usr/local/lib/python3.11/dist-packages/numpy/lib/nanfunctions.py:1879: RuntimeWarning: Degrees of freedom <= 0 for slice.\n  var = nanvar(a, axis=axis, dtype=dtype, out=out, ddof=ddof,\n/tmp/ipykernel_60/294650540.py:24: RuntimeWarning: Mean of empty slice\n/usr/local/lib/python3.11/dist-packages/numpy/lib/nanfunctions.py:1879: RuntimeWarning: Degrees of freedom <= 0 for slice.\n  var = nanvar(a, axis=axis, dtype=dtype, out=out, ddof=ddof,\n/tmp/ipykernel_60/294650540.py:24: RuntimeWarning: Mean of empty slice\n/usr/local/lib/python3.11/dist-packages/numpy/lib/nanfunctions.py:1879: RuntimeWarning: Degrees of freedom <= 0 for slice.\n  var = nanvar(a, axis=axis, dtype=dtype, out=out, ddof=ddof,\n/tmp/ipykernel_60/294650540.py:24: RuntimeWarning: Mean of empty slice\n/usr/local/lib/python3.11/dist-packages/numpy/lib/nanfunctions.py:1879: RuntimeWarning: Degrees of freedom <= 0 for slice.\n  var = nanvar(a, axis=axis, dtype=dtype, out=out, ddof=ddof,\n"
          ]
        },
        {
          "output_type": "stream",
          "name": "stderr",
          "text": [
            "/tmp/ipykernel_60/294650540.py:24: RuntimeWarning: Mean of empty slice\n/usr/local/lib/python3.11/dist-packages/numpy/lib/nanfunctions.py:1879: RuntimeWarning: Degrees of freedom <= 0 for slice.\n  var = nanvar(a, axis=axis, dtype=dtype, out=out, ddof=ddof,\n/tmp/ipykernel_60/294650540.py:24: RuntimeWarning: Mean of empty slice\n/usr/local/lib/python3.11/dist-packages/numpy/lib/nanfunctions.py:1879: RuntimeWarning: Degrees of freedom <= 0 for slice.\n  var = nanvar(a, axis=axis, dtype=dtype, out=out, ddof=ddof,\n/tmp/ipykernel_60/294650540.py:24: RuntimeWarning: Mean of empty slice\n/usr/local/lib/python3.11/dist-packages/numpy/lib/nanfunctions.py:1879: RuntimeWarning: Degrees of freedom <= 0 for slice.\n  var = nanvar(a, axis=axis, dtype=dtype, out=out, ddof=ddof,\n/tmp/ipykernel_60/294650540.py:24: RuntimeWarning: Mean of empty slice\n/usr/local/lib/python3.11/dist-packages/numpy/lib/nanfunctions.py:1879: RuntimeWarning: Degrees of freedom <= 0 for slice.\n  var = nanvar(a, axis=axis, dtype=dtype, out=out, ddof=ddof,\n/tmp/ipykernel_60/294650540.py:24: RuntimeWarning: Mean of empty slice\n/usr/local/lib/python3.11/dist-packages/numpy/lib/nanfunctions.py:1879: RuntimeWarning: Degrees of freedom <= 0 for slice.\n  var = nanvar(a, axis=axis, dtype=dtype, out=out, ddof=ddof,\n/tmp/ipykernel_60/294650540.py:24: RuntimeWarning: Mean of empty slice\n/usr/local/lib/python3.11/dist-packages/numpy/lib/nanfunctions.py:1879: RuntimeWarning: Degrees of freedom <= 0 for slice.\n  var = nanvar(a, axis=axis, dtype=dtype, out=out, ddof=ddof,\n/tmp/ipykernel_60/294650540.py:24: RuntimeWarning: Mean of empty slice\n/usr/local/lib/python3.11/dist-packages/numpy/lib/nanfunctions.py:1879: RuntimeWarning: Degrees of freedom <= 0 for slice.\n  var = nanvar(a, axis=axis, dtype=dtype, out=out, ddof=ddof,\n/tmp/ipykernel_60/294650540.py:24: RuntimeWarning: Mean of empty slice\n/usr/local/lib/python3.11/dist-packages/numpy/lib/nanfunctions.py:1879: RuntimeWarning: Degrees of freedom <= 0 for slice.\n  var = nanvar(a, axis=axis, dtype=dtype, out=out, ddof=ddof,\n/tmp/ipykernel_60/294650540.py:24: RuntimeWarning: Mean of empty slice\n/usr/local/lib/python3.11/dist-packages/numpy/lib/nanfunctions.py:1879: RuntimeWarning: Degrees of freedom <= 0 for slice.\n  var = nanvar(a, axis=axis, dtype=dtype, out=out, ddof=ddof,\n/tmp/ipykernel_60/294650540.py:24: RuntimeWarning: Mean of empty slice\n/usr/local/lib/python3.11/dist-packages/numpy/lib/nanfunctions.py:1879: RuntimeWarning: Degrees of freedom <= 0 for slice.\n  var = nanvar(a, axis=axis, dtype=dtype, out=out, ddof=ddof,\n"
          ]
        },
        {
          "output_type": "stream",
          "name": "stderr",
          "text": [
            "/tmp/ipykernel_60/294650540.py:24: RuntimeWarning: Mean of empty slice\n/usr/local/lib/python3.11/dist-packages/numpy/lib/nanfunctions.py:1879: RuntimeWarning: Degrees of freedom <= 0 for slice.\n  var = nanvar(a, axis=axis, dtype=dtype, out=out, ddof=ddof,\n/tmp/ipykernel_60/294650540.py:24: RuntimeWarning: Mean of empty slice\n/usr/local/lib/python3.11/dist-packages/numpy/lib/nanfunctions.py:1879: RuntimeWarning: Degrees of freedom <= 0 for slice.\n  var = nanvar(a, axis=axis, dtype=dtype, out=out, ddof=ddof,\n/tmp/ipykernel_60/294650540.py:24: RuntimeWarning: Mean of empty slice\n/usr/local/lib/python3.11/dist-packages/numpy/lib/nanfunctions.py:1879: RuntimeWarning: Degrees of freedom <= 0 for slice.\n  var = nanvar(a, axis=axis, dtype=dtype, out=out, ddof=ddof,\n"
          ]
        },
        {
          "output_type": "stream",
          "name": "stderr",
          "text": [
            "/tmp/ipykernel_60/294650540.py:24: RuntimeWarning: Mean of empty slice\n/usr/local/lib/python3.11/dist-packages/numpy/lib/nanfunctions.py:1879: RuntimeWarning: Degrees of freedom <= 0 for slice.\n  var = nanvar(a, axis=axis, dtype=dtype, out=out, ddof=ddof,\n/tmp/ipykernel_60/294650540.py:24: RuntimeWarning: Mean of empty slice\n/usr/local/lib/python3.11/dist-packages/numpy/lib/nanfunctions.py:1879: RuntimeWarning: Degrees of freedom <= 0 for slice.\n  var = nanvar(a, axis=axis, dtype=dtype, out=out, ddof=ddof,\n/tmp/ipykernel_60/294650540.py:24: RuntimeWarning: Mean of empty slice\n/tmp/ipykernel_60/294650540.py:24: RuntimeWarning: Mean of empty slice\n/usr/local/lib/python3.11/dist-packages/numpy/lib/nanfunctions.py:1879: RuntimeWarning: Degrees of freedom <= 0 for slice.\n  var = nanvar(a, axis=axis, dtype=dtype, out=out, ddof=ddof,\n/usr/local/lib/python3.11/dist-packages/numpy/lib/nanfunctions.py:1879: RuntimeWarning: Degrees of freedom <= 0 for slice.\n  var = nanvar(a, axis=axis, dtype=dtype, out=out, ddof=ddof,\n/tmp/ipykernel_60/294650540.py:24: RuntimeWarning: Mean of empty slice\n/usr/local/lib/python3.11/dist-packages/numpy/lib/nanfunctions.py:1879: RuntimeWarning: Degrees of freedom <= 0 for slice.\n  var = nanvar(a, axis=axis, dtype=dtype, out=out, ddof=ddof,\n/tmp/ipykernel_60/294650540.py:24: RuntimeWarning: Mean of empty slice\n/usr/local/lib/python3.11/dist-packages/numpy/lib/nanfunctions.py:1879: RuntimeWarning: Degrees of freedom <= 0 for slice.\n  var = nanvar(a, axis=axis, dtype=dtype, out=out, ddof=ddof,\n/tmp/ipykernel_60/294650540.py:24: RuntimeWarning: Mean of empty slice\n/usr/local/lib/python3.11/dist-packages/numpy/lib/nanfunctions.py:1879: RuntimeWarning: Degrees of freedom <= 0 for slice.\n  var = nanvar(a, axis=axis, dtype=dtype, out=out, ddof=ddof,\n"
          ]
        },
        {
          "output_type": "stream",
          "name": "stderr",
          "text": [
            "/tmp/ipykernel_60/294650540.py:24: RuntimeWarning: Mean of empty slice\n/usr/local/lib/python3.11/dist-packages/numpy/lib/nanfunctions.py:1879: RuntimeWarning: Degrees of freedom <= 0 for slice.\n  var = nanvar(a, axis=axis, dtype=dtype, out=out, ddof=ddof,\n/tmp/ipykernel_60/294650540.py:24: RuntimeWarning: Mean of empty slice\n/usr/local/lib/python3.11/dist-packages/numpy/lib/nanfunctions.py:1879: RuntimeWarning: Degrees of freedom <= 0 for slice.\n  var = nanvar(a, axis=axis, dtype=dtype, out=out, ddof=ddof,\n/tmp/ipykernel_60/294650540.py:24: RuntimeWarning: Mean of empty slice\n/usr/local/lib/python3.11/dist-packages/numpy/lib/nanfunctions.py:1879: RuntimeWarning: Degrees of freedom <= 0 for slice.\n  var = nanvar(a, axis=axis, dtype=dtype, out=out, ddof=ddof,\n/tmp/ipykernel_60/294650540.py:24: RuntimeWarning: Mean of empty slice\n/usr/local/lib/python3.11/dist-packages/numpy/lib/nanfunctions.py:1879: RuntimeWarning: Degrees of freedom <= 0 for slice.\n  var = nanvar(a, axis=axis, dtype=dtype, out=out, ddof=ddof,\n/tmp/ipykernel_60/294650540.py:24: RuntimeWarning: Mean of empty slice\n/usr/local/lib/python3.11/dist-packages/numpy/lib/nanfunctions.py:1879: RuntimeWarning: Degrees of freedom <= 0 for slice.\n  var = nanvar(a, axis=axis, dtype=dtype, out=out, ddof=ddof,\n/tmp/ipykernel_60/294650540.py:24: RuntimeWarning: Mean of empty slice\n/usr/local/lib/python3.11/dist-packages/numpy/lib/nanfunctions.py:1879: RuntimeWarning: Degrees of freedom <= 0 for slice.\n  var = nanvar(a, axis=axis, dtype=dtype, out=out, ddof=ddof,\n/tmp/ipykernel_60/294650540.py:24: RuntimeWarning: Mean of empty slice\n/usr/local/lib/python3.11/dist-packages/numpy/lib/nanfunctions.py:1879: RuntimeWarning: Degrees of freedom <= 0 for slice.\n  var = nanvar(a, axis=axis, dtype=dtype, out=out, ddof=ddof,\n"
          ]
        },
        {
          "output_type": "stream",
          "name": "stderr",
          "text": [
            "/tmp/ipykernel_60/294650540.py:24: RuntimeWarning: Mean of empty slice\n/usr/local/lib/python3.11/dist-packages/numpy/lib/nanfunctions.py:1879: RuntimeWarning: Degrees of freedom <= 0 for slice.\n  var = nanvar(a, axis=axis, dtype=dtype, out=out, ddof=ddof,\n/tmp/ipykernel_60/294650540.py:24: RuntimeWarning: Mean of empty slice\n/usr/local/lib/python3.11/dist-packages/numpy/lib/nanfunctions.py:1879: RuntimeWarning: Degrees of freedom <= 0 for slice.\n  var = nanvar(a, axis=axis, dtype=dtype, out=out, ddof=ddof,\n/tmp/ipykernel_60/294650540.py:24: RuntimeWarning: Mean of empty slice\n/usr/local/lib/python3.11/dist-packages/numpy/lib/nanfunctions.py:1879: RuntimeWarning: Degrees of freedom <= 0 for slice.\n  var = nanvar(a, axis=axis, dtype=dtype, out=out, ddof=ddof,\n/tmp/ipykernel_60/294650540.py:24: RuntimeWarning: Mean of empty slice\n/usr/local/lib/python3.11/dist-packages/numpy/lib/nanfunctions.py:1879: RuntimeWarning: Degrees of freedom <= 0 for slice.\n  var = nanvar(a, axis=axis, dtype=dtype, out=out, ddof=ddof,\n/tmp/ipykernel_60/294650540.py:24: RuntimeWarning: Mean of empty slice\n/usr/local/lib/python3.11/dist-packages/numpy/lib/nanfunctions.py:1879: RuntimeWarning: Degrees of freedom <= 0 for slice.\n  var = nanvar(a, axis=axis, dtype=dtype, out=out, ddof=ddof,\n"
          ]
        },
        {
          "output_type": "stream",
          "name": "stderr",
          "text": [
            "/tmp/ipykernel_60/294650540.py:24: RuntimeWarning: Mean of empty slice\n/usr/local/lib/python3.11/dist-packages/numpy/lib/nanfunctions.py:1879: RuntimeWarning: Degrees of freedom <= 0 for slice.\n  var = nanvar(a, axis=axis, dtype=dtype, out=out, ddof=ddof,\n/tmp/ipykernel_60/294650540.py:24: RuntimeWarning: Mean of empty slice\n/usr/local/lib/python3.11/dist-packages/numpy/lib/nanfunctions.py:1879: RuntimeWarning: Degrees of freedom <= 0 for slice.\n  var = nanvar(a, axis=axis, dtype=dtype, out=out, ddof=ddof,\n/tmp/ipykernel_60/294650540.py:24: RuntimeWarning: Mean of empty slice\n/usr/local/lib/python3.11/dist-packages/numpy/lib/nanfunctions.py:1879: RuntimeWarning: Degrees of freedom <= 0 for slice.\n  var = nanvar(a, axis=axis, dtype=dtype, out=out, ddof=ddof,\n/tmp/ipykernel_60/294650540.py:24: RuntimeWarning: Mean of empty slice\n/usr/local/lib/python3.11/dist-packages/numpy/lib/nanfunctions.py:1879: RuntimeWarning: Degrees of freedom <= 0 for slice.\n  var = nanvar(a, axis=axis, dtype=dtype, out=out, ddof=ddof,\n/tmp/ipykernel_60/294650540.py:24: RuntimeWarning: Mean of empty slice\n/usr/local/lib/python3.11/dist-packages/numpy/lib/nanfunctions.py:1879: RuntimeWarning: Degrees of freedom <= 0 for slice.\n  var = nanvar(a, axis=axis, dtype=dtype, out=out, ddof=ddof,\n/tmp/ipykernel_60/294650540.py:24: RuntimeWarning: Mean of empty slice\n/usr/local/lib/python3.11/dist-packages/numpy/lib/nanfunctions.py:1879: RuntimeWarning: Degrees of freedom <= 0 for slice.\n  var = nanvar(a, axis=axis, dtype=dtype, out=out, ddof=ddof,\n"
          ]
        },
        {
          "output_type": "stream",
          "name": "stderr",
          "text": [
            "/tmp/ipykernel_60/294650540.py:24: RuntimeWarning: Mean of empty slice\n/usr/local/lib/python3.11/dist-packages/numpy/lib/nanfunctions.py:1879: RuntimeWarning: Degrees of freedom <= 0 for slice.\n  var = nanvar(a, axis=axis, dtype=dtype, out=out, ddof=ddof,\n/tmp/ipykernel_60/294650540.py:24: RuntimeWarning: Mean of empty slice\n/usr/local/lib/python3.11/dist-packages/numpy/lib/nanfunctions.py:1879: RuntimeWarning: Degrees of freedom <= 0 for slice.\n  var = nanvar(a, axis=axis, dtype=dtype, out=out, ddof=ddof,\n/tmp/ipykernel_60/294650540.py:24: RuntimeWarning: Mean of empty slice\n/usr/local/lib/python3.11/dist-packages/numpy/lib/nanfunctions.py:1879: RuntimeWarning: Degrees of freedom <= 0 for slice.\n  var = nanvar(a, axis=axis, dtype=dtype, out=out, ddof=ddof,\n/tmp/ipykernel_60/294650540.py:24: RuntimeWarning: Mean of empty slice\n/usr/local/lib/python3.11/dist-packages/numpy/lib/nanfunctions.py:1879: RuntimeWarning: Degrees of freedom <= 0 for slice.\n  var = nanvar(a, axis=axis, dtype=dtype, out=out, ddof=ddof,\n/tmp/ipykernel_60/294650540.py:24: RuntimeWarning: Mean of empty slice\n/usr/local/lib/python3.11/dist-packages/numpy/lib/nanfunctions.py:1879: RuntimeWarning: Degrees of freedom <= 0 for slice.\n  var = nanvar(a, axis=axis, dtype=dtype, out=out, ddof=ddof,\n/tmp/ipykernel_60/294650540.py:24: RuntimeWarning: Mean of empty slice\n/usr/local/lib/python3.11/dist-packages/numpy/lib/nanfunctions.py:1879: RuntimeWarning: Degrees of freedom <= 0 for slice.\n  var = nanvar(a, axis=axis, dtype=dtype, out=out, ddof=ddof,\n/tmp/ipykernel_60/294650540.py:24: RuntimeWarning: Mean of empty slice\n/usr/local/lib/python3.11/dist-packages/numpy/lib/nanfunctions.py:1879: RuntimeWarning: Degrees of freedom <= 0 for slice.\n  var = nanvar(a, axis=axis, dtype=dtype, out=out, ddof=ddof,\n"
          ]
        },
        {
          "output_type": "stream",
          "name": "stderr",
          "text": [
            "/tmp/ipykernel_60/294650540.py:24: RuntimeWarning: Mean of empty slice\n/usr/local/lib/python3.11/dist-packages/numpy/lib/nanfunctions.py:1879: RuntimeWarning: Degrees of freedom <= 0 for slice.\n  var = nanvar(a, axis=axis, dtype=dtype, out=out, ddof=ddof,\n/tmp/ipykernel_60/294650540.py:24: RuntimeWarning: Mean of empty slice\n/usr/local/lib/python3.11/dist-packages/numpy/lib/nanfunctions.py:1879: RuntimeWarning: Degrees of freedom <= 0 for slice.\n  var = nanvar(a, axis=axis, dtype=dtype, out=out, ddof=ddof,\n/tmp/ipykernel_60/294650540.py:24: RuntimeWarning: Mean of empty slice\n/usr/local/lib/python3.11/dist-packages/numpy/lib/nanfunctions.py:1879: RuntimeWarning: Degrees of freedom <= 0 for slice.\n  var = nanvar(a, axis=axis, dtype=dtype, out=out, ddof=ddof,\n/tmp/ipykernel_60/294650540.py:24: RuntimeWarning: Mean of empty slice\n/usr/local/lib/python3.11/dist-packages/numpy/lib/nanfunctions.py:1879: RuntimeWarning: Degrees of freedom <= 0 for slice.\n  var = nanvar(a, axis=axis, dtype=dtype, out=out, ddof=ddof,\n/tmp/ipykernel_60/294650540.py:24: RuntimeWarning: Mean of empty slice\n/usr/local/lib/python3.11/dist-packages/numpy/lib/nanfunctions.py:1879: RuntimeWarning: Degrees of freedom <= 0 for slice.\n  var = nanvar(a, axis=axis, dtype=dtype, out=out, ddof=ddof,\n/tmp/ipykernel_60/294650540.py:24: RuntimeWarning: Mean of empty slice\n/usr/local/lib/python3.11/dist-packages/numpy/lib/nanfunctions.py:1879: RuntimeWarning: Degrees of freedom <= 0 for slice.\n  var = nanvar(a, axis=axis, dtype=dtype, out=out, ddof=ddof,\n/tmp/ipykernel_60/294650540.py:24: RuntimeWarning: Mean of empty slice\n/usr/local/lib/python3.11/dist-packages/numpy/lib/nanfunctions.py:1879: RuntimeWarning: Degrees of freedom <= 0 for slice.\n  var = nanvar(a, axis=axis, dtype=dtype, out=out, ddof=ddof,\n/tmp/ipykernel_60/294650540.py:24: RuntimeWarning: Mean of empty slice\n/usr/local/lib/python3.11/dist-packages/numpy/lib/nanfunctions.py:1879: RuntimeWarning: Degrees of freedom <= 0 for slice.\n  var = nanvar(a, axis=axis, dtype=dtype, out=out, ddof=ddof,\n"
          ]
        },
        {
          "output_type": "stream",
          "name": "stderr",
          "text": [
            "/tmp/ipykernel_60/294650540.py:24: RuntimeWarning: Mean of empty slice\n/usr/local/lib/python3.11/dist-packages/numpy/lib/nanfunctions.py:1879: RuntimeWarning: Degrees of freedom <= 0 for slice.\n  var = nanvar(a, axis=axis, dtype=dtype, out=out, ddof=ddof,\n/tmp/ipykernel_60/294650540.py:24: RuntimeWarning: Mean of empty slice\n/usr/local/lib/python3.11/dist-packages/numpy/lib/nanfunctions.py:1879: RuntimeWarning: Degrees of freedom <= 0 for slice.\n  var = nanvar(a, axis=axis, dtype=dtype, out=out, ddof=ddof,\n"
          ]
        },
        {
          "output_type": "stream",
          "name": "stderr",
          "text": [
            "/tmp/ipykernel_60/294650540.py:24: RuntimeWarning: Mean of empty slice\n/usr/local/lib/python3.11/dist-packages/numpy/lib/nanfunctions.py:1879: RuntimeWarning: Degrees of freedom <= 0 for slice.\n  var = nanvar(a, axis=axis, dtype=dtype, out=out, ddof=ddof,\n/tmp/ipykernel_60/294650540.py:24: RuntimeWarning: Mean of empty slice\n/usr/local/lib/python3.11/dist-packages/numpy/lib/nanfunctions.py:1879: RuntimeWarning: Degrees of freedom <= 0 for slice.\n  var = nanvar(a, axis=axis, dtype=dtype, out=out, ddof=ddof,\n/tmp/ipykernel_60/294650540.py:24: RuntimeWarning: Mean of empty slice\n/usr/local/lib/python3.11/dist-packages/numpy/lib/nanfunctions.py:1879: RuntimeWarning: Degrees of freedom <= 0 for slice.\n  var = nanvar(a, axis=axis, dtype=dtype, out=out, ddof=ddof,\n/tmp/ipykernel_60/294650540.py:24: RuntimeWarning: Mean of empty slice\n/usr/local/lib/python3.11/dist-packages/numpy/lib/nanfunctions.py:1879: RuntimeWarning: Degrees of freedom <= 0 for slice.\n  var = nanvar(a, axis=axis, dtype=dtype, out=out, ddof=ddof,\n/tmp/ipykernel_60/294650540.py:24: RuntimeWarning: Mean of empty slice\n/usr/local/lib/python3.11/dist-packages/numpy/lib/nanfunctions.py:1879: RuntimeWarning: Degrees of freedom <= 0 for slice.\n  var = nanvar(a, axis=axis, dtype=dtype, out=out, ddof=ddof,\n/tmp/ipykernel_60/294650540.py:24: RuntimeWarning: Mean of empty slice\n/usr/local/lib/python3.11/dist-packages/numpy/lib/nanfunctions.py:1879: RuntimeWarning: Degrees of freedom <= 0 for slice.\n  var = nanvar(a, axis=axis, dtype=dtype, out=out, ddof=ddof,\n"
          ]
        },
        {
          "output_type": "stream",
          "name": "stderr",
          "text": [
            "/tmp/ipykernel_60/294650540.py:24: RuntimeWarning: Mean of empty slice\n/usr/local/lib/python3.11/dist-packages/numpy/lib/nanfunctions.py:1879: RuntimeWarning: Degrees of freedom <= 0 for slice.\n  var = nanvar(a, axis=axis, dtype=dtype, out=out, ddof=ddof,\n/tmp/ipykernel_60/294650540.py:24: RuntimeWarning: Mean of empty slice\n/usr/local/lib/python3.11/dist-packages/numpy/lib/nanfunctions.py:1879: RuntimeWarning: Degrees of freedom <= 0 for slice.\n  var = nanvar(a, axis=axis, dtype=dtype, out=out, ddof=ddof,\n/tmp/ipykernel_60/294650540.py:24: RuntimeWarning: Mean of empty slice\n/usr/local/lib/python3.11/dist-packages/numpy/lib/nanfunctions.py:1879: RuntimeWarning: Degrees of freedom <= 0 for slice.\n  var = nanvar(a, axis=axis, dtype=dtype, out=out, ddof=ddof,\n/tmp/ipykernel_60/294650540.py:24: RuntimeWarning: Mean of empty slice\n/usr/local/lib/python3.11/dist-packages/numpy/lib/nanfunctions.py:1879: RuntimeWarning: Degrees of freedom <= 0 for slice.\n  var = nanvar(a, axis=axis, dtype=dtype, out=out, ddof=ddof,\n/tmp/ipykernel_60/294650540.py:24: RuntimeWarning: Mean of empty slice\n/usr/local/lib/python3.11/dist-packages/numpy/lib/nanfunctions.py:1879: RuntimeWarning: Degrees of freedom <= 0 for slice.\n  var = nanvar(a, axis=axis, dtype=dtype, out=out, ddof=ddof,\n/tmp/ipykernel_60/294650540.py:24: RuntimeWarning: Mean of empty slice\n/usr/local/lib/python3.11/dist-packages/numpy/lib/nanfunctions.py:1879: RuntimeWarning: Degrees of freedom <= 0 for slice.\n  var = nanvar(a, axis=axis, dtype=dtype, out=out, ddof=ddof,\n/tmp/ipykernel_60/294650540.py:24: RuntimeWarning: Mean of empty slice\n/usr/local/lib/python3.11/dist-packages/numpy/lib/nanfunctions.py:1879: RuntimeWarning: Degrees of freedom <= 0 for slice.\n  var = nanvar(a, axis=axis, dtype=dtype, out=out, ddof=ddof,\n"
          ]
        },
        {
          "output_type": "stream",
          "name": "stderr",
          "text": [
            "/tmp/ipykernel_60/294650540.py:24: RuntimeWarning: Mean of empty slice\n/usr/local/lib/python3.11/dist-packages/numpy/lib/nanfunctions.py:1879: RuntimeWarning: Degrees of freedom <= 0 for slice.\n  var = nanvar(a, axis=axis, dtype=dtype, out=out, ddof=ddof,\n/tmp/ipykernel_60/294650540.py:24: RuntimeWarning: Mean of empty slice\n/usr/local/lib/python3.11/dist-packages/numpy/lib/nanfunctions.py:1879: RuntimeWarning: Degrees of freedom <= 0 for slice.\n  var = nanvar(a, axis=axis, dtype=dtype, out=out, ddof=ddof,\n/tmp/ipykernel_60/294650540.py:24: RuntimeWarning: Mean of empty slice\n/usr/local/lib/python3.11/dist-packages/numpy/lib/nanfunctions.py:1879: RuntimeWarning: Degrees of freedom <= 0 for slice.\n  var = nanvar(a, axis=axis, dtype=dtype, out=out, ddof=ddof,\n/tmp/ipykernel_60/294650540.py:24: RuntimeWarning: Mean of empty slice\n/usr/local/lib/python3.11/dist-packages/numpy/lib/nanfunctions.py:1879: RuntimeWarning: Degrees of freedom <= 0 for slice.\n  var = nanvar(a, axis=axis, dtype=dtype, out=out, ddof=ddof,\n/tmp/ipykernel_60/294650540.py:24: RuntimeWarning: Mean of empty slice\n/usr/local/lib/python3.11/dist-packages/numpy/lib/nanfunctions.py:1879: RuntimeWarning: Degrees of freedom <= 0 for slice.\n  var = nanvar(a, axis=axis, dtype=dtype, out=out, ddof=ddof,\n/tmp/ipykernel_60/294650540.py:24: RuntimeWarning: Mean of empty slice\n/usr/local/lib/python3.11/dist-packages/numpy/lib/nanfunctions.py:1879: RuntimeWarning: Degrees of freedom <= 0 for slice.\n  var = nanvar(a, axis=axis, dtype=dtype, out=out, ddof=ddof,\n/tmp/ipykernel_60/294650540.py:24: RuntimeWarning: Mean of empty slice\n/usr/local/lib/python3.11/dist-packages/numpy/lib/nanfunctions.py:1879: RuntimeWarning: Degrees of freedom <= 0 for slice.\n  var = nanvar(a, axis=axis, dtype=dtype, out=out, ddof=ddof,\n"
          ]
        },
        {
          "output_type": "stream",
          "name": "stderr",
          "text": [
            "/tmp/ipykernel_60/294650540.py:24: RuntimeWarning: Mean of empty slice\n/usr/local/lib/python3.11/dist-packages/numpy/lib/nanfunctions.py:1879: RuntimeWarning: Degrees of freedom <= 0 for slice.\n  var = nanvar(a, axis=axis, dtype=dtype, out=out, ddof=ddof,\n/tmp/ipykernel_60/294650540.py:24: RuntimeWarning: Mean of empty slice\n/usr/local/lib/python3.11/dist-packages/numpy/lib/nanfunctions.py:1879: RuntimeWarning: Degrees of freedom <= 0 for slice.\n  var = nanvar(a, axis=axis, dtype=dtype, out=out, ddof=ddof,\n/tmp/ipykernel_60/294650540.py:24: RuntimeWarning: Mean of empty slice\n/usr/local/lib/python3.11/dist-packages/numpy/lib/nanfunctions.py:1879: RuntimeWarning: Degrees of freedom <= 0 for slice.\n  var = nanvar(a, axis=axis, dtype=dtype, out=out, ddof=ddof,\n/tmp/ipykernel_60/294650540.py:24: RuntimeWarning: Mean of empty slice\n/usr/local/lib/python3.11/dist-packages/numpy/lib/nanfunctions.py:1879: RuntimeWarning: Degrees of freedom <= 0 for slice.\n  var = nanvar(a, axis=axis, dtype=dtype, out=out, ddof=ddof,\n/tmp/ipykernel_60/294650540.py:24: RuntimeWarning: Mean of empty slice\n/usr/local/lib/python3.11/dist-packages/numpy/lib/nanfunctions.py:1879: RuntimeWarning: Degrees of freedom <= 0 for slice.\n  var = nanvar(a, axis=axis, dtype=dtype, out=out, ddof=ddof,\n"
          ]
        },
        {
          "output_type": "stream",
          "name": "stderr",
          "text": [
            "/tmp/ipykernel_60/294650540.py:24: RuntimeWarning: Mean of empty slice\n/usr/local/lib/python3.11/dist-packages/numpy/lib/nanfunctions.py:1879: RuntimeWarning: Degrees of freedom <= 0 for slice.\n  var = nanvar(a, axis=axis, dtype=dtype, out=out, ddof=ddof,\n/tmp/ipykernel_60/294650540.py:24: RuntimeWarning: Mean of empty slice\n/usr/local/lib/python3.11/dist-packages/numpy/lib/nanfunctions.py:1879: RuntimeWarning: Degrees of freedom <= 0 for slice.\n  var = nanvar(a, axis=axis, dtype=dtype, out=out, ddof=ddof,\n/tmp/ipykernel_60/294650540.py:24: RuntimeWarning: Mean of empty slice\n/usr/local/lib/python3.11/dist-packages/numpy/lib/nanfunctions.py:1879: RuntimeWarning: Degrees of freedom <= 0 for slice.\n  var = nanvar(a, axis=axis, dtype=dtype, out=out, ddof=ddof,\n/tmp/ipykernel_60/294650540.py:24: RuntimeWarning: Mean of empty slice\n/usr/local/lib/python3.11/dist-packages/numpy/lib/nanfunctions.py:1879: RuntimeWarning: Degrees of freedom <= 0 for slice.\n  var = nanvar(a, axis=axis, dtype=dtype, out=out, ddof=ddof,\n/tmp/ipykernel_60/294650540.py:24: RuntimeWarning: Mean of empty slice\n/usr/local/lib/python3.11/dist-packages/numpy/lib/nanfunctions.py:1879: RuntimeWarning: Degrees of freedom <= 0 for slice.\n  var = nanvar(a, axis=axis, dtype=dtype, out=out, ddof=ddof,\n/tmp/ipykernel_60/294650540.py:24: RuntimeWarning: Mean of empty slice\n/usr/local/lib/python3.11/dist-packages/numpy/lib/nanfunctions.py:1879: RuntimeWarning: Degrees of freedom <= 0 for slice.\n  var = nanvar(a, axis=axis, dtype=dtype, out=out, ddof=ddof,\n/tmp/ipykernel_60/294650540.py:24: RuntimeWarning: Mean of empty slice\n/usr/local/lib/python3.11/dist-packages/numpy/lib/nanfunctions.py:1879: RuntimeWarning: Degrees of freedom <= 0 for slice.\n  var = nanvar(a, axis=axis, dtype=dtype, out=out, ddof=ddof,\n/tmp/ipykernel_60/294650540.py:24: RuntimeWarning: Mean of empty slice\n/usr/local/lib/python3.11/dist-packages/numpy/lib/nanfunctions.py:1879: RuntimeWarning: Degrees of freedom <= 0 for slice.\n  var = nanvar(a, axis=axis, dtype=dtype, out=out, ddof=ddof,\n/tmp/ipykernel_60/294650540.py:24: RuntimeWarning: Mean of empty slice\n/usr/local/lib/python3.11/dist-packages/numpy/lib/nanfunctions.py:1879: RuntimeWarning: Degrees of freedom <= 0 for slice.\n  var = nanvar(a, axis=axis, dtype=dtype, out=out, ddof=ddof,\n/tmp/ipykernel_60/294650540.py:24: RuntimeWarning: Mean of empty slice\n/usr/local/lib/python3.11/dist-packages/numpy/lib/nanfunctions.py:1879: RuntimeWarning: Degrees of freedom <= 0 for slice.\n  var = nanvar(a, axis=axis, dtype=dtype, out=out, ddof=ddof,\n/tmp/ipykernel_60/294650540.py:24: RuntimeWarning: Mean of empty slice\n/usr/local/lib/python3.11/dist-packages/numpy/lib/nanfunctions.py:1879: RuntimeWarning: Degrees of freedom <= 0 for slice.\n  var = nanvar(a, axis=axis, dtype=dtype, out=out, ddof=ddof,\n"
          ]
        },
        {
          "output_type": "stream",
          "name": "stderr",
          "text": [
            "/tmp/ipykernel_60/294650540.py:24: RuntimeWarning: Mean of empty slice\n/usr/local/lib/python3.11/dist-packages/numpy/lib/nanfunctions.py:1879: RuntimeWarning: Degrees of freedom <= 0 for slice.\n  var = nanvar(a, axis=axis, dtype=dtype, out=out, ddof=ddof,\n/tmp/ipykernel_60/294650540.py:24: RuntimeWarning: Mean of empty slice\n/usr/local/lib/python3.11/dist-packages/numpy/lib/nanfunctions.py:1879: RuntimeWarning: Degrees of freedom <= 0 for slice.\n  var = nanvar(a, axis=axis, dtype=dtype, out=out, ddof=ddof,\n/tmp/ipykernel_60/294650540.py:24: RuntimeWarning: Mean of empty slice\n/usr/local/lib/python3.11/dist-packages/numpy/lib/nanfunctions.py:1879: RuntimeWarning: Degrees of freedom <= 0 for slice.\n  var = nanvar(a, axis=axis, dtype=dtype, out=out, ddof=ddof,\n/tmp/ipykernel_60/294650540.py:24: RuntimeWarning: Mean of empty slice\n/usr/local/lib/python3.11/dist-packages/numpy/lib/nanfunctions.py:1879: RuntimeWarning: Degrees of freedom <= 0 for slice.\n  var = nanvar(a, axis=axis, dtype=dtype, out=out, ddof=ddof,\n/tmp/ipykernel_60/294650540.py:24: RuntimeWarning: Mean of empty slice\n/usr/local/lib/python3.11/dist-packages/numpy/lib/nanfunctions.py:1879: RuntimeWarning: Degrees of freedom <= 0 for slice.\n  var = nanvar(a, axis=axis, dtype=dtype, out=out, ddof=ddof,\n/tmp/ipykernel_60/294650540.py:24: RuntimeWarning: Mean of empty slice\n/usr/local/lib/python3.11/dist-packages/numpy/lib/nanfunctions.py:1879: RuntimeWarning: Degrees of freedom <= 0 for slice.\n  var = nanvar(a, axis=axis, dtype=dtype, out=out, ddof=ddof,\n/tmp/ipykernel_60/294650540.py:24: RuntimeWarning: Mean of empty slice\n/usr/local/lib/python3.11/dist-packages/numpy/lib/nanfunctions.py:1879: RuntimeWarning: Degrees of freedom <= 0 for slice.\n  var = nanvar(a, axis=axis, dtype=dtype, out=out, ddof=ddof,\n/tmp/ipykernel_60/294650540.py:24: RuntimeWarning: Mean of empty slice\n/usr/local/lib/python3.11/dist-packages/numpy/lib/nanfunctions.py:1879: RuntimeWarning: Degrees of freedom <= 0 for slice.\n  var = nanvar(a, axis=axis, dtype=dtype, out=out, ddof=ddof,\n"
          ]
        },
        {
          "output_type": "stream",
          "name": "stderr",
          "text": [
            "/tmp/ipykernel_60/294650540.py:24: RuntimeWarning: Mean of empty slice\n/usr/local/lib/python3.11/dist-packages/numpy/lib/nanfunctions.py:1879: RuntimeWarning: Degrees of freedom <= 0 for slice.\n  var = nanvar(a, axis=axis, dtype=dtype, out=out, ddof=ddof,\n/tmp/ipykernel_60/294650540.py:24: RuntimeWarning: Mean of empty slice\n/usr/local/lib/python3.11/dist-packages/numpy/lib/nanfunctions.py:1879: RuntimeWarning: Degrees of freedom <= 0 for slice.\n  var = nanvar(a, axis=axis, dtype=dtype, out=out, ddof=ddof,\n/tmp/ipykernel_60/294650540.py:24: RuntimeWarning: Mean of empty slice\n/usr/local/lib/python3.11/dist-packages/numpy/lib/nanfunctions.py:1879: RuntimeWarning: Degrees of freedom <= 0 for slice.\n  var = nanvar(a, axis=axis, dtype=dtype, out=out, ddof=ddof,\n/tmp/ipykernel_60/294650540.py:24: RuntimeWarning: Mean of empty slice\n/usr/local/lib/python3.11/dist-packages/numpy/lib/nanfunctions.py:1879: RuntimeWarning: Degrees of freedom <= 0 for slice.\n  var = nanvar(a, axis=axis, dtype=dtype, out=out, ddof=ddof,\n/tmp/ipykernel_60/294650540.py:24: RuntimeWarning: Mean of empty slice\n/usr/local/lib/python3.11/dist-packages/numpy/lib/nanfunctions.py:1879: RuntimeWarning: Degrees of freedom <= 0 for slice.\n  var = nanvar(a, axis=axis, dtype=dtype, out=out, ddof=ddof,\n/tmp/ipykernel_60/294650540.py:24: RuntimeWarning: Mean of empty slice\n/usr/local/lib/python3.11/dist-packages/numpy/lib/nanfunctions.py:1879: RuntimeWarning: Degrees of freedom <= 0 for slice.\n  var = nanvar(a, axis=axis, dtype=dtype, out=out, ddof=ddof,\n/tmp/ipykernel_60/294650540.py:24: RuntimeWarning: Mean of empty slice\n/usr/local/lib/python3.11/dist-packages/numpy/lib/nanfunctions.py:1879: RuntimeWarning: Degrees of freedom <= 0 for slice.\n  var = nanvar(a, axis=axis, dtype=dtype, out=out, ddof=ddof,\n/tmp/ipykernel_60/294650540.py:24: RuntimeWarning: Mean of empty slice\n/usr/local/lib/python3.11/dist-packages/numpy/lib/nanfunctions.py:1879: RuntimeWarning: Degrees of freedom <= 0 for slice.\n  var = nanvar(a, axis=axis, dtype=dtype, out=out, ddof=ddof,\n"
          ]
        },
        {
          "output_type": "stream",
          "name": "stderr",
          "text": [
            "/tmp/ipykernel_60/294650540.py:24: RuntimeWarning: Mean of empty slice\n/usr/local/lib/python3.11/dist-packages/numpy/lib/nanfunctions.py:1879: RuntimeWarning: Degrees of freedom <= 0 for slice.\n  var = nanvar(a, axis=axis, dtype=dtype, out=out, ddof=ddof,\n/tmp/ipykernel_60/294650540.py:24: RuntimeWarning: Mean of empty slice\n/usr/local/lib/python3.11/dist-packages/numpy/lib/nanfunctions.py:1879: RuntimeWarning: Degrees of freedom <= 0 for slice.\n  var = nanvar(a, axis=axis, dtype=dtype, out=out, ddof=ddof,\n/tmp/ipykernel_60/294650540.py:24: RuntimeWarning: Mean of empty slice\n/usr/local/lib/python3.11/dist-packages/numpy/lib/nanfunctions.py:1879: RuntimeWarning: Degrees of freedom <= 0 for slice.\n  var = nanvar(a, axis=axis, dtype=dtype, out=out, ddof=ddof,\n/tmp/ipykernel_60/294650540.py:24: RuntimeWarning: Mean of empty slice\n/usr/local/lib/python3.11/dist-packages/numpy/lib/nanfunctions.py:1879: RuntimeWarning: Degrees of freedom <= 0 for slice.\n  var = nanvar(a, axis=axis, dtype=dtype, out=out, ddof=ddof,\n/tmp/ipykernel_60/294650540.py:24: RuntimeWarning: Mean of empty slice\n/usr/local/lib/python3.11/dist-packages/numpy/lib/nanfunctions.py:1879: RuntimeWarning: Degrees of freedom <= 0 for slice.\n  var = nanvar(a, axis=axis, dtype=dtype, out=out, ddof=ddof,\n/tmp/ipykernel_60/294650540.py:24: RuntimeWarning: Mean of empty slice\n/usr/local/lib/python3.11/dist-packages/numpy/lib/nanfunctions.py:1879: RuntimeWarning: Degrees of freedom <= 0 for slice.\n  var = nanvar(a, axis=axis, dtype=dtype, out=out, ddof=ddof,\n/tmp/ipykernel_60/294650540.py:24: RuntimeWarning: Mean of empty slice\n/usr/local/lib/python3.11/dist-packages/numpy/lib/nanfunctions.py:1879: RuntimeWarning: Degrees of freedom <= 0 for slice.\n  var = nanvar(a, axis=axis, dtype=dtype, out=out, ddof=ddof,\n"
          ]
        },
        {
          "output_type": "stream",
          "name": "stderr",
          "text": [
            "/tmp/ipykernel_60/294650540.py:24: RuntimeWarning: Mean of empty slice\n/usr/local/lib/python3.11/dist-packages/numpy/lib/nanfunctions.py:1879: RuntimeWarning: Degrees of freedom <= 0 for slice.\n  var = nanvar(a, axis=axis, dtype=dtype, out=out, ddof=ddof,\n/tmp/ipykernel_60/294650540.py:24: RuntimeWarning: Mean of empty slice\n/usr/local/lib/python3.11/dist-packages/numpy/lib/nanfunctions.py:1879: RuntimeWarning: Degrees of freedom <= 0 for slice.\n  var = nanvar(a, axis=axis, dtype=dtype, out=out, ddof=ddof,\n/tmp/ipykernel_60/294650540.py:24: RuntimeWarning: Mean of empty slice\n/usr/local/lib/python3.11/dist-packages/numpy/lib/nanfunctions.py:1879: RuntimeWarning: Degrees of freedom <= 0 for slice.\n  var = nanvar(a, axis=axis, dtype=dtype, out=out, ddof=ddof,\n/tmp/ipykernel_60/294650540.py:24: RuntimeWarning: Mean of empty slice\n/usr/local/lib/python3.11/dist-packages/numpy/lib/nanfunctions.py:1879: RuntimeWarning: Degrees of freedom <= 0 for slice.\n  var = nanvar(a, axis=axis, dtype=dtype, out=out, ddof=ddof,\n/tmp/ipykernel_60/294650540.py:24: RuntimeWarning: Mean of empty slice\n/usr/local/lib/python3.11/dist-packages/numpy/lib/nanfunctions.py:1879: RuntimeWarning: Degrees of freedom <= 0 for slice.\n  var = nanvar(a, axis=axis, dtype=dtype, out=out, ddof=ddof,\n/tmp/ipykernel_60/294650540.py:24: RuntimeWarning: Mean of empty slice\n/usr/local/lib/python3.11/dist-packages/numpy/lib/nanfunctions.py:1879: RuntimeWarning: Degrees of freedom <= 0 for slice.\n  var = nanvar(a, axis=axis, dtype=dtype, out=out, ddof=ddof,\n/tmp/ipykernel_60/294650540.py:24: RuntimeWarning: Mean of empty slice\n/usr/local/lib/python3.11/dist-packages/numpy/lib/nanfunctions.py:1879: RuntimeWarning: Degrees of freedom <= 0 for slice.\n  var = nanvar(a, axis=axis, dtype=dtype, out=out, ddof=ddof,\n"
          ]
        },
        {
          "output_type": "stream",
          "name": "stderr",
          "text": [
            "/tmp/ipykernel_60/294650540.py:24: RuntimeWarning: Mean of empty slice\n/usr/local/lib/python3.11/dist-packages/numpy/lib/nanfunctions.py:1879: RuntimeWarning: Degrees of freedom <= 0 for slice.\n  var = nanvar(a, axis=axis, dtype=dtype, out=out, ddof=ddof,\n/tmp/ipykernel_60/294650540.py:24: RuntimeWarning: Mean of empty slice\n/usr/local/lib/python3.11/dist-packages/numpy/lib/nanfunctions.py:1879: RuntimeWarning: Degrees of freedom <= 0 for slice.\n  var = nanvar(a, axis=axis, dtype=dtype, out=out, ddof=ddof,\n/tmp/ipykernel_60/294650540.py:24: RuntimeWarning: Mean of empty slice\n/usr/local/lib/python3.11/dist-packages/numpy/lib/nanfunctions.py:1879: RuntimeWarning: Degrees of freedom <= 0 for slice.\n  var = nanvar(a, axis=axis, dtype=dtype, out=out, ddof=ddof,\n/tmp/ipykernel_60/294650540.py:24: RuntimeWarning: Mean of empty slice\n/tmp/ipykernel_60/294650540.py:24: RuntimeWarning: Mean of empty slice\n/usr/local/lib/python3.11/dist-packages/numpy/lib/nanfunctions.py:1879: RuntimeWarning: Degrees of freedom <= 0 for slice.\n  var = nanvar(a, axis=axis, dtype=dtype, out=out, ddof=ddof,\n/usr/local/lib/python3.11/dist-packages/numpy/lib/nanfunctions.py:1879: RuntimeWarning: Degrees of freedom <= 0 for slice.\n  var = nanvar(a, axis=axis, dtype=dtype, out=out, ddof=ddof,\n/tmp/ipykernel_60/294650540.py:24: RuntimeWarning: Mean of empty slice\n/usr/local/lib/python3.11/dist-packages/numpy/lib/nanfunctions.py:1879: RuntimeWarning: Degrees of freedom <= 0 for slice.\n  var = nanvar(a, axis=axis, dtype=dtype, out=out, ddof=ddof,\n"
          ]
        },
        {
          "output_type": "stream",
          "name": "stderr",
          "text": [
            "/tmp/ipykernel_60/294650540.py:24: RuntimeWarning: Mean of empty slice\n/usr/local/lib/python3.11/dist-packages/numpy/lib/nanfunctions.py:1879: RuntimeWarning: Degrees of freedom <= 0 for slice.\n  var = nanvar(a, axis=axis, dtype=dtype, out=out, ddof=ddof,\n/tmp/ipykernel_60/294650540.py:24: RuntimeWarning: Mean of empty slice\n/usr/local/lib/python3.11/dist-packages/numpy/lib/nanfunctions.py:1879: RuntimeWarning: Degrees of freedom <= 0 for slice.\n  var = nanvar(a, axis=axis, dtype=dtype, out=out, ddof=ddof,\n/tmp/ipykernel_60/294650540.py:24: RuntimeWarning: Mean of empty slice\n/usr/local/lib/python3.11/dist-packages/numpy/lib/nanfunctions.py:1879: RuntimeWarning: Degrees of freedom <= 0 for slice.\n  var = nanvar(a, axis=axis, dtype=dtype, out=out, ddof=ddof,\n/tmp/ipykernel_60/294650540.py:24: RuntimeWarning: Mean of empty slice\n/usr/local/lib/python3.11/dist-packages/numpy/lib/nanfunctions.py:1879: RuntimeWarning: Degrees of freedom <= 0 for slice.\n  var = nanvar(a, axis=axis, dtype=dtype, out=out, ddof=ddof,\n/tmp/ipykernel_60/294650540.py:24: RuntimeWarning: Mean of empty slice\n/usr/local/lib/python3.11/dist-packages/numpy/lib/nanfunctions.py:1879: RuntimeWarning: Degrees of freedom <= 0 for slice.\n  var = nanvar(a, axis=axis, dtype=dtype, out=out, ddof=ddof,\n/tmp/ipykernel_60/294650540.py:24: RuntimeWarning: Mean of empty slice\n/usr/local/lib/python3.11/dist-packages/numpy/lib/nanfunctions.py:1879: RuntimeWarning: Degrees of freedom <= 0 for slice.\n  var = nanvar(a, axis=axis, dtype=dtype, out=out, ddof=ddof,\n/tmp/ipykernel_60/294650540.py:24: RuntimeWarning: Mean of empty slice\n/usr/local/lib/python3.11/dist-packages/numpy/lib/nanfunctions.py:1879: RuntimeWarning: Degrees of freedom <= 0 for slice.\n  var = nanvar(a, axis=axis, dtype=dtype, out=out, ddof=ddof,\n/tmp/ipykernel_60/294650540.py:24: RuntimeWarning: Mean of empty slice\n/usr/local/lib/python3.11/dist-packages/numpy/lib/nanfunctions.py:1879: RuntimeWarning: Degrees of freedom <= 0 for slice.\n  var = nanvar(a, axis=axis, dtype=dtype, out=out, ddof=ddof,\n/tmp/ipykernel_60/294650540.py:24: RuntimeWarning: Mean of empty slice\n/usr/local/lib/python3.11/dist-packages/numpy/lib/nanfunctions.py:1879: RuntimeWarning: Degrees of freedom <= 0 for slice.\n  var = nanvar(a, axis=axis, dtype=dtype, out=out, ddof=ddof,\n/tmp/ipykernel_60/294650540.py:24: RuntimeWarning: Mean of empty slice\n/usr/local/lib/python3.11/dist-packages/numpy/lib/nanfunctions.py:1879: RuntimeWarning: Degrees of freedom <= 0 for slice.\n  var = nanvar(a, axis=axis, dtype=dtype, out=out, ddof=ddof,\n"
          ]
        },
        {
          "output_type": "stream",
          "name": "stderr",
          "text": [
            "/tmp/ipykernel_60/294650540.py:24: RuntimeWarning: Mean of empty slice\n/usr/local/lib/python3.11/dist-packages/numpy/lib/nanfunctions.py:1879: RuntimeWarning: Degrees of freedom <= 0 for slice.\n  var = nanvar(a, axis=axis, dtype=dtype, out=out, ddof=ddof,\n/tmp/ipykernel_60/294650540.py:24: RuntimeWarning: Mean of empty slice\n/usr/local/lib/python3.11/dist-packages/numpy/lib/nanfunctions.py:1879: RuntimeWarning: Degrees of freedom <= 0 for slice.\n  var = nanvar(a, axis=axis, dtype=dtype, out=out, ddof=ddof,\n/tmp/ipykernel_60/294650540.py:24: RuntimeWarning: Mean of empty slice\n/usr/local/lib/python3.11/dist-packages/numpy/lib/nanfunctions.py:1879: RuntimeWarning: Degrees of freedom <= 0 for slice.\n  var = nanvar(a, axis=axis, dtype=dtype, out=out, ddof=ddof,\n/tmp/ipykernel_60/294650540.py:24: RuntimeWarning: Mean of empty slice\n/usr/local/lib/python3.11/dist-packages/numpy/lib/nanfunctions.py:1879: RuntimeWarning: Degrees of freedom <= 0 for slice.\n  var = nanvar(a, axis=axis, dtype=dtype, out=out, ddof=ddof,\n/tmp/ipykernel_60/294650540.py:24: RuntimeWarning: Mean of empty slice\n/usr/local/lib/python3.11/dist-packages/numpy/lib/nanfunctions.py:1879: RuntimeWarning: Degrees of freedom <= 0 for slice.\n  var = nanvar(a, axis=axis, dtype=dtype, out=out, ddof=ddof,\n/tmp/ipykernel_60/294650540.py:24: RuntimeWarning: Mean of empty slice\n/usr/local/lib/python3.11/dist-packages/numpy/lib/nanfunctions.py:1879: RuntimeWarning: Degrees of freedom <= 0 for slice.\n  var = nanvar(a, axis=axis, dtype=dtype, out=out, ddof=ddof,\n/tmp/ipykernel_60/294650540.py:24: RuntimeWarning: Mean of empty slice\n/usr/local/lib/python3.11/dist-packages/numpy/lib/nanfunctions.py:1879: RuntimeWarning: Degrees of freedom <= 0 for slice.\n  var = nanvar(a, axis=axis, dtype=dtype, out=out, ddof=ddof,\n"
          ]
        },
        {
          "output_type": "stream",
          "name": "stderr",
          "text": [
            "/tmp/ipykernel_60/294650540.py:24: RuntimeWarning: Mean of empty slice\n/usr/local/lib/python3.11/dist-packages/numpy/lib/nanfunctions.py:1879: RuntimeWarning: Degrees of freedom <= 0 for slice.\n  var = nanvar(a, axis=axis, dtype=dtype, out=out, ddof=ddof,\n/tmp/ipykernel_60/294650540.py:24: RuntimeWarning: Mean of empty slice\n/usr/local/lib/python3.11/dist-packages/numpy/lib/nanfunctions.py:1879: RuntimeWarning: Degrees of freedom <= 0 for slice.\n  var = nanvar(a, axis=axis, dtype=dtype, out=out, ddof=ddof,\n/tmp/ipykernel_60/294650540.py:24: RuntimeWarning: Mean of empty slice\n/usr/local/lib/python3.11/dist-packages/numpy/lib/nanfunctions.py:1879: RuntimeWarning: Degrees of freedom <= 0 for slice.\n  var = nanvar(a, axis=axis, dtype=dtype, out=out, ddof=ddof,\n/tmp/ipykernel_60/294650540.py:24: RuntimeWarning: Mean of empty slice\n/usr/local/lib/python3.11/dist-packages/numpy/lib/nanfunctions.py:1879: RuntimeWarning: Degrees of freedom <= 0 for slice.\n  var = nanvar(a, axis=axis, dtype=dtype, out=out, ddof=ddof,\n/tmp/ipykernel_60/294650540.py:24: RuntimeWarning: Mean of empty slice\n/usr/local/lib/python3.11/dist-packages/numpy/lib/nanfunctions.py:1879: RuntimeWarning: Degrees of freedom <= 0 for slice.\n  var = nanvar(a, axis=axis, dtype=dtype, out=out, ddof=ddof,\n/tmp/ipykernel_60/294650540.py:24: RuntimeWarning: Mean of empty slice\n/usr/local/lib/python3.11/dist-packages/numpy/lib/nanfunctions.py:1879: RuntimeWarning: Degrees of freedom <= 0 for slice.\n  var = nanvar(a, axis=axis, dtype=dtype, out=out, ddof=ddof,\n"
          ]
        },
        {
          "output_type": "stream",
          "name": "stderr",
          "text": [
            "/tmp/ipykernel_60/294650540.py:24: RuntimeWarning: Mean of empty slice\n/usr/local/lib/python3.11/dist-packages/numpy/lib/nanfunctions.py:1879: RuntimeWarning: Degrees of freedom <= 0 for slice.\n  var = nanvar(a, axis=axis, dtype=dtype, out=out, ddof=ddof,\n/tmp/ipykernel_60/294650540.py:24: RuntimeWarning: Mean of empty slice\n/usr/local/lib/python3.11/dist-packages/numpy/lib/nanfunctions.py:1879: RuntimeWarning: Degrees of freedom <= 0 for slice.\n  var = nanvar(a, axis=axis, dtype=dtype, out=out, ddof=ddof,\n/tmp/ipykernel_60/294650540.py:24: RuntimeWarning: Mean of empty slice\n/usr/local/lib/python3.11/dist-packages/numpy/lib/nanfunctions.py:1879: RuntimeWarning: Degrees of freedom <= 0 for slice.\n  var = nanvar(a, axis=axis, dtype=dtype, out=out, ddof=ddof,\n/tmp/ipykernel_60/294650540.py:24: RuntimeWarning: Mean of empty slice\n/usr/local/lib/python3.11/dist-packages/numpy/lib/nanfunctions.py:1879: RuntimeWarning: Degrees of freedom <= 0 for slice.\n  var = nanvar(a, axis=axis, dtype=dtype, out=out, ddof=ddof,\n/tmp/ipykernel_60/294650540.py:24: RuntimeWarning: Mean of empty slice\n/usr/local/lib/python3.11/dist-packages/numpy/lib/nanfunctions.py:1879: RuntimeWarning: Degrees of freedom <= 0 for slice.\n  var = nanvar(a, axis=axis, dtype=dtype, out=out, ddof=ddof,\n/tmp/ipykernel_60/294650540.py:24: RuntimeWarning: Mean of empty slice\n/usr/local/lib/python3.11/dist-packages/numpy/lib/nanfunctions.py:1879: RuntimeWarning: Degrees of freedom <= 0 for slice.\n  var = nanvar(a, axis=axis, dtype=dtype, out=out, ddof=ddof,\n/tmp/ipykernel_60/294650540.py:24: RuntimeWarning: Mean of empty slice\n/usr/local/lib/python3.11/dist-packages/numpy/lib/nanfunctions.py:1879: RuntimeWarning: Degrees of freedom <= 0 for slice.\n  var = nanvar(a, axis=axis, dtype=dtype, out=out, ddof=ddof,\n"
          ]
        },
        {
          "output_type": "stream",
          "name": "stderr",
          "text": [
            "/tmp/ipykernel_60/294650540.py:24: RuntimeWarning: Mean of empty slice\n/usr/local/lib/python3.11/dist-packages/numpy/lib/nanfunctions.py:1879: RuntimeWarning: Degrees of freedom <= 0 for slice.\n  var = nanvar(a, axis=axis, dtype=dtype, out=out, ddof=ddof,\n/tmp/ipykernel_60/294650540.py:24: RuntimeWarning: Mean of empty slice\n/usr/local/lib/python3.11/dist-packages/numpy/lib/nanfunctions.py:1879: RuntimeWarning: Degrees of freedom <= 0 for slice.\n  var = nanvar(a, axis=axis, dtype=dtype, out=out, ddof=ddof,\n/tmp/ipykernel_60/294650540.py:24: RuntimeWarning: Mean of empty slice\n/usr/local/lib/python3.11/dist-packages/numpy/lib/nanfunctions.py:1879: RuntimeWarning: Degrees of freedom <= 0 for slice.\n  var = nanvar(a, axis=axis, dtype=dtype, out=out, ddof=ddof,\n/tmp/ipykernel_60/294650540.py:24: RuntimeWarning: Mean of empty slice\n/usr/local/lib/python3.11/dist-packages/numpy/lib/nanfunctions.py:1879: RuntimeWarning: Degrees of freedom <= 0 for slice.\n  var = nanvar(a, axis=axis, dtype=dtype, out=out, ddof=ddof,\n/tmp/ipykernel_60/294650540.py:24: RuntimeWarning: Mean of empty slice\n/usr/local/lib/python3.11/dist-packages/numpy/lib/nanfunctions.py:1879: RuntimeWarning: Degrees of freedom <= 0 for slice.\n  var = nanvar(a, axis=axis, dtype=dtype, out=out, ddof=ddof,\n/tmp/ipykernel_60/294650540.py:24: RuntimeWarning: Mean of empty slice\n/usr/local/lib/python3.11/dist-packages/numpy/lib/nanfunctions.py:1879: RuntimeWarning: Degrees of freedom <= 0 for slice.\n  var = nanvar(a, axis=axis, dtype=dtype, out=out, ddof=ddof,\n/tmp/ipykernel_60/294650540.py:24: RuntimeWarning: Mean of empty slice\n/usr/local/lib/python3.11/dist-packages/numpy/lib/nanfunctions.py:1879: RuntimeWarning: Degrees of freedom <= 0 for slice.\n  var = nanvar(a, axis=axis, dtype=dtype, out=out, ddof=ddof,\n"
          ]
        },
        {
          "output_type": "stream",
          "name": "stderr",
          "text": [
            "/tmp/ipykernel_60/294650540.py:24: RuntimeWarning: Mean of empty slice\n/usr/local/lib/python3.11/dist-packages/numpy/lib/nanfunctions.py:1879: RuntimeWarning: Degrees of freedom <= 0 for slice.\n  var = nanvar(a, axis=axis, dtype=dtype, out=out, ddof=ddof,\n/tmp/ipykernel_60/294650540.py:24: RuntimeWarning: Mean of empty slice\n/usr/local/lib/python3.11/dist-packages/numpy/lib/nanfunctions.py:1879: RuntimeWarning: Degrees of freedom <= 0 for slice.\n  var = nanvar(a, axis=axis, dtype=dtype, out=out, ddof=ddof,\n/tmp/ipykernel_60/294650540.py:24: RuntimeWarning: Mean of empty slice\n/usr/local/lib/python3.11/dist-packages/numpy/lib/nanfunctions.py:1879: RuntimeWarning: Degrees of freedom <= 0 for slice.\n  var = nanvar(a, axis=axis, dtype=dtype, out=out, ddof=ddof,\n/tmp/ipykernel_60/294650540.py:24: RuntimeWarning: Mean of empty slice\n/usr/local/lib/python3.11/dist-packages/numpy/lib/nanfunctions.py:1879: RuntimeWarning: Degrees of freedom <= 0 for slice.\n  var = nanvar(a, axis=axis, dtype=dtype, out=out, ddof=ddof,\n/tmp/ipykernel_60/294650540.py:24: RuntimeWarning: Mean of empty slice\n/usr/local/lib/python3.11/dist-packages/numpy/lib/nanfunctions.py:1879: RuntimeWarning: Degrees of freedom <= 0 for slice.\n  var = nanvar(a, axis=axis, dtype=dtype, out=out, ddof=ddof,\n/tmp/ipykernel_60/294650540.py:24: RuntimeWarning: Mean of empty slice\n/usr/local/lib/python3.11/dist-packages/numpy/lib/nanfunctions.py:1879: RuntimeWarning: Degrees of freedom <= 0 for slice.\n  var = nanvar(a, axis=axis, dtype=dtype, out=out, ddof=ddof,\n/tmp/ipykernel_60/294650540.py:24: RuntimeWarning: Mean of empty slice\n/usr/local/lib/python3.11/dist-packages/numpy/lib/nanfunctions.py:1879: RuntimeWarning: Degrees of freedom <= 0 for slice.\n  var = nanvar(a, axis=axis, dtype=dtype, out=out, ddof=ddof,\n"
          ]
        },
        {
          "output_type": "stream",
          "name": "stderr",
          "text": [
            "/tmp/ipykernel_60/294650540.py:24: RuntimeWarning: Mean of empty slice\n/usr/local/lib/python3.11/dist-packages/numpy/lib/nanfunctions.py:1879: RuntimeWarning: Degrees of freedom <= 0 for slice.\n  var = nanvar(a, axis=axis, dtype=dtype, out=out, ddof=ddof,\n/tmp/ipykernel_60/294650540.py:24: RuntimeWarning: Mean of empty slice\n/usr/local/lib/python3.11/dist-packages/numpy/lib/nanfunctions.py:1879: RuntimeWarning: Degrees of freedom <= 0 for slice.\n  var = nanvar(a, axis=axis, dtype=dtype, out=out, ddof=ddof,\n/tmp/ipykernel_60/294650540.py:24: RuntimeWarning: Mean of empty slice\n/usr/local/lib/python3.11/dist-packages/numpy/lib/nanfunctions.py:1879: RuntimeWarning: Degrees of freedom <= 0 for slice.\n  var = nanvar(a, axis=axis, dtype=dtype, out=out, ddof=ddof,\n/tmp/ipykernel_60/294650540.py:24: RuntimeWarning: Mean of empty slice\n/usr/local/lib/python3.11/dist-packages/numpy/lib/nanfunctions.py:1879: RuntimeWarning: Degrees of freedom <= 0 for slice.\n  var = nanvar(a, axis=axis, dtype=dtype, out=out, ddof=ddof,\n/tmp/ipykernel_60/294650540.py:24: RuntimeWarning: Mean of empty slice\n/usr/local/lib/python3.11/dist-packages/numpy/lib/nanfunctions.py:1879: RuntimeWarning: Degrees of freedom <= 0 for slice.\n  var = nanvar(a, axis=axis, dtype=dtype, out=out, ddof=ddof,\n/tmp/ipykernel_60/294650540.py:24: RuntimeWarning: Mean of empty slice\n/usr/local/lib/python3.11/dist-packages/numpy/lib/nanfunctions.py:1879: RuntimeWarning: Degrees of freedom <= 0 for slice.\n  var = nanvar(a, axis=axis, dtype=dtype, out=out, ddof=ddof,\n/tmp/ipykernel_60/294650540.py:24: RuntimeWarning: Mean of empty slice\n/usr/local/lib/python3.11/dist-packages/numpy/lib/nanfunctions.py:1879: RuntimeWarning: Degrees of freedom <= 0 for slice.\n  var = nanvar(a, axis=axis, dtype=dtype, out=out, ddof=ddof,\n"
          ]
        },
        {
          "output_type": "stream",
          "name": "stderr",
          "text": [
            "/tmp/ipykernel_60/294650540.py:24: RuntimeWarning: Mean of empty slice\n/usr/local/lib/python3.11/dist-packages/numpy/lib/nanfunctions.py:1879: RuntimeWarning: Degrees of freedom <= 0 for slice.\n  var = nanvar(a, axis=axis, dtype=dtype, out=out, ddof=ddof,\n/tmp/ipykernel_60/294650540.py:24: RuntimeWarning: Mean of empty slice\n/usr/local/lib/python3.11/dist-packages/numpy/lib/nanfunctions.py:1879: RuntimeWarning: Degrees of freedom <= 0 for slice.\n  var = nanvar(a, axis=axis, dtype=dtype, out=out, ddof=ddof,\n/tmp/ipykernel_60/294650540.py:24: RuntimeWarning: Mean of empty slice\n/usr/local/lib/python3.11/dist-packages/numpy/lib/nanfunctions.py:1879: RuntimeWarning: Degrees of freedom <= 0 for slice.\n  var = nanvar(a, axis=axis, dtype=dtype, out=out, ddof=ddof,\n/tmp/ipykernel_60/294650540.py:24: RuntimeWarning: Mean of empty slice\n/usr/local/lib/python3.11/dist-packages/numpy/lib/nanfunctions.py:1879: RuntimeWarning: Degrees of freedom <= 0 for slice.\n  var = nanvar(a, axis=axis, dtype=dtype, out=out, ddof=ddof,\n/tmp/ipykernel_60/294650540.py:24: RuntimeWarning: Mean of empty slice\n/usr/local/lib/python3.11/dist-packages/numpy/lib/nanfunctions.py:1879: RuntimeWarning: Degrees of freedom <= 0 for slice.\n  var = nanvar(a, axis=axis, dtype=dtype, out=out, ddof=ddof,\n/tmp/ipykernel_60/294650540.py:24: RuntimeWarning: Mean of empty slice\n/usr/local/lib/python3.11/dist-packages/numpy/lib/nanfunctions.py:1879: RuntimeWarning: Degrees of freedom <= 0 for slice.\n  var = nanvar(a, axis=axis, dtype=dtype, out=out, ddof=ddof,\n"
          ]
        },
        {
          "output_type": "stream",
          "name": "stderr",
          "text": [
            "/tmp/ipykernel_60/294650540.py:24: RuntimeWarning: Mean of empty slice\n/usr/local/lib/python3.11/dist-packages/numpy/lib/nanfunctions.py:1879: RuntimeWarning: Degrees of freedom <= 0 for slice.\n  var = nanvar(a, axis=axis, dtype=dtype, out=out, ddof=ddof,\n/tmp/ipykernel_60/294650540.py:24: RuntimeWarning: Mean of empty slice\n/usr/local/lib/python3.11/dist-packages/numpy/lib/nanfunctions.py:1879: RuntimeWarning: Degrees of freedom <= 0 for slice.\n  var = nanvar(a, axis=axis, dtype=dtype, out=out, ddof=ddof,\n/tmp/ipykernel_60/294650540.py:24: RuntimeWarning: Mean of empty slice\n/usr/local/lib/python3.11/dist-packages/numpy/lib/nanfunctions.py:1879: RuntimeWarning: Degrees of freedom <= 0 for slice.\n  var = nanvar(a, axis=axis, dtype=dtype, out=out, ddof=ddof,\n/tmp/ipykernel_60/294650540.py:24: RuntimeWarning: Mean of empty slice\n/usr/local/lib/python3.11/dist-packages/numpy/lib/nanfunctions.py:1879: RuntimeWarning: Degrees of freedom <= 0 for slice.\n  var = nanvar(a, axis=axis, dtype=dtype, out=out, ddof=ddof,\n/tmp/ipykernel_60/294650540.py:24: RuntimeWarning: Mean of empty slice\n/usr/local/lib/python3.11/dist-packages/numpy/lib/nanfunctions.py:1879: RuntimeWarning: Degrees of freedom <= 0 for slice.\n  var = nanvar(a, axis=axis, dtype=dtype, out=out, ddof=ddof,\n/tmp/ipykernel_60/294650540.py:24: RuntimeWarning: Mean of empty slice\n/usr/local/lib/python3.11/dist-packages/numpy/lib/nanfunctions.py:1879: RuntimeWarning: Degrees of freedom <= 0 for slice.\n  var = nanvar(a, axis=axis, dtype=dtype, out=out, ddof=ddof,\n/tmp/ipykernel_60/294650540.py:24: RuntimeWarning: Mean of empty slice\n/usr/local/lib/python3.11/dist-packages/numpy/lib/nanfunctions.py:1879: RuntimeWarning: Degrees of freedom <= 0 for slice.\n  var = nanvar(a, axis=axis, dtype=dtype, out=out, ddof=ddof,\n/tmp/ipykernel_60/294650540.py:24: RuntimeWarning: Mean of empty slice\n/usr/local/lib/python3.11/dist-packages/numpy/lib/nanfunctions.py:1879: RuntimeWarning: Degrees of freedom <= 0 for slice.\n  var = nanvar(a, axis=axis, dtype=dtype, out=out, ddof=ddof,\n"
          ]
        },
        {
          "output_type": "stream",
          "name": "stderr",
          "text": [
            "/tmp/ipykernel_60/294650540.py:24: RuntimeWarning: Mean of empty slice\n/usr/local/lib/python3.11/dist-packages/numpy/lib/nanfunctions.py:1879: RuntimeWarning: Degrees of freedom <= 0 for slice.\n  var = nanvar(a, axis=axis, dtype=dtype, out=out, ddof=ddof,\n/tmp/ipykernel_60/294650540.py:24: RuntimeWarning: Mean of empty slice\n/usr/local/lib/python3.11/dist-packages/numpy/lib/nanfunctions.py:1879: RuntimeWarning: Degrees of freedom <= 0 for slice.\n  var = nanvar(a, axis=axis, dtype=dtype, out=out, ddof=ddof,\n/tmp/ipykernel_60/294650540.py:24: RuntimeWarning: Mean of empty slice\n/usr/local/lib/python3.11/dist-packages/numpy/lib/nanfunctions.py:1879: RuntimeWarning: Degrees of freedom <= 0 for slice.\n  var = nanvar(a, axis=axis, dtype=dtype, out=out, ddof=ddof,\n/tmp/ipykernel_60/294650540.py:24: RuntimeWarning: Mean of empty slice\n/usr/local/lib/python3.11/dist-packages/numpy/lib/nanfunctions.py:1879: RuntimeWarning: Degrees of freedom <= 0 for slice.\n  var = nanvar(a, axis=axis, dtype=dtype, out=out, ddof=ddof,\n/tmp/ipykernel_60/294650540.py:24: RuntimeWarning: Mean of empty slice\n/usr/local/lib/python3.11/dist-packages/numpy/lib/nanfunctions.py:1879: RuntimeWarning: Degrees of freedom <= 0 for slice.\n  var = nanvar(a, axis=axis, dtype=dtype, out=out, ddof=ddof,\n/tmp/ipykernel_60/294650540.py:24: RuntimeWarning: Mean of empty slice\n/usr/local/lib/python3.11/dist-packages/numpy/lib/nanfunctions.py:1879: RuntimeWarning: Degrees of freedom <= 0 for slice.\n  var = nanvar(a, axis=axis, dtype=dtype, out=out, ddof=ddof,\n/tmp/ipykernel_60/294650540.py:24: RuntimeWarning: Mean of empty slice\n/usr/local/lib/python3.11/dist-packages/numpy/lib/nanfunctions.py:1879: RuntimeWarning: Degrees of freedom <= 0 for slice.\n  var = nanvar(a, axis=axis, dtype=dtype, out=out, ddof=ddof,\n/tmp/ipykernel_60/294650540.py:24: RuntimeWarning: Mean of empty slice\n/usr/local/lib/python3.11/dist-packages/numpy/lib/nanfunctions.py:1879: RuntimeWarning: Degrees of freedom <= 0 for slice.\n  var = nanvar(a, axis=axis, dtype=dtype, out=out, ddof=ddof,\n/tmp/ipykernel_60/294650540.py:24: RuntimeWarning: Mean of empty slice\n/usr/local/lib/python3.11/dist-packages/numpy/lib/nanfunctions.py:1879: RuntimeWarning: Degrees of freedom <= 0 for slice.\n  var = nanvar(a, axis=axis, dtype=dtype, out=out, ddof=ddof,\n/tmp/ipykernel_60/294650540.py:24: RuntimeWarning: Mean of empty slice\n/usr/local/lib/python3.11/dist-packages/numpy/lib/nanfunctions.py:1879: RuntimeWarning: Degrees of freedom <= 0 for slice.\n  var = nanvar(a, axis=axis, dtype=dtype, out=out, ddof=ddof,\n/tmp/ipykernel_60/294650540.py:24: RuntimeWarning: Mean of empty slice\n/usr/local/lib/python3.11/dist-packages/numpy/lib/nanfunctions.py:1879: RuntimeWarning: Degrees of freedom <= 0 for slice.\n  var = nanvar(a, axis=axis, dtype=dtype, out=out, ddof=ddof,\n/tmp/ipykernel_60/294650540.py:24: RuntimeWarning: Mean of empty slice\n"
          ]
        },
        {
          "output_type": "stream",
          "name": "stderr",
          "text": [
            "/usr/local/lib/python3.11/dist-packages/numpy/lib/nanfunctions.py:1879: RuntimeWarning: Degrees of freedom <= 0 for slice.\n  var = nanvar(a, axis=axis, dtype=dtype, out=out, ddof=ddof,\n/tmp/ipykernel_60/294650540.py:24: RuntimeWarning: Mean of empty slice\n/usr/local/lib/python3.11/dist-packages/numpy/lib/nanfunctions.py:1879: RuntimeWarning: Degrees of freedom <= 0 for slice.\n  var = nanvar(a, axis=axis, dtype=dtype, out=out, ddof=ddof,\n/tmp/ipykernel_60/294650540.py:24: RuntimeWarning: Mean of empty slice\n/usr/local/lib/python3.11/dist-packages/numpy/lib/nanfunctions.py:1879: RuntimeWarning: Degrees of freedom <= 0 for slice.\n  var = nanvar(a, axis=axis, dtype=dtype, out=out, ddof=ddof,\n/tmp/ipykernel_60/294650540.py:24: RuntimeWarning: Mean of empty slice\n/usr/local/lib/python3.11/dist-packages/numpy/lib/nanfunctions.py:1879: RuntimeWarning: Degrees of freedom <= 0 for slice.\n  var = nanvar(a, axis=axis, dtype=dtype, out=out, ddof=ddof,\n/tmp/ipykernel_60/294650540.py:24: RuntimeWarning: Mean of empty slice\n/usr/local/lib/python3.11/dist-packages/numpy/lib/nanfunctions.py:1879: RuntimeWarning: Degrees of freedom <= 0 for slice.\n  var = nanvar(a, axis=axis, dtype=dtype, out=out, ddof=ddof,\n/tmp/ipykernel_60/294650540.py:24: RuntimeWarning: Mean of empty slice\n/usr/local/lib/python3.11/dist-packages/numpy/lib/nanfunctions.py:1879: RuntimeWarning: Degrees of freedom <= 0 for slice.\n  var = nanvar(a, axis=axis, dtype=dtype, out=out, ddof=ddof,\n/tmp/ipykernel_60/294650540.py:24: RuntimeWarning: Mean of empty slice\n/usr/local/lib/python3.11/dist-packages/numpy/lib/nanfunctions.py:1879: RuntimeWarning: Degrees of freedom <= 0 for slice.\n  var = nanvar(a, axis=axis, dtype=dtype, out=out, ddof=ddof,\n/tmp/ipykernel_60/294650540.py:24: RuntimeWarning: Mean of empty slice\n/usr/local/lib/python3.11/dist-packages/numpy/lib/nanfunctions.py:1879: RuntimeWarning: Degrees of freedom <= 0 for slice.\n  var = nanvar(a, axis=axis, dtype=dtype, out=out, ddof=ddof,\n/tmp/ipykernel_60/294650540.py:24: RuntimeWarning: Mean of empty slice\n/usr/local/lib/python3.11/dist-packages/numpy/lib/nanfunctions.py:1879: RuntimeWarning: Degrees of freedom <= 0 for slice.\n  var = nanvar(a, axis=axis, dtype=dtype, out=out, ddof=ddof,\n/tmp/ipykernel_60/294650540.py:24: RuntimeWarning: Mean of empty slice\n/usr/local/lib/python3.11/dist-packages/numpy/lib/nanfunctions.py:1879: RuntimeWarning: Degrees of freedom <= 0 for slice.\n  var = nanvar(a, axis=axis, dtype=dtype, out=out, ddof=ddof,\n"
          ]
        },
        {
          "output_type": "stream",
          "name": "stderr",
          "text": [
            "/tmp/ipykernel_60/294650540.py:24: RuntimeWarning: Mean of empty slice\n/usr/local/lib/python3.11/dist-packages/numpy/lib/nanfunctions.py:1879: RuntimeWarning: Degrees of freedom <= 0 for slice.\n  var = nanvar(a, axis=axis, dtype=dtype, out=out, ddof=ddof,\n/tmp/ipykernel_60/294650540.py:24: RuntimeWarning: Mean of empty slice\n/usr/local/lib/python3.11/dist-packages/numpy/lib/nanfunctions.py:1879: RuntimeWarning: Degrees of freedom <= 0 for slice.\n  var = nanvar(a, axis=axis, dtype=dtype, out=out, ddof=ddof,\n/tmp/ipykernel_60/294650540.py:24: RuntimeWarning: Mean of empty slice\n/usr/local/lib/python3.11/dist-packages/numpy/lib/nanfunctions.py:1879: RuntimeWarning: Degrees of freedom <= 0 for slice.\n  var = nanvar(a, axis=axis, dtype=dtype, out=out, ddof=ddof,\n/tmp/ipykernel_60/294650540.py:24: RuntimeWarning: Mean of empty slice\n/usr/local/lib/python3.11/dist-packages/numpy/lib/nanfunctions.py:1879: RuntimeWarning: Degrees of freedom <= 0 for slice.\n  var = nanvar(a, axis=axis, dtype=dtype, out=out, ddof=ddof,\n/tmp/ipykernel_60/294650540.py:24: RuntimeWarning: Mean of empty slice\n/usr/local/lib/python3.11/dist-packages/numpy/lib/nanfunctions.py:1879: RuntimeWarning: Degrees of freedom <= 0 for slice.\n  var = nanvar(a, axis=axis, dtype=dtype, out=out, ddof=ddof,\n/tmp/ipykernel_60/294650540.py:24: RuntimeWarning: Mean of empty slice\n/usr/local/lib/python3.11/dist-packages/numpy/lib/nanfunctions.py:1879: RuntimeWarning: Degrees of freedom <= 0 for slice.\n  var = nanvar(a, axis=axis, dtype=dtype, out=out, ddof=ddof,\n/tmp/ipykernel_60/294650540.py:24: RuntimeWarning: Mean of empty slice\n/usr/local/lib/python3.11/dist-packages/numpy/lib/nanfunctions.py:1879: RuntimeWarning: Degrees of freedom <= 0 for slice.\n  var = nanvar(a, axis=axis, dtype=dtype, out=out, ddof=ddof,\n"
          ]
        },
        {
          "output_type": "stream",
          "name": "stderr",
          "text": [
            "/tmp/ipykernel_60/294650540.py:24: RuntimeWarning: Mean of empty slice\n/usr/local/lib/python3.11/dist-packages/numpy/lib/nanfunctions.py:1879: RuntimeWarning: Degrees of freedom <= 0 for slice.\n  var = nanvar(a, axis=axis, dtype=dtype, out=out, ddof=ddof,\n/tmp/ipykernel_60/294650540.py:24: RuntimeWarning: Mean of empty slice\n/usr/local/lib/python3.11/dist-packages/numpy/lib/nanfunctions.py:1879: RuntimeWarning: Degrees of freedom <= 0 for slice.\n  var = nanvar(a, axis=axis, dtype=dtype, out=out, ddof=ddof,\n/tmp/ipykernel_60/294650540.py:24: RuntimeWarning: Mean of empty slice\n/usr/local/lib/python3.11/dist-packages/numpy/lib/nanfunctions.py:1879: RuntimeWarning: Degrees of freedom <= 0 for slice.\n  var = nanvar(a, axis=axis, dtype=dtype, out=out, ddof=ddof,\n/tmp/ipykernel_60/294650540.py:24: RuntimeWarning: Mean of empty slice\n/usr/local/lib/python3.11/dist-packages/numpy/lib/nanfunctions.py:1879: RuntimeWarning: Degrees of freedom <= 0 for slice.\n  var = nanvar(a, axis=axis, dtype=dtype, out=out, ddof=ddof,\n/tmp/ipykernel_60/294650540.py:24: RuntimeWarning: Mean of empty slice\n/usr/local/lib/python3.11/dist-packages/numpy/lib/nanfunctions.py:1879: RuntimeWarning: Degrees of freedom <= 0 for slice.\n  var = nanvar(a, axis=axis, dtype=dtype, out=out, ddof=ddof,\n/tmp/ipykernel_60/294650540.py:24: RuntimeWarning: Mean of empty slice\n/usr/local/lib/python3.11/dist-packages/numpy/lib/nanfunctions.py:1879: RuntimeWarning: Degrees of freedom <= 0 for slice.\n  var = nanvar(a, axis=axis, dtype=dtype, out=out, ddof=ddof,\n"
          ]
        },
        {
          "output_type": "stream",
          "name": "stderr",
          "text": [
            "/tmp/ipykernel_60/294650540.py:24: RuntimeWarning: Mean of empty slice\n/usr/local/lib/python3.11/dist-packages/numpy/lib/nanfunctions.py:1879: RuntimeWarning: Degrees of freedom <= 0 for slice.\n  var = nanvar(a, axis=axis, dtype=dtype, out=out, ddof=ddof,\n/tmp/ipykernel_60/294650540.py:24: RuntimeWarning: Mean of empty slice\n/usr/local/lib/python3.11/dist-packages/numpy/lib/nanfunctions.py:1879: RuntimeWarning: Degrees of freedom <= 0 for slice.\n  var = nanvar(a, axis=axis, dtype=dtype, out=out, ddof=ddof,\n/tmp/ipykernel_60/294650540.py:24: RuntimeWarning: Mean of empty slice\n/usr/local/lib/python3.11/dist-packages/numpy/lib/nanfunctions.py:1879: RuntimeWarning: Degrees of freedom <= 0 for slice.\n  var = nanvar(a, axis=axis, dtype=dtype, out=out, ddof=ddof,\n/tmp/ipykernel_60/294650540.py:24: RuntimeWarning: Mean of empty slice\n/usr/local/lib/python3.11/dist-packages/numpy/lib/nanfunctions.py:1879: RuntimeWarning: Degrees of freedom <= 0 for slice.\n  var = nanvar(a, axis=axis, dtype=dtype, out=out, ddof=ddof,\n/tmp/ipykernel_60/294650540.py:24: RuntimeWarning: Mean of empty slice\n/usr/local/lib/python3.11/dist-packages/numpy/lib/nanfunctions.py:1879: RuntimeWarning: Degrees of freedom <= 0 for slice.\n  var = nanvar(a, axis=axis, dtype=dtype, out=out, ddof=ddof,\n/tmp/ipykernel_60/294650540.py:24: RuntimeWarning: Mean of empty slice\n/usr/local/lib/python3.11/dist-packages/numpy/lib/nanfunctions.py:1879: RuntimeWarning: Degrees of freedom <= 0 for slice.\n  var = nanvar(a, axis=axis, dtype=dtype, out=out, ddof=ddof,\n/tmp/ipykernel_60/294650540.py:24: RuntimeWarning: Mean of empty slice\n/usr/local/lib/python3.11/dist-packages/numpy/lib/nanfunctions.py:1879: RuntimeWarning: Degrees of freedom <= 0 for slice.\n  var = nanvar(a, axis=axis, dtype=dtype, out=out, ddof=ddof,\n/tmp/ipykernel_60/294650540.py:24: RuntimeWarning: Mean of empty slice\n/usr/local/lib/python3.11/dist-packages/numpy/lib/nanfunctions.py:1879: RuntimeWarning: Degrees of freedom <= 0 for slice.\n  var = nanvar(a, axis=axis, dtype=dtype, out=out, ddof=ddof,\n"
          ]
        },
        {
          "output_type": "stream",
          "name": "stderr",
          "text": [
            "/tmp/ipykernel_60/294650540.py:24: RuntimeWarning: Mean of empty slice\n/usr/local/lib/python3.11/dist-packages/numpy/lib/nanfunctions.py:1879: RuntimeWarning: Degrees of freedom <= 0 for slice.\n  var = nanvar(a, axis=axis, dtype=dtype, out=out, ddof=ddof,\n/tmp/ipykernel_60/294650540.py:24: RuntimeWarning: Mean of empty slice\n/usr/local/lib/python3.11/dist-packages/numpy/lib/nanfunctions.py:1879: RuntimeWarning: Degrees of freedom <= 0 for slice.\n  var = nanvar(a, axis=axis, dtype=dtype, out=out, ddof=ddof,\n/tmp/ipykernel_60/294650540.py:24: RuntimeWarning: Mean of empty slice\n/usr/local/lib/python3.11/dist-packages/numpy/lib/nanfunctions.py:1879: RuntimeWarning: Degrees of freedom <= 0 for slice.\n  var = nanvar(a, axis=axis, dtype=dtype, out=out, ddof=ddof,\n/tmp/ipykernel_60/294650540.py:24: RuntimeWarning: Mean of empty slice\n/usr/local/lib/python3.11/dist-packages/numpy/lib/nanfunctions.py:1879: RuntimeWarning: Degrees of freedom <= 0 for slice.\n  var = nanvar(a, axis=axis, dtype=dtype, out=out, ddof=ddof,\n/tmp/ipykernel_60/294650540.py:24: RuntimeWarning: Mean of empty slice\n/usr/local/lib/python3.11/dist-packages/numpy/lib/nanfunctions.py:1879: RuntimeWarning: Degrees of freedom <= 0 for slice.\n  var = nanvar(a, axis=axis, dtype=dtype, out=out, ddof=ddof,\n/tmp/ipykernel_60/294650540.py:24: RuntimeWarning: Mean of empty slice\n/usr/local/lib/python3.11/dist-packages/numpy/lib/nanfunctions.py:1879: RuntimeWarning: Degrees of freedom <= 0 for slice.\n  var = nanvar(a, axis=axis, dtype=dtype, out=out, ddof=ddof,\n"
          ]
        },
        {
          "output_type": "stream",
          "name": "stderr",
          "text": [
            "/tmp/ipykernel_60/294650540.py:24: RuntimeWarning: Mean of empty slice\n/usr/local/lib/python3.11/dist-packages/numpy/lib/nanfunctions.py:1879: RuntimeWarning: Degrees of freedom <= 0 for slice.\n  var = nanvar(a, axis=axis, dtype=dtype, out=out, ddof=ddof,\n/tmp/ipykernel_60/294650540.py:24: RuntimeWarning: Mean of empty slice\n/usr/local/lib/python3.11/dist-packages/numpy/lib/nanfunctions.py:1879: RuntimeWarning: Degrees of freedom <= 0 for slice.\n  var = nanvar(a, axis=axis, dtype=dtype, out=out, ddof=ddof,\n/tmp/ipykernel_60/294650540.py:24: RuntimeWarning: Mean of empty slice\n/usr/local/lib/python3.11/dist-packages/numpy/lib/nanfunctions.py:1879: RuntimeWarning: Degrees of freedom <= 0 for slice.\n  var = nanvar(a, axis=axis, dtype=dtype, out=out, ddof=ddof,\n/tmp/ipykernel_60/294650540.py:24: RuntimeWarning: Mean of empty slice\n/usr/local/lib/python3.11/dist-packages/numpy/lib/nanfunctions.py:1879: RuntimeWarning: Degrees of freedom <= 0 for slice.\n  var = nanvar(a, axis=axis, dtype=dtype, out=out, ddof=ddof,\n/tmp/ipykernel_60/294650540.py:24: RuntimeWarning: Mean of empty slice\n/usr/local/lib/python3.11/dist-packages/numpy/lib/nanfunctions.py:1879: RuntimeWarning: Degrees of freedom <= 0 for slice.\n  var = nanvar(a, axis=axis, dtype=dtype, out=out, ddof=ddof,\n/tmp/ipykernel_60/294650540.py:24: RuntimeWarning: Mean of empty slice\n/usr/local/lib/python3.11/dist-packages/numpy/lib/nanfunctions.py:1879: RuntimeWarning: Degrees of freedom <= 0 for slice.\n  var = nanvar(a, axis=axis, dtype=dtype, out=out, ddof=ddof,\n/tmp/ipykernel_60/294650540.py:24: RuntimeWarning: Mean of empty slice\n/usr/local/lib/python3.11/dist-packages/numpy/lib/nanfunctions.py:1879: RuntimeWarning: Degrees of freedom <= 0 for slice.\n  var = nanvar(a, axis=axis, dtype=dtype, out=out, ddof=ddof,\n/tmp/ipykernel_60/294650540.py:24: RuntimeWarning: Mean of empty slice\n/usr/local/lib/python3.11/dist-packages/numpy/lib/nanfunctions.py:1879: RuntimeWarning: Degrees of freedom <= 0 for slice.\n  var = nanvar(a, axis=axis, dtype=dtype, out=out, ddof=ddof,\n"
          ]
        },
        {
          "output_type": "stream",
          "name": "stderr",
          "text": [
            "/tmp/ipykernel_60/294650540.py:24: RuntimeWarning: Mean of empty slice\n/usr/local/lib/python3.11/dist-packages/numpy/lib/nanfunctions.py:1879: RuntimeWarning: Degrees of freedom <= 0 for slice.\n  var = nanvar(a, axis=axis, dtype=dtype, out=out, ddof=ddof,\n/tmp/ipykernel_60/294650540.py:24: RuntimeWarning: Mean of empty slice\n/usr/local/lib/python3.11/dist-packages/numpy/lib/nanfunctions.py:1879: RuntimeWarning: Degrees of freedom <= 0 for slice.\n  var = nanvar(a, axis=axis, dtype=dtype, out=out, ddof=ddof,\n/tmp/ipykernel_60/294650540.py:24: RuntimeWarning: Mean of empty slice\n/usr/local/lib/python3.11/dist-packages/numpy/lib/nanfunctions.py:1879: RuntimeWarning: Degrees of freedom <= 0 for slice.\n  var = nanvar(a, axis=axis, dtype=dtype, out=out, ddof=ddof,\n/tmp/ipykernel_60/294650540.py:24: RuntimeWarning: Mean of empty slice\n/usr/local/lib/python3.11/dist-packages/numpy/lib/nanfunctions.py:1879: RuntimeWarning: Degrees of freedom <= 0 for slice.\n  var = nanvar(a, axis=axis, dtype=dtype, out=out, ddof=ddof,\n/tmp/ipykernel_60/294650540.py:24: RuntimeWarning: Mean of empty slice\n/usr/local/lib/python3.11/dist-packages/numpy/lib/nanfunctions.py:1879: RuntimeWarning: Degrees of freedom <= 0 for slice.\n  var = nanvar(a, axis=axis, dtype=dtype, out=out, ddof=ddof,\n/tmp/ipykernel_60/294650540.py:24: RuntimeWarning: Mean of empty slice\n/usr/local/lib/python3.11/dist-packages/numpy/lib/nanfunctions.py:1879: RuntimeWarning: Degrees of freedom <= 0 for slice.\n  var = nanvar(a, axis=axis, dtype=dtype, out=out, ddof=ddof,\n/tmp/ipykernel_60/294650540.py:24: RuntimeWarning: Mean of empty slice\n/usr/local/lib/python3.11/dist-packages/numpy/lib/nanfunctions.py:1879: RuntimeWarning: Degrees of freedom <= 0 for slice.\n  var = nanvar(a, axis=axis, dtype=dtype, out=out, ddof=ddof,\n/tmp/ipykernel_60/294650540.py:24: RuntimeWarning: Mean of empty slice\n/usr/local/lib/python3.11/dist-packages/numpy/lib/nanfunctions.py:1879: RuntimeWarning: Degrees of freedom <= 0 for slice.\n  var = nanvar(a, axis=axis, dtype=dtype, out=out, ddof=ddof,\n"
          ]
        },
        {
          "output_type": "stream",
          "name": "stderr",
          "text": [
            "/tmp/ipykernel_60/294650540.py:24: RuntimeWarning: Mean of empty slice\n/usr/local/lib/python3.11/dist-packages/numpy/lib/nanfunctions.py:1879: RuntimeWarning: Degrees of freedom <= 0 for slice.\n  var = nanvar(a, axis=axis, dtype=dtype, out=out, ddof=ddof,\n/tmp/ipykernel_60/294650540.py:24: RuntimeWarning: Mean of empty slice\n/usr/local/lib/python3.11/dist-packages/numpy/lib/nanfunctions.py:1879: RuntimeWarning: Degrees of freedom <= 0 for slice.\n  var = nanvar(a, axis=axis, dtype=dtype, out=out, ddof=ddof,\n/tmp/ipykernel_60/294650540.py:24: RuntimeWarning: Mean of empty slice\n/usr/local/lib/python3.11/dist-packages/numpy/lib/nanfunctions.py:1879: RuntimeWarning: Degrees of freedom <= 0 for slice.\n  var = nanvar(a, axis=axis, dtype=dtype, out=out, ddof=ddof,\n/tmp/ipykernel_60/294650540.py:24: RuntimeWarning: Mean of empty slice\n/usr/local/lib/python3.11/dist-packages/numpy/lib/nanfunctions.py:1879: RuntimeWarning: Degrees of freedom <= 0 for slice.\n  var = nanvar(a, axis=axis, dtype=dtype, out=out, ddof=ddof,\n/tmp/ipykernel_60/294650540.py:24: RuntimeWarning: Mean of empty slice\n/usr/local/lib/python3.11/dist-packages/numpy/lib/nanfunctions.py:1879: RuntimeWarning: Degrees of freedom <= 0 for slice.\n  var = nanvar(a, axis=axis, dtype=dtype, out=out, ddof=ddof,\n/tmp/ipykernel_60/294650540.py:24: RuntimeWarning: Mean of empty slice\n/usr/local/lib/python3.11/dist-packages/numpy/lib/nanfunctions.py:1879: RuntimeWarning: Degrees of freedom <= 0 for slice.\n  var = nanvar(a, axis=axis, dtype=dtype, out=out, ddof=ddof,\n/tmp/ipykernel_60/294650540.py:24: RuntimeWarning: Mean of empty slice\n/usr/local/lib/python3.11/dist-packages/numpy/lib/nanfunctions.py:1879: RuntimeWarning: Degrees of freedom <= 0 for slice.\n  var = nanvar(a, axis=axis, dtype=dtype, out=out, ddof=ddof,\n/tmp/ipykernel_60/294650540.py:24: RuntimeWarning: Mean of empty slice\n/usr/local/lib/python3.11/dist-packages/numpy/lib/nanfunctions.py:1879: RuntimeWarning: Degrees of freedom <= 0 for slice.\n  var = nanvar(a, axis=axis, dtype=dtype, out=out, ddof=ddof,\n/tmp/ipykernel_60/294650540.py:24: RuntimeWarning: Mean of empty slice\n/usr/local/lib/python3.11/dist-packages/numpy/lib/nanfunctions.py:1879: RuntimeWarning: Degrees of freedom <= 0 for slice.\n  var = nanvar(a, axis=axis, dtype=dtype, out=out, ddof=ddof,\n"
          ]
        },
        {
          "output_type": "stream",
          "name": "stderr",
          "text": [
            "/tmp/ipykernel_60/294650540.py:24: RuntimeWarning: Mean of empty slice\n/usr/local/lib/python3.11/dist-packages/numpy/lib/nanfunctions.py:1879: RuntimeWarning: Degrees of freedom <= 0 for slice.\n  var = nanvar(a, axis=axis, dtype=dtype, out=out, ddof=ddof,\n/tmp/ipykernel_60/294650540.py:24: RuntimeWarning: Mean of empty slice\n/usr/local/lib/python3.11/dist-packages/numpy/lib/nanfunctions.py:1879: RuntimeWarning: Degrees of freedom <= 0 for slice.\n  var = nanvar(a, axis=axis, dtype=dtype, out=out, ddof=ddof,\n/tmp/ipykernel_60/294650540.py:24: RuntimeWarning: Mean of empty slice\n/usr/local/lib/python3.11/dist-packages/numpy/lib/nanfunctions.py:1879: RuntimeWarning: Degrees of freedom <= 0 for slice.\n  var = nanvar(a, axis=axis, dtype=dtype, out=out, ddof=ddof,\n/tmp/ipykernel_60/294650540.py:24: RuntimeWarning: Mean of empty slice\n/usr/local/lib/python3.11/dist-packages/numpy/lib/nanfunctions.py:1879: RuntimeWarning: Degrees of freedom <= 0 for slice.\n  var = nanvar(a, axis=axis, dtype=dtype, out=out, ddof=ddof,\n/tmp/ipykernel_60/294650540.py:24: RuntimeWarning: Mean of empty slice\n/usr/local/lib/python3.11/dist-packages/numpy/lib/nanfunctions.py:1879: RuntimeWarning: Degrees of freedom <= 0 for slice.\n  var = nanvar(a, axis=axis, dtype=dtype, out=out, ddof=ddof,\n/tmp/ipykernel_60/294650540.py:24: RuntimeWarning: Mean of empty slice\n/usr/local/lib/python3.11/dist-packages/numpy/lib/nanfunctions.py:1879: RuntimeWarning: Degrees of freedom <= 0 for slice.\n  var = nanvar(a, axis=axis, dtype=dtype, out=out, ddof=ddof,\n/tmp/ipykernel_60/294650540.py:24: RuntimeWarning: Mean of empty slice\n/usr/local/lib/python3.11/dist-packages/numpy/lib/nanfunctions.py:1879: RuntimeWarning: Degrees of freedom <= 0 for slice.\n  var = nanvar(a, axis=axis, dtype=dtype, out=out, ddof=ddof,\n/tmp/ipykernel_60/294650540.py:24: RuntimeWarning: Mean of empty slice\n/usr/local/lib/python3.11/dist-packages/numpy/lib/nanfunctions.py:1879: RuntimeWarning: Degrees of freedom <= 0 for slice.\n  var = nanvar(a, axis=axis, dtype=dtype, out=out, ddof=ddof,\n/tmp/ipykernel_60/294650540.py:24: RuntimeWarning: Mean of empty slice\n/usr/local/lib/python3.11/dist-packages/numpy/lib/nanfunctions.py:1879: RuntimeWarning: Degrees of freedom <= 0 for slice.\n  var = nanvar(a, axis=axis, dtype=dtype, out=out, ddof=ddof,\n"
          ]
        },
        {
          "output_type": "stream",
          "name": "stderr",
          "text": [
            "/tmp/ipykernel_60/294650540.py:24: RuntimeWarning: Mean of empty slice\n/usr/local/lib/python3.11/dist-packages/numpy/lib/nanfunctions.py:1879: RuntimeWarning: Degrees of freedom <= 0 for slice.\n  var = nanvar(a, axis=axis, dtype=dtype, out=out, ddof=ddof,\n/tmp/ipykernel_60/294650540.py:24: RuntimeWarning: Mean of empty slice\n/usr/local/lib/python3.11/dist-packages/numpy/lib/nanfunctions.py:1879: RuntimeWarning: Degrees of freedom <= 0 for slice.\n  var = nanvar(a, axis=axis, dtype=dtype, out=out, ddof=ddof,\n/tmp/ipykernel_60/294650540.py:24: RuntimeWarning: Mean of empty slice\n/usr/local/lib/python3.11/dist-packages/numpy/lib/nanfunctions.py:1879: RuntimeWarning: Degrees of freedom <= 0 for slice.\n  var = nanvar(a, axis=axis, dtype=dtype, out=out, ddof=ddof,\n/tmp/ipykernel_60/294650540.py:24: RuntimeWarning: Mean of empty slice\n/usr/local/lib/python3.11/dist-packages/numpy/lib/nanfunctions.py:1879: RuntimeWarning: Degrees of freedom <= 0 for slice.\n  var = nanvar(a, axis=axis, dtype=dtype, out=out, ddof=ddof,\n/tmp/ipykernel_60/294650540.py:24: RuntimeWarning: Mean of empty slice\n/usr/local/lib/python3.11/dist-packages/numpy/lib/nanfunctions.py:1879: RuntimeWarning: Degrees of freedom <= 0 for slice.\n  var = nanvar(a, axis=axis, dtype=dtype, out=out, ddof=ddof,\n/tmp/ipykernel_60/294650540.py:24: RuntimeWarning: Mean of empty slice\n/usr/local/lib/python3.11/dist-packages/numpy/lib/nanfunctions.py:1879: RuntimeWarning: Degrees of freedom <= 0 for slice.\n  var = nanvar(a, axis=axis, dtype=dtype, out=out, ddof=ddof,\n/tmp/ipykernel_60/294650540.py:24: RuntimeWarning: Mean of empty slice\n/usr/local/lib/python3.11/dist-packages/numpy/lib/nanfunctions.py:1879: RuntimeWarning: Degrees of freedom <= 0 for slice.\n  var = nanvar(a, axis=axis, dtype=dtype, out=out, ddof=ddof,\n"
          ]
        },
        {
          "output_type": "stream",
          "name": "stderr",
          "text": [
            "/tmp/ipykernel_60/294650540.py:24: RuntimeWarning: Mean of empty slice\n/usr/local/lib/python3.11/dist-packages/numpy/lib/nanfunctions.py:1879: RuntimeWarning: Degrees of freedom <= 0 for slice.\n  var = nanvar(a, axis=axis, dtype=dtype, out=out, ddof=ddof,\n/tmp/ipykernel_60/294650540.py:24: RuntimeWarning: Mean of empty slice\n/usr/local/lib/python3.11/dist-packages/numpy/lib/nanfunctions.py:1879: RuntimeWarning: Degrees of freedom <= 0 for slice.\n  var = nanvar(a, axis=axis, dtype=dtype, out=out, ddof=ddof,\n/tmp/ipykernel_60/294650540.py:24: RuntimeWarning: Mean of empty slice\n/usr/local/lib/python3.11/dist-packages/numpy/lib/nanfunctions.py:1879: RuntimeWarning: Degrees of freedom <= 0 for slice.\n  var = nanvar(a, axis=axis, dtype=dtype, out=out, ddof=ddof,\n/tmp/ipykernel_60/294650540.py:24: RuntimeWarning: Mean of empty slice\n/usr/local/lib/python3.11/dist-packages/numpy/lib/nanfunctions.py:1879: RuntimeWarning: Degrees of freedom <= 0 for slice.\n  var = nanvar(a, axis=axis, dtype=dtype, out=out, ddof=ddof,\n"
          ]
        },
        {
          "output_type": "stream",
          "name": "stderr",
          "text": [
            "/tmp/ipykernel_60/294650540.py:24: RuntimeWarning: Mean of empty slice\n/usr/local/lib/python3.11/dist-packages/numpy/lib/nanfunctions.py:1879: RuntimeWarning: Degrees of freedom <= 0 for slice.\n  var = nanvar(a, axis=axis, dtype=dtype, out=out, ddof=ddof,\n/tmp/ipykernel_60/294650540.py:24: RuntimeWarning: Mean of empty slice\n/usr/local/lib/python3.11/dist-packages/numpy/lib/nanfunctions.py:1879: RuntimeWarning: Degrees of freedom <= 0 for slice.\n  var = nanvar(a, axis=axis, dtype=dtype, out=out, ddof=ddof,\n/tmp/ipykernel_60/294650540.py:24: RuntimeWarning: Mean of empty slice\n/usr/local/lib/python3.11/dist-packages/numpy/lib/nanfunctions.py:1879: RuntimeWarning: Degrees of freedom <= 0 for slice.\n  var = nanvar(a, axis=axis, dtype=dtype, out=out, ddof=ddof,\n/tmp/ipykernel_60/294650540.py:24: RuntimeWarning: Mean of empty slice\n/usr/local/lib/python3.11/dist-packages/numpy/lib/nanfunctions.py:1879: RuntimeWarning: Degrees of freedom <= 0 for slice.\n  var = nanvar(a, axis=axis, dtype=dtype, out=out, ddof=ddof,\n/tmp/ipykernel_60/294650540.py:24: RuntimeWarning: Mean of empty slice\n/usr/local/lib/python3.11/dist-packages/numpy/lib/nanfunctions.py:1879: RuntimeWarning: Degrees of freedom <= 0 for slice.\n  var = nanvar(a, axis=axis, dtype=dtype, out=out, ddof=ddof,\n/tmp/ipykernel_60/294650540.py:24: RuntimeWarning: Mean of empty slice\n/usr/local/lib/python3.11/dist-packages/numpy/lib/nanfunctions.py:1879: RuntimeWarning: Degrees of freedom <= 0 for slice.\n  var = nanvar(a, axis=axis, dtype=dtype, out=out, ddof=ddof,\n"
          ]
        },
        {
          "output_type": "stream",
          "name": "stderr",
          "text": [
            "/tmp/ipykernel_60/294650540.py:24: RuntimeWarning: Mean of empty slice\n/usr/local/lib/python3.11/dist-packages/numpy/lib/nanfunctions.py:1879: RuntimeWarning: Degrees of freedom <= 0 for slice.\n  var = nanvar(a, axis=axis, dtype=dtype, out=out, ddof=ddof,\n/tmp/ipykernel_60/294650540.py:24: RuntimeWarning: Mean of empty slice\n/usr/local/lib/python3.11/dist-packages/numpy/lib/nanfunctions.py:1879: RuntimeWarning: Degrees of freedom <= 0 for slice.\n  var = nanvar(a, axis=axis, dtype=dtype, out=out, ddof=ddof,\n/tmp/ipykernel_60/294650540.py:24: RuntimeWarning: Mean of empty slice\n/usr/local/lib/python3.11/dist-packages/numpy/lib/nanfunctions.py:1879: RuntimeWarning: Degrees of freedom <= 0 for slice.\n  var = nanvar(a, axis=axis, dtype=dtype, out=out, ddof=ddof,\n/tmp/ipykernel_60/294650540.py:24: RuntimeWarning: Mean of empty slice\n/usr/local/lib/python3.11/dist-packages/numpy/lib/nanfunctions.py:1879: RuntimeWarning: Degrees of freedom <= 0 for slice.\n  var = nanvar(a, axis=axis, dtype=dtype, out=out, ddof=ddof,\n/tmp/ipykernel_60/294650540.py:24: RuntimeWarning: Mean of empty slice\n/usr/local/lib/python3.11/dist-packages/numpy/lib/nanfunctions.py:1879: RuntimeWarning: Degrees of freedom <= 0 for slice.\n  var = nanvar(a, axis=axis, dtype=dtype, out=out, ddof=ddof,\n/tmp/ipykernel_60/294650540.py:24: RuntimeWarning: Mean of empty slice\n/usr/local/lib/python3.11/dist-packages/numpy/lib/nanfunctions.py:1879: RuntimeWarning: Degrees of freedom <= 0 for slice.\n  var = nanvar(a, axis=axis, dtype=dtype, out=out, ddof=ddof,\n/tmp/ipykernel_60/294650540.py:24: RuntimeWarning: Mean of empty slice\n/usr/local/lib/python3.11/dist-packages/numpy/lib/nanfunctions.py:1879: RuntimeWarning: Degrees of freedom <= 0 for slice.\n  var = nanvar(a, axis=axis, dtype=dtype, out=out, ddof=ddof,\n"
          ]
        },
        {
          "output_type": "stream",
          "name": "stderr",
          "text": [
            "/tmp/ipykernel_60/294650540.py:24: RuntimeWarning: Mean of empty slice\n/usr/local/lib/python3.11/dist-packages/numpy/lib/nanfunctions.py:1879: RuntimeWarning: Degrees of freedom <= 0 for slice.\n  var = nanvar(a, axis=axis, dtype=dtype, out=out, ddof=ddof,\n/tmp/ipykernel_60/294650540.py:24: RuntimeWarning: Mean of empty slice\n/usr/local/lib/python3.11/dist-packages/numpy/lib/nanfunctions.py:1879: RuntimeWarning: Degrees of freedom <= 0 for slice.\n  var = nanvar(a, axis=axis, dtype=dtype, out=out, ddof=ddof,\n/tmp/ipykernel_60/294650540.py:24: RuntimeWarning: Mean of empty slice\n/usr/local/lib/python3.11/dist-packages/numpy/lib/nanfunctions.py:1879: RuntimeWarning: Degrees of freedom <= 0 for slice.\n  var = nanvar(a, axis=axis, dtype=dtype, out=out, ddof=ddof,\n/tmp/ipykernel_60/294650540.py:24: RuntimeWarning: Mean of empty slice\n/usr/local/lib/python3.11/dist-packages/numpy/lib/nanfunctions.py:1879: RuntimeWarning: Degrees of freedom <= 0 for slice.\n  var = nanvar(a, axis=axis, dtype=dtype, out=out, ddof=ddof,\n/tmp/ipykernel_60/294650540.py:24: RuntimeWarning: Mean of empty slice\n/usr/local/lib/python3.11/dist-packages/numpy/lib/nanfunctions.py:1879: RuntimeWarning: Degrees of freedom <= 0 for slice.\n  var = nanvar(a, axis=axis, dtype=dtype, out=out, ddof=ddof,\n/tmp/ipykernel_60/294650540.py:24: RuntimeWarning: Mean of empty slice\n/usr/local/lib/python3.11/dist-packages/numpy/lib/nanfunctions.py:1879: RuntimeWarning: Degrees of freedom <= 0 for slice.\n  var = nanvar(a, axis=axis, dtype=dtype, out=out, ddof=ddof,\n/tmp/ipykernel_60/294650540.py:24: RuntimeWarning: Mean of empty slice\n/usr/local/lib/python3.11/dist-packages/numpy/lib/nanfunctions.py:1879: RuntimeWarning: Degrees of freedom <= 0 for slice.\n  var = nanvar(a, axis=axis, dtype=dtype, out=out, ddof=ddof,\n"
          ]
        },
        {
          "output_type": "stream",
          "name": "stderr",
          "text": [
            "/tmp/ipykernel_60/294650540.py:24: RuntimeWarning: Mean of empty slice\n/usr/local/lib/python3.11/dist-packages/numpy/lib/nanfunctions.py:1879: RuntimeWarning: Degrees of freedom <= 0 for slice.\n  var = nanvar(a, axis=axis, dtype=dtype, out=out, ddof=ddof,\n/tmp/ipykernel_60/294650540.py:24: RuntimeWarning: Mean of empty slice\n/usr/local/lib/python3.11/dist-packages/numpy/lib/nanfunctions.py:1879: RuntimeWarning: Degrees of freedom <= 0 for slice.\n  var = nanvar(a, axis=axis, dtype=dtype, out=out, ddof=ddof,\n/tmp/ipykernel_60/294650540.py:24: RuntimeWarning: Mean of empty slice\n/usr/local/lib/python3.11/dist-packages/numpy/lib/nanfunctions.py:1879: RuntimeWarning: Degrees of freedom <= 0 for slice.\n  var = nanvar(a, axis=axis, dtype=dtype, out=out, ddof=ddof,\n/tmp/ipykernel_60/294650540.py:24: RuntimeWarning: Mean of empty slice\n/tmp/ipykernel_60/294650540.py:24: RuntimeWarning: Mean of empty slice\n/usr/local/lib/python3.11/dist-packages/numpy/lib/nanfunctions.py:1879: RuntimeWarning: Degrees of freedom <= 0 for slice.\n  var = nanvar(a, axis=axis, dtype=dtype, out=out, ddof=ddof,\n/usr/local/lib/python3.11/dist-packages/numpy/lib/nanfunctions.py:1879: RuntimeWarning: Degrees of freedom <= 0 for slice.\n  var = nanvar(a, axis=axis, dtype=dtype, out=out, ddof=ddof,\n/tmp/ipykernel_60/294650540.py:24: RuntimeWarning: Mean of empty slice\n/usr/local/lib/python3.11/dist-packages/numpy/lib/nanfunctions.py:1879: RuntimeWarning: Degrees of freedom <= 0 for slice.\n  var = nanvar(a, axis=axis, dtype=dtype, out=out, ddof=ddof,\n/tmp/ipykernel_60/294650540.py:24: RuntimeWarning: Mean of empty slice\n/usr/local/lib/python3.11/dist-packages/numpy/lib/nanfunctions.py:1879: RuntimeWarning: Degrees of freedom <= 0 for slice.\n  var = nanvar(a, axis=axis, dtype=dtype, out=out, ddof=ddof,\n/tmp/ipykernel_60/294650540.py:24: RuntimeWarning: Mean of empty slice\n/usr/local/lib/python3.11/dist-packages/numpy/lib/nanfunctions.py:1879: RuntimeWarning: Degrees of freedom <= 0 for slice.\n  var = nanvar(a, axis=axis, dtype=dtype, out=out, ddof=ddof,\n"
          ]
        },
        {
          "output_type": "stream",
          "name": "stderr",
          "text": [
            "/tmp/ipykernel_60/294650540.py:24: RuntimeWarning: Mean of empty slice\n/usr/local/lib/python3.11/dist-packages/numpy/lib/nanfunctions.py:1879: RuntimeWarning: Degrees of freedom <= 0 for slice.\n  var = nanvar(a, axis=axis, dtype=dtype, out=out, ddof=ddof,\n/tmp/ipykernel_60/294650540.py:24: RuntimeWarning: Mean of empty slice\n/usr/local/lib/python3.11/dist-packages/numpy/lib/nanfunctions.py:1879: RuntimeWarning: Degrees of freedom <= 0 for slice.\n  var = nanvar(a, axis=axis, dtype=dtype, out=out, ddof=ddof,\n/tmp/ipykernel_60/294650540.py:24: RuntimeWarning: Mean of empty slice\n/usr/local/lib/python3.11/dist-packages/numpy/lib/nanfunctions.py:1879: RuntimeWarning: Degrees of freedom <= 0 for slice.\n  var = nanvar(a, axis=axis, dtype=dtype, out=out, ddof=ddof,\n/tmp/ipykernel_60/294650540.py:24: RuntimeWarning: Mean of empty slice\n/usr/local/lib/python3.11/dist-packages/numpy/lib/nanfunctions.py:1879: RuntimeWarning: Degrees of freedom <= 0 for slice.\n  var = nanvar(a, axis=axis, dtype=dtype, out=out, ddof=ddof,\n/tmp/ipykernel_60/294650540.py:24: RuntimeWarning: Mean of empty slice\n/usr/local/lib/python3.11/dist-packages/numpy/lib/nanfunctions.py:1879: RuntimeWarning: Degrees of freedom <= 0 for slice.\n  var = nanvar(a, axis=axis, dtype=dtype, out=out, ddof=ddof,\n/tmp/ipykernel_60/294650540.py:24: RuntimeWarning: Mean of empty slice\n/usr/local/lib/python3.11/dist-packages/numpy/lib/nanfunctions.py:1879: RuntimeWarning: Degrees of freedom <= 0 for slice.\n  var = nanvar(a, axis=axis, dtype=dtype, out=out, ddof=ddof,\n/tmp/ipykernel_60/294650540.py:24: RuntimeWarning: Mean of empty slice\n/usr/local/lib/python3.11/dist-packages/numpy/lib/nanfunctions.py:1879: RuntimeWarning: Degrees of freedom <= 0 for slice.\n  var = nanvar(a, axis=axis, dtype=dtype, out=out, ddof=ddof,\n/tmp/ipykernel_60/294650540.py:24: RuntimeWarning: Mean of empty slice\n/usr/local/lib/python3.11/dist-packages/numpy/lib/nanfunctions.py:1879: RuntimeWarning: Degrees of freedom <= 0 for slice.\n  var = nanvar(a, axis=axis, dtype=dtype, out=out, ddof=ddof,\n/tmp/ipykernel_60/294650540.py:24: RuntimeWarning: Mean of empty slice\n/usr/local/lib/python3.11/dist-packages/numpy/lib/nanfunctions.py:1879: RuntimeWarning: Degrees of freedom <= 0 for slice.\n  var = nanvar(a, axis=axis, dtype=dtype, out=out, ddof=ddof,\n/tmp/ipykernel_60/294650540.py:24: RuntimeWarning: Mean of empty slice\n/usr/local/lib/python3.11/dist-packages/numpy/lib/nanfunctions.py:1879: RuntimeWarning: Degrees of freedom <= 0 for slice.\n  var = nanvar(a, axis=axis, dtype=dtype, out=out, ddof=ddof,\n/tmp/ipykernel_60/294650540.py:24: RuntimeWarning: Mean of empty slice\n/usr/local/lib/python3.11/dist-packages/numpy/lib/nanfunctions.py:1879: RuntimeWarning: Degrees of freedom <= 0 for slice.\n  var = nanvar(a, axis=axis, dtype=dtype, out=out, ddof=ddof,\n"
          ]
        },
        {
          "output_type": "stream",
          "name": "stderr",
          "text": [
            "/tmp/ipykernel_60/294650540.py:24: RuntimeWarning: Mean of empty slice\n/usr/local/lib/python3.11/dist-packages/numpy/lib/nanfunctions.py:1879: RuntimeWarning: Degrees of freedom <= 0 for slice.\n  var = nanvar(a, axis=axis, dtype=dtype, out=out, ddof=ddof,\n/tmp/ipykernel_60/294650540.py:24: RuntimeWarning: Mean of empty slice\n/usr/local/lib/python3.11/dist-packages/numpy/lib/nanfunctions.py:1879: RuntimeWarning: Degrees of freedom <= 0 for slice.\n  var = nanvar(a, axis=axis, dtype=dtype, out=out, ddof=ddof,\n/tmp/ipykernel_60/294650540.py:24: RuntimeWarning: Mean of empty slice\n/usr/local/lib/python3.11/dist-packages/numpy/lib/nanfunctions.py:1879: RuntimeWarning: Degrees of freedom <= 0 for slice.\n  var = nanvar(a, axis=axis, dtype=dtype, out=out, ddof=ddof,\n/tmp/ipykernel_60/294650540.py:24: RuntimeWarning: Mean of empty slice\n/usr/local/lib/python3.11/dist-packages/numpy/lib/nanfunctions.py:1879: RuntimeWarning: Degrees of freedom <= 0 for slice.\n  var = nanvar(a, axis=axis, dtype=dtype, out=out, ddof=ddof,\n/tmp/ipykernel_60/294650540.py:24: RuntimeWarning: Mean of empty slice\n/usr/local/lib/python3.11/dist-packages/numpy/lib/nanfunctions.py:1879: RuntimeWarning: Degrees of freedom <= 0 for slice.\n  var = nanvar(a, axis=axis, dtype=dtype, out=out, ddof=ddof,\n/tmp/ipykernel_60/294650540.py:24: RuntimeWarning: Mean of empty slice\n/usr/local/lib/python3.11/dist-packages/numpy/lib/nanfunctions.py:1879: RuntimeWarning: Degrees of freedom <= 0 for slice.\n  var = nanvar(a, axis=axis, dtype=dtype, out=out, ddof=ddof,\n/tmp/ipykernel_60/294650540.py:24: RuntimeWarning: Mean of empty slice\n/usr/local/lib/python3.11/dist-packages/numpy/lib/nanfunctions.py:1879: RuntimeWarning: Degrees of freedom <= 0 for slice.\n  var = nanvar(a, axis=axis, dtype=dtype, out=out, ddof=ddof,\n"
          ]
        },
        {
          "output_type": "stream",
          "name": "stderr",
          "text": [
            "/tmp/ipykernel_60/294650540.py:24: RuntimeWarning: Mean of empty slice\n/usr/local/lib/python3.11/dist-packages/numpy/lib/nanfunctions.py:1879: RuntimeWarning: Degrees of freedom <= 0 for slice.\n  var = nanvar(a, axis=axis, dtype=dtype, out=out, ddof=ddof,\n/tmp/ipykernel_60/294650540.py:24: RuntimeWarning: Mean of empty slice\n/usr/local/lib/python3.11/dist-packages/numpy/lib/nanfunctions.py:1879: RuntimeWarning: Degrees of freedom <= 0 for slice.\n  var = nanvar(a, axis=axis, dtype=dtype, out=out, ddof=ddof,\n/tmp/ipykernel_60/294650540.py:24: RuntimeWarning: Mean of empty slice\n/usr/local/lib/python3.11/dist-packages/numpy/lib/nanfunctions.py:1879: RuntimeWarning: Degrees of freedom <= 0 for slice.\n  var = nanvar(a, axis=axis, dtype=dtype, out=out, ddof=ddof,\n/tmp/ipykernel_60/294650540.py:24: RuntimeWarning: Mean of empty slice\n/usr/local/lib/python3.11/dist-packages/numpy/lib/nanfunctions.py:1879: RuntimeWarning: Degrees of freedom <= 0 for slice.\n  var = nanvar(a, axis=axis, dtype=dtype, out=out, ddof=ddof,\n/tmp/ipykernel_60/294650540.py:24: RuntimeWarning: Mean of empty slice\n/usr/local/lib/python3.11/dist-packages/numpy/lib/nanfunctions.py:1879: RuntimeWarning: Degrees of freedom <= 0 for slice.\n  var = nanvar(a, axis=axis, dtype=dtype, out=out, ddof=ddof,\n"
          ]
        },
        {
          "output_type": "stream",
          "name": "stderr",
          "text": [
            "/tmp/ipykernel_60/294650540.py:24: RuntimeWarning: Mean of empty slice\n/usr/local/lib/python3.11/dist-packages/numpy/lib/nanfunctions.py:1879: RuntimeWarning: Degrees of freedom <= 0 for slice.\n  var = nanvar(a, axis=axis, dtype=dtype, out=out, ddof=ddof,\n/tmp/ipykernel_60/294650540.py:24: RuntimeWarning: Mean of empty slice\n/usr/local/lib/python3.11/dist-packages/numpy/lib/nanfunctions.py:1879: RuntimeWarning: Degrees of freedom <= 0 for slice.\n  var = nanvar(a, axis=axis, dtype=dtype, out=out, ddof=ddof,\n/tmp/ipykernel_60/294650540.py:24: RuntimeWarning: Mean of empty slice\n/usr/local/lib/python3.11/dist-packages/numpy/lib/nanfunctions.py:1879: RuntimeWarning: Degrees of freedom <= 0 for slice.\n  var = nanvar(a, axis=axis, dtype=dtype, out=out, ddof=ddof,\n/tmp/ipykernel_60/294650540.py:24: RuntimeWarning: Mean of empty slice\n/usr/local/lib/python3.11/dist-packages/numpy/lib/nanfunctions.py:1879: RuntimeWarning: Degrees of freedom <= 0 for slice.\n  var = nanvar(a, axis=axis, dtype=dtype, out=out, ddof=ddof,\n/tmp/ipykernel_60/294650540.py:24: RuntimeWarning: Mean of empty slice\n/usr/local/lib/python3.11/dist-packages/numpy/lib/nanfunctions.py:1879: RuntimeWarning: Degrees of freedom <= 0 for slice.\n  var = nanvar(a, axis=axis, dtype=dtype, out=out, ddof=ddof,\n/tmp/ipykernel_60/294650540.py:24: RuntimeWarning: Mean of empty slice\n/usr/local/lib/python3.11/dist-packages/numpy/lib/nanfunctions.py:1879: RuntimeWarning: Degrees of freedom <= 0 for slice.\n  var = nanvar(a, axis=axis, dtype=dtype, out=out, ddof=ddof,\n/tmp/ipykernel_60/294650540.py:24: RuntimeWarning: Mean of empty slice\n/usr/local/lib/python3.11/dist-packages/numpy/lib/nanfunctions.py:1879: RuntimeWarning: Degrees of freedom <= 0 for slice.\n  var = nanvar(a, axis=axis, dtype=dtype, out=out, ddof=ddof,\n"
          ]
        },
        {
          "output_type": "stream",
          "name": "stderr",
          "text": [
            "/tmp/ipykernel_60/294650540.py:24: RuntimeWarning: Mean of empty slice\n/usr/local/lib/python3.11/dist-packages/numpy/lib/nanfunctions.py:1879: RuntimeWarning: Degrees of freedom <= 0 for slice.\n  var = nanvar(a, axis=axis, dtype=dtype, out=out, ddof=ddof,\n/tmp/ipykernel_60/294650540.py:24: RuntimeWarning: Mean of empty slice\n/usr/local/lib/python3.11/dist-packages/numpy/lib/nanfunctions.py:1879: RuntimeWarning: Degrees of freedom <= 0 for slice.\n  var = nanvar(a, axis=axis, dtype=dtype, out=out, ddof=ddof,\n/tmp/ipykernel_60/294650540.py:24: RuntimeWarning: Mean of empty slice\n/usr/local/lib/python3.11/dist-packages/numpy/lib/nanfunctions.py:1879: RuntimeWarning: Degrees of freedom <= 0 for slice.\n  var = nanvar(a, axis=axis, dtype=dtype, out=out, ddof=ddof,\n/tmp/ipykernel_60/294650540.py:24: RuntimeWarning: Mean of empty slice\n/usr/local/lib/python3.11/dist-packages/numpy/lib/nanfunctions.py:1879: RuntimeWarning: Degrees of freedom <= 0 for slice.\n  var = nanvar(a, axis=axis, dtype=dtype, out=out, ddof=ddof,\n/tmp/ipykernel_60/294650540.py:24: RuntimeWarning: Mean of empty slice\n/tmp/ipykernel_60/294650540.py:24: RuntimeWarning: Mean of empty slice\n/usr/local/lib/python3.11/dist-packages/numpy/lib/nanfunctions.py:1879: RuntimeWarning: Degrees of freedom <= 0 for slice.\n  var = nanvar(a, axis=axis, dtype=dtype, out=out, ddof=ddof,\n/usr/local/lib/python3.11/dist-packages/numpy/lib/nanfunctions.py:1879: RuntimeWarning: Degrees of freedom <= 0 for slice.\n  var = nanvar(a, axis=axis, dtype=dtype, out=out, ddof=ddof,\n/tmp/ipykernel_60/294650540.py:24: RuntimeWarning: Mean of empty slice\n/usr/local/lib/python3.11/dist-packages/numpy/lib/nanfunctions.py:1879: RuntimeWarning: Degrees of freedom <= 0 for slice.\n  var = nanvar(a, axis=axis, dtype=dtype, out=out, ddof=ddof,\n/tmp/ipykernel_60/294650540.py:24: RuntimeWarning: Mean of empty slice\n/usr/local/lib/python3.11/dist-packages/numpy/lib/nanfunctions.py:1879: RuntimeWarning: Degrees of freedom <= 0 for slice.\n  var = nanvar(a, axis=axis, dtype=dtype, out=out, ddof=ddof,\n/tmp/ipykernel_60/294650540.py:24: RuntimeWarning: Mean of empty slice\n/usr/local/lib/python3.11/dist-packages/numpy/lib/nanfunctions.py:1879: RuntimeWarning: Degrees of freedom <= 0 for slice.\n  var = nanvar(a, axis=axis, dtype=dtype, out=out, ddof=ddof,\n"
          ]
        },
        {
          "output_type": "stream",
          "name": "stderr",
          "text": [
            "/tmp/ipykernel_60/294650540.py:24: RuntimeWarning: Mean of empty slice\n/usr/local/lib/python3.11/dist-packages/numpy/lib/nanfunctions.py:1879: RuntimeWarning: Degrees of freedom <= 0 for slice.\n  var = nanvar(a, axis=axis, dtype=dtype, out=out, ddof=ddof,\n/tmp/ipykernel_60/294650540.py:24: RuntimeWarning: Mean of empty slice\n/usr/local/lib/python3.11/dist-packages/numpy/lib/nanfunctions.py:1879: RuntimeWarning: Degrees of freedom <= 0 for slice.\n  var = nanvar(a, axis=axis, dtype=dtype, out=out, ddof=ddof,\n/tmp/ipykernel_60/294650540.py:24: RuntimeWarning: Mean of empty slice\n/usr/local/lib/python3.11/dist-packages/numpy/lib/nanfunctions.py:1879: RuntimeWarning: Degrees of freedom <= 0 for slice.\n  var = nanvar(a, axis=axis, dtype=dtype, out=out, ddof=ddof,\n/tmp/ipykernel_60/294650540.py:24: RuntimeWarning: Mean of empty slice\n/usr/local/lib/python3.11/dist-packages/numpy/lib/nanfunctions.py:1879: RuntimeWarning: Degrees of freedom <= 0 for slice.\n  var = nanvar(a, axis=axis, dtype=dtype, out=out, ddof=ddof,\n/tmp/ipykernel_60/294650540.py:24: RuntimeWarning: Mean of empty slice\n/usr/local/lib/python3.11/dist-packages/numpy/lib/nanfunctions.py:1879: RuntimeWarning: Degrees of freedom <= 0 for slice.\n  var = nanvar(a, axis=axis, dtype=dtype, out=out, ddof=ddof,\n/tmp/ipykernel_60/294650540.py:24: RuntimeWarning: Mean of empty slice\n/usr/local/lib/python3.11/dist-packages/numpy/lib/nanfunctions.py:1879: RuntimeWarning: Degrees of freedom <= 0 for slice.\n  var = nanvar(a, axis=axis, dtype=dtype, out=out, ddof=ddof,\n"
          ]
        },
        {
          "output_type": "stream",
          "name": "stderr",
          "text": [
            "/tmp/ipykernel_60/294650540.py:24: RuntimeWarning: Mean of empty slice\n/usr/local/lib/python3.11/dist-packages/numpy/lib/nanfunctions.py:1879: RuntimeWarning: Degrees of freedom <= 0 for slice.\n  var = nanvar(a, axis=axis, dtype=dtype, out=out, ddof=ddof,\n/tmp/ipykernel_60/294650540.py:24: RuntimeWarning: Mean of empty slice\n/usr/local/lib/python3.11/dist-packages/numpy/lib/nanfunctions.py:1879: RuntimeWarning: Degrees of freedom <= 0 for slice.\n  var = nanvar(a, axis=axis, dtype=dtype, out=out, ddof=ddof,\n/tmp/ipykernel_60/294650540.py:24: RuntimeWarning: Mean of empty slice\n/usr/local/lib/python3.11/dist-packages/numpy/lib/nanfunctions.py:1879: RuntimeWarning: Degrees of freedom <= 0 for slice.\n  var = nanvar(a, axis=axis, dtype=dtype, out=out, ddof=ddof,\n/tmp/ipykernel_60/294650540.py:24: RuntimeWarning: Mean of empty slice\n/usr/local/lib/python3.11/dist-packages/numpy/lib/nanfunctions.py:1879: RuntimeWarning: Degrees of freedom <= 0 for slice.\n  var = nanvar(a, axis=axis, dtype=dtype, out=out, ddof=ddof,\n/tmp/ipykernel_60/294650540.py:24: RuntimeWarning: Mean of empty slice\n/usr/local/lib/python3.11/dist-packages/numpy/lib/nanfunctions.py:1879: RuntimeWarning: Degrees of freedom <= 0 for slice.\n  var = nanvar(a, axis=axis, dtype=dtype, out=out, ddof=ddof,\n/tmp/ipykernel_60/294650540.py:24: RuntimeWarning: Mean of empty slice\n/usr/local/lib/python3.11/dist-packages/numpy/lib/nanfunctions.py:1879: RuntimeWarning: Degrees of freedom <= 0 for slice.\n  var = nanvar(a, axis=axis, dtype=dtype, out=out, ddof=ddof,\n/tmp/ipykernel_60/294650540.py:24: RuntimeWarning: Mean of empty slice\n/usr/local/lib/python3.11/dist-packages/numpy/lib/nanfunctions.py:1879: RuntimeWarning: Degrees of freedom <= 0 for slice.\n  var = nanvar(a, axis=axis, dtype=dtype, out=out, ddof=ddof,\n"
          ]
        },
        {
          "output_type": "stream",
          "name": "stderr",
          "text": [
            "/tmp/ipykernel_60/294650540.py:24: RuntimeWarning: Mean of empty slice\n/usr/local/lib/python3.11/dist-packages/numpy/lib/nanfunctions.py:1879: RuntimeWarning: Degrees of freedom <= 0 for slice.\n  var = nanvar(a, axis=axis, dtype=dtype, out=out, ddof=ddof,\n/tmp/ipykernel_60/294650540.py:24: RuntimeWarning: Mean of empty slice\n/usr/local/lib/python3.11/dist-packages/numpy/lib/nanfunctions.py:1879: RuntimeWarning: Degrees of freedom <= 0 for slice.\n  var = nanvar(a, axis=axis, dtype=dtype, out=out, ddof=ddof,\n/tmp/ipykernel_60/294650540.py:24: RuntimeWarning: Mean of empty slice\n/usr/local/lib/python3.11/dist-packages/numpy/lib/nanfunctions.py:1879: RuntimeWarning: Degrees of freedom <= 0 for slice.\n  var = nanvar(a, axis=axis, dtype=dtype, out=out, ddof=ddof,\n/tmp/ipykernel_60/294650540.py:24: RuntimeWarning: Mean of empty slice\n/usr/local/lib/python3.11/dist-packages/numpy/lib/nanfunctions.py:1879: RuntimeWarning: Degrees of freedom <= 0 for slice.\n  var = nanvar(a, axis=axis, dtype=dtype, out=out, ddof=ddof,\n/tmp/ipykernel_60/294650540.py:24: RuntimeWarning: Mean of empty slice\n/usr/local/lib/python3.11/dist-packages/numpy/lib/nanfunctions.py:1879: RuntimeWarning: Degrees of freedom <= 0 for slice.\n  var = nanvar(a, axis=axis, dtype=dtype, out=out, ddof=ddof,\n/tmp/ipykernel_60/294650540.py:24: RuntimeWarning: Mean of empty slice\n/usr/local/lib/python3.11/dist-packages/numpy/lib/nanfunctions.py:1879: RuntimeWarning: Degrees of freedom <= 0 for slice.\n  var = nanvar(a, axis=axis, dtype=dtype, out=out, ddof=ddof,\n/tmp/ipykernel_60/294650540.py:24: RuntimeWarning: Mean of empty slice\n/usr/local/lib/python3.11/dist-packages/numpy/lib/nanfunctions.py:1879: RuntimeWarning: Degrees of freedom <= 0 for slice.\n  var = nanvar(a, axis=axis, dtype=dtype, out=out, ddof=ddof,\n"
          ]
        },
        {
          "output_type": "stream",
          "name": "stderr",
          "text": [
            "/tmp/ipykernel_60/294650540.py:24: RuntimeWarning: Mean of empty slice\n/usr/local/lib/python3.11/dist-packages/numpy/lib/nanfunctions.py:1879: RuntimeWarning: Degrees of freedom <= 0 for slice.\n  var = nanvar(a, axis=axis, dtype=dtype, out=out, ddof=ddof,\n/tmp/ipykernel_60/294650540.py:24: RuntimeWarning: Mean of empty slice\n/usr/local/lib/python3.11/dist-packages/numpy/lib/nanfunctions.py:1879: RuntimeWarning: Degrees of freedom <= 0 for slice.\n  var = nanvar(a, axis=axis, dtype=dtype, out=out, ddof=ddof,\n/tmp/ipykernel_60/294650540.py:24: RuntimeWarning: Mean of empty slice\n/usr/local/lib/python3.11/dist-packages/numpy/lib/nanfunctions.py:1879: RuntimeWarning: Degrees of freedom <= 0 for slice.\n  var = nanvar(a, axis=axis, dtype=dtype, out=out, ddof=ddof,\n/tmp/ipykernel_60/294650540.py:24: RuntimeWarning: Mean of empty slice\n/usr/local/lib/python3.11/dist-packages/numpy/lib/nanfunctions.py:1879: RuntimeWarning: Degrees of freedom <= 0 for slice.\n  var = nanvar(a, axis=axis, dtype=dtype, out=out, ddof=ddof,\n/tmp/ipykernel_60/294650540.py:24: RuntimeWarning: Mean of empty slice\n/usr/local/lib/python3.11/dist-packages/numpy/lib/nanfunctions.py:1879: RuntimeWarning: Degrees of freedom <= 0 for slice.\n  var = nanvar(a, axis=axis, dtype=dtype, out=out, ddof=ddof,\n/tmp/ipykernel_60/294650540.py:24: RuntimeWarning: Mean of empty slice\n/usr/local/lib/python3.11/dist-packages/numpy/lib/nanfunctions.py:1879: RuntimeWarning: Degrees of freedom <= 0 for slice.\n  var = nanvar(a, axis=axis, dtype=dtype, out=out, ddof=ddof,\n/tmp/ipykernel_60/294650540.py:24: RuntimeWarning: Mean of empty slice\n/usr/local/lib/python3.11/dist-packages/numpy/lib/nanfunctions.py:1879: RuntimeWarning: Degrees of freedom <= 0 for slice.\n  var = nanvar(a, axis=axis, dtype=dtype, out=out, ddof=ddof,\n"
          ]
        },
        {
          "output_type": "stream",
          "name": "stderr",
          "text": [
            "/tmp/ipykernel_60/294650540.py:24: RuntimeWarning: Mean of empty slice\n/usr/local/lib/python3.11/dist-packages/numpy/lib/nanfunctions.py:1879: RuntimeWarning: Degrees of freedom <= 0 for slice.\n  var = nanvar(a, axis=axis, dtype=dtype, out=out, ddof=ddof,\n/tmp/ipykernel_60/294650540.py:24: RuntimeWarning: Mean of empty slice\n/usr/local/lib/python3.11/dist-packages/numpy/lib/nanfunctions.py:1879: RuntimeWarning: Degrees of freedom <= 0 for slice.\n  var = nanvar(a, axis=axis, dtype=dtype, out=out, ddof=ddof,\n/tmp/ipykernel_60/294650540.py:24: RuntimeWarning: Mean of empty slice\n/usr/local/lib/python3.11/dist-packages/numpy/lib/nanfunctions.py:1879: RuntimeWarning: Degrees of freedom <= 0 for slice.\n  var = nanvar(a, axis=axis, dtype=dtype, out=out, ddof=ddof,\n/tmp/ipykernel_60/294650540.py:24: RuntimeWarning: Mean of empty slice\n/usr/local/lib/python3.11/dist-packages/numpy/lib/nanfunctions.py:1879: RuntimeWarning: Degrees of freedom <= 0 for slice.\n  var = nanvar(a, axis=axis, dtype=dtype, out=out, ddof=ddof,\n/tmp/ipykernel_60/294650540.py:24: RuntimeWarning: Mean of empty slice\n/usr/local/lib/python3.11/dist-packages/numpy/lib/nanfunctions.py:1879: RuntimeWarning: Degrees of freedom <= 0 for slice.\n  var = nanvar(a, axis=axis, dtype=dtype, out=out, ddof=ddof,\n"
          ]
        },
        {
          "output_type": "stream",
          "name": "stderr",
          "text": [
            "/tmp/ipykernel_60/294650540.py:24: RuntimeWarning: Mean of empty slice\n/usr/local/lib/python3.11/dist-packages/numpy/lib/nanfunctions.py:1879: RuntimeWarning: Degrees of freedom <= 0 for slice.\n  var = nanvar(a, axis=axis, dtype=dtype, out=out, ddof=ddof,\n/tmp/ipykernel_60/294650540.py:24: RuntimeWarning: Mean of empty slice\n/usr/local/lib/python3.11/dist-packages/numpy/lib/nanfunctions.py:1879: RuntimeWarning: Degrees of freedom <= 0 for slice.\n  var = nanvar(a, axis=axis, dtype=dtype, out=out, ddof=ddof,\n/tmp/ipykernel_60/294650540.py:24: RuntimeWarning: Mean of empty slice\n/usr/local/lib/python3.11/dist-packages/numpy/lib/nanfunctions.py:1879: RuntimeWarning: Degrees of freedom <= 0 for slice.\n  var = nanvar(a, axis=axis, dtype=dtype, out=out, ddof=ddof,\n/tmp/ipykernel_60/294650540.py:24: RuntimeWarning: Mean of empty slice\n/usr/local/lib/python3.11/dist-packages/numpy/lib/nanfunctions.py:1879: RuntimeWarning: Degrees of freedom <= 0 for slice.\n  var = nanvar(a, axis=axis, dtype=dtype, out=out, ddof=ddof,\n/tmp/ipykernel_60/294650540.py:24: RuntimeWarning: Mean of empty slice\n/usr/local/lib/python3.11/dist-packages/numpy/lib/nanfunctions.py:1879: RuntimeWarning: Degrees of freedom <= 0 for slice.\n  var = nanvar(a, axis=axis, dtype=dtype, out=out, ddof=ddof,\n/tmp/ipykernel_60/294650540.py:24: RuntimeWarning: Mean of empty slice\n/usr/local/lib/python3.11/dist-packages/numpy/lib/nanfunctions.py:1879: RuntimeWarning: Degrees of freedom <= 0 for slice.\n  var = nanvar(a, axis=axis, dtype=dtype, out=out, ddof=ddof,\n/tmp/ipykernel_60/294650540.py:24: RuntimeWarning: Mean of empty slice\n/usr/local/lib/python3.11/dist-packages/numpy/lib/nanfunctions.py:1879: RuntimeWarning: Degrees of freedom <= 0 for slice.\n  var = nanvar(a, axis=axis, dtype=dtype, out=out, ddof=ddof,\n"
          ]
        },
        {
          "output_type": "stream",
          "name": "stderr",
          "text": [
            "/tmp/ipykernel_60/294650540.py:24: RuntimeWarning: Mean of empty slice\n/usr/local/lib/python3.11/dist-packages/numpy/lib/nanfunctions.py:1879: RuntimeWarning: Degrees of freedom <= 0 for slice.\n  var = nanvar(a, axis=axis, dtype=dtype, out=out, ddof=ddof,\n/tmp/ipykernel_60/294650540.py:24: RuntimeWarning: Mean of empty slice\n/usr/local/lib/python3.11/dist-packages/numpy/lib/nanfunctions.py:1879: RuntimeWarning: Degrees of freedom <= 0 for slice.\n  var = nanvar(a, axis=axis, dtype=dtype, out=out, ddof=ddof,\n/tmp/ipykernel_60/294650540.py:24: RuntimeWarning: Mean of empty slice\n/usr/local/lib/python3.11/dist-packages/numpy/lib/nanfunctions.py:1879: RuntimeWarning: Degrees of freedom <= 0 for slice.\n  var = nanvar(a, axis=axis, dtype=dtype, out=out, ddof=ddof,\n/tmp/ipykernel_60/294650540.py:24: RuntimeWarning: Mean of empty slice\n/usr/local/lib/python3.11/dist-packages/numpy/lib/nanfunctions.py:1879: RuntimeWarning: Degrees of freedom <= 0 for slice.\n  var = nanvar(a, axis=axis, dtype=dtype, out=out, ddof=ddof,\n/tmp/ipykernel_60/294650540.py:24: RuntimeWarning: Mean of empty slice\n/usr/local/lib/python3.11/dist-packages/numpy/lib/nanfunctions.py:1879: RuntimeWarning: Degrees of freedom <= 0 for slice.\n  var = nanvar(a, axis=axis, dtype=dtype, out=out, ddof=ddof,\n/tmp/ipykernel_60/294650540.py:24: RuntimeWarning: Mean of empty slice\n/usr/local/lib/python3.11/dist-packages/numpy/lib/nanfunctions.py:1879: RuntimeWarning: Degrees of freedom <= 0 for slice.\n  var = nanvar(a, axis=axis, dtype=dtype, out=out, ddof=ddof,\n/tmp/ipykernel_60/294650540.py:24: RuntimeWarning: Mean of empty slice\n/usr/local/lib/python3.11/dist-packages/numpy/lib/nanfunctions.py:1879: RuntimeWarning: Degrees of freedom <= 0 for slice.\n  var = nanvar(a, axis=axis, dtype=dtype, out=out, ddof=ddof,\n/tmp/ipykernel_60/294650540.py:24: RuntimeWarning: Mean of empty slice\n/usr/local/lib/python3.11/dist-packages/numpy/lib/nanfunctions.py:1879: RuntimeWarning: Degrees of freedom <= 0 for slice.\n  var = nanvar(a, axis=axis, dtype=dtype, out=out, ddof=ddof,\n/tmp/ipykernel_60/294650540.py:24: RuntimeWarning: Mean of empty slice\n/usr/local/lib/python3.11/dist-packages/numpy/lib/nanfunctions.py:1879: RuntimeWarning: Degrees of freedom <= 0 for slice.\n  var = nanvar(a, axis=axis, dtype=dtype, out=out, ddof=ddof,\n/tmp/ipykernel_60/294650540.py:24: RuntimeWarning: Mean of empty slice\n/usr/local/lib/python3.11/dist-packages/numpy/lib/nanfunctions.py:1879: RuntimeWarning: Degrees of freedom <= 0 for slice.\n  var = nanvar(a, axis=axis, dtype=dtype, out=out, ddof=ddof,\n"
          ]
        },
        {
          "output_type": "stream",
          "name": "stderr",
          "text": [
            "/tmp/ipykernel_60/294650540.py:24: RuntimeWarning: Mean of empty slice\n/usr/local/lib/python3.11/dist-packages/numpy/lib/nanfunctions.py:1879: RuntimeWarning: Degrees of freedom <= 0 for slice.\n  var = nanvar(a, axis=axis, dtype=dtype, out=out, ddof=ddof,\n/tmp/ipykernel_60/294650540.py:24: RuntimeWarning: Mean of empty slice\n/usr/local/lib/python3.11/dist-packages/numpy/lib/nanfunctions.py:1879: RuntimeWarning: Degrees of freedom <= 0 for slice.\n  var = nanvar(a, axis=axis, dtype=dtype, out=out, ddof=ddof,\n/tmp/ipykernel_60/294650540.py:24: RuntimeWarning: Mean of empty slice\n/usr/local/lib/python3.11/dist-packages/numpy/lib/nanfunctions.py:1879: RuntimeWarning: Degrees of freedom <= 0 for slice.\n  var = nanvar(a, axis=axis, dtype=dtype, out=out, ddof=ddof,\n/tmp/ipykernel_60/294650540.py:24: RuntimeWarning: Mean of empty slice\n/usr/local/lib/python3.11/dist-packages/numpy/lib/nanfunctions.py:1879: RuntimeWarning: Degrees of freedom <= 0 for slice.\n  var = nanvar(a, axis=axis, dtype=dtype, out=out, ddof=ddof,\n/tmp/ipykernel_60/294650540.py:24: RuntimeWarning: Mean of empty slice\n/usr/local/lib/python3.11/dist-packages/numpy/lib/nanfunctions.py:1879: RuntimeWarning: Degrees of freedom <= 0 for slice.\n  var = nanvar(a, axis=axis, dtype=dtype, out=out, ddof=ddof,\n/tmp/ipykernel_60/294650540.py:24: RuntimeWarning: Mean of empty slice\n/usr/local/lib/python3.11/dist-packages/numpy/lib/nanfunctions.py:1879: RuntimeWarning: Degrees of freedom <= 0 for slice.\n  var = nanvar(a, axis=axis, dtype=dtype, out=out, ddof=ddof,\n/tmp/ipykernel_60/294650540.py:24: RuntimeWarning: Mean of empty slice\n/usr/local/lib/python3.11/dist-packages/numpy/lib/nanfunctions.py:1879: RuntimeWarning: Degrees of freedom <= 0 for slice.\n  var = nanvar(a, axis=axis, dtype=dtype, out=out, ddof=ddof,\n/tmp/ipykernel_60/294650540.py:24: RuntimeWarning: Mean of empty slice\n/usr/local/lib/python3.11/dist-packages/numpy/lib/nanfunctions.py:1879: RuntimeWarning: Degrees of freedom <= 0 for slice.\n  var = nanvar(a, axis=axis, dtype=dtype, out=out, ddof=ddof,\n"
          ]
        },
        {
          "output_type": "stream",
          "name": "stderr",
          "text": [
            "/tmp/ipykernel_60/294650540.py:24: RuntimeWarning: Mean of empty slice\n/usr/local/lib/python3.11/dist-packages/numpy/lib/nanfunctions.py:1879: RuntimeWarning: Degrees of freedom <= 0 for slice.\n  var = nanvar(a, axis=axis, dtype=dtype, out=out, ddof=ddof,\n/tmp/ipykernel_60/294650540.py:24: RuntimeWarning: Mean of empty slice\n/usr/local/lib/python3.11/dist-packages/numpy/lib/nanfunctions.py:1879: RuntimeWarning: Degrees of freedom <= 0 for slice.\n  var = nanvar(a, axis=axis, dtype=dtype, out=out, ddof=ddof,\n/tmp/ipykernel_60/294650540.py:24: RuntimeWarning: Mean of empty slice\n/usr/local/lib/python3.11/dist-packages/numpy/lib/nanfunctions.py:1879: RuntimeWarning: Degrees of freedom <= 0 for slice.\n  var = nanvar(a, axis=axis, dtype=dtype, out=out, ddof=ddof,\n/tmp/ipykernel_60/294650540.py:24: RuntimeWarning: Mean of empty slice\n/usr/local/lib/python3.11/dist-packages/numpy/lib/nanfunctions.py:1879: RuntimeWarning: Degrees of freedom <= 0 for slice.\n  var = nanvar(a, axis=axis, dtype=dtype, out=out, ddof=ddof,\n/tmp/ipykernel_60/294650540.py:24: RuntimeWarning: Mean of empty slice\n/usr/local/lib/python3.11/dist-packages/numpy/lib/nanfunctions.py:1879: RuntimeWarning: Degrees of freedom <= 0 for slice.\n  var = nanvar(a, axis=axis, dtype=dtype, out=out, ddof=ddof,\n"
          ]
        },
        {
          "output_type": "stream",
          "name": "stderr",
          "text": [
            "/tmp/ipykernel_60/294650540.py:24: RuntimeWarning: Mean of empty slice\n/usr/local/lib/python3.11/dist-packages/numpy/lib/nanfunctions.py:1879: RuntimeWarning: Degrees of freedom <= 0 for slice.\n  var = nanvar(a, axis=axis, dtype=dtype, out=out, ddof=ddof,\n/tmp/ipykernel_60/294650540.py:24: RuntimeWarning: Mean of empty slice\n/usr/local/lib/python3.11/dist-packages/numpy/lib/nanfunctions.py:1879: RuntimeWarning: Degrees of freedom <= 0 for slice.\n  var = nanvar(a, axis=axis, dtype=dtype, out=out, ddof=ddof,\n/tmp/ipykernel_60/294650540.py:24: RuntimeWarning: Mean of empty slice\n/usr/local/lib/python3.11/dist-packages/numpy/lib/nanfunctions.py:1879: RuntimeWarning: Degrees of freedom <= 0 for slice.\n  var = nanvar(a, axis=axis, dtype=dtype, out=out, ddof=ddof,\n/tmp/ipykernel_60/294650540.py:24: RuntimeWarning: Mean of empty slice\n/usr/local/lib/python3.11/dist-packages/numpy/lib/nanfunctions.py:1879: RuntimeWarning: Degrees of freedom <= 0 for slice.\n  var = nanvar(a, axis=axis, dtype=dtype, out=out, ddof=ddof,\n/tmp/ipykernel_60/294650540.py:24: RuntimeWarning: Mean of empty slice\n/usr/local/lib/python3.11/dist-packages/numpy/lib/nanfunctions.py:1879: RuntimeWarning: Degrees of freedom <= 0 for slice.\n  var = nanvar(a, axis=axis, dtype=dtype, out=out, ddof=ddof,\n"
          ]
        },
        {
          "output_type": "stream",
          "name": "stderr",
          "text": [
            "/tmp/ipykernel_60/294650540.py:24: RuntimeWarning: Mean of empty slice\n/usr/local/lib/python3.11/dist-packages/numpy/lib/nanfunctions.py:1879: RuntimeWarning: Degrees of freedom <= 0 for slice.\n  var = nanvar(a, axis=axis, dtype=dtype, out=out, ddof=ddof,\n/tmp/ipykernel_60/294650540.py:24: RuntimeWarning: Mean of empty slice\n/usr/local/lib/python3.11/dist-packages/numpy/lib/nanfunctions.py:1879: RuntimeWarning: Degrees of freedom <= 0 for slice.\n  var = nanvar(a, axis=axis, dtype=dtype, out=out, ddof=ddof,\n/tmp/ipykernel_60/294650540.py:24: RuntimeWarning: Mean of empty slice\n/usr/local/lib/python3.11/dist-packages/numpy/lib/nanfunctions.py:1879: RuntimeWarning: Degrees of freedom <= 0 for slice.\n  var = nanvar(a, axis=axis, dtype=dtype, out=out, ddof=ddof,\n/tmp/ipykernel_60/294650540.py:24: RuntimeWarning: Mean of empty slice\n/usr/local/lib/python3.11/dist-packages/numpy/lib/nanfunctions.py:1879: RuntimeWarning: Degrees of freedom <= 0 for slice.\n  var = nanvar(a, axis=axis, dtype=dtype, out=out, ddof=ddof,\n/tmp/ipykernel_60/294650540.py:24: RuntimeWarning: Mean of empty slice\n/usr/local/lib/python3.11/dist-packages/numpy/lib/nanfunctions.py:1879: RuntimeWarning: Degrees of freedom <= 0 for slice.\n  var = nanvar(a, axis=axis, dtype=dtype, out=out, ddof=ddof,\n/tmp/ipykernel_60/294650540.py:24: RuntimeWarning: Mean of empty slice\n/usr/local/lib/python3.11/dist-packages/numpy/lib/nanfunctions.py:1879: RuntimeWarning: Degrees of freedom <= 0 for slice.\n  var = nanvar(a, axis=axis, dtype=dtype, out=out, ddof=ddof,\n"
          ]
        },
        {
          "output_type": "stream",
          "name": "stderr",
          "text": [
            "/tmp/ipykernel_60/294650540.py:24: RuntimeWarning: Mean of empty slice\n/usr/local/lib/python3.11/dist-packages/numpy/lib/nanfunctions.py:1879: RuntimeWarning: Degrees of freedom <= 0 for slice.\n  var = nanvar(a, axis=axis, dtype=dtype, out=out, ddof=ddof,\n/tmp/ipykernel_60/294650540.py:24: RuntimeWarning: Mean of empty slice\n/usr/local/lib/python3.11/dist-packages/numpy/lib/nanfunctions.py:1879: RuntimeWarning: Degrees of freedom <= 0 for slice.\n  var = nanvar(a, axis=axis, dtype=dtype, out=out, ddof=ddof,\n/tmp/ipykernel_60/294650540.py:24: RuntimeWarning: Mean of empty slice\n/usr/local/lib/python3.11/dist-packages/numpy/lib/nanfunctions.py:1879: RuntimeWarning: Degrees of freedom <= 0 for slice.\n  var = nanvar(a, axis=axis, dtype=dtype, out=out, ddof=ddof,\n/tmp/ipykernel_60/294650540.py:24: RuntimeWarning: Mean of empty slice\n/usr/local/lib/python3.11/dist-packages/numpy/lib/nanfunctions.py:1879: RuntimeWarning: Degrees of freedom <= 0 for slice.\n  var = nanvar(a, axis=axis, dtype=dtype, out=out, ddof=ddof,\n/tmp/ipykernel_60/294650540.py:24: RuntimeWarning: Mean of empty slice\n/usr/local/lib/python3.11/dist-packages/numpy/lib/nanfunctions.py:1879: RuntimeWarning: Degrees of freedom <= 0 for slice.\n  var = nanvar(a, axis=axis, dtype=dtype, out=out, ddof=ddof,\n/tmp/ipykernel_60/294650540.py:24: RuntimeWarning: Mean of empty slice\n/usr/local/lib/python3.11/dist-packages/numpy/lib/nanfunctions.py:1879: RuntimeWarning: Degrees of freedom <= 0 for slice.\n  var = nanvar(a, axis=axis, dtype=dtype, out=out, ddof=ddof,\n/tmp/ipykernel_60/294650540.py:24: RuntimeWarning: Mean of empty slice\n/usr/local/lib/python3.11/dist-packages/numpy/lib/nanfunctions.py:1879: RuntimeWarning: Degrees of freedom <= 0 for slice.\n  var = nanvar(a, axis=axis, dtype=dtype, out=out, ddof=ddof,\n"
          ]
        },
        {
          "output_type": "stream",
          "name": "stderr",
          "text": [
            "/tmp/ipykernel_60/294650540.py:24: RuntimeWarning: Mean of empty slice\n/usr/local/lib/python3.11/dist-packages/numpy/lib/nanfunctions.py:1879: RuntimeWarning: Degrees of freedom <= 0 for slice.\n  var = nanvar(a, axis=axis, dtype=dtype, out=out, ddof=ddof,\n/tmp/ipykernel_60/294650540.py:24: RuntimeWarning: Mean of empty slice\n/tmp/ipykernel_60/294650540.py:24: RuntimeWarning: Mean of empty slice\n/usr/local/lib/python3.11/dist-packages/numpy/lib/nanfunctions.py:1879: RuntimeWarning: Degrees of freedom <= 0 for slice.\n  var = nanvar(a, axis=axis, dtype=dtype, out=out, ddof=ddof,\n/usr/local/lib/python3.11/dist-packages/numpy/lib/nanfunctions.py:1879: RuntimeWarning: Degrees of freedom <= 0 for slice.\n  var = nanvar(a, axis=axis, dtype=dtype, out=out, ddof=ddof,\n/tmp/ipykernel_60/294650540.py:24: RuntimeWarning: Mean of empty slice\n/usr/local/lib/python3.11/dist-packages/numpy/lib/nanfunctions.py:1879: RuntimeWarning: Degrees of freedom <= 0 for slice.\n  var = nanvar(a, axis=axis, dtype=dtype, out=out, ddof=ddof,\n/tmp/ipykernel_60/294650540.py:24: RuntimeWarning: Mean of empty slice\n/usr/local/lib/python3.11/dist-packages/numpy/lib/nanfunctions.py:1879: RuntimeWarning: Degrees of freedom <= 0 for slice.\n  var = nanvar(a, axis=axis, dtype=dtype, out=out, ddof=ddof,\n/tmp/ipykernel_60/294650540.py:24: RuntimeWarning: Mean of empty slice\n/usr/local/lib/python3.11/dist-packages/numpy/lib/nanfunctions.py:1879: RuntimeWarning: Degrees of freedom <= 0 for slice.\n  var = nanvar(a, axis=axis, dtype=dtype, out=out, ddof=ddof,\n/tmp/ipykernel_60/294650540.py:24: RuntimeWarning: Mean of empty slice\n/usr/local/lib/python3.11/dist-packages/numpy/lib/nanfunctions.py:1879: RuntimeWarning: Degrees of freedom <= 0 for slice.\n  var = nanvar(a, axis=axis, dtype=dtype, out=out, ddof=ddof,\n/tmp/ipykernel_60/294650540.py:24: RuntimeWarning: Mean of empty slice\n/usr/local/lib/python3.11/dist-packages/numpy/lib/nanfunctions.py:1879: RuntimeWarning: Degrees of freedom <= 0 for slice.\n  var = nanvar(a, axis=axis, dtype=dtype, out=out, ddof=ddof,\n/tmp/ipykernel_60/294650540.py:24: RuntimeWarning: Mean of empty slice\n/usr/local/lib/python3.11/dist-packages/numpy/lib/nanfunctions.py:1879: RuntimeWarning: Degrees of freedom <= 0 for slice.\n  var = nanvar(a, axis=axis, dtype=dtype, out=out, ddof=ddof,\n"
          ]
        },
        {
          "output_type": "stream",
          "name": "stderr",
          "text": [
            "/tmp/ipykernel_60/294650540.py:24: RuntimeWarning: Mean of empty slice\n/usr/local/lib/python3.11/dist-packages/numpy/lib/nanfunctions.py:1879: RuntimeWarning: Degrees of freedom <= 0 for slice.\n  var = nanvar(a, axis=axis, dtype=dtype, out=out, ddof=ddof,\n/tmp/ipykernel_60/294650540.py:24: RuntimeWarning: Mean of empty slice\n/usr/local/lib/python3.11/dist-packages/numpy/lib/nanfunctions.py:1879: RuntimeWarning: Degrees of freedom <= 0 for slice.\n  var = nanvar(a, axis=axis, dtype=dtype, out=out, ddof=ddof,\n/tmp/ipykernel_60/294650540.py:24: RuntimeWarning: Mean of empty slice\n/usr/local/lib/python3.11/dist-packages/numpy/lib/nanfunctions.py:1879: RuntimeWarning: Degrees of freedom <= 0 for slice.\n  var = nanvar(a, axis=axis, dtype=dtype, out=out, ddof=ddof,\n/tmp/ipykernel_60/294650540.py:24: RuntimeWarning: Mean of empty slice\n/usr/local/lib/python3.11/dist-packages/numpy/lib/nanfunctions.py:1879: RuntimeWarning: Degrees of freedom <= 0 for slice.\n  var = nanvar(a, axis=axis, dtype=dtype, out=out, ddof=ddof,\n/tmp/ipykernel_60/294650540.py:24: RuntimeWarning: Mean of empty slice\n/usr/local/lib/python3.11/dist-packages/numpy/lib/nanfunctions.py:1879: RuntimeWarning: Degrees of freedom <= 0 for slice.\n  var = nanvar(a, axis=axis, dtype=dtype, out=out, ddof=ddof,\n/tmp/ipykernel_60/294650540.py:24: RuntimeWarning: Mean of empty slice\n/usr/local/lib/python3.11/dist-packages/numpy/lib/nanfunctions.py:1879: RuntimeWarning: Degrees of freedom <= 0 for slice.\n  var = nanvar(a, axis=axis, dtype=dtype, out=out, ddof=ddof,\n/tmp/ipykernel_60/294650540.py:24: RuntimeWarning: Mean of empty slice\n/usr/local/lib/python3.11/dist-packages/numpy/lib/nanfunctions.py:1879: RuntimeWarning: Degrees of freedom <= 0 for slice.\n  var = nanvar(a, axis=axis, dtype=dtype, out=out, ddof=ddof,\n/tmp/ipykernel_60/294650540.py:24: RuntimeWarning: Mean of empty slice\n/usr/local/lib/python3.11/dist-packages/numpy/lib/nanfunctions.py:1879: RuntimeWarning: Degrees of freedom <= 0 for slice.\n  var = nanvar(a, axis=axis, dtype=dtype, out=out, ddof=ddof,\n"
          ]
        },
        {
          "output_type": "stream",
          "name": "stdout",
          "text": [
            "Wrote features_train_v2.parquet shape (3987, 261) in 57.7s (n_jobs=18)\n"
          ]
        },
        {
          "output_type": "stream",
          "name": "stderr",
          "text": [
            "/tmp/ipykernel_60/294650540.py:24: RuntimeWarning: Mean of empty slice\n/usr/local/lib/python3.11/dist-packages/numpy/lib/nanfunctions.py:1879: RuntimeWarning: Degrees of freedom <= 0 for slice.\n  var = nanvar(a, axis=axis, dtype=dtype, out=out, ddof=ddof,\n/tmp/ipykernel_60/294650540.py:24: RuntimeWarning: Mean of empty slice\n/usr/local/lib/python3.11/dist-packages/numpy/lib/nanfunctions.py:1879: RuntimeWarning: Degrees of freedom <= 0 for slice.\n  var = nanvar(a, axis=axis, dtype=dtype, out=out, ddof=ddof,\n/tmp/ipykernel_60/294650540.py:24: RuntimeWarning: Mean of empty slice\n/usr/local/lib/python3.11/dist-packages/numpy/lib/nanfunctions.py:1879: RuntimeWarning: Degrees of freedom <= 0 for slice.\n  var = nanvar(a, axis=axis, dtype=dtype, out=out, ddof=ddof,\n/tmp/ipykernel_60/294650540.py:24: RuntimeWarning: Mean of empty slice\n/usr/local/lib/python3.11/dist-packages/numpy/lib/nanfunctions.py:1879: RuntimeWarning: Degrees of freedom <= 0 for slice.\n  var = nanvar(a, axis=axis, dtype=dtype, out=out, ddof=ddof,\n/tmp/ipykernel_60/294650540.py:24: RuntimeWarning: Mean of empty slice\n/usr/local/lib/python3.11/dist-packages/numpy/lib/nanfunctions.py:1879: RuntimeWarning: Degrees of freedom <= 0 for slice.\n  var = nanvar(a, axis=axis, dtype=dtype, out=out, ddof=ddof,\n/tmp/ipykernel_60/294650540.py:24: RuntimeWarning: Mean of empty slice\n/usr/local/lib/python3.11/dist-packages/numpy/lib/nanfunctions.py:1879: RuntimeWarning: Degrees of freedom <= 0 for slice.\n  var = nanvar(a, axis=axis, dtype=dtype, out=out, ddof=ddof,\n/tmp/ipykernel_60/294650540.py:24: RuntimeWarning: Mean of empty slice\n/usr/local/lib/python3.11/dist-packages/numpy/lib/nanfunctions.py:1879: RuntimeWarning: Degrees of freedom <= 0 for slice.\n  var = nanvar(a, axis=axis, dtype=dtype, out=out, ddof=ddof,\n/tmp/ipykernel_60/294650540.py:24: RuntimeWarning: Mean of empty slice\n/usr/local/lib/python3.11/dist-packages/numpy/lib/nanfunctions.py:1879: RuntimeWarning: Degrees of freedom <= 0 for slice.\n  var = nanvar(a, axis=axis, dtype=dtype, out=out, ddof=ddof,\n/tmp/ipykernel_60/294650540.py:24: RuntimeWarning: Mean of empty slice\n/usr/local/lib/python3.11/dist-packages/numpy/lib/nanfunctions.py:1879: RuntimeWarning: Degrees of freedom <= 0 for slice.\n  var = nanvar(a, axis=axis, dtype=dtype, out=out, ddof=ddof,\n"
          ]
        },
        {
          "output_type": "stream",
          "name": "stderr",
          "text": [
            "/tmp/ipykernel_60/294650540.py:24: RuntimeWarning: Mean of empty slice\n/usr/local/lib/python3.11/dist-packages/numpy/lib/nanfunctions.py:1879: RuntimeWarning: Degrees of freedom <= 0 for slice.\n  var = nanvar(a, axis=axis, dtype=dtype, out=out, ddof=ddof,\n/tmp/ipykernel_60/294650540.py:24: RuntimeWarning: Mean of empty slice\n/usr/local/lib/python3.11/dist-packages/numpy/lib/nanfunctions.py:1879: RuntimeWarning: Degrees of freedom <= 0 for slice.\n  var = nanvar(a, axis=axis, dtype=dtype, out=out, ddof=ddof,\n/tmp/ipykernel_60/294650540.py:24: RuntimeWarning: Mean of empty slice\n/usr/local/lib/python3.11/dist-packages/numpy/lib/nanfunctions.py:1879: RuntimeWarning: Degrees of freedom <= 0 for slice.\n  var = nanvar(a, axis=axis, dtype=dtype, out=out, ddof=ddof,\n/tmp/ipykernel_60/294650540.py:24: RuntimeWarning: Mean of empty slice\n/usr/local/lib/python3.11/dist-packages/numpy/lib/nanfunctions.py:1879: RuntimeWarning: Degrees of freedom <= 0 for slice.\n  var = nanvar(a, axis=axis, dtype=dtype, out=out, ddof=ddof,\n/tmp/ipykernel_60/294650540.py:24: RuntimeWarning: Mean of empty slice\n/usr/local/lib/python3.11/dist-packages/numpy/lib/nanfunctions.py:1879: RuntimeWarning: Degrees of freedom <= 0 for slice.\n  var = nanvar(a, axis=axis, dtype=dtype, out=out, ddof=ddof,\n/tmp/ipykernel_60/294650540.py:24: RuntimeWarning: Mean of empty slice\n/usr/local/lib/python3.11/dist-packages/numpy/lib/nanfunctions.py:1879: RuntimeWarning: Degrees of freedom <= 0 for slice.\n  var = nanvar(a, axis=axis, dtype=dtype, out=out, ddof=ddof,\n/tmp/ipykernel_60/294650540.py:24: RuntimeWarning: Mean of empty slice\n/usr/local/lib/python3.11/dist-packages/numpy/lib/nanfunctions.py:1879: RuntimeWarning: Degrees of freedom <= 0 for slice.\n  var = nanvar(a, axis=axis, dtype=dtype, out=out, ddof=ddof,\n/tmp/ipykernel_60/294650540.py:24: RuntimeWarning: Mean of empty slice\n/usr/local/lib/python3.11/dist-packages/numpy/lib/nanfunctions.py:1879: RuntimeWarning: Degrees of freedom <= 0 for slice.\n  var = nanvar(a, axis=axis, dtype=dtype, out=out, ddof=ddof,\n/tmp/ipykernel_60/294650540.py:24: RuntimeWarning: Mean of empty slice\n/usr/local/lib/python3.11/dist-packages/numpy/lib/nanfunctions.py:1879: RuntimeWarning: Degrees of freedom <= 0 for slice.\n  var = nanvar(a, axis=axis, dtype=dtype, out=out, ddof=ddof,\n/tmp/ipykernel_60/294650540.py:24: RuntimeWarning: Mean of empty slice\n/usr/local/lib/python3.11/dist-packages/numpy/lib/nanfunctions.py:1879: RuntimeWarning: Degrees of freedom <= 0 for slice.\n  var = nanvar(a, axis=axis, dtype=dtype, out=out, ddof=ddof,\n"
          ]
        },
        {
          "output_type": "stream",
          "name": "stderr",
          "text": [
            "/tmp/ipykernel_60/294650540.py:24: RuntimeWarning: Mean of empty slice\n/usr/local/lib/python3.11/dist-packages/numpy/lib/nanfunctions.py:1879: RuntimeWarning: Degrees of freedom <= 0 for slice.\n  var = nanvar(a, axis=axis, dtype=dtype, out=out, ddof=ddof,\n/tmp/ipykernel_60/294650540.py:24: RuntimeWarning: Mean of empty slice\n/usr/local/lib/python3.11/dist-packages/numpy/lib/nanfunctions.py:1879: RuntimeWarning: Degrees of freedom <= 0 for slice.\n  var = nanvar(a, axis=axis, dtype=dtype, out=out, ddof=ddof,\n/tmp/ipykernel_60/294650540.py:24: RuntimeWarning: Mean of empty slice\n/usr/local/lib/python3.11/dist-packages/numpy/lib/nanfunctions.py:1879: RuntimeWarning: Degrees of freedom <= 0 for slice.\n  var = nanvar(a, axis=axis, dtype=dtype, out=out, ddof=ddof,\n/tmp/ipykernel_60/294650540.py:24: RuntimeWarning: Mean of empty slice\n/usr/local/lib/python3.11/dist-packages/numpy/lib/nanfunctions.py:1879: RuntimeWarning: Degrees of freedom <= 0 for slice.\n  var = nanvar(a, axis=axis, dtype=dtype, out=out, ddof=ddof,\n/tmp/ipykernel_60/294650540.py:24: RuntimeWarning: Mean of empty slice\n/usr/local/lib/python3.11/dist-packages/numpy/lib/nanfunctions.py:1879: RuntimeWarning: Degrees of freedom <= 0 for slice.\n  var = nanvar(a, axis=axis, dtype=dtype, out=out, ddof=ddof,\n/tmp/ipykernel_60/294650540.py:24: RuntimeWarning: Mean of empty slice\n/usr/local/lib/python3.11/dist-packages/numpy/lib/nanfunctions.py:1879: RuntimeWarning: Degrees of freedom <= 0 for slice.\n  var = nanvar(a, axis=axis, dtype=dtype, out=out, ddof=ddof,\n/tmp/ipykernel_60/294650540.py:24: RuntimeWarning: Mean of empty slice\n/usr/local/lib/python3.11/dist-packages/numpy/lib/nanfunctions.py:1879: RuntimeWarning: Degrees of freedom <= 0 for slice.\n  var = nanvar(a, axis=axis, dtype=dtype, out=out, ddof=ddof,\n/tmp/ipykernel_60/294650540.py:24: RuntimeWarning: Mean of empty slice\n/usr/local/lib/python3.11/dist-packages/numpy/lib/nanfunctions.py:1879: RuntimeWarning: Degrees of freedom <= 0 for slice.\n  var = nanvar(a, axis=axis, dtype=dtype, out=out, ddof=ddof,\n/tmp/ipykernel_60/294650540.py:24: RuntimeWarning: Mean of empty slice\n/usr/local/lib/python3.11/dist-packages/numpy/lib/nanfunctions.py:1879: RuntimeWarning: Degrees of freedom <= 0 for slice.\n  var = nanvar(a, axis=axis, dtype=dtype, out=out, ddof=ddof,\n"
          ]
        },
        {
          "output_type": "stream",
          "name": "stderr",
          "text": [
            "/tmp/ipykernel_60/294650540.py:24: RuntimeWarning: Mean of empty slice\n/usr/local/lib/python3.11/dist-packages/numpy/lib/nanfunctions.py:1879: RuntimeWarning: Degrees of freedom <= 0 for slice.\n  var = nanvar(a, axis=axis, dtype=dtype, out=out, ddof=ddof,\n/tmp/ipykernel_60/294650540.py:24: RuntimeWarning: Mean of empty slice\n/usr/local/lib/python3.11/dist-packages/numpy/lib/nanfunctions.py:1879: RuntimeWarning: Degrees of freedom <= 0 for slice.\n  var = nanvar(a, axis=axis, dtype=dtype, out=out, ddof=ddof,\n/tmp/ipykernel_60/294650540.py:24: RuntimeWarning: Mean of empty slice\n/usr/local/lib/python3.11/dist-packages/numpy/lib/nanfunctions.py:1879: RuntimeWarning: Degrees of freedom <= 0 for slice.\n  var = nanvar(a, axis=axis, dtype=dtype, out=out, ddof=ddof,\n/tmp/ipykernel_60/294650540.py:24: RuntimeWarning: Mean of empty slice\n/usr/local/lib/python3.11/dist-packages/numpy/lib/nanfunctions.py:1879: RuntimeWarning: Degrees of freedom <= 0 for slice.\n  var = nanvar(a, axis=axis, dtype=dtype, out=out, ddof=ddof,\n/tmp/ipykernel_60/294650540.py:24: RuntimeWarning: Mean of empty slice\n/usr/local/lib/python3.11/dist-packages/numpy/lib/nanfunctions.py:1879: RuntimeWarning: Degrees of freedom <= 0 for slice.\n  var = nanvar(a, axis=axis, dtype=dtype, out=out, ddof=ddof,\n/tmp/ipykernel_60/294650540.py:24: RuntimeWarning: Mean of empty slice\n/usr/local/lib/python3.11/dist-packages/numpy/lib/nanfunctions.py:1879: RuntimeWarning: Degrees of freedom <= 0 for slice.\n  var = nanvar(a, axis=axis, dtype=dtype, out=out, ddof=ddof,\n/tmp/ipykernel_60/294650540.py:24: RuntimeWarning: Mean of empty slice\n/usr/local/lib/python3.11/dist-packages/numpy/lib/nanfunctions.py:1879: RuntimeWarning: Degrees of freedom <= 0 for slice.\n  var = nanvar(a, axis=axis, dtype=dtype, out=out, ddof=ddof,\n/tmp/ipykernel_60/294650540.py:24: RuntimeWarning: Mean of empty slice\n/usr/local/lib/python3.11/dist-packages/numpy/lib/nanfunctions.py:1879: RuntimeWarning: Degrees of freedom <= 0 for slice.\n  var = nanvar(a, axis=axis, dtype=dtype, out=out, ddof=ddof,\n"
          ]
        },
        {
          "output_type": "stream",
          "name": "stderr",
          "text": [
            "/tmp/ipykernel_60/294650540.py:24: RuntimeWarning: Mean of empty slice\n/usr/local/lib/python3.11/dist-packages/numpy/lib/nanfunctions.py:1879: RuntimeWarning: Degrees of freedom <= 0 for slice.\n  var = nanvar(a, axis=axis, dtype=dtype, out=out, ddof=ddof,\n/tmp/ipykernel_60/294650540.py:24: RuntimeWarning: Mean of empty slice\n/usr/local/lib/python3.11/dist-packages/numpy/lib/nanfunctions.py:1879: RuntimeWarning: Degrees of freedom <= 0 for slice.\n  var = nanvar(a, axis=axis, dtype=dtype, out=out, ddof=ddof,\n/tmp/ipykernel_60/294650540.py:24: RuntimeWarning: Mean of empty slice\n/usr/local/lib/python3.11/dist-packages/numpy/lib/nanfunctions.py:1879: RuntimeWarning: Degrees of freedom <= 0 for slice.\n  var = nanvar(a, axis=axis, dtype=dtype, out=out, ddof=ddof,\n/tmp/ipykernel_60/294650540.py:24: RuntimeWarning: Mean of empty slice\n/usr/local/lib/python3.11/dist-packages/numpy/lib/nanfunctions.py:1879: RuntimeWarning: Degrees of freedom <= 0 for slice.\n  var = nanvar(a, axis=axis, dtype=dtype, out=out, ddof=ddof,\n/tmp/ipykernel_60/294650540.py:24: RuntimeWarning: Mean of empty slice\n/usr/local/lib/python3.11/dist-packages/numpy/lib/nanfunctions.py:1879: RuntimeWarning: Degrees of freedom <= 0 for slice.\n  var = nanvar(a, axis=axis, dtype=dtype, out=out, ddof=ddof,\n/tmp/ipykernel_60/294650540.py:24: RuntimeWarning: Mean of empty slice\n/usr/local/lib/python3.11/dist-packages/numpy/lib/nanfunctions.py:1879: RuntimeWarning: Degrees of freedom <= 0 for slice.\n  var = nanvar(a, axis=axis, dtype=dtype, out=out, ddof=ddof,\n/tmp/ipykernel_60/294650540.py:24: RuntimeWarning: Mean of empty slice\n/usr/local/lib/python3.11/dist-packages/numpy/lib/nanfunctions.py:1879: RuntimeWarning: Degrees of freedom <= 0 for slice.\n  var = nanvar(a, axis=axis, dtype=dtype, out=out, ddof=ddof,\n"
          ]
        },
        {
          "output_type": "stream",
          "name": "stderr",
          "text": [
            "/tmp/ipykernel_60/294650540.py:24: RuntimeWarning: Mean of empty slice\n/usr/local/lib/python3.11/dist-packages/numpy/lib/nanfunctions.py:1879: RuntimeWarning: Degrees of freedom <= 0 for slice.\n  var = nanvar(a, axis=axis, dtype=dtype, out=out, ddof=ddof,\n/tmp/ipykernel_60/294650540.py:24: RuntimeWarning: Mean of empty slice\n/usr/local/lib/python3.11/dist-packages/numpy/lib/nanfunctions.py:1879: RuntimeWarning: Degrees of freedom <= 0 for slice.\n  var = nanvar(a, axis=axis, dtype=dtype, out=out, ddof=ddof,\n/tmp/ipykernel_60/294650540.py:24: RuntimeWarning: Mean of empty slice\n/usr/local/lib/python3.11/dist-packages/numpy/lib/nanfunctions.py:1879: RuntimeWarning: Degrees of freedom <= 0 for slice.\n  var = nanvar(a, axis=axis, dtype=dtype, out=out, ddof=ddof,\n/tmp/ipykernel_60/294650540.py:24: RuntimeWarning: Mean of empty slice\n/usr/local/lib/python3.11/dist-packages/numpy/lib/nanfunctions.py:1879: RuntimeWarning: Degrees of freedom <= 0 for slice.\n  var = nanvar(a, axis=axis, dtype=dtype, out=out, ddof=ddof,\n/tmp/ipykernel_60/294650540.py:24: RuntimeWarning: Mean of empty slice\n/usr/local/lib/python3.11/dist-packages/numpy/lib/nanfunctions.py:1879: RuntimeWarning: Degrees of freedom <= 0 for slice.\n  var = nanvar(a, axis=axis, dtype=dtype, out=out, ddof=ddof,\n/tmp/ipykernel_60/294650540.py:24: RuntimeWarning: Mean of empty slice\n/usr/local/lib/python3.11/dist-packages/numpy/lib/nanfunctions.py:1879: RuntimeWarning: Degrees of freedom <= 0 for slice.\n  var = nanvar(a, axis=axis, dtype=dtype, out=out, ddof=ddof,\n/tmp/ipykernel_60/294650540.py:24: RuntimeWarning: Mean of empty slice\n/usr/local/lib/python3.11/dist-packages/numpy/lib/nanfunctions.py:1879: RuntimeWarning: Degrees of freedom <= 0 for slice.\n  var = nanvar(a, axis=axis, dtype=dtype, out=out, ddof=ddof,\n/tmp/ipykernel_60/294650540.py:24: RuntimeWarning: Mean of empty slice\n/usr/local/lib/python3.11/dist-packages/numpy/lib/nanfunctions.py:1879: RuntimeWarning: Degrees of freedom <= 0 for slice.\n  var = nanvar(a, axis=axis, dtype=dtype, out=out, ddof=ddof,\n/tmp/ipykernel_60/294650540.py:24: RuntimeWarning: Mean of empty slice\n/usr/local/lib/python3.11/dist-packages/numpy/lib/nanfunctions.py:1879: RuntimeWarning: Degrees of freedom <= 0 for slice.\n  var = nanvar(a, axis=axis, dtype=dtype, out=out, ddof=ddof,\n"
          ]
        },
        {
          "output_type": "stream",
          "name": "stderr",
          "text": [
            "/tmp/ipykernel_60/294650540.py:24: RuntimeWarning: Mean of empty slice\n/usr/local/lib/python3.11/dist-packages/numpy/lib/nanfunctions.py:1879: RuntimeWarning: Degrees of freedom <= 0 for slice.\n  var = nanvar(a, axis=axis, dtype=dtype, out=out, ddof=ddof,\n/tmp/ipykernel_60/294650540.py:24: RuntimeWarning: Mean of empty slice\n/usr/local/lib/python3.11/dist-packages/numpy/lib/nanfunctions.py:1879: RuntimeWarning: Degrees of freedom <= 0 for slice.\n  var = nanvar(a, axis=axis, dtype=dtype, out=out, ddof=ddof,\n/tmp/ipykernel_60/294650540.py:24: RuntimeWarning: Mean of empty slice\n/usr/local/lib/python3.11/dist-packages/numpy/lib/nanfunctions.py:1879: RuntimeWarning: Degrees of freedom <= 0 for slice.\n  var = nanvar(a, axis=axis, dtype=dtype, out=out, ddof=ddof,\n/tmp/ipykernel_60/294650540.py:24: RuntimeWarning: Mean of empty slice\n/usr/local/lib/python3.11/dist-packages/numpy/lib/nanfunctions.py:1879: RuntimeWarning: Degrees of freedom <= 0 for slice.\n  var = nanvar(a, axis=axis, dtype=dtype, out=out, ddof=ddof,\n"
          ]
        },
        {
          "output_type": "stream",
          "name": "stderr",
          "text": [
            "/tmp/ipykernel_60/294650540.py:24: RuntimeWarning: Mean of empty slice\n/usr/local/lib/python3.11/dist-packages/numpy/lib/nanfunctions.py:1879: RuntimeWarning: Degrees of freedom <= 0 for slice.\n  var = nanvar(a, axis=axis, dtype=dtype, out=out, ddof=ddof,\n/tmp/ipykernel_60/294650540.py:24: RuntimeWarning: Mean of empty slice\n/usr/local/lib/python3.11/dist-packages/numpy/lib/nanfunctions.py:1879: RuntimeWarning: Degrees of freedom <= 0 for slice.\n  var = nanvar(a, axis=axis, dtype=dtype, out=out, ddof=ddof,\n/tmp/ipykernel_60/294650540.py:24: RuntimeWarning: Mean of empty slice\n/usr/local/lib/python3.11/dist-packages/numpy/lib/nanfunctions.py:1879: RuntimeWarning: Degrees of freedom <= 0 for slice.\n  var = nanvar(a, axis=axis, dtype=dtype, out=out, ddof=ddof,\n/tmp/ipykernel_60/294650540.py:24: RuntimeWarning: Mean of empty slice\n/usr/local/lib/python3.11/dist-packages/numpy/lib/nanfunctions.py:1879: RuntimeWarning: Degrees of freedom <= 0 for slice.\n  var = nanvar(a, axis=axis, dtype=dtype, out=out, ddof=ddof,\n/tmp/ipykernel_60/294650540.py:24: RuntimeWarning: Mean of empty slice\n/usr/local/lib/python3.11/dist-packages/numpy/lib/nanfunctions.py:1879: RuntimeWarning: Degrees of freedom <= 0 for slice.\n  var = nanvar(a, axis=axis, dtype=dtype, out=out, ddof=ddof,\n"
          ]
        },
        {
          "output_type": "stream",
          "name": "stderr",
          "text": [
            "/tmp/ipykernel_60/294650540.py:24: RuntimeWarning: Mean of empty slice\n/usr/local/lib/python3.11/dist-packages/numpy/lib/nanfunctions.py:1879: RuntimeWarning: Degrees of freedom <= 0 for slice.\n  var = nanvar(a, axis=axis, dtype=dtype, out=out, ddof=ddof,\n/tmp/ipykernel_60/294650540.py:24: RuntimeWarning: Mean of empty slice\n/usr/local/lib/python3.11/dist-packages/numpy/lib/nanfunctions.py:1879: RuntimeWarning: Degrees of freedom <= 0 for slice.\n  var = nanvar(a, axis=axis, dtype=dtype, out=out, ddof=ddof,\n/tmp/ipykernel_60/294650540.py:24: RuntimeWarning: Mean of empty slice\n/usr/local/lib/python3.11/dist-packages/numpy/lib/nanfunctions.py:1879: RuntimeWarning: Degrees of freedom <= 0 for slice.\n  var = nanvar(a, axis=axis, dtype=dtype, out=out, ddof=ddof,\n/tmp/ipykernel_60/294650540.py:24: RuntimeWarning: Mean of empty slice\n/usr/local/lib/python3.11/dist-packages/numpy/lib/nanfunctions.py:1879: RuntimeWarning: Degrees of freedom <= 0 for slice.\n  var = nanvar(a, axis=axis, dtype=dtype, out=out, ddof=ddof,\n/tmp/ipykernel_60/294650540.py:24: RuntimeWarning: Mean of empty slice\n/usr/local/lib/python3.11/dist-packages/numpy/lib/nanfunctions.py:1879: RuntimeWarning: Degrees of freedom <= 0 for slice.\n  var = nanvar(a, axis=axis, dtype=dtype, out=out, ddof=ddof,\n/tmp/ipykernel_60/294650540.py:24: RuntimeWarning: Mean of empty slice\n/usr/local/lib/python3.11/dist-packages/numpy/lib/nanfunctions.py:1879: RuntimeWarning: Degrees of freedom <= 0 for slice.\n  var = nanvar(a, axis=axis, dtype=dtype, out=out, ddof=ddof,\n/tmp/ipykernel_60/294650540.py:24: RuntimeWarning: Mean of empty slice\n/usr/local/lib/python3.11/dist-packages/numpy/lib/nanfunctions.py:1879: RuntimeWarning: Degrees of freedom <= 0 for slice.\n  var = nanvar(a, axis=axis, dtype=dtype, out=out, ddof=ddof,\n/tmp/ipykernel_60/294650540.py:24: RuntimeWarning: Mean of empty slice\n/usr/local/lib/python3.11/dist-packages/numpy/lib/nanfunctions.py:1879: RuntimeWarning: Degrees of freedom <= 0 for slice.\n  var = nanvar(a, axis=axis, dtype=dtype, out=out, ddof=ddof,\n/tmp/ipykernel_60/294650540.py:24: RuntimeWarning: Mean of empty slice\n/usr/local/lib/python3.11/dist-packages/numpy/lib/nanfunctions.py:1879: RuntimeWarning: Degrees of freedom <= 0 for slice.\n  var = nanvar(a, axis=axis, dtype=dtype, out=out, ddof=ddof,\n/tmp/ipykernel_60/294650540.py:24: RuntimeWarning: Mean of empty slice\n/usr/local/lib/python3.11/dist-packages/numpy/lib/nanfunctions.py:1879: RuntimeWarning: Degrees of freedom <= 0 for slice.\n  var = nanvar(a, axis=axis, dtype=dtype, out=out, ddof=ddof,\n/tmp/ipykernel_60/294650540.py:24: RuntimeWarning: Mean of empty slice\n/usr/local/lib/python3.11/dist-packages/numpy/lib/nanfunctions.py:1879: RuntimeWarning: Degrees of freedom <= 0 for slice.\n  var = nanvar(a, axis=axis, dtype=dtype, out=out, ddof=ddof,\n"
          ]
        },
        {
          "output_type": "stream",
          "name": "stderr",
          "text": [
            "/tmp/ipykernel_60/294650540.py:24: RuntimeWarning: Mean of empty slice\n/usr/local/lib/python3.11/dist-packages/numpy/lib/nanfunctions.py:1879: RuntimeWarning: Degrees of freedom <= 0 for slice.\n  var = nanvar(a, axis=axis, dtype=dtype, out=out, ddof=ddof,\n/tmp/ipykernel_60/294650540.py:24: RuntimeWarning: Mean of empty slice\n/usr/local/lib/python3.11/dist-packages/numpy/lib/nanfunctions.py:1879: RuntimeWarning: Degrees of freedom <= 0 for slice.\n  var = nanvar(a, axis=axis, dtype=dtype, out=out, ddof=ddof,\n/tmp/ipykernel_60/294650540.py:24: RuntimeWarning: Mean of empty slice\n/usr/local/lib/python3.11/dist-packages/numpy/lib/nanfunctions.py:1879: RuntimeWarning: Degrees of freedom <= 0 for slice.\n  var = nanvar(a, axis=axis, dtype=dtype, out=out, ddof=ddof,\n/tmp/ipykernel_60/294650540.py:24: RuntimeWarning: Mean of empty slice\n/usr/local/lib/python3.11/dist-packages/numpy/lib/nanfunctions.py:1879: RuntimeWarning: Degrees of freedom <= 0 for slice.\n  var = nanvar(a, axis=axis, dtype=dtype, out=out, ddof=ddof,\n/tmp/ipykernel_60/294650540.py:24: RuntimeWarning: Mean of empty slice\n/usr/local/lib/python3.11/dist-packages/numpy/lib/nanfunctions.py:1879: RuntimeWarning: Degrees of freedom <= 0 for slice.\n  var = nanvar(a, axis=axis, dtype=dtype, out=out, ddof=ddof,\n/tmp/ipykernel_60/294650540.py:24: RuntimeWarning: Mean of empty slice\n/usr/local/lib/python3.11/dist-packages/numpy/lib/nanfunctions.py:1879: RuntimeWarning: Degrees of freedom <= 0 for slice.\n  var = nanvar(a, axis=axis, dtype=dtype, out=out, ddof=ddof,\n/tmp/ipykernel_60/294650540.py:24: RuntimeWarning: Mean of empty slice\n/usr/local/lib/python3.11/dist-packages/numpy/lib/nanfunctions.py:1879: RuntimeWarning: Degrees of freedom <= 0 for slice.\n  var = nanvar(a, axis=axis, dtype=dtype, out=out, ddof=ddof,\n/tmp/ipykernel_60/294650540.py:24: RuntimeWarning: Mean of empty slice\n/usr/local/lib/python3.11/dist-packages/numpy/lib/nanfunctions.py:1879: RuntimeWarning: Degrees of freedom <= 0 for slice.\n  var = nanvar(a, axis=axis, dtype=dtype, out=out, ddof=ddof,\n/tmp/ipykernel_60/294650540.py:24: RuntimeWarning: Mean of empty slice\n/usr/local/lib/python3.11/dist-packages/numpy/lib/nanfunctions.py:1879: RuntimeWarning: Degrees of freedom <= 0 for slice.\n  var = nanvar(a, axis=axis, dtype=dtype, out=out, ddof=ddof,\n"
          ]
        },
        {
          "output_type": "stream",
          "name": "stderr",
          "text": [
            "/tmp/ipykernel_60/294650540.py:24: RuntimeWarning: Mean of empty slice\n/usr/local/lib/python3.11/dist-packages/numpy/lib/nanfunctions.py:1879: RuntimeWarning: Degrees of freedom <= 0 for slice.\n  var = nanvar(a, axis=axis, dtype=dtype, out=out, ddof=ddof,\n/tmp/ipykernel_60/294650540.py:24: RuntimeWarning: Mean of empty slice\n/usr/local/lib/python3.11/dist-packages/numpy/lib/nanfunctions.py:1879: RuntimeWarning: Degrees of freedom <= 0 for slice.\n  var = nanvar(a, axis=axis, dtype=dtype, out=out, ddof=ddof,\n/tmp/ipykernel_60/294650540.py:24: RuntimeWarning: Mean of empty slice\n/usr/local/lib/python3.11/dist-packages/numpy/lib/nanfunctions.py:1879: RuntimeWarning: Degrees of freedom <= 0 for slice.\n  var = nanvar(a, axis=axis, dtype=dtype, out=out, ddof=ddof,\n/tmp/ipykernel_60/294650540.py:24: RuntimeWarning: Mean of empty slice\n/usr/local/lib/python3.11/dist-packages/numpy/lib/nanfunctions.py:1879: RuntimeWarning: Degrees of freedom <= 0 for slice.\n  var = nanvar(a, axis=axis, dtype=dtype, out=out, ddof=ddof,\n/tmp/ipykernel_60/294650540.py:24: RuntimeWarning: Mean of empty slice\n/usr/local/lib/python3.11/dist-packages/numpy/lib/nanfunctions.py:1879: RuntimeWarning: Degrees of freedom <= 0 for slice.\n  var = nanvar(a, axis=axis, dtype=dtype, out=out, ddof=ddof,\n/tmp/ipykernel_60/294650540.py:24: RuntimeWarning: Mean of empty slice\n/usr/local/lib/python3.11/dist-packages/numpy/lib/nanfunctions.py:1879: RuntimeWarning: Degrees of freedom <= 0 for slice.\n  var = nanvar(a, axis=axis, dtype=dtype, out=out, ddof=ddof,\n"
          ]
        },
        {
          "output_type": "stream",
          "name": "stderr",
          "text": [
            "/tmp/ipykernel_60/294650540.py:24: RuntimeWarning: Mean of empty slice\n/usr/local/lib/python3.11/dist-packages/numpy/lib/nanfunctions.py:1879: RuntimeWarning: Degrees of freedom <= 0 for slice.\n  var = nanvar(a, axis=axis, dtype=dtype, out=out, ddof=ddof,\n/tmp/ipykernel_60/294650540.py:24: RuntimeWarning: Mean of empty slice\n/usr/local/lib/python3.11/dist-packages/numpy/lib/nanfunctions.py:1879: RuntimeWarning: Degrees of freedom <= 0 for slice.\n  var = nanvar(a, axis=axis, dtype=dtype, out=out, ddof=ddof,\n/tmp/ipykernel_60/294650540.py:24: RuntimeWarning: Mean of empty slice\n/usr/local/lib/python3.11/dist-packages/numpy/lib/nanfunctions.py:1879: RuntimeWarning: Degrees of freedom <= 0 for slice.\n  var = nanvar(a, axis=axis, dtype=dtype, out=out, ddof=ddof,\n/tmp/ipykernel_60/294650540.py:24: RuntimeWarning: Mean of empty slice\n/usr/local/lib/python3.11/dist-packages/numpy/lib/nanfunctions.py:1879: RuntimeWarning: Degrees of freedom <= 0 for slice.\n  var = nanvar(a, axis=axis, dtype=dtype, out=out, ddof=ddof,\n/tmp/ipykernel_60/294650540.py:24: RuntimeWarning: Mean of empty slice\n/usr/local/lib/python3.11/dist-packages/numpy/lib/nanfunctions.py:1879: RuntimeWarning: Degrees of freedom <= 0 for slice.\n  var = nanvar(a, axis=axis, dtype=dtype, out=out, ddof=ddof,\n"
          ]
        },
        {
          "output_type": "stream",
          "name": "stderr",
          "text": [
            "/tmp/ipykernel_60/294650540.py:24: RuntimeWarning: Mean of empty slice\n/usr/local/lib/python3.11/dist-packages/numpy/lib/nanfunctions.py:1879: RuntimeWarning: Degrees of freedom <= 0 for slice.\n  var = nanvar(a, axis=axis, dtype=dtype, out=out, ddof=ddof,\n/tmp/ipykernel_60/294650540.py:24: RuntimeWarning: Mean of empty slice\n/usr/local/lib/python3.11/dist-packages/numpy/lib/nanfunctions.py:1879: RuntimeWarning: Degrees of freedom <= 0 for slice.\n  var = nanvar(a, axis=axis, dtype=dtype, out=out, ddof=ddof,\n/tmp/ipykernel_60/294650540.py:24: RuntimeWarning: Mean of empty slice\n/usr/local/lib/python3.11/dist-packages/numpy/lib/nanfunctions.py:1879: RuntimeWarning: Degrees of freedom <= 0 for slice.\n  var = nanvar(a, axis=axis, dtype=dtype, out=out, ddof=ddof,\n/tmp/ipykernel_60/294650540.py:24: RuntimeWarning: Mean of empty slice\n/usr/local/lib/python3.11/dist-packages/numpy/lib/nanfunctions.py:1879: RuntimeWarning: Degrees of freedom <= 0 for slice.\n  var = nanvar(a, axis=axis, dtype=dtype, out=out, ddof=ddof,\n/tmp/ipykernel_60/294650540.py:24: RuntimeWarning: Mean of empty slice\n/usr/local/lib/python3.11/dist-packages/numpy/lib/nanfunctions.py:1879: RuntimeWarning: Degrees of freedom <= 0 for slice.\n  var = nanvar(a, axis=axis, dtype=dtype, out=out, ddof=ddof,\n/tmp/ipykernel_60/294650540.py:24: RuntimeWarning: Mean of empty slice\n/usr/local/lib/python3.11/dist-packages/numpy/lib/nanfunctions.py:1879: RuntimeWarning: Degrees of freedom <= 0 for slice.\n  var = nanvar(a, axis=axis, dtype=dtype, out=out, ddof=ddof,\n/tmp/ipykernel_60/294650540.py:24: RuntimeWarning: Mean of empty slice\n/usr/local/lib/python3.11/dist-packages/numpy/lib/nanfunctions.py:1879: RuntimeWarning: Degrees of freedom <= 0 for slice.\n  var = nanvar(a, axis=axis, dtype=dtype, out=out, ddof=ddof,\n/tmp/ipykernel_60/294650540.py:24: RuntimeWarning: Mean of empty slice\n/usr/local/lib/python3.11/dist-packages/numpy/lib/nanfunctions.py:1879: RuntimeWarning: Degrees of freedom <= 0 for slice.\n  var = nanvar(a, axis=axis, dtype=dtype, out=out, ddof=ddof,\n"
          ]
        },
        {
          "output_type": "stream",
          "name": "stderr",
          "text": [
            "/tmp/ipykernel_60/294650540.py:24: RuntimeWarning: Mean of empty slice\n/usr/local/lib/python3.11/dist-packages/numpy/lib/nanfunctions.py:1879: RuntimeWarning: Degrees of freedom <= 0 for slice.\n  var = nanvar(a, axis=axis, dtype=dtype, out=out, ddof=ddof,\n/tmp/ipykernel_60/294650540.py:24: RuntimeWarning: Mean of empty slice\n/usr/local/lib/python3.11/dist-packages/numpy/lib/nanfunctions.py:1879: RuntimeWarning: Degrees of freedom <= 0 for slice.\n  var = nanvar(a, axis=axis, dtype=dtype, out=out, ddof=ddof,\n/tmp/ipykernel_60/294650540.py:24: RuntimeWarning: Mean of empty slice\n/usr/local/lib/python3.11/dist-packages/numpy/lib/nanfunctions.py:1879: RuntimeWarning: Degrees of freedom <= 0 for slice.\n  var = nanvar(a, axis=axis, dtype=dtype, out=out, ddof=ddof,\n/tmp/ipykernel_60/294650540.py:24: RuntimeWarning: Mean of empty slice\n/usr/local/lib/python3.11/dist-packages/numpy/lib/nanfunctions.py:1879: RuntimeWarning: Degrees of freedom <= 0 for slice.\n  var = nanvar(a, axis=axis, dtype=dtype, out=out, ddof=ddof,\n/tmp/ipykernel_60/294650540.py:24: RuntimeWarning: Mean of empty slice\n/usr/local/lib/python3.11/dist-packages/numpy/lib/nanfunctions.py:1879: RuntimeWarning: Degrees of freedom <= 0 for slice.\n  var = nanvar(a, axis=axis, dtype=dtype, out=out, ddof=ddof,\n/tmp/ipykernel_60/294650540.py:24: RuntimeWarning: Mean of empty slice\n/usr/local/lib/python3.11/dist-packages/numpy/lib/nanfunctions.py:1879: RuntimeWarning: Degrees of freedom <= 0 for slice.\n  var = nanvar(a, axis=axis, dtype=dtype, out=out, ddof=ddof,\n/tmp/ipykernel_60/294650540.py:24: RuntimeWarning: Mean of empty slice\n/usr/local/lib/python3.11/dist-packages/numpy/lib/nanfunctions.py:1879: RuntimeWarning: Degrees of freedom <= 0 for slice.\n  var = nanvar(a, axis=axis, dtype=dtype, out=out, ddof=ddof,\n/tmp/ipykernel_60/294650540.py:24: RuntimeWarning: Mean of empty slice\n/usr/local/lib/python3.11/dist-packages/numpy/lib/nanfunctions.py:1879: RuntimeWarning: Degrees of freedom <= 0 for slice.\n  var = nanvar(a, axis=axis, dtype=dtype, out=out, ddof=ddof,\n/tmp/ipykernel_60/294650540.py:24: RuntimeWarning: Mean of empty slice\n/usr/local/lib/python3.11/dist-packages/numpy/lib/nanfunctions.py:1879: RuntimeWarning: Degrees of freedom <= 0 for slice.\n  var = nanvar(a, axis=axis, dtype=dtype, out=out, ddof=ddof,\n/tmp/ipykernel_60/294650540.py:24: RuntimeWarning: Mean of empty slice\n/tmp/ipykernel_60/294650540.py:24: RuntimeWarning: Mean of empty slice\n/usr/local/lib/python3.11/dist-packages/numpy/lib/nanfunctions.py:1879: RuntimeWarning: Degrees of freedom <= 0 for slice.\n  var = nanvar(a, axis=axis, dtype=dtype, out=out, ddof=ddof,\n/usr/local/lib/python3.11/dist-packages/numpy/lib/nanfunctions.py:1879: RuntimeWarning: Degrees of freedom <= 0 for slice.\n  var = nanvar(a, axis=axis, dtype=dtype, out=out, ddof=ddof,\n"
          ]
        },
        {
          "output_type": "stream",
          "name": "stderr",
          "text": [
            "/tmp/ipykernel_60/294650540.py:24: RuntimeWarning: Mean of empty slice\n/usr/local/lib/python3.11/dist-packages/numpy/lib/nanfunctions.py:1879: RuntimeWarning: Degrees of freedom <= 0 for slice.\n  var = nanvar(a, axis=axis, dtype=dtype, out=out, ddof=ddof,\n/tmp/ipykernel_60/294650540.py:24: RuntimeWarning: Mean of empty slice\n/usr/local/lib/python3.11/dist-packages/numpy/lib/nanfunctions.py:1879: RuntimeWarning: Degrees of freedom <= 0 for slice.\n  var = nanvar(a, axis=axis, dtype=dtype, out=out, ddof=ddof,\n/tmp/ipykernel_60/294650540.py:24: RuntimeWarning: Mean of empty slice\n/usr/local/lib/python3.11/dist-packages/numpy/lib/nanfunctions.py:1879: RuntimeWarning: Degrees of freedom <= 0 for slice.\n  var = nanvar(a, axis=axis, dtype=dtype, out=out, ddof=ddof,\n/tmp/ipykernel_60/294650540.py:24: RuntimeWarning: Mean of empty slice\n/usr/local/lib/python3.11/dist-packages/numpy/lib/nanfunctions.py:1879: RuntimeWarning: Degrees of freedom <= 0 for slice.\n  var = nanvar(a, axis=axis, dtype=dtype, out=out, ddof=ddof,\n/tmp/ipykernel_60/294650540.py:24: RuntimeWarning: Mean of empty slice\n/usr/local/lib/python3.11/dist-packages/numpy/lib/nanfunctions.py:1879: RuntimeWarning: Degrees of freedom <= 0 for slice.\n  var = nanvar(a, axis=axis, dtype=dtype, out=out, ddof=ddof,\n/tmp/ipykernel_60/294650540.py:24: RuntimeWarning: Mean of empty slice\n/usr/local/lib/python3.11/dist-packages/numpy/lib/nanfunctions.py:1879: RuntimeWarning: Degrees of freedom <= 0 for slice.\n  var = nanvar(a, axis=axis, dtype=dtype, out=out, ddof=ddof,\n/tmp/ipykernel_60/294650540.py:24: RuntimeWarning: Mean of empty slice\n/usr/local/lib/python3.11/dist-packages/numpy/lib/nanfunctions.py:1879: RuntimeWarning: Degrees of freedom <= 0 for slice.\n  var = nanvar(a, axis=axis, dtype=dtype, out=out, ddof=ddof,\n/tmp/ipykernel_60/294650540.py:24: RuntimeWarning: Mean of empty slice\n/usr/local/lib/python3.11/dist-packages/numpy/lib/nanfunctions.py:1879: RuntimeWarning: Degrees of freedom <= 0 for slice.\n  var = nanvar(a, axis=axis, dtype=dtype, out=out, ddof=ddof,\n/tmp/ipykernel_60/294650540.py:24: RuntimeWarning: Mean of empty slice\n/usr/local/lib/python3.11/dist-packages/numpy/lib/nanfunctions.py:1879: RuntimeWarning: Degrees of freedom <= 0 for slice.\n  var = nanvar(a, axis=axis, dtype=dtype, out=out, ddof=ddof,\n"
          ]
        },
        {
          "output_type": "stream",
          "name": "stderr",
          "text": [
            "/tmp/ipykernel_60/294650540.py:24: RuntimeWarning: Mean of empty slice\n/usr/local/lib/python3.11/dist-packages/numpy/lib/nanfunctions.py:1879: RuntimeWarning: Degrees of freedom <= 0 for slice.\n  var = nanvar(a, axis=axis, dtype=dtype, out=out, ddof=ddof,\n/tmp/ipykernel_60/294650540.py:24: RuntimeWarning: Mean of empty slice\n/usr/local/lib/python3.11/dist-packages/numpy/lib/nanfunctions.py:1879: RuntimeWarning: Degrees of freedom <= 0 for slice.\n  var = nanvar(a, axis=axis, dtype=dtype, out=out, ddof=ddof,\n/tmp/ipykernel_60/294650540.py:24: RuntimeWarning: Mean of empty slice\n/usr/local/lib/python3.11/dist-packages/numpy/lib/nanfunctions.py:1879: RuntimeWarning: Degrees of freedom <= 0 for slice.\n  var = nanvar(a, axis=axis, dtype=dtype, out=out, ddof=ddof,\n/tmp/ipykernel_60/294650540.py:24: RuntimeWarning: Mean of empty slice\n/usr/local/lib/python3.11/dist-packages/numpy/lib/nanfunctions.py:1879: RuntimeWarning: Degrees of freedom <= 0 for slice.\n  var = nanvar(a, axis=axis, dtype=dtype, out=out, ddof=ddof,\n/tmp/ipykernel_60/294650540.py:24: RuntimeWarning: Mean of empty slice\n/usr/local/lib/python3.11/dist-packages/numpy/lib/nanfunctions.py:1879: RuntimeWarning: Degrees of freedom <= 0 for slice.\n  var = nanvar(a, axis=axis, dtype=dtype, out=out, ddof=ddof,\n/tmp/ipykernel_60/294650540.py:24: RuntimeWarning: Mean of empty slice\n/usr/local/lib/python3.11/dist-packages/numpy/lib/nanfunctions.py:1879: RuntimeWarning: Degrees of freedom <= 0 for slice.\n  var = nanvar(a, axis=axis, dtype=dtype, out=out, ddof=ddof,\n/tmp/ipykernel_60/294650540.py:24: RuntimeWarning: Mean of empty slice\n/usr/local/lib/python3.11/dist-packages/numpy/lib/nanfunctions.py:1879: RuntimeWarning: Degrees of freedom <= 0 for slice.\n  var = nanvar(a, axis=axis, dtype=dtype, out=out, ddof=ddof,\n/tmp/ipykernel_60/294650540.py:24: RuntimeWarning: Mean of empty slice\n/usr/local/lib/python3.11/dist-packages/numpy/lib/nanfunctions.py:1879: RuntimeWarning: Degrees of freedom <= 0 for slice.\n  var = nanvar(a, axis=axis, dtype=dtype, out=out, ddof=ddof,\n/tmp/ipykernel_60/294650540.py:24: RuntimeWarning: Mean of empty slice\n/usr/local/lib/python3.11/dist-packages/numpy/lib/nanfunctions.py:1879: RuntimeWarning: Degrees of freedom <= 0 for slice.\n  var = nanvar(a, axis=axis, dtype=dtype, out=out, ddof=ddof,\n"
          ]
        },
        {
          "output_type": "stream",
          "name": "stderr",
          "text": [
            "/tmp/ipykernel_60/294650540.py:24: RuntimeWarning: Mean of empty slice\n/usr/local/lib/python3.11/dist-packages/numpy/lib/nanfunctions.py:1879: RuntimeWarning: Degrees of freedom <= 0 for slice.\n  var = nanvar(a, axis=axis, dtype=dtype, out=out, ddof=ddof,\n/tmp/ipykernel_60/294650540.py:24: RuntimeWarning: Mean of empty slice\n/usr/local/lib/python3.11/dist-packages/numpy/lib/nanfunctions.py:1879: RuntimeWarning: Degrees of freedom <= 0 for slice.\n  var = nanvar(a, axis=axis, dtype=dtype, out=out, ddof=ddof,\n/tmp/ipykernel_60/294650540.py:24: RuntimeWarning: Mean of empty slice\n/usr/local/lib/python3.11/dist-packages/numpy/lib/nanfunctions.py:1879: RuntimeWarning: Degrees of freedom <= 0 for slice.\n  var = nanvar(a, axis=axis, dtype=dtype, out=out, ddof=ddof,\n/tmp/ipykernel_60/294650540.py:24: RuntimeWarning: Mean of empty slice\n/usr/local/lib/python3.11/dist-packages/numpy/lib/nanfunctions.py:1879: RuntimeWarning: Degrees of freedom <= 0 for slice.\n  var = nanvar(a, axis=axis, dtype=dtype, out=out, ddof=ddof,\n/tmp/ipykernel_60/294650540.py:24: RuntimeWarning: Mean of empty slice\n/usr/local/lib/python3.11/dist-packages/numpy/lib/nanfunctions.py:1879: RuntimeWarning: Degrees of freedom <= 0 for slice.\n  var = nanvar(a, axis=axis, dtype=dtype, out=out, ddof=ddof,\n/tmp/ipykernel_60/294650540.py:24: RuntimeWarning: Mean of empty slice\n/usr/local/lib/python3.11/dist-packages/numpy/lib/nanfunctions.py:1879: RuntimeWarning: Degrees of freedom <= 0 for slice.\n  var = nanvar(a, axis=axis, dtype=dtype, out=out, ddof=ddof,\n"
          ]
        },
        {
          "output_type": "stream",
          "name": "stderr",
          "text": [
            "/tmp/ipykernel_60/294650540.py:24: RuntimeWarning: Mean of empty slice\n/tmp/ipykernel_60/294650540.py:24: RuntimeWarning: Mean of empty slice\n/usr/local/lib/python3.11/dist-packages/numpy/lib/nanfunctions.py:1879: RuntimeWarning: Degrees of freedom <= 0 for slice.\n  var = nanvar(a, axis=axis, dtype=dtype, out=out, ddof=ddof,\n/usr/local/lib/python3.11/dist-packages/numpy/lib/nanfunctions.py:1879: RuntimeWarning: Degrees of freedom <= 0 for slice.\n  var = nanvar(a, axis=axis, dtype=dtype, out=out, ddof=ddof,\n/tmp/ipykernel_60/294650540.py:24: RuntimeWarning: Mean of empty slice\n/usr/local/lib/python3.11/dist-packages/numpy/lib/nanfunctions.py:1879: RuntimeWarning: Degrees of freedom <= 0 for slice.\n  var = nanvar(a, axis=axis, dtype=dtype, out=out, ddof=ddof,\n/tmp/ipykernel_60/294650540.py:24: RuntimeWarning: Mean of empty slice\n/usr/local/lib/python3.11/dist-packages/numpy/lib/nanfunctions.py:1879: RuntimeWarning: Degrees of freedom <= 0 for slice.\n  var = nanvar(a, axis=axis, dtype=dtype, out=out, ddof=ddof,\n/tmp/ipykernel_60/294650540.py:24: RuntimeWarning: Mean of empty slice\n/usr/local/lib/python3.11/dist-packages/numpy/lib/nanfunctions.py:1879: RuntimeWarning: Degrees of freedom <= 0 for slice.\n  var = nanvar(a, axis=axis, dtype=dtype, out=out, ddof=ddof,\n/tmp/ipykernel_60/294650540.py:24: RuntimeWarning: Mean of empty slice\n/usr/local/lib/python3.11/dist-packages/numpy/lib/nanfunctions.py:1879: RuntimeWarning: Degrees of freedom <= 0 for slice.\n  var = nanvar(a, axis=axis, dtype=dtype, out=out, ddof=ddof,\n/tmp/ipykernel_60/294650540.py:24: RuntimeWarning: Mean of empty slice\n/usr/local/lib/python3.11/dist-packages/numpy/lib/nanfunctions.py:1879: RuntimeWarning: Degrees of freedom <= 0 for slice.\n  var = nanvar(a, axis=axis, dtype=dtype, out=out, ddof=ddof,\n/tmp/ipykernel_60/294650540.py:24: RuntimeWarning: Mean of empty slice\n/usr/local/lib/python3.11/dist-packages/numpy/lib/nanfunctions.py:1879: RuntimeWarning: Degrees of freedom <= 0 for slice.\n  var = nanvar(a, axis=axis, dtype=dtype, out=out, ddof=ddof,\n"
          ]
        },
        {
          "output_type": "stream",
          "name": "stderr",
          "text": [
            "/tmp/ipykernel_60/294650540.py:24: RuntimeWarning: Mean of empty slice\n/usr/local/lib/python3.11/dist-packages/numpy/lib/nanfunctions.py:1879: RuntimeWarning: Degrees of freedom <= 0 for slice.\n  var = nanvar(a, axis=axis, dtype=dtype, out=out, ddof=ddof,\n/tmp/ipykernel_60/294650540.py:24: RuntimeWarning: Mean of empty slice\n/usr/local/lib/python3.11/dist-packages/numpy/lib/nanfunctions.py:1879: RuntimeWarning: Degrees of freedom <= 0 for slice.\n  var = nanvar(a, axis=axis, dtype=dtype, out=out, ddof=ddof,\n/tmp/ipykernel_60/294650540.py:24: RuntimeWarning: Mean of empty slice\n/usr/local/lib/python3.11/dist-packages/numpy/lib/nanfunctions.py:1879: RuntimeWarning: Degrees of freedom <= 0 for slice.\n  var = nanvar(a, axis=axis, dtype=dtype, out=out, ddof=ddof,\n/tmp/ipykernel_60/294650540.py:24: RuntimeWarning: Mean of empty slice\n/usr/local/lib/python3.11/dist-packages/numpy/lib/nanfunctions.py:1879: RuntimeWarning: Degrees of freedom <= 0 for slice.\n  var = nanvar(a, axis=axis, dtype=dtype, out=out, ddof=ddof,\n/tmp/ipykernel_60/294650540.py:24: RuntimeWarning: Mean of empty slice\n/usr/local/lib/python3.11/dist-packages/numpy/lib/nanfunctions.py:1879: RuntimeWarning: Degrees of freedom <= 0 for slice.\n  var = nanvar(a, axis=axis, dtype=dtype, out=out, ddof=ddof,\n/tmp/ipykernel_60/294650540.py:24: RuntimeWarning: Mean of empty slice\n/usr/local/lib/python3.11/dist-packages/numpy/lib/nanfunctions.py:1879: RuntimeWarning: Degrees of freedom <= 0 for slice.\n  var = nanvar(a, axis=axis, dtype=dtype, out=out, ddof=ddof,\n/tmp/ipykernel_60/294650540.py:24: RuntimeWarning: Mean of empty slice\n/usr/local/lib/python3.11/dist-packages/numpy/lib/nanfunctions.py:1879: RuntimeWarning: Degrees of freedom <= 0 for slice.\n  var = nanvar(a, axis=axis, dtype=dtype, out=out, ddof=ddof,\n"
          ]
        },
        {
          "output_type": "stream",
          "name": "stderr",
          "text": [
            "/tmp/ipykernel_60/294650540.py:24: RuntimeWarning: Mean of empty slice\n/usr/local/lib/python3.11/dist-packages/numpy/lib/nanfunctions.py:1879: RuntimeWarning: Degrees of freedom <= 0 for slice.\n  var = nanvar(a, axis=axis, dtype=dtype, out=out, ddof=ddof,\n/tmp/ipykernel_60/294650540.py:24: RuntimeWarning: Mean of empty slice\n/usr/local/lib/python3.11/dist-packages/numpy/lib/nanfunctions.py:1879: RuntimeWarning: Degrees of freedom <= 0 for slice.\n  var = nanvar(a, axis=axis, dtype=dtype, out=out, ddof=ddof,\n/tmp/ipykernel_60/294650540.py:24: RuntimeWarning: Mean of empty slice\n/usr/local/lib/python3.11/dist-packages/numpy/lib/nanfunctions.py:1879: RuntimeWarning: Degrees of freedom <= 0 for slice.\n  var = nanvar(a, axis=axis, dtype=dtype, out=out, ddof=ddof,\n/tmp/ipykernel_60/294650540.py:24: RuntimeWarning: Mean of empty slice\n/usr/local/lib/python3.11/dist-packages/numpy/lib/nanfunctions.py:1879: RuntimeWarning: Degrees of freedom <= 0 for slice.\n  var = nanvar(a, axis=axis, dtype=dtype, out=out, ddof=ddof,\n/tmp/ipykernel_60/294650540.py:24: RuntimeWarning: Mean of empty slice\n/usr/local/lib/python3.11/dist-packages/numpy/lib/nanfunctions.py:1879: RuntimeWarning: Degrees of freedom <= 0 for slice.\n  var = nanvar(a, axis=axis, dtype=dtype, out=out, ddof=ddof,\n/tmp/ipykernel_60/294650540.py:24: RuntimeWarning: Mean of empty slice\n/usr/local/lib/python3.11/dist-packages/numpy/lib/nanfunctions.py:1879: RuntimeWarning: Degrees of freedom <= 0 for slice.\n  var = nanvar(a, axis=axis, dtype=dtype, out=out, ddof=ddof,\n/tmp/ipykernel_60/294650540.py:24: RuntimeWarning: Mean of empty slice\n/usr/local/lib/python3.11/dist-packages/numpy/lib/nanfunctions.py:1879: RuntimeWarning: Degrees of freedom <= 0 for slice.\n  var = nanvar(a, axis=axis, dtype=dtype, out=out, ddof=ddof,\n/tmp/ipykernel_60/294650540.py:24: RuntimeWarning: Mean of empty slice\n/usr/local/lib/python3.11/dist-packages/numpy/lib/nanfunctions.py:1879: RuntimeWarning: Degrees of freedom <= 0 for slice.\n  var = nanvar(a, axis=axis, dtype=dtype, out=out, ddof=ddof,\n/tmp/ipykernel_60/294650540.py:24: RuntimeWarning: Mean of empty slice\n/usr/local/lib/python3.11/dist-packages/numpy/lib/nanfunctions.py:1879: RuntimeWarning: Degrees of freedom <= 0 for slice.\n  var = nanvar(a, axis=axis, dtype=dtype, out=out, ddof=ddof,\n/tmp/ipykernel_60/294650540.py:24: RuntimeWarning: Mean of empty slice\n/usr/local/lib/python3.11/dist-packages/numpy/lib/nanfunctions.py:1879: RuntimeWarning: Degrees of freedom <= 0 for slice.\n  var = nanvar(a, axis=axis, dtype=dtype, out=out, ddof=ddof,\n/tmp/ipykernel_60/294650540.py:24: RuntimeWarning: Mean of empty slice\n/usr/local/lib/python3.11/dist-packages/numpy/lib/nanfunctions.py:1879: RuntimeWarning: Degrees of freedom <= 0 for slice.\n  var = nanvar(a, axis=axis, dtype=dtype, out=out, ddof=ddof,\n"
          ]
        },
        {
          "output_type": "stream",
          "name": "stderr",
          "text": [
            "/tmp/ipykernel_60/294650540.py:24: RuntimeWarning: Mean of empty slice\n/usr/local/lib/python3.11/dist-packages/numpy/lib/nanfunctions.py:1879: RuntimeWarning: Degrees of freedom <= 0 for slice.\n  var = nanvar(a, axis=axis, dtype=dtype, out=out, ddof=ddof,\n/tmp/ipykernel_60/294650540.py:24: RuntimeWarning: Mean of empty slice\n/usr/local/lib/python3.11/dist-packages/numpy/lib/nanfunctions.py:1879: RuntimeWarning: Degrees of freedom <= 0 for slice.\n  var = nanvar(a, axis=axis, dtype=dtype, out=out, ddof=ddof,\n/tmp/ipykernel_60/294650540.py:24: RuntimeWarning: Mean of empty slice\n/usr/local/lib/python3.11/dist-packages/numpy/lib/nanfunctions.py:1879: RuntimeWarning: Degrees of freedom <= 0 for slice.\n  var = nanvar(a, axis=axis, dtype=dtype, out=out, ddof=ddof,\n/tmp/ipykernel_60/294650540.py:24: RuntimeWarning: Mean of empty slice\n/usr/local/lib/python3.11/dist-packages/numpy/lib/nanfunctions.py:1879: RuntimeWarning: Degrees of freedom <= 0 for slice.\n  var = nanvar(a, axis=axis, dtype=dtype, out=out, ddof=ddof,\n"
          ]
        },
        {
          "output_type": "stream",
          "name": "stderr",
          "text": [
            "/tmp/ipykernel_60/294650540.py:24: RuntimeWarning: Mean of empty slice\n/usr/local/lib/python3.11/dist-packages/numpy/lib/nanfunctions.py:1879: RuntimeWarning: Degrees of freedom <= 0 for slice.\n  var = nanvar(a, axis=axis, dtype=dtype, out=out, ddof=ddof,\n/tmp/ipykernel_60/294650540.py:24: RuntimeWarning: Mean of empty slice\n/usr/local/lib/python3.11/dist-packages/numpy/lib/nanfunctions.py:1879: RuntimeWarning: Degrees of freedom <= 0 for slice.\n  var = nanvar(a, axis=axis, dtype=dtype, out=out, ddof=ddof,\n/tmp/ipykernel_60/294650540.py:24: RuntimeWarning: Mean of empty slice\n/usr/local/lib/python3.11/dist-packages/numpy/lib/nanfunctions.py:1879: RuntimeWarning: Degrees of freedom <= 0 for slice.\n  var = nanvar(a, axis=axis, dtype=dtype, out=out, ddof=ddof,\n/tmp/ipykernel_60/294650540.py:24: RuntimeWarning: Mean of empty slice\n/usr/local/lib/python3.11/dist-packages/numpy/lib/nanfunctions.py:1879: RuntimeWarning: Degrees of freedom <= 0 for slice.\n  var = nanvar(a, axis=axis, dtype=dtype, out=out, ddof=ddof,\n/tmp/ipykernel_60/294650540.py:24: RuntimeWarning: Mean of empty slice\n/usr/local/lib/python3.11/dist-packages/numpy/lib/nanfunctions.py:1879: RuntimeWarning: Degrees of freedom <= 0 for slice.\n  var = nanvar(a, axis=axis, dtype=dtype, out=out, ddof=ddof,\n/tmp/ipykernel_60/294650540.py:24: RuntimeWarning: Mean of empty slice\n/usr/local/lib/python3.11/dist-packages/numpy/lib/nanfunctions.py:1879: RuntimeWarning: Degrees of freedom <= 0 for slice.\n  var = nanvar(a, axis=axis, dtype=dtype, out=out, ddof=ddof,\n/tmp/ipykernel_60/294650540.py:24: RuntimeWarning: Mean of empty slice\n/tmp/ipykernel_60/294650540.py:24: RuntimeWarning: Mean of empty slice\n/usr/local/lib/python3.11/dist-packages/numpy/lib/nanfunctions.py:1879: RuntimeWarning: Degrees of freedom <= 0 for slice.\n  var = nanvar(a, axis=axis, dtype=dtype, out=out, ddof=ddof,\n/usr/local/lib/python3.11/dist-packages/numpy/lib/nanfunctions.py:1879: RuntimeWarning: Degrees of freedom <= 0 for slice.\n  var = nanvar(a, axis=axis, dtype=dtype, out=out, ddof=ddof,\n"
          ]
        },
        {
          "output_type": "stream",
          "name": "stderr",
          "text": [
            "/tmp/ipykernel_60/294650540.py:24: RuntimeWarning: Mean of empty slice\n/usr/local/lib/python3.11/dist-packages/numpy/lib/nanfunctions.py:1879: RuntimeWarning: Degrees of freedom <= 0 for slice.\n  var = nanvar(a, axis=axis, dtype=dtype, out=out, ddof=ddof,\n/tmp/ipykernel_60/294650540.py:24: RuntimeWarning: Mean of empty slice\n/usr/local/lib/python3.11/dist-packages/numpy/lib/nanfunctions.py:1879: RuntimeWarning: Degrees of freedom <= 0 for slice.\n  var = nanvar(a, axis=axis, dtype=dtype, out=out, ddof=ddof,\n/tmp/ipykernel_60/294650540.py:24: RuntimeWarning: Mean of empty slice\n/usr/local/lib/python3.11/dist-packages/numpy/lib/nanfunctions.py:1879: RuntimeWarning: Degrees of freedom <= 0 for slice.\n  var = nanvar(a, axis=axis, dtype=dtype, out=out, ddof=ddof,\n/tmp/ipykernel_60/294650540.py:24: RuntimeWarning: Mean of empty slice\n/usr/local/lib/python3.11/dist-packages/numpy/lib/nanfunctions.py:1879: RuntimeWarning: Degrees of freedom <= 0 for slice.\n  var = nanvar(a, axis=axis, dtype=dtype, out=out, ddof=ddof,\n/tmp/ipykernel_60/294650540.py:24: RuntimeWarning: Mean of empty slice\n/usr/local/lib/python3.11/dist-packages/numpy/lib/nanfunctions.py:1879: RuntimeWarning: Degrees of freedom <= 0 for slice.\n  var = nanvar(a, axis=axis, dtype=dtype, out=out, ddof=ddof,\n"
          ]
        },
        {
          "output_type": "stream",
          "name": "stderr",
          "text": [
            "/tmp/ipykernel_60/294650540.py:24: RuntimeWarning: Mean of empty slice\n/usr/local/lib/python3.11/dist-packages/numpy/lib/nanfunctions.py:1879: RuntimeWarning: Degrees of freedom <= 0 for slice.\n  var = nanvar(a, axis=axis, dtype=dtype, out=out, ddof=ddof,\n/tmp/ipykernel_60/294650540.py:24: RuntimeWarning: Mean of empty slice\n/usr/local/lib/python3.11/dist-packages/numpy/lib/nanfunctions.py:1879: RuntimeWarning: Degrees of freedom <= 0 for slice.\n  var = nanvar(a, axis=axis, dtype=dtype, out=out, ddof=ddof,\n/tmp/ipykernel_60/294650540.py:24: RuntimeWarning: Mean of empty slice\n/usr/local/lib/python3.11/dist-packages/numpy/lib/nanfunctions.py:1879: RuntimeWarning: Degrees of freedom <= 0 for slice.\n  var = nanvar(a, axis=axis, dtype=dtype, out=out, ddof=ddof,\n/tmp/ipykernel_60/294650540.py:24: RuntimeWarning: Mean of empty slice\n/usr/local/lib/python3.11/dist-packages/numpy/lib/nanfunctions.py:1879: RuntimeWarning: Degrees of freedom <= 0 for slice.\n  var = nanvar(a, axis=axis, dtype=dtype, out=out, ddof=ddof,\n/tmp/ipykernel_60/294650540.py:24: RuntimeWarning: Mean of empty slice\n/usr/local/lib/python3.11/dist-packages/numpy/lib/nanfunctions.py:1879: RuntimeWarning: Degrees of freedom <= 0 for slice.\n  var = nanvar(a, axis=axis, dtype=dtype, out=out, ddof=ddof,\n/tmp/ipykernel_60/294650540.py:24: RuntimeWarning: Mean of empty slice\n/usr/local/lib/python3.11/dist-packages/numpy/lib/nanfunctions.py:1879: RuntimeWarning: Degrees of freedom <= 0 for slice.\n  var = nanvar(a, axis=axis, dtype=dtype, out=out, ddof=ddof,\n"
          ]
        },
        {
          "output_type": "stream",
          "name": "stderr",
          "text": [
            "/tmp/ipykernel_60/294650540.py:24: RuntimeWarning: Mean of empty slice\n/usr/local/lib/python3.11/dist-packages/numpy/lib/nanfunctions.py:1879: RuntimeWarning: Degrees of freedom <= 0 for slice.\n  var = nanvar(a, axis=axis, dtype=dtype, out=out, ddof=ddof,\n/tmp/ipykernel_60/294650540.py:24: RuntimeWarning: Mean of empty slice\n/usr/local/lib/python3.11/dist-packages/numpy/lib/nanfunctions.py:1879: RuntimeWarning: Degrees of freedom <= 0 for slice.\n  var = nanvar(a, axis=axis, dtype=dtype, out=out, ddof=ddof,\n/tmp/ipykernel_60/294650540.py:24: RuntimeWarning: Mean of empty slice\n/usr/local/lib/python3.11/dist-packages/numpy/lib/nanfunctions.py:1879: RuntimeWarning: Degrees of freedom <= 0 for slice.\n  var = nanvar(a, axis=axis, dtype=dtype, out=out, ddof=ddof,\n/tmp/ipykernel_60/294650540.py:24: RuntimeWarning: Mean of empty slice\n/usr/local/lib/python3.11/dist-packages/numpy/lib/nanfunctions.py:1879: RuntimeWarning: Degrees of freedom <= 0 for slice.\n  var = nanvar(a, axis=axis, dtype=dtype, out=out, ddof=ddof,\n/tmp/ipykernel_60/294650540.py:24: RuntimeWarning: Mean of empty slice\n/usr/local/lib/python3.11/dist-packages/numpy/lib/nanfunctions.py:1879: RuntimeWarning: Degrees of freedom <= 0 for slice.\n  var = nanvar(a, axis=axis, dtype=dtype, out=out, ddof=ddof,\n"
          ]
        },
        {
          "output_type": "stream",
          "name": "stdout",
          "text": [
            "Wrote features_test_v2.parquet shape (444, 261) in 6.4s (n_jobs=18)\n"
          ]
        },
        {
          "output_type": "stream",
          "name": "stdout",
          "text": [
            "Wrote features_train_full.parquet (3987, 605)\nWrote features_test_full.parquet (444, 605)\n"
          ]
        }
      ]
    },
    {
      "id": "eb681122-e268-42e8-92f3-e153335a984f",
      "cell_type": "code",
      "metadata": {},
      "source": [
        "# Train XGBoost on full features (v1+v2), improved clustering (merge tiny clusters)\n",
        "import os, re, time\n",
        "import numpy as np\n",
        "import pandas as pd\n",
        "from sklearn.cluster import KMeans\n",
        "from sklearn.preprocessing import StandardScaler\n",
        "from sklearn.model_selection import GroupKFold\n",
        "from sklearn.metrics import mean_absolute_error\n",
        "import xgboost as xgb\n",
        "\n",
        "tr_path = 'features_train_full.parquet'\n",
        "te_path = 'features_test_full.parquet'\n",
        "assert os.path.exists(tr_path) and os.path.exists(te_path), 'Full features not found'\n",
        "train_df = pd.read_parquet(tr_path)\n",
        "test_df = pd.read_parquet(te_path)\n",
        "y_df = pd.read_csv('train.csv').astype({'segment_id': str})\n",
        "ss = pd.read_csv('sample_submission.csv').astype({'segment_id': str})\n",
        "train_df = train_df.merge(y_df, on='segment_id', how='left')\n",
        "\n",
        "# Align columns\n",
        "ignore_cols = {'segment_id', 'time_to_eruption'}\n",
        "tr_feats = [c for c in train_df.columns if c not in ignore_cols]\n",
        "te_feats = [c for c in test_df.columns if c != 'segment_id']\n",
        "all_feats = sorted(set(tr_feats).union(te_feats))\n",
        "for c in all_feats:\n",
        "    if c not in train_df.columns: train_df[c] = np.nan\n",
        "    if c not in test_df.columns: test_df[c] = np.nan\n",
        "\n",
        "# Build clustering features (missingness + simple spectral aggregates incl. Welch low band)\n",
        "def make_cluster_frame(df):\n",
        "    parts = []\n",
        "    # all_nan flags + basic missingness\n",
        "    all_nan_cols = [c for c in df.columns if re.fullmatch(r's\\d+_all_nan', c) is not None]\n",
        "    basic = [c for c in ['active_sensors','missing_frac'] if c in df.columns]\n",
        "    if all_nan_cols or basic:\n",
        "        parts.append(df[all_nan_cols + basic].astype(float))\n",
        "    # aggregate per-sensor spectral markers (from v1 and v2)\n",
        "    agg = pd.DataFrame(index=df.index)\n",
        "    def add_agg(prefix, cols):\n",
        "        if cols:\n",
        "            vals = df[cols].astype(float)\n",
        "            agg[f'{prefix}_mean'] = vals.mean(axis=1)\n",
        "            agg[f'{prefix}_std'] = vals.std(axis=1)\n",
        "    add_agg('spec_centroid', [c for c in df.columns if re.fullmatch(r's\\d+_spec_centroid', c)])\n",
        "    add_agg('dom_freq_bin', [c for c in df.columns if re.fullmatch(r's\\d+_dom_freq_bin', c)])\n",
        "    add_agg('band0', [c for c in df.columns if re.fullmatch(r's\\d+_band_0_energy', c)])\n",
        "    add_agg('welch_band0', [c for c in df.columns if re.fullmatch(r's\\d+_welch_band_0_loge', c)])\n",
        "    if not agg.empty:\n",
        "        parts.append(agg)\n",
        "    return pd.concat(parts, axis=1) if parts else pd.DataFrame(index=df.index)\n",
        "\n",
        "cluster_train = make_cluster_frame(train_df)\n",
        "cluster_test = make_cluster_frame(test_df)\n",
        "cluster_train = cluster_train.fillna(0.0)\n",
        "cluster_test = cluster_test.fillna(0.0)\n",
        "scaler = StandardScaler()\n",
        "Xc_tr = scaler.fit_transform(cluster_train) if cluster_train.shape[1] > 0 else np.zeros((len(train_df),1))\n",
        "Xc_te = scaler.transform(cluster_test) if cluster_test.shape[1] > 0 else np.zeros((len(test_df),1))\n",
        "\n",
        "# KMeans and merge tiny clusters (<100) into nearest\n",
        "k = 6\n",
        "km = KMeans(n_clusters=k, random_state=42, n_init=10)\n",
        "labels = km.fit_predict(Xc_tr) if Xc_tr.shape[1] > 0 else np.zeros(len(train_df), dtype=int)\n",
        "train_df['cluster'] = labels\n",
        "sizes = pd.Series(labels).value_counts().sort_index()\n",
        "print('Initial cluster sizes:', sizes.to_dict())\n",
        "tiny = sizes[sizes < 100].index.tolist()\n",
        "if len(tiny) > 0:\n",
        "    centers = km.cluster_centers_\n",
        "    for t in tiny:\n",
        "        # find nearest non-tiny cluster center\n",
        "        d = np.linalg.norm(centers - centers[t], axis=1)\n",
        "        d[t] = np.inf\n",
        "        # restrict to non-tiny\n",
        "        for tid in tiny:\n",
        "            d[tid] = np.inf\n",
        "        nearest = int(np.argmin(d)) if np.isfinite(d).any() else int(np.argmax(sizes.values))\n",
        "        train_df.loc[train_df['cluster']==t, 'cluster'] = nearest\n",
        "    sizes2 = train_df['cluster'].value_counts().sort_index()\n",
        "    print('Merged cluster sizes:', sizes2.to_dict())\n",
        "\n",
        "# Prepare matrices\n",
        "X = train_df[all_feats].astype(np.float32).values\n",
        "y = train_df['time_to_eruption'].astype(np.float32).values\n",
        "X_test = test_df[all_feats].astype(np.float32).values\n",
        "groups = train_df['cluster'].values\n",
        "\n",
        "# XGBoost params\n",
        "params = {\n",
        "    'tree_method': 'gpu_hist',\n",
        "    'predictor': 'gpu_predictor',\n",
        "    'objective': 'reg:absoluteerror',\n",
        "    'eval_metric': 'mae',\n",
        "    'max_depth': 8,\n",
        "    'learning_rate': 0.05,\n",
        "    'subsample': 0.8,\n",
        "    'colsample_bytree': 0.75,\n",
        "    'min_child_weight': 6,\n",
        "    'reg_alpha': 1.0,\n",
        "    'reg_lambda': 8.0,\n",
        "    'max_bin': 256,\n",
        "    'random_state': 42\n",
        "}\n",
        "\n",
        "gkf = GroupKFold(n_splits=5)\n",
        "oof = np.zeros(len(train_df), dtype=np.float32)\n",
        "test_preds = []\n",
        "fold_maes = []\n",
        "n_estimators = 5000\n",
        "esr = 200\n",
        "\n",
        "for fold, (tr_idx, va_idx) in enumerate(gkf.split(X, y, groups=groups), 1):\n",
        "    t0 = time.time()\n",
        "    dtr = xgb.DMatrix(X[tr_idx], label=y[tr_idx], nthread=-1)\n",
        "    dva = xgb.DMatrix(X[va_idx], label=y[va_idx], nthread=-1)\n",
        "    dte = xgb.DMatrix(X_test, nthread=-1)\n",
        "    model = xgb.train(params, dtr, num_boost_round=n_estimators, evals=[(dtr,'train'),(dva,'valid')], early_stopping_rounds=esr, verbose_eval=200)\n",
        "    oof[va_idx] = model.predict(dva, iteration_range=(0, model.best_iteration+1))\n",
        "    test_preds.append(model.predict(dte, iteration_range=(0, model.best_iteration+1)))\n",
        "    mae = mean_absolute_error(y[va_idx], oof[va_idx])\n",
        "    fold_maes.append(mae)\n",
        "    print(f'Fold {fold} MAE: {mae:.2f} | best_iter {model.best_iteration} | {time.time()-t0:.1f}s', flush=True)\n",
        "\n",
        "oof_mae = mean_absolute_error(y, oof)\n",
        "print('OOF MAE(full features):', oof_mae, 'folds:', [round(m,2) for m in fold_maes])\n",
        "\n",
        "# Test prediction\n",
        "pred = np.mean(np.vstack(test_preds), axis=0).astype(np.float32)\n",
        "clip_max = float(y.max()) * 1.05\n",
        "pred = np.clip(pred, 0.0, clip_max)\n",
        "bias = float(np.median(y - np.clip(oof, 0.0, clip_max)))\n",
        "pred_bc = np.clip(pred + bias, 0.0, clip_max)\n",
        "\n",
        "sub = ss.copy()\n",
        "sub['time_to_eruption'] = pred_bc.astype(np.int64)\n",
        "sub.to_csv('submission.csv', index=False)\n",
        "print('Saved submission.csv with full features. Shape:', sub.shape)"
      ],
      "execution_count": 7,
      "outputs": [
        {
          "output_type": "stream",
          "name": "stdout",
          "text": [
            "Initial cluster sizes: {0: 434, 1: 1065, 2: 1421, 3: 922, 4: 123, 5: 22}\nMerged cluster sizes: {0: 434, 1: 1065, 2: 1421, 3: 944, 4: 123}\n[0]\ttrain-mae:11242151.21863\tvalid-mae:11447252.49120\n"
          ]
        },
        {
          "output_type": "stream",
          "name": "stdout",
          "text": [
            "[200]\ttrain-mae:911666.45982\tvalid-mae:8299827.33361\n"
          ]
        },
        {
          "output_type": "stream",
          "name": "stdout",
          "text": [
            "[400]\ttrain-mae:590160.82834\tvalid-mae:8064907.51060\n"
          ]
        },
        {
          "output_type": "stream",
          "name": "stdout",
          "text": [
            "[600]\ttrain-mae:491018.01585\tvalid-mae:7983024.41692\n"
          ]
        },
        {
          "output_type": "stream",
          "name": "stdout",
          "text": [
            "[800]\ttrain-mae:432194.03156\tvalid-mae:7948406.08251\n"
          ]
        },
        {
          "output_type": "stream",
          "name": "stdout",
          "text": [
            "[1000]\ttrain-mae:394696.21451\tvalid-mae:7903320.64506\n"
          ]
        },
        {
          "output_type": "stream",
          "name": "stdout",
          "text": [
            "[1200]\ttrain-mae:363485.13161\tvalid-mae:7872770.51319\n"
          ]
        },
        {
          "output_type": "stream",
          "name": "stdout",
          "text": [
            "[1400]\ttrain-mae:338733.98618\tvalid-mae:7841618.14928\n"
          ]
        },
        {
          "output_type": "stream",
          "name": "stdout",
          "text": [
            "[1600]\ttrain-mae:321039.92438\tvalid-mae:7825997.74235\n"
          ]
        },
        {
          "output_type": "stream",
          "name": "stdout",
          "text": [
            "[1800]\ttrain-mae:302925.38798\tvalid-mae:7801561.53114\n"
          ]
        },
        {
          "output_type": "stream",
          "name": "stdout",
          "text": [
            "[2000]\ttrain-mae:287669.95087\tvalid-mae:7782291.77322\n"
          ]
        },
        {
          "output_type": "stream",
          "name": "stdout",
          "text": [
            "[2200]\ttrain-mae:274518.93688\tvalid-mae:7752883.00774\n"
          ]
        },
        {
          "output_type": "stream",
          "name": "stdout",
          "text": [
            "[2400]\ttrain-mae:263118.16475\tvalid-mae:7741866.35081\n"
          ]
        },
        {
          "output_type": "stream",
          "name": "stdout",
          "text": [
            "[2600]\ttrain-mae:253692.36364\tvalid-mae:7720380.95540\n"
          ]
        },
        {
          "output_type": "stream",
          "name": "stdout",
          "text": [
            "[2800]\ttrain-mae:246335.52992\tvalid-mae:7694515.58102\n"
          ]
        },
        {
          "output_type": "stream",
          "name": "stdout",
          "text": [
            "[3000]\ttrain-mae:240164.50224\tvalid-mae:7688808.73285\n"
          ]
        },
        {
          "output_type": "stream",
          "name": "stdout",
          "text": [
            "[3200]\ttrain-mae:232225.73745\tvalid-mae:7660973.69238\n"
          ]
        },
        {
          "output_type": "stream",
          "name": "stdout",
          "text": [
            "[3400]\ttrain-mae:225134.27530\tvalid-mae:7658638.47308\n"
          ]
        },
        {
          "output_type": "stream",
          "name": "stdout",
          "text": [
            "[3600]\ttrain-mae:220419.18166\tvalid-mae:7652971.42963\n"
          ]
        },
        {
          "output_type": "stream",
          "name": "stdout",
          "text": [
            "[3800]\ttrain-mae:213086.80832\tvalid-mae:7643556.27982\n"
          ]
        },
        {
          "output_type": "stream",
          "name": "stdout",
          "text": [
            "[4000]\ttrain-mae:207799.09642\tvalid-mae:7632726.21807\n"
          ]
        },
        {
          "output_type": "stream",
          "name": "stdout",
          "text": [
            "[4200]\ttrain-mae:201891.15011\tvalid-mae:7625964.50721\n"
          ]
        },
        {
          "output_type": "stream",
          "name": "stdout",
          "text": [
            "[4400]\ttrain-mae:196693.70115\tvalid-mae:7611385.89682\n"
          ]
        },
        {
          "output_type": "stream",
          "name": "stdout",
          "text": [
            "[4600]\ttrain-mae:193378.92361\tvalid-mae:7611578.62315\n"
          ]
        },
        {
          "output_type": "stream",
          "name": "stdout",
          "text": [
            "[4800]\ttrain-mae:189721.40313\tvalid-mae:7608895.18200\n"
          ]
        },
        {
          "output_type": "stream",
          "name": "stdout",
          "text": [
            "[4999]\ttrain-mae:186418.29830\tvalid-mae:7597578.55885\n"
          ]
        },
        {
          "output_type": "stream",
          "name": "stdout",
          "text": [
            "Fold 1 MAE: 7597515.00 | best_iter 4993 | 112.6s\n"
          ]
        },
        {
          "output_type": "stream",
          "name": "stdout",
          "text": [
            "[0]\ttrain-mae:10790746.96099\tvalid-mae:12511249.65352\n"
          ]
        },
        {
          "output_type": "stream",
          "name": "stdout",
          "text": [
            "[200]\ttrain-mae:809783.74835\tvalid-mae:8160182.32606\n"
          ]
        },
        {
          "output_type": "stream",
          "name": "stdout",
          "text": [
            "[400]\ttrain-mae:545753.66144\tvalid-mae:7989201.93545\n"
          ]
        },
        {
          "output_type": "stream",
          "name": "stdout",
          "text": [
            "[600]\ttrain-mae:466647.76113\tvalid-mae:7956235.13263\n"
          ]
        },
        {
          "output_type": "stream",
          "name": "stdout",
          "text": [
            "[800]\ttrain-mae:419810.51276\tvalid-mae:7925385.83732\n"
          ]
        },
        {
          "output_type": "stream",
          "name": "stdout",
          "text": [
            "[1000]\ttrain-mae:388924.14141\tvalid-mae:7893093.56901\n"
          ]
        },
        {
          "output_type": "stream",
          "name": "stdout",
          "text": [
            "[1200]\ttrain-mae:368886.33161\tvalid-mae:7880737.99519\n"
          ]
        },
        {
          "output_type": "stream",
          "name": "stdout",
          "text": [
            "[1400]\ttrain-mae:349126.53296\tvalid-mae:7868288.09014\n"
          ]
        },
        {
          "output_type": "stream",
          "name": "stdout",
          "text": [
            "[1600]\ttrain-mae:331506.11844\tvalid-mae:7852237.49155\n"
          ]
        },
        {
          "output_type": "stream",
          "name": "stdout",
          "text": [
            "[1800]\ttrain-mae:316776.14800\tvalid-mae:7844426.39695\n"
          ]
        },
        {
          "output_type": "stream",
          "name": "stdout",
          "text": [
            "[2000]\ttrain-mae:304798.65818\tvalid-mae:7837941.21256\n"
          ]
        },
        {
          "output_type": "stream",
          "name": "stdout",
          "text": [
            "[2200]\ttrain-mae:293123.75426\tvalid-mae:7829835.22019\n"
          ]
        },
        {
          "output_type": "stream",
          "name": "stdout",
          "text": [
            "[2400]\ttrain-mae:284267.14880\tvalid-mae:7824629.58721\n"
          ]
        },
        {
          "output_type": "stream",
          "name": "stdout",
          "text": [
            "[2600]\ttrain-mae:273513.69857\tvalid-mae:7819493.66491\n"
          ]
        },
        {
          "output_type": "stream",
          "name": "stdout",
          "text": [
            "[2800]\ttrain-mae:265054.13237\tvalid-mae:7805982.89261\n"
          ]
        },
        {
          "output_type": "stream",
          "name": "stdout",
          "text": [
            "[3000]\ttrain-mae:257349.28252\tvalid-mae:7803609.94085\n"
          ]
        },
        {
          "output_type": "stream",
          "name": "stdout",
          "text": [
            "[3200]\ttrain-mae:249353.35416\tvalid-mae:7802795.84754\n"
          ]
        },
        {
          "output_type": "stream",
          "name": "stdout",
          "text": [
            "[3400]\ttrain-mae:243451.16563\tvalid-mae:7799978.76796\n"
          ]
        },
        {
          "output_type": "stream",
          "name": "stdout",
          "text": [
            "[3600]\ttrain-mae:237024.17030\tvalid-mae:7800694.54507\n"
          ]
        },
        {
          "output_type": "stream",
          "name": "stdout",
          "text": [
            "[3648]\ttrain-mae:235672.33945\tvalid-mae:7800516.14331\n"
          ]
        },
        {
          "output_type": "stream",
          "name": "stdout",
          "text": [
            "Fold 2 MAE: 7798913.00 | best_iter 3449 | 83.1s\n"
          ]
        },
        {
          "output_type": "stream",
          "name": "stdout",
          "text": [
            "[0]\ttrain-mae:11145195.92705\tvalid-mae:11923828.39407\n"
          ]
        },
        {
          "output_type": "stream",
          "name": "stdout",
          "text": [
            "[200]\ttrain-mae:883145.12329\tvalid-mae:11418934.23385\n"
          ]
        },
        {
          "output_type": "stream",
          "name": "stdout",
          "text": [
            "[400]\ttrain-mae:587338.38631\tvalid-mae:11359470.17744\n"
          ]
        },
        {
          "output_type": "stream",
          "name": "stdout",
          "text": [
            "[600]\ttrain-mae:463954.57829\tvalid-mae:11346534.55482\n"
          ]
        },
        {
          "output_type": "stream",
          "name": "stdout",
          "text": [
            "[800]\ttrain-mae:402501.44783\tvalid-mae:11298725.47908\n"
          ]
        },
        {
          "output_type": "stream",
          "name": "stdout",
          "text": [
            "[1000]\ttrain-mae:357108.19985\tvalid-mae:11272407.28655\n"
          ]
        },
        {
          "output_type": "stream",
          "name": "stdout",
          "text": [
            "[1200]\ttrain-mae:327960.03468\tvalid-mae:11270137.77039\n"
          ]
        },
        {
          "output_type": "stream",
          "name": "stdout",
          "text": [
            "[1400]\ttrain-mae:311382.98019\tvalid-mae:11256899.57097\n"
          ]
        },
        {
          "output_type": "stream",
          "name": "stdout",
          "text": [
            "[1600]\ttrain-mae:299102.78098\tvalid-mae:11251735.52145\n"
          ]
        },
        {
          "output_type": "stream",
          "name": "stdout",
          "text": [
            "[1800]\ttrain-mae:284292.46125\tvalid-mae:11250020.35646\n"
          ]
        },
        {
          "output_type": "stream",
          "name": "stdout",
          "text": [
            "[1972]\ttrain-mae:274500.80480\tvalid-mae:11248747.19094\n"
          ]
        },
        {
          "output_type": "stream",
          "name": "stdout",
          "text": [
            "Fold 3 MAE: 11245941.00 | best_iter 1773 | 47.2s\n"
          ]
        },
        {
          "output_type": "stream",
          "name": "stdout",
          "text": [
            "[0]\ttrain-mae:11086648.03377\tvalid-mae:12080858.48387\n"
          ]
        },
        {
          "output_type": "stream",
          "name": "stdout",
          "text": [
            "[200]\ttrain-mae:937077.11643\tvalid-mae:13269044.64516\n"
          ]
        },
        {
          "output_type": "stream",
          "name": "stdout",
          "text": [
            "[206]\ttrain-mae:913851.49584\tvalid-mae:13290053.00922\n"
          ]
        },
        {
          "output_type": "stream",
          "name": "stdout",
          "text": [
            "Fold 4 MAE: 11981876.00 | best_iter 6 | 5.1s\n"
          ]
        },
        {
          "output_type": "stream",
          "name": "stdout",
          "text": [
            "[0]\ttrain-mae:11241264.55435\tvalid-mae:7669970.55285\n"
          ]
        },
        {
          "output_type": "stream",
          "name": "stdout",
          "text": [
            "[200]\ttrain-mae:970306.04678\tvalid-mae:11609919.31707\n"
          ]
        },
        {
          "output_type": "stream",
          "name": "stdout",
          "text": [
            "[207]\ttrain-mae:949546.20540\tvalid-mae:11603845.39837\n"
          ]
        },
        {
          "output_type": "stream",
          "name": "stdout",
          "text": [
            "Fold 5 MAE: 7581469.50 | best_iter 7 | 5.0s\n"
          ]
        },
        {
          "output_type": "stream",
          "name": "stdout",
          "text": [
            "OOF MAE(full features): 8991907.0 folds: [7597515.0, 7798913.5, 11245940.0, 11981876.0, 7581469.5]\nSaved submission.csv with full features. Shape: (444, 2)\n"
          ]
        }
      ]
    },
    {
      "id": "74b4c23b-1365-486f-bb33-518103114c73",
      "cell_type": "code",
      "metadata": {},
      "source": [
        "# Stable CV: StratifiedKFold on y-bins + XGBoost (more regularized) using full features\n",
        "import numpy as np, pandas as pd, time\n",
        "from sklearn.model_selection import StratifiedKFold\n",
        "from sklearn.metrics import mean_absolute_error\n",
        "import xgboost as xgb\n",
        "\n",
        "tr_path, te_path = 'features_train_full.parquet', 'features_test_full.parquet'\n",
        "train_df = pd.read_parquet(tr_path)\n",
        "test_df = pd.read_parquet(te_path)\n",
        "y_df = pd.read_csv('train.csv').astype({'segment_id': str})\n",
        "ss = pd.read_csv('sample_submission.csv').astype({'segment_id': str})\n",
        "train_df = train_df.merge(y_df, on='segment_id', how='left')\n",
        "\n",
        "# Align columns\n",
        "ignore_cols = {'segment_id', 'time_to_eruption'}\n",
        "tr_feats = [c for c in train_df.columns if c not in ignore_cols]\n",
        "te_feats = [c for c in test_df.columns if c != 'segment_id']\n",
        "all_feats = sorted(set(tr_feats).union(te_feats))\n",
        "for c in all_feats:\n",
        "    if c not in train_df.columns: train_df[c] = np.nan\n",
        "    if c not in test_df.columns: test_df[c] = np.nan\n",
        "\n",
        "X = train_df[all_feats].astype(np.float32).values\n",
        "y = train_df['time_to_eruption'].astype(np.float32).values\n",
        "X_test = test_df[all_feats].astype(np.float32).values\n",
        "\n",
        "# Create y bins for stratification\n",
        "bins = pd.qcut(y, q=10, labels=False, duplicates='drop')\n",
        "\n",
        "skf = StratifiedKFold(n_splits=5, shuffle=True, random_state=42)\n",
        "oof = np.zeros(len(train_df), dtype=np.float32)\n",
        "test_preds = []\n",
        "fold_maes = []\n",
        "\n",
        "params = {\n",
        "    'tree_method': 'gpu_hist',\n",
        "    'predictor': 'gpu_predictor',\n",
        "    'objective': 'reg:squarederror',  # more stable; still eval MAE\n",
        "    'eval_metric': 'mae',\n",
        "    'max_depth': 6,\n",
        "    'learning_rate': 0.03,\n",
        "    'subsample': 0.75,\n",
        "    'colsample_bytree': 0.7,\n",
        "    'min_child_weight': 10,\n",
        "    'reg_alpha': 2.0,\n",
        "    'reg_lambda': 12.0,\n",
        "    'gamma': 0.2,\n",
        "    'max_bin': 256,\n",
        "    'random_state': 42\n",
        "}\n",
        "\n",
        "n_estimators = 8000\n",
        "esr = 200\n",
        "\n",
        "for fold, (tr_idx, va_idx) in enumerate(skf.split(X, bins), 1):\n",
        "    t0 = time.time()\n",
        "    y_tr, y_va = y[tr_idx], y[va_idx]\n",
        "    print(f'Fold {fold} stats: y_tr mean {y_tr.mean():.1f} std {y_tr.std():.1f} | y_va mean {y_va.mean():.1f} std {y_va.std():.1f}', flush=True)\n",
        "    dtr = xgb.DMatrix(X[tr_idx], label=y_tr, nthread=-1)\n",
        "    dva = xgb.DMatrix(X[va_idx], label=y_va, nthread=-1)\n",
        "    dte = xgb.DMatrix(X_test, nthread=-1)\n",
        "    model = xgb.train(params, dtr, num_boost_round=n_estimators, evals=[(dtr,'train'),(dva,'valid')], early_stopping_rounds=esr, verbose_eval=250)\n",
        "    oof[va_idx] = model.predict(dva, iteration_range=(0, model.best_iteration+1))\n",
        "    test_preds.append(model.predict(dte, iteration_range=(0, model.best_iteration+1)))\n",
        "    mae = mean_absolute_error(y_va, oof[va_idx])\n",
        "    fold_maes.append(mae)\n",
        "    print(f'Fold {fold} MAE: {mae:.2f} | best_iter {model.best_iteration} | {time.time()-t0:.1f}s', flush=True)\n",
        "\n",
        "oof_mae = mean_absolute_error(y, oof)\n",
        "clip_max = float(y.max()) * 1.05\n",
        "oof_clip = np.clip(oof, 0.0, clip_max)\n",
        "oof_mae_clip = mean_absolute_error(y, oof_clip)\n",
        "print('OOF MAE (StratKFold):', oof_mae, 'clipped:', oof_mae_clip, 'folds:', [round(m,2) for m in fold_maes])\n",
        "\n",
        "pred = np.mean(np.vstack(test_preds), axis=0).astype(np.float32)\n",
        "pred = np.clip(pred, 0.0, clip_max)\n",
        "bias = float(np.median(y - oof_clip))\n",
        "pred_bc = np.clip(pred + bias, 0.0, clip_max)\n",
        "\n",
        "sub = ss.copy()\n",
        "sub['time_to_eruption'] = pred_bc.astype(np.int64)\n",
        "sub.to_csv('submission.csv', index=False)\n",
        "print('Saved submission.csv (StratKFold). Shape:', sub.shape)"
      ],
      "execution_count": null,
      "outputs": [
        {
          "output_type": "stream",
          "name": "stdout",
          "text": [
            "Fold 1 stats: y_tr mean 22681942.0 std 13506437.0 | y_va mean 22651894.0 std 13416435.0\n"
          ]
        },
        {
          "output_type": "stream",
          "name": "stdout",
          "text": [
            "[0]\ttrain-mae:11428520.63217\tvalid-mae:11370063.03008\n"
          ]
        },
        {
          "output_type": "stream",
          "name": "stdout",
          "text": [
            "[250]\ttrain-mae:1256824.35677\tvalid-mae:2374721.42513\n"
          ]
        },
        {
          "output_type": "stream",
          "name": "stdout",
          "text": [
            "[500]\ttrain-mae:580333.78866\tvalid-mae:2129276.58850\n"
          ]
        }
      ]
    }
  ],
  "metadata": {
    "kernelspec": {
      "display_name": "Python 3",
      "language": "python",
      "name": "python3"
    },
    "language_info": {
      "name": "python",
      "version": "3.11.0rc1"
    }
  },
  "nbformat": 4,
  "nbformat_minor": 5
}