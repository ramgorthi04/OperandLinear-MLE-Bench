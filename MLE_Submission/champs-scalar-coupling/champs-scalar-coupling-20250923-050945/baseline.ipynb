{
  "cells": [
    {
      "id": "7189c82b-3971-466b-aa80-a9df53223ab8",
      "cell_type": "markdown",
      "metadata": {},
      "source": [
        "# CHAMPS Scalar Coupling \u2014 Medal Plan\n",
        "\n",
        "Objective: WIN A MEDAL via rigorous CV, strong feature engineering, and fast iteration.\n",
        "\n",
        "Plan:\n",
        "- Environment\n",
        "  - Verify GPU (nvidia-smi). If unavailable, exit.\n",
        "  - Avoid LightGBM GPU; prefer XGBoost/CatBoost GPU.\n",
        "\n",
        "- Data & Validation\n",
        "  - Load train/test, structures.csv, and auxiliary tables.\n",
        "  - Target: scalar_coupling_constant. Groups: type (1JHC, 2JHH, etc.).\n",
        "  - CV: GroupKFold by molecule_name to avoid leakage, stratify per type.\n",
        "  - Metric: log-MAE computed per type then averaged (LMAE). Implement exact metric.\n",
        "\n",
        "- Baseline v0\n",
        "  - Simple features without heavy physics:\n",
        "    - Atom-level joins from structures: atom types for atom_index_0/1, coordinates, distances (d, dx, dy, dz), angle proxies via nearest neighbors.\n",
        "    - Count features per molecule, atom type counts.\n",
        "    - Bond length stats by type.\n",
        "  - Model: XGBoost (gpu_hist) or CatBoost with type-wise models (one per coupling type).\n",
        "  - 3-5 fold CV with logging; OOF saved; speed-first.\n",
        "\n",
        "- Feature Engineering v1\n",
        "  - Add neighbor-based features (kNN distances for each atom within same molecule).\n",
        "  - Per-molecule potential_energy, dipole_moments summary joins.\n",
        "  - Magnetic shielding, Mulliken charges: per-atom join (requires molecule+atom_index mapping) with aggregations for the two atoms and their neighborhood.\n",
        "\n",
        "- Feature Engineering v2\n",
        "  - Path-based graph features: shortest path length between atoms (topology), same as order of coupling (1J/2J/3J/etc.).\n",
        "  - Angles: angle at atom0-\u2026-atom1 via nearest path atoms; dihedral approximations.\n",
        "\n",
        "- Modeling\n",
        "  - Train separate models per type (stronger).\n",
        "  - Try XGB + CatBoost blend; seed averaging.\n",
        "  - Cache datasets per type to feather/parquet.\n",
        "\n",
        "- Error Analysis\n",
        "  - OOF LMAE overall and by type; focus on worst types.\n",
        "  - Bucket by distance bins and path length.\n",
        "\n",
        "- Submission\n",
        "  - Predict test per type, concat, ensure id alignment, write submission.csv.\n",
        "\n",
        "Checkpoints (request expert review):\n",
        "1) After this plan\n",
        "2) After baseline data pipeline + CV metric implementation\n",
        "3) After baseline model OOF\n",
        "4) After FE v1 OOF\n",
        "5) After ensembling\n",
        "\n",
        "Time budget:\n",
        "- 1h baseline pipeline + CV\n",
        "- 2h baseline model per type\n",
        "- 6-8h FE v1 + retrain\n",
        "- 4h FE v2 selective\n",
        "- 2h ensembling/tuning\n",
        "- Remainder for iterations + submissions"
      ],
      "execution_count": null,
      "outputs": []
    },
    {
      "id": "6450ec85-e011-4d74-9104-65dfb3447d53",
      "cell_type": "code",
      "metadata": {},
      "source": [
        "# Environment check: GPU + deps\n",
        "import sys, subprocess, time, importlib, os\n",
        "\n",
        "def run(cmd):\n",
        "    print(f\"$ {' '.join(cmd)}\", flush=True)\n",
        "    p = subprocess.run(cmd, capture_output=True, text=True)\n",
        "    print(p.stdout, flush=True)\n",
        "    if p.stderr:\n",
        "        print(p.stderr, flush=True)\n",
        "    return p.returncode\n",
        "\n",
        "print('== NVIDIA SMI ==', flush=True)\n",
        "run(['bash','-lc','nvidia-smi || true'])\n",
        "\n",
        "def ensure(pkg, pip_name=None, ver=None):\n",
        "    name = pip_name or pkg\n",
        "    try:\n",
        "        importlib.import_module(pkg)\n",
        "        print(f\"OK: {pkg} already installed\")\n",
        "    except Exception:\n",
        "        args = [sys.executable, '-m', 'pip', 'install']\n",
        "        if ver:\n",
        "            args.append(f\"{name}=={ver}\")\n",
        "        else:\n",
        "            args.append(name)\n",
        "        print('Installing', ' '.join(args), flush=True)\n",
        "        subprocess.check_call(args)\n",
        "        importlib.invalidate_caches()\n",
        "        importlib.import_module(pkg)\n",
        "        print(f\"OK: {pkg} installed\")\n",
        "\n",
        "# Core deps (avoid torch; use XGBoost/CatBoost GPU)\n",
        "ensure('pandas')\n",
        "ensure('numpy')\n",
        "ensure('sklearn', pip_name='scikit-learn')\n",
        "ensure('xgboost', ver='2.0.3')\n",
        "ensure('catboost', ver='1.2.5')\n",
        "\n",
        "import pandas as pd, numpy as np\n",
        "import sklearn\n",
        "import xgboost as xgb\n",
        "from catboost import CatBoostRegressor\n",
        "\n",
        "print('Versions:',\n",
        "      'pandas', pd.__version__,\n",
        "      '| numpy', np.__version__,\n",
        "      '| sklearn', sklearn.__version__,\n",
        "      '| xgboost', xgb.__version__, flush=True)\n",
        "\n",
        "print('GPU env vars:', {k:v for k,v in os.environ.items() if k.startswith('CUDA') or k.startswith('NVIDIA')})\n",
        "print('Env check complete.')"
      ],
      "execution_count": 1,
      "outputs": [
        {
          "output_type": "stream",
          "name": "stdout",
          "text": [
            "== NVIDIA SMI ==\n"
          ]
        },
        {
          "output_type": "stream",
          "name": "stdout",
          "text": [
            "$ bash -lc nvidia-smi || true\n"
          ]
        },
        {
          "output_type": "stream",
          "name": "stdout",
          "text": [
            "Failed to initialize NVML: Unknown Error\n\n"
          ]
        },
        {
          "output_type": "stream",
          "name": "stdout",
          "text": [
            "OK: pandas already installed\nOK: numpy already installed\n"
          ]
        },
        {
          "output_type": "stream",
          "name": "stdout",
          "text": [
            "OK: sklearn already installed\nOK: xgboost already installed\nOK: catboost already installed\nVersions: pandas 2.2.2 | numpy 1.26.4 | sklearn 1.5.2 | xgboost 2.1.4\n"
          ]
        },
        {
          "output_type": "stream",
          "name": "stdout",
          "text": [
            "GPU env vars: {}\nEnv check complete.\n"
          ]
        }
      ]
    },
    {
      "id": "2d676aa6-93ed-48d9-a97c-c5b9ee24e6c4",
      "cell_type": "code",
      "metadata": {},
      "source": [
        "# Data loading, feature builder, CV + metric (no training yet)\n",
        "import pandas as pd, numpy as np\n",
        "from sklearn.model_selection import GroupKFold\n",
        "\n",
        "DATA_DIR = '.'\n",
        "TRAIN_PATH = f\"{DATA_DIR}/train.csv\"\n",
        "TEST_PATH = f\"{DATA_DIR}/test.csv\"\n",
        "STRUCT_PATH = f\"{DATA_DIR}/structures.csv\"\n",
        "\n",
        "# Load core tables\n",
        "train = pd.read_csv(TRAIN_PATH)\n",
        "test = pd.read_csv(TEST_PATH)\n",
        "structures = pd.read_csv(STRUCT_PATH)\n",
        "print('Loaded:', len(train), 'train rows |', len(test), 'test rows |', len(structures), 'structure atoms', flush=True)\n",
        "\n",
        "# Atomic number lookup\n",
        "ATOM_Z = {'H':1, 'C':6, 'N':7, 'O':8, 'F':9}\n",
        "\n",
        "def build_basic_features(df: pd.DataFrame, structures: pd.DataFrame) -> pd.DataFrame:\n",
        "    # Select only needed cols from structures\n",
        "    s = structures[['molecule_name','atom_index','atom','x','y','z']].copy()\n",
        "    s['Z'] = s['atom'].map(ATOM_Z).astype('float32')  # keep float to allow NaN, cast later\n",
        "    # atom0 merge\n",
        "    s0 = s.rename(columns={\n",
        "        'atom_index':'atom_index_0','atom':'atom_0','x':'x0','y':'y0','z':'z0','Z':'Z0'\n",
        "    })\n",
        "    df = df.merge(s0, on=['molecule_name','atom_index_0'], how='left')\n",
        "    # atom1 merge\n",
        "    s1 = s.rename(columns={\n",
        "        'atom_index':'atom_index_1','atom':'atom_1','x':'x1','y':'y1','z':'z1','Z':'Z1'\n",
        "    })\n",
        "    df = df.merge(s1, on=['molecule_name','atom_index_1'], how='left')\n",
        "    # geometry\n",
        "    for c in ['x0','y0','z0','x1','y1','z1']:\n",
        "        df[c] = df[c].astype('float32')\n",
        "    df['dx'] = (df['x0'] - df['x1']).astype('float32')\n",
        "    df['dy'] = (df['y0'] - df['y1']).astype('float32')\n",
        "    df['dz'] = (df['z0'] - df['z1']).astype('float32')\n",
        "    df['d2'] = (df['dx']*df['dx'] + df['dy']*df['dy'] + df['dz']*df['dz']).astype('float32')\n",
        "    df['d'] = np.sqrt(df['d2']).astype('float32')\n",
        "    df['inv_d'] = (1.0/df['d'].replace(0, np.nan)).fillna(0).astype('float32')\n",
        "    df['inv_d2'] = (1.0/df['d2'].replace(0, np.nan)).fillna(0).astype('float32')\n",
        "    # atom identity\n",
        "    df['Z0'] = df['Z0'].fillna(-1).astype('int16')\n",
        "    df['Z1'] = df['Z1'].fillna(-1).astype('int16')\n",
        "    df['same_element'] = (df['Z0'] == df['Z1']).astype('int8')\n",
        "    # per-molecule counts (nH, nC, ... and total atoms)\n",
        "    counts = s.groupby(['molecule_name','atom']).size().unstack('atom').fillna(0)\n",
        "    counts = counts.rename(columns={a:f\"n{a}\" for a in ['H','C','N','O','F'] if a in counts.columns})\n",
        "    counts['n_atoms'] = counts.sum(axis=1)\n",
        "    counts = counts.astype('int16')\n",
        "    df = df.merge(counts.reset_index(), on='molecule_name', how='left')\n",
        "    for a in ['H','C','N','O','F']:\n",
        "        col = f\"n{a}\"\n",
        "        if col not in df:\n",
        "            df[col] = 0\n",
        "        df[col] = df[col].fillna(0).astype('int16')\n",
        "    df['n_atoms'] = df['n_atoms'].fillna(0).astype('int16')\n",
        "    # Keep compact dtypes\n",
        "    return df\n",
        "\n",
        "X_train = build_basic_features(train[['id','molecule_name','atom_index_0','atom_index_1','type','scalar_coupling_constant']].copy(), structures)\n",
        "X_test = build_basic_features(test[['id','molecule_name','atom_index_0','atom_index_1','type']].copy(), structures)\n",
        "print('Features built:', X_train.shape, X_test.shape, flush=True)\n",
        "\n",
        "# Feature list\n",
        "base_features = [\n",
        "    'Z0','Z1','same_element',\n",
        "    'dx','dy','dz','d','d2','inv_d','inv_d2',\n",
        "    'nH','nC','nN','nO','nF','n_atoms'\n",
        "]\n",
        "missing_train = [c for c in base_features if c not in X_train.columns]\n",
        "missing_test = [c for c in base_features if c not in X_test.columns]\n",
        "if missing_train or missing_test:\n",
        "    print('Missing features (train/test):', missing_train, missing_test, flush=True)\n",
        "\n",
        "# Metric: competition LMAE\n",
        "def lmae_score(y_true: np.ndarray, y_pred: np.ndarray, types: pd.Series, eps: float = 1e-9) -> float:\n",
        "    df = pd.DataFrame({'y': y_true, 'p': y_pred, 'type': types})\n",
        "    mae_by_type = df.groupby('type').apply(lambda g: np.mean(np.abs(g['y'] - g['p']))).astype('float64')\n",
        "    return float(np.log(mae_by_type.clip(lower=eps)).mean())\n",
        "\n",
        "# CV splitter (per-type models will use same folds by molecule_name) \n",
        "def get_folds(df: pd.DataFrame, n_splits: int = 5, seed: int = 42):\n",
        "    # Shuffle molecule order reproducibly\n",
        "    rng = np.random.RandomState(seed)\n",
        "    uniq = df['molecule_name'].drop_duplicates().values\n",
        "    rng.shuffle(uniq)\n",
        "    order = pd.Series(np.arange(len(uniq)), index=uniq)\n",
        "    df_ = df[['molecule_name']].copy()\n",
        "    df_['ord'] = df_['molecule_name'].map(order).values\n",
        "    gkf = GroupKFold(n_splits=n_splits)\n",
        "    folds = []\n",
        "    for k, (tr, va) in enumerate(gkf.split(df_, None, groups=df_['molecule_name'])):\n",
        "        folds.append((tr, va))\n",
        "    return folds\n",
        "\n",
        "folds = get_folds(X_train, n_splits=5, seed=42)\n",
        "print('Prepared folds:', len(folds), 'splits', flush=True)\n",
        "\n",
        "# Sanity checks\n",
        "assert X_train['molecule_name'].iloc[folds[0][0]].isin(X_train['molecule_name'].iloc[folds[0][1]]).sum() == 0, 'Leakage: molecule spans folds'\n",
        "print('Data pipeline ready. Next: per-type training with XGBoost/CatBoost.', flush=True)"
      ],
      "execution_count": 10,
      "outputs": [
        {
          "output_type": "stream",
          "name": "stdout",
          "text": [
            "Loaded: 4191263 train rows | 467813 test rows | 1379964 structure atoms\n"
          ]
        },
        {
          "output_type": "stream",
          "name": "stdout",
          "text": [
            "Features built: (4191263, 30) (467813, 29)\n"
          ]
        },
        {
          "output_type": "stream",
          "name": "stdout",
          "text": [
            "Prepared folds: 5 splits\n"
          ]
        },
        {
          "output_type": "stream",
          "name": "stdout",
          "text": [
            "Data pipeline ready. Next: per-type training with XGBoost/CatBoost.\n"
          ]
        }
      ]
    },
    {
      "id": "a8a92b05-8aeb-45d1-a56e-e237f3647a0a",
      "cell_type": "code",
      "metadata": {},
      "source": [
        "# Per-type XGBoost GPU training baseline with OOF LMAE and submission (core.train API)\n",
        "import time, numpy as np, pandas as pd, xgboost as xgb\n",
        "from sklearn.model_selection import KFold\n",
        "from sklearn.metrics import mean_absolute_error\n",
        "\n",
        "# Use KFold on unique molecules to create group-respecting folds\n",
        "def get_folds_by_molecule(df: pd.DataFrame, n_splits: int = 5, seed: int = 42):\n",
        "    mols = df['molecule_name'].unique()\n",
        "    kf = KFold(n_splits=n_splits, shuffle=True, random_state=seed)\n",
        "    fold_of = {}\n",
        "    for f, (_, val_idx) in enumerate(kf.split(mols)):\n",
        "        for m in mols[val_idx]:\n",
        "            fold_of[m] = f\n",
        "    fold = df['molecule_name'].map(fold_of).values\n",
        "    folds = [(np.where(fold!=i)[0], np.where(fold==i)[0]) for i in range(n_splits)]\n",
        "    return folds\n",
        "\n",
        "seed = 42\n",
        "n_splits = 5\n",
        "folds = get_folds_by_molecule(X_train, n_splits=n_splits, seed=seed)\n",
        "print(f'Prepared molecule-aware folds: {len(folds)}')\n",
        "\n",
        "feature_cols = [\n",
        "    'Z0','Z1','same_element',\n",
        "    'dx','dy','dz','d','d2','inv_d','inv_d2',\n",
        "    'nH','nC','nN','nO','nF','n_atoms',\n",
        "    # FE v1 additions:\n",
        "    'path_len','inv_path','is_bonded','min_nb_d0','min_nb_d1','cos0','cos1',\n",
        "    'potential_energy','dipole_x','dipole_y','dipole_z','dipole_mag',\n",
        "    # FE v2 additions (quantum, identity, interactions, normalization):\n",
        "    'mulliken_0','mulliken_1','z_mulliken_0','z_mulliken_1',\n",
        "    'shield_iso_0','shield_iso_1','z_shield_0','z_shield_1',\n",
        "    'mulliken_diff','mulliken_abs_diff','mulliken_sum','mulliken_prod',\n",
        "    'shield_diff','shield_abs_diff','shield_sum','shield_prod',\n",
        "    'mulliken_diff_over_d','shield_diff_over_d','mulliken_diff_x_inv_d','shield_diff_x_inv_d',\n",
        "    'element_pair_id','element_pair_id_sorted','EN0','EN1','EN_diff','EN_abs_diff',\n",
        "    'path_len_bucket','path_le2','d_x_inv_path','d_over_1p_path','is_bonded_x_inv_d','inv_d_x_path_le2',\n",
        "    'cos0_x_inv_path','cos1_x_inv_path','min_nb_d0_x_inv_path','min_nb_d1_x_inv_path',\n",
        "    'd_over_n_atoms','pe_per_atom','d_over_mol_mean_nb_d','expected_d_by_type','d_from_expected'\n",
        "]\n",
        "\n",
        "types = sorted(X_train['type'].unique())\n",
        "oof = np.zeros(len(X_train), dtype=np.float32)\n",
        "test_pred = np.zeros(len(X_test), dtype=np.float32)\n",
        "per_type_scores = {}\n",
        "\n",
        "# XGBoost params (CPU fallback: device='cpu'); tree_method hist for speed\n",
        "xgb_params = {\n",
        "    'objective': 'reg:squarederror',\n",
        "    'eval_metric': 'mae',\n",
        "    'device': 'cpu',\n",
        "    'tree_method': 'hist',\n",
        "    'max_depth': 7,\n",
        "    'eta': 0.10,\n",
        "    'subsample': 0.8,\n",
        "    'colsample_bytree': 0.8,\n",
        "    'min_child_weight': 2.0,\n",
        "    'reg_lambda': 1.0,\n",
        "    'max_bin': 512,\n",
        "    'seed': seed\n",
        "}\n",
        "num_boost_round = 2200\n",
        "early_stopping_rounds = 100\n",
        "\n",
        "def sanitize_df(df: pd.DataFrame) -> pd.DataFrame:\n",
        "    # Replace inf/-inf with NaN then fill with 0; ensure float32\n",
        "    df = df.replace([np.inf, -np.inf], np.nan).fillna(0)\n",
        "    return df.astype('float32')\n",
        "\n",
        "start_all = time.time()\n",
        "for t in types:\n",
        "    tr_mask = (X_train['type'] == t).values\n",
        "    te_mask = (X_test['type'] == t).values\n",
        "    # Ensure all required columns exist before selection\n",
        "    missing_cols = [c for c in feature_cols if c not in X_train.columns]\n",
        "    if missing_cols:\n",
        "        raise KeyError(f\"Missing feature columns for training: {missing_cols[:10]}... (total {len(missing_cols)})\")\n",
        "    X_t = X_train.loc[tr_mask, feature_cols].copy()\n",
        "    X_te_t = X_test.loc[te_mask, feature_cols].copy()\n",
        "    # Sanitize numeric matrices to avoid infs\n",
        "    X_t = sanitize_df(X_t)\n",
        "    X_te_t = sanitize_df(X_te_t)\n",
        "    y_t = X_train.loc[tr_mask, 'scalar_coupling_constant'].astype('float32').values\n",
        "    idx_t = np.where(tr_mask)[0]\n",
        "    oof_t = np.zeros(X_t.shape[0], dtype=np.float32)\n",
        "    pred_te_t = np.zeros(X_te_t.shape[0], dtype=np.float32)\n",
        "    print(f'\\nType {t}: n_train={X_t.shape[0]} n_test={X_te_t.shape[0]}', flush=True)\n",
        "    # Quick diagnostics for infs\n",
        "    if np.isinf(X_t.to_numpy()).any() or np.isinf(X_te_t.to_numpy()).any():\n",
        "        n_inf_tr = np.isinf(X_t.to_numpy()).sum()\n",
        "        n_inf_te = np.isinf(X_te_t.to_numpy()).sum()\n",
        "        print(f'Warning: found inf values | train={n_inf_tr} test={n_inf_te}', flush=True)\n",
        "    # Pre-build DMatrix for test to reuse across folds\n",
        "    dtest_t = xgb.DMatrix(X_te_t)\n",
        "    for fold_i, (tr_idx, va_idx) in enumerate(folds):\n",
        "        tr_loc = np.intersect1d(idx_t, tr_idx, assume_unique=False)\n",
        "        va_loc = np.intersect1d(idx_t, va_idx, assume_unique=False)\n",
        "        tr_loc_local = np.searchsorted(idx_t, tr_loc)\n",
        "        va_loc_local = np.searchsorted(idx_t, va_loc)\n",
        "        if len(va_loc_local) == 0 or len(tr_loc_local) == 0:\n",
        "            continue\n",
        "        t0 = time.time()\n",
        "        dtrain = xgb.DMatrix(X_t.iloc[tr_loc_local, :], label=y_t[tr_loc_local])\n",
        "        dvalid = xgb.DMatrix(X_t.iloc[va_loc_local, :], label=y_t[va_loc_local])\n",
        "        evals = [(dtrain, 'train'), (dvalid, 'valid')]\n",
        "        bst = xgb.train(\n",
        "            params=xgb_params,\n",
        "            dtrain=dtrain,\n",
        "            num_boost_round=num_boost_round,\n",
        "            evals=evals,\n",
        "            early_stopping_rounds=early_stopping_rounds,\n",
        "            verbose_eval=200\n",
        "        )\n",
        "        best_iter = bst.best_iteration if hasattr(bst, 'best_iteration') and bst.best_iteration is not None else bst.best_ntree_limit - 1\n",
        "        oof_t[va_loc_local] = bst.predict(dvalid, iteration_range=(0, int(best_iter)+1)).astype('float32')\n",
        "        pred_te_t += bst.predict(dtest_t, iteration_range=(0, int(best_iter)+1)).astype('float32') / n_splits\n",
        "        dt = time.time() - t0\n",
        "        mae_fold = mean_absolute_error(y_t[va_loc_local], oof_t[va_loc_local])\n",
        "        print(f'  Fold {fold_i}: n_tr={len(tr_loc_local)} n_va={len(va_loc_local)} | MAE={mae_fold:.5f} | {dt:.1f}s', flush=True)\n",
        "    oof[idx_t] = oof_t\n",
        "    test_pred[te_mask] = pred_te_t\n",
        "    mae_t = float(np.mean(np.abs(y_t - oof_t)))\n",
        "    per_type_scores[t] = mae_t\n",
        "    print(f'Type {t}: MAE={mae_t:.6f}', flush=True)\n",
        "\n",
        "overall_lmae = lmae_score(X_train['scalar_coupling_constant'].values, oof, X_train['type'])\n",
        "print('\\nPer-type MAE:', {k: round(v,6) for k,v in per_type_scores.items()})\n",
        "print(f'Overall OOF LMAE: {overall_lmae:.6f} | elapsed {(time.time()-start_all)/60:.1f} min', flush=True)\n",
        "\n",
        "# Build submission\n",
        "sub = pd.DataFrame({'id': X_test['id'].values, 'scalar_coupling_constant': test_pred.astype('float32')})\n",
        "sub = sub.sort_values('id')\n",
        "sub.to_csv('submission.csv', index=False)\n",
        "print('Saved submission.csv:', sub.shape, 'head:\\n', sub.head())"
      ],
      "execution_count": 15,
      "outputs": [
        {
          "output_type": "stream",
          "name": "stdout",
          "text": [
            "Prepared molecule-aware folds: 5\n"
          ]
        },
        {
          "output_type": "stream",
          "name": "stdout",
          "text": [
            "\nType 1JHC: n_train=637912 n_test=71221\n"
          ]
        },
        {
          "output_type": "stream",
          "name": "stdout",
          "text": [
            "[0]\ttrain-mae:11.63984\tvalid-mae:11.70639\n"
          ]
        },
        {
          "output_type": "stream",
          "name": "stdout",
          "text": [
            "[200]\ttrain-mae:2.13083\tvalid-mae:2.22327\n"
          ]
        },
        {
          "output_type": "stream",
          "name": "stdout",
          "text": [
            "[400]\ttrain-mae:1.92015\tvalid-mae:2.08051\n"
          ]
        },
        {
          "output_type": "stream",
          "name": "stdout",
          "text": [
            "[600]\ttrain-mae:1.78791\tvalid-mae:2.00767\n"
          ]
        },
        {
          "output_type": "stream",
          "name": "stdout",
          "text": [
            "[800]\ttrain-mae:1.68517\tvalid-mae:1.95862\n"
          ]
        },
        {
          "output_type": "stream",
          "name": "stdout",
          "text": [
            "[1000]\ttrain-mae:1.60331\tvalid-mae:1.92589\n"
          ]
        },
        {
          "output_type": "stream",
          "name": "stdout",
          "text": [
            "[1200]\ttrain-mae:1.53279\tvalid-mae:1.90148\n"
          ]
        },
        {
          "output_type": "stream",
          "name": "stdout",
          "text": [
            "[1400]\ttrain-mae:1.46790\tvalid-mae:1.87928\n"
          ]
        },
        {
          "output_type": "stream",
          "name": "stdout",
          "text": [
            "[1600]\ttrain-mae:1.41108\tvalid-mae:1.86268\n"
          ]
        },
        {
          "output_type": "stream",
          "name": "stdout",
          "text": [
            "[1800]\ttrain-mae:1.35870\tvalid-mae:1.84924\n"
          ]
        },
        {
          "output_type": "stream",
          "name": "stdout",
          "text": [
            "[2000]\ttrain-mae:1.30999\tvalid-mae:1.83764\n"
          ]
        },
        {
          "output_type": "stream",
          "name": "stdout",
          "text": [
            "[2199]\ttrain-mae:1.26505\tvalid-mae:1.82785\n"
          ]
        },
        {
          "output_type": "stream",
          "name": "stdout",
          "text": [
            "  Fold 0: n_tr=510325 n_va=127587 | MAE=1.82785 | 65.3s\n"
          ]
        },
        {
          "output_type": "stream",
          "name": "stdout",
          "text": [
            "[0]\ttrain-mae:11.65894\tvalid-mae:11.64864\n"
          ]
        },
        {
          "output_type": "stream",
          "name": "stdout",
          "text": [
            "[200]\ttrain-mae:2.12741\tvalid-mae:2.23031\n"
          ]
        },
        {
          "output_type": "stream",
          "name": "stdout",
          "text": [
            "[400]\ttrain-mae:1.91500\tvalid-mae:2.08798\n"
          ]
        },
        {
          "output_type": "stream",
          "name": "stdout",
          "text": [
            "[600]\ttrain-mae:1.78728\tvalid-mae:2.01808\n"
          ]
        },
        {
          "output_type": "stream",
          "name": "stdout",
          "text": [
            "[800]\ttrain-mae:1.68638\tvalid-mae:1.97064\n"
          ]
        },
        {
          "output_type": "stream",
          "name": "stdout",
          "text": [
            "[1000]\ttrain-mae:1.60222\tvalid-mae:1.93669\n"
          ]
        },
        {
          "output_type": "stream",
          "name": "stdout",
          "text": [
            "[1200]\ttrain-mae:1.53319\tvalid-mae:1.91336\n"
          ]
        },
        {
          "output_type": "stream",
          "name": "stdout",
          "text": [
            "[1400]\ttrain-mae:1.46819\tvalid-mae:1.89202\n"
          ]
        },
        {
          "output_type": "stream",
          "name": "stdout",
          "text": [
            "[1600]\ttrain-mae:1.41213\tvalid-mae:1.87657\n"
          ]
        },
        {
          "output_type": "stream",
          "name": "stdout",
          "text": [
            "[1800]\ttrain-mae:1.35922\tvalid-mae:1.86405\n"
          ]
        },
        {
          "output_type": "stream",
          "name": "stdout",
          "text": [
            "[2000]\ttrain-mae:1.31121\tvalid-mae:1.85157\n"
          ]
        },
        {
          "output_type": "stream",
          "name": "stdout",
          "text": [
            "[2199]\ttrain-mae:1.26578\tvalid-mae:1.84090\n"
          ]
        },
        {
          "output_type": "stream",
          "name": "stdout",
          "text": [
            "  Fold 1: n_tr=510456 n_va=127456 | MAE=1.84090 | 71.1s\n"
          ]
        },
        {
          "output_type": "stream",
          "name": "stdout",
          "text": [
            "[0]\ttrain-mae:11.67324\tvalid-mae:11.63263\n"
          ]
        },
        {
          "output_type": "stream",
          "name": "stdout",
          "text": [
            "[200]\ttrain-mae:2.11848\tvalid-mae:2.20881\n"
          ]
        },
        {
          "output_type": "stream",
          "name": "stdout",
          "text": [
            "[400]\ttrain-mae:1.91398\tvalid-mae:2.06730\n"
          ]
        },
        {
          "output_type": "stream",
          "name": "stdout",
          "text": [
            "[600]\ttrain-mae:1.78226\tvalid-mae:1.99507\n"
          ]
        },
        {
          "output_type": "stream",
          "name": "stdout",
          "text": [
            "[800]\ttrain-mae:1.68499\tvalid-mae:1.94925\n"
          ]
        },
        {
          "output_type": "stream",
          "name": "stdout",
          "text": [
            "[1000]\ttrain-mae:1.60253\tvalid-mae:1.91703\n"
          ]
        },
        {
          "output_type": "stream",
          "name": "stdout",
          "text": [
            "[1200]\ttrain-mae:1.53092\tvalid-mae:1.89158\n"
          ]
        },
        {
          "output_type": "stream",
          "name": "stdout",
          "text": [
            "[1400]\ttrain-mae:1.46772\tvalid-mae:1.87058\n"
          ]
        },
        {
          "output_type": "stream",
          "name": "stdout",
          "text": [
            "[1600]\ttrain-mae:1.41054\tvalid-mae:1.85368\n"
          ]
        },
        {
          "output_type": "stream",
          "name": "stdout",
          "text": [
            "[1800]\ttrain-mae:1.35824\tvalid-mae:1.84037\n"
          ]
        },
        {
          "output_type": "stream",
          "name": "stdout",
          "text": [
            "[2000]\ttrain-mae:1.30830\tvalid-mae:1.82812\n"
          ]
        },
        {
          "output_type": "stream",
          "name": "stdout",
          "text": [
            "[2199]\ttrain-mae:1.26441\tvalid-mae:1.81855\n"
          ]
        },
        {
          "output_type": "stream",
          "name": "stdout",
          "text": [
            "  Fold 2: n_tr=509821 n_va=128091 | MAE=1.81855 | 64.1s\n"
          ]
        },
        {
          "output_type": "stream",
          "name": "stdout",
          "text": [
            "[0]\ttrain-mae:11.63944\tvalid-mae:11.67909\n"
          ]
        },
        {
          "output_type": "stream",
          "name": "stdout",
          "text": [
            "[200]\ttrain-mae:2.11993\tvalid-mae:2.22933\n"
          ]
        },
        {
          "output_type": "stream",
          "name": "stdout",
          "text": [
            "[400]\ttrain-mae:1.91474\tvalid-mae:2.08872\n"
          ]
        },
        {
          "output_type": "stream",
          "name": "stdout",
          "text": [
            "[600]\ttrain-mae:1.78477\tvalid-mae:2.01645\n"
          ]
        },
        {
          "output_type": "stream",
          "name": "stdout",
          "text": [
            "[800]\ttrain-mae:1.68671\tvalid-mae:1.97204\n"
          ]
        },
        {
          "output_type": "stream",
          "name": "stdout",
          "text": [
            "[1000]\ttrain-mae:1.60267\tvalid-mae:1.93778\n"
          ]
        },
        {
          "output_type": "stream",
          "name": "stdout",
          "text": [
            "[1200]\ttrain-mae:1.53264\tvalid-mae:1.91291\n"
          ]
        },
        {
          "output_type": "stream",
          "name": "stdout",
          "text": [
            "[1400]\ttrain-mae:1.47001\tvalid-mae:1.89300\n"
          ]
        },
        {
          "output_type": "stream",
          "name": "stdout",
          "text": [
            "[1600]\ttrain-mae:1.41246\tvalid-mae:1.87670\n"
          ]
        },
        {
          "output_type": "stream",
          "name": "stdout",
          "text": [
            "[1800]\ttrain-mae:1.35945\tvalid-mae:1.86254\n"
          ]
        },
        {
          "output_type": "stream",
          "name": "stdout",
          "text": [
            "[2000]\ttrain-mae:1.31055\tvalid-mae:1.85001\n"
          ]
        },
        {
          "output_type": "stream",
          "name": "stdout",
          "text": [
            "[2199]\ttrain-mae:1.26500\tvalid-mae:1.83911\n"
          ]
        },
        {
          "output_type": "stream",
          "name": "stdout",
          "text": [
            "  Fold 3: n_tr=510720 n_va=127192 | MAE=1.83911 | 63.9s\n"
          ]
        },
        {
          "output_type": "stream",
          "name": "stdout",
          "text": [
            "[0]\ttrain-mae:11.66505\tvalid-mae:11.61285\n"
          ]
        },
        {
          "output_type": "stream",
          "name": "stdout",
          "text": [
            "[200]\ttrain-mae:2.12301\tvalid-mae:2.20963\n"
          ]
        },
        {
          "output_type": "stream",
          "name": "stdout",
          "text": [
            "[400]\ttrain-mae:1.91085\tvalid-mae:2.06457\n"
          ]
        },
        {
          "output_type": "stream",
          "name": "stdout",
          "text": [
            "[600]\ttrain-mae:1.78239\tvalid-mae:1.99515\n"
          ]
        },
        {
          "output_type": "stream",
          "name": "stdout",
          "text": [
            "[800]\ttrain-mae:1.68436\tvalid-mae:1.95041\n"
          ]
        },
        {
          "output_type": "stream",
          "name": "stdout",
          "text": [
            "[1000]\ttrain-mae:1.60249\tvalid-mae:1.91779\n"
          ]
        },
        {
          "output_type": "stream",
          "name": "stdout",
          "text": [
            "[1200]\ttrain-mae:1.53235\tvalid-mae:1.89524\n"
          ]
        },
        {
          "output_type": "stream",
          "name": "stdout",
          "text": [
            "[1400]\ttrain-mae:1.47003\tvalid-mae:1.87585\n"
          ]
        },
        {
          "output_type": "stream",
          "name": "stdout",
          "text": [
            "[1600]\ttrain-mae:1.41039\tvalid-mae:1.85759\n"
          ]
        },
        {
          "output_type": "stream",
          "name": "stdout",
          "text": [
            "[1800]\ttrain-mae:1.35801\tvalid-mae:1.84358\n"
          ]
        },
        {
          "output_type": "stream",
          "name": "stdout",
          "text": [
            "[2000]\ttrain-mae:1.30919\tvalid-mae:1.83142\n"
          ]
        },
        {
          "output_type": "stream",
          "name": "stdout",
          "text": [
            "[2199]\ttrain-mae:1.26504\tvalid-mae:1.82218\n"
          ]
        },
        {
          "output_type": "stream",
          "name": "stdout",
          "text": [
            "  Fold 4: n_tr=510326 n_va=127586 | MAE=1.82216 | 67.0s\n"
          ]
        },
        {
          "output_type": "stream",
          "name": "stdout",
          "text": [
            "Type 1JHC: MAE=1.829696\n"
          ]
        },
        {
          "output_type": "stream",
          "name": "stdout",
          "text": [
            "\nType 1JHN: n_train=39416 n_test=4264\n"
          ]
        },
        {
          "output_type": "stream",
          "name": "stdout",
          "text": [
            "[0]\ttrain-mae:8.75381\tvalid-mae:8.76978\n"
          ]
        },
        {
          "output_type": "stream",
          "name": "stdout",
          "text": [
            "[200]\ttrain-mae:0.51491\tvalid-mae:0.79317\n"
          ]
        },
        {
          "output_type": "stream",
          "name": "stdout",
          "text": [
            "[400]\ttrain-mae:0.34934\tvalid-mae:0.74885\n"
          ]
        },
        {
          "output_type": "stream",
          "name": "stdout",
          "text": [
            "[600]\ttrain-mae:0.25178\tvalid-mae:0.73251\n"
          ]
        },
        {
          "output_type": "stream",
          "name": "stdout",
          "text": [
            "[800]\ttrain-mae:0.18588\tvalid-mae:0.72343\n"
          ]
        },
        {
          "output_type": "stream",
          "name": "stdout",
          "text": [
            "[1000]\ttrain-mae:0.13917\tvalid-mae:0.71778\n"
          ]
        },
        {
          "output_type": "stream",
          "name": "stdout",
          "text": [
            "[1200]\ttrain-mae:0.10470\tvalid-mae:0.71428\n"
          ]
        },
        {
          "output_type": "stream",
          "name": "stdout",
          "text": [
            "[1400]\ttrain-mae:0.08044\tvalid-mae:0.71206\n"
          ]
        },
        {
          "output_type": "stream",
          "name": "stdout",
          "text": [
            "[1600]\ttrain-mae:0.06151\tvalid-mae:0.71071\n"
          ]
        },
        {
          "output_type": "stream",
          "name": "stdout",
          "text": [
            "[1800]\ttrain-mae:0.04742\tvalid-mae:0.70947\n"
          ]
        },
        {
          "output_type": "stream",
          "name": "stdout",
          "text": [
            "[2000]\ttrain-mae:0.03684\tvalid-mae:0.70868\n"
          ]
        },
        {
          "output_type": "stream",
          "name": "stdout",
          "text": [
            "[2199]\ttrain-mae:0.02873\tvalid-mae:0.70834\n"
          ]
        },
        {
          "output_type": "stream",
          "name": "stdout",
          "text": [
            "  Fold 0: n_tr=31650 n_va=7766 | MAE=0.70833 | 18.0s\n"
          ]
        },
        {
          "output_type": "stream",
          "name": "stdout",
          "text": [
            "[0]\ttrain-mae:8.74650\tvalid-mae:8.79463\n"
          ]
        },
        {
          "output_type": "stream",
          "name": "stdout",
          "text": [
            "[200]\ttrain-mae:0.51326\tvalid-mae:0.77433\n"
          ]
        },
        {
          "output_type": "stream",
          "name": "stdout",
          "text": [
            "[400]\ttrain-mae:0.35104\tvalid-mae:0.73704\n"
          ]
        },
        {
          "output_type": "stream",
          "name": "stdout",
          "text": [
            "[600]\ttrain-mae:0.25092\tvalid-mae:0.71836\n"
          ]
        },
        {
          "output_type": "stream",
          "name": "stdout",
          "text": [
            "[800]\ttrain-mae:0.18382\tvalid-mae:0.71114\n"
          ]
        },
        {
          "output_type": "stream",
          "name": "stdout",
          "text": [
            "[1000]\ttrain-mae:0.13545\tvalid-mae:0.70663\n"
          ]
        },
        {
          "output_type": "stream",
          "name": "stdout",
          "text": [
            "[1200]\ttrain-mae:0.10278\tvalid-mae:0.70342\n"
          ]
        },
        {
          "output_type": "stream",
          "name": "stdout",
          "text": [
            "[1400]\ttrain-mae:0.07851\tvalid-mae:0.70167\n"
          ]
        },
        {
          "output_type": "stream",
          "name": "stdout",
          "text": [
            "[1600]\ttrain-mae:0.06024\tvalid-mae:0.70023\n"
          ]
        },
        {
          "output_type": "stream",
          "name": "stdout",
          "text": [
            "[1800]\ttrain-mae:0.04661\tvalid-mae:0.69970\n"
          ]
        },
        {
          "output_type": "stream",
          "name": "stdout",
          "text": [
            "[2000]\ttrain-mae:0.03600\tvalid-mae:0.69920\n"
          ]
        },
        {
          "output_type": "stream",
          "name": "stdout",
          "text": [
            "[2199]\ttrain-mae:0.02807\tvalid-mae:0.69871\n"
          ]
        },
        {
          "output_type": "stream",
          "name": "stdout",
          "text": [
            "  Fold 1: n_tr=31500 n_va=7916 | MAE=0.69871 | 18.2s\n"
          ]
        },
        {
          "output_type": "stream",
          "name": "stdout",
          "text": [
            "[0]\ttrain-mae:8.76461\tvalid-mae:8.72097\n"
          ]
        },
        {
          "output_type": "stream",
          "name": "stdout",
          "text": [
            "[200]\ttrain-mae:0.51740\tvalid-mae:0.77270\n"
          ]
        },
        {
          "output_type": "stream",
          "name": "stdout",
          "text": [
            "[400]\ttrain-mae:0.35328\tvalid-mae:0.73392\n"
          ]
        },
        {
          "output_type": "stream",
          "name": "stdout",
          "text": [
            "[600]\ttrain-mae:0.25231\tvalid-mae:0.71796\n"
          ]
        },
        {
          "output_type": "stream",
          "name": "stdout",
          "text": [
            "[800]\ttrain-mae:0.18592\tvalid-mae:0.70943\n"
          ]
        },
        {
          "output_type": "stream",
          "name": "stdout",
          "text": [
            "[1000]\ttrain-mae:0.13862\tvalid-mae:0.70381\n"
          ]
        },
        {
          "output_type": "stream",
          "name": "stdout",
          "text": [
            "[1200]\ttrain-mae:0.10426\tvalid-mae:0.70131\n"
          ]
        },
        {
          "output_type": "stream",
          "name": "stdout",
          "text": [
            "[1400]\ttrain-mae:0.07900\tvalid-mae:0.69943\n"
          ]
        },
        {
          "output_type": "stream",
          "name": "stdout",
          "text": [
            "[1600]\ttrain-mae:0.06084\tvalid-mae:0.69806\n"
          ]
        },
        {
          "output_type": "stream",
          "name": "stdout",
          "text": [
            "[1800]\ttrain-mae:0.04713\tvalid-mae:0.69742\n"
          ]
        },
        {
          "output_type": "stream",
          "name": "stdout",
          "text": [
            "[2000]\ttrain-mae:0.03646\tvalid-mae:0.69681\n"
          ]
        },
        {
          "output_type": "stream",
          "name": "stdout",
          "text": [
            "[2199]\ttrain-mae:0.02849\tvalid-mae:0.69650\n"
          ]
        },
        {
          "output_type": "stream",
          "name": "stdout",
          "text": [
            "  Fold 2: n_tr=31593 n_va=7823 | MAE=0.69647 | 17.9s\n"
          ]
        },
        {
          "output_type": "stream",
          "name": "stdout",
          "text": [
            "[0]\ttrain-mae:8.75873\tvalid-mae:8.75150\n"
          ]
        },
        {
          "output_type": "stream",
          "name": "stdout",
          "text": [
            "[200]\ttrain-mae:0.51251\tvalid-mae:0.77485\n"
          ]
        },
        {
          "output_type": "stream",
          "name": "stdout",
          "text": [
            "[400]\ttrain-mae:0.34846\tvalid-mae:0.73368\n"
          ]
        },
        {
          "output_type": "stream",
          "name": "stdout",
          "text": [
            "[600]\ttrain-mae:0.24984\tvalid-mae:0.71445\n"
          ]
        },
        {
          "output_type": "stream",
          "name": "stdout",
          "text": [
            "[800]\ttrain-mae:0.18470\tvalid-mae:0.70672\n"
          ]
        },
        {
          "output_type": "stream",
          "name": "stdout",
          "text": [
            "[1000]\ttrain-mae:0.13744\tvalid-mae:0.70156\n"
          ]
        },
        {
          "output_type": "stream",
          "name": "stdout",
          "text": [
            "[1200]\ttrain-mae:0.10402\tvalid-mae:0.69883\n"
          ]
        },
        {
          "output_type": "stream",
          "name": "stdout",
          "text": [
            "[1400]\ttrain-mae:0.07935\tvalid-mae:0.69684\n"
          ]
        },
        {
          "output_type": "stream",
          "name": "stdout",
          "text": [
            "[1600]\ttrain-mae:0.06070\tvalid-mae:0.69515\n"
          ]
        },
        {
          "output_type": "stream",
          "name": "stdout",
          "text": [
            "[1800]\ttrain-mae:0.04666\tvalid-mae:0.69423\n"
          ]
        },
        {
          "output_type": "stream",
          "name": "stdout",
          "text": [
            "[2000]\ttrain-mae:0.03620\tvalid-mae:0.69381\n"
          ]
        },
        {
          "output_type": "stream",
          "name": "stdout",
          "text": [
            "[2199]\ttrain-mae:0.02817\tvalid-mae:0.69336\n"
          ]
        },
        {
          "output_type": "stream",
          "name": "stdout",
          "text": [
            "  Fold 3: n_tr=31276 n_va=8140 | MAE=0.69336 | 17.0s\n"
          ]
        },
        {
          "output_type": "stream",
          "name": "stdout",
          "text": [
            "[0]\ttrain-mae:8.75854\tvalid-mae:8.75525\n"
          ]
        },
        {
          "output_type": "stream",
          "name": "stdout",
          "text": [
            "[200]\ttrain-mae:0.51514\tvalid-mae:0.78308\n"
          ]
        },
        {
          "output_type": "stream",
          "name": "stdout",
          "text": [
            "[400]\ttrain-mae:0.34894\tvalid-mae:0.74457\n"
          ]
        },
        {
          "output_type": "stream",
          "name": "stdout",
          "text": [
            "[600]\ttrain-mae:0.25031\tvalid-mae:0.72917\n"
          ]
        },
        {
          "output_type": "stream",
          "name": "stdout",
          "text": [
            "[800]\ttrain-mae:0.18233\tvalid-mae:0.72097\n"
          ]
        },
        {
          "output_type": "stream",
          "name": "stdout",
          "text": [
            "[1000]\ttrain-mae:0.13697\tvalid-mae:0.71655\n"
          ]
        },
        {
          "output_type": "stream",
          "name": "stdout",
          "text": [
            "[1200]\ttrain-mae:0.10320\tvalid-mae:0.71314\n"
          ]
        },
        {
          "output_type": "stream",
          "name": "stdout",
          "text": [
            "[1400]\ttrain-mae:0.07894\tvalid-mae:0.71143\n"
          ]
        },
        {
          "output_type": "stream",
          "name": "stdout",
          "text": [
            "[1600]\ttrain-mae:0.06062\tvalid-mae:0.71029\n"
          ]
        },
        {
          "output_type": "stream",
          "name": "stdout",
          "text": [
            "[1800]\ttrain-mae:0.04651\tvalid-mae:0.70939\n"
          ]
        },
        {
          "output_type": "stream",
          "name": "stdout",
          "text": [
            "[2000]\ttrain-mae:0.03586\tvalid-mae:0.70881\n"
          ]
        },
        {
          "output_type": "stream",
          "name": "stdout",
          "text": [
            "[2199]\ttrain-mae:0.02793\tvalid-mae:0.70830\n"
          ]
        },
        {
          "output_type": "stream",
          "name": "stdout",
          "text": [
            "  Fold 4: n_tr=31645 n_va=7771 | MAE=0.70829 | 17.9s\n"
          ]
        },
        {
          "output_type": "stream",
          "name": "stdout",
          "text": [
            "Type 1JHN: MAE=0.700947\n"
          ]
        },
        {
          "output_type": "stream",
          "name": "stdout",
          "text": [
            "\nType 2JHC: n_train=1026379 n_test=114488\n"
          ]
        },
        {
          "output_type": "stream",
          "name": "stdout",
          "text": [
            "[0]\ttrain-mae:2.56025\tvalid-mae:2.56744\n"
          ]
        },
        {
          "output_type": "stream",
          "name": "stdout",
          "text": [
            "[200]\ttrain-mae:0.85080\tvalid-mae:0.87910\n"
          ]
        },
        {
          "output_type": "stream",
          "name": "stdout",
          "text": [
            "[400]\ttrain-mae:0.74888\tvalid-mae:0.79199\n"
          ]
        },
        {
          "output_type": "stream",
          "name": "stdout",
          "text": [
            "[600]\ttrain-mae:0.68921\tvalid-mae:0.74577\n"
          ]
        },
        {
          "output_type": "stream",
          "name": "stdout",
          "text": [
            "[800]\ttrain-mae:0.64905\tvalid-mae:0.71812\n"
          ]
        },
        {
          "output_type": "stream",
          "name": "stdout",
          "text": [
            "[1000]\ttrain-mae:0.61627\tvalid-mae:0.69764\n"
          ]
        },
        {
          "output_type": "stream",
          "name": "stdout",
          "text": [
            "[1200]\ttrain-mae:0.58966\tvalid-mae:0.68239\n"
          ]
        },
        {
          "output_type": "stream",
          "name": "stdout",
          "text": [
            "[1400]\ttrain-mae:0.56699\tvalid-mae:0.67063\n"
          ]
        },
        {
          "output_type": "stream",
          "name": "stdout",
          "text": [
            "[1600]\ttrain-mae:0.54682\tvalid-mae:0.66058\n"
          ]
        },
        {
          "output_type": "stream",
          "name": "stdout",
          "text": [
            "[1800]\ttrain-mae:0.52848\tvalid-mae:0.65232\n"
          ]
        },
        {
          "output_type": "stream",
          "name": "stdout",
          "text": [
            "[2000]\ttrain-mae:0.51194\tvalid-mae:0.64514\n"
          ]
        },
        {
          "output_type": "stream",
          "name": "stdout",
          "text": [
            "[2199]\ttrain-mae:0.49702\tvalid-mae:0.63938\n"
          ]
        },
        {
          "output_type": "stream",
          "name": "stdout",
          "text": [
            "  Fold 0: n_tr=820505 n_va=205874 | MAE=0.63938 | 94.7s\n"
          ]
        },
        {
          "output_type": "stream",
          "name": "stdout",
          "text": [
            "[0]\ttrain-mae:2.55836\tvalid-mae:2.56853\n"
          ]
        },
        {
          "output_type": "stream",
          "name": "stdout",
          "text": [
            "[200]\ttrain-mae:0.85420\tvalid-mae:0.88238\n"
          ]
        },
        {
          "output_type": "stream",
          "name": "stdout",
          "text": [
            "[400]\ttrain-mae:0.75157\tvalid-mae:0.79576\n"
          ]
        },
        {
          "output_type": "stream",
          "name": "stdout",
          "text": [
            "[600]\ttrain-mae:0.69008\tvalid-mae:0.74881\n"
          ]
        },
        {
          "output_type": "stream",
          "name": "stdout",
          "text": [
            "[800]\ttrain-mae:0.64726\tvalid-mae:0.71866\n"
          ]
        },
        {
          "output_type": "stream",
          "name": "stdout",
          "text": [
            "[1000]\ttrain-mae:0.61679\tvalid-mae:0.70055\n"
          ]
        },
        {
          "output_type": "stream",
          "name": "stdout",
          "text": [
            "[1200]\ttrain-mae:0.58915\tvalid-mae:0.68463\n"
          ]
        },
        {
          "output_type": "stream",
          "name": "stdout",
          "text": [
            "[1400]\ttrain-mae:0.56621\tvalid-mae:0.67275\n"
          ]
        },
        {
          "output_type": "stream",
          "name": "stdout",
          "text": [
            "[1600]\ttrain-mae:0.54657\tvalid-mae:0.66362\n"
          ]
        },
        {
          "output_type": "stream",
          "name": "stdout",
          "text": [
            "[1800]\ttrain-mae:0.52752\tvalid-mae:0.65431\n"
          ]
        },
        {
          "output_type": "stream",
          "name": "stdout",
          "text": [
            "[2000]\ttrain-mae:0.51108\tvalid-mae:0.64723\n"
          ]
        },
        {
          "output_type": "stream",
          "name": "stdout",
          "text": [
            "[2199]\ttrain-mae:0.49563\tvalid-mae:0.64096\n"
          ]
        },
        {
          "output_type": "stream",
          "name": "stdout",
          "text": [
            "  Fold 1: n_tr=820790 n_va=205589 | MAE=0.64096 | 90.9s\n"
          ]
        },
        {
          "output_type": "stream",
          "name": "stdout",
          "text": [
            "[0]\ttrain-mae:2.56601\tvalid-mae:2.55257\n"
          ]
        },
        {
          "output_type": "stream",
          "name": "stdout",
          "text": [
            "[200]\ttrain-mae:0.85745\tvalid-mae:0.87337\n"
          ]
        },
        {
          "output_type": "stream",
          "name": "stdout",
          "text": [
            "[400]\ttrain-mae:0.75232\tvalid-mae:0.78609\n"
          ]
        },
        {
          "output_type": "stream",
          "name": "stdout",
          "text": [
            "[600]\ttrain-mae:0.69357\tvalid-mae:0.74174\n"
          ]
        },
        {
          "output_type": "stream",
          "name": "stdout",
          "text": [
            "[800]\ttrain-mae:0.65305\tvalid-mae:0.71440\n"
          ]
        },
        {
          "output_type": "stream",
          "name": "stdout",
          "text": [
            "[1000]\ttrain-mae:0.62049\tvalid-mae:0.69374\n"
          ]
        },
        {
          "output_type": "stream",
          "name": "stdout",
          "text": [
            "[1200]\ttrain-mae:0.59339\tvalid-mae:0.67836\n"
          ]
        },
        {
          "output_type": "stream",
          "name": "stdout",
          "text": [
            "[1400]\ttrain-mae:0.57007\tvalid-mae:0.66588\n"
          ]
        },
        {
          "output_type": "stream",
          "name": "stdout",
          "text": [
            "[1600]\ttrain-mae:0.54875\tvalid-mae:0.65495\n"
          ]
        },
        {
          "output_type": "stream",
          "name": "stdout",
          "text": [
            "[1800]\ttrain-mae:0.53076\tvalid-mae:0.64685\n"
          ]
        },
        {
          "output_type": "stream",
          "name": "stdout",
          "text": [
            "[2000]\ttrain-mae:0.51422\tvalid-mae:0.63982\n"
          ]
        },
        {
          "output_type": "stream",
          "name": "stdout",
          "text": [
            "[2199]\ttrain-mae:0.49896\tvalid-mae:0.63385\n"
          ]
        },
        {
          "output_type": "stream",
          "name": "stdout",
          "text": [
            "  Fold 2: n_tr=820940 n_va=205439 | MAE=0.63385 | 92.8s\n"
          ]
        },
        {
          "output_type": "stream",
          "name": "stdout",
          "text": [
            "[0]\ttrain-mae:2.56151\tvalid-mae:2.55715\n"
          ]
        },
        {
          "output_type": "stream",
          "name": "stdout",
          "text": [
            "[200]\ttrain-mae:0.85375\tvalid-mae:0.88093\n"
          ]
        },
        {
          "output_type": "stream",
          "name": "stdout",
          "text": [
            "[400]\ttrain-mae:0.75320\tvalid-mae:0.79708\n"
          ]
        },
        {
          "output_type": "stream",
          "name": "stdout",
          "text": [
            "[600]\ttrain-mae:0.69300\tvalid-mae:0.75066\n"
          ]
        },
        {
          "output_type": "stream",
          "name": "stdout",
          "text": [
            "[800]\ttrain-mae:0.65274\tvalid-mae:0.72324\n"
          ]
        },
        {
          "output_type": "stream",
          "name": "stdout",
          "text": [
            "[1000]\ttrain-mae:0.61899\tvalid-mae:0.70122\n"
          ]
        },
        {
          "output_type": "stream",
          "name": "stdout",
          "text": [
            "[1200]\ttrain-mae:0.59202\tvalid-mae:0.68531\n"
          ]
        },
        {
          "output_type": "stream",
          "name": "stdout",
          "text": [
            "[1400]\ttrain-mae:0.56842\tvalid-mae:0.67219\n"
          ]
        },
        {
          "output_type": "stream",
          "name": "stdout",
          "text": [
            "[1600]\ttrain-mae:0.54896\tvalid-mae:0.66275\n"
          ]
        },
        {
          "output_type": "stream",
          "name": "stdout",
          "text": [
            "[1800]\ttrain-mae:0.53017\tvalid-mae:0.65374\n"
          ]
        },
        {
          "output_type": "stream",
          "name": "stdout",
          "text": [
            "[2000]\ttrain-mae:0.51359\tvalid-mae:0.64657\n"
          ]
        },
        {
          "output_type": "stream",
          "name": "stdout",
          "text": [
            "[2199]\ttrain-mae:0.49870\tvalid-mae:0.64060\n"
          ]
        },
        {
          "output_type": "stream",
          "name": "stdout",
          "text": [
            "  Fold 3: n_tr=821450 n_va=204929 | MAE=0.64060 | 98.8s\n"
          ]
        },
        {
          "output_type": "stream",
          "name": "stdout",
          "text": [
            "[0]\ttrain-mae:2.56270\tvalid-mae:2.56313\n"
          ]
        },
        {
          "output_type": "stream",
          "name": "stdout",
          "text": [
            "[200]\ttrain-mae:0.85443\tvalid-mae:0.88004\n"
          ]
        },
        {
          "output_type": "stream",
          "name": "stdout",
          "text": [
            "[400]\ttrain-mae:0.74851\tvalid-mae:0.78983\n"
          ]
        },
        {
          "output_type": "stream",
          "name": "stdout",
          "text": [
            "[600]\ttrain-mae:0.69021\tvalid-mae:0.74484\n"
          ]
        },
        {
          "output_type": "stream",
          "name": "stdout",
          "text": [
            "[800]\ttrain-mae:0.64837\tvalid-mae:0.71612\n"
          ]
        },
        {
          "output_type": "stream",
          "name": "stdout",
          "text": [
            "[1000]\ttrain-mae:0.61715\tvalid-mae:0.69690\n"
          ]
        },
        {
          "output_type": "stream",
          "name": "stdout",
          "text": [
            "[1200]\ttrain-mae:0.58992\tvalid-mae:0.68124\n"
          ]
        },
        {
          "output_type": "stream",
          "name": "stdout",
          "text": [
            "[1400]\ttrain-mae:0.56634\tvalid-mae:0.66837\n"
          ]
        },
        {
          "output_type": "stream",
          "name": "stdout",
          "text": [
            "[1600]\ttrain-mae:0.54669\tvalid-mae:0.65875\n"
          ]
        },
        {
          "output_type": "stream",
          "name": "stdout",
          "text": [
            "[1800]\ttrain-mae:0.52801\tvalid-mae:0.64965\n"
          ]
        },
        {
          "output_type": "stream",
          "name": "stdout",
          "text": [
            "[2000]\ttrain-mae:0.51140\tvalid-mae:0.64239\n"
          ]
        },
        {
          "output_type": "stream",
          "name": "stdout",
          "text": [
            "[2199]\ttrain-mae:0.49560\tvalid-mae:0.63579\n"
          ]
        },
        {
          "output_type": "stream",
          "name": "stdout",
          "text": [
            "  Fold 4: n_tr=821831 n_va=204548 | MAE=0.63579 | 99.3s\n"
          ]
        },
        {
          "output_type": "stream",
          "name": "stdout",
          "text": [
            "Type 2JHC: MAE=0.638120\n"
          ]
        },
        {
          "output_type": "stream",
          "name": "stdout",
          "text": [
            "\nType 2JHH: n_train=340097 n_test=37891\n"
          ]
        },
        {
          "output_type": "stream",
          "name": "stdout",
          "text": [
            "[0]\ttrain-mae:2.43523\tvalid-mae:2.42305\n"
          ]
        },
        {
          "output_type": "stream",
          "name": "stdout",
          "text": [
            "[200]\ttrain-mae:0.41139\tvalid-mae:0.45022\n"
          ]
        },
        {
          "output_type": "stream",
          "name": "stdout",
          "text": [
            "[400]\ttrain-mae:0.35751\tvalid-mae:0.41897\n"
          ]
        },
        {
          "output_type": "stream",
          "name": "stdout",
          "text": [
            "[600]\ttrain-mae:0.32320\tvalid-mae:0.40399\n"
          ]
        },
        {
          "output_type": "stream",
          "name": "stdout",
          "text": [
            "[800]\ttrain-mae:0.29675\tvalid-mae:0.39420\n"
          ]
        },
        {
          "output_type": "stream",
          "name": "stdout",
          "text": [
            "[1000]\ttrain-mae:0.27472\tvalid-mae:0.38726\n"
          ]
        },
        {
          "output_type": "stream",
          "name": "stdout",
          "text": [
            "[1200]\ttrain-mae:0.25501\tvalid-mae:0.38115\n"
          ]
        },
        {
          "output_type": "stream",
          "name": "stdout",
          "text": [
            "[1400]\ttrain-mae:0.23830\tvalid-mae:0.37671\n"
          ]
        },
        {
          "output_type": "stream",
          "name": "stdout",
          "text": [
            "[1600]\ttrain-mae:0.22360\tvalid-mae:0.37326\n"
          ]
        },
        {
          "output_type": "stream",
          "name": "stdout",
          "text": [
            "[1800]\ttrain-mae:0.21032\tvalid-mae:0.37077\n"
          ]
        },
        {
          "output_type": "stream",
          "name": "stdout",
          "text": [
            "[2000]\ttrain-mae:0.19799\tvalid-mae:0.36830\n"
          ]
        },
        {
          "output_type": "stream",
          "name": "stdout",
          "text": [
            "[2199]\ttrain-mae:0.18716\tvalid-mae:0.36660\n"
          ]
        },
        {
          "output_type": "stream",
          "name": "stdout",
          "text": [
            "  Fold 0: n_tr=272200 n_va=67897 | MAE=0.36660 | 43.1s\n"
          ]
        },
        {
          "output_type": "stream",
          "name": "stdout",
          "text": [
            "[0]\ttrain-mae:2.43139\tvalid-mae:2.42193\n"
          ]
        },
        {
          "output_type": "stream",
          "name": "stdout",
          "text": [
            "[200]\ttrain-mae:0.41084\tvalid-mae:0.44892\n"
          ]
        },
        {
          "output_type": "stream",
          "name": "stdout",
          "text": [
            "[400]\ttrain-mae:0.35802\tvalid-mae:0.41813\n"
          ]
        },
        {
          "output_type": "stream",
          "name": "stdout",
          "text": [
            "[600]\ttrain-mae:0.32354\tvalid-mae:0.40285\n"
          ]
        },
        {
          "output_type": "stream",
          "name": "stdout",
          "text": [
            "[800]\ttrain-mae:0.29601\tvalid-mae:0.39218\n"
          ]
        },
        {
          "output_type": "stream",
          "name": "stdout",
          "text": [
            "[1000]\ttrain-mae:0.27383\tvalid-mae:0.38498\n"
          ]
        },
        {
          "output_type": "stream",
          "name": "stdout",
          "text": [
            "[1200]\ttrain-mae:0.25488\tvalid-mae:0.37959\n"
          ]
        },
        {
          "output_type": "stream",
          "name": "stdout",
          "text": [
            "[1400]\ttrain-mae:0.23823\tvalid-mae:0.37555\n"
          ]
        },
        {
          "output_type": "stream",
          "name": "stdout",
          "text": [
            "[1600]\ttrain-mae:0.22339\tvalid-mae:0.37241\n"
          ]
        },
        {
          "output_type": "stream",
          "name": "stdout",
          "text": [
            "[1800]\ttrain-mae:0.21018\tvalid-mae:0.36989\n"
          ]
        },
        {
          "output_type": "stream",
          "name": "stdout",
          "text": [
            "[2000]\ttrain-mae:0.19780\tvalid-mae:0.36785\n"
          ]
        },
        {
          "output_type": "stream",
          "name": "stdout",
          "text": [
            "[2199]\ttrain-mae:0.18684\tvalid-mae:0.36612\n"
          ]
        },
        {
          "output_type": "stream",
          "name": "stdout",
          "text": [
            "  Fold 1: n_tr=272317 n_va=67780 | MAE=0.36612 | 45.4s\n"
          ]
        },
        {
          "output_type": "stream",
          "name": "stdout",
          "text": [
            "[0]\ttrain-mae:2.42923\tvalid-mae:2.43827\n"
          ]
        },
        {
          "output_type": "stream",
          "name": "stdout",
          "text": [
            "[200]\ttrain-mae:0.41112\tvalid-mae:0.44021\n"
          ]
        },
        {
          "output_type": "stream",
          "name": "stdout",
          "text": [
            "[400]\ttrain-mae:0.35792\tvalid-mae:0.40994\n"
          ]
        },
        {
          "output_type": "stream",
          "name": "stdout",
          "text": [
            "[600]\ttrain-mae:0.32343\tvalid-mae:0.39527\n"
          ]
        },
        {
          "output_type": "stream",
          "name": "stdout",
          "text": [
            "[800]\ttrain-mae:0.29673\tvalid-mae:0.38605\n"
          ]
        },
        {
          "output_type": "stream",
          "name": "stdout",
          "text": [
            "[1000]\ttrain-mae:0.27410\tvalid-mae:0.37852\n"
          ]
        },
        {
          "output_type": "stream",
          "name": "stdout",
          "text": [
            "[1200]\ttrain-mae:0.25541\tvalid-mae:0.37356\n"
          ]
        },
        {
          "output_type": "stream",
          "name": "stdout",
          "text": [
            "[1400]\ttrain-mae:0.23866\tvalid-mae:0.36979\n"
          ]
        },
        {
          "output_type": "stream",
          "name": "stdout",
          "text": [
            "[1600]\ttrain-mae:0.22388\tvalid-mae:0.36672\n"
          ]
        },
        {
          "output_type": "stream",
          "name": "stdout",
          "text": [
            "[1800]\ttrain-mae:0.21035\tvalid-mae:0.36397\n"
          ]
        },
        {
          "output_type": "stream",
          "name": "stdout",
          "text": [
            "[2000]\ttrain-mae:0.19809\tvalid-mae:0.36201\n"
          ]
        },
        {
          "output_type": "stream",
          "name": "stdout",
          "text": [
            "[2199]\ttrain-mae:0.18700\tvalid-mae:0.36012\n"
          ]
        },
        {
          "output_type": "stream",
          "name": "stdout",
          "text": [
            "  Fold 2: n_tr=271519 n_va=68578 | MAE=0.36012 | 42.5s\n"
          ]
        },
        {
          "output_type": "stream",
          "name": "stdout",
          "text": [
            "[0]\ttrain-mae:2.42362\tvalid-mae:2.43802\n"
          ]
        },
        {
          "output_type": "stream",
          "name": "stdout",
          "text": [
            "[200]\ttrain-mae:0.40999\tvalid-mae:0.44975\n"
          ]
        },
        {
          "output_type": "stream",
          "name": "stdout",
          "text": [
            "[400]\ttrain-mae:0.35776\tvalid-mae:0.42067\n"
          ]
        },
        {
          "output_type": "stream",
          "name": "stdout",
          "text": [
            "[600]\ttrain-mae:0.32154\tvalid-mae:0.40453\n"
          ]
        },
        {
          "output_type": "stream",
          "name": "stdout",
          "text": [
            "[800]\ttrain-mae:0.29442\tvalid-mae:0.39481\n"
          ]
        },
        {
          "output_type": "stream",
          "name": "stdout",
          "text": [
            "[1000]\ttrain-mae:0.27133\tvalid-mae:0.38777\n"
          ]
        },
        {
          "output_type": "stream",
          "name": "stdout",
          "text": [
            "[1200]\ttrain-mae:0.25265\tvalid-mae:0.38302\n"
          ]
        },
        {
          "output_type": "stream",
          "name": "stdout",
          "text": [
            "[1400]\ttrain-mae:0.23604\tvalid-mae:0.37878\n"
          ]
        },
        {
          "output_type": "stream",
          "name": "stdout",
          "text": [
            "[1600]\ttrain-mae:0.22161\tvalid-mae:0.37578\n"
          ]
        },
        {
          "output_type": "stream",
          "name": "stdout",
          "text": [
            "[1800]\ttrain-mae:0.20842\tvalid-mae:0.37332\n"
          ]
        },
        {
          "output_type": "stream",
          "name": "stdout",
          "text": [
            "[2000]\ttrain-mae:0.19638\tvalid-mae:0.37102\n"
          ]
        },
        {
          "output_type": "stream",
          "name": "stdout",
          "text": [
            "[2199]\ttrain-mae:0.18548\tvalid-mae:0.36920\n"
          ]
        },
        {
          "output_type": "stream",
          "name": "stdout",
          "text": [
            "  Fold 3: n_tr=272403 n_va=67694 | MAE=0.36920 | 42.4s\n"
          ]
        },
        {
          "output_type": "stream",
          "name": "stdout",
          "text": [
            "[0]\ttrain-mae:2.43411\tvalid-mae:2.43285\n"
          ]
        },
        {
          "output_type": "stream",
          "name": "stdout",
          "text": [
            "[200]\ttrain-mae:0.40951\tvalid-mae:0.44748\n"
          ]
        },
        {
          "output_type": "stream",
          "name": "stdout",
          "text": [
            "[400]\ttrain-mae:0.35640\tvalid-mae:0.41738\n"
          ]
        },
        {
          "output_type": "stream",
          "name": "stdout",
          "text": [
            "[600]\ttrain-mae:0.32095\tvalid-mae:0.40186\n"
          ]
        },
        {
          "output_type": "stream",
          "name": "stdout",
          "text": [
            "[800]\ttrain-mae:0.29437\tvalid-mae:0.39214\n"
          ]
        },
        {
          "output_type": "stream",
          "name": "stdout",
          "text": [
            "[1000]\ttrain-mae:0.27218\tvalid-mae:0.38530\n"
          ]
        },
        {
          "output_type": "stream",
          "name": "stdout",
          "text": [
            "[1200]\ttrain-mae:0.25280\tvalid-mae:0.38007\n"
          ]
        },
        {
          "output_type": "stream",
          "name": "stdout",
          "text": [
            "[1400]\ttrain-mae:0.23632\tvalid-mae:0.37650\n"
          ]
        },
        {
          "output_type": "stream",
          "name": "stdout",
          "text": [
            "[1600]\ttrain-mae:0.22184\tvalid-mae:0.37373\n"
          ]
        },
        {
          "output_type": "stream",
          "name": "stdout",
          "text": [
            "[1800]\ttrain-mae:0.20857\tvalid-mae:0.37116\n"
          ]
        },
        {
          "output_type": "stream",
          "name": "stdout",
          "text": [
            "[2000]\ttrain-mae:0.19648\tvalid-mae:0.36895\n"
          ]
        },
        {
          "output_type": "stream",
          "name": "stdout",
          "text": [
            "[2199]\ttrain-mae:0.18556\tvalid-mae:0.36730\n"
          ]
        },
        {
          "output_type": "stream",
          "name": "stdout",
          "text": [
            "  Fold 4: n_tr=271949 n_va=68148 | MAE=0.36730 | 42.7s\n"
          ]
        },
        {
          "output_type": "stream",
          "name": "stdout",
          "text": [
            "Type 2JHH: MAE=0.365854\n"
          ]
        },
        {
          "output_type": "stream",
          "name": "stdout",
          "text": [
            "\nType 2JHN: n_train=107091 n_test=11968\n"
          ]
        },
        {
          "output_type": "stream",
          "name": "stdout",
          "text": [
            "[0]\ttrain-mae:2.70604\tvalid-mae:2.70627\n"
          ]
        },
        {
          "output_type": "stream",
          "name": "stdout",
          "text": [
            "[200]\ttrain-mae:0.29756\tvalid-mae:0.36063\n"
          ]
        },
        {
          "output_type": "stream",
          "name": "stdout",
          "text": [
            "[400]\ttrain-mae:0.23348\tvalid-mae:0.33019\n"
          ]
        },
        {
          "output_type": "stream",
          "name": "stdout",
          "text": [
            "[600]\ttrain-mae:0.19228\tvalid-mae:0.31682\n"
          ]
        },
        {
          "output_type": "stream",
          "name": "stdout",
          "text": [
            "[800]\ttrain-mae:0.16288\tvalid-mae:0.30913\n"
          ]
        },
        {
          "output_type": "stream",
          "name": "stdout",
          "text": [
            "[1000]\ttrain-mae:0.13957\tvalid-mae:0.30425\n"
          ]
        },
        {
          "output_type": "stream",
          "name": "stdout",
          "text": [
            "[1200]\ttrain-mae:0.12090\tvalid-mae:0.30076\n"
          ]
        },
        {
          "output_type": "stream",
          "name": "stdout",
          "text": [
            "[1400]\ttrain-mae:0.10520\tvalid-mae:0.29785\n"
          ]
        },
        {
          "output_type": "stream",
          "name": "stdout",
          "text": [
            "[1600]\ttrain-mae:0.09208\tvalid-mae:0.29615\n"
          ]
        },
        {
          "output_type": "stream",
          "name": "stdout",
          "text": [
            "[1800]\ttrain-mae:0.08087\tvalid-mae:0.29463\n"
          ]
        },
        {
          "output_type": "stream",
          "name": "stdout",
          "text": [
            "[2000]\ttrain-mae:0.07130\tvalid-mae:0.29332\n"
          ]
        },
        {
          "output_type": "stream",
          "name": "stdout",
          "text": [
            "[2199]\ttrain-mae:0.06306\tvalid-mae:0.29244\n"
          ]
        },
        {
          "output_type": "stream",
          "name": "stdout",
          "text": [
            "  Fold 0: n_tr=86036 n_va=21055 | MAE=0.29243 | 24.2s\n"
          ]
        },
        {
          "output_type": "stream",
          "name": "stdout",
          "text": [
            "[0]\ttrain-mae:2.70776\tvalid-mae:2.68996\n"
          ]
        },
        {
          "output_type": "stream",
          "name": "stdout",
          "text": [
            "[200]\ttrain-mae:0.30005\tvalid-mae:0.36195\n"
          ]
        },
        {
          "output_type": "stream",
          "name": "stdout",
          "text": [
            "[400]\ttrain-mae:0.23428\tvalid-mae:0.33072\n"
          ]
        },
        {
          "output_type": "stream",
          "name": "stdout",
          "text": [
            "[600]\ttrain-mae:0.19173\tvalid-mae:0.31586\n"
          ]
        },
        {
          "output_type": "stream",
          "name": "stdout",
          "text": [
            "[800]\ttrain-mae:0.16174\tvalid-mae:0.30868\n"
          ]
        },
        {
          "output_type": "stream",
          "name": "stdout",
          "text": [
            "[1000]\ttrain-mae:0.13810\tvalid-mae:0.30385\n"
          ]
        },
        {
          "output_type": "stream",
          "name": "stdout",
          "text": [
            "[1200]\ttrain-mae:0.11912\tvalid-mae:0.30016\n"
          ]
        },
        {
          "output_type": "stream",
          "name": "stdout",
          "text": [
            "[1400]\ttrain-mae:0.10320\tvalid-mae:0.29754\n"
          ]
        },
        {
          "output_type": "stream",
          "name": "stdout",
          "text": [
            "[1600]\ttrain-mae:0.09015\tvalid-mae:0.29552\n"
          ]
        },
        {
          "output_type": "stream",
          "name": "stdout",
          "text": [
            "[1800]\ttrain-mae:0.07927\tvalid-mae:0.29398\n"
          ]
        },
        {
          "output_type": "stream",
          "name": "stdout",
          "text": [
            "[2000]\ttrain-mae:0.06996\tvalid-mae:0.29291\n"
          ]
        },
        {
          "output_type": "stream",
          "name": "stdout",
          "text": [
            "[2199]\ttrain-mae:0.06175\tvalid-mae:0.29183\n"
          ]
        },
        {
          "output_type": "stream",
          "name": "stdout",
          "text": [
            "  Fold 1: n_tr=85812 n_va=21279 | MAE=0.29183 | 24.6s\n"
          ]
        },
        {
          "output_type": "stream",
          "name": "stdout",
          "text": [
            "[0]\ttrain-mae:2.70424\tvalid-mae:2.71948\n"
          ]
        },
        {
          "output_type": "stream",
          "name": "stdout",
          "text": [
            "[200]\ttrain-mae:0.30455\tvalid-mae:0.36435\n"
          ]
        },
        {
          "output_type": "stream",
          "name": "stdout",
          "text": [
            "[400]\ttrain-mae:0.23594\tvalid-mae:0.33007\n"
          ]
        },
        {
          "output_type": "stream",
          "name": "stdout",
          "text": [
            "[600]\ttrain-mae:0.19422\tvalid-mae:0.31553\n"
          ]
        },
        {
          "output_type": "stream",
          "name": "stdout",
          "text": [
            "[800]\ttrain-mae:0.16263\tvalid-mae:0.30600\n"
          ]
        },
        {
          "output_type": "stream",
          "name": "stdout",
          "text": [
            "[1000]\ttrain-mae:0.13923\tvalid-mae:0.30096\n"
          ]
        },
        {
          "output_type": "stream",
          "name": "stdout",
          "text": [
            "[1200]\ttrain-mae:0.12040\tvalid-mae:0.29723\n"
          ]
        },
        {
          "output_type": "stream",
          "name": "stdout",
          "text": [
            "[1400]\ttrain-mae:0.10497\tvalid-mae:0.29505\n"
          ]
        },
        {
          "output_type": "stream",
          "name": "stdout",
          "text": [
            "[1600]\ttrain-mae:0.09173\tvalid-mae:0.29302\n"
          ]
        },
        {
          "output_type": "stream",
          "name": "stdout",
          "text": [
            "[1800]\ttrain-mae:0.08048\tvalid-mae:0.29187\n"
          ]
        },
        {
          "output_type": "stream",
          "name": "stdout",
          "text": [
            "[2000]\ttrain-mae:0.07093\tvalid-mae:0.29066\n"
          ]
        },
        {
          "output_type": "stream",
          "name": "stdout",
          "text": [
            "[2199]\ttrain-mae:0.06271\tvalid-mae:0.28981\n"
          ]
        },
        {
          "output_type": "stream",
          "name": "stdout",
          "text": [
            "  Fold 2: n_tr=85603 n_va=21488 | MAE=0.28981 | 25.3s\n"
          ]
        },
        {
          "output_type": "stream",
          "name": "stdout",
          "text": [
            "[0]\ttrain-mae:2.70841\tvalid-mae:2.70839\n"
          ]
        },
        {
          "output_type": "stream",
          "name": "stdout",
          "text": [
            "[200]\ttrain-mae:0.29942\tvalid-mae:0.36196\n"
          ]
        },
        {
          "output_type": "stream",
          "name": "stdout",
          "text": [
            "[400]\ttrain-mae:0.23022\tvalid-mae:0.32694\n"
          ]
        },
        {
          "output_type": "stream",
          "name": "stdout",
          "text": [
            "[600]\ttrain-mae:0.18917\tvalid-mae:0.31292\n"
          ]
        },
        {
          "output_type": "stream",
          "name": "stdout",
          "text": [
            "[800]\ttrain-mae:0.15929\tvalid-mae:0.30432\n"
          ]
        },
        {
          "output_type": "stream",
          "name": "stdout",
          "text": [
            "[1000]\ttrain-mae:0.13635\tvalid-mae:0.29931\n"
          ]
        },
        {
          "output_type": "stream",
          "name": "stdout",
          "text": [
            "[1200]\ttrain-mae:0.11807\tvalid-mae:0.29587\n"
          ]
        },
        {
          "output_type": "stream",
          "name": "stdout",
          "text": [
            "[1400]\ttrain-mae:0.10282\tvalid-mae:0.29328\n"
          ]
        },
        {
          "output_type": "stream",
          "name": "stdout",
          "text": [
            "[1600]\ttrain-mae:0.08974\tvalid-mae:0.29127\n"
          ]
        },
        {
          "output_type": "stream",
          "name": "stdout",
          "text": [
            "[1800]\ttrain-mae:0.07895\tvalid-mae:0.28979\n"
          ]
        },
        {
          "output_type": "stream",
          "name": "stdout",
          "text": [
            "[2000]\ttrain-mae:0.06964\tvalid-mae:0.28871\n"
          ]
        },
        {
          "output_type": "stream",
          "name": "stdout",
          "text": [
            "[2199]\ttrain-mae:0.06174\tvalid-mae:0.28793\n"
          ]
        },
        {
          "output_type": "stream",
          "name": "stdout",
          "text": [
            "  Fold 3: n_tr=85301 n_va=21790 | MAE=0.28793 | 24.1s\n"
          ]
        },
        {
          "output_type": "stream",
          "name": "stdout",
          "text": [
            "[0]\ttrain-mae:2.70553\tvalid-mae:2.71243\n"
          ]
        },
        {
          "output_type": "stream",
          "name": "stdout",
          "text": [
            "[200]\ttrain-mae:0.30061\tvalid-mae:0.36955\n"
          ]
        },
        {
          "output_type": "stream",
          "name": "stdout",
          "text": [
            "[400]\ttrain-mae:0.23324\tvalid-mae:0.33523\n"
          ]
        },
        {
          "output_type": "stream",
          "name": "stdout",
          "text": [
            "[600]\ttrain-mae:0.19281\tvalid-mae:0.32256\n"
          ]
        },
        {
          "output_type": "stream",
          "name": "stdout",
          "text": [
            "[800]\ttrain-mae:0.16246\tvalid-mae:0.31429\n"
          ]
        },
        {
          "output_type": "stream",
          "name": "stdout",
          "text": [
            "[1000]\ttrain-mae:0.13858\tvalid-mae:0.30881\n"
          ]
        },
        {
          "output_type": "stream",
          "name": "stdout",
          "text": [
            "[1200]\ttrain-mae:0.11957\tvalid-mae:0.30523\n"
          ]
        },
        {
          "output_type": "stream",
          "name": "stdout",
          "text": [
            "[1400]\ttrain-mae:0.10371\tvalid-mae:0.30261\n"
          ]
        },
        {
          "output_type": "stream",
          "name": "stdout",
          "text": [
            "[1600]\ttrain-mae:0.09047\tvalid-mae:0.30043\n"
          ]
        },
        {
          "output_type": "stream",
          "name": "stdout",
          "text": [
            "[1800]\ttrain-mae:0.07946\tvalid-mae:0.29882\n"
          ]
        },
        {
          "output_type": "stream",
          "name": "stdout",
          "text": [
            "[2000]\ttrain-mae:0.06994\tvalid-mae:0.29773\n"
          ]
        },
        {
          "output_type": "stream",
          "name": "stdout",
          "text": [
            "[2199]\ttrain-mae:0.06179\tvalid-mae:0.29674\n"
          ]
        },
        {
          "output_type": "stream",
          "name": "stdout",
          "text": [
            "  Fold 4: n_tr=85612 n_va=21479 | MAE=0.29674 | 24.4s\n"
          ]
        },
        {
          "output_type": "stream",
          "name": "stdout",
          "text": [
            "Type 2JHN: MAE=0.291732\n"
          ]
        },
        {
          "output_type": "stream",
          "name": "stdout",
          "text": [
            "\nType 3JHC: n_train=1359077 n_test=152130\n"
          ]
        },
        {
          "output_type": "stream",
          "name": "stdout",
          "text": [
            "[0]\ttrain-mae:2.31710\tvalid-mae:2.31956\n"
          ]
        },
        {
          "output_type": "stream",
          "name": "stdout",
          "text": [
            "[200]\ttrain-mae:0.80764\tvalid-mae:0.83069\n"
          ]
        },
        {
          "output_type": "stream",
          "name": "stdout",
          "text": [
            "[400]\ttrain-mae:0.72722\tvalid-mae:0.76169\n"
          ]
        },
        {
          "output_type": "stream",
          "name": "stdout",
          "text": [
            "[600]\ttrain-mae:0.67400\tvalid-mae:0.71854\n"
          ]
        },
        {
          "output_type": "stream",
          "name": "stdout",
          "text": [
            "[800]\ttrain-mae:0.63755\tvalid-mae:0.69130\n"
          ]
        },
        {
          "output_type": "stream",
          "name": "stdout",
          "text": [
            "[1000]\ttrain-mae:0.60907\tvalid-mae:0.67156\n"
          ]
        },
        {
          "output_type": "stream",
          "name": "stdout",
          "text": [
            "[1200]\ttrain-mae:0.58565\tvalid-mae:0.65644\n"
          ]
        },
        {
          "output_type": "stream",
          "name": "stdout",
          "text": [
            "[1400]\ttrain-mae:0.56510\tvalid-mae:0.64382\n"
          ]
        },
        {
          "output_type": "stream",
          "name": "stdout",
          "text": [
            "[1600]\ttrain-mae:0.54718\tvalid-mae:0.63364\n"
          ]
        },
        {
          "output_type": "stream",
          "name": "stdout",
          "text": [
            "[1800]\ttrain-mae:0.53136\tvalid-mae:0.62543\n"
          ]
        },
        {
          "output_type": "stream",
          "name": "stdout",
          "text": [
            "[2000]\ttrain-mae:0.51669\tvalid-mae:0.61784\n"
          ]
        },
        {
          "output_type": "stream",
          "name": "stdout",
          "text": [
            "[2199]\ttrain-mae:0.50368\tvalid-mae:0.61183\n"
          ]
        },
        {
          "output_type": "stream",
          "name": "stdout",
          "text": [
            "  Fold 0: n_tr=1086760 n_va=272317 | MAE=0.61183 | 118.8s\n"
          ]
        },
        {
          "output_type": "stream",
          "name": "stdout",
          "text": [
            "[0]\ttrain-mae:2.31542\tvalid-mae:2.32810\n"
          ]
        },
        {
          "output_type": "stream",
          "name": "stdout",
          "text": [
            "[200]\ttrain-mae:0.81375\tvalid-mae:0.83272\n"
          ]
        },
        {
          "output_type": "stream",
          "name": "stdout",
          "text": [
            "[400]\ttrain-mae:0.72170\tvalid-mae:0.75255\n"
          ]
        },
        {
          "output_type": "stream",
          "name": "stdout",
          "text": [
            "[600]\ttrain-mae:0.67301\tvalid-mae:0.71435\n"
          ]
        },
        {
          "output_type": "stream",
          "name": "stdout",
          "text": [
            "[800]\ttrain-mae:0.63705\tvalid-mae:0.68813\n"
          ]
        },
        {
          "output_type": "stream",
          "name": "stdout",
          "text": [
            "[1000]\ttrain-mae:0.60866\tvalid-mae:0.66868\n"
          ]
        },
        {
          "output_type": "stream",
          "name": "stdout",
          "text": [
            "[1200]\ttrain-mae:0.58357\tvalid-mae:0.65209\n"
          ]
        },
        {
          "output_type": "stream",
          "name": "stdout",
          "text": [
            "[1400]\ttrain-mae:0.56445\tvalid-mae:0.64114\n"
          ]
        },
        {
          "output_type": "stream",
          "name": "stdout",
          "text": [
            "[1600]\ttrain-mae:0.54716\tvalid-mae:0.63176\n"
          ]
        },
        {
          "output_type": "stream",
          "name": "stdout",
          "text": [
            "[1800]\ttrain-mae:0.53193\tvalid-mae:0.62395\n"
          ]
        },
        {
          "output_type": "stream",
          "name": "stdout",
          "text": [
            "[2000]\ttrain-mae:0.51686\tvalid-mae:0.61603\n"
          ]
        },
        {
          "output_type": "stream",
          "name": "stdout",
          "text": [
            "[2199]\ttrain-mae:0.50436\tvalid-mae:0.61060\n"
          ]
        },
        {
          "output_type": "stream",
          "name": "stdout",
          "text": [
            "  Fold 1: n_tr=1086685 n_va=272392 | MAE=0.61060 | 118.5s\n"
          ]
        },
        {
          "output_type": "stream",
          "name": "stdout",
          "text": [
            "[0]\ttrain-mae:2.31876\tvalid-mae:2.31690\n"
          ]
        },
        {
          "output_type": "stream",
          "name": "stdout",
          "text": [
            "[200]\ttrain-mae:0.80753\tvalid-mae:0.81491\n"
          ]
        },
        {
          "output_type": "stream",
          "name": "stdout",
          "text": [
            "[400]\ttrain-mae:0.72510\tvalid-mae:0.74540\n"
          ]
        },
        {
          "output_type": "stream",
          "name": "stdout",
          "text": [
            "[600]\ttrain-mae:0.67378\tvalid-mae:0.70519\n"
          ]
        },
        {
          "output_type": "stream",
          "name": "stdout",
          "text": [
            "[800]\ttrain-mae:0.63739\tvalid-mae:0.67887\n"
          ]
        },
        {
          "output_type": "stream",
          "name": "stdout",
          "text": [
            "[1000]\ttrain-mae:0.60927\tvalid-mae:0.66038\n"
          ]
        },
        {
          "output_type": "stream",
          "name": "stdout",
          "text": [
            "[1200]\ttrain-mae:0.58587\tvalid-mae:0.64567\n"
          ]
        },
        {
          "output_type": "stream",
          "name": "stdout",
          "text": [
            "[1400]\ttrain-mae:0.56493\tvalid-mae:0.63302\n"
          ]
        },
        {
          "output_type": "stream",
          "name": "stdout",
          "text": [
            "[1600]\ttrain-mae:0.54835\tvalid-mae:0.62440\n"
          ]
        },
        {
          "output_type": "stream",
          "name": "stdout",
          "text": [
            "[1800]\ttrain-mae:0.53204\tvalid-mae:0.61567\n"
          ]
        },
        {
          "output_type": "stream",
          "name": "stdout",
          "text": [
            "[2000]\ttrain-mae:0.51719\tvalid-mae:0.60821\n"
          ]
        },
        {
          "output_type": "stream",
          "name": "stdout",
          "text": [
            "[2199]\ttrain-mae:0.50415\tvalid-mae:0.60224\n"
          ]
        },
        {
          "output_type": "stream",
          "name": "stdout",
          "text": [
            "  Fold 2: n_tr=1086834 n_va=272243 | MAE=0.60224 | 120.3s\n"
          ]
        },
        {
          "output_type": "stream",
          "name": "stdout",
          "text": [
            "[0]\ttrain-mae:2.31892\tvalid-mae:2.31528\n"
          ]
        },
        {
          "output_type": "stream",
          "name": "stdout",
          "text": [
            "[200]\ttrain-mae:0.80598\tvalid-mae:0.82411\n"
          ]
        },
        {
          "output_type": "stream",
          "name": "stdout",
          "text": [
            "[400]\ttrain-mae:0.72185\tvalid-mae:0.75208\n"
          ]
        },
        {
          "output_type": "stream",
          "name": "stdout",
          "text": [
            "[600]\ttrain-mae:0.67533\tvalid-mae:0.71604\n"
          ]
        },
        {
          "output_type": "stream",
          "name": "stdout",
          "text": [
            "[800]\ttrain-mae:0.63730\tvalid-mae:0.68720\n"
          ]
        },
        {
          "output_type": "stream",
          "name": "stdout",
          "text": [
            "[1000]\ttrain-mae:0.60968\tvalid-mae:0.66838\n"
          ]
        },
        {
          "output_type": "stream",
          "name": "stdout",
          "text": [
            "[1200]\ttrain-mae:0.58493\tvalid-mae:0.65231\n"
          ]
        },
        {
          "output_type": "stream",
          "name": "stdout",
          "text": [
            "[1400]\ttrain-mae:0.56431\tvalid-mae:0.63985\n"
          ]
        },
        {
          "output_type": "stream",
          "name": "stdout",
          "text": [
            "[1600]\ttrain-mae:0.54717\tvalid-mae:0.63067\n"
          ]
        },
        {
          "output_type": "stream",
          "name": "stdout",
          "text": [
            "[1800]\ttrain-mae:0.53120\tvalid-mae:0.62212\n"
          ]
        },
        {
          "output_type": "stream",
          "name": "stdout",
          "text": [
            "[2000]\ttrain-mae:0.51649\tvalid-mae:0.61492\n"
          ]
        },
        {
          "output_type": "stream",
          "name": "stdout",
          "text": [
            "[2199]\ttrain-mae:0.50381\tvalid-mae:0.60947\n"
          ]
        },
        {
          "output_type": "stream",
          "name": "stdout",
          "text": [
            "  Fold 3: n_tr=1088563 n_va=270514 | MAE=0.60947 | 113.2s\n"
          ]
        },
        {
          "output_type": "stream",
          "name": "stdout",
          "text": [
            "[0]\ttrain-mae:2.32018\tvalid-mae:2.31119\n"
          ]
        },
        {
          "output_type": "stream",
          "name": "stdout",
          "text": [
            "[200]\ttrain-mae:0.80316\tvalid-mae:0.82760\n"
          ]
        },
        {
          "output_type": "error",
          "ename": "KeyboardInterrupt",
          "evalue": "",
          "traceback": [
            "\u001b[31m---------------------------------------------------------------------------\u001b[39m",
            "\u001b[31mKeyboardInterrupt\u001b[39m                         Traceback (most recent call last)",
            "\u001b[36mCell\u001b[39m\u001b[36m \u001b[39m\u001b[32mIn[10]\u001b[39m\u001b[32m, line 106\u001b[39m\n\u001b[32m    104\u001b[39m dvalid = xgb.DMatrix(X_t.iloc[va_loc_local, :], label=y_t[va_loc_local])\n\u001b[32m    105\u001b[39m evals = [(dtrain, \u001b[33m'\u001b[39m\u001b[33mtrain\u001b[39m\u001b[33m'\u001b[39m), (dvalid, \u001b[33m'\u001b[39m\u001b[33mvalid\u001b[39m\u001b[33m'\u001b[39m)]\n\u001b[32m--> \u001b[39m\u001b[32m106\u001b[39m bst = \u001b[43mxgb\u001b[49m\u001b[43m.\u001b[49m\u001b[43mtrain\u001b[49m\u001b[43m(\u001b[49m\n\u001b[32m    107\u001b[39m \u001b[43m    \u001b[49m\u001b[43mparams\u001b[49m\u001b[43m=\u001b[49m\u001b[43mxgb_params\u001b[49m\u001b[43m,\u001b[49m\n\u001b[32m    108\u001b[39m \u001b[43m    \u001b[49m\u001b[43mdtrain\u001b[49m\u001b[43m=\u001b[49m\u001b[43mdtrain\u001b[49m\u001b[43m,\u001b[49m\n\u001b[32m    109\u001b[39m \u001b[43m    \u001b[49m\u001b[43mnum_boost_round\u001b[49m\u001b[43m=\u001b[49m\u001b[43mnum_boost_round\u001b[49m\u001b[43m,\u001b[49m\n\u001b[32m    110\u001b[39m \u001b[43m    \u001b[49m\u001b[43mevals\u001b[49m\u001b[43m=\u001b[49m\u001b[43mevals\u001b[49m\u001b[43m,\u001b[49m\n\u001b[32m    111\u001b[39m \u001b[43m    \u001b[49m\u001b[43mearly_stopping_rounds\u001b[49m\u001b[43m=\u001b[49m\u001b[43mearly_stopping_rounds\u001b[49m\u001b[43m,\u001b[49m\n\u001b[32m    112\u001b[39m \u001b[43m    \u001b[49m\u001b[43mverbose_eval\u001b[49m\u001b[43m=\u001b[49m\u001b[32;43m200\u001b[39;49m\n\u001b[32m    113\u001b[39m \u001b[43m\u001b[49m\u001b[43m)\u001b[49m\n\u001b[32m    114\u001b[39m best_iter = bst.best_iteration \u001b[38;5;28;01mif\u001b[39;00m \u001b[38;5;28mhasattr\u001b[39m(bst, \u001b[33m'\u001b[39m\u001b[33mbest_iteration\u001b[39m\u001b[33m'\u001b[39m) \u001b[38;5;129;01mand\u001b[39;00m bst.best_iteration \u001b[38;5;129;01mis\u001b[39;00m \u001b[38;5;129;01mnot\u001b[39;00m \u001b[38;5;28;01mNone\u001b[39;00m \u001b[38;5;28;01melse\u001b[39;00m bst.best_ntree_limit - \u001b[32m1\u001b[39m\n\u001b[32m    115\u001b[39m oof_t[va_loc_local] = bst.predict(dvalid, iteration_range=(\u001b[32m0\u001b[39m, \u001b[38;5;28mint\u001b[39m(best_iter)+\u001b[32m1\u001b[39m)).astype(\u001b[33m'\u001b[39m\u001b[33mfloat32\u001b[39m\u001b[33m'\u001b[39m)\n",
            "\u001b[36mFile \u001b[39m\u001b[32m/usr/local/lib/python3.11/dist-packages/xgboost/core.py:726\u001b[39m, in \u001b[36mrequire_keyword_args.<locals>.throw_if.<locals>.inner_f\u001b[39m\u001b[34m(*args, **kwargs)\u001b[39m\n\u001b[32m    724\u001b[39m \u001b[38;5;28;01mfor\u001b[39;00m k, arg \u001b[38;5;129;01min\u001b[39;00m \u001b[38;5;28mzip\u001b[39m(sig.parameters, args):\n\u001b[32m    725\u001b[39m     kwargs[k] = arg\n\u001b[32m--> \u001b[39m\u001b[32m726\u001b[39m \u001b[38;5;28;01mreturn\u001b[39;00m \u001b[43mfunc\u001b[49m\u001b[43m(\u001b[49m\u001b[43m*\u001b[49m\u001b[43m*\u001b[49m\u001b[43mkwargs\u001b[49m\u001b[43m)\u001b[49m\n",
            "\u001b[36mFile \u001b[39m\u001b[32m/usr/local/lib/python3.11/dist-packages/xgboost/training.py:181\u001b[39m, in \u001b[36mtrain\u001b[39m\u001b[34m(params, dtrain, num_boost_round, evals, obj, feval, maximize, early_stopping_rounds, evals_result, verbose_eval, xgb_model, callbacks, custom_metric)\u001b[39m\n\u001b[32m    179\u001b[39m \u001b[38;5;28;01mif\u001b[39;00m cb_container.before_iteration(bst, i, dtrain, evals):\n\u001b[32m    180\u001b[39m     \u001b[38;5;28;01mbreak\u001b[39;00m\n\u001b[32m--> \u001b[39m\u001b[32m181\u001b[39m \u001b[43mbst\u001b[49m\u001b[43m.\u001b[49m\u001b[43mupdate\u001b[49m\u001b[43m(\u001b[49m\u001b[43mdtrain\u001b[49m\u001b[43m,\u001b[49m\u001b[43m \u001b[49m\u001b[43miteration\u001b[49m\u001b[43m=\u001b[49m\u001b[43mi\u001b[49m\u001b[43m,\u001b[49m\u001b[43m \u001b[49m\u001b[43mfobj\u001b[49m\u001b[43m=\u001b[49m\u001b[43mobj\u001b[49m\u001b[43m)\u001b[49m\n\u001b[32m    182\u001b[39m \u001b[38;5;28;01mif\u001b[39;00m cb_container.after_iteration(bst, i, dtrain, evals):\n\u001b[32m    183\u001b[39m     \u001b[38;5;28;01mbreak\u001b[39;00m\n",
            "\u001b[36mFile \u001b[39m\u001b[32m/usr/local/lib/python3.11/dist-packages/xgboost/core.py:2101\u001b[39m, in \u001b[36mBooster.update\u001b[39m\u001b[34m(self, dtrain, iteration, fobj)\u001b[39m\n\u001b[32m   2097\u001b[39m \u001b[38;5;28mself\u001b[39m._assign_dmatrix_features(dtrain)\n\u001b[32m   2099\u001b[39m \u001b[38;5;28;01mif\u001b[39;00m fobj \u001b[38;5;129;01mis\u001b[39;00m \u001b[38;5;28;01mNone\u001b[39;00m:\n\u001b[32m   2100\u001b[39m     _check_call(\n\u001b[32m-> \u001b[39m\u001b[32m2101\u001b[39m         \u001b[43m_LIB\u001b[49m\u001b[43m.\u001b[49m\u001b[43mXGBoosterUpdateOneIter\u001b[49m\u001b[43m(\u001b[49m\n\u001b[32m   2102\u001b[39m \u001b[43m            \u001b[49m\u001b[38;5;28;43mself\u001b[39;49m\u001b[43m.\u001b[49m\u001b[43mhandle\u001b[49m\u001b[43m,\u001b[49m\u001b[43m \u001b[49m\u001b[43mctypes\u001b[49m\u001b[43m.\u001b[49m\u001b[43mc_int\u001b[49m\u001b[43m(\u001b[49m\u001b[43miteration\u001b[49m\u001b[43m)\u001b[49m\u001b[43m,\u001b[49m\u001b[43m \u001b[49m\u001b[43mdtrain\u001b[49m\u001b[43m.\u001b[49m\u001b[43mhandle\u001b[49m\n\u001b[32m   2103\u001b[39m \u001b[43m        \u001b[49m\u001b[43m)\u001b[49m\n\u001b[32m   2104\u001b[39m     )\n\u001b[32m   2105\u001b[39m \u001b[38;5;28;01melse\u001b[39;00m:\n\u001b[32m   2106\u001b[39m     pred = \u001b[38;5;28mself\u001b[39m.predict(dtrain, output_margin=\u001b[38;5;28;01mTrue\u001b[39;00m, training=\u001b[38;5;28;01mTrue\u001b[39;00m)\n",
            "\u001b[31mKeyboardInterrupt\u001b[39m: "
          ]
        }
      ]
    },
    {
      "id": "40b58c68-1c68-4819-b08b-c17b02c077b1",
      "cell_type": "code",
      "metadata": {},
      "source": [
        "# FE v1: path_len + neighbor features + molecule-level joins (potential_energy, dipole)\n",
        "import numpy as np, pandas as pd, time, math\n",
        "\n",
        "R_COV = {1:0.31, 6:0.76, 7:0.71, 8:0.66, 9:0.57}  # H,C,N,O,F\n",
        "BOND_SCALE = 1.15\n",
        "\n",
        "def _bfs_depth_limited(adj: np.ndarray, src: int, max_depth: int = 4) -> np.ndarray:\n",
        "    n = adj.shape[0]\n",
        "    dist = np.full(n, -1, dtype=np.int16)\n",
        "    q = [src]\n",
        "    dist[src] = 0\n",
        "    head = 0\n",
        "    while head < len(q):\n",
        "        u = q[head]; head += 1\n",
        "        du = int(dist[u])\n",
        "        if du >= max_depth:\n",
        "            continue\n",
        "        nbrs = np.nonzero(adj[u])[0]\n",
        "        for v in nbrs:\n",
        "            if dist[v] == -1:\n",
        "                dist[v] = du + 1\n",
        "                if dist[v] < max_depth:\n",
        "                    q.append(int(v))\n",
        "    return dist\n",
        "\n",
        "def _build_molecule_cache(structures: pd.DataFrame, mol_names: np.ndarray):\n",
        "    t0 = time.time()\n",
        "    cache = {}\n",
        "    s = structures[['molecule_name','atom_index','x','y','z','atom']].copy()\n",
        "    s['Z'] = s['atom'].map({'H':1,'C':6,'N':7,'O':8,'F':9}).astype('int16')\n",
        "    grp = s.groupby('molecule_name')\n",
        "    found = 0\n",
        "    for m in mol_names:\n",
        "        if m not in grp.groups:\n",
        "            continue\n",
        "        dfm = grp.get_group(m).sort_values('atom_index')\n",
        "        coords = dfm[['x','y','z']].to_numpy(dtype=np.float32)\n",
        "        Z = dfm['Z'].to_numpy(dtype=np.int16)\n",
        "        cache[m] = (coords, Z)\n",
        "        found += 1\n",
        "    print(f'Built molecule cache for {found}/{len(mol_names)} molecules in {time.time()-t0:.1f}s', flush=True)\n",
        "    return cache\n",
        "\n",
        "def _compute_per_molecule_features_targeted(coords, Z, rows, max_depth: int = 4):\n",
        "    # rows: DataFrame slice with columns atom_index_0, atom_index_1 and index_ref\n",
        "    n = coords.shape[0]\n",
        "    # pairwise distances (for nearest neighbor + angle proxies)\n",
        "    diff = coords[:, None, :] - coords[None, :, :]\n",
        "    D = np.sqrt(np.sum(diff*diff, axis=2, dtype=np.float32)).astype(np.float32)\n",
        "    D_no_self = D + np.eye(n, dtype=np.float32)*1e9\n",
        "    nn_idx = np.argmin(D_no_self, axis=1).astype(np.int32)\n",
        "    nn_dist = D_no_self[np.arange(n), nn_idx].astype(np.float32)\n",
        "    # adjacency by covalent radii\n",
        "    rc = np.vectorize(lambda z: R_COV.get(int(z), 0.7), otypes=[np.float32])(Z).astype(np.float32)\n",
        "    thr = (rc[:, None] + rc[None, :]).astype(np.float32) * BOND_SCALE\n",
        "    adj = (D > 0) & (D < thr)\n",
        "    adj = adj.astype(np.uint8)\n",
        "    np.fill_diagonal(adj, 0)\n",
        "    # Prepare outputs\n",
        "    a0 = rows['atom_index_0'].to_numpy(dtype=np.int32)\n",
        "    a1 = rows['atom_index_1'].to_numpy(dtype=np.int32)\n",
        "    pl = np.full(len(rows), -1, dtype=np.int16)\n",
        "    # Targeted BFS: for each unique source among a0, compute dist once (depth-limited)\n",
        "    unique_srcs = np.unique(a0)\n",
        "    for src in unique_srcs:\n",
        "        if src < 0 or src >= n:\n",
        "            continue\n",
        "        dist = _bfs_depth_limited(adj, int(src), max_depth=max_depth)\n",
        "        mask = (a0 == src)\n",
        "        targets = a1[mask]\n",
        "        # Safe lookup\n",
        "        valid = (targets >= 0) & (targets < n)\n",
        "        if valid.any():\n",
        "            vals = dist[targets[valid]]\n",
        "            idxs = np.flatnonzero(mask)[valid]\n",
        "            pl[idxs] = vals.astype(np.int16, copy=False)\n",
        "    # inv_path and flags\n",
        "    pl_clip = np.where(pl < 0, 0, pl).astype(np.float32)\n",
        "    inv_path = (1.0/(1.0+pl_clip)).astype(np.float32)\n",
        "    is_bonded = (pl == 1).astype(np.int8)\n",
        "    # nearest-neighbor distances for endpoints\n",
        "    min_nb_d0 = nn_dist[a0].astype(np.float32)\n",
        "    min_nb_d1 = nn_dist[a1].astype(np.float32)\n",
        "    # angle proxies using nearest neighbor at each end\n",
        "    eps = 1e-8\n",
        "    nb0 = nn_idx[a0]\n",
        "    nb1 = nn_idx[a1]\n",
        "    v0_nb = coords[nb0] - coords[a0]\n",
        "    v0_1  = coords[a1] - coords[a0]\n",
        "    v1_nb = coords[nb1] - coords[a1]\n",
        "    v1_0  = coords[a0] - coords[a1]\n",
        "    def _cos(u, v):\n",
        "        nu = np.linalg.norm(u, axis=1) + eps\n",
        "        nv = np.linalg.norm(v, axis=1) + eps\n",
        "        return (np.sum(u*v, axis=1)/ (nu*nv)).astype(np.float32)\n",
        "    cos0 = _cos(v0_nb, v0_1)\n",
        "    cos1 = _cos(v1_nb, v1_0)\n",
        "    return {\n",
        "        'path_len': pl,\n",
        "        'inv_path': inv_path,\n",
        "        'is_bonded': is_bonded,\n",
        "        'min_nb_d0': min_nb_d0,\n",
        "        'min_nb_d1': min_nb_d1,\n",
        "        'cos0': cos0,\n",
        "        'cos1': cos1,\n",
        "    }\n",
        "\n",
        "def add_graph_and_molecule_features(X_train: pd.DataFrame, X_test: pd.DataFrame, structures: pd.DataFrame) -> tuple[pd.DataFrame, pd.DataFrame]:\n",
        "    t0 = time.time()\n",
        "    pairs = pd.concat([\n",
        "        X_train[['molecule_name','atom_index_0','atom_index_1']].assign(_src='train', _idx=np.arange(len(X_train))),\n",
        "        X_test[['molecule_name','atom_index_0','atom_index_1']].assign(_src='test',  _idx=np.arange(len(X_test)))\n",
        "    ], ignore_index=True)\n",
        "    mols = pairs['molecule_name'].unique()\n",
        "    cache = _build_molecule_cache(structures, mols)\n",
        "    # Prepare output containers\n",
        "    out_cols = ['path_len','inv_path','is_bonded','min_nb_d0','min_nb_d1','cos0','cos1']\n",
        "    add_train = {c: np.zeros(len(X_train), dtype=np.float32) for c in out_cols}\n",
        "    add_test  = {c: np.zeros(len(X_test), dtype=np.float32) for c in out_cols}\n",
        "    add_train['path_len'] = np.full(len(X_train), -1, dtype=np.int16)\n",
        "    add_test['path_len']  = np.full(len(X_test), -1, dtype=np.int16)\n",
        "    add_train['is_bonded']= np.zeros(len(X_train), dtype=np.int8)\n",
        "    add_test['is_bonded'] = np.zeros(len(X_test), dtype=np.int8)\n",
        "    # Iterate per molecule\n",
        "    g = pairs.groupby('molecule_name', sort=False)\n",
        "    processed = 0\n",
        "    for m, rows in g:\n",
        "        if m not in cache:\n",
        "            continue\n",
        "        coords, Z = cache[m]\n",
        "        feats = _compute_per_molecule_features_targeted(coords, Z, rows, max_depth=4)\n",
        "        train_mask = rows['_src'].values == 'train'\n",
        "        test_mask  = ~train_mask\n",
        "        idx_tr = rows.loc[train_mask, '_idx'].to_numpy(dtype=np.int64)\n",
        "        idx_te = rows.loc[test_mask, '_idx'].to_numpy(dtype=np.int64)\n",
        "        for c in out_cols:\n",
        "            vals = feats[c]\n",
        "            if c == 'path_len':\n",
        "                add_train[c][idx_tr] = vals[train_mask].astype(np.int16, copy=False)\n",
        "                add_test[c][idx_te]  = vals[test_mask].astype(np.int16, copy=False)\n",
        "            elif c == 'is_bonded':\n",
        "                add_train[c][idx_tr] = vals[train_mask].astype(np.int8, copy=False)\n",
        "                add_test[c][idx_te]  = vals[test_mask].astype(np.int8, copy=False)\n",
        "            else:\n",
        "                add_train[c][idx_tr] = vals[train_mask].astype(np.float32, copy=False)\n",
        "                add_test[c][idx_te]  = vals[test_mask].astype(np.float32, copy=False)\n",
        "        processed += 1\n",
        "        if processed % 1000 == 0:\n",
        "            print(f'  processed {processed} molecules...', flush=True)\n",
        "    # Assign back to dataframes\n",
        "    for c in out_cols:\n",
        "        X_train[c] = add_train[c]\n",
        "        X_test[c]  = add_test[c]\n",
        "    # Molecule-level joins: potential_energy, dipole (with magnitude)\n",
        "    pe = pd.read_csv('potential_energy.csv')[['molecule_name','potential_energy']].copy()\n",
        "    dm = pd.read_csv('dipole_moments.csv')[['molecule_name','X','Y','Z']].copy()\n",
        "    dm['dipole_mag'] = np.sqrt((dm[['X','Y','Z']].astype(np.float64)**2).sum(axis=1)).astype(np.float32)\n",
        "    X_train = X_train.merge(pe, on='molecule_name', how='left', copy=False)\n",
        "    X_test  = X_test.merge(pe, on='molecule_name', how='left', copy=False)\n",
        "    X_train = X_train.merge(dm[['molecule_name','X','Y','Z','dipole_mag']].rename(columns={'X':'dipole_x','Y':'dipole_y','Z':'dipole_z'}), on='molecule_name', how='left', copy=False)\n",
        "    X_test  = X_test.merge(dm[['molecule_name','X','Y','Z','dipole_mag']].rename(columns={'X':'dipole_x','Y':'dipole_y','Z':'dipole_z'}), on='molecule_name', how='left', copy=False)\n",
        "    # Fill NaNs\n",
        "    for c in ['potential_energy','dipole_x','dipole_y','dipole_z','dipole_mag'] + out_cols:\n",
        "        if c in X_train:\n",
        "            if X_train[c].dtype.kind in 'iu':\n",
        "                X_train[c] = X_train[c].fillna(0)\n",
        "            else:\n",
        "                X_train[c] = X_train[c].astype('float32').fillna(X_train[c].mean())\n",
        "        if c in X_test:\n",
        "            if X_test[c].dtype.kind in 'iu':\n",
        "                X_test[c] = X_test[c].fillna(0)\n",
        "            else:\n",
        "                X_test[c] = X_test[c].astype('float32').fillna(X_train[c].mean())\n",
        "    print(f'Added graph + molecule features in {(time.time()-t0)/60:.1f} min', flush=True)\n",
        "    return X_train, X_test\n",
        "\n",
        "# Execute FE v1 and update global X_train/X_test\n",
        "X_train, X_test = add_graph_and_molecule_features(X_train, X_test, structures)\n",
        "print('New columns added:', [c for c in ['path_len','inv_path','is_bonded','min_nb_d0','min_nb_d1','cos0','cos1','potential_energy','dipole_x','dipole_y','dipole_z','dipole_mag'] if c in X_train.columns], flush=True)"
      ],
      "execution_count": 27,
      "outputs": [
        {
          "output_type": "stream",
          "name": "stdout",
          "text": [
            "Built molecule cache for 76510/85012 molecules in 27.6s\n"
          ]
        },
        {
          "output_type": "stream",
          "name": "stdout",
          "text": [
            "  processed 1000 molecules...\n"
          ]
        },
        {
          "output_type": "stream",
          "name": "stdout",
          "text": [
            "  processed 2000 molecules...\n"
          ]
        },
        {
          "output_type": "stream",
          "name": "stdout",
          "text": [
            "  processed 3000 molecules...\n"
          ]
        },
        {
          "output_type": "stream",
          "name": "stdout",
          "text": [
            "  processed 4000 molecules...\n"
          ]
        },
        {
          "output_type": "stream",
          "name": "stdout",
          "text": [
            "  processed 5000 molecules...\n"
          ]
        },
        {
          "output_type": "stream",
          "name": "stdout",
          "text": [
            "  processed 6000 molecules...\n"
          ]
        },
        {
          "output_type": "stream",
          "name": "stdout",
          "text": [
            "  processed 7000 molecules...\n"
          ]
        },
        {
          "output_type": "stream",
          "name": "stdout",
          "text": [
            "  processed 8000 molecules...\n"
          ]
        },
        {
          "output_type": "stream",
          "name": "stdout",
          "text": [
            "  processed 9000 molecules...\n"
          ]
        },
        {
          "output_type": "stream",
          "name": "stdout",
          "text": [
            "  processed 10000 molecules...\n"
          ]
        },
        {
          "output_type": "stream",
          "name": "stdout",
          "text": [
            "  processed 11000 molecules...\n"
          ]
        },
        {
          "output_type": "stream",
          "name": "stdout",
          "text": [
            "  processed 12000 molecules...\n"
          ]
        },
        {
          "output_type": "stream",
          "name": "stdout",
          "text": [
            "  processed 13000 molecules...\n"
          ]
        },
        {
          "output_type": "stream",
          "name": "stdout",
          "text": [
            "  processed 14000 molecules...\n"
          ]
        },
        {
          "output_type": "stream",
          "name": "stdout",
          "text": [
            "  processed 15000 molecules...\n"
          ]
        },
        {
          "output_type": "stream",
          "name": "stdout",
          "text": [
            "  processed 16000 molecules...\n"
          ]
        },
        {
          "output_type": "stream",
          "name": "stdout",
          "text": [
            "  processed 17000 molecules...\n"
          ]
        },
        {
          "output_type": "stream",
          "name": "stdout",
          "text": [
            "  processed 18000 molecules...\n"
          ]
        },
        {
          "output_type": "stream",
          "name": "stdout",
          "text": [
            "  processed 19000 molecules...\n"
          ]
        },
        {
          "output_type": "stream",
          "name": "stdout",
          "text": [
            "  processed 20000 molecules...\n"
          ]
        },
        {
          "output_type": "stream",
          "name": "stdout",
          "text": [
            "  processed 21000 molecules...\n"
          ]
        },
        {
          "output_type": "stream",
          "name": "stdout",
          "text": [
            "  processed 22000 molecules...\n"
          ]
        },
        {
          "output_type": "stream",
          "name": "stdout",
          "text": [
            "  processed 23000 molecules...\n"
          ]
        },
        {
          "output_type": "stream",
          "name": "stdout",
          "text": [
            "  processed 24000 molecules...\n"
          ]
        },
        {
          "output_type": "stream",
          "name": "stdout",
          "text": [
            "  processed 25000 molecules...\n"
          ]
        },
        {
          "output_type": "stream",
          "name": "stdout",
          "text": [
            "  processed 26000 molecules...\n"
          ]
        },
        {
          "output_type": "stream",
          "name": "stdout",
          "text": [
            "  processed 27000 molecules...\n"
          ]
        },
        {
          "output_type": "stream",
          "name": "stdout",
          "text": [
            "  processed 28000 molecules...\n"
          ]
        },
        {
          "output_type": "stream",
          "name": "stdout",
          "text": [
            "  processed 29000 molecules...\n"
          ]
        },
        {
          "output_type": "stream",
          "name": "stdout",
          "text": [
            "  processed 30000 molecules...\n"
          ]
        },
        {
          "output_type": "stream",
          "name": "stdout",
          "text": [
            "  processed 31000 molecules...\n"
          ]
        },
        {
          "output_type": "stream",
          "name": "stdout",
          "text": [
            "  processed 32000 molecules...\n"
          ]
        },
        {
          "output_type": "stream",
          "name": "stdout",
          "text": [
            "  processed 33000 molecules...\n"
          ]
        },
        {
          "output_type": "stream",
          "name": "stdout",
          "text": [
            "  processed 34000 molecules...\n"
          ]
        },
        {
          "output_type": "stream",
          "name": "stdout",
          "text": [
            "  processed 35000 molecules...\n"
          ]
        },
        {
          "output_type": "stream",
          "name": "stdout",
          "text": [
            "  processed 36000 molecules...\n"
          ]
        },
        {
          "output_type": "stream",
          "name": "stdout",
          "text": [
            "  processed 37000 molecules...\n"
          ]
        },
        {
          "output_type": "stream",
          "name": "stdout",
          "text": [
            "  processed 38000 molecules...\n"
          ]
        },
        {
          "output_type": "stream",
          "name": "stdout",
          "text": [
            "  processed 39000 molecules...\n"
          ]
        },
        {
          "output_type": "stream",
          "name": "stdout",
          "text": [
            "  processed 40000 molecules...\n"
          ]
        },
        {
          "output_type": "stream",
          "name": "stdout",
          "text": [
            "  processed 41000 molecules...\n"
          ]
        },
        {
          "output_type": "stream",
          "name": "stdout",
          "text": [
            "  processed 42000 molecules...\n"
          ]
        },
        {
          "output_type": "stream",
          "name": "stdout",
          "text": [
            "  processed 43000 molecules...\n"
          ]
        },
        {
          "output_type": "stream",
          "name": "stdout",
          "text": [
            "  processed 44000 molecules...\n"
          ]
        },
        {
          "output_type": "stream",
          "name": "stdout",
          "text": [
            "  processed 45000 molecules...\n"
          ]
        },
        {
          "output_type": "stream",
          "name": "stdout",
          "text": [
            "  processed 46000 molecules...\n"
          ]
        },
        {
          "output_type": "stream",
          "name": "stdout",
          "text": [
            "  processed 47000 molecules...\n"
          ]
        },
        {
          "output_type": "stream",
          "name": "stdout",
          "text": [
            "  processed 48000 molecules...\n"
          ]
        },
        {
          "output_type": "stream",
          "name": "stdout",
          "text": [
            "  processed 49000 molecules...\n"
          ]
        },
        {
          "output_type": "stream",
          "name": "stdout",
          "text": [
            "  processed 50000 molecules...\n"
          ]
        },
        {
          "output_type": "stream",
          "name": "stdout",
          "text": [
            "  processed 51000 molecules...\n"
          ]
        },
        {
          "output_type": "stream",
          "name": "stdout",
          "text": [
            "  processed 52000 molecules...\n"
          ]
        },
        {
          "output_type": "stream",
          "name": "stdout",
          "text": [
            "  processed 53000 molecules...\n"
          ]
        },
        {
          "output_type": "stream",
          "name": "stdout",
          "text": [
            "  processed 54000 molecules...\n"
          ]
        },
        {
          "output_type": "stream",
          "name": "stdout",
          "text": [
            "  processed 55000 molecules...\n"
          ]
        },
        {
          "output_type": "stream",
          "name": "stdout",
          "text": [
            "  processed 56000 molecules...\n"
          ]
        },
        {
          "output_type": "stream",
          "name": "stdout",
          "text": [
            "  processed 57000 molecules...\n"
          ]
        },
        {
          "output_type": "stream",
          "name": "stdout",
          "text": [
            "  processed 58000 molecules...\n"
          ]
        },
        {
          "output_type": "stream",
          "name": "stdout",
          "text": [
            "  processed 59000 molecules...\n"
          ]
        },
        {
          "output_type": "stream",
          "name": "stdout",
          "text": [
            "  processed 60000 molecules...\n"
          ]
        },
        {
          "output_type": "stream",
          "name": "stdout",
          "text": [
            "  processed 61000 molecules...\n"
          ]
        },
        {
          "output_type": "stream",
          "name": "stdout",
          "text": [
            "  processed 62000 molecules...\n"
          ]
        },
        {
          "output_type": "stream",
          "name": "stdout",
          "text": [
            "  processed 63000 molecules...\n"
          ]
        },
        {
          "output_type": "stream",
          "name": "stdout",
          "text": [
            "  processed 64000 molecules...\n"
          ]
        },
        {
          "output_type": "stream",
          "name": "stdout",
          "text": [
            "  processed 65000 molecules...\n"
          ]
        },
        {
          "output_type": "stream",
          "name": "stdout",
          "text": [
            "  processed 66000 molecules...\n"
          ]
        },
        {
          "output_type": "stream",
          "name": "stdout",
          "text": [
            "  processed 67000 molecules...\n"
          ]
        },
        {
          "output_type": "stream",
          "name": "stdout",
          "text": [
            "  processed 68000 molecules...\n"
          ]
        },
        {
          "output_type": "stream",
          "name": "stdout",
          "text": [
            "  processed 69000 molecules...\n"
          ]
        },
        {
          "output_type": "stream",
          "name": "stdout",
          "text": [
            "  processed 70000 molecules...\n"
          ]
        },
        {
          "output_type": "stream",
          "name": "stdout",
          "text": [
            "  processed 71000 molecules...\n"
          ]
        },
        {
          "output_type": "stream",
          "name": "stdout",
          "text": [
            "  processed 72000 molecules...\n"
          ]
        },
        {
          "output_type": "stream",
          "name": "stdout",
          "text": [
            "  processed 73000 molecules...\n"
          ]
        },
        {
          "output_type": "stream",
          "name": "stdout",
          "text": [
            "  processed 74000 molecules...\n"
          ]
        },
        {
          "output_type": "stream",
          "name": "stdout",
          "text": [
            "  processed 75000 molecules...\n"
          ]
        },
        {
          "output_type": "stream",
          "name": "stdout",
          "text": [
            "  processed 76000 molecules...\n"
          ]
        },
        {
          "output_type": "stream",
          "name": "stdout",
          "text": [
            "Added graph + molecule features in 1.9 min\n"
          ]
        },
        {
          "output_type": "stream",
          "name": "stdout",
          "text": [
            "New columns added: ['path_len', 'inv_path', 'is_bonded', 'min_nb_d0', 'min_nb_d1', 'cos0', 'cos1']\n"
          ]
        }
      ]
    },
    {
      "id": "ec7b2104-8d99-4698-a3ee-6133e454217e",
      "cell_type": "code",
      "metadata": {},
      "source": [
        "# FE v2: Quantum (Mulliken + Shielding) + z-scores + high-ROI interactions and identity/normalization features\n",
        "import pandas as pd, numpy as np, time\n",
        "\n",
        "EN_MAP = {1:2.20, 6:2.55, 7:3.04, 8:3.44, 9:3.98}  # Pauling EN for H,C,N,O,F\n",
        "\n",
        "def _per_molecule_stats(df_atoms: pd.DataFrame, value_col: str):\n",
        "    g = df_atoms.groupby('molecule_name')[value_col]\n",
        "    stats = g.agg(['mean','std']).rename(columns={'mean': f'{value_col}_mol_mean', 'std': f'{value_col}_mol_std'})\n",
        "    stats[f'{value_col}_mol_std'] = (stats[f'{value_col}_mol_std'].astype('float32') + 1e-6).astype('float32')\n",
        "    df_atoms = df_atoms.merge(stats.reset_index(), on='molecule_name', how='left')\n",
        "    df_atoms[f'z_{value_col}'] = ((df_atoms[value_col].astype('float32') - df_atoms[f'{value_col}_mol_mean'].astype('float32')) / df_atoms[f'{value_col}_mol_std'].astype('float32')).astype('float32')\n",
        "    return df_atoms[['molecule_name','atom_index', value_col, f'z_{value_col}']]\n",
        "\n",
        "def add_quantum_and_interactions(X_train: pd.DataFrame, X_test: pd.DataFrame) -> tuple[pd.DataFrame, pd.DataFrame]:\n",
        "    t0 = time.time()\n",
        "    # 1) Mulliken charges with per-molecule z-scores\n",
        "    m = pd.read_csv('mulliken_charges.csv', usecols=['molecule_name','atom_index','mulliken_charge'])\n",
        "    m = _per_molecule_stats(m, 'mulliken_charge')\n",
        "    m0 = m.rename(columns={'atom_index':'atom_index_0','mulliken_charge':'mulliken_0','z_mulliken_charge':'z_mulliken_0'})\n",
        "    m1 = m.rename(columns={'atom_index':'atom_index_1','mulliken_charge':'mulliken_1','z_mulliken_charge':'z_mulliken_1'})\n",
        "    X_train = X_train.merge(m0, on=['molecule_name','atom_index_0'], how='left')\n",
        "    X_train = X_train.merge(m1, on=['molecule_name','atom_index_1'], how='left')\n",
        "    X_test  = X_test.merge(m0, on=['molecule_name','atom_index_0'], how='left')\n",
        "    X_test  = X_test.merge(m1, on=['molecule_name','atom_index_1'], how='left')\n",
        "\n",
        "    # 2) Magnetic shielding tensors: isotropic + per-molecule z-scores\n",
        "    s = pd.read_csv('magnetic_shielding_tensors.csv', usecols=['molecule_name','atom_index','XX','YY','ZZ'])\n",
        "    s['shield_iso'] = ((s['XX'].astype('float32') + s['YY'].astype('float32') + s['ZZ'].astype('float32'))/3.0).astype('float32')\n",
        "    s = s[['molecule_name','atom_index','shield_iso']]\n",
        "    s = _per_molecule_stats(s.rename(columns={'shield_iso':'shield'}), 'shield')\n",
        "    s = s.rename(columns={'shield':'shield_iso'})\n",
        "    s0 = s.rename(columns={'atom_index':'atom_index_0','shield_iso':'shield_iso_0','z_shield':'z_shield_0'})\n",
        "    s1 = s.rename(columns={'atom_index':'atom_index_1','shield_iso':'shield_iso_1','z_shield':'z_shield_1'})\n",
        "    X_train = X_train.merge(s0, on=['molecule_name','atom_index_0'], how='left')\n",
        "    X_train = X_train.merge(s1, on=['molecule_name','atom_index_1'], how='left')\n",
        "    X_test  = X_test.merge(s0, on=['molecule_name','atom_index_0'], how='left')\n",
        "    X_test  = X_test.merge(s1, on=['molecule_name','atom_index_1'], how='left')\n",
        "\n",
        "    # 3) Derived quantum features and interactions with geometry\n",
        "    for df in (X_train, X_test):\n",
        "        # Base diffs/sums/prods\n",
        "        df['mulliken_diff'] = (df['mulliken_0'] - df['mulliken_1']).astype('float32')\n",
        "        df['mulliken_abs_diff'] = df['mulliken_diff'].abs().astype('float32')\n",
        "        df['mulliken_sum'] = (df['mulliken_0'] + df['mulliken_1']).astype('float32')\n",
        "        df['mulliken_prod'] = (df['mulliken_0'] * df['mulliken_1']).astype('float32')\n",
        "        df['shield_diff'] = (df['shield_iso_0'] - df['shield_iso_1']).astype('float32')\n",
        "        df['shield_abs_diff'] = df['shield_diff'].abs().astype('float32')\n",
        "        df['shield_sum'] = (df['shield_iso_0'] + df['shield_iso_1']).astype('float32')\n",
        "        df['shield_prod'] = (df['shield_iso_0'] * df['shield_iso_1']).astype('float32')\n",
        "        # Geometry interactions (guard d==0 already handled by inv_d)\n",
        "        df['mulliken_diff_over_d'] = (df['mulliken_diff'] * df['inv_d']).astype('float32')\n",
        "        df['mulliken_diff_x_inv_d'] = (df['mulliken_diff'] * df['inv_d']).astype('float32')\n",
        "        df['shield_diff_over_d'] = (df['shield_diff'] * df['inv_d']).astype('float32')\n",
        "        df['shield_diff_x_inv_d'] = (df['shield_diff'] * df['inv_d']).astype('float32')\n",
        "\n",
        "    # 4) Pair identity and chemistry hints\n",
        "    for df in (X_train, X_test):\n",
        "        # Element pair ids\n",
        "        df['element_pair_id'] = (10*df['Z0'].astype('int16') + df['Z1'].astype('int16')).astype('int16')\n",
        "        zmin = np.minimum(df['Z0'].astype('int16'), df['Z1'].astype('int16'))\n",
        "        zmax = np.maximum(df['Z0'].astype('int16'), df['Z1'].astype('int16'))\n",
        "        df['element_pair_id_sorted'] = (10*zmin + zmax).astype('int16')\n",
        "        # Electronegativity features\n",
        "        df['EN0'] = df['Z0'].map(EN_MAP).astype('float32')\n",
        "        df['EN1'] = df['Z1'].map(EN_MAP).astype('float32')\n",
        "        df['EN_diff'] = (df['EN0'] - df['EN1']).astype('float32')\n",
        "        df['EN_abs_diff'] = df['EN_diff'].abs().astype('float32')\n",
        "\n",
        "    # 5) Path buckets and distance-path interactions\n",
        "    for df in (X_train, X_test):\n",
        "        df['path_len_bucket'] = np.where(df['path_len'] <= 1, 1, np.where(df['path_len'] == 2, 2, np.where(df['path_len'] == 3, 3, 4))).astype('int8')\n",
        "        df['path_le2'] = (df['path_len'] <= 2).astype('int8')\n",
        "        df['d_x_inv_path'] = (df['d'].astype('float32') * df['inv_path'].astype('float32')).astype('float32')\n",
        "        df['d_over_1p_path'] = (df['d'].astype('float32') / (1.0 + df['path_len'].astype('float32'))).astype('float32')\n",
        "        df['is_bonded_x_inv_d'] = (df['is_bonded'].astype('float32') * df['inv_d'].astype('float32')).astype('float32')\n",
        "        df['inv_d_x_path_le2'] = (df['inv_d'].astype('float32') * df['path_le2'].astype('float32')).astype('float32')\n",
        "        df['cos0_x_inv_path'] = (df['cos0'].astype('float32') * df['inv_path'].astype('float32')).astype('float32')\n",
        "        df['cos1_x_inv_path'] = (df['cos1'].astype('float32') * df['inv_path'].astype('float32')).astype('float32')\n",
        "        df['min_nb_d0_x_inv_path'] = (df['min_nb_d0'].astype('float32') * df['inv_path'].astype('float32')).astype('float32')\n",
        "        df['min_nb_d1_x_inv_path'] = (df['min_nb_d1'].astype('float32') * df['inv_path'].astype('float32')).astype('float32')\n",
        "\n",
        "    # 6) Molecule normalization features\n",
        "    # Compute mol-wise means on combined to avoid train/test drift\n",
        "    combo = pd.concat([\n",
        "        X_train[['molecule_name','min_nb_d0','min_nb_d1','potential_energy','n_atoms']].assign(_src='train'),\n",
        "        X_test[['molecule_name','min_nb_d0','min_nb_d1','potential_energy','n_atoms']].assign(_src='test')\n",
        "    ], ignore_index=True)\n",
        "    combo['mean_nb_d_pair'] = combo[['min_nb_d0','min_nb_d1']].astype('float32').mean(axis=1).astype('float32')\n",
        "    mol_stats = combo.groupby('molecule_name').agg(\n",
        "        mol_mean_nb_d=('mean_nb_d_pair','mean'),\n",
        "        mol_pe=('potential_energy','mean'),\n",
        "        mol_n_atoms=('n_atoms','max')\n",
        "    ).reset_index()\n",
        "    for df in (X_train, X_test):\n",
        "        df = df.merge(mol_stats, on='molecule_name', how='left')\n",
        "        df['d_over_n_atoms'] = (df['d'].astype('float32') / (df['n_atoms'].replace(0, np.nan)).astype('float32')).fillna(0).astype('float32')\n",
        "        df['pe_per_atom'] = (df['potential_energy'].astype('float32') / (df['n_atoms'].replace(0, np.nan)).astype('float32')).fillna(0).astype('float32')\n",
        "        df['d_over_mol_mean_nb_d'] = (df['d'].astype('float32') / (df['mol_mean_nb_d'].replace(0, np.nan)).astype('float32')).fillna(0).astype('float32')\n",
        "        # assign back merged df\n",
        "        if '_merge_tag' in df.columns: df.drop(columns=['_merge_tag'], inplace=True)\n",
        "\n",
        "    # 7) Expected bond distance by type (computed on combined for stability)\n",
        "    combo2 = pd.concat([X_train[['type','d']], X_test[['type','d']]], ignore_index=True)\n",
        "    type_mean_d = combo2.groupby('type')['d'].mean().astype('float32')\n",
        "    for df in (X_train, X_test):\n",
        "        df['expected_d_by_type'] = df['type'].map(type_mean_d).astype('float32')\n",
        "        df['d_from_expected'] = (df['d'].astype('float32') - df['expected_d_by_type'].astype('float32')).astype('float32')\n",
        "\n",
        "    # 8) Fill NaNs with train means for consistency and downcast\n",
        "    new_cols = [\n",
        "        'mulliken_0','mulliken_1','z_mulliken_0','z_mulliken_1',\n",
        "        'shield_iso_0','shield_iso_1','z_shield_0','z_shield_1',\n",
        "        'mulliken_diff','mulliken_abs_diff','mulliken_sum','mulliken_prod',\n",
        "        'shield_diff','shield_abs_diff','shield_sum','shield_prod',\n",
        "        'mulliken_diff_over_d','mulliken_diff_x_inv_d','shield_diff_over_d','shield_diff_x_inv_d',\n",
        "        'element_pair_id','element_pair_id_sorted','EN0','EN1','EN_diff','EN_abs_diff',\n",
        "        'path_len_bucket','path_le2','d_x_inv_path','d_over_1p_path','is_bonded_x_inv_d','inv_d_x_path_le2',\n",
        "        'cos0_x_inv_path','cos1_x_inv_path','min_nb_d0_x_inv_path','min_nb_d1_x_inv_path',\n",
        "        'd_over_n_atoms','pe_per_atom','d_over_mol_mean_nb_d','expected_d_by_type','d_from_expected'\n",
        "    ]\n",
        "    means = {}\n",
        "    for c in new_cols:\n",
        "        if c not in X_train.columns or c not in X_test.columns:\n",
        "            continue\n",
        "        if X_train[c].dtype.kind in 'iu':\n",
        "            # categorical ids: fill with mode or 0\n",
        "            if c in ('element_pair_id','element_pair_id_sorted','path_len_bucket','path_le2'):\n",
        "                mode_val = X_train[c].mode(dropna=True)\n",
        "                fillv = int(mode_val.iloc[0]) if len(mode_val) else 0\n",
        "                X_train[c] = X_train[c].fillna(fillv).astype('int16')\n",
        "                X_test[c]  = X_test[c].fillna(fillv).astype('int16')\n",
        "            else:\n",
        "                X_train[c] = X_train[c].fillna(0)\n",
        "                X_test[c]  = X_test[c].fillna(0)\n",
        "        else:\n",
        "            means[c] = X_train[c].astype('float32').mean()\n",
        "            X_train[c] = X_train[c].astype('float32').fillna(means[c])\n",
        "            X_test[c]  = X_test[c].astype('float32').fillna(means[c])\n",
        "\n",
        "    print(f'Added quantum + interactions in {(time.time()-t0)/60:.1f} min')\n",
        "    return X_train, X_test\n",
        "\n",
        "# To run next:\n",
        "# X_train, X_test = add_quantum_and_interactions(X_train, X_test)\n",
        "# print('Added columns sample:', [c for c in ['mulliken_0','z_mulliken_0','shield_iso_0','z_shield_0','element_pair_id','path_len_bucket','d_x_inv_path','mulliken_diff_over_d'] if c in X_train.columns])"
      ],
      "execution_count": 12,
      "outputs": []
    },
    {
      "id": "3e102703-3c3d-4f27-88d5-a4b83a75129e",
      "cell_type": "code",
      "metadata": {},
      "source": [
        "# Execute FE v2 to add quantum + interaction features\n",
        "t0 = time.time()\n",
        "X_train, X_test = add_quantum_and_interactions(X_train, X_test)\n",
        "print('Post-FE v2 shapes:', X_train.shape, X_test.shape)\n",
        "sample_new = ['mulliken_0','z_mulliken_0','shield_iso_0','z_shield_0','element_pair_id','path_len_bucket','d_x_inv_path','mulliken_diff_over_d','d_over_n_atoms','d_from_expected']\n",
        "print('Sample new cols present:', [c for c in sample_new if c in X_train.columns])\n",
        "print(f'FE v2 total time: {(time.time()-t0)/60:.2f} min')"
      ],
      "execution_count": 13,
      "outputs": [
        {
          "output_type": "stream",
          "name": "stdout",
          "text": [
            "Added quantum + interactions in 0.1 min\nPost-FE v2 shapes: (4191263, 80) (467813, 79)\nSample new cols present: ['mulliken_0', 'z_mulliken_0', 'shield_iso_0', 'z_shield_0', 'element_pair_id', 'path_len_bucket', 'd_x_inv_path', 'mulliken_diff_over_d', 'd_from_expected']\nFE v2 total time: 0.12 min\n"
          ]
        }
      ]
    },
    {
      "id": "e5b65316-a5cb-4bbf-9b5f-7e8d327e74c8",
      "cell_type": "code",
      "metadata": {},
      "source": [
        "# Patch: add missing molecule-normalization features (without re-running full FE v2 merges)\n",
        "import pandas as pd, numpy as np, time\n",
        "t0 = time.time()\n",
        "need_cols = ['molecule_name','min_nb_d0','min_nb_d1','potential_energy','n_atoms']\n",
        "for c in need_cols:\n",
        "    if c not in X_train.columns or c not in X_test.columns:\n",
        "        raise KeyError(f'Missing prerequisite column for normalization: {c}')\n",
        "\n",
        "combo = pd.concat([\n",
        "    X_train[need_cols].assign(_src='train'),\n",
        "    X_test[need_cols].assign(_src='test')\n",
        "], ignore_index=True)\n",
        "combo['mean_nb_d_pair'] = combo[['min_nb_d0','min_nb_d1']].astype('float32').mean(axis=1).astype('float32')\n",
        "mol_stats = combo.groupby('molecule_name').agg(\n",
        "    mol_mean_nb_d=('mean_nb_d_pair','mean'),\n",
        "    mol_pe=('potential_energy','mean'),\n",
        "    mol_n_atoms=('n_atoms','max')\n",
        ").reset_index()\n",
        "\n",
        "# Merge into X_train and X_test explicitly\n",
        "X_train = X_train.merge(mol_stats, on='molecule_name', how='left')\n",
        "X_test  = X_test.merge(mol_stats, on='molecule_name', how='left')\n",
        "\n",
        "# Create normalization features\n",
        "def _safe_div(num, den):\n",
        "    den = den.replace(0, np.nan)\n",
        "    return (num.astype('float32') / den.astype('float32')).fillna(0).astype('float32')\n",
        "\n",
        "X_train['d_over_n_atoms'] = _safe_div(X_train['d'], X_train['n_atoms'])\n",
        "X_test['d_over_n_atoms']  = _safe_div(X_test['d'], X_test['n_atoms'])\n",
        "X_train['pe_per_atom'] = _safe_div(X_train['potential_energy'], X_train['n_atoms'])\n",
        "X_test['pe_per_atom']  = _safe_div(X_test['potential_energy'], X_test['n_atoms'])\n",
        "X_train['d_over_mol_mean_nb_d'] = _safe_div(X_train['d'], X_train['mol_mean_nb_d'])\n",
        "X_test['d_over_mol_mean_nb_d']  = _safe_div(X_test['d'], X_test['mol_mean_nb_d'])\n",
        "\n",
        "print('Added normalization features. Shapes:', X_train.shape, X_test.shape)\n",
        "print('Check presence:', all(c in X_train.columns for c in ['d_over_n_atoms','pe_per_atom','d_over_mol_mean_nb_d']))\n",
        "print(f'Patch time: {(time.time()-t0):.2f}s')"
      ],
      "execution_count": 14,
      "outputs": [
        {
          "output_type": "stream",
          "name": "stdout",
          "text": [
            "Added normalization features. Shapes: (4191263, 86) (467813, 85)\nCheck presence: True\nPatch time: 1.46s\n"
          ]
        }
      ]
    },
    {
      "id": "a61f373a-b6eb-4ee5-908f-8bebd9264543",
      "cell_type": "code",
      "metadata": {},
      "source": [
        "# CatBoost per-type (GPU) + OOF/test preds + per-type blending with XGB\n",
        "import numpy as np, pandas as pd, time\n",
        "from catboost import CatBoostRegressor, Pool\n",
        "from sklearn.model_selection import KFold\n",
        "from sklearn.metrics import mean_absolute_error\n",
        "\n",
        "def get_molecule_folds(df: pd.DataFrame, n_splits: int = 5, seed: int = 42):\n",
        "    mols = df['molecule_name'].unique()\n",
        "    kf = KFold(n_splits=n_splits, shuffle=True, random_state=seed)\n",
        "    fold_of = {}\n",
        "    for f, (_, val_idx) in enumerate(kf.split(mols)):\n",
        "        for m in mols[val_idx]:\n",
        "            fold_of[m] = f\n",
        "    fold = df['molecule_name'].map(fold_of).values\n",
        "    return [(np.where(fold!=i)[0], np.where(fold==i)[0]) for i in range(n_splits)], fold_of\n",
        "\n",
        "# Reuse or rebuild folds mapping\n",
        "cb_folds, mol2fold = get_molecule_folds(X_train, n_splits=5, seed=42)\n",
        "print('CatBoost folds ready:', len(cb_folds))\n",
        "\n",
        "# Ensure categorical columns are integer and non-null (will convert to strings before Pool)\n",
        "for c in ['Z0','Z1','path_len_bucket','element_pair_id_sorted']:\n",
        "    if c in X_train.columns:\n",
        "        X_train[c] = X_train[c].fillna(-1).astype('int32')\n",
        "    if c in X_test.columns:\n",
        "        X_test[c] = X_test[c].fillna(-1).astype('int32')\n",
        "\n",
        "# Feature columns (reuse from XGB cell if present, else define here)\n",
        "try:\n",
        "    cb_features = feature_cols.copy()\n",
        "except NameError:\n",
        "    cb_features = [\n",
        "        'Z0','Z1','same_element',\n",
        "        'dx','dy','dz','d','d2','inv_d','inv_d2',\n",
        "        'nH','nC','nN','nO','nF','n_atoms',\n",
        "        'path_len','inv_path','is_bonded','min_nb_d0','min_nb_d1','cos0','cos1',\n",
        "        'potential_energy','dipole_x','dipole_y','dipole_z','dipole_mag',\n",
        "        'mulliken_0','mulliken_1','z_mulliken_0','z_mulliken_1',\n",
        "        'shield_iso_0','shield_iso_1','z_shield_0','z_shield_1',\n",
        "        'mulliken_diff','mulliken_abs_diff','mulliken_sum','mulliken_prod',\n",
        "        'shield_diff','shield_abs_diff','shield_sum','shield_prod',\n",
        "        'mulliken_diff_over_d','shield_diff_over_d','mulliken_diff_x_inv_d','shield_diff_x_inv_d',\n",
        "        'element_pair_id','element_pair_id_sorted','EN0','EN1','EN_diff','EN_abs_diff',\n",
        "        'path_len_bucket','path_le2','d_x_inv_path','d_over_1p_path','is_bonded_x_inv_d','inv_d_x_path_le2',\n",
        "        'cos0_x_inv_path','cos1_x_inv_path','min_nb_d0_x_inv_path','min_nb_d1_x_inv_path',\n",
        "        'd_over_n_atoms','pe_per_atom','d_over_mol_mean_nb_d','expected_d_by_type','d_from_expected'\n",
        "    ]\n",
        "\n",
        "# Cat features indices in cb_features\n",
        "cat_cols = ['Z0','Z1','path_len_bucket','element_pair_id_sorted']\n",
        "cat_idx = [cb_features.index(c) for c in cat_cols if c in cb_features]\n",
        "print('Cat features:', cat_cols, '-> idx', cat_idx)\n",
        "\n",
        "def sanitize_inf(df: pd.DataFrame) -> pd.DataFrame:\n",
        "    return df.replace([np.inf, -np.inf], np.nan)\n",
        "\n",
        "types = sorted(X_train['type'].unique())\n",
        "oof_cb = np.zeros(len(X_train), dtype=np.float32)\n",
        "test_cb = np.zeros(len(X_test), dtype=np.float32)\n",
        "per_type_cb = {}\n",
        "\n",
        "start = time.time()\n",
        "for t in types:\n",
        "    tr_mask = (X_train['type'] == t).values\n",
        "    te_mask = (X_test['type'] == t).values\n",
        "    X_t = sanitize_inf(X_train.loc[tr_mask, cb_features].copy())\n",
        "    y_t = X_train.loc[tr_mask, 'scalar_coupling_constant'].astype('float32').values\n",
        "    X_te_t = sanitize_inf(X_test.loc[te_mask, cb_features].copy())\n",
        "    # Cast numerics to float32 and convert categorical columns to strings\n",
        "    num_features = [c for c in cb_features if c not in cat_cols]\n",
        "    for df_ in (X_t, X_te_t):\n",
        "        if num_features:\n",
        "            df_.loc[:, num_features] = df_.loc[:, num_features].astype('float32')\n",
        "        for c in cat_cols:\n",
        "            if c in df_.columns:\n",
        "                df_[c] = df_[c].fillna(-1).astype('int32').astype(str)\n",
        "    idx_t = np.where(tr_mask)[0]\n",
        "    oof_t = np.zeros(X_t.shape[0], dtype=np.float32)\n",
        "    pred_te_t = np.zeros(X_te_t.shape[0], dtype=np.float32)\n",
        "    print(f\"\\n[CatBoost] Type {t}: n_train={X_t.shape[0]} n_test={X_te_t.shape[0]}\", flush=True)\n",
        "    # Pools will be created per fold to honor train/valid split\n",
        "    for fold_i, (tr_idx_all, va_idx_all) in enumerate(cb_folds):\n",
        "        tr_loc = np.intersect1d(idx_t, tr_idx_all, assume_unique=False)\n",
        "        va_loc = np.intersect1d(idx_t, va_idx_all, assume_unique=False)\n",
        "        tr_loc_local = np.searchsorted(idx_t, tr_loc)\n",
        "        va_loc_local = np.searchsorted(idx_t, va_loc)\n",
        "        if len(va_loc_local) == 0 or len(tr_loc_local) == 0:\n",
        "            continue\n",
        "        t0 = time.time()\n",
        "        train_pool = Pool(X_t.iloc[tr_loc_local, :], y_t[tr_loc_local], cat_features=cat_idx)\n",
        "        valid_pool = Pool(X_t.iloc[va_loc_local, :], y_t[va_loc_local], cat_features=cat_idx)\n",
        "        model = CatBoostRegressor(\n",
        "            loss_function='MAE', task_type='GPU',\n",
        "            iterations=5000, learning_rate=0.05, depth=8,\n",
        "            l2_leaf_reg=5.0, bagging_temperature=0.5,\n",
        "            od_type='Iter', od_wait=200, random_seed=42,\n",
        "            border_count=256, verbose=200\n",
        "        )\n",
        "        model.fit(train_pool, eval_set=valid_pool, use_best_model=True, verbose=200)\n",
        "        oof_t[va_loc_local] = model.predict(valid_pool).astype('float32')\n",
        "        pred_te_t += model.predict(Pool(X_te_t, cat_features=cat_idx)).astype('float32') / len(cb_folds)\n",
        "        dt = time.time() - t0\n",
        "        mae_fold = mean_absolute_error(y_t[va_loc_local], oof_t[va_loc_local])\n",
        "        print(f'  Fold {fold_i}: MAE={mae_fold:.5f} | {dt:.1f}s', flush=True)\n",
        "    oof_cb[idx_t] = oof_t\n",
        "    test_cb[te_mask] = pred_te_t\n",
        "    mae_t = float(np.mean(np.abs(y_t - oof_t)))\n",
        "    per_type_cb[t] = mae_t\n",
        "    print(f'[CatBoost] Type {t}: MAE={mae_t:.6f}', flush=True)\n",
        "\n",
        "def lmae_from_oof(oof_vals: np.ndarray) -> float:\n",
        "    return lmae_score(X_train['scalar_coupling_constant'].values, oof_vals, X_train['type'])\n",
        "\n",
        "# Save artifacts for blending and reuse\n",
        "np.save('oof_xgb.npy', oof.astype('float32'))\n",
        "np.save('pred_test_xgb.npy', test_pred.astype('float32'))\n",
        "np.save('oof_cb.npy', oof_cb.astype('float32'))\n",
        "np.save('pred_test_cb.npy', test_cb.astype('float32'))\n",
        "pd.Series(per_type_cb).to_csv('per_type_mae_cb.csv')\n",
        "\n",
        "print('OOF LMAE XGB:', lmae_from_oof(oof))\n",
        "print('OOF LMAE CB :', lmae_from_oof(oof_cb))\n",
        "\n",
        "# Per-type weight search for blend on OOF\n",
        "blend_oof = np.zeros_like(oof_cb)\n",
        "blend_test = np.zeros_like(test_cb)\n",
        "w_per_type = {}\n",
        "for t in types:\n",
        "    m = (X_train['type'] == t).values\n",
        "    best_mae, best_w = 1e9, 0.5\n",
        "    for w in np.linspace(0.0, 1.0, 21):\n",
        "        o = w*oof[m] + (1.0-w)*oof_cb[m]\n",
        "        mae = float(np.mean(np.abs(X_train.loc[m, 'scalar_coupling_constant'].values - o)))\n",
        "        if mae < best_mae:\n",
        "            best_mae, best_w = mae, float(w)\n",
        "    w_per_type[t] = best_w\n",
        "    blend_oof[m] = best_w*oof[m] + (1.0-best_w)*oof_cb[m]\n",
        "    mt = (X_test['type'] == t).values\n",
        "    blend_test[mt] = best_w*test_pred[mt] + (1.0-best_w)*test_cb[mt]\n",
        "print('Per-type blend weights:', w_per_type)\n",
        "print('OOF LMAE Blend:', lmae_from_oof(blend_oof))\n",
        "\n",
        "# Write blended submission\n",
        "sub_blend = pd.DataFrame({'id': X_test['id'].values, 'scalar_coupling_constant': blend_test.astype('float32')}).sort_values('id')\n",
        "sub_blend.to_csv('submission.csv', index=False)\n",
        "print('Saved blended submission.csv:', sub_blend.shape, 'head:\\n', sub_blend.head())\n",
        "print(f'Total CatBoost+Blend time: {(time.time()-start)/60:.1f} min')"
      ],
      "execution_count": 9,
      "outputs": []
    },
    {
      "id": "a2c7ab9e-cb6c-4f26-a373-010771fe206c",
      "cell_type": "code",
      "metadata": {},
      "source": [
        "# FE v3: True geometry features (exact angles for path_len==2 and dihedrals for path_len==3)\n",
        "import numpy as np, pandas as pd, time\n",
        "\n",
        "R_COV = {1:0.31, 6:0.76, 7:0.71, 8:0.66, 9:0.57}  # H,C,N,O,F\n",
        "BOND_SCALE = 1.15\n",
        "\n",
        "def _build_mol_coords_Z(structures: pd.DataFrame, mol_names: np.ndarray):\n",
        "    s = structures[['molecule_name','atom_index','x','y','z','atom']].copy()\n",
        "    s['Z'] = s['atom'].map({'H':1,'C':6,'N':7,'O':8,'F':9}).astype('int16')\n",
        "    grp = s.groupby('molecule_name')\n",
        "    cache = {}\n",
        "    for m in mol_names:\n",
        "        if m in grp.groups:\n",
        "            dfm = grp.get_group(m).sort_values('atom_index')\n",
        "            coords = dfm[['x','y','z']].to_numpy(dtype=np.float32)\n",
        "            Z = dfm['Z'].to_numpy(dtype=np.int16)\n",
        "            cache[m] = (coords, Z)\n",
        "    return cache\n",
        "\n",
        "def _adjacency_from_coords(coords: np.ndarray, Z: np.ndarray) -> np.ndarray:\n",
        "    n = coords.shape[0]\n",
        "    if n == 0:\n",
        "        return np.zeros((0,0), dtype=np.uint8)\n",
        "    diff = coords[:, None, :] - coords[None, :, :]\n",
        "    D = np.sqrt(np.sum(diff*diff, axis=2, dtype=np.float32)).astype(np.float32)\n",
        "    rc = np.vectorize(lambda z: R_COV.get(int(z), 0.7), otypes=[np.float32])(Z).astype(np.float32)\n",
        "    thr = (rc[:, None] + rc[None, :]).astype(np.float32) * np.float32(BOND_SCALE)\n",
        "    adj = (D > 0) & (D < thr)\n",
        "    adj = adj.astype(np.uint8)\n",
        "    np.fill_diagonal(adj, 0)\n",
        "    return adj\n",
        "\n",
        "def _angle_features(coords: np.ndarray, a: int, k: int, b: int):\n",
        "    # angle at k formed by a-k-b\n",
        "    v1 = coords[a] - coords[k]\n",
        "    v2 = coords[b] - coords[k]\n",
        "    n1 = np.linalg.norm(v1) + 1e-12\n",
        "    n2 = np.linalg.norm(v2) + 1e-12\n",
        "    cos_th = float(np.dot(v1, v2) / (n1 * n2))\n",
        "    cos_th = max(-1.0, min(1.0, cos_th))\n",
        "    sin_th = float(np.linalg.norm(np.cross(v1, v2)) / (n1 * n2))\n",
        "    theta = float(np.arccos(cos_th))\n",
        "    return cos_th, sin_th, theta\n",
        "\n",
        "def _dihedral_features(coords: np.ndarray, a: int, b: int, c: int, d: int):\n",
        "    # torsion angle for a-b-c-d using stable atan2 formulation\n",
        "    b0 = coords[b] - coords[a]\n",
        "    b1 = coords[c] - coords[b]\n",
        "    b2 = coords[d] - coords[c]\n",
        "    # Normalize b1 for projection stability\n",
        "    b1n = b1 / (np.linalg.norm(b1) + 1e-12)\n",
        "    v = b0 - np.dot(b0, b1n) * b1n\n",
        "    w = b2 - np.dot(b2, b1n) * b1n\n",
        "    x = np.dot(v, w)\n",
        "    y = np.dot(np.cross(b1n, v), w)\n",
        "    phi = float(np.arctan2(y, x))\n",
        "    cos_phi = float(np.cos(phi))\n",
        "    sin_phi = float(np.sin(phi))\n",
        "    cos2_phi = float(np.cos(2.0 * phi))\n",
        "    return cos_phi, sin_phi, cos2_phi, phi\n",
        "\n",
        "def add_true_geometry_features(X_train: pd.DataFrame, X_test: pd.DataFrame, structures: pd.DataFrame) -> tuple[pd.DataFrame, pd.DataFrame]:\n",
        "    t0 = time.time()\n",
        "    # Prepare combined index to write back\n",
        "    pairs = pd.concat([\n",
        "        X_train[['molecule_name','atom_index_0','atom_index_1','path_len']].assign(_src='train', _idx=np.arange(len(X_train), dtype=np.int64)),\n",
        "        X_test[['molecule_name','atom_index_0','atom_index_1','path_len']].assign(_src='test',  _idx=np.arange(len(X_test), dtype=np.int64))\n",
        "    ], ignore_index=True)\n",
        "    mols = pairs['molecule_name'].unique()\n",
        "    cache = _build_mol_coords_Z(structures, mols)\n",
        "\n",
        "    # Preallocate outputs\n",
        "    ang_cos_tr = np.zeros(len(X_train), dtype=np.float32); ang_cos_te = np.zeros(len(X_test), dtype=np.float32)\n",
        "    ang_sin_tr = np.zeros(len(X_train), dtype=np.float32); ang_sin_te = np.zeros(len(X_test), dtype=np.float32)\n",
        "    ang_rad_tr = np.zeros(len(X_train), dtype=np.float32); ang_rad_te = np.zeros(len(X_test), dtype=np.float32)\n",
        "    dih_cos_tr = np.zeros(len(X_train), dtype=np.float32); dih_cos_te = np.zeros(len(X_test), dtype=np.float32)\n",
        "    dih_sin_tr = np.zeros(len(X_train), dtype=np.float32); dih_sin_te = np.zeros(len(X_test), dtype=np.float32)\n",
        "    dih_cos2_tr = np.zeros(len(X_train), dtype=np.float32); dih_cos2_te = np.zeros(len(X_test), dtype=np.float32)\n",
        "\n",
        "    processed = 0\n",
        "    for m, rows in pairs.groupby('molecule_name', sort=False):\n",
        "        if m not in cache:\n",
        "            continue\n",
        "        coords, Z = cache[m]\n",
        "        n_atoms = coords.shape[0]\n",
        "        if n_atoms < 2:\n",
        "            continue\n",
        "        adj = _adjacency_from_coords(coords, Z)\n",
        "        # Build neighbor lists\n",
        "        nbrs = [np.flatnonzero(adj[i]).astype(np.int32) for i in range(n_atoms)]\n",
        "\n",
        "        a0 = rows['atom_index_0'].to_numpy(dtype=np.int32)\n",
        "        a1 = rows['atom_index_1'].to_numpy(dtype=np.int32)\n",
        "        pl = rows['path_len'].to_numpy(dtype=np.int16)\n",
        "        is_pl2 = (pl == 2)\n",
        "        is_pl3 = (pl == 3)\n",
        "        # Angles for pl==2\n",
        "        idxs_pl2 = np.flatnonzero(is_pl2)\n",
        "        for idx in idxs_pl2:\n",
        "            i = int(a0[idx]); j = int(a1[idx])\n",
        "            # find middle k: any common neighbor of i and j\n",
        "            if i < 0 or j < 0 or i >= n_atoms or j >= n_atoms:\n",
        "                continue\n",
        "            # Intersect neighbor lists (small degree, fast)\n",
        "            Ni, Nj = nbrs[i], nbrs[j]\n",
        "            # Pick the first common neighbor to be deterministic\n",
        "            # Efficient intersection for small arrays\n",
        "            if Ni.size == 0 or Nj.size == 0:\n",
        "                continue\n",
        "            # Use numpy intersect1d\n",
        "            common = np.intersect1d(Ni, Nj, assume_unique=False)\n",
        "            if common.size == 0:\n",
        "                continue\n",
        "            k = int(common[0])\n",
        "            c, s, th = _angle_features(coords, i, k, j)\n",
        "            if rows['_src'].iloc[idx] == 'train':\n",
        "                ang_cos_tr[rows['_idx'].iloc[idx]] = c\n",
        "                ang_sin_tr[rows['_idx'].iloc[idx]] = s\n",
        "                ang_rad_tr[rows['_idx'].iloc[idx]] = th\n",
        "            else:\n",
        "                ang_cos_te[rows['_idx'].iloc[idx]] = c\n",
        "                ang_sin_te[rows['_idx'].iloc[idx]] = s\n",
        "                ang_rad_te[rows['_idx'].iloc[idx]] = th\n",
        "        # Dihedrals for pl==3\n",
        "        idxs_pl3 = np.flatnonzero(is_pl3)\n",
        "        if idxs_pl3.size:\n",
        "            # For BFS parent path, do a BFS from each unique source i among pl==3 rows\n",
        "            # Build parent arrays per unique source to reuse\n",
        "            srcs = np.unique(a0[idxs_pl3])\n",
        "            parents_map = {}\n",
        "            for src in srcs:\n",
        "                # BFS to get parent pointers until all targets are found\n",
        "                parent = np.full(n_atoms, -1, dtype=np.int32)\n",
        "                parent[src] = src\n",
        "                q = [int(src)]; head = 0\n",
        "                while head < len(q):\n",
        "                    u = q[head]; head += 1\n",
        "                    for v in nbrs[u]:\n",
        "                        if parent[v] == -1:\n",
        "                            parent[v] = u\n",
        "                            q.append(int(v))\n",
        "                parents_map[int(src)] = parent\n",
        "            # Now compute dihedral for each pl3 row using parent backtrack j->i\n",
        "            for idx in idxs_pl3:\n",
        "                i = int(a0[idx]); j = int(a1[idx])\n",
        "                if i < 0 or j < 0 or i >= n_atoms or j >= n_atoms:\n",
        "                    continue\n",
        "                parent = parents_map.get(i, None)\n",
        "                if parent is None or parent[j] == -1:\n",
        "                    continue\n",
        "                # Backtrack: j -> k2 -> k1 -> i\n",
        "                k2 = int(parent[j])\n",
        "                if k2 == -1 or k2 == j:\n",
        "                    continue\n",
        "                k1 = int(parent[k2])\n",
        "                if k1 == -1 or k1 == k2 or k1 == i:\n",
        "                    continue\n",
        "                c, s, c2, phi = _dihedral_features(coords, i, k1, k2, j)\n",
        "                if rows['_src'].iloc[idx] == 'train':\n",
        "                    dih_cos_tr[rows['_idx'].iloc[idx]] = c\n",
        "                    dih_sin_tr[rows['_idx'].iloc[idx]] = s\n",
        "                    dih_cos2_tr[rows['_idx'].iloc[idx]] = c2\n",
        "                else:\n",
        "                    dih_cos_te[rows['_idx'].iloc[idx]] = c\n",
        "                    dih_sin_te[rows['_idx'].iloc[idx]] = s\n",
        "                    dih_cos2_te[rows['_idx'].iloc[idx]] = c2\n",
        "\n",
        "        processed += 1\n",
        "        if processed % 1000 == 0:\n",
        "            print(f'  FE v3 processed {processed} molecules...', flush=True)\n",
        "\n",
        "    # Assign to dataframes\n",
        "    X_train['angle_cos'] = ang_cos_tr; X_test['angle_cos'] = ang_cos_te\n",
        "    X_train['angle_sin'] = ang_sin_tr; X_test['angle_sin'] = ang_sin_te\n",
        "    X_train['angle_rad'] = ang_rad_tr; X_test['angle_rad'] = ang_rad_te\n",
        "    X_train['dih_cos'] = dih_cos_tr; X_test['dih_cos'] = dih_cos_te\n",
        "    X_train['dih_sin'] = dih_sin_tr; X_test['dih_sin'] = dih_sin_te\n",
        "    X_train['dih_cos2'] = dih_cos2_tr; X_test['dih_cos2'] = dih_cos2_te\n",
        "\n",
        "    # Optional derived transforms (Karplus-like basis already covered by cos/sin/cos2)\n",
        "    # Ensure dtypes\n",
        "    for c in ['angle_cos','angle_sin','angle_rad','dih_cos','dih_sin','dih_cos2']:\n",
        "        X_train[c] = X_train[c].astype('float32')\n",
        "        X_test[c] = X_test[c].astype('float32')\n",
        "\n",
        "    print(f'Added FE v3 true geometry in {(time.time()-t0)/60:.1f} min')\n",
        "    return X_train, X_test\n",
        "\n",
        "# Usage after current CatBoost run finishes:\n",
        "# X_train, X_test = add_true_geometry_features(X_train, X_test, structures)\n",
        "# Then add these to feature_cols/cb_features:\n",
        "#   ['angle_cos','angle_sin','angle_rad','dih_cos','dih_sin','dih_cos2']\n",
        "# Retrain weakest types first (3JHC/3JHN/2JHH) and re-blend."
      ],
      "execution_count": 16,
      "outputs": []
    },
    {
      "id": "d22ef17e-ecae-4a78-b278-ff18f7aa9c17",
      "cell_type": "code",
      "metadata": {},
      "source": [
        "# FE v3 execution + sanitation + 3-fold molecule-aware mapping (prep for LightGBM)\n",
        "import numpy as np, pandas as pd\n",
        "from sklearn.model_selection import KFold\n",
        "\n",
        "t0 = time.time()\n",
        "# 1) Run true geometry features (angles/dihedrals)\n",
        "X_train, X_test = add_true_geometry_features(X_train, X_test, structures)\n",
        "\n",
        "# 2) Define candidate feature list (filter by availability) incl. FE v3\n",
        "candidate_features = [\n",
        "    'Z0','Z1','same_element',\n",
        "    'dx','dy','dz','d','d2','inv_d','inv_d2',\n",
        "    'nH','nC','nN','nO','nF','n_atoms',\n",
        "    'path_len','inv_path','is_bonded','min_nb_d0','min_nb_d1','cos0','cos1',\n",
        "    'potential_energy','dipole_x','dipole_y','dipole_z','dipole_mag',\n",
        "    'mulliken_0','mulliken_1','z_mulliken_0','z_mulliken_1',\n",
        "    'shield_iso_0','shield_iso_1','z_shield_0','z_shield_1',\n",
        "    'mulliken_diff','mulliken_abs_diff','mulliken_sum','mulliken_prod',\n",
        "    'shield_diff','shield_abs_diff','shield_sum','shield_prod',\n",
        "    'mulliken_diff_over_d','mulliken_diff_x_inv_d','shield_diff_over_d','shield_diff_x_inv_d',\n",
        "    'element_pair_id','element_pair_id_sorted','EN0','EN1','EN_diff','EN_abs_diff',\n",
        "    'path_len_bucket','path_le2','d_x_inv_path','d_over_1p_path','is_bonded_x_inv_d','inv_d_x_path_le2',\n",
        "    'cos0_x_inv_path','cos1_x_inv_path','min_nb_d0_x_inv_path','min_nb_d1_x_inv_path',\n",
        "    'd_over_n_atoms','pe_per_atom','d_over_mol_mean_nb_d','expected_d_by_type','d_from_expected',\n",
        "    # FE v3\n",
        "    'angle_cos','angle_sin','angle_rad','dih_cos','dih_sin','dih_cos2'\n",
        "]\n",
        "lgb_features = [c for c in candidate_features if c in X_train.columns and c in X_test.columns]\n",
        "\n",
        "# 3) Sanitize: replace inf -> NaN -> fill; cast float32; fill test with train means\n",
        "def sanitize_train_test(X_tr: pd.DataFrame, X_te: pd.DataFrame, cols: list[str]):\n",
        "    X_tr = X_tr.copy(); X_te = X_te.copy()\n",
        "    X_tr[cols] = X_tr[cols].replace([np.inf, -np.inf], np.nan)\n",
        "    X_te[cols] = X_te[cols].replace([np.inf, -np.inf], np.nan)\n",
        "    # Fill integer-like id cols separately if present\n",
        "    for c in cols:\n",
        "        if X_tr[c].dtype.kind in 'iu':\n",
        "            tr_val = int(pd.Series(X_tr[c]).mode(dropna=True).iloc[0]) if pd.Series(X_tr[c]).mode(dropna=True).shape[0] else 0\n",
        "            X_tr[c] = X_tr[c].fillna(tr_val).astype(X_tr[c].dtype)\n",
        "            X_te[c] = X_te[c].fillna(tr_val).astype(X_te[c].dtype)\n",
        "        else:\n",
        "            m = pd.to_numeric(X_tr[c], errors='coerce').astype('float32')\n",
        "            mean_val = float(np.nanmean(m)) if np.isfinite(np.nanmean(m)) else 0.0\n",
        "            X_tr[c] = pd.to_numeric(X_tr[c], errors='coerce').astype('float32').fillna(mean_val)\n",
        "            X_te[c] = pd.to_numeric(X_te[c], errors='coerce').astype('float32').fillna(mean_val)\n",
        "    return X_tr, X_te\n",
        "\n",
        "X_train, X_test = sanitize_train_test(X_train, X_test, lgb_features)\n",
        "\n",
        "# 4) Build and store a 3-fold molecule-aware mapping to reuse across models\n",
        "def build_molecule_folds(df: pd.DataFrame, n_splits: int = 3, seed: int = 42):\n",
        "    mols = df['molecule_name'].unique()\n",
        "    kf = KFold(n_splits=n_splits, shuffle=True, random_state=seed)\n",
        "    fold_of = {}\n",
        "    for f, (_, val_idx) in enumerate(kf.split(mols)):\n",
        "        for m in mols[val_idx]:\n",
        "            fold_of[m] = f\n",
        "    fold_idx = df['molecule_name'].map(fold_of).values\n",
        "    folds = [(np.where(fold_idx != i)[0], np.where(fold_idx == i)[0]) for i in range(n_splits)]\n",
        "    return folds, fold_of\n",
        "\n",
        "lgb_folds, mol2fold_3f = build_molecule_folds(X_train, n_splits=3, seed=42)\n",
        "assert X_train['molecule_name'].iloc[lgb_folds[0][0]].isin(X_train['molecule_name'].iloc[lgb_folds[0][1]]).sum() == 0, 'Leakage across folds'\n",
        "\n",
        "print('FE v3 done. lgb_features:', len(lgb_features), '| folds:', len(lgb_folds), '| elapsed min:', round((time.time()-t0)/60,2))"
      ],
      "execution_count": 28,
      "outputs": [
        {
          "output_type": "stream",
          "name": "stdout",
          "text": [
            "  FE v3 processed 1000 molecules...\n"
          ]
        },
        {
          "output_type": "stream",
          "name": "stdout",
          "text": [
            "  FE v3 processed 2000 molecules...\n"
          ]
        },
        {
          "output_type": "stream",
          "name": "stdout",
          "text": [
            "  FE v3 processed 3000 molecules...\n"
          ]
        },
        {
          "output_type": "stream",
          "name": "stdout",
          "text": [
            "  FE v3 processed 4000 molecules...\n"
          ]
        },
        {
          "output_type": "stream",
          "name": "stdout",
          "text": [
            "  FE v3 processed 5000 molecules...\n"
          ]
        },
        {
          "output_type": "stream",
          "name": "stdout",
          "text": [
            "  FE v3 processed 6000 molecules...\n"
          ]
        },
        {
          "output_type": "stream",
          "name": "stdout",
          "text": [
            "  FE v3 processed 7000 molecules...\n"
          ]
        },
        {
          "output_type": "stream",
          "name": "stdout",
          "text": [
            "  FE v3 processed 8000 molecules...\n"
          ]
        },
        {
          "output_type": "stream",
          "name": "stdout",
          "text": [
            "  FE v3 processed 9000 molecules...\n"
          ]
        },
        {
          "output_type": "stream",
          "name": "stdout",
          "text": [
            "  FE v3 processed 10000 molecules...\n"
          ]
        },
        {
          "output_type": "stream",
          "name": "stdout",
          "text": [
            "  FE v3 processed 11000 molecules...\n"
          ]
        },
        {
          "output_type": "stream",
          "name": "stdout",
          "text": [
            "  FE v3 processed 12000 molecules...\n"
          ]
        },
        {
          "output_type": "stream",
          "name": "stdout",
          "text": [
            "  FE v3 processed 13000 molecules...\n"
          ]
        },
        {
          "output_type": "stream",
          "name": "stdout",
          "text": [
            "  FE v3 processed 14000 molecules...\n"
          ]
        },
        {
          "output_type": "stream",
          "name": "stdout",
          "text": [
            "  FE v3 processed 15000 molecules...\n"
          ]
        },
        {
          "output_type": "stream",
          "name": "stdout",
          "text": [
            "  FE v3 processed 16000 molecules...\n"
          ]
        },
        {
          "output_type": "stream",
          "name": "stdout",
          "text": [
            "  FE v3 processed 17000 molecules...\n"
          ]
        },
        {
          "output_type": "stream",
          "name": "stdout",
          "text": [
            "  FE v3 processed 18000 molecules...\n"
          ]
        },
        {
          "output_type": "stream",
          "name": "stdout",
          "text": [
            "  FE v3 processed 19000 molecules...\n"
          ]
        },
        {
          "output_type": "stream",
          "name": "stdout",
          "text": [
            "  FE v3 processed 20000 molecules...\n"
          ]
        },
        {
          "output_type": "stream",
          "name": "stdout",
          "text": [
            "  FE v3 processed 21000 molecules...\n"
          ]
        },
        {
          "output_type": "stream",
          "name": "stdout",
          "text": [
            "  FE v3 processed 22000 molecules...\n"
          ]
        },
        {
          "output_type": "stream",
          "name": "stdout",
          "text": [
            "  FE v3 processed 23000 molecules...\n"
          ]
        },
        {
          "output_type": "stream",
          "name": "stdout",
          "text": [
            "  FE v3 processed 24000 molecules...\n"
          ]
        },
        {
          "output_type": "stream",
          "name": "stdout",
          "text": [
            "  FE v3 processed 25000 molecules...\n"
          ]
        },
        {
          "output_type": "stream",
          "name": "stdout",
          "text": [
            "  FE v3 processed 26000 molecules...\n"
          ]
        },
        {
          "output_type": "stream",
          "name": "stdout",
          "text": [
            "  FE v3 processed 27000 molecules...\n"
          ]
        },
        {
          "output_type": "stream",
          "name": "stdout",
          "text": [
            "  FE v3 processed 28000 molecules...\n"
          ]
        },
        {
          "output_type": "stream",
          "name": "stdout",
          "text": [
            "  FE v3 processed 29000 molecules...\n"
          ]
        },
        {
          "output_type": "stream",
          "name": "stdout",
          "text": [
            "  FE v3 processed 30000 molecules...\n"
          ]
        },
        {
          "output_type": "stream",
          "name": "stdout",
          "text": [
            "  FE v3 processed 31000 molecules...\n"
          ]
        },
        {
          "output_type": "stream",
          "name": "stdout",
          "text": [
            "  FE v3 processed 32000 molecules...\n"
          ]
        },
        {
          "output_type": "stream",
          "name": "stdout",
          "text": [
            "  FE v3 processed 33000 molecules...\n"
          ]
        },
        {
          "output_type": "stream",
          "name": "stdout",
          "text": [
            "  FE v3 processed 34000 molecules...\n"
          ]
        },
        {
          "output_type": "stream",
          "name": "stdout",
          "text": [
            "  FE v3 processed 35000 molecules...\n"
          ]
        },
        {
          "output_type": "stream",
          "name": "stdout",
          "text": [
            "  FE v3 processed 36000 molecules...\n"
          ]
        },
        {
          "output_type": "stream",
          "name": "stdout",
          "text": [
            "  FE v3 processed 37000 molecules...\n"
          ]
        },
        {
          "output_type": "stream",
          "name": "stdout",
          "text": [
            "  FE v3 processed 38000 molecules...\n"
          ]
        },
        {
          "output_type": "stream",
          "name": "stdout",
          "text": [
            "  FE v3 processed 39000 molecules...\n"
          ]
        },
        {
          "output_type": "stream",
          "name": "stdout",
          "text": [
            "  FE v3 processed 40000 molecules...\n"
          ]
        },
        {
          "output_type": "stream",
          "name": "stdout",
          "text": [
            "  FE v3 processed 41000 molecules...\n"
          ]
        },
        {
          "output_type": "stream",
          "name": "stdout",
          "text": [
            "  FE v3 processed 42000 molecules...\n"
          ]
        },
        {
          "output_type": "stream",
          "name": "stdout",
          "text": [
            "  FE v3 processed 43000 molecules...\n"
          ]
        },
        {
          "output_type": "stream",
          "name": "stdout",
          "text": [
            "  FE v3 processed 44000 molecules...\n"
          ]
        },
        {
          "output_type": "stream",
          "name": "stdout",
          "text": [
            "  FE v3 processed 45000 molecules...\n"
          ]
        },
        {
          "output_type": "stream",
          "name": "stdout",
          "text": [
            "  FE v3 processed 46000 molecules...\n"
          ]
        },
        {
          "output_type": "stream",
          "name": "stdout",
          "text": [
            "  FE v3 processed 47000 molecules...\n"
          ]
        },
        {
          "output_type": "stream",
          "name": "stdout",
          "text": [
            "  FE v3 processed 48000 molecules...\n"
          ]
        },
        {
          "output_type": "stream",
          "name": "stdout",
          "text": [
            "  FE v3 processed 49000 molecules...\n"
          ]
        },
        {
          "output_type": "stream",
          "name": "stdout",
          "text": [
            "  FE v3 processed 50000 molecules...\n"
          ]
        },
        {
          "output_type": "stream",
          "name": "stdout",
          "text": [
            "  FE v3 processed 51000 molecules...\n"
          ]
        },
        {
          "output_type": "stream",
          "name": "stdout",
          "text": [
            "  FE v3 processed 52000 molecules...\n"
          ]
        },
        {
          "output_type": "stream",
          "name": "stdout",
          "text": [
            "  FE v3 processed 53000 molecules...\n"
          ]
        },
        {
          "output_type": "stream",
          "name": "stdout",
          "text": [
            "  FE v3 processed 54000 molecules...\n"
          ]
        },
        {
          "output_type": "stream",
          "name": "stdout",
          "text": [
            "  FE v3 processed 55000 molecules...\n"
          ]
        },
        {
          "output_type": "stream",
          "name": "stdout",
          "text": [
            "  FE v3 processed 56000 molecules...\n"
          ]
        },
        {
          "output_type": "stream",
          "name": "stdout",
          "text": [
            "  FE v3 processed 57000 molecules...\n"
          ]
        },
        {
          "output_type": "stream",
          "name": "stdout",
          "text": [
            "  FE v3 processed 58000 molecules...\n"
          ]
        },
        {
          "output_type": "stream",
          "name": "stdout",
          "text": [
            "  FE v3 processed 59000 molecules...\n"
          ]
        },
        {
          "output_type": "stream",
          "name": "stdout",
          "text": [
            "  FE v3 processed 60000 molecules...\n"
          ]
        },
        {
          "output_type": "stream",
          "name": "stdout",
          "text": [
            "  FE v3 processed 61000 molecules...\n"
          ]
        },
        {
          "output_type": "stream",
          "name": "stdout",
          "text": [
            "  FE v3 processed 62000 molecules...\n"
          ]
        },
        {
          "output_type": "stream",
          "name": "stdout",
          "text": [
            "  FE v3 processed 63000 molecules...\n"
          ]
        },
        {
          "output_type": "stream",
          "name": "stdout",
          "text": [
            "  FE v3 processed 64000 molecules...\n"
          ]
        },
        {
          "output_type": "stream",
          "name": "stdout",
          "text": [
            "  FE v3 processed 65000 molecules...\n"
          ]
        },
        {
          "output_type": "stream",
          "name": "stdout",
          "text": [
            "  FE v3 processed 66000 molecules...\n"
          ]
        },
        {
          "output_type": "stream",
          "name": "stdout",
          "text": [
            "  FE v3 processed 67000 molecules...\n"
          ]
        },
        {
          "output_type": "stream",
          "name": "stdout",
          "text": [
            "  FE v3 processed 68000 molecules...\n"
          ]
        },
        {
          "output_type": "stream",
          "name": "stdout",
          "text": [
            "  FE v3 processed 69000 molecules...\n"
          ]
        },
        {
          "output_type": "stream",
          "name": "stdout",
          "text": [
            "  FE v3 processed 70000 molecules...\n"
          ]
        },
        {
          "output_type": "stream",
          "name": "stdout",
          "text": [
            "  FE v3 processed 71000 molecules...\n"
          ]
        },
        {
          "output_type": "stream",
          "name": "stdout",
          "text": [
            "  FE v3 processed 72000 molecules...\n"
          ]
        },
        {
          "output_type": "stream",
          "name": "stdout",
          "text": [
            "  FE v3 processed 73000 molecules...\n"
          ]
        },
        {
          "output_type": "stream",
          "name": "stdout",
          "text": [
            "  FE v3 processed 74000 molecules...\n"
          ]
        },
        {
          "output_type": "stream",
          "name": "stdout",
          "text": [
            "  FE v3 processed 75000 molecules...\n"
          ]
        },
        {
          "output_type": "stream",
          "name": "stdout",
          "text": [
            "  FE v3 processed 76000 molecules...\n"
          ]
        },
        {
          "output_type": "stream",
          "name": "stdout",
          "text": [
            "Added FE v3 true geometry in 5.1 min\n"
          ]
        },
        {
          "output_type": "stream",
          "name": "stdout",
          "text": [
            "FE v3 done. lgb_features: 70 | folds: 3 | elapsed min: 5.17\n"
          ]
        }
      ]
    },
    {
      "id": "83d50505-a887-4270-b7d8-bf3d2bc82857",
      "cell_type": "code",
      "metadata": {},
      "source": [
        "# LightGBM per-type 3-fold CPU training with FE v3 features\n",
        "import time, numpy as np, pandas as pd\n",
        "from sklearn.metrics import mean_absolute_error\n",
        "\n",
        "try:\n",
        "    import lightgbm as lgb\n",
        "except Exception:\n",
        "    import sys, subprocess, importlib\n",
        "    subprocess.check_call([sys.executable, '-m', 'pip', 'install', 'lightgbm==4.6.0'])\n",
        "    importlib.invalidate_caches()\n",
        "    import lightgbm as lgb\n",
        "\n",
        "assert 'lgb_features' in globals(), 'Run prep cell to build lgb_features and folds first.'\n",
        "assert 'lgb_folds' in globals(), 'Run prep cell to build lgb_folds first.'\n",
        "\n",
        "def lgb_params_for_type(t: str):\n",
        "    base = dict(objective='mae', metric='mae', boosting_type='gbdt',\n",
        "                learning_rate=0.1, n_jobs=-1, feature_fraction=0.8,\n",
        "                bagging_fraction=0.8, bagging_freq=1, max_bin=256, reg_lambda=1.0, verbose=-1)\n",
        "    if t.startswith('1J'):\n",
        "        base.update(dict(num_leaves=56, min_data_in_leaf=180, learning_rate=0.12, n_estimators=800))\n",
        "    elif t.startswith('2J'):\n",
        "        base.update(dict(num_leaves=96, min_data_in_leaf=100, learning_rate=0.10, n_estimators=1000))\n",
        "    elif t.startswith('3J'):\n",
        "        base.update(dict(num_leaves=128, min_data_in_leaf=50, learning_rate=0.08, n_estimators=1400))\n",
        "    else:\n",
        "        base.update(dict(num_leaves=96, min_data_in_leaf=100, learning_rate=0.10, n_estimators=1000))\n",
        "    return base\n",
        "\n",
        "def lmae_score_fast(y_true: np.ndarray, y_pred: np.ndarray, types: pd.Series, eps: float = 1e-9) -> float:\n",
        "    df = pd.DataFrame({'y': y_true, 'p': y_pred, 'type': types})\n",
        "    mae_by_type = df.groupby('type').apply(lambda g: float(np.mean(np.abs(g['y'].values - g['p'].values)))).astype('float64')\n",
        "    return float(np.log(mae_by_type.clip(lower=eps)).mean())\n",
        "\n",
        "types_list = sorted(X_train['type'].unique())\n",
        "# Prioritize heavy 3J first\n",
        "types_order = [t for t in types_list if t.startswith('3J')] + [t for t in types_list if t.startswith('2J')] + [t for t in types_list if t.startswith('1J')]\n",
        "\n",
        "oof_lgb = np.zeros(len(X_train), dtype=np.float32)\n",
        "test_lgb = np.zeros(len(X_test), dtype=np.float32)\n",
        "per_type_mae = {}\n",
        "\n",
        "start_all = time.time()\n",
        "for t in types_order:\n",
        "    params = lgb_params_for_type(t)\n",
        "    n_estimators_cap = params.pop('n_estimators')\n",
        "    tr_mask = (X_train['type'] == t).values\n",
        "    te_mask = (X_test['type'] == t).values\n",
        "    X_t = X_train.loc[tr_mask, lgb_features].astype('float32')\n",
        "    y_t = X_train.loc[tr_mask, 'scalar_coupling_constant'].astype('float32').values\n",
        "    X_te_t = X_test.loc[te_mask, lgb_features].astype('float32')\n",
        "    idx_t = np.where(tr_mask)[0]\n",
        "    oof_t = np.zeros(X_t.shape[0], dtype=np.float32)\n",
        "    pred_te_t = np.zeros(X_te_t.shape[0], dtype=np.float32)\n",
        "    print(f\"\\n[LGBM] Type {t}: n_train={X_t.shape[0]} n_test={X_te_t.shape[0]}\", flush=True)\n",
        "    for fold_i, (tr_idx_all, va_idx_all) in enumerate(lgb_folds):\n",
        "        tr_loc = np.intersect1d(idx_t, tr_idx_all, assume_unique=False)\n",
        "        va_loc = np.intersect1d(idx_t, va_idx_all, assume_unique=False)\n",
        "        tr_loc_local = np.searchsorted(idx_t, tr_loc)\n",
        "        va_loc_local = np.searchsorted(idx_t, va_loc)\n",
        "        if len(va_loc_local) == 0 or len(tr_loc_local) == 0:\n",
        "            continue\n",
        "        t0 = time.time()\n",
        "        dtrain = lgb.Dataset(X_t.iloc[tr_loc_local, :], label=y_t[tr_loc_local], free_raw_data=False)\n",
        "        dvalid = lgb.Dataset(X_t.iloc[va_loc_local, :], label=y_t[va_loc_local], reference=dtrain, free_raw_data=False)\n",
        "        booster = lgb.train(params, dtrain, num_boost_round=int(n_estimators_cap),\n",
        "                            valid_sets=[dtrain, dvalid], valid_names=['train','valid'],\n",
        "                            callbacks=[lgb.early_stopping(stopping_rounds=100, verbose=False)])\n",
        "        best_it = booster.best_iteration if booster.best_iteration is not None else booster.current_iteration()\n",
        "        oof_t[va_loc_local] = booster.predict(X_t.iloc[va_loc_local, :], num_iteration=best_it).astype('float32')\n",
        "        pred_te_t += booster.predict(X_te_t, num_iteration=best_it).astype('float32') / len(lgb_folds)\n",
        "        dt = time.time() - t0\n",
        "        mae_fold = mean_absolute_error(y_t[va_loc_local], oof_t[va_loc_local])\n",
        "        print(f\"  Fold {fold_i}: n_tr={len(tr_loc_local)} n_va={len(va_loc_local)} | MAE={mae_fold:.5f} | it={best_it} | {dt:.1f}s\", flush=True)\n",
        "    oof_lgb[idx_t] = oof_t\n",
        "    test_lgb[te_mask] = pred_te_t\n",
        "    mae_t = float(np.mean(np.abs(y_t - oof_t)))\n",
        "    per_type_mae[t] = mae_t\n",
        "    print(f\"[LGBM] Type {t}: MAE={mae_t:.6f}\", flush=True)\n",
        "\n",
        "overall_lmae = lmae_score_fast(X_train['scalar_coupling_constant'].values, oof_lgb, X_train['type'])\n",
        "print('\\nPer-type MAE (LGBM):', {k: round(v,6) for k,v in per_type_mae.items()})\n",
        "print(f\"Overall OOF LMAE (LGBM): {overall_lmae:.6f} | elapsed {(time.time()-start_all)/60:.1f} min\", flush=True)\n",
        "\n",
        "# Save artifacts\n",
        "np.save('oof_lgb.npy', oof_lgb.astype('float32'))\n",
        "np.save('pred_test_lgb.npy', test_lgb.astype('float32'))\n",
        "pd.Series(per_type_mae).to_csv('per_type_mae_lgb.csv')\n",
        "\n",
        "# Build submission from LGBM as anchor\n",
        "sub_lgb = pd.DataFrame({'id': X_test['id'].values, 'scalar_coupling_constant': test_lgb.astype('float32')}).sort_values('id')\n",
        "sub_lgb.to_csv('submission.csv', index=False)\n",
        "print('Saved LGBM submission.csv:', sub_lgb.shape, 'head:\\n', sub_lgb.head())"
      ],
      "execution_count": 40,
      "outputs": [
        {
          "output_type": "stream",
          "name": "stdout",
          "text": [
            "\n[LGBM] Type 3JHC: n_train=1359077 n_test=152130\n"
          ]
        },
        {
          "output_type": "stream",
          "name": "stdout",
          "text": [
            "  Fold 0: n_tr=904819 n_va=454258 | MAE=1.17752 | it=1400 | 42.5s\n"
          ]
        },
        {
          "output_type": "stream",
          "name": "stdout",
          "text": [
            "  Fold 1: n_tr=906154 n_va=452923 | MAE=1.16985 | it=1400 | 42.0s\n"
          ]
        },
        {
          "output_type": "stream",
          "name": "stdout",
          "text": [
            "  Fold 2: n_tr=907181 n_va=451896 | MAE=1.17586 | it=1400 | 44.4s\n"
          ]
        },
        {
          "output_type": "stream",
          "name": "stdout",
          "text": [
            "[LGBM] Type 3JHC: MAE=1.174413\n"
          ]
        },
        {
          "output_type": "stream",
          "name": "stdout",
          "text": [
            "\n[LGBM] Type 3JHH: n_train=531224 n_test=59305\n"
          ]
        },
        {
          "output_type": "stream",
          "name": "stdout",
          "text": [
            "  Fold 0: n_tr=354056 n_va=177168 | MAE=0.70301 | it=1400 | 21.9s\n"
          ]
        },
        {
          "output_type": "stream",
          "name": "stdout",
          "text": [
            "  Fold 1: n_tr=353202 n_va=178022 | MAE=0.69360 | it=1400 | 21.8s\n"
          ]
        },
        {
          "output_type": "stream",
          "name": "stdout",
          "text": [
            "  Fold 2: n_tr=355190 n_va=176034 | MAE=0.70038 | it=1400 | 24.0s\n"
          ]
        },
        {
          "output_type": "stream",
          "name": "stdout",
          "text": [
            "[LGBM] Type 3JHH: MAE=0.698984\n"
          ]
        },
        {
          "output_type": "stream",
          "name": "stdout",
          "text": [
            "\n[LGBM] Type 3JHN: n_train=150067 n_test=16546\n"
          ]
        },
        {
          "output_type": "stream",
          "name": "stdout",
          "text": [
            "  Fold 0: n_tr=100305 n_va=49762 | MAE=0.36148 | it=1400 | 13.8s\n"
          ]
        },
        {
          "output_type": "stream",
          "name": "stdout",
          "text": [
            "  Fold 1: n_tr=99840 n_va=50227 | MAE=0.35832 | it=1400 | 12.2s\n"
          ]
        },
        {
          "output_type": "stream",
          "name": "stdout",
          "text": [
            "  Fold 2: n_tr=99989 n_va=50078 | MAE=0.36210 | it=1400 | 13.0s\n"
          ]
        },
        {
          "output_type": "stream",
          "name": "stdout",
          "text": [
            "[LGBM] Type 3JHN: MAE=0.360631\n"
          ]
        },
        {
          "output_type": "stream",
          "name": "stdout",
          "text": [
            "\n[LGBM] Type 2JHC: n_train=1026379 n_test=114488\n"
          ]
        },
        {
          "output_type": "stream",
          "name": "stdout",
          "text": [
            "  Fold 0: n_tr=683209 n_va=343170 | MAE=1.04589 | it=1000 | 26.0s\n"
          ]
        },
        {
          "output_type": "stream",
          "name": "stdout",
          "text": [
            "  Fold 1: n_tr=683994 n_va=342385 | MAE=1.03020 | it=1000 | 23.1s\n"
          ]
        },
        {
          "output_type": "stream",
          "name": "stdout",
          "text": [
            "  Fold 2: n_tr=685555 n_va=340824 | MAE=1.04146 | it=1000 | 23.1s\n"
          ]
        },
        {
          "output_type": "stream",
          "name": "stdout",
          "text": [
            "[LGBM] Type 2JHC: MAE=1.039188\n"
          ]
        },
        {
          "output_type": "stream",
          "name": "stdout",
          "text": [
            "\n[LGBM] Type 2JHH: n_train=340097 n_test=37891\n"
          ]
        },
        {
          "output_type": "stream",
          "name": "stdout",
          "text": [
            "  Fold 0: n_tr=226826 n_va=113271 | MAE=0.48423 | it=1000 | 12.6s\n"
          ]
        },
        {
          "output_type": "stream",
          "name": "stdout",
          "text": [
            "  Fold 1: n_tr=226656 n_va=113441 | MAE=0.47373 | it=1000 | 10.7s\n"
          ]
        },
        {
          "output_type": "stream",
          "name": "stdout",
          "text": [
            "  Fold 2: n_tr=226712 n_va=113385 | MAE=0.48050 | it=1000 | 11.4s\n"
          ]
        },
        {
          "output_type": "stream",
          "name": "stdout",
          "text": [
            "[LGBM] Type 2JHH: MAE=0.479484\n"
          ]
        },
        {
          "output_type": "stream",
          "name": "stdout",
          "text": [
            "\n[LGBM] Type 2JHN: n_train=107091 n_test=11968\n"
          ]
        },
        {
          "output_type": "stream",
          "name": "stdout",
          "text": [
            "  Fold 0: n_tr=71887 n_va=35204 | MAE=0.69451 | it=1000 | 6.6s\n"
          ]
        },
        {
          "output_type": "stream",
          "name": "stdout",
          "text": [
            "  Fold 1: n_tr=71216 n_va=35875 | MAE=0.69152 | it=1000 | 7.4s\n"
          ]
        },
        {
          "output_type": "stream",
          "name": "stdout",
          "text": [
            "  Fold 2: n_tr=71079 n_va=36012 | MAE=0.69611 | it=1000 | 6.6s\n"
          ]
        },
        {
          "output_type": "stream",
          "name": "stdout",
          "text": [
            "[LGBM] Type 2JHN: MAE=0.694049\n"
          ]
        },
        {
          "output_type": "stream",
          "name": "stdout",
          "text": [
            "\n[LGBM] Type 1JHC: n_train=637912 n_test=71221\n"
          ]
        },
        {
          "output_type": "stream",
          "name": "stdout",
          "text": [
            "  Fold 0: n_tr=425180 n_va=212732 | MAE=2.13600 | it=800 | 10.9s\n"
          ]
        },
        {
          "output_type": "stream",
          "name": "stdout",
          "text": [
            "  Fold 1: n_tr=425134 n_va=212778 | MAE=2.13272 | it=800 | 12.1s\n"
          ]
        },
        {
          "output_type": "stream",
          "name": "stdout",
          "text": [
            "  Fold 2: n_tr=425510 n_va=212402 | MAE=2.13826 | it=800 | 10.5s\n"
          ]
        },
        {
          "output_type": "stream",
          "name": "stdout",
          "text": [
            "[LGBM] Type 1JHC: MAE=2.135657\n"
          ]
        },
        {
          "output_type": "stream",
          "name": "stdout",
          "text": [
            "\n[LGBM] Type 1JHN: n_train=39416 n_test=4264\n"
          ]
        },
        {
          "output_type": "stream",
          "name": "stdout",
          "text": [
            "  Fold 0: n_tr=26428 n_va=12988 | MAE=0.87146 | it=800 | 8.6s\n"
          ]
        },
        {
          "output_type": "stream",
          "name": "stdout",
          "text": [
            "  Fold 1: n_tr=26195 n_va=13221 | MAE=0.84896 | it=800 | 2.9s\n"
          ]
        },
        {
          "output_type": "stream",
          "name": "stdout",
          "text": [
            "  Fold 2: n_tr=26209 n_va=13207 | MAE=0.87227 | it=800 | 2.8s\n"
          ]
        },
        {
          "output_type": "stream",
          "name": "stdout",
          "text": [
            "[LGBM] Type 1JHN: MAE=0.864185\n"
          ]
        },
        {
          "output_type": "stream",
          "name": "stdout",
          "text": [
            "\nPer-type MAE (LGBM): {'3JHC': 1.174413, '3JHH': 0.698984, '3JHN': 0.360631, '2JHC': 1.039188, '2JHH': 0.479484, '2JHN': 0.694049, '1JHC': 2.135657, '1JHN': 0.864185}\nOverall OOF LMAE (LGBM): -0.208284 | elapsed 7.0 min\n"
          ]
        },
        {
          "output_type": "stream",
          "name": "stderr",
          "text": [
            "/tmp/ipykernel_5170/2885112251.py:32: DeprecationWarning: DataFrameGroupBy.apply operated on the grouping columns. This behavior is deprecated, and in a future version of pandas the grouping columns will be excluded from the operation. Either pass `include_groups=False` to exclude the groupings or explicitly select the grouping columns after groupby to silence this warning.\n  mae_by_type = df.groupby('type').apply(lambda g: float(np.mean(np.abs(g['y'].values - g['p'].values)))).astype('float64')\n"
          ]
        },
        {
          "output_type": "stream",
          "name": "stdout",
          "text": [
            "Saved LGBM submission.csv: (467813, 2) head:\n          id  scalar_coupling_constant\n335622  276                116.564529\n335623  277                  0.496286\n335624  278                  5.943921\n335625  279                  5.943921\n335626  280                  0.496286\n"
          ]
        }
      ]
    },
    {
      "id": "5952ec03-fa76-44ad-b1d6-264aa62fefdd",
      "cell_type": "code",
      "metadata": {},
      "source": [
        "# LightGBM per-type 3-fold CPU training (Seed 2) for blending\n",
        "import time, numpy as np, pandas as pd\n",
        "from sklearn.metrics import mean_absolute_error\n",
        "\n",
        "try:\n",
        "    import lightgbm as lgb\n",
        "except Exception:\n",
        "    import sys, subprocess, importlib\n",
        "    subprocess.check_call([sys.executable, '-m', 'pip', 'install', 'lightgbm==4.6.0'])\n",
        "    importlib.invalidate_caches()\n",
        "    import lightgbm as lgb\n",
        "\n",
        "assert 'lgb_features' in globals(), 'Run prep cell to build lgb_features and folds first.'\n",
        "assert 'lgb_folds' in globals(), 'Run prep cell to build lgb_folds first.'\n",
        "\n",
        "def lgb_params_for_type_seed2(t: str):\n",
        "    base = dict(objective='mae', metric='mae', boosting_type='gbdt',\n",
        "                learning_rate=0.1, n_jobs=-1, feature_fraction=0.75,\n",
        "                bagging_fraction=0.85, bagging_freq=1, max_bin=256, reg_lambda=1.0,\n",
        "                verbose=-1, random_seed=1337)\n",
        "    if t.startswith('1J'):\n",
        "        base.update(dict(num_leaves=56, min_data_in_leaf=180, learning_rate=0.12, n_estimators=800))\n",
        "    elif t.startswith('2J'):\n",
        "        base.update(dict(num_leaves=96, min_data_in_leaf=100, learning_rate=0.10, n_estimators=1000))\n",
        "    elif t.startswith('3J'):\n",
        "        base.update(dict(num_leaves=128, min_data_in_leaf=50, learning_rate=0.08, n_estimators=1400))\n",
        "    else:\n",
        "        base.update(dict(num_leaves=96, min_data_in_leaf=100, learning_rate=0.10, n_estimators=1000))\n",
        "    return base\n",
        "\n",
        "def lmae_score_fast(y_true: np.ndarray, y_pred: np.ndarray, types: pd.Series, eps: float = 1e-9) -> float:\n",
        "    df = pd.DataFrame({'y': y_true, 'p': y_pred, 'type': types})\n",
        "    mae_by_type = df.groupby('type').apply(lambda g: float(np.mean(np.abs(g['y'].values - g['p'].values)))).astype('float64')\n",
        "    return float(np.log(mae_by_type.clip(lower=eps)).mean())\n",
        "\n",
        "types_list = sorted(X_train['type'].unique())\n",
        "types_order = [t for t in types_list if t.startswith('3J')] + [t for t in types_list if t.startswith('2J')] + [t for t in types_list if t.startswith('1J')]\n",
        "\n",
        "oof_lgb2 = np.zeros(len(X_train), dtype=np.float32)\n",
        "test_lgb2 = np.zeros(len(X_test), dtype=np.float32)\n",
        "per_type_mae2 = {}\n",
        "\n",
        "start_all = time.time()\n",
        "for t in types_order:\n",
        "    params = lgb_params_for_type_seed2(t)\n",
        "    n_estimators_cap = params.pop('n_estimators')\n",
        "    tr_mask = (X_train['type'] == t).values\n",
        "    te_mask = (X_test['type'] == t).values\n",
        "    X_t = X_train.loc[tr_mask, lgb_features].astype('float32')\n",
        "    y_t = X_train.loc[tr_mask, 'scalar_coupling_constant'].astype('float32').values\n",
        "    X_te_t = X_test.loc[te_mask, lgb_features].astype('float32')\n",
        "    idx_t = np.where(tr_mask)[0]\n",
        "    oof_t = np.zeros(X_t.shape[0], dtype=np.float32)\n",
        "    pred_te_t = np.zeros(X_te_t.shape[0], dtype=np.float32)\n",
        "    print(f\"\\n[LGBM-seed2] Type {t}: n_train={X_t.shape[0]} n_test={X_te_t.shape[0]}\", flush=True)\n",
        "    for fold_i, (tr_idx_all, va_idx_all) in enumerate(lgb_folds):\n",
        "        tr_loc = np.intersect1d(idx_t, tr_idx_all, assume_unique=False)\n",
        "        va_loc = np.intersect1d(idx_t, va_idx_all, assume_unique=False)\n",
        "        tr_loc_local = np.searchsorted(idx_t, tr_loc)\n",
        "        va_loc_local = np.searchsorted(idx_t, va_loc)\n",
        "        if len(va_loc_local) == 0 or len(tr_loc_local) == 0:\n",
        "            continue\n",
        "        t0 = time.time()\n",
        "        dtrain = lgb.Dataset(X_t.iloc[tr_loc_local, :], label=y_t[tr_loc_local], free_raw_data=False)\n",
        "        dvalid = lgb.Dataset(X_t.iloc[va_loc_local, :], label=y_t[va_loc_local], reference=dtrain, free_raw_data=False)\n",
        "        booster = lgb.train(params, dtrain, num_boost_round=int(n_estimators_cap),\n",
        "                            valid_sets=[dtrain, dvalid], valid_names=['train','valid'],\n",
        "                            callbacks=[lgb.early_stopping(stopping_rounds=100, verbose=False)])\n",
        "        best_it = booster.best_iteration if booster.best_iteration is not None else booster.current_iteration()\n",
        "        oof_t[va_loc_local] = booster.predict(X_t.iloc[va_loc_local, :], num_iteration=best_it).astype('float32')\n",
        "        pred_te_t += booster.predict(X_te_t, num_iteration=best_it).astype('float32') / len(lgb_folds)\n",
        "        dt = time.time() - t0\n",
        "        mae_fold = mean_absolute_error(y_t[va_loc_local], oof_t[va_loc_local])\n",
        "        print(f\"  Fold {fold_i}: n_tr={len(tr_loc_local)} n_va={len(va_loc_local)} | MAE={mae_fold:.5f} | it={best_it} | {dt:.1f}s\", flush=True)\n",
        "    oof_lgb2[idx_t] = oof_t\n",
        "    test_lgb2[te_mask] = pred_te_t\n",
        "    mae_t = float(np.mean(np.abs(y_t - oof_t)))\n",
        "    per_type_mae2[t] = mae_t\n",
        "    print(f\"[LGBM-seed2] Type {t}: MAE={mae_t:.6f}\", flush=True)\n",
        "\n",
        "overall_lmae2 = lmae_score_fast(X_train['scalar_coupling_constant'].values, oof_lgb2, X_train['type'])\n",
        "print('\\nPer-type MAE (LGBM seed2):', {k: round(v,6) for k,v in per_type_mae2.items()})\n",
        "print(f\"Overall OOF LMAE (LGBM seed2): {overall_lmae2:.6f} | elapsed {(time.time()-start_all)/60:.1f} min\", flush=True)\n",
        "\n",
        "# Save artifacts\n",
        "np.save('oof_lgb2.npy', oof_lgb2.astype('float32'))\n",
        "np.save('pred_test_lgb2.npy', test_lgb2.astype('float32'))\n",
        "pd.Series(per_type_mae2).to_csv('per_type_mae_lgb2.csv')\n",
        "print('Saved LGBM seed2 artifacts.')"
      ],
      "execution_count": 41,
      "outputs": [
        {
          "output_type": "stream",
          "name": "stdout",
          "text": [
            "\n[LGBM-seed2] Type 3JHC: n_train=1359077 n_test=152130\n"
          ]
        },
        {
          "output_type": "stream",
          "name": "stdout",
          "text": [
            "  Fold 0: n_tr=904819 n_va=454258 | MAE=1.17598 | it=1400 | 66.7s\n"
          ]
        },
        {
          "output_type": "stream",
          "name": "stdout",
          "text": [
            "  Fold 1: n_tr=906154 n_va=452923 | MAE=1.17036 | it=1400 | 43.7s\n"
          ]
        },
        {
          "output_type": "stream",
          "name": "stdout",
          "text": [
            "  Fold 2: n_tr=907181 n_va=451896 | MAE=1.17843 | it=1400 | 43.7s\n"
          ]
        },
        {
          "output_type": "stream",
          "name": "stdout",
          "text": [
            "[LGBM-seed2] Type 3JHC: MAE=1.174924\n"
          ]
        },
        {
          "output_type": "stream",
          "name": "stdout",
          "text": [
            "\n[LGBM-seed2] Type 3JHH: n_train=531224 n_test=59305\n"
          ]
        },
        {
          "output_type": "stream",
          "name": "stdout",
          "text": [
            "  Fold 0: n_tr=354056 n_va=177168 | MAE=0.70574 | it=1400 | 22.5s\n"
          ]
        },
        {
          "output_type": "stream",
          "name": "stdout",
          "text": [
            "  Fold 1: n_tr=353202 n_va=178022 | MAE=0.69505 | it=1400 | 22.2s\n"
          ]
        },
        {
          "output_type": "stream",
          "name": "stdout",
          "text": [
            "  Fold 2: n_tr=355190 n_va=176034 | MAE=0.70160 | it=1400 | 23.2s\n"
          ]
        },
        {
          "output_type": "stream",
          "name": "stdout",
          "text": [
            "[LGBM-seed2] Type 3JHH: MAE=0.700787\n"
          ]
        },
        {
          "output_type": "stream",
          "name": "stdout",
          "text": [
            "\n[LGBM-seed2] Type 3JHN: n_train=150067 n_test=16546\n"
          ]
        },
        {
          "output_type": "stream",
          "name": "stdout",
          "text": [
            "  Fold 0: n_tr=100305 n_va=49762 | MAE=0.36120 | it=1400 | 13.5s\n"
          ]
        },
        {
          "output_type": "stream",
          "name": "stdout",
          "text": [
            "  Fold 1: n_tr=99840 n_va=50227 | MAE=0.35730 | it=1400 | 13.1s\n"
          ]
        },
        {
          "output_type": "stream",
          "name": "stdout",
          "text": [
            "  Fold 2: n_tr=99989 n_va=50078 | MAE=0.36116 | it=1400 | 12.7s\n"
          ]
        },
        {
          "output_type": "stream",
          "name": "stdout",
          "text": [
            "[LGBM-seed2] Type 3JHN: MAE=0.359883\n"
          ]
        },
        {
          "output_type": "stream",
          "name": "stdout",
          "text": [
            "\n[LGBM-seed2] Type 2JHC: n_train=1026379 n_test=114488\n"
          ]
        },
        {
          "output_type": "stream",
          "name": "stdout",
          "text": [
            "  Fold 0: n_tr=683209 n_va=343170 | MAE=1.04606 | it=1000 | 37.6s\n"
          ]
        },
        {
          "output_type": "stream",
          "name": "stdout",
          "text": [
            "  Fold 1: n_tr=683994 n_va=342385 | MAE=1.03249 | it=1000 | 22.5s\n"
          ]
        },
        {
          "output_type": "stream",
          "name": "stdout",
          "text": [
            "  Fold 2: n_tr=685555 n_va=340824 | MAE=1.04061 | it=1000 | 24.0s\n"
          ]
        },
        {
          "output_type": "stream",
          "name": "stdout",
          "text": [
            "[LGBM-seed2] Type 2JHC: MAE=1.039725\n"
          ]
        },
        {
          "output_type": "stream",
          "name": "stdout",
          "text": [
            "\n[LGBM-seed2] Type 2JHH: n_train=340097 n_test=37891\n"
          ]
        },
        {
          "output_type": "stream",
          "name": "stdout",
          "text": [
            "  Fold 0: n_tr=226826 n_va=113271 | MAE=0.48368 | it=1000 | 11.5s\n"
          ]
        },
        {
          "output_type": "stream",
          "name": "stdout",
          "text": [
            "  Fold 1: n_tr=226656 n_va=113441 | MAE=0.47317 | it=1000 | 10.4s\n"
          ]
        },
        {
          "output_type": "stream",
          "name": "stdout",
          "text": [
            "  Fold 2: n_tr=226712 n_va=113385 | MAE=0.47891 | it=1000 | 12.3s\n"
          ]
        },
        {
          "output_type": "stream",
          "name": "stdout",
          "text": [
            "[LGBM-seed2] Type 2JHH: MAE=0.478584\n"
          ]
        },
        {
          "output_type": "stream",
          "name": "stdout",
          "text": [
            "\n[LGBM-seed2] Type 2JHN: n_train=107091 n_test=11968\n"
          ]
        },
        {
          "output_type": "stream",
          "name": "stdout",
          "text": [
            "  Fold 0: n_tr=71887 n_va=35204 | MAE=0.69451 | it=1000 | 6.6s\n"
          ]
        },
        {
          "output_type": "stream",
          "name": "stdout",
          "text": [
            "  Fold 1: n_tr=71216 n_va=35875 | MAE=0.68966 | it=1000 | 6.6s\n"
          ]
        },
        {
          "output_type": "stream",
          "name": "stdout",
          "text": [
            "  Fold 2: n_tr=71079 n_va=36012 | MAE=0.70006 | it=1000 | 7.2s\n"
          ]
        },
        {
          "output_type": "stream",
          "name": "stdout",
          "text": [
            "[LGBM-seed2] Type 2JHN: MAE=0.694750\n"
          ]
        },
        {
          "output_type": "stream",
          "name": "stdout",
          "text": [
            "\n[LGBM-seed2] Type 1JHC: n_train=637912 n_test=71221\n"
          ]
        },
        {
          "output_type": "stream",
          "name": "stdout",
          "text": [
            "  Fold 0: n_tr=425180 n_va=212732 | MAE=2.12692 | it=800 | 10.9s\n"
          ]
        },
        {
          "output_type": "stream",
          "name": "stdout",
          "text": [
            "  Fold 1: n_tr=425134 n_va=212778 | MAE=2.13200 | it=800 | 11.9s\n"
          ]
        },
        {
          "output_type": "stream",
          "name": "stdout",
          "text": [
            "  Fold 2: n_tr=425510 n_va=212402 | MAE=2.14268 | it=800 | 10.9s\n"
          ]
        },
        {
          "output_type": "stream",
          "name": "stdout",
          "text": [
            "[LGBM-seed2] Type 1JHC: MAE=2.133864\n"
          ]
        },
        {
          "output_type": "stream",
          "name": "stdout",
          "text": [
            "\n[LGBM-seed2] Type 1JHN: n_train=39416 n_test=4264\n"
          ]
        },
        {
          "output_type": "stream",
          "name": "stdout",
          "text": [
            "  Fold 0: n_tr=26428 n_va=12988 | MAE=0.87444 | it=800 | 3.1s\n"
          ]
        },
        {
          "output_type": "stream",
          "name": "stdout",
          "text": [
            "  Fold 1: n_tr=26195 n_va=13221 | MAE=0.83312 | it=800 | 7.9s\n"
          ]
        },
        {
          "output_type": "stream",
          "name": "stdout",
          "text": [
            "  Fold 2: n_tr=26209 n_va=13207 | MAE=0.85862 | it=800 | 2.9s\n"
          ]
        },
        {
          "output_type": "stream",
          "name": "stdout",
          "text": [
            "[LGBM-seed2] Type 1JHN: MAE=0.855279\n"
          ]
        },
        {
          "output_type": "stream",
          "name": "stdout",
          "text": [
            "\nPer-type MAE (LGBM seed2): {'3JHC': 1.174924, '3JHH': 0.700787, '3JHN': 0.359883, '2JHC': 1.039725, '2JHH': 0.478584, '2JHN': 0.69475, '1JHC': 2.133864, '1JHN': 0.855279}\nOverall OOF LMAE (LGBM seed2): -0.209611 | elapsed 7.6 min\n"
          ]
        },
        {
          "output_type": "stream",
          "name": "stdout",
          "text": [
            "Saved LGBM seed2 artifacts.\n"
          ]
        },
        {
          "output_type": "stream",
          "name": "stderr",
          "text": [
            "/tmp/ipykernel_5170/3083191111.py:33: DeprecationWarning: DataFrameGroupBy.apply operated on the grouping columns. This behavior is deprecated, and in a future version of pandas the grouping columns will be excluded from the operation. Either pass `include_groups=False` to exclude the groupings or explicitly select the grouping columns after groupby to silence this warning.\n  mae_by_type = df.groupby('type').apply(lambda g: float(np.mean(np.abs(g['y'].values - g['p'].values)))).astype('float64')\n"
          ]
        }
      ]
    },
    {
      "id": "47ee2664-1ee0-4fd2-8376-bef3a00df501",
      "cell_type": "code",
      "metadata": {},
      "source": [
        "# Blend two LGBM seeds per-type (grid search weights) and build submission\n",
        "import numpy as np, pandas as pd, time, os\n",
        "from sklearn.metrics import mean_absolute_error\n",
        "\n",
        "def lmae_score_fast(y_true: np.ndarray, y_pred: np.ndarray, types: pd.Series, eps: float = 1e-9) -> float:\n",
        "    df = pd.DataFrame({'y': y_true, 'p': y_pred, 'type': types})\n",
        "    mae_by_type = df.groupby('type').apply(lambda g: float(np.mean(np.abs(g['y'].values - g['p'].values)))).astype('float64')\n",
        "    return float(np.log(mae_by_type.clip(lower=eps)).mean())\n",
        "\n",
        "# Load artifacts (fallback to in-memory if present)\n",
        "if os.path.exists('oof_lgb.npy') and os.path.exists('oof_lgb2.npy'):\n",
        "    oof1 = np.load('oof_lgb.npy')\n",
        "    oof2 = np.load('oof_lgb2.npy')\n",
        "    te1 = np.load('pred_test_lgb.npy')\n",
        "    te2 = np.load('pred_test_lgb2.npy')\n",
        "else:\n",
        "    oof1 = oof_lgb.copy(); oof2 = oof_lgb2.copy()\n",
        "    te1 = test_lgb.copy(); te2 = test_lgb2.copy()\n",
        "\n",
        "types = X_train['type'].values\n",
        "test_types = X_test['type'].values\n",
        "y = X_train['scalar_coupling_constant'].values.astype('float32')\n",
        "\n",
        "w_grid = np.linspace(0.0, 1.0, 21)\n",
        "blend_oof = np.zeros_like(oof1, dtype=np.float32)\n",
        "blend_test = np.zeros_like(te1, dtype=np.float32)\n",
        "w_per_type = {}\n",
        "\n",
        "start = time.time()\n",
        "for t in sorted(pd.unique(types)):\n",
        "    m = (types == t)\n",
        "    best_mae, best_w = 1e9, 0.5\n",
        "    for w in w_grid:\n",
        "        o = w*oof1[m] + (1.0-w)*oof2[m]\n",
        "        mae = float(np.mean(np.abs(y[m] - o)))\n",
        "        if mae < best_mae:\n",
        "            best_mae, best_w = mae, float(w)\n",
        "    w_per_type[t] = best_w\n",
        "    blend_oof[m] = best_w*oof1[m] + (1.0-best_w)*oof2[m]\n",
        "    mt = (test_types == t)\n",
        "    blend_test[mt] = best_w*te1[mt] + (1.0-best_w)*te2[mt]\n",
        "print('Per-type weights (LGBM seeds):', w_per_type)\n",
        "\n",
        "overall_lmae = lmae_score_fast(y, blend_oof, X_train['type'])\n",
        "print(f'OOF LMAE (LGBM seeds blend): {overall_lmae:.6f} | elapsed {(time.time()-start):.1f}s')\n",
        "\n",
        "# Save blend artifacts and weights\n",
        "np.save('oof_blend_lgb12.npy', blend_oof.astype('float32'))\n",
        "np.save('pred_test_blend_lgb12.npy', blend_test.astype('float32'))\n",
        "pd.Series(w_per_type).to_csv('weights_lgb12_per_type.csv')\n",
        "\n",
        "# Build submission from blended LGBM seeds\n",
        "sub_blend = pd.DataFrame({'id': X_test['id'].values, 'scalar_coupling_constant': blend_test.astype('float32')}).sort_values('id')\n",
        "sub_blend.to_csv('submission.csv', index=False)\n",
        "print('Saved blended submission.csv:', sub_blend.shape, 'head:\\n', sub_blend.head())"
      ],
      "execution_count": 42,
      "outputs": [
        {
          "output_type": "stream",
          "name": "stdout",
          "text": [
            "Per-type weights (LGBM seeds): {'1JHC': 0.5, '1JHN': 0.45, '2JHC': 0.5, '2JHH': 0.5, '2JHN': 0.5, '3JHC': 0.5, '3JHH': 0.55, '3JHN': 0.5}\nOOF LMAE (LGBM seeds blend): -0.223154 | elapsed 4.0s\n"
          ]
        },
        {
          "output_type": "stream",
          "name": "stderr",
          "text": [
            "/tmp/ipykernel_5170/555690277.py:7: DeprecationWarning: DataFrameGroupBy.apply operated on the grouping columns. This behavior is deprecated, and in a future version of pandas the grouping columns will be excluded from the operation. Either pass `include_groups=False` to exclude the groupings or explicitly select the grouping columns after groupby to silence this warning.\n  mae_by_type = df.groupby('type').apply(lambda g: float(np.mean(np.abs(g['y'].values - g['p'].values)))).astype('float64')\n"
          ]
        },
        {
          "output_type": "stream",
          "name": "stdout",
          "text": [
            "Saved blended submission.csv: (467813, 2) head:\n          id  scalar_coupling_constant\n335622  276                112.234818\n335623  277                  0.938787\n335624  278                  6.387651\n335625  279                  6.387651\n335626  280                  0.938787\n"
          ]
        }
      ]
    },
    {
      "id": "149bd24a-c46a-4298-a20f-5fc8be1bceca",
      "cell_type": "code",
      "metadata": {},
      "source": [
        "# XGBoost per-type 3-fold CPU training (hist) using FE v3 features for blend\n",
        "import time, numpy as np, pandas as pd, xgboost as xgb\n",
        "from sklearn.metrics import mean_absolute_error\n",
        "\n",
        "assert 'lgb_features' in globals(), 'Run prep to build lgb_features first.'\n",
        "assert 'lgb_folds' in globals(), 'Run prep to build lgb_folds first.'\n",
        "\n",
        "def xgb_params_for_type(t: str):\n",
        "    base = dict(objective='reg:squarederror', eval_metric='mae', device='cpu',\n",
        "                tree_method='hist', max_bin=256, subsample=0.8, colsample_bytree=0.8, reg_lambda=1.0, seed=42)\n",
        "    if t.startswith('1J'):\n",
        "        rounds, es, md, mcw, eta = 400, 75, 6, 3.0, 0.10\n",
        "    elif t.startswith('2J'):\n",
        "        rounds, es, md, mcw, eta = 500, 75, 7, 2.0, 0.09\n",
        "    elif t.startswith('3J'):\n",
        "        rounds, es, md, mcw, eta = 600, 100, 8, 1.0, 0.08\n",
        "    else:\n",
        "        rounds, es, md, mcw, eta = 500, 75, 7, 2.0, 0.09\n",
        "    base.update(dict(max_depth=md, min_child_weight=mcw, eta=eta))\n",
        "    return base, rounds, es\n",
        "\n",
        "def lmae_score_fast(y_true: np.ndarray, y_pred: np.ndarray, types: pd.Series, eps: float = 1e-9) -> float:\n",
        "    df = pd.DataFrame({'y': y_true, 'p': y_pred, 'type': types})\n",
        "    mae_by_type = df.groupby('type').apply(lambda g: float(np.mean(np.abs(g['y'].values - g['p'].values)))).astype('float64')\n",
        "    return float(np.log(mae_by_type.clip(lower=eps)).mean())\n",
        "\n",
        "types_list = sorted(X_train['type'].unique())\n",
        "types_order = [t for t in types_list if t.startswith('3J')] + [t for t in types_list if t.startswith('2J')] + [t for t in types_list if t.startswith('1J')]\n",
        "\n",
        "oof_xgb = np.zeros(len(X_train), dtype=np.float32)\n",
        "test_xgb = np.zeros(len(X_test), dtype=np.float32)\n",
        "per_type_mae_xgb = {}\n",
        "\n",
        "start_all = time.time()\n",
        "for t in types_order:\n",
        "    params, num_rounds, es_rounds = xgb_params_for_type(t)\n",
        "    tr_mask = (X_train['type'] == t).values\n",
        "    te_mask = (X_test['type'] == t).values\n",
        "    X_t = X_train.loc[tr_mask, lgb_features].astype('float32')\n",
        "    y_t = X_train.loc[tr_mask, 'scalar_coupling_constant'].astype('float32').values\n",
        "    X_te_t = X_test.loc[te_mask, lgb_features].astype('float32')\n",
        "    idx_t = np.where(tr_mask)[0]\n",
        "    oof_t = np.zeros(X_t.shape[0], dtype=np.float32)\n",
        "    pred_te_t = np.zeros(X_te_t.shape[0], dtype=np.float32)\n",
        "    dtest_t = xgb.DMatrix(X_te_t)\n",
        "    print(f\"\\n[XGB] Type {t}: n_train={X_t.shape[0]} n_test={X_te_t.shape[0]}\", flush=True)\n",
        "    for fold_i, (tr_idx_all, va_idx_all) in enumerate(lgb_folds):\n",
        "        tr_loc = np.intersect1d(idx_t, tr_idx_all, assume_unique=False)\n",
        "        va_loc = np.intersect1d(idx_t, va_idx_all, assume_unique=False)\n",
        "        tr_loc_local = np.searchsorted(idx_t, tr_loc)\n",
        "        va_loc_local = np.searchsorted(idx_t, va_loc)\n",
        "        if len(va_loc_local) == 0 or len(tr_loc_local) == 0:\n",
        "            continue\n",
        "        t0 = time.time()\n",
        "        dtrain = xgb.DMatrix(X_t.iloc[tr_loc_local, :], label=y_t[tr_loc_local])\n",
        "        dvalid = xgb.DMatrix(X_t.iloc[va_loc_local, :], label=y_t[va_loc_local])\n",
        "        evals = [(dtrain, 'train'), (dvalid, 'valid')]\n",
        "        booster = xgb.train(params=params, dtrain=dtrain, num_boost_round=int(num_rounds), evals=evals,\n",
        "                            early_stopping_rounds=int(es_rounds), verbose_eval=100)\n",
        "        best_iter = booster.best_iteration if hasattr(booster, 'best_iteration') and booster.best_iteration is not None else booster.best_ntree_limit - 1\n",
        "        oof_t[va_loc_local] = booster.predict(dvalid, iteration_range=(0, int(best_iter)+1)).astype('float32')\n",
        "        pred_te_t += booster.predict(dtest_t, iteration_range=(0, int(best_iter)+1)).astype('float32') / len(lgb_folds)\n",
        "        dt = time.time() - t0\n",
        "        mae_fold = mean_absolute_error(y_t[va_loc_local], oof_t[va_loc_local])\n",
        "        print(f\"  Fold {fold_i}: n_tr={len(tr_loc_local)} n_va={len(va_loc_local)} | MAE={mae_fold:.5f} | it={best_iter} | {dt:.1f}s\", flush=True)\n",
        "    oof_xgb[idx_t] = oof_t\n",
        "    test_xgb[te_mask] = pred_te_t\n",
        "    mae_t = float(np.mean(np.abs(y_t - oof_t)))\n",
        "    per_type_mae_xgb[t] = mae_t\n",
        "    print(f\"[XGB] Type {t}: MAE={mae_t:.6f}\", flush=True)\n",
        "\n",
        "overall_lmae_xgb = lmae_score_fast(X_train['scalar_coupling_constant'].values, oof_xgb, X_train['type'])\n",
        "print('\\nPer-type MAE (XGB):', {k: round(v,6) for k,v in per_type_mae_xgb.items()})\n",
        "print(f\"Overall OOF LMAE (XGB): {overall_lmae_xgb:.6f} | elapsed {(time.time()-start_all)/60:.1f} min\", flush=True)\n",
        "\n",
        "# Save artifacts\n",
        "np.save('oof_xgb.npy', oof_xgb.astype('float32'))\n",
        "np.save('pred_test_xgb.npy', test_xgb.astype('float32'))\n",
        "pd.Series(per_type_mae_xgb).to_csv('per_type_mae_xgb.csv')"
      ],
      "execution_count": 22,
      "outputs": [
        {
          "output_type": "stream",
          "name": "stdout",
          "text": [
            "\n[XGB] Type 3JHC: n_train=1359077 n_test=152130\n"
          ]
        },
        {
          "output_type": "stream",
          "name": "stdout",
          "text": [
            "[0]\ttrain-mae:2.33293\tvalid-mae:2.34425\n"
          ]
        },
        {
          "output_type": "stream",
          "name": "stdout",
          "text": [
            "[100]\ttrain-mae:0.76605\tvalid-mae:0.78738\n"
          ]
        },
        {
          "output_type": "stream",
          "name": "stdout",
          "text": [
            "[200]\ttrain-mae:0.69413\tvalid-mae:0.72556\n"
          ]
        },
        {
          "output_type": "stream",
          "name": "stdout",
          "text": [
            "[300]\ttrain-mae:0.64295\tvalid-mae:0.68376\n"
          ]
        },
        {
          "output_type": "stream",
          "name": "stdout",
          "text": [
            "[400]\ttrain-mae:0.60855\tvalid-mae:0.65756\n"
          ]
        },
        {
          "output_type": "stream",
          "name": "stdout",
          "text": [
            "[500]\ttrain-mae:0.58209\tvalid-mae:0.63858\n"
          ]
        },
        {
          "output_type": "stream",
          "name": "stdout",
          "text": [
            "[599]\ttrain-mae:0.55913\tvalid-mae:0.62252\n"
          ]
        },
        {
          "output_type": "stream",
          "name": "stdout",
          "text": [
            "  Fold 0: n_tr=904819 n_va=454258 | MAE=0.62252 | it=599 | 33.3s\n"
          ]
        },
        {
          "output_type": "stream",
          "name": "stdout",
          "text": [
            "[0]\ttrain-mae:2.33949\tvalid-mae:2.33683\n"
          ]
        },
        {
          "output_type": "stream",
          "name": "stdout",
          "text": [
            "[100]\ttrain-mae:0.76873\tvalid-mae:0.77624\n"
          ]
        },
        {
          "output_type": "stream",
          "name": "stdout",
          "text": [
            "[200]\ttrain-mae:0.69328\tvalid-mae:0.71163\n"
          ]
        },
        {
          "output_type": "stream",
          "name": "stdout",
          "text": [
            "[300]\ttrain-mae:0.64618\tvalid-mae:0.67359\n"
          ]
        },
        {
          "output_type": "stream",
          "name": "stdout",
          "text": [
            "[400]\ttrain-mae:0.61002\tvalid-mae:0.64623\n"
          ]
        },
        {
          "output_type": "stream",
          "name": "stdout",
          "text": [
            "[500]\ttrain-mae:0.58220\tvalid-mae:0.62663\n"
          ]
        },
        {
          "output_type": "stream",
          "name": "stdout",
          "text": [
            "[599]\ttrain-mae:0.55997\tvalid-mae:0.61174\n"
          ]
        },
        {
          "output_type": "stream",
          "name": "stdout",
          "text": [
            "  Fold 1: n_tr=906154 n_va=452923 | MAE=0.61174 | it=599 | 30.9s\n"
          ]
        },
        {
          "output_type": "stream",
          "name": "stdout",
          "text": [
            "[0]\ttrain-mae:2.34003\tvalid-mae:2.33199\n"
          ]
        },
        {
          "output_type": "stream",
          "name": "stdout",
          "text": [
            "[100]\ttrain-mae:0.76256\tvalid-mae:0.78177\n"
          ]
        },
        {
          "output_type": "stream",
          "name": "stdout",
          "text": [
            "[200]\ttrain-mae:0.68756\tvalid-mae:0.71674\n"
          ]
        },
        {
          "output_type": "stream",
          "name": "stdout",
          "text": [
            "[300]\ttrain-mae:0.64005\tvalid-mae:0.67805\n"
          ]
        },
        {
          "output_type": "stream",
          "name": "stdout",
          "text": [
            "[400]\ttrain-mae:0.60751\tvalid-mae:0.65351\n"
          ]
        },
        {
          "output_type": "stream",
          "name": "stdout",
          "text": [
            "[500]\ttrain-mae:0.57932\tvalid-mae:0.63262\n"
          ]
        },
        {
          "output_type": "stream",
          "name": "stdout",
          "text": [
            "[599]\ttrain-mae:0.55693\tvalid-mae:0.61729\n"
          ]
        },
        {
          "output_type": "stream",
          "name": "stdout",
          "text": [
            "  Fold 2: n_tr=907181 n_va=451896 | MAE=0.61729 | it=599 | 31.2s\n"
          ]
        },
        {
          "output_type": "stream",
          "name": "stdout",
          "text": [
            "[XGB] Type 3JHC: MAE=0.617185\n"
          ]
        },
        {
          "output_type": "stream",
          "name": "stdout",
          "text": [
            "\n[XGB] Type 3JHH: n_train=531224 n_test=59305\n"
          ]
        },
        {
          "output_type": "stream",
          "name": "stdout",
          "text": [
            "[0]\ttrain-mae:2.84973\tvalid-mae:2.85172\n"
          ]
        },
        {
          "output_type": "stream",
          "name": "stdout",
          "text": [
            "[100]\ttrain-mae:0.41705\tvalid-mae:0.44104\n"
          ]
        },
        {
          "output_type": "stream",
          "name": "stdout",
          "text": [
            "[200]\ttrain-mae:0.36782\tvalid-mae:0.40428\n"
          ]
        },
        {
          "output_type": "stream",
          "name": "stdout",
          "text": [
            "[300]\ttrain-mae:0.33548\tvalid-mae:0.38248\n"
          ]
        },
        {
          "output_type": "stream",
          "name": "stdout",
          "text": [
            "[400]\ttrain-mae:0.31111\tvalid-mae:0.36816\n"
          ]
        },
        {
          "output_type": "stream",
          "name": "stdout",
          "text": [
            "[500]\ttrain-mae:0.29101\tvalid-mae:0.35758\n"
          ]
        },
        {
          "output_type": "stream",
          "name": "stdout",
          "text": [
            "[599]\ttrain-mae:0.27468\tvalid-mae:0.34984\n"
          ]
        },
        {
          "output_type": "stream",
          "name": "stdout",
          "text": [
            "  Fold 0: n_tr=354056 n_va=177168 | MAE=0.34984 | it=599 | 14.3s\n"
          ]
        },
        {
          "output_type": "stream",
          "name": "stdout",
          "text": [
            "[0]\ttrain-mae:2.84584\tvalid-mae:2.85225\n"
          ]
        },
        {
          "output_type": "stream",
          "name": "stdout",
          "text": [
            "[100]\ttrain-mae:0.42195\tvalid-mae:0.43894\n"
          ]
        },
        {
          "output_type": "stream",
          "name": "stdout",
          "text": [
            "[200]\ttrain-mae:0.37328\tvalid-mae:0.40293\n"
          ]
        },
        {
          "output_type": "stream",
          "name": "stdout",
          "text": [
            "[300]\ttrain-mae:0.33952\tvalid-mae:0.38064\n"
          ]
        },
        {
          "output_type": "stream",
          "name": "stdout",
          "text": [
            "[400]\ttrain-mae:0.31409\tvalid-mae:0.36562\n"
          ]
        },
        {
          "output_type": "stream",
          "name": "stdout",
          "text": [
            "[500]\ttrain-mae:0.29404\tvalid-mae:0.35505\n"
          ]
        },
        {
          "output_type": "stream",
          "name": "stdout",
          "text": [
            "[599]\ttrain-mae:0.27683\tvalid-mae:0.34653\n"
          ]
        },
        {
          "output_type": "stream",
          "name": "stdout",
          "text": [
            "  Fold 1: n_tr=353202 n_va=178022 | MAE=0.34653 | it=599 | 15.6s\n"
          ]
        },
        {
          "output_type": "stream",
          "name": "stdout",
          "text": [
            "[0]\ttrain-mae:2.85058\tvalid-mae:2.84290\n"
          ]
        },
        {
          "output_type": "stream",
          "name": "stdout",
          "text": [
            "[100]\ttrain-mae:0.41817\tvalid-mae:0.43816\n"
          ]
        },
        {
          "output_type": "stream",
          "name": "stdout",
          "text": [
            "[200]\ttrain-mae:0.37084\tvalid-mae:0.40375\n"
          ]
        },
        {
          "output_type": "stream",
          "name": "stdout",
          "text": [
            "[300]\ttrain-mae:0.33790\tvalid-mae:0.38135\n"
          ]
        },
        {
          "output_type": "stream",
          "name": "stdout",
          "text": [
            "[400]\ttrain-mae:0.31313\tvalid-mae:0.36711\n"
          ]
        },
        {
          "output_type": "stream",
          "name": "stdout",
          "text": [
            "[500]\ttrain-mae:0.29312\tvalid-mae:0.35614\n"
          ]
        },
        {
          "output_type": "stream",
          "name": "stdout",
          "text": [
            "[599]\ttrain-mae:0.27685\tvalid-mae:0.34879\n"
          ]
        },
        {
          "output_type": "stream",
          "name": "stdout",
          "text": [
            "  Fold 2: n_tr=355190 n_va=176034 | MAE=0.34879 | it=599 | 15.2s\n"
          ]
        },
        {
          "output_type": "stream",
          "name": "stdout",
          "text": [
            "[XGB] Type 3JHH: MAE=0.348380\n"
          ]
        },
        {
          "output_type": "stream",
          "name": "stdout",
          "text": [
            "\n[XGB] Type 3JHN: n_train=150067 n_test=16546\n"
          ]
        },
        {
          "output_type": "stream",
          "name": "stdout",
          "text": [
            "[0]\ttrain-mae:0.91096\tvalid-mae:0.91278\n"
          ]
        },
        {
          "output_type": "stream",
          "name": "stdout",
          "text": [
            "[100]\ttrain-mae:0.21279\tvalid-mae:0.24696\n"
          ]
        },
        {
          "output_type": "stream",
          "name": "stdout",
          "text": [
            "[200]\ttrain-mae:0.17141\tvalid-mae:0.22127\n"
          ]
        },
        {
          "output_type": "stream",
          "name": "stdout",
          "text": [
            "[300]\ttrain-mae:0.14658\tvalid-mae:0.20887\n"
          ]
        },
        {
          "output_type": "stream",
          "name": "stdout",
          "text": [
            "[400]\ttrain-mae:0.12880\tvalid-mae:0.20181\n"
          ]
        },
        {
          "output_type": "stream",
          "name": "stdout",
          "text": [
            "[500]\ttrain-mae:0.11471\tvalid-mae:0.19668\n"
          ]
        },
        {
          "output_type": "stream",
          "name": "stdout",
          "text": [
            "[599]\ttrain-mae:0.10241\tvalid-mae:0.19270\n"
          ]
        },
        {
          "output_type": "stream",
          "name": "stdout",
          "text": [
            "  Fold 0: n_tr=100305 n_va=49762 | MAE=0.19270 | it=599 | 6.9s\n"
          ]
        },
        {
          "output_type": "stream",
          "name": "stdout",
          "text": [
            "[0]\ttrain-mae:0.91280\tvalid-mae:0.91013\n"
          ]
        },
        {
          "output_type": "stream",
          "name": "stdout",
          "text": [
            "[100]\ttrain-mae:0.21610\tvalid-mae:0.24287\n"
          ]
        },
        {
          "output_type": "stream",
          "name": "stdout",
          "text": [
            "[200]\ttrain-mae:0.17436\tvalid-mae:0.21803\n"
          ]
        },
        {
          "output_type": "stream",
          "name": "stdout",
          "text": [
            "[300]\ttrain-mae:0.14908\tvalid-mae:0.20570\n"
          ]
        },
        {
          "output_type": "stream",
          "name": "stdout",
          "text": [
            "[400]\ttrain-mae:0.13039\tvalid-mae:0.19836\n"
          ]
        },
        {
          "output_type": "stream",
          "name": "stdout",
          "text": [
            "[500]\ttrain-mae:0.11546\tvalid-mae:0.19308\n"
          ]
        },
        {
          "output_type": "stream",
          "name": "stdout",
          "text": [
            "[599]\ttrain-mae:0.10324\tvalid-mae:0.18948\n"
          ]
        },
        {
          "output_type": "stream",
          "name": "stdout",
          "text": [
            "  Fold 1: n_tr=99840 n_va=50227 | MAE=0.18948 | it=599 | 7.0s\n"
          ]
        },
        {
          "output_type": "stream",
          "name": "stdout",
          "text": [
            "[0]\ttrain-mae:0.90943\tvalid-mae:0.91138\n"
          ]
        },
        {
          "output_type": "stream",
          "name": "stdout",
          "text": [
            "[100]\ttrain-mae:0.21601\tvalid-mae:0.24461\n"
          ]
        },
        {
          "output_type": "stream",
          "name": "stdout",
          "text": [
            "[200]\ttrain-mae:0.17483\tvalid-mae:0.22002\n"
          ]
        },
        {
          "output_type": "stream",
          "name": "stdout",
          "text": [
            "[300]\ttrain-mae:0.14977\tvalid-mae:0.20819\n"
          ]
        },
        {
          "output_type": "stream",
          "name": "stdout",
          "text": [
            "[400]\ttrain-mae:0.13083\tvalid-mae:0.20052\n"
          ]
        },
        {
          "output_type": "stream",
          "name": "stdout",
          "text": [
            "[500]\ttrain-mae:0.11590\tvalid-mae:0.19550\n"
          ]
        },
        {
          "output_type": "stream",
          "name": "stdout",
          "text": [
            "[599]\ttrain-mae:0.10364\tvalid-mae:0.19168\n"
          ]
        },
        {
          "output_type": "stream",
          "name": "stdout",
          "text": [
            "  Fold 2: n_tr=99989 n_va=50078 | MAE=0.19168 | it=599 | 7.7s\n"
          ]
        },
        {
          "output_type": "stream",
          "name": "stdout",
          "text": [
            "[XGB] Type 3JHN: MAE=0.191284\n"
          ]
        },
        {
          "output_type": "stream",
          "name": "stdout",
          "text": [
            "\n[XGB] Type 2JHC: n_train=1026379 n_test=114488\n"
          ]
        },
        {
          "output_type": "stream",
          "name": "stdout",
          "text": [
            "[0]\ttrain-mae:2.56576\tvalid-mae:2.57901\n"
          ]
        },
        {
          "output_type": "stream",
          "name": "stdout",
          "text": [
            "[100]\ttrain-mae:0.97656\tvalid-mae:0.99747\n"
          ]
        },
        {
          "output_type": "stream",
          "name": "stdout",
          "text": [
            "[200]\ttrain-mae:0.86980\tvalid-mae:0.90013\n"
          ]
        },
        {
          "output_type": "stream",
          "name": "stdout",
          "text": [
            "[300]\ttrain-mae:0.80686\tvalid-mae:0.84612\n"
          ]
        },
        {
          "output_type": "stream",
          "name": "stdout",
          "text": [
            "[400]\ttrain-mae:0.76087\tvalid-mae:0.80786\n"
          ]
        },
        {
          "output_type": "stream",
          "name": "stdout",
          "text": [
            "[499]\ttrain-mae:0.72860\tvalid-mae:0.78304\n"
          ]
        },
        {
          "output_type": "stream",
          "name": "stdout",
          "text": [
            "  Fold 0: n_tr=683209 n_va=343170 | MAE=0.78304 | it=499 | 19.7s\n"
          ]
        },
        {
          "output_type": "stream",
          "name": "stdout",
          "text": [
            "[0]\ttrain-mae:2.57610\tvalid-mae:2.55824\n"
          ]
        },
        {
          "output_type": "stream",
          "name": "stdout",
          "text": [
            "[100]\ttrain-mae:0.97902\tvalid-mae:0.98742\n"
          ]
        },
        {
          "output_type": "stream",
          "name": "stdout",
          "text": [
            "[200]\ttrain-mae:0.87223\tvalid-mae:0.89284\n"
          ]
        },
        {
          "output_type": "stream",
          "name": "stdout",
          "text": [
            "[300]\ttrain-mae:0.80962\tvalid-mae:0.84041\n"
          ]
        },
        {
          "output_type": "stream",
          "name": "stdout",
          "text": [
            "[400]\ttrain-mae:0.76382\tvalid-mae:0.80354\n"
          ]
        },
        {
          "output_type": "stream",
          "name": "stdout",
          "text": [
            "[499]\ttrain-mae:0.73119\tvalid-mae:0.77909\n"
          ]
        },
        {
          "output_type": "stream",
          "name": "stdout",
          "text": [
            "  Fold 1: n_tr=683994 n_va=342385 | MAE=0.77909 | it=499 | 19.1s\n"
          ]
        },
        {
          "output_type": "stream",
          "name": "stdout",
          "text": [
            "[0]\ttrain-mae:2.56636\tvalid-mae:2.57148\n"
          ]
        },
        {
          "output_type": "stream",
          "name": "stdout",
          "text": [
            "[100]\ttrain-mae:0.97525\tvalid-mae:0.99192\n"
          ]
        },
        {
          "output_type": "stream",
          "name": "stdout",
          "text": [
            "[200]\ttrain-mae:0.87022\tvalid-mae:0.89755\n"
          ]
        },
        {
          "output_type": "stream",
          "name": "stdout",
          "text": [
            "[300]\ttrain-mae:0.80883\tvalid-mae:0.84543\n"
          ]
        },
        {
          "output_type": "stream",
          "name": "stdout",
          "text": [
            "[400]\ttrain-mae:0.76468\tvalid-mae:0.80940\n"
          ]
        },
        {
          "output_type": "stream",
          "name": "stdout",
          "text": [
            "[499]\ttrain-mae:0.72808\tvalid-mae:0.78092\n"
          ]
        },
        {
          "output_type": "stream",
          "name": "stdout",
          "text": [
            "  Fold 2: n_tr=685555 n_va=340824 | MAE=0.78092 | it=499 | 18.2s\n"
          ]
        },
        {
          "output_type": "stream",
          "name": "stdout",
          "text": [
            "[XGB] Type 2JHC: MAE=0.781017\n"
          ]
        },
        {
          "output_type": "stream",
          "name": "stdout",
          "text": [
            "\n[XGB] Type 2JHH: n_train=340097 n_test=37891\n"
          ]
        },
        {
          "output_type": "stream",
          "name": "stdout",
          "text": [
            "[0]\ttrain-mae:2.46264\tvalid-mae:2.44768\n"
          ]
        },
        {
          "output_type": "stream",
          "name": "stdout",
          "text": [
            "[100]\ttrain-mae:0.45545\tvalid-mae:0.48345\n"
          ]
        },
        {
          "output_type": "stream",
          "name": "stdout",
          "text": [
            "[200]\ttrain-mae:0.41289\tvalid-mae:0.45539\n"
          ]
        },
        {
          "output_type": "stream",
          "name": "stdout",
          "text": [
            "[300]\ttrain-mae:0.38269\tvalid-mae:0.43804\n"
          ]
        },
        {
          "output_type": "stream",
          "name": "stdout",
          "text": [
            "[400]\ttrain-mae:0.35900\tvalid-mae:0.42578\n"
          ]
        },
        {
          "output_type": "stream",
          "name": "stdout",
          "text": [
            "[499]\ttrain-mae:0.33831\tvalid-mae:0.41605\n"
          ]
        },
        {
          "output_type": "stream",
          "name": "stdout",
          "text": [
            "  Fold 0: n_tr=226826 n_va=113271 | MAE=0.41605 | it=499 | 8.6s\n"
          ]
        },
        {
          "output_type": "stream",
          "name": "stdout",
          "text": [
            "[0]\ttrain-mae:2.45177\tvalid-mae:2.45648\n"
          ]
        },
        {
          "output_type": "stream",
          "name": "stdout",
          "text": [
            "[100]\ttrain-mae:0.46201\tvalid-mae:0.48172\n"
          ]
        },
        {
          "output_type": "stream",
          "name": "stdout",
          "text": [
            "[200]\ttrain-mae:0.41786\tvalid-mae:0.45156\n"
          ]
        },
        {
          "output_type": "stream",
          "name": "stdout",
          "text": [
            "[300]\ttrain-mae:0.38737\tvalid-mae:0.43385\n"
          ]
        },
        {
          "output_type": "stream",
          "name": "stdout",
          "text": [
            "[400]\ttrain-mae:0.36140\tvalid-mae:0.42035\n"
          ]
        },
        {
          "output_type": "stream",
          "name": "stdout",
          "text": [
            "[499]\ttrain-mae:0.34147\tvalid-mae:0.41135\n"
          ]
        },
        {
          "output_type": "stream",
          "name": "stdout",
          "text": [
            "  Fold 1: n_tr=226656 n_va=113441 | MAE=0.41135 | it=499 | 7.9s\n"
          ]
        },
        {
          "output_type": "stream",
          "name": "stdout",
          "text": [
            "[0]\ttrain-mae:2.44990\tvalid-mae:2.46098\n"
          ]
        },
        {
          "output_type": "stream",
          "name": "stdout",
          "text": [
            "[100]\ttrain-mae:0.45599\tvalid-mae:0.48430\n"
          ]
        },
        {
          "output_type": "stream",
          "name": "stdout",
          "text": [
            "[200]\ttrain-mae:0.41176\tvalid-mae:0.45431\n"
          ]
        },
        {
          "output_type": "stream",
          "name": "stdout",
          "text": [
            "[300]\ttrain-mae:0.38214\tvalid-mae:0.43788\n"
          ]
        },
        {
          "output_type": "stream",
          "name": "stdout",
          "text": [
            "[400]\ttrain-mae:0.35731\tvalid-mae:0.42500\n"
          ]
        },
        {
          "output_type": "stream",
          "name": "stdout",
          "text": [
            "[499]\ttrain-mae:0.33702\tvalid-mae:0.41549\n"
          ]
        },
        {
          "output_type": "stream",
          "name": "stdout",
          "text": [
            "  Fold 2: n_tr=226712 n_va=113385 | MAE=0.41549 | it=499 | 8.8s\n"
          ]
        },
        {
          "output_type": "stream",
          "name": "stdout",
          "text": [
            "[XGB] Type 2JHH: MAE=0.414293\n"
          ]
        },
        {
          "output_type": "stream",
          "name": "stdout",
          "text": [
            "\n[XGB] Type 2JHN: n_train=107091 n_test=11968\n"
          ]
        },
        {
          "output_type": "stream",
          "name": "stdout",
          "text": [
            "[0]\ttrain-mae:2.73944\tvalid-mae:2.73060\n"
          ]
        },
        {
          "output_type": "stream",
          "name": "stdout",
          "text": [
            "[100]\ttrain-mae:0.37025\tvalid-mae:0.41548\n"
          ]
        },
        {
          "output_type": "stream",
          "name": "stdout",
          "text": [
            "[200]\ttrain-mae:0.30480\tvalid-mae:0.37236\n"
          ]
        },
        {
          "output_type": "stream",
          "name": "stdout",
          "text": [
            "[300]\ttrain-mae:0.26503\tvalid-mae:0.35126\n"
          ]
        },
        {
          "output_type": "stream",
          "name": "stdout",
          "text": [
            "[400]\ttrain-mae:0.23531\tvalid-mae:0.33846\n"
          ]
        },
        {
          "output_type": "stream",
          "name": "stdout",
          "text": [
            "[499]\ttrain-mae:0.21174\tvalid-mae:0.32985\n"
          ]
        },
        {
          "output_type": "stream",
          "name": "stdout",
          "text": [
            "  Fold 0: n_tr=71887 n_va=35204 | MAE=0.32985 | it=499 | 4.0s\n"
          ]
        },
        {
          "output_type": "stream",
          "name": "stdout",
          "text": [
            "[0]\ttrain-mae:2.73487\tvalid-mae:2.74427\n"
          ]
        },
        {
          "output_type": "stream",
          "name": "stdout",
          "text": [
            "[100]\ttrain-mae:0.36913\tvalid-mae:0.40974\n"
          ]
        },
        {
          "output_type": "stream",
          "name": "stdout",
          "text": [
            "[200]\ttrain-mae:0.30296\tvalid-mae:0.36596\n"
          ]
        },
        {
          "output_type": "stream",
          "name": "stdout",
          "text": [
            "[300]\ttrain-mae:0.26337\tvalid-mae:0.34583\n"
          ]
        },
        {
          "output_type": "stream",
          "name": "stdout",
          "text": [
            "[400]\ttrain-mae:0.23376\tvalid-mae:0.33343\n"
          ]
        },
        {
          "output_type": "stream",
          "name": "stdout",
          "text": [
            "[499]\ttrain-mae:0.21069\tvalid-mae:0.32524\n"
          ]
        },
        {
          "output_type": "stream",
          "name": "stdout",
          "text": [
            "  Fold 1: n_tr=71216 n_va=35875 | MAE=0.32524 | it=499 | 4.0s\n"
          ]
        },
        {
          "output_type": "stream",
          "name": "stdout",
          "text": [
            "[0]\ttrain-mae:2.73927\tvalid-mae:2.74133\n"
          ]
        },
        {
          "output_type": "stream",
          "name": "stdout",
          "text": [
            "[100]\ttrain-mae:0.36760\tvalid-mae:0.41441\n"
          ]
        },
        {
          "output_type": "stream",
          "name": "stdout",
          "text": [
            "[200]\ttrain-mae:0.30053\tvalid-mae:0.37150\n"
          ]
        },
        {
          "output_type": "stream",
          "name": "stdout",
          "text": [
            "[300]\ttrain-mae:0.26323\tvalid-mae:0.35259\n"
          ]
        },
        {
          "output_type": "stream",
          "name": "stdout",
          "text": [
            "[400]\ttrain-mae:0.23259\tvalid-mae:0.33927\n"
          ]
        },
        {
          "output_type": "stream",
          "name": "stdout",
          "text": [
            "[499]\ttrain-mae:0.20955\tvalid-mae:0.33083\n"
          ]
        },
        {
          "output_type": "stream",
          "name": "stdout",
          "text": [
            "  Fold 2: n_tr=71079 n_va=36012 | MAE=0.33083 | it=499 | 4.1s\n"
          ]
        },
        {
          "output_type": "stream",
          "name": "stdout",
          "text": [
            "[XGB] Type 2JHN: MAE=0.328634\n"
          ]
        },
        {
          "output_type": "stream",
          "name": "stdout",
          "text": [
            "\n[XGB] Type 1JHC: n_train=637912 n_test=71221\n"
          ]
        },
        {
          "output_type": "stream",
          "name": "stdout",
          "text": [
            "[0]\ttrain-mae:11.66550\tvalid-mae:11.69200\n"
          ]
        },
        {
          "output_type": "stream",
          "name": "stdout",
          "text": [
            "[100]\ttrain-mae:2.52076\tvalid-mae:2.56098\n"
          ]
        },
        {
          "output_type": "stream",
          "name": "stdout",
          "text": [
            "[200]\ttrain-mae:2.32513\tvalid-mae:2.39185\n"
          ]
        },
        {
          "output_type": "stream",
          "name": "stdout",
          "text": [
            "[300]\ttrain-mae:2.19672\tvalid-mae:2.28788\n"
          ]
        },
        {
          "output_type": "stream",
          "name": "stdout",
          "text": [
            "[399]\ttrain-mae:2.11072\tvalid-mae:2.22350\n"
          ]
        },
        {
          "output_type": "stream",
          "name": "stdout",
          "text": [
            "  Fold 0: n_tr=425180 n_va=212732 | MAE=2.22350 | it=399 | 10.0s\n"
          ]
        },
        {
          "output_type": "stream",
          "name": "stdout",
          "text": [
            "[0]\ttrain-mae:11.68956\tvalid-mae:11.66829\n"
          ]
        },
        {
          "output_type": "stream",
          "name": "stdout",
          "text": [
            "[100]\ttrain-mae:2.50340\tvalid-mae:2.55365\n"
          ]
        },
        {
          "output_type": "stream",
          "name": "stdout",
          "text": [
            "[200]\ttrain-mae:2.31115\tvalid-mae:2.38642\n"
          ]
        },
        {
          "output_type": "stream",
          "name": "stdout",
          "text": [
            "[300]\ttrain-mae:2.18640\tvalid-mae:2.28367\n"
          ]
        },
        {
          "output_type": "stream",
          "name": "stdout",
          "text": [
            "[399]\ttrain-mae:2.10068\tvalid-mae:2.21814\n"
          ]
        },
        {
          "output_type": "stream",
          "name": "stdout",
          "text": [
            "  Fold 1: n_tr=425134 n_va=212778 | MAE=2.21814 | it=399 | 9.0s\n"
          ]
        },
        {
          "output_type": "stream",
          "name": "stdout",
          "text": [
            "[0]\ttrain-mae:11.66700\tvalid-mae:11.66253\n"
          ]
        },
        {
          "output_type": "stream",
          "name": "stdout",
          "text": [
            "[100]\ttrain-mae:2.51457\tvalid-mae:2.54407\n"
          ]
        },
        {
          "output_type": "stream",
          "name": "stdout",
          "text": [
            "[200]\ttrain-mae:2.32268\tvalid-mae:2.37730\n"
          ]
        },
        {
          "output_type": "stream",
          "name": "stdout",
          "text": [
            "[300]\ttrain-mae:2.19993\tvalid-mae:2.27876\n"
          ]
        },
        {
          "output_type": "stream",
          "name": "stdout",
          "text": [
            "[399]\ttrain-mae:2.11055\tvalid-mae:2.21144\n"
          ]
        },
        {
          "output_type": "stream",
          "name": "stdout",
          "text": [
            "  Fold 2: n_tr=425510 n_va=212402 | MAE=2.21144 | it=399 | 10.4s\n"
          ]
        },
        {
          "output_type": "stream",
          "name": "stdout",
          "text": [
            "[XGB] Type 1JHC: MAE=2.217698\n"
          ]
        },
        {
          "output_type": "stream",
          "name": "stdout",
          "text": [
            "\n[XGB] Type 1JHN: n_train=39416 n_test=4264\n"
          ]
        },
        {
          "output_type": "stream",
          "name": "stdout",
          "text": [
            "[0]\ttrain-mae:8.75259\tvalid-mae:8.78045\n"
          ]
        },
        {
          "output_type": "stream",
          "name": "stdout",
          "text": [
            "[100]\ttrain-mae:0.77606\tvalid-mae:0.92449\n"
          ]
        },
        {
          "output_type": "stream",
          "name": "stdout",
          "text": [
            "[200]\ttrain-mae:0.63625\tvalid-mae:0.85691\n"
          ]
        },
        {
          "output_type": "stream",
          "name": "stdout",
          "text": [
            "[300]\ttrain-mae:0.54266\tvalid-mae:0.82113\n"
          ]
        },
        {
          "output_type": "stream",
          "name": "stdout",
          "text": [
            "[399]\ttrain-mae:0.47396\tvalid-mae:0.80207\n"
          ]
        },
        {
          "output_type": "stream",
          "name": "stdout",
          "text": [
            "  Fold 0: n_tr=26428 n_va=12988 | MAE=0.80207 | it=399 | 1.8s\n"
          ]
        },
        {
          "output_type": "stream",
          "name": "stdout",
          "text": [
            "[0]\ttrain-mae:8.75876\tvalid-mae:8.76716\n"
          ]
        },
        {
          "output_type": "stream",
          "name": "stdout",
          "text": [
            "[100]\ttrain-mae:0.78011\tvalid-mae:0.91308\n"
          ]
        },
        {
          "output_type": "stream",
          "name": "stdout",
          "text": [
            "[200]\ttrain-mae:0.64275\tvalid-mae:0.84481\n"
          ]
        },
        {
          "output_type": "stream",
          "name": "stdout",
          "text": [
            "[300]\ttrain-mae:0.54692\tvalid-mae:0.80831\n"
          ]
        },
        {
          "output_type": "stream",
          "name": "stdout",
          "text": [
            "[399]\ttrain-mae:0.47448\tvalid-mae:0.78809\n"
          ]
        },
        {
          "output_type": "stream",
          "name": "stdout",
          "text": [
            "  Fold 1: n_tr=26195 n_va=13221 | MAE=0.78809 | it=399 | 1.8s\n"
          ]
        },
        {
          "output_type": "stream",
          "name": "stdout",
          "text": [
            "[0]\ttrain-mae:8.77242\tvalid-mae:8.74090\n"
          ]
        },
        {
          "output_type": "stream",
          "name": "stdout",
          "text": [
            "[100]\ttrain-mae:0.76650\tvalid-mae:0.90711\n"
          ]
        },
        {
          "output_type": "stream",
          "name": "stdout",
          "text": [
            "[200]\ttrain-mae:0.63133\tvalid-mae:0.83761\n"
          ]
        },
        {
          "output_type": "stream",
          "name": "stdout",
          "text": [
            "[300]\ttrain-mae:0.54029\tvalid-mae:0.80273\n"
          ]
        },
        {
          "output_type": "stream",
          "name": "stdout",
          "text": [
            "[399]\ttrain-mae:0.47008\tvalid-mae:0.78446\n"
          ]
        },
        {
          "output_type": "stream",
          "name": "stdout",
          "text": [
            "  Fold 2: n_tr=26209 n_va=13207 | MAE=0.78446 | it=399 | 1.8s\n"
          ]
        },
        {
          "output_type": "stream",
          "name": "stdout",
          "text": [
            "[XGB] Type 1JHN: MAE=0.791480\n"
          ]
        },
        {
          "output_type": "stream",
          "name": "stdout",
          "text": [
            "\nPer-type MAE (XGB): {'3JHC': 0.617185, '3JHH': 0.34838, '3JHN': 0.191284, '2JHC': 0.781017, '2JHH': 0.414293, '2JHN': 0.328634, '1JHC': 2.217698, '1JHN': 0.79148}\nOverall OOF LMAE (XGB): -0.608697 | elapsed 5.0 min\n"
          ]
        },
        {
          "output_type": "stream",
          "name": "stderr",
          "text": [
            "/tmp/ipykernel_5170/3474314300.py:24: DeprecationWarning: DataFrameGroupBy.apply operated on the grouping columns. This behavior is deprecated, and in a future version of pandas the grouping columns will be excluded from the operation. Either pass `include_groups=False` to exclude the groupings or explicitly select the grouping columns after groupby to silence this warning.\n  mae_by_type = df.groupby('type').apply(lambda g: float(np.mean(np.abs(g['y'].values - g['p'].values)))).astype('float64')\n"
          ]
        }
      ]
    },
    {
      "id": "aeff1c56-37bd-4795-8ea5-10517c1f15ea",
      "cell_type": "code",
      "metadata": {},
      "source": [
        "# Blend LGBM-seed blend with XGB per-type and write submission\n",
        "import numpy as np, pandas as pd, os, time\n",
        "\n",
        "def lmae_score_fast(y_true, y_pred, types, eps: float = 1e-9):\n",
        "    df = pd.DataFrame({'y': y_true, 'p': y_pred, 'type': types})\n",
        "    mae_by_type = df.groupby('type').apply(lambda g: float(np.mean(np.abs(g['y'].values - g['p'].values)))).astype('float64')\n",
        "    return float(np.log(mae_by_type.clip(lower=eps)).mean())\n",
        "\n",
        "# Load artifacts\n",
        "oof_lgb_blend = np.load('oof_blend_lgb12.npy') if os.path.exists('oof_blend_lgb12.npy') else np.load('oof_lgb.npy')\n",
        "pred_lgb_blend = np.load('pred_test_blend_lgb12.npy') if os.path.exists('pred_test_blend_lgb12.npy') else np.load('pred_test_lgb.npy')\n",
        "oof_xgb = np.load('oof_xgb.npy')\n",
        "pred_xgb = np.load('pred_test_xgb.npy')\n",
        "\n",
        "types = X_train['type'].values\n",
        "test_types = X_test['type'].values\n",
        "y = X_train['scalar_coupling_constant'].values.astype('float32')\n",
        "\n",
        "w_grid = np.linspace(0.0, 1.0, 21)  # step 0.05\n",
        "blend_oof = np.zeros_like(oof_xgb, dtype=np.float32)\n",
        "blend_test = np.zeros_like(pred_xgb, dtype=np.float32)\n",
        "w_per_type = {}\n",
        "\n",
        "t0 = time.time()\n",
        "for t in sorted(pd.unique(types)):\n",
        "    m = (types == t)\n",
        "    best_mae, best_w = 1e9, 0.6  # default prior\n",
        "    for w in w_grid:\n",
        "        o = w*oof_xgb[m] + (1.0-w)*oof_lgb_blend[m]\n",
        "        mae = float(np.mean(np.abs(y[m] - o)))\n",
        "        if mae < best_mae:\n",
        "            best_mae, best_w = mae, float(w)\n",
        "    w_per_type[t] = best_w\n",
        "    blend_oof[m] = best_w*oof_xgb[m] + (1.0-best_w)*oof_lgb_blend[m]\n",
        "    mt = (test_types == t)\n",
        "    blend_test[mt] = best_w*pred_xgb[mt] + (1.0-best_w)*pred_lgb_blend[mt]\n",
        "\n",
        "overall_lmae = lmae_score_fast(y, blend_oof, X_train['type'])\n",
        "print('Per-type weights (XGB vs LGBblend):', w_per_type)\n",
        "print(f'OOF LMAE (XGB+LGBblend): {overall_lmae:.6f} | elapsed {time.time()-t0:.1f}s')\n",
        "\n",
        "# Save and build submission\n",
        "np.save('oof_blend_xgb_lgb12.npy', blend_oof.astype('float32'))\n",
        "np.save('pred_test_blend_xgb_lgb12.npy', blend_test.astype('float32'))\n",
        "pd.Series(w_per_type).to_csv('weights_xgb_vs_lgb12_per_type.csv')\n",
        "sub = pd.DataFrame({'id': X_test['id'].values, 'scalar_coupling_constant': blend_test.astype('float32')}).sort_values('id')\n",
        "sub.to_csv('submission.csv', index=False)\n",
        "print('Saved final blended submission.csv:', sub.shape, 'head:\\n', sub.head())"
      ],
      "execution_count": 23,
      "outputs": [
        {
          "output_type": "stream",
          "name": "stderr",
          "text": [
            "/tmp/ipykernel_5170/633945412.py:6: DeprecationWarning: DataFrameGroupBy.apply operated on the grouping columns. This behavior is deprecated, and in a future version of pandas the grouping columns will be excluded from the operation. Either pass `include_groups=False` to exclude the groupings or explicitly select the grouping columns after groupby to silence this warning.\n  mae_by_type = df.groupby('type').apply(lambda g: float(np.mean(np.abs(g['y'].values - g['p'].values)))).astype('float64')\n"
          ]
        },
        {
          "output_type": "stream",
          "name": "stdout",
          "text": [
            "Per-type weights (XGB vs LGBblend): {'1JHC': 0.0, '1JHN': 0.65, '2JHC': 0.05, '2JHH': 0.25, '2JHN': 0.45, '3JHC': 0.15000000000000002, '3JHH': 0.30000000000000004, '3JHN': 0.55}\nOOF LMAE (XGB+LGBblend): -0.671321 | elapsed 4.0s\n"
          ]
        },
        {
          "output_type": "stream",
          "name": "stdout",
          "text": [
            "Saved final blended submission.csv: (467813, 2) head:\n          id  scalar_coupling_constant\n335622  276                102.595863\n335623  277                  6.773271\n335624  278                  1.953415\n335625  279                  1.953415\n335626  280                  6.773271\n"
          ]
        }
      ]
    },
    {
      "id": "f64e3f87-5192-40de-a2a9-d0744f139d33",
      "cell_type": "code",
      "metadata": {},
      "source": [
        "# FE v3 interactions: angle/dihedral \u00d7 inv_d with path masks\n",
        "import numpy as np, pandas as pd, time\n",
        "\n",
        "t0 = time.time()\n",
        "assert 'X_train' in globals() and 'X_test' in globals(), 'Run FE cells first'\n",
        "\n",
        "# Masks\n",
        "pl2_tr = (X_train['path_len'].astype('int16') == 2).astype('float32')\n",
        "pl3_tr = (X_train['path_len'].astype('int16') == 3).astype('float32')\n",
        "pl2_te = (X_test['path_len'].astype('int16') == 2).astype('float32')\n",
        "pl3_te = (X_test['path_len'].astype('int16') == 3).astype('float32')\n",
        "\n",
        "def add_interactions(df, pl2, pl3):\n",
        "    # angle terms (only for path_len==2)\n",
        "    for base in ['angle_cos','angle_sin','angle_rad']:\n",
        "        if base in df.columns:\n",
        "            df[f'{base}_inv_d'] = (df[base].astype('float32') * df['inv_d'].astype('float32') * pl2).astype('float32')\n",
        "    # dihedral terms (only for path_len==3) incl. cos2\n",
        "    for base in ['dih_cos','dih_sin','dih_cos2']:\n",
        "        if base in df.columns:\n",
        "            df[f'{base}_inv_d'] = (df[base].astype('float32') * df['inv_d'].astype('float32') * pl3).astype('float32')\n",
        "    return df\n",
        "\n",
        "X_train = add_interactions(X_train, pl2_tr, pl3_tr)\n",
        "X_test  = add_interactions(X_test,  pl2_te, pl3_te)\n",
        "\n",
        "# Update lgb_features to include new cols if present\n",
        "new_cols = [\n",
        "    'angle_cos_inv_d','angle_sin_inv_d','angle_rad_inv_d',\n",
        "    'dih_cos_inv_d','dih_sin_inv_d','dih_cos2_inv_d'\n",
        "]\n",
        "if 'lgb_features' in globals():\n",
        "    for c in new_cols:\n",
        "        if c in X_train.columns and c in X_test.columns and c not in lgb_features:\n",
        "            lgb_features.append(c)\n",
        "\n",
        "print('Added FE v3 interaction features. Now lgb_features:', len(lgb_features) if 'lgb_features' in globals() else 'N/A', '| elapsed s:', round(time.time()-t0, 2))"
      ],
      "execution_count": 24,
      "outputs": [
        {
          "output_type": "stream",
          "name": "stdout",
          "text": [
            "Added FE v3 interaction features. Now lgb_features: 81 | elapsed s: 0.07\n"
          ]
        }
      ]
    },
    {
      "id": "876fdeab-fd7a-4d2f-8210-ad9b6afec616",
      "cell_type": "code",
      "metadata": {},
      "source": [
        "# Quick retrain LGBM (both seeds) on high-ROI types with new interaction features, then refresh artifacts\n",
        "import numpy as np, pandas as pd, time\n",
        "from sklearn.metrics import mean_absolute_error\n",
        "\n",
        "import lightgbm as lgb\n",
        "assert 'lgb_features' in globals() and 'lgb_folds' in globals(), 'Run prep cell first'\n",
        "\n",
        "types_to_retrain = ['3JHC','3JHN','3JHH','2JHH']\n",
        "\n",
        "def params_seed1(t):\n",
        "    base = dict(objective='mae', metric='mae', boosting_type='gbdt',\n",
        "                n_jobs=-1, feature_fraction=0.8, bagging_fraction=0.8, bagging_freq=1, max_bin=256, reg_lambda=1.0, verbose=-1)\n",
        "    if t.startswith('1J'):\n",
        "        base.update(dict(num_leaves=56, min_data_in_leaf=180, learning_rate=0.12, n_estimators=800))\n",
        "    elif t.startswith('2J'):\n",
        "        base.update(dict(num_leaves=96, min_data_in_leaf=100, learning_rate=0.10, n_estimators=1000))\n",
        "    elif t.startswith('3J'):\n",
        "        base.update(dict(num_leaves=128, min_data_in_leaf=50, learning_rate=0.08, n_estimators=1400))\n",
        "    else:\n",
        "        base.update(dict(num_leaves=96, min_data_in_leaf=100, learning_rate=0.10, n_estimators=1000))\n",
        "    return base\n",
        "\n",
        "def params_seed2(t):\n",
        "    base = dict(objective='mae', metric='mae', boosting_type='gbdt',\n",
        "                n_jobs=-1, feature_fraction=0.75, bagging_fraction=0.85, bagging_freq=1, max_bin=256, reg_lambda=1.0, verbose=-1, random_seed=1337)\n",
        "    if t.startswith('1J'):\n",
        "        base.update(dict(num_leaves=56, min_data_in_leaf=180, learning_rate=0.12, n_estimators=800))\n",
        "    elif t.startswith('2J'):\n",
        "        base.update(dict(num_leaves=96, min_data_in_leaf=100, learning_rate=0.10, n_estimators=1000))\n",
        "    elif t.startswith('3J'):\n",
        "        base.update(dict(num_leaves=128, min_data_in_leaf=50, learning_rate=0.08, n_estimators=1400))\n",
        "    else:\n",
        "        base.update(dict(num_leaves=96, min_data_in_leaf=100, learning_rate=0.10, n_estimators=1000))\n",
        "    return base\n",
        "\n",
        "def train_update(types_subset, seed=1):\n",
        "    oof_path = 'oof_lgb2.npy' if seed==2 else 'oof_lgb.npy'\n",
        "    te_path  = 'pred_test_lgb2.npy' if seed==2 else 'pred_test_lgb.npy'\n",
        "    if not (os.path.exists(oof_path) and os.path.exists(te_path)):\n",
        "        print('Missing existing artifacts to update; aborting retrain for seed', seed);\n",
        "        return\n",
        "    oof_all = np.load(oof_path)\n",
        "    te_all  = np.load(te_path)\n",
        "    start = time.time()\n",
        "    for t in types_subset:\n",
        "        params = params_seed2(t) if seed==2 else params_seed1(t)\n",
        "        n_estimators_cap = params.pop('n_estimators')\n",
        "        tr_mask = (X_train['type'] == t).values\n",
        "        te_mask = (X_test['type'] == t).values\n",
        "        X_t = X_train.loc[tr_mask, lgb_features].astype('float32')\n",
        "        y_t = X_train.loc[tr_mask, 'scalar_coupling_constant'].astype('float32').values\n",
        "        X_te_t = X_test.loc[te_mask, lgb_features].astype('float32')\n",
        "        idx_t = np.where(tr_mask)[0]\n",
        "        oof_t = np.zeros(X_t.shape[0], dtype=np.float32)\n",
        "        pred_te_t = np.zeros(X_te_t.shape[0], dtype=np.float32)\n",
        "        print(f\"\\n[LGBM seed{seed} retrain] {t}: n_train={X_t.shape[0]} n_test={X_te_t.shape[0]}\", flush=True)\n",
        "        for fold_i, (tr_idx_all, va_idx_all) in enumerate(lgb_folds):\n",
        "            tr_loc = np.intersect1d(idx_t, tr_idx_all, assume_unique=False)\n",
        "            va_loc = np.intersect1d(idx_t, va_idx_all, assume_unique=False)\n",
        "            tr_loc_local = np.searchsorted(idx_t, tr_loc)\n",
        "            va_loc_local = np.searchsorted(idx_t, va_loc)\n",
        "            if len(va_loc_local) == 0 or len(tr_loc_local) == 0:\n",
        "                continue\n",
        "            dtrain = lgb.Dataset(X_t.iloc[tr_loc_local, :], label=y_t[tr_loc_local], free_raw_data=False)\n",
        "            dvalid = lgb.Dataset(X_t.iloc[va_loc_local, :], label=y_t[va_loc_local], reference=dtrain, free_raw_data=False)\n",
        "            booster = lgb.train(params, dtrain, num_boost_round=int(n_estimators_cap),\n",
        "                                valid_sets=[dtrain, dvalid], valid_names=['train','valid'],\n",
        "                                callbacks=[lgb.early_stopping(stopping_rounds=100, verbose=False)])\n",
        "            best_it = booster.best_iteration if booster.best_iteration is not None else booster.current_iteration()\n",
        "            oof_t[va_loc_local] = booster.predict(X_t.iloc[va_loc_local, :], num_iteration=best_it).astype('float32')\n",
        "            pred_te_t += booster.predict(X_te_t, num_iteration=best_it).astype('float32') / len(lgb_folds)\n",
        "            mae_fold = mean_absolute_error(y_t[va_loc_local], oof_t[va_loc_local])\n",
        "            print(f\"  Fold {fold_i}: MAE={mae_fold:.5f} | it={best_it}\", flush=True)\n",
        "        # write back updates\n",
        "        oof_all[idx_t] = oof_t\n",
        "        te_all[te_mask] = pred_te_t\n",
        "        mae_t = float(np.mean(np.abs(y_t - oof_t)))\n",
        "        print(f\"[LGBM seed{seed} retrain] {t}: MAE={mae_t:.6f}\", flush=True)\n",
        "    # save updated artifacts\n",
        "    np.save(oof_path, oof_all.astype('float32'))\n",
        "    np.save(te_path, te_all.astype('float32'))\n",
        "    print(f'Updated artifacts for seed{seed} in {(time.time()-start)/60:.1f} min')\n",
        "\n",
        "import os\n",
        "train_update(types_to_retrain, seed=1)\n",
        "train_update(types_to_retrain, seed=2)"
      ],
      "execution_count": 25,
      "outputs": [
        {
          "output_type": "stream",
          "name": "stdout",
          "text": [
            "\n[LGBM seed1 retrain] 3JHC: n_train=1359077 n_test=152130\n"
          ]
        },
        {
          "output_type": "stream",
          "name": "stdout",
          "text": [
            "  Fold 0: MAE=0.59310 | it=1400\n"
          ]
        },
        {
          "output_type": "stream",
          "name": "stdout",
          "text": [
            "  Fold 1: MAE=0.58281 | it=1400\n"
          ]
        },
        {
          "output_type": "stream",
          "name": "stdout",
          "text": [
            "  Fold 2: MAE=0.58979 | it=1400\n"
          ]
        },
        {
          "output_type": "stream",
          "name": "stdout",
          "text": [
            "[LGBM seed1 retrain] 3JHC: MAE=0.588570\n"
          ]
        },
        {
          "output_type": "stream",
          "name": "stdout",
          "text": [
            "\n[LGBM seed1 retrain] 3JHN: n_train=150067 n_test=16546\n"
          ]
        },
        {
          "output_type": "stream",
          "name": "stdout",
          "text": [
            "  Fold 0: MAE=0.20330 | it=1400\n"
          ]
        },
        {
          "output_type": "stream",
          "name": "stdout",
          "text": [
            "  Fold 1: MAE=0.19683 | it=1400\n"
          ]
        },
        {
          "output_type": "stream",
          "name": "stdout",
          "text": [
            "  Fold 2: MAE=0.19772 | it=1400\n"
          ]
        },
        {
          "output_type": "stream",
          "name": "stdout",
          "text": [
            "[LGBM seed1 retrain] 3JHN: MAE=0.199271\n"
          ]
        },
        {
          "output_type": "stream",
          "name": "stdout",
          "text": [
            "\n[LGBM seed1 retrain] 3JHH: n_train=531224 n_test=59305\n"
          ]
        },
        {
          "output_type": "stream",
          "name": "stdout",
          "text": [
            "  Fold 0: MAE=0.34180 | it=1400\n"
          ]
        },
        {
          "output_type": "stream",
          "name": "stdout",
          "text": [
            "  Fold 1: MAE=0.33729 | it=1400\n"
          ]
        },
        {
          "output_type": "stream",
          "name": "stdout",
          "text": [
            "  Fold 2: MAE=0.33886 | it=1400\n"
          ]
        },
        {
          "output_type": "stream",
          "name": "stdout",
          "text": [
            "[LGBM seed1 retrain] 3JHH: MAE=0.339315\n"
          ]
        },
        {
          "output_type": "stream",
          "name": "stdout",
          "text": [
            "\n[LGBM seed1 retrain] 2JHH: n_train=340097 n_test=37891\n"
          ]
        },
        {
          "output_type": "stream",
          "name": "stdout",
          "text": [
            "  Fold 0: MAE=0.39880 | it=1000\n"
          ]
        },
        {
          "output_type": "stream",
          "name": "stdout",
          "text": [
            "  Fold 1: MAE=0.39004 | it=1000\n"
          ]
        },
        {
          "output_type": "stream",
          "name": "stdout",
          "text": [
            "  Fold 2: MAE=0.39573 | it=1000\n"
          ]
        },
        {
          "output_type": "stream",
          "name": "stdout",
          "text": [
            "[LGBM seed1 retrain] 2JHH: MAE=0.394853\n"
          ]
        },
        {
          "output_type": "stream",
          "name": "stdout",
          "text": [
            "Updated artifacts for seed1 in 5.3 min\n"
          ]
        },
        {
          "output_type": "stream",
          "name": "stdout",
          "text": [
            "\n[LGBM seed2 retrain] 3JHC: n_train=1359077 n_test=152130\n"
          ]
        },
        {
          "output_type": "stream",
          "name": "stdout",
          "text": [
            "  Fold 0: MAE=0.59046 | it=1400\n"
          ]
        },
        {
          "output_type": "stream",
          "name": "stdout",
          "text": [
            "  Fold 1: MAE=0.58382 | it=1400\n"
          ]
        },
        {
          "output_type": "stream",
          "name": "stdout",
          "text": [
            "  Fold 2: MAE=0.59029 | it=1400\n"
          ]
        },
        {
          "output_type": "stream",
          "name": "stdout",
          "text": [
            "[LGBM seed2 retrain] 3JHC: MAE=0.588191\n"
          ]
        },
        {
          "output_type": "stream",
          "name": "stdout",
          "text": [
            "\n[LGBM seed2 retrain] 3JHN: n_train=150067 n_test=16546\n"
          ]
        },
        {
          "output_type": "stream",
          "name": "stdout",
          "text": [
            "  Fold 0: MAE=0.20191 | it=1400\n"
          ]
        },
        {
          "output_type": "stream",
          "name": "stdout",
          "text": [
            "  Fold 1: MAE=0.19575 | it=1400\n"
          ]
        },
        {
          "output_type": "stream",
          "name": "stdout",
          "text": [
            "  Fold 2: MAE=0.19768 | it=1400\n"
          ]
        },
        {
          "output_type": "stream",
          "name": "stdout",
          "text": [
            "[LGBM seed2 retrain] 3JHN: MAE=0.198435\n"
          ]
        },
        {
          "output_type": "stream",
          "name": "stdout",
          "text": [
            "\n[LGBM seed2 retrain] 3JHH: n_train=531224 n_test=59305\n"
          ]
        },
        {
          "output_type": "stream",
          "name": "stdout",
          "text": [
            "  Fold 0: MAE=0.34223 | it=1400\n"
          ]
        },
        {
          "output_type": "stream",
          "name": "stdout",
          "text": [
            "  Fold 1: MAE=0.33681 | it=1400\n"
          ]
        },
        {
          "output_type": "stream",
          "name": "stdout",
          "text": [
            "  Fold 2: MAE=0.33848 | it=1400\n"
          ]
        },
        {
          "output_type": "stream",
          "name": "stdout",
          "text": [
            "[LGBM seed2 retrain] 3JHH: MAE=0.339171\n"
          ]
        },
        {
          "output_type": "stream",
          "name": "stdout",
          "text": [
            "\n[LGBM seed2 retrain] 2JHH: n_train=340097 n_test=37891\n"
          ]
        },
        {
          "output_type": "stream",
          "name": "stdout",
          "text": [
            "  Fold 0: MAE=0.39970 | it=1000\n"
          ]
        },
        {
          "output_type": "stream",
          "name": "stdout",
          "text": [
            "  Fold 1: MAE=0.38853 | it=1000\n"
          ]
        },
        {
          "output_type": "stream",
          "name": "stdout",
          "text": [
            "  Fold 2: MAE=0.39705 | it=1000\n"
          ]
        },
        {
          "output_type": "stream",
          "name": "stdout",
          "text": [
            "[LGBM seed2 retrain] 2JHH: MAE=0.395091\n"
          ]
        },
        {
          "output_type": "stream",
          "name": "stdout",
          "text": [
            "Updated artifacts for seed2 in 5.9 min\n"
          ]
        }
      ]
    },
    {
      "id": "9cb300dc-d36c-420f-bb80-b0b6fdee5b3d",
      "cell_type": "code",
      "metadata": {},
      "source": [
        "# Diagnostics: path_len sanity vs coupling type and geometry coverage\n",
        "import numpy as np, pandas as pd\n",
        "\n",
        "def diag_pathlen(df: pd.DataFrame, name: str):\n",
        "    print(f\"\\n=== Path length diagnostics: {name} ===\", flush=True)\n",
        "    types = sorted(df['type'].unique())\n",
        "    for t in types:\n",
        "        dft = df[df['type']==t]\n",
        "        vc = dft['path_len'].value_counts(dropna=False).sort_index()\n",
        "        total = len(dft)\n",
        "        pl1 = float((dft['path_len']==1).mean()) if total else 0.0\n",
        "        pl2 = float((dft['path_len']==2).mean()) if total else 0.0\n",
        "        pl3 = float((dft['path_len']==3).mean()) if total else 0.0\n",
        "        print(f\"{t}: n={total} | path_len dist: {vc.to_dict()} | P(pl=1)={pl1:.3f} P(pl=2)={pl2:.3f} P(pl=3)={pl3:.3f}\", flush=True)\n",
        "\n",
        "def diag_geometry_coverage(df: pd.DataFrame, name: str):\n",
        "    print(f\"\\n=== Geometry feature coverage: {name} ===\", flush=True)\n",
        "    pl2 = (df['path_len']==2)\n",
        "    pl3 = (df['path_len']==3)\n",
        "    ang_cov = float((pl2 & df['angle_cos'].notna()).mean()) if len(df) else 0.0\n",
        "    dih_cov = float((pl3 & df['dih_cos'].notna()).mean()) if len(df) else 0.0\n",
        "    print(f\"Angle coverage on pl=2: {ang_cov:.3f} | Dihedral coverage on pl=3: {dih_cov:.3f}\", flush=True)\n",
        "\n",
        "# Run diagnostics on a 200k-row sample for speed\n",
        "idx_tr = np.random.RandomState(42).choice(len(X_train), size=min(200_000, len(X_train)), replace=False)\n",
        "idx_te = np.random.RandomState(1337).choice(len(X_test), size=min(100_000, len(X_test)), replace=False)\n",
        "diag_pathlen(X_train.iloc[idx_tr], 'train(sample)')\n",
        "diag_pathlen(X_test.iloc[idx_te], 'test(sample)')\n",
        "diag_geometry_coverage(X_train.iloc[idx_tr], 'train(sample)')\n",
        "diag_geometry_coverage(X_test.iloc[idx_te], 'test(sample)')"
      ],
      "execution_count": 29,
      "outputs": [
        {
          "output_type": "stream",
          "name": "stdout",
          "text": [
            "\n=== Path length diagnostics: train(sample) ===\n"
          ]
        },
        {
          "output_type": "stream",
          "name": "stdout",
          "text": [
            "1JHC: n=30564 | path_len dist: {1: 30564} | P(pl=1)=1.000 P(pl=2)=0.000 P(pl=3)=0.000\n"
          ]
        },
        {
          "output_type": "stream",
          "name": "stdout",
          "text": [
            "1JHN: n=1830 | path_len dist: {1: 1830} | P(pl=1)=1.000 P(pl=2)=0.000 P(pl=3)=0.000\n"
          ]
        },
        {
          "output_type": "stream",
          "name": "stdout",
          "text": [
            "2JHC: n=49202 | path_len dist: {2: 49202} | P(pl=1)=0.000 P(pl=2)=1.000 P(pl=3)=0.000\n"
          ]
        },
        {
          "output_type": "stream",
          "name": "stdout",
          "text": [
            "2JHH: n=16202 | path_len dist: {2: 16202} | P(pl=1)=0.000 P(pl=2)=1.000 P(pl=3)=0.000\n"
          ]
        },
        {
          "output_type": "stream",
          "name": "stdout",
          "text": [
            "2JHN: n=5103 | path_len dist: {2: 5103} | P(pl=1)=0.000 P(pl=2)=1.000 P(pl=3)=0.000\n"
          ]
        },
        {
          "output_type": "stream",
          "name": "stdout",
          "text": [
            "3JHC: n=64970 | path_len dist: {3: 64970} | P(pl=1)=0.000 P(pl=2)=0.000 P(pl=3)=1.000\n"
          ]
        },
        {
          "output_type": "stream",
          "name": "stdout",
          "text": [
            "3JHH: n=25062 | path_len dist: {3: 25062} | P(pl=1)=0.000 P(pl=2)=0.000 P(pl=3)=1.000\n"
          ]
        },
        {
          "output_type": "stream",
          "name": "stdout",
          "text": [
            "3JHN: n=7067 | path_len dist: {3: 7067} | P(pl=1)=0.000 P(pl=2)=0.000 P(pl=3)=1.000\n"
          ]
        },
        {
          "output_type": "stream",
          "name": "stdout",
          "text": [
            "\n=== Path length diagnostics: test(sample) ===\n"
          ]
        },
        {
          "output_type": "stream",
          "name": "stdout",
          "text": [
            "1JHC: n=15346 | path_len dist: {-1: 15346} | P(pl=1)=0.000 P(pl=2)=0.000 P(pl=3)=0.000\n"
          ]
        },
        {
          "output_type": "stream",
          "name": "stdout",
          "text": [
            "1JHN: n=954 | path_len dist: {-1: 954} | P(pl=1)=0.000 P(pl=2)=0.000 P(pl=3)=0.000\n"
          ]
        },
        {
          "output_type": "stream",
          "name": "stdout",
          "text": [
            "2JHC: n=24214 | path_len dist: {-1: 24214} | P(pl=1)=0.000 P(pl=2)=0.000 P(pl=3)=0.000\n"
          ]
        },
        {
          "output_type": "stream",
          "name": "stdout",
          "text": [
            "2JHH: n=8067 | path_len dist: {-1: 8067} | P(pl=1)=0.000 P(pl=2)=0.000 P(pl=3)=0.000\n"
          ]
        },
        {
          "output_type": "stream",
          "name": "stdout",
          "text": [
            "2JHN: n=2517 | path_len dist: {-1: 2517} | P(pl=1)=0.000 P(pl=2)=0.000 P(pl=3)=0.000\n"
          ]
        },
        {
          "output_type": "stream",
          "name": "stdout",
          "text": [
            "3JHC: n=32591 | path_len dist: {-1: 32591} | P(pl=1)=0.000 P(pl=2)=0.000 P(pl=3)=0.000\n"
          ]
        },
        {
          "output_type": "stream",
          "name": "stdout",
          "text": [
            "3JHH: n=12815 | path_len dist: {-1: 12815} | P(pl=1)=0.000 P(pl=2)=0.000 P(pl=3)=0.000\n"
          ]
        },
        {
          "output_type": "stream",
          "name": "stdout",
          "text": [
            "3JHN: n=3496 | path_len dist: {-1: 3496} | P(pl=1)=0.000 P(pl=2)=0.000 P(pl=3)=0.000\n"
          ]
        },
        {
          "output_type": "stream",
          "name": "stdout",
          "text": [
            "\n=== Geometry feature coverage: train(sample) ===\n"
          ]
        },
        {
          "output_type": "stream",
          "name": "stdout",
          "text": [
            "Angle coverage on pl=2: 0.353 | Dihedral coverage on pl=3: 0.485\n"
          ]
        },
        {
          "output_type": "stream",
          "name": "stdout",
          "text": [
            "\n=== Geometry feature coverage: test(sample) ===\n"
          ]
        },
        {
          "output_type": "stream",
          "name": "stdout",
          "text": [
            "Angle coverage on pl=2: 0.000 | Dihedral coverage on pl=3: 0.000\n"
          ]
        }
      ]
    },
    {
      "id": "1a012ef1-bb38-44d0-b7a8-79158357fceb",
      "cell_type": "code",
      "metadata": {},
      "source": [
        "# Purge train-only graph/geometry features; rebuild safe feature list and sanitize\n",
        "import numpy as np, pandas as pd\n",
        "\n",
        "DROP_COLS = [\n",
        "    # Graph/topology\n",
        "    'path_len','inv_path','is_bonded','min_nb_d0','min_nb_d1','cos0','cos1',\n",
        "    # Graph-derived\n",
        "    'path_len_bucket','path_le2','d_x_inv_path','d_over_1p_path','is_bonded_x_inv_d','inv_d_x_path_le2',\n",
        "    'cos0_x_inv_path','cos1_x_inv_path','min_nb_d0_x_inv_path','min_nb_d1_x_inv_path','d_over_mol_mean_nb_d',\n",
        "    # FE v3 geometry\n",
        "    'angle_cos','angle_sin','angle_rad','dih_cos','dih_sin','dih_cos2',\n",
        "    # FE v3 interactions\n",
        "    'angle_cos_inv_d','angle_sin_inv_d','angle_rad_inv_d','dih_cos_inv_d','dih_sin_inv_d','dih_cos2_inv_d'\n",
        "]\n",
        "\n",
        "# Safe base features (universally available)\n",
        "SAFE_BASE = [\n",
        "    'Z0','Z1','same_element',\n",
        "    'dx','dy','dz','d','d2','inv_d','inv_d2',\n",
        "    'nH','nC','nN','nO','nF','n_atoms',\n",
        "    'element_pair_id_sorted',\n",
        "    'EN0','EN1','EN_diff','EN_abs_diff',\n",
        "    'd_over_n_atoms','pe_per_atom',\n",
        "    'expected_d_by_type','d_from_expected'\n",
        "]\n",
        "\n",
        "# Quantum candidates (keep only if present for test) and simple interactions\n",
        "QUANTUM_CANDS = [\n",
        "    'mulliken_0','mulliken_1','z_mulliken_0','z_mulliken_1',\n",
        "    'shield_iso_0','shield_iso_1','z_shield_0','z_shield_1',\n",
        "    'mulliken_diff','mulliken_abs_diff','mulliken_sum','mulliken_prod',\n",
        "    'shield_diff','shield_abs_diff','shield_sum','shield_prod',\n",
        "    'mulliken_diff_over_d','mulliken_diff_x_inv_d','shield_diff_over_d','shield_diff_x_inv_d'\n",
        "]\n",
        "\n",
        "# Molecule-level optional (keep only if present for test) - used already via pe_per_atom if available\n",
        "MOL_LEVEL = ['potential_energy','dipole_x','dipole_y','dipole_z','dipole_mag']\n",
        "\n",
        "def coverage(series: pd.Series) -> float:\n",
        "    return float(series.notna().mean()) if len(series) else 0.0\n",
        "\n",
        "# 1) Drop train-only cols from dataframes if exist (avoid accidental use elsewhere)\n",
        "for c in DROP_COLS:\n",
        "    if c in X_train.columns:\n",
        "        X_train.drop(columns=[c], inplace=True)\n",
        "    if c in X_test.columns:\n",
        "        X_test.drop(columns=[c], inplace=True)\n",
        "\n",
        "# 2) Decide whether to keep quantum and mol-level based on test coverage\n",
        "keep_quantum = True\n",
        "if 'mulliken_0' in X_test.columns:\n",
        "    cov_mull = coverage(X_test['mulliken_0'])\n",
        "else:\n",
        "    cov_mull = 0.0\n",
        "if 'shield_iso_0' in X_test.columns:\n",
        "    cov_shld = coverage(X_test['shield_iso_0'])\n",
        "else:\n",
        "    cov_shld = 0.0\n",
        "if cov_mull == 0.0 and cov_shld == 0.0:\n",
        "    keep_quantum = False\n",
        "\n",
        "keep_mol_level = any(c in X_test.columns and coverage(X_test[c]) > 0.0 for c in MOL_LEVEL)\n",
        "\n",
        "# 3) Build reduced safe feature list from intersection\n",
        "cands = list(SAFE_BASE)\n",
        "if keep_quantum:\n",
        "    cands += QUANTUM_CANDS\n",
        "if keep_mol_level:\n",
        "    # we already use pe_per_atom from these; add raw only if present\n",
        "    cands += [c for c in MOL_LEVEL if c in X_test.columns]\n",
        "\n",
        "reduced_features = [c for c in cands if (c in X_train.columns and c in X_test.columns)]\n",
        "\n",
        "# 4) Re-sanitize: replace inf->NaN->fill with train means; cast float32; keep ints for IDs\n",
        "def sanitize_train_test_cols(X_tr: pd.DataFrame, X_te: pd.DataFrame, cols: list[str]):\n",
        "    X_tr = X_tr.copy(); X_te = X_te.copy()\n",
        "    X_tr[cols] = X_tr[cols].replace([np.inf, -np.inf], np.nan)\n",
        "    X_te[cols] = X_te[cols].replace([np.inf, -np.inf], np.nan)\n",
        "    for c in cols:\n",
        "        if X_tr[c].dtype.kind in 'iu':\n",
        "            mode_val = X_tr[c].mode(dropna=True)\n",
        "            fillv = int(mode_val.iloc[0]) if len(mode_val) else 0\n",
        "            X_tr[c] = X_tr[c].fillna(fillv).astype(X_tr[c].dtype)\n",
        "            X_te[c] = X_te[c].fillna(fillv).astype(X_te[c].dtype)\n",
        "        else:\n",
        "            tr = pd.to_numeric(X_tr[c], errors='coerce').astype('float32')\n",
        "            mean_val = float(np.nanmean(tr)) if np.isfinite(np.nanmean(tr)) else 0.0\n",
        "            X_tr[c] = tr.fillna(mean_val)\n",
        "            X_te[c] = pd.to_numeric(X_te[c], errors='coerce').astype('float32').fillna(mean_val)\n",
        "    return X_tr, X_te\n",
        "\n",
        "X_train, X_test = sanitize_train_test_cols(X_train, X_test, reduced_features)\n",
        "\n",
        "# 5) Update lgb_features to reduced safe list and report\n",
        "lgb_features = reduced_features\n",
        "print('Quantum coverage test: mulliken=', cov_mull, 'shield=', cov_shld, '| keep_quantum=', keep_quantum)\n",
        "print('Mol-level any coverage:', keep_mol_level)\n",
        "print('Reduced lgb_features count:', len(lgb_features))\n",
        "print('Sample features:', lgb_features[:20])\n",
        "assert all(c not in lgb_features for c in DROP_COLS), 'Unsafe cols leaked into features'"
      ],
      "execution_count": 30,
      "outputs": [
        {
          "output_type": "stream",
          "name": "stdout",
          "text": [
            "Quantum coverage test: mulliken= 1.0 shield= 1.0 | keep_quantum= True\nMol-level any coverage: False\nReduced lgb_features count: 45\nSample features: ['Z0', 'Z1', 'same_element', 'dx', 'dy', 'dz', 'd', 'd2', 'inv_d', 'inv_d2', 'nH', 'nC', 'nN', 'nO', 'nF', 'n_atoms', 'element_pair_id_sorted', 'EN0', 'EN1', 'EN_diff']\n"
          ]
        }
      ]
    },
    {
      "id": "396eafa4-5c56-4fc1-909d-7c3d1004c346",
      "cell_type": "code",
      "metadata": {},
      "source": [
        "# Safe physics features: distance bases, radii normalization, Coulomb/EN/Quantum interactions, RBFs, expected d by type-pair, atom fractions\n",
        "import numpy as np, pandas as pd, time\n",
        "\n",
        "t0 = time.time()\n",
        "assert 'X_train' in globals() and 'X_test' in globals(), 'Run data prep first'\n",
        "\n",
        "# 1) Basic distance bases\n",
        "for df in (X_train, X_test):\n",
        "    d = df['d'].astype('float32')\n",
        "    d2 = df['d2'].astype('float32')\n",
        "    eps = 1e-8\n",
        "    df['inv_d3'] = (1.0 / np.clip(d, eps, None)**3).astype('float32')\n",
        "    df['inv_d4'] = (1.0 / np.clip(d, eps, None)**4).astype('float32')\n",
        "    df['inv_d6'] = (1.0 / np.clip(d, eps, None)**6).astype('float32')\n",
        "    df['exp_md'] = np.exp(-1.0 * d).astype('float32')\n",
        "    df['exp_2d'] = np.exp(-2.0 * d).astype('float32')\n",
        "    df['exp_hd'] = np.exp(-0.5 * d).astype('float32')\n",
        "\n",
        "# 2) Radius/chemistry normalization\n",
        "R_COV = {1:0.31, 6:0.76, 7:0.71, 8:0.66, 9:0.57}\n",
        "def cov_radius(z):\n",
        "    return np.float32(R_COV.get(int(z), 0.7))\n",
        "for df in (X_train, X_test):\n",
        "    r0 = df['Z0'].astype('int32').map(lambda z: cov_radius(z)).astype('float32')\n",
        "    r1 = df['Z1'].astype('int32').map(lambda z: cov_radius(z)).astype('float32')\n",
        "    denom = (r0 + r1).astype('float32')\n",
        "    denom = denom.replace(0, np.float32(1e-6)) if isinstance(denom, pd.Series) else np.where(denom==0, 1e-6, denom)\n",
        "    df['bo_ratio'] = (df['d'].astype('float32') / denom.astype('float32')).astype('float32')\n",
        "    df['inv_bo'] = (1.0 / df['bo_ratio'].replace(0, np.nan)).fillna(0).astype('float32')\n",
        "\n",
        "# 3) Coulombic proxies\n",
        "for df in (X_train, X_test):\n",
        "    zprod = (df['Z0'].astype('float32') * df['Z1'].astype('float32')).astype('float32')\n",
        "    d = df['d'].astype('float32')\n",
        "    df['Zprod_over_d'] = (zprod / np.clip(d, 1e-8, None)).astype('float32')\n",
        "    df['Zprod_over_d2'] = (zprod / np.clip(d, 1e-8, None)**2).astype('float32')\n",
        "\n",
        "# 4) Electronegativity interactions (EN0/EN1 already present)\n",
        "for df in (X_train, X_test):\n",
        "    d = df['d'].astype('float32')\n",
        "    EN_abs_diff = df['EN_abs_diff'].astype('float32')\n",
        "    EN_sum = (df['EN0'].astype('float32') + df['EN1'].astype('float32')).astype('float32')\n",
        "    df['EN_abs_over_d'] = (EN_abs_diff / np.clip(d, 1e-8, None)).astype('float32')\n",
        "    df['EN_sum_over_d'] = (EN_sum / np.clip(d, 1e-8, None)).astype('float32')\n",
        "    df['d_times_EN_abs'] = (d * EN_abs_diff).astype('float32')\n",
        "\n",
        "# 5) Quantum \u00d7 distance interactions (guard if quantum missing)\n",
        "has_mull = ('mulliken_0' in X_train.columns) and ('mulliken_0' in X_test.columns)\n",
        "has_shld = ('shield_iso_0' in X_train.columns) and ('shield_iso_0' in X_test.columns)\n",
        "if has_mull:\n",
        "    for df in (X_train, X_test):\n",
        "        d = df['d'].astype('float32')\n",
        "        inv_d = (1.0/np.clip(d,1e-8,None)).astype('float32')\n",
        "        m0 = df['mulliken_0'].astype('float32'); m1 = df['mulliken_1'].astype('float32')\n",
        "        mdiff = (m0 - m1).astype('float32')\n",
        "        msum = (m0 + m1).astype('float32')\n",
        "        mprod = (m0 * m1).astype('float32')\n",
        "        df['mprod_over_d'] = (mprod * inv_d).astype('float32')\n",
        "        df['mabsdiff_over_d'] = (mdiff.abs() * inv_d).astype('float32')\n",
        "        df['msum_over_d2'] = (msum / np.clip(d,1e-8,None)**2).astype('float32')\n",
        "if has_shld:\n",
        "    for df in (X_train, X_test):\n",
        "        d = df['d'].astype('float32')\n",
        "        inv_d = (1.0/np.clip(d,1e-8,None)).astype('float32')\n",
        "        sdiff = (df['shield_iso_0'].astype('float32') - df['shield_iso_1'].astype('float32')).astype('float32')\n",
        "        df['sabsdiff_over_d'] = (sdiff.abs() * inv_d).astype('float32')\n",
        "\n",
        "# 6) Expected distance by (type, element_pair_id_sorted) computed on TRAIN ONLY\n",
        "grp = X_train.groupby(['type','element_pair_id_sorted'])['d'].mean().astype('float32')\n",
        "map_dict = grp.to_dict()\n",
        "for df in (X_train, X_test):\n",
        "    key = list(zip(df['type'].values, df['element_pair_id_sorted'].values))\n",
        "    exp_pair = np.array([map_dict.get(k, np.nan) for k in key], dtype=np.float32)\n",
        "    mean_fallback = np.float32(X_train['d'].mean())\n",
        "    exp_pair = np.where(np.isnan(exp_pair), mean_fallback, exp_pair).astype(np.float32)\n",
        "    df['expected_d_by_type_pair'] = exp_pair\n",
        "    df['d_from_expected_pair'] = (df['d'].astype('float32') - df['expected_d_by_type_pair'].astype('float32')).astype('float32')\n",
        "\n",
        "# 7) Atom fractions\n",
        "for df in (X_train, X_test):\n",
        "    n_atoms = df['n_atoms'].replace(0, np.nan).astype('float32')\n",
        "    for a in ['H','C','N','O','F']:\n",
        "        col = f'n{a}'\n",
        "        if col in df.columns:\n",
        "            df[f'{col}_frac'] = (df[col].astype('float32') / n_atoms).fillna(0).astype('float32')\n",
        "\n",
        "# 8) Per-type RBFs over distance (centers from TRAIN per type); 8 centers per type\n",
        "types_unique = sorted(X_train['type'].unique())\n",
        "rbf_centers = {}  # type -> centers np.array\n",
        "rbf_sigma = {}    # type -> sigma float\n",
        "for t in types_unique:\n",
        "    d_t = X_train.loc[X_train['type']==t, 'd'].astype('float32')\n",
        "    if len(d_t) == 0:\n",
        "        continue\n",
        "    qs = np.linspace(0.1, 0.9, 8)\n",
        "    centers = np.quantile(d_t.values, qs).astype('float32')\n",
        "    iqr = float(np.quantile(d_t.values, 0.75) - np.quantile(d_t.values, 0.25))\n",
        "    sigma = np.float32(max(iqr/6.0, 1e-2))\n",
        "    rbf_centers[t] = centers\n",
        "    rbf_sigma[t] = sigma\n",
        "\n",
        "def add_rbf_features(df: pd.DataFrame, prefix: str):\n",
        "    # For each type row, compute RBFs relative to that type's centers\n",
        "    d = df['d'].astype('float32').values\n",
        "    types_arr = df['type'].values\n",
        "    # Preallocate temp arrays for cumulative writes\n",
        "    for j in range(8):\n",
        "        df[f'{prefix}_rbf{j}'] = np.zeros(len(df), dtype=np.float32)\n",
        "    for t in types_unique:\n",
        "        idx = np.where(types_arr == t)[0]\n",
        "        if idx.size == 0 or t not in rbf_centers:\n",
        "            continue\n",
        "        c = rbf_centers[t]\n",
        "        sig = rbf_sigma[t]\n",
        "        d_loc = d[idx]\n",
        "        for j in range(len(c)):\n",
        "            val = np.exp(-((d_loc - c[j])**2) / (2.0 * (sig**2))).astype('float32')\n",
        "            df.iloc[idx, df.columns.get_loc(f'{prefix}_rbf{j}')] = val\n",
        "\n",
        "add_rbf_features(X_train, 'd')\n",
        "add_rbf_features(X_test,  'd')\n",
        "\n",
        "# 9) Update lgb_features: include only columns present in both train and test\n",
        "new_cols = [\n",
        "    'inv_d3','inv_d4','inv_d6','exp_md','exp_2d','exp_hd',\n",
        "    'bo_ratio','inv_bo','Zprod_over_d','Zprod_over_d2','EN_abs_over_d','EN_sum_over_d','d_times_EN_abs',\n",
        "]\n",
        "if has_mull:\n",
        "    new_cols += ['mprod_over_d','mabsdiff_over_d','msum_over_d2']\n",
        "if has_shld:\n",
        "    new_cols += ['sabsdiff_over_d']\n",
        "new_cols += ['expected_d_by_type_pair','d_from_expected_pair','nH_frac','nC_frac','nN_frac','nO_frac','nF_frac']\n",
        "new_cols += [f'd_rbf{j}' for j in range(8)]\n",
        "\n",
        "present_cols = [c for c in new_cols if (c in X_train.columns and c in X_test.columns)]\n",
        "if 'lgb_features' in globals():\n",
        "    for c in present_cols:\n",
        "        if c not in lgb_features:\n",
        "            lgb_features.append(c)\n",
        "else:\n",
        "    lgb_features = present_cols\n",
        "\n",
        "# 10) Sanitize new columns (fill NaN/inf with train means)\n",
        "for c in present_cols:\n",
        "    X_train[c] = pd.to_numeric(X_train[c], errors='coerce').replace([np.inf,-np.inf], np.nan).astype('float32')\n",
        "    X_test[c]  = pd.to_numeric(X_test[c], errors='coerce').replace([np.inf,-np.inf], np.nan).astype('float32')\n",
        "    mean_val = float(np.nanmean(X_train[c].values)) if np.isfinite(np.nanmean(X_train[c].values)) else 0.0\n",
        "    X_train[c] = X_train[c].fillna(mean_val).astype('float32')\n",
        "    X_test[c]  = X_test[c].fillna(mean_val).astype('float32')\n",
        "\n",
        "print('Added safe physics features. lgb_features now:', len(lgb_features), '| \u0394time:', round(time.time()-t0,1), 's')\n",
        "print('Sample added:', present_cols[:20])"
      ],
      "execution_count": 34,
      "outputs": [
        {
          "output_type": "stream",
          "name": "stdout",
          "text": [
            "Added safe physics features. lgb_features now: 77 | \u0394time: 13.5 s\nSample added: ['inv_d3', 'inv_d4', 'inv_d6', 'exp_md', 'exp_2d', 'exp_hd', 'bo_ratio', 'inv_bo', 'Zprod_over_d', 'Zprod_over_d2', 'EN_abs_over_d', 'EN_sum_over_d', 'd_times_EN_abs', 'mprod_over_d', 'mabsdiff_over_d', 'msum_over_d2', 'sabsdiff_over_d', 'expected_d_by_type_pair', 'd_from_expected_pair', 'nH_frac']\n"
          ]
        }
      ]
    },
    {
      "id": "e33b9378-f5a9-4ab4-a1b2-ad00885a7d90",
      "cell_type": "code",
      "metadata": {},
      "source": [
        "# Drop unsafe mol-level features per expert advice\n",
        "import pandas as pd\n",
        "unsafe_cols = ['potential_energy','dipole_x','dipole_y','dipole_z','dipole_mag','pe_per_atom']\n",
        "for c in unsafe_cols:\n",
        "    if c in X_train.columns:\n",
        "        X_train.drop(columns=[c], inplace=True)\n",
        "    if c in X_test.columns:\n",
        "        X_test.drop(columns=[c], inplace=True)\n",
        "\n",
        "# Remove from lgb_features if present\n",
        "if 'lgb_features' in globals():\n",
        "    lgb_features = [c for c in lgb_features if c not in unsafe_cols]\n",
        "print('Removed unsafe cols. lgb_features now:', len(lgb_features))"
      ],
      "execution_count": 35,
      "outputs": [
        {
          "output_type": "stream",
          "name": "stdout",
          "text": [
            "Removed unsafe cols. lgb_features now: 76\n"
          ]
        }
      ]
    },
    {
      "id": "fda412c8-9686-4453-a7ae-eb6d9d83407c",
      "cell_type": "code",
      "metadata": {},
      "source": [
        "# OOF Target Encodings: TE_dist_bin and TE_pair_bin (type-aware, distance-quantile bins with smoothing)\n",
        "import numpy as np, pandas as pd, time\n",
        "\n",
        "assert 'X_train' in globals() and 'X_test' in globals(), 'Run data prep first'\n",
        "assert 'lgb_folds' in globals(), 'Build lgb_folds first (cell 10)'\n",
        "\n",
        "t0 = time.time()\n",
        "B = 15  # number of bins\n",
        "m_smooth = 100.0  # smoothing weight\n",
        "\n",
        "# 1) Compute per-type bin edges on TRAIN only\n",
        "type_list = sorted(X_train['type'].unique())\n",
        "bin_edges = {}  # t -> edges np.array length B+1\n",
        "for t in type_list:\n",
        "    d_t = X_train.loc[X_train['type']==t, 'd'].astype('float32').values\n",
        "    if d_t.size == 0:\n",
        "        continue\n",
        "    qs = np.linspace(0.0, 1.0, B+1)\n",
        "    edges = np.quantile(d_t, qs).astype('float32')\n",
        "    # Ensure strictly increasing edges (handle duplicates)\n",
        "    for i in range(1, len(edges)):\n",
        "        if edges[i] <= edges[i-1]:\n",
        "            edges[i] = edges[i-1] + 1e-6\n",
        "    bin_edges[t] = edges\n",
        "\n",
        "def assign_bins(df: pd.DataFrame) -> np.ndarray:\n",
        "    out = np.full(len(df), -1, dtype=np.int16)\n",
        "    types_arr = df['type'].values\n",
        "    d_arr = df['d'].astype('float32').values\n",
        "    for t in type_list:\n",
        "        idx = np.where(types_arr == t)[0]\n",
        "        if idx.size == 0 or t not in bin_edges:\n",
        "            continue\n",
        "        e = bin_edges[t]\n",
        "        # np.digitize returns 1..len(e)-1; convert to 0..B-1 and clip\n",
        "        b = np.digitize(d_arr[idx], e[1:-1], right=False).astype(np.int16)\n",
        "        b = np.clip(b, 0, B-1).astype(np.int16)\n",
        "        out[idx] = b\n",
        "    return out\n",
        "\n",
        "# 2) Precompute train-wide stats for test transform\n",
        "y_all = X_train['scalar_coupling_constant'].astype('float32').values\n",
        "dist_bin_all = assign_bins(X_train)\n",
        "X_train['__dist_bin'] = dist_bin_all\n",
        "X_test['__dist_bin'] = assign_bins(X_test)\n",
        "\n",
        "# Per-type global mean for smoothing fallback\n",
        "type_global_mean = X_train.groupby('type')['scalar_coupling_constant'].mean().astype('float32').to_dict()\n",
        "\n",
        "# Build full-train stats for test mapping\n",
        "def build_stats(keys_df: pd.DataFrame):\n",
        "    # keys_df must have columns: 'type','__dist_bin','element_pair_id_sorted','scalar_coupling_constant'\n",
        "    # (a) by (type, dist_bin)\n",
        "    g1 = keys_df.groupby(['type','__dist_bin'])['scalar_coupling_constant'].agg(['sum','count']).reset_index()\n",
        "    g1 = g1.rename(columns={'sum':'sum1','count':'cnt1'})\n",
        "    # (b) by (type, pair, dist_bin)\n",
        "    g2 = keys_df.groupby(['type','element_pair_id_sorted','__dist_bin'])['scalar_coupling_constant'].agg(['sum','count']).reset_index()\n",
        "    g2 = g2.rename(columns={'sum':'sum2','count':'cnt2'})\n",
        "    return g1, g2\n",
        "\n",
        "g1_all, g2_all = build_stats(X_train[['type','__dist_bin','element_pair_id_sorted','scalar_coupling_constant']])\n",
        "\n",
        "# 3) OOF encode for train using lgb_folds\n",
        "TE_dist_oof = np.zeros(len(X_train), dtype=np.float32)\n",
        "TE_pair_oof = np.zeros(len(X_train), dtype=np.float32)\n",
        "\n",
        "for fold_i, (tr_idx, va_idx) in enumerate(lgb_folds):\n",
        "    tr = X_train.iloc[tr_idx][['type','__dist_bin','element_pair_id_sorted','scalar_coupling_constant']].copy()\n",
        "    va = X_train.iloc[va_idx][['type','__dist_bin','element_pair_id_sorted']].copy()\n",
        "    # Filter out rows with missing bin\n",
        "    tr = tr[tr['__dist_bin'] >= 0]\n",
        "    # Stats on training part only\n",
        "    g1, g2 = build_stats(tr)\n",
        "    # Merge and compute smoothed means for validation part\n",
        "    va_ = va.copy()\n",
        "    va_ = va_.merge(g1, on=['type','__dist_bin'], how='left')\n",
        "    va_ = va_.merge(g2, on=['type','element_pair_id_sorted','__dist_bin'], how='left')\n",
        "    # Compute smoothed TE values\n",
        "    # For dist TE: use per-type global mean as prior\n",
        "    prior = va_['type'].map(type_global_mean).astype('float32')\n",
        "    sum1 = va_['sum1'].astype('float32').fillna(0.0); cnt1 = va_['cnt1'].astype('float32').fillna(0.0)\n",
        "    te1 = (sum1 + m_smooth*prior) / (cnt1 + m_smooth)\n",
        "    # For pair TE: also use per-type global prior\n",
        "    sum2 = va_['sum2'].astype('float32').fillna(0.0); cnt2 = va_['cnt2'].astype('float32').fillna(0.0)\n",
        "    te2 = (sum2 + m_smooth*prior) / (cnt2 + m_smooth)\n",
        "    # Assign back\n",
        "    TE_dist_oof[va_idx] = te1.values.astype('float32')\n",
        "    TE_pair_oof[va_idx] = te2.values.astype('float32')\n",
        "    print(f'TE OOF fold {fold_i}: n_tr={len(tr_idx)} n_va={len(va_idx)}', flush=True)\n",
        "\n",
        "# 4) Transform test using full-train stats with smoothing\n",
        "te_df = X_test[['type','__dist_bin','element_pair_id_sorted']].copy()\n",
        "te_df = te_df.merge(g1_all, on=['type','__dist_bin'], how='left')\n",
        "te_df = te_df.merge(g2_all, on=['type','element_pair_id_sorted','__dist_bin'], how='left')\n",
        "prior_te = te_df['type'].map(type_global_mean).astype('float32')\n",
        "sum1_te = te_df['sum1'].astype('float32').fillna(0.0); cnt1_te = te_df['cnt1'].astype('float32').fillna(0.0)\n",
        "sum2_te = te_df['sum2'].astype('float32').fillna(0.0); cnt2_te = te_df['cnt2'].astype('float32').fillna(0.0)\n",
        "TE_dist_test = ((sum1_te + m_smooth*prior_te) / (cnt1_te + m_smooth)).astype('float32')\n",
        "TE_pair_test = ((sum2_te + m_smooth*prior_te) / (cnt2_te + m_smooth)).astype('float32')\n",
        "\n",
        "# 5) Attach features and clean up\n",
        "X_train['TE_dist_bin'] = TE_dist_oof.astype('float32')\n",
        "X_train['TE_pair_bin'] = TE_pair_oof.astype('float32')\n",
        "X_test['TE_dist_bin'] = TE_dist_test.astype('float32')\n",
        "X_test['TE_pair_bin'] = TE_pair_test.astype('float32')\n",
        "\n",
        "# Drop helper columns\n",
        "X_train.drop(columns=['__dist_bin'], inplace=True)\n",
        "X_test.drop(columns=['__dist_bin'], inplace=True)\n",
        "\n",
        "# 6) Update lgb_features\n",
        "for c in ['TE_dist_bin','TE_pair_bin']:\n",
        "    if c in X_train.columns and c in X_test.columns:\n",
        "        if 'lgb_features' in globals():\n",
        "            if c not in lgb_features:\n",
        "                lgb_features.append(c)\n",
        "        else:\n",
        "            lgb_features = [c]\n",
        "\n",
        "print('Added TE features. lgb_features now:', len(lgb_features), '| \u0394time:', round(time.time()-t0,1), 's')"
      ],
      "execution_count": 39,
      "outputs": [
        {
          "output_type": "stream",
          "name": "stdout",
          "text": [
            "TE OOF fold 0: n_tr=2792710 n_va=1398553\n"
          ]
        },
        {
          "output_type": "stream",
          "name": "stdout",
          "text": [
            "TE OOF fold 1: n_tr=2792391 n_va=1398872\n"
          ]
        },
        {
          "output_type": "stream",
          "name": "stdout",
          "text": [
            "TE OOF fold 2: n_tr=2797425 n_va=1393838\n"
          ]
        },
        {
          "output_type": "stream",
          "name": "stdout",
          "text": [
            "Added TE features. lgb_features now: 78 | \u0394time: 8.3 s\n"
          ]
        }
      ]
    },
    {
      "id": "2e8cf416-c073-4775-8a69-99e4f2afad34",
      "cell_type": "code",
      "metadata": {},
      "source": [
        "# Per-type bias correction on blended LGBM seeds and rewrite submission\n",
        "import numpy as np, pandas as pd, os, time\n",
        "\n",
        "t0 = time.time()\n",
        "assert os.path.exists('oof_blend_lgb12.npy') and os.path.exists('pred_test_blend_lgb12.npy'), 'Run blend cell first'\n",
        "oof_blend = np.load('oof_blend_lgb12.npy')\n",
        "pred_test_blend = np.load('pred_test_blend_lgb12.npy')\n",
        "\n",
        "y = X_train['scalar_coupling_constant'].values.astype('float32')\n",
        "types_tr = X_train['type'].values\n",
        "types_te = X_test['type'].values\n",
        "\n",
        "# Compute per-type residual mean (y - oof) and apply as bias to test preds\n",
        "bias_per_type = {}\n",
        "for t in sorted(pd.unique(types_tr)):\n",
        "    m = (types_tr == t)\n",
        "    if m.any():\n",
        "        bias_per_type[t] = float((y[m] - oof_blend[m]).mean())\n",
        "    else:\n",
        "        bias_per_type[t] = 0.0\n",
        "\n",
        "adj_test = pred_test_blend.copy().astype('float32')\n",
        "for t, b in bias_per_type.items():\n",
        "    mt = (types_te == t)\n",
        "    if mt.any():\n",
        "        adj_test[mt] = (adj_test[mt] + np.float32(b)).astype('float32')\n",
        "\n",
        "# Optionally report OOF LMAE after bias correction (train-side correction only affects mean, not MAE strongly)\n",
        "def lmae_score_fast(y_true, y_pred, types, eps: float = 1e-9):\n",
        "    df = pd.DataFrame({'y': y_true, 'p': y_pred, 'type': types})\n",
        "    mae_by_type = df.groupby('type').apply(lambda g: float(np.mean(np.abs(g['y'].values - g['p'].values)))).astype('float64')\n",
        "    return float(np.log(mae_by_type.clip(lower=eps)).mean())\n",
        "\n",
        "# Build and save bias-corrected submission\n",
        "sub_bc = pd.DataFrame({'id': X_test['id'].values, 'scalar_coupling_constant': adj_test}).sort_values('id')\n",
        "sub_bc.to_csv('submission.csv', index=False)\n",
        "pd.Series(bias_per_type).to_csv('bias_per_type_lgb_blend.csv')\n",
        "print('Applied per-type bias correction. Saved submission.csv', sub_bc.shape, '| \u0394time:', round(time.time()-t0,1), 's')\n",
        "print('Bias per type:', bias_per_type)"
      ],
      "execution_count": 43,
      "outputs": [
        {
          "output_type": "stream",
          "name": "stdout",
          "text": [
            "Applied per-type bias correction. Saved submission.csv (467813, 2) | \u0394time: 0.9 s\nBias per type: {'1JHC': 0.06225172430276871, '1JHN': 0.03956142067909241, '2JHC': 0.21071957051753998, '2JHH': -0.026959268376231194, '2JHN': 0.07537432014942169, '3JHC': 0.13971124589443207, '3JHH': 0.02110287733376026, '3JHN': 0.054075922816991806}\n"
          ]
        }
      ]
    }
  ],
  "metadata": {
    "kernelspec": {
      "display_name": "Python 3",
      "language": "python",
      "name": "python3"
    },
    "language_info": {
      "name": "python",
      "version": "3.11.0rc1"
    }
  },
  "nbformat": 4,
  "nbformat_minor": 5
}