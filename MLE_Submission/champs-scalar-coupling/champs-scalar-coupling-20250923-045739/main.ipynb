{
  "cells": [
    {
      "id": "018df243-51bb-478e-bb77-5310d1c34b16",
      "cell_type": "markdown",
      "metadata": {},
      "source": [
        "# CHAMPS Scalar Coupling: Medal Plan\n",
        "\n",
        "Objectives:\n",
        "- Build a reliable CV pipeline and strong feature set; target \u2265 bronze.\n",
        "- Ship a baseline quickly, iterate with OOF-driven improvements.\n",
        "\n",
        "Plan:\n",
        "1) Environment & GPU check (exit if no GPU).\n",
        "2) Data loading + schema/EDA (train/test/structures + aux tables).\n",
        "3) Validation: GroupKFold by molecule (molecule_name) with fixed seeds; save folds.\n",
        "4) Baseline features:\n",
        "   - Core: atom indices/types, type (coupling type), distance and geometry features from structures.\n",
        "   - Per-atom environment: neighbor counts, bond lengths (kNN), angles, same-atom flags.\n",
        "   - Global molecule stats; link aux tables (shielding, Mulliken, dipole, energy) by molecule/atom.\n",
        "5) Models:\n",
        "   - Start with CatBoost/XGBoost (GPU) per coupling type model; log progress + early stopping.\n",
        "   - Tune key params (depth/eta/l2) after baseline; blend per-type models.\n",
        "6) Metric & tracking:\n",
        "   - Compute log-MAE on OOF per type and overall; cache OOF/test preds.\n",
        "7) Iterations:\n",
        "   - FE v1: simple geometry (distances, 3D deltas).\n",
        "   - FE v2: neighbor-based aggregates, angles/dihedrals.\n",
        "   - FE v3: merge physics tables; careful fold-only merges.\n",
        "   - Ensembling of diverse seeds/algos if time.\n",
        "8) Deliverables:\n",
        "   - submission.csv from best CV; sanity-check file shape and IDs.\n",
        "\n",
        "Checkpoints requiring expert review:\n",
        "- After plan (now), after EDA/schema, after baseline CV, after FE v2, after tuning/ensembling."
      ],
      "execution_count": null,
      "outputs": []
    },
    {
      "id": "8a3d7053-ceb7-4f8c-bcf3-81c3ea144454",
      "cell_type": "code",
      "metadata": {},
      "source": [
        "# Environment & GPU check\n",
        "import subprocess, sys, time\n",
        "print('Checking GPU with nvidia-smi...', flush=True)\n",
        "t0 = time.time()\n",
        "proc = subprocess.run(['bash','-lc','nvidia-smi -L'], capture_output=True, text=True)\n",
        "print(proc.stdout.strip())\n",
        "print(proc.stderr.strip())\n",
        "ok = (proc.returncode == 0) and ('GPU' in proc.stdout)\n",
        "print(f'nvidia-smi ok: {ok} | elapsed: {time.time()-t0:.2f}s', flush=True)\n",
        "if not ok:\n",
        "    print('FATAL: GPU not available. Exiting to avoid wasting time.', file=sys.stderr, flush=True)\n",
        "    raise SystemExit(1)"
      ],
      "execution_count": 1,
      "outputs": [
        {
          "output_type": "stream",
          "name": "stdout",
          "text": [
            "Checking GPU with nvidia-smi...\n"
          ]
        },
        {
          "output_type": "stream",
          "name": "stdout",
          "text": [
            "Failed to initialize NVML: Unknown Error\n\nnvidia-smi ok: False | elapsed: 0.01s\n"
          ]
        },
        {
          "output_type": "stream",
          "name": "stderr",
          "text": [
            "FATAL: GPU not available. Exiting to avoid wasting time.\n"
          ]
        },
        {
          "output_type": "error",
          "ename": "SystemExit",
          "evalue": "1",
          "traceback": [
            "An exception has occurred, use %tb to see the full traceback.\n",
            "\u001b[31mSystemExit\u001b[39m\u001b[31m:\u001b[39m 1\n"
          ]
        },
        {
          "output_type": "stream",
          "name": "stderr",
          "text": [
            "/usr/local/lib/python3.11/dist-packages/IPython/core/interactiveshell.py:3707: UserWarning: To exit: use 'exit', 'quit', or Ctrl-D.\n  warn(\"To exit: use 'exit', 'quit', or Ctrl-D.\", stacklevel=1)\n"
          ]
        }
      ]
    }
  ],
  "metadata": {
    "kernelspec": {
      "display_name": "Python 3",
      "language": "python",
      "name": "python3"
    },
    "language_info": {
      "name": "python",
      "version": "3.11.0rc1"
    }
  },
  "nbformat": 4,
  "nbformat_minor": 5
}