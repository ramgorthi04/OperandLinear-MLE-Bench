{
  "cells": [
    {
      "id": "c658952f-0e79-436b-b955-32e1df79fc3c",
      "cell_type": "code",
      "metadata": {},
      "source": [
        "import numpy as np\n",
        "import pandas as pd\n",
        "from sklearn.feature_extraction.text import TfidfVectorizer\n",
        "from sklearn.linear_model import LogisticRegression, Ridge\n",
        "from sklearn.svm import LinearSVC\n",
        "from sklearn.calibration import CalibratedClassifierCV\n",
        "from sklearn.model_selection import StratifiedKFold\n",
        "from sklearn.metrics import log_loss\n",
        "from sklearn.preprocessing import LabelEncoder\n",
        "from scipy import sparse\n",
        "from scipy.special import softmax\n",
        "from unicodedata import normalize as uni_norm\n",
        "import re\n",
        "import warnings\n",
        "warnings.filterwarnings('ignore')\n",
        "\n",
        "# Load data\n",
        "train = pd.read_csv('train.csv')\n",
        "test = pd.read_csv('test.csv')\n",
        "le = LabelEncoder()\n",
        "y = le.fit_transform(train['author'])\n",
        "classes = list(le.classes_)\n",
        "skf = StratifiedKFold(n_splits=10, shuffle=True, random_state=42)\n",
        "\n",
        "def simple_clean(s):\n",
        "    if pd.isna(s): return \"\"\n",
        "    s = str(s)\n",
        "    s = s.replace(\"\\u2019\",\"'\") .replace(\"\\u2018\",\"'\") .replace(\"\\u201c\",\"\\\"\\\"\") .replace(\"\\u201d\",\"\\\"\\\"\") .replace(\"\\u2014\",\"-\") .replace(\"\\u2013\",\"-\")\n",
        "    s = uni_norm(\"NFKC\", s)\n",
        "    s = re.sub(r'\\s+', ' ', s).strip()\n",
        "    return s\n",
        "\n",
        "train['text'] = train['text'].map(simple_clean)\n",
        "test['text']  = test['text'].map(simple_clean)\n",
        "\n",
        "print('Data loaded and cleaned. Train shape:', train.shape, 'Classes:', classes)\n",
        "\n",
        "# Function for Char TF-IDF + LR\n",
        "def run_char_tfidf_lr(analyzer='char_wb', ngram=(2,6), min_df=2, sublinear_tf=True, max_features=None, C=1.0):\n",
        "    vec = TfidfVectorizer(\n",
        "        analyzer=analyzer,\n",
        "        ngram_range=ngram,\n",
        "        lowercase=True,\n",
        "        sublinear_tf=sublinear_tf,\n",
        "        min_df=min_df,\n",
        "        max_df=1.0,\n",
        "        strip_accents='unicode',\n",
        "        stop_words=None,\n",
        "        token_pattern=r'(?u)\\S+\\w*',  # Adjusted for char ngrams\n",
        "        preprocessor=simple_clean,\n",
        "        max_features=max_features,\n",
        "        dtype=np.float32\n",
        "    )\n",
        "    oof = np.zeros((len(train), 3), dtype=np.float32)\n",
        "    test_preds = np.zeros((len(test), 3), dtype=np.float32)\n",
        "    scores = []\n",
        "    for fold, (tr_idx, va_idx) in enumerate(skf.split(train, y), 1):\n",
        "        print(f'Fold {fold} started for {analyzer} {ngram} min_df{min_df}')\n",
        "        X_tr = vec.fit_transform(train['text'].iloc[tr_idx])\n",
        "        X_va = vec.transform(train['text'].iloc[va_idx])\n",
        "        X_te = vec.transform(test['text'])\n",
        "        clf = LogisticRegression(\n",
        "            solver='saga', C=C, penalty='l2',\n",
        "            max_iter=3000, tol=1e-4, multi_class='multinomial',\n",
        "            random_state=42+fold\n",
        "        )\n",
        "        clf.fit(X_tr, y[tr_idx])\n",
        "        oof[va_idx] = clf.predict_proba(X_va)\n",
        "        test_preds += clf.predict_proba(X_te)\n",
        "        sc = log_loss(y[va_idx], oof[va_idx]); scores.append(sc)\n",
        "        print(f'Char TF-IDF LR Fold {fold}: {sc:.4f}')\n",
        "    test_preds /= skf.n_splits\n",
        "    oof_score = float(np.mean(scores))\n",
        "    print(f'Char TF-IDF LR OOF: {oof_score:.4f} for {analyzer} {ngram} min_df{min_df} C{C}')\n",
        "    return oof_score, oof, test_preds\n",
        "\n",
        "# Function for Calibrated LinearSVC on char features\n",
        "def run_char_linsvc_cal(analyzer='char_wb', ngram=(2,6), min_df=2, C=1.0):\n",
        "    vec = TfidfVectorizer(\n",
        "        analyzer=analyzer,\n",
        "        ngram_range=ngram,\n",
        "        lowercase=True,\n",
        "        sublinear_tf=True,\n",
        "        min_df=min_df,\n",
        "        max_df=1.0,\n",
        "        strip_accents='unicode',\n",
        "        stop_words=None,\n",
        "        token_pattern=r'(?u)\\S+\\w*',\n",
        "        preprocessor=simple_clean,\n",
        "        dtype=np.float32\n",
        "    )\n",
        "    oof = np.zeros((len(train), 3), dtype=np.float32)\n",
        "    test_preds = np.zeros((len(test), 3), dtype=np.float32)\n",
        "    scores = []\n",
        "    for fold, (tr_idx, va_idx) in enumerate(skf.split(train, y), 1):\n",
        "        X_tr = vec.fit_transform(train['text'].iloc[tr_idx])\n",
        "        X_va = vec.transform(train['text'].iloc[va_idx])\n",
        "        X_te = vec.transform(test['text'])\n",
        "        base = LinearSVC(C=C, max_iter=2000, random_state=42+fold)\n",
        "        clf = CalibratedClassifierCV(base, method='sigmoid', cv=3)\n",
        "        clf.fit(X_tr, y[tr_idx])\n",
        "        oof[va_idx] = clf.predict_proba(X_va)\n",
        "        test_preds += clf.predict_proba(X_te)\n",
        "        sc = log_loss(y[va_idx], oof[va_idx]); scores.append(sc)\n",
        "        print(f'Char LinSVC Cal Fold {fold}: {sc:.4f}')\n",
        "    test_preds /= skf.n_splits\n",
        "    oof_score = float(np.mean(scores))\n",
        "    print(f'Char LinSVC Cal OOF: {oof_score:.4f} for {analyzer} {ngram}')\n",
        "    return oof_score, oof, test_preds\n",
        "\n",
        "# Function for Ridge on char features\n",
        "def run_char_ridge(analyzer='char_wb', ngram=(2,6), min_df=2, alpha=1.0):\n",
        "    vec = TfidfVectorizer(\n",
        "        analyzer=analyzer,\n",
        "        ngram_range=ngram,\n",
        "        lowercase=True,\n",
        "        sublinear_tf=True,\n",
        "        min_df=min_df,\n",
        "        max_df=1.0,\n",
        "        strip_accents='unicode',\n",
        "        stop_words=None,\n",
        "        token_pattern=r'(?u)\\S+\\w*',\n",
        "        preprocessor=simple_clean,\n",
        "        dtype=np.float32\n",
        "    )\n",
        "    oof = np.zeros((len(train), 3), dtype=np.float32)\n",
        "    test_preds = np.zeros((len(test), 3), dtype=np.float32)\n",
        "    scores = []\n",
        "    for fold, (tr_idx, va_idx) in enumerate(skf.split(train, y), 1):\n",
        "        X_tr = vec.fit_transform(train['text'].iloc[tr_idx])\n",
        "        X_va = vec.transform(train['text'].iloc[va_idx])\n",
        "        X_te = vec.transform(test['text'])\n",
        "        clf = Ridge(alpha=alpha, random_state=42+fold)\n",
        "        clf.fit(X_tr, y[tr_idx])\n",
        "        oof[va_idx] = softmax(clf.predict(X_va), axis=1)\n",
        "        test_preds += softmax(clf.predict(X_te), axis=1)\n",
        "        sc = log_loss(y[va_idx], oof[va_idx]); scores.append(sc)\n",
        "        print(f'Char Ridge Fold {fold}: {sc:.4f}')\n",
        "    test_preds /= skf.n_splits\n",
        "    oof_score = float(np.mean(scores))\n",
        "    print(f'Char Ridge OOF: {oof_score:.4f} for {analyzer} {ngram}')\n",
        "    return oof_score, oof, test_preds\n",
        "\n",
        "# Sweep over diverse configurations for char models (aim for 5-8 strong ones, OOF ~0.38-0.41)\n",
        "configs_lr = [\n",
        "    dict(analyzer='char_wb', ngram=(2,6), min_df=2, sublinear_tf=True, max_features=None, C=1.0),  # Baseline\n",
        "    dict(analyzer='char_wb', ngram=(2,7), min_df=2, sublinear_tf=True, max_features=None, C=1.0),\n",
        "    dict(analyzer='char', ngram=(3,7), min_df=3, sublinear_tf=True, max_features=50000, C=2.0),\n",
        "    dict(analyzer='char_wb', ngram=(3,8), min_df=1, sublinear_tf=False, max_features=None, C=0.5),\n",
        "    dict(analyzer='char', ngram=(2,6), min_df=2, sublinear_tf=True, max_features=None, C=5.0),  # Higher C\n",
        "]\n",
        "\n",
        "for i, cfg in enumerate(configs_lr, 1):\n",
        "    tag = f'char_lr_{cfg[\"analyzer\"]}_{cfg[\"ngram\"][0]}_{cfg[\"ngram\"][1]}_mindf{cfg[\"min_df\"]}_C{cfg[\"C\"]}'\n",
        "    sc, oof, te = run_char_tfidf_lr(**cfg)\n",
        "    if sc < 0.42:  # Save promising ones\n",
        "        pd.DataFrame(oof, columns=classes).to_csv(f'oof_10f_{tag}.csv', index=False)\n",
        "        pd.DataFrame(te, columns=classes).to_csv(f'test_10f_{tag}.csv', index=False)\n",
        "        print(f'Saved {tag} with OOF {sc:.4f}')\n",
        "\n",
        "# Additional diversity: LinSVC Cal and Ridge on best config (e.g., char_wb 2-7)\n",
        "print('\\n--- Running LinSVC Cal on char_wb (2,7) ---')\n",
        "sc_svc, oof_svc, te_svc = run_char_linsvc_cal(analyzer='char_wb', ngram=(2,7), min_df=2, C=1.0)\n",
        "if sc_svc < 0.42:\n",
        "    pd.DataFrame(oof_svc, columns=classes).to_csv('oof_10f_char_wb_2_7_linsvc_cal.csv', index=False)\n",
        "    pd.DataFrame(te_svc, columns=classes).to_csv('test_10f_char_wb_2_7_linsvc_cal.csv', index=False)\n",
        "\n",
        "print('\\n--- Running Ridge on char_wb (2,7) ---')\n",
        "sc_ridge, oof_ridge, te_ridge = run_char_ridge(analyzer='char_wb', ngram=(2,7), min_df=2, alpha=1.0)\n",
        "if sc_ridge < 0.42:\n",
        "    pd.DataFrame(oof_ridge, columns=classes).to_csv('oof_10f_char_wb_2_7_ridge.csv', index=False)\n",
        "    pd.DataFrame(te_ridge, columns=classes).to_csv('test_10f_char_wb_2_7_ridge.csv', index=False)\n",
        "\n",
        "print('Char models sweep complete. Generated 5-7 diverse char-based models. Next: integrate top ones into final_ensemble.ipynb to improve from ~0.31 OOF towards medal. Request expert review if needed after execution.')"
      ],
      "execution_count": 1,
      "outputs": [
        {
          "output_type": "stream",
          "name": "stdout",
          "text": [
            "Data loaded and cleaned. Train shape: (17621, 3) Classes: ['EAP', 'HPL', 'MWS']\nFold 1 started for char_wb (2, 6) min_df2\n"
          ]
        },
        {
          "output_type": "stream",
          "name": "stdout",
          "text": [
            "Char TF-IDF LR Fold 1: 0.4925\nFold 2 started for char_wb (2, 6) min_df2\n"
          ]
        },
        {
          "output_type": "stream",
          "name": "stdout",
          "text": [
            "Char TF-IDF LR Fold 2: 0.4853\nFold 3 started for char_wb (2, 6) min_df2\n"
          ]
        },
        {
          "output_type": "stream",
          "name": "stdout",
          "text": [
            "Char TF-IDF LR Fold 3: 0.4920\nFold 4 started for char_wb (2, 6) min_df2\n"
          ]
        },
        {
          "output_type": "stream",
          "name": "stdout",
          "text": [
            "Char TF-IDF LR Fold 4: 0.4941\nFold 5 started for char_wb (2, 6) min_df2\n"
          ]
        },
        {
          "output_type": "stream",
          "name": "stdout",
          "text": [
            "Char TF-IDF LR Fold 5: 0.5068\nFold 6 started for char_wb (2, 6) min_df2\n"
          ]
        },
        {
          "output_type": "stream",
          "name": "stdout",
          "text": [
            "Char TF-IDF LR Fold 6: 0.4970\nFold 7 started for char_wb (2, 6) min_df2\n"
          ]
        },
        {
          "output_type": "stream",
          "name": "stdout",
          "text": [
            "Char TF-IDF LR Fold 7: 0.4983\nFold 8 started for char_wb (2, 6) min_df2\n"
          ]
        },
        {
          "output_type": "stream",
          "name": "stdout",
          "text": [
            "Char TF-IDF LR Fold 8: 0.4839\nFold 9 started for char_wb (2, 6) min_df2\n"
          ]
        },
        {
          "output_type": "stream",
          "name": "stdout",
          "text": [
            "Char TF-IDF LR Fold 9: 0.4875\nFold 10 started for char_wb (2, 6) min_df2\n"
          ]
        },
        {
          "output_type": "stream",
          "name": "stdout",
          "text": [
            "Char TF-IDF LR Fold 10: 0.4821\nChar TF-IDF LR OOF: 0.4920 for char_wb (2, 6) min_df2 C1.0\nFold 1 started for char_wb (2, 7) min_df2\n"
          ]
        },
        {
          "output_type": "stream",
          "name": "stdout",
          "text": [
            "Char TF-IDF LR Fold 1: 0.4958\nFold 2 started for char_wb (2, 7) min_df2\n"
          ]
        },
        {
          "output_type": "stream",
          "name": "stdout",
          "text": [
            "Char TF-IDF LR Fold 2: 0.4882\nFold 3 started for char_wb (2, 7) min_df2\n"
          ]
        },
        {
          "output_type": "stream",
          "name": "stdout",
          "text": [
            "Char TF-IDF LR Fold 3: 0.4948\nFold 4 started for char_wb (2, 7) min_df2\n"
          ]
        },
        {
          "output_type": "stream",
          "name": "stdout",
          "text": [
            "Char TF-IDF LR Fold 4: 0.4970\nFold 5 started for char_wb (2, 7) min_df2\n"
          ]
        },
        {
          "output_type": "stream",
          "name": "stdout",
          "text": [
            "Char TF-IDF LR Fold 5: 0.5094\nFold 6 started for char_wb (2, 7) min_df2\n"
          ]
        },
        {
          "output_type": "stream",
          "name": "stdout",
          "text": [
            "Char TF-IDF LR Fold 6: 0.4986\nFold 7 started for char_wb (2, 7) min_df2\n"
          ]
        },
        {
          "output_type": "stream",
          "name": "stdout",
          "text": [
            "Char TF-IDF LR Fold 7: 0.5019\nFold 8 started for char_wb (2, 7) min_df2\n"
          ]
        },
        {
          "output_type": "stream",
          "name": "stdout",
          "text": [
            "Char TF-IDF LR Fold 8: 0.4862\nFold 9 started for char_wb (2, 7) min_df2\n"
          ]
        },
        {
          "output_type": "stream",
          "name": "stdout",
          "text": [
            "Char TF-IDF LR Fold 9: 0.4897\nFold 10 started for char_wb (2, 7) min_df2\n"
          ]
        },
        {
          "output_type": "stream",
          "name": "stdout",
          "text": [
            "Char TF-IDF LR Fold 10: 0.4856\nChar TF-IDF LR OOF: 0.4947 for char_wb (2, 7) min_df2 C1.0\nFold 1 started for char (3, 7) min_df3\n"
          ]
        },
        {
          "output_type": "stream",
          "name": "stdout",
          "text": [
            "Char TF-IDF LR Fold 1: 0.4754\nFold 2 started for char (3, 7) min_df3\n"
          ]
        },
        {
          "output_type": "stream",
          "name": "stdout",
          "text": [
            "Char TF-IDF LR Fold 2: 0.4746\nFold 3 started for char (3, 7) min_df3\n"
          ]
        },
        {
          "output_type": "stream",
          "name": "stdout",
          "text": [
            "Char TF-IDF LR Fold 3: 0.4738\nFold 4 started for char (3, 7) min_df3\n"
          ]
        },
        {
          "output_type": "stream",
          "name": "stdout",
          "text": [
            "Char TF-IDF LR Fold 4: 0.4721\nFold 5 started for char (3, 7) min_df3\n"
          ]
        },
        {
          "output_type": "stream",
          "name": "stdout",
          "text": [
            "Char TF-IDF LR Fold 5: 0.4888\nFold 6 started for char (3, 7) min_df3\n"
          ]
        },
        {
          "output_type": "stream",
          "name": "stdout",
          "text": [
            "Char TF-IDF LR Fold 6: 0.4795\nFold 7 started for char (3, 7) min_df3\n"
          ]
        },
        {
          "output_type": "stream",
          "name": "stdout",
          "text": [
            "Char TF-IDF LR Fold 7: 0.4801\nFold 8 started for char (3, 7) min_df3\n"
          ]
        },
        {
          "output_type": "stream",
          "name": "stdout",
          "text": [
            "Char TF-IDF LR Fold 8: 0.4639\nFold 9 started for char (3, 7) min_df3\n"
          ]
        },
        {
          "output_type": "stream",
          "name": "stdout",
          "text": [
            "Char TF-IDF LR Fold 9: 0.4602\nFold 10 started for char (3, 7) min_df3\n"
          ]
        },
        {
          "output_type": "stream",
          "name": "stdout",
          "text": [
            "Char TF-IDF LR Fold 10: 0.4642\nChar TF-IDF LR OOF: 0.4733 for char (3, 7) min_df3 C2.0\nFold 1 started for char_wb (3, 8) min_df1\n"
          ]
        }
      ]
    }
  ],
  "metadata": {
    "kernelspec": {
      "display_name": "Python 3",
      "language": "python",
      "name": "python3"
    },
    "language_info": {
      "name": "python",
      "version": "3.11.0rc1"
    }
  },
  "nbformat": 4,
  "nbformat_minor": 5
}