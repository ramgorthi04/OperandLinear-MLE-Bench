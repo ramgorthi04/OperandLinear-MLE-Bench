{
  "cells": [
    {
      "id": "e2ae5bd7-de57-4bfe-8ef7-165c43ff87ff",
      "cell_type": "markdown",
      "metadata": {},
      "source": [
        "# 01_production_blend: Plan\n",
        "\n",
        "- Goal: Reproduce Run D (4-bin length-gated LOP, OOF\u22480.30139), then iterate per expert plan to medal.\n",
        "- Constraints: Deterministic 5-fold StratifiedKFold (seed=42), identical class order ['EAP','HPL','MWS'], no leakage. Use cached OOF/test npys.\n",
        "\n",
        "Milestones:\n",
        "1) Environment + data + npy audit: load train/test, enumerate npy predictions, validate shapes/probability simplex, compute per-model OOF logloss, set/save folds.\n",
        "2) Reproduce Run D blender exactly (no overlay first), verify OOF close to 0.30139; emit submission.csv.\n",
        "3) Batch 1: 5th very-long bin + tighter temps + overlay OFF; tune NB caps per bin.\n",
        "4) Batch 2: Add per-bin Dirichlet calibration; compare.\n",
        "5) Batch 3: Seed-average top bases; re-run best gating/calibration.\n",
        "\n",
        "Always log progress, clip+renorm after every transform, and keep changes atomic."
      ],
      "execution_count": null,
      "outputs": []
    },
    {
      "id": "1239739d-a147-4093-9949-2858e5b87418",
      "cell_type": "code",
      "metadata": {},
      "source": [
        "# Environment + data + npy audit\n",
        "import os, sys, json, time, math, glob, shutil, subprocess, textwrap, random\n",
        "from pathlib import Path\n",
        "import numpy as np\n",
        "import pandas as pd\n",
        "from sklearn.metrics import log_loss\n",
        "from sklearn.model_selection import StratifiedKFold\n",
        "\n",
        "def run(cmd):\n",
        "    print(\"$\", \" \".join(cmd), flush=True)\n",
        "    return subprocess.run(cmd, stdout=subprocess.PIPE, stderr=subprocess.STDOUT, text=True).stdout\n",
        "\n",
        "print(\"=== nvidia-smi ===\", flush=True)\n",
        "try:\n",
        "    print(run(['bash','-lc','nvidia-smi || true']))\n",
        "except Exception as e:\n",
        "    print(\"nvidia-smi check failed:\", e)\n",
        "\n",
        "t0 = time.time()\n",
        "train = pd.read_csv('train.csv')\n",
        "test = pd.read_csv('test.csv')\n",
        "print(f\"Loaded train {train.shape}, test {test.shape}\")\n",
        "\n",
        "# Class order fixed\n",
        "classes = ['EAP','HPL','MWS']\n",
        "label_map = {c:i for i,c in enumerate(classes)}\n",
        "y = train['author'].map(label_map).values\n",
        "assert set(train['author'].unique()) == set(classes), f\"Unexpected classes: {train['author'].unique()}\"\n",
        "\n",
        "# CV folds (deterministic, saved for reference)\n",
        "skf = StratifiedKFold(n_splits=5, shuffle=True, random_state=42)\n",
        "folds = np.full(len(train), -1, dtype=int)\n",
        "for fi, (_, val_idx) in enumerate(skf.split(train, y)):\n",
        "    folds[val_idx] = fi\n",
        "assert (folds>=0).all()\n",
        "np.save('folds_seed42_5.npy', folds)\n",
        "print(\"Saved folds to folds_seed42_5.npy; fold counts:\", np.bincount(folds))\n",
        "\n",
        "def clip_renorm(P, eps=1e-6):\n",
        "    P = np.asarray(P, dtype=np.float64)\n",
        "    P = np.clip(P, eps, 1.0)\n",
        "    P_sum = P.sum(axis=1, keepdims=True)\n",
        "    P = P / P_sum\n",
        "    return P\n",
        "\n",
        "# Pair OOF and test npys\n",
        "oof_files = sorted(glob.glob('oof_*.npy'))\n",
        "test_files = sorted(glob.glob('test_*.npy'))\n",
        "pairs = []\n",
        "# Fix prefix lengths: 'test_' is 5 chars, 'oof_' is 4\n",
        "key_to_test = {Path(f).name[5:]: f for f in test_files}\n",
        "for oof in oof_files:\n",
        "    key = Path(oof).name[4:]  # remove 'oof_'\n",
        "    testf = key_to_test.get(key)\n",
        "    if testf is not None:\n",
        "        pairs.append((oof, testf))\n",
        "\n",
        "print(f\"Found {len(pairs)} OOF/test pairs out of {len(oof_files)} OOF and {len(test_files)} test files\")\n",
        "\n",
        "summary = []\n",
        "bad = []\n",
        "loaded = {}  # key -> dict(oof, test)\n",
        "n_tr, n_te = len(train), len(test)\n",
        "\n",
        "for oof, testf in pairs:\n",
        "    key = Path(oof).stem[4:]  # strip 'oof_'\n",
        "    try:\n",
        "        O = np.load(oof)\n",
        "        T = np.load(testf)\n",
        "        ok = True\n",
        "        if O.shape != (n_tr, 3) or T.shape != (n_te, 3):\n",
        "            ok = False\n",
        "            msg = f\"shape mismatch: {O.shape} / {T.shape}\"\n",
        "        else:\n",
        "            Oc = clip_renorm(O)\n",
        "            Tc = clip_renorm(T)\n",
        "            if not np.all(np.isfinite(Oc)) or not np.all(np.isfinite(Tc)):\n",
        "                ok = False\n",
        "                msg = \"non-finite probs\"\n",
        "            else:\n",
        "                try:\n",
        "                    ll = log_loss(y, Oc, labels=[0,1,2])\n",
        "                except Exception as e:\n",
        "                    ok = False\n",
        "                    msg = f\"logloss err: {e}\"\n",
        "        if ok:\n",
        "            loaded[key] = {'oof': Oc, 'test': Tc}\n",
        "            summary.append((key, ll))\n",
        "        else:\n",
        "            bad.append((key, msg))\n",
        "    except Exception as e:\n",
        "        bad.append((key, f'load error: {e}'))\n",
        "\n",
        "summary.sort(key=lambda x: x[1])\n",
        "print(\"\\nModel OOF logloss (best\u2192worst):\")\n",
        "for k, ll in summary:\n",
        "    print(f\"{k:35s}  OOF={ll:.5f}\")\n",
        "if bad:\n",
        "    print(\"\\nSkipped/Bad:\")\n",
        "    for k, m in bad:\n",
        "        print(f\"{k:35s}  {m}\")\n",
        "\n",
        "# Length distribution + candidate bins\n",
        "lens = train['text'].astype(str).str.len().values\n",
        "def bin_counts(cuts):\n",
        "    bins = np.digitize(lens, cuts, right=True)\n",
        "    return np.bincount(bins, minlength=len(cuts)+1)\n",
        "\n",
        "bins_4 = [80,130,200]\n",
        "bins_5a = [80,130,200,260]\n",
        "bins_5b = [80,130,200,280]\n",
        "print(\"\\nLength bin counts (4-bin <=80,81-130,131-200,>200):\", bin_counts(bins_4))\n",
        "print(\"Length bin counts (5-bin <=80,81-130,131-200,201-260,>260):\", bin_counts(bins_5a))\n",
        "print(\"Length bin counts (5-bin <=80,81-130,131-200,201-280,>280):\", bin_counts(bins_5b))\n",
        "\n",
        "elapsed = time.time()-t0\n",
        "print(f\"\\nAudit done in {elapsed:.2f}s. Ready to reproduce Run D.\")"
      ],
      "execution_count": 1,
      "outputs": [
        {
          "output_type": "stream",
          "name": "stdout",
          "text": [
            "=== nvidia-smi ===\n"
          ]
        },
        {
          "output_type": "stream",
          "name": "stdout",
          "text": [
            "$ bash -lc nvidia-smi || true\n"
          ]
        },
        {
          "output_type": "stream",
          "name": "stdout",
          "text": [
            "Mon Sep 29 20:44:32 2025       \n+-----------------------------------------------------------------------------------------+\n| NVIDIA-SMI 550.144.06             Driver Version: 550.144.06     CUDA Version: 12.4     |\n|-----------------------------------------+------------------------+----------------------+\n| GPU  Name                 Persistence-M | Bus-Id          Disp.A | Volatile Uncorr. ECC |\n| Fan  Temp   Perf          Pwr:Usage/Cap |           Memory-Usage | GPU-Util  Compute M. |\n|                                         |                        |               MIG M. |\n|=========================================+========================+======================|\n|   0  NVIDIA A10-24Q                 On  |   00000002:00:00.0 Off |                    0 |\n| N/A   N/A    P0             N/A /  N/A  |     182MiB /  24512MiB |      0%      Default |\n|                                         |                        |                  N/A |\n+-----------------------------------------+------------------------+----------------------+\n                                                                                         \n+-----------------------------------------------------------------------------------------+\n| Processes:                                                                              |\n|  GPU   GI   CI        PID   Type   Process name                              GPU Memory |\n|        ID   ID                                                               Usage      |\n|=========================================================================================|\n|    0   N/A  N/A      3505      G   /usr/bin/python3.11                            23MiB |\n+-----------------------------------------------------------------------------------------+\n\nLoaded train (17621, 3), test (1958, 2)\nSaved folds to folds_seed42_5.npy; fold counts: [3525 3524 3524 3524 3524]\nFound 34 OOF/test pairs out of 34 OOF and 34 test files\n\nModel OOF logloss (best\u2192worst):\nmeta_stack                           OOF=0.32616\nnbsvm_wc_tweaked                     OOF=0.35649\nlr_wordchar_fixed                    OOF=0.36665\nnbsvm_char_2_7_presence              OOF=0.36667\nlr_word13_charwb36                   OOF=0.36826\nnbsvm_char_2_6_counts                OOF=0.36897\nlr_char_1_8_hero                     OOF=0.37345\nnbsvm_wc_fixed                       OOF=0.37409\nlr_char_1_7                          OOF=0.37466\nlr_char_1_8                          OOF=0.38292\nlr_char_2_6_lower                    OOF=0.38658\nsvc_char_1_6_iso                     OOF=0.38826\nsvc_char_2_6_min2                    OOF=0.39186\nlr_wordchar                          OOF=0.39404\nsvc_char_1_6                         OOF=0.39595\nlr_charwb_1_6                        OOF=0.39740\nmnb_char_2_6                         OOF=0.39963\nlr_charwb_3_6                        OOF=0.40266\nsvc_charwb_1_6_sig                   OOF=0.40576\nlr_charwb_4_8                        OOF=0.41009\nlr_char                              OOF=0.41153\nlr_wordpunct_1_3                     OOF=0.41697\nnbsvm_charwb_2_7_presence            OOF=0.44042\nlr_word                              OOF=0.44133\nridge_word                           OOF=0.44143\nnbsvm_word_1_3_presence              OOF=0.44554\nnbsvm_char_1_5_presence_lc           OOF=0.44789\nsvc_word_uni_iso                     OOF=0.44834\nsgd_char_3_7_hinge_sig               OOF=0.46864\nnbsvm_word                           OOF=0.51343\ncnb_word                             OOF=0.54397\nnbsvm_wordchar                       OOF=0.79327\nstylo_lr                             OOF=1.06558\nchar5lm                              OOF=1.20781\n\nLength bin counts (4-bin <=80,81-130,131-200,>200): [4330 4674 4698 3919]\nLength bin counts (5-bin <=80,81-130,131-200,201-260,>260): [4330 4674 4698 2017 1902]\nLength bin counts (5-bin <=80,81-130,131-200,201-280,>280): [4330 4674 4698 2459 1460]\n\nAudit done in 0.15s. Ready to reproduce Run D.\n"
          ]
        }
      ]
    },
    {
      "id": "6d88549d-37d1-45d8-a6b9-b708a1974eb5",
      "cell_type": "code",
      "metadata": {},
      "source": [
        "# Reproduce Run D: 4-bin gated LOP (overlay OFF), exact Run D settings + minimal merged patch\n",
        "import numpy as np\n",
        "from pathlib import Path\n",
        "from sklearn.metrics import log_loss\n",
        "import time\n",
        "\n",
        "# Clear any stale arrays from other cells/runs\n",
        "for v in ['oof_blend','test_blend']:\n",
        "    if v in globals():\n",
        "        del globals()[v]\n",
        "\n",
        "t0 = time.time()\n",
        "assert 'loaded' in globals(), \"Run the audit cell first to populate 'loaded' dict.\"\n",
        "\n",
        "# Portfolio (Run D 9-core + mnb_char_2_6 + 2 ultra-weak diversity if present)\n",
        "portfolio = [\n",
        "    'nbsvm_wc_tweaked',\n",
        "    'nbsvm_char_2_6_counts',\n",
        "    'nbsvm_char_2_7_presence',\n",
        "    'mnb_char_2_6',  # added per expert\n",
        "    'lr_char_1_8_hero',\n",
        "    'lr_word13_charwb36',\n",
        "    'lr_char_1_7',\n",
        "    'lr_charwb_1_6',\n",
        "    'lr_wordchar_fixed',\n",
        "    'svc_char_1_6_iso',\n",
        "]\n",
        "for k in ['char5lm','stylo_lr']:\n",
        "    if k in loaded:\n",
        "        portfolio.append(k)\n",
        "\n",
        "# Filter to available keys and print alignment\n",
        "pf = [k for k in portfolio if k in loaded]\n",
        "assert len(pf) > 0, \"Empty portfolio after filtering\"\n",
        "print(f\"Using portfolio: {pf} ({len(pf)} models)\", flush=True)\n",
        "\n",
        "classes = ['EAP','HPL','MWS']\n",
        "y = train['author'].map({c:i for i,c in enumerate(classes)}).values\n",
        "lens_tr = train['text'].astype(str).str.len().values\n",
        "lens_te = test['text'].astype(str).str.len().values\n",
        "\n",
        "# 4-bin cutpoints: <=80, 81-130, 131-200, >200\n",
        "cuts = np.array([80,130,200])\n",
        "bins_tr = np.digitize(lens_tr, cuts, right=True)  # 0..3\n",
        "bins_te = np.digitize(lens_te, cuts, right=True)\n",
        "bin_names = ['vshort','short','mid','long']\n",
        "\n",
        "def clip_renorm(P, eps=1e-8):\n",
        "    P = np.asarray(P, dtype=np.float64)\n",
        "    C = P.shape[1] if P.ndim == 2 else 3\n",
        "    P = np.clip(P, eps, 1.0 - eps*(C-1))\n",
        "    P = P / P.sum(axis=1, keepdims=True)\n",
        "    return P\n",
        "\n",
        "def apply_temperature(logP, T):\n",
        "    # logP-like inputs; scale by 1/T; final softmax happens only once at the end\n",
        "    return logP / T\n",
        "\n",
        "def lop_blend(logPs, w):\n",
        "    # logPs: (N, M, C), w: (M,) non-neg, sum to 1; returns probs\n",
        "    S = np.tensordot(logPs, w, axes=([1],[0]))  # (N,C)\n",
        "    Smax = S.max(axis=1, keepdims=True)\n",
        "    eS = np.exp(S - Smax)\n",
        "    P = eS / (eS.sum(axis=1, keepdims=True) + 1e-20)\n",
        "    return P\n",
        "\n",
        "# Exact capped-simplex projection with final renorm safety\n",
        "def project_capped_simplex(y, caps, iters=60):\n",
        "    y = np.asarray(y, dtype=np.float64)\n",
        "    caps = np.asarray(caps, dtype=np.float64)\n",
        "    if caps.sum() < 1.0 - 1e-12:\n",
        "        caps = caps * ((1.0 + 1e-12) / max(caps.sum(), 1e-12))\n",
        "    lo = y.min() - caps.max() - 1.0\n",
        "    hi = y.max() + 1.0\n",
        "    for _ in range(iters):\n",
        "        lam = 0.5 * (lo + hi)\n",
        "        x = np.clip(y - lam, 0.0, caps)\n",
        "        if x.sum() > 1.0:\n",
        "            lo = lam\n",
        "        else:\n",
        "            hi = lam\n",
        "    lam = 0.5 * (lo + hi)\n",
        "    x = np.clip(y - lam, 0.0, caps)\n",
        "    s = x.sum()\n",
        "    if abs(s - 1.0) > 1e-8:\n",
        "        x = x / s if s > 0 else np.zeros_like(x)\n",
        "    return x\n",
        "\n",
        "# Stabilized EG optimizer with early stop, best-cache, and numeric guard\n",
        "def fit_lop_weights(X_log, y_true, caps, iters=360, eta0=0.40, decay=0.98, seed=42, lambda_ent=1e-4):\n",
        "    N, M, C = X_log.shape\n",
        "    Y = np.eye(C, dtype=np.float64)[y_true]\n",
        "    w = project_capped_simplex(np.ones(M)/M, caps)\n",
        "\n",
        "    def softmax(S):\n",
        "        S = S - S.max(axis=1, keepdims=True)\n",
        "        eS = np.exp(S)\n",
        "        return eS / (eS.sum(axis=1, keepdims=True) + 1e-15)\n",
        "\n",
        "    eta = eta0\n",
        "    best_ll = float('inf')\n",
        "    best_w = w.copy()\n",
        "    prev_ll = float('inf')\n",
        "    checks_without_improve = 0\n",
        "\n",
        "    for t in range(iters):\n",
        "        S = np.tensordot(X_log, w, axes=([1],[0]))\n",
        "        P = softmax(S)\n",
        "        diff = P - Y\n",
        "        g = np.einsum('nc,nmc->m', diff, X_log) / N\n",
        "        if lambda_ent > 0.0:\n",
        "            g += lambda_ent * (np.log(np.clip(w, 1e-12, 1.0)) + 1.0)\n",
        "\n",
        "        w_new = w * np.exp(-eta * g)\n",
        "        if not np.isfinite(w_new).all():\n",
        "            print(f\"    WARNING: numerical instability at iter {t}; using best weights so far.\", flush=True)\n",
        "            break\n",
        "\n",
        "        w = np.maximum(w_new, 1e-18)\n",
        "        w = project_capped_simplex(w, caps)\n",
        "        eta *= decay\n",
        "\n",
        "        if t > 0 and t % 50 == 0:\n",
        "            S_cur = np.tensordot(X_log, w, axes=([1],[0]))\n",
        "            P_cur = softmax(S_cur)\n",
        "            cur_ll = log_loss(y_true, P_cur, labels=[0,1,2])\n",
        "            print(f\"    EG progress (iter {t}/{iters}): current bin ll={cur_ll:.6f}\", flush=True)\n",
        "\n",
        "            if cur_ll + 1e-8 < best_ll:\n",
        "                best_ll = cur_ll\n",
        "                best_w = w.copy()\n",
        "\n",
        "            if prev_ll - cur_ll < 1e-6:\n",
        "                checks_without_improve += 1\n",
        "                if checks_without_improve >= 3:\n",
        "                    print(f\"    Early stopping at iter {t}: plateau detected.\", flush=True)\n",
        "                    break\n",
        "            else:\n",
        "                checks_without_improve = 0\n",
        "            prev_ll = cur_ll\n",
        "\n",
        "    w = best_w\n",
        "    S = np.tensordot(X_log, w, axes=([1],[0]))\n",
        "    P = softmax(S)\n",
        "    ll = log_loss(y_true, P, labels=[0,1,2])\n",
        "    return ll, w\n",
        "\n",
        "def fit_scalar_temperature(logP, y_true, T_bounds=(0.70, 1.40), steps=32):\n",
        "    a, b = T_bounds\n",
        "    gr = (np.sqrt(5) - 1) / 2\n",
        "    c = b - gr * (b - a)\n",
        "    d = a + gr * (b - a)\n",
        "    def f(T):\n",
        "        S = logP / T\n",
        "        Smax = S.max(axis=1, keepdims=True)\n",
        "        logZ = Smax + np.log(np.exp(S - Smax).sum(axis=1, keepdims=True))\n",
        "        ll = -(S[np.arange(len(y_true)), y_true] - logZ.ravel()).mean()\n",
        "        return float(ll)\n",
        "    fc, fd = f(c), f(d)\n",
        "    for _ in range(steps):\n",
        "        if fc > fd:\n",
        "            a = c; c = d; fc = fd; d = a + gr * (b - a); fd = f(d)\n",
        "        else:\n",
        "            b = d; d = c; fd = fc; c = b - gr * (b - a); fc = f(c)\n",
        "    return float(0.5*(a+b))\n",
        "\n",
        "# Prepare per-bin indices\n",
        "per_bin_tr_idxs = [np.where(bins_tr==b)[0] for b in range(4)]\n",
        "oof_blend = np.zeros((len(train), 3), dtype=float)\n",
        "test_blend = np.zeros((len(test), 3), dtype=float)\n",
        "\n",
        "# Caps per expert\n",
        "nb_like = {'nbsvm_wc_tweaked','nbsvm_char_2_6_counts','nbsvm_char_2_7_presence','mnb_char_2_6'}\n",
        "ultra_weak = {'char5lm','stylo_lr'}\n",
        "per_bin_caps_nb    = [0.68, 0.67, 0.62, 0.58]\n",
        "per_bin_global_cap = [0.52, 0.53, 0.54, 0.55]  # non-NB per-bin global cap (tightened)\n",
        "ultra_weak_caps    = [0.0, 0.0, 0.0, 0.0]      # zero ultra-weak caps\n",
        "\n",
        "print(\"Precomputing global temperatures...\", flush=True)\n",
        "model_global_T = {}\n",
        "for k in pf:\n",
        "    logP_all = np.log(clip_renorm(loaded[k]['oof']))\n",
        "    Tg = fit_scalar_temperature(logP_all, y, T_bounds=(0.70,1.40), steps=32)\n",
        "    model_global_T[k] = Tg\n",
        "print(\"Global temperatures done in {:.2f}s\".format(time.time()-t0), flush=True)\n",
        "\n",
        "t1 = time.time()\n",
        "for b, tr_idx in enumerate(per_bin_tr_idxs):\n",
        "    te_idx = np.where(bins_te==b)[0]\n",
        "    print(f\"Bin {b} ({bin_names[b]}): n_tr={len(tr_idx)} n_te={len(te_idx)}\", flush=True)\n",
        "    Xo_raw = []\n",
        "    Xt_raw = []\n",
        "    caps = []\n",
        "    # Use all portfolio models in every bin (Run D)\n",
        "    models = pf\n",
        "    for k in models:\n",
        "        O_bin = loaded[k]['oof'][tr_idx]\n",
        "        Xo_raw.append(np.log(clip_renorm(O_bin)))\n",
        "        if len(te_idx) > 0:\n",
        "            T_bin = loaded[k]['test'][te_idx]\n",
        "            Xt_raw.append(np.log(clip_renorm(T_bin)))\n",
        "        if k in nb_like:\n",
        "            caps.append(per_bin_caps_nb[b])\n",
        "        elif k in ultra_weak:\n",
        "            caps.append(ultra_weak_caps[b])\n",
        "        else:\n",
        "            caps.append(per_bin_global_cap[b])\n",
        "    # Explicit per-bin caps for mnb_char_2_6\n",
        "    if 'mnb_char_2_6' in models:\n",
        "        mi = models.index('mnb_char_2_6')\n",
        "        if b == 0:\n",
        "            caps[mi] = min(caps[mi], 0.12)\n",
        "        elif b == 1:\n",
        "            caps[mi] = min(caps[mi], 0.22)\n",
        "        elif b == 2:\n",
        "            caps[mi] = min(caps[mi], 0.16)  # nudged down by 0.02\n",
        "        else:\n",
        "            caps[mi] = min(caps[mi], 0.12)  # nudged down by 0.02\n",
        "    # special tighter caps in b0\n",
        "    if b == 0 and 'nbsvm_char_2_7_presence' in models:\n",
        "        mi = models.index('nbsvm_char_2_7_presence')\n",
        "        caps[mi] = min(caps[mi], 0.48)\n",
        "    if b == 0 and 'svc_char_1_6_iso' in models:\n",
        "        mi = models.index('svc_char_1_6_iso')\n",
        "        caps[mi] = min(caps[mi], 0.40)\n",
        "    if b == 0 and 'mnb_char_2_6' in models:\n",
        "        mi = models.index('mnb_char_2_6')\n",
        "        caps[mi] = min(caps[mi], 0.12)\n",
        "    Xo_raw = np.stack(Xo_raw, axis=1)  # (n_tr_bin, M, 3)\n",
        "    caps = np.asarray(caps, dtype=float)\n",
        "    M = Xo_raw.shape[1]\n",
        "    Xo_temp = np.empty_like(Xo_raw)\n",
        "    Xt_temp = None\n",
        "    if len(te_idx) > 0:\n",
        "        Xt_raw = np.stack(Xt_raw, axis=1)  # (n_te_bin, M, 3)\n",
        "        Xt_temp = np.empty_like(Xt_raw)\n",
        "    # per-model temp with bin-specific bounds; T_eff = 0.80*Tg + 0.20*Tb\n",
        "    T_eff_vals = []\n",
        "    for m in range(M):\n",
        "        k = models[m]\n",
        "        if b == 0:\n",
        "            bounds = (0.65, 1.45)\n",
        "        elif b == 1:\n",
        "            bounds = (0.67, 1.43)\n",
        "        elif b == 2:\n",
        "            bounds = (0.70, 1.40)\n",
        "        else:\n",
        "            bounds = (0.73, 1.37)\n",
        "        Tb = fit_scalar_temperature(Xo_raw[:,m,:], y[tr_idx], T_bounds=bounds, steps=28)\n",
        "        Tg = model_global_T[k]\n",
        "        T_eff = float(np.clip(0.80*Tg + 0.20*Tb, bounds[0], bounds[1]))\n",
        "        if k in {'char5lm','stylo_lr'}:\n",
        "            T_eff = 1.0\n",
        "        T_eff_vals.append(T_eff)\n",
        "        Xo_temp[:,m,:] = apply_temperature(Xo_raw[:,m,:], T_eff)\n",
        "        if Xt_temp is not None:\n",
        "            Xt_temp[:,m,:] = apply_temperature(Xt_raw[:,m,:], T_eff)\n",
        "    print(f\"  Models in bin: {M}, caps min/max: {caps.min():.3f}/{caps.max():.3f}\", flush=True)\n",
        "    assert np.isfinite(Xo_temp).all(), \"Non-finite Xo_temp\"\n",
        "    best_ll, w = fit_lop_weights(\n",
        "        X_log=Xo_temp, y_true=y[tr_idx], caps=caps,\n",
        "        iters=300, eta0=0.40, decay=0.98,\n",
        "        seed=42, lambda_ent=1e-4\n",
        "    )\n",
        "    print(f\"  Best OOF bin logloss: {best_ll:.6f}\", flush=True)\n",
        "    if b == 0:\n",
        "        print(\"  top weights (b0):\", sorted(zip(models, w), key=lambda x: -x[1])[:6])\n",
        "    # Blend\n",
        "    Po = lop_blend(Xo_temp, w)\n",
        "    oof_blend[tr_idx] = Po\n",
        "    if Xt_temp is not None and len(te_idx) > 0:\n",
        "        Pt = lop_blend(Xt_temp, w)\n",
        "        test_blend[te_idx] = Pt\n",
        "print(\"Per-bin loop done in {:.2f}s\".format(time.time()-t1), flush=True)\n",
        "\n",
        "# OOF (no overlay) per expert\n",
        "oof_noov = clip_renorm(oof_blend)\n",
        "oof_ll_no_overlay = log_loss(y, oof_noov, labels=[0,1,2])\n",
        "print(f\"\\nOOF (no overlay): {oof_ll_no_overlay:.5f}\", flush=True)\n",
        "\n",
        "# Save submission\n",
        "sub = pd.read_csv('sample_submission.csv')\n",
        "sub[classes] = clip_renorm(test_blend)\n",
        "sub.to_csv('submission.csv', index=False)\n",
        "print(\"Saved submission.csv. Total elapsed {:.2f}s\".format(time.time()-t0), flush=True)"
      ],
      "execution_count": 3,
      "outputs": [
        {
          "output_type": "stream",
          "name": "stdout",
          "text": [
            "Using portfolio: ['nbsvm_wc_tweaked', 'nbsvm_char_2_6_counts', 'nbsvm_char_2_7_presence', 'mnb_char_2_6', 'lr_char_1_8_hero', 'lr_word13_charwb36', 'lr_char_1_7', 'lr_charwb_1_6', 'lr_wordchar_fixed', 'svc_char_1_6_iso', 'char5lm', 'stylo_lr'] (12 models)\n"
          ]
        },
        {
          "output_type": "stream",
          "name": "stdout",
          "text": [
            "Precomputing global temperatures...\n"
          ]
        },
        {
          "output_type": "stream",
          "name": "stdout",
          "text": [
            "Global temperatures done in 0.59s\n"
          ]
        },
        {
          "output_type": "stream",
          "name": "stdout",
          "text": [
            "Bin 0 (vshort): n_tr=4330 n_te=466\n"
          ]
        },
        {
          "output_type": "stream",
          "name": "stdout",
          "text": [
            "  Models in bin: 12, caps min/max: 0.000/0.680\n"
          ]
        },
        {
          "output_type": "stream",
          "name": "stdout",
          "text": [
            "    EG progress (iter 50/300): current bin ll=0.506735\n"
          ]
        },
        {
          "output_type": "stream",
          "name": "stdout",
          "text": [
            "    EG progress (iter 100/300): current bin ll=0.506358\n"
          ]
        },
        {
          "output_type": "stream",
          "name": "stdout",
          "text": [
            "    EG progress (iter 150/300): current bin ll=0.506254\n"
          ]
        },
        {
          "output_type": "stream",
          "name": "stdout",
          "text": [
            "    EG progress (iter 200/300): current bin ll=0.506220\n"
          ]
        },
        {
          "output_type": "stream",
          "name": "stdout",
          "text": [
            "    EG progress (iter 250/300): current bin ll=0.506208\n"
          ]
        },
        {
          "output_type": "stream",
          "name": "stdout",
          "text": [
            "  Best OOF bin logloss: 0.506208\n"
          ]
        },
        {
          "output_type": "stream",
          "name": "stdout",
          "text": [
            "  top weights (b0): [('nbsvm_wc_tweaked', 0.12784967180823195), ('nbsvm_char_2_7_presence', 0.12758047515548465), ('mnb_char_2_6', 0.12), ('nbsvm_char_2_6_counts', 0.1145075281145779), ('lr_word13_charwb36', 0.09779001610193298), ('lr_wordchar_fixed', 0.09178018207980683)]\nBin 1 (short): n_tr=4674 n_te=516\n"
          ]
        },
        {
          "output_type": "stream",
          "name": "stdout",
          "text": [
            "  Models in bin: 12, caps min/max: 0.000/0.670\n"
          ]
        },
        {
          "output_type": "stream",
          "name": "stdout",
          "text": [
            "    EG progress (iter 50/300): current bin ll=0.368175\n"
          ]
        },
        {
          "output_type": "stream",
          "name": "stdout",
          "text": [
            "    EG progress (iter 100/300): current bin ll=0.366342\n"
          ]
        },
        {
          "output_type": "stream",
          "name": "stdout",
          "text": [
            "    EG progress (iter 150/300): current bin ll=0.365783\n"
          ]
        },
        {
          "output_type": "stream",
          "name": "stdout",
          "text": [
            "    EG progress (iter 200/300): current bin ll=0.365593\n"
          ]
        },
        {
          "output_type": "stream",
          "name": "stdout",
          "text": [
            "    EG progress (iter 250/300): current bin ll=0.365525\n"
          ]
        },
        {
          "output_type": "stream",
          "name": "stdout",
          "text": [
            "  Best OOF bin logloss: 0.365525\n"
          ]
        },
        {
          "output_type": "stream",
          "name": "stdout",
          "text": [
            "Bin 2 (mid): n_tr=4698 n_te=506\n"
          ]
        },
        {
          "output_type": "stream",
          "name": "stdout",
          "text": [
            "  Models in bin: 12, caps min/max: 0.000/0.620\n"
          ]
        },
        {
          "output_type": "stream",
          "name": "stdout",
          "text": [
            "    EG progress (iter 50/300): current bin ll=0.247954\n"
          ]
        },
        {
          "output_type": "stream",
          "name": "stdout",
          "text": [
            "    EG progress (iter 100/300): current bin ll=0.245964\n"
          ]
        },
        {
          "output_type": "stream",
          "name": "stdout",
          "text": [
            "    EG progress (iter 150/300): current bin ll=0.245336\n"
          ]
        },
        {
          "output_type": "stream",
          "name": "stdout",
          "text": [
            "    EG progress (iter 200/300): current bin ll=0.245120\n"
          ]
        },
        {
          "output_type": "stream",
          "name": "stdout",
          "text": [
            "    EG progress (iter 250/300): current bin ll=0.245044\n"
          ]
        },
        {
          "output_type": "stream",
          "name": "stdout",
          "text": [
            "  Best OOF bin logloss: 0.245044\n"
          ]
        },
        {
          "output_type": "stream",
          "name": "stdout",
          "text": [
            "Bin 3 (long): n_tr=3919 n_te=470\n"
          ]
        },
        {
          "output_type": "stream",
          "name": "stdout",
          "text": [
            "  Models in bin: 12, caps min/max: 0.000/0.580\n"
          ]
        },
        {
          "output_type": "stream",
          "name": "stdout",
          "text": [
            "    EG progress (iter 50/300): current bin ll=0.143137\n"
          ]
        },
        {
          "output_type": "stream",
          "name": "stdout",
          "text": [
            "    EG progress (iter 100/300): current bin ll=0.140624\n"
          ]
        },
        {
          "output_type": "stream",
          "name": "stdout",
          "text": [
            "    EG progress (iter 150/300): current bin ll=0.139786\n"
          ]
        },
        {
          "output_type": "stream",
          "name": "stdout",
          "text": [
            "    EG progress (iter 200/300): current bin ll=0.139493\n"
          ]
        },
        {
          "output_type": "stream",
          "name": "stdout",
          "text": [
            "    EG progress (iter 250/300): current bin ll=0.139389\n"
          ]
        },
        {
          "output_type": "stream",
          "name": "stdout",
          "text": [
            "  Best OOF bin logloss: 0.139389\n"
          ]
        },
        {
          "output_type": "stream",
          "name": "stdout",
          "text": [
            "Per-bin loop done in 3.59s\n"
          ]
        },
        {
          "output_type": "stream",
          "name": "stdout",
          "text": [
            "\nOOF (no overlay): 0.31768\n"
          ]
        },
        {
          "output_type": "stream",
          "name": "stdout",
          "text": [
            "Saved submission.csv. Total elapsed 4.20s\n"
          ]
        }
      ]
    },
    {
      "id": "5033767e-9702-4102-9f81-75e9abcf060b",
      "cell_type": "code",
      "metadata": {},
      "source": [
        "# Batch 1: 5-bin gated LOP (overlay OFF) with tightened temps and caps\n",
        "import numpy as np\n",
        "from sklearn.metrics import log_loss\n",
        "\n",
        "assert 'loaded' in globals(), \"Run the audit cell first to populate 'loaded' dict.\"\n",
        "assert 'train' in globals() and 'test' in globals(), \"Train/test not loaded.\"\n",
        "\n",
        "classes = ['EAP','HPL','MWS']\n",
        "y = train['author'].map({c:i for i,c in enumerate(classes)}).values\n",
        "lens = train['text'].astype(str).str.len().values\n",
        "\n",
        "# 5-bin cutpoints per expert: <=80, 81-130, 131-200, 201-280, >280\n",
        "cuts5 = np.array([80,130,200,280])\n",
        "bins5 = np.digitize(lens, cuts5, right=True)  # 0..4\n",
        "bin_names5 = ['vshort','short','mid','long','vlong']\n",
        "\n",
        "def clip_renorm(P, eps=1e-6):\n",
        "    P = np.asarray(P, dtype=np.float64)\n",
        "    P = np.clip(P, eps, 1.0)\n",
        "    P = P / P.sum(axis=1, keepdims=True)\n",
        "    return P\n",
        "\n",
        "def softmax_logP(logP):\n",
        "    Smax = logP.max(axis=1, keepdims=True)\n",
        "    eS = np.exp(logP - Smax)\n",
        "    P = eS / eS.sum(axis=1, keepdims=True)\n",
        "    return np.log(clip_renorm(P))\n",
        "\n",
        "def apply_temperature(logP, T):\n",
        "    return softmax_logP(logP / T)\n",
        "\n",
        "def lop_blend(logPs, w):\n",
        "    S = np.tensordot(logPs, w, axes=([1],[0]))\n",
        "    Smax = S.max(axis=1, keepdims=True)\n",
        "    eS = np.exp(S - Smax)\n",
        "    P = eS / eS.sum(axis=1, keepdims=True)\n",
        "    return P\n",
        "\n",
        "def rand_on_capped_simplex(rng, caps):\n",
        "    M = len(caps)\n",
        "    for _ in range(1000):\n",
        "        w = rng.dirichlet(alpha=np.ones(M))\n",
        "        w = np.minimum(w, caps)\n",
        "        s = w.sum()\n",
        "        if s > 1e-12:\n",
        "            w = w / s\n",
        "        if np.all(w <= caps + 1e-12):\n",
        "            return w\n",
        "    w = np.minimum(np.ones(M)/M, caps)\n",
        "    return w / w.sum()\n",
        "\n",
        "def local_perturb(rng, w, caps, scale=0.15):\n",
        "    z = np.log(np.clip(w, 1e-12, 1))\n",
        "    z = z + rng.normal(0, scale, size=w.shape)\n",
        "    w_new = np.exp(z)\n",
        "    w_new = np.minimum(w_new, caps)\n",
        "    w_new = np.maximum(w_new, 1e-12)\n",
        "    return w_new / w_new.sum()\n",
        "\n",
        "def fit_lop_weights(X_log, y_true, caps=None, n_starts=96, seed=42, lambda_ent=0.0022, iters=80):\n",
        "    rng = np.random.RandomState(seed)\n",
        "    M = X_log.shape[1]\n",
        "    if caps is None:\n",
        "        caps = np.ones(M)\n",
        "    caps = np.asarray(caps, dtype=float)\n",
        "    def obj(w):\n",
        "        P = lop_blend(X_log, w)\n",
        "        L = log_loss(y_true, clip_renorm(P), labels=[0,1,2])\n",
        "        w_safe = np.clip(w, 1e-12, 1.0)\n",
        "        ent = -np.sum(w_safe * np.log(w_safe))\n",
        "        return L - lambda_ent * ent\n",
        "    best_ll = 1e9; best_w = None\n",
        "    for s in range(n_starts):\n",
        "        if s % 16 == 0:\n",
        "            print(f\"    start {s}/{n_starts}\", flush=True)\n",
        "        w = rand_on_capped_simplex(rng, caps)\n",
        "        f = obj(w)\n",
        "        for t in range(iters):\n",
        "            w_candidate = local_perturb(rng, w, caps, scale=0.12)\n",
        "            f2 = obj(w_candidate)\n",
        "            if f2 < f:\n",
        "                w, f = w_candidate, f2\n",
        "        if f < best_ll:\n",
        "            best_ll, best_w = f, w.copy()\n",
        "    Pbest = lop_blend(X_log, best_w)\n",
        "    ll = log_loss(y_true, clip_renorm(Pbest), labels=[0,1,2])\n",
        "    return ll, best_w\n",
        "\n",
        "# Portfolio (Run D 9-core + diversity tiny caps if present)\n",
        "portfolio = [\n",
        "    'nbsvm_wc_tweaked',\n",
        "    'nbsvm_char_2_6_counts',\n",
        "    'nbsvm_char_2_7_presence',\n",
        "    'lr_char_1_8_hero',\n",
        "    'lr_word13_charwb36',\n",
        "    'lr_char_1_7',\n",
        "    'lr_charwb_1_6',\n",
        "    'lr_wordchar_fixed',\n",
        "    'svc_char_1_6_iso',\n",
        "]\n",
        "for k in ['char5lm','stylo_lr']:\n",
        "    if k in loaded:\n",
        "        portfolio.append(k)\n",
        "print(\"Using portfolio (5-bin):\", portfolio)\n",
        "\n",
        "# Precompute global per-model temperatures\n",
        "model_global_T = {}\n",
        "for k in portfolio:\n",
        "    logP_all = np.log(clip_renorm(loaded[k]['oof']))\n",
        "    # simple line search\n",
        "    a, b = 0.8, 1.3\n",
        "    gr = (np.sqrt(5) - 1) / 2\n",
        "    c = b - gr * (b - a)\n",
        "    d = a + gr * (b - a)\n",
        "    def fT(T):\n",
        "        P = np.exp(softmax_logP(logP_all / T))\n",
        "        return log_loss(y, clip_renorm(P), labels=[0,1,2])\n",
        "    fc, fd = fT(c), fT(d)\n",
        "    for _ in range(28):\n",
        "        if fc > fd:\n",
        "            a = c; c = d; fc = fd; d = a + gr * (b - a); fd = fT(d)\n",
        "        else:\n",
        "            b = d; d = c; fd = fc; c = b - gr * (b - a); fc = fT(c)\n",
        "    model_global_T[k] = float((a + b) / 2)\n",
        "\n",
        "# Caps per expert (NB tighter on longer bins, ultra-weak tiny; may zero on vlong later if noisy)\n",
        "nb_like = {'nbsvm_wc_tweaked','nbsvm_char_2_6_counts','nbsvm_char_2_7_presence','mnb_char_2_6'}\n",
        "ultra_weak = {'char5lm','stylo_lr'}\n",
        "nb_caps = [0.68, 0.65, 0.62, 0.58, 0.54]\n",
        "tiny_caps = [0.010, 0.010, 0.008, 0.006, 0.004]\n",
        "global_cap = 0.55\n",
        "\n",
        "oof_blend = np.zeros((len(train), 3), dtype=float)\n",
        "test_blend_parts = [np.zeros((len(test), 3), dtype=float) for _ in range(5)]\n",
        "\n",
        "for b in range(5):\n",
        "    idx = np.where(bins5==b)[0]\n",
        "    print(f\"Bin {b} ({bin_names5[b]}): n={len(idx)}\")\n",
        "    Xo_raw = []\n",
        "    Xt_raw = []\n",
        "    caps = []\n",
        "    for k in portfolio:\n",
        "        O_bin = loaded[k]['oof'][idx]\n",
        "        T_all = loaded[k]['test']\n",
        "        Xo_raw.append(np.log(clip_renorm(O_bin)))\n",
        "        Xt_raw.append(np.log(clip_renorm(T_all)))\n",
        "        if k in nb_like:\n",
        "            caps.append(nb_caps[b])\n",
        "        elif k in ultra_weak:\n",
        "            caps.append(tiny_caps[b])\n",
        "        else:\n",
        "            caps.append(global_cap)\n",
        "    Xo_raw = np.stack(Xo_raw, axis=1)\n",
        "    Xt_raw = np.stack(Xt_raw, axis=1)\n",
        "    caps = np.asarray(caps, dtype=float)\n",
        "    M = Xo_raw.shape[1]\n",
        "    # Per-model per-bin temperature with shrink 0.85*global + 0.15*bin\n",
        "    Xo_t = np.empty_like(Xo_raw)\n",
        "    Xt_t = np.empty_like(Xt_raw)\n",
        "    for m, k in enumerate(portfolio):\n",
        "        # bin-fit T\n",
        "        a, bnd = 0.8, 1.3\n",
        "        gr = (np.sqrt(5) - 1) / 2\n",
        "        c = bnd - gr * (bnd - a)\n",
        "        d = a + gr * (bnd - a)\n",
        "        def fT(T):\n",
        "            P = np.exp(softmax_logP(Xo_raw[:,m,:] / T))\n",
        "            return log_loss(y[idx], clip_renorm(P), labels=[0,1,2])\n",
        "        fc, fd = fT(c), fT(d)\n",
        "        for _ in range(22):\n",
        "            if fc > fd:\n",
        "                a = c; c = d; fc = fd; d = a + gr * (bnd - a); fd = fT(d)\n",
        "            else:\n",
        "                bnd = d; d = c; fd = fc; c = bnd - gr * (bnd - a); fc = fT(c)\n",
        "        Tb = float((a + bnd) / 2)\n",
        "        Tg = model_global_T[k]\n",
        "        Te = float(np.clip(0.85*Tg + 0.15*Tb, 0.8, 1.3))\n",
        "        Xo_t[:,m,:] = apply_temperature(Xo_raw[:,m,:], Te)\n",
        "        Xt_t[:,m,:] = apply_temperature(Xt_raw[:,m,:], Te)\n",
        "    print(f\"  Models in bin: {M}, caps min/max: {caps.min():.3f}/{caps.max():.3f}\")\n",
        "    # Fit weights (lighter search for speed)\n",
        "    best_ll, w = fit_lop_weights(Xo_t, y[idx], caps=caps, n_starts=96, seed=42, lambda_ent=0.0022, iters=80)\n",
        "    print(f\"  Best OOF bin logloss: {best_ll:.6f}\")\n",
        "    Po = lop_blend(Xo_t, w)\n",
        "    Pt = lop_blend(Xt_t, w)\n",
        "    oof_blend[idx] = Po\n",
        "    test_blend_parts[b] = Pt\n",
        "\n",
        "test_blend = np.zeros_like(test_blend_parts[0])\n",
        "for b in range(5):\n",
        "    test_blend += test_blend_parts[b] / 5.0\n",
        "\n",
        "oof_ll = log_loss(y, clip_renorm(oof_blend), labels=[0,1,2])\n",
        "print(f\"\\n5-bin gated LOP (overlay OFF). OOF={oof_ll:.5f}\")\n",
        "\n",
        "sub = pd.read_csv('sample_submission.csv')\n",
        "sub[classes] = clip_renorm(test_blend)\n",
        "sub.to_csv('submission.csv', index=False)\n",
        "print(\"Saved submission.csv\")"
      ],
      "execution_count": null,
      "outputs": []
    },
    {
      "id": "4ac3ee9c-97d8-4644-aca7-6f98280cb004",
      "cell_type": "code",
      "metadata": {},
      "source": [
        "# Classwise LOP (4-bin) with correct test gating; expect OOF ~0.301\n",
        "import numpy as np\n",
        "import pandas as pd\n",
        "from sklearn.metrics import log_loss\n",
        "\n",
        "assert 'loaded' in globals() and 'train' in globals() and 'test' in globals(), \"Run audit first.\"\n",
        "assert 'summary' in globals(), \"Run audit to compute per-model OOF summary for weak caps.\"\n",
        "\n",
        "classes = ['EAP','HPL','MWS']\n",
        "y = train['author'].map({c:i for i,c in enumerate(classes)}).values\n",
        "lens_tr = train['text'].astype(str).str.len().values\n",
        "lens_te = test['text'].astype(str).str.len().values\n",
        "\n",
        "# 4-bin cutpoints: <=80, 81-130, 131-200, >200\n",
        "cuts4 = np.array([80,130,200])\n",
        "bins_tr = np.digitize(lens_tr, cuts4, right=True)  # 0..3\n",
        "bins_te = np.digitize(lens_te, cuts4, right=True)\n",
        "bin_names4 = ['vshort','short','mid','long']\n",
        "\n",
        "def clip_renorm(P, eps=1e-6):\n",
        "    P = np.asarray(P, dtype=np.float64)\n",
        "    P = np.clip(P, eps, 1.0)\n",
        "    P = P / P.sum(axis=1, keepdims=True)\n",
        "    return P\n",
        "\n",
        "def softmax(S):\n",
        "    Smax = S.max(axis=1, keepdims=True)\n",
        "    eS = np.exp(S - Smax)\n",
        "    return eS / eS.sum(axis=1, keepdims=True)\n",
        "\n",
        "def softmax_logP(logP):\n",
        "    Smax = logP.max(axis=1, keepdims=True)\n",
        "    eS = np.exp(logP - Smax)\n",
        "    P = eS / eS.sum(axis=1, keepdims=True)\n",
        "    return np.log(clip_renorm(P))\n",
        "\n",
        "# Temperature scaling: no centering, no per-model re-softmax\n",
        "def apply_temperature(logP, T):\n",
        "    return logP / T\n",
        "\n",
        "def fit_scalar_temperature(logP, y_true, T_bounds=(0.8, 1.3), steps=28):\n",
        "    a, b = T_bounds\n",
        "    gr = (np.sqrt(5) - 1) / 2\n",
        "    c = b - gr * (b - a)\n",
        "    d = a + gr * (b - a)\n",
        "    def f(T):\n",
        "        P = np.exp(softmax_logP(logP / T))\n",
        "        return log_loss(y_true, clip_renorm(P), labels=[0,1,2])\n",
        "    fc = f(c); fd = f(d)\n",
        "    for _ in range(steps):\n",
        "        if fc > fd:\n",
        "            a = c; c = d; fc = fd; d = a + gr * (b - a); fd = f(d)\n",
        "        else:\n",
        "            b = d; d = c; fd = fc; c = b - gr * (b - a); fc = f(c)\n",
        "    return float((a + b) / 2)\n",
        "\n",
        "def classwise_lop(Z, W):\n",
        "    # Z: (N, M, C) logP; W: (M, C) weights per class (sum_m=1 for each c)\n",
        "    S = np.einsum('nmc,mc->nc', Z, W)\n",
        "    return softmax(S)\n",
        "\n",
        "# Classwise optimizer with per-class recompute of S/P\n",
        "def fit_classwise_weights(Z, y_true, caps, starts=96, iters=80, lambda_ent=0.0022, seed=42):\n",
        "    rng = np.random.RandomState(seed)\n",
        "    N, M, C = Z.shape\n",
        "    Y = np.eye(C, dtype=np.float64)[y_true]\n",
        "    caps = np.asarray(caps, dtype=np.float64)\n",
        "\n",
        "    def project_on_capped_simplex(y, caps, iters=60):\n",
        "        y = np.asarray(y, dtype=np.float64)\n",
        "        caps = np.asarray(caps, dtype=np.float64)\n",
        "        if caps.sum() < 1.0 - 1e-12:\n",
        "            caps = caps * ((1.0 + 1e-12) / max(caps.sum(), 1e-12))\n",
        "        lo = y.min() - caps.max() - 1.0\n",
        "        hi = y.max() + 1.0\n",
        "        for _ in range(iters):\n",
        "            lam = 0.5 * (lo + hi)\n",
        "            x = np.clip(y - lam, 0.0, caps)\n",
        "            s = x.sum()\n",
        "            if s > 1.0:\n",
        "                lo = lam\n",
        "            else:\n",
        "                hi = lam\n",
        "        lam = 0.5 * (lo + hi)\n",
        "        x = np.clip(y - lam, 0.0, caps)\n",
        "        if not (abs(x.sum() - 1.0) < 1e-6 and np.all(x <= caps + 1e-9)):\n",
        "            lam = lam + (x.sum() - 1.0) * 1e-3\n",
        "            x = np.clip(y - lam, 0.0, caps)\n",
        "        return x\n",
        "\n",
        "    best_ll, best_W = 1e9, None\n",
        "    for s in range(starts):\n",
        "        if s % 16 == 0:\n",
        "            print(f\"    start {s}/{starts}\", flush=True)\n",
        "        W = np.zeros((M, C), dtype=np.float64)\n",
        "        for c in range(C):\n",
        "            W[:, c] = project_on_capped_simplex(rng.rand(M), caps)\n",
        "            assert abs(W[:, c].sum() - 1.0) < 1e-6\n",
        "            assert np.all(W[:, c] <= caps + 1e-9)\n",
        "        eta = 0.25\n",
        "        for t in range(iters):\n",
        "            for c in range(C):\n",
        "                S = np.einsum('nmc,mc->nc', Z, W)\n",
        "                P = softmax(S)\n",
        "                diff = (P[:, c] - Y[:, c]).reshape(-1, 1)\n",
        "                g = (diff * Z[:, :, c]).mean(axis=0)\n",
        "                g += lambda_ent * (np.log(np.clip(W[:, c], 1e-12, 1.0)) + 1.0)\n",
        "                w_unconstrained = W[:, c] * np.exp(-eta * g)\n",
        "                W[:, c] = project_on_capped_simplex(w_unconstrained, caps)\n",
        "                assert abs(W[:, c].sum() - 1.0) < 1e-6\n",
        "                assert np.all(W[:, c] <= caps + 1e-9)\n",
        "            eta *= 0.96\n",
        "        ll = log_loss(y_true, clip_renorm(softmax(np.einsum('nmc,mc->nc', Z, W))), labels=[0,1,2])\n",
        "        if ll < best_ll:\n",
        "            best_ll, best_W = ll, W.copy()\n",
        "    print(\"  mean var across classes:\", float(np.var(best_W, axis=1).mean()))\n",
        "    return best_ll, best_W\n",
        "\n",
        "# Portfolio (revert to known-good 9-core + diversity tiny caps)\n",
        "portfolio = [\n",
        "    'nbsvm_wc_tweaked',\n",
        "    'nbsvm_char_2_6_counts',\n",
        "    'nbsvm_char_2_7_presence',\n",
        "    'lr_char_1_8_hero',\n",
        "    'lr_word13_charwb36',\n",
        "    'lr_char_1_7',\n",
        "    'lr_charwb_1_6',\n",
        "    'lr_wordchar_fixed',\n",
        "    'svc_char_1_6_iso',\n",
        "]\n",
        "for k in ['char5lm','stylo_lr']:\n",
        "    if k in loaded:\n",
        "        portfolio.append(k)\n",
        "print(\"Using portfolio (4-bin classwise):\", portfolio)\n",
        "\n",
        "# Map per-model solo OOF for weak caps\n",
        "solo_oof = {k: v for k, v in summary}\n",
        "weak_cap = 0.09\n",
        "\n",
        "# Precompute global per-model temperatures\n",
        "model_global_T = {}\n",
        "for k in portfolio:\n",
        "    logP_all = np.log(clip_renorm(loaded[k]['oof']))\n",
        "    model_global_T[k] = fit_scalar_temperature(logP_all, y, T_bounds=(0.8,1.3), steps=28)\n",
        "\n",
        "nb_like = {'nbsvm_wc_tweaked','nbsvm_char_2_6_counts','nbsvm_char_2_7_presence','mnb_char_2_6'}\n",
        "ultra_weak = {'char5lm','stylo_lr'}\n",
        "nb_caps_4 = [0.68, 0.65, 0.62, 0.58]  # per bin\n",
        "tiny_caps_4 = [0.010, 0.010, 0.008, 0.006]\n",
        "global_cap = 0.55\n",
        "\n",
        "oof_blend = np.zeros((len(train), 3), dtype=float)\n",
        "test_blend = np.zeros((len(test), 3), dtype=float)\n",
        "\n",
        "for b in range(4):\n",
        "    tr_idx = np.where(bins_tr==b)[0]\n",
        "    te_idx = np.where(bins_te==b)[0]\n",
        "    print(f\"Bin {b} ({bin_names4[b]}): n_tr={len(tr_idx)} n_te={len(te_idx)}\")\n",
        "    # Build Z tensors (logP after per-model per-bin temperature) for train bin and test bin\n",
        "    Z_tr_list = []\n",
        "    Z_te_list = []\n",
        "    caps = []\n",
        "    for k in portfolio:\n",
        "        O_bin = loaded[k]['oof'][tr_idx]\n",
        "        logP_tr_raw = np.log(clip_renorm(O_bin))\n",
        "        # fit per-bin T for this model\n",
        "        Tb = fit_scalar_temperature(logP_tr_raw, y[tr_idx], T_bounds=(0.8,1.3), steps=24)\n",
        "        Tg = model_global_T[k]\n",
        "        Teff = float(np.clip(0.85*Tg + 0.15*Tb, 0.8, 1.3))\n",
        "        Z_tr_list.append(apply_temperature(logP_tr_raw, Teff))\n",
        "        # apply bin temps only to that bin's test rows\n",
        "        if len(te_idx) > 0:\n",
        "            T_bin = loaded[k]['test'][te_idx]\n",
        "            logP_te_raw = np.log(clip_renorm(T_bin))\n",
        "            Z_te_list.append(apply_temperature(logP_te_raw, Teff))\n",
        "        # caps\n",
        "        if k in nb_like:\n",
        "            cap_k = nb_caps_4[b]\n",
        "        elif k in ultra_weak:\n",
        "            cap_k = tiny_caps_4[b]\n",
        "        else:\n",
        "            cap_k = global_cap\n",
        "        solo = solo_oof.get(k, 0.0)\n",
        "        if solo > 0.40:\n",
        "            cap_k = min(cap_k, weak_cap)\n",
        "        caps.append(cap_k)\n",
        "    Z_tr = np.stack(Z_tr_list, axis=1)  # (n_bin, M, C) in log-space (no re-softmax)\n",
        "    caps = np.asarray(caps, dtype=float)\n",
        "    M = Z_tr.shape[1]\n",
        "    print(f\"  Models: {M}, caps min/max: {caps.min():.3f}/{caps.max():.3f}\")\n",
        "    # Fit classwise weights on this bin with tiny entropy regularization\n",
        "    best_ll, W = fit_classwise_weights(Z_tr, y[tr_idx], caps, starts=96, iters=80, lambda_ent=1e-5, seed=42)\n",
        "    print(f\"  Best OOF bin logloss: {best_ll:.6f}\")\n",
        "    # Blend for train bin and test bin indices\n",
        "    Po = classwise_lop(Z_tr, W)\n",
        "    oof_blend[tr_idx] = Po\n",
        "    if len(te_idx) > 0:\n",
        "        Z_te = np.stack(Z_te_list, axis=1)  # (n_te_bin, M, C)\n",
        "        Pt = classwise_lop(Z_te, W)\n",
        "        test_blend[te_idx] = Pt\n",
        "\n",
        "oof_ll = log_loss(y, clip_renorm(oof_blend), labels=[0,1,2])\n",
        "print(f\"\\nClasswise 4-bin gated LOP (overlay OFF). OOF={oof_ll:.5f}\")\n",
        "\n",
        "sub = pd.read_csv('sample_submission.csv')\n",
        "sub[classes] = clip_renorm(test_blend)\n",
        "sub.to_csv('submission.csv', index=False)\n",
        "print(\"Saved submission.csv\")"
      ],
      "execution_count": null,
      "outputs": []
    },
    {
      "id": "3a5da888-8f64-483d-8a98-386b44d57e56",
      "cell_type": "code",
      "metadata": {},
      "source": [
        "# Quick finalize from existing arrays (avoid re-running bin loop)\n",
        "import numpy as np, pandas as pd, time\n",
        "from sklearn.metrics import log_loss\n",
        "\n",
        "def clip_renorm(P, eps=1e-6):\n",
        "    P = np.asarray(P, dtype=np.float64)\n",
        "    P = np.clip(P, eps, 1.0)\n",
        "    P = P / P.sum(axis=1, keepdims=True)\n",
        "    return P\n",
        "\n",
        "def overlay_confidence(P, alpha_max=0.08):\n",
        "    m = P.max(axis=1, keepdims=True)\n",
        "    gamma = alpha_max * (1.0 - m)\n",
        "    U = np.full_like(P, 1.0 / P.shape[1])\n",
        "    Q = (1.0 - gamma) * P + gamma * U\n",
        "    return Q / Q.sum(axis=1, keepdims=True)\n",
        "\n",
        "assert 'train' in globals() and 'test' in globals()\n",
        "classes = ['EAP','HPL','MWS']\n",
        "y = train['author'].map({c:i for i,c in enumerate(classes)}).values\n",
        "\n",
        "if 'oof_blend' in globals() and 'test_blend' in globals():\n",
        "    print('Found existing oof_blend/test_blend with shapes:',\n",
        "          np.shape(oof_blend), np.shape(test_blend), flush=True)\n",
        "    assert oof_blend.shape == (len(train), 3)\n",
        "    assert test_blend.shape == (len(test), 3)\n",
        "    t0 = time.time()\n",
        "    oof_ll_no_overlay = log_loss(y, clip_renorm(oof_blend), labels=[0,1,2])\n",
        "    print(f\"OOF (no overlay): {oof_ll_no_overlay:.5f}\", flush=True)\n",
        "    oof_ov = overlay_confidence(oof_blend, alpha_max=0.08)\n",
        "    te_ov = overlay_confidence(test_blend, alpha_max=0.08)\n",
        "    oof_ll = log_loss(y, clip_renorm(oof_ov), labels=[0,1,2])\n",
        "    print(f\"OOF (with overlay 0.08): {oof_ll:.5f}\", flush=True)\n",
        "    sub = pd.read_csv('sample_submission.csv')\n",
        "    sub[classes] = clip_renorm(te_ov)\n",
        "    sub.to_csv('submission.csv', index=False)\n",
        "    print('Saved submission.csv. Elapsed {:.2f}s'.format(time.time()-t0), flush=True)\n",
        "else:\n",
        "    print('oof_blend/test_blend not found in kernel. Re-run the bin loop cell first.', flush=True)"
      ],
      "execution_count": null,
      "outputs": []
    },
    {
      "id": "876da3d8-f92d-415c-9ac0-443df10bcef9",
      "cell_type": "code",
      "metadata": {},
      "source": [
        "# Per-bin cross-fit multinomial logistic stacker over all cached OOF models (no calibration yet)\n",
        "import numpy as np, pandas as pd, time\n",
        "from sklearn.linear_model import LogisticRegression\n",
        "from sklearn.metrics import log_loss\n",
        "from sklearn.model_selection import StratifiedKFold\n",
        "\n",
        "t0 = time.time()\n",
        "assert 'loaded' in globals() and 'train' in globals() and 'test' in globals(), 'Run audit first.'\n",
        "classes = ['EAP','HPL','MWS']\n",
        "label_map = {c:i for i,c in enumerate(classes)}\n",
        "y = train['author'].map(label_map).values\n",
        "\n",
        "# Use all available base models as features\n",
        "model_keys = sorted(loaded.keys())\n",
        "print('Using base models (count):', len(model_keys))\n",
        "\n",
        "def clip_renorm(P, eps=1e-8):\n",
        "    P = np.asarray(P, dtype=np.float64)\n",
        "    P = np.clip(P, eps, 1.0 - eps*2)\n",
        "    P = P / P.sum(axis=1, keepdims=True)\n",
        "    return P\n",
        "\n",
        "def build_features(split='oof'):\n",
        "    feats = []\n",
        "    for k in model_keys:\n",
        "        P = loaded[k][split]\n",
        "        feats.append(np.log(clip_renorm(P)))  # logits-like\n",
        "    X = np.concatenate(feats, axis=1)  # shape (N, M*3)\n",
        "    return X\n",
        "\n",
        "X_tr_all = build_features('oof')\n",
        "X_te_all = build_features('test')\n",
        "print('Feature shapes:', X_tr_all.shape, X_te_all.shape, flush=True)\n",
        "\n",
        "# Define 5 length bins (<=80, 81-130, 131-200, 201-280, >280)\n",
        "lens_tr = train['text'].astype(str).str.len().values\n",
        "lens_te = test['text'].astype(str).str.len().values\n",
        "cuts = np.array([80, 130, 200, 280])\n",
        "bins_tr = np.digitize(lens_tr, cuts, right=True)  # 0..4\n",
        "bins_te = np.digitize(lens_te, cuts, right=True)\n",
        "bin_names = ['vshort','short','mid','long','vlong']\n",
        "print('Bin counts:', [int((bins_tr==b).sum()) for b in range(5)], flush=True)\n",
        "\n",
        "# Load fixed 5-fold indices saved in audit\n",
        "folds = np.load('folds_seed42_5.npy')\n",
        "n_folds = int(folds.max()+1)\n",
        "print('Folds:', n_folds, np.bincount(folds), flush=True)\n",
        "\n",
        "oof_meta = np.zeros((len(train), 3), dtype=float)\n",
        "test_meta_parts = [np.zeros((len(test), 3), dtype=float) for _ in range(n_folds)]\n",
        "\n",
        "Cs_grid = [0.25, 0.5, 1.0, 2.0, 4.0]\n",
        "inner_cv = StratifiedKFold(n_splits=3, shuffle=True, random_state=42)\n",
        "\n",
        "def fit_lr_selectC(X, y, Cs, cv):\n",
        "    # simple inner CV to pick C by mean val log_loss\n",
        "    best_C = Cs[0]; best_score = 1e9\n",
        "    for C in Cs:\n",
        "        scores = []\n",
        "        for it, (tr, va) in enumerate(cv.split(X, y)):\n",
        "            clf = LogisticRegression(penalty='l2', C=C, solver='lbfgs',\n",
        "                                     multi_class='multinomial', max_iter=2000, n_jobs=None, random_state=42)\n",
        "            clf.fit(X[tr], y[tr])\n",
        "            P = clf.predict_proba(X[va])\n",
        "            scores.append(log_loss(y[va], clip_renorm(P), labels=[0,1,2]))\n",
        "        m = float(np.mean(scores))\n",
        "        if m < best_score:\n",
        "            best_score, best_C = m, C\n",
        "    # refit on full X with best_C\n",
        "    clf = LogisticRegression(penalty='l2', C=best_C, solver='lbfgs',\n",
        "                             multi_class='multinomial', max_iter=2000, n_jobs=None, random_state=42)\n",
        "    clf.fit(X, y)\n",
        "    return clf, best_C, best_score\n",
        "\n",
        "overall_t1 = time.time()\n",
        "for b in range(5):\n",
        "    tr_idx_bin = np.where(bins_tr==b)[0]\n",
        "    te_idx_bin = np.where(bins_te==b)[0]\n",
        "    if len(tr_idx_bin) == 0:\n",
        "        continue\n",
        "    print(f'Bin {b} ({bin_names[b]}): n_tr={len(tr_idx_bin)} n_te={len(te_idx_bin)}', flush=True)\n",
        "    Xb = X_tr_all[tr_idx_bin]\n",
        "    yb = y[tr_idx_bin]\n",
        "    Xb_te = X_te_all[te_idx_bin] if len(te_idx_bin)>0 else None\n",
        "    t_bin = time.time()\n",
        "    for f in range(n_folds):\n",
        "        tr_mask = (folds[tr_idx_bin] != f)\n",
        "        va_mask = ~tr_mask\n",
        "        X_tr_bin_fold = Xb[tr_mask]\n",
        "        y_tr_bin_fold = yb[tr_mask]\n",
        "        X_va_bin_fold = Xb[va_mask]\n",
        "        # Select C via inner CV on current fold's training split\n",
        "        clf, bestC, best_inner = fit_lr_selectC(X_tr_bin_fold, y_tr_bin_fold, Cs_grid, inner_cv)\n",
        "        oof_meta[tr_idx_bin[va_mask]] = clf.predict_proba(X_va_bin_fold)\n",
        "        if Xb_te is not None and len(te_idx_bin)>0:\n",
        "            test_meta_parts[f][te_idx_bin] = clf.predict_proba(Xb_te)\n",
        "        print(f'  Fold {f}: tr={tr_mask.sum()} va={va_mask.sum()} bestC={bestC} innerLL={best_inner:.5f} elapsed={time.time()-t_bin:.2f}s', flush=True)\n",
        "    print(f'  Bin {b} done in {time.time()-t_bin:.2f}s', flush=True)\n",
        "\n",
        "# Average test predictions across folds\n",
        "test_meta = np.zeros_like(test_meta_parts[0])\n",
        "for f in range(n_folds):\n",
        "    test_meta += test_meta_parts[f] / n_folds\n",
        "\n",
        "oof_ll = log_loss(y, clip_renorm(oof_meta), labels=[0,1,2])\n",
        "print(f'OOF (stacker, no calibration): {oof_ll:.5f}', flush=True)\n",
        "\n",
        "# Save submission\n",
        "sub = pd.read_csv('sample_submission.csv')\n",
        "sub[classes] = clip_renorm(test_meta)\n",
        "sub.to_csv('submission.csv', index=False)\n",
        "print('Saved submission.csv. Total elapsed {:.2f}s'.format(time.time()-t0), flush=True)"
      ],
      "execution_count": 7,
      "outputs": [
        {
          "output_type": "stream",
          "name": "stdout",
          "text": [
            "Using base models (count): 34\nFeature shapes: (17621, 102) (1958, 102)\n"
          ]
        },
        {
          "output_type": "stream",
          "name": "stdout",
          "text": [
            "Bin counts: [4330, 4674, 4698, 2459, 1460]\n"
          ]
        },
        {
          "output_type": "stream",
          "name": "stdout",
          "text": [
            "Folds: 5 [3525 3524 3524 3524 3524]\n"
          ]
        },
        {
          "output_type": "stream",
          "name": "stdout",
          "text": [
            "Bin 0 (vshort): n_tr=4330 n_te=466\n"
          ]
        },
        {
          "output_type": "stream",
          "name": "stderr",
          "text": [
            "/usr/local/lib/python3.11/dist-packages/sklearn/linear_model/_logistic.py:1247: FutureWarning: 'multi_class' was deprecated in version 1.5 and will be removed in 1.7. From then on, it will always use 'multinomial'. Leave it to its default value to avoid this warning.\n  warnings.warn(\n"
          ]
        },
        {
          "output_type": "stream",
          "name": "stderr",
          "text": [
            "/usr/local/lib/python3.11/dist-packages/sklearn/linear_model/_logistic.py:1247: FutureWarning: 'multi_class' was deprecated in version 1.5 and will be removed in 1.7. From then on, it will always use 'multinomial'. Leave it to its default value to avoid this warning.\n  warnings.warn(\n"
          ]
        },
        {
          "output_type": "stream",
          "name": "stderr",
          "text": [
            "/usr/local/lib/python3.11/dist-packages/sklearn/linear_model/_logistic.py:1247: FutureWarning: 'multi_class' was deprecated in version 1.5 and will be removed in 1.7. From then on, it will always use 'multinomial'. Leave it to its default value to avoid this warning.\n  warnings.warn(\n"
          ]
        },
        {
          "output_type": "stream",
          "name": "stderr",
          "text": [
            "/usr/local/lib/python3.11/dist-packages/sklearn/linear_model/_logistic.py:1247: FutureWarning: 'multi_class' was deprecated in version 1.5 and will be removed in 1.7. From then on, it will always use 'multinomial'. Leave it to its default value to avoid this warning.\n  warnings.warn(\n"
          ]
        },
        {
          "output_type": "stream",
          "name": "stderr",
          "text": [
            "/usr/local/lib/python3.11/dist-packages/sklearn/linear_model/_logistic.py:1247: FutureWarning: 'multi_class' was deprecated in version 1.5 and will be removed in 1.7. From then on, it will always use 'multinomial'. Leave it to its default value to avoid this warning.\n  warnings.warn(\n"
          ]
        },
        {
          "output_type": "stream",
          "name": "stderr",
          "text": [
            "/usr/local/lib/python3.11/dist-packages/sklearn/linear_model/_logistic.py:1247: FutureWarning: 'multi_class' was deprecated in version 1.5 and will be removed in 1.7. From then on, it will always use 'multinomial'. Leave it to its default value to avoid this warning.\n  warnings.warn(\n"
          ]
        },
        {
          "output_type": "stream",
          "name": "stderr",
          "text": [
            "/usr/local/lib/python3.11/dist-packages/sklearn/linear_model/_logistic.py:1247: FutureWarning: 'multi_class' was deprecated in version 1.5 and will be removed in 1.7. From then on, it will always use 'multinomial'. Leave it to its default value to avoid this warning.\n  warnings.warn(\n"
          ]
        },
        {
          "output_type": "stream",
          "name": "stderr",
          "text": [
            "/usr/local/lib/python3.11/dist-packages/sklearn/linear_model/_logistic.py:1247: FutureWarning: 'multi_class' was deprecated in version 1.5 and will be removed in 1.7. From then on, it will always use 'multinomial'. Leave it to its default value to avoid this warning.\n  warnings.warn(\n"
          ]
        },
        {
          "output_type": "stream",
          "name": "stderr",
          "text": [
            "/usr/local/lib/python3.11/dist-packages/sklearn/linear_model/_logistic.py:1247: FutureWarning: 'multi_class' was deprecated in version 1.5 and will be removed in 1.7. From then on, it will always use 'multinomial'. Leave it to its default value to avoid this warning.\n  warnings.warn(\n"
          ]
        },
        {
          "output_type": "stream",
          "name": "stderr",
          "text": [
            "/usr/local/lib/python3.11/dist-packages/sklearn/linear_model/_logistic.py:1247: FutureWarning: 'multi_class' was deprecated in version 1.5 and will be removed in 1.7. From then on, it will always use 'multinomial'. Leave it to its default value to avoid this warning.\n  warnings.warn(\n"
          ]
        },
        {
          "output_type": "stream",
          "name": "stderr",
          "text": [
            "/usr/local/lib/python3.11/dist-packages/sklearn/linear_model/_logistic.py:1247: FutureWarning: 'multi_class' was deprecated in version 1.5 and will be removed in 1.7. From then on, it will always use 'multinomial'. Leave it to its default value to avoid this warning.\n  warnings.warn(\n"
          ]
        },
        {
          "output_type": "stream",
          "name": "stderr",
          "text": [
            "/usr/local/lib/python3.11/dist-packages/sklearn/linear_model/_logistic.py:1247: FutureWarning: 'multi_class' was deprecated in version 1.5 and will be removed in 1.7. From then on, it will always use 'multinomial'. Leave it to its default value to avoid this warning.\n  warnings.warn(\n"
          ]
        },
        {
          "output_type": "stream",
          "name": "stderr",
          "text": [
            "/usr/local/lib/python3.11/dist-packages/sklearn/linear_model/_logistic.py:1247: FutureWarning: 'multi_class' was deprecated in version 1.5 and will be removed in 1.7. From then on, it will always use 'multinomial'. Leave it to its default value to avoid this warning.\n  warnings.warn(\n"
          ]
        },
        {
          "output_type": "stream",
          "name": "stderr",
          "text": [
            "/usr/local/lib/python3.11/dist-packages/sklearn/linear_model/_logistic.py:1247: FutureWarning: 'multi_class' was deprecated in version 1.5 and will be removed in 1.7. From then on, it will always use 'multinomial'. Leave it to its default value to avoid this warning.\n  warnings.warn(\n"
          ]
        },
        {
          "output_type": "stream",
          "name": "stderr",
          "text": [
            "/usr/local/lib/python3.11/dist-packages/sklearn/linear_model/_logistic.py:1247: FutureWarning: 'multi_class' was deprecated in version 1.5 and will be removed in 1.7. From then on, it will always use 'multinomial'. Leave it to its default value to avoid this warning.\n  warnings.warn(\n"
          ]
        },
        {
          "output_type": "stream",
          "name": "stderr",
          "text": [
            "/usr/local/lib/python3.11/dist-packages/sklearn/linear_model/_logistic.py:1247: FutureWarning: 'multi_class' was deprecated in version 1.5 and will be removed in 1.7. From then on, it will always use 'multinomial'. Leave it to its default value to avoid this warning.\n  warnings.warn(\n"
          ]
        },
        {
          "output_type": "stream",
          "name": "stdout",
          "text": [
            "  Fold 0: tr=3495 va=835 bestC=0.25 innerLL=0.49089 elapsed=8.88s\n"
          ]
        },
        {
          "output_type": "stream",
          "name": "stderr",
          "text": [
            "/usr/local/lib/python3.11/dist-packages/sklearn/linear_model/_logistic.py:1247: FutureWarning: 'multi_class' was deprecated in version 1.5 and will be removed in 1.7. From then on, it will always use 'multinomial'. Leave it to its default value to avoid this warning.\n  warnings.warn(\n"
          ]
        },
        {
          "output_type": "stream",
          "name": "stderr",
          "text": [
            "/usr/local/lib/python3.11/dist-packages/sklearn/linear_model/_logistic.py:1247: FutureWarning: 'multi_class' was deprecated in version 1.5 and will be removed in 1.7. From then on, it will always use 'multinomial'. Leave it to its default value to avoid this warning.\n  warnings.warn(\n"
          ]
        },
        {
          "output_type": "stream",
          "name": "stderr",
          "text": [
            "/usr/local/lib/python3.11/dist-packages/sklearn/linear_model/_logistic.py:1247: FutureWarning: 'multi_class' was deprecated in version 1.5 and will be removed in 1.7. From then on, it will always use 'multinomial'. Leave it to its default value to avoid this warning.\n  warnings.warn(\n"
          ]
        },
        {
          "output_type": "stream",
          "name": "stderr",
          "text": [
            "/usr/local/lib/python3.11/dist-packages/sklearn/linear_model/_logistic.py:1247: FutureWarning: 'multi_class' was deprecated in version 1.5 and will be removed in 1.7. From then on, it will always use 'multinomial'. Leave it to its default value to avoid this warning.\n  warnings.warn(\n"
          ]
        },
        {
          "output_type": "stream",
          "name": "stderr",
          "text": [
            "/usr/local/lib/python3.11/dist-packages/sklearn/linear_model/_logistic.py:1247: FutureWarning: 'multi_class' was deprecated in version 1.5 and will be removed in 1.7. From then on, it will always use 'multinomial'. Leave it to its default value to avoid this warning.\n  warnings.warn(\n"
          ]
        },
        {
          "output_type": "stream",
          "name": "stderr",
          "text": [
            "/usr/local/lib/python3.11/dist-packages/sklearn/linear_model/_logistic.py:1247: FutureWarning: 'multi_class' was deprecated in version 1.5 and will be removed in 1.7. From then on, it will always use 'multinomial'. Leave it to its default value to avoid this warning.\n  warnings.warn(\n"
          ]
        },
        {
          "output_type": "stream",
          "name": "stderr",
          "text": [
            "/usr/local/lib/python3.11/dist-packages/sklearn/linear_model/_logistic.py:1247: FutureWarning: 'multi_class' was deprecated in version 1.5 and will be removed in 1.7. From then on, it will always use 'multinomial'. Leave it to its default value to avoid this warning.\n  warnings.warn(\n"
          ]
        },
        {
          "output_type": "stream",
          "name": "stderr",
          "text": [
            "/usr/local/lib/python3.11/dist-packages/sklearn/linear_model/_logistic.py:1247: FutureWarning: 'multi_class' was deprecated in version 1.5 and will be removed in 1.7. From then on, it will always use 'multinomial'. Leave it to its default value to avoid this warning.\n  warnings.warn(\n"
          ]
        },
        {
          "output_type": "stream",
          "name": "stderr",
          "text": [
            "/usr/local/lib/python3.11/dist-packages/sklearn/linear_model/_logistic.py:1247: FutureWarning: 'multi_class' was deprecated in version 1.5 and will be removed in 1.7. From then on, it will always use 'multinomial'. Leave it to its default value to avoid this warning.\n  warnings.warn(\n"
          ]
        },
        {
          "output_type": "stream",
          "name": "stderr",
          "text": [
            "/usr/local/lib/python3.11/dist-packages/sklearn/linear_model/_logistic.py:1247: FutureWarning: 'multi_class' was deprecated in version 1.5 and will be removed in 1.7. From then on, it will always use 'multinomial'. Leave it to its default value to avoid this warning.\n  warnings.warn(\n"
          ]
        },
        {
          "output_type": "stream",
          "name": "stderr",
          "text": [
            "/usr/local/lib/python3.11/dist-packages/sklearn/linear_model/_logistic.py:1247: FutureWarning: 'multi_class' was deprecated in version 1.5 and will be removed in 1.7. From then on, it will always use 'multinomial'. Leave it to its default value to avoid this warning.\n  warnings.warn(\n"
          ]
        },
        {
          "output_type": "stream",
          "name": "stderr",
          "text": [
            "/usr/local/lib/python3.11/dist-packages/sklearn/linear_model/_logistic.py:1247: FutureWarning: 'multi_class' was deprecated in version 1.5 and will be removed in 1.7. From then on, it will always use 'multinomial'. Leave it to its default value to avoid this warning.\n  warnings.warn(\n"
          ]
        },
        {
          "output_type": "stream",
          "name": "stderr",
          "text": [
            "/usr/local/lib/python3.11/dist-packages/sklearn/linear_model/_logistic.py:1247: FutureWarning: 'multi_class' was deprecated in version 1.5 and will be removed in 1.7. From then on, it will always use 'multinomial'. Leave it to its default value to avoid this warning.\n  warnings.warn(\n"
          ]
        },
        {
          "output_type": "stream",
          "name": "stderr",
          "text": [
            "/usr/local/lib/python3.11/dist-packages/sklearn/linear_model/_logistic.py:1247: FutureWarning: 'multi_class' was deprecated in version 1.5 and will be removed in 1.7. From then on, it will always use 'multinomial'. Leave it to its default value to avoid this warning.\n  warnings.warn(\n"
          ]
        },
        {
          "output_type": "stream",
          "name": "stderr",
          "text": [
            "/usr/local/lib/python3.11/dist-packages/sklearn/linear_model/_logistic.py:1247: FutureWarning: 'multi_class' was deprecated in version 1.5 and will be removed in 1.7. From then on, it will always use 'multinomial'. Leave it to its default value to avoid this warning.\n  warnings.warn(\n"
          ]
        },
        {
          "output_type": "stream",
          "name": "stderr",
          "text": [
            "/usr/local/lib/python3.11/dist-packages/sklearn/linear_model/_logistic.py:1247: FutureWarning: 'multi_class' was deprecated in version 1.5 and will be removed in 1.7. From then on, it will always use 'multinomial'. Leave it to its default value to avoid this warning.\n  warnings.warn(\n"
          ]
        },
        {
          "output_type": "stream",
          "name": "stdout",
          "text": [
            "  Fold 1: tr=3445 va=885 bestC=0.25 innerLL=0.48195 elapsed=16.84s\n"
          ]
        },
        {
          "output_type": "stream",
          "name": "stderr",
          "text": [
            "/usr/local/lib/python3.11/dist-packages/sklearn/linear_model/_logistic.py:1247: FutureWarning: 'multi_class' was deprecated in version 1.5 and will be removed in 1.7. From then on, it will always use 'multinomial'. Leave it to its default value to avoid this warning.\n  warnings.warn(\n"
          ]
        },
        {
          "output_type": "stream",
          "name": "stderr",
          "text": [
            "/usr/local/lib/python3.11/dist-packages/sklearn/linear_model/_logistic.py:1247: FutureWarning: 'multi_class' was deprecated in version 1.5 and will be removed in 1.7. From then on, it will always use 'multinomial'. Leave it to its default value to avoid this warning.\n  warnings.warn(\n"
          ]
        },
        {
          "output_type": "stream",
          "name": "stderr",
          "text": [
            "/usr/local/lib/python3.11/dist-packages/sklearn/linear_model/_logistic.py:1247: FutureWarning: 'multi_class' was deprecated in version 1.5 and will be removed in 1.7. From then on, it will always use 'multinomial'. Leave it to its default value to avoid this warning.\n  warnings.warn(\n"
          ]
        },
        {
          "output_type": "stream",
          "name": "stderr",
          "text": [
            "/usr/local/lib/python3.11/dist-packages/sklearn/linear_model/_logistic.py:1247: FutureWarning: 'multi_class' was deprecated in version 1.5 and will be removed in 1.7. From then on, it will always use 'multinomial'. Leave it to its default value to avoid this warning.\n  warnings.warn(\n"
          ]
        },
        {
          "output_type": "stream",
          "name": "stderr",
          "text": [
            "/usr/local/lib/python3.11/dist-packages/sklearn/linear_model/_logistic.py:1247: FutureWarning: 'multi_class' was deprecated in version 1.5 and will be removed in 1.7. From then on, it will always use 'multinomial'. Leave it to its default value to avoid this warning.\n  warnings.warn(\n"
          ]
        },
        {
          "output_type": "stream",
          "name": "stderr",
          "text": [
            "/usr/local/lib/python3.11/dist-packages/sklearn/linear_model/_logistic.py:1247: FutureWarning: 'multi_class' was deprecated in version 1.5 and will be removed in 1.7. From then on, it will always use 'multinomial'. Leave it to its default value to avoid this warning.\n  warnings.warn(\n"
          ]
        },
        {
          "output_type": "stream",
          "name": "stderr",
          "text": [
            "/usr/local/lib/python3.11/dist-packages/sklearn/linear_model/_logistic.py:1247: FutureWarning: 'multi_class' was deprecated in version 1.5 and will be removed in 1.7. From then on, it will always use 'multinomial'. Leave it to its default value to avoid this warning.\n  warnings.warn(\n"
          ]
        },
        {
          "output_type": "stream",
          "name": "stderr",
          "text": [
            "/usr/local/lib/python3.11/dist-packages/sklearn/linear_model/_logistic.py:1247: FutureWarning: 'multi_class' was deprecated in version 1.5 and will be removed in 1.7. From then on, it will always use 'multinomial'. Leave it to its default value to avoid this warning.\n  warnings.warn(\n"
          ]
        },
        {
          "output_type": "stream",
          "name": "stderr",
          "text": [
            "/usr/local/lib/python3.11/dist-packages/sklearn/linear_model/_logistic.py:1247: FutureWarning: 'multi_class' was deprecated in version 1.5 and will be removed in 1.7. From then on, it will always use 'multinomial'. Leave it to its default value to avoid this warning.\n  warnings.warn(\n"
          ]
        },
        {
          "output_type": "stream",
          "name": "stderr",
          "text": [
            "/usr/local/lib/python3.11/dist-packages/sklearn/linear_model/_logistic.py:1247: FutureWarning: 'multi_class' was deprecated in version 1.5 and will be removed in 1.7. From then on, it will always use 'multinomial'. Leave it to its default value to avoid this warning.\n  warnings.warn(\n"
          ]
        },
        {
          "output_type": "stream",
          "name": "stderr",
          "text": [
            "/usr/local/lib/python3.11/dist-packages/sklearn/linear_model/_logistic.py:1247: FutureWarning: 'multi_class' was deprecated in version 1.5 and will be removed in 1.7. From then on, it will always use 'multinomial'. Leave it to its default value to avoid this warning.\n  warnings.warn(\n"
          ]
        },
        {
          "output_type": "stream",
          "name": "stderr",
          "text": [
            "/usr/local/lib/python3.11/dist-packages/sklearn/linear_model/_logistic.py:1247: FutureWarning: 'multi_class' was deprecated in version 1.5 and will be removed in 1.7. From then on, it will always use 'multinomial'. Leave it to its default value to avoid this warning.\n  warnings.warn(\n"
          ]
        },
        {
          "output_type": "stream",
          "name": "stderr",
          "text": [
            "/usr/local/lib/python3.11/dist-packages/sklearn/linear_model/_logistic.py:1247: FutureWarning: 'multi_class' was deprecated in version 1.5 and will be removed in 1.7. From then on, it will always use 'multinomial'. Leave it to its default value to avoid this warning.\n  warnings.warn(\n"
          ]
        },
        {
          "output_type": "stream",
          "name": "stderr",
          "text": [
            "/usr/local/lib/python3.11/dist-packages/sklearn/linear_model/_logistic.py:1247: FutureWarning: 'multi_class' was deprecated in version 1.5 and will be removed in 1.7. From then on, it will always use 'multinomial'. Leave it to its default value to avoid this warning.\n  warnings.warn(\n"
          ]
        },
        {
          "output_type": "stream",
          "name": "stderr",
          "text": [
            "/usr/local/lib/python3.11/dist-packages/sklearn/linear_model/_logistic.py:1247: FutureWarning: 'multi_class' was deprecated in version 1.5 and will be removed in 1.7. From then on, it will always use 'multinomial'. Leave it to its default value to avoid this warning.\n  warnings.warn(\n"
          ]
        },
        {
          "output_type": "stream",
          "name": "stderr",
          "text": [
            "/usr/local/lib/python3.11/dist-packages/sklearn/linear_model/_logistic.py:1247: FutureWarning: 'multi_class' was deprecated in version 1.5 and will be removed in 1.7. From then on, it will always use 'multinomial'. Leave it to its default value to avoid this warning.\n  warnings.warn(\n"
          ]
        },
        {
          "output_type": "stream",
          "name": "stdout",
          "text": [
            "  Fold 2: tr=3485 va=845 bestC=0.25 innerLL=0.49011 elapsed=25.48s\n"
          ]
        },
        {
          "output_type": "stream",
          "name": "stderr",
          "text": [
            "/usr/local/lib/python3.11/dist-packages/sklearn/linear_model/_logistic.py:1247: FutureWarning: 'multi_class' was deprecated in version 1.5 and will be removed in 1.7. From then on, it will always use 'multinomial'. Leave it to its default value to avoid this warning.\n  warnings.warn(\n"
          ]
        },
        {
          "output_type": "stream",
          "name": "stderr",
          "text": [
            "/usr/local/lib/python3.11/dist-packages/sklearn/linear_model/_logistic.py:1247: FutureWarning: 'multi_class' was deprecated in version 1.5 and will be removed in 1.7. From then on, it will always use 'multinomial'. Leave it to its default value to avoid this warning.\n  warnings.warn(\n"
          ]
        },
        {
          "output_type": "stream",
          "name": "stderr",
          "text": [
            "/usr/local/lib/python3.11/dist-packages/sklearn/linear_model/_logistic.py:1247: FutureWarning: 'multi_class' was deprecated in version 1.5 and will be removed in 1.7. From then on, it will always use 'multinomial'. Leave it to its default value to avoid this warning.\n  warnings.warn(\n"
          ]
        },
        {
          "output_type": "stream",
          "name": "stderr",
          "text": [
            "/usr/local/lib/python3.11/dist-packages/sklearn/linear_model/_logistic.py:1247: FutureWarning: 'multi_class' was deprecated in version 1.5 and will be removed in 1.7. From then on, it will always use 'multinomial'. Leave it to its default value to avoid this warning.\n  warnings.warn(\n"
          ]
        },
        {
          "output_type": "stream",
          "name": "stderr",
          "text": [
            "/usr/local/lib/python3.11/dist-packages/sklearn/linear_model/_logistic.py:1247: FutureWarning: 'multi_class' was deprecated in version 1.5 and will be removed in 1.7. From then on, it will always use 'multinomial'. Leave it to its default value to avoid this warning.\n  warnings.warn(\n"
          ]
        },
        {
          "output_type": "stream",
          "name": "stderr",
          "text": [
            "/usr/local/lib/python3.11/dist-packages/sklearn/linear_model/_logistic.py:1247: FutureWarning: 'multi_class' was deprecated in version 1.5 and will be removed in 1.7. From then on, it will always use 'multinomial'. Leave it to its default value to avoid this warning.\n  warnings.warn(\n"
          ]
        },
        {
          "output_type": "stream",
          "name": "stderr",
          "text": [
            "/usr/local/lib/python3.11/dist-packages/sklearn/linear_model/_logistic.py:1247: FutureWarning: 'multi_class' was deprecated in version 1.5 and will be removed in 1.7. From then on, it will always use 'multinomial'. Leave it to its default value to avoid this warning.\n  warnings.warn(\n"
          ]
        },
        {
          "output_type": "stream",
          "name": "stderr",
          "text": [
            "/usr/local/lib/python3.11/dist-packages/sklearn/linear_model/_logistic.py:1247: FutureWarning: 'multi_class' was deprecated in version 1.5 and will be removed in 1.7. From then on, it will always use 'multinomial'. Leave it to its default value to avoid this warning.\n  warnings.warn(\n"
          ]
        },
        {
          "output_type": "stream",
          "name": "stderr",
          "text": [
            "/usr/local/lib/python3.11/dist-packages/sklearn/linear_model/_logistic.py:1247: FutureWarning: 'multi_class' was deprecated in version 1.5 and will be removed in 1.7. From then on, it will always use 'multinomial'. Leave it to its default value to avoid this warning.\n  warnings.warn(\n"
          ]
        },
        {
          "output_type": "stream",
          "name": "stderr",
          "text": [
            "/usr/local/lib/python3.11/dist-packages/sklearn/linear_model/_logistic.py:1247: FutureWarning: 'multi_class' was deprecated in version 1.5 and will be removed in 1.7. From then on, it will always use 'multinomial'. Leave it to its default value to avoid this warning.\n  warnings.warn(\n"
          ]
        },
        {
          "output_type": "stream",
          "name": "stderr",
          "text": [
            "/usr/local/lib/python3.11/dist-packages/sklearn/linear_model/_logistic.py:1247: FutureWarning: 'multi_class' was deprecated in version 1.5 and will be removed in 1.7. From then on, it will always use 'multinomial'. Leave it to its default value to avoid this warning.\n  warnings.warn(\n"
          ]
        },
        {
          "output_type": "stream",
          "name": "stderr",
          "text": [
            "/usr/local/lib/python3.11/dist-packages/sklearn/linear_model/_logistic.py:1247: FutureWarning: 'multi_class' was deprecated in version 1.5 and will be removed in 1.7. From then on, it will always use 'multinomial'. Leave it to its default value to avoid this warning.\n  warnings.warn(\n"
          ]
        },
        {
          "output_type": "stream",
          "name": "stderr",
          "text": [
            "/usr/local/lib/python3.11/dist-packages/sklearn/linear_model/_logistic.py:1247: FutureWarning: 'multi_class' was deprecated in version 1.5 and will be removed in 1.7. From then on, it will always use 'multinomial'. Leave it to its default value to avoid this warning.\n  warnings.warn(\n"
          ]
        },
        {
          "output_type": "stream",
          "name": "stderr",
          "text": [
            "/usr/local/lib/python3.11/dist-packages/sklearn/linear_model/_logistic.py:1247: FutureWarning: 'multi_class' was deprecated in version 1.5 and will be removed in 1.7. From then on, it will always use 'multinomial'. Leave it to its default value to avoid this warning.\n  warnings.warn(\n"
          ]
        },
        {
          "output_type": "stream",
          "name": "stderr",
          "text": [
            "/usr/local/lib/python3.11/dist-packages/sklearn/linear_model/_logistic.py:1247: FutureWarning: 'multi_class' was deprecated in version 1.5 and will be removed in 1.7. From then on, it will always use 'multinomial'. Leave it to its default value to avoid this warning.\n  warnings.warn(\n"
          ]
        },
        {
          "output_type": "stream",
          "name": "stderr",
          "text": [
            "/usr/local/lib/python3.11/dist-packages/sklearn/linear_model/_logistic.py:1247: FutureWarning: 'multi_class' was deprecated in version 1.5 and will be removed in 1.7. From then on, it will always use 'multinomial'. Leave it to its default value to avoid this warning.\n  warnings.warn(\n"
          ]
        },
        {
          "output_type": "stream",
          "name": "stdout",
          "text": [
            "  Fold 3: tr=3421 va=909 bestC=0.25 innerLL=0.47749 elapsed=34.50s\n"
          ]
        },
        {
          "output_type": "stream",
          "name": "stderr",
          "text": [
            "/usr/local/lib/python3.11/dist-packages/sklearn/linear_model/_logistic.py:1247: FutureWarning: 'multi_class' was deprecated in version 1.5 and will be removed in 1.7. From then on, it will always use 'multinomial'. Leave it to its default value to avoid this warning.\n  warnings.warn(\n"
          ]
        },
        {
          "output_type": "stream",
          "name": "stderr",
          "text": [
            "/usr/local/lib/python3.11/dist-packages/sklearn/linear_model/_logistic.py:1247: FutureWarning: 'multi_class' was deprecated in version 1.5 and will be removed in 1.7. From then on, it will always use 'multinomial'. Leave it to its default value to avoid this warning.\n  warnings.warn(\n"
          ]
        },
        {
          "output_type": "stream",
          "name": "stderr",
          "text": [
            "/usr/local/lib/python3.11/dist-packages/sklearn/linear_model/_logistic.py:1247: FutureWarning: 'multi_class' was deprecated in version 1.5 and will be removed in 1.7. From then on, it will always use 'multinomial'. Leave it to its default value to avoid this warning.\n  warnings.warn(\n"
          ]
        },
        {
          "output_type": "stream",
          "name": "stderr",
          "text": [
            "/usr/local/lib/python3.11/dist-packages/sklearn/linear_model/_logistic.py:1247: FutureWarning: 'multi_class' was deprecated in version 1.5 and will be removed in 1.7. From then on, it will always use 'multinomial'. Leave it to its default value to avoid this warning.\n  warnings.warn(\n"
          ]
        },
        {
          "output_type": "stream",
          "name": "stderr",
          "text": [
            "/usr/local/lib/python3.11/dist-packages/sklearn/linear_model/_logistic.py:1247: FutureWarning: 'multi_class' was deprecated in version 1.5 and will be removed in 1.7. From then on, it will always use 'multinomial'. Leave it to its default value to avoid this warning.\n  warnings.warn(\n"
          ]
        },
        {
          "output_type": "stream",
          "name": "stderr",
          "text": [
            "/usr/local/lib/python3.11/dist-packages/sklearn/linear_model/_logistic.py:1247: FutureWarning: 'multi_class' was deprecated in version 1.5 and will be removed in 1.7. From then on, it will always use 'multinomial'. Leave it to its default value to avoid this warning.\n  warnings.warn(\n"
          ]
        },
        {
          "output_type": "stream",
          "name": "stderr",
          "text": [
            "/usr/local/lib/python3.11/dist-packages/sklearn/linear_model/_logistic.py:1247: FutureWarning: 'multi_class' was deprecated in version 1.5 and will be removed in 1.7. From then on, it will always use 'multinomial'. Leave it to its default value to avoid this warning.\n  warnings.warn(\n"
          ]
        },
        {
          "output_type": "stream",
          "name": "stderr",
          "text": [
            "/usr/local/lib/python3.11/dist-packages/sklearn/linear_model/_logistic.py:1247: FutureWarning: 'multi_class' was deprecated in version 1.5 and will be removed in 1.7. From then on, it will always use 'multinomial'. Leave it to its default value to avoid this warning.\n  warnings.warn(\n"
          ]
        },
        {
          "output_type": "stream",
          "name": "stderr",
          "text": [
            "/usr/local/lib/python3.11/dist-packages/sklearn/linear_model/_logistic.py:1247: FutureWarning: 'multi_class' was deprecated in version 1.5 and will be removed in 1.7. From then on, it will always use 'multinomial'. Leave it to its default value to avoid this warning.\n  warnings.warn(\n"
          ]
        },
        {
          "output_type": "stream",
          "name": "stderr",
          "text": [
            "/usr/local/lib/python3.11/dist-packages/sklearn/linear_model/_logistic.py:1247: FutureWarning: 'multi_class' was deprecated in version 1.5 and will be removed in 1.7. From then on, it will always use 'multinomial'. Leave it to its default value to avoid this warning.\n  warnings.warn(\n"
          ]
        },
        {
          "output_type": "stream",
          "name": "stderr",
          "text": [
            "/usr/local/lib/python3.11/dist-packages/sklearn/linear_model/_logistic.py:1247: FutureWarning: 'multi_class' was deprecated in version 1.5 and will be removed in 1.7. From then on, it will always use 'multinomial'. Leave it to its default value to avoid this warning.\n  warnings.warn(\n"
          ]
        },
        {
          "output_type": "stream",
          "name": "stderr",
          "text": [
            "/usr/local/lib/python3.11/dist-packages/sklearn/linear_model/_logistic.py:1247: FutureWarning: 'multi_class' was deprecated in version 1.5 and will be removed in 1.7. From then on, it will always use 'multinomial'. Leave it to its default value to avoid this warning.\n  warnings.warn(\n"
          ]
        },
        {
          "output_type": "stream",
          "name": "stderr",
          "text": [
            "/usr/local/lib/python3.11/dist-packages/sklearn/linear_model/_logistic.py:1247: FutureWarning: 'multi_class' was deprecated in version 1.5 and will be removed in 1.7. From then on, it will always use 'multinomial'. Leave it to its default value to avoid this warning.\n  warnings.warn(\n"
          ]
        },
        {
          "output_type": "stream",
          "name": "stderr",
          "text": [
            "/usr/local/lib/python3.11/dist-packages/sklearn/linear_model/_logistic.py:1247: FutureWarning: 'multi_class' was deprecated in version 1.5 and will be removed in 1.7. From then on, it will always use 'multinomial'. Leave it to its default value to avoid this warning.\n  warnings.warn(\n"
          ]
        },
        {
          "output_type": "stream",
          "name": "stderr",
          "text": [
            "/usr/local/lib/python3.11/dist-packages/sklearn/linear_model/_logistic.py:1247: FutureWarning: 'multi_class' was deprecated in version 1.5 and will be removed in 1.7. From then on, it will always use 'multinomial'. Leave it to its default value to avoid this warning.\n  warnings.warn(\n"
          ]
        },
        {
          "output_type": "stream",
          "name": "stderr",
          "text": [
            "/usr/local/lib/python3.11/dist-packages/sklearn/linear_model/_logistic.py:1247: FutureWarning: 'multi_class' was deprecated in version 1.5 and will be removed in 1.7. From then on, it will always use 'multinomial'. Leave it to its default value to avoid this warning.\n  warnings.warn(\n"
          ]
        },
        {
          "output_type": "stream",
          "name": "stdout",
          "text": [
            "  Fold 4: tr=3474 va=856 bestC=0.25 innerLL=0.48592 elapsed=43.40s\n"
          ]
        },
        {
          "output_type": "stream",
          "name": "stdout",
          "text": [
            "  Bin 0 done in 43.40s\n"
          ]
        },
        {
          "output_type": "stream",
          "name": "stdout",
          "text": [
            "Bin 1 (short): n_tr=4674 n_te=516\n"
          ]
        },
        {
          "output_type": "stream",
          "name": "stderr",
          "text": [
            "/usr/local/lib/python3.11/dist-packages/sklearn/linear_model/_logistic.py:1247: FutureWarning: 'multi_class' was deprecated in version 1.5 and will be removed in 1.7. From then on, it will always use 'multinomial'. Leave it to its default value to avoid this warning.\n  warnings.warn(\n"
          ]
        },
        {
          "output_type": "stream",
          "name": "stderr",
          "text": [
            "/usr/local/lib/python3.11/dist-packages/sklearn/linear_model/_logistic.py:1247: FutureWarning: 'multi_class' was deprecated in version 1.5 and will be removed in 1.7. From then on, it will always use 'multinomial'. Leave it to its default value to avoid this warning.\n  warnings.warn(\n"
          ]
        },
        {
          "output_type": "stream",
          "name": "stderr",
          "text": [
            "/usr/local/lib/python3.11/dist-packages/sklearn/linear_model/_logistic.py:1247: FutureWarning: 'multi_class' was deprecated in version 1.5 and will be removed in 1.7. From then on, it will always use 'multinomial'. Leave it to its default value to avoid this warning.\n  warnings.warn(\n"
          ]
        },
        {
          "output_type": "stream",
          "name": "stderr",
          "text": [
            "/usr/local/lib/python3.11/dist-packages/sklearn/linear_model/_logistic.py:1247: FutureWarning: 'multi_class' was deprecated in version 1.5 and will be removed in 1.7. From then on, it will always use 'multinomial'. Leave it to its default value to avoid this warning.\n  warnings.warn(\n"
          ]
        },
        {
          "output_type": "stream",
          "name": "stderr",
          "text": [
            "/usr/local/lib/python3.11/dist-packages/sklearn/linear_model/_logistic.py:1247: FutureWarning: 'multi_class' was deprecated in version 1.5 and will be removed in 1.7. From then on, it will always use 'multinomial'. Leave it to its default value to avoid this warning.\n  warnings.warn(\n"
          ]
        },
        {
          "output_type": "stream",
          "name": "stderr",
          "text": [
            "/usr/local/lib/python3.11/dist-packages/sklearn/linear_model/_logistic.py:1247: FutureWarning: 'multi_class' was deprecated in version 1.5 and will be removed in 1.7. From then on, it will always use 'multinomial'. Leave it to its default value to avoid this warning.\n  warnings.warn(\n"
          ]
        },
        {
          "output_type": "stream",
          "name": "stderr",
          "text": [
            "/usr/local/lib/python3.11/dist-packages/sklearn/linear_model/_logistic.py:1247: FutureWarning: 'multi_class' was deprecated in version 1.5 and will be removed in 1.7. From then on, it will always use 'multinomial'. Leave it to its default value to avoid this warning.\n  warnings.warn(\n"
          ]
        },
        {
          "output_type": "stream",
          "name": "stderr",
          "text": [
            "/usr/local/lib/python3.11/dist-packages/sklearn/linear_model/_logistic.py:1247: FutureWarning: 'multi_class' was deprecated in version 1.5 and will be removed in 1.7. From then on, it will always use 'multinomial'. Leave it to its default value to avoid this warning.\n  warnings.warn(\n"
          ]
        },
        {
          "output_type": "stream",
          "name": "stderr",
          "text": [
            "/usr/local/lib/python3.11/dist-packages/sklearn/linear_model/_logistic.py:1247: FutureWarning: 'multi_class' was deprecated in version 1.5 and will be removed in 1.7. From then on, it will always use 'multinomial'. Leave it to its default value to avoid this warning.\n  warnings.warn(\n"
          ]
        },
        {
          "output_type": "stream",
          "name": "stderr",
          "text": [
            "/usr/local/lib/python3.11/dist-packages/sklearn/linear_model/_logistic.py:1247: FutureWarning: 'multi_class' was deprecated in version 1.5 and will be removed in 1.7. From then on, it will always use 'multinomial'. Leave it to its default value to avoid this warning.\n  warnings.warn(\n"
          ]
        },
        {
          "output_type": "stream",
          "name": "stderr",
          "text": [
            "/usr/local/lib/python3.11/dist-packages/sklearn/linear_model/_logistic.py:1247: FutureWarning: 'multi_class' was deprecated in version 1.5 and will be removed in 1.7. From then on, it will always use 'multinomial'. Leave it to its default value to avoid this warning.\n  warnings.warn(\n"
          ]
        },
        {
          "output_type": "stream",
          "name": "stderr",
          "text": [
            "/usr/local/lib/python3.11/dist-packages/sklearn/linear_model/_logistic.py:1247: FutureWarning: 'multi_class' was deprecated in version 1.5 and will be removed in 1.7. From then on, it will always use 'multinomial'. Leave it to its default value to avoid this warning.\n  warnings.warn(\n"
          ]
        },
        {
          "output_type": "stream",
          "name": "stderr",
          "text": [
            "/usr/local/lib/python3.11/dist-packages/sklearn/linear_model/_logistic.py:1247: FutureWarning: 'multi_class' was deprecated in version 1.5 and will be removed in 1.7. From then on, it will always use 'multinomial'. Leave it to its default value to avoid this warning.\n  warnings.warn(\n"
          ]
        },
        {
          "output_type": "stream",
          "name": "stderr",
          "text": [
            "/usr/local/lib/python3.11/dist-packages/sklearn/linear_model/_logistic.py:1247: FutureWarning: 'multi_class' was deprecated in version 1.5 and will be removed in 1.7. From then on, it will always use 'multinomial'. Leave it to its default value to avoid this warning.\n  warnings.warn(\n"
          ]
        },
        {
          "output_type": "stream",
          "name": "stderr",
          "text": [
            "/usr/local/lib/python3.11/dist-packages/sklearn/linear_model/_logistic.py:1247: FutureWarning: 'multi_class' was deprecated in version 1.5 and will be removed in 1.7. From then on, it will always use 'multinomial'. Leave it to its default value to avoid this warning.\n  warnings.warn(\n"
          ]
        },
        {
          "output_type": "stream",
          "name": "stderr",
          "text": [
            "/usr/local/lib/python3.11/dist-packages/sklearn/linear_model/_logistic.py:1247: FutureWarning: 'multi_class' was deprecated in version 1.5 and will be removed in 1.7. From then on, it will always use 'multinomial'. Leave it to its default value to avoid this warning.\n  warnings.warn(\n"
          ]
        },
        {
          "output_type": "stream",
          "name": "stdout",
          "text": [
            "  Fold 0: tr=3714 va=960 bestC=0.25 innerLL=0.35023 elapsed=8.30s\n"
          ]
        },
        {
          "output_type": "stream",
          "name": "stderr",
          "text": [
            "/usr/local/lib/python3.11/dist-packages/sklearn/linear_model/_logistic.py:1247: FutureWarning: 'multi_class' was deprecated in version 1.5 and will be removed in 1.7. From then on, it will always use 'multinomial'. Leave it to its default value to avoid this warning.\n  warnings.warn(\n"
          ]
        },
        {
          "output_type": "stream",
          "name": "stderr",
          "text": [
            "/usr/local/lib/python3.11/dist-packages/sklearn/linear_model/_logistic.py:1247: FutureWarning: 'multi_class' was deprecated in version 1.5 and will be removed in 1.7. From then on, it will always use 'multinomial'. Leave it to its default value to avoid this warning.\n  warnings.warn(\n"
          ]
        },
        {
          "output_type": "stream",
          "name": "stderr",
          "text": [
            "/usr/local/lib/python3.11/dist-packages/sklearn/linear_model/_logistic.py:1247: FutureWarning: 'multi_class' was deprecated in version 1.5 and will be removed in 1.7. From then on, it will always use 'multinomial'. Leave it to its default value to avoid this warning.\n  warnings.warn(\n"
          ]
        },
        {
          "output_type": "stream",
          "name": "stderr",
          "text": [
            "/usr/local/lib/python3.11/dist-packages/sklearn/linear_model/_logistic.py:1247: FutureWarning: 'multi_class' was deprecated in version 1.5 and will be removed in 1.7. From then on, it will always use 'multinomial'. Leave it to its default value to avoid this warning.\n  warnings.warn(\n"
          ]
        },
        {
          "output_type": "stream",
          "name": "stderr",
          "text": [
            "/usr/local/lib/python3.11/dist-packages/sklearn/linear_model/_logistic.py:1247: FutureWarning: 'multi_class' was deprecated in version 1.5 and will be removed in 1.7. From then on, it will always use 'multinomial'. Leave it to its default value to avoid this warning.\n  warnings.warn(\n"
          ]
        },
        {
          "output_type": "stream",
          "name": "stderr",
          "text": [
            "/usr/local/lib/python3.11/dist-packages/sklearn/linear_model/_logistic.py:1247: FutureWarning: 'multi_class' was deprecated in version 1.5 and will be removed in 1.7. From then on, it will always use 'multinomial'. Leave it to its default value to avoid this warning.\n  warnings.warn(\n"
          ]
        },
        {
          "output_type": "stream",
          "name": "stderr",
          "text": [
            "/usr/local/lib/python3.11/dist-packages/sklearn/linear_model/_logistic.py:1247: FutureWarning: 'multi_class' was deprecated in version 1.5 and will be removed in 1.7. From then on, it will always use 'multinomial'. Leave it to its default value to avoid this warning.\n  warnings.warn(\n"
          ]
        },
        {
          "output_type": "stream",
          "name": "stderr",
          "text": [
            "/usr/local/lib/python3.11/dist-packages/sklearn/linear_model/_logistic.py:1247: FutureWarning: 'multi_class' was deprecated in version 1.5 and will be removed in 1.7. From then on, it will always use 'multinomial'. Leave it to its default value to avoid this warning.\n  warnings.warn(\n"
          ]
        },
        {
          "output_type": "stream",
          "name": "stderr",
          "text": [
            "/usr/local/lib/python3.11/dist-packages/sklearn/linear_model/_logistic.py:1247: FutureWarning: 'multi_class' was deprecated in version 1.5 and will be removed in 1.7. From then on, it will always use 'multinomial'. Leave it to its default value to avoid this warning.\n  warnings.warn(\n"
          ]
        },
        {
          "output_type": "stream",
          "name": "stderr",
          "text": [
            "/usr/local/lib/python3.11/dist-packages/sklearn/linear_model/_logistic.py:1247: FutureWarning: 'multi_class' was deprecated in version 1.5 and will be removed in 1.7. From then on, it will always use 'multinomial'. Leave it to its default value to avoid this warning.\n  warnings.warn(\n"
          ]
        },
        {
          "output_type": "stream",
          "name": "stderr",
          "text": [
            "/usr/local/lib/python3.11/dist-packages/sklearn/linear_model/_logistic.py:1247: FutureWarning: 'multi_class' was deprecated in version 1.5 and will be removed in 1.7. From then on, it will always use 'multinomial'. Leave it to its default value to avoid this warning.\n  warnings.warn(\n"
          ]
        },
        {
          "output_type": "stream",
          "name": "stderr",
          "text": [
            "/usr/local/lib/python3.11/dist-packages/sklearn/linear_model/_logistic.py:1247: FutureWarning: 'multi_class' was deprecated in version 1.5 and will be removed in 1.7. From then on, it will always use 'multinomial'. Leave it to its default value to avoid this warning.\n  warnings.warn(\n"
          ]
        },
        {
          "output_type": "stream",
          "name": "stderr",
          "text": [
            "/usr/local/lib/python3.11/dist-packages/sklearn/linear_model/_logistic.py:1247: FutureWarning: 'multi_class' was deprecated in version 1.5 and will be removed in 1.7. From then on, it will always use 'multinomial'. Leave it to its default value to avoid this warning.\n  warnings.warn(\n"
          ]
        },
        {
          "output_type": "stream",
          "name": "stderr",
          "text": [
            "/usr/local/lib/python3.11/dist-packages/sklearn/linear_model/_logistic.py:1247: FutureWarning: 'multi_class' was deprecated in version 1.5 and will be removed in 1.7. From then on, it will always use 'multinomial'. Leave it to its default value to avoid this warning.\n  warnings.warn(\n"
          ]
        },
        {
          "output_type": "stream",
          "name": "stderr",
          "text": [
            "/usr/local/lib/python3.11/dist-packages/sklearn/linear_model/_logistic.py:1247: FutureWarning: 'multi_class' was deprecated in version 1.5 and will be removed in 1.7. From then on, it will always use 'multinomial'. Leave it to its default value to avoid this warning.\n  warnings.warn(\n"
          ]
        },
        {
          "output_type": "stream",
          "name": "stderr",
          "text": [
            "/usr/local/lib/python3.11/dist-packages/sklearn/linear_model/_logistic.py:1247: FutureWarning: 'multi_class' was deprecated in version 1.5 and will be removed in 1.7. From then on, it will always use 'multinomial'. Leave it to its default value to avoid this warning.\n  warnings.warn(\n"
          ]
        },
        {
          "output_type": "stream",
          "name": "stdout",
          "text": [
            "  Fold 1: tr=3733 va=941 bestC=0.25 innerLL=0.35622 elapsed=17.09s\n"
          ]
        },
        {
          "output_type": "stream",
          "name": "stderr",
          "text": [
            "/usr/local/lib/python3.11/dist-packages/sklearn/linear_model/_logistic.py:1247: FutureWarning: 'multi_class' was deprecated in version 1.5 and will be removed in 1.7. From then on, it will always use 'multinomial'. Leave it to its default value to avoid this warning.\n  warnings.warn(\n"
          ]
        },
        {
          "output_type": "stream",
          "name": "stderr",
          "text": [
            "/usr/local/lib/python3.11/dist-packages/sklearn/linear_model/_logistic.py:1247: FutureWarning: 'multi_class' was deprecated in version 1.5 and will be removed in 1.7. From then on, it will always use 'multinomial'. Leave it to its default value to avoid this warning.\n  warnings.warn(\n"
          ]
        },
        {
          "output_type": "stream",
          "name": "stderr",
          "text": [
            "/usr/local/lib/python3.11/dist-packages/sklearn/linear_model/_logistic.py:1247: FutureWarning: 'multi_class' was deprecated in version 1.5 and will be removed in 1.7. From then on, it will always use 'multinomial'. Leave it to its default value to avoid this warning.\n  warnings.warn(\n"
          ]
        },
        {
          "output_type": "stream",
          "name": "stderr",
          "text": [
            "/usr/local/lib/python3.11/dist-packages/sklearn/linear_model/_logistic.py:1247: FutureWarning: 'multi_class' was deprecated in version 1.5 and will be removed in 1.7. From then on, it will always use 'multinomial'. Leave it to its default value to avoid this warning.\n  warnings.warn(\n"
          ]
        },
        {
          "output_type": "stream",
          "name": "stderr",
          "text": [
            "/usr/local/lib/python3.11/dist-packages/sklearn/linear_model/_logistic.py:1247: FutureWarning: 'multi_class' was deprecated in version 1.5 and will be removed in 1.7. From then on, it will always use 'multinomial'. Leave it to its default value to avoid this warning.\n  warnings.warn(\n"
          ]
        },
        {
          "output_type": "stream",
          "name": "stderr",
          "text": [
            "/usr/local/lib/python3.11/dist-packages/sklearn/linear_model/_logistic.py:1247: FutureWarning: 'multi_class' was deprecated in version 1.5 and will be removed in 1.7. From then on, it will always use 'multinomial'. Leave it to its default value to avoid this warning.\n  warnings.warn(\n"
          ]
        },
        {
          "output_type": "stream",
          "name": "stderr",
          "text": [
            "/usr/local/lib/python3.11/dist-packages/sklearn/linear_model/_logistic.py:1247: FutureWarning: 'multi_class' was deprecated in version 1.5 and will be removed in 1.7. From then on, it will always use 'multinomial'. Leave it to its default value to avoid this warning.\n  warnings.warn(\n"
          ]
        },
        {
          "output_type": "stream",
          "name": "stderr",
          "text": [
            "/usr/local/lib/python3.11/dist-packages/sklearn/linear_model/_logistic.py:1247: FutureWarning: 'multi_class' was deprecated in version 1.5 and will be removed in 1.7. From then on, it will always use 'multinomial'. Leave it to its default value to avoid this warning.\n  warnings.warn(\n"
          ]
        },
        {
          "output_type": "stream",
          "name": "stderr",
          "text": [
            "/usr/local/lib/python3.11/dist-packages/sklearn/linear_model/_logistic.py:1247: FutureWarning: 'multi_class' was deprecated in version 1.5 and will be removed in 1.7. From then on, it will always use 'multinomial'. Leave it to its default value to avoid this warning.\n  warnings.warn(\n"
          ]
        },
        {
          "output_type": "stream",
          "name": "stderr",
          "text": [
            "/usr/local/lib/python3.11/dist-packages/sklearn/linear_model/_logistic.py:1247: FutureWarning: 'multi_class' was deprecated in version 1.5 and will be removed in 1.7. From then on, it will always use 'multinomial'. Leave it to its default value to avoid this warning.\n  warnings.warn(\n"
          ]
        },
        {
          "output_type": "stream",
          "name": "stderr",
          "text": [
            "/usr/local/lib/python3.11/dist-packages/sklearn/linear_model/_logistic.py:1247: FutureWarning: 'multi_class' was deprecated in version 1.5 and will be removed in 1.7. From then on, it will always use 'multinomial'. Leave it to its default value to avoid this warning.\n  warnings.warn(\n"
          ]
        },
        {
          "output_type": "stream",
          "name": "stderr",
          "text": [
            "/usr/local/lib/python3.11/dist-packages/sklearn/linear_model/_logistic.py:1247: FutureWarning: 'multi_class' was deprecated in version 1.5 and will be removed in 1.7. From then on, it will always use 'multinomial'. Leave it to its default value to avoid this warning.\n  warnings.warn(\n"
          ]
        },
        {
          "output_type": "stream",
          "name": "stderr",
          "text": [
            "/usr/local/lib/python3.11/dist-packages/sklearn/linear_model/_logistic.py:1247: FutureWarning: 'multi_class' was deprecated in version 1.5 and will be removed in 1.7. From then on, it will always use 'multinomial'. Leave it to its default value to avoid this warning.\n  warnings.warn(\n"
          ]
        },
        {
          "output_type": "stream",
          "name": "stderr",
          "text": [
            "/usr/local/lib/python3.11/dist-packages/sklearn/linear_model/_logistic.py:1247: FutureWarning: 'multi_class' was deprecated in version 1.5 and will be removed in 1.7. From then on, it will always use 'multinomial'. Leave it to its default value to avoid this warning.\n  warnings.warn(\n"
          ]
        },
        {
          "output_type": "stream",
          "name": "stderr",
          "text": [
            "/usr/local/lib/python3.11/dist-packages/sklearn/linear_model/_logistic.py:1247: FutureWarning: 'multi_class' was deprecated in version 1.5 and will be removed in 1.7. From then on, it will always use 'multinomial'. Leave it to its default value to avoid this warning.\n  warnings.warn(\n"
          ]
        },
        {
          "output_type": "stream",
          "name": "stderr",
          "text": [
            "/usr/local/lib/python3.11/dist-packages/sklearn/linear_model/_logistic.py:1247: FutureWarning: 'multi_class' was deprecated in version 1.5 and will be removed in 1.7. From then on, it will always use 'multinomial'. Leave it to its default value to avoid this warning.\n  warnings.warn(\n"
          ]
        },
        {
          "output_type": "stream",
          "name": "stdout",
          "text": [
            "  Fold 2: tr=3706 va=968 bestC=0.25 innerLL=0.35013 elapsed=25.73s\n"
          ]
        },
        {
          "output_type": "stream",
          "name": "stderr",
          "text": [
            "/usr/local/lib/python3.11/dist-packages/sklearn/linear_model/_logistic.py:1247: FutureWarning: 'multi_class' was deprecated in version 1.5 and will be removed in 1.7. From then on, it will always use 'multinomial'. Leave it to its default value to avoid this warning.\n  warnings.warn(\n"
          ]
        },
        {
          "output_type": "stream",
          "name": "stderr",
          "text": [
            "/usr/local/lib/python3.11/dist-packages/sklearn/linear_model/_logistic.py:1247: FutureWarning: 'multi_class' was deprecated in version 1.5 and will be removed in 1.7. From then on, it will always use 'multinomial'. Leave it to its default value to avoid this warning.\n  warnings.warn(\n"
          ]
        },
        {
          "output_type": "stream",
          "name": "stderr",
          "text": [
            "/usr/local/lib/python3.11/dist-packages/sklearn/linear_model/_logistic.py:1247: FutureWarning: 'multi_class' was deprecated in version 1.5 and will be removed in 1.7. From then on, it will always use 'multinomial'. Leave it to its default value to avoid this warning.\n  warnings.warn(\n"
          ]
        },
        {
          "output_type": "stream",
          "name": "stderr",
          "text": [
            "/usr/local/lib/python3.11/dist-packages/sklearn/linear_model/_logistic.py:1247: FutureWarning: 'multi_class' was deprecated in version 1.5 and will be removed in 1.7. From then on, it will always use 'multinomial'. Leave it to its default value to avoid this warning.\n  warnings.warn(\n"
          ]
        },
        {
          "output_type": "stream",
          "name": "stderr",
          "text": [
            "/usr/local/lib/python3.11/dist-packages/sklearn/linear_model/_logistic.py:1247: FutureWarning: 'multi_class' was deprecated in version 1.5 and will be removed in 1.7. From then on, it will always use 'multinomial'. Leave it to its default value to avoid this warning.\n  warnings.warn(\n"
          ]
        },
        {
          "output_type": "stream",
          "name": "stderr",
          "text": [
            "/usr/local/lib/python3.11/dist-packages/sklearn/linear_model/_logistic.py:1247: FutureWarning: 'multi_class' was deprecated in version 1.5 and will be removed in 1.7. From then on, it will always use 'multinomial'. Leave it to its default value to avoid this warning.\n  warnings.warn(\n"
          ]
        },
        {
          "output_type": "stream",
          "name": "stderr",
          "text": [
            "/usr/local/lib/python3.11/dist-packages/sklearn/linear_model/_logistic.py:1247: FutureWarning: 'multi_class' was deprecated in version 1.5 and will be removed in 1.7. From then on, it will always use 'multinomial'. Leave it to its default value to avoid this warning.\n  warnings.warn(\n"
          ]
        },
        {
          "output_type": "stream",
          "name": "stderr",
          "text": [
            "/usr/local/lib/python3.11/dist-packages/sklearn/linear_model/_logistic.py:1247: FutureWarning: 'multi_class' was deprecated in version 1.5 and will be removed in 1.7. From then on, it will always use 'multinomial'. Leave it to its default value to avoid this warning.\n  warnings.warn(\n"
          ]
        },
        {
          "output_type": "stream",
          "name": "stderr",
          "text": [
            "/usr/local/lib/python3.11/dist-packages/sklearn/linear_model/_logistic.py:1247: FutureWarning: 'multi_class' was deprecated in version 1.5 and will be removed in 1.7. From then on, it will always use 'multinomial'. Leave it to its default value to avoid this warning.\n  warnings.warn(\n"
          ]
        },
        {
          "output_type": "stream",
          "name": "stderr",
          "text": [
            "/usr/local/lib/python3.11/dist-packages/sklearn/linear_model/_logistic.py:1247: FutureWarning: 'multi_class' was deprecated in version 1.5 and will be removed in 1.7. From then on, it will always use 'multinomial'. Leave it to its default value to avoid this warning.\n  warnings.warn(\n"
          ]
        },
        {
          "output_type": "stream",
          "name": "stderr",
          "text": [
            "/usr/local/lib/python3.11/dist-packages/sklearn/linear_model/_logistic.py:1247: FutureWarning: 'multi_class' was deprecated in version 1.5 and will be removed in 1.7. From then on, it will always use 'multinomial'. Leave it to its default value to avoid this warning.\n  warnings.warn(\n"
          ]
        },
        {
          "output_type": "stream",
          "name": "stderr",
          "text": [
            "/usr/local/lib/python3.11/dist-packages/sklearn/linear_model/_logistic.py:1247: FutureWarning: 'multi_class' was deprecated in version 1.5 and will be removed in 1.7. From then on, it will always use 'multinomial'. Leave it to its default value to avoid this warning.\n  warnings.warn(\n"
          ]
        },
        {
          "output_type": "stream",
          "name": "stderr",
          "text": [
            "/usr/local/lib/python3.11/dist-packages/sklearn/linear_model/_logistic.py:1247: FutureWarning: 'multi_class' was deprecated in version 1.5 and will be removed in 1.7. From then on, it will always use 'multinomial'. Leave it to its default value to avoid this warning.\n  warnings.warn(\n"
          ]
        },
        {
          "output_type": "stream",
          "name": "stderr",
          "text": [
            "/usr/local/lib/python3.11/dist-packages/sklearn/linear_model/_logistic.py:1247: FutureWarning: 'multi_class' was deprecated in version 1.5 and will be removed in 1.7. From then on, it will always use 'multinomial'. Leave it to its default value to avoid this warning.\n  warnings.warn(\n"
          ]
        },
        {
          "output_type": "stream",
          "name": "stderr",
          "text": [
            "/usr/local/lib/python3.11/dist-packages/sklearn/linear_model/_logistic.py:1247: FutureWarning: 'multi_class' was deprecated in version 1.5 and will be removed in 1.7. From then on, it will always use 'multinomial'. Leave it to its default value to avoid this warning.\n  warnings.warn(\n"
          ]
        },
        {
          "output_type": "stream",
          "name": "stderr",
          "text": [
            "/usr/local/lib/python3.11/dist-packages/sklearn/linear_model/_logistic.py:1247: FutureWarning: 'multi_class' was deprecated in version 1.5 and will be removed in 1.7. From then on, it will always use 'multinomial'. Leave it to its default value to avoid this warning.\n  warnings.warn(\n"
          ]
        },
        {
          "output_type": "stream",
          "name": "stdout",
          "text": [
            "  Fold 3: tr=3777 va=897 bestC=0.25 innerLL=0.36791 elapsed=32.79s\n"
          ]
        },
        {
          "output_type": "stream",
          "name": "stderr",
          "text": [
            "/usr/local/lib/python3.11/dist-packages/sklearn/linear_model/_logistic.py:1247: FutureWarning: 'multi_class' was deprecated in version 1.5 and will be removed in 1.7. From then on, it will always use 'multinomial'. Leave it to its default value to avoid this warning.\n  warnings.warn(\n"
          ]
        },
        {
          "output_type": "stream",
          "name": "stderr",
          "text": [
            "/usr/local/lib/python3.11/dist-packages/sklearn/linear_model/_logistic.py:1247: FutureWarning: 'multi_class' was deprecated in version 1.5 and will be removed in 1.7. From then on, it will always use 'multinomial'. Leave it to its default value to avoid this warning.\n  warnings.warn(\n"
          ]
        },
        {
          "output_type": "stream",
          "name": "stderr",
          "text": [
            "/usr/local/lib/python3.11/dist-packages/sklearn/linear_model/_logistic.py:1247: FutureWarning: 'multi_class' was deprecated in version 1.5 and will be removed in 1.7. From then on, it will always use 'multinomial'. Leave it to its default value to avoid this warning.\n  warnings.warn(\n"
          ]
        },
        {
          "output_type": "stream",
          "name": "stderr",
          "text": [
            "/usr/local/lib/python3.11/dist-packages/sklearn/linear_model/_logistic.py:1247: FutureWarning: 'multi_class' was deprecated in version 1.5 and will be removed in 1.7. From then on, it will always use 'multinomial'. Leave it to its default value to avoid this warning.\n  warnings.warn(\n"
          ]
        },
        {
          "output_type": "stream",
          "name": "stderr",
          "text": [
            "/usr/local/lib/python3.11/dist-packages/sklearn/linear_model/_logistic.py:1247: FutureWarning: 'multi_class' was deprecated in version 1.5 and will be removed in 1.7. From then on, it will always use 'multinomial'. Leave it to its default value to avoid this warning.\n  warnings.warn(\n"
          ]
        },
        {
          "output_type": "stream",
          "name": "stderr",
          "text": [
            "/usr/local/lib/python3.11/dist-packages/sklearn/linear_model/_logistic.py:1247: FutureWarning: 'multi_class' was deprecated in version 1.5 and will be removed in 1.7. From then on, it will always use 'multinomial'. Leave it to its default value to avoid this warning.\n  warnings.warn(\n"
          ]
        },
        {
          "output_type": "stream",
          "name": "stderr",
          "text": [
            "/usr/local/lib/python3.11/dist-packages/sklearn/linear_model/_logistic.py:1247: FutureWarning: 'multi_class' was deprecated in version 1.5 and will be removed in 1.7. From then on, it will always use 'multinomial'. Leave it to its default value to avoid this warning.\n  warnings.warn(\n"
          ]
        },
        {
          "output_type": "stream",
          "name": "stderr",
          "text": [
            "/usr/local/lib/python3.11/dist-packages/sklearn/linear_model/_logistic.py:1247: FutureWarning: 'multi_class' was deprecated in version 1.5 and will be removed in 1.7. From then on, it will always use 'multinomial'. Leave it to its default value to avoid this warning.\n  warnings.warn(\n"
          ]
        },
        {
          "output_type": "stream",
          "name": "stderr",
          "text": [
            "/usr/local/lib/python3.11/dist-packages/sklearn/linear_model/_logistic.py:1247: FutureWarning: 'multi_class' was deprecated in version 1.5 and will be removed in 1.7. From then on, it will always use 'multinomial'. Leave it to its default value to avoid this warning.\n  warnings.warn(\n"
          ]
        },
        {
          "output_type": "stream",
          "name": "stderr",
          "text": [
            "/usr/local/lib/python3.11/dist-packages/sklearn/linear_model/_logistic.py:1247: FutureWarning: 'multi_class' was deprecated in version 1.5 and will be removed in 1.7. From then on, it will always use 'multinomial'. Leave it to its default value to avoid this warning.\n  warnings.warn(\n"
          ]
        },
        {
          "output_type": "stream",
          "name": "stderr",
          "text": [
            "/usr/local/lib/python3.11/dist-packages/sklearn/linear_model/_logistic.py:1247: FutureWarning: 'multi_class' was deprecated in version 1.5 and will be removed in 1.7. From then on, it will always use 'multinomial'. Leave it to its default value to avoid this warning.\n  warnings.warn(\n"
          ]
        },
        {
          "output_type": "stream",
          "name": "stderr",
          "text": [
            "/usr/local/lib/python3.11/dist-packages/sklearn/linear_model/_logistic.py:1247: FutureWarning: 'multi_class' was deprecated in version 1.5 and will be removed in 1.7. From then on, it will always use 'multinomial'. Leave it to its default value to avoid this warning.\n  warnings.warn(\n"
          ]
        },
        {
          "output_type": "stream",
          "name": "stderr",
          "text": [
            "/usr/local/lib/python3.11/dist-packages/sklearn/linear_model/_logistic.py:1247: FutureWarning: 'multi_class' was deprecated in version 1.5 and will be removed in 1.7. From then on, it will always use 'multinomial'. Leave it to its default value to avoid this warning.\n  warnings.warn(\n"
          ]
        },
        {
          "output_type": "stream",
          "name": "stderr",
          "text": [
            "/usr/local/lib/python3.11/dist-packages/sklearn/linear_model/_logistic.py:1247: FutureWarning: 'multi_class' was deprecated in version 1.5 and will be removed in 1.7. From then on, it will always use 'multinomial'. Leave it to its default value to avoid this warning.\n  warnings.warn(\n"
          ]
        },
        {
          "output_type": "stream",
          "name": "stderr",
          "text": [
            "/usr/local/lib/python3.11/dist-packages/sklearn/linear_model/_logistic.py:1247: FutureWarning: 'multi_class' was deprecated in version 1.5 and will be removed in 1.7. From then on, it will always use 'multinomial'. Leave it to its default value to avoid this warning.\n  warnings.warn(\n"
          ]
        },
        {
          "output_type": "stream",
          "name": "stderr",
          "text": [
            "/usr/local/lib/python3.11/dist-packages/sklearn/linear_model/_logistic.py:1247: FutureWarning: 'multi_class' was deprecated in version 1.5 and will be removed in 1.7. From then on, it will always use 'multinomial'. Leave it to its default value to avoid this warning.\n  warnings.warn(\n"
          ]
        },
        {
          "output_type": "stream",
          "name": "stdout",
          "text": [
            "  Fold 4: tr=3766 va=908 bestC=0.25 innerLL=0.35783 elapsed=41.16s\n"
          ]
        },
        {
          "output_type": "stream",
          "name": "stdout",
          "text": [
            "  Bin 1 done in 41.16s\n"
          ]
        },
        {
          "output_type": "stream",
          "name": "stdout",
          "text": [
            "Bin 2 (mid): n_tr=4698 n_te=506\n"
          ]
        },
        {
          "output_type": "stream",
          "name": "stderr",
          "text": [
            "/usr/local/lib/python3.11/dist-packages/sklearn/linear_model/_logistic.py:1247: FutureWarning: 'multi_class' was deprecated in version 1.5 and will be removed in 1.7. From then on, it will always use 'multinomial'. Leave it to its default value to avoid this warning.\n  warnings.warn(\n"
          ]
        },
        {
          "output_type": "stream",
          "name": "stderr",
          "text": [
            "/usr/local/lib/python3.11/dist-packages/sklearn/linear_model/_logistic.py:1247: FutureWarning: 'multi_class' was deprecated in version 1.5 and will be removed in 1.7. From then on, it will always use 'multinomial'. Leave it to its default value to avoid this warning.\n  warnings.warn(\n/usr/local/lib/python3.11/dist-packages/sklearn/linear_model/_logistic.py:1247: FutureWarning: 'multi_class' was deprecated in version 1.5 and will be removed in 1.7. From then on, it will always use 'multinomial'. Leave it to its default value to avoid this warning.\n  warnings.warn(\n"
          ]
        },
        {
          "output_type": "stream",
          "name": "stderr",
          "text": [
            "/usr/local/lib/python3.11/dist-packages/sklearn/linear_model/_logistic.py:1247: FutureWarning: 'multi_class' was deprecated in version 1.5 and will be removed in 1.7. From then on, it will always use 'multinomial'. Leave it to its default value to avoid this warning.\n  warnings.warn(\n"
          ]
        },
        {
          "output_type": "stream",
          "name": "stderr",
          "text": [
            "/usr/local/lib/python3.11/dist-packages/sklearn/linear_model/_logistic.py:1247: FutureWarning: 'multi_class' was deprecated in version 1.5 and will be removed in 1.7. From then on, it will always use 'multinomial'. Leave it to its default value to avoid this warning.\n  warnings.warn(\n"
          ]
        },
        {
          "output_type": "stream",
          "name": "stderr",
          "text": [
            "/usr/local/lib/python3.11/dist-packages/sklearn/linear_model/_logistic.py:1247: FutureWarning: 'multi_class' was deprecated in version 1.5 and will be removed in 1.7. From then on, it will always use 'multinomial'. Leave it to its default value to avoid this warning.\n  warnings.warn(\n"
          ]
        },
        {
          "output_type": "stream",
          "name": "stderr",
          "text": [
            "/usr/local/lib/python3.11/dist-packages/sklearn/linear_model/_logistic.py:1247: FutureWarning: 'multi_class' was deprecated in version 1.5 and will be removed in 1.7. From then on, it will always use 'multinomial'. Leave it to its default value to avoid this warning.\n  warnings.warn(\n"
          ]
        },
        {
          "output_type": "stream",
          "name": "stderr",
          "text": [
            "/usr/local/lib/python3.11/dist-packages/sklearn/linear_model/_logistic.py:1247: FutureWarning: 'multi_class' was deprecated in version 1.5 and will be removed in 1.7. From then on, it will always use 'multinomial'. Leave it to its default value to avoid this warning.\n  warnings.warn(\n"
          ]
        },
        {
          "output_type": "stream",
          "name": "stderr",
          "text": [
            "/usr/local/lib/python3.11/dist-packages/sklearn/linear_model/_logistic.py:1247: FutureWarning: 'multi_class' was deprecated in version 1.5 and will be removed in 1.7. From then on, it will always use 'multinomial'. Leave it to its default value to avoid this warning.\n  warnings.warn(\n"
          ]
        },
        {
          "output_type": "stream",
          "name": "stderr",
          "text": [
            "/usr/local/lib/python3.11/dist-packages/sklearn/linear_model/_logistic.py:1247: FutureWarning: 'multi_class' was deprecated in version 1.5 and will be removed in 1.7. From then on, it will always use 'multinomial'. Leave it to its default value to avoid this warning.\n  warnings.warn(\n"
          ]
        },
        {
          "output_type": "stream",
          "name": "stderr",
          "text": [
            "/usr/local/lib/python3.11/dist-packages/sklearn/linear_model/_logistic.py:1247: FutureWarning: 'multi_class' was deprecated in version 1.5 and will be removed in 1.7. From then on, it will always use 'multinomial'. Leave it to its default value to avoid this warning.\n  warnings.warn(\n"
          ]
        },
        {
          "output_type": "stream",
          "name": "stderr",
          "text": [
            "/usr/local/lib/python3.11/dist-packages/sklearn/linear_model/_logistic.py:1247: FutureWarning: 'multi_class' was deprecated in version 1.5 and will be removed in 1.7. From then on, it will always use 'multinomial'. Leave it to its default value to avoid this warning.\n  warnings.warn(\n"
          ]
        },
        {
          "output_type": "stream",
          "name": "stderr",
          "text": [
            "/usr/local/lib/python3.11/dist-packages/sklearn/linear_model/_logistic.py:1247: FutureWarning: 'multi_class' was deprecated in version 1.5 and will be removed in 1.7. From then on, it will always use 'multinomial'. Leave it to its default value to avoid this warning.\n  warnings.warn(\n"
          ]
        },
        {
          "output_type": "stream",
          "name": "stderr",
          "text": [
            "/usr/local/lib/python3.11/dist-packages/sklearn/linear_model/_logistic.py:1247: FutureWarning: 'multi_class' was deprecated in version 1.5 and will be removed in 1.7. From then on, it will always use 'multinomial'. Leave it to its default value to avoid this warning.\n  warnings.warn(\n"
          ]
        },
        {
          "output_type": "stream",
          "name": "stderr",
          "text": [
            "/usr/local/lib/python3.11/dist-packages/sklearn/linear_model/_logistic.py:1247: FutureWarning: 'multi_class' was deprecated in version 1.5 and will be removed in 1.7. From then on, it will always use 'multinomial'. Leave it to its default value to avoid this warning.\n  warnings.warn(\n"
          ]
        },
        {
          "output_type": "stream",
          "name": "stderr",
          "text": [
            "/usr/local/lib/python3.11/dist-packages/sklearn/linear_model/_logistic.py:1247: FutureWarning: 'multi_class' was deprecated in version 1.5 and will be removed in 1.7. From then on, it will always use 'multinomial'. Leave it to its default value to avoid this warning.\n  warnings.warn(\n"
          ]
        },
        {
          "output_type": "stream",
          "name": "stdout",
          "text": [
            "  Fold 0: tr=3729 va=969 bestC=0.25 innerLL=0.23343 elapsed=6.37s\n"
          ]
        },
        {
          "output_type": "stream",
          "name": "stderr",
          "text": [
            "/usr/local/lib/python3.11/dist-packages/sklearn/linear_model/_logistic.py:1247: FutureWarning: 'multi_class' was deprecated in version 1.5 and will be removed in 1.7. From then on, it will always use 'multinomial'. Leave it to its default value to avoid this warning.\n  warnings.warn(\n"
          ]
        },
        {
          "output_type": "stream",
          "name": "stderr",
          "text": [
            "/usr/local/lib/python3.11/dist-packages/sklearn/linear_model/_logistic.py:1247: FutureWarning: 'multi_class' was deprecated in version 1.5 and will be removed in 1.7. From then on, it will always use 'multinomial'. Leave it to its default value to avoid this warning.\n  warnings.warn(\n"
          ]
        },
        {
          "output_type": "stream",
          "name": "stderr",
          "text": [
            "/usr/local/lib/python3.11/dist-packages/sklearn/linear_model/_logistic.py:1247: FutureWarning: 'multi_class' was deprecated in version 1.5 and will be removed in 1.7. From then on, it will always use 'multinomial'. Leave it to its default value to avoid this warning.\n  warnings.warn(\n"
          ]
        },
        {
          "output_type": "stream",
          "name": "stderr",
          "text": [
            "/usr/local/lib/python3.11/dist-packages/sklearn/linear_model/_logistic.py:1247: FutureWarning: 'multi_class' was deprecated in version 1.5 and will be removed in 1.7. From then on, it will always use 'multinomial'. Leave it to its default value to avoid this warning.\n  warnings.warn(\n"
          ]
        },
        {
          "output_type": "stream",
          "name": "stderr",
          "text": [
            "/usr/local/lib/python3.11/dist-packages/sklearn/linear_model/_logistic.py:1247: FutureWarning: 'multi_class' was deprecated in version 1.5 and will be removed in 1.7. From then on, it will always use 'multinomial'. Leave it to its default value to avoid this warning.\n  warnings.warn(\n"
          ]
        },
        {
          "output_type": "stream",
          "name": "stderr",
          "text": [
            "/usr/local/lib/python3.11/dist-packages/sklearn/linear_model/_logistic.py:1247: FutureWarning: 'multi_class' was deprecated in version 1.5 and will be removed in 1.7. From then on, it will always use 'multinomial'. Leave it to its default value to avoid this warning.\n  warnings.warn(\n"
          ]
        },
        {
          "output_type": "stream",
          "name": "stderr",
          "text": [
            "/usr/local/lib/python3.11/dist-packages/sklearn/linear_model/_logistic.py:1247: FutureWarning: 'multi_class' was deprecated in version 1.5 and will be removed in 1.7. From then on, it will always use 'multinomial'. Leave it to its default value to avoid this warning.\n  warnings.warn(\n"
          ]
        },
        {
          "output_type": "stream",
          "name": "stderr",
          "text": [
            "/usr/local/lib/python3.11/dist-packages/sklearn/linear_model/_logistic.py:1247: FutureWarning: 'multi_class' was deprecated in version 1.5 and will be removed in 1.7. From then on, it will always use 'multinomial'. Leave it to its default value to avoid this warning.\n  warnings.warn(\n"
          ]
        },
        {
          "output_type": "stream",
          "name": "stderr",
          "text": [
            "/usr/local/lib/python3.11/dist-packages/sklearn/linear_model/_logistic.py:1247: FutureWarning: 'multi_class' was deprecated in version 1.5 and will be removed in 1.7. From then on, it will always use 'multinomial'. Leave it to its default value to avoid this warning.\n  warnings.warn(\n"
          ]
        },
        {
          "output_type": "stream",
          "name": "stderr",
          "text": [
            "/usr/local/lib/python3.11/dist-packages/sklearn/linear_model/_logistic.py:1247: FutureWarning: 'multi_class' was deprecated in version 1.5 and will be removed in 1.7. From then on, it will always use 'multinomial'. Leave it to its default value to avoid this warning.\n  warnings.warn(\n"
          ]
        },
        {
          "output_type": "stream",
          "name": "stderr",
          "text": [
            "/usr/local/lib/python3.11/dist-packages/sklearn/linear_model/_logistic.py:1247: FutureWarning: 'multi_class' was deprecated in version 1.5 and will be removed in 1.7. From then on, it will always use 'multinomial'. Leave it to its default value to avoid this warning.\n  warnings.warn(\n"
          ]
        },
        {
          "output_type": "stream",
          "name": "stderr",
          "text": [
            "/usr/local/lib/python3.11/dist-packages/sklearn/linear_model/_logistic.py:1247: FutureWarning: 'multi_class' was deprecated in version 1.5 and will be removed in 1.7. From then on, it will always use 'multinomial'. Leave it to its default value to avoid this warning.\n  warnings.warn(\n"
          ]
        },
        {
          "output_type": "stream",
          "name": "stderr",
          "text": [
            "/usr/local/lib/python3.11/dist-packages/sklearn/linear_model/_logistic.py:1247: FutureWarning: 'multi_class' was deprecated in version 1.5 and will be removed in 1.7. From then on, it will always use 'multinomial'. Leave it to its default value to avoid this warning.\n  warnings.warn(\n"
          ]
        },
        {
          "output_type": "stream",
          "name": "stderr",
          "text": [
            "/usr/local/lib/python3.11/dist-packages/sklearn/linear_model/_logistic.py:1247: FutureWarning: 'multi_class' was deprecated in version 1.5 and will be removed in 1.7. From then on, it will always use 'multinomial'. Leave it to its default value to avoid this warning.\n  warnings.warn(\n"
          ]
        },
        {
          "output_type": "stream",
          "name": "stderr",
          "text": [
            "/usr/local/lib/python3.11/dist-packages/sklearn/linear_model/_logistic.py:1247: FutureWarning: 'multi_class' was deprecated in version 1.5 and will be removed in 1.7. From then on, it will always use 'multinomial'. Leave it to its default value to avoid this warning.\n  warnings.warn(\n"
          ]
        },
        {
          "output_type": "stream",
          "name": "stderr",
          "text": [
            "/usr/local/lib/python3.11/dist-packages/sklearn/linear_model/_logistic.py:1247: FutureWarning: 'multi_class' was deprecated in version 1.5 and will be removed in 1.7. From then on, it will always use 'multinomial'. Leave it to its default value to avoid this warning.\n  warnings.warn(\n"
          ]
        },
        {
          "output_type": "stream",
          "name": "stdout",
          "text": [
            "  Fold 1: tr=3784 va=914 bestC=0.25 innerLL=0.22935 elapsed=12.09s\n"
          ]
        },
        {
          "output_type": "stream",
          "name": "stderr",
          "text": [
            "/usr/local/lib/python3.11/dist-packages/sklearn/linear_model/_logistic.py:1247: FutureWarning: 'multi_class' was deprecated in version 1.5 and will be removed in 1.7. From then on, it will always use 'multinomial'. Leave it to its default value to avoid this warning.\n  warnings.warn(\n"
          ]
        },
        {
          "output_type": "stream",
          "name": "stderr",
          "text": [
            "/usr/local/lib/python3.11/dist-packages/sklearn/linear_model/_logistic.py:1247: FutureWarning: 'multi_class' was deprecated in version 1.5 and will be removed in 1.7. From then on, it will always use 'multinomial'. Leave it to its default value to avoid this warning.\n  warnings.warn(\n"
          ]
        },
        {
          "output_type": "stream",
          "name": "stderr",
          "text": [
            "/usr/local/lib/python3.11/dist-packages/sklearn/linear_model/_logistic.py:1247: FutureWarning: 'multi_class' was deprecated in version 1.5 and will be removed in 1.7. From then on, it will always use 'multinomial'. Leave it to its default value to avoid this warning.\n  warnings.warn(\n"
          ]
        },
        {
          "output_type": "stream",
          "name": "stderr",
          "text": [
            "/usr/local/lib/python3.11/dist-packages/sklearn/linear_model/_logistic.py:1247: FutureWarning: 'multi_class' was deprecated in version 1.5 and will be removed in 1.7. From then on, it will always use 'multinomial'. Leave it to its default value to avoid this warning.\n  warnings.warn(\n"
          ]
        },
        {
          "output_type": "stream",
          "name": "stderr",
          "text": [
            "/usr/local/lib/python3.11/dist-packages/sklearn/linear_model/_logistic.py:1247: FutureWarning: 'multi_class' was deprecated in version 1.5 and will be removed in 1.7. From then on, it will always use 'multinomial'. Leave it to its default value to avoid this warning.\n  warnings.warn(\n"
          ]
        },
        {
          "output_type": "stream",
          "name": "stderr",
          "text": [
            "/usr/local/lib/python3.11/dist-packages/sklearn/linear_model/_logistic.py:1247: FutureWarning: 'multi_class' was deprecated in version 1.5 and will be removed in 1.7. From then on, it will always use 'multinomial'. Leave it to its default value to avoid this warning.\n  warnings.warn(\n"
          ]
        },
        {
          "output_type": "stream",
          "name": "stderr",
          "text": [
            "/usr/local/lib/python3.11/dist-packages/sklearn/linear_model/_logistic.py:1247: FutureWarning: 'multi_class' was deprecated in version 1.5 and will be removed in 1.7. From then on, it will always use 'multinomial'. Leave it to its default value to avoid this warning.\n  warnings.warn(\n"
          ]
        },
        {
          "output_type": "stream",
          "name": "stderr",
          "text": [
            "/usr/local/lib/python3.11/dist-packages/sklearn/linear_model/_logistic.py:1247: FutureWarning: 'multi_class' was deprecated in version 1.5 and will be removed in 1.7. From then on, it will always use 'multinomial'. Leave it to its default value to avoid this warning.\n  warnings.warn(\n"
          ]
        },
        {
          "output_type": "stream",
          "name": "stderr",
          "text": [
            "/usr/local/lib/python3.11/dist-packages/sklearn/linear_model/_logistic.py:1247: FutureWarning: 'multi_class' was deprecated in version 1.5 and will be removed in 1.7. From then on, it will always use 'multinomial'. Leave it to its default value to avoid this warning.\n  warnings.warn(\n"
          ]
        },
        {
          "output_type": "stream",
          "name": "stderr",
          "text": [
            "/usr/local/lib/python3.11/dist-packages/sklearn/linear_model/_logistic.py:1247: FutureWarning: 'multi_class' was deprecated in version 1.5 and will be removed in 1.7. From then on, it will always use 'multinomial'. Leave it to its default value to avoid this warning.\n  warnings.warn(\n"
          ]
        },
        {
          "output_type": "stream",
          "name": "stderr",
          "text": [
            "/usr/local/lib/python3.11/dist-packages/sklearn/linear_model/_logistic.py:1247: FutureWarning: 'multi_class' was deprecated in version 1.5 and will be removed in 1.7. From then on, it will always use 'multinomial'. Leave it to its default value to avoid this warning.\n  warnings.warn(\n"
          ]
        },
        {
          "output_type": "stream",
          "name": "stderr",
          "text": [
            "/usr/local/lib/python3.11/dist-packages/sklearn/linear_model/_logistic.py:1247: FutureWarning: 'multi_class' was deprecated in version 1.5 and will be removed in 1.7. From then on, it will always use 'multinomial'. Leave it to its default value to avoid this warning.\n  warnings.warn(\n"
          ]
        },
        {
          "output_type": "stream",
          "name": "stderr",
          "text": [
            "/usr/local/lib/python3.11/dist-packages/sklearn/linear_model/_logistic.py:1247: FutureWarning: 'multi_class' was deprecated in version 1.5 and will be removed in 1.7. From then on, it will always use 'multinomial'. Leave it to its default value to avoid this warning.\n  warnings.warn(\n"
          ]
        },
        {
          "output_type": "stream",
          "name": "stderr",
          "text": [
            "/usr/local/lib/python3.11/dist-packages/sklearn/linear_model/_logistic.py:1247: FutureWarning: 'multi_class' was deprecated in version 1.5 and will be removed in 1.7. From then on, it will always use 'multinomial'. Leave it to its default value to avoid this warning.\n  warnings.warn(\n"
          ]
        },
        {
          "output_type": "stream",
          "name": "stderr",
          "text": [
            "/usr/local/lib/python3.11/dist-packages/sklearn/linear_model/_logistic.py:1247: FutureWarning: 'multi_class' was deprecated in version 1.5 and will be removed in 1.7. From then on, it will always use 'multinomial'. Leave it to its default value to avoid this warning.\n  warnings.warn(\n"
          ]
        },
        {
          "output_type": "stream",
          "name": "stderr",
          "text": [
            "/usr/local/lib/python3.11/dist-packages/sklearn/linear_model/_logistic.py:1247: FutureWarning: 'multi_class' was deprecated in version 1.5 and will be removed in 1.7. From then on, it will always use 'multinomial'. Leave it to its default value to avoid this warning.\n  warnings.warn(\n"
          ]
        },
        {
          "output_type": "stream",
          "name": "stdout",
          "text": [
            "  Fold 2: tr=3755 va=943 bestC=0.25 innerLL=0.23265 elapsed=19.18s\n"
          ]
        },
        {
          "output_type": "stream",
          "name": "stderr",
          "text": [
            "/usr/local/lib/python3.11/dist-packages/sklearn/linear_model/_logistic.py:1247: FutureWarning: 'multi_class' was deprecated in version 1.5 and will be removed in 1.7. From then on, it will always use 'multinomial'. Leave it to its default value to avoid this warning.\n  warnings.warn(\n"
          ]
        },
        {
          "output_type": "stream",
          "name": "stderr",
          "text": [
            "/usr/local/lib/python3.11/dist-packages/sklearn/linear_model/_logistic.py:1247: FutureWarning: 'multi_class' was deprecated in version 1.5 and will be removed in 1.7. From then on, it will always use 'multinomial'. Leave it to its default value to avoid this warning.\n  warnings.warn(\n"
          ]
        },
        {
          "output_type": "stream",
          "name": "stderr",
          "text": [
            "/usr/local/lib/python3.11/dist-packages/sklearn/linear_model/_logistic.py:1247: FutureWarning: 'multi_class' was deprecated in version 1.5 and will be removed in 1.7. From then on, it will always use 'multinomial'. Leave it to its default value to avoid this warning.\n  warnings.warn(\n"
          ]
        },
        {
          "output_type": "stream",
          "name": "stderr",
          "text": [
            "/usr/local/lib/python3.11/dist-packages/sklearn/linear_model/_logistic.py:1247: FutureWarning: 'multi_class' was deprecated in version 1.5 and will be removed in 1.7. From then on, it will always use 'multinomial'. Leave it to its default value to avoid this warning.\n  warnings.warn(\n"
          ]
        },
        {
          "output_type": "stream",
          "name": "stderr",
          "text": [
            "/usr/local/lib/python3.11/dist-packages/sklearn/linear_model/_logistic.py:1247: FutureWarning: 'multi_class' was deprecated in version 1.5 and will be removed in 1.7. From then on, it will always use 'multinomial'. Leave it to its default value to avoid this warning.\n  warnings.warn(\n"
          ]
        },
        {
          "output_type": "stream",
          "name": "stderr",
          "text": [
            "/usr/local/lib/python3.11/dist-packages/sklearn/linear_model/_logistic.py:1247: FutureWarning: 'multi_class' was deprecated in version 1.5 and will be removed in 1.7. From then on, it will always use 'multinomial'. Leave it to its default value to avoid this warning.\n  warnings.warn(\n"
          ]
        },
        {
          "output_type": "stream",
          "name": "stderr",
          "text": [
            "/usr/local/lib/python3.11/dist-packages/sklearn/linear_model/_logistic.py:1247: FutureWarning: 'multi_class' was deprecated in version 1.5 and will be removed in 1.7. From then on, it will always use 'multinomial'. Leave it to its default value to avoid this warning.\n  warnings.warn(\n"
          ]
        },
        {
          "output_type": "stream",
          "name": "stderr",
          "text": [
            "/usr/local/lib/python3.11/dist-packages/sklearn/linear_model/_logistic.py:1247: FutureWarning: 'multi_class' was deprecated in version 1.5 and will be removed in 1.7. From then on, it will always use 'multinomial'. Leave it to its default value to avoid this warning.\n  warnings.warn(\n"
          ]
        },
        {
          "output_type": "stream",
          "name": "stderr",
          "text": [
            "/usr/local/lib/python3.11/dist-packages/sklearn/linear_model/_logistic.py:1247: FutureWarning: 'multi_class' was deprecated in version 1.5 and will be removed in 1.7. From then on, it will always use 'multinomial'. Leave it to its default value to avoid this warning.\n  warnings.warn(\n"
          ]
        },
        {
          "output_type": "stream",
          "name": "stderr",
          "text": [
            "/usr/local/lib/python3.11/dist-packages/sklearn/linear_model/_logistic.py:1247: FutureWarning: 'multi_class' was deprecated in version 1.5 and will be removed in 1.7. From then on, it will always use 'multinomial'. Leave it to its default value to avoid this warning.\n  warnings.warn(\n"
          ]
        },
        {
          "output_type": "stream",
          "name": "stderr",
          "text": [
            "/usr/local/lib/python3.11/dist-packages/sklearn/linear_model/_logistic.py:1247: FutureWarning: 'multi_class' was deprecated in version 1.5 and will be removed in 1.7. From then on, it will always use 'multinomial'. Leave it to its default value to avoid this warning.\n  warnings.warn(\n"
          ]
        },
        {
          "output_type": "stream",
          "name": "stderr",
          "text": [
            "/usr/local/lib/python3.11/dist-packages/sklearn/linear_model/_logistic.py:1247: FutureWarning: 'multi_class' was deprecated in version 1.5 and will be removed in 1.7. From then on, it will always use 'multinomial'. Leave it to its default value to avoid this warning.\n  warnings.warn(\n"
          ]
        },
        {
          "output_type": "stream",
          "name": "stderr",
          "text": [
            "/usr/local/lib/python3.11/dist-packages/sklearn/linear_model/_logistic.py:1247: FutureWarning: 'multi_class' was deprecated in version 1.5 and will be removed in 1.7. From then on, it will always use 'multinomial'. Leave it to its default value to avoid this warning.\n  warnings.warn(\n"
          ]
        },
        {
          "output_type": "stream",
          "name": "stderr",
          "text": [
            "/usr/local/lib/python3.11/dist-packages/sklearn/linear_model/_logistic.py:1247: FutureWarning: 'multi_class' was deprecated in version 1.5 and will be removed in 1.7. From then on, it will always use 'multinomial'. Leave it to its default value to avoid this warning.\n  warnings.warn(\n"
          ]
        },
        {
          "output_type": "stream",
          "name": "stderr",
          "text": [
            "/usr/local/lib/python3.11/dist-packages/sklearn/linear_model/_logistic.py:1247: FutureWarning: 'multi_class' was deprecated in version 1.5 and will be removed in 1.7. From then on, it will always use 'multinomial'. Leave it to its default value to avoid this warning.\n  warnings.warn(\n"
          ]
        },
        {
          "output_type": "stream",
          "name": "stderr",
          "text": [
            "/usr/local/lib/python3.11/dist-packages/sklearn/linear_model/_logistic.py:1247: FutureWarning: 'multi_class' was deprecated in version 1.5 and will be removed in 1.7. From then on, it will always use 'multinomial'. Leave it to its default value to avoid this warning.\n  warnings.warn(\n"
          ]
        },
        {
          "output_type": "stream",
          "name": "stdout",
          "text": [
            "  Fold 3: tr=3774 va=924 bestC=0.25 innerLL=0.23667 elapsed=26.79s\n"
          ]
        },
        {
          "output_type": "stream",
          "name": "stderr",
          "text": [
            "/usr/local/lib/python3.11/dist-packages/sklearn/linear_model/_logistic.py:1247: FutureWarning: 'multi_class' was deprecated in version 1.5 and will be removed in 1.7. From then on, it will always use 'multinomial'. Leave it to its default value to avoid this warning.\n  warnings.warn(\n"
          ]
        },
        {
          "output_type": "stream",
          "name": "stderr",
          "text": [
            "/usr/local/lib/python3.11/dist-packages/sklearn/linear_model/_logistic.py:1247: FutureWarning: 'multi_class' was deprecated in version 1.5 and will be removed in 1.7. From then on, it will always use 'multinomial'. Leave it to its default value to avoid this warning.\n  warnings.warn(\n"
          ]
        },
        {
          "output_type": "stream",
          "name": "stderr",
          "text": [
            "/usr/local/lib/python3.11/dist-packages/sklearn/linear_model/_logistic.py:1247: FutureWarning: 'multi_class' was deprecated in version 1.5 and will be removed in 1.7. From then on, it will always use 'multinomial'. Leave it to its default value to avoid this warning.\n  warnings.warn(\n/usr/local/lib/python3.11/dist-packages/sklearn/linear_model/_logistic.py:1247: FutureWarning: 'multi_class' was deprecated in version 1.5 and will be removed in 1.7. From then on, it will always use 'multinomial'. Leave it to its default value to avoid this warning.\n  warnings.warn(\n"
          ]
        },
        {
          "output_type": "stream",
          "name": "stderr",
          "text": [
            "/usr/local/lib/python3.11/dist-packages/sklearn/linear_model/_logistic.py:1247: FutureWarning: 'multi_class' was deprecated in version 1.5 and will be removed in 1.7. From then on, it will always use 'multinomial'. Leave it to its default value to avoid this warning.\n  warnings.warn(\n"
          ]
        },
        {
          "output_type": "stream",
          "name": "stderr",
          "text": [
            "/usr/local/lib/python3.11/dist-packages/sklearn/linear_model/_logistic.py:1247: FutureWarning: 'multi_class' was deprecated in version 1.5 and will be removed in 1.7. From then on, it will always use 'multinomial'. Leave it to its default value to avoid this warning.\n  warnings.warn(\n"
          ]
        },
        {
          "output_type": "stream",
          "name": "stderr",
          "text": [
            "/usr/local/lib/python3.11/dist-packages/sklearn/linear_model/_logistic.py:1247: FutureWarning: 'multi_class' was deprecated in version 1.5 and will be removed in 1.7. From then on, it will always use 'multinomial'. Leave it to its default value to avoid this warning.\n  warnings.warn(\n"
          ]
        },
        {
          "output_type": "stream",
          "name": "stderr",
          "text": [
            "/usr/local/lib/python3.11/dist-packages/sklearn/linear_model/_logistic.py:1247: FutureWarning: 'multi_class' was deprecated in version 1.5 and will be removed in 1.7. From then on, it will always use 'multinomial'. Leave it to its default value to avoid this warning.\n  warnings.warn(\n"
          ]
        },
        {
          "output_type": "stream",
          "name": "stderr",
          "text": [
            "/usr/local/lib/python3.11/dist-packages/sklearn/linear_model/_logistic.py:1247: FutureWarning: 'multi_class' was deprecated in version 1.5 and will be removed in 1.7. From then on, it will always use 'multinomial'. Leave it to its default value to avoid this warning.\n  warnings.warn(\n"
          ]
        },
        {
          "output_type": "stream",
          "name": "stderr",
          "text": [
            "/usr/local/lib/python3.11/dist-packages/sklearn/linear_model/_logistic.py:1247: FutureWarning: 'multi_class' was deprecated in version 1.5 and will be removed in 1.7. From then on, it will always use 'multinomial'. Leave it to its default value to avoid this warning.\n  warnings.warn(\n"
          ]
        },
        {
          "output_type": "stream",
          "name": "stderr",
          "text": [
            "/usr/local/lib/python3.11/dist-packages/sklearn/linear_model/_logistic.py:1247: FutureWarning: 'multi_class' was deprecated in version 1.5 and will be removed in 1.7. From then on, it will always use 'multinomial'. Leave it to its default value to avoid this warning.\n  warnings.warn(\n"
          ]
        },
        {
          "output_type": "stream",
          "name": "stderr",
          "text": [
            "/usr/local/lib/python3.11/dist-packages/sklearn/linear_model/_logistic.py:1247: FutureWarning: 'multi_class' was deprecated in version 1.5 and will be removed in 1.7. From then on, it will always use 'multinomial'. Leave it to its default value to avoid this warning.\n  warnings.warn(\n"
          ]
        },
        {
          "output_type": "stream",
          "name": "stderr",
          "text": [
            "/usr/local/lib/python3.11/dist-packages/sklearn/linear_model/_logistic.py:1247: FutureWarning: 'multi_class' was deprecated in version 1.5 and will be removed in 1.7. From then on, it will always use 'multinomial'. Leave it to its default value to avoid this warning.\n  warnings.warn(\n"
          ]
        },
        {
          "output_type": "stream",
          "name": "stderr",
          "text": [
            "/usr/local/lib/python3.11/dist-packages/sklearn/linear_model/_logistic.py:1247: FutureWarning: 'multi_class' was deprecated in version 1.5 and will be removed in 1.7. From then on, it will always use 'multinomial'. Leave it to its default value to avoid this warning.\n  warnings.warn(\n"
          ]
        },
        {
          "output_type": "stream",
          "name": "stderr",
          "text": [
            "/usr/local/lib/python3.11/dist-packages/sklearn/linear_model/_logistic.py:1247: FutureWarning: 'multi_class' was deprecated in version 1.5 and will be removed in 1.7. From then on, it will always use 'multinomial'. Leave it to its default value to avoid this warning.\n  warnings.warn(\n"
          ]
        },
        {
          "output_type": "stream",
          "name": "stderr",
          "text": [
            "/usr/local/lib/python3.11/dist-packages/sklearn/linear_model/_logistic.py:1247: FutureWarning: 'multi_class' was deprecated in version 1.5 and will be removed in 1.7. From then on, it will always use 'multinomial'. Leave it to its default value to avoid this warning.\n  warnings.warn(\n"
          ]
        },
        {
          "output_type": "stream",
          "name": "stdout",
          "text": [
            "  Fold 4: tr=3750 va=948 bestC=0.25 innerLL=0.23302 elapsed=32.85s\n"
          ]
        },
        {
          "output_type": "stream",
          "name": "stdout",
          "text": [
            "  Bin 2 done in 32.85s\n"
          ]
        },
        {
          "output_type": "stream",
          "name": "stdout",
          "text": [
            "Bin 3 (long): n_tr=2459 n_te=292\n"
          ]
        },
        {
          "output_type": "stream",
          "name": "stderr",
          "text": [
            "/usr/local/lib/python3.11/dist-packages/sklearn/linear_model/_logistic.py:1247: FutureWarning: 'multi_class' was deprecated in version 1.5 and will be removed in 1.7. From then on, it will always use 'multinomial'. Leave it to its default value to avoid this warning.\n  warnings.warn(\n/usr/local/lib/python3.11/dist-packages/sklearn/linear_model/_logistic.py:1247: FutureWarning: 'multi_class' was deprecated in version 1.5 and will be removed in 1.7. From then on, it will always use 'multinomial'. Leave it to its default value to avoid this warning.\n  warnings.warn(\n"
          ]
        },
        {
          "output_type": "stream",
          "name": "stderr",
          "text": [
            "/usr/local/lib/python3.11/dist-packages/sklearn/linear_model/_logistic.py:1247: FutureWarning: 'multi_class' was deprecated in version 1.5 and will be removed in 1.7. From then on, it will always use 'multinomial'. Leave it to its default value to avoid this warning.\n  warnings.warn(\n/usr/local/lib/python3.11/dist-packages/sklearn/linear_model/_logistic.py:1247: FutureWarning: 'multi_class' was deprecated in version 1.5 and will be removed in 1.7. From then on, it will always use 'multinomial'. Leave it to its default value to avoid this warning.\n  warnings.warn(\n"
          ]
        },
        {
          "output_type": "stream",
          "name": "stderr",
          "text": [
            "/usr/local/lib/python3.11/dist-packages/sklearn/linear_model/_logistic.py:1247: FutureWarning: 'multi_class' was deprecated in version 1.5 and will be removed in 1.7. From then on, it will always use 'multinomial'. Leave it to its default value to avoid this warning.\n  warnings.warn(\n/usr/local/lib/python3.11/dist-packages/sklearn/linear_model/_logistic.py:1247: FutureWarning: 'multi_class' was deprecated in version 1.5 and will be removed in 1.7. From then on, it will always use 'multinomial'. Leave it to its default value to avoid this warning.\n  warnings.warn(\n"
          ]
        },
        {
          "output_type": "stream",
          "name": "stderr",
          "text": [
            "/usr/local/lib/python3.11/dist-packages/sklearn/linear_model/_logistic.py:1247: FutureWarning: 'multi_class' was deprecated in version 1.5 and will be removed in 1.7. From then on, it will always use 'multinomial'. Leave it to its default value to avoid this warning.\n  warnings.warn(\n"
          ]
        },
        {
          "output_type": "stream",
          "name": "stderr",
          "text": [
            "/usr/local/lib/python3.11/dist-packages/sklearn/linear_model/_logistic.py:1247: FutureWarning: 'multi_class' was deprecated in version 1.5 and will be removed in 1.7. From then on, it will always use 'multinomial'. Leave it to its default value to avoid this warning.\n  warnings.warn(\n"
          ]
        },
        {
          "output_type": "stream",
          "name": "stderr",
          "text": [
            "/usr/local/lib/python3.11/dist-packages/sklearn/linear_model/_logistic.py:1247: FutureWarning: 'multi_class' was deprecated in version 1.5 and will be removed in 1.7. From then on, it will always use 'multinomial'. Leave it to its default value to avoid this warning.\n  warnings.warn(\n"
          ]
        },
        {
          "output_type": "stream",
          "name": "stderr",
          "text": [
            "/usr/local/lib/python3.11/dist-packages/sklearn/linear_model/_logistic.py:1247: FutureWarning: 'multi_class' was deprecated in version 1.5 and will be removed in 1.7. From then on, it will always use 'multinomial'. Leave it to its default value to avoid this warning.\n  warnings.warn(\n"
          ]
        },
        {
          "output_type": "stream",
          "name": "stderr",
          "text": [
            "/usr/local/lib/python3.11/dist-packages/sklearn/linear_model/_logistic.py:1247: FutureWarning: 'multi_class' was deprecated in version 1.5 and will be removed in 1.7. From then on, it will always use 'multinomial'. Leave it to its default value to avoid this warning.\n  warnings.warn(\n"
          ]
        },
        {
          "output_type": "stream",
          "name": "stderr",
          "text": [
            "/usr/local/lib/python3.11/dist-packages/sklearn/linear_model/_logistic.py:1247: FutureWarning: 'multi_class' was deprecated in version 1.5 and will be removed in 1.7. From then on, it will always use 'multinomial'. Leave it to its default value to avoid this warning.\n  warnings.warn(\n"
          ]
        },
        {
          "output_type": "stream",
          "name": "stderr",
          "text": [
            "/usr/local/lib/python3.11/dist-packages/sklearn/linear_model/_logistic.py:1247: FutureWarning: 'multi_class' was deprecated in version 1.5 and will be removed in 1.7. From then on, it will always use 'multinomial'. Leave it to its default value to avoid this warning.\n  warnings.warn(\n"
          ]
        },
        {
          "output_type": "stream",
          "name": "stderr",
          "text": [
            "/usr/local/lib/python3.11/dist-packages/sklearn/linear_model/_logistic.py:1247: FutureWarning: 'multi_class' was deprecated in version 1.5 and will be removed in 1.7. From then on, it will always use 'multinomial'. Leave it to its default value to avoid this warning.\n  warnings.warn(\n"
          ]
        },
        {
          "output_type": "stream",
          "name": "stderr",
          "text": [
            "/usr/local/lib/python3.11/dist-packages/sklearn/linear_model/_logistic.py:1247: FutureWarning: 'multi_class' was deprecated in version 1.5 and will be removed in 1.7. From then on, it will always use 'multinomial'. Leave it to its default value to avoid this warning.\n  warnings.warn(\n"
          ]
        },
        {
          "output_type": "stream",
          "name": "stdout",
          "text": [
            "  Fold 0: tr=1990 va=469 bestC=0.25 innerLL=0.20374 elapsed=3.43s\n"
          ]
        },
        {
          "output_type": "stream",
          "name": "stderr",
          "text": [
            "/usr/local/lib/python3.11/dist-packages/sklearn/linear_model/_logistic.py:1247: FutureWarning: 'multi_class' was deprecated in version 1.5 and will be removed in 1.7. From then on, it will always use 'multinomial'. Leave it to its default value to avoid this warning.\n  warnings.warn(\n/usr/local/lib/python3.11/dist-packages/sklearn/linear_model/_logistic.py:1247: FutureWarning: 'multi_class' was deprecated in version 1.5 and will be removed in 1.7. From then on, it will always use 'multinomial'. Leave it to its default value to avoid this warning.\n  warnings.warn(\n"
          ]
        },
        {
          "output_type": "stream",
          "name": "stderr",
          "text": [
            "/usr/local/lib/python3.11/dist-packages/sklearn/linear_model/_logistic.py:1247: FutureWarning: 'multi_class' was deprecated in version 1.5 and will be removed in 1.7. From then on, it will always use 'multinomial'. Leave it to its default value to avoid this warning.\n  warnings.warn(\n/usr/local/lib/python3.11/dist-packages/sklearn/linear_model/_logistic.py:1247: FutureWarning: 'multi_class' was deprecated in version 1.5 and will be removed in 1.7. From then on, it will always use 'multinomial'. Leave it to its default value to avoid this warning.\n  warnings.warn(\n"
          ]
        },
        {
          "output_type": "stream",
          "name": "stderr",
          "text": [
            "/usr/local/lib/python3.11/dist-packages/sklearn/linear_model/_logistic.py:1247: FutureWarning: 'multi_class' was deprecated in version 1.5 and will be removed in 1.7. From then on, it will always use 'multinomial'. Leave it to its default value to avoid this warning.\n  warnings.warn(\n/usr/local/lib/python3.11/dist-packages/sklearn/linear_model/_logistic.py:1247: FutureWarning: 'multi_class' was deprecated in version 1.5 and will be removed in 1.7. From then on, it will always use 'multinomial'. Leave it to its default value to avoid this warning.\n  warnings.warn(\n"
          ]
        },
        {
          "output_type": "stream",
          "name": "stderr",
          "text": [
            "/usr/local/lib/python3.11/dist-packages/sklearn/linear_model/_logistic.py:1247: FutureWarning: 'multi_class' was deprecated in version 1.5 and will be removed in 1.7. From then on, it will always use 'multinomial'. Leave it to its default value to avoid this warning.\n  warnings.warn(\n/usr/local/lib/python3.11/dist-packages/sklearn/linear_model/_logistic.py:1247: FutureWarning: 'multi_class' was deprecated in version 1.5 and will be removed in 1.7. From then on, it will always use 'multinomial'. Leave it to its default value to avoid this warning.\n  warnings.warn(\n"
          ]
        },
        {
          "output_type": "stream",
          "name": "stderr",
          "text": [
            "/usr/local/lib/python3.11/dist-packages/sklearn/linear_model/_logistic.py:1247: FutureWarning: 'multi_class' was deprecated in version 1.5 and will be removed in 1.7. From then on, it will always use 'multinomial'. Leave it to its default value to avoid this warning.\n  warnings.warn(\n/usr/local/lib/python3.11/dist-packages/sklearn/linear_model/_logistic.py:1247: FutureWarning: 'multi_class' was deprecated in version 1.5 and will be removed in 1.7. From then on, it will always use 'multinomial'. Leave it to its default value to avoid this warning.\n  warnings.warn(\n"
          ]
        },
        {
          "output_type": "stream",
          "name": "stderr",
          "text": [
            "/usr/local/lib/python3.11/dist-packages/sklearn/linear_model/_logistic.py:1247: FutureWarning: 'multi_class' was deprecated in version 1.5 and will be removed in 1.7. From then on, it will always use 'multinomial'. Leave it to its default value to avoid this warning.\n  warnings.warn(\n"
          ]
        },
        {
          "output_type": "stream",
          "name": "stderr",
          "text": [
            "/usr/local/lib/python3.11/dist-packages/sklearn/linear_model/_logistic.py:1247: FutureWarning: 'multi_class' was deprecated in version 1.5 and will be removed in 1.7. From then on, it will always use 'multinomial'. Leave it to its default value to avoid this warning.\n  warnings.warn(\n"
          ]
        },
        {
          "output_type": "stream",
          "name": "stderr",
          "text": [
            "/usr/local/lib/python3.11/dist-packages/sklearn/linear_model/_logistic.py:1247: FutureWarning: 'multi_class' was deprecated in version 1.5 and will be removed in 1.7. From then on, it will always use 'multinomial'. Leave it to its default value to avoid this warning.\n  warnings.warn(\n/usr/local/lib/python3.11/dist-packages/sklearn/linear_model/_logistic.py:1247: FutureWarning: 'multi_class' was deprecated in version 1.5 and will be removed in 1.7. From then on, it will always use 'multinomial'. Leave it to its default value to avoid this warning.\n  warnings.warn(\n"
          ]
        },
        {
          "output_type": "stream",
          "name": "stderr",
          "text": [
            "/usr/local/lib/python3.11/dist-packages/sklearn/linear_model/_logistic.py:1247: FutureWarning: 'multi_class' was deprecated in version 1.5 and will be removed in 1.7. From then on, it will always use 'multinomial'. Leave it to its default value to avoid this warning.\n  warnings.warn(\n"
          ]
        },
        {
          "output_type": "stream",
          "name": "stderr",
          "text": [
            "/usr/local/lib/python3.11/dist-packages/sklearn/linear_model/_logistic.py:1247: FutureWarning: 'multi_class' was deprecated in version 1.5 and will be removed in 1.7. From then on, it will always use 'multinomial'. Leave it to its default value to avoid this warning.\n  warnings.warn(\n"
          ]
        },
        {
          "output_type": "stream",
          "name": "stdout",
          "text": [
            "  Fold 1: tr=1967 va=492 bestC=0.25 innerLL=0.20881 elapsed=6.52s\n"
          ]
        },
        {
          "output_type": "stream",
          "name": "stderr",
          "text": [
            "/usr/local/lib/python3.11/dist-packages/sklearn/linear_model/_logistic.py:1247: FutureWarning: 'multi_class' was deprecated in version 1.5 and will be removed in 1.7. From then on, it will always use 'multinomial'. Leave it to its default value to avoid this warning.\n  warnings.warn(\n/usr/local/lib/python3.11/dist-packages/sklearn/linear_model/_logistic.py:1247: FutureWarning: 'multi_class' was deprecated in version 1.5 and will be removed in 1.7. From then on, it will always use 'multinomial'. Leave it to its default value to avoid this warning.\n  warnings.warn(\n"
          ]
        },
        {
          "output_type": "stream",
          "name": "stderr",
          "text": [
            "/usr/local/lib/python3.11/dist-packages/sklearn/linear_model/_logistic.py:1247: FutureWarning: 'multi_class' was deprecated in version 1.5 and will be removed in 1.7. From then on, it will always use 'multinomial'. Leave it to its default value to avoid this warning.\n  warnings.warn(\n/usr/local/lib/python3.11/dist-packages/sklearn/linear_model/_logistic.py:1247: FutureWarning: 'multi_class' was deprecated in version 1.5 and will be removed in 1.7. From then on, it will always use 'multinomial'. Leave it to its default value to avoid this warning.\n  warnings.warn(\n"
          ]
        },
        {
          "output_type": "stream",
          "name": "stderr",
          "text": [
            "/usr/local/lib/python3.11/dist-packages/sklearn/linear_model/_logistic.py:1247: FutureWarning: 'multi_class' was deprecated in version 1.5 and will be removed in 1.7. From then on, it will always use 'multinomial'. Leave it to its default value to avoid this warning.\n  warnings.warn(\n/usr/local/lib/python3.11/dist-packages/sklearn/linear_model/_logistic.py:1247: FutureWarning: 'multi_class' was deprecated in version 1.5 and will be removed in 1.7. From then on, it will always use 'multinomial'. Leave it to its default value to avoid this warning.\n  warnings.warn(\n"
          ]
        },
        {
          "output_type": "stream",
          "name": "stderr",
          "text": [
            "/usr/local/lib/python3.11/dist-packages/sklearn/linear_model/_logistic.py:1247: FutureWarning: 'multi_class' was deprecated in version 1.5 and will be removed in 1.7. From then on, it will always use 'multinomial'. Leave it to its default value to avoid this warning.\n  warnings.warn(\n/usr/local/lib/python3.11/dist-packages/sklearn/linear_model/_logistic.py:1247: FutureWarning: 'multi_class' was deprecated in version 1.5 and will be removed in 1.7. From then on, it will always use 'multinomial'. Leave it to its default value to avoid this warning.\n  warnings.warn(\n"
          ]
        },
        {
          "output_type": "stream",
          "name": "stderr",
          "text": [
            "/usr/local/lib/python3.11/dist-packages/sklearn/linear_model/_logistic.py:1247: FutureWarning: 'multi_class' was deprecated in version 1.5 and will be removed in 1.7. From then on, it will always use 'multinomial'. Leave it to its default value to avoid this warning.\n  warnings.warn(\n"
          ]
        },
        {
          "output_type": "stream",
          "name": "stderr",
          "text": [
            "/usr/local/lib/python3.11/dist-packages/sklearn/linear_model/_logistic.py:1247: FutureWarning: 'multi_class' was deprecated in version 1.5 and will be removed in 1.7. From then on, it will always use 'multinomial'. Leave it to its default value to avoid this warning.\n  warnings.warn(\n"
          ]
        },
        {
          "output_type": "stream",
          "name": "stderr",
          "text": [
            "/usr/local/lib/python3.11/dist-packages/sklearn/linear_model/_logistic.py:1247: FutureWarning: 'multi_class' was deprecated in version 1.5 and will be removed in 1.7. From then on, it will always use 'multinomial'. Leave it to its default value to avoid this warning.\n  warnings.warn(\n/usr/local/lib/python3.11/dist-packages/sklearn/linear_model/_logistic.py:1247: FutureWarning: 'multi_class' was deprecated in version 1.5 and will be removed in 1.7. From then on, it will always use 'multinomial'. Leave it to its default value to avoid this warning.\n  warnings.warn(\n"
          ]
        },
        {
          "output_type": "stream",
          "name": "stderr",
          "text": [
            "/usr/local/lib/python3.11/dist-packages/sklearn/linear_model/_logistic.py:1247: FutureWarning: 'multi_class' was deprecated in version 1.5 and will be removed in 1.7. From then on, it will always use 'multinomial'. Leave it to its default value to avoid this warning.\n  warnings.warn(\n"
          ]
        },
        {
          "output_type": "stream",
          "name": "stderr",
          "text": [
            "/usr/local/lib/python3.11/dist-packages/sklearn/linear_model/_logistic.py:1247: FutureWarning: 'multi_class' was deprecated in version 1.5 and will be removed in 1.7. From then on, it will always use 'multinomial'. Leave it to its default value to avoid this warning.\n  warnings.warn(\n"
          ]
        },
        {
          "output_type": "stream",
          "name": "stderr",
          "text": [
            "/usr/local/lib/python3.11/dist-packages/sklearn/linear_model/_logistic.py:1247: FutureWarning: 'multi_class' was deprecated in version 1.5 and will be removed in 1.7. From then on, it will always use 'multinomial'. Leave it to its default value to avoid this warning.\n  warnings.warn(\n"
          ]
        },
        {
          "output_type": "stream",
          "name": "stderr",
          "text": [
            "/usr/local/lib/python3.11/dist-packages/sklearn/linear_model/_logistic.py:1247: FutureWarning: 'multi_class' was deprecated in version 1.5 and will be removed in 1.7. From then on, it will always use 'multinomial'. Leave it to its default value to avoid this warning.\n  warnings.warn(\n"
          ]
        },
        {
          "output_type": "stream",
          "name": "stderr",
          "text": [
            "/usr/local/lib/python3.11/dist-packages/sklearn/linear_model/_logistic.py:1247: FutureWarning: 'multi_class' was deprecated in version 1.5 and will be removed in 1.7. From then on, it will always use 'multinomial'. Leave it to its default value to avoid this warning.\n  warnings.warn(\n"
          ]
        },
        {
          "output_type": "stream",
          "name": "stdout",
          "text": [
            "  Fold 2: tr=1983 va=476 bestC=0.25 innerLL=0.19492 elapsed=9.83s\n"
          ]
        },
        {
          "output_type": "stream",
          "name": "stderr",
          "text": [
            "/usr/local/lib/python3.11/dist-packages/sklearn/linear_model/_logistic.py:1247: FutureWarning: 'multi_class' was deprecated in version 1.5 and will be removed in 1.7. From then on, it will always use 'multinomial'. Leave it to its default value to avoid this warning.\n  warnings.warn(\n/usr/local/lib/python3.11/dist-packages/sklearn/linear_model/_logistic.py:1247: FutureWarning: 'multi_class' was deprecated in version 1.5 and will be removed in 1.7. From then on, it will always use 'multinomial'. Leave it to its default value to avoid this warning.\n  warnings.warn(\n"
          ]
        },
        {
          "output_type": "stream",
          "name": "stderr",
          "text": [
            "/usr/local/lib/python3.11/dist-packages/sklearn/linear_model/_logistic.py:1247: FutureWarning: 'multi_class' was deprecated in version 1.5 and will be removed in 1.7. From then on, it will always use 'multinomial'. Leave it to its default value to avoid this warning.\n  warnings.warn(\n/usr/local/lib/python3.11/dist-packages/sklearn/linear_model/_logistic.py:1247: FutureWarning: 'multi_class' was deprecated in version 1.5 and will be removed in 1.7. From then on, it will always use 'multinomial'. Leave it to its default value to avoid this warning.\n  warnings.warn(\n"
          ]
        },
        {
          "output_type": "stream",
          "name": "stderr",
          "text": [
            "/usr/local/lib/python3.11/dist-packages/sklearn/linear_model/_logistic.py:1247: FutureWarning: 'multi_class' was deprecated in version 1.5 and will be removed in 1.7. From then on, it will always use 'multinomial'. Leave it to its default value to avoid this warning.\n  warnings.warn(\n/usr/local/lib/python3.11/dist-packages/sklearn/linear_model/_logistic.py:1247: FutureWarning: 'multi_class' was deprecated in version 1.5 and will be removed in 1.7. From then on, it will always use 'multinomial'. Leave it to its default value to avoid this warning.\n  warnings.warn(\n"
          ]
        },
        {
          "output_type": "stream",
          "name": "stderr",
          "text": [
            "/usr/local/lib/python3.11/dist-packages/sklearn/linear_model/_logistic.py:1247: FutureWarning: 'multi_class' was deprecated in version 1.5 and will be removed in 1.7. From then on, it will always use 'multinomial'. Leave it to its default value to avoid this warning.\n  warnings.warn(\n/usr/local/lib/python3.11/dist-packages/sklearn/linear_model/_logistic.py:1247: FutureWarning: 'multi_class' was deprecated in version 1.5 and will be removed in 1.7. From then on, it will always use 'multinomial'. Leave it to its default value to avoid this warning.\n  warnings.warn(\n"
          ]
        },
        {
          "output_type": "stream",
          "name": "stderr",
          "text": [
            "/usr/local/lib/python3.11/dist-packages/sklearn/linear_model/_logistic.py:1247: FutureWarning: 'multi_class' was deprecated in version 1.5 and will be removed in 1.7. From then on, it will always use 'multinomial'. Leave it to its default value to avoid this warning.\n  warnings.warn(\n"
          ]
        },
        {
          "output_type": "stream",
          "name": "stderr",
          "text": [
            "/usr/local/lib/python3.11/dist-packages/sklearn/linear_model/_logistic.py:1247: FutureWarning: 'multi_class' was deprecated in version 1.5 and will be removed in 1.7. From then on, it will always use 'multinomial'. Leave it to its default value to avoid this warning.\n  warnings.warn(\n"
          ]
        },
        {
          "output_type": "stream",
          "name": "stderr",
          "text": [
            "/usr/local/lib/python3.11/dist-packages/sklearn/linear_model/_logistic.py:1247: FutureWarning: 'multi_class' was deprecated in version 1.5 and will be removed in 1.7. From then on, it will always use 'multinomial'. Leave it to its default value to avoid this warning.\n  warnings.warn(\n"
          ]
        },
        {
          "output_type": "stream",
          "name": "stderr",
          "text": [
            "/usr/local/lib/python3.11/dist-packages/sklearn/linear_model/_logistic.py:1247: FutureWarning: 'multi_class' was deprecated in version 1.5 and will be removed in 1.7. From then on, it will always use 'multinomial'. Leave it to its default value to avoid this warning.\n  warnings.warn(\n"
          ]
        },
        {
          "output_type": "stream",
          "name": "stderr",
          "text": [
            "/usr/local/lib/python3.11/dist-packages/sklearn/linear_model/_logistic.py:1247: FutureWarning: 'multi_class' was deprecated in version 1.5 and will be removed in 1.7. From then on, it will always use 'multinomial'. Leave it to its default value to avoid this warning.\n  warnings.warn(\n"
          ]
        },
        {
          "output_type": "stream",
          "name": "stderr",
          "text": [
            "/usr/local/lib/python3.11/dist-packages/sklearn/linear_model/_logistic.py:1247: FutureWarning: 'multi_class' was deprecated in version 1.5 and will be removed in 1.7. From then on, it will always use 'multinomial'. Leave it to its default value to avoid this warning.\n  warnings.warn(\n"
          ]
        },
        {
          "output_type": "stream",
          "name": "stderr",
          "text": [
            "/usr/local/lib/python3.11/dist-packages/sklearn/linear_model/_logistic.py:1247: FutureWarning: 'multi_class' was deprecated in version 1.5 and will be removed in 1.7. From then on, it will always use 'multinomial'. Leave it to its default value to avoid this warning.\n  warnings.warn(\n"
          ]
        },
        {
          "output_type": "stream",
          "name": "stdout",
          "text": [
            "  Fold 3: tr=1954 va=505 bestC=0.25 innerLL=0.18777 elapsed=13.14s\n"
          ]
        },
        {
          "output_type": "stream",
          "name": "stderr",
          "text": [
            "/usr/local/lib/python3.11/dist-packages/sklearn/linear_model/_logistic.py:1247: FutureWarning: 'multi_class' was deprecated in version 1.5 and will be removed in 1.7. From then on, it will always use 'multinomial'. Leave it to its default value to avoid this warning.\n  warnings.warn(\n/usr/local/lib/python3.11/dist-packages/sklearn/linear_model/_logistic.py:1247: FutureWarning: 'multi_class' was deprecated in version 1.5 and will be removed in 1.7. From then on, it will always use 'multinomial'. Leave it to its default value to avoid this warning.\n  warnings.warn(\n"
          ]
        },
        {
          "output_type": "stream",
          "name": "stderr",
          "text": [
            "/usr/local/lib/python3.11/dist-packages/sklearn/linear_model/_logistic.py:1247: FutureWarning: 'multi_class' was deprecated in version 1.5 and will be removed in 1.7. From then on, it will always use 'multinomial'. Leave it to its default value to avoid this warning.\n  warnings.warn(\n/usr/local/lib/python3.11/dist-packages/sklearn/linear_model/_logistic.py:1247: FutureWarning: 'multi_class' was deprecated in version 1.5 and will be removed in 1.7. From then on, it will always use 'multinomial'. Leave it to its default value to avoid this warning.\n  warnings.warn(\n"
          ]
        },
        {
          "output_type": "stream",
          "name": "stderr",
          "text": [
            "/usr/local/lib/python3.11/dist-packages/sklearn/linear_model/_logistic.py:1247: FutureWarning: 'multi_class' was deprecated in version 1.5 and will be removed in 1.7. From then on, it will always use 'multinomial'. Leave it to its default value to avoid this warning.\n  warnings.warn(\n/usr/local/lib/python3.11/dist-packages/sklearn/linear_model/_logistic.py:1247: FutureWarning: 'multi_class' was deprecated in version 1.5 and will be removed in 1.7. From then on, it will always use 'multinomial'. Leave it to its default value to avoid this warning.\n  warnings.warn(\n"
          ]
        },
        {
          "output_type": "stream",
          "name": "stderr",
          "text": [
            "/usr/local/lib/python3.11/dist-packages/sklearn/linear_model/_logistic.py:1247: FutureWarning: 'multi_class' was deprecated in version 1.5 and will be removed in 1.7. From then on, it will always use 'multinomial'. Leave it to its default value to avoid this warning.\n  warnings.warn(\n/usr/local/lib/python3.11/dist-packages/sklearn/linear_model/_logistic.py:1247: FutureWarning: 'multi_class' was deprecated in version 1.5 and will be removed in 1.7. From then on, it will always use 'multinomial'. Leave it to its default value to avoid this warning.\n  warnings.warn(\n"
          ]
        },
        {
          "output_type": "stream",
          "name": "stderr",
          "text": [
            "/usr/local/lib/python3.11/dist-packages/sklearn/linear_model/_logistic.py:1247: FutureWarning: 'multi_class' was deprecated in version 1.5 and will be removed in 1.7. From then on, it will always use 'multinomial'. Leave it to its default value to avoid this warning.\n  warnings.warn(\n"
          ]
        },
        {
          "output_type": "stream",
          "name": "stderr",
          "text": [
            "/usr/local/lib/python3.11/dist-packages/sklearn/linear_model/_logistic.py:1247: FutureWarning: 'multi_class' was deprecated in version 1.5 and will be removed in 1.7. From then on, it will always use 'multinomial'. Leave it to its default value to avoid this warning.\n  warnings.warn(\n/usr/local/lib/python3.11/dist-packages/sklearn/linear_model/_logistic.py:1247: FutureWarning: 'multi_class' was deprecated in version 1.5 and will be removed in 1.7. From then on, it will always use 'multinomial'. Leave it to its default value to avoid this warning.\n  warnings.warn(\n"
          ]
        },
        {
          "output_type": "stream",
          "name": "stderr",
          "text": [
            "/usr/local/lib/python3.11/dist-packages/sklearn/linear_model/_logistic.py:1247: FutureWarning: 'multi_class' was deprecated in version 1.5 and will be removed in 1.7. From then on, it will always use 'multinomial'. Leave it to its default value to avoid this warning.\n  warnings.warn(\n/usr/local/lib/python3.11/dist-packages/sklearn/linear_model/_logistic.py:1247: FutureWarning: 'multi_class' was deprecated in version 1.5 and will be removed in 1.7. From then on, it will always use 'multinomial'. Leave it to its default value to avoid this warning.\n  warnings.warn(\n"
          ]
        },
        {
          "output_type": "stream",
          "name": "stderr",
          "text": [
            "/usr/local/lib/python3.11/dist-packages/sklearn/linear_model/_logistic.py:1247: FutureWarning: 'multi_class' was deprecated in version 1.5 and will be removed in 1.7. From then on, it will always use 'multinomial'. Leave it to its default value to avoid this warning.\n  warnings.warn(\n"
          ]
        },
        {
          "output_type": "stream",
          "name": "stderr",
          "text": [
            "/usr/local/lib/python3.11/dist-packages/sklearn/linear_model/_logistic.py:1247: FutureWarning: 'multi_class' was deprecated in version 1.5 and will be removed in 1.7. From then on, it will always use 'multinomial'. Leave it to its default value to avoid this warning.\n  warnings.warn(\n"
          ]
        },
        {
          "output_type": "stream",
          "name": "stderr",
          "text": [
            "/usr/local/lib/python3.11/dist-packages/sklearn/linear_model/_logistic.py:1247: FutureWarning: 'multi_class' was deprecated in version 1.5 and will be removed in 1.7. From then on, it will always use 'multinomial'. Leave it to its default value to avoid this warning.\n  warnings.warn(\n/usr/local/lib/python3.11/dist-packages/sklearn/linear_model/_logistic.py:1247: FutureWarning: 'multi_class' was deprecated in version 1.5 and will be removed in 1.7. From then on, it will always use 'multinomial'. Leave it to its default value to avoid this warning.\n  warnings.warn(\n"
          ]
        },
        {
          "output_type": "stream",
          "name": "stdout",
          "text": [
            "  Fold 4: tr=1942 va=517 bestC=0.25 innerLL=0.19639 elapsed=16.08s\n"
          ]
        },
        {
          "output_type": "stream",
          "name": "stdout",
          "text": [
            "  Bin 3 done in 16.08s\n"
          ]
        },
        {
          "output_type": "stream",
          "name": "stdout",
          "text": [
            "Bin 4 (vlong): n_tr=1460 n_te=178\n"
          ]
        },
        {
          "output_type": "stream",
          "name": "stderr",
          "text": [
            "/usr/local/lib/python3.11/dist-packages/sklearn/linear_model/_logistic.py:1247: FutureWarning: 'multi_class' was deprecated in version 1.5 and will be removed in 1.7. From then on, it will always use 'multinomial'. Leave it to its default value to avoid this warning.\n  warnings.warn(\n/usr/local/lib/python3.11/dist-packages/sklearn/linear_model/_logistic.py:1247: FutureWarning: 'multi_class' was deprecated in version 1.5 and will be removed in 1.7. From then on, it will always use 'multinomial'. Leave it to its default value to avoid this warning.\n  warnings.warn(\n/usr/local/lib/python3.11/dist-packages/sklearn/linear_model/_logistic.py:1247: FutureWarning: 'multi_class' was deprecated in version 1.5 and will be removed in 1.7. From then on, it will always use 'multinomial'. Leave it to its default value to avoid this warning.\n  warnings.warn(\n"
          ]
        },
        {
          "output_type": "stream",
          "name": "stderr",
          "text": [
            "/usr/local/lib/python3.11/dist-packages/sklearn/linear_model/_logistic.py:1247: FutureWarning: 'multi_class' was deprecated in version 1.5 and will be removed in 1.7. From then on, it will always use 'multinomial'. Leave it to its default value to avoid this warning.\n  warnings.warn(\n/usr/local/lib/python3.11/dist-packages/sklearn/linear_model/_logistic.py:1247: FutureWarning: 'multi_class' was deprecated in version 1.5 and will be removed in 1.7. From then on, it will always use 'multinomial'. Leave it to its default value to avoid this warning.\n  warnings.warn(\n/usr/local/lib/python3.11/dist-packages/sklearn/linear_model/_logistic.py:1247: FutureWarning: 'multi_class' was deprecated in version 1.5 and will be removed in 1.7. From then on, it will always use 'multinomial'. Leave it to its default value to avoid this warning.\n  warnings.warn(\n"
          ]
        },
        {
          "output_type": "stream",
          "name": "stderr",
          "text": [
            "/usr/local/lib/python3.11/dist-packages/sklearn/linear_model/_logistic.py:1247: FutureWarning: 'multi_class' was deprecated in version 1.5 and will be removed in 1.7. From then on, it will always use 'multinomial'. Leave it to its default value to avoid this warning.\n  warnings.warn(\n/usr/local/lib/python3.11/dist-packages/sklearn/linear_model/_logistic.py:1247: FutureWarning: 'multi_class' was deprecated in version 1.5 and will be removed in 1.7. From then on, it will always use 'multinomial'. Leave it to its default value to avoid this warning.\n  warnings.warn(\n/usr/local/lib/python3.11/dist-packages/sklearn/linear_model/_logistic.py:1247: FutureWarning: 'multi_class' was deprecated in version 1.5 and will be removed in 1.7. From then on, it will always use 'multinomial'. Leave it to its default value to avoid this warning.\n  warnings.warn(\n"
          ]
        },
        {
          "output_type": "stream",
          "name": "stderr",
          "text": [
            "/usr/local/lib/python3.11/dist-packages/sklearn/linear_model/_logistic.py:1247: FutureWarning: 'multi_class' was deprecated in version 1.5 and will be removed in 1.7. From then on, it will always use 'multinomial'. Leave it to its default value to avoid this warning.\n  warnings.warn(\n/usr/local/lib/python3.11/dist-packages/sklearn/linear_model/_logistic.py:1247: FutureWarning: 'multi_class' was deprecated in version 1.5 and will be removed in 1.7. From then on, it will always use 'multinomial'. Leave it to its default value to avoid this warning.\n  warnings.warn(\n/usr/local/lib/python3.11/dist-packages/sklearn/linear_model/_logistic.py:1247: FutureWarning: 'multi_class' was deprecated in version 1.5 and will be removed in 1.7. From then on, it will always use 'multinomial'. Leave it to its default value to avoid this warning.\n  warnings.warn(\n/usr/local/lib/python3.11/dist-packages/sklearn/linear_model/_logistic.py:1247: FutureWarning: 'multi_class' was deprecated in version 1.5 and will be removed in 1.7. From then on, it will always use 'multinomial'. Leave it to its default value to avoid this warning.\n  warnings.warn(\n"
          ]
        },
        {
          "output_type": "stream",
          "name": "stdout",
          "text": [
            "  Fold 0: tr=1168 va=292 bestC=0.25 innerLL=0.15731 elapsed=1.15s\n"
          ]
        },
        {
          "output_type": "stream",
          "name": "stderr",
          "text": [
            "/usr/local/lib/python3.11/dist-packages/sklearn/linear_model/_logistic.py:1247: FutureWarning: 'multi_class' was deprecated in version 1.5 and will be removed in 1.7. From then on, it will always use 'multinomial'. Leave it to its default value to avoid this warning.\n  warnings.warn(\n/usr/local/lib/python3.11/dist-packages/sklearn/linear_model/_logistic.py:1247: FutureWarning: 'multi_class' was deprecated in version 1.5 and will be removed in 1.7. From then on, it will always use 'multinomial'. Leave it to its default value to avoid this warning.\n  warnings.warn(\n/usr/local/lib/python3.11/dist-packages/sklearn/linear_model/_logistic.py:1247: FutureWarning: 'multi_class' was deprecated in version 1.5 and will be removed in 1.7. From then on, it will always use 'multinomial'. Leave it to its default value to avoid this warning.\n  warnings.warn(\n/usr/local/lib/python3.11/dist-packages/sklearn/linear_model/_logistic.py:1247: FutureWarning: 'multi_class' was deprecated in version 1.5 and will be removed in 1.7. From then on, it will always use 'multinomial'. Leave it to its default value to avoid this warning.\n  warnings.warn(\n"
          ]
        },
        {
          "output_type": "stream",
          "name": "stderr",
          "text": [
            "/usr/local/lib/python3.11/dist-packages/sklearn/linear_model/_logistic.py:1247: FutureWarning: 'multi_class' was deprecated in version 1.5 and will be removed in 1.7. From then on, it will always use 'multinomial'. Leave it to its default value to avoid this warning.\n  warnings.warn(\n/usr/local/lib/python3.11/dist-packages/sklearn/linear_model/_logistic.py:1247: FutureWarning: 'multi_class' was deprecated in version 1.5 and will be removed in 1.7. From then on, it will always use 'multinomial'. Leave it to its default value to avoid this warning.\n  warnings.warn(\n/usr/local/lib/python3.11/dist-packages/sklearn/linear_model/_logistic.py:1247: FutureWarning: 'multi_class' was deprecated in version 1.5 and will be removed in 1.7. From then on, it will always use 'multinomial'. Leave it to its default value to avoid this warning.\n  warnings.warn(\n"
          ]
        },
        {
          "output_type": "stream",
          "name": "stderr",
          "text": [
            "/usr/local/lib/python3.11/dist-packages/sklearn/linear_model/_logistic.py:1247: FutureWarning: 'multi_class' was deprecated in version 1.5 and will be removed in 1.7. From then on, it will always use 'multinomial'. Leave it to its default value to avoid this warning.\n  warnings.warn(\n/usr/local/lib/python3.11/dist-packages/sklearn/linear_model/_logistic.py:1247: FutureWarning: 'multi_class' was deprecated in version 1.5 and will be removed in 1.7. From then on, it will always use 'multinomial'. Leave it to its default value to avoid this warning.\n  warnings.warn(\n/usr/local/lib/python3.11/dist-packages/sklearn/linear_model/_logistic.py:1247: FutureWarning: 'multi_class' was deprecated in version 1.5 and will be removed in 1.7. From then on, it will always use 'multinomial'. Leave it to its default value to avoid this warning.\n  warnings.warn(\n/usr/local/lib/python3.11/dist-packages/sklearn/linear_model/_logistic.py:1247: FutureWarning: 'multi_class' was deprecated in version 1.5 and will be removed in 1.7. From then on, it will always use 'multinomial'. Leave it to its default value to avoid this warning.\n  warnings.warn(\n"
          ]
        },
        {
          "output_type": "stream",
          "name": "stderr",
          "text": [
            "/usr/local/lib/python3.11/dist-packages/sklearn/linear_model/_logistic.py:1247: FutureWarning: 'multi_class' was deprecated in version 1.5 and will be removed in 1.7. From then on, it will always use 'multinomial'. Leave it to its default value to avoid this warning.\n  warnings.warn(\n/usr/local/lib/python3.11/dist-packages/sklearn/linear_model/_logistic.py:1247: FutureWarning: 'multi_class' was deprecated in version 1.5 and will be removed in 1.7. From then on, it will always use 'multinomial'. Leave it to its default value to avoid this warning.\n  warnings.warn(\n/usr/local/lib/python3.11/dist-packages/sklearn/linear_model/_logistic.py:1247: FutureWarning: 'multi_class' was deprecated in version 1.5 and will be removed in 1.7. From then on, it will always use 'multinomial'. Leave it to its default value to avoid this warning.\n  warnings.warn(\n"
          ]
        },
        {
          "output_type": "stream",
          "name": "stderr",
          "text": [
            "/usr/local/lib/python3.11/dist-packages/sklearn/linear_model/_logistic.py:1247: FutureWarning: 'multi_class' was deprecated in version 1.5 and will be removed in 1.7. From then on, it will always use 'multinomial'. Leave it to its default value to avoid this warning.\n  warnings.warn(\n/usr/local/lib/python3.11/dist-packages/sklearn/linear_model/_logistic.py:1247: FutureWarning: 'multi_class' was deprecated in version 1.5 and will be removed in 1.7. From then on, it will always use 'multinomial'. Leave it to its default value to avoid this warning.\n  warnings.warn(\n/usr/local/lib/python3.11/dist-packages/sklearn/linear_model/_logistic.py:1247: FutureWarning: 'multi_class' was deprecated in version 1.5 and will be removed in 1.7. From then on, it will always use 'multinomial'. Leave it to its default value to avoid this warning.\n  warnings.warn(\n"
          ]
        },
        {
          "output_type": "stream",
          "name": "stdout",
          "text": [
            "  Fold 1: tr=1168 va=292 bestC=0.25 innerLL=0.17108 elapsed=2.40s\n"
          ]
        },
        {
          "output_type": "stream",
          "name": "stderr",
          "text": [
            "/usr/local/lib/python3.11/dist-packages/sklearn/linear_model/_logistic.py:1247: FutureWarning: 'multi_class' was deprecated in version 1.5 and will be removed in 1.7. From then on, it will always use 'multinomial'. Leave it to its default value to avoid this warning.\n  warnings.warn(\n/usr/local/lib/python3.11/dist-packages/sklearn/linear_model/_logistic.py:1247: FutureWarning: 'multi_class' was deprecated in version 1.5 and will be removed in 1.7. From then on, it will always use 'multinomial'. Leave it to its default value to avoid this warning.\n  warnings.warn(\n/usr/local/lib/python3.11/dist-packages/sklearn/linear_model/_logistic.py:1247: FutureWarning: 'multi_class' was deprecated in version 1.5 and will be removed in 1.7. From then on, it will always use 'multinomial'. Leave it to its default value to avoid this warning.\n  warnings.warn(\n"
          ]
        },
        {
          "output_type": "stream",
          "name": "stderr",
          "text": [
            "/usr/local/lib/python3.11/dist-packages/sklearn/linear_model/_logistic.py:1247: FutureWarning: 'multi_class' was deprecated in version 1.5 and will be removed in 1.7. From then on, it will always use 'multinomial'. Leave it to its default value to avoid this warning.\n  warnings.warn(\n/usr/local/lib/python3.11/dist-packages/sklearn/linear_model/_logistic.py:1247: FutureWarning: 'multi_class' was deprecated in version 1.5 and will be removed in 1.7. From then on, it will always use 'multinomial'. Leave it to its default value to avoid this warning.\n  warnings.warn(\n/usr/local/lib/python3.11/dist-packages/sklearn/linear_model/_logistic.py:1247: FutureWarning: 'multi_class' was deprecated in version 1.5 and will be removed in 1.7. From then on, it will always use 'multinomial'. Leave it to its default value to avoid this warning.\n  warnings.warn(\n/usr/local/lib/python3.11/dist-packages/sklearn/linear_model/_logistic.py:1247: FutureWarning: 'multi_class' was deprecated in version 1.5 and will be removed in 1.7. From then on, it will always use 'multinomial'. Leave it to its default value to avoid this warning.\n  warnings.warn(\n"
          ]
        },
        {
          "output_type": "stream",
          "name": "stderr",
          "text": [
            "/usr/local/lib/python3.11/dist-packages/sklearn/linear_model/_logistic.py:1247: FutureWarning: 'multi_class' was deprecated in version 1.5 and will be removed in 1.7. From then on, it will always use 'multinomial'. Leave it to its default value to avoid this warning.\n  warnings.warn(\n/usr/local/lib/python3.11/dist-packages/sklearn/linear_model/_logistic.py:1247: FutureWarning: 'multi_class' was deprecated in version 1.5 and will be removed in 1.7. From then on, it will always use 'multinomial'. Leave it to its default value to avoid this warning.\n  warnings.warn(\n/usr/local/lib/python3.11/dist-packages/sklearn/linear_model/_logistic.py:1247: FutureWarning: 'multi_class' was deprecated in version 1.5 and will be removed in 1.7. From then on, it will always use 'multinomial'. Leave it to its default value to avoid this warning.\n  warnings.warn(\n"
          ]
        },
        {
          "output_type": "stream",
          "name": "stderr",
          "text": [
            "/usr/local/lib/python3.11/dist-packages/sklearn/linear_model/_logistic.py:1247: FutureWarning: 'multi_class' was deprecated in version 1.5 and will be removed in 1.7. From then on, it will always use 'multinomial'. Leave it to its default value to avoid this warning.\n  warnings.warn(\n/usr/local/lib/python3.11/dist-packages/sklearn/linear_model/_logistic.py:1247: FutureWarning: 'multi_class' was deprecated in version 1.5 and will be removed in 1.7. From then on, it will always use 'multinomial'. Leave it to its default value to avoid this warning.\n  warnings.warn(\n/usr/local/lib/python3.11/dist-packages/sklearn/linear_model/_logistic.py:1247: FutureWarning: 'multi_class' was deprecated in version 1.5 and will be removed in 1.7. From then on, it will always use 'multinomial'. Leave it to its default value to avoid this warning.\n  warnings.warn(\n"
          ]
        },
        {
          "output_type": "stream",
          "name": "stderr",
          "text": [
            "/usr/local/lib/python3.11/dist-packages/sklearn/linear_model/_logistic.py:1247: FutureWarning: 'multi_class' was deprecated in version 1.5 and will be removed in 1.7. From then on, it will always use 'multinomial'. Leave it to its default value to avoid this warning.\n  warnings.warn(\n/usr/local/lib/python3.11/dist-packages/sklearn/linear_model/_logistic.py:1247: FutureWarning: 'multi_class' was deprecated in version 1.5 and will be removed in 1.7. From then on, it will always use 'multinomial'. Leave it to its default value to avoid this warning.\n  warnings.warn(\n/usr/local/lib/python3.11/dist-packages/sklearn/linear_model/_logistic.py:1247: FutureWarning: 'multi_class' was deprecated in version 1.5 and will be removed in 1.7. From then on, it will always use 'multinomial'. Leave it to its default value to avoid this warning.\n  warnings.warn(\n/usr/local/lib/python3.11/dist-packages/sklearn/linear_model/_logistic.py:1247: FutureWarning: 'multi_class' was deprecated in version 1.5 and will be removed in 1.7. From then on, it will always use 'multinomial'. Leave it to its default value to avoid this warning.\n  warnings.warn(\n/usr/local/lib/python3.11/dist-packages/sklearn/linear_model/_logistic.py:1247: FutureWarning: 'multi_class' was deprecated in version 1.5 and will be removed in 1.7. From then on, it will always use 'multinomial'. Leave it to its default value to avoid this warning.\n  warnings.warn(\n"
          ]
        },
        {
          "output_type": "stream",
          "name": "stdout",
          "text": [
            "  Fold 2: tr=1168 va=292 bestC=0.25 innerLL=0.17149 elapsed=3.42s\n"
          ]
        },
        {
          "output_type": "stream",
          "name": "stderr",
          "text": [
            "/usr/local/lib/python3.11/dist-packages/sklearn/linear_model/_logistic.py:1247: FutureWarning: 'multi_class' was deprecated in version 1.5 and will be removed in 1.7. From then on, it will always use 'multinomial'. Leave it to its default value to avoid this warning.\n  warnings.warn(\n/usr/local/lib/python3.11/dist-packages/sklearn/linear_model/_logistic.py:1247: FutureWarning: 'multi_class' was deprecated in version 1.5 and will be removed in 1.7. From then on, it will always use 'multinomial'. Leave it to its default value to avoid this warning.\n  warnings.warn(\n/usr/local/lib/python3.11/dist-packages/sklearn/linear_model/_logistic.py:1247: FutureWarning: 'multi_class' was deprecated in version 1.5 and will be removed in 1.7. From then on, it will always use 'multinomial'. Leave it to its default value to avoid this warning.\n  warnings.warn(\n/usr/local/lib/python3.11/dist-packages/sklearn/linear_model/_logistic.py:1247: FutureWarning: 'multi_class' was deprecated in version 1.5 and will be removed in 1.7. From then on, it will always use 'multinomial'. Leave it to its default value to avoid this warning.\n  warnings.warn(\n"
          ]
        },
        {
          "output_type": "stream",
          "name": "stderr",
          "text": [
            "/usr/local/lib/python3.11/dist-packages/sklearn/linear_model/_logistic.py:1247: FutureWarning: 'multi_class' was deprecated in version 1.5 and will be removed in 1.7. From then on, it will always use 'multinomial'. Leave it to its default value to avoid this warning.\n  warnings.warn(\n/usr/local/lib/python3.11/dist-packages/sklearn/linear_model/_logistic.py:1247: FutureWarning: 'multi_class' was deprecated in version 1.5 and will be removed in 1.7. From then on, it will always use 'multinomial'. Leave it to its default value to avoid this warning.\n  warnings.warn(\n/usr/local/lib/python3.11/dist-packages/sklearn/linear_model/_logistic.py:1247: FutureWarning: 'multi_class' was deprecated in version 1.5 and will be removed in 1.7. From then on, it will always use 'multinomial'. Leave it to its default value to avoid this warning.\n  warnings.warn(\n"
          ]
        },
        {
          "output_type": "stream",
          "name": "stderr",
          "text": [
            "/usr/local/lib/python3.11/dist-packages/sklearn/linear_model/_logistic.py:1247: FutureWarning: 'multi_class' was deprecated in version 1.5 and will be removed in 1.7. From then on, it will always use 'multinomial'. Leave it to its default value to avoid this warning.\n  warnings.warn(\n/usr/local/lib/python3.11/dist-packages/sklearn/linear_model/_logistic.py:1247: FutureWarning: 'multi_class' was deprecated in version 1.5 and will be removed in 1.7. From then on, it will always use 'multinomial'. Leave it to its default value to avoid this warning.\n  warnings.warn(\n/usr/local/lib/python3.11/dist-packages/sklearn/linear_model/_logistic.py:1247: FutureWarning: 'multi_class' was deprecated in version 1.5 and will be removed in 1.7. From then on, it will always use 'multinomial'. Leave it to its default value to avoid this warning.\n  warnings.warn(\n"
          ]
        },
        {
          "output_type": "stream",
          "name": "stderr",
          "text": [
            "/usr/local/lib/python3.11/dist-packages/sklearn/linear_model/_logistic.py:1247: FutureWarning: 'multi_class' was deprecated in version 1.5 and will be removed in 1.7. From then on, it will always use 'multinomial'. Leave it to its default value to avoid this warning.\n  warnings.warn(\n/usr/local/lib/python3.11/dist-packages/sklearn/linear_model/_logistic.py:1247: FutureWarning: 'multi_class' was deprecated in version 1.5 and will be removed in 1.7. From then on, it will always use 'multinomial'. Leave it to its default value to avoid this warning.\n  warnings.warn(\n/usr/local/lib/python3.11/dist-packages/sklearn/linear_model/_logistic.py:1247: FutureWarning: 'multi_class' was deprecated in version 1.5 and will be removed in 1.7. From then on, it will always use 'multinomial'. Leave it to its default value to avoid this warning.\n  warnings.warn(\n"
          ]
        },
        {
          "output_type": "stream",
          "name": "stderr",
          "text": [
            "/usr/local/lib/python3.11/dist-packages/sklearn/linear_model/_logistic.py:1247: FutureWarning: 'multi_class' was deprecated in version 1.5 and will be removed in 1.7. From then on, it will always use 'multinomial'. Leave it to its default value to avoid this warning.\n  warnings.warn(\n/usr/local/lib/python3.11/dist-packages/sklearn/linear_model/_logistic.py:1247: FutureWarning: 'multi_class' was deprecated in version 1.5 and will be removed in 1.7. From then on, it will always use 'multinomial'. Leave it to its default value to avoid this warning.\n  warnings.warn(\n/usr/local/lib/python3.11/dist-packages/sklearn/linear_model/_logistic.py:1247: FutureWarning: 'multi_class' was deprecated in version 1.5 and will be removed in 1.7. From then on, it will always use 'multinomial'. Leave it to its default value to avoid this warning.\n  warnings.warn(\n"
          ]
        },
        {
          "output_type": "stream",
          "name": "stdout",
          "text": [
            "  Fold 3: tr=1171 va=289 bestC=0.25 innerLL=0.11922 elapsed=4.56s\n"
          ]
        },
        {
          "output_type": "stream",
          "name": "stderr",
          "text": [
            "/usr/local/lib/python3.11/dist-packages/sklearn/linear_model/_logistic.py:1247: FutureWarning: 'multi_class' was deprecated in version 1.5 and will be removed in 1.7. From then on, it will always use 'multinomial'. Leave it to its default value to avoid this warning.\n  warnings.warn(\n/usr/local/lib/python3.11/dist-packages/sklearn/linear_model/_logistic.py:1247: FutureWarning: 'multi_class' was deprecated in version 1.5 and will be removed in 1.7. From then on, it will always use 'multinomial'. Leave it to its default value to avoid this warning.\n  warnings.warn(\n/usr/local/lib/python3.11/dist-packages/sklearn/linear_model/_logistic.py:1247: FutureWarning: 'multi_class' was deprecated in version 1.5 and will be removed in 1.7. From then on, it will always use 'multinomial'. Leave it to its default value to avoid this warning.\n  warnings.warn(\n"
          ]
        },
        {
          "output_type": "stream",
          "name": "stderr",
          "text": [
            "/usr/local/lib/python3.11/dist-packages/sklearn/linear_model/_logistic.py:1247: FutureWarning: 'multi_class' was deprecated in version 1.5 and will be removed in 1.7. From then on, it will always use 'multinomial'. Leave it to its default value to avoid this warning.\n  warnings.warn(\n/usr/local/lib/python3.11/dist-packages/sklearn/linear_model/_logistic.py:1247: FutureWarning: 'multi_class' was deprecated in version 1.5 and will be removed in 1.7. From then on, it will always use 'multinomial'. Leave it to its default value to avoid this warning.\n  warnings.warn(\n"
          ]
        },
        {
          "output_type": "stream",
          "name": "stderr",
          "text": [
            "/usr/local/lib/python3.11/dist-packages/sklearn/linear_model/_logistic.py:1247: FutureWarning: 'multi_class' was deprecated in version 1.5 and will be removed in 1.7. From then on, it will always use 'multinomial'. Leave it to its default value to avoid this warning.\n  warnings.warn(\n/usr/local/lib/python3.11/dist-packages/sklearn/linear_model/_logistic.py:1247: FutureWarning: 'multi_class' was deprecated in version 1.5 and will be removed in 1.7. From then on, it will always use 'multinomial'. Leave it to its default value to avoid this warning.\n  warnings.warn(\n"
          ]
        },
        {
          "output_type": "stream",
          "name": "stderr",
          "text": [
            "/usr/local/lib/python3.11/dist-packages/sklearn/linear_model/_logistic.py:1247: FutureWarning: 'multi_class' was deprecated in version 1.5 and will be removed in 1.7. From then on, it will always use 'multinomial'. Leave it to its default value to avoid this warning.\n  warnings.warn(\n/usr/local/lib/python3.11/dist-packages/sklearn/linear_model/_logistic.py:1247: FutureWarning: 'multi_class' was deprecated in version 1.5 and will be removed in 1.7. From then on, it will always use 'multinomial'. Leave it to its default value to avoid this warning.\n  warnings.warn(\n/usr/local/lib/python3.11/dist-packages/sklearn/linear_model/_logistic.py:1247: FutureWarning: 'multi_class' was deprecated in version 1.5 and will be removed in 1.7. From then on, it will always use 'multinomial'. Leave it to its default value to avoid this warning.\n  warnings.warn(\n"
          ]
        },
        {
          "output_type": "stream",
          "name": "stderr",
          "text": [
            "/usr/local/lib/python3.11/dist-packages/sklearn/linear_model/_logistic.py:1247: FutureWarning: 'multi_class' was deprecated in version 1.5 and will be removed in 1.7. From then on, it will always use 'multinomial'. Leave it to its default value to avoid this warning.\n  warnings.warn(\n/usr/local/lib/python3.11/dist-packages/sklearn/linear_model/_logistic.py:1247: FutureWarning: 'multi_class' was deprecated in version 1.5 and will be removed in 1.7. From then on, it will always use 'multinomial'. Leave it to its default value to avoid this warning.\n  warnings.warn(\n/usr/local/lib/python3.11/dist-packages/sklearn/linear_model/_logistic.py:1247: FutureWarning: 'multi_class' was deprecated in version 1.5 and will be removed in 1.7. From then on, it will always use 'multinomial'. Leave it to its default value to avoid this warning.\n  warnings.warn(\n"
          ]
        },
        {
          "output_type": "stream",
          "name": "stderr",
          "text": [
            "/usr/local/lib/python3.11/dist-packages/sklearn/linear_model/_logistic.py:1247: FutureWarning: 'multi_class' was deprecated in version 1.5 and will be removed in 1.7. From then on, it will always use 'multinomial'. Leave it to its default value to avoid this warning.\n  warnings.warn(\n/usr/local/lib/python3.11/dist-packages/sklearn/linear_model/_logistic.py:1247: FutureWarning: 'multi_class' was deprecated in version 1.5 and will be removed in 1.7. From then on, it will always use 'multinomial'. Leave it to its default value to avoid this warning.\n  warnings.warn(\n/usr/local/lib/python3.11/dist-packages/sklearn/linear_model/_logistic.py:1247: FutureWarning: 'multi_class' was deprecated in version 1.5 and will be removed in 1.7. From then on, it will always use 'multinomial'. Leave it to its default value to avoid this warning.\n  warnings.warn(\n"
          ]
        },
        {
          "output_type": "stream",
          "name": "stdout",
          "text": [
            "  Fold 4: tr=1165 va=295 bestC=0.25 innerLL=0.16312 elapsed=6.20s\n"
          ]
        },
        {
          "output_type": "stream",
          "name": "stdout",
          "text": [
            "  Bin 4 done in 6.20s\n"
          ]
        },
        {
          "output_type": "stream",
          "name": "stdout",
          "text": [
            "OOF (stacker, no calibration): 0.30475\n"
          ]
        },
        {
          "output_type": "stream",
          "name": "stdout",
          "text": [
            "Saved submission.csv. Total elapsed 139.76s\n"
          ]
        }
      ]
    },
    {
      "id": "9cbf87e5-2e41-49ff-84c0-76f4bf037873",
      "cell_type": "code",
      "metadata": {},
      "source": [
        "# Per-bin scalar temperature calibration on meta stacker outputs + optional tiny overlay\n",
        "import numpy as np, pandas as pd, time\n",
        "from sklearn.metrics import log_loss\n",
        "\n",
        "assert 'oof_meta' in globals() and 'test_meta' in globals(), 'Run the stacker cell first.'\n",
        "assert 'train' in globals() and 'test' in globals(), 'Run audit first.'\n",
        "\n",
        "classes = ['EAP','HPL','MWS']\n",
        "label_map = {c:i for i,c in enumerate(classes)}\n",
        "y = train['author'].map(label_map).values\n",
        "\n",
        "def clip_renorm(P, eps=1e-8):\n",
        "    P = np.asarray(P, dtype=np.float64)\n",
        "    P = np.clip(P, eps, 1.0 - eps*2)\n",
        "    P = P / P.sum(axis=1, keepdims=True)\n",
        "    return P\n",
        "\n",
        "def softmax_from_logS(S):\n",
        "    Smax = S.max(axis=1, keepdims=True)\n",
        "    eS = np.exp(S - Smax)\n",
        "    return eS / (eS.sum(axis=1, keepdims=True) + 1e-20)\n",
        "\n",
        "def fit_scalar_temperature(logP, y_true, T_bounds=(0.65, 1.45), steps=36):\n",
        "    a, b = T_bounds\n",
        "    gr = (np.sqrt(5) - 1) / 2\n",
        "    c = b - gr * (b - a)\n",
        "    d = a + gr * (b - a)\n",
        "    def nll(T):\n",
        "        S = logP / T\n",
        "        P = softmax_from_logS(S)\n",
        "        return log_loss(y_true, clip_renorm(P), labels=[0,1,2])\n",
        "    fc, fd = nll(c), nll(d)\n",
        "    for _ in range(steps):\n",
        "        if fc > fd:\n",
        "            a = c; c = d; fc = fd; d = a + gr * (b - a); fd = nll(d)\n",
        "        else:\n",
        "            b = d; d = c; fd = fc; c = b - gr * (b - a); fc = nll(c)\n",
        "    return float(0.5*(a+b))\n",
        "\n",
        "# 5-bin definitions used in stacker cell\n",
        "lens_tr = train['text'].astype(str).str.len().values\n",
        "lens_te = test['text'].astype(str).str.len().values\n",
        "cuts = np.array([80, 130, 200, 280])\n",
        "bins_tr = np.digitize(lens_tr, cuts, right=True)  # 0..4\n",
        "bins_te = np.digitize(lens_te, cuts, right=True)\n",
        "bin_names = ['vshort','short','mid','long','vlong']\n",
        "\n",
        "oof_cal = oof_meta.copy()\n",
        "test_cal = test_meta.copy()\n",
        "\n",
        "t0 = time.time()\n",
        "for b in range(5):\n",
        "    tr_idx = np.where(bins_tr==b)[0]\n",
        "    te_idx = np.where(bins_te==b)[0]\n",
        "    if len(tr_idx) == 0:\n",
        "        continue\n",
        "    # work in log-prob space for calibration\n",
        "    logP_tr = np.log(clip_renorm(oof_meta[tr_idx]))\n",
        "    T = fit_scalar_temperature(logP_tr, y[tr_idx],\n",
        "                               T_bounds=(0.65, 1.45) if b==0 else (0.67,1.43) if b==1 else (0.70,1.40) if b==2 else (0.73,1.37),\n",
        "                               steps=32)\n",
        "    # apply to train/test bins\n",
        "    oof_cal[tr_idx] = softmax_from_logS(logP_tr / T)\n",
        "    if len(te_idx) > 0:\n",
        "        logP_te = np.log(clip_renorm(test_meta[te_idx]))\n",
        "        test_cal[te_idx] = softmax_from_logS(logP_te / T)\n",
        "    print(f'Bin {b} ({bin_names[b]}): T={T:.4f}, n_tr={len(tr_idx)} n_te={len(te_idx)}', flush=True)\n",
        "\n",
        "oof_ll_cal = log_loss(y, clip_renorm(oof_cal), labels=[0,1,2])\n",
        "print(f'OOF after per-bin temperature calibration: {oof_ll_cal:.5f}', flush=True)\n",
        "\n",
        "# Optional tiny overlay for stability (can comment out if undesired)\n",
        "def overlay_confidence(P, alpha_max=0.05):\n",
        "    m = P.max(axis=1, keepdims=True)\n",
        "    gamma = alpha_max * (1.0 - m)\n",
        "    U = np.full_like(P, 1.0 / P.shape[1])\n",
        "    Q = (1.0 - gamma) * P + gamma * U\n",
        "    return clip_renorm(Q)\n",
        "\n",
        "oof_cal_ov = overlay_confidence(oof_cal, alpha_max=0.05)\n",
        "oof_ll_cal_ov = log_loss(y, oof_cal_ov, labels=[0,1,2])\n",
        "print(f'OOF after calib + tiny overlay (0.05): {oof_ll_cal_ov:.5f}', flush=True)\n",
        "\n",
        "# Save calibrated submission (with tiny overlay applied for test as well)\n",
        "sub = pd.read_csv('sample_submission.csv')\n",
        "sub[classes] = overlay_confidence(test_cal, alpha_max=0.05)\n",
        "sub.to_csv('submission.csv', index=False)\n",
        "print('Saved submission.csv. Calib elapsed {:.2f}s'.format(time.time()-t0), flush=True)"
      ],
      "execution_count": 8,
      "outputs": [
        {
          "output_type": "stream",
          "name": "stdout",
          "text": [
            "Bin 0 (vshort): T=1.1170, n_tr=4330 n_te=466\n"
          ]
        },
        {
          "output_type": "stream",
          "name": "stdout",
          "text": [
            "Bin 1 (short): T=1.1091, n_tr=4674 n_te=516\n"
          ]
        },
        {
          "output_type": "stream",
          "name": "stdout",
          "text": [
            "Bin 2 (mid): T=1.1030, n_tr=4698 n_te=506\n"
          ]
        },
        {
          "output_type": "stream",
          "name": "stdout",
          "text": [
            "Bin 3 (long): T=1.3370, n_tr=2459 n_te=292\n"
          ]
        },
        {
          "output_type": "stream",
          "name": "stdout",
          "text": [
            "Bin 4 (vlong): T=1.3700, n_tr=1460 n_te=178\n"
          ]
        },
        {
          "output_type": "stream",
          "name": "stdout",
          "text": [
            "OOF after per-bin temperature calibration: 0.30023\n"
          ]
        },
        {
          "output_type": "stream",
          "name": "stdout",
          "text": [
            "OOF after calib + tiny overlay (0.05): 0.30006\n"
          ]
        },
        {
          "output_type": "stream",
          "name": "stdout",
          "text": [
            "Saved submission.csv. Calib elapsed 0.23s\n"
          ]
        }
      ]
    },
    {
      "id": "2edf5916-c3fd-4849-91d2-76a520c69b68",
      "cell_type": "code",
      "metadata": {},
      "source": [
        "# ElasticNet multinomial stacker with meta features and quick prune (FAST: fixed C,l1_ratio per bin, no inner CV)\n",
        "import numpy as np, pandas as pd, time, math\n",
        "from sklearn.linear_model import LogisticRegression\n",
        "from sklearn.metrics import log_loss\n",
        "from sklearn.model_selection import StratifiedKFold\n",
        "\n",
        "t0 = time.time()\n",
        "assert 'loaded' in globals() and 'train' in globals() and 'test' in globals() and 'summary' in globals(), 'Run audit first.'\n",
        "classes = ['EAP','HPL','MWS']\n",
        "label_map = {c:i for i,c in enumerate(classes)}\n",
        "y = train['author'].map(label_map).values\n",
        "\n",
        "# Quick prune per expert\n",
        "drop_set = {'char5lm','stylo_lr','nbsvm_wordchar','nbsvm_word','cnb_word','svc_word_uni_iso'}\n",
        "solo = dict(summary)  # key -> OOF\n",
        "model_keys = [k for k,_ in summary if (k not in drop_set) and (solo.get(k, 1e9) <= 0.46)]\n",
        "print('Using base models after prune (count):', len(model_keys))\n",
        "\n",
        "def clip_renorm(P, eps=1e-8):\n",
        "    P = np.asarray(P, dtype=np.float64)\n",
        "    P = np.clip(P, eps, 1.0 - eps*2)\n",
        "    P = P / P.sum(axis=1, keepdims=True)\n",
        "    return P\n",
        "\n",
        "def build_logits(split='oof'):\n",
        "    feats = []\n",
        "    for k in model_keys:\n",
        "        P = loaded[k][split]\n",
        "        feats.append(np.log(clip_renorm(P)))  # (N,3)\n",
        "    X = np.concatenate(feats, axis=1) if feats else np.zeros((len(train if split=='oof' else test),0))\n",
        "    return X\n",
        "\n",
        "X_tr_logits = build_logits('oof')\n",
        "X_te_logits = build_logits('test')\n",
        "print('Logit feature shapes:', X_tr_logits.shape, X_te_logits.shape, flush=True)\n",
        "\n",
        "# Meta features (5): log_len, punct_ratio, digit_ratio, upper_ratio, entropy_top (from nbsvm_wc_tweaked)\n",
        "text_tr = train['text'].astype(str).values\n",
        "text_te = test['text'].astype(str).values\n",
        "def meta_from_text(texts):\n",
        "    L = np.array([len(t) for t in texts], dtype=np.float64)\n",
        "    L[L<1] = 1.0\n",
        "    log_len = np.log1p(L)\n",
        "    def cnt(s, chars):\n",
        "        return sum(s.count(ch) for ch in chars)\n",
        "    punct_chars = list(\".,;:?!'\\\"-\")\n",
        "    digit_chars = list('0123456789')\n",
        "    upper_ratio = np.array([sum(ch.isupper() for ch in s)/max(len(s),1) for s in texts], dtype=np.float64)\n",
        "    punct_ratio = np.array([cnt(s, punct_chars)/max(len(s),1) for s in texts], dtype=np.float64)\n",
        "    digit_ratio = np.array([cnt(s, digit_chars)/max(len(s),1) for s in texts], dtype=np.float64)\n",
        "    return np.stack([log_len, punct_ratio, digit_ratio, upper_ratio], axis=1)\n",
        "\n",
        "X_meta_tr_basic = meta_from_text(text_tr)\n",
        "X_meta_te_basic = meta_from_text(text_te)\n",
        "\n",
        "def entropy_rows(P):\n",
        "    P = clip_renorm(P)\n",
        "    return -(P * np.log(np.clip(P, 1e-12, 1.0))).sum(axis=1)\n",
        "\n",
        "base_key_for_entropy = 'nbsvm_wc_tweaked' if 'nbsvm_wc_tweaked' in loaded else summary[0][0]\n",
        "ent_tr = entropy_rows(loaded[base_key_for_entropy]['oof']).reshape(-1,1)\n",
        "ent_te = entropy_rows(loaded[base_key_for_entropy]['test']).reshape(-1,1)\n",
        "\n",
        "# Assemble meta features\n",
        "X_meta_tr_full = np.concatenate([X_meta_tr_basic, ent_tr], axis=1)  # (N,5)\n",
        "X_meta_te_full = np.concatenate([X_meta_te_basic, ent_te], axis=1)  # (Nte,5)\n",
        "\n",
        "# Define 5 length bins\n",
        "lens_tr = np.array([len(t) for t in text_tr])\n",
        "lens_te = np.array([len(t) for t in text_te])\n",
        "cuts = np.array([80,130,200,280])\n",
        "bins_tr = np.digitize(lens_tr, cuts, right=True)  # 0..4\n",
        "bins_te = np.digitize(lens_te, cuts, right=True)\n",
        "bin_names = ['vshort','short','mid','long','vlong']\n",
        "print('Bin counts:', [int((bins_tr==b).sum()) for b in range(5)], flush=True)\n",
        "\n",
        "# Folds\n",
        "folds = np.load('folds_seed42_5.npy')\n",
        "n_folds = int(folds.max()+1)\n",
        "print('Folds:', n_folds, np.bincount(folds), flush=True)\n",
        "\n",
        "# Outputs\n",
        "oof_meta = np.zeros((len(train), 3), dtype=float)\n",
        "test_meta_parts = [np.zeros((len(test), 3), dtype=float) for _ in range(n_folds)]\n",
        "\n",
        "# Fixed ElasticNet hyperparams (fast, strong defaults)\n",
        "fixed_C = 0.5\n",
        "fixed_l1 = 0.5\n",
        "\n",
        "overall_t1 = time.time()\n",
        "for b in range(5):\n",
        "    tr_idx_bin = np.where(bins_tr==b)[0]\n",
        "    te_idx_bin = np.where(bins_te==b)[0]\n",
        "    if len(tr_idx_bin) == 0:\n",
        "        continue\n",
        "    print(f'Bin {b} ({bin_names[b]}): n_tr={len(tr_idx_bin)} n_te={len(te_idx_bin)}', flush=True)\n",
        "    # Standardize meta features per bin using training-bin statistics\n",
        "    Xm_tr = X_meta_tr_full[tr_idx_bin].astype(np.float64)\n",
        "    mu = Xm_tr.mean(axis=0, keepdims=True)\n",
        "    sd = Xm_tr.std(axis=0, keepdims=True) + 1e-8\n",
        "    Xm_tr_z = (Xm_tr - mu) / sd\n",
        "    Xm_te = X_meta_te_full[te_idx_bin].astype(np.float64) if len(te_idx_bin)>0 else np.zeros((0, Xm_tr.shape[1]))\n",
        "    Xm_te_z = (Xm_te - mu) / sd if len(te_idx_bin)>0 else Xm_te\n",
        "    # Concatenate logits + meta\n",
        "    Xb_all = np.concatenate([X_tr_logits[tr_idx_bin], Xm_tr_z], axis=1)\n",
        "    Xb_te_all = np.concatenate([X_te_logits[te_idx_bin], Xm_te_z], axis=1) if len(te_idx_bin)>0 else None\n",
        "    yb = y[tr_idx_bin]\n",
        "\n",
        "    t_bin = time.time()\n",
        "    for f in range(n_folds):\n",
        "        tr_mask = (folds[tr_idx_bin] != f)\n",
        "        va_mask = ~tr_mask\n",
        "        X_tr_fold = Xb_all[tr_mask]\n",
        "        y_tr_fold = yb[tr_mask]\n",
        "        X_va_fold = Xb_all[va_mask]\n",
        "        clf = LogisticRegression(solver='saga', penalty='elasticnet', l1_ratio=fixed_l1, C=fixed_C,\n",
        "                                 max_iter=3000, tol=1e-4)\n",
        "        clf.fit(X_tr_fold, y_tr_fold)\n",
        "        oof_meta[tr_idx_bin[va_mask]] = clf.predict_proba(X_va_fold)\n",
        "        if Xb_te_all is not None and len(te_idx_bin)>0:\n",
        "            test_meta_parts[f][te_idx_bin] = clf.predict_proba(Xb_te_all)\n",
        "        print(f'  Fold {f}: tr={tr_mask.sum()} va={va_mask.sum()} elapsed={time.time()-t_bin:.2f}s', flush=True)\n",
        "    print(f'  Bin {b} done in {time.time()-t_bin:.2f}s', flush=True)\n",
        "\n",
        "# Average test predictions across folds\n",
        "test_meta = np.zeros_like(test_meta_parts[0])\n",
        "for f in range(n_folds):\n",
        "    test_meta += test_meta_parts[f] / n_folds\n",
        "\n",
        "oof_ll = log_loss(y, clip_renorm(oof_meta), labels=[0,1,2])\n",
        "print(f'OOF (ElasticNet stacker, no calibration): {oof_ll:.5f}', flush=True)\n",
        "\n",
        "# Emit a submission (raw meta) for sanity; calibration cell can be run next\n",
        "sub = pd.read_csv('sample_submission.csv')\n",
        "sub[classes] = clip_renorm(test_meta)\n",
        "sub.to_csv('submission.csv', index=False)\n",
        "print('Saved submission.csv. Total elapsed {:.2f}s'.format(time.time()-t0), flush=True)"
      ],
      "execution_count": null,
      "outputs": [
        {
          "output_type": "stream",
          "name": "stdout",
          "text": [
            "Using base models after prune (count): 27\nLogit feature shapes: (17621, 81) (1958, 81)\n"
          ]
        },
        {
          "output_type": "stream",
          "name": "stdout",
          "text": [
            "Bin counts: [4330, 4674, 4698, 2459, 1460]\n"
          ]
        },
        {
          "output_type": "stream",
          "name": "stdout",
          "text": [
            "Folds: 5 [3525 3524 3524 3524 3524]\n"
          ]
        },
        {
          "output_type": "stream",
          "name": "stdout",
          "text": [
            "Bin 0 (vshort): n_tr=4330 n_te=466\n"
          ]
        }
      ]
    }
  ],
  "metadata": {
    "kernelspec": {
      "display_name": "Python 3",
      "language": "python",
      "name": "python3"
    },
    "language_info": {
      "name": "python",
      "version": "3.11.0rc1"
    }
  },
  "nbformat": 4,
  "nbformat_minor": 5
}