{
  "cells": [
    {
      "id": "8436da3c-ab1f-4468-baab-e1924a4a5859",
      "cell_type": "markdown",
      "metadata": {},
      "source": [
        "# Hotel-ID 2021 FGVC8 \u2013 Plan\n",
        "\n",
        "Objectives:\n",
        "- Achieve medal: MAP@5 bronze \u2265 0.0216, silver \u2265 0.39, gold \u2265 0.7205.\n",
        "- Build fast, reliable baseline; iterate with solid CV and logging.\n",
        "\n",
        "Initial Actions:\n",
        "1) Environment & GPU check (nvidia-smi, install PyTorch cu121 if needed).\n",
        "2) Data audit: train.csv schema, label counts, image presence; test_images count; sample_submission format.\n",
        "3) Validation: stratified K-fold by hotel_id with group-aware leakage control (if multiple images per hotel).\n",
        "4) Baseline model:\n",
        "   - Image model: pretrained CNN (e.g., timm resnet50 / efficientnet_b0) with mixed precision & augmentations.\n",
        "   - Input size 224, simple aug: RRC/flip/color jitter. Optim: AdamW, CE loss with label smoothing.\n",
        "   - Quick smoke: 1-2 folds, few epochs to validate pipeline; cache features if needed.\n",
        "5) Full training:\n",
        "   - 5-fold StratifiedKFold; freeze then unfreeze (2+6 epochs) with cosine schedule.\n",
        "   - Save OOF logits and test logits per fold.\n",
        "6) Inference:\n",
        "   - TTA (e.g., hflip). Average fold logits \u2192 softmax \u2192 top5 per image.\n",
        "   - Ensure exact submission format: image,label_pred\n",
        "7) Error analysis:\n",
        "   - Inspect per-class performance, confusion among similar hotels; consider higher resolution or stronger backbone (convnext_base, eca_nfnet_l0) if time.\n",
        "8) Ensembling:\n",
        "   - Blend diverse backbones/seeds if CV gains and time allows.\n",
        "\n",
        "Checkpoints to request expert review:\n",
        "- After plan (this cell).\n",
        "- After EDA & CV decision.\n",
        "- After baseline training results (OOF MAP@5).\n",
        "- Before long trainings (architecture choice & epochs).\n",
        "- After first LB score; adjust strategy.\n",
        "\n",
        "Risk/Time Management:\n",
        "- Use fast smoke runs; abort slow configs.\n",
        "- Always log fold indices and elapsed times.\n",
        "- Save and reuse fold splits and logits.\n",
        "\n",
        "Next Step: Run environment + data sanity checks."
      ],
      "execution_count": null,
      "outputs": []
    },
    {
      "id": "28d1ea9f-8c0a-4ebc-8717-043fcb7d4dfb",
      "cell_type": "code",
      "metadata": {},
      "source": [
        "# Environment + Data Sanity Checks\n",
        "import os, sys, subprocess, time, json, glob\n",
        "import pandas as pd\n",
        "\n",
        "t0 = time.time()\n",
        "print(\"=== GPU CHECK (nvidia-smi) ===\", flush=True)\n",
        "try:\n",
        "    out = subprocess.run(['bash','-lc','nvidia-smi || true'], capture_output=True, text=True)\n",
        "    print(out.stdout, flush=True)\n",
        "except Exception as e:\n",
        "    print(\"nvidia-smi failed:\", e, flush=True)\n",
        "\n",
        "print(\"=== List top-level files ===\", flush=True)\n",
        "for p in sorted(os.listdir('.')):\n",
        "    try:\n",
        "        print(p, os.path.getsize(p) if os.path.isfile(p) else '<dir>')\n",
        "    except Exception:\n",
        "        print(p)\n",
        "\n",
        "print(\"=== CSV heads ===\", flush=True)\n",
        "for csv in ['train.csv','sample_submission.csv']:\n",
        "    if os.path.exists(csv):\n",
        "        try:\n",
        "            df = pd.read_csv(csv)\n",
        "            print(csv, df.shape, flush=True)\n",
        "            print(df.head(3).to_string(index=False), flush=True)\n",
        "        except Exception as e:\n",
        "            print(f\"Failed to read {csv}: {e}\", flush=True)\n",
        "    else:\n",
        "        print(csv, \"not found\", flush=True)\n",
        "\n",
        "print(\"=== Image counts ===\", flush=True)\n",
        "test_imgs = glob.glob('test_images/*')\n",
        "print(\"test_images:\", len(test_imgs), flush=True)\n",
        "\n",
        "# train_images are in subdirectories; count per subdir and total\n",
        "train_total = 0\n",
        "train_dirs = sorted([d for d in glob.glob('train_images/*') if os.path.isdir(d)])\n",
        "per_dir_counts = {}\n",
        "for d in train_dirs:\n",
        "    cnt = len(glob.glob(os.path.join(d, '*')))\n",
        "    per_dir_counts[os.path.basename(d)] = cnt\n",
        "    train_total += cnt\n",
        "print(\"train subdirs:\", len(train_dirs), \"total train images:\", train_total, flush=True)\n",
        "print(\"First 5 dir counts:\", list(per_dir_counts.items())[:5], flush=True)\n",
        "\n",
        "print(\"Elapsed:\", round(time.time()-t0,2), \"s\", flush=True)"
      ],
      "execution_count": 1,
      "outputs": [
        {
          "output_type": "stream",
          "name": "stdout",
          "text": [
            "=== GPU CHECK (nvidia-smi) ===\n"
          ]
        },
        {
          "output_type": "stream",
          "name": "stdout",
          "text": [
            "Sat Sep 27 02:22:26 2025       \n+-----------------------------------------------------------------------------------------+\n| NVIDIA-SMI 550.144.06             Driver Version: 550.144.06     CUDA Version: 12.4     |\n|-----------------------------------------+------------------------+----------------------+\n| GPU  Name                 Persistence-M | Bus-Id          Disp.A | Volatile Uncorr. ECC |\n| Fan  Temp   Perf          Pwr:Usage/Cap |           Memory-Usage | GPU-Util  Compute M. |\n|                                         |                        |               MIG M. |\n|=========================================+========================+======================|\n|   0  NVIDIA A10-24Q                 On  |   00000002:00:00.0 Off |                    0 |\n| N/A   N/A    P0             N/A /  N/A  |     182MiB /  24512MiB |      0%      Default |\n|                                         |                        |                  N/A |\n+-----------------------------------------+------------------------+----------------------+\n                                                                                         \n+-----------------------------------------------------------------------------------------+\n| Processes:                                                                              |\n|  GPU   GI   CI        PID   Type   Process name                              GPU Memory |\n|        ID   ID                                                               Usage      |\n|=========================================================================================|\n+-----------------------------------------------------------------------------------------+\n\n"
          ]
        },
        {
          "output_type": "stream",
          "name": "stdout",
          "text": [
            "=== List top-level files ===\n"
          ]
        },
        {
          "output_type": "stream",
          "name": "stdout",
          "text": [
            ".00_eda_and_planning_kernel_state.json 183\n00_eda_and_planning.ipynb 5282\nagent_metadata <dir>\ndescription.md 7362\ndocker_run.log 27034\nrequirements.txt 2021\nsample_submission.csv 497571\nsubmission.csv 497571\ntask.txt 940\ntest_images <dir>\ntrain.csv 4326682\ntrain_images <dir>\n=== CSV heads ===\n"
          ]
        },
        {
          "output_type": "stream",
          "name": "stdout",
          "text": [
            "train.csv (87798, 4)\n"
          ]
        },
        {
          "output_type": "stream",
          "name": "stdout",
          "text": [
            "               image  chain  hotel_id           timestamp\nd29287f52c2a871f.jpg      5     22408 2018-04-16 17:01:49\ne9d067c249e4c2f9.jpg     70      2324 2016-07-08 22:26:21\ncc9877a40a63ed93.jpg      4     47514 2017-04-14 02:28:56\n"
          ]
        },
        {
          "output_type": "stream",
          "name": "stdout",
          "text": [
            "sample_submission.csv (9756, 2)\n"
          ]
        },
        {
          "output_type": "stream",
          "name": "stdout",
          "text": [
            "               image                      hotel_id\nf1608c9f17fb6920.jpg 36363 53586 18807 64314 60181\nc6c63939c67931e1.jpg 36363 53586 18807 64314 60181\n83c214f3e90717ed.jpg 36363 53586 18807 64314 60181\n"
          ]
        },
        {
          "output_type": "stream",
          "name": "stdout",
          "text": [
            "=== Image counts ===\n"
          ]
        },
        {
          "output_type": "stream",
          "name": "stdout",
          "text": [
            "test_images: 9756\n"
          ]
        },
        {
          "output_type": "stream",
          "name": "stdout",
          "text": [
            "train subdirs: 88 total train images: 87797\n"
          ]
        },
        {
          "output_type": "stream",
          "name": "stdout",
          "text": [
            "First 5 dir counts: [('0', 18213), ('1', 1118), ('10', 11), ('11', 221), ('12', 23)]\n"
          ]
        },
        {
          "output_type": "stream",
          "name": "stdout",
          "text": [
            "Elapsed: 0.2 s\n"
          ]
        }
      ]
    }
  ],
  "metadata": {
    "kernelspec": {
      "display_name": "Python 3",
      "language": "python",
      "name": "python3"
    },
    "language_info": {
      "name": "python",
      "version": "3.11.0rc1"
    }
  },
  "nbformat": 4,
  "nbformat_minor": 5
}