{
  "cells": [
    {
      "id": "599e3cf2-cb2b-4046-9b99-78e84804923c",
      "cell_type": "code",
      "metadata": {},
      "source": [
        "# Quick environment and data inspection\n",
        "import os, glob, pandas as pd, numpy as np\n",
        "\n",
        "print('CWD:', os.getcwd())\n",
        "print('Train images:', len(glob.glob('train/*.png')))\n",
        "print('Train_cleaned images:', len(glob.glob('train_cleaned/*.png')))\n",
        "print('Test images:', len(glob.glob('test/*.png')))\n",
        "\n",
        "sub_path = 'sampleSubmission.csv'\n",
        "print('\\nReading sampleSubmission.csv ...')\n",
        "sub = pd.read_csv(sub_path)\n",
        "print('submission shape:', sub.shape)\n",
        "print('columns:', list(sub.columns))\n",
        "print(sub.head(3))"
      ],
      "execution_count": 1,
      "outputs": [
        {
          "output_type": "stream",
          "name": "stdout",
          "text": [
            "CWD: /app/agent_run_states/denoising-dirty-documents-20250905-222218\nTrain images: 115\nTrain_cleaned images: 115\nTest images: 29\n\nReading sampleSubmission.csv ...\n"
          ]
        },
        {
          "output_type": "stream",
          "name": "stdout",
          "text": [
            "submission shape: (5789880, 2)\ncolumns: ['id', 'value']\n        id  value\n0  110_1_1      1\n1  110_1_2      1\n2  110_1_3      1\n"
          ]
        }
      ]
    },
    {
      "id": "2a675068-0c69-4ec5-a782-25198f97b8dc",
      "cell_type": "code",
      "metadata": {},
      "source": [
        "# Build baseline: 5x5 neighborhood features, image-wise KFold, XGBoost GPU if available\n",
        "import os, glob, math, random, sys, subprocess\n",
        "from pathlib import Path\n",
        "import numpy as np\n",
        "import pandas as pd\n",
        "from PIL import Image\n",
        "from sklearn.model_selection import KFold\n",
        "from sklearn.metrics import mean_squared_error\n",
        "\n",
        "def ensure_xgb(upgrade=True):\n",
        "    if upgrade:\n",
        "        subprocess.run([sys.executable, '-m', 'pip', 'install', '--upgrade', '--no-cache-dir', 'xgboost', '-q'], check=True)\n",
        "    import xgboost as xgb\n",
        "    return xgb\n",
        "\n",
        "def load_gray(path):\n",
        "    im = Image.open(path).convert('L')\n",
        "    arr = np.asarray(im, dtype=np.uint8)\n",
        "    return arr\n",
        "\n",
        "def features_from_img(img, ks=5):\n",
        "    # img uint8 HxW -> features (H*W, ks*ks), values normalized [0,1]\n",
        "    pad = ks // 2\n",
        "    padded = np.pad(img, ((pad, pad), (pad, pad)), mode='reflect')\n",
        "    H, W = img.shape\n",
        "    feats = []\n",
        "    for dy in range(-pad, pad+1):\n",
        "        for dx in range(-pad, pad+1):\n",
        "            sl = padded[pad+dy:pad+dy+H, pad+dx:pad+dx+W]\n",
        "            feats.append(sl.reshape(-1))\n",
        "    X = np.stack(feats, axis=1).astype(np.float32) / 255.0\n",
        "    return X\n",
        "\n",
        "def sample_indices(H, W, max_per_image=60000, seed=42):\n",
        "    n = H * W\n",
        "    if n <= max_per_image:\n",
        "        return np.arange(n, dtype=np.int64)\n",
        "    rng = np.random.default_rng(seed)\n",
        "    return rng.choice(n, size=max_per_image, replace=False)\n",
        "\n",
        "train_paths = sorted(glob.glob('train/*.png'), key=lambda p: int(Path(p).stem))\n",
        "clean_paths = {Path(p).stem: p for p in glob.glob('train_cleaned/*.png')}\n",
        "test_paths = sorted(glob.glob('test/*.png'), key=lambda p: int(Path(p).stem))\n",
        "\n",
        "# Prepare dataset by sampling per image to limit memory\n",
        "ks = 5\n",
        "max_per_image = 60000\n",
        "X_list, y_list, ids_list = [], [], []\n",
        "rng_base = 42\n",
        "for i, tp in enumerate(train_paths):\n",
        "    img_id = Path(tp).stem\n",
        "    cp = clean_paths[img_id]\n",
        "    img = load_gray(tp)\n",
        "    tgt = load_gray(cp)\n",
        "    H, W = img.shape\n",
        "    X_full = features_from_img(img, ks=ks)\n",
        "    y_full = (tgt.reshape(-1).astype(np.float32) / 255.0)\n",
        "    idx = sample_indices(H, W, max_per_image=max_per_image, seed=rng_base + i)\n",
        "    X_list.append(X_full[idx])\n",
        "    y_list.append(y_full[idx])\n",
        "    ids_list.extend([img_id]*len(idx))\n",
        "    # free\n",
        "    del X_full, y_full, img, tgt\n",
        "\n",
        "X = np.concatenate(X_list, axis=0)\n",
        "y = np.concatenate(y_list, axis=0)\n",
        "img_ids = np.array(ids_list)\n",
        "del X_list, y_list, ids_list\n",
        "print('X shape:', X.shape, 'y shape:', y.shape, 'unique images:', len(np.unique(img_ids)))\n",
        "\n",
        "# Image-wise 5-fold CV; run one fold to validate quickly\n",
        "unique_imgs = np.array(sorted({*img_ids}, key=lambda s: int(s)))\n",
        "kf = KFold(n_splits=5, shuffle=True, random_state=42)\n",
        "train_img_idx, val_img_idx = next(kf.split(unique_imgs))\n",
        "train_imgs = set(unique_imgs[train_img_idx])\n",
        "val_imgs = set(unique_imgs[val_img_idx])\n",
        "tr_mask = np.array([i in train_imgs for i in img_ids])\n",
        "va_mask = ~tr_mask\n",
        "X_tr, y_tr = X[tr_mask], y[tr_mask]\n",
        "X_va, y_va = X[va_mask], y[va_mask]\n",
        "print('Train/Val sizes:', X_tr.shape, X_va.shape)\n",
        "\n",
        "xgb = ensure_xgb(upgrade=True)\n",
        "gpu_params = dict(tree_method='gpu_hist', predictor='gpu_predictor')\n",
        "params = dict(n_estimators=300, max_depth=6, learning_rate=0.06, subsample=0.8, colsample_bytree=0.8, reg_lambda=8.0, min_child_weight=1.0, random_state=42, n_jobs=8, verbosity=0, **gpu_params)\n",
        "model = xgb.XGBRegressor(**params)\n",
        "# Train without eval_set to avoid API incompatibilities; evaluate manually on holdout\n",
        "model.fit(X_tr, y_tr)\n",
        "pred_va = model.predict(X_va)\n",
        "rmse = mean_squared_error(y_va, pred_va, squared=False)\n",
        "print('Validation RMSE (1 fold):', rmse)"
      ],
      "execution_count": 5,
      "outputs": [
        {
          "output_type": "stream",
          "name": "stdout",
          "text": [
            "X shape: (6900000, 25) y shape: (6900000,) unique images: 115\n"
          ]
        },
        {
          "output_type": "stream",
          "name": "stdout",
          "text": [
            "Train/Val sizes: (5520000, 25) (1380000, 25)\n"
          ]
        },
        {
          "output_type": "stream",
          "name": "stdout",
          "text": [
            "Validation RMSE (1 fold): 0.020459445\n"
          ]
        },
        {
          "output_type": "stream",
          "name": "stderr",
          "text": [
            "/usr/local/lib/python3.11/dist-packages/sklearn/metrics/_regression.py:492: FutureWarning: 'squared' is deprecated in version 1.4 and will be removed in 1.6. To calculate the root mean squared error, use the function'root_mean_squared_error'.\n  warnings.warn(\n"
          ]
        }
      ]
    },
    {
      "id": "e46ba6cf-4cc1-42b0-911c-a58f3b76baa4",
      "cell_type": "code",
      "metadata": {},
      "source": [
        "# Train on all sampled data and generate submission.csv\n",
        "import csv, time\n",
        "\n",
        "xgb = ensure_xgb(upgrade=False)\n",
        "gpu_params = dict(tree_method='gpu_hist', predictor='gpu_predictor')\n",
        "full_params = dict(n_estimators=500, max_depth=6, learning_rate=0.06, subsample=0.8, colsample_bytree=0.8, reg_lambda=8.0, min_child_weight=1.0, random_state=42, n_jobs=8, verbosity=0, **gpu_params)\n",
        "model_full = xgb.XGBRegressor(**full_params)\n",
        "t0 = time.time()\n",
        "model_full.fit(X, y)\n",
        "print(f'Trained full model in {time.time()-t0:.1f}s on {X.shape[0]} samples')\n",
        "\n",
        "out_path = 'submission.csv'\n",
        "with open(out_path, 'w', newline='') as f:\n",
        "    writer = csv.writer(f)\n",
        "    writer.writerow(['id', 'value'])\n",
        "    total_rows = 0\n",
        "    for tp in test_paths:\n",
        "        img_id = Path(tp).stem\n",
        "        img = load_gray(tp)\n",
        "        H, W = img.shape\n",
        "        X_test = features_from_img(img, ks=ks)\n",
        "        preds = model_full.predict(X_test).astype(np.float32)\n",
        "        preds = np.clip(preds, 0.0, 1.0)\n",
        "        # write row-major order, 1-based indices\n",
        "        r_idx = np.repeat(np.arange(1, H+1), W)\n",
        "        c_idx = np.tile(np.arange(1, W+1), H)\n",
        "        for r, c, v in zip(r_idx, c_idx, preds):\n",
        "            writer.writerow([f'{img_id}_{r}_{c}', float(v)])\n",
        "        total_rows += H*W\n",
        "        print(f'Wrote {img_id} with {H*W} pixels; cumulative {total_rows}')\n",
        "print('Saved submission to', out_path)"
      ],
      "execution_count": 6,
      "outputs": [
        {
          "output_type": "stream",
          "name": "stdout",
          "text": [
            "Trained full model in 11.0s on 6900000 samples\n"
          ]
        },
        {
          "output_type": "stream",
          "name": "stdout",
          "text": [
            "Wrote 6 with 139320 pixels; cumulative 139320\n"
          ]
        },
        {
          "output_type": "stream",
          "name": "stdout",
          "text": [
            "Wrote 8 with 139320 pixels; cumulative 278640\n"
          ]
        },
        {
          "output_type": "stream",
          "name": "stdout",
          "text": [
            "Wrote 26 with 139320 pixels; cumulative 417960\n"
          ]
        },
        {
          "output_type": "stream",
          "name": "stdout",
          "text": [
            "Wrote 35 with 139320 pixels; cumulative 557280\n"
          ]
        },
        {
          "output_type": "stream",
          "name": "stdout",
          "text": [
            "Wrote 36 with 139320 pixels; cumulative 696600\n"
          ]
        },
        {
          "output_type": "stream",
          "name": "stdout",
          "text": [
            "Wrote 42 with 139320 pixels; cumulative 835920\n"
          ]
        },
        {
          "output_type": "stream",
          "name": "stdout",
          "text": [
            "Wrote 54 with 139320 pixels; cumulative 975240\n"
          ]
        },
        {
          "output_type": "stream",
          "name": "stdout",
          "text": [
            "Wrote 62 with 139320 pixels; cumulative 1114560\n"
          ]
        },
        {
          "output_type": "stream",
          "name": "stdout",
          "text": [
            "Wrote 68 with 139320 pixels; cumulative 1253880\n"
          ]
        },
        {
          "output_type": "stream",
          "name": "stdout",
          "text": [
            "Wrote 77 with 226800 pixels; cumulative 1480680\n"
          ]
        },
        {
          "output_type": "stream",
          "name": "stdout",
          "text": [
            "Wrote 78 with 226800 pixels; cumulative 1707480\n"
          ]
        },
        {
          "output_type": "stream",
          "name": "stdout",
          "text": [
            "Wrote 80 with 226800 pixels; cumulative 1934280\n"
          ]
        },
        {
          "output_type": "stream",
          "name": "stdout",
          "text": [
            "Wrote 95 with 226800 pixels; cumulative 2161080\n"
          ]
        },
        {
          "output_type": "stream",
          "name": "stdout",
          "text": [
            "Wrote 110 with 226800 pixels; cumulative 2387880\n"
          ]
        },
        {
          "output_type": "stream",
          "name": "stdout",
          "text": [
            "Wrote 111 with 226800 pixels; cumulative 2614680\n"
          ]
        },
        {
          "output_type": "stream",
          "name": "stdout",
          "text": [
            "Wrote 122 with 226800 pixels; cumulative 2841480\n"
          ]
        },
        {
          "output_type": "stream",
          "name": "stdout",
          "text": [
            "Wrote 131 with 226800 pixels; cumulative 3068280\n"
          ]
        },
        {
          "output_type": "stream",
          "name": "stdout",
          "text": [
            "Wrote 134 with 226800 pixels; cumulative 3295080\n"
          ]
        },
        {
          "output_type": "stream",
          "name": "stdout",
          "text": [
            "Wrote 137 with 226800 pixels; cumulative 3521880\n"
          ]
        },
        {
          "output_type": "stream",
          "name": "stdout",
          "text": [
            "Wrote 146 with 226800 pixels; cumulative 3748680\n"
          ]
        },
        {
          "output_type": "stream",
          "name": "stdout",
          "text": [
            "Wrote 150 with 226800 pixels; cumulative 3975480\n"
          ]
        },
        {
          "output_type": "stream",
          "name": "stdout",
          "text": [
            "Wrote 155 with 226800 pixels; cumulative 4202280\n"
          ]
        },
        {
          "output_type": "stream",
          "name": "stdout",
          "text": [
            "Wrote 159 with 226800 pixels; cumulative 4429080\n"
          ]
        },
        {
          "output_type": "stream",
          "name": "stdout",
          "text": [
            "Wrote 162 with 226800 pixels; cumulative 4655880\n"
          ]
        },
        {
          "output_type": "stream",
          "name": "stdout",
          "text": [
            "Wrote 170 with 226800 pixels; cumulative 4882680\n"
          ]
        },
        {
          "output_type": "stream",
          "name": "stdout",
          "text": [
            "Wrote 174 with 226800 pixels; cumulative 5109480\n"
          ]
        },
        {
          "output_type": "stream",
          "name": "stdout",
          "text": [
            "Wrote 180 with 226800 pixels; cumulative 5336280\n"
          ]
        },
        {
          "output_type": "stream",
          "name": "stdout",
          "text": [
            "Wrote 186 with 226800 pixels; cumulative 5563080\n"
          ]
        },
        {
          "output_type": "stream",
          "name": "stdout",
          "text": [
            "Wrote 216 with 226800 pixels; cumulative 5789880\nSaved submission to submission.csv\n"
          ]
        }
      ]
    }
  ],
  "metadata": {
    "kernelspec": {
      "display_name": "Python 3",
      "language": "python",
      "name": "python3"
    },
    "language_info": {
      "name": "python",
      "version": "3.11.0rc1"
    }
  },
  "nbformat": 4,
  "nbformat_minor": 5
}