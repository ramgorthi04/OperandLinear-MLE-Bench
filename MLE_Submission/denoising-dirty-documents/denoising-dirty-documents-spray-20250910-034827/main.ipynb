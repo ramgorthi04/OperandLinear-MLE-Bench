{
  "cells": [
    {
      "id": "43e1f423-86b5-4c8e-a343-fa76451b07ee",
      "cell_type": "markdown",
      "metadata": {},
      "source": [
        "# Plan: Denoising Dirty Documents\n",
        "\n",
        "Goal: Achieve medal-level RMSE by building a strong classical denoising pipeline using OpenCV/Skimage, tuned on train vs train_cleaned, then generate test predictions in the exact sampleSubmission format.\n",
        "\n",
        "Steps:\n",
        "- Inspect sampleSubmission format to know output structure.\n",
        "- Load train/train_cleaned as grayscale float in [0,1].\n",
        "- Implement a set of candidate classical pipelines (median blur, non-local means, Gaussian, morphological opening/closing, bilateral, top-hat/black-hat) and simple combinations.\n",
        "- Evaluate pipelines on all training images (average RMSE), log timings.\n",
        "- Pick best global pipeline; if time permits, try lightweight per-image parameter selection via small grid.\n",
        "- Generate predictions for test in required order and save submission.csv.\n",
        "\n",
        "Next:\n",
        "- Implement imports, IO helpers, RMSE, and sampleSubmission inspection.\n",
        "- Add baseline pipelines and evaluation scaffold."
      ],
      "execution_count": null,
      "outputs": []
    },
    {
      "id": "fd1cc6ae-45d1-4af7-b0bd-0b7427a67516",
      "cell_type": "code",
      "metadata": {},
      "source": [
        "import os\n",
        "import re\n",
        "import time\n",
        "from pathlib import Path\n",
        "import numpy as np\n",
        "import pandas as pd\n",
        "import cv2\n",
        "\n",
        "DATA_DIR = Path('.')\n",
        "TRAIN_DIR = DATA_DIR / 'train'\n",
        "TRAIN_CLEAN_DIR = DATA_DIR / 'train_cleaned'\n",
        "TEST_DIR = DATA_DIR / 'test'\n",
        "SAMPLE_SUB_PATH = DATA_DIR / 'sampleSubmission.csv'\n",
        "\n",
        "def read_gray_uint8(path: Path) -> np.ndarray:\n",
        "    img = cv2.imread(str(path), cv2.IMREAD_GRAYSCALE)\n",
        "    if img is None:\n",
        "        raise FileNotFoundError(f'Could not read image: {path}')\n",
        "    return img\n",
        "\n",
        "def to_float01(img_uint8: np.ndarray) -> np.ndarray:\n",
        "    return (img_uint8.astype(np.float32) / 255.0).clip(0.0, 1.0)\n",
        "\n",
        "def rmse(a: np.ndarray, b: np.ndarray) -> float:\n",
        "    a = a.astype(np.float32)\n",
        "    b = b.astype(np.float32)\n",
        "    return float(np.sqrt(np.mean((a - b) ** 2)))\n",
        "\n",
        "# Discover data\n",
        "train_files = sorted([p for p in TRAIN_DIR.glob('*.png')], key=lambda p: (len(p.stem), p.stem))\n",
        "clean_files = sorted([p for p in TRAIN_CLEAN_DIR.glob('*.png')], key=lambda p: (len(p.stem), p.stem))\n",
        "test_files = sorted([p for p in TEST_DIR.glob('*.png')], key=lambda p: (len(p.stem), p.stem))\n",
        "print(f'Train: {len(train_files)} images, Train Cleaned: {len(clean_files)} images, Test: {len(test_files)} images')\n",
        "assert len(train_files) == len(clean_files), 'Mismatch between train and train_cleaned counts'\n",
        "\n",
        "# Quick shape check for a couple of pairs\n",
        "for p in train_files[:3]:\n",
        "    q = TRAIN_CLEAN_DIR / p.name\n",
        "    a = read_gray_uint8(p)\n",
        "    b = read_gray_uint8(q)\n",
        "    print(f'Check {p.name}: train {a.shape}, clean {b.shape}, equal: {a.shape == b.shape}')\n",
        "\n",
        "# Inspect sampleSubmission format\n",
        "sample_df = pd.read_csv(SAMPLE_SUB_PATH)\n",
        "print('sampleSubmission columns:', list(sample_df.columns))\n",
        "print(sample_df.head())\n",
        "print('sampleSubmission rows:', len(sample_df))\n",
        "\n",
        "# Parse id pattern like image_pixel (e.g., 1_1) and extract first few image ids in order\n",
        "id_col = sample_df.columns[0]\n",
        "val_col = sample_df.columns[1] if len(sample_df.columns) > 1 else None\n",
        "id_sample = sample_df[id_col].astype(str).values\n",
        "m = re.match(r'^(\\d+)_', id_sample[0])\n",
        "if m:\n",
        "    print('Detected id pattern imageId_pixelId. First 5 ids:', id_sample[:5])\n",
        "else:\n",
        "    print('Unknown id pattern. First 5 ids:', id_sample[:5])\n",
        "\n",
        "# Utility: fast NLM denoising on uint8\n",
        "def nlm_uint8(img_u8: np.ndarray, h: int = 10, templateWindowSize: int = 7, searchWindowSize: int = 21) -> np.ndarray:\n",
        "    return cv2.fastNlMeansDenoising(img_u8, None, h=h, templateWindowSize=templateWindowSize, searchWindowSize=searchWindowSize)"
      ],
      "execution_count": 3,
      "outputs": [
        {
          "output_type": "stream",
          "name": "stdout",
          "text": [
            "Train: 115 images, Train Cleaned: 115 images, Test: 29 images\nCheck 2.png: train (258, 540), clean (258, 540), equal: True\nCheck 3.png: train (258, 540), clean (258, 540), equal: True\nCheck 5.png: train (258, 540), clean (258, 540), equal: True\n"
          ]
        },
        {
          "output_type": "stream",
          "name": "stdout",
          "text": [
            "sampleSubmission columns: ['id', 'value']\n        id  value\n0  110_1_1      1\n1  110_1_2      1\n2  110_1_3      1\n3  110_1_4      1\n4  110_1_5      1\nsampleSubmission rows: 5789880\nDetected id pattern imageId_pixelId. First 5 ids: ['110_1_1' '110_1_2' '110_1_3' '110_1_4' '110_1_5']\n"
          ]
        }
      ]
    },
    {
      "id": "0fbdc4e5-3fb4-4452-8815-b539598679f0",
      "cell_type": "code",
      "metadata": {},
      "source": [
        "%pip install -q opencv-python-headless\n",
        "import cv2\n",
        "print('cv2 version:', cv2.__version__)"
      ],
      "execution_count": 2,
      "outputs": [
        {
          "output_type": "stream",
          "name": "stdout",
          "text": [
            "\u2705 Package installation completed and import cache refreshed.\ncv2 version: 4.11.0\n"
          ]
        },
        {
          "output_type": "stream",
          "name": "stderr",
          "text": [
            "WARNING: Running pip as the 'root' user can result in broken permissions and conflicting behaviour with the system package manager. It is recommended to use a virtual environment instead: https://pip.pypa.io/warnings/venv\n\n/app/.pip-target/cv2/__init__.py:11: UserWarning: The NumPy module was reloaded (imported a second time). This can in some cases result in small but subtle issues and is discouraged.\n  import numpy\n"
          ]
        }
      ]
    },
    {
      "id": "1bbab302-1fa5-4201-a04d-280d89f8e01f",
      "cell_type": "code",
      "metadata": {},
      "source": [
        "from collections import defaultdict\n",
        "import math\n",
        "import csv\n",
        "\n",
        "# Baseline pipeline: NLM only (uint8 in, uint8 out), convert to float [0,1] for metrics/output\n",
        "def pipeline_nlm_uint8(img_u8: np.ndarray, h: int = 10) -> np.ndarray:\n",
        "    return nlm_uint8(img_u8, h=h, templateWindowSize=7, searchWindowSize=21)\n",
        "\n",
        "def eval_h_values_on_train(h_list):\n",
        "    results = []\n",
        "    t0_all = time.time()\n",
        "    for hi, h in enumerate(h_list):\n",
        "        errs = []\n",
        "        t0 = time.time()\n",
        "        for i, p in enumerate(train_files):\n",
        "            if i % 10 == 0:\n",
        "                elapsed = time.time() - t0\n",
        "                print(f'[h={h}] img {i+1}/{len(train_files)} elapsed {elapsed:.1f}s', flush=True)\n",
        "            img = read_gray_uint8(p)\n",
        "            den = pipeline_nlm_uint8(img, h=h)\n",
        "            target = read_gray_uint8(TRAIN_CLEAN_DIR / p.name)\n",
        "            err = rmse(to_float01(den), to_float01(target))\n",
        "            errs.append(err)\n",
        "        mean_rmse = float(np.mean(errs))\n",
        "        med_rmse = float(np.median(errs))\n",
        "        results.append((h, mean_rmse, med_rmse))\n",
        "        print(f'[h={h}] mean RMSE={mean_rmse:.6f} median RMSE={med_rmse:.6f} time={time.time()-t0:.1f}s')\n",
        "    print(f'Total grid time: {time.time()-t0_all:.1f}s')\n",
        "    results.sort(key=lambda x: x[1])\n",
        "    print('Top results by mean RMSE:')\n",
        "    for h, m, md in results[:5]:\n",
        "        print(f'  h={h}: mean={m:.6f}, median={md:.6f}')\n",
        "    return results\n",
        "\n",
        "def parse_id_triplet(id_str: str):\n",
        "    # Expected format: imageId_row_col (1-based row/col)\n",
        "    parts = id_str.split('_')\n",
        "    if len(parts) != 3:\n",
        "        raise ValueError(f'Unexpected id format: {id_str}')\n",
        "    return int(parts[0]), int(parts[1]), int(parts[2])\n",
        "\n",
        "def generate_submission(best_h: int, out_path: str = 'submission.csv'):\n",
        "    print(f'Generating submission with h={best_h} -> {out_path}')\n",
        "    # Build unique ordered image ids from sampleSubmission to ensure exact order\n",
        "    sample_iter = pd.read_csv(SAMPLE_SUB_PATH, chunksize=200000)\n",
        "    ordered_image_ids = []\n",
        "    seen = set()\n",
        "    print('Collecting ordered unique image ids from sampleSubmission...')\n",
        "    for chunk in sample_iter:\n",
        "        for s in chunk['id'].astype(str).values:\n",
        "            img_id, r, c = parse_id_triplet(s)\n",
        "            if img_id not in seen:\n",
        "                seen.add(img_id)\n",
        "                ordered_image_ids.append(img_id)\n",
        "    print(f'Found {len(ordered_image_ids)} unique test image ids in sampleSubmission.')\n",
        "\n",
        "    # Precompute denoised images for each required test image id\n",
        "    cache = {}\n",
        "    for idx, img_id in enumerate(ordered_image_ids):\n",
        "        img_path = TEST_DIR / f'{img_id}.png'\n",
        "        print(f'[{idx+1}/{len(ordered_image_ids)}] Denoising test image {img_path} with h={best_h}...', flush=True)\n",
        "        img_u8 = read_gray_uint8(img_path)\n",
        "        den_u8 = pipeline_nlm_uint8(img_u8, h=best_h)\n",
        "        den_f = to_float01(den_u8)\n",
        "        cache[img_id] = den_f  # float32 [0,1]\n",
        "\n",
        "    # Stream through sampleSubmission and write predictions in exact order\n",
        "    print('Writing predictions to CSV in sample order...')\n",
        "    with open(out_path, 'w', newline='') as f_out:\n",
        "        writer = csv.writer(f_out)\n",
        "        writer.writerow(['id', 'value'])\n",
        "        for chunk in pd.read_csv(SAMPLE_SUB_PATH, chunksize=200000):\n",
        "            ids = chunk['id'].astype(str).values\n",
        "            rows = []\n",
        "            for s in ids:\n",
        "                img_id, r, c = parse_id_triplet(s)\n",
        "                img = cache[img_id]\n",
        "                # Convert 1-based (r,c) to 0-based indices\n",
        "                val = float(np.clip(img[r-1, c-1], 0.0, 1.0))\n",
        "                rows.append((s, val))\n",
        "            writer.writerows(rows)\n",
        "    print(f'Wrote: {out_path}')\n",
        "\n",
        "# Grid of h values for robust baseline\n",
        "h_list = [8, 10, 12, 14, 16, 18, 20]\n",
        "\n",
        "# Run evaluation (can comment out to skip after first run)\n",
        "grid_results = eval_h_values_on_train(h_list)\n",
        "best_h = grid_results[0][0]\n",
        "print('Selected best h:', best_h)\n",
        "\n",
        "# Generate submission with best_h\n",
        "generate_submission(best_h, out_path='submission.csv')"
      ],
      "execution_count": 4,
      "outputs": [
        {
          "output_type": "stream",
          "name": "stdout",
          "text": [
            "[h=8] img 1/115 elapsed 0.0s\n"
          ]
        },
        {
          "output_type": "stream",
          "name": "stdout",
          "text": [
            "[h=8] img 11/115 elapsed 1.6s\n"
          ]
        },
        {
          "output_type": "stream",
          "name": "stdout",
          "text": [
            "[h=8] img 21/115 elapsed 3.2s\n"
          ]
        },
        {
          "output_type": "stream",
          "name": "stdout",
          "text": [
            "[h=8] img 31/115 elapsed 4.8s\n"
          ]
        },
        {
          "output_type": "stream",
          "name": "stdout",
          "text": [
            "[h=8] img 41/115 elapsed 6.4s\n"
          ]
        },
        {
          "output_type": "stream",
          "name": "stdout",
          "text": [
            "[h=8] img 51/115 elapsed 7.8s\n"
          ]
        },
        {
          "output_type": "stream",
          "name": "stdout",
          "text": [
            "[h=8] img 61/115 elapsed 9.2s\n"
          ]
        },
        {
          "output_type": "stream",
          "name": "stdout",
          "text": [
            "[h=8] img 71/115 elapsed 10.5s\n"
          ]
        },
        {
          "output_type": "stream",
          "name": "stdout",
          "text": [
            "[h=8] img 81/115 elapsed 11.9s\n"
          ]
        },
        {
          "output_type": "stream",
          "name": "stdout",
          "text": [
            "[h=8] img 91/115 elapsed 13.3s\n"
          ]
        },
        {
          "output_type": "stream",
          "name": "stdout",
          "text": [
            "[h=8] img 101/115 elapsed 14.6s\n"
          ]
        },
        {
          "output_type": "stream",
          "name": "stdout",
          "text": [
            "[h=8] img 111/115 elapsed 16.0s\n"
          ]
        },
        {
          "output_type": "stream",
          "name": "stdout",
          "text": [
            "[h=8] mean RMSE=0.155395 median RMSE=0.147057 time=16.7s\n[h=10] img 1/115 elapsed 0.0s\n"
          ]
        },
        {
          "output_type": "stream",
          "name": "stdout",
          "text": [
            "[h=10] img 11/115 elapsed 1.7s\n"
          ]
        },
        {
          "output_type": "stream",
          "name": "stdout",
          "text": [
            "[h=10] img 21/115 elapsed 3.3s\n"
          ]
        },
        {
          "output_type": "stream",
          "name": "stdout",
          "text": [
            "[h=10] img 31/115 elapsed 4.9s\n"
          ]
        },
        {
          "output_type": "stream",
          "name": "stdout",
          "text": [
            "[h=10] img 41/115 elapsed 6.5s\n"
          ]
        },
        {
          "output_type": "stream",
          "name": "stdout",
          "text": [
            "[h=10] img 51/115 elapsed 7.8s\n"
          ]
        },
        {
          "output_type": "stream",
          "name": "stdout",
          "text": [
            "[h=10] img 61/115 elapsed 9.2s\n"
          ]
        },
        {
          "output_type": "stream",
          "name": "stdout",
          "text": [
            "[h=10] img 71/115 elapsed 10.6s\n"
          ]
        },
        {
          "output_type": "stream",
          "name": "stdout",
          "text": [
            "[h=10] img 81/115 elapsed 11.9s\n"
          ]
        },
        {
          "output_type": "stream",
          "name": "stdout",
          "text": [
            "[h=10] img 91/115 elapsed 13.3s\n"
          ]
        },
        {
          "output_type": "stream",
          "name": "stdout",
          "text": [
            "[h=10] img 101/115 elapsed 14.6s\n"
          ]
        },
        {
          "output_type": "stream",
          "name": "stdout",
          "text": [
            "[h=10] img 111/115 elapsed 16.0s\n"
          ]
        },
        {
          "output_type": "stream",
          "name": "stdout",
          "text": [
            "[h=10] mean RMSE=0.155250 median RMSE=0.146774 time=16.7s\n[h=12] img 1/115 elapsed 0.0s\n"
          ]
        },
        {
          "output_type": "stream",
          "name": "stdout",
          "text": [
            "[h=12] img 11/115 elapsed 1.6s\n"
          ]
        },
        {
          "output_type": "stream",
          "name": "stdout",
          "text": [
            "[h=12] img 21/115 elapsed 3.2s\n"
          ]
        },
        {
          "output_type": "stream",
          "name": "stdout",
          "text": [
            "[h=12] img 31/115 elapsed 4.8s\n"
          ]
        },
        {
          "output_type": "stream",
          "name": "stdout",
          "text": [
            "[h=12] img 41/115 elapsed 6.4s\n"
          ]
        },
        {
          "output_type": "stream",
          "name": "stdout",
          "text": [
            "[h=12] img 51/115 elapsed 7.8s\n"
          ]
        },
        {
          "output_type": "stream",
          "name": "stdout",
          "text": [
            "[h=12] img 61/115 elapsed 9.1s\n"
          ]
        },
        {
          "output_type": "stream",
          "name": "stdout",
          "text": [
            "[h=12] img 71/115 elapsed 10.5s\n"
          ]
        },
        {
          "output_type": "stream",
          "name": "stdout",
          "text": [
            "[h=12] img 81/115 elapsed 11.9s\n"
          ]
        },
        {
          "output_type": "stream",
          "name": "stdout",
          "text": [
            "[h=12] img 91/115 elapsed 13.2s\n"
          ]
        },
        {
          "output_type": "stream",
          "name": "stdout",
          "text": [
            "[h=12] img 101/115 elapsed 14.6s\n"
          ]
        },
        {
          "output_type": "stream",
          "name": "stdout",
          "text": [
            "[h=12] img 111/115 elapsed 15.9s\n"
          ]
        },
        {
          "output_type": "stream",
          "name": "stdout",
          "text": [
            "[h=12] mean RMSE=0.155153 median RMSE=0.146630 time=16.6s\n[h=14] img 1/115 elapsed 0.0s\n"
          ]
        },
        {
          "output_type": "stream",
          "name": "stdout",
          "text": [
            "[h=14] img 11/115 elapsed 1.6s\n"
          ]
        },
        {
          "output_type": "stream",
          "name": "stdout",
          "text": [
            "[h=14] img 21/115 elapsed 3.2s\n"
          ]
        },
        {
          "output_type": "stream",
          "name": "stdout",
          "text": [
            "[h=14] img 31/115 elapsed 4.8s\n"
          ]
        },
        {
          "output_type": "stream",
          "name": "stdout",
          "text": [
            "[h=14] img 41/115 elapsed 6.4s\n"
          ]
        },
        {
          "output_type": "stream",
          "name": "stdout",
          "text": [
            "[h=14] img 51/115 elapsed 7.8s\n"
          ]
        },
        {
          "output_type": "stream",
          "name": "stdout",
          "text": [
            "[h=14] img 61/115 elapsed 9.1s\n"
          ]
        },
        {
          "output_type": "stream",
          "name": "stdout",
          "text": [
            "[h=14] img 71/115 elapsed 10.5s\n"
          ]
        },
        {
          "output_type": "stream",
          "name": "stdout",
          "text": [
            "[h=14] img 81/115 elapsed 11.9s\n"
          ]
        },
        {
          "output_type": "stream",
          "name": "stdout",
          "text": [
            "[h=14] img 91/115 elapsed 13.2s\n"
          ]
        },
        {
          "output_type": "stream",
          "name": "stdout",
          "text": [
            "[h=14] img 101/115 elapsed 14.6s\n"
          ]
        },
        {
          "output_type": "stream",
          "name": "stdout",
          "text": [
            "[h=14] img 111/115 elapsed 16.0s\n"
          ]
        },
        {
          "output_type": "stream",
          "name": "stdout",
          "text": [
            "[h=14] mean RMSE=0.155146 median RMSE=0.146491 time=16.6s\n[h=16] img 1/115 elapsed 0.0s\n"
          ]
        },
        {
          "output_type": "stream",
          "name": "stdout",
          "text": [
            "[h=16] img 11/115 elapsed 1.6s\n"
          ]
        },
        {
          "output_type": "stream",
          "name": "stdout",
          "text": [
            "[h=16] img 21/115 elapsed 3.2s\n"
          ]
        },
        {
          "output_type": "stream",
          "name": "stdout",
          "text": [
            "[h=16] img 31/115 elapsed 4.8s\n"
          ]
        },
        {
          "output_type": "stream",
          "name": "stdout",
          "text": [
            "[h=16] img 41/115 elapsed 6.4s\n"
          ]
        },
        {
          "output_type": "stream",
          "name": "stdout",
          "text": [
            "[h=16] img 51/115 elapsed 7.8s\n"
          ]
        },
        {
          "output_type": "stream",
          "name": "stdout",
          "text": [
            "[h=16] img 61/115 elapsed 9.1s\n"
          ]
        },
        {
          "output_type": "stream",
          "name": "stdout",
          "text": [
            "[h=16] img 71/115 elapsed 10.5s\n"
          ]
        },
        {
          "output_type": "stream",
          "name": "stdout",
          "text": [
            "[h=16] img 81/115 elapsed 11.9s\n"
          ]
        },
        {
          "output_type": "stream",
          "name": "stdout",
          "text": [
            "[h=16] img 91/115 elapsed 13.2s\n"
          ]
        },
        {
          "output_type": "stream",
          "name": "stdout",
          "text": [
            "[h=16] img 101/115 elapsed 14.6s\n"
          ]
        },
        {
          "output_type": "stream",
          "name": "stdout",
          "text": [
            "[h=16] img 111/115 elapsed 15.9s\n"
          ]
        },
        {
          "output_type": "stream",
          "name": "stdout",
          "text": [
            "[h=16] mean RMSE=0.155288 median RMSE=0.146958 time=16.6s\n[h=18] img 1/115 elapsed 0.0s\n"
          ]
        },
        {
          "output_type": "stream",
          "name": "stdout",
          "text": [
            "[h=18] img 11/115 elapsed 1.6s\n"
          ]
        },
        {
          "output_type": "stream",
          "name": "stdout",
          "text": [
            "[h=18] img 21/115 elapsed 3.2s\n"
          ]
        },
        {
          "output_type": "stream",
          "name": "stdout",
          "text": [
            "[h=18] img 31/115 elapsed 4.8s\n"
          ]
        },
        {
          "output_type": "stream",
          "name": "stdout",
          "text": [
            "[h=18] img 41/115 elapsed 6.4s\n"
          ]
        },
        {
          "output_type": "stream",
          "name": "stdout",
          "text": [
            "[h=18] img 51/115 elapsed 7.7s\n"
          ]
        },
        {
          "output_type": "stream",
          "name": "stdout",
          "text": [
            "[h=18] img 61/115 elapsed 9.1s\n"
          ]
        },
        {
          "output_type": "stream",
          "name": "stdout",
          "text": [
            "[h=18] img 71/115 elapsed 10.4s\n"
          ]
        },
        {
          "output_type": "stream",
          "name": "stdout",
          "text": [
            "[h=18] img 81/115 elapsed 11.8s\n"
          ]
        },
        {
          "output_type": "stream",
          "name": "stdout",
          "text": [
            "[h=18] img 91/115 elapsed 13.1s\n"
          ]
        },
        {
          "output_type": "stream",
          "name": "stdout",
          "text": [
            "[h=18] img 101/115 elapsed 14.6s\n"
          ]
        },
        {
          "output_type": "stream",
          "name": "stdout",
          "text": [
            "[h=18] img 111/115 elapsed 16.0s\n"
          ]
        },
        {
          "output_type": "stream",
          "name": "stdout",
          "text": [
            "[h=18] mean RMSE=0.155663 median RMSE=0.147133 time=16.7s\n[h=20] img 1/115 elapsed 0.0s\n"
          ]
        },
        {
          "output_type": "stream",
          "name": "stdout",
          "text": [
            "[h=20] img 11/115 elapsed 1.6s\n"
          ]
        },
        {
          "output_type": "stream",
          "name": "stdout",
          "text": [
            "[h=20] img 21/115 elapsed 3.2s\n"
          ]
        },
        {
          "output_type": "stream",
          "name": "stdout",
          "text": [
            "[h=20] img 31/115 elapsed 4.8s\n"
          ]
        },
        {
          "output_type": "stream",
          "name": "stdout",
          "text": [
            "[h=20] img 41/115 elapsed 6.4s\n"
          ]
        },
        {
          "output_type": "stream",
          "name": "stdout",
          "text": [
            "[h=20] img 51/115 elapsed 7.7s\n"
          ]
        },
        {
          "output_type": "stream",
          "name": "stdout",
          "text": [
            "[h=20] img 61/115 elapsed 9.1s\n"
          ]
        },
        {
          "output_type": "stream",
          "name": "stdout",
          "text": [
            "[h=20] img 71/115 elapsed 10.4s\n"
          ]
        },
        {
          "output_type": "stream",
          "name": "stdout",
          "text": [
            "[h=20] img 81/115 elapsed 11.8s\n"
          ]
        },
        {
          "output_type": "stream",
          "name": "stdout",
          "text": [
            "[h=20] img 91/115 elapsed 13.1s\n"
          ]
        },
        {
          "output_type": "stream",
          "name": "stdout",
          "text": [
            "[h=20] img 101/115 elapsed 14.5s\n"
          ]
        },
        {
          "output_type": "stream",
          "name": "stdout",
          "text": [
            "[h=20] img 111/115 elapsed 15.9s\n"
          ]
        },
        {
          "output_type": "stream",
          "name": "stdout",
          "text": [
            "[h=20] mean RMSE=0.156362 median RMSE=0.147557 time=16.6s\nTotal grid time: 116.5s\nTop results by mean RMSE:\n  h=14: mean=0.155146, median=0.146491\n  h=12: mean=0.155153, median=0.146630\n  h=10: mean=0.155250, median=0.146774\n  h=16: mean=0.155288, median=0.146958\n  h=8: mean=0.155395, median=0.147057\nSelected best h: 14\nGenerating submission with h=14 -> submission.csv\nCollecting ordered unique image ids from sampleSubmission...\n"
          ]
        },
        {
          "output_type": "stream",
          "name": "stdout",
          "text": [
            "Found 29 unique test image ids in sampleSubmission.\n[1/29] Denoising test image test/110.png with h=14...\n"
          ]
        },
        {
          "output_type": "stream",
          "name": "stdout",
          "text": [
            "[2/29] Denoising test image test/111.png with h=14...\n"
          ]
        },
        {
          "output_type": "stream",
          "name": "stdout",
          "text": [
            "[3/29] Denoising test image test/122.png with h=14...\n"
          ]
        },
        {
          "output_type": "stream",
          "name": "stdout",
          "text": [
            "[4/29] Denoising test image test/131.png with h=14...\n"
          ]
        },
        {
          "output_type": "stream",
          "name": "stdout",
          "text": [
            "[5/29] Denoising test image test/134.png with h=14...\n"
          ]
        },
        {
          "output_type": "stream",
          "name": "stdout",
          "text": [
            "[6/29] Denoising test image test/137.png with h=14...\n"
          ]
        },
        {
          "output_type": "stream",
          "name": "stdout",
          "text": [
            "[7/29] Denoising test image test/146.png with h=14...\n"
          ]
        },
        {
          "output_type": "stream",
          "name": "stdout",
          "text": [
            "[8/29] Denoising test image test/150.png with h=14...\n"
          ]
        },
        {
          "output_type": "stream",
          "name": "stdout",
          "text": [
            "[9/29] Denoising test image test/155.png with h=14...\n"
          ]
        },
        {
          "output_type": "stream",
          "name": "stdout",
          "text": [
            "[10/29] Denoising test image test/159.png with h=14...\n"
          ]
        },
        {
          "output_type": "stream",
          "name": "stdout",
          "text": [
            "[11/29] Denoising test image test/162.png with h=14...\n"
          ]
        },
        {
          "output_type": "stream",
          "name": "stdout",
          "text": [
            "[12/29] Denoising test image test/170.png with h=14...\n"
          ]
        },
        {
          "output_type": "stream",
          "name": "stdout",
          "text": [
            "[13/29] Denoising test image test/174.png with h=14...\n"
          ]
        },
        {
          "output_type": "stream",
          "name": "stdout",
          "text": [
            "[14/29] Denoising test image test/180.png with h=14...\n"
          ]
        },
        {
          "output_type": "stream",
          "name": "stdout",
          "text": [
            "[15/29] Denoising test image test/186.png with h=14...\n"
          ]
        },
        {
          "output_type": "stream",
          "name": "stdout",
          "text": [
            "[16/29] Denoising test image test/216.png with h=14...\n"
          ]
        },
        {
          "output_type": "stream",
          "name": "stdout",
          "text": [
            "[17/29] Denoising test image test/26.png with h=14...\n"
          ]
        },
        {
          "output_type": "stream",
          "name": "stdout",
          "text": [
            "[18/29] Denoising test image test/35.png with h=14...\n"
          ]
        },
        {
          "output_type": "stream",
          "name": "stdout",
          "text": [
            "[19/29] Denoising test image test/36.png with h=14...\n"
          ]
        },
        {
          "output_type": "stream",
          "name": "stdout",
          "text": [
            "[20/29] Denoising test image test/42.png with h=14...\n"
          ]
        },
        {
          "output_type": "stream",
          "name": "stdout",
          "text": [
            "[21/29] Denoising test image test/54.png with h=14...\n"
          ]
        },
        {
          "output_type": "stream",
          "name": "stdout",
          "text": [
            "[22/29] Denoising test image test/6.png with h=14...\n"
          ]
        },
        {
          "output_type": "stream",
          "name": "stdout",
          "text": [
            "[23/29] Denoising test image test/62.png with h=14...\n"
          ]
        },
        {
          "output_type": "stream",
          "name": "stdout",
          "text": [
            "[24/29] Denoising test image test/68.png with h=14...\n"
          ]
        },
        {
          "output_type": "stream",
          "name": "stdout",
          "text": [
            "[25/29] Denoising test image test/77.png with h=14...\n"
          ]
        },
        {
          "output_type": "stream",
          "name": "stdout",
          "text": [
            "[26/29] Denoising test image test/78.png with h=14...\n"
          ]
        },
        {
          "output_type": "stream",
          "name": "stdout",
          "text": [
            "[27/29] Denoising test image test/8.png with h=14...\n"
          ]
        },
        {
          "output_type": "stream",
          "name": "stdout",
          "text": [
            "[28/29] Denoising test image test/80.png with h=14...\n"
          ]
        },
        {
          "output_type": "stream",
          "name": "stdout",
          "text": [
            "[29/29] Denoising test image test/95.png with h=14...\n"
          ]
        },
        {
          "output_type": "stream",
          "name": "stdout",
          "text": [
            "Writing predictions to CSV in sample order...\n"
          ]
        },
        {
          "output_type": "stream",
          "name": "stdout",
          "text": [
            "Wrote: submission.csv\n"
          ]
        }
      ]
    },
    {
      "id": "5407d11d-507b-4590-aef7-31588554fb65",
      "cell_type": "code",
      "metadata": {},
      "source": [
        "import itertools\n",
        "from zipfile import ZipFile, ZIP_DEFLATED\n",
        "\n",
        "# Background estimation and normalization + denoise pipeline\n",
        "def estimate_background_opening(img_u8: np.ndarray, ksize: int = 41) -> np.ndarray:\n",
        "    kernel = cv2.getStructuringElement(cv2.MORPH_ELLIPSE, (ksize, ksize))\n",
        "    bg = cv2.morphologyEx(img_u8, cv2.MORPH_OPEN, kernel)\n",
        "    # Smooth background to prevent halos\n",
        "    bg = cv2.medianBlur(bg, 21)\n",
        "    return bg\n",
        "\n",
        "def normalize_by_background(img_u8: np.ndarray, bg_u8: np.ndarray) -> np.ndarray:\n",
        "    img_f = img_u8.astype(np.float32)\n",
        "    bg_f = bg_u8.astype(np.float32)\n",
        "    bg_mean = float(np.mean(bg_f)) + 1e-6\n",
        "    norm = (img_f / (bg_f + 1.0)) * bg_mean\n",
        "    norm_u8 = np.clip(norm, 0, 255).astype(np.uint8)\n",
        "    return norm_u8\n",
        "\n",
        "def pipeline_bg_norm_nlm(img_u8: np.ndarray, ksize: int = 41, h: int = 10) -> np.ndarray:\n",
        "    bg = estimate_background_opening(img_u8, ksize=ksize)\n",
        "    norm = normalize_by_background(img_u8, bg)\n",
        "    den = nlm_uint8(norm, h=h, templateWindowSize=7, searchWindowSize=21)\n",
        "    return den\n",
        "\n",
        "def eval_bg_norm_grid_on_train(ksizes, h_list):\n",
        "    results = []\n",
        "    t0_all = time.time()\n",
        "    for gi, (ks, h) in enumerate(itertools.product(ksizes, h_list), start=1):\n",
        "        errs = []\n",
        "        t0 = time.time()\n",
        "        print(f'Grid {gi}: ksize={ks}, h={h}')\n",
        "        for i, p in enumerate(train_files):\n",
        "            if i % 10 == 0:\n",
        "                print(f'  [ks={ks},h={h}] img {i+1}/{len(train_files)}', flush=True)\n",
        "            img = read_gray_uint8(p)\n",
        "            den = pipeline_bg_norm_nlm(img, ksize=ks, h=h)\n",
        "            target = read_gray_uint8(TRAIN_CLEAN_DIR / p.name)\n",
        "            err = rmse(to_float01(den), to_float01(target))\n",
        "            errs.append(err)\n",
        "        mean_rmse = float(np.mean(errs))\n",
        "        med_rmse = float(np.median(errs))\n",
        "        elapsed = time.time() - t0\n",
        "        print(f'  -> mean RMSE={mean_rmse:.6f}, median={med_rmse:.6f}, time={elapsed:.1f}s')\n",
        "        results.append((ks, h, mean_rmse, med_rmse, elapsed))\n",
        "    print(f'Total grid time: {time.time()-t0_all:.1f}s')\n",
        "    results.sort(key=lambda x: x[2])\n",
        "    print('Top results by mean RMSE:')\n",
        "    for ks, h, m, md, _ in results[:5]:\n",
        "        print(f'  ksize={ks}, h={h}: mean={m:.6f}, median={md:.6f}')\n",
        "    return results\n",
        "\n",
        "def generate_submission_bg_norm(best_ksize: int, best_h: int, out_path: str = 'submission.csv'):\n",
        "    print(f'Generating submission with ksize={best_ksize}, h={best_h} -> {out_path}')\n",
        "    # Ordered unique image ids from sample\n",
        "    sample_iter = pd.read_csv(SAMPLE_SUB_PATH, chunksize=200000)\n",
        "    ordered_image_ids = []\n",
        "    seen = set()\n",
        "    for chunk in sample_iter:\n",
        "        for s in chunk['id'].astype(str).values:\n",
        "            img_id, r, c = parse_id_triplet(s)\n",
        "            if img_id not in seen:\n",
        "                seen.add(img_id)\n",
        "                ordered_image_ids.append(img_id)\n",
        "    print(f'Found {len(ordered_image_ids)} unique test image ids.')\n",
        "\n",
        "    cache = {}\n",
        "    for idx, img_id in enumerate(ordered_image_ids):\n",
        "        img_path = TEST_DIR / f'{img_id}.png'\n",
        "        print(f'[{idx+1}/{len(ordered_image_ids)}] Processing {img_path} ...', flush=True)\n",
        "        img_u8 = read_gray_uint8(img_path)\n",
        "        den_u8 = pipeline_bg_norm_nlm(img_u8, ksize=best_ksize, h=best_h)\n",
        "        cache[img_id] = to_float01(den_u8)\n",
        "\n",
        "    print('Writing predictions to CSV in sample order (rounded to 4 decimals)...')\n",
        "    with open(out_path, 'w', newline='') as f_out:\n",
        "        writer = csv.writer(f_out)\n",
        "        writer.writerow(['id', 'value'])\n",
        "        for chunk in pd.read_csv(SAMPLE_SUB_PATH, chunksize=200000):\n",
        "            ids = chunk['id'].astype(str).values\n",
        "            rows = []\n",
        "            for s in ids:\n",
        "                img_id, r, c = parse_id_triplet(s)\n",
        "                val = float(np.clip(cache[img_id][r-1, c-1], 0.0, 1.0))\n",
        "                rows.append((s, f'{val:.4f}'))\n",
        "            writer.writerows(rows)\n",
        "    print(f'Wrote: {out_path}')\n",
        "    # Optionally also zip (not required by local grader, but useful practice)\n",
        "    try:\n",
        "        zip_path = out_path + '.zip'\n",
        "        with ZipFile(zip_path, 'w', compression=ZIP_DEFLATED) as zf:\n",
        "            zf.write(out_path, arcname='submission.csv')\n",
        "        print(f'Compressed to: {zip_path}')\n",
        "    except Exception as e:\n",
        "        print('Zip failed (ignored):', e)\n",
        "\n",
        "# Evaluate improved classical pipeline\n",
        "ksizes = [31, 41, 51]\n",
        "h_list = [8, 10, 12]\n",
        "results_bg = eval_bg_norm_grid_on_train(ksizes, h_list)\n",
        "best_ks, best_h = results_bg[0][0], results_bg[0][1]\n",
        "print('Selected best params -> ksize:', best_ks, 'h:', best_h)\n",
        "generate_submission_bg_norm(best_ks, best_h, out_path='submission.csv')"
      ],
      "execution_count": 5,
      "outputs": [
        {
          "output_type": "stream",
          "name": "stdout",
          "text": [
            "Grid 1: ksize=31, h=8\n  [ks=31,h=8] img 1/115\n"
          ]
        },
        {
          "output_type": "stream",
          "name": "stdout",
          "text": [
            "  [ks=31,h=8] img 11/115\n"
          ]
        },
        {
          "output_type": "stream",
          "name": "stdout",
          "text": [
            "  [ks=31,h=8] img 21/115\n"
          ]
        },
        {
          "output_type": "stream",
          "name": "stdout",
          "text": [
            "  [ks=31,h=8] img 31/115\n"
          ]
        },
        {
          "output_type": "stream",
          "name": "stdout",
          "text": [
            "  [ks=31,h=8] img 41/115\n"
          ]
        },
        {
          "output_type": "stream",
          "name": "stdout",
          "text": [
            "  [ks=31,h=8] img 51/115\n"
          ]
        },
        {
          "output_type": "stream",
          "name": "stdout",
          "text": [
            "  [ks=31,h=8] img 61/115\n"
          ]
        },
        {
          "output_type": "stream",
          "name": "stdout",
          "text": [
            "  [ks=31,h=8] img 71/115\n"
          ]
        },
        {
          "output_type": "stream",
          "name": "stdout",
          "text": [
            "  [ks=31,h=8] img 81/115\n"
          ]
        },
        {
          "output_type": "stream",
          "name": "stdout",
          "text": [
            "  [ks=31,h=8] img 91/115\n"
          ]
        },
        {
          "output_type": "stream",
          "name": "stdout",
          "text": [
            "  [ks=31,h=8] img 101/115\n"
          ]
        },
        {
          "output_type": "stream",
          "name": "stdout",
          "text": [
            "  [ks=31,h=8] img 111/115\n"
          ]
        },
        {
          "output_type": "stream",
          "name": "stdout",
          "text": [
            "  -> mean RMSE=0.274289, median=0.264951, time=18.6s\nGrid 2: ksize=31, h=10\n  [ks=31,h=10] img 1/115\n"
          ]
        },
        {
          "output_type": "stream",
          "name": "stdout",
          "text": [
            "  [ks=31,h=10] img 11/115\n"
          ]
        },
        {
          "output_type": "stream",
          "name": "stdout",
          "text": [
            "  [ks=31,h=10] img 21/115\n"
          ]
        },
        {
          "output_type": "stream",
          "name": "stdout",
          "text": [
            "  [ks=31,h=10] img 31/115\n"
          ]
        },
        {
          "output_type": "stream",
          "name": "stdout",
          "text": [
            "  [ks=31,h=10] img 41/115\n"
          ]
        },
        {
          "output_type": "stream",
          "name": "stdout",
          "text": [
            "  [ks=31,h=10] img 51/115\n"
          ]
        },
        {
          "output_type": "stream",
          "name": "stdout",
          "text": [
            "  [ks=31,h=10] img 61/115\n"
          ]
        },
        {
          "output_type": "stream",
          "name": "stdout",
          "text": [
            "  [ks=31,h=10] img 71/115\n"
          ]
        },
        {
          "output_type": "stream",
          "name": "stdout",
          "text": [
            "  [ks=31,h=10] img 81/115\n"
          ]
        },
        {
          "output_type": "stream",
          "name": "stdout",
          "text": [
            "  [ks=31,h=10] img 91/115\n"
          ]
        },
        {
          "output_type": "stream",
          "name": "stdout",
          "text": [
            "  [ks=31,h=10] img 101/115\n"
          ]
        },
        {
          "output_type": "stream",
          "name": "stdout",
          "text": [
            "  [ks=31,h=10] img 111/115\n"
          ]
        },
        {
          "output_type": "stream",
          "name": "stdout",
          "text": [
            "  -> mean RMSE=0.274301, median=0.264912, time=18.7s\nGrid 3: ksize=31, h=12\n  [ks=31,h=12] img 1/115\n"
          ]
        },
        {
          "output_type": "stream",
          "name": "stdout",
          "text": [
            "  [ks=31,h=12] img 11/115\n"
          ]
        },
        {
          "output_type": "stream",
          "name": "stdout",
          "text": [
            "  [ks=31,h=12] img 21/115\n"
          ]
        },
        {
          "output_type": "stream",
          "name": "stdout",
          "text": [
            "  [ks=31,h=12] img 31/115\n"
          ]
        },
        {
          "output_type": "stream",
          "name": "stdout",
          "text": [
            "  [ks=31,h=12] img 41/115\n"
          ]
        },
        {
          "output_type": "stream",
          "name": "stdout",
          "text": [
            "  [ks=31,h=12] img 51/115\n"
          ]
        },
        {
          "output_type": "stream",
          "name": "stdout",
          "text": [
            "  [ks=31,h=12] img 61/115\n"
          ]
        },
        {
          "output_type": "stream",
          "name": "stdout",
          "text": [
            "  [ks=31,h=12] img 71/115\n"
          ]
        },
        {
          "output_type": "stream",
          "name": "stdout",
          "text": [
            "  [ks=31,h=12] img 81/115\n"
          ]
        },
        {
          "output_type": "stream",
          "name": "stdout",
          "text": [
            "  [ks=31,h=12] img 91/115\n"
          ]
        },
        {
          "output_type": "stream",
          "name": "stdout",
          "text": [
            "  [ks=31,h=12] img 101/115\n"
          ]
        },
        {
          "output_type": "stream",
          "name": "stdout",
          "text": [
            "  [ks=31,h=12] img 111/115\n"
          ]
        },
        {
          "output_type": "stream",
          "name": "stdout",
          "text": [
            "  -> mean RMSE=0.274360, median=0.264910, time=18.2s\nGrid 4: ksize=41, h=8\n  [ks=41,h=8] img 1/115\n"
          ]
        },
        {
          "output_type": "stream",
          "name": "stdout",
          "text": [
            "  [ks=41,h=8] img 11/115\n"
          ]
        },
        {
          "output_type": "stream",
          "name": "stdout",
          "text": [
            "  [ks=41,h=8] img 21/115\n"
          ]
        },
        {
          "output_type": "stream",
          "name": "stdout",
          "text": [
            "  [ks=41,h=8] img 31/115\n"
          ]
        },
        {
          "output_type": "stream",
          "name": "stdout",
          "text": [
            "  [ks=41,h=8] img 41/115\n"
          ]
        },
        {
          "output_type": "stream",
          "name": "stdout",
          "text": [
            "  [ks=41,h=8] img 51/115\n"
          ]
        },
        {
          "output_type": "stream",
          "name": "stdout",
          "text": [
            "  [ks=41,h=8] img 61/115\n"
          ]
        },
        {
          "output_type": "stream",
          "name": "stdout",
          "text": [
            "  [ks=41,h=8] img 71/115\n"
          ]
        },
        {
          "output_type": "stream",
          "name": "stdout",
          "text": [
            "  [ks=41,h=8] img 81/115\n"
          ]
        },
        {
          "output_type": "stream",
          "name": "stdout",
          "text": [
            "  [ks=41,h=8] img 91/115\n"
          ]
        },
        {
          "output_type": "stream",
          "name": "stdout",
          "text": [
            "  [ks=41,h=8] img 101/115\n"
          ]
        },
        {
          "output_type": "stream",
          "name": "stdout",
          "text": [
            "  [ks=41,h=8] img 111/115\n"
          ]
        },
        {
          "output_type": "stream",
          "name": "stdout",
          "text": [
            "  -> mean RMSE=0.246842, median=0.246167, time=19.0s\nGrid 5: ksize=41, h=10\n  [ks=41,h=10] img 1/115\n"
          ]
        },
        {
          "output_type": "stream",
          "name": "stdout",
          "text": [
            "  [ks=41,h=10] img 11/115\n"
          ]
        },
        {
          "output_type": "stream",
          "name": "stdout",
          "text": [
            "  [ks=41,h=10] img 21/115\n"
          ]
        },
        {
          "output_type": "stream",
          "name": "stdout",
          "text": [
            "  [ks=41,h=10] img 31/115\n"
          ]
        },
        {
          "output_type": "stream",
          "name": "stdout",
          "text": [
            "  [ks=41,h=10] img 41/115\n"
          ]
        },
        {
          "output_type": "stream",
          "name": "stdout",
          "text": [
            "  [ks=41,h=10] img 51/115\n"
          ]
        },
        {
          "output_type": "stream",
          "name": "stdout",
          "text": [
            "  [ks=41,h=10] img 61/115\n"
          ]
        },
        {
          "output_type": "stream",
          "name": "stdout",
          "text": [
            "  [ks=41,h=10] img 71/115\n"
          ]
        },
        {
          "output_type": "stream",
          "name": "stdout",
          "text": [
            "  [ks=41,h=10] img 81/115\n"
          ]
        },
        {
          "output_type": "stream",
          "name": "stdout",
          "text": [
            "  [ks=41,h=10] img 91/115\n"
          ]
        },
        {
          "output_type": "stream",
          "name": "stdout",
          "text": [
            "  [ks=41,h=10] img 101/115\n"
          ]
        },
        {
          "output_type": "stream",
          "name": "stdout",
          "text": [
            "  [ks=41,h=10] img 111/115\n"
          ]
        },
        {
          "output_type": "stream",
          "name": "stdout",
          "text": [
            "  -> mean RMSE=0.246860, median=0.246089, time=18.9s\nGrid 6: ksize=41, h=12\n  [ks=41,h=12] img 1/115\n"
          ]
        },
        {
          "output_type": "stream",
          "name": "stdout",
          "text": [
            "  [ks=41,h=12] img 11/115\n"
          ]
        },
        {
          "output_type": "stream",
          "name": "stdout",
          "text": [
            "  [ks=41,h=12] img 21/115\n"
          ]
        },
        {
          "output_type": "stream",
          "name": "stdout",
          "text": [
            "  [ks=41,h=12] img 31/115\n"
          ]
        },
        {
          "output_type": "stream",
          "name": "stdout",
          "text": [
            "  [ks=41,h=12] img 41/115\n"
          ]
        },
        {
          "output_type": "stream",
          "name": "stdout",
          "text": [
            "  [ks=41,h=12] img 51/115\n"
          ]
        },
        {
          "output_type": "stream",
          "name": "stdout",
          "text": [
            "  [ks=41,h=12] img 61/115\n"
          ]
        },
        {
          "output_type": "stream",
          "name": "stdout",
          "text": [
            "  [ks=41,h=12] img 71/115\n"
          ]
        },
        {
          "output_type": "stream",
          "name": "stdout",
          "text": [
            "  [ks=41,h=12] img 81/115\n"
          ]
        },
        {
          "output_type": "stream",
          "name": "stdout",
          "text": [
            "  [ks=41,h=12] img 91/115\n"
          ]
        },
        {
          "output_type": "stream",
          "name": "stdout",
          "text": [
            "  [ks=41,h=12] img 101/115\n"
          ]
        },
        {
          "output_type": "stream",
          "name": "stdout",
          "text": [
            "  [ks=41,h=12] img 111/115\n"
          ]
        },
        {
          "output_type": "stream",
          "name": "stdout",
          "text": [
            "  -> mean RMSE=0.246952, median=0.246068, time=18.9s\nGrid 7: ksize=51, h=8\n  [ks=51,h=8] img 1/115\n"
          ]
        },
        {
          "output_type": "stream",
          "name": "stdout",
          "text": [
            "  [ks=51,h=8] img 11/115\n"
          ]
        },
        {
          "output_type": "stream",
          "name": "stdout",
          "text": [
            "  [ks=51,h=8] img 21/115\n"
          ]
        },
        {
          "output_type": "stream",
          "name": "stdout",
          "text": [
            "  [ks=51,h=8] img 31/115\n"
          ]
        },
        {
          "output_type": "stream",
          "name": "stdout",
          "text": [
            "  [ks=51,h=8] img 41/115\n"
          ]
        },
        {
          "output_type": "stream",
          "name": "stdout",
          "text": [
            "  [ks=51,h=8] img 51/115\n"
          ]
        },
        {
          "output_type": "stream",
          "name": "stdout",
          "text": [
            "  [ks=51,h=8] img 61/115\n"
          ]
        },
        {
          "output_type": "stream",
          "name": "stdout",
          "text": [
            "  [ks=51,h=8] img 71/115\n"
          ]
        },
        {
          "output_type": "stream",
          "name": "stdout",
          "text": [
            "  [ks=51,h=8] img 81/115\n"
          ]
        },
        {
          "output_type": "stream",
          "name": "stdout",
          "text": [
            "  [ks=51,h=8] img 91/115\n"
          ]
        },
        {
          "output_type": "stream",
          "name": "stdout",
          "text": [
            "  [ks=51,h=8] img 101/115\n"
          ]
        },
        {
          "output_type": "stream",
          "name": "stdout",
          "text": [
            "  [ks=51,h=8] img 111/115\n"
          ]
        },
        {
          "output_type": "stream",
          "name": "stdout",
          "text": [
            "  -> mean RMSE=0.236652, median=0.234544, time=20.0s\nGrid 8: ksize=51, h=10\n  [ks=51,h=10] img 1/115\n"
          ]
        },
        {
          "output_type": "stream",
          "name": "stdout",
          "text": [
            "  [ks=51,h=10] img 11/115\n"
          ]
        },
        {
          "output_type": "stream",
          "name": "stdout",
          "text": [
            "  [ks=51,h=10] img 21/115\n"
          ]
        },
        {
          "output_type": "stream",
          "name": "stdout",
          "text": [
            "  [ks=51,h=10] img 31/115\n"
          ]
        },
        {
          "output_type": "stream",
          "name": "stdout",
          "text": [
            "  [ks=51,h=10] img 41/115\n"
          ]
        },
        {
          "output_type": "stream",
          "name": "stdout",
          "text": [
            "  [ks=51,h=10] img 51/115\n"
          ]
        },
        {
          "output_type": "stream",
          "name": "stdout",
          "text": [
            "  [ks=51,h=10] img 61/115\n"
          ]
        },
        {
          "output_type": "stream",
          "name": "stdout",
          "text": [
            "  [ks=51,h=10] img 71/115\n"
          ]
        },
        {
          "output_type": "stream",
          "name": "stdout",
          "text": [
            "  [ks=51,h=10] img 81/115\n"
          ]
        },
        {
          "output_type": "stream",
          "name": "stdout",
          "text": [
            "  [ks=51,h=10] img 91/115\n"
          ]
        },
        {
          "output_type": "stream",
          "name": "stdout",
          "text": [
            "  [ks=51,h=10] img 101/115\n"
          ]
        },
        {
          "output_type": "stream",
          "name": "stdout",
          "text": [
            "  [ks=51,h=10] img 111/115\n"
          ]
        },
        {
          "output_type": "stream",
          "name": "stdout",
          "text": [
            "  -> mean RMSE=0.236646, median=0.234578, time=20.0s\nGrid 9: ksize=51, h=12\n  [ks=51,h=12] img 1/115\n"
          ]
        },
        {
          "output_type": "stream",
          "name": "stdout",
          "text": [
            "  [ks=51,h=12] img 11/115\n"
          ]
        },
        {
          "output_type": "stream",
          "name": "stdout",
          "text": [
            "  [ks=51,h=12] img 21/115\n"
          ]
        },
        {
          "output_type": "stream",
          "name": "stdout",
          "text": [
            "  [ks=51,h=12] img 31/115\n"
          ]
        },
        {
          "output_type": "stream",
          "name": "stdout",
          "text": [
            "  [ks=51,h=12] img 41/115\n"
          ]
        },
        {
          "output_type": "stream",
          "name": "stdout",
          "text": [
            "  [ks=51,h=12] img 51/115\n"
          ]
        },
        {
          "output_type": "stream",
          "name": "stdout",
          "text": [
            "  [ks=51,h=12] img 61/115\n"
          ]
        },
        {
          "output_type": "stream",
          "name": "stdout",
          "text": [
            "  [ks=51,h=12] img 71/115\n"
          ]
        },
        {
          "output_type": "stream",
          "name": "stdout",
          "text": [
            "  [ks=51,h=12] img 81/115\n"
          ]
        },
        {
          "output_type": "stream",
          "name": "stdout",
          "text": [
            "  [ks=51,h=12] img 91/115\n"
          ]
        },
        {
          "output_type": "stream",
          "name": "stdout",
          "text": [
            "  [ks=51,h=12] img 101/115\n"
          ]
        },
        {
          "output_type": "stream",
          "name": "stdout",
          "text": [
            "  [ks=51,h=12] img 111/115\n"
          ]
        },
        {
          "output_type": "stream",
          "name": "stdout",
          "text": [
            "  -> mean RMSE=0.236702, median=0.234619, time=19.9s\nTotal grid time: 172.2s\nTop results by mean RMSE:\n  ksize=51, h=10: mean=0.236646, median=0.234578\n  ksize=51, h=8: mean=0.236652, median=0.234544\n  ksize=51, h=12: mean=0.236702, median=0.234619\n  ksize=41, h=8: mean=0.246842, median=0.246167\n  ksize=41, h=10: mean=0.246860, median=0.246089\nSelected best params -> ksize: 51 h: 10\nGenerating submission with ksize=51, h=10 -> submission.csv\n"
          ]
        },
        {
          "output_type": "stream",
          "name": "stdout",
          "text": [
            "Found 29 unique test image ids.\n[1/29] Processing test/110.png ...\n"
          ]
        },
        {
          "output_type": "stream",
          "name": "stdout",
          "text": [
            "[2/29] Processing test/111.png ...\n"
          ]
        },
        {
          "output_type": "stream",
          "name": "stdout",
          "text": [
            "[3/29] Processing test/122.png ...\n"
          ]
        },
        {
          "output_type": "stream",
          "name": "stdout",
          "text": [
            "[4/29] Processing test/131.png ...\n"
          ]
        },
        {
          "output_type": "stream",
          "name": "stdout",
          "text": [
            "[5/29] Processing test/134.png ...\n"
          ]
        },
        {
          "output_type": "stream",
          "name": "stdout",
          "text": [
            "[6/29] Processing test/137.png ...\n"
          ]
        },
        {
          "output_type": "stream",
          "name": "stdout",
          "text": [
            "[7/29] Processing test/146.png ...\n"
          ]
        },
        {
          "output_type": "stream",
          "name": "stdout",
          "text": [
            "[8/29] Processing test/150.png ...\n"
          ]
        },
        {
          "output_type": "stream",
          "name": "stdout",
          "text": [
            "[9/29] Processing test/155.png ...\n"
          ]
        },
        {
          "output_type": "stream",
          "name": "stdout",
          "text": [
            "[10/29] Processing test/159.png ...\n"
          ]
        },
        {
          "output_type": "stream",
          "name": "stdout",
          "text": [
            "[11/29] Processing test/162.png ...\n"
          ]
        },
        {
          "output_type": "stream",
          "name": "stdout",
          "text": [
            "[12/29] Processing test/170.png ...\n"
          ]
        },
        {
          "output_type": "stream",
          "name": "stdout",
          "text": [
            "[13/29] Processing test/174.png ...\n"
          ]
        },
        {
          "output_type": "stream",
          "name": "stdout",
          "text": [
            "[14/29] Processing test/180.png ...\n"
          ]
        },
        {
          "output_type": "stream",
          "name": "stdout",
          "text": [
            "[15/29] Processing test/186.png ...\n"
          ]
        },
        {
          "output_type": "stream",
          "name": "stdout",
          "text": [
            "[16/29] Processing test/216.png ...\n"
          ]
        },
        {
          "output_type": "stream",
          "name": "stdout",
          "text": [
            "[17/29] Processing test/26.png ...\n"
          ]
        },
        {
          "output_type": "stream",
          "name": "stdout",
          "text": [
            "[18/29] Processing test/35.png ...\n"
          ]
        },
        {
          "output_type": "stream",
          "name": "stdout",
          "text": [
            "[19/29] Processing test/36.png ...\n"
          ]
        },
        {
          "output_type": "stream",
          "name": "stdout",
          "text": [
            "[20/29] Processing test/42.png ...\n"
          ]
        },
        {
          "output_type": "stream",
          "name": "stdout",
          "text": [
            "[21/29] Processing test/54.png ...\n"
          ]
        },
        {
          "output_type": "stream",
          "name": "stdout",
          "text": [
            "[22/29] Processing test/6.png ...\n"
          ]
        },
        {
          "output_type": "stream",
          "name": "stdout",
          "text": [
            "[23/29] Processing test/62.png ...\n"
          ]
        },
        {
          "output_type": "stream",
          "name": "stdout",
          "text": [
            "[24/29] Processing test/68.png ...\n"
          ]
        },
        {
          "output_type": "stream",
          "name": "stdout",
          "text": [
            "[25/29] Processing test/77.png ...\n"
          ]
        },
        {
          "output_type": "stream",
          "name": "stdout",
          "text": [
            "[26/29] Processing test/78.png ...\n"
          ]
        },
        {
          "output_type": "stream",
          "name": "stdout",
          "text": [
            "[27/29] Processing test/8.png ...\n"
          ]
        },
        {
          "output_type": "stream",
          "name": "stdout",
          "text": [
            "[28/29] Processing test/80.png ...\n"
          ]
        },
        {
          "output_type": "stream",
          "name": "stdout",
          "text": [
            "[29/29] Processing test/95.png ...\n"
          ]
        },
        {
          "output_type": "stream",
          "name": "stdout",
          "text": [
            "Writing predictions to CSV in sample order (rounded to 4 decimals)...\n"
          ]
        },
        {
          "output_type": "stream",
          "name": "stdout",
          "text": [
            "Wrote: submission.csv\n"
          ]
        },
        {
          "output_type": "stream",
          "name": "stdout",
          "text": [
            "Compressed to: submission.csv.zip\n"
          ]
        }
      ]
    },
    {
      "id": "07935423-2040-460f-b679-887a7232e90d",
      "cell_type": "code",
      "metadata": {},
      "source": [
        "# Inspect train_cleaned intensity distribution to guide pipeline choice\n",
        "import numpy as np\n",
        "from collections import Counter\n",
        "\n",
        "def summarize_clean_images(sample_n=10):\n",
        "    stats = []\n",
        "    for p in clean_files[:sample_n]:\n",
        "        img = read_gray_uint8(p)\n",
        "        u = np.unique(img)\n",
        "        stats.append((p.name, img.min(), img.max(), len(u)))\n",
        "        print(f'{p.name}: min={img.min()} max={img.max()} unique={len(u)}')\n",
        "        if len(u) <= 8:\n",
        "            # show small histogram of values\n",
        "            counts = Counter(img.ravel().tolist())\n",
        "            top = sorted(counts.items())[:10]\n",
        "            print('  small unique set (first 10):', top)\n",
        "    mins = [s[1] for s in stats]\n",
        "    maxs = [s[2] for s in stats]\n",
        "    us = [s[3] for s in stats]\n",
        "    print('Summary over sample:')\n",
        "    print('  min range:', (min(mins), max(mins)))\n",
        "    print('  max range:', (min(maxs), max(maxs)))\n",
        "    print('  unique counts range:', (min(us), max(us)))\n",
        "\n",
        "summarize_clean_images(sample_n=15)"
      ],
      "execution_count": 6,
      "outputs": [
        {
          "output_type": "stream",
          "name": "stdout",
          "text": [
            "2.png: min=0 max=255 unique=256\n3.png: min=0 max=255 unique=256\n5.png: min=0 max=255 unique=256\n9.png: min=0 max=255 unique=256\n11.png: min=0 max=255 unique=256\n12.png: min=0 max=255 unique=256\n14.png: min=0 max=255 unique=256\n15.png: min=0 max=255 unique=256\n17.png: min=0 max=255 unique=256\n18.png: min=0 max=255 unique=256\n20.png: min=0 max=255 unique=256\n21.png: min=0 max=255 unique=256\n23.png: min=0 max=255 unique=256\n24.png: min=0 max=255 unique=256\n27.png: min=0 max=255 unique=256\nSummary over sample:\n  min range: (0, 0)\n  max range: (255, 255)\n  unique counts range: (256, 256)\n"
          ]
        }
      ]
    },
    {
      "id": "2ba99d0d-5054-4168-b443-b17a8bc7b7f5",
      "cell_type": "code",
      "metadata": {},
      "source": [
        "# Alternative background normalization using OpenCV divide + denoise variants\n",
        "import itertools\n",
        "\n",
        "def estimate_background_median(img_u8: np.ndarray, ksize: int = 41) -> np.ndarray:\n",
        "    # large median blur as background estimate\n",
        "    k = ksize if ksize % 2 == 1 else ksize + 1\n",
        "    return cv2.medianBlur(img_u8, k)\n",
        "\n",
        "def normalize_divide(img_u8: np.ndarray, bg_u8: np.ndarray) -> np.ndarray:\n",
        "    # Illumination correction via division with scale 255\n",
        "    # Avoid zeros in bg\n",
        "    bg_safe = bg_u8.copy()\n",
        "    bg_safe[bg_safe < 1] = 1\n",
        "    norm = cv2.divide(img_u8, bg_safe, scale=255)  # uint8 output\n",
        "    return norm\n",
        "\n",
        "def denoise_bilateral(img_u8: np.ndarray, d: int = 9, sc: int = 50, ss: int = 75) -> np.ndarray:\n",
        "    return cv2.bilateralFilter(img_u8, d, sc, ss)\n",
        "\n",
        "def pipeline_div_bilat(img_u8: np.ndarray, ksize: int = 41) -> np.ndarray:\n",
        "    bg = estimate_background_median(img_u8, ksize=ksize)\n",
        "    norm = normalize_divide(img_u8, bg)\n",
        "    den = denoise_bilateral(norm, d=9, sc=50, ss=75)\n",
        "    return den\n",
        "\n",
        "def pipeline_div_nlm(img_u8: np.ndarray, ksize: int = 41, h: int = 10) -> np.ndarray:\n",
        "    bg = estimate_background_median(img_u8, ksize=ksize)\n",
        "    norm = normalize_divide(img_u8, bg)\n",
        "    den = nlm_uint8(norm, h=h, templateWindowSize=7, searchWindowSize=21)\n",
        "    return den\n",
        "\n",
        "def eval_div_norm_grid_on_train(ksizes, methods):\n",
        "    results = []\n",
        "    t0_all = time.time()\n",
        "    for gi, (ks, mth) in enumerate(itertools.product(ksizes, methods), start=1):\n",
        "        errs = []\n",
        "        t0 = time.time()\n",
        "        print(f'Grid {gi}: ksize={ks}, method={mth}')\n",
        "        for i, p in enumerate(train_files):\n",
        "            if i % 10 == 0:\n",
        "                print(f'  [ks={ks},method={mth}] img {i+1}/{len(train_files)}', flush=True)\n",
        "            img = read_gray_uint8(p)\n",
        "            if mth == 'bilateral':\n",
        "                den = pipeline_div_bilat(img, ksize=ks)\n",
        "            elif mth == 'nlm':\n",
        "                den = pipeline_div_nlm(img, ksize=ks, h=10)\n",
        "            else:\n",
        "                raise ValueError(mth)\n",
        "            target = read_gray_uint8(TRAIN_CLEAN_DIR / p.name)\n",
        "            err = rmse(to_float01(den), to_float01(target))\n",
        "            errs.append(err)\n",
        "        mean_rmse = float(np.mean(errs))\n",
        "        med_rmse = float(np.median(errs))\n",
        "        elapsed = time.time() - t0\n",
        "        print(f'  -> mean RMSE={mean_rmse:.6f}, median={med_rmse:.6f}, time={elapsed:.1f}s')\n",
        "        results.append((ks, mth, mean_rmse, med_rmse, elapsed))\n",
        "    print(f'Total grid time: {time.time()-t0_all:.1f}s')\n",
        "    results.sort(key=lambda x: x[2])\n",
        "    print('Top results by mean RMSE:')\n",
        "    for ks, mth, m, md, _ in results[:5]:\n",
        "        print(f'  ksize={ks}, method={mth}: mean={m:.6f}, median={md:.6f}')\n",
        "    return results\n",
        "\n",
        "# Evaluate this alternative quickly\n",
        "ksizes_alt = [31, 41, 51]\n",
        "methods_alt = ['bilateral', 'nlm']\n",
        "results_div = eval_div_norm_grid_on_train(ksizes_alt, methods_alt)"
      ],
      "execution_count": 7,
      "outputs": [
        {
          "output_type": "stream",
          "name": "stdout",
          "text": [
            "Grid 1: ksize=31, method=bilateral\n  [ks=31,method=bilateral] img 1/115\n"
          ]
        },
        {
          "output_type": "stream",
          "name": "stdout",
          "text": [
            "  [ks=31,method=bilateral] img 11/115\n"
          ]
        },
        {
          "output_type": "stream",
          "name": "stdout",
          "text": [
            "  [ks=31,method=bilateral] img 21/115\n"
          ]
        },
        {
          "output_type": "stream",
          "name": "stdout",
          "text": [
            "  [ks=31,method=bilateral] img 31/115\n"
          ]
        },
        {
          "output_type": "stream",
          "name": "stdout",
          "text": [
            "  [ks=31,method=bilateral] img 41/115\n"
          ]
        },
        {
          "output_type": "stream",
          "name": "stdout",
          "text": [
            "  [ks=31,method=bilateral] img 51/115\n"
          ]
        },
        {
          "output_type": "stream",
          "name": "stdout",
          "text": [
            "  [ks=31,method=bilateral] img 61/115\n"
          ]
        },
        {
          "output_type": "stream",
          "name": "stdout",
          "text": [
            "  [ks=31,method=bilateral] img 71/115\n"
          ]
        },
        {
          "output_type": "stream",
          "name": "stdout",
          "text": [
            "  [ks=31,method=bilateral] img 81/115\n"
          ]
        },
        {
          "output_type": "stream",
          "name": "stdout",
          "text": [
            "  [ks=31,method=bilateral] img 91/115\n"
          ]
        },
        {
          "output_type": "stream",
          "name": "stdout",
          "text": [
            "  [ks=31,method=bilateral] img 101/115\n"
          ]
        },
        {
          "output_type": "stream",
          "name": "stdout",
          "text": [
            "  [ks=31,method=bilateral] img 111/115\n"
          ]
        },
        {
          "output_type": "stream",
          "name": "stdout",
          "text": [
            "  -> mean RMSE=0.071353, median=0.072476, time=3.0s\nGrid 2: ksize=31, method=nlm\n  [ks=31,method=nlm] img 1/115\n"
          ]
        },
        {
          "output_type": "stream",
          "name": "stdout",
          "text": [
            "  [ks=31,method=nlm] img 11/115\n"
          ]
        },
        {
          "output_type": "stream",
          "name": "stdout",
          "text": [
            "  [ks=31,method=nlm] img 21/115\n"
          ]
        },
        {
          "output_type": "stream",
          "name": "stdout",
          "text": [
            "  [ks=31,method=nlm] img 31/115\n"
          ]
        },
        {
          "output_type": "stream",
          "name": "stdout",
          "text": [
            "  [ks=31,method=nlm] img 41/115\n"
          ]
        },
        {
          "output_type": "stream",
          "name": "stdout",
          "text": [
            "  [ks=31,method=nlm] img 51/115\n"
          ]
        },
        {
          "output_type": "stream",
          "name": "stdout",
          "text": [
            "  [ks=31,method=nlm] img 61/115\n"
          ]
        },
        {
          "output_type": "stream",
          "name": "stdout",
          "text": [
            "  [ks=31,method=nlm] img 71/115\n"
          ]
        },
        {
          "output_type": "stream",
          "name": "stdout",
          "text": [
            "  [ks=31,method=nlm] img 81/115\n"
          ]
        },
        {
          "output_type": "stream",
          "name": "stdout",
          "text": [
            "  [ks=31,method=nlm] img 91/115\n"
          ]
        },
        {
          "output_type": "stream",
          "name": "stdout",
          "text": [
            "  [ks=31,method=nlm] img 101/115\n"
          ]
        },
        {
          "output_type": "stream",
          "name": "stdout",
          "text": [
            "  [ks=31,method=nlm] img 111/115\n"
          ]
        },
        {
          "output_type": "stream",
          "name": "stdout",
          "text": [
            "  -> mean RMSE=0.049855, median=0.047893, time=17.5s\nGrid 3: ksize=41, method=bilateral\n  [ks=41,method=bilateral] img 1/115\n"
          ]
        },
        {
          "output_type": "stream",
          "name": "stdout",
          "text": [
            "  [ks=41,method=bilateral] img 11/115\n"
          ]
        },
        {
          "output_type": "stream",
          "name": "stdout",
          "text": [
            "  [ks=41,method=bilateral] img 21/115\n"
          ]
        },
        {
          "output_type": "stream",
          "name": "stdout",
          "text": [
            "  [ks=41,method=bilateral] img 31/115\n"
          ]
        },
        {
          "output_type": "stream",
          "name": "stdout",
          "text": [
            "  [ks=41,method=bilateral] img 41/115\n"
          ]
        },
        {
          "output_type": "stream",
          "name": "stdout",
          "text": [
            "  [ks=41,method=bilateral] img 51/115\n"
          ]
        },
        {
          "output_type": "stream",
          "name": "stdout",
          "text": [
            "  [ks=41,method=bilateral] img 61/115\n"
          ]
        },
        {
          "output_type": "stream",
          "name": "stdout",
          "text": [
            "  [ks=41,method=bilateral] img 71/115\n"
          ]
        },
        {
          "output_type": "stream",
          "name": "stdout",
          "text": [
            "  [ks=41,method=bilateral] img 81/115\n"
          ]
        },
        {
          "output_type": "stream",
          "name": "stdout",
          "text": [
            "  [ks=41,method=bilateral] img 91/115\n"
          ]
        },
        {
          "output_type": "stream",
          "name": "stdout",
          "text": [
            "  [ks=41,method=bilateral] img 101/115\n"
          ]
        },
        {
          "output_type": "stream",
          "name": "stdout",
          "text": [
            "  [ks=41,method=bilateral] img 111/115\n"
          ]
        },
        {
          "output_type": "stream",
          "name": "stdout",
          "text": [
            "  -> mean RMSE=0.072759, median=0.073789, time=3.1s\nGrid 4: ksize=41, method=nlm\n  [ks=41,method=nlm] img 1/115\n"
          ]
        },
        {
          "output_type": "stream",
          "name": "stdout",
          "text": [
            "  [ks=41,method=nlm] img 11/115\n"
          ]
        },
        {
          "output_type": "stream",
          "name": "stdout",
          "text": [
            "  [ks=41,method=nlm] img 21/115\n"
          ]
        },
        {
          "output_type": "stream",
          "name": "stdout",
          "text": [
            "  [ks=41,method=nlm] img 31/115\n"
          ]
        },
        {
          "output_type": "stream",
          "name": "stdout",
          "text": [
            "  [ks=41,method=nlm] img 41/115\n"
          ]
        },
        {
          "output_type": "stream",
          "name": "stdout",
          "text": [
            "  [ks=41,method=nlm] img 51/115\n"
          ]
        },
        {
          "output_type": "stream",
          "name": "stdout",
          "text": [
            "  [ks=41,method=nlm] img 61/115\n"
          ]
        },
        {
          "output_type": "stream",
          "name": "stdout",
          "text": [
            "  [ks=41,method=nlm] img 71/115\n"
          ]
        },
        {
          "output_type": "stream",
          "name": "stdout",
          "text": [
            "  [ks=41,method=nlm] img 81/115\n"
          ]
        },
        {
          "output_type": "stream",
          "name": "stdout",
          "text": [
            "  [ks=41,method=nlm] img 91/115\n"
          ]
        },
        {
          "output_type": "stream",
          "name": "stdout",
          "text": [
            "  [ks=41,method=nlm] img 101/115\n"
          ]
        },
        {
          "output_type": "stream",
          "name": "stdout",
          "text": [
            "  [ks=41,method=nlm] img 111/115\n"
          ]
        },
        {
          "output_type": "stream",
          "name": "stdout",
          "text": [
            "  -> mean RMSE=0.051851, median=0.050700, time=17.6s\nGrid 5: ksize=51, method=bilateral\n  [ks=51,method=bilateral] img 1/115\n"
          ]
        },
        {
          "output_type": "stream",
          "name": "stdout",
          "text": [
            "  [ks=51,method=bilateral] img 11/115\n"
          ]
        },
        {
          "output_type": "stream",
          "name": "stdout",
          "text": [
            "  [ks=51,method=bilateral] img 21/115\n"
          ]
        },
        {
          "output_type": "stream",
          "name": "stdout",
          "text": [
            "  [ks=51,method=bilateral] img 31/115\n"
          ]
        },
        {
          "output_type": "stream",
          "name": "stdout",
          "text": [
            "  [ks=51,method=bilateral] img 41/115\n"
          ]
        },
        {
          "output_type": "stream",
          "name": "stdout",
          "text": [
            "  [ks=51,method=bilateral] img 51/115\n"
          ]
        },
        {
          "output_type": "stream",
          "name": "stdout",
          "text": [
            "  [ks=51,method=bilateral] img 61/115\n"
          ]
        },
        {
          "output_type": "stream",
          "name": "stdout",
          "text": [
            "  [ks=51,method=bilateral] img 71/115\n"
          ]
        },
        {
          "output_type": "stream",
          "name": "stdout",
          "text": [
            "  [ks=51,method=bilateral] img 81/115\n"
          ]
        },
        {
          "output_type": "stream",
          "name": "stdout",
          "text": [
            "  [ks=51,method=bilateral] img 91/115\n"
          ]
        },
        {
          "output_type": "stream",
          "name": "stdout",
          "text": [
            "  [ks=51,method=bilateral] img 101/115\n"
          ]
        },
        {
          "output_type": "stream",
          "name": "stdout",
          "text": [
            "  [ks=51,method=bilateral] img 111/115\n"
          ]
        },
        {
          "output_type": "stream",
          "name": "stdout",
          "text": [
            "  -> mean RMSE=0.074852, median=0.076265, time=3.0s\nGrid 6: ksize=51, method=nlm\n  [ks=51,method=nlm] img 1/115\n"
          ]
        },
        {
          "output_type": "stream",
          "name": "stdout",
          "text": [
            "  [ks=51,method=nlm] img 11/115\n"
          ]
        },
        {
          "output_type": "stream",
          "name": "stdout",
          "text": [
            "  [ks=51,method=nlm] img 21/115\n"
          ]
        },
        {
          "output_type": "stream",
          "name": "stdout",
          "text": [
            "  [ks=51,method=nlm] img 31/115\n"
          ]
        },
        {
          "output_type": "stream",
          "name": "stdout",
          "text": [
            "  [ks=51,method=nlm] img 41/115\n"
          ]
        },
        {
          "output_type": "stream",
          "name": "stdout",
          "text": [
            "  [ks=51,method=nlm] img 51/115\n"
          ]
        },
        {
          "output_type": "stream",
          "name": "stdout",
          "text": [
            "  [ks=51,method=nlm] img 61/115\n"
          ]
        },
        {
          "output_type": "stream",
          "name": "stdout",
          "text": [
            "  [ks=51,method=nlm] img 71/115\n"
          ]
        },
        {
          "output_type": "stream",
          "name": "stdout",
          "text": [
            "  [ks=51,method=nlm] img 81/115\n"
          ]
        },
        {
          "output_type": "stream",
          "name": "stdout",
          "text": [
            "  [ks=51,method=nlm] img 91/115\n"
          ]
        },
        {
          "output_type": "stream",
          "name": "stdout",
          "text": [
            "  [ks=51,method=nlm] img 101/115\n"
          ]
        },
        {
          "output_type": "stream",
          "name": "stdout",
          "text": [
            "  [ks=51,method=nlm] img 111/115\n"
          ]
        },
        {
          "output_type": "stream",
          "name": "stdout",
          "text": [
            "  -> mean RMSE=0.054467, median=0.054090, time=17.3s\nTotal grid time: 61.5s\nTop results by mean RMSE:\n  ksize=31, method=nlm: mean=0.049855, median=0.047893\n  ksize=41, method=nlm: mean=0.051851, median=0.050700\n  ksize=51, method=nlm: mean=0.054467, median=0.054090\n  ksize=31, method=bilateral: mean=0.071353, median=0.072476\n  ksize=41, method=bilateral: mean=0.072759, median=0.073789\n"
          ]
        }
      ]
    },
    {
      "id": "5b4cf297-1bb9-43e3-bfc6-ccbf3a5c7139",
      "cell_type": "code",
      "metadata": {},
      "source": [
        "# Fine-tune divide+NLM: tune pre-median blur and NLM h at best ksize=31\n",
        "import itertools\n",
        "\n",
        "def pipeline_div_nlm_tuned(img_u8: np.ndarray, ksize: int = 31, pre_median: int = 0, h: int = 10) -> np.ndarray:\n",
        "    bg = estimate_background_median(img_u8, ksize=ksize)\n",
        "    norm = normalize_divide(img_u8, bg)\n",
        "    if pre_median and pre_median > 1:\n",
        "        k = pre_median if pre_median % 2 == 1 else pre_median + 1\n",
        "        norm = cv2.medianBlur(norm, k)\n",
        "    den = nlm_uint8(norm, h=h, templateWindowSize=7, searchWindowSize=21)\n",
        "    return den\n",
        "\n",
        "def eval_div_nlm_finetune_on_train(ksize: int, pre_medians, h_list):\n",
        "    results = []\n",
        "    t0_all = time.time()\n",
        "    for gi, (pm, h) in enumerate(itertools.product(pre_medians, h_list), start=1):\n",
        "        errs = []\n",
        "        t0 = time.time()\n",
        "        print(f'Combo {gi}: ksize={ksize}, pre_median={pm}, h={h}')\n",
        "        for i, p in enumerate(train_files):\n",
        "            if i % 10 == 0:\n",
        "                print(f'  [pm={pm},h={h}] img {i+1}/{len(train_files)}', flush=True)\n",
        "            img = read_gray_uint8(p)\n",
        "            den = pipeline_div_nlm_tuned(img, ksize=ksize, pre_median=pm, h=h)\n",
        "            target = read_gray_uint8(TRAIN_CLEAN_DIR / p.name)\n",
        "            err = rmse(to_float01(den), to_float01(target))\n",
        "            errs.append(err)\n",
        "        mean_rmse = float(np.mean(errs))\n",
        "        med_rmse = float(np.median(errs))\n",
        "        elapsed = time.time() - t0\n",
        "        print(f'  -> mean RMSE={mean_rmse:.6f}, median={med_rmse:.6f}, time={elapsed:.1f}s')\n",
        "        results.append((ksize, pm, h, mean_rmse, med_rmse, elapsed))\n",
        "    print(f'Total finetune time: {time.time()-t0_all:.1f}s')\n",
        "    results.sort(key=lambda x: x[3])\n",
        "    print('Top results by mean RMSE:')\n",
        "    for ks, pm, h, m, md, _ in results[:5]:\n",
        "        print(f'  ksize={ks}, pre_median={pm}, h={h}: mean={m:.6f}, median={md:.6f}')\n",
        "    return results\n",
        "\n",
        "def generate_submission_div_nlm_tuned(best_ksize: int, best_pm: int, best_h: int, out_path: str = 'submission.csv'):\n",
        "    print(f'Generating submission with ksize={best_ksize}, pre_median={best_pm}, h={best_h} -> {out_path}')\n",
        "    sample_iter = pd.read_csv(SAMPLE_SUB_PATH, chunksize=200000)\n",
        "    ordered_image_ids = []\n",
        "    seen = set()\n",
        "    for chunk in sample_iter:\n",
        "        for s in chunk['id'].astype(str).values:\n",
        "            img_id, r, c = parse_id_triplet(s)\n",
        "            if img_id not in seen:\n",
        "                seen.add(img_id)\n",
        "                ordered_image_ids.append(img_id)\n",
        "    print(f'Found {len(ordered_image_ids)} unique test image ids.')\n",
        "    cache = {}\n",
        "    for idx, img_id in enumerate(ordered_image_ids):\n",
        "        img_path = TEST_DIR / f'{img_id}.png'\n",
        "        print(f'[{idx+1}/{len(ordered_image_ids)}] Processing {img_path} ...', flush=True)\n",
        "        img_u8 = read_gray_uint8(img_path)\n",
        "        den_u8 = pipeline_div_nlm_tuned(img_u8, ksize=best_ksize, pre_median=best_pm, h=best_h)\n",
        "        cache[img_id] = to_float01(den_u8)\n",
        "    import csv\n",
        "    print('Writing predictions to CSV in sample order (rounded to 4 decimals)...')\n",
        "    with open(out_path, 'w', newline='') as f_out:\n",
        "        writer = csv.writer(f_out)\n",
        "        writer.writerow(['id', 'value'])\n",
        "        for chunk in pd.read_csv(SAMPLE_SUB_PATH, chunksize=200000):\n",
        "            rows = []\n",
        "            for s in chunk['id'].astype(str).values:\n",
        "                img_id, r, c = parse_id_triplet(s)\n",
        "                val = float(np.clip(cache[img_id][r-1, c-1], 0.0, 1.0))\n",
        "                rows.append((s, f'{val:.4f}'))\n",
        "            writer.writerows(rows)\n",
        "    print(f'Wrote: {out_path}')\n",
        "\n",
        "# Run fine-tune around best ksize=31\n",
        "pre_medians = [0, 3, 5]\n",
        "h_list = [8, 10, 12, 14]\n",
        "results_fine = eval_div_nlm_finetune_on_train(ksize=31, pre_medians=pre_medians, h_list=h_list)\n",
        "best_ks, best_pm, best_h, best_mean, best_med, _ = results_fine[0]\n",
        "print('Selected best tuned params -> ksize:', best_ks, 'pre_median:', best_pm, 'h:', best_h, 'mean:', best_mean)\n",
        "# Uncomment to generate submission with tuned params once satisfied\n",
        "# generate_submission_div_nlm_tuned(best_ks, best_pm, best_h, out_path='submission.csv')"
      ],
      "execution_count": 8,
      "outputs": [
        {
          "output_type": "stream",
          "name": "stdout",
          "text": [
            "Combo 1: ksize=31, pre_median=0, h=8\n  [pm=0,h=8] img 1/115\n"
          ]
        },
        {
          "output_type": "stream",
          "name": "stdout",
          "text": [
            "  [pm=0,h=8] img 11/115\n"
          ]
        },
        {
          "output_type": "stream",
          "name": "stdout",
          "text": [
            "  [pm=0,h=8] img 21/115\n"
          ]
        },
        {
          "output_type": "stream",
          "name": "stdout",
          "text": [
            "  [pm=0,h=8] img 31/115\n"
          ]
        },
        {
          "output_type": "stream",
          "name": "stdout",
          "text": [
            "  [pm=0,h=8] img 41/115\n"
          ]
        },
        {
          "output_type": "stream",
          "name": "stdout",
          "text": [
            "  [pm=0,h=8] img 51/115\n"
          ]
        },
        {
          "output_type": "stream",
          "name": "stdout",
          "text": [
            "  [pm=0,h=8] img 61/115\n"
          ]
        },
        {
          "output_type": "stream",
          "name": "stdout",
          "text": [
            "  [pm=0,h=8] img 71/115\n"
          ]
        },
        {
          "output_type": "stream",
          "name": "stdout",
          "text": [
            "  [pm=0,h=8] img 81/115\n"
          ]
        },
        {
          "output_type": "stream",
          "name": "stdout",
          "text": [
            "  [pm=0,h=8] img 91/115\n"
          ]
        },
        {
          "output_type": "stream",
          "name": "stdout",
          "text": [
            "  [pm=0,h=8] img 101/115\n"
          ]
        },
        {
          "output_type": "stream",
          "name": "stdout",
          "text": [
            "  [pm=0,h=8] img 111/115\n"
          ]
        },
        {
          "output_type": "stream",
          "name": "stdout",
          "text": [
            "  -> mean RMSE=0.050129, median=0.048123, time=17.5s\nCombo 2: ksize=31, pre_median=0, h=10\n  [pm=0,h=10] img 1/115\n"
          ]
        },
        {
          "output_type": "stream",
          "name": "stdout",
          "text": [
            "  [pm=0,h=10] img 11/115\n"
          ]
        },
        {
          "output_type": "stream",
          "name": "stdout",
          "text": [
            "  [pm=0,h=10] img 21/115\n"
          ]
        },
        {
          "output_type": "stream",
          "name": "stdout",
          "text": [
            "  [pm=0,h=10] img 31/115\n"
          ]
        },
        {
          "output_type": "stream",
          "name": "stdout",
          "text": [
            "  [pm=0,h=10] img 41/115\n"
          ]
        },
        {
          "output_type": "stream",
          "name": "stdout",
          "text": [
            "  [pm=0,h=10] img 51/115\n"
          ]
        },
        {
          "output_type": "stream",
          "name": "stdout",
          "text": [
            "  [pm=0,h=10] img 61/115\n"
          ]
        },
        {
          "output_type": "stream",
          "name": "stdout",
          "text": [
            "  [pm=0,h=10] img 71/115\n"
          ]
        },
        {
          "output_type": "stream",
          "name": "stdout",
          "text": [
            "  [pm=0,h=10] img 81/115\n"
          ]
        },
        {
          "output_type": "stream",
          "name": "stdout",
          "text": [
            "  [pm=0,h=10] img 91/115\n"
          ]
        },
        {
          "output_type": "stream",
          "name": "stdout",
          "text": [
            "  [pm=0,h=10] img 101/115\n"
          ]
        },
        {
          "output_type": "stream",
          "name": "stdout",
          "text": [
            "  [pm=0,h=10] img 111/115\n"
          ]
        },
        {
          "output_type": "stream",
          "name": "stdout",
          "text": [
            "  -> mean RMSE=0.049855, median=0.047893, time=17.5s\nCombo 3: ksize=31, pre_median=0, h=12\n  [pm=0,h=12] img 1/115\n"
          ]
        },
        {
          "output_type": "stream",
          "name": "stdout",
          "text": [
            "  [pm=0,h=12] img 11/115\n"
          ]
        },
        {
          "output_type": "stream",
          "name": "stdout",
          "text": [
            "  [pm=0,h=12] img 21/115\n"
          ]
        },
        {
          "output_type": "stream",
          "name": "stdout",
          "text": [
            "  [pm=0,h=12] img 31/115\n"
          ]
        },
        {
          "output_type": "stream",
          "name": "stdout",
          "text": [
            "  [pm=0,h=12] img 41/115\n"
          ]
        },
        {
          "output_type": "stream",
          "name": "stdout",
          "text": [
            "  [pm=0,h=12] img 51/115\n"
          ]
        },
        {
          "output_type": "stream",
          "name": "stdout",
          "text": [
            "  [pm=0,h=12] img 61/115\n"
          ]
        },
        {
          "output_type": "stream",
          "name": "stdout",
          "text": [
            "  [pm=0,h=12] img 71/115\n"
          ]
        },
        {
          "output_type": "stream",
          "name": "stdout",
          "text": [
            "  [pm=0,h=12] img 81/115\n"
          ]
        },
        {
          "output_type": "stream",
          "name": "stdout",
          "text": [
            "  [pm=0,h=12] img 91/115\n"
          ]
        },
        {
          "output_type": "stream",
          "name": "stdout",
          "text": [
            "  [pm=0,h=12] img 101/115\n"
          ]
        },
        {
          "output_type": "stream",
          "name": "stdout",
          "text": [
            "  [pm=0,h=12] img 111/115\n"
          ]
        },
        {
          "output_type": "stream",
          "name": "stdout",
          "text": [
            "  -> mean RMSE=0.049641, median=0.047782, time=17.4s\nCombo 4: ksize=31, pre_median=0, h=14\n  [pm=0,h=14] img 1/115\n"
          ]
        },
        {
          "output_type": "stream",
          "name": "stdout",
          "text": [
            "  [pm=0,h=14] img 11/115\n"
          ]
        },
        {
          "output_type": "stream",
          "name": "stdout",
          "text": [
            "  [pm=0,h=14] img 21/115\n"
          ]
        },
        {
          "output_type": "stream",
          "name": "stdout",
          "text": [
            "  [pm=0,h=14] img 31/115\n"
          ]
        },
        {
          "output_type": "stream",
          "name": "stdout",
          "text": [
            "  [pm=0,h=14] img 41/115\n"
          ]
        },
        {
          "output_type": "stream",
          "name": "stdout",
          "text": [
            "  [pm=0,h=14] img 51/115\n"
          ]
        },
        {
          "output_type": "stream",
          "name": "stdout",
          "text": [
            "  [pm=0,h=14] img 61/115\n"
          ]
        },
        {
          "output_type": "stream",
          "name": "stdout",
          "text": [
            "  [pm=0,h=14] img 71/115\n"
          ]
        },
        {
          "output_type": "stream",
          "name": "stdout",
          "text": [
            "  [pm=0,h=14] img 81/115\n"
          ]
        },
        {
          "output_type": "stream",
          "name": "stdout",
          "text": [
            "  [pm=0,h=14] img 91/115\n"
          ]
        },
        {
          "output_type": "stream",
          "name": "stdout",
          "text": [
            "  [pm=0,h=14] img 101/115\n"
          ]
        },
        {
          "output_type": "stream",
          "name": "stdout",
          "text": [
            "  [pm=0,h=14] img 111/115\n"
          ]
        },
        {
          "output_type": "stream",
          "name": "stdout",
          "text": [
            "  -> mean RMSE=0.049552, median=0.047715, time=17.4s\nCombo 5: ksize=31, pre_median=3, h=8\n  [pm=3,h=8] img 1/115\n"
          ]
        },
        {
          "output_type": "stream",
          "name": "stdout",
          "text": [
            "  [pm=3,h=8] img 11/115\n"
          ]
        },
        {
          "output_type": "stream",
          "name": "stdout",
          "text": [
            "  [pm=3,h=8] img 21/115\n"
          ]
        },
        {
          "output_type": "stream",
          "name": "stdout",
          "text": [
            "  [pm=3,h=8] img 31/115\n"
          ]
        },
        {
          "output_type": "stream",
          "name": "stdout",
          "text": [
            "  [pm=3,h=8] img 41/115\n"
          ]
        },
        {
          "output_type": "stream",
          "name": "stdout",
          "text": [
            "  [pm=3,h=8] img 51/115\n"
          ]
        },
        {
          "output_type": "stream",
          "name": "stdout",
          "text": [
            "  [pm=3,h=8] img 61/115\n"
          ]
        },
        {
          "output_type": "stream",
          "name": "stdout",
          "text": [
            "  [pm=3,h=8] img 71/115\n"
          ]
        },
        {
          "output_type": "stream",
          "name": "stdout",
          "text": [
            "  [pm=3,h=8] img 81/115\n"
          ]
        },
        {
          "output_type": "stream",
          "name": "stdout",
          "text": [
            "  [pm=3,h=8] img 91/115\n"
          ]
        },
        {
          "output_type": "stream",
          "name": "stdout",
          "text": [
            "  [pm=3,h=8] img 101/115\n"
          ]
        },
        {
          "output_type": "stream",
          "name": "stdout",
          "text": [
            "  [pm=3,h=8] img 111/115\n"
          ]
        },
        {
          "output_type": "stream",
          "name": "stdout",
          "text": [
            "  -> mean RMSE=0.133535, median=0.139101, time=17.3s\nCombo 6: ksize=31, pre_median=3, h=10\n  [pm=3,h=10] img 1/115\n"
          ]
        },
        {
          "output_type": "stream",
          "name": "stdout",
          "text": [
            "  [pm=3,h=10] img 11/115\n"
          ]
        },
        {
          "output_type": "stream",
          "name": "stdout",
          "text": [
            "  [pm=3,h=10] img 21/115\n"
          ]
        },
        {
          "output_type": "stream",
          "name": "stdout",
          "text": [
            "  [pm=3,h=10] img 31/115\n"
          ]
        },
        {
          "output_type": "stream",
          "name": "stdout",
          "text": [
            "  [pm=3,h=10] img 41/115\n"
          ]
        },
        {
          "output_type": "stream",
          "name": "stdout",
          "text": [
            "  [pm=3,h=10] img 51/115\n"
          ]
        },
        {
          "output_type": "stream",
          "name": "stdout",
          "text": [
            "  [pm=3,h=10] img 61/115\n"
          ]
        },
        {
          "output_type": "stream",
          "name": "stdout",
          "text": [
            "  [pm=3,h=10] img 71/115\n"
          ]
        },
        {
          "output_type": "stream",
          "name": "stdout",
          "text": [
            "  [pm=3,h=10] img 81/115\n"
          ]
        },
        {
          "output_type": "stream",
          "name": "stdout",
          "text": [
            "  [pm=3,h=10] img 91/115\n"
          ]
        },
        {
          "output_type": "stream",
          "name": "stdout",
          "text": [
            "  [pm=3,h=10] img 101/115\n"
          ]
        },
        {
          "output_type": "stream",
          "name": "stdout",
          "text": [
            "  [pm=3,h=10] img 111/115\n"
          ]
        },
        {
          "output_type": "stream",
          "name": "stdout",
          "text": [
            "  -> mean RMSE=0.133689, median=0.139308, time=17.2s\nCombo 7: ksize=31, pre_median=3, h=12\n  [pm=3,h=12] img 1/115\n"
          ]
        },
        {
          "output_type": "stream",
          "name": "stdout",
          "text": [
            "  [pm=3,h=12] img 11/115\n"
          ]
        },
        {
          "output_type": "stream",
          "name": "stdout",
          "text": [
            "  [pm=3,h=12] img 21/115\n"
          ]
        },
        {
          "output_type": "stream",
          "name": "stdout",
          "text": [
            "  [pm=3,h=12] img 31/115\n"
          ]
        },
        {
          "output_type": "stream",
          "name": "stdout",
          "text": [
            "  [pm=3,h=12] img 41/115\n"
          ]
        },
        {
          "output_type": "stream",
          "name": "stdout",
          "text": [
            "  [pm=3,h=12] img 51/115\n"
          ]
        },
        {
          "output_type": "stream",
          "name": "stdout",
          "text": [
            "  [pm=3,h=12] img 61/115\n"
          ]
        },
        {
          "output_type": "stream",
          "name": "stdout",
          "text": [
            "  [pm=3,h=12] img 71/115\n"
          ]
        },
        {
          "output_type": "stream",
          "name": "stdout",
          "text": [
            "  [pm=3,h=12] img 81/115\n"
          ]
        },
        {
          "output_type": "stream",
          "name": "stdout",
          "text": [
            "  [pm=3,h=12] img 91/115\n"
          ]
        },
        {
          "output_type": "stream",
          "name": "stdout",
          "text": [
            "  [pm=3,h=12] img 101/115\n"
          ]
        },
        {
          "output_type": "stream",
          "name": "stdout",
          "text": [
            "  [pm=3,h=12] img 111/115\n"
          ]
        },
        {
          "output_type": "stream",
          "name": "stdout",
          "text": [
            "  -> mean RMSE=0.134043, median=0.139633, time=17.1s\nCombo 8: ksize=31, pre_median=3, h=14\n  [pm=3,h=14] img 1/115\n"
          ]
        },
        {
          "output_type": "stream",
          "name": "stdout",
          "text": [
            "  [pm=3,h=14] img 11/115\n"
          ]
        },
        {
          "output_type": "stream",
          "name": "stdout",
          "text": [
            "  [pm=3,h=14] img 21/115\n"
          ]
        },
        {
          "output_type": "stream",
          "name": "stdout",
          "text": [
            "  [pm=3,h=14] img 31/115\n"
          ]
        },
        {
          "output_type": "stream",
          "name": "stdout",
          "text": [
            "  [pm=3,h=14] img 41/115\n"
          ]
        },
        {
          "output_type": "stream",
          "name": "stdout",
          "text": [
            "  [pm=3,h=14] img 51/115\n"
          ]
        },
        {
          "output_type": "stream",
          "name": "stdout",
          "text": [
            "  [pm=3,h=14] img 61/115\n"
          ]
        },
        {
          "output_type": "stream",
          "name": "stdout",
          "text": [
            "  [pm=3,h=14] img 71/115\n"
          ]
        },
        {
          "output_type": "stream",
          "name": "stdout",
          "text": [
            "  [pm=3,h=14] img 81/115\n"
          ]
        },
        {
          "output_type": "stream",
          "name": "stdout",
          "text": [
            "  [pm=3,h=14] img 91/115\n"
          ]
        },
        {
          "output_type": "stream",
          "name": "stdout",
          "text": [
            "  [pm=3,h=14] img 101/115\n"
          ]
        },
        {
          "output_type": "stream",
          "name": "stdout",
          "text": [
            "  [pm=3,h=14] img 111/115\n"
          ]
        },
        {
          "output_type": "stream",
          "name": "stdout",
          "text": [
            "  -> mean RMSE=0.134683, median=0.140038, time=17.1s\nCombo 9: ksize=31, pre_median=5, h=8\n  [pm=5,h=8] img 1/115\n"
          ]
        },
        {
          "output_type": "stream",
          "name": "stdout",
          "text": [
            "  [pm=5,h=8] img 11/115\n"
          ]
        },
        {
          "output_type": "stream",
          "name": "stdout",
          "text": [
            "  [pm=5,h=8] img 21/115\n"
          ]
        },
        {
          "output_type": "stream",
          "name": "stdout",
          "text": [
            "  [pm=5,h=8] img 31/115\n"
          ]
        },
        {
          "output_type": "stream",
          "name": "stdout",
          "text": [
            "  [pm=5,h=8] img 41/115\n"
          ]
        },
        {
          "output_type": "stream",
          "name": "stdout",
          "text": [
            "  [pm=5,h=8] img 51/115\n"
          ]
        },
        {
          "output_type": "stream",
          "name": "stdout",
          "text": [
            "  [pm=5,h=8] img 61/115\n"
          ]
        },
        {
          "output_type": "stream",
          "name": "stdout",
          "text": [
            "  [pm=5,h=8] img 71/115\n"
          ]
        },
        {
          "output_type": "stream",
          "name": "stdout",
          "text": [
            "  [pm=5,h=8] img 81/115\n"
          ]
        },
        {
          "output_type": "stream",
          "name": "stdout",
          "text": [
            "  [pm=5,h=8] img 91/115\n"
          ]
        },
        {
          "output_type": "stream",
          "name": "stdout",
          "text": [
            "  [pm=5,h=8] img 101/115\n"
          ]
        },
        {
          "output_type": "stream",
          "name": "stdout",
          "text": [
            "  [pm=5,h=8] img 111/115\n"
          ]
        },
        {
          "output_type": "stream",
          "name": "stdout",
          "text": [
            "  -> mean RMSE=0.223556, median=0.224629, time=17.1s\nCombo 10: ksize=31, pre_median=5, h=10\n  [pm=5,h=10] img 1/115\n"
          ]
        },
        {
          "output_type": "stream",
          "name": "stdout",
          "text": [
            "  [pm=5,h=10] img 11/115\n"
          ]
        },
        {
          "output_type": "stream",
          "name": "stdout",
          "text": [
            "  [pm=5,h=10] img 21/115\n"
          ]
        },
        {
          "output_type": "stream",
          "name": "stdout",
          "text": [
            "  [pm=5,h=10] img 31/115\n"
          ]
        },
        {
          "output_type": "stream",
          "name": "stdout",
          "text": [
            "  [pm=5,h=10] img 41/115\n"
          ]
        },
        {
          "output_type": "stream",
          "name": "stdout",
          "text": [
            "  [pm=5,h=10] img 51/115\n"
          ]
        },
        {
          "output_type": "stream",
          "name": "stdout",
          "text": [
            "  [pm=5,h=10] img 61/115\n"
          ]
        },
        {
          "output_type": "stream",
          "name": "stdout",
          "text": [
            "  [pm=5,h=10] img 71/115\n"
          ]
        },
        {
          "output_type": "stream",
          "name": "stdout",
          "text": [
            "  [pm=5,h=10] img 81/115\n"
          ]
        },
        {
          "output_type": "stream",
          "name": "stdout",
          "text": [
            "  [pm=5,h=10] img 91/115\n"
          ]
        },
        {
          "output_type": "stream",
          "name": "stdout",
          "text": [
            "  [pm=5,h=10] img 101/115\n"
          ]
        },
        {
          "output_type": "stream",
          "name": "stdout",
          "text": [
            "  [pm=5,h=10] img 111/115\n"
          ]
        },
        {
          "output_type": "stream",
          "name": "stdout",
          "text": [
            "  -> mean RMSE=0.224329, median=0.225636, time=17.1s\nCombo 11: ksize=31, pre_median=5, h=12\n  [pm=5,h=12] img 1/115\n"
          ]
        },
        {
          "output_type": "stream",
          "name": "stdout",
          "text": [
            "  [pm=5,h=12] img 11/115\n"
          ]
        },
        {
          "output_type": "stream",
          "name": "stdout",
          "text": [
            "  [pm=5,h=12] img 21/115\n"
          ]
        },
        {
          "output_type": "stream",
          "name": "stdout",
          "text": [
            "  [pm=5,h=12] img 31/115\n"
          ]
        },
        {
          "output_type": "stream",
          "name": "stdout",
          "text": [
            "  [pm=5,h=12] img 41/115\n"
          ]
        },
        {
          "output_type": "stream",
          "name": "stdout",
          "text": [
            "  [pm=5,h=12] img 51/115\n"
          ]
        },
        {
          "output_type": "stream",
          "name": "stdout",
          "text": [
            "  [pm=5,h=12] img 61/115\n"
          ]
        },
        {
          "output_type": "stream",
          "name": "stdout",
          "text": [
            "  [pm=5,h=12] img 71/115\n"
          ]
        },
        {
          "output_type": "stream",
          "name": "stdout",
          "text": [
            "  [pm=5,h=12] img 81/115\n"
          ]
        },
        {
          "output_type": "stream",
          "name": "stdout",
          "text": [
            "  [pm=5,h=12] img 91/115\n"
          ]
        },
        {
          "output_type": "stream",
          "name": "stdout",
          "text": [
            "  [pm=5,h=12] img 101/115\n"
          ]
        },
        {
          "output_type": "stream",
          "name": "stdout",
          "text": [
            "  [pm=5,h=12] img 111/115\n"
          ]
        },
        {
          "output_type": "stream",
          "name": "stdout",
          "text": [
            "  -> mean RMSE=0.225367, median=0.226962, time=17.1s\nCombo 12: ksize=31, pre_median=5, h=14\n  [pm=5,h=14] img 1/115\n"
          ]
        },
        {
          "output_type": "stream",
          "name": "stdout",
          "text": [
            "  [pm=5,h=14] img 11/115\n"
          ]
        },
        {
          "output_type": "stream",
          "name": "stdout",
          "text": [
            "  [pm=5,h=14] img 21/115\n"
          ]
        },
        {
          "output_type": "stream",
          "name": "stdout",
          "text": [
            "  [pm=5,h=14] img 31/115\n"
          ]
        },
        {
          "output_type": "stream",
          "name": "stdout",
          "text": [
            "  [pm=5,h=14] img 41/115\n"
          ]
        },
        {
          "output_type": "stream",
          "name": "stdout",
          "text": [
            "  [pm=5,h=14] img 51/115\n"
          ]
        },
        {
          "output_type": "stream",
          "name": "stdout",
          "text": [
            "  [pm=5,h=14] img 61/115\n"
          ]
        },
        {
          "output_type": "stream",
          "name": "stdout",
          "text": [
            "  [pm=5,h=14] img 71/115\n"
          ]
        },
        {
          "output_type": "stream",
          "name": "stdout",
          "text": [
            "  [pm=5,h=14] img 81/115\n"
          ]
        },
        {
          "output_type": "stream",
          "name": "stdout",
          "text": [
            "  [pm=5,h=14] img 91/115\n"
          ]
        },
        {
          "output_type": "stream",
          "name": "stdout",
          "text": [
            "  [pm=5,h=14] img 101/115\n"
          ]
        },
        {
          "output_type": "stream",
          "name": "stdout",
          "text": [
            "  [pm=5,h=14] img 111/115\n"
          ]
        },
        {
          "output_type": "stream",
          "name": "stdout",
          "text": [
            "  -> mean RMSE=0.226652, median=0.228232, time=17.2s\nTotal finetune time: 206.9s\nTop results by mean RMSE:\n  ksize=31, pre_median=0, h=14: mean=0.049552, median=0.047715\n  ksize=31, pre_median=0, h=12: mean=0.049641, median=0.047782\n  ksize=31, pre_median=0, h=10: mean=0.049855, median=0.047893\n  ksize=31, pre_median=0, h=8: mean=0.050129, median=0.048123\n  ksize=31, pre_median=3, h=8: mean=0.133535, median=0.139101\nSelected best tuned params -> ksize: 31 pre_median: 0 h: 14 mean: 0.04955162887016068\n"
          ]
        }
      ]
    },
    {
      "id": "8818c933-3d48-440f-ae75-29dbe51e979a",
      "cell_type": "code",
      "metadata": {},
      "source": [
        "# Generate submission using best tuned divide+NLM params\n",
        "print('Best tuned params:', 'ksize=', best_ks, 'pre_median=', best_pm, 'h=', best_h)\n",
        "generate_submission_div_nlm_tuned(int(best_ks), int(best_pm), int(best_h), out_path='submission.csv')"
      ],
      "execution_count": 9,
      "outputs": [
        {
          "output_type": "stream",
          "name": "stdout",
          "text": [
            "Best tuned params: ksize= 31 pre_median= 0 h= 14\nGenerating submission with ksize=31, pre_median=0, h=14 -> submission.csv\n"
          ]
        },
        {
          "output_type": "stream",
          "name": "stdout",
          "text": [
            "Found 29 unique test image ids.\n[1/29] Processing test/110.png ...\n"
          ]
        },
        {
          "output_type": "stream",
          "name": "stdout",
          "text": [
            "[2/29] Processing test/111.png ...\n"
          ]
        },
        {
          "output_type": "stream",
          "name": "stdout",
          "text": [
            "[3/29] Processing test/122.png ...\n"
          ]
        },
        {
          "output_type": "stream",
          "name": "stdout",
          "text": [
            "[4/29] Processing test/131.png ...\n"
          ]
        },
        {
          "output_type": "stream",
          "name": "stdout",
          "text": [
            "[5/29] Processing test/134.png ...\n"
          ]
        },
        {
          "output_type": "stream",
          "name": "stdout",
          "text": [
            "[6/29] Processing test/137.png ...\n"
          ]
        },
        {
          "output_type": "stream",
          "name": "stdout",
          "text": [
            "[7/29] Processing test/146.png ...\n"
          ]
        },
        {
          "output_type": "stream",
          "name": "stdout",
          "text": [
            "[8/29] Processing test/150.png ...\n"
          ]
        },
        {
          "output_type": "stream",
          "name": "stdout",
          "text": [
            "[9/29] Processing test/155.png ...\n"
          ]
        },
        {
          "output_type": "stream",
          "name": "stdout",
          "text": [
            "[10/29] Processing test/159.png ...\n"
          ]
        },
        {
          "output_type": "stream",
          "name": "stdout",
          "text": [
            "[11/29] Processing test/162.png ...\n"
          ]
        },
        {
          "output_type": "stream",
          "name": "stdout",
          "text": [
            "[12/29] Processing test/170.png ...\n"
          ]
        },
        {
          "output_type": "stream",
          "name": "stdout",
          "text": [
            "[13/29] Processing test/174.png ...\n"
          ]
        },
        {
          "output_type": "stream",
          "name": "stdout",
          "text": [
            "[14/29] Processing test/180.png ...\n"
          ]
        },
        {
          "output_type": "stream",
          "name": "stdout",
          "text": [
            "[15/29] Processing test/186.png ...\n"
          ]
        },
        {
          "output_type": "stream",
          "name": "stdout",
          "text": [
            "[16/29] Processing test/216.png ...\n"
          ]
        },
        {
          "output_type": "stream",
          "name": "stdout",
          "text": [
            "[17/29] Processing test/26.png ...\n"
          ]
        },
        {
          "output_type": "stream",
          "name": "stdout",
          "text": [
            "[18/29] Processing test/35.png ...\n"
          ]
        },
        {
          "output_type": "stream",
          "name": "stdout",
          "text": [
            "[19/29] Processing test/36.png ...\n"
          ]
        },
        {
          "output_type": "stream",
          "name": "stdout",
          "text": [
            "[20/29] Processing test/42.png ...\n"
          ]
        },
        {
          "output_type": "stream",
          "name": "stdout",
          "text": [
            "[21/29] Processing test/54.png ...\n"
          ]
        },
        {
          "output_type": "stream",
          "name": "stdout",
          "text": [
            "[22/29] Processing test/6.png ...\n"
          ]
        },
        {
          "output_type": "stream",
          "name": "stdout",
          "text": [
            "[23/29] Processing test/62.png ...\n"
          ]
        },
        {
          "output_type": "stream",
          "name": "stdout",
          "text": [
            "[24/29] Processing test/68.png ...\n"
          ]
        },
        {
          "output_type": "stream",
          "name": "stdout",
          "text": [
            "[25/29] Processing test/77.png ...\n"
          ]
        },
        {
          "output_type": "stream",
          "name": "stdout",
          "text": [
            "[26/29] Processing test/78.png ...\n"
          ]
        },
        {
          "output_type": "stream",
          "name": "stdout",
          "text": [
            "[27/29] Processing test/8.png ...\n"
          ]
        },
        {
          "output_type": "stream",
          "name": "stdout",
          "text": [
            "[28/29] Processing test/80.png ...\n"
          ]
        },
        {
          "output_type": "stream",
          "name": "stdout",
          "text": [
            "[29/29] Processing test/95.png ...\n"
          ]
        },
        {
          "output_type": "stream",
          "name": "stdout",
          "text": [
            "Writing predictions to CSV in sample order (rounded to 4 decimals)...\n"
          ]
        },
        {
          "output_type": "stream",
          "name": "stdout",
          "text": [
            "Wrote: submission.csv\n"
          ]
        }
      ]
    },
    {
      "id": "2efe908d-a4e1-4955-89a0-8c2444cff3e7",
      "cell_type": "code",
      "metadata": {},
      "source": [
        "# Extended tuning: NLM template/search sizes and tiny post-blur to push <0.045\n",
        "import itertools\n",
        "\n",
        "def pipeline_div_nlm_ext(img_u8: np.ndarray, ksize_bg: int = 31, h: int = 14, tmpl: int = 7, srch: int = 21, post_gauss: int = 0) -> np.ndarray:\n",
        "    bg = estimate_background_median(img_u8, ksize=ksize_bg)\n",
        "    norm = normalize_divide(img_u8, bg)\n",
        "    den = cv2.fastNlMeansDenoising(norm, None, h=h, templateWindowSize=tmpl, searchWindowSize=srch)\n",
        "    if post_gauss and post_gauss > 1:\n",
        "        k = post_gauss if post_gauss % 2 == 1 else post_gauss + 1\n",
        "        den = cv2.GaussianBlur(den, (k, k), 0)\n",
        "    return den\n",
        "\n",
        "def eval_div_nlm_ext_on_train(ksize_bg: int, h_list, tmpl_list, srch_list, post_gauss_list):\n",
        "    results = []\n",
        "    t0_all = time.time()\n",
        "    combos = list(itertools.product(h_list, tmpl_list, srch_list, post_gauss_list))\n",
        "    for ci, (h, tmpl, srch, pg) in enumerate(combos, start=1):\n",
        "        errs = []\n",
        "        t0 = time.time()\n",
        "        print(f'Combo {ci}/{len(combos)}: h={h}, tmpl={tmpl}, srch={srch}, post_gauss={pg}')\n",
        "        for i, p in enumerate(train_files):\n",
        "            if i % 10 == 0:\n",
        "                print(f'  [h={h},t={tmpl},s={srch},pg={pg}] img {i+1}/{len(train_files)}', flush=True)\n",
        "            img = read_gray_uint8(p)\n",
        "            den = pipeline_div_nlm_ext(img, ksize_bg=ksize_bg, h=h, tmpl=tmpl, srch=srch, post_gauss=pg)\n",
        "            target = read_gray_uint8(TRAIN_CLEAN_DIR / p.name)\n",
        "            errs.append(rmse(to_float01(den), to_float01(target)))\n",
        "        mean_rmse = float(np.mean(errs))\n",
        "        med_rmse = float(np.median(errs))\n",
        "        elapsed = time.time() - t0\n",
        "        print(f'  -> mean RMSE={mean_rmse:.6f}, median={med_rmse:.6f}, time={elapsed:.1f}s')\n",
        "        results.append((h, tmpl, srch, pg, mean_rmse, med_rmse, elapsed))\n",
        "    print(f'Total ext grid time: {time.time()-t0_all:.1f}s')\n",
        "    results.sort(key=lambda x: x[4])\n",
        "    print('Top results by mean RMSE:')\n",
        "    for h, tmpl, srch, pg, m, md, _ in results[:5]:\n",
        "        print(f'  h={h}, tmpl={tmpl}, srch={srch}, post_gauss={pg}: mean={m:.6f}, median={md:.6f}')\n",
        "    return results\n",
        "\n",
        "# Run extended grid around best background ksize 31\n",
        "h_list_ext = [12, 14, 16, 18]\n",
        "tmpl_list_ext = [5, 7]\n",
        "srch_list_ext = [21, 31]\n",
        "post_gauss_list = [0, 3]\n",
        "results_ext = eval_div_nlm_ext_on_train(ksize_bg=31, h_list=h_list_ext, tmpl_list=tmpl_list_ext, srch_list=srch_list_ext, post_gauss_list=post_gauss_list)\n",
        "best_h, best_t, best_s, best_pg, best_mean_ext, best_med_ext, _ = results_ext[0]\n",
        "print('Best ext params -> h:', best_h, 'tmpl:', best_t, 'srch:', best_s, 'post_gauss:', best_pg, 'mean:', best_mean_ext)\n",
        "\n",
        "def generate_submission_div_nlm_ext(best_h: int, best_t: int, best_s: int, best_pg: int, out_path: str = 'submission.csv'):\n",
        "    print(f'Generating submission (divide+NLM ext) with h={best_h}, tmpl={best_t}, srch={best_s}, post_gauss={best_pg} -> {out_path}')\n",
        "    # Ordered unique image ids from sample\n",
        "    sample_iter = pd.read_csv(SAMPLE_SUB_PATH, chunksize=200000)\n",
        "    ordered_image_ids = []\n",
        "    seen = set()\n",
        "    for chunk in sample_iter:\n",
        "        for s in chunk['id'].astype(str).values:\n",
        "            img_id, r, c = parse_id_triplet(s)\n",
        "            if img_id not in seen:\n",
        "                seen.add(img_id)\n",
        "                ordered_image_ids.append(img_id)\n",
        "    print(f'Found {len(ordered_image_ids)} unique test image ids.')\n",
        "    cache = {}\n",
        "    for idx, img_id in enumerate(ordered_image_ids):\n",
        "        img_path = TEST_DIR / f'{img_id}.png'\n",
        "        print(f'[{idx+1}/{len(ordered_image_ids)}] Processing {img_path} ...', flush=True)\n",
        "        img_u8 = read_gray_uint8(img_path)\n",
        "        den_u8 = pipeline_div_nlm_ext(img_u8, ksize_bg=31, h=best_h, tmpl=best_t, srch=best_s, post_gauss=best_pg)\n",
        "        cache[img_id] = to_float01(den_u8)\n",
        "    import csv\n",
        "    print('Writing predictions to CSV in sample order (rounded to 4 decimals)...')\n",
        "    with open(out_path, 'w', newline='') as f_out:\n",
        "        writer = csv.writer(f_out)\n",
        "        writer.writerow(['id', 'value'])\n",
        "        for chunk in pd.read_csv(SAMPLE_SUB_PATH, chunksize=200000):\n",
        "            rows = []\n",
        "            for s in chunk['id'].astype(str).values:\n",
        "                img_id, r, c = parse_id_triplet(s)\n",
        "                val = float(np.clip(cache[img_id][r-1, c-1], 0.0, 1.0))\n",
        "                rows.append((s, f'{val:.4f}'))\n",
        "            writer.writerows(rows)\n",
        "    print(f'Wrote: {out_path}')"
      ],
      "execution_count": 10,
      "outputs": [
        {
          "output_type": "stream",
          "name": "stdout",
          "text": [
            "Combo 1/32: h=12, tmpl=5, srch=21, post_gauss=0\n  [h=12,t=5,s=21,pg=0] img 1/115\n"
          ]
        },
        {
          "output_type": "stream",
          "name": "stdout",
          "text": [
            "  [h=12,t=5,s=21,pg=0] img 11/115\n"
          ]
        },
        {
          "output_type": "stream",
          "name": "stdout",
          "text": [
            "  [h=12,t=5,s=21,pg=0] img 21/115\n"
          ]
        },
        {
          "output_type": "stream",
          "name": "stdout",
          "text": [
            "  [h=12,t=5,s=21,pg=0] img 31/115\n"
          ]
        },
        {
          "output_type": "stream",
          "name": "stdout",
          "text": [
            "  [h=12,t=5,s=21,pg=0] img 41/115\n"
          ]
        },
        {
          "output_type": "stream",
          "name": "stdout",
          "text": [
            "  [h=12,t=5,s=21,pg=0] img 51/115\n"
          ]
        },
        {
          "output_type": "stream",
          "name": "stdout",
          "text": [
            "  [h=12,t=5,s=21,pg=0] img 61/115\n"
          ]
        },
        {
          "output_type": "stream",
          "name": "stdout",
          "text": [
            "  [h=12,t=5,s=21,pg=0] img 71/115\n"
          ]
        },
        {
          "output_type": "stream",
          "name": "stdout",
          "text": [
            "  [h=12,t=5,s=21,pg=0] img 81/115\n"
          ]
        },
        {
          "output_type": "stream",
          "name": "stdout",
          "text": [
            "  [h=12,t=5,s=21,pg=0] img 91/115\n"
          ]
        },
        {
          "output_type": "stream",
          "name": "stdout",
          "text": [
            "  [h=12,t=5,s=21,pg=0] img 101/115\n"
          ]
        },
        {
          "output_type": "stream",
          "name": "stdout",
          "text": [
            "  [h=12,t=5,s=21,pg=0] img 111/115\n"
          ]
        },
        {
          "output_type": "stream",
          "name": "stdout",
          "text": [
            "  -> mean RMSE=0.049335, median=0.047669, time=17.1s\nCombo 2/32: h=12, tmpl=5, srch=21, post_gauss=3\n  [h=12,t=5,s=21,pg=3] img 1/115\n"
          ]
        },
        {
          "output_type": "stream",
          "name": "stdout",
          "text": [
            "  [h=12,t=5,s=21,pg=3] img 11/115\n"
          ]
        },
        {
          "output_type": "stream",
          "name": "stdout",
          "text": [
            "  [h=12,t=5,s=21,pg=3] img 21/115\n"
          ]
        },
        {
          "output_type": "stream",
          "name": "stdout",
          "text": [
            "  [h=12,t=5,s=21,pg=3] img 31/115\n"
          ]
        },
        {
          "output_type": "stream",
          "name": "stdout",
          "text": [
            "  [h=12,t=5,s=21,pg=3] img 41/115\n"
          ]
        },
        {
          "output_type": "stream",
          "name": "stdout",
          "text": [
            "  [h=12,t=5,s=21,pg=3] img 51/115\n"
          ]
        },
        {
          "output_type": "stream",
          "name": "stdout",
          "text": [
            "  [h=12,t=5,s=21,pg=3] img 61/115\n"
          ]
        },
        {
          "output_type": "stream",
          "name": "stdout",
          "text": [
            "  [h=12,t=5,s=21,pg=3] img 71/115\n"
          ]
        },
        {
          "output_type": "stream",
          "name": "stdout",
          "text": [
            "  [h=12,t=5,s=21,pg=3] img 81/115\n"
          ]
        },
        {
          "output_type": "stream",
          "name": "stdout",
          "text": [
            "  [h=12,t=5,s=21,pg=3] img 91/115\n"
          ]
        },
        {
          "output_type": "stream",
          "name": "stdout",
          "text": [
            "  [h=12,t=5,s=21,pg=3] img 101/115\n"
          ]
        },
        {
          "output_type": "stream",
          "name": "stdout",
          "text": [
            "  [h=12,t=5,s=21,pg=3] img 111/115\n"
          ]
        },
        {
          "output_type": "stream",
          "name": "stdout",
          "text": [
            "  -> mean RMSE=0.122638, median=0.124435, time=17.2s\nCombo 3/32: h=12, tmpl=5, srch=31, post_gauss=0\n  [h=12,t=5,s=31,pg=0] img 1/115\n"
          ]
        },
        {
          "output_type": "stream",
          "name": "stdout",
          "text": [
            "  [h=12,t=5,s=31,pg=0] img 11/115\n"
          ]
        },
        {
          "output_type": "stream",
          "name": "stdout",
          "text": [
            "  [h=12,t=5,s=31,pg=0] img 21/115\n"
          ]
        },
        {
          "output_type": "stream",
          "name": "stdout",
          "text": [
            "  [h=12,t=5,s=31,pg=0] img 31/115\n"
          ]
        },
        {
          "output_type": "stream",
          "name": "stdout",
          "text": [
            "  [h=12,t=5,s=31,pg=0] img 41/115\n"
          ]
        },
        {
          "output_type": "stream",
          "name": "stdout",
          "text": [
            "  [h=12,t=5,s=31,pg=0] img 51/115\n"
          ]
        },
        {
          "output_type": "stream",
          "name": "stdout",
          "text": [
            "  [h=12,t=5,s=31,pg=0] img 61/115\n"
          ]
        },
        {
          "output_type": "stream",
          "name": "stdout",
          "text": [
            "  [h=12,t=5,s=31,pg=0] img 71/115\n"
          ]
        },
        {
          "output_type": "stream",
          "name": "stdout",
          "text": [
            "  [h=12,t=5,s=31,pg=0] img 81/115\n"
          ]
        },
        {
          "output_type": "stream",
          "name": "stdout",
          "text": [
            "  [h=12,t=5,s=31,pg=0] img 91/115\n"
          ]
        },
        {
          "output_type": "stream",
          "name": "stdout",
          "text": [
            "  [h=12,t=5,s=31,pg=0] img 101/115\n"
          ]
        },
        {
          "output_type": "stream",
          "name": "stdout",
          "text": [
            "  [h=12,t=5,s=31,pg=0] img 111/115\n"
          ]
        },
        {
          "output_type": "stream",
          "name": "stdout",
          "text": [
            "  -> mean RMSE=0.049095, median=0.047580, time=38.1s\nCombo 4/32: h=12, tmpl=5, srch=31, post_gauss=3\n  [h=12,t=5,s=31,pg=3] img 1/115\n"
          ]
        },
        {
          "output_type": "stream",
          "name": "stdout",
          "text": [
            "  [h=12,t=5,s=31,pg=3] img 11/115\n"
          ]
        },
        {
          "output_type": "stream",
          "name": "stdout",
          "text": [
            "  [h=12,t=5,s=31,pg=3] img 21/115\n"
          ]
        },
        {
          "output_type": "stream",
          "name": "stdout",
          "text": [
            "  [h=12,t=5,s=31,pg=3] img 31/115\n"
          ]
        },
        {
          "output_type": "stream",
          "name": "stdout",
          "text": [
            "  [h=12,t=5,s=31,pg=3] img 41/115\n"
          ]
        },
        {
          "output_type": "stream",
          "name": "stdout",
          "text": [
            "  [h=12,t=5,s=31,pg=3] img 51/115\n"
          ]
        },
        {
          "output_type": "stream",
          "name": "stdout",
          "text": [
            "  [h=12,t=5,s=31,pg=3] img 61/115\n"
          ]
        },
        {
          "output_type": "stream",
          "name": "stdout",
          "text": [
            "  [h=12,t=5,s=31,pg=3] img 71/115\n"
          ]
        },
        {
          "output_type": "stream",
          "name": "stdout",
          "text": [
            "  [h=12,t=5,s=31,pg=3] img 81/115\n"
          ]
        },
        {
          "output_type": "stream",
          "name": "stdout",
          "text": [
            "  [h=12,t=5,s=31,pg=3] img 91/115\n"
          ]
        },
        {
          "output_type": "stream",
          "name": "stdout",
          "text": [
            "  [h=12,t=5,s=31,pg=3] img 101/115\n"
          ]
        },
        {
          "output_type": "stream",
          "name": "stdout",
          "text": [
            "  [h=12,t=5,s=31,pg=3] img 111/115\n"
          ]
        },
        {
          "output_type": "stream",
          "name": "stdout",
          "text": [
            "  -> mean RMSE=0.122551, median=0.124406, time=38.2s\nCombo 5/32: h=12, tmpl=7, srch=21, post_gauss=0\n  [h=12,t=7,s=21,pg=0] img 1/115\n"
          ]
        },
        {
          "output_type": "stream",
          "name": "stdout",
          "text": [
            "  [h=12,t=7,s=21,pg=0] img 11/115\n"
          ]
        },
        {
          "output_type": "stream",
          "name": "stdout",
          "text": [
            "  [h=12,t=7,s=21,pg=0] img 21/115\n"
          ]
        },
        {
          "output_type": "stream",
          "name": "stdout",
          "text": [
            "  [h=12,t=7,s=21,pg=0] img 31/115\n"
          ]
        },
        {
          "output_type": "stream",
          "name": "stdout",
          "text": [
            "  [h=12,t=7,s=21,pg=0] img 41/115\n"
          ]
        },
        {
          "output_type": "stream",
          "name": "stdout",
          "text": [
            "  [h=12,t=7,s=21,pg=0] img 51/115\n"
          ]
        },
        {
          "output_type": "stream",
          "name": "stdout",
          "text": [
            "  [h=12,t=7,s=21,pg=0] img 61/115\n"
          ]
        },
        {
          "output_type": "stream",
          "name": "stdout",
          "text": [
            "  [h=12,t=7,s=21,pg=0] img 71/115\n"
          ]
        },
        {
          "output_type": "stream",
          "name": "stdout",
          "text": [
            "  [h=12,t=7,s=21,pg=0] img 81/115\n"
          ]
        },
        {
          "output_type": "stream",
          "name": "stdout",
          "text": [
            "  [h=12,t=7,s=21,pg=0] img 91/115\n"
          ]
        },
        {
          "output_type": "stream",
          "name": "stdout",
          "text": [
            "  [h=12,t=7,s=21,pg=0] img 101/115\n"
          ]
        },
        {
          "output_type": "stream",
          "name": "stdout",
          "text": [
            "  [h=12,t=7,s=21,pg=0] img 111/115\n"
          ]
        },
        {
          "output_type": "stream",
          "name": "stdout",
          "text": [
            "  -> mean RMSE=0.049641, median=0.047782, time=17.5s\nCombo 6/32: h=12, tmpl=7, srch=21, post_gauss=3\n  [h=12,t=7,s=21,pg=3] img 1/115\n"
          ]
        },
        {
          "output_type": "stream",
          "name": "stdout",
          "text": [
            "  [h=12,t=7,s=21,pg=3] img 11/115\n"
          ]
        },
        {
          "output_type": "stream",
          "name": "stdout",
          "text": [
            "  [h=12,t=7,s=21,pg=3] img 21/115\n"
          ]
        },
        {
          "output_type": "stream",
          "name": "stdout",
          "text": [
            "  [h=12,t=7,s=21,pg=3] img 31/115\n"
          ]
        },
        {
          "output_type": "stream",
          "name": "stdout",
          "text": [
            "  [h=12,t=7,s=21,pg=3] img 41/115\n"
          ]
        },
        {
          "output_type": "stream",
          "name": "stdout",
          "text": [
            "  [h=12,t=7,s=21,pg=3] img 51/115\n"
          ]
        },
        {
          "output_type": "stream",
          "name": "stdout",
          "text": [
            "  [h=12,t=7,s=21,pg=3] img 61/115\n"
          ]
        },
        {
          "output_type": "stream",
          "name": "stdout",
          "text": [
            "  [h=12,t=7,s=21,pg=3] img 71/115\n"
          ]
        },
        {
          "output_type": "stream",
          "name": "stdout",
          "text": [
            "  [h=12,t=7,s=21,pg=3] img 81/115\n"
          ]
        },
        {
          "output_type": "stream",
          "name": "stdout",
          "text": [
            "  [h=12,t=7,s=21,pg=3] img 91/115\n"
          ]
        },
        {
          "output_type": "stream",
          "name": "stdout",
          "text": [
            "  [h=12,t=7,s=21,pg=3] img 101/115\n"
          ]
        },
        {
          "output_type": "stream",
          "name": "stdout",
          "text": [
            "  [h=12,t=7,s=21,pg=3] img 111/115\n"
          ]
        },
        {
          "output_type": "stream",
          "name": "stdout",
          "text": [
            "  -> mean RMSE=0.122704, median=0.124507, time=17.5s\nCombo 7/32: h=12, tmpl=7, srch=31, post_gauss=0\n  [h=12,t=7,s=31,pg=0] img 1/115\n"
          ]
        },
        {
          "output_type": "stream",
          "name": "stdout",
          "text": [
            "  [h=12,t=7,s=31,pg=0] img 11/115\n"
          ]
        },
        {
          "output_type": "stream",
          "name": "stdout",
          "text": [
            "  [h=12,t=7,s=31,pg=0] img 21/115\n"
          ]
        },
        {
          "output_type": "stream",
          "name": "stdout",
          "text": [
            "  [h=12,t=7,s=31,pg=0] img 31/115\n"
          ]
        },
        {
          "output_type": "stream",
          "name": "stdout",
          "text": [
            "  [h=12,t=7,s=31,pg=0] img 41/115\n"
          ]
        },
        {
          "output_type": "stream",
          "name": "stdout",
          "text": [
            "  [h=12,t=7,s=31,pg=0] img 51/115\n"
          ]
        },
        {
          "output_type": "stream",
          "name": "stdout",
          "text": [
            "  [h=12,t=7,s=31,pg=0] img 61/115\n"
          ]
        },
        {
          "output_type": "stream",
          "name": "stdout",
          "text": [
            "  [h=12,t=7,s=31,pg=0] img 71/115\n"
          ]
        },
        {
          "output_type": "stream",
          "name": "stdout",
          "text": [
            "  [h=12,t=7,s=31,pg=0] img 81/115\n"
          ]
        },
        {
          "output_type": "stream",
          "name": "stdout",
          "text": [
            "  [h=12,t=7,s=31,pg=0] img 91/115\n"
          ]
        },
        {
          "output_type": "stream",
          "name": "stdout",
          "text": [
            "  [h=12,t=7,s=31,pg=0] img 101/115\n"
          ]
        },
        {
          "output_type": "stream",
          "name": "stdout",
          "text": [
            "  [h=12,t=7,s=31,pg=0] img 111/115\n"
          ]
        },
        {
          "output_type": "stream",
          "name": "stdout",
          "text": [
            "  -> mean RMSE=0.049430, median=0.047663, time=39.4s\nCombo 8/32: h=12, tmpl=7, srch=31, post_gauss=3\n  [h=12,t=7,s=31,pg=3] img 1/115\n"
          ]
        },
        {
          "output_type": "stream",
          "name": "stdout",
          "text": [
            "  [h=12,t=7,s=31,pg=3] img 11/115\n"
          ]
        },
        {
          "output_type": "stream",
          "name": "stdout",
          "text": [
            "  [h=12,t=7,s=31,pg=3] img 21/115\n"
          ]
        },
        {
          "output_type": "stream",
          "name": "stdout",
          "text": [
            "  [h=12,t=7,s=31,pg=3] img 31/115\n"
          ]
        },
        {
          "output_type": "stream",
          "name": "stdout",
          "text": [
            "  [h=12,t=7,s=31,pg=3] img 41/115\n"
          ]
        },
        {
          "output_type": "stream",
          "name": "stdout",
          "text": [
            "  [h=12,t=7,s=31,pg=3] img 51/115\n"
          ]
        },
        {
          "output_type": "stream",
          "name": "stdout",
          "text": [
            "  [h=12,t=7,s=31,pg=3] img 61/115\n"
          ]
        },
        {
          "output_type": "stream",
          "name": "stdout",
          "text": [
            "  [h=12,t=7,s=31,pg=3] img 71/115\n"
          ]
        },
        {
          "output_type": "stream",
          "name": "stdout",
          "text": [
            "  [h=12,t=7,s=31,pg=3] img 81/115\n"
          ]
        },
        {
          "output_type": "stream",
          "name": "stdout",
          "text": [
            "  [h=12,t=7,s=31,pg=3] img 91/115\n"
          ]
        },
        {
          "output_type": "stream",
          "name": "stdout",
          "text": [
            "  [h=12,t=7,s=31,pg=3] img 101/115\n"
          ]
        },
        {
          "output_type": "stream",
          "name": "stdout",
          "text": [
            "  [h=12,t=7,s=31,pg=3] img 111/115\n"
          ]
        },
        {
          "output_type": "stream",
          "name": "stdout",
          "text": [
            "  -> mean RMSE=0.122624, median=0.124492, time=39.2s\nCombo 9/32: h=14, tmpl=5, srch=21, post_gauss=0\n  [h=14,t=5,s=21,pg=0] img 1/115\n"
          ]
        },
        {
          "output_type": "stream",
          "name": "stdout",
          "text": [
            "  [h=14,t=5,s=21,pg=0] img 11/115\n"
          ]
        },
        {
          "output_type": "stream",
          "name": "stdout",
          "text": [
            "  [h=14,t=5,s=21,pg=0] img 21/115\n"
          ]
        },
        {
          "output_type": "stream",
          "name": "stdout",
          "text": [
            "  [h=14,t=5,s=21,pg=0] img 31/115\n"
          ]
        },
        {
          "output_type": "stream",
          "name": "stdout",
          "text": [
            "  [h=14,t=5,s=21,pg=0] img 41/115\n"
          ]
        },
        {
          "output_type": "stream",
          "name": "stdout",
          "text": [
            "  [h=14,t=5,s=21,pg=0] img 51/115\n"
          ]
        },
        {
          "output_type": "stream",
          "name": "stdout",
          "text": [
            "  [h=14,t=5,s=21,pg=0] img 61/115\n"
          ]
        },
        {
          "output_type": "stream",
          "name": "stdout",
          "text": [
            "  [h=14,t=5,s=21,pg=0] img 71/115\n"
          ]
        },
        {
          "output_type": "stream",
          "name": "stdout",
          "text": [
            "  [h=14,t=5,s=21,pg=0] img 81/115\n"
          ]
        },
        {
          "output_type": "stream",
          "name": "stdout",
          "text": [
            "  [h=14,t=5,s=21,pg=0] img 91/115\n"
          ]
        },
        {
          "output_type": "stream",
          "name": "stdout",
          "text": [
            "  [h=14,t=5,s=21,pg=0] img 101/115\n"
          ]
        },
        {
          "output_type": "stream",
          "name": "stdout",
          "text": [
            "  [h=14,t=5,s=21,pg=0] img 111/115\n"
          ]
        },
        {
          "output_type": "stream",
          "name": "stdout",
          "text": [
            "  -> mean RMSE=0.049215, median=0.047685, time=17.0s\nCombo 10/32: h=14, tmpl=5, srch=21, post_gauss=3\n  [h=14,t=5,s=21,pg=3] img 1/115\n"
          ]
        },
        {
          "output_type": "stream",
          "name": "stdout",
          "text": [
            "  [h=14,t=5,s=21,pg=3] img 11/115\n"
          ]
        },
        {
          "output_type": "stream",
          "name": "stdout",
          "text": [
            "  [h=14,t=5,s=21,pg=3] img 21/115\n"
          ]
        },
        {
          "output_type": "stream",
          "name": "stdout",
          "text": [
            "  [h=14,t=5,s=21,pg=3] img 31/115\n"
          ]
        },
        {
          "output_type": "stream",
          "name": "stdout",
          "text": [
            "  [h=14,t=5,s=21,pg=3] img 41/115\n"
          ]
        },
        {
          "output_type": "stream",
          "name": "stdout",
          "text": [
            "  [h=14,t=5,s=21,pg=3] img 51/115\n"
          ]
        },
        {
          "output_type": "stream",
          "name": "stdout",
          "text": [
            "  [h=14,t=5,s=21,pg=3] img 61/115\n"
          ]
        },
        {
          "output_type": "stream",
          "name": "stdout",
          "text": [
            "  [h=14,t=5,s=21,pg=3] img 71/115\n"
          ]
        },
        {
          "output_type": "stream",
          "name": "stdout",
          "text": [
            "  [h=14,t=5,s=21,pg=3] img 81/115\n"
          ]
        },
        {
          "output_type": "stream",
          "name": "stdout",
          "text": [
            "  [h=14,t=5,s=21,pg=3] img 91/115\n"
          ]
        },
        {
          "output_type": "stream",
          "name": "stdout",
          "text": [
            "  [h=14,t=5,s=21,pg=3] img 101/115\n"
          ]
        },
        {
          "output_type": "stream",
          "name": "stdout",
          "text": [
            "  [h=14,t=5,s=21,pg=3] img 111/115\n"
          ]
        },
        {
          "output_type": "stream",
          "name": "stdout",
          "text": [
            "  -> mean RMSE=0.122600, median=0.124550, time=17.1s\nCombo 11/32: h=14, tmpl=5, srch=31, post_gauss=0\n  [h=14,t=5,s=31,pg=0] img 1/115\n"
          ]
        },
        {
          "output_type": "stream",
          "name": "stdout",
          "text": [
            "  [h=14,t=5,s=31,pg=0] img 11/115\n"
          ]
        },
        {
          "output_type": "stream",
          "name": "stdout",
          "text": [
            "  [h=14,t=5,s=31,pg=0] img 21/115\n"
          ]
        },
        {
          "output_type": "stream",
          "name": "stdout",
          "text": [
            "  [h=14,t=5,s=31,pg=0] img 31/115\n"
          ]
        },
        {
          "output_type": "stream",
          "name": "stdout",
          "text": [
            "  [h=14,t=5,s=31,pg=0] img 41/115\n"
          ]
        },
        {
          "output_type": "stream",
          "name": "stdout",
          "text": [
            "  [h=14,t=5,s=31,pg=0] img 51/115\n"
          ]
        },
        {
          "output_type": "stream",
          "name": "stdout",
          "text": [
            "  [h=14,t=5,s=31,pg=0] img 61/115\n"
          ]
        },
        {
          "output_type": "stream",
          "name": "stdout",
          "text": [
            "  [h=14,t=5,s=31,pg=0] img 71/115\n"
          ]
        },
        {
          "output_type": "stream",
          "name": "stdout",
          "text": [
            "  [h=14,t=5,s=31,pg=0] img 81/115\n"
          ]
        },
        {
          "output_type": "stream",
          "name": "stdout",
          "text": [
            "  [h=14,t=5,s=31,pg=0] img 91/115\n"
          ]
        },
        {
          "output_type": "stream",
          "name": "stdout",
          "text": [
            "  [h=14,t=5,s=31,pg=0] img 101/115\n"
          ]
        },
        {
          "output_type": "stream",
          "name": "stdout",
          "text": [
            "  [h=14,t=5,s=31,pg=0] img 111/115\n"
          ]
        },
        {
          "output_type": "stream",
          "name": "stdout",
          "text": [
            "  -> mean RMSE=0.049001, median=0.047883, time=38.1s\nCombo 12/32: h=14, tmpl=5, srch=31, post_gauss=3\n  [h=14,t=5,s=31,pg=3] img 1/115\n"
          ]
        },
        {
          "output_type": "stream",
          "name": "stdout",
          "text": [
            "  [h=14,t=5,s=31,pg=3] img 11/115\n"
          ]
        },
        {
          "output_type": "stream",
          "name": "stdout",
          "text": [
            "  [h=14,t=5,s=31,pg=3] img 21/115\n"
          ]
        },
        {
          "output_type": "stream",
          "name": "stdout",
          "text": [
            "  [h=14,t=5,s=31,pg=3] img 31/115\n"
          ]
        },
        {
          "output_type": "stream",
          "name": "stdout",
          "text": [
            "  [h=14,t=5,s=31,pg=3] img 41/115\n"
          ]
        },
        {
          "output_type": "stream",
          "name": "stdout",
          "text": [
            "  [h=14,t=5,s=31,pg=3] img 51/115\n"
          ]
        },
        {
          "output_type": "stream",
          "name": "stdout",
          "text": [
            "  [h=14,t=5,s=31,pg=3] img 61/115\n"
          ]
        },
        {
          "output_type": "stream",
          "name": "stdout",
          "text": [
            "  [h=14,t=5,s=31,pg=3] img 71/115\n"
          ]
        },
        {
          "output_type": "stream",
          "name": "stdout",
          "text": [
            "  [h=14,t=5,s=31,pg=3] img 81/115\n"
          ]
        },
        {
          "output_type": "stream",
          "name": "stdout",
          "text": [
            "  [h=14,t=5,s=31,pg=3] img 91/115\n"
          ]
        },
        {
          "output_type": "stream",
          "name": "stdout",
          "text": [
            "  [h=14,t=5,s=31,pg=3] img 101/115\n"
          ]
        },
        {
          "output_type": "stream",
          "name": "stdout",
          "text": [
            "  [h=14,t=5,s=31,pg=3] img 111/115\n"
          ]
        },
        {
          "output_type": "stream",
          "name": "stdout",
          "text": [
            "  -> mean RMSE=0.122515, median=0.124530, time=38.3s\nCombo 13/32: h=14, tmpl=7, srch=21, post_gauss=0\n  [h=14,t=7,s=21,pg=0] img 1/115\n"
          ]
        },
        {
          "output_type": "stream",
          "name": "stdout",
          "text": [
            "  [h=14,t=7,s=21,pg=0] img 11/115\n"
          ]
        },
        {
          "output_type": "stream",
          "name": "stdout",
          "text": [
            "  [h=14,t=7,s=21,pg=0] img 21/115\n"
          ]
        },
        {
          "output_type": "stream",
          "name": "stdout",
          "text": [
            "  [h=14,t=7,s=21,pg=0] img 31/115\n"
          ]
        },
        {
          "output_type": "stream",
          "name": "stdout",
          "text": [
            "  [h=14,t=7,s=21,pg=0] img 41/115\n"
          ]
        },
        {
          "output_type": "stream",
          "name": "stdout",
          "text": [
            "  [h=14,t=7,s=21,pg=0] img 51/115\n"
          ]
        },
        {
          "output_type": "stream",
          "name": "stdout",
          "text": [
            "  [h=14,t=7,s=21,pg=0] img 61/115\n"
          ]
        },
        {
          "output_type": "stream",
          "name": "stdout",
          "text": [
            "  [h=14,t=7,s=21,pg=0] img 71/115\n"
          ]
        },
        {
          "output_type": "stream",
          "name": "stdout",
          "text": [
            "  [h=14,t=7,s=21,pg=0] img 81/115\n"
          ]
        },
        {
          "output_type": "stream",
          "name": "stdout",
          "text": [
            "  [h=14,t=7,s=21,pg=0] img 91/115\n"
          ]
        },
        {
          "output_type": "stream",
          "name": "stdout",
          "text": [
            "  [h=14,t=7,s=21,pg=0] img 101/115\n"
          ]
        },
        {
          "output_type": "stream",
          "name": "stdout",
          "text": [
            "  [h=14,t=7,s=21,pg=0] img 111/115\n"
          ]
        },
        {
          "output_type": "stream",
          "name": "stdout",
          "text": [
            "  -> mean RMSE=0.049552, median=0.047715, time=17.4s\nCombo 14/32: h=14, tmpl=7, srch=21, post_gauss=3\n  [h=14,t=7,s=21,pg=3] img 1/115\n"
          ]
        },
        {
          "output_type": "stream",
          "name": "stdout",
          "text": [
            "  [h=14,t=7,s=21,pg=3] img 11/115\n"
          ]
        },
        {
          "output_type": "stream",
          "name": "stdout",
          "text": [
            "  [h=14,t=7,s=21,pg=3] img 21/115\n"
          ]
        },
        {
          "output_type": "stream",
          "name": "stdout",
          "text": [
            "  [h=14,t=7,s=21,pg=3] img 31/115\n"
          ]
        },
        {
          "output_type": "stream",
          "name": "stdout",
          "text": [
            "  [h=14,t=7,s=21,pg=3] img 41/115\n"
          ]
        },
        {
          "output_type": "stream",
          "name": "stdout",
          "text": [
            "  [h=14,t=7,s=21,pg=3] img 51/115\n"
          ]
        },
        {
          "output_type": "stream",
          "name": "stdout",
          "text": [
            "  [h=14,t=7,s=21,pg=3] img 61/115\n"
          ]
        },
        {
          "output_type": "stream",
          "name": "stdout",
          "text": [
            "  [h=14,t=7,s=21,pg=3] img 71/115\n"
          ]
        },
        {
          "output_type": "stream",
          "name": "stdout",
          "text": [
            "  [h=14,t=7,s=21,pg=3] img 81/115\n"
          ]
        },
        {
          "output_type": "stream",
          "name": "stdout",
          "text": [
            "  [h=14,t=7,s=21,pg=3] img 91/115\n"
          ]
        },
        {
          "output_type": "stream",
          "name": "stdout",
          "text": [
            "  [h=14,t=7,s=21,pg=3] img 101/115\n"
          ]
        },
        {
          "output_type": "stream",
          "name": "stdout",
          "text": [
            "  [h=14,t=7,s=21,pg=3] img 111/115\n"
          ]
        },
        {
          "output_type": "stream",
          "name": "stdout",
          "text": [
            "  -> mean RMSE=0.122677, median=0.124705, time=17.4s\nCombo 15/32: h=14, tmpl=7, srch=31, post_gauss=0\n  [h=14,t=7,s=31,pg=0] img 1/115\n"
          ]
        },
        {
          "output_type": "stream",
          "name": "stdout",
          "text": [
            "  [h=14,t=7,s=31,pg=0] img 11/115\n"
          ]
        },
        {
          "output_type": "stream",
          "name": "stdout",
          "text": [
            "  [h=14,t=7,s=31,pg=0] img 21/115\n"
          ]
        },
        {
          "output_type": "stream",
          "name": "stdout",
          "text": [
            "  [h=14,t=7,s=31,pg=0] img 31/115\n"
          ]
        },
        {
          "output_type": "stream",
          "name": "stdout",
          "text": [
            "  [h=14,t=7,s=31,pg=0] img 41/115\n"
          ]
        },
        {
          "output_type": "stream",
          "name": "stdout",
          "text": [
            "  [h=14,t=7,s=31,pg=0] img 51/115\n"
          ]
        },
        {
          "output_type": "stream",
          "name": "stdout",
          "text": [
            "  [h=14,t=7,s=31,pg=0] img 61/115\n"
          ]
        },
        {
          "output_type": "stream",
          "name": "stdout",
          "text": [
            "  [h=14,t=7,s=31,pg=0] img 71/115\n"
          ]
        },
        {
          "output_type": "stream",
          "name": "stdout",
          "text": [
            "  [h=14,t=7,s=31,pg=0] img 81/115\n"
          ]
        },
        {
          "output_type": "stream",
          "name": "stdout",
          "text": [
            "  [h=14,t=7,s=31,pg=0] img 91/115\n"
          ]
        },
        {
          "output_type": "stream",
          "name": "stdout",
          "text": [
            "  [h=14,t=7,s=31,pg=0] img 101/115\n"
          ]
        },
        {
          "output_type": "stream",
          "name": "stdout",
          "text": [
            "  [h=14,t=7,s=31,pg=0] img 111/115\n"
          ]
        },
        {
          "output_type": "stream",
          "name": "stdout",
          "text": [
            "  -> mean RMSE=0.049375, median=0.047580, time=39.0s\nCombo 16/32: h=14, tmpl=7, srch=31, post_gauss=3\n  [h=14,t=7,s=31,pg=3] img 1/115\n"
          ]
        },
        {
          "output_type": "stream",
          "name": "stdout",
          "text": [
            "  [h=14,t=7,s=31,pg=3] img 11/115\n"
          ]
        },
        {
          "output_type": "stream",
          "name": "stdout",
          "text": [
            "  [h=14,t=7,s=31,pg=3] img 21/115\n"
          ]
        },
        {
          "output_type": "stream",
          "name": "stdout",
          "text": [
            "  [h=14,t=7,s=31,pg=3] img 31/115\n"
          ]
        },
        {
          "output_type": "stream",
          "name": "stdout",
          "text": [
            "  [h=14,t=7,s=31,pg=3] img 41/115\n"
          ]
        },
        {
          "output_type": "stream",
          "name": "stdout",
          "text": [
            "  [h=14,t=7,s=31,pg=3] img 51/115\n"
          ]
        },
        {
          "output_type": "stream",
          "name": "stdout",
          "text": [
            "  [h=14,t=7,s=31,pg=3] img 61/115\n"
          ]
        },
        {
          "output_type": "stream",
          "name": "stdout",
          "text": [
            "  [h=14,t=7,s=31,pg=3] img 71/115\n"
          ]
        },
        {
          "output_type": "stream",
          "name": "stdout",
          "text": [
            "  [h=14,t=7,s=31,pg=3] img 81/115\n"
          ]
        },
        {
          "output_type": "stream",
          "name": "stdout",
          "text": [
            "  [h=14,t=7,s=31,pg=3] img 91/115\n"
          ]
        },
        {
          "output_type": "stream",
          "name": "stdout",
          "text": [
            "  [h=14,t=7,s=31,pg=3] img 101/115\n"
          ]
        },
        {
          "output_type": "stream",
          "name": "stdout",
          "text": [
            "  [h=14,t=7,s=31,pg=3] img 111/115\n"
          ]
        },
        {
          "output_type": "stream",
          "name": "stdout",
          "text": [
            "  -> mean RMSE=0.122603, median=0.124604, time=39.2s\nCombo 17/32: h=16, tmpl=5, srch=21, post_gauss=0\n  [h=16,t=5,s=21,pg=0] img 1/115\n"
          ]
        },
        {
          "output_type": "stream",
          "name": "stdout",
          "text": [
            "  [h=16,t=5,s=21,pg=0] img 11/115\n"
          ]
        },
        {
          "output_type": "stream",
          "name": "stdout",
          "text": [
            "  [h=16,t=5,s=21,pg=0] img 21/115\n"
          ]
        },
        {
          "output_type": "stream",
          "name": "stdout",
          "text": [
            "  [h=16,t=5,s=21,pg=0] img 31/115\n"
          ]
        },
        {
          "output_type": "stream",
          "name": "stdout",
          "text": [
            "  [h=16,t=5,s=21,pg=0] img 41/115\n"
          ]
        },
        {
          "output_type": "stream",
          "name": "stdout",
          "text": [
            "  [h=16,t=5,s=21,pg=0] img 51/115\n"
          ]
        },
        {
          "output_type": "stream",
          "name": "stdout",
          "text": [
            "  [h=16,t=5,s=21,pg=0] img 61/115\n"
          ]
        },
        {
          "output_type": "stream",
          "name": "stdout",
          "text": [
            "  [h=16,t=5,s=21,pg=0] img 71/115\n"
          ]
        },
        {
          "output_type": "stream",
          "name": "stdout",
          "text": [
            "  [h=16,t=5,s=21,pg=0] img 81/115\n"
          ]
        },
        {
          "output_type": "stream",
          "name": "stdout",
          "text": [
            "  [h=16,t=5,s=21,pg=0] img 91/115\n"
          ]
        },
        {
          "output_type": "stream",
          "name": "stdout",
          "text": [
            "  [h=16,t=5,s=21,pg=0] img 101/115\n"
          ]
        },
        {
          "output_type": "stream",
          "name": "stdout",
          "text": [
            "  [h=16,t=5,s=21,pg=0] img 111/115\n"
          ]
        },
        {
          "output_type": "stream",
          "name": "stdout",
          "text": [
            "  -> mean RMSE=0.049264, median=0.047894, time=16.9s\nCombo 18/32: h=16, tmpl=5, srch=21, post_gauss=3\n  [h=16,t=5,s=21,pg=3] img 1/115\n"
          ]
        },
        {
          "output_type": "stream",
          "name": "stdout",
          "text": [
            "  [h=16,t=5,s=21,pg=3] img 11/115\n"
          ]
        },
        {
          "output_type": "stream",
          "name": "stdout",
          "text": [
            "  [h=16,t=5,s=21,pg=3] img 21/115\n"
          ]
        },
        {
          "output_type": "stream",
          "name": "stdout",
          "text": [
            "  [h=16,t=5,s=21,pg=3] img 31/115\n"
          ]
        },
        {
          "output_type": "stream",
          "name": "stdout",
          "text": [
            "  [h=16,t=5,s=21,pg=3] img 41/115\n"
          ]
        },
        {
          "output_type": "stream",
          "name": "stdout",
          "text": [
            "  [h=16,t=5,s=21,pg=3] img 51/115\n"
          ]
        },
        {
          "output_type": "stream",
          "name": "stdout",
          "text": [
            "  [h=16,t=5,s=21,pg=3] img 61/115\n"
          ]
        },
        {
          "output_type": "stream",
          "name": "stdout",
          "text": [
            "  [h=16,t=5,s=21,pg=3] img 71/115\n"
          ]
        },
        {
          "output_type": "stream",
          "name": "stdout",
          "text": [
            "  [h=16,t=5,s=21,pg=3] img 81/115\n"
          ]
        },
        {
          "output_type": "stream",
          "name": "stdout",
          "text": [
            "  [h=16,t=5,s=21,pg=3] img 91/115\n"
          ]
        },
        {
          "output_type": "stream",
          "name": "stdout",
          "text": [
            "  [h=16,t=5,s=21,pg=3] img 101/115\n"
          ]
        },
        {
          "output_type": "stream",
          "name": "stdout",
          "text": [
            "  [h=16,t=5,s=21,pg=3] img 111/115\n"
          ]
        },
        {
          "output_type": "stream",
          "name": "stdout",
          "text": [
            "  -> mean RMSE=0.122616, median=0.124550, time=17.0s\nCombo 19/32: h=16, tmpl=5, srch=31, post_gauss=0\n  [h=16,t=5,s=31,pg=0] img 1/115\n"
          ]
        },
        {
          "output_type": "stream",
          "name": "stdout",
          "text": [
            "  [h=16,t=5,s=31,pg=0] img 11/115\n"
          ]
        },
        {
          "output_type": "stream",
          "name": "stdout",
          "text": [
            "  [h=16,t=5,s=31,pg=0] img 21/115\n"
          ]
        },
        {
          "output_type": "stream",
          "name": "stdout",
          "text": [
            "  [h=16,t=5,s=31,pg=0] img 31/115\n"
          ]
        },
        {
          "output_type": "stream",
          "name": "stdout",
          "text": [
            "  [h=16,t=5,s=31,pg=0] img 41/115\n"
          ]
        },
        {
          "output_type": "stream",
          "name": "stdout",
          "text": [
            "  [h=16,t=5,s=31,pg=0] img 51/115\n"
          ]
        },
        {
          "output_type": "stream",
          "name": "stdout",
          "text": [
            "  [h=16,t=5,s=31,pg=0] img 61/115\n"
          ]
        },
        {
          "output_type": "stream",
          "name": "stdout",
          "text": [
            "  [h=16,t=5,s=31,pg=0] img 71/115\n"
          ]
        },
        {
          "output_type": "stream",
          "name": "stdout",
          "text": [
            "  [h=16,t=5,s=31,pg=0] img 81/115\n"
          ]
        },
        {
          "output_type": "stream",
          "name": "stdout",
          "text": [
            "  [h=16,t=5,s=31,pg=0] img 91/115\n"
          ]
        },
        {
          "output_type": "stream",
          "name": "stdout",
          "text": [
            "  [h=16,t=5,s=31,pg=0] img 101/115\n"
          ]
        },
        {
          "output_type": "stream",
          "name": "stdout",
          "text": [
            "  [h=16,t=5,s=31,pg=0] img 111/115\n"
          ]
        },
        {
          "output_type": "stream",
          "name": "stdout",
          "text": [
            "  -> mean RMSE=0.049137, median=0.048419, time=38.1s\nCombo 20/32: h=16, tmpl=5, srch=31, post_gauss=3\n  [h=16,t=5,s=31,pg=3] img 1/115\n"
          ]
        },
        {
          "output_type": "stream",
          "name": "stdout",
          "text": [
            "  [h=16,t=5,s=31,pg=3] img 11/115\n"
          ]
        },
        {
          "output_type": "stream",
          "name": "stdout",
          "text": [
            "  [h=16,t=5,s=31,pg=3] img 21/115\n"
          ]
        },
        {
          "output_type": "stream",
          "name": "stdout",
          "text": [
            "  [h=16,t=5,s=31,pg=3] img 31/115\n"
          ]
        },
        {
          "output_type": "stream",
          "name": "stdout",
          "text": [
            "  [h=16,t=5,s=31,pg=3] img 41/115\n"
          ]
        },
        {
          "output_type": "stream",
          "name": "stdout",
          "text": [
            "  [h=16,t=5,s=31,pg=3] img 51/115\n"
          ]
        },
        {
          "output_type": "stream",
          "name": "stdout",
          "text": [
            "  [h=16,t=5,s=31,pg=3] img 61/115\n"
          ]
        },
        {
          "output_type": "stream",
          "name": "stdout",
          "text": [
            "  [h=16,t=5,s=31,pg=3] img 71/115\n"
          ]
        },
        {
          "output_type": "stream",
          "name": "stdout",
          "text": [
            "  [h=16,t=5,s=31,pg=3] img 81/115\n"
          ]
        },
        {
          "output_type": "stream",
          "name": "stdout",
          "text": [
            "  [h=16,t=5,s=31,pg=3] img 91/115\n"
          ]
        },
        {
          "output_type": "stream",
          "name": "stdout",
          "text": [
            "  [h=16,t=5,s=31,pg=3] img 101/115\n"
          ]
        },
        {
          "output_type": "stream",
          "name": "stdout",
          "text": [
            "  [h=16,t=5,s=31,pg=3] img 111/115\n"
          ]
        },
        {
          "output_type": "stream",
          "name": "stdout",
          "text": [
            "  -> mean RMSE=0.122555, median=0.124435, time=38.0s\nCombo 21/32: h=16, tmpl=7, srch=21, post_gauss=0\n  [h=16,t=7,s=21,pg=0] img 1/115\n"
          ]
        },
        {
          "output_type": "stream",
          "name": "stdout",
          "text": [
            "  [h=16,t=7,s=21,pg=0] img 11/115\n"
          ]
        },
        {
          "output_type": "stream",
          "name": "stdout",
          "text": [
            "  [h=16,t=7,s=21,pg=0] img 21/115\n"
          ]
        },
        {
          "output_type": "stream",
          "name": "stdout",
          "text": [
            "  [h=16,t=7,s=21,pg=0] img 31/115\n"
          ]
        },
        {
          "output_type": "stream",
          "name": "stdout",
          "text": [
            "  [h=16,t=7,s=21,pg=0] img 41/115\n"
          ]
        },
        {
          "output_type": "stream",
          "name": "stdout",
          "text": [
            "  [h=16,t=7,s=21,pg=0] img 51/115\n"
          ]
        },
        {
          "output_type": "stream",
          "name": "stdout",
          "text": [
            "  [h=16,t=7,s=21,pg=0] img 61/115\n"
          ]
        },
        {
          "output_type": "stream",
          "name": "stdout",
          "text": [
            "  [h=16,t=7,s=21,pg=0] img 71/115\n"
          ]
        },
        {
          "output_type": "stream",
          "name": "stdout",
          "text": [
            "  [h=16,t=7,s=21,pg=0] img 81/115\n"
          ]
        },
        {
          "output_type": "stream",
          "name": "stdout",
          "text": [
            "  [h=16,t=7,s=21,pg=0] img 91/115\n"
          ]
        },
        {
          "output_type": "stream",
          "name": "stdout",
          "text": [
            "  [h=16,t=7,s=21,pg=0] img 101/115\n"
          ]
        },
        {
          "output_type": "stream",
          "name": "stdout",
          "text": [
            "  [h=16,t=7,s=21,pg=0] img 111/115\n"
          ]
        },
        {
          "output_type": "stream",
          "name": "stdout",
          "text": [
            "  -> mean RMSE=0.049698, median=0.047889, time=17.4s\nCombo 22/32: h=16, tmpl=7, srch=21, post_gauss=3\n  [h=16,t=7,s=21,pg=3] img 1/115\n"
          ]
        },
        {
          "output_type": "stream",
          "name": "stdout",
          "text": [
            "  [h=16,t=7,s=21,pg=3] img 11/115\n"
          ]
        },
        {
          "output_type": "stream",
          "name": "stdout",
          "text": [
            "  [h=16,t=7,s=21,pg=3] img 21/115\n"
          ]
        },
        {
          "output_type": "stream",
          "name": "stdout",
          "text": [
            "  [h=16,t=7,s=21,pg=3] img 31/115\n"
          ]
        },
        {
          "output_type": "stream",
          "name": "stdout",
          "text": [
            "  [h=16,t=7,s=21,pg=3] img 41/115\n"
          ]
        },
        {
          "output_type": "stream",
          "name": "stdout",
          "text": [
            "  [h=16,t=7,s=21,pg=3] img 51/115\n"
          ]
        },
        {
          "output_type": "stream",
          "name": "stdout",
          "text": [
            "  [h=16,t=7,s=21,pg=3] img 61/115\n"
          ]
        },
        {
          "output_type": "stream",
          "name": "stdout",
          "text": [
            "  [h=16,t=7,s=21,pg=3] img 71/115\n"
          ]
        },
        {
          "output_type": "stream",
          "name": "stdout",
          "text": [
            "  [h=16,t=7,s=21,pg=3] img 81/115\n"
          ]
        },
        {
          "output_type": "stream",
          "name": "stdout",
          "text": [
            "  [h=16,t=7,s=21,pg=3] img 91/115\n"
          ]
        },
        {
          "output_type": "stream",
          "name": "stdout",
          "text": [
            "  [h=16,t=7,s=21,pg=3] img 101/115\n"
          ]
        },
        {
          "output_type": "stream",
          "name": "stdout",
          "text": [
            "  [h=16,t=7,s=21,pg=3] img 111/115\n"
          ]
        },
        {
          "output_type": "stream",
          "name": "stdout",
          "text": [
            "  -> mean RMSE=0.122727, median=0.124633, time=17.4s\nCombo 23/32: h=16, tmpl=7, srch=31, post_gauss=0\n  [h=16,t=7,s=31,pg=0] img 1/115\n"
          ]
        },
        {
          "output_type": "stream",
          "name": "stdout",
          "text": [
            "  [h=16,t=7,s=31,pg=0] img 11/115\n"
          ]
        },
        {
          "output_type": "stream",
          "name": "stdout",
          "text": [
            "  [h=16,t=7,s=31,pg=0] img 21/115\n"
          ]
        },
        {
          "output_type": "stream",
          "name": "stdout",
          "text": [
            "  [h=16,t=7,s=31,pg=0] img 31/115\n"
          ]
        },
        {
          "output_type": "stream",
          "name": "stdout",
          "text": [
            "  [h=16,t=7,s=31,pg=0] img 41/115\n"
          ]
        },
        {
          "output_type": "stream",
          "name": "stdout",
          "text": [
            "  [h=16,t=7,s=31,pg=0] img 51/115\n"
          ]
        },
        {
          "output_type": "stream",
          "name": "stdout",
          "text": [
            "  [h=16,t=7,s=31,pg=0] img 61/115\n"
          ]
        },
        {
          "output_type": "stream",
          "name": "stdout",
          "text": [
            "  [h=16,t=7,s=31,pg=0] img 71/115\n"
          ]
        },
        {
          "output_type": "stream",
          "name": "stdout",
          "text": [
            "  [h=16,t=7,s=31,pg=0] img 81/115\n"
          ]
        },
        {
          "output_type": "stream",
          "name": "stdout",
          "text": [
            "  [h=16,t=7,s=31,pg=0] img 91/115\n"
          ]
        },
        {
          "output_type": "stream",
          "name": "stdout",
          "text": [
            "  [h=16,t=7,s=31,pg=0] img 101/115\n"
          ]
        },
        {
          "output_type": "stream",
          "name": "stdout",
          "text": [
            "  [h=16,t=7,s=31,pg=0] img 111/115\n"
          ]
        },
        {
          "output_type": "stream",
          "name": "stdout",
          "text": [
            "  -> mean RMSE=0.049638, median=0.048073, time=38.9s\nCombo 24/32: h=16, tmpl=7, srch=31, post_gauss=3\n  [h=16,t=7,s=31,pg=3] img 1/115\n"
          ]
        },
        {
          "output_type": "stream",
          "name": "stdout",
          "text": [
            "  [h=16,t=7,s=31,pg=3] img 11/115\n"
          ]
        },
        {
          "output_type": "stream",
          "name": "stdout",
          "text": [
            "  [h=16,t=7,s=31,pg=3] img 21/115\n"
          ]
        },
        {
          "output_type": "stream",
          "name": "stdout",
          "text": [
            "  [h=16,t=7,s=31,pg=3] img 31/115\n"
          ]
        },
        {
          "output_type": "stream",
          "name": "stdout",
          "text": [
            "  [h=16,t=7,s=31,pg=3] img 41/115\n"
          ]
        },
        {
          "output_type": "stream",
          "name": "stdout",
          "text": [
            "  [h=16,t=7,s=31,pg=3] img 51/115\n"
          ]
        },
        {
          "output_type": "stream",
          "name": "stdout",
          "text": [
            "  [h=16,t=7,s=31,pg=3] img 61/115\n"
          ]
        },
        {
          "output_type": "stream",
          "name": "stdout",
          "text": [
            "  [h=16,t=7,s=31,pg=3] img 71/115\n"
          ]
        },
        {
          "output_type": "stream",
          "name": "stdout",
          "text": [
            "  [h=16,t=7,s=31,pg=3] img 81/115\n"
          ]
        },
        {
          "output_type": "stream",
          "name": "stdout",
          "text": [
            "  [h=16,t=7,s=31,pg=3] img 91/115\n"
          ]
        },
        {
          "output_type": "stream",
          "name": "stdout",
          "text": [
            "  [h=16,t=7,s=31,pg=3] img 101/115\n"
          ]
        },
        {
          "output_type": "stream",
          "name": "stdout",
          "text": [
            "  [h=16,t=7,s=31,pg=3] img 111/115\n"
          ]
        },
        {
          "output_type": "stream",
          "name": "stdout",
          "text": [
            "  -> mean RMSE=0.122681, median=0.124516, time=39.0s\nCombo 25/32: h=18, tmpl=5, srch=21, post_gauss=0\n  [h=18,t=5,s=21,pg=0] img 1/115\n"
          ]
        },
        {
          "output_type": "stream",
          "name": "stdout",
          "text": [
            "  [h=18,t=5,s=21,pg=0] img 11/115\n"
          ]
        },
        {
          "output_type": "stream",
          "name": "stdout",
          "text": [
            "  [h=18,t=5,s=21,pg=0] img 21/115\n"
          ]
        },
        {
          "output_type": "stream",
          "name": "stdout",
          "text": [
            "  [h=18,t=5,s=21,pg=0] img 31/115\n"
          ]
        },
        {
          "output_type": "stream",
          "name": "stdout",
          "text": [
            "  [h=18,t=5,s=21,pg=0] img 41/115\n"
          ]
        },
        {
          "output_type": "stream",
          "name": "stdout",
          "text": [
            "  [h=18,t=5,s=21,pg=0] img 51/115\n"
          ]
        },
        {
          "output_type": "stream",
          "name": "stdout",
          "text": [
            "  [h=18,t=5,s=21,pg=0] img 61/115\n"
          ]
        },
        {
          "output_type": "stream",
          "name": "stdout",
          "text": [
            "  [h=18,t=5,s=21,pg=0] img 71/115\n"
          ]
        },
        {
          "output_type": "stream",
          "name": "stdout",
          "text": [
            "  [h=18,t=5,s=21,pg=0] img 81/115\n"
          ]
        },
        {
          "output_type": "stream",
          "name": "stdout",
          "text": [
            "  [h=18,t=5,s=21,pg=0] img 91/115\n"
          ]
        },
        {
          "output_type": "stream",
          "name": "stdout",
          "text": [
            "  [h=18,t=5,s=21,pg=0] img 101/115\n"
          ]
        },
        {
          "output_type": "stream",
          "name": "stdout",
          "text": [
            "  [h=18,t=5,s=21,pg=0] img 111/115\n"
          ]
        },
        {
          "output_type": "stream",
          "name": "stdout",
          "text": [
            "  -> mean RMSE=0.049579, median=0.048542, time=16.9s\nCombo 26/32: h=18, tmpl=5, srch=21, post_gauss=3\n  [h=18,t=5,s=21,pg=3] img 1/115\n"
          ]
        },
        {
          "output_type": "stream",
          "name": "stdout",
          "text": [
            "  [h=18,t=5,s=21,pg=3] img 11/115\n"
          ]
        },
        {
          "output_type": "stream",
          "name": "stdout",
          "text": [
            "  [h=18,t=5,s=21,pg=3] img 21/115\n"
          ]
        },
        {
          "output_type": "stream",
          "name": "stdout",
          "text": [
            "  [h=18,t=5,s=21,pg=3] img 31/115\n"
          ]
        },
        {
          "output_type": "stream",
          "name": "stdout",
          "text": [
            "  [h=18,t=5,s=21,pg=3] img 41/115\n"
          ]
        },
        {
          "output_type": "stream",
          "name": "stdout",
          "text": [
            "  [h=18,t=5,s=21,pg=3] img 51/115\n"
          ]
        },
        {
          "output_type": "stream",
          "name": "stdout",
          "text": [
            "  [h=18,t=5,s=21,pg=3] img 61/115\n"
          ]
        },
        {
          "output_type": "stream",
          "name": "stdout",
          "text": [
            "  [h=18,t=5,s=21,pg=3] img 71/115\n"
          ]
        },
        {
          "output_type": "stream",
          "name": "stdout",
          "text": [
            "  [h=18,t=5,s=21,pg=3] img 81/115\n"
          ]
        },
        {
          "output_type": "stream",
          "name": "stdout",
          "text": [
            "  [h=18,t=5,s=21,pg=3] img 91/115\n"
          ]
        },
        {
          "output_type": "stream",
          "name": "stdout",
          "text": [
            "  [h=18,t=5,s=21,pg=3] img 101/115\n"
          ]
        },
        {
          "output_type": "stream",
          "name": "stdout",
          "text": [
            "  [h=18,t=5,s=21,pg=3] img 111/115\n"
          ]
        },
        {
          "output_type": "stream",
          "name": "stdout",
          "text": [
            "  -> mean RMSE=0.122721, median=0.124517, time=16.9s\nCombo 27/32: h=18, tmpl=5, srch=31, post_gauss=0\n  [h=18,t=5,s=31,pg=0] img 1/115\n"
          ]
        },
        {
          "output_type": "stream",
          "name": "stdout",
          "text": [
            "  [h=18,t=5,s=31,pg=0] img 11/115\n"
          ]
        },
        {
          "output_type": "stream",
          "name": "stdout",
          "text": [
            "  [h=18,t=5,s=31,pg=0] img 21/115\n"
          ]
        },
        {
          "output_type": "stream",
          "name": "stdout",
          "text": [
            "  [h=18,t=5,s=31,pg=0] img 31/115\n"
          ]
        },
        {
          "output_type": "stream",
          "name": "stdout",
          "text": [
            "  [h=18,t=5,s=31,pg=0] img 41/115\n"
          ]
        },
        {
          "output_type": "stream",
          "name": "stdout",
          "text": [
            "  [h=18,t=5,s=31,pg=0] img 51/115\n"
          ]
        },
        {
          "output_type": "stream",
          "name": "stdout",
          "text": [
            "  [h=18,t=5,s=31,pg=0] img 61/115\n"
          ]
        },
        {
          "output_type": "stream",
          "name": "stdout",
          "text": [
            "  [h=18,t=5,s=31,pg=0] img 71/115\n"
          ]
        },
        {
          "output_type": "stream",
          "name": "stdout",
          "text": [
            "  [h=18,t=5,s=31,pg=0] img 81/115\n"
          ]
        },
        {
          "output_type": "stream",
          "name": "stdout",
          "text": [
            "  [h=18,t=5,s=31,pg=0] img 91/115\n"
          ]
        },
        {
          "output_type": "stream",
          "name": "stdout",
          "text": [
            "  [h=18,t=5,s=31,pg=0] img 101/115\n"
          ]
        },
        {
          "output_type": "stream",
          "name": "stdout",
          "text": [
            "  [h=18,t=5,s=31,pg=0] img 111/115\n"
          ]
        },
        {
          "output_type": "stream",
          "name": "stdout",
          "text": [
            "  -> mean RMSE=0.049649, median=0.049108, time=38.0s\nCombo 28/32: h=18, tmpl=5, srch=31, post_gauss=3\n  [h=18,t=5,s=31,pg=3] img 1/115\n"
          ]
        },
        {
          "output_type": "stream",
          "name": "stdout",
          "text": [
            "  [h=18,t=5,s=31,pg=3] img 11/115\n"
          ]
        },
        {
          "output_type": "stream",
          "name": "stdout",
          "text": [
            "  [h=18,t=5,s=31,pg=3] img 21/115\n"
          ]
        },
        {
          "output_type": "stream",
          "name": "stdout",
          "text": [
            "  [h=18,t=5,s=31,pg=3] img 31/115\n"
          ]
        },
        {
          "output_type": "stream",
          "name": "stdout",
          "text": [
            "  [h=18,t=5,s=31,pg=3] img 41/115\n"
          ]
        },
        {
          "output_type": "stream",
          "name": "stdout",
          "text": [
            "  [h=18,t=5,s=31,pg=3] img 51/115\n"
          ]
        },
        {
          "output_type": "stream",
          "name": "stdout",
          "text": [
            "  [h=18,t=5,s=31,pg=3] img 61/115\n"
          ]
        },
        {
          "output_type": "stream",
          "name": "stdout",
          "text": [
            "  [h=18,t=5,s=31,pg=3] img 71/115\n"
          ]
        },
        {
          "output_type": "stream",
          "name": "stdout",
          "text": [
            "  [h=18,t=5,s=31,pg=3] img 81/115\n"
          ]
        },
        {
          "output_type": "stream",
          "name": "stdout",
          "text": [
            "  [h=18,t=5,s=31,pg=3] img 91/115\n"
          ]
        },
        {
          "output_type": "stream",
          "name": "stdout",
          "text": [
            "  [h=18,t=5,s=31,pg=3] img 101/115\n"
          ]
        },
        {
          "output_type": "stream",
          "name": "stdout",
          "text": [
            "  [h=18,t=5,s=31,pg=3] img 111/115\n"
          ]
        },
        {
          "output_type": "stream",
          "name": "stdout",
          "text": [
            "  -> mean RMSE=0.122721, median=0.124614, time=38.2s\nCombo 29/32: h=18, tmpl=7, srch=21, post_gauss=0\n  [h=18,t=7,s=21,pg=0] img 1/115\n"
          ]
        },
        {
          "output_type": "stream",
          "name": "stdout",
          "text": [
            "  [h=18,t=7,s=21,pg=0] img 11/115\n"
          ]
        },
        {
          "output_type": "stream",
          "name": "stdout",
          "text": [
            "  [h=18,t=7,s=21,pg=0] img 21/115\n"
          ]
        },
        {
          "output_type": "stream",
          "name": "stdout",
          "text": [
            "  [h=18,t=7,s=21,pg=0] img 31/115\n"
          ]
        },
        {
          "output_type": "stream",
          "name": "stdout",
          "text": [
            "  [h=18,t=7,s=21,pg=0] img 41/115\n"
          ]
        },
        {
          "output_type": "stream",
          "name": "stdout",
          "text": [
            "  [h=18,t=7,s=21,pg=0] img 51/115\n"
          ]
        },
        {
          "output_type": "stream",
          "name": "stdout",
          "text": [
            "  [h=18,t=7,s=21,pg=0] img 61/115\n"
          ]
        },
        {
          "output_type": "stream",
          "name": "stdout",
          "text": [
            "  [h=18,t=7,s=21,pg=0] img 71/115\n"
          ]
        },
        {
          "output_type": "stream",
          "name": "stdout",
          "text": [
            "  [h=18,t=7,s=21,pg=0] img 81/115\n"
          ]
        },
        {
          "output_type": "stream",
          "name": "stdout",
          "text": [
            "  [h=18,t=7,s=21,pg=0] img 91/115\n"
          ]
        },
        {
          "output_type": "stream",
          "name": "stdout",
          "text": [
            "  [h=18,t=7,s=21,pg=0] img 101/115\n"
          ]
        },
        {
          "output_type": "stream",
          "name": "stdout",
          "text": [
            "  [h=18,t=7,s=21,pg=0] img 111/115\n"
          ]
        },
        {
          "output_type": "stream",
          "name": "stdout",
          "text": [
            "  -> mean RMSE=0.050193, median=0.048761, time=17.4s\nCombo 30/32: h=18, tmpl=7, srch=21, post_gauss=3\n  [h=18,t=7,s=21,pg=3] img 1/115\n"
          ]
        },
        {
          "output_type": "stream",
          "name": "stdout",
          "text": [
            "  [h=18,t=7,s=21,pg=3] img 11/115\n"
          ]
        },
        {
          "output_type": "stream",
          "name": "stdout",
          "text": [
            "  [h=18,t=7,s=21,pg=3] img 21/115\n"
          ]
        },
        {
          "output_type": "stream",
          "name": "stdout",
          "text": [
            "  [h=18,t=7,s=21,pg=3] img 31/115\n"
          ]
        },
        {
          "output_type": "stream",
          "name": "stdout",
          "text": [
            "  [h=18,t=7,s=21,pg=3] img 41/115\n"
          ]
        },
        {
          "output_type": "stream",
          "name": "stdout",
          "text": [
            "  [h=18,t=7,s=21,pg=3] img 51/115\n"
          ]
        },
        {
          "output_type": "stream",
          "name": "stdout",
          "text": [
            "  [h=18,t=7,s=21,pg=3] img 61/115\n"
          ]
        },
        {
          "output_type": "stream",
          "name": "stdout",
          "text": [
            "  [h=18,t=7,s=21,pg=3] img 71/115\n"
          ]
        },
        {
          "output_type": "stream",
          "name": "stdout",
          "text": [
            "  [h=18,t=7,s=21,pg=3] img 81/115\n"
          ]
        },
        {
          "output_type": "stream",
          "name": "stdout",
          "text": [
            "  [h=18,t=7,s=21,pg=3] img 91/115\n"
          ]
        },
        {
          "output_type": "stream",
          "name": "stdout",
          "text": [
            "  [h=18,t=7,s=21,pg=3] img 101/115\n"
          ]
        },
        {
          "output_type": "stream",
          "name": "stdout",
          "text": [
            "  [h=18,t=7,s=21,pg=3] img 111/115\n"
          ]
        },
        {
          "output_type": "stream",
          "name": "stdout",
          "text": [
            "  -> mean RMSE=0.122897, median=0.124717, time=17.5s\nCombo 31/32: h=18, tmpl=7, srch=31, post_gauss=0\n  [h=18,t=7,s=31,pg=0] img 1/115\n"
          ]
        },
        {
          "output_type": "stream",
          "name": "stdout",
          "text": [
            "  [h=18,t=7,s=31,pg=0] img 11/115\n"
          ]
        },
        {
          "output_type": "stream",
          "name": "stdout",
          "text": [
            "  [h=18,t=7,s=31,pg=0] img 21/115\n"
          ]
        },
        {
          "output_type": "stream",
          "name": "stdout",
          "text": [
            "  [h=18,t=7,s=31,pg=0] img 31/115\n"
          ]
        },
        {
          "output_type": "stream",
          "name": "stdout",
          "text": [
            "  [h=18,t=7,s=31,pg=0] img 41/115\n"
          ]
        },
        {
          "output_type": "stream",
          "name": "stdout",
          "text": [
            "  [h=18,t=7,s=31,pg=0] img 51/115\n"
          ]
        },
        {
          "output_type": "stream",
          "name": "stdout",
          "text": [
            "  [h=18,t=7,s=31,pg=0] img 61/115\n"
          ]
        },
        {
          "output_type": "stream",
          "name": "stdout",
          "text": [
            "  [h=18,t=7,s=31,pg=0] img 71/115\n"
          ]
        },
        {
          "output_type": "stream",
          "name": "stdout",
          "text": [
            "  [h=18,t=7,s=31,pg=0] img 81/115\n"
          ]
        },
        {
          "output_type": "stream",
          "name": "stdout",
          "text": [
            "  [h=18,t=7,s=31,pg=0] img 91/115\n"
          ]
        },
        {
          "output_type": "stream",
          "name": "stdout",
          "text": [
            "  [h=18,t=7,s=31,pg=0] img 101/115\n"
          ]
        },
        {
          "output_type": "stream",
          "name": "stdout",
          "text": [
            "  [h=18,t=7,s=31,pg=0] img 111/115\n"
          ]
        },
        {
          "output_type": "stream",
          "name": "stdout",
          "text": [
            "  -> mean RMSE=0.050353, median=0.049344, time=38.9s\nCombo 32/32: h=18, tmpl=7, srch=31, post_gauss=3\n  [h=18,t=7,s=31,pg=3] img 1/115\n"
          ]
        },
        {
          "output_type": "stream",
          "name": "stdout",
          "text": [
            "  [h=18,t=7,s=31,pg=3] img 11/115\n"
          ]
        },
        {
          "output_type": "stream",
          "name": "stdout",
          "text": [
            "  [h=18,t=7,s=31,pg=3] img 21/115\n"
          ]
        },
        {
          "output_type": "stream",
          "name": "stdout",
          "text": [
            "  [h=18,t=7,s=31,pg=3] img 31/115\n"
          ]
        },
        {
          "output_type": "stream",
          "name": "stdout",
          "text": [
            "  [h=18,t=7,s=31,pg=3] img 41/115\n"
          ]
        },
        {
          "output_type": "stream",
          "name": "stdout",
          "text": [
            "  [h=18,t=7,s=31,pg=3] img 51/115\n"
          ]
        },
        {
          "output_type": "stream",
          "name": "stdout",
          "text": [
            "  [h=18,t=7,s=31,pg=3] img 61/115\n"
          ]
        },
        {
          "output_type": "stream",
          "name": "stdout",
          "text": [
            "  [h=18,t=7,s=31,pg=3] img 71/115\n"
          ]
        },
        {
          "output_type": "stream",
          "name": "stdout",
          "text": [
            "  [h=18,t=7,s=31,pg=3] img 81/115\n"
          ]
        },
        {
          "output_type": "stream",
          "name": "stdout",
          "text": [
            "  [h=18,t=7,s=31,pg=3] img 91/115\n"
          ]
        },
        {
          "output_type": "stream",
          "name": "stdout",
          "text": [
            "  [h=18,t=7,s=31,pg=3] img 101/115\n"
          ]
        },
        {
          "output_type": "stream",
          "name": "stdout",
          "text": [
            "  [h=18,t=7,s=31,pg=3] img 111/115\n"
          ]
        },
        {
          "output_type": "stream",
          "name": "stdout",
          "text": [
            "  -> mean RMSE=0.122918, median=0.124949, time=39.1s\nTotal ext grid time: 893.4s\nTop results by mean RMSE:\n  h=14, tmpl=5, srch=31, post_gauss=0: mean=0.049001, median=0.047883\n  h=12, tmpl=5, srch=31, post_gauss=0: mean=0.049095, median=0.047580\n  h=16, tmpl=5, srch=31, post_gauss=0: mean=0.049137, median=0.048419\n  h=14, tmpl=5, srch=21, post_gauss=0: mean=0.049215, median=0.047685\n  h=16, tmpl=5, srch=21, post_gauss=0: mean=0.049264, median=0.047894\nBest ext params -> h: 14 tmpl: 5 srch: 31 post_gauss: 0 mean: 0.04900112182873747\n"
          ]
        }
      ]
    },
    {
      "id": "221ef330-2847-4807-93d0-ca13362a3baa",
      "cell_type": "code",
      "metadata": {},
      "source": [
        "# Text-mask blending: divide normalization -> NLM background denoise -> adaptive threshold mask -> blend sharp text\n",
        "import itertools\n",
        "\n",
        "def build_text_mask(norm_u8: np.ndarray, block_size: int = 25, C: int = 10) -> np.ndarray:\n",
        "    # block_size must be odd and >= 3\n",
        "    b = block_size if block_size % 2 == 1 else block_size + 1\n",
        "    mask = cv2.adaptiveThreshold(norm_u8, 255, cv2.ADAPTIVE_THRESH_MEAN_C, cv2.THRESH_BINARY_INV, b, C)\n",
        "    # Clean small holes/gaps: morphological close with 3x3\n",
        "    kernel = cv2.getStructuringElement(cv2.MORPH_RECT, (3, 3))\n",
        "    mask = cv2.morphologyEx(mask, cv2.MORPH_CLOSE, kernel)\n",
        "    return mask\n",
        "\n",
        "def pipeline_div_nlm_mask_blend(\n",
        "    img_u8: np.ndarray,\n",
        "    ksize_bg: int = 31,\n",
        "    h_bg: int = 14,\n",
        "    tmpl: int = 5,\n",
        "    srch: int = 31,\n",
        "    block_size: int = 25,\n",
        "    C: int = 10,\n",
        "    sharp_variant: str = 'norm'\n",
        ") -> np.ndarray:\n",
        "    # Normalize illumination\n",
        "    bg = estimate_background_median(img_u8, ksize=ksize_bg)\n",
        "    norm = normalize_divide(img_u8, bg)  # uint8\n",
        "    # Denoise background strongly\n",
        "    den_bg = cv2.fastNlMeansDenoising(norm, None, h=h_bg, templateWindowSize=tmpl, searchWindowSize=srch)\n",
        "    # Sharp text source\n",
        "    if sharp_variant == 'norm':\n",
        "        sharp = norm\n",
        "    elif sharp_variant == 'nlm8':\n",
        "        sharp = cv2.fastNlMeansDenoising(norm, None, h=8, templateWindowSize=tmpl, searchWindowSize=srch)\n",
        "    else:\n",
        "        sharp = norm\n",
        "    # Text mask where text=255\n",
        "    mask = build_text_mask(norm, block_size=block_size, C=C)\n",
        "    # Blend: text from sharp, background from denoised\n",
        "    final_u8 = np.where(mask == 255, sharp, den_bg).astype(np.uint8)\n",
        "    return final_u8\n",
        "\n",
        "def eval_mask_blend_grid_on_train(block_sizes, C_list, sharp_variant: str = 'norm', ksize_bg: int = 31, h_bg: int = 14, tmpl: int = 5, srch: int = 31):\n",
        "    results = []\n",
        "    t0_all = time.time()\n",
        "    combos = list(itertools.product(block_sizes, C_list))\n",
        "    for ci, (bs, Cval) in enumerate(combos, start=1):\n",
        "        errs = []\n",
        "        t0 = time.time()\n",
        "        print(f'Combo {ci}/{len(combos)}: block={bs}, C={Cval}, sharp={sharp_variant}')\n",
        "        for i, p in enumerate(train_files):\n",
        "            if i % 10 == 0:\n",
        "                print(f'  [block={bs},C={Cval}] img {i+1}/{len(train_files)}', flush=True)\n",
        "            img = read_gray_uint8(p)\n",
        "            pred = pipeline_div_nlm_mask_blend(img, ksize_bg=ksize_bg, h_bg=h_bg, tmpl=tmpl, srch=srch, block_size=bs, C=Cval, sharp_variant=sharp_variant)\n",
        "            target = read_gray_uint8(TRAIN_CLEAN_DIR / p.name)\n",
        "            errs.append(rmse(to_float01(pred), to_float01(target)))\n",
        "        mean_rmse = float(np.mean(errs))\n",
        "        med_rmse = float(np.median(errs))\n",
        "        elapsed = time.time() - t0\n",
        "        print(f'  -> mean RMSE={mean_rmse:.6f}, median={med_rmse:.6f}, time={elapsed:.1f}s')\n",
        "        results.append((bs, Cval, sharp_variant, mean_rmse, med_rmse, elapsed))\n",
        "    print(f'Total mask-blend grid time: {time.time()-t0_all:.1f}s')\n",
        "    results.sort(key=lambda x: x[3])\n",
        "    print('Top results by mean RMSE:')\n",
        "    for bs, Cval, sv, m, md, _ in results[:5]:\n",
        "        print(f'  block={bs}, C={Cval}, sharp={sv}: mean={m:.6f}, median={md:.6f}')\n",
        "    return results\n",
        "\n",
        "def generate_submission_mask_blend(best_bs: int, best_C: int, sharp_variant: str = 'norm', out_path: str = 'submission.csv'):\n",
        "    print(f'Generating submission (mask blend) with block={best_bs}, C={best_C}, sharp={sharp_variant} -> {out_path}')\n",
        "    # Ordered unique image ids from sample\n",
        "    sample_iter = pd.read_csv(SAMPLE_SUB_PATH, chunksize=200000)\n",
        "    ordered_image_ids = []\n",
        "    seen = set()\n",
        "    for chunk in sample_iter:\n",
        "        for s in chunk['id'].astype(str).values:\n",
        "            img_id, r, c = parse_id_triplet(s)\n",
        "            if img_id not in seen:\n",
        "                seen.add(img_id)\n",
        "                ordered_image_ids.append(img_id)\n",
        "    print(f'Found {len(ordered_image_ids)} unique test image ids.')\n",
        "    # Precompute all outputs\n",
        "    cache = {}\n",
        "    for idx, img_id in enumerate(ordered_image_ids):\n",
        "        img_path = TEST_DIR / f'{img_id}.png'\n",
        "        print(f'[{idx+1}/{len(ordered_image_ids)}] Processing {img_path} ...', flush=True)\n",
        "        img_u8 = read_gray_uint8(img_path)\n",
        "        den_u8 = pipeline_div_nlm_mask_blend(img_u8, ksize_bg=31, h_bg=14, tmpl=5, srch=31, block_size=best_bs, C=best_C, sharp_variant=sharp_variant)\n",
        "        cache[img_id] = to_float01(den_u8)\n",
        "    # Write full-precision floats (no rounding) to avoid extra RMSE\n",
        "    import csv\n",
        "    print('Writing predictions to CSV in sample order (full precision floats)...')\n",
        "    with open(out_path, 'w', newline='') as f_out:\n",
        "        writer = csv.writer(f_out)\n",
        "        writer.writerow(['id', 'value'])\n",
        "        for chunk in pd.read_csv(SAMPLE_SUB_PATH, chunksize=200000):\n",
        "            rows = []\n",
        "            for s in chunk['id'].astype(str).values:\n",
        "                img_id, r, c = parse_id_triplet(s)\n",
        "                val = float(np.clip(cache[img_id][r-1, c-1], 0.0, 1.0))\n",
        "                rows.append((s, val))\n",
        "            writer.writerows(rows)\n",
        "    print(f'Wrote: {out_path}')\n",
        "\n",
        "# Run a small, high-impact grid for mask blending\n",
        "block_sizes = [23, 25, 29, 31]\n",
        "C_list = [8, 10, 12]\n",
        "results_mask = eval_mask_blend_grid_on_train(block_sizes, C_list, sharp_variant='norm', ksize_bg=31, h_bg=14, tmpl=5, srch=31)\n",
        "best_bs, best_C, best_sv, best_mean_mb, best_med_mb, _ = results_mask[0]\n",
        "print('Selected mask-blend params -> block:', best_bs, 'C:', best_C, 'sharp:', best_sv, 'mean:', best_mean_mb)\n",
        "# After confirming best_mean_mb <= 0.045, generate submission:\n",
        "# generate_submission_mask_blend(int(best_bs), int(best_C), sharp_variant=best_sv, out_path='submission.csv')"
      ],
      "execution_count": 11,
      "outputs": [
        {
          "output_type": "stream",
          "name": "stdout",
          "text": [
            "Combo 1/12: block=23, C=8, sharp=norm\n  [block=23,C=8] img 1/115\n"
          ]
        },
        {
          "output_type": "stream",
          "name": "stdout",
          "text": [
            "  [block=23,C=8] img 11/115\n"
          ]
        },
        {
          "output_type": "stream",
          "name": "stdout",
          "text": [
            "  [block=23,C=8] img 21/115\n"
          ]
        },
        {
          "output_type": "stream",
          "name": "stdout",
          "text": [
            "  [block=23,C=8] img 31/115\n"
          ]
        },
        {
          "output_type": "stream",
          "name": "stdout",
          "text": [
            "  [block=23,C=8] img 41/115\n"
          ]
        },
        {
          "output_type": "stream",
          "name": "stdout",
          "text": [
            "  [block=23,C=8] img 51/115\n"
          ]
        },
        {
          "output_type": "stream",
          "name": "stdout",
          "text": [
            "  [block=23,C=8] img 61/115\n"
          ]
        },
        {
          "output_type": "stream",
          "name": "stdout",
          "text": [
            "  [block=23,C=8] img 71/115\n"
          ]
        },
        {
          "output_type": "stream",
          "name": "stdout",
          "text": [
            "  [block=23,C=8] img 81/115\n"
          ]
        },
        {
          "output_type": "stream",
          "name": "stdout",
          "text": [
            "  [block=23,C=8] img 91/115\n"
          ]
        },
        {
          "output_type": "stream",
          "name": "stdout",
          "text": [
            "  [block=23,C=8] img 101/115\n"
          ]
        },
        {
          "output_type": "stream",
          "name": "stdout",
          "text": [
            "  [block=23,C=8] img 111/115\n"
          ]
        },
        {
          "output_type": "stream",
          "name": "stdout",
          "text": [
            "  -> mean RMSE=0.049777, median=0.047681, time=38.3s\nCombo 2/12: block=23, C=10, sharp=norm\n  [block=23,C=10] img 1/115\n"
          ]
        },
        {
          "output_type": "stream",
          "name": "stdout",
          "text": [
            "  [block=23,C=10] img 11/115\n"
          ]
        },
        {
          "output_type": "stream",
          "name": "stdout",
          "text": [
            "  [block=23,C=10] img 21/115\n"
          ]
        },
        {
          "output_type": "stream",
          "name": "stdout",
          "text": [
            "  [block=23,C=10] img 31/115\n"
          ]
        },
        {
          "output_type": "stream",
          "name": "stdout",
          "text": [
            "  [block=23,C=10] img 41/115\n"
          ]
        },
        {
          "output_type": "stream",
          "name": "stdout",
          "text": [
            "  [block=23,C=10] img 51/115\n"
          ]
        },
        {
          "output_type": "stream",
          "name": "stdout",
          "text": [
            "  [block=23,C=10] img 61/115\n"
          ]
        },
        {
          "output_type": "stream",
          "name": "stdout",
          "text": [
            "  [block=23,C=10] img 71/115\n"
          ]
        },
        {
          "output_type": "stream",
          "name": "stdout",
          "text": [
            "  [block=23,C=10] img 81/115\n"
          ]
        },
        {
          "output_type": "stream",
          "name": "stdout",
          "text": [
            "  [block=23,C=10] img 91/115\n"
          ]
        },
        {
          "output_type": "stream",
          "name": "stdout",
          "text": [
            "  [block=23,C=10] img 101/115\n"
          ]
        },
        {
          "output_type": "stream",
          "name": "stdout",
          "text": [
            "  [block=23,C=10] img 111/115\n"
          ]
        },
        {
          "output_type": "stream",
          "name": "stdout",
          "text": [
            "  -> mean RMSE=0.049659, median=0.047667, time=38.2s\nCombo 3/12: block=23, C=12, sharp=norm\n  [block=23,C=12] img 1/115\n"
          ]
        },
        {
          "output_type": "stream",
          "name": "stdout",
          "text": [
            "  [block=23,C=12] img 11/115\n"
          ]
        },
        {
          "output_type": "stream",
          "name": "stdout",
          "text": [
            "  [block=23,C=12] img 21/115\n"
          ]
        },
        {
          "output_type": "stream",
          "name": "stdout",
          "text": [
            "  [block=23,C=12] img 31/115\n"
          ]
        },
        {
          "output_type": "stream",
          "name": "stdout",
          "text": [
            "  [block=23,C=12] img 41/115\n"
          ]
        },
        {
          "output_type": "stream",
          "name": "stdout",
          "text": [
            "  [block=23,C=12] img 51/115\n"
          ]
        },
        {
          "output_type": "stream",
          "name": "stdout",
          "text": [
            "  [block=23,C=12] img 61/115\n"
          ]
        },
        {
          "output_type": "stream",
          "name": "stdout",
          "text": [
            "  [block=23,C=12] img 71/115\n"
          ]
        },
        {
          "output_type": "stream",
          "name": "stdout",
          "text": [
            "  [block=23,C=12] img 81/115\n"
          ]
        },
        {
          "output_type": "stream",
          "name": "stdout",
          "text": [
            "  [block=23,C=12] img 91/115\n"
          ]
        },
        {
          "output_type": "stream",
          "name": "stdout",
          "text": [
            "  [block=23,C=12] img 101/115\n"
          ]
        },
        {
          "output_type": "stream",
          "name": "stdout",
          "text": [
            "  [block=23,C=12] img 111/115\n"
          ]
        },
        {
          "output_type": "stream",
          "name": "stdout",
          "text": [
            "  -> mean RMSE=0.049552, median=0.047662, time=38.5s\nCombo 4/12: block=25, C=8, sharp=norm\n  [block=25,C=8] img 1/115\n"
          ]
        },
        {
          "output_type": "stream",
          "name": "stdout",
          "text": [
            "  [block=25,C=8] img 11/115\n"
          ]
        },
        {
          "output_type": "stream",
          "name": "stdout",
          "text": [
            "  [block=25,C=8] img 21/115\n"
          ]
        },
        {
          "output_type": "stream",
          "name": "stdout",
          "text": [
            "  [block=25,C=8] img 31/115\n"
          ]
        },
        {
          "output_type": "stream",
          "name": "stdout",
          "text": [
            "  [block=25,C=8] img 41/115\n"
          ]
        },
        {
          "output_type": "stream",
          "name": "stdout",
          "text": [
            "  [block=25,C=8] img 51/115\n"
          ]
        },
        {
          "output_type": "stream",
          "name": "stdout",
          "text": [
            "  [block=25,C=8] img 61/115\n"
          ]
        },
        {
          "output_type": "stream",
          "name": "stdout",
          "text": [
            "  [block=25,C=8] img 71/115\n"
          ]
        },
        {
          "output_type": "stream",
          "name": "stdout",
          "text": [
            "  [block=25,C=8] img 81/115\n"
          ]
        },
        {
          "output_type": "stream",
          "name": "stdout",
          "text": [
            "  [block=25,C=8] img 91/115\n"
          ]
        },
        {
          "output_type": "stream",
          "name": "stdout",
          "text": [
            "  [block=25,C=8] img 101/115\n"
          ]
        },
        {
          "output_type": "stream",
          "name": "stdout",
          "text": [
            "  [block=25,C=8] img 111/115\n"
          ]
        },
        {
          "output_type": "stream",
          "name": "stdout",
          "text": [
            "  -> mean RMSE=0.049722, median=0.047677, time=38.4s\nCombo 5/12: block=25, C=10, sharp=norm\n  [block=25,C=10] img 1/115\n"
          ]
        },
        {
          "output_type": "stream",
          "name": "stdout",
          "text": [
            "  [block=25,C=10] img 11/115\n"
          ]
        },
        {
          "output_type": "stream",
          "name": "stdout",
          "text": [
            "  [block=25,C=10] img 21/115\n"
          ]
        },
        {
          "output_type": "stream",
          "name": "stdout",
          "text": [
            "  [block=25,C=10] img 31/115\n"
          ]
        },
        {
          "output_type": "stream",
          "name": "stdout",
          "text": [
            "  [block=25,C=10] img 41/115\n"
          ]
        },
        {
          "output_type": "stream",
          "name": "stdout",
          "text": [
            "  [block=25,C=10] img 51/115\n"
          ]
        },
        {
          "output_type": "stream",
          "name": "stdout",
          "text": [
            "  [block=25,C=10] img 61/115\n"
          ]
        },
        {
          "output_type": "stream",
          "name": "stdout",
          "text": [
            "  [block=25,C=10] img 71/115\n"
          ]
        },
        {
          "output_type": "stream",
          "name": "stdout",
          "text": [
            "  [block=25,C=10] img 81/115\n"
          ]
        },
        {
          "output_type": "stream",
          "name": "stdout",
          "text": [
            "  [block=25,C=10] img 91/115\n"
          ]
        },
        {
          "output_type": "stream",
          "name": "stdout",
          "text": [
            "  [block=25,C=10] img 101/115\n"
          ]
        },
        {
          "output_type": "stream",
          "name": "stdout",
          "text": [
            "  [block=25,C=10] img 111/115\n"
          ]
        },
        {
          "output_type": "stream",
          "name": "stdout",
          "text": [
            "  -> mean RMSE=0.049610, median=0.047664, time=38.3s\nCombo 6/12: block=25, C=12, sharp=norm\n  [block=25,C=12] img 1/115\n"
          ]
        },
        {
          "output_type": "stream",
          "name": "stdout",
          "text": [
            "  [block=25,C=12] img 11/115\n"
          ]
        },
        {
          "output_type": "stream",
          "name": "stdout",
          "text": [
            "  [block=25,C=12] img 21/115\n"
          ]
        },
        {
          "output_type": "stream",
          "name": "stdout",
          "text": [
            "  [block=25,C=12] img 31/115\n"
          ]
        },
        {
          "output_type": "stream",
          "name": "stdout",
          "text": [
            "  [block=25,C=12] img 41/115\n"
          ]
        },
        {
          "output_type": "stream",
          "name": "stdout",
          "text": [
            "  [block=25,C=12] img 51/115\n"
          ]
        },
        {
          "output_type": "stream",
          "name": "stdout",
          "text": [
            "  [block=25,C=12] img 61/115\n"
          ]
        },
        {
          "output_type": "stream",
          "name": "stdout",
          "text": [
            "  [block=25,C=12] img 71/115\n"
          ]
        },
        {
          "output_type": "stream",
          "name": "stdout",
          "text": [
            "  [block=25,C=12] img 81/115\n"
          ]
        },
        {
          "output_type": "stream",
          "name": "stdout",
          "text": [
            "  [block=25,C=12] img 91/115\n"
          ]
        },
        {
          "output_type": "stream",
          "name": "stdout",
          "text": [
            "  [block=25,C=12] img 101/115\n"
          ]
        },
        {
          "output_type": "stream",
          "name": "stdout",
          "text": [
            "  [block=25,C=12] img 111/115\n"
          ]
        },
        {
          "output_type": "stream",
          "name": "stdout",
          "text": [
            "  -> mean RMSE=0.049508, median=0.047663, time=38.4s\nCombo 7/12: block=29, C=8, sharp=norm\n  [block=29,C=8] img 1/115\n"
          ]
        },
        {
          "output_type": "stream",
          "name": "stdout",
          "text": [
            "  [block=29,C=8] img 11/115\n"
          ]
        },
        {
          "output_type": "stream",
          "name": "stdout",
          "text": [
            "  [block=29,C=8] img 21/115\n"
          ]
        },
        {
          "output_type": "stream",
          "name": "stdout",
          "text": [
            "  [block=29,C=8] img 31/115\n"
          ]
        },
        {
          "output_type": "stream",
          "name": "stdout",
          "text": [
            "  [block=29,C=8] img 41/115\n"
          ]
        },
        {
          "output_type": "stream",
          "name": "stdout",
          "text": [
            "  [block=29,C=8] img 51/115\n"
          ]
        },
        {
          "output_type": "stream",
          "name": "stdout",
          "text": [
            "  [block=29,C=8] img 61/115\n"
          ]
        },
        {
          "output_type": "stream",
          "name": "stdout",
          "text": [
            "  [block=29,C=8] img 71/115\n"
          ]
        },
        {
          "output_type": "stream",
          "name": "stdout",
          "text": [
            "  [block=29,C=8] img 81/115\n"
          ]
        },
        {
          "output_type": "stream",
          "name": "stdout",
          "text": [
            "  [block=29,C=8] img 91/115\n"
          ]
        },
        {
          "output_type": "stream",
          "name": "stdout",
          "text": [
            "  [block=29,C=8] img 101/115\n"
          ]
        },
        {
          "output_type": "stream",
          "name": "stdout",
          "text": [
            "  [block=29,C=8] img 111/115\n"
          ]
        },
        {
          "output_type": "stream",
          "name": "stdout",
          "text": [
            "  -> mean RMSE=0.049642, median=0.047681, time=38.5s\nCombo 8/12: block=29, C=10, sharp=norm\n  [block=29,C=10] img 1/115\n"
          ]
        },
        {
          "output_type": "stream",
          "name": "stdout",
          "text": [
            "  [block=29,C=10] img 11/115\n"
          ]
        },
        {
          "output_type": "stream",
          "name": "stdout",
          "text": [
            "  [block=29,C=10] img 21/115\n"
          ]
        },
        {
          "output_type": "stream",
          "name": "stdout",
          "text": [
            "  [block=29,C=10] img 31/115\n"
          ]
        },
        {
          "output_type": "stream",
          "name": "stdout",
          "text": [
            "  [block=29,C=10] img 41/115\n"
          ]
        },
        {
          "output_type": "stream",
          "name": "stdout",
          "text": [
            "  [block=29,C=10] img 51/115\n"
          ]
        },
        {
          "output_type": "stream",
          "name": "stdout",
          "text": [
            "  [block=29,C=10] img 61/115\n"
          ]
        },
        {
          "output_type": "stream",
          "name": "stdout",
          "text": [
            "  [block=29,C=10] img 71/115\n"
          ]
        },
        {
          "output_type": "stream",
          "name": "stdout",
          "text": [
            "  [block=29,C=10] img 81/115\n"
          ]
        },
        {
          "output_type": "stream",
          "name": "stdout",
          "text": [
            "  [block=29,C=10] img 91/115\n"
          ]
        },
        {
          "output_type": "stream",
          "name": "stdout",
          "text": [
            "  [block=29,C=10] img 101/115\n"
          ]
        },
        {
          "output_type": "stream",
          "name": "stdout",
          "text": [
            "  [block=29,C=10] img 111/115\n"
          ]
        },
        {
          "output_type": "stream",
          "name": "stdout",
          "text": [
            "  -> mean RMSE=0.049537, median=0.047670, time=38.3s\nCombo 9/12: block=29, C=12, sharp=norm\n  [block=29,C=12] img 1/115\n"
          ]
        },
        {
          "output_type": "stream",
          "name": "stdout",
          "text": [
            "  [block=29,C=12] img 11/115\n"
          ]
        },
        {
          "output_type": "stream",
          "name": "stdout",
          "text": [
            "  [block=29,C=12] img 21/115\n"
          ]
        },
        {
          "output_type": "stream",
          "name": "stdout",
          "text": [
            "  [block=29,C=12] img 31/115\n"
          ]
        },
        {
          "output_type": "stream",
          "name": "stdout",
          "text": [
            "  [block=29,C=12] img 41/115\n"
          ]
        },
        {
          "output_type": "stream",
          "name": "stdout",
          "text": [
            "  [block=29,C=12] img 51/115\n"
          ]
        },
        {
          "output_type": "stream",
          "name": "stdout",
          "text": [
            "  [block=29,C=12] img 61/115\n"
          ]
        },
        {
          "output_type": "stream",
          "name": "stdout",
          "text": [
            "  [block=29,C=12] img 71/115\n"
          ]
        },
        {
          "output_type": "stream",
          "name": "stdout",
          "text": [
            "  [block=29,C=12] img 81/115\n"
          ]
        },
        {
          "output_type": "stream",
          "name": "stdout",
          "text": [
            "  [block=29,C=12] img 91/115\n"
          ]
        },
        {
          "output_type": "stream",
          "name": "stdout",
          "text": [
            "  [block=29,C=12] img 101/115\n"
          ]
        },
        {
          "output_type": "stream",
          "name": "stdout",
          "text": [
            "  [block=29,C=12] img 111/115\n"
          ]
        },
        {
          "output_type": "stream",
          "name": "stdout",
          "text": [
            "  -> mean RMSE=0.049442, median=0.047659, time=38.3s\nCombo 10/12: block=31, C=8, sharp=norm\n  [block=31,C=8] img 1/115\n"
          ]
        },
        {
          "output_type": "stream",
          "name": "stdout",
          "text": [
            "  [block=31,C=8] img 11/115\n"
          ]
        },
        {
          "output_type": "stream",
          "name": "stdout",
          "text": [
            "  [block=31,C=8] img 21/115\n"
          ]
        },
        {
          "output_type": "stream",
          "name": "stdout",
          "text": [
            "  [block=31,C=8] img 31/115\n"
          ]
        },
        {
          "output_type": "stream",
          "name": "stdout",
          "text": [
            "  [block=31,C=8] img 41/115\n"
          ]
        },
        {
          "output_type": "stream",
          "name": "stdout",
          "text": [
            "  [block=31,C=8] img 51/115\n"
          ]
        },
        {
          "output_type": "stream",
          "name": "stdout",
          "text": [
            "  [block=31,C=8] img 61/115\n"
          ]
        },
        {
          "output_type": "stream",
          "name": "stdout",
          "text": [
            "  [block=31,C=8] img 71/115\n"
          ]
        },
        {
          "output_type": "stream",
          "name": "stdout",
          "text": [
            "  [block=31,C=8] img 81/115\n"
          ]
        },
        {
          "output_type": "stream",
          "name": "stdout",
          "text": [
            "  [block=31,C=8] img 91/115\n"
          ]
        },
        {
          "output_type": "stream",
          "name": "stdout",
          "text": [
            "  [block=31,C=8] img 101/115\n"
          ]
        },
        {
          "output_type": "stream",
          "name": "stdout",
          "text": [
            "  [block=31,C=8] img 111/115\n"
          ]
        },
        {
          "output_type": "stream",
          "name": "stdout",
          "text": [
            "  -> mean RMSE=0.049611, median=0.047679, time=38.3s\nCombo 11/12: block=31, C=10, sharp=norm\n  [block=31,C=10] img 1/115\n"
          ]
        },
        {
          "output_type": "stream",
          "name": "stdout",
          "text": [
            "  [block=31,C=10] img 11/115\n"
          ]
        },
        {
          "output_type": "stream",
          "name": "stdout",
          "text": [
            "  [block=31,C=10] img 21/115\n"
          ]
        },
        {
          "output_type": "stream",
          "name": "stdout",
          "text": [
            "  [block=31,C=10] img 31/115\n"
          ]
        },
        {
          "output_type": "stream",
          "name": "stdout",
          "text": [
            "  [block=31,C=10] img 41/115\n"
          ]
        },
        {
          "output_type": "stream",
          "name": "stdout",
          "text": [
            "  [block=31,C=10] img 51/115\n"
          ]
        },
        {
          "output_type": "stream",
          "name": "stdout",
          "text": [
            "  [block=31,C=10] img 61/115\n"
          ]
        },
        {
          "output_type": "stream",
          "name": "stdout",
          "text": [
            "  [block=31,C=10] img 71/115\n"
          ]
        },
        {
          "output_type": "stream",
          "name": "stdout",
          "text": [
            "  [block=31,C=10] img 81/115\n"
          ]
        },
        {
          "output_type": "stream",
          "name": "stdout",
          "text": [
            "  [block=31,C=10] img 91/115\n"
          ]
        },
        {
          "output_type": "stream",
          "name": "stdout",
          "text": [
            "  [block=31,C=10] img 101/115\n"
          ]
        },
        {
          "output_type": "stream",
          "name": "stdout",
          "text": [
            "  [block=31,C=10] img 111/115\n"
          ]
        },
        {
          "output_type": "stream",
          "name": "stdout",
          "text": [
            "  -> mean RMSE=0.049509, median=0.047672, time=38.1s\nCombo 12/12: block=31, C=12, sharp=norm\n  [block=31,C=12] img 1/115\n"
          ]
        },
        {
          "output_type": "stream",
          "name": "stdout",
          "text": [
            "  [block=31,C=12] img 11/115\n"
          ]
        },
        {
          "output_type": "stream",
          "name": "stdout",
          "text": [
            "  [block=31,C=12] img 21/115\n"
          ]
        },
        {
          "output_type": "stream",
          "name": "stdout",
          "text": [
            "  [block=31,C=12] img 31/115\n"
          ]
        },
        {
          "output_type": "stream",
          "name": "stdout",
          "text": [
            "  [block=31,C=12] img 41/115\n"
          ]
        },
        {
          "output_type": "stream",
          "name": "stdout",
          "text": [
            "  [block=31,C=12] img 51/115\n"
          ]
        },
        {
          "output_type": "stream",
          "name": "stdout",
          "text": [
            "  [block=31,C=12] img 61/115\n"
          ]
        },
        {
          "output_type": "stream",
          "name": "stdout",
          "text": [
            "  [block=31,C=12] img 71/115\n"
          ]
        },
        {
          "output_type": "stream",
          "name": "stdout",
          "text": [
            "  [block=31,C=12] img 81/115\n"
          ]
        },
        {
          "output_type": "stream",
          "name": "stdout",
          "text": [
            "  [block=31,C=12] img 91/115\n"
          ]
        },
        {
          "output_type": "stream",
          "name": "stdout",
          "text": [
            "  [block=31,C=12] img 101/115\n"
          ]
        },
        {
          "output_type": "stream",
          "name": "stdout",
          "text": [
            "  [block=31,C=12] img 111/115\n"
          ]
        },
        {
          "output_type": "stream",
          "name": "stdout",
          "text": [
            "  -> mean RMSE=0.049418, median=0.047659, time=38.1s\nTotal mask-blend grid time: 459.6s\nTop results by mean RMSE:\n  block=31, C=12, sharp=norm: mean=0.049418, median=0.047659\n  block=29, C=12, sharp=norm: mean=0.049442, median=0.047659\n  block=25, C=12, sharp=norm: mean=0.049508, median=0.047663\n  block=31, C=10, sharp=norm: mean=0.049509, median=0.047672\n  block=29, C=10, sharp=norm: mean=0.049537, median=0.047670\nSelected mask-blend params -> block: 31 C: 12 sharp: norm mean: 0.04941835419639297\n"
          ]
        }
      ]
    },
    {
      "id": "459feaf5-aa92-4513-aa2c-2e2320f2308e",
      "cell_type": "code",
      "metadata": {},
      "source": [
        "# Generate submission with best ext params (divide+NLM) writing full-precision floats (no rounding)\n",
        "def generate_submission_div_nlm_ext_fullprecision(h: int, tmpl: int, srch: int, out_path: str = 'submission.csv'):\n",
        "    print(f'Generating submission (full precision) with h={h}, tmpl={tmpl}, srch={srch} -> {out_path}')\n",
        "    # Ordered unique image ids from sample\n",
        "    sample_iter = pd.read_csv(SAMPLE_SUB_PATH, chunksize=200000)\n",
        "    ordered_image_ids = []\n",
        "    seen = set()\n",
        "    for chunk in sample_iter:\n",
        "        for s in chunk['id'].astype(str).values:\n",
        "            img_id, r, c = parse_id_triplet(s)\n",
        "            if img_id not in seen:\n",
        "                seen.add(img_id)\n",
        "                ordered_image_ids.append(img_id)\n",
        "    print(f'Found {len(ordered_image_ids)} unique test image ids.')\n",
        "    # Precompute outputs\n",
        "    cache = {}\n",
        "    for idx, img_id in enumerate(ordered_image_ids):\n",
        "        img_path = TEST_DIR / f'{img_id}.png'\n",
        "        print(f'[{idx+1}/{len(ordered_image_ids)}] Processing {img_path} ...', flush=True)\n",
        "        img_u8 = read_gray_uint8(img_path)\n",
        "        den_u8 = pipeline_div_nlm_ext(img_u8, ksize_bg=31, h=h, tmpl=tmpl, srch=srch, post_gauss=0)\n",
        "        cache[img_id] = to_float01(den_u8)\n",
        "    # Write full precision floats\n",
        "    import csv\n",
        "    print('Writing predictions to CSV in sample order (full precision floats)...')\n",
        "    with open(out_path, 'w', newline='') as f_out:\n",
        "        writer = csv.writer(f_out)\n",
        "        writer.writerow(['id', 'value'])\n",
        "        for chunk in pd.read_csv(SAMPLE_SUB_PATH, chunksize=200000):\n",
        "            rows = []\n",
        "            for s in chunk['id'].astype(str).values:\n",
        "                img_id, r, c = parse_id_triplet(s)\n",
        "                val = float(np.clip(cache[img_id][r-1, c-1], 0.0, 1.0))\n",
        "                rows.append((s, val))\n",
        "            writer.writerows(rows)\n",
        "    print(f'Wrote: {out_path}')\n",
        "\n",
        "# Use best ext params discovered earlier (h=14, tmpl=5, srch=31)\n",
        "generate_submission_div_nlm_ext_fullprecision(h=14, tmpl=5, srch=31, out_path='submission.csv')"
      ],
      "execution_count": 12,
      "outputs": [
        {
          "output_type": "stream",
          "name": "stdout",
          "text": [
            "Generating submission (full precision) with h=14, tmpl=5, srch=31 -> submission.csv\n"
          ]
        },
        {
          "output_type": "stream",
          "name": "stdout",
          "text": [
            "Found 29 unique test image ids.\n[1/29] Processing test/110.png ...\n"
          ]
        },
        {
          "output_type": "stream",
          "name": "stdout",
          "text": [
            "[2/29] Processing test/111.png ...\n"
          ]
        },
        {
          "output_type": "stream",
          "name": "stdout",
          "text": [
            "[3/29] Processing test/122.png ...\n"
          ]
        },
        {
          "output_type": "stream",
          "name": "stdout",
          "text": [
            "[4/29] Processing test/131.png ...\n"
          ]
        },
        {
          "output_type": "stream",
          "name": "stdout",
          "text": [
            "[5/29] Processing test/134.png ...\n"
          ]
        },
        {
          "output_type": "stream",
          "name": "stdout",
          "text": [
            "[6/29] Processing test/137.png ...\n"
          ]
        },
        {
          "output_type": "stream",
          "name": "stdout",
          "text": [
            "[7/29] Processing test/146.png ...\n"
          ]
        },
        {
          "output_type": "stream",
          "name": "stdout",
          "text": [
            "[8/29] Processing test/150.png ...\n"
          ]
        },
        {
          "output_type": "stream",
          "name": "stdout",
          "text": [
            "[9/29] Processing test/155.png ...\n"
          ]
        },
        {
          "output_type": "stream",
          "name": "stdout",
          "text": [
            "[10/29] Processing test/159.png ...\n"
          ]
        },
        {
          "output_type": "stream",
          "name": "stdout",
          "text": [
            "[11/29] Processing test/162.png ...\n"
          ]
        },
        {
          "output_type": "stream",
          "name": "stdout",
          "text": [
            "[12/29] Processing test/170.png ...\n"
          ]
        },
        {
          "output_type": "stream",
          "name": "stdout",
          "text": [
            "[13/29] Processing test/174.png ...\n"
          ]
        },
        {
          "output_type": "stream",
          "name": "stdout",
          "text": [
            "[14/29] Processing test/180.png ...\n"
          ]
        },
        {
          "output_type": "stream",
          "name": "stdout",
          "text": [
            "[15/29] Processing test/186.png ...\n"
          ]
        },
        {
          "output_type": "stream",
          "name": "stdout",
          "text": [
            "[16/29] Processing test/216.png ...\n"
          ]
        },
        {
          "output_type": "stream",
          "name": "stdout",
          "text": [
            "[17/29] Processing test/26.png ...\n"
          ]
        },
        {
          "output_type": "stream",
          "name": "stdout",
          "text": [
            "[18/29] Processing test/35.png ...\n"
          ]
        },
        {
          "output_type": "stream",
          "name": "stdout",
          "text": [
            "[19/29] Processing test/36.png ...\n"
          ]
        },
        {
          "output_type": "stream",
          "name": "stdout",
          "text": [
            "[20/29] Processing test/42.png ...\n"
          ]
        },
        {
          "output_type": "stream",
          "name": "stdout",
          "text": [
            "[21/29] Processing test/54.png ...\n"
          ]
        },
        {
          "output_type": "stream",
          "name": "stdout",
          "text": [
            "[22/29] Processing test/6.png ...\n"
          ]
        },
        {
          "output_type": "stream",
          "name": "stdout",
          "text": [
            "[23/29] Processing test/62.png ...\n"
          ]
        },
        {
          "output_type": "stream",
          "name": "stdout",
          "text": [
            "[24/29] Processing test/68.png ...\n"
          ]
        },
        {
          "output_type": "stream",
          "name": "stdout",
          "text": [
            "[25/29] Processing test/77.png ...\n"
          ]
        },
        {
          "output_type": "stream",
          "name": "stdout",
          "text": [
            "[26/29] Processing test/78.png ...\n"
          ]
        },
        {
          "output_type": "stream",
          "name": "stdout",
          "text": [
            "[27/29] Processing test/8.png ...\n"
          ]
        },
        {
          "output_type": "stream",
          "name": "stdout",
          "text": [
            "[28/29] Processing test/80.png ...\n"
          ]
        },
        {
          "output_type": "stream",
          "name": "stdout",
          "text": [
            "[29/29] Processing test/95.png ...\n"
          ]
        },
        {
          "output_type": "stream",
          "name": "stdout",
          "text": [
            "Writing predictions to CSV in sample order (full precision floats)...\n"
          ]
        },
        {
          "output_type": "stream",
          "name": "stdout",
          "text": [
            "Wrote: submission.csv\n"
          ]
        }
      ]
    },
    {
      "id": "1489b874-1cfa-457f-a642-ed30f24e5074",
      "cell_type": "code",
      "metadata": {},
      "source": [
        "# Ensemble of divide+NLM variants (average multiple h values) to reduce RMSE\n",
        "import itertools\n",
        "\n",
        "def pipeline_div_nlm_ext_multi(img_u8: np.ndarray, hs: list[int], tmpl: int = 5, srch: int = 31, ksize_bg: int = 31) -> np.ndarray:\n",
        "    # Shared normalization\n",
        "    bg = estimate_background_median(img_u8, ksize=ksize_bg)\n",
        "    norm = normalize_divide(img_u8, bg)\n",
        "    acc = None\n",
        "    for h in hs:\n",
        "        den = cv2.fastNlMeansDenoising(norm, None, h=h, templateWindowSize=tmpl, searchWindowSize=srch)\n",
        "        if acc is None:\n",
        "            acc = den.astype(np.float32)\n",
        "        else:\n",
        "            acc += den.astype(np.float32)\n",
        "    out = (acc / len(hs)).clip(0, 255).astype(np.uint8)\n",
        "    return out\n",
        "\n",
        "def eval_ensemble_on_train(h_sets, tmpl: int = 5, srch: int = 31, ksize_bg: int = 31):\n",
        "    results = []\n",
        "    for hs in h_sets:\n",
        "        t0 = time.time()\n",
        "        errs = []\n",
        "        print(f'Ensemble eval hs={hs}, tmpl={tmpl}, srch={srch}')\n",
        "        for i, p in enumerate(train_files):\n",
        "            if i % 10 == 0:\n",
        "                print(f'  [hs={hs}] img {i+1}/{len(train_files)}', flush=True)\n",
        "            img = read_gray_uint8(p)\n",
        "            den = pipeline_div_nlm_ext_multi(img, hs=hs, tmpl=tmpl, srch=srch, ksize_bg=ksize_bg)\n",
        "            target = read_gray_uint8(TRAIN_CLEAN_DIR / p.name)\n",
        "            errs.append(rmse(to_float01(den), to_float01(target)))\n",
        "        mean_rmse = float(np.mean(errs))\n",
        "        med_rmse = float(np.median(errs))\n",
        "        print(f'  -> mean RMSE={mean_rmse:.6f}, median={med_rmse:.6f}, time={time.time()-t0:.1f}s')\n",
        "        results.append((tuple(hs), mean_rmse, med_rmse))\n",
        "    results.sort(key=lambda x: x[1])\n",
        "    print('Top ensembles by mean RMSE:')\n",
        "    for hs, m, md in results[:5]:\n",
        "        print(f'  hs={hs}: mean={m:.6f}, median={md:.6f}')\n",
        "    return results\n",
        "\n",
        "def generate_submission_ensemble(hs: list[int], tmpl: int = 5, srch: int = 31, out_path: str = 'submission.csv'):\n",
        "    print(f'Generating ensemble submission with hs={hs}, tmpl={tmpl}, srch={srch} -> {out_path}')\n",
        "    # Ordered unique image ids from sample\n",
        "    sample_iter = pd.read_csv(SAMPLE_SUB_PATH, chunksize=200000)\n",
        "    ordered_image_ids = []\n",
        "    seen = set()\n",
        "    for chunk in sample_iter:\n",
        "        for s in chunk['id'].astype(str).values:\n",
        "            img_id, r, c = parse_id_triplet(s)\n",
        "            if img_id not in seen:\n",
        "                seen.add(img_id)\n",
        "                ordered_image_ids.append(img_id)\n",
        "    print(f'Found {len(ordered_image_ids)} unique test image ids.')\n",
        "    cache = {}\n",
        "    for idx, img_id in enumerate(ordered_image_ids):\n",
        "        img_path = TEST_DIR / f'{img_id}.png'\n",
        "        print(f'[{idx+1}/{len(ordered_image_ids)}] Processing {img_path} ...', flush=True)\n",
        "        img_u8 = read_gray_uint8(img_path)\n",
        "        den_u8 = pipeline_div_nlm_ext_multi(img_u8, hs=hs, tmpl=tmpl, srch=srch, ksize_bg=31)\n",
        "        cache[img_id] = to_float01(den_u8)\n",
        "    # Write full precision floats\n",
        "    import csv\n",
        "    print('Writing predictions to CSV in sample order (full precision floats)...')\n",
        "    with open(out_path, 'w', newline='') as f_out:\n",
        "        writer = csv.writer(f_out)\n",
        "        writer.writerow(['id', 'value'])\n",
        "        for chunk in pd.read_csv(SAMPLE_SUB_PATH, chunksize=200000):\n",
        "            rows = []\n",
        "            for s in chunk['id'].astype(str).values:\n",
        "                img_id, r, c = parse_id_triplet(s)\n",
        "                val = float(np.clip(cache[img_id][r-1, c-1], 0.0, 1.0))\n",
        "                rows.append((s, val))\n",
        "            writer.writerows(rows)\n",
        "    print(f'Wrote: {out_path}')\n",
        "\n",
        "# Evaluate a few ensemble sets (expect small gains ~0.001-0.003):\n",
        "h_sets = [\n",
        "    [12, 14],\n",
        "    [14, 16],\n",
        "    [12, 14, 16],\n",
        "    [12, 14, 16, 18]\n",
        "]\n",
        "ens_results = eval_ensemble_on_train(h_sets, tmpl=5, srch=31, ksize_bg=31)\n",
        "best_hs, best_m, best_md = ens_results[0]\n",
        "print('Selected ensemble hs:', best_hs, 'mean:', best_m)\n",
        "# If best_m <= 0.045: generate_submission_ensemble(list(best_hs), tmpl=5, srch=31, out_path='submission.csv')"
      ],
      "execution_count": 13,
      "outputs": [
        {
          "output_type": "stream",
          "name": "stdout",
          "text": [
            "Ensemble eval hs=[12, 14], tmpl=5, srch=31\n  [hs=[12, 14]] img 1/115\n"
          ]
        },
        {
          "output_type": "stream",
          "name": "stdout",
          "text": [
            "  [hs=[12, 14]] img 11/115\n"
          ]
        },
        {
          "output_type": "stream",
          "name": "stdout",
          "text": [
            "  [hs=[12, 14]] img 21/115\n"
          ]
        },
        {
          "output_type": "stream",
          "name": "stdout",
          "text": [
            "  [hs=[12, 14]] img 31/115\n"
          ]
        },
        {
          "output_type": "stream",
          "name": "stdout",
          "text": [
            "  [hs=[12, 14]] img 41/115\n"
          ]
        },
        {
          "output_type": "stream",
          "name": "stdout",
          "text": [
            "  [hs=[12, 14]] img 51/115\n"
          ]
        },
        {
          "output_type": "stream",
          "name": "stdout",
          "text": [
            "  [hs=[12, 14]] img 61/115\n"
          ]
        },
        {
          "output_type": "stream",
          "name": "stdout",
          "text": [
            "  [hs=[12, 14]] img 71/115\n"
          ]
        },
        {
          "output_type": "stream",
          "name": "stdout",
          "text": [
            "  [hs=[12, 14]] img 81/115\n"
          ]
        },
        {
          "output_type": "stream",
          "name": "stdout",
          "text": [
            "  [hs=[12, 14]] img 91/115\n"
          ]
        },
        {
          "output_type": "stream",
          "name": "stdout",
          "text": [
            "  [hs=[12, 14]] img 101/115\n"
          ]
        },
        {
          "output_type": "stream",
          "name": "stdout",
          "text": [
            "  [hs=[12, 14]] img 111/115\n"
          ]
        },
        {
          "output_type": "stream",
          "name": "stdout",
          "text": [
            "  -> mean RMSE=0.049061, median=0.047617, time=74.9s\nEnsemble eval hs=[14, 16], tmpl=5, srch=31\n  [hs=[14, 16]] img 1/115\n"
          ]
        },
        {
          "output_type": "stream",
          "name": "stdout",
          "text": [
            "  [hs=[14, 16]] img 11/115\n"
          ]
        },
        {
          "output_type": "stream",
          "name": "stdout",
          "text": [
            "  [hs=[14, 16]] img 21/115\n"
          ]
        },
        {
          "output_type": "stream",
          "name": "stdout",
          "text": [
            "  [hs=[14, 16]] img 31/115\n"
          ]
        },
        {
          "output_type": "stream",
          "name": "stdout",
          "text": [
            "  [hs=[14, 16]] img 41/115\n"
          ]
        },
        {
          "output_type": "stream",
          "name": "stdout",
          "text": [
            "  [hs=[14, 16]] img 51/115\n"
          ]
        },
        {
          "output_type": "stream",
          "name": "stdout",
          "text": [
            "  [hs=[14, 16]] img 61/115\n"
          ]
        },
        {
          "output_type": "stream",
          "name": "stdout",
          "text": [
            "  [hs=[14, 16]] img 71/115\n"
          ]
        },
        {
          "output_type": "stream",
          "name": "stdout",
          "text": [
            "  [hs=[14, 16]] img 81/115\n"
          ]
        },
        {
          "output_type": "stream",
          "name": "stdout",
          "text": [
            "  [hs=[14, 16]] img 91/115\n"
          ]
        },
        {
          "output_type": "stream",
          "name": "stdout",
          "text": [
            "  [hs=[14, 16]] img 101/115\n"
          ]
        },
        {
          "output_type": "stream",
          "name": "stdout",
          "text": [
            "  [hs=[14, 16]] img 111/115\n"
          ]
        },
        {
          "output_type": "stream",
          "name": "stdout",
          "text": [
            "  -> mean RMSE=0.049055, median=0.047785, time=74.6s\nEnsemble eval hs=[12, 14, 16], tmpl=5, srch=31\n  [hs=[12, 14, 16]] img 1/115\n"
          ]
        },
        {
          "output_type": "stream",
          "name": "stdout",
          "text": [
            "  [hs=[12, 14, 16]] img 11/115\n"
          ]
        },
        {
          "output_type": "stream",
          "name": "stdout",
          "text": [
            "  [hs=[12, 14, 16]] img 21/115\n"
          ]
        },
        {
          "output_type": "stream",
          "name": "stdout",
          "text": [
            "  [hs=[12, 14, 16]] img 31/115\n"
          ]
        },
        {
          "output_type": "stream",
          "name": "stdout",
          "text": [
            "  [hs=[12, 14, 16]] img 41/115\n"
          ]
        },
        {
          "output_type": "stream",
          "name": "stdout",
          "text": [
            "  [hs=[12, 14, 16]] img 51/115\n"
          ]
        },
        {
          "output_type": "stream",
          "name": "stdout",
          "text": [
            "  [hs=[12, 14, 16]] img 61/115\n"
          ]
        },
        {
          "output_type": "stream",
          "name": "stdout",
          "text": [
            "  [hs=[12, 14, 16]] img 71/115\n"
          ]
        },
        {
          "output_type": "stream",
          "name": "stdout",
          "text": [
            "  [hs=[12, 14, 16]] img 81/115\n"
          ]
        },
        {
          "output_type": "stream",
          "name": "stdout",
          "text": [
            "  [hs=[12, 14, 16]] img 91/115\n"
          ]
        },
        {
          "output_type": "stream",
          "name": "stdout",
          "text": [
            "  [hs=[12, 14, 16]] img 101/115\n"
          ]
        },
        {
          "output_type": "stream",
          "name": "stdout",
          "text": [
            "  [hs=[12, 14, 16]] img 111/115\n"
          ]
        },
        {
          "output_type": "stream",
          "name": "stdout",
          "text": [
            "  -> mean RMSE=0.049060, median=0.047821, time=111.8s\nEnsemble eval hs=[12, 14, 16, 18], tmpl=5, srch=31\n  [hs=[12, 14, 16, 18]] img 1/115\n"
          ]
        },
        {
          "output_type": "stream",
          "name": "stdout",
          "text": [
            "  [hs=[12, 14, 16, 18]] img 11/115\n"
          ]
        },
        {
          "output_type": "stream",
          "name": "stdout",
          "text": [
            "  [hs=[12, 14, 16, 18]] img 21/115\n"
          ]
        },
        {
          "output_type": "stream",
          "name": "stdout",
          "text": [
            "  [hs=[12, 14, 16, 18]] img 31/115\n"
          ]
        },
        {
          "output_type": "stream",
          "name": "stdout",
          "text": [
            "  [hs=[12, 14, 16, 18]] img 41/115\n"
          ]
        },
        {
          "output_type": "stream",
          "name": "stdout",
          "text": [
            "  [hs=[12, 14, 16, 18]] img 51/115\n"
          ]
        },
        {
          "output_type": "stream",
          "name": "stdout",
          "text": [
            "  [hs=[12, 14, 16, 18]] img 61/115\n"
          ]
        },
        {
          "output_type": "stream",
          "name": "stdout",
          "text": [
            "  [hs=[12, 14, 16, 18]] img 71/115\n"
          ]
        },
        {
          "output_type": "stream",
          "name": "stdout",
          "text": [
            "  [hs=[12, 14, 16, 18]] img 81/115\n"
          ]
        },
        {
          "output_type": "stream",
          "name": "stdout",
          "text": [
            "  [hs=[12, 14, 16, 18]] img 91/115\n"
          ]
        },
        {
          "output_type": "stream",
          "name": "stdout",
          "text": [
            "  [hs=[12, 14, 16, 18]] img 101/115\n"
          ]
        },
        {
          "output_type": "stream",
          "name": "stdout",
          "text": [
            "  [hs=[12, 14, 16, 18]] img 111/115\n"
          ]
        },
        {
          "output_type": "stream",
          "name": "stdout",
          "text": [
            "  -> mean RMSE=0.049131, median=0.047834, time=148.7s\nTop ensembles by mean RMSE:\n  hs=(14, 16): mean=0.049055, median=0.047785\n  hs=(12, 14, 16): mean=0.049060, median=0.047821\n  hs=(12, 14): mean=0.049061, median=0.047617\n  hs=(12, 14, 16, 18): mean=0.049131, median=0.047834\nSelected ensemble hs: (14, 16) mean: 0.04905521061433398\n"
          ]
        }
      ]
    },
    {
      "id": "fa0221cc-d340-403a-827e-6ee354b72fa0",
      "cell_type": "code",
      "metadata": {},
      "source": [
        "# Per-image adaptive NLM h selection via robust noise estimate (MAD on high-pass) and RMSE-optimized thresholds\n",
        "import numpy as np\n",
        "\n",
        "def normalize_only(img_u8: np.ndarray, ksize_bg: int = 31) -> np.ndarray:\n",
        "    bg = estimate_background_median(img_u8, ksize=ksize_bg)\n",
        "    norm = normalize_divide(img_u8, bg)\n",
        "    return norm\n",
        "\n",
        "def estimate_sigma_mad(norm_u8: np.ndarray) -> float:\n",
        "    # robust noise proxy via Laplacian high-pass MAD\n",
        "    hp = cv2.Laplacian(norm_u8, cv2.CV_32F)\n",
        "    med = np.median(hp)\n",
        "    mad = np.median(np.abs(hp - med))\n",
        "    sigma_hat = float(mad * 1.4826)  # approx sigma for Gaussian\n",
        "    return sigma_hat\n",
        "\n",
        "def nlm_on_norm(norm_u8: np.ndarray, h: int, tmpl: int = 5, srch: int = 31) -> np.ndarray:\n",
        "    return cv2.fastNlMeansDenoising(norm_u8, None, h=h, templateWindowSize=tmpl, searchWindowSize=srch)\n",
        "\n",
        "def collect_per_image_errs(train_paths, h_candidates=(12,14,16), tmpl=5, srch=31, ksize_bg=31):\n",
        "    per_img = []  # list of dicts: {'path': p, 'sigma': sigma, 'errs': {h:err}, 'best_h': h, 'best_err': err}\n",
        "    for i, p in enumerate(train_paths):\n",
        "        if i % 10 == 0:\n",
        "            print(f'collect errs: {i+1}/{len(train_paths)}', flush=True)\n",
        "        img = read_gray_uint8(p)\n",
        "        norm = normalize_only(img, ksize_bg)\n",
        "        sigma = estimate_sigma_mad(norm)\n",
        "        target = read_gray_uint8(TRAIN_CLEAN_DIR / p.name)\n",
        "        target_f = to_float01(target)\n",
        "        errs_map = {}\n",
        "        best_h = None\n",
        "        best_err = 1e9\n",
        "        for h in h_candidates:\n",
        "            den = nlm_on_norm(norm, h=h, tmpl=tmpl, srch=srch)\n",
        "            err = rmse(to_float01(den), target_f)\n",
        "            errs_map[h] = err\n",
        "            if err < best_err:\n",
        "                best_err = err\n",
        "                best_h = h\n",
        "        per_img.append({'path': p, 'sigma': sigma, 'errs': errs_map, 'best_h': best_h, 'best_err': best_err})\n",
        "    mean_oracle = float(np.mean([d['best_err'] for d in per_img]))\n",
        "    print('Mean RMSE of oracle per-image best-h:', mean_oracle)\n",
        "    return per_img\n",
        "\n",
        "def fit_sigma_thresholds_min_rmse(per_img, h_candidates=(12,14,16)):\n",
        "    sigmas = np.array([d['sigma'] for d in per_img], dtype=np.float32)\n",
        "    # percentile candidate cut points\n",
        "    pcts = np.percentile(sigmas, [20, 30, 40, 50, 60, 70, 80])\n",
        "    best = None  # (mean_rmse, t1, t2)\n",
        "    for i in range(len(pcts)):\n",
        "        for j in range(i+1, len(pcts)):\n",
        "            t1, t2 = float(pcts[i]), float(pcts[j])\n",
        "            errs = []\n",
        "            for d in per_img:\n",
        "                s = d['sigma']\n",
        "                if s < t1:\n",
        "                    h = h_candidates[0]\n",
        "                elif s < t2:\n",
        "                    h = h_candidates[1]\n",
        "                else:\n",
        "                    h = h_candidates[2]\n",
        "                errs.append(d['errs'][h])\n",
        "            mean_rmse = float(np.mean(errs))\n",
        "            if best is None or mean_rmse < best[0]:\n",
        "                best = (mean_rmse, t1, t2)\n",
        "    print(f'Best thresholds by RMSE: mean={best[0]:.6f} at t1={best[1]:.6f}, t2={best[2]:.6f}')\n",
        "    return best[1], best[2], best[0]\n",
        "\n",
        "def eval_threshold_assignment_from_cache(per_img, t1: float, t2: float, h_candidates=(12,14,16)):\n",
        "    errs = []\n",
        "    for d in per_img:\n",
        "        s = d['sigma']\n",
        "        if s < t1:\n",
        "            h = h_candidates[0]\n",
        "        elif s < t2:\n",
        "            h = h_candidates[1]\n",
        "        else:\n",
        "            h = h_candidates[2]\n",
        "        errs.append(d['errs'][h])\n",
        "    mean_rmse = float(np.mean(errs))\n",
        "    med_rmse = float(np.median(errs))\n",
        "    print(f'Cached threshold-assignment RMSE -> mean={mean_rmse:.6f}, median={med_rmse:.6f}')\n",
        "    return mean_rmse, med_rmse\n",
        "\n",
        "def generate_submission_per_image_h(t1: float, t2: float, h_candidates=(12,14,16), tmpl=5, srch=31, out_path='submission.csv', ksize_bg: int = 31, post_median: int = 0):\n",
        "    print(f'Generating per-image-h submission with t1={t1:.6f}, t2={t2:.6f}, hs={h_candidates} -> {out_path}')\n",
        "    # Ordered unique image ids from sample\n",
        "    sample_iter = pd.read_csv(SAMPLE_SUB_PATH, chunksize=200000)\n",
        "    ordered_image_ids = []\n",
        "    seen = set()\n",
        "    for chunk in sample_iter:\n",
        "        for s in chunk['id'].astype(str).values:\n",
        "            img_id, r, c = parse_id_triplet(s)\n",
        "            if img_id not in seen:\n",
        "                seen.add(img_id)\n",
        "                ordered_image_ids.append(img_id)\n",
        "    print(f'Found {len(ordered_image_ids)} unique test image ids.')\n",
        "    cache = {}\n",
        "    for idx, img_id in enumerate(ordered_image_ids):\n",
        "        img_path = TEST_DIR / f'{img_id}.png'\n",
        "        print(f'[{idx+1}/{len(ordered_image_ids)}] Processing {img_path} ...', flush=True)\n",
        "        img_u8 = read_gray_uint8(img_path)\n",
        "        norm = normalize_only(img_u8, ksize_bg)\n",
        "        sigma = estimate_sigma_mad(norm)\n",
        "        if sigma < t1:\n",
        "            h = h_candidates[0]\n",
        "        elif sigma < t2:\n",
        "            h = h_candidates[1]\n",
        "        else:\n",
        "            h = h_candidates[2]\n",
        "        den_u8 = nlm_on_norm(norm, h=h, tmpl=tmpl, srch=srch)\n",
        "        if post_median and post_median > 1:\n",
        "            k = post_median if post_median % 2 == 1 else post_median + 1\n",
        "            den_u8 = cv2.medianBlur(den_u8, k)\n",
        "        cache[img_id] = to_float01(den_u8)\n",
        "    # Write with 5 decimals to reduce file size\n",
        "    import csv\n",
        "    print('Writing predictions to CSV in sample order (5 decimals)...')\n",
        "    with open(out_path, 'w', newline='') as f_out:\n",
        "        writer = csv.writer(f_out)\n",
        "        writer.writerow(['id', 'value'])\n",
        "        for chunk in pd.read_csv(SAMPLE_SUB_PATH, chunksize=200000):\n",
        "            rows = []\n",
        "            for s in chunk['id'].astype(str).values:\n",
        "                img_id, r, c = parse_id_triplet(s)\n",
        "                val = float(np.clip(cache[img_id][r-1, c-1], 0.0, 1.0))\n",
        "                rows.append((s, f'{val:.5f}'))\n",
        "            writer.writerows(rows)\n",
        "    print(f'Wrote: {out_path}')\n",
        "\n",
        "# Execute adaptive pipeline on train to set thresholds\n",
        "h_candidates = (12, 14, 16)\n",
        "per_img = collect_per_image_errs(train_files, h_candidates=h_candidates, tmpl=5, srch=31, ksize_bg=31)\n",
        "t1, t2, best_mean = fit_sigma_thresholds_min_rmse(per_img, h_candidates=h_candidates)\n",
        "mean_rmse_th, med_rmse_th = eval_threshold_assignment_from_cache(per_img, t1, t2, h_candidates=h_candidates)\n",
        "print('Thresholds:', t1, t2, ' -> mean RMSE:', mean_rmse_th, 'median RMSE:', med_rmse_th)\n",
        "# If improved, generate per-image-h submission (5 decimals to fit size limits)\n",
        "# generate_submission_per_image_h(t1, t2, h_candidates=h_candidates, tmpl=5, srch=31, out_path='submission.csv', ksize_bg=31, post_median=3)"
      ],
      "execution_count": 14,
      "outputs": [
        {
          "output_type": "stream",
          "name": "stdout",
          "text": [
            "collect errs: 1/115\n"
          ]
        },
        {
          "output_type": "stream",
          "name": "stdout",
          "text": [
            "collect errs: 11/115\n"
          ]
        },
        {
          "output_type": "stream",
          "name": "stdout",
          "text": [
            "collect errs: 21/115\n"
          ]
        },
        {
          "output_type": "stream",
          "name": "stdout",
          "text": [
            "collect errs: 31/115\n"
          ]
        },
        {
          "output_type": "stream",
          "name": "stdout",
          "text": [
            "collect errs: 41/115\n"
          ]
        },
        {
          "output_type": "stream",
          "name": "stdout",
          "text": [
            "collect errs: 51/115\n"
          ]
        },
        {
          "output_type": "stream",
          "name": "stdout",
          "text": [
            "collect errs: 61/115\n"
          ]
        },
        {
          "output_type": "stream",
          "name": "stdout",
          "text": [
            "collect errs: 71/115\n"
          ]
        },
        {
          "output_type": "stream",
          "name": "stdout",
          "text": [
            "collect errs: 81/115\n"
          ]
        },
        {
          "output_type": "stream",
          "name": "stdout",
          "text": [
            "collect errs: 91/115\n"
          ]
        },
        {
          "output_type": "stream",
          "name": "stdout",
          "text": [
            "collect errs: 101/115\n"
          ]
        },
        {
          "output_type": "stream",
          "name": "stdout",
          "text": [
            "collect errs: 111/115\n"
          ]
        },
        {
          "output_type": "stream",
          "name": "stdout",
          "text": [
            "Mean RMSE of oracle per-image best-h: 0.04879453768548758\nBest thresholds by RMSE: mean=0.049165 at t1=8.895600, t2=11.860800\nCached threshold-assignment RMSE -> mean=0.049165, median=0.047885\nThresholds: 8.895600318908691 11.860799789428711  -> mean RMSE: 0.049164921644589174 median RMSE: 0.04788483306765556\n"
          ]
        }
      ]
    },
    {
      "id": "aba543a3-2dfc-4ff0-9c3c-44cf769520c1",
      "cell_type": "code",
      "metadata": {},
      "source": [
        "# Evaluate tiny post-median blur after best divide+NLM to see if RMSE improves\n",
        "def pipeline_div_nlm_with_post_median(img_u8: np.ndarray, ksize_bg: int = 31, h: int = 14, tmpl: int = 5, srch: int = 31, post_median: int = 3) -> np.ndarray:\n",
        "    bg = estimate_background_median(img_u8, ksize=ksize_bg)\n",
        "    norm = normalize_divide(img_u8, bg)\n",
        "    den = cv2.fastNlMeansDenoising(norm, None, h=h, templateWindowSize=tmpl, searchWindowSize=srch)\n",
        "    if post_median and post_median > 1:\n",
        "        k = post_median if post_median % 2 == 1 else post_median + 1\n",
        "        den = cv2.medianBlur(den, k)\n",
        "    return den\n",
        "\n",
        "def eval_post_median_on_train(ksize_bg: int = 31, h: int = 14, tmpl: int = 5, srch: int = 31, post_median: int = 3):\n",
        "    errs = []\n",
        "    t0 = time.time()\n",
        "    print(f'Evaluating post-median={post_median} after NLM (h={h}, tmpl={tmpl}, srch={srch})')\n",
        "    for i, p in enumerate(train_files):\n",
        "        if i % 10 == 0:\n",
        "            print(f'  img {i+1}/{len(train_files)} elapsed {time.time()-t0:.1f}s', flush=True)\n",
        "        img = read_gray_uint8(p)\n",
        "        den = pipeline_div_nlm_with_post_median(img, ksize_bg=ksize_bg, h=h, tmpl=tmpl, srch=srch, post_median=post_median)\n",
        "        target = read_gray_uint8(TRAIN_CLEAN_DIR / p.name)\n",
        "        errs.append(rmse(to_float01(den), to_float01(target)))\n",
        "    mean_rmse = float(np.mean(errs))\n",
        "    med_rmse = float(np.median(errs))\n",
        "    print(f'Post-median={post_median} -> mean RMSE={mean_rmse:.6f}, median RMSE={med_rmse:.6f}, time={time.time()-t0:.1f}s')\n",
        "    return mean_rmse, med_rmse\n",
        "\n",
        "# Run evaluation for post-median=3\n",
        "post3_mean, post3_med = eval_post_median_on_train(ksize_bg=31, h=14, tmpl=5, srch=31, post_median=3)\n",
        "print('Baseline best mean RMSE without post-median ~0.049001 for reference')"
      ],
      "execution_count": 15,
      "outputs": [
        {
          "output_type": "stream",
          "name": "stdout",
          "text": [
            "Evaluating post-median=3 after NLM (h=14, tmpl=5, srch=31)\n  img 1/115 elapsed 0.0s\n"
          ]
        },
        {
          "output_type": "stream",
          "name": "stdout",
          "text": [
            "  img 11/115 elapsed 3.7s\n"
          ]
        },
        {
          "output_type": "stream",
          "name": "stdout",
          "text": [
            "  img 21/115 elapsed 7.4s\n"
          ]
        },
        {
          "output_type": "stream",
          "name": "stdout",
          "text": [
            "  img 31/115 elapsed 11.2s\n"
          ]
        },
        {
          "output_type": "stream",
          "name": "stdout",
          "text": [
            "  img 41/115 elapsed 14.8s\n"
          ]
        },
        {
          "output_type": "stream",
          "name": "stdout",
          "text": [
            "  img 51/115 elapsed 17.9s\n"
          ]
        },
        {
          "output_type": "stream",
          "name": "stdout",
          "text": [
            "  img 61/115 elapsed 21.0s\n"
          ]
        },
        {
          "output_type": "stream",
          "name": "stdout",
          "text": [
            "  img 71/115 elapsed 24.1s\n"
          ]
        },
        {
          "output_type": "stream",
          "name": "stdout",
          "text": [
            "  img 81/115 elapsed 27.2s\n"
          ]
        },
        {
          "output_type": "stream",
          "name": "stdout",
          "text": [
            "  img 91/115 elapsed 30.3s\n"
          ]
        },
        {
          "output_type": "stream",
          "name": "stdout",
          "text": [
            "  img 101/115 elapsed 33.5s\n"
          ]
        },
        {
          "output_type": "stream",
          "name": "stdout",
          "text": [
            "  img 111/115 elapsed 36.6s\n"
          ]
        },
        {
          "output_type": "stream",
          "name": "stdout",
          "text": [
            "Post-median=3 -> mean RMSE=0.133014, median RMSE=0.138533, time=38.2s\nBaseline best mean RMSE without post-median ~0.049001 for reference\n"
          ]
        }
      ]
    },
    {
      "id": "809aaf8d-d8fd-4fe5-8eb0-64f79a78860d",
      "cell_type": "code",
      "metadata": {},
      "source": [
        "# Generate 5-decimal submission using best fixed divide+NLM params to reduce file size\n",
        "def generate_submission_div_nlm_ext_decimals(h: int, tmpl: int, srch: int, out_path: str = 'submission.csv', decimals: int = 5):\n",
        "    fmt = '{:.' + str(decimals) + 'f}'\n",
        "    print(f'Generating submission (fixed decimals={decimals}) with h={h}, tmpl={tmpl}, srch={srch} -> {out_path}')\n",
        "    sample_iter = pd.read_csv(SAMPLE_SUB_PATH, chunksize=200000)\n",
        "    ordered_image_ids = []\n",
        "    seen = set()\n",
        "    for chunk in sample_iter:\n",
        "        for s in chunk['id'].astype(str).values:\n",
        "            img_id, r, c = parse_id_triplet(s)\n",
        "            if img_id not in seen:\n",
        "                seen.add(img_id)\n",
        "                ordered_image_ids.append(img_id)\n",
        "    print(f'Found {len(ordered_image_ids)} unique test image ids.')\n",
        "    cache = {}\n",
        "    for idx, img_id in enumerate(ordered_image_ids):\n",
        "        img_path = TEST_DIR / f'{img_id}.png'\n",
        "        print(f'[{idx+1}/{len(ordered_image_ids)}] Processing {img_path} ...', flush=True)\n",
        "        img_u8 = read_gray_uint8(img_path)\n",
        "        den_u8 = pipeline_div_nlm_ext(img_u8, ksize_bg=31, h=h, tmpl=tmpl, srch=srch, post_gauss=0)\n",
        "        cache[img_id] = to_float01(den_u8)\n",
        "    import csv\n",
        "    print(f'Writing predictions to CSV in sample order ({decimals} decimals)...')\n",
        "    with open(out_path, 'w', newline='') as f_out:\n",
        "        writer = csv.writer(f_out)\n",
        "        writer.writerow(['id', 'value'])\n",
        "        for chunk in pd.read_csv(SAMPLE_SUB_PATH, chunksize=200000):\n",
        "            rows = []\n",
        "            for s in chunk['id'].astype(str).values:\n",
        "                img_id, r, c = parse_id_triplet(s)\n",
        "                val = float(np.clip(cache[img_id][r-1, c-1], 0.0, 1.0))\n",
        "                rows.append((s, fmt.format(val)))\n",
        "            writer.writerows(rows)\n",
        "    print(f'Wrote: {out_path}')\n",
        "\n",
        "# Create 5-decimal submission for best ext params\n",
        "generate_submission_div_nlm_ext_decimals(h=14, tmpl=5, srch=31, out_path='submission.csv', decimals=5)"
      ],
      "execution_count": 16,
      "outputs": [
        {
          "output_type": "stream",
          "name": "stdout",
          "text": [
            "Generating submission (fixed decimals=5) with h=14, tmpl=5, srch=31 -> submission.csv\n"
          ]
        },
        {
          "output_type": "stream",
          "name": "stdout",
          "text": [
            "Found 29 unique test image ids.\n[1/29] Processing test/110.png ...\n"
          ]
        },
        {
          "output_type": "stream",
          "name": "stdout",
          "text": [
            "[2/29] Processing test/111.png ...\n"
          ]
        },
        {
          "output_type": "stream",
          "name": "stdout",
          "text": [
            "[3/29] Processing test/122.png ...\n"
          ]
        },
        {
          "output_type": "stream",
          "name": "stdout",
          "text": [
            "[4/29] Processing test/131.png ...\n"
          ]
        },
        {
          "output_type": "stream",
          "name": "stdout",
          "text": [
            "[5/29] Processing test/134.png ...\n"
          ]
        },
        {
          "output_type": "stream",
          "name": "stdout",
          "text": [
            "[6/29] Processing test/137.png ...\n"
          ]
        },
        {
          "output_type": "stream",
          "name": "stdout",
          "text": [
            "[7/29] Processing test/146.png ...\n"
          ]
        },
        {
          "output_type": "stream",
          "name": "stdout",
          "text": [
            "[8/29] Processing test/150.png ...\n"
          ]
        },
        {
          "output_type": "stream",
          "name": "stdout",
          "text": [
            "[9/29] Processing test/155.png ...\n"
          ]
        },
        {
          "output_type": "stream",
          "name": "stdout",
          "text": [
            "[10/29] Processing test/159.png ...\n"
          ]
        },
        {
          "output_type": "stream",
          "name": "stdout",
          "text": [
            "[11/29] Processing test/162.png ...\n"
          ]
        },
        {
          "output_type": "stream",
          "name": "stdout",
          "text": [
            "[12/29] Processing test/170.png ...\n"
          ]
        },
        {
          "output_type": "stream",
          "name": "stdout",
          "text": [
            "[13/29] Processing test/174.png ...\n"
          ]
        },
        {
          "output_type": "stream",
          "name": "stdout",
          "text": [
            "[14/29] Processing test/180.png ...\n"
          ]
        },
        {
          "output_type": "stream",
          "name": "stdout",
          "text": [
            "[15/29] Processing test/186.png ...\n"
          ]
        },
        {
          "output_type": "stream",
          "name": "stdout",
          "text": [
            "[16/29] Processing test/216.png ...\n"
          ]
        },
        {
          "output_type": "stream",
          "name": "stdout",
          "text": [
            "[17/29] Processing test/26.png ...\n"
          ]
        },
        {
          "output_type": "stream",
          "name": "stdout",
          "text": [
            "[18/29] Processing test/35.png ...\n"
          ]
        },
        {
          "output_type": "stream",
          "name": "stdout",
          "text": [
            "[19/29] Processing test/36.png ...\n"
          ]
        },
        {
          "output_type": "stream",
          "name": "stdout",
          "text": [
            "[20/29] Processing test/42.png ...\n"
          ]
        },
        {
          "output_type": "stream",
          "name": "stdout",
          "text": [
            "[21/29] Processing test/54.png ...\n"
          ]
        },
        {
          "output_type": "stream",
          "name": "stdout",
          "text": [
            "[22/29] Processing test/6.png ...\n"
          ]
        },
        {
          "output_type": "stream",
          "name": "stdout",
          "text": [
            "[23/29] Processing test/62.png ...\n"
          ]
        },
        {
          "output_type": "stream",
          "name": "stdout",
          "text": [
            "[24/29] Processing test/68.png ...\n"
          ]
        },
        {
          "output_type": "stream",
          "name": "stdout",
          "text": [
            "[25/29] Processing test/77.png ...\n"
          ]
        },
        {
          "output_type": "stream",
          "name": "stdout",
          "text": [
            "[26/29] Processing test/78.png ...\n"
          ]
        },
        {
          "output_type": "stream",
          "name": "stdout",
          "text": [
            "[27/29] Processing test/8.png ...\n"
          ]
        },
        {
          "output_type": "stream",
          "name": "stdout",
          "text": [
            "[28/29] Processing test/80.png ...\n"
          ]
        },
        {
          "output_type": "stream",
          "name": "stdout",
          "text": [
            "[29/29] Processing test/95.png ...\n"
          ]
        },
        {
          "output_type": "stream",
          "name": "stdout",
          "text": [
            "Writing predictions to CSV in sample order (5 decimals)...\n"
          ]
        },
        {
          "output_type": "stream",
          "name": "stdout",
          "text": [
            "Wrote: submission.csv\n"
          ]
        }
      ]
    },
    {
      "id": "82dd9d0a-6756-4d29-87f5-3584ca52d682",
      "cell_type": "code",
      "metadata": {},
      "source": [
        "# BM3D implementation: replace NLM with BM3D on normalized float images\n",
        "%pip install -q bm3d\n",
        "import bm3d\n",
        "\n",
        "def normalize_divide_float(img_u8: np.ndarray, ksize_bg: int = 31) -> np.ndarray:\n",
        "    bg = estimate_background_median(img_u8, ksize=ksize_bg)\n",
        "    bg_safe = bg.copy()\n",
        "    bg_safe[bg_safe < 1] = 1\n",
        "    norm_u8 = cv2.divide(img_u8, bg_safe, scale=255)  # uint8\n",
        "    norm_f = norm_u8.astype(np.float32) / 255.0\n",
        "    return norm_f\n",
        "\n",
        "def estimate_sigma_mad_float(norm_f: np.ndarray) -> float:\n",
        "    hp = cv2.Laplacian(norm_f, cv2.CV_32F)\n",
        "    med = float(np.median(hp))\n",
        "    mad = float(np.median(np.abs(hp - med)))\n",
        "    sigma_hat = 1.4826 * mad\n",
        "    return float(np.clip(sigma_hat, 0.03, 0.12))\n",
        "\n",
        "def pipeline_div_bm3d(img_u8: np.ndarray, ksize_bg: int = 31, sigma_psd: float = 0.06) -> np.ndarray:\n",
        "    norm_f = normalize_divide_float(img_u8, ksize_bg=ksize_bg)\n",
        "    den_f = bm3d.bm3d(norm_f, sigma_psd=sigma_psd, stage_arg=bm3d.BM3DStages.ALL_STAGES)\n",
        "    den_f = np.clip(den_f, 0.0, 1.0).astype(np.float32)\n",
        "    return den_f\n",
        "\n",
        "def eval_bm3d_global_sigma_on_train(sigmas: list[float], ksize_bg: int = 31):\n",
        "    results = []\n",
        "    for si, s in enumerate(sigmas, start=1):\n",
        "        errs = []\n",
        "        t0 = time.time()\n",
        "        print(f'[BM3D global] sigma={s:.4f}')\n",
        "        for i, p in enumerate(train_files):\n",
        "            if i % 10 == 0:\n",
        "                print(f'  sigma={s:.4f} img {i+1}/{len(train_files)} elapsed {time.time()-t0:.1f}s', flush=True)\n",
        "            img = read_gray_uint8(p)\n",
        "            den_f = pipeline_div_bm3d(img, ksize_bg=ksize_bg, sigma_psd=s)\n",
        "            target_f = to_float01(read_gray_uint8(TRAIN_CLEAN_DIR / p.name))\n",
        "            errs.append(rmse(den_f, target_f))\n",
        "        mean_rmse = float(np.mean(errs))\n",
        "        med_rmse = float(np.median(errs))\n",
        "        print(f'  -> mean RMSE={mean_rmse:.6f}, median={med_rmse:.6f}, time={time.time()-t0:.1f}s')\n",
        "        results.append((s, mean_rmse, med_rmse))\n",
        "    results.sort(key=lambda x: x[1])\n",
        "    print('Top BM3D global sigmas by mean RMSE:')\n",
        "    for s, m, md in results[:5]:\n",
        "        print(f'  sigma={s:.4f}: mean={m:.6f}, median={md:.6f}')\n",
        "    return results\n",
        "\n",
        "def eval_bm3d_per_image_sigma_on_train(factors=(0.8, 1.0, 1.2), ksize_bg: int = 31):\n",
        "    # For each image, estimate sigma_hat via MAD on Laplacian of norm_f, then test multipliers\n",
        "    sums = {f: 0.0 for f in factors}\n",
        "    counts = 0\n",
        "    t0_all = time.time()\n",
        "    for i, p in enumerate(train_files):\n",
        "        if i % 10 == 0:\n",
        "            print(f'[BM3D per-image] img {i+1}/{len(train_files)} elapsed {time.time()-t0_all:.1f}s', flush=True)\n",
        "        img = read_gray_uint8(p)\n",
        "        norm_f = normalize_divide_float(img, ksize_bg=ksize_bg)\n",
        "        sigma_hat = estimate_sigma_mad_float(norm_f)\n",
        "        target_f = to_float01(read_gray_uint8(TRAIN_CLEAN_DIR / p.name))\n",
        "        for f in factors:\n",
        "            sigma = float(np.clip(sigma_hat * f, 0.03, 0.12))\n",
        "            den_f = bm3d.bm3d(norm_f, sigma_psd=sigma, stage_arg=bm3d.BM3DStages.ALL_STAGES)\n",
        "            den_f = np.clip(den_f, 0.0, 1.0).astype(np.float32)\n",
        "            err = rmse(den_f, target_f)\n",
        "            sums[f] += err\n",
        "        counts += 1\n",
        "    results = []\n",
        "    for f in factors:\n",
        "        mean_rmse = float(sums[f] / counts)\n",
        "        results.append((f, mean_rmse))\n",
        "    results.sort(key=lambda x: x[1])\n",
        "    print('BM3D per-image sigma (MAD) multipliers by mean RMSE:')\n",
        "    for f, m in results:\n",
        "        print(f'  factor={f:.2f}: mean={m:.6f}')\n",
        "    return results\n",
        "\n",
        "def generate_submission_bm3d(out_path='submission.csv', decimals: int = 5, ksize_bg: int = 31,\n",
        "                              mode: str = 'per_image', global_sigma: float = 0.06, factor: float = 1.0):\n",
        "    assert mode in ('per_image', 'global')\n",
        "    fmt = '{:.' + str(decimals) + 'f}'\n",
        "    # Ordered unique image ids from sample\n",
        "    sample_iter = pd.read_csv(SAMPLE_SUB_PATH, chunksize=200000)\n",
        "    ordered_image_ids = []\n",
        "    seen = set()\n",
        "    for chunk in sample_iter:\n",
        "        for s in chunk['id'].astype(str).values:\n",
        "            img_id, r, c = parse_id_triplet(s)\n",
        "            if img_id not in seen:\n",
        "                seen.add(img_id)\n",
        "                ordered_image_ids.append(img_id)\n",
        "    print(f'[BM3D submit] Found {len(ordered_image_ids)} unique test image ids.')\n",
        "    cache = {}\n",
        "    t0 = time.time()\n",
        "    for idx, img_id in enumerate(ordered_image_ids):\n",
        "        img_path = TEST_DIR / f'{img_id}.png'\n",
        "        print(f'[{idx+1}/{len(ordered_image_ids)}] {img_path}', flush=True)\n",
        "        img_u8 = read_gray_uint8(img_path)\n",
        "        norm_f = normalize_divide_float(img_u8, ksize_bg=ksize_bg)\n",
        "        if mode == 'per_image':\n",
        "            sigma_hat = estimate_sigma_mad_float(norm_f)\n",
        "            sigma = float(np.clip(sigma_hat * factor, 0.03, 0.12))\n",
        "        else:\n",
        "            sigma = float(global_sigma)\n",
        "        den_f = bm3d.bm3d(norm_f, sigma_psd=sigma, stage_arg=bm3d.BM3DStages.ALL_STAGES)\n",
        "        den_f = np.clip(den_f, 0.0, 1.0).astype(np.float32)\n",
        "        cache[img_id] = den_f\n",
        "    print('Writing BM3D predictions to CSV in sample order (fixed decimals)...')\n",
        "    import csv\n",
        "    with open(out_path, 'w', newline='') as f_out:\n",
        "        writer = csv.writer(f_out)\n",
        "        writer.writerow(['id', 'value'])\n",
        "        for chunk in pd.read_csv(SAMPLE_SUB_PATH, chunksize=200000):\n",
        "            rows = []\n",
        "            for s in chunk['id'].astype(str).values:\n",
        "                img_id, r, c = parse_id_triplet(s)\n",
        "                val = float(np.clip(cache[img_id][r-1, c-1], 0.0, 1.0))\n",
        "                rows.append((s, fmt.format(val)))\n",
        "            writer.writerows(rows)\n",
        "    print(f'Wrote: {out_path}')\n",
        "\n",
        "# Run BM3D evaluations: first quick global, then per-image multipliers\n",
        "global_sigmas = [0.04, 0.05, 0.06, 0.07, 0.08]\n",
        "bm3d_global_results = eval_bm3d_global_sigma_on_train(global_sigmas, ksize_bg=31)\n",
        "per_image_results = eval_bm3d_per_image_sigma_on_train(factors=(0.8, 1.0, 1.2), ksize_bg=31)\n",
        "best_global_sigma = bm3d_global_results[0][0]\n",
        "best_factor = per_image_results[0][0]\n",
        "print('Best BM3D global sigma:', best_global_sigma)\n",
        "print('Best BM3D per-image factor:', best_factor)\n",
        "# After choosing, generate submission (per-image preferred):\n",
        "# generate_submission_bm3d(out_path='submission.csv', decimals=5, ksize_bg=31, mode='per_image', factor=best_factor)\n",
        "# Or, for global: generate_submission_bm3d(out_path='submission.csv', decimals=5, ksize_bg=31, mode='global', global_sigma=best_global_sigma)"
      ],
      "execution_count": 17,
      "outputs": [
        {
          "output_type": "stream",
          "name": "stderr",
          "text": [
            "WARNING: Target directory /app/.pip-target/numpy.libs already exists. Specify --upgrade to force replacement.\nWARNING: Target directory /app/.pip-target/numpy-1.26.4.dist-info already exists. Specify --upgrade to force replacement.\nWARNING: Target directory /app/.pip-target/numpy already exists. Specify --upgrade to force replacement.\nWARNING: Target directory /app/.pip-target/bin already exists. Specify --upgrade to force replacement.\nWARNING: Running pip as the 'root' user can result in broken permissions and conflicting behaviour with the system package manager. It is recommended to use a virtual environment instead: https://pip.pypa.io/warnings/venv\n\n"
          ]
        },
        {
          "output_type": "stream",
          "name": "stdout",
          "text": [
            "\u2705 Package installation completed and import cache refreshed.\n"
          ]
        },
        {
          "output_type": "stream",
          "name": "stdout",
          "text": [
            "[BM3D global] sigma=0.0400\n  sigma=0.0400 img 1/115 elapsed 0.0s\n"
          ]
        },
        {
          "output_type": "stream",
          "name": "stdout",
          "text": [
            "  sigma=0.0400 img 11/115 elapsed 17.3s\n"
          ]
        },
        {
          "output_type": "stream",
          "name": "stdout",
          "text": [
            "  sigma=0.0400 img 21/115 elapsed 34.5s\n"
          ]
        },
        {
          "output_type": "stream",
          "name": "stdout",
          "text": [
            "  sigma=0.0400 img 31/115 elapsed 51.7s\n"
          ]
        },
        {
          "output_type": "stream",
          "name": "stdout",
          "text": [
            "  sigma=0.0400 img 41/115 elapsed 69.4s\n"
          ]
        },
        {
          "output_type": "stream",
          "name": "stdout",
          "text": [
            "  sigma=0.0400 img 51/115 elapsed 92.0s\n"
          ]
        },
        {
          "output_type": "stream",
          "name": "stdout",
          "text": [
            "  sigma=0.0400 img 61/115 elapsed 114.3s\n"
          ]
        },
        {
          "output_type": "stream",
          "name": "stdout",
          "text": [
            "  sigma=0.0400 img 71/115 elapsed 136.7s\n"
          ]
        },
        {
          "output_type": "stream",
          "name": "stdout",
          "text": [
            "  sigma=0.0400 img 81/115 elapsed 159.0s\n"
          ]
        },
        {
          "output_type": "stream",
          "name": "stdout",
          "text": [
            "  sigma=0.0400 img 91/115 elapsed 181.1s\n"
          ]
        },
        {
          "output_type": "stream",
          "name": "stdout",
          "text": [
            "  sigma=0.0400 img 101/115 elapsed 203.1s\n"
          ]
        },
        {
          "output_type": "stream",
          "name": "stdout",
          "text": [
            "  sigma=0.0400 img 111/115 elapsed 225.1s\n"
          ]
        },
        {
          "output_type": "stream",
          "name": "stdout",
          "text": [
            "  -> mean RMSE=0.052491, median=0.050723, time=236.1s\n[BM3D global] sigma=0.0500\n  sigma=0.0500 img 1/115 elapsed 0.0s\n"
          ]
        },
        {
          "output_type": "stream",
          "name": "stdout",
          "text": [
            "  sigma=0.0500 img 11/115 elapsed 17.1s\n"
          ]
        },
        {
          "output_type": "stream",
          "name": "stdout",
          "text": [
            "  sigma=0.0500 img 21/115 elapsed 34.2s\n"
          ]
        },
        {
          "output_type": "stream",
          "name": "stdout",
          "text": [
            "  sigma=0.0500 img 31/115 elapsed 51.2s\n"
          ]
        },
        {
          "output_type": "stream",
          "name": "stdout",
          "text": [
            "  sigma=0.0500 img 41/115 elapsed 68.7s\n"
          ]
        },
        {
          "output_type": "stream",
          "name": "stdout",
          "text": [
            "  sigma=0.0500 img 51/115 elapsed 91.1s\n"
          ]
        },
        {
          "output_type": "stream",
          "name": "stdout",
          "text": [
            "  sigma=0.0500 img 61/115 elapsed 113.6s\n"
          ]
        },
        {
          "output_type": "stream",
          "name": "stdout",
          "text": [
            "  sigma=0.0500 img 71/115 elapsed 135.7s\n"
          ]
        },
        {
          "output_type": "stream",
          "name": "stdout",
          "text": [
            "  sigma=0.0500 img 81/115 elapsed 157.9s\n"
          ]
        },
        {
          "output_type": "stream",
          "name": "stdout",
          "text": [
            "  sigma=0.0500 img 91/115 elapsed 180.0s\n"
          ]
        },
        {
          "output_type": "stream",
          "name": "stdout",
          "text": [
            "  sigma=0.0500 img 101/115 elapsed 201.9s\n"
          ]
        },
        {
          "output_type": "stream",
          "name": "stdout",
          "text": [
            "  sigma=0.0500 img 111/115 elapsed 223.9s\n"
          ]
        },
        {
          "output_type": "stream",
          "name": "stdout",
          "text": [
            "  -> mean RMSE=0.053895, median=0.052295, time=235.0s\n[BM3D global] sigma=0.0600\n  sigma=0.0600 img 1/115 elapsed 0.0s\n"
          ]
        },
        {
          "output_type": "stream",
          "name": "stdout",
          "text": [
            "  sigma=0.0600 img 11/115 elapsed 17.1s\n"
          ]
        },
        {
          "output_type": "stream",
          "name": "stdout",
          "text": [
            "  sigma=0.0600 img 21/115 elapsed 34.2s\n"
          ]
        },
        {
          "output_type": "stream",
          "name": "stdout",
          "text": [
            "  sigma=0.0600 img 31/115 elapsed 51.1s\n"
          ]
        },
        {
          "output_type": "stream",
          "name": "stdout",
          "text": [
            "  sigma=0.0600 img 41/115 elapsed 68.6s\n"
          ]
        },
        {
          "output_type": "stream",
          "name": "stdout",
          "text": [
            "  sigma=0.0600 img 51/115 elapsed 90.7s\n"
          ]
        },
        {
          "output_type": "stream",
          "name": "stdout",
          "text": [
            "  sigma=0.0600 img 61/115 elapsed 112.8s\n"
          ]
        },
        {
          "output_type": "stream",
          "name": "stdout",
          "text": [
            "  sigma=0.0600 img 71/115 elapsed 134.9s\n"
          ]
        },
        {
          "output_type": "stream",
          "name": "stdout",
          "text": [
            "  sigma=0.0600 img 81/115 elapsed 157.0s\n"
          ]
        },
        {
          "output_type": "stream",
          "name": "stdout",
          "text": [
            "  sigma=0.0600 img 91/115 elapsed 178.9s\n"
          ]
        },
        {
          "output_type": "stream",
          "name": "stdout",
          "text": [
            "  sigma=0.0600 img 101/115 elapsed 200.8s\n"
          ]
        },
        {
          "output_type": "stream",
          "name": "stdout",
          "text": [
            "  sigma=0.0600 img 111/115 elapsed 222.8s\n"
          ]
        },
        {
          "output_type": "stream",
          "name": "stdout",
          "text": [
            "  -> mean RMSE=0.055813, median=0.054799, time=233.7s\n[BM3D global] sigma=0.0700\n  sigma=0.0700 img 1/115 elapsed 0.0s\n"
          ]
        },
        {
          "output_type": "stream",
          "name": "stdout",
          "text": [
            "  sigma=0.0700 img 11/115 elapsed 17.0s\n"
          ]
        },
        {
          "output_type": "stream",
          "name": "stdout",
          "text": [
            "  sigma=0.0700 img 21/115 elapsed 34.1s\n"
          ]
        },
        {
          "output_type": "stream",
          "name": "stdout",
          "text": [
            "  sigma=0.0700 img 31/115 elapsed 51.0s\n"
          ]
        },
        {
          "output_type": "stream",
          "name": "stdout",
          "text": [
            "  sigma=0.0700 img 41/115 elapsed 68.6s\n"
          ]
        },
        {
          "output_type": "stream",
          "name": "stdout",
          "text": [
            "  sigma=0.0700 img 51/115 elapsed 90.7s\n"
          ]
        },
        {
          "output_type": "stream",
          "name": "stdout",
          "text": [
            "  sigma=0.0700 img 61/115 elapsed 112.9s\n"
          ]
        },
        {
          "output_type": "stream",
          "name": "stdout",
          "text": [
            "  sigma=0.0700 img 71/115 elapsed 135.0s\n"
          ]
        },
        {
          "output_type": "stream",
          "name": "stdout",
          "text": [
            "  sigma=0.0700 img 81/115 elapsed 157.2s\n"
          ]
        },
        {
          "output_type": "stream",
          "name": "stdout",
          "text": [
            "  sigma=0.0700 img 91/115 elapsed 179.2s\n"
          ]
        },
        {
          "output_type": "stream",
          "name": "stdout",
          "text": [
            "  sigma=0.0700 img 101/115 elapsed 201.2s\n"
          ]
        },
        {
          "output_type": "stream",
          "name": "stdout",
          "text": [
            "  sigma=0.0700 img 111/115 elapsed 223.2s\n"
          ]
        },
        {
          "output_type": "stream",
          "name": "stdout",
          "text": [
            "  -> mean RMSE=0.058205, median=0.057529, time=234.2s\n[BM3D global] sigma=0.0800\n  sigma=0.0800 img 1/115 elapsed 0.0s\n"
          ]
        },
        {
          "output_type": "stream",
          "name": "stdout",
          "text": [
            "  sigma=0.0800 img 11/115 elapsed 17.1s\n"
          ]
        },
        {
          "output_type": "stream",
          "name": "stdout",
          "text": [
            "  sigma=0.0800 img 21/115 elapsed 34.1s\n"
          ]
        },
        {
          "output_type": "stream",
          "name": "stdout",
          "text": [
            "  sigma=0.0800 img 31/115 elapsed 51.2s\n"
          ]
        },
        {
          "output_type": "stream",
          "name": "stdout",
          "text": [
            "  sigma=0.0800 img 41/115 elapsed 68.9s\n"
          ]
        },
        {
          "output_type": "stream",
          "name": "stdout",
          "text": [
            "  sigma=0.0800 img 51/115 elapsed 91.3s\n"
          ]
        },
        {
          "output_type": "stream",
          "name": "stdout",
          "text": [
            "  sigma=0.0800 img 61/115 elapsed 113.5s\n"
          ]
        },
        {
          "output_type": "stream",
          "name": "stdout",
          "text": [
            "  sigma=0.0800 img 71/115 elapsed 135.8s\n"
          ]
        },
        {
          "output_type": "stream",
          "name": "stdout",
          "text": [
            "  sigma=0.0800 img 81/115 elapsed 158.1s\n"
          ]
        },
        {
          "output_type": "stream",
          "name": "stdout",
          "text": [
            "  sigma=0.0800 img 91/115 elapsed 180.4s\n"
          ]
        },
        {
          "output_type": "stream",
          "name": "stdout",
          "text": [
            "  sigma=0.0800 img 101/115 elapsed 202.4s\n"
          ]
        },
        {
          "output_type": "stream",
          "name": "stdout",
          "text": [
            "  sigma=0.0800 img 111/115 elapsed 224.6s\n"
          ]
        },
        {
          "output_type": "stream",
          "name": "stdout",
          "text": [
            "  -> mean RMSE=0.060974, median=0.061094, time=235.6s\nTop BM3D global sigmas by mean RMSE:\n  sigma=0.0400: mean=0.052491, median=0.050723\n  sigma=0.0500: mean=0.053895, median=0.052295\n  sigma=0.0600: mean=0.055813, median=0.054799\n  sigma=0.0700: mean=0.058205, median=0.057529\n  sigma=0.0800: mean=0.060974, median=0.061094\n[BM3D per-image] img 1/115 elapsed 0.0s\n"
          ]
        },
        {
          "output_type": "stream",
          "name": "stdout",
          "text": [
            "[BM3D per-image] img 11/115 elapsed 51.0s\n"
          ]
        },
        {
          "output_type": "stream",
          "name": "stdout",
          "text": [
            "[BM3D per-image] img 21/115 elapsed 102.1s\n"
          ]
        },
        {
          "output_type": "stream",
          "name": "stdout",
          "text": [
            "[BM3D per-image] img 31/115 elapsed 153.0s\n"
          ]
        },
        {
          "output_type": "stream",
          "name": "stdout",
          "text": [
            "[BM3D per-image] img 41/115 elapsed 205.1s\n"
          ]
        },
        {
          "output_type": "stream",
          "name": "stdout",
          "text": [
            "[BM3D per-image] img 51/115 elapsed 271.4s\n"
          ]
        },
        {
          "output_type": "stream",
          "name": "stdout",
          "text": [
            "[BM3D per-image] img 61/115 elapsed 337.4s\n"
          ]
        },
        {
          "output_type": "stream",
          "name": "stdout",
          "text": [
            "[BM3D per-image] img 71/115 elapsed 403.4s\n"
          ]
        },
        {
          "output_type": "stream",
          "name": "stdout",
          "text": [
            "[BM3D per-image] img 81/115 elapsed 469.7s\n"
          ]
        },
        {
          "output_type": "stream",
          "name": "stdout",
          "text": [
            "[BM3D per-image] img 91/115 elapsed 535.6s\n"
          ]
        },
        {
          "output_type": "stream",
          "name": "stdout",
          "text": [
            "[BM3D per-image] img 101/115 elapsed 601.3s\n"
          ]
        },
        {
          "output_type": "stream",
          "name": "stdout",
          "text": [
            "[BM3D per-image] img 111/115 elapsed 667.2s\n"
          ]
        },
        {
          "output_type": "stream",
          "name": "stdout",
          "text": [
            "BM3D per-image sigma (MAD) multipliers by mean RMSE:\n  factor=0.80: mean=0.051921\n  factor=1.00: mean=0.052700\n  factor=1.20: mean=0.053881\nBest BM3D global sigma: 0.04\nBest BM3D per-image factor: 0.8\n"
          ]
        }
      ]
    },
    {
      "id": "2c1d06b4-1a90-4273-87a0-73c3ab1073c0",
      "cell_type": "code",
      "metadata": {},
      "source": [
        "# Soft blending: gradient-weighted mix of NLM denoise and normalized image\n",
        "def pipeline_div_nlm_soft_blend(img_u8: np.ndarray, ksize_bg: int = 31, h: int = 14, tmpl: int = 5, srch: int = 31, alpha: float = 0.3, weight_gamma: float = 1.0) -> np.ndarray:\n",
        "    bg = estimate_background_median(img_u8, ksize=ksize_bg)\n",
        "    norm = normalize_divide(img_u8, bg)  # uint8\n",
        "    den = cv2.fastNlMeansDenoising(norm, None, h=h, templateWindowSize=tmpl, searchWindowSize=srch)  # uint8\n",
        "    # gradient magnitude on normalized image\n",
        "    gx = cv2.Sobel(norm, cv2.CV_32F, 1, 0, ksize=3)\n",
        "    gy = cv2.Sobel(norm, cv2.CV_32F, 0, 1, ksize=3)\n",
        "    grad = cv2.magnitude(gx, gy)\n",
        "    w = grad / (grad.max() + 1e-6)  # [0,1]\n",
        "    if weight_gamma != 1.0:\n",
        "        w = np.power(w, weight_gamma)\n",
        "    w = np.clip(w, 0.0, 1.0).astype(np.float32)\n",
        "    den_f = den.astype(np.float32) / 255.0\n",
        "    norm_f = norm.astype(np.float32) / 255.0\n",
        "    out_f = (1.0 - alpha * w) * den_f + (alpha * w) * norm_f\n",
        "    out_u8 = np.clip(out_f * 255.0, 0, 255).astype(np.uint8)\n",
        "    return out_u8\n",
        "\n",
        "def eval_soft_blend_on_train(alphas=(0.2, 0.3, 0.4), weight_gammas=(1.0, 0.7, 0.5), ksize_bg: int = 31, h: int = 14, tmpl: int = 5, srch: int = 31):\n",
        "    results = []\n",
        "    for a in alphas:\n",
        "        for g in weight_gammas:\n",
        "            errs = []\n",
        "            t0 = time.time()\n",
        "            print(f'[soft-blend] alpha={a}, gamma={g}')\n",
        "            for i, p in enumerate(train_files):\n",
        "                if i % 10 == 0:\n",
        "                    print(f'  img {i+1}/{len(train_files)} elapsed {time.time()-t0:.1f}s', flush=True)\n",
        "                img = read_gray_uint8(p)\n",
        "                pred = pipeline_div_nlm_soft_blend(img, ksize_bg=ksize_bg, h=h, tmpl=tmpl, srch=srch, alpha=a, weight_gamma=g)\n",
        "                target = read_gray_uint8(TRAIN_CLEAN_DIR / p.name)\n",
        "                errs.append(rmse(to_float01(pred), to_float01(target)))\n",
        "            mean_rmse = float(np.mean(errs))\n",
        "            med_rmse = float(np.median(errs))\n",
        "            print(f'  -> mean RMSE={mean_rmse:.6f}, median RMSE={med_rmse:.6f}, time={time.time()-t0:.1f}s')\n",
        "            results.append((a, g, mean_rmse, med_rmse))\n",
        "    results.sort(key=lambda x: x[2])\n",
        "    print('Top soft-blend configs:')\n",
        "    for a, g, m, md in results[:5]:\n",
        "        print(f'  alpha={a}, gamma={g}: mean={m:.6f}, median={md:.6f}')\n",
        "    return results\n",
        "\n",
        "# Run soft blending evaluation\n",
        "soft_results = eval_soft_blend_on_train(alphas=(0.2, 0.3, 0.4), weight_gammas=(1.0, 0.7, 0.5), ksize_bg=31, h=14, tmpl=5, srch=31)\n",
        "best_a, best_g, best_m, best_md = soft_results[0]\n",
        "print('Best soft blend -> alpha:', best_a, 'gamma:', best_g, 'mean:', best_m)\n",
        "# If best_m improves over 0.049001, we can generate a submission with that config using pipeline_div_nlm_soft_blend."
      ],
      "execution_count": 18,
      "outputs": [
        {
          "output_type": "stream",
          "name": "stdout",
          "text": [
            "[soft-blend] alpha=0.2, gamma=1.0\n  img 1/115 elapsed 0.0s\n"
          ]
        },
        {
          "output_type": "stream",
          "name": "stdout",
          "text": [
            "  img 11/115 elapsed 3.7s\n"
          ]
        },
        {
          "output_type": "stream",
          "name": "stdout",
          "text": [
            "  img 21/115 elapsed 7.3s\n"
          ]
        },
        {
          "output_type": "stream",
          "name": "stdout",
          "text": [
            "  img 31/115 elapsed 11.0s\n"
          ]
        },
        {
          "output_type": "stream",
          "name": "stdout",
          "text": [
            "  img 41/115 elapsed 14.6s\n"
          ]
        },
        {
          "output_type": "stream",
          "name": "stdout",
          "text": [
            "  img 51/115 elapsed 17.7s\n"
          ]
        },
        {
          "output_type": "stream",
          "name": "stdout",
          "text": [
            "  img 61/115 elapsed 20.8s\n"
          ]
        },
        {
          "output_type": "stream",
          "name": "stdout",
          "text": [
            "  img 71/115 elapsed 23.9s\n"
          ]
        },
        {
          "output_type": "stream",
          "name": "stdout",
          "text": [
            "  img 81/115 elapsed 27.0s\n"
          ]
        },
        {
          "output_type": "stream",
          "name": "stdout",
          "text": [
            "  img 91/115 elapsed 30.0s\n"
          ]
        },
        {
          "output_type": "stream",
          "name": "stdout",
          "text": [
            "  img 101/115 elapsed 33.2s\n"
          ]
        },
        {
          "output_type": "stream",
          "name": "stdout",
          "text": [
            "  img 111/115 elapsed 36.3s\n"
          ]
        },
        {
          "output_type": "stream",
          "name": "stdout",
          "text": [
            "  -> mean RMSE=0.049101, median RMSE=0.047727, time=37.8s\n[soft-blend] alpha=0.2, gamma=0.7\n  img 1/115 elapsed 0.0s\n"
          ]
        },
        {
          "output_type": "stream",
          "name": "stdout",
          "text": [
            "  img 11/115 elapsed 3.7s\n"
          ]
        },
        {
          "output_type": "stream",
          "name": "stdout",
          "text": [
            "  img 21/115 elapsed 7.4s\n"
          ]
        },
        {
          "output_type": "stream",
          "name": "stdout",
          "text": [
            "  img 31/115 elapsed 11.1s\n"
          ]
        },
        {
          "output_type": "stream",
          "name": "stdout",
          "text": [
            "  img 41/115 elapsed 14.7s\n"
          ]
        },
        {
          "output_type": "stream",
          "name": "stdout",
          "text": [
            "  img 51/115 elapsed 17.8s\n"
          ]
        },
        {
          "output_type": "stream",
          "name": "stdout",
          "text": [
            "  img 61/115 elapsed 20.9s\n"
          ]
        },
        {
          "output_type": "stream",
          "name": "stdout",
          "text": [
            "  img 71/115 elapsed 24.0s\n"
          ]
        },
        {
          "output_type": "stream",
          "name": "stdout",
          "text": [
            "  img 81/115 elapsed 27.1s\n"
          ]
        },
        {
          "output_type": "stream",
          "name": "stdout",
          "text": [
            "  img 91/115 elapsed 30.3s\n"
          ]
        },
        {
          "output_type": "stream",
          "name": "stdout",
          "text": [
            "  img 101/115 elapsed 33.4s\n"
          ]
        },
        {
          "output_type": "stream",
          "name": "stdout",
          "text": [
            "  img 111/115 elapsed 36.5s\n"
          ]
        },
        {
          "output_type": "stream",
          "name": "stdout",
          "text": [
            "  -> mean RMSE=0.049095, median RMSE=0.047704, time=38.1s\n[soft-blend] alpha=0.2, gamma=0.5\n  img 1/115 elapsed 0.0s\n"
          ]
        },
        {
          "output_type": "stream",
          "name": "stdout",
          "text": [
            "  img 11/115 elapsed 3.7s\n"
          ]
        },
        {
          "output_type": "stream",
          "name": "stdout",
          "text": [
            "  img 21/115 elapsed 7.4s\n"
          ]
        },
        {
          "output_type": "stream",
          "name": "stdout",
          "text": [
            "  img 31/115 elapsed 11.1s\n"
          ]
        },
        {
          "output_type": "stream",
          "name": "stdout",
          "text": [
            "  img 41/115 elapsed 14.7s\n"
          ]
        },
        {
          "output_type": "stream",
          "name": "stdout",
          "text": [
            "  img 51/115 elapsed 17.8s\n"
          ]
        },
        {
          "output_type": "stream",
          "name": "stdout",
          "text": [
            "  img 61/115 elapsed 20.9s\n"
          ]
        },
        {
          "output_type": "stream",
          "name": "stdout",
          "text": [
            "  img 71/115 elapsed 24.0s\n"
          ]
        },
        {
          "output_type": "stream",
          "name": "stdout",
          "text": [
            "  img 81/115 elapsed 27.1s\n"
          ]
        },
        {
          "output_type": "stream",
          "name": "stdout",
          "text": [
            "  img 91/115 elapsed 30.2s\n"
          ]
        },
        {
          "output_type": "stream",
          "name": "stdout",
          "text": [
            "  img 101/115 elapsed 33.4s\n"
          ]
        },
        {
          "output_type": "stream",
          "name": "stdout",
          "text": [
            "  img 111/115 elapsed 36.6s\n"
          ]
        },
        {
          "output_type": "stream",
          "name": "stdout",
          "text": [
            "  -> mean RMSE=0.049095, median RMSE=0.047685, time=38.2s\n[soft-blend] alpha=0.3, gamma=1.0\n  img 1/115 elapsed 0.0s\n"
          ]
        },
        {
          "output_type": "stream",
          "name": "stdout",
          "text": [
            "  img 11/115 elapsed 3.7s\n"
          ]
        },
        {
          "output_type": "stream",
          "name": "stdout",
          "text": [
            "  img 21/115 elapsed 7.3s\n"
          ]
        },
        {
          "output_type": "stream",
          "name": "stdout",
          "text": [
            "  img 31/115 elapsed 11.0s\n"
          ]
        },
        {
          "output_type": "stream",
          "name": "stdout",
          "text": [
            "  img 41/115 elapsed 14.6s\n"
          ]
        },
        {
          "output_type": "stream",
          "name": "stdout",
          "text": [
            "  img 51/115 elapsed 17.7s\n"
          ]
        },
        {
          "output_type": "stream",
          "name": "stdout",
          "text": [
            "  img 61/115 elapsed 20.7s\n"
          ]
        },
        {
          "output_type": "stream",
          "name": "stdout",
          "text": [
            "  img 71/115 elapsed 23.8s\n"
          ]
        },
        {
          "output_type": "stream",
          "name": "stdout",
          "text": [
            "  img 81/115 elapsed 26.9s\n"
          ]
        },
        {
          "output_type": "stream",
          "name": "stdout",
          "text": [
            "  img 91/115 elapsed 30.0s\n"
          ]
        },
        {
          "output_type": "stream",
          "name": "stdout",
          "text": [
            "  img 101/115 elapsed 33.1s\n"
          ]
        },
        {
          "output_type": "stream",
          "name": "stdout",
          "text": [
            "  img 111/115 elapsed 36.2s\n"
          ]
        },
        {
          "output_type": "stream",
          "name": "stdout",
          "text": [
            "  -> mean RMSE=0.049087, median RMSE=0.047702, time=37.7s\n[soft-blend] alpha=0.3, gamma=0.7\n  img 1/115 elapsed 0.0s\n"
          ]
        },
        {
          "output_type": "stream",
          "name": "stdout",
          "text": [
            "  img 11/115 elapsed 3.7s\n"
          ]
        },
        {
          "output_type": "stream",
          "name": "stdout",
          "text": [
            "  img 21/115 elapsed 7.4s\n"
          ]
        },
        {
          "output_type": "stream",
          "name": "stdout",
          "text": [
            "  img 31/115 elapsed 11.1s\n"
          ]
        },
        {
          "output_type": "stream",
          "name": "stdout",
          "text": [
            "  img 41/115 elapsed 14.7s\n"
          ]
        },
        {
          "output_type": "stream",
          "name": "stdout",
          "text": [
            "  img 51/115 elapsed 17.8s\n"
          ]
        },
        {
          "output_type": "stream",
          "name": "stdout",
          "text": [
            "  img 61/115 elapsed 20.9s\n"
          ]
        },
        {
          "output_type": "stream",
          "name": "stdout",
          "text": [
            "  img 71/115 elapsed 24.1s\n"
          ]
        },
        {
          "output_type": "stream",
          "name": "stdout",
          "text": [
            "  img 81/115 elapsed 27.2s\n"
          ]
        },
        {
          "output_type": "stream",
          "name": "stdout",
          "text": [
            "  img 91/115 elapsed 30.3s\n"
          ]
        },
        {
          "output_type": "stream",
          "name": "stdout",
          "text": [
            "  img 101/115 elapsed 33.5s\n"
          ]
        },
        {
          "output_type": "stream",
          "name": "stdout",
          "text": [
            "  img 111/115 elapsed 36.6s\n"
          ]
        },
        {
          "output_type": "stream",
          "name": "stdout",
          "text": [
            "  -> mean RMSE=0.049086, median RMSE=0.047676, time=38.2s\n[soft-blend] alpha=0.3, gamma=0.5\n  img 1/115 elapsed 0.0s\n"
          ]
        },
        {
          "output_type": "stream",
          "name": "stdout",
          "text": [
            "  img 11/115 elapsed 3.7s\n"
          ]
        },
        {
          "output_type": "stream",
          "name": "stdout",
          "text": [
            "  img 21/115 elapsed 7.4s\n"
          ]
        },
        {
          "output_type": "stream",
          "name": "stdout",
          "text": [
            "  img 31/115 elapsed 11.1s\n"
          ]
        },
        {
          "output_type": "stream",
          "name": "stdout",
          "text": [
            "  img 41/115 elapsed 14.7s\n"
          ]
        },
        {
          "output_type": "stream",
          "name": "stdout",
          "text": [
            "  img 51/115 elapsed 17.8s\n"
          ]
        },
        {
          "output_type": "stream",
          "name": "stdout",
          "text": [
            "  img 61/115 elapsed 21.0s\n"
          ]
        },
        {
          "output_type": "stream",
          "name": "stdout",
          "text": [
            "  img 71/115 elapsed 24.1s\n"
          ]
        },
        {
          "output_type": "stream",
          "name": "stdout",
          "text": [
            "  img 81/115 elapsed 27.2s\n"
          ]
        },
        {
          "output_type": "stream",
          "name": "stdout",
          "text": [
            "  img 91/115 elapsed 30.3s\n"
          ]
        },
        {
          "output_type": "stream",
          "name": "stdout",
          "text": [
            "  img 101/115 elapsed 33.5s\n"
          ]
        },
        {
          "output_type": "stream",
          "name": "stdout",
          "text": [
            "  img 111/115 elapsed 36.6s\n"
          ]
        },
        {
          "output_type": "stream",
          "name": "stdout",
          "text": [
            "  -> mean RMSE=0.049103, median RMSE=0.047649, time=38.1s\n[soft-blend] alpha=0.4, gamma=1.0\n  img 1/115 elapsed 0.0s\n"
          ]
        },
        {
          "output_type": "stream",
          "name": "stdout",
          "text": [
            "  img 11/115 elapsed 3.7s\n"
          ]
        },
        {
          "output_type": "stream",
          "name": "stdout",
          "text": [
            "  img 21/115 elapsed 7.3s\n"
          ]
        },
        {
          "output_type": "stream",
          "name": "stdout",
          "text": [
            "  img 31/115 elapsed 11.0s\n"
          ]
        },
        {
          "output_type": "stream",
          "name": "stdout",
          "text": [
            "  img 41/115 elapsed 14.6s\n"
          ]
        },
        {
          "output_type": "stream",
          "name": "stdout",
          "text": [
            "  img 51/115 elapsed 17.7s\n"
          ]
        },
        {
          "output_type": "stream",
          "name": "stdout",
          "text": [
            "  img 61/115 elapsed 20.8s\n"
          ]
        },
        {
          "output_type": "stream",
          "name": "stdout",
          "text": [
            "  img 71/115 elapsed 23.9s\n"
          ]
        },
        {
          "output_type": "stream",
          "name": "stdout",
          "text": [
            "  img 81/115 elapsed 27.0s\n"
          ]
        },
        {
          "output_type": "stream",
          "name": "stdout",
          "text": [
            "  img 91/115 elapsed 30.1s\n"
          ]
        },
        {
          "output_type": "stream",
          "name": "stdout",
          "text": [
            "  img 101/115 elapsed 33.2s\n"
          ]
        },
        {
          "output_type": "stream",
          "name": "stdout",
          "text": [
            "  img 111/115 elapsed 36.3s\n"
          ]
        },
        {
          "output_type": "stream",
          "name": "stdout",
          "text": [
            "  -> mean RMSE=0.049073, median RMSE=0.047683, time=37.9s\n[soft-blend] alpha=0.4, gamma=0.7\n  img 1/115 elapsed 0.0s\n"
          ]
        },
        {
          "output_type": "stream",
          "name": "stdout",
          "text": [
            "  img 11/115 elapsed 3.7s\n"
          ]
        },
        {
          "output_type": "stream",
          "name": "stdout",
          "text": [
            "  img 21/115 elapsed 7.4s\n"
          ]
        },
        {
          "output_type": "stream",
          "name": "stdout",
          "text": [
            "  img 31/115 elapsed 11.1s\n"
          ]
        },
        {
          "output_type": "stream",
          "name": "stdout",
          "text": [
            "  img 41/115 elapsed 14.7s\n"
          ]
        },
        {
          "output_type": "stream",
          "name": "stdout",
          "text": [
            "  img 51/115 elapsed 17.8s\n"
          ]
        },
        {
          "output_type": "stream",
          "name": "stdout",
          "text": [
            "  img 61/115 elapsed 21.0s\n"
          ]
        },
        {
          "output_type": "stream",
          "name": "stdout",
          "text": [
            "  img 71/115 elapsed 24.1s\n"
          ]
        },
        {
          "output_type": "stream",
          "name": "stdout",
          "text": [
            "  img 81/115 elapsed 27.2s\n"
          ]
        },
        {
          "output_type": "stream",
          "name": "stdout",
          "text": [
            "  img 91/115 elapsed 30.4s\n"
          ]
        },
        {
          "output_type": "stream",
          "name": "stdout",
          "text": [
            "  img 101/115 elapsed 33.5s\n"
          ]
        },
        {
          "output_type": "stream",
          "name": "stdout",
          "text": [
            "  img 111/115 elapsed 36.6s\n"
          ]
        },
        {
          "output_type": "stream",
          "name": "stdout",
          "text": [
            "  -> mean RMSE=0.049072, median RMSE=0.047639, time=38.2s\n[soft-blend] alpha=0.4, gamma=0.5\n  img 1/115 elapsed 0.0s\n"
          ]
        },
        {
          "output_type": "stream",
          "name": "stdout",
          "text": [
            "  img 11/115 elapsed 3.7s\n"
          ]
        },
        {
          "output_type": "stream",
          "name": "stdout",
          "text": [
            "  img 21/115 elapsed 7.4s\n"
          ]
        },
        {
          "output_type": "stream",
          "name": "stdout",
          "text": [
            "  img 31/115 elapsed 11.1s\n"
          ]
        },
        {
          "output_type": "stream",
          "name": "stdout",
          "text": [
            "  img 41/115 elapsed 14.7s\n"
          ]
        },
        {
          "output_type": "stream",
          "name": "stdout",
          "text": [
            "  img 51/115 elapsed 17.8s\n"
          ]
        },
        {
          "output_type": "stream",
          "name": "stdout",
          "text": [
            "  img 61/115 elapsed 20.9s\n"
          ]
        },
        {
          "output_type": "stream",
          "name": "stdout",
          "text": [
            "  img 71/115 elapsed 24.0s\n"
          ]
        },
        {
          "output_type": "stream",
          "name": "stdout",
          "text": [
            "  img 81/115 elapsed 27.1s\n"
          ]
        },
        {
          "output_type": "stream",
          "name": "stdout",
          "text": [
            "  img 91/115 elapsed 30.3s\n"
          ]
        },
        {
          "output_type": "stream",
          "name": "stdout",
          "text": [
            "  img 101/115 elapsed 33.5s\n"
          ]
        },
        {
          "output_type": "stream",
          "name": "stdout",
          "text": [
            "  img 111/115 elapsed 36.6s\n"
          ]
        },
        {
          "output_type": "stream",
          "name": "stdout",
          "text": [
            "  -> mean RMSE=0.049097, median RMSE=0.047602, time=38.2s\nTop soft-blend configs:\n  alpha=0.4, gamma=0.7: mean=0.049072, median=0.047639\n  alpha=0.4, gamma=1.0: mean=0.049073, median=0.047683\n  alpha=0.3, gamma=0.7: mean=0.049086, median=0.047676\n  alpha=0.3, gamma=1.0: mean=0.049087, median=0.047702\n  alpha=0.2, gamma=0.7: mean=0.049095, median=0.047704\nBest soft blend -> alpha: 0.4 gamma: 0.7 mean: 0.049072041751249976\n"
          ]
        }
      ]
    },
    {
      "id": "9b13eab8-83fc-41be-8011-001d35dd5e52",
      "cell_type": "code",
      "metadata": {},
      "source": [
        "# BM3D v2: precise float normalization and lower sigma sweep\n",
        "import bm3d\n",
        "\n",
        "def normalize_divide_float_precise(img_u8: np.ndarray, ksize_bg: int = 31) -> np.ndarray:\n",
        "    # All in float32: img_f / max(bg_f, eps)\n",
        "    img_f = img_u8.astype(np.float32) / 255.0\n",
        "    bg_u8 = estimate_background_median(img_u8, ksize=ksize_bg)\n",
        "    bg_f = bg_u8.astype(np.float32) / 255.0\n",
        "    eps = 1.0 / 255.0  # avoid zeros\n",
        "    norm_f = img_f / np.maximum(bg_f, eps)\n",
        "    norm_f = np.clip(norm_f, 0.0, 1.0).astype(np.float32)\n",
        "    return norm_f\n",
        "\n",
        "def estimate_sigma_mad_float_hpf(norm_f: np.ndarray, ksize: int = 5) -> float:\n",
        "    # High-pass via Gaussian blur on float to avoid edge amplification\n",
        "    k = ksize if ksize % 2 == 1 else ksize + 1\n",
        "    blur = cv2.GaussianBlur(norm_f, (k, k), 0)\n",
        "    hp = norm_f - blur\n",
        "    med = float(np.median(hp))\n",
        "    mad = float(np.median(np.abs(hp - med)))\n",
        "    sigma_hat = 1.4826 * mad\n",
        "    return float(np.clip(sigma_hat, 0.005, 0.05))\n",
        "\n",
        "def pipeline_div_bm3d_v2(img_u8: np.ndarray, ksize_bg: int = 31, sigma_psd: float = 0.03) -> np.ndarray:\n",
        "    norm_f = normalize_divide_float_precise(img_u8, ksize_bg=ksize_bg)\n",
        "    den_f = bm3d.bm3d(norm_f, sigma_psd=sigma_psd, stage_arg=bm3d.BM3DStages.ALL_STAGES)\n",
        "    den_f = np.clip(den_f, 0.0, 1.0).astype(np.float32)\n",
        "    return den_f\n",
        "\n",
        "def eval_bm3d_v2_global_sigma_on_train(sigmas: list[float], ksize_bg: int = 31):\n",
        "    results = []\n",
        "    for s in sigmas:\n",
        "        errs = []\n",
        "        t0 = time.time()\n",
        "        print(f'[BM3D v2 global] sigma={s:.4f}')\n",
        "        for i, p in enumerate(train_files):\n",
        "            if i % 10 == 0:\n",
        "                print(f'  sigma={s:.4f} img {i+1}/{len(train_files)} elapsed {time.time()-t0:.1f}s', flush=True)\n",
        "            img = read_gray_uint8(p)\n",
        "            den_f = pipeline_div_bm3d_v2(img, ksize_bg=ksize_bg, sigma_psd=s)\n",
        "            target_f = to_float01(read_gray_uint8(TRAIN_CLEAN_DIR / p.name))\n",
        "            errs.append(rmse(den_f, target_f))\n",
        "        mean_rmse = float(np.mean(errs))\n",
        "        med_rmse = float(np.median(errs))\n",
        "        print(f'  -> mean RMSE={mean_rmse:.6f}, median={med_rmse:.6f}, time={time.time()-t0:.1f}s')\n",
        "        results.append((s, mean_rmse, med_rmse))\n",
        "    results.sort(key=lambda x: x[1])\n",
        "    print('Top BM3D v2 global sigmas by mean RMSE:')\n",
        "    for s, m, md in results[:5]:\n",
        "        print(f'  sigma={s:.4f}: mean={m:.6f}, median={md:.6f}')\n",
        "    return results\n",
        "\n",
        "def eval_bm3d_v2_per_image_sigma_on_train(factors=(0.6, 0.8, 1.0), ksize_bg: int = 31):\n",
        "    sums = {f: 0.0 for f in factors}\n",
        "    n = 0\n",
        "    t0_all = time.time()\n",
        "    for i, p in enumerate(train_files):\n",
        "        if i % 10 == 0:\n",
        "            print(f'[BM3D v2 per-image] img {i+1}/{len(train_files)} elapsed {time.time()-t0_all:.1f}s', flush=True)\n",
        "        img = read_gray_uint8(p)\n",
        "        norm_f = normalize_divide_float_precise(img, ksize_bg=ksize_bg)\n",
        "        sigma_hat = estimate_sigma_mad_float_hpf(norm_f, ksize=5)\n",
        "        target_f = to_float01(read_gray_uint8(TRAIN_CLEAN_DIR / p.name))\n",
        "        for f in factors:\n",
        "            sigma = float(np.clip(sigma_hat * f, 0.005, 0.05))\n",
        "            den_f = bm3d.bm3d(norm_f, sigma_psd=sigma, stage_arg=bm3d.BM3DStages.ALL_STAGES)\n",
        "            den_f = np.clip(den_f, 0.0, 1.0).astype(np.float32)\n",
        "            sums[f] += rmse(den_f, target_f)\n",
        "        n += 1\n",
        "    results = []\n",
        "    for f in factors:\n",
        "        results.append((f, float(sums[f]/n)))\n",
        "    results.sort(key=lambda x: x[1])\n",
        "    print('BM3D v2 per-image sigma multipliers by mean RMSE:')\n",
        "    for f, m in results:\n",
        "        print(f'  factor={f:.2f}: mean={m:.6f}')\n",
        "    return results\n",
        "\n",
        "# Quick eval with smaller sigmas first; if promising, we can expand\n",
        "sigmas_v2 = [0.020, 0.025, 0.030, 0.035, 0.040]\n",
        "bm3d_v2_global = eval_bm3d_v2_global_sigma_on_train(sigmas_v2, ksize_bg=31)\n",
        "best_v2_sigma = bm3d_v2_global[0][0]\n",
        "print('Best BM3D v2 global sigma:', best_v2_sigma)\n",
        "# Optional per-image factor sweep (uncomment if global is close):\n",
        "# bm3d_v2_perimg = eval_bm3d_v2_per_image_sigma_on_train(factors=(0.6, 0.8, 1.0), ksize_bg=31)\n",
        "# best_v2_factor = bm3d_v2_perimg[0][0]\n",
        "# print('Best BM3D v2 per-image factor:', best_v2_factor)\n",
        "\n",
        "def generate_submission_bm3d_v2(out_path='submission.csv', decimals: int = 5, ksize_bg: int = 31, mode: str = 'global', global_sigma: float = 0.03, factor: float = 0.8):\n",
        "    assert mode in ('global', 'per_image')\n",
        "    fmt = '{:.' + str(decimals) + 'f}'\n",
        "    sample_iter = pd.read_csv(SAMPLE_SUB_PATH, chunksize=200000)\n",
        "    ordered_image_ids = []\n",
        "    seen = set()\n",
        "    for chunk in sample_iter:\n",
        "        for s in chunk['id'].astype(str).values:\n",
        "            img_id, r, c = parse_id_triplet(s)\n",
        "            if img_id not in seen:\n",
        "                seen.add(img_id)\n",
        "                ordered_image_ids.append(img_id)\n",
        "    print(f'[BM3D v2 submit] Found {len(ordered_image_ids)} unique test image ids.')\n",
        "    cache = {}\n",
        "    for idx, img_id in enumerate(ordered_image_ids):\n",
        "        img_path = TEST_DIR / f'{img_id}.png'\n",
        "        print(f'[{idx+1}/{len(ordered_image_ids)}] {img_path}', flush=True)\n",
        "        img_u8 = read_gray_uint8(img_path)\n",
        "        norm_f = normalize_divide_float_precise(img_u8, ksize_bg=ksize_bg)\n",
        "        if mode == 'global':\n",
        "            sigma = float(global_sigma)\n",
        "        else:\n",
        "            sigma_hat = estimate_sigma_mad_float_hpf(norm_f, ksize=5)\n",
        "            sigma = float(np.clip(sigma_hat * factor, 0.005, 0.05))\n",
        "        den_f = bm3d.bm3d(norm_f, sigma_psd=sigma, stage_arg=bm3d.BM3DStages.ALL_STAGES)\n",
        "        cache[img_id] = np.clip(den_f, 0.0, 1.0).astype(np.float32)\n",
        "    print('Writing BM3D v2 predictions to CSV in sample order (fixed decimals)...')\n",
        "    import csv\n",
        "    with open(out_path, 'w', newline='') as f_out:\n",
        "        writer = csv.writer(f_out)\n",
        "        writer.writerow(['id', 'value'])\n",
        "        for chunk in pd.read_csv(SAMPLE_SUB_PATH, chunksize=200000):\n",
        "            rows = []\n",
        "            for s in chunk['id'].astype(str).values:\n",
        "                img_id, r, c = parse_id_triplet(s)\n",
        "                val = float(cache[img_id][r-1, c-1])\n",
        "                rows.append((s, fmt.format(val)))\n",
        "            writer.writerows(rows)\n",
        "    print(f'Wrote: {out_path}')"
      ],
      "execution_count": 19,
      "outputs": [
        {
          "output_type": "stream",
          "name": "stdout",
          "text": [
            "[BM3D v2 global] sigma=0.0200\n  sigma=0.0200 img 1/115 elapsed 0.0s\n"
          ]
        },
        {
          "output_type": "stream",
          "name": "stdout",
          "text": [
            "  sigma=0.0200 img 11/115 elapsed 17.1s\n"
          ]
        },
        {
          "output_type": "stream",
          "name": "stdout",
          "text": [
            "  sigma=0.0200 img 21/115 elapsed 34.1s\n"
          ]
        },
        {
          "output_type": "stream",
          "name": "stdout",
          "text": [
            "  sigma=0.0200 img 31/115 elapsed 51.1s\n"
          ]
        },
        {
          "output_type": "stream",
          "name": "stdout",
          "text": [
            "  sigma=0.0200 img 41/115 elapsed 68.7s\n"
          ]
        },
        {
          "output_type": "stream",
          "name": "stdout",
          "text": [
            "  sigma=0.0200 img 51/115 elapsed 91.0s\n"
          ]
        },
        {
          "output_type": "stream",
          "name": "stdout",
          "text": [
            "  sigma=0.0200 img 61/115 elapsed 113.2s\n"
          ]
        },
        {
          "output_type": "stream",
          "name": "stdout",
          "text": [
            "  sigma=0.0200 img 71/115 elapsed 135.4s\n"
          ]
        },
        {
          "output_type": "stream",
          "name": "stdout",
          "text": [
            "  sigma=0.0200 img 81/115 elapsed 157.5s\n"
          ]
        },
        {
          "output_type": "stream",
          "name": "stdout",
          "text": [
            "  sigma=0.0200 img 91/115 elapsed 179.5s\n"
          ]
        },
        {
          "output_type": "stream",
          "name": "stdout",
          "text": [
            "  sigma=0.0200 img 101/115 elapsed 201.4s\n"
          ]
        },
        {
          "output_type": "stream",
          "name": "stdout",
          "text": [
            "  sigma=0.0200 img 111/115 elapsed 223.2s\n"
          ]
        },
        {
          "output_type": "stream",
          "name": "stdout",
          "text": [
            "  -> mean RMSE=0.051160, median=0.049039, time=234.2s\n[BM3D v2 global] sigma=0.0250\n  sigma=0.0250 img 1/115 elapsed 0.0s\n"
          ]
        },
        {
          "output_type": "stream",
          "name": "stdout",
          "text": [
            "  sigma=0.0250 img 11/115 elapsed 16.9s\n"
          ]
        },
        {
          "output_type": "stream",
          "name": "stdout",
          "text": [
            "  sigma=0.0250 img 21/115 elapsed 33.7s\n"
          ]
        },
        {
          "output_type": "stream",
          "name": "stdout",
          "text": [
            "  sigma=0.0250 img 31/115 elapsed 50.7s\n"
          ]
        },
        {
          "output_type": "stream",
          "name": "stdout",
          "text": [
            "  sigma=0.0250 img 41/115 elapsed 68.0s\n"
          ]
        },
        {
          "output_type": "stream",
          "name": "stdout",
          "text": [
            "  sigma=0.0250 img 51/115 elapsed 89.9s\n"
          ]
        },
        {
          "output_type": "stream",
          "name": "stdout",
          "text": [
            "  sigma=0.0250 img 61/115 elapsed 112.0s\n"
          ]
        },
        {
          "output_type": "stream",
          "name": "stdout",
          "text": [
            "  sigma=0.0250 img 71/115 elapsed 134.0s\n"
          ]
        },
        {
          "output_type": "stream",
          "name": "stdout",
          "text": [
            "  sigma=0.0250 img 81/115 elapsed 156.1s\n"
          ]
        },
        {
          "output_type": "stream",
          "name": "stdout",
          "text": [
            "  sigma=0.0250 img 91/115 elapsed 177.8s\n"
          ]
        },
        {
          "output_type": "stream",
          "name": "stdout",
          "text": [
            "  sigma=0.0250 img 101/115 elapsed 199.4s\n"
          ]
        },
        {
          "output_type": "stream",
          "name": "stdout",
          "text": [
            "  sigma=0.0250 img 111/115 elapsed 221.2s\n"
          ]
        },
        {
          "output_type": "stream",
          "name": "stdout",
          "text": [
            "  -> mean RMSE=0.051318, median=0.049153, time=232.2s\n[BM3D v2 global] sigma=0.0300\n  sigma=0.0300 img 1/115 elapsed 0.0s\n"
          ]
        },
        {
          "output_type": "stream",
          "name": "stdout",
          "text": [
            "  sigma=0.0300 img 11/115 elapsed 16.9s\n"
          ]
        },
        {
          "output_type": "stream",
          "name": "stdout",
          "text": [
            "  sigma=0.0300 img 21/115 elapsed 33.6s\n"
          ]
        },
        {
          "output_type": "stream",
          "name": "stdout",
          "text": [
            "  sigma=0.0300 img 31/115 elapsed 50.4s\n"
          ]
        },
        {
          "output_type": "stream",
          "name": "stdout",
          "text": [
            "  sigma=0.0300 img 41/115 elapsed 67.8s\n"
          ]
        },
        {
          "output_type": "stream",
          "name": "stdout",
          "text": [
            "  sigma=0.0300 img 51/115 elapsed 89.8s\n"
          ]
        },
        {
          "output_type": "stream",
          "name": "stdout",
          "text": [
            "  sigma=0.0300 img 61/115 elapsed 111.7s\n"
          ]
        },
        {
          "output_type": "stream",
          "name": "stdout",
          "text": [
            "  sigma=0.0300 img 71/115 elapsed 133.3s\n"
          ]
        },
        {
          "output_type": "stream",
          "name": "stdout",
          "text": [
            "  sigma=0.0300 img 81/115 elapsed 155.0s\n"
          ]
        },
        {
          "output_type": "stream",
          "name": "stdout",
          "text": [
            "  sigma=0.0300 img 91/115 elapsed 176.8s\n"
          ]
        },
        {
          "output_type": "stream",
          "name": "stdout",
          "text": [
            "  sigma=0.0300 img 101/115 elapsed 198.8s\n"
          ]
        },
        {
          "output_type": "stream",
          "name": "stdout",
          "text": [
            "  sigma=0.0300 img 111/115 elapsed 220.8s\n"
          ]
        },
        {
          "output_type": "stream",
          "name": "stdout",
          "text": [
            "  -> mean RMSE=0.051591, median=0.049544, time=231.7s\n[BM3D v2 global] sigma=0.0350\n  sigma=0.0350 img 1/115 elapsed 0.0s\n"
          ]
        },
        {
          "output_type": "stream",
          "name": "stdout",
          "text": [
            "  sigma=0.0350 img 11/115 elapsed 16.9s\n"
          ]
        },
        {
          "output_type": "stream",
          "name": "stdout",
          "text": [
            "  sigma=0.0350 img 21/115 elapsed 33.8s\n"
          ]
        },
        {
          "output_type": "stream",
          "name": "stdout",
          "text": [
            "  sigma=0.0350 img 31/115 elapsed 50.7s\n"
          ]
        },
        {
          "output_type": "stream",
          "name": "stdout",
          "text": [
            "  sigma=0.0350 img 41/115 elapsed 68.1s\n"
          ]
        },
        {
          "output_type": "stream",
          "name": "stdout",
          "text": [
            "  sigma=0.0350 img 51/115 elapsed 90.2s\n"
          ]
        },
        {
          "output_type": "stream",
          "name": "stdout",
          "text": [
            "  sigma=0.0350 img 61/115 elapsed 112.3s\n"
          ]
        },
        {
          "output_type": "stream",
          "name": "stdout",
          "text": [
            "  sigma=0.0350 img 71/115 elapsed 134.3s\n"
          ]
        },
        {
          "output_type": "stream",
          "name": "stdout",
          "text": [
            "  sigma=0.0350 img 81/115 elapsed 156.3s\n"
          ]
        },
        {
          "output_type": "stream",
          "name": "stdout",
          "text": [
            "  sigma=0.0350 img 91/115 elapsed 178.2s\n"
          ]
        },
        {
          "output_type": "stream",
          "name": "stdout",
          "text": [
            "  sigma=0.0350 img 101/115 elapsed 200.2s\n"
          ]
        },
        {
          "output_type": "stream",
          "name": "stdout",
          "text": [
            "  sigma=0.0350 img 111/115 elapsed 222.2s\n"
          ]
        },
        {
          "output_type": "stream",
          "name": "stdout",
          "text": [
            "  -> mean RMSE=0.051981, median=0.050060, time=233.2s\n[BM3D v2 global] sigma=0.0400\n  sigma=0.0400 img 1/115 elapsed 0.0s\n"
          ]
        },
        {
          "output_type": "stream",
          "name": "stdout",
          "text": [
            "  sigma=0.0400 img 11/115 elapsed 17.0s\n"
          ]
        },
        {
          "output_type": "stream",
          "name": "stdout",
          "text": [
            "  sigma=0.0400 img 21/115 elapsed 33.9s\n"
          ]
        },
        {
          "output_type": "stream",
          "name": "stdout",
          "text": [
            "  sigma=0.0400 img 31/115 elapsed 50.8s\n"
          ]
        },
        {
          "output_type": "stream",
          "name": "stdout",
          "text": [
            "  sigma=0.0400 img 41/115 elapsed 68.1s\n"
          ]
        },
        {
          "output_type": "stream",
          "name": "stdout",
          "text": [
            "  sigma=0.0400 img 51/115 elapsed 90.2s\n"
          ]
        },
        {
          "output_type": "stream",
          "name": "stdout",
          "text": [
            "  sigma=0.0400 img 61/115 elapsed 112.3s\n"
          ]
        },
        {
          "output_type": "stream",
          "name": "stdout",
          "text": [
            "  sigma=0.0400 img 71/115 elapsed 134.4s\n"
          ]
        },
        {
          "output_type": "stream",
          "name": "stdout",
          "text": [
            "  sigma=0.0400 img 81/115 elapsed 156.5s\n"
          ]
        },
        {
          "output_type": "stream",
          "name": "stdout",
          "text": [
            "  sigma=0.0400 img 91/115 elapsed 178.5s\n"
          ]
        },
        {
          "output_type": "stream",
          "name": "stdout",
          "text": [
            "  sigma=0.0400 img 101/115 elapsed 200.4s\n"
          ]
        },
        {
          "output_type": "stream",
          "name": "stdout",
          "text": [
            "  sigma=0.0400 img 111/115 elapsed 222.4s\n"
          ]
        },
        {
          "output_type": "stream",
          "name": "stdout",
          "text": [
            "  -> mean RMSE=0.052493, median=0.050739, time=233.4s\nTop BM3D v2 global sigmas by mean RMSE:\n  sigma=0.0200: mean=0.051160, median=0.049039\n  sigma=0.0250: mean=0.051318, median=0.049153\n  sigma=0.0300: mean=0.051591, median=0.049544\n  sigma=0.0350: mean=0.051981, median=0.050060\n  sigma=0.0400: mean=0.052493, median=0.050739\nBest BM3D v2 global sigma: 0.02\n"
          ]
        }
      ]
    },
    {
      "id": "f8e7a51d-03cc-46c4-a2ff-28918370c4f2",
      "cell_type": "code",
      "metadata": {},
      "source": [
        "# Per-image adaptive background ksize selection {27,31,35} with RMSE-optimized thresholds\n",
        "import numpy as np\n",
        "\n",
        "def bg_ksize_candidates():\n",
        "    return (27, 31, 35)\n",
        "\n",
        "def normalize_with_ksize(img_u8: np.ndarray, ksize_bg: int) -> np.ndarray:\n",
        "    bg = estimate_background_median(img_u8, ksize=ksize_bg)\n",
        "    norm = normalize_divide(img_u8, bg)\n",
        "    return norm\n",
        "\n",
        "def stain_metric(img_u8: np.ndarray, ksize_ref: int = 31) -> float:\n",
        "    # Use std of normalized image with reference bg ksize as a simple stain level proxy\n",
        "    norm = normalize_with_ksize(img_u8, ksize_ref)\n",
        "    return float(np.std(norm))\n",
        "\n",
        "def collect_per_image_bg_errs(train_paths, ksizes=(27,31,35), h: int = 14, tmpl: int = 5, srch: int = 31, ksize_ref_metric: int = 31):\n",
        "    per_img = []  # dict: {'path': p, 'metric': m, 'errs': {ks: err}, 'best_ks': ks, 'best_err': err}\n",
        "    for i, p in enumerate(train_paths):\n",
        "        if i % 10 == 0:\n",
        "            print(f'collect bg errs: {i+1}/{len(train_paths)}', flush=True)\n",
        "        img = read_gray_uint8(p)\n",
        "        m = stain_metric(img, ksize_ref=ksize_ref_metric)\n",
        "        target_f = to_float01(read_gray_uint8(TRAIN_CLEAN_DIR / p.name))\n",
        "        errs_map = {}\n",
        "        best_ks, best_err = None, 1e9\n",
        "        for ks in ksizes:\n",
        "            norm = normalize_with_ksize(img, ks)\n",
        "            den = cv2.fastNlMeansDenoising(norm, None, h=h, templateWindowSize=tmpl, searchWindowSize=srch)\n",
        "            err = rmse(to_float01(den), target_f)\n",
        "            errs_map[ks] = err\n",
        "            if err < best_err:\n",
        "                best_err = err; best_ks = ks\n",
        "        per_img.append({'path': p, 'metric': m, 'errs': errs_map, 'best_ks': best_ks, 'best_err': best_err})\n",
        "    mean_oracle = float(np.mean([d['best_err'] for d in per_img]))\n",
        "    print('Mean RMSE of oracle per-image bg-ksize:', mean_oracle)\n",
        "    return per_img\n",
        "\n",
        "def fit_metric_thresholds_min_rmse(per_img, ksizes=(27,31,35)):\n",
        "    metrics = np.array([d['metric'] for d in per_img], dtype=np.float32)\n",
        "    pcts = np.percentile(metrics, [20, 30, 40, 50, 60, 70, 80])\n",
        "    best = None  # (mean_rmse, t1, t2)\n",
        "    for i in range(len(pcts)):\n",
        "        for j in range(i+1, len(pcts)):\n",
        "            t1, t2 = float(pcts[i]), float(pcts[j])\n",
        "            errs = []\n",
        "            for d in per_img:\n",
        "                s = d['metric']\n",
        "                if s < t1: ks = ksizes[0]\n",
        "                elif s < t2: ks = ksizes[1]\n",
        "                else: ks = ksizes[2]\n",
        "                errs.append(d['errs'][ks])\n",
        "            mean_rmse = float(np.mean(errs))\n",
        "            if best is None or mean_rmse < best[0]:\n",
        "                best = (mean_rmse, t1, t2)\n",
        "    print(f'Best bg-ksize thresholds by RMSE: mean={best[0]:.6f} at t1={best[1]:.6f}, t2={best[2]:.6f}')\n",
        "    return best[1], best[2], best[0]\n",
        "\n",
        "def eval_bg_threshold_assignment_from_cache(per_img, t1: float, t2: float, ksizes=(27,31,35)):\n",
        "    errs = []\n",
        "    for d in per_img:\n",
        "        s = d['metric']\n",
        "        if s < t1: ks = ksizes[0]\n",
        "        elif s < t2: ks = ksizes[1]\n",
        "        else: ks = ksizes[2]\n",
        "        errs.append(d['errs'][ks])\n",
        "    mean_rmse = float(np.mean(errs)); med_rmse = float(np.median(errs))\n",
        "    print(f'Cached bg-ksize assignment RMSE -> mean={mean_rmse:.6f}, median={med_rmse:.6f}')\n",
        "    return mean_rmse, med_rmse\n",
        "\n",
        "def generate_submission_per_image_bgksize(t1: float, t2: float, ksizes=(27,31,35), h: int = 14, tmpl: int = 5, srch: int = 31, out_path='submission.csv', decimals: int = 5):\n",
        "    fmt = '{:.' + str(decimals) + 'f}'\n",
        "    # Ordered unique image ids\n",
        "    sample_iter = pd.read_csv(SAMPLE_SUB_PATH, chunksize=200000)\n",
        "    ordered_image_ids, seen = [], set()\n",
        "    for chunk in sample_iter:\n",
        "        for s in chunk['id'].astype(str).values:\n",
        "            img_id, r, c = parse_id_triplet(s)\n",
        "            if img_id not in seen:\n",
        "                seen.add(img_id); ordered_image_ids.append(img_id)\n",
        "    print(f'Found {len(ordered_image_ids)} unique test image ids for bg-ksize selection.')\n",
        "    cache = {}\n",
        "    for idx, img_id in enumerate(ordered_image_ids):\n",
        "        img_path = TEST_DIR / f'{img_id}.png'\n",
        "        print(f'[{idx+1}/{len(ordered_image_ids)}] {img_path}', flush=True)\n",
        "        img_u8 = read_gray_uint8(img_path)\n",
        "        m = stain_metric(img_u8, ksize_ref=31)\n",
        "        if m < t1: ks = ksizes[0]\n",
        "        elif m < t2: ks = ksizes[1]\n",
        "        else: ks = ksizes[2]\n",
        "        norm = normalize_with_ksize(img_u8, ks)\n",
        "        den = cv2.fastNlMeansDenoising(norm, None, h=h, templateWindowSize=tmpl, searchWindowSize=srch)\n",
        "        cache[img_id] = to_float01(den)\n",
        "    # Write with fixed decimals\n",
        "    import csv\n",
        "    print(f'Writing per-image bg-ksize predictions to CSV ({decimals} decimals)...')\n",
        "    with open(out_path, 'w', newline='') as f_out:\n",
        "        writer = csv.writer(f_out)\n",
        "        writer.writerow(['id', 'value'])\n",
        "        for chunk in pd.read_csv(SAMPLE_SUB_PATH, chunksize=200000):\n",
        "            rows = []\n",
        "            for s in chunk['id'].astype(str).values:\n",
        "                img_id, r, c = parse_id_triplet(s)\n",
        "                val = float(np.clip(cache[img_id][r-1, c-1], 0.0, 1.0))\n",
        "                rows.append((s, fmt.format(val)))\n",
        "            writer.writerows(rows)\n",
        "    print(f'Wrote: {out_path}')\n",
        "\n",
        "# Run per-image bg-ksize oracle and threshold fit\n",
        "ks_cands = bg_ksize_candidates()\n",
        "per_img_bg = collect_per_image_bg_errs(train_files, ksizes=ks_cands, h=14, tmpl=5, srch=31, ksize_ref_metric=31)\n",
        "t1_bg, t2_bg, best_mean_bg = fit_metric_thresholds_min_rmse(per_img_bg, ksizes=ks_cands)\n",
        "mean_rmse_bg, med_rmse_bg = eval_bg_threshold_assignment_from_cache(per_img_bg, t1_bg, t2_bg, ksizes=ks_cands)\n",
        "print('bg-ksize thresholds:', t1_bg, t2_bg, '-> mean RMSE:', mean_rmse_bg, 'median RMSE:', med_rmse_bg)\n",
        "# If mean_rmse_bg < 0.049001, generate a submission:\n",
        "# generate_submission_per_image_bgksize(t1_bg, t2_bg, ksizes=ks_cands, h=14, tmpl=5, srch=31, out_path='submission.csv', decimals=5)"
      ],
      "execution_count": 20,
      "outputs": [
        {
          "output_type": "stream",
          "name": "stdout",
          "text": [
            "collect bg errs: 1/115\n"
          ]
        },
        {
          "output_type": "stream",
          "name": "stdout",
          "text": [
            "collect bg errs: 11/115\n"
          ]
        },
        {
          "output_type": "stream",
          "name": "stdout",
          "text": [
            "collect bg errs: 21/115\n"
          ]
        },
        {
          "output_type": "stream",
          "name": "stdout",
          "text": [
            "collect bg errs: 31/115\n"
          ]
        },
        {
          "output_type": "stream",
          "name": "stdout",
          "text": [
            "collect bg errs: 41/115\n"
          ]
        },
        {
          "output_type": "stream",
          "name": "stdout",
          "text": [
            "collect bg errs: 51/115\n"
          ]
        },
        {
          "output_type": "stream",
          "name": "stdout",
          "text": [
            "collect bg errs: 61/115\n"
          ]
        },
        {
          "output_type": "stream",
          "name": "stdout",
          "text": [
            "collect bg errs: 71/115\n"
          ]
        },
        {
          "output_type": "stream",
          "name": "stdout",
          "text": [
            "collect bg errs: 81/115\n"
          ]
        },
        {
          "output_type": "stream",
          "name": "stdout",
          "text": [
            "collect bg errs: 91/115\n"
          ]
        },
        {
          "output_type": "stream",
          "name": "stdout",
          "text": [
            "collect bg errs: 101/115\n"
          ]
        },
        {
          "output_type": "stream",
          "name": "stdout",
          "text": [
            "collect bg errs: 111/115\n"
          ]
        },
        {
          "output_type": "stream",
          "name": "stdout",
          "text": [
            "Mean RMSE of oracle per-image bg-ksize: 0.04843027288823024\nBest bg-ksize thresholds by RMSE: mean=0.048763 at t1=62.757529, t2=63.837418\nCached bg-ksize assignment RMSE -> mean=0.048763, median=0.047317\nbg-ksize thresholds: 62.757529449462886 63.83741760253906 -> mean RMSE: 0.04876299471310947 median RMSE: 0.04731684550642967\n"
          ]
        }
      ]
    },
    {
      "id": "251d5dba-ac33-45dd-ad05-402a6ed9a65c",
      "cell_type": "code",
      "metadata": {},
      "source": [
        "# Generate submission using adaptive background ksize thresholds found above (5 decimals)\n",
        "print('Using bg-ksize thresholds:', t1_bg, t2_bg)\n",
        "generate_submission_per_image_bgksize(t1_bg, t2_bg, ksizes=ks_cands, h=14, tmpl=5, srch=31, out_path='submission.csv', decimals=5)"
      ],
      "execution_count": 21,
      "outputs": [
        {
          "output_type": "stream",
          "name": "stdout",
          "text": [
            "Using bg-ksize thresholds: 62.757529449462886 63.83741760253906\n"
          ]
        },
        {
          "output_type": "stream",
          "name": "stdout",
          "text": [
            "Found 29 unique test image ids for bg-ksize selection.\n[1/29] test/110.png\n"
          ]
        },
        {
          "output_type": "stream",
          "name": "stdout",
          "text": [
            "[2/29] test/111.png\n"
          ]
        },
        {
          "output_type": "stream",
          "name": "stdout",
          "text": [
            "[3/29] test/122.png\n"
          ]
        },
        {
          "output_type": "stream",
          "name": "stdout",
          "text": [
            "[4/29] test/131.png\n"
          ]
        },
        {
          "output_type": "stream",
          "name": "stdout",
          "text": [
            "[5/29] test/134.png\n"
          ]
        },
        {
          "output_type": "stream",
          "name": "stdout",
          "text": [
            "[6/29] test/137.png\n"
          ]
        },
        {
          "output_type": "stream",
          "name": "stdout",
          "text": [
            "[7/29] test/146.png\n"
          ]
        },
        {
          "output_type": "stream",
          "name": "stdout",
          "text": [
            "[8/29] test/150.png\n"
          ]
        },
        {
          "output_type": "stream",
          "name": "stdout",
          "text": [
            "[9/29] test/155.png\n"
          ]
        },
        {
          "output_type": "stream",
          "name": "stdout",
          "text": [
            "[10/29] test/159.png\n"
          ]
        },
        {
          "output_type": "stream",
          "name": "stdout",
          "text": [
            "[11/29] test/162.png\n"
          ]
        },
        {
          "output_type": "stream",
          "name": "stdout",
          "text": [
            "[12/29] test/170.png\n"
          ]
        },
        {
          "output_type": "stream",
          "name": "stdout",
          "text": [
            "[13/29] test/174.png\n"
          ]
        },
        {
          "output_type": "stream",
          "name": "stdout",
          "text": [
            "[14/29] test/180.png\n"
          ]
        },
        {
          "output_type": "stream",
          "name": "stdout",
          "text": [
            "[15/29] test/186.png\n"
          ]
        },
        {
          "output_type": "stream",
          "name": "stdout",
          "text": [
            "[16/29] test/216.png\n"
          ]
        },
        {
          "output_type": "stream",
          "name": "stdout",
          "text": [
            "[17/29] test/26.png\n"
          ]
        },
        {
          "output_type": "stream",
          "name": "stdout",
          "text": [
            "[18/29] test/35.png\n"
          ]
        },
        {
          "output_type": "stream",
          "name": "stdout",
          "text": [
            "[19/29] test/36.png\n"
          ]
        },
        {
          "output_type": "stream",
          "name": "stdout",
          "text": [
            "[20/29] test/42.png\n"
          ]
        },
        {
          "output_type": "stream",
          "name": "stdout",
          "text": [
            "[21/29] test/54.png\n"
          ]
        },
        {
          "output_type": "stream",
          "name": "stdout",
          "text": [
            "[22/29] test/6.png\n"
          ]
        },
        {
          "output_type": "stream",
          "name": "stdout",
          "text": [
            "[23/29] test/62.png\n"
          ]
        },
        {
          "output_type": "stream",
          "name": "stdout",
          "text": [
            "[24/29] test/68.png\n"
          ]
        },
        {
          "output_type": "stream",
          "name": "stdout",
          "text": [
            "[25/29] test/77.png\n"
          ]
        },
        {
          "output_type": "stream",
          "name": "stdout",
          "text": [
            "[26/29] test/78.png\n"
          ]
        },
        {
          "output_type": "stream",
          "name": "stdout",
          "text": [
            "[27/29] test/8.png\n"
          ]
        },
        {
          "output_type": "stream",
          "name": "stdout",
          "text": [
            "[28/29] test/80.png\n"
          ]
        },
        {
          "output_type": "stream",
          "name": "stdout",
          "text": [
            "[29/29] test/95.png\n"
          ]
        },
        {
          "output_type": "stream",
          "name": "stdout",
          "text": [
            "Writing per-image bg-ksize predictions to CSV (5 decimals)...\n"
          ]
        },
        {
          "output_type": "stream",
          "name": "stdout",
          "text": [
            "Wrote: submission.csv\n"
          ]
        }
      ]
    },
    {
      "id": "63002743-32cd-4e4b-abe1-2bcd8770821e",
      "cell_type": "code",
      "metadata": {},
      "source": [
        "# Float-based normalization with background floor + post percentile stretch (DDD tricks) using NLM (uint8) in the middle\n",
        "import numpy as np\n",
        "\n",
        "def normalize_divide_float_with_floor(img_u8: np.ndarray, ksize_bg: int = 31, bg_floor_u8: int = 5) -> tuple[np.ndarray, np.ndarray]:\n",
        "    # Compute float normalization with background floor, then quantize to uint8 for OpenCV NLM\n",
        "    bg = estimate_background_median(img_u8, ksize=ksize_bg)\n",
        "    img_f = img_u8.astype(np.float32) / 255.0\n",
        "    bg_f = bg.astype(np.float32) / 255.0\n",
        "    floor = float(bg_floor_u8) / 255.0\n",
        "    bg_safe = np.maximum(bg_f, floor)\n",
        "    norm_f = (img_f / bg_safe).clip(0.0, 1.0).astype(np.float32)\n",
        "    norm_u8 = (norm_f * 255.0).clip(0, 255).astype(np.uint8)\n",
        "    return norm_u8, norm_f\n",
        "\n",
        "def percentile_stretch_float(img_f: np.ndarray, p_low: float = 1.0, p_high: float = 99.0) -> np.ndarray:\n",
        "    lo = float(np.percentile(img_f, p_low))\n",
        "    hi = float(np.percentile(img_f, p_high))\n",
        "    if hi <= lo + 1e-6:\n",
        "        return np.clip(img_f, 0.0, 1.0).astype(np.float32)\n",
        "    out = (img_f - lo) / (hi - lo)\n",
        "    return np.clip(out, 0.0, 1.0).astype(np.float32)\n",
        "\n",
        "def pipeline_floatnorm_nlm_pstretch(\n",
        "    img_u8: np.ndarray,\n",
        "    ksize_bg: int = 31,\n",
        "    bg_floor_u8: int = 5,\n",
        "    h: int = 14,\n",
        "    tmpl: int = 5,\n",
        "    srch: int = 31,\n",
        "    p_low: float = 1.0,\n",
        "    p_high: float = 99.0\n",
        ") -> np.ndarray:\n",
        "    norm_u8, _ = normalize_divide_float_with_floor(img_u8, ksize_bg=ksize_bg, bg_floor_u8=bg_floor_u8)\n",
        "    den_u8 = cv2.fastNlMeansDenoising(norm_u8, None, h=h, templateWindowSize=tmpl, searchWindowSize=srch)\n",
        "    den_f = (den_u8.astype(np.float32) / 255.0).clip(0.0, 1.0)\n",
        "    out_f = percentile_stretch_float(den_f, p_low=p_low, p_high=p_high)\n",
        "    return out_f\n",
        "\n",
        "def eval_floatnorm_pstretch_on_train(\n",
        "    bg_floor_list=(3, 5, 7), p_low_list=(0.5, 1.0, 1.5), p_high: float = 99.0,\n",
        "    ksize_bg: int = 31, h: int = 14, tmpl: int = 5, srch: int = 31\n",
        "):\n",
        "    results = []\n",
        "    for floor_u8 in bg_floor_list:\n",
        "        for p_low in p_low_list:\n",
        "            errs = []\n",
        "            t0 = time.time()\n",
        "            print(f'[float+stretch] floor={floor_u8}, p_low={p_low}, p_high={p_high}')\n",
        "            for i, p in enumerate(train_files):\n",
        "                if i % 10 == 0:\n",
        "                    print(f'  img {i+1}/{len(train_files)} elapsed {time.time()-t0:.1f}s', flush=True)\n",
        "                img = read_gray_uint8(p)\n",
        "                pred_f = pipeline_floatnorm_nlm_pstretch(img, ksize_bg=ksize_bg, bg_floor_u8=floor_u8, h=h, tmpl=tmpl, srch=srch, p_low=p_low, p_high=p_high)\n",
        "                target_f = to_float01(read_gray_uint8(TRAIN_CLEAN_DIR / p.name))\n",
        "                errs.append(rmse(pred_f, target_f))\n",
        "            mean_rmse = float(np.mean(errs))\n",
        "            med_rmse = float(np.median(errs))\n",
        "            print(f'  -> mean RMSE={mean_rmse:.6f}, median RMSE={med_rmse:.6f}, time={time.time()-t0:.1f}s')\n",
        "            results.append((floor_u8, p_low, p_high, mean_rmse, med_rmse))\n",
        "    results.sort(key=lambda x: x[3])\n",
        "    print('Top float+stretch configs by mean RMSE:')\n",
        "    for floor_u8, p_low, p_high, m, md in results[:5]:\n",
        "        print(f'  floor={floor_u8}, p_low={p_low}, p_high={p_high}: mean={m:.6f}, median={md:.6f}')\n",
        "    return results\n",
        "\n",
        "def generate_submission_floatnorm_pstretch(\n",
        "    bg_floor_u8: int, p_low: float, p_high: float,\n",
        "    ksize_bg: int = 31, h: int = 14, tmpl: int = 5, srch: int = 31,\n",
        "    out_path: str = 'submission.csv', decimals: int = 5\n",
        "):\n",
        "    fmt = '{:.' + str(decimals) + 'f}'\n",
        "    # Ordered unique image ids\n",
        "    sample_iter = pd.read_csv(SAMPLE_SUB_PATH, chunksize=200000)\n",
        "    ordered_image_ids, seen = [], set()\n",
        "    for chunk in sample_iter:\n",
        "        for s in chunk['id'].astype(str).values:\n",
        "            img_id, r, c = parse_id_triplet(s)\n",
        "            if img_id not in seen:\n",
        "                seen.add(img_id); ordered_image_ids.append(img_id)\n",
        "    print(f'[submit float+stretch] Found {len(ordered_image_ids)} unique test image ids.')\n",
        "    cache = {}\n",
        "    for idx, img_id in enumerate(ordered_image_ids):\n",
        "        img_path = TEST_DIR / f'{img_id}.png'\n",
        "        print(f'[{idx+1}/{len(ordered_image_ids)}] {img_path}', flush=True)\n",
        "        img_u8 = read_gray_uint8(img_path)\n",
        "        pred_f = pipeline_floatnorm_nlm_pstretch(img_u8, ksize_bg=ksize_bg, bg_floor_u8=bg_floor_u8, h=h, tmpl=tmpl, srch=srch, p_low=p_low, p_high=p_high)\n",
        "        cache[img_id] = pred_f.astype(np.float32)\n",
        "    # Write in sample order with fixed decimals\n",
        "    import csv\n",
        "    print(f'Writing predictions to CSV ({decimals} decimals)...')\n",
        "    with open(out_path, 'w', newline='') as f_out:\n",
        "        writer = csv.writer(f_out)\n",
        "        writer.writerow(['id', 'value'])\n",
        "        for chunk in pd.read_csv(SAMPLE_SUB_PATH, chunksize=200000):\n",
        "            rows = []\n",
        "            for s in chunk['id'].astype(str).values:\n",
        "                img_id, r, c = parse_id_triplet(s)\n",
        "                val = float(np.clip(cache[img_id][r-1, c-1], 0.0, 1.0))\n",
        "                rows.append((s, fmt.format(val)))\n",
        "            writer.writerows(rows)\n",
        "    print(f'Wrote: {out_path}')\n",
        "\n",
        "# Evaluate float normalization + percentile stretch on train\n",
        "float_stretch_results = eval_floatnorm_pstretch_on_train(bg_floor_list=(3,5,7), p_low_list=(0.5,1.0,1.5), p_high=99.0, ksize_bg=31, h=14, tmpl=5, srch=31)\n",
        "best_floor, best_plow, best_phigh, best_m, best_md = float_stretch_results[0]\n",
        "print('Best float+stretch config -> floor:', best_floor, 'p_low:', best_plow, 'p_high:', best_phigh, 'mean:', best_m)\n",
        "# If best_m < current best (0.048763), consider generating a submission:\n",
        "# generate_submission_floatnorm_pstretch(bg_floor_u8=int(best_floor), p_low=float(best_plow), p_high=float(best_phigh), ksize_bg=31, h=14, tmpl=5, srch=31, out_path='submission.csv', decimals=5)"
      ],
      "execution_count": 22,
      "outputs": [
        {
          "output_type": "stream",
          "name": "stdout",
          "text": [
            "[float+stretch] floor=3, p_low=0.5, p_high=99.0\n  img 1/115 elapsed 0.0s\n"
          ]
        },
        {
          "output_type": "stream",
          "name": "stdout",
          "text": [
            "  img 11/115 elapsed 3.8s\n"
          ]
        },
        {
          "output_type": "stream",
          "name": "stdout",
          "text": [
            "  img 21/115 elapsed 7.6s\n"
          ]
        },
        {
          "output_type": "stream",
          "name": "stdout",
          "text": [
            "  img 31/115 elapsed 11.4s\n"
          ]
        },
        {
          "output_type": "stream",
          "name": "stdout",
          "text": [
            "  img 41/115 elapsed 15.1s\n"
          ]
        },
        {
          "output_type": "stream",
          "name": "stdout",
          "text": [
            "  img 51/115 elapsed 18.3s\n"
          ]
        },
        {
          "output_type": "stream",
          "name": "stdout",
          "text": [
            "  img 61/115 elapsed 21.5s\n"
          ]
        },
        {
          "output_type": "stream",
          "name": "stdout",
          "text": [
            "  img 71/115 elapsed 24.7s\n"
          ]
        },
        {
          "output_type": "stream",
          "name": "stdout",
          "text": [
            "  img 81/115 elapsed 27.8s\n"
          ]
        },
        {
          "output_type": "stream",
          "name": "stdout",
          "text": [
            "  img 91/115 elapsed 31.0s\n"
          ]
        },
        {
          "output_type": "stream",
          "name": "stdout",
          "text": [
            "  img 101/115 elapsed 34.2s\n"
          ]
        },
        {
          "output_type": "stream",
          "name": "stdout",
          "text": [
            "  img 111/115 elapsed 37.4s\n"
          ]
        },
        {
          "output_type": "stream",
          "name": "stdout",
          "text": [
            "  -> mean RMSE=0.040300, median RMSE=0.037904, time=39.0s\n[float+stretch] floor=3, p_low=1.0, p_high=99.0\n  img 1/115 elapsed 0.0s\n"
          ]
        },
        {
          "output_type": "stream",
          "name": "stdout",
          "text": [
            "  img 11/115 elapsed 3.8s\n"
          ]
        },
        {
          "output_type": "stream",
          "name": "stdout",
          "text": [
            "  img 21/115 elapsed 7.5s\n"
          ]
        },
        {
          "output_type": "stream",
          "name": "stdout",
          "text": [
            "  img 31/115 elapsed 11.4s\n"
          ]
        },
        {
          "output_type": "stream",
          "name": "stdout",
          "text": [
            "  img 41/115 elapsed 15.1s\n"
          ]
        },
        {
          "output_type": "stream",
          "name": "stdout",
          "text": [
            "  img 51/115 elapsed 18.3s\n"
          ]
        },
        {
          "output_type": "stream",
          "name": "stdout",
          "text": [
            "  img 61/115 elapsed 21.5s\n"
          ]
        },
        {
          "output_type": "stream",
          "name": "stdout",
          "text": [
            "  img 71/115 elapsed 24.6s\n"
          ]
        },
        {
          "output_type": "stream",
          "name": "stdout",
          "text": [
            "  img 81/115 elapsed 27.8s\n"
          ]
        },
        {
          "output_type": "stream",
          "name": "stdout",
          "text": [
            "  img 91/115 elapsed 31.1s\n"
          ]
        },
        {
          "output_type": "stream",
          "name": "stdout",
          "text": [
            "  img 101/115 elapsed 34.3s\n"
          ]
        },
        {
          "output_type": "stream",
          "name": "stdout",
          "text": [
            "  img 111/115 elapsed 37.5s\n"
          ]
        },
        {
          "output_type": "stream",
          "name": "stdout",
          "text": [
            "  -> mean RMSE=0.039264, median RMSE=0.037116, time=39.2s\n[float+stretch] floor=3, p_low=1.5, p_high=99.0\n  img 1/115 elapsed 0.0s\n"
          ]
        },
        {
          "output_type": "stream",
          "name": "stdout",
          "text": [
            "  img 11/115 elapsed 3.7s\n"
          ]
        },
        {
          "output_type": "stream",
          "name": "stdout",
          "text": [
            "  img 21/115 elapsed 7.5s\n"
          ]
        },
        {
          "output_type": "stream",
          "name": "stdout",
          "text": [
            "  img 31/115 elapsed 11.2s\n"
          ]
        },
        {
          "output_type": "stream",
          "name": "stdout",
          "text": [
            "  img 41/115 elapsed 14.9s\n"
          ]
        },
        {
          "output_type": "stream",
          "name": "stdout",
          "text": [
            "  img 51/115 elapsed 18.1s\n"
          ]
        },
        {
          "output_type": "stream",
          "name": "stdout",
          "text": [
            "  img 61/115 elapsed 21.3s\n"
          ]
        },
        {
          "output_type": "stream",
          "name": "stdout",
          "text": [
            "  img 71/115 elapsed 24.4s\n"
          ]
        },
        {
          "output_type": "stream",
          "name": "stdout",
          "text": [
            "  img 81/115 elapsed 27.6s\n"
          ]
        },
        {
          "output_type": "stream",
          "name": "stdout",
          "text": [
            "  img 91/115 elapsed 30.8s\n"
          ]
        },
        {
          "output_type": "stream",
          "name": "stdout",
          "text": [
            "  img 101/115 elapsed 34.1s\n"
          ]
        },
        {
          "output_type": "stream",
          "name": "stdout",
          "text": [
            "  img 111/115 elapsed 37.3s\n"
          ]
        },
        {
          "output_type": "stream",
          "name": "stdout",
          "text": [
            "  -> mean RMSE=0.039089, median RMSE=0.036856, time=38.9s\n[float+stretch] floor=5, p_low=0.5, p_high=99.0\n  img 1/115 elapsed 0.0s\n"
          ]
        },
        {
          "output_type": "stream",
          "name": "stdout",
          "text": [
            "  img 11/115 elapsed 3.7s\n"
          ]
        },
        {
          "output_type": "stream",
          "name": "stdout",
          "text": [
            "  img 21/115 elapsed 7.5s\n"
          ]
        },
        {
          "output_type": "stream",
          "name": "stdout",
          "text": [
            "  img 31/115 elapsed 11.3s\n"
          ]
        },
        {
          "output_type": "stream",
          "name": "stdout",
          "text": [
            "  img 41/115 elapsed 14.9s\n"
          ]
        },
        {
          "output_type": "stream",
          "name": "stdout",
          "text": [
            "  img 51/115 elapsed 18.1s\n"
          ]
        },
        {
          "output_type": "stream",
          "name": "stdout",
          "text": [
            "  img 61/115 elapsed 21.3s\n"
          ]
        },
        {
          "output_type": "stream",
          "name": "stdout",
          "text": [
            "  img 71/115 elapsed 24.5s\n"
          ]
        },
        {
          "output_type": "stream",
          "name": "stdout",
          "text": [
            "  img 81/115 elapsed 27.7s\n"
          ]
        },
        {
          "output_type": "stream",
          "name": "stdout",
          "text": [
            "  img 91/115 elapsed 30.9s\n"
          ]
        },
        {
          "output_type": "stream",
          "name": "stdout",
          "text": [
            "  img 101/115 elapsed 34.1s\n"
          ]
        },
        {
          "output_type": "stream",
          "name": "stdout",
          "text": [
            "  img 111/115 elapsed 37.3s\n"
          ]
        },
        {
          "output_type": "stream",
          "name": "stdout",
          "text": [
            "  -> mean RMSE=0.040300, median RMSE=0.037904, time=38.9s\n[float+stretch] floor=5, p_low=1.0, p_high=99.0\n  img 1/115 elapsed 0.0s\n"
          ]
        },
        {
          "output_type": "stream",
          "name": "stdout",
          "text": [
            "  img 11/115 elapsed 3.7s\n"
          ]
        },
        {
          "output_type": "stream",
          "name": "stdout",
          "text": [
            "  img 21/115 elapsed 7.5s\n"
          ]
        },
        {
          "output_type": "stream",
          "name": "stdout",
          "text": [
            "  img 31/115 elapsed 11.2s\n"
          ]
        },
        {
          "output_type": "stream",
          "name": "stdout",
          "text": [
            "  img 41/115 elapsed 15.0s\n"
          ]
        },
        {
          "output_type": "stream",
          "name": "stdout",
          "text": [
            "  img 51/115 elapsed 18.1s\n"
          ]
        },
        {
          "output_type": "stream",
          "name": "stdout",
          "text": [
            "  img 61/115 elapsed 21.3s\n"
          ]
        },
        {
          "output_type": "stream",
          "name": "stdout",
          "text": [
            "  img 71/115 elapsed 24.4s\n"
          ]
        },
        {
          "output_type": "stream",
          "name": "stdout",
          "text": [
            "  img 81/115 elapsed 27.6s\n"
          ]
        },
        {
          "output_type": "stream",
          "name": "stdout",
          "text": [
            "  img 91/115 elapsed 30.7s\n"
          ]
        },
        {
          "output_type": "stream",
          "name": "stdout",
          "text": [
            "  img 101/115 elapsed 33.9s\n"
          ]
        },
        {
          "output_type": "stream",
          "name": "stdout",
          "text": [
            "  img 111/115 elapsed 37.1s\n"
          ]
        },
        {
          "output_type": "stream",
          "name": "stdout",
          "text": [
            "  -> mean RMSE=0.039264, median RMSE=0.037116, time=38.7s\n[float+stretch] floor=5, p_low=1.5, p_high=99.0\n  img 1/115 elapsed 0.0s\n"
          ]
        },
        {
          "output_type": "stream",
          "name": "stdout",
          "text": [
            "  img 11/115 elapsed 3.7s\n"
          ]
        },
        {
          "output_type": "stream",
          "name": "stdout",
          "text": [
            "  img 21/115 elapsed 7.4s\n"
          ]
        },
        {
          "output_type": "stream",
          "name": "stdout",
          "text": [
            "  img 31/115 elapsed 11.2s\n"
          ]
        },
        {
          "output_type": "stream",
          "name": "stdout",
          "text": [
            "  img 41/115 elapsed 14.9s\n"
          ]
        },
        {
          "output_type": "stream",
          "name": "stdout",
          "text": [
            "  img 51/115 elapsed 18.1s\n"
          ]
        },
        {
          "output_type": "stream",
          "name": "stdout",
          "text": [
            "  img 61/115 elapsed 21.2s\n"
          ]
        },
        {
          "output_type": "stream",
          "name": "stdout",
          "text": [
            "  img 71/115 elapsed 24.4s\n"
          ]
        },
        {
          "output_type": "stream",
          "name": "stdout",
          "text": [
            "  img 81/115 elapsed 27.6s\n"
          ]
        },
        {
          "output_type": "stream",
          "name": "stdout",
          "text": [
            "  img 91/115 elapsed 30.8s\n"
          ]
        },
        {
          "output_type": "stream",
          "name": "stdout",
          "text": [
            "  img 101/115 elapsed 34.0s\n"
          ]
        },
        {
          "output_type": "stream",
          "name": "stdout",
          "text": [
            "  img 111/115 elapsed 37.2s\n"
          ]
        },
        {
          "output_type": "stream",
          "name": "stdout",
          "text": [
            "  -> mean RMSE=0.039089, median RMSE=0.036856, time=38.8s\n[float+stretch] floor=7, p_low=0.5, p_high=99.0\n  img 1/115 elapsed 0.0s\n"
          ]
        },
        {
          "output_type": "stream",
          "name": "stdout",
          "text": [
            "  img 11/115 elapsed 3.7s\n"
          ]
        },
        {
          "output_type": "stream",
          "name": "stdout",
          "text": [
            "  img 21/115 elapsed 7.5s\n"
          ]
        },
        {
          "output_type": "stream",
          "name": "stdout",
          "text": [
            "  img 31/115 elapsed 11.2s\n"
          ]
        },
        {
          "output_type": "stream",
          "name": "stdout",
          "text": [
            "  img 41/115 elapsed 14.9s\n"
          ]
        },
        {
          "output_type": "stream",
          "name": "stdout",
          "text": [
            "  img 51/115 elapsed 18.1s\n"
          ]
        },
        {
          "output_type": "stream",
          "name": "stdout",
          "text": [
            "  img 61/115 elapsed 21.3s\n"
          ]
        },
        {
          "output_type": "stream",
          "name": "stdout",
          "text": [
            "  img 71/115 elapsed 24.5s\n"
          ]
        },
        {
          "output_type": "stream",
          "name": "stdout",
          "text": [
            "  img 81/115 elapsed 27.6s\n"
          ]
        },
        {
          "output_type": "stream",
          "name": "stdout",
          "text": [
            "  img 91/115 elapsed 30.8s\n"
          ]
        },
        {
          "output_type": "stream",
          "name": "stdout",
          "text": [
            "  img 101/115 elapsed 34.0s\n"
          ]
        },
        {
          "output_type": "stream",
          "name": "stdout",
          "text": [
            "  img 111/115 elapsed 37.2s\n"
          ]
        },
        {
          "output_type": "stream",
          "name": "stdout",
          "text": [
            "  -> mean RMSE=0.040300, median RMSE=0.037904, time=38.8s\n[float+stretch] floor=7, p_low=1.0, p_high=99.0\n  img 1/115 elapsed 0.0s\n"
          ]
        },
        {
          "output_type": "stream",
          "name": "stdout",
          "text": [
            "  img 11/115 elapsed 3.8s\n"
          ]
        },
        {
          "output_type": "stream",
          "name": "stdout",
          "text": [
            "  img 21/115 elapsed 7.5s\n"
          ]
        },
        {
          "output_type": "stream",
          "name": "stdout",
          "text": [
            "  img 31/115 elapsed 11.3s\n"
          ]
        },
        {
          "output_type": "stream",
          "name": "stdout",
          "text": [
            "  img 41/115 elapsed 15.0s\n"
          ]
        },
        {
          "output_type": "stream",
          "name": "stdout",
          "text": [
            "  img 51/115 elapsed 18.2s\n"
          ]
        },
        {
          "output_type": "stream",
          "name": "stdout",
          "text": [
            "  img 61/115 elapsed 21.4s\n"
          ]
        },
        {
          "output_type": "stream",
          "name": "stdout",
          "text": [
            "  img 71/115 elapsed 24.6s\n"
          ]
        },
        {
          "output_type": "stream",
          "name": "stdout",
          "text": [
            "  img 81/115 elapsed 27.8s\n"
          ]
        },
        {
          "output_type": "stream",
          "name": "stdout",
          "text": [
            "  img 91/115 elapsed 31.0s\n"
          ]
        },
        {
          "output_type": "stream",
          "name": "stdout",
          "text": [
            "  img 101/115 elapsed 34.2s\n"
          ]
        },
        {
          "output_type": "stream",
          "name": "stdout",
          "text": [
            "  img 111/115 elapsed 37.3s\n"
          ]
        },
        {
          "output_type": "stream",
          "name": "stdout",
          "text": [
            "  -> mean RMSE=0.039264, median RMSE=0.037116, time=38.9s\n[float+stretch] floor=7, p_low=1.5, p_high=99.0\n  img 1/115 elapsed 0.0s\n"
          ]
        },
        {
          "output_type": "stream",
          "name": "stdout",
          "text": [
            "  img 11/115 elapsed 3.7s\n"
          ]
        },
        {
          "output_type": "stream",
          "name": "stdout",
          "text": [
            "  img 21/115 elapsed 7.5s\n"
          ]
        },
        {
          "output_type": "stream",
          "name": "stdout",
          "text": [
            "  img 31/115 elapsed 11.2s\n"
          ]
        },
        {
          "output_type": "stream",
          "name": "stdout",
          "text": [
            "  img 41/115 elapsed 14.8s\n"
          ]
        },
        {
          "output_type": "stream",
          "name": "stdout",
          "text": [
            "  img 51/115 elapsed 18.0s\n"
          ]
        },
        {
          "output_type": "stream",
          "name": "stdout",
          "text": [
            "  img 61/115 elapsed 21.1s\n"
          ]
        },
        {
          "output_type": "stream",
          "name": "stdout",
          "text": [
            "  img 71/115 elapsed 24.3s\n"
          ]
        },
        {
          "output_type": "stream",
          "name": "stdout",
          "text": [
            "  img 81/115 elapsed 27.4s\n"
          ]
        },
        {
          "output_type": "stream",
          "name": "stdout",
          "text": [
            "  img 91/115 elapsed 30.6s\n"
          ]
        },
        {
          "output_type": "stream",
          "name": "stdout",
          "text": [
            "  img 101/115 elapsed 33.8s\n"
          ]
        },
        {
          "output_type": "stream",
          "name": "stdout",
          "text": [
            "  img 111/115 elapsed 36.9s\n"
          ]
        },
        {
          "output_type": "stream",
          "name": "stdout",
          "text": [
            "  -> mean RMSE=0.039089, median RMSE=0.036856, time=38.5s\nTop float+stretch configs by mean RMSE:\n  floor=3, p_low=1.5, p_high=99.0: mean=0.039089, median=0.036856\n  floor=5, p_low=1.5, p_high=99.0: mean=0.039089, median=0.036856\n  floor=7, p_low=1.5, p_high=99.0: mean=0.039089, median=0.036856\n  floor=3, p_low=1.0, p_high=99.0: mean=0.039264, median=0.037116\n  floor=5, p_low=1.0, p_high=99.0: mean=0.039264, median=0.037116\nBest float+stretch config -> floor: 3 p_low: 1.5 p_high: 99.0 mean: 0.03908857217301493\n"
          ]
        }
      ]
    },
    {
      "id": "d8374f10-c899-4979-98e0-0b8947487bb9",
      "cell_type": "code",
      "metadata": {},
      "source": [
        "# Generate submission using best float-based normalization + percentile stretch config\n",
        "print('Generating submission with float normalization + percentile stretch...')\n",
        "best_floor, best_plow, best_phigh = 3, 1.5, 99.0\n",
        "generate_submission_floatnorm_pstretch(bg_floor_u8=int(best_floor), p_low=float(best_plow), p_high=float(best_phigh), ksize_bg=31, h=14, tmpl=5, srch=31, out_path='submission.csv', decimals=5)"
      ],
      "execution_count": 23,
      "outputs": [
        {
          "output_type": "stream",
          "name": "stdout",
          "text": [
            "Generating submission with float normalization + percentile stretch...\n"
          ]
        },
        {
          "output_type": "stream",
          "name": "stdout",
          "text": [
            "[submit float+stretch] Found 29 unique test image ids.\n[1/29] test/110.png\n"
          ]
        },
        {
          "output_type": "stream",
          "name": "stdout",
          "text": [
            "[2/29] test/111.png\n"
          ]
        },
        {
          "output_type": "stream",
          "name": "stdout",
          "text": [
            "[3/29] test/122.png\n"
          ]
        },
        {
          "output_type": "stream",
          "name": "stdout",
          "text": [
            "[4/29] test/131.png\n"
          ]
        },
        {
          "output_type": "stream",
          "name": "stdout",
          "text": [
            "[5/29] test/134.png\n"
          ]
        },
        {
          "output_type": "stream",
          "name": "stdout",
          "text": [
            "[6/29] test/137.png\n"
          ]
        },
        {
          "output_type": "stream",
          "name": "stdout",
          "text": [
            "[7/29] test/146.png\n"
          ]
        },
        {
          "output_type": "stream",
          "name": "stdout",
          "text": [
            "[8/29] test/150.png\n"
          ]
        },
        {
          "output_type": "stream",
          "name": "stdout",
          "text": [
            "[9/29] test/155.png\n"
          ]
        },
        {
          "output_type": "stream",
          "name": "stdout",
          "text": [
            "[10/29] test/159.png\n"
          ]
        },
        {
          "output_type": "stream",
          "name": "stdout",
          "text": [
            "[11/29] test/162.png\n"
          ]
        },
        {
          "output_type": "stream",
          "name": "stdout",
          "text": [
            "[12/29] test/170.png\n"
          ]
        },
        {
          "output_type": "stream",
          "name": "stdout",
          "text": [
            "[13/29] test/174.png\n"
          ]
        },
        {
          "output_type": "stream",
          "name": "stdout",
          "text": [
            "[14/29] test/180.png\n"
          ]
        },
        {
          "output_type": "stream",
          "name": "stdout",
          "text": [
            "[15/29] test/186.png\n"
          ]
        },
        {
          "output_type": "stream",
          "name": "stdout",
          "text": [
            "[16/29] test/216.png\n"
          ]
        },
        {
          "output_type": "stream",
          "name": "stdout",
          "text": [
            "[17/29] test/26.png\n"
          ]
        },
        {
          "output_type": "stream",
          "name": "stdout",
          "text": [
            "[18/29] test/35.png\n"
          ]
        },
        {
          "output_type": "stream",
          "name": "stdout",
          "text": [
            "[19/29] test/36.png\n"
          ]
        },
        {
          "output_type": "stream",
          "name": "stdout",
          "text": [
            "[20/29] test/42.png\n"
          ]
        },
        {
          "output_type": "stream",
          "name": "stdout",
          "text": [
            "[21/29] test/54.png\n"
          ]
        },
        {
          "output_type": "stream",
          "name": "stdout",
          "text": [
            "[22/29] test/6.png\n"
          ]
        },
        {
          "output_type": "stream",
          "name": "stdout",
          "text": [
            "[23/29] test/62.png\n"
          ]
        },
        {
          "output_type": "stream",
          "name": "stdout",
          "text": [
            "[24/29] test/68.png\n"
          ]
        },
        {
          "output_type": "stream",
          "name": "stdout",
          "text": [
            "[25/29] test/77.png\n"
          ]
        },
        {
          "output_type": "stream",
          "name": "stdout",
          "text": [
            "[26/29] test/78.png\n"
          ]
        },
        {
          "output_type": "stream",
          "name": "stdout",
          "text": [
            "[27/29] test/8.png\n"
          ]
        },
        {
          "output_type": "stream",
          "name": "stdout",
          "text": [
            "[28/29] test/80.png\n"
          ]
        },
        {
          "output_type": "stream",
          "name": "stdout",
          "text": [
            "[29/29] test/95.png\n"
          ]
        },
        {
          "output_type": "stream",
          "name": "stdout",
          "text": [
            "Writing predictions to CSV (5 decimals)...\n"
          ]
        },
        {
          "output_type": "stream",
          "name": "stdout",
          "text": [
            "Wrote: submission.csv\n"
          ]
        }
      ]
    },
    {
      "id": "4ede48e2-7bf6-4d56-aece-5482d745aa2f",
      "cell_type": "code",
      "metadata": {},
      "source": [
        "# Regenerate submission with fewer decimals (4) to fit size limit < 100MB\n",
        "print('Regenerating submission with 4 decimals to reduce file size...')\n",
        "best_floor, best_plow, best_phigh = 3, 1.5, 99.0\n",
        "generate_submission_floatnorm_pstretch(bg_floor_u8=int(best_floor), p_low=float(best_plow), p_high=float(best_phigh), ksize_bg=31, h=14, tmpl=5, srch=31, out_path='submission.csv', decimals=4)"
      ],
      "execution_count": 24,
      "outputs": [
        {
          "output_type": "stream",
          "name": "stdout",
          "text": [
            "Regenerating submission with 4 decimals to reduce file size...\n"
          ]
        },
        {
          "output_type": "stream",
          "name": "stdout",
          "text": [
            "[submit float+stretch] Found 29 unique test image ids.\n[1/29] test/110.png\n"
          ]
        },
        {
          "output_type": "stream",
          "name": "stdout",
          "text": [
            "[2/29] test/111.png\n"
          ]
        },
        {
          "output_type": "stream",
          "name": "stdout",
          "text": [
            "[3/29] test/122.png\n"
          ]
        },
        {
          "output_type": "stream",
          "name": "stdout",
          "text": [
            "[4/29] test/131.png\n"
          ]
        },
        {
          "output_type": "stream",
          "name": "stdout",
          "text": [
            "[5/29] test/134.png\n"
          ]
        },
        {
          "output_type": "stream",
          "name": "stdout",
          "text": [
            "[6/29] test/137.png\n"
          ]
        },
        {
          "output_type": "stream",
          "name": "stdout",
          "text": [
            "[7/29] test/146.png\n"
          ]
        },
        {
          "output_type": "stream",
          "name": "stdout",
          "text": [
            "[8/29] test/150.png\n"
          ]
        },
        {
          "output_type": "stream",
          "name": "stdout",
          "text": [
            "[9/29] test/155.png\n"
          ]
        },
        {
          "output_type": "stream",
          "name": "stdout",
          "text": [
            "[10/29] test/159.png\n"
          ]
        },
        {
          "output_type": "stream",
          "name": "stdout",
          "text": [
            "[11/29] test/162.png\n"
          ]
        },
        {
          "output_type": "stream",
          "name": "stdout",
          "text": [
            "[12/29] test/170.png\n"
          ]
        },
        {
          "output_type": "stream",
          "name": "stdout",
          "text": [
            "[13/29] test/174.png\n"
          ]
        },
        {
          "output_type": "stream",
          "name": "stdout",
          "text": [
            "[14/29] test/180.png\n"
          ]
        },
        {
          "output_type": "stream",
          "name": "stdout",
          "text": [
            "[15/29] test/186.png\n"
          ]
        },
        {
          "output_type": "stream",
          "name": "stdout",
          "text": [
            "[16/29] test/216.png\n"
          ]
        },
        {
          "output_type": "stream",
          "name": "stdout",
          "text": [
            "[17/29] test/26.png\n"
          ]
        },
        {
          "output_type": "stream",
          "name": "stdout",
          "text": [
            "[18/29] test/35.png\n"
          ]
        },
        {
          "output_type": "stream",
          "name": "stdout",
          "text": [
            "[19/29] test/36.png\n"
          ]
        },
        {
          "output_type": "stream",
          "name": "stdout",
          "text": [
            "[20/29] test/42.png\n"
          ]
        },
        {
          "output_type": "stream",
          "name": "stdout",
          "text": [
            "[21/29] test/54.png\n"
          ]
        },
        {
          "output_type": "stream",
          "name": "stdout",
          "text": [
            "[22/29] test/6.png\n"
          ]
        },
        {
          "output_type": "stream",
          "name": "stdout",
          "text": [
            "[23/29] test/62.png\n"
          ]
        },
        {
          "output_type": "stream",
          "name": "stdout",
          "text": [
            "[24/29] test/68.png\n"
          ]
        },
        {
          "output_type": "stream",
          "name": "stdout",
          "text": [
            "[25/29] test/77.png\n"
          ]
        },
        {
          "output_type": "stream",
          "name": "stdout",
          "text": [
            "[26/29] test/78.png\n"
          ]
        },
        {
          "output_type": "stream",
          "name": "stdout",
          "text": [
            "[27/29] test/8.png\n"
          ]
        },
        {
          "output_type": "stream",
          "name": "stdout",
          "text": [
            "[28/29] test/80.png\n"
          ]
        },
        {
          "output_type": "stream",
          "name": "stdout",
          "text": [
            "[29/29] test/95.png\n"
          ]
        },
        {
          "output_type": "stream",
          "name": "stdout",
          "text": [
            "Writing predictions to CSV (4 decimals)...\n"
          ]
        },
        {
          "output_type": "stream",
          "name": "stdout",
          "text": [
            "Wrote: submission.csv\n"
          ]
        }
      ]
    },
    {
      "id": "05f7526e-6195-41b9-9a48-6fcf7ed749d8",
      "cell_type": "code",
      "metadata": {},
      "source": [
        "# Regenerate submission with 3 decimals to ensure file size < 100MB\n",
        "print('Regenerating submission with 3 decimals to reduce file size below limit...')\n",
        "best_floor, best_plow, best_phigh = 3, 1.5, 99.0\n",
        "generate_submission_floatnorm_pstretch(bg_floor_u8=int(best_floor), p_low=float(best_plow), p_high=float(best_phigh), ksize_bg=31, h=14, tmpl=5, srch=31, out_path='submission.csv', decimals=3)"
      ],
      "execution_count": 25,
      "outputs": [
        {
          "output_type": "stream",
          "name": "stdout",
          "text": [
            "Regenerating submission with 3 decimals to reduce file size below limit...\n"
          ]
        },
        {
          "output_type": "stream",
          "name": "stdout",
          "text": [
            "[submit float+stretch] Found 29 unique test image ids.\n[1/29] test/110.png\n"
          ]
        },
        {
          "output_type": "stream",
          "name": "stdout",
          "text": [
            "[2/29] test/111.png\n"
          ]
        },
        {
          "output_type": "stream",
          "name": "stdout",
          "text": [
            "[3/29] test/122.png\n"
          ]
        },
        {
          "output_type": "stream",
          "name": "stdout",
          "text": [
            "[4/29] test/131.png\n"
          ]
        },
        {
          "output_type": "stream",
          "name": "stdout",
          "text": [
            "[5/29] test/134.png\n"
          ]
        },
        {
          "output_type": "stream",
          "name": "stdout",
          "text": [
            "[6/29] test/137.png\n"
          ]
        },
        {
          "output_type": "stream",
          "name": "stdout",
          "text": [
            "[7/29] test/146.png\n"
          ]
        },
        {
          "output_type": "stream",
          "name": "stdout",
          "text": [
            "[8/29] test/150.png\n"
          ]
        },
        {
          "output_type": "stream",
          "name": "stdout",
          "text": [
            "[9/29] test/155.png\n"
          ]
        },
        {
          "output_type": "stream",
          "name": "stdout",
          "text": [
            "[10/29] test/159.png\n"
          ]
        },
        {
          "output_type": "stream",
          "name": "stdout",
          "text": [
            "[11/29] test/162.png\n"
          ]
        },
        {
          "output_type": "stream",
          "name": "stdout",
          "text": [
            "[12/29] test/170.png\n"
          ]
        },
        {
          "output_type": "stream",
          "name": "stdout",
          "text": [
            "[13/29] test/174.png\n"
          ]
        },
        {
          "output_type": "stream",
          "name": "stdout",
          "text": [
            "[14/29] test/180.png\n"
          ]
        },
        {
          "output_type": "stream",
          "name": "stdout",
          "text": [
            "[15/29] test/186.png\n"
          ]
        },
        {
          "output_type": "stream",
          "name": "stdout",
          "text": [
            "[16/29] test/216.png\n"
          ]
        },
        {
          "output_type": "stream",
          "name": "stdout",
          "text": [
            "[17/29] test/26.png\n"
          ]
        },
        {
          "output_type": "stream",
          "name": "stdout",
          "text": [
            "[18/29] test/35.png\n"
          ]
        },
        {
          "output_type": "stream",
          "name": "stdout",
          "text": [
            "[19/29] test/36.png\n"
          ]
        },
        {
          "output_type": "stream",
          "name": "stdout",
          "text": [
            "[20/29] test/42.png\n"
          ]
        },
        {
          "output_type": "stream",
          "name": "stdout",
          "text": [
            "[21/29] test/54.png\n"
          ]
        },
        {
          "output_type": "stream",
          "name": "stdout",
          "text": [
            "[22/29] test/6.png\n"
          ]
        },
        {
          "output_type": "stream",
          "name": "stdout",
          "text": [
            "[23/29] test/62.png\n"
          ]
        },
        {
          "output_type": "stream",
          "name": "stdout",
          "text": [
            "[24/29] test/68.png\n"
          ]
        },
        {
          "output_type": "stream",
          "name": "stdout",
          "text": [
            "[25/29] test/77.png\n"
          ]
        },
        {
          "output_type": "stream",
          "name": "stdout",
          "text": [
            "[26/29] test/78.png\n"
          ]
        },
        {
          "output_type": "stream",
          "name": "stdout",
          "text": [
            "[27/29] test/8.png\n"
          ]
        },
        {
          "output_type": "stream",
          "name": "stdout",
          "text": [
            "[28/29] test/80.png\n"
          ]
        },
        {
          "output_type": "stream",
          "name": "stdout",
          "text": [
            "[29/29] test/95.png\n"
          ]
        },
        {
          "output_type": "stream",
          "name": "stdout",
          "text": [
            "Writing predictions to CSV (3 decimals)...\n"
          ]
        },
        {
          "output_type": "stream",
          "name": "stdout",
          "text": [
            "Wrote: submission.csv\n"
          ]
        }
      ]
    }
  ],
  "metadata": {
    "kernelspec": {
      "display_name": "Python 3",
      "language": "python",
      "name": "python3"
    },
    "language_info": {
      "name": "python",
      "version": "3.11.0rc1"
    }
  },
  "nbformat": 4,
  "nbformat_minor": 5
}