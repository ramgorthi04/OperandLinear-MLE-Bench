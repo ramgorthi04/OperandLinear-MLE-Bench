{
  "cells": [
    {
      "id": "b53909f1-84bd-47c2-ac88-5b8e59819f4c",
      "cell_type": "markdown",
      "metadata": {},
      "source": [
        "# Plan: RANZCR CLiP - Catheter and Line Position Challenge\n",
        "\n",
        "Objectives:\n",
        "- Build a strong baseline fast; iterate to medal-level AUC-ROC.\n",
        "- Use 5-fold CV with robust validation and AMP; generate test predictions and submission.csv.\n",
        "\n",
        "Data:\n",
        "- train/: chest X-ray JPGs\n",
        "- test/: chest X-ray JPGs\n",
        "- train.csv: image_id + 11 target columns (multilabel).\n",
        "- sample_submission.csv: required columns and order.\n",
        "- train_annotations.csv: optional localization info (ignore initially).\n",
        "\n",
        "Metric:\n",
        "- Mean macro ROC-AUC across the 11 classes. Track per-class and macro; early-stop/select by macro.\n",
        "\n",
        "Baseline Modeling Strategy (Phase 1):\n",
        "- Model: timm tf_efficientnet_b3 (or b3_ns), head: 11 outputs.\n",
        "- Image size: 512.\n",
        "- Preproc: Read RGB (grayscale effectively), normalize to ImageNet.\n",
        "- CLAHE: apply (clip_limit\u22482.0, tile_grid_size=(8,8)); include in pipeline (p=0.3\u20131.0).\n",
        "- Resize policy: scale longer side to 512, pad shorter side to square; same for train/val/test. Do NOT use RandomResizedCrop.\n",
        "- Augmentations (safe): HorizontalFlip(0.5), Rotate \u00b17\u201310\u00b0, ShiftScaleRotate small (shift\u22640.05, scale 0.95\u20131.05), RandomBrightnessContrast(\u00b10.1\u20130.15), RandomGamma(0.8\u20131.2), optional light Sharpen/Noise. Avoid elastic/grid/perspective, strong crops, CoarseDropout.\n",
        "- Loss: BCEWithLogitsLoss with per-class pos_weight = N_neg/N_pos (clipped to [1,5]).\n",
        "- Optim: AdamW (lr=2e-4\u20133e-4, wd=1e-4); Scheduler: Cosine with 1-epoch linear warmup.\n",
        "- Training: 5-fold MultilabelStratifiedKFold (or Group if patient/study ID available). Seed everything.\n",
        "- Epochs: 6\u201310 with EarlyStopping(patience=2) on macro AUC; AMP on; EMA optional (decay\u22480.9998).\n",
        "- Batch size: as high as fits (aim 24\u201332 at 512 with AMP); use grad accumulation if needed.\n",
        "- TTA: start with 2x (orig + hflip). Average logits across TTAs and folds, then sigmoid.\n",
        "\n",
        "Phase 2 Improvements (time permitting):\n",
        "- Add convnext_tiny @512 for diversity and mean-logit ensemble (+0.003\u20130.006 AUC typical).\n",
        "- Short finetune best model at 640 px for 2\u20133 epochs, or train effb4 @640 single model.\n",
        "- Expand TTA up to 4 variants (add slight rotate/brightness) if stable.\n",
        "\n",
        "Validation & Logging:\n",
        "- Use iterative multilabel stratification; log fold composition, seeds.\n",
        "- Compute per-class AUC and macro AUC per epoch/fold; save best checkpoints by macro.\n",
        "- Save OOF predictions for analysis; ensure deterministic behavior.\n",
        "\n",
        "Deliverables:\n",
        "- submission.csv matching sample_submission.csv format (ids + 11 columns in exact order).\n",
        "\n",
        "Implementation Priorities (24h):\n",
        "- Hour 0\u20132: Data module with CLAHE+resize/pad, MultilabelStratifiedKFold, class counts/pos_weight, macro AUC metric. Verify formats.\n",
        "- Hour 2\u201310: Train effb3@512 5 folds with AMP, cosine+warmup, early stop; log thoroughly.\n",
        "- Hour 10\u201312: Inference with hflip TTA; fold-average logits; create submission and submit.\n",
        "- Hour 12\u201320: Train convnext_tiny@512; ensemble with effb3; resubmit.\n",
        "- Hour 20\u201324: Optional 640 finetune or higher-res single model; update ensemble.\n",
        "\n",
        "Quick wins / Pitfalls:\n",
        "- Wins: CLAHE, correct pos_weight, iterative stratification, hflip TTA, consistent resize/pad, EMA.\n",
        "- Pitfalls: wrong metric (micro), RandomResizedCrop, leakage from non-grouped CV, averaging probs instead of logits, inconsistent preprocessing, over-strong augs.\n",
        "\n",
        "Next Steps:\n",
        "1) Inspect CSVs (train.csv, sample_submission.csv) to confirm IDs/targets/order.\n",
        "2) Implement datasets/transforms, pos_weight computation, and CV splitter.\n",
        "3) Implement baseline training pipeline (EfficientNet-B3 @512) with 5-fold.\n",
        "4) Generate OOF CV; if strong (>=0.968 CV), proceed to inference + submit.\n",
        "5) Train convnext_tiny and ensemble if time remains."
      ],
      "execution_count": null,
      "outputs": []
    },
    {
      "id": "8ece02cf-9a91-4429-8152-e19600b2fb06",
      "cell_type": "code",
      "metadata": {},
      "source": [
        "# Setup, inspect CSVs, compute class frequencies and pos_weight\n",
        "import os, sys, time, json, math, random, gc, glob, platform, subprocess\n",
        "from pathlib import Path\n",
        "import numpy as np\n",
        "import pandas as pd\n",
        "\n",
        "def pip_install_if_needed(pkg, import_name=None, extra_args=None):\n",
        "    import importlib\n",
        "    name = import_name or pkg.split('==')[0]\n",
        "    try:\n",
        "        importlib.import_module(name)\n",
        "        print(f\"[pkg] {pkg} already installed\")\n",
        "    except ImportError:\n",
        "        cmd = [sys.executable, '-m', 'pip', 'install', pkg]\n",
        "        if extra_args:\n",
        "            cmd += extra_args\n",
        "        print('[pip] Installing', pkg)\n",
        "        subprocess.check_call(cmd)\n",
        "\n",
        "# Ensure required packages\n",
        "pip_install_if_needed('timm')\n",
        "pip_install_if_needed('albumentations')\n",
        "pip_install_if_needed('iterative-stratification', import_name='iterstrat')\n",
        "\n",
        "print('[env] Python', platform.python_version())\n",
        "print('[env] CWD:', os.getcwd())\n",
        "\n",
        "train_csv_path = 'train.csv'\n",
        "ss_csv_path = 'sample_submission.csv'\n",
        "train_dir = Path('train')\n",
        "test_dir = Path('test')\n",
        "\n",
        "assert Path(train_csv_path).exists(), 'train.csv not found'\n",
        "assert Path(ss_csv_path).exists(), 'sample_submission.csv not found'\n",
        "assert train_dir.exists(), 'train/ dir not found'\n",
        "assert test_dir.exists(), 'test/ dir not found'\n",
        "\n",
        "train_df = pd.read_csv(train_csv_path)\n",
        "ss_df = pd.read_csv(ss_csv_path)\n",
        "print('[data] train_df shape:', train_df.shape)\n",
        "print('[data] sample_submission shape:', ss_df.shape)\n",
        "print('[data] train_df columns:', list(train_df.columns))\n",
        "print('[data] sample_submission columns:', list(ss_df.columns))\n",
        "\n",
        "# Identify ID column and target columns using sample_submission format\n",
        "id_col = ss_df.columns[0]\n",
        "target_cols = list(ss_df.columns[1:])\n",
        "print('[data] id_col:', id_col)\n",
        "print('[data] target_cols (n=%d):' % len(target_cols), target_cols)\n",
        "\n",
        "# Sanity: ensure train has id_col and targets\n",
        "missing_cols = [c for c in [id_col] + target_cols if c not in train_df.columns]\n",
        "assert not missing_cols, f'Missing expected columns in train.csv: {missing_cols}'\n",
        "\n",
        "# Check a few files existence\n",
        "n_missing_train = 0\n",
        "for i, row in train_df.iloc[:50].iterrows():\n",
        "    img_path = train_dir / f\"{row[id_col]}.jpg\"\n",
        "    if not img_path.exists():\n",
        "        n_missing_train += 1\n",
        "print(f\"[data] Missing train images in first 50: {n_missing_train}\")\n",
        "print(f\"[data] Num train images on disk: {len(list(train_dir.glob('*.jpg')))}\")\n",
        "print(f\"[data] Num test images on disk: {len(list(test_dir.glob('*.jpg')))}\")\n",
        "\n",
        "# Class frequencies and pos_weight = N_neg/N_pos clipped to [1,5]\n",
        "y = train_df[target_cols].astype(np.float32)\n",
        "pos_counts = y.sum(axis=0)\n",
        "neg_counts = len(y) - pos_counts\n",
        "pos_weight = (neg_counts / pos_counts.clip(lower=1e-6)).clip(lower=1.0, upper=5.0)\n",
        "class_stats = pd.DataFrame({\n",
        "    'pos': pos_counts.astype(int),\n",
        "    'neg': neg_counts.astype(int),\n",
        "    'pos_frac': (pos_counts / len(y)).round(6),\n",
        "    'pos_weight_clipped': pos_weight.round(4)\n",
        "})\n",
        "print('[stats] Class stats and pos_weight (clipped to [1,5]):')\n",
        "print(class_stats)\n",
        "\n",
        "# Save pos_weight vector for later use\n",
        "pos_weight_path = 'pos_weight.npy'\n",
        "np.save(pos_weight_path, pos_weight.values.astype(np.float32))\n",
        "print('[stats] Saved pos_weight to', pos_weight_path)\n",
        "\n",
        "# Seed utility\n",
        "def seed_everything(seed: int = 42):\n",
        "    import torch\n",
        "    random.seed(seed)\n",
        "    np.random.seed(seed)\n",
        "    torch.manual_seed(seed)\n",
        "    torch.cuda.manual_seed_all(seed)\n",
        "    os.environ['PYTHONHASHSEED'] = str(seed)\n",
        "    torch.backends.cudnn.deterministic = True\n",
        "    torch.backends.cudnn.benchmark = False\n",
        "seed_everything(42)\n",
        "print('[seed] Set to 42')\n",
        "\n",
        "# Detect GPU\n",
        "try:\n",
        "    import torch\n",
        "    print('[env] Torch', torch.__version__, 'CUDA:', torch.cuda.is_available())\n",
        "    if torch.cuda.is_available():\n",
        "        print('[env] GPU:', torch.cuda.get_device_name(0))\n",
        "except Exception as e:\n",
        "    print('[env] Torch not available yet or error:', e)"
      ],
      "execution_count": null,
      "outputs": [
        {
          "output_type": "stream",
          "name": "stderr",
          "text": [
            "/app/.pip-target/tqdm/auto.py:21: TqdmWarning: IProgress not found. Please update jupyter and ipywidgets. See https://ipywidgets.readthedocs.io/en/stable/user_install.html\n  from .autonotebook import tqdm as notebook_tqdm\n"
          ]
        },
        {
          "output_type": "stream",
          "name": "stdout",
          "text": [
            "[pkg] timm already installed\n"
          ]
        }
      ]
    },
    {
      "id": "b8ea8702-213a-43f7-9288-b60c57d0a0ba",
      "cell_type": "code",
      "metadata": {},
      "source": [
        "# Dataset, transforms, and CV splitter (Grouped multilabel stratification by PatientID). Sanity-check a batch.\n",
        "import cv2\n",
        "import torch\n",
        "from torch.utils.data import Dataset, DataLoader\n",
        "from iterstrat.ml_stratifiers import MultilabelStratifiedKFold\n",
        "\n",
        "def ensure_pkg(pkg, import_name=None):\n",
        "    import importlib, subprocess, sys\n",
        "    name = import_name or pkg\n",
        "    try:\n",
        "        importlib.import_module(name)\n",
        "    except ImportError:\n",
        "        print('[pip] Installing', pkg)\n",
        "        subprocess.check_call([sys.executable, '-m', 'pip', 'install', pkg])\n",
        "\n",
        "# opencv for CLAHE if not present (headless variant)\n",
        "ensure_pkg('opencv-python-headless', 'cv2')\n",
        "ensure_pkg('albumentations')\n",
        "import albumentations as A\n",
        "from albumentations.pytorch import ToTensorV2\n",
        "\n",
        "IMG_SIZE = 640\n",
        "MEAN = (0.485, 0.456, 0.406)\n",
        "STD = (0.229, 0.224, 0.225)\n",
        "\n",
        "def build_train_aug(size=IMG_SIZE, clahe_p=1.0):\n",
        "    return A.Compose([\n",
        "        A.CLAHE(clip_limit=2.0, tile_grid_size=(8,8), p=clahe_p),\n",
        "        A.LongestMaxSize(max_size=size),\n",
        "        A.PadIfNeeded(min_height=size, min_width=size, border_mode=cv2.BORDER_REFLECT),\n",
        "        A.HorizontalFlip(p=0.5),\n",
        "        A.Affine(translate_percent=(0,0.05), scale=(0.95,1.05), rotate=(-7,7), mode=cv2.BORDER_REFLECT, p=0.3),\n",
        "        A.RandomBrightnessContrast(brightness_limit=0.15, contrast_limit=0.15, p=0.2),\n",
        "        A.RandomGamma(gamma_limit=(80,120), p=0.2),\n",
        "        A.Normalize(mean=MEAN, std=STD),\n",
        "        ToTensorV2()\n",
        "    ])\n",
        "\n",
        "def build_valid_aug(size=IMG_SIZE, clahe_p=1.0):\n",
        "    return A.Compose([\n",
        "        A.CLAHE(clip_limit=2.0, tile_grid_size=(8,8), p=clahe_p),\n",
        "        A.LongestMaxSize(max_size=size),\n",
        "        A.PadIfNeeded(min_height=size, min_width=size, border_mode=cv2.BORDER_REFLECT),\n",
        "        A.Normalize(mean=MEAN, std=STD),\n",
        "        ToTensorV2()\n",
        "    ])\n",
        "\n",
        "class RanzcrDataset(Dataset):\n",
        "    def __init__(self, df: pd.DataFrame, img_dir: Path, id_col: str, target_cols: list[str], transforms=None):\n",
        "        self.df = df.reset_index(drop=True)\n",
        "        self.img_dir = img_dir\n",
        "        self.id_col = id_col\n",
        "        self.target_cols = target_cols\n",
        "        self.transforms = transforms\n",
        "\n",
        "    def __len__(self):\n",
        "        return len(self.df)\n",
        "\n",
        "    def __getitem__(self, idx):\n",
        "        row = self.df.iloc[idx]\n",
        "        img_path = self.img_dir / f\"{row[self.id_col]}.jpg\"\n",
        "        image = cv2.imread(str(img_path), cv2.IMREAD_GRAYSCALE)\n",
        "        if image is None:\n",
        "            raise FileNotFoundError(f\"Image not found: {img_path}\")\n",
        "        image = np.stack([image, image, image], axis=-1)\n",
        "        if self.transforms is not None:\n",
        "            image = self.transforms(image=image)['image']\n",
        "        targets = row[self.target_cols].values.astype(np.float32)\n",
        "        return image, torch.from_numpy(targets)\n",
        "\n",
        "def make_grouped_ml_folds(df: pd.DataFrame, target_cols: list[str], group_col='PatientID', n_splits=5, seed=42):\n",
        "    grp = df.groupby(group_col)[target_cols].max().reset_index()\n",
        "    mskf = MultilabelStratifiedKFold(n_splits=n_splits, shuffle=True, random_state=seed)\n",
        "    grp['fold'] = -1\n",
        "    for f, (_, vidx) in enumerate(mskf.split(grp, grp[target_cols].values)):\n",
        "        grp.loc[grp.index[vidx], 'fold'] = f\n",
        "    folds_df = df.merge(grp[[group_col, 'fold']], on=group_col, how='left')\n",
        "    folds_df['fold'] = folds_df['fold'].astype(int)\n",
        "    return folds_df\n",
        "\n",
        "# Create grouped multilabel folds and save\n",
        "folds_path = 'train_folds.csv'\n",
        "folds_df = make_grouped_ml_folds(train_df, target_cols, group_col='PatientID', n_splits=5, seed=42)\n",
        "folds_df.to_csv(folds_path, index=False)\n",
        "print('[cv] Saved grouped multilabel folds to', folds_path)\n",
        "\n",
        "# Log fold sizes and label balance snapshot\n",
        "for f in range(5):\n",
        "    cnt = (folds_df['fold'] == f).sum()\n",
        "    pos_frac = folds_df.loc[folds_df['fold']==f, target_cols].mean().round(4)\n",
        "    print(f\"[cv] fold {f}: n={cnt}, pos_fracs(sample):\", dict(pos_frac.head(5)))\n",
        "\n",
        "# Sanity check a dataloader batch\n",
        "fold = 0\n",
        "train_idx = folds_df.index[folds_df['fold'] != fold].tolist()\n",
        "valid_idx = folds_df.index[folds_df['fold'] == fold].tolist()\n",
        "train_ds = RanzcrDataset(folds_df.iloc[train_idx], train_dir, id_col, target_cols, transforms=build_train_aug())\n",
        "valid_ds = RanzcrDataset(folds_df.iloc[valid_idx], train_dir, id_col, target_cols, transforms=build_valid_aug())\n",
        "train_loader = DataLoader(train_ds, batch_size=8, shuffle=True, num_workers=4, pin_memory=True, persistent_workers=True, prefetch_factor=2)\n",
        "valid_loader = DataLoader(valid_ds, batch_size=8, shuffle=False, num_workers=4, pin_memory=True, persistent_workers=True, prefetch_factor=2)\n",
        "t0 = time.time()\n",
        "xb, yb = next(iter(train_loader))\n",
        "print('[loader] one batch shapes:', xb.shape, yb.shape, 'elapsed', round(time.time()-t0,2), 's')\n",
        "print('[loader] xb stats: mean', xb.float().mean().item(), 'std', xb.float().std().item())"
      ],
      "execution_count": 13,
      "outputs": [
        {
          "output_type": "stream",
          "name": "stdout",
          "text": [
            "[cv] Saved grouped multilabel folds to train_folds.csv\n[cv] fold 0: n=5284, pos_fracs(sample): {'ETT - Abnormal': 0.003, 'ETT - Borderline': 0.0367, 'ETT - Normal': 0.204, 'NGT - Abnormal': 0.0083, 'NGT - Borderline': 0.0155}\n[cv] fold 1: n=5402, pos_fracs(sample): {'ETT - Abnormal': 0.0026, 'ETT - Borderline': 0.0446, 'ETT - Normal': 0.2599, 'NGT - Abnormal': 0.007, 'NGT - Borderline': 0.0193}\n[cv] fold 2: n=5140, pos_fracs(sample): {'ETT - Abnormal': 0.0029, 'ETT - Borderline': 0.0372, 'ETT - Normal': 0.2307, 'NGT - Abnormal': 0.0154, 'NGT - Borderline': 0.0152}\n[cv] fold 3: n=5388, pos_fracs(sample): {'ETT - Abnormal': 0.003, 'ETT - Borderline': 0.0395, 'ETT - Normal': 0.2359, 'NGT - Abnormal': 0.0076, 'NGT - Borderline': 0.0239}\n[cv] fold 4: n=5860, pos_fracs(sample): {'ETT - Abnormal': 0.0026, 'ETT - Borderline': 0.0321, 'ETT - Normal': 0.2669, 'NGT - Abnormal': 0.0089, 'NGT - Borderline': 0.016}\n"
          ]
        },
        {
          "output_type": "stream",
          "name": "stderr",
          "text": [
            "/app/.pip-target/albumentations/core/validation.py:114: UserWarning: ShiftScaleRotate is a special case of Affine transform. Please use Affine transform instead.\n  original_init(self, **validated_kwargs)\n"
          ]
        },
        {
          "output_type": "stream",
          "name": "stdout",
          "text": [
            "[loader] one batch shapes: torch.Size([8, 3, 640, 640]) torch.Size([8, 9]) elapsed 1.41 s\n[loader] xb stats: mean 0.1559348702430725 std 1.1031512022018433\n"
          ]
        }
      ]
    },
    {
      "id": "8324c00d-0359-41ed-a105-13781aa6aa9a",
      "cell_type": "code",
      "metadata": {},
      "source": [
        "# Model, training loop with 5-fold CV, macro AUC metric, checkpoints (stabilized: cosine per-step, EMA off, sigmoid CV alignment)\n",
        "import os, time, math, gc\n",
        "from sklearn.metrics import roc_auc_score\n",
        "import torch\n",
        "import torch.nn as nn\n",
        "import torch.optim as optim\n",
        "from timm.scheduler import CosineLRScheduler\n",
        "import timm\n",
        "import numpy as np\n",
        "\n",
        "DEVICE = 'cuda' if torch.cuda.is_available() else 'cpu'\n",
        "EPOCHS = 12\n",
        "BATCH_SIZE = 8  # per-GPU\n",
        "ACCUM_STEPS = 2  # effective batch 16\n",
        "LR = 1.2e-4  # base LR for cosine\n",
        "WD = 1e-4\n",
        "EMA_USE = False  # disable EMA per stability guidance\n",
        "EARLY_PATIENCE = 4\n",
        "LS = 0.05  # label smoothing for BCE (manual)\n",
        "\n",
        "os.makedirs('chkpts', exist_ok=True)\n",
        "# ensure writable cache for HF/timm\n",
        "os.makedirs('hf_cache', exist_ok=True)\n",
        "os.environ['HF_HOME'] = os.path.abspath('hf_cache')\n",
        "os.environ['HUGGINGFACE_HUB_CACHE'] = os.path.abspath('hf_cache')\n",
        "os.environ['XDG_CACHE_HOME'] = os.path.abspath('hf_cache')\n",
        "os.environ['PYTORCH_CUDA_ALLOC_CONF'] = 'expandable_segments:True'\n",
        "torch.backends.cudnn.benchmark = True\n",
        "torch.backends.cuda.matmul.allow_tf32 = True\n",
        "torch.backends.cudnn.allow_tf32 = True\n",
        "\n",
        "def build_model(num_classes: int):\n",
        "    model = timm.create_model(\n",
        "        'tf_efficientnet_b4_ns',\n",
        "        pretrained=True,\n",
        "        num_classes=num_classes,\n",
        "        in_chans=3,\n",
        "        cache_dir=os.path.abspath('hf_cache')\n",
        "    )\n",
        "    # Sanity: classifier properties\n",
        "    clf = model.get_classifier()\n",
        "    try:\n",
        "        outf = getattr(clf, 'out_features', None)\n",
        "        wmean = clf.weight.mean().item() if hasattr(clf, 'weight') else None\n",
        "        print('[model] pretrained=True; num_outputs', outf, 'fc_mean', wmean)\n",
        "    except Exception as e:\n",
        "        print('[model] classifier introspection error:', e)\n",
        "    return model\n",
        "\n",
        "def get_loaders_for_fold(fold: int, img_size=IMG_SIZE):\n",
        "    train_idx = folds_df.index[folds_df['fold'] != fold].tolist()\n",
        "    valid_idx = folds_df.index[folds_df['fold'] == fold].tolist()\n",
        "    train_ds = RanzcrDataset(folds_df.iloc[train_idx], train_dir, id_col, target_cols, transforms=build_train_aug(img_size, clahe_p=1.0))\n",
        "    valid_ds = RanzcrDataset(folds_df.iloc[valid_idx], train_dir, id_col, target_cols, transforms=build_valid_aug(img_size, clahe_p=1.0))\n",
        "    train_loader = DataLoader(train_ds, batch_size=BATCH_SIZE, shuffle=True, num_workers=4, pin_memory=True, persistent_workers=True, prefetch_factor=2)\n",
        "    valid_loader = DataLoader(valid_ds, batch_size=BATCH_SIZE, shuffle=False, num_workers=4, pin_memory=True, persistent_workers=True, prefetch_factor=2)\n",
        "    return train_loader, valid_loader, valid_idx\n",
        "\n",
        "def sigmoid(x):\n",
        "    return 1 / (1 + np.exp(-x))\n",
        "\n",
        "def evaluate_macro_auc(y_true_np, y_pred_np):\n",
        "    aucs = []\n",
        "    for i in range(y_true_np.shape[1]):\n",
        "        y_true_c = y_true_np[:, i]\n",
        "        y_pred_c = y_pred_np[:, i]\n",
        "        try:\n",
        "            aucs.append(roc_auc_score(y_true_c, y_pred_c))\n",
        "        except Exception:\n",
        "            continue\n",
        "    macro = float(np.mean(aucs)) if len(aucs)>0 else 0.0\n",
        "    return macro, aucs\n",
        "\n",
        "def train_one_fold(fold: int):\n",
        "    print(f\"\\n===== Fold {fold} training start =====\")\n",
        "    gc.collect()\n",
        "    if DEVICE=='cuda':\n",
        "        torch.cuda.empty_cache()\n",
        "    print('[debug] target_cols:', target_cols)\n",
        "    train_loader, valid_loader, valid_idx = get_loaders_for_fold(fold, IMG_SIZE)\n",
        "    model = build_model(num_classes=len(target_cols)).to(DEVICE)\n",
        "    model = model.to(memory_format=torch.channels_last)\n",
        "\n",
        "    pos_w = torch.from_numpy(np.load('pos_weight.npy')).to(DEVICE)\n",
        "    pos_w = pos_w.clamp(min=1.0, max=5.0)\n",
        "    print('[DEBUG] Initial pos_weight:', pos_w.detach().cpu().numpy().tolist())\n",
        "    criterion = nn.BCEWithLogitsLoss(pos_weight=pos_w)\n",
        "    optimizer = optim.AdamW(model.parameters(), lr=LR, weight_decay=WD)\n",
        "\n",
        "    # Per-step cosine scheduler with 1-epoch warmup\n",
        "    steps_per_epoch = max(1, len(train_loader) // ACCUM_STEPS)\n",
        "    total_steps = EPOCHS * steps_per_epoch\n",
        "    warmup_steps = steps_per_epoch\n",
        "    lr_sched = CosineLRScheduler(\n",
        "        optimizer,\n",
        "        t_initial=total_steps,\n",
        "        lr_min=max(1e-6, LR * 0.05),\n",
        "        warmup_t=warmup_steps,\n",
        "        warmup_lr_init=LR / 10.0,\n",
        "        warmup_prefix=True,\n",
        "        t_in_epochs=False\n",
        "    )\n",
        "\n",
        "    scaler = torch.cuda.amp.GradScaler(enabled=(DEVICE=='cuda'))\n",
        "    best_auc = -1.0\n",
        "    best_path = f\"chkpts/effb4ns_fold{fold}.pt\"\n",
        "    best_val_logits = None\n",
        "    no_improve = 0\n",
        "    t_fold = time.time()\n",
        "    global_step = 0\n",
        "    for epoch in range(EPOCHS):\n",
        "        model.train()\n",
        "        t0 = time.time()\n",
        "        running_loss = 0.0\n",
        "        optimizer.zero_grad(set_to_none=True)\n",
        "        for it, (xb, yb) in enumerate(train_loader):\n",
        "            if it == 0:\n",
        "                try:\n",
        "                    print('[debug] first-batch targets sum per class:', yb.sum(0).tolist())\n",
        "                except Exception:\n",
        "                    pass\n",
        "            xb = xb.to(DEVICE, non_blocking=True).to(memory_format=torch.channels_last)\n",
        "            yb = yb.to(DEVICE, non_blocking=True)\n",
        "            # manual label smoothing to keep targets in [LS, 1-LS]\n",
        "            yb_s = yb * (1.0 - 2.0 * LS) + LS\n",
        "            with torch.cuda.amp.autocast(enabled=(DEVICE=='cuda')):\n",
        "                logits = model(xb)\n",
        "                loss = criterion(logits, yb_s)\n",
        "            scaler.scale(loss / ACCUM_STEPS).backward()\n",
        "            if (it + 1) % ACCUM_STEPS == 0:\n",
        "                scaler.step(optimizer)\n",
        "                scaler.update()\n",
        "                optimizer.zero_grad(set_to_none=True)\n",
        "                lr_sched.step_update(global_step)\n",
        "                global_step += 1\n",
        "            running_loss += loss.item()\n",
        "            if (it+1) % 50 == 0:\n",
        "                elapsed = time.time()-t0\n",
        "                cur_lr = optimizer.param_groups[0]['lr']\n",
        "                print(f\"[fold {fold}] epoch {epoch+1}/{EPOCHS} it {it+1}/{len(train_loader)} loss {running_loss/(it+1):.4f} lr {cur_lr:.2e} elapsed {elapsed:.1f}s\")\n",
        "        # validate (sigmoid-only, align with inference)\n",
        "        model.eval()\n",
        "        val_logits = []\n",
        "        val_targets = []\n",
        "        with torch.no_grad():\n",
        "            for xb, yb in valid_loader:\n",
        "                xb = xb.to(DEVICE, non_blocking=True).to(memory_format=torch.channels_last)\n",
        "                logits = model(xb)\n",
        "                val_logits.append(logits.detach().cpu().numpy())\n",
        "                val_targets.append(yb.numpy())\n",
        "        val_logits = np.concatenate(val_logits, axis=0)\n",
        "        val_targets = np.concatenate(val_targets, axis=0)\n",
        "        macro_auc, aucs = evaluate_macro_auc(val_targets, sigmoid(val_logits))\n",
        "        print(f\"[fold {fold}] epoch {epoch+1} val macro AUC: {macro_auc:.5f}\")\n",
        "        for cls_name, a in zip(target_cols, aucs):\n",
        "            try:\n",
        "                print(f\"  {cls_name}: {a:.4f}\")\n",
        "            except Exception:\n",
        "                pass\n",
        "        if macro_auc > best_auc:\n",
        "            best_auc = macro_auc\n",
        "            no_improve = 0\n",
        "            torch.save({'model': model.state_dict(), 'auc': best_auc}, best_path)\n",
        "            print(f\"[fold {fold}] saved best to {best_path}\")\n",
        "            best_val_logits = val_logits.copy()\n",
        "        else:\n",
        "            no_improve += 1\n",
        "        print(f\"[fold {fold}] epoch {epoch+1} train_loss {running_loss/max(1,len(train_loader)):.4f} time {time.time()-t0:.1f}s\")\n",
        "        if no_improve >= EARLY_PATIENCE:\n",
        "            print(f\"[fold {fold}] Early stopping at epoch {epoch+1}\")\n",
        "            break\n",
        "    print(f\"[fold {fold}] best macro AUC: {best_auc:.5f} total time {time.time()-t_fold:.1f}s\")\n",
        "    return best_auc, valid_idx, best_val_logits\n",
        "\n",
        "# Orchestrate training: run all 5 folds\n",
        "oof_logits_all = np.full((len(folds_df), len(target_cols)), np.nan, np.float32)\n",
        "fold_aucs = []\n",
        "for f in range(5):\n",
        "    start = time.time()\n",
        "    aucf, valid_idx, val_logits_best = train_one_fold(f)\n",
        "    fold_aucs.append(aucf)\n",
        "    if val_logits_best is not None:\n",
        "        oof_logits_all[valid_idx] = val_logits_best\n",
        "    print(f\"[cv] Fold {f} best AUC: {aucf:.5f} elapsed {time.time()-start:.1f}s\")\n",
        "\n",
        "# Compute OOF macro AUC (where filled) for sanity\n",
        "mask = ~np.isnan(oof_logits_all).any(axis=1)\n",
        "if mask.sum() > 0:\n",
        "    y_true_all = folds_df.loc[mask, target_cols].values.astype(np.float32)\n",
        "    y_pred_all = sigmoid(oof_logits_all[mask])\n",
        "    oof_macro, _ = evaluate_macro_auc(y_true_all, y_pred_all)\n",
        "    print(f\"[cv] OOF macro AUC (filled folds): {oof_macro:.5f} covering {mask.sum()} samples\")\n",
        "np.save('oof_logits_all.npy', oof_logits_all)\n",
        "print('[cv] AUCs per fold:', fold_aucs, 'mean:', float(np.mean(fold_aucs)))"
      ],
      "execution_count": 15,
      "outputs": [
        {
          "output_type": "stream",
          "name": "stdout",
          "text": [
            "\n===== Fold 0 training start =====\n[debug] target_cols: ['ETT - Abnormal', 'ETT - Borderline', 'ETT - Normal', 'NGT - Abnormal', 'NGT - Borderline', 'NGT - Incompletely Imaged', 'NGT - Normal', 'CVC - Abnormal', 'CVC - Borderline']\n"
          ]
        },
        {
          "output_type": "stream",
          "name": "stdout",
          "text": [
            "[model] pretrained=True; num_outputs 9 fc_mean -0.000944784376770258\n[DEBUG] Initial pos_weight: [5.0, 5.0, 3.163309335708618, 5.0, 5.0, 5.0, 5.0, 5.0, 2.5474319458007812]\n"
          ]
        },
        {
          "output_type": "stream",
          "name": "stderr",
          "text": [
            "/tmp/ipykernel_1774/544503444.py:104: FutureWarning: `torch.cuda.amp.GradScaler(args...)` is deprecated. Please use `torch.amp.GradScaler('cuda', args...)` instead.\n  scaler = torch.cuda.amp.GradScaler(enabled=(DEVICE=='cuda'))\n"
          ]
        },
        {
          "output_type": "stream",
          "name": "stdout",
          "text": [
            "[debug] first-batch targets sum per class: [0.0, 0.0, 2.0, 0.0, 0.0, 1.0, 2.0, 0.0, 3.0]\n"
          ]
        },
        {
          "output_type": "stream",
          "name": "stderr",
          "text": [
            "/tmp/ipykernel_1774/544503444.py:126: FutureWarning: `torch.cuda.amp.autocast(args...)` is deprecated. Please use `torch.amp.autocast('cuda', args...)` instead.\n  with torch.cuda.amp.autocast(enabled=(DEVICE=='cuda')):\n"
          ]
        },
        {
          "output_type": "stream",
          "name": "stdout",
          "text": [
            "[fold 0] epoch 1/12 it 50/2724 loss 1.1180 lr 1.39e-05 elapsed 78.7s\n"
          ]
        },
        {
          "output_type": "stream",
          "name": "stdout",
          "text": [
            "[fold 0] epoch 1/12 it 100/2724 loss 1.0581 lr 1.59e-05 elapsed 96.1s\n"
          ]
        },
        {
          "output_type": "stream",
          "name": "stdout",
          "text": [
            "[fold 0] epoch 1/12 it 150/2724 loss 1.0243 lr 1.79e-05 elapsed 113.4s\n"
          ]
        },
        {
          "output_type": "stream",
          "name": "stdout",
          "text": [
            "[fold 0] epoch 1/12 it 200/2724 loss 1.0002 lr 1.99e-05 elapsed 130.6s\n"
          ]
        },
        {
          "output_type": "stream",
          "name": "stdout",
          "text": [
            "[fold 0] epoch 1/12 it 250/2724 loss 0.9829 lr 2.18e-05 elapsed 147.8s\n"
          ]
        },
        {
          "output_type": "stream",
          "name": "stdout",
          "text": [
            "[fold 0] epoch 1/12 it 300/2724 loss 0.9724 lr 2.38e-05 elapsed 165.1s\n"
          ]
        },
        {
          "output_type": "stream",
          "name": "stdout",
          "text": [
            "[fold 0] epoch 1/12 it 350/2724 loss 0.9633 lr 2.58e-05 elapsed 182.4s\n"
          ]
        },
        {
          "output_type": "stream",
          "name": "stdout",
          "text": [
            "[fold 0] epoch 1/12 it 400/2724 loss 0.9534 lr 2.78e-05 elapsed 199.6s\n"
          ]
        },
        {
          "output_type": "stream",
          "name": "stdout",
          "text": [
            "[fold 0] epoch 1/12 it 450/2724 loss 0.9448 lr 2.98e-05 elapsed 216.9s\n"
          ]
        },
        {
          "output_type": "stream",
          "name": "stdout",
          "text": [
            "[fold 0] epoch 1/12 it 500/2724 loss 0.9378 lr 3.17e-05 elapsed 234.2s\n"
          ]
        },
        {
          "output_type": "stream",
          "name": "stdout",
          "text": [
            "[fold 0] epoch 1/12 it 550/2724 loss 0.9315 lr 3.37e-05 elapsed 251.4s\n"
          ]
        },
        {
          "output_type": "stream",
          "name": "stdout",
          "text": [
            "[fold 0] epoch 1/12 it 600/2724 loss 0.9277 lr 3.57e-05 elapsed 268.7s\n"
          ]
        },
        {
          "output_type": "stream",
          "name": "stdout",
          "text": [
            "[fold 0] epoch 1/12 it 650/2724 loss 0.9240 lr 3.77e-05 elapsed 285.9s\n"
          ]
        },
        {
          "output_type": "stream",
          "name": "stdout",
          "text": [
            "[fold 0] epoch 1/12 it 700/2724 loss 0.9214 lr 3.97e-05 elapsed 303.2s\n"
          ]
        },
        {
          "output_type": "stream",
          "name": "stdout",
          "text": [
            "[fold 0] epoch 1/12 it 750/2724 loss 0.9178 lr 4.17e-05 elapsed 320.5s\n"
          ]
        },
        {
          "output_type": "stream",
          "name": "stdout",
          "text": [
            "[fold 0] epoch 1/12 it 800/2724 loss 0.9134 lr 4.36e-05 elapsed 337.7s\n"
          ]
        },
        {
          "output_type": "stream",
          "name": "stdout",
          "text": [
            "[fold 0] epoch 1/12 it 850/2724 loss 0.9082 lr 4.56e-05 elapsed 355.0s\n"
          ]
        },
        {
          "output_type": "stream",
          "name": "stdout",
          "text": [
            "[fold 0] epoch 1/12 it 900/2724 loss 0.9038 lr 4.76e-05 elapsed 372.3s\n"
          ]
        },
        {
          "output_type": "stream",
          "name": "stdout",
          "text": [
            "[fold 0] epoch 1/12 it 950/2724 loss 0.9001 lr 4.96e-05 elapsed 389.5s\n"
          ]
        },
        {
          "output_type": "stream",
          "name": "stdout",
          "text": [
            "[fold 0] epoch 1/12 it 1000/2724 loss 0.8964 lr 5.16e-05 elapsed 406.8s\n"
          ]
        },
        {
          "output_type": "stream",
          "name": "stdout",
          "text": [
            "[fold 0] epoch 1/12 it 1050/2724 loss 0.8939 lr 5.36e-05 elapsed 424.1s\n"
          ]
        },
        {
          "output_type": "stream",
          "name": "stdout",
          "text": [
            "[fold 0] epoch 1/12 it 1100/2724 loss 0.8912 lr 5.55e-05 elapsed 441.3s\n"
          ]
        },
        {
          "output_type": "stream",
          "name": "stdout",
          "text": [
            "[fold 0] epoch 1/12 it 1150/2724 loss 0.8891 lr 5.75e-05 elapsed 458.6s\n"
          ]
        },
        {
          "output_type": "stream",
          "name": "stdout",
          "text": [
            "[fold 0] epoch 1/12 it 1200/2724 loss 0.8863 lr 5.95e-05 elapsed 475.8s\n"
          ]
        },
        {
          "output_type": "stream",
          "name": "stdout",
          "text": [
            "[fold 0] epoch 1/12 it 1250/2724 loss 0.8838 lr 6.15e-05 elapsed 493.1s\n"
          ]
        },
        {
          "output_type": "stream",
          "name": "stdout",
          "text": [
            "[fold 0] epoch 1/12 it 1300/2724 loss 0.8808 lr 6.35e-05 elapsed 510.4s\n"
          ]
        },
        {
          "output_type": "stream",
          "name": "stdout",
          "text": [
            "[fold 0] epoch 1/12 it 1350/2724 loss 0.8786 lr 6.54e-05 elapsed 527.6s\n"
          ]
        },
        {
          "output_type": "stream",
          "name": "stdout",
          "text": [
            "[fold 0] epoch 1/12 it 1400/2724 loss 0.8764 lr 6.74e-05 elapsed 544.9s\n"
          ]
        },
        {
          "output_type": "stream",
          "name": "stdout",
          "text": [
            "[fold 0] epoch 1/12 it 1450/2724 loss 0.8744 lr 6.94e-05 elapsed 562.1s\n"
          ]
        },
        {
          "output_type": "stream",
          "name": "stdout",
          "text": [
            "[fold 0] epoch 1/12 it 1500/2724 loss 0.8723 lr 7.14e-05 elapsed 579.4s\n"
          ]
        },
        {
          "output_type": "stream",
          "name": "stdout",
          "text": [
            "[fold 0] epoch 1/12 it 1550/2724 loss 0.8704 lr 7.34e-05 elapsed 596.6s\n"
          ]
        },
        {
          "output_type": "stream",
          "name": "stdout",
          "text": [
            "[fold 0] epoch 1/12 it 1600/2724 loss 0.8682 lr 7.54e-05 elapsed 613.9s\n"
          ]
        },
        {
          "output_type": "stream",
          "name": "stdout",
          "text": [
            "[fold 0] epoch 1/12 it 1650/2724 loss 0.8663 lr 7.73e-05 elapsed 631.2s\n"
          ]
        },
        {
          "output_type": "stream",
          "name": "stdout",
          "text": [
            "[fold 0] epoch 1/12 it 1700/2724 loss 0.8644 lr 7.93e-05 elapsed 648.4s\n"
          ]
        },
        {
          "output_type": "stream",
          "name": "stdout",
          "text": [
            "[fold 0] epoch 1/12 it 1750/2724 loss 0.8628 lr 8.13e-05 elapsed 665.7s\n"
          ]
        },
        {
          "output_type": "stream",
          "name": "stdout",
          "text": [
            "[fold 0] epoch 1/12 it 1800/2724 loss 0.8611 lr 8.33e-05 elapsed 682.9s\n"
          ]
        },
        {
          "output_type": "stream",
          "name": "stdout",
          "text": [
            "[fold 0] epoch 1/12 it 1850/2724 loss 0.8595 lr 8.53e-05 elapsed 700.2s\n"
          ]
        },
        {
          "output_type": "stream",
          "name": "stdout",
          "text": [
            "[fold 0] epoch 1/12 it 1900/2724 loss 0.8579 lr 8.73e-05 elapsed 717.4s\n"
          ]
        },
        {
          "output_type": "stream",
          "name": "stdout",
          "text": [
            "[fold 0] epoch 1/12 it 1950/2724 loss 0.8558 lr 8.92e-05 elapsed 734.7s\n"
          ]
        },
        {
          "output_type": "stream",
          "name": "stdout",
          "text": [
            "[fold 0] epoch 1/12 it 2000/2724 loss 0.8544 lr 9.12e-05 elapsed 751.9s\n"
          ]
        },
        {
          "output_type": "stream",
          "name": "stdout",
          "text": [
            "[fold 0] epoch 1/12 it 2050/2724 loss 0.8529 lr 9.32e-05 elapsed 769.2s\n"
          ]
        },
        {
          "output_type": "stream",
          "name": "stdout",
          "text": [
            "[fold 0] epoch 1/12 it 2100/2724 loss 0.8515 lr 9.52e-05 elapsed 786.5s\n"
          ]
        },
        {
          "output_type": "stream",
          "name": "stdout",
          "text": [
            "[fold 0] epoch 1/12 it 2150/2724 loss 0.8506 lr 9.72e-05 elapsed 803.7s\n"
          ]
        },
        {
          "output_type": "stream",
          "name": "stdout",
          "text": [
            "[fold 0] epoch 1/12 it 2200/2724 loss 0.8492 lr 9.91e-05 elapsed 821.0s\n"
          ]
        },
        {
          "output_type": "stream",
          "name": "stdout",
          "text": [
            "[fold 0] epoch 1/12 it 2250/2724 loss 0.8481 lr 1.01e-04 elapsed 838.3s\n"
          ]
        },
        {
          "output_type": "stream",
          "name": "stdout",
          "text": [
            "[fold 0] epoch 1/12 it 2300/2724 loss 0.8467 lr 1.03e-04 elapsed 855.5s\n"
          ]
        },
        {
          "output_type": "stream",
          "name": "stdout",
          "text": [
            "[fold 0] epoch 1/12 it 2350/2724 loss 0.8454 lr 1.05e-04 elapsed 872.8s\n"
          ]
        },
        {
          "output_type": "stream",
          "name": "stdout",
          "text": [
            "[fold 0] epoch 1/12 it 2400/2724 loss 0.8442 lr 1.07e-04 elapsed 890.0s\n"
          ]
        },
        {
          "output_type": "stream",
          "name": "stdout",
          "text": [
            "[fold 0] epoch 1/12 it 2450/2724 loss 0.8432 lr 1.09e-04 elapsed 907.3s\n"
          ]
        },
        {
          "output_type": "stream",
          "name": "stdout",
          "text": [
            "[fold 0] epoch 1/12 it 2500/2724 loss 0.8421 lr 1.11e-04 elapsed 924.5s\n"
          ]
        },
        {
          "output_type": "stream",
          "name": "stdout",
          "text": [
            "[fold 0] epoch 1/12 it 2550/2724 loss 0.8413 lr 1.13e-04 elapsed 941.8s\n"
          ]
        },
        {
          "output_type": "stream",
          "name": "stdout",
          "text": [
            "[fold 0] epoch 1/12 it 2600/2724 loss 0.8404 lr 1.15e-04 elapsed 959.0s\n"
          ]
        },
        {
          "output_type": "stream",
          "name": "stdout",
          "text": [
            "[fold 0] epoch 1/12 it 2650/2724 loss 0.8393 lr 1.17e-04 elapsed 976.3s\n"
          ]
        },
        {
          "output_type": "stream",
          "name": "stdout",
          "text": [
            "[fold 0] epoch 1/12 it 2700/2724 loss 0.8385 lr 1.19e-04 elapsed 993.6s\n"
          ]
        },
        {
          "output_type": "stream",
          "name": "stdout",
          "text": [
            "[fold 0] epoch 1 val macro AUC: 0.84328\n  ETT - Abnormal: 0.8374\n  ETT - Borderline: 0.9160\n  ETT - Normal: 0.9823\n  NGT - Abnormal: 0.8105\n  NGT - Borderline: 0.8827\n  NGT - Incompletely Imaged: 0.9528\n  NGT - Normal: 0.9631\n  CVC - Abnormal: 0.6019\n  CVC - Borderline: 0.6428\n[fold 0] saved best to chkpts/effb4ns_fold0.pt\n[fold 0] epoch 1 train_loss 0.8381 time 1230.6s\n"
          ]
        },
        {
          "output_type": "stream",
          "name": "stdout",
          "text": [
            "[debug] first-batch targets sum per class: [0.0, 0.0, 1.0, 0.0, 0.0, 1.0, 0.0, 1.0, 1.0]\n"
          ]
        },
        {
          "output_type": "stream",
          "name": "stderr",
          "text": [
            "/tmp/ipykernel_1774/544503444.py:126: FutureWarning: `torch.cuda.amp.autocast(args...)` is deprecated. Please use `torch.amp.autocast('cuda', args...)` instead.\n  with torch.cuda.amp.autocast(enabled=(DEVICE=='cuda')):\n"
          ]
        },
        {
          "output_type": "stream",
          "name": "stdout",
          "text": [
            "[fold 0] epoch 2/12 it 50/2724 loss 0.7681 lr 1.20e-04 elapsed 18.1s\n"
          ]
        },
        {
          "output_type": "stream",
          "name": "stdout",
          "text": [
            "[fold 0] epoch 2/12 it 100/2724 loss 0.7702 lr 1.20e-04 elapsed 35.4s\n"
          ]
        },
        {
          "output_type": "stream",
          "name": "stdout",
          "text": [
            "[fold 0] epoch 2/12 it 150/2724 loss 0.7702 lr 1.20e-04 elapsed 52.7s\n"
          ]
        },
        {
          "output_type": "stream",
          "name": "stdout",
          "text": [
            "[fold 0] epoch 2/12 it 200/2724 loss 0.7704 lr 1.20e-04 elapsed 69.9s\n"
          ]
        },
        {
          "output_type": "stream",
          "name": "stdout",
          "text": [
            "[fold 0] epoch 2/12 it 250/2724 loss 0.7705 lr 1.20e-04 elapsed 87.2s\n"
          ]
        },
        {
          "output_type": "stream",
          "name": "stdout",
          "text": [
            "[fold 0] epoch 2/12 it 300/2724 loss 0.7745 lr 1.20e-04 elapsed 104.4s\n"
          ]
        },
        {
          "output_type": "stream",
          "name": "stdout",
          "text": [
            "[fold 0] epoch 2/12 it 350/2724 loss 0.7758 lr 1.20e-04 elapsed 121.6s\n"
          ]
        },
        {
          "output_type": "stream",
          "name": "stdout",
          "text": [
            "[fold 0] epoch 2/12 it 400/2724 loss 0.7754 lr 1.20e-04 elapsed 138.8s\n"
          ]
        },
        {
          "output_type": "stream",
          "name": "stdout",
          "text": [
            "[fold 0] epoch 2/12 it 450/2724 loss 0.7749 lr 1.20e-04 elapsed 156.1s\n"
          ]
        },
        {
          "output_type": "stream",
          "name": "stdout",
          "text": [
            "[fold 0] epoch 2/12 it 500/2724 loss 0.7748 lr 1.20e-04 elapsed 173.3s\n"
          ]
        },
        {
          "output_type": "stream",
          "name": "stdout",
          "text": [
            "[fold 0] epoch 2/12 it 550/2724 loss 0.7729 lr 1.20e-04 elapsed 190.6s\n"
          ]
        },
        {
          "output_type": "stream",
          "name": "stdout",
          "text": [
            "[fold 0] epoch 2/12 it 600/2724 loss 0.7733 lr 1.20e-04 elapsed 207.8s\n"
          ]
        },
        {
          "output_type": "stream",
          "name": "stdout",
          "text": [
            "[fold 0] epoch 2/12 it 650/2724 loss 0.7726 lr 1.20e-04 elapsed 225.1s\n"
          ]
        },
        {
          "output_type": "stream",
          "name": "stdout",
          "text": [
            "[fold 0] epoch 2/12 it 700/2724 loss 0.7723 lr 1.20e-04 elapsed 242.4s\n"
          ]
        },
        {
          "output_type": "stream",
          "name": "stdout",
          "text": [
            "[fold 0] epoch 2/12 it 750/2724 loss 0.7725 lr 1.20e-04 elapsed 259.6s\n"
          ]
        },
        {
          "output_type": "stream",
          "name": "stdout",
          "text": [
            "[fold 0] epoch 2/12 it 800/2724 loss 0.7728 lr 1.20e-04 elapsed 276.8s\n"
          ]
        },
        {
          "output_type": "stream",
          "name": "stdout",
          "text": [
            "[fold 0] epoch 2/12 it 850/2724 loss 0.7712 lr 1.20e-04 elapsed 294.0s\n"
          ]
        },
        {
          "output_type": "stream",
          "name": "stdout",
          "text": [
            "[fold 0] epoch 2/12 it 900/2724 loss 0.7700 lr 1.20e-04 elapsed 311.3s\n"
          ]
        },
        {
          "output_type": "stream",
          "name": "stdout",
          "text": [
            "[fold 0] epoch 2/12 it 950/2724 loss 0.7693 lr 1.20e-04 elapsed 328.5s\n"
          ]
        },
        {
          "output_type": "stream",
          "name": "stdout",
          "text": [
            "[fold 0] epoch 2/12 it 1000/2724 loss 0.7688 lr 1.20e-04 elapsed 345.8s\n"
          ]
        },
        {
          "output_type": "stream",
          "name": "stdout",
          "text": [
            "[fold 0] epoch 2/12 it 1050/2724 loss 0.7676 lr 1.20e-04 elapsed 363.1s\n"
          ]
        },
        {
          "output_type": "stream",
          "name": "stdout",
          "text": [
            "[fold 0] epoch 2/12 it 1100/2724 loss 0.7664 lr 1.20e-04 elapsed 380.3s\n"
          ]
        },
        {
          "output_type": "stream",
          "name": "stdout",
          "text": [
            "[fold 0] epoch 2/12 it 1150/2724 loss 0.7664 lr 1.20e-04 elapsed 397.5s\n"
          ]
        },
        {
          "output_type": "stream",
          "name": "stdout",
          "text": [
            "[fold 0] epoch 2/12 it 1200/2724 loss 0.7661 lr 1.20e-04 elapsed 414.8s\n"
          ]
        },
        {
          "output_type": "stream",
          "name": "stdout",
          "text": [
            "[fold 0] epoch 2/12 it 1250/2724 loss 0.7653 lr 1.20e-04 elapsed 432.0s\n"
          ]
        },
        {
          "output_type": "stream",
          "name": "stdout",
          "text": [
            "[fold 0] epoch 2/12 it 1300/2724 loss 0.7659 lr 1.20e-04 elapsed 449.3s\n"
          ]
        },
        {
          "output_type": "stream",
          "name": "stdout",
          "text": [
            "[fold 0] epoch 2/12 it 1350/2724 loss 0.7658 lr 1.20e-04 elapsed 466.5s\n"
          ]
        },
        {
          "output_type": "stream",
          "name": "stdout",
          "text": [
            "[fold 0] epoch 2/12 it 1400/2724 loss 0.7647 lr 1.19e-04 elapsed 483.8s\n"
          ]
        },
        {
          "output_type": "stream",
          "name": "stdout",
          "text": [
            "[fold 0] epoch 2/12 it 1450/2724 loss 0.7643 lr 1.19e-04 elapsed 501.0s\n"
          ]
        },
        {
          "output_type": "stream",
          "name": "stdout",
          "text": [
            "[fold 0] epoch 2/12 it 1500/2724 loss 0.7637 lr 1.19e-04 elapsed 518.3s\n"
          ]
        },
        {
          "output_type": "stream",
          "name": "stdout",
          "text": [
            "[fold 0] epoch 2/12 it 1550/2724 loss 0.7630 lr 1.19e-04 elapsed 535.6s\n"
          ]
        },
        {
          "output_type": "stream",
          "name": "stdout",
          "text": [
            "[fold 0] epoch 2/12 it 1600/2724 loss 0.7624 lr 1.19e-04 elapsed 553.2s\n"
          ]
        },
        {
          "output_type": "stream",
          "name": "stdout",
          "text": [
            "[fold 0] epoch 2/12 it 1650/2724 loss 0.7612 lr 1.19e-04 elapsed 570.5s\n"
          ]
        },
        {
          "output_type": "stream",
          "name": "stdout",
          "text": [
            "[fold 0] epoch 2/12 it 1700/2724 loss 0.7606 lr 1.19e-04 elapsed 587.7s\n"
          ]
        },
        {
          "output_type": "stream",
          "name": "stdout",
          "text": [
            "[fold 0] epoch 2/12 it 1750/2724 loss 0.7602 lr 1.19e-04 elapsed 605.0s\n"
          ]
        },
        {
          "output_type": "stream",
          "name": "stdout",
          "text": [
            "[fold 0] epoch 2/12 it 1800/2724 loss 0.7608 lr 1.19e-04 elapsed 622.3s\n"
          ]
        },
        {
          "output_type": "stream",
          "name": "stdout",
          "text": [
            "[fold 0] epoch 2/12 it 1850/2724 loss 0.7602 lr 1.19e-04 elapsed 639.5s\n"
          ]
        },
        {
          "output_type": "stream",
          "name": "stdout",
          "text": [
            "[fold 0] epoch 2/12 it 1900/2724 loss 0.7594 lr 1.19e-04 elapsed 656.7s\n"
          ]
        },
        {
          "output_type": "stream",
          "name": "stdout",
          "text": [
            "[fold 0] epoch 2/12 it 1950/2724 loss 0.7594 lr 1.19e-04 elapsed 674.0s\n"
          ]
        },
        {
          "output_type": "stream",
          "name": "stdout",
          "text": [
            "[fold 0] epoch 2/12 it 2000/2724 loss 0.7592 lr 1.19e-04 elapsed 691.2s\n"
          ]
        },
        {
          "output_type": "stream",
          "name": "stdout",
          "text": [
            "[fold 0] epoch 2/12 it 2050/2724 loss 0.7587 lr 1.19e-04 elapsed 708.4s\n"
          ]
        },
        {
          "output_type": "stream",
          "name": "stdout",
          "text": [
            "[fold 0] epoch 2/12 it 2100/2724 loss 0.7583 lr 1.19e-04 elapsed 725.7s\n"
          ]
        },
        {
          "output_type": "stream",
          "name": "stdout",
          "text": [
            "[fold 0] epoch 2/12 it 2150/2724 loss 0.7578 lr 1.19e-04 elapsed 742.9s\n"
          ]
        },
        {
          "output_type": "stream",
          "name": "stdout",
          "text": [
            "[fold 0] epoch 2/12 it 2200/2724 loss 0.7575 lr 1.19e-04 elapsed 760.1s\n"
          ]
        },
        {
          "output_type": "stream",
          "name": "stdout",
          "text": [
            "[fold 0] epoch 2/12 it 2250/2724 loss 0.7570 lr 1.19e-04 elapsed 777.4s\n"
          ]
        },
        {
          "output_type": "stream",
          "name": "stdout",
          "text": [
            "[fold 0] epoch 2/12 it 2300/2724 loss 0.7565 lr 1.19e-04 elapsed 794.7s\n"
          ]
        },
        {
          "output_type": "stream",
          "name": "stdout",
          "text": [
            "[fold 0] epoch 2/12 it 2350/2724 loss 0.7566 lr 1.19e-04 elapsed 811.9s\n"
          ]
        },
        {
          "output_type": "stream",
          "name": "stdout",
          "text": [
            "[fold 0] epoch 2/12 it 2400/2724 loss 0.7561 lr 1.18e-04 elapsed 829.2s\n"
          ]
        },
        {
          "output_type": "stream",
          "name": "stdout",
          "text": [
            "[fold 0] epoch 2/12 it 2450/2724 loss 0.7561 lr 1.18e-04 elapsed 846.4s\n"
          ]
        },
        {
          "output_type": "stream",
          "name": "stdout",
          "text": [
            "[fold 0] epoch 2/12 it 2500/2724 loss 0.7559 lr 1.18e-04 elapsed 863.7s\n"
          ]
        },
        {
          "output_type": "stream",
          "name": "stdout",
          "text": [
            "[fold 0] epoch 2/12 it 2550/2724 loss 0.7557 lr 1.18e-04 elapsed 880.9s\n"
          ]
        },
        {
          "output_type": "stream",
          "name": "stdout",
          "text": [
            "[fold 0] epoch 2/12 it 2600/2724 loss 0.7556 lr 1.18e-04 elapsed 898.2s\n"
          ]
        },
        {
          "output_type": "stream",
          "name": "stdout",
          "text": [
            "[fold 0] epoch 2/12 it 2650/2724 loss 0.7553 lr 1.18e-04 elapsed 915.4s\n"
          ]
        },
        {
          "output_type": "stream",
          "name": "stdout",
          "text": [
            "[fold 0] epoch 2/12 it 2700/2724 loss 0.7549 lr 1.18e-04 elapsed 932.7s\n"
          ]
        },
        {
          "output_type": "stream",
          "name": "stdout",
          "text": [
            "[fold 0] epoch 2 val macro AUC: 0.90894\n  ETT - Abnormal: 0.8568\n  ETT - Borderline: 0.9331\n  ETT - Normal: 0.9867\n  NGT - Abnormal: 0.9462\n  NGT - Borderline: 0.9118\n  NGT - Incompletely Imaged: 0.9760\n  NGT - Normal: 0.9784\n  CVC - Abnormal: 0.7898\n  CVC - Borderline: 0.8015\n"
          ]
        },
        {
          "output_type": "stream",
          "name": "stdout",
          "text": [
            "[fold 0] saved best to chkpts/effb4ns_fold0.pt\n[fold 0] epoch 2 train_loss 0.7548 time 1093.3s\n"
          ]
        },
        {
          "output_type": "stream",
          "name": "stdout",
          "text": [
            "[debug] first-batch targets sum per class: [0.0, 0.0, 3.0, 1.0, 0.0, 0.0, 1.0, 1.0, 5.0]\n"
          ]
        },
        {
          "output_type": "stream",
          "name": "stderr",
          "text": [
            "/tmp/ipykernel_1774/544503444.py:126: FutureWarning: `torch.cuda.amp.autocast(args...)` is deprecated. Please use `torch.amp.autocast('cuda', args...)` instead.\n  with torch.cuda.amp.autocast(enabled=(DEVICE=='cuda')):\n"
          ]
        },
        {
          "output_type": "stream",
          "name": "stdout",
          "text": [
            "[fold 0] epoch 3/12 it 50/2724 loss 0.7213 lr 1.18e-04 elapsed 18.0s\n"
          ]
        },
        {
          "output_type": "stream",
          "name": "stdout",
          "text": [
            "[fold 0] epoch 3/12 it 100/2724 loss 0.7222 lr 1.18e-04 elapsed 35.3s\n"
          ]
        },
        {
          "output_type": "stream",
          "name": "stdout",
          "text": [
            "[fold 0] epoch 3/12 it 150/2724 loss 0.7174 lr 1.18e-04 elapsed 52.5s\n"
          ]
        },
        {
          "output_type": "stream",
          "name": "stdout",
          "text": [
            "[fold 0] epoch 3/12 it 200/2724 loss 0.7213 lr 1.18e-04 elapsed 69.8s\n"
          ]
        },
        {
          "output_type": "stream",
          "name": "stdout",
          "text": [
            "[fold 0] epoch 3/12 it 250/2724 loss 0.7188 lr 1.18e-04 elapsed 87.1s\n"
          ]
        },
        {
          "output_type": "stream",
          "name": "stdout",
          "text": [
            "[fold 0] epoch 3/12 it 300/2724 loss 0.7179 lr 1.18e-04 elapsed 104.3s\n"
          ]
        },
        {
          "output_type": "stream",
          "name": "stdout",
          "text": [
            "[fold 0] epoch 3/12 it 350/2724 loss 0.7190 lr 1.18e-04 elapsed 121.6s\n"
          ]
        },
        {
          "output_type": "stream",
          "name": "stdout",
          "text": [
            "[fold 0] epoch 3/12 it 400/2724 loss 0.7193 lr 1.17e-04 elapsed 138.8s\n"
          ]
        },
        {
          "output_type": "stream",
          "name": "stdout",
          "text": [
            "[fold 0] epoch 3/12 it 450/2724 loss 0.7185 lr 1.17e-04 elapsed 156.1s\n"
          ]
        },
        {
          "output_type": "stream",
          "name": "stdout",
          "text": [
            "[fold 0] epoch 3/12 it 500/2724 loss 0.7187 lr 1.17e-04 elapsed 173.3s\n"
          ]
        },
        {
          "output_type": "stream",
          "name": "stdout",
          "text": [
            "[fold 0] epoch 3/12 it 550/2724 loss 0.7181 lr 1.17e-04 elapsed 190.5s\n"
          ]
        },
        {
          "output_type": "stream",
          "name": "stdout",
          "text": [
            "[fold 0] epoch 3/12 it 600/2724 loss 0.7169 lr 1.17e-04 elapsed 207.8s\n"
          ]
        },
        {
          "output_type": "stream",
          "name": "stdout",
          "text": [
            "[fold 0] epoch 3/12 it 650/2724 loss 0.7170 lr 1.17e-04 elapsed 225.0s\n"
          ]
        },
        {
          "output_type": "stream",
          "name": "stdout",
          "text": [
            "[fold 0] epoch 3/12 it 700/2724 loss 0.7183 lr 1.17e-04 elapsed 242.3s\n"
          ]
        },
        {
          "output_type": "stream",
          "name": "stdout",
          "text": [
            "[fold 0] epoch 3/12 it 750/2724 loss 0.7171 lr 1.17e-04 elapsed 259.5s\n"
          ]
        },
        {
          "output_type": "stream",
          "name": "stdout",
          "text": [
            "[fold 0] epoch 3/12 it 800/2724 loss 0.7166 lr 1.17e-04 elapsed 276.8s\n"
          ]
        },
        {
          "output_type": "stream",
          "name": "stdout",
          "text": [
            "[fold 0] epoch 3/12 it 850/2724 loss 0.7173 lr 1.17e-04 elapsed 294.1s\n"
          ]
        },
        {
          "output_type": "stream",
          "name": "stdout",
          "text": [
            "[fold 0] epoch 3/12 it 900/2724 loss 0.7162 lr 1.17e-04 elapsed 311.3s\n"
          ]
        },
        {
          "output_type": "stream",
          "name": "stdout",
          "text": [
            "[fold 0] epoch 3/12 it 950/2724 loss 0.7161 lr 1.16e-04 elapsed 328.6s\n"
          ]
        },
        {
          "output_type": "stream",
          "name": "stdout",
          "text": [
            "[fold 0] epoch 3/12 it 1000/2724 loss 0.7164 lr 1.16e-04 elapsed 345.8s\n"
          ]
        },
        {
          "output_type": "stream",
          "name": "stdout",
          "text": [
            "[fold 0] epoch 3/12 it 1050/2724 loss 0.7163 lr 1.16e-04 elapsed 363.1s\n"
          ]
        },
        {
          "output_type": "stream",
          "name": "stdout",
          "text": [
            "[fold 0] epoch 3/12 it 1100/2724 loss 0.7160 lr 1.16e-04 elapsed 380.4s\n"
          ]
        },
        {
          "output_type": "stream",
          "name": "stdout",
          "text": [
            "[fold 0] epoch 3/12 it 1150/2724 loss 0.7156 lr 1.16e-04 elapsed 397.6s\n"
          ]
        },
        {
          "output_type": "stream",
          "name": "stdout",
          "text": [
            "[fold 0] epoch 3/12 it 1200/2724 loss 0.7151 lr 1.16e-04 elapsed 414.9s\n"
          ]
        },
        {
          "output_type": "stream",
          "name": "stdout",
          "text": [
            "[fold 0] epoch 3/12 it 1250/2724 loss 0.7149 lr 1.16e-04 elapsed 432.1s\n"
          ]
        },
        {
          "output_type": "stream",
          "name": "stdout",
          "text": [
            "[fold 0] epoch 3/12 it 1300/2724 loss 0.7157 lr 1.16e-04 elapsed 449.4s\n"
          ]
        },
        {
          "output_type": "stream",
          "name": "stdout",
          "text": [
            "[fold 0] epoch 3/12 it 1350/2724 loss 0.7161 lr 1.16e-04 elapsed 466.7s\n"
          ]
        },
        {
          "output_type": "stream",
          "name": "stdout",
          "text": [
            "[fold 0] epoch 3/12 it 1400/2724 loss 0.7169 lr 1.16e-04 elapsed 483.9s\n"
          ]
        },
        {
          "output_type": "stream",
          "name": "stdout",
          "text": [
            "[fold 0] epoch 3/12 it 1450/2724 loss 0.7174 lr 1.15e-04 elapsed 501.2s\n"
          ]
        },
        {
          "output_type": "stream",
          "name": "stdout",
          "text": [
            "[fold 0] epoch 3/12 it 1500/2724 loss 0.7178 lr 1.15e-04 elapsed 518.5s\n"
          ]
        },
        {
          "output_type": "stream",
          "name": "stdout",
          "text": [
            "[fold 0] epoch 3/12 it 1550/2724 loss 0.7176 lr 1.15e-04 elapsed 535.7s\n"
          ]
        },
        {
          "output_type": "stream",
          "name": "stdout",
          "text": [
            "[fold 0] epoch 3/12 it 1600/2724 loss 0.7175 lr 1.15e-04 elapsed 553.0s\n"
          ]
        },
        {
          "output_type": "stream",
          "name": "stdout",
          "text": [
            "[fold 0] epoch 3/12 it 1650/2724 loss 0.7172 lr 1.15e-04 elapsed 570.2s\n"
          ]
        },
        {
          "output_type": "stream",
          "name": "stdout",
          "text": [
            "[fold 0] epoch 3/12 it 1700/2724 loss 0.7166 lr 1.15e-04 elapsed 587.5s\n"
          ]
        },
        {
          "output_type": "stream",
          "name": "stdout",
          "text": [
            "[fold 0] epoch 3/12 it 1750/2724 loss 0.7169 lr 1.15e-04 elapsed 604.7s\n"
          ]
        },
        {
          "output_type": "stream",
          "name": "stdout",
          "text": [
            "[fold 0] epoch 3/12 it 1800/2724 loss 0.7167 lr 1.15e-04 elapsed 621.9s\n"
          ]
        },
        {
          "output_type": "stream",
          "name": "stdout",
          "text": [
            "[fold 0] epoch 3/12 it 1850/2724 loss 0.7170 lr 1.15e-04 elapsed 639.1s\n"
          ]
        },
        {
          "output_type": "stream",
          "name": "stdout",
          "text": [
            "[fold 0] epoch 3/12 it 1900/2724 loss 0.7169 lr 1.14e-04 elapsed 656.4s\n"
          ]
        },
        {
          "output_type": "stream",
          "name": "stdout",
          "text": [
            "[fold 0] epoch 3/12 it 1950/2724 loss 0.7170 lr 1.14e-04 elapsed 673.6s\n"
          ]
        },
        {
          "output_type": "stream",
          "name": "stdout",
          "text": [
            "[fold 0] epoch 3/12 it 2000/2724 loss 0.7168 lr 1.14e-04 elapsed 690.8s\n"
          ]
        },
        {
          "output_type": "stream",
          "name": "stdout",
          "text": [
            "[fold 0] epoch 3/12 it 2050/2724 loss 0.7166 lr 1.14e-04 elapsed 708.0s\n"
          ]
        },
        {
          "output_type": "stream",
          "name": "stdout",
          "text": [
            "[fold 0] epoch 3/12 it 2100/2724 loss 0.7167 lr 1.14e-04 elapsed 725.3s\n"
          ]
        },
        {
          "output_type": "stream",
          "name": "stdout",
          "text": [
            "[fold 0] epoch 3/12 it 2150/2724 loss 0.7167 lr 1.14e-04 elapsed 742.5s\n"
          ]
        },
        {
          "output_type": "stream",
          "name": "stdout",
          "text": [
            "[fold 0] epoch 3/12 it 2200/2724 loss 0.7168 lr 1.14e-04 elapsed 759.8s\n"
          ]
        },
        {
          "output_type": "stream",
          "name": "stdout",
          "text": [
            "[fold 0] epoch 3/12 it 2250/2724 loss 0.7164 lr 1.14e-04 elapsed 777.0s\n"
          ]
        },
        {
          "output_type": "stream",
          "name": "stdout",
          "text": [
            "[fold 0] epoch 3/12 it 2300/2724 loss 0.7161 lr 1.13e-04 elapsed 794.3s\n"
          ]
        },
        {
          "output_type": "stream",
          "name": "stdout",
          "text": [
            "[fold 0] epoch 3/12 it 2350/2724 loss 0.7160 lr 1.13e-04 elapsed 811.5s\n"
          ]
        },
        {
          "output_type": "stream",
          "name": "stdout",
          "text": [
            "[fold 0] epoch 3/12 it 2400/2724 loss 0.7158 lr 1.13e-04 elapsed 828.8s\n"
          ]
        },
        {
          "output_type": "stream",
          "name": "stdout",
          "text": [
            "[fold 0] epoch 3/12 it 2450/2724 loss 0.7154 lr 1.13e-04 elapsed 846.0s\n"
          ]
        },
        {
          "output_type": "stream",
          "name": "stdout",
          "text": [
            "[fold 0] epoch 3/12 it 2500/2724 loss 0.7153 lr 1.13e-04 elapsed 863.3s\n"
          ]
        },
        {
          "output_type": "stream",
          "name": "stdout",
          "text": [
            "[fold 0] epoch 3/12 it 2550/2724 loss 0.7154 lr 1.13e-04 elapsed 880.6s\n"
          ]
        },
        {
          "output_type": "stream",
          "name": "stdout",
          "text": [
            "[fold 0] epoch 3/12 it 2600/2724 loss 0.7155 lr 1.13e-04 elapsed 897.8s\n"
          ]
        },
        {
          "output_type": "stream",
          "name": "stdout",
          "text": [
            "[fold 0] epoch 3/12 it 2650/2724 loss 0.7154 lr 1.13e-04 elapsed 915.1s\n"
          ]
        },
        {
          "output_type": "stream",
          "name": "stdout",
          "text": [
            "[fold 0] epoch 3/12 it 2700/2724 loss 0.7152 lr 1.12e-04 elapsed 932.4s\n"
          ]
        },
        {
          "output_type": "stream",
          "name": "stdout",
          "text": [
            "[fold 0] epoch 3 val macro AUC: 0.91675\n  ETT - Abnormal: 0.8993\n  ETT - Borderline: 0.9232\n  ETT - Normal: 0.9885\n  NGT - Abnormal: 0.9307\n  NGT - Borderline: 0.9218\n  NGT - Incompletely Imaged: 0.9782\n  NGT - Normal: 0.9775\n  CVC - Abnormal: 0.8239\n  CVC - Borderline: 0.8078\n"
          ]
        },
        {
          "output_type": "stream",
          "name": "stdout",
          "text": [
            "[fold 0] saved best to chkpts/effb4ns_fold0.pt\n[fold 0] epoch 3 train_loss 0.7152 time 1092.9s\n"
          ]
        },
        {
          "output_type": "stream",
          "name": "stdout",
          "text": [
            "[debug] first-batch targets sum per class: [0.0, 0.0, 1.0, 0.0, 0.0, 0.0, 1.0, 0.0, 1.0]\n"
          ]
        },
        {
          "output_type": "stream",
          "name": "stderr",
          "text": [
            "/tmp/ipykernel_1774/544503444.py:126: FutureWarning: `torch.cuda.amp.autocast(args...)` is deprecated. Please use `torch.amp.autocast('cuda', args...)` instead.\n  with torch.cuda.amp.autocast(enabled=(DEVICE=='cuda')):\n"
          ]
        },
        {
          "output_type": "stream",
          "name": "stdout",
          "text": [
            "[fold 0] epoch 4/12 it 50/2724 loss 0.6946 lr 1.12e-04 elapsed 18.0s\n"
          ]
        },
        {
          "output_type": "stream",
          "name": "stdout",
          "text": [
            "[fold 0] epoch 4/12 it 100/2724 loss 0.6904 lr 1.12e-04 elapsed 35.3s\n"
          ]
        },
        {
          "output_type": "stream",
          "name": "stdout",
          "text": [
            "[fold 0] epoch 4/12 it 150/2724 loss 0.6937 lr 1.12e-04 elapsed 52.6s\n"
          ]
        },
        {
          "output_type": "stream",
          "name": "stdout",
          "text": [
            "[fold 0] epoch 4/12 it 200/2724 loss 0.6904 lr 1.12e-04 elapsed 69.8s\n"
          ]
        },
        {
          "output_type": "stream",
          "name": "stdout",
          "text": [
            "[fold 0] epoch 4/12 it 250/2724 loss 0.6883 lr 1.12e-04 elapsed 87.1s\n"
          ]
        },
        {
          "output_type": "stream",
          "name": "stdout",
          "text": [
            "[fold 0] epoch 4/12 it 300/2724 loss 0.6879 lr 1.12e-04 elapsed 104.3s\n"
          ]
        },
        {
          "output_type": "stream",
          "name": "stdout",
          "text": [
            "[fold 0] epoch 4/12 it 350/2724 loss 0.6872 lr 1.11e-04 elapsed 121.6s\n"
          ]
        },
        {
          "output_type": "stream",
          "name": "stdout",
          "text": [
            "[fold 0] epoch 4/12 it 400/2724 loss 0.6866 lr 1.11e-04 elapsed 138.8s\n"
          ]
        },
        {
          "output_type": "stream",
          "name": "stdout",
          "text": [
            "[fold 0] epoch 4/12 it 450/2724 loss 0.6871 lr 1.11e-04 elapsed 156.1s\n"
          ]
        },
        {
          "output_type": "stream",
          "name": "stdout",
          "text": [
            "[fold 0] epoch 4/12 it 500/2724 loss 0.6868 lr 1.11e-04 elapsed 173.4s\n"
          ]
        },
        {
          "output_type": "stream",
          "name": "stdout",
          "text": [
            "[fold 0] epoch 4/12 it 550/2724 loss 0.6864 lr 1.11e-04 elapsed 190.6s\n"
          ]
        },
        {
          "output_type": "stream",
          "name": "stdout",
          "text": [
            "[fold 0] epoch 4/12 it 600/2724 loss 0.6866 lr 1.11e-04 elapsed 207.9s\n"
          ]
        },
        {
          "output_type": "stream",
          "name": "stdout",
          "text": [
            "[fold 0] epoch 4/12 it 650/2724 loss 0.6861 lr 1.10e-04 elapsed 225.2s\n"
          ]
        },
        {
          "output_type": "stream",
          "name": "stdout",
          "text": [
            "[fold 0] epoch 4/12 it 700/2724 loss 0.6859 lr 1.10e-04 elapsed 242.5s\n"
          ]
        },
        {
          "output_type": "stream",
          "name": "stdout",
          "text": [
            "[fold 0] epoch 4/12 it 750/2724 loss 0.6862 lr 1.10e-04 elapsed 259.7s\n"
          ]
        },
        {
          "output_type": "stream",
          "name": "stdout",
          "text": [
            "[fold 0] epoch 4/12 it 800/2724 loss 0.6861 lr 1.10e-04 elapsed 277.0s\n"
          ]
        },
        {
          "output_type": "stream",
          "name": "stdout",
          "text": [
            "[fold 0] epoch 4/12 it 850/2724 loss 0.6856 lr 1.10e-04 elapsed 294.2s\n"
          ]
        },
        {
          "output_type": "stream",
          "name": "stdout",
          "text": [
            "[fold 0] epoch 4/12 it 900/2724 loss 0.6858 lr 1.10e-04 elapsed 311.8s\n"
          ]
        },
        {
          "output_type": "stream",
          "name": "stdout",
          "text": [
            "[fold 0] epoch 4/12 it 950/2724 loss 0.6864 lr 1.10e-04 elapsed 329.0s\n"
          ]
        },
        {
          "output_type": "stream",
          "name": "stdout",
          "text": [
            "[fold 0] epoch 4/12 it 1000/2724 loss 0.6866 lr 1.09e-04 elapsed 346.3s\n"
          ]
        },
        {
          "output_type": "stream",
          "name": "stdout",
          "text": [
            "[fold 0] epoch 4/12 it 1050/2724 loss 0.6862 lr 1.09e-04 elapsed 363.6s\n"
          ]
        },
        {
          "output_type": "stream",
          "name": "stdout",
          "text": [
            "[fold 0] epoch 4/12 it 1100/2724 loss 0.6858 lr 1.09e-04 elapsed 380.8s\n"
          ]
        },
        {
          "output_type": "stream",
          "name": "stdout",
          "text": [
            "[fold 0] epoch 4/12 it 1150/2724 loss 0.6857 lr 1.09e-04 elapsed 398.1s\n"
          ]
        },
        {
          "output_type": "stream",
          "name": "stdout",
          "text": [
            "[fold 0] epoch 4/12 it 1200/2724 loss 0.6861 lr 1.09e-04 elapsed 415.4s\n"
          ]
        },
        {
          "output_type": "stream",
          "name": "stdout",
          "text": [
            "[fold 0] epoch 4/12 it 1250/2724 loss 0.6858 lr 1.09e-04 elapsed 432.7s\n"
          ]
        },
        {
          "output_type": "stream",
          "name": "stdout",
          "text": [
            "[fold 0] epoch 4/12 it 1300/2724 loss 0.6864 lr 1.08e-04 elapsed 449.9s\n"
          ]
        },
        {
          "output_type": "stream",
          "name": "stdout",
          "text": [
            "[fold 0] epoch 4/12 it 1350/2724 loss 0.6866 lr 1.08e-04 elapsed 467.2s\n"
          ]
        },
        {
          "output_type": "stream",
          "name": "stdout",
          "text": [
            "[fold 0] epoch 4/12 it 1400/2724 loss 0.6861 lr 1.08e-04 elapsed 484.5s\n"
          ]
        },
        {
          "output_type": "stream",
          "name": "stdout",
          "text": [
            "[fold 0] epoch 4/12 it 1450/2724 loss 0.6863 lr 1.08e-04 elapsed 501.7s\n"
          ]
        },
        {
          "output_type": "stream",
          "name": "stdout",
          "text": [
            "[fold 0] epoch 4/12 it 1500/2724 loss 0.6864 lr 1.08e-04 elapsed 519.0s\n"
          ]
        },
        {
          "output_type": "stream",
          "name": "stdout",
          "text": [
            "[fold 0] epoch 4/12 it 1550/2724 loss 0.6865 lr 1.08e-04 elapsed 536.2s\n"
          ]
        },
        {
          "output_type": "stream",
          "name": "stdout",
          "text": [
            "[fold 0] epoch 4/12 it 1600/2724 loss 0.6864 lr 1.07e-04 elapsed 553.5s\n"
          ]
        },
        {
          "output_type": "stream",
          "name": "stdout",
          "text": [
            "[fold 0] epoch 4/12 it 1650/2724 loss 0.6866 lr 1.07e-04 elapsed 570.8s\n"
          ]
        },
        {
          "output_type": "stream",
          "name": "stdout",
          "text": [
            "[fold 0] epoch 4/12 it 1700/2724 loss 0.6873 lr 1.07e-04 elapsed 588.0s\n"
          ]
        },
        {
          "output_type": "stream",
          "name": "stdout",
          "text": [
            "[fold 0] epoch 4/12 it 1750/2724 loss 0.6872 lr 1.07e-04 elapsed 605.3s\n"
          ]
        },
        {
          "output_type": "stream",
          "name": "stdout",
          "text": [
            "[fold 0] epoch 4/12 it 1800/2724 loss 0.6872 lr 1.07e-04 elapsed 622.5s\n"
          ]
        },
        {
          "output_type": "stream",
          "name": "stdout",
          "text": [
            "[fold 0] epoch 4/12 it 1850/2724 loss 0.6877 lr 1.07e-04 elapsed 639.8s\n"
          ]
        },
        {
          "output_type": "stream",
          "name": "stdout",
          "text": [
            "[fold 0] epoch 4/12 it 1900/2724 loss 0.6880 lr 1.06e-04 elapsed 657.1s\n"
          ]
        },
        {
          "output_type": "stream",
          "name": "stdout",
          "text": [
            "[fold 0] epoch 4/12 it 1950/2724 loss 0.6880 lr 1.06e-04 elapsed 674.3s\n"
          ]
        },
        {
          "output_type": "stream",
          "name": "stdout",
          "text": [
            "[fold 0] epoch 4/12 it 2000/2724 loss 0.6875 lr 1.06e-04 elapsed 691.6s\n"
          ]
        },
        {
          "output_type": "stream",
          "name": "stdout",
          "text": [
            "[fold 0] epoch 4/12 it 2050/2724 loss 0.6877 lr 1.06e-04 elapsed 708.8s\n"
          ]
        },
        {
          "output_type": "stream",
          "name": "stdout",
          "text": [
            "[fold 0] epoch 4/12 it 2100/2724 loss 0.6878 lr 1.06e-04 elapsed 726.1s\n"
          ]
        },
        {
          "output_type": "stream",
          "name": "stdout",
          "text": [
            "[fold 0] epoch 4/12 it 2150/2724 loss 0.6878 lr 1.05e-04 elapsed 743.3s\n"
          ]
        },
        {
          "output_type": "stream",
          "name": "stdout",
          "text": [
            "[fold 0] epoch 4/12 it 2200/2724 loss 0.6875 lr 1.05e-04 elapsed 760.5s\n"
          ]
        },
        {
          "output_type": "stream",
          "name": "stdout",
          "text": [
            "[fold 0] epoch 4/12 it 2250/2724 loss 0.6876 lr 1.05e-04 elapsed 777.8s\n"
          ]
        },
        {
          "output_type": "stream",
          "name": "stdout",
          "text": [
            "[fold 0] epoch 4/12 it 2300/2724 loss 0.6874 lr 1.05e-04 elapsed 795.0s\n"
          ]
        },
        {
          "output_type": "stream",
          "name": "stdout",
          "text": [
            "[fold 0] epoch 4/12 it 2350/2724 loss 0.6874 lr 1.05e-04 elapsed 812.3s\n"
          ]
        },
        {
          "output_type": "stream",
          "name": "stdout",
          "text": [
            "[fold 0] epoch 4/12 it 2400/2724 loss 0.6875 lr 1.05e-04 elapsed 829.5s\n"
          ]
        },
        {
          "output_type": "stream",
          "name": "stdout",
          "text": [
            "[fold 0] epoch 4/12 it 2450/2724 loss 0.6874 lr 1.04e-04 elapsed 846.8s\n"
          ]
        },
        {
          "output_type": "stream",
          "name": "stdout",
          "text": [
            "[fold 0] epoch 4/12 it 2500/2724 loss 0.6873 lr 1.04e-04 elapsed 864.0s\n"
          ]
        },
        {
          "output_type": "stream",
          "name": "stdout",
          "text": [
            "[fold 0] epoch 4/12 it 2550/2724 loss 0.6874 lr 1.04e-04 elapsed 881.2s\n"
          ]
        },
        {
          "output_type": "stream",
          "name": "stdout",
          "text": [
            "[fold 0] epoch 4/12 it 2600/2724 loss 0.6872 lr 1.04e-04 elapsed 898.5s\n"
          ]
        },
        {
          "output_type": "stream",
          "name": "stdout",
          "text": [
            "[fold 0] epoch 4/12 it 2650/2724 loss 0.6871 lr 1.04e-04 elapsed 915.7s\n"
          ]
        },
        {
          "output_type": "stream",
          "name": "stdout",
          "text": [
            "[fold 0] epoch 4/12 it 2700/2724 loss 0.6871 lr 1.03e-04 elapsed 933.0s\n"
          ]
        },
        {
          "output_type": "stream",
          "name": "stdout",
          "text": [
            "[fold 0] epoch 4 val macro AUC: 0.92499\n  ETT - Abnormal: 0.8963\n  ETT - Borderline: 0.9393\n  ETT - Normal: 0.9888\n  NGT - Abnormal: 0.9338\n  NGT - Borderline: 0.9492\n  NGT - Incompletely Imaged: 0.9783\n  NGT - Normal: 0.9723\n  CVC - Abnormal: 0.8579\n  CVC - Borderline: 0.8090\n"
          ]
        },
        {
          "output_type": "stream",
          "name": "stdout",
          "text": [
            "[fold 0] saved best to chkpts/effb4ns_fold0.pt\n[fold 0] epoch 4 train_loss 0.6872 time 1092.0s\n"
          ]
        },
        {
          "output_type": "stream",
          "name": "stdout",
          "text": [
            "[debug] first-batch targets sum per class: [0.0, 0.0, 2.0, 0.0, 1.0, 0.0, 1.0, 0.0, 0.0]\n"
          ]
        },
        {
          "output_type": "stream",
          "name": "stderr",
          "text": [
            "/tmp/ipykernel_1774/544503444.py:126: FutureWarning: `torch.cuda.amp.autocast(args...)` is deprecated. Please use `torch.amp.autocast('cuda', args...)` instead.\n  with torch.cuda.amp.autocast(enabled=(DEVICE=='cuda')):\n"
          ]
        },
        {
          "output_type": "stream",
          "name": "stdout",
          "text": [
            "[fold 0] epoch 5/12 it 50/2724 loss 0.6549 lr 1.03e-04 elapsed 18.2s\n"
          ]
        },
        {
          "output_type": "stream",
          "name": "stdout",
          "text": [
            "[fold 0] epoch 5/12 it 100/2724 loss 0.6584 lr 1.03e-04 elapsed 35.4s\n"
          ]
        },
        {
          "output_type": "stream",
          "name": "stdout",
          "text": [
            "[fold 0] epoch 5/12 it 150/2724 loss 0.6582 lr 1.03e-04 elapsed 52.7s\n"
          ]
        },
        {
          "output_type": "stream",
          "name": "stdout",
          "text": [
            "[fold 0] epoch 5/12 it 200/2724 loss 0.6558 lr 1.03e-04 elapsed 70.0s\n"
          ]
        },
        {
          "output_type": "stream",
          "name": "stdout",
          "text": [
            "[fold 0] epoch 5/12 it 250/2724 loss 0.6568 lr 1.02e-04 elapsed 87.2s\n"
          ]
        },
        {
          "output_type": "stream",
          "name": "stdout",
          "text": [
            "[fold 0] epoch 5/12 it 300/2724 loss 0.6564 lr 1.02e-04 elapsed 104.5s\n"
          ]
        },
        {
          "output_type": "stream",
          "name": "stdout",
          "text": [
            "[fold 0] epoch 5/12 it 350/2724 loss 0.6587 lr 1.02e-04 elapsed 121.7s\n"
          ]
        },
        {
          "output_type": "stream",
          "name": "stdout",
          "text": [
            "[fold 0] epoch 5/12 it 400/2724 loss 0.6581 lr 1.02e-04 elapsed 139.0s\n"
          ]
        },
        {
          "output_type": "stream",
          "name": "stdout",
          "text": [
            "[fold 0] epoch 5/12 it 450/2724 loss 0.6571 lr 1.02e-04 elapsed 156.2s\n"
          ]
        },
        {
          "output_type": "stream",
          "name": "stdout",
          "text": [
            "[fold 0] epoch 5/12 it 500/2724 loss 0.6570 lr 1.01e-04 elapsed 173.4s\n"
          ]
        },
        {
          "output_type": "stream",
          "name": "stdout",
          "text": [
            "[fold 0] epoch 5/12 it 550/2724 loss 0.6574 lr 1.01e-04 elapsed 190.7s\n"
          ]
        },
        {
          "output_type": "stream",
          "name": "stdout",
          "text": [
            "[fold 0] epoch 5/12 it 600/2724 loss 0.6579 lr 1.01e-04 elapsed 207.9s\n"
          ]
        },
        {
          "output_type": "stream",
          "name": "stdout",
          "text": [
            "[fold 0] epoch 5/12 it 650/2724 loss 0.6566 lr 1.01e-04 elapsed 225.2s\n"
          ]
        },
        {
          "output_type": "stream",
          "name": "stdout",
          "text": [
            "[fold 0] epoch 5/12 it 700/2724 loss 0.6570 lr 1.01e-04 elapsed 242.4s\n"
          ]
        },
        {
          "output_type": "stream",
          "name": "stdout",
          "text": [
            "[fold 0] epoch 5/12 it 750/2724 loss 0.6572 lr 1.00e-04 elapsed 259.6s\n"
          ]
        },
        {
          "output_type": "stream",
          "name": "stdout",
          "text": [
            "[fold 0] epoch 5/12 it 800/2724 loss 0.6569 lr 1.00e-04 elapsed 276.9s\n"
          ]
        },
        {
          "output_type": "stream",
          "name": "stdout",
          "text": [
            "[fold 0] epoch 5/12 it 850/2724 loss 0.6562 lr 9.99e-05 elapsed 294.1s\n"
          ]
        },
        {
          "output_type": "stream",
          "name": "stdout",
          "text": [
            "[fold 0] epoch 5/12 it 900/2724 loss 0.6561 lr 9.97e-05 elapsed 311.4s\n"
          ]
        },
        {
          "output_type": "stream",
          "name": "stdout",
          "text": [
            "[fold 0] epoch 5/12 it 950/2724 loss 0.6561 lr 9.95e-05 elapsed 328.7s\n"
          ]
        },
        {
          "output_type": "stream",
          "name": "stdout",
          "text": [
            "[fold 0] epoch 5/12 it 1000/2724 loss 0.6564 lr 9.93e-05 elapsed 345.9s\n"
          ]
        },
        {
          "output_type": "stream",
          "name": "stdout",
          "text": [
            "[fold 0] epoch 5/12 it 1050/2724 loss 0.6559 lr 9.90e-05 elapsed 363.2s\n"
          ]
        },
        {
          "output_type": "stream",
          "name": "stdout",
          "text": [
            "[fold 0] epoch 5/12 it 1100/2724 loss 0.6559 lr 9.88e-05 elapsed 380.5s\n"
          ]
        },
        {
          "output_type": "stream",
          "name": "stdout",
          "text": [
            "[fold 0] epoch 5/12 it 1150/2724 loss 0.6558 lr 9.86e-05 elapsed 397.7s\n"
          ]
        },
        {
          "output_type": "stream",
          "name": "stdout",
          "text": [
            "[fold 0] epoch 5/12 it 1200/2724 loss 0.6559 lr 9.84e-05 elapsed 415.0s\n"
          ]
        },
        {
          "output_type": "stream",
          "name": "stdout",
          "text": [
            "[fold 0] epoch 5/12 it 1250/2724 loss 0.6564 lr 9.82e-05 elapsed 432.2s\n"
          ]
        },
        {
          "output_type": "stream",
          "name": "stdout",
          "text": [
            "[fold 0] epoch 5/12 it 1300/2724 loss 0.6564 lr 9.80e-05 elapsed 449.5s\n"
          ]
        },
        {
          "output_type": "stream",
          "name": "stdout",
          "text": [
            "[fold 0] epoch 5/12 it 1350/2724 loss 0.6564 lr 9.78e-05 elapsed 466.7s\n"
          ]
        },
        {
          "output_type": "stream",
          "name": "stdout",
          "text": [
            "[fold 0] epoch 5/12 it 1400/2724 loss 0.6563 lr 9.75e-05 elapsed 483.9s\n"
          ]
        },
        {
          "output_type": "stream",
          "name": "stdout",
          "text": [
            "[fold 0] epoch 5/12 it 1450/2724 loss 0.6564 lr 9.73e-05 elapsed 501.2s\n"
          ]
        },
        {
          "output_type": "stream",
          "name": "stdout",
          "text": [
            "[fold 0] epoch 5/12 it 1500/2724 loss 0.6562 lr 9.71e-05 elapsed 518.4s\n"
          ]
        },
        {
          "output_type": "stream",
          "name": "stdout",
          "text": [
            "[fold 0] epoch 5/12 it 1550/2724 loss 0.6560 lr 9.69e-05 elapsed 535.7s\n"
          ]
        },
        {
          "output_type": "stream",
          "name": "stdout",
          "text": [
            "[fold 0] epoch 5/12 it 1600/2724 loss 0.6561 lr 9.67e-05 elapsed 553.0s\n"
          ]
        },
        {
          "output_type": "stream",
          "name": "stdout",
          "text": [
            "[fold 0] epoch 5/12 it 1650/2724 loss 0.6560 lr 9.64e-05 elapsed 570.2s\n"
          ]
        },
        {
          "output_type": "stream",
          "name": "stdout",
          "text": [
            "[fold 0] epoch 5/12 it 1700/2724 loss 0.6563 lr 9.62e-05 elapsed 587.5s\n"
          ]
        },
        {
          "output_type": "stream",
          "name": "stdout",
          "text": [
            "[fold 0] epoch 5/12 it 1750/2724 loss 0.6559 lr 9.60e-05 elapsed 604.8s\n"
          ]
        },
        {
          "output_type": "stream",
          "name": "stdout",
          "text": [
            "[fold 0] epoch 5/12 it 1800/2724 loss 0.6560 lr 9.58e-05 elapsed 622.1s\n"
          ]
        },
        {
          "output_type": "stream",
          "name": "stdout",
          "text": [
            "[fold 0] epoch 5/12 it 1850/2724 loss 0.6564 lr 9.56e-05 elapsed 639.4s\n"
          ]
        },
        {
          "output_type": "stream",
          "name": "stdout",
          "text": [
            "[fold 0] epoch 5/12 it 1900/2724 loss 0.6565 lr 9.53e-05 elapsed 656.6s\n"
          ]
        },
        {
          "output_type": "stream",
          "name": "stdout",
          "text": [
            "[fold 0] epoch 5/12 it 1950/2724 loss 0.6568 lr 9.51e-05 elapsed 673.9s\n"
          ]
        },
        {
          "output_type": "stream",
          "name": "stdout",
          "text": [
            "[fold 0] epoch 5/12 it 2000/2724 loss 0.6570 lr 9.49e-05 elapsed 691.2s\n"
          ]
        },
        {
          "output_type": "stream",
          "name": "stdout",
          "text": [
            "[fold 0] epoch 5/12 it 2050/2724 loss 0.6568 lr 9.46e-05 elapsed 708.5s\n"
          ]
        },
        {
          "output_type": "stream",
          "name": "stdout",
          "text": [
            "[fold 0] epoch 5/12 it 2100/2724 loss 0.6569 lr 9.44e-05 elapsed 725.7s\n"
          ]
        },
        {
          "output_type": "stream",
          "name": "stdout",
          "text": [
            "[fold 0] epoch 5/12 it 2150/2724 loss 0.6565 lr 9.42e-05 elapsed 743.0s\n"
          ]
        },
        {
          "output_type": "stream",
          "name": "stdout",
          "text": [
            "[fold 0] epoch 5/12 it 2200/2724 loss 0.6566 lr 9.40e-05 elapsed 760.2s\n"
          ]
        },
        {
          "output_type": "stream",
          "name": "stdout",
          "text": [
            "[fold 0] epoch 5/12 it 2250/2724 loss 0.6566 lr 9.37e-05 elapsed 777.5s\n"
          ]
        },
        {
          "output_type": "stream",
          "name": "stdout",
          "text": [
            "[fold 0] epoch 5/12 it 2300/2724 loss 0.6567 lr 9.35e-05 elapsed 794.8s\n"
          ]
        },
        {
          "output_type": "stream",
          "name": "stdout",
          "text": [
            "[fold 0] epoch 5/12 it 2350/2724 loss 0.6566 lr 9.33e-05 elapsed 812.0s\n"
          ]
        },
        {
          "output_type": "stream",
          "name": "stdout",
          "text": [
            "[fold 0] epoch 5/12 it 2400/2724 loss 0.6568 lr 9.30e-05 elapsed 829.3s\n"
          ]
        },
        {
          "output_type": "stream",
          "name": "stdout",
          "text": [
            "[fold 0] epoch 5/12 it 2450/2724 loss 0.6566 lr 9.28e-05 elapsed 846.6s\n"
          ]
        },
        {
          "output_type": "stream",
          "name": "stdout",
          "text": [
            "[fold 0] epoch 5/12 it 2500/2724 loss 0.6566 lr 9.26e-05 elapsed 863.8s\n"
          ]
        },
        {
          "output_type": "stream",
          "name": "stdout",
          "text": [
            "[fold 0] epoch 5/12 it 2550/2724 loss 0.6565 lr 9.23e-05 elapsed 881.1s\n"
          ]
        },
        {
          "output_type": "stream",
          "name": "stdout",
          "text": [
            "[fold 0] epoch 5/12 it 2600/2724 loss 0.6564 lr 9.21e-05 elapsed 898.3s\n"
          ]
        },
        {
          "output_type": "stream",
          "name": "stdout",
          "text": [
            "[fold 0] epoch 5/12 it 2650/2724 loss 0.6564 lr 9.19e-05 elapsed 915.6s\n"
          ]
        },
        {
          "output_type": "stream",
          "name": "stdout",
          "text": [
            "[fold 0] epoch 5/12 it 2700/2724 loss 0.6563 lr 9.16e-05 elapsed 932.8s\n"
          ]
        },
        {
          "output_type": "stream",
          "name": "stdout",
          "text": [
            "[fold 0] epoch 5 val macro AUC: 0.89364\n  ETT - Abnormal: 0.8337\n  ETT - Borderline: 0.9029\n  ETT - Normal: 0.9827\n  NGT - Abnormal: 0.8619\n  NGT - Borderline: 0.8949\n  NGT - Incompletely Imaged: 0.9542\n  NGT - Normal: 0.9668\n  CVC - Abnormal: 0.8534\n  CVC - Borderline: 0.7923\n[fold 0] epoch 5 train_loss 0.6563 time 1090.3s\n"
          ]
        },
        {
          "output_type": "stream",
          "name": "stdout",
          "text": [
            "[debug] first-batch targets sum per class: [0.0, 0.0, 1.0, 0.0, 0.0, 1.0, 0.0, 0.0, 3.0]\n"
          ]
        },
        {
          "output_type": "stream",
          "name": "stderr",
          "text": [
            "/tmp/ipykernel_1774/544503444.py:126: FutureWarning: `torch.cuda.amp.autocast(args...)` is deprecated. Please use `torch.amp.autocast('cuda', args...)` instead.\n  with torch.cuda.amp.autocast(enabled=(DEVICE=='cuda')):\n"
          ]
        },
        {
          "output_type": "stream",
          "name": "stdout",
          "text": [
            "[fold 0] epoch 6/12 it 50/2724 loss 0.6354 lr 9.13e-05 elapsed 18.1s\n"
          ]
        },
        {
          "output_type": "stream",
          "name": "stdout",
          "text": [
            "[fold 0] epoch 6/12 it 100/2724 loss 0.6320 lr 9.10e-05 elapsed 35.4s\n"
          ]
        },
        {
          "output_type": "stream",
          "name": "stdout",
          "text": [
            "[fold 0] epoch 6/12 it 150/2724 loss 0.6312 lr 9.08e-05 elapsed 52.6s\n"
          ]
        },
        {
          "output_type": "stream",
          "name": "stdout",
          "text": [
            "[fold 0] epoch 6/12 it 200/2724 loss 0.6290 lr 9.06e-05 elapsed 70.2s\n"
          ]
        },
        {
          "output_type": "stream",
          "name": "stdout",
          "text": [
            "[fold 0] epoch 6/12 it 250/2724 loss 0.6270 lr 9.03e-05 elapsed 87.5s\n"
          ]
        },
        {
          "output_type": "stream",
          "name": "stdout",
          "text": [
            "[fold 0] epoch 6/12 it 300/2724 loss 0.6277 lr 9.01e-05 elapsed 104.7s\n"
          ]
        },
        {
          "output_type": "stream",
          "name": "stdout",
          "text": [
            "[fold 0] epoch 6/12 it 350/2724 loss 0.6289 lr 8.98e-05 elapsed 122.0s\n"
          ]
        },
        {
          "output_type": "stream",
          "name": "stdout",
          "text": [
            "[fold 0] epoch 6/12 it 400/2724 loss 0.6283 lr 8.96e-05 elapsed 139.2s\n"
          ]
        },
        {
          "output_type": "stream",
          "name": "stdout",
          "text": [
            "[fold 0] epoch 6/12 it 450/2724 loss 0.6283 lr 8.93e-05 elapsed 156.5s\n"
          ]
        },
        {
          "output_type": "stream",
          "name": "stdout",
          "text": [
            "[fold 0] epoch 6/12 it 500/2724 loss 0.6276 lr 8.91e-05 elapsed 173.7s\n"
          ]
        },
        {
          "output_type": "stream",
          "name": "stdout",
          "text": [
            "[fold 0] epoch 6/12 it 550/2724 loss 0.6268 lr 8.89e-05 elapsed 191.0s\n"
          ]
        },
        {
          "output_type": "stream",
          "name": "stdout",
          "text": [
            "[fold 0] epoch 6/12 it 600/2724 loss 0.6265 lr 8.86e-05 elapsed 208.2s\n"
          ]
        },
        {
          "output_type": "stream",
          "name": "stdout",
          "text": [
            "[fold 0] epoch 6/12 it 650/2724 loss 0.6268 lr 8.84e-05 elapsed 225.4s\n"
          ]
        },
        {
          "output_type": "stream",
          "name": "stdout",
          "text": [
            "[fold 0] epoch 6/12 it 700/2724 loss 0.6265 lr 8.81e-05 elapsed 242.7s\n"
          ]
        },
        {
          "output_type": "stream",
          "name": "stdout",
          "text": [
            "[fold 0] epoch 6/12 it 750/2724 loss 0.6276 lr 8.79e-05 elapsed 259.9s\n"
          ]
        },
        {
          "output_type": "stream",
          "name": "stdout",
          "text": [
            "[fold 0] epoch 6/12 it 800/2724 loss 0.6277 lr 8.76e-05 elapsed 277.1s\n"
          ]
        },
        {
          "output_type": "stream",
          "name": "stdout",
          "text": [
            "[fold 0] epoch 6/12 it 850/2724 loss 0.6279 lr 8.74e-05 elapsed 294.4s\n"
          ]
        },
        {
          "output_type": "stream",
          "name": "stdout",
          "text": [
            "[fold 0] epoch 6/12 it 900/2724 loss 0.6276 lr 8.71e-05 elapsed 311.6s\n"
          ]
        },
        {
          "output_type": "stream",
          "name": "stdout",
          "text": [
            "[fold 0] epoch 6/12 it 950/2724 loss 0.6274 lr 8.69e-05 elapsed 328.8s\n"
          ]
        },
        {
          "output_type": "stream",
          "name": "stdout",
          "text": [
            "[fold 0] epoch 6/12 it 1000/2724 loss 0.6273 lr 8.66e-05 elapsed 346.1s\n"
          ]
        },
        {
          "output_type": "stream",
          "name": "stdout",
          "text": [
            "[fold 0] epoch 6/12 it 1050/2724 loss 0.6272 lr 8.64e-05 elapsed 363.3s\n"
          ]
        },
        {
          "output_type": "stream",
          "name": "stdout",
          "text": [
            "[fold 0] epoch 6/12 it 1100/2724 loss 0.6276 lr 8.61e-05 elapsed 380.5s\n"
          ]
        },
        {
          "output_type": "stream",
          "name": "stdout",
          "text": [
            "[fold 0] epoch 6/12 it 1150/2724 loss 0.6279 lr 8.59e-05 elapsed 397.8s\n"
          ]
        },
        {
          "output_type": "stream",
          "name": "stdout",
          "text": [
            "[fold 0] epoch 6/12 it 1200/2724 loss 0.6275 lr 8.56e-05 elapsed 415.0s\n"
          ]
        },
        {
          "output_type": "stream",
          "name": "stdout",
          "text": [
            "[fold 0] epoch 6/12 it 1250/2724 loss 0.6275 lr 8.54e-05 elapsed 432.2s\n"
          ]
        },
        {
          "output_type": "stream",
          "name": "stdout",
          "text": [
            "[fold 0] epoch 6/12 it 1300/2724 loss 0.6273 lr 8.51e-05 elapsed 449.5s\n"
          ]
        },
        {
          "output_type": "stream",
          "name": "stdout",
          "text": [
            "[fold 0] epoch 6/12 it 1350/2724 loss 0.6276 lr 8.49e-05 elapsed 466.7s\n"
          ]
        },
        {
          "output_type": "stream",
          "name": "stdout",
          "text": [
            "[fold 0] epoch 6/12 it 1400/2724 loss 0.6276 lr 8.46e-05 elapsed 483.9s\n"
          ]
        },
        {
          "output_type": "stream",
          "name": "stdout",
          "text": [
            "[fold 0] epoch 6/12 it 1450/2724 loss 0.6281 lr 8.44e-05 elapsed 501.2s\n"
          ]
        },
        {
          "output_type": "stream",
          "name": "stdout",
          "text": [
            "[fold 0] epoch 6/12 it 1500/2724 loss 0.6282 lr 8.41e-05 elapsed 518.4s\n"
          ]
        },
        {
          "output_type": "stream",
          "name": "stdout",
          "text": [
            "[fold 0] epoch 6/12 it 1550/2724 loss 0.6280 lr 8.39e-05 elapsed 535.7s\n"
          ]
        },
        {
          "output_type": "stream",
          "name": "stdout",
          "text": [
            "[fold 0] epoch 6/12 it 1600/2724 loss 0.6283 lr 8.36e-05 elapsed 552.9s\n"
          ]
        },
        {
          "output_type": "stream",
          "name": "stdout",
          "text": [
            "[fold 0] epoch 6/12 it 1650/2724 loss 0.6286 lr 8.34e-05 elapsed 570.2s\n"
          ]
        },
        {
          "output_type": "stream",
          "name": "stdout",
          "text": [
            "[fold 0] epoch 6/12 it 1700/2724 loss 0.6289 lr 8.31e-05 elapsed 587.4s\n"
          ]
        },
        {
          "output_type": "stream",
          "name": "stdout",
          "text": [
            "[fold 0] epoch 6/12 it 1750/2724 loss 0.6290 lr 8.28e-05 elapsed 604.7s\n"
          ]
        },
        {
          "output_type": "stream",
          "name": "stdout",
          "text": [
            "[fold 0] epoch 6/12 it 1800/2724 loss 0.6289 lr 8.26e-05 elapsed 621.9s\n"
          ]
        },
        {
          "output_type": "stream",
          "name": "stdout",
          "text": [
            "[fold 0] epoch 6/12 it 1850/2724 loss 0.6290 lr 8.23e-05 elapsed 639.2s\n"
          ]
        },
        {
          "output_type": "stream",
          "name": "stdout",
          "text": [
            "[fold 0] epoch 6/12 it 1900/2724 loss 0.6292 lr 8.21e-05 elapsed 656.4s\n"
          ]
        },
        {
          "output_type": "stream",
          "name": "stdout",
          "text": [
            "[fold 0] epoch 6/12 it 1950/2724 loss 0.6291 lr 8.18e-05 elapsed 673.7s\n"
          ]
        },
        {
          "output_type": "stream",
          "name": "stdout",
          "text": [
            "[fold 0] epoch 6/12 it 2000/2724 loss 0.6289 lr 8.16e-05 elapsed 691.0s\n"
          ]
        },
        {
          "output_type": "stream",
          "name": "stdout",
          "text": [
            "[fold 0] epoch 6/12 it 2050/2724 loss 0.6289 lr 8.13e-05 elapsed 708.2s\n"
          ]
        },
        {
          "output_type": "stream",
          "name": "stdout",
          "text": [
            "[fold 0] epoch 6/12 it 2100/2724 loss 0.6290 lr 8.10e-05 elapsed 725.5s\n"
          ]
        },
        {
          "output_type": "stream",
          "name": "stdout",
          "text": [
            "[fold 0] epoch 6/12 it 2150/2724 loss 0.6290 lr 8.08e-05 elapsed 742.7s\n"
          ]
        },
        {
          "output_type": "stream",
          "name": "stdout",
          "text": [
            "[fold 0] epoch 6/12 it 2200/2724 loss 0.6289 lr 8.05e-05 elapsed 760.0s\n"
          ]
        },
        {
          "output_type": "stream",
          "name": "stdout",
          "text": [
            "[fold 0] epoch 6/12 it 2250/2724 loss 0.6289 lr 8.03e-05 elapsed 777.2s\n"
          ]
        },
        {
          "output_type": "stream",
          "name": "stdout",
          "text": [
            "[fold 0] epoch 6/12 it 2300/2724 loss 0.6287 lr 8.00e-05 elapsed 794.5s\n"
          ]
        },
        {
          "output_type": "stream",
          "name": "stdout",
          "text": [
            "[fold 0] epoch 6/12 it 2350/2724 loss 0.6287 lr 7.97e-05 elapsed 811.7s\n"
          ]
        },
        {
          "output_type": "stream",
          "name": "stdout",
          "text": [
            "[fold 0] epoch 6/12 it 2400/2724 loss 0.6287 lr 7.95e-05 elapsed 829.0s\n"
          ]
        },
        {
          "output_type": "stream",
          "name": "stdout",
          "text": [
            "[fold 0] epoch 6/12 it 2450/2724 loss 0.6287 lr 7.92e-05 elapsed 846.3s\n"
          ]
        },
        {
          "output_type": "stream",
          "name": "stdout",
          "text": [
            "[fold 0] epoch 6/12 it 2500/2724 loss 0.6284 lr 7.89e-05 elapsed 863.5s\n"
          ]
        },
        {
          "output_type": "stream",
          "name": "stdout",
          "text": [
            "[fold 0] epoch 6/12 it 2550/2724 loss 0.6285 lr 7.87e-05 elapsed 880.8s\n"
          ]
        },
        {
          "output_type": "stream",
          "name": "stdout",
          "text": [
            "[fold 0] epoch 6/12 it 2600/2724 loss 0.6285 lr 7.84e-05 elapsed 898.0s\n"
          ]
        },
        {
          "output_type": "stream",
          "name": "stdout",
          "text": [
            "[fold 0] epoch 6/12 it 2650/2724 loss 0.6286 lr 7.82e-05 elapsed 915.3s\n"
          ]
        },
        {
          "output_type": "stream",
          "name": "stdout",
          "text": [
            "[fold 0] epoch 6/12 it 2700/2724 loss 0.6285 lr 7.79e-05 elapsed 932.5s\n"
          ]
        },
        {
          "output_type": "stream",
          "name": "stdout",
          "text": [
            "[fold 0] epoch 6 val macro AUC: 0.87862\n  ETT - Abnormal: 0.8205\n  ETT - Borderline: 0.9020\n  ETT - Normal: 0.9819\n  NGT - Abnormal: 0.8271\n  NGT - Borderline: 0.8193\n  NGT - Incompletely Imaged: 0.9728\n  NGT - Normal: 0.9750\n  CVC - Abnormal: 0.8051\n  CVC - Borderline: 0.8039\n[fold 0] epoch 6 train_loss 0.6285 time 1089.9s\n"
          ]
        },
        {
          "output_type": "stream",
          "name": "stdout",
          "text": [
            "[debug] first-batch targets sum per class: [0.0, 0.0, 0.0, 1.0, 0.0, 0.0, 0.0, 2.0, 1.0]\n"
          ]
        },
        {
          "output_type": "stream",
          "name": "stderr",
          "text": [
            "/tmp/ipykernel_1774/544503444.py:126: FutureWarning: `torch.cuda.amp.autocast(args...)` is deprecated. Please use `torch.amp.autocast('cuda', args...)` instead.\n  with torch.cuda.amp.autocast(enabled=(DEVICE=='cuda')):\n"
          ]
        },
        {
          "output_type": "stream",
          "name": "stdout",
          "text": [
            "[fold 0] epoch 7/12 it 50/2724 loss 0.6044 lr 7.75e-05 elapsed 18.1s\n"
          ]
        },
        {
          "output_type": "stream",
          "name": "stdout",
          "text": [
            "[fold 0] epoch 7/12 it 100/2724 loss 0.6000 lr 7.72e-05 elapsed 35.3s\n"
          ]
        },
        {
          "output_type": "stream",
          "name": "stdout",
          "text": [
            "[fold 0] epoch 7/12 it 150/2724 loss 0.6007 lr 7.70e-05 elapsed 52.6s\n"
          ]
        },
        {
          "output_type": "stream",
          "name": "stdout",
          "text": [
            "[fold 0] epoch 7/12 it 200/2724 loss 0.6005 lr 7.67e-05 elapsed 69.8s\n"
          ]
        },
        {
          "output_type": "stream",
          "name": "stdout",
          "text": [
            "[fold 0] epoch 7/12 it 250/2724 loss 0.6014 lr 7.64e-05 elapsed 87.1s\n"
          ]
        },
        {
          "output_type": "stream",
          "name": "stdout",
          "text": [
            "[fold 0] epoch 7/12 it 300/2724 loss 0.6015 lr 7.62e-05 elapsed 104.4s\n"
          ]
        },
        {
          "output_type": "stream",
          "name": "stdout",
          "text": [
            "[fold 0] epoch 7/12 it 350/2724 loss 0.6011 lr 7.59e-05 elapsed 121.6s\n"
          ]
        },
        {
          "output_type": "stream",
          "name": "stdout",
          "text": [
            "[fold 0] epoch 7/12 it 400/2724 loss 0.6002 lr 7.56e-05 elapsed 138.8s\n"
          ]
        },
        {
          "output_type": "stream",
          "name": "stdout",
          "text": [
            "[fold 0] epoch 7/12 it 450/2724 loss 0.5993 lr 7.54e-05 elapsed 156.1s\n"
          ]
        },
        {
          "output_type": "stream",
          "name": "stdout",
          "text": [
            "[fold 0] epoch 7/12 it 500/2724 loss 0.5998 lr 7.51e-05 elapsed 173.4s\n"
          ]
        },
        {
          "output_type": "stream",
          "name": "stdout",
          "text": [
            "[fold 0] epoch 7/12 it 550/2724 loss 0.5991 lr 7.48e-05 elapsed 190.6s\n"
          ]
        },
        {
          "output_type": "stream",
          "name": "stdout",
          "text": [
            "[fold 0] epoch 7/12 it 600/2724 loss 0.5994 lr 7.46e-05 elapsed 207.8s\n"
          ]
        },
        {
          "output_type": "stream",
          "name": "stdout",
          "text": [
            "[fold 0] epoch 7/12 it 650/2724 loss 0.6000 lr 7.43e-05 elapsed 225.1s\n"
          ]
        },
        {
          "output_type": "stream",
          "name": "stdout",
          "text": [
            "[fold 0] epoch 7/12 it 700/2724 loss 0.5998 lr 7.40e-05 elapsed 242.3s\n"
          ]
        },
        {
          "output_type": "stream",
          "name": "stdout",
          "text": [
            "[fold 0] epoch 7/12 it 750/2724 loss 0.5999 lr 7.38e-05 elapsed 259.6s\n"
          ]
        },
        {
          "output_type": "stream",
          "name": "stdout",
          "text": [
            "[fold 0] epoch 7/12 it 800/2724 loss 0.5997 lr 7.35e-05 elapsed 276.8s\n"
          ]
        },
        {
          "output_type": "stream",
          "name": "stdout",
          "text": [
            "[fold 0] epoch 7/12 it 850/2724 loss 0.6002 lr 7.32e-05 elapsed 294.0s\n"
          ]
        },
        {
          "output_type": "stream",
          "name": "stdout",
          "text": [
            "[fold 0] epoch 7/12 it 900/2724 loss 0.5997 lr 7.30e-05 elapsed 311.3s\n"
          ]
        },
        {
          "output_type": "stream",
          "name": "stdout",
          "text": [
            "[fold 0] epoch 7/12 it 950/2724 loss 0.5999 lr 7.27e-05 elapsed 328.6s\n"
          ]
        },
        {
          "output_type": "stream",
          "name": "stdout",
          "text": [
            "[fold 0] epoch 7/12 it 1000/2724 loss 0.5997 lr 7.24e-05 elapsed 345.8s\n"
          ]
        },
        {
          "output_type": "stream",
          "name": "stdout",
          "text": [
            "[fold 0] epoch 7/12 it 1050/2724 loss 0.5994 lr 7.21e-05 elapsed 363.0s\n"
          ]
        },
        {
          "output_type": "stream",
          "name": "stdout",
          "text": [
            "[fold 0] epoch 7/12 it 1100/2724 loss 0.5993 lr 7.19e-05 elapsed 380.3s\n"
          ]
        },
        {
          "output_type": "stream",
          "name": "stdout",
          "text": [
            "[fold 0] epoch 7/12 it 1150/2724 loss 0.5991 lr 7.16e-05 elapsed 397.5s\n"
          ]
        },
        {
          "output_type": "stream",
          "name": "stdout",
          "text": [
            "[fold 0] epoch 7/12 it 1200/2724 loss 0.5994 lr 7.13e-05 elapsed 414.8s\n"
          ]
        },
        {
          "output_type": "stream",
          "name": "stdout",
          "text": [
            "[fold 0] epoch 7/12 it 1250/2724 loss 0.5995 lr 7.11e-05 elapsed 432.0s\n"
          ]
        },
        {
          "output_type": "stream",
          "name": "stdout",
          "text": [
            "[fold 0] epoch 7/12 it 1300/2724 loss 0.5994 lr 7.08e-05 elapsed 449.3s\n"
          ]
        },
        {
          "output_type": "stream",
          "name": "stdout",
          "text": [
            "[fold 0] epoch 7/12 it 1350/2724 loss 0.5996 lr 7.05e-05 elapsed 466.5s\n"
          ]
        },
        {
          "output_type": "stream",
          "name": "stdout",
          "text": [
            "[fold 0] epoch 7/12 it 1400/2724 loss 0.6000 lr 7.02e-05 elapsed 483.8s\n"
          ]
        },
        {
          "output_type": "stream",
          "name": "stdout",
          "text": [
            "[fold 0] epoch 7/12 it 1450/2724 loss 0.6001 lr 7.00e-05 elapsed 501.1s\n"
          ]
        },
        {
          "output_type": "stream",
          "name": "stdout",
          "text": [
            "[fold 0] epoch 7/12 it 1500/2724 loss 0.6001 lr 6.97e-05 elapsed 518.3s\n"
          ]
        },
        {
          "output_type": "stream",
          "name": "stdout",
          "text": [
            "[fold 0] epoch 7/12 it 1550/2724 loss 0.6002 lr 6.94e-05 elapsed 535.6s\n"
          ]
        },
        {
          "output_type": "stream",
          "name": "stdout",
          "text": [
            "[fold 0] epoch 7/12 it 1600/2724 loss 0.6000 lr 6.92e-05 elapsed 552.8s\n"
          ]
        },
        {
          "output_type": "stream",
          "name": "stdout",
          "text": [
            "[fold 0] epoch 7/12 it 1650/2724 loss 0.6003 lr 6.89e-05 elapsed 570.1s\n"
          ]
        },
        {
          "output_type": "stream",
          "name": "stdout",
          "text": [
            "[fold 0] epoch 7/12 it 1700/2724 loss 0.6003 lr 6.86e-05 elapsed 587.4s\n"
          ]
        },
        {
          "output_type": "stream",
          "name": "stdout",
          "text": [
            "[fold 0] epoch 7/12 it 1750/2724 loss 0.6003 lr 6.83e-05 elapsed 604.6s\n"
          ]
        },
        {
          "output_type": "stream",
          "name": "stdout",
          "text": [
            "[fold 0] epoch 7/12 it 1800/2724 loss 0.6001 lr 6.81e-05 elapsed 621.9s\n"
          ]
        },
        {
          "output_type": "stream",
          "name": "stdout",
          "text": [
            "[fold 0] epoch 7/12 it 1850/2724 loss 0.6000 lr 6.78e-05 elapsed 639.2s\n"
          ]
        },
        {
          "output_type": "stream",
          "name": "stdout",
          "text": [
            "[fold 0] epoch 7/12 it 1900/2724 loss 0.6001 lr 6.75e-05 elapsed 656.4s\n"
          ]
        },
        {
          "output_type": "stream",
          "name": "stdout",
          "text": [
            "[fold 0] epoch 7/12 it 1950/2724 loss 0.6002 lr 6.72e-05 elapsed 673.7s\n"
          ]
        },
        {
          "output_type": "stream",
          "name": "stdout",
          "text": [
            "[fold 0] epoch 7/12 it 2000/2724 loss 0.6006 lr 6.70e-05 elapsed 690.9s\n"
          ]
        },
        {
          "output_type": "stream",
          "name": "stdout",
          "text": [
            "[fold 0] epoch 7/12 it 2050/2724 loss 0.6009 lr 6.67e-05 elapsed 708.2s\n"
          ]
        },
        {
          "output_type": "stream",
          "name": "stdout",
          "text": [
            "[fold 0] epoch 7/12 it 2100/2724 loss 0.6011 lr 6.64e-05 elapsed 725.4s\n"
          ]
        },
        {
          "output_type": "stream",
          "name": "stdout",
          "text": [
            "[fold 0] epoch 7/12 it 2150/2724 loss 0.6010 lr 6.62e-05 elapsed 742.7s\n"
          ]
        },
        {
          "output_type": "stream",
          "name": "stdout",
          "text": [
            "[fold 0] epoch 7/12 it 2200/2724 loss 0.6010 lr 6.59e-05 elapsed 759.9s\n"
          ]
        },
        {
          "output_type": "stream",
          "name": "stdout",
          "text": [
            "[fold 0] epoch 7/12 it 2250/2724 loss 0.6009 lr 6.56e-05 elapsed 777.2s\n"
          ]
        },
        {
          "output_type": "stream",
          "name": "stdout",
          "text": [
            "[fold 0] epoch 7/12 it 2300/2724 loss 0.6008 lr 6.53e-05 elapsed 794.8s\n"
          ]
        },
        {
          "output_type": "stream",
          "name": "stdout",
          "text": [
            "[fold 0] epoch 7/12 it 2350/2724 loss 0.6008 lr 6.51e-05 elapsed 812.0s\n"
          ]
        },
        {
          "output_type": "stream",
          "name": "stdout",
          "text": [
            "[fold 0] epoch 7/12 it 2400/2724 loss 0.6010 lr 6.48e-05 elapsed 829.3s\n"
          ]
        },
        {
          "output_type": "stream",
          "name": "stdout",
          "text": [
            "[fold 0] epoch 7/12 it 2450/2724 loss 0.6011 lr 6.45e-05 elapsed 846.5s\n"
          ]
        },
        {
          "output_type": "stream",
          "name": "stdout",
          "text": [
            "[fold 0] epoch 7/12 it 2500/2724 loss 0.6012 lr 6.42e-05 elapsed 863.8s\n"
          ]
        },
        {
          "output_type": "stream",
          "name": "stdout",
          "text": [
            "[fold 0] epoch 7/12 it 2550/2724 loss 0.6012 lr 6.40e-05 elapsed 881.1s\n"
          ]
        },
        {
          "output_type": "stream",
          "name": "stdout",
          "text": [
            "[fold 0] epoch 7/12 it 2600/2724 loss 0.6014 lr 6.37e-05 elapsed 898.3s\n"
          ]
        },
        {
          "output_type": "stream",
          "name": "stdout",
          "text": [
            "[fold 0] epoch 7/12 it 2650/2724 loss 0.6015 lr 6.34e-05 elapsed 915.6s\n"
          ]
        },
        {
          "output_type": "stream",
          "name": "stdout",
          "text": [
            "[fold 0] epoch 7/12 it 2700/2724 loss 0.6014 lr 6.31e-05 elapsed 932.8s\n"
          ]
        },
        {
          "output_type": "stream",
          "name": "stdout",
          "text": [
            "[fold 0] epoch 7 val macro AUC: 0.86301\n  ETT - Abnormal: 0.8599\n  ETT - Borderline: 0.7986\n  ETT - Normal: 0.9785\n  NGT - Abnormal: 0.7409\n  NGT - Borderline: 0.8656\n  NGT - Incompletely Imaged: 0.9465\n  NGT - Normal: 0.9654\n  CVC - Abnormal: 0.8234\n  CVC - Borderline: 0.7883\n[fold 0] epoch 7 train_loss 0.6014 time 1091.2s\n"
          ]
        },
        {
          "output_type": "stream",
          "name": "stdout",
          "text": [
            "[debug] first-batch targets sum per class: [0.0, 1.0, 0.0, 0.0, 0.0, 0.0, 1.0, 1.0, 1.0]\n"
          ]
        },
        {
          "output_type": "stream",
          "name": "stderr",
          "text": [
            "/tmp/ipykernel_1774/544503444.py:126: FutureWarning: `torch.cuda.amp.autocast(args...)` is deprecated. Please use `torch.amp.autocast('cuda', args...)` instead.\n  with torch.cuda.amp.autocast(enabled=(DEVICE=='cuda')):\n"
          ]
        },
        {
          "output_type": "stream",
          "name": "stdout",
          "text": [
            "[fold 0] epoch 8/12 it 50/2724 loss 0.5871 lr 6.27e-05 elapsed 18.2s\n"
          ]
        },
        {
          "output_type": "stream",
          "name": "stdout",
          "text": [
            "[fold 0] epoch 8/12 it 100/2724 loss 0.5901 lr 6.25e-05 elapsed 35.4s\n"
          ]
        },
        {
          "output_type": "stream",
          "name": "stdout",
          "text": [
            "[fold 0] epoch 8/12 it 150/2724 loss 0.5898 lr 6.22e-05 elapsed 52.6s\n"
          ]
        },
        {
          "output_type": "stream",
          "name": "stdout",
          "text": [
            "[fold 0] epoch 8/12 it 200/2724 loss 0.5878 lr 6.19e-05 elapsed 69.9s\n"
          ]
        },
        {
          "output_type": "stream",
          "name": "stdout",
          "text": [
            "[fold 0] epoch 8/12 it 250/2724 loss 0.5868 lr 6.16e-05 elapsed 87.1s\n"
          ]
        },
        {
          "output_type": "stream",
          "name": "stdout",
          "text": [
            "[fold 0] epoch 8/12 it 300/2724 loss 0.5862 lr 6.14e-05 elapsed 104.4s\n"
          ]
        },
        {
          "output_type": "stream",
          "name": "stdout",
          "text": [
            "[fold 0] epoch 8/12 it 350/2724 loss 0.5858 lr 6.11e-05 elapsed 121.6s\n"
          ]
        },
        {
          "output_type": "stream",
          "name": "stdout",
          "text": [
            "[fold 0] epoch 8/12 it 400/2724 loss 0.5860 lr 6.08e-05 elapsed 138.9s\n"
          ]
        },
        {
          "output_type": "stream",
          "name": "stdout",
          "text": [
            "[fold 0] epoch 8/12 it 450/2724 loss 0.5860 lr 6.05e-05 elapsed 156.2s\n"
          ]
        },
        {
          "output_type": "stream",
          "name": "stdout",
          "text": [
            "[fold 0] epoch 8/12 it 500/2724 loss 0.5864 lr 6.03e-05 elapsed 173.4s\n"
          ]
        },
        {
          "output_type": "stream",
          "name": "stdout",
          "text": [
            "[fold 0] epoch 8/12 it 550/2724 loss 0.5867 lr 6.00e-05 elapsed 190.6s\n"
          ]
        },
        {
          "output_type": "stream",
          "name": "stdout",
          "text": [
            "[fold 0] epoch 8/12 it 600/2724 loss 0.5866 lr 5.97e-05 elapsed 207.9s\n"
          ]
        },
        {
          "output_type": "stream",
          "name": "stdout",
          "text": [
            "[fold 0] epoch 8/12 it 650/2724 loss 0.5864 lr 5.95e-05 elapsed 225.1s\n"
          ]
        },
        {
          "output_type": "stream",
          "name": "stdout",
          "text": [
            "[fold 0] epoch 8/12 it 700/2724 loss 0.5864 lr 5.92e-05 elapsed 242.4s\n"
          ]
        },
        {
          "output_type": "stream",
          "name": "stdout",
          "text": [
            "[fold 0] epoch 8/12 it 750/2724 loss 0.5863 lr 5.89e-05 elapsed 259.6s\n"
          ]
        },
        {
          "output_type": "stream",
          "name": "stdout",
          "text": [
            "[fold 0] epoch 8/12 it 800/2724 loss 0.5861 lr 5.86e-05 elapsed 276.9s\n"
          ]
        },
        {
          "output_type": "stream",
          "name": "stdout",
          "text": [
            "[fold 0] epoch 8/12 it 850/2724 loss 0.5858 lr 5.84e-05 elapsed 294.1s\n"
          ]
        },
        {
          "output_type": "stream",
          "name": "stdout",
          "text": [
            "[fold 0] epoch 8/12 it 900/2724 loss 0.5857 lr 5.81e-05 elapsed 311.4s\n"
          ]
        },
        {
          "output_type": "stream",
          "name": "stdout",
          "text": [
            "[fold 0] epoch 8/12 it 950/2724 loss 0.5858 lr 5.78e-05 elapsed 328.7s\n"
          ]
        },
        {
          "output_type": "stream",
          "name": "stdout",
          "text": [
            "[fold 0] epoch 8/12 it 1000/2724 loss 0.5854 lr 5.75e-05 elapsed 345.9s\n"
          ]
        },
        {
          "output_type": "stream",
          "name": "stdout",
          "text": [
            "[fold 0] epoch 8/12 it 1050/2724 loss 0.5855 lr 5.73e-05 elapsed 363.1s\n"
          ]
        },
        {
          "output_type": "stream",
          "name": "stdout",
          "text": [
            "[fold 0] epoch 8/12 it 1100/2724 loss 0.5854 lr 5.70e-05 elapsed 380.4s\n"
          ]
        },
        {
          "output_type": "stream",
          "name": "stdout",
          "text": [
            "[fold 0] epoch 8/12 it 1150/2724 loss 0.5855 lr 5.67e-05 elapsed 397.6s\n"
          ]
        },
        {
          "output_type": "stream",
          "name": "stdout",
          "text": [
            "[fold 0] epoch 8/12 it 1200/2724 loss 0.5852 lr 5.65e-05 elapsed 414.9s\n"
          ]
        },
        {
          "output_type": "stream",
          "name": "stdout",
          "text": [
            "[fold 0] epoch 8/12 it 1250/2724 loss 0.5852 lr 5.62e-05 elapsed 432.1s\n"
          ]
        },
        {
          "output_type": "stream",
          "name": "stdout",
          "text": [
            "[fold 0] epoch 8/12 it 1300/2724 loss 0.5850 lr 5.59e-05 elapsed 449.3s\n"
          ]
        },
        {
          "output_type": "stream",
          "name": "stdout",
          "text": [
            "[fold 0] epoch 8/12 it 1350/2724 loss 0.5848 lr 5.56e-05 elapsed 466.6s\n"
          ]
        },
        {
          "output_type": "stream",
          "name": "stdout",
          "text": [
            "[fold 0] epoch 8/12 it 1400/2724 loss 0.5847 lr 5.54e-05 elapsed 483.8s\n"
          ]
        },
        {
          "output_type": "stream",
          "name": "stdout",
          "text": [
            "[fold 0] epoch 8/12 it 1450/2724 loss 0.5846 lr 5.51e-05 elapsed 501.0s\n"
          ]
        },
        {
          "output_type": "stream",
          "name": "stdout",
          "text": [
            "[fold 0] epoch 8/12 it 1500/2724 loss 0.5847 lr 5.48e-05 elapsed 518.3s\n"
          ]
        },
        {
          "output_type": "stream",
          "name": "stdout",
          "text": [
            "[fold 0] epoch 8/12 it 1550/2724 loss 0.5849 lr 5.46e-05 elapsed 535.5s\n"
          ]
        },
        {
          "output_type": "stream",
          "name": "stdout",
          "text": [
            "[fold 0] epoch 8/12 it 1600/2724 loss 0.5851 lr 5.43e-05 elapsed 552.8s\n"
          ]
        },
        {
          "output_type": "stream",
          "name": "stdout",
          "text": [
            "[fold 0] epoch 8/12 it 1650/2724 loss 0.5849 lr 5.40e-05 elapsed 570.0s\n"
          ]
        },
        {
          "output_type": "stream",
          "name": "stdout",
          "text": [
            "[fold 0] epoch 8/12 it 1700/2724 loss 0.5849 lr 5.37e-05 elapsed 587.3s\n"
          ]
        },
        {
          "output_type": "stream",
          "name": "stdout",
          "text": [
            "[fold 0] epoch 8/12 it 1750/2724 loss 0.5850 lr 5.35e-05 elapsed 604.5s\n"
          ]
        },
        {
          "output_type": "stream",
          "name": "stdout",
          "text": [
            "[fold 0] epoch 8/12 it 1800/2724 loss 0.5849 lr 5.32e-05 elapsed 621.7s\n"
          ]
        },
        {
          "output_type": "stream",
          "name": "stdout",
          "text": [
            "[fold 0] epoch 8/12 it 1850/2724 loss 0.5850 lr 5.29e-05 elapsed 639.0s\n"
          ]
        },
        {
          "output_type": "stream",
          "name": "stdout",
          "text": [
            "[fold 0] epoch 8/12 it 1900/2724 loss 0.5850 lr 5.27e-05 elapsed 656.2s\n"
          ]
        },
        {
          "output_type": "stream",
          "name": "stdout",
          "text": [
            "[fold 0] epoch 8/12 it 1950/2724 loss 0.5849 lr 5.24e-05 elapsed 673.5s\n"
          ]
        },
        {
          "output_type": "stream",
          "name": "stdout",
          "text": [
            "[fold 0] epoch 8/12 it 2000/2724 loss 0.5849 lr 5.21e-05 elapsed 690.8s\n"
          ]
        },
        {
          "output_type": "stream",
          "name": "stdout",
          "text": [
            "[fold 0] epoch 8/12 it 2050/2724 loss 0.5850 lr 5.19e-05 elapsed 708.0s\n"
          ]
        },
        {
          "output_type": "stream",
          "name": "stdout",
          "text": [
            "[fold 0] epoch 8/12 it 2100/2724 loss 0.5849 lr 5.16e-05 elapsed 725.3s\n"
          ]
        },
        {
          "output_type": "stream",
          "name": "stdout",
          "text": [
            "[fold 0] epoch 8/12 it 2150/2724 loss 0.5850 lr 5.13e-05 elapsed 742.5s\n"
          ]
        },
        {
          "output_type": "stream",
          "name": "stdout",
          "text": [
            "[fold 0] epoch 8/12 it 2200/2724 loss 0.5849 lr 5.10e-05 elapsed 759.8s\n"
          ]
        },
        {
          "output_type": "stream",
          "name": "stdout",
          "text": [
            "[fold 0] epoch 8/12 it 2250/2724 loss 0.5850 lr 5.08e-05 elapsed 777.0s\n"
          ]
        },
        {
          "output_type": "stream",
          "name": "stdout",
          "text": [
            "[fold 0] epoch 8/12 it 2300/2724 loss 0.5849 lr 5.05e-05 elapsed 794.3s\n"
          ]
        },
        {
          "output_type": "stream",
          "name": "stdout",
          "text": [
            "[fold 0] epoch 8/12 it 2350/2724 loss 0.5849 lr 5.02e-05 elapsed 811.6s\n"
          ]
        },
        {
          "output_type": "stream",
          "name": "stdout",
          "text": [
            "[fold 0] epoch 8/12 it 2400/2724 loss 0.5849 lr 5.00e-05 elapsed 828.8s\n"
          ]
        },
        {
          "output_type": "stream",
          "name": "stdout",
          "text": [
            "[fold 0] epoch 8/12 it 2450/2724 loss 0.5849 lr 4.97e-05 elapsed 846.1s\n"
          ]
        },
        {
          "output_type": "stream",
          "name": "stdout",
          "text": [
            "[fold 0] epoch 8/12 it 2500/2724 loss 0.5849 lr 4.94e-05 elapsed 863.3s\n"
          ]
        },
        {
          "output_type": "stream",
          "name": "stdout",
          "text": [
            "[fold 0] epoch 8/12 it 2550/2724 loss 0.5849 lr 4.92e-05 elapsed 880.6s\n"
          ]
        },
        {
          "output_type": "stream",
          "name": "stdout",
          "text": [
            "[fold 0] epoch 8/12 it 2600/2724 loss 0.5847 lr 4.89e-05 elapsed 897.9s\n"
          ]
        },
        {
          "output_type": "stream",
          "name": "stdout",
          "text": [
            "[fold 0] epoch 8/12 it 2650/2724 loss 0.5847 lr 4.86e-05 elapsed 915.1s\n"
          ]
        },
        {
          "output_type": "stream",
          "name": "stdout",
          "text": [
            "[fold 0] epoch 8/12 it 2700/2724 loss 0.5846 lr 4.84e-05 elapsed 932.4s\n"
          ]
        },
        {
          "output_type": "stream",
          "name": "stdout",
          "text": [
            "[fold 0] epoch 8 val macro AUC: 0.85730\n  ETT - Abnormal: 0.8001\n  ETT - Borderline: 0.7686\n  ETT - Normal: 0.9810\n  NGT - Abnormal: 0.8378\n  NGT - Borderline: 0.8515\n  NGT - Incompletely Imaged: 0.9470\n  NGT - Normal: 0.9546\n  CVC - Abnormal: 0.7997\n  CVC - Borderline: 0.7754\n[fold 0] epoch 8 train_loss 0.5845 time 1089.7s\n[fold 0] Early stopping at epoch 8\n[fold 0] best macro AUC: 0.92499 total time 8869.9s\n[cv] Fold 0 best AUC: 0.92499 elapsed 8870.8s\n\n===== Fold 1 training start =====\n"
          ]
        },
        {
          "output_type": "stream",
          "name": "stdout",
          "text": [
            "[debug] target_cols: ['ETT - Abnormal', 'ETT - Borderline', 'ETT - Normal', 'NGT - Abnormal', 'NGT - Borderline', 'NGT - Incompletely Imaged', 'NGT - Normal', 'CVC - Abnormal', 'CVC - Borderline']\n"
          ]
        },
        {
          "output_type": "stream",
          "name": "stderr",
          "text": [
            "/app/.pip-target/albumentations/core/validation.py:114: UserWarning: ShiftScaleRotate is a special case of Affine transform. Please use Affine transform instead.\n  original_init(self, **validated_kwargs)\n/app/.pip-target/timm/models/_factory.py:138: UserWarning: Mapping deprecated model name tf_efficientnet_b4_ns to current tf_efficientnet_b4.ns_jft_in1k.\n  model = create_fn(\n"
          ]
        },
        {
          "output_type": "stream",
          "name": "stdout",
          "text": [
            "[model] pretrained=True; num_outputs 9 fc_mean 0.0017717411974444985\n[DEBUG] Initial pos_weight: [5.0, 5.0, 3.163309335708618, 5.0, 5.0, 5.0, 5.0, 5.0, 2.5474319458007812]\n"
          ]
        },
        {
          "output_type": "stream",
          "name": "stderr",
          "text": [
            "/tmp/ipykernel_1774/544503444.py:104: FutureWarning: `torch.cuda.amp.GradScaler(args...)` is deprecated. Please use `torch.amp.GradScaler('cuda', args...)` instead.\n  scaler = torch.cuda.amp.GradScaler(enabled=(DEVICE=='cuda'))\n"
          ]
        },
        {
          "output_type": "stream",
          "name": "stdout",
          "text": [
            "[debug] first-batch targets sum per class: [0.0, 0.0, 3.0, 1.0, 0.0, 0.0, 2.0, 0.0, 3.0]\n"
          ]
        },
        {
          "output_type": "stream",
          "name": "stderr",
          "text": [
            "/tmp/ipykernel_1774/544503444.py:126: FutureWarning: `torch.cuda.amp.autocast(args...)` is deprecated. Please use `torch.amp.autocast('cuda', args...)` instead.\n  with torch.cuda.amp.autocast(enabled=(DEVICE=='cuda')):\n"
          ]
        },
        {
          "output_type": "stream",
          "name": "stdout",
          "text": [
            "[fold 1] epoch 1/12 it 50/2709 loss 1.1711 lr 1.39e-05 elapsed 18.9s\n"
          ]
        },
        {
          "output_type": "stream",
          "name": "stdout",
          "text": [
            "[fold 1] epoch 1/12 it 100/2709 loss 1.0753 lr 1.59e-05 elapsed 36.2s\n"
          ]
        },
        {
          "output_type": "stream",
          "name": "stdout",
          "text": [
            "[fold 1] epoch 1/12 it 150/2709 loss 1.0328 lr 1.79e-05 elapsed 53.5s\n"
          ]
        },
        {
          "output_type": "stream",
          "name": "stdout",
          "text": [
            "[fold 1] epoch 1/12 it 200/2709 loss 1.0033 lr 1.99e-05 elapsed 70.8s\n"
          ]
        },
        {
          "output_type": "stream",
          "name": "stdout",
          "text": [
            "[fold 1] epoch 1/12 it 250/2709 loss 0.9805 lr 2.19e-05 elapsed 88.1s\n"
          ]
        },
        {
          "output_type": "stream",
          "name": "stdout",
          "text": [
            "[fold 1] epoch 1/12 it 300/2709 loss 0.9663 lr 2.39e-05 elapsed 105.3s\n"
          ]
        },
        {
          "output_type": "stream",
          "name": "stdout",
          "text": [
            "[fold 1] epoch 1/12 it 350/2709 loss 0.9574 lr 2.59e-05 elapsed 122.6s\n"
          ]
        },
        {
          "output_type": "stream",
          "name": "stdout",
          "text": [
            "[fold 1] epoch 1/12 it 400/2709 loss 0.9492 lr 2.79e-05 elapsed 139.8s\n"
          ]
        },
        {
          "output_type": "stream",
          "name": "stdout",
          "text": [
            "[fold 1] epoch 1/12 it 450/2709 loss 0.9404 lr 2.99e-05 elapsed 157.1s\n"
          ]
        },
        {
          "output_type": "stream",
          "name": "stdout",
          "text": [
            "[fold 1] epoch 1/12 it 500/2709 loss 0.9338 lr 3.19e-05 elapsed 174.4s\n"
          ]
        },
        {
          "output_type": "stream",
          "name": "stdout",
          "text": [
            "[fold 1] epoch 1/12 it 550/2709 loss 0.9277 lr 3.39e-05 elapsed 191.7s\n"
          ]
        },
        {
          "output_type": "stream",
          "name": "stdout",
          "text": [
            "[fold 1] epoch 1/12 it 600/2709 loss 0.9243 lr 3.58e-05 elapsed 209.0s\n"
          ]
        },
        {
          "output_type": "stream",
          "name": "stdout",
          "text": [
            "[fold 1] epoch 1/12 it 650/2709 loss 0.9197 lr 3.78e-05 elapsed 226.3s\n"
          ]
        },
        {
          "output_type": "stream",
          "name": "stdout",
          "text": [
            "[fold 1] epoch 1/12 it 700/2709 loss 0.9155 lr 3.98e-05 elapsed 243.5s\n"
          ]
        },
        {
          "output_type": "stream",
          "name": "stdout",
          "text": [
            "[fold 1] epoch 1/12 it 750/2709 loss 0.9124 lr 4.18e-05 elapsed 260.8s\n"
          ]
        },
        {
          "output_type": "stream",
          "name": "stdout",
          "text": [
            "[fold 1] epoch 1/12 it 800/2709 loss 0.9091 lr 4.38e-05 elapsed 278.1s\n"
          ]
        },
        {
          "output_type": "stream",
          "name": "stdout",
          "text": [
            "[fold 1] epoch 1/12 it 850/2709 loss 0.9061 lr 4.58e-05 elapsed 295.4s\n"
          ]
        },
        {
          "output_type": "stream",
          "name": "stdout",
          "text": [
            "[fold 1] epoch 1/12 it 900/2709 loss 0.9049 lr 4.78e-05 elapsed 312.7s\n"
          ]
        },
        {
          "output_type": "stream",
          "name": "stdout",
          "text": [
            "[fold 1] epoch 1/12 it 950/2709 loss 0.9025 lr 4.98e-05 elapsed 329.9s\n"
          ]
        },
        {
          "output_type": "stream",
          "name": "stdout",
          "text": [
            "[fold 1] epoch 1/12 it 1000/2709 loss 0.8993 lr 5.18e-05 elapsed 347.1s\n"
          ]
        },
        {
          "output_type": "stream",
          "name": "stdout",
          "text": [
            "[fold 1] epoch 1/12 it 1050/2709 loss 0.8971 lr 5.38e-05 elapsed 364.3s\n"
          ]
        },
        {
          "output_type": "stream",
          "name": "stdout",
          "text": [
            "[fold 1] epoch 1/12 it 1100/2709 loss 0.8935 lr 5.58e-05 elapsed 381.6s\n"
          ]
        },
        {
          "output_type": "stream",
          "name": "stdout",
          "text": [
            "[fold 1] epoch 1/12 it 1150/2709 loss 0.8914 lr 5.78e-05 elapsed 398.8s\n"
          ]
        },
        {
          "output_type": "stream",
          "name": "stdout",
          "text": [
            "[fold 1] epoch 1/12 it 1200/2709 loss 0.8881 lr 5.98e-05 elapsed 416.0s\n"
          ]
        },
        {
          "output_type": "stream",
          "name": "stdout",
          "text": [
            "[fold 1] epoch 1/12 it 1250/2709 loss 0.8857 lr 6.18e-05 elapsed 433.4s\n"
          ]
        },
        {
          "output_type": "stream",
          "name": "stdout",
          "text": [
            "[fold 1] epoch 1/12 it 1300/2709 loss 0.8829 lr 6.38e-05 elapsed 450.7s\n"
          ]
        },
        {
          "output_type": "stream",
          "name": "stdout",
          "text": [
            "[fold 1] epoch 1/12 it 1350/2709 loss 0.8803 lr 6.58e-05 elapsed 468.0s\n"
          ]
        },
        {
          "output_type": "stream",
          "name": "stdout",
          "text": [
            "[fold 1] epoch 1/12 it 1400/2709 loss 0.8772 lr 6.78e-05 elapsed 485.2s\n"
          ]
        },
        {
          "output_type": "stream",
          "name": "stdout",
          "text": [
            "[fold 1] epoch 1/12 it 1450/2709 loss 0.8746 lr 6.97e-05 elapsed 502.5s\n"
          ]
        },
        {
          "output_type": "stream",
          "name": "stdout",
          "text": [
            "[fold 1] epoch 1/12 it 1500/2709 loss 0.8726 lr 7.17e-05 elapsed 519.8s\n"
          ]
        },
        {
          "output_type": "stream",
          "name": "stdout",
          "text": [
            "[fold 1] epoch 1/12 it 1550/2709 loss 0.8710 lr 7.37e-05 elapsed 537.1s\n"
          ]
        },
        {
          "output_type": "stream",
          "name": "stdout",
          "text": [
            "[fold 1] epoch 1/12 it 1600/2709 loss 0.8692 lr 7.57e-05 elapsed 554.4s\n"
          ]
        },
        {
          "output_type": "stream",
          "name": "stdout",
          "text": [
            "[fold 1] epoch 1/12 it 1650/2709 loss 0.8675 lr 7.77e-05 elapsed 571.6s\n"
          ]
        },
        {
          "output_type": "stream",
          "name": "stdout",
          "text": [
            "[fold 1] epoch 1/12 it 1700/2709 loss 0.8660 lr 7.97e-05 elapsed 588.9s\n"
          ]
        },
        {
          "output_type": "stream",
          "name": "stdout",
          "text": [
            "[fold 1] epoch 1/12 it 1750/2709 loss 0.8645 lr 8.17e-05 elapsed 606.2s\n"
          ]
        },
        {
          "output_type": "stream",
          "name": "stdout",
          "text": [
            "[fold 1] epoch 1/12 it 1800/2709 loss 0.8634 lr 8.37e-05 elapsed 623.4s\n"
          ]
        },
        {
          "output_type": "stream",
          "name": "stdout",
          "text": [
            "[fold 1] epoch 1/12 it 1850/2709 loss 0.8612 lr 8.57e-05 elapsed 640.7s\n"
          ]
        },
        {
          "output_type": "stream",
          "name": "stdout",
          "text": [
            "[fold 1] epoch 1/12 it 1900/2709 loss 0.8598 lr 8.77e-05 elapsed 658.0s\n"
          ]
        },
        {
          "output_type": "stream",
          "name": "stdout",
          "text": [
            "[fold 1] epoch 1/12 it 1950/2709 loss 0.8581 lr 8.97e-05 elapsed 675.2s\n"
          ]
        },
        {
          "output_type": "stream",
          "name": "stdout",
          "text": [
            "[fold 1] epoch 1/12 it 2000/2709 loss 0.8565 lr 9.17e-05 elapsed 692.5s\n"
          ]
        },
        {
          "output_type": "stream",
          "name": "stdout",
          "text": [
            "[fold 1] epoch 1/12 it 2050/2709 loss 0.8554 lr 9.37e-05 elapsed 709.8s\n"
          ]
        },
        {
          "output_type": "stream",
          "name": "stdout",
          "text": [
            "[fold 1] epoch 1/12 it 2100/2709 loss 0.8540 lr 9.57e-05 elapsed 727.0s\n"
          ]
        },
        {
          "output_type": "stream",
          "name": "stdout",
          "text": [
            "[fold 1] epoch 1/12 it 2150/2709 loss 0.8523 lr 9.77e-05 elapsed 744.3s\n"
          ]
        },
        {
          "output_type": "stream",
          "name": "stdout",
          "text": [
            "[fold 1] epoch 1/12 it 2200/2709 loss 0.8509 lr 9.97e-05 elapsed 761.5s\n"
          ]
        },
        {
          "output_type": "stream",
          "name": "stdout",
          "text": [
            "[fold 1] epoch 1/12 it 2250/2709 loss 0.8499 lr 1.02e-04 elapsed 778.8s\n"
          ]
        },
        {
          "output_type": "stream",
          "name": "stdout",
          "text": [
            "[fold 1] epoch 1/12 it 2300/2709 loss 0.8483 lr 1.04e-04 elapsed 796.0s\n"
          ]
        },
        {
          "output_type": "stream",
          "name": "stdout",
          "text": [
            "[fold 1] epoch 1/12 it 2350/2709 loss 0.8468 lr 1.06e-04 elapsed 813.3s\n"
          ]
        },
        {
          "output_type": "stream",
          "name": "stdout",
          "text": [
            "[fold 1] epoch 1/12 it 2400/2709 loss 0.8462 lr 1.08e-04 elapsed 830.5s\n"
          ]
        },
        {
          "output_type": "stream",
          "name": "stdout",
          "text": [
            "[fold 1] epoch 1/12 it 2450/2709 loss 0.8450 lr 1.10e-04 elapsed 847.8s\n"
          ]
        },
        {
          "output_type": "stream",
          "name": "stdout",
          "text": [
            "[fold 1] epoch 1/12 it 2500/2709 loss 0.8437 lr 1.12e-04 elapsed 865.0s\n"
          ]
        },
        {
          "output_type": "stream",
          "name": "stdout",
          "text": [
            "[fold 1] epoch 1/12 it 2550/2709 loss 0.8425 lr 1.14e-04 elapsed 882.3s\n"
          ]
        },
        {
          "output_type": "stream",
          "name": "stdout",
          "text": [
            "[fold 1] epoch 1/12 it 2600/2709 loss 0.8412 lr 1.16e-04 elapsed 899.5s\n"
          ]
        },
        {
          "output_type": "stream",
          "name": "stdout",
          "text": [
            "[fold 1] epoch 1/12 it 2650/2709 loss 0.8396 lr 1.18e-04 elapsed 916.8s\n"
          ]
        },
        {
          "output_type": "stream",
          "name": "stdout",
          "text": [
            "[fold 1] epoch 1/12 it 2700/2709 loss 0.8387 lr 1.20e-04 elapsed 934.0s\n"
          ]
        },
        {
          "output_type": "stream",
          "name": "stdout",
          "text": [
            "[fold 1] epoch 1 val macro AUC: 0.82358\n  ETT - Abnormal: 0.7685\n  ETT - Borderline: 0.9120\n  ETT - Normal: 0.9772\n  NGT - Abnormal: 0.8388\n  NGT - Borderline: 0.7820\n  NGT - Incompletely Imaged: 0.9536\n  NGT - Normal: 0.9582\n  CVC - Abnormal: 0.6153\n  CVC - Borderline: 0.6068\n[fold 1] saved best to chkpts/effb4ns_fold1.pt\n[fold 1] epoch 1 train_loss 0.8384 time 1100.9s\n"
          ]
        },
        {
          "output_type": "stream",
          "name": "stdout",
          "text": [
            "[debug] first-batch targets sum per class: [0.0, 0.0, 0.0, 0.0, 0.0, 0.0, 0.0, 0.0, 0.0]\n"
          ]
        },
        {
          "output_type": "stream",
          "name": "stderr",
          "text": [
            "/tmp/ipykernel_1774/544503444.py:126: FutureWarning: `torch.cuda.amp.autocast(args...)` is deprecated. Please use `torch.amp.autocast('cuda', args...)` instead.\n  with torch.cuda.amp.autocast(enabled=(DEVICE=='cuda')):\n"
          ]
        },
        {
          "output_type": "stream",
          "name": "stdout",
          "text": [
            "[fold 1] epoch 2/12 it 50/2709 loss 0.7598 lr 1.20e-04 elapsed 18.2s\n"
          ]
        },
        {
          "output_type": "stream",
          "name": "stdout",
          "text": [
            "[fold 1] epoch 2/12 it 100/2709 loss 0.7634 lr 1.20e-04 elapsed 35.5s\n"
          ]
        },
        {
          "output_type": "stream",
          "name": "stdout",
          "text": [
            "[fold 1] epoch 2/12 it 150/2709 loss 0.7637 lr 1.20e-04 elapsed 52.7s\n"
          ]
        },
        {
          "output_type": "stream",
          "name": "stdout",
          "text": [
            "[fold 1] epoch 2/12 it 200/2709 loss 0.7635 lr 1.20e-04 elapsed 70.0s\n"
          ]
        },
        {
          "output_type": "stream",
          "name": "stdout",
          "text": [
            "[fold 1] epoch 2/12 it 250/2709 loss 0.7652 lr 1.20e-04 elapsed 87.2s\n"
          ]
        },
        {
          "output_type": "stream",
          "name": "stdout",
          "text": [
            "[fold 1] epoch 2/12 it 300/2709 loss 0.7659 lr 1.20e-04 elapsed 104.4s\n"
          ]
        },
        {
          "output_type": "stream",
          "name": "stdout",
          "text": [
            "[fold 1] epoch 2/12 it 350/2709 loss 0.7681 lr 1.20e-04 elapsed 121.7s\n"
          ]
        },
        {
          "output_type": "stream",
          "name": "stdout",
          "text": [
            "[fold 1] epoch 2/12 it 400/2709 loss 0.7669 lr 1.20e-04 elapsed 138.9s\n"
          ]
        },
        {
          "output_type": "stream",
          "name": "stdout",
          "text": [
            "[fold 1] epoch 2/12 it 450/2709 loss 0.7673 lr 1.20e-04 elapsed 156.2s\n"
          ]
        },
        {
          "output_type": "stream",
          "name": "stdout",
          "text": [
            "[fold 1] epoch 2/12 it 500/2709 loss 0.7679 lr 1.20e-04 elapsed 173.5s\n"
          ]
        },
        {
          "output_type": "stream",
          "name": "stdout",
          "text": [
            "[fold 1] epoch 2/12 it 550/2709 loss 0.7683 lr 1.20e-04 elapsed 190.7s\n"
          ]
        },
        {
          "output_type": "stream",
          "name": "stdout",
          "text": [
            "[fold 1] epoch 2/12 it 600/2709 loss 0.7680 lr 1.20e-04 elapsed 207.9s\n"
          ]
        },
        {
          "output_type": "stream",
          "name": "stdout",
          "text": [
            "[fold 1] epoch 2/12 it 650/2709 loss 0.7675 lr 1.20e-04 elapsed 225.2s\n"
          ]
        },
        {
          "output_type": "stream",
          "name": "stdout",
          "text": [
            "[fold 1] epoch 2/12 it 700/2709 loss 0.7671 lr 1.20e-04 elapsed 242.4s\n"
          ]
        },
        {
          "output_type": "stream",
          "name": "stdout",
          "text": [
            "[fold 1] epoch 2/12 it 750/2709 loss 0.7656 lr 1.20e-04 elapsed 259.7s\n"
          ]
        },
        {
          "output_type": "stream",
          "name": "stdout",
          "text": [
            "[fold 1] epoch 2/12 it 800/2709 loss 0.7661 lr 1.20e-04 elapsed 276.9s\n"
          ]
        },
        {
          "output_type": "stream",
          "name": "stdout",
          "text": [
            "[fold 1] epoch 2/12 it 850/2709 loss 0.7657 lr 1.20e-04 elapsed 294.2s\n"
          ]
        },
        {
          "output_type": "stream",
          "name": "stdout",
          "text": [
            "[fold 1] epoch 2/12 it 900/2709 loss 0.7658 lr 1.20e-04 elapsed 311.5s\n"
          ]
        },
        {
          "output_type": "stream",
          "name": "stdout",
          "text": [
            "[fold 1] epoch 2/12 it 950/2709 loss 0.7655 lr 1.20e-04 elapsed 328.8s\n"
          ]
        },
        {
          "output_type": "stream",
          "name": "stdout",
          "text": [
            "[fold 1] epoch 2/12 it 1000/2709 loss 0.7652 lr 1.20e-04 elapsed 346.1s\n"
          ]
        },
        {
          "output_type": "stream",
          "name": "stdout",
          "text": [
            "[fold 1] epoch 2/12 it 1050/2709 loss 0.7642 lr 1.20e-04 elapsed 363.3s\n"
          ]
        },
        {
          "output_type": "stream",
          "name": "stdout",
          "text": [
            "[fold 1] epoch 2/12 it 1100/2709 loss 0.7639 lr 1.20e-04 elapsed 380.6s\n"
          ]
        },
        {
          "output_type": "stream",
          "name": "stdout",
          "text": [
            "[fold 1] epoch 2/12 it 1150/2709 loss 0.7635 lr 1.20e-04 elapsed 397.8s\n"
          ]
        },
        {
          "output_type": "stream",
          "name": "stdout",
          "text": [
            "[fold 1] epoch 2/12 it 1200/2709 loss 0.7626 lr 1.20e-04 elapsed 415.1s\n"
          ]
        },
        {
          "output_type": "stream",
          "name": "stdout",
          "text": [
            "[fold 1] epoch 2/12 it 1250/2709 loss 0.7631 lr 1.20e-04 elapsed 432.3s\n"
          ]
        },
        {
          "output_type": "stream",
          "name": "stdout",
          "text": [
            "[fold 1] epoch 2/12 it 1300/2709 loss 0.7630 lr 1.20e-04 elapsed 449.5s\n"
          ]
        },
        {
          "output_type": "stream",
          "name": "stdout",
          "text": [
            "[fold 1] epoch 2/12 it 1350/2709 loss 0.7626 lr 1.20e-04 elapsed 466.8s\n"
          ]
        },
        {
          "output_type": "stream",
          "name": "stdout",
          "text": [
            "[fold 1] epoch 2/12 it 1400/2709 loss 0.7621 lr 1.19e-04 elapsed 484.0s\n"
          ]
        },
        {
          "output_type": "stream",
          "name": "stdout",
          "text": [
            "[fold 1] epoch 2/12 it 1450/2709 loss 0.7612 lr 1.19e-04 elapsed 501.3s\n"
          ]
        },
        {
          "output_type": "stream",
          "name": "stdout",
          "text": [
            "[fold 1] epoch 2/12 it 1500/2709 loss 0.7608 lr 1.19e-04 elapsed 518.5s\n"
          ]
        },
        {
          "output_type": "stream",
          "name": "stdout",
          "text": [
            "[fold 1] epoch 2/12 it 1550/2709 loss 0.7603 lr 1.19e-04 elapsed 535.8s\n"
          ]
        },
        {
          "output_type": "stream",
          "name": "stdout",
          "text": [
            "[fold 1] epoch 2/12 it 1600/2709 loss 0.7595 lr 1.19e-04 elapsed 553.0s\n"
          ]
        },
        {
          "output_type": "stream",
          "name": "stdout",
          "text": [
            "[fold 1] epoch 2/12 it 1650/2709 loss 0.7593 lr 1.19e-04 elapsed 570.7s\n"
          ]
        },
        {
          "output_type": "stream",
          "name": "stdout",
          "text": [
            "[fold 1] epoch 2/12 it 1700/2709 loss 0.7598 lr 1.19e-04 elapsed 587.9s\n"
          ]
        },
        {
          "output_type": "stream",
          "name": "stdout",
          "text": [
            "[fold 1] epoch 2/12 it 1750/2709 loss 0.7593 lr 1.19e-04 elapsed 605.1s\n"
          ]
        },
        {
          "output_type": "stream",
          "name": "stdout",
          "text": [
            "[fold 1] epoch 2/12 it 1800/2709 loss 0.7587 lr 1.19e-04 elapsed 622.4s\n"
          ]
        },
        {
          "output_type": "stream",
          "name": "stdout",
          "text": [
            "[fold 1] epoch 2/12 it 1850/2709 loss 0.7583 lr 1.19e-04 elapsed 639.6s\n"
          ]
        },
        {
          "output_type": "stream",
          "name": "stdout",
          "text": [
            "[fold 1] epoch 2/12 it 1900/2709 loss 0.7577 lr 1.19e-04 elapsed 656.9s\n"
          ]
        },
        {
          "output_type": "stream",
          "name": "stdout",
          "text": [
            "[fold 1] epoch 2/12 it 1950/2709 loss 0.7571 lr 1.19e-04 elapsed 674.2s\n"
          ]
        },
        {
          "output_type": "stream",
          "name": "stdout",
          "text": [
            "[fold 1] epoch 2/12 it 2000/2709 loss 0.7570 lr 1.19e-04 elapsed 691.4s\n"
          ]
        },
        {
          "output_type": "stream",
          "name": "stdout",
          "text": [
            "[fold 1] epoch 2/12 it 2050/2709 loss 0.7560 lr 1.19e-04 elapsed 708.7s\n"
          ]
        },
        {
          "output_type": "stream",
          "name": "stdout",
          "text": [
            "[fold 1] epoch 2/12 it 2100/2709 loss 0.7558 lr 1.19e-04 elapsed 725.9s\n"
          ]
        },
        {
          "output_type": "stream",
          "name": "stdout",
          "text": [
            "[fold 1] epoch 2/12 it 2150/2709 loss 0.7555 lr 1.19e-04 elapsed 743.2s\n"
          ]
        },
        {
          "output_type": "stream",
          "name": "stdout",
          "text": [
            "[fold 1] epoch 2/12 it 2200/2709 loss 0.7553 lr 1.19e-04 elapsed 760.5s\n"
          ]
        },
        {
          "output_type": "stream",
          "name": "stdout",
          "text": [
            "[fold 1] epoch 2/12 it 2250/2709 loss 0.7549 lr 1.19e-04 elapsed 777.7s\n"
          ]
        },
        {
          "output_type": "stream",
          "name": "stdout",
          "text": [
            "[fold 1] epoch 2/12 it 2300/2709 loss 0.7548 lr 1.19e-04 elapsed 795.0s\n"
          ]
        },
        {
          "output_type": "stream",
          "name": "stdout",
          "text": [
            "[fold 1] epoch 2/12 it 2350/2709 loss 0.7544 lr 1.19e-04 elapsed 812.3s\n"
          ]
        },
        {
          "output_type": "stream",
          "name": "stdout",
          "text": [
            "[fold 1] epoch 2/12 it 2400/2709 loss 0.7544 lr 1.18e-04 elapsed 829.6s\n"
          ]
        },
        {
          "output_type": "stream",
          "name": "stdout",
          "text": [
            "[fold 1] epoch 2/12 it 2450/2709 loss 0.7544 lr 1.18e-04 elapsed 846.8s\n"
          ]
        },
        {
          "output_type": "stream",
          "name": "stdout",
          "text": [
            "[fold 1] epoch 2/12 it 2500/2709 loss 0.7541 lr 1.18e-04 elapsed 864.0s\n"
          ]
        },
        {
          "output_type": "stream",
          "name": "stdout",
          "text": [
            "[fold 1] epoch 2/12 it 2550/2709 loss 0.7538 lr 1.18e-04 elapsed 881.3s\n"
          ]
        },
        {
          "output_type": "stream",
          "name": "stdout",
          "text": [
            "[fold 1] epoch 2/12 it 2600/2709 loss 0.7534 lr 1.18e-04 elapsed 898.5s\n"
          ]
        },
        {
          "output_type": "stream",
          "name": "stdout",
          "text": [
            "[fold 1] epoch 2/12 it 2650/2709 loss 0.7533 lr 1.18e-04 elapsed 915.8s\n"
          ]
        },
        {
          "output_type": "stream",
          "name": "stdout",
          "text": [
            "[fold 1] epoch 2/12 it 2700/2709 loss 0.7530 lr 1.18e-04 elapsed 933.0s\n"
          ]
        },
        {
          "output_type": "stream",
          "name": "stdout",
          "text": [
            "[fold 1] epoch 2 val macro AUC: 0.89692\n  ETT - Abnormal: 0.8288\n  ETT - Borderline: 0.9369\n  ETT - Normal: 0.9830\n  NGT - Abnormal: 0.8974\n  NGT - Borderline: 0.8720\n  NGT - Incompletely Imaged: 0.9724\n  NGT - Normal: 0.9729\n  CVC - Abnormal: 0.8151\n  CVC - Borderline: 0.7938\n"
          ]
        },
        {
          "output_type": "stream",
          "name": "stdout",
          "text": [
            "[fold 1] saved best to chkpts/effb4ns_fold1.pt\n[fold 1] epoch 2 train_loss 0.7529 time 1090.1s\n"
          ]
        },
        {
          "output_type": "stream",
          "name": "stdout",
          "text": [
            "[debug] first-batch targets sum per class: [0.0, 0.0, 1.0, 0.0, 0.0, 0.0, 0.0, 1.0, 2.0]\n"
          ]
        },
        {
          "output_type": "stream",
          "name": "stderr",
          "text": [
            "/tmp/ipykernel_1774/544503444.py:126: FutureWarning: `torch.cuda.amp.autocast(args...)` is deprecated. Please use `torch.amp.autocast('cuda', args...)` instead.\n  with torch.cuda.amp.autocast(enabled=(DEVICE=='cuda')):\n"
          ]
        },
        {
          "output_type": "stream",
          "name": "stdout",
          "text": [
            "[fold 1] epoch 3/12 it 50/2709 loss 0.7196 lr 1.18e-04 elapsed 18.1s\n"
          ]
        },
        {
          "output_type": "stream",
          "name": "stdout",
          "text": [
            "[fold 1] epoch 3/12 it 100/2709 loss 0.7222 lr 1.18e-04 elapsed 35.3s\n"
          ]
        },
        {
          "output_type": "stream",
          "name": "stdout",
          "text": [
            "[fold 1] epoch 3/12 it 150/2709 loss 0.7192 lr 1.18e-04 elapsed 52.6s\n"
          ]
        },
        {
          "output_type": "stream",
          "name": "stdout",
          "text": [
            "[fold 1] epoch 3/12 it 200/2709 loss 0.7221 lr 1.18e-04 elapsed 69.8s\n"
          ]
        },
        {
          "output_type": "stream",
          "name": "stdout",
          "text": [
            "[fold 1] epoch 3/12 it 250/2709 loss 0.7209 lr 1.18e-04 elapsed 87.1s\n"
          ]
        },
        {
          "output_type": "stream",
          "name": "stdout",
          "text": [
            "[fold 1] epoch 3/12 it 300/2709 loss 0.7192 lr 1.18e-04 elapsed 104.4s\n"
          ]
        },
        {
          "output_type": "stream",
          "name": "stdout",
          "text": [
            "[fold 1] epoch 3/12 it 350/2709 loss 0.7199 lr 1.18e-04 elapsed 121.6s\n"
          ]
        },
        {
          "output_type": "stream",
          "name": "stdout",
          "text": [
            "[fold 1] epoch 3/12 it 400/2709 loss 0.7170 lr 1.17e-04 elapsed 138.9s\n"
          ]
        },
        {
          "output_type": "stream",
          "name": "stdout",
          "text": [
            "[fold 1] epoch 3/12 it 450/2709 loss 0.7161 lr 1.17e-04 elapsed 156.1s\n"
          ]
        },
        {
          "output_type": "stream",
          "name": "stdout",
          "text": [
            "[fold 1] epoch 3/12 it 500/2709 loss 0.7171 lr 1.17e-04 elapsed 173.4s\n"
          ]
        },
        {
          "output_type": "stream",
          "name": "stdout",
          "text": [
            "[fold 1] epoch 3/12 it 550/2709 loss 0.7160 lr 1.17e-04 elapsed 190.6s\n"
          ]
        },
        {
          "output_type": "stream",
          "name": "stdout",
          "text": [
            "[fold 1] epoch 3/12 it 600/2709 loss 0.7171 lr 1.17e-04 elapsed 207.9s\n"
          ]
        },
        {
          "output_type": "stream",
          "name": "stdout",
          "text": [
            "[fold 1] epoch 3/12 it 650/2709 loss 0.7168 lr 1.17e-04 elapsed 225.1s\n"
          ]
        },
        {
          "output_type": "stream",
          "name": "stdout",
          "text": [
            "[fold 1] epoch 3/12 it 700/2709 loss 0.7170 lr 1.17e-04 elapsed 242.3s\n"
          ]
        },
        {
          "output_type": "stream",
          "name": "stdout",
          "text": [
            "[fold 1] epoch 3/12 it 750/2709 loss 0.7173 lr 1.17e-04 elapsed 259.6s\n"
          ]
        },
        {
          "output_type": "stream",
          "name": "stdout",
          "text": [
            "[fold 1] epoch 3/12 it 800/2709 loss 0.7171 lr 1.17e-04 elapsed 276.8s\n"
          ]
        },
        {
          "output_type": "stream",
          "name": "stdout",
          "text": [
            "[fold 1] epoch 3/12 it 850/2709 loss 0.7168 lr 1.17e-04 elapsed 294.1s\n"
          ]
        },
        {
          "output_type": "stream",
          "name": "stdout",
          "text": [
            "[fold 1] epoch 3/12 it 900/2709 loss 0.7180 lr 1.17e-04 elapsed 311.3s\n"
          ]
        },
        {
          "output_type": "stream",
          "name": "stdout",
          "text": [
            "[fold 1] epoch 3/12 it 950/2709 loss 0.7168 lr 1.16e-04 elapsed 328.5s\n"
          ]
        },
        {
          "output_type": "stream",
          "name": "stdout",
          "text": [
            "[fold 1] epoch 3/12 it 1000/2709 loss 0.7153 lr 1.16e-04 elapsed 345.8s\n"
          ]
        },
        {
          "output_type": "stream",
          "name": "stdout",
          "text": [
            "[fold 1] epoch 3/12 it 1050/2709 loss 0.7137 lr 1.16e-04 elapsed 363.0s\n"
          ]
        },
        {
          "output_type": "stream",
          "name": "stdout",
          "text": [
            "[fold 1] epoch 3/12 it 1100/2709 loss 0.7129 lr 1.16e-04 elapsed 380.3s\n"
          ]
        },
        {
          "output_type": "stream",
          "name": "stdout",
          "text": [
            "[fold 1] epoch 3/12 it 1150/2709 loss 0.7132 lr 1.16e-04 elapsed 397.6s\n"
          ]
        },
        {
          "output_type": "stream",
          "name": "stdout",
          "text": [
            "[fold 1] epoch 3/12 it 1200/2709 loss 0.7135 lr 1.16e-04 elapsed 414.8s\n"
          ]
        },
        {
          "output_type": "stream",
          "name": "stdout",
          "text": [
            "[fold 1] epoch 3/12 it 1250/2709 loss 0.7135 lr 1.16e-04 elapsed 432.1s\n"
          ]
        },
        {
          "output_type": "stream",
          "name": "stdout",
          "text": [
            "[fold 1] epoch 3/12 it 1300/2709 loss 0.7135 lr 1.16e-04 elapsed 449.3s\n"
          ]
        },
        {
          "output_type": "stream",
          "name": "stdout",
          "text": [
            "[fold 1] epoch 3/12 it 1350/2709 loss 0.7138 lr 1.16e-04 elapsed 466.6s\n"
          ]
        },
        {
          "output_type": "stream",
          "name": "stdout",
          "text": [
            "[fold 1] epoch 3/12 it 1400/2709 loss 0.7139 lr 1.16e-04 elapsed 483.9s\n"
          ]
        },
        {
          "output_type": "stream",
          "name": "stdout",
          "text": [
            "[fold 1] epoch 3/12 it 1450/2709 loss 0.7137 lr 1.15e-04 elapsed 501.1s\n"
          ]
        },
        {
          "output_type": "stream",
          "name": "stdout",
          "text": [
            "[fold 1] epoch 3/12 it 1500/2709 loss 0.7139 lr 1.15e-04 elapsed 518.4s\n"
          ]
        },
        {
          "output_type": "stream",
          "name": "stdout",
          "text": [
            "[fold 1] epoch 3/12 it 1550/2709 loss 0.7138 lr 1.15e-04 elapsed 535.7s\n"
          ]
        },
        {
          "output_type": "stream",
          "name": "stdout",
          "text": [
            "[fold 1] epoch 3/12 it 1600/2709 loss 0.7138 lr 1.15e-04 elapsed 552.9s\n"
          ]
        },
        {
          "output_type": "stream",
          "name": "stdout",
          "text": [
            "[fold 1] epoch 3/12 it 1650/2709 loss 0.7133 lr 1.15e-04 elapsed 570.2s\n"
          ]
        },
        {
          "output_type": "stream",
          "name": "stdout",
          "text": [
            "[fold 1] epoch 3/12 it 1700/2709 loss 0.7128 lr 1.15e-04 elapsed 587.5s\n"
          ]
        },
        {
          "output_type": "stream",
          "name": "stdout",
          "text": [
            "[fold 1] epoch 3/12 it 1750/2709 loss 0.7134 lr 1.15e-04 elapsed 604.7s\n"
          ]
        },
        {
          "output_type": "stream",
          "name": "stdout",
          "text": [
            "[fold 1] epoch 3/12 it 1800/2709 loss 0.7137 lr 1.15e-04 elapsed 622.0s\n"
          ]
        },
        {
          "output_type": "stream",
          "name": "stdout",
          "text": [
            "[fold 1] epoch 3/12 it 1850/2709 loss 0.7138 lr 1.15e-04 elapsed 639.3s\n"
          ]
        },
        {
          "output_type": "stream",
          "name": "stdout",
          "text": [
            "[fold 1] epoch 3/12 it 1900/2709 loss 0.7140 lr 1.14e-04 elapsed 656.5s\n"
          ]
        },
        {
          "output_type": "stream",
          "name": "stdout",
          "text": [
            "[fold 1] epoch 3/12 it 1950/2709 loss 0.7141 lr 1.14e-04 elapsed 673.8s\n"
          ]
        },
        {
          "output_type": "stream",
          "name": "stdout",
          "text": [
            "[fold 1] epoch 3/12 it 2000/2709 loss 0.7145 lr 1.14e-04 elapsed 691.0s\n"
          ]
        },
        {
          "output_type": "stream",
          "name": "stdout",
          "text": [
            "[fold 1] epoch 3/12 it 2050/2709 loss 0.7143 lr 1.14e-04 elapsed 708.3s\n"
          ]
        },
        {
          "output_type": "stream",
          "name": "stdout",
          "text": [
            "[fold 1] epoch 3/12 it 2100/2709 loss 0.7141 lr 1.14e-04 elapsed 725.6s\n"
          ]
        },
        {
          "output_type": "stream",
          "name": "stdout",
          "text": [
            "[fold 1] epoch 3/12 it 2150/2709 loss 0.7139 lr 1.14e-04 elapsed 742.8s\n"
          ]
        },
        {
          "output_type": "stream",
          "name": "stdout",
          "text": [
            "[fold 1] epoch 3/12 it 2200/2709 loss 0.7143 lr 1.14e-04 elapsed 760.1s\n"
          ]
        },
        {
          "output_type": "stream",
          "name": "stdout",
          "text": [
            "[fold 1] epoch 3/12 it 2250/2709 loss 0.7144 lr 1.14e-04 elapsed 777.4s\n"
          ]
        },
        {
          "output_type": "stream",
          "name": "stdout",
          "text": [
            "[fold 1] epoch 3/12 it 2300/2709 loss 0.7143 lr 1.13e-04 elapsed 794.7s\n"
          ]
        },
        {
          "output_type": "stream",
          "name": "stdout",
          "text": [
            "[fold 1] epoch 3/12 it 2350/2709 loss 0.7143 lr 1.13e-04 elapsed 812.0s\n"
          ]
        },
        {
          "output_type": "stream",
          "name": "stdout",
          "text": [
            "[fold 1] epoch 3/12 it 2400/2709 loss 0.7138 lr 1.13e-04 elapsed 829.2s\n"
          ]
        },
        {
          "output_type": "stream",
          "name": "stdout",
          "text": [
            "[fold 1] epoch 3/12 it 2450/2709 loss 0.7139 lr 1.13e-04 elapsed 846.5s\n"
          ]
        },
        {
          "output_type": "stream",
          "name": "stdout",
          "text": [
            "[fold 1] epoch 3/12 it 2500/2709 loss 0.7140 lr 1.13e-04 elapsed 863.7s\n"
          ]
        },
        {
          "output_type": "stream",
          "name": "stdout",
          "text": [
            "[fold 1] epoch 3/12 it 2550/2709 loss 0.7140 lr 1.13e-04 elapsed 881.0s\n"
          ]
        },
        {
          "output_type": "stream",
          "name": "stdout",
          "text": [
            "[fold 1] epoch 3/12 it 2600/2709 loss 0.7140 lr 1.13e-04 elapsed 898.2s\n"
          ]
        },
        {
          "output_type": "stream",
          "name": "stdout",
          "text": [
            "[fold 1] epoch 3/12 it 2650/2709 loss 0.7140 lr 1.13e-04 elapsed 915.5s\n"
          ]
        },
        {
          "output_type": "stream",
          "name": "stdout",
          "text": [
            "[fold 1] epoch 3/12 it 2700/2709 loss 0.7142 lr 1.12e-04 elapsed 932.7s\n"
          ]
        },
        {
          "output_type": "stream",
          "name": "stdout",
          "text": [
            "[fold 1] epoch 3 val macro AUC: 0.91015\n  ETT - Abnormal: 0.9477\n  ETT - Borderline: 0.9441\n  ETT - Normal: 0.9856\n  NGT - Abnormal: 0.8450\n  NGT - Borderline: 0.8506\n  NGT - Incompletely Imaged: 0.9764\n  NGT - Normal: 0.9714\n  CVC - Abnormal: 0.8667\n  CVC - Borderline: 0.8039\n"
          ]
        },
        {
          "output_type": "stream",
          "name": "stdout",
          "text": [
            "[fold 1] saved best to chkpts/effb4ns_fold1.pt\n[fold 1] epoch 3 train_loss 0.7142 time 1090.4s\n"
          ]
        },
        {
          "output_type": "stream",
          "name": "stdout",
          "text": [
            "[debug] first-batch targets sum per class: [0.0, 2.0, 2.0, 0.0, 0.0, 2.0, 2.0, 1.0, 5.0]\n"
          ]
        },
        {
          "output_type": "stream",
          "name": "stderr",
          "text": [
            "/tmp/ipykernel_1774/544503444.py:126: FutureWarning: `torch.cuda.amp.autocast(args...)` is deprecated. Please use `torch.amp.autocast('cuda', args...)` instead.\n  with torch.cuda.amp.autocast(enabled=(DEVICE=='cuda')):\n"
          ]
        },
        {
          "output_type": "stream",
          "name": "stdout",
          "text": [
            "[fold 1] epoch 4/12 it 50/2709 loss 0.6802 lr 1.12e-04 elapsed 18.1s\n"
          ]
        },
        {
          "output_type": "stream",
          "name": "stdout",
          "text": [
            "[fold 1] epoch 4/12 it 100/2709 loss 0.6802 lr 1.12e-04 elapsed 35.4s\n"
          ]
        },
        {
          "output_type": "stream",
          "name": "stdout",
          "text": [
            "[fold 1] epoch 4/12 it 150/2709 loss 0.6776 lr 1.12e-04 elapsed 52.7s\n"
          ]
        },
        {
          "output_type": "stream",
          "name": "stdout",
          "text": [
            "[fold 1] epoch 4/12 it 200/2709 loss 0.6815 lr 1.12e-04 elapsed 69.9s\n"
          ]
        },
        {
          "output_type": "stream",
          "name": "stdout",
          "text": [
            "[fold 1] epoch 4/12 it 250/2709 loss 0.6843 lr 1.12e-04 elapsed 87.2s\n"
          ]
        },
        {
          "output_type": "stream",
          "name": "stdout",
          "text": [
            "[fold 1] epoch 4/12 it 300/2709 loss 0.6817 lr 1.12e-04 elapsed 104.4s\n"
          ]
        },
        {
          "output_type": "stream",
          "name": "stdout",
          "text": [
            "[fold 1] epoch 4/12 it 350/2709 loss 0.6811 lr 1.11e-04 elapsed 121.6s\n"
          ]
        },
        {
          "output_type": "stream",
          "name": "stdout",
          "text": [
            "[fold 1] epoch 4/12 it 400/2709 loss 0.6817 lr 1.11e-04 elapsed 138.9s\n"
          ]
        },
        {
          "output_type": "stream",
          "name": "stdout",
          "text": [
            "[fold 1] epoch 4/12 it 450/2709 loss 0.6830 lr 1.11e-04 elapsed 156.1s\n"
          ]
        },
        {
          "output_type": "stream",
          "name": "stdout",
          "text": [
            "[fold 1] epoch 4/12 it 500/2709 loss 0.6840 lr 1.11e-04 elapsed 173.4s\n"
          ]
        },
        {
          "output_type": "stream",
          "name": "stdout",
          "text": [
            "[fold 1] epoch 4/12 it 550/2709 loss 0.6838 lr 1.11e-04 elapsed 190.6s\n"
          ]
        },
        {
          "output_type": "stream",
          "name": "stdout",
          "text": [
            "[fold 1] epoch 4/12 it 600/2709 loss 0.6841 lr 1.11e-04 elapsed 207.9s\n"
          ]
        },
        {
          "output_type": "stream",
          "name": "stdout",
          "text": [
            "[fold 1] epoch 4/12 it 650/2709 loss 0.6843 lr 1.10e-04 elapsed 225.1s\n"
          ]
        },
        {
          "output_type": "stream",
          "name": "stdout",
          "text": [
            "[fold 1] epoch 4/12 it 700/2709 loss 0.6845 lr 1.10e-04 elapsed 242.4s\n"
          ]
        },
        {
          "output_type": "stream",
          "name": "stdout",
          "text": [
            "[fold 1] epoch 4/12 it 750/2709 loss 0.6850 lr 1.10e-04 elapsed 259.7s\n"
          ]
        },
        {
          "output_type": "stream",
          "name": "stdout",
          "text": [
            "[fold 1] epoch 4/12 it 800/2709 loss 0.6854 lr 1.10e-04 elapsed 276.9s\n"
          ]
        },
        {
          "output_type": "stream",
          "name": "stdout",
          "text": [
            "[fold 1] epoch 4/12 it 850/2709 loss 0.6852 lr 1.10e-04 elapsed 294.2s\n"
          ]
        },
        {
          "output_type": "stream",
          "name": "stdout",
          "text": [
            "[fold 1] epoch 4/12 it 900/2709 loss 0.6855 lr 1.10e-04 elapsed 311.5s\n"
          ]
        },
        {
          "output_type": "stream",
          "name": "stdout",
          "text": [
            "[fold 1] epoch 4/12 it 950/2709 loss 0.6851 lr 1.10e-04 elapsed 328.8s\n"
          ]
        },
        {
          "output_type": "stream",
          "name": "stdout",
          "text": [
            "[fold 1] epoch 4/12 it 1000/2709 loss 0.6847 lr 1.09e-04 elapsed 346.3s\n"
          ]
        },
        {
          "output_type": "stream",
          "name": "stdout",
          "text": [
            "[fold 1] epoch 4/12 it 1050/2709 loss 0.6845 lr 1.09e-04 elapsed 363.6s\n"
          ]
        },
        {
          "output_type": "stream",
          "name": "stdout",
          "text": [
            "[fold 1] epoch 4/12 it 1100/2709 loss 0.6845 lr 1.09e-04 elapsed 380.9s\n"
          ]
        },
        {
          "output_type": "stream",
          "name": "stdout",
          "text": [
            "[fold 1] epoch 4/12 it 1150/2709 loss 0.6848 lr 1.09e-04 elapsed 398.1s\n"
          ]
        },
        {
          "output_type": "stream",
          "name": "stdout",
          "text": [
            "[fold 1] epoch 4/12 it 1200/2709 loss 0.6851 lr 1.09e-04 elapsed 415.4s\n"
          ]
        },
        {
          "output_type": "stream",
          "name": "stdout",
          "text": [
            "[fold 1] epoch 4/12 it 1250/2709 loss 0.6848 lr 1.09e-04 elapsed 432.7s\n"
          ]
        },
        {
          "output_type": "stream",
          "name": "stdout",
          "text": [
            "[fold 1] epoch 4/12 it 1300/2709 loss 0.6852 lr 1.08e-04 elapsed 450.0s\n"
          ]
        },
        {
          "output_type": "stream",
          "name": "stdout",
          "text": [
            "[fold 1] epoch 4/12 it 1350/2709 loss 0.6854 lr 1.08e-04 elapsed 467.2s\n"
          ]
        },
        {
          "output_type": "stream",
          "name": "stdout",
          "text": [
            "[fold 1] epoch 4/12 it 1400/2709 loss 0.6854 lr 1.08e-04 elapsed 484.4s\n"
          ]
        },
        {
          "output_type": "stream",
          "name": "stdout",
          "text": [
            "[fold 1] epoch 4/12 it 1450/2709 loss 0.6858 lr 1.08e-04 elapsed 501.7s\n"
          ]
        },
        {
          "output_type": "stream",
          "name": "stdout",
          "text": [
            "[fold 1] epoch 4/12 it 1500/2709 loss 0.6861 lr 1.08e-04 elapsed 518.9s\n"
          ]
        },
        {
          "output_type": "stream",
          "name": "stdout",
          "text": [
            "[fold 1] epoch 4/12 it 1550/2709 loss 0.6859 lr 1.08e-04 elapsed 536.2s\n"
          ]
        },
        {
          "output_type": "stream",
          "name": "stdout",
          "text": [
            "[fold 1] epoch 4/12 it 1600/2709 loss 0.6860 lr 1.07e-04 elapsed 553.5s\n"
          ]
        },
        {
          "output_type": "stream",
          "name": "stdout",
          "text": [
            "[fold 1] epoch 4/12 it 1650/2709 loss 0.6858 lr 1.07e-04 elapsed 570.7s\n"
          ]
        },
        {
          "output_type": "stream",
          "name": "stdout",
          "text": [
            "[fold 1] epoch 4/12 it 1700/2709 loss 0.6852 lr 1.07e-04 elapsed 588.0s\n"
          ]
        },
        {
          "output_type": "stream",
          "name": "stdout",
          "text": [
            "[fold 1] epoch 4/12 it 1750/2709 loss 0.6854 lr 1.07e-04 elapsed 605.3s\n"
          ]
        },
        {
          "output_type": "stream",
          "name": "stdout",
          "text": [
            "[fold 1] epoch 4/12 it 1800/2709 loss 0.6854 lr 1.07e-04 elapsed 622.5s\n"
          ]
        },
        {
          "output_type": "stream",
          "name": "stdout",
          "text": [
            "[fold 1] epoch 4/12 it 1850/2709 loss 0.6851 lr 1.07e-04 elapsed 639.8s\n"
          ]
        },
        {
          "output_type": "stream",
          "name": "stdout",
          "text": [
            "[fold 1] epoch 4/12 it 1900/2709 loss 0.6849 lr 1.06e-04 elapsed 657.0s\n"
          ]
        },
        {
          "output_type": "stream",
          "name": "stdout",
          "text": [
            "[fold 1] epoch 4/12 it 1950/2709 loss 0.6846 lr 1.06e-04 elapsed 674.3s\n"
          ]
        },
        {
          "output_type": "stream",
          "name": "stdout",
          "text": [
            "[fold 1] epoch 4/12 it 2000/2709 loss 0.6850 lr 1.06e-04 elapsed 691.5s\n"
          ]
        },
        {
          "output_type": "stream",
          "name": "stdout",
          "text": [
            "[fold 1] epoch 4/12 it 2050/2709 loss 0.6849 lr 1.06e-04 elapsed 708.8s\n"
          ]
        },
        {
          "output_type": "stream",
          "name": "stdout",
          "text": [
            "[fold 1] epoch 4/12 it 2100/2709 loss 0.6848 lr 1.06e-04 elapsed 726.0s\n"
          ]
        },
        {
          "output_type": "stream",
          "name": "stdout",
          "text": [
            "[fold 1] epoch 4/12 it 2150/2709 loss 0.6850 lr 1.05e-04 elapsed 743.3s\n"
          ]
        },
        {
          "output_type": "stream",
          "name": "stdout",
          "text": [
            "[fold 1] epoch 4/12 it 2200/2709 loss 0.6850 lr 1.05e-04 elapsed 760.6s\n"
          ]
        },
        {
          "output_type": "stream",
          "name": "stdout",
          "text": [
            "[fold 1] epoch 4/12 it 2250/2709 loss 0.6852 lr 1.05e-04 elapsed 777.8s\n"
          ]
        },
        {
          "output_type": "stream",
          "name": "stdout",
          "text": [
            "[fold 1] epoch 4/12 it 2300/2709 loss 0.6855 lr 1.05e-04 elapsed 795.1s\n"
          ]
        },
        {
          "output_type": "stream",
          "name": "stdout",
          "text": [
            "[fold 1] epoch 4/12 it 2350/2709 loss 0.6856 lr 1.05e-04 elapsed 812.4s\n"
          ]
        },
        {
          "output_type": "stream",
          "name": "stdout",
          "text": [
            "[fold 1] epoch 4/12 it 2400/2709 loss 0.6861 lr 1.04e-04 elapsed 829.6s\n"
          ]
        },
        {
          "output_type": "stream",
          "name": "stdout",
          "text": [
            "[fold 1] epoch 4/12 it 2450/2709 loss 0.6861 lr 1.04e-04 elapsed 846.9s\n"
          ]
        },
        {
          "output_type": "stream",
          "name": "stdout",
          "text": [
            "[fold 1] epoch 4/12 it 2500/2709 loss 0.6863 lr 1.04e-04 elapsed 864.1s\n"
          ]
        },
        {
          "output_type": "stream",
          "name": "stdout",
          "text": [
            "[fold 1] epoch 4/12 it 2550/2709 loss 0.6862 lr 1.04e-04 elapsed 881.4s\n"
          ]
        },
        {
          "output_type": "stream",
          "name": "stdout",
          "text": [
            "[fold 1] epoch 4/12 it 2600/2709 loss 0.6863 lr 1.04e-04 elapsed 898.7s\n"
          ]
        },
        {
          "output_type": "stream",
          "name": "stdout",
          "text": [
            "[fold 1] epoch 4/12 it 2650/2709 loss 0.6865 lr 1.04e-04 elapsed 915.9s\n"
          ]
        },
        {
          "output_type": "stream",
          "name": "stdout",
          "text": [
            "[fold 1] epoch 4/12 it 2700/2709 loss 0.6865 lr 1.03e-04 elapsed 933.2s\n"
          ]
        },
        {
          "output_type": "stream",
          "name": "stdout",
          "text": [
            "[fold 1] epoch 4 val macro AUC: 0.91103\n  ETT - Abnormal: 0.9582\n  ETT - Borderline: 0.8635\n  ETT - Normal: 0.9853\n  NGT - Abnormal: 0.8764\n  NGT - Borderline: 0.8762\n  NGT - Incompletely Imaged: 0.9752\n  NGT - Normal: 0.9725\n  CVC - Abnormal: 0.8829\n  CVC - Borderline: 0.8091\n"
          ]
        },
        {
          "output_type": "stream",
          "name": "stdout",
          "text": [
            "[fold 1] saved best to chkpts/effb4ns_fold1.pt\n[fold 1] epoch 4 train_loss 0.6865 time 1082.3s\n"
          ]
        },
        {
          "output_type": "stream",
          "name": "stdout",
          "text": [
            "[debug] first-batch targets sum per class: [0.0, 0.0, 0.0, 0.0, 0.0, 0.0, 0.0, 1.0, 2.0]\n"
          ]
        },
        {
          "output_type": "stream",
          "name": "stderr",
          "text": [
            "/tmp/ipykernel_1774/544503444.py:126: FutureWarning: `torch.cuda.amp.autocast(args...)` is deprecated. Please use `torch.amp.autocast('cuda', args...)` instead.\n  with torch.cuda.amp.autocast(enabled=(DEVICE=='cuda')):\n"
          ]
        },
        {
          "output_type": "stream",
          "name": "stdout",
          "text": [
            "[fold 1] epoch 5/12 it 50/2709 loss 0.6560 lr 1.03e-04 elapsed 18.1s\n"
          ]
        },
        {
          "output_type": "stream",
          "name": "stdout",
          "text": [
            "[fold 1] epoch 5/12 it 100/2709 loss 0.6586 lr 1.03e-04 elapsed 35.4s\n"
          ]
        },
        {
          "output_type": "stream",
          "name": "stdout",
          "text": [
            "[fold 1] epoch 5/12 it 150/2709 loss 0.6513 lr 1.03e-04 elapsed 52.7s\n"
          ]
        },
        {
          "output_type": "stream",
          "name": "stdout",
          "text": [
            "[fold 1] epoch 5/12 it 200/2709 loss 0.6542 lr 1.03e-04 elapsed 69.9s\n"
          ]
        },
        {
          "output_type": "stream",
          "name": "stdout",
          "text": [
            "[fold 1] epoch 5/12 it 250/2709 loss 0.6556 lr 1.02e-04 elapsed 87.2s\n"
          ]
        },
        {
          "output_type": "stream",
          "name": "stdout",
          "text": [
            "[fold 1] epoch 5/12 it 300/2709 loss 0.6562 lr 1.02e-04 elapsed 104.4s\n"
          ]
        },
        {
          "output_type": "stream",
          "name": "stdout",
          "text": [
            "[fold 1] epoch 5/12 it 350/2709 loss 0.6550 lr 1.02e-04 elapsed 121.7s\n"
          ]
        },
        {
          "output_type": "stream",
          "name": "stdout",
          "text": [
            "[fold 1] epoch 5/12 it 400/2709 loss 0.6550 lr 1.02e-04 elapsed 138.9s\n"
          ]
        },
        {
          "output_type": "stream",
          "name": "stdout",
          "text": [
            "[fold 1] epoch 5/12 it 450/2709 loss 0.6540 lr 1.02e-04 elapsed 156.2s\n"
          ]
        },
        {
          "output_type": "stream",
          "name": "stdout",
          "text": [
            "[fold 1] epoch 5/12 it 500/2709 loss 0.6551 lr 1.01e-04 elapsed 173.5s\n"
          ]
        },
        {
          "output_type": "stream",
          "name": "stdout",
          "text": [
            "[fold 1] epoch 5/12 it 550/2709 loss 0.6541 lr 1.01e-04 elapsed 190.7s\n"
          ]
        },
        {
          "output_type": "stream",
          "name": "stdout",
          "text": [
            "[fold 1] epoch 5/12 it 600/2709 loss 0.6550 lr 1.01e-04 elapsed 208.0s\n"
          ]
        },
        {
          "output_type": "stream",
          "name": "stdout",
          "text": [
            "[fold 1] epoch 5/12 it 650/2709 loss 0.6544 lr 1.01e-04 elapsed 225.2s\n"
          ]
        },
        {
          "output_type": "stream",
          "name": "stdout",
          "text": [
            "[fold 1] epoch 5/12 it 700/2709 loss 0.6543 lr 1.00e-04 elapsed 242.5s\n"
          ]
        },
        {
          "output_type": "stream",
          "name": "stdout",
          "text": [
            "[fold 1] epoch 5/12 it 750/2709 loss 0.6551 lr 1.00e-04 elapsed 259.8s\n"
          ]
        },
        {
          "output_type": "stream",
          "name": "stdout",
          "text": [
            "[fold 1] epoch 5/12 it 800/2709 loss 0.6550 lr 1.00e-04 elapsed 277.0s\n"
          ]
        },
        {
          "output_type": "stream",
          "name": "stdout",
          "text": [
            "[fold 1] epoch 5/12 it 850/2709 loss 0.6557 lr 9.99e-05 elapsed 294.3s\n"
          ]
        },
        {
          "output_type": "stream",
          "name": "stdout",
          "text": [
            "[fold 1] epoch 5/12 it 900/2709 loss 0.6555 lr 9.97e-05 elapsed 311.5s\n"
          ]
        },
        {
          "output_type": "stream",
          "name": "stdout",
          "text": [
            "[fold 1] epoch 5/12 it 950/2709 loss 0.6564 lr 9.94e-05 elapsed 328.8s\n"
          ]
        },
        {
          "output_type": "stream",
          "name": "stdout",
          "text": [
            "[fold 1] epoch 5/12 it 1000/2709 loss 0.6564 lr 9.92e-05 elapsed 346.0s\n"
          ]
        },
        {
          "output_type": "stream",
          "name": "stdout",
          "text": [
            "[fold 1] epoch 5/12 it 1050/2709 loss 0.6564 lr 9.90e-05 elapsed 363.3s\n"
          ]
        },
        {
          "output_type": "stream",
          "name": "stdout",
          "text": [
            "[fold 1] epoch 5/12 it 1100/2709 loss 0.6562 lr 9.88e-05 elapsed 380.5s\n"
          ]
        },
        {
          "output_type": "stream",
          "name": "stdout",
          "text": [
            "[fold 1] epoch 5/12 it 1150/2709 loss 0.6562 lr 9.86e-05 elapsed 397.8s\n"
          ]
        },
        {
          "output_type": "stream",
          "name": "stdout",
          "text": [
            "[fold 1] epoch 5/12 it 1200/2709 loss 0.6562 lr 9.84e-05 elapsed 415.0s\n"
          ]
        },
        {
          "output_type": "stream",
          "name": "stdout",
          "text": [
            "[fold 1] epoch 5/12 it 1250/2709 loss 0.6563 lr 9.82e-05 elapsed 432.3s\n"
          ]
        },
        {
          "output_type": "stream",
          "name": "stdout",
          "text": [
            "[fold 1] epoch 5/12 it 1300/2709 loss 0.6565 lr 9.79e-05 elapsed 449.6s\n"
          ]
        },
        {
          "output_type": "stream",
          "name": "stdout",
          "text": [
            "[fold 1] epoch 5/12 it 1350/2709 loss 0.6567 lr 9.77e-05 elapsed 466.9s\n"
          ]
        },
        {
          "output_type": "stream",
          "name": "stdout",
          "text": [
            "[fold 1] epoch 5/12 it 1400/2709 loss 0.6568 lr 9.75e-05 elapsed 484.1s\n"
          ]
        },
        {
          "output_type": "stream",
          "name": "stdout",
          "text": [
            "[fold 1] epoch 5/12 it 1450/2709 loss 0.6567 lr 9.73e-05 elapsed 501.4s\n"
          ]
        },
        {
          "output_type": "stream",
          "name": "stdout",
          "text": [
            "[fold 1] epoch 5/12 it 1500/2709 loss 0.6570 lr 9.71e-05 elapsed 518.6s\n"
          ]
        },
        {
          "output_type": "stream",
          "name": "stdout",
          "text": [
            "[fold 1] epoch 5/12 it 1550/2709 loss 0.6570 lr 9.68e-05 elapsed 535.9s\n"
          ]
        },
        {
          "output_type": "stream",
          "name": "stdout",
          "text": [
            "[fold 1] epoch 5/12 it 1600/2709 loss 0.6571 lr 9.66e-05 elapsed 553.2s\n"
          ]
        },
        {
          "output_type": "stream",
          "name": "stdout",
          "text": [
            "[fold 1] epoch 5/12 it 1650/2709 loss 0.6571 lr 9.64e-05 elapsed 570.4s\n"
          ]
        },
        {
          "output_type": "stream",
          "name": "stdout",
          "text": [
            "[fold 1] epoch 5/12 it 1700/2709 loss 0.6573 lr 9.62e-05 elapsed 587.7s\n"
          ]
        },
        {
          "output_type": "stream",
          "name": "stdout",
          "text": [
            "[fold 1] epoch 5/12 it 1750/2709 loss 0.6573 lr 9.60e-05 elapsed 604.9s\n"
          ]
        },
        {
          "output_type": "stream",
          "name": "stdout",
          "text": [
            "[fold 1] epoch 5/12 it 1800/2709 loss 0.6578 lr 9.57e-05 elapsed 622.2s\n"
          ]
        },
        {
          "output_type": "stream",
          "name": "stdout",
          "text": [
            "[fold 1] epoch 5/12 it 1850/2709 loss 0.6578 lr 9.55e-05 elapsed 639.5s\n"
          ]
        },
        {
          "output_type": "stream",
          "name": "stdout",
          "text": [
            "[fold 1] epoch 5/12 it 1900/2709 loss 0.6580 lr 9.53e-05 elapsed 656.7s\n"
          ]
        },
        {
          "output_type": "stream",
          "name": "stdout",
          "text": [
            "[fold 1] epoch 5/12 it 1950/2709 loss 0.6584 lr 9.50e-05 elapsed 674.0s\n"
          ]
        },
        {
          "output_type": "stream",
          "name": "stdout",
          "text": [
            "[fold 1] epoch 5/12 it 2000/2709 loss 0.6585 lr 9.48e-05 elapsed 691.3s\n"
          ]
        },
        {
          "output_type": "stream",
          "name": "stdout",
          "text": [
            "[fold 1] epoch 5/12 it 2050/2709 loss 0.6583 lr 9.46e-05 elapsed 708.5s\n"
          ]
        },
        {
          "output_type": "stream",
          "name": "stdout",
          "text": [
            "[fold 1] epoch 5/12 it 2100/2709 loss 0.6583 lr 9.44e-05 elapsed 725.8s\n"
          ]
        },
        {
          "output_type": "stream",
          "name": "stdout",
          "text": [
            "[fold 1] epoch 5/12 it 2150/2709 loss 0.6581 lr 9.41e-05 elapsed 743.1s\n"
          ]
        },
        {
          "output_type": "stream",
          "name": "stdout",
          "text": [
            "[fold 1] epoch 5/12 it 2200/2709 loss 0.6582 lr 9.39e-05 elapsed 760.3s\n"
          ]
        },
        {
          "output_type": "stream",
          "name": "stdout",
          "text": [
            "[fold 1] epoch 5/12 it 2250/2709 loss 0.6581 lr 9.37e-05 elapsed 777.6s\n"
          ]
        },
        {
          "output_type": "stream",
          "name": "stdout",
          "text": [
            "[fold 1] epoch 5/12 it 2300/2709 loss 0.6580 lr 9.34e-05 elapsed 794.8s\n"
          ]
        },
        {
          "output_type": "stream",
          "name": "stdout",
          "text": [
            "[fold 1] epoch 5/12 it 2350/2709 loss 0.6581 lr 9.32e-05 elapsed 812.1s\n"
          ]
        },
        {
          "output_type": "stream",
          "name": "stdout",
          "text": [
            "[fold 1] epoch 5/12 it 2400/2709 loss 0.6582 lr 9.30e-05 elapsed 829.3s\n"
          ]
        },
        {
          "output_type": "stream",
          "name": "stdout",
          "text": [
            "[fold 1] epoch 5/12 it 2450/2709 loss 0.6583 lr 9.27e-05 elapsed 846.6s\n"
          ]
        },
        {
          "output_type": "stream",
          "name": "stdout",
          "text": [
            "[fold 1] epoch 5/12 it 2500/2709 loss 0.6586 lr 9.25e-05 elapsed 863.8s\n"
          ]
        },
        {
          "output_type": "stream",
          "name": "stdout",
          "text": [
            "[fold 1] epoch 5/12 it 2550/2709 loss 0.6585 lr 9.23e-05 elapsed 881.1s\n"
          ]
        },
        {
          "output_type": "stream",
          "name": "stdout",
          "text": [
            "[fold 1] epoch 5/12 it 2600/2709 loss 0.6583 lr 9.20e-05 elapsed 898.3s\n"
          ]
        },
        {
          "output_type": "stream",
          "name": "stdout",
          "text": [
            "[fold 1] epoch 5/12 it 2650/2709 loss 0.6584 lr 9.18e-05 elapsed 915.5s\n"
          ]
        },
        {
          "output_type": "stream",
          "name": "stdout",
          "text": [
            "[fold 1] epoch 5/12 it 2700/2709 loss 0.6585 lr 9.15e-05 elapsed 932.8s\n"
          ]
        },
        {
          "output_type": "stream",
          "name": "stdout",
          "text": [
            "[fold 1] epoch 5 val macro AUC: 0.90368\n  ETT - Abnormal: 0.9518\n  ETT - Borderline: 0.8834\n  ETT - Normal: 0.9826\n  NGT - Abnormal: 0.7843\n  NGT - Borderline: 0.9285\n  NGT - Incompletely Imaged: 0.9685\n  NGT - Normal: 0.9561\n  CVC - Abnormal: 0.8689\n  CVC - Borderline: 0.8090\n[fold 1] epoch 5 train_loss 0.6584 time 1076.8s\n"
          ]
        },
        {
          "output_type": "stream",
          "name": "stdout",
          "text": [
            "[debug] first-batch targets sum per class: [0.0, 1.0, 5.0, 0.0, 1.0, 2.0, 2.0, 0.0, 1.0]\n"
          ]
        },
        {
          "output_type": "stream",
          "name": "stderr",
          "text": [
            "/tmp/ipykernel_1774/544503444.py:126: FutureWarning: `torch.cuda.amp.autocast(args...)` is deprecated. Please use `torch.amp.autocast('cuda', args...)` instead.\n  with torch.cuda.amp.autocast(enabled=(DEVICE=='cuda')):\n"
          ]
        },
        {
          "output_type": "stream",
          "name": "stdout",
          "text": [
            "[fold 1] epoch 6/12 it 50/2709 loss 0.6326 lr 9.13e-05 elapsed 18.2s\n"
          ]
        },
        {
          "output_type": "stream",
          "name": "stdout",
          "text": [
            "[fold 1] epoch 6/12 it 100/2709 loss 0.6268 lr 9.10e-05 elapsed 35.5s\n"
          ]
        },
        {
          "output_type": "stream",
          "name": "stdout",
          "text": [
            "[fold 1] epoch 6/12 it 150/2709 loss 0.6255 lr 9.08e-05 elapsed 52.8s\n"
          ]
        },
        {
          "output_type": "stream",
          "name": "stdout",
          "text": [
            "[fold 1] epoch 6/12 it 200/2709 loss 0.6258 lr 9.05e-05 elapsed 70.1s\n"
          ]
        },
        {
          "output_type": "stream",
          "name": "stdout",
          "text": [
            "[fold 1] epoch 6/12 it 250/2709 loss 0.6259 lr 9.03e-05 elapsed 87.4s\n"
          ]
        },
        {
          "output_type": "stream",
          "name": "stdout",
          "text": [
            "[fold 1] epoch 6/12 it 300/2709 loss 0.6271 lr 9.01e-05 elapsed 104.6s\n"
          ]
        },
        {
          "output_type": "stream",
          "name": "stdout",
          "text": [
            "[fold 1] epoch 6/12 it 350/2709 loss 0.6265 lr 8.98e-05 elapsed 121.9s\n"
          ]
        },
        {
          "output_type": "stream",
          "name": "stdout",
          "text": [
            "[fold 1] epoch 6/12 it 400/2709 loss 0.6268 lr 8.96e-05 elapsed 139.5s\n"
          ]
        },
        {
          "output_type": "stream",
          "name": "stdout",
          "text": [
            "[fold 1] epoch 6/12 it 450/2709 loss 0.6266 lr 8.93e-05 elapsed 156.7s\n"
          ]
        },
        {
          "output_type": "stream",
          "name": "stdout",
          "text": [
            "[fold 1] epoch 6/12 it 500/2709 loss 0.6269 lr 8.91e-05 elapsed 174.0s\n"
          ]
        },
        {
          "output_type": "stream",
          "name": "stdout",
          "text": [
            "[fold 1] epoch 6/12 it 550/2709 loss 0.6269 lr 8.88e-05 elapsed 191.2s\n"
          ]
        },
        {
          "output_type": "stream",
          "name": "stdout",
          "text": [
            "[fold 1] epoch 6/12 it 600/2709 loss 0.6266 lr 8.86e-05 elapsed 208.5s\n"
          ]
        },
        {
          "output_type": "stream",
          "name": "stdout",
          "text": [
            "[fold 1] epoch 6/12 it 650/2709 loss 0.6265 lr 8.84e-05 elapsed 225.8s\n"
          ]
        },
        {
          "output_type": "stream",
          "name": "stdout",
          "text": [
            "[fold 1] epoch 6/12 it 700/2709 loss 0.6268 lr 8.81e-05 elapsed 243.0s\n"
          ]
        },
        {
          "output_type": "stream",
          "name": "stdout",
          "text": [
            "[fold 1] epoch 6/12 it 750/2709 loss 0.6265 lr 8.79e-05 elapsed 260.3s\n"
          ]
        },
        {
          "output_type": "stream",
          "name": "stdout",
          "text": [
            "[fold 1] epoch 6/12 it 800/2709 loss 0.6270 lr 8.76e-05 elapsed 277.6s\n"
          ]
        },
        {
          "output_type": "stream",
          "name": "stdout",
          "text": [
            "[fold 1] epoch 6/12 it 850/2709 loss 0.6266 lr 8.74e-05 elapsed 294.8s\n"
          ]
        },
        {
          "output_type": "stream",
          "name": "stdout",
          "text": [
            "[fold 1] epoch 6/12 it 900/2709 loss 0.6266 lr 8.71e-05 elapsed 312.1s\n"
          ]
        },
        {
          "output_type": "stream",
          "name": "stdout",
          "text": [
            "[fold 1] epoch 6/12 it 950/2709 loss 0.6268 lr 8.69e-05 elapsed 329.4s\n"
          ]
        },
        {
          "output_type": "stream",
          "name": "stdout",
          "text": [
            "[fold 1] epoch 6/12 it 1000/2709 loss 0.6274 lr 8.66e-05 elapsed 346.7s\n"
          ]
        },
        {
          "output_type": "stream",
          "name": "stdout",
          "text": [
            "[fold 1] epoch 6/12 it 1050/2709 loss 0.6278 lr 8.64e-05 elapsed 364.0s\n"
          ]
        },
        {
          "output_type": "stream",
          "name": "stdout",
          "text": [
            "[fold 1] epoch 6/12 it 1100/2709 loss 0.6281 lr 8.61e-05 elapsed 381.2s\n"
          ]
        },
        {
          "output_type": "stream",
          "name": "stdout",
          "text": [
            "[fold 1] epoch 6/12 it 1150/2709 loss 0.6282 lr 8.59e-05 elapsed 398.4s\n"
          ]
        },
        {
          "output_type": "stream",
          "name": "stdout",
          "text": [
            "[fold 1] epoch 6/12 it 1200/2709 loss 0.6278 lr 8.56e-05 elapsed 415.7s\n"
          ]
        },
        {
          "output_type": "stream",
          "name": "stdout",
          "text": [
            "[fold 1] epoch 6/12 it 1250/2709 loss 0.6273 lr 8.54e-05 elapsed 432.9s\n"
          ]
        },
        {
          "output_type": "stream",
          "name": "stdout",
          "text": [
            "[fold 1] epoch 6/12 it 1300/2709 loss 0.6275 lr 8.51e-05 elapsed 450.1s\n"
          ]
        },
        {
          "output_type": "stream",
          "name": "stdout",
          "text": [
            "[fold 1] epoch 6/12 it 1350/2709 loss 0.6276 lr 8.48e-05 elapsed 467.4s\n"
          ]
        },
        {
          "output_type": "stream",
          "name": "stdout",
          "text": [
            "[fold 1] epoch 6/12 it 1400/2709 loss 0.6278 lr 8.46e-05 elapsed 484.6s\n"
          ]
        },
        {
          "output_type": "stream",
          "name": "stdout",
          "text": [
            "[fold 1] epoch 6/12 it 1450/2709 loss 0.6278 lr 8.43e-05 elapsed 501.8s\n"
          ]
        },
        {
          "output_type": "stream",
          "name": "stdout",
          "text": [
            "[fold 1] epoch 6/12 it 1500/2709 loss 0.6278 lr 8.41e-05 elapsed 519.1s\n"
          ]
        },
        {
          "output_type": "stream",
          "name": "stdout",
          "text": [
            "[fold 1] epoch 6/12 it 1550/2709 loss 0.6281 lr 8.38e-05 elapsed 536.4s\n"
          ]
        },
        {
          "output_type": "stream",
          "name": "stdout",
          "text": [
            "[fold 1] epoch 6/12 it 1600/2709 loss 0.6279 lr 8.36e-05 elapsed 553.7s\n"
          ]
        },
        {
          "output_type": "stream",
          "name": "stdout",
          "text": [
            "[fold 1] epoch 6/12 it 1650/2709 loss 0.6277 lr 8.33e-05 elapsed 570.9s\n"
          ]
        },
        {
          "output_type": "stream",
          "name": "stdout",
          "text": [
            "[fold 1] epoch 6/12 it 1700/2709 loss 0.6278 lr 8.30e-05 elapsed 588.2s\n"
          ]
        },
        {
          "output_type": "stream",
          "name": "stdout",
          "text": [
            "[fold 1] epoch 6/12 it 1750/2709 loss 0.6279 lr 8.28e-05 elapsed 605.4s\n"
          ]
        },
        {
          "output_type": "stream",
          "name": "stdout",
          "text": [
            "[fold 1] epoch 6/12 it 1800/2709 loss 0.6281 lr 8.25e-05 elapsed 622.7s\n"
          ]
        },
        {
          "output_type": "stream",
          "name": "stdout",
          "text": [
            "[fold 1] epoch 6/12 it 1850/2709 loss 0.6282 lr 8.23e-05 elapsed 639.9s\n"
          ]
        },
        {
          "output_type": "stream",
          "name": "stdout",
          "text": [
            "[fold 1] epoch 6/12 it 1900/2709 loss 0.6283 lr 8.20e-05 elapsed 657.2s\n"
          ]
        },
        {
          "output_type": "stream",
          "name": "stdout",
          "text": [
            "[fold 1] epoch 6/12 it 1950/2709 loss 0.6285 lr 8.18e-05 elapsed 674.5s\n"
          ]
        },
        {
          "output_type": "stream",
          "name": "stdout",
          "text": [
            "[fold 1] epoch 6/12 it 2000/2709 loss 0.6283 lr 8.15e-05 elapsed 691.7s\n"
          ]
        },
        {
          "output_type": "stream",
          "name": "stdout",
          "text": [
            "[fold 1] epoch 6/12 it 2050/2709 loss 0.6282 lr 8.12e-05 elapsed 709.0s\n"
          ]
        },
        {
          "output_type": "stream",
          "name": "stdout",
          "text": [
            "[fold 1] epoch 6/12 it 2100/2709 loss 0.6282 lr 8.10e-05 elapsed 726.3s\n"
          ]
        },
        {
          "output_type": "stream",
          "name": "stdout",
          "text": [
            "[fold 1] epoch 6/12 it 2150/2709 loss 0.6282 lr 8.07e-05 elapsed 743.5s\n"
          ]
        },
        {
          "output_type": "stream",
          "name": "stdout",
          "text": [
            "[fold 1] epoch 6/12 it 2200/2709 loss 0.6281 lr 8.04e-05 elapsed 760.8s\n"
          ]
        },
        {
          "output_type": "stream",
          "name": "stdout",
          "text": [
            "[fold 1] epoch 6/12 it 2250/2709 loss 0.6282 lr 8.02e-05 elapsed 778.0s\n"
          ]
        },
        {
          "output_type": "stream",
          "name": "stdout",
          "text": [
            "[fold 1] epoch 6/12 it 2300/2709 loss 0.6283 lr 7.99e-05 elapsed 795.3s\n"
          ]
        },
        {
          "output_type": "stream",
          "name": "stdout",
          "text": [
            "[fold 1] epoch 6/12 it 2350/2709 loss 0.6283 lr 7.97e-05 elapsed 812.5s\n"
          ]
        },
        {
          "output_type": "stream",
          "name": "stdout",
          "text": [
            "[fold 1] epoch 6/12 it 2400/2709 loss 0.6283 lr 7.94e-05 elapsed 829.8s\n"
          ]
        },
        {
          "output_type": "stream",
          "name": "stdout",
          "text": [
            "[fold 1] epoch 6/12 it 2450/2709 loss 0.6287 lr 7.91e-05 elapsed 847.0s\n"
          ]
        },
        {
          "output_type": "stream",
          "name": "stdout",
          "text": [
            "[fold 1] epoch 6/12 it 2500/2709 loss 0.6287 lr 7.89e-05 elapsed 864.2s\n"
          ]
        },
        {
          "output_type": "stream",
          "name": "stdout",
          "text": [
            "[fold 1] epoch 6/12 it 2550/2709 loss 0.6286 lr 7.86e-05 elapsed 881.5s\n"
          ]
        },
        {
          "output_type": "stream",
          "name": "stdout",
          "text": [
            "[fold 1] epoch 6/12 it 2600/2709 loss 0.6288 lr 7.83e-05 elapsed 898.7s\n"
          ]
        },
        {
          "output_type": "stream",
          "name": "stdout",
          "text": [
            "[fold 1] epoch 6/12 it 2650/2709 loss 0.6287 lr 7.81e-05 elapsed 915.9s\n"
          ]
        },
        {
          "output_type": "stream",
          "name": "stdout",
          "text": [
            "[fold 1] epoch 6/12 it 2700/2709 loss 0.6290 lr 7.78e-05 elapsed 933.2s\n"
          ]
        },
        {
          "output_type": "stream",
          "name": "stdout",
          "text": [
            "[fold 1] epoch 6 val macro AUC: 0.88435\n  ETT - Abnormal: 0.9725\n  ETT - Borderline: 0.7816\n  ETT - Normal: 0.9832\n  NGT - Abnormal: 0.8199\n  NGT - Borderline: 0.8274\n  NGT - Incompletely Imaged: 0.9562\n  NGT - Normal: 0.9664\n  CVC - Abnormal: 0.8548\n  CVC - Borderline: 0.7971\n[fold 1] epoch 6 train_loss 0.6289 time 1077.4s\n"
          ]
        },
        {
          "output_type": "stream",
          "name": "stdout",
          "text": [
            "[debug] first-batch targets sum per class: [0.0, 0.0, 2.0, 1.0, 0.0, 0.0, 1.0, 0.0, 4.0]\n"
          ]
        },
        {
          "output_type": "stream",
          "name": "stderr",
          "text": [
            "/tmp/ipykernel_1774/544503444.py:126: FutureWarning: `torch.cuda.amp.autocast(args...)` is deprecated. Please use `torch.amp.autocast('cuda', args...)` instead.\n  with torch.cuda.amp.autocast(enabled=(DEVICE=='cuda')):\n"
          ]
        },
        {
          "output_type": "stream",
          "name": "stdout",
          "text": [
            "[fold 1] epoch 7/12 it 50/2709 loss 0.6049 lr 7.75e-05 elapsed 18.2s\n"
          ]
        },
        {
          "output_type": "stream",
          "name": "stdout",
          "text": [
            "[fold 1] epoch 7/12 it 100/2709 loss 0.5997 lr 7.72e-05 elapsed 35.4s\n"
          ]
        },
        {
          "output_type": "stream",
          "name": "stdout",
          "text": [
            "[fold 1] epoch 7/12 it 150/2709 loss 0.6016 lr 7.70e-05 elapsed 52.6s\n"
          ]
        },
        {
          "output_type": "stream",
          "name": "stdout",
          "text": [
            "[fold 1] epoch 7/12 it 200/2709 loss 0.6037 lr 7.67e-05 elapsed 69.9s\n"
          ]
        },
        {
          "output_type": "stream",
          "name": "stdout",
          "text": [
            "[fold 1] epoch 7/12 it 250/2709 loss 0.6029 lr 7.64e-05 elapsed 87.1s\n"
          ]
        },
        {
          "output_type": "stream",
          "name": "stdout",
          "text": [
            "[fold 1] epoch 7/12 it 300/2709 loss 0.6035 lr 7.62e-05 elapsed 104.4s\n"
          ]
        },
        {
          "output_type": "stream",
          "name": "stdout",
          "text": [
            "[fold 1] epoch 7/12 it 350/2709 loss 0.6024 lr 7.59e-05 elapsed 121.6s\n"
          ]
        },
        {
          "output_type": "stream",
          "name": "stdout",
          "text": [
            "[fold 1] epoch 7/12 it 400/2709 loss 0.6034 lr 7.56e-05 elapsed 138.9s\n"
          ]
        },
        {
          "output_type": "stream",
          "name": "stdout",
          "text": [
            "[fold 1] epoch 7/12 it 450/2709 loss 0.6035 lr 7.54e-05 elapsed 156.2s\n"
          ]
        },
        {
          "output_type": "stream",
          "name": "stdout",
          "text": [
            "[fold 1] epoch 7/12 it 500/2709 loss 0.6036 lr 7.51e-05 elapsed 173.5s\n"
          ]
        },
        {
          "output_type": "stream",
          "name": "stdout",
          "text": [
            "[fold 1] epoch 7/12 it 550/2709 loss 0.6037 lr 7.48e-05 elapsed 190.7s\n"
          ]
        },
        {
          "output_type": "stream",
          "name": "stdout",
          "text": [
            "[fold 1] epoch 7/12 it 600/2709 loss 0.6039 lr 7.45e-05 elapsed 208.0s\n"
          ]
        },
        {
          "output_type": "stream",
          "name": "stdout",
          "text": [
            "[fold 1] epoch 7/12 it 650/2709 loss 0.6036 lr 7.43e-05 elapsed 225.2s\n"
          ]
        },
        {
          "output_type": "stream",
          "name": "stdout",
          "text": [
            "[fold 1] epoch 7/12 it 700/2709 loss 0.6036 lr 7.40e-05 elapsed 242.5s\n"
          ]
        },
        {
          "output_type": "stream",
          "name": "stdout",
          "text": [
            "[fold 1] epoch 7/12 it 750/2709 loss 0.6037 lr 7.37e-05 elapsed 259.8s\n"
          ]
        },
        {
          "output_type": "stream",
          "name": "stdout",
          "text": [
            "[fold 1] epoch 7/12 it 800/2709 loss 0.6040 lr 7.35e-05 elapsed 277.0s\n"
          ]
        },
        {
          "output_type": "stream",
          "name": "stdout",
          "text": [
            "[fold 1] epoch 7/12 it 850/2709 loss 0.6044 lr 7.32e-05 elapsed 294.3s\n"
          ]
        },
        {
          "output_type": "stream",
          "name": "stdout",
          "text": [
            "[fold 1] epoch 7/12 it 900/2709 loss 0.6043 lr 7.29e-05 elapsed 311.5s\n"
          ]
        },
        {
          "output_type": "stream",
          "name": "stdout",
          "text": [
            "[fold 1] epoch 7/12 it 950/2709 loss 0.6044 lr 7.27e-05 elapsed 328.7s\n"
          ]
        },
        {
          "output_type": "stream",
          "name": "stdout",
          "text": [
            "[fold 1] epoch 7/12 it 1000/2709 loss 0.6045 lr 7.24e-05 elapsed 345.9s\n"
          ]
        },
        {
          "output_type": "stream",
          "name": "stdout",
          "text": [
            "[fold 1] epoch 7/12 it 1050/2709 loss 0.6048 lr 7.21e-05 elapsed 363.2s\n"
          ]
        },
        {
          "output_type": "stream",
          "name": "stdout",
          "text": [
            "[fold 1] epoch 7/12 it 1100/2709 loss 0.6047 lr 7.18e-05 elapsed 380.4s\n"
          ]
        },
        {
          "output_type": "stream",
          "name": "stdout",
          "text": [
            "[fold 1] epoch 7/12 it 1150/2709 loss 0.6051 lr 7.16e-05 elapsed 397.7s\n"
          ]
        },
        {
          "output_type": "stream",
          "name": "stdout",
          "text": [
            "[fold 1] epoch 7/12 it 1200/2709 loss 0.6047 lr 7.13e-05 elapsed 414.9s\n"
          ]
        },
        {
          "output_type": "stream",
          "name": "stdout",
          "text": [
            "[fold 1] epoch 7/12 it 1250/2709 loss 0.6043 lr 7.10e-05 elapsed 432.1s\n"
          ]
        },
        {
          "output_type": "stream",
          "name": "stdout",
          "text": [
            "[fold 1] epoch 7/12 it 1300/2709 loss 0.6044 lr 7.07e-05 elapsed 449.4s\n"
          ]
        },
        {
          "output_type": "stream",
          "name": "stdout",
          "text": [
            "[fold 1] epoch 7/12 it 1350/2709 loss 0.6045 lr 7.05e-05 elapsed 466.6s\n"
          ]
        },
        {
          "output_type": "stream",
          "name": "stdout",
          "text": [
            "[fold 1] epoch 7/12 it 1400/2709 loss 0.6044 lr 7.02e-05 elapsed 483.9s\n"
          ]
        },
        {
          "output_type": "stream",
          "name": "stdout",
          "text": [
            "[fold 1] epoch 7/12 it 1450/2709 loss 0.6044 lr 6.99e-05 elapsed 501.1s\n"
          ]
        },
        {
          "output_type": "stream",
          "name": "stdout",
          "text": [
            "[fold 1] epoch 7/12 it 1500/2709 loss 0.6044 lr 6.97e-05 elapsed 518.3s\n"
          ]
        },
        {
          "output_type": "stream",
          "name": "stdout",
          "text": [
            "[fold 1] epoch 7/12 it 1550/2709 loss 0.6044 lr 6.94e-05 elapsed 535.6s\n"
          ]
        },
        {
          "output_type": "stream",
          "name": "stdout",
          "text": [
            "[fold 1] epoch 7/12 it 1600/2709 loss 0.6042 lr 6.91e-05 elapsed 552.8s\n"
          ]
        },
        {
          "output_type": "stream",
          "name": "stdout",
          "text": [
            "[fold 1] epoch 7/12 it 1650/2709 loss 0.6042 lr 6.88e-05 elapsed 570.1s\n"
          ]
        },
        {
          "output_type": "stream",
          "name": "stdout",
          "text": [
            "[fold 1] epoch 7/12 it 1700/2709 loss 0.6042 lr 6.86e-05 elapsed 587.4s\n"
          ]
        },
        {
          "output_type": "stream",
          "name": "stdout",
          "text": [
            "[fold 1] epoch 7/12 it 1750/2709 loss 0.6040 lr 6.83e-05 elapsed 604.6s\n"
          ]
        },
        {
          "output_type": "stream",
          "name": "stdout",
          "text": [
            "[fold 1] epoch 7/12 it 1800/2709 loss 0.6041 lr 6.80e-05 elapsed 621.9s\n"
          ]
        },
        {
          "output_type": "stream",
          "name": "stdout",
          "text": [
            "[fold 1] epoch 7/12 it 1850/2709 loss 0.6044 lr 6.77e-05 elapsed 639.2s\n"
          ]
        },
        {
          "output_type": "stream",
          "name": "stdout",
          "text": [
            "[fold 1] epoch 7/12 it 1900/2709 loss 0.6043 lr 6.75e-05 elapsed 656.4s\n"
          ]
        },
        {
          "output_type": "stream",
          "name": "stdout",
          "text": [
            "[fold 1] epoch 7/12 it 1950/2709 loss 0.6043 lr 6.72e-05 elapsed 673.7s\n"
          ]
        },
        {
          "output_type": "stream",
          "name": "stdout",
          "text": [
            "[fold 1] epoch 7/12 it 2000/2709 loss 0.6042 lr 6.69e-05 elapsed 690.9s\n"
          ]
        },
        {
          "output_type": "stream",
          "name": "stdout",
          "text": [
            "[fold 1] epoch 7/12 it 2050/2709 loss 0.6043 lr 6.66e-05 elapsed 708.2s\n"
          ]
        },
        {
          "output_type": "stream",
          "name": "stdout",
          "text": [
            "[fold 1] epoch 7/12 it 2100/2709 loss 0.6044 lr 6.64e-05 elapsed 725.4s\n"
          ]
        },
        {
          "output_type": "stream",
          "name": "stdout",
          "text": [
            "[fold 1] epoch 7/12 it 2150/2709 loss 0.6043 lr 6.61e-05 elapsed 742.6s\n"
          ]
        },
        {
          "output_type": "stream",
          "name": "stdout",
          "text": [
            "[fold 1] epoch 7/12 it 2200/2709 loss 0.6043 lr 6.58e-05 elapsed 759.9s\n"
          ]
        },
        {
          "output_type": "stream",
          "name": "stdout",
          "text": [
            "[fold 1] epoch 7/12 it 2250/2709 loss 0.6043 lr 6.55e-05 elapsed 777.1s\n"
          ]
        },
        {
          "output_type": "stream",
          "name": "stdout",
          "text": [
            "[fold 1] epoch 7/12 it 2300/2709 loss 0.6044 lr 6.53e-05 elapsed 794.4s\n"
          ]
        },
        {
          "output_type": "stream",
          "name": "stdout",
          "text": [
            "[fold 1] epoch 7/12 it 2350/2709 loss 0.6042 lr 6.50e-05 elapsed 811.6s\n"
          ]
        },
        {
          "output_type": "stream",
          "name": "stdout",
          "text": [
            "[fold 1] epoch 7/12 it 2400/2709 loss 0.6042 lr 6.47e-05 elapsed 828.9s\n"
          ]
        },
        {
          "output_type": "stream",
          "name": "stdout",
          "text": [
            "[fold 1] epoch 7/12 it 2450/2709 loss 0.6043 lr 6.44e-05 elapsed 846.1s\n"
          ]
        },
        {
          "output_type": "stream",
          "name": "stdout",
          "text": [
            "[fold 1] epoch 7/12 it 2500/2709 loss 0.6040 lr 6.42e-05 elapsed 863.7s\n"
          ]
        },
        {
          "output_type": "stream",
          "name": "stdout",
          "text": [
            "[fold 1] epoch 7/12 it 2550/2709 loss 0.6040 lr 6.39e-05 elapsed 880.9s\n"
          ]
        },
        {
          "output_type": "stream",
          "name": "stdout",
          "text": [
            "[fold 1] epoch 7/12 it 2600/2709 loss 0.6041 lr 6.36e-05 elapsed 898.2s\n"
          ]
        },
        {
          "output_type": "stream",
          "name": "stdout",
          "text": [
            "[fold 1] epoch 7/12 it 2650/2709 loss 0.6040 lr 6.33e-05 elapsed 915.4s\n"
          ]
        },
        {
          "output_type": "stream",
          "name": "stdout",
          "text": [
            "[fold 1] epoch 7/12 it 2700/2709 loss 0.6038 lr 6.31e-05 elapsed 932.7s\n"
          ]
        },
        {
          "output_type": "stream",
          "name": "stdout",
          "text": [
            "[fold 1] epoch 7 val macro AUC: 0.85941\n  ETT - Abnormal: 0.8721\n  ETT - Borderline: 0.8368\n  ETT - Normal: 0.9735\n  NGT - Abnormal: 0.7699\n  NGT - Borderline: 0.7484\n  NGT - Incompletely Imaged: 0.9480\n  NGT - Normal: 0.9664\n  CVC - Abnormal: 0.8351\n  CVC - Borderline: 0.7845\n[fold 1] epoch 7 train_loss 0.6038 time 1076.8s\n"
          ]
        },
        {
          "output_type": "stream",
          "name": "stdout",
          "text": [
            "[debug] first-batch targets sum per class: [0.0, 1.0, 2.0, 0.0, 0.0, 1.0, 2.0, 1.0, 4.0]\n"
          ]
        },
        {
          "output_type": "stream",
          "name": "stderr",
          "text": [
            "/tmp/ipykernel_1774/544503444.py:126: FutureWarning: `torch.cuda.amp.autocast(args...)` is deprecated. Please use `torch.amp.autocast('cuda', args...)` instead.\n  with torch.cuda.amp.autocast(enabled=(DEVICE=='cuda')):\n"
          ]
        },
        {
          "output_type": "stream",
          "name": "stdout",
          "text": [
            "[fold 1] epoch 8/12 it 50/2709 loss 0.5895 lr 6.27e-05 elapsed 18.1s\n"
          ]
        },
        {
          "output_type": "stream",
          "name": "stdout",
          "text": [
            "[fold 1] epoch 8/12 it 100/2709 loss 0.5871 lr 6.25e-05 elapsed 35.3s\n"
          ]
        },
        {
          "output_type": "stream",
          "name": "stdout",
          "text": [
            "[fold 1] epoch 8/12 it 150/2709 loss 0.5887 lr 6.22e-05 elapsed 52.6s\n"
          ]
        },
        {
          "output_type": "stream",
          "name": "stdout",
          "text": [
            "[fold 1] epoch 8/12 it 200/2709 loss 0.5888 lr 6.19e-05 elapsed 69.8s\n"
          ]
        },
        {
          "output_type": "stream",
          "name": "stdout",
          "text": [
            "[fold 1] epoch 8/12 it 250/2709 loss 0.5885 lr 6.16e-05 elapsed 87.1s\n"
          ]
        },
        {
          "output_type": "stream",
          "name": "stdout",
          "text": [
            "[fold 1] epoch 8/12 it 300/2709 loss 0.5884 lr 6.14e-05 elapsed 104.3s\n"
          ]
        },
        {
          "output_type": "stream",
          "name": "stdout",
          "text": [
            "[fold 1] epoch 8/12 it 350/2709 loss 0.5889 lr 6.11e-05 elapsed 121.6s\n"
          ]
        },
        {
          "output_type": "stream",
          "name": "stdout",
          "text": [
            "[fold 1] epoch 8/12 it 400/2709 loss 0.5887 lr 6.08e-05 elapsed 138.8s\n"
          ]
        },
        {
          "output_type": "stream",
          "name": "stdout",
          "text": [
            "[fold 1] epoch 8/12 it 450/2709 loss 0.5902 lr 6.05e-05 elapsed 156.1s\n"
          ]
        },
        {
          "output_type": "stream",
          "name": "stdout",
          "text": [
            "[fold 1] epoch 8/12 it 500/2709 loss 0.5898 lr 6.03e-05 elapsed 173.4s\n"
          ]
        },
        {
          "output_type": "stream",
          "name": "stdout",
          "text": [
            "[fold 1] epoch 8/12 it 550/2709 loss 0.5893 lr 6.00e-05 elapsed 190.7s\n"
          ]
        },
        {
          "output_type": "stream",
          "name": "stdout",
          "text": [
            "[fold 1] epoch 8/12 it 600/2709 loss 0.5885 lr 5.97e-05 elapsed 208.0s\n"
          ]
        },
        {
          "output_type": "stream",
          "name": "stdout",
          "text": [
            "[fold 1] epoch 8/12 it 650/2709 loss 0.5882 lr 5.94e-05 elapsed 225.2s\n"
          ]
        },
        {
          "output_type": "stream",
          "name": "stdout",
          "text": [
            "[fold 1] epoch 8/12 it 700/2709 loss 0.5875 lr 5.92e-05 elapsed 242.5s\n"
          ]
        },
        {
          "output_type": "stream",
          "name": "stdout",
          "text": [
            "[fold 1] epoch 8/12 it 750/2709 loss 0.5874 lr 5.89e-05 elapsed 259.7s\n"
          ]
        },
        {
          "output_type": "stream",
          "name": "stdout",
          "text": [
            "[fold 1] epoch 8/12 it 800/2709 loss 0.5876 lr 5.86e-05 elapsed 277.0s\n"
          ]
        },
        {
          "output_type": "stream",
          "name": "stdout",
          "text": [
            "[fold 1] epoch 8/12 it 850/2709 loss 0.5876 lr 5.83e-05 elapsed 294.3s\n"
          ]
        },
        {
          "output_type": "stream",
          "name": "stdout",
          "text": [
            "[fold 1] epoch 8/12 it 900/2709 loss 0.5874 lr 5.81e-05 elapsed 311.5s\n"
          ]
        },
        {
          "output_type": "stream",
          "name": "stdout",
          "text": [
            "[fold 1] epoch 8/12 it 950/2709 loss 0.5875 lr 5.78e-05 elapsed 328.8s\n"
          ]
        },
        {
          "output_type": "stream",
          "name": "stdout",
          "text": [
            "[fold 1] epoch 8/12 it 1000/2709 loss 0.5876 lr 5.75e-05 elapsed 346.0s\n"
          ]
        },
        {
          "output_type": "stream",
          "name": "stdout",
          "text": [
            "[fold 1] epoch 8/12 it 1050/2709 loss 0.5876 lr 5.72e-05 elapsed 363.3s\n"
          ]
        },
        {
          "output_type": "stream",
          "name": "stdout",
          "text": [
            "[fold 1] epoch 8/12 it 1100/2709 loss 0.5876 lr 5.70e-05 elapsed 380.5s\n"
          ]
        },
        {
          "output_type": "stream",
          "name": "stdout",
          "text": [
            "[fold 1] epoch 8/12 it 1150/2709 loss 0.5873 lr 5.67e-05 elapsed 397.8s\n"
          ]
        },
        {
          "output_type": "stream",
          "name": "stdout",
          "text": [
            "[fold 1] epoch 8/12 it 1200/2709 loss 0.5872 lr 5.64e-05 elapsed 415.0s\n"
          ]
        },
        {
          "output_type": "stream",
          "name": "stdout",
          "text": [
            "[fold 1] epoch 8/12 it 1250/2709 loss 0.5871 lr 5.61e-05 elapsed 432.3s\n"
          ]
        },
        {
          "output_type": "stream",
          "name": "stdout",
          "text": [
            "[fold 1] epoch 8/12 it 1300/2709 loss 0.5869 lr 5.59e-05 elapsed 449.6s\n"
          ]
        },
        {
          "output_type": "stream",
          "name": "stdout",
          "text": [
            "[fold 1] epoch 8/12 it 1350/2709 loss 0.5867 lr 5.56e-05 elapsed 466.8s\n"
          ]
        },
        {
          "output_type": "stream",
          "name": "stdout",
          "text": [
            "[fold 1] epoch 8/12 it 1400/2709 loss 0.5867 lr 5.53e-05 elapsed 484.1s\n"
          ]
        },
        {
          "output_type": "stream",
          "name": "stdout",
          "text": [
            "[fold 1] epoch 8/12 it 1450/2709 loss 0.5869 lr 5.50e-05 elapsed 501.4s\n"
          ]
        },
        {
          "output_type": "stream",
          "name": "stdout",
          "text": [
            "[fold 1] epoch 8/12 it 1500/2709 loss 0.5870 lr 5.48e-05 elapsed 518.6s\n"
          ]
        },
        {
          "output_type": "stream",
          "name": "stdout",
          "text": [
            "[fold 1] epoch 8/12 it 1550/2709 loss 0.5870 lr 5.45e-05 elapsed 535.9s\n"
          ]
        },
        {
          "output_type": "stream",
          "name": "stdout",
          "text": [
            "[fold 1] epoch 8/12 it 1600/2709 loss 0.5869 lr 5.42e-05 elapsed 553.2s\n"
          ]
        },
        {
          "output_type": "stream",
          "name": "stdout",
          "text": [
            "[fold 1] epoch 8/12 it 1650/2709 loss 0.5867 lr 5.40e-05 elapsed 570.5s\n"
          ]
        },
        {
          "output_type": "stream",
          "name": "stdout",
          "text": [
            "[fold 1] epoch 8/12 it 1700/2709 loss 0.5866 lr 5.37e-05 elapsed 587.7s\n"
          ]
        },
        {
          "output_type": "stream",
          "name": "stdout",
          "text": [
            "[fold 1] epoch 8/12 it 1750/2709 loss 0.5866 lr 5.34e-05 elapsed 605.0s\n"
          ]
        },
        {
          "output_type": "stream",
          "name": "stdout",
          "text": [
            "[fold 1] epoch 8/12 it 1800/2709 loss 0.5866 lr 5.31e-05 elapsed 622.2s\n"
          ]
        },
        {
          "output_type": "stream",
          "name": "stdout",
          "text": [
            "[fold 1] epoch 8/12 it 1850/2709 loss 0.5865 lr 5.29e-05 elapsed 639.4s\n"
          ]
        },
        {
          "output_type": "stream",
          "name": "stdout",
          "text": [
            "[fold 1] epoch 8/12 it 1900/2709 loss 0.5866 lr 5.26e-05 elapsed 656.6s\n"
          ]
        },
        {
          "output_type": "stream",
          "name": "stdout",
          "text": [
            "[fold 1] epoch 8/12 it 1950/2709 loss 0.5864 lr 5.23e-05 elapsed 673.9s\n"
          ]
        },
        {
          "output_type": "stream",
          "name": "stdout",
          "text": [
            "[fold 1] epoch 8/12 it 2000/2709 loss 0.5864 lr 5.21e-05 elapsed 691.1s\n"
          ]
        },
        {
          "output_type": "stream",
          "name": "stdout",
          "text": [
            "[fold 1] epoch 8/12 it 2050/2709 loss 0.5865 lr 5.18e-05 elapsed 708.3s\n"
          ]
        },
        {
          "output_type": "stream",
          "name": "stdout",
          "text": [
            "[fold 1] epoch 8/12 it 2100/2709 loss 0.5863 lr 5.15e-05 elapsed 725.6s\n"
          ]
        },
        {
          "output_type": "stream",
          "name": "stdout",
          "text": [
            "[fold 1] epoch 8/12 it 2150/2709 loss 0.5863 lr 5.12e-05 elapsed 742.8s\n"
          ]
        },
        {
          "output_type": "stream",
          "name": "stdout",
          "text": [
            "[fold 1] epoch 8/12 it 2200/2709 loss 0.5863 lr 5.10e-05 elapsed 760.0s\n"
          ]
        },
        {
          "output_type": "stream",
          "name": "stdout",
          "text": [
            "[fold 1] epoch 8/12 it 2250/2709 loss 0.5862 lr 5.07e-05 elapsed 777.3s\n"
          ]
        },
        {
          "output_type": "stream",
          "name": "stdout",
          "text": [
            "[fold 1] epoch 8/12 it 2300/2709 loss 0.5862 lr 5.04e-05 elapsed 794.5s\n"
          ]
        },
        {
          "output_type": "stream",
          "name": "stdout",
          "text": [
            "[fold 1] epoch 8/12 it 2350/2709 loss 0.5862 lr 5.02e-05 elapsed 811.8s\n"
          ]
        },
        {
          "output_type": "stream",
          "name": "stdout",
          "text": [
            "[fold 1] epoch 8/12 it 2400/2709 loss 0.5861 lr 4.99e-05 elapsed 829.0s\n"
          ]
        },
        {
          "output_type": "stream",
          "name": "stdout",
          "text": [
            "[fold 1] epoch 8/12 it 2450/2709 loss 0.5862 lr 4.96e-05 elapsed 846.3s\n"
          ]
        },
        {
          "output_type": "stream",
          "name": "stdout",
          "text": [
            "[fold 1] epoch 8/12 it 2500/2709 loss 0.5860 lr 4.94e-05 elapsed 863.5s\n"
          ]
        },
        {
          "output_type": "stream",
          "name": "stdout",
          "text": [
            "[fold 1] epoch 8/12 it 2550/2709 loss 0.5861 lr 4.91e-05 elapsed 880.8s\n"
          ]
        },
        {
          "output_type": "stream",
          "name": "stdout",
          "text": [
            "[fold 1] epoch 8/12 it 2600/2709 loss 0.5861 lr 4.88e-05 elapsed 898.0s\n"
          ]
        },
        {
          "output_type": "stream",
          "name": "stdout",
          "text": [
            "[fold 1] epoch 8/12 it 2650/2709 loss 0.5860 lr 4.86e-05 elapsed 915.3s\n"
          ]
        },
        {
          "output_type": "stream",
          "name": "stdout",
          "text": [
            "[fold 1] epoch 8/12 it 2700/2709 loss 0.5860 lr 4.83e-05 elapsed 932.5s\n"
          ]
        },
        {
          "output_type": "stream",
          "name": "stdout",
          "text": [
            "[fold 1] epoch 8 val macro AUC: 0.86691\n  ETT - Abnormal: 0.9231\n  ETT - Borderline: 0.8438\n  ETT - Normal: 0.9760\n  NGT - Abnormal: 0.7568\n  NGT - Borderline: 0.7969\n  NGT - Incompletely Imaged: 0.9404\n  NGT - Normal: 0.9627\n  CVC - Abnormal: 0.8267\n  CVC - Borderline: 0.7757\n[fold 1] epoch 8 train_loss 0.5860 time 1076.9s\n[fold 1] Early stopping at epoch 8\n[fold 1] best macro AUC: 0.91103 total time 8671.5s\n"
          ]
        },
        {
          "output_type": "stream",
          "name": "stdout",
          "text": [
            "[cv] Fold 1 best AUC: 0.91103 elapsed 8672.7s\n\n===== Fold 2 training start =====\n[debug] target_cols: ['ETT - Abnormal', 'ETT - Borderline', 'ETT - Normal', 'NGT - Abnormal', 'NGT - Borderline', 'NGT - Incompletely Imaged', 'NGT - Normal', 'CVC - Abnormal', 'CVC - Borderline']\n"
          ]
        },
        {
          "output_type": "stream",
          "name": "stderr",
          "text": [
            "/app/.pip-target/albumentations/core/validation.py:114: UserWarning: ShiftScaleRotate is a special case of Affine transform. Please use Affine transform instead.\n  original_init(self, **validated_kwargs)\n/app/.pip-target/timm/models/_factory.py:138: UserWarning: Mapping deprecated model name tf_efficientnet_b4_ns to current tf_efficientnet_b4.ns_jft_in1k.\n  model = create_fn(\n"
          ]
        },
        {
          "output_type": "stream",
          "name": "stdout",
          "text": [
            "[model] pretrained=True; num_outputs 9 fc_mean -0.0003222264931537211\n[DEBUG] Initial pos_weight: [5.0, 5.0, 3.163309335708618, 5.0, 5.0, 5.0, 5.0, 5.0, 2.5474319458007812]\n"
          ]
        },
        {
          "output_type": "stream",
          "name": "stderr",
          "text": [
            "/tmp/ipykernel_1774/544503444.py:104: FutureWarning: `torch.cuda.amp.GradScaler(args...)` is deprecated. Please use `torch.amp.GradScaler('cuda', args...)` instead.\n  scaler = torch.cuda.amp.GradScaler(enabled=(DEVICE=='cuda'))\n"
          ]
        },
        {
          "output_type": "stream",
          "name": "stdout",
          "text": [
            "[debug] first-batch targets sum per class: [0.0, 0.0, 1.0, 0.0, 0.0, 0.0, 1.0, 0.0, 4.0]\n"
          ]
        },
        {
          "output_type": "stream",
          "name": "stderr",
          "text": [
            "/tmp/ipykernel_1774/544503444.py:126: FutureWarning: `torch.cuda.amp.autocast(args...)` is deprecated. Please use `torch.amp.autocast('cuda', args...)` instead.\n  with torch.cuda.amp.autocast(enabled=(DEVICE=='cuda')):\n"
          ]
        },
        {
          "output_type": "stream",
          "name": "stdout",
          "text": [
            "[fold 2] epoch 1/12 it 50/2742 loss 1.1444 lr 1.39e-05 elapsed 18.8s\n"
          ]
        },
        {
          "output_type": "stream",
          "name": "stdout",
          "text": [
            "[fold 2] epoch 1/12 it 100/2742 loss 1.0753 lr 1.59e-05 elapsed 36.1s\n"
          ]
        },
        {
          "output_type": "stream",
          "name": "stdout",
          "text": [
            "[fold 2] epoch 1/12 it 150/2742 loss 1.0344 lr 1.78e-05 elapsed 53.4s\n"
          ]
        },
        {
          "output_type": "stream",
          "name": "stdout",
          "text": [
            "[fold 2] epoch 1/12 it 200/2742 loss 1.0014 lr 1.98e-05 elapsed 70.6s\n"
          ]
        },
        {
          "output_type": "stream",
          "name": "stdout",
          "text": [
            "[fold 2] epoch 1/12 it 250/2742 loss 0.9828 lr 2.18e-05 elapsed 87.9s\n"
          ]
        },
        {
          "output_type": "stream",
          "name": "stdout",
          "text": [
            "[fold 2] epoch 1/12 it 300/2742 loss 0.9721 lr 2.37e-05 elapsed 105.2s\n"
          ]
        },
        {
          "output_type": "stream",
          "name": "stdout",
          "text": [
            "[fold 2] epoch 1/12 it 350/2742 loss 0.9586 lr 2.57e-05 elapsed 122.4s\n"
          ]
        },
        {
          "output_type": "stream",
          "name": "stdout",
          "text": [
            "[fold 2] epoch 1/12 it 400/2742 loss 0.9510 lr 2.77e-05 elapsed 139.7s\n"
          ]
        },
        {
          "output_type": "stream",
          "name": "stdout",
          "text": [
            "[fold 2] epoch 1/12 it 450/2742 loss 0.9446 lr 2.96e-05 elapsed 157.0s\n"
          ]
        },
        {
          "output_type": "stream",
          "name": "stdout",
          "text": [
            "[fold 2] epoch 1/12 it 500/2742 loss 0.9396 lr 3.16e-05 elapsed 174.2s\n"
          ]
        },
        {
          "output_type": "stream",
          "name": "stdout",
          "text": [
            "[fold 2] epoch 1/12 it 550/2742 loss 0.9327 lr 3.36e-05 elapsed 191.4s\n"
          ]
        },
        {
          "output_type": "stream",
          "name": "stdout",
          "text": [
            "[fold 2] epoch 1/12 it 600/2742 loss 0.9297 lr 3.56e-05 elapsed 208.7s\n"
          ]
        },
        {
          "output_type": "stream",
          "name": "stdout",
          "text": [
            "[fold 2] epoch 1/12 it 650/2742 loss 0.9255 lr 3.75e-05 elapsed 226.0s\n"
          ]
        },
        {
          "output_type": "stream",
          "name": "stdout",
          "text": [
            "[fold 2] epoch 1/12 it 700/2742 loss 0.9217 lr 3.95e-05 elapsed 243.3s\n"
          ]
        },
        {
          "output_type": "stream",
          "name": "stdout",
          "text": [
            "[fold 2] epoch 1/12 it 750/2742 loss 0.9184 lr 4.15e-05 elapsed 260.6s\n"
          ]
        },
        {
          "output_type": "stream",
          "name": "stdout",
          "text": [
            "[fold 2] epoch 1/12 it 800/2742 loss 0.9154 lr 4.34e-05 elapsed 277.8s\n"
          ]
        },
        {
          "output_type": "stream",
          "name": "stdout",
          "text": [
            "[fold 2] epoch 1/12 it 850/2742 loss 0.9118 lr 4.54e-05 elapsed 295.1s\n"
          ]
        },
        {
          "output_type": "stream",
          "name": "stdout",
          "text": [
            "[fold 2] epoch 1/12 it 900/2742 loss 0.9092 lr 4.74e-05 elapsed 312.4s\n"
          ]
        },
        {
          "output_type": "stream",
          "name": "stdout",
          "text": [
            "[fold 2] epoch 1/12 it 950/2742 loss 0.9061 lr 4.93e-05 elapsed 329.6s\n"
          ]
        },
        {
          "output_type": "stream",
          "name": "stdout",
          "text": [
            "[fold 2] epoch 1/12 it 1000/2742 loss 0.9028 lr 5.13e-05 elapsed 346.9s\n"
          ]
        },
        {
          "output_type": "stream",
          "name": "stdout",
          "text": [
            "[fold 2] epoch 1/12 it 1050/2742 loss 0.8989 lr 5.33e-05 elapsed 364.2s\n"
          ]
        },
        {
          "output_type": "stream",
          "name": "stdout",
          "text": [
            "[fold 2] epoch 1/12 it 1100/2742 loss 0.8960 lr 5.52e-05 elapsed 381.4s\n"
          ]
        },
        {
          "output_type": "stream",
          "name": "stdout",
          "text": [
            "[fold 2] epoch 1/12 it 1150/2742 loss 0.8932 lr 5.72e-05 elapsed 398.7s\n"
          ]
        },
        {
          "output_type": "stream",
          "name": "stdout",
          "text": [
            "[fold 2] epoch 1/12 it 1200/2742 loss 0.8906 lr 5.92e-05 elapsed 415.9s\n"
          ]
        },
        {
          "output_type": "stream",
          "name": "stdout",
          "text": [
            "[fold 2] epoch 1/12 it 1250/2742 loss 0.8881 lr 6.12e-05 elapsed 433.2s\n"
          ]
        },
        {
          "output_type": "stream",
          "name": "stdout",
          "text": [
            "[fold 2] epoch 1/12 it 1300/2742 loss 0.8853 lr 6.31e-05 elapsed 450.4s\n"
          ]
        },
        {
          "output_type": "stream",
          "name": "stdout",
          "text": [
            "[fold 2] epoch 1/12 it 1350/2742 loss 0.8825 lr 6.51e-05 elapsed 467.7s\n"
          ]
        },
        {
          "output_type": "stream",
          "name": "stdout",
          "text": [
            "[fold 2] epoch 1/12 it 1400/2742 loss 0.8807 lr 6.71e-05 elapsed 484.9s\n"
          ]
        },
        {
          "output_type": "stream",
          "name": "stdout",
          "text": [
            "[fold 2] epoch 1/12 it 1450/2742 loss 0.8780 lr 6.90e-05 elapsed 502.1s\n"
          ]
        },
        {
          "output_type": "stream",
          "name": "stdout",
          "text": [
            "[fold 2] epoch 1/12 it 1500/2742 loss 0.8753 lr 7.10e-05 elapsed 519.4s\n"
          ]
        },
        {
          "output_type": "stream",
          "name": "stdout",
          "text": [
            "[fold 2] epoch 1/12 it 1550/2742 loss 0.8735 lr 7.30e-05 elapsed 536.6s\n"
          ]
        },
        {
          "output_type": "stream",
          "name": "stdout",
          "text": [
            "[fold 2] epoch 1/12 it 1600/2742 loss 0.8716 lr 7.49e-05 elapsed 553.9s\n"
          ]
        },
        {
          "output_type": "stream",
          "name": "stdout",
          "text": [
            "[fold 2] epoch 1/12 it 1650/2742 loss 0.8697 lr 7.69e-05 elapsed 571.1s\n"
          ]
        },
        {
          "output_type": "stream",
          "name": "stdout",
          "text": [
            "[fold 2] epoch 1/12 it 1700/2742 loss 0.8679 lr 7.89e-05 elapsed 588.4s\n"
          ]
        },
        {
          "output_type": "stream",
          "name": "stdout",
          "text": [
            "[fold 2] epoch 1/12 it 1750/2742 loss 0.8653 lr 8.08e-05 elapsed 605.6s\n"
          ]
        },
        {
          "output_type": "stream",
          "name": "stdout",
          "text": [
            "[fold 2] epoch 1/12 it 1800/2742 loss 0.8637 lr 8.28e-05 elapsed 622.9s\n"
          ]
        },
        {
          "output_type": "stream",
          "name": "stdout",
          "text": [
            "[fold 2] epoch 1/12 it 1850/2742 loss 0.8618 lr 8.48e-05 elapsed 640.1s\n"
          ]
        },
        {
          "output_type": "stream",
          "name": "stdout",
          "text": [
            "[fold 2] epoch 1/12 it 1900/2742 loss 0.8598 lr 8.68e-05 elapsed 657.4s\n"
          ]
        },
        {
          "output_type": "stream",
          "name": "stdout",
          "text": [
            "[fold 2] epoch 1/12 it 1950/2742 loss 0.8584 lr 8.87e-05 elapsed 674.6s\n"
          ]
        },
        {
          "output_type": "stream",
          "name": "stdout",
          "text": [
            "[fold 2] epoch 1/12 it 2000/2742 loss 0.8568 lr 9.07e-05 elapsed 691.9s\n"
          ]
        },
        {
          "output_type": "stream",
          "name": "stdout",
          "text": [
            "[fold 2] epoch 1/12 it 2050/2742 loss 0.8553 lr 9.27e-05 elapsed 709.2s\n"
          ]
        },
        {
          "output_type": "stream",
          "name": "stdout",
          "text": [
            "[fold 2] epoch 1/12 it 2100/2742 loss 0.8542 lr 9.46e-05 elapsed 726.5s\n"
          ]
        },
        {
          "output_type": "stream",
          "name": "stdout",
          "text": [
            "[fold 2] epoch 1/12 it 2150/2742 loss 0.8530 lr 9.66e-05 elapsed 743.7s\n"
          ]
        },
        {
          "output_type": "stream",
          "name": "stdout",
          "text": [
            "[fold 2] epoch 1/12 it 2200/2742 loss 0.8519 lr 9.86e-05 elapsed 761.0s\n"
          ]
        },
        {
          "output_type": "stream",
          "name": "stdout",
          "text": [
            "[fold 2] epoch 1/12 it 2250/2742 loss 0.8506 lr 1.01e-04 elapsed 778.3s\n"
          ]
        },
        {
          "output_type": "stream",
          "name": "stdout",
          "text": [
            "[fold 2] epoch 1/12 it 2300/2742 loss 0.8497 lr 1.03e-04 elapsed 795.6s\n"
          ]
        },
        {
          "output_type": "stream",
          "name": "stdout",
          "text": [
            "[fold 2] epoch 1/12 it 2350/2742 loss 0.8486 lr 1.04e-04 elapsed 812.8s\n"
          ]
        },
        {
          "output_type": "stream",
          "name": "stdout",
          "text": [
            "[fold 2] epoch 1/12 it 2400/2742 loss 0.8477 lr 1.06e-04 elapsed 830.1s\n"
          ]
        },
        {
          "output_type": "stream",
          "name": "stdout",
          "text": [
            "[fold 2] epoch 1/12 it 2450/2742 loss 0.8466 lr 1.08e-04 elapsed 847.3s\n"
          ]
        },
        {
          "output_type": "stream",
          "name": "stdout",
          "text": [
            "[fold 2] epoch 1/12 it 2500/2742 loss 0.8454 lr 1.10e-04 elapsed 864.6s\n"
          ]
        },
        {
          "output_type": "stream",
          "name": "stdout",
          "text": [
            "[fold 2] epoch 1/12 it 2550/2742 loss 0.8444 lr 1.12e-04 elapsed 881.8s\n"
          ]
        },
        {
          "output_type": "stream",
          "name": "stdout",
          "text": [
            "[fold 2] epoch 1/12 it 2600/2742 loss 0.8435 lr 1.14e-04 elapsed 899.1s\n"
          ]
        },
        {
          "output_type": "stream",
          "name": "stdout",
          "text": [
            "[fold 2] epoch 1/12 it 2650/2742 loss 0.8424 lr 1.16e-04 elapsed 916.3s\n"
          ]
        },
        {
          "output_type": "stream",
          "name": "stdout",
          "text": [
            "[fold 2] epoch 1/12 it 2700/2742 loss 0.8414 lr 1.18e-04 elapsed 933.6s\n"
          ]
        },
        {
          "output_type": "stream",
          "name": "stdout",
          "text": [
            "[fold 2] epoch 1 val macro AUC: 0.84627\n  ETT - Abnormal: 0.8479\n  ETT - Borderline: 0.9081\n  ETT - Normal: 0.9791\n  NGT - Abnormal: 0.8248\n  NGT - Borderline: 0.8826\n  NGT - Incompletely Imaged: 0.9515\n  NGT - Normal: 0.9652\n  CVC - Abnormal: 0.6386\n  CVC - Borderline: 0.6187\n[fold 2] saved best to chkpts/effb4ns_fold2.pt\n[fold 2] epoch 1 train_loss 0.8408 time 1095.6s\n"
          ]
        },
        {
          "output_type": "stream",
          "name": "stdout",
          "text": [
            "[debug] first-batch targets sum per class: [0.0, 0.0, 1.0, 0.0, 0.0, 1.0, 0.0, 2.0, 3.0]\n"
          ]
        },
        {
          "output_type": "stream",
          "name": "stderr",
          "text": [
            "/tmp/ipykernel_1774/544503444.py:126: FutureWarning: `torch.cuda.amp.autocast(args...)` is deprecated. Please use `torch.amp.autocast('cuda', args...)` instead.\n  with torch.cuda.amp.autocast(enabled=(DEVICE=='cuda')):\n"
          ]
        },
        {
          "output_type": "stream",
          "name": "stdout",
          "text": [
            "[fold 2] epoch 2/12 it 50/2742 loss 0.7503 lr 1.20e-04 elapsed 18.1s\n"
          ]
        },
        {
          "output_type": "stream",
          "name": "stdout",
          "text": [
            "[fold 2] epoch 2/12 it 100/2742 loss 0.7634 lr 1.20e-04 elapsed 35.3s\n"
          ]
        },
        {
          "output_type": "stream",
          "name": "stdout",
          "text": [
            "[fold 2] epoch 2/12 it 150/2742 loss 0.7679 lr 1.20e-04 elapsed 52.6s\n"
          ]
        },
        {
          "output_type": "stream",
          "name": "stdout",
          "text": [
            "[fold 2] epoch 2/12 it 200/2742 loss 0.7751 lr 1.20e-04 elapsed 69.9s\n"
          ]
        },
        {
          "output_type": "stream",
          "name": "stdout",
          "text": [
            "[fold 2] epoch 2/12 it 250/2742 loss 0.7779 lr 1.20e-04 elapsed 87.1s\n"
          ]
        },
        {
          "output_type": "stream",
          "name": "stdout",
          "text": [
            "[fold 2] epoch 2/12 it 300/2742 loss 0.7754 lr 1.20e-04 elapsed 104.4s\n"
          ]
        },
        {
          "output_type": "stream",
          "name": "stdout",
          "text": [
            "[fold 2] epoch 2/12 it 350/2742 loss 0.7779 lr 1.20e-04 elapsed 121.6s\n"
          ]
        },
        {
          "output_type": "stream",
          "name": "stdout",
          "text": [
            "[fold 2] epoch 2/12 it 400/2742 loss 0.7765 lr 1.20e-04 elapsed 138.8s\n"
          ]
        },
        {
          "output_type": "stream",
          "name": "stdout",
          "text": [
            "[fold 2] epoch 2/12 it 450/2742 loss 0.7756 lr 1.20e-04 elapsed 156.1s\n"
          ]
        },
        {
          "output_type": "stream",
          "name": "stdout",
          "text": [
            "[fold 2] epoch 2/12 it 500/2742 loss 0.7734 lr 1.20e-04 elapsed 173.3s\n"
          ]
        },
        {
          "output_type": "stream",
          "name": "stdout",
          "text": [
            "[fold 2] epoch 2/12 it 550/2742 loss 0.7723 lr 1.20e-04 elapsed 190.5s\n"
          ]
        },
        {
          "output_type": "stream",
          "name": "stdout",
          "text": [
            "[fold 2] epoch 2/12 it 600/2742 loss 0.7715 lr 1.20e-04 elapsed 207.7s\n"
          ]
        },
        {
          "output_type": "stream",
          "name": "stdout",
          "text": [
            "[fold 2] epoch 2/12 it 650/2742 loss 0.7717 lr 1.20e-04 elapsed 225.0s\n"
          ]
        },
        {
          "output_type": "stream",
          "name": "stdout",
          "text": [
            "[fold 2] epoch 2/12 it 700/2742 loss 0.7710 lr 1.20e-04 elapsed 242.2s\n"
          ]
        },
        {
          "output_type": "stream",
          "name": "stdout",
          "text": [
            "[fold 2] epoch 2/12 it 750/2742 loss 0.7714 lr 1.20e-04 elapsed 259.4s\n"
          ]
        },
        {
          "output_type": "stream",
          "name": "stdout",
          "text": [
            "[fold 2] epoch 2/12 it 800/2742 loss 0.7711 lr 1.20e-04 elapsed 276.7s\n"
          ]
        },
        {
          "output_type": "stream",
          "name": "stdout",
          "text": [
            "[fold 2] epoch 2/12 it 850/2742 loss 0.7716 lr 1.20e-04 elapsed 293.9s\n"
          ]
        },
        {
          "output_type": "stream",
          "name": "stdout",
          "text": [
            "[fold 2] epoch 2/12 it 900/2742 loss 0.7718 lr 1.20e-04 elapsed 311.1s\n"
          ]
        },
        {
          "output_type": "stream",
          "name": "stdout",
          "text": [
            "[fold 2] epoch 2/12 it 950/2742 loss 0.7712 lr 1.20e-04 elapsed 328.4s\n"
          ]
        },
        {
          "output_type": "stream",
          "name": "stdout",
          "text": [
            "[fold 2] epoch 2/12 it 1000/2742 loss 0.7709 lr 1.20e-04 elapsed 345.6s\n"
          ]
        },
        {
          "output_type": "stream",
          "name": "stdout",
          "text": [
            "[fold 2] epoch 2/12 it 1050/2742 loss 0.7708 lr 1.20e-04 elapsed 362.8s\n"
          ]
        },
        {
          "output_type": "stream",
          "name": "stdout",
          "text": [
            "[fold 2] epoch 2/12 it 1100/2742 loss 0.7709 lr 1.20e-04 elapsed 380.1s\n"
          ]
        },
        {
          "output_type": "stream",
          "name": "stdout",
          "text": [
            "[fold 2] epoch 2/12 it 1150/2742 loss 0.7697 lr 1.20e-04 elapsed 397.3s\n"
          ]
        },
        {
          "output_type": "stream",
          "name": "stdout",
          "text": [
            "[fold 2] epoch 2/12 it 1200/2742 loss 0.7690 lr 1.20e-04 elapsed 414.5s\n"
          ]
        },
        {
          "output_type": "stream",
          "name": "stdout",
          "text": [
            "[fold 2] epoch 2/12 it 1250/2742 loss 0.7687 lr 1.20e-04 elapsed 431.8s\n"
          ]
        },
        {
          "output_type": "stream",
          "name": "stdout",
          "text": [
            "[fold 2] epoch 2/12 it 1300/2742 loss 0.7682 lr 1.20e-04 elapsed 449.0s\n"
          ]
        },
        {
          "output_type": "stream",
          "name": "stdout",
          "text": [
            "[fold 2] epoch 2/12 it 1350/2742 loss 0.7685 lr 1.20e-04 elapsed 466.3s\n"
          ]
        },
        {
          "output_type": "stream",
          "name": "stdout",
          "text": [
            "[fold 2] epoch 2/12 it 1400/2742 loss 0.7679 lr 1.19e-04 elapsed 483.6s\n"
          ]
        },
        {
          "output_type": "stream",
          "name": "stdout",
          "text": [
            "[fold 2] epoch 2/12 it 1450/2742 loss 0.7677 lr 1.19e-04 elapsed 500.8s\n"
          ]
        },
        {
          "output_type": "stream",
          "name": "stdout",
          "text": [
            "[fold 2] epoch 2/12 it 1500/2742 loss 0.7667 lr 1.19e-04 elapsed 518.1s\n"
          ]
        },
        {
          "output_type": "stream",
          "name": "stdout",
          "text": [
            "[fold 2] epoch 2/12 it 1550/2742 loss 0.7666 lr 1.19e-04 elapsed 535.7s\n"
          ]
        },
        {
          "output_type": "stream",
          "name": "stdout",
          "text": [
            "[fold 2] epoch 2/12 it 1600/2742 loss 0.7663 lr 1.19e-04 elapsed 553.0s\n"
          ]
        },
        {
          "output_type": "stream",
          "name": "stdout",
          "text": [
            "[fold 2] epoch 2/12 it 1650/2742 loss 0.7659 lr 1.19e-04 elapsed 570.3s\n"
          ]
        },
        {
          "output_type": "stream",
          "name": "stdout",
          "text": [
            "[fold 2] epoch 2/12 it 1700/2742 loss 0.7651 lr 1.19e-04 elapsed 587.5s\n"
          ]
        },
        {
          "output_type": "stream",
          "name": "stdout",
          "text": [
            "[fold 2] epoch 2/12 it 1750/2742 loss 0.7651 lr 1.19e-04 elapsed 604.7s\n"
          ]
        },
        {
          "output_type": "stream",
          "name": "stdout",
          "text": [
            "[fold 2] epoch 2/12 it 1800/2742 loss 0.7646 lr 1.19e-04 elapsed 622.0s\n"
          ]
        },
        {
          "output_type": "stream",
          "name": "stdout",
          "text": [
            "[fold 2] epoch 2/12 it 1850/2742 loss 0.7637 lr 1.19e-04 elapsed 639.2s\n"
          ]
        },
        {
          "output_type": "stream",
          "name": "stdout",
          "text": [
            "[fold 2] epoch 2/12 it 1900/2742 loss 0.7635 lr 1.19e-04 elapsed 656.5s\n"
          ]
        },
        {
          "output_type": "stream",
          "name": "stdout",
          "text": [
            "[fold 2] epoch 2/12 it 1950/2742 loss 0.7630 lr 1.19e-04 elapsed 673.7s\n"
          ]
        },
        {
          "output_type": "stream",
          "name": "stdout",
          "text": [
            "[fold 2] epoch 2/12 it 2000/2742 loss 0.7627 lr 1.19e-04 elapsed 690.9s\n"
          ]
        },
        {
          "output_type": "stream",
          "name": "stdout",
          "text": [
            "[fold 2] epoch 2/12 it 2050/2742 loss 0.7618 lr 1.19e-04 elapsed 708.2s\n"
          ]
        },
        {
          "output_type": "stream",
          "name": "stdout",
          "text": [
            "[fold 2] epoch 2/12 it 2100/2742 loss 0.7616 lr 1.19e-04 elapsed 725.4s\n"
          ]
        },
        {
          "output_type": "stream",
          "name": "stdout",
          "text": [
            "[fold 2] epoch 2/12 it 2150/2742 loss 0.7611 lr 1.19e-04 elapsed 742.6s\n"
          ]
        },
        {
          "output_type": "stream",
          "name": "stdout",
          "text": [
            "[fold 2] epoch 2/12 it 2200/2742 loss 0.7604 lr 1.19e-04 elapsed 759.9s\n"
          ]
        },
        {
          "output_type": "stream",
          "name": "stdout",
          "text": [
            "[fold 2] epoch 2/12 it 2250/2742 loss 0.7597 lr 1.19e-04 elapsed 777.1s\n"
          ]
        },
        {
          "output_type": "stream",
          "name": "stdout",
          "text": [
            "[fold 2] epoch 2/12 it 2300/2742 loss 0.7590 lr 1.19e-04 elapsed 794.3s\n"
          ]
        },
        {
          "output_type": "stream",
          "name": "stdout",
          "text": [
            "[fold 2] epoch 2/12 it 2350/2742 loss 0.7584 lr 1.19e-04 elapsed 811.6s\n"
          ]
        },
        {
          "output_type": "stream",
          "name": "stdout",
          "text": [
            "[fold 2] epoch 2/12 it 2400/2742 loss 0.7578 lr 1.19e-04 elapsed 828.8s\n"
          ]
        },
        {
          "output_type": "stream",
          "name": "stdout",
          "text": [
            "[fold 2] epoch 2/12 it 2450/2742 loss 0.7571 lr 1.18e-04 elapsed 846.0s\n"
          ]
        },
        {
          "output_type": "stream",
          "name": "stdout",
          "text": [
            "[fold 2] epoch 2/12 it 2500/2742 loss 0.7565 lr 1.18e-04 elapsed 863.2s\n"
          ]
        },
        {
          "output_type": "stream",
          "name": "stdout",
          "text": [
            "[fold 2] epoch 2/12 it 2550/2742 loss 0.7562 lr 1.18e-04 elapsed 880.5s\n"
          ]
        },
        {
          "output_type": "stream",
          "name": "stdout",
          "text": [
            "[fold 2] epoch 2/12 it 2600/2742 loss 0.7559 lr 1.18e-04 elapsed 897.7s\n"
          ]
        },
        {
          "output_type": "stream",
          "name": "stdout",
          "text": [
            "[fold 2] epoch 2/12 it 2650/2742 loss 0.7556 lr 1.18e-04 elapsed 914.9s\n"
          ]
        },
        {
          "output_type": "stream",
          "name": "stdout",
          "text": [
            "[fold 2] epoch 2/12 it 2700/2742 loss 0.7550 lr 1.18e-04 elapsed 932.2s\n"
          ]
        },
        {
          "output_type": "stream",
          "name": "stdout",
          "text": [
            "[fold 2] epoch 2 val macro AUC: 0.90012\n  ETT - Abnormal: 0.9562\n  ETT - Borderline: 0.9294\n  ETT - Normal: 0.9867\n  NGT - Abnormal: 0.7961\n  NGT - Borderline: 0.8846\n  NGT - Incompletely Imaged: 0.9753\n  NGT - Normal: 0.9834\n  CVC - Abnormal: 0.8319\n  CVC - Borderline: 0.7574\n"
          ]
        },
        {
          "output_type": "stream",
          "name": "stdout",
          "text": [
            "[fold 2] saved best to chkpts/effb4ns_fold2.pt\n[fold 2] epoch 2 train_loss 0.7549 time 1093.6s\n"
          ]
        },
        {
          "output_type": "stream",
          "name": "stdout",
          "text": [
            "[debug] first-batch targets sum per class: [0.0, 0.0, 1.0, 0.0, 0.0, 0.0, 0.0, 0.0, 3.0]\n"
          ]
        },
        {
          "output_type": "stream",
          "name": "stderr",
          "text": [
            "/tmp/ipykernel_1774/544503444.py:126: FutureWarning: `torch.cuda.amp.autocast(args...)` is deprecated. Please use `torch.amp.autocast('cuda', args...)` instead.\n  with torch.cuda.amp.autocast(enabled=(DEVICE=='cuda')):\n"
          ]
        },
        {
          "output_type": "stream",
          "name": "stdout",
          "text": [
            "[fold 2] epoch 3/12 it 50/2742 loss 0.6984 lr 1.18e-04 elapsed 18.3s\n"
          ]
        },
        {
          "output_type": "stream",
          "name": "stdout",
          "text": [
            "[fold 2] epoch 3/12 it 100/2742 loss 0.7016 lr 1.18e-04 elapsed 35.6s\n"
          ]
        },
        {
          "output_type": "stream",
          "name": "stdout",
          "text": [
            "[fold 2] epoch 3/12 it 150/2742 loss 0.7095 lr 1.18e-04 elapsed 52.8s\n"
          ]
        },
        {
          "output_type": "stream",
          "name": "stdout",
          "text": [
            "[fold 2] epoch 3/12 it 200/2742 loss 0.7105 lr 1.18e-04 elapsed 70.1s\n"
          ]
        },
        {
          "output_type": "stream",
          "name": "stdout",
          "text": [
            "[fold 2] epoch 3/12 it 250/2742 loss 0.7131 lr 1.18e-04 elapsed 87.3s\n"
          ]
        },
        {
          "output_type": "stream",
          "name": "stdout",
          "text": [
            "[fold 2] epoch 3/12 it 300/2742 loss 0.7163 lr 1.18e-04 elapsed 104.6s\n"
          ]
        },
        {
          "output_type": "stream",
          "name": "stdout",
          "text": [
            "[fold 2] epoch 3/12 it 350/2742 loss 0.7151 lr 1.18e-04 elapsed 121.8s\n"
          ]
        },
        {
          "output_type": "stream",
          "name": "stdout",
          "text": [
            "[fold 2] epoch 3/12 it 400/2742 loss 0.7147 lr 1.17e-04 elapsed 139.1s\n"
          ]
        },
        {
          "output_type": "stream",
          "name": "stdout",
          "text": [
            "[fold 2] epoch 3/12 it 450/2742 loss 0.7147 lr 1.17e-04 elapsed 156.3s\n"
          ]
        },
        {
          "output_type": "stream",
          "name": "stdout",
          "text": [
            "[fold 2] epoch 3/12 it 500/2742 loss 0.7146 lr 1.17e-04 elapsed 173.5s\n"
          ]
        },
        {
          "output_type": "stream",
          "name": "stdout",
          "text": [
            "[fold 2] epoch 3/12 it 550/2742 loss 0.7148 lr 1.17e-04 elapsed 190.8s\n"
          ]
        },
        {
          "output_type": "stream",
          "name": "stdout",
          "text": [
            "[fold 2] epoch 3/12 it 600/2742 loss 0.7147 lr 1.17e-04 elapsed 208.0s\n"
          ]
        },
        {
          "output_type": "stream",
          "name": "stdout",
          "text": [
            "[fold 2] epoch 3/12 it 650/2742 loss 0.7162 lr 1.17e-04 elapsed 225.3s\n"
          ]
        },
        {
          "output_type": "stream",
          "name": "stdout",
          "text": [
            "[fold 2] epoch 3/12 it 700/2742 loss 0.7168 lr 1.17e-04 elapsed 242.5s\n"
          ]
        },
        {
          "output_type": "stream",
          "name": "stdout",
          "text": [
            "[fold 2] epoch 3/12 it 750/2742 loss 0.7177 lr 1.17e-04 elapsed 259.8s\n"
          ]
        },
        {
          "output_type": "stream",
          "name": "stdout",
          "text": [
            "[fold 2] epoch 3/12 it 800/2742 loss 0.7175 lr 1.17e-04 elapsed 277.0s\n"
          ]
        },
        {
          "output_type": "stream",
          "name": "stdout",
          "text": [
            "[fold 2] epoch 3/12 it 850/2742 loss 0.7173 lr 1.17e-04 elapsed 294.3s\n"
          ]
        },
        {
          "output_type": "stream",
          "name": "stdout",
          "text": [
            "[fold 2] epoch 3/12 it 900/2742 loss 0.7177 lr 1.17e-04 elapsed 311.5s\n"
          ]
        },
        {
          "output_type": "stream",
          "name": "stdout",
          "text": [
            "[fold 2] epoch 3/12 it 950/2742 loss 0.7174 lr 1.16e-04 elapsed 328.8s\n"
          ]
        },
        {
          "output_type": "stream",
          "name": "stdout",
          "text": [
            "[fold 2] epoch 3/12 it 1000/2742 loss 0.7169 lr 1.16e-04 elapsed 346.1s\n"
          ]
        },
        {
          "output_type": "stream",
          "name": "stdout",
          "text": [
            "[fold 2] epoch 3/12 it 1050/2742 loss 0.7168 lr 1.16e-04 elapsed 363.4s\n"
          ]
        },
        {
          "output_type": "stream",
          "name": "stdout",
          "text": [
            "[fold 2] epoch 3/12 it 1100/2742 loss 0.7167 lr 1.16e-04 elapsed 380.6s\n"
          ]
        },
        {
          "output_type": "stream",
          "name": "stdout",
          "text": [
            "[fold 2] epoch 3/12 it 1150/2742 loss 0.7161 lr 1.16e-04 elapsed 397.8s\n"
          ]
        },
        {
          "output_type": "stream",
          "name": "stdout",
          "text": [
            "[fold 2] epoch 3/12 it 1200/2742 loss 0.7158 lr 1.16e-04 elapsed 415.1s\n"
          ]
        },
        {
          "output_type": "stream",
          "name": "stdout",
          "text": [
            "[fold 2] epoch 3/12 it 1250/2742 loss 0.7161 lr 1.16e-04 elapsed 432.4s\n"
          ]
        },
        {
          "output_type": "stream",
          "name": "stdout",
          "text": [
            "[fold 2] epoch 3/12 it 1300/2742 loss 0.7168 lr 1.16e-04 elapsed 449.6s\n"
          ]
        },
        {
          "output_type": "stream",
          "name": "stdout",
          "text": [
            "[fold 2] epoch 3/12 it 1350/2742 loss 0.7163 lr 1.16e-04 elapsed 466.8s\n"
          ]
        },
        {
          "output_type": "stream",
          "name": "stdout",
          "text": [
            "[fold 2] epoch 3/12 it 1400/2742 loss 0.7160 lr 1.16e-04 elapsed 484.1s\n"
          ]
        },
        {
          "output_type": "stream",
          "name": "stdout",
          "text": [
            "[fold 2] epoch 3/12 it 1450/2742 loss 0.7165 lr 1.15e-04 elapsed 501.3s\n"
          ]
        },
        {
          "output_type": "stream",
          "name": "stdout",
          "text": [
            "[fold 2] epoch 3/12 it 1500/2742 loss 0.7165 lr 1.15e-04 elapsed 518.6s\n"
          ]
        },
        {
          "output_type": "stream",
          "name": "stdout",
          "text": [
            "[fold 2] epoch 3/12 it 1550/2742 loss 0.7169 lr 1.15e-04 elapsed 535.8s\n"
          ]
        },
        {
          "output_type": "stream",
          "name": "stdout",
          "text": [
            "[fold 2] epoch 3/12 it 1600/2742 loss 0.7173 lr 1.15e-04 elapsed 553.1s\n"
          ]
        },
        {
          "output_type": "stream",
          "name": "stdout",
          "text": [
            "[fold 2] epoch 3/12 it 1650/2742 loss 0.7180 lr 1.15e-04 elapsed 570.3s\n"
          ]
        },
        {
          "output_type": "stream",
          "name": "stdout",
          "text": [
            "[fold 2] epoch 3/12 it 1700/2742 loss 0.7179 lr 1.15e-04 elapsed 587.5s\n"
          ]
        },
        {
          "output_type": "stream",
          "name": "stdout",
          "text": [
            "[fold 2] epoch 3/12 it 1750/2742 loss 0.7177 lr 1.15e-04 elapsed 604.8s\n"
          ]
        },
        {
          "output_type": "stream",
          "name": "stdout",
          "text": [
            "[fold 2] epoch 3/12 it 1800/2742 loss 0.7177 lr 1.15e-04 elapsed 622.0s\n"
          ]
        },
        {
          "output_type": "stream",
          "name": "stdout",
          "text": [
            "[fold 2] epoch 3/12 it 1850/2742 loss 0.7174 lr 1.15e-04 elapsed 639.2s\n"
          ]
        },
        {
          "output_type": "stream",
          "name": "stdout",
          "text": [
            "[fold 2] epoch 3/12 it 1900/2742 loss 0.7172 lr 1.14e-04 elapsed 656.4s\n"
          ]
        },
        {
          "output_type": "stream",
          "name": "stdout",
          "text": [
            "[fold 2] epoch 3/12 it 1950/2742 loss 0.7168 lr 1.14e-04 elapsed 673.7s\n"
          ]
        },
        {
          "output_type": "stream",
          "name": "stdout",
          "text": [
            "[fold 2] epoch 3/12 it 2000/2742 loss 0.7166 lr 1.14e-04 elapsed 690.9s\n"
          ]
        },
        {
          "output_type": "stream",
          "name": "stdout",
          "text": [
            "[fold 2] epoch 3/12 it 2050/2742 loss 0.7166 lr 1.14e-04 elapsed 708.1s\n"
          ]
        },
        {
          "output_type": "stream",
          "name": "stdout",
          "text": [
            "[fold 2] epoch 3/12 it 2100/2742 loss 0.7164 lr 1.14e-04 elapsed 725.4s\n"
          ]
        },
        {
          "output_type": "stream",
          "name": "stdout",
          "text": [
            "[fold 2] epoch 3/12 it 2150/2742 loss 0.7166 lr 1.14e-04 elapsed 742.6s\n"
          ]
        },
        {
          "output_type": "stream",
          "name": "stdout",
          "text": [
            "[fold 2] epoch 3/12 it 2200/2742 loss 0.7165 lr 1.14e-04 elapsed 759.9s\n"
          ]
        },
        {
          "output_type": "stream",
          "name": "stdout",
          "text": [
            "[fold 2] epoch 3/12 it 2250/2742 loss 0.7162 lr 1.14e-04 elapsed 777.1s\n"
          ]
        },
        {
          "output_type": "stream",
          "name": "stdout",
          "text": [
            "[fold 2] epoch 3/12 it 2300/2742 loss 0.7157 lr 1.14e-04 elapsed 794.3s\n"
          ]
        },
        {
          "output_type": "stream",
          "name": "stdout",
          "text": [
            "[fold 2] epoch 3/12 it 2350/2742 loss 0.7158 lr 1.13e-04 elapsed 811.6s\n"
          ]
        },
        {
          "output_type": "stream",
          "name": "stdout",
          "text": [
            "[fold 2] epoch 3/12 it 2400/2742 loss 0.7158 lr 1.13e-04 elapsed 828.8s\n"
          ]
        },
        {
          "output_type": "stream",
          "name": "stdout",
          "text": [
            "[fold 2] epoch 3/12 it 2450/2742 loss 0.7163 lr 1.13e-04 elapsed 846.1s\n"
          ]
        },
        {
          "output_type": "stream",
          "name": "stdout",
          "text": [
            "[fold 2] epoch 3/12 it 2500/2742 loss 0.7161 lr 1.13e-04 elapsed 863.4s\n"
          ]
        },
        {
          "output_type": "stream",
          "name": "stdout",
          "text": [
            "[fold 2] epoch 3/12 it 2550/2742 loss 0.7159 lr 1.13e-04 elapsed 880.6s\n"
          ]
        },
        {
          "output_type": "stream",
          "name": "stdout",
          "text": [
            "[fold 2] epoch 3/12 it 2600/2742 loss 0.7154 lr 1.13e-04 elapsed 897.9s\n"
          ]
        },
        {
          "output_type": "stream",
          "name": "stdout",
          "text": [
            "[fold 2] epoch 3/12 it 2650/2742 loss 0.7152 lr 1.13e-04 elapsed 915.1s\n"
          ]
        },
        {
          "output_type": "stream",
          "name": "stdout",
          "text": [
            "[fold 2] epoch 3/12 it 2700/2742 loss 0.7153 lr 1.12e-04 elapsed 932.4s\n"
          ]
        },
        {
          "output_type": "stream",
          "name": "stdout",
          "text": [
            "[fold 2] epoch 3 val macro AUC: 0.92532\n  ETT - Abnormal: 0.9843\n  ETT - Borderline: 0.9325\n  ETT - Normal: 0.9886\n  NGT - Abnormal: 0.9041\n  NGT - Borderline: 0.9189\n  NGT - Incompletely Imaged: 0.9774\n  NGT - Normal: 0.9842\n  CVC - Abnormal: 0.8622\n  CVC - Borderline: 0.7756\n"
          ]
        },
        {
          "output_type": "stream",
          "name": "stdout",
          "text": [
            "[fold 2] saved best to chkpts/effb4ns_fold2.pt\n[fold 2] epoch 3 train_loss 0.7155 time 1094.4s\n"
          ]
        },
        {
          "output_type": "stream",
          "name": "stdout",
          "text": [
            "[debug] first-batch targets sum per class: [0.0, 0.0, 0.0, 0.0, 0.0, 0.0, 1.0, 0.0, 2.0]\n"
          ]
        },
        {
          "output_type": "stream",
          "name": "stderr",
          "text": [
            "/tmp/ipykernel_1774/544503444.py:126: FutureWarning: `torch.cuda.amp.autocast(args...)` is deprecated. Please use `torch.amp.autocast('cuda', args...)` instead.\n  with torch.cuda.amp.autocast(enabled=(DEVICE=='cuda')):\n"
          ]
        },
        {
          "output_type": "stream",
          "name": "stdout",
          "text": [
            "[fold 2] epoch 4/12 it 50/2742 loss 0.6795 lr 1.12e-04 elapsed 18.1s\n"
          ]
        },
        {
          "output_type": "stream",
          "name": "stdout",
          "text": [
            "[fold 2] epoch 4/12 it 100/2742 loss 0.6812 lr 1.12e-04 elapsed 35.3s\n"
          ]
        },
        {
          "output_type": "stream",
          "name": "stdout",
          "text": [
            "[fold 2] epoch 4/12 it 150/2742 loss 0.6858 lr 1.12e-04 elapsed 52.6s\n"
          ]
        },
        {
          "output_type": "stream",
          "name": "stdout",
          "text": [
            "[fold 2] epoch 4/12 it 200/2742 loss 0.6837 lr 1.12e-04 elapsed 69.8s\n"
          ]
        },
        {
          "output_type": "stream",
          "name": "stdout",
          "text": [
            "[fold 2] epoch 4/12 it 250/2742 loss 0.6857 lr 1.12e-04 elapsed 87.1s\n"
          ]
        },
        {
          "output_type": "stream",
          "name": "stdout",
          "text": [
            "[fold 2] epoch 4/12 it 300/2742 loss 0.6862 lr 1.12e-04 elapsed 104.3s\n"
          ]
        },
        {
          "output_type": "stream",
          "name": "stdout",
          "text": [
            "[fold 2] epoch 4/12 it 350/2742 loss 0.6859 lr 1.11e-04 elapsed 121.6s\n"
          ]
        },
        {
          "output_type": "stream",
          "name": "stdout",
          "text": [
            "[fold 2] epoch 4/12 it 400/2742 loss 0.6846 lr 1.11e-04 elapsed 138.9s\n"
          ]
        },
        {
          "output_type": "stream",
          "name": "stdout",
          "text": [
            "[fold 2] epoch 4/12 it 450/2742 loss 0.6857 lr 1.11e-04 elapsed 156.1s\n"
          ]
        },
        {
          "output_type": "stream",
          "name": "stdout",
          "text": [
            "[fold 2] epoch 4/12 it 500/2742 loss 0.6858 lr 1.11e-04 elapsed 173.4s\n"
          ]
        },
        {
          "output_type": "stream",
          "name": "stdout",
          "text": [
            "[fold 2] epoch 4/12 it 550/2742 loss 0.6855 lr 1.11e-04 elapsed 190.6s\n"
          ]
        },
        {
          "output_type": "stream",
          "name": "stdout",
          "text": [
            "[fold 2] epoch 4/12 it 600/2742 loss 0.6874 lr 1.11e-04 elapsed 207.9s\n"
          ]
        },
        {
          "output_type": "stream",
          "name": "stdout",
          "text": [
            "[fold 2] epoch 4/12 it 650/2742 loss 0.6865 lr 1.11e-04 elapsed 225.1s\n"
          ]
        },
        {
          "output_type": "stream",
          "name": "stdout",
          "text": [
            "[fold 2] epoch 4/12 it 700/2742 loss 0.6865 lr 1.10e-04 elapsed 242.3s\n"
          ]
        },
        {
          "output_type": "stream",
          "name": "stdout",
          "text": [
            "[fold 2] epoch 4/12 it 750/2742 loss 0.6868 lr 1.10e-04 elapsed 259.6s\n"
          ]
        },
        {
          "output_type": "stream",
          "name": "stdout",
          "text": [
            "[fold 2] epoch 4/12 it 800/2742 loss 0.6872 lr 1.10e-04 elapsed 277.1s\n"
          ]
        },
        {
          "output_type": "stream",
          "name": "stdout",
          "text": [
            "[fold 2] epoch 4/12 it 850/2742 loss 0.6868 lr 1.10e-04 elapsed 294.3s\n"
          ]
        },
        {
          "output_type": "stream",
          "name": "stdout",
          "text": [
            "[fold 2] epoch 4/12 it 900/2742 loss 0.6878 lr 1.10e-04 elapsed 311.5s\n"
          ]
        },
        {
          "output_type": "stream",
          "name": "stdout",
          "text": [
            "[fold 2] epoch 4/12 it 950/2742 loss 0.6874 lr 1.10e-04 elapsed 328.8s\n"
          ]
        },
        {
          "output_type": "stream",
          "name": "stdout",
          "text": [
            "[fold 2] epoch 4/12 it 1000/2742 loss 0.6872 lr 1.09e-04 elapsed 346.0s\n"
          ]
        },
        {
          "output_type": "stream",
          "name": "stdout",
          "text": [
            "[fold 2] epoch 4/12 it 1050/2742 loss 0.6872 lr 1.09e-04 elapsed 363.2s\n"
          ]
        },
        {
          "output_type": "stream",
          "name": "stdout",
          "text": [
            "[fold 2] epoch 4/12 it 1100/2742 loss 0.6871 lr 1.09e-04 elapsed 380.5s\n"
          ]
        },
        {
          "output_type": "stream",
          "name": "stdout",
          "text": [
            "[fold 2] epoch 4/12 it 1150/2742 loss 0.6873 lr 1.09e-04 elapsed 397.8s\n"
          ]
        },
        {
          "output_type": "stream",
          "name": "stdout",
          "text": [
            "[fold 2] epoch 4/12 it 1200/2742 loss 0.6873 lr 1.09e-04 elapsed 415.0s\n"
          ]
        },
        {
          "output_type": "stream",
          "name": "stdout",
          "text": [
            "[fold 2] epoch 4/12 it 1250/2742 loss 0.6870 lr 1.09e-04 elapsed 432.3s\n"
          ]
        },
        {
          "output_type": "stream",
          "name": "stdout",
          "text": [
            "[fold 2] epoch 4/12 it 1300/2742 loss 0.6874 lr 1.08e-04 elapsed 449.6s\n"
          ]
        },
        {
          "output_type": "stream",
          "name": "stdout",
          "text": [
            "[fold 2] epoch 4/12 it 1350/2742 loss 0.6873 lr 1.08e-04 elapsed 466.9s\n"
          ]
        },
        {
          "output_type": "stream",
          "name": "stdout",
          "text": [
            "[fold 2] epoch 4/12 it 1400/2742 loss 0.6873 lr 1.08e-04 elapsed 484.2s\n"
          ]
        },
        {
          "output_type": "stream",
          "name": "stdout",
          "text": [
            "[fold 2] epoch 4/12 it 1450/2742 loss 0.6879 lr 1.08e-04 elapsed 501.4s\n"
          ]
        },
        {
          "output_type": "stream",
          "name": "stdout",
          "text": [
            "[fold 2] epoch 4/12 it 1500/2742 loss 0.6884 lr 1.08e-04 elapsed 518.6s\n"
          ]
        },
        {
          "output_type": "stream",
          "name": "stdout",
          "text": [
            "[fold 2] epoch 4/12 it 1550/2742 loss 0.6882 lr 1.08e-04 elapsed 535.9s\n"
          ]
        },
        {
          "output_type": "stream",
          "name": "stdout",
          "text": [
            "[fold 2] epoch 4/12 it 1600/2742 loss 0.6885 lr 1.07e-04 elapsed 553.1s\n"
          ]
        },
        {
          "output_type": "stream",
          "name": "stdout",
          "text": [
            "[fold 2] epoch 4/12 it 1650/2742 loss 0.6886 lr 1.07e-04 elapsed 570.4s\n"
          ]
        },
        {
          "output_type": "stream",
          "name": "stdout",
          "text": [
            "[fold 2] epoch 4/12 it 1700/2742 loss 0.6887 lr 1.07e-04 elapsed 587.6s\n"
          ]
        },
        {
          "output_type": "stream",
          "name": "stdout",
          "text": [
            "[fold 2] epoch 4/12 it 1750/2742 loss 0.6887 lr 1.07e-04 elapsed 604.8s\n"
          ]
        },
        {
          "output_type": "stream",
          "name": "stdout",
          "text": [
            "[fold 2] epoch 4/12 it 1800/2742 loss 0.6886 lr 1.07e-04 elapsed 622.1s\n"
          ]
        },
        {
          "output_type": "stream",
          "name": "stdout",
          "text": [
            "[fold 2] epoch 4/12 it 1850/2742 loss 0.6885 lr 1.07e-04 elapsed 639.3s\n"
          ]
        },
        {
          "output_type": "stream",
          "name": "stdout",
          "text": [
            "[fold 2] epoch 4/12 it 1900/2742 loss 0.6884 lr 1.06e-04 elapsed 656.6s\n"
          ]
        },
        {
          "output_type": "stream",
          "name": "stdout",
          "text": [
            "[fold 2] epoch 4/12 it 1950/2742 loss 0.6883 lr 1.06e-04 elapsed 673.8s\n"
          ]
        },
        {
          "output_type": "stream",
          "name": "stdout",
          "text": [
            "[fold 2] epoch 4/12 it 2000/2742 loss 0.6884 lr 1.06e-04 elapsed 691.1s\n"
          ]
        },
        {
          "output_type": "stream",
          "name": "stdout",
          "text": [
            "[fold 2] epoch 4/12 it 2050/2742 loss 0.6881 lr 1.06e-04 elapsed 708.3s\n"
          ]
        },
        {
          "output_type": "stream",
          "name": "stdout",
          "text": [
            "[fold 2] epoch 4/12 it 2100/2742 loss 0.6880 lr 1.06e-04 elapsed 725.6s\n"
          ]
        },
        {
          "output_type": "stream",
          "name": "stdout",
          "text": [
            "[fold 2] epoch 4/12 it 2150/2742 loss 0.6880 lr 1.06e-04 elapsed 742.9s\n"
          ]
        },
        {
          "output_type": "stream",
          "name": "stdout",
          "text": [
            "[fold 2] epoch 4/12 it 2200/2742 loss 0.6880 lr 1.05e-04 elapsed 760.1s\n"
          ]
        },
        {
          "output_type": "stream",
          "name": "stdout",
          "text": [
            "[fold 2] epoch 4/12 it 2250/2742 loss 0.6882 lr 1.05e-04 elapsed 777.4s\n"
          ]
        },
        {
          "output_type": "stream",
          "name": "stdout",
          "text": [
            "[fold 2] epoch 4/12 it 2300/2742 loss 0.6880 lr 1.05e-04 elapsed 794.6s\n"
          ]
        },
        {
          "output_type": "stream",
          "name": "stdout",
          "text": [
            "[fold 2] epoch 4/12 it 2350/2742 loss 0.6882 lr 1.05e-04 elapsed 811.9s\n"
          ]
        },
        {
          "output_type": "stream",
          "name": "stdout",
          "text": [
            "[fold 2] epoch 4/12 it 2400/2742 loss 0.6884 lr 1.05e-04 elapsed 829.2s\n"
          ]
        },
        {
          "output_type": "stream",
          "name": "stdout",
          "text": [
            "[fold 2] epoch 4/12 it 2450/2742 loss 0.6883 lr 1.04e-04 elapsed 846.5s\n"
          ]
        },
        {
          "output_type": "stream",
          "name": "stdout",
          "text": [
            "[fold 2] epoch 4/12 it 2500/2742 loss 0.6884 lr 1.04e-04 elapsed 863.7s\n"
          ]
        },
        {
          "output_type": "stream",
          "name": "stdout",
          "text": [
            "[fold 2] epoch 4/12 it 2550/2742 loss 0.6883 lr 1.04e-04 elapsed 881.0s\n"
          ]
        },
        {
          "output_type": "stream",
          "name": "stdout",
          "text": [
            "[fold 2] epoch 4/12 it 2600/2742 loss 0.6881 lr 1.04e-04 elapsed 898.2s\n"
          ]
        },
        {
          "output_type": "stream",
          "name": "stdout",
          "text": [
            "[fold 2] epoch 4/12 it 2650/2742 loss 0.6882 lr 1.04e-04 elapsed 915.5s\n"
          ]
        },
        {
          "output_type": "stream",
          "name": "stdout",
          "text": [
            "[fold 2] epoch 4/12 it 2700/2742 loss 0.6880 lr 1.03e-04 elapsed 932.8s\n"
          ]
        },
        {
          "output_type": "stream",
          "name": "stderr",
          "text": [
            "/tmp/ipykernel_1774/544503444.py:60: RuntimeWarning: overflow encountered in exp\n  return 1 / (1 + np.exp(-x))\n"
          ]
        },
        {
          "output_type": "stream",
          "name": "stdout",
          "text": [
            "[fold 2] epoch 4 val macro AUC: 0.92379\n  ETT - Abnormal: 0.9699\n  ETT - Borderline: 0.9338\n  ETT - Normal: 0.9853\n  NGT - Abnormal: 0.8970\n  NGT - Borderline: 0.9416\n  NGT - Incompletely Imaged: 0.9704\n  NGT - Normal: 0.9845\n  CVC - Abnormal: 0.8327\n  CVC - Borderline: 0.7988\n[fold 2] epoch 4 train_loss 0.6880 time 1090.2s\n"
          ]
        },
        {
          "output_type": "stream",
          "name": "stdout",
          "text": [
            "[debug] first-batch targets sum per class: [0.0, 0.0, 3.0, 1.0, 0.0, 1.0, 2.0, 0.0, 4.0]\n"
          ]
        },
        {
          "output_type": "stream",
          "name": "stderr",
          "text": [
            "/tmp/ipykernel_1774/544503444.py:126: FutureWarning: `torch.cuda.amp.autocast(args...)` is deprecated. Please use `torch.amp.autocast('cuda', args...)` instead.\n  with torch.cuda.amp.autocast(enabled=(DEVICE=='cuda')):\n"
          ]
        },
        {
          "output_type": "stream",
          "name": "stdout",
          "text": [
            "[fold 2] epoch 5/12 it 50/2742 loss 0.6434 lr 1.03e-04 elapsed 18.1s\n"
          ]
        },
        {
          "output_type": "stream",
          "name": "stdout",
          "text": [
            "[fold 2] epoch 5/12 it 100/2742 loss 0.6433 lr 1.03e-04 elapsed 35.4s\n"
          ]
        },
        {
          "output_type": "stream",
          "name": "stdout",
          "text": [
            "[fold 2] epoch 5/12 it 150/2742 loss 0.6509 lr 1.03e-04 elapsed 52.6s\n"
          ]
        },
        {
          "output_type": "stream",
          "name": "stdout",
          "text": [
            "[fold 2] epoch 5/12 it 200/2742 loss 0.6523 lr 1.03e-04 elapsed 69.8s\n"
          ]
        },
        {
          "output_type": "stream",
          "name": "stdout",
          "text": [
            "[fold 2] epoch 5/12 it 250/2742 loss 0.6518 lr 1.02e-04 elapsed 87.1s\n"
          ]
        },
        {
          "output_type": "stream",
          "name": "stdout",
          "text": [
            "[fold 2] epoch 5/12 it 300/2742 loss 0.6532 lr 1.02e-04 elapsed 104.3s\n"
          ]
        },
        {
          "output_type": "stream",
          "name": "stdout",
          "text": [
            "[fold 2] epoch 5/12 it 350/2742 loss 0.6538 lr 1.02e-04 elapsed 121.6s\n"
          ]
        },
        {
          "output_type": "stream",
          "name": "stdout",
          "text": [
            "[fold 2] epoch 5/12 it 400/2742 loss 0.6543 lr 1.02e-04 elapsed 138.9s\n"
          ]
        },
        {
          "output_type": "stream",
          "name": "stdout",
          "text": [
            "[fold 2] epoch 5/12 it 450/2742 loss 0.6547 lr 1.02e-04 elapsed 156.1s\n"
          ]
        },
        {
          "output_type": "stream",
          "name": "stdout",
          "text": [
            "[fold 2] epoch 5/12 it 500/2742 loss 0.6560 lr 1.01e-04 elapsed 173.4s\n"
          ]
        },
        {
          "output_type": "stream",
          "name": "stdout",
          "text": [
            "[fold 2] epoch 5/12 it 550/2742 loss 0.6552 lr 1.01e-04 elapsed 190.6s\n"
          ]
        },
        {
          "output_type": "stream",
          "name": "stdout",
          "text": [
            "[fold 2] epoch 5/12 it 600/2742 loss 0.6558 lr 1.01e-04 elapsed 207.9s\n"
          ]
        },
        {
          "output_type": "stream",
          "name": "stdout",
          "text": [
            "[fold 2] epoch 5/12 it 650/2742 loss 0.6561 lr 1.01e-04 elapsed 225.1s\n"
          ]
        },
        {
          "output_type": "stream",
          "name": "stdout",
          "text": [
            "[fold 2] epoch 5/12 it 700/2742 loss 0.6558 lr 1.01e-04 elapsed 242.4s\n"
          ]
        },
        {
          "output_type": "stream",
          "name": "stdout",
          "text": [
            "[fold 2] epoch 5/12 it 750/2742 loss 0.6558 lr 1.00e-04 elapsed 259.7s\n"
          ]
        },
        {
          "output_type": "stream",
          "name": "stdout",
          "text": [
            "[fold 2] epoch 5/12 it 800/2742 loss 0.6570 lr 1.00e-04 elapsed 276.9s\n"
          ]
        },
        {
          "output_type": "stream",
          "name": "stdout",
          "text": [
            "[fold 2] epoch 5/12 it 850/2742 loss 0.6574 lr 9.99e-05 elapsed 294.2s\n"
          ]
        },
        {
          "output_type": "stream",
          "name": "stdout",
          "text": [
            "[fold 2] epoch 5/12 it 900/2742 loss 0.6579 lr 9.97e-05 elapsed 311.4s\n"
          ]
        },
        {
          "output_type": "stream",
          "name": "stdout",
          "text": [
            "[fold 2] epoch 5/12 it 950/2742 loss 0.6578 lr 9.95e-05 elapsed 328.7s\n"
          ]
        },
        {
          "output_type": "stream",
          "name": "stdout",
          "text": [
            "[fold 2] epoch 5/12 it 1000/2742 loss 0.6579 lr 9.93e-05 elapsed 345.9s\n"
          ]
        },
        {
          "output_type": "stream",
          "name": "stdout",
          "text": [
            "[fold 2] epoch 5/12 it 1050/2742 loss 0.6574 lr 9.91e-05 elapsed 363.1s\n"
          ]
        },
        {
          "output_type": "stream",
          "name": "stdout",
          "text": [
            "[fold 2] epoch 5/12 it 1100/2742 loss 0.6575 lr 9.89e-05 elapsed 380.4s\n"
          ]
        },
        {
          "output_type": "stream",
          "name": "stdout",
          "text": [
            "[fold 2] epoch 5/12 it 1150/2742 loss 0.6572 lr 9.87e-05 elapsed 397.6s\n"
          ]
        },
        {
          "output_type": "stream",
          "name": "stdout",
          "text": [
            "[fold 2] epoch 5/12 it 1200/2742 loss 0.6573 lr 9.84e-05 elapsed 414.9s\n"
          ]
        },
        {
          "output_type": "stream",
          "name": "stdout",
          "text": [
            "[fold 2] epoch 5/12 it 1250/2742 loss 0.6568 lr 9.82e-05 elapsed 432.1s\n"
          ]
        },
        {
          "output_type": "stream",
          "name": "stdout",
          "text": [
            "[fold 2] epoch 5/12 it 1300/2742 loss 0.6572 lr 9.80e-05 elapsed 449.4s\n"
          ]
        },
        {
          "output_type": "stream",
          "name": "stdout",
          "text": [
            "[fold 2] epoch 5/12 it 1350/2742 loss 0.6573 lr 9.78e-05 elapsed 466.7s\n"
          ]
        },
        {
          "output_type": "stream",
          "name": "stdout",
          "text": [
            "[fold 2] epoch 5/12 it 1400/2742 loss 0.6573 lr 9.76e-05 elapsed 483.9s\n"
          ]
        },
        {
          "output_type": "stream",
          "name": "stdout",
          "text": [
            "[fold 2] epoch 5/12 it 1450/2742 loss 0.6575 lr 9.74e-05 elapsed 501.1s\n"
          ]
        },
        {
          "output_type": "stream",
          "name": "stdout",
          "text": [
            "[fold 2] epoch 5/12 it 1500/2742 loss 0.6573 lr 9.71e-05 elapsed 518.4s\n"
          ]
        },
        {
          "output_type": "stream",
          "name": "stdout",
          "text": [
            "[fold 2] epoch 5/12 it 1550/2742 loss 0.6569 lr 9.69e-05 elapsed 535.6s\n"
          ]
        },
        {
          "output_type": "stream",
          "name": "stdout",
          "text": [
            "[fold 2] epoch 5/12 it 1600/2742 loss 0.6570 lr 9.67e-05 elapsed 552.9s\n"
          ]
        },
        {
          "output_type": "stream",
          "name": "stdout",
          "text": [
            "[fold 2] epoch 5/12 it 1650/2742 loss 0.6575 lr 9.65e-05 elapsed 570.1s\n"
          ]
        },
        {
          "output_type": "stream",
          "name": "stdout",
          "text": [
            "[fold 2] epoch 5/12 it 1700/2742 loss 0.6576 lr 9.63e-05 elapsed 587.4s\n"
          ]
        },
        {
          "output_type": "stream",
          "name": "stdout",
          "text": [
            "[fold 2] epoch 5/12 it 1750/2742 loss 0.6575 lr 9.60e-05 elapsed 604.6s\n"
          ]
        },
        {
          "output_type": "stream",
          "name": "stdout",
          "text": [
            "[fold 2] epoch 5/12 it 1800/2742 loss 0.6576 lr 9.58e-05 elapsed 621.9s\n"
          ]
        },
        {
          "output_type": "stream",
          "name": "stdout",
          "text": [
            "[fold 2] epoch 5/12 it 1850/2742 loss 0.6583 lr 9.56e-05 elapsed 639.1s\n"
          ]
        },
        {
          "output_type": "stream",
          "name": "stdout",
          "text": [
            "[fold 2] epoch 5/12 it 1900/2742 loss 0.6582 lr 9.54e-05 elapsed 656.4s\n"
          ]
        },
        {
          "output_type": "stream",
          "name": "stdout",
          "text": [
            "[fold 2] epoch 5/12 it 1950/2742 loss 0.6583 lr 9.52e-05 elapsed 673.6s\n"
          ]
        },
        {
          "output_type": "stream",
          "name": "stdout",
          "text": [
            "[fold 2] epoch 5/12 it 2000/2742 loss 0.6586 lr 9.49e-05 elapsed 690.9s\n"
          ]
        },
        {
          "output_type": "stream",
          "name": "stdout",
          "text": [
            "[fold 2] epoch 5/12 it 2050/2742 loss 0.6585 lr 9.47e-05 elapsed 708.1s\n"
          ]
        },
        {
          "output_type": "stream",
          "name": "stdout",
          "text": [
            "[fold 2] epoch 5/12 it 2100/2742 loss 0.6587 lr 9.45e-05 elapsed 725.4s\n"
          ]
        },
        {
          "output_type": "stream",
          "name": "stdout",
          "text": [
            "[fold 2] epoch 5/12 it 2150/2742 loss 0.6588 lr 9.43e-05 elapsed 742.6s\n"
          ]
        },
        {
          "output_type": "stream",
          "name": "stdout",
          "text": [
            "[fold 2] epoch 5/12 it 2200/2742 loss 0.6588 lr 9.40e-05 elapsed 759.9s\n"
          ]
        },
        {
          "output_type": "stream",
          "name": "stdout",
          "text": [
            "[fold 2] epoch 5/12 it 2250/2742 loss 0.6587 lr 9.38e-05 elapsed 777.2s\n"
          ]
        },
        {
          "output_type": "stream",
          "name": "stdout",
          "text": [
            "[fold 2] epoch 5/12 it 2300/2742 loss 0.6589 lr 9.36e-05 elapsed 794.4s\n"
          ]
        },
        {
          "output_type": "stream",
          "name": "stdout",
          "text": [
            "[fold 2] epoch 5/12 it 2350/2742 loss 0.6589 lr 9.33e-05 elapsed 811.7s\n"
          ]
        },
        {
          "output_type": "stream",
          "name": "stdout",
          "text": [
            "[fold 2] epoch 5/12 it 2400/2742 loss 0.6593 lr 9.31e-05 elapsed 829.0s\n"
          ]
        },
        {
          "output_type": "stream",
          "name": "stdout",
          "text": [
            "[fold 2] epoch 5/12 it 2450/2742 loss 0.6593 lr 9.29e-05 elapsed 846.2s\n"
          ]
        },
        {
          "output_type": "stream",
          "name": "stdout",
          "text": [
            "[fold 2] epoch 5/12 it 2500/2742 loss 0.6598 lr 9.26e-05 elapsed 863.5s\n"
          ]
        },
        {
          "output_type": "stream",
          "name": "stdout",
          "text": [
            "[fold 2] epoch 5/12 it 2550/2742 loss 0.6596 lr 9.24e-05 elapsed 880.8s\n"
          ]
        },
        {
          "output_type": "stream",
          "name": "stdout",
          "text": [
            "[fold 2] epoch 5/12 it 2600/2742 loss 0.6598 lr 9.22e-05 elapsed 898.0s\n"
          ]
        },
        {
          "output_type": "stream",
          "name": "stdout",
          "text": [
            "[fold 2] epoch 5/12 it 2650/2742 loss 0.6598 lr 9.19e-05 elapsed 915.3s\n"
          ]
        },
        {
          "output_type": "stream",
          "name": "stdout",
          "text": [
            "[fold 2] epoch 5/12 it 2700/2742 loss 0.6597 lr 9.17e-05 elapsed 932.6s\n"
          ]
        },
        {
          "output_type": "stream",
          "name": "stdout",
          "text": [
            "[fold 2] epoch 5 val macro AUC: 0.90186\n  ETT - Abnormal: 0.9841\n  ETT - Borderline: 0.9281\n  ETT - Normal: 0.9833\n  NGT - Abnormal: 0.7970\n  NGT - Borderline: 0.8409\n  NGT - Incompletely Imaged: 0.9696\n  NGT - Normal: 0.9766\n  CVC - Abnormal: 0.8447\n  CVC - Borderline: 0.7925\n[fold 2] epoch 5 train_loss 0.6597 time 1084.0s\n"
          ]
        },
        {
          "output_type": "stream",
          "name": "stdout",
          "text": [
            "[debug] first-batch targets sum per class: [0.0, 0.0, 4.0, 0.0, 0.0, 3.0, 0.0, 1.0, 1.0]\n"
          ]
        },
        {
          "output_type": "stream",
          "name": "stderr",
          "text": [
            "/tmp/ipykernel_1774/544503444.py:126: FutureWarning: `torch.cuda.amp.autocast(args...)` is deprecated. Please use `torch.amp.autocast('cuda', args...)` instead.\n  with torch.cuda.amp.autocast(enabled=(DEVICE=='cuda')):\n"
          ]
        },
        {
          "output_type": "stream",
          "name": "stdout",
          "text": [
            "[fold 2] epoch 6/12 it 50/2742 loss 0.6353 lr 9.13e-05 elapsed 18.2s\n"
          ]
        },
        {
          "output_type": "stream",
          "name": "stdout",
          "text": [
            "[fold 2] epoch 6/12 it 100/2742 loss 0.6311 lr 9.10e-05 elapsed 35.8s\n"
          ]
        },
        {
          "output_type": "stream",
          "name": "stdout",
          "text": [
            "[fold 2] epoch 6/12 it 150/2742 loss 0.6324 lr 9.08e-05 elapsed 53.0s\n"
          ]
        },
        {
          "output_type": "stream",
          "name": "stdout",
          "text": [
            "[fold 2] epoch 6/12 it 200/2742 loss 0.6326 lr 9.06e-05 elapsed 70.3s\n"
          ]
        },
        {
          "output_type": "stream",
          "name": "stdout",
          "text": [
            "[fold 2] epoch 6/12 it 250/2742 loss 0.6322 lr 9.03e-05 elapsed 87.5s\n"
          ]
        },
        {
          "output_type": "stream",
          "name": "stdout",
          "text": [
            "[fold 2] epoch 6/12 it 300/2742 loss 0.6322 lr 9.01e-05 elapsed 104.8s\n"
          ]
        },
        {
          "output_type": "stream",
          "name": "stdout",
          "text": [
            "[fold 2] epoch 6/12 it 350/2742 loss 0.6329 lr 8.98e-05 elapsed 122.1s\n"
          ]
        },
        {
          "output_type": "stream",
          "name": "stdout",
          "text": [
            "[fold 2] epoch 6/12 it 400/2742 loss 0.6331 lr 8.96e-05 elapsed 139.3s\n"
          ]
        },
        {
          "output_type": "stream",
          "name": "stdout",
          "text": [
            "[fold 2] epoch 6/12 it 450/2742 loss 0.6340 lr 8.94e-05 elapsed 156.6s\n"
          ]
        },
        {
          "output_type": "stream",
          "name": "stdout",
          "text": [
            "[fold 2] epoch 6/12 it 500/2742 loss 0.6329 lr 8.91e-05 elapsed 173.9s\n"
          ]
        },
        {
          "output_type": "stream",
          "name": "stdout",
          "text": [
            "[fold 2] epoch 6/12 it 550/2742 loss 0.6326 lr 8.89e-05 elapsed 191.1s\n"
          ]
        },
        {
          "output_type": "stream",
          "name": "stdout",
          "text": [
            "[fold 2] epoch 6/12 it 600/2742 loss 0.6333 lr 8.86e-05 elapsed 208.4s\n"
          ]
        },
        {
          "output_type": "stream",
          "name": "stdout",
          "text": [
            "[fold 2] epoch 6/12 it 650/2742 loss 0.6326 lr 8.84e-05 elapsed 225.6s\n"
          ]
        },
        {
          "output_type": "stream",
          "name": "stdout",
          "text": [
            "[fold 2] epoch 6/12 it 700/2742 loss 0.6326 lr 8.81e-05 elapsed 242.9s\n"
          ]
        },
        {
          "output_type": "stream",
          "name": "stdout",
          "text": [
            "[fold 2] epoch 6/12 it 750/2742 loss 0.6327 lr 8.79e-05 elapsed 260.2s\n"
          ]
        },
        {
          "output_type": "stream",
          "name": "stdout",
          "text": [
            "[fold 2] epoch 6/12 it 800/2742 loss 0.6323 lr 8.77e-05 elapsed 277.4s\n"
          ]
        },
        {
          "output_type": "stream",
          "name": "stdout",
          "text": [
            "[fold 2] epoch 6/12 it 850/2742 loss 0.6316 lr 8.74e-05 elapsed 294.6s\n"
          ]
        },
        {
          "output_type": "stream",
          "name": "stdout",
          "text": [
            "[fold 2] epoch 6/12 it 900/2742 loss 0.6316 lr 8.72e-05 elapsed 311.9s\n"
          ]
        },
        {
          "output_type": "stream",
          "name": "stdout",
          "text": [
            "[fold 2] epoch 6/12 it 950/2742 loss 0.6317 lr 8.69e-05 elapsed 329.1s\n"
          ]
        },
        {
          "output_type": "stream",
          "name": "stdout",
          "text": [
            "[fold 2] epoch 6/12 it 1000/2742 loss 0.6318 lr 8.67e-05 elapsed 346.3s\n"
          ]
        },
        {
          "output_type": "stream",
          "name": "stdout",
          "text": [
            "[fold 2] epoch 6/12 it 1050/2742 loss 0.6313 lr 8.64e-05 elapsed 363.5s\n"
          ]
        },
        {
          "output_type": "stream",
          "name": "stdout",
          "text": [
            "[fold 2] epoch 6/12 it 1100/2742 loss 0.6312 lr 8.62e-05 elapsed 380.8s\n"
          ]
        },
        {
          "output_type": "stream",
          "name": "stdout",
          "text": [
            "[fold 2] epoch 6/12 it 1150/2742 loss 0.6308 lr 8.59e-05 elapsed 398.0s\n"
          ]
        },
        {
          "output_type": "stream",
          "name": "stdout",
          "text": [
            "[fold 2] epoch 6/12 it 1200/2742 loss 0.6304 lr 8.57e-05 elapsed 415.2s\n"
          ]
        },
        {
          "output_type": "stream",
          "name": "stdout",
          "text": [
            "[fold 2] epoch 6/12 it 1250/2742 loss 0.6309 lr 8.54e-05 elapsed 432.5s\n"
          ]
        },
        {
          "output_type": "stream",
          "name": "stdout",
          "text": [
            "[fold 2] epoch 6/12 it 1300/2742 loss 0.6310 lr 8.52e-05 elapsed 449.7s\n"
          ]
        },
        {
          "output_type": "stream",
          "name": "stdout",
          "text": [
            "[fold 2] epoch 6/12 it 1350/2742 loss 0.6308 lr 8.49e-05 elapsed 467.0s\n"
          ]
        },
        {
          "output_type": "stream",
          "name": "stdout",
          "text": [
            "[fold 2] epoch 6/12 it 1400/2742 loss 0.6308 lr 8.47e-05 elapsed 484.2s\n"
          ]
        },
        {
          "output_type": "stream",
          "name": "stdout",
          "text": [
            "[fold 2] epoch 6/12 it 1450/2742 loss 0.6304 lr 8.44e-05 elapsed 501.5s\n"
          ]
        },
        {
          "output_type": "stream",
          "name": "stdout",
          "text": [
            "[fold 2] epoch 6/12 it 1500/2742 loss 0.6303 lr 8.42e-05 elapsed 518.7s\n"
          ]
        },
        {
          "output_type": "stream",
          "name": "stdout",
          "text": [
            "[fold 2] epoch 6/12 it 1550/2742 loss 0.6301 lr 8.39e-05 elapsed 535.9s\n"
          ]
        },
        {
          "output_type": "stream",
          "name": "stdout",
          "text": [
            "[fold 2] epoch 6/12 it 1600/2742 loss 0.6306 lr 8.37e-05 elapsed 553.2s\n"
          ]
        },
        {
          "output_type": "stream",
          "name": "stdout",
          "text": [
            "[fold 2] epoch 6/12 it 1650/2742 loss 0.6306 lr 8.34e-05 elapsed 570.4s\n"
          ]
        },
        {
          "output_type": "stream",
          "name": "stdout",
          "text": [
            "[fold 2] epoch 6/12 it 1700/2742 loss 0.6304 lr 8.32e-05 elapsed 587.7s\n"
          ]
        },
        {
          "output_type": "stream",
          "name": "stdout",
          "text": [
            "[fold 2] epoch 6/12 it 1750/2742 loss 0.6303 lr 8.29e-05 elapsed 604.9s\n"
          ]
        },
        {
          "output_type": "stream",
          "name": "stdout",
          "text": [
            "[fold 2] epoch 6/12 it 1800/2742 loss 0.6303 lr 8.26e-05 elapsed 622.1s\n"
          ]
        },
        {
          "output_type": "stream",
          "name": "stdout",
          "text": [
            "[fold 2] epoch 6/12 it 1850/2742 loss 0.6304 lr 8.24e-05 elapsed 639.4s\n"
          ]
        },
        {
          "output_type": "stream",
          "name": "stdout",
          "text": [
            "[fold 2] epoch 6/12 it 1900/2742 loss 0.6305 lr 8.21e-05 elapsed 656.6s\n"
          ]
        },
        {
          "output_type": "stream",
          "name": "stdout",
          "text": [
            "[fold 2] epoch 6/12 it 1950/2742 loss 0.6304 lr 8.19e-05 elapsed 673.9s\n"
          ]
        },
        {
          "output_type": "stream",
          "name": "stdout",
          "text": [
            "[fold 2] epoch 6/12 it 2000/2742 loss 0.6304 lr 8.16e-05 elapsed 691.1s\n"
          ]
        },
        {
          "output_type": "stream",
          "name": "stdout",
          "text": [
            "[fold 2] epoch 6/12 it 2050/2742 loss 0.6305 lr 8.14e-05 elapsed 708.3s\n"
          ]
        },
        {
          "output_type": "stream",
          "name": "stdout",
          "text": [
            "[fold 2] epoch 6/12 it 2100/2742 loss 0.6307 lr 8.11e-05 elapsed 725.6s\n"
          ]
        },
        {
          "output_type": "stream",
          "name": "stdout",
          "text": [
            "[fold 2] epoch 6/12 it 2150/2742 loss 0.6306 lr 8.08e-05 elapsed 742.8s\n"
          ]
        },
        {
          "output_type": "stream",
          "name": "stdout",
          "text": [
            "[fold 2] epoch 6/12 it 2200/2742 loss 0.6308 lr 8.06e-05 elapsed 760.0s\n"
          ]
        },
        {
          "output_type": "stream",
          "name": "stdout",
          "text": [
            "[fold 2] epoch 6/12 it 2250/2742 loss 0.6306 lr 8.03e-05 elapsed 777.3s\n"
          ]
        },
        {
          "output_type": "stream",
          "name": "stdout",
          "text": [
            "[fold 2] epoch 6/12 it 2300/2742 loss 0.6308 lr 8.01e-05 elapsed 794.6s\n"
          ]
        },
        {
          "output_type": "stream",
          "name": "stdout",
          "text": [
            "[fold 2] epoch 6/12 it 2350/2742 loss 0.6308 lr 7.98e-05 elapsed 811.8s\n"
          ]
        },
        {
          "output_type": "stream",
          "name": "stdout",
          "text": [
            "[fold 2] epoch 6/12 it 2400/2742 loss 0.6308 lr 7.96e-05 elapsed 829.1s\n"
          ]
        },
        {
          "output_type": "stream",
          "name": "stdout",
          "text": [
            "[fold 2] epoch 6/12 it 2450/2742 loss 0.6306 lr 7.93e-05 elapsed 846.3s\n"
          ]
        },
        {
          "output_type": "stream",
          "name": "stdout",
          "text": [
            "[fold 2] epoch 6/12 it 2500/2742 loss 0.6304 lr 7.90e-05 elapsed 863.6s\n"
          ]
        },
        {
          "output_type": "stream",
          "name": "stdout",
          "text": [
            "[fold 2] epoch 6/12 it 2550/2742 loss 0.6303 lr 7.88e-05 elapsed 880.8s\n"
          ]
        },
        {
          "output_type": "stream",
          "name": "stdout",
          "text": [
            "[fold 2] epoch 6/12 it 2600/2742 loss 0.6303 lr 7.85e-05 elapsed 898.1s\n"
          ]
        },
        {
          "output_type": "stream",
          "name": "stdout",
          "text": [
            "[fold 2] epoch 6/12 it 2650/2742 loss 0.6302 lr 7.82e-05 elapsed 915.3s\n"
          ]
        },
        {
          "output_type": "stream",
          "name": "stdout",
          "text": [
            "[fold 2] epoch 6/12 it 2700/2742 loss 0.6303 lr 7.80e-05 elapsed 932.5s\n"
          ]
        },
        {
          "output_type": "stream",
          "name": "stdout",
          "text": [
            "[fold 2] epoch 6 val macro AUC: 0.88093\n  ETT - Abnormal: 0.9684\n  ETT - Borderline: 0.8426\n  ETT - Normal: 0.9855\n  NGT - Abnormal: 0.7805\n  NGT - Borderline: 0.8225\n  NGT - Incompletely Imaged: 0.9678\n  NGT - Normal: 0.9570\n  CVC - Abnormal: 0.8372\n  CVC - Borderline: 0.7666\n[fold 2] epoch 6 train_loss 0.6306 time 1083.8s\n"
          ]
        },
        {
          "output_type": "stream",
          "name": "stdout",
          "text": [
            "[debug] first-batch targets sum per class: [0.0, 0.0, 3.0, 0.0, 0.0, 1.0, 2.0, 2.0, 2.0]\n"
          ]
        },
        {
          "output_type": "stream",
          "name": "stderr",
          "text": [
            "/tmp/ipykernel_1774/544503444.py:126: FutureWarning: `torch.cuda.amp.autocast(args...)` is deprecated. Please use `torch.amp.autocast('cuda', args...)` instead.\n  with torch.cuda.amp.autocast(enabled=(DEVICE=='cuda')):\n"
          ]
        },
        {
          "output_type": "stream",
          "name": "stdout",
          "text": [
            "[fold 2] epoch 7/12 it 50/2742 loss 0.5980 lr 7.75e-05 elapsed 18.1s\n"
          ]
        },
        {
          "output_type": "stream",
          "name": "stdout",
          "text": [
            "[fold 2] epoch 7/12 it 100/2742 loss 0.6006 lr 7.72e-05 elapsed 35.3s\n"
          ]
        },
        {
          "output_type": "stream",
          "name": "stdout",
          "text": [
            "[fold 2] epoch 7/12 it 150/2742 loss 0.6009 lr 7.70e-05 elapsed 52.6s\n"
          ]
        },
        {
          "output_type": "stream",
          "name": "stdout",
          "text": [
            "[fold 2] epoch 7/12 it 200/2742 loss 0.6037 lr 7.67e-05 elapsed 69.8s\n"
          ]
        },
        {
          "output_type": "stream",
          "name": "stdout",
          "text": [
            "[fold 2] epoch 7/12 it 250/2742 loss 0.6047 lr 7.64e-05 elapsed 87.1s\n"
          ]
        },
        {
          "output_type": "stream",
          "name": "stdout",
          "text": [
            "[fold 2] epoch 7/12 it 300/2742 loss 0.6043 lr 7.62e-05 elapsed 104.3s\n"
          ]
        },
        {
          "output_type": "stream",
          "name": "stdout",
          "text": [
            "[fold 2] epoch 7/12 it 350/2742 loss 0.6045 lr 7.59e-05 elapsed 121.6s\n"
          ]
        },
        {
          "output_type": "stream",
          "name": "stdout",
          "text": [
            "[fold 2] epoch 7/12 it 400/2742 loss 0.6053 lr 7.57e-05 elapsed 138.8s\n"
          ]
        },
        {
          "output_type": "stream",
          "name": "stdout",
          "text": [
            "[fold 2] epoch 7/12 it 450/2742 loss 0.6051 lr 7.54e-05 elapsed 156.1s\n"
          ]
        },
        {
          "output_type": "stream",
          "name": "stdout",
          "text": [
            "[fold 2] epoch 7/12 it 500/2742 loss 0.6043 lr 7.51e-05 elapsed 173.3s\n"
          ]
        },
        {
          "output_type": "stream",
          "name": "stdout",
          "text": [
            "[fold 2] epoch 7/12 it 550/2742 loss 0.6040 lr 7.49e-05 elapsed 190.5s\n"
          ]
        },
        {
          "output_type": "stream",
          "name": "stdout",
          "text": [
            "[fold 2] epoch 7/12 it 600/2742 loss 0.6040 lr 7.46e-05 elapsed 207.8s\n"
          ]
        },
        {
          "output_type": "stream",
          "name": "stdout",
          "text": [
            "[fold 2] epoch 7/12 it 650/2742 loss 0.6041 lr 7.43e-05 elapsed 225.0s\n"
          ]
        },
        {
          "output_type": "stream",
          "name": "stdout",
          "text": [
            "[fold 2] epoch 7/12 it 700/2742 loss 0.6040 lr 7.41e-05 elapsed 242.3s\n"
          ]
        },
        {
          "output_type": "stream",
          "name": "stdout",
          "text": [
            "[fold 2] epoch 7/12 it 750/2742 loss 0.6041 lr 7.38e-05 elapsed 259.5s\n"
          ]
        },
        {
          "output_type": "stream",
          "name": "stdout",
          "text": [
            "[fold 2] epoch 7/12 it 800/2742 loss 0.6040 lr 7.35e-05 elapsed 276.7s\n"
          ]
        },
        {
          "output_type": "stream",
          "name": "stdout",
          "text": [
            "[fold 2] epoch 7/12 it 850/2742 loss 0.6039 lr 7.33e-05 elapsed 294.0s\n"
          ]
        },
        {
          "output_type": "stream",
          "name": "stdout",
          "text": [
            "[fold 2] epoch 7/12 it 900/2742 loss 0.6037 lr 7.30e-05 elapsed 311.3s\n"
          ]
        },
        {
          "output_type": "stream",
          "name": "stdout",
          "text": [
            "[fold 2] epoch 7/12 it 950/2742 loss 0.6039 lr 7.27e-05 elapsed 328.5s\n"
          ]
        },
        {
          "output_type": "stream",
          "name": "stdout",
          "text": [
            "[fold 2] epoch 7/12 it 1000/2742 loss 0.6041 lr 7.24e-05 elapsed 345.8s\n"
          ]
        },
        {
          "output_type": "stream",
          "name": "stdout",
          "text": [
            "[fold 2] epoch 7/12 it 1050/2742 loss 0.6037 lr 7.22e-05 elapsed 363.0s\n"
          ]
        },
        {
          "output_type": "stream",
          "name": "stdout",
          "text": [
            "[fold 2] epoch 7/12 it 1100/2742 loss 0.6036 lr 7.19e-05 elapsed 380.3s\n"
          ]
        },
        {
          "output_type": "stream",
          "name": "stdout",
          "text": [
            "[fold 2] epoch 7/12 it 1150/2742 loss 0.6036 lr 7.16e-05 elapsed 397.5s\n"
          ]
        },
        {
          "output_type": "stream",
          "name": "stdout",
          "text": [
            "[fold 2] epoch 7/12 it 1200/2742 loss 0.6037 lr 7.14e-05 elapsed 414.8s\n"
          ]
        },
        {
          "output_type": "stream",
          "name": "stdout",
          "text": [
            "[fold 2] epoch 7/12 it 1250/2742 loss 0.6037 lr 7.11e-05 elapsed 432.1s\n"
          ]
        },
        {
          "output_type": "stream",
          "name": "stdout",
          "text": [
            "[fold 2] epoch 7/12 it 1300/2742 loss 0.6040 lr 7.08e-05 elapsed 449.4s\n"
          ]
        },
        {
          "output_type": "stream",
          "name": "stdout",
          "text": [
            "[fold 2] epoch 7/12 it 1350/2742 loss 0.6040 lr 7.06e-05 elapsed 466.6s\n"
          ]
        },
        {
          "output_type": "stream",
          "name": "stdout",
          "text": [
            "[fold 2] epoch 7/12 it 1400/2742 loss 0.6039 lr 7.03e-05 elapsed 483.9s\n"
          ]
        },
        {
          "output_type": "stream",
          "name": "stdout",
          "text": [
            "[fold 2] epoch 7/12 it 1450/2742 loss 0.6042 lr 7.00e-05 elapsed 501.1s\n"
          ]
        },
        {
          "output_type": "stream",
          "name": "stdout",
          "text": [
            "[fold 2] epoch 7/12 it 1500/2742 loss 0.6042 lr 6.98e-05 elapsed 518.4s\n"
          ]
        },
        {
          "output_type": "stream",
          "name": "stdout",
          "text": [
            "[fold 2] epoch 7/12 it 1550/2742 loss 0.6044 lr 6.95e-05 elapsed 535.7s\n"
          ]
        },
        {
          "output_type": "stream",
          "name": "stdout",
          "text": [
            "[fold 2] epoch 7/12 it 1600/2742 loss 0.6045 lr 6.92e-05 elapsed 552.9s\n"
          ]
        },
        {
          "output_type": "stream",
          "name": "stdout",
          "text": [
            "[fold 2] epoch 7/12 it 1650/2742 loss 0.6044 lr 6.89e-05 elapsed 570.2s\n"
          ]
        },
        {
          "output_type": "stream",
          "name": "stdout",
          "text": [
            "[fold 2] epoch 7/12 it 1700/2742 loss 0.6043 lr 6.87e-05 elapsed 587.4s\n"
          ]
        },
        {
          "output_type": "stream",
          "name": "stdout",
          "text": [
            "[fold 2] epoch 7/12 it 1750/2742 loss 0.6043 lr 6.84e-05 elapsed 604.7s\n"
          ]
        },
        {
          "output_type": "stream",
          "name": "stdout",
          "text": [
            "[fold 2] epoch 7/12 it 1800/2742 loss 0.6044 lr 6.81e-05 elapsed 621.9s\n"
          ]
        },
        {
          "output_type": "stream",
          "name": "stdout",
          "text": [
            "[fold 2] epoch 7/12 it 1850/2742 loss 0.6044 lr 6.79e-05 elapsed 639.2s\n"
          ]
        },
        {
          "output_type": "stream",
          "name": "stdout",
          "text": [
            "[fold 2] epoch 7/12 it 1900/2742 loss 0.6042 lr 6.76e-05 elapsed 656.4s\n"
          ]
        },
        {
          "output_type": "stream",
          "name": "stdout",
          "text": [
            "[fold 2] epoch 7/12 it 1950/2742 loss 0.6043 lr 6.73e-05 elapsed 673.7s\n"
          ]
        },
        {
          "output_type": "stream",
          "name": "stdout",
          "text": [
            "[fold 2] epoch 7/12 it 2000/2742 loss 0.6042 lr 6.70e-05 elapsed 690.9s\n"
          ]
        },
        {
          "output_type": "stream",
          "name": "stdout",
          "text": [
            "[fold 2] epoch 7/12 it 2050/2742 loss 0.6047 lr 6.68e-05 elapsed 708.2s\n"
          ]
        },
        {
          "output_type": "stream",
          "name": "stdout",
          "text": [
            "[fold 2] epoch 7/12 it 2100/2742 loss 0.6047 lr 6.65e-05 elapsed 725.5s\n"
          ]
        },
        {
          "output_type": "stream",
          "name": "stdout",
          "text": [
            "[fold 2] epoch 7/12 it 2150/2742 loss 0.6047 lr 6.62e-05 elapsed 742.7s\n"
          ]
        },
        {
          "output_type": "stream",
          "name": "stdout",
          "text": [
            "[fold 2] epoch 7/12 it 2200/2742 loss 0.6048 lr 6.60e-05 elapsed 760.3s\n"
          ]
        },
        {
          "output_type": "stream",
          "name": "stdout",
          "text": [
            "[fold 2] epoch 7/12 it 2250/2742 loss 0.6049 lr 6.57e-05 elapsed 777.6s\n"
          ]
        },
        {
          "output_type": "stream",
          "name": "stdout",
          "text": [
            "[fold 2] epoch 7/12 it 2300/2742 loss 0.6051 lr 6.54e-05 elapsed 794.9s\n"
          ]
        },
        {
          "output_type": "stream",
          "name": "stdout",
          "text": [
            "[fold 2] epoch 7/12 it 2350/2742 loss 0.6051 lr 6.51e-05 elapsed 812.2s\n"
          ]
        },
        {
          "output_type": "stream",
          "name": "stdout",
          "text": [
            "[fold 2] epoch 7/12 it 2400/2742 loss 0.6052 lr 6.49e-05 elapsed 829.4s\n"
          ]
        },
        {
          "output_type": "stream",
          "name": "stdout",
          "text": [
            "[fold 2] epoch 7/12 it 2450/2742 loss 0.6051 lr 6.46e-05 elapsed 846.7s\n"
          ]
        },
        {
          "output_type": "stream",
          "name": "stdout",
          "text": [
            "[fold 2] epoch 7/12 it 2500/2742 loss 0.6051 lr 6.43e-05 elapsed 863.9s\n"
          ]
        },
        {
          "output_type": "stream",
          "name": "stdout",
          "text": [
            "[fold 2] epoch 7/12 it 2550/2742 loss 0.6052 lr 6.41e-05 elapsed 881.2s\n"
          ]
        },
        {
          "output_type": "stream",
          "name": "stdout",
          "text": [
            "[fold 2] epoch 7/12 it 2600/2742 loss 0.6050 lr 6.38e-05 elapsed 898.5s\n"
          ]
        },
        {
          "output_type": "stream",
          "name": "stdout",
          "text": [
            "[fold 2] epoch 7/12 it 2650/2742 loss 0.6050 lr 6.35e-05 elapsed 915.7s\n"
          ]
        },
        {
          "output_type": "stream",
          "name": "stdout",
          "text": [
            "[fold 2] epoch 7/12 it 2700/2742 loss 0.6050 lr 6.32e-05 elapsed 933.0s\n"
          ]
        },
        {
          "output_type": "stream",
          "name": "stdout",
          "text": [
            "[fold 2] epoch 7 val macro AUC: 0.87460\n  ETT - Abnormal: 0.8320\n  ETT - Borderline: 0.8642\n  ETT - Normal: 0.9802\n  NGT - Abnormal: 0.8493\n  NGT - Borderline: 0.8517\n  NGT - Incompletely Imaged: 0.9686\n  NGT - Normal: 0.9626\n  CVC - Abnormal: 0.7881\n  CVC - Borderline: 0.7749\n[fold 2] epoch 7 train_loss 0.6051 time 1084.3s\n[fold 2] Early stopping at epoch 7\n[fold 2] best macro AUC: 0.92532 total time 7626.0s\n[cv] Fold 2 best AUC: 0.92532 elapsed 7627.2s\n\n===== Fold 3 training start =====\n"
          ]
        },
        {
          "output_type": "stream",
          "name": "stdout",
          "text": [
            "[debug] target_cols: ['ETT - Abnormal', 'ETT - Borderline', 'ETT - Normal', 'NGT - Abnormal', 'NGT - Borderline', 'NGT - Incompletely Imaged', 'NGT - Normal', 'CVC - Abnormal', 'CVC - Borderline']\n"
          ]
        },
        {
          "output_type": "stream",
          "name": "stderr",
          "text": [
            "/app/.pip-target/albumentations/core/validation.py:114: UserWarning: ShiftScaleRotate is a special case of Affine transform. Please use Affine transform instead.\n  original_init(self, **validated_kwargs)\n/app/.pip-target/timm/models/_factory.py:138: UserWarning: Mapping deprecated model name tf_efficientnet_b4_ns to current tf_efficientnet_b4.ns_jft_in1k.\n  model = create_fn(\n"
          ]
        },
        {
          "output_type": "stream",
          "name": "stdout",
          "text": [
            "[model] pretrained=True; num_outputs 9 fc_mean 0.0021008672192692757\n[DEBUG] Initial pos_weight: [5.0, 5.0, 3.163309335708618, 5.0, 5.0, 5.0, 5.0, 5.0, 2.5474319458007812]\n"
          ]
        },
        {
          "output_type": "stream",
          "name": "stderr",
          "text": [
            "/tmp/ipykernel_1774/544503444.py:104: FutureWarning: `torch.cuda.amp.GradScaler(args...)` is deprecated. Please use `torch.amp.GradScaler('cuda', args...)` instead.\n  scaler = torch.cuda.amp.GradScaler(enabled=(DEVICE=='cuda'))\n"
          ]
        },
        {
          "output_type": "stream",
          "name": "stdout",
          "text": [
            "[debug] first-batch targets sum per class: [0.0, 0.0, 3.0, 0.0, 0.0, 0.0, 3.0, 1.0, 3.0]\n"
          ]
        },
        {
          "output_type": "stream",
          "name": "stderr",
          "text": [
            "/tmp/ipykernel_1774/544503444.py:126: FutureWarning: `torch.cuda.amp.autocast(args...)` is deprecated. Please use `torch.amp.autocast('cuda', args...)` instead.\n  with torch.cuda.amp.autocast(enabled=(DEVICE=='cuda')):\n"
          ]
        },
        {
          "output_type": "stream",
          "name": "stdout",
          "text": [
            "[fold 3] epoch 1/12 it 50/2711 loss 1.0679 lr 1.39e-05 elapsed 18.8s\n"
          ]
        },
        {
          "output_type": "stream",
          "name": "stdout",
          "text": [
            "[fold 3] epoch 1/12 it 100/2711 loss 1.0268 lr 1.59e-05 elapsed 36.1s\n"
          ]
        },
        {
          "output_type": "stream",
          "name": "stdout",
          "text": [
            "[fold 3] epoch 1/12 it 150/2711 loss 1.0012 lr 1.79e-05 elapsed 53.3s\n"
          ]
        },
        {
          "output_type": "stream",
          "name": "stdout",
          "text": [
            "[fold 3] epoch 1/12 it 200/2711 loss 0.9840 lr 1.99e-05 elapsed 70.6s\n"
          ]
        },
        {
          "output_type": "stream",
          "name": "stdout",
          "text": [
            "[fold 3] epoch 1/12 it 250/2711 loss 0.9662 lr 2.19e-05 elapsed 87.9s\n"
          ]
        },
        {
          "output_type": "stream",
          "name": "stdout",
          "text": [
            "[fold 3] epoch 1/12 it 300/2711 loss 0.9606 lr 2.39e-05 elapsed 105.1s\n"
          ]
        },
        {
          "output_type": "stream",
          "name": "stdout",
          "text": [
            "[fold 3] epoch 1/12 it 350/2711 loss 0.9485 lr 2.59e-05 elapsed 122.4s\n"
          ]
        },
        {
          "output_type": "stream",
          "name": "stdout",
          "text": [
            "[fold 3] epoch 1/12 it 400/2711 loss 0.9450 lr 2.79e-05 elapsed 139.7s\n"
          ]
        },
        {
          "output_type": "stream",
          "name": "stdout",
          "text": [
            "[fold 3] epoch 1/12 it 450/2711 loss 0.9404 lr 2.99e-05 elapsed 156.9s\n"
          ]
        },
        {
          "output_type": "stream",
          "name": "stdout",
          "text": [
            "[fold 3] epoch 1/12 it 500/2711 loss 0.9360 lr 3.18e-05 elapsed 174.2s\n"
          ]
        },
        {
          "output_type": "stream",
          "name": "stdout",
          "text": [
            "[fold 3] epoch 1/12 it 550/2711 loss 0.9341 lr 3.38e-05 elapsed 191.5s\n"
          ]
        },
        {
          "output_type": "stream",
          "name": "stdout",
          "text": [
            "[fold 3] epoch 1/12 it 600/2711 loss 0.9280 lr 3.58e-05 elapsed 208.7s\n"
          ]
        },
        {
          "output_type": "stream",
          "name": "stdout",
          "text": [
            "[fold 3] epoch 1/12 it 650/2711 loss 0.9239 lr 3.78e-05 elapsed 226.0s\n"
          ]
        },
        {
          "output_type": "stream",
          "name": "stdout",
          "text": [
            "[fold 3] epoch 1/12 it 700/2711 loss 0.9198 lr 3.98e-05 elapsed 243.2s\n"
          ]
        },
        {
          "output_type": "stream",
          "name": "stdout",
          "text": [
            "[fold 3] epoch 1/12 it 750/2711 loss 0.9154 lr 4.18e-05 elapsed 260.5s\n"
          ]
        },
        {
          "output_type": "stream",
          "name": "stdout",
          "text": [
            "[fold 3] epoch 1/12 it 800/2711 loss 0.9126 lr 4.38e-05 elapsed 277.7s\n"
          ]
        },
        {
          "output_type": "stream",
          "name": "stdout",
          "text": [
            "[fold 3] epoch 1/12 it 850/2711 loss 0.9085 lr 4.58e-05 elapsed 295.0s\n"
          ]
        },
        {
          "output_type": "stream",
          "name": "stdout",
          "text": [
            "[fold 3] epoch 1/12 it 900/2711 loss 0.9044 lr 4.78e-05 elapsed 312.3s\n"
          ]
        },
        {
          "output_type": "stream",
          "name": "stdout",
          "text": [
            "[fold 3] epoch 1/12 it 950/2711 loss 0.8999 lr 4.98e-05 elapsed 329.5s\n"
          ]
        },
        {
          "output_type": "stream",
          "name": "stdout",
          "text": [
            "[fold 3] epoch 1/12 it 1000/2711 loss 0.8979 lr 5.18e-05 elapsed 346.8s\n"
          ]
        },
        {
          "output_type": "stream",
          "name": "stdout",
          "text": [
            "[fold 3] epoch 1/12 it 1050/2711 loss 0.8952 lr 5.38e-05 elapsed 364.1s\n"
          ]
        },
        {
          "output_type": "stream",
          "name": "stdout",
          "text": [
            "[fold 3] epoch 1/12 it 1100/2711 loss 0.8911 lr 5.58e-05 elapsed 381.4s\n"
          ]
        },
        {
          "output_type": "stream",
          "name": "stdout",
          "text": [
            "[fold 3] epoch 1/12 it 1150/2711 loss 0.8888 lr 5.78e-05 elapsed 398.6s\n"
          ]
        },
        {
          "output_type": "stream",
          "name": "stdout",
          "text": [
            "[fold 3] epoch 1/12 it 1200/2711 loss 0.8861 lr 5.97e-05 elapsed 415.9s\n"
          ]
        },
        {
          "output_type": "stream",
          "name": "stdout",
          "text": [
            "[fold 3] epoch 1/12 it 1250/2711 loss 0.8832 lr 6.17e-05 elapsed 433.2s\n"
          ]
        },
        {
          "output_type": "stream",
          "name": "stdout",
          "text": [
            "[fold 3] epoch 1/12 it 1300/2711 loss 0.8817 lr 6.37e-05 elapsed 450.5s\n"
          ]
        },
        {
          "output_type": "stream",
          "name": "stdout",
          "text": [
            "[fold 3] epoch 1/12 it 1350/2711 loss 0.8792 lr 6.57e-05 elapsed 467.7s\n"
          ]
        },
        {
          "output_type": "stream",
          "name": "stdout",
          "text": [
            "[fold 3] epoch 1/12 it 1400/2711 loss 0.8773 lr 6.77e-05 elapsed 485.0s\n"
          ]
        },
        {
          "output_type": "stream",
          "name": "stdout",
          "text": [
            "[fold 3] epoch 1/12 it 1450/2711 loss 0.8751 lr 6.97e-05 elapsed 502.2s\n"
          ]
        },
        {
          "output_type": "stream",
          "name": "stdout",
          "text": [
            "[fold 3] epoch 1/12 it 1500/2711 loss 0.8728 lr 7.17e-05 elapsed 519.5s\n"
          ]
        },
        {
          "output_type": "stream",
          "name": "stdout",
          "text": [
            "[fold 3] epoch 1/12 it 1550/2711 loss 0.8708 lr 7.37e-05 elapsed 536.7s\n"
          ]
        },
        {
          "output_type": "stream",
          "name": "stdout",
          "text": [
            "[fold 3] epoch 1/12 it 1600/2711 loss 0.8682 lr 7.57e-05 elapsed 554.0s\n"
          ]
        },
        {
          "output_type": "stream",
          "name": "stdout",
          "text": [
            "[fold 3] epoch 1/12 it 1650/2711 loss 0.8662 lr 7.77e-05 elapsed 571.3s\n"
          ]
        },
        {
          "output_type": "stream",
          "name": "stdout",
          "text": [
            "[fold 3] epoch 1/12 it 1700/2711 loss 0.8642 lr 7.97e-05 elapsed 588.6s\n"
          ]
        },
        {
          "output_type": "stream",
          "name": "stdout",
          "text": [
            "[fold 3] epoch 1/12 it 1750/2711 loss 0.8630 lr 8.17e-05 elapsed 605.8s\n"
          ]
        },
        {
          "output_type": "stream",
          "name": "stdout",
          "text": [
            "[fold 3] epoch 1/12 it 1800/2711 loss 0.8617 lr 8.37e-05 elapsed 623.1s\n"
          ]
        },
        {
          "output_type": "stream",
          "name": "stdout",
          "text": [
            "[fold 3] epoch 1/12 it 1850/2711 loss 0.8601 lr 8.56e-05 elapsed 640.3s\n"
          ]
        },
        {
          "output_type": "stream",
          "name": "stdout",
          "text": [
            "[fold 3] epoch 1/12 it 1900/2711 loss 0.8591 lr 8.76e-05 elapsed 657.5s\n"
          ]
        },
        {
          "output_type": "stream",
          "name": "stdout",
          "text": [
            "[fold 3] epoch 1/12 it 1950/2711 loss 0.8578 lr 8.96e-05 elapsed 674.7s\n"
          ]
        },
        {
          "output_type": "stream",
          "name": "stdout",
          "text": [
            "[fold 3] epoch 1/12 it 2000/2711 loss 0.8559 lr 9.16e-05 elapsed 692.0s\n"
          ]
        },
        {
          "output_type": "stream",
          "name": "stdout",
          "text": [
            "[fold 3] epoch 1/12 it 2050/2711 loss 0.8546 lr 9.36e-05 elapsed 709.2s\n"
          ]
        },
        {
          "output_type": "stream",
          "name": "stdout",
          "text": [
            "[fold 3] epoch 1/12 it 2100/2711 loss 0.8526 lr 9.56e-05 elapsed 726.5s\n"
          ]
        },
        {
          "output_type": "stream",
          "name": "stdout",
          "text": [
            "[fold 3] epoch 1/12 it 2150/2711 loss 0.8517 lr 9.76e-05 elapsed 743.7s\n"
          ]
        },
        {
          "output_type": "stream",
          "name": "stdout",
          "text": [
            "[fold 3] epoch 1/12 it 2200/2711 loss 0.8506 lr 9.96e-05 elapsed 761.0s\n"
          ]
        },
        {
          "output_type": "stream",
          "name": "stdout",
          "text": [
            "[fold 3] epoch 1/12 it 2250/2711 loss 0.8491 lr 1.02e-04 elapsed 778.2s\n"
          ]
        },
        {
          "output_type": "stream",
          "name": "stdout",
          "text": [
            "[fold 3] epoch 1/12 it 2300/2711 loss 0.8478 lr 1.04e-04 elapsed 795.5s\n"
          ]
        },
        {
          "output_type": "stream",
          "name": "stdout",
          "text": [
            "[fold 3] epoch 1/12 it 2350/2711 loss 0.8464 lr 1.06e-04 elapsed 812.7s\n"
          ]
        },
        {
          "output_type": "stream",
          "name": "stdout",
          "text": [
            "[fold 3] epoch 1/12 it 2400/2711 loss 0.8456 lr 1.08e-04 elapsed 830.0s\n"
          ]
        },
        {
          "output_type": "stream",
          "name": "stdout",
          "text": [
            "[fold 3] epoch 1/12 it 2450/2711 loss 0.8441 lr 1.10e-04 elapsed 847.2s\n"
          ]
        },
        {
          "output_type": "stream",
          "name": "stdout",
          "text": [
            "[fold 3] epoch 1/12 it 2500/2711 loss 0.8430 lr 1.12e-04 elapsed 864.4s\n"
          ]
        },
        {
          "output_type": "stream",
          "name": "stdout",
          "text": [
            "[fold 3] epoch 1/12 it 2550/2711 loss 0.8418 lr 1.14e-04 elapsed 881.6s\n"
          ]
        },
        {
          "output_type": "stream",
          "name": "stdout",
          "text": [
            "[fold 3] epoch 1/12 it 2600/2711 loss 0.8408 lr 1.16e-04 elapsed 898.9s\n"
          ]
        },
        {
          "output_type": "stream",
          "name": "stdout",
          "text": [
            "[fold 3] epoch 1/12 it 2650/2711 loss 0.8398 lr 1.18e-04 elapsed 916.1s\n"
          ]
        },
        {
          "output_type": "stream",
          "name": "stdout",
          "text": [
            "[fold 3] epoch 1/12 it 2700/2711 loss 0.8389 lr 1.20e-04 elapsed 933.4s\n"
          ]
        },
        {
          "output_type": "stream",
          "name": "stdout",
          "text": [
            "[fold 3] epoch 1 val macro AUC: 0.80106\n  ETT - Abnormal: 0.6703\n  ETT - Borderline: 0.9025\n  ETT - Normal: 0.9807\n  NGT - Abnormal: 0.7661\n  NGT - Borderline: 0.8021\n  NGT - Incompletely Imaged: 0.9495\n  NGT - Normal: 0.9525\n  CVC - Abnormal: 0.6016\n  CVC - Borderline: 0.5842\n[fold 3] saved best to chkpts/effb4ns_fold3.pt\n[fold 3] epoch 1 train_loss 0.8387 time 1090.3s\n"
          ]
        },
        {
          "output_type": "stream",
          "name": "stdout",
          "text": [
            "[debug] first-batch targets sum per class: [0.0, 0.0, 1.0, 0.0, 1.0, 0.0, 1.0, 0.0, 1.0]\n"
          ]
        },
        {
          "output_type": "stream",
          "name": "stderr",
          "text": [
            "/tmp/ipykernel_1774/544503444.py:126: FutureWarning: `torch.cuda.amp.autocast(args...)` is deprecated. Please use `torch.amp.autocast('cuda', args...)` instead.\n  with torch.cuda.amp.autocast(enabled=(DEVICE=='cuda')):\n"
          ]
        },
        {
          "output_type": "stream",
          "name": "stdout",
          "text": [
            "[fold 3] epoch 2/12 it 50/2711 loss 0.7723 lr 1.20e-04 elapsed 18.3s\n"
          ]
        },
        {
          "output_type": "stream",
          "name": "stdout",
          "text": [
            "[fold 3] epoch 2/12 it 100/2711 loss 0.7651 lr 1.20e-04 elapsed 35.6s\n"
          ]
        },
        {
          "output_type": "stream",
          "name": "stdout",
          "text": [
            "[fold 3] epoch 2/12 it 150/2711 loss 0.7757 lr 1.20e-04 elapsed 52.8s\n"
          ]
        },
        {
          "output_type": "stream",
          "name": "stdout",
          "text": [
            "[fold 3] epoch 2/12 it 200/2711 loss 0.7733 lr 1.20e-04 elapsed 70.1s\n"
          ]
        },
        {
          "output_type": "stream",
          "name": "stdout",
          "text": [
            "[fold 3] epoch 2/12 it 250/2711 loss 0.7714 lr 1.20e-04 elapsed 87.3s\n"
          ]
        },
        {
          "output_type": "stream",
          "name": "stdout",
          "text": [
            "[fold 3] epoch 2/12 it 300/2711 loss 0.7708 lr 1.20e-04 elapsed 104.6s\n"
          ]
        },
        {
          "output_type": "stream",
          "name": "stdout",
          "text": [
            "[fold 3] epoch 2/12 it 350/2711 loss 0.7687 lr 1.20e-04 elapsed 121.8s\n"
          ]
        },
        {
          "output_type": "stream",
          "name": "stdout",
          "text": [
            "[fold 3] epoch 2/12 it 400/2711 loss 0.7700 lr 1.20e-04 elapsed 139.1s\n"
          ]
        },
        {
          "output_type": "stream",
          "name": "stdout",
          "text": [
            "[fold 3] epoch 2/12 it 450/2711 loss 0.7701 lr 1.20e-04 elapsed 156.3s\n"
          ]
        },
        {
          "output_type": "stream",
          "name": "stdout",
          "text": [
            "[fold 3] epoch 2/12 it 500/2711 loss 0.7698 lr 1.20e-04 elapsed 173.5s\n"
          ]
        },
        {
          "output_type": "stream",
          "name": "stdout",
          "text": [
            "[fold 3] epoch 2/12 it 550/2711 loss 0.7703 lr 1.20e-04 elapsed 190.7s\n"
          ]
        },
        {
          "output_type": "stream",
          "name": "stdout",
          "text": [
            "[fold 3] epoch 2/12 it 600/2711 loss 0.7719 lr 1.20e-04 elapsed 208.0s\n"
          ]
        },
        {
          "output_type": "stream",
          "name": "stdout",
          "text": [
            "[fold 3] epoch 2/12 it 650/2711 loss 0.7707 lr 1.20e-04 elapsed 225.2s\n"
          ]
        },
        {
          "output_type": "stream",
          "name": "stdout",
          "text": [
            "[fold 3] epoch 2/12 it 700/2711 loss 0.7705 lr 1.20e-04 elapsed 242.4s\n"
          ]
        },
        {
          "output_type": "stream",
          "name": "stdout",
          "text": [
            "[fold 3] epoch 2/12 it 750/2711 loss 0.7704 lr 1.20e-04 elapsed 259.6s\n"
          ]
        },
        {
          "output_type": "stream",
          "name": "stdout",
          "text": [
            "[fold 3] epoch 2/12 it 800/2711 loss 0.7699 lr 1.20e-04 elapsed 276.8s\n"
          ]
        },
        {
          "output_type": "stream",
          "name": "stdout",
          "text": [
            "[fold 3] epoch 2/12 it 850/2711 loss 0.7697 lr 1.20e-04 elapsed 294.1s\n"
          ]
        },
        {
          "output_type": "stream",
          "name": "stdout",
          "text": [
            "[fold 3] epoch 2/12 it 900/2711 loss 0.7688 lr 1.20e-04 elapsed 311.3s\n"
          ]
        },
        {
          "output_type": "stream",
          "name": "stdout",
          "text": [
            "[fold 3] epoch 2/12 it 950/2711 loss 0.7675 lr 1.20e-04 elapsed 328.6s\n"
          ]
        },
        {
          "output_type": "stream",
          "name": "stdout",
          "text": [
            "[fold 3] epoch 2/12 it 1000/2711 loss 0.7663 lr 1.20e-04 elapsed 345.8s\n"
          ]
        },
        {
          "output_type": "stream",
          "name": "stdout",
          "text": [
            "[fold 3] epoch 2/12 it 1050/2711 loss 0.7668 lr 1.20e-04 elapsed 363.0s\n"
          ]
        },
        {
          "output_type": "stream",
          "name": "stdout",
          "text": [
            "[fold 3] epoch 2/12 it 1100/2711 loss 0.7664 lr 1.20e-04 elapsed 380.2s\n"
          ]
        },
        {
          "output_type": "stream",
          "name": "stdout",
          "text": [
            "[fold 3] epoch 2/12 it 1150/2711 loss 0.7661 lr 1.20e-04 elapsed 397.5s\n"
          ]
        },
        {
          "output_type": "stream",
          "name": "stdout",
          "text": [
            "[fold 3] epoch 2/12 it 1200/2711 loss 0.7662 lr 1.20e-04 elapsed 414.8s\n"
          ]
        },
        {
          "output_type": "stream",
          "name": "stdout",
          "text": [
            "[fold 3] epoch 2/12 it 1250/2711 loss 0.7663 lr 1.20e-04 elapsed 432.0s\n"
          ]
        },
        {
          "output_type": "stream",
          "name": "stdout",
          "text": [
            "[fold 3] epoch 2/12 it 1300/2711 loss 0.7661 lr 1.20e-04 elapsed 449.2s\n"
          ]
        },
        {
          "output_type": "stream",
          "name": "stdout",
          "text": [
            "[fold 3] epoch 2/12 it 1350/2711 loss 0.7656 lr 1.20e-04 elapsed 466.5s\n"
          ]
        },
        {
          "output_type": "stream",
          "name": "stdout",
          "text": [
            "[fold 3] epoch 2/12 it 1400/2711 loss 0.7651 lr 1.19e-04 elapsed 483.7s\n"
          ]
        },
        {
          "output_type": "stream",
          "name": "stdout",
          "text": [
            "[fold 3] epoch 2/12 it 1450/2711 loss 0.7653 lr 1.19e-04 elapsed 501.0s\n"
          ]
        },
        {
          "output_type": "stream",
          "name": "stdout",
          "text": [
            "[fold 3] epoch 2/12 it 1500/2711 loss 0.7662 lr 1.19e-04 elapsed 518.2s\n"
          ]
        },
        {
          "output_type": "stream",
          "name": "stdout",
          "text": [
            "[fold 3] epoch 2/12 it 1550/2711 loss 0.7659 lr 1.19e-04 elapsed 535.5s\n"
          ]
        },
        {
          "output_type": "stream",
          "name": "stdout",
          "text": [
            "[fold 3] epoch 2/12 it 1600/2711 loss 0.7652 lr 1.19e-04 elapsed 552.7s\n"
          ]
        },
        {
          "output_type": "stream",
          "name": "stdout",
          "text": [
            "[fold 3] epoch 2/12 it 1650/2711 loss 0.7650 lr 1.19e-04 elapsed 570.4s\n"
          ]
        },
        {
          "output_type": "stream",
          "name": "stdout",
          "text": [
            "[fold 3] epoch 2/12 it 1700/2711 loss 0.7643 lr 1.19e-04 elapsed 587.6s\n"
          ]
        },
        {
          "output_type": "stream",
          "name": "stdout",
          "text": [
            "[fold 3] epoch 2/12 it 1750/2711 loss 0.7639 lr 1.19e-04 elapsed 604.8s\n"
          ]
        },
        {
          "output_type": "stream",
          "name": "stdout",
          "text": [
            "[fold 3] epoch 2/12 it 1800/2711 loss 0.7633 lr 1.19e-04 elapsed 622.1s\n"
          ]
        },
        {
          "output_type": "stream",
          "name": "stdout",
          "text": [
            "[fold 3] epoch 2/12 it 1850/2711 loss 0.7631 lr 1.19e-04 elapsed 639.3s\n"
          ]
        },
        {
          "output_type": "stream",
          "name": "stdout",
          "text": [
            "[fold 3] epoch 2/12 it 1900/2711 loss 0.7624 lr 1.19e-04 elapsed 656.5s\n"
          ]
        },
        {
          "output_type": "stream",
          "name": "stdout",
          "text": [
            "[fold 3] epoch 2/12 it 1950/2711 loss 0.7618 lr 1.19e-04 elapsed 673.8s\n"
          ]
        },
        {
          "output_type": "stream",
          "name": "stdout",
          "text": [
            "[fold 3] epoch 2/12 it 2000/2711 loss 0.7615 lr 1.19e-04 elapsed 691.0s\n"
          ]
        },
        {
          "output_type": "stream",
          "name": "stdout",
          "text": [
            "[fold 3] epoch 2/12 it 2050/2711 loss 0.7610 lr 1.19e-04 elapsed 708.2s\n"
          ]
        },
        {
          "output_type": "stream",
          "name": "stdout",
          "text": [
            "[fold 3] epoch 2/12 it 2100/2711 loss 0.7602 lr 1.19e-04 elapsed 725.5s\n"
          ]
        },
        {
          "output_type": "stream",
          "name": "stdout",
          "text": [
            "[fold 3] epoch 2/12 it 2150/2711 loss 0.7597 lr 1.19e-04 elapsed 742.7s\n"
          ]
        },
        {
          "output_type": "stream",
          "name": "stdout",
          "text": [
            "[fold 3] epoch 2/12 it 2200/2711 loss 0.7592 lr 1.19e-04 elapsed 760.0s\n"
          ]
        },
        {
          "output_type": "stream",
          "name": "stdout",
          "text": [
            "[fold 3] epoch 2/12 it 2250/2711 loss 0.7589 lr 1.19e-04 elapsed 777.2s\n"
          ]
        },
        {
          "output_type": "stream",
          "name": "stdout",
          "text": [
            "[fold 3] epoch 2/12 it 2300/2711 loss 0.7587 lr 1.19e-04 elapsed 794.5s\n"
          ]
        },
        {
          "output_type": "stream",
          "name": "stdout",
          "text": [
            "[fold 3] epoch 2/12 it 2350/2711 loss 0.7581 lr 1.19e-04 elapsed 811.7s\n"
          ]
        },
        {
          "output_type": "stream",
          "name": "stdout",
          "text": [
            "[fold 3] epoch 2/12 it 2400/2711 loss 0.7578 lr 1.18e-04 elapsed 829.0s\n"
          ]
        },
        {
          "output_type": "stream",
          "name": "stdout",
          "text": [
            "[fold 3] epoch 2/12 it 2450/2711 loss 0.7575 lr 1.18e-04 elapsed 846.2s\n"
          ]
        },
        {
          "output_type": "stream",
          "name": "stdout",
          "text": [
            "[fold 3] epoch 2/12 it 2500/2711 loss 0.7570 lr 1.18e-04 elapsed 863.5s\n"
          ]
        },
        {
          "output_type": "stream",
          "name": "stdout",
          "text": [
            "[fold 3] epoch 2/12 it 2550/2711 loss 0.7566 lr 1.18e-04 elapsed 880.7s\n"
          ]
        },
        {
          "output_type": "stream",
          "name": "stdout",
          "text": [
            "[fold 3] epoch 2/12 it 2600/2711 loss 0.7561 lr 1.18e-04 elapsed 898.0s\n"
          ]
        },
        {
          "output_type": "stream",
          "name": "stdout",
          "text": [
            "[fold 3] epoch 2/12 it 2650/2711 loss 0.7556 lr 1.18e-04 elapsed 915.3s\n"
          ]
        },
        {
          "output_type": "stream",
          "name": "stdout",
          "text": [
            "[fold 3] epoch 2/12 it 2700/2711 loss 0.7553 lr 1.18e-04 elapsed 932.5s\n"
          ]
        },
        {
          "output_type": "stream",
          "name": "stdout",
          "text": [
            "[fold 3] epoch 2 val macro AUC: 0.90249\n  ETT - Abnormal: 0.9249\n  ETT - Borderline: 0.9281\n  ETT - Normal: 0.9849\n  NGT - Abnormal: 0.8496\n  NGT - Borderline: 0.8738\n  NGT - Incompletely Imaged: 0.9726\n  NGT - Normal: 0.9777\n  CVC - Abnormal: 0.8550\n  CVC - Borderline: 0.7558\n"
          ]
        },
        {
          "output_type": "stream",
          "name": "stdout",
          "text": [
            "[fold 3] saved best to chkpts/effb4ns_fold3.pt\n[fold 3] epoch 2 train_loss 0.7552 time 1088.5s\n"
          ]
        },
        {
          "output_type": "stream",
          "name": "stdout",
          "text": [
            "[debug] first-batch targets sum per class: [0.0, 0.0, 2.0, 0.0, 0.0, 0.0, 2.0, 1.0, 3.0]\n"
          ]
        },
        {
          "output_type": "stream",
          "name": "stderr",
          "text": [
            "/tmp/ipykernel_1774/544503444.py:126: FutureWarning: `torch.cuda.amp.autocast(args...)` is deprecated. Please use `torch.amp.autocast('cuda', args...)` instead.\n  with torch.cuda.amp.autocast(enabled=(DEVICE=='cuda')):\n"
          ]
        },
        {
          "output_type": "stream",
          "name": "stdout",
          "text": [
            "[fold 3] epoch 3/12 it 50/2711 loss 0.7075 lr 1.18e-04 elapsed 18.2s\n"
          ]
        },
        {
          "output_type": "stream",
          "name": "stdout",
          "text": [
            "[fold 3] epoch 3/12 it 100/2711 loss 0.7123 lr 1.18e-04 elapsed 35.5s\n"
          ]
        },
        {
          "output_type": "stream",
          "name": "stdout",
          "text": [
            "[fold 3] epoch 3/12 it 150/2711 loss 0.7156 lr 1.18e-04 elapsed 52.7s\n"
          ]
        },
        {
          "output_type": "stream",
          "name": "stdout",
          "text": [
            "[fold 3] epoch 3/12 it 200/2711 loss 0.7167 lr 1.18e-04 elapsed 69.9s\n"
          ]
        },
        {
          "output_type": "stream",
          "name": "stdout",
          "text": [
            "[fold 3] epoch 3/12 it 250/2711 loss 0.7154 lr 1.18e-04 elapsed 87.2s\n"
          ]
        },
        {
          "output_type": "stream",
          "name": "stdout",
          "text": [
            "[fold 3] epoch 3/12 it 300/2711 loss 0.7132 lr 1.18e-04 elapsed 104.5s\n"
          ]
        },
        {
          "output_type": "stream",
          "name": "stdout",
          "text": [
            "[fold 3] epoch 3/12 it 350/2711 loss 0.7153 lr 1.18e-04 elapsed 121.7s\n"
          ]
        },
        {
          "output_type": "stream",
          "name": "stdout",
          "text": [
            "[fold 3] epoch 3/12 it 400/2711 loss 0.7156 lr 1.17e-04 elapsed 139.0s\n"
          ]
        },
        {
          "output_type": "stream",
          "name": "stdout",
          "text": [
            "[fold 3] epoch 3/12 it 450/2711 loss 0.7139 lr 1.17e-04 elapsed 156.3s\n"
          ]
        },
        {
          "output_type": "stream",
          "name": "stdout",
          "text": [
            "[fold 3] epoch 3/12 it 500/2711 loss 0.7134 lr 1.17e-04 elapsed 173.5s\n"
          ]
        },
        {
          "output_type": "stream",
          "name": "stdout",
          "text": [
            "[fold 3] epoch 3/12 it 550/2711 loss 0.7131 lr 1.17e-04 elapsed 190.7s\n"
          ]
        },
        {
          "output_type": "stream",
          "name": "stdout",
          "text": [
            "[fold 3] epoch 3/12 it 600/2711 loss 0.7136 lr 1.17e-04 elapsed 207.9s\n"
          ]
        },
        {
          "output_type": "stream",
          "name": "stdout",
          "text": [
            "[fold 3] epoch 3/12 it 650/2711 loss 0.7137 lr 1.17e-04 elapsed 225.2s\n"
          ]
        },
        {
          "output_type": "stream",
          "name": "stdout",
          "text": [
            "[fold 3] epoch 3/12 it 700/2711 loss 0.7139 lr 1.17e-04 elapsed 242.5s\n"
          ]
        },
        {
          "output_type": "stream",
          "name": "stdout",
          "text": [
            "[fold 3] epoch 3/12 it 750/2711 loss 0.7141 lr 1.17e-04 elapsed 259.7s\n"
          ]
        },
        {
          "output_type": "stream",
          "name": "stdout",
          "text": [
            "[fold 3] epoch 3/12 it 800/2711 loss 0.7137 lr 1.17e-04 elapsed 277.0s\n"
          ]
        },
        {
          "output_type": "stream",
          "name": "stdout",
          "text": [
            "[fold 3] epoch 3/12 it 850/2711 loss 0.7135 lr 1.17e-04 elapsed 294.2s\n"
          ]
        },
        {
          "output_type": "stream",
          "name": "stdout",
          "text": [
            "[fold 3] epoch 3/12 it 900/2711 loss 0.7130 lr 1.17e-04 elapsed 311.5s\n"
          ]
        },
        {
          "output_type": "stream",
          "name": "stdout",
          "text": [
            "[fold 3] epoch 3/12 it 950/2711 loss 0.7138 lr 1.16e-04 elapsed 328.7s\n"
          ]
        },
        {
          "output_type": "stream",
          "name": "stdout",
          "text": [
            "[fold 3] epoch 3/12 it 1000/2711 loss 0.7139 lr 1.16e-04 elapsed 345.9s\n"
          ]
        },
        {
          "output_type": "stream",
          "name": "stdout",
          "text": [
            "[fold 3] epoch 3/12 it 1050/2711 loss 0.7142 lr 1.16e-04 elapsed 363.2s\n"
          ]
        },
        {
          "output_type": "stream",
          "name": "stdout",
          "text": [
            "[fold 3] epoch 3/12 it 1100/2711 loss 0.7154 lr 1.16e-04 elapsed 380.5s\n"
          ]
        },
        {
          "output_type": "stream",
          "name": "stdout",
          "text": [
            "[fold 3] epoch 3/12 it 1150/2711 loss 0.7154 lr 1.16e-04 elapsed 397.7s\n"
          ]
        },
        {
          "output_type": "stream",
          "name": "stdout",
          "text": [
            "[fold 3] epoch 3/12 it 1200/2711 loss 0.7149 lr 1.16e-04 elapsed 414.9s\n"
          ]
        },
        {
          "output_type": "stream",
          "name": "stdout",
          "text": [
            "[fold 3] epoch 3/12 it 1250/2711 loss 0.7162 lr 1.16e-04 elapsed 432.1s\n"
          ]
        },
        {
          "output_type": "stream",
          "name": "stdout",
          "text": [
            "[fold 3] epoch 3/12 it 1300/2711 loss 0.7166 lr 1.16e-04 elapsed 449.4s\n"
          ]
        },
        {
          "output_type": "stream",
          "name": "stdout",
          "text": [
            "[fold 3] epoch 3/12 it 1350/2711 loss 0.7160 lr 1.16e-04 elapsed 466.6s\n"
          ]
        },
        {
          "output_type": "stream",
          "name": "stdout",
          "text": [
            "[fold 3] epoch 3/12 it 1400/2711 loss 0.7158 lr 1.16e-04 elapsed 483.9s\n"
          ]
        },
        {
          "output_type": "stream",
          "name": "stdout",
          "text": [
            "[fold 3] epoch 3/12 it 1450/2711 loss 0.7164 lr 1.15e-04 elapsed 501.1s\n"
          ]
        },
        {
          "output_type": "stream",
          "name": "stdout",
          "text": [
            "[fold 3] epoch 3/12 it 1500/2711 loss 0.7159 lr 1.15e-04 elapsed 518.3s\n"
          ]
        },
        {
          "output_type": "stream",
          "name": "stdout",
          "text": [
            "[fold 3] epoch 3/12 it 1550/2711 loss 0.7157 lr 1.15e-04 elapsed 535.6s\n"
          ]
        },
        {
          "output_type": "stream",
          "name": "stdout",
          "text": [
            "[fold 3] epoch 3/12 it 1600/2711 loss 0.7160 lr 1.15e-04 elapsed 552.8s\n"
          ]
        },
        {
          "output_type": "stream",
          "name": "stdout",
          "text": [
            "[fold 3] epoch 3/12 it 1650/2711 loss 0.7160 lr 1.15e-04 elapsed 570.1s\n"
          ]
        },
        {
          "output_type": "stream",
          "name": "stdout",
          "text": [
            "[fold 3] epoch 3/12 it 1700/2711 loss 0.7159 lr 1.15e-04 elapsed 587.3s\n"
          ]
        },
        {
          "output_type": "stream",
          "name": "stdout",
          "text": [
            "[fold 3] epoch 3/12 it 1750/2711 loss 0.7163 lr 1.15e-04 elapsed 604.5s\n"
          ]
        },
        {
          "output_type": "stream",
          "name": "stdout",
          "text": [
            "[fold 3] epoch 3/12 it 1800/2711 loss 0.7163 lr 1.15e-04 elapsed 621.8s\n"
          ]
        },
        {
          "output_type": "stream",
          "name": "stdout",
          "text": [
            "[fold 3] epoch 3/12 it 1850/2711 loss 0.7162 lr 1.15e-04 elapsed 639.0s\n"
          ]
        },
        {
          "output_type": "stream",
          "name": "stdout",
          "text": [
            "[fold 3] epoch 3/12 it 1900/2711 loss 0.7162 lr 1.14e-04 elapsed 656.3s\n"
          ]
        },
        {
          "output_type": "stream",
          "name": "stdout",
          "text": [
            "[fold 3] epoch 3/12 it 1950/2711 loss 0.7158 lr 1.14e-04 elapsed 673.5s\n"
          ]
        },
        {
          "output_type": "stream",
          "name": "stdout",
          "text": [
            "[fold 3] epoch 3/12 it 2000/2711 loss 0.7155 lr 1.14e-04 elapsed 690.8s\n"
          ]
        },
        {
          "output_type": "stream",
          "name": "stdout",
          "text": [
            "[fold 3] epoch 3/12 it 2050/2711 loss 0.7151 lr 1.14e-04 elapsed 708.1s\n"
          ]
        },
        {
          "output_type": "stream",
          "name": "stdout",
          "text": [
            "[fold 3] epoch 3/12 it 2100/2711 loss 0.7147 lr 1.14e-04 elapsed 725.3s\n"
          ]
        },
        {
          "output_type": "stream",
          "name": "stdout",
          "text": [
            "[fold 3] epoch 3/12 it 2150/2711 loss 0.7148 lr 1.14e-04 elapsed 742.6s\n"
          ]
        },
        {
          "output_type": "stream",
          "name": "stdout",
          "text": [
            "[fold 3] epoch 3/12 it 2200/2711 loss 0.7145 lr 1.14e-04 elapsed 759.8s\n"
          ]
        },
        {
          "output_type": "stream",
          "name": "stdout",
          "text": [
            "[fold 3] epoch 3/12 it 2250/2711 loss 0.7147 lr 1.14e-04 elapsed 777.1s\n"
          ]
        },
        {
          "output_type": "stream",
          "name": "stdout",
          "text": [
            "[fold 3] epoch 3/12 it 2300/2711 loss 0.7146 lr 1.13e-04 elapsed 794.3s\n"
          ]
        },
        {
          "output_type": "stream",
          "name": "stdout",
          "text": [
            "[fold 3] epoch 3/12 it 2350/2711 loss 0.7147 lr 1.13e-04 elapsed 811.6s\n"
          ]
        },
        {
          "output_type": "stream",
          "name": "stdout",
          "text": [
            "[fold 3] epoch 3/12 it 2400/2711 loss 0.7143 lr 1.13e-04 elapsed 828.8s\n"
          ]
        },
        {
          "output_type": "stream",
          "name": "stdout",
          "text": [
            "[fold 3] epoch 3/12 it 2450/2711 loss 0.7143 lr 1.13e-04 elapsed 846.0s\n"
          ]
        },
        {
          "output_type": "stream",
          "name": "stdout",
          "text": [
            "[fold 3] epoch 3/12 it 2500/2711 loss 0.7143 lr 1.13e-04 elapsed 863.3s\n"
          ]
        },
        {
          "output_type": "stream",
          "name": "stdout",
          "text": [
            "[fold 3] epoch 3/12 it 2550/2711 loss 0.7144 lr 1.13e-04 elapsed 880.5s\n"
          ]
        },
        {
          "output_type": "stream",
          "name": "stdout",
          "text": [
            "[fold 3] epoch 3/12 it 2600/2711 loss 0.7139 lr 1.13e-04 elapsed 897.7s\n"
          ]
        },
        {
          "output_type": "stream",
          "name": "stdout",
          "text": [
            "[fold 3] epoch 3/12 it 2650/2711 loss 0.7139 lr 1.13e-04 elapsed 915.0s\n"
          ]
        },
        {
          "output_type": "stream",
          "name": "stdout",
          "text": [
            "[fold 3] epoch 3/12 it 2700/2711 loss 0.7141 lr 1.12e-04 elapsed 932.2s\n"
          ]
        },
        {
          "output_type": "stream",
          "name": "stdout",
          "text": [
            "[fold 3] epoch 3 val macro AUC: 0.90333\n  ETT - Abnormal: 0.8900\n  ETT - Borderline: 0.9148\n  ETT - Normal: 0.9859\n  NGT - Abnormal: 0.8688\n  NGT - Borderline: 0.9136\n  NGT - Incompletely Imaged: 0.9727\n  NGT - Normal: 0.9752\n  CVC - Abnormal: 0.8602\n  CVC - Borderline: 0.7488\n"
          ]
        },
        {
          "output_type": "stream",
          "name": "stdout",
          "text": [
            "[fold 3] saved best to chkpts/effb4ns_fold3.pt\n[fold 3] epoch 3 train_loss 0.7141 time 1088.6s\n"
          ]
        },
        {
          "output_type": "stream",
          "name": "stdout",
          "text": [
            "[debug] first-batch targets sum per class: [0.0, 0.0, 2.0, 0.0, 0.0, 0.0, 2.0, 0.0, 1.0]\n"
          ]
        },
        {
          "output_type": "stream",
          "name": "stderr",
          "text": [
            "/tmp/ipykernel_1774/544503444.py:126: FutureWarning: `torch.cuda.amp.autocast(args...)` is deprecated. Please use `torch.amp.autocast('cuda', args...)` instead.\n  with torch.cuda.amp.autocast(enabled=(DEVICE=='cuda')):\n"
          ]
        },
        {
          "output_type": "stream",
          "name": "stdout",
          "text": [
            "[fold 3] epoch 4/12 it 50/2711 loss 0.6700 lr 1.12e-04 elapsed 18.0s\n"
          ]
        },
        {
          "output_type": "stream",
          "name": "stdout",
          "text": [
            "[fold 3] epoch 4/12 it 100/2711 loss 0.6693 lr 1.12e-04 elapsed 35.3s\n"
          ]
        },
        {
          "output_type": "stream",
          "name": "stdout",
          "text": [
            "[fold 3] epoch 4/12 it 150/2711 loss 0.6695 lr 1.12e-04 elapsed 52.6s\n"
          ]
        },
        {
          "output_type": "stream",
          "name": "stdout",
          "text": [
            "[fold 3] epoch 4/12 it 200/2711 loss 0.6716 lr 1.12e-04 elapsed 69.8s\n"
          ]
        },
        {
          "output_type": "stream",
          "name": "stdout",
          "text": [
            "[fold 3] epoch 4/12 it 250/2711 loss 0.6748 lr 1.12e-04 elapsed 87.1s\n"
          ]
        },
        {
          "output_type": "stream",
          "name": "stdout",
          "text": [
            "[fold 3] epoch 4/12 it 300/2711 loss 0.6762 lr 1.12e-04 elapsed 104.3s\n"
          ]
        },
        {
          "output_type": "stream",
          "name": "stdout",
          "text": [
            "[fold 3] epoch 4/12 it 350/2711 loss 0.6771 lr 1.11e-04 elapsed 121.6s\n"
          ]
        },
        {
          "output_type": "stream",
          "name": "stdout",
          "text": [
            "[fold 3] epoch 4/12 it 400/2711 loss 0.6786 lr 1.11e-04 elapsed 138.8s\n"
          ]
        },
        {
          "output_type": "stream",
          "name": "stdout",
          "text": [
            "[fold 3] epoch 4/12 it 450/2711 loss 0.6797 lr 1.11e-04 elapsed 156.0s\n"
          ]
        },
        {
          "output_type": "stream",
          "name": "stdout",
          "text": [
            "[fold 3] epoch 4/12 it 500/2711 loss 0.6794 lr 1.11e-04 elapsed 173.3s\n"
          ]
        },
        {
          "output_type": "stream",
          "name": "stdout",
          "text": [
            "[fold 3] epoch 4/12 it 550/2711 loss 0.6786 lr 1.11e-04 elapsed 190.5s\n"
          ]
        },
        {
          "output_type": "stream",
          "name": "stdout",
          "text": [
            "[fold 3] epoch 4/12 it 600/2711 loss 0.6795 lr 1.11e-04 elapsed 207.8s\n"
          ]
        },
        {
          "output_type": "stream",
          "name": "stdout",
          "text": [
            "[fold 3] epoch 4/12 it 650/2711 loss 0.6814 lr 1.10e-04 elapsed 225.0s\n"
          ]
        },
        {
          "output_type": "stream",
          "name": "stdout",
          "text": [
            "[fold 3] epoch 4/12 it 700/2711 loss 0.6819 lr 1.10e-04 elapsed 242.3s\n"
          ]
        },
        {
          "output_type": "stream",
          "name": "stdout",
          "text": [
            "[fold 3] epoch 4/12 it 750/2711 loss 0.6817 lr 1.10e-04 elapsed 259.5s\n"
          ]
        },
        {
          "output_type": "stream",
          "name": "stdout",
          "text": [
            "[fold 3] epoch 4/12 it 800/2711 loss 0.6820 lr 1.10e-04 elapsed 276.8s\n"
          ]
        },
        {
          "output_type": "stream",
          "name": "stdout",
          "text": [
            "[fold 3] epoch 4/12 it 850/2711 loss 0.6834 lr 1.10e-04 elapsed 294.0s\n"
          ]
        },
        {
          "output_type": "stream",
          "name": "stdout",
          "text": [
            "[fold 3] epoch 4/12 it 900/2711 loss 0.6834 lr 1.10e-04 elapsed 311.2s\n"
          ]
        },
        {
          "output_type": "stream",
          "name": "stdout",
          "text": [
            "[fold 3] epoch 4/12 it 950/2711 loss 0.6837 lr 1.10e-04 elapsed 328.5s\n"
          ]
        },
        {
          "output_type": "stream",
          "name": "stdout",
          "text": [
            "[fold 3] epoch 4/12 it 1000/2711 loss 0.6847 lr 1.09e-04 elapsed 345.7s\n"
          ]
        },
        {
          "output_type": "stream",
          "name": "stdout",
          "text": [
            "[fold 3] epoch 4/12 it 1050/2711 loss 0.6850 lr 1.09e-04 elapsed 363.3s\n"
          ]
        },
        {
          "output_type": "stream",
          "name": "stdout",
          "text": [
            "[fold 3] epoch 4/12 it 1100/2711 loss 0.6847 lr 1.09e-04 elapsed 380.6s\n"
          ]
        },
        {
          "output_type": "stream",
          "name": "stdout",
          "text": [
            "[fold 3] epoch 4/12 it 1150/2711 loss 0.6846 lr 1.09e-04 elapsed 397.8s\n"
          ]
        },
        {
          "output_type": "stream",
          "name": "stdout",
          "text": [
            "[fold 3] epoch 4/12 it 1200/2711 loss 0.6847 lr 1.09e-04 elapsed 415.0s\n"
          ]
        },
        {
          "output_type": "stream",
          "name": "stdout",
          "text": [
            "[fold 3] epoch 4/12 it 1250/2711 loss 0.6844 lr 1.09e-04 elapsed 432.3s\n"
          ]
        },
        {
          "output_type": "stream",
          "name": "stdout",
          "text": [
            "[fold 3] epoch 4/12 it 1300/2711 loss 0.6845 lr 1.08e-04 elapsed 449.5s\n"
          ]
        },
        {
          "output_type": "stream",
          "name": "stdout",
          "text": [
            "[fold 3] epoch 4/12 it 1350/2711 loss 0.6846 lr 1.08e-04 elapsed 466.8s\n"
          ]
        },
        {
          "output_type": "stream",
          "name": "stdout",
          "text": [
            "[fold 3] epoch 4/12 it 1400/2711 loss 0.6851 lr 1.08e-04 elapsed 484.1s\n"
          ]
        },
        {
          "output_type": "stream",
          "name": "stdout",
          "text": [
            "[fold 3] epoch 4/12 it 1450/2711 loss 0.6855 lr 1.08e-04 elapsed 501.3s\n"
          ]
        },
        {
          "output_type": "stream",
          "name": "stdout",
          "text": [
            "[fold 3] epoch 4/12 it 1500/2711 loss 0.6859 lr 1.08e-04 elapsed 518.5s\n"
          ]
        },
        {
          "output_type": "stream",
          "name": "stdout",
          "text": [
            "[fold 3] epoch 4/12 it 1550/2711 loss 0.6857 lr 1.08e-04 elapsed 535.8s\n"
          ]
        },
        {
          "output_type": "stream",
          "name": "stdout",
          "text": [
            "[fold 3] epoch 4/12 it 1600/2711 loss 0.6856 lr 1.07e-04 elapsed 553.1s\n"
          ]
        },
        {
          "output_type": "stream",
          "name": "stdout",
          "text": [
            "[fold 3] epoch 4/12 it 1650/2711 loss 0.6855 lr 1.07e-04 elapsed 570.3s\n"
          ]
        },
        {
          "output_type": "stream",
          "name": "stdout",
          "text": [
            "[fold 3] epoch 4/12 it 1700/2711 loss 0.6855 lr 1.07e-04 elapsed 587.6s\n"
          ]
        },
        {
          "output_type": "stream",
          "name": "stdout",
          "text": [
            "[fold 3] epoch 4/12 it 1750/2711 loss 0.6855 lr 1.07e-04 elapsed 604.8s\n"
          ]
        },
        {
          "output_type": "stream",
          "name": "stdout",
          "text": [
            "[fold 3] epoch 4/12 it 1800/2711 loss 0.6856 lr 1.07e-04 elapsed 622.1s\n"
          ]
        },
        {
          "output_type": "stream",
          "name": "stdout",
          "text": [
            "[fold 3] epoch 4/12 it 1850/2711 loss 0.6855 lr 1.07e-04 elapsed 639.4s\n"
          ]
        },
        {
          "output_type": "stream",
          "name": "stdout",
          "text": [
            "[fold 3] epoch 4/12 it 1900/2711 loss 0.6855 lr 1.06e-04 elapsed 656.6s\n"
          ]
        },
        {
          "output_type": "stream",
          "name": "stdout",
          "text": [
            "[fold 3] epoch 4/12 it 1950/2711 loss 0.6857 lr 1.06e-04 elapsed 673.9s\n"
          ]
        },
        {
          "output_type": "stream",
          "name": "stdout",
          "text": [
            "[fold 3] epoch 4/12 it 2000/2711 loss 0.6858 lr 1.06e-04 elapsed 691.1s\n"
          ]
        },
        {
          "output_type": "stream",
          "name": "stdout",
          "text": [
            "[fold 3] epoch 4/12 it 2050/2711 loss 0.6856 lr 1.06e-04 elapsed 708.4s\n"
          ]
        },
        {
          "output_type": "stream",
          "name": "stdout",
          "text": [
            "[fold 3] epoch 4/12 it 2100/2711 loss 0.6857 lr 1.06e-04 elapsed 725.6s\n"
          ]
        },
        {
          "output_type": "stream",
          "name": "stdout",
          "text": [
            "[fold 3] epoch 4/12 it 2150/2711 loss 0.6860 lr 1.05e-04 elapsed 742.9s\n"
          ]
        },
        {
          "output_type": "stream",
          "name": "stdout",
          "text": [
            "[fold 3] epoch 4/12 it 2200/2711 loss 0.6859 lr 1.05e-04 elapsed 760.2s\n"
          ]
        },
        {
          "output_type": "stream",
          "name": "stdout",
          "text": [
            "[fold 3] epoch 4/12 it 2250/2711 loss 0.6857 lr 1.05e-04 elapsed 777.4s\n"
          ]
        },
        {
          "output_type": "stream",
          "name": "stdout",
          "text": [
            "[fold 3] epoch 4/12 it 2300/2711 loss 0.6853 lr 1.05e-04 elapsed 794.6s\n"
          ]
        },
        {
          "output_type": "stream",
          "name": "stdout",
          "text": [
            "[fold 3] epoch 4/12 it 2350/2711 loss 0.6856 lr 1.05e-04 elapsed 811.9s\n"
          ]
        },
        {
          "output_type": "stream",
          "name": "stdout",
          "text": [
            "[fold 3] epoch 4/12 it 2400/2711 loss 0.6854 lr 1.05e-04 elapsed 829.2s\n"
          ]
        },
        {
          "output_type": "stream",
          "name": "stdout",
          "text": [
            "[fold 3] epoch 4/12 it 2450/2711 loss 0.6852 lr 1.04e-04 elapsed 846.4s\n"
          ]
        },
        {
          "output_type": "stream",
          "name": "stdout",
          "text": [
            "[fold 3] epoch 4/12 it 2500/2711 loss 0.6854 lr 1.04e-04 elapsed 863.7s\n"
          ]
        },
        {
          "output_type": "stream",
          "name": "stdout",
          "text": [
            "[fold 3] epoch 4/12 it 2550/2711 loss 0.6857 lr 1.04e-04 elapsed 880.9s\n"
          ]
        },
        {
          "output_type": "stream",
          "name": "stdout",
          "text": [
            "[fold 3] epoch 4/12 it 2600/2711 loss 0.6855 lr 1.04e-04 elapsed 898.2s\n"
          ]
        },
        {
          "output_type": "stream",
          "name": "stdout",
          "text": [
            "[fold 3] epoch 4/12 it 2650/2711 loss 0.6858 lr 1.04e-04 elapsed 915.5s\n"
          ]
        },
        {
          "output_type": "stream",
          "name": "stdout",
          "text": [
            "[fold 3] epoch 4/12 it 2700/2711 loss 0.6855 lr 1.03e-04 elapsed 932.8s\n"
          ]
        },
        {
          "output_type": "stream",
          "name": "stdout",
          "text": [
            "[fold 3] epoch 4 val macro AUC: 0.91582\n  ETT - Abnormal: 0.9677\n  ETT - Borderline: 0.8964\n  ETT - Normal: 0.9858\n  NGT - Abnormal: 0.8926\n  NGT - Borderline: 0.8860\n  NGT - Incompletely Imaged: 0.9767\n  NGT - Normal: 0.9758\n  CVC - Abnormal: 0.8721\n  CVC - Borderline: 0.7893\n"
          ]
        },
        {
          "output_type": "stream",
          "name": "stdout",
          "text": [
            "[fold 3] saved best to chkpts/effb4ns_fold3.pt\n[fold 3] epoch 4 train_loss 0.6856 time 1084.3s\n"
          ]
        },
        {
          "output_type": "stream",
          "name": "stdout",
          "text": [
            "[debug] first-batch targets sum per class: [0.0, 1.0, 2.0, 1.0, 0.0, 1.0, 1.0, 0.0, 4.0]\n"
          ]
        },
        {
          "output_type": "stream",
          "name": "stderr",
          "text": [
            "/tmp/ipykernel_1774/544503444.py:126: FutureWarning: `torch.cuda.amp.autocast(args...)` is deprecated. Please use `torch.amp.autocast('cuda', args...)` instead.\n  with torch.cuda.amp.autocast(enabled=(DEVICE=='cuda')):\n"
          ]
        },
        {
          "output_type": "stream",
          "name": "stdout",
          "text": [
            "[fold 3] epoch 5/12 it 50/2711 loss 0.6443 lr 1.03e-04 elapsed 18.2s\n"
          ]
        },
        {
          "output_type": "stream",
          "name": "stdout",
          "text": [
            "[fold 3] epoch 5/12 it 100/2711 loss 0.6470 lr 1.03e-04 elapsed 35.5s\n"
          ]
        },
        {
          "output_type": "stream",
          "name": "stdout",
          "text": [
            "[fold 3] epoch 5/12 it 150/2711 loss 0.6482 lr 1.03e-04 elapsed 52.7s\n"
          ]
        },
        {
          "output_type": "stream",
          "name": "stdout",
          "text": [
            "[fold 3] epoch 5/12 it 200/2711 loss 0.6516 lr 1.03e-04 elapsed 70.0s\n"
          ]
        },
        {
          "output_type": "stream",
          "name": "stdout",
          "text": [
            "[fold 3] epoch 5/12 it 250/2711 loss 0.6548 lr 1.02e-04 elapsed 87.3s\n"
          ]
        },
        {
          "output_type": "stream",
          "name": "stdout",
          "text": [
            "[fold 3] epoch 5/12 it 300/2711 loss 0.6576 lr 1.02e-04 elapsed 104.5s\n"
          ]
        },
        {
          "output_type": "stream",
          "name": "stdout",
          "text": [
            "[fold 3] epoch 5/12 it 350/2711 loss 0.6581 lr 1.02e-04 elapsed 121.7s\n"
          ]
        },
        {
          "output_type": "stream",
          "name": "stdout",
          "text": [
            "[fold 3] epoch 5/12 it 400/2711 loss 0.6578 lr 1.02e-04 elapsed 139.0s\n"
          ]
        },
        {
          "output_type": "stream",
          "name": "stdout",
          "text": [
            "[fold 3] epoch 5/12 it 450/2711 loss 0.6570 lr 1.02e-04 elapsed 156.2s\n"
          ]
        },
        {
          "output_type": "stream",
          "name": "stdout",
          "text": [
            "[fold 3] epoch 5/12 it 500/2711 loss 0.6565 lr 1.01e-04 elapsed 173.5s\n"
          ]
        },
        {
          "output_type": "stream",
          "name": "stdout",
          "text": [
            "[fold 3] epoch 5/12 it 550/2711 loss 0.6566 lr 1.01e-04 elapsed 190.7s\n"
          ]
        },
        {
          "output_type": "stream",
          "name": "stdout",
          "text": [
            "[fold 3] epoch 5/12 it 600/2711 loss 0.6551 lr 1.01e-04 elapsed 208.0s\n"
          ]
        },
        {
          "output_type": "stream",
          "name": "stdout",
          "text": [
            "[fold 3] epoch 5/12 it 650/2711 loss 0.6544 lr 1.01e-04 elapsed 225.2s\n"
          ]
        },
        {
          "output_type": "stream",
          "name": "stdout",
          "text": [
            "[fold 3] epoch 5/12 it 700/2711 loss 0.6547 lr 1.00e-04 elapsed 242.5s\n"
          ]
        },
        {
          "output_type": "stream",
          "name": "stdout",
          "text": [
            "[fold 3] epoch 5/12 it 750/2711 loss 0.6551 lr 1.00e-04 elapsed 259.7s\n"
          ]
        },
        {
          "output_type": "stream",
          "name": "stdout",
          "text": [
            "[fold 3] epoch 5/12 it 800/2711 loss 0.6548 lr 1.00e-04 elapsed 277.0s\n"
          ]
        },
        {
          "output_type": "stream",
          "name": "stdout",
          "text": [
            "[fold 3] epoch 5/12 it 850/2711 loss 0.6557 lr 9.99e-05 elapsed 294.2s\n"
          ]
        },
        {
          "output_type": "stream",
          "name": "stdout",
          "text": [
            "[fold 3] epoch 5/12 it 900/2711 loss 0.6553 lr 9.97e-05 elapsed 311.4s\n"
          ]
        },
        {
          "output_type": "stream",
          "name": "stdout",
          "text": [
            "[fold 3] epoch 5/12 it 950/2711 loss 0.6544 lr 9.95e-05 elapsed 328.7s\n"
          ]
        },
        {
          "output_type": "stream",
          "name": "stdout",
          "text": [
            "[fold 3] epoch 5/12 it 1000/2711 loss 0.6547 lr 9.92e-05 elapsed 345.9s\n"
          ]
        },
        {
          "output_type": "stream",
          "name": "stdout",
          "text": [
            "[fold 3] epoch 5/12 it 1050/2711 loss 0.6548 lr 9.90e-05 elapsed 363.1s\n"
          ]
        },
        {
          "output_type": "stream",
          "name": "stdout",
          "text": [
            "[fold 3] epoch 5/12 it 1100/2711 loss 0.6551 lr 9.88e-05 elapsed 380.4s\n"
          ]
        },
        {
          "output_type": "stream",
          "name": "stdout",
          "text": [
            "[fold 3] epoch 5/12 it 1150/2711 loss 0.6552 lr 9.86e-05 elapsed 397.6s\n"
          ]
        },
        {
          "output_type": "stream",
          "name": "stdout",
          "text": [
            "[fold 3] epoch 5/12 it 1200/2711 loss 0.6550 lr 9.84e-05 elapsed 414.8s\n"
          ]
        },
        {
          "output_type": "stream",
          "name": "stdout",
          "text": [
            "[fold 3] epoch 5/12 it 1250/2711 loss 0.6548 lr 9.82e-05 elapsed 432.1s\n"
          ]
        },
        {
          "output_type": "stream",
          "name": "stdout",
          "text": [
            "[fold 3] epoch 5/12 it 1300/2711 loss 0.6550 lr 9.79e-05 elapsed 449.3s\n"
          ]
        },
        {
          "output_type": "stream",
          "name": "stdout",
          "text": [
            "[fold 3] epoch 5/12 it 1350/2711 loss 0.6550 lr 9.77e-05 elapsed 466.5s\n"
          ]
        },
        {
          "output_type": "stream",
          "name": "stdout",
          "text": [
            "[fold 3] epoch 5/12 it 1400/2711 loss 0.6546 lr 9.75e-05 elapsed 483.8s\n"
          ]
        },
        {
          "output_type": "stream",
          "name": "stdout",
          "text": [
            "[fold 3] epoch 5/12 it 1450/2711 loss 0.6548 lr 9.73e-05 elapsed 501.0s\n"
          ]
        },
        {
          "output_type": "stream",
          "name": "stdout",
          "text": [
            "[fold 3] epoch 5/12 it 1500/2711 loss 0.6551 lr 9.71e-05 elapsed 518.2s\n"
          ]
        },
        {
          "output_type": "stream",
          "name": "stdout",
          "text": [
            "[fold 3] epoch 5/12 it 1550/2711 loss 0.6552 lr 9.69e-05 elapsed 535.5s\n"
          ]
        },
        {
          "output_type": "stream",
          "name": "stdout",
          "text": [
            "[fold 3] epoch 5/12 it 1600/2711 loss 0.6551 lr 9.66e-05 elapsed 552.7s\n"
          ]
        },
        {
          "output_type": "stream",
          "name": "stdout",
          "text": [
            "[fold 3] epoch 5/12 it 1650/2711 loss 0.6557 lr 9.64e-05 elapsed 570.0s\n"
          ]
        },
        {
          "output_type": "stream",
          "name": "stdout",
          "text": [
            "[fold 3] epoch 5/12 it 1700/2711 loss 0.6558 lr 9.62e-05 elapsed 587.2s\n"
          ]
        },
        {
          "output_type": "stream",
          "name": "stdout",
          "text": [
            "[fold 3] epoch 5/12 it 1750/2711 loss 0.6559 lr 9.60e-05 elapsed 604.5s\n"
          ]
        },
        {
          "output_type": "stream",
          "name": "stdout",
          "text": [
            "[fold 3] epoch 5/12 it 1800/2711 loss 0.6560 lr 9.57e-05 elapsed 621.7s\n"
          ]
        },
        {
          "output_type": "stream",
          "name": "stdout",
          "text": [
            "[fold 3] epoch 5/12 it 1850/2711 loss 0.6560 lr 9.55e-05 elapsed 639.0s\n"
          ]
        },
        {
          "output_type": "stream",
          "name": "stdout",
          "text": [
            "[fold 3] epoch 5/12 it 1900/2711 loss 0.6558 lr 9.53e-05 elapsed 656.2s\n"
          ]
        },
        {
          "output_type": "stream",
          "name": "stdout",
          "text": [
            "[fold 3] epoch 5/12 it 1950/2711 loss 0.6562 lr 9.51e-05 elapsed 673.5s\n"
          ]
        },
        {
          "output_type": "stream",
          "name": "stdout",
          "text": [
            "[fold 3] epoch 5/12 it 2000/2711 loss 0.6560 lr 9.48e-05 elapsed 690.8s\n"
          ]
        },
        {
          "output_type": "stream",
          "name": "stdout",
          "text": [
            "[fold 3] epoch 5/12 it 2050/2711 loss 0.6559 lr 9.46e-05 elapsed 708.0s\n"
          ]
        },
        {
          "output_type": "stream",
          "name": "stdout",
          "text": [
            "[fold 3] epoch 5/12 it 2100/2711 loss 0.6557 lr 9.44e-05 elapsed 725.3s\n"
          ]
        },
        {
          "output_type": "stream",
          "name": "stdout",
          "text": [
            "[fold 3] epoch 5/12 it 2150/2711 loss 0.6556 lr 9.41e-05 elapsed 742.5s\n"
          ]
        },
        {
          "output_type": "stream",
          "name": "stdout",
          "text": [
            "[fold 3] epoch 5/12 it 2200/2711 loss 0.6556 lr 9.39e-05 elapsed 759.7s\n"
          ]
        },
        {
          "output_type": "stream",
          "name": "stdout",
          "text": [
            "[fold 3] epoch 5/12 it 2250/2711 loss 0.6558 lr 9.37e-05 elapsed 777.0s\n"
          ]
        },
        {
          "output_type": "stream",
          "name": "stdout",
          "text": [
            "[fold 3] epoch 5/12 it 2300/2711 loss 0.6557 lr 9.34e-05 elapsed 794.2s\n"
          ]
        },
        {
          "output_type": "stream",
          "name": "stdout",
          "text": [
            "[fold 3] epoch 5/12 it 2350/2711 loss 0.6555 lr 9.32e-05 elapsed 811.5s\n"
          ]
        },
        {
          "output_type": "stream",
          "name": "stdout",
          "text": [
            "[fold 3] epoch 5/12 it 2400/2711 loss 0.6555 lr 9.30e-05 elapsed 828.7s\n"
          ]
        },
        {
          "output_type": "stream",
          "name": "stdout",
          "text": [
            "[fold 3] epoch 5/12 it 2450/2711 loss 0.6558 lr 9.27e-05 elapsed 845.9s\n"
          ]
        },
        {
          "output_type": "stream",
          "name": "stdout",
          "text": [
            "[fold 3] epoch 5/12 it 2500/2711 loss 0.6558 lr 9.25e-05 elapsed 863.2s\n"
          ]
        },
        {
          "output_type": "stream",
          "name": "stdout",
          "text": [
            "[fold 3] epoch 5/12 it 2550/2711 loss 0.6559 lr 9.23e-05 elapsed 880.4s\n"
          ]
        },
        {
          "output_type": "stream",
          "name": "stdout",
          "text": [
            "[fold 3] epoch 5/12 it 2600/2711 loss 0.6557 lr 9.20e-05 elapsed 897.6s\n"
          ]
        },
        {
          "output_type": "stream",
          "name": "stdout",
          "text": [
            "[fold 3] epoch 5/12 it 2650/2711 loss 0.6558 lr 9.18e-05 elapsed 914.8s\n"
          ]
        },
        {
          "output_type": "stream",
          "name": "stdout",
          "text": [
            "[fold 3] epoch 5/12 it 2700/2711 loss 0.6559 lr 9.16e-05 elapsed 932.1s\n"
          ]
        },
        {
          "output_type": "stream",
          "name": "stdout",
          "text": [
            "[fold 3] epoch 5 val macro AUC: 0.90057\n  ETT - Abnormal: 0.9790\n  ETT - Borderline: 0.9124\n  ETT - Normal: 0.9832\n  NGT - Abnormal: 0.7997\n  NGT - Borderline: 0.8330\n  NGT - Incompletely Imaged: 0.9770\n  NGT - Normal: 0.9702\n  CVC - Abnormal: 0.8682\n  CVC - Borderline: 0.7825\n[fold 3] epoch 5 train_loss 0.6559 time 1079.7s\n"
          ]
        },
        {
          "output_type": "stream",
          "name": "stdout",
          "text": [
            "[debug] first-batch targets sum per class: [0.0, 0.0, 2.0, 1.0, 0.0, 1.0, 0.0, 1.0, 1.0]\n"
          ]
        },
        {
          "output_type": "stream",
          "name": "stderr",
          "text": [
            "/tmp/ipykernel_1774/544503444.py:126: FutureWarning: `torch.cuda.amp.autocast(args...)` is deprecated. Please use `torch.amp.autocast('cuda', args...)` instead.\n  with torch.cuda.amp.autocast(enabled=(DEVICE=='cuda')):\n"
          ]
        },
        {
          "output_type": "stream",
          "name": "stdout",
          "text": [
            "[fold 3] epoch 6/12 it 50/2711 loss 0.6275 lr 9.13e-05 elapsed 18.1s\n"
          ]
        },
        {
          "output_type": "stream",
          "name": "stdout",
          "text": [
            "[fold 3] epoch 6/12 it 100/2711 loss 0.6241 lr 9.10e-05 elapsed 35.3s\n"
          ]
        },
        {
          "output_type": "stream",
          "name": "stdout",
          "text": [
            "[fold 3] epoch 6/12 it 150/2711 loss 0.6254 lr 9.08e-05 elapsed 52.6s\n"
          ]
        },
        {
          "output_type": "stream",
          "name": "stdout",
          "text": [
            "[fold 3] epoch 6/12 it 200/2711 loss 0.6240 lr 9.06e-05 elapsed 69.8s\n"
          ]
        },
        {
          "output_type": "stream",
          "name": "stdout",
          "text": [
            "[fold 3] epoch 6/12 it 250/2711 loss 0.6222 lr 9.03e-05 elapsed 87.1s\n"
          ]
        },
        {
          "output_type": "stream",
          "name": "stdout",
          "text": [
            "[fold 3] epoch 6/12 it 300/2711 loss 0.6221 lr 9.01e-05 elapsed 104.3s\n"
          ]
        },
        {
          "output_type": "stream",
          "name": "stdout",
          "text": [
            "[fold 3] epoch 6/12 it 350/2711 loss 0.6231 lr 8.98e-05 elapsed 121.6s\n"
          ]
        },
        {
          "output_type": "stream",
          "name": "stdout",
          "text": [
            "[fold 3] epoch 6/12 it 400/2711 loss 0.6224 lr 8.96e-05 elapsed 139.1s\n"
          ]
        },
        {
          "output_type": "stream",
          "name": "stdout",
          "text": [
            "[fold 3] epoch 6/12 it 450/2711 loss 0.6221 lr 8.93e-05 elapsed 156.4s\n"
          ]
        },
        {
          "output_type": "stream",
          "name": "stdout",
          "text": [
            "[fold 3] epoch 6/12 it 500/2711 loss 0.6223 lr 8.91e-05 elapsed 173.6s\n"
          ]
        },
        {
          "output_type": "stream",
          "name": "stdout",
          "text": [
            "[fold 3] epoch 6/12 it 550/2711 loss 0.6214 lr 8.88e-05 elapsed 190.8s\n"
          ]
        },
        {
          "output_type": "stream",
          "name": "stdout",
          "text": [
            "[fold 3] epoch 6/12 it 600/2711 loss 0.6213 lr 8.86e-05 elapsed 208.1s\n"
          ]
        },
        {
          "output_type": "stream",
          "name": "stdout",
          "text": [
            "[fold 3] epoch 6/12 it 650/2711 loss 0.6220 lr 8.84e-05 elapsed 225.3s\n"
          ]
        },
        {
          "output_type": "stream",
          "name": "stdout",
          "text": [
            "[fold 3] epoch 6/12 it 700/2711 loss 0.6227 lr 8.81e-05 elapsed 242.5s\n"
          ]
        },
        {
          "output_type": "stream",
          "name": "stdout",
          "text": [
            "[fold 3] epoch 6/12 it 750/2711 loss 0.6225 lr 8.79e-05 elapsed 259.8s\n"
          ]
        },
        {
          "output_type": "stream",
          "name": "stdout",
          "text": [
            "[fold 3] epoch 6/12 it 800/2711 loss 0.6224 lr 8.76e-05 elapsed 277.0s\n"
          ]
        },
        {
          "output_type": "stream",
          "name": "stdout",
          "text": [
            "[fold 3] epoch 6/12 it 850/2711 loss 0.6220 lr 8.74e-05 elapsed 294.2s\n"
          ]
        },
        {
          "output_type": "stream",
          "name": "stdout",
          "text": [
            "[fold 3] epoch 6/12 it 900/2711 loss 0.6224 lr 8.71e-05 elapsed 311.5s\n"
          ]
        },
        {
          "output_type": "stream",
          "name": "stdout",
          "text": [
            "[fold 3] epoch 6/12 it 950/2711 loss 0.6227 lr 8.69e-05 elapsed 328.7s\n"
          ]
        },
        {
          "output_type": "stream",
          "name": "stdout",
          "text": [
            "[fold 3] epoch 6/12 it 1000/2711 loss 0.6226 lr 8.66e-05 elapsed 346.0s\n"
          ]
        },
        {
          "output_type": "stream",
          "name": "stdout",
          "text": [
            "[fold 3] epoch 6/12 it 1050/2711 loss 0.6232 lr 8.64e-05 elapsed 363.2s\n"
          ]
        },
        {
          "output_type": "stream",
          "name": "stdout",
          "text": [
            "[fold 3] epoch 6/12 it 1100/2711 loss 0.6235 lr 8.61e-05 elapsed 380.5s\n"
          ]
        },
        {
          "output_type": "stream",
          "name": "stdout",
          "text": [
            "[fold 3] epoch 6/12 it 1150/2711 loss 0.6233 lr 8.59e-05 elapsed 397.8s\n"
          ]
        },
        {
          "output_type": "stream",
          "name": "stdout",
          "text": [
            "[fold 3] epoch 6/12 it 1200/2711 loss 0.6232 lr 8.56e-05 elapsed 415.0s\n"
          ]
        },
        {
          "output_type": "stream",
          "name": "stdout",
          "text": [
            "[fold 3] epoch 6/12 it 1250/2711 loss 0.6231 lr 8.54e-05 elapsed 432.3s\n"
          ]
        },
        {
          "output_type": "stream",
          "name": "stdout",
          "text": [
            "[fold 3] epoch 6/12 it 1300/2711 loss 0.6229 lr 8.51e-05 elapsed 449.5s\n"
          ]
        },
        {
          "output_type": "stream",
          "name": "stdout",
          "text": [
            "[fold 3] epoch 6/12 it 1350/2711 loss 0.6228 lr 8.48e-05 elapsed 466.7s\n"
          ]
        },
        {
          "output_type": "stream",
          "name": "stdout",
          "text": [
            "[fold 3] epoch 6/12 it 1400/2711 loss 0.6230 lr 8.46e-05 elapsed 483.9s\n"
          ]
        },
        {
          "output_type": "stream",
          "name": "stdout",
          "text": [
            "[fold 3] epoch 6/12 it 1450/2711 loss 0.6233 lr 8.43e-05 elapsed 501.2s\n"
          ]
        },
        {
          "output_type": "stream",
          "name": "stdout",
          "text": [
            "[fold 3] epoch 6/12 it 1500/2711 loss 0.6233 lr 8.41e-05 elapsed 518.4s\n"
          ]
        },
        {
          "output_type": "stream",
          "name": "stdout",
          "text": [
            "[fold 3] epoch 6/12 it 1550/2711 loss 0.6239 lr 8.38e-05 elapsed 535.7s\n"
          ]
        },
        {
          "output_type": "stream",
          "name": "stdout",
          "text": [
            "[fold 3] epoch 6/12 it 1600/2711 loss 0.6238 lr 8.36e-05 elapsed 553.0s\n"
          ]
        },
        {
          "output_type": "stream",
          "name": "stdout",
          "text": [
            "[fold 3] epoch 6/12 it 1650/2711 loss 0.6239 lr 8.33e-05 elapsed 570.2s\n"
          ]
        },
        {
          "output_type": "stream",
          "name": "stdout",
          "text": [
            "[fold 3] epoch 6/12 it 1700/2711 loss 0.6237 lr 8.31e-05 elapsed 587.5s\n"
          ]
        },
        {
          "output_type": "stream",
          "name": "stdout",
          "text": [
            "[fold 3] epoch 6/12 it 1750/2711 loss 0.6237 lr 8.28e-05 elapsed 604.9s\n"
          ]
        },
        {
          "output_type": "stream",
          "name": "stdout",
          "text": [
            "[fold 3] epoch 6/12 it 1800/2711 loss 0.6242 lr 8.25e-05 elapsed 622.1s\n"
          ]
        },
        {
          "output_type": "stream",
          "name": "stdout",
          "text": [
            "[fold 3] epoch 6/12 it 1850/2711 loss 0.6245 lr 8.23e-05 elapsed 639.4s\n"
          ]
        },
        {
          "output_type": "stream",
          "name": "stdout",
          "text": [
            "[fold 3] epoch 6/12 it 1900/2711 loss 0.6243 lr 8.20e-05 elapsed 656.7s\n"
          ]
        },
        {
          "output_type": "stream",
          "name": "stdout",
          "text": [
            "[fold 3] epoch 6/12 it 1950/2711 loss 0.6246 lr 8.18e-05 elapsed 674.0s\n"
          ]
        },
        {
          "output_type": "stream",
          "name": "stdout",
          "text": [
            "[fold 3] epoch 6/12 it 2000/2711 loss 0.6247 lr 8.15e-05 elapsed 691.3s\n"
          ]
        },
        {
          "output_type": "stream",
          "name": "stdout",
          "text": [
            "[fold 3] epoch 6/12 it 2050/2711 loss 0.6250 lr 8.12e-05 elapsed 708.6s\n"
          ]
        },
        {
          "output_type": "stream",
          "name": "stdout",
          "text": [
            "[fold 3] epoch 6/12 it 2100/2711 loss 0.6252 lr 8.10e-05 elapsed 725.9s\n"
          ]
        },
        {
          "output_type": "stream",
          "name": "stdout",
          "text": [
            "[fold 3] epoch 6/12 it 2150/2711 loss 0.6250 lr 8.07e-05 elapsed 743.2s\n"
          ]
        },
        {
          "output_type": "stream",
          "name": "stdout",
          "text": [
            "[fold 3] epoch 6/12 it 2200/2711 loss 0.6249 lr 8.05e-05 elapsed 760.4s\n"
          ]
        },
        {
          "output_type": "stream",
          "name": "stdout",
          "text": [
            "[fold 3] epoch 6/12 it 2250/2711 loss 0.6250 lr 8.02e-05 elapsed 777.7s\n"
          ]
        },
        {
          "output_type": "stream",
          "name": "stdout",
          "text": [
            "[fold 3] epoch 6/12 it 2300/2711 loss 0.6251 lr 7.99e-05 elapsed 794.9s\n"
          ]
        },
        {
          "output_type": "stream",
          "name": "stdout",
          "text": [
            "[fold 3] epoch 6/12 it 2350/2711 loss 0.6252 lr 7.97e-05 elapsed 812.2s\n"
          ]
        },
        {
          "output_type": "stream",
          "name": "stdout",
          "text": [
            "[fold 3] epoch 6/12 it 2400/2711 loss 0.6253 lr 7.94e-05 elapsed 829.4s\n"
          ]
        },
        {
          "output_type": "stream",
          "name": "stdout",
          "text": [
            "[fold 3] epoch 6/12 it 2450/2711 loss 0.6253 lr 7.91e-05 elapsed 846.7s\n"
          ]
        },
        {
          "output_type": "stream",
          "name": "stdout",
          "text": [
            "[fold 3] epoch 6/12 it 2500/2711 loss 0.6254 lr 7.89e-05 elapsed 863.9s\n"
          ]
        },
        {
          "output_type": "stream",
          "name": "stdout",
          "text": [
            "[fold 3] epoch 6/12 it 2550/2711 loss 0.6254 lr 7.86e-05 elapsed 881.1s\n"
          ]
        },
        {
          "output_type": "stream",
          "name": "stdout",
          "text": [
            "[fold 3] epoch 6/12 it 2600/2711 loss 0.6257 lr 7.83e-05 elapsed 898.4s\n"
          ]
        },
        {
          "output_type": "stream",
          "name": "stdout",
          "text": [
            "[fold 3] epoch 6/12 it 2650/2711 loss 0.6258 lr 7.81e-05 elapsed 915.6s\n"
          ]
        },
        {
          "output_type": "stream",
          "name": "stdout",
          "text": [
            "[fold 3] epoch 6/12 it 2700/2711 loss 0.6259 lr 7.78e-05 elapsed 932.9s\n"
          ]
        },
        {
          "output_type": "stream",
          "name": "stdout",
          "text": [
            "[fold 3] epoch 6 val macro AUC: 0.89217\n  ETT - Abnormal: 0.9366\n  ETT - Borderline: 0.8682\n  ETT - Normal: 0.9805\n  NGT - Abnormal: 0.8584\n  NGT - Borderline: 0.8387\n  NGT - Incompletely Imaged: 0.9577\n  NGT - Normal: 0.9647\n  CVC - Abnormal: 0.8575\n  CVC - Borderline: 0.7672\n[fold 3] epoch 6 train_loss 0.6258 time 1080.2s\n"
          ]
        },
        {
          "output_type": "stream",
          "name": "stdout",
          "text": [
            "[debug] first-batch targets sum per class: [0.0, 1.0, 0.0, 0.0, 1.0, 0.0, 1.0, 2.0, 4.0]\n"
          ]
        },
        {
          "output_type": "stream",
          "name": "stderr",
          "text": [
            "/tmp/ipykernel_1774/544503444.py:126: FutureWarning: `torch.cuda.amp.autocast(args...)` is deprecated. Please use `torch.amp.autocast('cuda', args...)` instead.\n  with torch.cuda.amp.autocast(enabled=(DEVICE=='cuda')):\n"
          ]
        },
        {
          "output_type": "stream",
          "name": "stdout",
          "text": [
            "[fold 3] epoch 7/12 it 50/2711 loss 0.6028 lr 7.75e-05 elapsed 18.2s\n"
          ]
        },
        {
          "output_type": "stream",
          "name": "stdout",
          "text": [
            "[fold 3] epoch 7/12 it 100/2711 loss 0.5987 lr 7.72e-05 elapsed 35.4s\n"
          ]
        },
        {
          "output_type": "stream",
          "name": "stdout",
          "text": [
            "[fold 3] epoch 7/12 it 150/2711 loss 0.5986 lr 7.70e-05 elapsed 52.7s\n"
          ]
        },
        {
          "output_type": "stream",
          "name": "stdout",
          "text": [
            "[fold 3] epoch 7/12 it 200/2711 loss 0.6001 lr 7.67e-05 elapsed 70.0s\n"
          ]
        },
        {
          "output_type": "stream",
          "name": "stdout",
          "text": [
            "[fold 3] epoch 7/12 it 250/2711 loss 0.5997 lr 7.64e-05 elapsed 87.2s\n"
          ]
        },
        {
          "output_type": "stream",
          "name": "stdout",
          "text": [
            "[fold 3] epoch 7/12 it 300/2711 loss 0.6004 lr 7.62e-05 elapsed 104.5s\n"
          ]
        },
        {
          "output_type": "stream",
          "name": "stdout",
          "text": [
            "[fold 3] epoch 7/12 it 350/2711 loss 0.6020 lr 7.59e-05 elapsed 121.7s\n"
          ]
        },
        {
          "output_type": "stream",
          "name": "stdout",
          "text": [
            "[fold 3] epoch 7/12 it 400/2711 loss 0.6023 lr 7.56e-05 elapsed 139.0s\n"
          ]
        },
        {
          "output_type": "stream",
          "name": "stdout",
          "text": [
            "[fold 3] epoch 7/12 it 450/2711 loss 0.6018 lr 7.54e-05 elapsed 156.2s\n"
          ]
        },
        {
          "output_type": "stream",
          "name": "stdout",
          "text": [
            "[fold 3] epoch 7/12 it 500/2711 loss 0.6005 lr 7.51e-05 elapsed 173.4s\n"
          ]
        },
        {
          "output_type": "stream",
          "name": "stdout",
          "text": [
            "[fold 3] epoch 7/12 it 550/2711 loss 0.6007 lr 7.48e-05 elapsed 190.7s\n"
          ]
        },
        {
          "output_type": "stream",
          "name": "stdout",
          "text": [
            "[fold 3] epoch 7/12 it 600/2711 loss 0.6005 lr 7.45e-05 elapsed 207.9s\n"
          ]
        },
        {
          "output_type": "stream",
          "name": "stdout",
          "text": [
            "[fold 3] epoch 7/12 it 650/2711 loss 0.5997 lr 7.43e-05 elapsed 225.2s\n"
          ]
        },
        {
          "output_type": "stream",
          "name": "stdout",
          "text": [
            "[fold 3] epoch 7/12 it 700/2711 loss 0.5994 lr 7.40e-05 elapsed 242.5s\n"
          ]
        },
        {
          "output_type": "stream",
          "name": "stdout",
          "text": [
            "[fold 3] epoch 7/12 it 750/2711 loss 0.5993 lr 7.37e-05 elapsed 259.8s\n"
          ]
        },
        {
          "output_type": "stream",
          "name": "stdout",
          "text": [
            "[fold 3] epoch 7/12 it 800/2711 loss 0.5989 lr 7.35e-05 elapsed 277.0s\n"
          ]
        },
        {
          "output_type": "stream",
          "name": "stdout",
          "text": [
            "[fold 3] epoch 7/12 it 850/2711 loss 0.5983 lr 7.32e-05 elapsed 294.3s\n"
          ]
        },
        {
          "output_type": "stream",
          "name": "stdout",
          "text": [
            "[fold 3] epoch 7/12 it 900/2711 loss 0.5982 lr 7.29e-05 elapsed 311.5s\n"
          ]
        },
        {
          "output_type": "stream",
          "name": "stdout",
          "text": [
            "[fold 3] epoch 7/12 it 950/2711 loss 0.5978 lr 7.27e-05 elapsed 328.8s\n"
          ]
        },
        {
          "output_type": "stream",
          "name": "stdout",
          "text": [
            "[fold 3] epoch 7/12 it 1000/2711 loss 0.5978 lr 7.24e-05 elapsed 346.0s\n"
          ]
        },
        {
          "output_type": "stream",
          "name": "stdout",
          "text": [
            "[fold 3] epoch 7/12 it 1050/2711 loss 0.5981 lr 7.21e-05 elapsed 363.3s\n"
          ]
        },
        {
          "output_type": "stream",
          "name": "stdout",
          "text": [
            "[fold 3] epoch 7/12 it 1100/2711 loss 0.5987 lr 7.18e-05 elapsed 380.5s\n"
          ]
        },
        {
          "output_type": "stream",
          "name": "stdout",
          "text": [
            "[fold 3] epoch 7/12 it 1150/2711 loss 0.5988 lr 7.16e-05 elapsed 397.7s\n"
          ]
        },
        {
          "output_type": "stream",
          "name": "stdout",
          "text": [
            "[fold 3] epoch 7/12 it 1200/2711 loss 0.5987 lr 7.13e-05 elapsed 415.0s\n"
          ]
        },
        {
          "output_type": "stream",
          "name": "stdout",
          "text": [
            "[fold 3] epoch 7/12 it 1250/2711 loss 0.5988 lr 7.10e-05 elapsed 432.2s\n"
          ]
        },
        {
          "output_type": "stream",
          "name": "stdout",
          "text": [
            "[fold 3] epoch 7/12 it 1300/2711 loss 0.5991 lr 7.08e-05 elapsed 449.4s\n"
          ]
        },
        {
          "output_type": "stream",
          "name": "stdout",
          "text": [
            "[fold 3] epoch 7/12 it 1350/2711 loss 0.5992 lr 7.05e-05 elapsed 466.7s\n"
          ]
        },
        {
          "output_type": "stream",
          "name": "stdout",
          "text": [
            "[fold 3] epoch 7/12 it 1400/2711 loss 0.5993 lr 7.02e-05 elapsed 483.9s\n"
          ]
        },
        {
          "output_type": "stream",
          "name": "stdout",
          "text": [
            "[fold 3] epoch 7/12 it 1450/2711 loss 0.5996 lr 6.99e-05 elapsed 501.2s\n"
          ]
        },
        {
          "output_type": "stream",
          "name": "stdout",
          "text": [
            "[fold 3] epoch 7/12 it 1500/2711 loss 0.5996 lr 6.97e-05 elapsed 518.5s\n"
          ]
        },
        {
          "output_type": "stream",
          "name": "stdout",
          "text": [
            "[fold 3] epoch 7/12 it 1550/2711 loss 0.5995 lr 6.94e-05 elapsed 535.7s\n"
          ]
        },
        {
          "output_type": "stream",
          "name": "stdout",
          "text": [
            "[fold 3] epoch 7/12 it 1600/2711 loss 0.5998 lr 6.91e-05 elapsed 553.0s\n"
          ]
        },
        {
          "output_type": "stream",
          "name": "stdout",
          "text": [
            "[fold 3] epoch 7/12 it 1650/2711 loss 0.5997 lr 6.88e-05 elapsed 570.2s\n"
          ]
        },
        {
          "output_type": "stream",
          "name": "stdout",
          "text": [
            "[fold 3] epoch 7/12 it 1700/2711 loss 0.5997 lr 6.86e-05 elapsed 587.5s\n"
          ]
        },
        {
          "output_type": "stream",
          "name": "stdout",
          "text": [
            "[fold 3] epoch 7/12 it 1750/2711 loss 0.5998 lr 6.83e-05 elapsed 604.8s\n"
          ]
        },
        {
          "output_type": "stream",
          "name": "stdout",
          "text": [
            "[fold 3] epoch 7/12 it 1800/2711 loss 0.6000 lr 6.80e-05 elapsed 622.0s\n"
          ]
        },
        {
          "output_type": "stream",
          "name": "stdout",
          "text": [
            "[fold 3] epoch 7/12 it 1850/2711 loss 0.6003 lr 6.77e-05 elapsed 639.3s\n"
          ]
        },
        {
          "output_type": "stream",
          "name": "stdout",
          "text": [
            "[fold 3] epoch 7/12 it 1900/2711 loss 0.6001 lr 6.75e-05 elapsed 656.6s\n"
          ]
        },
        {
          "output_type": "stream",
          "name": "stdout",
          "text": [
            "[fold 3] epoch 7/12 it 1950/2711 loss 0.6002 lr 6.72e-05 elapsed 673.8s\n"
          ]
        },
        {
          "output_type": "stream",
          "name": "stdout",
          "text": [
            "[fold 3] epoch 7/12 it 2000/2711 loss 0.6002 lr 6.69e-05 elapsed 691.1s\n"
          ]
        },
        {
          "output_type": "stream",
          "name": "stdout",
          "text": [
            "[fold 3] epoch 7/12 it 2050/2711 loss 0.6005 lr 6.66e-05 elapsed 708.4s\n"
          ]
        },
        {
          "output_type": "stream",
          "name": "stdout",
          "text": [
            "[fold 3] epoch 7/12 it 2100/2711 loss 0.6004 lr 6.64e-05 elapsed 725.6s\n"
          ]
        },
        {
          "output_type": "stream",
          "name": "stdout",
          "text": [
            "[fold 3] epoch 7/12 it 2150/2711 loss 0.6003 lr 6.61e-05 elapsed 742.8s\n"
          ]
        },
        {
          "output_type": "stream",
          "name": "stdout",
          "text": [
            "[fold 3] epoch 7/12 it 2200/2711 loss 0.6003 lr 6.58e-05 elapsed 760.1s\n"
          ]
        },
        {
          "output_type": "stream",
          "name": "stdout",
          "text": [
            "[fold 3] epoch 7/12 it 2250/2711 loss 0.6003 lr 6.55e-05 elapsed 777.3s\n"
          ]
        },
        {
          "output_type": "stream",
          "name": "stdout",
          "text": [
            "[fold 3] epoch 7/12 it 2300/2711 loss 0.6001 lr 6.53e-05 elapsed 794.6s\n"
          ]
        },
        {
          "output_type": "stream",
          "name": "stdout",
          "text": [
            "[fold 3] epoch 7/12 it 2350/2711 loss 0.6001 lr 6.50e-05 elapsed 811.9s\n"
          ]
        },
        {
          "output_type": "stream",
          "name": "stdout",
          "text": [
            "[fold 3] epoch 7/12 it 2400/2711 loss 0.6003 lr 6.47e-05 elapsed 829.1s\n"
          ]
        },
        {
          "output_type": "stream",
          "name": "stdout",
          "text": [
            "[fold 3] epoch 7/12 it 2450/2711 loss 0.6002 lr 6.44e-05 elapsed 846.3s\n"
          ]
        },
        {
          "output_type": "stream",
          "name": "stdout",
          "text": [
            "[fold 3] epoch 7/12 it 2500/2711 loss 0.6003 lr 6.42e-05 elapsed 863.6s\n"
          ]
        },
        {
          "output_type": "stream",
          "name": "stdout",
          "text": [
            "[fold 3] epoch 7/12 it 2550/2711 loss 0.6003 lr 6.39e-05 elapsed 881.1s\n"
          ]
        },
        {
          "output_type": "stream",
          "name": "stdout",
          "text": [
            "[fold 3] epoch 7/12 it 2600/2711 loss 0.6004 lr 6.36e-05 elapsed 898.3s\n"
          ]
        },
        {
          "output_type": "stream",
          "name": "stdout",
          "text": [
            "[fold 3] epoch 7/12 it 2650/2711 loss 0.6006 lr 6.33e-05 elapsed 915.5s\n"
          ]
        },
        {
          "output_type": "stream",
          "name": "stdout",
          "text": [
            "[fold 3] epoch 7/12 it 2700/2711 loss 0.6007 lr 6.31e-05 elapsed 932.8s\n"
          ]
        },
        {
          "output_type": "stream",
          "name": "stdout",
          "text": [
            "[fold 3] epoch 7 val macro AUC: 0.85932\n  ETT - Abnormal: 0.8946\n  ETT - Borderline: 0.8565\n  ETT - Normal: 0.9821\n  NGT - Abnormal: 0.7627\n  NGT - Borderline: 0.7240\n  NGT - Incompletely Imaged: 0.9217\n  NGT - Normal: 0.9759\n  CVC - Abnormal: 0.8531\n  CVC - Borderline: 0.7632\n[fold 3] epoch 7 train_loss 0.6007 time 1080.5s\n"
          ]
        },
        {
          "output_type": "stream",
          "name": "stdout",
          "text": [
            "[debug] first-batch targets sum per class: [0.0, 0.0, 1.0, 0.0, 0.0, 1.0, 0.0, 1.0, 3.0]\n"
          ]
        },
        {
          "output_type": "stream",
          "name": "stderr",
          "text": [
            "/tmp/ipykernel_1774/544503444.py:126: FutureWarning: `torch.cuda.amp.autocast(args...)` is deprecated. Please use `torch.amp.autocast('cuda', args...)` instead.\n  with torch.cuda.amp.autocast(enabled=(DEVICE=='cuda')):\n"
          ]
        },
        {
          "output_type": "stream",
          "name": "stdout",
          "text": [
            "[fold 3] epoch 8/12 it 50/2711 loss 0.5825 lr 6.27e-05 elapsed 18.2s\n"
          ]
        },
        {
          "output_type": "stream",
          "name": "stdout",
          "text": [
            "[fold 3] epoch 8/12 it 100/2711 loss 0.5853 lr 6.25e-05 elapsed 35.4s\n"
          ]
        },
        {
          "output_type": "stream",
          "name": "stdout",
          "text": [
            "[fold 3] epoch 8/12 it 150/2711 loss 0.5834 lr 6.22e-05 elapsed 52.7s\n"
          ]
        },
        {
          "output_type": "stream",
          "name": "stdout",
          "text": [
            "[fold 3] epoch 8/12 it 200/2711 loss 0.5829 lr 6.19e-05 elapsed 69.9s\n"
          ]
        },
        {
          "output_type": "stream",
          "name": "stdout",
          "text": [
            "[fold 3] epoch 8/12 it 250/2711 loss 0.5831 lr 6.16e-05 elapsed 87.2s\n"
          ]
        },
        {
          "output_type": "stream",
          "name": "stdout",
          "text": [
            "[fold 3] epoch 8/12 it 300/2711 loss 0.5832 lr 6.14e-05 elapsed 104.4s\n"
          ]
        },
        {
          "output_type": "stream",
          "name": "stdout",
          "text": [
            "[fold 3] epoch 8/12 it 350/2711 loss 0.5823 lr 6.11e-05 elapsed 121.7s\n"
          ]
        },
        {
          "output_type": "stream",
          "name": "stdout",
          "text": [
            "[fold 3] epoch 8/12 it 400/2711 loss 0.5821 lr 6.08e-05 elapsed 138.9s\n"
          ]
        },
        {
          "output_type": "stream",
          "name": "stdout",
          "text": [
            "[fold 3] epoch 8/12 it 450/2711 loss 0.5821 lr 6.05e-05 elapsed 156.2s\n"
          ]
        },
        {
          "output_type": "stream",
          "name": "stdout",
          "text": [
            "[fold 3] epoch 8/12 it 500/2711 loss 0.5821 lr 6.03e-05 elapsed 173.4s\n"
          ]
        },
        {
          "output_type": "stream",
          "name": "stdout",
          "text": [
            "[fold 3] epoch 8/12 it 550/2711 loss 0.5822 lr 6.00e-05 elapsed 190.6s\n"
          ]
        },
        {
          "output_type": "stream",
          "name": "stdout",
          "text": [
            "[fold 3] epoch 8/12 it 600/2711 loss 0.5824 lr 5.97e-05 elapsed 207.9s\n"
          ]
        },
        {
          "output_type": "stream",
          "name": "stdout",
          "text": [
            "[fold 3] epoch 8/12 it 650/2711 loss 0.5825 lr 5.94e-05 elapsed 225.1s\n"
          ]
        },
        {
          "output_type": "stream",
          "name": "stdout",
          "text": [
            "[fold 3] epoch 8/12 it 700/2711 loss 0.5826 lr 5.92e-05 elapsed 242.3s\n"
          ]
        },
        {
          "output_type": "stream",
          "name": "stdout",
          "text": [
            "[fold 3] epoch 8/12 it 750/2711 loss 0.5822 lr 5.89e-05 elapsed 259.5s\n"
          ]
        },
        {
          "output_type": "stream",
          "name": "stdout",
          "text": [
            "[fold 3] epoch 8/12 it 800/2711 loss 0.5823 lr 5.86e-05 elapsed 276.8s\n"
          ]
        },
        {
          "output_type": "stream",
          "name": "stdout",
          "text": [
            "[fold 3] epoch 8/12 it 850/2711 loss 0.5829 lr 5.83e-05 elapsed 294.0s\n"
          ]
        },
        {
          "output_type": "stream",
          "name": "stdout",
          "text": [
            "[fold 3] epoch 8/12 it 900/2711 loss 0.5827 lr 5.81e-05 elapsed 311.3s\n"
          ]
        },
        {
          "output_type": "stream",
          "name": "stdout",
          "text": [
            "[fold 3] epoch 8/12 it 950/2711 loss 0.5826 lr 5.78e-05 elapsed 328.5s\n"
          ]
        },
        {
          "output_type": "stream",
          "name": "stdout",
          "text": [
            "[fold 3] epoch 8/12 it 1000/2711 loss 0.5826 lr 5.75e-05 elapsed 345.8s\n"
          ]
        },
        {
          "output_type": "stream",
          "name": "stdout",
          "text": [
            "[fold 3] epoch 8/12 it 1050/2711 loss 0.5824 lr 5.72e-05 elapsed 363.0s\n"
          ]
        },
        {
          "output_type": "stream",
          "name": "stdout",
          "text": [
            "[fold 3] epoch 8/12 it 1100/2711 loss 0.5823 lr 5.70e-05 elapsed 380.3s\n"
          ]
        },
        {
          "output_type": "stream",
          "name": "stdout",
          "text": [
            "[fold 3] epoch 8/12 it 1150/2711 loss 0.5824 lr 5.67e-05 elapsed 397.6s\n"
          ]
        },
        {
          "output_type": "stream",
          "name": "stdout",
          "text": [
            "[fold 3] epoch 8/12 it 1200/2711 loss 0.5823 lr 5.64e-05 elapsed 414.8s\n"
          ]
        },
        {
          "output_type": "stream",
          "name": "stdout",
          "text": [
            "[fold 3] epoch 8/12 it 1250/2711 loss 0.5823 lr 5.61e-05 elapsed 432.0s\n"
          ]
        },
        {
          "output_type": "stream",
          "name": "stdout",
          "text": [
            "[fold 3] epoch 8/12 it 1300/2711 loss 0.5824 lr 5.59e-05 elapsed 449.3s\n"
          ]
        },
        {
          "output_type": "stream",
          "name": "stdout",
          "text": [
            "[fold 3] epoch 8/12 it 1350/2711 loss 0.5825 lr 5.56e-05 elapsed 466.6s\n"
          ]
        },
        {
          "output_type": "stream",
          "name": "stdout",
          "text": [
            "[fold 3] epoch 8/12 it 1400/2711 loss 0.5824 lr 5.53e-05 elapsed 483.8s\n"
          ]
        },
        {
          "output_type": "stream",
          "name": "stdout",
          "text": [
            "[fold 3] epoch 8/12 it 1450/2711 loss 0.5824 lr 5.51e-05 elapsed 501.1s\n"
          ]
        },
        {
          "output_type": "stream",
          "name": "stdout",
          "text": [
            "[fold 3] epoch 8/12 it 1500/2711 loss 0.5824 lr 5.48e-05 elapsed 518.4s\n"
          ]
        },
        {
          "output_type": "stream",
          "name": "stdout",
          "text": [
            "[fold 3] epoch 8/12 it 1550/2711 loss 0.5823 lr 5.45e-05 elapsed 535.6s\n"
          ]
        },
        {
          "output_type": "stream",
          "name": "stdout",
          "text": [
            "[fold 3] epoch 8/12 it 1600/2711 loss 0.5823 lr 5.42e-05 elapsed 552.9s\n"
          ]
        },
        {
          "output_type": "stream",
          "name": "stdout",
          "text": [
            "[fold 3] epoch 8/12 it 1650/2711 loss 0.5825 lr 5.40e-05 elapsed 570.1s\n"
          ]
        },
        {
          "output_type": "stream",
          "name": "stdout",
          "text": [
            "[fold 3] epoch 8/12 it 1700/2711 loss 0.5826 lr 5.37e-05 elapsed 587.3s\n"
          ]
        },
        {
          "output_type": "stream",
          "name": "stdout",
          "text": [
            "[fold 3] epoch 8/12 it 1750/2711 loss 0.5829 lr 5.34e-05 elapsed 604.6s\n"
          ]
        },
        {
          "output_type": "stream",
          "name": "stdout",
          "text": [
            "[fold 3] epoch 8/12 it 1800/2711 loss 0.5828 lr 5.31e-05 elapsed 621.8s\n"
          ]
        },
        {
          "output_type": "stream",
          "name": "stdout",
          "text": [
            "[fold 3] epoch 8/12 it 1850/2711 loss 0.5828 lr 5.29e-05 elapsed 639.1s\n"
          ]
        },
        {
          "output_type": "stream",
          "name": "stdout",
          "text": [
            "[fold 3] epoch 8/12 it 1900/2711 loss 0.5830 lr 5.26e-05 elapsed 656.3s\n"
          ]
        },
        {
          "output_type": "stream",
          "name": "stdout",
          "text": [
            "[fold 3] epoch 8/12 it 1950/2711 loss 0.5831 lr 5.23e-05 elapsed 673.5s\n"
          ]
        },
        {
          "output_type": "stream",
          "name": "stdout",
          "text": [
            "[fold 3] epoch 8/12 it 2000/2711 loss 0.5831 lr 5.21e-05 elapsed 690.8s\n"
          ]
        },
        {
          "output_type": "stream",
          "name": "stdout",
          "text": [
            "[fold 3] epoch 8/12 it 2050/2711 loss 0.5833 lr 5.18e-05 elapsed 708.0s\n"
          ]
        },
        {
          "output_type": "stream",
          "name": "stdout",
          "text": [
            "[fold 3] epoch 8/12 it 2100/2711 loss 0.5834 lr 5.15e-05 elapsed 725.3s\n"
          ]
        },
        {
          "output_type": "stream",
          "name": "stdout",
          "text": [
            "[fold 3] epoch 8/12 it 2150/2711 loss 0.5833 lr 5.13e-05 elapsed 742.5s\n"
          ]
        },
        {
          "output_type": "stream",
          "name": "stdout",
          "text": [
            "[fold 3] epoch 8/12 it 2200/2711 loss 0.5833 lr 5.10e-05 elapsed 759.7s\n"
          ]
        },
        {
          "output_type": "stream",
          "name": "stdout",
          "text": [
            "[fold 3] epoch 8/12 it 2250/2711 loss 0.5833 lr 5.07e-05 elapsed 777.0s\n"
          ]
        },
        {
          "output_type": "stream",
          "name": "stdout",
          "text": [
            "[fold 3] epoch 8/12 it 2300/2711 loss 0.5834 lr 5.04e-05 elapsed 794.2s\n"
          ]
        },
        {
          "output_type": "stream",
          "name": "stdout",
          "text": [
            "[fold 3] epoch 8/12 it 2350/2711 loss 0.5835 lr 5.02e-05 elapsed 811.5s\n"
          ]
        },
        {
          "output_type": "stream",
          "name": "stdout",
          "text": [
            "[fold 3] epoch 8/12 it 2400/2711 loss 0.5835 lr 4.99e-05 elapsed 828.7s\n"
          ]
        },
        {
          "output_type": "stream",
          "name": "stdout",
          "text": [
            "[fold 3] epoch 8/12 it 2450/2711 loss 0.5835 lr 4.96e-05 elapsed 846.0s\n"
          ]
        },
        {
          "output_type": "stream",
          "name": "stdout",
          "text": [
            "[fold 3] epoch 8/12 it 2500/2711 loss 0.5836 lr 4.94e-05 elapsed 863.2s\n"
          ]
        },
        {
          "output_type": "stream",
          "name": "stdout",
          "text": [
            "[fold 3] epoch 8/12 it 2550/2711 loss 0.5838 lr 4.91e-05 elapsed 880.5s\n"
          ]
        },
        {
          "output_type": "stream",
          "name": "stdout",
          "text": [
            "[fold 3] epoch 8/12 it 2600/2711 loss 0.5839 lr 4.88e-05 elapsed 897.8s\n"
          ]
        },
        {
          "output_type": "stream",
          "name": "stdout",
          "text": [
            "[fold 3] epoch 8/12 it 2650/2711 loss 0.5839 lr 4.86e-05 elapsed 915.0s\n"
          ]
        },
        {
          "output_type": "stream",
          "name": "stdout",
          "text": [
            "[fold 3] epoch 8/12 it 2700/2711 loss 0.5838 lr 4.83e-05 elapsed 932.2s\n"
          ]
        },
        {
          "output_type": "stream",
          "name": "stderr",
          "text": [
            "/tmp/ipykernel_1774/544503444.py:60: RuntimeWarning: overflow encountered in exp\n  return 1 / (1 + np.exp(-x))\n"
          ]
        },
        {
          "output_type": "stream",
          "name": "stdout",
          "text": [
            "[fold 3] epoch 8 val macro AUC: 0.86835\n  ETT - Abnormal: 0.9143\n  ETT - Borderline: 0.8426\n  ETT - Normal: 0.9749\n  NGT - Abnormal: 0.7924\n  NGT - Borderline: 0.7934\n  NGT - Incompletely Imaged: 0.9306\n  NGT - Normal: 0.9671\n  CVC - Abnormal: 0.8373\n  CVC - Borderline: 0.7625\n[fold 3] epoch 8 train_loss 0.5838 time 1080.4s\n[fold 3] Early stopping at epoch 8\n[fold 3] best macro AUC: 0.91582 total time 8672.5s\n[cv] Fold 3 best AUC: 0.91582 elapsed 8673.7s\n\n===== Fold 4 training start =====\n"
          ]
        },
        {
          "output_type": "stream",
          "name": "stdout",
          "text": [
            "[debug] target_cols: ['ETT - Abnormal', 'ETT - Borderline', 'ETT - Normal', 'NGT - Abnormal', 'NGT - Borderline', 'NGT - Incompletely Imaged', 'NGT - Normal', 'CVC - Abnormal', 'CVC - Borderline']\n"
          ]
        },
        {
          "output_type": "stream",
          "name": "stderr",
          "text": [
            "/app/.pip-target/albumentations/core/validation.py:114: UserWarning: ShiftScaleRotate is a special case of Affine transform. Please use Affine transform instead.\n  original_init(self, **validated_kwargs)\n/app/.pip-target/timm/models/_factory.py:138: UserWarning: Mapping deprecated model name tf_efficientnet_b4_ns to current tf_efficientnet_b4.ns_jft_in1k.\n  model = create_fn(\n"
          ]
        },
        {
          "output_type": "stream",
          "name": "stdout",
          "text": [
            "[model] pretrained=True; num_outputs 9 fc_mean 0.0006879855063743889\n[DEBUG] Initial pos_weight: [5.0, 5.0, 3.163309335708618, 5.0, 5.0, 5.0, 5.0, 5.0, 2.5474319458007812]\n"
          ]
        },
        {
          "output_type": "stream",
          "name": "stderr",
          "text": [
            "/tmp/ipykernel_1774/544503444.py:104: FutureWarning: `torch.cuda.amp.GradScaler(args...)` is deprecated. Please use `torch.amp.GradScaler('cuda', args...)` instead.\n  scaler = torch.cuda.amp.GradScaler(enabled=(DEVICE=='cuda'))\n"
          ]
        },
        {
          "output_type": "stream",
          "name": "stdout",
          "text": [
            "[debug] first-batch targets sum per class: [0.0, 1.0, 1.0, 0.0, 0.0, 1.0, 1.0, 0.0, 3.0]\n"
          ]
        },
        {
          "output_type": "stream",
          "name": "stderr",
          "text": [
            "/tmp/ipykernel_1774/544503444.py:126: FutureWarning: `torch.cuda.amp.autocast(args...)` is deprecated. Please use `torch.amp.autocast('cuda', args...)` instead.\n  with torch.cuda.amp.autocast(enabled=(DEVICE=='cuda')):\n"
          ]
        },
        {
          "output_type": "stream",
          "name": "stdout",
          "text": [
            "[fold 4] epoch 1/12 it 50/2652 loss 1.1134 lr 1.40e-05 elapsed 18.7s\n"
          ]
        },
        {
          "output_type": "stream",
          "name": "stdout",
          "text": [
            "[fold 4] epoch 1/12 it 100/2652 loss 1.0510 lr 1.60e-05 elapsed 36.0s\n"
          ]
        },
        {
          "output_type": "stream",
          "name": "stdout",
          "text": [
            "[fold 4] epoch 1/12 it 150/2652 loss 1.0176 lr 1.80e-05 elapsed 53.3s\n"
          ]
        },
        {
          "output_type": "stream",
          "name": "stdout",
          "text": [
            "[fold 4] epoch 1/12 it 200/2652 loss 0.9907 lr 2.01e-05 elapsed 70.5s\n"
          ]
        },
        {
          "output_type": "stream",
          "name": "stdout",
          "text": [
            "[fold 4] epoch 1/12 it 250/2652 loss 0.9779 lr 2.21e-05 elapsed 87.8s\n"
          ]
        },
        {
          "output_type": "stream",
          "name": "stdout",
          "text": [
            "[fold 4] epoch 1/12 it 300/2652 loss 0.9645 lr 2.41e-05 elapsed 105.0s\n"
          ]
        },
        {
          "output_type": "stream",
          "name": "stdout",
          "text": [
            "[fold 4] epoch 1/12 it 350/2652 loss 0.9584 lr 2.62e-05 elapsed 122.2s\n"
          ]
        },
        {
          "output_type": "stream",
          "name": "stdout",
          "text": [
            "[fold 4] epoch 1/12 it 400/2652 loss 0.9519 lr 2.82e-05 elapsed 139.5s\n"
          ]
        },
        {
          "output_type": "stream",
          "name": "stdout",
          "text": [
            "[fold 4] epoch 1/12 it 450/2652 loss 0.9436 lr 3.02e-05 elapsed 156.7s\n"
          ]
        },
        {
          "output_type": "stream",
          "name": "stdout",
          "text": [
            "[fold 4] epoch 1/12 it 500/2652 loss 0.9345 lr 3.23e-05 elapsed 174.0s\n"
          ]
        },
        {
          "output_type": "stream",
          "name": "stdout",
          "text": [
            "[fold 4] epoch 1/12 it 550/2652 loss 0.9293 lr 3.43e-05 elapsed 191.2s\n"
          ]
        },
        {
          "output_type": "stream",
          "name": "stdout",
          "text": [
            "[fold 4] epoch 1/12 it 600/2652 loss 0.9225 lr 3.64e-05 elapsed 208.5s\n"
          ]
        },
        {
          "output_type": "stream",
          "name": "stdout",
          "text": [
            "[fold 4] epoch 1/12 it 650/2652 loss 0.9177 lr 3.84e-05 elapsed 225.8s\n"
          ]
        },
        {
          "output_type": "stream",
          "name": "stdout",
          "text": [
            "[fold 4] epoch 1/12 it 700/2652 loss 0.9147 lr 4.04e-05 elapsed 243.1s\n"
          ]
        },
        {
          "output_type": "stream",
          "name": "stdout",
          "text": [
            "[fold 4] epoch 1/12 it 750/2652 loss 0.9107 lr 4.25e-05 elapsed 260.4s\n"
          ]
        },
        {
          "output_type": "stream",
          "name": "stdout",
          "text": [
            "[fold 4] epoch 1/12 it 800/2652 loss 0.9048 lr 4.45e-05 elapsed 277.6s\n"
          ]
        },
        {
          "output_type": "stream",
          "name": "stdout",
          "text": [
            "[fold 4] epoch 1/12 it 850/2652 loss 0.8999 lr 4.65e-05 elapsed 294.9s\n"
          ]
        },
        {
          "output_type": "stream",
          "name": "stdout",
          "text": [
            "[fold 4] epoch 1/12 it 900/2652 loss 0.8970 lr 4.86e-05 elapsed 312.2s\n"
          ]
        },
        {
          "output_type": "stream",
          "name": "stdout",
          "text": [
            "[fold 4] epoch 1/12 it 950/2652 loss 0.8945 lr 5.06e-05 elapsed 329.4s\n"
          ]
        },
        {
          "output_type": "stream",
          "name": "stdout",
          "text": [
            "[fold 4] epoch 1/12 it 1000/2652 loss 0.8919 lr 5.26e-05 elapsed 346.7s\n"
          ]
        },
        {
          "output_type": "stream",
          "name": "stdout",
          "text": [
            "[fold 4] epoch 1/12 it 1050/2652 loss 0.8895 lr 5.47e-05 elapsed 363.9s\n"
          ]
        },
        {
          "output_type": "stream",
          "name": "stdout",
          "text": [
            "[fold 4] epoch 1/12 it 1100/2652 loss 0.8875 lr 5.67e-05 elapsed 381.2s\n"
          ]
        },
        {
          "output_type": "stream",
          "name": "stdout",
          "text": [
            "[fold 4] epoch 1/12 it 1150/2652 loss 0.8850 lr 5.88e-05 elapsed 398.4s\n"
          ]
        },
        {
          "output_type": "stream",
          "name": "stdout",
          "text": [
            "[fold 4] epoch 1/12 it 1200/2652 loss 0.8830 lr 6.08e-05 elapsed 415.7s\n"
          ]
        },
        {
          "output_type": "stream",
          "name": "stdout",
          "text": [
            "[fold 4] epoch 1/12 it 1250/2652 loss 0.8799 lr 6.28e-05 elapsed 433.0s\n"
          ]
        },
        {
          "output_type": "stream",
          "name": "stdout",
          "text": [
            "[fold 4] epoch 1/12 it 1300/2652 loss 0.8778 lr 6.49e-05 elapsed 450.2s\n"
          ]
        },
        {
          "output_type": "stream",
          "name": "stdout",
          "text": [
            "[fold 4] epoch 1/12 it 1350/2652 loss 0.8751 lr 6.69e-05 elapsed 467.5s\n"
          ]
        },
        {
          "output_type": "stream",
          "name": "stdout",
          "text": [
            "[fold 4] epoch 1/12 it 1400/2652 loss 0.8722 lr 6.89e-05 elapsed 484.7s\n"
          ]
        },
        {
          "output_type": "stream",
          "name": "stdout",
          "text": [
            "[fold 4] epoch 1/12 it 1450/2652 loss 0.8701 lr 7.10e-05 elapsed 502.0s\n"
          ]
        },
        {
          "output_type": "stream",
          "name": "stdout",
          "text": [
            "[fold 4] epoch 1/12 it 1500/2652 loss 0.8678 lr 7.30e-05 elapsed 519.2s\n"
          ]
        },
        {
          "output_type": "stream",
          "name": "stdout",
          "text": [
            "[fold 4] epoch 1/12 it 1550/2652 loss 0.8658 lr 7.50e-05 elapsed 536.4s\n"
          ]
        },
        {
          "output_type": "stream",
          "name": "stdout",
          "text": [
            "[fold 4] epoch 1/12 it 1600/2652 loss 0.8639 lr 7.71e-05 elapsed 553.7s\n"
          ]
        },
        {
          "output_type": "stream",
          "name": "stdout",
          "text": [
            "[fold 4] epoch 1/12 it 1650/2652 loss 0.8623 lr 7.91e-05 elapsed 570.9s\n"
          ]
        },
        {
          "output_type": "stream",
          "name": "stdout",
          "text": [
            "[fold 4] epoch 1/12 it 1700/2652 loss 0.8603 lr 8.11e-05 elapsed 588.1s\n"
          ]
        },
        {
          "output_type": "stream",
          "name": "stdout",
          "text": [
            "[fold 4] epoch 1/12 it 1750/2652 loss 0.8584 lr 8.32e-05 elapsed 605.4s\n"
          ]
        },
        {
          "output_type": "stream",
          "name": "stdout",
          "text": [
            "[fold 4] epoch 1/12 it 1800/2652 loss 0.8578 lr 8.52e-05 elapsed 622.6s\n"
          ]
        },
        {
          "output_type": "stream",
          "name": "stdout",
          "text": [
            "[fold 4] epoch 1/12 it 1850/2652 loss 0.8565 lr 8.73e-05 elapsed 639.9s\n"
          ]
        },
        {
          "output_type": "stream",
          "name": "stdout",
          "text": [
            "[fold 4] epoch 1/12 it 1900/2652 loss 0.8546 lr 8.93e-05 elapsed 657.1s\n"
          ]
        },
        {
          "output_type": "stream",
          "name": "stdout",
          "text": [
            "[fold 4] epoch 1/12 it 1950/2652 loss 0.8534 lr 9.13e-05 elapsed 674.4s\n"
          ]
        },
        {
          "output_type": "stream",
          "name": "stdout",
          "text": [
            "[fold 4] epoch 1/12 it 2000/2652 loss 0.8524 lr 9.34e-05 elapsed 691.6s\n"
          ]
        },
        {
          "output_type": "stream",
          "name": "stdout",
          "text": [
            "[fold 4] epoch 1/12 it 2050/2652 loss 0.8513 lr 9.54e-05 elapsed 708.9s\n"
          ]
        },
        {
          "output_type": "stream",
          "name": "stdout",
          "text": [
            "[fold 4] epoch 1/12 it 2100/2652 loss 0.8498 lr 9.74e-05 elapsed 726.1s\n"
          ]
        },
        {
          "output_type": "stream",
          "name": "stdout",
          "text": [
            "[fold 4] epoch 1/12 it 2150/2652 loss 0.8486 lr 9.95e-05 elapsed 743.4s\n"
          ]
        },
        {
          "output_type": "stream",
          "name": "stdout",
          "text": [
            "[fold 4] epoch 1/12 it 2200/2652 loss 0.8477 lr 1.02e-04 elapsed 760.7s\n"
          ]
        },
        {
          "output_type": "stream",
          "name": "stdout",
          "text": [
            "[fold 4] epoch 1/12 it 2250/2652 loss 0.8470 lr 1.04e-04 elapsed 777.9s\n"
          ]
        },
        {
          "output_type": "stream",
          "name": "stdout",
          "text": [
            "[fold 4] epoch 1/12 it 2300/2652 loss 0.8457 lr 1.06e-04 elapsed 795.2s\n"
          ]
        },
        {
          "output_type": "stream",
          "name": "stdout",
          "text": [
            "[fold 4] epoch 1/12 it 2350/2652 loss 0.8449 lr 1.08e-04 elapsed 812.4s\n"
          ]
        },
        {
          "output_type": "stream",
          "name": "stdout",
          "text": [
            "[fold 4] epoch 1/12 it 2400/2652 loss 0.8436 lr 1.10e-04 elapsed 829.7s\n"
          ]
        },
        {
          "output_type": "stream",
          "name": "stdout",
          "text": [
            "[fold 4] epoch 1/12 it 2450/2652 loss 0.8428 lr 1.12e-04 elapsed 846.9s\n"
          ]
        },
        {
          "output_type": "stream",
          "name": "stdout",
          "text": [
            "[fold 4] epoch 1/12 it 2500/2652 loss 0.8420 lr 1.14e-04 elapsed 864.2s\n"
          ]
        },
        {
          "output_type": "stream",
          "name": "stdout",
          "text": [
            "[fold 4] epoch 1/12 it 2550/2652 loss 0.8409 lr 1.16e-04 elapsed 881.4s\n"
          ]
        },
        {
          "output_type": "stream",
          "name": "stdout",
          "text": [
            "[fold 4] epoch 1/12 it 2600/2652 loss 0.8400 lr 1.18e-04 elapsed 898.7s\n"
          ]
        },
        {
          "output_type": "stream",
          "name": "stdout",
          "text": [
            "[fold 4] epoch 1/12 it 2650/2652 loss 0.8393 lr 1.20e-04 elapsed 915.9s\n"
          ]
        },
        {
          "output_type": "stream",
          "name": "stdout",
          "text": [
            "[fold 4] epoch 1 val macro AUC: 0.83161\n  ETT - Abnormal: 0.8279\n  ETT - Borderline: 0.9171\n  ETT - Normal: 0.9861\n  NGT - Abnormal: 0.7839\n  NGT - Borderline: 0.8295\n  NGT - Incompletely Imaged: 0.9650\n  NGT - Normal: 0.9572\n  CVC - Abnormal: 0.6163\n  CVC - Borderline: 0.6015\n[fold 4] saved best to chkpts/effb4ns_fold4.pt\n[fold 4] epoch 1 train_loss 0.8393 time 1083.6s\n"
          ]
        },
        {
          "output_type": "stream",
          "name": "stdout",
          "text": [
            "[debug] first-batch targets sum per class: [0.0, 1.0, 2.0, 0.0, 0.0, 0.0, 3.0, 0.0, 3.0]\n"
          ]
        },
        {
          "output_type": "stream",
          "name": "stderr",
          "text": [
            "/tmp/ipykernel_1774/544503444.py:126: FutureWarning: `torch.cuda.amp.autocast(args...)` is deprecated. Please use `torch.amp.autocast('cuda', args...)` instead.\n  with torch.cuda.amp.autocast(enabled=(DEVICE=='cuda')):\n"
          ]
        },
        {
          "output_type": "stream",
          "name": "stdout",
          "text": [
            "[fold 4] epoch 2/12 it 50/2652 loss 0.7791 lr 1.20e-04 elapsed 18.2s\n"
          ]
        },
        {
          "output_type": "stream",
          "name": "stdout",
          "text": [
            "[fold 4] epoch 2/12 it 100/2652 loss 0.7674 lr 1.20e-04 elapsed 35.4s\n"
          ]
        },
        {
          "output_type": "stream",
          "name": "stdout",
          "text": [
            "[fold 4] epoch 2/12 it 150/2652 loss 0.7695 lr 1.20e-04 elapsed 52.7s\n"
          ]
        },
        {
          "output_type": "stream",
          "name": "stdout",
          "text": [
            "[fold 4] epoch 2/12 it 200/2652 loss 0.7718 lr 1.20e-04 elapsed 69.9s\n"
          ]
        },
        {
          "output_type": "stream",
          "name": "stdout",
          "text": [
            "[fold 4] epoch 2/12 it 250/2652 loss 0.7770 lr 1.20e-04 elapsed 87.2s\n"
          ]
        },
        {
          "output_type": "stream",
          "name": "stdout",
          "text": [
            "[fold 4] epoch 2/12 it 300/2652 loss 0.7773 lr 1.20e-04 elapsed 104.4s\n"
          ]
        },
        {
          "output_type": "stream",
          "name": "stdout",
          "text": [
            "[fold 4] epoch 2/12 it 350/2652 loss 0.7780 lr 1.20e-04 elapsed 121.7s\n"
          ]
        },
        {
          "output_type": "stream",
          "name": "stdout",
          "text": [
            "[fold 4] epoch 2/12 it 400/2652 loss 0.7773 lr 1.20e-04 elapsed 139.0s\n"
          ]
        },
        {
          "output_type": "stream",
          "name": "stdout",
          "text": [
            "[fold 4] epoch 2/12 it 450/2652 loss 0.7788 lr 1.20e-04 elapsed 156.2s\n"
          ]
        },
        {
          "output_type": "stream",
          "name": "stdout",
          "text": [
            "[fold 4] epoch 2/12 it 500/2652 loss 0.7760 lr 1.20e-04 elapsed 173.5s\n"
          ]
        },
        {
          "output_type": "stream",
          "name": "stdout",
          "text": [
            "[fold 4] epoch 2/12 it 550/2652 loss 0.7745 lr 1.20e-04 elapsed 190.8s\n"
          ]
        },
        {
          "output_type": "stream",
          "name": "stdout",
          "text": [
            "[fold 4] epoch 2/12 it 600/2652 loss 0.7753 lr 1.20e-04 elapsed 208.0s\n"
          ]
        },
        {
          "output_type": "stream",
          "name": "stdout",
          "text": [
            "[fold 4] epoch 2/12 it 650/2652 loss 0.7737 lr 1.20e-04 elapsed 225.2s\n"
          ]
        },
        {
          "output_type": "stream",
          "name": "stdout",
          "text": [
            "[fold 4] epoch 2/12 it 700/2652 loss 0.7731 lr 1.20e-04 elapsed 242.4s\n"
          ]
        },
        {
          "output_type": "stream",
          "name": "stdout",
          "text": [
            "[fold 4] epoch 2/12 it 750/2652 loss 0.7734 lr 1.20e-04 elapsed 259.7s\n"
          ]
        },
        {
          "output_type": "stream",
          "name": "stdout",
          "text": [
            "[fold 4] epoch 2/12 it 800/2652 loss 0.7726 lr 1.20e-04 elapsed 276.9s\n"
          ]
        },
        {
          "output_type": "stream",
          "name": "stdout",
          "text": [
            "[fold 4] epoch 2/12 it 850/2652 loss 0.7719 lr 1.20e-04 elapsed 294.2s\n"
          ]
        },
        {
          "output_type": "stream",
          "name": "stdout",
          "text": [
            "[fold 4] epoch 2/12 it 900/2652 loss 0.7714 lr 1.20e-04 elapsed 311.4s\n"
          ]
        },
        {
          "output_type": "stream",
          "name": "stdout",
          "text": [
            "[fold 4] epoch 2/12 it 950/2652 loss 0.7718 lr 1.20e-04 elapsed 328.6s\n"
          ]
        },
        {
          "output_type": "stream",
          "name": "stdout",
          "text": [
            "[fold 4] epoch 2/12 it 1000/2652 loss 0.7700 lr 1.20e-04 elapsed 345.9s\n"
          ]
        },
        {
          "output_type": "stream",
          "name": "stdout",
          "text": [
            "[fold 4] epoch 2/12 it 1050/2652 loss 0.7701 lr 1.20e-04 elapsed 363.1s\n"
          ]
        },
        {
          "output_type": "stream",
          "name": "stdout",
          "text": [
            "[fold 4] epoch 2/12 it 1100/2652 loss 0.7691 lr 1.20e-04 elapsed 380.4s\n"
          ]
        },
        {
          "output_type": "stream",
          "name": "stdout",
          "text": [
            "[fold 4] epoch 2/12 it 1150/2652 loss 0.7682 lr 1.20e-04 elapsed 397.6s\n"
          ]
        },
        {
          "output_type": "stream",
          "name": "stdout",
          "text": [
            "[fold 4] epoch 2/12 it 1200/2652 loss 0.7674 lr 1.20e-04 elapsed 414.9s\n"
          ]
        },
        {
          "output_type": "stream",
          "name": "stdout",
          "text": [
            "[fold 4] epoch 2/12 it 1250/2652 loss 0.7668 lr 1.20e-04 elapsed 432.1s\n"
          ]
        },
        {
          "output_type": "stream",
          "name": "stdout",
          "text": [
            "[fold 4] epoch 2/12 it 1300/2652 loss 0.7664 lr 1.20e-04 elapsed 449.4s\n"
          ]
        },
        {
          "output_type": "stream",
          "name": "stdout",
          "text": [
            "[fold 4] epoch 2/12 it 1350/2652 loss 0.7658 lr 1.19e-04 elapsed 466.6s\n"
          ]
        },
        {
          "output_type": "stream",
          "name": "stdout",
          "text": [
            "[fold 4] epoch 2/12 it 1400/2652 loss 0.7648 lr 1.19e-04 elapsed 483.9s\n"
          ]
        },
        {
          "output_type": "stream",
          "name": "stdout",
          "text": [
            "[fold 4] epoch 2/12 it 1450/2652 loss 0.7644 lr 1.19e-04 elapsed 501.2s\n"
          ]
        },
        {
          "output_type": "stream",
          "name": "stdout",
          "text": [
            "[fold 4] epoch 2/12 it 1500/2652 loss 0.7641 lr 1.19e-04 elapsed 518.5s\n"
          ]
        },
        {
          "output_type": "stream",
          "name": "stdout",
          "text": [
            "[fold 4] epoch 2/12 it 1550/2652 loss 0.7639 lr 1.19e-04 elapsed 535.7s\n"
          ]
        },
        {
          "output_type": "stream",
          "name": "stdout",
          "text": [
            "[fold 4] epoch 2/12 it 1600/2652 loss 0.7631 lr 1.19e-04 elapsed 553.0s\n"
          ]
        },
        {
          "output_type": "stream",
          "name": "stdout",
          "text": [
            "[fold 4] epoch 2/12 it 1650/2652 loss 0.7630 lr 1.19e-04 elapsed 570.7s\n"
          ]
        },
        {
          "output_type": "stream",
          "name": "stdout",
          "text": [
            "[fold 4] epoch 2/12 it 1700/2652 loss 0.7624 lr 1.19e-04 elapsed 588.0s\n"
          ]
        },
        {
          "output_type": "stream",
          "name": "stdout",
          "text": [
            "[fold 4] epoch 2/12 it 1750/2652 loss 0.7626 lr 1.19e-04 elapsed 605.2s\n"
          ]
        },
        {
          "output_type": "stream",
          "name": "stdout",
          "text": [
            "[fold 4] epoch 2/12 it 1800/2652 loss 0.7618 lr 1.19e-04 elapsed 622.5s\n"
          ]
        },
        {
          "output_type": "stream",
          "name": "stdout",
          "text": [
            "[fold 4] epoch 2/12 it 1850/2652 loss 0.7614 lr 1.19e-04 elapsed 639.8s\n"
          ]
        },
        {
          "output_type": "stream",
          "name": "stdout",
          "text": [
            "[fold 4] epoch 2/12 it 1900/2652 loss 0.7609 lr 1.19e-04 elapsed 657.0s\n"
          ]
        },
        {
          "output_type": "stream",
          "name": "stdout",
          "text": [
            "[fold 4] epoch 2/12 it 1950/2652 loss 0.7606 lr 1.19e-04 elapsed 674.2s\n"
          ]
        },
        {
          "output_type": "stream",
          "name": "stdout",
          "text": [
            "[fold 4] epoch 2/12 it 2000/2652 loss 0.7602 lr 1.19e-04 elapsed 691.5s\n"
          ]
        },
        {
          "output_type": "stream",
          "name": "stdout",
          "text": [
            "[fold 4] epoch 2/12 it 2050/2652 loss 0.7594 lr 1.19e-04 elapsed 708.7s\n"
          ]
        },
        {
          "output_type": "stream",
          "name": "stdout",
          "text": [
            "[fold 4] epoch 2/12 it 2100/2652 loss 0.7585 lr 1.19e-04 elapsed 725.9s\n"
          ]
        },
        {
          "output_type": "stream",
          "name": "stdout",
          "text": [
            "[fold 4] epoch 2/12 it 2150/2652 loss 0.7584 lr 1.19e-04 elapsed 743.2s\n"
          ]
        },
        {
          "output_type": "stream",
          "name": "stdout",
          "text": [
            "[fold 4] epoch 2/12 it 2200/2652 loss 0.7580 lr 1.19e-04 elapsed 760.4s\n"
          ]
        },
        {
          "output_type": "stream",
          "name": "stdout",
          "text": [
            "[fold 4] epoch 2/12 it 2250/2652 loss 0.7573 lr 1.19e-04 elapsed 777.6s\n"
          ]
        },
        {
          "output_type": "stream",
          "name": "stdout",
          "text": [
            "[fold 4] epoch 2/12 it 2300/2652 loss 0.7574 lr 1.19e-04 elapsed 794.9s\n"
          ]
        },
        {
          "output_type": "stream",
          "name": "stdout",
          "text": [
            "[fold 4] epoch 2/12 it 2350/2652 loss 0.7569 lr 1.18e-04 elapsed 812.1s\n"
          ]
        },
        {
          "output_type": "stream",
          "name": "stdout",
          "text": [
            "[fold 4] epoch 2/12 it 2400/2652 loss 0.7568 lr 1.18e-04 elapsed 829.4s\n"
          ]
        },
        {
          "output_type": "stream",
          "name": "stdout",
          "text": [
            "[fold 4] epoch 2/12 it 2450/2652 loss 0.7564 lr 1.18e-04 elapsed 846.6s\n"
          ]
        },
        {
          "output_type": "stream",
          "name": "stdout",
          "text": [
            "[fold 4] epoch 2/12 it 2500/2652 loss 0.7560 lr 1.18e-04 elapsed 863.8s\n"
          ]
        },
        {
          "output_type": "stream",
          "name": "stdout",
          "text": [
            "[fold 4] epoch 2/12 it 2550/2652 loss 0.7560 lr 1.18e-04 elapsed 881.1s\n"
          ]
        },
        {
          "output_type": "stream",
          "name": "stdout",
          "text": [
            "[fold 4] epoch 2/12 it 2600/2652 loss 0.7559 lr 1.18e-04 elapsed 898.3s\n"
          ]
        },
        {
          "output_type": "stream",
          "name": "stdout",
          "text": [
            "[fold 4] epoch 2/12 it 2650/2652 loss 0.7555 lr 1.18e-04 elapsed 915.6s\n"
          ]
        },
        {
          "output_type": "stream",
          "name": "stdout",
          "text": [
            "[fold 4] epoch 2 val macro AUC: 0.88215\n  ETT - Abnormal: 0.6838\n  ETT - Borderline: 0.9270\n  ETT - Normal: 0.9882\n  NGT - Abnormal: 0.9088\n  NGT - Borderline: 0.8838\n  NGT - Incompletely Imaged: 0.9765\n  NGT - Normal: 0.9780\n  CVC - Abnormal: 0.8379\n  CVC - Borderline: 0.7554\n"
          ]
        },
        {
          "output_type": "stream",
          "name": "stdout",
          "text": [
            "[fold 4] saved best to chkpts/effb4ns_fold4.pt\n[fold 4] epoch 2 train_loss 0.7555 time 1083.3s\n"
          ]
        },
        {
          "output_type": "stream",
          "name": "stdout",
          "text": [
            "[debug] first-batch targets sum per class: [0.0, 2.0, 1.0, 0.0, 0.0, 1.0, 1.0, 0.0, 3.0]\n"
          ]
        },
        {
          "output_type": "stream",
          "name": "stderr",
          "text": [
            "/tmp/ipykernel_1774/544503444.py:126: FutureWarning: `torch.cuda.amp.autocast(args...)` is deprecated. Please use `torch.amp.autocast('cuda', args...)` instead.\n  with torch.cuda.amp.autocast(enabled=(DEVICE=='cuda')):\n"
          ]
        },
        {
          "output_type": "stream",
          "name": "stdout",
          "text": [
            "[fold 4] epoch 3/12 it 50/2652 loss 0.7267 lr 1.18e-04 elapsed 18.1s\n"
          ]
        },
        {
          "output_type": "stream",
          "name": "stdout",
          "text": [
            "[fold 4] epoch 3/12 it 100/2652 loss 0.7263 lr 1.18e-04 elapsed 35.4s\n"
          ]
        },
        {
          "output_type": "stream",
          "name": "stdout",
          "text": [
            "[fold 4] epoch 3/12 it 150/2652 loss 0.7286 lr 1.18e-04 elapsed 52.7s\n"
          ]
        },
        {
          "output_type": "stream",
          "name": "stdout",
          "text": [
            "[fold 4] epoch 3/12 it 200/2652 loss 0.7260 lr 1.18e-04 elapsed 69.9s\n"
          ]
        },
        {
          "output_type": "stream",
          "name": "stdout",
          "text": [
            "[fold 4] epoch 3/12 it 250/2652 loss 0.7219 lr 1.18e-04 elapsed 87.2s\n"
          ]
        },
        {
          "output_type": "stream",
          "name": "stdout",
          "text": [
            "[fold 4] epoch 3/12 it 300/2652 loss 0.7227 lr 1.18e-04 elapsed 104.5s\n"
          ]
        },
        {
          "output_type": "stream",
          "name": "stdout",
          "text": [
            "[fold 4] epoch 3/12 it 350/2652 loss 0.7224 lr 1.18e-04 elapsed 121.7s\n"
          ]
        },
        {
          "output_type": "stream",
          "name": "stdout",
          "text": [
            "[fold 4] epoch 3/12 it 400/2652 loss 0.7220 lr 1.17e-04 elapsed 139.0s\n"
          ]
        },
        {
          "output_type": "stream",
          "name": "stdout",
          "text": [
            "[fold 4] epoch 3/12 it 450/2652 loss 0.7208 lr 1.17e-04 elapsed 156.3s\n"
          ]
        },
        {
          "output_type": "stream",
          "name": "stdout",
          "text": [
            "[fold 4] epoch 3/12 it 500/2652 loss 0.7194 lr 1.17e-04 elapsed 173.5s\n"
          ]
        },
        {
          "output_type": "stream",
          "name": "stdout",
          "text": [
            "[fold 4] epoch 3/12 it 550/2652 loss 0.7182 lr 1.17e-04 elapsed 190.7s\n"
          ]
        },
        {
          "output_type": "stream",
          "name": "stdout",
          "text": [
            "[fold 4] epoch 3/12 it 600/2652 loss 0.7179 lr 1.17e-04 elapsed 208.0s\n"
          ]
        },
        {
          "output_type": "stream",
          "name": "stdout",
          "text": [
            "[fold 4] epoch 3/12 it 650/2652 loss 0.7179 lr 1.17e-04 elapsed 225.2s\n"
          ]
        },
        {
          "output_type": "stream",
          "name": "stdout",
          "text": [
            "[fold 4] epoch 3/12 it 700/2652 loss 0.7177 lr 1.17e-04 elapsed 242.5s\n"
          ]
        },
        {
          "output_type": "stream",
          "name": "stdout",
          "text": [
            "[fold 4] epoch 3/12 it 750/2652 loss 0.7179 lr 1.17e-04 elapsed 259.7s\n"
          ]
        },
        {
          "output_type": "stream",
          "name": "stdout",
          "text": [
            "[fold 4] epoch 3/12 it 800/2652 loss 0.7170 lr 1.17e-04 elapsed 277.0s\n"
          ]
        },
        {
          "output_type": "stream",
          "name": "stdout",
          "text": [
            "[fold 4] epoch 3/12 it 850/2652 loss 0.7167 lr 1.17e-04 elapsed 294.3s\n"
          ]
        },
        {
          "output_type": "stream",
          "name": "stdout",
          "text": [
            "[fold 4] epoch 3/12 it 900/2652 loss 0.7178 lr 1.17e-04 elapsed 311.5s\n"
          ]
        },
        {
          "output_type": "stream",
          "name": "stdout",
          "text": [
            "[fold 4] epoch 3/12 it 950/2652 loss 0.7179 lr 1.16e-04 elapsed 328.8s\n"
          ]
        },
        {
          "output_type": "stream",
          "name": "stdout",
          "text": [
            "[fold 4] epoch 3/12 it 1000/2652 loss 0.7171 lr 1.16e-04 elapsed 346.0s\n"
          ]
        },
        {
          "output_type": "stream",
          "name": "stdout",
          "text": [
            "[fold 4] epoch 3/12 it 1050/2652 loss 0.7173 lr 1.16e-04 elapsed 363.2s\n"
          ]
        },
        {
          "output_type": "stream",
          "name": "stdout",
          "text": [
            "[fold 4] epoch 3/12 it 1100/2652 loss 0.7174 lr 1.16e-04 elapsed 380.5s\n"
          ]
        },
        {
          "output_type": "stream",
          "name": "stdout",
          "text": [
            "[fold 4] epoch 3/12 it 1150/2652 loss 0.7173 lr 1.16e-04 elapsed 397.7s\n"
          ]
        },
        {
          "output_type": "stream",
          "name": "stdout",
          "text": [
            "[fold 4] epoch 3/12 it 1200/2652 loss 0.7175 lr 1.16e-04 elapsed 415.0s\n"
          ]
        },
        {
          "output_type": "stream",
          "name": "stdout",
          "text": [
            "[fold 4] epoch 3/12 it 1250/2652 loss 0.7179 lr 1.16e-04 elapsed 432.2s\n"
          ]
        },
        {
          "output_type": "stream",
          "name": "stdout",
          "text": [
            "[fold 4] epoch 3/12 it 1300/2652 loss 0.7174 lr 1.16e-04 elapsed 449.5s\n"
          ]
        },
        {
          "output_type": "stream",
          "name": "stdout",
          "text": [
            "[fold 4] epoch 3/12 it 1350/2652 loss 0.7177 lr 1.16e-04 elapsed 466.7s\n"
          ]
        },
        {
          "output_type": "stream",
          "name": "stdout",
          "text": [
            "[fold 4] epoch 3/12 it 1400/2652 loss 0.7180 lr 1.16e-04 elapsed 483.9s\n"
          ]
        },
        {
          "output_type": "stream",
          "name": "stdout",
          "text": [
            "[fold 4] epoch 3/12 it 1450/2652 loss 0.7177 lr 1.15e-04 elapsed 501.2s\n"
          ]
        },
        {
          "output_type": "stream",
          "name": "stdout",
          "text": [
            "[fold 4] epoch 3/12 it 1500/2652 loss 0.7174 lr 1.15e-04 elapsed 518.4s\n"
          ]
        },
        {
          "output_type": "stream",
          "name": "stdout",
          "text": [
            "[fold 4] epoch 3/12 it 1550/2652 loss 0.7171 lr 1.15e-04 elapsed 535.7s\n"
          ]
        },
        {
          "output_type": "stream",
          "name": "stdout",
          "text": [
            "[fold 4] epoch 3/12 it 1600/2652 loss 0.7174 lr 1.15e-04 elapsed 552.9s\n"
          ]
        },
        {
          "output_type": "stream",
          "name": "stdout",
          "text": [
            "[fold 4] epoch 3/12 it 1650/2652 loss 0.7171 lr 1.15e-04 elapsed 570.2s\n"
          ]
        },
        {
          "output_type": "stream",
          "name": "stdout",
          "text": [
            "[fold 4] epoch 3/12 it 1700/2652 loss 0.7174 lr 1.15e-04 elapsed 587.4s\n"
          ]
        },
        {
          "output_type": "stream",
          "name": "stdout",
          "text": [
            "[fold 4] epoch 3/12 it 1750/2652 loss 0.7175 lr 1.15e-04 elapsed 604.7s\n"
          ]
        },
        {
          "output_type": "stream",
          "name": "stdout",
          "text": [
            "[fold 4] epoch 3/12 it 1800/2652 loss 0.7177 lr 1.15e-04 elapsed 621.9s\n"
          ]
        },
        {
          "output_type": "stream",
          "name": "stdout",
          "text": [
            "[fold 4] epoch 3/12 it 1850/2652 loss 0.7180 lr 1.14e-04 elapsed 639.2s\n"
          ]
        },
        {
          "output_type": "stream",
          "name": "stdout",
          "text": [
            "[fold 4] epoch 3/12 it 1900/2652 loss 0.7183 lr 1.14e-04 elapsed 656.4s\n"
          ]
        },
        {
          "output_type": "stream",
          "name": "stdout",
          "text": [
            "[fold 4] epoch 3/12 it 1950/2652 loss 0.7186 lr 1.14e-04 elapsed 673.7s\n"
          ]
        },
        {
          "output_type": "stream",
          "name": "stdout",
          "text": [
            "[fold 4] epoch 3/12 it 2000/2652 loss 0.7187 lr 1.14e-04 elapsed 690.9s\n"
          ]
        },
        {
          "output_type": "stream",
          "name": "stdout",
          "text": [
            "[fold 4] epoch 3/12 it 2050/2652 loss 0.7185 lr 1.14e-04 elapsed 708.2s\n"
          ]
        },
        {
          "output_type": "stream",
          "name": "stdout",
          "text": [
            "[fold 4] epoch 3/12 it 2100/2652 loss 0.7178 lr 1.14e-04 elapsed 725.4s\n"
          ]
        },
        {
          "output_type": "stream",
          "name": "stdout",
          "text": [
            "[fold 4] epoch 3/12 it 2150/2652 loss 0.7176 lr 1.14e-04 elapsed 742.7s\n"
          ]
        },
        {
          "output_type": "stream",
          "name": "stdout",
          "text": [
            "[fold 4] epoch 3/12 it 2200/2652 loss 0.7176 lr 1.14e-04 elapsed 759.9s\n"
          ]
        },
        {
          "output_type": "stream",
          "name": "stdout",
          "text": [
            "[fold 4] epoch 3/12 it 2250/2652 loss 0.7176 lr 1.13e-04 elapsed 777.1s\n"
          ]
        },
        {
          "output_type": "stream",
          "name": "stdout",
          "text": [
            "[fold 4] epoch 3/12 it 2300/2652 loss 0.7175 lr 1.13e-04 elapsed 794.4s\n"
          ]
        },
        {
          "output_type": "stream",
          "name": "stdout",
          "text": [
            "[fold 4] epoch 3/12 it 2350/2652 loss 0.7173 lr 1.13e-04 elapsed 811.6s\n"
          ]
        },
        {
          "output_type": "stream",
          "name": "stdout",
          "text": [
            "[fold 4] epoch 3/12 it 2400/2652 loss 0.7169 lr 1.13e-04 elapsed 828.9s\n"
          ]
        },
        {
          "output_type": "stream",
          "name": "stdout",
          "text": [
            "[fold 4] epoch 3/12 it 2450/2652 loss 0.7167 lr 1.13e-04 elapsed 846.1s\n"
          ]
        },
        {
          "output_type": "stream",
          "name": "stdout",
          "text": [
            "[fold 4] epoch 3/12 it 2500/2652 loss 0.7168 lr 1.13e-04 elapsed 863.4s\n"
          ]
        },
        {
          "output_type": "stream",
          "name": "stdout",
          "text": [
            "[fold 4] epoch 3/12 it 2550/2652 loss 0.7165 lr 1.13e-04 elapsed 880.7s\n"
          ]
        },
        {
          "output_type": "stream",
          "name": "stdout",
          "text": [
            "[fold 4] epoch 3/12 it 2600/2652 loss 0.7165 lr 1.13e-04 elapsed 897.9s\n"
          ]
        },
        {
          "output_type": "stream",
          "name": "stdout",
          "text": [
            "[fold 4] epoch 3/12 it 2650/2652 loss 0.7165 lr 1.12e-04 elapsed 915.2s\n"
          ]
        },
        {
          "output_type": "stream",
          "name": "stdout",
          "text": [
            "[fold 4] epoch 3 val macro AUC: 0.89234\n  ETT - Abnormal: 0.8319\n  ETT - Borderline: 0.9339\n  ETT - Normal: 0.9895\n  NGT - Abnormal: 0.8727\n  NGT - Borderline: 0.8108\n  NGT - Incompletely Imaged: 0.9750\n  NGT - Normal: 0.9779\n  CVC - Abnormal: 0.8624\n  CVC - Borderline: 0.7769\n"
          ]
        },
        {
          "output_type": "stream",
          "name": "stdout",
          "text": [
            "[fold 4] saved best to chkpts/effb4ns_fold4.pt\n[fold 4] epoch 3 train_loss 0.7164 time 1082.4s\n"
          ]
        },
        {
          "output_type": "stream",
          "name": "stdout",
          "text": [
            "[debug] first-batch targets sum per class: [0.0, 0.0, 4.0, 0.0, 0.0, 1.0, 1.0, 2.0, 2.0]\n"
          ]
        },
        {
          "output_type": "stream",
          "name": "stderr",
          "text": [
            "/tmp/ipykernel_1774/544503444.py:126: FutureWarning: `torch.cuda.amp.autocast(args...)` is deprecated. Please use `torch.amp.autocast('cuda', args...)` instead.\n  with torch.cuda.amp.autocast(enabled=(DEVICE=='cuda')):\n"
          ]
        },
        {
          "output_type": "stream",
          "name": "stdout",
          "text": [
            "[fold 4] epoch 4/12 it 50/2652 loss 0.6903 lr 1.12e-04 elapsed 18.0s\n"
          ]
        },
        {
          "output_type": "stream",
          "name": "stdout",
          "text": [
            "[fold 4] epoch 4/12 it 100/2652 loss 0.7022 lr 1.12e-04 elapsed 35.3s\n"
          ]
        },
        {
          "output_type": "stream",
          "name": "stdout",
          "text": [
            "[fold 4] epoch 4/12 it 150/2652 loss 0.6967 lr 1.12e-04 elapsed 52.5s\n"
          ]
        },
        {
          "output_type": "stream",
          "name": "stdout",
          "text": [
            "[fold 4] epoch 4/12 it 200/2652 loss 0.6951 lr 1.12e-04 elapsed 69.8s\n"
          ]
        },
        {
          "output_type": "stream",
          "name": "stdout",
          "text": [
            "[fold 4] epoch 4/12 it 250/2652 loss 0.6910 lr 1.12e-04 elapsed 87.0s\n"
          ]
        },
        {
          "output_type": "stream",
          "name": "stdout",
          "text": [
            "[fold 4] epoch 4/12 it 300/2652 loss 0.6914 lr 1.12e-04 elapsed 104.3s\n"
          ]
        },
        {
          "output_type": "stream",
          "name": "stdout",
          "text": [
            "[fold 4] epoch 4/12 it 350/2652 loss 0.6893 lr 1.11e-04 elapsed 121.6s\n"
          ]
        },
        {
          "output_type": "stream",
          "name": "stdout",
          "text": [
            "[fold 4] epoch 4/12 it 400/2652 loss 0.6892 lr 1.11e-04 elapsed 138.8s\n"
          ]
        },
        {
          "output_type": "stream",
          "name": "stdout",
          "text": [
            "[fold 4] epoch 4/12 it 450/2652 loss 0.6873 lr 1.11e-04 elapsed 156.1s\n"
          ]
        },
        {
          "output_type": "stream",
          "name": "stdout",
          "text": [
            "[fold 4] epoch 4/12 it 500/2652 loss 0.6871 lr 1.11e-04 elapsed 173.3s\n"
          ]
        },
        {
          "output_type": "stream",
          "name": "stdout",
          "text": [
            "[fold 4] epoch 4/12 it 550/2652 loss 0.6867 lr 1.11e-04 elapsed 190.6s\n"
          ]
        },
        {
          "output_type": "stream",
          "name": "stdout",
          "text": [
            "[fold 4] epoch 4/12 it 600/2652 loss 0.6855 lr 1.11e-04 elapsed 207.8s\n"
          ]
        },
        {
          "output_type": "stream",
          "name": "stdout",
          "text": [
            "[fold 4] epoch 4/12 it 650/2652 loss 0.6859 lr 1.10e-04 elapsed 225.1s\n"
          ]
        },
        {
          "output_type": "stream",
          "name": "stdout",
          "text": [
            "[fold 4] epoch 4/12 it 700/2652 loss 0.6860 lr 1.10e-04 elapsed 242.4s\n"
          ]
        },
        {
          "output_type": "stream",
          "name": "stdout",
          "text": [
            "[fold 4] epoch 4/12 it 750/2652 loss 0.6862 lr 1.10e-04 elapsed 259.6s\n"
          ]
        },
        {
          "output_type": "stream",
          "name": "stdout",
          "text": [
            "[fold 4] epoch 4/12 it 800/2652 loss 0.6855 lr 1.10e-04 elapsed 276.8s\n"
          ]
        },
        {
          "output_type": "stream",
          "name": "stdout",
          "text": [
            "[fold 4] epoch 4/12 it 850/2652 loss 0.6855 lr 1.10e-04 elapsed 294.1s\n"
          ]
        },
        {
          "output_type": "stream",
          "name": "stdout",
          "text": [
            "[fold 4] epoch 4/12 it 900/2652 loss 0.6859 lr 1.10e-04 elapsed 311.3s\n"
          ]
        },
        {
          "output_type": "stream",
          "name": "stdout",
          "text": [
            "[fold 4] epoch 4/12 it 950/2652 loss 0.6868 lr 1.09e-04 elapsed 328.6s\n"
          ]
        },
        {
          "output_type": "stream",
          "name": "stdout",
          "text": [
            "[fold 4] epoch 4/12 it 1000/2652 loss 0.6875 lr 1.09e-04 elapsed 345.9s\n"
          ]
        },
        {
          "output_type": "stream",
          "name": "stdout",
          "text": [
            "[fold 4] epoch 4/12 it 1050/2652 loss 0.6882 lr 1.09e-04 elapsed 363.1s\n"
          ]
        },
        {
          "output_type": "stream",
          "name": "stdout",
          "text": [
            "[fold 4] epoch 4/12 it 1100/2652 loss 0.6881 lr 1.09e-04 elapsed 380.4s\n"
          ]
        },
        {
          "output_type": "stream",
          "name": "stdout",
          "text": [
            "[fold 4] epoch 4/12 it 1150/2652 loss 0.6880 lr 1.09e-04 elapsed 397.9s\n"
          ]
        },
        {
          "output_type": "stream",
          "name": "stdout",
          "text": [
            "[fold 4] epoch 4/12 it 1200/2652 loss 0.6883 lr 1.09e-04 elapsed 415.2s\n"
          ]
        },
        {
          "output_type": "stream",
          "name": "stdout",
          "text": [
            "[fold 4] epoch 4/12 it 1250/2652 loss 0.6886 lr 1.08e-04 elapsed 432.5s\n"
          ]
        },
        {
          "output_type": "stream",
          "name": "stdout",
          "text": [
            "[fold 4] epoch 4/12 it 1300/2652 loss 0.6886 lr 1.08e-04 elapsed 449.7s\n"
          ]
        },
        {
          "output_type": "stream",
          "name": "stdout",
          "text": [
            "[fold 4] epoch 4/12 it 1350/2652 loss 0.6890 lr 1.08e-04 elapsed 467.0s\n"
          ]
        },
        {
          "output_type": "stream",
          "name": "stdout",
          "text": [
            "[fold 4] epoch 4/12 it 1400/2652 loss 0.6888 lr 1.08e-04 elapsed 484.2s\n"
          ]
        },
        {
          "output_type": "stream",
          "name": "stdout",
          "text": [
            "[fold 4] epoch 4/12 it 1450/2652 loss 0.6882 lr 1.08e-04 elapsed 501.5s\n"
          ]
        },
        {
          "output_type": "stream",
          "name": "stdout",
          "text": [
            "[fold 4] epoch 4/12 it 1500/2652 loss 0.6884 lr 1.08e-04 elapsed 518.8s\n"
          ]
        },
        {
          "output_type": "stream",
          "name": "stdout",
          "text": [
            "[fold 4] epoch 4/12 it 1550/2652 loss 0.6889 lr 1.07e-04 elapsed 536.0s\n"
          ]
        },
        {
          "output_type": "stream",
          "name": "stdout",
          "text": [
            "[fold 4] epoch 4/12 it 1600/2652 loss 0.6890 lr 1.07e-04 elapsed 553.3s\n"
          ]
        },
        {
          "output_type": "stream",
          "name": "stdout",
          "text": [
            "[fold 4] epoch 4/12 it 1650/2652 loss 0.6885 lr 1.07e-04 elapsed 570.5s\n"
          ]
        },
        {
          "output_type": "stream",
          "name": "stdout",
          "text": [
            "[fold 4] epoch 4/12 it 1700/2652 loss 0.6879 lr 1.07e-04 elapsed 587.8s\n"
          ]
        },
        {
          "output_type": "stream",
          "name": "stdout",
          "text": [
            "[fold 4] epoch 4/12 it 1750/2652 loss 0.6881 lr 1.07e-04 elapsed 605.0s\n"
          ]
        },
        {
          "output_type": "stream",
          "name": "stdout",
          "text": [
            "[fold 4] epoch 4/12 it 1800/2652 loss 0.6881 lr 1.07e-04 elapsed 622.3s\n"
          ]
        },
        {
          "output_type": "stream",
          "name": "stdout",
          "text": [
            "[fold 4] epoch 4/12 it 1850/2652 loss 0.6884 lr 1.06e-04 elapsed 639.6s\n"
          ]
        },
        {
          "output_type": "stream",
          "name": "stdout",
          "text": [
            "[fold 4] epoch 4/12 it 1900/2652 loss 0.6886 lr 1.06e-04 elapsed 656.8s\n"
          ]
        },
        {
          "output_type": "stream",
          "name": "stdout",
          "text": [
            "[fold 4] epoch 4/12 it 1950/2652 loss 0.6887 lr 1.06e-04 elapsed 674.1s\n"
          ]
        },
        {
          "output_type": "stream",
          "name": "stdout",
          "text": [
            "[fold 4] epoch 4/12 it 2000/2652 loss 0.6890 lr 1.06e-04 elapsed 691.3s\n"
          ]
        },
        {
          "output_type": "stream",
          "name": "stdout",
          "text": [
            "[fold 4] epoch 4/12 it 2050/2652 loss 0.6889 lr 1.06e-04 elapsed 708.6s\n"
          ]
        },
        {
          "output_type": "stream",
          "name": "stdout",
          "text": [
            "[fold 4] epoch 4/12 it 2100/2652 loss 0.6893 lr 1.05e-04 elapsed 725.9s\n"
          ]
        },
        {
          "output_type": "stream",
          "name": "stdout",
          "text": [
            "[fold 4] epoch 4/12 it 2150/2652 loss 0.6891 lr 1.05e-04 elapsed 743.2s\n"
          ]
        },
        {
          "output_type": "stream",
          "name": "stdout",
          "text": [
            "[fold 4] epoch 4/12 it 2200/2652 loss 0.6892 lr 1.05e-04 elapsed 760.4s\n"
          ]
        },
        {
          "output_type": "stream",
          "name": "stdout",
          "text": [
            "[fold 4] epoch 4/12 it 2250/2652 loss 0.6891 lr 1.05e-04 elapsed 777.7s\n"
          ]
        },
        {
          "output_type": "stream",
          "name": "stdout",
          "text": [
            "[fold 4] epoch 4/12 it 2300/2652 loss 0.6885 lr 1.05e-04 elapsed 795.0s\n"
          ]
        },
        {
          "output_type": "stream",
          "name": "stdout",
          "text": [
            "[fold 4] epoch 4/12 it 2350/2652 loss 0.6884 lr 1.04e-04 elapsed 812.2s\n"
          ]
        },
        {
          "output_type": "stream",
          "name": "stdout",
          "text": [
            "[fold 4] epoch 4/12 it 2400/2652 loss 0.6886 lr 1.04e-04 elapsed 829.5s\n"
          ]
        },
        {
          "output_type": "stream",
          "name": "stdout",
          "text": [
            "[fold 4] epoch 4/12 it 2450/2652 loss 0.6887 lr 1.04e-04 elapsed 846.7s\n"
          ]
        },
        {
          "output_type": "stream",
          "name": "stdout",
          "text": [
            "[fold 4] epoch 4/12 it 2500/2652 loss 0.6888 lr 1.04e-04 elapsed 864.0s\n"
          ]
        },
        {
          "output_type": "stream",
          "name": "stdout",
          "text": [
            "[fold 4] epoch 4/12 it 2550/2652 loss 0.6887 lr 1.04e-04 elapsed 881.2s\n"
          ]
        },
        {
          "output_type": "stream",
          "name": "stdout",
          "text": [
            "[fold 4] epoch 4/12 it 2600/2652 loss 0.6886 lr 1.04e-04 elapsed 898.5s\n"
          ]
        },
        {
          "output_type": "stream",
          "name": "stdout",
          "text": [
            "[fold 4] epoch 4/12 it 2650/2652 loss 0.6885 lr 1.03e-04 elapsed 915.7s\n"
          ]
        },
        {
          "output_type": "stream",
          "name": "stdout",
          "text": [
            "[fold 4] epoch 4 val macro AUC: 0.90091\n  ETT - Abnormal: 0.8037\n  ETT - Borderline: 0.9461\n  ETT - Normal: 0.9909\n  NGT - Abnormal: 0.8631\n  NGT - Borderline: 0.8981\n  NGT - Incompletely Imaged: 0.9697\n  NGT - Normal: 0.9773\n  CVC - Abnormal: 0.8809\n  CVC - Borderline: 0.7783\n"
          ]
        },
        {
          "output_type": "stream",
          "name": "stdout",
          "text": [
            "[fold 4] saved best to chkpts/effb4ns_fold4.pt\n[fold 4] epoch 4 train_loss 0.6885 time 1079.1s\n"
          ]
        },
        {
          "output_type": "stream",
          "name": "stdout",
          "text": [
            "[debug] first-batch targets sum per class: [0.0, 0.0, 0.0, 0.0, 1.0, 0.0, 0.0, 0.0, 2.0]\n"
          ]
        },
        {
          "output_type": "stream",
          "name": "stderr",
          "text": [
            "/tmp/ipykernel_1774/544503444.py:126: FutureWarning: `torch.cuda.amp.autocast(args...)` is deprecated. Please use `torch.amp.autocast('cuda', args...)` instead.\n  with torch.cuda.amp.autocast(enabled=(DEVICE=='cuda')):\n"
          ]
        },
        {
          "output_type": "stream",
          "name": "stdout",
          "text": [
            "[fold 4] epoch 5/12 it 50/2652 loss 0.6575 lr 1.03e-04 elapsed 18.2s\n"
          ]
        },
        {
          "output_type": "stream",
          "name": "stdout",
          "text": [
            "[fold 4] epoch 5/12 it 100/2652 loss 0.6642 lr 1.03e-04 elapsed 35.4s\n"
          ]
        },
        {
          "output_type": "stream",
          "name": "stdout",
          "text": [
            "[fold 4] epoch 5/12 it 150/2652 loss 0.6568 lr 1.03e-04 elapsed 52.7s\n"
          ]
        },
        {
          "output_type": "stream",
          "name": "stdout",
          "text": [
            "[fold 4] epoch 5/12 it 200/2652 loss 0.6581 lr 1.03e-04 elapsed 69.9s\n"
          ]
        },
        {
          "output_type": "stream",
          "name": "stdout",
          "text": [
            "[fold 4] epoch 5/12 it 250/2652 loss 0.6584 lr 1.02e-04 elapsed 87.2s\n"
          ]
        },
        {
          "output_type": "stream",
          "name": "stdout",
          "text": [
            "[fold 4] epoch 5/12 it 300/2652 loss 0.6572 lr 1.02e-04 elapsed 104.4s\n"
          ]
        },
        {
          "output_type": "stream",
          "name": "stdout",
          "text": [
            "[fold 4] epoch 5/12 it 350/2652 loss 0.6573 lr 1.02e-04 elapsed 121.7s\n"
          ]
        },
        {
          "output_type": "stream",
          "name": "stdout",
          "text": [
            "[fold 4] epoch 5/12 it 400/2652 loss 0.6582 lr 1.02e-04 elapsed 138.9s\n"
          ]
        },
        {
          "output_type": "stream",
          "name": "stdout",
          "text": [
            "[fold 4] epoch 5/12 it 450/2652 loss 0.6583 lr 1.01e-04 elapsed 156.2s\n"
          ]
        },
        {
          "output_type": "stream",
          "name": "stdout",
          "text": [
            "[fold 4] epoch 5/12 it 500/2652 loss 0.6577 lr 1.01e-04 elapsed 173.4s\n"
          ]
        },
        {
          "output_type": "stream",
          "name": "stdout",
          "text": [
            "[fold 4] epoch 5/12 it 550/2652 loss 0.6580 lr 1.01e-04 elapsed 190.7s\n"
          ]
        },
        {
          "output_type": "stream",
          "name": "stdout",
          "text": [
            "[fold 4] epoch 5/12 it 600/2652 loss 0.6584 lr 1.01e-04 elapsed 207.9s\n"
          ]
        },
        {
          "output_type": "stream",
          "name": "stdout",
          "text": [
            "[fold 4] epoch 5/12 it 650/2652 loss 0.6588 lr 1.01e-04 elapsed 225.2s\n"
          ]
        },
        {
          "output_type": "stream",
          "name": "stdout",
          "text": [
            "[fold 4] epoch 5/12 it 700/2652 loss 0.6588 lr 1.00e-04 elapsed 242.5s\n"
          ]
        },
        {
          "output_type": "stream",
          "name": "stdout",
          "text": [
            "[fold 4] epoch 5/12 it 750/2652 loss 0.6582 lr 1.00e-04 elapsed 259.7s\n"
          ]
        },
        {
          "output_type": "stream",
          "name": "stdout",
          "text": [
            "[fold 4] epoch 5/12 it 800/2652 loss 0.6582 lr 1.00e-04 elapsed 277.0s\n"
          ]
        },
        {
          "output_type": "stream",
          "name": "stdout",
          "text": [
            "[fold 4] epoch 5/12 it 850/2652 loss 0.6593 lr 9.98e-05 elapsed 294.2s\n"
          ]
        },
        {
          "output_type": "stream",
          "name": "stdout",
          "text": [
            "[fold 4] epoch 5/12 it 900/2652 loss 0.6593 lr 9.96e-05 elapsed 311.5s\n"
          ]
        },
        {
          "output_type": "stream",
          "name": "stdout",
          "text": [
            "[fold 4] epoch 5/12 it 950/2652 loss 0.6594 lr 9.94e-05 elapsed 328.8s\n"
          ]
        },
        {
          "output_type": "stream",
          "name": "stdout",
          "text": [
            "[fold 4] epoch 5/12 it 1000/2652 loss 0.6590 lr 9.91e-05 elapsed 346.0s\n"
          ]
        },
        {
          "output_type": "stream",
          "name": "stdout",
          "text": [
            "[fold 4] epoch 5/12 it 1050/2652 loss 0.6593 lr 9.89e-05 elapsed 363.3s\n"
          ]
        },
        {
          "output_type": "stream",
          "name": "stdout",
          "text": [
            "[fold 4] epoch 5/12 it 1100/2652 loss 0.6596 lr 9.87e-05 elapsed 380.5s\n"
          ]
        },
        {
          "output_type": "stream",
          "name": "stdout",
          "text": [
            "[fold 4] epoch 5/12 it 1150/2652 loss 0.6588 lr 9.85e-05 elapsed 397.8s\n"
          ]
        },
        {
          "output_type": "stream",
          "name": "stdout",
          "text": [
            "[fold 4] epoch 5/12 it 1200/2652 loss 0.6588 lr 9.83e-05 elapsed 415.1s\n"
          ]
        },
        {
          "output_type": "stream",
          "name": "stdout",
          "text": [
            "[fold 4] epoch 5/12 it 1250/2652 loss 0.6590 lr 9.80e-05 elapsed 432.3s\n"
          ]
        },
        {
          "output_type": "stream",
          "name": "stdout",
          "text": [
            "[fold 4] epoch 5/12 it 1300/2652 loss 0.6595 lr 9.78e-05 elapsed 449.6s\n"
          ]
        },
        {
          "output_type": "stream",
          "name": "stdout",
          "text": [
            "[fold 4] epoch 5/12 it 1350/2652 loss 0.6597 lr 9.76e-05 elapsed 466.9s\n"
          ]
        },
        {
          "output_type": "stream",
          "name": "stdout",
          "text": [
            "[fold 4] epoch 5/12 it 1400/2652 loss 0.6599 lr 9.74e-05 elapsed 484.1s\n"
          ]
        },
        {
          "output_type": "stream",
          "name": "stdout",
          "text": [
            "[fold 4] epoch 5/12 it 1450/2652 loss 0.6596 lr 9.72e-05 elapsed 501.3s\n"
          ]
        },
        {
          "output_type": "stream",
          "name": "stdout",
          "text": [
            "[fold 4] epoch 5/12 it 1500/2652 loss 0.6593 lr 9.69e-05 elapsed 518.6s\n"
          ]
        },
        {
          "output_type": "stream",
          "name": "stdout",
          "text": [
            "[fold 4] epoch 5/12 it 1550/2652 loss 0.6594 lr 9.67e-05 elapsed 535.9s\n"
          ]
        },
        {
          "output_type": "stream",
          "name": "stdout",
          "text": [
            "[fold 4] epoch 5/12 it 1600/2652 loss 0.6595 lr 9.65e-05 elapsed 553.2s\n"
          ]
        },
        {
          "output_type": "stream",
          "name": "stdout",
          "text": [
            "[fold 4] epoch 5/12 it 1650/2652 loss 0.6595 lr 9.62e-05 elapsed 570.4s\n"
          ]
        },
        {
          "output_type": "stream",
          "name": "stdout",
          "text": [
            "[fold 4] epoch 5/12 it 1700/2652 loss 0.6595 lr 9.60e-05 elapsed 587.7s\n"
          ]
        },
        {
          "output_type": "stream",
          "name": "stdout",
          "text": [
            "[fold 4] epoch 5/12 it 1750/2652 loss 0.6593 lr 9.58e-05 elapsed 604.9s\n"
          ]
        },
        {
          "output_type": "stream",
          "name": "stdout",
          "text": [
            "[fold 4] epoch 5/12 it 1800/2652 loss 0.6599 lr 9.56e-05 elapsed 622.2s\n"
          ]
        },
        {
          "output_type": "stream",
          "name": "stdout",
          "text": [
            "[fold 4] epoch 5/12 it 1850/2652 loss 0.6599 lr 9.53e-05 elapsed 639.5s\n"
          ]
        },
        {
          "output_type": "stream",
          "name": "stdout",
          "text": [
            "[fold 4] epoch 5/12 it 1900/2652 loss 0.6598 lr 9.51e-05 elapsed 656.8s\n"
          ]
        },
        {
          "output_type": "stream",
          "name": "stdout",
          "text": [
            "[fold 4] epoch 5/12 it 1950/2652 loss 0.6596 lr 9.49e-05 elapsed 674.0s\n"
          ]
        },
        {
          "output_type": "stream",
          "name": "stdout",
          "text": [
            "[fold 4] epoch 5/12 it 2000/2652 loss 0.6598 lr 9.46e-05 elapsed 691.3s\n"
          ]
        },
        {
          "output_type": "stream",
          "name": "stdout",
          "text": [
            "[fold 4] epoch 5/12 it 2050/2652 loss 0.6602 lr 9.44e-05 elapsed 708.5s\n"
          ]
        },
        {
          "output_type": "stream",
          "name": "stdout",
          "text": [
            "[fold 4] epoch 5/12 it 2100/2652 loss 0.6601 lr 9.42e-05 elapsed 725.8s\n"
          ]
        },
        {
          "output_type": "stream",
          "name": "stdout",
          "text": [
            "[fold 4] epoch 5/12 it 2150/2652 loss 0.6600 lr 9.39e-05 elapsed 743.0s\n"
          ]
        },
        {
          "output_type": "stream",
          "name": "stdout",
          "text": [
            "[fold 4] epoch 5/12 it 2200/2652 loss 0.6601 lr 9.37e-05 elapsed 760.3s\n"
          ]
        },
        {
          "output_type": "stream",
          "name": "stdout",
          "text": [
            "[fold 4] epoch 5/12 it 2250/2652 loss 0.6600 lr 9.34e-05 elapsed 777.5s\n"
          ]
        },
        {
          "output_type": "stream",
          "name": "stdout",
          "text": [
            "[fold 4] epoch 5/12 it 2300/2652 loss 0.6600 lr 9.32e-05 elapsed 794.8s\n"
          ]
        },
        {
          "output_type": "stream",
          "name": "stdout",
          "text": [
            "[fold 4] epoch 5/12 it 2350/2652 loss 0.6599 lr 9.30e-05 elapsed 812.1s\n"
          ]
        },
        {
          "output_type": "stream",
          "name": "stdout",
          "text": [
            "[fold 4] epoch 5/12 it 2400/2652 loss 0.6598 lr 9.27e-05 elapsed 829.3s\n"
          ]
        },
        {
          "output_type": "stream",
          "name": "stdout",
          "text": [
            "[fold 4] epoch 5/12 it 2450/2652 loss 0.6598 lr 9.25e-05 elapsed 846.6s\n"
          ]
        },
        {
          "output_type": "stream",
          "name": "stdout",
          "text": [
            "[fold 4] epoch 5/12 it 2500/2652 loss 0.6597 lr 9.22e-05 elapsed 863.8s\n"
          ]
        },
        {
          "output_type": "stream",
          "name": "stdout",
          "text": [
            "[fold 4] epoch 5/12 it 2550/2652 loss 0.6597 lr 9.20e-05 elapsed 881.1s\n"
          ]
        },
        {
          "output_type": "stream",
          "name": "stdout",
          "text": [
            "[fold 4] epoch 5/12 it 2600/2652 loss 0.6595 lr 9.18e-05 elapsed 898.4s\n"
          ]
        },
        {
          "output_type": "stream",
          "name": "stdout",
          "text": [
            "[fold 4] epoch 5/12 it 2650/2652 loss 0.6596 lr 9.15e-05 elapsed 915.6s\n"
          ]
        },
        {
          "output_type": "stream",
          "name": "stdout",
          "text": [
            "[fold 4] epoch 5 val macro AUC: 0.90827\n  ETT - Abnormal: 0.8495\n  ETT - Borderline: 0.9390\n  ETT - Normal: 0.9901\n  NGT - Abnormal: 0.8889\n  NGT - Borderline: 0.9175\n  NGT - Incompletely Imaged: 0.9574\n  NGT - Normal: 0.9721\n  CVC - Abnormal: 0.8665\n  CVC - Borderline: 0.7933\n"
          ]
        },
        {
          "output_type": "stream",
          "name": "stdout",
          "text": [
            "[fold 4] saved best to chkpts/effb4ns_fold4.pt\n[fold 4] epoch 5 train_loss 0.6595 time 1078.7s\n"
          ]
        },
        {
          "output_type": "stream",
          "name": "stdout",
          "text": [
            "[debug] first-batch targets sum per class: [0.0, 0.0, 1.0, 0.0, 1.0, 0.0, 0.0, 0.0, 4.0]\n"
          ]
        },
        {
          "output_type": "stream",
          "name": "stderr",
          "text": [
            "/tmp/ipykernel_1774/544503444.py:126: FutureWarning: `torch.cuda.amp.autocast(args...)` is deprecated. Please use `torch.amp.autocast('cuda', args...)` instead.\n  with torch.cuda.amp.autocast(enabled=(DEVICE=='cuda')):\n"
          ]
        },
        {
          "output_type": "stream",
          "name": "stdout",
          "text": [
            "[fold 4] epoch 6/12 it 50/2652 loss 0.6324 lr 9.13e-05 elapsed 18.1s\n"
          ]
        },
        {
          "output_type": "stream",
          "name": "stdout",
          "text": [
            "[fold 4] epoch 6/12 it 100/2652 loss 0.6295 lr 9.10e-05 elapsed 35.4s\n"
          ]
        },
        {
          "output_type": "stream",
          "name": "stdout",
          "text": [
            "[fold 4] epoch 6/12 it 150/2652 loss 0.6287 lr 9.08e-05 elapsed 52.6s\n"
          ]
        },
        {
          "output_type": "stream",
          "name": "stdout",
          "text": [
            "[fold 4] epoch 6/12 it 200/2652 loss 0.6277 lr 9.05e-05 elapsed 69.9s\n"
          ]
        },
        {
          "output_type": "stream",
          "name": "stdout",
          "text": [
            "[fold 4] epoch 6/12 it 250/2652 loss 0.6274 lr 9.03e-05 elapsed 87.1s\n"
          ]
        },
        {
          "output_type": "stream",
          "name": "stdout",
          "text": [
            "[fold 4] epoch 6/12 it 300/2652 loss 0.6276 lr 9.00e-05 elapsed 104.4s\n"
          ]
        },
        {
          "output_type": "stream",
          "name": "stdout",
          "text": [
            "[fold 4] epoch 6/12 it 350/2652 loss 0.6270 lr 8.98e-05 elapsed 121.6s\n"
          ]
        },
        {
          "output_type": "stream",
          "name": "stdout",
          "text": [
            "[fold 4] epoch 6/12 it 400/2652 loss 0.6288 lr 8.95e-05 elapsed 138.9s\n"
          ]
        },
        {
          "output_type": "stream",
          "name": "stdout",
          "text": [
            "[fold 4] epoch 6/12 it 450/2652 loss 0.6279 lr 8.93e-05 elapsed 156.1s\n"
          ]
        },
        {
          "output_type": "stream",
          "name": "stdout",
          "text": [
            "[fold 4] epoch 6/12 it 500/2652 loss 0.6289 lr 8.90e-05 elapsed 173.4s\n"
          ]
        },
        {
          "output_type": "stream",
          "name": "stdout",
          "text": [
            "[fold 4] epoch 6/12 it 550/2652 loss 0.6286 lr 8.88e-05 elapsed 190.6s\n"
          ]
        },
        {
          "output_type": "stream",
          "name": "stdout",
          "text": [
            "[fold 4] epoch 6/12 it 600/2652 loss 0.6290 lr 8.85e-05 elapsed 207.9s\n"
          ]
        },
        {
          "output_type": "stream",
          "name": "stdout",
          "text": [
            "[fold 4] epoch 6/12 it 650/2652 loss 0.6278 lr 8.83e-05 elapsed 225.4s\n"
          ]
        },
        {
          "output_type": "stream",
          "name": "stdout",
          "text": [
            "[fold 4] epoch 6/12 it 700/2652 loss 0.6276 lr 8.80e-05 elapsed 242.6s\n"
          ]
        },
        {
          "output_type": "stream",
          "name": "stdout",
          "text": [
            "[fold 4] epoch 6/12 it 750/2652 loss 0.6275 lr 8.78e-05 elapsed 259.9s\n"
          ]
        },
        {
          "output_type": "stream",
          "name": "stdout",
          "text": [
            "[fold 4] epoch 6/12 it 800/2652 loss 0.6270 lr 8.75e-05 elapsed 277.1s\n"
          ]
        },
        {
          "output_type": "stream",
          "name": "stdout",
          "text": [
            "[fold 4] epoch 6/12 it 850/2652 loss 0.6277 lr 8.73e-05 elapsed 294.4s\n"
          ]
        },
        {
          "output_type": "stream",
          "name": "stdout",
          "text": [
            "[fold 4] epoch 6/12 it 900/2652 loss 0.6279 lr 8.70e-05 elapsed 311.7s\n"
          ]
        },
        {
          "output_type": "stream",
          "name": "stdout",
          "text": [
            "[fold 4] epoch 6/12 it 950/2652 loss 0.6285 lr 8.68e-05 elapsed 328.9s\n"
          ]
        },
        {
          "output_type": "stream",
          "name": "stdout",
          "text": [
            "[fold 4] epoch 6/12 it 1000/2652 loss 0.6283 lr 8.65e-05 elapsed 346.2s\n"
          ]
        },
        {
          "output_type": "stream",
          "name": "stdout",
          "text": [
            "[fold 4] epoch 6/12 it 1050/2652 loss 0.6282 lr 8.62e-05 elapsed 363.4s\n"
          ]
        },
        {
          "output_type": "stream",
          "name": "stdout",
          "text": [
            "[fold 4] epoch 6/12 it 1100/2652 loss 0.6285 lr 8.60e-05 elapsed 380.7s\n"
          ]
        },
        {
          "output_type": "stream",
          "name": "stdout",
          "text": [
            "[fold 4] epoch 6/12 it 1150/2652 loss 0.6280 lr 8.57e-05 elapsed 397.9s\n"
          ]
        },
        {
          "output_type": "stream",
          "name": "stdout",
          "text": [
            "[fold 4] epoch 6/12 it 1200/2652 loss 0.6277 lr 8.55e-05 elapsed 415.2s\n"
          ]
        },
        {
          "output_type": "stream",
          "name": "stdout",
          "text": [
            "[fold 4] epoch 6/12 it 1250/2652 loss 0.6273 lr 8.52e-05 elapsed 432.4s\n"
          ]
        },
        {
          "output_type": "stream",
          "name": "stdout",
          "text": [
            "[fold 4] epoch 6/12 it 1300/2652 loss 0.6277 lr 8.50e-05 elapsed 449.7s\n"
          ]
        },
        {
          "output_type": "stream",
          "name": "stdout",
          "text": [
            "[fold 4] epoch 6/12 it 1350/2652 loss 0.6276 lr 8.47e-05 elapsed 466.9s\n"
          ]
        },
        {
          "output_type": "stream",
          "name": "stdout",
          "text": [
            "[fold 4] epoch 6/12 it 1400/2652 loss 0.6280 lr 8.44e-05 elapsed 484.1s\n"
          ]
        },
        {
          "output_type": "stream",
          "name": "stdout",
          "text": [
            "[fold 4] epoch 6/12 it 1450/2652 loss 0.6281 lr 8.42e-05 elapsed 501.4s\n"
          ]
        },
        {
          "output_type": "stream",
          "name": "stdout",
          "text": [
            "[fold 4] epoch 6/12 it 1500/2652 loss 0.6281 lr 8.39e-05 elapsed 518.7s\n"
          ]
        },
        {
          "output_type": "stream",
          "name": "stdout",
          "text": [
            "[fold 4] epoch 6/12 it 1550/2652 loss 0.6278 lr 8.37e-05 elapsed 535.9s\n"
          ]
        },
        {
          "output_type": "stream",
          "name": "stdout",
          "text": [
            "[fold 4] epoch 6/12 it 1600/2652 loss 0.6282 lr 8.34e-05 elapsed 553.2s\n"
          ]
        },
        {
          "output_type": "stream",
          "name": "stdout",
          "text": [
            "[fold 4] epoch 6/12 it 1650/2652 loss 0.6283 lr 8.31e-05 elapsed 570.5s\n"
          ]
        },
        {
          "output_type": "stream",
          "name": "stdout",
          "text": [
            "[fold 4] epoch 6/12 it 1700/2652 loss 0.6282 lr 8.29e-05 elapsed 587.7s\n"
          ]
        },
        {
          "output_type": "stream",
          "name": "stdout",
          "text": [
            "[fold 4] epoch 6/12 it 1750/2652 loss 0.6283 lr 8.26e-05 elapsed 605.0s\n"
          ]
        },
        {
          "output_type": "stream",
          "name": "stdout",
          "text": [
            "[fold 4] epoch 6/12 it 1800/2652 loss 0.6282 lr 8.23e-05 elapsed 622.2s\n"
          ]
        },
        {
          "output_type": "stream",
          "name": "stdout",
          "text": [
            "[fold 4] epoch 6/12 it 1850/2652 loss 0.6284 lr 8.21e-05 elapsed 639.4s\n"
          ]
        },
        {
          "output_type": "stream",
          "name": "stdout",
          "text": [
            "[fold 4] epoch 6/12 it 1900/2652 loss 0.6284 lr 8.18e-05 elapsed 656.7s\n"
          ]
        },
        {
          "output_type": "stream",
          "name": "stdout",
          "text": [
            "[fold 4] epoch 6/12 it 1950/2652 loss 0.6286 lr 8.15e-05 elapsed 673.9s\n"
          ]
        },
        {
          "output_type": "stream",
          "name": "stdout",
          "text": [
            "[fold 4] epoch 6/12 it 2000/2652 loss 0.6286 lr 8.13e-05 elapsed 691.2s\n"
          ]
        },
        {
          "output_type": "stream",
          "name": "stdout",
          "text": [
            "[fold 4] epoch 6/12 it 2050/2652 loss 0.6291 lr 8.10e-05 elapsed 708.4s\n"
          ]
        },
        {
          "output_type": "stream",
          "name": "stdout",
          "text": [
            "[fold 4] epoch 6/12 it 2100/2652 loss 0.6294 lr 8.07e-05 elapsed 725.7s\n"
          ]
        },
        {
          "output_type": "stream",
          "name": "stdout",
          "text": [
            "[fold 4] epoch 6/12 it 2150/2652 loss 0.6293 lr 8.05e-05 elapsed 742.9s\n"
          ]
        },
        {
          "output_type": "stream",
          "name": "stdout",
          "text": [
            "[fold 4] epoch 6/12 it 2200/2652 loss 0.6292 lr 8.02e-05 elapsed 760.1s\n"
          ]
        },
        {
          "output_type": "stream",
          "name": "stdout",
          "text": [
            "[fold 4] epoch 6/12 it 2250/2652 loss 0.6292 lr 7.99e-05 elapsed 777.4s\n"
          ]
        },
        {
          "output_type": "stream",
          "name": "stdout",
          "text": [
            "[fold 4] epoch 6/12 it 2300/2652 loss 0.6290 lr 7.97e-05 elapsed 794.6s\n"
          ]
        },
        {
          "output_type": "stream",
          "name": "stdout",
          "text": [
            "[fold 4] epoch 6/12 it 2350/2652 loss 0.6292 lr 7.94e-05 elapsed 811.9s\n"
          ]
        },
        {
          "output_type": "stream",
          "name": "stdout",
          "text": [
            "[fold 4] epoch 6/12 it 2400/2652 loss 0.6290 lr 7.91e-05 elapsed 829.1s\n"
          ]
        },
        {
          "output_type": "stream",
          "name": "stdout",
          "text": [
            "[fold 4] epoch 6/12 it 2450/2652 loss 0.6288 lr 7.89e-05 elapsed 846.4s\n"
          ]
        },
        {
          "output_type": "stream",
          "name": "stdout",
          "text": [
            "[fold 4] epoch 6/12 it 2500/2652 loss 0.6289 lr 7.86e-05 elapsed 863.6s\n"
          ]
        },
        {
          "output_type": "stream",
          "name": "stdout",
          "text": [
            "[fold 4] epoch 6/12 it 2550/2652 loss 0.6289 lr 7.83e-05 elapsed 880.9s\n"
          ]
        },
        {
          "output_type": "stream",
          "name": "stdout",
          "text": [
            "[fold 4] epoch 6/12 it 2600/2652 loss 0.6291 lr 7.80e-05 elapsed 898.1s\n"
          ]
        },
        {
          "output_type": "stream",
          "name": "stdout",
          "text": [
            "[fold 4] epoch 6/12 it 2650/2652 loss 0.6292 lr 7.78e-05 elapsed 915.4s\n"
          ]
        },
        {
          "output_type": "stream",
          "name": "stdout",
          "text": [
            "[fold 4] epoch 6 val macro AUC: 0.88937\n  ETT - Abnormal: 0.7752\n  ETT - Borderline: 0.8610\n  ETT - Normal: 0.9835\n  NGT - Abnormal: 0.8881\n  NGT - Borderline: 0.9110\n  NGT - Incompletely Imaged: 0.9504\n  NGT - Normal: 0.9714\n  CVC - Abnormal: 0.8756\n  CVC - Borderline: 0.7882\n[fold 4] epoch 6 train_loss 0.6292 time 1078.1s\n"
          ]
        },
        {
          "output_type": "stream",
          "name": "stdout",
          "text": [
            "[debug] first-batch targets sum per class: [0.0, 0.0, 1.0, 0.0, 0.0, 0.0, 2.0, 2.0, 1.0]\n"
          ]
        },
        {
          "output_type": "stream",
          "name": "stderr",
          "text": [
            "/tmp/ipykernel_1774/544503444.py:126: FutureWarning: `torch.cuda.amp.autocast(args...)` is deprecated. Please use `torch.amp.autocast('cuda', args...)` instead.\n  with torch.cuda.amp.autocast(enabled=(DEVICE=='cuda')):\n"
          ]
        },
        {
          "output_type": "stream",
          "name": "stdout",
          "text": [
            "[fold 4] epoch 7/12 it 50/2652 loss 0.5933 lr 7.75e-05 elapsed 18.2s\n"
          ]
        },
        {
          "output_type": "stream",
          "name": "stdout",
          "text": [
            "[fold 4] epoch 7/12 it 100/2652 loss 0.5961 lr 7.72e-05 elapsed 35.5s\n"
          ]
        },
        {
          "output_type": "stream",
          "name": "stdout",
          "text": [
            "[fold 4] epoch 7/12 it 150/2652 loss 0.6009 lr 7.69e-05 elapsed 52.7s\n"
          ]
        },
        {
          "output_type": "stream",
          "name": "stdout",
          "text": [
            "[fold 4] epoch 7/12 it 200/2652 loss 0.6015 lr 7.67e-05 elapsed 70.0s\n"
          ]
        },
        {
          "output_type": "stream",
          "name": "stdout",
          "text": [
            "[fold 4] epoch 7/12 it 250/2652 loss 0.6012 lr 7.64e-05 elapsed 87.2s\n"
          ]
        },
        {
          "output_type": "stream",
          "name": "stdout",
          "text": [
            "[fold 4] epoch 7/12 it 300/2652 loss 0.6006 lr 7.61e-05 elapsed 104.5s\n"
          ]
        },
        {
          "output_type": "stream",
          "name": "stdout",
          "text": [
            "[fold 4] epoch 7/12 it 350/2652 loss 0.5993 lr 7.59e-05 elapsed 121.8s\n"
          ]
        },
        {
          "output_type": "stream",
          "name": "stdout",
          "text": [
            "[fold 4] epoch 7/12 it 400/2652 loss 0.5997 lr 7.56e-05 elapsed 139.0s\n"
          ]
        },
        {
          "output_type": "stream",
          "name": "stdout",
          "text": [
            "[fold 4] epoch 7/12 it 450/2652 loss 0.6003 lr 7.53e-05 elapsed 156.2s\n"
          ]
        },
        {
          "output_type": "stream",
          "name": "stdout",
          "text": [
            "[fold 4] epoch 7/12 it 500/2652 loss 0.6002 lr 7.50e-05 elapsed 173.5s\n"
          ]
        },
        {
          "output_type": "stream",
          "name": "stdout",
          "text": [
            "[fold 4] epoch 7/12 it 550/2652 loss 0.6007 lr 7.48e-05 elapsed 190.8s\n"
          ]
        },
        {
          "output_type": "stream",
          "name": "stdout",
          "text": [
            "[fold 4] epoch 7/12 it 600/2652 loss 0.6012 lr 7.45e-05 elapsed 208.0s\n"
          ]
        },
        {
          "output_type": "stream",
          "name": "stdout",
          "text": [
            "[fold 4] epoch 7/12 it 650/2652 loss 0.6016 lr 7.42e-05 elapsed 225.3s\n"
          ]
        },
        {
          "output_type": "stream",
          "name": "stdout",
          "text": [
            "[fold 4] epoch 7/12 it 700/2652 loss 0.6015 lr 7.39e-05 elapsed 242.5s\n"
          ]
        },
        {
          "output_type": "stream",
          "name": "stdout",
          "text": [
            "[fold 4] epoch 7/12 it 750/2652 loss 0.6013 lr 7.37e-05 elapsed 259.8s\n"
          ]
        },
        {
          "output_type": "stream",
          "name": "stdout",
          "text": [
            "[fold 4] epoch 7/12 it 800/2652 loss 0.6014 lr 7.34e-05 elapsed 277.0s\n"
          ]
        },
        {
          "output_type": "stream",
          "name": "stdout",
          "text": [
            "[fold 4] epoch 7/12 it 850/2652 loss 0.6019 lr 7.31e-05 elapsed 294.2s\n"
          ]
        },
        {
          "output_type": "stream",
          "name": "stdout",
          "text": [
            "[fold 4] epoch 7/12 it 900/2652 loss 0.6018 lr 7.28e-05 elapsed 311.5s\n"
          ]
        },
        {
          "output_type": "stream",
          "name": "stdout",
          "text": [
            "[fold 4] epoch 7/12 it 950/2652 loss 0.6020 lr 7.25e-05 elapsed 328.8s\n"
          ]
        },
        {
          "output_type": "stream",
          "name": "stdout",
          "text": [
            "[fold 4] epoch 7/12 it 1000/2652 loss 0.6022 lr 7.23e-05 elapsed 346.0s\n"
          ]
        },
        {
          "output_type": "stream",
          "name": "stdout",
          "text": [
            "[fold 4] epoch 7/12 it 1050/2652 loss 0.6022 lr 7.20e-05 elapsed 363.3s\n"
          ]
        },
        {
          "output_type": "stream",
          "name": "stdout",
          "text": [
            "[fold 4] epoch 7/12 it 1100/2652 loss 0.6022 lr 7.17e-05 elapsed 380.5s\n"
          ]
        },
        {
          "output_type": "stream",
          "name": "stdout",
          "text": [
            "[fold 4] epoch 7/12 it 1150/2652 loss 0.6025 lr 7.14e-05 elapsed 397.8s\n"
          ]
        },
        {
          "output_type": "stream",
          "name": "stdout",
          "text": [
            "[fold 4] epoch 7/12 it 1200/2652 loss 0.6026 lr 7.12e-05 elapsed 415.0s\n"
          ]
        },
        {
          "output_type": "stream",
          "name": "stdout",
          "text": [
            "[fold 4] epoch 7/12 it 1250/2652 loss 0.6027 lr 7.09e-05 elapsed 432.3s\n"
          ]
        },
        {
          "output_type": "stream",
          "name": "stdout",
          "text": [
            "[fold 4] epoch 7/12 it 1300/2652 loss 0.6027 lr 7.06e-05 elapsed 449.5s\n"
          ]
        },
        {
          "output_type": "stream",
          "name": "stdout",
          "text": [
            "[fold 4] epoch 7/12 it 1350/2652 loss 0.6029 lr 7.03e-05 elapsed 466.8s\n"
          ]
        },
        {
          "output_type": "stream",
          "name": "stdout",
          "text": [
            "[fold 4] epoch 7/12 it 1400/2652 loss 0.6030 lr 7.00e-05 elapsed 484.0s\n"
          ]
        }
      ]
    },
    {
      "id": "bbccb407-62fd-481f-9f07-841aa9b5ca48",
      "cell_type": "code",
      "metadata": {},
      "source": [
        "# Inference/TTA: load available fold checkpoints, predict test, average logits, apply group-wise softmax, write submission.csv\n",
        "import torch\n",
        "import torch.nn as nn\n",
        "from torch.utils.data import DataLoader\n",
        "\n",
        "class RanzcrTestDataset(Dataset):\n",
        "    def __init__(self, df: pd.DataFrame, img_dir: Path, id_col: str, transforms=None):\n",
        "        self.df = df.reset_index(drop=True)\n",
        "        self.img_dir = img_dir\n",
        "        self.id_col = id_col\n",
        "        self.transforms = transforms\n",
        "\n",
        "    def __len__(self):\n",
        "        return len(self.df)\n",
        "\n",
        "    def __getitem__(self, idx):\n",
        "        row = self.df.iloc[idx]\n",
        "        img_path = self.img_dir / f\"{row[self.id_col]}.jpg\"\n",
        "        image = cv2.imread(str(img_path), cv2.IMREAD_GRAYSCALE)\n",
        "        if image is None:\n",
        "            raise FileNotFoundError(f\"Image not found: {img_path}\")\n",
        "        image = np.stack([image, image, image], axis=-1)\n",
        "        if self.transforms is not None:\n",
        "            image = self.transforms(image=image)['image']\n",
        "        return image, row[self.id_col]\n",
        "\n",
        "def load_model_for_infer(ckpt_path: str, num_classes: int):\n",
        "    # Select architecture based on checkpoint prefix\n",
        "    model_name = 'tf_efficientnet_b4_ns' if 'effb4ns' in ckpt_path else 'tf_efficientnet_b3'\n",
        "    model = timm.create_model(\n",
        "        model_name,\n",
        "        pretrained=True,\n",
        "        num_classes=num_classes,\n",
        "        in_chans=3,\n",
        "        cache_dir=os.path.abspath('hf_cache')\n",
        "    ).to(DEVICE)\n",
        "    state = torch.load(ckpt_path, map_location='cpu')\n",
        "    model.load_state_dict(state['model'], strict=True)\n",
        "    model.eval()\n",
        "    return model\n",
        "\n",
        "def apply_groupwise_softmax(mean_logits: np.ndarray) -> np.ndarray:\n",
        "    # mean_logits shape: [N, C] with C=len(target_cols)=9\n",
        "    out = mean_logits.copy()\n",
        "    # Indices per sample_submission order:\n",
        "    # 0-2: ETT [Abnormal, Borderline, Normal], 3-6: NGT [Abnormal, Borderline, Incompletely Imaged, Normal], 7-8: CVC [Abnormal, Borderline]\n",
        "    ett_idx = [0,1,2]\n",
        "    ngt_idx = [3,4,5,6]\n",
        "    cvc_idx = [7,8]\n",
        "    # softmax for ETT and NGT groups on logits\n",
        "    def softmax(x, axis=-1):\n",
        "        x_max = np.max(x, axis=axis, keepdims=True)\n",
        "        e = np.exp(x - x_max)\n",
        "        return e / np.sum(e, axis=axis, keepdims=True)\n",
        "    out[:, ett_idx] = softmax(out[:, ett_idx], axis=1)\n",
        "    out[:, ngt_idx] = softmax(out[:, ngt_idx], axis=1)\n",
        "    # for CVC group keep sigmoid over 2 independent labels\n",
        "    out[:, cvc_idx] = 1.0 / (1.0 + np.exp(-out[:, cvc_idx]))\n",
        "    return out\n",
        "\n",
        "def predict_test_tta(fold_ckpts, tta_hflip=True, batch_size=BATCH_SIZE):\n",
        "    test_df = ss_df[[id_col]].copy()\n",
        "    test_ds = RanzcrTestDataset(test_df, test_dir, id_col, transforms=build_valid_aug(IMG_SIZE, clahe_p=1.0))\n",
        "    test_loader = DataLoader(test_ds, batch_size=batch_size, shuffle=False, num_workers=4, pin_memory=True, persistent_workers=False)\n",
        "    all_logits = []\n",
        "    used_folds = []\n",
        "    if DEVICE=='cuda':\n",
        "        torch.cuda.empty_cache()\n",
        "    for f, ckpt in enumerate(fold_ckpts):\n",
        "        if not os.path.exists(ckpt):\n",
        "            print(f\"[infer] skip fold {f}, ckpt not found: {ckpt}\")\n",
        "            continue\n",
        "        print(f\"[infer] loading {ckpt}\")\n",
        "        model = load_model_for_infer(ckpt, num_classes=len(target_cols))\n",
        "        model.to(DEVICE)\n",
        "        fold_logits = []\n",
        "        with torch.no_grad():\n",
        "            for xb, _ids in test_loader:\n",
        "                xb = xb.to(DEVICE, non_blocking=True)\n",
        "                with torch.cuda.amp.autocast(enabled=(DEVICE=='cuda')):\n",
        "                    logits = model(xb)\n",
        "                    if tta_hflip:\n",
        "                        xb_flip = torch.flip(xb, dims=[3])\n",
        "                        logits_flip = model(xb_flip)\n",
        "                        logits = (logits + logits_flip) / 2.0\n",
        "                fold_logits.append(logits.detach().cpu().numpy())\n",
        "        fold_logits = np.concatenate(fold_logits, axis=0)\n",
        "        all_logits.append(fold_logits)\n",
        "        used_folds.append(f)\n",
        "    if not all_logits:\n",
        "        raise RuntimeError('No checkpoints found for inference.')\n",
        "    mean_logits = np.mean(all_logits, axis=0)\n",
        "    # Apply group-wise post-processing: softmax for ETT and NGT groups, sigmoid for CVC\n",
        "    probs = apply_groupwise_softmax(mean_logits)\n",
        "    sub = pd.DataFrame(probs, columns=target_cols)\n",
        "    sub.insert(0, id_col, ss_df[id_col].values)\n",
        "    return sub, used_folds\n",
        "\n",
        "# Run inference using any finished fold checkpoints\n",
        "fold_ckpts = [f\"chkpts/effb3_fold{f}.pt\" for f in range(5)]\n",
        "try:\n",
        "    submission_df, used_folds = predict_test_tta(fold_ckpts, tta_hflip=True, batch_size=16)\n",
        "    print('[infer] used folds:', used_folds)\n",
        "    submission_df.to_csv('submission.csv', index=False)\n",
        "    print('[infer] saved submission.csv with shape', submission_df.shape)\n",
        "except Exception as e:\n",
        "    print('[infer] inference not ready:', e)"
      ],
      "execution_count": 17,
      "outputs": [
        {
          "output_type": "stream",
          "name": "stdout",
          "text": [
            "[infer] loading chkpts/effb3_fold0.pt\n"
          ]
        },
        {
          "output_type": "stream",
          "name": "stderr",
          "text": [
            "/tmp/ipykernel_1774/2673439433.py:80: FutureWarning: `torch.cuda.amp.autocast(args...)` is deprecated. Please use `torch.amp.autocast('cuda', args...)` instead.\n  with torch.cuda.amp.autocast(enabled=(DEVICE=='cuda')):\n"
          ]
        }
      ]
    },
    {
      "id": "bb1edd03-a416-4140-8fa7-026f7997183b",
      "cell_type": "code",
      "metadata": {},
      "source": [
        "# Validate post-processing on OOF and regenerate submission with sigmoid-only probabilities\n",
        "import numpy as np\n",
        "from sklearn.metrics import roc_auc_score\n",
        "\n",
        "def sigmoid_np(x):\n",
        "    return 1.0 / (1.0 + np.exp(-x))\n",
        "\n",
        "def softmax_np(x, axis=-1):\n",
        "    x_max = np.max(x, axis=axis, keepdims=True)\n",
        "    e = np.exp(x - x_max)\n",
        "    return e / np.sum(e, axis=axis, keepdims=True)\n",
        "\n",
        "def apply_groupwise_softmax_logits(logits: np.ndarray) -> np.ndarray:\n",
        "    out = logits.copy()\n",
        "    ett_idx = [0,1,2]\n",
        "    ngt_idx = [3,4,5,6]\n",
        "    cvc_idx = [7,8]\n",
        "    out[:, ett_idx] = softmax_np(out[:, ett_idx], axis=1)\n",
        "    out[:, ngt_idx] = softmax_np(out[:, ngt_idx], axis=1)\n",
        "    out[:, cvc_idx] = sigmoid_np(out[:, cvc_idx])\n",
        "    return out\n",
        "\n",
        "def macro_auc_from_probs(y_true: np.ndarray, probs: np.ndarray) -> float:\n",
        "    aucs = []\n",
        "    for i in range(y_true.shape[1]):\n",
        "        try:\n",
        "            aucs.append(roc_auc_score(y_true[:, i], probs[:, i]))\n",
        "        except Exception:\n",
        "            pass\n",
        "    return float(np.mean(aucs)) if len(aucs)>0 else 0.0\n",
        "\n",
        "# Load OOF logits and targets\n",
        "oof_logits = np.load('oof_logits_all.npy')\n",
        "mask = ~np.isnan(oof_logits).any(axis=1)\n",
        "y_true = folds_df.loc[mask, target_cols].values.astype(np.float32)\n",
        "logits_filled = oof_logits[mask]\n",
        "\n",
        "# OOF AUC with sigmoid-only\n",
        "probs_sig = sigmoid_np(logits_filled)\n",
        "oof_auc_sig = macro_auc_from_probs(y_true, probs_sig)\n",
        "print('[oof] Macro AUC (sigmoid-only):', f'{oof_auc_sig:.5f}')\n",
        "\n",
        "# OOF AUC with group-wise post-processing (ETT/NGT softmax on logits, CVC sigmoid)\n",
        "probs_group = apply_groupwise_softmax_logits(logits_filled)\n",
        "oof_auc_group = macro_auc_from_probs(y_true, probs_group)\n",
        "print('[oof] Macro AUC (groupwise softmax + CVC sigmoid):', f'{oof_auc_group:.5f}')\n",
        "\n",
        "# Re-run test inference to produce sigmoid-only submission.csv\n",
        "def predict_test_logits(fold_ckpts, tta_hflip=True, batch_size=BATCH_SIZE):\n",
        "    test_df = ss_df[[id_col]].copy()\n",
        "    test_ds = RanzcrTestDataset(test_df, test_dir, id_col, transforms=build_valid_aug(IMG_SIZE, clahe_p=1.0))\n",
        "    test_loader = DataLoader(test_ds, batch_size=batch_size, shuffle=False, num_workers=4, pin_memory=True, persistent_workers=False)\n",
        "    all_logits = []\n",
        "    used = []\n",
        "    if DEVICE=='cuda':\n",
        "        torch.cuda.empty_cache()\n",
        "    for f, ckpt in enumerate(fold_ckpts):\n",
        "        if not os.path.exists(ckpt):\n",
        "            print(f\"[infer2] skip fold {f}, missing {ckpt}\")\n",
        "            continue\n",
        "        print(f\"[infer2] loading {ckpt}\")\n",
        "        model = load_model_for_infer(ckpt, num_classes=len(target_cols)).to(DEVICE)\n",
        "        model.eval()\n",
        "        fold_logits = []\n",
        "        with torch.no_grad():\n",
        "            for xb, _ids in test_loader:\n",
        "                xb = xb.to(DEVICE, non_blocking=True)\n",
        "                with torch.cuda.amp.autocast(enabled=(DEVICE=='cuda')):\n",
        "                    logits = model(xb)\n",
        "                    if tta_hflip:\n",
        "                        xb_flip = torch.flip(xb, dims=[3])\n",
        "                        logits_flip = model(xb_flip)\n",
        "                        logits = (logits + logits_flip) / 2.0\n",
        "                fold_logits.append(logits.detach().cpu().numpy())\n",
        "        all_logits.append(np.concatenate(fold_logits, axis=0))\n",
        "        used.append(f)\n",
        "    assert len(all_logits)>0, 'No logits collected'\n",
        "    mean_logits = np.mean(all_logits, axis=0)\n",
        "    return mean_logits, used\n",
        "\n",
        "fold_ckpts = [f\"chkpts/effb3_fold{f}.pt\" for f in range(5)]\n",
        "mean_logits_test, used = predict_test_logits(fold_ckpts, tta_hflip=True, batch_size=16)\n",
        "print('[infer2] used folds:', used)\n",
        "\n",
        "# Sigmoid-only probabilities for submission\n",
        "probs_test_sig = sigmoid_np(mean_logits_test)\n",
        "sub_sig = pd.DataFrame(probs_test_sig, columns=target_cols)\n",
        "sub_sig.insert(0, id_col, ss_df[id_col].values)\n",
        "sub_sig.to_csv('submission.csv', index=False)\n",
        "print('[infer2] Wrote sigmoid-only submission.csv with shape', sub_sig.shape)"
      ],
      "execution_count": 12,
      "outputs": [
        {
          "output_type": "stream",
          "name": "stdout",
          "text": [
            "[oof] Macro AUC (sigmoid-only): 0.88729\n[oof] Macro AUC (groupwise softmax + CVC sigmoid): 0.58707\n[infer2] loading chkpts/effb3_fold0.pt\n"
          ]
        },
        {
          "output_type": "stream",
          "name": "stdout",
          "text": [
            "[model] pretrained=True; num_outputs 9 fc_mean -0.00042216299334540963\n"
          ]
        },
        {
          "output_type": "stream",
          "name": "stderr",
          "text": [
            "/tmp/ipykernel_1774/1325318391.py:68: FutureWarning: `torch.cuda.amp.autocast(args...)` is deprecated. Please use `torch.amp.autocast('cuda', args...)` instead.\n  with torch.cuda.amp.autocast(enabled=(DEVICE=='cuda')):\n"
          ]
        },
        {
          "output_type": "stream",
          "name": "stdout",
          "text": [
            "[infer2] loading chkpts/effb3_fold1.pt\n"
          ]
        },
        {
          "output_type": "stream",
          "name": "stdout",
          "text": [
            "[model] pretrained=True; num_outputs 9 fc_mean 0.0009805666049942374\n"
          ]
        },
        {
          "output_type": "stream",
          "name": "stdout",
          "text": [
            "[infer2] loading chkpts/effb3_fold2.pt\n"
          ]
        },
        {
          "output_type": "stream",
          "name": "stdout",
          "text": [
            "[model] pretrained=True; num_outputs 9 fc_mean -0.0005074103828519583\n"
          ]
        },
        {
          "output_type": "stream",
          "name": "stdout",
          "text": [
            "[infer2] loading chkpts/effb3_fold3.pt\n"
          ]
        },
        {
          "output_type": "stream",
          "name": "stdout",
          "text": [
            "[model] pretrained=True; num_outputs 9 fc_mean -0.0028276173397898674\n"
          ]
        },
        {
          "output_type": "stream",
          "name": "stdout",
          "text": [
            "[infer2] loading chkpts/effb3_fold4.pt\n"
          ]
        },
        {
          "output_type": "stream",
          "name": "stdout",
          "text": [
            "[model] pretrained=True; num_outputs 9 fc_mean 0.003661656752228737\n"
          ]
        },
        {
          "output_type": "stream",
          "name": "stdout",
          "text": [
            "[infer2] used folds: [0, 1, 2, 3, 4]\n[infer2] Wrote sigmoid-only submission.csv with shape (3009, 10)\n"
          ]
        },
        {
          "output_type": "stream",
          "name": "stderr",
          "text": [
            "/tmp/ipykernel_1774/1325318391.py:6: RuntimeWarning: overflow encountered in exp\n  return 1.0 / (1.0 + np.exp(-x))\n"
          ]
        }
      ]
    },
    {
      "id": "e5a36093-b510-471f-b1a6-f29df082e8f0",
      "cell_type": "code",
      "metadata": {},
      "source": [
        "# Inference: sigmoid-only for b4_ns folds; optional 0.7/0.3 ensemble with b3 (logits avg), hflip TTA\n",
        "import os, numpy as np, pandas as pd, torch\n",
        "from torch.utils.data import DataLoader\n",
        "\n",
        "def get_available_ckpts(prefix: str, max_folds: int = 5):\n",
        "    paths = []\n",
        "    for f in range(max_folds):\n",
        "        p = f\"chkpts/{prefix}_fold{f}.pt\"\n",
        "        if os.path.exists(p):\n",
        "            paths.append(p)\n",
        "    return paths\n",
        "\n",
        "def predict_test_logits_from_ckpts(ckpt_paths, tta_hflip=True, batch_size=16):\n",
        "    assert len(ckpt_paths) > 0, 'No checkpoints provided'\n",
        "    test_df = ss_df[[id_col]].copy()\n",
        "    test_ds = RanzcrTestDataset(test_df, test_dir, id_col, transforms=build_valid_aug(IMG_SIZE, clahe_p=1.0))\n",
        "    test_loader = DataLoader(test_ds, batch_size=batch_size, shuffle=False, num_workers=4, pin_memory=True, persistent_workers=False)\n",
        "    all_logits = []\n",
        "    if DEVICE=='cuda':\n",
        "        torch.cuda.empty_cache()\n",
        "    for ckpt in ckpt_paths:\n",
        "        print(f\"[infer] loading {ckpt}\")\n",
        "        model = load_model_for_infer(ckpt, num_classes=len(target_cols)).to(DEVICE)\n",
        "        model.eval()\n",
        "        fold_logits = []\n",
        "        with torch.no_grad():\n",
        "            for xb, _ids in test_loader:\n",
        "                xb = xb.to(DEVICE, non_blocking=True)\n",
        "                with torch.cuda.amp.autocast(enabled=(DEVICE=='cuda')):\n",
        "                    logits = model(xb)\n",
        "                    if tta_hflip:\n",
        "                        xb_flip = torch.flip(xb, dims=[3])\n",
        "                        logits_flip = model(xb_flip)\n",
        "                        logits = (logits + logits_flip) / 2.0\n",
        "                fold_logits.append(logits.detach().cpu().numpy())\n",
        "        all_logits.append(np.concatenate(fold_logits, axis=0))\n",
        "    mean_logits = np.mean(all_logits, axis=0)\n",
        "    return mean_logits\n",
        "\n",
        "def sigmoid_np(x):\n",
        "    return 1.0 / (1.0 + np.exp(-x))\n",
        "\n",
        "def write_submission_from_logits(mean_logits: np.ndarray, out_path: str):\n",
        "    probs = sigmoid_np(mean_logits)\n",
        "    sub = pd.DataFrame(probs, columns=target_cols)\n",
        "    sub.insert(0, id_col, ss_df[id_col].values)\n",
        "    sub.to_csv(out_path, index=False)\n",
        "    print('[infer] wrote', out_path, 'shape', sub.shape)\n",
        "\n",
        "# Prepare inference (do NOT run during training to avoid OOM; run after Cell 3 completes):\n",
        "if True:\n",
        "    b4_ckpts = get_available_ckpts('effb4ns')\n",
        "    print('[infer] effb4ns ckpts:', b4_ckpts)\n",
        "    assert len(b4_ckpts) > 0, 'No effb4ns checkpoints found'\n",
        "    logits_b4 = predict_test_logits_from_ckpts(b4_ckpts, tta_hflip=True, batch_size=16)\n",
        "    write_submission_from_logits(logits_b4, 'submission_b4ns_sigmoid.csv')\n",
        "    # Optional ensemble with b3\n",
        "    b3_ckpts = get_available_ckpts('effb3')\n",
        "    if len(b3_ckpts) > 0:\n",
        "        logits_b3 = predict_test_logits_from_ckpts(b3_ckpts, tta_hflip=True, batch_size=16)\n",
        "        blend_logits = 0.7 * logits_b4 + 0.3 * logits_b3\n",
        "        write_submission_from_logits(blend_logits, 'submission_ens7030_sigmoid.csv')\n",
        "        os.replace('submission_ens7030_sigmoid.csv', 'submission.csv')\n",
        "        print('[infer] Final submission.csv written from 70/30 ensemble')\n",
        "    else:\n",
        "        os.replace('submission_b4ns_sigmoid.csv', 'submission.csv')\n",
        "        print('[infer] Final submission.csv written from b4ns only')"
      ],
      "execution_count": 18,
      "outputs": [
        {
          "output_type": "stream",
          "name": "stdout",
          "text": [
            "[infer] effb4ns ckpts: ['chkpts/effb4ns_fold0.pt', 'chkpts/effb4ns_fold1.pt', 'chkpts/effb4ns_fold2.pt', 'chkpts/effb4ns_fold3.pt', 'chkpts/effb4ns_fold4.pt']\n[infer] loading chkpts/effb4ns_fold0.pt\n"
          ]
        },
        {
          "output_type": "stream",
          "name": "stderr",
          "text": [
            "/app/.pip-target/timm/models/_factory.py:138: UserWarning: Mapping deprecated model name tf_efficientnet_b4_ns to current tf_efficientnet_b4.ns_jft_in1k.\n  model = create_fn(\n"
          ]
        },
        {
          "output_type": "stream",
          "name": "stderr",
          "text": [
            "/tmp/ipykernel_1774/3136468299.py:29: FutureWarning: `torch.cuda.amp.autocast(args...)` is deprecated. Please use `torch.amp.autocast('cuda', args...)` instead.\n  with torch.cuda.amp.autocast(enabled=(DEVICE=='cuda')):\n"
          ]
        },
        {
          "output_type": "stream",
          "name": "stdout",
          "text": [
            "[infer] loading chkpts/effb4ns_fold1.pt\n"
          ]
        },
        {
          "output_type": "stream",
          "name": "stdout",
          "text": [
            "[infer] loading chkpts/effb4ns_fold2.pt\n"
          ]
        },
        {
          "output_type": "stream",
          "name": "stdout",
          "text": [
            "[infer] loading chkpts/effb4ns_fold3.pt\n"
          ]
        },
        {
          "output_type": "stream",
          "name": "stdout",
          "text": [
            "[infer] loading chkpts/effb4ns_fold4.pt\n"
          ]
        },
        {
          "output_type": "stream",
          "name": "stdout",
          "text": [
            "[infer] wrote submission_b4ns_sigmoid.csv shape (3009, 10)\n[infer] loading chkpts/effb3_fold0.pt\n"
          ]
        },
        {
          "output_type": "stream",
          "name": "stderr",
          "text": [
            "/tmp/ipykernel_1774/3136468299.py:29: FutureWarning: `torch.cuda.amp.autocast(args...)` is deprecated. Please use `torch.amp.autocast('cuda', args...)` instead.\n  with torch.cuda.amp.autocast(enabled=(DEVICE=='cuda')):\n"
          ]
        },
        {
          "output_type": "stream",
          "name": "stdout",
          "text": [
            "[infer] loading chkpts/effb3_fold1.pt\n"
          ]
        },
        {
          "output_type": "stream",
          "name": "stdout",
          "text": [
            "[infer] loading chkpts/effb3_fold2.pt\n"
          ]
        },
        {
          "output_type": "stream",
          "name": "stdout",
          "text": [
            "[infer] loading chkpts/effb3_fold3.pt\n"
          ]
        },
        {
          "output_type": "stream",
          "name": "stdout",
          "text": [
            "[infer] loading chkpts/effb3_fold4.pt\n"
          ]
        },
        {
          "output_type": "stream",
          "name": "stdout",
          "text": [
            "[infer] wrote submission_ens7030_sigmoid.csv shape (3009, 10)\n[infer] Final submission.csv written from 70/30 ensemble\n"
          ]
        }
      ]
    },
    {
      "id": "1c2d0f21-f429-42bf-8d4b-860eabeb1246",
      "cell_type": "code",
      "metadata": {},
      "source": [
        "# Step 1: Build b3 OOF logits, tune blend with b4 OOF, generate improved submission (sigmoid-only)\n",
        "import numpy as np, pandas as pd, os, time\n",
        "from sklearn.metrics import roc_auc_score\n",
        "from torch.utils.data import DataLoader\n",
        "import torch\n",
        "\n",
        "def sigmoid_np(x):\n",
        "    return 1.0 / (1.0 + np.exp(-x))\n",
        "\n",
        "def macro_auc_from_probs(y_true: np.ndarray, probs: np.ndarray) -> float:\n",
        "    aucs = []\n",
        "    for i in range(y_true.shape[1]):\n",
        "        try:\n",
        "            aucs.append(roc_auc_score(y_true[:, i], probs[:, i]))\n",
        "        except Exception:\n",
        "            pass\n",
        "    return float(np.mean(aucs)) if len(aucs)>0 else 0.0\n",
        "\n",
        "def get_val_loader_for_fold(fold: int, size: int):\n",
        "    valid_idx = folds_df.index[folds_df['fold'] == fold].tolist()\n",
        "    valid_ds = RanzcrDataset(folds_df.iloc[valid_idx], train_dir, id_col, target_cols, transforms=build_valid_aug(size, clahe_p=1.0))\n",
        "    valid_loader = DataLoader(valid_ds, batch_size=16, shuffle=False, num_workers=4, pin_memory=True, persistent_workers=False)\n",
        "    return valid_loader, valid_idx\n",
        "\n",
        "def collect_oof_logits_from_ckpts(ckpt_prefix: str, size: int) -> np.ndarray:\n",
        "    oof_logits = np.full((len(folds_df), len(target_cols)), np.nan, np.float32)\n",
        "    if DEVICE=='cuda':\n",
        "        torch.cuda.empty_cache()\n",
        "    for f in range(5):\n",
        "        ckpt = f\"chkpts/{ckpt_prefix}_fold{f}.pt\"\n",
        "        if not os.path.exists(ckpt):\n",
        "            print(f\"[oof] missing ckpt for fold {f}: {ckpt}\")\n",
        "            continue\n",
        "        print(f\"[oof] fold {f} loading {ckpt} @size {size}\")\n",
        "        model = load_model_for_infer(ckpt, num_classes=len(target_cols)).to(DEVICE)\n",
        "        model.eval()\n",
        "        val_loader, vidx = get_val_loader_for_fold(f, size)\n",
        "        logits_col = []\n",
        "        with torch.no_grad():\n",
        "            for xb, yb in val_loader:\n",
        "                xb = xb.to(DEVICE, non_blocking=True)\n",
        "                with torch.cuda.amp.autocast(enabled=(DEVICE=='cuda')):\n",
        "                    logits = model(xb)\n",
        "                logits_col.append(logits.detach().cpu().numpy())\n",
        "        val_logits = np.concatenate(logits_col, axis=0)\n",
        "        oof_logits[vidx] = val_logits\n",
        "    return oof_logits\n",
        "\n",
        "# Load b4 OOF logits (640) from training run\n",
        "oof_b4_path = 'oof_logits_all.npy'\n",
        "assert os.path.exists(oof_b4_path), 'Missing b4 OOF logits file'\n",
        "oof_b4 = np.load(oof_b4_path)\n",
        "mask_b4 = ~np.isnan(oof_b4).any(axis=1)\n",
        "y_true = folds_df.loc[mask_b4, target_cols].values.astype(np.float32)\n",
        "print('[oof] b4 OOF coverage:', mask_b4.sum(), '/', len(mask_b4))\n",
        "\n",
        "# Build b3 OOF logits (use 512 to match b3 training)\n",
        "b3_oof_path = 'oof_logits_b3.npy'\n",
        "if os.path.exists(b3_oof_path):\n",
        "    oof_b3 = np.load(b3_oof_path)\n",
        "    print('[oof] Loaded cached b3 OOF logits')\n",
        "else:\n",
        "    t0 = time.time()\n",
        "    oof_b3 = collect_oof_logits_from_ckpts('effb3', size=512)\n",
        "    np.save(b3_oof_path, oof_b3)\n",
        "    print('[oof] Saved b3 OOF logits to', b3_oof_path, 'time', round(time.time()-t0,1), 's')\n",
        "\n",
        "# Align masks\n",
        "mask_b3 = ~np.isnan(oof_b3).any(axis=1)\n",
        "mask = mask_b3 & mask_b4\n",
        "y_true_aln = folds_df.loc[mask, target_cols].values.astype(np.float32)\n",
        "b4_logits_aln = oof_b4[mask]\n",
        "b3_logits_aln = oof_b3[mask]\n",
        "\n",
        "# Baseline AUCs\n",
        "auc_b4 = macro_auc_from_probs(y_true_aln, sigmoid_np(b4_logits_aln))\n",
        "auc_b3 = macro_auc_from_probs(y_true_aln, sigmoid_np(b3_logits_aln))\n",
        "print(f\"[oof] AUC b4(sigmoid): {auc_b4:.5f}  b3(sigmoid): {auc_b3:.5f}\")\n",
        "\n",
        "# Grid search blend weight w for mean-logits: sigmoid(w*b4 + (1-w)*b3)\n",
        "weights = np.linspace(0.0, 1.0, 21)\n",
        "best_auc = -1.0\n",
        "best_w = None\n",
        "for w in weights:\n",
        "    blend_logits = w * b4_logits_aln + (1.0 - w) * b3_logits_aln\n",
        "    auc = macro_auc_from_probs(y_true_aln, sigmoid_np(blend_logits))\n",
        "    if auc > best_auc:\n",
        "        best_auc = auc\n",
        "        best_w = float(w)\n",
        "print(f\"[oof] Mean-logits blend best w={best_w:.2f} AUC={best_auc:.5f}\")\n",
        "\n",
        "# Rank-averaging per class (on logits ranks), grid over w\n",
        "def rank_normalize(mat: np.ndarray) -> np.ndarray:\n",
        "    # Convert each column to ranks in [0,1]\n",
        "    n = mat.shape[0]\n",
        "    ranks = np.zeros_like(mat, dtype=np.float32)\n",
        "    for j in range(mat.shape[1]):\n",
        "        order = np.argsort(mat[:, j])\n",
        "        ranks[order, j] = np.arange(n, dtype=np.float32)\n",
        "    return ranks / (n - 1 + 1e-9)\n",
        "\n",
        "b4_ranks = rank_normalize(b4_logits_aln)\n",
        "b3_ranks = rank_normalize(b3_logits_aln)\n",
        "best_auc_rank = -1.0\n",
        "best_w_rank = None\n",
        "for w in weights:\n",
        "    blend_rank = w * b4_ranks + (1.0 - w) * b3_ranks\n",
        "    auc = macro_auc_from_probs(y_true_aln, blend_rank)\n",
        "    if auc > best_auc_rank:\n",
        "        best_auc_rank = auc\n",
        "        best_w_rank = float(w)\n",
        "print(f\"[oof] Rank-avg best w={best_w_rank:.2f} AUC={best_auc_rank:.5f}\")\n",
        "\n",
        "# Choose method\n",
        "use_rank = best_auc_rank > best_auc\n",
        "print('[oof] Chosen method:', 'rank-avg' if use_rank else 'mean-logits')\n",
        "final_w = best_w_rank if use_rank else best_w\n",
        "\n",
        "# Compute test logits for b4@640 and b3@512, with hflip TTA, then blend and write submission.csv\n",
        "def predict_test_logits_size(ckpt_prefix: str, size: int, batch_size: int = 16, tta_hflip: bool = True) -> np.ndarray:\n",
        "    test_df = ss_df[[id_col]].copy()\n",
        "    test_ds = RanzcrTestDataset(test_df, test_dir, id_col, transforms=build_valid_aug(size, clahe_p=1.0))\n",
        "    test_loader = DataLoader(test_ds, batch_size=batch_size, shuffle=False, num_workers=4, pin_memory=True, persistent_workers=False)\n",
        "    all_fold_logits = []\n",
        "    if DEVICE=='cuda':\n",
        "        torch.cuda.empty_cache()\n",
        "    for f in range(5):\n",
        "        ckpt = f\"chkpts/{ckpt_prefix}_fold{f}.pt\"\n",
        "        if not os.path.exists(ckpt):\n",
        "            print(f\"[test] missing {ckpt}, skipping\")\n",
        "            continue\n",
        "        print(f\"[test] loading {ckpt} @size {size}\")\n",
        "        model = load_model_for_infer(ckpt, num_classes=len(target_cols)).to(DEVICE)\n",
        "        model.eval()\n",
        "        fold_logits = []\n",
        "        with torch.no_grad():\n",
        "            for xb, _ids in test_loader:\n",
        "                xb = xb.to(DEVICE, non_blocking=True)\n",
        "                with torch.cuda.amp.autocast(enabled=(DEVICE=='cuda')):\n",
        "                    logits = model(xb)\n",
        "                    if tta_hflip:\n",
        "                        xb_flip = torch.flip(xb, dims=[3])\n",
        "                        logits_flip = model(xb_flip)\n",
        "                        logits = (logits + logits_flip) / 2.0\n",
        "                fold_logits.append(logits.detach().cpu().numpy())\n",
        "        all_fold_logits.append(np.concatenate(fold_logits, axis=0))\n",
        "    assert len(all_fold_logits)>0, 'No test logits collected'\n",
        "    return np.mean(all_fold_logits, axis=0)\n",
        "\n",
        "t_test = time.time()\n",
        "logits_b4_test = predict_test_logits_size('effb4ns', size=640, batch_size=16, tta_hflip=True)\n",
        "logits_b3_test = predict_test_logits_size('effb3', size=512, batch_size=16, tta_hflip=True)\n",
        "np.save('test_logits_b4_640.npy', logits_b4_test)\n",
        "np.save('test_logits_b3_512.npy', logits_b3_test)\n",
        "print('[test] saved test logits b4/b3, time', round(time.time()-t_test,1), 's')\n",
        "\n",
        "if use_rank:\n",
        "    # rank-avg on test\n",
        "    def rank_norm_cols(mat):\n",
        "        n = mat.shape[0]\n",
        "        ranks = np.zeros_like(mat, dtype=np.float32)\n",
        "        for j in range(mat.shape[1]):\n",
        "            order = np.argsort(mat[:, j])\n",
        "            ranks[order, j] = np.arange(n, dtype=np.float32)\n",
        "        return ranks / (n - 1 + 1e-9)\n",
        "    r_b4 = rank_norm_cols(logits_b4_test)\n",
        "    r_b3 = rank_norm_cols(logits_b3_test)\n",
        "    blend_rank = final_w * r_b4 + (1.0 - final_w) * r_b3\n",
        "    probs = blend_rank  # already in [0,1]\n",
        "else:\n",
        "    blend_logits_test = final_w * logits_b4_test + (1.0 - final_w) * logits_b3_test\n",
        "    probs = sigmoid_np(blend_logits_test)\n",
        "\n",
        "sub = pd.DataFrame(probs, columns=target_cols)\n",
        "sub.insert(0, id_col, ss_df[id_col].values)\n",
        "out_path = 'submission.csv'\n",
        "sub.to_csv(out_path, index=False)\n",
        "print('[submit] Wrote', out_path, 'shape', sub.shape, '| method=', 'rank-avg' if use_rank else 'mean-logits', 'w=', round(final_w,2))"
      ],
      "execution_count": 19,
      "outputs": [
        {
          "output_type": "stream",
          "name": "stdout",
          "text": [
            "[oof] b4 OOF coverage: 27074 / 27074\n[oof] fold 0 loading chkpts/effb3_fold0.pt @size 512\n"
          ]
        },
        {
          "output_type": "stream",
          "name": "stderr",
          "text": [
            "/tmp/ipykernel_1774/2806399247.py:42: FutureWarning: `torch.cuda.amp.autocast(args...)` is deprecated. Please use `torch.amp.autocast('cuda', args...)` instead.\n  with torch.cuda.amp.autocast(enabled=(DEVICE=='cuda')):\n"
          ]
        },
        {
          "output_type": "stream",
          "name": "stdout",
          "text": [
            "[oof] fold 1 loading chkpts/effb3_fold1.pt @size 512\n"
          ]
        },
        {
          "output_type": "stream",
          "name": "stdout",
          "text": [
            "[oof] fold 2 loading chkpts/effb3_fold2.pt @size 512\n"
          ]
        },
        {
          "output_type": "stream",
          "name": "stdout",
          "text": [
            "[oof] fold 3 loading chkpts/effb3_fold3.pt @size 512\n"
          ]
        },
        {
          "output_type": "stream",
          "name": "stdout",
          "text": [
            "[oof] fold 4 loading chkpts/effb3_fold4.pt @size 512\n"
          ]
        },
        {
          "output_type": "stream",
          "name": "stdout",
          "text": [
            "[oof] Saved b3 OOF logits to oof_logits_b3.npy time 731.6 s\n[oof] AUC b4(sigmoid): 0.88729  b3(sigmoid): 0.88703\n"
          ]
        },
        {
          "output_type": "stream",
          "name": "stdout",
          "text": [
            "[oof] Mean-logits blend best w=0.70 AUC=0.88735\n"
          ]
        },
        {
          "output_type": "stream",
          "name": "stdout",
          "text": [
            "[oof] Rank-avg best w=0.70 AUC=0.88735\n[oof] Chosen method: mean-logits\n[test] loading chkpts/effb4ns_fold0.pt @size 640\n"
          ]
        },
        {
          "output_type": "stream",
          "name": "stderr",
          "text": [
            "/app/.pip-target/timm/models/_factory.py:138: UserWarning: Mapping deprecated model name tf_efficientnet_b4_ns to current tf_efficientnet_b4.ns_jft_in1k.\n  model = create_fn(\n"
          ]
        },
        {
          "output_type": "stream",
          "name": "stderr",
          "text": [
            "/tmp/ipykernel_1774/2806399247.py:139: FutureWarning: `torch.cuda.amp.autocast(args...)` is deprecated. Please use `torch.amp.autocast('cuda', args...)` instead.\n  with torch.cuda.amp.autocast(enabled=(DEVICE=='cuda')):\n"
          ]
        },
        {
          "output_type": "stream",
          "name": "stdout",
          "text": [
            "[test] loading chkpts/effb4ns_fold1.pt @size 640\n"
          ]
        },
        {
          "output_type": "stream",
          "name": "stdout",
          "text": [
            "[test] loading chkpts/effb4ns_fold2.pt @size 640\n"
          ]
        },
        {
          "output_type": "stream",
          "name": "stdout",
          "text": [
            "[test] loading chkpts/effb4ns_fold3.pt @size 640\n"
          ]
        },
        {
          "output_type": "stream",
          "name": "stdout",
          "text": [
            "[test] loading chkpts/effb4ns_fold4.pt @size 640\n"
          ]
        },
        {
          "output_type": "stream",
          "name": "stdout",
          "text": [
            "[test] loading chkpts/effb3_fold0.pt @size 512\n"
          ]
        },
        {
          "output_type": "stream",
          "name": "stderr",
          "text": [
            "/tmp/ipykernel_1774/2806399247.py:139: FutureWarning: `torch.cuda.amp.autocast(args...)` is deprecated. Please use `torch.amp.autocast('cuda', args...)` instead.\n  with torch.cuda.amp.autocast(enabled=(DEVICE=='cuda')):\n"
          ]
        },
        {
          "output_type": "stream",
          "name": "stdout",
          "text": [
            "[test] loading chkpts/effb3_fold1.pt @size 512\n"
          ]
        },
        {
          "output_type": "stream",
          "name": "stdout",
          "text": [
            "[test] loading chkpts/effb3_fold2.pt @size 512\n"
          ]
        },
        {
          "output_type": "stream",
          "name": "stdout",
          "text": [
            "[test] loading chkpts/effb3_fold3.pt @size 512\n"
          ]
        },
        {
          "output_type": "stream",
          "name": "stdout",
          "text": [
            "[test] loading chkpts/effb3_fold4.pt @size 512\n"
          ]
        },
        {
          "output_type": "stream",
          "name": "stdout",
          "text": [
            "[test] saved test logits b4/b3, time 843.0 s\n[submit] Wrote submission.csv shape (3009, 10) | method= mean-logits w= 0.7\n"
          ]
        }
      ]
    },
    {
      "id": "785df922-2578-4cf8-b5a3-d25ed308c224",
      "cell_type": "code",
      "metadata": {},
      "source": [
        "# Step 3: Finetune b4_ns at 768 on selected folds (multi-scale boost). Will save chkpts/effb4ns768_fold{f}.pt\n",
        "import time, gc, os, numpy as np, torch, torch.nn as nn, torch.optim as optim\n",
        "from timm.scheduler import CosineLRScheduler\n",
        "import timm\n",
        "from sklearn.metrics import roc_auc_score\n",
        "from torch.utils.data import DataLoader\n",
        "\n",
        "FINETUNE_FOLDS = [0, 2]  # best folds from 640 run\n",
        "FT_IMG_SIZE = 768\n",
        "FT_EPOCHS = 3\n",
        "FT_BS = 4\n",
        "FT_ACCUM = 4  # effective 16\n",
        "FT_LR = 5e-5\n",
        "FT_WD = 1e-4\n",
        "FT_LS = 0.05\n",
        "\n",
        "def evaluate_macro_auc_probs(y_true_np, probs_np):\n",
        "    aucs = []\n",
        "    for i in range(y_true_np.shape[1]):\n",
        "        try:\n",
        "            aucs.append(roc_auc_score(y_true_np[:, i], probs_np[:, i]))\n",
        "        except Exception:\n",
        "            pass\n",
        "    return float(np.mean(aucs)) if len(aucs)>0 else 0.0, aucs\n",
        "\n",
        "def ft_get_loaders(fold: int, size: int):\n",
        "    train_idx = folds_df.index[folds_df['fold'] != fold].tolist()\n",
        "    valid_idx = folds_df.index[folds_df['fold'] == fold].tolist()\n",
        "    train_ds = RanzcrDataset(folds_df.iloc[train_idx], train_dir, id_col, target_cols, transforms=build_train_aug(size, clahe_p=1.0))\n",
        "    valid_ds = RanzcrDataset(folds_df.iloc[valid_idx], train_dir, id_col, target_cols, transforms=build_valid_aug(size, clahe_p=1.0))\n",
        "    train_loader = DataLoader(train_ds, batch_size=FT_BS, shuffle=True, num_workers=4, pin_memory=True, persistent_workers=True, prefetch_factor=2)\n",
        "    valid_loader = DataLoader(valid_ds, batch_size=FT_BS, shuffle=False, num_workers=4, pin_memory=True, persistent_workers=True, prefetch_factor=2)\n",
        "    return train_loader, valid_loader\n",
        "\n",
        "def ft_build_model(num_classes: int):\n",
        "    model = timm.create_model('tf_efficientnet_b4_ns', pretrained=True, num_classes=num_classes, in_chans=3, cache_dir=os.path.abspath('hf_cache'))\n",
        "    return model\n",
        "\n",
        "def ft_sigmoid(x):\n",
        "    return 1.0 / (1.0 + np.exp(-x))\n",
        "\n",
        "def finetune_fold(fold: int):\n",
        "    print(f\"\\n[ft] Fold {fold} finetune @ {FT_IMG_SIZE}\")\n",
        "    gc.collect()\n",
        "    if DEVICE=='cuda':\n",
        "        torch.cuda.empty_cache()\n",
        "    train_loader, valid_loader = ft_get_loaders(fold, FT_IMG_SIZE)\n",
        "    model = ft_build_model(num_classes=len(target_cols)).to(DEVICE).to(memory_format=torch.channels_last)\n",
        "    # load 640 checkpoint weights\n",
        "    base_ckpt = f\"chkpts/effb4ns_fold{fold}.pt\"\n",
        "    assert os.path.exists(base_ckpt), f\"Missing base ckpt: {base_ckpt}\"\n",
        "    state = torch.load(base_ckpt, map_location='cpu')\n",
        "    model.load_state_dict(state['model'], strict=True)\n",
        "    pos_w = torch.from_numpy(np.load('pos_weight.npy')).to(DEVICE).clamp(min=1.0, max=5.0)\n",
        "    criterion = nn.BCEWithLogitsLoss(pos_weight=pos_w)\n",
        "    optimizer = optim.AdamW(model.parameters(), lr=FT_LR, weight_decay=FT_WD)\n",
        "    steps_per_epoch = max(1, len(train_loader) // FT_ACCUM)\n",
        "    total_steps = FT_EPOCHS * steps_per_epoch\n",
        "    warmup_steps = max(1, steps_per_epoch // 2)\n",
        "    lr_sched = CosineLRScheduler(optimizer, t_initial=total_steps, lr_min=max(1e-6, FT_LR*0.05), warmup_t=warmup_steps, warmup_lr_init=FT_LR/10.0, warmup_prefix=True, t_in_epochs=False)\n",
        "    scaler = torch.cuda.amp.GradScaler(enabled=(DEVICE=='cuda'))\n",
        "    best_auc = -1.0\n",
        "    best_path = f\"chkpts/effb4ns768_fold{fold}.pt\"\n",
        "    global_step = 0\n",
        "    t_fold = time.time()\n",
        "    for epoch in range(FT_EPOCHS):\n",
        "        model.train()\n",
        "        t0 = time.time()\n",
        "        run_loss = 0.0\n",
        "        optimizer.zero_grad(set_to_none=True)\n",
        "        for it, (xb, yb) in enumerate(train_loader):\n",
        "            xb = xb.to(DEVICE, non_blocking=True).to(memory_format=torch.channels_last)\n",
        "            yb = yb.to(DEVICE, non_blocking=True)\n",
        "            yb_s = yb * (1.0 - 2.0 * FT_LS) + FT_LS\n",
        "            with torch.cuda.amp.autocast(enabled=(DEVICE=='cuda')):\n",
        "                logits = model(xb)\n",
        "                loss = criterion(logits, yb_s)\n",
        "            scaler.scale(loss / FT_ACCUM).backward()\n",
        "            if (it+1) % FT_ACCUM == 0:\n",
        "                scaler.step(optimizer)\n",
        "                scaler.update()\n",
        "                optimizer.zero_grad(set_to_none=True)\n",
        "                lr_sched.step_update(global_step)\n",
        "                global_step += 1\n",
        "            run_loss += loss.item()\n",
        "            if (it+1) % 50 == 0:\n",
        "                cur_lr = optimizer.param_groups[0]['lr']\n",
        "                print(f\"[ft {fold}] ep {epoch+1}/{FT_EPOCHS} it {it+1}/{len(train_loader)} loss {run_loss/(it+1):.4f} lr {cur_lr:.2e} elapsed {time.time()-t0:.1f}s\")\n",
        "        # validate\n",
        "        model.eval()\n",
        "        v_logits, v_targets = [], []\n",
        "        with torch.no_grad():\n",
        "            for xb, yb in valid_loader:\n",
        "                xb = xb.to(DEVICE, non_blocking=True).to(memory_format=torch.channels_last)\n",
        "                logits = model(xb)\n",
        "                v_logits.append(logits.detach().cpu().numpy())\n",
        "                v_targets.append(yb.numpy())\n",
        "        v_logits = np.concatenate(v_logits, axis=0)\n",
        "        v_targets = np.concatenate(v_targets, axis=0)\n",
        "        v_probs = ft_sigmoid(v_logits)\n",
        "        v_macro, v_aucs = evaluate_macro_auc_probs(v_targets, v_probs)\n",
        "        print(f\"[ft {fold}] ep {epoch+1} val macro AUC: {v_macro:.5f}\")\n",
        "        if v_macro > best_auc:\n",
        "            best_auc = v_macro\n",
        "            torch.save({'model': model.state_dict(), 'auc': best_auc}, best_path)\n",
        "            print(f\"[ft {fold}] saved best to {best_path}\")\n",
        "        print(f\"[ft {fold}] ep {epoch+1} train_loss {run_loss/max(1,len(train_loader)):.4f} time {time.time()-t0:.1f}s\")\n",
        "    print(f\"[ft {fold}] best macro AUC: {best_auc:.5f} total {time.time()-t_fold:.1f}s\")\n",
        "\n",
        "for f in FINETUNE_FOLDS:\n",
        "    finetune_fold(f)\n",
        "print('[ft] Done selected folds. Next: infer multi-scale by averaging logits from effb4ns_fold*.pt and effb4ns768_fold*.pt per fold.')"
      ],
      "execution_count": 20,
      "outputs": [
        {
          "output_type": "stream",
          "name": "stdout",
          "text": [
            "\n[ft] Fold 0 finetune @ 768\n"
          ]
        },
        {
          "output_type": "stream",
          "name": "stderr",
          "text": [
            "/app/.pip-target/albumentations/core/validation.py:114: UserWarning: ShiftScaleRotate is a special case of Affine transform. Please use Affine transform instead.\n  original_init(self, **validated_kwargs)\n/app/.pip-target/timm/models/_factory.py:138: UserWarning: Mapping deprecated model name tf_efficientnet_b4_ns to current tf_efficientnet_b4.ns_jft_in1k.\n  model = create_fn(\n"
          ]
        },
        {
          "output_type": "stream",
          "name": "stderr",
          "text": [
            "/tmp/ipykernel_1774/3806705381.py:61: FutureWarning: `torch.cuda.amp.GradScaler(args...)` is deprecated. Please use `torch.amp.GradScaler('cuda', args...)` instead.\n  scaler = torch.cuda.amp.GradScaler(enabled=(DEVICE=='cuda'))\n"
          ]
        },
        {
          "output_type": "stream",
          "name": "stderr",
          "text": [
            "/tmp/ipykernel_1774/3806705381.py:75: FutureWarning: `torch.cuda.amp.autocast(args...)` is deprecated. Please use `torch.amp.autocast('cuda', args...)` instead.\n  with torch.cuda.amp.autocast(enabled=(DEVICE=='cuda')):\n"
          ]
        },
        {
          "output_type": "stream",
          "name": "stdout",
          "text": [
            "[ft 0] ep 1/3 it 50/5448 loss 0.6829 lr 5.73e-06 elapsed 64.4s\n"
          ]
        },
        {
          "output_type": "stream",
          "name": "stdout",
          "text": [
            "[ft 0] ep 1/3 it 100/5448 loss 0.6868 lr 6.59e-06 elapsed 77.0s\n"
          ]
        },
        {
          "output_type": "stream",
          "name": "stdout",
          "text": [
            "[ft 0] ep 1/3 it 150/5448 loss 0.6816 lr 7.38e-06 elapsed 89.5s\n"
          ]
        },
        {
          "output_type": "stream",
          "name": "stdout",
          "text": [
            "[ft 0] ep 1/3 it 200/5448 loss 0.6806 lr 8.24e-06 elapsed 102.0s\n"
          ]
        },
        {
          "output_type": "stream",
          "name": "stdout",
          "text": [
            "[ft 0] ep 1/3 it 250/5448 loss 0.6810 lr 9.03e-06 elapsed 114.4s\n"
          ]
        },
        {
          "output_type": "stream",
          "name": "stdout",
          "text": [
            "[ft 0] ep 1/3 it 300/5448 loss 0.6813 lr 9.89e-06 elapsed 126.8s\n"
          ]
        },
        {
          "output_type": "stream",
          "name": "stdout",
          "text": [
            "[ft 0] ep 1/3 it 350/5448 loss 0.6808 lr 1.07e-05 elapsed 139.2s\n"
          ]
        },
        {
          "output_type": "stream",
          "name": "stdout",
          "text": [
            "[ft 0] ep 1/3 it 400/5448 loss 0.6786 lr 1.15e-05 elapsed 151.6s\n"
          ]
        },
        {
          "output_type": "stream",
          "name": "stdout",
          "text": [
            "[ft 0] ep 1/3 it 450/5448 loss 0.6791 lr 1.23e-05 elapsed 164.1s\n"
          ]
        },
        {
          "output_type": "stream",
          "name": "stdout",
          "text": [
            "[ft 0] ep 1/3 it 500/5448 loss 0.6771 lr 1.32e-05 elapsed 176.6s\n"
          ]
        },
        {
          "output_type": "stream",
          "name": "stdout",
          "text": [
            "[ft 0] ep 1/3 it 550/5448 loss 0.6769 lr 1.40e-05 elapsed 189.0s\n"
          ]
        },
        {
          "output_type": "stream",
          "name": "stdout",
          "text": [
            "[ft 0] ep 1/3 it 600/5448 loss 0.6759 lr 1.48e-05 elapsed 201.4s\n"
          ]
        },
        {
          "output_type": "stream",
          "name": "stdout",
          "text": [
            "[ft 0] ep 1/3 it 650/5448 loss 0.6753 lr 1.56e-05 elapsed 213.8s\n"
          ]
        },
        {
          "output_type": "stream",
          "name": "stdout",
          "text": [
            "[ft 0] ep 1/3 it 700/5448 loss 0.6755 lr 1.65e-05 elapsed 226.3s\n"
          ]
        },
        {
          "output_type": "stream",
          "name": "stdout",
          "text": [
            "[ft 0] ep 1/3 it 750/5448 loss 0.6744 lr 1.73e-05 elapsed 238.7s\n"
          ]
        },
        {
          "output_type": "stream",
          "name": "stdout",
          "text": [
            "[ft 0] ep 1/3 it 800/5448 loss 0.6734 lr 1.81e-05 elapsed 251.2s\n"
          ]
        },
        {
          "output_type": "stream",
          "name": "stdout",
          "text": [
            "[ft 0] ep 1/3 it 850/5448 loss 0.6740 lr 1.89e-05 elapsed 263.7s\n"
          ]
        },
        {
          "output_type": "stream",
          "name": "stdout",
          "text": [
            "[ft 0] ep 1/3 it 900/5448 loss 0.6731 lr 1.98e-05 elapsed 276.1s\n"
          ]
        },
        {
          "output_type": "stream",
          "name": "stdout",
          "text": [
            "[ft 0] ep 1/3 it 950/5448 loss 0.6726 lr 2.06e-05 elapsed 288.6s\n"
          ]
        },
        {
          "output_type": "stream",
          "name": "stdout",
          "text": [
            "[ft 0] ep 1/3 it 1000/5448 loss 0.6716 lr 2.15e-05 elapsed 301.0s\n"
          ]
        },
        {
          "output_type": "stream",
          "name": "stdout",
          "text": [
            "[ft 0] ep 1/3 it 1050/5448 loss 0.6714 lr 2.22e-05 elapsed 313.5s\n"
          ]
        },
        {
          "output_type": "stream",
          "name": "stdout",
          "text": [
            "[ft 0] ep 1/3 it 1100/5448 loss 0.6716 lr 2.31e-05 elapsed 325.9s\n"
          ]
        },
        {
          "output_type": "stream",
          "name": "stdout",
          "text": [
            "[ft 0] ep 1/3 it 1150/5448 loss 0.6705 lr 2.39e-05 elapsed 338.4s\n"
          ]
        },
        {
          "output_type": "stream",
          "name": "stdout",
          "text": [
            "[ft 0] ep 1/3 it 1200/5448 loss 0.6701 lr 2.48e-05 elapsed 350.8s\n"
          ]
        },
        {
          "output_type": "stream",
          "name": "stdout",
          "text": [
            "[ft 0] ep 1/3 it 1250/5448 loss 0.6702 lr 2.56e-05 elapsed 363.3s\n"
          ]
        },
        {
          "output_type": "stream",
          "name": "stdout",
          "text": [
            "[ft 0] ep 1/3 it 1300/5448 loss 0.6698 lr 2.64e-05 elapsed 375.8s\n"
          ]
        },
        {
          "output_type": "stream",
          "name": "stdout",
          "text": [
            "[ft 0] ep 1/3 it 1350/5448 loss 0.6703 lr 2.72e-05 elapsed 388.2s\n"
          ]
        },
        {
          "output_type": "stream",
          "name": "stdout",
          "text": [
            "[ft 0] ep 1/3 it 1400/5448 loss 0.6700 lr 2.81e-05 elapsed 400.7s\n"
          ]
        },
        {
          "output_type": "stream",
          "name": "stdout",
          "text": [
            "[ft 0] ep 1/3 it 1450/5448 loss 0.6701 lr 2.89e-05 elapsed 413.1s\n"
          ]
        },
        {
          "output_type": "stream",
          "name": "stdout",
          "text": [
            "[ft 0] ep 1/3 it 1500/5448 loss 0.6702 lr 2.97e-05 elapsed 425.6s\n"
          ]
        },
        {
          "output_type": "stream",
          "name": "stdout",
          "text": [
            "[ft 0] ep 1/3 it 1550/5448 loss 0.6699 lr 3.05e-05 elapsed 438.0s\n"
          ]
        },
        {
          "output_type": "stream",
          "name": "stdout",
          "text": [
            "[ft 0] ep 1/3 it 1600/5448 loss 0.6700 lr 3.14e-05 elapsed 450.5s\n"
          ]
        },
        {
          "output_type": "stream",
          "name": "stdout",
          "text": [
            "[ft 0] ep 1/3 it 1650/5448 loss 0.6696 lr 3.22e-05 elapsed 462.9s\n"
          ]
        },
        {
          "output_type": "stream",
          "name": "stdout",
          "text": [
            "[ft 0] ep 1/3 it 1700/5448 loss 0.6698 lr 3.30e-05 elapsed 475.4s\n"
          ]
        },
        {
          "output_type": "stream",
          "name": "stdout",
          "text": [
            "[ft 0] ep 1/3 it 1750/5448 loss 0.6696 lr 3.38e-05 elapsed 487.8s\n"
          ]
        },
        {
          "output_type": "stream",
          "name": "stdout",
          "text": [
            "[ft 0] ep 1/3 it 1800/5448 loss 0.6698 lr 3.47e-05 elapsed 500.3s\n"
          ]
        },
        {
          "output_type": "stream",
          "name": "stdout",
          "text": [
            "[ft 0] ep 1/3 it 1850/5448 loss 0.6698 lr 3.55e-05 elapsed 512.7s\n"
          ]
        },
        {
          "output_type": "stream",
          "name": "stdout",
          "text": [
            "[ft 0] ep 1/3 it 1900/5448 loss 0.6697 lr 3.63e-05 elapsed 525.2s\n"
          ]
        },
        {
          "output_type": "stream",
          "name": "stdout",
          "text": [
            "[ft 0] ep 1/3 it 1950/5448 loss 0.6705 lr 3.71e-05 elapsed 537.7s\n"
          ]
        },
        {
          "output_type": "stream",
          "name": "stdout",
          "text": [
            "[ft 0] ep 1/3 it 2000/5448 loss 0.6704 lr 3.80e-05 elapsed 550.1s\n"
          ]
        },
        {
          "output_type": "stream",
          "name": "stdout",
          "text": [
            "[ft 0] ep 1/3 it 2050/5448 loss 0.6697 lr 3.88e-05 elapsed 562.6s\n"
          ]
        },
        {
          "output_type": "stream",
          "name": "stdout",
          "text": [
            "[ft 0] ep 1/3 it 2100/5448 loss 0.6696 lr 3.96e-05 elapsed 575.0s\n"
          ]
        },
        {
          "output_type": "stream",
          "name": "stdout",
          "text": [
            "[ft 0] ep 1/3 it 2150/5448 loss 0.6696 lr 4.04e-05 elapsed 587.4s\n"
          ]
        },
        {
          "output_type": "stream",
          "name": "stdout",
          "text": [
            "[ft 0] ep 1/3 it 2200/5448 loss 0.6698 lr 4.13e-05 elapsed 599.9s\n"
          ]
        },
        {
          "output_type": "stream",
          "name": "stdout",
          "text": [
            "[ft 0] ep 1/3 it 2250/5448 loss 0.6702 lr 4.21e-05 elapsed 612.4s\n"
          ]
        },
        {
          "output_type": "stream",
          "name": "stdout",
          "text": [
            "[ft 0] ep 1/3 it 2300/5448 loss 0.6699 lr 4.29e-05 elapsed 624.8s\n"
          ]
        },
        {
          "output_type": "stream",
          "name": "stdout",
          "text": [
            "[ft 0] ep 1/3 it 2350/5448 loss 0.6699 lr 4.37e-05 elapsed 637.3s\n"
          ]
        },
        {
          "output_type": "stream",
          "name": "stdout",
          "text": [
            "[ft 0] ep 1/3 it 2400/5448 loss 0.6698 lr 4.46e-05 elapsed 649.7s\n"
          ]
        },
        {
          "output_type": "stream",
          "name": "stdout",
          "text": [
            "[ft 0] ep 1/3 it 2450/5448 loss 0.6695 lr 4.54e-05 elapsed 662.2s\n"
          ]
        },
        {
          "output_type": "stream",
          "name": "stdout",
          "text": [
            "[ft 0] ep 1/3 it 2500/5448 loss 0.6696 lr 4.62e-05 elapsed 674.6s\n"
          ]
        },
        {
          "output_type": "stream",
          "name": "stdout",
          "text": [
            "[ft 0] ep 1/3 it 2550/5448 loss 0.6694 lr 4.70e-05 elapsed 687.1s\n"
          ]
        },
        {
          "output_type": "stream",
          "name": "stdout",
          "text": [
            "[ft 0] ep 1/3 it 2600/5448 loss 0.6692 lr 4.79e-05 elapsed 699.5s\n"
          ]
        },
        {
          "output_type": "stream",
          "name": "stdout",
          "text": [
            "[ft 0] ep 1/3 it 2650/5448 loss 0.6695 lr 4.87e-05 elapsed 711.9s\n"
          ]
        },
        {
          "output_type": "stream",
          "name": "stdout",
          "text": [
            "[ft 0] ep 1/3 it 2700/5448 loss 0.6693 lr 4.95e-05 elapsed 724.4s\n"
          ]
        },
        {
          "output_type": "stream",
          "name": "stdout",
          "text": [
            "[ft 0] ep 1/3 it 2750/5448 loss 0.6692 lr 5.00e-05 elapsed 736.8s\n"
          ]
        },
        {
          "output_type": "stream",
          "name": "stdout",
          "text": [
            "[ft 0] ep 1/3 it 2800/5448 loss 0.6689 lr 5.00e-05 elapsed 749.3s\n"
          ]
        },
        {
          "output_type": "stream",
          "name": "stdout",
          "text": [
            "[ft 0] ep 1/3 it 2850/5448 loss 0.6691 lr 5.00e-05 elapsed 761.7s\n"
          ]
        },
        {
          "output_type": "stream",
          "name": "stdout",
          "text": [
            "[ft 0] ep 1/3 it 2900/5448 loss 0.6688 lr 5.00e-05 elapsed 774.2s\n"
          ]
        },
        {
          "output_type": "stream",
          "name": "stdout",
          "text": [
            "[ft 0] ep 1/3 it 2950/5448 loss 0.6688 lr 5.00e-05 elapsed 786.6s\n"
          ]
        },
        {
          "output_type": "stream",
          "name": "stdout",
          "text": [
            "[ft 0] ep 1/3 it 3000/5448 loss 0.6687 lr 5.00e-05 elapsed 799.1s\n"
          ]
        },
        {
          "output_type": "stream",
          "name": "stdout",
          "text": [
            "[ft 0] ep 1/3 it 3050/5448 loss 0.6686 lr 5.00e-05 elapsed 811.5s\n"
          ]
        },
        {
          "output_type": "stream",
          "name": "stdout",
          "text": [
            "[ft 0] ep 1/3 it 3100/5448 loss 0.6688 lr 4.99e-05 elapsed 824.0s\n"
          ]
        },
        {
          "output_type": "stream",
          "name": "stdout",
          "text": [
            "[ft 0] ep 1/3 it 3150/5448 loss 0.6687 lr 4.99e-05 elapsed 836.4s\n"
          ]
        },
        {
          "output_type": "stream",
          "name": "stdout",
          "text": [
            "[ft 0] ep 1/3 it 3200/5448 loss 0.6684 lr 4.99e-05 elapsed 848.9s\n"
          ]
        },
        {
          "output_type": "stream",
          "name": "stdout",
          "text": [
            "[ft 0] ep 1/3 it 3250/5448 loss 0.6684 lr 4.99e-05 elapsed 861.3s\n"
          ]
        },
        {
          "output_type": "stream",
          "name": "stdout",
          "text": [
            "[ft 0] ep 1/3 it 3300/5448 loss 0.6684 lr 4.99e-05 elapsed 873.8s\n"
          ]
        },
        {
          "output_type": "stream",
          "name": "stdout",
          "text": [
            "[ft 0] ep 1/3 it 3350/5448 loss 0.6684 lr 4.98e-05 elapsed 886.2s\n"
          ]
        },
        {
          "output_type": "stream",
          "name": "stdout",
          "text": [
            "[ft 0] ep 1/3 it 3400/5448 loss 0.6682 lr 4.98e-05 elapsed 898.7s\n"
          ]
        },
        {
          "output_type": "stream",
          "name": "stdout",
          "text": [
            "[ft 0] ep 1/3 it 3450/5448 loss 0.6678 lr 4.98e-05 elapsed 911.1s\n"
          ]
        },
        {
          "output_type": "stream",
          "name": "stdout",
          "text": [
            "[ft 0] ep 1/3 it 3500/5448 loss 0.6678 lr 4.97e-05 elapsed 923.6s\n"
          ]
        },
        {
          "output_type": "stream",
          "name": "stdout",
          "text": [
            "[ft 0] ep 1/3 it 3550/5448 loss 0.6678 lr 4.97e-05 elapsed 936.0s\n"
          ]
        },
        {
          "output_type": "stream",
          "name": "stdout",
          "text": [
            "[ft 0] ep 1/3 it 3600/5448 loss 0.6675 lr 4.97e-05 elapsed 948.5s\n"
          ]
        },
        {
          "output_type": "stream",
          "name": "stdout",
          "text": [
            "[ft 0] ep 1/3 it 3650/5448 loss 0.6672 lr 4.96e-05 elapsed 960.9s\n"
          ]
        },
        {
          "output_type": "stream",
          "name": "stdout",
          "text": [
            "[ft 0] ep 1/3 it 3700/5448 loss 0.6672 lr 4.96e-05 elapsed 973.4s\n"
          ]
        },
        {
          "output_type": "stream",
          "name": "stdout",
          "text": [
            "[ft 0] ep 1/3 it 3750/5448 loss 0.6673 lr 4.95e-05 elapsed 985.8s\n"
          ]
        },
        {
          "output_type": "stream",
          "name": "stdout",
          "text": [
            "[ft 0] ep 1/3 it 3800/5448 loss 0.6672 lr 4.95e-05 elapsed 998.3s\n"
          ]
        },
        {
          "output_type": "stream",
          "name": "stdout",
          "text": [
            "[ft 0] ep 1/3 it 3850/5448 loss 0.6674 lr 4.95e-05 elapsed 1010.7s\n"
          ]
        },
        {
          "output_type": "stream",
          "name": "stdout",
          "text": [
            "[ft 0] ep 1/3 it 3900/5448 loss 0.6671 lr 4.94e-05 elapsed 1023.2s\n"
          ]
        },
        {
          "output_type": "stream",
          "name": "stdout",
          "text": [
            "[ft 0] ep 1/3 it 3950/5448 loss 0.6673 lr 4.93e-05 elapsed 1035.6s\n"
          ]
        },
        {
          "output_type": "stream",
          "name": "stdout",
          "text": [
            "[ft 0] ep 1/3 it 4000/5448 loss 0.6673 lr 4.93e-05 elapsed 1048.1s\n"
          ]
        },
        {
          "output_type": "stream",
          "name": "stdout",
          "text": [
            "[ft 0] ep 1/3 it 4050/5448 loss 0.6673 lr 4.92e-05 elapsed 1060.5s\n"
          ]
        },
        {
          "output_type": "stream",
          "name": "stdout",
          "text": [
            "[ft 0] ep 1/3 it 4100/5448 loss 0.6672 lr 4.92e-05 elapsed 1073.0s\n"
          ]
        },
        {
          "output_type": "stream",
          "name": "stdout",
          "text": [
            "[ft 0] ep 1/3 it 4150/5448 loss 0.6670 lr 4.91e-05 elapsed 1085.4s\n"
          ]
        },
        {
          "output_type": "stream",
          "name": "stdout",
          "text": [
            "[ft 0] ep 1/3 it 4200/5448 loss 0.6667 lr 4.91e-05 elapsed 1097.9s\n"
          ]
        },
        {
          "output_type": "stream",
          "name": "stdout",
          "text": [
            "[ft 0] ep 1/3 it 4250/5448 loss 0.6665 lr 4.90e-05 elapsed 1110.3s\n"
          ]
        },
        {
          "output_type": "stream",
          "name": "stdout",
          "text": [
            "[ft 0] ep 1/3 it 4300/5448 loss 0.6663 lr 4.89e-05 elapsed 1122.8s\n"
          ]
        },
        {
          "output_type": "stream",
          "name": "stdout",
          "text": [
            "[ft 0] ep 1/3 it 4350/5448 loss 0.6661 lr 4.89e-05 elapsed 1135.2s\n"
          ]
        },
        {
          "output_type": "stream",
          "name": "stdout",
          "text": [
            "[ft 0] ep 1/3 it 4400/5448 loss 0.6660 lr 4.88e-05 elapsed 1147.7s\n"
          ]
        },
        {
          "output_type": "stream",
          "name": "stdout",
          "text": [
            "[ft 0] ep 1/3 it 4450/5448 loss 0.6660 lr 4.87e-05 elapsed 1160.1s\n"
          ]
        },
        {
          "output_type": "stream",
          "name": "stdout",
          "text": [
            "[ft 0] ep 1/3 it 4500/5448 loss 0.6655 lr 4.86e-05 elapsed 1172.6s\n"
          ]
        },
        {
          "output_type": "stream",
          "name": "stdout",
          "text": [
            "[ft 0] ep 1/3 it 4550/5448 loss 0.6656 lr 4.86e-05 elapsed 1185.0s\n"
          ]
        },
        {
          "output_type": "stream",
          "name": "stdout",
          "text": [
            "[ft 0] ep 1/3 it 4600/5448 loss 0.6657 lr 4.85e-05 elapsed 1197.5s\n"
          ]
        },
        {
          "output_type": "stream",
          "name": "stdout",
          "text": [
            "[ft 0] ep 1/3 it 4650/5448 loss 0.6656 lr 4.84e-05 elapsed 1209.9s\n"
          ]
        },
        {
          "output_type": "stream",
          "name": "stdout",
          "text": [
            "[ft 0] ep 1/3 it 4700/5448 loss 0.6656 lr 4.83e-05 elapsed 1222.4s\n"
          ]
        },
        {
          "output_type": "stream",
          "name": "stdout",
          "text": [
            "[ft 0] ep 1/3 it 4750/5448 loss 0.6655 lr 4.82e-05 elapsed 1234.9s\n"
          ]
        },
        {
          "output_type": "stream",
          "name": "stdout",
          "text": [
            "[ft 0] ep 1/3 it 4800/5448 loss 0.6655 lr 4.81e-05 elapsed 1247.3s\n"
          ]
        },
        {
          "output_type": "stream",
          "name": "stdout",
          "text": [
            "[ft 0] ep 1/3 it 4850/5448 loss 0.6655 lr 4.81e-05 elapsed 1259.8s\n"
          ]
        },
        {
          "output_type": "stream",
          "name": "stdout",
          "text": [
            "[ft 0] ep 1/3 it 4900/5448 loss 0.6655 lr 4.80e-05 elapsed 1272.2s\n"
          ]
        },
        {
          "output_type": "stream",
          "name": "stdout",
          "text": [
            "[ft 0] ep 1/3 it 4950/5448 loss 0.6655 lr 4.79e-05 elapsed 1284.7s\n"
          ]
        },
        {
          "output_type": "stream",
          "name": "stdout",
          "text": [
            "[ft 0] ep 1/3 it 5000/5448 loss 0.6655 lr 4.78e-05 elapsed 1297.1s\n"
          ]
        },
        {
          "output_type": "stream",
          "name": "stdout",
          "text": [
            "[ft 0] ep 1/3 it 5050/5448 loss 0.6652 lr 4.77e-05 elapsed 1309.6s\n"
          ]
        },
        {
          "output_type": "stream",
          "name": "stdout",
          "text": [
            "[ft 0] ep 1/3 it 5100/5448 loss 0.6651 lr 4.76e-05 elapsed 1322.0s\n"
          ]
        },
        {
          "output_type": "stream",
          "name": "stdout",
          "text": [
            "[ft 0] ep 1/3 it 5150/5448 loss 0.6650 lr 4.75e-05 elapsed 1334.5s\n"
          ]
        },
        {
          "output_type": "stream",
          "name": "stdout",
          "text": [
            "[ft 0] ep 1/3 it 5200/5448 loss 0.6650 lr 4.74e-05 elapsed 1346.9s\n"
          ]
        },
        {
          "output_type": "stream",
          "name": "stdout",
          "text": [
            "[ft 0] ep 1/3 it 5250/5448 loss 0.6649 lr 4.73e-05 elapsed 1359.4s\n"
          ]
        },
        {
          "output_type": "stream",
          "name": "stdout",
          "text": [
            "[ft 0] ep 1/3 it 5300/5448 loss 0.6646 lr 4.72e-05 elapsed 1371.8s\n"
          ]
        },
        {
          "output_type": "stream",
          "name": "stdout",
          "text": [
            "[ft 0] ep 1/3 it 5350/5448 loss 0.6647 lr 4.71e-05 elapsed 1384.3s\n"
          ]
        },
        {
          "output_type": "stream",
          "name": "stdout",
          "text": [
            "[ft 0] ep 1/3 it 5400/5448 loss 0.6646 lr 4.69e-05 elapsed 1396.7s\n"
          ]
        },
        {
          "output_type": "stream",
          "name": "stdout",
          "text": [
            "[ft 0] ep 1 val macro AUC: 0.89593\n[ft 0] saved best to chkpts/effb4ns768_fold0.pt\n[ft 0] ep 1 train_loss 0.6645 time 1663.4s\n"
          ]
        },
        {
          "output_type": "stream",
          "name": "stderr",
          "text": [
            "/tmp/ipykernel_1774/3806705381.py:75: FutureWarning: `torch.cuda.amp.autocast(args...)` is deprecated. Please use `torch.amp.autocast('cuda', args...)` instead.\n  with torch.cuda.amp.autocast(enabled=(DEVICE=='cuda')):\n"
          ]
        },
        {
          "output_type": "stream",
          "name": "stdout",
          "text": [
            "[ft 0] ep 2/3 it 50/5448 loss 0.6427 lr 4.67e-05 elapsed 13.0s\n"
          ]
        },
        {
          "output_type": "stream",
          "name": "stdout",
          "text": [
            "[ft 0] ep 2/3 it 100/5448 loss 0.6443 lr 4.66e-05 elapsed 25.4s\n"
          ]
        },
        {
          "output_type": "stream",
          "name": "stdout",
          "text": [
            "[ft 0] ep 2/3 it 150/5448 loss 0.6453 lr 4.65e-05 elapsed 37.9s\n"
          ]
        },
        {
          "output_type": "stream",
          "name": "stdout",
          "text": [
            "[ft 0] ep 2/3 it 200/5448 loss 0.6437 lr 4.64e-05 elapsed 50.3s\n"
          ]
        },
        {
          "output_type": "stream",
          "name": "stdout",
          "text": [
            "[ft 0] ep 2/3 it 250/5448 loss 0.6407 lr 4.62e-05 elapsed 62.8s\n"
          ]
        },
        {
          "output_type": "stream",
          "name": "stdout",
          "text": [
            "[ft 0] ep 2/3 it 300/5448 loss 0.6413 lr 4.61e-05 elapsed 75.2s\n"
          ]
        },
        {
          "output_type": "stream",
          "name": "stdout",
          "text": [
            "[ft 0] ep 2/3 it 350/5448 loss 0.6420 lr 4.60e-05 elapsed 87.7s\n"
          ]
        },
        {
          "output_type": "stream",
          "name": "stdout",
          "text": [
            "[ft 0] ep 2/3 it 400/5448 loss 0.6398 lr 4.59e-05 elapsed 100.1s\n"
          ]
        },
        {
          "output_type": "stream",
          "name": "stdout",
          "text": [
            "[ft 0] ep 2/3 it 450/5448 loss 0.6409 lr 4.57e-05 elapsed 112.6s\n"
          ]
        },
        {
          "output_type": "stream",
          "name": "stdout",
          "text": [
            "[ft 0] ep 2/3 it 500/5448 loss 0.6405 lr 4.56e-05 elapsed 125.0s\n"
          ]
        },
        {
          "output_type": "stream",
          "name": "stdout",
          "text": [
            "[ft 0] ep 2/3 it 550/5448 loss 0.6395 lr 4.55e-05 elapsed 137.5s\n"
          ]
        },
        {
          "output_type": "stream",
          "name": "stdout",
          "text": [
            "[ft 0] ep 2/3 it 600/5448 loss 0.6396 lr 4.53e-05 elapsed 149.9s\n"
          ]
        },
        {
          "output_type": "stream",
          "name": "stdout",
          "text": [
            "[ft 0] ep 2/3 it 650/5448 loss 0.6396 lr 4.52e-05 elapsed 162.4s\n"
          ]
        },
        {
          "output_type": "stream",
          "name": "stdout",
          "text": [
            "[ft 0] ep 2/3 it 700/5448 loss 0.6403 lr 4.51e-05 elapsed 174.8s\n"
          ]
        },
        {
          "output_type": "stream",
          "name": "stdout",
          "text": [
            "[ft 0] ep 2/3 it 750/5448 loss 0.6402 lr 4.49e-05 elapsed 187.3s\n"
          ]
        },
        {
          "output_type": "stream",
          "name": "stdout",
          "text": [
            "[ft 0] ep 2/3 it 800/5448 loss 0.6401 lr 4.48e-05 elapsed 199.8s\n"
          ]
        },
        {
          "output_type": "stream",
          "name": "stdout",
          "text": [
            "[ft 0] ep 2/3 it 850/5448 loss 0.6397 lr 4.46e-05 elapsed 212.2s\n"
          ]
        },
        {
          "output_type": "stream",
          "name": "stdout",
          "text": [
            "[ft 0] ep 2/3 it 900/5448 loss 0.6392 lr 4.45e-05 elapsed 224.6s\n"
          ]
        },
        {
          "output_type": "stream",
          "name": "stdout",
          "text": [
            "[ft 0] ep 2/3 it 950/5448 loss 0.6396 lr 4.43e-05 elapsed 237.1s\n"
          ]
        },
        {
          "output_type": "stream",
          "name": "stdout",
          "text": [
            "[ft 0] ep 2/3 it 1000/5448 loss 0.6400 lr 4.42e-05 elapsed 249.5s\n"
          ]
        },
        {
          "output_type": "stream",
          "name": "stdout",
          "text": [
            "[ft 0] ep 2/3 it 1050/5448 loss 0.6403 lr 4.40e-05 elapsed 262.0s\n"
          ]
        },
        {
          "output_type": "stream",
          "name": "stdout",
          "text": [
            "[ft 0] ep 2/3 it 1100/5448 loss 0.6394 lr 4.39e-05 elapsed 274.4s\n"
          ]
        },
        {
          "output_type": "stream",
          "name": "stdout",
          "text": [
            "[ft 0] ep 2/3 it 1150/5448 loss 0.6399 lr 4.37e-05 elapsed 286.9s\n"
          ]
        },
        {
          "output_type": "stream",
          "name": "stdout",
          "text": [
            "[ft 0] ep 2/3 it 1200/5448 loss 0.6399 lr 4.36e-05 elapsed 299.4s\n"
          ]
        },
        {
          "output_type": "stream",
          "name": "stdout",
          "text": [
            "[ft 0] ep 2/3 it 1250/5448 loss 0.6400 lr 4.34e-05 elapsed 311.8s\n"
          ]
        },
        {
          "output_type": "stream",
          "name": "stdout",
          "text": [
            "[ft 0] ep 2/3 it 1300/5448 loss 0.6402 lr 4.33e-05 elapsed 324.3s\n"
          ]
        },
        {
          "output_type": "stream",
          "name": "stdout",
          "text": [
            "[ft 0] ep 2/3 it 1350/5448 loss 0.6398 lr 4.31e-05 elapsed 336.7s\n"
          ]
        },
        {
          "output_type": "stream",
          "name": "stdout",
          "text": [
            "[ft 0] ep 2/3 it 1400/5448 loss 0.6400 lr 4.29e-05 elapsed 349.2s\n"
          ]
        },
        {
          "output_type": "stream",
          "name": "stdout",
          "text": [
            "[ft 0] ep 2/3 it 1450/5448 loss 0.6403 lr 4.28e-05 elapsed 361.6s\n"
          ]
        },
        {
          "output_type": "stream",
          "name": "stdout",
          "text": [
            "[ft 0] ep 2/3 it 1500/5448 loss 0.6409 lr 4.26e-05 elapsed 374.1s\n"
          ]
        },
        {
          "output_type": "stream",
          "name": "stdout",
          "text": [
            "[ft 0] ep 2/3 it 1550/5448 loss 0.6409 lr 4.24e-05 elapsed 386.5s\n"
          ]
        },
        {
          "output_type": "stream",
          "name": "stdout",
          "text": [
            "[ft 0] ep 2/3 it 1600/5448 loss 0.6408 lr 4.23e-05 elapsed 399.0s\n"
          ]
        },
        {
          "output_type": "stream",
          "name": "stdout",
          "text": [
            "[ft 0] ep 2/3 it 1650/5448 loss 0.6412 lr 4.21e-05 elapsed 411.4s\n"
          ]
        },
        {
          "output_type": "stream",
          "name": "stdout",
          "text": [
            "[ft 0] ep 2/3 it 1700/5448 loss 0.6414 lr 4.19e-05 elapsed 423.9s\n"
          ]
        },
        {
          "output_type": "stream",
          "name": "stdout",
          "text": [
            "[ft 0] ep 2/3 it 1750/5448 loss 0.6415 lr 4.18e-05 elapsed 436.3s\n"
          ]
        },
        {
          "output_type": "stream",
          "name": "stdout",
          "text": [
            "[ft 0] ep 2/3 it 1800/5448 loss 0.6418 lr 4.16e-05 elapsed 448.8s\n"
          ]
        },
        {
          "output_type": "stream",
          "name": "stdout",
          "text": [
            "[ft 0] ep 2/3 it 1850/5448 loss 0.6416 lr 4.14e-05 elapsed 461.2s\n"
          ]
        },
        {
          "output_type": "stream",
          "name": "stdout",
          "text": [
            "[ft 0] ep 2/3 it 1900/5448 loss 0.6415 lr 4.12e-05 elapsed 473.7s\n"
          ]
        },
        {
          "output_type": "stream",
          "name": "stdout",
          "text": [
            "[ft 0] ep 2/3 it 1950/5448 loss 0.6413 lr 4.11e-05 elapsed 486.1s\n"
          ]
        },
        {
          "output_type": "stream",
          "name": "stdout",
          "text": [
            "[ft 0] ep 2/3 it 2000/5448 loss 0.6410 lr 4.09e-05 elapsed 498.6s\n"
          ]
        },
        {
          "output_type": "stream",
          "name": "stdout",
          "text": [
            "[ft 0] ep 2/3 it 2050/5448 loss 0.6409 lr 4.07e-05 elapsed 511.0s\n"
          ]
        },
        {
          "output_type": "stream",
          "name": "stdout",
          "text": [
            "[ft 0] ep 2/3 it 2100/5448 loss 0.6408 lr 4.05e-05 elapsed 523.5s\n"
          ]
        },
        {
          "output_type": "stream",
          "name": "stdout",
          "text": [
            "[ft 0] ep 2/3 it 2150/5448 loss 0.6410 lr 4.03e-05 elapsed 535.9s\n"
          ]
        },
        {
          "output_type": "stream",
          "name": "stdout",
          "text": [
            "[ft 0] ep 2/3 it 2200/5448 loss 0.6412 lr 4.01e-05 elapsed 548.4s\n"
          ]
        },
        {
          "output_type": "stream",
          "name": "stdout",
          "text": [
            "[ft 0] ep 2/3 it 2250/5448 loss 0.6412 lr 4.00e-05 elapsed 560.8s\n"
          ]
        },
        {
          "output_type": "stream",
          "name": "stdout",
          "text": [
            "[ft 0] ep 2/3 it 2300/5448 loss 0.6414 lr 3.98e-05 elapsed 573.3s\n"
          ]
        },
        {
          "output_type": "stream",
          "name": "stdout",
          "text": [
            "[ft 0] ep 2/3 it 2350/5448 loss 0.6417 lr 3.96e-05 elapsed 585.7s\n"
          ]
        },
        {
          "output_type": "stream",
          "name": "stdout",
          "text": [
            "[ft 0] ep 2/3 it 2400/5448 loss 0.6417 lr 3.94e-05 elapsed 598.2s\n"
          ]
        },
        {
          "output_type": "stream",
          "name": "stdout",
          "text": [
            "[ft 0] ep 2/3 it 2450/5448 loss 0.6415 lr 3.92e-05 elapsed 610.6s\n"
          ]
        },
        {
          "output_type": "stream",
          "name": "stdout",
          "text": [
            "[ft 0] ep 2/3 it 2500/5448 loss 0.6414 lr 3.90e-05 elapsed 623.1s\n"
          ]
        },
        {
          "output_type": "stream",
          "name": "stdout",
          "text": [
            "[ft 0] ep 2/3 it 2550/5448 loss 0.6410 lr 3.88e-05 elapsed 635.5s\n"
          ]
        },
        {
          "output_type": "stream",
          "name": "stdout",
          "text": [
            "[ft 0] ep 2/3 it 2600/5448 loss 0.6411 lr 3.86e-05 elapsed 648.0s\n"
          ]
        },
        {
          "output_type": "stream",
          "name": "stdout",
          "text": [
            "[ft 0] ep 2/3 it 2650/5448 loss 0.6411 lr 3.84e-05 elapsed 660.4s\n"
          ]
        },
        {
          "output_type": "stream",
          "name": "stdout",
          "text": [
            "[ft 0] ep 2/3 it 2700/5448 loss 0.6412 lr 3.82e-05 elapsed 672.9s\n"
          ]
        },
        {
          "output_type": "stream",
          "name": "stdout",
          "text": [
            "[ft 0] ep 2/3 it 2750/5448 loss 0.6411 lr 3.80e-05 elapsed 685.3s\n"
          ]
        },
        {
          "output_type": "stream",
          "name": "stdout",
          "text": [
            "[ft 0] ep 2/3 it 2800/5448 loss 0.6412 lr 3.78e-05 elapsed 698.2s\n"
          ]
        },
        {
          "output_type": "stream",
          "name": "stdout",
          "text": [
            "[ft 0] ep 2/3 it 2850/5448 loss 0.6413 lr 3.76e-05 elapsed 710.6s\n"
          ]
        },
        {
          "output_type": "stream",
          "name": "stdout",
          "text": [
            "[ft 0] ep 2/3 it 2900/5448 loss 0.6412 lr 3.74e-05 elapsed 723.0s\n"
          ]
        },
        {
          "output_type": "stream",
          "name": "stdout",
          "text": [
            "[ft 0] ep 2/3 it 2950/5448 loss 0.6410 lr 3.72e-05 elapsed 735.5s\n"
          ]
        },
        {
          "output_type": "stream",
          "name": "stdout",
          "text": [
            "[ft 0] ep 2/3 it 3000/5448 loss 0.6408 lr 3.70e-05 elapsed 747.9s\n"
          ]
        },
        {
          "output_type": "stream",
          "name": "stdout",
          "text": [
            "[ft 0] ep 2/3 it 3050/5448 loss 0.6410 lr 3.68e-05 elapsed 760.3s\n"
          ]
        },
        {
          "output_type": "stream",
          "name": "stdout",
          "text": [
            "[ft 0] ep 2/3 it 3100/5448 loss 0.6412 lr 3.66e-05 elapsed 772.8s\n"
          ]
        },
        {
          "output_type": "stream",
          "name": "stdout",
          "text": [
            "[ft 0] ep 2/3 it 3150/5448 loss 0.6411 lr 3.64e-05 elapsed 785.2s\n"
          ]
        },
        {
          "output_type": "stream",
          "name": "stdout",
          "text": [
            "[ft 0] ep 2/3 it 3200/5448 loss 0.6414 lr 3.62e-05 elapsed 797.7s\n"
          ]
        },
        {
          "output_type": "stream",
          "name": "stdout",
          "text": [
            "[ft 0] ep 2/3 it 3250/5448 loss 0.6413 lr 3.60e-05 elapsed 810.1s\n"
          ]
        },
        {
          "output_type": "stream",
          "name": "stdout",
          "text": [
            "[ft 0] ep 2/3 it 3300/5448 loss 0.6413 lr 3.58e-05 elapsed 822.5s\n"
          ]
        },
        {
          "output_type": "stream",
          "name": "stdout",
          "text": [
            "[ft 0] ep 2/3 it 3350/5448 loss 0.6413 lr 3.56e-05 elapsed 835.0s\n"
          ]
        },
        {
          "output_type": "stream",
          "name": "stdout",
          "text": [
            "[ft 0] ep 2/3 it 3400/5448 loss 0.6412 lr 3.54e-05 elapsed 847.4s\n"
          ]
        },
        {
          "output_type": "stream",
          "name": "stdout",
          "text": [
            "[ft 0] ep 2/3 it 3450/5448 loss 0.6412 lr 3.52e-05 elapsed 859.9s\n"
          ]
        },
        {
          "output_type": "stream",
          "name": "stdout",
          "text": [
            "[ft 0] ep 2/3 it 3500/5448 loss 0.6410 lr 3.50e-05 elapsed 872.3s\n"
          ]
        },
        {
          "output_type": "stream",
          "name": "stdout",
          "text": [
            "[ft 0] ep 2/3 it 3550/5448 loss 0.6410 lr 3.47e-05 elapsed 884.7s\n"
          ]
        },
        {
          "output_type": "stream",
          "name": "stdout",
          "text": [
            "[ft 0] ep 2/3 it 3600/5448 loss 0.6407 lr 3.45e-05 elapsed 897.2s\n"
          ]
        },
        {
          "output_type": "stream",
          "name": "stdout",
          "text": [
            "[ft 0] ep 2/3 it 3650/5448 loss 0.6407 lr 3.43e-05 elapsed 909.7s\n"
          ]
        },
        {
          "output_type": "stream",
          "name": "stdout",
          "text": [
            "[ft 0] ep 2/3 it 3700/5448 loss 0.6407 lr 3.41e-05 elapsed 922.1s\n"
          ]
        },
        {
          "output_type": "stream",
          "name": "stdout",
          "text": [
            "[ft 0] ep 2/3 it 3750/5448 loss 0.6408 lr 3.39e-05 elapsed 934.6s\n"
          ]
        },
        {
          "output_type": "stream",
          "name": "stdout",
          "text": [
            "[ft 0] ep 2/3 it 3800/5448 loss 0.6407 lr 3.37e-05 elapsed 947.0s\n"
          ]
        },
        {
          "output_type": "stream",
          "name": "stdout",
          "text": [
            "[ft 0] ep 2/3 it 3850/5448 loss 0.6411 lr 3.35e-05 elapsed 959.4s\n"
          ]
        },
        {
          "output_type": "stream",
          "name": "stdout",
          "text": [
            "[ft 0] ep 2/3 it 3900/5448 loss 0.6411 lr 3.32e-05 elapsed 971.9s\n"
          ]
        },
        {
          "output_type": "stream",
          "name": "stdout",
          "text": [
            "[ft 0] ep 2/3 it 3950/5448 loss 0.6413 lr 3.30e-05 elapsed 984.3s\n"
          ]
        },
        {
          "output_type": "stream",
          "name": "stdout",
          "text": [
            "[ft 0] ep 2/3 it 4000/5448 loss 0.6413 lr 3.28e-05 elapsed 996.8s\n"
          ]
        },
        {
          "output_type": "stream",
          "name": "stdout",
          "text": [
            "[ft 0] ep 2/3 it 4050/5448 loss 0.6412 lr 3.26e-05 elapsed 1009.2s\n"
          ]
        },
        {
          "output_type": "stream",
          "name": "stdout",
          "text": [
            "[ft 0] ep 2/3 it 4100/5448 loss 0.6412 lr 3.24e-05 elapsed 1021.7s\n"
          ]
        },
        {
          "output_type": "stream",
          "name": "stdout",
          "text": [
            "[ft 0] ep 2/3 it 4150/5448 loss 0.6411 lr 3.21e-05 elapsed 1034.1s\n"
          ]
        },
        {
          "output_type": "stream",
          "name": "stdout",
          "text": [
            "[ft 0] ep 2/3 it 4200/5448 loss 0.6410 lr 3.19e-05 elapsed 1046.6s\n"
          ]
        },
        {
          "output_type": "stream",
          "name": "stdout",
          "text": [
            "[ft 0] ep 2/3 it 4250/5448 loss 0.6410 lr 3.17e-05 elapsed 1059.0s\n"
          ]
        },
        {
          "output_type": "stream",
          "name": "stdout",
          "text": [
            "[ft 0] ep 2/3 it 4300/5448 loss 0.6410 lr 3.15e-05 elapsed 1071.5s\n"
          ]
        },
        {
          "output_type": "stream",
          "name": "stdout",
          "text": [
            "[ft 0] ep 2/3 it 4350/5448 loss 0.6409 lr 3.13e-05 elapsed 1083.9s\n"
          ]
        },
        {
          "output_type": "stream",
          "name": "stdout",
          "text": [
            "[ft 0] ep 2/3 it 4400/5448 loss 0.6409 lr 3.10e-05 elapsed 1096.4s\n"
          ]
        },
        {
          "output_type": "stream",
          "name": "stdout",
          "text": [
            "[ft 0] ep 2/3 it 4450/5448 loss 0.6409 lr 3.08e-05 elapsed 1108.9s\n"
          ]
        },
        {
          "output_type": "stream",
          "name": "stdout",
          "text": [
            "[ft 0] ep 2/3 it 4500/5448 loss 0.6412 lr 3.06e-05 elapsed 1121.3s\n"
          ]
        },
        {
          "output_type": "stream",
          "name": "stdout",
          "text": [
            "[ft 0] ep 2/3 it 4550/5448 loss 0.6411 lr 3.04e-05 elapsed 1133.8s\n"
          ]
        },
        {
          "output_type": "stream",
          "name": "stdout",
          "text": [
            "[ft 0] ep 2/3 it 4600/5448 loss 0.6411 lr 3.01e-05 elapsed 1146.2s\n"
          ]
        },
        {
          "output_type": "stream",
          "name": "stdout",
          "text": [
            "[ft 0] ep 2/3 it 4650/5448 loss 0.6409 lr 2.99e-05 elapsed 1158.6s\n"
          ]
        },
        {
          "output_type": "stream",
          "name": "stdout",
          "text": [
            "[ft 0] ep 2/3 it 4700/5448 loss 0.6409 lr 2.97e-05 elapsed 1171.1s\n"
          ]
        },
        {
          "output_type": "stream",
          "name": "stdout",
          "text": [
            "[ft 0] ep 2/3 it 4750/5448 loss 0.6409 lr 2.95e-05 elapsed 1183.5s\n"
          ]
        },
        {
          "output_type": "stream",
          "name": "stdout",
          "text": [
            "[ft 0] ep 2/3 it 4800/5448 loss 0.6408 lr 2.92e-05 elapsed 1196.0s\n"
          ]
        },
        {
          "output_type": "stream",
          "name": "stdout",
          "text": [
            "[ft 0] ep 2/3 it 4850/5448 loss 0.6409 lr 2.90e-05 elapsed 1208.4s\n"
          ]
        },
        {
          "output_type": "stream",
          "name": "stdout",
          "text": [
            "[ft 0] ep 2/3 it 4900/5448 loss 0.6408 lr 2.88e-05 elapsed 1220.9s\n"
          ]
        },
        {
          "output_type": "stream",
          "name": "stdout",
          "text": [
            "[ft 0] ep 2/3 it 4950/5448 loss 0.6407 lr 2.85e-05 elapsed 1233.3s\n"
          ]
        },
        {
          "output_type": "stream",
          "name": "stdout",
          "text": [
            "[ft 0] ep 2/3 it 5000/5448 loss 0.6406 lr 2.83e-05 elapsed 1245.8s\n"
          ]
        },
        {
          "output_type": "stream",
          "name": "stdout",
          "text": [
            "[ft 0] ep 2/3 it 5050/5448 loss 0.6405 lr 2.81e-05 elapsed 1258.2s\n"
          ]
        },
        {
          "output_type": "stream",
          "name": "stdout",
          "text": [
            "[ft 0] ep 2/3 it 5100/5448 loss 0.6404 lr 2.79e-05 elapsed 1270.7s\n"
          ]
        },
        {
          "output_type": "stream",
          "name": "stdout",
          "text": [
            "[ft 0] ep 2/3 it 5150/5448 loss 0.6403 lr 2.76e-05 elapsed 1283.1s\n"
          ]
        },
        {
          "output_type": "stream",
          "name": "stdout",
          "text": [
            "[ft 0] ep 2/3 it 5200/5448 loss 0.6405 lr 2.74e-05 elapsed 1295.6s\n"
          ]
        },
        {
          "output_type": "stream",
          "name": "stdout",
          "text": [
            "[ft 0] ep 2/3 it 5250/5448 loss 0.6404 lr 2.72e-05 elapsed 1308.1s\n"
          ]
        },
        {
          "output_type": "stream",
          "name": "stdout",
          "text": [
            "[ft 0] ep 2/3 it 5300/5448 loss 0.6403 lr 2.69e-05 elapsed 1320.5s\n"
          ]
        },
        {
          "output_type": "stream",
          "name": "stdout",
          "text": [
            "[ft 0] ep 2/3 it 5350/5448 loss 0.6403 lr 2.67e-05 elapsed 1332.9s\n"
          ]
        },
        {
          "output_type": "stream",
          "name": "stdout",
          "text": [
            "[ft 0] ep 2/3 it 5400/5448 loss 0.6400 lr 2.65e-05 elapsed 1345.4s\n"
          ]
        },
        {
          "output_type": "stream",
          "name": "stdout",
          "text": [
            "[ft 0] ep 2 val macro AUC: 0.88907\n[ft 0] ep 2 train_loss 0.6400 time 1553.9s\n"
          ]
        },
        {
          "output_type": "stream",
          "name": "stderr",
          "text": [
            "/tmp/ipykernel_1774/3806705381.py:75: FutureWarning: `torch.cuda.amp.autocast(args...)` is deprecated. Please use `torch.amp.autocast('cuda', args...)` instead.\n  with torch.cuda.amp.autocast(enabled=(DEVICE=='cuda')):\n"
          ]
        },
        {
          "output_type": "stream",
          "name": "stdout",
          "text": [
            "[ft 0] ep 3/3 it 50/5448 loss 0.6050 lr 2.60e-05 elapsed 12.9s\n"
          ]
        },
        {
          "output_type": "stream",
          "name": "stdout",
          "text": [
            "[ft 0] ep 3/3 it 100/5448 loss 0.6098 lr 2.58e-05 elapsed 25.3s\n"
          ]
        },
        {
          "output_type": "stream",
          "name": "stdout",
          "text": [
            "[ft 0] ep 3/3 it 150/5448 loss 0.6109 lr 2.56e-05 elapsed 37.8s\n"
          ]
        },
        {
          "output_type": "stream",
          "name": "stdout",
          "text": [
            "[ft 0] ep 3/3 it 200/5448 loss 0.6111 lr 2.54e-05 elapsed 50.2s\n"
          ]
        },
        {
          "output_type": "stream",
          "name": "stdout",
          "text": [
            "[ft 0] ep 3/3 it 250/5448 loss 0.6107 lr 2.51e-05 elapsed 62.6s\n"
          ]
        },
        {
          "output_type": "stream",
          "name": "stdout",
          "text": [
            "[ft 0] ep 3/3 it 300/5448 loss 0.6113 lr 2.49e-05 elapsed 75.1s\n"
          ]
        },
        {
          "output_type": "stream",
          "name": "stdout",
          "text": [
            "[ft 0] ep 3/3 it 350/5448 loss 0.6116 lr 2.47e-05 elapsed 87.5s\n"
          ]
        },
        {
          "output_type": "stream",
          "name": "stdout",
          "text": [
            "[ft 0] ep 3/3 it 400/5448 loss 0.6137 lr 2.44e-05 elapsed 100.0s\n"
          ]
        },
        {
          "output_type": "stream",
          "name": "stdout",
          "text": [
            "[ft 0] ep 3/3 it 450/5448 loss 0.6136 lr 2.42e-05 elapsed 112.4s\n"
          ]
        },
        {
          "output_type": "stream",
          "name": "stdout",
          "text": [
            "[ft 0] ep 3/3 it 500/5448 loss 0.6145 lr 2.40e-05 elapsed 124.8s\n"
          ]
        },
        {
          "output_type": "stream",
          "name": "stdout",
          "text": [
            "[ft 0] ep 3/3 it 550/5448 loss 0.6151 lr 2.38e-05 elapsed 137.3s\n"
          ]
        },
        {
          "output_type": "stream",
          "name": "stdout",
          "text": [
            "[ft 0] ep 3/3 it 600/5448 loss 0.6154 lr 2.35e-05 elapsed 149.7s\n"
          ]
        },
        {
          "output_type": "stream",
          "name": "stdout",
          "text": [
            "[ft 0] ep 3/3 it 650/5448 loss 0.6162 lr 2.33e-05 elapsed 162.1s\n"
          ]
        },
        {
          "output_type": "stream",
          "name": "stdout",
          "text": [
            "[ft 0] ep 3/3 it 700/5448 loss 0.6155 lr 2.31e-05 elapsed 174.6s\n"
          ]
        },
        {
          "output_type": "stream",
          "name": "stdout",
          "text": [
            "[ft 0] ep 3/3 it 750/5448 loss 0.6155 lr 2.29e-05 elapsed 187.0s\n"
          ]
        },
        {
          "output_type": "stream",
          "name": "stdout",
          "text": [
            "[ft 0] ep 3/3 it 800/5448 loss 0.6152 lr 2.26e-05 elapsed 199.4s\n"
          ]
        },
        {
          "output_type": "stream",
          "name": "stdout",
          "text": [
            "[ft 0] ep 3/3 it 850/5448 loss 0.6156 lr 2.24e-05 elapsed 211.9s\n"
          ]
        },
        {
          "output_type": "stream",
          "name": "stdout",
          "text": [
            "[ft 0] ep 3/3 it 900/5448 loss 0.6160 lr 2.22e-05 elapsed 224.3s\n"
          ]
        },
        {
          "output_type": "stream",
          "name": "stdout",
          "text": [
            "[ft 0] ep 3/3 it 950/5448 loss 0.6159 lr 2.20e-05 elapsed 236.7s\n"
          ]
        },
        {
          "output_type": "stream",
          "name": "stdout",
          "text": [
            "[ft 0] ep 3/3 it 1000/5448 loss 0.6162 lr 2.17e-05 elapsed 249.2s\n"
          ]
        },
        {
          "output_type": "stream",
          "name": "stdout",
          "text": [
            "[ft 0] ep 3/3 it 1050/5448 loss 0.6161 lr 2.15e-05 elapsed 261.6s\n"
          ]
        },
        {
          "output_type": "stream",
          "name": "stdout",
          "text": [
            "[ft 0] ep 3/3 it 1100/5448 loss 0.6159 lr 2.13e-05 elapsed 274.0s\n"
          ]
        },
        {
          "output_type": "stream",
          "name": "stdout",
          "text": [
            "[ft 0] ep 3/3 it 1150/5448 loss 0.6162 lr 2.11e-05 elapsed 286.5s\n"
          ]
        },
        {
          "output_type": "stream",
          "name": "stdout",
          "text": [
            "[ft 0] ep 3/3 it 1200/5448 loss 0.6158 lr 2.08e-05 elapsed 298.9s\n"
          ]
        },
        {
          "output_type": "stream",
          "name": "stdout",
          "text": [
            "[ft 0] ep 3/3 it 1250/5448 loss 0.6158 lr 2.06e-05 elapsed 311.4s\n"
          ]
        },
        {
          "output_type": "stream",
          "name": "stdout",
          "text": [
            "[ft 0] ep 3/3 it 1300/5448 loss 0.6156 lr 2.04e-05 elapsed 323.8s\n"
          ]
        },
        {
          "output_type": "stream",
          "name": "stdout",
          "text": [
            "[ft 0] ep 3/3 it 1350/5448 loss 0.6156 lr 2.02e-05 elapsed 336.2s\n"
          ]
        },
        {
          "output_type": "stream",
          "name": "stdout",
          "text": [
            "[ft 0] ep 3/3 it 1400/5448 loss 0.6156 lr 2.00e-05 elapsed 348.7s\n"
          ]
        },
        {
          "output_type": "stream",
          "name": "stdout",
          "text": [
            "[ft 0] ep 3/3 it 1450/5448 loss 0.6156 lr 1.97e-05 elapsed 361.1s\n"
          ]
        },
        {
          "output_type": "stream",
          "name": "stdout",
          "text": [
            "[ft 0] ep 3/3 it 1500/5448 loss 0.6159 lr 1.95e-05 elapsed 373.5s\n"
          ]
        },
        {
          "output_type": "stream",
          "name": "stdout",
          "text": [
            "[ft 0] ep 3/3 it 1550/5448 loss 0.6158 lr 1.93e-05 elapsed 386.0s\n"
          ]
        },
        {
          "output_type": "stream",
          "name": "stdout",
          "text": [
            "[ft 0] ep 3/3 it 1600/5448 loss 0.6155 lr 1.91e-05 elapsed 398.4s\n"
          ]
        },
        {
          "output_type": "stream",
          "name": "stdout",
          "text": [
            "[ft 0] ep 3/3 it 1650/5448 loss 0.6155 lr 1.89e-05 elapsed 410.9s\n"
          ]
        },
        {
          "output_type": "stream",
          "name": "stdout",
          "text": [
            "[ft 0] ep 3/3 it 1700/5448 loss 0.6153 lr 1.86e-05 elapsed 423.3s\n"
          ]
        },
        {
          "output_type": "stream",
          "name": "stdout",
          "text": [
            "[ft 0] ep 3/3 it 1750/5448 loss 0.6154 lr 1.84e-05 elapsed 435.7s\n"
          ]
        },
        {
          "output_type": "stream",
          "name": "stdout",
          "text": [
            "[ft 0] ep 3/3 it 1800/5448 loss 0.6154 lr 1.82e-05 elapsed 448.2s\n"
          ]
        },
        {
          "output_type": "stream",
          "name": "stdout",
          "text": [
            "[ft 0] ep 3/3 it 1850/5448 loss 0.6152 lr 1.80e-05 elapsed 460.6s\n"
          ]
        },
        {
          "output_type": "stream",
          "name": "stdout",
          "text": [
            "[ft 0] ep 3/3 it 1900/5448 loss 0.6152 lr 1.78e-05 elapsed 473.0s\n"
          ]
        },
        {
          "output_type": "stream",
          "name": "stdout",
          "text": [
            "[ft 0] ep 3/3 it 1950/5448 loss 0.6150 lr 1.76e-05 elapsed 485.5s\n"
          ]
        },
        {
          "output_type": "stream",
          "name": "stdout",
          "text": [
            "[ft 0] ep 3/3 it 2000/5448 loss 0.6149 lr 1.74e-05 elapsed 497.9s\n"
          ]
        },
        {
          "output_type": "stream",
          "name": "stdout",
          "text": [
            "[ft 0] ep 3/3 it 2050/5448 loss 0.6149 lr 1.72e-05 elapsed 510.3s\n"
          ]
        },
        {
          "output_type": "stream",
          "name": "stdout",
          "text": [
            "[ft 0] ep 3/3 it 2100/5448 loss 0.6151 lr 1.69e-05 elapsed 522.8s\n"
          ]
        },
        {
          "output_type": "stream",
          "name": "stdout",
          "text": [
            "[ft 0] ep 3/3 it 2150/5448 loss 0.6152 lr 1.67e-05 elapsed 535.2s\n"
          ]
        },
        {
          "output_type": "stream",
          "name": "stdout",
          "text": [
            "[ft 0] ep 3/3 it 2200/5448 loss 0.6152 lr 1.65e-05 elapsed 547.7s\n"
          ]
        },
        {
          "output_type": "stream",
          "name": "stdout",
          "text": [
            "[ft 0] ep 3/3 it 2250/5448 loss 0.6150 lr 1.63e-05 elapsed 560.1s\n"
          ]
        },
        {
          "output_type": "stream",
          "name": "stdout",
          "text": [
            "[ft 0] ep 3/3 it 2300/5448 loss 0.6149 lr 1.61e-05 elapsed 572.5s\n"
          ]
        },
        {
          "output_type": "stream",
          "name": "stdout",
          "text": [
            "[ft 0] ep 3/3 it 2350/5448 loss 0.6148 lr 1.59e-05 elapsed 585.0s\n"
          ]
        },
        {
          "output_type": "stream",
          "name": "stdout",
          "text": [
            "[ft 0] ep 3/3 it 2400/5448 loss 0.6150 lr 1.57e-05 elapsed 597.4s\n"
          ]
        },
        {
          "output_type": "stream",
          "name": "stdout",
          "text": [
            "[ft 0] ep 3/3 it 2450/5448 loss 0.6148 lr 1.55e-05 elapsed 609.8s\n"
          ]
        },
        {
          "output_type": "stream",
          "name": "stdout",
          "text": [
            "[ft 0] ep 3/3 it 2500/5448 loss 0.6149 lr 1.53e-05 elapsed 622.3s\n"
          ]
        },
        {
          "output_type": "stream",
          "name": "stdout",
          "text": [
            "[ft 0] ep 3/3 it 2550/5448 loss 0.6148 lr 1.51e-05 elapsed 634.7s\n"
          ]
        },
        {
          "output_type": "stream",
          "name": "stdout",
          "text": [
            "[ft 0] ep 3/3 it 2600/5448 loss 0.6148 lr 1.49e-05 elapsed 647.1s\n"
          ]
        },
        {
          "output_type": "stream",
          "name": "stdout",
          "text": [
            "[ft 0] ep 3/3 it 2650/5448 loss 0.6146 lr 1.47e-05 elapsed 659.6s\n"
          ]
        },
        {
          "output_type": "stream",
          "name": "stdout",
          "text": [
            "[ft 0] ep 3/3 it 2700/5448 loss 0.6146 lr 1.45e-05 elapsed 672.0s\n"
          ]
        },
        {
          "output_type": "stream",
          "name": "stdout",
          "text": [
            "[ft 0] ep 3/3 it 2750/5448 loss 0.6146 lr 1.43e-05 elapsed 684.4s\n"
          ]
        },
        {
          "output_type": "stream",
          "name": "stdout",
          "text": [
            "[ft 0] ep 3/3 it 2800/5448 loss 0.6145 lr 1.41e-05 elapsed 696.9s\n"
          ]
        },
        {
          "output_type": "stream",
          "name": "stdout",
          "text": [
            "[ft 0] ep 3/3 it 2850/5448 loss 0.6147 lr 1.39e-05 elapsed 709.3s\n"
          ]
        },
        {
          "output_type": "stream",
          "name": "stdout",
          "text": [
            "[ft 0] ep 3/3 it 2900/5448 loss 0.6144 lr 1.37e-05 elapsed 721.8s\n"
          ]
        },
        {
          "output_type": "stream",
          "name": "stdout",
          "text": [
            "[ft 0] ep 3/3 it 2950/5448 loss 0.6145 lr 1.35e-05 elapsed 734.2s\n"
          ]
        },
        {
          "output_type": "stream",
          "name": "stdout",
          "text": [
            "[ft 0] ep 3/3 it 3000/5448 loss 0.6145 lr 1.33e-05 elapsed 746.6s\n"
          ]
        },
        {
          "output_type": "stream",
          "name": "stdout",
          "text": [
            "[ft 0] ep 3/3 it 3050/5448 loss 0.6147 lr 1.31e-05 elapsed 759.1s\n"
          ]
        },
        {
          "output_type": "stream",
          "name": "stdout",
          "text": [
            "[ft 0] ep 3/3 it 3100/5448 loss 0.6146 lr 1.29e-05 elapsed 771.5s\n"
          ]
        },
        {
          "output_type": "stream",
          "name": "stdout",
          "text": [
            "[ft 0] ep 3/3 it 3150/5448 loss 0.6146 lr 1.28e-05 elapsed 783.9s\n"
          ]
        },
        {
          "output_type": "stream",
          "name": "stdout",
          "text": [
            "[ft 0] ep 3/3 it 3200/5448 loss 0.6147 lr 1.26e-05 elapsed 796.4s\n"
          ]
        },
        {
          "output_type": "stream",
          "name": "stdout",
          "text": [
            "[ft 0] ep 3/3 it 3250/5448 loss 0.6147 lr 1.24e-05 elapsed 808.8s\n"
          ]
        },
        {
          "output_type": "stream",
          "name": "stdout",
          "text": [
            "[ft 0] ep 3/3 it 3300/5448 loss 0.6147 lr 1.22e-05 elapsed 821.2s\n"
          ]
        },
        {
          "output_type": "stream",
          "name": "stdout",
          "text": [
            "[ft 0] ep 3/3 it 3350/5448 loss 0.6147 lr 1.20e-05 elapsed 833.7s\n"
          ]
        },
        {
          "output_type": "stream",
          "name": "stdout",
          "text": [
            "[ft 0] ep 3/3 it 3400/5448 loss 0.6148 lr 1.18e-05 elapsed 846.1s\n"
          ]
        },
        {
          "output_type": "stream",
          "name": "stdout",
          "text": [
            "[ft 0] ep 3/3 it 3450/5448 loss 0.6147 lr 1.17e-05 elapsed 858.5s\n"
          ]
        },
        {
          "output_type": "stream",
          "name": "stdout",
          "text": [
            "[ft 0] ep 3/3 it 3500/5448 loss 0.6147 lr 1.15e-05 elapsed 871.0s\n"
          ]
        },
        {
          "output_type": "stream",
          "name": "stdout",
          "text": [
            "[ft 0] ep 3/3 it 3550/5448 loss 0.6149 lr 1.13e-05 elapsed 883.4s\n"
          ]
        },
        {
          "output_type": "stream",
          "name": "stdout",
          "text": [
            "[ft 0] ep 3/3 it 3600/5448 loss 0.6151 lr 1.11e-05 elapsed 895.9s\n"
          ]
        },
        {
          "output_type": "stream",
          "name": "stdout",
          "text": [
            "[ft 0] ep 3/3 it 3650/5448 loss 0.6152 lr 1.09e-05 elapsed 908.3s\n"
          ]
        },
        {
          "output_type": "stream",
          "name": "stdout",
          "text": [
            "[ft 0] ep 3/3 it 3700/5448 loss 0.6152 lr 1.08e-05 elapsed 920.7s\n"
          ]
        },
        {
          "output_type": "stream",
          "name": "stdout",
          "text": [
            "[ft 0] ep 3/3 it 3750/5448 loss 0.6152 lr 1.06e-05 elapsed 933.2s\n"
          ]
        },
        {
          "output_type": "stream",
          "name": "stdout",
          "text": [
            "[ft 0] ep 3/3 it 3800/5448 loss 0.6152 lr 1.04e-05 elapsed 945.6s\n"
          ]
        },
        {
          "output_type": "stream",
          "name": "stdout",
          "text": [
            "[ft 0] ep 3/3 it 3850/5448 loss 0.6153 lr 1.03e-05 elapsed 958.1s\n"
          ]
        },
        {
          "output_type": "stream",
          "name": "stdout",
          "text": [
            "[ft 0] ep 3/3 it 3900/5448 loss 0.6152 lr 1.01e-05 elapsed 970.5s\n"
          ]
        },
        {
          "output_type": "stream",
          "name": "stdout",
          "text": [
            "[ft 0] ep 3/3 it 3950/5448 loss 0.6154 lr 9.92e-06 elapsed 982.9s\n"
          ]
        },
        {
          "output_type": "stream",
          "name": "stdout",
          "text": [
            "[ft 0] ep 3/3 it 4000/5448 loss 0.6155 lr 9.75e-06 elapsed 995.4s\n"
          ]
        },
        {
          "output_type": "stream",
          "name": "stdout",
          "text": [
            "[ft 0] ep 3/3 it 4050/5448 loss 0.6153 lr 9.59e-06 elapsed 1007.8s\n"
          ]
        },
        {
          "output_type": "stream",
          "name": "stdout",
          "text": [
            "[ft 0] ep 3/3 it 4100/5448 loss 0.6155 lr 9.42e-06 elapsed 1020.2s\n"
          ]
        },
        {
          "output_type": "stream",
          "name": "stdout",
          "text": [
            "[ft 0] ep 3/3 it 4150/5448 loss 0.6154 lr 9.27e-06 elapsed 1032.7s\n"
          ]
        },
        {
          "output_type": "stream",
          "name": "stdout",
          "text": [
            "[ft 0] ep 3/3 it 4200/5448 loss 0.6154 lr 9.10e-06 elapsed 1045.1s\n"
          ]
        },
        {
          "output_type": "stream",
          "name": "stdout",
          "text": [
            "[ft 0] ep 3/3 it 4250/5448 loss 0.6154 lr 8.95e-06 elapsed 1057.5s\n"
          ]
        },
        {
          "output_type": "stream",
          "name": "stdout",
          "text": [
            "[ft 0] ep 3/3 it 4300/5448 loss 0.6154 lr 8.79e-06 elapsed 1070.0s\n"
          ]
        },
        {
          "output_type": "stream",
          "name": "stdout",
          "text": [
            "[ft 0] ep 3/3 it 4350/5448 loss 0.6154 lr 8.64e-06 elapsed 1082.4s\n"
          ]
        },
        {
          "output_type": "stream",
          "name": "stdout",
          "text": [
            "[ft 0] ep 3/3 it 4400/5448 loss 0.6154 lr 8.49e-06 elapsed 1094.8s\n"
          ]
        },
        {
          "output_type": "stream",
          "name": "stdout",
          "text": [
            "[ft 0] ep 3/3 it 4450/5448 loss 0.6155 lr 8.34e-06 elapsed 1107.3s\n"
          ]
        },
        {
          "output_type": "stream",
          "name": "stdout",
          "text": [
            "[ft 0] ep 3/3 it 4500/5448 loss 0.6154 lr 8.19e-06 elapsed 1119.7s\n"
          ]
        },
        {
          "output_type": "stream",
          "name": "stdout",
          "text": [
            "[ft 0] ep 3/3 it 4550/5448 loss 0.6153 lr 8.04e-06 elapsed 1132.2s\n"
          ]
        },
        {
          "output_type": "stream",
          "name": "stdout",
          "text": [
            "[ft 0] ep 3/3 it 4600/5448 loss 0.6152 lr 7.89e-06 elapsed 1144.6s\n"
          ]
        },
        {
          "output_type": "stream",
          "name": "stdout",
          "text": [
            "[ft 0] ep 3/3 it 4650/5448 loss 0.6154 lr 7.75e-06 elapsed 1157.0s\n"
          ]
        },
        {
          "output_type": "stream",
          "name": "stdout",
          "text": [
            "[ft 0] ep 3/3 it 4700/5448 loss 0.6154 lr 7.61e-06 elapsed 1169.5s\n"
          ]
        },
        {
          "output_type": "stream",
          "name": "stdout",
          "text": [
            "[ft 0] ep 3/3 it 4750/5448 loss 0.6155 lr 7.47e-06 elapsed 1181.9s\n"
          ]
        },
        {
          "output_type": "stream",
          "name": "stdout",
          "text": [
            "[ft 0] ep 3/3 it 4800/5448 loss 0.6155 lr 7.33e-06 elapsed 1194.4s\n"
          ]
        },
        {
          "output_type": "stream",
          "name": "stdout",
          "text": [
            "[ft 0] ep 3/3 it 4850/5448 loss 0.6153 lr 7.20e-06 elapsed 1206.8s\n"
          ]
        },
        {
          "output_type": "stream",
          "name": "stdout",
          "text": [
            "[ft 0] ep 3/3 it 4900/5448 loss 0.6152 lr 7.06e-06 elapsed 1219.3s\n"
          ]
        },
        {
          "output_type": "stream",
          "name": "stdout",
          "text": [
            "[ft 0] ep 3/3 it 4950/5448 loss 0.6152 lr 6.93e-06 elapsed 1231.7s\n"
          ]
        },
        {
          "output_type": "stream",
          "name": "stdout",
          "text": [
            "[ft 0] ep 3/3 it 5000/5448 loss 0.6151 lr 6.79e-06 elapsed 1244.1s\n"
          ]
        },
        {
          "output_type": "stream",
          "name": "stdout",
          "text": [
            "[ft 0] ep 3/3 it 5050/5448 loss 0.6150 lr 6.67e-06 elapsed 1256.6s\n"
          ]
        },
        {
          "output_type": "stream",
          "name": "stdout",
          "text": [
            "[ft 0] ep 3/3 it 5100/5448 loss 0.6149 lr 6.53e-06 elapsed 1269.0s\n"
          ]
        },
        {
          "output_type": "stream",
          "name": "stdout",
          "text": [
            "[ft 0] ep 3/3 it 5150/5448 loss 0.6150 lr 6.41e-06 elapsed 1281.5s\n"
          ]
        },
        {
          "output_type": "stream",
          "name": "stdout",
          "text": [
            "[ft 0] ep 3/3 it 5200/5448 loss 0.6150 lr 6.28e-06 elapsed 1293.9s\n"
          ]
        },
        {
          "output_type": "stream",
          "name": "stdout",
          "text": [
            "[ft 0] ep 3/3 it 5250/5448 loss 0.6150 lr 6.16e-06 elapsed 1306.3s\n"
          ]
        },
        {
          "output_type": "stream",
          "name": "stdout",
          "text": [
            "[ft 0] ep 3/3 it 5300/5448 loss 0.6150 lr 6.04e-06 elapsed 1318.8s\n"
          ]
        },
        {
          "output_type": "stream",
          "name": "stdout",
          "text": [
            "[ft 0] ep 3/3 it 5350/5448 loss 0.6149 lr 5.92e-06 elapsed 1331.2s\n"
          ]
        },
        {
          "output_type": "stream",
          "name": "stdout",
          "text": [
            "[ft 0] ep 3/3 it 5400/5448 loss 0.6149 lr 5.80e-06 elapsed 1343.7s\n"
          ]
        },
        {
          "output_type": "stream",
          "name": "stdout",
          "text": [
            "[ft 0] ep 3 val macro AUC: 0.87487\n[ft 0] ep 3 train_loss 0.6149 time 1552.0s\n[ft 0] best macro AUC: 0.89593 total 4769.3s\n"
          ]
        },
        {
          "output_type": "stream",
          "name": "stdout",
          "text": [
            "\n[ft] Fold 2 finetune @ 768\n"
          ]
        },
        {
          "output_type": "stream",
          "name": "stderr",
          "text": [
            "/app/.pip-target/albumentations/core/validation.py:114: UserWarning: ShiftScaleRotate is a special case of Affine transform. Please use Affine transform instead.\n  original_init(self, **validated_kwargs)\n/app/.pip-target/timm/models/_factory.py:138: UserWarning: Mapping deprecated model name tf_efficientnet_b4_ns to current tf_efficientnet_b4.ns_jft_in1k.\n  model = create_fn(\n"
          ]
        },
        {
          "output_type": "stream",
          "name": "stderr",
          "text": [
            "/tmp/ipykernel_1774/3806705381.py:61: FutureWarning: `torch.cuda.amp.GradScaler(args...)` is deprecated. Please use `torch.amp.GradScaler('cuda', args...)` instead.\n  scaler = torch.cuda.amp.GradScaler(enabled=(DEVICE=='cuda'))\n"
          ]
        },
        {
          "output_type": "stream",
          "name": "stderr",
          "text": [
            "/tmp/ipykernel_1774/3806705381.py:75: FutureWarning: `torch.cuda.amp.autocast(args...)` is deprecated. Please use `torch.amp.autocast('cuda', args...)` instead.\n  with torch.cuda.amp.autocast(enabled=(DEVICE=='cuda')):\n"
          ]
        },
        {
          "output_type": "stream",
          "name": "stdout",
          "text": [
            "[ft 2] ep 1/3 it 50/5484 loss 0.7278 lr 5.72e-06 elapsed 13.6s\n"
          ]
        },
        {
          "output_type": "stream",
          "name": "stdout",
          "text": [
            "[ft 2] ep 1/3 it 100/5484 loss 0.7154 lr 6.58e-06 elapsed 26.0s\n"
          ]
        },
        {
          "output_type": "stream",
          "name": "stdout",
          "text": [
            "[ft 2] ep 1/3 it 150/5484 loss 0.7052 lr 7.36e-06 elapsed 38.5s\n"
          ]
        },
        {
          "output_type": "stream",
          "name": "stdout",
          "text": [
            "[ft 2] ep 1/3 it 200/5484 loss 0.7035 lr 8.22e-06 elapsed 50.9s\n"
          ]
        },
        {
          "output_type": "stream",
          "name": "stdout",
          "text": [
            "[ft 2] ep 1/3 it 250/5484 loss 0.7017 lr 9.01e-06 elapsed 63.4s\n"
          ]
        },
        {
          "output_type": "stream",
          "name": "stdout",
          "text": [
            "[ft 2] ep 1/3 it 300/5484 loss 0.6986 lr 9.86e-06 elapsed 75.8s\n"
          ]
        },
        {
          "output_type": "stream",
          "name": "stdout",
          "text": [
            "[ft 2] ep 1/3 it 350/5484 loss 0.6954 lr 1.06e-05 elapsed 88.2s\n"
          ]
        },
        {
          "output_type": "stream",
          "name": "stdout",
          "text": [
            "[ft 2] ep 1/3 it 400/5484 loss 0.6941 lr 1.15e-05 elapsed 100.7s\n"
          ]
        },
        {
          "output_type": "stream",
          "name": "stdout",
          "text": [
            "[ft 2] ep 1/3 it 450/5484 loss 0.6932 lr 1.23e-05 elapsed 113.1s\n"
          ]
        },
        {
          "output_type": "stream",
          "name": "stdout",
          "text": [
            "[ft 2] ep 1/3 it 500/5484 loss 0.6942 lr 1.31e-05 elapsed 125.5s\n"
          ]
        },
        {
          "output_type": "stream",
          "name": "stdout",
          "text": [
            "[ft 2] ep 1/3 it 550/5484 loss 0.6934 lr 1.39e-05 elapsed 137.9s\n"
          ]
        },
        {
          "output_type": "stream",
          "name": "stdout",
          "text": [
            "[ft 2] ep 1/3 it 600/5484 loss 0.6945 lr 1.48e-05 elapsed 150.3s\n"
          ]
        },
        {
          "output_type": "stream",
          "name": "stdout",
          "text": [
            "[ft 2] ep 1/3 it 650/5484 loss 0.6943 lr 1.56e-05 elapsed 162.7s\n"
          ]
        },
        {
          "output_type": "stream",
          "name": "stdout",
          "text": [
            "[ft 2] ep 1/3 it 700/5484 loss 0.6937 lr 1.64e-05 elapsed 175.2s\n"
          ]
        },
        {
          "output_type": "stream",
          "name": "stdout",
          "text": [
            "[ft 2] ep 1/3 it 750/5484 loss 0.6934 lr 1.72e-05 elapsed 187.6s\n"
          ]
        },
        {
          "output_type": "stream",
          "name": "stdout",
          "text": [
            "[ft 2] ep 1/3 it 800/5484 loss 0.6926 lr 1.81e-05 elapsed 200.0s\n"
          ]
        },
        {
          "output_type": "stream",
          "name": "stdout",
          "text": [
            "[ft 2] ep 1/3 it 850/5484 loss 0.6919 lr 1.89e-05 elapsed 212.4s\n"
          ]
        },
        {
          "output_type": "stream",
          "name": "stdout",
          "text": [
            "[ft 2] ep 1/3 it 900/5484 loss 0.6935 lr 1.97e-05 elapsed 224.8s\n"
          ]
        },
        {
          "output_type": "stream",
          "name": "stdout",
          "text": [
            "[ft 2] ep 1/3 it 950/5484 loss 0.6934 lr 2.05e-05 elapsed 237.3s\n"
          ]
        },
        {
          "output_type": "stream",
          "name": "stdout",
          "text": [
            "[ft 2] ep 1/3 it 1000/5484 loss 0.6942 lr 2.14e-05 elapsed 249.7s\n"
          ]
        },
        {
          "output_type": "stream",
          "name": "stdout",
          "text": [
            "[ft 2] ep 1/3 it 1050/5484 loss 0.6947 lr 2.21e-05 elapsed 262.1s\n"
          ]
        },
        {
          "output_type": "stream",
          "name": "stdout",
          "text": [
            "[ft 2] ep 1/3 it 1100/5484 loss 0.6944 lr 2.30e-05 elapsed 274.6s\n"
          ]
        },
        {
          "output_type": "stream",
          "name": "stdout",
          "text": [
            "[ft 2] ep 1/3 it 1150/5484 loss 0.6948 lr 2.38e-05 elapsed 287.0s\n"
          ]
        },
        {
          "output_type": "stream",
          "name": "stdout",
          "text": [
            "[ft 2] ep 1/3 it 1200/5484 loss 0.6941 lr 2.46e-05 elapsed 299.4s\n"
          ]
        },
        {
          "output_type": "stream",
          "name": "stdout",
          "text": [
            "[ft 2] ep 1/3 it 1250/5484 loss 0.6939 lr 2.54e-05 elapsed 311.9s\n"
          ]
        },
        {
          "output_type": "stream",
          "name": "stdout",
          "text": [
            "[ft 2] ep 1/3 it 1300/5484 loss 0.6936 lr 2.63e-05 elapsed 324.3s\n"
          ]
        },
        {
          "output_type": "stream",
          "name": "stdout",
          "text": [
            "[ft 2] ep 1/3 it 1350/5484 loss 0.6930 lr 2.71e-05 elapsed 336.8s\n"
          ]
        },
        {
          "output_type": "stream",
          "name": "stdout",
          "text": [
            "[ft 2] ep 1/3 it 1400/5484 loss 0.6935 lr 2.79e-05 elapsed 349.2s\n"
          ]
        },
        {
          "output_type": "stream",
          "name": "stdout",
          "text": [
            "[ft 2] ep 1/3 it 1450/5484 loss 0.6935 lr 2.87e-05 elapsed 361.6s\n"
          ]
        },
        {
          "output_type": "stream",
          "name": "stdout",
          "text": [
            "[ft 2] ep 1/3 it 1500/5484 loss 0.6935 lr 2.96e-05 elapsed 374.1s\n"
          ]
        },
        {
          "output_type": "stream",
          "name": "stdout",
          "text": [
            "[ft 2] ep 1/3 it 1550/5484 loss 0.6935 lr 3.04e-05 elapsed 386.5s\n"
          ]
        },
        {
          "output_type": "stream",
          "name": "stdout",
          "text": [
            "[ft 2] ep 1/3 it 1600/5484 loss 0.6933 lr 3.12e-05 elapsed 398.9s\n"
          ]
        },
        {
          "output_type": "stream",
          "name": "stdout",
          "text": [
            "[ft 2] ep 1/3 it 1650/5484 loss 0.6936 lr 3.20e-05 elapsed 411.4s\n"
          ]
        },
        {
          "output_type": "stream",
          "name": "stdout",
          "text": [
            "[ft 2] ep 1/3 it 1700/5484 loss 0.6936 lr 3.29e-05 elapsed 423.8s\n"
          ]
        },
        {
          "output_type": "stream",
          "name": "stdout",
          "text": [
            "[ft 2] ep 1/3 it 1750/5484 loss 0.6933 lr 3.36e-05 elapsed 436.3s\n"
          ]
        },
        {
          "output_type": "stream",
          "name": "stdout",
          "text": [
            "[ft 2] ep 1/3 it 1800/5484 loss 0.6930 lr 3.45e-05 elapsed 448.7s\n"
          ]
        },
        {
          "output_type": "stream",
          "name": "stdout",
          "text": [
            "[ft 2] ep 1/3 it 1850/5484 loss 0.6927 lr 3.53e-05 elapsed 461.1s\n"
          ]
        },
        {
          "output_type": "stream",
          "name": "stdout",
          "text": [
            "[ft 2] ep 1/3 it 1900/5484 loss 0.6931 lr 3.61e-05 elapsed 473.6s\n"
          ]
        },
        {
          "output_type": "stream",
          "name": "stdout",
          "text": [
            "[ft 2] ep 1/3 it 1950/5484 loss 0.6928 lr 3.69e-05 elapsed 486.0s\n"
          ]
        },
        {
          "output_type": "stream",
          "name": "stdout",
          "text": [
            "[ft 2] ep 1/3 it 2000/5484 loss 0.6932 lr 3.78e-05 elapsed 498.5s\n"
          ]
        },
        {
          "output_type": "stream",
          "name": "stdout",
          "text": [
            "[ft 2] ep 1/3 it 2050/5484 loss 0.6925 lr 3.86e-05 elapsed 510.9s\n"
          ]
        },
        {
          "output_type": "stream",
          "name": "stdout",
          "text": [
            "[ft 2] ep 1/3 it 2100/5484 loss 0.6923 lr 3.94e-05 elapsed 523.3s\n"
          ]
        },
        {
          "output_type": "stream",
          "name": "stdout",
          "text": [
            "[ft 2] ep 1/3 it 2150/5484 loss 0.6923 lr 4.02e-05 elapsed 535.8s\n"
          ]
        },
        {
          "output_type": "stream",
          "name": "stdout",
          "text": [
            "[ft 2] ep 1/3 it 2200/5484 loss 0.6930 lr 4.11e-05 elapsed 548.2s\n"
          ]
        },
        {
          "output_type": "stream",
          "name": "stdout",
          "text": [
            "[ft 2] ep 1/3 it 2250/5484 loss 0.6932 lr 4.19e-05 elapsed 560.7s\n"
          ]
        },
        {
          "output_type": "stream",
          "name": "stdout",
          "text": [
            "[ft 2] ep 1/3 it 2300/5484 loss 0.6925 lr 4.27e-05 elapsed 573.1s\n"
          ]
        },
        {
          "output_type": "stream",
          "name": "stdout",
          "text": [
            "[ft 2] ep 1/3 it 2350/5484 loss 0.6921 lr 4.35e-05 elapsed 585.6s\n"
          ]
        },
        {
          "output_type": "stream",
          "name": "stdout",
          "text": [
            "[ft 2] ep 1/3 it 2400/5484 loss 0.6919 lr 4.44e-05 elapsed 598.0s\n"
          ]
        },
        {
          "output_type": "stream",
          "name": "stdout",
          "text": [
            "[ft 2] ep 1/3 it 2450/5484 loss 0.6922 lr 4.51e-05 elapsed 610.4s\n"
          ]
        },
        {
          "output_type": "stream",
          "name": "stdout",
          "text": [
            "[ft 2] ep 1/3 it 2500/5484 loss 0.6926 lr 4.60e-05 elapsed 622.9s\n"
          ]
        },
        {
          "output_type": "stream",
          "name": "stdout",
          "text": [
            "[ft 2] ep 1/3 it 2550/5484 loss 0.6921 lr 4.68e-05 elapsed 635.3s\n"
          ]
        },
        {
          "output_type": "stream",
          "name": "stdout",
          "text": [
            "[ft 2] ep 1/3 it 2600/5484 loss 0.6925 lr 4.76e-05 elapsed 647.7s\n"
          ]
        },
        {
          "output_type": "stream",
          "name": "stdout",
          "text": [
            "[ft 2] ep 1/3 it 2650/5484 loss 0.6921 lr 4.84e-05 elapsed 660.2s\n"
          ]
        },
        {
          "output_type": "stream",
          "name": "stdout",
          "text": [
            "[ft 2] ep 1/3 it 2700/5484 loss 0.6919 lr 4.93e-05 elapsed 672.6s\n"
          ]
        },
        {
          "output_type": "stream",
          "name": "stdout",
          "text": [
            "[ft 2] ep 1/3 it 2750/5484 loss 0.6919 lr 5.00e-05 elapsed 685.1s\n"
          ]
        },
        {
          "output_type": "stream",
          "name": "stdout",
          "text": [
            "[ft 2] ep 1/3 it 2800/5484 loss 0.6916 lr 5.00e-05 elapsed 697.5s\n"
          ]
        },
        {
          "output_type": "stream",
          "name": "stdout",
          "text": [
            "[ft 2] ep 1/3 it 2850/5484 loss 0.6917 lr 5.00e-05 elapsed 709.9s\n"
          ]
        },
        {
          "output_type": "stream",
          "name": "stdout",
          "text": [
            "[ft 2] ep 1/3 it 2900/5484 loss 0.6918 lr 5.00e-05 elapsed 722.4s\n"
          ]
        },
        {
          "output_type": "stream",
          "name": "stdout",
          "text": [
            "[ft 2] ep 1/3 it 2950/5484 loss 0.6913 lr 5.00e-05 elapsed 734.8s\n"
          ]
        },
        {
          "output_type": "stream",
          "name": "stdout",
          "text": [
            "[ft 2] ep 1/3 it 3000/5484 loss 0.6907 lr 5.00e-05 elapsed 747.3s\n"
          ]
        },
        {
          "output_type": "stream",
          "name": "stdout",
          "text": [
            "[ft 2] ep 1/3 it 3050/5484 loss 0.6908 lr 5.00e-05 elapsed 759.7s\n"
          ]
        },
        {
          "output_type": "stream",
          "name": "stdout",
          "text": [
            "[ft 2] ep 1/3 it 3100/5484 loss 0.6910 lr 4.99e-05 elapsed 772.2s\n"
          ]
        },
        {
          "output_type": "stream",
          "name": "stdout",
          "text": [
            "[ft 2] ep 1/3 it 3150/5484 loss 0.6910 lr 4.99e-05 elapsed 784.6s\n"
          ]
        },
        {
          "output_type": "stream",
          "name": "stdout",
          "text": [
            "[ft 2] ep 1/3 it 3200/5484 loss 0.6911 lr 4.99e-05 elapsed 797.1s\n"
          ]
        },
        {
          "output_type": "stream",
          "name": "stdout",
          "text": [
            "[ft 2] ep 1/3 it 3250/5484 loss 0.6913 lr 4.99e-05 elapsed 809.5s\n"
          ]
        },
        {
          "output_type": "stream",
          "name": "stdout",
          "text": [
            "[ft 2] ep 1/3 it 3300/5484 loss 0.6911 lr 4.99e-05 elapsed 821.9s\n"
          ]
        },
        {
          "output_type": "stream",
          "name": "stdout",
          "text": [
            "[ft 2] ep 1/3 it 3350/5484 loss 0.6912 lr 4.98e-05 elapsed 834.4s\n"
          ]
        },
        {
          "output_type": "stream",
          "name": "stdout",
          "text": [
            "[ft 2] ep 1/3 it 3400/5484 loss 0.6911 lr 4.98e-05 elapsed 846.8s\n"
          ]
        },
        {
          "output_type": "stream",
          "name": "stdout",
          "text": [
            "[ft 2] ep 1/3 it 3450/5484 loss 0.6911 lr 4.98e-05 elapsed 859.3s\n"
          ]
        },
        {
          "output_type": "stream",
          "name": "stdout",
          "text": [
            "[ft 2] ep 1/3 it 3500/5484 loss 0.6910 lr 4.98e-05 elapsed 871.7s\n"
          ]
        },
        {
          "output_type": "stream",
          "name": "stdout",
          "text": [
            "[ft 2] ep 1/3 it 3550/5484 loss 0.6910 lr 4.97e-05 elapsed 884.1s\n"
          ]
        },
        {
          "output_type": "stream",
          "name": "stdout",
          "text": [
            "[ft 2] ep 1/3 it 3600/5484 loss 0.6908 lr 4.97e-05 elapsed 896.6s\n"
          ]
        },
        {
          "output_type": "stream",
          "name": "stdout",
          "text": [
            "[ft 2] ep 1/3 it 3650/5484 loss 0.6908 lr 4.96e-05 elapsed 909.0s\n"
          ]
        },
        {
          "output_type": "stream",
          "name": "stdout",
          "text": [
            "[ft 2] ep 1/3 it 3700/5484 loss 0.6907 lr 4.96e-05 elapsed 921.5s\n"
          ]
        },
        {
          "output_type": "stream",
          "name": "stdout",
          "text": [
            "[ft 2] ep 1/3 it 3750/5484 loss 0.6906 lr 4.96e-05 elapsed 933.9s\n"
          ]
        },
        {
          "output_type": "stream",
          "name": "stdout",
          "text": [
            "[ft 2] ep 1/3 it 3800/5484 loss 0.6904 lr 4.95e-05 elapsed 946.4s\n"
          ]
        },
        {
          "output_type": "stream",
          "name": "stdout",
          "text": [
            "[ft 2] ep 1/3 it 3850/5484 loss 0.6904 lr 4.95e-05 elapsed 958.8s\n"
          ]
        },
        {
          "output_type": "stream",
          "name": "stdout",
          "text": [
            "[ft 2] ep 1/3 it 3900/5484 loss 0.6903 lr 4.94e-05 elapsed 971.2s\n"
          ]
        },
        {
          "output_type": "stream",
          "name": "stdout",
          "text": [
            "[ft 2] ep 1/3 it 3950/5484 loss 0.6901 lr 4.94e-05 elapsed 983.7s\n"
          ]
        },
        {
          "output_type": "stream",
          "name": "stdout",
          "text": [
            "[ft 2] ep 1/3 it 4000/5484 loss 0.6901 lr 4.93e-05 elapsed 996.1s\n"
          ]
        },
        {
          "output_type": "stream",
          "name": "stdout",
          "text": [
            "[ft 2] ep 1/3 it 4050/5484 loss 0.6899 lr 4.93e-05 elapsed 1008.5s\n"
          ]
        },
        {
          "output_type": "stream",
          "name": "stdout",
          "text": [
            "[ft 2] ep 1/3 it 4100/5484 loss 0.6900 lr 4.92e-05 elapsed 1021.0s\n"
          ]
        },
        {
          "output_type": "stream",
          "name": "stdout",
          "text": [
            "[ft 2] ep 1/3 it 4150/5484 loss 0.6902 lr 4.92e-05 elapsed 1033.4s\n"
          ]
        },
        {
          "output_type": "stream",
          "name": "stdout",
          "text": [
            "[ft 2] ep 1/3 it 4200/5484 loss 0.6903 lr 4.91e-05 elapsed 1045.9s\n"
          ]
        },
        {
          "output_type": "stream",
          "name": "stdout",
          "text": [
            "[ft 2] ep 1/3 it 4250/5484 loss 0.6902 lr 4.90e-05 elapsed 1058.3s\n"
          ]
        },
        {
          "output_type": "stream",
          "name": "stdout",
          "text": [
            "[ft 2] ep 1/3 it 4300/5484 loss 0.6903 lr 4.90e-05 elapsed 1070.7s\n"
          ]
        },
        {
          "output_type": "error",
          "ename": "KeyboardInterrupt",
          "evalue": "",
          "traceback": [
            "\u001b[31m---------------------------------------------------------------------------\u001b[39m",
            "\u001b[31mKeyboardInterrupt\u001b[39m                         Traceback (most recent call last)",
            "\u001b[36mCell\u001b[39m\u001b[36m \u001b[39m\u001b[32mIn[20]\u001b[39m\u001b[32m, line 111\u001b[39m\n\u001b[32m    108\u001b[39m     \u001b[38;5;28mprint\u001b[39m(\u001b[33mf\u001b[39m\u001b[33m\"\u001b[39m\u001b[33m[ft \u001b[39m\u001b[38;5;132;01m{\u001b[39;00mfold\u001b[38;5;132;01m}\u001b[39;00m\u001b[33m] best macro AUC: \u001b[39m\u001b[38;5;132;01m{\u001b[39;00mbest_auc\u001b[38;5;132;01m:\u001b[39;00m\u001b[33m.5f\u001b[39m\u001b[38;5;132;01m}\u001b[39;00m\u001b[33m total \u001b[39m\u001b[38;5;132;01m{\u001b[39;00mtime.time()-t_fold\u001b[38;5;132;01m:\u001b[39;00m\u001b[33m.1f\u001b[39m\u001b[38;5;132;01m}\u001b[39;00m\u001b[33ms\u001b[39m\u001b[33m\"\u001b[39m)\n\u001b[32m    110\u001b[39m \u001b[38;5;28;01mfor\u001b[39;00m f \u001b[38;5;129;01min\u001b[39;00m FINETUNE_FOLDS:\n\u001b[32m--> \u001b[39m\u001b[32m111\u001b[39m     \u001b[43mfinetune_fold\u001b[49m\u001b[43m(\u001b[49m\u001b[43mf\u001b[49m\u001b[43m)\u001b[49m\n\u001b[32m    112\u001b[39m \u001b[38;5;28mprint\u001b[39m(\u001b[33m'\u001b[39m\u001b[33m[ft] Done selected folds. Next: infer multi-scale by averaging logits from effb4ns_fold*.pt and effb4ns768_fold*.pt per fold.\u001b[39m\u001b[33m'\u001b[39m)\n",
            "\u001b[36mCell\u001b[39m\u001b[36m \u001b[39m\u001b[32mIn[20]\u001b[39m\u001b[32m, line 78\u001b[39m, in \u001b[36mfinetune_fold\u001b[39m\u001b[34m(fold)\u001b[39m\n\u001b[32m     76\u001b[39m     logits = model(xb)\n\u001b[32m     77\u001b[39m     loss = criterion(logits, yb_s)\n\u001b[32m---> \u001b[39m\u001b[32m78\u001b[39m \u001b[43mscaler\u001b[49m\u001b[43m.\u001b[49m\u001b[43mscale\u001b[49m\u001b[43m(\u001b[49m\u001b[43mloss\u001b[49m\u001b[43m \u001b[49m\u001b[43m/\u001b[49m\u001b[43m \u001b[49m\u001b[43mFT_ACCUM\u001b[49m\u001b[43m)\u001b[49m\u001b[43m.\u001b[49m\u001b[43mbackward\u001b[49m\u001b[43m(\u001b[49m\u001b[43m)\u001b[49m\n\u001b[32m     79\u001b[39m \u001b[38;5;28;01mif\u001b[39;00m (it+\u001b[32m1\u001b[39m) % FT_ACCUM == \u001b[32m0\u001b[39m:\n\u001b[32m     80\u001b[39m     scaler.step(optimizer)\n",
            "\u001b[36mFile \u001b[39m\u001b[32m~/.pip-target/torch/_tensor.py:647\u001b[39m, in \u001b[36mTensor.backward\u001b[39m\u001b[34m(self, gradient, retain_graph, create_graph, inputs)\u001b[39m\n\u001b[32m    637\u001b[39m \u001b[38;5;28;01mif\u001b[39;00m has_torch_function_unary(\u001b[38;5;28mself\u001b[39m):\n\u001b[32m    638\u001b[39m     \u001b[38;5;28;01mreturn\u001b[39;00m handle_torch_function(\n\u001b[32m    639\u001b[39m         Tensor.backward,\n\u001b[32m    640\u001b[39m         (\u001b[38;5;28mself\u001b[39m,),\n\u001b[32m   (...)\u001b[39m\u001b[32m    645\u001b[39m         inputs=inputs,\n\u001b[32m    646\u001b[39m     )\n\u001b[32m--> \u001b[39m\u001b[32m647\u001b[39m \u001b[43mtorch\u001b[49m\u001b[43m.\u001b[49m\u001b[43mautograd\u001b[49m\u001b[43m.\u001b[49m\u001b[43mbackward\u001b[49m\u001b[43m(\u001b[49m\n\u001b[32m    648\u001b[39m \u001b[43m    \u001b[49m\u001b[38;5;28;43mself\u001b[39;49m\u001b[43m,\u001b[49m\u001b[43m \u001b[49m\u001b[43mgradient\u001b[49m\u001b[43m,\u001b[49m\u001b[43m \u001b[49m\u001b[43mretain_graph\u001b[49m\u001b[43m,\u001b[49m\u001b[43m \u001b[49m\u001b[43mcreate_graph\u001b[49m\u001b[43m,\u001b[49m\u001b[43m \u001b[49m\u001b[43minputs\u001b[49m\u001b[43m=\u001b[49m\u001b[43minputs\u001b[49m\n\u001b[32m    649\u001b[39m \u001b[43m\u001b[49m\u001b[43m)\u001b[49m\n",
            "\u001b[36mFile \u001b[39m\u001b[32m~/.pip-target/torch/autograd/__init__.py:354\u001b[39m, in \u001b[36mbackward\u001b[39m\u001b[34m(tensors, grad_tensors, retain_graph, create_graph, grad_variables, inputs)\u001b[39m\n\u001b[32m    349\u001b[39m     retain_graph = create_graph\n\u001b[32m    351\u001b[39m \u001b[38;5;66;03m# The reason we repeat the same comment below is that\u001b[39;00m\n\u001b[32m    352\u001b[39m \u001b[38;5;66;03m# some Python versions print out the first line of a multi-line function\u001b[39;00m\n\u001b[32m    353\u001b[39m \u001b[38;5;66;03m# calls in the traceback and some print out the last line\u001b[39;00m\n\u001b[32m--> \u001b[39m\u001b[32m354\u001b[39m \u001b[43m_engine_run_backward\u001b[49m\u001b[43m(\u001b[49m\n\u001b[32m    355\u001b[39m \u001b[43m    \u001b[49m\u001b[43mtensors\u001b[49m\u001b[43m,\u001b[49m\n\u001b[32m    356\u001b[39m \u001b[43m    \u001b[49m\u001b[43mgrad_tensors_\u001b[49m\u001b[43m,\u001b[49m\n\u001b[32m    357\u001b[39m \u001b[43m    \u001b[49m\u001b[43mretain_graph\u001b[49m\u001b[43m,\u001b[49m\n\u001b[32m    358\u001b[39m \u001b[43m    \u001b[49m\u001b[43mcreate_graph\u001b[49m\u001b[43m,\u001b[49m\n\u001b[32m    359\u001b[39m \u001b[43m    \u001b[49m\u001b[43minputs_tuple\u001b[49m\u001b[43m,\u001b[49m\n\u001b[32m    360\u001b[39m \u001b[43m    \u001b[49m\u001b[43mallow_unreachable\u001b[49m\u001b[43m=\u001b[49m\u001b[38;5;28;43;01mTrue\u001b[39;49;00m\u001b[43m,\u001b[49m\n\u001b[32m    361\u001b[39m \u001b[43m    \u001b[49m\u001b[43maccumulate_grad\u001b[49m\u001b[43m=\u001b[49m\u001b[38;5;28;43;01mTrue\u001b[39;49;00m\u001b[43m,\u001b[49m\n\u001b[32m    362\u001b[39m \u001b[43m\u001b[49m\u001b[43m)\u001b[49m\n",
            "\u001b[36mFile \u001b[39m\u001b[32m~/.pip-target/torch/autograd/graph.py:829\u001b[39m, in \u001b[36m_engine_run_backward\u001b[39m\u001b[34m(t_outputs, *args, **kwargs)\u001b[39m\n\u001b[32m    827\u001b[39m     unregister_hooks = _register_logging_hooks_on_whole_graph(t_outputs)\n\u001b[32m    828\u001b[39m \u001b[38;5;28;01mtry\u001b[39;00m:\n\u001b[32m--> \u001b[39m\u001b[32m829\u001b[39m     \u001b[38;5;28;01mreturn\u001b[39;00m \u001b[43mVariable\u001b[49m\u001b[43m.\u001b[49m\u001b[43m_execution_engine\u001b[49m\u001b[43m.\u001b[49m\u001b[43mrun_backward\u001b[49m\u001b[43m(\u001b[49m\u001b[43m  \u001b[49m\u001b[38;5;66;43;03m# Calls into the C++ engine to run the backward pass\u001b[39;49;00m\n\u001b[32m    830\u001b[39m \u001b[43m        \u001b[49m\u001b[43mt_outputs\u001b[49m\u001b[43m,\u001b[49m\u001b[43m \u001b[49m\u001b[43m*\u001b[49m\u001b[43margs\u001b[49m\u001b[43m,\u001b[49m\u001b[43m \u001b[49m\u001b[43m*\u001b[49m\u001b[43m*\u001b[49m\u001b[43mkwargs\u001b[49m\n\u001b[32m    831\u001b[39m \u001b[43m    \u001b[49m\u001b[43m)\u001b[49m  \u001b[38;5;66;03m# Calls into the C++ engine to run the backward pass\u001b[39;00m\n\u001b[32m    832\u001b[39m \u001b[38;5;28;01mfinally\u001b[39;00m:\n\u001b[32m    833\u001b[39m     \u001b[38;5;28;01mif\u001b[39;00m attach_logging_hooks:\n",
            "\u001b[31mKeyboardInterrupt\u001b[39m: "
          ]
        }
      ]
    },
    {
      "id": "5094c27f-a1c7-4330-bf19-e4be4405fde4",
      "cell_type": "code",
      "metadata": {},
      "source": [
        "# Step 2 prep: 8x TTA (+/-5, +/-10, hflip combos) and multi-scale per-fold inference (b4ns 640/768), b4-only submission\n",
        "import numpy as np, pandas as pd, os, time, torch, cv2\n",
        "from torch.utils.data import DataLoader\n",
        "import albumentations as A\n",
        "from albumentations.pytorch import ToTensorV2\n",
        "\n",
        "def build_tta_list(size: int):\n",
        "    base = [\n",
        "        A.CLAHE(clip_limit=2.0, tile_grid_size=(8,8), p=1.0),\n",
        "        A.LongestMaxSize(max_size=size),\n",
        "        A.PadIfNeeded(min_height=size, min_width=size, border_mode=cv2.BORDER_REFLECT),\n",
        "    ]\n",
        "    norm = [A.Normalize(mean=MEAN, std=STD), ToTensorV2()]\n",
        "    tta = []\n",
        "    # 1) original\n",
        "    tta.append(A.Compose(base + [A.NoOp()] + norm))\n",
        "    # 2) hflip\n",
        "    tta.append(A.Compose(base + [A.HorizontalFlip(p=1.0)] + norm))\n",
        "    # 3) rotate +5\n",
        "    tta.append(A.Compose(base + [A.Affine(rotate=(5,5), translate_percent=(0,0), scale=(1.0,1.0), border_mode=cv2.BORDER_REFLECT, p=1.0)] + norm))\n",
        "    # 4) rotate -5\n",
        "    tta.append(A.Compose(base + [A.Affine(rotate=(-5,-5), translate_percent=(0,0), scale=(1.0,1.0), border_mode=cv2.BORDER_REFLECT, p=1.0)] + norm))\n",
        "    # 5) rotate +10\n",
        "    tta.append(A.Compose(base + [A.Affine(rotate=(10,10), translate_percent=(0,0), scale=(1.0,1.0), border_mode=cv2.BORDER_REFLECT, p=1.0)] + norm))\n",
        "    # 6) rotate -10\n",
        "    tta.append(A.Compose(base + [A.Affine(rotate=(-10,-10), translate_percent=(0,0), scale=(1.0,1.0), border_mode=cv2.BORDER_REFLECT, p=1.0)] + norm))\n",
        "    # 7) hflip + rot +5\n",
        "    tta.append(A.Compose(base + [A.HorizontalFlip(p=1.0), A.Affine(rotate=(5,5), translate_percent=(0,0), scale=(1.0,1.0), border_mode=cv2.BORDER_REFLECT, p=1.0)] + norm))\n",
        "    # 8) hflip + rot -5\n",
        "    tta.append(A.Compose(base + [A.HorizontalFlip(p=1.0), A.Affine(rotate=(-5,-5), translate_percent=(0,0), scale=(1.0,1.0), border_mode=cv2.BORDER_REFLECT, p=1.0)] + norm))\n",
        "    return tta\n",
        "\n",
        "def predict_logits_ckpt_with_tta(ckpt_path: str, size: int, batch_size: int = 16):\n",
        "    tta_list = build_tta_list(size)\n",
        "    test_df = ss_df[[id_col]].copy()\n",
        "    all_tta_logits = []\n",
        "    model = load_model_for_infer(ckpt_path, num_classes=len(target_cols)).to(DEVICE)\n",
        "    model.eval()\n",
        "    with torch.no_grad():\n",
        "        for tta_idx, t_aug in enumerate(tta_list):\n",
        "            test_ds = RanzcrTestDataset(test_df, test_dir, id_col, transforms=t_aug)\n",
        "            test_loader = DataLoader(test_ds, batch_size=batch_size, shuffle=False, num_workers=4, pin_memory=True, persistent_workers=False)\n",
        "            t_logits = []\n",
        "            for xb, _ids in test_loader:\n",
        "                xb = xb.to(DEVICE, non_blocking=True)\n",
        "                with torch.cuda.amp.autocast(enabled=(DEVICE=='cuda')):\n",
        "                    logits = model(xb)\n",
        "                t_logits.append(logits.detach().cpu().numpy())\n",
        "            all_tta_logits.append(np.concatenate(t_logits, axis=0))\n",
        "    return np.mean(all_tta_logits, axis=0)  # [N, C]\n",
        "\n",
        "def predict_b4_multiscale_8xTTA(batch_size: int = 16):\n",
        "    # Per-fold: average logits across available scales {640, 768}, then average across folds\n",
        "    fold_logits = []\n",
        "    for f in range(5):\n",
        "        logits_scales = []\n",
        "        ckpt640 = f\"chkpts/effb4ns_fold{f}.pt\"\n",
        "        if os.path.exists(ckpt640):\n",
        "            print(f\"[ms-tta] fold {f} b4@640\")\n",
        "            logits_scales.append(predict_logits_ckpt_with_tta(ckpt640, size=640, batch_size=batch_size))\n",
        "        ckpt768 = f\"chkpts/effb4ns768_fold{f}.pt\"\n",
        "        if os.path.exists(ckpt768):\n",
        "            print(f\"[ms-tta] fold {f} b4@768\")\n",
        "            logits_scales.append(predict_logits_ckpt_with_tta(ckpt768, size=768, batch_size=batch_size))\n",
        "        if len(logits_scales) == 0:\n",
        "            print(f\"[ms-tta] fold {f} no b4 checkpoints found; skipping\")\n",
        "            continue\n",
        "        fold_logits.append(np.mean(logits_scales, axis=0))\n",
        "    assert len(fold_logits) > 0, 'No b4 multiscale fold logits collected'\n",
        "    return np.mean(fold_logits, axis=0)\n",
        "\n",
        "def predict_b4_640_clahe4_2xTTA(batch_size: int = 16):\n",
        "    # Build 2x TTA with CLAHE clip_limit=4.0 for size=640\n",
        "    test_df = ss_df[[id_col]].copy()\n",
        "    base = [\n",
        "        A.CLAHE(clip_limit=4.0, tile_grid_size=(8,8), p=1.0),\n",
        "        A.LongestMaxSize(max_size=640),\n",
        "        A.PadIfNeeded(min_height=640, min_width=640, border_mode=cv2.BORDER_REFLECT),\n",
        "    ]\n",
        "    norm = [A.Normalize(mean=MEAN, std=STD), ToTensorV2()]\n",
        "    ttas = [\n",
        "        A.Compose(base + [A.NoOp()] + norm),\n",
        "        A.Compose(base + [A.HorizontalFlip(p=1.0)] + norm),\n",
        "    ]\n",
        "    fold_logits = []\n",
        "    for f in range(5):\n",
        "        ckpt = f\"chkpts/effb4ns_fold{f}.pt\"\n",
        "        if not os.path.exists(ckpt):\n",
        "            print(f\"[clahe4] missing {ckpt}, skip\")\n",
        "            continue\n",
        "        print(f\"[clahe4] fold {f} b4@640 clahe4 2xTTA\")\n",
        "        model = load_model_for_infer(ckpt, num_classes=len(target_cols)).to(DEVICE)\n",
        "        model.eval()\n",
        "        tta_logits_fold = []\n",
        "        with torch.no_grad():\n",
        "            for t_aug in ttas:\n",
        "                test_ds = RanzcrTestDataset(test_df, test_dir, id_col, transforms=t_aug)\n",
        "                test_loader = DataLoader(test_ds, batch_size=batch_size, shuffle=False, num_workers=4, pin_memory=True, persistent_workers=False)\n",
        "                buf = []\n",
        "                for xb, _ids in test_loader:\n",
        "                    xb = xb.to(DEVICE, non_blocking=True)\n",
        "                    with torch.cuda.amp.autocast(enabled=(DEVICE=='cuda')):\n",
        "                        logits = model(xb)\n",
        "                    buf.append(logits.detach().cpu().numpy())\n",
        "                tta_logits_fold.append(np.concatenate(buf, axis=0))\n",
        "        fold_logits.append(np.mean(tta_logits_fold, axis=0))\n",
        "    assert len(fold_logits) > 0, 'No fold logits collected for clahe4'\n",
        "    return np.mean(fold_logits, axis=0)\n",
        "\n",
        "def predict_b4_640_reflect101_2xTTA(batch_size: int = 16):\n",
        "    # Build 2x TTA with CLAHE clip_limit=2.0 and border_mode=REFLECT_101 for size=640\n",
        "    test_df = ss_df[[id_col]].copy()\n",
        "    base = [\n",
        "        A.CLAHE(clip_limit=2.0, tile_grid_size=(8,8), p=1.0),\n",
        "        A.LongestMaxSize(max_size=640),\n",
        "        A.PadIfNeeded(min_height=640, min_width=640, border_mode=cv2.BORDER_REFLECT_101),\n",
        "    ]\n",
        "    norm = [A.Normalize(mean=MEAN, std=STD), ToTensorV2()]\n",
        "    ttas = [\n",
        "        A.Compose(base + [A.NoOp()] + norm),\n",
        "        A.Compose(base + [A.HorizontalFlip(p=1.0)] + norm),\n",
        "    ]\n",
        "    fold_logits = []\n",
        "    for f in range(5):\n",
        "        ckpt = f\"chkpts/effb4ns_fold{f}.pt\"\n",
        "        if not os.path.exists(ckpt):\n",
        "            print(f\"[ref101] missing {ckpt}, skip\")\n",
        "            continue\n",
        "        print(f\"[ref101] fold {f} b4@640 REFLECT_101 2xTTA\")\n",
        "        model = load_model_for_infer(ckpt, num_classes=len(target_cols)).to(DEVICE)\n",
        "        model.eval()\n",
        "        tta_logits_fold = []\n",
        "        with torch.no_grad():\n",
        "            for t_aug in ttas:\n",
        "                test_ds = RanzcrTestDataset(test_df, test_dir, id_col, transforms=t_aug)\n",
        "                test_loader = DataLoader(test_ds, batch_size=batch_size, shuffle=False, num_workers=4, pin_memory=True, persistent_workers=False)\n",
        "                buf = []\n",
        "                for xb, _ids in test_loader:\n",
        "                    xb = xb.to(DEVICE, non_blocking=True)\n",
        "                    with torch.cuda.amp.autocast(enabled=(DEVICE=='cuda')):\n",
        "                        logits = model(xb)\n",
        "                    buf.append(logits.detach().cpu().numpy())\n",
        "                tta_logits_fold.append(np.concatenate(buf, axis=0))\n",
        "        fold_logits.append(np.mean(tta_logits_fold, axis=0))\n",
        "    assert len(fold_logits) > 0, 'No fold logits collected for reflect101'\n",
        "    return np.mean(fold_logits, axis=0)\n",
        "\n",
        "def sigmoid_np(x):\n",
        "    return 1.0 / (1.0 + np.exp(-x))\n",
        "\n",
        "def run_b4_ms_8xTTA_submission(batch_size: int = 12):\n",
        "    if DEVICE=='cuda':\n",
        "        torch.cuda.empty_cache()\n",
        "    t0 = time.time()\n",
        "    logits_b4_ms = predict_b4_multiscale_8xTTA(batch_size=batch_size)\n",
        "    np.save('test_logits_b4_ms_8tta.npy', logits_b4_ms)\n",
        "    probs = sigmoid_np(logits_b4_ms)\n",
        "    sub = pd.DataFrame(probs, columns=target_cols)\n",
        "    sub.insert(0, id_col, ss_df[id_col].values)\n",
        "    sub.to_csv('submission_b4_ms_8tta.csv', index=False)\n",
        "    print(f\"[ms-tta] wrote submission_b4_ms_8tta.csv shape {sub.shape} time {round(time.time()-t0,1)}s\")\n",
        "\n",
        "def run_b4_clahe4_2tta_and_ensemble(batch_size: int = 12):\n",
        "    # Run 640@clahe4 2xTTA, then average logits with existing b4_ms_8tta if present; otherwise just write clahe4 probs\n",
        "    if DEVICE=='cuda':\n",
        "        torch.cuda.empty_cache()\n",
        "    t0 = time.time()\n",
        "    logits_clahe4 = predict_b4_640_clahe4_2xTTA(batch_size=batch_size)\n",
        "    np.save('test_logits_b4_640_clahe4_2tta.npy', logits_clahe4)\n",
        "    if os.path.exists('test_logits_b4_ms_8tta.npy'):\n",
        "        logits_ms = np.load('test_logits_b4_ms_8tta.npy')\n",
        "        blend_logits = 0.8 * logits_ms + 0.2 * logits_clahe4\n",
        "        probs = sigmoid_np(blend_logits)\n",
        "        out = 'submission_b4_ms8tta_plus_clahe4.csv'\n",
        "        sub = pd.DataFrame(probs, columns=target_cols)\n",
        "        sub.insert(0, id_col, ss_df[id_col].values)\n",
        "        sub.to_csv(out, index=False)\n",
        "        print(f\"[clahe4] wrote {out} shape {sub.shape} time {round(time.time()-t0,1)}s\")\n",
        "    else:\n",
        "        probs = sigmoid_np(logits_clahe4)\n",
        "        out = 'submission_b4_640_clahe4_2tta.csv'\n",
        "        sub = pd.DataFrame(probs, columns=target_cols)\n",
        "        sub.insert(0, id_col, ss_df[id_col].values)\n",
        "        sub.to_csv(out, index=False)\n",
        "        print(f\"[clahe4] wrote {out} shape {sub.shape} time {round(time.time()-t0,1)}s\")\n",
        "\n",
        "def run_b4_reflect101_2tta_and_ensemble(batch_size: int = 12):\n",
        "    # Run 640@REFLECT_101 2xTTA, then average logits with b4_ms_8tta if present\n",
        "    if DEVICE=='cuda':\n",
        "        torch.cuda.empty_cache()\n",
        "    t0 = time.time()\n",
        "    logits_r101 = predict_b4_640_reflect101_2xTTA(batch_size=batch_size)\n",
        "    np.save('test_logits_b4_640_reflect101_2tta.npy', logits_r101)\n",
        "    if os.path.exists('test_logits_b4_ms_8tta.npy'):\n",
        "        logits_ms = np.load('test_logits_b4_ms_8tta.npy')\n",
        "        blend_logits = 0.85 * logits_ms + 0.15 * logits_r101\n",
        "        probs = sigmoid_np(blend_logits)\n",
        "        out = 'submission_b4_ms8tta_plus_reflect101.csv'\n",
        "        sub = pd.DataFrame(probs, columns=target_cols)\n",
        "        sub.insert(0, id_col, ss_df[id_col].values)\n",
        "        sub.to_csv(out, index=False)\n",
        "        print(f\"[ref101] wrote {out} shape {sub.shape} time {round(time.time()-t0,1)}s\")\n",
        "    else:\n",
        "        probs = sigmoid_np(logits_r101)\n",
        "        out = 'submission_b4_640_reflect101_2tta.csv'\n",
        "        sub = pd.DataFrame(probs, columns=target_cols)\n",
        "        sub.insert(0, id_col, ss_df[id_col].values)\n",
        "        sub.to_csv(out, index=False)\n",
        "        print(f\"[ref101] wrote {out} shape {sub.shape} time {round(time.time()-t0,1)}s\")\n",
        "\n",
        "# After this cell: call run_b4_ms_8xTTA_submission(batch_size=10) in Cell 10; optional: run_b4_clahe4_2tta_and_ensemble(batch_size=12) to blend; or run_b4_reflect101_2tta_and_ensemble(batch_size=12)"
      ],
      "execution_count": 39,
      "outputs": []
    },
    {
      "id": "4b0f123b-1e64-43c0-a3e1-17bf32df5664",
      "cell_type": "code",
      "metadata": {},
      "source": [
        "# Execute b4 640@REFLECT_101 2xTTA and ensemble with existing b4_ms_8tta logits; write final submission.csv\n",
        "import os\n",
        "batch = 12\n",
        "run_b4_reflect101_2tta_and_ensemble(batch_size=batch)\n",
        "out1 = 'submission_b4_ms8tta_plus_reflect101.csv'\n",
        "out2 = 'submission_b4_640_reflect101_2tta.csv'\n",
        "final_out = out1 if os.path.exists(out1) else out2\n",
        "os.replace(final_out, 'submission.csv')\n",
        "print('[final] submission.csv overwritten from', final_out, 'batch=', batch)"
      ],
      "execution_count": null,
      "outputs": [
        {
          "output_type": "stream",
          "name": "stdout",
          "text": [
            "[ref101] fold 0 b4@640 REFLECT_101 2xTTA\n"
          ]
        },
        {
          "output_type": "stream",
          "name": "stderr",
          "text": [
            "/app/.pip-target/timm/models/_factory.py:138: UserWarning: Mapping deprecated model name tf_efficientnet_b4_ns to current tf_efficientnet_b4.ns_jft_in1k.\n  model = create_fn(\n"
          ]
        },
        {
          "output_type": "stream",
          "name": "stderr",
          "text": [
            "/tmp/ipykernel_1774/2360268179.py:140: FutureWarning: `torch.cuda.amp.autocast(args...)` is deprecated. Please use `torch.amp.autocast('cuda', args...)` instead.\n  with torch.cuda.amp.autocast(enabled=(DEVICE=='cuda')):\n"
          ]
        }
      ]
    },
    {
      "id": "47b2a291-8c97-49b0-b85a-090b438a52a4",
      "cell_type": "code",
      "metadata": {},
      "source": [
        "# Quick CPU-only reblend from saved logits: b4-only, per-class b4/b3 weights, and global w=0.9\n",
        "import numpy as np, pandas as pd, os, time\n",
        "from sklearn.metrics import roc_auc_score\n",
        "\n",
        "def sigmoid_np(x):\n",
        "    return 1.0 / (1.0 + np.exp(-x))\n",
        "\n",
        "# Load saved test logits\n",
        "b4_640_path = 'test_logits_b4_640.npy'  # 5-fold b4@640 with hflip TTA\n",
        "b3_512_path = 'test_logits_b3_512.npy'  # 5-fold b3@512 with hflip TTA\n",
        "assert os.path.exists(b4_640_path), f\"Missing {b4_640_path}; run Cell 7 to generate\"\n",
        "logits_b4_test = np.load(b4_640_path)\n",
        "logits_b3_test = np.load(b3_512_path) if os.path.exists(b3_512_path) else None\n",
        "print('[reblend] Loaded test logits shapes:', logits_b4_test.shape, None if logits_b3_test is None else logits_b3_test.shape)\n",
        "\n",
        "# Write b4-only submission\n",
        "probs_b4_only = sigmoid_np(logits_b4_test)\n",
        "sub_b4 = pd.DataFrame(probs_b4_only, columns=target_cols)\n",
        "sub_b4.insert(0, id_col, ss_df[id_col].values)\n",
        "sub_b4.to_csv('submission_b4only_640.csv', index=False)\n",
        "print('[reblend] wrote submission_b4only_640.csv')\n",
        "\n",
        "# If b3 logits exist, compute per-class weights using OOF and generate blended submissions\n",
        "if logits_b3_test is not None and os.path.exists('oof_logits_all.npy') and os.path.exists('oof_logits_b3.npy'):\n",
        "    oof_b4 = np.load('oof_logits_all.npy')  # shape [N, C]\n",
        "    oof_b3 = np.load('oof_logits_b3.npy')   # shape [N, C]\n",
        "    mask_b4 = ~np.isnan(oof_b4).any(axis=1)\n",
        "    mask_b3 = ~np.isnan(oof_b3).any(axis=1)\n",
        "    mask = mask_b4 & mask_b3\n",
        "    y_true = folds_df.loc[mask, target_cols].values.astype(np.float32)\n",
        "    o4 = oof_b4[mask]\n",
        "    o3 = oof_b3[mask]\n",
        "    print('[reblend] OOF covered:', mask.sum(), '/', len(mask))\n",
        "\n",
        "    # Per-class weight search: maximize per-class AUC over w in [0,1]\n",
        "    ws = np.linspace(0.0, 1.0, 21)\n",
        "    best_w_per_class = np.zeros(o4.shape[1], dtype=np.float32)\n",
        "    per_class_auc = []\n",
        "    for j in range(o4.shape[1]):\n",
        "        yj = y_true[:, j]\n",
        "        best_auc = -1.0\n",
        "        best_w = 1.0\n",
        "        for w in ws:\n",
        "            z = w * o4[:, j] + (1.0 - w) * o3[:, j]\n",
        "            try:\n",
        "                auc = roc_auc_score(yj, sigmoid_np(z))\n",
        "            except Exception:\n",
        "                continue\n",
        "            if auc > best_auc:\n",
        "                best_auc = auc\n",
        "                best_w = float(w)\n",
        "        best_w_per_class[j] = best_w\n",
        "        per_class_auc.append(best_auc)\n",
        "    print('[reblend] per-class best weights:', np.round(best_w_per_class, 2).tolist())\n",
        "\n",
        "    # Apply per-class weights to test logits\n",
        "    W = best_w_per_class.reshape(1, -1)\n",
        "    blend_pc_logits = W * logits_b4_test + (1.0 - W) * logits_b3_test\n",
        "    probs_pc = sigmoid_np(blend_pc_logits)\n",
        "    sub_pc = pd.DataFrame(probs_pc, columns=target_cols)\n",
        "    sub_pc.insert(0, id_col, ss_df[id_col].values)\n",
        "    sub_pc.to_csv('submission_blend_perclass.csv', index=False)\n",
        "    print('[reblend] wrote submission_blend_perclass.csv')\n",
        "\n",
        "    # Global heavier b4 weight w=0.9\n",
        "    w = 0.9\n",
        "    blend_w09 = w * logits_b4_test + (1.0 - w) * logits_b3_test\n",
        "    probs_w09 = sigmoid_np(blend_w09)\n",
        "    sub_w09 = pd.DataFrame(probs_w09, columns=target_cols)\n",
        "    sub_w09.insert(0, id_col, ss_df[id_col].values)\n",
        "    sub_w09.to_csv('submission_blend_w09.csv', index=False)\n",
        "    print('[reblend] wrote submission_blend_w09.csv')\n",
        "\n",
        "    # Choose per-class blend as default final submission\n",
        "    os.replace('submission_blend_perclass.csv', 'submission.csv')\n",
        "    print('[reblend] Final submission.csv set to per-class blended b4/b3')\n",
        "else:\n",
        "    # Fallback to b4-only as final submission\n",
        "    os.replace('submission_b4only_640.csv', 'submission.csv')\n",
        "    print('[reblend] Final submission.csv set to b4-only 640')"
      ],
      "execution_count": 23,
      "outputs": [
        {
          "output_type": "stream",
          "name": "stdout",
          "text": [
            "[reblend] Loaded test logits shapes: (3009, 9) (3009, 9)\n[reblend] wrote submission_b4only_640.csv\n[reblend] OOF covered: 27074 / 27074\n"
          ]
        },
        {
          "output_type": "stream",
          "name": "stdout",
          "text": [
            "[reblend] per-class best weights: [1.0, 0.20000000298023224, 0.4000000059604645, 0.25, 0.3499999940395355, 0.20000000298023224, 0.3499999940395355, 0.550000011920929, 0.550000011920929]\n[reblend] wrote submission_blend_perclass.csv\n[reblend] wrote submission_blend_w09.csv\n[reblend] Final submission.csv set to per-class blended b4/b3\n"
          ]
        }
      ]
    },
    {
      "id": "21dd511f-30b6-4d84-84f3-929f0b2e60aa",
      "cell_type": "code",
      "metadata": {},
      "source": [
        "# Fast CPU blend: b4_ms_8tta (strong) + b4_640 (weak) + b3_4tta (very light), then submit\n",
        "import numpy as np, pandas as pd, os\n",
        "\n",
        "def sigmoid_np(x):\n",
        "    return 1.0 / (1.0 + np.exp(-x))\n",
        "\n",
        "paths = {\n",
        "    'b4_ms': 'test_logits_b4_ms_8tta.npy',\n",
        "    'b4_640': 'test_logits_b4_640.npy',\n",
        "    'b3_4tta': 'test_logits_b3_4tta.npy',\n",
        "}\n",
        "for k,p in paths.items():\n",
        "    if not os.path.exists(p):\n",
        "        print(f\"[blend] missing {k}: {p}\")\n",
        "\n",
        "logits_b4_ms = np.load(paths['b4_ms']) if os.path.exists(paths['b4_ms']) else None\n",
        "logits_b4_640 = np.load(paths['b4_640']) if os.path.exists(paths['b4_640']) else None\n",
        "logits_b3_4tta = np.load(paths['b3_4tta']) if os.path.exists(paths['b3_4tta']) else None\n",
        "\n",
        "# Heavily favor b4_ms; lightly mix others if present\n",
        "blend = None\n",
        "w_ms, w_b4, w_b3 = 0.85, 0.10, 0.05\n",
        "if logits_b4_ms is None:\n",
        "    raise FileNotFoundError('test_logits_b4_ms_8tta.npy not found')\n",
        "blend = w_ms * logits_b4_ms\n",
        "if logits_b4_640 is not None:\n",
        "    blend = blend + w_b4 * logits_b4_640\n",
        "if logits_b3_4tta is not None:\n",
        "    blend = blend + w_b3 * logits_b3_4tta\n",
        "\n",
        "probs = sigmoid_np(blend)\n",
        "sub = pd.DataFrame(probs, columns=target_cols)\n",
        "sub.insert(0, id_col, ss_df[id_col].values)\n",
        "sub_path = 'submission_blend_b4ms_b4_b3.csv'\n",
        "sub.to_csv(sub_path, index=False)\n",
        "os.replace(sub_path, 'submission.csv')\n",
        "print('[blend] Wrote submission.csv from weighted blend (b4_ms 0.85, b4_640 0.10, b3 0.05). Shapes:',\n",
        "      None if logits_b4_ms is None else logits_b4_ms.shape,\n",
        "      None if logits_b4_640 is None else logits_b4_640.shape,\n",
        "      None if logits_b3_4tta is None else logits_b3_4tta.shape)"
      ],
      "execution_count": 27,
      "outputs": [
        {
          "output_type": "stream",
          "name": "stdout",
          "text": [
            "[blend] Wrote submission.csv from weighted blend (b4_ms 0.85, b4_640 0.10, b3 0.05). Shapes: (3009, 9) (3009, 9) (3009, 9)\n"
          ]
        }
      ]
    },
    {
      "id": "e024ad55-8c99-4a7d-a375-5e91ced1b200",
      "cell_type": "code",
      "metadata": {},
      "source": [
        "# Rank-average blend of available test logits (b4_ms_8tta, b4_640, b3_4tta) with heavy b4_ms weight\n",
        "import numpy as np, pandas as pd, os\n",
        "\n",
        "def rank_normalize_cols(mat: np.ndarray) -> np.ndarray:\n",
        "    n, c = mat.shape\n",
        "    ranks = np.zeros_like(mat, dtype=np.float32)\n",
        "    for j in range(c):\n",
        "        order = np.argsort(mat[:, j])\n",
        "        ranks[order, j] = np.arange(n, dtype=np.float32)\n",
        "    return ranks / (n - 1 + 1e-9)\n",
        "\n",
        "paths = {\n",
        "    'b4_ms': 'test_logits_b4_ms_8tta.npy',\n",
        "    'b4_640': 'test_logits_b4_640.npy',\n",
        "    'b3_4tta': 'test_logits_b3_4tta.npy',\n",
        "}\n",
        "logits = {}\n",
        "for k, p in paths.items():\n",
        "    if os.path.exists(p):\n",
        "        logits[k] = np.load(p)\n",
        "    else:\n",
        "        print(f\"[rank-blend] missing {k}: {p}\")\n",
        "\n",
        "assert 'b4_ms' in logits, 'Missing b4_ms logits'\n",
        "r_blend = rank_normalize_cols(logits['b4_ms']) * 0.9\n",
        "if 'b4_640' in logits:\n",
        "    r_blend += rank_normalize_cols(logits['b4_640']) * 0.08\n",
        "if 'b3_4tta' in logits:\n",
        "    r_blend += rank_normalize_cols(logits['b3_4tta']) * 0.02\n",
        "\n",
        "# r_blend is already in [0,1]\n",
        "sub = pd.DataFrame(r_blend, columns=target_cols)\n",
        "sub.insert(0, id_col, ss_df[id_col].values)\n",
        "sub.to_csv('submission_rank_blend.csv', index=False)\n",
        "os.replace('submission_rank_blend.csv', 'submission.csv')\n",
        "print('[rank-blend] Wrote submission.csv (rank-avg) shapes:',\n",
        "      None if 'b4_ms' not in logits else logits['b4_ms'].shape,\n",
        "      None if 'b4_640' not in logits else logits['b4_640'].shape,\n",
        "      None if 'b3_4tta' not in logits else logits['b3_4tta'].shape)"
      ],
      "execution_count": 28,
      "outputs": [
        {
          "output_type": "stream",
          "name": "stdout",
          "text": [
            "[rank-blend] Wrote submission.csv (rank-avg) shapes: (3009, 9) (3009, 9) (3009, 9)\n"
          ]
        }
      ]
    },
    {
      "id": "700a1d30-09ff-4b2a-842f-eac3b92bc78c",
      "cell_type": "code",
      "metadata": {},
      "source": [
        "# Write submission from CLAHE4-only 640 2xTTA logits and set as final\n",
        "import numpy as np, pandas as pd, os\n",
        "path = 'test_logits_b4_640_clahe4_2tta.npy'\n",
        "assert os.path.exists(path), f\"Missing {path}; run Cell 10 CLAHE4 step first\"\n",
        "logits = np.load(path)\n",
        "probs = 1.0 / (1.0 + np.exp(-logits))\n",
        "sub = pd.DataFrame(probs, columns=target_cols)\n",
        "sub.insert(0, id_col, ss_df[id_col].values)\n",
        "sub.to_csv('submission_b4_640_clahe4_only.csv', index=False)\n",
        "os.replace('submission_b4_640_clahe4_only.csv', 'submission.csv')\n",
        "print('[final-alt] submission.csv written from CLAHE4-only 640 2xTTA logits')"
      ],
      "execution_count": 32,
      "outputs": [
        {
          "output_type": "stream",
          "name": "stdout",
          "text": [
            "[final-alt] submission.csv written from CLAHE4-only 640 2xTTA logits\n"
          ]
        }
      ]
    },
    {
      "id": "7a0768a9-5eb5-4157-a4c2-6fbfe57e201c",
      "cell_type": "code",
      "metadata": {},
      "source": [
        "# Per-class OOF-tuned blend: apply weights learned on (b4@640 vs b3@512) to test (b4_ms_8tta vs b3_4tta)\n",
        "import numpy as np, pandas as pd, os\n",
        "from sklearn.metrics import roc_auc_score\n",
        "\n",
        "def sigmoid_np(x):\n",
        "    return 1.0 / (1.0 + np.exp(-x))\n",
        "\n",
        "# Load OOF logits for weight tuning (b4@640 and b3@512)\n",
        "oof_b4_path = 'oof_logits_all.npy'\n",
        "oof_b3_path = 'oof_logits_b3.npy'\n",
        "assert os.path.exists(oof_b4_path) and os.path.exists(oof_b3_path), 'Missing OOF logits files'\n",
        "o4 = np.load(oof_b4_path)\n",
        "o3 = np.load(oof_b3_path)\n",
        "mask = (~np.isnan(o4).any(axis=1)) & (~np.isnan(o3).any(axis=1))\n",
        "y_true = folds_df.loc[mask, target_cols].values.astype(np.float32)\n",
        "o4m = o4[mask]\n",
        "o3m = o3[mask]\n",
        "\n",
        "# Line search per class for w in [0,1]\n",
        "ws = np.linspace(0.0, 1.0, 21)\n",
        "best_w = np.ones(o4m.shape[1], dtype=np.float32)\n",
        "for j in range(o4m.shape[1]):\n",
        "    yj = y_true[:, j]\n",
        "    best_auc, bw = -1.0, 1.0\n",
        "    for w in ws:\n",
        "        z = w * o4m[:, j] + (1.0 - w) * o3m[:, j]\n",
        "        try:\n",
        "            auc = roc_auc_score(yj, sigmoid_np(z))\n",
        "        except Exception:\n",
        "            continue\n",
        "        if auc > best_auc:\n",
        "            best_auc, bw = auc, float(w)\n",
        "    best_w[j] = bw\n",
        "print('[pc-blend] per-class best w from OOF (b4@640 vs b3@512):', np.round(best_w, 2).tolist())\n",
        "\n",
        "# Load test logits for b4_ms_8tta (strong) and b3_4tta (diversity); apply per-class weights\n",
        "b4_ms_path = 'test_logits_b4_ms_8tta.npy'\n",
        "b3_4t_path = 'test_logits_b3_4tta.npy'\n",
        "assert os.path.exists(b4_ms_path), 'Missing test logits: b4_ms_8tta'\n",
        "logits_ms = np.load(b4_ms_path)\n",
        "logits_b3 = np.load(b3_4t_path) if os.path.exists(b3_4t_path) else None\n",
        "if logits_b3 is None:\n",
        "    print('[pc-blend] Missing b3 test logits; falling back to b4_ms only')\n",
        "    probs = sigmoid_np(logits_ms)\n",
        "else:\n",
        "    W = best_w.reshape(1, -1)\n",
        "    logits_blend = W * logits_ms + (1.0 - W) * logits_b3\n",
        "    probs = sigmoid_np(logits_blend)\n",
        "\n",
        "sub = pd.DataFrame(probs, columns=target_cols)\n",
        "sub.insert(0, id_col, ss_df[id_col].values)\n",
        "sub.to_csv('submission_b4ms_b3_perclass.csv', index=False)\n",
        "os.replace('submission_b4ms_b3_perclass.csv', 'submission.csv')\n",
        "print('[pc-blend] Wrote submission.csv using per-class OOF-tuned weights between b4_ms_8tta and b3_4tta')"
      ],
      "execution_count": 33,
      "outputs": [
        {
          "output_type": "stream",
          "name": "stdout",
          "text": [
            "[pc-blend] per-class best w from OOF (b4@640 vs b3@512): [1.0, 0.20000000298023224, 0.4000000059604645, 0.25, 0.3499999940395355, 0.20000000298023224, 0.3499999940395355, 0.550000011920929, 0.550000011920929]\n[pc-blend] Wrote submission.csv using per-class OOF-tuned weights between b4_ms_8tta and b3_4tta\n"
          ]
        }
      ]
    },
    {
      "id": "8e9a6ce2-8a79-40ce-8c0d-9a358b4e9442",
      "cell_type": "code",
      "metadata": {},
      "source": [
        "# Set submission.csv to strongest available candidate by priority\n",
        "import os, shutil\n",
        "candidates = [\n",
        "    'submission_b4_ms8tta_plus_clahe4.csv',\n",
        "    'submission_b4_ms_8tta.csv',\n",
        "    'submission_blend_b4ms_b4_b3.csv',\n",
        "    'submission_rank_blend.csv',\n",
        "    'submission_b4only_640.csv'\n",
        "]\n",
        "chosen = None\n",
        "for p in candidates:\n",
        "    if os.path.exists(p):\n",
        "        chosen = p\n",
        "        break\n",
        "assert chosen is not None, 'No candidate submission file found'\n",
        "shutil.copy(chosen, 'submission.csv')\n",
        "print('[final-pick] submission.csv overwritten from', chosen)"
      ],
      "execution_count": 35,
      "outputs": [
        {
          "output_type": "stream",
          "name": "stdout",
          "text": [
            "[final-pick] submission.csv overwritten from submission_b4only_640.csv\n"
          ]
        }
      ]
    },
    {
      "id": "eb0c6e6a-7ed5-4962-b891-52d6eaf039af",
      "cell_type": "code",
      "metadata": {},
      "source": [
        "# Recreate b4_ms8tta_plus_clahe4 submission from saved logits and set as final\n",
        "import numpy as np, pandas as pd, os\n",
        "def sigmoid_np(x):\n",
        "    return 1.0 / (1.0 + np.exp(-x))\n",
        "ms_path = 'test_logits_b4_ms_8tta.npy'\n",
        "clahe4_path = 'test_logits_b4_640_clahe4_2tta.npy'\n",
        "assert os.path.exists(ms_path), 'Missing test_logits_b4_ms_8tta.npy'\n",
        "assert os.path.exists(clahe4_path), 'Missing test_logits_b4_640_clahe4_2tta.npy'\n",
        "logits_ms = np.load(ms_path)\n",
        "logits_c4 = np.load(clahe4_path)\n",
        "blend_logits = 0.8 * logits_ms + 0.2 * logits_c4\n",
        "probs = sigmoid_np(blend_logits)\n",
        "sub = pd.DataFrame(probs, columns=target_cols)\n",
        "sub.insert(0, id_col, ss_df[id_col].values)\n",
        "out_path = 'submission_b4_ms8tta_plus_clahe4.csv'\n",
        "sub.to_csv(out_path, index=False)\n",
        "os.replace(out_path, 'submission.csv')\n",
        "print('[recreate] submission.csv written from 0.8*ms8tta + 0.2*clahe4')"
      ],
      "execution_count": 36,
      "outputs": [
        {
          "output_type": "stream",
          "name": "stdout",
          "text": [
            "[recreate] submission.csv written from 0.8*ms8tta + 0.2*clahe4\n"
          ]
        }
      ]
    }
  ],
  "metadata": {
    "kernelspec": {
      "display_name": "Python 3",
      "language": "python",
      "name": "python3"
    },
    "language_info": {
      "name": "python",
      "version": "3.11.0rc1"
    }
  },
  "nbformat": 4,
  "nbformat_minor": 5
}