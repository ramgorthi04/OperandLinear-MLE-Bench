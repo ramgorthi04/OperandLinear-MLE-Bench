{
  "cells": [
    {
      "id": "ee68b838-7a9a-4da6-ada6-69ae4448eefc",
      "cell_type": "code",
      "metadata": {},
      "source": [
        "import torch, timm, os\n",
        "import pandas as pd\n",
        "import numpy as np\n",
        "from torch.utils.data import Dataset, DataLoader\n",
        "import albumentations as A\n",
        "from albumentations.pytorch import ToTensorV2\n",
        "from tqdm import tqdm\n",
        "from scipy.special import expit as sigmoid\n",
        "import joblib\n",
        "from scipy.optimize import minimize_scalar\n",
        "from itertools import product\n",
        "from sklearn.metrics import log_loss\n",
        "\n",
        "# Device\n",
        "device = torch.device('cuda' if torch.cuda.is_available() else 'cpu')\n",
        "print(f'Using device: {device}')\n",
        "\n",
        "# Load holdout data\n",
        "holdout = pd.read_csv('data/holdout.csv')\n",
        "label_cols = ['C1','C2','C3','C4','C5','C6','C7']\n",
        "y_holdout = holdout[label_cols].values.astype(float)\n",
        "y_overall_holdout = y_holdout.max(axis=1).astype(int)\n",
        "y8_holdout = np.hstack([y_holdout, y_overall_holdout[:,None]])\n",
        "print(f'Holdout size: {len(holdout)}')\n",
        "\n",
        "# Dataset for holdout (load from train mips dir)\n",
        "class HoldoutDataset(Dataset):\n",
        "    def __init__(self, df, mip_dir, transform):\n",
        "        self.df = df.reset_index(drop=True)\n",
        "        self.mip_dir = mip_dir\n",
        "        self.transform = transform\n",
        "    def __len__(self): return len(self.df)\n",
        "    def __getitem__(self, idx):\n",
        "        uid = self.df.iloc[idx]['StudyInstanceUID']\n",
        "        mip = np.load(os.path.join(self.mip_dir, f'{uid}.npy')).astype(np.float32)\n",
        "        img = np.transpose(mip, (1,2,0))\n",
        "        img = self.transform(image=img)['image']\n",
        "        return uid, img\n",
        "\n",
        "holdout_transform = A.Compose([A.Resize(384,384), A.Normalize(mean=0.5, std=0.5), ToTensorV2()])\n",
        "holdout_ds = HoldoutDataset(holdout, 'data/mips/train', holdout_transform)\n",
        "holdout_loader = DataLoader(holdout_ds, batch_size=1, shuffle=False, num_workers=4, pin_memory=True)\n",
        "\n",
        "# Model builders from 03_inference_tta\n",
        "def build_convnext_v1():\n",
        "    return timm.create_model('convnext_tiny', pretrained=False, num_classes=7, in_chans=3,\n",
        "                             drop_rate=0.3, drop_path_rate=0.1).to(device).eval()\n",
        "\n",
        "def build_convnext_v2():\n",
        "    return timm.create_model('convnext_tiny', pretrained=False, num_classes=7, in_chans=3,\n",
        "                             drop_rate=0.4, drop_path_rate=0.2).to(device).eval()\n",
        "\n",
        "def build_regnet():\n",
        "    return timm.create_model('regnety_004', pretrained=False, num_classes=7, in_chans=3,\n",
        "                             drop_rate=0.4, drop_path_rate=0.2).to(device).eval()\n",
        "\n",
        "# Predict function adapted for holdout\n",
        "def predict_backbone_holdout(ckpt_pattern, build_fn):\n",
        "    all_logits = []\n",
        "    N_FOLDS = 5\n",
        "    for f in range(1, N_FOLDS+1):\n",
        "        ckpt = ckpt_pattern.format(f)\n",
        "        if not os.path.exists(ckpt):\n",
        "            print(f'Skip missing {ckpt}'); continue\n",
        "        model = build_fn()\n",
        "        sd = torch.load(ckpt, map_location='cpu', weights_only=True)\n",
        "        model.load_state_dict(sd, strict=True)\n",
        "        fold_logits = []\n",
        "        with torch.no_grad():\n",
        "            for uids, images in tqdm(holdout_loader, desc=f'{ckpt_pattern} F{f} holdout'):\n",
        "                images = images.to(device)\n",
        "                logits = model(images)\n",
        "                logits_f = model(torch.flip(images, dims=[3]))  # HFlip TTA\n",
        "                logits = 0.5 * (logits + logits_f)\n",
        "                fold_logits.append(logits.cpu().numpy())\n",
        "        all_logits.append(np.concatenate(fold_logits, axis=0))\n",
        "    if len(all_logits) == 0:\n",
        "        raise RuntimeError(f'No checkpoints for {ckpt_pattern}')\n",
        "    return np.mean(np.stack(all_logits, 0), 0)\n",
        "\n",
        "# Compute 3-way logits on holdout\n",
        "print('Computing 3-way logits on holdout...')\n",
        "logits_v1 = predict_backbone_holdout('fold_{}_convnext.pth', build_convnext_v1)\n",
        "logits_v2 = predict_backbone_holdout('fold_{}_convnext_v2.pth', build_convnext_v2)\n",
        "logits_reg = predict_backbone_holdout('fold_{}_regnet.pth', build_regnet)\n",
        "\n",
        "# Load artifacts\n",
        "W = np.load('weights_threeway_tta.npy')\n",
        "T7 = np.load('temperatures_weighted_tta.npy')\n",
        "rule = open('overall_rule_tta.txt').read().strip()\n",
        "lr = joblib.load('overall_regressor_tta.pkl')\n",
        "alpha = float(np.load('overall_lr_alpha_tta.npy')[0])\n",
        "\n",
        "# Blend\n",
        "stack = np.stack([logits_v1, logits_v2, logits_reg], axis=2)\n",
        "X_holdout = np.sum(stack * W[None,:,:], axis=2)\n",
        "p7_uncal = sigmoid(X_holdout)\n",
        "p7_cal = sigmoid(X_holdout / T7)\n",
        "union = 1 - np.prod(1 - p7_uncal, axis=1)\n",
        "max_prob = p7_uncal.max(axis=1)\n",
        "base_overall = union if rule=='union' else max_prob\n",
        "p_lr_holdout = lr.predict_proba(X_holdout)[:,1]\n",
        "p_overall_holdout = alpha * p_lr_holdout + (1 - alpha) * base_overall\n",
        "p8_holdout = np.hstack([p7_cal, p_overall_holdout[:,None]])\n",
        "\n",
        "# Metric for holdout\n",
        "def wll_holdout(y_true8, p8):\n",
        "    p8 = np.clip(p8, 1e-6, 1-1e-6)\n",
        "    losses = [log_loss(y_true8[:,i], p8[:,i], labels=[0,1]) for i in range(8)]\n",
        "    return float(np.average(losses, weights=np.array([1]*7+[2], float)))\n",
        "\n",
        "baseline_wll_holdout = wll_holdout(y8_holdout, p8_holdout)\n",
        "print(f'Baseline WLL on holdout: {baseline_wll_holdout:.4f}')\n",
        "\n",
        "# Smooth chain function\n",
        "def smooth_chain(p7, lam):\n",
        "    p_smooth = p7.copy()\n",
        "    for i in range(1, 6):\n",
        "        p_smooth[:,i] = (1 - 2*lam) * p7[:,i] + lam * (p7[:,i-1] + p7[:,i+1])\n",
        "    p_smooth[:,0] = (1 - lam) * p7[:,0] + lam * p7[:,1]\n",
        "    p_smooth[:,6] = (1 - lam) * p7[:,6] + lam * p7[:,5]\n",
        "    return p_smooth\n",
        "\n",
        "# Tune lam on holdout\n",
        "def obj_lam_holdout(lam):\n",
        "    p7_smooth = smooth_chain(p7_cal, lam)\n",
        "    return wll_holdout(y8_holdout, np.hstack([p7_smooth, p_overall_holdout[:,None]]))\n",
        "\n",
        "res_lam = minimize_scalar(obj_lam_holdout, bounds=(0, 0.35), method='bounded')\n",
        "lam_holdout = res_lam.x\n",
        "print(f'Tuned lambda on holdout: {lam_holdout:.4f}, WLL: {res_lam.fun:.4f}')\n",
        "\n",
        "# Tune gamma on holdout\n",
        "gammas = np.arange(0, 1.01, 0.05)\n",
        "best_gamma_holdout = 0.0\n",
        "best_wll_holdout = float('inf')\n",
        "p7_smooth_holdout = smooth_chain(p7_cal, lam_holdout)\n",
        "for gamma in gammas:\n",
        "    base = gamma * union + (1 - gamma) * max_prob\n",
        "    p_overall = alpha * p_lr_holdout + (1 - alpha) * base\n",
        "    score = wll_holdout(y8_holdout, np.hstack([p7_smooth_holdout, p_overall[:,None]]))\n",
        "    if score < best_wll_holdout:\n",
        "        best_wll_holdout = score\n",
        "        best_gamma_holdout = gamma\n",
        "print(f'Tuned gamma on holdout: {best_gamma_holdout:.4f}, WLL: {best_wll_holdout:.4f}')\n",
        "\n",
        "# Baseline p8 after smoothing/gamma on holdout\n",
        "base_holdout = best_gamma_holdout * union + (1 - best_gamma_holdout) * max_prob\n",
        "p_overall_holdout = alpha * p_lr_holdout + (1 - alpha) * base_holdout\n",
        "p8_baseline_holdout = np.hstack([p7_smooth_holdout, p_overall_holdout[:,None]])\n",
        "baseline_wll_after_smooth_gamma = wll_holdout(y8_holdout, p8_baseline_holdout)\n",
        "print(f'Baseline WLL after smoothing/gamma on holdout: {baseline_wll_after_smooth_gamma:.4f}')\n",
        "\n",
        "# Grouped shrink on holdout (no folds, simple check if improves baseline)\n",
        "a_verts_range = np.arange(0.92, 1.00, 0.01)\n",
        "b_verts_range = np.arange(0, 0.031, 0.005)\n",
        "a_overall_range = np.arange(0.95, 1.005, 0.005)\n",
        "b_overall_range = np.arange(0, 0.021, 0.0025)\n",
        "\n",
        "best_a_holdout = np.ones(8)\n",
        "best_b_holdout = np.zeros(8)\n",
        "best_final_wll_holdout = float('inf')\n",
        "best_params = None\n",
        "for a_v, b_v in product(a_verts_range, b_verts_range):\n",
        "    for a_o, b_o in product(a_overall_range, b_overall_range):\n",
        "        a8 = np.full(8, a_v)\n",
        "        a8[7] = a_o\n",
        "        b8 = np.full(8, b_v)\n",
        "        b8[7] = b_o\n",
        "        p8_shrunk = np.clip(b8[None,:] + a8[None,:] * p8_baseline_holdout, 1e-6, 1-1e-6)\n",
        "        score = wll_holdout(y8_holdout, p8_shrunk)\n",
        "        if score < best_final_wll_holdout:\n",
        "            best_final_wll_holdout = score\n",
        "            best_a_holdout = a8.copy()\n",
        "            best_b_holdout = b8.copy()\n",
        "            best_params = (a_v, b_v, a_o, b_o)\n",
        "print(f'Best grouped shrink on holdout: a_verts={best_params[0]:.4f}, b_verts={best_params[1]:.4f}, a_overall={best_params[2]:.4f}, b_overall={best_params[3]:.4f}, WLL: {best_final_wll_holdout:.4f}')\n",
        "\n",
        "# Simple check: if improves baseline, use it; else uniform\n",
        "if best_final_wll_holdout < baseline_wll_after_smooth_gamma:\n",
        "    use_grouped_holdout = True\n",
        "    final_a = best_a_holdout\n",
        "    final_b = best_b_holdout\n",
        "    final_wll_holdout = best_final_wll_holdout\n",
        "    print('Grouped shrink improves holdout WLL: Use it.')\n",
        "else:\n",
        "    use_grouped_holdout = False\n",
        "    final_a = np.full(8, 0.92)\n",
        "    final_b = np.full(8, 0.005)\n",
        "    final_wll_holdout = wll_holdout(y8_holdout, np.clip(final_b[None,:] + final_a[None,:] * p8_baseline_holdout, 1e-6, 1-1e-6))\n",
        "    print('Grouped shrink does not improve holdout WLL: Revert to uniform.')\n",
        "\n",
        "# Save holdout-tuned params\n",
        "np.savez('postproc_holdout.npz', lam=lam_holdout, gamma=best_gamma_holdout, a=final_a, b=final_b, alpha=alpha, grouped=use_grouped_holdout)\n",
        "print(f'Holdout-tuned postproc saved: WLL {final_wll_holdout:.4f} (baseline {baseline_wll_holdout:.4f}). Next: edit 03_inference_tta cell 0 to load postproc_holdout.npz, re-execute inference/submit for LB validation.')"
      ],
      "execution_count": 1,
      "outputs": [
        {
          "output_type": "stream",
          "name": "stderr",
          "text": [
            "/app/.pip-target/tqdm/auto.py:21: TqdmWarning: IProgress not found. Please update jupyter and ipywidgets. See https://ipywidgets.readthedocs.io/en/stable/user_install.html\n  from .autonotebook import tqdm as notebook_tqdm\n"
          ]
        },
        {
          "output_type": "stream",
          "name": "stdout",
          "text": [
            "Using device: cuda\nHoldout size: 41\nComputing 3-way logits on holdout...\n"
          ]
        },
        {
          "output_type": "stream",
          "name": "stderr",
          "text": [
            "\rfold_{}_convnext.pth F1 holdout:   0%|          | 0/41 [00:00<?, ?it/s]"
          ]
        },
        {
          "output_type": "stream",
          "name": "stderr",
          "text": [
            "\rfold_{}_convnext.pth F1 holdout:   2%|\u258f         | 1/41 [00:00<00:10,  3.94it/s]"
          ]
        },
        {
          "output_type": "stream",
          "name": "stderr",
          "text": [
            "\rfold_{}_convnext.pth F1 holdout:  29%|\u2588\u2588\u2589       | 12/41 [00:00<00:00, 40.93it/s]"
          ]
        },
        {
          "output_type": "stream",
          "name": "stderr",
          "text": [
            "\rfold_{}_convnext.pth F1 holdout:  54%|\u2588\u2588\u2588\u2588\u2588\u258e    | 22/41 [00:00<00:00, 60.33it/s]"
          ]
        },
        {
          "output_type": "stream",
          "name": "stderr",
          "text": [
            "\rfold_{}_convnext.pth F1 holdout:  78%|\u2588\u2588\u2588\u2588\u2588\u2588\u2588\u258a  | 32/41 [00:00<00:00, 72.83it/s]"
          ]
        },
        {
          "output_type": "stream",
          "name": "stderr",
          "text": [
            "\rfold_{}_convnext.pth F1 holdout: 100%|\u2588\u2588\u2588\u2588\u2588\u2588\u2588\u2588\u2588\u2588| 41/41 [00:00<00:00, 60.40it/s]"
          ]
        },
        {
          "output_type": "stream",
          "name": "stderr",
          "text": [
            "\n"
          ]
        },
        {
          "output_type": "stream",
          "name": "stderr",
          "text": [
            "\rfold_{}_convnext.pth F2 holdout:   0%|          | 0/41 [00:00<?, ?it/s]"
          ]
        },
        {
          "output_type": "stream",
          "name": "stderr",
          "text": [
            "\rfold_{}_convnext.pth F2 holdout:   5%|\u258d         | 2/41 [00:00<00:01, 19.89it/s]"
          ]
        },
        {
          "output_type": "stream",
          "name": "stderr",
          "text": [
            "\rfold_{}_convnext.pth F2 holdout:  29%|\u2588\u2588\u2589       | 12/41 [00:00<00:00, 66.79it/s]"
          ]
        },
        {
          "output_type": "stream",
          "name": "stderr",
          "text": [
            "\rfold_{}_convnext.pth F2 holdout:  54%|\u2588\u2588\u2588\u2588\u2588\u258e    | 22/41 [00:00<00:00, 81.33it/s]"
          ]
        },
        {
          "output_type": "stream",
          "name": "stderr",
          "text": [
            "\rfold_{}_convnext.pth F2 holdout:  78%|\u2588\u2588\u2588\u2588\u2588\u2588\u2588\u258a  | 32/41 [00:00<00:00, 88.23it/s]"
          ]
        },
        {
          "output_type": "stream",
          "name": "stderr",
          "text": [
            "\rfold_{}_convnext.pth F2 holdout: 100%|\u2588\u2588\u2588\u2588\u2588\u2588\u2588\u2588\u2588\u2588| 41/41 [00:00<00:00, 78.45it/s]"
          ]
        },
        {
          "output_type": "stream",
          "name": "stderr",
          "text": [
            "\n"
          ]
        },
        {
          "output_type": "stream",
          "name": "stderr",
          "text": [
            "\rfold_{}_convnext.pth F3 holdout:   0%|          | 0/41 [00:00<?, ?it/s]"
          ]
        },
        {
          "output_type": "stream",
          "name": "stderr",
          "text": [
            "\rfold_{}_convnext.pth F3 holdout:   5%|\u258d         | 2/41 [00:00<00:02, 18.88it/s]"
          ]
        },
        {
          "output_type": "stream",
          "name": "stderr",
          "text": [
            "\rfold_{}_convnext.pth F4 holdout:   0%|          | 0/41 [00:00<?, ?it/s]"
          ]
        },
        {
          "output_type": "stream",
          "name": "stderr",
          "text": [
            "\rfold_{}_convnext.pth F4 holdout:   5%|\u258d         | 2/41 [00:00<00:02, 18.68it/s]"
          ]
        },
        {
          "output_type": "stream",
          "name": "stderr",
          "text": [
            "\rfold_{}_convnext.pth F4 holdout:  29%|\u2588\u2588\u2589       | 12/41 [00:00<00:00, 64.98it/s]"
          ]
        },
        {
          "output_type": "stream",
          "name": "stderr",
          "text": [
            "\rfold_{}_convnext.pth F4 holdout:  54%|\u2588\u2588\u2588\u2588\u2588\u258e    | 22/41 [00:00<00:00, 79.90it/s]"
          ]
        },
        {
          "output_type": "stream",
          "name": "stderr",
          "text": [
            "\rfold_{}_convnext.pth F4 holdout:  78%|\u2588\u2588\u2588\u2588\u2588\u2588\u2588\u258a  | 32/41 [00:00<00:00, 87.38it/s]"
          ]
        },
        {
          "output_type": "stream",
          "name": "stderr",
          "text": [
            "\rfold_{}_convnext.pth F4 holdout: 100%|\u2588\u2588\u2588\u2588\u2588\u2588\u2588\u2588\u2588\u2588| 41/41 [00:00<00:00, 77.14it/s]"
          ]
        },
        {
          "output_type": "stream",
          "name": "stderr",
          "text": [
            "\n"
          ]
        },
        {
          "output_type": "stream",
          "name": "stderr",
          "text": [
            "\rfold_{}_convnext.pth F5 holdout:   0%|          | 0/41 [00:00<?, ?it/s]"
          ]
        },
        {
          "output_type": "stream",
          "name": "stderr",
          "text": [
            "\rfold_{}_convnext.pth F5 holdout:   5%|\u258d         | 2/41 [00:00<00:02, 19.08it/s]"
          ]
        },
        {
          "output_type": "stream",
          "name": "stderr",
          "text": [
            "\rfold_{}_convnext.pth F5 holdout:  32%|\u2588\u2588\u2588\u258f      | 13/41 [00:00<00:00, 67.57it/s]"
          ]
        },
        {
          "output_type": "stream",
          "name": "stderr",
          "text": [
            "\rfold_{}_convnext.pth F5 holdout:  56%|\u2588\u2588\u2588\u2588\u2588\u258c    | 23/41 [00:00<00:00, 80.91it/s]"
          ]
        },
        {
          "output_type": "stream",
          "name": "stderr",
          "text": [
            "\rfold_{}_convnext.pth F5 holdout:  80%|\u2588\u2588\u2588\u2588\u2588\u2588\u2588\u2588  | 33/41 [00:00<00:00, 87.51it/s]"
          ]
        },
        {
          "output_type": "stream",
          "name": "stderr",
          "text": [
            "\rfold_{}_convnext.pth F5 holdout: 100%|\u2588\u2588\u2588\u2588\u2588\u2588\u2588\u2588\u2588\u2588| 41/41 [00:00<00:00, 76.81it/s]"
          ]
        },
        {
          "output_type": "stream",
          "name": "stderr",
          "text": [
            "\n"
          ]
        },
        {
          "output_type": "stream",
          "name": "stderr",
          "text": [
            "\rfold_{}_convnext_v2.pth F1 holdout:   0%|          | 0/41 [00:00<?, ?it/s]"
          ]
        },
        {
          "output_type": "stream",
          "name": "stderr",
          "text": [
            "\rfold_{}_convnext_v2.pth F1 holdout:   5%|\u258d         | 2/41 [00:00<00:02, 19.18it/s]"
          ]
        },
        {
          "output_type": "stream",
          "name": "stderr",
          "text": [
            "\rfold_{}_convnext_v2.pth F1 holdout:  32%|\u2588\u2588\u2588\u258f      | 13/41 [00:00<00:00, 67.78it/s]"
          ]
        },
        {
          "output_type": "stream",
          "name": "stderr",
          "text": [
            "\rfold_{}_convnext_v2.pth F1 holdout:  56%|\u2588\u2588\u2588\u2588\u2588\u258c    | 23/41 [00:00<00:00, 81.35it/s]"
          ]
        },
        {
          "output_type": "stream",
          "name": "stderr",
          "text": [
            "\rfold_{}_convnext_v2.pth F1 holdout:  80%|\u2588\u2588\u2588\u2588\u2588\u2588\u2588\u2588  | 33/41 [00:00<00:00, 87.91it/s]"
          ]
        },
        {
          "output_type": "stream",
          "name": "stderr",
          "text": [
            "\rfold_{}_convnext_v2.pth F1 holdout: 100%|\u2588\u2588\u2588\u2588\u2588\u2588\u2588\u2588\u2588\u2588| 41/41 [00:00<00:00, 77.26it/s]"
          ]
        },
        {
          "output_type": "stream",
          "name": "stderr",
          "text": [
            "\n"
          ]
        },
        {
          "output_type": "stream",
          "name": "stderr",
          "text": [
            "\rfold_{}_convnext_v2.pth F2 holdout:   0%|          | 0/41 [00:00<?, ?it/s]"
          ]
        },
        {
          "output_type": "stream",
          "name": "stderr",
          "text": [
            "\rfold_{}_convnext_v2.pth F2 holdout:   5%|\u258d         | 2/41 [00:00<00:02, 18.56it/s]"
          ]
        },
        {
          "output_type": "stream",
          "name": "stderr",
          "text": [
            "\rfold_{}_convnext_v2.pth F2 holdout:  29%|\u2588\u2588\u2589       | 12/41 [00:00<00:00, 64.45it/s]"
          ]
        },
        {
          "output_type": "stream",
          "name": "stderr",
          "text": [
            "\rfold_{}_convnext_v2.pth F2 holdout:  54%|\u2588\u2588\u2588\u2588\u2588\u258e    | 22/41 [00:00<00:00, 79.47it/s]"
          ]
        },
        {
          "output_type": "stream",
          "name": "stderr",
          "text": [
            "\rfold_{}_convnext_v2.pth F2 holdout:  78%|\u2588\u2588\u2588\u2588\u2588\u2588\u2588\u258a  | 32/41 [00:00<00:00, 86.86it/s]"
          ]
        },
        {
          "output_type": "stream",
          "name": "stderr",
          "text": [
            "\rfold_{}_convnext_v2.pth F2 holdout: 100%|\u2588\u2588\u2588\u2588\u2588\u2588\u2588\u2588\u2588\u2588| 41/41 [00:00<00:00, 76.72it/s]"
          ]
        },
        {
          "output_type": "stream",
          "name": "stderr",
          "text": [
            "\n"
          ]
        },
        {
          "output_type": "stream",
          "name": "stderr",
          "text": [
            "\rfold_{}_convnext_v2.pth F3 holdout:   0%|          | 0/41 [00:00<?, ?it/s]"
          ]
        },
        {
          "output_type": "stream",
          "name": "stderr",
          "text": [
            "\rfold_{}_convnext_v2.pth F3 holdout:   5%|\u258d         | 2/41 [00:00<00:02, 18.60it/s]"
          ]
        },
        {
          "output_type": "stream",
          "name": "stderr",
          "text": [
            "\rfold_{}_convnext_v2.pth F3 holdout:  29%|\u2588\u2588\u2589       | 12/41 [00:00<00:00, 64.85it/s]"
          ]
        },
        {
          "output_type": "stream",
          "name": "stderr",
          "text": [
            "\rfold_{}_convnext_v2.pth F3 holdout:  54%|\u2588\u2588\u2588\u2588\u2588\u258e    | 22/41 [00:00<00:00, 79.80it/s]"
          ]
        },
        {
          "output_type": "stream",
          "name": "stderr",
          "text": [
            "\rfold_{}_convnext_v2.pth F3 holdout:  78%|\u2588\u2588\u2588\u2588\u2588\u2588\u2588\u258a  | 32/41 [00:00<00:00, 87.25it/s]"
          ]
        },
        {
          "output_type": "stream",
          "name": "stderr",
          "text": [
            "\rfold_{}_convnext_v2.pth F3 holdout: 100%|\u2588\u2588\u2588\u2588\u2588\u2588\u2588\u2588\u2588\u2588| 41/41 [00:00<00:00, 77.22it/s]"
          ]
        },
        {
          "output_type": "stream",
          "name": "stderr",
          "text": [
            "\n"
          ]
        },
        {
          "output_type": "stream",
          "name": "stderr",
          "text": [
            "\rfold_{}_convnext_v2.pth F4 holdout:   0%|          | 0/41 [00:00<?, ?it/s]"
          ]
        },
        {
          "output_type": "stream",
          "name": "stderr",
          "text": [
            "\rfold_{}_convnext_v2.pth F4 holdout:   5%|\u258d         | 2/41 [00:00<00:02, 18.56it/s]"
          ]
        },
        {
          "output_type": "stream",
          "name": "stderr",
          "text": [
            "\rfold_{}_convnext_v2.pth F4 holdout:  29%|\u2588\u2588\u2589       | 12/41 [00:00<00:00, 64.66it/s]"
          ]
        },
        {
          "output_type": "stream",
          "name": "stderr",
          "text": [
            "\rfold_{}_convnext_v2.pth F4 holdout:  54%|\u2588\u2588\u2588\u2588\u2588\u258e    | 22/41 [00:00<00:00, 79.54it/s]"
          ]
        },
        {
          "output_type": "stream",
          "name": "stderr",
          "text": [
            "\rfold_{}_convnext_v2.pth F4 holdout:  78%|\u2588\u2588\u2588\u2588\u2588\u2588\u2588\u258a  | 32/41 [00:00<00:00, 86.79it/s]"
          ]
        },
        {
          "output_type": "stream",
          "name": "stderr",
          "text": [
            "\rfold_{}_convnext_v2.pth F4 holdout: 100%|\u2588\u2588\u2588\u2588\u2588\u2588\u2588\u2588\u2588\u2588| 41/41 [00:00<00:00, 76.27it/s]"
          ]
        },
        {
          "output_type": "stream",
          "name": "stderr",
          "text": [
            "\n"
          ]
        },
        {
          "output_type": "stream",
          "name": "stderr",
          "text": [
            "\rfold_{}_convnext_v2.pth F5 holdout:   0%|          | 0/41 [00:00<?, ?it/s]"
          ]
        },
        {
          "output_type": "stream",
          "name": "stderr",
          "text": [
            "\rfold_{}_convnext_v2.pth F5 holdout:   2%|\u258f         | 1/41 [00:00<00:04,  9.84it/s]"
          ]
        },
        {
          "output_type": "stream",
          "name": "stderr",
          "text": [
            "\rfold_{}_convnext_v2.pth F5 holdout:  27%|\u2588\u2588\u258b       | 11/41 [00:00<00:00, 60.77it/s]"
          ]
        },
        {
          "output_type": "stream",
          "name": "stderr",
          "text": [
            "\rfold_{}_convnext_v2.pth F5 holdout:  51%|\u2588\u2588\u2588\u2588\u2588     | 21/41 [00:00<00:00, 75.40it/s]"
          ]
        },
        {
          "output_type": "stream",
          "name": "stderr",
          "text": [
            "\rfold_{}_convnext_v2.pth F5 holdout:  76%|\u2588\u2588\u2588\u2588\u2588\u2588\u2588\u258c  | 31/41 [00:00<00:00, 83.37it/s]"
          ]
        },
        {
          "output_type": "stream",
          "name": "stderr",
          "text": [
            "\rfold_{}_convnext_v2.pth F5 holdout: 100%|\u2588\u2588\u2588\u2588\u2588\u2588\u2588\u2588\u2588\u2588| 41/41 [00:00<00:00, 88.51it/s]"
          ]
        },
        {
          "output_type": "stream",
          "name": "stderr",
          "text": [
            "\rfold_{}_convnext_v2.pth F5 holdout: 100%|\u2588\u2588\u2588\u2588\u2588\u2588\u2588\u2588\u2588\u2588| 41/41 [00:00<00:00, 73.60it/s]"
          ]
        },
        {
          "output_type": "stream",
          "name": "stderr",
          "text": [
            "\n"
          ]
        },
        {
          "output_type": "stream",
          "name": "stderr",
          "text": [
            "\rfold_{}_regnet.pth F1 holdout:   0%|          | 0/41 [00:00<?, ?it/s]"
          ]
        },
        {
          "output_type": "stream",
          "name": "stderr",
          "text": [
            "\rfold_{}_regnet.pth F1 holdout:   2%|\u258f         | 1/41 [00:00<00:09,  4.33it/s]"
          ]
        },
        {
          "output_type": "stream",
          "name": "stderr",
          "text": [
            "\rfold_{}_regnet.pth F1 holdout:  20%|\u2588\u2589        | 8/41 [00:00<00:01, 29.13it/s]"
          ]
        },
        {
          "output_type": "stream",
          "name": "stderr",
          "text": [
            "\rfold_{}_regnet.pth F1 holdout:  37%|\u2588\u2588\u2588\u258b      | 15/41 [00:00<00:00, 43.24it/s]"
          ]
        },
        {
          "output_type": "stream",
          "name": "stderr",
          "text": [
            "\rfold_{}_regnet.pth F1 holdout:  54%|\u2588\u2588\u2588\u2588\u2588\u258e    | 22/41 [00:00<00:00, 51.93it/s]"
          ]
        },
        {
          "output_type": "stream",
          "name": "stderr",
          "text": [
            "\rfold_{}_regnet.pth F1 holdout:  71%|\u2588\u2588\u2588\u2588\u2588\u2588\u2588   | 29/41 [00:00<00:00, 57.44it/s]"
          ]
        },
        {
          "output_type": "stream",
          "name": "stderr",
          "text": [
            "\rfold_{}_regnet.pth F1 holdout:  90%|\u2588\u2588\u2588\u2588\u2588\u2588\u2588\u2588\u2588 | 37/41 [00:00<00:00, 62.02it/s]"
          ]
        },
        {
          "output_type": "stream",
          "name": "stderr",
          "text": [
            "\rfold_{}_regnet.pth F1 holdout: 100%|\u2588\u2588\u2588\u2588\u2588\u2588\u2588\u2588\u2588\u2588| 41/41 [00:00<00:00, 49.08it/s]"
          ]
        },
        {
          "output_type": "stream",
          "name": "stderr",
          "text": [
            "\n"
          ]
        },
        {
          "output_type": "stream",
          "name": "stderr",
          "text": [
            "\rfold_{}_regnet.pth F2 holdout:   0%|          | 0/41 [00:00<?, ?it/s]"
          ]
        },
        {
          "output_type": "stream",
          "name": "stderr",
          "text": [
            "\rfold_{}_regnet.pth F2 holdout:   2%|\u258f         | 1/41 [00:00<00:04,  9.04it/s]"
          ]
        },
        {
          "output_type": "stream",
          "name": "stderr",
          "text": [
            "\rfold_{}_regnet.pth F2 holdout:  20%|\u2588\u2589        | 8/41 [00:00<00:00, 42.46it/s]"
          ]
        },
        {
          "output_type": "stream",
          "name": "stderr",
          "text": [
            "\rfold_{}_regnet.pth F2 holdout:  37%|\u2588\u2588\u2588\u258b      | 15/41 [00:00<00:00, 53.82it/s]"
          ]
        },
        {
          "output_type": "stream",
          "name": "stderr",
          "text": [
            "\rfold_{}_regnet.pth F2 holdout:  54%|\u2588\u2588\u2588\u2588\u2588\u258e    | 22/41 [00:00<00:00, 59.32it/s]"
          ]
        },
        {
          "output_type": "stream",
          "name": "stderr",
          "text": [
            "\rfold_{}_regnet.pth F2 holdout:  71%|\u2588\u2588\u2588\u2588\u2588\u2588\u2588   | 29/41 [00:00<00:00, 62.47it/s]"
          ]
        },
        {
          "output_type": "stream",
          "name": "stderr",
          "text": [
            "\rfold_{}_regnet.pth F2 holdout:  88%|\u2588\u2588\u2588\u2588\u2588\u2588\u2588\u2588\u258a | 36/41 [00:00<00:00, 64.94it/s]"
          ]
        },
        {
          "output_type": "stream",
          "name": "stderr",
          "text": [
            "\rfold_{}_regnet.pth F2 holdout: 100%|\u2588\u2588\u2588\u2588\u2588\u2588\u2588\u2588\u2588\u2588| 41/41 [00:00<00:00, 56.23it/s]"
          ]
        },
        {
          "output_type": "stream",
          "name": "stderr",
          "text": [
            "\n"
          ]
        },
        {
          "output_type": "stream",
          "name": "stderr",
          "text": [
            "\rfold_{}_regnet.pth F3 holdout:   0%|          | 0/41 [00:00<?, ?it/s]"
          ]
        },
        {
          "output_type": "stream",
          "name": "stderr",
          "text": [
            "\rfold_{}_regnet.pth F3 holdout:   2%|\u258f         | 1/41 [00:00<00:04,  9.91it/s]"
          ]
        },
        {
          "output_type": "stream",
          "name": "stderr",
          "text": [
            "\rfold_{}_regnet.pth F3 holdout:  20%|\u2588\u2589        | 8/41 [00:00<00:00, 43.47it/s]"
          ]
        },
        {
          "output_type": "stream",
          "name": "stderr",
          "text": [
            "\rfold_{}_regnet.pth F3 holdout:  37%|\u2588\u2588\u2588\u258b      | 15/41 [00:00<00:00, 54.06it/s]"
          ]
        },
        {
          "output_type": "stream",
          "name": "stderr",
          "text": [
            "\rfold_{}_regnet.pth F3 holdout:  54%|\u2588\u2588\u2588\u2588\u2588\u258e    | 22/41 [00:00<00:00, 59.24it/s]"
          ]
        },
        {
          "output_type": "stream",
          "name": "stderr",
          "text": [
            "\rfold_{}_regnet.pth F3 holdout:  71%|\u2588\u2588\u2588\u2588\u2588\u2588\u2588   | 29/41 [00:00<00:00, 62.07it/s]"
          ]
        },
        {
          "output_type": "stream",
          "name": "stderr",
          "text": [
            "\rfold_{}_regnet.pth F3 holdout:  88%|\u2588\u2588\u2588\u2588\u2588\u2588\u2588\u2588\u258a | 36/41 [00:00<00:00, 64.46it/s]"
          ]
        },
        {
          "output_type": "stream",
          "name": "stderr",
          "text": [
            "\rfold_{}_regnet.pth F3 holdout: 100%|\u2588\u2588\u2588\u2588\u2588\u2588\u2588\u2588\u2588\u2588| 41/41 [00:00<00:00, 56.29it/s]"
          ]
        },
        {
          "output_type": "stream",
          "name": "stderr",
          "text": [
            "\n"
          ]
        },
        {
          "output_type": "stream",
          "name": "stderr",
          "text": [
            "\rfold_{}_regnet.pth F4 holdout:   0%|          | 0/41 [00:00<?, ?it/s]"
          ]
        },
        {
          "output_type": "stream",
          "name": "stderr",
          "text": [
            "\rfold_{}_regnet.pth F4 holdout:   2%|\u258f         | 1/41 [00:00<00:04,  8.98it/s]"
          ]
        },
        {
          "output_type": "stream",
          "name": "stderr",
          "text": [
            "\rfold_{}_regnet.pth F4 holdout:  20%|\u2588\u2589        | 8/41 [00:00<00:00, 42.12it/s]"
          ]
        },
        {
          "output_type": "stream",
          "name": "stderr",
          "text": [
            "\rfold_{}_regnet.pth F4 holdout:  37%|\u2588\u2588\u2588\u258b      | 15/41 [00:00<00:00, 53.50it/s]"
          ]
        },
        {
          "output_type": "stream",
          "name": "stderr",
          "text": [
            "\rfold_{}_regnet.pth F4 holdout:  54%|\u2588\u2588\u2588\u2588\u2588\u258e    | 22/41 [00:00<00:00, 59.15it/s]"
          ]
        },
        {
          "output_type": "stream",
          "name": "stderr",
          "text": [
            "\rfold_{}_regnet.pth F4 holdout:  71%|\u2588\u2588\u2588\u2588\u2588\u2588\u2588   | 29/41 [00:00<00:00, 62.17it/s]"
          ]
        },
        {
          "output_type": "stream",
          "name": "stderr",
          "text": [
            "\rfold_{}_regnet.pth F4 holdout:  88%|\u2588\u2588\u2588\u2588\u2588\u2588\u2588\u2588\u258a | 36/41 [00:00<00:00, 64.61it/s]"
          ]
        },
        {
          "output_type": "stream",
          "name": "stderr",
          "text": [
            "\rfold_{}_regnet.pth F4 holdout: 100%|\u2588\u2588\u2588\u2588\u2588\u2588\u2588\u2588\u2588\u2588| 41/41 [00:00<00:00, 55.97it/s]"
          ]
        },
        {
          "output_type": "stream",
          "name": "stderr",
          "text": [
            "\n"
          ]
        },
        {
          "output_type": "stream",
          "name": "stderr",
          "text": [
            "\rfold_{}_regnet.pth F5 holdout:   0%|          | 0/41 [00:00<?, ?it/s]"
          ]
        },
        {
          "output_type": "stream",
          "name": "stderr",
          "text": [
            "\rfold_{}_regnet.pth F5 holdout:   2%|\u258f         | 1/41 [00:00<00:04,  9.61it/s]"
          ]
        },
        {
          "output_type": "stream",
          "name": "stderr",
          "text": [
            "\rfold_{}_regnet.pth F5 holdout:  20%|\u2588\u2589        | 8/41 [00:00<00:00, 42.95it/s]"
          ]
        },
        {
          "output_type": "stream",
          "name": "stderr",
          "text": [
            "\rfold_{}_regnet.pth F5 holdout:  37%|\u2588\u2588\u2588\u258b      | 15/41 [00:00<00:00, 53.37it/s]"
          ]
        },
        {
          "output_type": "stream",
          "name": "stderr",
          "text": [
            "\rfold_{}_regnet.pth F5 holdout:  54%|\u2588\u2588\u2588\u2588\u2588\u258e    | 22/41 [00:00<00:00, 58.92it/s]"
          ]
        },
        {
          "output_type": "stream",
          "name": "stderr",
          "text": [
            "\rfold_{}_regnet.pth F5 holdout:  71%|\u2588\u2588\u2588\u2588\u2588\u2588\u2588   | 29/41 [00:00<00:00, 62.08it/s]"
          ]
        },
        {
          "output_type": "stream",
          "name": "stderr",
          "text": [
            "\rfold_{}_regnet.pth F5 holdout:  88%|\u2588\u2588\u2588\u2588\u2588\u2588\u2588\u2588\u258a | 36/41 [00:00<00:00, 64.45it/s]"
          ]
        },
        {
          "output_type": "stream",
          "name": "stderr",
          "text": [
            "\rfold_{}_regnet.pth F5 holdout: 100%|\u2588\u2588\u2588\u2588\u2588\u2588\u2588\u2588\u2588\u2588| 41/41 [00:00<00:00, 56.58it/s]"
          ]
        },
        {
          "output_type": "stream",
          "name": "stderr",
          "text": [
            "\n"
          ]
        },
        {
          "output_type": "stream",
          "name": "stdout",
          "text": [
            "Baseline WLL on holdout: 0.4344\nTuned lambda on holdout: 0.0000, WLL: 0.4344\n"
          ]
        },
        {
          "output_type": "stream",
          "name": "stdout",
          "text": [
            "Tuned gamma on holdout: 1.0000, WLL: 0.4344\nBaseline WLL after smoothing/gamma on holdout: 0.4344\n"
          ]
        },
        {
          "output_type": "stream",
          "name": "stdout",
          "text": [
            "Best grouped shrink on holdout: a_verts=0.9900, b_verts=0.0050, a_overall=0.9850, b_overall=0.0200, WLL: 0.4343\nGrouped shrink improves holdout WLL: Use it.\nHoldout-tuned postproc saved: WLL 0.4343 (baseline 0.4344). Next: edit 03_inference_tta cell 0 to load postproc_holdout.npz, re-execute inference/submit for LB validation.\n"
          ]
        }
      ]
    }
  ],
  "metadata": {
    "kernelspec": {
      "display_name": "Python 3",
      "language": "python",
      "name": "python3"
    },
    "language_info": {
      "name": "python",
      "version": "3.11.0rc1"
    }
  },
  "nbformat": 4,
  "nbformat_minor": 5
}