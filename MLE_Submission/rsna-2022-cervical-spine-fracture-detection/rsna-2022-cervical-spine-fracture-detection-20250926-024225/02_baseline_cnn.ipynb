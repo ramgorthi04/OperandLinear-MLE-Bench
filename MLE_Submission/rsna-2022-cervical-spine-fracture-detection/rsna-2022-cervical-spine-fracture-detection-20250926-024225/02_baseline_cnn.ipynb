{
  "cells": [
    {
      "id": "cbf91092-6f35-4def-afb4-39057176a9b6",
      "cell_type": "markdown",
      "metadata": {},
      "source": [
        "# Baseline 2D CNN for RSNA 2022 Cervical Spine Fracture Detection\n",
        "\n",
        "This notebook implements a baseline EfficientNet-B0 model on preprocessed MIP images.\n",
        "Key changes based on expert review:\n",
        "- Predict 7 vertebrae (C1-C7) only; derive patient_overall = max(C1-C7) for metric and submission.\n",
        "- Metric weights: [1,1,1,1,1,1,1,2] for C1-C7 + overall.\n",
        "- CV: MultilabelStratifiedKFold on C1-C7 labels.\n",
        "- Normalization: mean=0.5, std=0.5 (since bone-windowed MIPs).\n",
        "- Loss: BCEWithLogitsLoss with per-fold pos_weight.\n",
        "- Augs: Flips, ShiftScaleRotate, BrightnessContrast, Gamma, GaussianNoise.\n",
        "- Training: AdamW lr=1e-4, CosineAnnealingLR, batch=16, AMP, 15 epochs, early stop patience=5.\n",
        "- TTA: Horizontal flip only (no VerticalFlip)."
      ],
      "execution_count": null,
      "outputs": []
    },
    {
      "id": "873623e6-3228-418c-955b-fcd4719440ca",
      "cell_type": "code",
      "metadata": {},
      "source": [
        "import sys\n",
        "import subprocess\n",
        "\n",
        "# Install required packages using subprocess to bypass !pip issues\n",
        "subprocess.run([sys.executable, '-m', 'pip', 'install', 'iterative-stratification'], check=True)\n",
        "subprocess.run([sys.executable, '-m', 'pip', 'install', '--upgrade', 'albumentations'], check=True)\n",
        "\n",
        "import torch\n",
        "import torch.nn as nn\n",
        "import torch.optim as optim\n",
        "from torch.utils.data import Dataset, DataLoader\n",
        "from torch.cuda.amp import GradScaler\n",
        "import torch.nn.utils as nn_utils\n",
        "import timm\n",
        "import albumentations as A\n",
        "from albumentations.pytorch import ToTensorV2\n",
        "import pandas as pd\n",
        "import numpy as np\n",
        "from iterstrat.ml_stratifiers import MultilabelStratifiedKFold\n",
        "import os\n",
        "from tqdm import tqdm\n",
        "import time\n",
        "import warnings\n",
        "warnings.filterwarnings('ignore')\n",
        "\n",
        "# Seeding for reproducibility\n",
        "def seed_everything(seed=42):\n",
        "    import random\n",
        "    random.seed(seed)\n",
        "    np.random.seed(seed)\n",
        "    torch.manual_seed(seed)\n",
        "    torch.cuda.manual_seed_all(seed)\n",
        "    torch.backends.cudnn.deterministic = True\n",
        "    torch.backends.cudnn.benchmark = False\n",
        "seed_everything(42)\n",
        "\n",
        "# GPU Check\n",
        "print(subprocess.run(['nvidia-smi'], capture_output=True, text=True).stdout)\n",
        "assert torch.cuda.is_available(), 'CUDA not available'\n",
        "device = torch.device('cuda' if torch.cuda.is_available() else 'cpu')\n",
        "print(f'Using device: {device}')\n",
        "print(f'GPU: {torch.cuda.get_device_name(0)}')\n",
        "\n",
        "# Load and subsample data for initial debug\n",
        "train_df = pd.read_csv('data/train_mips.csv')\n",
        "print(f'Full train size: {len(train_df)}')\n",
        "\n",
        "# Subsample 50 for quick debug\n",
        "subsample_df = train_df.sample(n=50, random_state=42).reset_index(drop=True)\n",
        "print(f'Subsample size: {len(subsample_df)}')\n",
        "\n",
        "label_cols = ['C1', 'C2', 'C3', 'C4', 'C5', 'C6', 'C7']\n",
        "y_train = subsample_df[label_cols].values\n",
        "print('Label distribution:')\n",
        "print(y_train.sum(axis=0))\n",
        "\n",
        "# Compute initial pos_weight for imbalance\n",
        "pos = (y_train == 1).sum(axis=0)\n",
        "neg = (y_train == 0).sum(axis=0)\n",
        "pos_weight = torch.tensor(neg / (pos + 1e-6), dtype=torch.float32).to(device)\n",
        "print('Pos weights:', pos_weight.cpu().numpy())"
      ],
      "execution_count": 1,
      "outputs": [
        {
          "output_type": "stream",
          "name": "stdout",
          "text": [
            "Collecting iterative-stratification\n  Downloading iterative_stratification-0.1.9-py3-none-any.whl (8.5 kB)\n"
          ]
        },
        {
          "output_type": "stream",
          "name": "stdout",
          "text": [
            "Collecting scipy\n  Downloading scipy-1.16.2-cp311-cp311-manylinux2014_x86_64.manylinux_2_17_x86_64.whl (35.9 MB)\n     \u2501\u2501\u2501\u2501\u2501\u2501\u2501\u2501\u2501\u2501\u2501\u2501\u2501\u2501\u2501\u2501\u2501\u2501\u2501\u2501\u2501\u2501\u2501\u2501\u2501\u2501\u2501\u2501\u2501\u2501\u2501\u2501\u2501\u2501\u2501\u2501\u2501\u2501\u2501 35.9/35.9 MB 280.4 MB/s eta 0:00:00\n"
          ]
        },
        {
          "output_type": "stream",
          "name": "stdout",
          "text": [
            "Collecting numpy\n  Downloading numpy-1.26.4-cp311-cp311-manylinux_2_17_x86_64.manylinux2014_x86_64.whl (18.3 MB)\n     \u2501\u2501\u2501\u2501\u2501\u2501\u2501\u2501\u2501\u2501\u2501\u2501\u2501\u2501\u2501\u2501\u2501\u2501\u2501\u2501\u2501\u2501\u2501\u2501\u2501\u2501\u2501\u2501\u2501\u2501\u2501\u2501\u2501\u2501\u2501\u2501\u2501\u2501\u2501 18.3/18.3 MB 341.4 MB/s eta 0:00:00\n"
          ]
        },
        {
          "output_type": "stream",
          "name": "stdout",
          "text": [
            "Collecting scikit-learn\n  Downloading scikit_learn-1.7.2-cp311-cp311-manylinux2014_x86_64.manylinux_2_17_x86_64.whl (9.7 MB)\n     \u2501\u2501\u2501\u2501\u2501\u2501\u2501\u2501\u2501\u2501\u2501\u2501\u2501\u2501\u2501\u2501\u2501\u2501\u2501\u2501\u2501\u2501\u2501\u2501\u2501\u2501\u2501\u2501\u2501\u2501\u2501\u2501\u2501\u2501\u2501\u2501\u2501\u2501\u2501\u2501 9.7/9.7 MB 166.3 MB/s eta 0:00:00\nCollecting threadpoolctl>=3.1.0\n  Downloading threadpoolctl-3.6.0-py3-none-any.whl (18 kB)\nCollecting joblib>=1.2.0\n  Downloading joblib-1.5.2-py3-none-any.whl (308 kB)\n     \u2501\u2501\u2501\u2501\u2501\u2501\u2501\u2501\u2501\u2501\u2501\u2501\u2501\u2501\u2501\u2501\u2501\u2501\u2501\u2501\u2501\u2501\u2501\u2501\u2501\u2501\u2501\u2501\u2501\u2501\u2501\u2501\u2501\u2501\u2501\u2501\u2501 308.4/308.4 KB 471.5 MB/s eta 0:00:00\n"
          ]
        },
        {
          "output_type": "stream",
          "name": "stdout",
          "text": [
            "Installing collected packages: threadpoolctl, numpy, joblib, scipy, scikit-learn, iterative-stratification\n"
          ]
        },
        {
          "output_type": "stream",
          "name": "stderr",
          "text": [
            "ERROR: pip's dependency resolver does not currently take into account all the packages that are installed. This behaviour is the source of the following dependency conflicts.\ndatasets 2.21.0 requires fsspec[http]<=2024.6.1,>=2023.1.0, but you have fsspec 2025.9.0 which is incompatible.\nWARNING: Target directory /app/.pip-target/iterative_stratification-0.1.9.dist-info already exists. Specify --upgrade to force replacement.\nWARNING: Target directory /app/.pip-target/tests already exists. Specify --upgrade to force replacement.\nWARNING: Target directory /app/.pip-target/iterstrat already exists. Specify --upgrade to force replacement.\nWARNING: Target directory /app/.pip-target/scikit_learn-1.7.2.dist-info already exists. Specify --upgrade to force replacement.\nWARNING: Target directory /app/.pip-target/sklearn already exists. Specify --upgrade to force replacement.\nWARNING: Target directory /app/.pip-target/scikit_learn.libs already exists. Specify --upgrade to force replacement.\nWARNING: Target directory /app/.pip-target/scipy-1.16.2.dist-info already exists. Specify --upgrade to force replacement.\nWARNING: Target directory /app/.pip-target/scipy.libs already exists. Specify --upgrade to force replacement.\nWARNING: Target directory /app/.pip-target/scipy already exists. Specify --upgrade to force replacement.\nWARNING: Target directory /app/.pip-target/joblib-1.5.2.dist-info already exists. Specify --upgrade to force replacement.\nWARNING: Target directory /app/.pip-target/joblib already exists. Specify --upgrade to force replacement.\nWARNING: Target directory /app/.pip-target/numpy.libs already exists. Specify --upgrade to force replacement.\nWARNING: Target directory /app/.pip-target/numpy-1.26.4.dist-info already exists. Specify --upgrade to force replacement.\nWARNING: Target directory /app/.pip-target/numpy already exists. Specify --upgrade to force replacement.\nWARNING: Target directory /app/.pip-target/__pycache__ already exists. Specify --upgrade to force replacement.\nWARNING: Target directory /app/.pip-target/threadpoolctl-3.6.0.dist-info already exists. Specify --upgrade to force replacement.\nWARNING: Target directory /app/.pip-target/threadpoolctl.py already exists. Specify --upgrade to force replacement.\nWARNING: Target directory /app/.pip-target/bin already exists. Specify --upgrade to force replacement.\n"
          ]
        },
        {
          "output_type": "stream",
          "name": "stdout",
          "text": [
            "Successfully installed iterative-stratification-0.1.9 joblib-1.5.2 numpy-1.26.4 scikit-learn-1.7.2 scipy-1.16.2 threadpoolctl-3.6.0\n"
          ]
        },
        {
          "output_type": "stream",
          "name": "stdout",
          "text": [
            "Collecting albumentations\n  Downloading albumentations-2.0.8-py3-none-any.whl (369 kB)\n     \u2501\u2501\u2501\u2501\u2501\u2501\u2501\u2501\u2501\u2501\u2501\u2501\u2501\u2501\u2501\u2501\u2501\u2501\u2501\u2501\u2501\u2501\u2501\u2501\u2501\u2501\u2501\u2501\u2501\u2501\u2501\u2501\u2501\u2501\u2501\u2501\u2501\u2501 369.4/369.4 KB 11.5 MB/s eta 0:00:00\n"
          ]
        },
        {
          "output_type": "stream",
          "name": "stdout",
          "text": [
            "Collecting scipy>=1.10.0\n  Downloading scipy-1.16.2-cp311-cp311-manylinux2014_x86_64.manylinux_2_17_x86_64.whl (35.9 MB)\n"
          ]
        },
        {
          "output_type": "stream",
          "name": "stdout",
          "text": [
            "     \u2501\u2501\u2501\u2501\u2501\u2501\u2501\u2501\u2501\u2501\u2501\u2501\u2501\u2501\u2501\u2501\u2501\u2501\u2501\u2501\u2501\u2501\u2501\u2501\u2501\u2501\u2501\u2501\u2501\u2501\u2501\u2501\u2501\u2501\u2501\u2501\u2501\u2501\u2501 35.9/35.9 MB 212.8 MB/s eta 0:00:00\nCollecting opencv-python-headless>=4.9.0.80\n  Downloading opencv_python_headless-4.12.0.88-cp37-abi3-manylinux2014_x86_64.manylinux_2_17_x86_64.whl (54.0 MB)\n"
          ]
        },
        {
          "output_type": "stream",
          "name": "stdout",
          "text": [
            "     \u2501\u2501\u2501\u2501\u2501\u2501\u2501\u2501\u2501\u2501\u2501\u2501\u2501\u2501\u2501\u2501\u2501\u2501\u2501\u2501\u2501\u2501\u2501\u2501\u2501\u2501\u2501\u2501\u2501\u2501\u2501\u2501\u2501\u2501\u2501\u2501\u2501\u2501\u2501 54.0/54.0 MB 170.8 MB/s eta 0:00:00\n"
          ]
        },
        {
          "output_type": "stream",
          "name": "stdout",
          "text": [
            "Collecting numpy>=1.24.4\n  Downloading numpy-1.26.4-cp311-cp311-manylinux_2_17_x86_64.manylinux2014_x86_64.whl (18.3 MB)\n     \u2501\u2501\u2501\u2501\u2501\u2501\u2501\u2501\u2501\u2501\u2501\u2501\u2501\u2501\u2501\u2501\u2501\u2501\u2501\u2501\u2501\u2501\u2501\u2501\u2501\u2501\u2501\u2501\u2501\u2501\u2501\u2501\u2501\u2501\u2501\u2501\u2501\u2501\u2501 18.3/18.3 MB 205.4 MB/s eta 0:00:00\n"
          ]
        },
        {
          "output_type": "stream",
          "name": "stdout",
          "text": [
            "Collecting pydantic>=2.9.2\n  Downloading pydantic-2.11.9-py3-none-any.whl (444 kB)\n     \u2501\u2501\u2501\u2501\u2501\u2501\u2501\u2501\u2501\u2501\u2501\u2501\u2501\u2501\u2501\u2501\u2501\u2501\u2501\u2501\u2501\u2501\u2501\u2501\u2501\u2501\u2501\u2501\u2501\u2501\u2501\u2501\u2501\u2501\u2501\u2501\u2501 444.9/444.9 KB 517.1 MB/s eta 0:00:00\nCollecting albucore==0.0.24\n  Downloading albucore-0.0.24-py3-none-any.whl (15 kB)\nCollecting PyYAML\n  Downloading pyyaml-6.0.3-cp311-cp311-manylinux2014_x86_64.manylinux_2_17_x86_64.manylinux_2_28_x86_64.whl (806 kB)\n     \u2501\u2501\u2501\u2501\u2501\u2501\u2501\u2501\u2501\u2501\u2501\u2501\u2501\u2501\u2501\u2501\u2501\u2501\u2501\u2501\u2501\u2501\u2501\u2501\u2501\u2501\u2501\u2501\u2501\u2501\u2501\u2501\u2501\u2501\u2501\u2501\u2501 806.6/806.6 KB 330.0 MB/s eta 0:00:00\n"
          ]
        },
        {
          "output_type": "stream",
          "name": "stdout",
          "text": [
            "Collecting stringzilla>=3.10.4\n  Downloading stringzilla-4.0.14-cp311-cp311-manylinux_2_17_x86_64.manylinux2014_x86_64.manylinux_2_28_x86_64.whl (496 kB)\n     \u2501\u2501\u2501\u2501\u2501\u2501\u2501\u2501\u2501\u2501\u2501\u2501\u2501\u2501\u2501\u2501\u2501\u2501\u2501\u2501\u2501\u2501\u2501\u2501\u2501\u2501\u2501\u2501\u2501\u2501\u2501\u2501\u2501\u2501\u2501\u2501\u2501 496.5/496.5 KB 465.0 MB/s eta 0:00:00\n"
          ]
        },
        {
          "output_type": "stream",
          "name": "stdout",
          "text": [
            "Collecting simsimd>=5.9.2\n  Downloading simsimd-6.5.3-cp311-cp311-manylinux_2_24_x86_64.manylinux_2_28_x86_64.whl (1.1 MB)\n     \u2501\u2501\u2501\u2501\u2501\u2501\u2501\u2501\u2501\u2501\u2501\u2501\u2501\u2501\u2501\u2501\u2501\u2501\u2501\u2501\u2501\u2501\u2501\u2501\u2501\u2501\u2501\u2501\u2501\u2501\u2501\u2501\u2501\u2501\u2501\u2501\u2501\u2501\u2501\u2501 1.1/1.1 MB 220.2 MB/s eta 0:00:00\nCollecting opencv-python-headless>=4.9.0.80\n  Downloading opencv_python_headless-4.11.0.86-cp37-abi3-manylinux_2_17_x86_64.manylinux2014_x86_64.whl (50.0 MB)\n"
          ]
        },
        {
          "output_type": "stream",
          "name": "stdout",
          "text": [
            "     \u2501\u2501\u2501\u2501\u2501\u2501\u2501\u2501\u2501\u2501\u2501\u2501\u2501\u2501\u2501\u2501\u2501\u2501\u2501\u2501\u2501\u2501\u2501\u2501\u2501\u2501\u2501\u2501\u2501\u2501\u2501\u2501\u2501\u2501\u2501\u2501\u2501\u2501\u2501 50.0/50.0 MB 202.0 MB/s eta 0:00:00\nCollecting typing-extensions>=4.12.2\n  Downloading typing_extensions-4.15.0-py3-none-any.whl (44 kB)\n     \u2501\u2501\u2501\u2501\u2501\u2501\u2501\u2501\u2501\u2501\u2501\u2501\u2501\u2501\u2501\u2501\u2501\u2501\u2501\u2501\u2501\u2501\u2501\u2501\u2501\u2501\u2501\u2501\u2501\u2501\u2501\u2501\u2501\u2501\u2501\u2501\u2501\u2501\u2501 44.6/44.6 KB 294.5 MB/s eta 0:00:00\n"
          ]
        },
        {
          "output_type": "stream",
          "name": "stdout",
          "text": [
            "Collecting pydantic-core==2.33.2\n  Downloading pydantic_core-2.33.2-cp311-cp311-manylinux_2_17_x86_64.manylinux2014_x86_64.whl (2.0 MB)\n     \u2501\u2501\u2501\u2501\u2501\u2501\u2501\u2501\u2501\u2501\u2501\u2501\u2501\u2501\u2501\u2501\u2501\u2501\u2501\u2501\u2501\u2501\u2501\u2501\u2501\u2501\u2501\u2501\u2501\u2501\u2501\u2501\u2501\u2501\u2501\u2501\u2501\u2501\u2501\u2501 2.0/2.0 MB 266.8 MB/s eta 0:00:00\nCollecting typing-inspection>=0.4.0\n  Downloading typing_inspection-0.4.1-py3-none-any.whl (14 kB)\nCollecting annotated-types>=0.6.0\n  Downloading annotated_types-0.7.0-py3-none-any.whl (13 kB)\n"
          ]
        },
        {
          "output_type": "stream",
          "name": "stdout",
          "text": [
            "Installing collected packages: simsimd, typing-extensions, stringzilla, PyYAML, numpy, annotated-types, typing-inspection, scipy, pydantic-core, opencv-python-headless, pydantic, albucore, albumentations\n"
          ]
        },
        {
          "output_type": "stream",
          "name": "stderr",
          "text": [
            "ERROR: pip's dependency resolver does not currently take into account all the packages that are installed. This behaviour is the source of the following dependency conflicts.\ntorch 2.8.0 requires nvidia-nvjitlink-cu12==12.8.93; platform_system == \"Linux\" and platform_machine == \"x86_64\", but you have nvidia-nvjitlink-cu12 12.9.86 which is incompatible.\ndatasets 2.21.0 requires fsspec[http]<=2024.6.1,>=2023.1.0, but you have fsspec 2025.9.0 which is incompatible.\n"
          ]
        },
        {
          "output_type": "stream",
          "name": "stdout",
          "text": [
            "Successfully installed PyYAML-6.0.3 albucore-0.0.24 albumentations-2.0.8 annotated-types-0.7.0 numpy-1.26.4 opencv-python-headless-4.11.0.86 pydantic-2.11.9 pydantic-core-2.33.2 scipy-1.16.2 simsimd-6.5.3 stringzilla-4.0.14 typing-extensions-4.15.0 typing-inspection-0.4.1\n"
          ]
        },
        {
          "output_type": "stream",
          "name": "stdout",
          "text": [
            "Fri Sep 26 05:54:40 2025       \n+-----------------------------------------------------------------------------------------+\n| NVIDIA-SMI 550.144.06             Driver Version: 550.144.06     CUDA Version: 12.4     |\n|-----------------------------------------+------------------------+----------------------+\n| GPU  Name                 Persistence-M | Bus-Id          Disp.A | Volatile Uncorr. ECC |\n| Fan  Temp   Perf          Pwr:Usage/Cap |           Memory-Usage | GPU-Util  Compute M. |\n|                                         |                        |               MIG M. |\n|=========================================+========================+======================|\n|   0  NVIDIA A10-24Q                 On  |   00000002:00:00.0 Off |                    0 |\n| N/A   N/A    P0             N/A /  N/A  |     528MiB /  24512MiB |      0%      Default |\n|                                         |                        |                  N/A |\n+-----------------------------------------+------------------------+----------------------+\n                                                                                         \n+-----------------------------------------------------------------------------------------+\n| Processes:                                                                              |\n|  GPU   GI   CI        PID   Type   Process name                              GPU Memory |\n|        ID   ID                                                               Usage      |\n|=========================================================================================|\n+-----------------------------------------------------------------------------------------+\n\nUsing device: cuda\nGPU: NVIDIA A10-24Q\nFull train size: 202\nSubsample size: 50\nLabel distribution:\n[7 8 1 4 3 1 5]\nPos weights: [ 6.142856   5.2499995 48.99995   11.499997  15.666661  48.99995\n  8.999998 ]\n"
          ]
        }
      ]
    },
    {
      "id": "4c8912f7-d682-4818-b8ff-0659ac88fcac",
      "cell_type": "code",
      "metadata": {},
      "source": [
        "class MIPDataset(Dataset):\n",
        "    def __init__(self, df, mip_dir, label_cols, transform=None):\n",
        "        self.df = df\n",
        "        self.mip_dir = mip_dir\n",
        "        self.label_cols = label_cols\n",
        "        self.transform = transform\n",
        "\n",
        "    def __len__(self):\n",
        "        return len(self.df)\n",
        "\n",
        "    def __getitem__(self, idx):\n",
        "        uid = self.df.iloc[idx]['StudyInstanceUID']\n",
        "        mip_path = os.path.join(self.mip_dir, f'{uid}.npy')\n",
        "        mip = np.load(mip_path).astype(np.float32)  # (3, 384, 384)\n",
        "        image = np.transpose(mip, (1, 2, 0))  # (384, 384, 3) for albumentations\n",
        "\n",
        "        labels = self.df.iloc[idx][self.label_cols].values.astype(np.float32)\n",
        "        label = torch.tensor(labels, dtype=torch.float32)\n",
        "\n",
        "        if self.transform:\n",
        "            transformed = self.transform(image=image)\n",
        "            image = transformed['image']\n",
        "        else:\n",
        "            # Manual normalize if no transform\n",
        "            image = (image - 0.5) / 0.5\n",
        "            image = torch.from_numpy(image).permute(2, 0, 1).float()\n",
        "\n",
        "        return image, label\n",
        "\n",
        "# Define transforms (workaround for albumentations: RandomCrop + Resize instead of RandomResizedCrop, light Affine augs)\n",
        "train_transform = A.Compose([\n",
        "    A.RandomCrop(height=384, width=384, p=0.5),\n",
        "    A.Resize(height=384, width=384, p=1.0),\n",
        "    A.HorizontalFlip(p=0.5),\n",
        "    A.ShiftScaleRotate(shift_limit=0.05, scale_limit=0.1, rotate_limit=15, p=0.7),\n",
        "    A.RandomBrightnessContrast(brightness_limit=0.2, contrast_limit=0.2, p=0.5),\n",
        "    A.GaussNoise(var_limit=(1e-5, 5e-4), p=0.1),  # Fixed for [0,1] float images\n",
        "    A.Normalize(mean=0.5, std=0.5),\n",
        "    ToTensorV2()\n",
        "])\n",
        "\n",
        "val_transform = A.Compose([\n",
        "    A.Resize(height=384, width=384, p=1.0),\n",
        "    A.Normalize(mean=0.5, std=0.5),\n",
        "    ToTensorV2()\n",
        "])\n",
        "\n",
        "print('Dataset class and transforms fixed with RandomCrop + Resize workaround successfully')"
      ],
      "execution_count": 9,
      "outputs": [
        {
          "output_type": "stream",
          "name": "stdout",
          "text": [
            "Dataset class and transforms fixed with RandomCrop + Resize workaround successfully\n"
          ]
        }
      ]
    },
    {
      "id": "53278f65-fa3d-4a77-8d97-6c788812bef6",
      "cell_type": "code",
      "metadata": {},
      "source": [
        "def weighted_log_loss(y_true, y_pred):\n",
        "    # Clamp predictions to avoid log(0)\n",
        "    y_pred = np.clip(y_pred, 1e-6, 1 - 1e-6)\n",
        "    \n",
        "    # Log loss for each class\n",
        "    epsilon = 1e-15\n",
        "    y_pred = np.clip(y_pred, epsilon, 1 - epsilon)\n",
        "    loss = -y_true * np.log(y_pred) - (1 - y_true) * np.log(1 - y_pred)\n",
        "    \n",
        "    # Weights: 1 for vertebrae, 2 for overall\n",
        "    weights = np.array([1.0] * 7 + [2.0])\n",
        "    \n",
        "    # Weighted loss: average per class then weighted average\n",
        "    return np.sum(loss.mean(0) * weights) / weights.sum()\n",
        "\n",
        "def weighted_log_loss_torch(y_true_8, y_pred_8):\n",
        "    # Clamp predictions to avoid log(0)\n",
        "    y_pred_8 = torch.clamp(y_pred_8, 1e-6, 1 - 1e-6)\n",
        "    \n",
        "    # Log loss for each class\n",
        "    epsilon = 1e-15\n",
        "    y_pred_8 = torch.clamp(y_pred_8, epsilon, 1 - epsilon)\n",
        "    loss = -y_true_8 * torch.log(y_pred_8) - (1 - y_true_8) * torch.log(1 - y_pred_8)\n",
        "    \n",
        "    # Weights: 1 for vertebrae, 2 for overall\n",
        "    weights = torch.tensor([1.0] * 7 + [2.0], device=y_true_8.device, dtype=torch.float32)\n",
        "    \n",
        "    # Weighted loss: average per class then weighted average\n",
        "    return torch.sum(loss.mean(0) * weights) / weights.sum()\n",
        "\n",
        "# Test the metric\n",
        "y_dummy = np.array([[0,1,0,0,0,0,0,0], [1,0,0,0,0,0,0,1]])\n",
        "p_dummy = np.array([[0.1,0.9,0.1,0.1,0.1,0.1,0.1,0.1], [0.9,0.1,0.1,0.1,0.1,0.1,0.1,0.9]])\n",
        "print(f'Dummy weighted log loss: {weighted_log_loss(y_dummy, p_dummy):.4f}')\n",
        "\n",
        "print('Metrics updated with clamping, weight=2, and correct normalization')"
      ],
      "execution_count": 3,
      "outputs": [
        {
          "output_type": "stream",
          "name": "stdout",
          "text": [
            "Dummy weighted log loss: 0.1054\nMetrics updated with clamping, weight=2, and correct normalization\n"
          ]
        }
      ]
    },
    {
      "id": "fa11b768-b968-465f-b816-0645294f2318",
      "cell_type": "code",
      "metadata": {},
      "source": [
        "import torch.nn.functional as F\n",
        "\n",
        "class SmoothedBCEWithLogitsLoss(nn.Module):\n",
        "    def __init__(self, pos_weight=None, smoothing=0.0):\n",
        "        super(SmoothedBCEWithLogitsLoss, self).__init__()\n",
        "        self.pos_weight = pos_weight\n",
        "        self.smoothing = smoothing\n",
        "\n",
        "    def forward(self, logits, targets):\n",
        "        num_labels = logits.size(1)\n",
        "        smoothing_value = self.smoothing / num_labels\n",
        "        soft_targets = targets * (1.0 - self.smoothing) + smoothing_value\n",
        "        loss = F.binary_cross_entropy_with_logits(logits, soft_targets, pos_weight=self.pos_weight, reduction='mean')\n",
        "        return loss\n",
        "\n",
        "class EarlyStopping:\n",
        "    def __init__(self, patience=5, min_delta=0.001, restore_best_weights=True):\n",
        "        self.patience = patience\n",
        "        self.min_delta = min_delta\n",
        "        self.restore_best_weights = restore_best_weights\n",
        "        self.best_loss = None\n",
        "        self.counter = 0\n",
        "        self.best_weights = None\n",
        "\n",
        "    def __call__(self, val_loss, model):\n",
        "        if self.best_loss is None:\n",
        "            self.best_loss = val_loss\n",
        "            self.save_checkpoint(model)\n",
        "        elif val_loss < self.best_loss - self.min_delta:\n",
        "            self.best_loss = val_loss\n",
        "            self.counter = 0\n",
        "            self.save_checkpoint(model)\n",
        "        else:\n",
        "            self.counter += 1\n",
        "            if self.counter >= self.patience:\n",
        "                if self.restore_best_weights:\n",
        "                    model.load_state_dict(self.best_weights)\n",
        "                return True\n",
        "        return False\n",
        "\n",
        "    def save_checkpoint(self, model):\n",
        "        self.best_weights = model.state_dict().copy()\n",
        "\n",
        "print('Custom SmoothedBCEWithLogitsLoss and EarlyStopping defined successfully')"
      ],
      "execution_count": 4,
      "outputs": [
        {
          "output_type": "stream",
          "name": "stdout",
          "text": [
            "Custom SmoothedBCEWithLogitsLoss and EarlyStopping defined successfully\n"
          ]
        }
      ]
    },
    {
      "id": "a69d3b46-873b-4df2-a012-49b4ef932f18",
      "cell_type": "code",
      "metadata": {},
      "source": [
        "class Model(nn.Module):\n",
        "    def __init__(self, num_classes=7):  # 7 classes for C1-C7\n",
        "        super().__init__()\n",
        "        self.model = timm.create_model('tf_efficientnet_b0_ns', pretrained=True, num_classes=num_classes, in_chans=3, drop_rate=0.3, drop_path_rate=0.1)\n",
        "\n",
        "    def forward(self, x):\n",
        "        return self.model(x)\n",
        "\n",
        "# Create and test model\n",
        "model = Model(num_classes=7).to(device)\n",
        "print('Model created and moved to device')\n",
        "total_params = sum(p.numel() for p in model.parameters())\n",
        "print(f'Model parameters: {total_params:,}')\n",
        "\n",
        "# Dummy forward pass\n",
        "dummy_input = torch.randn(1, 3, 384, 384).to(device)\n",
        "with torch.no_grad():\n",
        "    dummy_logits = model(dummy_input)\n",
        "print(f'Dummy logits shape: {dummy_logits.shape}')  # Should be [1, 7]\n",
        "\n",
        "print('7-class model with dropout=0.3 and drop_path=0.1 defined successfully')"
      ],
      "execution_count": 5,
      "outputs": [
        {
          "output_type": "stream",
          "name": "stdout",
          "text": [
            "Model created and moved to device\nModel parameters: 4,016,515\nDummy logits shape: torch.Size([1, 7])\n7-class model with dropout=0.3 and drop_path=0.1 defined successfully\n"
          ]
        }
      ]
    },
    {
      "id": "4b4d9c8e-1b85-4b4d-883c-0115bce22cf2",
      "cell_type": "code",
      "metadata": {},
      "source": [
        "# Debug training on subsample (40 train / 10 val) - 7-class version\n",
        "from sklearn.model_selection import train_test_split\n",
        "import torch.nn.functional as F\n",
        "\n",
        "# Split subsample\n",
        "train_idx, val_idx = train_test_split(range(len(subsample_df)), test_size=0.2, random_state=42, stratify=None)\n",
        "train_split_df = subsample_df.iloc[train_idx].reset_index(drop=True)\n",
        "val_split_df = subsample_df.iloc[val_idx].reset_index(drop=True)\n",
        "\n",
        "label_cols = ['C1', 'C2', 'C3', 'C4', 'C5', 'C6', 'C7']  # 7 classes\n",
        "\n",
        "# Compute pos_weight for 7 classes only\n",
        "y_train_split = train_split_df[label_cols].values\n",
        "pos = (y_train_split == 1).sum(axis=0)\n",
        "neg = (y_train_split == 0).sum(axis=0)\n",
        "w = np.minimum(neg / (pos + 1e-6), 10.0).astype(np.float32)\n",
        "fold_pos_weight = torch.tensor(w, dtype=torch.float32).to(device)\n",
        "print('Fold pos_weight (7 classes, clip=10):', fold_pos_weight.cpu().numpy())\n",
        "\n",
        "mip_dir = 'data/mips/train'\n",
        "\n",
        "train_ds = MIPDataset(train_split_df, mip_dir, label_cols, train_transform)\n",
        "val_ds = MIPDataset(val_split_df, mip_dir, label_cols, val_transform)\n",
        "train_loader = DataLoader(train_ds, batch_size=16, shuffle=True, num_workers=4, pin_memory=True)\n",
        "val_loader = DataLoader(val_ds, batch_size=16, shuffle=False, num_workers=4, pin_memory=True)\n",
        "\n",
        "# Model (7 classes)\n",
        "model = Model(num_classes=7).to(device)\n",
        "# Bias initialization for 7-class classifier\n",
        "with torch.no_grad():\n",
        "    priors = np.clip((y_train_split.mean(axis=0) + 1e-6), 1e-6, 1-1e-6)\n",
        "    bias = np.log(priors / (1 - priors)).astype(np.float32)\n",
        "    head = model.model.classifier\n",
        "    if hasattr(head, 'bias') and head.bias is not None:\n",
        "        head.bias.copy_(torch.from_numpy(bias).to(head.bias.device))\n",
        "print('Bias initialized for 7 classes')\n",
        "\n",
        "optimizer = optim.AdamW(model.parameters(), lr=1e-4, weight_decay=1e-4)\n",
        "scheduler = optim.lr_scheduler.CosineAnnealingLR(optimizer, T_max=15)\n",
        "criterion = SmoothedBCEWithLogitsLoss(pos_weight=fold_pos_weight, smoothing=0.02)\n",
        "scaler = GradScaler()\n",
        "early_stopping = EarlyStopping(patience=5, min_delta=0.001)\n",
        "\n",
        "# Training loop\n",
        "num_epochs = 15\n",
        "oof_preds_7 = np.zeros((len(val_split_df), 7))\n",
        "oof_overall = np.zeros(len(val_split_df))\n",
        "oof_labels = val_split_df[label_cols].values\n",
        "\n",
        "for epoch in range(num_epochs):\n",
        "    start_time = time.time()\n",
        "    model.train()\n",
        "    train_loss = 0.0\n",
        "    for batch_idx, (images, labels) in enumerate(tqdm(train_loader, desc=f'Epoch {epoch+1}/{num_epochs} Train')):\n",
        "        images = images.to(device)\n",
        "        labels = labels.to(device)  # [bs, 7]\n",
        "        optimizer.zero_grad()\n",
        "        with torch.cuda.amp.autocast():\n",
        "            logits = model(images)  # [bs, 7]\n",
        "            loss = criterion(logits, labels)\n",
        "        scaler.scale(loss).backward()\n",
        "        nn_utils.clip_grad_norm_(model.parameters(), max_norm=1.0)\n",
        "        scaler.step(optimizer)\n",
        "        scaler.update()\n",
        "        train_loss += loss.item() * images.size(0)\n",
        "    train_loss /= len(train_ds)\n",
        "    scheduler.step()\n",
        "\n",
        "    # Validation\n",
        "    model.eval()\n",
        "    val_loss = 0.0\n",
        "    val_weighted_loss = 0.0\n",
        "    with torch.no_grad():\n",
        "        for batch_idx, (images, labels) in enumerate(tqdm(val_loader, desc='Val')):\n",
        "            images = images.to(device)\n",
        "            labels7 = labels.to(device)\n",
        "            logits = model(images)\n",
        "            bce_loss = criterion(logits, labels7)\n",
        "            val_loss += bce_loss.item() * images.size(0)\n",
        "            probs7 = torch.sigmoid(logits)\n",
        "            probs_overall = probs7.max(dim=1, keepdim=True)[0]\n",
        "            labels_overall = labels7.max(dim=1, keepdim=True)[0]\n",
        "            probs8 = torch.cat([probs7, probs_overall], dim=1)\n",
        "            labels8 = torch.cat([labels7, labels_overall], dim=1)\n",
        "            weighted_l = weighted_log_loss_torch(labels8, probs8)\n",
        "            val_weighted_loss += weighted_l.item() * images.size(0)\n",
        "            bs = images.size(0)\n",
        "            oof_preds_7[batch_idx*bs:(batch_idx+1)*bs] = probs7.cpu().numpy()\n",
        "            oof_overall[batch_idx*bs:(batch_idx+1)*bs] = probs_overall.squeeze(1).cpu().numpy()\n",
        "    val_loss /= len(val_ds)\n",
        "    val_weighted_loss /= len(val_ds)\n",
        "    epoch_time = time.time() - start_time\n",
        "    print(f'Epoch {epoch+1}: Train BCE={train_loss:.4f}, Val BCE={val_loss:.4f}, Val Weighted Log Loss={val_weighted_loss:.4f}, Time={epoch_time:.1f}s')\n",
        "\n",
        "    # Early stopping on weighted loss\n",
        "    if early_stopping(val_weighted_loss, model):\n",
        "        print(f'Early stopping at epoch {epoch+1}')\n",
        "        break\n",
        "\n",
        "# After early stopping, best weights are restored. Run final val pass to collect OOF from best weights\n",
        "model.eval()\n",
        "oof_preds_7.fill(0)\n",
        "oof_overall.fill(0)\n",
        "with torch.no_grad():\n",
        "    for batch_idx, (images, labels) in enumerate(tqdm(val_loader, desc='Final Val for OOF')):\n",
        "        images = images.to(device)\n",
        "        labels7 = labels.to(device)\n",
        "        logits = model(images)\n",
        "        probs7 = torch.sigmoid(logits)\n",
        "        probs_overall = probs7.max(dim=1, keepdim=True)[0]\n",
        "        bs = images.size(0)\n",
        "        oof_preds_7[batch_idx*bs:(batch_idx+1)*bs] = probs7.cpu().numpy()\n",
        "        oof_overall[batch_idx*bs:(batch_idx+1)*bs] = probs_overall.squeeze(1).cpu().numpy()\n",
        "\n",
        "# Final OOF weighted loss\n",
        "oof_preds_8 = np.column_stack([oof_preds_7, oof_overall])\n",
        "oof_labels_8 = np.column_stack([oof_labels, np.max(oof_labels, axis=1)])\n",
        "final_oof_loss = weighted_log_loss(oof_labels_8, oof_preds_8)\n",
        "print(f'Final OOF Weighted Log Loss on val: {final_oof_loss:.4f}')\n",
        "\n",
        "# Save model\n",
        "torch.save(model.state_dict(), 'debug_model.pth')\n",
        "print('Debug 7-class training completed, model saved')"
      ],
      "execution_count": null,
      "outputs": []
    },
    {
      "id": "aefff599-813e-4b7f-88d4-905eacdff2da",
      "cell_type": "code",
      "metadata": {},
      "source": [
        "from iterstrat.ml_stratifiers import MultilabelStratifiedKFold\n",
        "from torch.optim.lr_scheduler import ReduceLROnPlateau\n",
        "import torch.nn.functional as F\n",
        "from torch.utils.data import WeightedRandomSampler\n",
        "\n",
        "# Full 5-fold CV on entire training set - 7-class version (tweaked for poor CV: smoothing=0.0, lr=2e-5, sampler cap=3.0, pos_weight clip=2.0)\n",
        "full_train_df = pd.read_csv('data/train_mips.csv')\n",
        "print(f'Full CV on {len(full_train_df)} samples')\n",
        "\n",
        "n_folds = 5\n",
        "label_cols = ['C1', 'C2', 'C3', 'C4', 'C5', 'C6', 'C7']\n",
        "y_full = full_train_df[label_cols].values\n",
        "mip_dir = 'data/mips/train'\n",
        "\n",
        "skf = MultilabelStratifiedKFold(n_splits=n_folds, shuffle=True, random_state=42)\n",
        "splits = list(skf.split(full_train_df, y_full))\n",
        "\n",
        "oof_preds_full = np.zeros((len(full_train_df), 7), dtype=np.float32)\n",
        "oof_overall_full = np.zeros(len(full_train_df), dtype=np.float32)\n",
        "fold_scores = []\n",
        "\n",
        "for fold, (train_idx, val_idx) in enumerate(splits):\n",
        "    print(f'\\n=== Fold {fold+1}/{n_folds} ===')\n",
        "    train_fold_df = full_train_df.iloc[train_idx].reset_index(drop=True)\n",
        "    val_fold_df = full_train_df.iloc[val_idx].reset_index(drop=True)\n",
        "    print(f'Train: {len(train_fold_df)}, Val: {len(val_fold_df)}')\n",
        "\n",
        "    # Fold pos_weight (clip=2.0)\n",
        "    y_train_fold = train_fold_df[label_cols].values\n",
        "    pos = (y_train_fold == 1).sum(axis=0)\n",
        "    neg = (y_train_fold == 0).sum(axis=0)\n",
        "    w = np.minimum(neg / (pos + 1e-6), 2.0).astype(np.float32)\n",
        "    fold_pos_weight = torch.tensor(w, dtype=torch.float32).to(device)\n",
        "    print('Fold pos_weight (clip=2):', w)\n",
        "\n",
        "    # WeightedRandomSampler: per-sample weight from class rarity (multi-label safe, cap=3.0)\n",
        "    class_rarity = np.minimum(neg / (pos + 1e-6), 10.0).astype(np.float32)\n",
        "    sample_weight = (y_train_fold * class_rarity).max(axis=1)\n",
        "    sample_weight = np.where(sample_weight > 0, sample_weight, 1.0)\n",
        "    sample_weight = np.sqrt(sample_weight)              # soften extremes\n",
        "    sample_weight = np.clip(sample_weight, 1.0, 3.0)    # cap reduced to 3.0\n",
        "    sampler = WeightedRandomSampler(\n",
        "        weights=torch.from_numpy(sample_weight),\n",
        "        num_samples=len(sample_weight),\n",
        "        replacement=True\n",
        "    )\n",
        "\n",
        "    # Datasets/loaders\n",
        "    train_ds = MIPDataset(train_fold_df, mip_dir, label_cols, train_transform)\n",
        "    val_ds = MIPDataset(val_fold_df, mip_dir, label_cols, val_transform)\n",
        "    train_loader = DataLoader(train_ds, batch_size=16, sampler=sampler, num_workers=4, pin_memory=True, drop_last=False)\n",
        "    val_loader = DataLoader(val_ds, batch_size=16, shuffle=False, num_workers=4, pin_memory=True, drop_last=False)\n",
        "\n",
        "    # Model with dropout\n",
        "    model = Model(num_classes=7).to(device)\n",
        "\n",
        "    # Bias init from priors\n",
        "    with torch.no_grad():\n",
        "        priors = np.clip(y_train_fold.mean(axis=0) + 1e-6, 1e-6, 1-1e-6)\n",
        "        bias = np.log(priors / (1 - priors)).astype(np.float32)\n",
        "        head = model.model.classifier\n",
        "        if hasattr(head, 'bias') and head.bias is not None:\n",
        "            head.bias.copy_(torch.from_numpy(bias).to(head.bias.device))\n",
        "    print('Bias initialized for 7 classes')\n",
        "\n",
        "    optimizer = optim.AdamW(model.parameters(), lr=2e-5, weight_decay=1e-4)\n",
        "    scheduler = ReduceLROnPlateau(optimizer, mode='min', factor=0.5, patience=2, verbose=True, min_lr=1e-6)\n",
        "    criterion = SmoothedBCEWithLogitsLoss(pos_weight=fold_pos_weight, smoothing=0.0)\n",
        "    scaler = GradScaler()\n",
        "    early_stopping = EarlyStopping(patience=5, min_delta=0.001)\n",
        "\n",
        "    num_epochs = 15\n",
        "    for epoch in range(num_epochs):\n",
        "        model.train()\n",
        "        train_loss = 0.0\n",
        "        for images, labels in tqdm(train_loader, desc=f'Epoch {epoch+1}/{num_epochs} Train'):\n",
        "            images = images.to(device)\n",
        "            labels7 = labels.to(device)\n",
        "            optimizer.zero_grad(set_to_none=True)\n",
        "            with torch.cuda.amp.autocast():\n",
        "                logits = model(images)\n",
        "                loss = criterion(logits, labels7)\n",
        "            scaler.scale(loss).backward()\n",
        "            nn_utils.clip_grad_norm_(model.parameters(), max_norm=1.0)\n",
        "            scaler.step(optimizer)\n",
        "            scaler.update()\n",
        "            train_loss += loss.item() * images.size(0)\n",
        "        train_loss /= len(train_ds)\n",
        "\n",
        "        # Validation\n",
        "        model.eval()\n",
        "        val_bce = 0.0\n",
        "        val_weighted_loss = 0.0\n",
        "        with torch.no_grad():\n",
        "            for images, labels in tqdm(val_loader, desc='Val'):\n",
        "                images = images.to(device)\n",
        "                labels7 = labels.to(device)\n",
        "                logits = model(images)\n",
        "                bce_loss = criterion(logits, labels7)\n",
        "                val_bce += bce_loss.item() * images.size(0)\n",
        "\n",
        "                probs7 = torch.sigmoid(logits)\n",
        "                probs_overall = probs7.max(dim=1, keepdim=True)[0]\n",
        "                labels_overall = labels7.max(dim=1, keepdim=True)[0]\n",
        "                probs8 = torch.cat([probs7, probs_overall], dim=1)\n",
        "                labels8 = torch.cat([labels7, labels_overall], dim=1)\n",
        "                weighted_l = weighted_log_loss_torch(labels8, probs8)\n",
        "                val_weighted_loss += weighted_l.item() * images.size(0)\n",
        "        val_bce /= len(val_ds)\n",
        "        val_weighted_loss /= len(val_ds)\n",
        "\n",
        "        scheduler.step(val_weighted_loss)\n",
        "        current_lr = optimizer.param_groups[0]['lr']\n",
        "        print(f'Epoch {epoch+1}: Train BCE={train_loss:.4f}, Val BCE={val_bce:.4f}, Val WLL={val_weighted_loss:.4f}, LR={current_lr:.2e}')\n",
        "\n",
        "        if early_stopping(val_weighted_loss, model):\n",
        "            print(f'Early stopping at epoch {epoch+1}')\n",
        "            break\n",
        "\n",
        "    # Final val pass with best weights -> collect OOF (fixed indexing)\n",
        "    model.eval()\n",
        "    fold_oof_preds_7 = np.zeros((len(val_fold_df), 7), dtype=np.float32)\n",
        "    fold_oof_overall = np.zeros(len(val_fold_df), dtype=np.float32)\n",
        "    start = 0\n",
        "    with torch.no_grad():\n",
        "        for images, _ in tqdm(val_loader, desc='Final Val for OOF'):\n",
        "            images = images.to(device)\n",
        "            logits = model(images)\n",
        "            probs7 = torch.sigmoid(logits).cpu().numpy()\n",
        "            probs_overall = probs7.max(axis=1)\n",
        "            bs = images.size(0)\n",
        "            fold_oof_preds_7[start:start+bs] = probs7\n",
        "            fold_oof_overall[start:start+bs] = probs_overall\n",
        "            start += bs\n",
        "\n",
        "    # Fold OOF score\n",
        "    fold_oof_labels = val_fold_df[label_cols].values\n",
        "    fold_oof_preds_8 = np.column_stack([fold_oof_preds_7, fold_oof_overall])\n",
        "    fold_oof_labels_8 = np.column_stack([fold_oof_labels, np.max(fold_oof_labels, axis=1)])\n",
        "    fold_score = weighted_log_loss(fold_oof_labels_8, fold_oof_preds_8)\n",
        "    print(f'Fold {fold+1} OOF Weighted Log Loss: {fold_score:.4f}')\n",
        "    fold_scores.append(fold_score)\n",
        "\n",
        "    # Save into global OOF\n",
        "    oof_preds_full[val_idx] = fold_oof_preds_7\n",
        "    oof_overall_full[val_idx] = fold_oof_overall\n",
        "\n",
        "    torch.save(model.state_dict(), f'fold_{fold+1}_model.pth')\n",
        "\n",
        "# Overall CV\n",
        "cv_mean = float(np.mean(fold_scores))\n",
        "cv_std = float(np.std(fold_scores))\n",
        "print(f'\\nCV Mean Weighted Log Loss: {cv_mean:.4f} +/- {cv_std:.4f}')\n",
        "\n",
        "# Full OOF score\n",
        "oof_preds_8_full = np.column_stack([oof_preds_full, oof_overall_full])\n",
        "oof_labels_8_full = np.column_stack([y_full, np.max(y_full, axis=1)])\n",
        "full_oof_loss = weighted_log_loss(oof_labels_8_full, oof_preds_8_full)\n",
        "print(f'Full OOF Weighted Log Loss: {full_oof_loss:.4f}')\n",
        "\n",
        "# Save OOF\n",
        "oof_df = full_train_df[['StudyInstanceUID']].copy()\n",
        "oof_df[label_cols] = oof_preds_full\n",
        "oof_df['patient_overall'] = oof_overall_full\n",
        "oof_df.to_csv('oof_predictions.csv', index=False)\n",
        "print('Full 7-class CV completed with tweaks, OOF saved to oof_predictions.csv')"
      ],
      "execution_count": 10,
      "outputs": [
        {
          "output_type": "stream",
          "name": "stdout",
          "text": [
            "Full CV on 202 samples\n\n=== Fold 1/5 ===\nTrain: 162, Val: 40\nFold pos_weight (clip=2): [2. 2. 2. 2. 2. 2. 2.]\n"
          ]
        },
        {
          "output_type": "stream",
          "name": "stdout",
          "text": [
            "Bias initialized for 7 classes\n"
          ]
        },
        {
          "output_type": "stream",
          "name": "stderr",
          "text": [
            "\rEpoch 1/15 Train:   0%|          | 0/11 [00:00<?, ?it/s]"
          ]
        },
        {
          "output_type": "stream",
          "name": "stderr",
          "text": [
            "\rEpoch 1/15 Train:   9%|\u2589         | 1/11 [00:00<00:02,  3.46it/s]"
          ]
        },
        {
          "output_type": "stream",
          "name": "stderr",
          "text": [
            "\rEpoch 1/15 Train:  27%|\u2588\u2588\u258b       | 3/11 [00:00<00:00,  8.55it/s]"
          ]
        },
        {
          "output_type": "stream",
          "name": "stderr",
          "text": [
            "\rEpoch 1/15 Train:  45%|\u2588\u2588\u2588\u2588\u258c     | 5/11 [00:00<00:00, 11.83it/s]"
          ]
        },
        {
          "output_type": "stream",
          "name": "stderr",
          "text": [
            "\rEpoch 1/15 Train:  64%|\u2588\u2588\u2588\u2588\u2588\u2588\u258e   | 7/11 [00:00<00:00, 13.98it/s]"
          ]
        },
        {
          "output_type": "stream",
          "name": "stderr",
          "text": [
            "\rEpoch 1/15 Train:  82%|\u2588\u2588\u2588\u2588\u2588\u2588\u2588\u2588\u258f | 9/11 [00:00<00:00, 15.40it/s]"
          ]
        },
        {
          "output_type": "stream",
          "name": "stderr",
          "text": [
            "\rEpoch 1/15 Train: 100%|\u2588\u2588\u2588\u2588\u2588\u2588\u2588\u2588\u2588\u2588| 11/11 [00:00<00:00, 12.97it/s]"
          ]
        },
        {
          "output_type": "stream",
          "name": "stderr",
          "text": [
            "\n"
          ]
        },
        {
          "output_type": "stream",
          "name": "stderr",
          "text": [
            "\rVal:   0%|          | 0/3 [00:00<?, ?it/s]"
          ]
        },
        {
          "output_type": "stream",
          "name": "stderr",
          "text": [
            "\rVal:  33%|\u2588\u2588\u2588\u258e      | 1/3 [00:00<00:00,  4.77it/s]"
          ]
        },
        {
          "output_type": "stream",
          "name": "stderr",
          "text": [
            "\rVal: 100%|\u2588\u2588\u2588\u2588\u2588\u2588\u2588\u2588\u2588\u2588| 3/3 [00:00<00:00, 10.29it/s]"
          ]
        },
        {
          "output_type": "stream",
          "name": "stderr",
          "text": [
            "\n"
          ]
        },
        {
          "output_type": "stream",
          "name": "stdout",
          "text": [
            "Epoch 1: Train BCE=0.9521, Val BCE=0.5961, Val WLL=0.4606, LR=2.00e-05\n"
          ]
        },
        {
          "output_type": "stream",
          "name": "stderr",
          "text": [
            "\rEpoch 2/15 Train:   0%|          | 0/11 [00:00<?, ?it/s]"
          ]
        },
        {
          "output_type": "stream",
          "name": "stderr",
          "text": [
            "\rEpoch 2/15 Train:   9%|\u2589         | 1/11 [00:00<00:03,  3.33it/s]"
          ]
        },
        {
          "output_type": "stream",
          "name": "stderr",
          "text": [
            "\rEpoch 2/15 Train:  27%|\u2588\u2588\u258b       | 3/11 [00:00<00:00,  8.40it/s]"
          ]
        },
        {
          "output_type": "stream",
          "name": "stderr",
          "text": [
            "\rEpoch 2/15 Train:  45%|\u2588\u2588\u2588\u2588\u258c     | 5/11 [00:00<00:00, 11.68it/s]"
          ]
        },
        {
          "output_type": "stream",
          "name": "stderr",
          "text": [
            "\rEpoch 2/15 Train:  64%|\u2588\u2588\u2588\u2588\u2588\u2588\u258e   | 7/11 [00:00<00:00, 13.86it/s]"
          ]
        },
        {
          "output_type": "stream",
          "name": "stderr",
          "text": [
            "\rEpoch 2/15 Train:  82%|\u2588\u2588\u2588\u2588\u2588\u2588\u2588\u2588\u258f | 9/11 [00:00<00:00, 15.31it/s]"
          ]
        },
        {
          "output_type": "stream",
          "name": "stderr",
          "text": [
            "\rEpoch 2/15 Train: 100%|\u2588\u2588\u2588\u2588\u2588\u2588\u2588\u2588\u2588\u2588| 11/11 [00:00<00:00, 12.77it/s]"
          ]
        },
        {
          "output_type": "stream",
          "name": "stderr",
          "text": [
            "\n"
          ]
        },
        {
          "output_type": "stream",
          "name": "stderr",
          "text": [
            "\rVal:   0%|          | 0/3 [00:00<?, ?it/s]"
          ]
        },
        {
          "output_type": "stream",
          "name": "stderr",
          "text": [
            "\rVal:  33%|\u2588\u2588\u2588\u258e      | 1/3 [00:00<00:00,  5.06it/s]"
          ]
        },
        {
          "output_type": "stream",
          "name": "stderr",
          "text": [
            "\rVal: 100%|\u2588\u2588\u2588\u2588\u2588\u2588\u2588\u2588\u2588\u2588| 3/3 [00:00<00:00, 10.78it/s]"
          ]
        },
        {
          "output_type": "stream",
          "name": "stderr",
          "text": [
            "\n"
          ]
        },
        {
          "output_type": "stream",
          "name": "stdout",
          "text": [
            "Epoch 2: Train BCE=0.8939, Val BCE=0.5939, Val WLL=0.4423, LR=2.00e-05\n"
          ]
        },
        {
          "output_type": "stream",
          "name": "stderr",
          "text": [
            "\rEpoch 3/15 Train:   0%|          | 0/11 [00:00<?, ?it/s]"
          ]
        },
        {
          "output_type": "stream",
          "name": "stderr",
          "text": [
            "\rEpoch 3/15 Train:   9%|\u2589         | 1/11 [00:00<00:03,  3.32it/s]"
          ]
        },
        {
          "output_type": "stream",
          "name": "stderr",
          "text": [
            "\rEpoch 3/15 Train:  27%|\u2588\u2588\u258b       | 3/11 [00:00<00:00,  8.41it/s]"
          ]
        },
        {
          "output_type": "stream",
          "name": "stderr",
          "text": [
            "\rEpoch 3/15 Train:  45%|\u2588\u2588\u2588\u2588\u258c     | 5/11 [00:00<00:00, 11.71it/s]"
          ]
        },
        {
          "output_type": "stream",
          "name": "stderr",
          "text": [
            "\rEpoch 3/15 Train:  64%|\u2588\u2588\u2588\u2588\u2588\u2588\u258e   | 7/11 [00:00<00:00, 13.87it/s]"
          ]
        },
        {
          "output_type": "stream",
          "name": "stderr",
          "text": [
            "\rEpoch 3/15 Train:  82%|\u2588\u2588\u2588\u2588\u2588\u2588\u2588\u2588\u258f | 9/11 [00:00<00:00, 15.32it/s]"
          ]
        },
        {
          "output_type": "stream",
          "name": "stderr",
          "text": [
            "\rEpoch 3/15 Train: 100%|\u2588\u2588\u2588\u2588\u2588\u2588\u2588\u2588\u2588\u2588| 11/11 [00:00<00:00, 12.80it/s]"
          ]
        },
        {
          "output_type": "stream",
          "name": "stderr",
          "text": [
            "\n"
          ]
        },
        {
          "output_type": "stream",
          "name": "stderr",
          "text": [
            "\rVal:   0%|          | 0/3 [00:00<?, ?it/s]"
          ]
        },
        {
          "output_type": "stream",
          "name": "stderr",
          "text": [
            "\rVal:  33%|\u2588\u2588\u2588\u258e      | 1/3 [00:00<00:00,  4.74it/s]"
          ]
        },
        {
          "output_type": "stream",
          "name": "stderr",
          "text": [
            "\rVal: 100%|\u2588\u2588\u2588\u2588\u2588\u2588\u2588\u2588\u2588\u2588| 3/3 [00:00<00:00, 10.31it/s]"
          ]
        },
        {
          "output_type": "stream",
          "name": "stderr",
          "text": [
            "\n"
          ]
        },
        {
          "output_type": "stream",
          "name": "stdout",
          "text": [
            "Epoch 3: Train BCE=0.9399, Val BCE=0.5784, Val WLL=0.4463, LR=2.00e-05\n"
          ]
        },
        {
          "output_type": "stream",
          "name": "stderr",
          "text": [
            "\rEpoch 4/15 Train:   0%|          | 0/11 [00:00<?, ?it/s]"
          ]
        },
        {
          "output_type": "stream",
          "name": "stderr",
          "text": [
            "\rEpoch 4/15 Train:   9%|\u2589         | 1/11 [00:00<00:02,  3.37it/s]"
          ]
        },
        {
          "output_type": "stream",
          "name": "stderr",
          "text": [
            "\rEpoch 4/15 Train:  27%|\u2588\u2588\u258b       | 3/11 [00:00<00:00,  8.53it/s]"
          ]
        },
        {
          "output_type": "stream",
          "name": "stderr",
          "text": [
            "\rEpoch 4/15 Train:  45%|\u2588\u2588\u2588\u2588\u258c     | 5/11 [00:00<00:00, 11.80it/s]"
          ]
        },
        {
          "output_type": "stream",
          "name": "stderr",
          "text": [
            "\rEpoch 4/15 Train:  64%|\u2588\u2588\u2588\u2588\u2588\u2588\u258e   | 7/11 [00:00<00:00, 13.94it/s]"
          ]
        },
        {
          "output_type": "stream",
          "name": "stderr",
          "text": [
            "\rEpoch 4/15 Train:  82%|\u2588\u2588\u2588\u2588\u2588\u2588\u2588\u2588\u258f | 9/11 [00:00<00:00, 15.39it/s]"
          ]
        },
        {
          "output_type": "stream",
          "name": "stderr",
          "text": [
            "\rEpoch 4/15 Train: 100%|\u2588\u2588\u2588\u2588\u2588\u2588\u2588\u2588\u2588\u2588| 11/11 [00:00<00:00, 12.86it/s]"
          ]
        },
        {
          "output_type": "stream",
          "name": "stderr",
          "text": [
            "\n"
          ]
        },
        {
          "output_type": "stream",
          "name": "stderr",
          "text": [
            "\rVal:   0%|          | 0/3 [00:00<?, ?it/s]"
          ]
        },
        {
          "output_type": "stream",
          "name": "stderr",
          "text": [
            "\rVal:  33%|\u2588\u2588\u2588\u258e      | 1/3 [00:00<00:00,  4.75it/s]"
          ]
        },
        {
          "output_type": "stream",
          "name": "stderr",
          "text": [
            "\rVal: 100%|\u2588\u2588\u2588\u2588\u2588\u2588\u2588\u2588\u2588\u2588| 3/3 [00:00<00:00, 10.25it/s]"
          ]
        },
        {
          "output_type": "stream",
          "name": "stderr",
          "text": [
            "\n"
          ]
        },
        {
          "output_type": "stream",
          "name": "stdout",
          "text": [
            "Epoch 4: Train BCE=0.8447, Val BCE=0.5730, Val WLL=0.4541, LR=2.00e-05\n"
          ]
        },
        {
          "output_type": "stream",
          "name": "stderr",
          "text": [
            "\rEpoch 5/15 Train:   0%|          | 0/11 [00:00<?, ?it/s]"
          ]
        },
        {
          "output_type": "stream",
          "name": "stderr",
          "text": [
            "\rEpoch 5/15 Train:   9%|\u2589         | 1/11 [00:00<00:02,  3.41it/s]"
          ]
        },
        {
          "output_type": "stream",
          "name": "stderr",
          "text": [
            "\rVal:  33%|\u2588\u2588\u2588\u258e      | 1/3 [00:00<00:00,  4.44it/s]"
          ]
        },
        {
          "output_type": "stream",
          "name": "stderr",
          "text": [
            "\rVal: 100%|\u2588\u2588\u2588\u2588\u2588\u2588\u2588\u2588\u2588\u2588| 3/3 [00:00<00:00,  9.79it/s]"
          ]
        },
        {
          "output_type": "stream",
          "name": "stderr",
          "text": [
            "\n"
          ]
        },
        {
          "output_type": "stream",
          "name": "stdout",
          "text": [
            "Epoch 5: Train BCE=0.8531, Val BCE=0.5979, Val WLL=0.4461, LR=1.00e-05\n"
          ]
        },
        {
          "output_type": "stream",
          "name": "stderr",
          "text": [
            "\rEpoch 6/15 Train:   0%|          | 0/11 [00:00<?, ?it/s]"
          ]
        },
        {
          "output_type": "stream",
          "name": "stderr",
          "text": [
            "\rEpoch 6/15 Train:   9%|\u2589         | 1/11 [00:00<00:02,  3.48it/s]"
          ]
        },
        {
          "output_type": "stream",
          "name": "stderr",
          "text": [
            "\rEpoch 6/15 Train:  27%|\u2588\u2588\u258b       | 3/11 [00:00<00:00,  8.66it/s]"
          ]
        },
        {
          "output_type": "stream",
          "name": "stderr",
          "text": [
            "\rEpoch 6/15 Train:  45%|\u2588\u2588\u2588\u2588\u258c     | 5/11 [00:00<00:00, 11.93it/s]"
          ]
        },
        {
          "output_type": "stream",
          "name": "stderr",
          "text": [
            "\rEpoch 6/15 Train:  64%|\u2588\u2588\u2588\u2588\u2588\u2588\u258e   | 7/11 [00:00<00:00, 14.07it/s]"
          ]
        },
        {
          "output_type": "stream",
          "name": "stderr",
          "text": [
            "\rEpoch 6/15 Train:  82%|\u2588\u2588\u2588\u2588\u2588\u2588\u2588\u2588\u258f | 9/11 [00:00<00:00, 15.50it/s]"
          ]
        },
        {
          "output_type": "stream",
          "name": "stderr",
          "text": [
            "\rEpoch 6/15 Train: 100%|\u2588\u2588\u2588\u2588\u2588\u2588\u2588\u2588\u2588\u2588| 11/11 [00:00<00:00, 13.07it/s]"
          ]
        },
        {
          "output_type": "stream",
          "name": "stderr",
          "text": [
            "\n"
          ]
        },
        {
          "output_type": "stream",
          "name": "stderr",
          "text": [
            "\rVal:   0%|          | 0/3 [00:00<?, ?it/s]"
          ]
        },
        {
          "output_type": "stream",
          "name": "stderr",
          "text": [
            "\rVal:  33%|\u2588\u2588\u2588\u258e      | 1/3 [00:00<00:00,  4.73it/s]"
          ]
        },
        {
          "output_type": "stream",
          "name": "stderr",
          "text": [
            "\rVal: 100%|\u2588\u2588\u2588\u2588\u2588\u2588\u2588\u2588\u2588\u2588| 3/3 [00:00<00:00, 10.38it/s]"
          ]
        },
        {
          "output_type": "stream",
          "name": "stderr",
          "text": [
            "\n"
          ]
        },
        {
          "output_type": "stream",
          "name": "stdout",
          "text": [
            "Epoch 6: Train BCE=0.7937, Val BCE=0.6803, Val WLL=0.4768, LR=1.00e-05\n"
          ]
        },
        {
          "output_type": "stream",
          "name": "stderr",
          "text": [
            "\rEpoch 7/15 Train:   0%|          | 0/11 [00:00<?, ?it/s]"
          ]
        },
        {
          "output_type": "stream",
          "name": "stderr",
          "text": [
            "\rEpoch 7/15 Train:   9%|\u2589         | 1/11 [00:00<00:03,  3.26it/s]"
          ]
        },
        {
          "output_type": "stream",
          "name": "stderr",
          "text": [
            "\rEpoch 7/15 Train:  27%|\u2588\u2588\u258b       | 3/11 [00:00<00:00,  8.27it/s]"
          ]
        },
        {
          "output_type": "stream",
          "name": "stderr",
          "text": [
            "\rEpoch 7/15 Train:  45%|\u2588\u2588\u2588\u2588\u258c     | 5/11 [00:00<00:00, 11.56it/s]"
          ]
        },
        {
          "output_type": "stream",
          "name": "stderr",
          "text": [
            "\rEpoch 7/15 Train:  64%|\u2588\u2588\u2588\u2588\u2588\u2588\u258e   | 7/11 [00:00<00:00, 13.74it/s]"
          ]
        },
        {
          "output_type": "stream",
          "name": "stderr",
          "text": [
            "\rEpoch 7/15 Train:  82%|\u2588\u2588\u2588\u2588\u2588\u2588\u2588\u2588\u258f | 9/11 [00:00<00:00, 15.22it/s]"
          ]
        },
        {
          "output_type": "stream",
          "name": "stderr",
          "text": [
            "\rEpoch 7/15 Train: 100%|\u2588\u2588\u2588\u2588\u2588\u2588\u2588\u2588\u2588\u2588| 11/11 [00:00<00:00, 12.66it/s]"
          ]
        },
        {
          "output_type": "stream",
          "name": "stderr",
          "text": [
            "\n"
          ]
        },
        {
          "output_type": "stream",
          "name": "stderr",
          "text": [
            "\rVal:   0%|          | 0/3 [00:00<?, ?it/s]"
          ]
        },
        {
          "output_type": "stream",
          "name": "stderr",
          "text": [
            "\rVal:  33%|\u2588\u2588\u2588\u258e      | 1/3 [00:00<00:00,  4.61it/s]"
          ]
        },
        {
          "output_type": "stream",
          "name": "stderr",
          "text": [
            "\rVal: 100%|\u2588\u2588\u2588\u2588\u2588\u2588\u2588\u2588\u2588\u2588| 3/3 [00:00<00:00, 10.28it/s]"
          ]
        },
        {
          "output_type": "stream",
          "name": "stderr",
          "text": [
            "\n"
          ]
        },
        {
          "output_type": "stream",
          "name": "stdout",
          "text": [
            "Epoch 7: Train BCE=0.8138, Val BCE=0.7125, Val WLL=0.4953, LR=1.00e-05\nEarly stopping at epoch 7\n"
          ]
        },
        {
          "output_type": "stream",
          "name": "stderr",
          "text": [
            "\rFinal Val for OOF:   0%|          | 0/3 [00:00<?, ?it/s]"
          ]
        },
        {
          "output_type": "stream",
          "name": "stderr",
          "text": [
            "\rFinal Val for OOF:  33%|\u2588\u2588\u2588\u258e      | 1/3 [00:00<00:00,  4.48it/s]"
          ]
        },
        {
          "output_type": "stream",
          "name": "stderr",
          "text": [
            "\rFinal Val for OOF: 100%|\u2588\u2588\u2588\u2588\u2588\u2588\u2588\u2588\u2588\u2588| 3/3 [00:00<00:00, 10.02it/s]"
          ]
        },
        {
          "output_type": "stream",
          "name": "stderr",
          "text": [
            "\n"
          ]
        },
        {
          "output_type": "stream",
          "name": "stdout",
          "text": [
            "Fold 1 OOF Weighted Log Loss: 0.4953\n\n=== Fold 2/5 ===\nTrain: 162, Val: 40\nFold pos_weight (clip=2): [2. 2. 2. 2. 2. 2. 2.]\nBias initialized for 7 classes\n"
          ]
        },
        {
          "output_type": "stream",
          "name": "stderr",
          "text": [
            "\rEpoch 1/15 Train:   0%|          | 0/11 [00:00<?, ?it/s]"
          ]
        },
        {
          "output_type": "stream",
          "name": "stderr",
          "text": [
            "\rEpoch 1/15 Train:   9%|\u2589         | 1/11 [00:00<00:02,  3.35it/s]"
          ]
        },
        {
          "output_type": "stream",
          "name": "stderr",
          "text": [
            "\rEpoch 1/15 Train:  27%|\u2588\u2588\u258b       | 3/11 [00:00<00:00,  8.22it/s]"
          ]
        },
        {
          "output_type": "stream",
          "name": "stderr",
          "text": [
            "\rEpoch 1/15 Train:  45%|\u2588\u2588\u2588\u2588\u258c     | 5/11 [00:00<00:00, 11.52it/s]"
          ]
        },
        {
          "output_type": "stream",
          "name": "stderr",
          "text": [
            "\rEpoch 1/15 Train:  64%|\u2588\u2588\u2588\u2588\u2588\u2588\u258e   | 7/11 [00:00<00:00, 13.72it/s]"
          ]
        },
        {
          "output_type": "stream",
          "name": "stderr",
          "text": [
            "\rEpoch 1/15 Train:  82%|\u2588\u2588\u2588\u2588\u2588\u2588\u2588\u2588\u258f | 9/11 [00:00<00:00, 15.20it/s]"
          ]
        },
        {
          "output_type": "stream",
          "name": "stderr",
          "text": [
            "\rEpoch 1/15 Train: 100%|\u2588\u2588\u2588\u2588\u2588\u2588\u2588\u2588\u2588\u2588| 11/11 [00:00<00:00, 12.64it/s]"
          ]
        },
        {
          "output_type": "stream",
          "name": "stderr",
          "text": [
            "\n"
          ]
        },
        {
          "output_type": "stream",
          "name": "stderr",
          "text": [
            "\rVal:   0%|          | 0/3 [00:00<?, ?it/s]"
          ]
        },
        {
          "output_type": "stream",
          "name": "stderr",
          "text": [
            "\rVal:  33%|\u2588\u2588\u2588\u258e      | 1/3 [00:00<00:00,  4.75it/s]"
          ]
        },
        {
          "output_type": "stream",
          "name": "stderr",
          "text": [
            "\rVal: 100%|\u2588\u2588\u2588\u2588\u2588\u2588\u2588\u2588\u2588\u2588| 3/3 [00:00<00:00, 10.40it/s]"
          ]
        },
        {
          "output_type": "stream",
          "name": "stderr",
          "text": [
            "\n"
          ]
        },
        {
          "output_type": "stream",
          "name": "stdout",
          "text": [
            "Epoch 1: Train BCE=1.0084, Val BCE=0.7441, Val WLL=0.5396, LR=2.00e-05\n"
          ]
        },
        {
          "output_type": "stream",
          "name": "stderr",
          "text": [
            "\rEpoch 2/15 Train:   0%|          | 0/11 [00:00<?, ?it/s]"
          ]
        },
        {
          "output_type": "stream",
          "name": "stderr",
          "text": [
            "\rEpoch 2/15 Train:   9%|\u2589         | 1/11 [00:00<00:03,  3.13it/s]"
          ]
        },
        {
          "output_type": "stream",
          "name": "stderr",
          "text": [
            "\rEpoch 2/15 Train:  27%|\u2588\u2588\u258b       | 3/11 [00:00<00:00,  8.11it/s]"
          ]
        },
        {
          "output_type": "stream",
          "name": "stderr",
          "text": [
            "\rEpoch 2/15 Train:  45%|\u2588\u2588\u2588\u2588\u258c     | 5/11 [00:00<00:00, 11.40it/s]"
          ]
        },
        {
          "output_type": "stream",
          "name": "stderr",
          "text": [
            "\rEpoch 2/15 Train:  64%|\u2588\u2588\u2588\u2588\u2588\u2588\u258e   | 7/11 [00:00<00:00, 13.61it/s]"
          ]
        },
        {
          "output_type": "stream",
          "name": "stderr",
          "text": [
            "\rEpoch 2/15 Train:  82%|\u2588\u2588\u2588\u2588\u2588\u2588\u2588\u2588\u258f | 9/11 [00:00<00:00, 15.06it/s]"
          ]
        },
        {
          "output_type": "stream",
          "name": "stderr",
          "text": [
            "\rEpoch 2/15 Train: 100%|\u2588\u2588\u2588\u2588\u2588\u2588\u2588\u2588\u2588\u2588| 11/11 [00:00<00:00, 12.44it/s]"
          ]
        },
        {
          "output_type": "stream",
          "name": "stderr",
          "text": [
            "\n"
          ]
        },
        {
          "output_type": "stream",
          "name": "stderr",
          "text": [
            "\rVal:   0%|          | 0/3 [00:00<?, ?it/s]"
          ]
        },
        {
          "output_type": "stream",
          "name": "stderr",
          "text": [
            "\rVal:  33%|\u2588\u2588\u2588\u258e      | 1/3 [00:00<00:00,  4.65it/s]"
          ]
        },
        {
          "output_type": "stream",
          "name": "stderr",
          "text": [
            "\rVal: 100%|\u2588\u2588\u2588\u2588\u2588\u2588\u2588\u2588\u2588\u2588| 3/3 [00:00<00:00, 10.23it/s]"
          ]
        },
        {
          "output_type": "stream",
          "name": "stderr",
          "text": [
            "\n"
          ]
        },
        {
          "output_type": "stream",
          "name": "stdout",
          "text": [
            "Epoch 2: Train BCE=0.8670, Val BCE=0.7384, Val WLL=0.5237, LR=2.00e-05\n"
          ]
        },
        {
          "output_type": "stream",
          "name": "stderr",
          "text": [
            "\rEpoch 3/15 Train:   0%|          | 0/11 [00:00<?, ?it/s]"
          ]
        },
        {
          "output_type": "stream",
          "name": "stderr",
          "text": [
            "\rEpoch 3/15 Train:   9%|\u2589         | 1/11 [00:00<00:03,  3.23it/s]"
          ]
        },
        {
          "output_type": "stream",
          "name": "stderr",
          "text": [
            "\rEpoch 3/15 Train:  27%|\u2588\u2588\u258b       | 3/11 [00:00<00:00,  8.24it/s]"
          ]
        },
        {
          "output_type": "stream",
          "name": "stderr",
          "text": [
            "\rEpoch 3/15 Train:  45%|\u2588\u2588\u2588\u2588\u258c     | 5/11 [00:00<00:00, 11.52it/s]"
          ]
        },
        {
          "output_type": "stream",
          "name": "stderr",
          "text": [
            "\rEpoch 3/15 Train:  64%|\u2588\u2588\u2588\u2588\u2588\u2588\u258e   | 7/11 [00:00<00:00, 13.71it/s]"
          ]
        },
        {
          "output_type": "stream",
          "name": "stderr",
          "text": [
            "\rEpoch 3/15 Train:  82%|\u2588\u2588\u2588\u2588\u2588\u2588\u2588\u2588\u258f | 9/11 [00:00<00:00, 15.20it/s]"
          ]
        },
        {
          "output_type": "stream",
          "name": "stderr",
          "text": [
            "\rEpoch 3/15 Train: 100%|\u2588\u2588\u2588\u2588\u2588\u2588\u2588\u2588\u2588\u2588| 11/11 [00:00<00:00, 12.65it/s]"
          ]
        },
        {
          "output_type": "stream",
          "name": "stderr",
          "text": [
            "\n"
          ]
        },
        {
          "output_type": "stream",
          "name": "stderr",
          "text": [
            "\rVal:   0%|          | 0/3 [00:00<?, ?it/s]"
          ]
        },
        {
          "output_type": "stream",
          "name": "stderr",
          "text": [
            "\rVal:  33%|\u2588\u2588\u2588\u258e      | 1/3 [00:00<00:00,  4.66it/s]"
          ]
        },
        {
          "output_type": "stream",
          "name": "stderr",
          "text": [
            "\rVal: 100%|\u2588\u2588\u2588\u2588\u2588\u2588\u2588\u2588\u2588\u2588| 3/3 [00:00<00:00, 10.33it/s]"
          ]
        },
        {
          "output_type": "stream",
          "name": "stderr",
          "text": [
            "\n"
          ]
        },
        {
          "output_type": "stream",
          "name": "stdout",
          "text": [
            "Epoch 3: Train BCE=0.8928, Val BCE=0.7617, Val WLL=0.5541, LR=2.00e-05\n"
          ]
        },
        {
          "output_type": "stream",
          "name": "stderr",
          "text": [
            "\rEpoch 4/15 Train:   0%|          | 0/11 [00:00<?, ?it/s]"
          ]
        },
        {
          "output_type": "stream",
          "name": "stderr",
          "text": [
            "\rEpoch 4/15 Train:   9%|\u2589         | 1/11 [00:00<00:03,  3.23it/s]"
          ]
        },
        {
          "output_type": "stream",
          "name": "stderr",
          "text": [
            "\rEpoch 4/15 Train:  27%|\u2588\u2588\u258b       | 3/11 [00:00<00:00,  8.24it/s]"
          ]
        },
        {
          "output_type": "stream",
          "name": "stderr",
          "text": [
            "\rEpoch 4/15 Train:  45%|\u2588\u2588\u2588\u2588\u258c     | 5/11 [00:00<00:00, 11.53it/s]"
          ]
        },
        {
          "output_type": "stream",
          "name": "stderr",
          "text": [
            "\rEpoch 4/15 Train:  64%|\u2588\u2588\u2588\u2588\u2588\u2588\u258e   | 7/11 [00:00<00:00, 13.71it/s]"
          ]
        },
        {
          "output_type": "stream",
          "name": "stderr",
          "text": [
            "\rEpoch 4/15 Train:  82%|\u2588\u2588\u2588\u2588\u2588\u2588\u2588\u2588\u258f | 9/11 [00:00<00:00, 15.20it/s]"
          ]
        },
        {
          "output_type": "stream",
          "name": "stderr",
          "text": [
            "\rEpoch 4/15 Train: 100%|\u2588\u2588\u2588\u2588\u2588\u2588\u2588\u2588\u2588\u2588| 11/11 [00:00<00:00, 12.59it/s]"
          ]
        },
        {
          "output_type": "stream",
          "name": "stderr",
          "text": [
            "\n"
          ]
        },
        {
          "output_type": "stream",
          "name": "stderr",
          "text": [
            "\rVal:   0%|          | 0/3 [00:00<?, ?it/s]"
          ]
        },
        {
          "output_type": "stream",
          "name": "stderr",
          "text": [
            "\rVal:  33%|\u2588\u2588\u2588\u258e      | 1/3 [00:00<00:00,  4.69it/s]"
          ]
        },
        {
          "output_type": "stream",
          "name": "stderr",
          "text": [
            "\rVal: 100%|\u2588\u2588\u2588\u2588\u2588\u2588\u2588\u2588\u2588\u2588| 3/3 [00:00<00:00, 10.10it/s]"
          ]
        },
        {
          "output_type": "stream",
          "name": "stderr",
          "text": [
            "\n"
          ]
        },
        {
          "output_type": "stream",
          "name": "stdout",
          "text": [
            "Epoch 4: Train BCE=0.9240, Val BCE=0.8199, Val WLL=0.6144, LR=2.00e-05\n"
          ]
        },
        {
          "output_type": "stream",
          "name": "stderr",
          "text": [
            "\rEpoch 5/15 Train:   0%|          | 0/11 [00:00<?, ?it/s]"
          ]
        },
        {
          "output_type": "stream",
          "name": "stderr",
          "text": [
            "\rEpoch 5/15 Train:   9%|\u2589         | 1/11 [00:00<00:03,  3.31it/s]"
          ]
        },
        {
          "output_type": "stream",
          "name": "stderr",
          "text": [
            "\rEpoch 5/15 Train:  27%|\u2588\u2588\u258b       | 3/11 [00:00<00:00,  8.44it/s]"
          ]
        },
        {
          "output_type": "stream",
          "name": "stderr",
          "text": [
            "\rEpoch 5/15 Train:  45%|\u2588\u2588\u2588\u2588\u258c     | 5/11 [00:00<00:00, 11.73it/s]"
          ]
        },
        {
          "output_type": "stream",
          "name": "stderr",
          "text": [
            "\rEpoch 5/15 Train:  64%|\u2588\u2588\u2588\u2588\u2588\u2588\u258e   | 7/11 [00:00<00:00, 13.91it/s]"
          ]
        },
        {
          "output_type": "stream",
          "name": "stderr",
          "text": [
            "\rEpoch 5/15 Train:  82%|\u2588\u2588\u2588\u2588\u2588\u2588\u2588\u2588\u258f | 9/11 [00:00<00:00, 15.35it/s]"
          ]
        },
        {
          "output_type": "stream",
          "name": "stderr",
          "text": [
            "\rEpoch 5/15 Train: 100%|\u2588\u2588\u2588\u2588\u2588\u2588\u2588\u2588\u2588\u2588| 11/11 [00:00<00:00, 12.78it/s]"
          ]
        },
        {
          "output_type": "stream",
          "name": "stderr",
          "text": [
            "\n"
          ]
        },
        {
          "output_type": "stream",
          "name": "stderr",
          "text": [
            "\rVal:   0%|          | 0/3 [00:00<?, ?it/s]"
          ]
        },
        {
          "output_type": "stream",
          "name": "stderr",
          "text": [
            "\rVal:  33%|\u2588\u2588\u2588\u258e      | 1/3 [00:00<00:00,  4.48it/s]"
          ]
        },
        {
          "output_type": "stream",
          "name": "stderr",
          "text": [
            "\rVal: 100%|\u2588\u2588\u2588\u2588\u2588\u2588\u2588\u2588\u2588\u2588| 3/3 [00:00<00:00, 10.02it/s]"
          ]
        },
        {
          "output_type": "stream",
          "name": "stderr",
          "text": [
            "\n"
          ]
        },
        {
          "output_type": "stream",
          "name": "stdout",
          "text": [
            "Epoch 5: Train BCE=0.8947, Val BCE=0.7751, Val WLL=0.5643, LR=1.00e-05\n"
          ]
        },
        {
          "output_type": "stream",
          "name": "stderr",
          "text": [
            "\rEpoch 6/15 Train:   0%|          | 0/11 [00:00<?, ?it/s]"
          ]
        },
        {
          "output_type": "stream",
          "name": "stderr",
          "text": [
            "\rEpoch 6/15 Train:   9%|\u2589         | 1/11 [00:00<00:03,  3.13it/s]"
          ]
        },
        {
          "output_type": "stream",
          "name": "stderr",
          "text": [
            "\rEpoch 6/15 Train:  27%|\u2588\u2588\u258b       | 3/11 [00:00<00:00,  8.07it/s]"
          ]
        },
        {
          "output_type": "stream",
          "name": "stderr",
          "text": [
            "\rEpoch 6/15 Train:  45%|\u2588\u2588\u2588\u2588\u258c     | 5/11 [00:00<00:00, 11.37it/s]"
          ]
        },
        {
          "output_type": "stream",
          "name": "stderr",
          "text": [
            "\rEpoch 6/15 Train:  64%|\u2588\u2588\u2588\u2588\u2588\u2588\u258e   | 7/11 [00:00<00:00, 13.61it/s]"
          ]
        },
        {
          "output_type": "stream",
          "name": "stderr",
          "text": [
            "\rEpoch 6/15 Train:  82%|\u2588\u2588\u2588\u2588\u2588\u2588\u2588\u2588\u258f | 9/11 [00:00<00:00, 15.13it/s]"
          ]
        },
        {
          "output_type": "stream",
          "name": "stderr",
          "text": [
            "\rEpoch 6/15 Train: 100%|\u2588\u2588\u2588\u2588\u2588\u2588\u2588\u2588\u2588\u2588| 11/11 [00:00<00:00, 12.50it/s]"
          ]
        },
        {
          "output_type": "stream",
          "name": "stderr",
          "text": [
            "\n"
          ]
        },
        {
          "output_type": "stream",
          "name": "stderr",
          "text": [
            "\rVal:   0%|          | 0/3 [00:00<?, ?it/s]"
          ]
        },
        {
          "output_type": "stream",
          "name": "stderr",
          "text": [
            "\rVal:  33%|\u2588\u2588\u2588\u258e      | 1/3 [00:00<00:00,  4.66it/s]"
          ]
        },
        {
          "output_type": "stream",
          "name": "stderr",
          "text": [
            "\rVal: 100%|\u2588\u2588\u2588\u2588\u2588\u2588\u2588\u2588\u2588\u2588| 3/3 [00:00<00:00, 10.34it/s]"
          ]
        },
        {
          "output_type": "stream",
          "name": "stderr",
          "text": [
            "\n"
          ]
        },
        {
          "output_type": "stream",
          "name": "stdout",
          "text": [
            "Epoch 6: Train BCE=0.8611, Val BCE=0.7696, Val WLL=0.5425, LR=1.00e-05\n"
          ]
        },
        {
          "output_type": "stream",
          "name": "stderr",
          "text": [
            "\rEpoch 7/15 Train:   0%|          | 0/11 [00:00<?, ?it/s]"
          ]
        },
        {
          "output_type": "stream",
          "name": "stderr",
          "text": [
            "\rEpoch 7/15 Train:   9%|\u2589         | 1/11 [00:00<00:03,  3.26it/s]"
          ]
        },
        {
          "output_type": "stream",
          "name": "stderr",
          "text": [
            "\rEpoch 7/15 Train:  27%|\u2588\u2588\u258b       | 3/11 [00:00<00:00,  8.30it/s]"
          ]
        },
        {
          "output_type": "stream",
          "name": "stderr",
          "text": [
            "\rEpoch 7/15 Train:  45%|\u2588\u2588\u2588\u2588\u258c     | 5/11 [00:00<00:00, 11.61it/s]"
          ]
        },
        {
          "output_type": "stream",
          "name": "stderr",
          "text": [
            "\rEpoch 7/15 Train:  64%|\u2588\u2588\u2588\u2588\u2588\u2588\u258e   | 7/11 [00:00<00:00, 13.79it/s]"
          ]
        },
        {
          "output_type": "stream",
          "name": "stderr",
          "text": [
            "\rEpoch 7/15 Train:  82%|\u2588\u2588\u2588\u2588\u2588\u2588\u2588\u2588\u258f | 9/11 [00:00<00:00, 15.26it/s]"
          ]
        },
        {
          "output_type": "stream",
          "name": "stderr",
          "text": [
            "\rEpoch 7/15 Train: 100%|\u2588\u2588\u2588\u2588\u2588\u2588\u2588\u2588\u2588\u2588| 11/11 [00:00<00:00, 12.69it/s]"
          ]
        },
        {
          "output_type": "stream",
          "name": "stderr",
          "text": [
            "\n"
          ]
        },
        {
          "output_type": "stream",
          "name": "stderr",
          "text": [
            "\rVal:   0%|          | 0/3 [00:00<?, ?it/s]"
          ]
        },
        {
          "output_type": "stream",
          "name": "stderr",
          "text": [
            "\rVal:  33%|\u2588\u2588\u2588\u258e      | 1/3 [00:00<00:00,  4.47it/s]"
          ]
        },
        {
          "output_type": "stream",
          "name": "stderr",
          "text": [
            "\rVal: 100%|\u2588\u2588\u2588\u2588\u2588\u2588\u2588\u2588\u2588\u2588| 3/3 [00:00<00:00, 10.06it/s]"
          ]
        },
        {
          "output_type": "stream",
          "name": "stderr",
          "text": [
            "\n"
          ]
        },
        {
          "output_type": "stream",
          "name": "stdout",
          "text": [
            "Epoch 7: Train BCE=0.7570, Val BCE=0.7886, Val WLL=0.5586, LR=1.00e-05\nEarly stopping at epoch 7\n"
          ]
        },
        {
          "output_type": "stream",
          "name": "stderr",
          "text": [
            "\rFinal Val for OOF:   0%|          | 0/3 [00:00<?, ?it/s]"
          ]
        },
        {
          "output_type": "stream",
          "name": "stderr",
          "text": [
            "\rFinal Val for OOF:  33%|\u2588\u2588\u2588\u258e      | 1/3 [00:00<00:00,  4.77it/s]"
          ]
        },
        {
          "output_type": "stream",
          "name": "stderr",
          "text": [
            "\rFinal Val for OOF: 100%|\u2588\u2588\u2588\u2588\u2588\u2588\u2588\u2588\u2588\u2588| 3/3 [00:00<00:00, 10.31it/s]"
          ]
        },
        {
          "output_type": "stream",
          "name": "stderr",
          "text": [
            "\n"
          ]
        },
        {
          "output_type": "stream",
          "name": "stdout",
          "text": [
            "Fold 2 OOF Weighted Log Loss: 0.5586\n\n=== Fold 3/5 ===\nTrain: 161, Val: 41\nFold pos_weight (clip=2): [2. 2. 2. 2. 2. 2. 2.]\n"
          ]
        },
        {
          "output_type": "stream",
          "name": "stdout",
          "text": [
            "Bias initialized for 7 classes\n"
          ]
        },
        {
          "output_type": "stream",
          "name": "stderr",
          "text": [
            "\rEpoch 1/15 Train:   0%|          | 0/11 [00:00<?, ?it/s]"
          ]
        },
        {
          "output_type": "stream",
          "name": "stderr",
          "text": [
            "\rEpoch 1/15 Train:   9%|\u2589         | 1/11 [00:00<00:02,  3.36it/s]"
          ]
        },
        {
          "output_type": "stream",
          "name": "stderr",
          "text": [
            "\rEpoch 1/15 Train:  27%|\u2588\u2588\u258b       | 3/11 [00:00<00:00,  8.26it/s]"
          ]
        },
        {
          "output_type": "stream",
          "name": "stderr",
          "text": [
            "\rEpoch 1/15 Train:  45%|\u2588\u2588\u2588\u2588\u258c     | 5/11 [00:00<00:00, 11.60it/s]"
          ]
        },
        {
          "output_type": "stream",
          "name": "stderr",
          "text": [
            "\rEpoch 1/15 Train:  64%|\u2588\u2588\u2588\u2588\u2588\u2588\u258e   | 7/11 [00:00<00:00, 13.76it/s]"
          ]
        },
        {
          "output_type": "stream",
          "name": "stderr",
          "text": [
            "\rEpoch 1/15 Train:  82%|\u2588\u2588\u2588\u2588\u2588\u2588\u2588\u2588\u258f | 9/11 [00:00<00:00, 15.24it/s]"
          ]
        },
        {
          "output_type": "stream",
          "name": "stderr",
          "text": [
            "\rEpoch 1/15 Train: 100%|\u2588\u2588\u2588\u2588\u2588\u2588\u2588\u2588\u2588\u2588| 11/11 [00:00<00:00, 12.63it/s]"
          ]
        },
        {
          "output_type": "stream",
          "name": "stderr",
          "text": [
            "\n"
          ]
        },
        {
          "output_type": "stream",
          "name": "stderr",
          "text": [
            "\rVal:   0%|          | 0/3 [00:00<?, ?it/s]"
          ]
        },
        {
          "output_type": "stream",
          "name": "stderr",
          "text": [
            "\rVal:  33%|\u2588\u2588\u2588\u258e      | 1/3 [00:00<00:00,  4.60it/s]"
          ]
        },
        {
          "output_type": "stream",
          "name": "stderr",
          "text": [
            "\rVal: 100%|\u2588\u2588\u2588\u2588\u2588\u2588\u2588\u2588\u2588\u2588| 3/3 [00:00<00:00, 10.23it/s]"
          ]
        },
        {
          "output_type": "stream",
          "name": "stderr",
          "text": [
            "\n"
          ]
        },
        {
          "output_type": "stream",
          "name": "stdout",
          "text": [
            "Epoch 1: Train BCE=0.9149, Val BCE=0.6756, Val WLL=0.5185, LR=2.00e-05\n"
          ]
        },
        {
          "output_type": "stream",
          "name": "stderr",
          "text": [
            "\rEpoch 2/15 Train:   0%|          | 0/11 [00:00<?, ?it/s]"
          ]
        },
        {
          "output_type": "stream",
          "name": "stderr",
          "text": [
            "\rEpoch 2/15 Train:   9%|\u2589         | 1/11 [00:00<00:03,  3.25it/s]"
          ]
        },
        {
          "output_type": "stream",
          "name": "stderr",
          "text": [
            "\rEpoch 2/15 Train:  27%|\u2588\u2588\u258b       | 3/11 [00:00<00:00,  8.28it/s]"
          ]
        },
        {
          "output_type": "stream",
          "name": "stderr",
          "text": [
            "\rEpoch 2/15 Train:  45%|\u2588\u2588\u2588\u2588\u258c     | 5/11 [00:00<00:00, 11.56it/s]"
          ]
        },
        {
          "output_type": "stream",
          "name": "stderr",
          "text": [
            "\rEpoch 2/15 Train:  64%|\u2588\u2588\u2588\u2588\u2588\u2588\u258e   | 7/11 [00:00<00:00, 13.75it/s]"
          ]
        },
        {
          "output_type": "stream",
          "name": "stderr",
          "text": [
            "\rEpoch 2/15 Train:  82%|\u2588\u2588\u2588\u2588\u2588\u2588\u2588\u2588\u258f | 9/11 [00:00<00:00, 15.22it/s]"
          ]
        },
        {
          "output_type": "stream",
          "name": "stderr",
          "text": [
            "\rEpoch 2/15 Train: 100%|\u2588\u2588\u2588\u2588\u2588\u2588\u2588\u2588\u2588\u2588| 11/11 [00:00<00:00, 12.59it/s]"
          ]
        },
        {
          "output_type": "stream",
          "name": "stderr",
          "text": [
            "\n"
          ]
        },
        {
          "output_type": "stream",
          "name": "stderr",
          "text": [
            "\rVal:   0%|          | 0/3 [00:00<?, ?it/s]"
          ]
        },
        {
          "output_type": "stream",
          "name": "stderr",
          "text": [
            "\rVal:  33%|\u2588\u2588\u2588\u258e      | 1/3 [00:00<00:00,  4.54it/s]"
          ]
        },
        {
          "output_type": "stream",
          "name": "stderr",
          "text": [
            "\rVal: 100%|\u2588\u2588\u2588\u2588\u2588\u2588\u2588\u2588\u2588\u2588| 3/3 [00:00<00:00, 10.05it/s]"
          ]
        },
        {
          "output_type": "stream",
          "name": "stderr",
          "text": [
            "\n"
          ]
        },
        {
          "output_type": "stream",
          "name": "stdout",
          "text": [
            "Epoch 2: Train BCE=0.8770, Val BCE=0.7068, Val WLL=0.5273, LR=2.00e-05\n"
          ]
        },
        {
          "output_type": "stream",
          "name": "stderr",
          "text": [
            "\rEpoch 3/15 Train:   0%|          | 0/11 [00:00<?, ?it/s]"
          ]
        },
        {
          "output_type": "stream",
          "name": "stderr",
          "text": [
            "\rEpoch 3/15 Train:   9%|\u2589         | 1/11 [00:00<00:02,  3.37it/s]"
          ]
        },
        {
          "output_type": "stream",
          "name": "stderr",
          "text": [
            "\rEpoch 3/15 Train:  27%|\u2588\u2588\u258b       | 3/11 [00:00<00:00,  8.46it/s]"
          ]
        },
        {
          "output_type": "stream",
          "name": "stderr",
          "text": [
            "\rEpoch 3/15 Train:  45%|\u2588\u2588\u2588\u2588\u258c     | 5/11 [00:00<00:00, 11.72it/s]"
          ]
        },
        {
          "output_type": "stream",
          "name": "stderr",
          "text": [
            "\rEpoch 3/15 Train:  64%|\u2588\u2588\u2588\u2588\u2588\u2588\u258e   | 7/11 [00:00<00:00, 13.87it/s]"
          ]
        },
        {
          "output_type": "stream",
          "name": "stderr",
          "text": [
            "\rEpoch 3/15 Train:  82%|\u2588\u2588\u2588\u2588\u2588\u2588\u2588\u2588\u258f | 9/11 [00:00<00:00, 15.32it/s]"
          ]
        },
        {
          "output_type": "stream",
          "name": "stderr",
          "text": [
            "\rEpoch 3/15 Train: 100%|\u2588\u2588\u2588\u2588\u2588\u2588\u2588\u2588\u2588\u2588| 11/11 [00:00<00:00, 12.71it/s]"
          ]
        },
        {
          "output_type": "stream",
          "name": "stderr",
          "text": [
            "\n"
          ]
        },
        {
          "output_type": "stream",
          "name": "stderr",
          "text": [
            "\rVal:   0%|          | 0/3 [00:00<?, ?it/s]"
          ]
        },
        {
          "output_type": "stream",
          "name": "stderr",
          "text": [
            "\rVal:  33%|\u2588\u2588\u2588\u258e      | 1/3 [00:00<00:00,  4.58it/s]"
          ]
        },
        {
          "output_type": "stream",
          "name": "stderr",
          "text": [
            "\rVal: 100%|\u2588\u2588\u2588\u2588\u2588\u2588\u2588\u2588\u2588\u2588| 3/3 [00:00<00:00, 10.16it/s]"
          ]
        },
        {
          "output_type": "stream",
          "name": "stderr",
          "text": [
            "\n"
          ]
        },
        {
          "output_type": "stream",
          "name": "stdout",
          "text": [
            "Epoch 3: Train BCE=0.9271, Val BCE=0.9454, Val WLL=0.8518, LR=2.00e-05\n"
          ]
        },
        {
          "output_type": "stream",
          "name": "stderr",
          "text": [
            "\rEpoch 4/15 Train:   0%|          | 0/11 [00:00<?, ?it/s]"
          ]
        },
        {
          "output_type": "stream",
          "name": "stderr",
          "text": [
            "\rEpoch 4/15 Train:   9%|\u2589         | 1/11 [00:00<00:03,  3.24it/s]"
          ]
        },
        {
          "output_type": "stream",
          "name": "stderr",
          "text": [
            "\rEpoch 4/15 Train:  27%|\u2588\u2588\u258b       | 3/11 [00:00<00:00,  8.26it/s]"
          ]
        },
        {
          "output_type": "stream",
          "name": "stderr",
          "text": [
            "\rEpoch 4/15 Train:  45%|\u2588\u2588\u2588\u2588\u258c     | 5/11 [00:00<00:00, 11.55it/s]"
          ]
        },
        {
          "output_type": "stream",
          "name": "stderr",
          "text": [
            "\rEpoch 4/15 Train:  64%|\u2588\u2588\u2588\u2588\u2588\u2588\u258e   | 7/11 [00:00<00:00, 13.72it/s]"
          ]
        },
        {
          "output_type": "stream",
          "name": "stderr",
          "text": [
            "\rEpoch 4/15 Train:  82%|\u2588\u2588\u2588\u2588\u2588\u2588\u2588\u2588\u258f | 9/11 [00:00<00:00, 15.20it/s]"
          ]
        },
        {
          "output_type": "stream",
          "name": "stderr",
          "text": [
            "\rEpoch 4/15 Train: 100%|\u2588\u2588\u2588\u2588\u2588\u2588\u2588\u2588\u2588\u2588| 11/11 [00:00<00:00, 12.65it/s]"
          ]
        },
        {
          "output_type": "stream",
          "name": "stderr",
          "text": [
            "\n"
          ]
        },
        {
          "output_type": "stream",
          "name": "stderr",
          "text": [
            "\rVal:   0%|          | 0/3 [00:00<?, ?it/s]"
          ]
        },
        {
          "output_type": "stream",
          "name": "stderr",
          "text": [
            "\rVal:  33%|\u2588\u2588\u2588\u258e      | 1/3 [00:00<00:00,  4.52it/s]"
          ]
        },
        {
          "output_type": "stream",
          "name": "stderr",
          "text": [
            "\rVal: 100%|\u2588\u2588\u2588\u2588\u2588\u2588\u2588\u2588\u2588\u2588| 3/3 [00:00<00:00,  9.79it/s]"
          ]
        },
        {
          "output_type": "stream",
          "name": "stderr",
          "text": [
            "\n"
          ]
        },
        {
          "output_type": "stream",
          "name": "stdout",
          "text": [
            "Epoch 4: Train BCE=0.9375, Val BCE=0.7483, Val WLL=0.5862, LR=1.00e-05\n"
          ]
        },
        {
          "output_type": "stream",
          "name": "stderr",
          "text": [
            "\rEpoch 5/15 Train:   0%|          | 0/11 [00:00<?, ?it/s]"
          ]
        },
        {
          "output_type": "stream",
          "name": "stderr",
          "text": [
            "\rEpoch 5/15 Train:   9%|\u2589         | 1/11 [00:00<00:02,  3.37it/s]"
          ]
        },
        {
          "output_type": "stream",
          "name": "stderr",
          "text": [
            "\rEpoch 5/15 Train:  27%|\u2588\u2588\u258b       | 3/11 [00:00<00:00,  8.49it/s]"
          ]
        },
        {
          "output_type": "stream",
          "name": "stderr",
          "text": [
            "\rEpoch 5/15 Train:  45%|\u2588\u2588\u2588\u2588\u258c     | 5/11 [00:00<00:00, 11.74it/s]"
          ]
        },
        {
          "output_type": "stream",
          "name": "stderr",
          "text": [
            "\rEpoch 5/15 Train:  64%|\u2588\u2588\u2588\u2588\u2588\u2588\u258e   | 7/11 [00:00<00:00, 13.91it/s]"
          ]
        },
        {
          "output_type": "stream",
          "name": "stderr",
          "text": [
            "\rEpoch 5/15 Train:  82%|\u2588\u2588\u2588\u2588\u2588\u2588\u2588\u2588\u258f | 9/11 [00:00<00:00, 15.34it/s]"
          ]
        },
        {
          "output_type": "stream",
          "name": "stderr",
          "text": [
            "\rEpoch 5/15 Train: 100%|\u2588\u2588\u2588\u2588\u2588\u2588\u2588\u2588\u2588\u2588| 11/11 [00:00<00:00, 12.76it/s]"
          ]
        },
        {
          "output_type": "stream",
          "name": "stderr",
          "text": [
            "\n"
          ]
        },
        {
          "output_type": "stream",
          "name": "stderr",
          "text": [
            "\rVal:   0%|          | 0/3 [00:00<?, ?it/s]"
          ]
        },
        {
          "output_type": "stream",
          "name": "stderr",
          "text": [
            "\rVal:  33%|\u2588\u2588\u2588\u258e      | 1/3 [00:00<00:00,  4.62it/s]"
          ]
        },
        {
          "output_type": "stream",
          "name": "stderr",
          "text": [
            "\rVal: 100%|\u2588\u2588\u2588\u2588\u2588\u2588\u2588\u2588\u2588\u2588| 3/3 [00:00<00:00, 10.24it/s]"
          ]
        },
        {
          "output_type": "stream",
          "name": "stderr",
          "text": [
            "\n"
          ]
        },
        {
          "output_type": "stream",
          "name": "stdout",
          "text": [
            "Epoch 5: Train BCE=0.8878, Val BCE=0.8117, Val WLL=0.6449, LR=1.00e-05\n"
          ]
        },
        {
          "output_type": "stream",
          "name": "stderr",
          "text": [
            "\rEpoch 6/15 Train:   0%|          | 0/11 [00:00<?, ?it/s]"
          ]
        },
        {
          "output_type": "stream",
          "name": "stderr",
          "text": [
            "\rEpoch 6/15 Train:   9%|\u2589         | 1/11 [00:00<00:03,  3.29it/s]"
          ]
        },
        {
          "output_type": "stream",
          "name": "stderr",
          "text": [
            "\rEpoch 6/15 Train:  27%|\u2588\u2588\u258b       | 3/11 [00:00<00:00,  8.37it/s]"
          ]
        },
        {
          "output_type": "stream",
          "name": "stderr",
          "text": [
            "\rEpoch 6/15 Train:  45%|\u2588\u2588\u2588\u2588\u258c     | 5/11 [00:00<00:00, 11.65it/s]"
          ]
        },
        {
          "output_type": "stream",
          "name": "stderr",
          "text": [
            "\rEpoch 6/15 Train:  64%|\u2588\u2588\u2588\u2588\u2588\u2588\u258e   | 7/11 [00:00<00:00, 13.82it/s]"
          ]
        },
        {
          "output_type": "stream",
          "name": "stderr",
          "text": [
            "\rEpoch 6/15 Train:  82%|\u2588\u2588\u2588\u2588\u2588\u2588\u2588\u2588\u258f | 9/11 [00:00<00:00, 15.27it/s]"
          ]
        },
        {
          "output_type": "stream",
          "name": "stderr",
          "text": [
            "\rEpoch 6/15 Train: 100%|\u2588\u2588\u2588\u2588\u2588\u2588\u2588\u2588\u2588\u2588| 11/11 [00:00<00:00, 12.68it/s]"
          ]
        },
        {
          "output_type": "stream",
          "name": "stderr",
          "text": [
            "\n"
          ]
        },
        {
          "output_type": "stream",
          "name": "stderr",
          "text": [
            "\rVal:   0%|          | 0/3 [00:00<?, ?it/s]"
          ]
        },
        {
          "output_type": "stream",
          "name": "stderr",
          "text": [
            "\rVal:  33%|\u2588\u2588\u2588\u258e      | 1/3 [00:00<00:00,  4.54it/s]"
          ]
        },
        {
          "output_type": "stream",
          "name": "stderr",
          "text": [
            "\rVal: 100%|\u2588\u2588\u2588\u2588\u2588\u2588\u2588\u2588\u2588\u2588| 3/3 [00:00<00:00, 10.12it/s]"
          ]
        },
        {
          "output_type": "stream",
          "name": "stderr",
          "text": [
            "\n"
          ]
        },
        {
          "output_type": "stream",
          "name": "stdout",
          "text": [
            "Epoch 6: Train BCE=0.7614, Val BCE=0.8740, Val WLL=0.7541, LR=1.00e-05\nEarly stopping at epoch 6\n"
          ]
        },
        {
          "output_type": "stream",
          "name": "stderr",
          "text": [
            "\rFinal Val for OOF:   0%|          | 0/3 [00:00<?, ?it/s]"
          ]
        },
        {
          "output_type": "stream",
          "name": "stderr",
          "text": [
            "\rFinal Val for OOF:  33%|\u2588\u2588\u2588\u258e      | 1/3 [00:00<00:00,  4.63it/s]"
          ]
        },
        {
          "output_type": "stream",
          "name": "stderr",
          "text": [
            "\rFinal Val for OOF: 100%|\u2588\u2588\u2588\u2588\u2588\u2588\u2588\u2588\u2588\u2588| 3/3 [00:00<00:00,  9.97it/s]"
          ]
        },
        {
          "output_type": "stream",
          "name": "stderr",
          "text": [
            "\n"
          ]
        },
        {
          "output_type": "stream",
          "name": "stdout",
          "text": [
            "Fold 3 OOF Weighted Log Loss: 0.7541\n\n=== Fold 4/5 ===\nTrain: 161, Val: 41\nFold pos_weight (clip=2): [2. 2. 2. 2. 2. 2. 2.]\nBias initialized for 7 classes\n"
          ]
        },
        {
          "output_type": "stream",
          "name": "stderr",
          "text": [
            "\rEpoch 1/15 Train:   0%|          | 0/11 [00:00<?, ?it/s]"
          ]
        },
        {
          "output_type": "stream",
          "name": "stderr",
          "text": [
            "\rEpoch 1/15 Train:   9%|\u2589         | 1/11 [00:00<00:02,  3.38it/s]"
          ]
        },
        {
          "output_type": "stream",
          "name": "stderr",
          "text": [
            "\rEpoch 1/15 Train:  27%|\u2588\u2588\u258b       | 3/11 [00:00<00:00,  8.45it/s]"
          ]
        },
        {
          "output_type": "stream",
          "name": "stderr",
          "text": [
            "\rEpoch 1/15 Train:  45%|\u2588\u2588\u2588\u2588\u258c     | 5/11 [00:00<00:00, 11.70it/s]"
          ]
        },
        {
          "output_type": "stream",
          "name": "stderr",
          "text": [
            "\rEpoch 1/15 Train:  64%|\u2588\u2588\u2588\u2588\u2588\u2588\u258e   | 7/11 [00:00<00:00, 13.85it/s]"
          ]
        },
        {
          "output_type": "stream",
          "name": "stderr",
          "text": [
            "\rEpoch 1/15 Train:  82%|\u2588\u2588\u2588\u2588\u2588\u2588\u2588\u2588\u258f | 9/11 [00:00<00:00, 15.30it/s]"
          ]
        },
        {
          "output_type": "stream",
          "name": "stderr",
          "text": [
            "\rEpoch 1/15 Train: 100%|\u2588\u2588\u2588\u2588\u2588\u2588\u2588\u2588\u2588\u2588| 11/11 [00:00<00:00, 12.72it/s]"
          ]
        },
        {
          "output_type": "stream",
          "name": "stderr",
          "text": [
            "\n"
          ]
        },
        {
          "output_type": "stream",
          "name": "stderr",
          "text": [
            "\rVal:   0%|          | 0/3 [00:00<?, ?it/s]"
          ]
        },
        {
          "output_type": "stream",
          "name": "stderr",
          "text": [
            "\rVal:  33%|\u2588\u2588\u2588\u258e      | 1/3 [00:00<00:00,  4.44it/s]"
          ]
        },
        {
          "output_type": "stream",
          "name": "stderr",
          "text": [
            "\rVal: 100%|\u2588\u2588\u2588\u2588\u2588\u2588\u2588\u2588\u2588\u2588| 3/3 [00:00<00:00,  9.85it/s]"
          ]
        },
        {
          "output_type": "stream",
          "name": "stderr",
          "text": [
            "\n"
          ]
        },
        {
          "output_type": "stream",
          "name": "stdout",
          "text": [
            "Epoch 1: Train BCE=0.9652, Val BCE=0.8029, Val WLL=0.5358, LR=2.00e-05\n"
          ]
        },
        {
          "output_type": "stream",
          "name": "stderr",
          "text": [
            "\rEpoch 2/15 Train:   0%|          | 0/11 [00:00<?, ?it/s]"
          ]
        },
        {
          "output_type": "stream",
          "name": "stderr",
          "text": [
            "\rEpoch 2/15 Train:   9%|\u2589         | 1/11 [00:00<00:03,  3.24it/s]"
          ]
        },
        {
          "output_type": "stream",
          "name": "stderr",
          "text": [
            "\rEpoch 2/15 Train:  27%|\u2588\u2588\u258b       | 3/11 [00:00<00:00,  8.27it/s]"
          ]
        },
        {
          "output_type": "stream",
          "name": "stderr",
          "text": [
            "\rEpoch 2/15 Train:  45%|\u2588\u2588\u2588\u2588\u258c     | 5/11 [00:00<00:00, 11.53it/s]"
          ]
        },
        {
          "output_type": "stream",
          "name": "stderr",
          "text": [
            "\rEpoch 2/15 Train:  64%|\u2588\u2588\u2588\u2588\u2588\u2588\u258e   | 7/11 [00:00<00:00, 13.70it/s]"
          ]
        },
        {
          "output_type": "stream",
          "name": "stderr",
          "text": [
            "\rEpoch 2/15 Train:  82%|\u2588\u2588\u2588\u2588\u2588\u2588\u2588\u2588\u258f | 9/11 [00:00<00:00, 15.18it/s]"
          ]
        },
        {
          "output_type": "stream",
          "name": "stderr",
          "text": [
            "\rEpoch 2/15 Train: 100%|\u2588\u2588\u2588\u2588\u2588\u2588\u2588\u2588\u2588\u2588| 11/11 [00:00<00:00, 12.52it/s]"
          ]
        },
        {
          "output_type": "stream",
          "name": "stderr",
          "text": [
            "\n"
          ]
        },
        {
          "output_type": "stream",
          "name": "stderr",
          "text": [
            "\rVal:   0%|          | 0/3 [00:00<?, ?it/s]"
          ]
        },
        {
          "output_type": "stream",
          "name": "stderr",
          "text": [
            "\rVal:  33%|\u2588\u2588\u2588\u258e      | 1/3 [00:00<00:00,  4.61it/s]"
          ]
        },
        {
          "output_type": "stream",
          "name": "stderr",
          "text": [
            "\rVal: 100%|\u2588\u2588\u2588\u2588\u2588\u2588\u2588\u2588\u2588\u2588| 3/3 [00:00<00:00, 10.17it/s]"
          ]
        },
        {
          "output_type": "stream",
          "name": "stderr",
          "text": [
            "\n"
          ]
        },
        {
          "output_type": "stream",
          "name": "stdout",
          "text": [
            "Epoch 2: Train BCE=1.1448, Val BCE=0.7739, Val WLL=0.5007, LR=2.00e-05\n"
          ]
        },
        {
          "output_type": "stream",
          "name": "stderr",
          "text": [
            "\rEpoch 3/15 Train:   0%|          | 0/11 [00:00<?, ?it/s]"
          ]
        },
        {
          "output_type": "stream",
          "name": "stderr",
          "text": [
            "\rEpoch 3/15 Train:   9%|\u2589         | 1/11 [00:00<00:03,  3.18it/s]"
          ]
        },
        {
          "output_type": "stream",
          "name": "stderr",
          "text": [
            "\rEpoch 3/15 Train:  27%|\u2588\u2588\u258b       | 3/11 [00:00<00:00,  8.14it/s]"
          ]
        },
        {
          "output_type": "stream",
          "name": "stderr",
          "text": [
            "\rEpoch 3/15 Train:  45%|\u2588\u2588\u2588\u2588\u258c     | 5/11 [00:00<00:00, 11.41it/s]"
          ]
        },
        {
          "output_type": "stream",
          "name": "stderr",
          "text": [
            "\rEpoch 3/15 Train:  64%|\u2588\u2588\u2588\u2588\u2588\u2588\u258e   | 7/11 [00:00<00:00, 13.59it/s]"
          ]
        },
        {
          "output_type": "stream",
          "name": "stderr",
          "text": [
            "\rEpoch 3/15 Train:  82%|\u2588\u2588\u2588\u2588\u2588\u2588\u2588\u2588\u258f | 9/11 [00:00<00:00, 15.10it/s]"
          ]
        },
        {
          "output_type": "stream",
          "name": "stderr",
          "text": [
            "\rEpoch 3/15 Train: 100%|\u2588\u2588\u2588\u2588\u2588\u2588\u2588\u2588\u2588\u2588| 11/11 [00:00<00:00, 12.40it/s]"
          ]
        },
        {
          "output_type": "stream",
          "name": "stderr",
          "text": [
            "\n"
          ]
        },
        {
          "output_type": "stream",
          "name": "stderr",
          "text": [
            "\rVal:   0%|          | 0/3 [00:00<?, ?it/s]"
          ]
        },
        {
          "output_type": "stream",
          "name": "stderr",
          "text": [
            "\rVal:  33%|\u2588\u2588\u2588\u258e      | 1/3 [00:00<00:00,  4.77it/s]"
          ]
        },
        {
          "output_type": "stream",
          "name": "stderr",
          "text": [
            "\rVal: 100%|\u2588\u2588\u2588\u2588\u2588\u2588\u2588\u2588\u2588\u2588| 3/3 [00:00<00:00, 10.53it/s]"
          ]
        },
        {
          "output_type": "stream",
          "name": "stderr",
          "text": [
            "\n"
          ]
        },
        {
          "output_type": "stream",
          "name": "stdout",
          "text": [
            "Epoch 3: Train BCE=1.0423, Val BCE=0.8636, Val WLL=0.6080, LR=2.00e-05\n"
          ]
        },
        {
          "output_type": "stream",
          "name": "stderr",
          "text": [
            "\rEpoch 4/15 Train:   0%|          | 0/11 [00:00<?, ?it/s]"
          ]
        },
        {
          "output_type": "stream",
          "name": "stderr",
          "text": [
            "\rEpoch 4/15 Train:   9%|\u2589         | 1/11 [00:00<00:03,  3.20it/s]"
          ]
        },
        {
          "output_type": "stream",
          "name": "stderr",
          "text": [
            "\rEpoch 4/15 Train:  27%|\u2588\u2588\u258b       | 3/11 [00:00<00:00,  8.17it/s]"
          ]
        },
        {
          "output_type": "stream",
          "name": "stderr",
          "text": [
            "\rEpoch 4/15 Train:  45%|\u2588\u2588\u2588\u2588\u258c     | 5/11 [00:00<00:00, 11.44it/s]"
          ]
        },
        {
          "output_type": "stream",
          "name": "stderr",
          "text": [
            "\rEpoch 4/15 Train:  64%|\u2588\u2588\u2588\u2588\u2588\u2588\u258e   | 7/11 [00:00<00:00, 13.62it/s]"
          ]
        },
        {
          "output_type": "stream",
          "name": "stderr",
          "text": [
            "\rEpoch 4/15 Train:  82%|\u2588\u2588\u2588\u2588\u2588\u2588\u2588\u2588\u258f | 9/11 [00:00<00:00, 15.10it/s]"
          ]
        },
        {
          "output_type": "stream",
          "name": "stderr",
          "text": [
            "\rEpoch 4/15 Train: 100%|\u2588\u2588\u2588\u2588\u2588\u2588\u2588\u2588\u2588\u2588| 11/11 [00:00<00:00, 12.50it/s]"
          ]
        },
        {
          "output_type": "stream",
          "name": "stderr",
          "text": [
            "\n"
          ]
        },
        {
          "output_type": "stream",
          "name": "stderr",
          "text": [
            "\rVal:   0%|          | 0/3 [00:00<?, ?it/s]"
          ]
        },
        {
          "output_type": "stream",
          "name": "stderr",
          "text": [
            "\rVal:  33%|\u2588\u2588\u2588\u258e      | 1/3 [00:00<00:00,  4.48it/s]"
          ]
        },
        {
          "output_type": "stream",
          "name": "stderr",
          "text": [
            "\rVal: 100%|\u2588\u2588\u2588\u2588\u2588\u2588\u2588\u2588\u2588\u2588| 3/3 [00:00<00:00,  9.94it/s]"
          ]
        },
        {
          "output_type": "stream",
          "name": "stderr",
          "text": [
            "\n"
          ]
        },
        {
          "output_type": "stream",
          "name": "stdout",
          "text": [
            "Epoch 4: Train BCE=0.9690, Val BCE=0.7962, Val WLL=0.5385, LR=2.00e-05\n"
          ]
        },
        {
          "output_type": "stream",
          "name": "stderr",
          "text": [
            "\rEpoch 5/15 Train:   0%|          | 0/11 [00:00<?, ?it/s]"
          ]
        },
        {
          "output_type": "stream",
          "name": "stderr",
          "text": [
            "\rEpoch 5/15 Train:   9%|\u2589         | 1/11 [00:00<00:03,  3.13it/s]"
          ]
        },
        {
          "output_type": "stream",
          "name": "stderr",
          "text": [
            "\rEpoch 5/15 Train:  27%|\u2588\u2588\u258b       | 3/11 [00:00<00:00,  8.08it/s]"
          ]
        },
        {
          "output_type": "stream",
          "name": "stderr",
          "text": [
            "\rEpoch 5/15 Train:  45%|\u2588\u2588\u2588\u2588\u258c     | 5/11 [00:00<00:00, 11.35it/s]"
          ]
        },
        {
          "output_type": "stream",
          "name": "stderr",
          "text": [
            "\rEpoch 5/15 Train:  64%|\u2588\u2588\u2588\u2588\u2588\u2588\u258e   | 7/11 [00:00<00:00, 13.54it/s]"
          ]
        },
        {
          "output_type": "stream",
          "name": "stderr",
          "text": [
            "\rEpoch 5/15 Train:  82%|\u2588\u2588\u2588\u2588\u2588\u2588\u2588\u2588\u258f | 9/11 [00:00<00:00, 15.02it/s]"
          ]
        },
        {
          "output_type": "stream",
          "name": "stderr",
          "text": [
            "\rEpoch 5/15 Train: 100%|\u2588\u2588\u2588\u2588\u2588\u2588\u2588\u2588\u2588\u2588| 11/11 [00:00<00:00, 12.35it/s]"
          ]
        },
        {
          "output_type": "stream",
          "name": "stderr",
          "text": [
            "\n"
          ]
        },
        {
          "output_type": "stream",
          "name": "stderr",
          "text": [
            "\rVal:   0%|          | 0/3 [00:00<?, ?it/s]"
          ]
        },
        {
          "output_type": "stream",
          "name": "stderr",
          "text": [
            "\rVal:  33%|\u2588\u2588\u2588\u258e      | 1/3 [00:00<00:00,  4.72it/s]"
          ]
        },
        {
          "output_type": "stream",
          "name": "stderr",
          "text": [
            "\rVal: 100%|\u2588\u2588\u2588\u2588\u2588\u2588\u2588\u2588\u2588\u2588| 3/3 [00:00<00:00, 10.36it/s]"
          ]
        },
        {
          "output_type": "stream",
          "name": "stderr",
          "text": [
            "\n"
          ]
        },
        {
          "output_type": "stream",
          "name": "stdout",
          "text": [
            "Epoch 5: Train BCE=0.9636, Val BCE=0.7287, Val WLL=0.4896, LR=2.00e-05\n"
          ]
        },
        {
          "output_type": "stream",
          "name": "stderr",
          "text": [
            "\rEpoch 6/15 Train:   0%|          | 0/11 [00:00<?, ?it/s]"
          ]
        },
        {
          "output_type": "stream",
          "name": "stderr",
          "text": [
            "\rEpoch 6/15 Train:   9%|\u2589         | 1/11 [00:00<00:03,  3.29it/s]"
          ]
        },
        {
          "output_type": "stream",
          "name": "stderr",
          "text": [
            "\rEpoch 6/15 Train:  27%|\u2588\u2588\u258b       | 3/11 [00:00<00:00,  8.33it/s]"
          ]
        },
        {
          "output_type": "stream",
          "name": "stderr",
          "text": [
            "\rEpoch 6/15 Train:  45%|\u2588\u2588\u2588\u2588\u258c     | 5/11 [00:00<00:00, 11.51it/s]"
          ]
        },
        {
          "output_type": "stream",
          "name": "stderr",
          "text": [
            "\rEpoch 6/15 Train:  64%|\u2588\u2588\u2588\u2588\u2588\u2588\u258e   | 7/11 [00:00<00:00, 13.69it/s]"
          ]
        },
        {
          "output_type": "stream",
          "name": "stderr",
          "text": [
            "\rEpoch 6/15 Train:  82%|\u2588\u2588\u2588\u2588\u2588\u2588\u2588\u2588\u258f | 9/11 [00:00<00:00, 15.15it/s]"
          ]
        },
        {
          "output_type": "stream",
          "name": "stderr",
          "text": [
            "\rEpoch 6/15 Train: 100%|\u2588\u2588\u2588\u2588\u2588\u2588\u2588\u2588\u2588\u2588| 11/11 [00:00<00:00, 12.61it/s]"
          ]
        },
        {
          "output_type": "stream",
          "name": "stderr",
          "text": [
            "\n"
          ]
        },
        {
          "output_type": "stream",
          "name": "stderr",
          "text": [
            "\rVal:   0%|          | 0/3 [00:00<?, ?it/s]"
          ]
        },
        {
          "output_type": "stream",
          "name": "stderr",
          "text": [
            "\rVal:  33%|\u2588\u2588\u2588\u258e      | 1/3 [00:00<00:00,  4.52it/s]"
          ]
        },
        {
          "output_type": "stream",
          "name": "stderr",
          "text": [
            "\rVal: 100%|\u2588\u2588\u2588\u2588\u2588\u2588\u2588\u2588\u2588\u2588| 3/3 [00:00<00:00,  9.80it/s]"
          ]
        },
        {
          "output_type": "stream",
          "name": "stderr",
          "text": [
            "\n"
          ]
        },
        {
          "output_type": "stream",
          "name": "stdout",
          "text": [
            "Epoch 6: Train BCE=0.9222, Val BCE=0.7590, Val WLL=0.5292, LR=2.00e-05\n"
          ]
        },
        {
          "output_type": "stream",
          "name": "stderr",
          "text": [
            "\rEpoch 7/15 Train:   0%|          | 0/11 [00:00<?, ?it/s]"
          ]
        },
        {
          "output_type": "stream",
          "name": "stderr",
          "text": [
            "\rEpoch 7/15 Train:   9%|\u2589         | 1/11 [00:00<00:02,  3.36it/s]"
          ]
        },
        {
          "output_type": "stream",
          "name": "stderr",
          "text": [
            "\rEpoch 7/15 Train:  27%|\u2588\u2588\u258b       | 3/11 [00:00<00:00,  8.42it/s]"
          ]
        },
        {
          "output_type": "stream",
          "name": "stderr",
          "text": [
            "\rEpoch 7/15 Train:  45%|\u2588\u2588\u2588\u2588\u258c     | 5/11 [00:00<00:00, 11.67it/s]"
          ]
        },
        {
          "output_type": "stream",
          "name": "stderr",
          "text": [
            "\rEpoch 7/15 Train:  64%|\u2588\u2588\u2588\u2588\u2588\u2588\u258e   | 7/11 [00:00<00:00, 13.81it/s]"
          ]
        },
        {
          "output_type": "stream",
          "name": "stderr",
          "text": [
            "\rEpoch 7/15 Train:  82%|\u2588\u2588\u2588\u2588\u2588\u2588\u2588\u2588\u258f | 9/11 [00:00<00:00, 15.24it/s]"
          ]
        },
        {
          "output_type": "stream",
          "name": "stderr",
          "text": [
            "\rEpoch 7/15 Train: 100%|\u2588\u2588\u2588\u2588\u2588\u2588\u2588\u2588\u2588\u2588| 11/11 [00:00<00:00, 12.73it/s]"
          ]
        },
        {
          "output_type": "stream",
          "name": "stderr",
          "text": [
            "\n"
          ]
        },
        {
          "output_type": "stream",
          "name": "stderr",
          "text": [
            "\rVal:   0%|          | 0/3 [00:00<?, ?it/s]"
          ]
        },
        {
          "output_type": "stream",
          "name": "stderr",
          "text": [
            "\rVal:  33%|\u2588\u2588\u2588\u258e      | 1/3 [00:00<00:00,  4.81it/s]"
          ]
        },
        {
          "output_type": "stream",
          "name": "stderr",
          "text": [
            "\rVal: 100%|\u2588\u2588\u2588\u2588\u2588\u2588\u2588\u2588\u2588\u2588| 3/3 [00:00<00:00, 10.23it/s]"
          ]
        },
        {
          "output_type": "stream",
          "name": "stderr",
          "text": [
            "\n"
          ]
        },
        {
          "output_type": "stream",
          "name": "stdout",
          "text": [
            "Epoch 7: Train BCE=0.8456, Val BCE=0.7577, Val WLL=0.5407, LR=2.00e-05\n"
          ]
        },
        {
          "output_type": "stream",
          "name": "stderr",
          "text": [
            "\rEpoch 8/15 Train:   0%|          | 0/11 [00:00<?, ?it/s]"
          ]
        },
        {
          "output_type": "stream",
          "name": "stderr",
          "text": [
            "\rEpoch 8/15 Train:   9%|\u2589         | 1/11 [00:00<00:03,  3.33it/s]"
          ]
        },
        {
          "output_type": "stream",
          "name": "stderr",
          "text": [
            "\rEpoch 8/15 Train:  27%|\u2588\u2588\u258b       | 3/11 [00:00<00:00,  8.43it/s]"
          ]
        },
        {
          "output_type": "stream",
          "name": "stderr",
          "text": [
            "\rEpoch 8/15 Train:  45%|\u2588\u2588\u2588\u2588\u258c     | 5/11 [00:00<00:00, 11.70it/s]"
          ]
        },
        {
          "output_type": "stream",
          "name": "stderr",
          "text": [
            "\rEpoch 8/15 Train:  64%|\u2588\u2588\u2588\u2588\u2588\u2588\u258e   | 7/11 [00:00<00:00, 13.85it/s]"
          ]
        },
        {
          "output_type": "stream",
          "name": "stderr",
          "text": [
            "\rEpoch 8/15 Train:  82%|\u2588\u2588\u2588\u2588\u2588\u2588\u2588\u2588\u258f | 9/11 [00:00<00:00, 15.29it/s]"
          ]
        },
        {
          "output_type": "stream",
          "name": "stderr",
          "text": [
            "\rEpoch 8/15 Train: 100%|\u2588\u2588\u2588\u2588\u2588\u2588\u2588\u2588\u2588\u2588| 11/11 [00:00<00:00, 12.65it/s]"
          ]
        },
        {
          "output_type": "stream",
          "name": "stderr",
          "text": [
            "\n"
          ]
        },
        {
          "output_type": "stream",
          "name": "stderr",
          "text": [
            "\rVal:   0%|          | 0/3 [00:00<?, ?it/s]"
          ]
        },
        {
          "output_type": "stream",
          "name": "stderr",
          "text": [
            "\rVal:  33%|\u2588\u2588\u2588\u258e      | 1/3 [00:00<00:00,  4.73it/s]"
          ]
        },
        {
          "output_type": "stream",
          "name": "stderr",
          "text": [
            "\rVal: 100%|\u2588\u2588\u2588\u2588\u2588\u2588\u2588\u2588\u2588\u2588| 3/3 [00:00<00:00, 10.54it/s]"
          ]
        },
        {
          "output_type": "stream",
          "name": "stderr",
          "text": [
            "\n"
          ]
        },
        {
          "output_type": "stream",
          "name": "stdout",
          "text": [
            "Epoch 8: Train BCE=0.7383, Val BCE=0.7258, Val WLL=0.5402, LR=1.00e-05\n"
          ]
        },
        {
          "output_type": "stream",
          "name": "stderr",
          "text": [
            "\rEpoch 9/15 Train:   0%|          | 0/11 [00:00<?, ?it/s]"
          ]
        },
        {
          "output_type": "stream",
          "name": "stderr",
          "text": [
            "\rEpoch 9/15 Train:   9%|\u2589         | 1/11 [00:00<00:02,  3.44it/s]"
          ]
        },
        {
          "output_type": "stream",
          "name": "stderr",
          "text": [
            "\rEpoch 9/15 Train:  27%|\u2588\u2588\u258b       | 3/11 [00:00<00:00,  8.50it/s]"
          ]
        },
        {
          "output_type": "stream",
          "name": "stderr",
          "text": [
            "\rEpoch 9/15 Train:  45%|\u2588\u2588\u2588\u2588\u258c     | 5/11 [00:00<00:00, 11.76it/s]"
          ]
        },
        {
          "output_type": "stream",
          "name": "stderr",
          "text": [
            "\rEpoch 9/15 Train:  64%|\u2588\u2588\u2588\u2588\u2588\u2588\u258e   | 7/11 [00:00<00:00, 13.90it/s]"
          ]
        },
        {
          "output_type": "stream",
          "name": "stderr",
          "text": [
            "\rEpoch 9/15 Train:  82%|\u2588\u2588\u2588\u2588\u2588\u2588\u2588\u2588\u258f | 9/11 [00:00<00:00, 15.34it/s]"
          ]
        },
        {
          "output_type": "stream",
          "name": "stderr",
          "text": [
            "\rEpoch 9/15 Train: 100%|\u2588\u2588\u2588\u2588\u2588\u2588\u2588\u2588\u2588\u2588| 11/11 [00:00<00:00, 12.77it/s]"
          ]
        },
        {
          "output_type": "stream",
          "name": "stderr",
          "text": [
            "\n"
          ]
        },
        {
          "output_type": "stream",
          "name": "stderr",
          "text": [
            "\rVal:   0%|          | 0/3 [00:00<?, ?it/s]"
          ]
        },
        {
          "output_type": "stream",
          "name": "stderr",
          "text": [
            "\rVal:  33%|\u2588\u2588\u2588\u258e      | 1/3 [00:00<00:00,  4.75it/s]"
          ]
        },
        {
          "output_type": "stream",
          "name": "stderr",
          "text": [
            "\rVal: 100%|\u2588\u2588\u2588\u2588\u2588\u2588\u2588\u2588\u2588\u2588| 3/3 [00:00<00:00, 10.37it/s]"
          ]
        },
        {
          "output_type": "stream",
          "name": "stderr",
          "text": [
            "\n"
          ]
        },
        {
          "output_type": "stream",
          "name": "stdout",
          "text": [
            "Epoch 9: Train BCE=0.7579, Val BCE=0.7130, Val WLL=0.5287, LR=1.00e-05\n"
          ]
        },
        {
          "output_type": "stream",
          "name": "stderr",
          "text": [
            "\rEpoch 10/15 Train:   0%|          | 0/11 [00:00<?, ?it/s]"
          ]
        },
        {
          "output_type": "stream",
          "name": "stderr",
          "text": [
            "\rEpoch 10/15 Train:   9%|\u2589         | 1/11 [00:00<00:03,  2.60it/s]"
          ]
        },
        {
          "output_type": "stream",
          "name": "stderr",
          "text": [
            "\rEpoch 10/15 Train:  27%|\u2588\u2588\u258b       | 3/11 [00:00<00:01,  7.13it/s]"
          ]
        },
        {
          "output_type": "stream",
          "name": "stderr",
          "text": [
            "\rEpoch 10/15 Train:  45%|\u2588\u2588\u2588\u2588\u258c     | 5/11 [00:00<00:00, 10.41it/s]"
          ]
        },
        {
          "output_type": "stream",
          "name": "stderr",
          "text": [
            "\rEpoch 10/15 Train:  64%|\u2588\u2588\u2588\u2588\u2588\u2588\u258e   | 7/11 [00:00<00:00, 12.77it/s]"
          ]
        },
        {
          "output_type": "stream",
          "name": "stderr",
          "text": [
            "\rEpoch 10/15 Train:  82%|\u2588\u2588\u2588\u2588\u2588\u2588\u2588\u2588\u258f | 9/11 [00:00<00:00, 14.47it/s]"
          ]
        },
        {
          "output_type": "stream",
          "name": "stderr",
          "text": [
            "\rEpoch 10/15 Train: 100%|\u2588\u2588\u2588\u2588\u2588\u2588\u2588\u2588\u2588\u2588| 11/11 [00:00<00:00, 11.43it/s]"
          ]
        },
        {
          "output_type": "stream",
          "name": "stderr",
          "text": [
            "\n"
          ]
        },
        {
          "output_type": "stream",
          "name": "stderr",
          "text": [
            "\rVal:   0%|          | 0/3 [00:00<?, ?it/s]"
          ]
        },
        {
          "output_type": "stream",
          "name": "stderr",
          "text": [
            "\rVal:  33%|\u2588\u2588\u2588\u258e      | 1/3 [00:00<00:00,  4.56it/s]"
          ]
        },
        {
          "output_type": "stream",
          "name": "stderr",
          "text": [
            "\rVal: 100%|\u2588\u2588\u2588\u2588\u2588\u2588\u2588\u2588\u2588\u2588| 3/3 [00:00<00:00, 10.15it/s]"
          ]
        },
        {
          "output_type": "stream",
          "name": "stderr",
          "text": [
            "\n"
          ]
        },
        {
          "output_type": "stream",
          "name": "stdout",
          "text": [
            "Epoch 10: Train BCE=0.7978, Val BCE=0.7196, Val WLL=0.5433, LR=1.00e-05\nEarly stopping at epoch 10\n"
          ]
        },
        {
          "output_type": "stream",
          "name": "stderr",
          "text": [
            "\rFinal Val for OOF:   0%|          | 0/3 [00:00<?, ?it/s]"
          ]
        },
        {
          "output_type": "stream",
          "name": "stderr",
          "text": [
            "\rFinal Val for OOF:  33%|\u2588\u2588\u2588\u258e      | 1/3 [00:00<00:00,  4.56it/s]"
          ]
        },
        {
          "output_type": "stream",
          "name": "stderr",
          "text": [
            "\rFinal Val for OOF: 100%|\u2588\u2588\u2588\u2588\u2588\u2588\u2588\u2588\u2588\u2588| 3/3 [00:00<00:00, 10.10it/s]"
          ]
        },
        {
          "output_type": "stream",
          "name": "stderr",
          "text": [
            "\n"
          ]
        },
        {
          "output_type": "stream",
          "name": "stdout",
          "text": [
            "Fold 4 OOF Weighted Log Loss: 0.5433\n\n=== Fold 5/5 ===\nTrain: 162, Val: 40\nFold pos_weight (clip=2): [2. 2. 2. 2. 2. 2. 2.]\nBias initialized for 7 classes\n"
          ]
        },
        {
          "output_type": "stream",
          "name": "stderr",
          "text": [
            "\rEpoch 1/15 Train:   0%|          | 0/11 [00:00<?, ?it/s]"
          ]
        },
        {
          "output_type": "stream",
          "name": "stderr",
          "text": [
            "\rEpoch 1/15 Train:   9%|\u2589         | 1/11 [00:00<00:03,  3.33it/s]"
          ]
        },
        {
          "output_type": "stream",
          "name": "stderr",
          "text": [
            "\rEpoch 1/15 Train:  27%|\u2588\u2588\u258b       | 3/11 [00:00<00:00,  8.33it/s]"
          ]
        },
        {
          "output_type": "stream",
          "name": "stderr",
          "text": [
            "\rEpoch 1/15 Train:  45%|\u2588\u2588\u2588\u2588\u258c     | 5/11 [00:00<00:00, 11.56it/s]"
          ]
        },
        {
          "output_type": "stream",
          "name": "stderr",
          "text": [
            "\rEpoch 1/15 Train:  64%|\u2588\u2588\u2588\u2588\u2588\u2588\u258e   | 7/11 [00:00<00:00, 13.75it/s]"
          ]
        },
        {
          "output_type": "stream",
          "name": "stderr",
          "text": [
            "\rEpoch 1/15 Train:  82%|\u2588\u2588\u2588\u2588\u2588\u2588\u2588\u2588\u258f | 9/11 [00:00<00:00, 15.20it/s]"
          ]
        },
        {
          "output_type": "stream",
          "name": "stderr",
          "text": [
            "\rEpoch 1/15 Train: 100%|\u2588\u2588\u2588\u2588\u2588\u2588\u2588\u2588\u2588\u2588| 11/11 [00:00<00:00, 12.69it/s]"
          ]
        },
        {
          "output_type": "stream",
          "name": "stderr",
          "text": [
            "\n"
          ]
        },
        {
          "output_type": "stream",
          "name": "stderr",
          "text": [
            "\rVal:   0%|          | 0/3 [00:00<?, ?it/s]"
          ]
        },
        {
          "output_type": "stream",
          "name": "stderr",
          "text": [
            "\rVal:  33%|\u2588\u2588\u2588\u258e      | 1/3 [00:00<00:00,  4.55it/s]"
          ]
        },
        {
          "output_type": "stream",
          "name": "stderr",
          "text": [
            "\rVal: 100%|\u2588\u2588\u2588\u2588\u2588\u2588\u2588\u2588\u2588\u2588| 3/3 [00:00<00:00,  9.89it/s]"
          ]
        },
        {
          "output_type": "stream",
          "name": "stderr",
          "text": [
            "\n"
          ]
        },
        {
          "output_type": "stream",
          "name": "stdout",
          "text": [
            "Epoch 1: Train BCE=0.9934, Val BCE=0.7128, Val WLL=0.6364, LR=2.00e-05\n"
          ]
        },
        {
          "output_type": "stream",
          "name": "stderr",
          "text": [
            "\rEpoch 2/15 Train:   0%|          | 0/11 [00:00<?, ?it/s]"
          ]
        },
        {
          "output_type": "stream",
          "name": "stderr",
          "text": [
            "\rEpoch 2/15 Train:   9%|\u2589         | 1/11 [00:00<00:03,  3.27it/s]"
          ]
        },
        {
          "output_type": "stream",
          "name": "stderr",
          "text": [
            "\rEpoch 2/15 Train:  27%|\u2588\u2588\u258b       | 3/11 [00:00<00:00,  8.34it/s]"
          ]
        },
        {
          "output_type": "stream",
          "name": "stderr",
          "text": [
            "\rEpoch 2/15 Train:  45%|\u2588\u2588\u2588\u2588\u258c     | 5/11 [00:00<00:00, 11.61it/s]"
          ]
        },
        {
          "output_type": "stream",
          "name": "stderr",
          "text": [
            "\rEpoch 2/15 Train:  64%|\u2588\u2588\u2588\u2588\u2588\u2588\u258e   | 7/11 [00:00<00:00, 13.78it/s]"
          ]
        },
        {
          "output_type": "stream",
          "name": "stderr",
          "text": [
            "\rEpoch 2/15 Train:  82%|\u2588\u2588\u2588\u2588\u2588\u2588\u2588\u2588\u258f | 9/11 [00:00<00:00, 15.25it/s]"
          ]
        },
        {
          "output_type": "stream",
          "name": "stderr",
          "text": [
            "\rEpoch 2/15 Train: 100%|\u2588\u2588\u2588\u2588\u2588\u2588\u2588\u2588\u2588\u2588| 11/11 [00:00<00:00, 12.68it/s]"
          ]
        },
        {
          "output_type": "stream",
          "name": "stderr",
          "text": [
            "\n"
          ]
        },
        {
          "output_type": "stream",
          "name": "stderr",
          "text": [
            "\rVal:   0%|          | 0/3 [00:00<?, ?it/s]"
          ]
        },
        {
          "output_type": "stream",
          "name": "stderr",
          "text": [
            "\rVal:  33%|\u2588\u2588\u2588\u258e      | 1/3 [00:00<00:00,  4.74it/s]"
          ]
        },
        {
          "output_type": "stream",
          "name": "stderr",
          "text": [
            "\rVal: 100%|\u2588\u2588\u2588\u2588\u2588\u2588\u2588\u2588\u2588\u2588| 3/3 [00:00<00:00, 10.46it/s]"
          ]
        },
        {
          "output_type": "stream",
          "name": "stderr",
          "text": [
            "\n"
          ]
        },
        {
          "output_type": "stream",
          "name": "stdout",
          "text": [
            "Epoch 2: Train BCE=0.9787, Val BCE=0.7305, Val WLL=0.6773, LR=2.00e-05\n"
          ]
        },
        {
          "output_type": "stream",
          "name": "stderr",
          "text": [
            "\rEpoch 3/15 Train:   0%|          | 0/11 [00:00<?, ?it/s]"
          ]
        },
        {
          "output_type": "stream",
          "name": "stderr",
          "text": [
            "\rEpoch 3/15 Train:   9%|\u2589         | 1/11 [00:00<00:03,  3.24it/s]"
          ]
        },
        {
          "output_type": "stream",
          "name": "stderr",
          "text": [
            "\rEpoch 3/15 Train:  27%|\u2588\u2588\u258b       | 3/11 [00:00<00:00,  8.25it/s]"
          ]
        },
        {
          "output_type": "stream",
          "name": "stderr",
          "text": [
            "\rEpoch 3/15 Train:  45%|\u2588\u2588\u2588\u2588\u258c     | 5/11 [00:00<00:00, 11.50it/s]"
          ]
        },
        {
          "output_type": "stream",
          "name": "stderr",
          "text": [
            "\rEpoch 3/15 Train:  64%|\u2588\u2588\u2588\u2588\u2588\u2588\u258e   | 7/11 [00:00<00:00, 13.66it/s]"
          ]
        },
        {
          "output_type": "stream",
          "name": "stderr",
          "text": [
            "\rEpoch 3/15 Train:  82%|\u2588\u2588\u2588\u2588\u2588\u2588\u2588\u2588\u258f | 9/11 [00:00<00:00, 15.12it/s]"
          ]
        },
        {
          "output_type": "stream",
          "name": "stderr",
          "text": [
            "\rEpoch 3/15 Train: 100%|\u2588\u2588\u2588\u2588\u2588\u2588\u2588\u2588\u2588\u2588| 11/11 [00:00<00:00, 12.52it/s]"
          ]
        },
        {
          "output_type": "stream",
          "name": "stderr",
          "text": [
            "\n"
          ]
        },
        {
          "output_type": "stream",
          "name": "stderr",
          "text": [
            "\rVal:   0%|          | 0/3 [00:00<?, ?it/s]"
          ]
        },
        {
          "output_type": "stream",
          "name": "stderr",
          "text": [
            "\rVal:  33%|\u2588\u2588\u2588\u258e      | 1/3 [00:00<00:00,  4.71it/s]"
          ]
        },
        {
          "output_type": "stream",
          "name": "stderr",
          "text": [
            "\rVal: 100%|\u2588\u2588\u2588\u2588\u2588\u2588\u2588\u2588\u2588\u2588| 3/3 [00:00<00:00, 10.46it/s]"
          ]
        },
        {
          "output_type": "stream",
          "name": "stderr",
          "text": [
            "\n"
          ]
        },
        {
          "output_type": "stream",
          "name": "stdout",
          "text": [
            "Epoch 3: Train BCE=0.8728, Val BCE=0.7273, Val WLL=0.6646, LR=2.00e-05\n"
          ]
        },
        {
          "output_type": "stream",
          "name": "stderr",
          "text": [
            "\rEpoch 4/15 Train:   0%|          | 0/11 [00:00<?, ?it/s]"
          ]
        },
        {
          "output_type": "stream",
          "name": "stderr",
          "text": [
            "\rEpoch 4/15 Train:   9%|\u2589         | 1/11 [00:00<00:03,  3.29it/s]"
          ]
        },
        {
          "output_type": "stream",
          "name": "stderr",
          "text": [
            "\rEpoch 4/15 Train:  27%|\u2588\u2588\u258b       | 3/11 [00:00<00:00,  8.36it/s]"
          ]
        },
        {
          "output_type": "stream",
          "name": "stderr",
          "text": [
            "\rEpoch 4/15 Train:  45%|\u2588\u2588\u2588\u2588\u258c     | 5/11 [00:00<00:00, 11.63it/s]"
          ]
        },
        {
          "output_type": "stream",
          "name": "stderr",
          "text": [
            "\rEpoch 4/15 Train:  64%|\u2588\u2588\u2588\u2588\u2588\u2588\u258e   | 7/11 [00:00<00:00, 13.78it/s]"
          ]
        },
        {
          "output_type": "stream",
          "name": "stderr",
          "text": [
            "\rEpoch 4/15 Train:  82%|\u2588\u2588\u2588\u2588\u2588\u2588\u2588\u2588\u258f | 9/11 [00:00<00:00, 15.24it/s]"
          ]
        },
        {
          "output_type": "stream",
          "name": "stderr",
          "text": [
            "\rEpoch 4/15 Train: 100%|\u2588\u2588\u2588\u2588\u2588\u2588\u2588\u2588\u2588\u2588| 11/11 [00:00<00:00, 12.69it/s]"
          ]
        },
        {
          "output_type": "stream",
          "name": "stderr",
          "text": [
            "\n"
          ]
        },
        {
          "output_type": "stream",
          "name": "stderr",
          "text": [
            "\rVal:   0%|          | 0/3 [00:00<?, ?it/s]"
          ]
        },
        {
          "output_type": "stream",
          "name": "stderr",
          "text": [
            "\rVal:  33%|\u2588\u2588\u2588\u258e      | 1/3 [00:00<00:00,  4.92it/s]"
          ]
        },
        {
          "output_type": "stream",
          "name": "stderr",
          "text": [
            "\rVal: 100%|\u2588\u2588\u2588\u2588\u2588\u2588\u2588\u2588\u2588\u2588| 3/3 [00:00<00:00, 10.43it/s]"
          ]
        },
        {
          "output_type": "stream",
          "name": "stderr",
          "text": [
            "\n"
          ]
        },
        {
          "output_type": "stream",
          "name": "stdout",
          "text": [
            "Epoch 4: Train BCE=0.8685, Val BCE=0.6943, Val WLL=0.5737, LR=2.00e-05\n"
          ]
        },
        {
          "output_type": "stream",
          "name": "stderr",
          "text": [
            "\rEpoch 5/15 Train:   0%|          | 0/11 [00:00<?, ?it/s]"
          ]
        },
        {
          "output_type": "stream",
          "name": "stderr",
          "text": [
            "\rEpoch 5/15 Train:   9%|\u2589         | 1/11 [00:00<00:03,  3.28it/s]"
          ]
        },
        {
          "output_type": "stream",
          "name": "stderr",
          "text": [
            "\rEpoch 5/15 Train:  27%|\u2588\u2588\u258b       | 3/11 [00:00<00:00,  8.30it/s]"
          ]
        },
        {
          "output_type": "stream",
          "name": "stderr",
          "text": [
            "\rEpoch 5/15 Train:  45%|\u2588\u2588\u2588\u2588\u258c     | 5/11 [00:00<00:00, 11.59it/s]"
          ]
        },
        {
          "output_type": "stream",
          "name": "stderr",
          "text": [
            "\rEpoch 5/15 Train:  64%|\u2588\u2588\u2588\u2588\u2588\u2588\u258e   | 7/11 [00:00<00:00, 13.75it/s]"
          ]
        },
        {
          "output_type": "stream",
          "name": "stderr",
          "text": [
            "\rEpoch 5/15 Train:  82%|\u2588\u2588\u2588\u2588\u2588\u2588\u2588\u2588\u258f | 9/11 [00:00<00:00, 15.24it/s]"
          ]
        },
        {
          "output_type": "stream",
          "name": "stderr",
          "text": [
            "\rEpoch 5/15 Train: 100%|\u2588\u2588\u2588\u2588\u2588\u2588\u2588\u2588\u2588\u2588| 11/11 [00:00<00:00, 12.72it/s]"
          ]
        },
        {
          "output_type": "stream",
          "name": "stderr",
          "text": [
            "\n"
          ]
        },
        {
          "output_type": "stream",
          "name": "stderr",
          "text": [
            "\rVal:   0%|          | 0/3 [00:00<?, ?it/s]"
          ]
        },
        {
          "output_type": "stream",
          "name": "stderr",
          "text": [
            "\rVal:  33%|\u2588\u2588\u2588\u258e      | 1/3 [00:00<00:00,  4.84it/s]"
          ]
        },
        {
          "output_type": "stream",
          "name": "stderr",
          "text": [
            "\rVal: 100%|\u2588\u2588\u2588\u2588\u2588\u2588\u2588\u2588\u2588\u2588| 3/3 [00:00<00:00, 10.63it/s]"
          ]
        },
        {
          "output_type": "stream",
          "name": "stderr",
          "text": [
            "\n"
          ]
        },
        {
          "output_type": "stream",
          "name": "stdout",
          "text": [
            "Epoch 5: Train BCE=0.8480, Val BCE=0.7244, Val WLL=0.5365, LR=2.00e-05\n"
          ]
        },
        {
          "output_type": "stream",
          "name": "stderr",
          "text": [
            "\rEpoch 6/15 Train:   0%|          | 0/11 [00:00<?, ?it/s]"
          ]
        },
        {
          "output_type": "stream",
          "name": "stderr",
          "text": [
            "\rEpoch 6/15 Train:   9%|\u2589         | 1/11 [00:00<00:03,  3.09it/s]"
          ]
        },
        {
          "output_type": "stream",
          "name": "stderr",
          "text": [
            "\rEpoch 6/15 Train:  27%|\u2588\u2588\u258b       | 3/11 [00:00<00:01,  8.00it/s]"
          ]
        },
        {
          "output_type": "stream",
          "name": "stderr",
          "text": [
            "\rEpoch 6/15 Train:  45%|\u2588\u2588\u2588\u2588\u258c     | 5/11 [00:00<00:00, 11.27it/s]"
          ]
        },
        {
          "output_type": "stream",
          "name": "stderr",
          "text": [
            "\rEpoch 6/15 Train:  64%|\u2588\u2588\u2588\u2588\u2588\u2588\u258e   | 7/11 [00:00<00:00, 13.48it/s]"
          ]
        },
        {
          "output_type": "stream",
          "name": "stderr",
          "text": [
            "\rEpoch 6/15 Train:  82%|\u2588\u2588\u2588\u2588\u2588\u2588\u2588\u2588\u258f | 9/11 [00:00<00:00, 14.99it/s]"
          ]
        },
        {
          "output_type": "stream",
          "name": "stderr",
          "text": [
            "\rEpoch 6/15 Train: 100%|\u2588\u2588\u2588\u2588\u2588\u2588\u2588\u2588\u2588\u2588| 11/11 [00:00<00:00, 12.33it/s]"
          ]
        },
        {
          "output_type": "stream",
          "name": "stderr",
          "text": [
            "\n"
          ]
        },
        {
          "output_type": "stream",
          "name": "stderr",
          "text": [
            "\rVal:   0%|          | 0/3 [00:00<?, ?it/s]"
          ]
        },
        {
          "output_type": "stream",
          "name": "stderr",
          "text": [
            "\rVal:  33%|\u2588\u2588\u2588\u258e      | 1/3 [00:00<00:00,  4.44it/s]"
          ]
        },
        {
          "output_type": "stream",
          "name": "stderr",
          "text": [
            "\rVal: 100%|\u2588\u2588\u2588\u2588\u2588\u2588\u2588\u2588\u2588\u2588| 3/3 [00:00<00:00,  9.75it/s]"
          ]
        },
        {
          "output_type": "stream",
          "name": "stderr",
          "text": [
            "\n"
          ]
        },
        {
          "output_type": "stream",
          "name": "stdout",
          "text": [
            "Epoch 6: Train BCE=0.8035, Val BCE=0.6788, Val WLL=0.5095, LR=2.00e-05\n"
          ]
        },
        {
          "output_type": "stream",
          "name": "stderr",
          "text": [
            "\rEpoch 7/15 Train:   0%|          | 0/11 [00:00<?, ?it/s]"
          ]
        },
        {
          "output_type": "stream",
          "name": "stderr",
          "text": [
            "\rEpoch 7/15 Train:   9%|\u2589         | 1/11 [00:00<00:03,  3.26it/s]"
          ]
        },
        {
          "output_type": "stream",
          "name": "stderr",
          "text": [
            "\rEpoch 7/15 Train:  27%|\u2588\u2588\u258b       | 3/11 [00:00<00:00,  8.31it/s]"
          ]
        },
        {
          "output_type": "stream",
          "name": "stderr",
          "text": [
            "\rEpoch 7/15 Train:  45%|\u2588\u2588\u2588\u2588\u258c     | 5/11 [00:00<00:00, 11.56it/s]"
          ]
        },
        {
          "output_type": "stream",
          "name": "stderr",
          "text": [
            "\rEpoch 7/15 Train:  64%|\u2588\u2588\u2588\u2588\u2588\u2588\u258e   | 7/11 [00:00<00:00, 13.73it/s]"
          ]
        },
        {
          "output_type": "stream",
          "name": "stderr",
          "text": [
            "\rEpoch 7/15 Train:  82%|\u2588\u2588\u2588\u2588\u2588\u2588\u2588\u2588\u258f | 9/11 [00:00<00:00, 15.19it/s]"
          ]
        },
        {
          "output_type": "stream",
          "name": "stderr",
          "text": [
            "\rEpoch 7/15 Train: 100%|\u2588\u2588\u2588\u2588\u2588\u2588\u2588\u2588\u2588\u2588| 11/11 [00:00<00:00, 12.61it/s]"
          ]
        },
        {
          "output_type": "stream",
          "name": "stderr",
          "text": [
            "\n"
          ]
        },
        {
          "output_type": "stream",
          "name": "stderr",
          "text": [
            "\rVal:   0%|          | 0/3 [00:00<?, ?it/s]"
          ]
        },
        {
          "output_type": "stream",
          "name": "stderr",
          "text": [
            "\rVal:  33%|\u2588\u2588\u2588\u258e      | 1/3 [00:00<00:00,  4.86it/s]"
          ]
        },
        {
          "output_type": "stream",
          "name": "stderr",
          "text": [
            "\rVal: 100%|\u2588\u2588\u2588\u2588\u2588\u2588\u2588\u2588\u2588\u2588| 3/3 [00:00<00:00, 10.54it/s]"
          ]
        },
        {
          "output_type": "stream",
          "name": "stderr",
          "text": [
            "\n"
          ]
        },
        {
          "output_type": "stream",
          "name": "stdout",
          "text": [
            "Epoch 7: Train BCE=0.7632, Val BCE=0.6306, Val WLL=0.4618, LR=2.00e-05\n"
          ]
        },
        {
          "output_type": "stream",
          "name": "stderr",
          "text": [
            "\rEpoch 8/15 Train:   0%|          | 0/11 [00:00<?, ?it/s]"
          ]
        },
        {
          "output_type": "stream",
          "name": "stderr",
          "text": [
            "\rEpoch 8/15 Train:   9%|\u2589         | 1/11 [00:00<00:03,  3.23it/s]"
          ]
        },
        {
          "output_type": "stream",
          "name": "stderr",
          "text": [
            "\rEpoch 8/15 Train:  27%|\u2588\u2588\u258b       | 3/11 [00:00<00:00,  8.25it/s]"
          ]
        },
        {
          "output_type": "stream",
          "name": "stderr",
          "text": [
            "\rEpoch 8/15 Train:  45%|\u2588\u2588\u2588\u2588\u258c     | 5/11 [00:00<00:00, 11.52it/s]"
          ]
        },
        {
          "output_type": "stream",
          "name": "stderr",
          "text": [
            "\rEpoch 8/15 Train:  64%|\u2588\u2588\u2588\u2588\u2588\u2588\u258e   | 7/11 [00:00<00:00, 13.72it/s]"
          ]
        },
        {
          "output_type": "stream",
          "name": "stderr",
          "text": [
            "\rEpoch 8/15 Train:  82%|\u2588\u2588\u2588\u2588\u2588\u2588\u2588\u2588\u258f | 9/11 [00:00<00:00, 15.18it/s]"
          ]
        },
        {
          "output_type": "stream",
          "name": "stderr",
          "text": [
            "\rEpoch 8/15 Train: 100%|\u2588\u2588\u2588\u2588\u2588\u2588\u2588\u2588\u2588\u2588| 11/11 [00:00<00:00, 12.63it/s]"
          ]
        },
        {
          "output_type": "stream",
          "name": "stderr",
          "text": [
            "\n"
          ]
        },
        {
          "output_type": "stream",
          "name": "stderr",
          "text": [
            "\rVal:   0%|          | 0/3 [00:00<?, ?it/s]"
          ]
        },
        {
          "output_type": "stream",
          "name": "stderr",
          "text": [
            "\rVal:  33%|\u2588\u2588\u2588\u258e      | 1/3 [00:00<00:00,  4.80it/s]"
          ]
        },
        {
          "output_type": "stream",
          "name": "stderr",
          "text": [
            "\rVal: 100%|\u2588\u2588\u2588\u2588\u2588\u2588\u2588\u2588\u2588\u2588| 3/3 [00:00<00:00, 10.29it/s]"
          ]
        },
        {
          "output_type": "stream",
          "name": "stderr",
          "text": [
            "\n"
          ]
        },
        {
          "output_type": "stream",
          "name": "stdout",
          "text": [
            "Epoch 8: Train BCE=0.7722, Val BCE=0.6650, Val WLL=0.4937, LR=2.00e-05\n"
          ]
        },
        {
          "output_type": "stream",
          "name": "stderr",
          "text": [
            "\rEpoch 9/15 Train:   0%|          | 0/11 [00:00<?, ?it/s]"
          ]
        },
        {
          "output_type": "stream",
          "name": "stderr",
          "text": [
            "\rEpoch 9/15 Train:   9%|\u2589         | 1/11 [00:00<00:03,  2.66it/s]"
          ]
        },
        {
          "output_type": "stream",
          "name": "stderr",
          "text": [
            "\rEpoch 9/15 Train:  27%|\u2588\u2588\u258b       | 3/11 [00:00<00:01,  7.22it/s]"
          ]
        },
        {
          "output_type": "stream",
          "name": "stderr",
          "text": [
            "\rEpoch 9/15 Train:  45%|\u2588\u2588\u2588\u2588\u258c     | 5/11 [00:00<00:00, 10.49it/s]"
          ]
        },
        {
          "output_type": "stream",
          "name": "stderr",
          "text": [
            "\rEpoch 9/15 Train:  64%|\u2588\u2588\u2588\u2588\u2588\u2588\u258e   | 7/11 [00:00<00:00, 12.83it/s]"
          ]
        },
        {
          "output_type": "stream",
          "name": "stderr",
          "text": [
            "\rEpoch 9/15 Train:  82%|\u2588\u2588\u2588\u2588\u2588\u2588\u2588\u2588\u258f | 9/11 [00:00<00:00, 14.47it/s]"
          ]
        },
        {
          "output_type": "stream",
          "name": "stderr",
          "text": [
            "\rEpoch 9/15 Train: 100%|\u2588\u2588\u2588\u2588\u2588\u2588\u2588\u2588\u2588\u2588| 11/11 [00:00<00:00, 11.58it/s]"
          ]
        },
        {
          "output_type": "stream",
          "name": "stderr",
          "text": [
            "\n"
          ]
        },
        {
          "output_type": "stream",
          "name": "stderr",
          "text": [
            "\rVal:   0%|          | 0/3 [00:00<?, ?it/s]"
          ]
        },
        {
          "output_type": "stream",
          "name": "stderr",
          "text": [
            "\rVal:  33%|\u2588\u2588\u2588\u258e      | 1/3 [00:00<00:00,  4.73it/s]"
          ]
        },
        {
          "output_type": "stream",
          "name": "stderr",
          "text": [
            "\rVal: 100%|\u2588\u2588\u2588\u2588\u2588\u2588\u2588\u2588\u2588\u2588| 3/3 [00:00<00:00, 10.46it/s]"
          ]
        },
        {
          "output_type": "stream",
          "name": "stderr",
          "text": [
            "\n"
          ]
        },
        {
          "output_type": "stream",
          "name": "stdout",
          "text": [
            "Epoch 9: Train BCE=0.7914, Val BCE=0.6021, Val WLL=0.4601, LR=2.00e-05\n"
          ]
        },
        {
          "output_type": "stream",
          "name": "stderr",
          "text": [
            "\rEpoch 10/15 Train:   0%|          | 0/11 [00:00<?, ?it/s]"
          ]
        },
        {
          "output_type": "stream",
          "name": "stderr",
          "text": [
            "\rEpoch 10/15 Train:   9%|\u2589         | 1/11 [00:00<00:03,  3.11it/s]"
          ]
        },
        {
          "output_type": "stream",
          "name": "stderr",
          "text": [
            "\rEpoch 10/15 Train:  27%|\u2588\u2588\u258b       | 3/11 [00:00<00:01,  7.98it/s]"
          ]
        },
        {
          "output_type": "stream",
          "name": "stderr",
          "text": [
            "\rEpoch 10/15 Train:  45%|\u2588\u2588\u2588\u2588\u258c     | 5/11 [00:00<00:00, 11.25it/s]"
          ]
        },
        {
          "output_type": "stream",
          "name": "stderr",
          "text": [
            "\rEpoch 10/15 Train:  64%|\u2588\u2588\u2588\u2588\u2588\u2588\u258e   | 7/11 [00:00<00:00, 13.46it/s]"
          ]
        },
        {
          "output_type": "stream",
          "name": "stderr",
          "text": [
            "\rEpoch 10/15 Train:  82%|\u2588\u2588\u2588\u2588\u2588\u2588\u2588\u2588\u258f | 9/11 [00:00<00:00, 14.98it/s]"
          ]
        },
        {
          "output_type": "stream",
          "name": "stderr",
          "text": [
            "\rEpoch 10/15 Train: 100%|\u2588\u2588\u2588\u2588\u2588\u2588\u2588\u2588\u2588\u2588| 11/11 [00:00<00:00, 12.32it/s]"
          ]
        },
        {
          "output_type": "stream",
          "name": "stderr",
          "text": [
            "\n"
          ]
        },
        {
          "output_type": "stream",
          "name": "stderr",
          "text": [
            "\rVal:   0%|          | 0/3 [00:00<?, ?it/s]"
          ]
        },
        {
          "output_type": "stream",
          "name": "stderr",
          "text": [
            "\rVal:  33%|\u2588\u2588\u2588\u258e      | 1/3 [00:00<00:00,  4.57it/s]"
          ]
        },
        {
          "output_type": "stream",
          "name": "stderr",
          "text": [
            "\rVal: 100%|\u2588\u2588\u2588\u2588\u2588\u2588\u2588\u2588\u2588\u2588| 3/3 [00:00<00:00, 10.04it/s]"
          ]
        },
        {
          "output_type": "stream",
          "name": "stderr",
          "text": [
            "\n"
          ]
        },
        {
          "output_type": "stream",
          "name": "stdout",
          "text": [
            "Epoch 10: Train BCE=0.7626, Val BCE=0.6183, Val WLL=0.5143, LR=2.00e-05\n"
          ]
        },
        {
          "output_type": "stream",
          "name": "stderr",
          "text": [
            "\rEpoch 11/15 Train:   0%|          | 0/11 [00:00<?, ?it/s]"
          ]
        },
        {
          "output_type": "stream",
          "name": "stderr",
          "text": [
            "\rEpoch 11/15 Train:   9%|\u2589         | 1/11 [00:00<00:03,  3.21it/s]"
          ]
        },
        {
          "output_type": "stream",
          "name": "stderr",
          "text": [
            "\rEpoch 11/15 Train:  27%|\u2588\u2588\u258b       | 3/11 [00:00<00:00,  8.18it/s]"
          ]
        },
        {
          "output_type": "stream",
          "name": "stderr",
          "text": [
            "\rEpoch 11/15 Train:  45%|\u2588\u2588\u2588\u2588\u258c     | 5/11 [00:00<00:00, 11.42it/s]"
          ]
        },
        {
          "output_type": "stream",
          "name": "stderr",
          "text": [
            "\rEpoch 11/15 Train:  64%|\u2588\u2588\u2588\u2588\u2588\u2588\u258e   | 7/11 [00:00<00:00, 13.61it/s]"
          ]
        },
        {
          "output_type": "stream",
          "name": "stderr",
          "text": [
            "\rEpoch 11/15 Train:  82%|\u2588\u2588\u2588\u2588\u2588\u2588\u2588\u2588\u258f | 9/11 [00:00<00:00, 15.10it/s]"
          ]
        },
        {
          "output_type": "stream",
          "name": "stderr",
          "text": [
            "\rEpoch 11/15 Train: 100%|\u2588\u2588\u2588\u2588\u2588\u2588\u2588\u2588\u2588\u2588| 11/11 [00:00<00:00, 12.51it/s]"
          ]
        },
        {
          "output_type": "stream",
          "name": "stderr",
          "text": [
            "\n"
          ]
        },
        {
          "output_type": "stream",
          "name": "stderr",
          "text": [
            "\rVal:   0%|          | 0/3 [00:00<?, ?it/s]"
          ]
        },
        {
          "output_type": "stream",
          "name": "stderr",
          "text": [
            "\rVal:  33%|\u2588\u2588\u2588\u258e      | 1/3 [00:00<00:00,  4.66it/s]"
          ]
        },
        {
          "output_type": "stream",
          "name": "stderr",
          "text": [
            "\rVal: 100%|\u2588\u2588\u2588\u2588\u2588\u2588\u2588\u2588\u2588\u2588| 3/3 [00:00<00:00, 10.42it/s]"
          ]
        },
        {
          "output_type": "stream",
          "name": "stderr",
          "text": [
            "\n"
          ]
        },
        {
          "output_type": "stream",
          "name": "stdout",
          "text": [
            "Epoch 11: Train BCE=0.7485, Val BCE=0.6391, Val WLL=0.5265, LR=2.00e-05\n"
          ]
        },
        {
          "output_type": "stream",
          "name": "stderr",
          "text": [
            "\rEpoch 12/15 Train:   0%|          | 0/11 [00:00<?, ?it/s]"
          ]
        },
        {
          "output_type": "stream",
          "name": "stderr",
          "text": [
            "\rEpoch 12/15 Train:   9%|\u2589         | 1/11 [00:00<00:03,  3.25it/s]"
          ]
        },
        {
          "output_type": "stream",
          "name": "stderr",
          "text": [
            "\rEpoch 12/15 Train:  27%|\u2588\u2588\u258b       | 3/11 [00:00<00:00,  8.26it/s]"
          ]
        },
        {
          "output_type": "stream",
          "name": "stderr",
          "text": [
            "\rEpoch 12/15 Train:  45%|\u2588\u2588\u2588\u2588\u258c     | 5/11 [00:00<00:00, 11.53it/s]"
          ]
        },
        {
          "output_type": "stream",
          "name": "stderr",
          "text": [
            "\rEpoch 12/15 Train:  64%|\u2588\u2588\u2588\u2588\u2588\u2588\u258e   | 7/11 [00:00<00:00, 13.71it/s]"
          ]
        },
        {
          "output_type": "stream",
          "name": "stderr",
          "text": [
            "\rEpoch 12/15 Train:  82%|\u2588\u2588\u2588\u2588\u2588\u2588\u2588\u2588\u258f | 9/11 [00:00<00:00, 15.15it/s]"
          ]
        },
        {
          "output_type": "stream",
          "name": "stderr",
          "text": [
            "\rEpoch 12/15 Train: 100%|\u2588\u2588\u2588\u2588\u2588\u2588\u2588\u2588\u2588\u2588| 11/11 [00:00<00:00, 12.56it/s]"
          ]
        },
        {
          "output_type": "stream",
          "name": "stderr",
          "text": [
            "\n"
          ]
        },
        {
          "output_type": "stream",
          "name": "stderr",
          "text": [
            "\rVal:   0%|          | 0/3 [00:00<?, ?it/s]"
          ]
        },
        {
          "output_type": "stream",
          "name": "stderr",
          "text": [
            "\rVal:  33%|\u2588\u2588\u2588\u258e      | 1/3 [00:00<00:00,  4.66it/s]"
          ]
        },
        {
          "output_type": "stream",
          "name": "stderr",
          "text": [
            "\rVal: 100%|\u2588\u2588\u2588\u2588\u2588\u2588\u2588\u2588\u2588\u2588| 3/3 [00:00<00:00, 10.16it/s]"
          ]
        },
        {
          "output_type": "stream",
          "name": "stderr",
          "text": [
            "\n"
          ]
        },
        {
          "output_type": "stream",
          "name": "stdout",
          "text": [
            "Epoch 12: Train BCE=0.7796, Val BCE=0.6318, Val WLL=0.5371, LR=1.00e-05\n"
          ]
        },
        {
          "output_type": "stream",
          "name": "stderr",
          "text": [
            "\rEpoch 13/15 Train:   0%|          | 0/11 [00:00<?, ?it/s]"
          ]
        },
        {
          "output_type": "stream",
          "name": "stderr",
          "text": [
            "\rEpoch 13/15 Train:   9%|\u2589         | 1/11 [00:00<00:02,  3.43it/s]"
          ]
        },
        {
          "output_type": "stream",
          "name": "stderr",
          "text": [
            "\rEpoch 13/15 Train:  27%|\u2588\u2588\u258b       | 3/11 [00:00<00:00,  8.52it/s]"
          ]
        },
        {
          "output_type": "stream",
          "name": "stderr",
          "text": [
            "\rEpoch 13/15 Train:  45%|\u2588\u2588\u2588\u2588\u258c     | 5/11 [00:00<00:00, 11.76it/s]"
          ]
        },
        {
          "output_type": "stream",
          "name": "stderr",
          "text": [
            "\rEpoch 13/15 Train:  64%|\u2588\u2588\u2588\u2588\u2588\u2588\u258e   | 7/11 [00:00<00:00, 13.87it/s]"
          ]
        },
        {
          "output_type": "stream",
          "name": "stderr",
          "text": [
            "\rEpoch 13/15 Train:  82%|\u2588\u2588\u2588\u2588\u2588\u2588\u2588\u2588\u258f | 9/11 [00:00<00:00, 15.28it/s]"
          ]
        },
        {
          "output_type": "stream",
          "name": "stderr",
          "text": [
            "\rEpoch 13/15 Train: 100%|\u2588\u2588\u2588\u2588\u2588\u2588\u2588\u2588\u2588\u2588| 11/11 [00:00<00:00, 12.74it/s]"
          ]
        },
        {
          "output_type": "stream",
          "name": "stderr",
          "text": [
            "\n"
          ]
        },
        {
          "output_type": "stream",
          "name": "stderr",
          "text": [
            "\rVal:   0%|          | 0/3 [00:00<?, ?it/s]"
          ]
        },
        {
          "output_type": "stream",
          "name": "stderr",
          "text": [
            "\rVal:  33%|\u2588\u2588\u2588\u258e      | 1/3 [00:00<00:00,  4.79it/s]"
          ]
        },
        {
          "output_type": "stream",
          "name": "stderr",
          "text": [
            "\rVal: 100%|\u2588\u2588\u2588\u2588\u2588\u2588\u2588\u2588\u2588\u2588| 3/3 [00:00<00:00, 10.55it/s]"
          ]
        },
        {
          "output_type": "stream",
          "name": "stderr",
          "text": [
            "\n"
          ]
        },
        {
          "output_type": "stream",
          "name": "stdout",
          "text": [
            "Epoch 13: Train BCE=0.7425, Val BCE=0.6769, Val WLL=0.5925, LR=1.00e-05\n"
          ]
        },
        {
          "output_type": "stream",
          "name": "stderr",
          "text": [
            "\rEpoch 14/15 Train:   0%|          | 0/11 [00:00<?, ?it/s]"
          ]
        },
        {
          "output_type": "stream",
          "name": "stderr",
          "text": [
            "\rEpoch 14/15 Train:   9%|\u2589         | 1/11 [00:00<00:02,  3.46it/s]"
          ]
        },
        {
          "output_type": "stream",
          "name": "stderr",
          "text": [
            "\rEpoch 14/15 Train:  27%|\u2588\u2588\u258b       | 3/11 [00:00<00:00,  8.62it/s]"
          ]
        },
        {
          "output_type": "stream",
          "name": "stderr",
          "text": [
            "\rEpoch 14/15 Train:  45%|\u2588\u2588\u2588\u2588\u258c     | 5/11 [00:00<00:00, 11.83it/s]"
          ]
        },
        {
          "output_type": "stream",
          "name": "stderr",
          "text": [
            "\rEpoch 14/15 Train:  64%|\u2588\u2588\u2588\u2588\u2588\u2588\u258e   | 7/11 [00:00<00:00, 13.91it/s]"
          ]
        },
        {
          "output_type": "stream",
          "name": "stderr",
          "text": [
            "\rEpoch 14/15 Train:  82%|\u2588\u2588\u2588\u2588\u2588\u2588\u2588\u2588\u258f | 9/11 [00:00<00:00, 15.31it/s]"
          ]
        },
        {
          "output_type": "stream",
          "name": "stderr",
          "text": [
            "\rEpoch 14/15 Train: 100%|\u2588\u2588\u2588\u2588\u2588\u2588\u2588\u2588\u2588\u2588| 11/11 [00:00<00:00, 12.84it/s]"
          ]
        },
        {
          "output_type": "stream",
          "name": "stderr",
          "text": [
            "\n"
          ]
        },
        {
          "output_type": "stream",
          "name": "stderr",
          "text": [
            "\rVal:   0%|          | 0/3 [00:00<?, ?it/s]"
          ]
        },
        {
          "output_type": "stream",
          "name": "stderr",
          "text": [
            "\rVal:  33%|\u2588\u2588\u2588\u258e      | 1/3 [00:00<00:00,  4.71it/s]"
          ]
        },
        {
          "output_type": "stream",
          "name": "stderr",
          "text": [
            "\rVal: 100%|\u2588\u2588\u2588\u2588\u2588\u2588\u2588\u2588\u2588\u2588| 3/3 [00:00<00:00, 10.19it/s]"
          ]
        },
        {
          "output_type": "stream",
          "name": "stderr",
          "text": [
            "\n"
          ]
        },
        {
          "output_type": "stream",
          "name": "stdout",
          "text": [
            "Epoch 14: Train BCE=0.7460, Val BCE=0.6634, Val WLL=0.5306, LR=1.00e-05\nEarly stopping at epoch 14\n"
          ]
        },
        {
          "output_type": "stream",
          "name": "stderr",
          "text": [
            "\rFinal Val for OOF:   0%|          | 0/3 [00:00<?, ?it/s]"
          ]
        },
        {
          "output_type": "stream",
          "name": "stderr",
          "text": [
            "\rFinal Val for OOF:  33%|\u2588\u2588\u2588\u258e      | 1/3 [00:00<00:00,  4.53it/s]"
          ]
        },
        {
          "output_type": "stream",
          "name": "stderr",
          "text": [
            "\rFinal Val for OOF: 100%|\u2588\u2588\u2588\u2588\u2588\u2588\u2588\u2588\u2588\u2588| 3/3 [00:00<00:00, 10.11it/s]"
          ]
        },
        {
          "output_type": "stream",
          "name": "stdout",
          "text": [
            "Fold 5 OOF Weighted Log Loss: 0.5306\n\nCV Mean Weighted Log Loss: 0.5764 +/- 0.0913\nFull OOF Weighted Log Loss: 0.5771\nFull 7-class CV completed with tweaks, OOF saved to oof_predictions.csv\n"
          ]
        },
        {
          "output_type": "stream",
          "name": "stderr",
          "text": [
            "\n"
          ]
        }
      ]
    },
    {
      "id": "a7bab28f-afe9-4498-9c84-964eca86af54",
      "cell_type": "code",
      "metadata": {},
      "source": [
        "# ConvNeXt-Tiny 5-fold CV using same pipeline/hparams as Cell 7, plus head warmup + EMA\n",
        "from iterstrat.ml_stratifiers import MultilabelStratifiedKFold\n",
        "from torch.optim.lr_scheduler import ReduceLROnPlateau\n",
        "from torch.utils.data import WeightedRandomSampler\n",
        "import torch.nn as nn\n",
        "import torch.nn.functional as F\n",
        "import timm\n",
        "\n",
        "full_train_df = pd.read_csv('data/train_mips.csv')\n",
        "label_cols = ['C1','C2','C3','C4','C5','C6','C7']\n",
        "y_full = full_train_df[label_cols].values\n",
        "mip_dir = 'data/mips/train'\n",
        "n_folds = 5\n",
        "\n",
        "skf = MultilabelStratifiedKFold(n_splits=n_folds, shuffle=True, random_state=42)\n",
        "splits = list(skf.split(full_train_df, y_full))\n",
        "\n",
        "def build_convnext(num_classes=7):\n",
        "    m = timm.create_model('convnext_tiny', pretrained=True, num_classes=num_classes, in_chans=3,\n",
        "                          drop_rate=0.3, drop_path_rate=0.1)\n",
        "    return m\n",
        "\n",
        "oof_preds_full = np.zeros((len(full_train_df), 7), dtype=np.float32)\n",
        "oof_overall_full = np.zeros(len(full_train_df), dtype=np.float32)\n",
        "fold_scores = []\n",
        "\n",
        "for fold, (train_idx, val_idx) in enumerate(splits, 1):\n",
        "    print(f'\\n=== ConvNeXt Fold {fold}/{n_folds} ===')\n",
        "    train_df_f = full_train_df.iloc[train_idx].reset_index(drop=True)\n",
        "    val_df_f = full_train_df.iloc[val_idx].reset_index(drop=True)\n",
        "\n",
        "    # pos_weight (clip=2.0)\n",
        "    y_tr = train_df_f[label_cols].values\n",
        "    pos = (y_tr == 1).sum(axis=0); neg = (y_tr == 0).sum(axis=0)\n",
        "    w = np.minimum(neg / (pos + 1e-6), 2.0).astype(np.float32)\n",
        "    fold_pos_weight = torch.tensor(w, dtype=torch.float32, device=device)\n",
        "\n",
        "    # WeightedRandomSampler (cap=3.0)\n",
        "    class_rarity = np.minimum(neg / (pos + 1e-6), 10.0).astype(np.float32)\n",
        "    sample_weight = (y_tr * class_rarity).max(axis=1)\n",
        "    sample_weight = np.where(sample_weight > 0, sample_weight, 1.0)\n",
        "    sample_weight = np.sqrt(sample_weight)\n",
        "    sample_weight = np.clip(sample_weight, 1.0, 3.0)\n",
        "    sampler = WeightedRandomSampler(torch.from_numpy(sample_weight), len(sample_weight), replacement=True)\n",
        "\n",
        "    train_ds = MIPDataset(train_df_f, mip_dir, label_cols, train_transform)\n",
        "    val_ds = MIPDataset(val_df_f, mip_dir, label_cols, val_transform)\n",
        "    train_loader = DataLoader(train_ds, batch_size=16, sampler=sampler, num_workers=4, pin_memory=True, drop_last=False)\n",
        "    val_loader = DataLoader(val_ds, batch_size=16, shuffle=False, num_workers=4, pin_memory=True, drop_last=False)\n",
        "\n",
        "    # Model\n",
        "    model = build_convnext(7).to(device)\n",
        "\n",
        "    # Bias init from priors\n",
        "    with torch.no_grad():\n",
        "        priors = np.clip(y_tr.mean(axis=0) + 1e-6, 1e-6, 1-1e-6)\n",
        "        bias = np.log(priors / (1 - priors)).astype(np.float32)\n",
        "        head = getattr(model, 'head', None)\n",
        "        if head is not None and hasattr(head, 'fc') and head.fc.bias is not None:\n",
        "            head.fc.bias.copy_(torch.from_numpy(bias).to(head.fc.bias.device))\n",
        "\n",
        "    optimizer = optim.AdamW(model.parameters(), lr=2e-5, weight_decay=1e-4)\n",
        "    scheduler = ReduceLROnPlateau(optimizer, mode='min', factor=0.5, patience=2, verbose=True, min_lr=1e-6)\n",
        "    criterion = SmoothedBCEWithLogitsLoss(pos_weight=fold_pos_weight, smoothing=0.0)\n",
        "    scaler = GradScaler()\n",
        "    early_stopping = EarlyStopping(patience=5, min_delta=0.001, restore_best_weights=False)\n",
        "\n",
        "    # EMA\n",
        "    ema = timm.utils.ModelEmaV2(model, decay=0.995)\n",
        "\n",
        "    num_epochs = 15\n",
        "    warmup_epochs = 2\n",
        "    best_wll = float('inf')\n",
        "    best_state = None\n",
        "\n",
        "    for epoch in range(num_epochs):\n",
        "        # Head warmup\n",
        "        if epoch < warmup_epochs:\n",
        "            for p in model.parameters(): p.requires_grad = False\n",
        "            if hasattr(model, 'head'):\n",
        "                for p in model.head.parameters(): p.requires_grad = True\n",
        "        else:\n",
        "            for p in model.parameters(): p.requires_grad = True\n",
        "\n",
        "        model.train()\n",
        "        train_loss = 0.0\n",
        "        for images, labels in tqdm(train_loader, desc=f'Epoch {epoch+1}/{num_epochs} Train'):\n",
        "            images = images.to(device); labels7 = labels.to(device)\n",
        "            optimizer.zero_grad(set_to_none=True)\n",
        "            with torch.cuda.amp.autocast():\n",
        "                logits = model(images)\n",
        "                loss = criterion(logits, labels7)\n",
        "            scaler.scale(loss).backward()\n",
        "            nn_utils.clip_grad_norm_(model.parameters(), max_norm=1.0)\n",
        "            scaler.step(optimizer)\n",
        "            scaler.update()\n",
        "            ema.update(model)\n",
        "            train_loss += loss.item() * images.size(0)\n",
        "        train_loss /= len(train_ds)\n",
        "\n",
        "        # Validation with EMA\n",
        "        ema.module.eval()\n",
        "        val_wll = 0.0\n",
        "        with torch.no_grad():\n",
        "            for images, labels in tqdm(val_loader, desc='Val'):\n",
        "                images = images.to(device); labels7 = labels.to(device)\n",
        "                logits = ema.module(images)\n",
        "                probs7 = torch.sigmoid(logits)\n",
        "                probs_overall = probs7.max(dim=1, keepdim=True)[0]\n",
        "                labels_overall = labels7.max(dim=1, keepdim=True)[0]\n",
        "                probs8 = torch.cat([probs7, probs_overall], dim=1)\n",
        "                labels8 = torch.cat([labels7, labels_overall], dim=1)\n",
        "                val_wll += weighted_log_loss_torch(labels8, probs8).item() * images.size(0)\n",
        "        val_wll /= len(val_ds)\n",
        "        scheduler.step(val_wll)\n",
        "        print(f'Epoch {epoch+1}: TrainBCE={train_loss:.4f}, ValWLL={val_wll:.4f}, LR={optimizer.param_groups[0][\"lr\"]:.2e}')\n",
        "\n",
        "        if val_wll < best_wll:\n",
        "            best_wll = val_wll\n",
        "            best_state = ema.module.state_dict()\n",
        "\n",
        "        if early_stopping(val_wll, model):\n",
        "            print(f'Early stopping at epoch {epoch+1}')\n",
        "            break\n",
        "\n",
        "    # Save best EMA weights\n",
        "    torch.save(best_state, f'fold_{fold}_convnext.pth')\n",
        "    print(f'ConvNeXt Fold {fold} best OOF WLL (val): {best_wll:.4f}')\n",
        "\n",
        "    # OOF collection with best EMA\n",
        "    ema.module.load_state_dict(best_state)\n",
        "    ema.module.eval()\n",
        "    fold_oof_preds_7 = np.zeros((len(val_df_f), 7), dtype=np.float32)\n",
        "    fold_oof_overall = np.zeros(len(val_df_f), dtype=np.float32)\n",
        "    start = 0\n",
        "    with torch.no_grad():\n",
        "        for images, _ in tqdm(val_loader, desc='Final Val for OOF'):\n",
        "            images = images.to(device)\n",
        "            logits = ema.module(images)\n",
        "            probs7 = torch.sigmoid(logits).cpu().numpy()\n",
        "            probs_overall = probs7.max(axis=1)\n",
        "            bs = images.size(0)\n",
        "            fold_oof_preds_7[start:start+bs] = probs7\n",
        "            fold_oof_overall[start:start+bs] = probs_overall\n",
        "            start += bs\n",
        "\n",
        "    oof_preds_full[val_idx] = fold_oof_preds_7\n",
        "    oof_overall_full[val_idx] = fold_oof_overall\n",
        "\n",
        "    y_val = val_df_f[label_cols].values\n",
        "    fold_preds_8 = np.column_stack([fold_oof_preds_7, fold_oof_overall])\n",
        "    fold_labels_8 = np.column_stack([y_val, np.max(y_val, axis=1)])\n",
        "    fold_score = weighted_log_loss(fold_labels_8, fold_preds_8)\n",
        "    fold_scores.append(fold_score)\n",
        "    print(f'ConvNeXt Fold {fold} OOF WLL: {fold_score:.4f}')\n",
        "\n",
        "cv_mean = float(np.mean(fold_scores)); cv_std = float(np.std(fold_scores))\n",
        "print(f'\\nConvNeXt CV Mean WLL: {cv_mean:.4f} +/- {cv_std:.4f}')\n",
        "conv_oof_df = full_train_df[['StudyInstanceUID']].copy()\n",
        "conv_oof_df[label_cols] = oof_preds_full\n",
        "conv_oof_df['patient_overall'] = oof_overall_full\n",
        "conv_oof_df.to_csv('oof_predictions_convnext.csv', index=False)"
      ],
      "execution_count": 11,
      "outputs": [
        {
          "output_type": "stream",
          "name": "stdout",
          "text": [
            "\n=== ConvNeXt Fold 1/5 ===\n"
          ]
        },
        {
          "output_type": "stream",
          "name": "stderr",
          "text": [
            "\rEpoch 1/15 Train:   0%|          | 0/11 [00:00<?, ?it/s]"
          ]
        },
        {
          "output_type": "stream",
          "name": "stderr",
          "text": [
            "\rEpoch 1/15 Train:   9%|\u2589         | 1/11 [00:00<00:03,  2.97it/s]"
          ]
        },
        {
          "output_type": "stream",
          "name": "stderr",
          "text": [
            "\rEpoch 1/15 Train:  36%|\u2588\u2588\u2588\u258b      | 4/11 [00:00<00:00, 10.48it/s]"
          ]
        },
        {
          "output_type": "stream",
          "name": "stderr",
          "text": [
            "\rEpoch 1/15 Train:  64%|\u2588\u2588\u2588\u2588\u2588\u2588\u258e   | 7/11 [00:00<00:00, 15.49it/s]"
          ]
        },
        {
          "output_type": "stream",
          "name": "stderr",
          "text": [
            "\rEpoch 1/15 Train:  91%|\u2588\u2588\u2588\u2588\u2588\u2588\u2588\u2588\u2588 | 10/11 [00:00<00:00, 18.99it/s]"
          ]
        },
        {
          "output_type": "stream",
          "name": "stderr",
          "text": [
            "\rEpoch 1/15 Train: 100%|\u2588\u2588\u2588\u2588\u2588\u2588\u2588\u2588\u2588\u2588| 11/11 [00:00<00:00, 14.75it/s]"
          ]
        },
        {
          "output_type": "stream",
          "name": "stderr",
          "text": [
            "\n"
          ]
        },
        {
          "output_type": "stream",
          "name": "stderr",
          "text": [
            "\rVal:   0%|          | 0/3 [00:00<?, ?it/s]"
          ]
        },
        {
          "output_type": "stream",
          "name": "stderr",
          "text": [
            "\rVal:  33%|\u2588\u2588\u2588\u258e      | 1/3 [00:00<00:00,  3.98it/s]"
          ]
        },
        {
          "output_type": "stream",
          "name": "stderr",
          "text": [
            "\rVal: 100%|\u2588\u2588\u2588\u2588\u2588\u2588\u2588\u2588\u2588\u2588| 3/3 [00:00<00:00,  9.72it/s]"
          ]
        },
        {
          "output_type": "stream",
          "name": "stderr",
          "text": [
            "\rVal: 100%|\u2588\u2588\u2588\u2588\u2588\u2588\u2588\u2588\u2588\u2588| 3/3 [00:00<00:00,  7.62it/s]"
          ]
        },
        {
          "output_type": "stream",
          "name": "stderr",
          "text": [
            "\n"
          ]
        },
        {
          "output_type": "stream",
          "name": "stdout",
          "text": [
            "Epoch 1: TrainBCE=0.9976, ValWLL=0.4813, LR=2.00e-05\n"
          ]
        },
        {
          "output_type": "stream",
          "name": "stderr",
          "text": [
            "\rEpoch 2/15 Train:   0%|          | 0/11 [00:00<?, ?it/s]"
          ]
        },
        {
          "output_type": "stream",
          "name": "stderr",
          "text": [
            "\rEpoch 2/15 Train:   9%|\u2589         | 1/11 [00:00<00:03,  3.26it/s]"
          ]
        },
        {
          "output_type": "stream",
          "name": "stderr",
          "text": [
            "\rEpoch 2/15 Train:  36%|\u2588\u2588\u2588\u258b      | 4/11 [00:00<00:00, 11.29it/s]"
          ]
        },
        {
          "output_type": "stream",
          "name": "stderr",
          "text": [
            "\rEpoch 2/15 Train:  64%|\u2588\u2588\u2588\u2588\u2588\u2588\u258e   | 7/11 [00:00<00:00, 16.43it/s]"
          ]
        },
        {
          "output_type": "stream",
          "name": "stderr",
          "text": [
            "\rEpoch 2/15 Train:  91%|\u2588\u2588\u2588\u2588\u2588\u2588\u2588\u2588\u2588 | 10/11 [00:00<00:00, 19.78it/s]"
          ]
        },
        {
          "output_type": "stream",
          "name": "stderr",
          "text": [
            "\rEpoch 2/15 Train: 100%|\u2588\u2588\u2588\u2588\u2588\u2588\u2588\u2588\u2588\u2588| 11/11 [00:00<00:00, 15.49it/s]"
          ]
        },
        {
          "output_type": "stream",
          "name": "stderr",
          "text": [
            "\n"
          ]
        },
        {
          "output_type": "stream",
          "name": "stderr",
          "text": [
            "\rVal:   0%|          | 0/3 [00:00<?, ?it/s]"
          ]
        },
        {
          "output_type": "stream",
          "name": "stderr",
          "text": [
            "\rVal:  33%|\u2588\u2588\u2588\u258e      | 1/3 [00:00<00:00,  3.87it/s]"
          ]
        },
        {
          "output_type": "stream",
          "name": "stderr",
          "text": [
            "\rVal: 100%|\u2588\u2588\u2588\u2588\u2588\u2588\u2588\u2588\u2588\u2588| 3/3 [00:00<00:00,  9.55it/s]"
          ]
        },
        {
          "output_type": "stream",
          "name": "stderr",
          "text": [
            "\rVal: 100%|\u2588\u2588\u2588\u2588\u2588\u2588\u2588\u2588\u2588\u2588| 3/3 [00:00<00:00,  7.32it/s]"
          ]
        },
        {
          "output_type": "stream",
          "name": "stderr",
          "text": [
            "\n"
          ]
        },
        {
          "output_type": "stream",
          "name": "stdout",
          "text": [
            "Epoch 2: TrainBCE=0.9243, ValWLL=0.4808, LR=2.00e-05\n"
          ]
        },
        {
          "output_type": "stream",
          "name": "stderr",
          "text": [
            "\rEpoch 3/15 Train:   0%|          | 0/11 [00:00<?, ?it/s]"
          ]
        },
        {
          "output_type": "stream",
          "name": "stderr",
          "text": [
            "\rEpoch 3/15 Train:   9%|\u2589         | 1/11 [00:00<00:03,  2.78it/s]"
          ]
        },
        {
          "output_type": "stream",
          "name": "stderr",
          "text": [
            "\rEpoch 3/15 Train:  18%|\u2588\u258a        | 2/11 [00:00<00:01,  4.79it/s]"
          ]
        },
        {
          "output_type": "stream",
          "name": "stderr",
          "text": [
            "\rEpoch 3/15 Train:  36%|\u2588\u2588\u2588\u258b      | 4/11 [00:00<00:00,  7.02it/s]"
          ]
        },
        {
          "output_type": "stream",
          "name": "stderr",
          "text": [
            "\rEpoch 3/15 Train:  55%|\u2588\u2588\u2588\u2588\u2588\u258d    | 6/11 [00:00<00:00,  8.33it/s]"
          ]
        },
        {
          "output_type": "stream",
          "name": "stderr",
          "text": [
            "\rEpoch 3/15 Train:  73%|\u2588\u2588\u2588\u2588\u2588\u2588\u2588\u258e  | 8/11 [00:01<00:00,  9.06it/s]"
          ]
        },
        {
          "output_type": "stream",
          "name": "stderr",
          "text": [
            "\rEpoch 3/15 Train:  91%|\u2588\u2588\u2588\u2588\u2588\u2588\u2588\u2588\u2588 | 10/11 [00:01<00:00,  9.43it/s]"
          ]
        },
        {
          "output_type": "stream",
          "name": "stderr",
          "text": [
            "\rEpoch 3/15 Train: 100%|\u2588\u2588\u2588\u2588\u2588\u2588\u2588\u2588\u2588\u2588| 11/11 [00:01<00:00,  8.21it/s]"
          ]
        },
        {
          "output_type": "stream",
          "name": "stderr",
          "text": [
            "\n"
          ]
        },
        {
          "output_type": "stream",
          "name": "stderr",
          "text": [
            "\rVal:   0%|          | 0/3 [00:00<?, ?it/s]"
          ]
        },
        {
          "output_type": "stream",
          "name": "stderr",
          "text": [
            "\rVal:  33%|\u2588\u2588\u2588\u258e      | 1/3 [00:00<00:00,  4.08it/s]"
          ]
        },
        {
          "output_type": "stream",
          "name": "stderr",
          "text": [
            "\rVal: 100%|\u2588\u2588\u2588\u2588\u2588\u2588\u2588\u2588\u2588\u2588| 3/3 [00:00<00:00,  9.90it/s]"
          ]
        },
        {
          "output_type": "stream",
          "name": "stderr",
          "text": [
            "\rVal: 100%|\u2588\u2588\u2588\u2588\u2588\u2588\u2588\u2588\u2588\u2588| 3/3 [00:00<00:00,  7.73it/s]"
          ]
        },
        {
          "output_type": "stream",
          "name": "stderr",
          "text": [
            "\n"
          ]
        },
        {
          "output_type": "stream",
          "name": "stdout",
          "text": [
            "Epoch 3: TrainBCE=0.8731, ValWLL=0.4801, LR=2.00e-05\n"
          ]
        },
        {
          "output_type": "stream",
          "name": "stderr",
          "text": [
            "\rEpoch 4/15 Train:   0%|          | 0/11 [00:00<?, ?it/s]"
          ]
        },
        {
          "output_type": "stream",
          "name": "stderr",
          "text": [
            "\rEpoch 4/15 Train:   9%|\u2589         | 1/11 [00:00<00:03,  2.78it/s]"
          ]
        },
        {
          "output_type": "stream",
          "name": "stderr",
          "text": [
            "\rEpoch 4/15 Train:  18%|\u2588\u258a        | 2/11 [00:00<00:01,  4.82it/s]"
          ]
        },
        {
          "output_type": "stream",
          "name": "stderr",
          "text": [
            "\rEpoch 4/15 Train:  36%|\u2588\u2588\u2588\u258b      | 4/11 [00:00<00:00,  7.18it/s]"
          ]
        },
        {
          "output_type": "stream",
          "name": "stderr",
          "text": [
            "\rEpoch 4/15 Train:  55%|\u2588\u2588\u2588\u2588\u2588\u258d    | 6/11 [00:00<00:00,  8.33it/s]"
          ]
        },
        {
          "output_type": "stream",
          "name": "stderr",
          "text": [
            "\rEpoch 4/15 Train:  73%|\u2588\u2588\u2588\u2588\u2588\u2588\u2588\u258e  | 8/11 [00:01<00:00,  8.97it/s]"
          ]
        },
        {
          "output_type": "stream",
          "name": "stderr",
          "text": [
            "\rEpoch 4/15 Train:  91%|\u2588\u2588\u2588\u2588\u2588\u2588\u2588\u2588\u2588 | 10/11 [00:01<00:00,  9.35it/s]"
          ]
        },
        {
          "output_type": "stream",
          "name": "stderr",
          "text": [
            "\rEpoch 4/15 Train: 100%|\u2588\u2588\u2588\u2588\u2588\u2588\u2588\u2588\u2588\u2588| 11/11 [00:01<00:00,  8.24it/s]"
          ]
        },
        {
          "output_type": "stream",
          "name": "stderr",
          "text": [
            "\n"
          ]
        },
        {
          "output_type": "stream",
          "name": "stderr",
          "text": [
            "\rVal:   0%|          | 0/3 [00:00<?, ?it/s]"
          ]
        },
        {
          "output_type": "stream",
          "name": "stderr",
          "text": [
            "\rVal:  33%|\u2588\u2588\u2588\u258e      | 1/3 [00:00<00:00,  3.91it/s]"
          ]
        },
        {
          "output_type": "stream",
          "name": "stderr",
          "text": [
            "\rVal: 100%|\u2588\u2588\u2588\u2588\u2588\u2588\u2588\u2588\u2588\u2588| 3/3 [00:00<00:00,  9.62it/s]"
          ]
        },
        {
          "output_type": "stream",
          "name": "stderr",
          "text": [
            "\rVal: 100%|\u2588\u2588\u2588\u2588\u2588\u2588\u2588\u2588\u2588\u2588| 3/3 [00:00<00:00,  7.54it/s]"
          ]
        },
        {
          "output_type": "stream",
          "name": "stderr",
          "text": [
            "\n"
          ]
        },
        {
          "output_type": "stream",
          "name": "stdout",
          "text": [
            "Epoch 4: TrainBCE=0.7322, ValWLL=0.4764, LR=2.00e-05\n"
          ]
        },
        {
          "output_type": "stream",
          "name": "stderr",
          "text": [
            "\rEpoch 5/15 Train:   0%|          | 0/11 [00:00<?, ?it/s]"
          ]
        },
        {
          "output_type": "stream",
          "name": "stderr",
          "text": [
            "\rEpoch 5/15 Train:   9%|\u2589         | 1/11 [00:00<00:03,  2.79it/s]"
          ]
        },
        {
          "output_type": "stream",
          "name": "stderr",
          "text": [
            "\rEpoch 5/15 Train:  18%|\u2588\u258a        | 2/11 [00:00<00:01,  4.84it/s]"
          ]
        },
        {
          "output_type": "stream",
          "name": "stderr",
          "text": [
            "\rEpoch 5/15 Train:  36%|\u2588\u2588\u2588\u258b      | 4/11 [00:00<00:00,  7.20it/s]"
          ]
        },
        {
          "output_type": "stream",
          "name": "stderr",
          "text": [
            "\rEpoch 5/15 Train:  55%|\u2588\u2588\u2588\u2588\u2588\u258d    | 6/11 [00:00<00:00,  8.35it/s]"
          ]
        },
        {
          "output_type": "stream",
          "name": "stderr",
          "text": [
            "\rEpoch 5/15 Train:  73%|\u2588\u2588\u2588\u2588\u2588\u2588\u2588\u258e  | 8/11 [00:01<00:00,  8.99it/s]"
          ]
        },
        {
          "output_type": "stream",
          "name": "stderr",
          "text": [
            "\rEpoch 5/15 Train:  91%|\u2588\u2588\u2588\u2588\u2588\u2588\u2588\u2588\u2588 | 10/11 [00:01<00:00,  9.37it/s]"
          ]
        },
        {
          "output_type": "stream",
          "name": "stderr",
          "text": [
            "\rEpoch 5/15 Train: 100%|\u2588\u2588\u2588\u2588\u2588\u2588\u2588\u2588\u2588\u2588| 11/11 [00:01<00:00,  8.31it/s]"
          ]
        },
        {
          "output_type": "stream",
          "name": "stderr",
          "text": [
            "\n"
          ]
        },
        {
          "output_type": "stream",
          "name": "stderr",
          "text": [
            "\rVal:   0%|          | 0/3 [00:00<?, ?it/s]"
          ]
        },
        {
          "output_type": "stream",
          "name": "stderr",
          "text": [
            "\rVal:  33%|\u2588\u2588\u2588\u258e      | 1/3 [00:00<00:00,  3.99it/s]"
          ]
        },
        {
          "output_type": "stream",
          "name": "stderr",
          "text": [
            "\rVal: 100%|\u2588\u2588\u2588\u2588\u2588\u2588\u2588\u2588\u2588\u2588| 3/3 [00:00<00:00,  9.72it/s]"
          ]
        },
        {
          "output_type": "stream",
          "name": "stderr",
          "text": [
            "\rVal: 100%|\u2588\u2588\u2588\u2588\u2588\u2588\u2588\u2588\u2588\u2588| 3/3 [00:00<00:00,  7.60it/s]"
          ]
        },
        {
          "output_type": "stream",
          "name": "stderr",
          "text": [
            "\n"
          ]
        },
        {
          "output_type": "stream",
          "name": "stdout",
          "text": [
            "Epoch 5: TrainBCE=0.7354, ValWLL=0.4742, LR=2.00e-05\n"
          ]
        },
        {
          "output_type": "stream",
          "name": "stderr",
          "text": [
            "\rEpoch 6/15 Train:   0%|          | 0/11 [00:00<?, ?it/s]"
          ]
        },
        {
          "output_type": "stream",
          "name": "stderr",
          "text": [
            "\rEpoch 6/15 Train:   9%|\u2589         | 1/11 [00:00<00:03,  2.80it/s]"
          ]
        },
        {
          "output_type": "stream",
          "name": "stderr",
          "text": [
            "\rEpoch 6/15 Train:  27%|\u2588\u2588\u258b       | 3/11 [00:00<00:01,  6.03it/s]"
          ]
        },
        {
          "output_type": "stream",
          "name": "stderr",
          "text": [
            "\rEpoch 6/15 Train:  45%|\u2588\u2588\u2588\u2588\u258c     | 5/11 [00:00<00:00,  7.61it/s]"
          ]
        },
        {
          "output_type": "stream",
          "name": "stderr",
          "text": [
            "\rEpoch 6/15 Train:  64%|\u2588\u2588\u2588\u2588\u2588\u2588\u258e   | 7/11 [00:00<00:00,  8.51it/s]"
          ]
        },
        {
          "output_type": "stream",
          "name": "stderr",
          "text": [
            "\rEpoch 6/15 Train:  82%|\u2588\u2588\u2588\u2588\u2588\u2588\u2588\u2588\u258f | 9/11 [00:01<00:00,  9.05it/s]"
          ]
        },
        {
          "output_type": "stream",
          "name": "stderr",
          "text": [
            "\rEpoch 6/15 Train: 100%|\u2588\u2588\u2588\u2588\u2588\u2588\u2588\u2588\u2588\u2588| 11/11 [00:01<00:00, 10.53it/s]"
          ]
        },
        {
          "output_type": "stream",
          "name": "stderr",
          "text": [
            "\rEpoch 6/15 Train: 100%|\u2588\u2588\u2588\u2588\u2588\u2588\u2588\u2588\u2588\u2588| 11/11 [00:01<00:00,  8.29it/s]"
          ]
        },
        {
          "output_type": "stream",
          "name": "stderr",
          "text": [
            "\n"
          ]
        },
        {
          "output_type": "stream",
          "name": "stderr",
          "text": [
            "\rVal:   0%|          | 0/3 [00:00<?, ?it/s]"
          ]
        },
        {
          "output_type": "stream",
          "name": "stderr",
          "text": [
            "\rVal:  33%|\u2588\u2588\u2588\u258e      | 1/3 [00:00<00:00,  3.79it/s]"
          ]
        },
        {
          "output_type": "stream",
          "name": "stderr",
          "text": [
            "\rVal: 100%|\u2588\u2588\u2588\u2588\u2588\u2588\u2588\u2588\u2588\u2588| 3/3 [00:00<00:00,  9.40it/s]"
          ]
        },
        {
          "output_type": "stream",
          "name": "stderr",
          "text": [
            "\rVal: 100%|\u2588\u2588\u2588\u2588\u2588\u2588\u2588\u2588\u2588\u2588| 3/3 [00:00<00:00,  7.40it/s]"
          ]
        },
        {
          "output_type": "stream",
          "name": "stderr",
          "text": [
            "\n"
          ]
        },
        {
          "output_type": "stream",
          "name": "stdout",
          "text": [
            "Epoch 6: TrainBCE=0.7172, ValWLL=0.4665, LR=2.00e-05\n"
          ]
        },
        {
          "output_type": "stream",
          "name": "stderr",
          "text": [
            "\rEpoch 7/15 Train:   0%|          | 0/11 [00:00<?, ?it/s]"
          ]
        },
        {
          "output_type": "stream",
          "name": "stderr",
          "text": [
            "\rEpoch 7/15 Train:   9%|\u2589         | 1/11 [00:00<00:03,  2.87it/s]"
          ]
        },
        {
          "output_type": "stream",
          "name": "stderr",
          "text": [
            "\rEpoch 7/15 Train:  18%|\u2588\u258a        | 2/11 [00:00<00:01,  4.94it/s]"
          ]
        },
        {
          "output_type": "stream",
          "name": "stderr",
          "text": [
            "\rEpoch 7/15 Train:  36%|\u2588\u2588\u2588\u258b      | 4/11 [00:00<00:00,  7.28it/s]"
          ]
        },
        {
          "output_type": "stream",
          "name": "stderr",
          "text": [
            "\rEpoch 7/15 Train:  55%|\u2588\u2588\u2588\u2588\u2588\u258d    | 6/11 [00:00<00:00,  8.41it/s]"
          ]
        },
        {
          "output_type": "stream",
          "name": "stderr",
          "text": [
            "\rEpoch 7/15 Train:  73%|\u2588\u2588\u2588\u2588\u2588\u2588\u2588\u258e  | 8/11 [00:01<00:00,  9.04it/s]"
          ]
        },
        {
          "output_type": "stream",
          "name": "stderr",
          "text": [
            "\rEpoch 7/15 Train:  82%|\u2588\u2588\u2588\u2588\u2588\u2588\u2588\u2588\u258f | 9/11 [00:01<00:00,  9.22it/s]"
          ]
        },
        {
          "output_type": "stream",
          "name": "stderr",
          "text": [
            "\rEpoch 7/15 Train:  91%|\u2588\u2588\u2588\u2588\u2588\u2588\u2588\u2588\u2588 | 10/11 [00:01<00:00,  9.39it/s]"
          ]
        },
        {
          "output_type": "stream",
          "name": "stderr",
          "text": [
            "\rEpoch 7/15 Train: 100%|\u2588\u2588\u2588\u2588\u2588\u2588\u2588\u2588\u2588\u2588| 11/11 [00:01<00:00,  8.33it/s]"
          ]
        },
        {
          "output_type": "stream",
          "name": "stderr",
          "text": [
            "\n"
          ]
        },
        {
          "output_type": "stream",
          "name": "stderr",
          "text": [
            "\rVal:   0%|          | 0/3 [00:00<?, ?it/s]"
          ]
        },
        {
          "output_type": "stream",
          "name": "stderr",
          "text": [
            "\rVal:  33%|\u2588\u2588\u2588\u258e      | 1/3 [00:00<00:00,  4.28it/s]"
          ]
        },
        {
          "output_type": "stream",
          "name": "stderr",
          "text": [
            "\rVal: 100%|\u2588\u2588\u2588\u2588\u2588\u2588\u2588\u2588\u2588\u2588| 3/3 [00:00<00:00, 10.17it/s]"
          ]
        },
        {
          "output_type": "stream",
          "name": "stderr",
          "text": [
            "\rVal: 100%|\u2588\u2588\u2588\u2588\u2588\u2588\u2588\u2588\u2588\u2588| 3/3 [00:00<00:00,  7.93it/s]"
          ]
        },
        {
          "output_type": "stream",
          "name": "stderr",
          "text": [
            "\n"
          ]
        },
        {
          "output_type": "stream",
          "name": "stdout",
          "text": [
            "Epoch 7: TrainBCE=0.6840, ValWLL=0.4602, LR=2.00e-05\n"
          ]
        },
        {
          "output_type": "stream",
          "name": "stderr",
          "text": [
            "\rEpoch 8/15 Train:   0%|          | 0/11 [00:00<?, ?it/s]"
          ]
        },
        {
          "output_type": "stream",
          "name": "stderr",
          "text": [
            "\rEpoch 8/15 Train:   9%|\u2589         | 1/11 [00:00<00:03,  2.82it/s]"
          ]
        },
        {
          "output_type": "stream",
          "name": "stderr",
          "text": [
            "\rEpoch 8/15 Train:  18%|\u2588\u258a        | 2/11 [00:00<00:01,  4.88it/s]"
          ]
        },
        {
          "output_type": "stream",
          "name": "stderr",
          "text": [
            "\rEpoch 8/15 Train:  36%|\u2588\u2588\u2588\u258b      | 4/11 [00:00<00:00,  7.22it/s]"
          ]
        },
        {
          "output_type": "stream",
          "name": "stderr",
          "text": [
            "\rEpoch 8/15 Train:  55%|\u2588\u2588\u2588\u2588\u2588\u258d    | 6/11 [00:00<00:00,  8.35it/s]"
          ]
        },
        {
          "output_type": "stream",
          "name": "stderr",
          "text": [
            "\rEpoch 8/15 Train:  73%|\u2588\u2588\u2588\u2588\u2588\u2588\u2588\u258e  | 8/11 [00:01<00:00,  8.99it/s]"
          ]
        },
        {
          "output_type": "stream",
          "name": "stderr",
          "text": [
            "\rEpoch 8/15 Train:  91%|\u2588\u2588\u2588\u2588\u2588\u2588\u2588\u2588\u2588 | 10/11 [00:01<00:00,  9.36it/s]"
          ]
        },
        {
          "output_type": "stream",
          "name": "stderr",
          "text": [
            "\rEpoch 8/15 Train: 100%|\u2588\u2588\u2588\u2588\u2588\u2588\u2588\u2588\u2588\u2588| 11/11 [00:01<00:00,  8.27it/s]"
          ]
        },
        {
          "output_type": "stream",
          "name": "stderr",
          "text": [
            "\n"
          ]
        },
        {
          "output_type": "stream",
          "name": "stderr",
          "text": [
            "\rVal:   0%|          | 0/3 [00:00<?, ?it/s]"
          ]
        },
        {
          "output_type": "stream",
          "name": "stderr",
          "text": [
            "\rVal:  33%|\u2588\u2588\u2588\u258e      | 1/3 [00:00<00:00,  3.86it/s]"
          ]
        },
        {
          "output_type": "stream",
          "name": "stderr",
          "text": [
            "\rVal: 100%|\u2588\u2588\u2588\u2588\u2588\u2588\u2588\u2588\u2588\u2588| 3/3 [00:00<00:00,  9.52it/s]"
          ]
        },
        {
          "output_type": "stream",
          "name": "stderr",
          "text": [
            "\rVal: 100%|\u2588\u2588\u2588\u2588\u2588\u2588\u2588\u2588\u2588\u2588| 3/3 [00:00<00:00,  7.44it/s]"
          ]
        },
        {
          "output_type": "stream",
          "name": "stderr",
          "text": [
            "\n"
          ]
        },
        {
          "output_type": "stream",
          "name": "stdout",
          "text": [
            "Epoch 8: TrainBCE=0.7505, ValWLL=0.4555, LR=2.00e-05\n"
          ]
        },
        {
          "output_type": "stream",
          "name": "stderr",
          "text": [
            "\rEpoch 9/15 Train:   0%|          | 0/11 [00:00<?, ?it/s]"
          ]
        },
        {
          "output_type": "stream",
          "name": "stderr",
          "text": [
            "\rEpoch 9/15 Train:   9%|\u2589         | 1/11 [00:00<00:03,  2.74it/s]"
          ]
        },
        {
          "output_type": "stream",
          "name": "stderr",
          "text": [
            "\rEpoch 9/15 Train:  18%|\u2588\u258a        | 2/11 [00:00<00:01,  4.78it/s]"
          ]
        },
        {
          "output_type": "stream",
          "name": "stderr",
          "text": [
            "\rEpoch 9/15 Train:  36%|\u2588\u2588\u2588\u258b      | 4/11 [00:00<00:00,  7.15it/s]"
          ]
        },
        {
          "output_type": "stream",
          "name": "stderr",
          "text": [
            "\rEpoch 9/15 Train:  55%|\u2588\u2588\u2588\u2588\u2588\u258d    | 6/11 [00:00<00:00,  8.30it/s]"
          ]
        },
        {
          "output_type": "stream",
          "name": "stderr",
          "text": [
            "\rEpoch 9/15 Train:  73%|\u2588\u2588\u2588\u2588\u2588\u2588\u2588\u258e  | 8/11 [00:01<00:00,  8.95it/s]"
          ]
        },
        {
          "output_type": "stream",
          "name": "stderr",
          "text": [
            "\rEpoch 9/15 Train:  91%|\u2588\u2588\u2588\u2588\u2588\u2588\u2588\u2588\u2588 | 10/11 [00:01<00:00,  9.33it/s]"
          ]
        },
        {
          "output_type": "stream",
          "name": "stderr",
          "text": [
            "\rEpoch 9/15 Train: 100%|\u2588\u2588\u2588\u2588\u2588\u2588\u2588\u2588\u2588\u2588| 11/11 [00:01<00:00,  8.19it/s]"
          ]
        },
        {
          "output_type": "stream",
          "name": "stderr",
          "text": [
            "\n"
          ]
        },
        {
          "output_type": "stream",
          "name": "stderr",
          "text": [
            "\rVal:   0%|          | 0/3 [00:00<?, ?it/s]"
          ]
        },
        {
          "output_type": "stream",
          "name": "stderr",
          "text": [
            "\rVal:  33%|\u2588\u2588\u2588\u258e      | 1/3 [00:00<00:00,  4.01it/s]"
          ]
        },
        {
          "output_type": "stream",
          "name": "stderr",
          "text": [
            "\rVal: 100%|\u2588\u2588\u2588\u2588\u2588\u2588\u2588\u2588\u2588\u2588| 3/3 [00:00<00:00,  9.75it/s]"
          ]
        },
        {
          "output_type": "stream",
          "name": "stderr",
          "text": [
            "\rVal: 100%|\u2588\u2588\u2588\u2588\u2588\u2588\u2588\u2588\u2588\u2588| 3/3 [00:00<00:00,  7.67it/s]"
          ]
        },
        {
          "output_type": "stream",
          "name": "stderr",
          "text": [
            "\n"
          ]
        },
        {
          "output_type": "stream",
          "name": "stdout",
          "text": [
            "Epoch 9: TrainBCE=0.7165, ValWLL=0.4530, LR=2.00e-05\n"
          ]
        },
        {
          "output_type": "stream",
          "name": "stderr",
          "text": [
            "\rEpoch 10/15 Train:   0%|          | 0/11 [00:00<?, ?it/s]"
          ]
        },
        {
          "output_type": "stream",
          "name": "stderr",
          "text": [
            "\rEpoch 10/15 Train:   9%|\u2589         | 1/11 [00:00<00:03,  2.78it/s]"
          ]
        },
        {
          "output_type": "stream",
          "name": "stderr",
          "text": [
            "\rEpoch 10/15 Train:  18%|\u2588\u258a        | 2/11 [00:00<00:01,  4.82it/s]"
          ]
        },
        {
          "output_type": "stream",
          "name": "stderr",
          "text": [
            "\rEpoch 10/15 Train:  36%|\u2588\u2588\u2588\u258b      | 4/11 [00:00<00:00,  7.17it/s]"
          ]
        },
        {
          "output_type": "stream",
          "name": "stderr",
          "text": [
            "\rEpoch 10/15 Train:  55%|\u2588\u2588\u2588\u2588\u2588\u258d    | 6/11 [00:00<00:00,  8.32it/s]"
          ]
        },
        {
          "output_type": "stream",
          "name": "stderr",
          "text": [
            "\rEpoch 10/15 Train:  73%|\u2588\u2588\u2588\u2588\u2588\u2588\u2588\u258e  | 8/11 [00:01<00:00,  8.97it/s]"
          ]
        },
        {
          "output_type": "stream",
          "name": "stderr",
          "text": [
            "\rEpoch 10/15 Train:  82%|\u2588\u2588\u2588\u2588\u2588\u2588\u2588\u2588\u258f | 9/11 [00:01<00:00,  9.16it/s]"
          ]
        },
        {
          "output_type": "stream",
          "name": "stderr",
          "text": [
            "\rEpoch 10/15 Train:  91%|\u2588\u2588\u2588\u2588\u2588\u2588\u2588\u2588\u2588 | 10/11 [00:01<00:00,  9.35it/s]"
          ]
        },
        {
          "output_type": "stream",
          "name": "stderr",
          "text": [
            "\rEpoch 10/15 Train: 100%|\u2588\u2588\u2588\u2588\u2588\u2588\u2588\u2588\u2588\u2588| 11/11 [00:01<00:00,  8.25it/s]"
          ]
        },
        {
          "output_type": "stream",
          "name": "stderr",
          "text": [
            "\n"
          ]
        },
        {
          "output_type": "stream",
          "name": "stderr",
          "text": [
            "\rVal:   0%|          | 0/3 [00:00<?, ?it/s]"
          ]
        },
        {
          "output_type": "stream",
          "name": "stderr",
          "text": [
            "\rVal:  33%|\u2588\u2588\u2588\u258e      | 1/3 [00:00<00:00,  3.80it/s]"
          ]
        },
        {
          "output_type": "stream",
          "name": "stderr",
          "text": [
            "\rVal: 100%|\u2588\u2588\u2588\u2588\u2588\u2588\u2588\u2588\u2588\u2588| 3/3 [00:00<00:00,  9.40it/s]"
          ]
        },
        {
          "output_type": "stream",
          "name": "stderr",
          "text": [
            "\rVal: 100%|\u2588\u2588\u2588\u2588\u2588\u2588\u2588\u2588\u2588\u2588| 3/3 [00:00<00:00,  7.37it/s]"
          ]
        },
        {
          "output_type": "stream",
          "name": "stderr",
          "text": [
            "\n"
          ]
        },
        {
          "output_type": "stream",
          "name": "stdout",
          "text": [
            "Epoch 10: TrainBCE=0.7058, ValWLL=0.4533, LR=2.00e-05\n"
          ]
        },
        {
          "output_type": "stream",
          "name": "stderr",
          "text": [
            "\rEpoch 11/15 Train:   0%|          | 0/11 [00:00<?, ?it/s]"
          ]
        },
        {
          "output_type": "stream",
          "name": "stderr",
          "text": [
            "\rEpoch 11/15 Train:   9%|\u2589         | 1/11 [00:00<00:03,  2.77it/s]"
          ]
        },
        {
          "output_type": "stream",
          "name": "stderr",
          "text": [
            "\rEpoch 11/15 Train:  18%|\u2588\u258a        | 2/11 [00:00<00:01,  4.81it/s]"
          ]
        },
        {
          "output_type": "stream",
          "name": "stderr",
          "text": [
            "\rEpoch 11/15 Train:  36%|\u2588\u2588\u2588\u258b      | 4/11 [00:00<00:00,  7.15it/s]"
          ]
        },
        {
          "output_type": "stream",
          "name": "stderr",
          "text": [
            "\rEpoch 11/15 Train:  55%|\u2588\u2588\u2588\u2588\u2588\u258d    | 6/11 [00:00<00:00,  8.30it/s]"
          ]
        },
        {
          "output_type": "stream",
          "name": "stderr",
          "text": [
            "\rEpoch 11/15 Train:  73%|\u2588\u2588\u2588\u2588\u2588\u2588\u2588\u258e  | 8/11 [00:01<00:00,  8.95it/s]"
          ]
        },
        {
          "output_type": "stream",
          "name": "stderr",
          "text": [
            "\rEpoch 11/15 Train:  91%|\u2588\u2588\u2588\u2588\u2588\u2588\u2588\u2588\u2588 | 10/11 [00:01<00:00,  9.33it/s]"
          ]
        },
        {
          "output_type": "stream",
          "name": "stderr",
          "text": [
            "\rEpoch 11/15 Train: 100%|\u2588\u2588\u2588\u2588\u2588\u2588\u2588\u2588\u2588\u2588| 11/11 [00:01<00:00,  8.21it/s]"
          ]
        },
        {
          "output_type": "stream",
          "name": "stderr",
          "text": [
            "\n"
          ]
        },
        {
          "output_type": "stream",
          "name": "stderr",
          "text": [
            "\rVal:   0%|          | 0/3 [00:00<?, ?it/s]"
          ]
        },
        {
          "output_type": "stream",
          "name": "stderr",
          "text": [
            "\rVal:  33%|\u2588\u2588\u2588\u258e      | 1/3 [00:00<00:00,  4.02it/s]"
          ]
        },
        {
          "output_type": "stream",
          "name": "stderr",
          "text": [
            "\rVal: 100%|\u2588\u2588\u2588\u2588\u2588\u2588\u2588\u2588\u2588\u2588| 3/3 [00:00<00:00,  9.72it/s]"
          ]
        },
        {
          "output_type": "stream",
          "name": "stderr",
          "text": [
            "\rVal: 100%|\u2588\u2588\u2588\u2588\u2588\u2588\u2588\u2588\u2588\u2588| 3/3 [00:00<00:00,  7.57it/s]"
          ]
        },
        {
          "output_type": "stream",
          "name": "stderr",
          "text": [
            "\n"
          ]
        },
        {
          "output_type": "stream",
          "name": "stdout",
          "text": [
            "Epoch 11: TrainBCE=0.7146, ValWLL=0.4541, LR=2.00e-05\n"
          ]
        },
        {
          "output_type": "stream",
          "name": "stderr",
          "text": [
            "\rEpoch 12/15 Train:   0%|          | 0/11 [00:00<?, ?it/s]"
          ]
        },
        {
          "output_type": "stream",
          "name": "stderr",
          "text": [
            "\rEpoch 12/15 Train:   9%|\u2589         | 1/11 [00:00<00:03,  2.77it/s]"
          ]
        },
        {
          "output_type": "stream",
          "name": "stderr",
          "text": [
            "\rEpoch 12/15 Train:  18%|\u2588\u258a        | 2/11 [00:00<00:01,  4.81it/s]"
          ]
        },
        {
          "output_type": "stream",
          "name": "stderr",
          "text": [
            "\rEpoch 12/15 Train:  36%|\u2588\u2588\u2588\u258b      | 4/11 [00:00<00:00,  7.17it/s]"
          ]
        },
        {
          "output_type": "stream",
          "name": "stderr",
          "text": [
            "\rEpoch 12/15 Train:  55%|\u2588\u2588\u2588\u2588\u2588\u258d    | 6/11 [00:00<00:00,  8.31it/s]"
          ]
        },
        {
          "output_type": "stream",
          "name": "stderr",
          "text": [
            "\rEpoch 12/15 Train:  73%|\u2588\u2588\u2588\u2588\u2588\u2588\u2588\u258e  | 8/11 [00:01<00:00,  8.96it/s]"
          ]
        },
        {
          "output_type": "stream",
          "name": "stderr",
          "text": [
            "\rEpoch 12/15 Train:  91%|\u2588\u2588\u2588\u2588\u2588\u2588\u2588\u2588\u2588 | 10/11 [00:01<00:00,  9.34it/s]"
          ]
        },
        {
          "output_type": "stream",
          "name": "stderr",
          "text": [
            "\rEpoch 12/15 Train: 100%|\u2588\u2588\u2588\u2588\u2588\u2588\u2588\u2588\u2588\u2588| 11/11 [00:01<00:00,  8.25it/s]"
          ]
        },
        {
          "output_type": "stream",
          "name": "stderr",
          "text": [
            "\n"
          ]
        },
        {
          "output_type": "stream",
          "name": "stderr",
          "text": [
            "\rVal:   0%|          | 0/3 [00:00<?, ?it/s]"
          ]
        },
        {
          "output_type": "stream",
          "name": "stderr",
          "text": [
            "\rVal:  33%|\u2588\u2588\u2588\u258e      | 1/3 [00:00<00:00,  3.80it/s]"
          ]
        },
        {
          "output_type": "stream",
          "name": "stderr",
          "text": [
            "\rVal: 100%|\u2588\u2588\u2588\u2588\u2588\u2588\u2588\u2588\u2588\u2588| 3/3 [00:00<00:00,  9.42it/s]"
          ]
        },
        {
          "output_type": "stream",
          "name": "stderr",
          "text": [
            "\rVal: 100%|\u2588\u2588\u2588\u2588\u2588\u2588\u2588\u2588\u2588\u2588| 3/3 [00:00<00:00,  7.46it/s]"
          ]
        },
        {
          "output_type": "stream",
          "name": "stderr",
          "text": [
            "\n"
          ]
        },
        {
          "output_type": "stream",
          "name": "stdout",
          "text": [
            "Epoch 12: TrainBCE=0.6921, ValWLL=0.4569, LR=1.00e-05\n"
          ]
        },
        {
          "output_type": "stream",
          "name": "stderr",
          "text": [
            "\rEpoch 13/15 Train:   0%|          | 0/11 [00:00<?, ?it/s]"
          ]
        },
        {
          "output_type": "stream",
          "name": "stderr",
          "text": [
            "\rEpoch 13/15 Train:   9%|\u2589         | 1/11 [00:00<00:03,  2.79it/s]"
          ]
        },
        {
          "output_type": "stream",
          "name": "stderr",
          "text": [
            "\rEpoch 13/15 Train:  18%|\u2588\u258a        | 2/11 [00:00<00:01,  4.82it/s]"
          ]
        },
        {
          "output_type": "stream",
          "name": "stderr",
          "text": [
            "\rEpoch 13/15 Train:  36%|\u2588\u2588\u2588\u258b      | 4/11 [00:00<00:00,  7.18it/s]"
          ]
        },
        {
          "output_type": "stream",
          "name": "stderr",
          "text": [
            "\rEpoch 13/15 Train:  55%|\u2588\u2588\u2588\u2588\u2588\u258d    | 6/11 [00:00<00:00,  8.33it/s]"
          ]
        },
        {
          "output_type": "stream",
          "name": "stderr",
          "text": [
            "\rEpoch 13/15 Train:  73%|\u2588\u2588\u2588\u2588\u2588\u2588\u2588\u258e  | 8/11 [00:01<00:00,  8.96it/s]"
          ]
        },
        {
          "output_type": "stream",
          "name": "stderr",
          "text": [
            "\rEpoch 13/15 Train:  91%|\u2588\u2588\u2588\u2588\u2588\u2588\u2588\u2588\u2588 | 10/11 [00:01<00:00,  9.35it/s]"
          ]
        },
        {
          "output_type": "stream",
          "name": "stderr",
          "text": [
            "\rEpoch 13/15 Train: 100%|\u2588\u2588\u2588\u2588\u2588\u2588\u2588\u2588\u2588\u2588| 11/11 [00:01<00:00,  8.22it/s]"
          ]
        },
        {
          "output_type": "stream",
          "name": "stderr",
          "text": [
            "\n"
          ]
        },
        {
          "output_type": "stream",
          "name": "stderr",
          "text": [
            "\rVal:   0%|          | 0/3 [00:00<?, ?it/s]"
          ]
        },
        {
          "output_type": "stream",
          "name": "stderr",
          "text": [
            "\rVal:  33%|\u2588\u2588\u2588\u258e      | 1/3 [00:00<00:00,  3.85it/s]"
          ]
        },
        {
          "output_type": "stream",
          "name": "stderr",
          "text": [
            "\rVal: 100%|\u2588\u2588\u2588\u2588\u2588\u2588\u2588\u2588\u2588\u2588| 3/3 [00:00<00:00,  9.53it/s]"
          ]
        },
        {
          "output_type": "stream",
          "name": "stderr",
          "text": [
            "\rVal: 100%|\u2588\u2588\u2588\u2588\u2588\u2588\u2588\u2588\u2588\u2588| 3/3 [00:00<00:00,  7.43it/s]"
          ]
        },
        {
          "output_type": "stream",
          "name": "stderr",
          "text": [
            "\n"
          ]
        },
        {
          "output_type": "stream",
          "name": "stdout",
          "text": [
            "Epoch 13: TrainBCE=0.7125, ValWLL=0.4605, LR=1.00e-05\n"
          ]
        },
        {
          "output_type": "stream",
          "name": "stderr",
          "text": [
            "\rEpoch 14/15 Train:   0%|          | 0/11 [00:00<?, ?it/s]"
          ]
        },
        {
          "output_type": "stream",
          "name": "stderr",
          "text": [
            "\rEpoch 14/15 Train:   9%|\u2589         | 1/11 [00:00<00:03,  2.94it/s]"
          ]
        },
        {
          "output_type": "stream",
          "name": "stderr",
          "text": [
            "\rEpoch 14/15 Train:  18%|\u2588\u258a        | 2/11 [00:00<00:01,  5.02it/s]"
          ]
        },
        {
          "output_type": "stream",
          "name": "stderr",
          "text": [
            "\rEpoch 14/15 Train:  36%|\u2588\u2588\u2588\u258b      | 4/11 [00:00<00:00,  7.34it/s]"
          ]
        },
        {
          "output_type": "stream",
          "name": "stderr",
          "text": [
            "\rEpoch 14/15 Train:  55%|\u2588\u2588\u2588\u2588\u2588\u258d    | 6/11 [00:00<00:00,  8.43it/s]"
          ]
        },
        {
          "output_type": "stream",
          "name": "stderr",
          "text": [
            "\rEpoch 14/15 Train:  73%|\u2588\u2588\u2588\u2588\u2588\u2588\u2588\u258e  | 8/11 [00:01<00:00,  9.04it/s]"
          ]
        },
        {
          "output_type": "stream",
          "name": "stderr",
          "text": [
            "\rEpoch 14/15 Train:  82%|\u2588\u2588\u2588\u2588\u2588\u2588\u2588\u2588\u258f | 9/11 [00:01<00:00,  9.24it/s]"
          ]
        },
        {
          "output_type": "stream",
          "name": "stderr",
          "text": [
            "\rEpoch 14/15 Train: 100%|\u2588\u2588\u2588\u2588\u2588\u2588\u2588\u2588\u2588\u2588| 11/11 [00:01<00:00, 10.87it/s]"
          ]
        },
        {
          "output_type": "stream",
          "name": "stderr",
          "text": [
            "\rEpoch 14/15 Train: 100%|\u2588\u2588\u2588\u2588\u2588\u2588\u2588\u2588\u2588\u2588| 11/11 [00:01<00:00,  8.36it/s]"
          ]
        },
        {
          "output_type": "stream",
          "name": "stderr",
          "text": [
            "\n"
          ]
        },
        {
          "output_type": "stream",
          "name": "stderr",
          "text": [
            "\rVal:   0%|          | 0/3 [00:00<?, ?it/s]"
          ]
        },
        {
          "output_type": "stream",
          "name": "stderr",
          "text": [
            "\rVal:  33%|\u2588\u2588\u2588\u258e      | 1/3 [00:00<00:00,  3.99it/s]"
          ]
        },
        {
          "output_type": "stream",
          "name": "stderr",
          "text": [
            "\rVal: 100%|\u2588\u2588\u2588\u2588\u2588\u2588\u2588\u2588\u2588\u2588| 3/3 [00:00<00:00,  9.69it/s]"
          ]
        },
        {
          "output_type": "stream",
          "name": "stderr",
          "text": [
            "\rVal: 100%|\u2588\u2588\u2588\u2588\u2588\u2588\u2588\u2588\u2588\u2588| 3/3 [00:00<00:00,  7.64it/s]"
          ]
        },
        {
          "output_type": "stream",
          "name": "stderr",
          "text": [
            "\n"
          ]
        },
        {
          "output_type": "stream",
          "name": "stdout",
          "text": [
            "Epoch 14: TrainBCE=0.7058, ValWLL=0.4617, LR=1.00e-05\nEarly stopping at epoch 14\nConvNeXt Fold 1 best OOF WLL (val): 0.4530\n"
          ]
        },
        {
          "output_type": "stream",
          "name": "stderr",
          "text": [
            "\rFinal Val for OOF:   0%|          | 0/3 [00:00<?, ?it/s]"
          ]
        },
        {
          "output_type": "stream",
          "name": "stderr",
          "text": [
            "\rFinal Val for OOF:  33%|\u2588\u2588\u2588\u258e      | 1/3 [00:00<00:00,  4.05it/s]"
          ]
        },
        {
          "output_type": "stream",
          "name": "stderr",
          "text": [
            "\rFinal Val for OOF: 100%|\u2588\u2588\u2588\u2588\u2588\u2588\u2588\u2588\u2588\u2588| 3/3 [00:00<00:00,  9.83it/s]"
          ]
        },
        {
          "output_type": "stream",
          "name": "stderr",
          "text": [
            "\rFinal Val for OOF: 100%|\u2588\u2588\u2588\u2588\u2588\u2588\u2588\u2588\u2588\u2588| 3/3 [00:00<00:00,  7.64it/s]"
          ]
        },
        {
          "output_type": "stream",
          "name": "stderr",
          "text": [
            "\n"
          ]
        },
        {
          "output_type": "stream",
          "name": "stdout",
          "text": [
            "ConvNeXt Fold 1 OOF WLL: 0.4617\n\n=== ConvNeXt Fold 2/5 ===\n"
          ]
        },
        {
          "output_type": "stream",
          "name": "stderr",
          "text": [
            "\rEpoch 1/15 Train:   0%|          | 0/11 [00:00<?, ?it/s]"
          ]
        },
        {
          "output_type": "stream",
          "name": "stderr",
          "text": [
            "\rEpoch 1/15 Train:   9%|\u2589         | 1/11 [00:00<00:02,  3.57it/s]"
          ]
        },
        {
          "output_type": "stream",
          "name": "stderr",
          "text": [
            "\rEpoch 1/15 Train:  36%|\u2588\u2588\u2588\u258b      | 4/11 [00:00<00:00, 11.90it/s]"
          ]
        },
        {
          "output_type": "stream",
          "name": "stderr",
          "text": [
            "\rEpoch 1/15 Train:  64%|\u2588\u2588\u2588\u2588\u2588\u2588\u258e   | 7/11 [00:00<00:00, 16.92it/s]"
          ]
        },
        {
          "output_type": "stream",
          "name": "stderr",
          "text": [
            "Traceback (most recent call last):\n  File \"/usr/lib/python3.11/multiprocessing/queues.py\", line 239, in _feed\n    reader_close()\n  File \"/usr/lib/python3.11/multiprocessing/connection.py\", line 182, in close\n    self._close()\n  File \"/usr/lib/python3.11/multiprocessing/connection.py\", line 365, in _close\n    _close(self._handle)\nOSError: [Errno 9] Bad file descriptor\n\rEpoch 1/15 Train:  91%|\u2588\u2588\u2588\u2588\u2588\u2588\u2588\u2588\u2588 | 10/11 [00:00<00:00, 10.95it/s]"
          ]
        },
        {
          "output_type": "stream",
          "name": "stderr",
          "text": [
            "\rEpoch 1/15 Train: 100%|\u2588\u2588\u2588\u2588\u2588\u2588\u2588\u2588\u2588\u2588| 11/11 [00:00<00:00, 11.24it/s]"
          ]
        },
        {
          "output_type": "stream",
          "name": "stderr",
          "text": [
            "\n"
          ]
        },
        {
          "output_type": "stream",
          "name": "stderr",
          "text": [
            "\rVal:   0%|          | 0/3 [00:00<?, ?it/s]"
          ]
        },
        {
          "output_type": "stream",
          "name": "stderr",
          "text": [
            "\rVal:  33%|\u2588\u2588\u2588\u258e      | 1/3 [00:00<00:00,  4.26it/s]"
          ]
        },
        {
          "output_type": "stream",
          "name": "stderr",
          "text": [
            "\rVal: 100%|\u2588\u2588\u2588\u2588\u2588\u2588\u2588\u2588\u2588\u2588| 3/3 [00:00<00:00, 10.10it/s]"
          ]
        },
        {
          "output_type": "stream",
          "name": "stderr",
          "text": [
            "\rVal: 100%|\u2588\u2588\u2588\u2588\u2588\u2588\u2588\u2588\u2588\u2588| 3/3 [00:00<00:00,  7.74it/s]"
          ]
        },
        {
          "output_type": "stream",
          "name": "stderr",
          "text": [
            "\n"
          ]
        },
        {
          "output_type": "stream",
          "name": "stdout",
          "text": [
            "Epoch 1: TrainBCE=0.7835, ValWLL=0.4658, LR=2.00e-05\n"
          ]
        },
        {
          "output_type": "stream",
          "name": "stderr",
          "text": [
            "\rEpoch 2/15 Train:   0%|          | 0/11 [00:00<?, ?it/s]"
          ]
        },
        {
          "output_type": "stream",
          "name": "stderr",
          "text": [
            "\rEpoch 2/15 Train:   9%|\u2589         | 1/11 [00:00<00:02,  3.74it/s]"
          ]
        },
        {
          "output_type": "stream",
          "name": "stderr",
          "text": [
            "\rEpoch 2/15 Train:  36%|\u2588\u2588\u2588\u258b      | 4/11 [00:00<00:00, 12.02it/s]"
          ]
        },
        {
          "output_type": "stream",
          "name": "stderr",
          "text": [
            "\rEpoch 2/15 Train:  64%|\u2588\u2588\u2588\u2588\u2588\u2588\u258e   | 7/11 [00:00<00:00, 17.05it/s]"
          ]
        },
        {
          "output_type": "stream",
          "name": "stderr",
          "text": [
            "\rEpoch 2/15 Train:  91%|\u2588\u2588\u2588\u2588\u2588\u2588\u2588\u2588\u2588 | 10/11 [00:00<00:00, 20.18it/s]"
          ]
        },
        {
          "output_type": "stream",
          "name": "stderr",
          "text": [
            "\rEpoch 2/15 Train: 100%|\u2588\u2588\u2588\u2588\u2588\u2588\u2588\u2588\u2588\u2588| 11/11 [00:00<00:00, 16.18it/s]"
          ]
        },
        {
          "output_type": "stream",
          "name": "stderr",
          "text": [
            "\n"
          ]
        },
        {
          "output_type": "stream",
          "name": "stderr",
          "text": [
            "\rVal:   0%|          | 0/3 [00:00<?, ?it/s]"
          ]
        },
        {
          "output_type": "stream",
          "name": "stderr",
          "text": [
            "\rVal:  33%|\u2588\u2588\u2588\u258e      | 1/3 [00:00<00:00,  3.90it/s]"
          ]
        },
        {
          "output_type": "stream",
          "name": "stderr",
          "text": [
            "\rVal: 100%|\u2588\u2588\u2588\u2588\u2588\u2588\u2588\u2588\u2588\u2588| 3/3 [00:00<00:00,  9.54it/s]"
          ]
        },
        {
          "output_type": "stream",
          "name": "stderr",
          "text": [
            "\rVal: 100%|\u2588\u2588\u2588\u2588\u2588\u2588\u2588\u2588\u2588\u2588| 3/3 [00:00<00:00,  7.47it/s]"
          ]
        },
        {
          "output_type": "stream",
          "name": "stderr",
          "text": [
            "\n"
          ]
        },
        {
          "output_type": "stream",
          "name": "stdout",
          "text": [
            "Epoch 2: TrainBCE=0.8640, ValWLL=0.4656, LR=2.00e-05\n"
          ]
        },
        {
          "output_type": "stream",
          "name": "stderr",
          "text": [
            "\rEpoch 3/15 Train:   0%|          | 0/11 [00:00<?, ?it/s]"
          ]
        },
        {
          "output_type": "stream",
          "name": "stderr",
          "text": [
            "\rEpoch 3/15 Train:   9%|\u2589         | 1/11 [00:00<00:03,  2.92it/s]"
          ]
        },
        {
          "output_type": "stream",
          "name": "stderr",
          "text": [
            "\rEpoch 3/15 Train:  27%|\u2588\u2588\u258b       | 3/11 [00:00<00:01,  6.21it/s]"
          ]
        },
        {
          "output_type": "stream",
          "name": "stderr",
          "text": [
            "\rEpoch 3/15 Train:  45%|\u2588\u2588\u2588\u2588\u258c     | 5/11 [00:00<00:00,  7.72it/s]"
          ]
        },
        {
          "output_type": "stream",
          "name": "stderr",
          "text": [
            "\rEpoch 3/15 Train:  64%|\u2588\u2588\u2588\u2588\u2588\u2588\u258e   | 7/11 [00:00<00:00,  8.68it/s]"
          ]
        },
        {
          "output_type": "stream",
          "name": "stderr",
          "text": [
            "\rEpoch 3/15 Train:  82%|\u2588\u2588\u2588\u2588\u2588\u2588\u2588\u2588\u258f | 9/11 [00:01<00:00,  9.15it/s]"
          ]
        },
        {
          "output_type": "stream",
          "name": "stderr",
          "text": [
            "\rEpoch 3/15 Train: 100%|\u2588\u2588\u2588\u2588\u2588\u2588\u2588\u2588\u2588\u2588| 11/11 [00:01<00:00, 10.65it/s]"
          ]
        },
        {
          "output_type": "stream",
          "name": "stderr",
          "text": [
            "\rEpoch 3/15 Train: 100%|\u2588\u2588\u2588\u2588\u2588\u2588\u2588\u2588\u2588\u2588| 11/11 [00:01<00:00,  8.39it/s]"
          ]
        },
        {
          "output_type": "stream",
          "name": "stderr",
          "text": [
            "\n"
          ]
        },
        {
          "output_type": "stream",
          "name": "stderr",
          "text": [
            "\rVal:   0%|          | 0/3 [00:00<?, ?it/s]"
          ]
        },
        {
          "output_type": "stream",
          "name": "stderr",
          "text": [
            "\rVal:  33%|\u2588\u2588\u2588\u258e      | 1/3 [00:00<00:00,  4.02it/s]"
          ]
        },
        {
          "output_type": "stream",
          "name": "stderr",
          "text": [
            "\rVal: 100%|\u2588\u2588\u2588\u2588\u2588\u2588\u2588\u2588\u2588\u2588| 3/3 [00:00<00:00,  9.71it/s]"
          ]
        },
        {
          "output_type": "stream",
          "name": "stderr",
          "text": [
            "\rVal: 100%|\u2588\u2588\u2588\u2588\u2588\u2588\u2588\u2588\u2588\u2588| 3/3 [00:00<00:00,  7.62it/s]"
          ]
        },
        {
          "output_type": "stream",
          "name": "stderr",
          "text": [
            "\n"
          ]
        },
        {
          "output_type": "stream",
          "name": "stdout",
          "text": [
            "Epoch 3: TrainBCE=0.8579, ValWLL=0.4641, LR=2.00e-05\n"
          ]
        },
        {
          "output_type": "stream",
          "name": "stderr",
          "text": [
            "\rEpoch 4/15 Train:   0%|          | 0/11 [00:00<?, ?it/s]"
          ]
        },
        {
          "output_type": "stream",
          "name": "stderr",
          "text": [
            "\rEpoch 4/15 Train:   9%|\u2589         | 1/11 [00:00<00:03,  3.00it/s]"
          ]
        },
        {
          "output_type": "stream",
          "name": "stderr",
          "text": [
            "\rEpoch 4/15 Train:  18%|\u2588\u258a        | 2/11 [00:00<00:01,  5.08it/s]"
          ]
        },
        {
          "output_type": "stream",
          "name": "stderr",
          "text": [
            "\rEpoch 4/15 Train:  36%|\u2588\u2588\u2588\u258b      | 4/11 [00:00<00:00,  7.38it/s]"
          ]
        },
        {
          "output_type": "stream",
          "name": "stderr",
          "text": [
            "\rEpoch 4/15 Train:  55%|\u2588\u2588\u2588\u2588\u2588\u258d    | 6/11 [00:00<00:00,  8.44it/s]"
          ]
        },
        {
          "output_type": "stream",
          "name": "stderr",
          "text": [
            "\rEpoch 4/15 Train:  64%|\u2588\u2588\u2588\u2588\u2588\u2588\u258e   | 7/11 [00:00<00:00,  8.79it/s]"
          ]
        },
        {
          "output_type": "stream",
          "name": "stderr",
          "text": [
            "\rEpoch 4/15 Train:  82%|\u2588\u2588\u2588\u2588\u2588\u2588\u2588\u2588\u258f | 9/11 [00:01<00:00,  9.26it/s]"
          ]
        },
        {
          "output_type": "stream",
          "name": "stderr",
          "text": [
            "\rEpoch 4/15 Train:  91%|\u2588\u2588\u2588\u2588\u2588\u2588\u2588\u2588\u2588 | 10/11 [00:01<00:00,  9.38it/s]"
          ]
        },
        {
          "output_type": "stream",
          "name": "stderr",
          "text": [
            "\rEpoch 4/15 Train: 100%|\u2588\u2588\u2588\u2588\u2588\u2588\u2588\u2588\u2588\u2588| 11/11 [00:01<00:00,  8.37it/s]"
          ]
        },
        {
          "output_type": "stream",
          "name": "stderr",
          "text": [
            "\n"
          ]
        },
        {
          "output_type": "stream",
          "name": "stderr",
          "text": [
            "\rVal:   0%|          | 0/3 [00:00<?, ?it/s]"
          ]
        },
        {
          "output_type": "stream",
          "name": "stderr",
          "text": [
            "\rVal:  33%|\u2588\u2588\u2588\u258e      | 1/3 [00:00<00:00,  3.94it/s]"
          ]
        },
        {
          "output_type": "stream",
          "name": "stderr",
          "text": [
            "\rVal: 100%|\u2588\u2588\u2588\u2588\u2588\u2588\u2588\u2588\u2588\u2588| 3/3 [00:00<00:00,  9.59it/s]"
          ]
        },
        {
          "output_type": "stream",
          "name": "stderr",
          "text": [
            "\rVal: 100%|\u2588\u2588\u2588\u2588\u2588\u2588\u2588\u2588\u2588\u2588| 3/3 [00:00<00:00,  7.44it/s]"
          ]
        },
        {
          "output_type": "stream",
          "name": "stderr",
          "text": [
            "\n"
          ]
        },
        {
          "output_type": "stream",
          "name": "stdout",
          "text": [
            "Epoch 4: TrainBCE=0.6812, ValWLL=0.4606, LR=2.00e-05\n"
          ]
        },
        {
          "output_type": "stream",
          "name": "stderr",
          "text": [
            "\rEpoch 5/15 Train:   0%|          | 0/11 [00:00<?, ?it/s]"
          ]
        },
        {
          "output_type": "stream",
          "name": "stderr",
          "text": [
            "\rEpoch 5/15 Train:   9%|\u2589         | 1/11 [00:00<00:03,  2.98it/s]"
          ]
        },
        {
          "output_type": "stream",
          "name": "stderr",
          "text": [
            "\rEpoch 5/15 Train:  18%|\u2588\u258a        | 2/11 [00:00<00:01,  5.05it/s]"
          ]
        },
        {
          "output_type": "stream",
          "name": "stderr",
          "text": [
            "\rEpoch 5/15 Train:  36%|\u2588\u2588\u2588\u258b      | 4/11 [00:00<00:00,  7.35it/s]"
          ]
        },
        {
          "output_type": "stream",
          "name": "stderr",
          "text": [
            "\rEpoch 5/15 Train:  55%|\u2588\u2588\u2588\u2588\u2588\u258d    | 6/11 [00:00<00:00,  8.43it/s]"
          ]
        },
        {
          "output_type": "stream",
          "name": "stderr",
          "text": [
            "\rEpoch 5/15 Train:  73%|\u2588\u2588\u2588\u2588\u2588\u2588\u2588\u258e  | 8/11 [00:01<00:00,  9.03it/s]"
          ]
        },
        {
          "output_type": "stream",
          "name": "stderr",
          "text": [
            "\rEpoch 5/15 Train:  82%|\u2588\u2588\u2588\u2588\u2588\u2588\u2588\u2588\u258f | 9/11 [00:01<00:00,  9.21it/s]"
          ]
        },
        {
          "output_type": "stream",
          "name": "stderr",
          "text": [
            "\rEpoch 5/15 Train: 100%|\u2588\u2588\u2588\u2588\u2588\u2588\u2588\u2588\u2588\u2588| 11/11 [00:01<00:00, 10.85it/s]"
          ]
        },
        {
          "output_type": "stream",
          "name": "stderr",
          "text": [
            "\rEpoch 5/15 Train: 100%|\u2588\u2588\u2588\u2588\u2588\u2588\u2588\u2588\u2588\u2588| 11/11 [00:01<00:00,  8.34it/s]"
          ]
        },
        {
          "output_type": "stream",
          "name": "stderr",
          "text": [
            "\n"
          ]
        },
        {
          "output_type": "stream",
          "name": "stderr",
          "text": [
            "\rVal:   0%|          | 0/3 [00:00<?, ?it/s]"
          ]
        },
        {
          "output_type": "stream",
          "name": "stderr",
          "text": [
            "\rVal:  33%|\u2588\u2588\u2588\u258e      | 1/3 [00:00<00:00,  3.90it/s]"
          ]
        },
        {
          "output_type": "stream",
          "name": "stderr",
          "text": [
            "\rVal: 100%|\u2588\u2588\u2588\u2588\u2588\u2588\u2588\u2588\u2588\u2588| 3/3 [00:00<00:00,  9.58it/s]"
          ]
        },
        {
          "output_type": "stream",
          "name": "stderr",
          "text": [
            "\rVal: 100%|\u2588\u2588\u2588\u2588\u2588\u2588\u2588\u2588\u2588\u2588| 3/3 [00:00<00:00,  7.56it/s]"
          ]
        },
        {
          "output_type": "stream",
          "name": "stderr",
          "text": [
            "\n"
          ]
        },
        {
          "output_type": "stream",
          "name": "stdout",
          "text": [
            "Epoch 5: TrainBCE=0.7132, ValWLL=0.4573, LR=2.00e-05\n"
          ]
        },
        {
          "output_type": "stream",
          "name": "stderr",
          "text": [
            "\rEpoch 6/15 Train:   0%|          | 0/11 [00:00<?, ?it/s]"
          ]
        },
        {
          "output_type": "stream",
          "name": "stderr",
          "text": [
            "\rEpoch 6/15 Train:   9%|\u2589         | 1/11 [00:00<00:03,  3.03it/s]"
          ]
        },
        {
          "output_type": "stream",
          "name": "stderr",
          "text": [
            "\rEpoch 6/15 Train:  18%|\u2588\u258a        | 2/11 [00:00<00:01,  5.13it/s]"
          ]
        },
        {
          "output_type": "stream",
          "name": "stderr",
          "text": [
            "\rEpoch 6/15 Train:  36%|\u2588\u2588\u2588\u258b      | 4/11 [00:00<00:00,  7.40it/s]"
          ]
        },
        {
          "output_type": "stream",
          "name": "stderr",
          "text": [
            "\rEpoch 6/15 Train:  55%|\u2588\u2588\u2588\u2588\u2588\u258d    | 6/11 [00:00<00:00,  8.46it/s]"
          ]
        },
        {
          "output_type": "stream",
          "name": "stderr",
          "text": [
            "\rEpoch 6/15 Train:  73%|\u2588\u2588\u2588\u2588\u2588\u2588\u2588\u258e  | 8/11 [00:01<00:00,  9.04it/s]"
          ]
        },
        {
          "output_type": "stream",
          "name": "stderr",
          "text": [
            "\rEpoch 6/15 Train:  82%|\u2588\u2588\u2588\u2588\u2588\u2588\u2588\u2588\u258f | 9/11 [00:01<00:00,  9.22it/s]"
          ]
        },
        {
          "output_type": "stream",
          "name": "stderr",
          "text": [
            "\rEpoch 6/15 Train:  91%|\u2588\u2588\u2588\u2588\u2588\u2588\u2588\u2588\u2588 | 10/11 [00:01<00:00,  9.37it/s]"
          ]
        },
        {
          "output_type": "stream",
          "name": "stderr",
          "text": [
            "\rEpoch 6/15 Train: 100%|\u2588\u2588\u2588\u2588\u2588\u2588\u2588\u2588\u2588\u2588| 11/11 [00:01<00:00,  8.36it/s]"
          ]
        },
        {
          "output_type": "stream",
          "name": "stderr",
          "text": [
            "\n"
          ]
        },
        {
          "output_type": "stream",
          "name": "stderr",
          "text": [
            "\rVal:   0%|          | 0/3 [00:00<?, ?it/s]"
          ]
        },
        {
          "output_type": "stream",
          "name": "stderr",
          "text": [
            "\rVal:  33%|\u2588\u2588\u2588\u258e      | 1/3 [00:00<00:00,  3.82it/s]"
          ]
        },
        {
          "output_type": "stream",
          "name": "stderr",
          "text": [
            "\rVal: 100%|\u2588\u2588\u2588\u2588\u2588\u2588\u2588\u2588\u2588\u2588| 3/3 [00:00<00:00,  9.40it/s]"
          ]
        },
        {
          "output_type": "stream",
          "name": "stderr",
          "text": [
            "\rVal: 100%|\u2588\u2588\u2588\u2588\u2588\u2588\u2588\u2588\u2588\u2588| 3/3 [00:00<00:00,  7.34it/s]"
          ]
        },
        {
          "output_type": "stream",
          "name": "stderr",
          "text": [
            "\n"
          ]
        },
        {
          "output_type": "stream",
          "name": "stdout",
          "text": [
            "Epoch 6: TrainBCE=0.7525, ValWLL=0.4575, LR=2.00e-05\n"
          ]
        },
        {
          "output_type": "stream",
          "name": "stderr",
          "text": [
            "\rEpoch 7/15 Train:   0%|          | 0/11 [00:00<?, ?it/s]"
          ]
        },
        {
          "output_type": "stream",
          "name": "stderr",
          "text": [
            "\rEpoch 7/15 Train:   9%|\u2589         | 1/11 [00:00<00:03,  3.02it/s]"
          ]
        },
        {
          "output_type": "stream",
          "name": "stderr",
          "text": [
            "\rEpoch 7/15 Train:  18%|\u2588\u258a        | 2/11 [00:00<00:01,  5.11it/s]"
          ]
        },
        {
          "output_type": "stream",
          "name": "stderr",
          "text": [
            "\rEpoch 7/15 Train:  36%|\u2588\u2588\u2588\u258b      | 4/11 [00:00<00:00,  7.38it/s]"
          ]
        },
        {
          "output_type": "stream",
          "name": "stderr",
          "text": [
            "\rEpoch 7/15 Train:  55%|\u2588\u2588\u2588\u2588\u2588\u258d    | 6/11 [00:00<00:00,  8.44it/s]"
          ]
        },
        {
          "output_type": "stream",
          "name": "stderr",
          "text": [
            "\rEpoch 7/15 Train:  73%|\u2588\u2588\u2588\u2588\u2588\u2588\u2588\u258e  | 8/11 [00:01<00:00,  9.03it/s]"
          ]
        },
        {
          "output_type": "stream",
          "name": "stderr",
          "text": [
            "\rEpoch 7/15 Train:  82%|\u2588\u2588\u2588\u2588\u2588\u2588\u2588\u2588\u258f | 9/11 [00:01<00:00,  9.22it/s]"
          ]
        },
        {
          "output_type": "stream",
          "name": "stderr",
          "text": [
            "\rEpoch 7/15 Train:  91%|\u2588\u2588\u2588\u2588\u2588\u2588\u2588\u2588\u2588 | 10/11 [00:01<00:00,  9.39it/s]"
          ]
        },
        {
          "output_type": "stream",
          "name": "stderr",
          "text": [
            "\rEpoch 7/15 Train: 100%|\u2588\u2588\u2588\u2588\u2588\u2588\u2588\u2588\u2588\u2588| 11/11 [00:01<00:00,  8.36it/s]"
          ]
        },
        {
          "output_type": "stream",
          "name": "stderr",
          "text": [
            "\n"
          ]
        },
        {
          "output_type": "stream",
          "name": "stderr",
          "text": [
            "\rVal:   0%|          | 0/3 [00:00<?, ?it/s]"
          ]
        },
        {
          "output_type": "stream",
          "name": "stderr",
          "text": [
            "\rVal:  33%|\u2588\u2588\u2588\u258e      | 1/3 [00:00<00:00,  4.12it/s]"
          ]
        },
        {
          "output_type": "stream",
          "name": "stderr",
          "text": [
            "\rVal: 100%|\u2588\u2588\u2588\u2588\u2588\u2588\u2588\u2588\u2588\u2588| 3/3 [00:00<00:00,  9.87it/s]"
          ]
        },
        {
          "output_type": "stream",
          "name": "stderr",
          "text": [
            "\rVal: 100%|\u2588\u2588\u2588\u2588\u2588\u2588\u2588\u2588\u2588\u2588| 3/3 [00:00<00:00,  7.77it/s]"
          ]
        },
        {
          "output_type": "stream",
          "name": "stderr",
          "text": [
            "\n"
          ]
        },
        {
          "output_type": "stream",
          "name": "stdout",
          "text": [
            "Epoch 7: TrainBCE=0.6954, ValWLL=0.4630, LR=2.00e-05\n"
          ]
        },
        {
          "output_type": "stream",
          "name": "stderr",
          "text": [
            "\rEpoch 8/15 Train:   0%|          | 0/11 [00:00<?, ?it/s]"
          ]
        },
        {
          "output_type": "stream",
          "name": "stderr",
          "text": [
            "\rEpoch 8/15 Train:   9%|\u2589         | 1/11 [00:00<00:03,  2.79it/s]"
          ]
        },
        {
          "output_type": "stream",
          "name": "stderr",
          "text": [
            "\rEpoch 8/15 Train:  18%|\u2588\u258a        | 2/11 [00:00<00:01,  4.84it/s]"
          ]
        },
        {
          "output_type": "stream",
          "name": "stderr",
          "text": [
            "\rEpoch 8/15 Train:  36%|\u2588\u2588\u2588\u258b      | 4/11 [00:00<00:00,  7.17it/s]"
          ]
        },
        {
          "output_type": "stream",
          "name": "stderr",
          "text": [
            "\rEpoch 8/15 Train:  45%|\u2588\u2588\u2588\u2588\u258c     | 5/11 [00:00<00:00,  7.84it/s]"
          ]
        },
        {
          "output_type": "stream",
          "name": "stderr",
          "text": [
            "\rEpoch 8/15 Train:  55%|\u2588\u2588\u2588\u2588\u2588\u258d    | 6/11 [00:00<00:00,  8.39it/s]"
          ]
        },
        {
          "output_type": "stream",
          "name": "stderr",
          "text": [
            "\rEpoch 8/15 Train:  73%|\u2588\u2588\u2588\u2588\u2588\u2588\u2588\u258e  | 8/11 [00:01<00:00,  9.10it/s]"
          ]
        },
        {
          "output_type": "stream",
          "name": "stderr",
          "text": [
            "\rEpoch 8/15 Train:  82%|\u2588\u2588\u2588\u2588\u2588\u2588\u2588\u2588\u258f | 9/11 [00:01<00:00,  9.28it/s]"
          ]
        },
        {
          "output_type": "stream",
          "name": "stderr",
          "text": [
            "\rEpoch 8/15 Train:  91%|\u2588\u2588\u2588\u2588\u2588\u2588\u2588\u2588\u2588 | 10/11 [00:01<00:00,  9.45it/s]"
          ]
        },
        {
          "output_type": "stream",
          "name": "stderr",
          "text": [
            "\rEpoch 8/15 Train: 100%|\u2588\u2588\u2588\u2588\u2588\u2588\u2588\u2588\u2588\u2588| 11/11 [00:01<00:00,  8.22it/s]"
          ]
        },
        {
          "output_type": "stream",
          "name": "stderr",
          "text": [
            "\n"
          ]
        },
        {
          "output_type": "stream",
          "name": "stderr",
          "text": [
            "\rVal:   0%|          | 0/3 [00:00<?, ?it/s]"
          ]
        },
        {
          "output_type": "stream",
          "name": "stderr",
          "text": [
            "\rVal:  33%|\u2588\u2588\u2588\u258e      | 1/3 [00:00<00:00,  4.14it/s]"
          ]
        },
        {
          "output_type": "stream",
          "name": "stderr",
          "text": [
            "\rVal: 100%|\u2588\u2588\u2588\u2588\u2588\u2588\u2588\u2588\u2588\u2588| 3/3 [00:00<00:00,  9.87it/s]"
          ]
        },
        {
          "output_type": "stream",
          "name": "stderr",
          "text": [
            "\rVal: 100%|\u2588\u2588\u2588\u2588\u2588\u2588\u2588\u2588\u2588\u2588| 3/3 [00:00<00:00,  7.81it/s]"
          ]
        },
        {
          "output_type": "stream",
          "name": "stderr",
          "text": [
            "\n"
          ]
        },
        {
          "output_type": "stream",
          "name": "stdout",
          "text": [
            "Epoch 8: TrainBCE=0.7219, ValWLL=0.4612, LR=1.00e-05\n"
          ]
        },
        {
          "output_type": "stream",
          "name": "stderr",
          "text": [
            "\rEpoch 9/15 Train:   0%|          | 0/11 [00:00<?, ?it/s]"
          ]
        },
        {
          "output_type": "stream",
          "name": "stderr",
          "text": [
            "\rEpoch 9/15 Train:   9%|\u2589         | 1/11 [00:00<00:03,  2.90it/s]"
          ]
        },
        {
          "output_type": "stream",
          "name": "stderr",
          "text": [
            "\rEpoch 9/15 Train:  18%|\u2588\u258a        | 2/11 [00:00<00:01,  4.96it/s]"
          ]
        },
        {
          "output_type": "stream",
          "name": "stderr",
          "text": [
            "\rEpoch 9/15 Train:  36%|\u2588\u2588\u2588\u258b      | 4/11 [00:00<00:00,  7.27it/s]"
          ]
        },
        {
          "output_type": "stream",
          "name": "stderr",
          "text": [
            "\rEpoch 9/15 Train:  55%|\u2588\u2588\u2588\u2588\u2588\u258d    | 6/11 [00:00<00:00,  8.37it/s]"
          ]
        },
        {
          "output_type": "stream",
          "name": "stderr",
          "text": [
            "\rEpoch 9/15 Train:  73%|\u2588\u2588\u2588\u2588\u2588\u2588\u2588\u258e  | 8/11 [00:01<00:00,  8.98it/s]"
          ]
        },
        {
          "output_type": "stream",
          "name": "stderr",
          "text": [
            "\rEpoch 9/15 Train:  82%|\u2588\u2588\u2588\u2588\u2588\u2588\u2588\u2588\u258f | 9/11 [00:01<00:00,  9.17it/s]"
          ]
        },
        {
          "output_type": "stream",
          "name": "stderr",
          "text": [
            "\rEpoch 9/15 Train:  91%|\u2588\u2588\u2588\u2588\u2588\u2588\u2588\u2588\u2588 | 10/11 [00:01<00:00,  9.36it/s]"
          ]
        },
        {
          "output_type": "stream",
          "name": "stderr",
          "text": [
            "\rEpoch 9/15 Train: 100%|\u2588\u2588\u2588\u2588\u2588\u2588\u2588\u2588\u2588\u2588| 11/11 [00:01<00:00,  8.31it/s]"
          ]
        },
        {
          "output_type": "stream",
          "name": "stderr",
          "text": [
            "\n"
          ]
        },
        {
          "output_type": "stream",
          "name": "stderr",
          "text": [
            "\rVal:   0%|          | 0/3 [00:00<?, ?it/s]"
          ]
        },
        {
          "output_type": "stream",
          "name": "stderr",
          "text": [
            "\rVal:  33%|\u2588\u2588\u2588\u258e      | 1/3 [00:00<00:00,  3.90it/s]"
          ]
        },
        {
          "output_type": "stream",
          "name": "stderr",
          "text": [
            "\rVal: 100%|\u2588\u2588\u2588\u2588\u2588\u2588\u2588\u2588\u2588\u2588| 3/3 [00:00<00:00,  9.55it/s]"
          ]
        },
        {
          "output_type": "stream",
          "name": "stderr",
          "text": [
            "\rVal: 100%|\u2588\u2588\u2588\u2588\u2588\u2588\u2588\u2588\u2588\u2588| 3/3 [00:00<00:00,  7.34it/s]"
          ]
        },
        {
          "output_type": "stream",
          "name": "stderr",
          "text": [
            "\n"
          ]
        },
        {
          "output_type": "stream",
          "name": "stdout",
          "text": [
            "Epoch 9: TrainBCE=0.7551, ValWLL=0.4658, LR=1.00e-05\n"
          ]
        },
        {
          "output_type": "stream",
          "name": "stderr",
          "text": [
            "\rEpoch 10/15 Train:   0%|          | 0/11 [00:00<?, ?it/s]"
          ]
        },
        {
          "output_type": "stream",
          "name": "stderr",
          "text": [
            "\rEpoch 10/15 Train:   9%|\u2589         | 1/11 [00:00<00:03,  2.75it/s]"
          ]
        },
        {
          "output_type": "stream",
          "name": "stderr",
          "text": [
            "\rEpoch 10/15 Train:  18%|\u2588\u258a        | 2/11 [00:00<00:01,  4.78it/s]"
          ]
        },
        {
          "output_type": "stream",
          "name": "stderr",
          "text": [
            "\rEpoch 10/15 Train:  27%|\u2588\u2588\u258b       | 3/11 [00:00<00:01,  6.23it/s]"
          ]
        },
        {
          "output_type": "stream",
          "name": "stderr",
          "text": [
            "\rEpoch 10/15 Train:  45%|\u2588\u2588\u2588\u2588\u258c     | 5/11 [00:00<00:00,  7.95it/s]"
          ]
        },
        {
          "output_type": "stream",
          "name": "stderr",
          "text": [
            "\rEpoch 10/15 Train:  55%|\u2588\u2588\u2588\u2588\u2588\u258d    | 6/11 [00:00<00:00,  8.44it/s]"
          ]
        },
        {
          "output_type": "stream",
          "name": "stderr",
          "text": [
            "\rEpoch 10/15 Train:  64%|\u2588\u2588\u2588\u2588\u2588\u2588\u258e   | 7/11 [00:00<00:00,  8.84it/s]"
          ]
        },
        {
          "output_type": "stream",
          "name": "stderr",
          "text": [
            "\rEpoch 10/15 Train:  73%|\u2588\u2588\u2588\u2588\u2588\u2588\u2588\u258e  | 8/11 [00:01<00:00,  9.12it/s]"
          ]
        },
        {
          "output_type": "stream",
          "name": "stderr",
          "text": [
            "\rEpoch 10/15 Train:  82%|\u2588\u2588\u2588\u2588\u2588\u2588\u2588\u2588\u258f | 9/11 [00:01<00:00,  9.33it/s]"
          ]
        },
        {
          "output_type": "stream",
          "name": "stderr",
          "text": [
            "\rEpoch 10/15 Train:  91%|\u2588\u2588\u2588\u2588\u2588\u2588\u2588\u2588\u2588 | 10/11 [00:01<00:00,  9.50it/s]"
          ]
        },
        {
          "output_type": "stream",
          "name": "stderr",
          "text": [
            "\rEpoch 10/15 Train: 100%|\u2588\u2588\u2588\u2588\u2588\u2588\u2588\u2588\u2588\u2588| 11/11 [00:01<00:00,  8.10it/s]"
          ]
        },
        {
          "output_type": "stream",
          "name": "stderr",
          "text": [
            "\n"
          ]
        },
        {
          "output_type": "stream",
          "name": "stderr",
          "text": [
            "\rVal:   0%|          | 0/3 [00:00<?, ?it/s]"
          ]
        },
        {
          "output_type": "stream",
          "name": "stderr",
          "text": [
            "\rVal:  33%|\u2588\u2588\u2588\u258e      | 1/3 [00:00<00:00,  3.88it/s]"
          ]
        },
        {
          "output_type": "stream",
          "name": "stderr",
          "text": [
            "\rVal: 100%|\u2588\u2588\u2588\u2588\u2588\u2588\u2588\u2588\u2588\u2588| 3/3 [00:00<00:00,  9.50it/s]"
          ]
        },
        {
          "output_type": "stream",
          "name": "stderr",
          "text": [
            "\rVal: 100%|\u2588\u2588\u2588\u2588\u2588\u2588\u2588\u2588\u2588\u2588| 3/3 [00:00<00:00,  7.47it/s]"
          ]
        },
        {
          "output_type": "stream",
          "name": "stderr",
          "text": [
            "\n"
          ]
        },
        {
          "output_type": "stream",
          "name": "stdout",
          "text": [
            "Epoch 10: TrainBCE=0.6664, ValWLL=0.4627, LR=1.00e-05\nEarly stopping at epoch 10\nConvNeXt Fold 2 best OOF WLL (val): 0.4573\n"
          ]
        },
        {
          "output_type": "stream",
          "name": "stderr",
          "text": [
            "\rFinal Val for OOF:   0%|          | 0/3 [00:00<?, ?it/s]"
          ]
        },
        {
          "output_type": "stream",
          "name": "stderr",
          "text": [
            "\rFinal Val for OOF:  33%|\u2588\u2588\u2588\u258e      | 1/3 [00:00<00:00,  4.25it/s]"
          ]
        },
        {
          "output_type": "stream",
          "name": "stderr",
          "text": [
            "\rFinal Val for OOF: 100%|\u2588\u2588\u2588\u2588\u2588\u2588\u2588\u2588\u2588\u2588| 3/3 [00:00<00:00, 10.02it/s]"
          ]
        },
        {
          "output_type": "stream",
          "name": "stderr",
          "text": [
            "\rFinal Val for OOF: 100%|\u2588\u2588\u2588\u2588\u2588\u2588\u2588\u2588\u2588\u2588| 3/3 [00:00<00:00,  7.92it/s]"
          ]
        },
        {
          "output_type": "stream",
          "name": "stderr",
          "text": [
            "\n"
          ]
        },
        {
          "output_type": "stream",
          "name": "stdout",
          "text": [
            "ConvNeXt Fold 2 OOF WLL: 0.4627\n\n=== ConvNeXt Fold 3/5 ===\n"
          ]
        },
        {
          "output_type": "stream",
          "name": "stderr",
          "text": [
            "\rEpoch 1/15 Train:   0%|          | 0/11 [00:00<?, ?it/s]"
          ]
        },
        {
          "output_type": "stream",
          "name": "stderr",
          "text": [
            "\rEpoch 1/15 Train:   9%|\u2589         | 1/11 [00:00<00:02,  3.49it/s]"
          ]
        },
        {
          "output_type": "stream",
          "name": "stderr",
          "text": [
            "\rEpoch 1/15 Train:  36%|\u2588\u2588\u2588\u258b      | 4/11 [00:00<00:00, 11.37it/s]"
          ]
        },
        {
          "output_type": "stream",
          "name": "stderr",
          "text": [
            "\rEpoch 1/15 Train:  64%|\u2588\u2588\u2588\u2588\u2588\u2588\u258e   | 7/11 [00:00<00:00, 15.81it/s]"
          ]
        },
        {
          "output_type": "stream",
          "name": "stderr",
          "text": [
            "\rEpoch 1/15 Train:  91%|\u2588\u2588\u2588\u2588\u2588\u2588\u2588\u2588\u2588 | 10/11 [00:00<00:00, 19.10it/s]"
          ]
        },
        {
          "output_type": "stream",
          "name": "stderr",
          "text": [
            "\rEpoch 1/15 Train: 100%|\u2588\u2588\u2588\u2588\u2588\u2588\u2588\u2588\u2588\u2588| 11/11 [00:00<00:00, 15.33it/s]"
          ]
        },
        {
          "output_type": "stream",
          "name": "stderr",
          "text": [
            "\n"
          ]
        },
        {
          "output_type": "stream",
          "name": "stderr",
          "text": [
            "\rVal:   0%|          | 0/3 [00:00<?, ?it/s]"
          ]
        },
        {
          "output_type": "stream",
          "name": "stderr",
          "text": [
            "\rVal:  33%|\u2588\u2588\u2588\u258e      | 1/3 [00:00<00:00,  4.07it/s]"
          ]
        },
        {
          "output_type": "stream",
          "name": "stderr",
          "text": [
            "\rVal: 100%|\u2588\u2588\u2588\u2588\u2588\u2588\u2588\u2588\u2588\u2588| 3/3 [00:00<00:00,  9.53it/s]"
          ]
        },
        {
          "output_type": "stream",
          "name": "stderr",
          "text": [
            "\rVal: 100%|\u2588\u2588\u2588\u2588\u2588\u2588\u2588\u2588\u2588\u2588| 3/3 [00:00<00:00,  7.56it/s]"
          ]
        },
        {
          "output_type": "stream",
          "name": "stderr",
          "text": [
            "\n"
          ]
        },
        {
          "output_type": "stream",
          "name": "stdout",
          "text": [
            "Epoch 1: TrainBCE=0.8371, ValWLL=0.4723, LR=2.00e-05\n"
          ]
        },
        {
          "output_type": "stream",
          "name": "stderr",
          "text": [
            "\rEpoch 2/15 Train:   0%|          | 0/11 [00:00<?, ?it/s]"
          ]
        },
        {
          "output_type": "stream",
          "name": "stderr",
          "text": [
            "\rEpoch 2/15 Train:   9%|\u2589         | 1/11 [00:00<00:02,  3.96it/s]"
          ]
        },
        {
          "output_type": "stream",
          "name": "stderr",
          "text": [
            "\rEpoch 2/15 Train:  36%|\u2588\u2588\u2588\u258b      | 4/11 [00:00<00:00, 12.47it/s]"
          ]
        },
        {
          "output_type": "stream",
          "name": "stderr",
          "text": [
            "\rEpoch 2/15 Train:  64%|\u2588\u2588\u2588\u2588\u2588\u2588\u258e   | 7/11 [00:00<00:00, 17.41it/s]"
          ]
        },
        {
          "output_type": "stream",
          "name": "stderr",
          "text": [
            "\rEpoch 2/15 Train:  91%|\u2588\u2588\u2588\u2588\u2588\u2588\u2588\u2588\u2588 | 10/11 [00:00<00:00, 20.53it/s]"
          ]
        },
        {
          "output_type": "stream",
          "name": "stderr",
          "text": [
            "\rEpoch 2/15 Train: 100%|\u2588\u2588\u2588\u2588\u2588\u2588\u2588\u2588\u2588\u2588| 11/11 [00:00<00:00, 16.66it/s]"
          ]
        },
        {
          "output_type": "stream",
          "name": "stderr",
          "text": [
            "\n"
          ]
        },
        {
          "output_type": "stream",
          "name": "stderr",
          "text": [
            "\rVal:   0%|          | 0/3 [00:00<?, ?it/s]"
          ]
        },
        {
          "output_type": "stream",
          "name": "stderr",
          "text": [
            "\rVal:  33%|\u2588\u2588\u2588\u258e      | 1/3 [00:00<00:00,  4.16it/s]"
          ]
        },
        {
          "output_type": "stream",
          "name": "stderr",
          "text": [
            "\rVal: 100%|\u2588\u2588\u2588\u2588\u2588\u2588\u2588\u2588\u2588\u2588| 3/3 [00:00<00:00,  9.78it/s]"
          ]
        },
        {
          "output_type": "stream",
          "name": "stderr",
          "text": [
            "\rVal: 100%|\u2588\u2588\u2588\u2588\u2588\u2588\u2588\u2588\u2588\u2588| 3/3 [00:00<00:00,  7.77it/s]"
          ]
        },
        {
          "output_type": "stream",
          "name": "stderr",
          "text": [
            "\n"
          ]
        },
        {
          "output_type": "stream",
          "name": "stdout",
          "text": [
            "Epoch 2: TrainBCE=0.8233, ValWLL=0.4719, LR=2.00e-05\n"
          ]
        },
        {
          "output_type": "stream",
          "name": "stderr",
          "text": [
            "\rEpoch 3/15 Train:   0%|          | 0/11 [00:00<?, ?it/s]"
          ]
        },
        {
          "output_type": "stream",
          "name": "stderr",
          "text": [
            "\rEpoch 3/15 Train:   9%|\u2589         | 1/11 [00:00<00:03,  3.27it/s]"
          ]
        },
        {
          "output_type": "stream",
          "name": "stderr",
          "text": [
            "\rEpoch 3/15 Train:  18%|\u2588\u258a        | 2/11 [00:00<00:01,  5.40it/s]"
          ]
        },
        {
          "output_type": "stream",
          "name": "stderr",
          "text": [
            "\rEpoch 3/15 Train:  36%|\u2588\u2588\u2588\u258b      | 4/11 [00:00<00:00,  7.59it/s]"
          ]
        },
        {
          "output_type": "stream",
          "name": "stderr",
          "text": [
            "\rEpoch 3/15 Train:  55%|\u2588\u2588\u2588\u2588\u2588\u258d    | 6/11 [00:00<00:00,  8.68it/s]"
          ]
        },
        {
          "output_type": "stream",
          "name": "stderr",
          "text": [
            "\rEpoch 3/15 Train:  64%|\u2588\u2588\u2588\u2588\u2588\u2588\u258e   | 7/11 [00:00<00:00,  8.97it/s]"
          ]
        },
        {
          "output_type": "stream",
          "name": "stderr",
          "text": [
            "\rEpoch 3/15 Train:  73%|\u2588\u2588\u2588\u2588\u2588\u2588\u2588\u258e  | 8/11 [00:01<00:00,  9.22it/s]"
          ]
        },
        {
          "output_type": "stream",
          "name": "stderr",
          "text": [
            "\rEpoch 3/15 Train:  82%|\u2588\u2588\u2588\u2588\u2588\u2588\u2588\u2588\u258f | 9/11 [00:01<00:00,  9.40it/s]"
          ]
        },
        {
          "output_type": "stream",
          "name": "stderr",
          "text": [
            "\rEpoch 3/15 Train:  91%|\u2588\u2588\u2588\u2588\u2588\u2588\u2588\u2588\u2588 | 10/11 [00:01<00:00,  9.55it/s]"
          ]
        },
        {
          "output_type": "stream",
          "name": "stderr",
          "text": [
            "\rEpoch 3/15 Train: 100%|\u2588\u2588\u2588\u2588\u2588\u2588\u2588\u2588\u2588\u2588| 11/11 [00:01<00:00,  8.51it/s]"
          ]
        },
        {
          "output_type": "stream",
          "name": "stderr",
          "text": [
            "\n"
          ]
        },
        {
          "output_type": "stream",
          "name": "stderr",
          "text": [
            "\rVal:   0%|          | 0/3 [00:00<?, ?it/s]"
          ]
        },
        {
          "output_type": "stream",
          "name": "stderr",
          "text": [
            "\rVal:  33%|\u2588\u2588\u2588\u258e      | 1/3 [00:00<00:00,  3.97it/s]"
          ]
        },
        {
          "output_type": "stream",
          "name": "stderr",
          "text": [
            "\rVal: 100%|\u2588\u2588\u2588\u2588\u2588\u2588\u2588\u2588\u2588\u2588| 3/3 [00:00<00:00,  9.52it/s]"
          ]
        },
        {
          "output_type": "stream",
          "name": "stderr",
          "text": [
            "\rVal: 100%|\u2588\u2588\u2588\u2588\u2588\u2588\u2588\u2588\u2588\u2588| 3/3 [00:00<00:00,  7.57it/s]"
          ]
        },
        {
          "output_type": "stream",
          "name": "stderr",
          "text": [
            "\n"
          ]
        },
        {
          "output_type": "stream",
          "name": "stdout",
          "text": [
            "Epoch 3: TrainBCE=0.7388, ValWLL=0.4687, LR=2.00e-05\n"
          ]
        },
        {
          "output_type": "stream",
          "name": "stderr",
          "text": [
            "\rEpoch 4/15 Train:   0%|          | 0/11 [00:00<?, ?it/s]"
          ]
        },
        {
          "output_type": "stream",
          "name": "stderr",
          "text": [
            "\rEpoch 4/15 Train:   9%|\u2589         | 1/11 [00:00<00:03,  3.12it/s]"
          ]
        },
        {
          "output_type": "stream",
          "name": "stderr",
          "text": [
            "\rEpoch 4/15 Train:  18%|\u2588\u258a        | 2/11 [00:00<00:01,  5.21it/s]"
          ]
        },
        {
          "output_type": "stream",
          "name": "stderr",
          "text": [
            "\rEpoch 4/15 Train:  36%|\u2588\u2588\u2588\u258b      | 4/11 [00:00<00:00,  7.46it/s]"
          ]
        },
        {
          "output_type": "stream",
          "name": "stderr",
          "text": [
            "\rEpoch 4/15 Train:  55%|\u2588\u2588\u2588\u2588\u2588\u258d    | 6/11 [00:00<00:00,  8.49it/s]"
          ]
        },
        {
          "output_type": "stream",
          "name": "stderr",
          "text": [
            "\rEpoch 4/15 Train:  73%|\u2588\u2588\u2588\u2588\u2588\u2588\u2588\u258e  | 8/11 [00:01<00:00,  9.06it/s]"
          ]
        },
        {
          "output_type": "stream",
          "name": "stderr",
          "text": [
            "\rEpoch 4/15 Train:  82%|\u2588\u2588\u2588\u2588\u2588\u2588\u2588\u2588\u258f | 9/11 [00:01<00:00,  9.22it/s]"
          ]
        },
        {
          "output_type": "stream",
          "name": "stderr",
          "text": [
            "\rEpoch 4/15 Train:  91%|\u2588\u2588\u2588\u2588\u2588\u2588\u2588\u2588\u2588 | 10/11 [00:01<00:00,  9.38it/s]"
          ]
        },
        {
          "output_type": "stream",
          "name": "stderr",
          "text": [
            "\rEpoch 4/15 Train: 100%|\u2588\u2588\u2588\u2588\u2588\u2588\u2588\u2588\u2588\u2588| 11/11 [00:01<00:00,  8.43it/s]"
          ]
        },
        {
          "output_type": "stream",
          "name": "stderr",
          "text": [
            "\n"
          ]
        },
        {
          "output_type": "stream",
          "name": "stderr",
          "text": [
            "\rVal:   0%|          | 0/3 [00:00<?, ?it/s]"
          ]
        },
        {
          "output_type": "stream",
          "name": "stderr",
          "text": [
            "\rVal:  33%|\u2588\u2588\u2588\u258e      | 1/3 [00:00<00:00,  4.19it/s]"
          ]
        },
        {
          "output_type": "stream",
          "name": "stderr",
          "text": [
            "\rVal: 100%|\u2588\u2588\u2588\u2588\u2588\u2588\u2588\u2588\u2588\u2588| 3/3 [00:00<00:00,  9.79it/s]"
          ]
        },
        {
          "output_type": "stream",
          "name": "stderr",
          "text": [
            "\rVal: 100%|\u2588\u2588\u2588\u2588\u2588\u2588\u2588\u2588\u2588\u2588| 3/3 [00:00<00:00,  7.75it/s]"
          ]
        },
        {
          "output_type": "stream",
          "name": "stderr",
          "text": [
            "\n"
          ]
        },
        {
          "output_type": "stream",
          "name": "stdout",
          "text": [
            "Epoch 4: TrainBCE=0.7711, ValWLL=0.4612, LR=2.00e-05\n"
          ]
        },
        {
          "output_type": "stream",
          "name": "stderr",
          "text": [
            "\rEpoch 5/15 Train:   0%|          | 0/11 [00:00<?, ?it/s]"
          ]
        },
        {
          "output_type": "stream",
          "name": "stderr",
          "text": [
            "\rEpoch 5/15 Train:   9%|\u2589         | 1/11 [00:00<00:03,  3.00it/s]"
          ]
        },
        {
          "output_type": "stream",
          "name": "stderr",
          "text": [
            "\rEpoch 5/15 Train:  18%|\u2588\u258a        | 2/11 [00:00<00:01,  5.08it/s]"
          ]
        },
        {
          "output_type": "stream",
          "name": "stderr",
          "text": [
            "\rEpoch 5/15 Train:  36%|\u2588\u2588\u2588\u258b      | 4/11 [00:00<00:00,  7.36it/s]"
          ]
        },
        {
          "output_type": "stream",
          "name": "stderr",
          "text": [
            "\rEpoch 5/15 Train:  55%|\u2588\u2588\u2588\u2588\u2588\u258d    | 6/11 [00:00<00:00,  8.43it/s]"
          ]
        },
        {
          "output_type": "stream",
          "name": "stderr",
          "text": [
            "\rEpoch 5/15 Train:  73%|\u2588\u2588\u2588\u2588\u2588\u2588\u2588\u258e  | 8/11 [00:01<00:00,  9.02it/s]"
          ]
        },
        {
          "output_type": "stream",
          "name": "stderr",
          "text": [
            "\rEpoch 5/15 Train:  82%|\u2588\u2588\u2588\u2588\u2588\u2588\u2588\u2588\u258f | 9/11 [00:01<00:00,  9.20it/s]"
          ]
        },
        {
          "output_type": "stream",
          "name": "stderr",
          "text": [
            "\rEpoch 5/15 Train:  91%|\u2588\u2588\u2588\u2588\u2588\u2588\u2588\u2588\u2588 | 10/11 [00:01<00:00,  9.36it/s]"
          ]
        },
        {
          "output_type": "stream",
          "name": "stderr",
          "text": [
            "\rEpoch 5/15 Train: 100%|\u2588\u2588\u2588\u2588\u2588\u2588\u2588\u2588\u2588\u2588| 11/11 [00:01<00:00,  8.39it/s]"
          ]
        },
        {
          "output_type": "stream",
          "name": "stderr",
          "text": [
            "\n"
          ]
        },
        {
          "output_type": "stream",
          "name": "stderr",
          "text": [
            "\rVal:   0%|          | 0/3 [00:00<?, ?it/s]"
          ]
        },
        {
          "output_type": "stream",
          "name": "stderr",
          "text": [
            "\rVal:  33%|\u2588\u2588\u2588\u258e      | 1/3 [00:00<00:00,  3.94it/s]"
          ]
        },
        {
          "output_type": "stream",
          "name": "stderr",
          "text": [
            "\rVal: 100%|\u2588\u2588\u2588\u2588\u2588\u2588\u2588\u2588\u2588\u2588| 3/3 [00:00<00:00,  9.44it/s]"
          ]
        },
        {
          "output_type": "stream",
          "name": "stderr",
          "text": [
            "\rVal: 100%|\u2588\u2588\u2588\u2588\u2588\u2588\u2588\u2588\u2588\u2588| 3/3 [00:00<00:00,  7.46it/s]"
          ]
        },
        {
          "output_type": "stream",
          "name": "stderr",
          "text": [
            "\n"
          ]
        },
        {
          "output_type": "stream",
          "name": "stdout",
          "text": [
            "Epoch 5: TrainBCE=0.7093, ValWLL=0.4594, LR=2.00e-05\n"
          ]
        },
        {
          "output_type": "stream",
          "name": "stderr",
          "text": [
            "\rEpoch 6/15 Train:   0%|          | 0/11 [00:00<?, ?it/s]"
          ]
        },
        {
          "output_type": "stream",
          "name": "stderr",
          "text": [
            "\rEpoch 6/15 Train:   9%|\u2589         | 1/11 [00:00<00:03,  3.08it/s]"
          ]
        },
        {
          "output_type": "stream",
          "name": "stderr",
          "text": [
            "\rEpoch 6/15 Train:  18%|\u2588\u258a        | 2/11 [00:00<00:01,  5.16it/s]"
          ]
        },
        {
          "output_type": "stream",
          "name": "stderr",
          "text": [
            "\rEpoch 6/15 Train:  36%|\u2588\u2588\u2588\u258b      | 4/11 [00:00<00:00,  7.43it/s]"
          ]
        },
        {
          "output_type": "stream",
          "name": "stderr",
          "text": [
            "\rEpoch 6/15 Train:  55%|\u2588\u2588\u2588\u2588\u2588\u258d    | 6/11 [00:00<00:00,  8.48it/s]"
          ]
        },
        {
          "output_type": "stream",
          "name": "stderr",
          "text": [
            "\rEpoch 6/15 Train:  73%|\u2588\u2588\u2588\u2588\u2588\u2588\u2588\u258e  | 8/11 [00:01<00:00,  9.06it/s]"
          ]
        },
        {
          "output_type": "stream",
          "name": "stderr",
          "text": [
            "\rEpoch 6/15 Train:  82%|\u2588\u2588\u2588\u2588\u2588\u2588\u2588\u2588\u258f | 9/11 [00:01<00:00,  9.24it/s]"
          ]
        },
        {
          "output_type": "stream",
          "name": "stderr",
          "text": [
            "\rEpoch 6/15 Train:  91%|\u2588\u2588\u2588\u2588\u2588\u2588\u2588\u2588\u2588 | 10/11 [00:01<00:00,  9.40it/s]"
          ]
        },
        {
          "output_type": "stream",
          "name": "stderr",
          "text": [
            "\rEpoch 6/15 Train: 100%|\u2588\u2588\u2588\u2588\u2588\u2588\u2588\u2588\u2588\u2588| 11/11 [00:01<00:00,  8.46it/s]"
          ]
        },
        {
          "output_type": "stream",
          "name": "stderr",
          "text": [
            "\n"
          ]
        },
        {
          "output_type": "stream",
          "name": "stderr",
          "text": [
            "\rVal:   0%|          | 0/3 [00:00<?, ?it/s]"
          ]
        },
        {
          "output_type": "stream",
          "name": "stderr",
          "text": [
            "\rVal:  33%|\u2588\u2588\u2588\u258e      | 1/3 [00:00<00:00,  4.04it/s]"
          ]
        },
        {
          "output_type": "stream",
          "name": "stderr",
          "text": [
            "\rVal: 100%|\u2588\u2588\u2588\u2588\u2588\u2588\u2588\u2588\u2588\u2588| 3/3 [00:00<00:00,  9.57it/s]"
          ]
        },
        {
          "output_type": "stream",
          "name": "stderr",
          "text": [
            "\rVal: 100%|\u2588\u2588\u2588\u2588\u2588\u2588\u2588\u2588\u2588\u2588| 3/3 [00:00<00:00,  7.62it/s]"
          ]
        },
        {
          "output_type": "stream",
          "name": "stderr",
          "text": [
            "\n"
          ]
        },
        {
          "output_type": "stream",
          "name": "stdout",
          "text": [
            "Epoch 6: TrainBCE=0.7066, ValWLL=0.4541, LR=2.00e-05\n"
          ]
        },
        {
          "output_type": "stream",
          "name": "stderr",
          "text": [
            "\rEpoch 7/15 Train:   0%|          | 0/11 [00:00<?, ?it/s]"
          ]
        },
        {
          "output_type": "stream",
          "name": "stderr",
          "text": [
            "\rEpoch 7/15 Train:   9%|\u2589         | 1/11 [00:00<00:03,  2.86it/s]"
          ]
        },
        {
          "output_type": "stream",
          "name": "stderr",
          "text": [
            "\rEpoch 7/15 Train:  18%|\u2588\u258a        | 2/11 [00:00<00:01,  4.90it/s]"
          ]
        },
        {
          "output_type": "stream",
          "name": "stderr",
          "text": [
            "\rEpoch 7/15 Train:  27%|\u2588\u2588\u258b       | 3/11 [00:00<00:01,  6.36it/s]"
          ]
        },
        {
          "output_type": "stream",
          "name": "stderr",
          "text": [
            "\rEpoch 7/15 Train:  45%|\u2588\u2588\u2588\u2588\u258c     | 5/11 [00:00<00:00,  8.03it/s]"
          ]
        },
        {
          "output_type": "stream",
          "name": "stderr",
          "text": [
            "\rEpoch 7/15 Train:  64%|\u2588\u2588\u2588\u2588\u2588\u2588\u258e   | 7/11 [00:00<00:00,  8.83it/s]"
          ]
        },
        {
          "output_type": "stream",
          "name": "stderr",
          "text": [
            "\rEpoch 7/15 Train:  73%|\u2588\u2588\u2588\u2588\u2588\u2588\u2588\u258e  | 8/11 [00:01<00:00,  9.08it/s]"
          ]
        },
        {
          "output_type": "stream",
          "name": "stderr",
          "text": [
            "\rEpoch 7/15 Train:  82%|\u2588\u2588\u2588\u2588\u2588\u2588\u2588\u2588\u258f | 9/11 [00:01<00:00,  9.25it/s]"
          ]
        },
        {
          "output_type": "stream",
          "name": "stderr",
          "text": [
            "\rEpoch 7/15 Train:  91%|\u2588\u2588\u2588\u2588\u2588\u2588\u2588\u2588\u2588 | 10/11 [00:01<00:00,  9.42it/s]"
          ]
        },
        {
          "output_type": "stream",
          "name": "stderr",
          "text": [
            "\rEpoch 7/15 Train: 100%|\u2588\u2588\u2588\u2588\u2588\u2588\u2588\u2588\u2588\u2588| 11/11 [00:01<00:00,  8.24it/s]"
          ]
        },
        {
          "output_type": "stream",
          "name": "stderr",
          "text": [
            "\n"
          ]
        },
        {
          "output_type": "stream",
          "name": "stderr",
          "text": [
            "\rVal:   0%|          | 0/3 [00:00<?, ?it/s]"
          ]
        },
        {
          "output_type": "stream",
          "name": "stderr",
          "text": [
            "\rVal:  33%|\u2588\u2588\u2588\u258e      | 1/3 [00:00<00:00,  3.84it/s]"
          ]
        },
        {
          "output_type": "stream",
          "name": "stderr",
          "text": [
            "\rVal: 100%|\u2588\u2588\u2588\u2588\u2588\u2588\u2588\u2588\u2588\u2588| 3/3 [00:00<00:00,  9.28it/s]"
          ]
        },
        {
          "output_type": "stream",
          "name": "stderr",
          "text": [
            "\rVal: 100%|\u2588\u2588\u2588\u2588\u2588\u2588\u2588\u2588\u2588\u2588| 3/3 [00:00<00:00,  7.25it/s]"
          ]
        },
        {
          "output_type": "stream",
          "name": "stderr",
          "text": [
            "\n"
          ]
        },
        {
          "output_type": "stream",
          "name": "stdout",
          "text": [
            "Epoch 7: TrainBCE=0.7613, ValWLL=0.4567, LR=2.00e-05\n"
          ]
        },
        {
          "output_type": "stream",
          "name": "stderr",
          "text": [
            "\rEpoch 8/15 Train:   0%|          | 0/11 [00:00<?, ?it/s]"
          ]
        },
        {
          "output_type": "stream",
          "name": "stderr",
          "text": [
            "\rEpoch 8/15 Train:   9%|\u2589         | 1/11 [00:00<00:03,  3.24it/s]"
          ]
        },
        {
          "output_type": "stream",
          "name": "stderr",
          "text": [
            "\rEpoch 8/15 Train:  18%|\u2588\u258a        | 2/11 [00:00<00:01,  5.36it/s]"
          ]
        },
        {
          "output_type": "stream",
          "name": "stderr",
          "text": [
            "\rEpoch 8/15 Train:  36%|\u2588\u2588\u2588\u258b      | 4/11 [00:00<00:00,  7.58it/s]"
          ]
        },
        {
          "output_type": "stream",
          "name": "stderr",
          "text": [
            "\rEpoch 8/15 Train:  55%|\u2588\u2588\u2588\u2588\u2588\u258d    | 6/11 [00:00<00:00,  8.57it/s]"
          ]
        },
        {
          "output_type": "stream",
          "name": "stderr",
          "text": [
            "\rEpoch 8/15 Train:  73%|\u2588\u2588\u2588\u2588\u2588\u2588\u2588\u258e  | 8/11 [00:01<00:00,  9.11it/s]"
          ]
        },
        {
          "output_type": "stream",
          "name": "stderr",
          "text": [
            "\rEpoch 8/15 Train:  82%|\u2588\u2588\u2588\u2588\u2588\u2588\u2588\u2588\u258f | 9/11 [00:01<00:00,  9.28it/s]"
          ]
        },
        {
          "output_type": "stream",
          "name": "stderr",
          "text": [
            "\rEpoch 8/15 Train:  91%|\u2588\u2588\u2588\u2588\u2588\u2588\u2588\u2588\u2588 | 10/11 [00:01<00:00,  9.44it/s]"
          ]
        },
        {
          "output_type": "stream",
          "name": "stderr",
          "text": [
            "\rEpoch 8/15 Train: 100%|\u2588\u2588\u2588\u2588\u2588\u2588\u2588\u2588\u2588\u2588| 11/11 [00:01<00:00,  8.57it/s]"
          ]
        },
        {
          "output_type": "stream",
          "name": "stderr",
          "text": [
            "\n"
          ]
        },
        {
          "output_type": "stream",
          "name": "stderr",
          "text": [
            "\rVal:   0%|          | 0/3 [00:00<?, ?it/s]"
          ]
        },
        {
          "output_type": "stream",
          "name": "stderr",
          "text": [
            "\rVal:  33%|\u2588\u2588\u2588\u258e      | 1/3 [00:00<00:00,  4.17it/s]"
          ]
        },
        {
          "output_type": "stream",
          "name": "stderr",
          "text": [
            "\rVal: 100%|\u2588\u2588\u2588\u2588\u2588\u2588\u2588\u2588\u2588\u2588| 3/3 [00:00<00:00,  9.78it/s]"
          ]
        },
        {
          "output_type": "stream",
          "name": "stderr",
          "text": [
            "\rVal: 100%|\u2588\u2588\u2588\u2588\u2588\u2588\u2588\u2588\u2588\u2588| 3/3 [00:00<00:00,  7.56it/s]"
          ]
        },
        {
          "output_type": "stream",
          "name": "stderr",
          "text": [
            "\n"
          ]
        },
        {
          "output_type": "stream",
          "name": "stdout",
          "text": [
            "Epoch 8: TrainBCE=0.7202, ValWLL=0.4612, LR=2.00e-05\n"
          ]
        },
        {
          "output_type": "stream",
          "name": "stderr",
          "text": [
            "\rEpoch 9/15 Train:   0%|          | 0/11 [00:00<?, ?it/s]"
          ]
        },
        {
          "output_type": "stream",
          "name": "stderr",
          "text": [
            "\rEpoch 9/15 Train:   9%|\u2589         | 1/11 [00:00<00:03,  2.96it/s]"
          ]
        },
        {
          "output_type": "stream",
          "name": "stderr",
          "text": [
            "\rEpoch 9/15 Train:  18%|\u2588\u258a        | 2/11 [00:00<00:01,  5.05it/s]"
          ]
        },
        {
          "output_type": "stream",
          "name": "stderr",
          "text": [
            "\rEpoch 9/15 Train:  27%|\u2588\u2588\u258b       | 3/11 [00:00<00:01,  6.52it/s]"
          ]
        },
        {
          "output_type": "stream",
          "name": "stderr",
          "text": [
            "\rEpoch 9/15 Train:  45%|\u2588\u2588\u2588\u2588\u258c     | 5/11 [00:00<00:00,  8.13it/s]"
          ]
        },
        {
          "output_type": "stream",
          "name": "stderr",
          "text": [
            "\rEpoch 9/15 Train:  64%|\u2588\u2588\u2588\u2588\u2588\u2588\u258e   | 7/11 [00:00<00:00,  8.89it/s]"
          ]
        },
        {
          "output_type": "stream",
          "name": "stderr",
          "text": [
            "\rEpoch 9/15 Train:  82%|\u2588\u2588\u2588\u2588\u2588\u2588\u2588\u2588\u258f | 9/11 [00:01<00:00,  9.27it/s]"
          ]
        },
        {
          "output_type": "stream",
          "name": "stderr",
          "text": [
            "\rEpoch 9/15 Train:  91%|\u2588\u2588\u2588\u2588\u2588\u2588\u2588\u2588\u2588 | 10/11 [00:01<00:00,  9.39it/s]"
          ]
        },
        {
          "output_type": "stream",
          "name": "stderr",
          "text": [
            "\rEpoch 9/15 Train: 100%|\u2588\u2588\u2588\u2588\u2588\u2588\u2588\u2588\u2588\u2588| 11/11 [00:01<00:00,  8.35it/s]"
          ]
        },
        {
          "output_type": "stream",
          "name": "stderr",
          "text": [
            "\n"
          ]
        },
        {
          "output_type": "stream",
          "name": "stderr",
          "text": [
            "\rVal:   0%|          | 0/3 [00:00<?, ?it/s]"
          ]
        },
        {
          "output_type": "stream",
          "name": "stderr",
          "text": [
            "\rVal:  33%|\u2588\u2588\u2588\u258e      | 1/3 [00:00<00:00,  4.12it/s]"
          ]
        },
        {
          "output_type": "stream",
          "name": "stderr",
          "text": [
            "\rVal: 100%|\u2588\u2588\u2588\u2588\u2588\u2588\u2588\u2588\u2588\u2588| 3/3 [00:00<00:00,  9.71it/s]"
          ]
        },
        {
          "output_type": "stream",
          "name": "stderr",
          "text": [
            "\rVal: 100%|\u2588\u2588\u2588\u2588\u2588\u2588\u2588\u2588\u2588\u2588| 3/3 [00:00<00:00,  7.45it/s]"
          ]
        },
        {
          "output_type": "stream",
          "name": "stderr",
          "text": [
            "\n"
          ]
        },
        {
          "output_type": "stream",
          "name": "stdout",
          "text": [
            "Epoch 9: TrainBCE=0.6874, ValWLL=0.4647, LR=1.00e-05\n"
          ]
        },
        {
          "output_type": "stream",
          "name": "stderr",
          "text": [
            "\rEpoch 10/15 Train:   0%|          | 0/11 [00:00<?, ?it/s]"
          ]
        },
        {
          "output_type": "stream",
          "name": "stderr",
          "text": [
            "\rEpoch 10/15 Train:   9%|\u2589         | 1/11 [00:00<00:03,  2.86it/s]"
          ]
        },
        {
          "output_type": "stream",
          "name": "stderr",
          "text": [
            "\rEpoch 10/15 Train:  18%|\u2588\u258a        | 2/11 [00:00<00:01,  4.92it/s]"
          ]
        },
        {
          "output_type": "stream",
          "name": "stderr",
          "text": [
            "\rEpoch 10/15 Train:  36%|\u2588\u2588\u2588\u258b      | 4/11 [00:00<00:00,  7.23it/s]"
          ]
        },
        {
          "output_type": "stream",
          "name": "stderr",
          "text": [
            "\rEpoch 10/15 Train:  55%|\u2588\u2588\u2588\u2588\u2588\u258d    | 6/11 [00:00<00:00,  8.34it/s]"
          ]
        },
        {
          "output_type": "stream",
          "name": "stderr",
          "text": [
            "\rEpoch 10/15 Train:  73%|\u2588\u2588\u2588\u2588\u2588\u2588\u2588\u258e  | 8/11 [00:01<00:00,  8.95it/s]"
          ]
        },
        {
          "output_type": "stream",
          "name": "stderr",
          "text": [
            "\rEpoch 10/15 Train:  82%|\u2588\u2588\u2588\u2588\u2588\u2588\u2588\u2588\u258f | 9/11 [00:01<00:00,  9.13it/s]"
          ]
        },
        {
          "output_type": "stream",
          "name": "stderr",
          "text": [
            "\rEpoch 10/15 Train:  91%|\u2588\u2588\u2588\u2588\u2588\u2588\u2588\u2588\u2588 | 10/11 [00:01<00:00,  9.31it/s]"
          ]
        },
        {
          "output_type": "stream",
          "name": "stderr",
          "text": [
            "\rEpoch 10/15 Train: 100%|\u2588\u2588\u2588\u2588\u2588\u2588\u2588\u2588\u2588\u2588| 11/11 [00:01<00:00,  8.28it/s]"
          ]
        },
        {
          "output_type": "stream",
          "name": "stderr",
          "text": [
            "\n"
          ]
        },
        {
          "output_type": "stream",
          "name": "stderr",
          "text": [
            "\rVal:   0%|          | 0/3 [00:00<?, ?it/s]"
          ]
        },
        {
          "output_type": "stream",
          "name": "stderr",
          "text": [
            "\rVal:  33%|\u2588\u2588\u2588\u258e      | 1/3 [00:00<00:00,  4.15it/s]"
          ]
        },
        {
          "output_type": "stream",
          "name": "stderr",
          "text": [
            "\rVal: 100%|\u2588\u2588\u2588\u2588\u2588\u2588\u2588\u2588\u2588\u2588| 3/3 [00:00<00:00,  9.73it/s]"
          ]
        },
        {
          "output_type": "stream",
          "name": "stderr",
          "text": [
            "\rVal: 100%|\u2588\u2588\u2588\u2588\u2588\u2588\u2588\u2588\u2588\u2588| 3/3 [00:00<00:00,  7.76it/s]"
          ]
        },
        {
          "output_type": "stream",
          "name": "stderr",
          "text": [
            "\n"
          ]
        },
        {
          "output_type": "stream",
          "name": "stdout",
          "text": [
            "Epoch 10: TrainBCE=0.6629, ValWLL=0.4580, LR=1.00e-05\n"
          ]
        },
        {
          "output_type": "stream",
          "name": "stderr",
          "text": [
            "\rEpoch 11/15 Train:   0%|          | 0/11 [00:00<?, ?it/s]"
          ]
        },
        {
          "output_type": "stream",
          "name": "stderr",
          "text": [
            "\rEpoch 11/15 Train:   9%|\u2589         | 1/11 [00:00<00:03,  2.95it/s]"
          ]
        },
        {
          "output_type": "stream",
          "name": "stderr",
          "text": [
            "\rEpoch 11/15 Train:  18%|\u2588\u258a        | 2/11 [00:00<00:01,  5.02it/s]"
          ]
        },
        {
          "output_type": "stream",
          "name": "stderr",
          "text": [
            "\rEpoch 11/15 Train:  27%|\u2588\u2588\u258b       | 3/11 [00:00<00:01,  6.50it/s]"
          ]
        },
        {
          "output_type": "stream",
          "name": "stderr",
          "text": [
            "\rEpoch 11/15 Train:  45%|\u2588\u2588\u2588\u2588\u258c     | 5/11 [00:00<00:00,  8.12it/s]"
          ]
        },
        {
          "output_type": "stream",
          "name": "stderr",
          "text": [
            "\rEpoch 11/15 Train:  55%|\u2588\u2588\u2588\u2588\u2588\u258d    | 6/11 [00:00<00:00,  8.59it/s]"
          ]
        },
        {
          "output_type": "stream",
          "name": "stderr",
          "text": [
            "\rEpoch 11/15 Train:  64%|\u2588\u2588\u2588\u2588\u2588\u2588\u258e   | 7/11 [00:00<00:00,  8.95it/s]"
          ]
        },
        {
          "output_type": "stream",
          "name": "stderr",
          "text": [
            "\rEpoch 11/15 Train:  82%|\u2588\u2588\u2588\u2588\u2588\u2588\u2588\u2588\u258f | 9/11 [00:01<00:00,  9.39it/s]"
          ]
        },
        {
          "output_type": "stream",
          "name": "stderr",
          "text": [
            "\rEpoch 11/15 Train:  91%|\u2588\u2588\u2588\u2588\u2588\u2588\u2588\u2588\u2588 | 10/11 [00:01<00:00,  9.52it/s]"
          ]
        },
        {
          "output_type": "stream",
          "name": "stderr",
          "text": [
            "\rEpoch 11/15 Train: 100%|\u2588\u2588\u2588\u2588\u2588\u2588\u2588\u2588\u2588\u2588| 11/11 [00:01<00:00,  8.35it/s]"
          ]
        },
        {
          "output_type": "stream",
          "name": "stderr",
          "text": [
            "\n"
          ]
        },
        {
          "output_type": "stream",
          "name": "stderr",
          "text": [
            "\rVal:   0%|          | 0/3 [00:00<?, ?it/s]"
          ]
        },
        {
          "output_type": "stream",
          "name": "stderr",
          "text": [
            "\rVal:  33%|\u2588\u2588\u2588\u258e      | 1/3 [00:00<00:00,  4.17it/s]"
          ]
        },
        {
          "output_type": "stream",
          "name": "stderr",
          "text": [
            "\rVal: 100%|\u2588\u2588\u2588\u2588\u2588\u2588\u2588\u2588\u2588\u2588| 3/3 [00:00<00:00,  9.72it/s]"
          ]
        },
        {
          "output_type": "stream",
          "name": "stderr",
          "text": [
            "\rVal: 100%|\u2588\u2588\u2588\u2588\u2588\u2588\u2588\u2588\u2588\u2588| 3/3 [00:00<00:00,  7.56it/s]"
          ]
        },
        {
          "output_type": "stream",
          "name": "stderr",
          "text": [
            "\n"
          ]
        },
        {
          "output_type": "stream",
          "name": "stdout",
          "text": [
            "Epoch 11: TrainBCE=0.7348, ValWLL=0.4560, LR=1.00e-05\nEarly stopping at epoch 11\nConvNeXt Fold 3 best OOF WLL (val): 0.4541\n"
          ]
        },
        {
          "output_type": "stream",
          "name": "stderr",
          "text": [
            "\rFinal Val for OOF:   0%|          | 0/3 [00:00<?, ?it/s]"
          ]
        },
        {
          "output_type": "stream",
          "name": "stderr",
          "text": [
            "\rFinal Val for OOF:  33%|\u2588\u2588\u2588\u258e      | 1/3 [00:00<00:00,  4.23it/s]"
          ]
        },
        {
          "output_type": "stream",
          "name": "stderr",
          "text": [
            "\rFinal Val for OOF: 100%|\u2588\u2588\u2588\u2588\u2588\u2588\u2588\u2588\u2588\u2588| 3/3 [00:00<00:00,  9.85it/s]"
          ]
        },
        {
          "output_type": "stream",
          "name": "stderr",
          "text": [
            "\rFinal Val for OOF: 100%|\u2588\u2588\u2588\u2588\u2588\u2588\u2588\u2588\u2588\u2588| 3/3 [00:00<00:00,  7.62it/s]"
          ]
        },
        {
          "output_type": "stream",
          "name": "stderr",
          "text": [
            "\n"
          ]
        },
        {
          "output_type": "stream",
          "name": "stdout",
          "text": [
            "ConvNeXt Fold 3 OOF WLL: 0.4560\n\n=== ConvNeXt Fold 4/5 ===\n"
          ]
        },
        {
          "output_type": "stream",
          "name": "stderr",
          "text": [
            "\rEpoch 1/15 Train:   0%|          | 0/11 [00:00<?, ?it/s]"
          ]
        },
        {
          "output_type": "stream",
          "name": "stderr",
          "text": [
            "\rEpoch 1/15 Train:   9%|\u2589         | 1/11 [00:00<00:02,  3.84it/s]"
          ]
        },
        {
          "output_type": "stream",
          "name": "stderr",
          "text": [
            "\rEpoch 1/15 Train:  36%|\u2588\u2588\u2588\u258b      | 4/11 [00:00<00:00, 12.35it/s]"
          ]
        },
        {
          "output_type": "stream",
          "name": "stderr",
          "text": [
            "\rEpoch 1/15 Train:  64%|\u2588\u2588\u2588\u2588\u2588\u2588\u258e   | 7/11 [00:00<00:00, 17.33it/s]"
          ]
        },
        {
          "output_type": "stream",
          "name": "stderr",
          "text": [
            "\rEpoch 1/15 Train:  91%|\u2588\u2588\u2588\u2588\u2588\u2588\u2588\u2588\u2588 | 10/11 [00:00<00:00, 20.47it/s]"
          ]
        },
        {
          "output_type": "stream",
          "name": "stderr",
          "text": [
            "\rEpoch 1/15 Train: 100%|\u2588\u2588\u2588\u2588\u2588\u2588\u2588\u2588\u2588\u2588| 11/11 [00:00<00:00, 16.41it/s]"
          ]
        },
        {
          "output_type": "stream",
          "name": "stderr",
          "text": [
            "\n"
          ]
        },
        {
          "output_type": "stream",
          "name": "stderr",
          "text": [
            "\rVal:   0%|          | 0/3 [00:00<?, ?it/s]"
          ]
        },
        {
          "output_type": "stream",
          "name": "stderr",
          "text": [
            "\rVal:  33%|\u2588\u2588\u2588\u258e      | 1/3 [00:00<00:00,  4.21it/s]"
          ]
        },
        {
          "output_type": "stream",
          "name": "stderr",
          "text": [
            "\rVal: 100%|\u2588\u2588\u2588\u2588\u2588\u2588\u2588\u2588\u2588\u2588| 3/3 [00:00<00:00,  9.84it/s]"
          ]
        },
        {
          "output_type": "stream",
          "name": "stderr",
          "text": [
            "\rVal: 100%|\u2588\u2588\u2588\u2588\u2588\u2588\u2588\u2588\u2588\u2588| 3/3 [00:00<00:00,  7.77it/s]"
          ]
        },
        {
          "output_type": "stream",
          "name": "stderr",
          "text": [
            "\n"
          ]
        },
        {
          "output_type": "stream",
          "name": "stdout",
          "text": [
            "Epoch 1: TrainBCE=0.9231, ValWLL=0.4828, LR=2.00e-05\n"
          ]
        },
        {
          "output_type": "stream",
          "name": "stderr",
          "text": [
            "\rEpoch 2/15 Train:   0%|          | 0/11 [00:00<?, ?it/s]"
          ]
        },
        {
          "output_type": "stream",
          "name": "stderr",
          "text": [
            "\rEpoch 2/15 Train:   9%|\u2589         | 1/11 [00:00<00:02,  3.82it/s]"
          ]
        },
        {
          "output_type": "stream",
          "name": "stderr",
          "text": [
            "\rEpoch 2/15 Train:  36%|\u2588\u2588\u2588\u258b      | 4/11 [00:00<00:00, 12.07it/s]"
          ]
        },
        {
          "output_type": "stream",
          "name": "stderr",
          "text": [
            "\rEpoch 2/15 Train:  64%|\u2588\u2588\u2588\u2588\u2588\u2588\u258e   | 7/11 [00:00<00:00, 17.06it/s]"
          ]
        },
        {
          "output_type": "stream",
          "name": "stderr",
          "text": [
            "\rEpoch 2/15 Train:  91%|\u2588\u2588\u2588\u2588\u2588\u2588\u2588\u2588\u2588 | 10/11 [00:00<00:00, 20.06it/s]"
          ]
        },
        {
          "output_type": "stream",
          "name": "stderr",
          "text": [
            "\rEpoch 2/15 Train: 100%|\u2588\u2588\u2588\u2588\u2588\u2588\u2588\u2588\u2588\u2588| 11/11 [00:00<00:00, 16.09it/s]"
          ]
        },
        {
          "output_type": "stream",
          "name": "stderr",
          "text": [
            "\n"
          ]
        },
        {
          "output_type": "stream",
          "name": "stderr",
          "text": [
            "\rVal:   0%|          | 0/3 [00:00<?, ?it/s]"
          ]
        },
        {
          "output_type": "stream",
          "name": "stderr",
          "text": [
            "\rVal:  33%|\u2588\u2588\u2588\u258e      | 1/3 [00:00<00:00,  4.18it/s]"
          ]
        },
        {
          "output_type": "stream",
          "name": "stderr",
          "text": [
            "\rVal: 100%|\u2588\u2588\u2588\u2588\u2588\u2588\u2588\u2588\u2588\u2588| 3/3 [00:00<00:00,  9.79it/s]"
          ]
        },
        {
          "output_type": "stream",
          "name": "stderr",
          "text": [
            "\rVal: 100%|\u2588\u2588\u2588\u2588\u2588\u2588\u2588\u2588\u2588\u2588| 3/3 [00:00<00:00,  7.64it/s]"
          ]
        },
        {
          "output_type": "stream",
          "name": "stderr",
          "text": [
            "\n"
          ]
        },
        {
          "output_type": "stream",
          "name": "stdout",
          "text": [
            "Epoch 2: TrainBCE=0.9889, ValWLL=0.4823, LR=2.00e-05\n"
          ]
        },
        {
          "output_type": "stream",
          "name": "stderr",
          "text": [
            "\rEpoch 3/15 Train:   0%|          | 0/11 [00:00<?, ?it/s]"
          ]
        },
        {
          "output_type": "stream",
          "name": "stderr",
          "text": [
            "\rEpoch 3/15 Train:   9%|\u2589         | 1/11 [00:00<00:03,  3.23it/s]"
          ]
        },
        {
          "output_type": "stream",
          "name": "stderr",
          "text": [
            "\rEpoch 3/15 Train:  27%|\u2588\u2588\u258b       | 3/11 [00:00<00:01,  6.55it/s]"
          ]
        },
        {
          "output_type": "stream",
          "name": "stderr",
          "text": [
            "\rEpoch 3/15 Train:  36%|\u2588\u2588\u2588\u258b      | 4/11 [00:00<00:00,  7.37it/s]"
          ]
        },
        {
          "output_type": "stream",
          "name": "stderr",
          "text": [
            "\rEpoch 3/15 Train:  55%|\u2588\u2588\u2588\u2588\u2588\u258d    | 6/11 [00:00<00:00,  8.63it/s]"
          ]
        },
        {
          "output_type": "stream",
          "name": "stderr",
          "text": [
            "\rEpoch 3/15 Train:  73%|\u2588\u2588\u2588\u2588\u2588\u2588\u2588\u258e  | 8/11 [00:00<00:00,  9.16it/s]"
          ]
        },
        {
          "output_type": "stream",
          "name": "stderr",
          "text": [
            "\rEpoch 3/15 Train:  82%|\u2588\u2588\u2588\u2588\u2588\u2588\u2588\u2588\u258f | 9/11 [00:01<00:00,  9.31it/s]"
          ]
        },
        {
          "output_type": "stream",
          "name": "stderr",
          "text": [
            "\rEpoch 3/15 Train:  91%|\u2588\u2588\u2588\u2588\u2588\u2588\u2588\u2588\u2588 | 10/11 [00:01<00:00,  9.45it/s]"
          ]
        },
        {
          "output_type": "stream",
          "name": "stderr",
          "text": [
            "\rEpoch 3/15 Train: 100%|\u2588\u2588\u2588\u2588\u2588\u2588\u2588\u2588\u2588\u2588| 11/11 [00:01<00:00,  8.57it/s]"
          ]
        },
        {
          "output_type": "stream",
          "name": "stderr",
          "text": [
            "\n"
          ]
        },
        {
          "output_type": "stream",
          "name": "stderr",
          "text": [
            "\rVal:   0%|          | 0/3 [00:00<?, ?it/s]"
          ]
        },
        {
          "output_type": "stream",
          "name": "stderr",
          "text": [
            "\rVal:  33%|\u2588\u2588\u2588\u258e      | 1/3 [00:00<00:00,  4.18it/s]"
          ]
        },
        {
          "output_type": "stream",
          "name": "stderr",
          "text": [
            "\rVal: 100%|\u2588\u2588\u2588\u2588\u2588\u2588\u2588\u2588\u2588\u2588| 3/3 [00:00<00:00,  9.77it/s]"
          ]
        },
        {
          "output_type": "stream",
          "name": "stderr",
          "text": [
            "\rVal: 100%|\u2588\u2588\u2588\u2588\u2588\u2588\u2588\u2588\u2588\u2588| 3/3 [00:00<00:00,  7.66it/s]"
          ]
        },
        {
          "output_type": "stream",
          "name": "stderr",
          "text": [
            "\n"
          ]
        },
        {
          "output_type": "stream",
          "name": "stdout",
          "text": [
            "Epoch 3: TrainBCE=0.8517, ValWLL=0.4809, LR=2.00e-05\n"
          ]
        },
        {
          "output_type": "stream",
          "name": "stderr",
          "text": [
            "\rEpoch 4/15 Train:   0%|          | 0/11 [00:00<?, ?it/s]"
          ]
        },
        {
          "output_type": "stream",
          "name": "stderr",
          "text": [
            "\rEpoch 4/15 Train:   9%|\u2589         | 1/11 [00:00<00:03,  3.12it/s]"
          ]
        },
        {
          "output_type": "stream",
          "name": "stderr",
          "text": [
            "\rEpoch 4/15 Train:  18%|\u2588\u258a        | 2/11 [00:00<00:01,  5.21it/s]"
          ]
        },
        {
          "output_type": "stream",
          "name": "stderr",
          "text": [
            "\rEpoch 4/15 Train:  27%|\u2588\u2588\u258b       | 3/11 [00:00<00:01,  6.65it/s]"
          ]
        },
        {
          "output_type": "stream",
          "name": "stderr",
          "text": [
            "\rEpoch 4/15 Train:  36%|\u2588\u2588\u2588\u258b      | 4/11 [00:00<00:00,  7.66it/s]"
          ]
        },
        {
          "output_type": "stream",
          "name": "stderr",
          "text": [
            "\rEpoch 4/15 Train:  45%|\u2588\u2588\u2588\u2588\u258c     | 5/11 [00:00<00:00,  8.37it/s]"
          ]
        },
        {
          "output_type": "stream",
          "name": "stderr",
          "text": [
            "\rEpoch 4/15 Train:  55%|\u2588\u2588\u2588\u2588\u2588\u258d    | 6/11 [00:00<00:00,  8.85it/s]"
          ]
        },
        {
          "output_type": "stream",
          "name": "stderr",
          "text": [
            "\rEpoch 4/15 Train:  64%|\u2588\u2588\u2588\u2588\u2588\u2588\u258e   | 7/11 [00:00<00:00,  9.19it/s]"
          ]
        },
        {
          "output_type": "stream",
          "name": "stderr",
          "text": [
            "\rEpoch 4/15 Train:  82%|\u2588\u2588\u2588\u2588\u2588\u2588\u2588\u2588\u258f | 9/11 [00:01<00:00,  9.53it/s]"
          ]
        },
        {
          "output_type": "stream",
          "name": "stderr",
          "text": [
            "\rEpoch 4/15 Train:  91%|\u2588\u2588\u2588\u2588\u2588\u2588\u2588\u2588\u2588 | 10/11 [00:01<00:00,  9.61it/s]"
          ]
        },
        {
          "output_type": "stream",
          "name": "stderr",
          "text": [
            "\rEpoch 4/15 Train: 100%|\u2588\u2588\u2588\u2588\u2588\u2588\u2588\u2588\u2588\u2588| 11/11 [00:01<00:00,  8.39it/s]"
          ]
        },
        {
          "output_type": "stream",
          "name": "stderr",
          "text": [
            "\n"
          ]
        },
        {
          "output_type": "stream",
          "name": "stderr",
          "text": [
            "\rVal:   0%|          | 0/3 [00:00<?, ?it/s]"
          ]
        },
        {
          "output_type": "stream",
          "name": "stderr",
          "text": [
            "\rVal:  33%|\u2588\u2588\u2588\u258e      | 1/3 [00:00<00:00,  4.04it/s]"
          ]
        },
        {
          "output_type": "stream",
          "name": "stderr",
          "text": [
            "\rVal: 100%|\u2588\u2588\u2588\u2588\u2588\u2588\u2588\u2588\u2588\u2588| 3/3 [00:00<00:00,  9.56it/s]"
          ]
        },
        {
          "output_type": "stream",
          "name": "stderr",
          "text": [
            "\rVal: 100%|\u2588\u2588\u2588\u2588\u2588\u2588\u2588\u2588\u2588\u2588| 3/3 [00:00<00:00,  7.49it/s]"
          ]
        },
        {
          "output_type": "stream",
          "name": "stderr",
          "text": [
            "\n"
          ]
        },
        {
          "output_type": "stream",
          "name": "stdout",
          "text": [
            "Epoch 4: TrainBCE=0.6839, ValWLL=0.4692, LR=2.00e-05\n"
          ]
        },
        {
          "output_type": "stream",
          "name": "stderr",
          "text": [
            "\rEpoch 5/15 Train:   0%|          | 0/11 [00:00<?, ?it/s]"
          ]
        },
        {
          "output_type": "stream",
          "name": "stderr",
          "text": [
            "\rEpoch 5/15 Train:   9%|\u2589         | 1/11 [00:00<00:03,  3.12it/s]"
          ]
        },
        {
          "output_type": "stream",
          "name": "stderr",
          "text": [
            "\rEpoch 5/15 Train:  18%|\u2588\u258a        | 2/11 [00:00<00:01,  5.22it/s]"
          ]
        },
        {
          "output_type": "stream",
          "name": "stderr",
          "text": [
            "\rEpoch 5/15 Train:  27%|\u2588\u2588\u258b       | 3/11 [00:00<00:01,  6.68it/s]"
          ]
        },
        {
          "output_type": "stream",
          "name": "stderr",
          "text": [
            "\rEpoch 5/15 Train:  36%|\u2588\u2588\u2588\u258b      | 4/11 [00:00<00:00,  7.69it/s]"
          ]
        },
        {
          "output_type": "stream",
          "name": "stderr",
          "text": [
            "\rEpoch 5/15 Train:  55%|\u2588\u2588\u2588\u2588\u2588\u258d    | 6/11 [00:00<00:00,  8.77it/s]"
          ]
        },
        {
          "output_type": "stream",
          "name": "stderr",
          "text": [
            "\rEpoch 5/15 Train:  64%|\u2588\u2588\u2588\u2588\u2588\u2588\u258e   | 7/11 [00:00<00:00,  9.07it/s]"
          ]
        },
        {
          "output_type": "stream",
          "name": "stderr",
          "text": [
            "\rEpoch 5/15 Train:  82%|\u2588\u2588\u2588\u2588\u2588\u2588\u2588\u2588\u258f | 9/11 [00:01<00:00,  9.43it/s]"
          ]
        },
        {
          "output_type": "stream",
          "name": "stderr",
          "text": [
            "\rEpoch 5/15 Train:  91%|\u2588\u2588\u2588\u2588\u2588\u2588\u2588\u2588\u2588 | 10/11 [00:01<00:00,  9.53it/s]"
          ]
        },
        {
          "output_type": "stream",
          "name": "stderr",
          "text": [
            "\rEpoch 5/15 Train: 100%|\u2588\u2588\u2588\u2588\u2588\u2588\u2588\u2588\u2588\u2588| 11/11 [00:01<00:00,  8.42it/s]"
          ]
        },
        {
          "output_type": "stream",
          "name": "stderr",
          "text": [
            "\n"
          ]
        },
        {
          "output_type": "stream",
          "name": "stderr",
          "text": [
            "\rVal:   0%|          | 0/3 [00:00<?, ?it/s]"
          ]
        },
        {
          "output_type": "stream",
          "name": "stderr",
          "text": [
            "\rVal:  33%|\u2588\u2588\u2588\u258e      | 1/3 [00:00<00:00,  4.00it/s]"
          ]
        },
        {
          "output_type": "stream",
          "name": "stderr",
          "text": [
            "\rVal: 100%|\u2588\u2588\u2588\u2588\u2588\u2588\u2588\u2588\u2588\u2588| 3/3 [00:00<00:00,  9.52it/s]"
          ]
        },
        {
          "output_type": "stream",
          "name": "stderr",
          "text": [
            "\rVal: 100%|\u2588\u2588\u2588\u2588\u2588\u2588\u2588\u2588\u2588\u2588| 3/3 [00:00<00:00,  7.33it/s]"
          ]
        },
        {
          "output_type": "stream",
          "name": "stderr",
          "text": [
            "\n"
          ]
        },
        {
          "output_type": "stream",
          "name": "stdout",
          "text": [
            "Epoch 5: TrainBCE=0.7282, ValWLL=0.4571, LR=2.00e-05\n"
          ]
        },
        {
          "output_type": "stream",
          "name": "stderr",
          "text": [
            "\rEpoch 6/15 Train:   0%|          | 0/11 [00:00<?, ?it/s]"
          ]
        },
        {
          "output_type": "stream",
          "name": "stderr",
          "text": [
            "\rEpoch 6/15 Train:   9%|\u2589         | 1/11 [00:00<00:03,  2.90it/s]"
          ]
        },
        {
          "output_type": "stream",
          "name": "stderr",
          "text": [
            "\rEpoch 6/15 Train:  18%|\u2588\u258a        | 2/11 [00:00<00:01,  4.96it/s]"
          ]
        },
        {
          "output_type": "stream",
          "name": "stderr",
          "text": [
            "\rEpoch 6/15 Train:  27%|\u2588\u2588\u258b       | 3/11 [00:00<00:01,  6.44it/s]"
          ]
        },
        {
          "output_type": "stream",
          "name": "stderr",
          "text": [
            "\rEpoch 6/15 Train:  36%|\u2588\u2588\u2588\u258b      | 4/11 [00:00<00:00,  7.50it/s]"
          ]
        },
        {
          "output_type": "stream",
          "name": "stderr",
          "text": [
            "\rEpoch 6/15 Train:  45%|\u2588\u2588\u2588\u2588\u258c     | 5/11 [00:00<00:00,  8.24it/s]"
          ]
        },
        {
          "output_type": "stream",
          "name": "stderr",
          "text": [
            "\rEpoch 6/15 Train:  64%|\u2588\u2588\u2588\u2588\u2588\u2588\u258e   | 7/11 [00:00<00:00,  9.06it/s]"
          ]
        },
        {
          "output_type": "stream",
          "name": "stderr",
          "text": [
            "\rEpoch 6/15 Train:  82%|\u2588\u2588\u2588\u2588\u2588\u2588\u2588\u2588\u258f | 9/11 [00:01<00:00,  9.39it/s]"
          ]
        },
        {
          "output_type": "stream",
          "name": "stderr",
          "text": [
            "\rEpoch 6/15 Train:  91%|\u2588\u2588\u2588\u2588\u2588\u2588\u2588\u2588\u2588 | 10/11 [00:01<00:00,  9.49it/s]"
          ]
        },
        {
          "output_type": "stream",
          "name": "stderr",
          "text": [
            "\rEpoch 6/15 Train: 100%|\u2588\u2588\u2588\u2588\u2588\u2588\u2588\u2588\u2588\u2588| 11/11 [00:01<00:00,  8.28it/s]"
          ]
        },
        {
          "output_type": "stream",
          "name": "stderr",
          "text": [
            "\n"
          ]
        },
        {
          "output_type": "stream",
          "name": "stderr",
          "text": [
            "\rVal:   0%|          | 0/3 [00:00<?, ?it/s]"
          ]
        },
        {
          "output_type": "stream",
          "name": "stderr",
          "text": [
            "\rVal:  33%|\u2588\u2588\u2588\u258e      | 1/3 [00:00<00:00,  4.18it/s]"
          ]
        },
        {
          "output_type": "stream",
          "name": "stderr",
          "text": [
            "\rVal: 100%|\u2588\u2588\u2588\u2588\u2588\u2588\u2588\u2588\u2588\u2588| 3/3 [00:00<00:00,  9.78it/s]"
          ]
        },
        {
          "output_type": "stream",
          "name": "stderr",
          "text": [
            "\rVal: 100%|\u2588\u2588\u2588\u2588\u2588\u2588\u2588\u2588\u2588\u2588| 3/3 [00:00<00:00,  7.51it/s]"
          ]
        },
        {
          "output_type": "stream",
          "name": "stderr",
          "text": [
            "\n"
          ]
        },
        {
          "output_type": "stream",
          "name": "stdout",
          "text": [
            "Epoch 6: TrainBCE=0.7153, ValWLL=0.4551, LR=2.00e-05\n"
          ]
        },
        {
          "output_type": "stream",
          "name": "stderr",
          "text": [
            "\rEpoch 7/15 Train:   0%|          | 0/11 [00:00<?, ?it/s]"
          ]
        },
        {
          "output_type": "stream",
          "name": "stderr",
          "text": [
            "\rEpoch 7/15 Train:   9%|\u2589         | 1/11 [00:00<00:03,  2.99it/s]"
          ]
        },
        {
          "output_type": "stream",
          "name": "stderr",
          "text": [
            "\rEpoch 7/15 Train:  18%|\u2588\u258a        | 2/11 [00:00<00:01,  5.05it/s]"
          ]
        },
        {
          "output_type": "stream",
          "name": "stderr",
          "text": [
            "\rEpoch 7/15 Train:  27%|\u2588\u2588\u258b       | 3/11 [00:00<00:01,  6.52it/s]"
          ]
        },
        {
          "output_type": "stream",
          "name": "stderr",
          "text": [
            "\rEpoch 7/15 Train:  45%|\u2588\u2588\u2588\u2588\u258c     | 5/11 [00:00<00:00,  8.13it/s]"
          ]
        },
        {
          "output_type": "stream",
          "name": "stderr",
          "text": [
            "\rEpoch 7/15 Train:  55%|\u2588\u2588\u2588\u2588\u2588\u258d    | 6/11 [00:00<00:00,  8.59it/s]"
          ]
        },
        {
          "output_type": "stream",
          "name": "stderr",
          "text": [
            "\rEpoch 7/15 Train:  73%|\u2588\u2588\u2588\u2588\u2588\u2588\u2588\u258e  | 8/11 [00:01<00:00,  9.19it/s]"
          ]
        },
        {
          "output_type": "stream",
          "name": "stderr",
          "text": [
            "\rEpoch 7/15 Train:  82%|\u2588\u2588\u2588\u2588\u2588\u2588\u2588\u2588\u258f | 9/11 [00:01<00:00,  9.34it/s]"
          ]
        },
        {
          "output_type": "stream",
          "name": "stderr",
          "text": [
            "\rEpoch 7/15 Train:  91%|\u2588\u2588\u2588\u2588\u2588\u2588\u2588\u2588\u2588 | 10/11 [00:01<00:00,  9.48it/s]"
          ]
        },
        {
          "output_type": "stream",
          "name": "stderr",
          "text": [
            "\rEpoch 7/15 Train: 100%|\u2588\u2588\u2588\u2588\u2588\u2588\u2588\u2588\u2588\u2588| 11/11 [00:01<00:00,  8.32it/s]"
          ]
        },
        {
          "output_type": "stream",
          "name": "stderr",
          "text": [
            "\n"
          ]
        },
        {
          "output_type": "stream",
          "name": "stderr",
          "text": [
            "\rVal:   0%|          | 0/3 [00:00<?, ?it/s]"
          ]
        },
        {
          "output_type": "stream",
          "name": "stderr",
          "text": [
            "\rVal:  33%|\u2588\u2588\u2588\u258e      | 1/3 [00:00<00:00,  3.76it/s]"
          ]
        },
        {
          "output_type": "stream",
          "name": "stderr",
          "text": [
            "\rVal: 100%|\u2588\u2588\u2588\u2588\u2588\u2588\u2588\u2588\u2588\u2588| 3/3 [00:00<00:00,  9.16it/s]"
          ]
        },
        {
          "output_type": "stream",
          "name": "stderr",
          "text": [
            "\rVal: 100%|\u2588\u2588\u2588\u2588\u2588\u2588\u2588\u2588\u2588\u2588| 3/3 [00:00<00:00,  7.24it/s]"
          ]
        },
        {
          "output_type": "stream",
          "name": "stderr",
          "text": [
            "\n"
          ]
        },
        {
          "output_type": "stream",
          "name": "stdout",
          "text": [
            "Epoch 7: TrainBCE=0.7144, ValWLL=0.4428, LR=2.00e-05\n"
          ]
        },
        {
          "output_type": "stream",
          "name": "stderr",
          "text": [
            "\rEpoch 8/15 Train:   0%|          | 0/11 [00:00<?, ?it/s]"
          ]
        },
        {
          "output_type": "stream",
          "name": "stderr",
          "text": [
            "\rEpoch 8/15 Train:   9%|\u2589         | 1/11 [00:00<00:03,  3.10it/s]"
          ]
        },
        {
          "output_type": "stream",
          "name": "stderr",
          "text": [
            "\rEpoch 8/15 Train:  18%|\u2588\u258a        | 2/11 [00:00<00:01,  5.21it/s]"
          ]
        },
        {
          "output_type": "stream",
          "name": "stderr",
          "text": [
            "\rEpoch 8/15 Train:  36%|\u2588\u2588\u2588\u258b      | 4/11 [00:00<00:00,  7.46it/s]"
          ]
        },
        {
          "output_type": "stream",
          "name": "stderr",
          "text": [
            "\rEpoch 8/15 Train:  45%|\u2588\u2588\u2588\u2588\u258c     | 5/11 [00:00<00:00,  8.09it/s]"
          ]
        },
        {
          "output_type": "stream",
          "name": "stderr",
          "text": [
            "\rEpoch 8/15 Train:  64%|\u2588\u2588\u2588\u2588\u2588\u2588\u258e   | 7/11 [00:00<00:00,  8.90it/s]"
          ]
        },
        {
          "output_type": "stream",
          "name": "stderr",
          "text": [
            "\rEpoch 8/15 Train:  82%|\u2588\u2588\u2588\u2588\u2588\u2588\u2588\u2588\u258f | 9/11 [00:01<00:00,  9.29it/s]"
          ]
        },
        {
          "output_type": "stream",
          "name": "stderr",
          "text": [
            "\rEpoch 8/15 Train:  91%|\u2588\u2588\u2588\u2588\u2588\u2588\u2588\u2588\u2588 | 10/11 [00:01<00:00,  9.42it/s]"
          ]
        },
        {
          "output_type": "stream",
          "name": "stderr",
          "text": [
            "\rEpoch 8/15 Train: 100%|\u2588\u2588\u2588\u2588\u2588\u2588\u2588\u2588\u2588\u2588| 11/11 [00:01<00:00,  8.48it/s]"
          ]
        },
        {
          "output_type": "stream",
          "name": "stderr",
          "text": [
            "\n"
          ]
        },
        {
          "output_type": "stream",
          "name": "stderr",
          "text": [
            "\rVal:   0%|          | 0/3 [00:00<?, ?it/s]"
          ]
        },
        {
          "output_type": "stream",
          "name": "stderr",
          "text": [
            "\rVal:  33%|\u2588\u2588\u2588\u258e      | 1/3 [00:00<00:00,  4.04it/s]"
          ]
        },
        {
          "output_type": "stream",
          "name": "stderr",
          "text": [
            "\rVal: 100%|\u2588\u2588\u2588\u2588\u2588\u2588\u2588\u2588\u2588\u2588| 3/3 [00:00<00:00,  9.58it/s]"
          ]
        },
        {
          "output_type": "stream",
          "name": "stderr",
          "text": [
            "\rVal: 100%|\u2588\u2588\u2588\u2588\u2588\u2588\u2588\u2588\u2588\u2588| 3/3 [00:00<00:00,  7.61it/s]"
          ]
        },
        {
          "output_type": "stream",
          "name": "stderr",
          "text": [
            "\n"
          ]
        },
        {
          "output_type": "stream",
          "name": "stdout",
          "text": [
            "Epoch 8: TrainBCE=0.6799, ValWLL=0.4398, LR=2.00e-05\n"
          ]
        },
        {
          "output_type": "stream",
          "name": "stderr",
          "text": [
            "\rEpoch 9/15 Train:   0%|          | 0/11 [00:00<?, ?it/s]"
          ]
        },
        {
          "output_type": "stream",
          "name": "stderr",
          "text": [
            "\rEpoch 9/15 Train:   9%|\u2589         | 1/11 [00:00<00:03,  3.04it/s]"
          ]
        },
        {
          "output_type": "stream",
          "name": "stderr",
          "text": [
            "\rEpoch 9/15 Train:  18%|\u2588\u258a        | 2/11 [00:00<00:01,  5.12it/s]"
          ]
        },
        {
          "output_type": "stream",
          "name": "stderr",
          "text": [
            "\rEpoch 9/15 Train:  27%|\u2588\u2588\u258b       | 3/11 [00:00<00:01,  6.58it/s]"
          ]
        },
        {
          "output_type": "stream",
          "name": "stderr",
          "text": [
            "\rEpoch 9/15 Train:  45%|\u2588\u2588\u2588\u2588\u258c     | 5/11 [00:00<00:00,  8.17it/s]"
          ]
        },
        {
          "output_type": "stream",
          "name": "stderr",
          "text": [
            "\rEpoch 9/15 Train:  64%|\u2588\u2588\u2588\u2588\u2588\u2588\u258e   | 7/11 [00:00<00:00,  8.91it/s]"
          ]
        },
        {
          "output_type": "stream",
          "name": "stderr",
          "text": [
            "\rEpoch 9/15 Train:  73%|\u2588\u2588\u2588\u2588\u2588\u2588\u2588\u258e  | 8/11 [00:01<00:00,  9.15it/s]"
          ]
        },
        {
          "output_type": "stream",
          "name": "stderr",
          "text": [
            "\rEpoch 9/15 Train:  82%|\u2588\u2588\u2588\u2588\u2588\u2588\u2588\u2588\u258f | 9/11 [00:01<00:00,  9.30it/s]"
          ]
        },
        {
          "output_type": "stream",
          "name": "stderr",
          "text": [
            "\rEpoch 9/15 Train:  91%|\u2588\u2588\u2588\u2588\u2588\u2588\u2588\u2588\u2588 | 10/11 [00:01<00:00,  9.45it/s]"
          ]
        },
        {
          "output_type": "stream",
          "name": "stderr",
          "text": [
            "\rEpoch 9/15 Train: 100%|\u2588\u2588\u2588\u2588\u2588\u2588\u2588\u2588\u2588\u2588| 11/11 [00:01<00:00,  8.43it/s]"
          ]
        },
        {
          "output_type": "stream",
          "name": "stderr",
          "text": [
            "\n"
          ]
        },
        {
          "output_type": "stream",
          "name": "stderr",
          "text": [
            "\rVal:   0%|          | 0/3 [00:00<?, ?it/s]"
          ]
        },
        {
          "output_type": "stream",
          "name": "stderr",
          "text": [
            "\rVal:  33%|\u2588\u2588\u2588\u258e      | 1/3 [00:00<00:00,  4.15it/s]"
          ]
        },
        {
          "output_type": "stream",
          "name": "stderr",
          "text": [
            "\rVal: 100%|\u2588\u2588\u2588\u2588\u2588\u2588\u2588\u2588\u2588\u2588| 3/3 [00:00<00:00,  9.74it/s]"
          ]
        },
        {
          "output_type": "stream",
          "name": "stderr",
          "text": [
            "\rVal: 100%|\u2588\u2588\u2588\u2588\u2588\u2588\u2588\u2588\u2588\u2588| 3/3 [00:00<00:00,  7.72it/s]"
          ]
        },
        {
          "output_type": "stream",
          "name": "stderr",
          "text": [
            "\n"
          ]
        },
        {
          "output_type": "stream",
          "name": "stdout",
          "text": [
            "Epoch 9: TrainBCE=0.7162, ValWLL=0.4397, LR=2.00e-05\n"
          ]
        },
        {
          "output_type": "stream",
          "name": "stderr",
          "text": [
            "\rEpoch 10/15 Train:   0%|          | 0/11 [00:00<?, ?it/s]"
          ]
        },
        {
          "output_type": "stream",
          "name": "stderr",
          "text": [
            "\rEpoch 10/15 Train:   9%|\u2589         | 1/11 [00:00<00:03,  2.94it/s]"
          ]
        },
        {
          "output_type": "stream",
          "name": "stderr",
          "text": [
            "\rEpoch 10/15 Train:  18%|\u2588\u258a        | 2/11 [00:00<00:01,  5.01it/s]"
          ]
        },
        {
          "output_type": "stream",
          "name": "stderr",
          "text": [
            "\rEpoch 10/15 Train:  27%|\u2588\u2588\u258b       | 3/11 [00:00<00:01,  6.48it/s]"
          ]
        },
        {
          "output_type": "stream",
          "name": "stderr",
          "text": [
            "\rEpoch 10/15 Train:  36%|\u2588\u2588\u2588\u258b      | 4/11 [00:00<00:00,  7.53it/s]"
          ]
        },
        {
          "output_type": "stream",
          "name": "stderr",
          "text": [
            "\rEpoch 10/15 Train:  55%|\u2588\u2588\u2588\u2588\u2588\u258d    | 6/11 [00:00<00:00,  8.68it/s]"
          ]
        },
        {
          "output_type": "stream",
          "name": "stderr",
          "text": [
            "\rEpoch 10/15 Train:  64%|\u2588\u2588\u2588\u2588\u2588\u2588\u258e   | 7/11 [00:00<00:00,  9.00it/s]"
          ]
        },
        {
          "output_type": "stream",
          "name": "stderr",
          "text": [
            "\rEpoch 10/15 Train:  82%|\u2588\u2588\u2588\u2588\u2588\u2588\u2588\u2588\u258f | 9/11 [00:01<00:00,  9.38it/s]"
          ]
        },
        {
          "output_type": "stream",
          "name": "stderr",
          "text": [
            "\rEpoch 10/15 Train:  91%|\u2588\u2588\u2588\u2588\u2588\u2588\u2588\u2588\u2588 | 10/11 [00:01<00:00,  9.50it/s]"
          ]
        },
        {
          "output_type": "stream",
          "name": "stderr",
          "text": [
            "\rEpoch 10/15 Train: 100%|\u2588\u2588\u2588\u2588\u2588\u2588\u2588\u2588\u2588\u2588| 11/11 [00:01<00:00,  8.31it/s]"
          ]
        },
        {
          "output_type": "stream",
          "name": "stderr",
          "text": [
            "\n"
          ]
        },
        {
          "output_type": "stream",
          "name": "stderr",
          "text": [
            "\rVal:   0%|          | 0/3 [00:00<?, ?it/s]"
          ]
        },
        {
          "output_type": "stream",
          "name": "stderr",
          "text": [
            "\rVal:  33%|\u2588\u2588\u2588\u258e      | 1/3 [00:00<00:00,  3.89it/s]"
          ]
        },
        {
          "output_type": "stream",
          "name": "stderr",
          "text": [
            "\rVal: 100%|\u2588\u2588\u2588\u2588\u2588\u2588\u2588\u2588\u2588\u2588| 3/3 [00:00<00:00,  9.34it/s]"
          ]
        },
        {
          "output_type": "stream",
          "name": "stderr",
          "text": [
            "\rVal: 100%|\u2588\u2588\u2588\u2588\u2588\u2588\u2588\u2588\u2588\u2588| 3/3 [00:00<00:00,  7.19it/s]"
          ]
        },
        {
          "output_type": "stream",
          "name": "stderr",
          "text": [
            "\n"
          ]
        },
        {
          "output_type": "stream",
          "name": "stdout",
          "text": [
            "Epoch 10: TrainBCE=0.6709, ValWLL=0.4470, LR=2.00e-05\n"
          ]
        },
        {
          "output_type": "stream",
          "name": "stderr",
          "text": [
            "\rEpoch 11/15 Train:   0%|          | 0/11 [00:00<?, ?it/s]"
          ]
        },
        {
          "output_type": "stream",
          "name": "stderr",
          "text": [
            "\rEpoch 11/15 Train:   9%|\u2589         | 1/11 [00:00<00:03,  2.98it/s]"
          ]
        },
        {
          "output_type": "stream",
          "name": "stderr",
          "text": [
            "\rEpoch 11/15 Train:  18%|\u2588\u258a        | 2/11 [00:00<00:01,  5.05it/s]"
          ]
        },
        {
          "output_type": "stream",
          "name": "stderr",
          "text": [
            "\rEpoch 11/15 Train:  27%|\u2588\u2588\u258b       | 3/11 [00:00<00:01,  6.52it/s]"
          ]
        },
        {
          "output_type": "stream",
          "name": "stderr",
          "text": [
            "\rEpoch 11/15 Train:  36%|\u2588\u2588\u2588\u258b      | 4/11 [00:00<00:00,  7.56it/s]"
          ]
        },
        {
          "output_type": "stream",
          "name": "stderr",
          "text": [
            "\rEpoch 11/15 Train:  45%|\u2588\u2588\u2588\u2588\u258c     | 5/11 [00:00<00:00,  8.29it/s]"
          ]
        },
        {
          "output_type": "stream",
          "name": "stderr",
          "text": [
            "\rEpoch 11/15 Train:  64%|\u2588\u2588\u2588\u2588\u2588\u2588\u258e   | 7/11 [00:00<00:00,  9.09it/s]"
          ]
        },
        {
          "output_type": "stream",
          "name": "stderr",
          "text": [
            "\rEpoch 11/15 Train:  82%|\u2588\u2588\u2588\u2588\u2588\u2588\u2588\u2588\u258f | 9/11 [00:01<00:00,  9.45it/s]"
          ]
        },
        {
          "output_type": "stream",
          "name": "stderr",
          "text": [
            "\rEpoch 11/15 Train:  91%|\u2588\u2588\u2588\u2588\u2588\u2588\u2588\u2588\u2588 | 10/11 [00:01<00:00,  9.51it/s]"
          ]
        },
        {
          "output_type": "stream",
          "name": "stderr",
          "text": [
            "\rEpoch 11/15 Train: 100%|\u2588\u2588\u2588\u2588\u2588\u2588\u2588\u2588\u2588\u2588| 11/11 [00:01<00:00,  8.32it/s]"
          ]
        },
        {
          "output_type": "stream",
          "name": "stderr",
          "text": [
            "\n"
          ]
        },
        {
          "output_type": "stream",
          "name": "stderr",
          "text": [
            "\rVal:   0%|          | 0/3 [00:00<?, ?it/s]"
          ]
        },
        {
          "output_type": "stream",
          "name": "stderr",
          "text": [
            "\rVal:  33%|\u2588\u2588\u2588\u258e      | 1/3 [00:00<00:00,  4.16it/s]"
          ]
        },
        {
          "output_type": "stream",
          "name": "stderr",
          "text": [
            "\rVal: 100%|\u2588\u2588\u2588\u2588\u2588\u2588\u2588\u2588\u2588\u2588| 3/3 [00:00<00:00,  9.80it/s]"
          ]
        },
        {
          "output_type": "stream",
          "name": "stderr",
          "text": [
            "\rVal: 100%|\u2588\u2588\u2588\u2588\u2588\u2588\u2588\u2588\u2588\u2588| 3/3 [00:00<00:00,  7.70it/s]"
          ]
        },
        {
          "output_type": "stream",
          "name": "stderr",
          "text": [
            "\n"
          ]
        },
        {
          "output_type": "stream",
          "name": "stdout",
          "text": [
            "Epoch 11: TrainBCE=0.6913, ValWLL=0.4410, LR=2.00e-05\n"
          ]
        },
        {
          "output_type": "stream",
          "name": "stderr",
          "text": [
            "\rEpoch 12/15 Train:   0%|          | 0/11 [00:00<?, ?it/s]"
          ]
        },
        {
          "output_type": "stream",
          "name": "stderr",
          "text": [
            "\rEpoch 12/15 Train:   9%|\u2589         | 1/11 [00:00<00:03,  3.03it/s]"
          ]
        },
        {
          "output_type": "stream",
          "name": "stderr",
          "text": [
            "\rEpoch 12/15 Train:  18%|\u2588\u258a        | 2/11 [00:00<00:01,  5.12it/s]"
          ]
        },
        {
          "output_type": "stream",
          "name": "stderr",
          "text": [
            "\rEpoch 12/15 Train:  36%|\u2588\u2588\u2588\u258b      | 4/11 [00:00<00:00,  7.39it/s]"
          ]
        },
        {
          "output_type": "stream",
          "name": "stderr",
          "text": [
            "\rEpoch 12/15 Train:  55%|\u2588\u2588\u2588\u2588\u2588\u258d    | 6/11 [00:00<00:00,  8.45it/s]"
          ]
        },
        {
          "output_type": "stream",
          "name": "stderr",
          "text": [
            "\rEpoch 12/15 Train:  64%|\u2588\u2588\u2588\u2588\u2588\u2588\u258e   | 7/11 [00:00<00:00,  8.79it/s]"
          ]
        },
        {
          "output_type": "stream",
          "name": "stderr",
          "text": [
            "\rEpoch 12/15 Train:  82%|\u2588\u2588\u2588\u2588\u2588\u2588\u2588\u2588\u258f | 9/11 [00:01<00:00,  9.26it/s]"
          ]
        },
        {
          "output_type": "stream",
          "name": "stderr",
          "text": [
            "\rEpoch 12/15 Train:  91%|\u2588\u2588\u2588\u2588\u2588\u2588\u2588\u2588\u2588 | 10/11 [00:01<00:00,  9.42it/s]"
          ]
        },
        {
          "output_type": "stream",
          "name": "stderr",
          "text": [
            "\rEpoch 12/15 Train: 100%|\u2588\u2588\u2588\u2588\u2588\u2588\u2588\u2588\u2588\u2588| 11/11 [00:01<00:00,  8.39it/s]"
          ]
        },
        {
          "output_type": "stream",
          "name": "stderr",
          "text": [
            "\n"
          ]
        },
        {
          "output_type": "stream",
          "name": "stderr",
          "text": [
            "\rVal:   0%|          | 0/3 [00:00<?, ?it/s]"
          ]
        },
        {
          "output_type": "stream",
          "name": "stderr",
          "text": [
            "\rVal:  33%|\u2588\u2588\u2588\u258e      | 1/3 [00:00<00:00,  4.04it/s]"
          ]
        },
        {
          "output_type": "stream",
          "name": "stderr",
          "text": [
            "\rVal: 100%|\u2588\u2588\u2588\u2588\u2588\u2588\u2588\u2588\u2588\u2588| 3/3 [00:00<00:00,  9.60it/s]"
          ]
        },
        {
          "output_type": "stream",
          "name": "stderr",
          "text": [
            "\rVal: 100%|\u2588\u2588\u2588\u2588\u2588\u2588\u2588\u2588\u2588\u2588| 3/3 [00:00<00:00,  7.63it/s]"
          ]
        },
        {
          "output_type": "stream",
          "name": "stderr",
          "text": [
            "\n"
          ]
        },
        {
          "output_type": "stream",
          "name": "stdout",
          "text": [
            "Epoch 12: TrainBCE=0.7061, ValWLL=0.4432, LR=1.00e-05\n"
          ]
        },
        {
          "output_type": "stream",
          "name": "stderr",
          "text": [
            "\rEpoch 13/15 Train:   0%|          | 0/11 [00:00<?, ?it/s]"
          ]
        },
        {
          "output_type": "stream",
          "name": "stderr",
          "text": [
            "\rEpoch 13/15 Train:   9%|\u2589         | 1/11 [00:00<00:03,  3.11it/s]"
          ]
        },
        {
          "output_type": "stream",
          "name": "stderr",
          "text": [
            "\rEpoch 13/15 Train:  18%|\u2588\u258a        | 2/11 [00:00<00:01,  5.18it/s]"
          ]
        },
        {
          "output_type": "stream",
          "name": "stderr",
          "text": [
            "\rEpoch 13/15 Train:  36%|\u2588\u2588\u2588\u258b      | 4/11 [00:00<00:00,  7.45it/s]"
          ]
        },
        {
          "output_type": "stream",
          "name": "stderr",
          "text": [
            "\rEpoch 13/15 Train:  55%|\u2588\u2588\u2588\u2588\u2588\u258d    | 6/11 [00:00<00:00,  8.48it/s]"
          ]
        },
        {
          "output_type": "stream",
          "name": "stderr",
          "text": [
            "\rEpoch 13/15 Train:  73%|\u2588\u2588\u2588\u2588\u2588\u2588\u2588\u258e  | 8/11 [00:01<00:00,  9.06it/s]"
          ]
        },
        {
          "output_type": "stream",
          "name": "stderr",
          "text": [
            "\rEpoch 13/15 Train:  82%|\u2588\u2588\u2588\u2588\u2588\u2588\u2588\u2588\u258f | 9/11 [00:01<00:00,  9.25it/s]"
          ]
        },
        {
          "output_type": "stream",
          "name": "stderr",
          "text": [
            "\rEpoch 13/15 Train: 100%|\u2588\u2588\u2588\u2588\u2588\u2588\u2588\u2588\u2588\u2588| 11/11 [00:01<00:00, 10.89it/s]"
          ]
        },
        {
          "output_type": "stream",
          "name": "stderr",
          "text": [
            "\rEpoch 13/15 Train: 100%|\u2588\u2588\u2588\u2588\u2588\u2588\u2588\u2588\u2588\u2588| 11/11 [00:01<00:00,  8.46it/s]"
          ]
        },
        {
          "output_type": "stream",
          "name": "stderr",
          "text": [
            "\n"
          ]
        },
        {
          "output_type": "stream",
          "name": "stderr",
          "text": [
            "\rVal:   0%|          | 0/3 [00:00<?, ?it/s]"
          ]
        },
        {
          "output_type": "stream",
          "name": "stderr",
          "text": [
            "\rVal:  33%|\u2588\u2588\u2588\u258e      | 1/3 [00:00<00:00,  4.16it/s]"
          ]
        },
        {
          "output_type": "stream",
          "name": "stderr",
          "text": [
            "\rVal: 100%|\u2588\u2588\u2588\u2588\u2588\u2588\u2588\u2588\u2588\u2588| 3/3 [00:00<00:00,  9.78it/s]"
          ]
        },
        {
          "output_type": "stream",
          "name": "stderr",
          "text": [
            "\rVal: 100%|\u2588\u2588\u2588\u2588\u2588\u2588\u2588\u2588\u2588\u2588| 3/3 [00:00<00:00,  7.77it/s]"
          ]
        },
        {
          "output_type": "stream",
          "name": "stderr",
          "text": [
            "\n"
          ]
        },
        {
          "output_type": "stream",
          "name": "stdout",
          "text": [
            "Epoch 13: TrainBCE=0.7528, ValWLL=0.4473, LR=1.00e-05\nEarly stopping at epoch 13\nConvNeXt Fold 4 best OOF WLL (val): 0.4397\n"
          ]
        },
        {
          "output_type": "stream",
          "name": "stderr",
          "text": [
            "\rFinal Val for OOF:   0%|          | 0/3 [00:00<?, ?it/s]"
          ]
        },
        {
          "output_type": "stream",
          "name": "stderr",
          "text": [
            "\rFinal Val for OOF:  33%|\u2588\u2588\u2588\u258e      | 1/3 [00:00<00:00,  4.15it/s]"
          ]
        },
        {
          "output_type": "stream",
          "name": "stderr",
          "text": [
            "\rFinal Val for OOF: 100%|\u2588\u2588\u2588\u2588\u2588\u2588\u2588\u2588\u2588\u2588| 3/3 [00:00<00:00,  9.75it/s]"
          ]
        },
        {
          "output_type": "stream",
          "name": "stderr",
          "text": [
            "\rFinal Val for OOF: 100%|\u2588\u2588\u2588\u2588\u2588\u2588\u2588\u2588\u2588\u2588| 3/3 [00:00<00:00,  7.67it/s]"
          ]
        },
        {
          "output_type": "stream",
          "name": "stderr",
          "text": [
            "\n"
          ]
        },
        {
          "output_type": "stream",
          "name": "stdout",
          "text": [
            "ConvNeXt Fold 4 OOF WLL: 0.4473\n\n=== ConvNeXt Fold 5/5 ===\n"
          ]
        },
        {
          "output_type": "stream",
          "name": "stderr",
          "text": [
            "\rEpoch 1/15 Train:   0%|          | 0/11 [00:00<?, ?it/s]"
          ]
        },
        {
          "output_type": "stream",
          "name": "stderr",
          "text": [
            "\rEpoch 1/15 Train:   9%|\u2589         | 1/11 [00:00<00:02,  3.54it/s]"
          ]
        },
        {
          "output_type": "stream",
          "name": "stderr",
          "text": [
            "\rEpoch 1/15 Train:  36%|\u2588\u2588\u2588\u258b      | 4/11 [00:00<00:00, 11.82it/s]"
          ]
        },
        {
          "output_type": "stream",
          "name": "stderr",
          "text": [
            "\rEpoch 1/15 Train:  64%|\u2588\u2588\u2588\u2588\u2588\u2588\u258e   | 7/11 [00:00<00:00, 16.87it/s]"
          ]
        },
        {
          "output_type": "stream",
          "name": "stderr",
          "text": [
            "\rEpoch 1/15 Train:  91%|\u2588\u2588\u2588\u2588\u2588\u2588\u2588\u2588\u2588 | 10/11 [00:00<00:00, 20.08it/s]"
          ]
        },
        {
          "output_type": "stream",
          "name": "stderr",
          "text": [
            "\rEpoch 1/15 Train: 100%|\u2588\u2588\u2588\u2588\u2588\u2588\u2588\u2588\u2588\u2588| 11/11 [00:00<00:00, 16.01it/s]"
          ]
        },
        {
          "output_type": "stream",
          "name": "stderr",
          "text": [
            "\n"
          ]
        },
        {
          "output_type": "stream",
          "name": "stderr",
          "text": [
            "\rVal:   0%|          | 0/3 [00:00<?, ?it/s]"
          ]
        },
        {
          "output_type": "stream",
          "name": "stderr",
          "text": [
            "\rVal:  33%|\u2588\u2588\u2588\u258e      | 1/3 [00:00<00:00,  4.04it/s]"
          ]
        },
        {
          "output_type": "stream",
          "name": "stderr",
          "text": [
            "\rVal: 100%|\u2588\u2588\u2588\u2588\u2588\u2588\u2588\u2588\u2588\u2588| 3/3 [00:00<00:00,  9.74it/s]"
          ]
        },
        {
          "output_type": "stream",
          "name": "stderr",
          "text": [
            "\rVal: 100%|\u2588\u2588\u2588\u2588\u2588\u2588\u2588\u2588\u2588\u2588| 3/3 [00:00<00:00,  7.66it/s]"
          ]
        },
        {
          "output_type": "stream",
          "name": "stderr",
          "text": [
            "\n"
          ]
        },
        {
          "output_type": "stream",
          "name": "stdout",
          "text": [
            "Epoch 1: TrainBCE=0.8590, ValWLL=0.4527, LR=2.00e-05\n"
          ]
        },
        {
          "output_type": "stream",
          "name": "stderr",
          "text": [
            "\rEpoch 2/15 Train:   0%|          | 0/11 [00:00<?, ?it/s]"
          ]
        },
        {
          "output_type": "stream",
          "name": "stderr",
          "text": [
            "\rEpoch 2/15 Train:   9%|\u2589         | 1/11 [00:00<00:02,  3.79it/s]"
          ]
        },
        {
          "output_type": "stream",
          "name": "stderr",
          "text": [
            "\rEpoch 2/15 Train:  36%|\u2588\u2588\u2588\u258b      | 4/11 [00:00<00:00, 12.13it/s]"
          ]
        },
        {
          "output_type": "stream",
          "name": "stderr",
          "text": [
            "\rEpoch 2/15 Train:  64%|\u2588\u2588\u2588\u2588\u2588\u2588\u258e   | 7/11 [00:00<00:00, 17.14it/s]"
          ]
        },
        {
          "output_type": "stream",
          "name": "stderr",
          "text": [
            "\rEpoch 2/15 Train:  91%|\u2588\u2588\u2588\u2588\u2588\u2588\u2588\u2588\u2588 | 10/11 [00:00<00:00, 20.24it/s]"
          ]
        },
        {
          "output_type": "stream",
          "name": "stderr",
          "text": [
            "\rEpoch 2/15 Train: 100%|\u2588\u2588\u2588\u2588\u2588\u2588\u2588\u2588\u2588\u2588| 11/11 [00:00<00:00, 16.39it/s]"
          ]
        },
        {
          "output_type": "stream",
          "name": "stderr",
          "text": [
            "\n"
          ]
        },
        {
          "output_type": "stream",
          "name": "stderr",
          "text": [
            "\rVal:   0%|          | 0/3 [00:00<?, ?it/s]"
          ]
        },
        {
          "output_type": "stream",
          "name": "stderr",
          "text": [
            "\rVal:  33%|\u2588\u2588\u2588\u258e      | 1/3 [00:00<00:00,  3.93it/s]"
          ]
        },
        {
          "output_type": "stream",
          "name": "stderr",
          "text": [
            "\rVal: 100%|\u2588\u2588\u2588\u2588\u2588\u2588\u2588\u2588\u2588\u2588| 3/3 [00:00<00:00,  9.55it/s]"
          ]
        },
        {
          "output_type": "stream",
          "name": "stderr",
          "text": [
            "\rVal: 100%|\u2588\u2588\u2588\u2588\u2588\u2588\u2588\u2588\u2588\u2588| 3/3 [00:00<00:00,  7.53it/s]"
          ]
        },
        {
          "output_type": "stream",
          "name": "stderr",
          "text": [
            "\n"
          ]
        },
        {
          "output_type": "stream",
          "name": "stdout",
          "text": [
            "Epoch 2: TrainBCE=0.8010, ValWLL=0.4525, LR=2.00e-05\n"
          ]
        },
        {
          "output_type": "stream",
          "name": "stderr",
          "text": [
            "\rEpoch 3/15 Train:   0%|          | 0/11 [00:00<?, ?it/s]"
          ]
        },
        {
          "output_type": "stream",
          "name": "stderr",
          "text": [
            "\rEpoch 3/15 Train:   9%|\u2589         | 1/11 [00:00<00:03,  3.02it/s]"
          ]
        },
        {
          "output_type": "stream",
          "name": "stderr",
          "text": [
            "\rEpoch 3/15 Train:  27%|\u2588\u2588\u258b       | 3/11 [00:00<00:01,  6.34it/s]"
          ]
        },
        {
          "output_type": "stream",
          "name": "stderr",
          "text": [
            "\rEpoch 3/15 Train:  36%|\u2588\u2588\u2588\u258b      | 4/11 [00:00<00:00,  7.16it/s]"
          ]
        },
        {
          "output_type": "stream",
          "name": "stderr",
          "text": [
            "\rEpoch 3/15 Train:  55%|\u2588\u2588\u2588\u2588\u2588\u258d    | 6/11 [00:00<00:00,  8.43it/s]"
          ]
        },
        {
          "output_type": "stream",
          "name": "stderr",
          "text": [
            "\rEpoch 3/15 Train:  73%|\u2588\u2588\u2588\u2588\u2588\u2588\u2588\u258e  | 8/11 [00:01<00:00,  9.10it/s]"
          ]
        },
        {
          "output_type": "stream",
          "name": "stderr",
          "text": [
            "\rEpoch 3/15 Train:  82%|\u2588\u2588\u2588\u2588\u2588\u2588\u2588\u2588\u258f | 9/11 [00:01<00:00,  9.27it/s]"
          ]
        },
        {
          "output_type": "stream",
          "name": "stderr",
          "text": [
            "\rEpoch 3/15 Train:  91%|\u2588\u2588\u2588\u2588\u2588\u2588\u2588\u2588\u2588 | 10/11 [00:01<00:00,  9.43it/s]"
          ]
        },
        {
          "output_type": "stream",
          "name": "stderr",
          "text": [
            "\rEpoch 3/15 Train: 100%|\u2588\u2588\u2588\u2588\u2588\u2588\u2588\u2588\u2588\u2588| 11/11 [00:01<00:00,  8.44it/s]"
          ]
        },
        {
          "output_type": "stream",
          "name": "stderr",
          "text": [
            "\n"
          ]
        },
        {
          "output_type": "stream",
          "name": "stderr",
          "text": [
            "\rVal:   0%|          | 0/3 [00:00<?, ?it/s]"
          ]
        },
        {
          "output_type": "stream",
          "name": "stderr",
          "text": [
            "\rVal:  33%|\u2588\u2588\u2588\u258e      | 1/3 [00:00<00:00,  4.04it/s]"
          ]
        },
        {
          "output_type": "stream",
          "name": "stderr",
          "text": [
            "\rVal: 100%|\u2588\u2588\u2588\u2588\u2588\u2588\u2588\u2588\u2588\u2588| 3/3 [00:00<00:00,  9.73it/s]"
          ]
        },
        {
          "output_type": "stream",
          "name": "stderr",
          "text": [
            "\rVal: 100%|\u2588\u2588\u2588\u2588\u2588\u2588\u2588\u2588\u2588\u2588| 3/3 [00:00<00:00,  7.62it/s]"
          ]
        },
        {
          "output_type": "stream",
          "name": "stderr",
          "text": [
            "\n"
          ]
        },
        {
          "output_type": "stream",
          "name": "stdout",
          "text": [
            "Epoch 3: TrainBCE=0.8030, ValWLL=0.4470, LR=2.00e-05\n"
          ]
        },
        {
          "output_type": "stream",
          "name": "stderr",
          "text": [
            "\rEpoch 4/15 Train:   0%|          | 0/11 [00:00<?, ?it/s]"
          ]
        },
        {
          "output_type": "stream",
          "name": "stderr",
          "text": [
            "\rEpoch 4/15 Train:   9%|\u2589         | 1/11 [00:00<00:03,  2.85it/s]"
          ]
        },
        {
          "output_type": "stream",
          "name": "stderr",
          "text": [
            "\rEpoch 4/15 Train:  18%|\u2588\u258a        | 2/11 [00:00<00:01,  4.92it/s]"
          ]
        },
        {
          "output_type": "stream",
          "name": "stderr",
          "text": [
            "\rEpoch 4/15 Train:  36%|\u2588\u2588\u2588\u258b      | 4/11 [00:00<00:00,  7.24it/s]"
          ]
        },
        {
          "output_type": "stream",
          "name": "stderr",
          "text": [
            "\rEpoch 4/15 Train:  55%|\u2588\u2588\u2588\u2588\u2588\u258d    | 6/11 [00:00<00:00,  8.35it/s]"
          ]
        },
        {
          "output_type": "stream",
          "name": "stderr",
          "text": [
            "\rEpoch 4/15 Train:  73%|\u2588\u2588\u2588\u2588\u2588\u2588\u2588\u258e  | 8/11 [00:01<00:00,  8.96it/s]"
          ]
        },
        {
          "output_type": "stream",
          "name": "stderr",
          "text": [
            "\rEpoch 4/15 Train:  82%|\u2588\u2588\u2588\u2588\u2588\u2588\u2588\u2588\u258f | 9/11 [00:01<00:00,  9.14it/s]"
          ]
        },
        {
          "output_type": "stream",
          "name": "stderr",
          "text": [
            "\rEpoch 4/15 Train:  91%|\u2588\u2588\u2588\u2588\u2588\u2588\u2588\u2588\u2588 | 10/11 [00:01<00:00,  9.31it/s]"
          ]
        },
        {
          "output_type": "stream",
          "name": "stderr",
          "text": [
            "\rEpoch 4/15 Train: 100%|\u2588\u2588\u2588\u2588\u2588\u2588\u2588\u2588\u2588\u2588| 11/11 [00:01<00:00,  8.25it/s]"
          ]
        },
        {
          "output_type": "stream",
          "name": "stderr",
          "text": [
            "\n"
          ]
        },
        {
          "output_type": "stream",
          "name": "stderr",
          "text": [
            "\rVal:   0%|          | 0/3 [00:00<?, ?it/s]"
          ]
        },
        {
          "output_type": "stream",
          "name": "stderr",
          "text": [
            "\rVal:  33%|\u2588\u2588\u2588\u258e      | 1/3 [00:00<00:00,  4.24it/s]"
          ]
        },
        {
          "output_type": "stream",
          "name": "stderr",
          "text": [
            "\rVal: 100%|\u2588\u2588\u2588\u2588\u2588\u2588\u2588\u2588\u2588\u2588| 3/3 [00:00<00:00, 10.04it/s]"
          ]
        },
        {
          "output_type": "stream",
          "name": "stderr",
          "text": [
            "\rVal: 100%|\u2588\u2588\u2588\u2588\u2588\u2588\u2588\u2588\u2588\u2588| 3/3 [00:00<00:00,  7.94it/s]"
          ]
        },
        {
          "output_type": "stream",
          "name": "stderr",
          "text": [
            "\n"
          ]
        },
        {
          "output_type": "stream",
          "name": "stdout",
          "text": [
            "Epoch 4: TrainBCE=0.7233, ValWLL=0.4425, LR=2.00e-05\n"
          ]
        },
        {
          "output_type": "stream",
          "name": "stderr",
          "text": [
            "\rEpoch 5/15 Train:   0%|          | 0/11 [00:00<?, ?it/s]"
          ]
        },
        {
          "output_type": "stream",
          "name": "stderr",
          "text": [
            "\rEpoch 5/15 Train:   9%|\u2589         | 1/11 [00:00<00:03,  3.08it/s]"
          ]
        },
        {
          "output_type": "stream",
          "name": "stderr",
          "text": [
            "\rEpoch 5/15 Train:  18%|\u2588\u258a        | 2/11 [00:00<00:01,  5.16it/s]"
          ]
        },
        {
          "output_type": "stream",
          "name": "stderr",
          "text": [
            "\rEpoch 5/15 Train:  36%|\u2588\u2588\u2588\u258b      | 4/11 [00:00<00:00,  7.43it/s]"
          ]
        },
        {
          "output_type": "stream",
          "name": "stderr",
          "text": [
            "\rEpoch 5/15 Train:  55%|\u2588\u2588\u2588\u2588\u2588\u258d    | 6/11 [00:00<00:00,  8.47it/s]"
          ]
        },
        {
          "output_type": "stream",
          "name": "stderr",
          "text": [
            "\rEpoch 5/15 Train:  73%|\u2588\u2588\u2588\u2588\u2588\u2588\u2588\u258e  | 8/11 [00:01<00:00,  9.05it/s]"
          ]
        },
        {
          "output_type": "stream",
          "name": "stderr",
          "text": [
            "\rEpoch 5/15 Train:  82%|\u2588\u2588\u2588\u2588\u2588\u2588\u2588\u2588\u258f | 9/11 [00:01<00:00,  9.23it/s]"
          ]
        },
        {
          "output_type": "stream",
          "name": "stderr",
          "text": [
            "\rEpoch 5/15 Train:  91%|\u2588\u2588\u2588\u2588\u2588\u2588\u2588\u2588\u2588 | 10/11 [00:01<00:00,  9.40it/s]"
          ]
        },
        {
          "output_type": "stream",
          "name": "stderr",
          "text": [
            "\rEpoch 5/15 Train: 100%|\u2588\u2588\u2588\u2588\u2588\u2588\u2588\u2588\u2588\u2588| 11/11 [00:01<00:00,  8.43it/s]"
          ]
        },
        {
          "output_type": "stream",
          "name": "stderr",
          "text": [
            "\n"
          ]
        },
        {
          "output_type": "stream",
          "name": "stderr",
          "text": [
            "\rVal:   0%|          | 0/3 [00:00<?, ?it/s]"
          ]
        },
        {
          "output_type": "stream",
          "name": "stderr",
          "text": [
            "\rVal:  33%|\u2588\u2588\u2588\u258e      | 1/3 [00:00<00:00,  4.03it/s]"
          ]
        },
        {
          "output_type": "stream",
          "name": "stderr",
          "text": [
            "\rVal: 100%|\u2588\u2588\u2588\u2588\u2588\u2588\u2588\u2588\u2588\u2588| 3/3 [00:00<00:00,  9.70it/s]"
          ]
        },
        {
          "output_type": "stream",
          "name": "stderr",
          "text": [
            "\rVal: 100%|\u2588\u2588\u2588\u2588\u2588\u2588\u2588\u2588\u2588\u2588| 3/3 [00:00<00:00,  7.65it/s]"
          ]
        },
        {
          "output_type": "stream",
          "name": "stderr",
          "text": [
            "\n"
          ]
        },
        {
          "output_type": "stream",
          "name": "stdout",
          "text": [
            "Epoch 5: TrainBCE=0.6922, ValWLL=0.4439, LR=2.00e-05\n"
          ]
        },
        {
          "output_type": "stream",
          "name": "stderr",
          "text": [
            "\rEpoch 6/15 Train:   0%|          | 0/11 [00:00<?, ?it/s]"
          ]
        },
        {
          "output_type": "stream",
          "name": "stderr",
          "text": [
            "\rEpoch 6/15 Train:   9%|\u2589         | 1/11 [00:00<00:03,  3.05it/s]"
          ]
        },
        {
          "output_type": "stream",
          "name": "stderr",
          "text": [
            "\rEpoch 6/15 Train:  18%|\u2588\u258a        | 2/11 [00:00<00:01,  5.15it/s]"
          ]
        },
        {
          "output_type": "stream",
          "name": "stderr",
          "text": [
            "\rEpoch 6/15 Train:  36%|\u2588\u2588\u2588\u258b      | 4/11 [00:00<00:00,  7.42it/s]"
          ]
        },
        {
          "output_type": "stream",
          "name": "stderr",
          "text": [
            "\rEpoch 6/15 Train:  55%|\u2588\u2588\u2588\u2588\u2588\u258d    | 6/11 [00:00<00:00,  8.46it/s]"
          ]
        },
        {
          "output_type": "stream",
          "name": "stderr",
          "text": [
            "\rEpoch 6/15 Train:  73%|\u2588\u2588\u2588\u2588\u2588\u2588\u2588\u258e  | 8/11 [00:01<00:00,  9.04it/s]"
          ]
        },
        {
          "output_type": "stream",
          "name": "stderr",
          "text": [
            "\rEpoch 6/15 Train:  82%|\u2588\u2588\u2588\u2588\u2588\u2588\u2588\u2588\u258f | 9/11 [00:01<00:00,  9.20it/s]"
          ]
        },
        {
          "output_type": "stream",
          "name": "stderr",
          "text": [
            "\rEpoch 6/15 Train:  91%|\u2588\u2588\u2588\u2588\u2588\u2588\u2588\u2588\u2588 | 10/11 [00:01<00:00,  9.36it/s]"
          ]
        },
        {
          "output_type": "stream",
          "name": "stderr",
          "text": [
            "\rEpoch 6/15 Train: 100%|\u2588\u2588\u2588\u2588\u2588\u2588\u2588\u2588\u2588\u2588| 11/11 [00:01<00:00,  8.38it/s]"
          ]
        },
        {
          "output_type": "stream",
          "name": "stderr",
          "text": [
            "\n"
          ]
        },
        {
          "output_type": "stream",
          "name": "stderr",
          "text": [
            "\rVal:   0%|          | 0/3 [00:00<?, ?it/s]"
          ]
        },
        {
          "output_type": "stream",
          "name": "stderr",
          "text": [
            "\rVal:  33%|\u2588\u2588\u2588\u258e      | 1/3 [00:00<00:00,  4.11it/s]"
          ]
        },
        {
          "output_type": "stream",
          "name": "stderr",
          "text": [
            "\rVal: 100%|\u2588\u2588\u2588\u2588\u2588\u2588\u2588\u2588\u2588\u2588| 3/3 [00:00<00:00,  9.89it/s]"
          ]
        },
        {
          "output_type": "stream",
          "name": "stderr",
          "text": [
            "\rVal: 100%|\u2588\u2588\u2588\u2588\u2588\u2588\u2588\u2588\u2588\u2588| 3/3 [00:00<00:00,  7.68it/s]"
          ]
        },
        {
          "output_type": "stream",
          "name": "stderr",
          "text": [
            "\n"
          ]
        },
        {
          "output_type": "stream",
          "name": "stdout",
          "text": [
            "Epoch 6: TrainBCE=0.7386, ValWLL=0.4450, LR=2.00e-05\n"
          ]
        },
        {
          "output_type": "stream",
          "name": "stderr",
          "text": [
            "\rEpoch 7/15 Train:   0%|          | 0/11 [00:00<?, ?it/s]"
          ]
        },
        {
          "output_type": "stream",
          "name": "stderr",
          "text": [
            "\rEpoch 7/15 Train:   9%|\u2589         | 1/11 [00:00<00:03,  3.08it/s]"
          ]
        },
        {
          "output_type": "stream",
          "name": "stderr",
          "text": [
            "\rEpoch 7/15 Train:  18%|\u2588\u258a        | 2/11 [00:00<00:01,  5.17it/s]"
          ]
        },
        {
          "output_type": "stream",
          "name": "stderr",
          "text": [
            "\rEpoch 7/15 Train:  36%|\u2588\u2588\u2588\u258b      | 4/11 [00:00<00:00,  7.43it/s]"
          ]
        },
        {
          "output_type": "stream",
          "name": "stderr",
          "text": [
            "\rEpoch 7/15 Train:  55%|\u2588\u2588\u2588\u2588\u2588\u258d    | 6/11 [00:00<00:00,  8.47it/s]"
          ]
        },
        {
          "output_type": "stream",
          "name": "stderr",
          "text": [
            "\rEpoch 7/15 Train:  73%|\u2588\u2588\u2588\u2588\u2588\u2588\u2588\u258e  | 8/11 [00:01<00:00,  9.04it/s]"
          ]
        },
        {
          "output_type": "stream",
          "name": "stderr",
          "text": [
            "\rEpoch 7/15 Train:  82%|\u2588\u2588\u2588\u2588\u2588\u2588\u2588\u2588\u258f | 9/11 [00:01<00:00,  9.23it/s]"
          ]
        },
        {
          "output_type": "stream",
          "name": "stderr",
          "text": [
            "\rEpoch 7/15 Train:  91%|\u2588\u2588\u2588\u2588\u2588\u2588\u2588\u2588\u2588 | 10/11 [00:01<00:00,  9.40it/s]"
          ]
        },
        {
          "output_type": "stream",
          "name": "stderr",
          "text": [
            "\rEpoch 7/15 Train: 100%|\u2588\u2588\u2588\u2588\u2588\u2588\u2588\u2588\u2588\u2588| 11/11 [00:01<00:00,  8.40it/s]"
          ]
        },
        {
          "output_type": "stream",
          "name": "stderr",
          "text": [
            "\n"
          ]
        },
        {
          "output_type": "stream",
          "name": "stderr",
          "text": [
            "\rVal:   0%|          | 0/3 [00:00<?, ?it/s]"
          ]
        },
        {
          "output_type": "stream",
          "name": "stderr",
          "text": [
            "\rVal:  33%|\u2588\u2588\u2588\u258e      | 1/3 [00:00<00:00,  4.18it/s]"
          ]
        },
        {
          "output_type": "stream",
          "name": "stderr",
          "text": [
            "\rVal: 100%|\u2588\u2588\u2588\u2588\u2588\u2588\u2588\u2588\u2588\u2588| 3/3 [00:00<00:00,  9.93it/s]"
          ]
        },
        {
          "output_type": "stream",
          "name": "stderr",
          "text": [
            "\rVal: 100%|\u2588\u2588\u2588\u2588\u2588\u2588\u2588\u2588\u2588\u2588| 3/3 [00:00<00:00,  7.67it/s]"
          ]
        },
        {
          "output_type": "stream",
          "name": "stderr",
          "text": [
            "\n"
          ]
        },
        {
          "output_type": "stream",
          "name": "stdout",
          "text": [
            "Epoch 7: TrainBCE=0.6723, ValWLL=0.4452, LR=1.00e-05\n"
          ]
        },
        {
          "output_type": "stream",
          "name": "stderr",
          "text": [
            "\rEpoch 8/15 Train:   0%|          | 0/11 [00:00<?, ?it/s]"
          ]
        },
        {
          "output_type": "stream",
          "name": "stderr",
          "text": [
            "\rEpoch 8/15 Train:   9%|\u2589         | 1/11 [00:00<00:03,  2.93it/s]"
          ]
        },
        {
          "output_type": "stream",
          "name": "stderr",
          "text": [
            "\rEpoch 8/15 Train:  18%|\u2588\u258a        | 2/11 [00:00<00:01,  5.01it/s]"
          ]
        },
        {
          "output_type": "stream",
          "name": "stderr",
          "text": [
            "\rEpoch 8/15 Train:  36%|\u2588\u2588\u2588\u258b      | 4/11 [00:00<00:00,  7.32it/s]"
          ]
        },
        {
          "output_type": "stream",
          "name": "stderr",
          "text": [
            "\rEpoch 8/15 Train:  55%|\u2588\u2588\u2588\u2588\u2588\u258d    | 6/11 [00:00<00:00,  8.36it/s]"
          ]
        },
        {
          "output_type": "stream",
          "name": "stderr",
          "text": [
            "\rEpoch 8/15 Train:  73%|\u2588\u2588\u2588\u2588\u2588\u2588\u2588\u258e  | 8/11 [00:01<00:00,  8.98it/s]"
          ]
        },
        {
          "output_type": "stream",
          "name": "stderr",
          "text": [
            "\rEpoch 8/15 Train:  82%|\u2588\u2588\u2588\u2588\u2588\u2588\u2588\u2588\u258f | 9/11 [00:01<00:00,  9.18it/s]"
          ]
        },
        {
          "output_type": "stream",
          "name": "stderr",
          "text": [
            "\rEpoch 8/15 Train:  91%|\u2588\u2588\u2588\u2588\u2588\u2588\u2588\u2588\u2588 | 10/11 [00:01<00:00,  9.36it/s]"
          ]
        },
        {
          "output_type": "stream",
          "name": "stderr",
          "text": [
            "\rEpoch 8/15 Train: 100%|\u2588\u2588\u2588\u2588\u2588\u2588\u2588\u2588\u2588\u2588| 11/11 [00:01<00:00,  8.34it/s]"
          ]
        },
        {
          "output_type": "stream",
          "name": "stderr",
          "text": [
            "\n"
          ]
        },
        {
          "output_type": "stream",
          "name": "stderr",
          "text": [
            "\rVal:   0%|          | 0/3 [00:00<?, ?it/s]"
          ]
        },
        {
          "output_type": "stream",
          "name": "stderr",
          "text": [
            "\rVal:  33%|\u2588\u2588\u2588\u258e      | 1/3 [00:00<00:00,  4.27it/s]"
          ]
        },
        {
          "output_type": "stream",
          "name": "stderr",
          "text": [
            "\rVal: 100%|\u2588\u2588\u2588\u2588\u2588\u2588\u2588\u2588\u2588\u2588| 3/3 [00:00<00:00, 10.08it/s]"
          ]
        },
        {
          "output_type": "stream",
          "name": "stderr",
          "text": [
            "\rVal: 100%|\u2588\u2588\u2588\u2588\u2588\u2588\u2588\u2588\u2588\u2588| 3/3 [00:00<00:00,  7.97it/s]"
          ]
        },
        {
          "output_type": "stream",
          "name": "stderr",
          "text": [
            "\n"
          ]
        },
        {
          "output_type": "stream",
          "name": "stdout",
          "text": [
            "Epoch 8: TrainBCE=0.7276, ValWLL=0.4442, LR=1.00e-05\n"
          ]
        },
        {
          "output_type": "stream",
          "name": "stderr",
          "text": [
            "\rEpoch 9/15 Train:   0%|          | 0/11 [00:00<?, ?it/s]"
          ]
        },
        {
          "output_type": "stream",
          "name": "stderr",
          "text": [
            "\rEpoch 9/15 Train:   9%|\u2589         | 1/11 [00:00<00:03,  3.15it/s]"
          ]
        },
        {
          "output_type": "stream",
          "name": "stderr",
          "text": [
            "\rEpoch 9/15 Train:  18%|\u2588\u258a        | 2/11 [00:00<00:01,  5.27it/s]"
          ]
        },
        {
          "output_type": "stream",
          "name": "stderr",
          "text": [
            "\rEpoch 9/15 Train:  36%|\u2588\u2588\u2588\u258b      | 4/11 [00:00<00:00,  7.52it/s]"
          ]
        },
        {
          "output_type": "stream",
          "name": "stderr",
          "text": [
            "\rEpoch 9/15 Train:  45%|\u2588\u2588\u2588\u2588\u258c     | 5/11 [00:00<00:00,  8.15it/s]"
          ]
        },
        {
          "output_type": "stream",
          "name": "stderr",
          "text": [
            "\rEpoch 9/15 Train:  64%|\u2588\u2588\u2588\u2588\u2588\u2588\u258e   | 7/11 [00:00<00:00,  8.94it/s]"
          ]
        },
        {
          "output_type": "stream",
          "name": "stderr",
          "text": [
            "\rEpoch 9/15 Train:  82%|\u2588\u2588\u2588\u2588\u2588\u2588\u2588\u2588\u258f | 9/11 [00:01<00:00,  9.34it/s]"
          ]
        },
        {
          "output_type": "stream",
          "name": "stderr",
          "text": [
            "\rEpoch 9/15 Train:  91%|\u2588\u2588\u2588\u2588\u2588\u2588\u2588\u2588\u2588 | 10/11 [00:01<00:00,  9.47it/s]"
          ]
        },
        {
          "output_type": "stream",
          "name": "stderr",
          "text": [
            "\rEpoch 9/15 Train: 100%|\u2588\u2588\u2588\u2588\u2588\u2588\u2588\u2588\u2588\u2588| 11/11 [00:01<00:00,  8.47it/s]"
          ]
        },
        {
          "output_type": "stream",
          "name": "stderr",
          "text": [
            "\n"
          ]
        },
        {
          "output_type": "stream",
          "name": "stderr",
          "text": [
            "\rVal:   0%|          | 0/3 [00:00<?, ?it/s]"
          ]
        },
        {
          "output_type": "stream",
          "name": "stderr",
          "text": [
            "\rVal:  33%|\u2588\u2588\u2588\u258e      | 1/3 [00:00<00:00,  3.99it/s]"
          ]
        },
        {
          "output_type": "stream",
          "name": "stderr",
          "text": [
            "\rVal: 100%|\u2588\u2588\u2588\u2588\u2588\u2588\u2588\u2588\u2588\u2588| 3/3 [00:00<00:00,  9.67it/s]"
          ]
        },
        {
          "output_type": "stream",
          "name": "stderr",
          "text": [
            "\rVal: 100%|\u2588\u2588\u2588\u2588\u2588\u2588\u2588\u2588\u2588\u2588| 3/3 [00:00<00:00,  7.50it/s]"
          ]
        },
        {
          "output_type": "stream",
          "name": "stderr",
          "text": [
            "\n"
          ]
        },
        {
          "output_type": "stream",
          "name": "stdout",
          "text": [
            "Epoch 9: TrainBCE=0.7007, ValWLL=0.4458, LR=1.00e-05\nEarly stopping at epoch 9\nConvNeXt Fold 5 best OOF WLL (val): 0.4425\n"
          ]
        },
        {
          "output_type": "stream",
          "name": "stderr",
          "text": [
            "\rFinal Val for OOF:   0%|          | 0/3 [00:00<?, ?it/s]"
          ]
        },
        {
          "output_type": "stream",
          "name": "stderr",
          "text": [
            "\rFinal Val for OOF:  33%|\u2588\u2588\u2588\u258e      | 1/3 [00:00<00:00,  4.01it/s]"
          ]
        },
        {
          "output_type": "stream",
          "name": "stderr",
          "text": [
            "\rFinal Val for OOF: 100%|\u2588\u2588\u2588\u2588\u2588\u2588\u2588\u2588\u2588\u2588| 3/3 [00:00<00:00,  9.67it/s]"
          ]
        },
        {
          "output_type": "stream",
          "name": "stderr",
          "text": [
            "\rFinal Val for OOF: 100%|\u2588\u2588\u2588\u2588\u2588\u2588\u2588\u2588\u2588\u2588| 3/3 [00:00<00:00,  7.48it/s]"
          ]
        },
        {
          "output_type": "stream",
          "name": "stdout",
          "text": [
            "ConvNeXt Fold 5 OOF WLL: 0.4458\n\nConvNeXt CV Mean WLL: 0.4547 +/- 0.0071\n"
          ]
        },
        {
          "output_type": "stream",
          "name": "stderr",
          "text": [
            "\n"
          ]
        }
      ]
    },
    {
      "id": "5a7fe7ef-bbf9-466d-afd2-e0def873bc40",
      "cell_type": "code",
      "metadata": {},
      "source": [
        "# Compute CV score from existing OOF predictions (previous run)\n",
        "full_train_df = pd.read_csv('data/train_mips.csv')\n",
        "oof_df = pd.read_csv('oof_predictions.csv')\n",
        "label_cols = ['C1', 'C2', 'C3', 'C4', 'C5', 'C6', 'C7']\n",
        "oof_preds_full = oof_df[label_cols].values\n",
        "y_full = full_train_df[label_cols].values\n",
        "oof_overall_full = oof_df['patient_overall'].values\n",
        "oof_preds_8_full = np.column_stack([oof_preds_full, oof_overall_full])\n",
        "oof_labels_8_full = np.column_stack([y_full, np.max(y_full, axis=1)])\n",
        "full_oof_loss = weighted_log_loss(oof_labels_8_full, oof_preds_8_full)\n",
        "print(f'Full OOF Weighted Log Loss from previous run: {full_oof_loss:.4f}')\n",
        "\n",
        "# Also print per-fold scores if available, but since interrupted, use full OOF\n",
        "print('OOF computation completed')"
      ],
      "execution_count": null,
      "outputs": []
    },
    {
      "id": "9e427bee-b1e7-40b1-825f-adbcde8e0bc3",
      "cell_type": "code",
      "metadata": {},
      "source": [
        "# Preprocessing sanity check: Visualize MIPs for 3 random studies\n",
        "import matplotlib.pyplot as plt\n",
        "import numpy as np\n",
        "import os\n",
        "import random\n",
        "\n",
        "mip_dir = 'data/mips/train'\n",
        "train_df = pd.read_csv('data/train_mips.csv')\n",
        "uids = train_df['StudyInstanceUID'].tolist()\n",
        "random_uids = random.sample(uids, 3)\n",
        "\n",
        "fig, axs = plt.subplots(3, 3, figsize=(12, 12))\n",
        "for i, uid in enumerate(random_uids):\n",
        "    mip_path = os.path.join(mip_dir, f'{uid}.npy')\n",
        "    if os.path.exists(mip_path):\n",
        "        mip = np.load(mip_path)  # (3, 384, 384): 0=sagittal, 1=coronal, 2=axial\n",
        "        for j, view in enumerate(['Sagittal', 'Coronal', 'Axial']):\n",
        "            img = mip[j]\n",
        "            axs[i, j].imshow(img, cmap='gray')\n",
        "            axs[i, j].set_title(f'{uid[:8]} - {view}')\n",
        "            axs[i, j].axis('off')\n",
        "    else:\n",
        "        print(f'Missing {mip_path}')\n",
        "\n",
        "plt.tight_layout()\n",
        "plt.show()\n",
        "\n",
        "# Check values: should be in [0,1]\n",
        "for uid in random_uids:\n",
        "    mip_path = os.path.join(mip_dir, f'{uid}.npy')\n",
        "    if os.path.exists(mip_path):\n",
        "        mip = np.load(mip_path)\n",
        "        print(f'{uid[:8]} min/max: {mip.min():.3f}/{mip.max():.3f}, mean/std: {mip.mean():.3f}/{mip.std():.3f}')\n",
        "\n",
        "print('Visualization completed. Check: Sagittal upright? Bone window contrast? Values [0,1]? No artifacts?')"
      ],
      "execution_count": null,
      "outputs": []
    },
    {
      "id": "afc415ec-bece-4a06-8210-b783121eb4f9",
      "cell_type": "code",
      "metadata": {},
      "source": [
        "# Compute OOF logits for ConvNeXt temperature scaling\n",
        "import torch\n",
        "import numpy as np\n",
        "import pandas as pd\n",
        "from tqdm import tqdm\n",
        "from torch.utils.data import DataLoader\n",
        "\n",
        "# Reuse MIPDataset and val_transform from earlier cells\n",
        "full_train_df = pd.read_csv('data/train_mips.csv')\n",
        "label_cols = ['C1','C2','C3','C4','C5','C6','C7']\n",
        "y_full = full_train_df[label_cols].values\n",
        "mip_dir = 'data/mips/train'\n",
        "n_folds = 5\n",
        "\n",
        "from iterstrat.ml_stratifiers import MultilabelStratifiedKFold\n",
        "skf = MultilabelStratifiedKFold(n_splits=n_folds, shuffle=True, random_state=42)\n",
        "splits = list(skf.split(full_train_df, y_full))\n",
        "\n",
        "def build_convnext(num_classes=7):\n",
        "    import timm\n",
        "    m = timm.create_model('convnext_tiny', pretrained=False, num_classes=num_classes, in_chans=3,\n",
        "                          drop_rate=0.3, drop_path_rate=0.1)\n",
        "    return m.to(device).eval()\n",
        "\n",
        "oof_logits_full = np.zeros((len(full_train_df), 7), dtype=np.float32)\n",
        "\n",
        "for fold, (train_idx, val_idx) in enumerate(splits, 1):\n",
        "    print(f'Computing OOF logits for ConvNeXt Fold {fold}')\n",
        "    val_df_f = full_train_df.iloc[val_idx].reset_index(drop=True)\n",
        "    val_ds = MIPDataset(val_df_f, mip_dir, label_cols, val_transform)\n",
        "    val_loader = DataLoader(val_ds, batch_size=16, shuffle=False, num_workers=4, pin_memory=True)\n",
        "\n",
        "    ckpt = f'fold_{fold}_convnext.pth'\n",
        "    model = build_convnext(7)\n",
        "    sd = torch.load(ckpt, map_location='cpu')\n",
        "    model.load_state_dict(sd, strict=True)\n",
        "\n",
        "    model.eval()\n",
        "    fold_logits = []\n",
        "    with torch.no_grad():\n",
        "        for images, _ in tqdm(val_loader, desc=f'Fold {fold} OOF logits'):\n",
        "            images = images.to(device)\n",
        "            logits = model(images)\n",
        "            fold_logits.append(logits.cpu().numpy())\n",
        "    fold_logits = np.concatenate(fold_logits, axis=0)\n",
        "    oof_logits_full[val_idx] = fold_logits\n",
        "    print(f'Fold {fold} OOF logits shape: {fold_logits.shape}')\n",
        "\n",
        "# Save OOF logits\n",
        "oof_logits_df = full_train_df[['StudyInstanceUID']].copy()\n",
        "for i, col in enumerate(label_cols):\n",
        "    oof_logits_df[col] = oof_logits_full[:, i]\n",
        "oof_logits_df.to_csv('oof_logits_convnext.csv', index=False)\n",
        "print('OOF logits saved to oof_logits_convnext.csv')\n",
        "\n",
        "# Quick check: Compute probs from logits and verify matches oof_predictions_convnext.csv\n",
        "oof_probs_from_logits = 1 / (1 + np.exp(-oof_logits_full))\n",
        "oof_df = pd.read_csv('oof_predictions_convnext.csv')\n",
        "oof_probs_saved = oof_df[label_cols].values\n",
        "print(f'Probs match (max diff): {np.max(np.abs(oof_probs_from_logits - oof_probs_saved)):.6f}')"
      ],
      "execution_count": 12,
      "outputs": [
        {
          "output_type": "stream",
          "name": "stdout",
          "text": [
            "Computing OOF logits for ConvNeXt Fold 1\n"
          ]
        },
        {
          "output_type": "stream",
          "name": "stderr",
          "text": [
            "\rFold 1 OOF logits:   0%|          | 0/3 [00:00<?, ?it/s]"
          ]
        },
        {
          "output_type": "stream",
          "name": "stderr",
          "text": [
            "\rFold 1 OOF logits:  33%|\u2588\u2588\u2588\u258e      | 1/3 [00:00<00:00,  4.26it/s]"
          ]
        },
        {
          "output_type": "stream",
          "name": "stderr",
          "text": [
            "\rFold 1 OOF logits: 100%|\u2588\u2588\u2588\u2588\u2588\u2588\u2588\u2588\u2588\u2588| 3/3 [00:00<00:00, 10.06it/s]"
          ]
        },
        {
          "output_type": "stream",
          "name": "stderr",
          "text": [
            "\rFold 1 OOF logits: 100%|\u2588\u2588\u2588\u2588\u2588\u2588\u2588\u2588\u2588\u2588| 3/3 [00:00<00:00,  7.79it/s]"
          ]
        },
        {
          "output_type": "stream",
          "name": "stderr",
          "text": [
            "\n"
          ]
        },
        {
          "output_type": "stream",
          "name": "stdout",
          "text": [
            "Fold 1 OOF logits shape: (40, 7)\nComputing OOF logits for ConvNeXt Fold 2\n"
          ]
        },
        {
          "output_type": "stream",
          "name": "stderr",
          "text": [
            "\rFold 2 OOF logits:   0%|          | 0/3 [00:00<?, ?it/s]"
          ]
        },
        {
          "output_type": "stream",
          "name": "stderr",
          "text": [
            "\rFold 2 OOF logits:  33%|\u2588\u2588\u2588\u258e      | 1/3 [00:00<00:00,  4.03it/s]"
          ]
        },
        {
          "output_type": "stream",
          "name": "stderr",
          "text": [
            "\rFold 2 OOF logits: 100%|\u2588\u2588\u2588\u2588\u2588\u2588\u2588\u2588\u2588\u2588| 3/3 [00:00<00:00,  9.78it/s]"
          ]
        },
        {
          "output_type": "stream",
          "name": "stderr",
          "text": [
            "\rFold 2 OOF logits: 100%|\u2588\u2588\u2588\u2588\u2588\u2588\u2588\u2588\u2588\u2588| 3/3 [00:00<00:00,  7.67it/s]"
          ]
        },
        {
          "output_type": "stream",
          "name": "stderr",
          "text": [
            "\n"
          ]
        },
        {
          "output_type": "stream",
          "name": "stdout",
          "text": [
            "Fold 2 OOF logits shape: (40, 7)\nComputing OOF logits for ConvNeXt Fold 3\n"
          ]
        },
        {
          "output_type": "stream",
          "name": "stderr",
          "text": [
            "\rFold 3 OOF logits:   0%|          | 0/3 [00:00<?, ?it/s]"
          ]
        },
        {
          "output_type": "stream",
          "name": "stderr",
          "text": [
            "\rFold 3 OOF logits:  33%|\u2588\u2588\u2588\u258e      | 1/3 [00:00<00:00,  4.15it/s]"
          ]
        },
        {
          "output_type": "stream",
          "name": "stderr",
          "text": [
            "\rFold 3 OOF logits: 100%|\u2588\u2588\u2588\u2588\u2588\u2588\u2588\u2588\u2588\u2588| 3/3 [00:00<00:00,  9.73it/s]"
          ]
        },
        {
          "output_type": "stream",
          "name": "stderr",
          "text": [
            "\rFold 3 OOF logits: 100%|\u2588\u2588\u2588\u2588\u2588\u2588\u2588\u2588\u2588\u2588| 3/3 [00:00<00:00,  7.60it/s]"
          ]
        },
        {
          "output_type": "stream",
          "name": "stderr",
          "text": [
            "\n"
          ]
        },
        {
          "output_type": "stream",
          "name": "stdout",
          "text": [
            "Fold 3 OOF logits shape: (41, 7)\nComputing OOF logits for ConvNeXt Fold 4\n"
          ]
        },
        {
          "output_type": "stream",
          "name": "stderr",
          "text": [
            "\rFold 4 OOF logits:   0%|          | 0/3 [00:00<?, ?it/s]"
          ]
        },
        {
          "output_type": "stream",
          "name": "stderr",
          "text": [
            "\rFold 4 OOF logits:  33%|\u2588\u2588\u2588\u258e      | 1/3 [00:00<00:00,  4.05it/s]"
          ]
        },
        {
          "output_type": "stream",
          "name": "stderr",
          "text": [
            "\rFold 4 OOF logits: 100%|\u2588\u2588\u2588\u2588\u2588\u2588\u2588\u2588\u2588\u2588| 3/3 [00:00<00:00,  9.56it/s]"
          ]
        },
        {
          "output_type": "stream",
          "name": "stderr",
          "text": [
            "\rFold 4 OOF logits: 100%|\u2588\u2588\u2588\u2588\u2588\u2588\u2588\u2588\u2588\u2588| 3/3 [00:00<00:00,  7.41it/s]"
          ]
        },
        {
          "output_type": "stream",
          "name": "stderr",
          "text": [
            "\n"
          ]
        },
        {
          "output_type": "stream",
          "name": "stdout",
          "text": [
            "Fold 4 OOF logits shape: (41, 7)\nComputing OOF logits for ConvNeXt Fold 5\n"
          ]
        },
        {
          "output_type": "stream",
          "name": "stderr",
          "text": [
            "\rFold 5 OOF logits:   0%|          | 0/3 [00:00<?, ?it/s]"
          ]
        },
        {
          "output_type": "stream",
          "name": "stderr",
          "text": [
            "\rFold 5 OOF logits:  33%|\u2588\u2588\u2588\u258e      | 1/3 [00:00<00:00,  4.14it/s]"
          ]
        },
        {
          "output_type": "stream",
          "name": "stderr",
          "text": [
            "\rFold 5 OOF logits: 100%|\u2588\u2588\u2588\u2588\u2588\u2588\u2588\u2588\u2588\u2588| 3/3 [00:00<00:00,  9.87it/s]"
          ]
        },
        {
          "output_type": "stream",
          "name": "stderr",
          "text": [
            "\rFold 5 OOF logits: 100%|\u2588\u2588\u2588\u2588\u2588\u2588\u2588\u2588\u2588\u2588| 3/3 [00:00<00:00,  7.62it/s]"
          ]
        },
        {
          "output_type": "stream",
          "name": "stdout",
          "text": [
            "Fold 5 OOF logits shape: (40, 7)\nOOF logits saved to oof_logits_convnext.csv\nProbs match (max diff): 0.000000\n"
          ]
        },
        {
          "output_type": "stream",
          "name": "stderr",
          "text": [
            "\n"
          ]
        }
      ]
    },
    {
      "id": "f906dfde-e05d-42fd-b640-b4557d224a9b",
      "cell_type": "code",
      "metadata": {},
      "source": [
        "# Fit per-class temperature scaling for ConvNeXt using OOF logits\n",
        "import numpy as np\n",
        "import pandas as pd\n",
        "from scipy.optimize import minimize_scalar\n",
        "from scipy.special import expit as sigmoid\n",
        "\n",
        "# Load data\n",
        "oof_logits_df = pd.read_csv('oof_logits_convnext.csv')\n",
        "train_df = pd.read_csv('data/train_mips.csv')\n",
        "label_cols = ['C1','C2','C3','C4','C5','C6','C7']\n",
        "oof_logits = oof_logits_df[label_cols].values  # (202, 7)\n",
        "y_true = train_df[label_cols].values  # (202, 7)\n",
        "\n",
        "def binary_log_loss(y_true, y_pred):\n",
        "    y_pred = np.clip(y_pred, 1e-6, 1-1e-6)\n",
        "    return -np.mean(y_true * np.log(y_pred) + (1 - y_true) * np.log(1 - y_pred))\n",
        "\n",
        "# Optimize T per class (minimize log loss for each class independently)\n",
        "temperatures = np.ones(7)\n",
        "for i, col in enumerate(label_cols):\n",
        "    def loss_func(T):\n",
        "        logits_scaled = oof_logits[:, i] / T\n",
        "        probs = sigmoid(logits_scaled)\n",
        "        return binary_log_loss(y_true[:, i], probs)\n",
        "    res = minimize_scalar(loss_func, bounds=(0.5, 2.0), method='bounded')\n",
        "    temperatures[i] = res.x\n",
        "    print(f'{col} temperature: {temperatures[i]:.4f}, min loss: {res.fun:.4f}')\n",
        "\n",
        "# Save temperatures\n",
        "np.save('temperatures_convnext.npy', temperatures)\n",
        "print('Temperatures saved to temperatures_convnext.npy')\n",
        "\n",
        "# Quick check: Compute calibrated OOF WLL (only on 7 classes, weights=1 each)\n",
        "logits_calib = oof_logits / temperatures\n",
        "probs_calib = sigmoid(logits_calib)\n",
        "wll_calib = np.mean([binary_log_loss(y_true[:, i], probs_calib[:, i]) for i in range(7)])\n",
        "wll_raw = np.mean([binary_log_loss(y_true[:, i], sigmoid(oof_logits[:, i])) for i in range(7)])\n",
        "print(f'Raw OOF BCE (avg): {wll_raw:.4f}, Calibrated: {wll_calib:.4f} (delta: {wll_calib - wll_raw:.4f})')"
      ],
      "execution_count": 13,
      "outputs": [
        {
          "output_type": "stream",
          "name": "stdout",
          "text": [
            "C1 temperature: 0.6592, min loss: 0.3298\nC2 temperature: 0.5818, min loss: 0.4225\nC3 temperature: 0.8497, min loss: 0.1850\nC4 temperature: 0.6826, min loss: 0.2157\nC5 temperature: 0.6529, min loss: 0.3548\nC6 temperature: 0.6875, min loss: 0.4806\nC7 temperature: 0.5915, min loss: 0.4465\nTemperatures saved to temperatures_convnext.npy\nRaw OOF BCE (avg): 0.3736, Calibrated: 0.3478 (delta: -0.0258)\n"
          ]
        }
      ]
    },
    {
      "id": "78d70443-9d33-4e13-9687-7c1424d2e588",
      "cell_type": "code",
      "metadata": {},
      "source": [
        "# ConvNeXt-Tiny v2 5-fold CV: stronger reg (drop=0.4, path=0.2), seed=123 for diversity\n",
        "from iterstrat.ml_stratifiers import MultilabelStratifiedKFold\n",
        "from torch.optim.lr_scheduler import ReduceLROnPlateau\n",
        "from torch.utils.data import WeightedRandomSampler\n",
        "import torch.nn as nn\n",
        "import torch.nn.functional as F\n",
        "import timm\n",
        "\n",
        "full_train_df = pd.read_csv('data/train_mips.csv')\n",
        "label_cols = ['C1','C2','C3','C4','C5','C6','C7']\n",
        "y_full = full_train_df[label_cols].values\n",
        "mip_dir = 'data/mips/train'\n",
        "n_folds = 5\n",
        "\n",
        "skf = MultilabelStratifiedKFold(n_splits=n_folds, shuffle=True, random_state=123)\n",
        "splits = list(skf.split(full_train_df, y_full))\n",
        "\n",
        "def build_convnext_v2(num_classes=7):\n",
        "    m = timm.create_model('convnext_tiny', pretrained=True, num_classes=num_classes, in_chans=3,\n",
        "                          drop_rate=0.4, drop_path_rate=0.2)\n",
        "    return m\n",
        "\n",
        "oof_preds_full_v2 = np.zeros((len(full_train_df), 7), dtype=np.float32)\n",
        "oof_overall_full_v2 = np.zeros(len(full_train_df), dtype=np.float32)\n",
        "fold_scores_v2 = []\n",
        "\n",
        "for fold, (train_idx, val_idx) in enumerate(splits, 1):\n",
        "    print(f'\\n=== ConvNeXt v2 Fold {fold}/{n_folds} ===')\n",
        "    train_df_f = full_train_df.iloc[train_idx].reset_index(drop=True)\n",
        "    val_df_f = full_train_df.iloc[val_idx].reset_index(drop=True)\n",
        "\n",
        "    # pos_weight (clip=2.0)\n",
        "    y_tr = train_df_f[label_cols].values\n",
        "    pos = (y_tr == 1).sum(axis=0); neg = (y_tr == 0).sum(axis=0)\n",
        "    w = np.minimum(neg / (pos + 1e-6), 2.0).astype(np.float32)\n",
        "    fold_pos_weight = torch.tensor(w, dtype=torch.float32, device=device)\n",
        "\n",
        "    # WeightedRandomSampler (cap=3.0)\n",
        "    class_rarity = np.minimum(neg / (pos + 1e-6), 10.0).astype(np.float32)\n",
        "    sample_weight = (y_tr * class_rarity).max(axis=1)\n",
        "    sample_weight = np.where(sample_weight > 0, sample_weight, 1.0)\n",
        "    sample_weight = np.sqrt(sample_weight)\n",
        "    sample_weight = np.clip(sample_weight, 1.0, 3.0)\n",
        "    sampler = WeightedRandomSampler(torch.from_numpy(sample_weight), len(sample_weight), replacement=True)\n",
        "\n",
        "    train_ds = MIPDataset(train_df_f, mip_dir, label_cols, train_transform)\n",
        "    val_ds = MIPDataset(val_df_f, mip_dir, label_cols, val_transform)\n",
        "    train_loader = DataLoader(train_ds, batch_size=16, sampler=sampler, num_workers=4, pin_memory=True, drop_last=False)\n",
        "    val_loader = DataLoader(val_ds, batch_size=16, shuffle=False, num_workers=4, pin_memory=True, drop_last=False)\n",
        "\n",
        "    # Model v2\n",
        "    model = build_convnext_v2(7).to(device)\n",
        "\n",
        "    # Bias init from priors\n",
        "    with torch.no_grad():\n",
        "        priors = np.clip(y_tr.mean(axis=0) + 1e-6, 1e-6, 1-1e-6)\n",
        "        bias = np.log(priors / (1 - priors)).astype(np.float32)\n",
        "        head = getattr(model, 'head', None)\n",
        "        if head is not None and hasattr(head, 'fc') and head.fc.bias is not None:\n",
        "            head.fc.bias.copy_(torch.from_numpy(bias).to(head.fc.bias.device))\n",
        "\n",
        "    optimizer = optim.AdamW(model.parameters(), lr=2e-5, weight_decay=1e-4)\n",
        "    scheduler = ReduceLROnPlateau(optimizer, mode='min', factor=0.5, patience=2, verbose=True, min_lr=1e-6)\n",
        "    criterion = SmoothedBCEWithLogitsLoss(pos_weight=fold_pos_weight, smoothing=0.0)\n",
        "    scaler = GradScaler()\n",
        "    early_stopping = EarlyStopping(patience=5, min_delta=0.001, restore_best_weights=False)\n",
        "\n",
        "    # EMA\n",
        "    ema = timm.utils.ModelEmaV2(model, decay=0.995)\n",
        "\n",
        "    num_epochs = 15\n",
        "    warmup_epochs = 2\n",
        "    best_wll = float('inf')\n",
        "    best_state = None\n",
        "\n",
        "    for epoch in range(num_epochs):\n",
        "        # Head warmup\n",
        "        if epoch < warmup_epochs:\n",
        "            for p in model.parameters(): p.requires_grad = False\n",
        "            if hasattr(model, 'head'):\n",
        "                for p in model.head.parameters(): p.requires_grad = True\n",
        "        else:\n",
        "            for p in model.parameters(): p.requires_grad = True\n",
        "\n",
        "        model.train()\n",
        "        train_loss = 0.0\n",
        "        for images, labels in tqdm(train_loader, desc=f'Epoch {epoch+1}/{num_epochs} Train'):\n",
        "            images = images.to(device); labels7 = labels.to(device)\n",
        "            optimizer.zero_grad(set_to_none=True)\n",
        "            with torch.cuda.amp.autocast():\n",
        "                logits = model(images)\n",
        "                loss = criterion(logits, labels7)\n",
        "            scaler.scale(loss).backward()\n",
        "            nn_utils.clip_grad_norm_(model.parameters(), max_norm=1.0)\n",
        "            scaler.step(optimizer)\n",
        "            scaler.update()\n",
        "            ema.update(model)\n",
        "            train_loss += loss.item() * images.size(0)\n",
        "        train_loss /= len(train_ds)\n",
        "\n",
        "        # Validation with EMA\n",
        "        ema.module.eval()\n",
        "        val_wll = 0.0\n",
        "        with torch.no_grad():\n",
        "            for images, labels in tqdm(val_loader, desc='Val'):\n",
        "                images = images.to(device); labels7 = labels.to(device)\n",
        "                logits = ema.module(images)\n",
        "                probs7 = torch.sigmoid(logits)\n",
        "                probs_overall = probs7.max(dim=1, keepdim=True)[0]\n",
        "                labels_overall = labels7.max(dim=1, keepdim=True)[0]\n",
        "                probs8 = torch.cat([probs7, probs_overall], dim=1)\n",
        "                labels8 = torch.cat([labels7, labels_overall], dim=1)\n",
        "                val_wll += weighted_log_loss_torch(labels8, probs8).item() * images.size(0)\n",
        "        val_wll /= len(val_ds)\n",
        "        scheduler.step(val_wll)\n",
        "        print(f'Epoch {epoch+1}: TrainBCE={train_loss:.4f}, ValWLL={val_wll:.4f}, LR={optimizer.param_groups[0][\"lr\"]:.2e}')\n",
        "\n",
        "        if val_wll < best_wll:\n",
        "            best_wll = val_wll\n",
        "            best_state = ema.module.state_dict()\n",
        "\n",
        "        if early_stopping(val_wll, model):\n",
        "            print(f'Early stopping at epoch {epoch+1}')\n",
        "            break\n",
        "\n",
        "    # Save best EMA weights v2\n",
        "    torch.save(best_state, f'fold_{fold}_convnext_v2.pth')\n",
        "    print(f'ConvNeXt v2 Fold {fold} best OOF WLL (val): {best_wll:.4f}')\n",
        "\n",
        "    # OOF collection with best EMA\n",
        "    ema.module.load_state_dict(best_state)\n",
        "    ema.module.eval()\n",
        "    fold_oof_preds_7 = np.zeros((len(val_df_f), 7), dtype=np.float32)\n",
        "    fold_oof_overall = np.zeros(len(val_df_f), dtype=np.float32)\n",
        "    start = 0\n",
        "    with torch.no_grad():\n",
        "        for images, _ in tqdm(val_loader, desc='Final Val for OOF'):\n",
        "            images = images.to(device)\n",
        "            logits = ema.module(images)\n",
        "            probs7 = torch.sigmoid(logits).cpu().numpy()\n",
        "            probs_overall = probs7.max(axis=1)\n",
        "            bs = images.size(0)\n",
        "            fold_oof_preds_7[start:start+bs] = probs7\n",
        "            fold_oof_overall[start:start+bs] = probs_overall\n",
        "            start += bs\n",
        "\n",
        "    oof_preds_full_v2[val_idx] = fold_oof_preds_7\n",
        "    oof_overall_full_v2[val_idx] = fold_oof_overall\n",
        "\n",
        "    y_val = val_df_f[label_cols].values\n",
        "    fold_preds_8 = np.column_stack([fold_oof_preds_7, fold_oof_overall])\n",
        "    fold_labels_8 = np.column_stack([y_val, np.max(y_val, axis=1)])\n",
        "    fold_score = weighted_log_loss(fold_labels_8, fold_preds_8)\n",
        "    fold_scores_v2.append(fold_score)\n",
        "    print(f'ConvNeXt v2 Fold {fold} OOF WLL: {fold_score:.4f}')\n",
        "\n",
        "cv_mean_v2 = float(np.mean(fold_scores_v2)); cv_std_v2 = float(np.std(fold_scores_v2))\n",
        "print(f'\\nConvNeXt v2 CV Mean WLL: {cv_mean_v2:.4f} +/- {cv_std_v2:.4f}')\n",
        "conv_oof_df_v2 = full_train_df[['StudyInstanceUID']].copy()\n",
        "conv_oof_df_v2[label_cols] = oof_preds_full_v2\n",
        "conv_oof_df_v2['patient_overall'] = oof_overall_full_v2\n",
        "conv_oof_df_v2.to_csv('oof_predictions_convnext_v2.csv', index=False)"
      ],
      "execution_count": 14,
      "outputs": [
        {
          "output_type": "stream",
          "name": "stdout",
          "text": [
            "\n=== ConvNeXt v2 Fold 1/5 ===\n"
          ]
        },
        {
          "output_type": "stream",
          "name": "stderr",
          "text": [
            "\rEpoch 1/15 Train:   0%|          | 0/11 [00:00<?, ?it/s]"
          ]
        },
        {
          "output_type": "stream",
          "name": "stderr",
          "text": [
            "\rEpoch 1/15 Train:   9%|\u2589         | 1/11 [00:00<00:02,  3.67it/s]"
          ]
        },
        {
          "output_type": "stream",
          "name": "stderr",
          "text": [
            "\rEpoch 1/15 Train:  36%|\u2588\u2588\u2588\u258b      | 4/11 [00:00<00:00, 11.86it/s]"
          ]
        },
        {
          "output_type": "stream",
          "name": "stderr",
          "text": [
            "\rEpoch 1/15 Train:  64%|\u2588\u2588\u2588\u2588\u2588\u2588\u258e   | 7/11 [00:00<00:00, 16.93it/s]"
          ]
        },
        {
          "output_type": "stream",
          "name": "stderr",
          "text": [
            "\rEpoch 1/15 Train:  91%|\u2588\u2588\u2588\u2588\u2588\u2588\u2588\u2588\u2588 | 10/11 [00:00<00:00, 20.11it/s]"
          ]
        },
        {
          "output_type": "stream",
          "name": "stderr",
          "text": [
            "\rEpoch 1/15 Train: 100%|\u2588\u2588\u2588\u2588\u2588\u2588\u2588\u2588\u2588\u2588| 11/11 [00:00<00:00, 16.02it/s]"
          ]
        },
        {
          "output_type": "stream",
          "name": "stderr",
          "text": [
            "\n"
          ]
        },
        {
          "output_type": "stream",
          "name": "stderr",
          "text": [
            "\rVal:   0%|          | 0/3 [00:00<?, ?it/s]"
          ]
        },
        {
          "output_type": "stream",
          "name": "stderr",
          "text": [
            "\rVal:  33%|\u2588\u2588\u2588\u258e      | 1/3 [00:00<00:00,  4.00it/s]"
          ]
        },
        {
          "output_type": "stream",
          "name": "stderr",
          "text": [
            "\rVal: 100%|\u2588\u2588\u2588\u2588\u2588\u2588\u2588\u2588\u2588\u2588| 3/3 [00:00<00:00,  9.54it/s]"
          ]
        },
        {
          "output_type": "stream",
          "name": "stderr",
          "text": [
            "\rVal: 100%|\u2588\u2588\u2588\u2588\u2588\u2588\u2588\u2588\u2588\u2588| 3/3 [00:00<00:00,  7.34it/s]"
          ]
        },
        {
          "output_type": "stream",
          "name": "stderr",
          "text": [
            "\n"
          ]
        },
        {
          "output_type": "stream",
          "name": "stdout",
          "text": [
            "Epoch 1: TrainBCE=0.8332, ValWLL=0.4408, LR=2.00e-05\n"
          ]
        },
        {
          "output_type": "stream",
          "name": "stderr",
          "text": [
            "\rEpoch 2/15 Train:   0%|          | 0/11 [00:00<?, ?it/s]"
          ]
        },
        {
          "output_type": "stream",
          "name": "stderr",
          "text": [
            "\rEpoch 2/15 Train:   9%|\u2589         | 1/11 [00:00<00:02,  3.53it/s]"
          ]
        },
        {
          "output_type": "stream",
          "name": "stderr",
          "text": [
            "\rEpoch 2/15 Train:  36%|\u2588\u2588\u2588\u258b      | 4/11 [00:00<00:00, 11.60it/s]"
          ]
        },
        {
          "output_type": "stream",
          "name": "stderr",
          "text": [
            "\rEpoch 2/15 Train:  64%|\u2588\u2588\u2588\u2588\u2588\u2588\u258e   | 7/11 [00:00<00:00, 16.62it/s]"
          ]
        },
        {
          "output_type": "stream",
          "name": "stderr",
          "text": [
            "\rEpoch 2/15 Train:  91%|\u2588\u2588\u2588\u2588\u2588\u2588\u2588\u2588\u2588 | 10/11 [00:00<00:00, 19.92it/s]"
          ]
        },
        {
          "output_type": "stream",
          "name": "stderr",
          "text": [
            "\rEpoch 2/15 Train: 100%|\u2588\u2588\u2588\u2588\u2588\u2588\u2588\u2588\u2588\u2588| 11/11 [00:00<00:00, 15.61it/s]"
          ]
        },
        {
          "output_type": "stream",
          "name": "stderr",
          "text": [
            "\n"
          ]
        },
        {
          "output_type": "stream",
          "name": "stderr",
          "text": [
            "\rVal:   0%|          | 0/3 [00:00<?, ?it/s]"
          ]
        },
        {
          "output_type": "stream",
          "name": "stderr",
          "text": [
            "\rVal:  33%|\u2588\u2588\u2588\u258e      | 1/3 [00:00<00:00,  4.00it/s]"
          ]
        },
        {
          "output_type": "stream",
          "name": "stderr",
          "text": [
            "\rVal: 100%|\u2588\u2588\u2588\u2588\u2588\u2588\u2588\u2588\u2588\u2588| 3/3 [00:00<00:00,  9.56it/s]"
          ]
        },
        {
          "output_type": "stream",
          "name": "stderr",
          "text": [
            "\rVal: 100%|\u2588\u2588\u2588\u2588\u2588\u2588\u2588\u2588\u2588\u2588| 3/3 [00:00<00:00,  7.54it/s]"
          ]
        },
        {
          "output_type": "stream",
          "name": "stderr",
          "text": [
            "\n"
          ]
        },
        {
          "output_type": "stream",
          "name": "stdout",
          "text": [
            "Epoch 2: TrainBCE=0.9736, ValWLL=0.4406, LR=2.00e-05\n"
          ]
        },
        {
          "output_type": "stream",
          "name": "stderr",
          "text": [
            "\rEpoch 3/15 Train:   0%|          | 0/11 [00:00<?, ?it/s]"
          ]
        },
        {
          "output_type": "stream",
          "name": "stderr",
          "text": [
            "\rEpoch 3/15 Train:   9%|\u2589         | 1/11 [00:00<00:03,  2.96it/s]"
          ]
        },
        {
          "output_type": "stream",
          "name": "stderr",
          "text": [
            "\rEpoch 3/15 Train:  27%|\u2588\u2588\u258b       | 3/11 [00:00<00:01,  6.26it/s]"
          ]
        },
        {
          "output_type": "stream",
          "name": "stderr",
          "text": [
            "\rEpoch 3/15 Train:  45%|\u2588\u2588\u2588\u2588\u258c     | 5/11 [00:00<00:00,  7.76it/s]"
          ]
        },
        {
          "output_type": "stream",
          "name": "stderr",
          "text": [
            "\rEpoch 3/15 Train:  64%|\u2588\u2588\u2588\u2588\u2588\u2588\u258e   | 7/11 [00:00<00:00,  8.67it/s]"
          ]
        },
        {
          "output_type": "stream",
          "name": "stderr",
          "text": [
            "\rEpoch 3/15 Train:  82%|\u2588\u2588\u2588\u2588\u2588\u2588\u2588\u2588\u258f | 9/11 [00:01<00:00,  9.16it/s]"
          ]
        },
        {
          "output_type": "stream",
          "name": "stderr",
          "text": [
            "\rEpoch 3/15 Train: 100%|\u2588\u2588\u2588\u2588\u2588\u2588\u2588\u2588\u2588\u2588| 11/11 [00:01<00:00, 10.65it/s]"
          ]
        },
        {
          "output_type": "stream",
          "name": "stderr",
          "text": [
            "\rEpoch 3/15 Train: 100%|\u2588\u2588\u2588\u2588\u2588\u2588\u2588\u2588\u2588\u2588| 11/11 [00:01<00:00,  8.38it/s]"
          ]
        },
        {
          "output_type": "stream",
          "name": "stderr",
          "text": [
            "\n"
          ]
        },
        {
          "output_type": "stream",
          "name": "stderr",
          "text": [
            "\rVal:   0%|          | 0/3 [00:00<?, ?it/s]"
          ]
        },
        {
          "output_type": "stream",
          "name": "stderr",
          "text": [
            "\rVal:  33%|\u2588\u2588\u2588\u258e      | 1/3 [00:00<00:00,  3.72it/s]"
          ]
        },
        {
          "output_type": "stream",
          "name": "stderr",
          "text": [
            "\rVal: 100%|\u2588\u2588\u2588\u2588\u2588\u2588\u2588\u2588\u2588\u2588| 3/3 [00:00<00:00,  9.12it/s]"
          ]
        },
        {
          "output_type": "stream",
          "name": "stderr",
          "text": [
            "\rVal: 100%|\u2588\u2588\u2588\u2588\u2588\u2588\u2588\u2588\u2588\u2588| 3/3 [00:00<00:00,  7.19it/s]"
          ]
        },
        {
          "output_type": "stream",
          "name": "stderr",
          "text": [
            "\n"
          ]
        },
        {
          "output_type": "stream",
          "name": "stdout",
          "text": [
            "Epoch 3: TrainBCE=0.8330, ValWLL=0.4404, LR=2.00e-05\n"
          ]
        },
        {
          "output_type": "stream",
          "name": "stderr",
          "text": [
            "\rEpoch 4/15 Train:   0%|          | 0/11 [00:00<?, ?it/s]"
          ]
        },
        {
          "output_type": "stream",
          "name": "stderr",
          "text": [
            "\rEpoch 4/15 Train:   9%|\u2589         | 1/11 [00:00<00:03,  2.78it/s]"
          ]
        },
        {
          "output_type": "stream",
          "name": "stderr",
          "text": [
            "\rEpoch 4/15 Train:  18%|\u2588\u258a        | 2/11 [00:00<00:01,  4.82it/s]"
          ]
        },
        {
          "output_type": "stream",
          "name": "stderr",
          "text": [
            "\rEpoch 4/15 Train:  36%|\u2588\u2588\u2588\u258b      | 4/11 [00:00<00:00,  7.18it/s]"
          ]
        },
        {
          "output_type": "stream",
          "name": "stderr",
          "text": [
            "\rVal:  33%|\u2588\u2588\u2588\u258e      | 1/3 [00:00<00:00,  3.77it/s]"
          ]
        },
        {
          "output_type": "stream",
          "name": "stderr",
          "text": [
            "\rVal: 100%|\u2588\u2588\u2588\u2588\u2588\u2588\u2588\u2588\u2588\u2588| 3/3 [00:00<00:00,  9.22it/s]"
          ]
        },
        {
          "output_type": "stream",
          "name": "stderr",
          "text": [
            "\rVal: 100%|\u2588\u2588\u2588\u2588\u2588\u2588\u2588\u2588\u2588\u2588| 3/3 [00:00<00:00,  7.24it/s]"
          ]
        },
        {
          "output_type": "stream",
          "name": "stderr",
          "text": [
            "\n"
          ]
        },
        {
          "output_type": "stream",
          "name": "stdout",
          "text": [
            "Epoch 4: TrainBCE=0.7717, ValWLL=0.4425, LR=2.00e-05\n"
          ]
        },
        {
          "output_type": "stream",
          "name": "stderr",
          "text": [
            "\rEpoch 5/15 Train:   0%|          | 0/11 [00:00<?, ?it/s]"
          ]
        },
        {
          "output_type": "stream",
          "name": "stderr",
          "text": [
            "\rEpoch 5/15 Train:   9%|\u2589         | 1/11 [00:00<00:03,  2.89it/s]"
          ]
        },
        {
          "output_type": "stream",
          "name": "stderr",
          "text": [
            "\rEpoch 5/15 Train:  27%|\u2588\u2588\u258b       | 3/11 [00:00<00:01,  6.13it/s]"
          ]
        },
        {
          "output_type": "stream",
          "name": "stderr",
          "text": [
            "\rEpoch 5/15 Train:  45%|\u2588\u2588\u2588\u2588\u258c     | 5/11 [00:00<00:00,  7.69it/s]"
          ]
        },
        {
          "output_type": "stream",
          "name": "stderr",
          "text": [
            "\rEpoch 5/15 Train:  55%|\u2588\u2588\u2588\u2588\u2588\u258d    | 6/11 [00:00<00:00,  8.20it/s]"
          ]
        },
        {
          "output_type": "stream",
          "name": "stderr",
          "text": [
            "\rEpoch 5/15 Train:  64%|\u2588\u2588\u2588\u2588\u2588\u2588\u258e   | 7/11 [00:00<00:00,  8.60it/s]"
          ]
        },
        {
          "output_type": "stream",
          "name": "stderr",
          "text": [
            "\rEpoch 5/15 Train:  82%|\u2588\u2588\u2588\u2588\u2588\u2588\u2588\u2588\u258f | 9/11 [00:01<00:00,  9.19it/s]"
          ]
        },
        {
          "output_type": "stream",
          "name": "stderr",
          "text": [
            "\rEpoch 5/15 Train: 100%|\u2588\u2588\u2588\u2588\u2588\u2588\u2588\u2588\u2588\u2588| 11/11 [00:01<00:00, 10.85it/s]"
          ]
        },
        {
          "output_type": "stream",
          "name": "stderr",
          "text": [
            "\rEpoch 5/15 Train: 100%|\u2588\u2588\u2588\u2588\u2588\u2588\u2588\u2588\u2588\u2588| 11/11 [00:01<00:00,  8.26it/s]"
          ]
        },
        {
          "output_type": "stream",
          "name": "stderr",
          "text": [
            "\n"
          ]
        },
        {
          "output_type": "stream",
          "name": "stderr",
          "text": [
            "\rVal:   0%|          | 0/3 [00:00<?, ?it/s]"
          ]
        },
        {
          "output_type": "stream",
          "name": "stderr",
          "text": [
            "\rVal:  33%|\u2588\u2588\u2588\u258e      | 1/3 [00:00<00:00,  3.77it/s]"
          ]
        },
        {
          "output_type": "stream",
          "name": "stderr",
          "text": [
            "\rVal: 100%|\u2588\u2588\u2588\u2588\u2588\u2588\u2588\u2588\u2588\u2588| 3/3 [00:00<00:00,  9.24it/s]"
          ]
        },
        {
          "output_type": "stream",
          "name": "stderr",
          "text": [
            "\rVal: 100%|\u2588\u2588\u2588\u2588\u2588\u2588\u2588\u2588\u2588\u2588| 3/3 [00:00<00:00,  7.09it/s]"
          ]
        },
        {
          "output_type": "stream",
          "name": "stderr",
          "text": [
            "\n"
          ]
        },
        {
          "output_type": "stream",
          "name": "stdout",
          "text": [
            "Epoch 5: TrainBCE=0.7410, ValWLL=0.4469, LR=2.00e-05\n"
          ]
        },
        {
          "output_type": "stream",
          "name": "stderr",
          "text": [
            "\rEpoch 6/15 Train:   0%|          | 0/11 [00:00<?, ?it/s]"
          ]
        },
        {
          "output_type": "stream",
          "name": "stderr",
          "text": [
            "\rEpoch 6/15 Train:   9%|\u2589         | 1/11 [00:00<00:03,  2.89it/s]"
          ]
        },
        {
          "output_type": "stream",
          "name": "stderr",
          "text": [
            "\rEpoch 6/15 Train:  18%|\u2588\u258a        | 2/11 [00:00<00:01,  4.94it/s]"
          ]
        },
        {
          "output_type": "stream",
          "name": "stderr",
          "text": [
            "\rEpoch 6/15 Train:  36%|\u2588\u2588\u2588\u258b      | 4/11 [00:00<00:00,  7.26it/s]"
          ]
        },
        {
          "output_type": "stream",
          "name": "stderr",
          "text": [
            "\rEpoch 6/15 Train:  55%|\u2588\u2588\u2588\u2588\u2588\u258d    | 6/11 [00:00<00:00,  8.37it/s]"
          ]
        },
        {
          "output_type": "stream",
          "name": "stderr",
          "text": [
            "\rEpoch 6/15 Train:  73%|\u2588\u2588\u2588\u2588\u2588\u2588\u2588\u258e  | 8/11 [00:01<00:00,  8.98it/s]"
          ]
        },
        {
          "output_type": "stream",
          "name": "stderr",
          "text": [
            "\rEpoch 6/15 Train:  82%|\u2588\u2588\u2588\u2588\u2588\u2588\u2588\u2588\u258f | 9/11 [00:01<00:00,  9.18it/s]"
          ]
        },
        {
          "output_type": "stream",
          "name": "stderr",
          "text": [
            "\rEpoch 6/15 Train: 100%|\u2588\u2588\u2588\u2588\u2588\u2588\u2588\u2588\u2588\u2588| 11/11 [00:01<00:00, 10.85it/s]"
          ]
        },
        {
          "output_type": "stream",
          "name": "stderr",
          "text": [
            "\rEpoch 6/15 Train: 100%|\u2588\u2588\u2588\u2588\u2588\u2588\u2588\u2588\u2588\u2588| 11/11 [00:01<00:00,  8.27it/s]"
          ]
        },
        {
          "output_type": "stream",
          "name": "stderr",
          "text": [
            "\n"
          ]
        },
        {
          "output_type": "stream",
          "name": "stderr",
          "text": [
            "\rVal:   0%|          | 0/3 [00:00<?, ?it/s]"
          ]
        },
        {
          "output_type": "stream",
          "name": "stderr",
          "text": [
            "\rVal:  33%|\u2588\u2588\u2588\u258e      | 1/3 [00:00<00:00,  3.98it/s]"
          ]
        },
        {
          "output_type": "stream",
          "name": "stderr",
          "text": [
            "\rVal: 100%|\u2588\u2588\u2588\u2588\u2588\u2588\u2588\u2588\u2588\u2588| 3/3 [00:00<00:00,  9.50it/s]"
          ]
        },
        {
          "output_type": "stream",
          "name": "stderr",
          "text": [
            "\rVal: 100%|\u2588\u2588\u2588\u2588\u2588\u2588\u2588\u2588\u2588\u2588| 3/3 [00:00<00:00,  7.36it/s]"
          ]
        },
        {
          "output_type": "stream",
          "name": "stderr",
          "text": [
            "\n"
          ]
        },
        {
          "output_type": "stream",
          "name": "stdout",
          "text": [
            "Epoch 6: TrainBCE=0.7314, ValWLL=0.4412, LR=1.00e-05\nEarly stopping at epoch 6\nConvNeXt v2 Fold 1 best OOF WLL (val): 0.4404\n"
          ]
        },
        {
          "output_type": "stream",
          "name": "stderr",
          "text": [
            "\rFinal Val for OOF:   0%|          | 0/3 [00:00<?, ?it/s]"
          ]
        },
        {
          "output_type": "stream",
          "name": "stderr",
          "text": [
            "\rFinal Val for OOF:  33%|\u2588\u2588\u2588\u258e      | 1/3 [00:00<00:00,  4.13it/s]"
          ]
        },
        {
          "output_type": "stream",
          "name": "stderr",
          "text": [
            "\rFinal Val for OOF: 100%|\u2588\u2588\u2588\u2588\u2588\u2588\u2588\u2588\u2588\u2588| 3/3 [00:00<00:00,  9.77it/s]"
          ]
        },
        {
          "output_type": "stream",
          "name": "stderr",
          "text": [
            "\rFinal Val for OOF: 100%|\u2588\u2588\u2588\u2588\u2588\u2588\u2588\u2588\u2588\u2588| 3/3 [00:00<00:00,  7.58it/s]"
          ]
        },
        {
          "output_type": "stream",
          "name": "stderr",
          "text": [
            "\n"
          ]
        },
        {
          "output_type": "stream",
          "name": "stdout",
          "text": [
            "ConvNeXt v2 Fold 1 OOF WLL: 0.4412\n\n=== ConvNeXt v2 Fold 2/5 ===\n"
          ]
        },
        {
          "output_type": "stream",
          "name": "stderr",
          "text": [
            "\rEpoch 1/15 Train:   0%|          | 0/11 [00:00<?, ?it/s]"
          ]
        },
        {
          "output_type": "stream",
          "name": "stderr",
          "text": [
            "\rEpoch 1/15 Train:   9%|\u2589         | 1/11 [00:00<00:02,  3.52it/s]"
          ]
        },
        {
          "output_type": "stream",
          "name": "stderr",
          "text": [
            "\rEpoch 1/15 Train:  36%|\u2588\u2588\u2588\u258b      | 4/11 [00:00<00:00, 11.62it/s]"
          ]
        },
        {
          "output_type": "stream",
          "name": "stderr",
          "text": [
            "\rEpoch 1/15 Train:  64%|\u2588\u2588\u2588\u2588\u2588\u2588\u258e   | 7/11 [00:00<00:00, 16.70it/s]"
          ]
        },
        {
          "output_type": "stream",
          "name": "stderr",
          "text": [
            "\rEpoch 1/15 Train:  91%|\u2588\u2588\u2588\u2588\u2588\u2588\u2588\u2588\u2588 | 10/11 [00:00<00:00, 19.95it/s]"
          ]
        },
        {
          "output_type": "stream",
          "name": "stderr",
          "text": [
            "\rEpoch 1/15 Train: 100%|\u2588\u2588\u2588\u2588\u2588\u2588\u2588\u2588\u2588\u2588| 11/11 [00:00<00:00, 15.70it/s]"
          ]
        },
        {
          "output_type": "stream",
          "name": "stderr",
          "text": [
            "\n"
          ]
        },
        {
          "output_type": "stream",
          "name": "stderr",
          "text": [
            "\rVal:   0%|          | 0/3 [00:00<?, ?it/s]"
          ]
        },
        {
          "output_type": "stream",
          "name": "stderr",
          "text": [
            "\rVal:  33%|\u2588\u2588\u2588\u258e      | 1/3 [00:00<00:00,  3.79it/s]"
          ]
        },
        {
          "output_type": "stream",
          "name": "stderr",
          "text": [
            "\rVal: 100%|\u2588\u2588\u2588\u2588\u2588\u2588\u2588\u2588\u2588\u2588| 3/3 [00:00<00:00,  9.23it/s]"
          ]
        },
        {
          "output_type": "stream",
          "name": "stderr",
          "text": [
            "\rVal: 100%|\u2588\u2588\u2588\u2588\u2588\u2588\u2588\u2588\u2588\u2588| 3/3 [00:00<00:00,  7.10it/s]"
          ]
        },
        {
          "output_type": "stream",
          "name": "stderr",
          "text": [
            "\n"
          ]
        },
        {
          "output_type": "stream",
          "name": "stdout",
          "text": [
            "Epoch 1: TrainBCE=0.8659, ValWLL=0.4444, LR=2.00e-05\n"
          ]
        },
        {
          "output_type": "stream",
          "name": "stderr",
          "text": [
            "\rEpoch 2/15 Train:   0%|          | 0/11 [00:00<?, ?it/s]"
          ]
        },
        {
          "output_type": "stream",
          "name": "stderr",
          "text": [
            "\rEpoch 2/15 Train:   9%|\u2589         | 1/11 [00:00<00:03,  3.32it/s]"
          ]
        },
        {
          "output_type": "stream",
          "name": "stderr",
          "text": [
            "\rEpoch 2/15 Train:  36%|\u2588\u2588\u2588\u258b      | 4/11 [00:00<00:00, 11.20it/s]"
          ]
        },
        {
          "output_type": "stream",
          "name": "stderr",
          "text": [
            "\rEpoch 2/15 Train:  64%|\u2588\u2588\u2588\u2588\u2588\u2588\u258e   | 7/11 [00:00<00:00, 16.22it/s]"
          ]
        },
        {
          "output_type": "stream",
          "name": "stderr",
          "text": [
            "\rEpoch 2/15 Train:  91%|\u2588\u2588\u2588\u2588\u2588\u2588\u2588\u2588\u2588 | 10/11 [00:00<00:00, 19.60it/s]"
          ]
        },
        {
          "output_type": "stream",
          "name": "stderr",
          "text": [
            "\rEpoch 2/15 Train: 100%|\u2588\u2588\u2588\u2588\u2588\u2588\u2588\u2588\u2588\u2588| 11/11 [00:00<00:00, 15.28it/s]"
          ]
        },
        {
          "output_type": "stream",
          "name": "stderr",
          "text": [
            "\n"
          ]
        },
        {
          "output_type": "stream",
          "name": "stderr",
          "text": [
            "\rVal:   0%|          | 0/3 [00:00<?, ?it/s]"
          ]
        },
        {
          "output_type": "stream",
          "name": "stderr",
          "text": [
            "\rVal:  33%|\u2588\u2588\u2588\u258e      | 1/3 [00:00<00:00,  3.90it/s]"
          ]
        },
        {
          "output_type": "stream",
          "name": "stderr",
          "text": [
            "\rVal: 100%|\u2588\u2588\u2588\u2588\u2588\u2588\u2588\u2588\u2588\u2588| 3/3 [00:00<00:00,  9.40it/s]"
          ]
        },
        {
          "output_type": "stream",
          "name": "stderr",
          "text": [
            "\rVal: 100%|\u2588\u2588\u2588\u2588\u2588\u2588\u2588\u2588\u2588\u2588| 3/3 [00:00<00:00,  7.37it/s]"
          ]
        },
        {
          "output_type": "stream",
          "name": "stderr",
          "text": [
            "\n"
          ]
        },
        {
          "output_type": "stream",
          "name": "stdout",
          "text": [
            "Epoch 2: TrainBCE=0.8371, ValWLL=0.4443, LR=2.00e-05\n"
          ]
        },
        {
          "output_type": "stream",
          "name": "stderr",
          "text": [
            "\rEpoch 3/15 Train:   0%|          | 0/11 [00:00<?, ?it/s]"
          ]
        },
        {
          "output_type": "stream",
          "name": "stderr",
          "text": [
            "\rEpoch 3/15 Train:   9%|\u2589         | 1/11 [00:00<00:03,  2.94it/s]"
          ]
        },
        {
          "output_type": "stream",
          "name": "stderr",
          "text": [
            "\rEpoch 3/15 Train:  27%|\u2588\u2588\u258b       | 3/11 [00:00<00:01,  6.25it/s]"
          ]
        },
        {
          "output_type": "stream",
          "name": "stderr",
          "text": [
            "\rEpoch 3/15 Train:  36%|\u2588\u2588\u2588\u258b      | 4/11 [00:00<00:00,  7.14it/s]"
          ]
        },
        {
          "output_type": "stream",
          "name": "stderr",
          "text": [
            "\rEpoch 3/15 Train:  55%|\u2588\u2588\u2588\u2588\u2588\u258d    | 6/11 [00:00<00:00,  8.47it/s]"
          ]
        },
        {
          "output_type": "stream",
          "name": "stderr",
          "text": [
            "\rEpoch 3/15 Train:  73%|\u2588\u2588\u2588\u2588\u2588\u2588\u2588\u258e  | 8/11 [00:01<00:00,  9.07it/s]"
          ]
        },
        {
          "output_type": "stream",
          "name": "stderr",
          "text": [
            "\rEpoch 3/15 Train:  82%|\u2588\u2588\u2588\u2588\u2588\u2588\u2588\u2588\u258f | 9/11 [00:01<00:00,  9.26it/s]"
          ]
        },
        {
          "output_type": "stream",
          "name": "stderr",
          "text": [
            "\rEpoch 3/15 Train:  91%|\u2588\u2588\u2588\u2588\u2588\u2588\u2588\u2588\u2588 | 10/11 [00:01<00:00,  9.42it/s]"
          ]
        },
        {
          "output_type": "stream",
          "name": "stderr",
          "text": [
            "\rEpoch 3/15 Train: 100%|\u2588\u2588\u2588\u2588\u2588\u2588\u2588\u2588\u2588\u2588| 11/11 [00:01<00:00,  8.39it/s]"
          ]
        },
        {
          "output_type": "stream",
          "name": "stderr",
          "text": [
            "\n"
          ]
        },
        {
          "output_type": "stream",
          "name": "stderr",
          "text": [
            "\rVal:   0%|          | 0/3 [00:00<?, ?it/s]"
          ]
        },
        {
          "output_type": "stream",
          "name": "stderr",
          "text": [
            "\rVal:  33%|\u2588\u2588\u2588\u258e      | 1/3 [00:00<00:00,  4.00it/s]"
          ]
        },
        {
          "output_type": "stream",
          "name": "stderr",
          "text": [
            "\rVal: 100%|\u2588\u2588\u2588\u2588\u2588\u2588\u2588\u2588\u2588\u2588| 3/3 [00:00<00:00,  9.54it/s]"
          ]
        },
        {
          "output_type": "stream",
          "name": "stderr",
          "text": [
            "\rVal: 100%|\u2588\u2588\u2588\u2588\u2588\u2588\u2588\u2588\u2588\u2588| 3/3 [00:00<00:00,  7.51it/s]"
          ]
        },
        {
          "output_type": "stream",
          "name": "stderr",
          "text": [
            "\n"
          ]
        },
        {
          "output_type": "stream",
          "name": "stdout",
          "text": [
            "Epoch 3: TrainBCE=0.8624, ValWLL=0.4445, LR=2.00e-05\n"
          ]
        },
        {
          "output_type": "stream",
          "name": "stderr",
          "text": [
            "\rEpoch 4/15 Train:   0%|          | 0/11 [00:00<?, ?it/s]"
          ]
        },
        {
          "output_type": "stream",
          "name": "stderr",
          "text": [
            "\rEpoch 4/15 Train:   9%|\u2589         | 1/11 [00:00<00:03,  2.68it/s]"
          ]
        },
        {
          "output_type": "stream",
          "name": "stderr",
          "text": [
            "\rEpoch 4/15 Train:  18%|\u2588\u258a        | 2/11 [00:00<00:01,  4.68it/s]"
          ]
        },
        {
          "output_type": "stream",
          "name": "stderr",
          "text": [
            "\rEpoch 4/15 Train:  36%|\u2588\u2588\u2588\u258b      | 4/11 [00:00<00:00,  7.05it/s]"
          ]
        },
        {
          "output_type": "stream",
          "name": "stderr",
          "text": [
            "\rEpoch 4/15 Train:  55%|\u2588\u2588\u2588\u2588\u2588\u258d    | 6/11 [00:00<00:00,  8.21it/s]"
          ]
        },
        {
          "output_type": "stream",
          "name": "stderr",
          "text": [
            "\rEpoch 4/15 Train:  73%|\u2588\u2588\u2588\u2588\u2588\u2588\u2588\u258e  | 8/11 [00:01<00:00,  8.87it/s]"
          ]
        },
        {
          "output_type": "stream",
          "name": "stderr",
          "text": [
            "\rEpoch 4/15 Train:  82%|\u2588\u2588\u2588\u2588\u2588\u2588\u2588\u2588\u258f | 9/11 [00:01<00:00,  9.08it/s]"
          ]
        },
        {
          "output_type": "stream",
          "name": "stderr",
          "text": [
            "\rEpoch 4/15 Train:  91%|\u2588\u2588\u2588\u2588\u2588\u2588\u2588\u2588\u2588 | 10/11 [00:01<00:00,  9.27it/s]"
          ]
        },
        {
          "output_type": "stream",
          "name": "stderr",
          "text": [
            "\rEpoch 4/15 Train: 100%|\u2588\u2588\u2588\u2588\u2588\u2588\u2588\u2588\u2588\u2588| 11/11 [00:01<00:00,  8.08it/s]"
          ]
        },
        {
          "output_type": "stream",
          "name": "stderr",
          "text": [
            "\n"
          ]
        },
        {
          "output_type": "stream",
          "name": "stderr",
          "text": [
            "\rVal:   0%|          | 0/3 [00:00<?, ?it/s]"
          ]
        },
        {
          "output_type": "stream",
          "name": "stderr",
          "text": [
            "\rVal:  33%|\u2588\u2588\u2588\u258e      | 1/3 [00:00<00:00,  4.08it/s]"
          ]
        },
        {
          "output_type": "stream",
          "name": "stderr",
          "text": [
            "\rVal: 100%|\u2588\u2588\u2588\u2588\u2588\u2588\u2588\u2588\u2588\u2588| 3/3 [00:00<00:00,  9.65it/s]"
          ]
        },
        {
          "output_type": "stream",
          "name": "stderr",
          "text": [
            "\rVal: 100%|\u2588\u2588\u2588\u2588\u2588\u2588\u2588\u2588\u2588\u2588| 3/3 [00:00<00:00,  7.63it/s]"
          ]
        },
        {
          "output_type": "stream",
          "name": "stderr",
          "text": [
            "\n"
          ]
        },
        {
          "output_type": "stream",
          "name": "stdout",
          "text": [
            "Epoch 4: TrainBCE=0.7707, ValWLL=0.4456, LR=2.00e-05\n"
          ]
        },
        {
          "output_type": "stream",
          "name": "stderr",
          "text": [
            "\rEpoch 5/15 Train:   0%|          | 0/11 [00:00<?, ?it/s]"
          ]
        },
        {
          "output_type": "stream",
          "name": "stderr",
          "text": [
            "\rEpoch 5/15 Train:   9%|\u2589         | 1/11 [00:00<00:03,  2.66it/s]"
          ]
        },
        {
          "output_type": "stream",
          "name": "stderr",
          "text": [
            "\rEpoch 5/15 Train:  18%|\u2588\u258a        | 2/11 [00:00<00:01,  4.67it/s]"
          ]
        },
        {
          "output_type": "stream",
          "name": "stderr",
          "text": [
            "\rEpoch 5/15 Train:  36%|\u2588\u2588\u2588\u258b      | 4/11 [00:00<00:00,  7.03it/s]"
          ]
        },
        {
          "output_type": "stream",
          "name": "stderr",
          "text": [
            "\rEpoch 5/15 Train:  55%|\u2588\u2588\u2588\u2588\u2588\u258d    | 6/11 [00:00<00:00,  8.21it/s]"
          ]
        },
        {
          "output_type": "stream",
          "name": "stderr",
          "text": [
            "\rEpoch 5/15 Train:  73%|\u2588\u2588\u2588\u2588\u2588\u2588\u2588\u258e  | 8/11 [00:01<00:00,  8.87it/s]"
          ]
        },
        {
          "output_type": "stream",
          "name": "stderr",
          "text": [
            "\rEpoch 5/15 Train:  82%|\u2588\u2588\u2588\u2588\u2588\u2588\u2588\u2588\u258f | 9/11 [00:01<00:00,  9.09it/s]"
          ]
        },
        {
          "output_type": "stream",
          "name": "stderr",
          "text": [
            "\rEpoch 5/15 Train: 100%|\u2588\u2588\u2588\u2588\u2588\u2588\u2588\u2588\u2588\u2588| 11/11 [00:01<00:00, 10.76it/s]"
          ]
        },
        {
          "output_type": "stream",
          "name": "stderr",
          "text": [
            "\rEpoch 5/15 Train: 100%|\u2588\u2588\u2588\u2588\u2588\u2588\u2588\u2588\u2588\u2588| 11/11 [00:01<00:00,  8.08it/s]"
          ]
        },
        {
          "output_type": "stream",
          "name": "stderr",
          "text": [
            "\n"
          ]
        },
        {
          "output_type": "stream",
          "name": "stderr",
          "text": [
            "\rVal:   0%|          | 0/3 [00:00<?, ?it/s]"
          ]
        },
        {
          "output_type": "stream",
          "name": "stderr",
          "text": [
            "\rVal:  33%|\u2588\u2588\u2588\u258e      | 1/3 [00:00<00:00,  3.94it/s]"
          ]
        },
        {
          "output_type": "stream",
          "name": "stderr",
          "text": [
            "\rVal: 100%|\u2588\u2588\u2588\u2588\u2588\u2588\u2588\u2588\u2588\u2588| 3/3 [00:00<00:00,  9.48it/s]"
          ]
        },
        {
          "output_type": "stream",
          "name": "stderr",
          "text": [
            "\rVal: 100%|\u2588\u2588\u2588\u2588\u2588\u2588\u2588\u2588\u2588\u2588| 3/3 [00:00<00:00,  7.45it/s]"
          ]
        },
        {
          "output_type": "stream",
          "name": "stderr",
          "text": [
            "\n"
          ]
        },
        {
          "output_type": "stream",
          "name": "stdout",
          "text": [
            "Epoch 5: TrainBCE=0.7099, ValWLL=0.4471, LR=1.00e-05\n"
          ]
        },
        {
          "output_type": "stream",
          "name": "stderr",
          "text": [
            "\rEpoch 6/15 Train:   0%|          | 0/11 [00:00<?, ?it/s]"
          ]
        },
        {
          "output_type": "stream",
          "name": "stderr",
          "text": [
            "\rEpoch 6/15 Train:   9%|\u2589         | 1/11 [00:00<00:03,  2.80it/s]"
          ]
        },
        {
          "output_type": "stream",
          "name": "stderr",
          "text": [
            "\rEpoch 6/15 Train:  18%|\u2588\u258a        | 2/11 [00:00<00:01,  4.82it/s]"
          ]
        },
        {
          "output_type": "stream",
          "name": "stderr",
          "text": [
            "\rEpoch 6/15 Train:  36%|\u2588\u2588\u2588\u258b      | 4/11 [00:00<00:00,  7.16it/s]"
          ]
        },
        {
          "output_type": "stream",
          "name": "stderr",
          "text": [
            "\rEpoch 6/15 Train:  55%|\u2588\u2588\u2588\u2588\u2588\u258d    | 6/11 [00:00<00:00,  8.29it/s]"
          ]
        },
        {
          "output_type": "stream",
          "name": "stderr",
          "text": [
            "\rEpoch 6/15 Train:  73%|\u2588\u2588\u2588\u2588\u2588\u2588\u2588\u258e  | 8/11 [00:01<00:00,  8.93it/s]"
          ]
        },
        {
          "output_type": "stream",
          "name": "stderr",
          "text": [
            "\rEpoch 6/15 Train:  82%|\u2588\u2588\u2588\u2588\u2588\u2588\u2588\u2588\u258f | 9/11 [00:01<00:00,  9.14it/s]"
          ]
        },
        {
          "output_type": "stream",
          "name": "stderr",
          "text": [
            "\rEpoch 6/15 Train:  91%|\u2588\u2588\u2588\u2588\u2588\u2588\u2588\u2588\u2588 | 10/11 [00:01<00:00,  9.33it/s]"
          ]
        },
        {
          "output_type": "stream",
          "name": "stderr",
          "text": [
            "\rEpoch 6/15 Train: 100%|\u2588\u2588\u2588\u2588\u2588\u2588\u2588\u2588\u2588\u2588| 11/11 [00:01<00:00,  8.20it/s]"
          ]
        },
        {
          "output_type": "stream",
          "name": "stderr",
          "text": [
            "\n"
          ]
        },
        {
          "output_type": "stream",
          "name": "stderr",
          "text": [
            "\rVal:   0%|          | 0/3 [00:00<?, ?it/s]"
          ]
        },
        {
          "output_type": "stream",
          "name": "stderr",
          "text": [
            "\rVal:  33%|\u2588\u2588\u2588\u258e      | 1/3 [00:00<00:00,  3.56it/s]"
          ]
        },
        {
          "output_type": "stream",
          "name": "stderr",
          "text": [
            "\rVal: 100%|\u2588\u2588\u2588\u2588\u2588\u2588\u2588\u2588\u2588\u2588| 3/3 [00:00<00:00,  8.86it/s]"
          ]
        },
        {
          "output_type": "stream",
          "name": "stderr",
          "text": [
            "\rVal: 100%|\u2588\u2588\u2588\u2588\u2588\u2588\u2588\u2588\u2588\u2588| 3/3 [00:00<00:00,  6.89it/s]"
          ]
        },
        {
          "output_type": "stream",
          "name": "stderr",
          "text": [
            "\n"
          ]
        },
        {
          "output_type": "stream",
          "name": "stdout",
          "text": [
            "Epoch 6: TrainBCE=0.6711, ValWLL=0.4488, LR=1.00e-05\nEarly stopping at epoch 6\nConvNeXt v2 Fold 2 best OOF WLL (val): 0.4443\n"
          ]
        },
        {
          "output_type": "stream",
          "name": "stderr",
          "text": [
            "\rFinal Val for OOF:   0%|          | 0/3 [00:00<?, ?it/s]"
          ]
        },
        {
          "output_type": "stream",
          "name": "stderr",
          "text": [
            "\rFinal Val for OOF:  33%|\u2588\u2588\u2588\u258e      | 1/3 [00:00<00:00,  3.92it/s]"
          ]
        },
        {
          "output_type": "stream",
          "name": "stderr",
          "text": [
            "\rFinal Val for OOF: 100%|\u2588\u2588\u2588\u2588\u2588\u2588\u2588\u2588\u2588\u2588| 3/3 [00:00<00:00,  9.46it/s]"
          ]
        },
        {
          "output_type": "stream",
          "name": "stderr",
          "text": [
            "\rFinal Val for OOF: 100%|\u2588\u2588\u2588\u2588\u2588\u2588\u2588\u2588\u2588\u2588| 3/3 [00:00<00:00,  7.21it/s]"
          ]
        },
        {
          "output_type": "stream",
          "name": "stderr",
          "text": [
            "\n"
          ]
        },
        {
          "output_type": "stream",
          "name": "stdout",
          "text": [
            "ConvNeXt v2 Fold 2 OOF WLL: 0.4488\n\n=== ConvNeXt v2 Fold 3/5 ===\n"
          ]
        },
        {
          "output_type": "stream",
          "name": "stderr",
          "text": [
            "\rEpoch 1/15 Train:   0%|          | 0/11 [00:00<?, ?it/s]"
          ]
        },
        {
          "output_type": "stream",
          "name": "stderr",
          "text": [
            "\rEpoch 1/15 Train:   9%|\u2589         | 1/11 [00:00<00:02,  3.57it/s]"
          ]
        },
        {
          "output_type": "stream",
          "name": "stderr",
          "text": [
            "\rEpoch 1/15 Train:  36%|\u2588\u2588\u2588\u258b      | 4/11 [00:00<00:00, 11.72it/s]"
          ]
        },
        {
          "output_type": "stream",
          "name": "stderr",
          "text": [
            "\rEpoch 1/15 Train:  64%|\u2588\u2588\u2588\u2588\u2588\u2588\u258e   | 7/11 [00:00<00:00, 16.73it/s]"
          ]
        },
        {
          "output_type": "stream",
          "name": "stderr",
          "text": [
            "\rEpoch 1/15 Train:  91%|\u2588\u2588\u2588\u2588\u2588\u2588\u2588\u2588\u2588 | 10/11 [00:00<00:00, 19.96it/s]"
          ]
        },
        {
          "output_type": "stream",
          "name": "stderr",
          "text": [
            "\rEpoch 1/15 Train: 100%|\u2588\u2588\u2588\u2588\u2588\u2588\u2588\u2588\u2588\u2588| 11/11 [00:00<00:00, 15.86it/s]"
          ]
        },
        {
          "output_type": "stream",
          "name": "stderr",
          "text": [
            "\n"
          ]
        },
        {
          "output_type": "stream",
          "name": "stderr",
          "text": [
            "\rVal:   0%|          | 0/3 [00:00<?, ?it/s]"
          ]
        },
        {
          "output_type": "stream",
          "name": "stderr",
          "text": [
            "\rVal:  33%|\u2588\u2588\u2588\u258e      | 1/3 [00:00<00:00,  3.66it/s]"
          ]
        },
        {
          "output_type": "stream",
          "name": "stderr",
          "text": [
            "\rVal: 100%|\u2588\u2588\u2588\u2588\u2588\u2588\u2588\u2588\u2588\u2588| 3/3 [00:00<00:00,  9.16it/s]"
          ]
        },
        {
          "output_type": "stream",
          "name": "stderr",
          "text": [
            "\rVal: 100%|\u2588\u2588\u2588\u2588\u2588\u2588\u2588\u2588\u2588\u2588| 3/3 [00:00<00:00,  7.08it/s]"
          ]
        },
        {
          "output_type": "stream",
          "name": "stderr",
          "text": [
            "\n"
          ]
        },
        {
          "output_type": "stream",
          "name": "stdout",
          "text": [
            "Epoch 1: TrainBCE=0.8736, ValWLL=0.4456, LR=2.00e-05\n"
          ]
        },
        {
          "output_type": "stream",
          "name": "stderr",
          "text": [
            "\rEpoch 2/15 Train:   0%|          | 0/11 [00:00<?, ?it/s]"
          ]
        },
        {
          "output_type": "stream",
          "name": "stderr",
          "text": [
            "\rEpoch 2/15 Train:   9%|\u2589         | 1/11 [00:00<00:02,  3.55it/s]"
          ]
        },
        {
          "output_type": "stream",
          "name": "stderr",
          "text": [
            "\rEpoch 2/15 Train:  36%|\u2588\u2588\u2588\u258b      | 4/11 [00:00<00:00, 11.50it/s]"
          ]
        },
        {
          "output_type": "stream",
          "name": "stderr",
          "text": [
            "\rEpoch 2/15 Train:  64%|\u2588\u2588\u2588\u2588\u2588\u2588\u258e   | 7/11 [00:00<00:00, 16.20it/s]"
          ]
        },
        {
          "output_type": "stream",
          "name": "stderr",
          "text": [
            "\rEpoch 2/15 Train:  91%|\u2588\u2588\u2588\u2588\u2588\u2588\u2588\u2588\u2588 | 10/11 [00:00<00:00, 19.34it/s]"
          ]
        },
        {
          "output_type": "stream",
          "name": "stderr",
          "text": [
            "\rEpoch 2/15 Train: 100%|\u2588\u2588\u2588\u2588\u2588\u2588\u2588\u2588\u2588\u2588| 11/11 [00:00<00:00, 15.36it/s]"
          ]
        },
        {
          "output_type": "stream",
          "name": "stderr",
          "text": [
            "\n"
          ]
        },
        {
          "output_type": "stream",
          "name": "stderr",
          "text": [
            "\rVal:   0%|          | 0/3 [00:00<?, ?it/s]"
          ]
        },
        {
          "output_type": "stream",
          "name": "stderr",
          "text": [
            "\rVal:  33%|\u2588\u2588\u2588\u258e      | 1/3 [00:00<00:00,  3.87it/s]"
          ]
        },
        {
          "output_type": "stream",
          "name": "stderr",
          "text": [
            "\rVal: 100%|\u2588\u2588\u2588\u2588\u2588\u2588\u2588\u2588\u2588\u2588| 3/3 [00:00<00:00,  9.47it/s]"
          ]
        },
        {
          "output_type": "stream",
          "name": "stderr",
          "text": [
            "\rVal: 100%|\u2588\u2588\u2588\u2588\u2588\u2588\u2588\u2588\u2588\u2588| 3/3 [00:00<00:00,  7.25it/s]"
          ]
        },
        {
          "output_type": "stream",
          "name": "stderr",
          "text": [
            "\n"
          ]
        },
        {
          "output_type": "stream",
          "name": "stdout",
          "text": [
            "Epoch 2: TrainBCE=0.8123, ValWLL=0.4456, LR=2.00e-05\n"
          ]
        },
        {
          "output_type": "stream",
          "name": "stderr",
          "text": [
            "\rEpoch 3/15 Train:   0%|          | 0/11 [00:00<?, ?it/s]"
          ]
        },
        {
          "output_type": "stream",
          "name": "stderr",
          "text": [
            "\rEpoch 3/15 Train:   9%|\u2589         | 1/11 [00:00<00:03,  2.98it/s]"
          ]
        },
        {
          "output_type": "stream",
          "name": "stderr",
          "text": [
            "\rEpoch 3/15 Train:  27%|\u2588\u2588\u258b       | 3/11 [00:00<00:01,  6.29it/s]"
          ]
        },
        {
          "output_type": "stream",
          "name": "stderr",
          "text": [
            "\rEpoch 3/15 Train:  45%|\u2588\u2588\u2588\u2588\u258c     | 5/11 [00:00<00:00,  7.78it/s]"
          ]
        },
        {
          "output_type": "stream",
          "name": "stderr",
          "text": [
            "\rEpoch 3/15 Train:  64%|\u2588\u2588\u2588\u2588\u2588\u2588\u258e   | 7/11 [00:00<00:00,  8.67it/s]"
          ]
        },
        {
          "output_type": "stream",
          "name": "stderr",
          "text": [
            "\rEpoch 3/15 Train:  82%|\u2588\u2588\u2588\u2588\u2588\u2588\u2588\u2588\u258f | 9/11 [00:01<00:00,  9.26it/s]"
          ]
        },
        {
          "output_type": "stream",
          "name": "stderr",
          "text": [
            "\rEpoch 3/15 Train: 100%|\u2588\u2588\u2588\u2588\u2588\u2588\u2588\u2588\u2588\u2588| 11/11 [00:01<00:00, 10.73it/s]"
          ]
        },
        {
          "output_type": "stream",
          "name": "stderr",
          "text": [
            "\rEpoch 3/15 Train: 100%|\u2588\u2588\u2588\u2588\u2588\u2588\u2588\u2588\u2588\u2588| 11/11 [00:01<00:00,  8.43it/s]"
          ]
        },
        {
          "output_type": "stream",
          "name": "stderr",
          "text": [
            "\n"
          ]
        },
        {
          "output_type": "stream",
          "name": "stderr",
          "text": [
            "\rVal:   0%|          | 0/3 [00:00<?, ?it/s]"
          ]
        },
        {
          "output_type": "stream",
          "name": "stderr",
          "text": [
            "\rVal:  33%|\u2588\u2588\u2588\u258e      | 1/3 [00:00<00:00,  3.47it/s]"
          ]
        },
        {
          "output_type": "stream",
          "name": "stderr",
          "text": [
            "\rVal: 100%|\u2588\u2588\u2588\u2588\u2588\u2588\u2588\u2588\u2588\u2588| 3/3 [00:00<00:00,  8.84it/s]"
          ]
        },
        {
          "output_type": "stream",
          "name": "stderr",
          "text": [
            "\rVal: 100%|\u2588\u2588\u2588\u2588\u2588\u2588\u2588\u2588\u2588\u2588| 3/3 [00:00<00:00,  6.87it/s]"
          ]
        },
        {
          "output_type": "stream",
          "name": "stderr",
          "text": [
            "\n"
          ]
        },
        {
          "output_type": "stream",
          "name": "stdout",
          "text": [
            "Epoch 3: TrainBCE=0.8468, ValWLL=0.4460, LR=2.00e-05\n"
          ]
        },
        {
          "output_type": "stream",
          "name": "stderr",
          "text": [
            "\rEpoch 4/15 Train:   0%|          | 0/11 [00:00<?, ?it/s]"
          ]
        },
        {
          "output_type": "stream",
          "name": "stderr",
          "text": [
            "\rEpoch 4/15 Train:   9%|\u2589         | 1/11 [00:00<00:03,  2.81it/s]"
          ]
        },
        {
          "output_type": "stream",
          "name": "stderr",
          "text": [
            "\rEpoch 4/15 Train:  18%|\u2588\u258a        | 2/11 [00:00<00:01,  4.84it/s]"
          ]
        },
        {
          "output_type": "stream",
          "name": "stderr",
          "text": [
            "\rEpoch 4/15 Train:  27%|\u2588\u2588\u258b       | 3/11 [00:00<00:01,  6.33it/s]"
          ]
        },
        {
          "output_type": "stream",
          "name": "stderr",
          "text": [
            "\rEpoch 4/15 Train:  45%|\u2588\u2588\u2588\u2588\u258c     | 5/11 [00:00<00:00,  8.01it/s]"
          ]
        },
        {
          "output_type": "stream",
          "name": "stderr",
          "text": [
            "\rEpoch 4/15 Train:  64%|\u2588\u2588\u2588\u2588\u2588\u2588\u258e   | 7/11 [00:00<00:00,  8.81it/s]"
          ]
        },
        {
          "output_type": "stream",
          "name": "stderr",
          "text": [
            "\rEpoch 4/15 Train:  82%|\u2588\u2588\u2588\u2588\u2588\u2588\u2588\u2588\u258f | 9/11 [00:01<00:00,  9.22it/s]"
          ]
        },
        {
          "output_type": "stream",
          "name": "stderr",
          "text": [
            "\rEpoch 4/15 Train:  91%|\u2588\u2588\u2588\u2588\u2588\u2588\u2588\u2588\u2588 | 10/11 [00:01<00:00,  9.37it/s]"
          ]
        },
        {
          "output_type": "stream",
          "name": "stderr",
          "text": [
            "\rEpoch 4/15 Train: 100%|\u2588\u2588\u2588\u2588\u2588\u2588\u2588\u2588\u2588\u2588| 11/11 [00:01<00:00,  8.22it/s]"
          ]
        },
        {
          "output_type": "stream",
          "name": "stderr",
          "text": [
            "\n"
          ]
        },
        {
          "output_type": "stream",
          "name": "stderr",
          "text": [
            "\rVal:   0%|          | 0/3 [00:00<?, ?it/s]"
          ]
        },
        {
          "output_type": "stream",
          "name": "stderr",
          "text": [
            "\rVal:  33%|\u2588\u2588\u2588\u258e      | 1/3 [00:00<00:00,  3.89it/s]"
          ]
        },
        {
          "output_type": "stream",
          "name": "stderr",
          "text": [
            "\rVal: 100%|\u2588\u2588\u2588\u2588\u2588\u2588\u2588\u2588\u2588\u2588| 3/3 [00:00<00:00,  9.50it/s]"
          ]
        },
        {
          "output_type": "stream",
          "name": "stderr",
          "text": [
            "\rVal: 100%|\u2588\u2588\u2588\u2588\u2588\u2588\u2588\u2588\u2588\u2588| 3/3 [00:00<00:00,  7.35it/s]"
          ]
        },
        {
          "output_type": "stream",
          "name": "stderr",
          "text": [
            "\n"
          ]
        },
        {
          "output_type": "stream",
          "name": "stdout",
          "text": [
            "Epoch 4: TrainBCE=0.7269, ValWLL=0.4462, LR=1.00e-05\n"
          ]
        },
        {
          "output_type": "stream",
          "name": "stderr",
          "text": [
            "\rEpoch 5/15 Train:   0%|          | 0/11 [00:00<?, ?it/s]"
          ]
        },
        {
          "output_type": "stream",
          "name": "stderr",
          "text": [
            "\rEpoch 5/15 Train:   9%|\u2589         | 1/11 [00:00<00:03,  2.63it/s]"
          ]
        },
        {
          "output_type": "stream",
          "name": "stderr",
          "text": [
            "\rEpoch 5/15 Train:  18%|\u2588\u258a        | 2/11 [00:00<00:01,  4.61it/s]"
          ]
        },
        {
          "output_type": "stream",
          "name": "stderr",
          "text": [
            "\rEpoch 5/15 Train:  36%|\u2588\u2588\u2588\u258b      | 4/11 [00:00<00:01,  6.99it/s]"
          ]
        },
        {
          "output_type": "stream",
          "name": "stderr",
          "text": [
            "\rEpoch 5/15 Train:  55%|\u2588\u2588\u2588\u2588\u2588\u258d    | 6/11 [00:00<00:00,  8.17it/s]"
          ]
        },
        {
          "output_type": "stream",
          "name": "stderr",
          "text": [
            "\rEpoch 5/15 Train:  73%|\u2588\u2588\u2588\u2588\u2588\u2588\u2588\u258e  | 8/11 [00:01<00:00,  8.85it/s]"
          ]
        },
        {
          "output_type": "stream",
          "name": "stderr",
          "text": [
            "\rEpoch 5/15 Train:  82%|\u2588\u2588\u2588\u2588\u2588\u2588\u2588\u2588\u258f | 9/11 [00:01<00:00,  9.06it/s]"
          ]
        },
        {
          "output_type": "stream",
          "name": "stderr",
          "text": [
            "\rEpoch 5/15 Train:  91%|\u2588\u2588\u2588\u2588\u2588\u2588\u2588\u2588\u2588 | 10/11 [00:01<00:00,  9.25it/s]"
          ]
        },
        {
          "output_type": "stream",
          "name": "stderr",
          "text": [
            "\rEpoch 5/15 Train: 100%|\u2588\u2588\u2588\u2588\u2588\u2588\u2588\u2588\u2588\u2588| 11/11 [00:01<00:00,  8.07it/s]"
          ]
        },
        {
          "output_type": "stream",
          "name": "stderr",
          "text": [
            "\n"
          ]
        },
        {
          "output_type": "stream",
          "name": "stderr",
          "text": [
            "\rVal:   0%|          | 0/3 [00:00<?, ?it/s]"
          ]
        },
        {
          "output_type": "stream",
          "name": "stderr",
          "text": [
            "\rVal:  33%|\u2588\u2588\u2588\u258e      | 1/3 [00:00<00:00,  3.80it/s]"
          ]
        },
        {
          "output_type": "stream",
          "name": "stderr",
          "text": [
            "\rVal: 100%|\u2588\u2588\u2588\u2588\u2588\u2588\u2588\u2588\u2588\u2588| 3/3 [00:00<00:00,  9.36it/s]"
          ]
        },
        {
          "output_type": "stream",
          "name": "stderr",
          "text": [
            "\rVal: 100%|\u2588\u2588\u2588\u2588\u2588\u2588\u2588\u2588\u2588\u2588| 3/3 [00:00<00:00,  7.20it/s]"
          ]
        },
        {
          "output_type": "stream",
          "name": "stderr",
          "text": [
            "\n"
          ]
        },
        {
          "output_type": "stream",
          "name": "stdout",
          "text": [
            "Epoch 5: TrainBCE=0.7611, ValWLL=0.4474, LR=1.00e-05\n"
          ]
        },
        {
          "output_type": "stream",
          "name": "stderr",
          "text": [
            "\rEpoch 6/15 Train:   0%|          | 0/11 [00:00<?, ?it/s]"
          ]
        },
        {
          "output_type": "stream",
          "name": "stderr",
          "text": [
            "\rEpoch 6/15 Train:   9%|\u2589         | 1/11 [00:00<00:03,  2.77it/s]"
          ]
        },
        {
          "output_type": "stream",
          "name": "stderr",
          "text": [
            "\rEpoch 6/15 Train:  18%|\u2588\u258a        | 2/11 [00:00<00:01,  4.82it/s]"
          ]
        },
        {
          "output_type": "stream",
          "name": "stderr",
          "text": [
            "\rEpoch 6/15 Train:  36%|\u2588\u2588\u2588\u258b      | 4/11 [00:00<00:00,  7.16it/s]"
          ]
        },
        {
          "output_type": "stream",
          "name": "stderr",
          "text": [
            "\rEpoch 6/15 Train:  55%|\u2588\u2588\u2588\u2588\u2588\u258d    | 6/11 [00:00<00:00,  8.29it/s]"
          ]
        },
        {
          "output_type": "stream",
          "name": "stderr",
          "text": [
            "\rEpoch 6/15 Train:  73%|\u2588\u2588\u2588\u2588\u2588\u2588\u2588\u258e  | 8/11 [00:01<00:00,  8.93it/s]"
          ]
        },
        {
          "output_type": "stream",
          "name": "stderr",
          "text": [
            "\rEpoch 6/15 Train:  82%|\u2588\u2588\u2588\u2588\u2588\u2588\u2588\u2588\u258f | 9/11 [00:01<00:00,  9.12it/s]"
          ]
        },
        {
          "output_type": "stream",
          "name": "stderr",
          "text": [
            "\rEpoch 6/15 Train:  91%|\u2588\u2588\u2588\u2588\u2588\u2588\u2588\u2588\u2588 | 10/11 [00:01<00:00,  9.31it/s]"
          ]
        },
        {
          "output_type": "stream",
          "name": "stderr",
          "text": [
            "\rEpoch 6/15 Train: 100%|\u2588\u2588\u2588\u2588\u2588\u2588\u2588\u2588\u2588\u2588| 11/11 [00:01<00:00,  8.13it/s]"
          ]
        },
        {
          "output_type": "stream",
          "name": "stderr",
          "text": [
            "\n"
          ]
        },
        {
          "output_type": "stream",
          "name": "stderr",
          "text": [
            "\rVal:   0%|          | 0/3 [00:00<?, ?it/s]"
          ]
        },
        {
          "output_type": "stream",
          "name": "stderr",
          "text": [
            "\rVal:  33%|\u2588\u2588\u2588\u258e      | 1/3 [00:00<00:00,  4.00it/s]"
          ]
        },
        {
          "output_type": "stream",
          "name": "stderr",
          "text": [
            "\rVal: 100%|\u2588\u2588\u2588\u2588\u2588\u2588\u2588\u2588\u2588\u2588| 3/3 [00:00<00:00,  9.69it/s]"
          ]
        },
        {
          "output_type": "stream",
          "name": "stderr",
          "text": [
            "\rVal: 100%|\u2588\u2588\u2588\u2588\u2588\u2588\u2588\u2588\u2588\u2588| 3/3 [00:00<00:00,  7.53it/s]"
          ]
        },
        {
          "output_type": "stream",
          "name": "stderr",
          "text": [
            "\n"
          ]
        },
        {
          "output_type": "stream",
          "name": "stdout",
          "text": [
            "Epoch 6: TrainBCE=0.7329, ValWLL=0.4467, LR=1.00e-05\nEarly stopping at epoch 6\nConvNeXt v2 Fold 3 best OOF WLL (val): 0.4456\n"
          ]
        },
        {
          "output_type": "stream",
          "name": "stderr",
          "text": [
            "\rFinal Val for OOF:   0%|          | 0/3 [00:00<?, ?it/s]"
          ]
        },
        {
          "output_type": "stream",
          "name": "stderr",
          "text": [
            "\rFinal Val for OOF:  33%|\u2588\u2588\u2588\u258e      | 1/3 [00:00<00:00,  3.98it/s]"
          ]
        },
        {
          "output_type": "stream",
          "name": "stderr",
          "text": [
            "\rFinal Val for OOF: 100%|\u2588\u2588\u2588\u2588\u2588\u2588\u2588\u2588\u2588\u2588| 3/3 [00:00<00:00,  9.64it/s]"
          ]
        },
        {
          "output_type": "stream",
          "name": "stderr",
          "text": [
            "\rFinal Val for OOF: 100%|\u2588\u2588\u2588\u2588\u2588\u2588\u2588\u2588\u2588\u2588| 3/3 [00:00<00:00,  7.54it/s]"
          ]
        },
        {
          "output_type": "stream",
          "name": "stderr",
          "text": [
            "\n"
          ]
        },
        {
          "output_type": "stream",
          "name": "stdout",
          "text": [
            "ConvNeXt v2 Fold 3 OOF WLL: 0.4467\n\n=== ConvNeXt v2 Fold 4/5 ===\n"
          ]
        },
        {
          "output_type": "stream",
          "name": "stderr",
          "text": [
            "\rEpoch 1/15 Train:   0%|          | 0/11 [00:00<?, ?it/s]"
          ]
        },
        {
          "output_type": "stream",
          "name": "stderr",
          "text": [
            "\rEpoch 1/15 Train:   9%|\u2589         | 1/11 [00:00<00:02,  3.65it/s]"
          ]
        },
        {
          "output_type": "stream",
          "name": "stderr",
          "text": [
            "\rEpoch 1/15 Train:  36%|\u2588\u2588\u2588\u258b      | 4/11 [00:00<00:00, 11.87it/s]"
          ]
        },
        {
          "output_type": "stream",
          "name": "stderr",
          "text": [
            "\rEpoch 1/15 Train:  64%|\u2588\u2588\u2588\u2588\u2588\u2588\u258e   | 7/11 [00:00<00:00, 16.85it/s]"
          ]
        },
        {
          "output_type": "stream",
          "name": "stderr",
          "text": [
            "\rEpoch 1/15 Train:  91%|\u2588\u2588\u2588\u2588\u2588\u2588\u2588\u2588\u2588 | 10/11 [00:00<00:00, 20.06it/s]"
          ]
        },
        {
          "output_type": "stream",
          "name": "stderr",
          "text": [
            "\rEpoch 1/15 Train: 100%|\u2588\u2588\u2588\u2588\u2588\u2588\u2588\u2588\u2588\u2588| 11/11 [00:00<00:00, 15.88it/s]"
          ]
        },
        {
          "output_type": "stream",
          "name": "stderr",
          "text": [
            "\n"
          ]
        },
        {
          "output_type": "stream",
          "name": "stderr",
          "text": [
            "\rVal:   0%|          | 0/3 [00:00<?, ?it/s]"
          ]
        },
        {
          "output_type": "stream",
          "name": "stderr",
          "text": [
            "\rVal:  33%|\u2588\u2588\u2588\u258e      | 1/3 [00:00<00:00,  3.82it/s]"
          ]
        },
        {
          "output_type": "stream",
          "name": "stderr",
          "text": [
            "\rVal: 100%|\u2588\u2588\u2588\u2588\u2588\u2588\u2588\u2588\u2588\u2588| 3/3 [00:00<00:00,  9.39it/s]"
          ]
        },
        {
          "output_type": "stream",
          "name": "stderr",
          "text": [
            "\rVal: 100%|\u2588\u2588\u2588\u2588\u2588\u2588\u2588\u2588\u2588\u2588| 3/3 [00:00<00:00,  7.34it/s]"
          ]
        },
        {
          "output_type": "stream",
          "name": "stderr",
          "text": [
            "\n"
          ]
        },
        {
          "output_type": "stream",
          "name": "stdout",
          "text": [
            "Epoch 1: TrainBCE=0.9226, ValWLL=0.4712, LR=2.00e-05\n"
          ]
        },
        {
          "output_type": "stream",
          "name": "stderr",
          "text": [
            "\rEpoch 2/15 Train:   0%|          | 0/11 [00:00<?, ?it/s]"
          ]
        },
        {
          "output_type": "stream",
          "name": "stderr",
          "text": [
            "\rEpoch 2/15 Train:   9%|\u2589         | 1/11 [00:00<00:02,  3.62it/s]"
          ]
        },
        {
          "output_type": "stream",
          "name": "stderr",
          "text": [
            "\rEpoch 2/15 Train:  36%|\u2588\u2588\u2588\u258b      | 4/11 [00:00<00:00, 11.69it/s]"
          ]
        },
        {
          "output_type": "stream",
          "name": "stderr",
          "text": [
            "\rEpoch 2/15 Train:  64%|\u2588\u2588\u2588\u2588\u2588\u2588\u258e   | 7/11 [00:00<00:00, 16.71it/s]"
          ]
        },
        {
          "output_type": "stream",
          "name": "stderr",
          "text": [
            "\rEpoch 2/15 Train:  91%|\u2588\u2588\u2588\u2588\u2588\u2588\u2588\u2588\u2588 | 10/11 [00:00<00:00, 19.90it/s]"
          ]
        },
        {
          "output_type": "stream",
          "name": "stderr",
          "text": [
            "\rEpoch 2/15 Train: 100%|\u2588\u2588\u2588\u2588\u2588\u2588\u2588\u2588\u2588\u2588| 11/11 [00:00<00:00, 15.75it/s]"
          ]
        },
        {
          "output_type": "stream",
          "name": "stderr",
          "text": [
            "\n"
          ]
        },
        {
          "output_type": "stream",
          "name": "stderr",
          "text": [
            "\rVal:   0%|          | 0/3 [00:00<?, ?it/s]"
          ]
        },
        {
          "output_type": "stream",
          "name": "stderr",
          "text": [
            "\rVal:  33%|\u2588\u2588\u2588\u258e      | 1/3 [00:00<00:00,  4.06it/s]"
          ]
        },
        {
          "output_type": "stream",
          "name": "stderr",
          "text": [
            "\rVal: 100%|\u2588\u2588\u2588\u2588\u2588\u2588\u2588\u2588\u2588\u2588| 3/3 [00:00<00:00,  9.74it/s]"
          ]
        },
        {
          "output_type": "stream",
          "name": "stderr",
          "text": [
            "\rVal: 100%|\u2588\u2588\u2588\u2588\u2588\u2588\u2588\u2588\u2588\u2588| 3/3 [00:00<00:00,  7.68it/s]"
          ]
        },
        {
          "output_type": "stream",
          "name": "stderr",
          "text": [
            "\n"
          ]
        },
        {
          "output_type": "stream",
          "name": "stdout",
          "text": [
            "Epoch 2: TrainBCE=0.9887, ValWLL=0.4708, LR=2.00e-05\n"
          ]
        },
        {
          "output_type": "stream",
          "name": "stderr",
          "text": [
            "\rEpoch 3/15 Train:   0%|          | 0/11 [00:00<?, ?it/s]"
          ]
        },
        {
          "output_type": "stream",
          "name": "stderr",
          "text": [
            "\rEpoch 3/15 Train:   9%|\u2589         | 1/11 [00:00<00:03,  3.05it/s]"
          ]
        },
        {
          "output_type": "stream",
          "name": "stderr",
          "text": [
            "\rEpoch 3/15 Train:  27%|\u2588\u2588\u258b       | 3/11 [00:00<00:01,  6.38it/s]"
          ]
        },
        {
          "output_type": "stream",
          "name": "stderr",
          "text": [
            "\rEpoch 3/15 Train:  45%|\u2588\u2588\u2588\u2588\u258c     | 5/11 [00:00<00:00,  7.86it/s]"
          ]
        },
        {
          "output_type": "stream",
          "name": "stderr",
          "text": [
            "\rEpoch 3/15 Train:  64%|\u2588\u2588\u2588\u2588\u2588\u2588\u258e   | 7/11 [00:00<00:00,  8.72it/s]"
          ]
        },
        {
          "output_type": "stream",
          "name": "stderr",
          "text": [
            "\rEpoch 3/15 Train:  82%|\u2588\u2588\u2588\u2588\u2588\u2588\u2588\u2588\u258f | 9/11 [00:01<00:00,  9.24it/s]"
          ]
        },
        {
          "output_type": "stream",
          "name": "stderr",
          "text": [
            "\rEpoch 3/15 Train:  91%|\u2588\u2588\u2588\u2588\u2588\u2588\u2588\u2588\u2588 | 10/11 [00:01<00:00,  9.38it/s]"
          ]
        },
        {
          "output_type": "stream",
          "name": "stderr",
          "text": [
            "\rEpoch 3/15 Train: 100%|\u2588\u2588\u2588\u2588\u2588\u2588\u2588\u2588\u2588\u2588| 11/11 [00:01<00:00,  8.52it/s]"
          ]
        },
        {
          "output_type": "stream",
          "name": "stderr",
          "text": [
            "\n"
          ]
        },
        {
          "output_type": "stream",
          "name": "stderr",
          "text": [
            "\rVal:   0%|          | 0/3 [00:00<?, ?it/s]"
          ]
        },
        {
          "output_type": "stream",
          "name": "stderr",
          "text": [
            "\rVal:  33%|\u2588\u2588\u2588\u258e      | 1/3 [00:00<00:00,  3.93it/s]"
          ]
        },
        {
          "output_type": "stream",
          "name": "stderr",
          "text": [
            "\rVal: 100%|\u2588\u2588\u2588\u2588\u2588\u2588\u2588\u2588\u2588\u2588| 3/3 [00:00<00:00,  9.53it/s]"
          ]
        },
        {
          "output_type": "stream",
          "name": "stderr",
          "text": [
            "\rVal: 100%|\u2588\u2588\u2588\u2588\u2588\u2588\u2588\u2588\u2588\u2588| 3/3 [00:00<00:00,  7.44it/s]"
          ]
        },
        {
          "output_type": "stream",
          "name": "stderr",
          "text": [
            "\n"
          ]
        },
        {
          "output_type": "stream",
          "name": "stdout",
          "text": [
            "Epoch 3: TrainBCE=0.7322, ValWLL=0.4697, LR=2.00e-05\n"
          ]
        },
        {
          "output_type": "stream",
          "name": "stderr",
          "text": [
            "\rEpoch 4/15 Train:   0%|          | 0/11 [00:00<?, ?it/s]"
          ]
        },
        {
          "output_type": "stream",
          "name": "stderr",
          "text": [
            "\rEpoch 4/15 Train:   9%|\u2589         | 1/11 [00:00<00:03,  2.65it/s]"
          ]
        },
        {
          "output_type": "stream",
          "name": "stderr",
          "text": [
            "\rEpoch 4/15 Train:  18%|\u2588\u258a        | 2/11 [00:00<00:01,  4.65it/s]"
          ]
        },
        {
          "output_type": "stream",
          "name": "stderr",
          "text": [
            "\rEpoch 4/15 Train:  27%|\u2588\u2588\u258b       | 3/11 [00:00<00:01,  6.15it/s]"
          ]
        },
        {
          "output_type": "stream",
          "name": "stderr",
          "text": [
            "\rEpoch 4/15 Train:  45%|\u2588\u2588\u2588\u2588\u258c     | 5/11 [00:00<00:00,  7.89it/s]"
          ]
        },
        {
          "output_type": "stream",
          "name": "stderr",
          "text": [
            "\rEpoch 4/15 Train:  64%|\u2588\u2588\u2588\u2588\u2588\u2588\u258e   | 7/11 [00:00<00:00,  8.74it/s]"
          ]
        },
        {
          "output_type": "stream",
          "name": "stderr",
          "text": [
            "\rEpoch 4/15 Train:  82%|\u2588\u2588\u2588\u2588\u2588\u2588\u2588\u2588\u258f | 9/11 [00:01<00:00,  9.20it/s]"
          ]
        },
        {
          "output_type": "stream",
          "name": "stderr",
          "text": [
            "\rEpoch 4/15 Train: 100%|\u2588\u2588\u2588\u2588\u2588\u2588\u2588\u2588\u2588\u2588| 11/11 [00:01<00:00, 10.72it/s]"
          ]
        },
        {
          "output_type": "stream",
          "name": "stderr",
          "text": [
            "\rEpoch 4/15 Train: 100%|\u2588\u2588\u2588\u2588\u2588\u2588\u2588\u2588\u2588\u2588| 11/11 [00:01<00:00,  8.09it/s]"
          ]
        },
        {
          "output_type": "stream",
          "name": "stderr",
          "text": [
            "\n"
          ]
        },
        {
          "output_type": "stream",
          "name": "stderr",
          "text": [
            "\rVal:   0%|          | 0/3 [00:00<?, ?it/s]"
          ]
        },
        {
          "output_type": "stream",
          "name": "stderr",
          "text": [
            "\rVal:  33%|\u2588\u2588\u2588\u258e      | 1/3 [00:00<00:00,  3.97it/s]"
          ]
        },
        {
          "output_type": "stream",
          "name": "stderr",
          "text": [
            "\rVal: 100%|\u2588\u2588\u2588\u2588\u2588\u2588\u2588\u2588\u2588\u2588| 3/3 [00:00<00:00,  9.63it/s]"
          ]
        },
        {
          "output_type": "stream",
          "name": "stderr",
          "text": [
            "\rVal: 100%|\u2588\u2588\u2588\u2588\u2588\u2588\u2588\u2588\u2588\u2588| 3/3 [00:00<00:00,  7.51it/s]"
          ]
        },
        {
          "output_type": "stream",
          "name": "stderr",
          "text": [
            "\n"
          ]
        },
        {
          "output_type": "stream",
          "name": "stdout",
          "text": [
            "Epoch 4: TrainBCE=0.7058, ValWLL=0.4663, LR=2.00e-05\n"
          ]
        },
        {
          "output_type": "stream",
          "name": "stderr",
          "text": [
            "\rEpoch 5/15 Train:   0%|          | 0/11 [00:00<?, ?it/s]"
          ]
        },
        {
          "output_type": "stream",
          "name": "stderr",
          "text": [
            "\rEpoch 5/15 Train:   9%|\u2589         | 1/11 [00:00<00:03,  2.88it/s]"
          ]
        },
        {
          "output_type": "stream",
          "name": "stderr",
          "text": [
            "\rEpoch 5/15 Train:  18%|\u2588\u258a        | 2/11 [00:00<00:01,  4.95it/s]"
          ]
        },
        {
          "output_type": "stream",
          "name": "stderr",
          "text": [
            "\rEpoch 5/15 Train:  36%|\u2588\u2588\u2588\u258b      | 4/11 [00:00<00:00,  7.25it/s]"
          ]
        },
        {
          "output_type": "stream",
          "name": "stderr",
          "text": [
            "\rEpoch 5/15 Train:  55%|\u2588\u2588\u2588\u2588\u2588\u258d    | 6/11 [00:00<00:00,  8.35it/s]"
          ]
        },
        {
          "output_type": "stream",
          "name": "stderr",
          "text": [
            "\rEpoch 5/15 Train:  73%|\u2588\u2588\u2588\u2588\u2588\u2588\u2588\u258e  | 8/11 [00:01<00:00,  8.95it/s]"
          ]
        },
        {
          "output_type": "stream",
          "name": "stderr",
          "text": [
            "\rEpoch 5/15 Train:  82%|\u2588\u2588\u2588\u2588\u2588\u2588\u2588\u2588\u258f | 9/11 [00:01<00:00,  9.13it/s]"
          ]
        },
        {
          "output_type": "stream",
          "name": "stderr",
          "text": [
            "\rEpoch 5/15 Train:  91%|\u2588\u2588\u2588\u2588\u2588\u2588\u2588\u2588\u2588 | 10/11 [00:01<00:00,  9.32it/s]"
          ]
        },
        {
          "output_type": "stream",
          "name": "stderr",
          "text": [
            "\rEpoch 5/15 Train: 100%|\u2588\u2588\u2588\u2588\u2588\u2588\u2588\u2588\u2588\u2588| 11/11 [00:01<00:00,  8.21it/s]"
          ]
        },
        {
          "output_type": "stream",
          "name": "stderr",
          "text": [
            "\n"
          ]
        },
        {
          "output_type": "stream",
          "name": "stderr",
          "text": [
            "\rVal:   0%|          | 0/3 [00:00<?, ?it/s]"
          ]
        },
        {
          "output_type": "stream",
          "name": "stderr",
          "text": [
            "\rVal:  33%|\u2588\u2588\u2588\u258e      | 1/3 [00:00<00:00,  3.96it/s]"
          ]
        },
        {
          "output_type": "stream",
          "name": "stderr",
          "text": [
            "\rVal: 100%|\u2588\u2588\u2588\u2588\u2588\u2588\u2588\u2588\u2588\u2588| 3/3 [00:00<00:00,  9.57it/s]"
          ]
        },
        {
          "output_type": "stream",
          "name": "stderr",
          "text": [
            "\rVal: 100%|\u2588\u2588\u2588\u2588\u2588\u2588\u2588\u2588\u2588\u2588| 3/3 [00:00<00:00,  7.52it/s]"
          ]
        },
        {
          "output_type": "stream",
          "name": "stderr",
          "text": [
            "\n"
          ]
        },
        {
          "output_type": "stream",
          "name": "stdout",
          "text": [
            "Epoch 5: TrainBCE=0.7344, ValWLL=0.4657, LR=2.00e-05\n"
          ]
        },
        {
          "output_type": "stream",
          "name": "stderr",
          "text": [
            "\rEpoch 6/15 Train:   0%|          | 0/11 [00:00<?, ?it/s]"
          ]
        },
        {
          "output_type": "stream",
          "name": "stderr",
          "text": [
            "\rEpoch 6/15 Train:   9%|\u2589         | 1/11 [00:00<00:03,  2.90it/s]"
          ]
        },
        {
          "output_type": "stream",
          "name": "stderr",
          "text": [
            "\rEpoch 6/15 Train:  18%|\u2588\u258a        | 2/11 [00:00<00:01,  4.96it/s]"
          ]
        },
        {
          "output_type": "stream",
          "name": "stderr",
          "text": [
            "\rEpoch 6/15 Train:  36%|\u2588\u2588\u2588\u258b      | 4/11 [00:00<00:00,  7.27it/s]"
          ]
        },
        {
          "output_type": "stream",
          "name": "stderr",
          "text": [
            "\rEpoch 6/15 Train:  55%|\u2588\u2588\u2588\u2588\u2588\u258d    | 6/11 [00:00<00:00,  8.37it/s]"
          ]
        },
        {
          "output_type": "stream",
          "name": "stderr",
          "text": [
            "\rEpoch 6/15 Train:  73%|\u2588\u2588\u2588\u2588\u2588\u2588\u2588\u258e  | 8/11 [00:01<00:00,  8.97it/s]"
          ]
        },
        {
          "output_type": "stream",
          "name": "stderr",
          "text": [
            "\rEpoch 6/15 Train:  82%|\u2588\u2588\u2588\u2588\u2588\u2588\u2588\u2588\u258f | 9/11 [00:01<00:00,  9.15it/s]"
          ]
        },
        {
          "output_type": "stream",
          "name": "stderr",
          "text": [
            "\rEpoch 6/15 Train:  91%|\u2588\u2588\u2588\u2588\u2588\u2588\u2588\u2588\u2588 | 10/11 [00:01<00:00,  9.34it/s]"
          ]
        },
        {
          "output_type": "stream",
          "name": "stderr",
          "text": [
            "\rEpoch 6/15 Train: 100%|\u2588\u2588\u2588\u2588\u2588\u2588\u2588\u2588\u2588\u2588| 11/11 [00:01<00:00,  8.29it/s]"
          ]
        },
        {
          "output_type": "stream",
          "name": "stderr",
          "text": [
            "\n"
          ]
        },
        {
          "output_type": "stream",
          "name": "stderr",
          "text": [
            "\rVal:   0%|          | 0/3 [00:00<?, ?it/s]"
          ]
        },
        {
          "output_type": "stream",
          "name": "stderr",
          "text": [
            "\rVal:  33%|\u2588\u2588\u2588\u258e      | 1/3 [00:00<00:00,  3.75it/s]"
          ]
        },
        {
          "output_type": "stream",
          "name": "stderr",
          "text": [
            "\rVal: 100%|\u2588\u2588\u2588\u2588\u2588\u2588\u2588\u2588\u2588\u2588| 3/3 [00:00<00:00,  9.27it/s]"
          ]
        },
        {
          "output_type": "stream",
          "name": "stderr",
          "text": [
            "\rVal: 100%|\u2588\u2588\u2588\u2588\u2588\u2588\u2588\u2588\u2588\u2588| 3/3 [00:00<00:00,  7.29it/s]"
          ]
        },
        {
          "output_type": "stream",
          "name": "stderr",
          "text": [
            "\n"
          ]
        },
        {
          "output_type": "stream",
          "name": "stdout",
          "text": [
            "Epoch 6: TrainBCE=0.7644, ValWLL=0.4659, LR=2.00e-05\n"
          ]
        },
        {
          "output_type": "stream",
          "name": "stderr",
          "text": [
            "\rEpoch 7/15 Train:   0%|          | 0/11 [00:00<?, ?it/s]"
          ]
        },
        {
          "output_type": "stream",
          "name": "stderr",
          "text": [
            "\rEpoch 7/15 Train:   9%|\u2589         | 1/11 [00:00<00:03,  2.72it/s]"
          ]
        },
        {
          "output_type": "stream",
          "name": "stderr",
          "text": [
            "\rEpoch 7/15 Train:  18%|\u2588\u258a        | 2/11 [00:00<00:01,  4.73it/s]"
          ]
        },
        {
          "output_type": "stream",
          "name": "stderr",
          "text": [
            "\rEpoch 7/15 Train:  36%|\u2588\u2588\u2588\u258b      | 4/11 [00:00<00:00,  7.07it/s]"
          ]
        },
        {
          "output_type": "stream",
          "name": "stderr",
          "text": [
            "\rEpoch 7/15 Train:  45%|\u2588\u2588\u2588\u2588\u258c     | 5/11 [00:00<00:00,  7.77it/s]"
          ]
        },
        {
          "output_type": "stream",
          "name": "stderr",
          "text": [
            "\rEpoch 7/15 Train:  64%|\u2588\u2588\u2588\u2588\u2588\u2588\u258e   | 7/11 [00:00<00:00,  8.70it/s]"
          ]
        },
        {
          "output_type": "stream",
          "name": "stderr",
          "text": [
            "\rEpoch 7/15 Train:  82%|\u2588\u2588\u2588\u2588\u2588\u2588\u2588\u2588\u258f | 9/11 [00:01<00:00,  9.13it/s]"
          ]
        },
        {
          "output_type": "stream",
          "name": "stderr",
          "text": [
            "\rEpoch 7/15 Train:  91%|\u2588\u2588\u2588\u2588\u2588\u2588\u2588\u2588\u2588 | 10/11 [00:01<00:00,  9.30it/s]"
          ]
        },
        {
          "output_type": "stream",
          "name": "stderr",
          "text": [
            "\rEpoch 7/15 Train: 100%|\u2588\u2588\u2588\u2588\u2588\u2588\u2588\u2588\u2588\u2588| 11/11 [00:01<00:00,  8.12it/s]"
          ]
        },
        {
          "output_type": "stream",
          "name": "stderr",
          "text": [
            "\n"
          ]
        },
        {
          "output_type": "stream",
          "name": "stderr",
          "text": [
            "\rVal:   0%|          | 0/3 [00:00<?, ?it/s]"
          ]
        },
        {
          "output_type": "stream",
          "name": "stderr",
          "text": [
            "\rVal:  33%|\u2588\u2588\u2588\u258e      | 1/3 [00:00<00:00,  3.78it/s]"
          ]
        },
        {
          "output_type": "stream",
          "name": "stderr",
          "text": [
            "\rVal: 100%|\u2588\u2588\u2588\u2588\u2588\u2588\u2588\u2588\u2588\u2588| 3/3 [00:00<00:00,  9.28it/s]"
          ]
        },
        {
          "output_type": "stream",
          "name": "stderr",
          "text": [
            "\rVal: 100%|\u2588\u2588\u2588\u2588\u2588\u2588\u2588\u2588\u2588\u2588| 3/3 [00:00<00:00,  7.21it/s]"
          ]
        },
        {
          "output_type": "stream",
          "name": "stderr",
          "text": [
            "\n"
          ]
        },
        {
          "output_type": "stream",
          "name": "stdout",
          "text": [
            "Epoch 7: TrainBCE=0.7296, ValWLL=0.4583, LR=2.00e-05\n"
          ]
        },
        {
          "output_type": "stream",
          "name": "stderr",
          "text": [
            "\rEpoch 8/15 Train:   0%|          | 0/11 [00:00<?, ?it/s]"
          ]
        },
        {
          "output_type": "stream",
          "name": "stderr",
          "text": [
            "\rEpoch 8/15 Train:   9%|\u2589         | 1/11 [00:00<00:03,  2.87it/s]"
          ]
        },
        {
          "output_type": "stream",
          "name": "stderr",
          "text": [
            "\rEpoch 8/15 Train:  18%|\u2588\u258a        | 2/11 [00:00<00:01,  4.92it/s]"
          ]
        },
        {
          "output_type": "stream",
          "name": "stderr",
          "text": [
            "\rEpoch 8/15 Train:  27%|\u2588\u2588\u258b       | 3/11 [00:00<00:01,  6.36it/s]"
          ]
        },
        {
          "output_type": "stream",
          "name": "stderr",
          "text": [
            "\rEpoch 8/15 Train:  45%|\u2588\u2588\u2588\u2588\u258c     | 5/11 [00:00<00:00,  8.03it/s]"
          ]
        },
        {
          "output_type": "stream",
          "name": "stderr",
          "text": [
            "\rEpoch 8/15 Train:  64%|\u2588\u2588\u2588\u2588\u2588\u2588\u258e   | 7/11 [00:00<00:00,  8.81it/s]"
          ]
        },
        {
          "output_type": "stream",
          "name": "stderr",
          "text": [
            "\rEpoch 8/15 Train:  82%|\u2588\u2588\u2588\u2588\u2588\u2588\u2588\u2588\u258f | 9/11 [00:01<00:00,  9.21it/s]"
          ]
        },
        {
          "output_type": "stream",
          "name": "stderr",
          "text": [
            "\rEpoch 8/15 Train:  91%|\u2588\u2588\u2588\u2588\u2588\u2588\u2588\u2588\u2588 | 10/11 [00:01<00:00,  9.36it/s]"
          ]
        },
        {
          "output_type": "stream",
          "name": "stderr",
          "text": [
            "\rEpoch 8/15 Train: 100%|\u2588\u2588\u2588\u2588\u2588\u2588\u2588\u2588\u2588\u2588| 11/11 [00:01<00:00,  6.10it/s]"
          ]
        },
        {
          "output_type": "stream",
          "name": "stderr",
          "text": [
            "\rEpoch 8/15 Train: 100%|\u2588\u2588\u2588\u2588\u2588\u2588\u2588\u2588\u2588\u2588| 11/11 [00:01<00:00,  6.60it/s]"
          ]
        },
        {
          "output_type": "stream",
          "name": "stderr",
          "text": [
            "\n"
          ]
        },
        {
          "output_type": "stream",
          "name": "stderr",
          "text": [
            "\rVal:   0%|          | 0/3 [00:00<?, ?it/s]"
          ]
        },
        {
          "output_type": "stream",
          "name": "stderr",
          "text": [
            "\rVal:  33%|\u2588\u2588\u2588\u258e      | 1/3 [00:00<00:00,  4.04it/s]"
          ]
        },
        {
          "output_type": "stream",
          "name": "stderr",
          "text": [
            "\rVal: 100%|\u2588\u2588\u2588\u2588\u2588\u2588\u2588\u2588\u2588\u2588| 3/3 [00:00<00:00,  9.76it/s]"
          ]
        },
        {
          "output_type": "stream",
          "name": "stderr",
          "text": [
            "\rVal: 100%|\u2588\u2588\u2588\u2588\u2588\u2588\u2588\u2588\u2588\u2588| 3/3 [00:00<00:00,  7.53it/s]"
          ]
        },
        {
          "output_type": "stream",
          "name": "stderr",
          "text": [
            "\n"
          ]
        },
        {
          "output_type": "stream",
          "name": "stdout",
          "text": [
            "Epoch 8: TrainBCE=0.7187, ValWLL=0.4538, LR=2.00e-05\n"
          ]
        },
        {
          "output_type": "stream",
          "name": "stderr",
          "text": [
            "\rEpoch 9/15 Train:   0%|          | 0/11 [00:00<?, ?it/s]"
          ]
        },
        {
          "output_type": "stream",
          "name": "stderr",
          "text": [
            "\rEpoch 9/15 Train:   9%|\u2589         | 1/11 [00:00<00:03,  2.80it/s]"
          ]
        },
        {
          "output_type": "stream",
          "name": "stderr",
          "text": [
            "\rEpoch 9/15 Train:  18%|\u2588\u258a        | 2/11 [00:00<00:01,  4.83it/s]"
          ]
        },
        {
          "output_type": "stream",
          "name": "stderr",
          "text": [
            "\rEpoch 9/15 Train:  27%|\u2588\u2588\u258b       | 3/11 [00:00<00:01,  6.32it/s]"
          ]
        },
        {
          "output_type": "stream",
          "name": "stderr",
          "text": [
            "\rEpoch 9/15 Train:  45%|\u2588\u2588\u2588\u2588\u258c     | 5/11 [00:00<00:00,  7.97it/s]"
          ]
        },
        {
          "output_type": "stream",
          "name": "stderr",
          "text": [
            "\rEpoch 9/15 Train:  64%|\u2588\u2588\u2588\u2588\u2588\u2588\u258e   | 7/11 [00:00<00:00,  8.79it/s]"
          ]
        },
        {
          "output_type": "stream",
          "name": "stderr",
          "text": [
            "\rEpoch 9/15 Train:  73%|\u2588\u2588\u2588\u2588\u2588\u2588\u2588\u258e  | 8/11 [00:01<00:00,  9.05it/s]"
          ]
        },
        {
          "output_type": "stream",
          "name": "stderr",
          "text": [
            "\rEpoch 9/15 Train:  82%|\u2588\u2588\u2588\u2588\u2588\u2588\u2588\u2588\u258f | 9/11 [00:01<00:00,  9.25it/s]"
          ]
        },
        {
          "output_type": "stream",
          "name": "stderr",
          "text": [
            "\rEpoch 9/15 Train:  91%|\u2588\u2588\u2588\u2588\u2588\u2588\u2588\u2588\u2588 | 10/11 [00:01<00:00,  9.43it/s]"
          ]
        },
        {
          "output_type": "stream",
          "name": "stderr",
          "text": [
            "\rEpoch 9/15 Train: 100%|\u2588\u2588\u2588\u2588\u2588\u2588\u2588\u2588\u2588\u2588| 11/11 [00:01<00:00,  8.16it/s]"
          ]
        },
        {
          "output_type": "stream",
          "name": "stderr",
          "text": [
            "\n"
          ]
        },
        {
          "output_type": "stream",
          "name": "stderr",
          "text": [
            "\rVal:   0%|          | 0/3 [00:00<?, ?it/s]"
          ]
        },
        {
          "output_type": "stream",
          "name": "stderr",
          "text": [
            "\rVal:  33%|\u2588\u2588\u2588\u258e      | 1/3 [00:00<00:00,  3.48it/s]"
          ]
        },
        {
          "output_type": "stream",
          "name": "stderr",
          "text": [
            "\rVal: 100%|\u2588\u2588\u2588\u2588\u2588\u2588\u2588\u2588\u2588\u2588| 3/3 [00:00<00:00,  8.87it/s]"
          ]
        },
        {
          "output_type": "stream",
          "name": "stderr",
          "text": [
            "\rVal: 100%|\u2588\u2588\u2588\u2588\u2588\u2588\u2588\u2588\u2588\u2588| 3/3 [00:00<00:00,  6.82it/s]"
          ]
        },
        {
          "output_type": "stream",
          "name": "stderr",
          "text": [
            "\n"
          ]
        },
        {
          "output_type": "stream",
          "name": "stdout",
          "text": [
            "Epoch 9: TrainBCE=0.7108, ValWLL=0.4523, LR=2.00e-05\n"
          ]
        },
        {
          "output_type": "stream",
          "name": "stderr",
          "text": [
            "\rEpoch 10/15 Train:   0%|          | 0/11 [00:00<?, ?it/s]"
          ]
        },
        {
          "output_type": "stream",
          "name": "stderr",
          "text": [
            "\rEpoch 10/15 Train:   9%|\u2589         | 1/11 [00:00<00:03,  2.85it/s]"
          ]
        },
        {
          "output_type": "stream",
          "name": "stderr",
          "text": [
            "\rEpoch 10/15 Train:  18%|\u2588\u258a        | 2/11 [00:00<00:01,  4.89it/s]"
          ]
        },
        {
          "output_type": "stream",
          "name": "stderr",
          "text": [
            "\rEpoch 10/15 Train:  27%|\u2588\u2588\u258b       | 3/11 [00:00<00:01,  6.37it/s]"
          ]
        },
        {
          "output_type": "stream",
          "name": "stderr",
          "text": [
            "\rEpoch 10/15 Train:  45%|\u2588\u2588\u2588\u2588\u258c     | 5/11 [00:00<00:00,  8.03it/s]"
          ]
        },
        {
          "output_type": "stream",
          "name": "stderr",
          "text": [
            "\rEpoch 10/15 Train:  64%|\u2588\u2588\u2588\u2588\u2588\u2588\u258e   | 7/11 [00:00<00:00,  8.82it/s]"
          ]
        },
        {
          "output_type": "stream",
          "name": "stderr",
          "text": [
            "\rEpoch 10/15 Train:  82%|\u2588\u2588\u2588\u2588\u2588\u2588\u2588\u2588\u258f | 9/11 [00:01<00:00,  9.24it/s]"
          ]
        },
        {
          "output_type": "stream",
          "name": "stderr",
          "text": [
            "\rEpoch 10/15 Train:  91%|\u2588\u2588\u2588\u2588\u2588\u2588\u2588\u2588\u2588 | 10/11 [00:01<00:00,  9.38it/s]"
          ]
        },
        {
          "output_type": "stream",
          "name": "stderr",
          "text": [
            "\rEpoch 10/15 Train: 100%|\u2588\u2588\u2588\u2588\u2588\u2588\u2588\u2588\u2588\u2588| 11/11 [00:01<00:00,  8.23it/s]"
          ]
        },
        {
          "output_type": "stream",
          "name": "stderr",
          "text": [
            "\n"
          ]
        },
        {
          "output_type": "stream",
          "name": "stderr",
          "text": [
            "\rVal:   0%|          | 0/3 [00:00<?, ?it/s]"
          ]
        },
        {
          "output_type": "stream",
          "name": "stderr",
          "text": [
            "\rVal:  33%|\u2588\u2588\u2588\u258e      | 1/3 [00:00<00:00,  3.95it/s]"
          ]
        },
        {
          "output_type": "stream",
          "name": "stderr",
          "text": [
            "\rVal: 100%|\u2588\u2588\u2588\u2588\u2588\u2588\u2588\u2588\u2588\u2588| 3/3 [00:00<00:00,  9.55it/s]"
          ]
        },
        {
          "output_type": "stream",
          "name": "stderr",
          "text": [
            "\rVal: 100%|\u2588\u2588\u2588\u2588\u2588\u2588\u2588\u2588\u2588\u2588| 3/3 [00:00<00:00,  7.31it/s]"
          ]
        },
        {
          "output_type": "stream",
          "name": "stderr",
          "text": [
            "\n"
          ]
        },
        {
          "output_type": "stream",
          "name": "stdout",
          "text": [
            "Epoch 10: TrainBCE=0.6971, ValWLL=0.4525, LR=2.00e-05\n"
          ]
        },
        {
          "output_type": "stream",
          "name": "stderr",
          "text": [
            "\rEpoch 11/15 Train:   0%|          | 0/11 [00:00<?, ?it/s]"
          ]
        },
        {
          "output_type": "stream",
          "name": "stderr",
          "text": [
            "\rEpoch 11/15 Train:   9%|\u2589         | 1/11 [00:00<00:03,  2.71it/s]"
          ]
        },
        {
          "output_type": "stream",
          "name": "stderr",
          "text": [
            "\rEpoch 11/15 Train:  18%|\u2588\u258a        | 2/11 [00:00<00:01,  4.73it/s]"
          ]
        },
        {
          "output_type": "stream",
          "name": "stderr",
          "text": [
            "\rEpoch 11/15 Train:  36%|\u2588\u2588\u2588\u258b      | 4/11 [00:00<00:00,  7.08it/s]"
          ]
        },
        {
          "output_type": "stream",
          "name": "stderr",
          "text": [
            "\rEpoch 11/15 Train:  55%|\u2588\u2588\u2588\u2588\u2588\u258d    | 6/11 [00:00<00:00,  8.21it/s]"
          ]
        },
        {
          "output_type": "stream",
          "name": "stderr",
          "text": [
            "\rEpoch 11/15 Train:  64%|\u2588\u2588\u2588\u2588\u2588\u2588\u258e   | 7/11 [00:00<00:00,  8.59it/s]"
          ]
        },
        {
          "output_type": "stream",
          "name": "stderr",
          "text": [
            "\rEpoch 11/15 Train:  82%|\u2588\u2588\u2588\u2588\u2588\u2588\u2588\u2588\u258f | 9/11 [00:01<00:00,  9.12it/s]"
          ]
        },
        {
          "output_type": "stream",
          "name": "stderr",
          "text": [
            "\rEpoch 11/15 Train:  91%|\u2588\u2588\u2588\u2588\u2588\u2588\u2588\u2588\u2588 | 10/11 [00:01<00:00,  9.29it/s]"
          ]
        },
        {
          "output_type": "stream",
          "name": "stderr",
          "text": [
            "\rEpoch 11/15 Train: 100%|\u2588\u2588\u2588\u2588\u2588\u2588\u2588\u2588\u2588\u2588| 11/11 [00:01<00:00,  8.09it/s]"
          ]
        },
        {
          "output_type": "stream",
          "name": "stderr",
          "text": [
            "\n"
          ]
        },
        {
          "output_type": "stream",
          "name": "stderr",
          "text": [
            "\rVal:   0%|          | 0/3 [00:00<?, ?it/s]"
          ]
        },
        {
          "output_type": "stream",
          "name": "stderr",
          "text": [
            "\rVal:  33%|\u2588\u2588\u2588\u258e      | 1/3 [00:00<00:00,  3.94it/s]"
          ]
        },
        {
          "output_type": "stream",
          "name": "stderr",
          "text": [
            "\rVal: 100%|\u2588\u2588\u2588\u2588\u2588\u2588\u2588\u2588\u2588\u2588| 3/3 [00:00<00:00,  9.54it/s]"
          ]
        },
        {
          "output_type": "stream",
          "name": "stderr",
          "text": [
            "\rVal: 100%|\u2588\u2588\u2588\u2588\u2588\u2588\u2588\u2588\u2588\u2588| 3/3 [00:00<00:00,  7.43it/s]"
          ]
        },
        {
          "output_type": "stream",
          "name": "stderr",
          "text": [
            "\n"
          ]
        },
        {
          "output_type": "stream",
          "name": "stdout",
          "text": [
            "Epoch 11: TrainBCE=0.7084, ValWLL=0.4533, LR=2.00e-05\n"
          ]
        },
        {
          "output_type": "stream",
          "name": "stderr",
          "text": [
            "\rEpoch 12/15 Train:   0%|          | 0/11 [00:00<?, ?it/s]"
          ]
        },
        {
          "output_type": "stream",
          "name": "stderr",
          "text": [
            "\rEpoch 12/15 Train:   9%|\u2589         | 1/11 [00:00<00:03,  2.85it/s]"
          ]
        },
        {
          "output_type": "stream",
          "name": "stderr",
          "text": [
            "\rEpoch 12/15 Train:  18%|\u2588\u258a        | 2/11 [00:00<00:01,  4.88it/s]"
          ]
        },
        {
          "output_type": "stream",
          "name": "stderr",
          "text": [
            "\rEpoch 12/15 Train:  27%|\u2588\u2588\u258b       | 3/11 [00:00<00:01,  6.37it/s]"
          ]
        },
        {
          "output_type": "stream",
          "name": "stderr",
          "text": [
            "\rEpoch 12/15 Train:  45%|\u2588\u2588\u2588\u2588\u258c     | 5/11 [00:00<00:00,  8.03it/s]"
          ]
        },
        {
          "output_type": "stream",
          "name": "stderr",
          "text": [
            "\rEpoch 12/15 Train:  64%|\u2588\u2588\u2588\u2588\u2588\u2588\u258e   | 7/11 [00:00<00:00,  8.82it/s]"
          ]
        },
        {
          "output_type": "stream",
          "name": "stderr",
          "text": [
            "\rEpoch 12/15 Train:  82%|\u2588\u2588\u2588\u2588\u2588\u2588\u2588\u2588\u258f | 9/11 [00:01<00:00,  9.22it/s]"
          ]
        },
        {
          "output_type": "stream",
          "name": "stderr",
          "text": [
            "\rEpoch 12/15 Train:  91%|\u2588\u2588\u2588\u2588\u2588\u2588\u2588\u2588\u2588 | 10/11 [00:01<00:00,  9.36it/s]"
          ]
        },
        {
          "output_type": "stream",
          "name": "stderr",
          "text": [
            "\rEpoch 12/15 Train: 100%|\u2588\u2588\u2588\u2588\u2588\u2588\u2588\u2588\u2588\u2588| 11/11 [00:01<00:00,  8.19it/s]"
          ]
        },
        {
          "output_type": "stream",
          "name": "stderr",
          "text": [
            "\n"
          ]
        },
        {
          "output_type": "stream",
          "name": "stderr",
          "text": [
            "\rVal:   0%|          | 0/3 [00:00<?, ?it/s]"
          ]
        },
        {
          "output_type": "stream",
          "name": "stderr",
          "text": [
            "\rVal:  33%|\u2588\u2588\u2588\u258e      | 1/3 [00:00<00:00,  3.95it/s]"
          ]
        },
        {
          "output_type": "stream",
          "name": "stderr",
          "text": [
            "\rVal: 100%|\u2588\u2588\u2588\u2588\u2588\u2588\u2588\u2588\u2588\u2588| 3/3 [00:00<00:00,  9.59it/s]"
          ]
        },
        {
          "output_type": "stream",
          "name": "stderr",
          "text": [
            "\rVal: 100%|\u2588\u2588\u2588\u2588\u2588\u2588\u2588\u2588\u2588\u2588| 3/3 [00:00<00:00,  7.49it/s]"
          ]
        },
        {
          "output_type": "stream",
          "name": "stderr",
          "text": [
            "\n"
          ]
        },
        {
          "output_type": "stream",
          "name": "stdout",
          "text": [
            "Epoch 12: TrainBCE=0.7428, ValWLL=0.4553, LR=1.00e-05\n"
          ]
        },
        {
          "output_type": "stream",
          "name": "stderr",
          "text": [
            "\rEpoch 13/15 Train:   0%|          | 0/11 [00:00<?, ?it/s]"
          ]
        },
        {
          "output_type": "stream",
          "name": "stderr",
          "text": [
            "\rEpoch 13/15 Train:   9%|\u2589         | 1/11 [00:00<00:03,  2.94it/s]"
          ]
        },
        {
          "output_type": "stream",
          "name": "stderr",
          "text": [
            "\rEpoch 13/15 Train:  18%|\u2588\u258a        | 2/11 [00:00<00:01,  5.00it/s]"
          ]
        },
        {
          "output_type": "stream",
          "name": "stderr",
          "text": [
            "\rEpoch 13/15 Train:  27%|\u2588\u2588\u258b       | 3/11 [00:00<00:01,  6.47it/s]"
          ]
        },
        {
          "output_type": "stream",
          "name": "stderr",
          "text": [
            "\rEpoch 13/15 Train:  45%|\u2588\u2588\u2588\u2588\u258c     | 5/11 [00:00<00:00,  8.10it/s]"
          ]
        },
        {
          "output_type": "stream",
          "name": "stderr",
          "text": [
            "\rEpoch 13/15 Train:  64%|\u2588\u2588\u2588\u2588\u2588\u2588\u258e   | 7/11 [00:00<00:00,  8.86it/s]"
          ]
        },
        {
          "output_type": "stream",
          "name": "stderr",
          "text": [
            "\rEpoch 13/15 Train:  82%|\u2588\u2588\u2588\u2588\u2588\u2588\u2588\u2588\u258f | 9/11 [00:01<00:00,  9.27it/s]"
          ]
        },
        {
          "output_type": "stream",
          "name": "stderr",
          "text": [
            "\rEpoch 13/15 Train:  91%|\u2588\u2588\u2588\u2588\u2588\u2588\u2588\u2588\u2588 | 10/11 [00:01<00:00,  9.41it/s]"
          ]
        },
        {
          "output_type": "stream",
          "name": "stderr",
          "text": [
            "\rEpoch 13/15 Train: 100%|\u2588\u2588\u2588\u2588\u2588\u2588\u2588\u2588\u2588\u2588| 11/11 [00:01<00:00,  8.23it/s]"
          ]
        },
        {
          "output_type": "stream",
          "name": "stderr",
          "text": [
            "\n"
          ]
        },
        {
          "output_type": "stream",
          "name": "stderr",
          "text": [
            "\rVal:   0%|          | 0/3 [00:00<?, ?it/s]"
          ]
        },
        {
          "output_type": "stream",
          "name": "stderr",
          "text": [
            "\rVal:  33%|\u2588\u2588\u2588\u258e      | 1/3 [00:00<00:00,  3.90it/s]"
          ]
        },
        {
          "output_type": "stream",
          "name": "stderr",
          "text": [
            "\rVal: 100%|\u2588\u2588\u2588\u2588\u2588\u2588\u2588\u2588\u2588\u2588| 3/3 [00:00<00:00,  9.47it/s]"
          ]
        },
        {
          "output_type": "stream",
          "name": "stderr",
          "text": [
            "\rVal: 100%|\u2588\u2588\u2588\u2588\u2588\u2588\u2588\u2588\u2588\u2588| 3/3 [00:00<00:00,  7.39it/s]"
          ]
        },
        {
          "output_type": "stream",
          "name": "stderr",
          "text": [
            "\n"
          ]
        },
        {
          "output_type": "stream",
          "name": "stdout",
          "text": [
            "Epoch 13: TrainBCE=0.7132, ValWLL=0.4575, LR=1.00e-05\n"
          ]
        },
        {
          "output_type": "stream",
          "name": "stderr",
          "text": [
            "\rEpoch 14/15 Train:   0%|          | 0/11 [00:00<?, ?it/s]"
          ]
        },
        {
          "output_type": "stream",
          "name": "stderr",
          "text": [
            "\rEpoch 14/15 Train:   9%|\u2589         | 1/11 [00:00<00:03,  2.60it/s]"
          ]
        },
        {
          "output_type": "stream",
          "name": "stderr",
          "text": [
            "\rEpoch 14/15 Train:  18%|\u2588\u258a        | 2/11 [00:00<00:01,  4.58it/s]"
          ]
        },
        {
          "output_type": "stream",
          "name": "stderr",
          "text": [
            "\rEpoch 14/15 Train:  36%|\u2588\u2588\u2588\u258b      | 4/11 [00:00<00:01,  6.95it/s]"
          ]
        },
        {
          "output_type": "stream",
          "name": "stderr",
          "text": [
            "\rEpoch 14/15 Train:  55%|\u2588\u2588\u2588\u2588\u2588\u258d    | 6/11 [00:00<00:00,  8.14it/s]"
          ]
        },
        {
          "output_type": "stream",
          "name": "stderr",
          "text": [
            "\rEpoch 14/15 Train:  73%|\u2588\u2588\u2588\u2588\u2588\u2588\u2588\u258e  | 8/11 [00:01<00:00,  8.81it/s]"
          ]
        },
        {
          "output_type": "stream",
          "name": "stderr",
          "text": [
            "\rEpoch 14/15 Train:  82%|\u2588\u2588\u2588\u2588\u2588\u2588\u2588\u2588\u258f | 9/11 [00:01<00:00,  9.04it/s]"
          ]
        },
        {
          "output_type": "stream",
          "name": "stderr",
          "text": [
            "\rEpoch 14/15 Train:  91%|\u2588\u2588\u2588\u2588\u2588\u2588\u2588\u2588\u2588 | 10/11 [00:01<00:00,  9.25it/s]"
          ]
        },
        {
          "output_type": "stream",
          "name": "stderr",
          "text": [
            "\rEpoch 14/15 Train: 100%|\u2588\u2588\u2588\u2588\u2588\u2588\u2588\u2588\u2588\u2588| 11/11 [00:01<00:00,  7.97it/s]"
          ]
        },
        {
          "output_type": "stream",
          "name": "stderr",
          "text": [
            "\n"
          ]
        },
        {
          "output_type": "stream",
          "name": "stderr",
          "text": [
            "\rVal:   0%|          | 0/3 [00:00<?, ?it/s]"
          ]
        },
        {
          "output_type": "stream",
          "name": "stderr",
          "text": [
            "\rVal:  33%|\u2588\u2588\u2588\u258e      | 1/3 [00:00<00:00,  3.85it/s]"
          ]
        },
        {
          "output_type": "stream",
          "name": "stderr",
          "text": [
            "\rVal: 100%|\u2588\u2588\u2588\u2588\u2588\u2588\u2588\u2588\u2588\u2588| 3/3 [00:00<00:00,  9.45it/s]"
          ]
        },
        {
          "output_type": "stream",
          "name": "stderr",
          "text": [
            "\rVal: 100%|\u2588\u2588\u2588\u2588\u2588\u2588\u2588\u2588\u2588\u2588| 3/3 [00:00<00:00,  7.26it/s]"
          ]
        },
        {
          "output_type": "stream",
          "name": "stderr",
          "text": [
            "\n"
          ]
        },
        {
          "output_type": "stream",
          "name": "stdout",
          "text": [
            "Epoch 14: TrainBCE=0.7218, ValWLL=0.4600, LR=1.00e-05\nEarly stopping at epoch 14\nConvNeXt v2 Fold 4 best OOF WLL (val): 0.4523\n"
          ]
        },
        {
          "output_type": "stream",
          "name": "stderr",
          "text": [
            "\rFinal Val for OOF:   0%|          | 0/3 [00:00<?, ?it/s]"
          ]
        },
        {
          "output_type": "stream",
          "name": "stderr",
          "text": [
            "\rFinal Val for OOF:  33%|\u2588\u2588\u2588\u258e      | 1/3 [00:00<00:00,  3.81it/s]"
          ]
        },
        {
          "output_type": "stream",
          "name": "stderr",
          "text": [
            "\rFinal Val for OOF: 100%|\u2588\u2588\u2588\u2588\u2588\u2588\u2588\u2588\u2588\u2588| 3/3 [00:00<00:00,  9.32it/s]"
          ]
        },
        {
          "output_type": "stream",
          "name": "stderr",
          "text": [
            "\rFinal Val for OOF: 100%|\u2588\u2588\u2588\u2588\u2588\u2588\u2588\u2588\u2588\u2588| 3/3 [00:00<00:00,  7.25it/s]"
          ]
        },
        {
          "output_type": "stream",
          "name": "stderr",
          "text": [
            "\n"
          ]
        },
        {
          "output_type": "stream",
          "name": "stdout",
          "text": [
            "ConvNeXt v2 Fold 4 OOF WLL: 0.4600\n\n=== ConvNeXt v2 Fold 5/5 ===\n"
          ]
        },
        {
          "output_type": "stream",
          "name": "stderr",
          "text": [
            "\rEpoch 1/15 Train:   0%|          | 0/11 [00:00<?, ?it/s]"
          ]
        },
        {
          "output_type": "stream",
          "name": "stderr",
          "text": [
            "\rEpoch 1/15 Train:   9%|\u2589         | 1/11 [00:00<00:02,  3.35it/s]"
          ]
        },
        {
          "output_type": "stream",
          "name": "stderr",
          "text": [
            "\rEpoch 1/15 Train:  36%|\u2588\u2588\u2588\u258b      | 4/11 [00:00<00:00, 11.42it/s]"
          ]
        },
        {
          "output_type": "stream",
          "name": "stderr",
          "text": [
            "\rEpoch 1/15 Train:  64%|\u2588\u2588\u2588\u2588\u2588\u2588\u258e   | 7/11 [00:00<00:00, 16.48it/s]"
          ]
        },
        {
          "output_type": "stream",
          "name": "stderr",
          "text": [
            "\rEpoch 1/15 Train:  91%|\u2588\u2588\u2588\u2588\u2588\u2588\u2588\u2588\u2588 | 10/11 [00:00<00:00, 19.70it/s]"
          ]
        },
        {
          "output_type": "stream",
          "name": "stderr",
          "text": [
            "\rEpoch 1/15 Train: 100%|\u2588\u2588\u2588\u2588\u2588\u2588\u2588\u2588\u2588\u2588| 11/11 [00:00<00:00, 15.42it/s]"
          ]
        },
        {
          "output_type": "stream",
          "name": "stderr",
          "text": [
            "\n"
          ]
        },
        {
          "output_type": "stream",
          "name": "stderr",
          "text": [
            "\rVal:   0%|          | 0/3 [00:00<?, ?it/s]"
          ]
        },
        {
          "output_type": "stream",
          "name": "stderr",
          "text": [
            "\rVal:  33%|\u2588\u2588\u2588\u258e      | 1/3 [00:00<00:00,  3.97it/s]"
          ]
        },
        {
          "output_type": "stream",
          "name": "stderr",
          "text": [
            "\rVal: 100%|\u2588\u2588\u2588\u2588\u2588\u2588\u2588\u2588\u2588\u2588| 3/3 [00:00<00:00,  9.62it/s]"
          ]
        },
        {
          "output_type": "stream",
          "name": "stderr",
          "text": [
            "\rVal: 100%|\u2588\u2588\u2588\u2588\u2588\u2588\u2588\u2588\u2588\u2588| 3/3 [00:00<00:00,  7.36it/s]"
          ]
        },
        {
          "output_type": "stream",
          "name": "stderr",
          "text": [
            "\n"
          ]
        },
        {
          "output_type": "stream",
          "name": "stdout",
          "text": [
            "Epoch 1: TrainBCE=0.7533, ValWLL=0.4664, LR=2.00e-05\n"
          ]
        },
        {
          "output_type": "stream",
          "name": "stderr",
          "text": [
            "\rEpoch 2/15 Train:   0%|          | 0/11 [00:00<?, ?it/s]"
          ]
        },
        {
          "output_type": "stream",
          "name": "stderr",
          "text": [
            "\rEpoch 2/15 Train:   9%|\u2589         | 1/11 [00:00<00:03,  3.15it/s]"
          ]
        },
        {
          "output_type": "stream",
          "name": "stderr",
          "text": [
            "\rEpoch 2/15 Train:  36%|\u2588\u2588\u2588\u258b      | 4/11 [00:00<00:00, 10.91it/s]"
          ]
        },
        {
          "output_type": "stream",
          "name": "stderr",
          "text": [
            "\rEpoch 2/15 Train:  64%|\u2588\u2588\u2588\u2588\u2588\u2588\u258e   | 7/11 [00:00<00:00, 15.90it/s]"
          ]
        },
        {
          "output_type": "stream",
          "name": "stderr",
          "text": [
            "\rEpoch 2/15 Train:  91%|\u2588\u2588\u2588\u2588\u2588\u2588\u2588\u2588\u2588 | 10/11 [00:00<00:00, 19.30it/s]"
          ]
        },
        {
          "output_type": "stream",
          "name": "stderr",
          "text": [
            "\rEpoch 2/15 Train: 100%|\u2588\u2588\u2588\u2588\u2588\u2588\u2588\u2588\u2588\u2588| 11/11 [00:00<00:00, 15.07it/s]"
          ]
        },
        {
          "output_type": "stream",
          "name": "stderr",
          "text": [
            "\n"
          ]
        },
        {
          "output_type": "stream",
          "name": "stderr",
          "text": [
            "\rVal:   0%|          | 0/3 [00:00<?, ?it/s]"
          ]
        },
        {
          "output_type": "stream",
          "name": "stderr",
          "text": [
            "\rVal:  33%|\u2588\u2588\u2588\u258e      | 1/3 [00:00<00:00,  3.64it/s]"
          ]
        },
        {
          "output_type": "stream",
          "name": "stderr",
          "text": [
            "\rVal: 100%|\u2588\u2588\u2588\u2588\u2588\u2588\u2588\u2588\u2588\u2588| 3/3 [00:00<00:00,  9.07it/s]"
          ]
        },
        {
          "output_type": "stream",
          "name": "stderr",
          "text": [
            "\rVal: 100%|\u2588\u2588\u2588\u2588\u2588\u2588\u2588\u2588\u2588\u2588| 3/3 [00:00<00:00,  6.99it/s]"
          ]
        },
        {
          "output_type": "stream",
          "name": "stderr",
          "text": [
            "\n"
          ]
        },
        {
          "output_type": "stream",
          "name": "stdout",
          "text": [
            "Epoch 2: TrainBCE=0.7468, ValWLL=0.4662, LR=2.00e-05\n"
          ]
        },
        {
          "output_type": "stream",
          "name": "stderr",
          "text": [
            "\rEpoch 3/15 Train:   0%|          | 0/11 [00:00<?, ?it/s]"
          ]
        },
        {
          "output_type": "stream",
          "name": "stderr",
          "text": [
            "\rEpoch 3/15 Train:   9%|\u2589         | 1/11 [00:00<00:03,  2.85it/s]"
          ]
        },
        {
          "output_type": "stream",
          "name": "stderr",
          "text": [
            "\rEpoch 3/15 Train:  27%|\u2588\u2588\u258b       | 3/11 [00:00<00:01,  6.10it/s]"
          ]
        },
        {
          "output_type": "stream",
          "name": "stderr",
          "text": [
            "\rEpoch 3/15 Train:  45%|\u2588\u2588\u2588\u2588\u258c     | 5/11 [00:00<00:00,  7.64it/s]"
          ]
        },
        {
          "output_type": "stream",
          "name": "stderr",
          "text": [
            "\rEpoch 3/15 Train:  64%|\u2588\u2588\u2588\u2588\u2588\u2588\u258e   | 7/11 [00:00<00:00,  8.55it/s]"
          ]
        },
        {
          "output_type": "stream",
          "name": "stderr",
          "text": [
            "\rEpoch 3/15 Train:  82%|\u2588\u2588\u2588\u2588\u2588\u2588\u2588\u2588\u258f | 9/11 [00:01<00:00,  9.03it/s]"
          ]
        },
        {
          "output_type": "stream",
          "name": "stderr",
          "text": [
            "\rEpoch 3/15 Train:  91%|\u2588\u2588\u2588\u2588\u2588\u2588\u2588\u2588\u2588 | 10/11 [00:01<00:00,  9.20it/s]"
          ]
        },
        {
          "output_type": "stream",
          "name": "stderr",
          "text": [
            "\rEpoch 3/15 Train: 100%|\u2588\u2588\u2588\u2588\u2588\u2588\u2588\u2588\u2588\u2588| 11/11 [00:01<00:00,  8.23it/s]"
          ]
        },
        {
          "output_type": "stream",
          "name": "stderr",
          "text": [
            "\n"
          ]
        },
        {
          "output_type": "stream",
          "name": "stderr",
          "text": [
            "\rVal:   0%|          | 0/3 [00:00<?, ?it/s]"
          ]
        },
        {
          "output_type": "stream",
          "name": "stderr",
          "text": [
            "\rVal:  33%|\u2588\u2588\u2588\u258e      | 1/3 [00:00<00:00,  3.96it/s]"
          ]
        },
        {
          "output_type": "stream",
          "name": "stderr",
          "text": [
            "\rVal: 100%|\u2588\u2588\u2588\u2588\u2588\u2588\u2588\u2588\u2588\u2588| 3/3 [00:00<00:00,  9.60it/s]"
          ]
        },
        {
          "output_type": "stream",
          "name": "stderr",
          "text": [
            "\rVal: 100%|\u2588\u2588\u2588\u2588\u2588\u2588\u2588\u2588\u2588\u2588| 3/3 [00:00<00:00,  7.27it/s]"
          ]
        },
        {
          "output_type": "stream",
          "name": "stderr",
          "text": [
            "\n"
          ]
        },
        {
          "output_type": "stream",
          "name": "stdout",
          "text": [
            "Epoch 3: TrainBCE=0.8195, ValWLL=0.4636, LR=2.00e-05\n"
          ]
        },
        {
          "output_type": "stream",
          "name": "stderr",
          "text": [
            "\rEpoch 4/15 Train:   0%|          | 0/11 [00:00<?, ?it/s]"
          ]
        },
        {
          "output_type": "stream",
          "name": "stderr",
          "text": [
            "\rEpoch 4/15 Train:   9%|\u2589         | 1/11 [00:00<00:03,  2.76it/s]"
          ]
        },
        {
          "output_type": "stream",
          "name": "stderr",
          "text": [
            "\rEpoch 4/15 Train:  18%|\u2588\u258a        | 2/11 [00:00<00:01,  4.79it/s]"
          ]
        },
        {
          "output_type": "stream",
          "name": "stderr",
          "text": [
            "\rEpoch 4/15 Train:  27%|\u2588\u2588\u258b       | 3/11 [00:00<00:01,  6.27it/s]"
          ]
        },
        {
          "output_type": "stream",
          "name": "stderr",
          "text": [
            "\rEpoch 4/15 Train:  45%|\u2588\u2588\u2588\u2588\u258c     | 5/11 [00:00<00:00,  7.96it/s]"
          ]
        },
        {
          "output_type": "stream",
          "name": "stderr",
          "text": [
            "\rEpoch 4/15 Train:  64%|\u2588\u2588\u2588\u2588\u2588\u2588\u258e   | 7/11 [00:00<00:00,  8.77it/s]"
          ]
        },
        {
          "output_type": "stream",
          "name": "stderr",
          "text": [
            "\rEpoch 4/15 Train:  82%|\u2588\u2588\u2588\u2588\u2588\u2588\u2588\u2588\u258f | 9/11 [00:01<00:00,  9.19it/s]"
          ]
        },
        {
          "output_type": "stream",
          "name": "stderr",
          "text": [
            "\rEpoch 4/15 Train:  91%|\u2588\u2588\u2588\u2588\u2588\u2588\u2588\u2588\u2588 | 10/11 [00:01<00:00,  9.34it/s]"
          ]
        },
        {
          "output_type": "stream",
          "name": "stderr",
          "text": [
            "\rEpoch 4/15 Train: 100%|\u2588\u2588\u2588\u2588\u2588\u2588\u2588\u2588\u2588\u2588| 11/11 [00:01<00:00,  8.14it/s]"
          ]
        },
        {
          "output_type": "stream",
          "name": "stderr",
          "text": [
            "\n"
          ]
        },
        {
          "output_type": "stream",
          "name": "stderr",
          "text": [
            "\rVal:   0%|          | 0/3 [00:00<?, ?it/s]"
          ]
        },
        {
          "output_type": "stream",
          "name": "stderr",
          "text": [
            "\rVal:  33%|\u2588\u2588\u2588\u258e      | 1/3 [00:00<00:00,  4.01it/s]"
          ]
        },
        {
          "output_type": "stream",
          "name": "stderr",
          "text": [
            "\rVal: 100%|\u2588\u2588\u2588\u2588\u2588\u2588\u2588\u2588\u2588\u2588| 3/3 [00:00<00:00,  9.63it/s]"
          ]
        },
        {
          "output_type": "stream",
          "name": "stderr",
          "text": [
            "\rVal: 100%|\u2588\u2588\u2588\u2588\u2588\u2588\u2588\u2588\u2588\u2588| 3/3 [00:00<00:00,  7.44it/s]"
          ]
        },
        {
          "output_type": "stream",
          "name": "stderr",
          "text": [
            "\n"
          ]
        },
        {
          "output_type": "stream",
          "name": "stdout",
          "text": [
            "Epoch 4: TrainBCE=0.6920, ValWLL=0.4603, LR=2.00e-05\n"
          ]
        },
        {
          "output_type": "stream",
          "name": "stderr",
          "text": [
            "\rEpoch 5/15 Train:   0%|          | 0/11 [00:00<?, ?it/s]"
          ]
        },
        {
          "output_type": "stream",
          "name": "stderr",
          "text": [
            "\rEpoch 5/15 Train:   9%|\u2589         | 1/11 [00:00<00:03,  2.68it/s]"
          ]
        },
        {
          "output_type": "stream",
          "name": "stderr",
          "text": [
            "\rEpoch 5/15 Train:  18%|\u2588\u258a        | 2/11 [00:00<00:01,  4.68it/s]"
          ]
        },
        {
          "output_type": "stream",
          "name": "stderr",
          "text": [
            "\rEpoch 5/15 Train:  27%|\u2588\u2588\u258b       | 3/11 [00:00<00:01,  6.17it/s]"
          ]
        },
        {
          "output_type": "stream",
          "name": "stderr",
          "text": [
            "\rEpoch 5/15 Train:  45%|\u2588\u2588\u2588\u2588\u258c     | 5/11 [00:00<00:00,  7.89it/s]"
          ]
        },
        {
          "output_type": "stream",
          "name": "stderr",
          "text": [
            "\rEpoch 5/15 Train:  55%|\u2588\u2588\u2588\u2588\u2588\u258d    | 6/11 [00:00<00:00,  8.39it/s]"
          ]
        },
        {
          "output_type": "stream",
          "name": "stderr",
          "text": [
            "\rEpoch 5/15 Train:  64%|\u2588\u2588\u2588\u2588\u2588\u2588\u258e   | 7/11 [00:00<00:00,  8.81it/s]"
          ]
        },
        {
          "output_type": "stream",
          "name": "stderr",
          "text": [
            "\rEpoch 5/15 Train:  73%|\u2588\u2588\u2588\u2588\u2588\u2588\u2588\u258e  | 8/11 [00:01<00:00,  9.12it/s]"
          ]
        },
        {
          "output_type": "stream",
          "name": "stderr",
          "text": [
            "\rEpoch 5/15 Train:  82%|\u2588\u2588\u2588\u2588\u2588\u2588\u2588\u2588\u258f | 9/11 [00:01<00:00,  9.33it/s]"
          ]
        },
        {
          "output_type": "stream",
          "name": "stderr",
          "text": [
            "\rEpoch 5/15 Train:  91%|\u2588\u2588\u2588\u2588\u2588\u2588\u2588\u2588\u2588 | 10/11 [00:01<00:00,  9.51it/s]"
          ]
        },
        {
          "output_type": "stream",
          "name": "stderr",
          "text": [
            "\rEpoch 5/15 Train: 100%|\u2588\u2588\u2588\u2588\u2588\u2588\u2588\u2588\u2588\u2588| 11/11 [00:01<00:00,  8.07it/s]"
          ]
        },
        {
          "output_type": "stream",
          "name": "stderr",
          "text": [
            "\n"
          ]
        },
        {
          "output_type": "stream",
          "name": "stderr",
          "text": [
            "\rVal:   0%|          | 0/3 [00:00<?, ?it/s]"
          ]
        },
        {
          "output_type": "stream",
          "name": "stderr",
          "text": [
            "\rVal:  33%|\u2588\u2588\u2588\u258e      | 1/3 [00:00<00:00,  3.87it/s]"
          ]
        },
        {
          "output_type": "stream",
          "name": "stderr",
          "text": [
            "\rVal: 100%|\u2588\u2588\u2588\u2588\u2588\u2588\u2588\u2588\u2588\u2588| 3/3 [00:00<00:00,  9.42it/s]"
          ]
        },
        {
          "output_type": "stream",
          "name": "stderr",
          "text": [
            "\rVal: 100%|\u2588\u2588\u2588\u2588\u2588\u2588\u2588\u2588\u2588\u2588| 3/3 [00:00<00:00,  7.36it/s]"
          ]
        },
        {
          "output_type": "stream",
          "name": "stderr",
          "text": [
            "\n"
          ]
        },
        {
          "output_type": "stream",
          "name": "stdout",
          "text": [
            "Epoch 5: TrainBCE=0.7406, ValWLL=0.4539, LR=2.00e-05\n"
          ]
        },
        {
          "output_type": "stream",
          "name": "stderr",
          "text": [
            "\rEpoch 6/15 Train:   0%|          | 0/11 [00:00<?, ?it/s]"
          ]
        },
        {
          "output_type": "stream",
          "name": "stderr",
          "text": [
            "\rEpoch 6/15 Train:   9%|\u2589         | 1/11 [00:00<00:03,  2.94it/s]"
          ]
        },
        {
          "output_type": "stream",
          "name": "stderr",
          "text": [
            "\rEpoch 6/15 Train:  18%|\u2588\u258a        | 2/11 [00:00<00:01,  4.98it/s]"
          ]
        },
        {
          "output_type": "stream",
          "name": "stderr",
          "text": [
            "\rEpoch 6/15 Train:  27%|\u2588\u2588\u258b       | 3/11 [00:00<00:01,  6.45it/s]"
          ]
        },
        {
          "output_type": "stream",
          "name": "stderr",
          "text": [
            "\rEpoch 6/15 Train:  36%|\u2588\u2588\u2588\u258b      | 4/11 [00:00<00:00,  7.47it/s]"
          ]
        },
        {
          "output_type": "stream",
          "name": "stderr",
          "text": [
            "\rEpoch 6/15 Train:  55%|\u2588\u2588\u2588\u2588\u2588\u258d    | 6/11 [00:00<00:00,  8.64it/s]"
          ]
        },
        {
          "output_type": "stream",
          "name": "stderr",
          "text": [
            "\rEpoch 6/15 Train:  64%|\u2588\u2588\u2588\u2588\u2588\u2588\u258e   | 7/11 [00:00<00:00,  8.97it/s]"
          ]
        },
        {
          "output_type": "stream",
          "name": "stderr",
          "text": [
            "\rEpoch 6/15 Train:  82%|\u2588\u2588\u2588\u2588\u2588\u2588\u2588\u2588\u258f | 9/11 [00:01<00:00,  9.35it/s]"
          ]
        },
        {
          "output_type": "stream",
          "name": "stderr",
          "text": [
            "\rEpoch 6/15 Train:  91%|\u2588\u2588\u2588\u2588\u2588\u2588\u2588\u2588\u2588 | 10/11 [00:01<00:00,  9.48it/s]"
          ]
        },
        {
          "output_type": "stream",
          "name": "stderr",
          "text": [
            "\rEpoch 6/15 Train: 100%|\u2588\u2588\u2588\u2588\u2588\u2588\u2588\u2588\u2588\u2588| 11/11 [00:01<00:00,  8.24it/s]"
          ]
        },
        {
          "output_type": "stream",
          "name": "stderr",
          "text": [
            "\n"
          ]
        },
        {
          "output_type": "stream",
          "name": "stderr",
          "text": [
            "\rVal:   0%|          | 0/3 [00:00<?, ?it/s]"
          ]
        },
        {
          "output_type": "stream",
          "name": "stderr",
          "text": [
            "\rVal:  33%|\u2588\u2588\u2588\u258e      | 1/3 [00:00<00:00,  3.93it/s]"
          ]
        },
        {
          "output_type": "stream",
          "name": "stderr",
          "text": [
            "\rVal: 100%|\u2588\u2588\u2588\u2588\u2588\u2588\u2588\u2588\u2588\u2588| 3/3 [00:00<00:00,  9.53it/s]"
          ]
        },
        {
          "output_type": "stream",
          "name": "stderr",
          "text": [
            "\rVal: 100%|\u2588\u2588\u2588\u2588\u2588\u2588\u2588\u2588\u2588\u2588| 3/3 [00:00<00:00,  7.42it/s]"
          ]
        },
        {
          "output_type": "stream",
          "name": "stderr",
          "text": [
            "\n"
          ]
        },
        {
          "output_type": "stream",
          "name": "stdout",
          "text": [
            "Epoch 6: TrainBCE=0.7575, ValWLL=0.4560, LR=2.00e-05\n"
          ]
        },
        {
          "output_type": "stream",
          "name": "stderr",
          "text": [
            "\rEpoch 7/15 Train:   0%|          | 0/11 [00:00<?, ?it/s]"
          ]
        },
        {
          "output_type": "stream",
          "name": "stderr",
          "text": [
            "\rEpoch 7/15 Train:   9%|\u2589         | 1/11 [00:00<00:03,  2.88it/s]"
          ]
        },
        {
          "output_type": "stream",
          "name": "stderr",
          "text": [
            "\rEpoch 7/15 Train:  18%|\u2588\u258a        | 2/11 [00:00<00:01,  4.93it/s]"
          ]
        },
        {
          "output_type": "stream",
          "name": "stderr",
          "text": [
            "\rEpoch 7/15 Train:  27%|\u2588\u2588\u258b       | 3/11 [00:00<00:01,  6.42it/s]"
          ]
        },
        {
          "output_type": "stream",
          "name": "stderr",
          "text": [
            "\rEpoch 7/15 Train:  36%|\u2588\u2588\u2588\u258b      | 4/11 [00:00<00:00,  7.47it/s]"
          ]
        },
        {
          "output_type": "stream",
          "name": "stderr",
          "text": [
            "\rEpoch 7/15 Train:  45%|\u2588\u2588\u2588\u2588\u258c     | 5/11 [00:00<00:00,  8.22it/s]"
          ]
        },
        {
          "output_type": "stream",
          "name": "stderr",
          "text": [
            "\rEpoch 7/15 Train:  55%|\u2588\u2588\u2588\u2588\u2588\u258d    | 6/11 [00:00<00:00,  8.75it/s]"
          ]
        },
        {
          "output_type": "stream",
          "name": "stderr",
          "text": [
            "\rEpoch 7/15 Train:  73%|\u2588\u2588\u2588\u2588\u2588\u2588\u2588\u258e  | 8/11 [00:01<00:00,  9.36it/s]"
          ]
        },
        {
          "output_type": "stream",
          "name": "stderr",
          "text": [
            "\rEpoch 7/15 Train:  82%|\u2588\u2588\u2588\u2588\u2588\u2588\u2588\u2588\u258f | 9/11 [00:01<00:00,  9.37it/s]"
          ]
        },
        {
          "output_type": "stream",
          "name": "stderr",
          "text": [
            "\rEpoch 7/15 Train:  91%|\u2588\u2588\u2588\u2588\u2588\u2588\u2588\u2588\u2588 | 10/11 [00:01<00:00,  9.47it/s]"
          ]
        },
        {
          "output_type": "stream",
          "name": "stderr",
          "text": [
            "\rEpoch 7/15 Train: 100%|\u2588\u2588\u2588\u2588\u2588\u2588\u2588\u2588\u2588\u2588| 11/11 [00:01<00:00,  8.17it/s]"
          ]
        },
        {
          "output_type": "stream",
          "name": "stderr",
          "text": [
            "\n"
          ]
        },
        {
          "output_type": "stream",
          "name": "stderr",
          "text": [
            "\rVal:   0%|          | 0/3 [00:00<?, ?it/s]"
          ]
        },
        {
          "output_type": "stream",
          "name": "stderr",
          "text": [
            "\rVal:  33%|\u2588\u2588\u2588\u258e      | 1/3 [00:00<00:00,  3.97it/s]"
          ]
        },
        {
          "output_type": "stream",
          "name": "stderr",
          "text": [
            "\rVal: 100%|\u2588\u2588\u2588\u2588\u2588\u2588\u2588\u2588\u2588\u2588| 3/3 [00:00<00:00,  9.58it/s]"
          ]
        },
        {
          "output_type": "stream",
          "name": "stderr",
          "text": [
            "\rVal: 100%|\u2588\u2588\u2588\u2588\u2588\u2588\u2588\u2588\u2588\u2588| 3/3 [00:00<00:00,  7.31it/s]"
          ]
        },
        {
          "output_type": "stream",
          "name": "stderr",
          "text": [
            "\n"
          ]
        },
        {
          "output_type": "stream",
          "name": "stdout",
          "text": [
            "Epoch 7: TrainBCE=0.7063, ValWLL=0.4501, LR=2.00e-05\n"
          ]
        },
        {
          "output_type": "stream",
          "name": "stderr",
          "text": [
            "\rEpoch 8/15 Train:   0%|          | 0/11 [00:00<?, ?it/s]"
          ]
        },
        {
          "output_type": "stream",
          "name": "stderr",
          "text": [
            "\rEpoch 8/15 Train:   9%|\u2589         | 1/11 [00:00<00:03,  2.83it/s]"
          ]
        },
        {
          "output_type": "stream",
          "name": "stderr",
          "text": [
            "\rEpoch 8/15 Train:  18%|\u2588\u258a        | 2/11 [00:00<00:01,  4.87it/s]"
          ]
        },
        {
          "output_type": "stream",
          "name": "stderr",
          "text": [
            "\rEpoch 8/15 Train:  27%|\u2588\u2588\u258b       | 3/11 [00:00<00:01,  6.35it/s]"
          ]
        },
        {
          "output_type": "stream",
          "name": "stderr",
          "text": [
            "\rEpoch 8/15 Train:  36%|\u2588\u2588\u2588\u258b      | 4/11 [00:00<00:00,  7.41it/s]"
          ]
        },
        {
          "output_type": "stream",
          "name": "stderr",
          "text": [
            "\rEpoch 8/15 Train:  45%|\u2588\u2588\u2588\u2588\u258c     | 5/11 [00:00<00:00,  8.17it/s]"
          ]
        },
        {
          "output_type": "stream",
          "name": "stderr",
          "text": [
            "\rEpoch 8/15 Train:  64%|\u2588\u2588\u2588\u2588\u2588\u2588\u258e   | 7/11 [00:00<00:00,  9.02it/s]"
          ]
        },
        {
          "output_type": "stream",
          "name": "stderr",
          "text": [
            "\rEpoch 8/15 Train:  82%|\u2588\u2588\u2588\u2588\u2588\u2588\u2588\u2588\u258f | 9/11 [00:01<00:00,  9.38it/s]"
          ]
        },
        {
          "output_type": "stream",
          "name": "stderr",
          "text": [
            "\rEpoch 8/15 Train:  91%|\u2588\u2588\u2588\u2588\u2588\u2588\u2588\u2588\u2588 | 10/11 [00:01<00:00,  9.49it/s]"
          ]
        },
        {
          "output_type": "stream",
          "name": "stderr",
          "text": [
            "\rEpoch 8/15 Train: 100%|\u2588\u2588\u2588\u2588\u2588\u2588\u2588\u2588\u2588\u2588| 11/11 [00:01<00:00,  8.18it/s]"
          ]
        },
        {
          "output_type": "stream",
          "name": "stderr",
          "text": [
            "\n"
          ]
        },
        {
          "output_type": "stream",
          "name": "stderr",
          "text": [
            "\rVal:   0%|          | 0/3 [00:00<?, ?it/s]"
          ]
        },
        {
          "output_type": "stream",
          "name": "stderr",
          "text": [
            "\rVal:  33%|\u2588\u2588\u2588\u258e      | 1/3 [00:00<00:00,  3.78it/s]"
          ]
        },
        {
          "output_type": "stream",
          "name": "stderr",
          "text": [
            "\rVal: 100%|\u2588\u2588\u2588\u2588\u2588\u2588\u2588\u2588\u2588\u2588| 3/3 [00:00<00:00,  9.27it/s]"
          ]
        },
        {
          "output_type": "stream",
          "name": "stderr",
          "text": [
            "\rVal: 100%|\u2588\u2588\u2588\u2588\u2588\u2588\u2588\u2588\u2588\u2588| 3/3 [00:00<00:00,  7.10it/s]"
          ]
        },
        {
          "output_type": "stream",
          "name": "stderr",
          "text": [
            "\n"
          ]
        },
        {
          "output_type": "stream",
          "name": "stdout",
          "text": [
            "Epoch 8: TrainBCE=0.6779, ValWLL=0.4496, LR=2.00e-05\n"
          ]
        },
        {
          "output_type": "stream",
          "name": "stderr",
          "text": [
            "\rEpoch 9/15 Train:   0%|          | 0/11 [00:00<?, ?it/s]"
          ]
        },
        {
          "output_type": "stream",
          "name": "stderr",
          "text": [
            "\rEpoch 9/15 Train:   9%|\u2589         | 1/11 [00:00<00:03,  2.68it/s]"
          ]
        },
        {
          "output_type": "stream",
          "name": "stderr",
          "text": [
            "\rEpoch 9/15 Train:  18%|\u2588\u258a        | 2/11 [00:00<00:01,  4.68it/s]"
          ]
        },
        {
          "output_type": "stream",
          "name": "stderr",
          "text": [
            "\rEpoch 9/15 Train:  27%|\u2588\u2588\u258b       | 3/11 [00:00<00:01,  6.18it/s]"
          ]
        },
        {
          "output_type": "stream",
          "name": "stderr",
          "text": [
            "\rEpoch 9/15 Train:  36%|\u2588\u2588\u2588\u258b      | 4/11 [00:00<00:00,  7.27it/s]"
          ]
        },
        {
          "output_type": "stream",
          "name": "stderr",
          "text": [
            "\rEpoch 9/15 Train:  45%|\u2588\u2588\u2588\u2588\u258c     | 5/11 [00:00<00:00,  8.07it/s]"
          ]
        },
        {
          "output_type": "stream",
          "name": "stderr",
          "text": [
            "\rEpoch 9/15 Train:  55%|\u2588\u2588\u2588\u2588\u2588\u258d    | 6/11 [00:00<00:00,  8.63it/s]"
          ]
        },
        {
          "output_type": "stream",
          "name": "stderr",
          "text": [
            "\rEpoch 9/15 Train:  73%|\u2588\u2588\u2588\u2588\u2588\u2588\u2588\u258e  | 8/11 [00:01<00:00,  9.26it/s]"
          ]
        },
        {
          "output_type": "stream",
          "name": "stderr",
          "text": [
            "\rEpoch 9/15 Train:  82%|\u2588\u2588\u2588\u2588\u2588\u2588\u2588\u2588\u258f | 9/11 [00:01<00:00,  9.41it/s]"
          ]
        },
        {
          "output_type": "stream",
          "name": "stderr",
          "text": [
            "\rEpoch 9/15 Train:  91%|\u2588\u2588\u2588\u2588\u2588\u2588\u2588\u2588\u2588 | 10/11 [00:01<00:00,  9.54it/s]"
          ]
        },
        {
          "output_type": "stream",
          "name": "stderr",
          "text": [
            "\rEpoch 9/15 Train: 100%|\u2588\u2588\u2588\u2588\u2588\u2588\u2588\u2588\u2588\u2588| 11/11 [00:01<00:00,  8.04it/s]"
          ]
        },
        {
          "output_type": "stream",
          "name": "stderr",
          "text": [
            "\n"
          ]
        },
        {
          "output_type": "stream",
          "name": "stderr",
          "text": [
            "\rVal:   0%|          | 0/3 [00:00<?, ?it/s]"
          ]
        },
        {
          "output_type": "stream",
          "name": "stderr",
          "text": [
            "\rVal:  33%|\u2588\u2588\u2588\u258e      | 1/3 [00:00<00:00,  4.00it/s]"
          ]
        },
        {
          "output_type": "stream",
          "name": "stderr",
          "text": [
            "\rVal: 100%|\u2588\u2588\u2588\u2588\u2588\u2588\u2588\u2588\u2588\u2588| 3/3 [00:00<00:00,  9.61it/s]"
          ]
        },
        {
          "output_type": "stream",
          "name": "stderr",
          "text": [
            "\rVal: 100%|\u2588\u2588\u2588\u2588\u2588\u2588\u2588\u2588\u2588\u2588| 3/3 [00:00<00:00,  7.38it/s]"
          ]
        },
        {
          "output_type": "stream",
          "name": "stderr",
          "text": [
            "\n"
          ]
        },
        {
          "output_type": "stream",
          "name": "stdout",
          "text": [
            "Epoch 9: TrainBCE=0.7977, ValWLL=0.4507, LR=2.00e-05\n"
          ]
        },
        {
          "output_type": "stream",
          "name": "stderr",
          "text": [
            "\rEpoch 10/15 Train:   0%|          | 0/11 [00:00<?, ?it/s]"
          ]
        },
        {
          "output_type": "stream",
          "name": "stderr",
          "text": [
            "\rEpoch 10/15 Train:   9%|\u2589         | 1/11 [00:00<00:03,  2.83it/s]"
          ]
        },
        {
          "output_type": "stream",
          "name": "stderr",
          "text": [
            "\rEpoch 10/15 Train:  18%|\u2588\u258a        | 2/11 [00:00<00:01,  4.87it/s]"
          ]
        },
        {
          "output_type": "stream",
          "name": "stderr",
          "text": [
            "\rEpoch 10/15 Train:  27%|\u2588\u2588\u258b       | 3/11 [00:00<00:01,  6.35it/s]"
          ]
        },
        {
          "output_type": "stream",
          "name": "stderr",
          "text": [
            "\rEpoch 10/15 Train:  45%|\u2588\u2588\u2588\u2588\u258c     | 5/11 [00:00<00:00,  8.02it/s]"
          ]
        },
        {
          "output_type": "stream",
          "name": "stderr",
          "text": [
            "\rEpoch 10/15 Train:  55%|\u2588\u2588\u2588\u2588\u2588\u258d    | 6/11 [00:00<00:00,  8.50it/s]"
          ]
        },
        {
          "output_type": "stream",
          "name": "stderr",
          "text": [
            "\rEpoch 10/15 Train:  64%|\u2588\u2588\u2588\u2588\u2588\u2588\u258e   | 7/11 [00:00<00:00,  8.89it/s]"
          ]
        },
        {
          "output_type": "stream",
          "name": "stderr",
          "text": [
            "\rEpoch 10/15 Train:  73%|\u2588\u2588\u2588\u2588\u2588\u2588\u2588\u258e  | 8/11 [00:01<00:00,  9.18it/s]"
          ]
        },
        {
          "output_type": "stream",
          "name": "stderr",
          "text": [
            "\rEpoch 10/15 Train:  82%|\u2588\u2588\u2588\u2588\u2588\u2588\u2588\u2588\u258f | 9/11 [00:01<00:00,  9.38it/s]"
          ]
        },
        {
          "output_type": "stream",
          "name": "stderr",
          "text": [
            "\rEpoch 10/15 Train:  91%|\u2588\u2588\u2588\u2588\u2588\u2588\u2588\u2588\u2588 | 10/11 [00:01<00:00,  9.54it/s]"
          ]
        },
        {
          "output_type": "stream",
          "name": "stderr",
          "text": [
            "\rEpoch 10/15 Train: 100%|\u2588\u2588\u2588\u2588\u2588\u2588\u2588\u2588\u2588\u2588| 11/11 [00:01<00:00,  8.17it/s]"
          ]
        },
        {
          "output_type": "stream",
          "name": "stderr",
          "text": [
            "\n"
          ]
        },
        {
          "output_type": "stream",
          "name": "stderr",
          "text": [
            "\rVal:   0%|          | 0/3 [00:00<?, ?it/s]"
          ]
        },
        {
          "output_type": "stream",
          "name": "stderr",
          "text": [
            "\rVal:  33%|\u2588\u2588\u2588\u258e      | 1/3 [00:00<00:00,  3.91it/s]"
          ]
        },
        {
          "output_type": "stream",
          "name": "stderr",
          "text": [
            "\rVal: 100%|\u2588\u2588\u2588\u2588\u2588\u2588\u2588\u2588\u2588\u2588| 3/3 [00:00<00:00,  9.47it/s]"
          ]
        },
        {
          "output_type": "stream",
          "name": "stderr",
          "text": [
            "\rVal: 100%|\u2588\u2588\u2588\u2588\u2588\u2588\u2588\u2588\u2588\u2588| 3/3 [00:00<00:00,  7.46it/s]"
          ]
        },
        {
          "output_type": "stream",
          "name": "stderr",
          "text": [
            "\n"
          ]
        },
        {
          "output_type": "stream",
          "name": "stdout",
          "text": [
            "Epoch 10: TrainBCE=0.7171, ValWLL=0.4576, LR=2.00e-05\n"
          ]
        },
        {
          "output_type": "stream",
          "name": "stderr",
          "text": [
            "\rEpoch 11/15 Train:   0%|          | 0/11 [00:00<?, ?it/s]"
          ]
        },
        {
          "output_type": "stream",
          "name": "stderr",
          "text": [
            "\rEpoch 11/15 Train:   9%|\u2589         | 1/11 [00:00<00:03,  2.73it/s]"
          ]
        },
        {
          "output_type": "stream",
          "name": "stderr",
          "text": [
            "\rEpoch 11/15 Train:  18%|\u2588\u258a        | 2/11 [00:00<00:01,  4.75it/s]"
          ]
        },
        {
          "output_type": "stream",
          "name": "stderr",
          "text": [
            "\rEpoch 11/15 Train:  27%|\u2588\u2588\u258b       | 3/11 [00:00<00:01,  6.24it/s]"
          ]
        },
        {
          "output_type": "stream",
          "name": "stderr",
          "text": [
            "\rEpoch 11/15 Train:  36%|\u2588\u2588\u2588\u258b      | 4/11 [00:00<00:00,  7.32it/s]"
          ]
        },
        {
          "output_type": "stream",
          "name": "stderr",
          "text": [
            "\rEpoch 11/15 Train:  45%|\u2588\u2588\u2588\u2588\u258c     | 5/11 [00:00<00:00,  8.10it/s]"
          ]
        },
        {
          "output_type": "stream",
          "name": "stderr",
          "text": [
            "\rEpoch 11/15 Train:  64%|\u2588\u2588\u2588\u2588\u2588\u2588\u258e   | 7/11 [00:00<00:00,  8.94it/s]"
          ]
        },
        {
          "output_type": "stream",
          "name": "stderr",
          "text": [
            "\rEpoch 11/15 Train:  82%|\u2588\u2588\u2588\u2588\u2588\u2588\u2588\u2588\u258f | 9/11 [00:01<00:00,  9.33it/s]"
          ]
        },
        {
          "output_type": "stream",
          "name": "stderr",
          "text": [
            "\rEpoch 11/15 Train:  91%|\u2588\u2588\u2588\u2588\u2588\u2588\u2588\u2588\u2588 | 10/11 [00:01<00:00,  9.47it/s]"
          ]
        },
        {
          "output_type": "stream",
          "name": "stderr",
          "text": [
            "\rEpoch 11/15 Train: 100%|\u2588\u2588\u2588\u2588\u2588\u2588\u2588\u2588\u2588\u2588| 11/11 [00:01<00:00,  8.07it/s]"
          ]
        },
        {
          "output_type": "stream",
          "name": "stderr",
          "text": [
            "\n"
          ]
        },
        {
          "output_type": "stream",
          "name": "stderr",
          "text": [
            "\rVal:   0%|          | 0/3 [00:00<?, ?it/s]"
          ]
        },
        {
          "output_type": "stream",
          "name": "stderr",
          "text": [
            "\rVal:  33%|\u2588\u2588\u2588\u258e      | 1/3 [00:00<00:00,  3.97it/s]"
          ]
        },
        {
          "output_type": "stream",
          "name": "stderr",
          "text": [
            "\rVal: 100%|\u2588\u2588\u2588\u2588\u2588\u2588\u2588\u2588\u2588\u2588| 3/3 [00:00<00:00,  9.60it/s]"
          ]
        },
        {
          "output_type": "stream",
          "name": "stderr",
          "text": [
            "\rVal: 100%|\u2588\u2588\u2588\u2588\u2588\u2588\u2588\u2588\u2588\u2588| 3/3 [00:00<00:00,  7.51it/s]"
          ]
        },
        {
          "output_type": "stream",
          "name": "stderr",
          "text": [
            "\n"
          ]
        },
        {
          "output_type": "stream",
          "name": "stdout",
          "text": [
            "Epoch 11: TrainBCE=0.7157, ValWLL=0.4587, LR=1.00e-05\n"
          ]
        },
        {
          "output_type": "stream",
          "name": "stderr",
          "text": [
            "\rEpoch 12/15 Train:   0%|          | 0/11 [00:00<?, ?it/s]"
          ]
        },
        {
          "output_type": "stream",
          "name": "stderr",
          "text": [
            "\rEpoch 12/15 Train:   9%|\u2589         | 1/11 [00:00<00:03,  2.74it/s]"
          ]
        },
        {
          "output_type": "stream",
          "name": "stderr",
          "text": [
            "\rEpoch 12/15 Train:  18%|\u2588\u258a        | 2/11 [00:00<00:01,  4.77it/s]"
          ]
        },
        {
          "output_type": "stream",
          "name": "stderr",
          "text": [
            "\rEpoch 12/15 Train:  27%|\u2588\u2588\u258b       | 3/11 [00:00<00:01,  6.26it/s]"
          ]
        },
        {
          "output_type": "stream",
          "name": "stderr",
          "text": [
            "\rEpoch 12/15 Train:  36%|\u2588\u2588\u2588\u258b      | 4/11 [00:00<00:00,  7.34it/s]"
          ]
        },
        {
          "output_type": "stream",
          "name": "stderr",
          "text": [
            "\rEpoch 12/15 Train:  55%|\u2588\u2588\u2588\u2588\u2588\u258d    | 6/11 [00:00<00:00,  8.56it/s]"
          ]
        },
        {
          "output_type": "stream",
          "name": "stderr",
          "text": [
            "\rEpoch 12/15 Train:  73%|\u2588\u2588\u2588\u2588\u2588\u2588\u2588\u258e  | 8/11 [00:01<00:00,  9.13it/s]"
          ]
        },
        {
          "output_type": "stream",
          "name": "stderr",
          "text": [
            "\rEpoch 12/15 Train:  82%|\u2588\u2588\u2588\u2588\u2588\u2588\u2588\u2588\u258f | 9/11 [00:01<00:00,  9.28it/s]"
          ]
        },
        {
          "output_type": "stream",
          "name": "stderr",
          "text": [
            "\rEpoch 12/15 Train:  91%|\u2588\u2588\u2588\u2588\u2588\u2588\u2588\u2588\u2588 | 10/11 [00:01<00:00,  9.40it/s]"
          ]
        },
        {
          "output_type": "stream",
          "name": "stderr",
          "text": [
            "\rEpoch 12/15 Train: 100%|\u2588\u2588\u2588\u2588\u2588\u2588\u2588\u2588\u2588\u2588| 11/11 [00:01<00:00,  8.16it/s]"
          ]
        },
        {
          "output_type": "stream",
          "name": "stderr",
          "text": [
            "\n"
          ]
        },
        {
          "output_type": "stream",
          "name": "stderr",
          "text": [
            "\rVal:   0%|          | 0/3 [00:00<?, ?it/s]"
          ]
        },
        {
          "output_type": "stream",
          "name": "stderr",
          "text": [
            "\rVal:  33%|\u2588\u2588\u2588\u258e      | 1/3 [00:00<00:00,  3.78it/s]"
          ]
        },
        {
          "output_type": "stream",
          "name": "stderr",
          "text": [
            "\rVal: 100%|\u2588\u2588\u2588\u2588\u2588\u2588\u2588\u2588\u2588\u2588| 3/3 [00:00<00:00,  9.31it/s]"
          ]
        },
        {
          "output_type": "stream",
          "name": "stderr",
          "text": [
            "\rVal: 100%|\u2588\u2588\u2588\u2588\u2588\u2588\u2588\u2588\u2588\u2588| 3/3 [00:00<00:00,  7.26it/s]"
          ]
        },
        {
          "output_type": "stream",
          "name": "stderr",
          "text": [
            "\n"
          ]
        },
        {
          "output_type": "stream",
          "name": "stdout",
          "text": [
            "Epoch 12: TrainBCE=0.7393, ValWLL=0.4573, LR=1.00e-05\nEarly stopping at epoch 12\nConvNeXt v2 Fold 5 best OOF WLL (val): 0.4496\n"
          ]
        },
        {
          "output_type": "stream",
          "name": "stderr",
          "text": [
            "\rFinal Val for OOF:   0%|          | 0/3 [00:00<?, ?it/s]"
          ]
        },
        {
          "output_type": "stream",
          "name": "stderr",
          "text": [
            "\rFinal Val for OOF:  33%|\u2588\u2588\u2588\u258e      | 1/3 [00:00<00:00,  3.88it/s]"
          ]
        },
        {
          "output_type": "stream",
          "name": "stderr",
          "text": [
            "\rFinal Val for OOF: 100%|\u2588\u2588\u2588\u2588\u2588\u2588\u2588\u2588\u2588\u2588| 3/3 [00:00<00:00,  9.44it/s]"
          ]
        },
        {
          "output_type": "stream",
          "name": "stderr",
          "text": [
            "\rFinal Val for OOF: 100%|\u2588\u2588\u2588\u2588\u2588\u2588\u2588\u2588\u2588\u2588| 3/3 [00:00<00:00,  7.42it/s]"
          ]
        },
        {
          "output_type": "stream",
          "name": "stdout",
          "text": [
            "ConvNeXt v2 Fold 5 OOF WLL: 0.4573\n\nConvNeXt v2 CV Mean WLL: 0.4508 +/- 0.0069\n"
          ]
        },
        {
          "output_type": "stream",
          "name": "stderr",
          "text": [
            "\n"
          ]
        }
      ]
    },
    {
      "id": "67b1e0af-26f4-42bf-98b6-23fb3f05d391",
      "cell_type": "code",
      "metadata": {},
      "source": [
        "# Compute OOF logits for ConvNeXt v2 temperature scaling\n",
        "import torch\n",
        "import numpy as np\n",
        "import pandas as pd\n",
        "from tqdm import tqdm\n",
        "from torch.utils.data import DataLoader\n",
        "\n",
        "# Reuse MIPDataset and val_transform from earlier cells\n",
        "full_train_df = pd.read_csv('data/train_mips.csv')\n",
        "label_cols = ['C1','C2','C3','C4','C5','C6','C7']\n",
        "y_full = full_train_df[label_cols].values\n",
        "mip_dir = 'data/mips/train'\n",
        "n_folds = 5\n",
        "\n",
        "from iterstrat.ml_stratifiers import MultilabelStratifiedKFold\n",
        "skf = MultilabelStratifiedKFold(n_splits=n_folds, shuffle=True, random_state=123)\n",
        "splits = list(skf.split(full_train_df, y_full))\n",
        "\n",
        "def build_convnext_v2(num_classes=7):\n",
        "    import timm\n",
        "    m = timm.create_model('convnext_tiny', pretrained=False, num_classes=num_classes, in_chans=3,\n",
        "                          drop_rate=0.4, drop_path_rate=0.2)\n",
        "    return m.to(device).eval()\n",
        "\n",
        "oof_logits_full_v2 = np.zeros((len(full_train_df), 7), dtype=np.float32)\n",
        "\n",
        "for fold, (train_idx, val_idx) in enumerate(splits, 1):\n",
        "    print(f'Computing OOF logits for ConvNeXt v2 Fold {fold}')\n",
        "    val_df_f = full_train_df.iloc[val_idx].reset_index(drop=True)\n",
        "    val_ds = MIPDataset(val_df_f, mip_dir, label_cols, val_transform)\n",
        "    val_loader = DataLoader(val_ds, batch_size=16, shuffle=False, num_workers=4, pin_memory=True)\n",
        "\n",
        "    ckpt = f'fold_{fold}_convnext_v2.pth'\n",
        "    model = build_convnext_v2(7)\n",
        "    sd = torch.load(ckpt, map_location='cpu')\n",
        "    model.load_state_dict(sd, strict=True)\n",
        "\n",
        "    model.eval()\n",
        "    fold_logits = []\n",
        "    with torch.no_grad():\n",
        "        for images, _ in tqdm(val_loader, desc=f'Fold {fold} OOF logits v2'):\n",
        "            images = images.to(device)\n",
        "            logits = model(images)\n",
        "            fold_logits.append(logits.cpu().numpy())\n",
        "    fold_logits = np.concatenate(fold_logits, axis=0)\n",
        "    oof_logits_full_v2[val_idx] = fold_logits\n",
        "    print(f'Fold {fold} OOF logits v2 shape: {fold_logits.shape}')\n",
        "\n",
        "# Save OOF logits v2\n",
        "oof_logits_df_v2 = full_train_df[['StudyInstanceUID']].copy()\n",
        "for i, col in enumerate(label_cols):\n",
        "    oof_logits_df_v2[col] = oof_logits_full_v2[:, i]\n",
        "oof_logits_df_v2.to_csv('oof_logits_convnext_v2.csv', index=False)\n",
        "print('OOF logits v2 saved to oof_logits_convnext_v2.csv')\n",
        "\n",
        "# Quick check: Compute probs from logits and verify matches oof_predictions_convnext_v2.csv\n",
        "oof_probs_from_logits_v2 = 1 / (1 + np.exp(-oof_logits_full_v2))\n",
        "oof_df_v2 = pd.read_csv('oof_predictions_convnext_v2.csv')\n",
        "oof_probs_saved_v2 = oof_df_v2[label_cols].values\n",
        "print(f'Probs v2 match (max diff): {np.max(np.abs(oof_probs_from_logits_v2 - oof_probs_saved_v2)):.6f}')"
      ],
      "execution_count": 15,
      "outputs": [
        {
          "output_type": "stream",
          "name": "stdout",
          "text": [
            "Computing OOF logits for ConvNeXt v2 Fold 1\n"
          ]
        },
        {
          "output_type": "stream",
          "name": "stderr",
          "text": [
            "\rFold 1 OOF logits v2:   0%|          | 0/3 [00:00<?, ?it/s]"
          ]
        },
        {
          "output_type": "stream",
          "name": "stderr",
          "text": [
            "\rFold 1 OOF logits v2:  33%|\u2588\u2588\u2588\u258e      | 1/3 [00:00<00:00,  4.04it/s]"
          ]
        },
        {
          "output_type": "stream",
          "name": "stderr",
          "text": [
            "\rFold 1 OOF logits v2: 100%|\u2588\u2588\u2588\u2588\u2588\u2588\u2588\u2588\u2588\u2588| 3/3 [00:00<00:00,  9.64it/s]"
          ]
        },
        {
          "output_type": "stream",
          "name": "stderr",
          "text": [
            "\rFold 1 OOF logits v2: 100%|\u2588\u2588\u2588\u2588\u2588\u2588\u2588\u2588\u2588\u2588| 3/3 [00:00<00:00,  7.40it/s]"
          ]
        },
        {
          "output_type": "stream",
          "name": "stderr",
          "text": [
            "\n"
          ]
        },
        {
          "output_type": "stream",
          "name": "stdout",
          "text": [
            "Fold 1 OOF logits v2 shape: (41, 7)\nComputing OOF logits for ConvNeXt v2 Fold 2\n"
          ]
        },
        {
          "output_type": "stream",
          "name": "stderr",
          "text": [
            "\rFold 2 OOF logits v2:   0%|          | 0/3 [00:00<?, ?it/s]"
          ]
        },
        {
          "output_type": "stream",
          "name": "stderr",
          "text": [
            "\rFold 2 OOF logits v2:  33%|\u2588\u2588\u2588\u258e      | 1/3 [00:00<00:00,  4.03it/s]"
          ]
        },
        {
          "output_type": "stream",
          "name": "stderr",
          "text": [
            "\rFold 2 OOF logits v2: 100%|\u2588\u2588\u2588\u2588\u2588\u2588\u2588\u2588\u2588\u2588| 3/3 [00:00<00:00,  9.58it/s]"
          ]
        },
        {
          "output_type": "stream",
          "name": "stderr",
          "text": [
            "\rFold 2 OOF logits v2: 100%|\u2588\u2588\u2588\u2588\u2588\u2588\u2588\u2588\u2588\u2588| 3/3 [00:00<00:00,  7.52it/s]"
          ]
        },
        {
          "output_type": "stream",
          "name": "stderr",
          "text": [
            "\n"
          ]
        },
        {
          "output_type": "stream",
          "name": "stdout",
          "text": [
            "Fold 2 OOF logits v2 shape: (41, 7)\nComputing OOF logits for ConvNeXt v2 Fold 3\n"
          ]
        },
        {
          "output_type": "stream",
          "name": "stderr",
          "text": [
            "\rFold 3 OOF logits v2:   0%|          | 0/3 [00:00<?, ?it/s]"
          ]
        },
        {
          "output_type": "stream",
          "name": "stderr",
          "text": [
            "\rFold 3 OOF logits v2:  33%|\u2588\u2588\u2588\u258e      | 1/3 [00:00<00:00,  4.08it/s]"
          ]
        },
        {
          "output_type": "stream",
          "name": "stderr",
          "text": [
            "\rFold 3 OOF logits v2: 100%|\u2588\u2588\u2588\u2588\u2588\u2588\u2588\u2588\u2588\u2588| 3/3 [00:00<00:00,  9.82it/s]"
          ]
        },
        {
          "output_type": "stream",
          "name": "stderr",
          "text": [
            "\rFold 3 OOF logits v2: 100%|\u2588\u2588\u2588\u2588\u2588\u2588\u2588\u2588\u2588\u2588| 3/3 [00:00<00:00,  7.62it/s]"
          ]
        },
        {
          "output_type": "stream",
          "name": "stderr",
          "text": [
            "\n"
          ]
        },
        {
          "output_type": "stream",
          "name": "stdout",
          "text": [
            "Fold 3 OOF logits v2 shape: (40, 7)\nComputing OOF logits for ConvNeXt v2 Fold 4\n"
          ]
        },
        {
          "output_type": "stream",
          "name": "stderr",
          "text": [
            "\rFold 4 OOF logits v2:   0%|          | 0/3 [00:00<?, ?it/s]"
          ]
        },
        {
          "output_type": "stream",
          "name": "stderr",
          "text": [
            "\rFold 4 OOF logits v2:  33%|\u2588\u2588\u2588\u258e      | 1/3 [00:00<00:00,  4.06it/s]"
          ]
        },
        {
          "output_type": "stream",
          "name": "stderr",
          "text": [
            "\rFold 4 OOF logits v2: 100%|\u2588\u2588\u2588\u2588\u2588\u2588\u2588\u2588\u2588\u2588| 3/3 [00:00<00:00,  9.74it/s]"
          ]
        },
        {
          "output_type": "stream",
          "name": "stderr",
          "text": [
            "\rFold 4 OOF logits v2: 100%|\u2588\u2588\u2588\u2588\u2588\u2588\u2588\u2588\u2588\u2588| 3/3 [00:00<00:00,  7.63it/s]"
          ]
        },
        {
          "output_type": "stream",
          "name": "stderr",
          "text": [
            "\n"
          ]
        },
        {
          "output_type": "stream",
          "name": "stdout",
          "text": [
            "Fold 4 OOF logits v2 shape: (40, 7)\nComputing OOF logits for ConvNeXt v2 Fold 5\n"
          ]
        },
        {
          "output_type": "stream",
          "name": "stderr",
          "text": [
            "\rFold 5 OOF logits v2:   0%|          | 0/3 [00:00<?, ?it/s]"
          ]
        },
        {
          "output_type": "stream",
          "name": "stderr",
          "text": [
            "\rFold 5 OOF logits v2:  33%|\u2588\u2588\u2588\u258e      | 1/3 [00:00<00:00,  3.85it/s]"
          ]
        },
        {
          "output_type": "stream",
          "name": "stderr",
          "text": [
            "\rFold 5 OOF logits v2: 100%|\u2588\u2588\u2588\u2588\u2588\u2588\u2588\u2588\u2588\u2588| 3/3 [00:00<00:00,  9.48it/s]"
          ]
        },
        {
          "output_type": "stream",
          "name": "stderr",
          "text": [
            "\rFold 5 OOF logits v2: 100%|\u2588\u2588\u2588\u2588\u2588\u2588\u2588\u2588\u2588\u2588| 3/3 [00:00<00:00,  7.32it/s]"
          ]
        },
        {
          "output_type": "stream",
          "name": "stdout",
          "text": [
            "Fold 5 OOF logits v2 shape: (40, 7)\nOOF logits v2 saved to oof_logits_convnext_v2.csv\nProbs v2 match (max diff): 0.000000\n"
          ]
        },
        {
          "output_type": "stream",
          "name": "stderr",
          "text": [
            "\n"
          ]
        }
      ]
    },
    {
      "id": "d7b8f943-8f9a-479b-8d45-9148bb26d903",
      "cell_type": "code",
      "metadata": {},
      "source": [
        "# Fit per-class temperature scaling for ConvNeXt ensemble (v1 + v2) using averaged OOF logits\n",
        "import numpy as np\n",
        "import pandas as pd\n",
        "from scipy.optimize import minimize_scalar\n",
        "from scipy.special import expit as sigmoid\n",
        "\n",
        "# Load data\n",
        "oof_logits_df_v1 = pd.read_csv('oof_logits_convnext.csv')\n",
        "oof_logits_df_v2 = pd.read_csv('oof_logits_convnext_v2.csv')\n",
        "train_df = pd.read_csv('data/train_mips.csv')\n",
        "label_cols = ['C1','C2','C3','C4','C5','C6','C7']\n",
        "oof_logits_v1 = oof_logits_df_v1[label_cols].values  # (202, 7)\n",
        "oof_logits_v2 = oof_logits_df_v2[label_cols].values  # (202, 7)\n",
        "ensemble_oof_logits = (oof_logits_v1 + oof_logits_v2) / 2.0\n",
        "y_true = train_df[label_cols].values  # (202, 7)\n",
        "\n",
        "def binary_log_loss(y_true, y_pred):\n",
        "    y_pred = np.clip(y_pred, 1e-6, 1-1e-6)\n",
        "    return -np.mean(y_true * np.log(y_pred) + (1 - y_true) * np.log(1 - y_pred))\n",
        "\n",
        "# Optimize T per class on ensemble logits\n",
        "temperatures_ensemble = np.ones(7)\n",
        "for i, col in enumerate(label_cols):\n",
        "    def loss_func(T):\n",
        "        logits_scaled = ensemble_oof_logits[:, i] / T\n",
        "        probs = sigmoid(logits_scaled)\n",
        "        return binary_log_loss(y_true[:, i], probs)\n",
        "    res = minimize_scalar(loss_func, bounds=(0.5, 2.0), method='bounded')\n",
        "    temperatures_ensemble[i] = res.x\n",
        "    print(f'{col} ensemble temperature: {temperatures_ensemble[i]:.4f}, min loss: {res.fun:.4f}')\n",
        "\n",
        "# Save ensemble temperatures\n",
        "np.save('temperatures_ensemble.npy', temperatures_ensemble)\n",
        "print('Ensemble temperatures saved to temperatures_ensemble.npy')\n",
        "\n",
        "# Quick check: Compute calibrated ensemble OOF BCE (7 classes, weights=1)\n",
        "logits_calib_ens = ensemble_oof_logits / temperatures_ensemble\n",
        "probs_calib_ens = sigmoid(logits_calib_ens)\n",
        "wll_calib_ens = np.mean([binary_log_loss(y_true[:, i], probs_calib_ens[:, i]) for i in range(7)])\n",
        "wll_raw_ens = np.mean([binary_log_loss(y_true[:, i], sigmoid(ensemble_oof_logits[:, i])) for i in range(7)])\n",
        "print(f'Ensemble Raw OOF BCE (avg): {wll_raw_ens:.4f}, Calibrated: {wll_calib_ens:.4f} (delta: {wll_calib_ens - wll_raw_ens:.4f})')"
      ],
      "execution_count": 16,
      "outputs": [
        {
          "output_type": "stream",
          "name": "stdout",
          "text": [
            "C1 ensemble temperature: 0.7869, min loss: 0.3267\nC2 ensemble temperature: 0.6527, min loss: 0.4224\nC3 ensemble temperature: 0.8730, min loss: 0.1846\nC4 ensemble temperature: 0.7786, min loss: 0.2157\nC5 ensemble temperature: 0.7154, min loss: 0.3491\nC6 ensemble temperature: 0.6866, min loss: 0.4584\nC7 ensemble temperature: 0.6223, min loss: 0.4495\nEnsemble temperatures saved to temperatures_ensemble.npy\nEnsemble Raw OOF BCE (avg): 0.3609, Calibrated: 0.3438 (delta: -0.0171)\n"
          ]
        }
      ]
    },
    {
      "id": "70bd2b6d-caa3-42ea-8284-35b7eaf62b29",
      "cell_type": "code",
      "metadata": {},
      "source": [
        "# RegNetY-004 5-fold CV: diverse third backbone, stronger reg (drop=0.4, path=0.2), seed=456\n",
        "from iterstrat.ml_stratifiers import MultilabelStratifiedKFold\n",
        "from torch.optim.lr_scheduler import ReduceLROnPlateau\n",
        "from torch.utils.data import WeightedRandomSampler\n",
        "import torch.nn as nn\n",
        "import torch.nn.functional as F\n",
        "import timm\n",
        "\n",
        "full_train_df = pd.read_csv('data/train_mips.csv')\n",
        "label_cols = ['C1','C2','C3','C4','C5','C6','C7']\n",
        "y_full = full_train_df[label_cols].values\n",
        "mip_dir = 'data/mips/train'\n",
        "n_folds = 5\n",
        "\n",
        "skf = MultilabelStratifiedKFold(n_splits=n_folds, shuffle=True, random_state=456)\n",
        "splits = list(skf.split(full_train_df, y_full))\n",
        "\n",
        "def build_regnet(num_classes=7):\n",
        "    m = timm.create_model('regnety_004', pretrained=True, num_classes=num_classes, in_chans=3,\n",
        "                          drop_rate=0.4, drop_path_rate=0.2)\n",
        "    return m\n",
        "\n",
        "oof_preds_full_reg = np.zeros((len(full_train_df), 7), dtype=np.float32)\n",
        "oof_overall_full_reg = np.zeros(len(full_train_df), dtype=np.float32)\n",
        "fold_scores_reg = []\n",
        "\n",
        "for fold, (train_idx, val_idx) in enumerate(splits, 1):\n",
        "    print(f'\\n=== RegNetY Fold {fold}/{n_folds} ===')\n",
        "    train_df_f = full_train_df.iloc[train_idx].reset_index(drop=True)\n",
        "    val_df_f = full_train_df.iloc[val_idx].reset_index(drop=True)\n",
        "\n",
        "    # pos_weight (clip=2.0)\n",
        "    y_tr = train_df_f[label_cols].values\n",
        "    pos = (y_tr == 1).sum(axis=0); neg = (y_tr == 0).sum(axis=0)\n",
        "    w = np.minimum(neg / (pos + 1e-6), 2.0).astype(np.float32)\n",
        "    fold_pos_weight = torch.tensor(w, dtype=torch.float32, device=device)\n",
        "\n",
        "    # WeightedRandomSampler (cap=3.0)\n",
        "    class_rarity = np.minimum(neg / (pos + 1e-6), 10.0).astype(np.float32)\n",
        "    sample_weight = (y_tr * class_rarity).max(axis=1)\n",
        "    sample_weight = np.where(sample_weight > 0, sample_weight, 1.0)\n",
        "    sample_weight = np.sqrt(sample_weight)\n",
        "    sample_weight = np.clip(sample_weight, 1.0, 3.0)\n",
        "    sampler = WeightedRandomSampler(torch.from_numpy(sample_weight), len(sample_weight), replacement=True)\n",
        "\n",
        "    train_ds = MIPDataset(train_df_f, mip_dir, label_cols, train_transform)\n",
        "    val_ds = MIPDataset(val_df_f, mip_dir, label_cols, val_transform)\n",
        "    train_loader = DataLoader(train_ds, batch_size=16, sampler=sampler, num_workers=4, pin_memory=True, drop_last=False)\n",
        "    val_loader = DataLoader(val_ds, batch_size=16, shuffle=False, num_workers=4, pin_memory=True, drop_last=False)\n",
        "\n",
        "    # Model\n",
        "    model = build_regnet(7).to(device)\n",
        "\n",
        "    # Bias init from priors\n",
        "    with torch.no_grad():\n",
        "        priors = np.clip(y_tr.mean(axis=0) + 1e-6, 1e-6, 1-1e-6)\n",
        "        bias = np.log(priors / (1 - priors)).astype(np.float32)\n",
        "        head = getattr(model, 'head', None)\n",
        "        if head is not None and hasattr(head, 'fc') and head.fc.bias is not None:\n",
        "            head.fc.bias.copy_(torch.from_numpy(bias).to(head.fc.bias.device))\n",
        "\n",
        "    optimizer = optim.AdamW(model.parameters(), lr=2e-5, weight_decay=1e-4)\n",
        "    scheduler = ReduceLROnPlateau(optimizer, mode='min', factor=0.5, patience=2, verbose=True, min_lr=1e-6)\n",
        "    criterion = SmoothedBCEWithLogitsLoss(pos_weight=fold_pos_weight, smoothing=0.0)\n",
        "    scaler = GradScaler()\n",
        "    early_stopping = EarlyStopping(patience=5, min_delta=0.001, restore_best_weights=False)\n",
        "\n",
        "    # EMA\n",
        "    ema = timm.utils.ModelEmaV2(model, decay=0.995)\n",
        "\n",
        "    num_epochs = 15\n",
        "    warmup_epochs = 2\n",
        "    best_wll = float('inf')\n",
        "    best_state = None\n",
        "\n",
        "    for epoch in range(num_epochs):\n",
        "        # Head warmup\n",
        "        if epoch < warmup_epochs:\n",
        "            for p in model.parameters(): p.requires_grad = False\n",
        "            if hasattr(model, 'head'):\n",
        "                for p in model.head.parameters(): p.requires_grad = True\n",
        "        else:\n",
        "            for p in model.parameters(): p.requires_grad = True\n",
        "\n",
        "        model.train()\n",
        "        train_loss = 0.0\n",
        "        for images, labels in tqdm(train_loader, desc=f'Epoch {epoch+1}/{num_epochs} Train'):\n",
        "            images = images.to(device); labels7 = labels.to(device)\n",
        "            optimizer.zero_grad(set_to_none=True)\n",
        "            with torch.cuda.amp.autocast():\n",
        "                logits = model(images)\n",
        "                loss = criterion(logits, labels7)\n",
        "            scaler.scale(loss).backward()\n",
        "            nn_utils.clip_grad_norm_(model.parameters(), max_norm=1.0)\n",
        "            scaler.step(optimizer)\n",
        "            scaler.update()\n",
        "            ema.update(model)\n",
        "            train_loss += loss.item() * images.size(0)\n",
        "        train_loss /= len(train_ds)\n",
        "\n",
        "        # Validation with EMA\n",
        "        ema.module.eval()\n",
        "        val_wll = 0.0\n",
        "        with torch.no_grad():\n",
        "            for images, labels in tqdm(val_loader, desc='Val'):\n",
        "                images = images.to(device); labels7 = labels.to(device)\n",
        "                logits = ema.module(images)\n",
        "                probs7 = torch.sigmoid(logits)\n",
        "                probs_overall = probs7.max(dim=1, keepdim=True)[0]\n",
        "                labels_overall = labels7.max(dim=1, keepdim=True)[0]\n",
        "                probs8 = torch.cat([probs7, probs_overall], dim=1)\n",
        "                labels8 = torch.cat([labels7, labels_overall], dim=1)\n",
        "                val_wll += weighted_log_loss_torch(labels8, probs8).item() * images.size(0)\n",
        "        val_wll /= len(val_ds)\n",
        "        scheduler.step(val_wll)\n",
        "        print(f'Epoch {epoch+1}: TrainBCE={train_loss:.4f}, ValWLL={val_wll:.4f}, LR={optimizer.param_groups[0][\"lr\"]:.2e}')\n",
        "\n",
        "        if val_wll < best_wll:\n",
        "            best_wll = val_wll\n",
        "            best_state = ema.module.state_dict()\n",
        "\n",
        "        if early_stopping(val_wll, model):\n",
        "            print(f'Early stopping at epoch {epoch+1}')\n",
        "            break\n",
        "\n",
        "    # Save best EMA weights\n",
        "    torch.save(best_state, f'fold_{fold}_regnet.pth')\n",
        "    print(f'RegNetY Fold {fold} best OOF WLL (val): {best_wll:.4f}')\n",
        "\n",
        "    # OOF collection with best EMA\n",
        "    ema.module.load_state_dict(best_state)\n",
        "    ema.module.eval()\n",
        "    fold_oof_preds_7 = np.zeros((len(val_df_f), 7), dtype=np.float32)\n",
        "    fold_oof_overall = np.zeros(len(val_df_f), dtype=np.float32)\n",
        "    start = 0\n",
        "    with torch.no_grad():\n",
        "        for images, _ in tqdm(val_loader, desc='Final Val for OOF'):\n",
        "            images = images.to(device)\n",
        "            logits = ema.module(images)\n",
        "            probs7 = torch.sigmoid(logits).cpu().numpy()\n",
        "            probs_overall = probs7.max(axis=1)\n",
        "            bs = images.size(0)\n",
        "            fold_oof_preds_7[start:start+bs] = probs7\n",
        "            fold_oof_overall[start:start+bs] = probs_overall\n",
        "            start += bs\n",
        "\n",
        "    oof_preds_full_reg[val_idx] = fold_oof_preds_7\n",
        "    oof_overall_full_reg[val_idx] = fold_oof_overall\n",
        "\n",
        "    y_val = val_df_f[label_cols].values\n",
        "    fold_preds_8 = np.column_stack([fold_oof_preds_7, fold_oof_overall])\n",
        "    fold_labels_8 = np.column_stack([y_val, np.max(y_val, axis=1)])\n",
        "    fold_score = weighted_log_loss(fold_labels_8, fold_preds_8)\n",
        "    fold_scores_reg.append(fold_score)\n",
        "    print(f'RegNetY Fold {fold} OOF WLL: {fold_score:.4f}')\n",
        "\n",
        "cv_mean_reg = float(np.mean(fold_scores_reg)); cv_std_reg = float(np.std(fold_scores_reg))\n",
        "print(f'\\nRegNetY CV Mean WLL: {cv_mean_reg:.4f} +/- {cv_std_reg:.4f}')\n",
        "reg_oof_df = full_train_df[['StudyInstanceUID']].copy()\n",
        "reg_oof_df[label_cols] = oof_preds_full_reg\n",
        "reg_oof_df['patient_overall'] = oof_overall_full_reg\n",
        "reg_oof_df.to_csv('oof_predictions_regnet.csv', index=False)"
      ],
      "execution_count": 18,
      "outputs": [
        {
          "output_type": "stream",
          "name": "stdout",
          "text": [
            "\n=== RegNetY Fold 1/5 ===\n"
          ]
        },
        {
          "output_type": "stream",
          "name": "stderr",
          "text": [
            "\rEpoch 1/15 Train:   0%|          | 0/11 [00:00<?, ?it/s]"
          ]
        },
        {
          "output_type": "stream",
          "name": "stderr",
          "text": [
            "\rEpoch 1/15 Train:   9%|\u2589         | 1/11 [00:00<00:03,  2.82it/s]"
          ]
        },
        {
          "output_type": "stream",
          "name": "stderr",
          "text": [
            "\rEpoch 1/15 Train:  45%|\u2588\u2588\u2588\u2588\u258c     | 5/11 [00:00<00:00, 13.08it/s]"
          ]
        },
        {
          "output_type": "stream",
          "name": "stderr",
          "text": [
            "\rEpoch 1/15 Train:  82%|\u2588\u2588\u2588\u2588\u2588\u2588\u2588\u2588\u258f | 9/11 [00:00<00:00, 20.55it/s]"
          ]
        },
        {
          "output_type": "stream",
          "name": "stderr",
          "text": [
            "\rEpoch 1/15 Train: 100%|\u2588\u2588\u2588\u2588\u2588\u2588\u2588\u2588\u2588\u2588| 11/11 [00:00<00:00, 15.55it/s]"
          ]
        },
        {
          "output_type": "stream",
          "name": "stderr",
          "text": [
            "\n"
          ]
        },
        {
          "output_type": "stream",
          "name": "stderr",
          "text": [
            "\rVal:   0%|          | 0/3 [00:00<?, ?it/s]"
          ]
        },
        {
          "output_type": "stream",
          "name": "stderr",
          "text": [
            "\rVal:  33%|\u2588\u2588\u2588\u258e      | 1/3 [00:00<00:00,  4.01it/s]"
          ]
        },
        {
          "output_type": "stream",
          "name": "stderr",
          "text": [
            "\rVal: 100%|\u2588\u2588\u2588\u2588\u2588\u2588\u2588\u2588\u2588\u2588| 3/3 [00:00<00:00,  8.68it/s]"
          ]
        },
        {
          "output_type": "stream",
          "name": "stderr",
          "text": [
            "\n"
          ]
        },
        {
          "output_type": "stream",
          "name": "stdout",
          "text": [
            "Epoch 1: TrainBCE=0.8361, ValWLL=0.4585, LR=2.00e-05\n"
          ]
        },
        {
          "output_type": "stream",
          "name": "stderr",
          "text": [
            "\rEpoch 2/15 Train:   0%|          | 0/11 [00:00<?, ?it/s]"
          ]
        },
        {
          "output_type": "stream",
          "name": "stderr",
          "text": [
            "\rEpoch 2/15 Train:   9%|\u2589         | 1/11 [00:00<00:03,  3.09it/s]"
          ]
        },
        {
          "output_type": "stream",
          "name": "stderr",
          "text": [
            "\rEpoch 2/15 Train:  45%|\u2588\u2588\u2588\u2588\u258c     | 5/11 [00:00<00:00, 13.80it/s]"
          ]
        },
        {
          "output_type": "stream",
          "name": "stderr",
          "text": [
            "\rEpoch 2/15 Train:  82%|\u2588\u2588\u2588\u2588\u2588\u2588\u2588\u2588\u258f | 9/11 [00:00<00:00, 21.35it/s]"
          ]
        },
        {
          "output_type": "stream",
          "name": "stderr",
          "text": [
            "\rEpoch 2/15 Train: 100%|\u2588\u2588\u2588\u2588\u2588\u2588\u2588\u2588\u2588\u2588| 11/11 [00:00<00:00, 17.12it/s]"
          ]
        },
        {
          "output_type": "stream",
          "name": "stderr",
          "text": [
            "\n"
          ]
        },
        {
          "output_type": "stream",
          "name": "stderr",
          "text": [
            "\rVal:   0%|          | 0/3 [00:00<?, ?it/s]"
          ]
        },
        {
          "output_type": "stream",
          "name": "stderr",
          "text": [
            "\rVal:  33%|\u2588\u2588\u2588\u258e      | 1/3 [00:00<00:00,  4.63it/s]"
          ]
        },
        {
          "output_type": "stream",
          "name": "stderr",
          "text": [
            "\rVal: 100%|\u2588\u2588\u2588\u2588\u2588\u2588\u2588\u2588\u2588\u2588| 3/3 [00:00<00:00, 10.37it/s]"
          ]
        },
        {
          "output_type": "stream",
          "name": "stderr",
          "text": [
            "\n"
          ]
        },
        {
          "output_type": "stream",
          "name": "stdout",
          "text": [
            "Epoch 2: TrainBCE=0.7832, ValWLL=0.4590, LR=2.00e-05\n"
          ]
        },
        {
          "output_type": "stream",
          "name": "stderr",
          "text": [
            "\rEpoch 3/15 Train:   0%|          | 0/11 [00:00<?, ?it/s]"
          ]
        },
        {
          "output_type": "stream",
          "name": "stderr",
          "text": [
            "\rEpoch 3/15 Train:   9%|\u2589         | 1/11 [00:00<00:03,  2.54it/s]"
          ]
        },
        {
          "output_type": "stream",
          "name": "stderr",
          "text": [
            "\rEpoch 3/15 Train:  27%|\u2588\u2588\u258b       | 3/11 [00:00<00:01,  6.89it/s]"
          ]
        },
        {
          "output_type": "stream",
          "name": "stderr",
          "text": [
            "\rEpoch 3/15 Train:  45%|\u2588\u2588\u2588\u2588\u258c     | 5/11 [00:00<00:00, 10.26it/s]"
          ]
        },
        {
          "output_type": "stream",
          "name": "stderr",
          "text": [
            "\rEpoch 3/15 Train:  64%|\u2588\u2588\u2588\u2588\u2588\u2588\u258e   | 7/11 [00:00<00:00, 12.78it/s]"
          ]
        },
        {
          "output_type": "stream",
          "name": "stderr",
          "text": [
            "\rEpoch 3/15 Train:  82%|\u2588\u2588\u2588\u2588\u2588\u2588\u2588\u2588\u258f | 9/11 [00:00<00:00, 14.71it/s]"
          ]
        },
        {
          "output_type": "stream",
          "name": "stderr",
          "text": [
            "\rEpoch 3/15 Train: 100%|\u2588\u2588\u2588\u2588\u2588\u2588\u2588\u2588\u2588\u2588| 11/11 [00:00<00:00, 13.66it/s]"
          ]
        },
        {
          "output_type": "stream",
          "name": "stderr",
          "text": [
            "\rEpoch 3/15 Train: 100%|\u2588\u2588\u2588\u2588\u2588\u2588\u2588\u2588\u2588\u2588| 11/11 [00:01<00:00, 10.55it/s]"
          ]
        },
        {
          "output_type": "stream",
          "name": "stderr",
          "text": [
            "\n"
          ]
        },
        {
          "output_type": "stream",
          "name": "stderr",
          "text": [
            "\rVal:   0%|          | 0/3 [00:00<?, ?it/s]"
          ]
        },
        {
          "output_type": "stream",
          "name": "stderr",
          "text": [
            "\rVal:  33%|\u2588\u2588\u2588\u258e      | 1/3 [00:00<00:00,  4.63it/s]"
          ]
        },
        {
          "output_type": "stream",
          "name": "stderr",
          "text": [
            "\rVal: 100%|\u2588\u2588\u2588\u2588\u2588\u2588\u2588\u2588\u2588\u2588| 3/3 [00:00<00:00, 10.29it/s]"
          ]
        },
        {
          "output_type": "stream",
          "name": "stderr",
          "text": [
            "\n"
          ]
        },
        {
          "output_type": "stream",
          "name": "stdout",
          "text": [
            "Epoch 3: TrainBCE=0.8814, ValWLL=0.4595, LR=2.00e-05\n"
          ]
        },
        {
          "output_type": "stream",
          "name": "stderr",
          "text": [
            "\rEpoch 4/15 Train:   0%|          | 0/11 [00:00<?, ?it/s]"
          ]
        },
        {
          "output_type": "stream",
          "name": "stderr",
          "text": [
            "\rEpoch 4/15 Train:   9%|\u2589         | 1/11 [00:00<00:03,  2.70it/s]"
          ]
        },
        {
          "output_type": "stream",
          "name": "stderr",
          "text": [
            "\rEpoch 4/15 Train:  27%|\u2588\u2588\u258b       | 3/11 [00:00<00:01,  7.27it/s]"
          ]
        },
        {
          "output_type": "stream",
          "name": "stderr",
          "text": [
            "\rEpoch 4/15 Train:  45%|\u2588\u2588\u2588\u2588\u258c     | 5/11 [00:00<00:00, 10.65it/s]"
          ]
        },
        {
          "output_type": "stream",
          "name": "stderr",
          "text": [
            "\rEpoch 4/15 Train:  64%|\u2588\u2588\u2588\u2588\u2588\u2588\u258e   | 7/11 [00:00<00:00, 13.11it/s]"
          ]
        },
        {
          "output_type": "stream",
          "name": "stderr",
          "text": [
            "\rEpoch 4/15 Train:  82%|\u2588\u2588\u2588\u2588\u2588\u2588\u2588\u2588\u258f | 9/11 [00:00<00:00, 14.89it/s]"
          ]
        },
        {
          "output_type": "stream",
          "name": "stderr",
          "text": [
            "\rEpoch 4/15 Train: 100%|\u2588\u2588\u2588\u2588\u2588\u2588\u2588\u2588\u2588\u2588| 11/11 [00:00<00:00, 11.61it/s]"
          ]
        },
        {
          "output_type": "stream",
          "name": "stderr",
          "text": [
            "\rVal:  33%|\u2588\u2588\u2588\u258e      | 1/3 [00:00<00:00,  4.47it/s]"
          ]
        },
        {
          "output_type": "stream",
          "name": "stderr",
          "text": [
            "\rVal: 100%|\u2588\u2588\u2588\u2588\u2588\u2588\u2588\u2588\u2588\u2588| 3/3 [00:00<00:00, 10.13it/s]"
          ]
        },
        {
          "output_type": "stream",
          "name": "stderr",
          "text": [
            "\n"
          ]
        },
        {
          "output_type": "stream",
          "name": "stdout",
          "text": [
            "Epoch 4: TrainBCE=0.7838, ValWLL=0.4602, LR=1.00e-05\n"
          ]
        },
        {
          "output_type": "stream",
          "name": "stderr",
          "text": [
            "\rEpoch 5/15 Train:   0%|          | 0/11 [00:00<?, ?it/s]"
          ]
        },
        {
          "output_type": "stream",
          "name": "stderr",
          "text": [
            "\rEpoch 5/15 Train:   9%|\u2589         | 1/11 [00:00<00:03,  2.79it/s]"
          ]
        },
        {
          "output_type": "stream",
          "name": "stderr",
          "text": [
            "\rEpoch 5/15 Train:  27%|\u2588\u2588\u258b       | 3/11 [00:00<00:01,  7.33it/s]"
          ]
        },
        {
          "output_type": "stream",
          "name": "stderr",
          "text": [
            "\rEpoch 5/15 Train:  45%|\u2588\u2588\u2588\u2588\u258c     | 5/11 [00:00<00:00, 10.77it/s]"
          ]
        },
        {
          "output_type": "stream",
          "name": "stderr",
          "text": [
            "\rEpoch 5/15 Train:  64%|\u2588\u2588\u2588\u2588\u2588\u2588\u258e   | 7/11 [00:00<00:00, 13.28it/s]"
          ]
        },
        {
          "output_type": "stream",
          "name": "stderr",
          "text": [
            "\rEpoch 5/15 Train:  82%|\u2588\u2588\u2588\u2588\u2588\u2588\u2588\u2588\u258f | 9/11 [00:00<00:00, 15.07it/s]"
          ]
        },
        {
          "output_type": "stream",
          "name": "stderr",
          "text": [
            "\rEpoch 5/15 Train: 100%|\u2588\u2588\u2588\u2588\u2588\u2588\u2588\u2588\u2588\u2588| 11/11 [00:00<00:00, 11.81it/s]"
          ]
        },
        {
          "output_type": "stream",
          "name": "stderr",
          "text": [
            "\n"
          ]
        },
        {
          "output_type": "stream",
          "name": "stderr",
          "text": [
            "\rVal:   0%|          | 0/3 [00:00<?, ?it/s]"
          ]
        },
        {
          "output_type": "stream",
          "name": "stderr",
          "text": [
            "\rVal:  33%|\u2588\u2588\u2588\u258e      | 1/3 [00:00<00:00,  4.74it/s]"
          ]
        },
        {
          "output_type": "stream",
          "name": "stderr",
          "text": [
            "\rVal: 100%|\u2588\u2588\u2588\u2588\u2588\u2588\u2588\u2588\u2588\u2588| 3/3 [00:00<00:00, 10.42it/s]"
          ]
        },
        {
          "output_type": "stream",
          "name": "stderr",
          "text": [
            "\n"
          ]
        },
        {
          "output_type": "stream",
          "name": "stdout",
          "text": [
            "Epoch 5: TrainBCE=0.7548, ValWLL=0.4607, LR=1.00e-05\n"
          ]
        },
        {
          "output_type": "stream",
          "name": "stderr",
          "text": [
            "\rEpoch 6/15 Train:   0%|          | 0/11 [00:00<?, ?it/s]"
          ]
        },
        {
          "output_type": "stream",
          "name": "stderr",
          "text": [
            "\rEpoch 6/15 Train:   9%|\u2589         | 1/11 [00:00<00:03,  2.80it/s]"
          ]
        },
        {
          "output_type": "stream",
          "name": "stderr",
          "text": [
            "\rEpoch 6/15 Train:  27%|\u2588\u2588\u258b       | 3/11 [00:00<00:01,  7.33it/s]"
          ]
        },
        {
          "output_type": "stream",
          "name": "stderr",
          "text": [
            "\rEpoch 6/15 Train:  45%|\u2588\u2588\u2588\u2588\u258c     | 5/11 [00:00<00:00, 10.73it/s]"
          ]
        },
        {
          "output_type": "stream",
          "name": "stderr",
          "text": [
            "\rEpoch 6/15 Train:  64%|\u2588\u2588\u2588\u2588\u2588\u2588\u258e   | 7/11 [00:00<00:00, 13.22it/s]"
          ]
        },
        {
          "output_type": "stream",
          "name": "stderr",
          "text": [
            "\rEpoch 6/15 Train:  82%|\u2588\u2588\u2588\u2588\u2588\u2588\u2588\u2588\u258f | 9/11 [00:00<00:00, 14.73it/s]"
          ]
        },
        {
          "output_type": "stream",
          "name": "stderr",
          "text": [
            "\rEpoch 6/15 Train: 100%|\u2588\u2588\u2588\u2588\u2588\u2588\u2588\u2588\u2588\u2588| 11/11 [00:00<00:00, 11.55it/s]"
          ]
        },
        {
          "output_type": "stream",
          "name": "stderr",
          "text": [
            "\n"
          ]
        },
        {
          "output_type": "stream",
          "name": "stderr",
          "text": [
            "\rVal:   0%|          | 0/3 [00:00<?, ?it/s]"
          ]
        },
        {
          "output_type": "stream",
          "name": "stderr",
          "text": [
            "\rVal:  33%|\u2588\u2588\u2588\u258e      | 1/3 [00:00<00:00,  4.20it/s]"
          ]
        },
        {
          "output_type": "stream",
          "name": "stderr",
          "text": [
            "\rVal: 100%|\u2588\u2588\u2588\u2588\u2588\u2588\u2588\u2588\u2588\u2588| 3/3 [00:00<00:00,  9.63it/s]"
          ]
        },
        {
          "output_type": "stream",
          "name": "stderr",
          "text": [
            "\n"
          ]
        },
        {
          "output_type": "stream",
          "name": "stdout",
          "text": [
            "Epoch 6: TrainBCE=0.8241, ValWLL=0.4607, LR=1.00e-05\nEarly stopping at epoch 6\nRegNetY Fold 1 best OOF WLL (val): 0.4585\n"
          ]
        },
        {
          "output_type": "stream",
          "name": "stderr",
          "text": [
            "\rFinal Val for OOF:   0%|          | 0/3 [00:00<?, ?it/s]"
          ]
        },
        {
          "output_type": "stream",
          "name": "stderr",
          "text": [
            "\rFinal Val for OOF:  33%|\u2588\u2588\u2588\u258e      | 1/3 [00:00<00:00,  4.59it/s]"
          ]
        },
        {
          "output_type": "stream",
          "name": "stderr",
          "text": [
            "\rFinal Val for OOF: 100%|\u2588\u2588\u2588\u2588\u2588\u2588\u2588\u2588\u2588\u2588| 3/3 [00:00<00:00, 10.20it/s]"
          ]
        },
        {
          "output_type": "stream",
          "name": "stderr",
          "text": [
            "\n"
          ]
        },
        {
          "output_type": "stream",
          "name": "stdout",
          "text": [
            "RegNetY Fold 1 OOF WLL: 0.4607\n\n=== RegNetY Fold 2/5 ===\n"
          ]
        },
        {
          "output_type": "stream",
          "name": "stderr",
          "text": [
            "\rEpoch 1/15 Train:   0%|          | 0/11 [00:00<?, ?it/s]"
          ]
        },
        {
          "output_type": "stream",
          "name": "stderr",
          "text": [
            "\rEpoch 1/15 Train:   9%|\u2589         | 1/11 [00:00<00:03,  3.30it/s]"
          ]
        },
        {
          "output_type": "stream",
          "name": "stderr",
          "text": [
            "\rEpoch 1/15 Train:  45%|\u2588\u2588\u2588\u2588\u258c     | 5/11 [00:00<00:00, 13.90it/s]"
          ]
        },
        {
          "output_type": "stream",
          "name": "stderr",
          "text": [
            "\rEpoch 1/15 Train:  82%|\u2588\u2588\u2588\u2588\u2588\u2588\u2588\u2588\u258f | 9/11 [00:00<00:00, 21.42it/s]"
          ]
        },
        {
          "output_type": "stream",
          "name": "stderr",
          "text": [
            "\rEpoch 1/15 Train: 100%|\u2588\u2588\u2588\u2588\u2588\u2588\u2588\u2588\u2588\u2588| 11/11 [00:00<00:00, 16.24it/s]"
          ]
        },
        {
          "output_type": "stream",
          "name": "stderr",
          "text": [
            "\n"
          ]
        },
        {
          "output_type": "stream",
          "name": "stderr",
          "text": [
            "\rVal:   0%|          | 0/3 [00:00<?, ?it/s]"
          ]
        },
        {
          "output_type": "stream",
          "name": "stderr",
          "text": [
            "\rVal:  33%|\u2588\u2588\u2588\u258e      | 1/3 [00:00<00:00,  4.47it/s]"
          ]
        },
        {
          "output_type": "stream",
          "name": "stderr",
          "text": [
            "\rVal: 100%|\u2588\u2588\u2588\u2588\u2588\u2588\u2588\u2588\u2588\u2588| 3/3 [00:00<00:00,  9.15it/s]"
          ]
        },
        {
          "output_type": "stream",
          "name": "stderr",
          "text": [
            "\n"
          ]
        },
        {
          "output_type": "stream",
          "name": "stdout",
          "text": [
            "Epoch 1: TrainBCE=0.8001, ValWLL=0.4858, LR=2.00e-05\n"
          ]
        },
        {
          "output_type": "stream",
          "name": "stderr",
          "text": [
            "\rEpoch 2/15 Train:   0%|          | 0/11 [00:00<?, ?it/s]"
          ]
        },
        {
          "output_type": "stream",
          "name": "stderr",
          "text": [
            "\rEpoch 2/15 Train:   9%|\u2589         | 1/11 [00:00<00:03,  3.23it/s]"
          ]
        },
        {
          "output_type": "stream",
          "name": "stderr",
          "text": [
            "\rEpoch 2/15 Train:  36%|\u2588\u2588\u2588\u258b      | 4/11 [00:00<00:00, 11.65it/s]"
          ]
        },
        {
          "output_type": "stream",
          "name": "stderr",
          "text": [
            "\rEpoch 2/15 Train:  73%|\u2588\u2588\u2588\u2588\u2588\u2588\u2588\u258e  | 8/11 [00:00<00:00, 20.16it/s]"
          ]
        },
        {
          "output_type": "stream",
          "name": "stderr",
          "text": [
            "\rEpoch 2/15 Train: 100%|\u2588\u2588\u2588\u2588\u2588\u2588\u2588\u2588\u2588\u2588| 11/11 [00:00<00:00, 17.16it/s]"
          ]
        },
        {
          "output_type": "stream",
          "name": "stderr",
          "text": [
            "\n"
          ]
        },
        {
          "output_type": "stream",
          "name": "stderr",
          "text": [
            "\rVal:   0%|          | 0/3 [00:00<?, ?it/s]"
          ]
        },
        {
          "output_type": "stream",
          "name": "stderr",
          "text": [
            "\rVal:  33%|\u2588\u2588\u2588\u258e      | 1/3 [00:00<00:00,  4.66it/s]"
          ]
        },
        {
          "output_type": "stream",
          "name": "stderr",
          "text": [
            "\rVal: 100%|\u2588\u2588\u2588\u2588\u2588\u2588\u2588\u2588\u2588\u2588| 3/3 [00:00<00:00, 10.46it/s]"
          ]
        },
        {
          "output_type": "stream",
          "name": "stderr",
          "text": [
            "\n"
          ]
        },
        {
          "output_type": "stream",
          "name": "stdout",
          "text": [
            "Epoch 2: TrainBCE=0.7749, ValWLL=0.4852, LR=2.00e-05\n"
          ]
        },
        {
          "output_type": "stream",
          "name": "stderr",
          "text": [
            "\rEpoch 3/15 Train:   0%|          | 0/11 [00:00<?, ?it/s]"
          ]
        },
        {
          "output_type": "stream",
          "name": "stderr",
          "text": [
            "\rEpoch 3/15 Train:   9%|\u2589         | 1/11 [00:00<00:03,  2.81it/s]"
          ]
        },
        {
          "output_type": "stream",
          "name": "stderr",
          "text": [
            "\rEpoch 3/15 Train:  27%|\u2588\u2588\u258b       | 3/11 [00:00<00:01,  7.57it/s]"
          ]
        },
        {
          "output_type": "stream",
          "name": "stderr",
          "text": [
            "\rEpoch 3/15 Train:  45%|\u2588\u2588\u2588\u2588\u258c     | 5/11 [00:00<00:00, 11.04it/s]"
          ]
        },
        {
          "output_type": "stream",
          "name": "stderr",
          "text": [
            "\rEpoch 3/15 Train:  64%|\u2588\u2588\u2588\u2588\u2588\u2588\u258e   | 7/11 [00:00<00:00, 13.25it/s]"
          ]
        },
        {
          "output_type": "stream",
          "name": "stderr",
          "text": [
            "\rEpoch 3/15 Train:  82%|\u2588\u2588\u2588\u2588\u2588\u2588\u2588\u2588\u258f | 9/11 [00:00<00:00, 14.90it/s]"
          ]
        },
        {
          "output_type": "stream",
          "name": "stderr",
          "text": [
            "\rEpoch 3/15 Train: 100%|\u2588\u2588\u2588\u2588\u2588\u2588\u2588\u2588\u2588\u2588| 11/11 [00:00<00:00, 14.45it/s]"
          ]
        },
        {
          "output_type": "stream",
          "name": "stderr",
          "text": [
            "\rEpoch 3/15 Train: 100%|\u2588\u2588\u2588\u2588\u2588\u2588\u2588\u2588\u2588\u2588| 11/11 [00:00<00:00, 11.16it/s]"
          ]
        },
        {
          "output_type": "stream",
          "name": "stderr",
          "text": [
            "\n"
          ]
        },
        {
          "output_type": "stream",
          "name": "stderr",
          "text": [
            "\rVal:   0%|          | 0/3 [00:00<?, ?it/s]"
          ]
        },
        {
          "output_type": "stream",
          "name": "stderr",
          "text": [
            "\rVal:  33%|\u2588\u2588\u2588\u258e      | 1/3 [00:00<00:00,  4.45it/s]"
          ]
        },
        {
          "output_type": "stream",
          "name": "stderr",
          "text": [
            "\rVal: 100%|\u2588\u2588\u2588\u2588\u2588\u2588\u2588\u2588\u2588\u2588| 3/3 [00:00<00:00,  9.99it/s]"
          ]
        },
        {
          "output_type": "stream",
          "name": "stderr",
          "text": [
            "\n"
          ]
        },
        {
          "output_type": "stream",
          "name": "stdout",
          "text": [
            "Epoch 3: TrainBCE=0.7982, ValWLL=0.4806, LR=2.00e-05\n"
          ]
        },
        {
          "output_type": "stream",
          "name": "stderr",
          "text": [
            "\rEpoch 4/15 Train:   0%|          | 0/11 [00:00<?, ?it/s]"
          ]
        },
        {
          "output_type": "stream",
          "name": "stderr",
          "text": [
            "\rEpoch 4/15 Train:   9%|\u2589         | 1/11 [00:00<00:03,  2.80it/s]"
          ]
        },
        {
          "output_type": "stream",
          "name": "stderr",
          "text": [
            "\rEpoch 4/15 Train:  27%|\u2588\u2588\u258b       | 3/11 [00:00<00:01,  7.30it/s]"
          ]
        },
        {
          "output_type": "stream",
          "name": "stderr",
          "text": [
            "\rEpoch 4/15 Train:  45%|\u2588\u2588\u2588\u2588\u258c     | 5/11 [00:00<00:00, 10.74it/s]"
          ]
        },
        {
          "output_type": "stream",
          "name": "stderr",
          "text": [
            "\rEpoch 4/15 Train:  64%|\u2588\u2588\u2588\u2588\u2588\u2588\u258e   | 7/11 [00:00<00:00, 13.18it/s]"
          ]
        },
        {
          "output_type": "stream",
          "name": "stderr",
          "text": [
            "\rEpoch 4/15 Train:  82%|\u2588\u2588\u2588\u2588\u2588\u2588\u2588\u2588\u258f | 9/11 [00:00<00:00, 14.93it/s]"
          ]
        },
        {
          "output_type": "stream",
          "name": "stderr",
          "text": [
            "\rEpoch 4/15 Train: 100%|\u2588\u2588\u2588\u2588\u2588\u2588\u2588\u2588\u2588\u2588| 11/11 [00:00<00:00, 11.63it/s]"
          ]
        },
        {
          "output_type": "stream",
          "name": "stderr",
          "text": [
            "\n"
          ]
        },
        {
          "output_type": "stream",
          "name": "stderr",
          "text": [
            "\rVal:   0%|          | 0/3 [00:00<?, ?it/s]"
          ]
        },
        {
          "output_type": "stream",
          "name": "stderr",
          "text": [
            "\rVal:  33%|\u2588\u2588\u2588\u258e      | 1/3 [00:00<00:00,  4.26it/s]"
          ]
        },
        {
          "output_type": "stream",
          "name": "stderr",
          "text": [
            "\rVal: 100%|\u2588\u2588\u2588\u2588\u2588\u2588\u2588\u2588\u2588\u2588| 3/3 [00:00<00:00,  9.60it/s]"
          ]
        },
        {
          "output_type": "stream",
          "name": "stderr",
          "text": [
            "\n"
          ]
        },
        {
          "output_type": "stream",
          "name": "stdout",
          "text": [
            "Epoch 4: TrainBCE=0.8829, ValWLL=0.4799, LR=2.00e-05\n"
          ]
        },
        {
          "output_type": "stream",
          "name": "stderr",
          "text": [
            "\rEpoch 5/15 Train:   0%|          | 0/11 [00:00<?, ?it/s]"
          ]
        },
        {
          "output_type": "stream",
          "name": "stderr",
          "text": [
            "\rEpoch 5/15 Train:   9%|\u2589         | 1/11 [00:00<00:03,  3.06it/s]"
          ]
        },
        {
          "output_type": "stream",
          "name": "stderr",
          "text": [
            "\rEpoch 5/15 Train:  27%|\u2588\u2588\u258b       | 3/11 [00:00<00:01,  7.81it/s]"
          ]
        },
        {
          "output_type": "stream",
          "name": "stderr",
          "text": [
            "\rEpoch 5/15 Train:  45%|\u2588\u2588\u2588\u2588\u258c     | 5/11 [00:00<00:00, 11.20it/s]"
          ]
        },
        {
          "output_type": "stream",
          "name": "stderr",
          "text": [
            "\rEpoch 5/15 Train:  64%|\u2588\u2588\u2588\u2588\u2588\u2588\u258e   | 7/11 [00:00<00:00, 13.57it/s]"
          ]
        },
        {
          "output_type": "stream",
          "name": "stderr",
          "text": [
            "\rEpoch 5/15 Train:  82%|\u2588\u2588\u2588\u2588\u2588\u2588\u2588\u2588\u258f | 9/11 [00:00<00:00, 15.24it/s]"
          ]
        },
        {
          "output_type": "stream",
          "name": "stderr",
          "text": [
            "\rEpoch 5/15 Train: 100%|\u2588\u2588\u2588\u2588\u2588\u2588\u2588\u2588\u2588\u2588| 11/11 [00:00<00:00, 12.09it/s]"
          ]
        },
        {
          "output_type": "stream",
          "name": "stderr",
          "text": [
            "\n"
          ]
        },
        {
          "output_type": "stream",
          "name": "stderr",
          "text": [
            "\rVal:   0%|          | 0/3 [00:00<?, ?it/s]"
          ]
        },
        {
          "output_type": "stream",
          "name": "stderr",
          "text": [
            "\rVal:  33%|\u2588\u2588\u2588\u258e      | 1/3 [00:00<00:00,  4.38it/s]"
          ]
        },
        {
          "output_type": "stream",
          "name": "stderr",
          "text": [
            "\rVal: 100%|\u2588\u2588\u2588\u2588\u2588\u2588\u2588\u2588\u2588\u2588| 3/3 [00:00<00:00,  9.89it/s]"
          ]
        },
        {
          "output_type": "stream",
          "name": "stderr",
          "text": [
            "\n"
          ]
        },
        {
          "output_type": "stream",
          "name": "stdout",
          "text": [
            "Epoch 5: TrainBCE=0.8489, ValWLL=0.4807, LR=2.00e-05\n"
          ]
        },
        {
          "output_type": "stream",
          "name": "stderr",
          "text": [
            "\rEpoch 6/15 Train:   0%|          | 0/11 [00:00<?, ?it/s]"
          ]
        },
        {
          "output_type": "stream",
          "name": "stderr",
          "text": [
            "\rEpoch 6/15 Train:   9%|\u2589         | 1/11 [00:00<00:03,  2.91it/s]"
          ]
        },
        {
          "output_type": "stream",
          "name": "stderr",
          "text": [
            "\rEpoch 6/15 Train:  27%|\u2588\u2588\u258b       | 3/11 [00:00<00:01,  7.67it/s]"
          ]
        },
        {
          "output_type": "stream",
          "name": "stderr",
          "text": [
            "\rEpoch 6/15 Train:  45%|\u2588\u2588\u2588\u2588\u258c     | 5/11 [00:00<00:00, 11.09it/s]"
          ]
        },
        {
          "output_type": "stream",
          "name": "stderr",
          "text": [
            "\rEpoch 6/15 Train:  64%|\u2588\u2588\u2588\u2588\u2588\u2588\u258e   | 7/11 [00:00<00:00, 13.53it/s]"
          ]
        },
        {
          "output_type": "stream",
          "name": "stderr",
          "text": [
            "\rEpoch 6/15 Train:  82%|\u2588\u2588\u2588\u2588\u2588\u2588\u2588\u2588\u258f | 9/11 [00:00<00:00, 15.24it/s]"
          ]
        },
        {
          "output_type": "stream",
          "name": "stderr",
          "text": [
            "\rEpoch 6/15 Train: 100%|\u2588\u2588\u2588\u2588\u2588\u2588\u2588\u2588\u2588\u2588| 11/11 [00:00<00:00, 11.91it/s]"
          ]
        },
        {
          "output_type": "stream",
          "name": "stderr",
          "text": [
            "\n"
          ]
        },
        {
          "output_type": "stream",
          "name": "stderr",
          "text": [
            "\rVal:   0%|          | 0/3 [00:00<?, ?it/s]"
          ]
        },
        {
          "output_type": "stream",
          "name": "stderr",
          "text": [
            "\rVal:  33%|\u2588\u2588\u2588\u258e      | 1/3 [00:00<00:00,  4.66it/s]"
          ]
        },
        {
          "output_type": "stream",
          "name": "stderr",
          "text": [
            "\rVal: 100%|\u2588\u2588\u2588\u2588\u2588\u2588\u2588\u2588\u2588\u2588| 3/3 [00:00<00:00, 10.48it/s]"
          ]
        },
        {
          "output_type": "stream",
          "name": "stderr",
          "text": [
            "\n"
          ]
        },
        {
          "output_type": "stream",
          "name": "stdout",
          "text": [
            "Epoch 6: TrainBCE=0.8515, ValWLL=0.4822, LR=2.00e-05\n"
          ]
        },
        {
          "output_type": "stream",
          "name": "stderr",
          "text": [
            "\rEpoch 7/15 Train:   0%|          | 0/11 [00:00<?, ?it/s]"
          ]
        },
        {
          "output_type": "stream",
          "name": "stderr",
          "text": [
            "\rEpoch 7/15 Train:   9%|\u2589         | 1/11 [00:00<00:03,  3.03it/s]"
          ]
        },
        {
          "output_type": "stream",
          "name": "stderr",
          "text": [
            "\rEpoch 7/15 Train:  27%|\u2588\u2588\u258b       | 3/11 [00:00<00:01,  7.75it/s]"
          ]
        },
        {
          "output_type": "stream",
          "name": "stderr",
          "text": [
            "\rEpoch 7/15 Train:  45%|\u2588\u2588\u2588\u2588\u258c     | 5/11 [00:00<00:00, 11.10it/s]"
          ]
        },
        {
          "output_type": "stream",
          "name": "stderr",
          "text": [
            "\rEpoch 7/15 Train:  64%|\u2588\u2588\u2588\u2588\u2588\u2588\u258e   | 7/11 [00:00<00:00, 13.48it/s]"
          ]
        },
        {
          "output_type": "stream",
          "name": "stderr",
          "text": [
            "\rEpoch 7/15 Train:  82%|\u2588\u2588\u2588\u2588\u2588\u2588\u2588\u2588\u258f | 9/11 [00:00<00:00, 15.17it/s]"
          ]
        },
        {
          "output_type": "stream",
          "name": "stderr",
          "text": [
            "\rEpoch 7/15 Train: 100%|\u2588\u2588\u2588\u2588\u2588\u2588\u2588\u2588\u2588\u2588| 11/11 [00:00<00:00, 12.04it/s]"
          ]
        },
        {
          "output_type": "stream",
          "name": "stderr",
          "text": [
            "\n"
          ]
        },
        {
          "output_type": "stream",
          "name": "stderr",
          "text": [
            "\rVal:   0%|          | 0/3 [00:00<?, ?it/s]"
          ]
        },
        {
          "output_type": "stream",
          "name": "stderr",
          "text": [
            "\rVal:  33%|\u2588\u2588\u2588\u258e      | 1/3 [00:00<00:00,  4.55it/s]"
          ]
        },
        {
          "output_type": "stream",
          "name": "stderr",
          "text": [
            "\rVal: 100%|\u2588\u2588\u2588\u2588\u2588\u2588\u2588\u2588\u2588\u2588| 3/3 [00:00<00:00, 10.18it/s]"
          ]
        },
        {
          "output_type": "stream",
          "name": "stderr",
          "text": [
            "\n"
          ]
        },
        {
          "output_type": "stream",
          "name": "stdout",
          "text": [
            "Epoch 7: TrainBCE=0.8359, ValWLL=0.4837, LR=1.00e-05\n"
          ]
        },
        {
          "output_type": "stream",
          "name": "stderr",
          "text": [
            "\rEpoch 8/15 Train:   0%|          | 0/11 [00:00<?, ?it/s]"
          ]
        },
        {
          "output_type": "stream",
          "name": "stderr",
          "text": [
            "\rEpoch 8/15 Train:   9%|\u2589         | 1/11 [00:00<00:03,  2.97it/s]"
          ]
        },
        {
          "output_type": "stream",
          "name": "stderr",
          "text": [
            "\rEpoch 8/15 Train:  27%|\u2588\u2588\u258b       | 3/11 [00:00<00:01,  7.71it/s]"
          ]
        },
        {
          "output_type": "stream",
          "name": "stderr",
          "text": [
            "\rEpoch 8/15 Train:  45%|\u2588\u2588\u2588\u2588\u258c     | 5/11 [00:00<00:00, 11.09it/s]"
          ]
        },
        {
          "output_type": "stream",
          "name": "stderr",
          "text": [
            "\rEpoch 8/15 Train:  64%|\u2588\u2588\u2588\u2588\u2588\u2588\u258e   | 7/11 [00:00<00:00, 13.49it/s]"
          ]
        },
        {
          "output_type": "stream",
          "name": "stderr",
          "text": [
            "\rEpoch 8/15 Train:  82%|\u2588\u2588\u2588\u2588\u2588\u2588\u2588\u2588\u258f | 9/11 [00:00<00:00, 15.20it/s]"
          ]
        },
        {
          "output_type": "stream",
          "name": "stderr",
          "text": [
            "\rEpoch 8/15 Train: 100%|\u2588\u2588\u2588\u2588\u2588\u2588\u2588\u2588\u2588\u2588| 11/11 [00:00<00:00, 11.92it/s]"
          ]
        },
        {
          "output_type": "stream",
          "name": "stderr",
          "text": [
            "\n"
          ]
        },
        {
          "output_type": "stream",
          "name": "stderr",
          "text": [
            "\rVal:   0%|          | 0/3 [00:00<?, ?it/s]"
          ]
        },
        {
          "output_type": "stream",
          "name": "stderr",
          "text": [
            "\rVal:  33%|\u2588\u2588\u2588\u258e      | 1/3 [00:00<00:00,  4.23it/s]"
          ]
        },
        {
          "output_type": "stream",
          "name": "stderr",
          "text": [
            "\rVal: 100%|\u2588\u2588\u2588\u2588\u2588\u2588\u2588\u2588\u2588\u2588| 3/3 [00:00<00:00,  9.61it/s]"
          ]
        },
        {
          "output_type": "stream",
          "name": "stderr",
          "text": [
            "\n"
          ]
        },
        {
          "output_type": "stream",
          "name": "stdout",
          "text": [
            "Epoch 8: TrainBCE=0.8064, ValWLL=0.4836, LR=1.00e-05\nEarly stopping at epoch 8\nRegNetY Fold 2 best OOF WLL (val): 0.4799\n"
          ]
        },
        {
          "output_type": "stream",
          "name": "stderr",
          "text": [
            "\rFinal Val for OOF:   0%|          | 0/3 [00:00<?, ?it/s]"
          ]
        },
        {
          "output_type": "stream",
          "name": "stderr",
          "text": [
            "\rFinal Val for OOF:  33%|\u2588\u2588\u2588\u258e      | 1/3 [00:00<00:00,  4.79it/s]"
          ]
        },
        {
          "output_type": "stream",
          "name": "stderr",
          "text": [
            "\rFinal Val for OOF: 100%|\u2588\u2588\u2588\u2588\u2588\u2588\u2588\u2588\u2588\u2588| 3/3 [00:00<00:00, 10.82it/s]"
          ]
        },
        {
          "output_type": "stream",
          "name": "stderr",
          "text": [
            "\n"
          ]
        },
        {
          "output_type": "stream",
          "name": "stdout",
          "text": [
            "RegNetY Fold 2 OOF WLL: 0.4836\n\n=== RegNetY Fold 3/5 ===\n"
          ]
        },
        {
          "output_type": "stream",
          "name": "stderr",
          "text": [
            "\rEpoch 1/15 Train:   0%|          | 0/11 [00:00<?, ?it/s]"
          ]
        },
        {
          "output_type": "stream",
          "name": "stderr",
          "text": [
            "\rEpoch 1/15 Train:   9%|\u2589         | 1/11 [00:00<00:02,  3.36it/s]"
          ]
        },
        {
          "output_type": "stream",
          "name": "stderr",
          "text": [
            "\rEpoch 1/15 Train:  36%|\u2588\u2588\u2588\u258b      | 4/11 [00:00<00:00, 11.88it/s]"
          ]
        },
        {
          "output_type": "stream",
          "name": "stderr",
          "text": [
            "\rEpoch 1/15 Train:  73%|\u2588\u2588\u2588\u2588\u2588\u2588\u2588\u258e  | 8/11 [00:00<00:00, 20.27it/s]"
          ]
        },
        {
          "output_type": "stream",
          "name": "stderr",
          "text": [
            "\rEpoch 1/15 Train: 100%|\u2588\u2588\u2588\u2588\u2588\u2588\u2588\u2588\u2588\u2588| 11/11 [00:00<00:00, 17.15it/s]"
          ]
        },
        {
          "output_type": "stream",
          "name": "stderr",
          "text": [
            "\n"
          ]
        },
        {
          "output_type": "stream",
          "name": "stderr",
          "text": [
            "\rVal:   0%|          | 0/3 [00:00<?, ?it/s]"
          ]
        },
        {
          "output_type": "stream",
          "name": "stderr",
          "text": [
            "\rVal:  33%|\u2588\u2588\u2588\u258e      | 1/3 [00:00<00:00,  4.57it/s]"
          ]
        },
        {
          "output_type": "stream",
          "name": "stderr",
          "text": [
            "\rVal: 100%|\u2588\u2588\u2588\u2588\u2588\u2588\u2588\u2588\u2588\u2588| 3/3 [00:00<00:00, 10.17it/s]"
          ]
        },
        {
          "output_type": "stream",
          "name": "stderr",
          "text": [
            "\n"
          ]
        },
        {
          "output_type": "stream",
          "name": "stdout",
          "text": [
            "Epoch 1: TrainBCE=0.8465, ValWLL=0.4637, LR=2.00e-05\n"
          ]
        },
        {
          "output_type": "stream",
          "name": "stderr",
          "text": [
            "\rEpoch 2/15 Train:   0%|          | 0/11 [00:00<?, ?it/s]"
          ]
        },
        {
          "output_type": "stream",
          "name": "stderr",
          "text": [
            "\rEpoch 2/15 Train:   9%|\u2589         | 1/11 [00:00<00:02,  3.44it/s]"
          ]
        },
        {
          "output_type": "stream",
          "name": "stderr",
          "text": [
            "\rEpoch 2/15 Train:  36%|\u2588\u2588\u2588\u258b      | 4/11 [00:00<00:00, 12.16it/s]"
          ]
        },
        {
          "output_type": "stream",
          "name": "stderr",
          "text": [
            "\rEpoch 2/15 Train:  73%|\u2588\u2588\u2588\u2588\u2588\u2588\u2588\u258e  | 8/11 [00:00<00:00, 20.49it/s]"
          ]
        },
        {
          "output_type": "stream",
          "name": "stderr",
          "text": [
            "\rEpoch 2/15 Train: 100%|\u2588\u2588\u2588\u2588\u2588\u2588\u2588\u2588\u2588\u2588| 11/11 [00:00<00:00, 16.97it/s]"
          ]
        },
        {
          "output_type": "stream",
          "name": "stderr",
          "text": [
            "\n"
          ]
        },
        {
          "output_type": "stream",
          "name": "stderr",
          "text": [
            "\rVal:   0%|          | 0/3 [00:00<?, ?it/s]"
          ]
        },
        {
          "output_type": "stream",
          "name": "stderr",
          "text": [
            "\rVal:  33%|\u2588\u2588\u2588\u258e      | 1/3 [00:00<00:00,  4.57it/s]"
          ]
        },
        {
          "output_type": "stream",
          "name": "stderr",
          "text": [
            "\rVal: 100%|\u2588\u2588\u2588\u2588\u2588\u2588\u2588\u2588\u2588\u2588| 3/3 [00:00<00:00, 10.18it/s]"
          ]
        },
        {
          "output_type": "stream",
          "name": "stderr",
          "text": [
            "\n"
          ]
        },
        {
          "output_type": "stream",
          "name": "stdout",
          "text": [
            "Epoch 2: TrainBCE=0.7981, ValWLL=0.4641, LR=2.00e-05\n"
          ]
        },
        {
          "output_type": "stream",
          "name": "stderr",
          "text": [
            "\rEpoch 3/15 Train:   0%|          | 0/11 [00:00<?, ?it/s]"
          ]
        },
        {
          "output_type": "stream",
          "name": "stderr",
          "text": [
            "\rEpoch 3/15 Train:   9%|\u2589         | 1/11 [00:00<00:03,  3.11it/s]"
          ]
        },
        {
          "output_type": "stream",
          "name": "stderr",
          "text": [
            "\rEpoch 3/15 Train:  27%|\u2588\u2588\u258b       | 3/11 [00:00<00:01,  7.76it/s]"
          ]
        },
        {
          "output_type": "stream",
          "name": "stderr",
          "text": [
            "\rEpoch 3/15 Train:  45%|\u2588\u2588\u2588\u2588\u258c     | 5/11 [00:00<00:00, 11.17it/s]"
          ]
        },
        {
          "output_type": "stream",
          "name": "stderr",
          "text": [
            "\rEpoch 3/15 Train:  64%|\u2588\u2588\u2588\u2588\u2588\u2588\u258e   | 7/11 [00:00<00:00, 13.58it/s]"
          ]
        },
        {
          "output_type": "stream",
          "name": "stderr",
          "text": [
            "\rEpoch 3/15 Train:  82%|\u2588\u2588\u2588\u2588\u2588\u2588\u2588\u2588\u258f | 9/11 [00:00<00:00, 15.28it/s]"
          ]
        },
        {
          "output_type": "stream",
          "name": "stderr",
          "text": [
            "\rEpoch 3/15 Train: 100%|\u2588\u2588\u2588\u2588\u2588\u2588\u2588\u2588\u2588\u2588| 11/11 [00:00<00:00, 12.08it/s]"
          ]
        },
        {
          "output_type": "stream",
          "name": "stderr",
          "text": [
            "\n"
          ]
        },
        {
          "output_type": "stream",
          "name": "stderr",
          "text": [
            "\rVal:   0%|          | 0/3 [00:00<?, ?it/s]"
          ]
        },
        {
          "output_type": "stream",
          "name": "stderr",
          "text": [
            "\rVal:  33%|\u2588\u2588\u2588\u258e      | 1/3 [00:00<00:00,  4.51it/s]"
          ]
        },
        {
          "output_type": "stream",
          "name": "stderr",
          "text": [
            "\rVal: 100%|\u2588\u2588\u2588\u2588\u2588\u2588\u2588\u2588\u2588\u2588| 3/3 [00:00<00:00,  9.97it/s]"
          ]
        },
        {
          "output_type": "stream",
          "name": "stderr",
          "text": [
            "\n"
          ]
        },
        {
          "output_type": "stream",
          "name": "stdout",
          "text": [
            "Epoch 3: TrainBCE=0.8080, ValWLL=0.4644, LR=2.00e-05\n"
          ]
        },
        {
          "output_type": "stream",
          "name": "stderr",
          "text": [
            "\rEpoch 4/15 Train:   0%|          | 0/11 [00:00<?, ?it/s]"
          ]
        },
        {
          "output_type": "stream",
          "name": "stderr",
          "text": [
            "\rEpoch 4/15 Train:   9%|\u2589         | 1/11 [00:00<00:03,  2.90it/s]"
          ]
        },
        {
          "output_type": "stream",
          "name": "stderr",
          "text": [
            "\rEpoch 4/15 Train:  27%|\u2588\u2588\u258b       | 3/11 [00:00<00:01,  7.46it/s]"
          ]
        },
        {
          "output_type": "stream",
          "name": "stderr",
          "text": [
            "\rEpoch 4/15 Train:  45%|\u2588\u2588\u2588\u2588\u258c     | 5/11 [00:00<00:00, 10.82it/s]"
          ]
        },
        {
          "output_type": "stream",
          "name": "stderr",
          "text": [
            "\rEpoch 4/15 Train:  64%|\u2588\u2588\u2588\u2588\u2588\u2588\u258e   | 7/11 [00:00<00:00, 13.08it/s]"
          ]
        },
        {
          "output_type": "stream",
          "name": "stderr",
          "text": [
            "\rEpoch 4/15 Train:  82%|\u2588\u2588\u2588\u2588\u2588\u2588\u2588\u2588\u258f | 9/11 [00:00<00:00, 14.85it/s]"
          ]
        },
        {
          "output_type": "stream",
          "name": "stderr",
          "text": [
            "\rEpoch 4/15 Train: 100%|\u2588\u2588\u2588\u2588\u2588\u2588\u2588\u2588\u2588\u2588| 11/11 [00:00<00:00, 11.76it/s]"
          ]
        },
        {
          "output_type": "stream",
          "name": "stderr",
          "text": [
            "\n"
          ]
        },
        {
          "output_type": "stream",
          "name": "stderr",
          "text": [
            "\rVal:   0%|          | 0/3 [00:00<?, ?it/s]"
          ]
        },
        {
          "output_type": "stream",
          "name": "stderr",
          "text": [
            "\rVal:  33%|\u2588\u2588\u2588\u258e      | 1/3 [00:00<00:00,  4.47it/s]"
          ]
        },
        {
          "output_type": "stream",
          "name": "stderr",
          "text": [
            "\rVal: 100%|\u2588\u2588\u2588\u2588\u2588\u2588\u2588\u2588\u2588\u2588| 3/3 [00:00<00:00, 10.21it/s]"
          ]
        },
        {
          "output_type": "stream",
          "name": "stderr",
          "text": [
            "\n"
          ]
        },
        {
          "output_type": "stream",
          "name": "stdout",
          "text": [
            "Epoch 4: TrainBCE=0.9154, ValWLL=0.4649, LR=1.00e-05\n"
          ]
        },
        {
          "output_type": "stream",
          "name": "stderr",
          "text": [
            "\rEpoch 5/15 Train:   0%|          | 0/11 [00:00<?, ?it/s]"
          ]
        },
        {
          "output_type": "stream",
          "name": "stderr",
          "text": [
            "\rEpoch 5/15 Train:   9%|\u2589         | 1/11 [00:00<00:03,  2.91it/s]"
          ]
        },
        {
          "output_type": "stream",
          "name": "stderr",
          "text": [
            "\rEpoch 5/15 Train:  27%|\u2588\u2588\u258b       | 3/11 [00:00<00:01,  7.50it/s]"
          ]
        },
        {
          "output_type": "stream",
          "name": "stderr",
          "text": [
            "\rEpoch 5/15 Train:  45%|\u2588\u2588\u2588\u2588\u258c     | 5/11 [00:00<00:00, 10.86it/s]"
          ]
        },
        {
          "output_type": "stream",
          "name": "stderr",
          "text": [
            "\rEpoch 5/15 Train:  64%|\u2588\u2588\u2588\u2588\u2588\u2588\u258e   | 7/11 [00:00<00:00, 13.26it/s]"
          ]
        },
        {
          "output_type": "stream",
          "name": "stderr",
          "text": [
            "\rEpoch 5/15 Train:  82%|\u2588\u2588\u2588\u2588\u2588\u2588\u2588\u2588\u258f | 9/11 [00:00<00:00, 15.00it/s]"
          ]
        },
        {
          "output_type": "stream",
          "name": "stderr",
          "text": [
            "\rEpoch 5/15 Train: 100%|\u2588\u2588\u2588\u2588\u2588\u2588\u2588\u2588\u2588\u2588| 11/11 [00:00<00:00, 11.82it/s]"
          ]
        },
        {
          "output_type": "stream",
          "name": "stderr",
          "text": [
            "\n"
          ]
        },
        {
          "output_type": "stream",
          "name": "stderr",
          "text": [
            "\rVal:   0%|          | 0/3 [00:00<?, ?it/s]"
          ]
        },
        {
          "output_type": "stream",
          "name": "stderr",
          "text": [
            "\rVal:  33%|\u2588\u2588\u2588\u258e      | 1/3 [00:00<00:00,  4.75it/s]"
          ]
        },
        {
          "output_type": "stream",
          "name": "stderr",
          "text": [
            "\rVal: 100%|\u2588\u2588\u2588\u2588\u2588\u2588\u2588\u2588\u2588\u2588| 3/3 [00:00<00:00, 10.34it/s]"
          ]
        },
        {
          "output_type": "stream",
          "name": "stderr",
          "text": [
            "\n"
          ]
        },
        {
          "output_type": "stream",
          "name": "stdout",
          "text": [
            "Epoch 5: TrainBCE=0.8425, ValWLL=0.4621, LR=1.00e-05\n"
          ]
        },
        {
          "output_type": "stream",
          "name": "stderr",
          "text": [
            "\rEpoch 6/15 Train:   0%|          | 0/11 [00:00<?, ?it/s]"
          ]
        },
        {
          "output_type": "stream",
          "name": "stderr",
          "text": [
            "\rEpoch 6/15 Train:   9%|\u2589         | 1/11 [00:00<00:03,  3.03it/s]"
          ]
        },
        {
          "output_type": "stream",
          "name": "stderr",
          "text": [
            "\rEpoch 6/15 Train:  27%|\u2588\u2588\u258b       | 3/11 [00:00<00:01,  7.69it/s]"
          ]
        },
        {
          "output_type": "stream",
          "name": "stderr",
          "text": [
            "\rEpoch 6/15 Train:  45%|\u2588\u2588\u2588\u2588\u258c     | 5/11 [00:00<00:00, 11.08it/s]"
          ]
        },
        {
          "output_type": "stream",
          "name": "stderr",
          "text": [
            "\rEpoch 6/15 Train:  64%|\u2588\u2588\u2588\u2588\u2588\u2588\u258e   | 7/11 [00:00<00:00, 13.50it/s]"
          ]
        },
        {
          "output_type": "stream",
          "name": "stderr",
          "text": [
            "\rEpoch 6/15 Train:  82%|\u2588\u2588\u2588\u2588\u2588\u2588\u2588\u2588\u258f | 9/11 [00:00<00:00, 15.25it/s]"
          ]
        },
        {
          "output_type": "stream",
          "name": "stderr",
          "text": [
            "\rEpoch 6/15 Train: 100%|\u2588\u2588\u2588\u2588\u2588\u2588\u2588\u2588\u2588\u2588| 11/11 [00:00<00:00, 12.08it/s]"
          ]
        },
        {
          "output_type": "stream",
          "name": "stderr",
          "text": [
            "\n"
          ]
        },
        {
          "output_type": "stream",
          "name": "stderr",
          "text": [
            "\rVal:   0%|          | 0/3 [00:00<?, ?it/s]"
          ]
        },
        {
          "output_type": "stream",
          "name": "stderr",
          "text": [
            "\rVal:  33%|\u2588\u2588\u2588\u258e      | 1/3 [00:00<00:00,  4.55it/s]"
          ]
        },
        {
          "output_type": "stream",
          "name": "stderr",
          "text": [
            "\rVal: 100%|\u2588\u2588\u2588\u2588\u2588\u2588\u2588\u2588\u2588\u2588| 3/3 [00:00<00:00, 10.39it/s]"
          ]
        },
        {
          "output_type": "stream",
          "name": "stderr",
          "text": [
            "\n"
          ]
        },
        {
          "output_type": "stream",
          "name": "stdout",
          "text": [
            "Epoch 6: TrainBCE=0.7311, ValWLL=0.4618, LR=1.00e-05\n"
          ]
        },
        {
          "output_type": "stream",
          "name": "stderr",
          "text": [
            "\rEpoch 7/15 Train:   0%|          | 0/11 [00:00<?, ?it/s]"
          ]
        },
        {
          "output_type": "stream",
          "name": "stderr",
          "text": [
            "\rEpoch 7/15 Train:   9%|\u2589         | 1/11 [00:00<00:03,  3.01it/s]"
          ]
        },
        {
          "output_type": "stream",
          "name": "stderr",
          "text": [
            "\rEpoch 7/15 Train:  27%|\u2588\u2588\u258b       | 3/11 [00:00<00:01,  7.67it/s]"
          ]
        },
        {
          "output_type": "stream",
          "name": "stderr",
          "text": [
            "\rEpoch 7/15 Train:  45%|\u2588\u2588\u2588\u2588\u258c     | 5/11 [00:00<00:00, 11.07it/s]"
          ]
        },
        {
          "output_type": "stream",
          "name": "stderr",
          "text": [
            "\rEpoch 7/15 Train:  64%|\u2588\u2588\u2588\u2588\u2588\u2588\u258e   | 7/11 [00:00<00:00, 13.52it/s]"
          ]
        },
        {
          "output_type": "stream",
          "name": "stderr",
          "text": [
            "\rEpoch 7/15 Train:  82%|\u2588\u2588\u2588\u2588\u2588\u2588\u2588\u2588\u258f | 9/11 [00:00<00:00, 15.27it/s]"
          ]
        },
        {
          "output_type": "stream",
          "name": "stderr",
          "text": [
            "\rEpoch 7/15 Train: 100%|\u2588\u2588\u2588\u2588\u2588\u2588\u2588\u2588\u2588\u2588| 11/11 [00:00<00:00, 16.59it/s]"
          ]
        },
        {
          "output_type": "stream",
          "name": "stderr",
          "text": [
            "\rEpoch 7/15 Train: 100%|\u2588\u2588\u2588\u2588\u2588\u2588\u2588\u2588\u2588\u2588| 11/11 [00:00<00:00, 11.99it/s]"
          ]
        },
        {
          "output_type": "stream",
          "name": "stderr",
          "text": [
            "\n"
          ]
        },
        {
          "output_type": "stream",
          "name": "stderr",
          "text": [
            "\rVal:   0%|          | 0/3 [00:00<?, ?it/s]"
          ]
        },
        {
          "output_type": "stream",
          "name": "stderr",
          "text": [
            "\rVal:  33%|\u2588\u2588\u2588\u258e      | 1/3 [00:00<00:00,  4.24it/s]"
          ]
        },
        {
          "output_type": "stream",
          "name": "stderr",
          "text": [
            "\rVal: 100%|\u2588\u2588\u2588\u2588\u2588\u2588\u2588\u2588\u2588\u2588| 3/3 [00:00<00:00,  9.60it/s]"
          ]
        },
        {
          "output_type": "stream",
          "name": "stderr",
          "text": [
            "\n"
          ]
        },
        {
          "output_type": "stream",
          "name": "stdout",
          "text": [
            "Epoch 7: TrainBCE=0.8437, ValWLL=0.4615, LR=1.00e-05\n"
          ]
        },
        {
          "output_type": "stream",
          "name": "stderr",
          "text": [
            "\rEpoch 8/15 Train:   0%|          | 0/11 [00:00<?, ?it/s]"
          ]
        },
        {
          "output_type": "stream",
          "name": "stderr",
          "text": [
            "\rEpoch 8/15 Train:   9%|\u2589         | 1/11 [00:00<00:03,  2.96it/s]"
          ]
        },
        {
          "output_type": "stream",
          "name": "stderr",
          "text": [
            "\rEpoch 8/15 Train:  27%|\u2588\u2588\u258b       | 3/11 [00:00<00:01,  7.65it/s]"
          ]
        },
        {
          "output_type": "stream",
          "name": "stderr",
          "text": [
            "\rEpoch 8/15 Train:  45%|\u2588\u2588\u2588\u2588\u258c     | 5/11 [00:00<00:00, 11.01it/s]"
          ]
        },
        {
          "output_type": "stream",
          "name": "stderr",
          "text": [
            "\rEpoch 8/15 Train:  64%|\u2588\u2588\u2588\u2588\u2588\u2588\u258e   | 7/11 [00:00<00:00, 13.42it/s]"
          ]
        },
        {
          "output_type": "stream",
          "name": "stderr",
          "text": [
            "\rEpoch 8/15 Train:  82%|\u2588\u2588\u2588\u2588\u2588\u2588\u2588\u2588\u258f | 9/11 [00:00<00:00, 15.13it/s]"
          ]
        },
        {
          "output_type": "stream",
          "name": "stderr",
          "text": [
            "\rEpoch 8/15 Train: 100%|\u2588\u2588\u2588\u2588\u2588\u2588\u2588\u2588\u2588\u2588| 11/11 [00:00<00:00, 11.89it/s]"
          ]
        },
        {
          "output_type": "stream",
          "name": "stderr",
          "text": [
            "\n"
          ]
        },
        {
          "output_type": "stream",
          "name": "stderr",
          "text": [
            "\rVal:   0%|          | 0/3 [00:00<?, ?it/s]"
          ]
        },
        {
          "output_type": "stream",
          "name": "stderr",
          "text": [
            "\rVal:  33%|\u2588\u2588\u2588\u258e      | 1/3 [00:00<00:00,  4.58it/s]"
          ]
        },
        {
          "output_type": "stream",
          "name": "stderr",
          "text": [
            "\rVal: 100%|\u2588\u2588\u2588\u2588\u2588\u2588\u2588\u2588\u2588\u2588| 3/3 [00:00<00:00, 10.15it/s]"
          ]
        },
        {
          "output_type": "stream",
          "name": "stderr",
          "text": [
            "\n"
          ]
        },
        {
          "output_type": "stream",
          "name": "stdout",
          "text": [
            "Epoch 8: TrainBCE=0.8886, ValWLL=0.4604, LR=1.00e-05\n"
          ]
        },
        {
          "output_type": "stream",
          "name": "stderr",
          "text": [
            "\rEpoch 9/15 Train:   0%|          | 0/11 [00:00<?, ?it/s]"
          ]
        },
        {
          "output_type": "stream",
          "name": "stderr",
          "text": [
            "\rEpoch 9/15 Train:   9%|\u2589         | 1/11 [00:00<00:03,  2.92it/s]"
          ]
        },
        {
          "output_type": "stream",
          "name": "stderr",
          "text": [
            "\rEpoch 9/15 Train:  27%|\u2588\u2588\u258b       | 3/11 [00:00<00:01,  7.59it/s]"
          ]
        },
        {
          "output_type": "stream",
          "name": "stderr",
          "text": [
            "\rEpoch 9/15 Train:  45%|\u2588\u2588\u2588\u2588\u258c     | 5/11 [00:00<00:00, 10.98it/s]"
          ]
        },
        {
          "output_type": "stream",
          "name": "stderr",
          "text": [
            "\rEpoch 9/15 Train:  64%|\u2588\u2588\u2588\u2588\u2588\u2588\u258e   | 7/11 [00:00<00:00, 13.41it/s]"
          ]
        },
        {
          "output_type": "stream",
          "name": "stderr",
          "text": [
            "\rEpoch 9/15 Train:  82%|\u2588\u2588\u2588\u2588\u2588\u2588\u2588\u2588\u258f | 9/11 [00:00<00:00, 15.17it/s]"
          ]
        },
        {
          "output_type": "stream",
          "name": "stderr",
          "text": [
            "\rEpoch 9/15 Train: 100%|\u2588\u2588\u2588\u2588\u2588\u2588\u2588\u2588\u2588\u2588| 11/11 [00:00<00:00, 16.52it/s]"
          ]
        },
        {
          "output_type": "stream",
          "name": "stderr",
          "text": [
            "\rEpoch 9/15 Train: 100%|\u2588\u2588\u2588\u2588\u2588\u2588\u2588\u2588\u2588\u2588| 11/11 [00:00<00:00, 11.81it/s]"
          ]
        },
        {
          "output_type": "stream",
          "name": "stderr",
          "text": [
            "\n"
          ]
        },
        {
          "output_type": "stream",
          "name": "stderr",
          "text": [
            "\rVal:   0%|          | 0/3 [00:00<?, ?it/s]"
          ]
        },
        {
          "output_type": "stream",
          "name": "stderr",
          "text": [
            "\rVal:  33%|\u2588\u2588\u2588\u258e      | 1/3 [00:00<00:00,  4.51it/s]"
          ]
        },
        {
          "output_type": "stream",
          "name": "stderr",
          "text": [
            "\rVal: 100%|\u2588\u2588\u2588\u2588\u2588\u2588\u2588\u2588\u2588\u2588| 3/3 [00:00<00:00, 10.12it/s]"
          ]
        },
        {
          "output_type": "stream",
          "name": "stderr",
          "text": [
            "\n"
          ]
        },
        {
          "output_type": "stream",
          "name": "stdout",
          "text": [
            "Epoch 9: TrainBCE=0.8428, ValWLL=0.4598, LR=1.00e-05\n"
          ]
        },
        {
          "output_type": "stream",
          "name": "stderr",
          "text": [
            "\rEpoch 10/15 Train:   0%|          | 0/11 [00:00<?, ?it/s]"
          ]
        },
        {
          "output_type": "stream",
          "name": "stderr",
          "text": [
            "\rEpoch 10/15 Train:   9%|\u2589         | 1/11 [00:00<00:03,  2.91it/s]"
          ]
        },
        {
          "output_type": "stream",
          "name": "stderr",
          "text": [
            "\rEpoch 10/15 Train:  27%|\u2588\u2588\u258b       | 3/11 [00:00<00:01,  7.50it/s]"
          ]
        },
        {
          "output_type": "stream",
          "name": "stderr",
          "text": [
            "\rEpoch 10/15 Train:  45%|\u2588\u2588\u2588\u2588\u258c     | 5/11 [00:00<00:00, 10.90it/s]"
          ]
        },
        {
          "output_type": "stream",
          "name": "stderr",
          "text": [
            "\rEpoch 10/15 Train:  64%|\u2588\u2588\u2588\u2588\u2588\u2588\u258e   | 7/11 [00:00<00:00, 13.38it/s]"
          ]
        },
        {
          "output_type": "stream",
          "name": "stderr",
          "text": [
            "\rEpoch 10/15 Train:  82%|\u2588\u2588\u2588\u2588\u2588\u2588\u2588\u2588\u258f | 9/11 [00:01<00:00,  8.30it/s]"
          ]
        },
        {
          "output_type": "stream",
          "name": "stderr",
          "text": [
            "\rEpoch 10/15 Train: 100%|\u2588\u2588\u2588\u2588\u2588\u2588\u2588\u2588\u2588\u2588| 11/11 [00:01<00:00,  9.04it/s]"
          ]
        },
        {
          "output_type": "stream",
          "name": "stderr",
          "text": [
            "\n"
          ]
        },
        {
          "output_type": "stream",
          "name": "stderr",
          "text": [
            "\rVal:   0%|          | 0/3 [00:00<?, ?it/s]"
          ]
        },
        {
          "output_type": "stream",
          "name": "stderr",
          "text": [
            "\rVal:  33%|\u2588\u2588\u2588\u258e      | 1/3 [00:00<00:00,  4.66it/s]"
          ]
        },
        {
          "output_type": "stream",
          "name": "stderr",
          "text": [
            "\rVal: 100%|\u2588\u2588\u2588\u2588\u2588\u2588\u2588\u2588\u2588\u2588| 3/3 [00:00<00:00, 10.25it/s]"
          ]
        },
        {
          "output_type": "stream",
          "name": "stderr",
          "text": [
            "\n"
          ]
        },
        {
          "output_type": "stream",
          "name": "stdout",
          "text": [
            "Epoch 10: TrainBCE=0.8041, ValWLL=0.4597, LR=1.00e-05\n"
          ]
        },
        {
          "output_type": "stream",
          "name": "stderr",
          "text": [
            "\rEpoch 11/15 Train:   0%|          | 0/11 [00:00<?, ?it/s]"
          ]
        },
        {
          "output_type": "stream",
          "name": "stderr",
          "text": [
            "\rEpoch 11/15 Train:   9%|\u2589         | 1/11 [00:00<00:03,  3.09it/s]"
          ]
        },
        {
          "output_type": "stream",
          "name": "stderr",
          "text": [
            "\rEpoch 11/15 Train:  27%|\u2588\u2588\u258b       | 3/11 [00:00<00:01,  7.71it/s]"
          ]
        },
        {
          "output_type": "stream",
          "name": "stderr",
          "text": [
            "\rEpoch 11/15 Train:  45%|\u2588\u2588\u2588\u2588\u258c     | 5/11 [00:00<00:00, 11.13it/s]"
          ]
        },
        {
          "output_type": "stream",
          "name": "stderr",
          "text": [
            "\rEpoch 11/15 Train:  64%|\u2588\u2588\u2588\u2588\u2588\u2588\u258e   | 7/11 [00:00<00:00, 13.53it/s]"
          ]
        },
        {
          "output_type": "stream",
          "name": "stderr",
          "text": [
            "\rEpoch 11/15 Train:  82%|\u2588\u2588\u2588\u2588\u2588\u2588\u2588\u2588\u258f | 9/11 [00:00<00:00, 15.09it/s]"
          ]
        },
        {
          "output_type": "stream",
          "name": "stderr",
          "text": [
            "\rEpoch 11/15 Train: 100%|\u2588\u2588\u2588\u2588\u2588\u2588\u2588\u2588\u2588\u2588| 11/11 [00:00<00:00, 12.00it/s]"
          ]
        },
        {
          "output_type": "stream",
          "name": "stderr",
          "text": [
            "\n"
          ]
        },
        {
          "output_type": "stream",
          "name": "stderr",
          "text": [
            "\rVal:   0%|          | 0/3 [00:00<?, ?it/s]"
          ]
        },
        {
          "output_type": "stream",
          "name": "stderr",
          "text": [
            "\rVal:  33%|\u2588\u2588\u2588\u258e      | 1/3 [00:00<00:00,  4.51it/s]"
          ]
        },
        {
          "output_type": "stream",
          "name": "stderr",
          "text": [
            "\rVal: 100%|\u2588\u2588\u2588\u2588\u2588\u2588\u2588\u2588\u2588\u2588| 3/3 [00:00<00:00, 10.01it/s]"
          ]
        },
        {
          "output_type": "stream",
          "name": "stderr",
          "text": [
            "\n"
          ]
        },
        {
          "output_type": "stream",
          "name": "stdout",
          "text": [
            "Epoch 11: TrainBCE=0.7612, ValWLL=0.4599, LR=1.00e-05\n"
          ]
        },
        {
          "output_type": "stream",
          "name": "stderr",
          "text": [
            "\rEpoch 12/15 Train:   0%|          | 0/11 [00:00<?, ?it/s]"
          ]
        },
        {
          "output_type": "stream",
          "name": "stderr",
          "text": [
            "\rEpoch 12/15 Train:   9%|\u2589         | 1/11 [00:00<00:03,  2.84it/s]"
          ]
        },
        {
          "output_type": "stream",
          "name": "stderr",
          "text": [
            "\rEpoch 12/15 Train:  27%|\u2588\u2588\u258b       | 3/11 [00:00<00:01,  7.42it/s]"
          ]
        },
        {
          "output_type": "stream",
          "name": "stderr",
          "text": [
            "\rEpoch 12/15 Train:  45%|\u2588\u2588\u2588\u2588\u258c     | 5/11 [00:00<00:00, 10.84it/s]"
          ]
        },
        {
          "output_type": "stream",
          "name": "stderr",
          "text": [
            "\rEpoch 12/15 Train:  64%|\u2588\u2588\u2588\u2588\u2588\u2588\u258e   | 7/11 [00:00<00:00, 13.31it/s]"
          ]
        },
        {
          "output_type": "stream",
          "name": "stderr",
          "text": [
            "\rEpoch 12/15 Train:  82%|\u2588\u2588\u2588\u2588\u2588\u2588\u2588\u2588\u258f | 9/11 [00:00<00:00, 15.09it/s]"
          ]
        },
        {
          "output_type": "stream",
          "name": "stderr",
          "text": [
            "\rEpoch 12/15 Train: 100%|\u2588\u2588\u2588\u2588\u2588\u2588\u2588\u2588\u2588\u2588| 11/11 [00:00<00:00, 11.80it/s]"
          ]
        },
        {
          "output_type": "stream",
          "name": "stderr",
          "text": [
            "\n"
          ]
        },
        {
          "output_type": "stream",
          "name": "stderr",
          "text": [
            "\rVal:   0%|          | 0/3 [00:00<?, ?it/s]"
          ]
        },
        {
          "output_type": "stream",
          "name": "stderr",
          "text": [
            "\rVal:  33%|\u2588\u2588\u2588\u258e      | 1/3 [00:00<00:00,  4.56it/s]"
          ]
        },
        {
          "output_type": "stream",
          "name": "stderr",
          "text": [
            "\rVal: 100%|\u2588\u2588\u2588\u2588\u2588\u2588\u2588\u2588\u2588\u2588| 3/3 [00:00<00:00, 10.13it/s]"
          ]
        },
        {
          "output_type": "stream",
          "name": "stderr",
          "text": [
            "\n"
          ]
        },
        {
          "output_type": "stream",
          "name": "stdout",
          "text": [
            "Epoch 12: TrainBCE=0.8026, ValWLL=0.4601, LR=1.00e-05\n"
          ]
        },
        {
          "output_type": "stream",
          "name": "stderr",
          "text": [
            "\rEpoch 13/15 Train:   0%|          | 0/11 [00:00<?, ?it/s]"
          ]
        },
        {
          "output_type": "stream",
          "name": "stderr",
          "text": [
            "\rEpoch 13/15 Train:   9%|\u2589         | 1/11 [00:00<00:03,  3.09it/s]"
          ]
        },
        {
          "output_type": "stream",
          "name": "stderr",
          "text": [
            "\rEpoch 13/15 Train:  27%|\u2588\u2588\u258b       | 3/11 [00:00<00:01,  7.88it/s]"
          ]
        },
        {
          "output_type": "stream",
          "name": "stderr",
          "text": [
            "\rEpoch 13/15 Train:  45%|\u2588\u2588\u2588\u2588\u258c     | 5/11 [00:00<00:00, 11.29it/s]"
          ]
        },
        {
          "output_type": "stream",
          "name": "stderr",
          "text": [
            "\rEpoch 13/15 Train:  64%|\u2588\u2588\u2588\u2588\u2588\u2588\u258e   | 7/11 [00:00<00:00, 13.69it/s]"
          ]
        },
        {
          "output_type": "stream",
          "name": "stderr",
          "text": [
            "\rEpoch 13/15 Train:  82%|\u2588\u2588\u2588\u2588\u2588\u2588\u2588\u2588\u258f | 9/11 [00:00<00:00, 15.40it/s]"
          ]
        },
        {
          "output_type": "stream",
          "name": "stderr",
          "text": [
            "\rEpoch 13/15 Train: 100%|\u2588\u2588\u2588\u2588\u2588\u2588\u2588\u2588\u2588\u2588| 11/11 [00:00<00:00, 12.16it/s]"
          ]
        },
        {
          "output_type": "stream",
          "name": "stderr",
          "text": [
            "\n"
          ]
        },
        {
          "output_type": "stream",
          "name": "stderr",
          "text": [
            "\rVal:   0%|          | 0/3 [00:00<?, ?it/s]"
          ]
        },
        {
          "output_type": "stream",
          "name": "stderr",
          "text": [
            "\rVal:  33%|\u2588\u2588\u2588\u258e      | 1/3 [00:00<00:00,  4.55it/s]"
          ]
        },
        {
          "output_type": "stream",
          "name": "stderr",
          "text": [
            "\rVal: 100%|\u2588\u2588\u2588\u2588\u2588\u2588\u2588\u2588\u2588\u2588| 3/3 [00:00<00:00, 10.14it/s]"
          ]
        },
        {
          "output_type": "stream",
          "name": "stderr",
          "text": [
            "\n"
          ]
        },
        {
          "output_type": "stream",
          "name": "stdout",
          "text": [
            "Epoch 13: TrainBCE=0.8166, ValWLL=0.4607, LR=5.00e-06\nEarly stopping at epoch 13\nRegNetY Fold 3 best OOF WLL (val): 0.4597\n"
          ]
        },
        {
          "output_type": "stream",
          "name": "stderr",
          "text": [
            "\rFinal Val for OOF:   0%|          | 0/3 [00:00<?, ?it/s]"
          ]
        },
        {
          "output_type": "stream",
          "name": "stderr",
          "text": [
            "\rFinal Val for OOF:  33%|\u2588\u2588\u2588\u258e      | 1/3 [00:00<00:00,  4.65it/s]"
          ]
        },
        {
          "output_type": "stream",
          "name": "stderr",
          "text": [
            "\rFinal Val for OOF: 100%|\u2588\u2588\u2588\u2588\u2588\u2588\u2588\u2588\u2588\u2588| 3/3 [00:00<00:00, 10.30it/s]"
          ]
        },
        {
          "output_type": "stream",
          "name": "stderr",
          "text": [
            "\n"
          ]
        },
        {
          "output_type": "stream",
          "name": "stdout",
          "text": [
            "RegNetY Fold 3 OOF WLL: 0.4607\n\n=== RegNetY Fold 4/5 ===\n"
          ]
        },
        {
          "output_type": "stream",
          "name": "stderr",
          "text": [
            "\rEpoch 1/15 Train:   0%|          | 0/11 [00:00<?, ?it/s]"
          ]
        },
        {
          "output_type": "stream",
          "name": "stderr",
          "text": [
            "\rEpoch 1/15 Train:   9%|\u2589         | 1/11 [00:00<00:03,  3.31it/s]"
          ]
        },
        {
          "output_type": "stream",
          "name": "stderr",
          "text": [
            "\rEpoch 1/15 Train:  45%|\u2588\u2588\u2588\u2588\u258c     | 5/11 [00:00<00:00, 13.98it/s]"
          ]
        },
        {
          "output_type": "stream",
          "name": "stderr",
          "text": [
            "\rEpoch 1/15 Train:  82%|\u2588\u2588\u2588\u2588\u2588\u2588\u2588\u2588\u258f | 9/11 [00:00<00:00, 21.36it/s]"
          ]
        },
        {
          "output_type": "stream",
          "name": "stderr",
          "text": [
            "\rEpoch 1/15 Train: 100%|\u2588\u2588\u2588\u2588\u2588\u2588\u2588\u2588\u2588\u2588| 11/11 [00:00<00:00, 17.01it/s]"
          ]
        },
        {
          "output_type": "stream",
          "name": "stderr",
          "text": [
            "\n"
          ]
        },
        {
          "output_type": "stream",
          "name": "stderr",
          "text": [
            "\rVal:   0%|          | 0/3 [00:00<?, ?it/s]"
          ]
        },
        {
          "output_type": "stream",
          "name": "stderr",
          "text": [
            "\rVal:  33%|\u2588\u2588\u2588\u258e      | 1/3 [00:00<00:00,  3.72it/s]"
          ]
        },
        {
          "output_type": "stream",
          "name": "stderr",
          "text": [
            "\rVal: 100%|\u2588\u2588\u2588\u2588\u2588\u2588\u2588\u2588\u2588\u2588| 3/3 [00:00<00:00,  8.60it/s]"
          ]
        },
        {
          "output_type": "stream",
          "name": "stderr",
          "text": [
            "\n"
          ]
        },
        {
          "output_type": "stream",
          "name": "stdout",
          "text": [
            "Epoch 1: TrainBCE=0.7964, ValWLL=0.4678, LR=2.00e-05\n"
          ]
        },
        {
          "output_type": "stream",
          "name": "stderr",
          "text": [
            "\rEpoch 2/15 Train:   0%|          | 0/11 [00:00<?, ?it/s]"
          ]
        },
        {
          "output_type": "stream",
          "name": "stderr",
          "text": [
            "\rEpoch 2/15 Train:   9%|\u2589         | 1/11 [00:00<00:03,  2.97it/s]"
          ]
        },
        {
          "output_type": "stream",
          "name": "stderr",
          "text": [
            "\rEpoch 2/15 Train:  36%|\u2588\u2588\u2588\u258b      | 4/11 [00:00<00:00, 10.96it/s]"
          ]
        },
        {
          "output_type": "stream",
          "name": "stderr",
          "text": [
            "\rEpoch 2/15 Train:  73%|\u2588\u2588\u2588\u2588\u2588\u2588\u2588\u258e  | 8/11 [00:00<00:00, 19.33it/s]"
          ]
        },
        {
          "output_type": "stream",
          "name": "stderr",
          "text": [
            "\rEpoch 2/15 Train: 100%|\u2588\u2588\u2588\u2588\u2588\u2588\u2588\u2588\u2588\u2588| 11/11 [00:00<00:00, 16.21it/s]"
          ]
        },
        {
          "output_type": "stream",
          "name": "stderr",
          "text": [
            "\n"
          ]
        },
        {
          "output_type": "stream",
          "name": "stderr",
          "text": [
            "\rVal:   0%|          | 0/3 [00:00<?, ?it/s]"
          ]
        },
        {
          "output_type": "stream",
          "name": "stderr",
          "text": [
            "\rVal:  33%|\u2588\u2588\u2588\u258e      | 1/3 [00:00<00:00,  4.47it/s]"
          ]
        },
        {
          "output_type": "stream",
          "name": "stderr",
          "text": [
            "\rVal: 100%|\u2588\u2588\u2588\u2588\u2588\u2588\u2588\u2588\u2588\u2588| 3/3 [00:00<00:00, 10.21it/s]"
          ]
        },
        {
          "output_type": "stream",
          "name": "stderr",
          "text": [
            "\n"
          ]
        },
        {
          "output_type": "stream",
          "name": "stdout",
          "text": [
            "Epoch 2: TrainBCE=0.8354, ValWLL=0.4688, LR=2.00e-05\n"
          ]
        },
        {
          "output_type": "stream",
          "name": "stderr",
          "text": [
            "\rEpoch 3/15 Train:   0%|          | 0/11 [00:00<?, ?it/s]"
          ]
        },
        {
          "output_type": "stream",
          "name": "stderr",
          "text": [
            "\rEpoch 3/15 Train:   9%|\u2589         | 1/11 [00:00<00:03,  2.88it/s]"
          ]
        },
        {
          "output_type": "stream",
          "name": "stderr",
          "text": [
            "\rEpoch 3/15 Train:  27%|\u2588\u2588\u258b       | 3/11 [00:00<00:01,  7.21it/s]"
          ]
        },
        {
          "output_type": "stream",
          "name": "stderr",
          "text": [
            "\rEpoch 3/15 Train:  45%|\u2588\u2588\u2588\u2588\u258c     | 5/11 [00:00<00:00, 10.57it/s]"
          ]
        },
        {
          "output_type": "stream",
          "name": "stderr",
          "text": [
            "\rEpoch 3/15 Train:  64%|\u2588\u2588\u2588\u2588\u2588\u2588\u258e   | 7/11 [00:00<00:00, 13.06it/s]"
          ]
        },
        {
          "output_type": "stream",
          "name": "stderr",
          "text": [
            "\rEpoch 3/15 Train:  82%|\u2588\u2588\u2588\u2588\u2588\u2588\u2588\u2588\u258f | 9/11 [00:00<00:00, 14.87it/s]"
          ]
        },
        {
          "output_type": "stream",
          "name": "stderr",
          "text": [
            "\rEpoch 3/15 Train: 100%|\u2588\u2588\u2588\u2588\u2588\u2588\u2588\u2588\u2588\u2588| 11/11 [00:00<00:00, 11.61it/s]"
          ]
        },
        {
          "output_type": "stream",
          "name": "stderr",
          "text": [
            "\n"
          ]
        },
        {
          "output_type": "stream",
          "name": "stderr",
          "text": [
            "\rVal:   0%|          | 0/3 [00:00<?, ?it/s]"
          ]
        },
        {
          "output_type": "stream",
          "name": "stderr",
          "text": [
            "\rVal:  33%|\u2588\u2588\u2588\u258e      | 1/3 [00:00<00:00,  4.27it/s]"
          ]
        },
        {
          "output_type": "stream",
          "name": "stderr",
          "text": [
            "\rVal: 100%|\u2588\u2588\u2588\u2588\u2588\u2588\u2588\u2588\u2588\u2588| 3/3 [00:00<00:00,  9.94it/s]"
          ]
        },
        {
          "output_type": "stream",
          "name": "stderr",
          "text": [
            "\n"
          ]
        },
        {
          "output_type": "stream",
          "name": "stdout",
          "text": [
            "Epoch 3: TrainBCE=0.7657, ValWLL=0.4673, LR=2.00e-05\n"
          ]
        },
        {
          "output_type": "stream",
          "name": "stderr",
          "text": [
            "\rEpoch 4/15 Train:   0%|          | 0/11 [00:00<?, ?it/s]"
          ]
        },
        {
          "output_type": "stream",
          "name": "stderr",
          "text": [
            "\rEpoch 4/15 Train:   9%|\u2589         | 1/11 [00:00<00:03,  3.04it/s]"
          ]
        },
        {
          "output_type": "stream",
          "name": "stderr",
          "text": [
            "\rEpoch 4/15 Train:  27%|\u2588\u2588\u258b       | 3/11 [00:00<00:01,  7.75it/s]"
          ]
        },
        {
          "output_type": "stream",
          "name": "stderr",
          "text": [
            "\rEpoch 4/15 Train:  45%|\u2588\u2588\u2588\u2588\u258c     | 5/11 [00:00<00:00, 11.15it/s]"
          ]
        },
        {
          "output_type": "stream",
          "name": "stderr",
          "text": [
            "\rEpoch 4/15 Train:  64%|\u2588\u2588\u2588\u2588\u2588\u2588\u258e   | 7/11 [00:00<00:00, 13.56it/s]"
          ]
        },
        {
          "output_type": "stream",
          "name": "stderr",
          "text": [
            "\rEpoch 4/15 Train:  82%|\u2588\u2588\u2588\u2588\u2588\u2588\u2588\u2588\u258f | 9/11 [00:00<00:00, 15.26it/s]"
          ]
        },
        {
          "output_type": "stream",
          "name": "stderr",
          "text": [
            "\rEpoch 4/15 Train: 100%|\u2588\u2588\u2588\u2588\u2588\u2588\u2588\u2588\u2588\u2588| 11/11 [00:00<00:00, 12.06it/s]"
          ]
        },
        {
          "output_type": "stream",
          "name": "stderr",
          "text": [
            "\n"
          ]
        },
        {
          "output_type": "stream",
          "name": "stderr",
          "text": [
            "\rVal:   0%|          | 0/3 [00:00<?, ?it/s]"
          ]
        },
        {
          "output_type": "stream",
          "name": "stderr",
          "text": [
            "\rVal:  33%|\u2588\u2588\u2588\u258e      | 1/3 [00:00<00:00,  4.54it/s]"
          ]
        },
        {
          "output_type": "stream",
          "name": "stderr",
          "text": [
            "\rVal: 100%|\u2588\u2588\u2588\u2588\u2588\u2588\u2588\u2588\u2588\u2588| 3/3 [00:00<00:00, 10.28it/s]"
          ]
        },
        {
          "output_type": "stream",
          "name": "stderr",
          "text": [
            "\n"
          ]
        },
        {
          "output_type": "stream",
          "name": "stdout",
          "text": [
            "Epoch 4: TrainBCE=0.7697, ValWLL=0.4689, LR=2.00e-05\n"
          ]
        },
        {
          "output_type": "stream",
          "name": "stderr",
          "text": [
            "\rEpoch 5/15 Train:   0%|          | 0/11 [00:00<?, ?it/s]"
          ]
        },
        {
          "output_type": "stream",
          "name": "stderr",
          "text": [
            "\rEpoch 5/15 Train:   9%|\u2589         | 1/11 [00:00<00:03,  3.11it/s]"
          ]
        },
        {
          "output_type": "stream",
          "name": "stderr",
          "text": [
            "\rEpoch 5/15 Train:  27%|\u2588\u2588\u258b       | 3/11 [00:00<00:01,  7.81it/s]"
          ]
        },
        {
          "output_type": "stream",
          "name": "stderr",
          "text": [
            "\rEpoch 5/15 Train:  45%|\u2588\u2588\u2588\u2588\u258c     | 5/11 [00:00<00:00, 11.20it/s]"
          ]
        },
        {
          "output_type": "stream",
          "name": "stderr",
          "text": [
            "\rEpoch 5/15 Train:  64%|\u2588\u2588\u2588\u2588\u2588\u2588\u258e   | 7/11 [00:00<00:00, 13.60it/s]"
          ]
        },
        {
          "output_type": "stream",
          "name": "stderr",
          "text": [
            "\rEpoch 5/15 Train:  82%|\u2588\u2588\u2588\u2588\u2588\u2588\u2588\u2588\u258f | 9/11 [00:00<00:00, 15.31it/s]"
          ]
        },
        {
          "output_type": "stream",
          "name": "stderr",
          "text": [
            "\rEpoch 5/15 Train: 100%|\u2588\u2588\u2588\u2588\u2588\u2588\u2588\u2588\u2588\u2588| 11/11 [00:00<00:00, 12.08it/s]"
          ]
        },
        {
          "output_type": "stream",
          "name": "stderr",
          "text": [
            "\n"
          ]
        },
        {
          "output_type": "stream",
          "name": "stderr",
          "text": [
            "\rVal:   0%|          | 0/3 [00:00<?, ?it/s]"
          ]
        },
        {
          "output_type": "stream",
          "name": "stderr",
          "text": [
            "\rVal:  33%|\u2588\u2588\u2588\u258e      | 1/3 [00:00<00:00,  4.57it/s]"
          ]
        },
        {
          "output_type": "stream",
          "name": "stderr",
          "text": [
            "\rVal: 100%|\u2588\u2588\u2588\u2588\u2588\u2588\u2588\u2588\u2588\u2588| 3/3 [00:00<00:00, 10.39it/s]"
          ]
        },
        {
          "output_type": "stream",
          "name": "stderr",
          "text": [
            "\n"
          ]
        },
        {
          "output_type": "stream",
          "name": "stdout",
          "text": [
            "Epoch 5: TrainBCE=0.7886, ValWLL=0.4683, LR=2.00e-05\n"
          ]
        },
        {
          "output_type": "stream",
          "name": "stderr",
          "text": [
            "\rEpoch 6/15 Train:   0%|          | 0/11 [00:00<?, ?it/s]"
          ]
        },
        {
          "output_type": "stream",
          "name": "stderr",
          "text": [
            "\rEpoch 6/15 Train:   9%|\u2589         | 1/11 [00:00<00:03,  2.88it/s]"
          ]
        },
        {
          "output_type": "stream",
          "name": "stderr",
          "text": [
            "\rEpoch 6/15 Train:  27%|\u2588\u2588\u258b       | 3/11 [00:00<00:01,  7.59it/s]"
          ]
        },
        {
          "output_type": "stream",
          "name": "stderr",
          "text": [
            "\rEpoch 6/15 Train:  45%|\u2588\u2588\u2588\u2588\u258c     | 5/11 [00:00<00:00, 11.00it/s]"
          ]
        },
        {
          "output_type": "stream",
          "name": "stderr",
          "text": [
            "\rEpoch 6/15 Train:  64%|\u2588\u2588\u2588\u2588\u2588\u2588\u258e   | 7/11 [00:00<00:00, 13.44it/s]"
          ]
        },
        {
          "output_type": "stream",
          "name": "stderr",
          "text": [
            "\rEpoch 6/15 Train:  82%|\u2588\u2588\u2588\u2588\u2588\u2588\u2588\u2588\u258f | 9/11 [00:00<00:00, 15.17it/s]"
          ]
        },
        {
          "output_type": "stream",
          "name": "stderr",
          "text": [
            "\rEpoch 6/15 Train: 100%|\u2588\u2588\u2588\u2588\u2588\u2588\u2588\u2588\u2588\u2588| 11/11 [00:00<00:00, 12.01it/s]"
          ]
        },
        {
          "output_type": "stream",
          "name": "stderr",
          "text": [
            "\n"
          ]
        },
        {
          "output_type": "stream",
          "name": "stderr",
          "text": [
            "\rVal:   0%|          | 0/3 [00:00<?, ?it/s]"
          ]
        },
        {
          "output_type": "stream",
          "name": "stderr",
          "text": [
            "\rVal:  33%|\u2588\u2588\u2588\u258e      | 1/3 [00:00<00:00,  4.52it/s]"
          ]
        },
        {
          "output_type": "stream",
          "name": "stderr",
          "text": [
            "\rVal: 100%|\u2588\u2588\u2588\u2588\u2588\u2588\u2588\u2588\u2588\u2588| 3/3 [00:00<00:00, 10.10it/s]"
          ]
        },
        {
          "output_type": "stream",
          "name": "stderr",
          "text": [
            "\n"
          ]
        },
        {
          "output_type": "stream",
          "name": "stdout",
          "text": [
            "Epoch 6: TrainBCE=0.8572, ValWLL=0.4673, LR=2.00e-05\nEarly stopping at epoch 6\nRegNetY Fold 4 best OOF WLL (val): 0.4673\n"
          ]
        },
        {
          "output_type": "stream",
          "name": "stderr",
          "text": [
            "\rFinal Val for OOF:   0%|          | 0/3 [00:00<?, ?it/s]"
          ]
        },
        {
          "output_type": "stream",
          "name": "stderr",
          "text": [
            "\rFinal Val for OOF:  33%|\u2588\u2588\u2588\u258e      | 1/3 [00:00<00:00,  4.30it/s]"
          ]
        },
        {
          "output_type": "stream",
          "name": "stderr",
          "text": [
            "\rFinal Val for OOF: 100%|\u2588\u2588\u2588\u2588\u2588\u2588\u2588\u2588\u2588\u2588| 3/3 [00:00<00:00,  9.65it/s]"
          ]
        },
        {
          "output_type": "stream",
          "name": "stderr",
          "text": [
            "\n"
          ]
        },
        {
          "output_type": "stream",
          "name": "stdout",
          "text": [
            "RegNetY Fold 4 OOF WLL: 0.4673\n\n=== RegNetY Fold 5/5 ===\n"
          ]
        },
        {
          "output_type": "stream",
          "name": "stderr",
          "text": [
            "\rEpoch 1/15 Train:   0%|          | 0/11 [00:00<?, ?it/s]"
          ]
        },
        {
          "output_type": "stream",
          "name": "stderr",
          "text": [
            "\rEpoch 1/15 Train:   9%|\u2589         | 1/11 [00:00<00:03,  3.16it/s]"
          ]
        },
        {
          "output_type": "stream",
          "name": "stderr",
          "text": [
            "\rEpoch 1/15 Train:  36%|\u2588\u2588\u2588\u258b      | 4/11 [00:00<00:00, 11.18it/s]"
          ]
        },
        {
          "output_type": "stream",
          "name": "stderr",
          "text": [
            "\rEpoch 1/15 Train:  73%|\u2588\u2588\u2588\u2588\u2588\u2588\u2588\u258e  | 8/11 [00:00<00:00, 19.68it/s]"
          ]
        },
        {
          "output_type": "stream",
          "name": "stderr",
          "text": [
            "\rEpoch 1/15 Train: 100%|\u2588\u2588\u2588\u2588\u2588\u2588\u2588\u2588\u2588\u2588| 11/11 [00:00<00:00, 16.51it/s]"
          ]
        },
        {
          "output_type": "stream",
          "name": "stderr",
          "text": [
            "\n"
          ]
        },
        {
          "output_type": "stream",
          "name": "stderr",
          "text": [
            "\rVal:   0%|          | 0/3 [00:00<?, ?it/s]"
          ]
        },
        {
          "output_type": "stream",
          "name": "stderr",
          "text": [
            "\rVal:  33%|\u2588\u2588\u2588\u258e      | 1/3 [00:00<00:00,  4.25it/s]"
          ]
        },
        {
          "output_type": "stream",
          "name": "stderr",
          "text": [
            "\rVal: 100%|\u2588\u2588\u2588\u2588\u2588\u2588\u2588\u2588\u2588\u2588| 3/3 [00:00<00:00,  9.43it/s]"
          ]
        },
        {
          "output_type": "stream",
          "name": "stderr",
          "text": [
            "\n"
          ]
        },
        {
          "output_type": "stream",
          "name": "stdout",
          "text": [
            "Epoch 1: TrainBCE=0.8339, ValWLL=0.4836, LR=2.00e-05\n"
          ]
        },
        {
          "output_type": "stream",
          "name": "stderr",
          "text": [
            "\rEpoch 2/15 Train:   0%|          | 0/11 [00:00<?, ?it/s]"
          ]
        },
        {
          "output_type": "stream",
          "name": "stderr",
          "text": [
            "\rEpoch 2/15 Train:   9%|\u2589         | 1/11 [00:00<00:03,  3.31it/s]"
          ]
        },
        {
          "output_type": "stream",
          "name": "stderr",
          "text": [
            "\rEpoch 2/15 Train:  45%|\u2588\u2588\u2588\u2588\u258c     | 5/11 [00:00<00:00, 14.32it/s]"
          ]
        },
        {
          "output_type": "stream",
          "name": "stderr",
          "text": [
            "\rEpoch 2/15 Train:  82%|\u2588\u2588\u2588\u2588\u2588\u2588\u2588\u2588\u258f | 9/11 [00:00<00:00, 21.93it/s]"
          ]
        },
        {
          "output_type": "stream",
          "name": "stderr",
          "text": [
            "\rEpoch 2/15 Train: 100%|\u2588\u2588\u2588\u2588\u2588\u2588\u2588\u2588\u2588\u2588| 11/11 [00:00<00:00, 17.52it/s]"
          ]
        },
        {
          "output_type": "stream",
          "name": "stderr",
          "text": [
            "\n"
          ]
        },
        {
          "output_type": "stream",
          "name": "stderr",
          "text": [
            "\rVal:   0%|          | 0/3 [00:00<?, ?it/s]"
          ]
        },
        {
          "output_type": "stream",
          "name": "stderr",
          "text": [
            "\rVal:  33%|\u2588\u2588\u2588\u258e      | 1/3 [00:00<00:00,  4.61it/s]"
          ]
        },
        {
          "output_type": "stream",
          "name": "stderr",
          "text": [
            "\rVal: 100%|\u2588\u2588\u2588\u2588\u2588\u2588\u2588\u2588\u2588\u2588| 3/3 [00:00<00:00, 10.44it/s]"
          ]
        },
        {
          "output_type": "stream",
          "name": "stderr",
          "text": [
            "\n"
          ]
        },
        {
          "output_type": "stream",
          "name": "stdout",
          "text": [
            "Epoch 2: TrainBCE=0.8859, ValWLL=0.4873, LR=2.00e-05\n"
          ]
        },
        {
          "output_type": "stream",
          "name": "stderr",
          "text": [
            "\rEpoch 3/15 Train:   0%|          | 0/11 [00:00<?, ?it/s]"
          ]
        },
        {
          "output_type": "stream",
          "name": "stderr",
          "text": [
            "\rEpoch 3/15 Train:   9%|\u2589         | 1/11 [00:00<00:03,  3.09it/s]"
          ]
        },
        {
          "output_type": "stream",
          "name": "stderr",
          "text": [
            "\rEpoch 3/15 Train:  27%|\u2588\u2588\u258b       | 3/11 [00:00<00:01,  7.75it/s]"
          ]
        },
        {
          "output_type": "stream",
          "name": "stderr",
          "text": [
            "\rEpoch 3/15 Train:  45%|\u2588\u2588\u2588\u2588\u258c     | 5/11 [00:00<00:00, 11.14it/s]"
          ]
        },
        {
          "output_type": "stream",
          "name": "stderr",
          "text": [
            "\rEpoch 3/15 Train:  64%|\u2588\u2588\u2588\u2588\u2588\u2588\u258e   | 7/11 [00:00<00:00, 13.55it/s]"
          ]
        },
        {
          "output_type": "stream",
          "name": "stderr",
          "text": [
            "\rEpoch 3/15 Train:  82%|\u2588\u2588\u2588\u2588\u2588\u2588\u2588\u2588\u258f | 9/11 [00:00<00:00, 15.34it/s]"
          ]
        },
        {
          "output_type": "stream",
          "name": "stderr",
          "text": [
            "\rEpoch 3/15 Train: 100%|\u2588\u2588\u2588\u2588\u2588\u2588\u2588\u2588\u2588\u2588| 11/11 [00:00<00:00, 12.16it/s]"
          ]
        },
        {
          "output_type": "stream",
          "name": "stderr",
          "text": [
            "\n"
          ]
        },
        {
          "output_type": "stream",
          "name": "stderr",
          "text": [
            "\rVal:   0%|          | 0/3 [00:00<?, ?it/s]"
          ]
        },
        {
          "output_type": "stream",
          "name": "stderr",
          "text": [
            "\rVal:  33%|\u2588\u2588\u2588\u258e      | 1/3 [00:00<00:00,  4.43it/s]"
          ]
        },
        {
          "output_type": "stream",
          "name": "stderr",
          "text": [
            "\rVal: 100%|\u2588\u2588\u2588\u2588\u2588\u2588\u2588\u2588\u2588\u2588| 3/3 [00:00<00:00, 10.08it/s]"
          ]
        },
        {
          "output_type": "stream",
          "name": "stderr",
          "text": [
            "\n"
          ]
        },
        {
          "output_type": "stream",
          "name": "stdout",
          "text": [
            "Epoch 3: TrainBCE=0.8435, ValWLL=0.4844, LR=2.00e-05\n"
          ]
        },
        {
          "output_type": "stream",
          "name": "stderr",
          "text": [
            "\rEpoch 4/15 Train:   0%|          | 0/11 [00:00<?, ?it/s]"
          ]
        },
        {
          "output_type": "stream",
          "name": "stderr",
          "text": [
            "\rEpoch 4/15 Train:   9%|\u2589         | 1/11 [00:00<00:03,  3.06it/s]"
          ]
        },
        {
          "output_type": "stream",
          "name": "stderr",
          "text": [
            "\rEpoch 4/15 Train:  27%|\u2588\u2588\u258b       | 3/11 [00:00<00:01,  7.81it/s]"
          ]
        },
        {
          "output_type": "stream",
          "name": "stderr",
          "text": [
            "\rEpoch 4/15 Train:  45%|\u2588\u2588\u2588\u2588\u258c     | 5/11 [00:00<00:00, 11.22it/s]"
          ]
        },
        {
          "output_type": "stream",
          "name": "stderr",
          "text": [
            "\rEpoch 4/15 Train:  64%|\u2588\u2588\u2588\u2588\u2588\u2588\u258e   | 7/11 [00:00<00:00, 13.64it/s]"
          ]
        },
        {
          "output_type": "stream",
          "name": "stderr",
          "text": [
            "\rEpoch 4/15 Train:  82%|\u2588\u2588\u2588\u2588\u2588\u2588\u2588\u2588\u258f | 9/11 [00:00<00:00, 15.37it/s]"
          ]
        },
        {
          "output_type": "stream",
          "name": "stderr",
          "text": [
            "\rEpoch 4/15 Train: 100%|\u2588\u2588\u2588\u2588\u2588\u2588\u2588\u2588\u2588\u2588| 11/11 [00:00<00:00, 12.05it/s]"
          ]
        },
        {
          "output_type": "stream",
          "name": "stderr",
          "text": [
            "\n"
          ]
        },
        {
          "output_type": "stream",
          "name": "stderr",
          "text": [
            "\rVal:   0%|          | 0/3 [00:00<?, ?it/s]"
          ]
        },
        {
          "output_type": "stream",
          "name": "stderr",
          "text": [
            "\rVal:  33%|\u2588\u2588\u2588\u258e      | 1/3 [00:00<00:00,  4.63it/s]"
          ]
        },
        {
          "output_type": "stream",
          "name": "stderr",
          "text": [
            "\rVal: 100%|\u2588\u2588\u2588\u2588\u2588\u2588\u2588\u2588\u2588\u2588| 3/3 [00:00<00:00, 10.53it/s]"
          ]
        },
        {
          "output_type": "stream",
          "name": "stderr",
          "text": [
            "\n"
          ]
        },
        {
          "output_type": "stream",
          "name": "stdout",
          "text": [
            "Epoch 4: TrainBCE=0.8327, ValWLL=0.4853, LR=1.00e-05\n"
          ]
        },
        {
          "output_type": "stream",
          "name": "stderr",
          "text": [
            "\rEpoch 5/15 Train:   0%|          | 0/11 [00:00<?, ?it/s]"
          ]
        },
        {
          "output_type": "stream",
          "name": "stderr",
          "text": [
            "\rEpoch 5/15 Train:   9%|\u2589         | 1/11 [00:00<00:03,  3.09it/s]"
          ]
        },
        {
          "output_type": "stream",
          "name": "stderr",
          "text": [
            "\rEpoch 5/15 Train:  27%|\u2588\u2588\u258b       | 3/11 [00:00<00:01,  7.80it/s]"
          ]
        },
        {
          "output_type": "stream",
          "name": "stderr",
          "text": [
            "\rEpoch 5/15 Train:  45%|\u2588\u2588\u2588\u2588\u258c     | 5/11 [00:00<00:00, 11.18it/s]"
          ]
        },
        {
          "output_type": "stream",
          "name": "stderr",
          "text": [
            "\rEpoch 5/15 Train:  64%|\u2588\u2588\u2588\u2588\u2588\u2588\u258e   | 7/11 [00:00<00:00, 13.56it/s]"
          ]
        },
        {
          "output_type": "stream",
          "name": "stderr",
          "text": [
            "\rEpoch 5/15 Train:  82%|\u2588\u2588\u2588\u2588\u2588\u2588\u2588\u2588\u258f | 9/11 [00:00<00:00, 15.24it/s]"
          ]
        },
        {
          "output_type": "stream",
          "name": "stderr",
          "text": [
            "\rEpoch 5/15 Train: 100%|\u2588\u2588\u2588\u2588\u2588\u2588\u2588\u2588\u2588\u2588| 11/11 [00:00<00:00, 12.12it/s]"
          ]
        },
        {
          "output_type": "stream",
          "name": "stderr",
          "text": [
            "\n"
          ]
        },
        {
          "output_type": "stream",
          "name": "stderr",
          "text": [
            "\rVal:   0%|          | 0/3 [00:00<?, ?it/s]"
          ]
        },
        {
          "output_type": "stream",
          "name": "stderr",
          "text": [
            "\rVal:  33%|\u2588\u2588\u2588\u258e      | 1/3 [00:00<00:00,  4.31it/s]"
          ]
        },
        {
          "output_type": "stream",
          "name": "stderr",
          "text": [
            "\rVal: 100%|\u2588\u2588\u2588\u2588\u2588\u2588\u2588\u2588\u2588\u2588| 3/3 [00:00<00:00,  9.71it/s]"
          ]
        },
        {
          "output_type": "stream",
          "name": "stderr",
          "text": [
            "\n"
          ]
        },
        {
          "output_type": "stream",
          "name": "stdout",
          "text": [
            "Epoch 5: TrainBCE=0.8430, ValWLL=0.4851, LR=1.00e-05\n"
          ]
        },
        {
          "output_type": "stream",
          "name": "stderr",
          "text": [
            "\rEpoch 6/15 Train:   0%|          | 0/11 [00:00<?, ?it/s]"
          ]
        },
        {
          "output_type": "stream",
          "name": "stderr",
          "text": [
            "\rEpoch 6/15 Train:   9%|\u2589         | 1/11 [00:00<00:03,  2.89it/s]"
          ]
        },
        {
          "output_type": "stream",
          "name": "stderr",
          "text": [
            "\rEpoch 6/15 Train:  27%|\u2588\u2588\u258b       | 3/11 [00:00<00:01,  7.65it/s]"
          ]
        },
        {
          "output_type": "stream",
          "name": "stderr",
          "text": [
            "\rEpoch 6/15 Train:  45%|\u2588\u2588\u2588\u2588\u258c     | 5/11 [00:00<00:00, 11.04it/s]"
          ]
        },
        {
          "output_type": "stream",
          "name": "stderr",
          "text": [
            "\rEpoch 6/15 Train:  64%|\u2588\u2588\u2588\u2588\u2588\u2588\u258e   | 7/11 [00:00<00:00, 13.48it/s]"
          ]
        },
        {
          "output_type": "stream",
          "name": "stderr",
          "text": [
            "\rEpoch 6/15 Train:  82%|\u2588\u2588\u2588\u2588\u2588\u2588\u2588\u2588\u258f | 9/11 [00:00<00:00, 15.22it/s]"
          ]
        },
        {
          "output_type": "stream",
          "name": "stderr",
          "text": [
            "\rEpoch 6/15 Train: 100%|\u2588\u2588\u2588\u2588\u2588\u2588\u2588\u2588\u2588\u2588| 11/11 [00:00<00:00, 11.94it/s]"
          ]
        },
        {
          "output_type": "stream",
          "name": "stderr",
          "text": [
            "\n"
          ]
        },
        {
          "output_type": "stream",
          "name": "stderr",
          "text": [
            "\rVal:   0%|          | 0/3 [00:00<?, ?it/s]"
          ]
        },
        {
          "output_type": "stream",
          "name": "stderr",
          "text": [
            "\rVal:  33%|\u2588\u2588\u2588\u258e      | 1/3 [00:00<00:00,  4.54it/s]"
          ]
        },
        {
          "output_type": "stream",
          "name": "stderr",
          "text": [
            "\rVal: 100%|\u2588\u2588\u2588\u2588\u2588\u2588\u2588\u2588\u2588\u2588| 3/3 [00:00<00:00, 10.22it/s]"
          ]
        },
        {
          "output_type": "stream",
          "name": "stderr",
          "text": [
            "\n"
          ]
        },
        {
          "output_type": "stream",
          "name": "stdout",
          "text": [
            "Epoch 6: TrainBCE=0.7752, ValWLL=0.4840, LR=1.00e-05\nEarly stopping at epoch 6\nRegNetY Fold 5 best OOF WLL (val): 0.4836\n"
          ]
        },
        {
          "output_type": "stream",
          "name": "stderr",
          "text": [
            "\rFinal Val for OOF:   0%|          | 0/3 [00:00<?, ?it/s]"
          ]
        },
        {
          "output_type": "stream",
          "name": "stderr",
          "text": [
            "\rFinal Val for OOF:  33%|\u2588\u2588\u2588\u258e      | 1/3 [00:00<00:00,  4.68it/s]"
          ]
        },
        {
          "output_type": "stream",
          "name": "stderr",
          "text": [
            "\rFinal Val for OOF: 100%|\u2588\u2588\u2588\u2588\u2588\u2588\u2588\u2588\u2588\u2588| 3/3 [00:00<00:00, 10.21it/s]"
          ]
        },
        {
          "output_type": "stream",
          "name": "stdout",
          "text": [
            "RegNetY Fold 5 OOF WLL: 0.4840\n\nRegNetY CV Mean WLL: 0.4713 +/- 0.0105\n"
          ]
        },
        {
          "output_type": "stream",
          "name": "stderr",
          "text": [
            "\n"
          ]
        }
      ]
    },
    {
      "id": "e961e4ab-3ced-4f7c-a7d7-a20174339458",
      "cell_type": "code",
      "metadata": {},
      "source": [
        "# Compute OOF logits for RegNetY temperature scaling\n",
        "import torch\n",
        "import numpy as np\n",
        "import pandas as pd\n",
        "from tqdm import tqdm\n",
        "from torch.utils.data import DataLoader\n",
        "\n",
        "# Reuse MIPDataset and val_transform from earlier cells\n",
        "full_train_df = pd.read_csv('data/train_mips.csv')\n",
        "label_cols = ['C1','C2','C3','C4','C5','C6','C7']\n",
        "y_full = full_train_df[label_cols].values\n",
        "mip_dir = 'data/mips/train'\n",
        "n_folds = 5\n",
        "\n",
        "from iterstrat.ml_stratifiers import MultilabelStratifiedKFold\n",
        "skf = MultilabelStratifiedKFold(n_splits=n_folds, shuffle=True, random_state=456)\n",
        "splits = list(skf.split(full_train_df, y_full))\n",
        "\n",
        "def build_regnet(num_classes=7):\n",
        "    import timm\n",
        "    m = timm.create_model('regnety_004', pretrained=False, num_classes=num_classes, in_chans=3,\n",
        "                          drop_rate=0.4, drop_path_rate=0.2)\n",
        "    return m.to(device).eval()\n",
        "\n",
        "oof_logits_full_reg = np.zeros((len(full_train_df), 7), dtype=np.float32)\n",
        "\n",
        "for fold, (train_idx, val_idx) in enumerate(splits, 1):\n",
        "    print(f'Computing OOF logits for RegNetY Fold {fold}')\n",
        "    val_df_f = full_train_df.iloc[val_idx].reset_index(drop=True)\n",
        "    val_ds = MIPDataset(val_df_f, mip_dir, label_cols, val_transform)\n",
        "    val_loader = DataLoader(val_ds, batch_size=16, shuffle=False, num_workers=4, pin_memory=True)\n",
        "\n",
        "    ckpt = f'fold_{fold}_regnet.pth'\n",
        "    model = build_regnet(7)\n",
        "    sd = torch.load(ckpt, map_location='cpu')\n",
        "    model.load_state_dict(sd, strict=True)\n",
        "\n",
        "    model.eval()\n",
        "    fold_logits = []\n",
        "    with torch.no_grad():\n",
        "        for images, _ in tqdm(val_loader, desc=f'Fold {fold} OOF logits reg'):\n",
        "            images = images.to(device)\n",
        "            logits = model(images)\n",
        "            fold_logits.append(logits.cpu().numpy())\n",
        "    fold_logits = np.concatenate(fold_logits, axis=0)\n",
        "    oof_logits_full_reg[val_idx] = fold_logits\n",
        "    print(f'Fold {fold} OOF logits reg shape: {fold_logits.shape}')\n",
        "\n",
        "# Save OOF logits reg\n",
        "oof_logits_df_reg = full_train_df[['StudyInstanceUID']].copy()\n",
        "for i, col in enumerate(label_cols):\n",
        "    oof_logits_df_reg[col] = oof_logits_full_reg[:, i]\n",
        "oof_logits_df_reg.to_csv('oof_logits_regnet.csv', index=False)\n",
        "print('OOF logits reg saved to oof_logits_regnet.csv')\n",
        "\n",
        "# Quick check: Compute probs from logits and verify matches oof_predictions_regnet.csv\n",
        "oof_probs_from_logits_reg = 1 / (1 + np.exp(-oof_logits_full_reg))\n",
        "oof_df_reg = pd.read_csv('oof_predictions_regnet.csv')\n",
        "oof_probs_saved_reg = oof_df_reg[label_cols].values\n",
        "print(f'Probs reg match (max diff): {np.max(np.abs(oof_probs_from_logits_reg - oof_probs_saved_reg)):.6f}')"
      ],
      "execution_count": 19,
      "outputs": [
        {
          "output_type": "stream",
          "name": "stdout",
          "text": [
            "Computing OOF logits for RegNetY Fold 1\n"
          ]
        },
        {
          "output_type": "stream",
          "name": "stderr",
          "text": [
            "\rFold 1 OOF logits reg:   0%|          | 0/3 [00:00<?, ?it/s]"
          ]
        },
        {
          "output_type": "stream",
          "name": "stderr",
          "text": [
            "\rFold 1 OOF logits reg:  33%|\u2588\u2588\u2588\u258e      | 1/3 [00:00<00:00,  4.38it/s]"
          ]
        },
        {
          "output_type": "stream",
          "name": "stderr",
          "text": [
            "\rFold 1 OOF logits reg: 100%|\u2588\u2588\u2588\u2588\u2588\u2588\u2588\u2588\u2588\u2588| 3/3 [00:00<00:00, 10.17it/s]"
          ]
        },
        {
          "output_type": "stream",
          "name": "stderr",
          "text": [
            "\n"
          ]
        },
        {
          "output_type": "stream",
          "name": "stdout",
          "text": [
            "Fold 1 OOF logits reg shape: (41, 7)\nComputing OOF logits for RegNetY Fold 2\n"
          ]
        },
        {
          "output_type": "stream",
          "name": "stderr",
          "text": [
            "\rFold 2 OOF logits reg:   0%|          | 0/3 [00:00<?, ?it/s]"
          ]
        },
        {
          "output_type": "stream",
          "name": "stderr",
          "text": [
            "\rFold 2 OOF logits reg:  33%|\u2588\u2588\u2588\u258e      | 1/3 [00:00<00:00,  4.35it/s]"
          ]
        },
        {
          "output_type": "stream",
          "name": "stderr",
          "text": [
            "\rFold 2 OOF logits reg: 100%|\u2588\u2588\u2588\u2588\u2588\u2588\u2588\u2588\u2588\u2588| 3/3 [00:00<00:00,  9.64it/s]"
          ]
        },
        {
          "output_type": "stream",
          "name": "stderr",
          "text": [
            "\n"
          ]
        },
        {
          "output_type": "stream",
          "name": "stdout",
          "text": [
            "Fold 2 OOF logits reg shape: (40, 7)\nComputing OOF logits for RegNetY Fold 3\n"
          ]
        },
        {
          "output_type": "stream",
          "name": "stderr",
          "text": [
            "\rFold 3 OOF logits reg:   0%|          | 0/3 [00:00<?, ?it/s]"
          ]
        },
        {
          "output_type": "stream",
          "name": "stderr",
          "text": [
            "\rFold 3 OOF logits reg:  33%|\u2588\u2588\u2588\u258e      | 1/3 [00:00<00:00,  4.59it/s]"
          ]
        },
        {
          "output_type": "stream",
          "name": "stderr",
          "text": [
            "\rFold 3 OOF logits reg: 100%|\u2588\u2588\u2588\u2588\u2588\u2588\u2588\u2588\u2588\u2588| 3/3 [00:00<00:00, 10.41it/s]"
          ]
        },
        {
          "output_type": "stream",
          "name": "stderr",
          "text": [
            "\n"
          ]
        },
        {
          "output_type": "stream",
          "name": "stdout",
          "text": [
            "Fold 3 OOF logits reg shape: (41, 7)\nComputing OOF logits for RegNetY Fold 4\n"
          ]
        },
        {
          "output_type": "stream",
          "name": "stderr",
          "text": [
            "\rFold 4 OOF logits reg:   0%|          | 0/3 [00:00<?, ?it/s]"
          ]
        },
        {
          "output_type": "stream",
          "name": "stderr",
          "text": [
            "\rFold 4 OOF logits reg:  33%|\u2588\u2588\u2588\u258e      | 1/3 [00:00<00:00,  4.30it/s]"
          ]
        },
        {
          "output_type": "stream",
          "name": "stderr",
          "text": [
            "\rFold 4 OOF logits reg: 100%|\u2588\u2588\u2588\u2588\u2588\u2588\u2588\u2588\u2588\u2588| 3/3 [00:00<00:00,  9.73it/s]"
          ]
        },
        {
          "output_type": "stream",
          "name": "stderr",
          "text": [
            "\n"
          ]
        },
        {
          "output_type": "stream",
          "name": "stdout",
          "text": [
            "Fold 4 OOF logits reg shape: (40, 7)\nComputing OOF logits for RegNetY Fold 5\n"
          ]
        },
        {
          "output_type": "stream",
          "name": "stderr",
          "text": [
            "\rFold 5 OOF logits reg:   0%|          | 0/3 [00:00<?, ?it/s]"
          ]
        },
        {
          "output_type": "stream",
          "name": "stderr",
          "text": [
            "\rFold 5 OOF logits reg:  33%|\u2588\u2588\u2588\u258e      | 1/3 [00:00<00:00,  4.63it/s]"
          ]
        },
        {
          "output_type": "stream",
          "name": "stderr",
          "text": [
            "\rFold 5 OOF logits reg: 100%|\u2588\u2588\u2588\u2588\u2588\u2588\u2588\u2588\u2588\u2588| 3/3 [00:00<00:00, 10.41it/s]"
          ]
        },
        {
          "output_type": "stream",
          "name": "stdout",
          "text": [
            "Fold 5 OOF logits reg shape: (40, 7)\nOOF logits reg saved to oof_logits_regnet.csv\nProbs reg match (max diff): 0.000000\n"
          ]
        },
        {
          "output_type": "stream",
          "name": "stderr",
          "text": [
            "\n"
          ]
        }
      ]
    },
    {
      "id": "75c6b323-20c2-47f6-af4e-f8edcaf8cdf7",
      "cell_type": "code",
      "metadata": {},
      "source": [
        "import torch, numpy as np, pandas as pd\n",
        "from torch.utils.data import DataLoader\n",
        "from tqdm import tqdm\n",
        "from iterstrat.ml_stratifiers import MultilabelStratifiedKFold\n",
        "from scipy.special import expit as sigmoid\n",
        "\n",
        "full_train_df = pd.read_csv('data/train_mips.csv')\n",
        "label_cols = ['C1','C2','C3','C4','C5','C6','C7']\n",
        "y_full = full_train_df[label_cols].values\n",
        "mip_dir = 'data/mips/train'\n",
        "device = torch.device('cuda')\n",
        "\n",
        "def oof_tta(model_builder, ckpt_tmpl, n_folds, seed):\n",
        "    skf = MultilabelStratifiedKFold(n_splits=n_folds, shuffle=True, random_state=seed)\n",
        "    splits = list(skf.split(full_train_df, y_full))\n",
        "    oof_logits = np.zeros((len(full_train_df), 7), dtype=np.float32)\n",
        "    for fold,(tr_idx, val_idx) in enumerate(splits, 1):\n",
        "        val_df = full_train_df.iloc[val_idx].reset_index(drop=True)\n",
        "        val_ds = MIPDataset(val_df, mip_dir, label_cols, val_transform)\n",
        "        val_loader = DataLoader(val_ds, batch_size=32, shuffle=False, num_workers=4, pin_memory=True)\n",
        "\n",
        "        model = model_builder(7).to(device).eval()\n",
        "        sd = torch.load(ckpt_tmpl.format(fold), map_location='cpu')\n",
        "        model.load_state_dict(sd, strict=True)\n",
        "\n",
        "        fold_logits = []\n",
        "        with torch.no_grad():\n",
        "            for images, _ in tqdm(val_loader, desc=f'TTA OOF fold {fold}'):\n",
        "                images = images.to(device)\n",
        "                with torch.cuda.amp.autocast():\n",
        "                    lo = model(images)\n",
        "                    lo_f = model(images.flip(-1))  # HFlip along width\n",
        "                    lo = 0.5*(lo + lo_f)\n",
        "                fold_logits.append(lo.float().cpu().numpy())\n",
        "        fold_logits = np.concatenate(fold_logits, axis=0)\n",
        "        oof_logits[val_idx] = fold_logits\n",
        "    return oof_logits\n",
        "\n",
        "def build_convnext_v1(num_classes=7):\n",
        "    import timm\n",
        "    return timm.create_model('convnext_tiny', pretrained=False, num_classes=num_classes, in_chans=3,\n",
        "                             drop_rate=0.3, drop_path_rate=0.1)\n",
        "def build_convnext_v2(num_classes=7):\n",
        "    import timm\n",
        "    return timm.create_model('convnext_tiny', pretrained=False, num_classes=num_classes, in_chans=3,\n",
        "                             drop_rate=0.4, drop_path_rate=0.2)\n",
        "def build_regnet(num_classes=7):\n",
        "    import timm\n",
        "    return timm.create_model('regnety_004', pretrained=False, num_classes=num_classes, in_chans=3,\n",
        "                             drop_rate=0.4, drop_path_rate=0.2)\n",
        "\n",
        "print('=== ConvNeXt v1 TTA OOF ===')\n",
        "v1_tta = oof_tta(build_convnext_v1, 'fold_{}_convnext.pth', n_folds=5, seed=42)\n",
        "np.save('oof_logits_convnext_tta.npy', v1_tta)\n",
        "\n",
        "print('=== ConvNeXt v2 TTA OOF ===')\n",
        "v2_tta = oof_tta(build_convnext_v2, 'fold_{}_convnext_v2.pth', n_folds=5, seed=123)\n",
        "np.save('oof_logits_convnext_v2_tta.npy', v2_tta)\n",
        "\n",
        "print('=== RegNet TTA OOF ===')\n",
        "reg_tta = oof_tta(build_regnet, 'fold_{}_regnet.pth', n_folds=5, seed=456)\n",
        "np.save('oof_logits_regnet_tta.npy', reg_tta)"
      ],
      "execution_count": 28,
      "outputs": [
        {
          "output_type": "stream",
          "name": "stdout",
          "text": [
            "=== ConvNeXt v1 TTA OOF ===\n"
          ]
        },
        {
          "output_type": "stream",
          "name": "stderr",
          "text": [
            "\rTTA OOF fold 1:   0%|          | 0/2 [00:00<?, ?it/s]"
          ]
        },
        {
          "output_type": "stream",
          "name": "stderr",
          "text": [
            "\rTTA OOF fold 1:  50%|\u2588\u2588\u2588\u2588\u2588     | 1/2 [00:00<00:00,  2.41it/s]"
          ]
        },
        {
          "output_type": "stream",
          "name": "stderr",
          "text": [
            "\rTTA OOF fold 1: 100%|\u2588\u2588\u2588\u2588\u2588\u2588\u2588\u2588\u2588\u2588| 2/2 [00:00<00:00,  4.07it/s]"
          ]
        },
        {
          "output_type": "stream",
          "name": "stderr",
          "text": [
            "\n"
          ]
        },
        {
          "output_type": "stream",
          "name": "stderr",
          "text": [
            "\rTTA OOF fold 2:   0%|          | 0/2 [00:00<?, ?it/s]"
          ]
        },
        {
          "output_type": "stream",
          "name": "stderr",
          "text": [
            "\rTTA OOF fold 2:  50%|\u2588\u2588\u2588\u2588\u2588     | 1/2 [00:00<00:00,  2.69it/s]"
          ]
        },
        {
          "output_type": "stream",
          "name": "stderr",
          "text": [
            "\rTTA OOF fold 2: 100%|\u2588\u2588\u2588\u2588\u2588\u2588\u2588\u2588\u2588\u2588| 2/2 [00:00<00:00,  4.43it/s]"
          ]
        },
        {
          "output_type": "stream",
          "name": "stderr",
          "text": [
            "\n"
          ]
        },
        {
          "output_type": "stream",
          "name": "stderr",
          "text": [
            "\rTTA OOF fold 3:   0%|          | 0/2 [00:00<?, ?it/s]"
          ]
        },
        {
          "output_type": "stream",
          "name": "stderr",
          "text": [
            "\rTTA OOF fold 3:  50%|\u2588\u2588\u2588\u2588\u2588     | 1/2 [00:00<00:00,  2.68it/s]"
          ]
        },
        {
          "output_type": "stream",
          "name": "stderr",
          "text": [
            "\rTTA OOF fold 3: 100%|\u2588\u2588\u2588\u2588\u2588\u2588\u2588\u2588\u2588\u2588| 2/2 [00:00<00:00,  4.38it/s]"
          ]
        },
        {
          "output_type": "stream",
          "name": "stderr",
          "text": [
            "\n"
          ]
        },
        {
          "output_type": "stream",
          "name": "stderr",
          "text": [
            "\rTTA OOF fold 4:   0%|          | 0/2 [00:00<?, ?it/s]"
          ]
        },
        {
          "output_type": "stream",
          "name": "stderr",
          "text": [
            "\rTTA OOF fold 4:  50%|\u2588\u2588\u2588\u2588\u2588     | 1/2 [00:00<00:00,  2.61it/s]"
          ]
        },
        {
          "output_type": "stream",
          "name": "stderr",
          "text": [
            "\rTTA OOF fold 4: 100%|\u2588\u2588\u2588\u2588\u2588\u2588\u2588\u2588\u2588\u2588| 2/2 [00:00<00:00,  4.30it/s]"
          ]
        },
        {
          "output_type": "stream",
          "name": "stderr",
          "text": [
            "\n"
          ]
        },
        {
          "output_type": "stream",
          "name": "stderr",
          "text": [
            "\rTTA OOF fold 5:   0%|          | 0/2 [00:00<?, ?it/s]"
          ]
        },
        {
          "output_type": "stream",
          "name": "stderr",
          "text": [
            "\rTTA OOF fold 5:  50%|\u2588\u2588\u2588\u2588\u2588     | 1/2 [00:00<00:00,  2.77it/s]"
          ]
        },
        {
          "output_type": "stream",
          "name": "stderr",
          "text": [
            "\rTTA OOF fold 5: 100%|\u2588\u2588\u2588\u2588\u2588\u2588\u2588\u2588\u2588\u2588| 2/2 [00:00<00:00,  4.62it/s]"
          ]
        },
        {
          "output_type": "stream",
          "name": "stderr",
          "text": [
            "\n"
          ]
        },
        {
          "output_type": "stream",
          "name": "stdout",
          "text": [
            "=== ConvNeXt v2 TTA OOF ===\n"
          ]
        },
        {
          "output_type": "stream",
          "name": "stderr",
          "text": [
            "\rTTA OOF fold 1:   0%|          | 0/2 [00:00<?, ?it/s]"
          ]
        },
        {
          "output_type": "stream",
          "name": "stderr",
          "text": [
            "\rTTA OOF fold 1:  50%|\u2588\u2588\u2588\u2588\u2588     | 1/2 [00:00<00:00,  2.73it/s]"
          ]
        },
        {
          "output_type": "stream",
          "name": "stderr",
          "text": [
            "\rTTA OOF fold 1: 100%|\u2588\u2588\u2588\u2588\u2588\u2588\u2588\u2588\u2588\u2588| 2/2 [00:00<00:00,  4.51it/s]"
          ]
        },
        {
          "output_type": "stream",
          "name": "stderr",
          "text": [
            "\n"
          ]
        },
        {
          "output_type": "stream",
          "name": "stderr",
          "text": [
            "\rTTA OOF fold 2:   0%|          | 0/2 [00:00<?, ?it/s]"
          ]
        },
        {
          "output_type": "stream",
          "name": "stderr",
          "text": [
            "\rTTA OOF fold 2:  50%|\u2588\u2588\u2588\u2588\u2588     | 1/2 [00:00<00:00,  2.77it/s]"
          ]
        },
        {
          "output_type": "stream",
          "name": "stderr",
          "text": [
            "\rTTA OOF fold 3:  50%|\u2588\u2588\u2588\u2588\u2588     | 1/2 [00:00<00:00,  2.69it/s]"
          ]
        },
        {
          "output_type": "stream",
          "name": "stderr",
          "text": [
            "\rTTA OOF fold 3: 100%|\u2588\u2588\u2588\u2588\u2588\u2588\u2588\u2588\u2588\u2588| 2/2 [00:00<00:00,  4.46it/s]"
          ]
        },
        {
          "output_type": "stream",
          "name": "stderr",
          "text": [
            "\n"
          ]
        },
        {
          "output_type": "stream",
          "name": "stderr",
          "text": [
            "\rTTA OOF fold 4:   0%|          | 0/2 [00:00<?, ?it/s]"
          ]
        },
        {
          "output_type": "stream",
          "name": "stderr",
          "text": [
            "\rTTA OOF fold 4:  50%|\u2588\u2588\u2588\u2588\u2588     | 1/2 [00:00<00:00,  2.76it/s]"
          ]
        },
        {
          "output_type": "stream",
          "name": "stderr",
          "text": [
            "\rTTA OOF fold 4: 100%|\u2588\u2588\u2588\u2588\u2588\u2588\u2588\u2588\u2588\u2588| 2/2 [00:00<00:00,  4.61it/s]"
          ]
        },
        {
          "output_type": "stream",
          "name": "stderr",
          "text": [
            "\n"
          ]
        },
        {
          "output_type": "stream",
          "name": "stderr",
          "text": [
            "\rTTA OOF fold 5:   0%|          | 0/2 [00:00<?, ?it/s]"
          ]
        },
        {
          "output_type": "stream",
          "name": "stderr",
          "text": [
            "\rTTA OOF fold 5:  50%|\u2588\u2588\u2588\u2588\u2588     | 1/2 [00:00<00:00,  2.75it/s]"
          ]
        },
        {
          "output_type": "stream",
          "name": "stderr",
          "text": [
            "\rTTA OOF fold 5: 100%|\u2588\u2588\u2588\u2588\u2588\u2588\u2588\u2588\u2588\u2588| 2/2 [00:00<00:00,  4.60it/s]"
          ]
        },
        {
          "output_type": "stream",
          "name": "stderr",
          "text": [
            "\n"
          ]
        },
        {
          "output_type": "stream",
          "name": "stdout",
          "text": [
            "=== RegNet TTA OOF ===\n"
          ]
        },
        {
          "output_type": "stream",
          "name": "stderr",
          "text": [
            "\rTTA OOF fold 1:   0%|          | 0/2 [00:00<?, ?it/s]"
          ]
        },
        {
          "output_type": "stream",
          "name": "stderr",
          "text": [
            "\rTTA OOF fold 1:  50%|\u2588\u2588\u2588\u2588\u2588     | 1/2 [00:00<00:00,  3.03it/s]"
          ]
        },
        {
          "output_type": "stream",
          "name": "stderr",
          "text": [
            "\rTTA OOF fold 1: 100%|\u2588\u2588\u2588\u2588\u2588\u2588\u2588\u2588\u2588\u2588| 2/2 [00:00<00:00,  4.75it/s]"
          ]
        },
        {
          "output_type": "stream",
          "name": "stderr",
          "text": [
            "\n"
          ]
        },
        {
          "output_type": "stream",
          "name": "stderr",
          "text": [
            "\rTTA OOF fold 2:   0%|          | 0/2 [00:00<?, ?it/s]"
          ]
        },
        {
          "output_type": "stream",
          "name": "stderr",
          "text": [
            "\rTTA OOF fold 2:  50%|\u2588\u2588\u2588\u2588\u2588     | 1/2 [00:00<00:00,  3.32it/s]"
          ]
        },
        {
          "output_type": "stream",
          "name": "stderr",
          "text": [
            "\rTTA OOF fold 2: 100%|\u2588\u2588\u2588\u2588\u2588\u2588\u2588\u2588\u2588\u2588| 2/2 [00:00<00:00,  5.05it/s]"
          ]
        },
        {
          "output_type": "stream",
          "name": "stderr",
          "text": [
            "\n"
          ]
        },
        {
          "output_type": "stream",
          "name": "stderr",
          "text": [
            "\rTTA OOF fold 3:   0%|          | 0/2 [00:00<?, ?it/s]"
          ]
        },
        {
          "output_type": "stream",
          "name": "stderr",
          "text": [
            "\rTTA OOF fold 3:  50%|\u2588\u2588\u2588\u2588\u2588     | 1/2 [00:00<00:00,  3.42it/s]"
          ]
        },
        {
          "output_type": "stream",
          "name": "stderr",
          "text": [
            "\rTTA OOF fold 3: 100%|\u2588\u2588\u2588\u2588\u2588\u2588\u2588\u2588\u2588\u2588| 2/2 [00:00<00:00,  5.62it/s]"
          ]
        },
        {
          "output_type": "stream",
          "name": "stderr",
          "text": [
            "\n"
          ]
        },
        {
          "output_type": "stream",
          "name": "stderr",
          "text": [
            "\rTTA OOF fold 4:   0%|          | 0/2 [00:00<?, ?it/s]"
          ]
        },
        {
          "output_type": "stream",
          "name": "stderr",
          "text": [
            "\rTTA OOF fold 4:  50%|\u2588\u2588\u2588\u2588\u2588     | 1/2 [00:00<00:00,  3.34it/s]"
          ]
        },
        {
          "output_type": "stream",
          "name": "stderr",
          "text": [
            "\rTTA OOF fold 4: 100%|\u2588\u2588\u2588\u2588\u2588\u2588\u2588\u2588\u2588\u2588| 2/2 [00:00<00:00,  5.60it/s]"
          ]
        },
        {
          "output_type": "stream",
          "name": "stderr",
          "text": [
            "\n"
          ]
        },
        {
          "output_type": "stream",
          "name": "stderr",
          "text": [
            "\rTTA OOF fold 5:   0%|          | 0/2 [00:00<?, ?it/s]"
          ]
        },
        {
          "output_type": "stream",
          "name": "stderr",
          "text": [
            "\rTTA OOF fold 5:  50%|\u2588\u2588\u2588\u2588\u2588     | 1/2 [00:00<00:00,  3.37it/s]"
          ]
        },
        {
          "output_type": "stream",
          "name": "stderr",
          "text": [
            "\rTTA OOF fold 5: 100%|\u2588\u2588\u2588\u2588\u2588\u2588\u2588\u2588\u2588\u2588| 2/2 [00:00<00:00,  5.65it/s]"
          ]
        },
        {
          "output_type": "stream",
          "name": "stderr",
          "text": [
            "\n"
          ]
        }
      ]
    },
    {
      "id": "48e5ec2c-a86e-481f-aa4b-0c7d546f0fe6",
      "cell_type": "code",
      "metadata": {},
      "source": [
        "import numpy as np, pandas as pd\n",
        "from scipy.optimize import minimize\n",
        "from scipy.special import expit as sigmoid\n",
        "from sklearn.metrics import log_loss\n",
        "\n",
        "label_cols = ['C1','C2','C3','C4','C5','C6','C7']\n",
        "ids = pd.read_csv('data/train_mips.csv')[['StudyInstanceUID']]\n",
        "train = pd.read_csv('train.csv')\n",
        "y_df = ids.merge(train, on='StudyInstanceUID', how='left')\n",
        "y7 = y_df[label_cols].values.astype(float)\n",
        "y_overall = y7.max(axis=1, keepdims=True)\n",
        "y8 = np.hstack([y7, y_overall])\n",
        "\n",
        "v1 = np.load('oof_logits_convnext_tta.npy')\n",
        "v2 = np.load('oof_logits_convnext_v2_tta.npy')\n",
        "reg = np.load('oof_logits_regnet_tta.npy')\n",
        "stack = np.stack([v1, v2, reg], axis=2)  # [N,7,3]\n",
        "\n",
        "# Per-class weights with RegNet cap<=0.3\n",
        "bounds = [(0,1),(0,1),(0,0.3)]\n",
        "constraints = [{'type':'eq','fun': lambda w: np.sum(w)-1.0}]\n",
        "w_opt = np.zeros((7,3), dtype=float)\n",
        "\n",
        "def obj_w(w, logits3, y):\n",
        "    blend = np.sum(logits3 * w, axis=1)\n",
        "    return log_loss(y, sigmoid(blend), labels=[0,1])\n",
        "\n",
        "for c in range(7):\n",
        "    res = minimize(obj_w, x0=np.array([0.5,0.5,0.0]), args=(stack[:,c,:], y7[:,c]),\n",
        "                   method='SLSQP', bounds=bounds, constraints=constraints)\n",
        "    w = res.x\n",
        "    w_opt[c] = w\n",
        "np.save('weights_threeway_tta.npy', w_opt)\n",
        "\n",
        "# Blend logits and choose overall rule on UNCALIBRATED probs\n",
        "blend = np.sum(stack * w_opt[None,:,:], axis=2)      # [N,7]\n",
        "p7_uncal = sigmoid(blend)\n",
        "p_overall_max = p7_uncal.max(axis=1, keepdims=True)\n",
        "p_overall_union = 1 - np.prod(1 - p7_uncal, axis=1, keepdims=True)\n",
        "\n",
        "def wll(y_true8, p8):\n",
        "    p8 = np.clip(p8, 1e-6, 1-1e-6)\n",
        "    losses = [log_loss(y_true8[:,i], p8[:,i]) for i in range(8)]\n",
        "    return np.average(losses, weights=np.array([1]*7+[2], float))\n",
        "\n",
        "wll_max = wll(y8, np.hstack([p7_uncal, p_overall_max]))\n",
        "wll_union = wll(y8, np.hstack([p7_uncal, p_overall_union]))\n",
        "rule = 'union' if wll_union < wll_max else 'max'\n",
        "open('overall_rule_tta.txt','w').write(rule)\n",
        "print(f'TTA OOF WLL max={wll_max:.4f}, union={wll_union:.4f}, chosen={rule}')\n",
        "\n",
        "# Refit per-class temperatures on blended logits (7 only)\n",
        "def fit_temp(logits, y):\n",
        "    def loss(z):\n",
        "        t = np.exp(z)\n",
        "        p = sigmoid(logits / t)\n",
        "        p = np.clip(p, 1e-6, 1-1e-6)\n",
        "        return log_loss(y, p, labels=[0,1])\n",
        "    r = minimize(loss, x0=0.0, method='L-BFGS-B', bounds=[(-3,3)])\n",
        "    return float(np.exp(r.x[0]))\n",
        "temps = np.array([fit_temp(blend[:,k], y7[:,k]) for k in range(7)], dtype=np.float32)\n",
        "np.save('temperatures_weighted_tta.npy', temps)\n",
        "\n",
        "# Final TTA OOF check (7 calibrated + overall from UNCALIBRATED as per rule)\n",
        "p7_cal = sigmoid(blend / temps)\n",
        "p_overall = p_overall_union if rule=='union' else p_overall_max\n",
        "p8_final = np.hstack([p7_cal, p_overall])\n",
        "print(f'Final TTA OOF WLL: {wll(y8, p8_final):.4f}')\n",
        ""
      ],
      "execution_count": 29,
      "outputs": [
        {
          "output_type": "stream",
          "name": "stdout",
          "text": [
            "TTA OOF WLL max=0.4507, union=0.4468, chosen=union\nFinal TTA OOF WLL: 0.4423\n"
          ]
        }
      ]
    },
    {
      "id": "c1882c96-0edf-4e36-aabf-1e895e849b16",
      "cell_type": "code",
      "metadata": {},
      "source": [
        "# NEW CELL: Learned patient_overall from blended TTA OOF logits + alpha blend with base\n",
        "import numpy as np, pandas as pd, joblib\n",
        "from sklearn.linear_model import LogisticRegression\n",
        "from iterstrat.ml_stratifiers import MultilabelStratifiedKFold\n",
        "from scipy.special import expit as sigmoid\n",
        "from scipy.optimize import minimize_scalar\n",
        "from sklearn.metrics import log_loss\n",
        "\n",
        "label_cols = ['C1','C2','C3','C4','C5','C6','C7']\n",
        "\n",
        "# Labels aligned to OOF rows\n",
        "ids = pd.read_csv('data/train_mips.csv')[['StudyInstanceUID']]\n",
        "train = pd.read_csv('train.csv')\n",
        "y_df = ids.merge(train, on='StudyInstanceUID', how='left')\n",
        "y7 = y_df[label_cols].values.astype(float)\n",
        "y_overall = y7.max(axis=1).astype(int)\n",
        "y8 = np.hstack([y7, y_overall[:,None]])\n",
        "\n",
        "# Load TTA OOF logits and artifacts\n",
        "v1 = np.load('oof_logits_convnext_tta.npy')       # [N,7]\n",
        "v2 = np.load('oof_logits_convnext_v2_tta.npy')    # [N,7]\n",
        "reg= np.load('oof_logits_regnet_tta.npy')         # [N,7]\n",
        "W  = np.load('weights_threeway_tta.npy')          # [7,3]\n",
        "T7 = np.load('temperatures_weighted_tta.npy')     # [7]\n",
        "rule = open('overall_rule_tta.txt').read().strip()\n",
        "\n",
        "# Blended logits (features)\n",
        "stack = np.stack([v1, v2, reg], axis=2)           # [N,7,3]\n",
        "X = np.sum(stack * W[None,:,:], axis=2)           # [N,7] blended logits\n",
        "\n",
        "# Probs for later WLL computation (keep parity: overall base from UNCALIBRATED)\n",
        "p7_uncal = sigmoid(X)\n",
        "p7_cal   = sigmoid(X / T7)\n",
        "\n",
        "def wll_8(y8_true, p7_calib, poverall):\n",
        "    p8 = np.hstack([p7_calib, poverall.reshape(-1,1)])\n",
        "    p8 = np.clip(p8, 1e-6, 1-1e-6)\n",
        "    losses = [log_loss(y8_true[:,i], p8[:,i]) for i in range(8)]\n",
        "    return np.average(losses, weights=np.array([1]*7+[2], float))\n",
        "\n",
        "# 5-fold CV to get strictly OOF LR predictions\n",
        "skf = MultilabelStratifiedKFold(n_splits=5, shuffle=True, random_state=42)\n",
        "p_lr_oof = np.zeros(len(X), dtype=np.float32)\n",
        "for tr_idx, va_idx in skf.split(X, y7):\n",
        "    lr = LogisticRegression(penalty='l2', C=1.0, class_weight='balanced',\n",
        "                            solver='lbfgs', max_iter=1000, random_state=42)\n",
        "    lr.fit(X[tr_idx], y_overall[tr_idx])\n",
        "    p_lr_oof[va_idx] = lr.predict_proba(X[va_idx])[:,1].astype(np.float32)\n",
        "\n",
        "# Base overall from uncalibrated probs\n",
        "base_max   = p7_uncal.max(axis=1)\n",
        "base_union = 1.0 - np.prod(1.0 - p7_uncal, axis=1)\n",
        "base_used  = base_union if rule=='union' else base_max\n",
        "\n",
        "# Tune alpha on full OOF (minimize weighted 8-class log loss)\n",
        "def obj(alpha):\n",
        "    poverall = alpha * p_lr_oof + (1.0 - alpha) * base_used\n",
        "    return wll_8(y8, p7_cal, poverall)\n",
        "\n",
        "res = minimize_scalar(obj, bounds=(0,1), method='bounded')\n",
        "alpha = float(res.x)\n",
        "\n",
        "# Refit LR on all data for inference\n",
        "lr_full = LogisticRegression(penalty='l2', C=1.0, class_weight='balanced',\n",
        "                             solver='lbfgs', max_iter=1000, random_state=42)\n",
        "lr_full.fit(X, y_overall)\n",
        "\n",
        "# Save artifacts\n",
        "joblib.dump(lr_full, 'overall_regressor_tta.pkl')\n",
        "np.save('overall_lr_alpha_tta.npy', np.array([alpha], dtype=np.float32))\n",
        "with open('overall_lr_base_tta.txt','w') as f: f.write(rule)\n",
        "\n",
        "print(f'Overall LR stacker trained. base={rule}, alpha={alpha:.4f}, OOF WLL={obj(alpha):.4f}')\n",
        "print('Saved: overall_regressor_tta.pkl, overall_lr_alpha_tta.npy, overall_lr_base_tta.txt')"
      ],
      "execution_count": 31,
      "outputs": [
        {
          "output_type": "stream",
          "name": "stdout",
          "text": [
            "Overall LR stacker trained. base=union, alpha=1.0000, OOF WLL=0.4211\nSaved: overall_regressor_tta.pkl, overall_lr_alpha_tta.npy, overall_lr_base_tta.txt\n"
          ]
        }
      ]
    },
    {
      "id": "70ac7d43-8dd4-40fd-a120-cac161f8861b",
      "cell_type": "code",
      "metadata": {},
      "source": [
        "# 4-Way Ensemble: Add Swin-T OOF Logits to Three-Way TTA Blend (cap Swin <=0.4)\n",
        "import numpy as np, pandas as pd\n",
        "from scipy.optimize import minimize\n",
        "from scipy.special import expit as sigmoid\n",
        "from sklearn.metrics import log_loss\n",
        "from sklearn.linear_model import LogisticRegression\n",
        "import joblib\n",
        "from iterstrat.ml_stratifiers import MultilabelStratifiedKFold\n",
        "from scipy.optimize import minimize_scalar\n",
        "\n",
        "label_cols = ['C1','C2','C3','C4','C5','C6','C7']\n",
        "\n",
        "# Load aligned labels\n",
        "ids = pd.read_csv('data/train_mips.csv')[['StudyInstanceUID']]\n",
        "train = pd.read_csv('train.csv')\n",
        "y_df = ids.merge(train, on='StudyInstanceUID', how='left')\n",
        "y7 = y_df[label_cols].values.astype(float)\n",
        "y_overall = y7.max(axis=1).astype(int)\n",
        "y8 = np.hstack([y7, y_overall[:,None]])\n",
        "\n",
        "def wll(y_true8, p8):\n",
        "    p8 = np.clip(p8, 1e-6, 1-1e-6)\n",
        "    losses = [log_loss(y_true8[:,i], p8[:,i]) for i in range(8)]\n",
        "    return np.average(losses, weights=np.array([1]*7+[2], float))\n",
        "\n",
        "# Load TTA OOF logits [N,7] for three models + Swin\n",
        "v1 = np.load('oof_logits_convnext_tta.npy')\n",
        "v2 = np.load('oof_logits_convnext_v2_tta.npy')\n",
        "reg = np.load('oof_logits_regnet_tta.npy')\n",
        "swin = np.load('oof_logits_swin_tta.npy')\n",
        "stack4 = np.stack([v1, v2, reg, swin], axis=2)  # [N,7,4]\n",
        "\n",
        "# Optimize per-class weights (sum=1, >=0, Swin<=0.4) via SLSQP on BCE\n",
        "bounds = [(0,1),(0,1),(0,1),(0,0.4)]\n",
        "constraints = [{'type':'eq','fun': lambda w: np.sum(w)-1.0}]\n",
        "w_opt4 = np.zeros((7,4), dtype=float)\n",
        "\n",
        "def obj_w(w, logits4, y):\n",
        "    blend = np.sum(logits4 * w, axis=1)\n",
        "    return log_loss(y, sigmoid(blend), labels=[0,1])\n",
        "\n",
        "for c in range(7):\n",
        "    res = minimize(obj_w, x0=np.array([0.25]*4),\n",
        "                   args=(stack4[:,c,:], y7[:,c]),\n",
        "                   method='SLSQP', bounds=bounds, constraints=constraints,\n",
        "                   options={'disp':False, 'maxiter':200})\n",
        "    w_opt4[c] = res.x\n",
        "    print(f'{label_cols[c]} weights (v1,v2,reg,swin): {res.x.round(3)}')\n",
        "\n",
        "np.save('weights_fourway_tta.npy', w_opt4)\n",
        "\n",
        "# Blend logits [N,7]\n",
        "blend4 = np.sum(stack4 * w_opt4[None,:,:], axis=2)\n",
        "p7_uncal4 = sigmoid(blend4)\n",
        "\n",
        "# Overall rule on uncalibrated (union vs max)\n",
        "p_overall_max4 = p7_uncal4.max(axis=1, keepdims=True)\n",
        "p_overall_union4 = 1 - np.prod(1 - p7_uncal4, axis=1, keepdims=True)\n",
        "p8_max4 = np.hstack([p7_uncal4, p_overall_max4])\n",
        "p8_union4 = np.hstack([p7_uncal4, p_overall_union4])\n",
        "wll_max4 = wll(y8, p8_max4)\n",
        "wll_union4 = wll(y8, p8_union4)\n",
        "print(f'4-way uncal WLL max={wll_max4:.4f}, union={wll_union4:.4f}')\n",
        "rule4 = 'union' if wll_union4 < wll_max4 else 'max'\n",
        "with open('overall_rule_fourway_tta.txt','w') as f: f.write(rule4)\n",
        "p_overall_base4 = p_overall_union4 if rule4=='union' else p_overall_max4\n",
        "\n",
        "# Refit temperatures on 4-way blend (7 classes)\n",
        "def fit_temp(logits, y):\n",
        "    def loss(z):\n",
        "        t = np.exp(z)\n",
        "        return log_loss(y, sigmoid(logits/t), labels=[0,1])\n",
        "    from scipy.optimize import minimize\n",
        "    r = minimize(loss, x0=0.0, method='L-BFGS-B', bounds=[(-3,3)])\n",
        "    return float(np.exp(r.x[0]))\n",
        "temps4 = np.array([fit_temp(blend4[:,k], y7[:,k]) for k in range(7)], dtype=np.float32)\n",
        "np.save('temperatures_fourway_tta.npy', temps4)\n",
        "\n",
        "# Calibrated probs\n",
        "p7_cal4 = sigmoid(blend4 / temps4)\n",
        "p8_cal4 = np.hstack([p7_cal4, p_overall_base4])\n",
        "wll_cal4 = wll(y8, p8_cal4)\n",
        "print(f'4-way calibrated OOF WLL: {wll_cal4:.4f}')\n",
        "\n",
        "# Learned overall stacker: LR on 7 raw blended logits (not cal), tune alpha\n",
        "# Features for LR: 7 raw blended logits\n",
        "X_lr = blend4  # [N,7] raw blended logits\n",
        "\n",
        "# 5-fold CV for OOF LR preds\n",
        "skf_lr = MultilabelStratifiedKFold(n_splits=5, shuffle=True, random_state=42)\n",
        "p_lr_oof = np.zeros(len(X_lr), dtype=np.float32)\n",
        "for tr_idx, va_idx in skf_lr.split(X_lr, y7):\n",
        "    lr = LogisticRegression(penalty='l2', C=1.0, class_weight='balanced',\n",
        "                            solver='lbfgs', max_iter=1000, random_state=42)\n",
        "    lr.fit(X_lr[tr_idx], y_overall[tr_idx])\n",
        "    p_lr_oof[va_idx] = lr.predict_proba(X_lr[va_idx])[:,1].astype(np.float32)\n",
        "\n",
        "# Tune alpha: min WLL with alpha*LR + (1-alpha)*base\n",
        "def obj_alpha(alpha):\n",
        "    p_overall = alpha * p_lr_oof + (1-alpha) * p_overall_base4.squeeze()\n",
        "    p8_alpha = np.hstack([p7_cal4, p_overall.reshape(-1,1)])\n",
        "    return wll(y8, p8_alpha)\n",
        "res_alpha = minimize_scalar(obj_alpha, bounds=(0,1), method='bounded')\n",
        "alpha4 = float(res_alpha.x)\n",
        "print(f'4-way LR alpha: {alpha4:.4f}, WLL: {res_alpha.fun:.4f}')\n",
        "\n",
        "# Refit LR on full data\n",
        "lr_full4 = LogisticRegression(penalty='l2', C=1.0, class_weight='balanced',\n",
        "                              solver='lbfgs', max_iter=1000, random_state=42)\n",
        "lr_full4.fit(X_lr, y_overall)\n",
        "\n",
        "# Save 4-way artifacts\n",
        "joblib.dump(lr_full4, 'overall_regressor_fourway_tta.pkl')\n",
        "np.save('overall_lr_alpha_fourway_tta.npy', np.array([alpha4]))\n",
        "with open('overall_lr_base_fourway_tta.txt','w') as f: f.write(rule4)\n",
        "np.save('oof_logits_fourway_blend.npy', blend4)  # for later use\n",
        "\n",
        "# Final 4-way OOF WLL\n",
        "p_overall_final4 = alpha4 * lr_full4.predict_proba(X_lr)[:,1] + (1-alpha4) * p_overall_base4.squeeze()\n",
        "p8_final4 = np.hstack([p7_cal4, p_overall_final4.reshape(-1,1)])\n",
        "final_wll4 = wll(y8, p8_final4)\n",
        "print(f'Final 4-way OOF WLL: {final_wll4:.4f}')\n",
        "\n",
        "# Save 4-way OOF probs for reference\n",
        "oof_df4 = y_df[['StudyInstanceUID']].copy()\n",
        "oof_df4[label_cols] = p7_cal4\n",
        "oof_df4['patient_overall'] = p8_final4[:,-1]\n",
        "oof_df4.to_csv('oof_predictions_fourway.csv', index=False)\n",
        "print('4-way ensemble completed. Target <0.40 WLL achieved? Update inference next.')"
      ],
      "execution_count": 34,
      "outputs": [
        {
          "output_type": "stream",
          "name": "stdout",
          "text": [
            "C1 weights (v1,v2,reg,swin): [0.    0.    0.859 0.141]\nC2 weights (v1,v2,reg,swin): [0.   0.   0.85 0.15]\nC3 weights (v1,v2,reg,swin): [0.    0.142 0.858 0.   ]\nC4 weights (v1,v2,reg,swin): [0.    0.    0.889 0.111]\nC5 weights (v1,v2,reg,swin): [0.015 0.    0.985 0.   ]\n"
          ]
        },
        {
          "output_type": "stream",
          "name": "stdout",
          "text": [
            "C6 weights (v1,v2,reg,swin): [0.086 0.028 0.79  0.096]\nC7 weights (v1,v2,reg,swin): [0.  0.  0.6 0.4]\n4-way uncal WLL max=0.4599, union=0.4210\n4-way calibrated OOF WLL: 0.4209\n"
          ]
        },
        {
          "output_type": "stream",
          "name": "stdout",
          "text": [
            "4-way LR alpha: 1.0000, WLL: 0.4154\nFinal 4-way OOF WLL: 0.4144\n4-way ensemble completed. Target <0.40 WLL achieved? Update inference next.\n"
          ]
        }
      ]
    },
    {
      "id": "2c34e851-7c46-460c-9524-0cbe95abcfc6",
      "cell_type": "code",
      "metadata": {},
      "source": [
        "import numpy as np, pandas as pd, os, random\n",
        "\n",
        "def mip_stats(uids, root):\n",
        "    rows=[]\n",
        "    for uid in uids:\n",
        "        p = os.path.join(root, f'{uid}.npy')\n",
        "        if not os.path.exists(p): continue\n",
        "        x = np.load(p).astype(np.float32)  # [3,H,W], expected in [0,1]\n",
        "        for c,name in enumerate(['sag','cor','ax']):\n",
        "            ch = x[c]\n",
        "            rows.append(dict(uid=uid, ch=name, min=float(ch.min()), max=float(ch.max()),\n",
        "                             mean=float(ch.mean()), std=float(ch.std())))\n",
        "    return pd.DataFrame(rows)\n",
        "\n",
        "train_df = pd.read_csv('data/train_mips.csv')\n",
        "test_df  = pd.read_csv('data/test_mips.csv')\n",
        "tr_ids = random.sample(train_df['StudyInstanceUID'].tolist(), k=min(5, len(train_df)))\n",
        "te_ids = random.sample(test_df['StudyInstanceUID'].tolist(),  k=min(5, len(test_df)))\n",
        "\n",
        "st_tr = mip_stats(tr_ids, 'data/mips/train')\n",
        "st_te = mip_stats(te_ids, 'data/mips/test')\n",
        "print('Train stats:'); print(st_tr)\n",
        "print('Test stats:');  print(st_te)\n",
        "print('Train channel means:'); print(st_tr.groupby('ch')[['min','max','mean','std']].mean().round(4))\n",
        "print('Test channel means:');  print(st_te.groupby('ch')[['min','max','mean','std']].mean().round(4))\n",
        "print('Check ranges within [0,1] and similar train/test means/stds per channel.')\n",
        ""
      ],
      "execution_count": 30,
      "outputs": [
        {
          "output_type": "stream",
          "name": "stdout",
          "text": [
            "Train stats:\n                          uid   ch  min  max      mean       std\n0   1.2.826.0.1.3680043.18906  sag  0.0  1.0  0.501914  0.290227\n1   1.2.826.0.1.3680043.18906  cor  0.3  1.0  0.604927  0.269572\n2   1.2.826.0.1.3680043.18906   ax  0.0  1.0  0.488586  0.252714\n3   1.2.826.0.1.3680043.30020  sag  0.0  1.0  0.599643  0.296430\n4   1.2.826.0.1.3680043.30020  cor  0.3  1.0  0.639518  0.265669\n5   1.2.826.0.1.3680043.30020   ax  0.0  1.0  0.538895  0.361779\n6    1.2.826.0.1.3680043.5812  sag  0.0  1.0  0.558129  0.287552\n7    1.2.826.0.1.3680043.5812  cor  0.3  1.0  0.595411  0.250127\n8    1.2.826.0.1.3680043.5812   ax  0.0  1.0  0.467655  0.317560\n9   1.2.826.0.1.3680043.30475  sag  0.3  1.0  0.570425  0.282860\n10  1.2.826.0.1.3680043.30475  cor  0.3  1.0  0.632678  0.258619\n11  1.2.826.0.1.3680043.30475   ax  0.3  1.0  0.508638  0.231480\n12   1.2.826.0.1.3680043.4842  sag  0.0  1.0  0.598569  0.323805\n13   1.2.826.0.1.3680043.4842  cor  0.3  1.0  0.637620  0.285206\n14   1.2.826.0.1.3680043.4842   ax  0.0  1.0  0.593021  0.382068\nTest stats:\n                          uid   ch  min  max      mean       std\n0     1.2.826.0.1.3680043.142  sag  0.0  1.0  0.651505  0.302724\n1     1.2.826.0.1.3680043.142  cor  0.3  1.0  0.640647  0.277400\n2     1.2.826.0.1.3680043.142   ax  0.0  1.0  0.501065  0.347829\n3    1.2.826.0.1.3680043.7901  sag  0.0  1.0  0.513857  0.266189\n4    1.2.826.0.1.3680043.7901  cor  0.3  1.0  0.587039  0.261892\n5    1.2.826.0.1.3680043.7901   ax  0.0  1.0  0.423429  0.282912\n6   1.2.826.0.1.3680043.26740  sag  0.0  1.0  0.585223  0.295434\n7   1.2.826.0.1.3680043.26740  cor  0.3  1.0  0.612317  0.268151\n8   1.2.826.0.1.3680043.26740   ax  0.0  1.0  0.442336  0.302346\n9    1.2.826.0.1.3680043.9283  sag  0.0  1.0  0.585294  0.297441\n10   1.2.826.0.1.3680043.9283  cor  0.3  1.0  0.660674  0.274094\n11   1.2.826.0.1.3680043.9283   ax  0.0  1.0  0.617185  0.299958\n12  1.2.826.0.1.3680043.31642  sag  0.0  1.0  0.590592  0.336939\n13  1.2.826.0.1.3680043.31642  cor  0.3  1.0  0.583524  0.279346\n14  1.2.826.0.1.3680043.31642   ax  0.0  1.0  0.466070  0.346837\nTrain channel means:\n      min  max    mean     std\nch                            \nax   0.06  1.0  0.5194  0.3091\ncor  0.30  1.0  0.6220  0.2658\nsag  0.06  1.0  0.5657  0.2962\nTest channel means:\n     min  max    mean     std\nch                           \nax   0.0  1.0  0.4900  0.3160\ncor  0.3  1.0  0.6168  0.2722\nsag  0.0  1.0  0.5853  0.2997\nCheck ranges within [0,1] and similar train/test means/stds per channel.\n"
          ]
        }
      ]
    },
    {
      "id": "11cf626d-264a-4c5f-a6d0-7e87cfb1c719",
      "cell_type": "code",
      "metadata": {},
      "source": [
        "# Fit per-class temperature scaling for three-way ensemble (ConvNeXt v1 + v2 + RegNetY) using averaged OOF logits\n",
        "import numpy as np\n",
        "import pandas as pd\n",
        "from scipy.optimize import minimize_scalar\n",
        "from scipy.special import expit as sigmoid\n",
        "\n",
        "# Load data\n",
        "oof_logits_df_v1 = pd.read_csv('oof_logits_convnext.csv')\n",
        "oof_logits_df_v2 = pd.read_csv('oof_logits_convnext_v2.csv')\n",
        "oof_logits_df_reg = pd.read_csv('oof_logits_regnet.csv')\n",
        "train_df = pd.read_csv('data/train_mips.csv')\n",
        "label_cols = ['C1','C2','C3','C4','C5','C6','C7']\n",
        "oof_logits_v1 = oof_logits_df_v1[label_cols].values  # (202, 7)\n",
        "oof_logits_v2 = oof_logits_df_v2[label_cols].values  # (202, 7)\n",
        "oof_logits_reg = oof_logits_df_reg[label_cols].values  # (202, 7)\n",
        "threeway_oof_logits = (oof_logits_v1 + oof_logits_v2 + oof_logits_reg) / 3.0\n",
        "y_true = train_df[label_cols].values  # (202, 7)\n",
        "\n",
        "def binary_log_loss(y_true, y_pred):\n",
        "    y_pred = np.clip(y_pred, 1e-6, 1-1e-6)\n",
        "    return -np.mean(y_true * np.log(y_pred) + (1 - y_true) * np.log(1 - y_pred))\n",
        "\n",
        "# Optimize T per class on three-way ensemble logits\n",
        "temperatures_threeway = np.ones(7)\n",
        "for i, col in enumerate(label_cols):\n",
        "    def loss_func(T):\n",
        "        logits_scaled = threeway_oof_logits[:, i] / T\n",
        "        probs = sigmoid(logits_scaled)\n",
        "        return binary_log_loss(y_true[:, i], probs)\n",
        "    res = minimize_scalar(loss_func, bounds=(0.5, 2.0), method='bounded')\n",
        "    temperatures_threeway[i] = res.x\n",
        "    print(f'{col} threeway temperature: {temperatures_threeway[i]:.4f}, min loss: {res.fun:.4f}')\n",
        "\n",
        "# Save three-way temperatures\n",
        "np.save('temperatures_threeway.npy', temperatures_threeway)\n",
        "print('Three-way ensemble temperatures saved to temperatures_threeway.npy')\n",
        "\n",
        "# Quick check: Compute calibrated three-way OOF BCE (7 classes, weights=1)\n",
        "logits_calib_three = threeway_oof_logits / temperatures_threeway\n",
        "probs_calib_three = sigmoid(logits_calib_three)\n",
        "wll_calib_three = np.mean([binary_log_loss(y_true[:, i], probs_calib_three[:, i]) for i in range(7)])\n",
        "wll_raw_three = np.mean([binary_log_loss(y_true[:, i], sigmoid(threeway_oof_logits[:, i])) for i in range(7)])\n",
        "print(f'Three-way Raw OOF BCE (avg): {wll_raw_three:.4f}, Calibrated: {wll_calib_three:.4f} (delta: {wll_calib_three - wll_raw_three:.4f})')"
      ],
      "execution_count": 20,
      "outputs": [
        {
          "output_type": "stream",
          "name": "stdout",
          "text": [
            "C1 threeway temperature: 0.8611, min loss: 0.3242\nC2 threeway temperature: 0.7581, min loss: 0.4152\nC3 threeway temperature: 0.9181, min loss: 0.1832\nC4 threeway temperature: 0.8476, min loss: 0.2136\nC5 threeway temperature: 0.8093, min loss: 0.3460\nC6 threeway temperature: 0.8063, min loss: 0.4542\nC7 threeway temperature: 0.7463, min loss: 0.4466\nThree-way ensemble temperatures saved to temperatures_threeway.npy\nThree-way Raw OOF BCE (avg): 0.3479, Calibrated: 0.3404 (delta: -0.0075)\n"
          ]
        }
      ]
    },
    {
      "id": "2fd18baf-5c99-4b85-8828-04d931e50065",
      "cell_type": "code",
      "metadata": {},
      "source": [
        "# Learn per-class ensemble weights, choose overall rule, refit temperatures for three-way ensemble\n",
        "import numpy as np\n",
        "import pandas as pd\n",
        "from scipy.optimize import minimize\n",
        "from scipy.special import expit as sigmoid\n",
        "from sklearn.metrics import log_loss\n",
        "\n",
        "# Load OOF logits and true labels\n",
        "oof_logits_df_v1 = pd.read_csv('oof_logits_convnext.csv')\n",
        "oof_logits_df_v2 = pd.read_csv('oof_logits_convnext_v2.csv')\n",
        "oof_logits_df_reg = pd.read_csv('oof_logits_regnet.csv')\n",
        "train_df = pd.read_csv('data/train_mips.csv')\n",
        "label_cols = ['C1','C2','C3','C4','C5','C6','C7']\n",
        "oof_logits_v1 = oof_logits_df_v1[label_cols].values\n",
        "oof_logits_v2 = oof_logits_df_v2[label_cols].values\n",
        "oof_logits_reg = oof_logits_df_reg[label_cols].values\n",
        "y_true_7 = train_df[label_cols].values\n",
        "y_true_overall = np.max(y_true_7, axis=1, keepdims=True)\n",
        "y_true_8 = np.hstack([y_true_7, y_true_overall])\n",
        "\n",
        "# Stack OOF logits [N,7,3]\n",
        "oof_logits_stack = np.stack([oof_logits_v1, oof_logits_v2, oof_logits_reg], axis=2)\n",
        "\n",
        "def compute_wll_8(probs_8):\n",
        "    # Weighted log loss: weights [1]*7 + [2] for overall\n",
        "    weights = np.array([1.0]*7 + [2.0])\n",
        "    losses = [log_loss(y_true_8[:, i], probs_8[:, i]) for i in range(8)]\n",
        "    return np.average(losses, weights=weights)\n",
        "\n",
        "def binary_log_loss(y_true, y_pred):\n",
        "    y_pred = np.clip(y_pred, 1e-6, 1-1e-6)\n",
        "    return -np.mean(y_true * np.log(y_pred) + (1 - y_true) * np.log(1 - y_pred))\n",
        "\n",
        "# 1. Learn per-class weights (w1,w2,w3 >=0, sum=1) via SLSQP to minimize BCE for that class\n",
        "from scipy.optimize import minimize\n",
        "weights_per_class = np.zeros((7, 3))\n",
        "for i in range(7):\n",
        "    def objective(w):\n",
        "        w = np.clip(w, 0, None)\n",
        "        w = w / w.sum() if w.sum() > 0 else np.array([1/3]*3)\n",
        "        blended_logits = np.sum(oof_logits_stack[:, i, :] * w[None, :], axis=1)\n",
        "        probs = sigmoid(blended_logits)\n",
        "        return binary_log_loss(y_true_7[:, i], probs)\n",
        "    # Initial guess equal weights\n",
        "    res = minimize(objective, x0=np.array([1/3]*3), method='SLSQP', bounds=[(0,None)]*3,\n",
        "                   constraints={'type': 'eq', 'fun': lambda w:  w.sum() - 1})\n",
        "    weights_per_class[i] = res.x / res.x.sum() if res.x.sum() > 0 else np.array([1/3]*3)\n",
        "    print(f'{label_cols[i]} weights (v1,v2,reg): {weights_per_class[i]}')\n",
        "\n",
        "# Save per-class weights\n",
        "np.save('weights_threeway.npy', weights_per_class)\n",
        "print('Per-class weights saved to weights_threeway.npy')\n",
        "\n",
        "# 2. Blend OOF logits with learned weights [N,7]\n",
        "blended_logits = np.sum(oof_logits_stack * weights_per_class[None, :, :], axis=2)\n",
        "probs_7_blended = sigmoid(blended_logits)\n",
        "\n",
        "# 3. Choose overall rule: max vs union by WLL on blended probs\n",
        "probs_overall_max = np.max(probs_7_blended, axis=1, keepdims=True)\n",
        "probs_overall_union = 1 - np.prod(1 - probs_7_blended, axis=1, keepdims=True)\n",
        "probs_8_max = np.hstack([probs_7_blended, probs_overall_max])\n",
        "probs_8_union = np.hstack([probs_7_blended, probs_overall_union])\n",
        "wll_max = compute_wll_8(probs_8_max)\n",
        "wll_union = compute_wll_8(probs_8_union)\n",
        "print(f'Blended OOF WLL max: {wll_max:.4f}, union: {wll_union:.4f}')\n",
        "if wll_union < wll_max:\n",
        "    overall_rule = 'union'\n",
        "    probs_8_chosen = probs_8_union\n",
        "else:\n",
        "    overall_rule = 'max'\n",
        "    probs_8_chosen = probs_8_max\n",
        "print(f'Chosen overall rule: {overall_rule}')\n",
        "with open('overall_rule.txt', 'w') as f:\n",
        "    f.write(overall_rule)\n",
        "\n",
        "# 4. Refit per-class temperatures on blended logits (7 classes only)\n",
        "temperatures_weighted = np.ones(7)\n",
        "for i, col in enumerate(label_cols):\n",
        "    def loss_func(T):\n",
        "        logits_scaled = blended_logits[:, i] / T\n",
        "        probs = sigmoid(logits_scaled)\n",
        "        return binary_log_loss(y_true_7[:, i], probs)\n",
        "    from scipy.optimize import minimize_scalar\n",
        "    res = minimize_scalar(loss_func, bounds=(0.5, 2.0), method='bounded')\n",
        "    temperatures_weighted[i] = res.x\n",
        "    print(f'{col} weighted temperature: {temperatures_weighted[i]:.4f}, min loss: {res.fun:.4f}')\n",
        "\n",
        "# Save weighted temperatures\n",
        "np.save('temperatures_weighted.npy', temperatures_weighted)\n",
        "print('Weighted temperatures saved to temperatures_weighted.npy')\n",
        "\n",
        "# Quick check: Calibrated blended OOF BCE (7 classes)\n",
        "logits_calib_weighted = blended_logits / temperatures_weighted\n",
        "probs_calib_weighted = sigmoid(logits_calib_weighted)\n",
        "wll_calib_weighted = np.mean([binary_log_loss(y_true_7[:, i], probs_calib_weighted[:, i]) for i in range(7)])\n",
        "wll_raw_weighted = np.mean([binary_log_loss(y_true_7[:, i], sigmoid(blended_logits[:, i])) for i in range(7)])\n",
        "print(f'Weighted Raw OOF BCE (avg): {wll_raw_weighted:.4f}, Calibrated: {wll_calib_weighted:.4f} (delta: {wll_calib_weighted - wll_raw_weighted:.4f})')\n",
        "\n",
        "# Final blended WLL with chosen rule and calibration (for 8 classes, but calibrate only 7)\n",
        "probs_overall_final = probs_overall_max if overall_rule == 'max' else probs_overall_union\n",
        "probs_8_final = np.hstack([probs_calib_weighted, probs_overall_final])\n",
        "final_wll = compute_wll_8(probs_8_final)\n",
        "print(f'Final blended calibrated WLL (8 classes): {final_wll:.4f}')"
      ],
      "execution_count": 24,
      "outputs": [
        {
          "output_type": "stream",
          "name": "stdout",
          "text": [
            "C1 weights (v1,v2,reg): [0.02372475 0.02156091 0.95471434]\nC2 weights (v1,v2,reg): [2.60208521e-18 0.00000000e+00 1.00000000e+00]\nC3 weights (v1,v2,reg): [3.98986399e-17 1.39092491e-01 8.60907509e-01]\nC4 weights (v1,v2,reg): [0. 0. 1.]\nC5 weights (v1,v2,reg): [1.44583883e-02 7.58941521e-18 9.85541612e-01]\nC6 weights (v1,v2,reg): [0.07699479 0.09759244 0.82541277]\nC7 weights (v1,v2,reg): [1.99021326e-02 3.46944695e-18 9.80097867e-01]\nPer-class weights saved to weights_threeway.npy\nBlended OOF WLL max: 0.4682, union: 0.4222\nChosen overall rule: union\nC1 weighted temperature: 1.0008, min loss: 0.3229\nC2 weighted temperature: 0.9821, min loss: 0.4113\nC3 weighted temperature: 0.9902, min loss: 0.1823\nC4 weighted temperature: 0.9842, min loss: 0.2116\nC5 weighted temperature: 0.9948, min loss: 0.3446\nC6 weighted temperature: 0.9928, min loss: 0.4532\nC7 weighted temperature: 0.9924, min loss: 0.4454\nWeighted temperatures saved to temperatures_weighted.npy\nWeighted Raw OOF BCE (avg): 0.3388, Calibrated: 0.3388 (delta: -0.0000)\nFinal blended calibrated WLL (8 classes): 0.4222\n"
          ]
        }
      ]
    },
    {
      "id": "91f92b4a-edf0-4d66-8f10-5c0b95c91ff5",
      "cell_type": "code",
      "metadata": {},
      "source": [
        "import numpy as np, pandas as pd\n",
        "from scipy.special import expit as sigmoid\n",
        "\n",
        "label_cols = ['C1','C2','C3','C4','C5','C6','C7']\n",
        "\n",
        "# Load labels aligned to OOF rows\n",
        "ids = pd.read_csv('data/train_mips.csv')[['StudyInstanceUID']]\n",
        "train = pd.read_csv('train.csv')\n",
        "y_df = ids.merge(train, on='StudyInstanceUID', how='left')\n",
        "y_true_7 = y_df[label_cols].values.astype(float)\n",
        "y_true_overall = y_true_7.max(axis=1, keepdims=True)\n",
        "y_true_8 = np.hstack([y_true_7, y_true_overall])\n",
        "\n",
        "# Load OOF logits in order [v1, v2, reg]\n",
        "v1 = pd.read_csv('oof_logits_convnext.csv')[label_cols].values\n",
        "v2 = pd.read_csv('oof_logits_convnext_v2.csv')[label_cols].values\n",
        "reg= pd.read_csv('oof_logits_regnet.csv')[label_cols].values\n",
        "stack = np.stack([v1, v2, reg], axis=2)  # [N,7,3]\n",
        "\n",
        "# Load blending artifacts\n",
        "W = np.load('weights_threeway.npy')          # [7,3]\n",
        "T = np.load('temperatures_weighted.npy')     # [7]\n",
        "overall_rule = open('overall_rule.txt').read().strip()\n",
        "\n",
        "# Blend and compute probabilities\n",
        "blended_logits = np.sum(stack * W[None,:,:], axis=2)     # [N,7]\n",
        "probs7_uncal = sigmoid(blended_logits)\n",
        "probs7_cal = sigmoid(blended_logits / T)\n",
        "\n",
        "# Overall rule \u2014 NOTE: matches your OOF (overall from UNCALIBRATED probs)\n",
        "if overall_rule == 'union':\n",
        "    overall = 1 - np.prod(1 - probs7_uncal, axis=1, keepdims=True)\n",
        "else:\n",
        "    overall = probs7_uncal.max(axis=1, keepdims=True)\n",
        "\n",
        "probs8 = np.hstack([probs7_cal, overall])  # 7 calibrated + overall from uncalibrated\n",
        "\n",
        "def weighted_log_loss(y_true, y_pred):\n",
        "    y_pred = np.clip(y_pred, 1e-6, 1-1e-6)\n",
        "    losses = -y_true*np.log(y_pred) - (1-y_true)*np.log(1-y_pred)\n",
        "    w = np.array([1]*7 + [2], dtype=float)\n",
        "    return float(np.sum(losses.mean(0)*w) / w.sum())\n",
        "\n",
        "wll = weighted_log_loss(y_true_8, probs8)\n",
        "print(f'OOF WLL: {wll:.4f} (expect ~0.4222)')"
      ],
      "execution_count": 25,
      "outputs": [
        {
          "output_type": "stream",
          "name": "stdout",
          "text": [
            "OOF WLL: 0.4222 (expect ~0.4222)\n"
          ]
        }
      ]
    },
    {
      "id": "1e136526-644e-49d4-9db8-72d8a9feba38",
      "cell_type": "code",
      "metadata": {},
      "source": [
        "import numpy as np, pandas as pd\n",
        "from scipy.special import expit as sigmoid\n",
        "from scipy.optimize import minimize\n",
        "from sklearn.metrics import log_loss\n",
        "\n",
        "label_cols = ['C1','C2','C3','C4','C5','C6','C7']\n",
        "\n",
        "# Load OOF logits (order: ConvNeXt v1, ConvNeXt v2, RegNet)\n",
        "v1 = pd.read_csv('oof_logits_convnext.csv')[label_cols].values\n",
        "v2 = pd.read_csv('oof_logits_convnext_v2.csv')[label_cols].values\n",
        "reg = pd.read_csv('oof_logits_regnet.csv')[label_cols].values\n",
        "stack = np.stack([v1, v2, reg], axis=2)  # [N,7,3]\n",
        "\n",
        "# Load aligned labels\n",
        "ids = pd.read_csv('data/train_mips.csv')[['StudyInstanceUID']]\n",
        "train = pd.read_csv('train.csv')\n",
        "y_df = ids.merge(train, on='StudyInstanceUID', how='left')\n",
        "y7 = y_df[label_cols].values.astype(float)\n",
        "y_overall = y7.max(axis=1, keepdims=True)\n",
        "y8 = np.hstack([y7, y_overall])\n",
        "\n",
        "def wll(y_true8, p8):\n",
        "    p8 = np.clip(p8, 1e-6, 1-1e-6)\n",
        "    losses = -y_true8*np.log(p8) - (1-y_true8)*np.log(1-p8)\n",
        "    w = np.array([1]*7 + [2], float)\n",
        "    return float(np.sum(losses.mean(0) * w) / w.sum())\n",
        "\n",
        "# Optimize per-class weights with RegNet cap\n",
        "bounds = [(0,1), (0,1), (0,0.3)]\n",
        "constraints = [{'type':'eq','fun': lambda w: np.sum(w)-1.0}]\n",
        "w_opt = np.zeros((7,3), dtype=float)\n",
        "\n",
        "def obj(w, logits3, y):\n",
        "    blend = np.sum(logits3 * w, axis=1)\n",
        "    return log_loss(y, sigmoid(blend), labels=[0,1])\n",
        "\n",
        "for c in range(7):\n",
        "    res = minimize(obj, x0=np.array([1/3,1/3,1/3]),\n",
        "                   args=(stack[:,c,:], y7[:,c]),\n",
        "                   method='SLSQP', bounds=bounds, constraints=constraints)\n",
        "    w_opt[c] = res.x\n",
        "\n",
        "np.save('weights_threeway_capped.npy', w_opt)\n",
        "\n",
        "# Refit per-class temperatures on capped blend\n",
        "blend = np.sum(stack * w_opt[None,:,:], axis=2)  # [N,7]\n",
        "def fit_temp(logits, y):\n",
        "    # log-param for stability; T in ~[0.05,20]\n",
        "    def loss(z):\n",
        "        t = np.exp(z)\n",
        "        p = sigmoid(logits / t)\n",
        "        p = np.clip(p, 1e-6, 1-1e-6)\n",
        "        return float(log_loss(y, p, labels=[0,1]))\n",
        "    r = minimize(loss, x0=0.0, method='L-BFGS-B', bounds=[(-3,3)])\n",
        "    return float(np.exp(r.x[0]))\n",
        "temps = np.array([fit_temp(blend[:,k], y7[:,k]) for k in range(7)], dtype=np.float32)\n",
        "np.save('temperatures_weighted_capped.npy', temps)\n",
        "\n",
        "# Evaluate OOF with overall from UNCALIBRATED probs (to match inference)\n",
        "probs7_uncal = sigmoid(blend)\n",
        "probs7_cal = sigmoid(blend / temps)\n",
        "with open('overall_rule.txt','r') as f:\n",
        "    rule = f.read().strip()\n",
        "if rule == 'union':\n",
        "    overall = 1 - np.prod(1 - probs7_uncal, axis=1, keepdims=True)\n",
        "else:\n",
        "    overall = probs7_uncal.max(axis=1, keepdims=True)\n",
        "p8 = np.hstack([probs7_cal, overall])\n",
        "print(f'OOF WLL (capped): {wll(y8, p8):.4f}')\n",
        ""
      ],
      "execution_count": 26,
      "outputs": [
        {
          "output_type": "stream",
          "name": "stdout",
          "text": [
            "OOF WLL (capped): 0.4422\n"
          ]
        }
      ]
    },
    {
      "id": "2a4fd132-fdd2-45ad-b61d-2f88e696c717",
      "cell_type": "code",
      "metadata": {},
      "source": [
        "import numpy as np, pandas as pd\n",
        "from scipy.optimize import minimize\n",
        "from scipy.special import expit as sigmoid\n",
        "from sklearn.metrics import log_loss\n",
        "\n",
        "label_cols = ['C1','C2','C3','C4','C5','C6','C7']\n",
        "v1 = pd.read_csv('oof_logits_convnext.csv')[label_cols].values\n",
        "v2 = pd.read_csv('oof_logits_convnext_v2.csv')[label_cols].values\n",
        "tw = 0.5*(v1+v2)\n",
        "\n",
        "ids = pd.read_csv('data/train_mips.csv')[['StudyInstanceUID']]\n",
        "train = pd.read_csv('train.csv')\n",
        "y_df = ids.merge(train, on='StudyInstanceUID', how='left')\n",
        "y7 = y_df[label_cols].values.astype(float)\n",
        "y_overall = y7.max(axis=1, keepdims=True)\n",
        "y8 = np.hstack([y7, y_overall])\n",
        "\n",
        "def fit_temp(logits, y):\n",
        "    def loss(z):\n",
        "        t = np.exp(z)\n",
        "        return log_loss(y, sigmoid(logits/t), labels=[0,1])\n",
        "    r = minimize(loss, x0=0.0, method='L-BFGS-B', bounds=[(-3,3)])\n",
        "    return float(np.exp(r.x[0]))\n",
        "temps_tw = np.array([fit_temp(tw[:,k], y7[:,k]) for k in range(7)], dtype=np.float32)\n",
        "np.save('temperatures_twoway.npy', temps_tw)\n",
        "\n",
        "# Evaluate with overall from UNCALIBRATED to match inference\n",
        "probs7_uncal = sigmoid(tw)\n",
        "probs7_cal = sigmoid(tw / temps_tw)\n",
        "with open('overall_rule.txt','r') as f:\n",
        "    rule = f.read().strip()\n",
        "if rule == 'union':\n",
        "    overall = 1 - np.prod(1 - probs7_uncal, axis=1, keepdims=True)\n",
        "else:\n",
        "    overall = probs7_uncal.max(axis=1, keepdims=True)\n",
        "p8 = np.hstack([probs7_cal, overall])\n",
        "\n",
        "def wll(y_true8, p8):\n",
        "    p8 = np.clip(p8, 1e-6, 1-1e-6)\n",
        "    losses = -y_true8*np.log(p8) - (1-y_true8)*np.log(1-p8)\n",
        "    w = np.array([1]*7 + [2], float)\n",
        "    return float(np.sum(losses.mean(0) * w) / w.sum())\n",
        "\n",
        "print(f'2-way OOF WLL: {wll(y8, p8):.4f}')"
      ],
      "execution_count": 27,
      "outputs": [
        {
          "output_type": "stream",
          "name": "stdout",
          "text": [
            "2-way OOF WLL: 0.4665\n"
          ]
        }
      ]
    },
    {
      "id": "ea95548a-96ce-464e-b65e-c95287752a71",
      "cell_type": "code",
      "metadata": {},
      "source": [
        "# 4-way Ensemble: Add Patch OOF Logits to Three-Way TTA Blend\n",
        "import numpy as np, pandas as pd\n",
        "from scipy.optimize import minimize\n",
        "from scipy.special import expit as sigmoid\n",
        "from sklearn.metrics import log_loss\n",
        "from sklearn.linear_model import LogisticRegression\n",
        "import joblib\n",
        "\n",
        "label_cols = ['C1','C2','C3','C4','C5','C6','C7']\n",
        "\n",
        "# Load aligned labels\n",
        "ids = pd.read_csv('data/train_mips.csv')[['StudyInstanceUID']]\n",
        "train = pd.read_csv('train.csv')\n",
        "y_df = ids.merge(train, on='StudyInstanceUID', how='left')\n",
        "y7 = y_df[label_cols].values.astype(float)\n",
        "y_overall = y7.max(axis=1, keepdims=True)\n",
        "y8 = np.hstack([y7, y_overall])\n",
        "\n",
        "def wll(y_true8, p8):\n",
        "    p8 = np.clip(p8, 1e-6, 1-1e-6)\n",
        "    losses = [log_loss(y_true8[:,i], p8[:,i]) for i in range(8)]\n",
        "    return np.average(losses, weights=np.array([1]*7+[2], float))\n",
        "\n",
        "# Load TTA OOF logits [N,7] for three models + patch\n",
        "v1 = np.load('oof_logits_convnext_tta.npy')\n",
        "v2 = np.load('oof_logits_convnext_v2_tta.npy')\n",
        "reg = np.load('oof_logits_regnet_tta.npy')\n",
        "patch = np.load('oof_logits_patch.npy')\n",
        "stack4 = np.stack([v1, v2, reg, patch], axis=2)  # [N,7,4]\n",
        "\n",
        "# Optimize per-class weights (sum=1, >=0, reg<=0.3, patch<=0.4)\n",
        "bounds = [(0,1),(0,1),(0,0.3),(0,0.4)]\n",
        "constraints = [{'type':'eq','fun': lambda w: np.sum(w)-1.0}]\n",
        "w_opt4 = np.zeros((7,4), dtype=float)\n",
        "\n",
        "def obj_w(w, logits4, y):\n",
        "    blend = np.sum(logits4 * w, axis=1)\n",
        "    return log_loss(y, sigmoid(blend), labels=[0,1])\n",
        "\n",
        "for c in range(7):\n",
        "    res = minimize(obj_w, x0=np.array([0.3,0.3,0.2,0.2]),\n",
        "                   args=(stack4[:,c,:], y7[:,c]),\n",
        "                   method='SLSQP', bounds=bounds, constraints=constraints,\n",
        "                   options={'disp':False, 'maxiter':100})\n",
        "    w_opt4[c] = res.x\n",
        "    print(f'{label_cols[c]} weights (v1,v2,reg,patch): {res.x.round(3)}')\n",
        "\n",
        "np.save('weights_fourway_tta.npy', w_opt4)\n",
        "\n",
        "# Blend logits [N,7]\n",
        "blend4 = np.sum(stack4 * w_opt4[None,:,:], axis=2)\n",
        "p7_uncal4 = sigmoid(blend4)\n",
        "\n",
        "# Overall rule on uncalibrated (union vs max)\n",
        "p_overall_max4 = p7_uncal4.max(axis=1, keepdims=True)\n",
        "p_overall_union4 = 1 - np.prod(1 - p7_uncal4, axis=1, keepdims=True)\n",
        "p8_max4 = np.hstack([p7_uncal4, p_overall_max4])\n",
        "p8_union4 = np.hstack([p7_uncal4, p_overall_union4])\n",
        "wll_max4 = wll(y8, p8_max4)\n",
        "wll_union4 = wll(y8, p8_union4)\n",
        "print(f'4-way uncal WLL max={wll_max4:.4f}, union={wll_union4:.4f}')\n",
        "rule4 = 'union' if wll_union4 < wll_max4 else 'max'\n",
        "with open('overall_rule_fourway_tta.txt','w') as f: f.write(rule4)\n",
        "p_overall_base4 = p_overall_union4 if rule4=='union' else p_overall_max4\n",
        "\n",
        "# Refit temperatures on 4-way blend (7 classes)\n",
        "def fit_temp(logits, y):\n",
        "    def loss(z):\n",
        "        t = np.exp(z)\n",
        "        return log_loss(y, sigmoid(logits/t), labels=[0,1])\n",
        "    from scipy.optimize import minimize\n",
        "    r = minimize(loss, x0=0.0, method='L-BFGS-B', bounds=[(-3,3)])\n",
        "    return float(np.exp(r.x[0]))\n",
        "temps4 = np.array([fit_temp(blend4[:,k], y7[:,k]) for k in range(7)], dtype=np.float32)\n",
        "np.save('temperatures_fourway_tta.npy', temps4)\n",
        "\n",
        "# Calibrated probs\n",
        "p7_cal4 = sigmoid(blend4 / temps4)\n",
        "p8_cal4 = np.hstack([p7_cal4, p_overall_base4])\n",
        "wll_cal4 = wll(y8, p8_cal4)\n",
        "print(f'4-way calibrated OOF WLL: {wll_cal4:.4f}')\n",
        "\n",
        "# Learned overall stacker: LR on 7 cal + overall base, tune alpha\n",
        "from sklearn.linear_model import LogisticRegression\n",
        "from iterstrat.ml_stratifiers import MultilabelStratifiedKFold\n",
        "from scipy.optimize import minimize_scalar\n",
        "\n",
        "# Features for LR: 7 cal + base overall\n",
        "X_lr = np.hstack([p7_cal4, p_overall_base4])  # [N,8]\n",
        "\n",
        "# 5-fold CV for OOF LR preds (leakage-free)\n",
        "skf_lr = MultilabelStratifiedKFold(n_splits=5, shuffle=True, random_state=42)\n",
        "p_lr_oof = np.zeros(len(X_lr), dtype=np.float32)\n",
        "for tr_idx, va_idx in skf_lr.split(X_lr, y7):\n",
        "    lr = LogisticRegression(penalty='l2', C=1.0, class_weight='balanced',\n",
        "                            solver='lbfgs', max_iter=1000, random_state=42)\n",
        "    lr.fit(X_lr[tr_idx], y_overall[tr_idx])\n",
        "    p_lr_oof[va_idx] = lr.predict_proba(X_lr[va_idx])[:,1]\n",
        "\n",
        "# Tune alpha: min WLL with alpha*LR + (1-alpha)*base\n",
        "def obj_alpha(alpha):\n",
        "    p_overall = alpha * p_lr_oof + (1-alpha) * p_overall_base4.squeeze()\n",
        "    p8_alpha = np.hstack([p7_cal4, p_overall.reshape(-1,1)])\n",
        "    return wll(y8, p8_alpha)\n",
        "res_alpha = minimize_scalar(obj_alpha, bounds=(0,1), method='bounded')\n",
        "alpha4 = float(res_alpha.x)\n",
        "print(f'4-way LR alpha: {alpha4:.4f}, WLL: {res_alpha.fun:.4f}')\n",
        "\n",
        "# Refit LR on full data\n",
        "lr_full4 = LogisticRegression(penalty='l2', C=1.0, class_weight='balanced',\n",
        "                              solver='lbfgs', max_iter=1000, random_state=42)\n",
        "lr_full4.fit(X_lr, y_overall)\n",
        "\n",
        "# Save 4-way artifacts\n",
        "joblib.dump(lr_full4, 'overall_regressor_fourway_tta.pkl')\n",
        "np.save('overall_lr_alpha_fourway_tta.npy', np.array([alpha4]))\n",
        "with open('overall_lr_base_fourway_tta.txt','w') as f: f.write(rule4)\n",
        "np.save('oof_logits_fourway_blend.npy', blend4)  # for later use\n",
        "\n",
        "# Final 4-way OOF WLL\n",
        "p_overall_final4 = alpha4 * lr_full4.predict_proba(X_lr)[:,1] + (1-alpha4) * p_overall_base4.squeeze()\n",
        "p8_final4 = np.hstack([p7_cal4, p_overall_final4.reshape(-1,1)])\n",
        "final_wll4 = wll(y8, p8_final4)\n",
        "print(f'Final 4-way OOF WLL: {final_wll4:.4f}')\n",
        "\n",
        "# Save 4-way OOF probs for reference\n",
        "oof_df4 = y_df[['StudyInstanceUID']].copy()\n",
        "oof_df4[label_cols] = p7_cal4\n",
        "oof_df4['patient_overall'] = p8_final4[:,-1]\n",
        "oof_df4.to_csv('oof_predictions_fourway.csv', index=False)\n",
        "print('4-way ensemble completed. If WLL <0.4211, proceed to test inference for patch model.')"
      ],
      "execution_count": 33,
      "outputs": [
        {
          "output_type": "stream",
          "name": "stdout",
          "text": [
            "C1 weights (v1,v2,reg,patch): [0.62  0.022 0.3   0.057]\nC2 weights (v1,v2,reg,patch): [0.761 0.13  0.032 0.078]\nC3 weights (v1,v2,reg,patch): [0.78  0.147 0.    0.073]\nC4 weights (v1,v2,reg,patch): [0.85 0.   0.   0.15]\n"
          ]
        },
        {
          "output_type": "stream",
          "name": "stdout",
          "text": [
            "C5 weights (v1,v2,reg,patch): [0.543 0.346 0.041 0.071]\nC6 weights (v1,v2,reg,patch): [0.278 0.584 0.093 0.045]\nC7 weights (v1,v2,reg,patch): [0.656 0.    0.3   0.044]\n4-way uncal WLL max=0.4468, union=0.3945\n4-way calibrated OOF WLL: 0.3944\n"
          ]
        },
        {
          "output_type": "stream",
          "name": "stdout",
          "text": [
            "4-way LR alpha: 0.0000, WLL: 0.3944\nFinal 4-way OOF WLL: 0.3944\n4-way ensemble completed. If WLL <0.4211, proceed to test inference for patch model.\n"
          ]
        }
      ]
    },
    {
      "id": "9b11bac3-cc0d-484e-a23d-a6f11f165296",
      "cell_type": "code",
      "metadata": {},
      "source": [
        "# Additive Swin Integration: X4 = X3 + s * swin_logits, coordinate descent s_i [0,0.3], re-fit T7/LR/alpha/postproc\n",
        "import numpy as np\n",
        "from scipy.optimize import minimize_scalar\n",
        "from sklearn.linear_model import LogisticRegression\n",
        "from iterstrat.ml_stratifiers import MultilabelStratifiedKFold\n",
        "from scipy.special import expit as sigmoid\n",
        "from sklearn.metrics import log_loss\n",
        "\n",
        "# Load 3-way blended logits X3 [N,7]\n",
        "v1 = np.load('oof_logits_convnext_tta.npy')\n",
        "v2 = np.load('oof_logits_convnext_v2_tta.npy')\n",
        "reg = np.load('oof_logits_regnet_tta.npy')\n",
        "W = np.load('weights_threeway_tta.npy')  # [7,3]\n",
        "stack3 = np.stack([v1, v2, reg], axis=2)  # [N,7,3]\n",
        "X3 = np.sum(stack3 * W[None,:,:], axis=2)  # [N,7] X3 = blended 3-way logits\n",
        "\n",
        "# Load Swin OOF logits [N,7]\n",
        "swin = np.load('oof_logits_swin_tta.npy')\n",
        "\n",
        "# Labels for wll\n",
        "label_cols = ['C1','C2','C3','C4','C5','C6','C7']\n",
        "ids = pd.read_csv('data/train_mips.csv')[['StudyInstanceUID']]\n",
        "train = pd.read_csv('train.csv')\n",
        "y_df = ids.merge(train, on='StudyInstanceUID', how='left')\n",
        "y7 = y_df[label_cols].values.astype(float)\n",
        "y_overall = y7.max(axis=1).astype(int)\n",
        "y8 = np.hstack([y7, y_overall[:,None]])\n",
        "\n",
        "def wll(y_true8, p8):\n",
        "    p8 = np.clip(p8, 1e-6, 1-1e-6)\n",
        "    losses = [log_loss(y_true8[:,i], p8[:,i], labels=[0,1]) for i in range(8)]\n",
        "    return float(np.average(losses, weights=np.array([1]*7+[2], float)))\n",
        "\n",
        "# From prior postproc (cell 3 in 03_inference_tta): lam=0.1162, gamma=0\n",
        "lam = 0.1162\n",
        "gamma = 0.0\n",
        "\n",
        "def smooth_chain(p7, lam):\n",
        "    p_smooth = p7.copy()\n",
        "    for i in range(1, 6):\n",
        "        p_smooth[:,i] = (1 - 2*lam) * p7[:,i] + lam * (p7[:,i-1] + p7[:,i+1])\n",
        "    p_smooth[:,0] = (1 - lam) * p7[:,0] + lam * p7[:,1]\n",
        "    p_smooth[:,6] = (1 - lam) * p7[:,6] + lam * p7[:,5]\n",
        "    return p_smooth\n",
        "\n",
        "# Coordinate descent for s [7], init 0.10, 3 passes, s_i in [0,0.3] step 0.05\n",
        "s = np.full(7, 0.10)\n",
        "for pass_num in range(3):\n",
        "    print(f'Additive Swin pass {pass_num+1}/3')\n",
        "    for i in range(7):\n",
        "        best_s_i = s[i]\n",
        "        best_score = float('inf')\n",
        "        for s_i in np.arange(0, 0.31, 0.05):\n",
        "            temp_s = s.copy()\n",
        "            temp_s[i] = s_i\n",
        "            X4 = X3 + temp_s[None,:] * swin  # [N,7]\n",
        "            p4_uncal = sigmoid(X4)\n",
        "            p4_cal = sigmoid(X4 / T7)  # approximate with prior T7 for speed in coord descent\n",
        "            union4 = 1 - np.prod(1 - p4_uncal, axis=1)\n",
        "            max4 = p4_uncal.max(axis=1)\n",
        "            base4 = gamma * union4 + (1 - gamma) * max4\n",
        "            # Quick LR refit on X4 for p_lr4_oof (approx, use prior alpha=1.0 for speed)\n",
        "            skf = MultilabelStratifiedKFold(n_splits=5, shuffle=True, random_state=42)\n",
        "            p_lr4_oof = np.zeros(len(X4), dtype=np.float32)\n",
        "            for tr_idx, va_idx in skf.split(X4, y7):\n",
        "                lr_temp = LogisticRegression(penalty='l2', C=1.0, class_weight='balanced', solver='lbfgs', max_iter=1000, random_state=42)\n",
        "                lr_temp.fit(X4[tr_idx], y_overall[tr_idx])\n",
        "                p_lr4_oof[va_idx] = lr_temp.predict_proba(X4[va_idx])[:,1].astype(np.float32)\n",
        "            p_overall4 = 1.0 * p_lr4_oof + 0.0 * base4  # alpha=1.0 approx\n",
        "            p7_smooth4 = smooth_chain(p4_cal, lam)\n",
        "            p84 = np.hstack([p7_smooth4, p_overall4[:,None]])\n",
        "            score = wll(y8, p84)\n",
        "            if score < best_score:\n",
        "                best_score = score\n",
        "                best_s_i = s_i\n",
        "        s[i] = best_s_i\n",
        "        print(f'  Class {i} ({label_cols[i]}): s_i updated to {best_s_i:.3f}, score={best_score:.4f}')\n",
        "\n",
        "# Full refit after coord descent: T7_new per class\n",
        "X4 = X3 + s[None,:] * swin\n",
        "T7_new = np.ones(7)\n",
        "for c in range(7):\n",
        "    def obj_t(t):\n",
        "        p_c = sigmoid(X4[:,c] / t)\n",
        "        return log_loss(y7[:,c], p_c, labels=[0,1])\n",
        "    T7_new[c] = minimize_scalar(obj_t, bounds=(0.5, 2.0), method='bounded').x\n",
        "    print(f'T7_new[{label_cols[c]}]: {T7_new[c]:.4f}')\n",
        "\n",
        "# Refit LR on X4, alpha_new on p_overall4\n",
        "skf = MultilabelStratifiedKFold(n_splits=5, shuffle=True, random_state=42)\n",
        "p_lr4_oof = np.zeros(len(X4), dtype=np.float32)\n",
        "for tr_idx, va_idx in skf.split(X4, y7):\n",
        "    lr_full_temp = LogisticRegression(penalty='l2', C=1.0, class_weight='balanced', solver='lbfgs', max_iter=1000, random_state=42)\n",
        "    lr_full_temp.fit(X4[tr_idx], y_overall[tr_idx])\n",
        "    p_lr4_oof[va_idx] = lr_full_temp.predict_proba(X4[va_idx])[:,1].astype(np.float32)\n",
        "\n",
        "def obj_alpha(alpha):\n",
        "    p_overall = alpha * p_lr4_oof + (1 - alpha) * base4\n",
        "    p7_smooth4 = smooth_chain(sigmoid(X4 / T7_new), lam)\n",
        "    p84 = np.hstack([p7_smooth4, p_overall[:,None]])\n",
        "    return wll(y8, p84)\n",
        "\n",
        "res_alpha = minimize_scalar(obj_alpha, bounds=(0,1), method='bounded')\n",
        "alpha_new = res_alpha.x\n",
        "print(f'Alpha new: {alpha_new:.4f}, WLL: {res_alpha.fun:.4f}')\n",
        "\n",
        "# Save additive Swin artifacts\n",
        "np.save('addswin_s.npy', s)\n",
        "np.save('temperatures_addswin_tta.npy', T7_new)\n",
        "lr_full = LogisticRegression(penalty='l2', C=1.0, class_weight='balanced', solver='lbfgs', max_iter=1000, random_state=42)\n",
        "lr_full.fit(X4, y_overall)\n",
        "joblib.dump(lr_full, 'overall_regressor_addswin.pkl')\n",
        "np.save('overall_lr_alpha_addswin.npy', np.array([alpha_new]))\n",
        "\n",
        "# Gate: compute full OOF wll with new postproc vs best 3-way 0.4198\n",
        "p4_uncal = sigmoid(X4)\n",
        "p4_cal = sigmoid(X4 / T7_new)\n",
        "union4 = 1 - np.prod(1 - p4_uncal, axis=1)\n",
        "max4 = p4_uncal.max(axis=1)\n",
        "base4 = gamma * union4 + (1 - gamma) * max4\n",
        "p_overall_new = alpha_new * lr_full.predict_proba(X4)[:,1] + (1 - alpha_new) * base4\n",
        "p7_smooth_new = smooth_chain(p4_cal, lam)\n",
        "p8_new = np.hstack([p7_smooth_new, p_overall_new[:,None]])\n",
        "for i in range(8):\n",
        "    p8_new[:,i] = np.clip(0.005 + 0.92 * p8_new[:,i], 1e-6, 1-1e-6)  # uniform approx for gate\n",
        "score_new = wll(y8, p8_new)\n",
        "print(f'Additive Swin OOF WLL: {score_new:.4f} (3-way baseline 0.4198, gain {0.4198 - score_new:.4f})')\n",
        "\n",
        "# Simple fold check (reuse skf from 3-way)\n",
        "skf = MultilabelStratifiedKFold(n_splits=5, shuffle=True, random_state=42)\n",
        "fold_improves = 0\n",
        "for tr_idx, va_idx in skf.split(X4, y7):\n",
        "    # 3-way baseline on val\n",
        "    X3_val = np.sum(stack3[va_idx] * W[None,:,:], axis=2)\n",
        "    p3_uncal = sigmoid(X3_val)\n",
        "    p3_cal = sigmoid(X3_val / T7)\n",
        "    base3 = gamma * (1 - np.prod(1 - p3_uncal,1)) + (1 - gamma) * p3_uncal.max(1)\n",
        "    p_lr3_oof_val = lr.predict_proba(X3_val)[:,1]  # approx, since LR on X3\n",
        "    p_overall3 = 1.0 * p_lr3_oof_val + 0.0 * base3  # alpha=1.0\n",
        "    p7_smooth3 = smooth_chain(p3_cal, lam)\n",
        "    p83 = np.hstack([p7_smooth3, p_overall3[:,None]])\n",
        "    baseline_fold = wll(y8[va_idx], p83[va_idx])\n",
        "    # New on val\n",
        "    X4_val = X3[va_idx] + s[None,:] * swin[va_idx]\n",
        "    p4_uncal_val = sigmoid(X4_val)\n",
        "    p4_cal_val = sigmoid(X4_val / T7_new)\n",
        "    union4_val = 1 - np.prod(1 - p4_uncal_val,1)\n",
        "    max4_val = p4_uncal_val.max(1)\n",
        "    base4_val = gamma * union4_val + (1 - gamma) * max4_val\n",
        "    p_lr4_oof_val = lr_full.predict_proba(X4_val)[:,1]\n",
        "    p_overall4_val = alpha_new * p_lr4_oof_val + (1 - alpha_new) * base4_val\n",
        "    p7_smooth4_val = smooth_chain(p4_cal_val, lam)\n",
        "    p84_val = np.hstack([p7_smooth4_val, p_overall4_val[:,None]])\n",
        "    for i in range(8):\n",
        "        p84_val[:,i] = np.clip(0.005 + 0.92 * p84_val[:,i], 1e-6, 1-1e-6)\n",
        "    new_fold = wll(y8[va_idx], p84_val[va_idx])\n",
        "    if new_fold < baseline_fold:\n",
        "        fold_improves += 1\n",
        "\n",
        "mean_improve = 0.4198 - score_new\n",
        "print(f'Gate: mean improve={mean_improve:.4f}, improves={fold_improves}/5')\n",
        "\n",
        "if mean_improve >= 0.005 and fold_improves >= 4:\n",
        "    print('Gate passed: Proceed to 4-way inference with additive Swin.')\n",
        "    gate_pass = True\n",
        "    # Copy artifacts to 03_inference_tta for postproc re-tune\n",
        "    # In 03, load X4_test = X3_test + s * swin_test, T7_new, lr_full, alpha_new\n",
        "    # Then run postproc tuning cell 3 with these, save postproc_addswin.npz\n",
        "else:\n",
        "    print('Gate failed: Stick to 3-way, pivot to holdout/multi-view.')\n",
        "    gate_pass = False\n",
        "\n",
        "print('Additive Swin integration complete. If gate pass, update 03_inference_tta cell 0 for test Swin logits + add, re-tune postproc, submit. Else, create 06_holdout.ipynb for Phase 1 pivot.')"
      ],
      "execution_count": 35,
      "outputs": [
        {
          "output_type": "stream",
          "name": "stdout",
          "text": [
            "Additive Swin pass 1/3\n  Class 0 (C1): s_i updated to 0.050, score=0.4206\n"
          ]
        },
        {
          "output_type": "stream",
          "name": "stdout",
          "text": [
            "  Class 1 (C2): s_i updated to 0.000, score=0.4203\n  Class 2 (C3): s_i updated to 0.100, score=0.4203\n"
          ]
        },
        {
          "output_type": "stream",
          "name": "stdout",
          "text": [
            "  Class 3 (C4): s_i updated to 0.100, score=0.4203\n  Class 4 (C5): s_i updated to 0.000, score=0.4199\n"
          ]
        },
        {
          "output_type": "stream",
          "name": "stdout",
          "text": [
            "  Class 5 (C6): s_i updated to 0.000, score=0.4195\n  Class 6 (C7): s_i updated to 0.200, score=0.4193\nAdditive Swin pass 2/3\n"
          ]
        },
        {
          "output_type": "stream",
          "name": "stdout",
          "text": [
            "  Class 0 (C1): s_i updated to 0.100, score=0.4193\n  Class 1 (C2): s_i updated to 0.000, score=0.4193\n"
          ]
        },
        {
          "output_type": "stream",
          "name": "stdout",
          "text": [
            "  Class 2 (C3): s_i updated to 0.050, score=0.4193\n  Class 3 (C4): s_i updated to 0.150, score=0.4192\n"
          ]
        },
        {
          "output_type": "stream",
          "name": "stdout",
          "text": [
            "  Class 4 (C5): s_i updated to 0.000, score=0.4192\n  Class 5 (C6): s_i updated to 0.000, score=0.4192\n"
          ]
        },
        {
          "output_type": "stream",
          "name": "stdout",
          "text": [
            "  Class 6 (C7): s_i updated to 0.200, score=0.4192\nAdditive Swin pass 3/3\n  Class 0 (C1): s_i updated to 0.100, score=0.4192\n"
          ]
        },
        {
          "output_type": "stream",
          "name": "stdout",
          "text": [
            "  Class 1 (C2): s_i updated to 0.000, score=0.4192\n  Class 2 (C3): s_i updated to 0.050, score=0.4192\n"
          ]
        },
        {
          "output_type": "stream",
          "name": "stdout",
          "text": [
            "  Class 3 (C4): s_i updated to 0.150, score=0.4192\n  Class 4 (C5): s_i updated to 0.000, score=0.4192\n"
          ]
        },
        {
          "output_type": "stream",
          "name": "stdout",
          "text": [
            "  Class 5 (C6): s_i updated to 0.000, score=0.4192\n  Class 6 (C7): s_i updated to 0.200, score=0.4192\nT7_new[C1]: 0.9999\nT7_new[C2]: 0.7776\n"
          ]
        },
        {
          "output_type": "stream",
          "name": "stdout",
          "text": [
            "T7_new[C3]: 0.9586\nT7_new[C4]: 1.0473\nT7_new[C5]: 0.8476\nT7_new[C6]: 0.8188\nT7_new[C7]: 0.9065\nAlpha new: 0.8638, WLL: 0.4179\nAdditive Swin OOF WLL: 0.4171 (3-way baseline 0.4198, gain 0.0027)\n"
          ]
        },
        {
          "output_type": "error",
          "ename": "IndexError",
          "evalue": "index 42 is out of bounds for axis 0 with size 40",
          "traceback": [
            "\u001b[31m---------------------------------------------------------------------------\u001b[39m",
            "\u001b[31mIndexError\u001b[39m                                Traceback (most recent call last)",
            "\u001b[36mCell\u001b[39m\u001b[36m \u001b[39m\u001b[32mIn[132]\u001b[39m\u001b[32m, line 142\u001b[39m\n\u001b[32m    140\u001b[39m p7_smooth3 = smooth_chain(p3_cal, lam)\n\u001b[32m    141\u001b[39m p83 = np.hstack([p7_smooth3, p_overall3[:,\u001b[38;5;28;01mNone\u001b[39;00m]])\n\u001b[32m--> \u001b[39m\u001b[32m142\u001b[39m baseline_fold = wll(y8[va_idx], \u001b[43mp83\u001b[49m\u001b[43m[\u001b[49m\u001b[43mva_idx\u001b[49m\u001b[43m]\u001b[49m)\n\u001b[32m    143\u001b[39m \u001b[38;5;66;03m# New on val\u001b[39;00m\n\u001b[32m    144\u001b[39m X4_val = X3[va_idx] + s[\u001b[38;5;28;01mNone\u001b[39;00m,:] * swin[va_idx]\n",
            "\u001b[31mIndexError\u001b[39m: index 42 is out of bounds for axis 0 with size 40"
          ]
        }
      ]
    }
  ],
  "metadata": {
    "kernelspec": {
      "display_name": "Python 3",
      "language": "python",
      "name": "python3"
    },
    "language_info": {
      "name": "python",
      "version": "3.11.0rc1"
    }
  },
  "nbformat": 4,
  "nbformat_minor": 5
}