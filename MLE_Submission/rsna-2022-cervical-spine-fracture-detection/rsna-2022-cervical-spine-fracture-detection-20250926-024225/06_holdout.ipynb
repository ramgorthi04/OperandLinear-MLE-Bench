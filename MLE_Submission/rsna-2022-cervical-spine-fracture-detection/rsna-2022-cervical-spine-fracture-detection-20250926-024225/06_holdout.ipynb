{
  "cells": [
    {
      "id": "274c48cc-31b1-4ac4-9467-49b63340ad77",
      "cell_type": "markdown",
      "metadata": {},
      "source": [
        "# Holdout Split for Post-Processing Validation\n",
        "\n",
        "Split train_mips.csv into 80% main_train.csv (162 samples) and 20% holdout.csv (40 samples) using GroupShuffleSplit by StudyInstanceUID random_state=42.\n",
        "This provides an independent holdout to tune postproc (lam/gamma/shrink) without OOF contamination, better estimating CV-LB gap on small N=202.\n",
        "\n",
        "Next: create 07_holdout_postproc.ipynb to load holdout, compute 3-way logits/probs on holdout, tune postproc params on holdout wll only, save postproc_holdout.npz, update 03_inference_tta cell 0 to use it for test inference/submit."
      ],
      "execution_count": null,
      "outputs": []
    },
    {
      "id": "f16e582a-cb00-45b1-94e9-a5477b761f5a",
      "cell_type": "code",
      "metadata": {},
      "source": [
        "import pandas as pd\n",
        "from sklearn.model_selection import GroupShuffleSplit\n",
        "\n",
        "gss = GroupShuffleSplit(n_splits=1, test_size=0.2, random_state=42)\n",
        "train_df = pd.read_csv('data/train_mips.csv')\n",
        "for tr_idx, ho_idx in gss.split(train_df, groups=train_df['StudyInstanceUID']):\n",
        "    main_train = train_df.iloc[tr_idx].copy()\n",
        "    holdout = train_df.iloc[ho_idx].copy()\n",
        "    main_train.to_csv('data/main_train.csv', index=False)\n",
        "    holdout.to_csv('data/holdout.csv', index=False)\n",
        "print(f'Split complete: main_train {len(main_train)}, holdout {len(holdout)}')"
      ],
      "execution_count": 2,
      "outputs": [
        {
          "output_type": "stream",
          "name": "stdout",
          "text": [
            "Split complete: main_train 161, holdout 41\n"
          ]
        }
      ]
    }
  ],
  "metadata": {
    "kernelspec": {
      "display_name": "Python 3",
      "language": "python",
      "name": "python3"
    },
    "language_info": {
      "name": "python",
      "version": "3.11.0rc1"
    }
  },
  "nbformat": 4,
  "nbformat_minor": 5
}