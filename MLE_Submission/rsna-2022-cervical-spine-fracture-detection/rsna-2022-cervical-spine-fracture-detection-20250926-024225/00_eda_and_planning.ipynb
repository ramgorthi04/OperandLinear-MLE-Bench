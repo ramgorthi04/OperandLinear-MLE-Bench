{
  "cells": [
    {
      "id": "e53cd788-3e7f-4f7a-99df-d3948f08ccc1",
      "cell_type": "code",
      "metadata": {},
      "source": [
        "import subprocess\n",
        "result = subprocess.run(['nvidia-smi'], capture_output=True, text=True)\n",
        "print(result.stdout)"
      ],
      "execution_count": 1,
      "outputs": [
        {
          "output_type": "stream",
          "name": "stdout",
          "text": [
            "Fri Sep 26 04:50:00 2025       \n+-----------------------------------------------------------------------------------------+\n| NVIDIA-SMI 550.144.06             Driver Version: 550.144.06     CUDA Version: 12.4     |\n|-----------------------------------------+------------------------+----------------------+\n| GPU  Name                 Persistence-M | Bus-Id          Disp.A | Volatile Uncorr. ECC |\n| Fan  Temp   Perf          Pwr:Usage/Cap |           Memory-Usage | GPU-Util  Compute M. |\n|                                         |                        |               MIG M. |\n|=========================================+========================+======================|\n|   0  NVIDIA A10-24Q                 On  |   00000002:00:00.0 Off |                    0 |\n| N/A   N/A    P0             N/A /  N/A  |     182MiB /  24512MiB |      0%      Default |\n|                                         |                        |                  N/A |\n+-----------------------------------------+------------------------+----------------------+\n                                                                                         \n+-----------------------------------------------------------------------------------------+\n| Processes:                                                                              |\n|  GPU   GI   CI        PID   Type   Process name                              GPU Memory |\n|        ID   ID                                                               Usage      |\n|=========================================================================================|\n+-----------------------------------------------------------------------------------------+\n\n"
          ]
        }
      ]
    },
    {
      "id": "45de0da3-b1ae-4114-8349-a5cf4431e07e",
      "cell_type": "code",
      "metadata": {},
      "source": [
        "import pandas as pd\n",
        "train = pd.read_csv('train.csv')\n",
        "print('Train shape:', train.shape)\n",
        "print('\\nColumns:', train.columns.tolist())\n",
        "print('\\nHead:')\n",
        "print(train.head())\n",
        "print('\\nInfo:')\n",
        "train.info()\n",
        "print('\\nC4 value counts:')\n",
        "print(train['C4'].value_counts(normalize=True))\n",
        "print('\\nMissing values:')\n",
        "print(train.isnull().sum())"
      ],
      "execution_count": 2,
      "outputs": [
        {
          "output_type": "stream",
          "name": "stdout",
          "text": [
            "Train shape: (202, 9)\n\nColumns: ['StudyInstanceUID', 'patient_overall', 'C1', 'C2', 'C3', 'C4', 'C5', 'C6', 'C7']\n\nHead:\n            StudyInstanceUID  patient_overall  C1  C2  C3  C4  C5  C6  C7\n0  1.2.826.0.1.3680043.21561                1   0   1   0   0   0   0   0\n1   1.2.826.0.1.3680043.9447                1   0   1   0   0   0   0   0\n2  1.2.826.0.1.3680043.29194                0   0   0   0   0   0   0   0\n3  1.2.826.0.1.3680043.21586                1   1   1   0   0   0   0   0\n4  1.2.826.0.1.3680043.19266                0   0   0   0   0   0   0   0\n\nInfo:\n<class 'pandas.core.frame.DataFrame'>\nRangeIndex: 202 entries, 0 to 201\nData columns (total 9 columns):\n #   Column            Non-Null Count  Dtype \n---  ------            --------------  ----- \n 0   StudyInstanceUID  202 non-null    object\n 1   patient_overall   202 non-null    int64 \n 2   C1                202 non-null    int64 \n 3   C2                202 non-null    int64 \n 4   C3                202 non-null    int64 \n 5   C4                202 non-null    int64 \n 6   C5                202 non-null    int64 \n 7   C6                202 non-null    int64 \n 8   C7                202 non-null    int64 \ndtypes: int64(8), object(1)\nmemory usage: 14.3+ KB\n\nC4 value counts:\nC4\n0    0.945545\n1    0.054455\nName: proportion, dtype: float64\n\nMissing values:\nStudyInstanceUID    0\npatient_overall     0\nC1                  0\nC2                  0\nC3                  0\nC4                  0\nC5                  0\nC6                  0\nC7                  0\ndtype: int64\n"
          ]
        }
      ]
    },
    {
      "id": "fc15dab8-ee45-45e1-b813-8082059a52f8",
      "cell_type": "code",
      "metadata": {},
      "source": [
        "test = pd.read_csv('test.csv')\n",
        "print('Test shape:', test.shape)\n",
        "print('\\nTest columns:', test.columns.tolist())\n",
        "print('\\nTest head:')\n",
        "print(test.head())\n",
        "\n",
        "sample_sub = pd.read_csv('sample_submission.csv')\n",
        "print('\\nSample submission shape:', sample_sub.shape)\n",
        "print('\\nSample submission columns:', sample_sub.columns.tolist())\n",
        "print('\\nSample submission head:')\n",
        "print(sample_sub.head())\n",
        "\n",
        "# Check bounding boxes\n",
        "bbox = pd.read_csv('train_bounding_boxes.csv')\n",
        "print('\\nBounding boxes shape:', bbox.shape)\n",
        "print('\\nBounding boxes columns:', bbox.columns.tolist())\n",
        "print('\\nBounding boxes head:')\n",
        "print(bbox.head())\n",
        "\n",
        "# Check if segmentations exist\n",
        "import os\n",
        "seg_dir = 'segmentations/'\n",
        "if os.path.exists(seg_dir):\n",
        "    print(f'Segmentations directory exists with {len(os.listdir(seg_dir))} files')\n",
        "else:\n",
        "    print('No segmentations directory')"
      ],
      "execution_count": 3,
      "outputs": [
        {
          "output_type": "stream",
          "name": "stdout",
          "text": [
            "Test shape: (14536, 3)\n\nTest columns: ['StudyInstanceUID', 'prediction_type', 'row_id']\n\nTest head:\n            StudyInstanceUID  prediction_type  \\\n0   1.2.826.0.1.3680043.6200  patient_overall   \n1  1.2.826.0.1.3680043.27262  patient_overall   \n2  1.2.826.0.1.3680043.12351  patient_overall   \n3   1.2.826.0.1.3680043.1363  patient_overall   \n4   1.2.826.0.1.3680043.4859  patient_overall   \n\n                                      row_id  \n0   1.2.826.0.1.3680043.6200_patient_overall  \n1  1.2.826.0.1.3680043.27262_patient_overall  \n2  1.2.826.0.1.3680043.12351_patient_overall  \n3   1.2.826.0.1.3680043.1363_patient_overall  \n4   1.2.826.0.1.3680043.4859_patient_overall  \n\nSample submission shape: (14536, 2)\n\nSample submission columns: ['row_id', 'fractured']\n\nSample submission head:\n                                      row_id  fractured\n0   1.2.826.0.1.3680043.6200_patient_overall        0.5\n1  1.2.826.0.1.3680043.27262_patient_overall        0.5\n2  1.2.826.0.1.3680043.12351_patient_overall        0.5\n3   1.2.826.0.1.3680043.1363_patient_overall        0.5\n4   1.2.826.0.1.3680043.4859_patient_overall        0.5\n\nBounding boxes shape: (690, 6)\n\nBounding boxes columns: ['StudyInstanceUID', 'x', 'y', 'width', 'height', 'slice_number']\n\nBounding boxes head:\n            StudyInstanceUID      x      y  width  height  slice_number\n0  1.2.826.0.1.3680043.12152  177.0  242.0  107.0    96.0           330\n1  1.2.826.0.1.3680043.12152  178.0  243.0  106.0    94.0           331\n2  1.2.826.0.1.3680043.12152  180.0  244.0  104.0    92.0           332\n3  1.2.826.0.1.3680043.12152  181.0  244.0  102.0    91.0           333\n4  1.2.826.0.1.3680043.12152  182.0  245.0  101.0    89.0           334\nSegmentations directory exists with 9 files\n"
          ]
        }
      ]
    }
  ],
  "metadata": {
    "kernelspec": {
      "display_name": "Python 3",
      "language": "python",
      "name": "python3"
    },
    "language_info": {
      "name": "python",
      "version": "3.11.0rc1"
    }
  },
  "nbformat": 4,
  "nbformat_minor": 5
}