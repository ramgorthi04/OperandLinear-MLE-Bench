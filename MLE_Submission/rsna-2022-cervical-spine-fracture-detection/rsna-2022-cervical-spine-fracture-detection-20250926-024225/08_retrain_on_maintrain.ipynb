{
  "cells": [
    {
      "id": "cec1bdc2-a0f5-4295-a3e8-300b12a7f6da",
      "cell_type": "code",
      "metadata": {},
      "source": [
        "# Retrain 3 Models on Full Train (202 samples) with Pretrained Weights & Lighter Reg (Expert Pivot)\n",
        "# Goal: Better generalization via transfer learning (target holdout WLL <=0.42, LB <=0.45 medal)\n",
        "import os\n",
        "os.environ['PYTORCH_CUDA_ALLOC_CONF'] = 'expandable_segments:True'\n",
        "import torch\n",
        "import torch.nn as nn\n",
        "import torch.optim as optim\n",
        "from torch.utils.data import Dataset, DataLoader\n",
        "from torch.cuda.amp import GradScaler, autocast\n",
        "import timm\n",
        "import albumentations as A\n",
        "from albumentations.pytorch import ToTensorV2\n",
        "import pandas as pd\n",
        "import numpy as np\n",
        "from iterstrat.ml_stratifiers import MultilabelStratifiedKFold\n",
        "from sklearn.metrics import log_loss\n",
        "from scipy.special import expit as sigmoid\n",
        "import os\n",
        "from tqdm import tqdm\n",
        "import time\n",
        "import gc\n",
        "import warnings\n",
        "warnings.filterwarnings('ignore')\n",
        "\n",
        "# Seeding\n",
        "def seed_everything(seed):\n",
        "    import random\n",
        "    random.seed(seed)\n",
        "    np.random.seed(seed)\n",
        "    torch.manual_seed(seed)\n",
        "    torch.cuda.manual_seed_all(seed)\n",
        "    torch.backends.cudnn.deterministic = True\n",
        "    torch.backends.cudnn.benchmark = False\n",
        "\n",
        "device = torch.device('cuda' if torch.cuda.is_available() else 'cpu')\n",
        "print(f'Using device: {device}')\n",
        "\n",
        "# Clear GPU cache before training\n",
        "gc.collect()\n",
        "torch.cuda.empty_cache()\n",
        "print(f'GPU memory after clear: {torch.cuda.memory_allocated()/1e9:.1f}GB allocated, {torch.cuda.memory_reserved()/1e9:.1f}GB reserved')\n",
        "\n",
        "# Load full train_mips.csv (202 samples)\n",
        "train_df = pd.read_csv('data/train_mips.csv')\n",
        "print(f'Full train size: {len(train_df)}')\n",
        "label_cols = ['C1', 'C2', 'C3', 'C4', 'C5', 'C6', 'C7']\n",
        "y_full = train_df[label_cols].values\n",
        "\n",
        "# Dataset\n",
        "class MIPDataset(Dataset):\n",
        "    def __init__(self, df, mip_dir, labels=None, transform=None):\n",
        "        self.df = df.reset_index(drop=True)\n",
        "        self.mip_dir = mip_dir\n",
        "        self.labels = labels\n",
        "        self.transform = transform\n",
        "    def __len__(self): return len(self.df)\n",
        "    def __getitem__(self, idx):\n",
        "        uid = self.df.iloc[idx]['StudyInstanceUID']\n",
        "        mip = np.load(os.path.join(self.mip_dir, f'{uid}.npy')).astype(np.float32)\n",
        "        img = np.transpose(mip, (1, 2, 0))\n",
        "        if self.transform:\n",
        "            img = self.transform(image=img)['image']\n",
        "        else:\n",
        "            img = (img - 0.5) / 0.5\n",
        "            img = torch.from_numpy(img).permute(2, 0, 1).float()\n",
        "        if self.labels is not None:\n",
        "            label = torch.tensor(self.labels[idx], dtype=torch.float32)\n",
        "            return img, label\n",
        "        return img\n",
        "\n",
        "# Lighter, anatomy-safe transforms (320x320 to save memory)\n",
        "IMG_SIZE = 320\n",
        "train_transform = A.Compose([\n",
        "    A.RandomResizedCrop(size=(IMG_SIZE, IMG_SIZE), scale=(0.9, 1.0), p=1.0),\n",
        "    A.HorizontalFlip(p=0.5),\n",
        "    A.ShiftScaleRotate(shift_limit=0.1, scale_limit=0.1, rotate_limit=10, p=0.5),\n",
        "    A.RandomBrightnessContrast(brightness_limit=0.2, contrast_limit=0.2, p=0.5),\n",
        "    A.Normalize(mean=0.5, std=0.5),\n",
        "    ToTensorV2()\n",
        "])\n",
        "val_transform = A.Compose([A.Resize(IMG_SIZE, IMG_SIZE), A.Normalize(mean=0.5, std=0.5), ToTensorV2()])\n",
        "\n",
        "# Model builders with pretrained & moderate dropout\n",
        "def build_convnext_v1(seed=42):\n",
        "    seed_everything(seed)\n",
        "    return timm.create_model('convnext_tiny', pretrained=True, num_classes=7, in_chans=3,\n",
        "                             drop_rate=0.25, drop_path_rate=0.1).to(device)\n",
        "\n",
        "def build_convnext_v2(seed=123):\n",
        "    seed_everything(seed)\n",
        "    return timm.create_model('convnext_tiny', pretrained=True, num_classes=7, in_chans=3,\n",
        "                             drop_rate=0.25, drop_path_rate=0.1).to(device)\n",
        "\n",
        "def build_regnet(seed=456):\n",
        "    seed_everything(seed)\n",
        "    return timm.create_model('regnety_004', pretrained=True, num_classes=7, in_chans=3,\n",
        "                             drop_rate=0.25, drop_path_rate=0.1).to(device)\n",
        "\n",
        "# 5-fold CV\n",
        "n_folds = 5\n",
        "skf = MultilabelStratifiedKFold(n_splits=n_folds, shuffle=True, random_state=42)\n",
        "splits = list(skf.split(train_df, y_full))\n",
        "\n",
        "# Get optimizer with param groups\n",
        "def get_optimizer(model, lr):\n",
        "    decay = []\n",
        "    no_decay = []\n",
        "    for name, param in model.named_parameters():\n",
        "        if not param.requires_grad:\n",
        "            continue\n",
        "        if any(x in name for x in ['bn', 'norm', 'bias']):\n",
        "            no_decay.append(param)\n",
        "        else:\n",
        "            decay.append(param)\n",
        "    return optim.AdamW([\n",
        "        {'params': decay, 'weight_decay': 5e-4},\n",
        "        {'params': no_decay, 'weight_decay': 0.0}\n",
        "    ], lr=lr)\n",
        "\n",
        "# Training function\n",
        "def train_fold(fold, train_idx, val_idx, build_fn, ckpt_pattern, epochs=15, batch_size=4, lr=2e-4):\n",
        "    train_fold_df = train_df.iloc[train_idx].reset_index(drop=True)\n",
        "    val_fold_df = train_df.iloc[val_idx].reset_index(drop=True)\n",
        "    y_train_fold = train_fold_df[label_cols].values\n",
        "    y_val_fold = val_fold_df[label_cols].values\n",
        "    \n",
        "    # Per-fold pos_weight (mild, clipped)\n",
        "    pos = (y_train_fold == 1).sum(axis=0)\n",
        "    neg = (y_train_fold == 0).sum(axis=0)\n",
        "    pos_weight = torch.tensor(np.minimum(neg / (pos + 1e-6), 3.0), dtype=torch.float32).to(device)\n",
        "    print(f'Fold {fold} pos_weight: {pos_weight.cpu().numpy()}')\n",
        "    \n",
        "    train_ds = MIPDataset(train_fold_df, 'data/mips/train', y_train_fold, train_transform)\n",
        "    val_ds = MIPDataset(val_fold_df, 'data/mips/train', y_val_fold, val_transform)\n",
        "    train_loader = DataLoader(train_ds, batch_size=batch_size, shuffle=True, num_workers=0, pin_memory=True)\n",
        "    val_loader = DataLoader(val_ds, batch_size=batch_size, shuffle=False, num_workers=0, pin_memory=True)\n",
        "    \n",
        "    # Clear cache before model init\n",
        "    gc.collect()\n",
        "    torch.cuda.empty_cache()\n",
        "    print(f'Fold {fold} GPU memory before model: {torch.cuda.memory_allocated()/1e9:.1f}GB')\n",
        "    \n",
        "    model = build_fn()\n",
        "    optimizer = get_optimizer(model, lr)\n",
        "    scheduler = optim.lr_scheduler.CosineAnnealingLR(optimizer, T_max=epochs)\n",
        "    criterion = nn.BCEWithLogitsLoss(pos_weight=pos_weight)\n",
        "    scaler = GradScaler()\n",
        "    \n",
        "    best_val_loss = float('inf')\n",
        "    patience = 5\n",
        "    counter = 0\n",
        "    for epoch in range(epochs):\n",
        "        model.train()\n",
        "        train_loss = 0.0\n",
        "        start_time = time.time()\n",
        "        for batch_idx, (images, labels) in enumerate(tqdm(train_loader, desc=f'Fold {fold} Epoch {epoch+1}')):\n",
        "            images, labels = images.to(device), labels.to(device)\n",
        "            optimizer.zero_grad()\n",
        "            with autocast():\n",
        "                logits = model(images)\n",
        "                loss = criterion(logits, labels)\n",
        "            scaler.scale(loss).backward()\n",
        "            scaler.unscale_(optimizer)\n",
        "            torch.nn.utils.clip_grad_norm_(model.parameters(), max_norm=1.0)\n",
        "            scaler.step(optimizer)\n",
        "            scaler.update()\n",
        "            train_loss += loss.item() * images.size(0)\n",
        "            if batch_idx % 10 == 0:\n",
        "                print(f'Batch {batch_idx}, elapsed: {time.time() - start_time:.1f}s')\n",
        "        train_loss /= len(train_ds)\n",
        "        scheduler.step()\n",
        "        print(f'Fold {fold} Epoch {epoch+1} train time: {time.time() - start_time:.1f}s')\n",
        "        \n",
        "        # Val\n",
        "        model.eval()\n",
        "        val_loss = 0.0\n",
        "        val_start = time.time()\n",
        "        with torch.no_grad():\n",
        "            for images, labels in val_loader:\n",
        "                images, labels = images.to(device), labels.to(device)\n",
        "                with autocast():\n",
        "                    logits = model(images)\n",
        "                    loss = criterion(logits, labels)\n",
        "                val_loss += loss.item() * images.size(0)\n",
        "        val_loss /= len(val_ds)\n",
        "        print(f'Fold {fold} Epoch {epoch+1}: Train {train_loss:.4f}, Val {val_loss:.4f}, val time: {time.time() - val_start:.1f}s')\n",
        "        \n",
        "        if val_loss < best_val_loss:\n",
        "            best_val_loss = val_loss\n",
        "            counter = 0\n",
        "            torch.save(model.state_dict(), ckpt_pattern.format(fold))\n",
        "            print(f'New best at epoch {epoch+1}')\n",
        "        else:\n",
        "            counter += 1\n",
        "            if counter >= patience:\n",
        "                print(f'Early stop at epoch {epoch+1}')\n",
        "                break\n",
        "    print(f'Fold {fold} best val loss: {best_val_loss:.4f}')\n",
        "    # Clear after fold\n",
        "    del model\n",
        "    gc.collect()\n",
        "    torch.cuda.empty_cache()\n",
        "\n",
        "# Train ConvNeXt v1\n",
        "print('Training ConvNeXt v1 on full train (pretrained)...')\n",
        "for fold, (train_idx, val_idx) in enumerate(splits):\n",
        "    train_fold(fold+1, train_idx, val_idx, build_convnext_v1, 'fold_{}_convnext_pretrained.pth')\n",
        "\n",
        "# Train ConvNeXt v2\n",
        "print('Training ConvNeXt v2 on full train (pretrained)...')\n",
        "for fold, (train_idx, val_idx) in enumerate(splits):\n",
        "    train_fold(fold+1, train_idx, val_idx, build_convnext_v2, 'fold_{}_convnext_v2_pretrained.pth')\n",
        "\n",
        "# Train RegNet\n",
        "print('Training RegNet on full train (pretrained)...')\n",
        "for fold, (train_idx, val_idx) in enumerate(splits):\n",
        "    train_fold(fold+1, train_idx, val_idx, build_regnet, 'fold_{}_regnet_pretrained.pth')\n",
        "\n",
        "print('Retraining complete. New pretrained checkpoints saved as fold_*_pretrained.pth.')\n",
        "# Next: Add cell to generate TTA OOF logits on full 202 using new models (HFlip only), save oof_logits_*_pretrained.npy\n",
        "# Compute holdout preds/WLL with new OOF; tune blend weights/temps/gamma/lam/shrink on holdout only (low-DOF, >=0.002 gain)\n",
        "# Update 03_inference_tta cell 0: change paths to _pretrained.pth, load new postproc.npz, use OR-gamma for overall, HFlip TTA\n",
        "# Re-execute inference cell 0, submit targeting holdout <=0.42 LB <=0.45 medal. If >0.43 holdout, add coronal model."
      ],
      "execution_count": 2,
      "outputs": [
        {
          "output_type": "stream",
          "name": "stdout",
          "text": [
            "Using device: cuda\nGPU memory after clear: 0.1GB allocated, 0.1GB reserved\nFull train size: 202\nTraining ConvNeXt v1 on full train (pretrained)...\nFold 1 pos_weight: [3. 3. 3. 3. 3. 3. 3.]\nFold 1 GPU memory before model: 0.1GB\n"
          ]
        },
        {
          "output_type": "stream",
          "name": "stderr",
          "text": [
            "\rFold 1 Epoch 1:   0%|          | 0/41 [00:00<?, ?it/s]"
          ]
        },
        {
          "output_type": "stream",
          "name": "stderr",
          "text": [
            "\rFold 1 Epoch 1:   2%|\u258f         | 1/41 [00:00<00:12,  3.13it/s]"
          ]
        },
        {
          "output_type": "stream",
          "name": "stderr",
          "text": [
            "\rFold 1 Epoch 1:  10%|\u2589         | 4/41 [00:00<00:03, 10.54it/s]"
          ]
        },
        {
          "output_type": "stream",
          "name": "stdout",
          "text": [
            "Batch 0, elapsed: 0.3s\n"
          ]
        },
        {
          "output_type": "stream",
          "name": "stderr",
          "text": [
            "\rFold 1 Epoch 1:  15%|\u2588\u258d        | 6/41 [00:00<00:02, 12.84it/s]"
          ]
        },
        {
          "output_type": "stream",
          "name": "stderr",
          "text": [
            "\rFold 1 Epoch 1:  22%|\u2588\u2588\u258f       | 9/41 [00:00<00:02, 15.85it/s]"
          ]
        },
        {
          "output_type": "stream",
          "name": "stderr",
          "text": [
            "\rFold 1 Epoch 1:  29%|\u2588\u2588\u2589       | 12/41 [00:00<00:01, 17.99it/s]"
          ]
        },
        {
          "output_type": "stream",
          "name": "stderr",
          "text": [
            "\rFold 1 Epoch 1:  37%|\u2588\u2588\u2588\u258b      | 15/41 [00:00<00:01, 19.48it/s]"
          ]
        },
        {
          "output_type": "stream",
          "name": "stdout",
          "text": [
            "Batch 10, elapsed: 0.8s\n"
          ]
        },
        {
          "output_type": "stream",
          "name": "stderr",
          "text": [
            "\rFold 1 Epoch 1:  44%|\u2588\u2588\u2588\u2588\u258d     | 18/41 [00:01<00:01, 20.40it/s]"
          ]
        },
        {
          "output_type": "stream",
          "name": "stderr",
          "text": [
            "\rFold 1 Epoch 1:  51%|\u2588\u2588\u2588\u2588\u2588     | 21/41 [00:01<00:00, 21.15it/s]"
          ]
        },
        {
          "output_type": "stream",
          "name": "stderr",
          "text": [
            "\rFold 1 Epoch 1:  59%|\u2588\u2588\u2588\u2588\u2588\u258a    | 24/41 [00:01<00:00, 21.79it/s]"
          ]
        },
        {
          "output_type": "stream",
          "name": "stdout",
          "text": [
            "Batch 20, elapsed: 1.2s\n"
          ]
        },
        {
          "output_type": "stream",
          "name": "stderr",
          "text": [
            "\rFold 1 Epoch 1:  66%|\u2588\u2588\u2588\u2588\u2588\u2588\u258c   | 27/41 [00:01<00:00, 21.93it/s]"
          ]
        },
        {
          "output_type": "stream",
          "name": "stderr",
          "text": [
            "\rFold 1 Epoch 1:  73%|\u2588\u2588\u2588\u2588\u2588\u2588\u2588\u258e  | 30/41 [00:01<00:00, 21.96it/s]"
          ]
        },
        {
          "output_type": "stream",
          "name": "stderr",
          "text": [
            "\rFold 1 Epoch 1:  80%|\u2588\u2588\u2588\u2588\u2588\u2588\u2588\u2588  | 33/41 [00:01<00:00, 22.01it/s]"
          ]
        },
        {
          "output_type": "stream",
          "name": "stdout",
          "text": [
            "Batch 30, elapsed: 1.7s\n"
          ]
        },
        {
          "output_type": "stream",
          "name": "stderr",
          "text": [
            "\rFold 1 Epoch 1:  88%|\u2588\u2588\u2588\u2588\u2588\u2588\u2588\u2588\u258a | 36/41 [00:01<00:00, 22.21it/s]"
          ]
        },
        {
          "output_type": "stream",
          "name": "stderr",
          "text": [
            "\rFold 1 Epoch 1:  95%|\u2588\u2588\u2588\u2588\u2588\u2588\u2588\u2588\u2588\u258c| 39/41 [00:02<00:00, 22.63it/s]"
          ]
        },
        {
          "output_type": "stream",
          "name": "stderr",
          "text": [
            "\rFold 1 Epoch 1: 100%|\u2588\u2588\u2588\u2588\u2588\u2588\u2588\u2588\u2588\u2588| 41/41 [00:02<00:00, 19.30it/s]"
          ]
        },
        {
          "output_type": "stream",
          "name": "stderr",
          "text": [
            "\n"
          ]
        },
        {
          "output_type": "stream",
          "name": "stdout",
          "text": [
            "Batch 40, elapsed: 2.1s\nFold 1 Epoch 1 train time: 2.1s\nFold 1 Epoch 1: Train 0.8858, Val 0.7180, val time: 0.2s\n"
          ]
        },
        {
          "output_type": "stream",
          "name": "stdout",
          "text": [
            "New best at epoch 1\n"
          ]
        },
        {
          "output_type": "stream",
          "name": "stderr",
          "text": [
            "\rFold 1 Epoch 2:   0%|          | 0/41 [00:00<?, ?it/s]"
          ]
        },
        {
          "output_type": "stream",
          "name": "stderr",
          "text": [
            "\rFold 1 Epoch 2:   7%|\u258b         | 3/41 [00:00<00:01, 22.34it/s]"
          ]
        },
        {
          "output_type": "stream",
          "name": "stdout",
          "text": [
            "Batch 0, elapsed: 0.0s\n"
          ]
        },
        {
          "output_type": "stream",
          "name": "stderr",
          "text": [
            "\rFold 1 Epoch 2:  15%|\u2588\u258d        | 6/41 [00:00<00:01, 21.98it/s]"
          ]
        },
        {
          "output_type": "stream",
          "name": "stderr",
          "text": [
            "\rFold 1 Epoch 2:  22%|\u2588\u2588\u258f       | 9/41 [00:00<00:01, 22.29it/s]"
          ]
        },
        {
          "output_type": "stream",
          "name": "stderr",
          "text": [
            "\rFold 1 Epoch 2:  29%|\u2588\u2588\u2589       | 12/41 [00:00<00:01, 22.62it/s]"
          ]
        },
        {
          "output_type": "stream",
          "name": "stderr",
          "text": [
            "\rFold 1 Epoch 2:  37%|\u2588\u2588\u2588\u258b      | 15/41 [00:00<00:01, 22.57it/s]"
          ]
        },
        {
          "output_type": "stream",
          "name": "stdout",
          "text": [
            "Batch 10, elapsed: 0.5s\n"
          ]
        },
        {
          "output_type": "stream",
          "name": "stderr",
          "text": [
            "\rFold 1 Epoch 2:  44%|\u2588\u2588\u2588\u2588\u258d     | 18/41 [00:00<00:01, 22.46it/s]"
          ]
        },
        {
          "output_type": "stream",
          "name": "stderr",
          "text": [
            "\rFold 1 Epoch 2:  51%|\u2588\u2588\u2588\u2588\u2588     | 21/41 [00:00<00:00, 22.65it/s]"
          ]
        },
        {
          "output_type": "stream",
          "name": "stderr",
          "text": [
            "\rFold 1 Epoch 2:  59%|\u2588\u2588\u2588\u2588\u2588\u258a    | 24/41 [00:01<00:00, 22.68it/s]"
          ]
        },
        {
          "output_type": "stream",
          "name": "stdout",
          "text": [
            "Batch 20, elapsed: 0.9s\n"
          ]
        },
        {
          "output_type": "stream",
          "name": "stderr",
          "text": [
            "\rFold 1 Epoch 2:  66%|\u2588\u2588\u2588\u2588\u2588\u2588\u258c   | 27/41 [00:01<00:00, 22.86it/s]"
          ]
        },
        {
          "output_type": "stream",
          "name": "stderr",
          "text": [
            "\rFold 1 Epoch 2:  73%|\u2588\u2588\u2588\u2588\u2588\u2588\u2588\u258e  | 30/41 [00:01<00:00, 22.62it/s]"
          ]
        },
        {
          "output_type": "stream",
          "name": "stderr",
          "text": [
            "\rFold 1 Epoch 2:  80%|\u2588\u2588\u2588\u2588\u2588\u2588\u2588\u2588  | 33/41 [00:01<00:00, 22.56it/s]"
          ]
        },
        {
          "output_type": "stream",
          "name": "stdout",
          "text": [
            "Batch 30, elapsed: 1.4s\n"
          ]
        },
        {
          "output_type": "stream",
          "name": "stderr",
          "text": [
            "\rFold 1 Epoch 2:  88%|\u2588\u2588\u2588\u2588\u2588\u2588\u2588\u2588\u258a | 36/41 [00:01<00:00, 22.66it/s]"
          ]
        },
        {
          "output_type": "stream",
          "name": "stderr",
          "text": [
            "\rFold 1 Epoch 2:  95%|\u2588\u2588\u2588\u2588\u2588\u2588\u2588\u2588\u2588\u258c| 39/41 [00:01<00:00, 22.68it/s]"
          ]
        },
        {
          "output_type": "stream",
          "name": "stderr",
          "text": [
            "\rFold 1 Epoch 2: 100%|\u2588\u2588\u2588\u2588\u2588\u2588\u2588\u2588\u2588\u2588| 41/41 [00:01<00:00, 22.72it/s]"
          ]
        },
        {
          "output_type": "stream",
          "name": "stdout",
          "text": [
            "New best at epoch 3\n"
          ]
        },
        {
          "output_type": "stream",
          "name": "stderr",
          "text": [
            "\rFold 1 Epoch 4:   0%|          | 0/41 [00:00<?, ?it/s]"
          ]
        },
        {
          "output_type": "stream",
          "name": "stderr",
          "text": [
            "\rFold 1 Epoch 4:   7%|\u258b         | 3/41 [00:00<00:01, 23.39it/s]"
          ]
        },
        {
          "output_type": "stream",
          "name": "stdout",
          "text": [
            "Batch 0, elapsed: 0.0s\n"
          ]
        },
        {
          "output_type": "stream",
          "name": "stderr",
          "text": [
            "\rFold 1 Epoch 4:  15%|\u2588\u258d        | 6/41 [00:00<00:01, 23.28it/s]"
          ]
        },
        {
          "output_type": "stream",
          "name": "stderr",
          "text": [
            "\rFold 1 Epoch 4:  22%|\u2588\u2588\u258f       | 9/41 [00:00<00:01, 23.07it/s]"
          ]
        },
        {
          "output_type": "stream",
          "name": "stderr",
          "text": [
            "\rFold 1 Epoch 4:  29%|\u2588\u2588\u2589       | 12/41 [00:00<00:01, 23.30it/s]"
          ]
        },
        {
          "output_type": "stream",
          "name": "stderr",
          "text": [
            "\rFold 1 Epoch 4:  37%|\u2588\u2588\u2588\u258b      | 15/41 [00:00<00:01, 22.43it/s]"
          ]
        },
        {
          "output_type": "stream",
          "name": "stdout",
          "text": [
            "Batch 10, elapsed: 0.5s\n"
          ]
        },
        {
          "output_type": "stream",
          "name": "stderr",
          "text": [
            "\rFold 1 Epoch 4:  44%|\u2588\u2588\u2588\u2588\u258d     | 18/41 [00:00<00:01, 22.23it/s]"
          ]
        },
        {
          "output_type": "stream",
          "name": "stderr",
          "text": [
            "\rFold 1 Epoch 4:  51%|\u2588\u2588\u2588\u2588\u2588     | 21/41 [00:00<00:00, 22.14it/s]"
          ]
        },
        {
          "output_type": "stream",
          "name": "stderr",
          "text": [
            "\rFold 1 Epoch 4:  59%|\u2588\u2588\u2588\u2588\u2588\u258a    | 24/41 [00:01<00:00, 21.97it/s]"
          ]
        },
        {
          "output_type": "stream",
          "name": "stdout",
          "text": [
            "Batch 20, elapsed: 0.9s\n"
          ]
        },
        {
          "output_type": "stream",
          "name": "stderr",
          "text": [
            "\rFold 1 Epoch 4:  66%|\u2588\u2588\u2588\u2588\u2588\u2588\u258c   | 27/41 [00:01<00:00, 21.93it/s]"
          ]
        },
        {
          "output_type": "stream",
          "name": "stderr",
          "text": [
            "\rFold 1 Epoch 4:  73%|\u2588\u2588\u2588\u2588\u2588\u2588\u2588\u258e  | 30/41 [00:01<00:00, 22.36it/s]"
          ]
        },
        {
          "output_type": "stream",
          "name": "stderr",
          "text": [
            "\rFold 1 Epoch 4:  80%|\u2588\u2588\u2588\u2588\u2588\u2588\u2588\u2588  | 33/41 [00:01<00:00, 22.44it/s]"
          ]
        },
        {
          "output_type": "stream",
          "name": "stdout",
          "text": [
            "Batch 30, elapsed: 1.4s\n"
          ]
        },
        {
          "output_type": "stream",
          "name": "stderr",
          "text": [
            "\rFold 1 Epoch 4:  88%|\u2588\u2588\u2588\u2588\u2588\u2588\u2588\u2588\u258a | 36/41 [00:01<00:00, 22.23it/s]"
          ]
        },
        {
          "output_type": "stream",
          "name": "stderr",
          "text": [
            "\rFold 1 Epoch 4:  95%|\u2588\u2588\u2588\u2588\u2588\u2588\u2588\u2588\u2588\u258c| 39/41 [00:01<00:00, 22.44it/s]"
          ]
        },
        {
          "output_type": "stream",
          "name": "stderr",
          "text": [
            "\rFold 1 Epoch 4: 100%|\u2588\u2588\u2588\u2588\u2588\u2588\u2588\u2588\u2588\u2588| 41/41 [00:01<00:00, 22.57it/s]"
          ]
        },
        {
          "output_type": "stream",
          "name": "stderr",
          "text": [
            "\n"
          ]
        },
        {
          "output_type": "stream",
          "name": "stdout",
          "text": [
            "Batch 40, elapsed: 1.8s\nFold 1 Epoch 4 train time: 1.8s\nFold 1 Epoch 4: Train 0.7208, Val 0.6865, val time: 0.2s\n"
          ]
        },
        {
          "output_type": "stream",
          "name": "stdout",
          "text": [
            "New best at epoch 4\n"
          ]
        },
        {
          "output_type": "stream",
          "name": "stderr",
          "text": [
            "\rFold 1 Epoch 5:   0%|          | 0/41 [00:00<?, ?it/s]"
          ]
        },
        {
          "output_type": "stream",
          "name": "stderr",
          "text": [
            "\rFold 1 Epoch 5:   7%|\u258b         | 3/41 [00:00<00:01, 23.26it/s]"
          ]
        },
        {
          "output_type": "stream",
          "name": "stdout",
          "text": [
            "Batch 0, elapsed: 0.0s\n"
          ]
        },
        {
          "output_type": "stream",
          "name": "stderr",
          "text": [
            "\rFold 1 Epoch 5:  15%|\u2588\u258d        | 6/41 [00:00<00:01, 23.15it/s]"
          ]
        },
        {
          "output_type": "stream",
          "name": "stderr",
          "text": [
            "\rFold 1 Epoch 5:  22%|\u2588\u2588\u258f       | 9/41 [00:00<00:01, 22.78it/s]"
          ]
        },
        {
          "output_type": "stream",
          "name": "stderr",
          "text": [
            "\rFold 1 Epoch 5:  29%|\u2588\u2588\u2589       | 12/41 [00:00<00:01, 22.70it/s]"
          ]
        },
        {
          "output_type": "stream",
          "name": "stderr",
          "text": [
            "\rFold 1 Epoch 5:  37%|\u2588\u2588\u2588\u258b      | 15/41 [00:00<00:01, 22.41it/s]"
          ]
        },
        {
          "output_type": "stream",
          "name": "stdout",
          "text": [
            "Batch 10, elapsed: 0.5s\n"
          ]
        },
        {
          "output_type": "stream",
          "name": "stderr",
          "text": [
            "\rFold 1 Epoch 5:  44%|\u2588\u2588\u2588\u2588\u258d     | 18/41 [00:00<00:01, 22.44it/s]"
          ]
        },
        {
          "output_type": "stream",
          "name": "stderr",
          "text": [
            "\rFold 1 Epoch 5:  51%|\u2588\u2588\u2588\u2588\u2588     | 21/41 [00:00<00:00, 22.48it/s]"
          ]
        },
        {
          "output_type": "stream",
          "name": "stderr",
          "text": [
            "\rFold 1 Epoch 5:  59%|\u2588\u2588\u2588\u2588\u2588\u258a    | 24/41 [00:01<00:00, 22.77it/s]"
          ]
        },
        {
          "output_type": "stream",
          "name": "stdout",
          "text": [
            "Batch 20, elapsed: 0.9s\n"
          ]
        },
        {
          "output_type": "stream",
          "name": "stderr",
          "text": [
            "\rFold 1 Epoch 5:  66%|\u2588\u2588\u2588\u2588\u2588\u2588\u258c   | 27/41 [00:01<00:00, 23.12it/s]"
          ]
        },
        {
          "output_type": "stream",
          "name": "stderr",
          "text": [
            "\rFold 1 Epoch 5:  73%|\u2588\u2588\u2588\u2588\u2588\u2588\u2588\u258e  | 30/41 [00:01<00:00, 23.44it/s]"
          ]
        },
        {
          "output_type": "stream",
          "name": "stderr",
          "text": [
            "\rFold 1 Epoch 5:  80%|\u2588\u2588\u2588\u2588\u2588\u2588\u2588\u2588  | 33/41 [00:01<00:00, 23.30it/s]"
          ]
        },
        {
          "output_type": "stream",
          "name": "stdout",
          "text": [
            "Batch 30, elapsed: 1.3s\n"
          ]
        },
        {
          "output_type": "stream",
          "name": "stderr",
          "text": [
            "\rFold 1 Epoch 5:  88%|\u2588\u2588\u2588\u2588\u2588\u2588\u2588\u2588\u258a | 36/41 [00:01<00:00, 23.22it/s]"
          ]
        },
        {
          "output_type": "stream",
          "name": "stderr",
          "text": [
            "\rFold 1 Epoch 5:  95%|\u2588\u2588\u2588\u2588\u2588\u2588\u2588\u2588\u2588\u258c| 39/41 [00:01<00:00, 23.24it/s]"
          ]
        },
        {
          "output_type": "stream",
          "name": "stderr",
          "text": [
            "\rFold 1 Epoch 5: 100%|\u2588\u2588\u2588\u2588\u2588\u2588\u2588\u2588\u2588\u2588| 41/41 [00:01<00:00, 23.11it/s]"
          ]
        },
        {
          "output_type": "stream",
          "name": "stderr",
          "text": [
            "\n"
          ]
        },
        {
          "output_type": "stream",
          "name": "stdout",
          "text": [
            "Batch 40, elapsed: 1.8s\nFold 1 Epoch 5 train time: 1.8s\nFold 1 Epoch 5: Train 0.7478, Val 0.6878, val time: 0.2s\n"
          ]
        },
        {
          "output_type": "stream",
          "name": "stderr",
          "text": [
            "\rFold 1 Epoch 6:   0%|          | 0/41 [00:00<?, ?it/s]"
          ]
        },
        {
          "output_type": "stream",
          "name": "stderr",
          "text": [
            "\rFold 1 Epoch 6:   7%|\u258b         | 3/41 [00:00<00:01, 22.46it/s]"
          ]
        },
        {
          "output_type": "stream",
          "name": "stdout",
          "text": [
            "Batch 0, elapsed: 0.0s\n"
          ]
        },
        {
          "output_type": "stream",
          "name": "stderr",
          "text": [
            "\rFold 1 Epoch 6:  15%|\u2588\u258d        | 6/41 [00:00<00:01, 23.04it/s]"
          ]
        },
        {
          "output_type": "stream",
          "name": "stderr",
          "text": [
            "\rFold 1 Epoch 6:  22%|\u2588\u2588\u258f       | 9/41 [00:00<00:01, 23.04it/s]"
          ]
        },
        {
          "output_type": "stream",
          "name": "stderr",
          "text": [
            "\rFold 1 Epoch 6:  29%|\u2588\u2588\u2589       | 12/41 [00:00<00:01, 23.12it/s]"
          ]
        },
        {
          "output_type": "stream",
          "name": "stderr",
          "text": [
            "\rFold 1 Epoch 6:  37%|\u2588\u2588\u2588\u258b      | 15/41 [00:00<00:01, 23.45it/s]"
          ]
        },
        {
          "output_type": "stream",
          "name": "stdout",
          "text": [
            "Batch 10, elapsed: 0.5s\n"
          ]
        },
        {
          "output_type": "stream",
          "name": "stderr",
          "text": [
            "\rFold 1 Epoch 6:  44%|\u2588\u2588\u2588\u2588\u258d     | 18/41 [00:00<00:00, 23.24it/s]"
          ]
        },
        {
          "output_type": "stream",
          "name": "stderr",
          "text": [
            "\rFold 1 Epoch 6:  51%|\u2588\u2588\u2588\u2588\u2588     | 21/41 [00:00<00:00, 23.44it/s]"
          ]
        },
        {
          "output_type": "stream",
          "name": "stderr",
          "text": [
            "\rFold 1 Epoch 6:  59%|\u2588\u2588\u2588\u2588\u2588\u258a    | 24/41 [00:01<00:00, 23.61it/s]"
          ]
        },
        {
          "output_type": "stream",
          "name": "stdout",
          "text": [
            "Batch 20, elapsed: 0.9s\n"
          ]
        },
        {
          "output_type": "stream",
          "name": "stderr",
          "text": [
            "\rFold 1 Epoch 6:  66%|\u2588\u2588\u2588\u2588\u2588\u2588\u258c   | 27/41 [00:01<00:00, 23.26it/s]"
          ]
        },
        {
          "output_type": "stream",
          "name": "stderr",
          "text": [
            "\rFold 1 Epoch 6:  73%|\u2588\u2588\u2588\u2588\u2588\u2588\u2588\u258e  | 30/41 [00:01<00:00, 23.28it/s]"
          ]
        },
        {
          "output_type": "stream",
          "name": "stderr",
          "text": [
            "\rFold 1 Epoch 6:  80%|\u2588\u2588\u2588\u2588\u2588\u2588\u2588\u2588  | 33/41 [00:01<00:00, 22.99it/s]"
          ]
        },
        {
          "output_type": "stream",
          "name": "stdout",
          "text": [
            "Batch 30, elapsed: 1.3s\n"
          ]
        },
        {
          "output_type": "stream",
          "name": "stderr",
          "text": [
            "\rFold 1 Epoch 6:  88%|\u2588\u2588\u2588\u2588\u2588\u2588\u2588\u2588\u258a | 36/41 [00:01<00:00, 22.88it/s]"
          ]
        },
        {
          "output_type": "stream",
          "name": "stderr",
          "text": [
            "\rFold 1 Epoch 6:  95%|\u2588\u2588\u2588\u2588\u2588\u2588\u2588\u2588\u2588\u258c| 39/41 [00:01<00:00, 23.03it/s]"
          ]
        },
        {
          "output_type": "stream",
          "name": "stderr",
          "text": [
            "\rFold 1 Epoch 6: 100%|\u2588\u2588\u2588\u2588\u2588\u2588\u2588\u2588\u2588\u2588| 41/41 [00:01<00:00, 23.25it/s]"
          ]
        },
        {
          "output_type": "stream",
          "name": "stderr",
          "text": [
            "\n"
          ]
        },
        {
          "output_type": "stream",
          "name": "stdout",
          "text": [
            "Batch 40, elapsed: 1.8s\nFold 1 Epoch 6 train time: 1.8s\nFold 1 Epoch 6: Train 0.7258, Val 0.7107, val time: 0.2s\n"
          ]
        },
        {
          "output_type": "stream",
          "name": "stderr",
          "text": [
            "\rFold 1 Epoch 7:   0%|          | 0/41 [00:00<?, ?it/s]"
          ]
        },
        {
          "output_type": "stream",
          "name": "stderr",
          "text": [
            "\rFold 1 Epoch 7:   7%|\u258b         | 3/41 [00:00<00:01, 21.44it/s]"
          ]
        },
        {
          "output_type": "stream",
          "name": "stdout",
          "text": [
            "Batch 0, elapsed: 0.0s\n"
          ]
        },
        {
          "output_type": "stream",
          "name": "stderr",
          "text": [
            "\rFold 1 Epoch 7:  15%|\u2588\u258d        | 6/41 [00:00<00:01, 21.65it/s]"
          ]
        },
        {
          "output_type": "stream",
          "name": "stderr",
          "text": [
            "\rFold 1 Epoch 7:  22%|\u2588\u2588\u258f       | 9/41 [00:00<00:01, 21.79it/s]"
          ]
        },
        {
          "output_type": "stream",
          "name": "stderr",
          "text": [
            "\rFold 1 Epoch 7:  29%|\u2588\u2588\u2589       | 12/41 [00:00<00:01, 22.15it/s]"
          ]
        },
        {
          "output_type": "stream",
          "name": "stderr",
          "text": [
            "\rFold 1 Epoch 7:  37%|\u2588\u2588\u2588\u258b      | 15/41 [00:00<00:01, 22.21it/s]"
          ]
        },
        {
          "output_type": "stream",
          "name": "stdout",
          "text": [
            "Batch 10, elapsed: 0.5s\n"
          ]
        },
        {
          "output_type": "stream",
          "name": "stderr",
          "text": [
            "\rFold 1 Epoch 7:  44%|\u2588\u2588\u2588\u2588\u258d     | 18/41 [00:00<00:01, 22.32it/s]"
          ]
        },
        {
          "output_type": "stream",
          "name": "stderr",
          "text": [
            "\rFold 1 Epoch 7:  51%|\u2588\u2588\u2588\u2588\u2588     | 21/41 [00:00<00:00, 22.75it/s]"
          ]
        },
        {
          "output_type": "stream",
          "name": "stderr",
          "text": [
            "\rFold 1 Epoch 7:  59%|\u2588\u2588\u2588\u2588\u2588\u258a    | 24/41 [00:01<00:00, 22.55it/s]"
          ]
        },
        {
          "output_type": "stream",
          "name": "stdout",
          "text": [
            "Batch 20, elapsed: 0.9s\n"
          ]
        },
        {
          "output_type": "stream",
          "name": "stderr",
          "text": [
            "\rFold 1 Epoch 7:  66%|\u2588\u2588\u2588\u2588\u2588\u2588\u258c   | 27/41 [00:01<00:00, 22.58it/s]"
          ]
        },
        {
          "output_type": "stream",
          "name": "stderr",
          "text": [
            "\rFold 1 Epoch 7:  73%|\u2588\u2588\u2588\u2588\u2588\u2588\u2588\u258e  | 30/41 [00:01<00:00, 22.59it/s]"
          ]
        },
        {
          "output_type": "stream",
          "name": "stderr",
          "text": [
            "\rFold 1 Epoch 7:  80%|\u2588\u2588\u2588\u2588\u2588\u2588\u2588\u2588  | 33/41 [00:01<00:00, 22.39it/s]"
          ]
        },
        {
          "output_type": "stream",
          "name": "stdout",
          "text": [
            "Batch 30, elapsed: 1.4s\n"
          ]
        },
        {
          "output_type": "stream",
          "name": "stderr",
          "text": [
            "\rFold 1 Epoch 7:  88%|\u2588\u2588\u2588\u2588\u2588\u2588\u2588\u2588\u258a | 36/41 [00:01<00:00, 22.57it/s]"
          ]
        },
        {
          "output_type": "stream",
          "name": "stderr",
          "text": [
            "\rFold 1 Epoch 7:  95%|\u2588\u2588\u2588\u2588\u2588\u2588\u2588\u2588\u2588\u258c| 39/41 [00:01<00:00, 22.82it/s]"
          ]
        },
        {
          "output_type": "stream",
          "name": "stderr",
          "text": [
            "\rFold 1 Epoch 7: 100%|\u2588\u2588\u2588\u2588\u2588\u2588\u2588\u2588\u2588\u2588| 41/41 [00:01<00:00, 22.57it/s]"
          ]
        },
        {
          "output_type": "stream",
          "name": "stderr",
          "text": [
            "\n"
          ]
        },
        {
          "output_type": "stream",
          "name": "stdout",
          "text": [
            "Batch 40, elapsed: 1.8s\nFold 1 Epoch 7 train time: 1.8s\nFold 1 Epoch 7: Train 0.7282, Val 0.6802, val time: 0.2s\n"
          ]
        },
        {
          "output_type": "stream",
          "name": "stdout",
          "text": [
            "New best at epoch 7\n"
          ]
        },
        {
          "output_type": "stream",
          "name": "stderr",
          "text": [
            "\rFold 1 Epoch 8:   0%|          | 0/41 [00:00<?, ?it/s]"
          ]
        },
        {
          "output_type": "stream",
          "name": "stderr",
          "text": [
            "\rFold 1 Epoch 8:   7%|\u258b         | 3/41 [00:00<00:01, 22.96it/s]"
          ]
        },
        {
          "output_type": "stream",
          "name": "stdout",
          "text": [
            "Batch 0, elapsed: 0.0s\n"
          ]
        },
        {
          "output_type": "stream",
          "name": "stderr",
          "text": [
            "\rFold 1 Epoch 8:  15%|\u2588\u258d        | 6/41 [00:00<00:01, 22.90it/s]"
          ]
        },
        {
          "output_type": "stream",
          "name": "stderr",
          "text": [
            "\rFold 1 Epoch 8:  22%|\u2588\u2588\u258f       | 9/41 [00:00<00:01, 22.61it/s]"
          ]
        },
        {
          "output_type": "stream",
          "name": "stderr",
          "text": [
            "\rFold 1 Epoch 8:  29%|\u2588\u2588\u2589       | 12/41 [00:00<00:01, 22.18it/s]"
          ]
        },
        {
          "output_type": "stream",
          "name": "stderr",
          "text": [
            "\rFold 1 Epoch 8:  37%|\u2588\u2588\u2588\u258b      | 15/41 [00:00<00:01, 22.25it/s]"
          ]
        },
        {
          "output_type": "stream",
          "name": "stdout",
          "text": [
            "Batch 10, elapsed: 0.5s\n"
          ]
        },
        {
          "output_type": "stream",
          "name": "stderr",
          "text": [
            "\rFold 1 Epoch 8:  44%|\u2588\u2588\u2588\u2588\u258d     | 18/41 [00:00<00:01, 22.33it/s]"
          ]
        },
        {
          "output_type": "stream",
          "name": "stderr",
          "text": [
            "\rFold 1 Epoch 8:  51%|\u2588\u2588\u2588\u2588\u2588     | 21/41 [00:00<00:00, 22.60it/s]"
          ]
        },
        {
          "output_type": "stream",
          "name": "stderr",
          "text": [
            "\rFold 1 Epoch 8:  59%|\u2588\u2588\u2588\u2588\u2588\u258a    | 24/41 [00:01<00:00, 22.68it/s]"
          ]
        },
        {
          "output_type": "stream",
          "name": "stdout",
          "text": [
            "Batch 20, elapsed: 0.9s\n"
          ]
        },
        {
          "output_type": "stream",
          "name": "stderr",
          "text": [
            "\rFold 1 Epoch 8:  66%|\u2588\u2588\u2588\u2588\u2588\u2588\u258c   | 27/41 [00:01<00:00, 22.74it/s]"
          ]
        },
        {
          "output_type": "stream",
          "name": "stderr",
          "text": [
            "\rFold 1 Epoch 8:  73%|\u2588\u2588\u2588\u2588\u2588\u2588\u2588\u258e  | 30/41 [00:01<00:00, 22.49it/s]"
          ]
        },
        {
          "output_type": "stream",
          "name": "stderr",
          "text": [
            "\rFold 1 Epoch 8:  80%|\u2588\u2588\u2588\u2588\u2588\u2588\u2588\u2588  | 33/41 [00:01<00:00, 22.40it/s]"
          ]
        },
        {
          "output_type": "stream",
          "name": "stdout",
          "text": [
            "Batch 30, elapsed: 1.4s\n"
          ]
        },
        {
          "output_type": "stream",
          "name": "stderr",
          "text": [
            "\rFold 1 Epoch 8:  88%|\u2588\u2588\u2588\u2588\u2588\u2588\u2588\u2588\u258a | 36/41 [00:01<00:00, 22.66it/s]"
          ]
        },
        {
          "output_type": "stream",
          "name": "stderr",
          "text": [
            "\rFold 1 Epoch 8:  95%|\u2588\u2588\u2588\u2588\u2588\u2588\u2588\u2588\u2588\u258c| 39/41 [00:01<00:00, 22.59it/s]"
          ]
        },
        {
          "output_type": "stream",
          "name": "stderr",
          "text": [
            "\rFold 1 Epoch 8: 100%|\u2588\u2588\u2588\u2588\u2588\u2588\u2588\u2588\u2588\u2588| 41/41 [00:01<00:00, 22.58it/s]"
          ]
        },
        {
          "output_type": "stream",
          "name": "stderr",
          "text": [
            "\n"
          ]
        },
        {
          "output_type": "stream",
          "name": "stdout",
          "text": [
            "Batch 40, elapsed: 1.8s\nFold 1 Epoch 8 train time: 1.8s\nFold 1 Epoch 8: Train 0.7007, Val 0.6848, val time: 0.2s\n"
          ]
        },
        {
          "output_type": "stream",
          "name": "stderr",
          "text": [
            "\rFold 1 Epoch 9:   0%|          | 0/41 [00:00<?, ?it/s]"
          ]
        },
        {
          "output_type": "stream",
          "name": "stderr",
          "text": [
            "\rFold 1 Epoch 9:   7%|\u258b         | 3/41 [00:00<00:01, 22.79it/s]"
          ]
        },
        {
          "output_type": "stream",
          "name": "stdout",
          "text": [
            "Batch 0, elapsed: 0.0s\n"
          ]
        },
        {
          "output_type": "stream",
          "name": "stderr",
          "text": [
            "\rFold 1 Epoch 9:  15%|\u2588\u258d        | 6/41 [00:00<00:01, 22.93it/s]"
          ]
        },
        {
          "output_type": "stream",
          "name": "stderr",
          "text": [
            "\rFold 1 Epoch 9:  22%|\u2588\u2588\u258f       | 9/41 [00:00<00:01, 22.61it/s]"
          ]
        },
        {
          "output_type": "stream",
          "name": "stderr",
          "text": [
            "\rFold 1 Epoch 9:  29%|\u2588\u2588\u2589       | 12/41 [00:00<00:01, 22.52it/s]"
          ]
        },
        {
          "output_type": "stream",
          "name": "stderr",
          "text": [
            "\rFold 1 Epoch 9:  37%|\u2588\u2588\u2588\u258b      | 15/41 [00:00<00:01, 22.71it/s]"
          ]
        },
        {
          "output_type": "stream",
          "name": "stdout",
          "text": [
            "Batch 10, elapsed: 0.5s\n"
          ]
        },
        {
          "output_type": "stream",
          "name": "stderr",
          "text": [
            "\rFold 1 Epoch 9:  44%|\u2588\u2588\u2588\u2588\u258d     | 18/41 [00:00<00:01, 22.80it/s]"
          ]
        },
        {
          "output_type": "stream",
          "name": "stderr",
          "text": [
            "\rFold 1 Epoch 9:  51%|\u2588\u2588\u2588\u2588\u2588     | 21/41 [00:00<00:00, 22.49it/s]"
          ]
        },
        {
          "output_type": "stream",
          "name": "stderr",
          "text": [
            "\rFold 1 Epoch 9:  59%|\u2588\u2588\u2588\u2588\u2588\u258a    | 24/41 [00:01<00:00, 22.44it/s]"
          ]
        },
        {
          "output_type": "stream",
          "name": "stdout",
          "text": [
            "Batch 20, elapsed: 0.9s\n"
          ]
        },
        {
          "output_type": "stream",
          "name": "stderr",
          "text": [
            "\rFold 1 Epoch 9:  66%|\u2588\u2588\u2588\u2588\u2588\u2588\u258c   | 27/41 [00:01<00:00, 22.69it/s]"
          ]
        },
        {
          "output_type": "stream",
          "name": "stderr",
          "text": [
            "\rFold 1 Epoch 9:  73%|\u2588\u2588\u2588\u2588\u2588\u2588\u2588\u258e  | 30/41 [00:01<00:00, 22.93it/s]"
          ]
        },
        {
          "output_type": "stream",
          "name": "stderr",
          "text": [
            "\rFold 1 Epoch 9:  80%|\u2588\u2588\u2588\u2588\u2588\u2588\u2588\u2588  | 33/41 [00:01<00:00, 22.71it/s]"
          ]
        },
        {
          "output_type": "stream",
          "name": "stdout",
          "text": [
            "Batch 30, elapsed: 1.4s\n"
          ]
        },
        {
          "output_type": "stream",
          "name": "stderr",
          "text": [
            "\rFold 1 Epoch 9:  88%|\u2588\u2588\u2588\u2588\u2588\u2588\u2588\u2588\u258a | 36/41 [00:01<00:00, 22.49it/s]"
          ]
        },
        {
          "output_type": "stream",
          "name": "stderr",
          "text": [
            "\rFold 1 Epoch 9:  95%|\u2588\u2588\u2588\u2588\u2588\u2588\u2588\u2588\u2588\u258c| 39/41 [00:01<00:00, 22.54it/s]"
          ]
        },
        {
          "output_type": "stream",
          "name": "stderr",
          "text": [
            "\rFold 1 Epoch 9: 100%|\u2588\u2588\u2588\u2588\u2588\u2588\u2588\u2588\u2588\u2588| 41/41 [00:01<00:00, 22.72it/s]"
          ]
        },
        {
          "output_type": "stream",
          "name": "stderr",
          "text": [
            "\n"
          ]
        },
        {
          "output_type": "stream",
          "name": "stdout",
          "text": [
            "Batch 40, elapsed: 1.8s\nFold 1 Epoch 9 train time: 1.8s\nFold 1 Epoch 9: Train 0.7390, Val 0.6762, val time: 0.2s\n"
          ]
        },
        {
          "output_type": "stream",
          "name": "stdout",
          "text": [
            "New best at epoch 9\n"
          ]
        },
        {
          "output_type": "stream",
          "name": "stderr",
          "text": [
            "\rFold 1 Epoch 10:   0%|          | 0/41 [00:00<?, ?it/s]"
          ]
        },
        {
          "output_type": "stream",
          "name": "stderr",
          "text": [
            "\rFold 1 Epoch 10:   7%|\u258b         | 3/41 [00:00<00:01, 22.64it/s]"
          ]
        },
        {
          "output_type": "stream",
          "name": "stdout",
          "text": [
            "Batch 0, elapsed: 0.0s\n"
          ]
        },
        {
          "output_type": "stream",
          "name": "stderr",
          "text": [
            "\rFold 1 Epoch 10:  15%|\u2588\u258d        | 6/41 [00:00<00:01, 22.40it/s]"
          ]
        },
        {
          "output_type": "stream",
          "name": "stderr",
          "text": [
            "\rFold 1 Epoch 10:  22%|\u2588\u2588\u258f       | 9/41 [00:00<00:01, 22.26it/s]"
          ]
        },
        {
          "output_type": "stream",
          "name": "stderr",
          "text": [
            "\rFold 1 Epoch 10:  29%|\u2588\u2588\u2589       | 12/41 [00:00<00:01, 22.32it/s]"
          ]
        },
        {
          "output_type": "stream",
          "name": "stderr",
          "text": [
            "\rFold 1 Epoch 10:  37%|\u2588\u2588\u2588\u258b      | 15/41 [00:00<00:01, 23.00it/s]"
          ]
        },
        {
          "output_type": "stream",
          "name": "stdout",
          "text": [
            "Batch 10, elapsed: 0.5s\n"
          ]
        },
        {
          "output_type": "stream",
          "name": "stderr",
          "text": [
            "\rFold 1 Epoch 10:  44%|\u2588\u2588\u2588\u2588\u258d     | 18/41 [00:00<00:00, 23.34it/s]"
          ]
        },
        {
          "output_type": "stream",
          "name": "stderr",
          "text": [
            "\rFold 1 Epoch 10:  51%|\u2588\u2588\u2588\u2588\u2588     | 21/41 [00:00<00:00, 23.29it/s]"
          ]
        },
        {
          "output_type": "stream",
          "name": "stderr",
          "text": [
            "\rFold 1 Epoch 10:  59%|\u2588\u2588\u2588\u2588\u2588\u258a    | 24/41 [00:01<00:00, 22.95it/s]"
          ]
        },
        {
          "output_type": "stream",
          "name": "stdout",
          "text": [
            "Batch 20, elapsed: 0.9s\n"
          ]
        },
        {
          "output_type": "stream",
          "name": "stderr",
          "text": [
            "\rFold 1 Epoch 10:  66%|\u2588\u2588\u2588\u2588\u2588\u2588\u258c   | 27/41 [00:01<00:00, 23.02it/s]"
          ]
        },
        {
          "output_type": "stream",
          "name": "stderr",
          "text": [
            "\rFold 1 Epoch 10:  73%|\u2588\u2588\u2588\u2588\u2588\u2588\u2588\u258e  | 30/41 [00:01<00:00, 22.92it/s]"
          ]
        },
        {
          "output_type": "stream",
          "name": "stderr",
          "text": [
            "\rFold 1 Epoch 10:  80%|\u2588\u2588\u2588\u2588\u2588\u2588\u2588\u2588  | 33/41 [00:01<00:00, 22.64it/s]"
          ]
        },
        {
          "output_type": "stream",
          "name": "stdout",
          "text": [
            "Batch 30, elapsed: 1.4s\n"
          ]
        },
        {
          "output_type": "stream",
          "name": "stderr",
          "text": [
            "\rFold 1 Epoch 10:  88%|\u2588\u2588\u2588\u2588\u2588\u2588\u2588\u2588\u258a | 36/41 [00:01<00:00, 22.53it/s]"
          ]
        },
        {
          "output_type": "stream",
          "name": "stderr",
          "text": [
            "\rFold 1 Epoch 10:  95%|\u2588\u2588\u2588\u2588\u2588\u2588\u2588\u2588\u2588\u258c| 39/41 [00:01<00:00, 22.72it/s]"
          ]
        },
        {
          "output_type": "stream",
          "name": "stderr",
          "text": [
            "\rFold 1 Epoch 10: 100%|\u2588\u2588\u2588\u2588\u2588\u2588\u2588\u2588\u2588\u2588| 41/41 [00:01<00:00, 22.87it/s]"
          ]
        },
        {
          "output_type": "stream",
          "name": "stderr",
          "text": [
            "\n"
          ]
        },
        {
          "output_type": "stream",
          "name": "stdout",
          "text": [
            "Batch 40, elapsed: 1.8s\nFold 1 Epoch 10 train time: 1.8s\nFold 1 Epoch 10: Train 0.7079, Val 0.6811, val time: 0.2s\n"
          ]
        },
        {
          "output_type": "stream",
          "name": "stderr",
          "text": [
            "\rFold 1 Epoch 11:   0%|          | 0/41 [00:00<?, ?it/s]"
          ]
        },
        {
          "output_type": "stream",
          "name": "stderr",
          "text": [
            "\rFold 1 Epoch 11:   7%|\u258b         | 3/41 [00:00<00:01, 23.10it/s]"
          ]
        },
        {
          "output_type": "stream",
          "name": "stdout",
          "text": [
            "Batch 0, elapsed: 0.0s\n"
          ]
        },
        {
          "output_type": "stream",
          "name": "stderr",
          "text": [
            "\rFold 1 Epoch 11:  15%|\u2588\u258d        | 6/41 [00:00<00:01, 23.44it/s]"
          ]
        },
        {
          "output_type": "stream",
          "name": "stderr",
          "text": [
            "\rFold 1 Epoch 11:  22%|\u2588\u2588\u258f       | 9/41 [00:00<00:01, 23.41it/s]"
          ]
        },
        {
          "output_type": "stream",
          "name": "stderr",
          "text": [
            "\rFold 1 Epoch 11:  29%|\u2588\u2588\u2589       | 12/41 [00:00<00:01, 22.98it/s]"
          ]
        },
        {
          "output_type": "stream",
          "name": "stderr",
          "text": [
            "\rFold 1 Epoch 11:  37%|\u2588\u2588\u2588\u258b      | 15/41 [00:00<00:01, 22.92it/s]"
          ]
        },
        {
          "output_type": "stream",
          "name": "stdout",
          "text": [
            "Batch 10, elapsed: 0.5s\n"
          ]
        },
        {
          "output_type": "stream",
          "name": "stderr",
          "text": [
            "\rFold 1 Epoch 11:  44%|\u2588\u2588\u2588\u2588\u258d     | 18/41 [00:00<00:01, 22.99it/s]"
          ]
        },
        {
          "output_type": "stream",
          "name": "stderr",
          "text": [
            "\rFold 1 Epoch 11:  51%|\u2588\u2588\u2588\u2588\u2588     | 21/41 [00:00<00:00, 22.87it/s]"
          ]
        },
        {
          "output_type": "stream",
          "name": "stderr",
          "text": [
            "\rFold 1 Epoch 11:  59%|\u2588\u2588\u2588\u2588\u2588\u258a    | 24/41 [00:01<00:00, 23.03it/s]"
          ]
        },
        {
          "output_type": "stream",
          "name": "stdout",
          "text": [
            "Batch 20, elapsed: 0.9s\n"
          ]
        },
        {
          "output_type": "stream",
          "name": "stderr",
          "text": [
            "\rFold 1 Epoch 11:  66%|\u2588\u2588\u2588\u2588\u2588\u2588\u258c   | 27/41 [00:01<00:00, 23.23it/s]"
          ]
        },
        {
          "output_type": "stream",
          "name": "stderr",
          "text": [
            "\rFold 1 Epoch 11:  73%|\u2588\u2588\u2588\u2588\u2588\u2588\u2588\u258e  | 30/41 [00:01<00:00, 23.08it/s]"
          ]
        },
        {
          "output_type": "stream",
          "name": "stderr",
          "text": [
            "\rFold 1 Epoch 11:  80%|\u2588\u2588\u2588\u2588\u2588\u2588\u2588\u2588  | 33/41 [00:01<00:00, 23.08it/s]"
          ]
        },
        {
          "output_type": "stream",
          "name": "stdout",
          "text": [
            "Batch 30, elapsed: 1.3s\n"
          ]
        },
        {
          "output_type": "stream",
          "name": "stderr",
          "text": [
            "\rFold 1 Epoch 11:  88%|\u2588\u2588\u2588\u2588\u2588\u2588\u2588\u2588\u258a | 36/41 [00:01<00:00, 22.64it/s]"
          ]
        },
        {
          "output_type": "stream",
          "name": "stderr",
          "text": [
            "\rFold 1 Epoch 11:  95%|\u2588\u2588\u2588\u2588\u2588\u2588\u2588\u2588\u2588\u258c| 39/41 [00:01<00:00, 22.75it/s]"
          ]
        },
        {
          "output_type": "stream",
          "name": "stderr",
          "text": [
            "\rFold 1 Epoch 11: 100%|\u2588\u2588\u2588\u2588\u2588\u2588\u2588\u2588\u2588\u2588| 41/41 [00:01<00:00, 23.00it/s]"
          ]
        },
        {
          "output_type": "stream",
          "name": "stderr",
          "text": [
            "\n"
          ]
        },
        {
          "output_type": "stream",
          "name": "stdout",
          "text": [
            "Batch 40, elapsed: 1.8s\nFold 1 Epoch 11 train time: 1.8s\nFold 1 Epoch 11: Train 0.7052, Val 0.6798, val time: 0.2s\n"
          ]
        },
        {
          "output_type": "stream",
          "name": "stderr",
          "text": [
            "\rFold 1 Epoch 12:   0%|          | 0/41 [00:00<?, ?it/s]"
          ]
        },
        {
          "output_type": "stream",
          "name": "stderr",
          "text": [
            "\rFold 1 Epoch 12:   7%|\u258b         | 3/41 [00:00<00:01, 23.32it/s]"
          ]
        },
        {
          "output_type": "stream",
          "name": "stdout",
          "text": [
            "Batch 0, elapsed: 0.0s\n"
          ]
        },
        {
          "output_type": "stream",
          "name": "stderr",
          "text": [
            "\rFold 1 Epoch 12:  15%|\u2588\u258d        | 6/41 [00:00<00:01, 22.61it/s]"
          ]
        },
        {
          "output_type": "stream",
          "name": "stderr",
          "text": [
            "\rFold 1 Epoch 12:  22%|\u2588\u2588\u258f       | 9/41 [00:00<00:01, 22.82it/s]"
          ]
        },
        {
          "output_type": "stream",
          "name": "stderr",
          "text": [
            "\rFold 1 Epoch 12:  29%|\u2588\u2588\u2589       | 12/41 [00:00<00:01, 22.69it/s]"
          ]
        },
        {
          "output_type": "stream",
          "name": "stderr",
          "text": [
            "\rFold 1 Epoch 12:  37%|\u2588\u2588\u2588\u258b      | 15/41 [00:00<00:01, 22.50it/s]"
          ]
        },
        {
          "output_type": "stream",
          "name": "stdout",
          "text": [
            "Batch 10, elapsed: 0.5s\n"
          ]
        },
        {
          "output_type": "stream",
          "name": "stderr",
          "text": [
            "\rFold 1 Epoch 12:  44%|\u2588\u2588\u2588\u2588\u258d     | 18/41 [00:00<00:01, 22.47it/s]"
          ]
        },
        {
          "output_type": "stream",
          "name": "stderr",
          "text": [
            "\rFold 1 Epoch 12:  51%|\u2588\u2588\u2588\u2588\u2588     | 21/41 [00:00<00:00, 22.45it/s]"
          ]
        },
        {
          "output_type": "stream",
          "name": "stderr",
          "text": [
            "\rFold 1 Epoch 12:  59%|\u2588\u2588\u2588\u2588\u2588\u258a    | 24/41 [00:01<00:00, 22.62it/s]"
          ]
        },
        {
          "output_type": "stream",
          "name": "stdout",
          "text": [
            "Batch 20, elapsed: 0.9s\n"
          ]
        },
        {
          "output_type": "stream",
          "name": "stderr",
          "text": [
            "\rFold 1 Epoch 12:  66%|\u2588\u2588\u2588\u2588\u2588\u2588\u258c   | 27/41 [00:01<00:00, 22.52it/s]"
          ]
        },
        {
          "output_type": "stream",
          "name": "stderr",
          "text": [
            "\rFold 1 Epoch 12:  73%|\u2588\u2588\u2588\u2588\u2588\u2588\u2588\u258e  | 30/41 [00:01<00:00, 22.93it/s]"
          ]
        },
        {
          "output_type": "stream",
          "name": "stderr",
          "text": [
            "\rFold 1 Epoch 12:  80%|\u2588\u2588\u2588\u2588\u2588\u2588\u2588\u2588  | 33/41 [00:01<00:00, 22.64it/s]"
          ]
        },
        {
          "output_type": "stream",
          "name": "stdout",
          "text": [
            "Batch 30, elapsed: 1.4s\n"
          ]
        },
        {
          "output_type": "stream",
          "name": "stderr",
          "text": [
            "\rFold 1 Epoch 12:  88%|\u2588\u2588\u2588\u2588\u2588\u2588\u2588\u2588\u258a | 36/41 [00:01<00:00, 22.54it/s]"
          ]
        },
        {
          "output_type": "stream",
          "name": "stderr",
          "text": [
            "\rFold 1 Epoch 12:  95%|\u2588\u2588\u2588\u2588\u2588\u2588\u2588\u2588\u2588\u258c| 39/41 [00:01<00:00, 22.69it/s]"
          ]
        },
        {
          "output_type": "stream",
          "name": "stderr",
          "text": [
            "\rFold 1 Epoch 12: 100%|\u2588\u2588\u2588\u2588\u2588\u2588\u2588\u2588\u2588\u2588| 41/41 [00:01<00:00, 22.77it/s]"
          ]
        },
        {
          "output_type": "stream",
          "name": "stderr",
          "text": [
            "\n"
          ]
        },
        {
          "output_type": "stream",
          "name": "stdout",
          "text": [
            "Batch 40, elapsed: 1.8s\nFold 1 Epoch 12 train time: 1.8s\nFold 1 Epoch 12: Train 0.7186, Val 0.6871, val time: 0.2s\n"
          ]
        },
        {
          "output_type": "stream",
          "name": "stderr",
          "text": [
            "\rFold 1 Epoch 13:   0%|          | 0/41 [00:00<?, ?it/s]"
          ]
        },
        {
          "output_type": "stream",
          "name": "stderr",
          "text": [
            "\rFold 1 Epoch 13:   7%|\u258b         | 3/41 [00:00<00:01, 23.34it/s]"
          ]
        },
        {
          "output_type": "stream",
          "name": "stdout",
          "text": [
            "Batch 0, elapsed: 0.0s\n"
          ]
        },
        {
          "output_type": "stream",
          "name": "stderr",
          "text": [
            "\rFold 1 Epoch 13:  15%|\u2588\u258d        | 6/41 [00:00<00:01, 22.75it/s]"
          ]
        },
        {
          "output_type": "stream",
          "name": "stderr",
          "text": [
            "\rFold 1 Epoch 13:  22%|\u2588\u2588\u258f       | 9/41 [00:00<00:01, 22.50it/s]"
          ]
        },
        {
          "output_type": "stream",
          "name": "stderr",
          "text": [
            "\rFold 1 Epoch 13:  29%|\u2588\u2588\u2589       | 12/41 [00:00<00:01, 23.03it/s]"
          ]
        },
        {
          "output_type": "stream",
          "name": "stderr",
          "text": [
            "\rFold 1 Epoch 13:  37%|\u2588\u2588\u2588\u258b      | 15/41 [00:00<00:01, 22.78it/s]"
          ]
        },
        {
          "output_type": "stream",
          "name": "stdout",
          "text": [
            "Batch 10, elapsed: 0.5s\n"
          ]
        },
        {
          "output_type": "stream",
          "name": "stderr",
          "text": [
            "\rFold 1 Epoch 13:  44%|\u2588\u2588\u2588\u2588\u258d     | 18/41 [00:00<00:00, 23.11it/s]"
          ]
        },
        {
          "output_type": "stream",
          "name": "stderr",
          "text": [
            "\rFold 1 Epoch 13:  51%|\u2588\u2588\u2588\u2588\u2588     | 21/41 [00:00<00:00, 22.82it/s]"
          ]
        },
        {
          "output_type": "stream",
          "name": "stderr",
          "text": [
            "\rFold 1 Epoch 13:  59%|\u2588\u2588\u2588\u2588\u2588\u258a    | 24/41 [00:01<00:00, 22.78it/s]"
          ]
        },
        {
          "output_type": "stream",
          "name": "stdout",
          "text": [
            "Batch 20, elapsed: 0.9s\n"
          ]
        },
        {
          "output_type": "stream",
          "name": "stderr",
          "text": [
            "\rFold 1 Epoch 13:  66%|\u2588\u2588\u2588\u2588\u2588\u2588\u258c   | 27/41 [00:01<00:00, 22.64it/s]"
          ]
        },
        {
          "output_type": "stream",
          "name": "stderr",
          "text": [
            "\rFold 1 Epoch 13:  73%|\u2588\u2588\u2588\u2588\u2588\u2588\u2588\u258e  | 30/41 [00:01<00:00, 22.58it/s]"
          ]
        },
        {
          "output_type": "stream",
          "name": "stderr",
          "text": [
            "\rFold 1 Epoch 13:  80%|\u2588\u2588\u2588\u2588\u2588\u2588\u2588\u2588  | 33/41 [00:01<00:00, 22.31it/s]"
          ]
        },
        {
          "output_type": "stream",
          "name": "stdout",
          "text": [
            "Batch 30, elapsed: 1.4s\n"
          ]
        },
        {
          "output_type": "stream",
          "name": "stderr",
          "text": [
            "\rFold 1 Epoch 13:  88%|\u2588\u2588\u2588\u2588\u2588\u2588\u2588\u2588\u258a | 36/41 [00:01<00:00, 22.31it/s]"
          ]
        },
        {
          "output_type": "stream",
          "name": "stderr",
          "text": [
            "\rFold 1 Epoch 13:  95%|\u2588\u2588\u2588\u2588\u2588\u2588\u2588\u2588\u2588\u258c| 39/41 [00:01<00:00, 22.79it/s]"
          ]
        },
        {
          "output_type": "stream",
          "name": "stderr",
          "text": [
            "\rFold 1 Epoch 13: 100%|\u2588\u2588\u2588\u2588\u2588\u2588\u2588\u2588\u2588\u2588| 41/41 [00:01<00:00, 22.86it/s]"
          ]
        },
        {
          "output_type": "stream",
          "name": "stderr",
          "text": [
            "\n"
          ]
        },
        {
          "output_type": "stream",
          "name": "stdout",
          "text": [
            "Batch 40, elapsed: 1.8s\nFold 1 Epoch 13 train time: 1.8s\nFold 1 Epoch 13: Train 0.7058, Val 0.6830, val time: 0.2s\n"
          ]
        },
        {
          "output_type": "stream",
          "name": "stderr",
          "text": [
            "\rFold 1 Epoch 14:   0%|          | 0/41 [00:00<?, ?it/s]"
          ]
        },
        {
          "output_type": "stream",
          "name": "stderr",
          "text": [
            "\rFold 1 Epoch 14:   7%|\u258b         | 3/41 [00:00<00:01, 22.27it/s]"
          ]
        },
        {
          "output_type": "stream",
          "name": "stdout",
          "text": [
            "Batch 0, elapsed: 0.0s\n"
          ]
        },
        {
          "output_type": "stream",
          "name": "stderr",
          "text": [
            "\rFold 1 Epoch 14:  15%|\u2588\u258d        | 6/41 [00:00<00:01, 22.23it/s]"
          ]
        },
        {
          "output_type": "stream",
          "name": "stderr",
          "text": [
            "\rFold 1 Epoch 14:  22%|\u2588\u2588\u258f       | 9/41 [00:00<00:01, 22.78it/s]"
          ]
        },
        {
          "output_type": "stream",
          "name": "stderr",
          "text": [
            "\rFold 1 Epoch 14:  29%|\u2588\u2588\u2589       | 12/41 [00:00<00:01, 23.08it/s]"
          ]
        },
        {
          "output_type": "stream",
          "name": "stderr",
          "text": [
            "\rFold 1 Epoch 14:  37%|\u2588\u2588\u2588\u258b      | 15/41 [00:00<00:01, 22.59it/s]"
          ]
        },
        {
          "output_type": "stream",
          "name": "stdout",
          "text": [
            "Batch 10, elapsed: 0.5s\n"
          ]
        },
        {
          "output_type": "stream",
          "name": "stderr",
          "text": [
            "\rFold 1 Epoch 14:  44%|\u2588\u2588\u2588\u2588\u258d     | 18/41 [00:00<00:01, 22.47it/s]"
          ]
        },
        {
          "output_type": "stream",
          "name": "stderr",
          "text": [
            "\rFold 1 Epoch 14:  51%|\u2588\u2588\u2588\u2588\u2588     | 21/41 [00:00<00:00, 22.33it/s]"
          ]
        },
        {
          "output_type": "stream",
          "name": "stderr",
          "text": [
            "\rFold 1 Epoch 14:  59%|\u2588\u2588\u2588\u2588\u2588\u258a    | 24/41 [00:01<00:00, 22.46it/s]"
          ]
        },
        {
          "output_type": "stream",
          "name": "stdout",
          "text": [
            "Batch 20, elapsed: 0.9s\n"
          ]
        },
        {
          "output_type": "stream",
          "name": "stderr",
          "text": [
            "\rFold 1 Epoch 14:  66%|\u2588\u2588\u2588\u2588\u2588\u2588\u258c   | 27/41 [00:01<00:00, 22.59it/s]"
          ]
        },
        {
          "output_type": "stream",
          "name": "stderr",
          "text": [
            "\rFold 1 Epoch 14:  73%|\u2588\u2588\u2588\u2588\u2588\u2588\u2588\u258e  | 30/41 [00:01<00:00, 22.59it/s]"
          ]
        },
        {
          "output_type": "stream",
          "name": "stderr",
          "text": [
            "\rFold 1 Epoch 14:  80%|\u2588\u2588\u2588\u2588\u2588\u2588\u2588\u2588  | 33/41 [00:01<00:00, 23.10it/s]"
          ]
        },
        {
          "output_type": "stream",
          "name": "stdout",
          "text": [
            "Batch 30, elapsed: 1.4s\n"
          ]
        },
        {
          "output_type": "stream",
          "name": "stderr",
          "text": [
            "\rFold 1 Epoch 14:  88%|\u2588\u2588\u2588\u2588\u2588\u2588\u2588\u2588\u258a | 36/41 [00:01<00:00, 23.08it/s]"
          ]
        },
        {
          "output_type": "stream",
          "name": "stderr",
          "text": [
            "\rFold 1 Epoch 14:  95%|\u2588\u2588\u2588\u2588\u2588\u2588\u2588\u2588\u2588\u258c| 39/41 [00:01<00:00, 23.04it/s]"
          ]
        },
        {
          "output_type": "stream",
          "name": "stderr",
          "text": [
            "\rFold 1 Epoch 14: 100%|\u2588\u2588\u2588\u2588\u2588\u2588\u2588\u2588\u2588\u2588| 41/41 [00:01<00:00, 22.86it/s]"
          ]
        },
        {
          "output_type": "stream",
          "name": "stderr",
          "text": [
            "\n"
          ]
        },
        {
          "output_type": "stream",
          "name": "stdout",
          "text": [
            "Batch 40, elapsed: 1.8s\nFold 1 Epoch 14 train time: 1.8s\nFold 1 Epoch 14: Train 0.7209, Val 0.6820, val time: 0.2s\nEarly stop at epoch 14\nFold 1 best val loss: 0.6762\n"
          ]
        },
        {
          "output_type": "stream",
          "name": "stdout",
          "text": [
            "Fold 2 pos_weight: [3. 3. 3. 3. 3. 3. 3.]\nFold 2 GPU memory before model: 0.1GB\n"
          ]
        },
        {
          "output_type": "stream",
          "name": "stderr",
          "text": [
            "\rFold 2 Epoch 1:   0%|          | 0/41 [00:00<?, ?it/s]"
          ]
        },
        {
          "output_type": "stream",
          "name": "stderr",
          "text": [
            "\rFold 2 Epoch 1:   7%|\u258b         | 3/41 [00:00<00:01, 25.70it/s]"
          ]
        },
        {
          "output_type": "stream",
          "name": "stderr",
          "text": [
            "\rFold 2 Epoch 1:  15%|\u2588\u258d        | 6/41 [00:00<00:01, 25.41it/s]"
          ]
        },
        {
          "output_type": "stream",
          "name": "stdout",
          "text": [
            "Batch 0, elapsed: 0.0s\n"
          ]
        },
        {
          "output_type": "stream",
          "name": "stderr",
          "text": [
            "\rFold 2 Epoch 1:  22%|\u2588\u2588\u258f       | 9/41 [00:00<00:01, 23.11it/s]"
          ]
        },
        {
          "output_type": "stream",
          "name": "stderr",
          "text": [
            "\rFold 2 Epoch 1:  29%|\u2588\u2588\u2589       | 12/41 [00:00<00:01, 23.29it/s]"
          ]
        },
        {
          "output_type": "stream",
          "name": "stderr",
          "text": [
            "\rFold 2 Epoch 1:  37%|\u2588\u2588\u2588\u258b      | 15/41 [00:00<00:01, 23.23it/s]"
          ]
        },
        {
          "output_type": "stream",
          "name": "stdout",
          "text": [
            "Batch 10, elapsed: 0.5s\n"
          ]
        },
        {
          "output_type": "stream",
          "name": "stderr",
          "text": [
            "\rFold 2 Epoch 1:  44%|\u2588\u2588\u2588\u2588\u258d     | 18/41 [00:00<00:01, 22.57it/s]"
          ]
        },
        {
          "output_type": "stream",
          "name": "stderr",
          "text": [
            "\rFold 2 Epoch 1:  51%|\u2588\u2588\u2588\u2588\u2588     | 21/41 [00:00<00:00, 22.34it/s]"
          ]
        },
        {
          "output_type": "stream",
          "name": "stderr",
          "text": [
            "\rFold 2 Epoch 1:  59%|\u2588\u2588\u2588\u2588\u2588\u258a    | 24/41 [00:01<00:00, 22.08it/s]"
          ]
        },
        {
          "output_type": "stream",
          "name": "stdout",
          "text": [
            "Batch 20, elapsed: 0.9s\n"
          ]
        },
        {
          "output_type": "stream",
          "name": "stderr",
          "text": [
            "\rFold 2 Epoch 1:  66%|\u2588\u2588\u2588\u2588\u2588\u2588\u258c   | 27/41 [00:01<00:00, 22.47it/s]"
          ]
        },
        {
          "output_type": "stream",
          "name": "stderr",
          "text": [
            "\rFold 2 Epoch 1:  73%|\u2588\u2588\u2588\u2588\u2588\u2588\u2588\u258e  | 30/41 [00:01<00:00, 22.45it/s]"
          ]
        },
        {
          "output_type": "stream",
          "name": "stderr",
          "text": [
            "\rFold 2 Epoch 1:  80%|\u2588\u2588\u2588\u2588\u2588\u2588\u2588\u2588  | 33/41 [00:01<00:00, 22.18it/s]"
          ]
        },
        {
          "output_type": "stream",
          "name": "stdout",
          "text": [
            "Batch 30, elapsed: 1.4s\n"
          ]
        },
        {
          "output_type": "stream",
          "name": "stderr",
          "text": [
            "\rFold 2 Epoch 1:  88%|\u2588\u2588\u2588\u2588\u2588\u2588\u2588\u2588\u258a | 36/41 [00:01<00:00, 22.52it/s]"
          ]
        },
        {
          "output_type": "stream",
          "name": "stderr",
          "text": [
            "\rFold 2 Epoch 1:  95%|\u2588\u2588\u2588\u2588\u2588\u2588\u2588\u2588\u2588\u258c| 39/41 [00:01<00:00, 22.39it/s]"
          ]
        },
        {
          "output_type": "stream",
          "name": "stderr",
          "text": [
            "\rFold 2 Epoch 1: 100%|\u2588\u2588\u2588\u2588\u2588\u2588\u2588\u2588\u2588\u2588| 41/41 [00:01<00:00, 22.84it/s]"
          ]
        },
        {
          "output_type": "stream",
          "name": "stderr",
          "text": [
            "\n"
          ]
        },
        {
          "output_type": "stream",
          "name": "stdout",
          "text": [
            "Batch 40, elapsed: 1.8s\nFold 2 Epoch 1 train time: 1.8s\nFold 2 Epoch 1: Train 0.8701, Val 0.7553, val time: 0.2s\n"
          ]
        },
        {
          "output_type": "stream",
          "name": "stdout",
          "text": [
            "New best at epoch 1\n"
          ]
        },
        {
          "output_type": "stream",
          "name": "stderr",
          "text": [
            "\rFold 2 Epoch 2:   0%|          | 0/41 [00:00<?, ?it/s]"
          ]
        },
        {
          "output_type": "stream",
          "name": "stderr",
          "text": [
            "\rFold 2 Epoch 2:   7%|\u258b         | 3/41 [00:00<00:01, 22.31it/s]"
          ]
        },
        {
          "output_type": "stream",
          "name": "stdout",
          "text": [
            "Batch 0, elapsed: 0.0s\n"
          ]
        },
        {
          "output_type": "stream",
          "name": "stderr",
          "text": [
            "\rFold 2 Epoch 2:  15%|\u2588\u258d        | 6/41 [00:00<00:01, 22.70it/s]"
          ]
        },
        {
          "output_type": "stream",
          "name": "stderr",
          "text": [
            "\rFold 2 Epoch 2:  22%|\u2588\u2588\u258f       | 9/41 [00:00<00:01, 23.25it/s]"
          ]
        },
        {
          "output_type": "stream",
          "name": "stderr",
          "text": [
            "\rFold 2 Epoch 2:  29%|\u2588\u2588\u2589       | 12/41 [00:00<00:01, 23.40it/s]"
          ]
        },
        {
          "output_type": "stream",
          "name": "stderr",
          "text": [
            "\rFold 2 Epoch 2:  37%|\u2588\u2588\u2588\u258b      | 15/41 [00:00<00:01, 23.20it/s]"
          ]
        },
        {
          "output_type": "stream",
          "name": "stdout",
          "text": [
            "Batch 10, elapsed: 0.5s\n"
          ]
        },
        {
          "output_type": "stream",
          "name": "stderr",
          "text": [
            "\rFold 2 Epoch 2:  44%|\u2588\u2588\u2588\u2588\u258d     | 18/41 [00:00<00:00, 23.34it/s]"
          ]
        },
        {
          "output_type": "stream",
          "name": "stderr",
          "text": [
            "\rFold 2 Epoch 2:  51%|\u2588\u2588\u2588\u2588\u2588     | 21/41 [00:00<00:00, 23.53it/s]"
          ]
        },
        {
          "output_type": "stream",
          "name": "stderr",
          "text": [
            "\rFold 2 Epoch 2:  59%|\u2588\u2588\u2588\u2588\u2588\u258a    | 24/41 [00:01<00:00, 23.69it/s]"
          ]
        },
        {
          "output_type": "stream",
          "name": "stdout",
          "text": [
            "Batch 20, elapsed: 0.9s\n"
          ]
        },
        {
          "output_type": "stream",
          "name": "stderr",
          "text": [
            "\rFold 2 Epoch 2:  66%|\u2588\u2588\u2588\u2588\u2588\u2588\u258c   | 27/41 [00:01<00:00, 23.84it/s]"
          ]
        },
        {
          "output_type": "stream",
          "name": "stderr",
          "text": [
            "\rFold 2 Epoch 2:  73%|\u2588\u2588\u2588\u2588\u2588\u2588\u2588\u258e  | 30/41 [00:01<00:00, 23.46it/s]"
          ]
        },
        {
          "output_type": "stream",
          "name": "stderr",
          "text": [
            "\rFold 2 Epoch 2:  80%|\u2588\u2588\u2588\u2588\u2588\u2588\u2588\u2588  | 33/41 [00:01<00:00, 23.74it/s]"
          ]
        },
        {
          "output_type": "stream",
          "name": "stdout",
          "text": [
            "Batch 30, elapsed: 1.3s\n"
          ]
        },
        {
          "output_type": "stream",
          "name": "stderr",
          "text": [
            "\rFold 2 Epoch 2:  88%|\u2588\u2588\u2588\u2588\u2588\u2588\u2588\u2588\u258a | 36/41 [00:01<00:00, 22.98it/s]"
          ]
        },
        {
          "output_type": "stream",
          "name": "stderr",
          "text": [
            "\rFold 2 Epoch 2:  95%|\u2588\u2588\u2588\u2588\u2588\u2588\u2588\u2588\u2588\u258c| 39/41 [00:01<00:00, 23.35it/s]"
          ]
        },
        {
          "output_type": "stream",
          "name": "stderr",
          "text": [
            "\rFold 2 Epoch 2: 100%|\u2588\u2588\u2588\u2588\u2588\u2588\u2588\u2588\u2588\u2588| 41/41 [00:01<00:00, 23.44it/s]"
          ]
        },
        {
          "output_type": "stream",
          "name": "stderr",
          "text": [
            "\n"
          ]
        },
        {
          "output_type": "stream",
          "name": "stdout",
          "text": [
            "Batch 40, elapsed: 1.7s\nFold 2 Epoch 2 train time: 1.8s\nFold 2 Epoch 2: Train 0.7409, Val 0.8070, val time: 0.2s\n"
          ]
        },
        {
          "output_type": "stream",
          "name": "stderr",
          "text": [
            "\rFold 2 Epoch 3:   0%|          | 0/41 [00:00<?, ?it/s]"
          ]
        },
        {
          "output_type": "stream",
          "name": "stderr",
          "text": [
            "\rFold 2 Epoch 3:   7%|\u258b         | 3/41 [00:00<00:01, 23.12it/s]"
          ]
        },
        {
          "output_type": "stream",
          "name": "stdout",
          "text": [
            "Batch 0, elapsed: 0.0s\n"
          ]
        },
        {
          "output_type": "stream",
          "name": "stderr",
          "text": [
            "\rFold 2 Epoch 3:  15%|\u2588\u258d        | 6/41 [00:00<00:01, 23.15it/s]"
          ]
        },
        {
          "output_type": "stream",
          "name": "stderr",
          "text": [
            "\rFold 2 Epoch 3:  22%|\u2588\u2588\u258f       | 9/41 [00:00<00:01, 23.57it/s]"
          ]
        },
        {
          "output_type": "stream",
          "name": "stderr",
          "text": [
            "\rFold 2 Epoch 3:  29%|\u2588\u2588\u2589       | 12/41 [00:00<00:01, 23.07it/s]"
          ]
        },
        {
          "output_type": "stream",
          "name": "stderr",
          "text": [
            "\rFold 2 Epoch 3:  37%|\u2588\u2588\u2588\u258b      | 15/41 [00:00<00:01, 23.16it/s]"
          ]
        },
        {
          "output_type": "stream",
          "name": "stdout",
          "text": [
            "Batch 10, elapsed: 0.5s\n"
          ]
        },
        {
          "output_type": "stream",
          "name": "stderr",
          "text": [
            "\rFold 2 Epoch 3:  44%|\u2588\u2588\u2588\u2588\u258d     | 18/41 [00:00<00:00, 23.33it/s]"
          ]
        },
        {
          "output_type": "stream",
          "name": "stderr",
          "text": [
            "\rFold 2 Epoch 3:  51%|\u2588\u2588\u2588\u2588\u2588     | 21/41 [00:00<00:00, 23.06it/s]"
          ]
        },
        {
          "output_type": "stream",
          "name": "stderr",
          "text": [
            "\rFold 2 Epoch 3:  59%|\u2588\u2588\u2588\u2588\u2588\u258a    | 24/41 [00:01<00:00, 23.28it/s]"
          ]
        },
        {
          "output_type": "stream",
          "name": "stdout",
          "text": [
            "Batch 20, elapsed: 0.9s\n"
          ]
        },
        {
          "output_type": "stream",
          "name": "stderr",
          "text": [
            "\rFold 2 Epoch 3:  66%|\u2588\u2588\u2588\u2588\u2588\u2588\u258c   | 27/41 [00:01<00:00, 23.54it/s]"
          ]
        },
        {
          "output_type": "stream",
          "name": "stderr",
          "text": [
            "\rFold 2 Epoch 3:  73%|\u2588\u2588\u2588\u2588\u2588\u2588\u2588\u258e  | 30/41 [00:01<00:00, 23.41it/s]"
          ]
        },
        {
          "output_type": "stream",
          "name": "stderr",
          "text": [
            "\rFold 2 Epoch 3:  80%|\u2588\u2588\u2588\u2588\u2588\u2588\u2588\u2588  | 33/41 [00:01<00:00, 22.72it/s]"
          ]
        },
        {
          "output_type": "stream",
          "name": "stdout",
          "text": [
            "Batch 30, elapsed: 1.3s\n"
          ]
        },
        {
          "output_type": "stream",
          "name": "stderr",
          "text": [
            "\rFold 2 Epoch 3:  88%|\u2588\u2588\u2588\u2588\u2588\u2588\u2588\u2588\u258a | 36/41 [00:01<00:00, 22.04it/s]"
          ]
        },
        {
          "output_type": "stream",
          "name": "stderr",
          "text": [
            "\rFold 2 Epoch 3:  95%|\u2588\u2588\u2588\u2588\u2588\u2588\u2588\u2588\u2588\u258c| 39/41 [00:01<00:00, 22.16it/s]"
          ]
        },
        {
          "output_type": "stream",
          "name": "stderr",
          "text": [
            "\rFold 2 Epoch 3: 100%|\u2588\u2588\u2588\u2588\u2588\u2588\u2588\u2588\u2588\u2588| 41/41 [00:01<00:00, 22.94it/s]"
          ]
        },
        {
          "output_type": "stream",
          "name": "stderr",
          "text": [
            "\n"
          ]
        },
        {
          "output_type": "stream",
          "name": "stdout",
          "text": [
            "Batch 40, elapsed: 1.8s\nFold 2 Epoch 3 train time: 1.8s\nFold 2 Epoch 3: Train 0.7457, Val 0.7642, val time: 0.2s\n"
          ]
        },
        {
          "output_type": "stream",
          "name": "stderr",
          "text": [
            "\rFold 2 Epoch 4:   0%|          | 0/41 [00:00<?, ?it/s]"
          ]
        },
        {
          "output_type": "stream",
          "name": "stderr",
          "text": [
            "\rFold 2 Epoch 4:   7%|\u258b         | 3/41 [00:00<00:01, 24.58it/s]"
          ]
        },
        {
          "output_type": "stream",
          "name": "stdout",
          "text": [
            "Batch 0, elapsed: 0.0s\n"
          ]
        },
        {
          "output_type": "stream",
          "name": "stderr",
          "text": [
            "\rFold 2 Epoch 4:  15%|\u2588\u258d        | 6/41 [00:00<00:01, 23.87it/s]"
          ]
        },
        {
          "output_type": "stream",
          "name": "stderr",
          "text": [
            "\rFold 2 Epoch 4:  22%|\u2588\u2588\u258f       | 9/41 [00:00<00:01, 23.75it/s]"
          ]
        },
        {
          "output_type": "stream",
          "name": "stderr",
          "text": [
            "\rFold 2 Epoch 4:  29%|\u2588\u2588\u2589       | 12/41 [00:00<00:01, 23.60it/s]"
          ]
        },
        {
          "output_type": "stream",
          "name": "stderr",
          "text": [
            "\rFold 2 Epoch 4:  37%|\u2588\u2588\u2588\u258b      | 15/41 [00:00<00:01, 22.76it/s]"
          ]
        },
        {
          "output_type": "stream",
          "name": "stdout",
          "text": [
            "Batch 10, elapsed: 0.5s\n"
          ]
        },
        {
          "output_type": "stream",
          "name": "stderr",
          "text": [
            "\rFold 2 Epoch 4:  44%|\u2588\u2588\u2588\u2588\u258d     | 18/41 [00:00<00:01, 22.58it/s]"
          ]
        },
        {
          "output_type": "stream",
          "name": "stderr",
          "text": [
            "\rFold 2 Epoch 4:  51%|\u2588\u2588\u2588\u2588\u2588     | 21/41 [00:00<00:00, 23.07it/s]"
          ]
        },
        {
          "output_type": "stream",
          "name": "stderr",
          "text": [
            "\rFold 2 Epoch 4:  59%|\u2588\u2588\u2588\u2588\u2588\u258a    | 24/41 [00:01<00:00, 23.24it/s]"
          ]
        },
        {
          "output_type": "stream",
          "name": "stdout",
          "text": [
            "Batch 20, elapsed: 0.9s\n"
          ]
        },
        {
          "output_type": "stream",
          "name": "stderr",
          "text": [
            "\rFold 2 Epoch 4:  66%|\u2588\u2588\u2588\u2588\u2588\u2588\u258c   | 27/41 [00:01<00:00, 23.33it/s]"
          ]
        },
        {
          "output_type": "stream",
          "name": "stderr",
          "text": [
            "\rFold 2 Epoch 4:  73%|\u2588\u2588\u2588\u2588\u2588\u2588\u2588\u258e  | 30/41 [00:01<00:00, 23.39it/s]"
          ]
        },
        {
          "output_type": "stream",
          "name": "stderr",
          "text": [
            "\rFold 2 Epoch 4:  80%|\u2588\u2588\u2588\u2588\u2588\u2588\u2588\u2588  | 33/41 [00:01<00:00, 23.22it/s]"
          ]
        },
        {
          "output_type": "stream",
          "name": "stdout",
          "text": [
            "Batch 30, elapsed: 1.3s\n"
          ]
        },
        {
          "output_type": "stream",
          "name": "stderr",
          "text": [
            "\rFold 2 Epoch 4:  88%|\u2588\u2588\u2588\u2588\u2588\u2588\u2588\u2588\u258a | 36/41 [00:01<00:00, 22.70it/s]"
          ]
        },
        {
          "output_type": "stream",
          "name": "stderr",
          "text": [
            "\rFold 2 Epoch 4:  95%|\u2588\u2588\u2588\u2588\u2588\u2588\u2588\u2588\u2588\u258c| 39/41 [00:01<00:00, 23.16it/s]"
          ]
        },
        {
          "output_type": "stream",
          "name": "stderr",
          "text": [
            "\rFold 2 Epoch 4: 100%|\u2588\u2588\u2588\u2588\u2588\u2588\u2588\u2588\u2588\u2588| 41/41 [00:01<00:00, 23.37it/s]"
          ]
        },
        {
          "output_type": "stream",
          "name": "stderr",
          "text": [
            "\n"
          ]
        },
        {
          "output_type": "stream",
          "name": "stdout",
          "text": [
            "Batch 40, elapsed: 1.8s\nFold 2 Epoch 4 train time: 1.8s\nFold 2 Epoch 4: Train 0.7369, Val 0.7745, val time: 0.2s\n"
          ]
        },
        {
          "output_type": "stream",
          "name": "stderr",
          "text": [
            "\rFold 2 Epoch 5:   0%|          | 0/41 [00:00<?, ?it/s]"
          ]
        },
        {
          "output_type": "stream",
          "name": "stderr",
          "text": [
            "\rFold 2 Epoch 5:   7%|\u258b         | 3/41 [00:00<00:01, 23.75it/s]"
          ]
        },
        {
          "output_type": "stream",
          "name": "stdout",
          "text": [
            "Batch 0, elapsed: 0.0s\n"
          ]
        },
        {
          "output_type": "stream",
          "name": "stderr",
          "text": [
            "\rFold 2 Epoch 5:  15%|\u2588\u258d        | 6/41 [00:00<00:01, 23.50it/s]"
          ]
        },
        {
          "output_type": "stream",
          "name": "stderr",
          "text": [
            "\rFold 2 Epoch 5:  22%|\u2588\u2588\u258f       | 9/41 [00:00<00:01, 23.64it/s]"
          ]
        },
        {
          "output_type": "stream",
          "name": "stderr",
          "text": [
            "\rFold 2 Epoch 5:  29%|\u2588\u2588\u2589       | 12/41 [00:00<00:01, 23.59it/s]"
          ]
        },
        {
          "output_type": "stream",
          "name": "stderr",
          "text": [
            "\rFold 2 Epoch 5:  37%|\u2588\u2588\u2588\u258b      | 15/41 [00:00<00:01, 23.95it/s]"
          ]
        },
        {
          "output_type": "stream",
          "name": "stdout",
          "text": [
            "Batch 10, elapsed: 0.5s\n"
          ]
        },
        {
          "output_type": "stream",
          "name": "stderr",
          "text": [
            "\rFold 2 Epoch 5:  44%|\u2588\u2588\u2588\u2588\u258d     | 18/41 [00:00<00:00, 23.12it/s]"
          ]
        },
        {
          "output_type": "stream",
          "name": "stderr",
          "text": [
            "\rFold 2 Epoch 5:  51%|\u2588\u2588\u2588\u2588\u2588     | 21/41 [00:00<00:00, 23.26it/s]"
          ]
        },
        {
          "output_type": "stream",
          "name": "stderr",
          "text": [
            "\rFold 2 Epoch 5:  59%|\u2588\u2588\u2588\u2588\u2588\u258a    | 24/41 [00:01<00:00, 23.27it/s]"
          ]
        },
        {
          "output_type": "stream",
          "name": "stdout",
          "text": [
            "Batch 20, elapsed: 0.9s\n"
          ]
        },
        {
          "output_type": "stream",
          "name": "stderr",
          "text": [
            "\rFold 2 Epoch 5:  66%|\u2588\u2588\u2588\u2588\u2588\u2588\u258c   | 27/41 [00:01<00:00, 23.22it/s]"
          ]
        },
        {
          "output_type": "stream",
          "name": "stderr",
          "text": [
            "\rFold 2 Epoch 5:  73%|\u2588\u2588\u2588\u2588\u2588\u2588\u2588\u258e  | 30/41 [00:01<00:00, 23.19it/s]"
          ]
        },
        {
          "output_type": "stream",
          "name": "stderr",
          "text": [
            "\rFold 2 Epoch 5:  80%|\u2588\u2588\u2588\u2588\u2588\u2588\u2588\u2588  | 33/41 [00:01<00:00, 23.15it/s]"
          ]
        },
        {
          "output_type": "stream",
          "name": "stdout",
          "text": [
            "Batch 30, elapsed: 1.3s\n"
          ]
        },
        {
          "output_type": "stream",
          "name": "stderr",
          "text": [
            "\rFold 2 Epoch 5:  88%|\u2588\u2588\u2588\u2588\u2588\u2588\u2588\u2588\u258a | 36/41 [00:01<00:00, 23.32it/s]"
          ]
        },
        {
          "output_type": "stream",
          "name": "stderr",
          "text": [
            "\rFold 2 Epoch 5:  95%|\u2588\u2588\u2588\u2588\u2588\u2588\u2588\u2588\u2588\u258c| 39/41 [00:01<00:00, 22.85it/s]"
          ]
        },
        {
          "output_type": "stream",
          "name": "stderr",
          "text": [
            "\rFold 2 Epoch 5: 100%|\u2588\u2588\u2588\u2588\u2588\u2588\u2588\u2588\u2588\u2588| 41/41 [00:01<00:00, 23.38it/s]"
          ]
        },
        {
          "output_type": "stream",
          "name": "stderr",
          "text": [
            "\n"
          ]
        },
        {
          "output_type": "stream",
          "name": "stdout",
          "text": [
            "Batch 40, elapsed: 1.8s\nFold 2 Epoch 5 train time: 1.8s\nFold 2 Epoch 5: Train 0.7210, Val 0.7374, val time: 0.2s\n"
          ]
        },
        {
          "output_type": "stream",
          "name": "stdout",
          "text": [
            "New best at epoch 5\n"
          ]
        },
        {
          "output_type": "stream",
          "name": "stderr",
          "text": [
            "\rFold 2 Epoch 6:   0%|          | 0/41 [00:00<?, ?it/s]"
          ]
        },
        {
          "output_type": "stream",
          "name": "stderr",
          "text": [
            "\rFold 2 Epoch 6:   7%|\u258b         | 3/41 [00:00<00:01, 22.48it/s]"
          ]
        },
        {
          "output_type": "stream",
          "name": "stdout",
          "text": [
            "Batch 0, elapsed: 0.0s\n"
          ]
        },
        {
          "output_type": "stream",
          "name": "stderr",
          "text": [
            "\rFold 2 Epoch 6:  15%|\u2588\u258d        | 6/41 [00:00<00:01, 22.87it/s]"
          ]
        },
        {
          "output_type": "stream",
          "name": "stderr",
          "text": [
            "\rFold 2 Epoch 6:  22%|\u2588\u2588\u258f       | 9/41 [00:00<00:01, 23.20it/s]"
          ]
        },
        {
          "output_type": "stream",
          "name": "stderr",
          "text": [
            "\rFold 2 Epoch 6:  29%|\u2588\u2588\u2589       | 12/41 [00:00<00:01, 23.19it/s]"
          ]
        },
        {
          "output_type": "stream",
          "name": "stderr",
          "text": [
            "\rFold 2 Epoch 6:  37%|\u2588\u2588\u2588\u258b      | 15/41 [00:00<00:01, 22.53it/s]"
          ]
        },
        {
          "output_type": "stream",
          "name": "stdout",
          "text": [
            "Batch 10, elapsed: 0.5s\n"
          ]
        },
        {
          "output_type": "stream",
          "name": "stderr",
          "text": [
            "\rFold 2 Epoch 6:  44%|\u2588\u2588\u2588\u2588\u258d     | 18/41 [00:00<00:01, 22.52it/s]"
          ]
        },
        {
          "output_type": "stream",
          "name": "stderr",
          "text": [
            "\rFold 2 Epoch 6:  51%|\u2588\u2588\u2588\u2588\u2588     | 21/41 [00:00<00:00, 22.58it/s]"
          ]
        },
        {
          "output_type": "stream",
          "name": "stderr",
          "text": [
            "\rFold 2 Epoch 6:  59%|\u2588\u2588\u2588\u2588\u2588\u258a    | 24/41 [00:01<00:00, 22.49it/s]"
          ]
        },
        {
          "output_type": "stream",
          "name": "stdout",
          "text": [
            "Batch 20, elapsed: 0.9s\n"
          ]
        },
        {
          "output_type": "stream",
          "name": "stderr",
          "text": [
            "\rFold 2 Epoch 6:  66%|\u2588\u2588\u2588\u2588\u2588\u2588\u258c   | 27/41 [00:01<00:00, 22.59it/s]"
          ]
        },
        {
          "output_type": "stream",
          "name": "stderr",
          "text": [
            "\rFold 2 Epoch 6:  73%|\u2588\u2588\u2588\u2588\u2588\u2588\u2588\u258e  | 30/41 [00:01<00:00, 22.90it/s]"
          ]
        },
        {
          "output_type": "stream",
          "name": "stderr",
          "text": [
            "\rFold 2 Epoch 6:  80%|\u2588\u2588\u2588\u2588\u2588\u2588\u2588\u2588  | 33/41 [00:01<00:00, 23.36it/s]"
          ]
        },
        {
          "output_type": "stream",
          "name": "stdout",
          "text": [
            "Batch 30, elapsed: 1.4s\n"
          ]
        },
        {
          "output_type": "stream",
          "name": "stderr",
          "text": [
            "\rFold 2 Epoch 6:  88%|\u2588\u2588\u2588\u2588\u2588\u2588\u2588\u2588\u258a | 36/41 [00:01<00:00, 23.11it/s]"
          ]
        },
        {
          "output_type": "stream",
          "name": "stderr",
          "text": [
            "\rFold 2 Epoch 6:  95%|\u2588\u2588\u2588\u2588\u2588\u2588\u2588\u2588\u2588\u258c| 39/41 [00:01<00:00, 23.41it/s]"
          ]
        },
        {
          "output_type": "stream",
          "name": "stderr",
          "text": [
            "\rFold 2 Epoch 6: 100%|\u2588\u2588\u2588\u2588\u2588\u2588\u2588\u2588\u2588\u2588| 41/41 [00:01<00:00, 23.14it/s]"
          ]
        },
        {
          "output_type": "stream",
          "name": "stderr",
          "text": [
            "\n"
          ]
        },
        {
          "output_type": "stream",
          "name": "stdout",
          "text": [
            "Batch 40, elapsed: 1.8s\nFold 2 Epoch 6 train time: 1.8s\nFold 2 Epoch 6: Train 0.7206, Val 0.7531, val time: 0.2s\n"
          ]
        },
        {
          "output_type": "stream",
          "name": "stderr",
          "text": [
            "\rFold 2 Epoch 7:   0%|          | 0/41 [00:00<?, ?it/s]"
          ]
        },
        {
          "output_type": "stream",
          "name": "stderr",
          "text": [
            "\rFold 2 Epoch 7:   7%|\u258b         | 3/41 [00:00<00:01, 22.89it/s]"
          ]
        },
        {
          "output_type": "stream",
          "name": "stdout",
          "text": [
            "Batch 0, elapsed: 0.0s\n"
          ]
        },
        {
          "output_type": "stream",
          "name": "stderr",
          "text": [
            "\rFold 2 Epoch 7:  15%|\u2588\u258d        | 6/41 [00:00<00:01, 22.31it/s]"
          ]
        },
        {
          "output_type": "stream",
          "name": "stderr",
          "text": [
            "\rFold 2 Epoch 7:  22%|\u2588\u2588\u258f       | 9/41 [00:00<00:01, 22.40it/s]"
          ]
        },
        {
          "output_type": "stream",
          "name": "stderr",
          "text": [
            "\rFold 2 Epoch 7:  29%|\u2588\u2588\u2589       | 12/41 [00:00<00:01, 22.12it/s]"
          ]
        },
        {
          "output_type": "stream",
          "name": "stderr",
          "text": [
            "\rFold 2 Epoch 7:  37%|\u2588\u2588\u2588\u258b      | 15/41 [00:00<00:01, 22.29it/s]"
          ]
        },
        {
          "output_type": "stream",
          "name": "stdout",
          "text": [
            "Batch 10, elapsed: 0.5s\n"
          ]
        },
        {
          "output_type": "stream",
          "name": "stderr",
          "text": [
            "\rFold 2 Epoch 7:  44%|\u2588\u2588\u2588\u2588\u258d     | 18/41 [00:00<00:01, 22.33it/s]"
          ]
        },
        {
          "output_type": "stream",
          "name": "stderr",
          "text": [
            "\rFold 2 Epoch 7:  51%|\u2588\u2588\u2588\u2588\u2588     | 21/41 [00:00<00:00, 22.51it/s]"
          ]
        },
        {
          "output_type": "stream",
          "name": "stderr",
          "text": [
            "\rFold 2 Epoch 7:  59%|\u2588\u2588\u2588\u2588\u2588\u258a    | 24/41 [00:01<00:00, 22.29it/s]"
          ]
        },
        {
          "output_type": "stream",
          "name": "stdout",
          "text": [
            "Batch 20, elapsed: 0.9s\n"
          ]
        },
        {
          "output_type": "stream",
          "name": "stderr",
          "text": [
            "\rFold 2 Epoch 7:  66%|\u2588\u2588\u2588\u2588\u2588\u2588\u258c   | 27/41 [00:01<00:00, 21.82it/s]"
          ]
        },
        {
          "output_type": "stream",
          "name": "stderr",
          "text": [
            "\rFold 2 Epoch 7:  73%|\u2588\u2588\u2588\u2588\u2588\u2588\u2588\u258e  | 30/41 [00:01<00:00, 22.11it/s]"
          ]
        },
        {
          "output_type": "stream",
          "name": "stderr",
          "text": [
            "\rFold 2 Epoch 7:  80%|\u2588\u2588\u2588\u2588\u2588\u2588\u2588\u2588  | 33/41 [00:01<00:00, 22.44it/s]"
          ]
        },
        {
          "output_type": "stream",
          "name": "stdout",
          "text": [
            "Batch 30, elapsed: 1.4s\n"
          ]
        },
        {
          "output_type": "stream",
          "name": "stderr",
          "text": [
            "\rFold 2 Epoch 7:  88%|\u2588\u2588\u2588\u2588\u2588\u2588\u2588\u2588\u258a | 36/41 [00:01<00:00, 22.43it/s]"
          ]
        },
        {
          "output_type": "stream",
          "name": "stderr",
          "text": [
            "\rFold 2 Epoch 7:  95%|\u2588\u2588\u2588\u2588\u2588\u2588\u2588\u2588\u2588\u258c| 39/41 [00:01<00:00, 22.46it/s]"
          ]
        },
        {
          "output_type": "stream",
          "name": "stderr",
          "text": [
            "\rFold 2 Epoch 7: 100%|\u2588\u2588\u2588\u2588\u2588\u2588\u2588\u2588\u2588\u2588| 41/41 [00:01<00:00, 22.49it/s]"
          ]
        },
        {
          "output_type": "stream",
          "name": "stderr",
          "text": [
            "\n"
          ]
        },
        {
          "output_type": "stream",
          "name": "stdout",
          "text": [
            "Batch 40, elapsed: 1.8s\nFold 2 Epoch 7 train time: 1.8s\nFold 2 Epoch 7: Train 0.7184, Val 0.7451, val time: 0.2s\n"
          ]
        },
        {
          "output_type": "stream",
          "name": "stderr",
          "text": [
            "\rFold 2 Epoch 8:   0%|          | 0/41 [00:00<?, ?it/s]"
          ]
        },
        {
          "output_type": "stream",
          "name": "stderr",
          "text": [
            "\rFold 2 Epoch 8:   7%|\u258b         | 3/41 [00:00<00:01, 23.40it/s]"
          ]
        },
        {
          "output_type": "stream",
          "name": "stdout",
          "text": [
            "Batch 0, elapsed: 0.0s\n"
          ]
        },
        {
          "output_type": "stream",
          "name": "stderr",
          "text": [
            "\rFold 2 Epoch 8:  15%|\u2588\u258d        | 6/41 [00:00<00:01, 23.23it/s]"
          ]
        },
        {
          "output_type": "stream",
          "name": "stderr",
          "text": [
            "\rFold 2 Epoch 8:  22%|\u2588\u2588\u258f       | 9/41 [00:00<00:01, 22.86it/s]"
          ]
        },
        {
          "output_type": "stream",
          "name": "stderr",
          "text": [
            "\rFold 2 Epoch 8:  29%|\u2588\u2588\u2589       | 12/41 [00:00<00:01, 23.08it/s]"
          ]
        },
        {
          "output_type": "stream",
          "name": "stderr",
          "text": [
            "\rFold 2 Epoch 8:  37%|\u2588\u2588\u2588\u258b      | 15/41 [00:00<00:01, 23.42it/s]"
          ]
        },
        {
          "output_type": "stream",
          "name": "stdout",
          "text": [
            "Batch 10, elapsed: 0.5s\n"
          ]
        },
        {
          "output_type": "stream",
          "name": "stderr",
          "text": [
            "\rFold 2 Epoch 8:  44%|\u2588\u2588\u2588\u2588\u258d     | 18/41 [00:00<00:00, 23.35it/s]"
          ]
        },
        {
          "output_type": "stream",
          "name": "stderr",
          "text": [
            "\rFold 2 Epoch 8:  51%|\u2588\u2588\u2588\u2588\u2588     | 21/41 [00:00<00:00, 22.95it/s]"
          ]
        },
        {
          "output_type": "stream",
          "name": "stderr",
          "text": [
            "\rFold 2 Epoch 8:  59%|\u2588\u2588\u2588\u2588\u2588\u258a    | 24/41 [00:01<00:00, 22.97it/s]"
          ]
        },
        {
          "output_type": "stream",
          "name": "stdout",
          "text": [
            "Batch 20, elapsed: 0.9s\n"
          ]
        },
        {
          "output_type": "stream",
          "name": "stderr",
          "text": [
            "\rFold 2 Epoch 8:  66%|\u2588\u2588\u2588\u2588\u2588\u2588\u258c   | 27/41 [00:01<00:00, 23.10it/s]"
          ]
        },
        {
          "output_type": "stream",
          "name": "stderr",
          "text": [
            "\rFold 2 Epoch 8:  73%|\u2588\u2588\u2588\u2588\u2588\u2588\u2588\u258e  | 30/41 [00:01<00:00, 23.22it/s]"
          ]
        },
        {
          "output_type": "stream",
          "name": "stderr",
          "text": [
            "\rFold 2 Epoch 8:  80%|\u2588\u2588\u2588\u2588\u2588\u2588\u2588\u2588  | 33/41 [00:01<00:00, 23.27it/s]"
          ]
        },
        {
          "output_type": "stream",
          "name": "stdout",
          "text": [
            "Batch 30, elapsed: 1.3s\n"
          ]
        },
        {
          "output_type": "stream",
          "name": "stderr",
          "text": [
            "\rFold 2 Epoch 8:  88%|\u2588\u2588\u2588\u2588\u2588\u2588\u2588\u2588\u258a | 36/41 [00:01<00:00, 23.42it/s]"
          ]
        },
        {
          "output_type": "stream",
          "name": "stderr",
          "text": [
            "\rFold 2 Epoch 8:  95%|\u2588\u2588\u2588\u2588\u2588\u2588\u2588\u2588\u2588\u258c| 39/41 [00:01<00:00, 23.06it/s]"
          ]
        },
        {
          "output_type": "stream",
          "name": "stderr",
          "text": [
            "\rFold 2 Epoch 8: 100%|\u2588\u2588\u2588\u2588\u2588\u2588\u2588\u2588\u2588\u2588| 41/41 [00:01<00:00, 23.28it/s]"
          ]
        },
        {
          "output_type": "stream",
          "name": "stderr",
          "text": [
            "\n"
          ]
        },
        {
          "output_type": "stream",
          "name": "stdout",
          "text": [
            "Batch 40, elapsed: 1.8s\nFold 2 Epoch 8 train time: 1.8s\nFold 2 Epoch 8: Train 0.7183, Val 0.7320, val time: 0.2s\n"
          ]
        },
        {
          "output_type": "stream",
          "name": "stdout",
          "text": [
            "New best at epoch 8\n"
          ]
        },
        {
          "output_type": "stream",
          "name": "stderr",
          "text": [
            "\rFold 2 Epoch 9:   0%|          | 0/41 [00:00<?, ?it/s]"
          ]
        },
        {
          "output_type": "stream",
          "name": "stderr",
          "text": [
            "\rFold 2 Epoch 9:   7%|\u258b         | 3/41 [00:00<00:01, 22.53it/s]"
          ]
        },
        {
          "output_type": "stream",
          "name": "stdout",
          "text": [
            "Batch 0, elapsed: 0.0s\n"
          ]
        },
        {
          "output_type": "stream",
          "name": "stderr",
          "text": [
            "\rFold 2 Epoch 9:  15%|\u2588\u258d        | 6/41 [00:00<00:01, 23.27it/s]"
          ]
        },
        {
          "output_type": "stream",
          "name": "stderr",
          "text": [
            "\rFold 2 Epoch 9:  22%|\u2588\u2588\u258f       | 9/41 [00:00<00:01, 22.90it/s]"
          ]
        },
        {
          "output_type": "stream",
          "name": "stderr",
          "text": [
            "\rFold 2 Epoch 9:  29%|\u2588\u2588\u2589       | 12/41 [00:00<00:01, 23.12it/s]"
          ]
        },
        {
          "output_type": "stream",
          "name": "stderr",
          "text": [
            "\rFold 2 Epoch 9:  37%|\u2588\u2588\u2588\u258b      | 15/41 [00:00<00:01, 23.10it/s]"
          ]
        },
        {
          "output_type": "stream",
          "name": "stdout",
          "text": [
            "Batch 10, elapsed: 0.5s\n"
          ]
        },
        {
          "output_type": "stream",
          "name": "stderr",
          "text": [
            "\rFold 2 Epoch 9:  44%|\u2588\u2588\u2588\u2588\u258d     | 18/41 [00:00<00:00, 23.12it/s]"
          ]
        },
        {
          "output_type": "stream",
          "name": "stderr",
          "text": [
            "\rFold 2 Epoch 9:  51%|\u2588\u2588\u2588\u2588\u2588     | 21/41 [00:00<00:00, 23.22it/s]"
          ]
        },
        {
          "output_type": "stream",
          "name": "stderr",
          "text": [
            "\rFold 2 Epoch 9:  59%|\u2588\u2588\u2588\u2588\u2588\u258a    | 24/41 [00:01<00:00, 23.31it/s]"
          ]
        },
        {
          "output_type": "stream",
          "name": "stdout",
          "text": [
            "Batch 20, elapsed: 0.9s\n"
          ]
        },
        {
          "output_type": "stream",
          "name": "stderr",
          "text": [
            "\rFold 2 Epoch 9:  66%|\u2588\u2588\u2588\u2588\u2588\u2588\u258c   | 27/41 [00:01<00:00, 23.36it/s]"
          ]
        },
        {
          "output_type": "stream",
          "name": "stderr",
          "text": [
            "\rFold 2 Epoch 9:  73%|\u2588\u2588\u2588\u2588\u2588\u2588\u2588\u258e  | 30/41 [00:01<00:00, 23.02it/s]"
          ]
        },
        {
          "output_type": "stream",
          "name": "stderr",
          "text": [
            "\rFold 2 Epoch 9:  80%|\u2588\u2588\u2588\u2588\u2588\u2588\u2588\u2588  | 33/41 [00:01<00:00, 23.27it/s]"
          ]
        },
        {
          "output_type": "stream",
          "name": "stdout",
          "text": [
            "Batch 30, elapsed: 1.3s\n"
          ]
        },
        {
          "output_type": "stream",
          "name": "stderr",
          "text": [
            "\rFold 2 Epoch 9:  88%|\u2588\u2588\u2588\u2588\u2588\u2588\u2588\u2588\u258a | 36/41 [00:01<00:00, 23.40it/s]"
          ]
        },
        {
          "output_type": "stream",
          "name": "stderr",
          "text": [
            "\rFold 2 Epoch 9:  95%|\u2588\u2588\u2588\u2588\u2588\u2588\u2588\u2588\u2588\u258c| 39/41 [00:01<00:00, 23.06it/s]"
          ]
        },
        {
          "output_type": "stream",
          "name": "stderr",
          "text": [
            "\rFold 2 Epoch 9: 100%|\u2588\u2588\u2588\u2588\u2588\u2588\u2588\u2588\u2588\u2588| 41/41 [00:01<00:00, 23.22it/s]"
          ]
        },
        {
          "output_type": "stream",
          "name": "stderr",
          "text": [
            "\n"
          ]
        },
        {
          "output_type": "stream",
          "name": "stdout",
          "text": [
            "Batch 40, elapsed: 1.8s\nFold 2 Epoch 9 train time: 1.8s\nFold 2 Epoch 9: Train 0.7087, Val 0.7296, val time: 0.2s\n"
          ]
        },
        {
          "output_type": "stream",
          "name": "stdout",
          "text": [
            "New best at epoch 9\n"
          ]
        },
        {
          "output_type": "stream",
          "name": "stderr",
          "text": [
            "\rFold 2 Epoch 10:   0%|          | 0/41 [00:00<?, ?it/s]"
          ]
        },
        {
          "output_type": "stream",
          "name": "stderr",
          "text": [
            "\rFold 2 Epoch 10:   7%|\u258b         | 3/41 [00:00<00:01, 21.91it/s]"
          ]
        },
        {
          "output_type": "stream",
          "name": "stdout",
          "text": [
            "Batch 0, elapsed: 0.0s\n"
          ]
        },
        {
          "output_type": "stream",
          "name": "stderr",
          "text": [
            "\rFold 2 Epoch 10:  15%|\u2588\u258d        | 6/41 [00:00<00:01, 22.83it/s]"
          ]
        },
        {
          "output_type": "stream",
          "name": "stderr",
          "text": [
            "\rFold 2 Epoch 10:  22%|\u2588\u2588\u258f       | 9/41 [00:00<00:01, 22.64it/s]"
          ]
        },
        {
          "output_type": "stream",
          "name": "stderr",
          "text": [
            "\rFold 2 Epoch 10:  29%|\u2588\u2588\u2589       | 12/41 [00:00<00:01, 22.91it/s]"
          ]
        },
        {
          "output_type": "stream",
          "name": "stderr",
          "text": [
            "\rFold 2 Epoch 10:  37%|\u2588\u2588\u2588\u258b      | 15/41 [00:00<00:01, 23.07it/s]"
          ]
        },
        {
          "output_type": "stream",
          "name": "stdout",
          "text": [
            "Batch 10, elapsed: 0.5s\n"
          ]
        },
        {
          "output_type": "stream",
          "name": "stderr",
          "text": [
            "\rFold 2 Epoch 10:  44%|\u2588\u2588\u2588\u2588\u258d     | 18/41 [00:00<00:01, 22.42it/s]"
          ]
        },
        {
          "output_type": "stream",
          "name": "stderr",
          "text": [
            "\rFold 2 Epoch 10:  51%|\u2588\u2588\u2588\u2588\u2588     | 21/41 [00:00<00:00, 22.57it/s]"
          ]
        },
        {
          "output_type": "stream",
          "name": "stderr",
          "text": [
            "\rFold 2 Epoch 10:  59%|\u2588\u2588\u2588\u2588\u2588\u258a    | 24/41 [00:01<00:00, 22.77it/s]"
          ]
        },
        {
          "output_type": "stream",
          "name": "stdout",
          "text": [
            "Batch 20, elapsed: 0.9s\n"
          ]
        },
        {
          "output_type": "stream",
          "name": "stderr",
          "text": [
            "\rFold 2 Epoch 10:  66%|\u2588\u2588\u2588\u2588\u2588\u2588\u258c   | 27/41 [00:01<00:00, 23.07it/s]"
          ]
        },
        {
          "output_type": "stream",
          "name": "stderr",
          "text": [
            "\rFold 2 Epoch 10:  73%|\u2588\u2588\u2588\u2588\u2588\u2588\u2588\u258e  | 30/41 [00:01<00:00, 23.01it/s]"
          ]
        },
        {
          "output_type": "stream",
          "name": "stderr",
          "text": [
            "\rFold 2 Epoch 10:  80%|\u2588\u2588\u2588\u2588\u2588\u2588\u2588\u2588  | 33/41 [00:01<00:00, 22.92it/s]"
          ]
        },
        {
          "output_type": "stream",
          "name": "stdout",
          "text": [
            "Batch 30, elapsed: 1.4s\n"
          ]
        },
        {
          "output_type": "stream",
          "name": "stderr",
          "text": [
            "\rFold 2 Epoch 10:  88%|\u2588\u2588\u2588\u2588\u2588\u2588\u2588\u2588\u258a | 36/41 [00:01<00:00, 23.11it/s]"
          ]
        },
        {
          "output_type": "stream",
          "name": "stderr",
          "text": [
            "\rFold 2 Epoch 10:  95%|\u2588\u2588\u2588\u2588\u2588\u2588\u2588\u2588\u2588\u258c| 39/41 [00:01<00:00, 22.63it/s]"
          ]
        },
        {
          "output_type": "stream",
          "name": "stderr",
          "text": [
            "\rFold 2 Epoch 10: 100%|\u2588\u2588\u2588\u2588\u2588\u2588\u2588\u2588\u2588\u2588| 41/41 [00:01<00:00, 22.94it/s]"
          ]
        },
        {
          "output_type": "stream",
          "name": "stderr",
          "text": [
            "\n"
          ]
        },
        {
          "output_type": "stream",
          "name": "stdout",
          "text": [
            "Batch 40, elapsed: 1.8s\nFold 2 Epoch 10 train time: 1.8s\nFold 2 Epoch 10: Train 0.7022, Val 0.7292, val time: 0.2s\n"
          ]
        },
        {
          "output_type": "stream",
          "name": "stdout",
          "text": [
            "New best at epoch 10\n"
          ]
        },
        {
          "output_type": "stream",
          "name": "stderr",
          "text": [
            "\rFold 2 Epoch 11:   0%|          | 0/41 [00:00<?, ?it/s]"
          ]
        },
        {
          "output_type": "stream",
          "name": "stderr",
          "text": [
            "\rFold 2 Epoch 11:   7%|\u258b         | 3/41 [00:00<00:01, 22.15it/s]"
          ]
        },
        {
          "output_type": "stream",
          "name": "stdout",
          "text": [
            "Batch 0, elapsed: 0.0s\n"
          ]
        },
        {
          "output_type": "stream",
          "name": "stderr",
          "text": [
            "\rFold 2 Epoch 11:  15%|\u2588\u258d        | 6/41 [00:00<00:01, 22.30it/s]"
          ]
        },
        {
          "output_type": "stream",
          "name": "stderr",
          "text": [
            "\rFold 2 Epoch 11:  22%|\u2588\u2588\u258f       | 9/41 [00:00<00:01, 22.96it/s]"
          ]
        },
        {
          "output_type": "stream",
          "name": "stderr",
          "text": [
            "\rFold 2 Epoch 11:  29%|\u2588\u2588\u2589       | 12/41 [00:00<00:01, 23.24it/s]"
          ]
        },
        {
          "output_type": "stream",
          "name": "stderr",
          "text": [
            "\rFold 2 Epoch 11:  37%|\u2588\u2588\u2588\u258b      | 15/41 [00:00<00:01, 23.49it/s]"
          ]
        },
        {
          "output_type": "stream",
          "name": "stdout",
          "text": [
            "Batch 10, elapsed: 0.5s\n"
          ]
        },
        {
          "output_type": "stream",
          "name": "stderr",
          "text": [
            "\rFold 2 Epoch 11:  44%|\u2588\u2588\u2588\u2588\u258d     | 18/41 [00:00<00:00, 23.03it/s]"
          ]
        },
        {
          "output_type": "stream",
          "name": "stderr",
          "text": [
            "\rFold 2 Epoch 11:  51%|\u2588\u2588\u2588\u2588\u2588     | 21/41 [00:00<00:00, 23.34it/s]"
          ]
        },
        {
          "output_type": "stream",
          "name": "stderr",
          "text": [
            "\rFold 2 Epoch 11:  59%|\u2588\u2588\u2588\u2588\u2588\u258a    | 24/41 [00:01<00:00, 23.47it/s]"
          ]
        },
        {
          "output_type": "stream",
          "name": "stdout",
          "text": [
            "Batch 20, elapsed: 0.9s\n"
          ]
        },
        {
          "output_type": "stream",
          "name": "stderr",
          "text": [
            "\rFold 2 Epoch 11:  66%|\u2588\u2588\u2588\u2588\u2588\u2588\u258c   | 27/41 [00:01<00:00, 23.48it/s]"
          ]
        },
        {
          "output_type": "stream",
          "name": "stderr",
          "text": [
            "\rFold 2 Epoch 11:  73%|\u2588\u2588\u2588\u2588\u2588\u2588\u2588\u258e  | 30/41 [00:01<00:00, 23.04it/s]"
          ]
        },
        {
          "output_type": "stream",
          "name": "stderr",
          "text": [
            "\rFold 2 Epoch 11:  80%|\u2588\u2588\u2588\u2588\u2588\u2588\u2588\u2588  | 33/41 [00:01<00:00, 22.47it/s]"
          ]
        },
        {
          "output_type": "stream",
          "name": "stdout",
          "text": [
            "Batch 30, elapsed: 1.3s\n"
          ]
        },
        {
          "output_type": "stream",
          "name": "stderr",
          "text": [
            "\rFold 2 Epoch 11:  88%|\u2588\u2588\u2588\u2588\u2588\u2588\u2588\u2588\u258a | 36/41 [00:01<00:00, 22.87it/s]"
          ]
        },
        {
          "output_type": "stream",
          "name": "stderr",
          "text": [
            "\rFold 2 Epoch 11:  95%|\u2588\u2588\u2588\u2588\u2588\u2588\u2588\u2588\u2588\u258c| 39/41 [00:01<00:00, 22.78it/s]"
          ]
        },
        {
          "output_type": "stream",
          "name": "stderr",
          "text": [
            "\rFold 2 Epoch 11: 100%|\u2588\u2588\u2588\u2588\u2588\u2588\u2588\u2588\u2588\u2588| 41/41 [00:01<00:00, 23.13it/s]"
          ]
        },
        {
          "output_type": "stream",
          "name": "stderr",
          "text": [
            "\n"
          ]
        },
        {
          "output_type": "stream",
          "name": "stdout",
          "text": [
            "Batch 40, elapsed: 1.8s\nFold 2 Epoch 11 train time: 1.8s\nFold 2 Epoch 11: Train 0.6933, Val 0.7260, val time: 0.2s\n"
          ]
        },
        {
          "output_type": "stream",
          "name": "stdout",
          "text": [
            "New best at epoch 11\n"
          ]
        },
        {
          "output_type": "stream",
          "name": "stderr",
          "text": [
            "\rFold 2 Epoch 12:   0%|          | 0/41 [00:00<?, ?it/s]"
          ]
        },
        {
          "output_type": "stream",
          "name": "stderr",
          "text": [
            "\rFold 2 Epoch 12:   7%|\u258b         | 3/41 [00:00<00:01, 23.01it/s]"
          ]
        },
        {
          "output_type": "stream",
          "name": "stdout",
          "text": [
            "Batch 0, elapsed: 0.0s\n"
          ]
        },
        {
          "output_type": "stream",
          "name": "stderr",
          "text": [
            "\rFold 2 Epoch 12:  15%|\u2588\u258d        | 6/41 [00:00<00:01, 22.68it/s]"
          ]
        },
        {
          "output_type": "stream",
          "name": "stderr",
          "text": [
            "\rFold 2 Epoch 12:  22%|\u2588\u2588\u258f       | 9/41 [00:00<00:01, 23.15it/s]"
          ]
        },
        {
          "output_type": "stream",
          "name": "stderr",
          "text": [
            "\rFold 2 Epoch 12:  29%|\u2588\u2588\u2589       | 12/41 [00:00<00:01, 22.96it/s]"
          ]
        },
        {
          "output_type": "stream",
          "name": "stderr",
          "text": [
            "\rFold 2 Epoch 12:  37%|\u2588\u2588\u2588\u258b      | 15/41 [00:00<00:01, 23.03it/s]"
          ]
        },
        {
          "output_type": "stream",
          "name": "stdout",
          "text": [
            "Batch 10, elapsed: 0.5s\n"
          ]
        },
        {
          "output_type": "stream",
          "name": "stderr",
          "text": [
            "\rFold 2 Epoch 12:  44%|\u2588\u2588\u2588\u2588\u258d     | 18/41 [00:00<00:00, 23.41it/s]"
          ]
        },
        {
          "output_type": "stream",
          "name": "stderr",
          "text": [
            "\rFold 2 Epoch 12:  51%|\u2588\u2588\u2588\u2588\u2588     | 21/41 [00:00<00:00, 23.43it/s]"
          ]
        },
        {
          "output_type": "stream",
          "name": "stderr",
          "text": [
            "\rFold 2 Epoch 12:  59%|\u2588\u2588\u2588\u2588\u2588\u258a    | 24/41 [00:01<00:00, 23.13it/s]"
          ]
        },
        {
          "output_type": "stream",
          "name": "stdout",
          "text": [
            "Batch 20, elapsed: 0.9s\n"
          ]
        },
        {
          "output_type": "stream",
          "name": "stderr",
          "text": [
            "\rFold 2 Epoch 12:  66%|\u2588\u2588\u2588\u2588\u2588\u2588\u258c   | 27/41 [00:01<00:00, 22.97it/s]"
          ]
        },
        {
          "output_type": "stream",
          "name": "stderr",
          "text": [
            "\rFold 2 Epoch 12:  73%|\u2588\u2588\u2588\u2588\u2588\u2588\u2588\u258e  | 30/41 [00:01<00:00, 22.77it/s]"
          ]
        },
        {
          "output_type": "stream",
          "name": "stderr",
          "text": [
            "\rFold 2 Epoch 12:  80%|\u2588\u2588\u2588\u2588\u2588\u2588\u2588\u2588  | 33/41 [00:01<00:00, 22.66it/s]"
          ]
        },
        {
          "output_type": "stream",
          "name": "stdout",
          "text": [
            "Batch 30, elapsed: 1.3s\n"
          ]
        },
        {
          "output_type": "stream",
          "name": "stderr",
          "text": [
            "\rFold 2 Epoch 12:  88%|\u2588\u2588\u2588\u2588\u2588\u2588\u2588\u2588\u258a | 36/41 [00:01<00:00, 22.42it/s]"
          ]
        },
        {
          "output_type": "stream",
          "name": "stderr",
          "text": [
            "\rFold 2 Epoch 12:  95%|\u2588\u2588\u2588\u2588\u2588\u2588\u2588\u2588\u2588\u258c| 39/41 [00:01<00:00, 22.78it/s]"
          ]
        },
        {
          "output_type": "stream",
          "name": "stderr",
          "text": [
            "\rFold 2 Epoch 12: 100%|\u2588\u2588\u2588\u2588\u2588\u2588\u2588\u2588\u2588\u2588| 41/41 [00:01<00:00, 23.04it/s]"
          ]
        },
        {
          "output_type": "stream",
          "name": "stderr",
          "text": [
            "\n"
          ]
        },
        {
          "output_type": "stream",
          "name": "stdout",
          "text": [
            "Batch 40, elapsed: 1.8s\nFold 2 Epoch 12 train time: 1.8s\nFold 2 Epoch 12: Train 0.6996, Val 0.7278, val time: 0.2s\n"
          ]
        },
        {
          "output_type": "stream",
          "name": "stderr",
          "text": [
            "\rFold 2 Epoch 13:   0%|          | 0/41 [00:00<?, ?it/s]"
          ]
        },
        {
          "output_type": "stream",
          "name": "stderr",
          "text": [
            "\rFold 2 Epoch 13:   7%|\u258b         | 3/41 [00:00<00:01, 23.21it/s]"
          ]
        },
        {
          "output_type": "stream",
          "name": "stdout",
          "text": [
            "Batch 0, elapsed: 0.0s\n"
          ]
        },
        {
          "output_type": "stream",
          "name": "stderr",
          "text": [
            "\rFold 2 Epoch 13:  15%|\u2588\u258d        | 6/41 [00:00<00:01, 23.40it/s]"
          ]
        },
        {
          "output_type": "stream",
          "name": "stderr",
          "text": [
            "\rFold 2 Epoch 13:  22%|\u2588\u2588\u258f       | 9/41 [00:00<00:01, 22.94it/s]"
          ]
        },
        {
          "output_type": "stream",
          "name": "stderr",
          "text": [
            "\rFold 2 Epoch 13:  29%|\u2588\u2588\u2589       | 12/41 [00:00<00:01, 22.94it/s]"
          ]
        },
        {
          "output_type": "stream",
          "name": "stderr",
          "text": [
            "\rFold 2 Epoch 13:  37%|\u2588\u2588\u2588\u258b      | 15/41 [00:00<00:01, 23.43it/s]"
          ]
        },
        {
          "output_type": "stream",
          "name": "stdout",
          "text": [
            "Batch 10, elapsed: 0.5s\n"
          ]
        },
        {
          "output_type": "stream",
          "name": "stderr",
          "text": [
            "\rFold 2 Epoch 13:  44%|\u2588\u2588\u2588\u2588\u258d     | 18/41 [00:00<00:00, 23.45it/s]"
          ]
        },
        {
          "output_type": "stream",
          "name": "stderr",
          "text": [
            "\rFold 2 Epoch 13:  51%|\u2588\u2588\u2588\u2588\u2588     | 21/41 [00:00<00:00, 23.45it/s]"
          ]
        },
        {
          "output_type": "stream",
          "name": "stderr",
          "text": [
            "\rFold 2 Epoch 13:  59%|\u2588\u2588\u2588\u2588\u2588\u258a    | 24/41 [00:01<00:00, 23.03it/s]"
          ]
        },
        {
          "output_type": "stream",
          "name": "stdout",
          "text": [
            "Batch 20, elapsed: 0.9s\n"
          ]
        },
        {
          "output_type": "stream",
          "name": "stderr",
          "text": [
            "\rFold 2 Epoch 13:  66%|\u2588\u2588\u2588\u2588\u2588\u2588\u258c   | 27/41 [00:01<00:00, 23.06it/s]"
          ]
        },
        {
          "output_type": "stream",
          "name": "stderr",
          "text": [
            "\rFold 2 Epoch 13:  73%|\u2588\u2588\u2588\u2588\u2588\u2588\u2588\u258e  | 30/41 [00:01<00:00, 22.73it/s]"
          ]
        },
        {
          "output_type": "stream",
          "name": "stderr",
          "text": [
            "\rFold 2 Epoch 13:  80%|\u2588\u2588\u2588\u2588\u2588\u2588\u2588\u2588  | 33/41 [00:01<00:00, 23.04it/s]"
          ]
        },
        {
          "output_type": "stream",
          "name": "stdout",
          "text": [
            "Batch 30, elapsed: 1.3s\n"
          ]
        },
        {
          "output_type": "stream",
          "name": "stderr",
          "text": [
            "\rFold 2 Epoch 13:  88%|\u2588\u2588\u2588\u2588\u2588\u2588\u2588\u2588\u258a | 36/41 [00:01<00:00, 23.07it/s]"
          ]
        },
        {
          "output_type": "stream",
          "name": "stderr",
          "text": [
            "\rFold 2 Epoch 13:  95%|\u2588\u2588\u2588\u2588\u2588\u2588\u2588\u2588\u2588\u258c| 39/41 [00:01<00:00, 23.00it/s]"
          ]
        },
        {
          "output_type": "stream",
          "name": "stderr",
          "text": [
            "\rFold 2 Epoch 13: 100%|\u2588\u2588\u2588\u2588\u2588\u2588\u2588\u2588\u2588\u2588| 41/41 [00:01<00:00, 23.18it/s]"
          ]
        },
        {
          "output_type": "stream",
          "name": "stderr",
          "text": [
            "\n"
          ]
        },
        {
          "output_type": "stream",
          "name": "stdout",
          "text": [
            "Batch 40, elapsed: 1.8s\nFold 2 Epoch 13 train time: 1.8s\nFold 2 Epoch 13: Train 0.6881, Val 0.7303, val time: 0.2s\n"
          ]
        },
        {
          "output_type": "stream",
          "name": "stderr",
          "text": [
            "\rFold 2 Epoch 14:   0%|          | 0/41 [00:00<?, ?it/s]"
          ]
        },
        {
          "output_type": "stream",
          "name": "stderr",
          "text": [
            "\rFold 2 Epoch 14:   7%|\u258b         | 3/41 [00:00<00:01, 22.87it/s]"
          ]
        },
        {
          "output_type": "stream",
          "name": "stdout",
          "text": [
            "Batch 0, elapsed: 0.0s\n"
          ]
        },
        {
          "output_type": "stream",
          "name": "stderr",
          "text": [
            "\rFold 2 Epoch 14:  15%|\u2588\u258d        | 6/41 [00:00<00:01, 23.02it/s]"
          ]
        },
        {
          "output_type": "stream",
          "name": "stderr",
          "text": [
            "\rFold 2 Epoch 14:  22%|\u2588\u2588\u258f       | 9/41 [00:00<00:01, 22.43it/s]"
          ]
        },
        {
          "output_type": "stream",
          "name": "stderr",
          "text": [
            "\rFold 2 Epoch 14:  29%|\u2588\u2588\u2589       | 12/41 [00:00<00:01, 22.66it/s]"
          ]
        },
        {
          "output_type": "stream",
          "name": "stderr",
          "text": [
            "\rFold 2 Epoch 14:  37%|\u2588\u2588\u2588\u258b      | 15/41 [00:00<00:01, 22.68it/s]"
          ]
        },
        {
          "output_type": "stream",
          "name": "stdout",
          "text": [
            "Batch 10, elapsed: 0.5s\n"
          ]
        },
        {
          "output_type": "stream",
          "name": "stderr",
          "text": [
            "\rFold 2 Epoch 14:  44%|\u2588\u2588\u2588\u2588\u258d     | 18/41 [00:00<00:01, 22.52it/s]"
          ]
        },
        {
          "output_type": "stream",
          "name": "stderr",
          "text": [
            "\rFold 2 Epoch 14:  51%|\u2588\u2588\u2588\u2588\u2588     | 21/41 [00:00<00:00, 22.61it/s]"
          ]
        },
        {
          "output_type": "stream",
          "name": "stderr",
          "text": [
            "\rFold 2 Epoch 14:  59%|\u2588\u2588\u2588\u2588\u2588\u258a    | 24/41 [00:01<00:00, 22.92it/s]"
          ]
        },
        {
          "output_type": "stream",
          "name": "stdout",
          "text": [
            "Batch 20, elapsed: 0.9s\n"
          ]
        },
        {
          "output_type": "stream",
          "name": "stderr",
          "text": [
            "\rFold 2 Epoch 14:  66%|\u2588\u2588\u2588\u2588\u2588\u2588\u258c   | 27/41 [00:01<00:00, 22.56it/s]"
          ]
        },
        {
          "output_type": "stream",
          "name": "stderr",
          "text": [
            "\rFold 2 Epoch 14:  73%|\u2588\u2588\u2588\u2588\u2588\u2588\u2588\u258e  | 30/41 [00:01<00:00, 22.69it/s]"
          ]
        },
        {
          "output_type": "stream",
          "name": "stderr",
          "text": [
            "\rFold 2 Epoch 14:  80%|\u2588\u2588\u2588\u2588\u2588\u2588\u2588\u2588  | 33/41 [00:01<00:00, 22.56it/s]"
          ]
        },
        {
          "output_type": "stream",
          "name": "stdout",
          "text": [
            "Batch 30, elapsed: 1.4s\n"
          ]
        },
        {
          "output_type": "stream",
          "name": "stderr",
          "text": [
            "\rFold 2 Epoch 14:  88%|\u2588\u2588\u2588\u2588\u2588\u2588\u2588\u2588\u258a | 36/41 [00:01<00:00, 22.67it/s]"
          ]
        },
        {
          "output_type": "stream",
          "name": "stderr",
          "text": [
            "\rFold 2 Epoch 14:  95%|\u2588\u2588\u2588\u2588\u2588\u2588\u2588\u2588\u2588\u258c| 39/41 [00:01<00:00, 23.01it/s]"
          ]
        },
        {
          "output_type": "stream",
          "name": "stderr",
          "text": [
            "\rFold 2 Epoch 14: 100%|\u2588\u2588\u2588\u2588\u2588\u2588\u2588\u2588\u2588\u2588| 41/41 [00:01<00:00, 22.72it/s]"
          ]
        },
        {
          "output_type": "stream",
          "name": "stderr",
          "text": [
            "\n"
          ]
        },
        {
          "output_type": "stream",
          "name": "stdout",
          "text": [
            "Batch 40, elapsed: 1.8s\nFold 2 Epoch 14 train time: 1.8s\nFold 2 Epoch 14: Train 0.6896, Val 0.7303, val time: 0.2s\n"
          ]
        },
        {
          "output_type": "stream",
          "name": "stderr",
          "text": [
            "\rFold 2 Epoch 15:   0%|          | 0/41 [00:00<?, ?it/s]"
          ]
        },
        {
          "output_type": "stream",
          "name": "stderr",
          "text": [
            "\rFold 2 Epoch 15:   7%|\u258b         | 3/41 [00:00<00:01, 21.99it/s]"
          ]
        },
        {
          "output_type": "stream",
          "name": "stdout",
          "text": [
            "Batch 0, elapsed: 0.0s\n"
          ]
        },
        {
          "output_type": "stream",
          "name": "stderr",
          "text": [
            "\rFold 2 Epoch 15:  15%|\u2588\u258d        | 6/41 [00:00<00:01, 22.62it/s]"
          ]
        },
        {
          "output_type": "stream",
          "name": "stderr",
          "text": [
            "\rFold 2 Epoch 15:  22%|\u2588\u2588\u258f       | 9/41 [00:00<00:01, 22.66it/s]"
          ]
        },
        {
          "output_type": "stream",
          "name": "stderr",
          "text": [
            "\rFold 2 Epoch 15:  29%|\u2588\u2588\u2589       | 12/41 [00:00<00:01, 22.86it/s]"
          ]
        },
        {
          "output_type": "stream",
          "name": "stderr",
          "text": [
            "\rFold 2 Epoch 15:  37%|\u2588\u2588\u2588\u258b      | 15/41 [00:00<00:01, 22.66it/s]"
          ]
        },
        {
          "output_type": "stream",
          "name": "stdout",
          "text": [
            "Batch 10, elapsed: 0.5s\n"
          ]
        },
        {
          "output_type": "stream",
          "name": "stderr",
          "text": [
            "\rFold 2 Epoch 15:  44%|\u2588\u2588\u2588\u2588\u258d     | 18/41 [00:00<00:00, 23.08it/s]"
          ]
        },
        {
          "output_type": "stream",
          "name": "stderr",
          "text": [
            "\rFold 2 Epoch 15:  51%|\u2588\u2588\u2588\u2588\u2588     | 21/41 [00:00<00:00, 23.14it/s]"
          ]
        },
        {
          "output_type": "stream",
          "name": "stderr",
          "text": [
            "\rFold 2 Epoch 15:  59%|\u2588\u2588\u2588\u2588\u2588\u258a    | 24/41 [00:01<00:00, 22.92it/s]"
          ]
        },
        {
          "output_type": "stream",
          "name": "stdout",
          "text": [
            "Batch 20, elapsed: 0.9s\n"
          ]
        },
        {
          "output_type": "stream",
          "name": "stderr",
          "text": [
            "\rFold 2 Epoch 15:  66%|\u2588\u2588\u2588\u2588\u2588\u2588\u258c   | 27/41 [00:01<00:00, 22.66it/s]"
          ]
        },
        {
          "output_type": "stream",
          "name": "stderr",
          "text": [
            "\rFold 2 Epoch 15:  73%|\u2588\u2588\u2588\u2588\u2588\u2588\u2588\u258e  | 30/41 [00:01<00:00, 22.90it/s]"
          ]
        },
        {
          "output_type": "stream",
          "name": "stderr",
          "text": [
            "\rFold 2 Epoch 15:  80%|\u2588\u2588\u2588\u2588\u2588\u2588\u2588\u2588  | 33/41 [00:01<00:00, 22.43it/s]"
          ]
        },
        {
          "output_type": "stream",
          "name": "stdout",
          "text": [
            "Batch 30, elapsed: 1.4s\n"
          ]
        },
        {
          "output_type": "stream",
          "name": "stderr",
          "text": [
            "\rFold 2 Epoch 15:  88%|\u2588\u2588\u2588\u2588\u2588\u2588\u2588\u2588\u258a | 36/41 [00:01<00:00, 22.68it/s]"
          ]
        },
        {
          "output_type": "stream",
          "name": "stderr",
          "text": [
            "\rFold 2 Epoch 15:  95%|\u2588\u2588\u2588\u2588\u2588\u2588\u2588\u2588\u2588\u258c| 39/41 [00:01<00:00, 23.13it/s]"
          ]
        },
        {
          "output_type": "stream",
          "name": "stderr",
          "text": [
            "\rFold 2 Epoch 15: 100%|\u2588\u2588\u2588\u2588\u2588\u2588\u2588\u2588\u2588\u2588| 41/41 [00:01<00:00, 23.03it/s]"
          ]
        },
        {
          "output_type": "stream",
          "name": "stderr",
          "text": [
            "\n"
          ]
        },
        {
          "output_type": "stream",
          "name": "stdout",
          "text": [
            "Batch 40, elapsed: 1.8s\nFold 2 Epoch 15 train time: 1.8s\nFold 2 Epoch 15: Train 0.6860, Val 0.7305, val time: 0.2s\nFold 2 best val loss: 0.7260\n"
          ]
        },
        {
          "output_type": "stream",
          "name": "stdout",
          "text": [
            "Fold 3 pos_weight: [3. 3. 3. 3. 3. 3. 3.]\nFold 3 GPU memory before model: 0.1GB\n"
          ]
        },
        {
          "output_type": "stream",
          "name": "stderr",
          "text": [
            "\rFold 3 Epoch 1:   0%|          | 0/41 [00:00<?, ?it/s]"
          ]
        },
        {
          "output_type": "stream",
          "name": "stderr",
          "text": [
            "\rFold 3 Epoch 1:   7%|\u258b         | 3/41 [00:00<00:01, 23.65it/s]"
          ]
        },
        {
          "output_type": "stream",
          "name": "stdout",
          "text": [
            "Batch 0, elapsed: 0.0s\n"
          ]
        },
        {
          "output_type": "stream",
          "name": "stderr",
          "text": [
            "\rFold 3 Epoch 1:  15%|\u2588\u258d        | 6/41 [00:00<00:01, 23.06it/s]"
          ]
        },
        {
          "output_type": "stream",
          "name": "stderr",
          "text": [
            "\rFold 3 Epoch 1:  22%|\u2588\u2588\u258f       | 9/41 [00:00<00:01, 23.02it/s]"
          ]
        },
        {
          "output_type": "stream",
          "name": "stderr",
          "text": [
            "\rFold 3 Epoch 1:  29%|\u2588\u2588\u2589       | 12/41 [00:00<00:01, 23.31it/s]"
          ]
        },
        {
          "output_type": "stream",
          "name": "stderr",
          "text": [
            "\rFold 3 Epoch 1:  37%|\u2588\u2588\u2588\u258b      | 15/41 [00:00<00:01, 23.34it/s]"
          ]
        },
        {
          "output_type": "stream",
          "name": "stdout",
          "text": [
            "Batch 10, elapsed: 0.5s\n"
          ]
        },
        {
          "output_type": "stream",
          "name": "stderr",
          "text": [
            "\rFold 3 Epoch 1:  44%|\u2588\u2588\u2588\u2588\u258d     | 18/41 [00:00<00:00, 23.36it/s]"
          ]
        },
        {
          "output_type": "stream",
          "name": "stderr",
          "text": [
            "\rFold 3 Epoch 1:  51%|\u2588\u2588\u2588\u2588\u2588     | 21/41 [00:00<00:00, 23.31it/s]"
          ]
        },
        {
          "output_type": "stream",
          "name": "stderr",
          "text": [
            "\rFold 3 Epoch 1:  59%|\u2588\u2588\u2588\u2588\u2588\u258a    | 24/41 [00:01<00:00, 23.25it/s]"
          ]
        },
        {
          "output_type": "stream",
          "name": "stdout",
          "text": [
            "Batch 20, elapsed: 0.9s\n"
          ]
        },
        {
          "output_type": "stream",
          "name": "stderr",
          "text": [
            "\rFold 3 Epoch 1:  66%|\u2588\u2588\u2588\u2588\u2588\u2588\u258c   | 27/41 [00:01<00:00, 23.34it/s]"
          ]
        },
        {
          "output_type": "stream",
          "name": "stderr",
          "text": [
            "\rFold 3 Epoch 1:  73%|\u2588\u2588\u2588\u2588\u2588\u2588\u2588\u258e  | 30/41 [00:01<00:00, 23.26it/s]"
          ]
        },
        {
          "output_type": "stream",
          "name": "stderr",
          "text": [
            "\rFold 3 Epoch 1:  80%|\u2588\u2588\u2588\u2588\u2588\u2588\u2588\u2588  | 33/41 [00:01<00:00, 23.13it/s]"
          ]
        },
        {
          "output_type": "stream",
          "name": "stdout",
          "text": [
            "Batch 30, elapsed: 1.3s\n"
          ]
        },
        {
          "output_type": "stream",
          "name": "stderr",
          "text": [
            "\rFold 3 Epoch 1:  88%|\u2588\u2588\u2588\u2588\u2588\u2588\u2588\u2588\u258a | 36/41 [00:01<00:00, 23.00it/s]"
          ]
        },
        {
          "output_type": "stream",
          "name": "stderr",
          "text": [
            "\rFold 3 Epoch 1:  95%|\u2588\u2588\u2588\u2588\u2588\u2588\u2588\u2588\u2588\u258c| 39/41 [00:01<00:00, 23.01it/s]"
          ]
        },
        {
          "output_type": "stream",
          "name": "stderr",
          "text": [
            "\rFold 3 Epoch 1: 100%|\u2588\u2588\u2588\u2588\u2588\u2588\u2588\u2588\u2588\u2588| 41/41 [00:01<00:00, 22.92it/s]"
          ]
        },
        {
          "output_type": "stream",
          "name": "stderr",
          "text": [
            "\n"
          ]
        },
        {
          "output_type": "stream",
          "name": "stdout",
          "text": [
            "Batch 40, elapsed: 1.8s\nFold 3 Epoch 1 train time: 1.8s\nFold 3 Epoch 1: Train 0.8119, Val 0.7538, val time: 0.2s\n"
          ]
        },
        {
          "output_type": "stream",
          "name": "stdout",
          "text": [
            "New best at epoch 1\n"
          ]
        },
        {
          "output_type": "stream",
          "name": "stderr",
          "text": [
            "\rFold 3 Epoch 2:   0%|          | 0/41 [00:00<?, ?it/s]"
          ]
        },
        {
          "output_type": "stream",
          "name": "stderr",
          "text": [
            "\rFold 3 Epoch 2:   7%|\u258b         | 3/41 [00:00<00:01, 23.36it/s]"
          ]
        },
        {
          "output_type": "stream",
          "name": "stdout",
          "text": [
            "Batch 0, elapsed: 0.0s\n"
          ]
        },
        {
          "output_type": "stream",
          "name": "stderr",
          "text": [
            "\rFold 3 Epoch 2:  15%|\u2588\u258d        | 6/41 [00:00<00:01, 23.64it/s]"
          ]
        },
        {
          "output_type": "stream",
          "name": "stderr",
          "text": [
            "\rFold 3 Epoch 2:  22%|\u2588\u2588\u258f       | 9/41 [00:00<00:01, 23.59it/s]"
          ]
        },
        {
          "output_type": "stream",
          "name": "stderr",
          "text": [
            "\rFold 3 Epoch 2:  29%|\u2588\u2588\u2589       | 12/41 [00:00<00:01, 23.44it/s]"
          ]
        },
        {
          "output_type": "stream",
          "name": "stderr",
          "text": [
            "\rFold 3 Epoch 2:  37%|\u2588\u2588\u2588\u258b      | 15/41 [00:00<00:01, 23.33it/s]"
          ]
        },
        {
          "output_type": "stream",
          "name": "stdout",
          "text": [
            "Batch 10, elapsed: 0.5s\n"
          ]
        },
        {
          "output_type": "stream",
          "name": "stderr",
          "text": [
            "\rFold 3 Epoch 2:  44%|\u2588\u2588\u2588\u2588\u258d     | 18/41 [00:00<00:00, 23.24it/s]"
          ]
        },
        {
          "output_type": "stream",
          "name": "stderr",
          "text": [
            "\rFold 3 Epoch 2:  51%|\u2588\u2588\u2588\u2588\u2588     | 21/41 [00:00<00:00, 23.01it/s]"
          ]
        },
        {
          "output_type": "stream",
          "name": "stderr",
          "text": [
            "\rFold 3 Epoch 2:  59%|\u2588\u2588\u2588\u2588\u2588\u258a    | 24/41 [00:01<00:00, 23.07it/s]"
          ]
        },
        {
          "output_type": "stream",
          "name": "stdout",
          "text": [
            "Batch 20, elapsed: 0.9s\n"
          ]
        },
        {
          "output_type": "stream",
          "name": "stderr",
          "text": [
            "\rFold 3 Epoch 2:  66%|\u2588\u2588\u2588\u2588\u2588\u2588\u258c   | 27/41 [00:01<00:00, 23.19it/s]"
          ]
        },
        {
          "output_type": "stream",
          "name": "stderr",
          "text": [
            "\rFold 3 Epoch 2:  73%|\u2588\u2588\u2588\u2588\u2588\u2588\u2588\u258e  | 30/41 [00:01<00:00, 22.91it/s]"
          ]
        },
        {
          "output_type": "stream",
          "name": "stderr",
          "text": [
            "\rFold 3 Epoch 2:  80%|\u2588\u2588\u2588\u2588\u2588\u2588\u2588\u2588  | 33/41 [00:01<00:00, 23.12it/s]"
          ]
        },
        {
          "output_type": "stream",
          "name": "stdout",
          "text": [
            "Batch 30, elapsed: 1.3s\n"
          ]
        },
        {
          "output_type": "stream",
          "name": "stderr",
          "text": [
            "\rFold 3 Epoch 2:  88%|\u2588\u2588\u2588\u2588\u2588\u2588\u2588\u2588\u258a | 36/41 [00:01<00:00, 23.29it/s]"
          ]
        },
        {
          "output_type": "stream",
          "name": "stderr",
          "text": [
            "\rFold 3 Epoch 2:  95%|\u2588\u2588\u2588\u2588\u2588\u2588\u2588\u2588\u2588\u258c| 39/41 [00:01<00:00, 23.30it/s]"
          ]
        },
        {
          "output_type": "stream",
          "name": "stderr",
          "text": [
            "\rFold 3 Epoch 2: 100%|\u2588\u2588\u2588\u2588\u2588\u2588\u2588\u2588\u2588\u2588| 41/41 [00:01<00:00, 23.42it/s]"
          ]
        },
        {
          "output_type": "stream",
          "name": "stderr",
          "text": [
            "\n"
          ]
        },
        {
          "output_type": "stream",
          "name": "stdout",
          "text": [
            "Batch 40, elapsed: 1.8s\nFold 3 Epoch 2 train time: 1.8s\nFold 3 Epoch 2: Train 0.7698, Val 0.7150, val time: 0.2s\n"
          ]
        },
        {
          "output_type": "stream",
          "name": "stdout",
          "text": [
            "New best at epoch 2\n"
          ]
        },
        {
          "output_type": "stream",
          "name": "stderr",
          "text": [
            "\rFold 3 Epoch 3:   0%|          | 0/41 [00:00<?, ?it/s]"
          ]
        },
        {
          "output_type": "stream",
          "name": "stderr",
          "text": [
            "\rFold 3 Epoch 3:   7%|\u258b         | 3/41 [00:00<00:01, 22.04it/s]"
          ]
        },
        {
          "output_type": "stream",
          "name": "stdout",
          "text": [
            "Batch 0, elapsed: 0.0s\n"
          ]
        },
        {
          "output_type": "stream",
          "name": "stderr",
          "text": [
            "\rFold 3 Epoch 3:  15%|\u2588\u258d        | 6/41 [00:00<00:01, 22.96it/s]"
          ]
        },
        {
          "output_type": "stream",
          "name": "stderr",
          "text": [
            "\rFold 3 Epoch 3:  22%|\u2588\u2588\u258f       | 9/41 [00:00<00:01, 23.16it/s]"
          ]
        },
        {
          "output_type": "stream",
          "name": "stderr",
          "text": [
            "\rFold 3 Epoch 3:  29%|\u2588\u2588\u2589       | 12/41 [00:00<00:01, 23.13it/s]"
          ]
        },
        {
          "output_type": "stream",
          "name": "stderr",
          "text": [
            "\rFold 3 Epoch 3:  37%|\u2588\u2588\u2588\u258b      | 15/41 [00:00<00:01, 23.14it/s]"
          ]
        },
        {
          "output_type": "stream",
          "name": "stdout",
          "text": [
            "Batch 10, elapsed: 0.5s\n"
          ]
        },
        {
          "output_type": "stream",
          "name": "stderr",
          "text": [
            "\rFold 3 Epoch 3:  44%|\u2588\u2588\u2588\u2588\u258d     | 18/41 [00:00<00:00, 23.04it/s]"
          ]
        },
        {
          "output_type": "stream",
          "name": "stderr",
          "text": [
            "\rFold 3 Epoch 3:  51%|\u2588\u2588\u2588\u2588\u2588     | 21/41 [00:00<00:00, 23.31it/s]"
          ]
        },
        {
          "output_type": "stream",
          "name": "stderr",
          "text": [
            "\rFold 3 Epoch 3:  59%|\u2588\u2588\u2588\u2588\u2588\u258a    | 24/41 [00:01<00:00, 23.35it/s]"
          ]
        },
        {
          "output_type": "stream",
          "name": "stdout",
          "text": [
            "Batch 20, elapsed: 0.9s\n"
          ]
        },
        {
          "output_type": "stream",
          "name": "stderr",
          "text": [
            "\rFold 3 Epoch 3:  66%|\u2588\u2588\u2588\u2588\u2588\u2588\u258c   | 27/41 [00:01<00:00, 22.48it/s]"
          ]
        },
        {
          "output_type": "stream",
          "name": "stderr",
          "text": [
            "\rFold 3 Epoch 3:  73%|\u2588\u2588\u2588\u2588\u2588\u2588\u2588\u258e  | 30/41 [00:01<00:00, 23.02it/s]"
          ]
        },
        {
          "output_type": "stream",
          "name": "stderr",
          "text": [
            "\rFold 3 Epoch 3:  80%|\u2588\u2588\u2588\u2588\u2588\u2588\u2588\u2588  | 33/41 [00:01<00:00, 22.70it/s]"
          ]
        },
        {
          "output_type": "stream",
          "name": "stdout",
          "text": [
            "Batch 30, elapsed: 1.3s\n"
          ]
        },
        {
          "output_type": "stream",
          "name": "stderr",
          "text": [
            "\rFold 3 Epoch 3:  88%|\u2588\u2588\u2588\u2588\u2588\u2588\u2588\u2588\u258a | 36/41 [00:01<00:00, 22.79it/s]"
          ]
        },
        {
          "output_type": "stream",
          "name": "stderr",
          "text": [
            "\rFold 3 Epoch 3:  95%|\u2588\u2588\u2588\u2588\u2588\u2588\u2588\u2588\u2588\u258c| 39/41 [00:01<00:00, 22.77it/s]"
          ]
        },
        {
          "output_type": "stream",
          "name": "stderr",
          "text": [
            "\rFold 3 Epoch 3: 100%|\u2588\u2588\u2588\u2588\u2588\u2588\u2588\u2588\u2588\u2588| 41/41 [00:01<00:00, 23.07it/s]"
          ]
        },
        {
          "output_type": "stream",
          "name": "stderr",
          "text": [
            "\n"
          ]
        },
        {
          "output_type": "stream",
          "name": "stdout",
          "text": [
            "Batch 40, elapsed: 1.8s\nFold 3 Epoch 3 train time: 1.8s\nFold 3 Epoch 3: Train 0.7387, Val 0.7317, val time: 0.2s\n"
          ]
        },
        {
          "output_type": "stream",
          "name": "stderr",
          "text": [
            "\rFold 3 Epoch 4:   0%|          | 0/41 [00:00<?, ?it/s]"
          ]
        },
        {
          "output_type": "stream",
          "name": "stderr",
          "text": [
            "\rFold 3 Epoch 4:   7%|\u258b         | 3/41 [00:00<00:01, 22.42it/s]"
          ]
        },
        {
          "output_type": "stream",
          "name": "stdout",
          "text": [
            "Batch 0, elapsed: 0.0s\n"
          ]
        },
        {
          "output_type": "stream",
          "name": "stderr",
          "text": [
            "\rFold 3 Epoch 4:  15%|\u2588\u258d        | 6/41 [00:00<00:01, 22.85it/s]"
          ]
        },
        {
          "output_type": "stream",
          "name": "stderr",
          "text": [
            "\rFold 3 Epoch 4:  22%|\u2588\u2588\u258f       | 9/41 [00:00<00:01, 23.33it/s]"
          ]
        },
        {
          "output_type": "stream",
          "name": "stderr",
          "text": [
            "\rFold 3 Epoch 4:  29%|\u2588\u2588\u2589       | 12/41 [00:00<00:01, 22.84it/s]"
          ]
        },
        {
          "output_type": "stream",
          "name": "stderr",
          "text": [
            "\rFold 3 Epoch 4:  37%|\u2588\u2588\u2588\u258b      | 15/41 [00:00<00:01, 23.09it/s]"
          ]
        },
        {
          "output_type": "stream",
          "name": "stdout",
          "text": [
            "Batch 10, elapsed: 0.5s\n"
          ]
        },
        {
          "output_type": "stream",
          "name": "stderr",
          "text": [
            "\rFold 3 Epoch 4:  44%|\u2588\u2588\u2588\u2588\u258d     | 18/41 [00:00<00:00, 23.30it/s]"
          ]
        },
        {
          "output_type": "stream",
          "name": "stderr",
          "text": [
            "\rFold 3 Epoch 4:  51%|\u2588\u2588\u2588\u2588\u2588     | 21/41 [00:00<00:00, 23.04it/s]"
          ]
        },
        {
          "output_type": "stream",
          "name": "stderr",
          "text": [
            "\rFold 3 Epoch 4:  59%|\u2588\u2588\u2588\u2588\u2588\u258a    | 24/41 [00:01<00:00, 23.22it/s]"
          ]
        },
        {
          "output_type": "stream",
          "name": "stdout",
          "text": [
            "Batch 20, elapsed: 0.9s\n"
          ]
        },
        {
          "output_type": "stream",
          "name": "stderr",
          "text": [
            "\rFold 3 Epoch 4:  66%|\u2588\u2588\u2588\u2588\u2588\u2588\u258c   | 27/41 [00:01<00:00, 23.43it/s]"
          ]
        },
        {
          "output_type": "stream",
          "name": "stderr",
          "text": [
            "\rFold 3 Epoch 4:  73%|\u2588\u2588\u2588\u2588\u2588\u2588\u2588\u258e  | 30/41 [00:01<00:00, 23.48it/s]"
          ]
        },
        {
          "output_type": "stream",
          "name": "stderr",
          "text": [
            "\rFold 3 Epoch 4:  80%|\u2588\u2588\u2588\u2588\u2588\u2588\u2588\u2588  | 33/41 [00:01<00:00, 23.10it/s]"
          ]
        },
        {
          "output_type": "stream",
          "name": "stdout",
          "text": [
            "Batch 30, elapsed: 1.3s\n"
          ]
        },
        {
          "output_type": "stream",
          "name": "stderr",
          "text": [
            "\rFold 3 Epoch 4:  88%|\u2588\u2588\u2588\u2588\u2588\u2588\u2588\u2588\u258a | 36/41 [00:01<00:00, 23.28it/s]"
          ]
        },
        {
          "output_type": "stream",
          "name": "stderr",
          "text": [
            "\rFold 3 Epoch 4:  95%|\u2588\u2588\u2588\u2588\u2588\u2588\u2588\u2588\u2588\u258c| 39/41 [00:01<00:00, 23.20it/s]"
          ]
        },
        {
          "output_type": "stream",
          "name": "stderr",
          "text": [
            "\rFold 3 Epoch 4: 100%|\u2588\u2588\u2588\u2588\u2588\u2588\u2588\u2588\u2588\u2588| 41/41 [00:01<00:00, 23.36it/s]"
          ]
        },
        {
          "output_type": "stream",
          "name": "stderr",
          "text": [
            "\n"
          ]
        },
        {
          "output_type": "stream",
          "name": "stdout",
          "text": [
            "Batch 40, elapsed: 1.8s\nFold 3 Epoch 4 train time: 1.8s\nFold 3 Epoch 4: Train 0.7199, Val 0.7689, val time: 0.2s\n"
          ]
        },
        {
          "output_type": "stream",
          "name": "stderr",
          "text": [
            "\rFold 3 Epoch 5:   0%|          | 0/41 [00:00<?, ?it/s]"
          ]
        },
        {
          "output_type": "stream",
          "name": "stderr",
          "text": [
            "\rFold 3 Epoch 5:   7%|\u258b         | 3/41 [00:00<00:01, 23.46it/s]"
          ]
        },
        {
          "output_type": "stream",
          "name": "stdout",
          "text": [
            "Batch 0, elapsed: 0.0s\n"
          ]
        },
        {
          "output_type": "stream",
          "name": "stderr",
          "text": [
            "\rFold 3 Epoch 5:  15%|\u2588\u258d        | 6/41 [00:00<00:01, 22.61it/s]"
          ]
        },
        {
          "output_type": "stream",
          "name": "stderr",
          "text": [
            "\rFold 3 Epoch 5:  22%|\u2588\u2588\u258f       | 9/41 [00:00<00:01, 22.48it/s]"
          ]
        },
        {
          "output_type": "stream",
          "name": "stderr",
          "text": [
            "\rFold 3 Epoch 5:  29%|\u2588\u2588\u2589       | 12/41 [00:00<00:01, 22.65it/s]"
          ]
        },
        {
          "output_type": "stream",
          "name": "stderr",
          "text": [
            "\rFold 3 Epoch 5:  37%|\u2588\u2588\u2588\u258b      | 15/41 [00:00<00:01, 22.91it/s]"
          ]
        },
        {
          "output_type": "stream",
          "name": "stdout",
          "text": [
            "Batch 10, elapsed: 0.5s\n"
          ]
        },
        {
          "output_type": "stream",
          "name": "stderr",
          "text": [
            "\rFold 3 Epoch 5:  44%|\u2588\u2588\u2588\u2588\u258d     | 18/41 [00:00<00:01, 23.00it/s]"
          ]
        },
        {
          "output_type": "stream",
          "name": "stderr",
          "text": [
            "\rFold 3 Epoch 5:  51%|\u2588\u2588\u2588\u2588\u2588     | 21/41 [00:00<00:00, 23.19it/s]"
          ]
        },
        {
          "output_type": "stream",
          "name": "stderr",
          "text": [
            "\rFold 3 Epoch 5:  59%|\u2588\u2588\u2588\u2588\u2588\u258a    | 24/41 [00:01<00:00, 23.08it/s]"
          ]
        },
        {
          "output_type": "stream",
          "name": "stdout",
          "text": [
            "Batch 20, elapsed: 0.9s\n"
          ]
        },
        {
          "output_type": "stream",
          "name": "stderr",
          "text": [
            "\rFold 3 Epoch 5:  66%|\u2588\u2588\u2588\u2588\u2588\u2588\u258c   | 27/41 [00:01<00:00, 23.19it/s]"
          ]
        },
        {
          "output_type": "stream",
          "name": "stderr",
          "text": [
            "\rFold 3 Epoch 5:  73%|\u2588\u2588\u2588\u2588\u2588\u2588\u2588\u258e  | 30/41 [00:01<00:00, 23.15it/s]"
          ]
        },
        {
          "output_type": "stream",
          "name": "stderr",
          "text": [
            "\rFold 3 Epoch 5:  80%|\u2588\u2588\u2588\u2588\u2588\u2588\u2588\u2588  | 33/41 [00:01<00:00, 23.17it/s]"
          ]
        },
        {
          "output_type": "stream",
          "name": "stdout",
          "text": [
            "Batch 30, elapsed: 1.3s\n"
          ]
        },
        {
          "output_type": "stream",
          "name": "stderr",
          "text": [
            "\rFold 3 Epoch 5:  88%|\u2588\u2588\u2588\u2588\u2588\u2588\u2588\u2588\u258a | 36/41 [00:01<00:00, 23.20it/s]"
          ]
        },
        {
          "output_type": "stream",
          "name": "stderr",
          "text": [
            "\rFold 3 Epoch 5:  95%|\u2588\u2588\u2588\u2588\u2588\u2588\u2588\u2588\u2588\u258c| 39/41 [00:01<00:00, 23.40it/s]"
          ]
        },
        {
          "output_type": "stream",
          "name": "stderr",
          "text": [
            "\rFold 3 Epoch 5: 100%|\u2588\u2588\u2588\u2588\u2588\u2588\u2588\u2588\u2588\u2588| 41/41 [00:01<00:00, 23.26it/s]"
          ]
        },
        {
          "output_type": "stream",
          "name": "stderr",
          "text": [
            "\n"
          ]
        },
        {
          "output_type": "stream",
          "name": "stdout",
          "text": [
            "Batch 40, elapsed: 1.8s\nFold 3 Epoch 5 train time: 1.8s\nFold 3 Epoch 5: Train 0.8079, Val 0.7258, val time: 0.2s\n"
          ]
        },
        {
          "output_type": "stream",
          "name": "stderr",
          "text": [
            "\rFold 3 Epoch 6:   0%|          | 0/41 [00:00<?, ?it/s]"
          ]
        },
        {
          "output_type": "stream",
          "name": "stderr",
          "text": [
            "\rFold 3 Epoch 6:   7%|\u258b         | 3/41 [00:00<00:01, 23.34it/s]"
          ]
        },
        {
          "output_type": "stream",
          "name": "stdout",
          "text": [
            "Batch 0, elapsed: 0.0s\n"
          ]
        },
        {
          "output_type": "stream",
          "name": "stderr",
          "text": [
            "\rFold 3 Epoch 6:  15%|\u2588\u258d        | 6/41 [00:00<00:01, 23.58it/s]"
          ]
        },
        {
          "output_type": "stream",
          "name": "stderr",
          "text": [
            "\rFold 3 Epoch 6:  22%|\u2588\u2588\u258f       | 9/41 [00:00<00:01, 23.26it/s]"
          ]
        },
        {
          "output_type": "stream",
          "name": "stderr",
          "text": [
            "\rFold 3 Epoch 6:  29%|\u2588\u2588\u2589       | 12/41 [00:00<00:01, 23.38it/s]"
          ]
        },
        {
          "output_type": "stream",
          "name": "stderr",
          "text": [
            "\rFold 3 Epoch 6:  37%|\u2588\u2588\u2588\u258b      | 15/41 [00:00<00:01, 23.03it/s]"
          ]
        },
        {
          "output_type": "stream",
          "name": "stdout",
          "text": [
            "Batch 10, elapsed: 0.5s\n"
          ]
        },
        {
          "output_type": "stream",
          "name": "stderr",
          "text": [
            "\rFold 3 Epoch 6:  44%|\u2588\u2588\u2588\u2588\u258d     | 18/41 [00:00<00:00, 23.16it/s]"
          ]
        },
        {
          "output_type": "stream",
          "name": "stderr",
          "text": [
            "\rFold 3 Epoch 6:  51%|\u2588\u2588\u2588\u2588\u2588     | 21/41 [00:00<00:00, 23.41it/s]"
          ]
        },
        {
          "output_type": "stream",
          "name": "stderr",
          "text": [
            "\rFold 3 Epoch 6:  59%|\u2588\u2588\u2588\u2588\u2588\u258a    | 24/41 [00:01<00:00, 23.34it/s]"
          ]
        },
        {
          "output_type": "stream",
          "name": "stdout",
          "text": [
            "Batch 20, elapsed: 0.9s\n"
          ]
        },
        {
          "output_type": "stream",
          "name": "stderr",
          "text": [
            "\rFold 3 Epoch 6:  66%|\u2588\u2588\u2588\u2588\u2588\u2588\u258c   | 27/41 [00:01<00:00, 23.31it/s]"
          ]
        },
        {
          "output_type": "stream",
          "name": "stderr",
          "text": [
            "\rFold 3 Epoch 6:  73%|\u2588\u2588\u2588\u2588\u2588\u2588\u2588\u258e  | 30/41 [00:01<00:00, 23.25it/s]"
          ]
        },
        {
          "output_type": "stream",
          "name": "stderr",
          "text": [
            "\rFold 3 Epoch 6:  80%|\u2588\u2588\u2588\u2588\u2588\u2588\u2588\u2588  | 33/41 [00:01<00:00, 23.07it/s]"
          ]
        },
        {
          "output_type": "stream",
          "name": "stdout",
          "text": [
            "Batch 30, elapsed: 1.3s\n"
          ]
        },
        {
          "output_type": "stream",
          "name": "stderr",
          "text": [
            "\rFold 3 Epoch 6:  88%|\u2588\u2588\u2588\u2588\u2588\u2588\u2588\u2588\u258a | 36/41 [00:01<00:00, 23.29it/s]"
          ]
        },
        {
          "output_type": "stream",
          "name": "stderr",
          "text": [
            "\rFold 3 Epoch 6:  95%|\u2588\u2588\u2588\u2588\u2588\u2588\u2588\u2588\u2588\u258c| 39/41 [00:01<00:00, 23.14it/s]"
          ]
        },
        {
          "output_type": "stream",
          "name": "stderr",
          "text": [
            "\rFold 3 Epoch 6: 100%|\u2588\u2588\u2588\u2588\u2588\u2588\u2588\u2588\u2588\u2588| 41/41 [00:01<00:00, 23.35it/s]"
          ]
        },
        {
          "output_type": "stream",
          "name": "stderr",
          "text": [
            "\n"
          ]
        },
        {
          "output_type": "stream",
          "name": "stdout",
          "text": [
            "Batch 40, elapsed: 1.8s\nFold 3 Epoch 6 train time: 1.8s\n"
          ]
        },
        {
          "output_type": "stream",
          "name": "stdout",
          "text": [
            "Fold 3 Epoch 6: Train 0.7198, Val 0.7397, val time: 0.2s\n"
          ]
        },
        {
          "output_type": "stream",
          "name": "stderr",
          "text": [
            "\rFold 3 Epoch 7:   0%|          | 0/41 [00:00<?, ?it/s]"
          ]
        },
        {
          "output_type": "stream",
          "name": "stderr",
          "text": [
            "\rFold 3 Epoch 7:   7%|\u258b         | 3/41 [00:00<00:01, 23.01it/s]"
          ]
        },
        {
          "output_type": "stream",
          "name": "stdout",
          "text": [
            "Batch 0, elapsed: 0.0s\n"
          ]
        },
        {
          "output_type": "stream",
          "name": "stderr",
          "text": [
            "\rFold 3 Epoch 7:  15%|\u2588\u258d        | 6/41 [00:00<00:01, 22.50it/s]"
          ]
        },
        {
          "output_type": "stream",
          "name": "stderr",
          "text": [
            "\rFold 3 Epoch 7:  22%|\u2588\u2588\u258f       | 9/41 [00:00<00:01, 23.05it/s]"
          ]
        },
        {
          "output_type": "stream",
          "name": "stderr",
          "text": [
            "\rFold 3 Epoch 7:  29%|\u2588\u2588\u2589       | 12/41 [00:00<00:01, 23.00it/s]"
          ]
        },
        {
          "output_type": "stream",
          "name": "stderr",
          "text": [
            "\rFold 3 Epoch 7:  37%|\u2588\u2588\u2588\u258b      | 15/41 [00:00<00:01, 22.58it/s]"
          ]
        },
        {
          "output_type": "stream",
          "name": "stdout",
          "text": [
            "Batch 10, elapsed: 0.5s\n"
          ]
        },
        {
          "output_type": "stream",
          "name": "stderr",
          "text": [
            "\rFold 3 Epoch 7:  44%|\u2588\u2588\u2588\u2588\u258d     | 18/41 [00:00<00:01, 22.49it/s]"
          ]
        },
        {
          "output_type": "stream",
          "name": "stderr",
          "text": [
            "\rFold 3 Epoch 7:  51%|\u2588\u2588\u2588\u2588\u2588     | 21/41 [00:00<00:00, 22.23it/s]"
          ]
        },
        {
          "output_type": "stream",
          "name": "stderr",
          "text": [
            "\rFold 3 Epoch 7:  59%|\u2588\u2588\u2588\u2588\u2588\u258a    | 24/41 [00:01<00:00, 22.44it/s]"
          ]
        },
        {
          "output_type": "stream",
          "name": "stdout",
          "text": [
            "Batch 20, elapsed: 0.9s\n"
          ]
        },
        {
          "output_type": "stream",
          "name": "stderr",
          "text": [
            "\rFold 3 Epoch 7:  66%|\u2588\u2588\u2588\u2588\u2588\u2588\u258c   | 27/41 [00:01<00:00, 22.64it/s]"
          ]
        },
        {
          "output_type": "stream",
          "name": "stderr",
          "text": [
            "\rFold 3 Epoch 7:  73%|\u2588\u2588\u2588\u2588\u2588\u2588\u2588\u258e  | 30/41 [00:01<00:00, 22.66it/s]"
          ]
        },
        {
          "output_type": "stream",
          "name": "stderr",
          "text": [
            "\rFold 3 Epoch 7:  80%|\u2588\u2588\u2588\u2588\u2588\u2588\u2588\u2588  | 33/41 [00:01<00:00, 22.75it/s]"
          ]
        },
        {
          "output_type": "stream",
          "name": "stdout",
          "text": [
            "Batch 30, elapsed: 1.4s\n"
          ]
        },
        {
          "output_type": "stream",
          "name": "stderr",
          "text": [
            "\rFold 3 Epoch 7:  88%|\u2588\u2588\u2588\u2588\u2588\u2588\u2588\u2588\u258a | 36/41 [00:01<00:00, 22.74it/s]"
          ]
        },
        {
          "output_type": "stream",
          "name": "stderr",
          "text": [
            "\rFold 3 Epoch 7:  95%|\u2588\u2588\u2588\u2588\u2588\u2588\u2588\u2588\u2588\u258c| 39/41 [00:01<00:00, 22.41it/s]"
          ]
        },
        {
          "output_type": "stream",
          "name": "stderr",
          "text": [
            "\rFold 3 Epoch 7: 100%|\u2588\u2588\u2588\u2588\u2588\u2588\u2588\u2588\u2588\u2588| 41/41 [00:01<00:00, 22.73it/s]"
          ]
        },
        {
          "output_type": "stream",
          "name": "stderr",
          "text": [
            "\n"
          ]
        },
        {
          "output_type": "stream",
          "name": "stdout",
          "text": [
            "Batch 40, elapsed: 1.8s\nFold 3 Epoch 7 train time: 1.8s\nFold 3 Epoch 7: Train 0.7324, Val 0.7217, val time: 0.2s\nEarly stop at epoch 7\nFold 3 best val loss: 0.7150\n"
          ]
        },
        {
          "output_type": "stream",
          "name": "stdout",
          "text": [
            "Fold 4 pos_weight: [3. 3. 3. 3. 3. 3. 3.]\nFold 4 GPU memory before model: 0.1GB\n"
          ]
        },
        {
          "output_type": "stream",
          "name": "stderr",
          "text": [
            "\rFold 4 Epoch 1:   0%|          | 0/41 [00:00<?, ?it/s]"
          ]
        },
        {
          "output_type": "stream",
          "name": "stderr",
          "text": [
            "\rFold 4 Epoch 1:   7%|\u258b         | 3/41 [00:00<00:01, 26.66it/s]"
          ]
        },
        {
          "output_type": "stream",
          "name": "stderr",
          "text": [
            "\rFold 4 Epoch 1:  15%|\u2588\u258d        | 6/41 [00:00<00:01, 25.92it/s]"
          ]
        },
        {
          "output_type": "stream",
          "name": "stdout",
          "text": [
            "Batch 0, elapsed: 0.0s\n"
          ]
        },
        {
          "output_type": "stream",
          "name": "stderr",
          "text": [
            "\rFold 4 Epoch 1:  22%|\u2588\u2588\u258f       | 9/41 [00:00<00:01, 24.86it/s]"
          ]
        },
        {
          "output_type": "stream",
          "name": "stderr",
          "text": [
            "\rFold 4 Epoch 1:  29%|\u2588\u2588\u2589       | 12/41 [00:00<00:01, 24.16it/s]"
          ]
        },
        {
          "output_type": "stream",
          "name": "stderr",
          "text": [
            "\rFold 4 Epoch 1:  37%|\u2588\u2588\u2588\u258b      | 15/41 [00:00<00:01, 23.98it/s]"
          ]
        },
        {
          "output_type": "stream",
          "name": "stdout",
          "text": [
            "Batch 10, elapsed: 0.4s\n"
          ]
        },
        {
          "output_type": "stream",
          "name": "stderr",
          "text": [
            "\rFold 4 Epoch 1:  44%|\u2588\u2588\u2588\u2588\u258d     | 18/41 [00:00<00:00, 23.82it/s]"
          ]
        },
        {
          "output_type": "stream",
          "name": "stderr",
          "text": [
            "\rFold 4 Epoch 1:  51%|\u2588\u2588\u2588\u2588\u2588     | 21/41 [00:00<00:00, 24.00it/s]"
          ]
        },
        {
          "output_type": "stream",
          "name": "stderr",
          "text": [
            "\rFold 4 Epoch 1:  59%|\u2588\u2588\u2588\u2588\u2588\u258a    | 24/41 [00:00<00:00, 23.88it/s]"
          ]
        },
        {
          "output_type": "stream",
          "name": "stdout",
          "text": [
            "Batch 20, elapsed: 0.9s\n"
          ]
        },
        {
          "output_type": "stream",
          "name": "stderr",
          "text": [
            "\rFold 4 Epoch 1:  66%|\u2588\u2588\u2588\u2588\u2588\u2588\u258c   | 27/41 [00:01<00:00, 24.00it/s]"
          ]
        },
        {
          "output_type": "stream",
          "name": "stderr",
          "text": [
            "\rFold 4 Epoch 1:  73%|\u2588\u2588\u2588\u2588\u2588\u2588\u2588\u258e  | 30/41 [00:01<00:00, 23.99it/s]"
          ]
        },
        {
          "output_type": "stream",
          "name": "stderr",
          "text": [
            "\rFold 4 Epoch 1:  80%|\u2588\u2588\u2588\u2588\u2588\u2588\u2588\u2588  | 33/41 [00:01<00:00, 24.01it/s]"
          ]
        },
        {
          "output_type": "stream",
          "name": "stdout",
          "text": [
            "Batch 30, elapsed: 1.3s\n"
          ]
        },
        {
          "output_type": "stream",
          "name": "stderr",
          "text": [
            "\rFold 4 Epoch 1:  88%|\u2588\u2588\u2588\u2588\u2588\u2588\u2588\u2588\u258a | 36/41 [00:01<00:00, 23.89it/s]"
          ]
        },
        {
          "output_type": "stream",
          "name": "stderr",
          "text": [
            "\rFold 4 Epoch 1:  95%|\u2588\u2588\u2588\u2588\u2588\u2588\u2588\u2588\u2588\u258c| 39/41 [00:01<00:00, 23.87it/s]"
          ]
        },
        {
          "output_type": "stream",
          "name": "stderr",
          "text": [
            "\rFold 4 Epoch 1: 100%|\u2588\u2588\u2588\u2588\u2588\u2588\u2588\u2588\u2588\u2588| 41/41 [00:01<00:00, 24.21it/s]"
          ]
        },
        {
          "output_type": "stream",
          "name": "stderr",
          "text": [
            "\n"
          ]
        },
        {
          "output_type": "stream",
          "name": "stdout",
          "text": [
            "Batch 40, elapsed: 1.7s\nFold 4 Epoch 1 train time: 1.7s\nFold 4 Epoch 1: Train 0.8746, Val 0.6877, val time: 0.2s\n"
          ]
        },
        {
          "output_type": "stream",
          "name": "stdout",
          "text": [
            "New best at epoch 1\n"
          ]
        },
        {
          "output_type": "stream",
          "name": "stderr",
          "text": [
            "\rFold 4 Epoch 2:   0%|          | 0/41 [00:00<?, ?it/s]"
          ]
        },
        {
          "output_type": "stream",
          "name": "stderr",
          "text": [
            "\rFold 4 Epoch 2:   7%|\u258b         | 3/41 [00:00<00:01, 23.22it/s]"
          ]
        },
        {
          "output_type": "stream",
          "name": "stdout",
          "text": [
            "Batch 0, elapsed: 0.0s\n"
          ]
        },
        {
          "output_type": "stream",
          "name": "stderr",
          "text": [
            "\rFold 4 Epoch 2:  15%|\u2588\u258d        | 6/41 [00:00<00:01, 23.63it/s]"
          ]
        },
        {
          "output_type": "stream",
          "name": "stderr",
          "text": [
            "\rFold 4 Epoch 2:  22%|\u2588\u2588\u258f       | 9/41 [00:00<00:01, 23.88it/s]"
          ]
        },
        {
          "output_type": "stream",
          "name": "stderr",
          "text": [
            "\rFold 4 Epoch 2:  29%|\u2588\u2588\u2589       | 12/41 [00:00<00:01, 23.93it/s]"
          ]
        },
        {
          "output_type": "stream",
          "name": "stderr",
          "text": [
            "\rFold 4 Epoch 2:  37%|\u2588\u2588\u2588\u258b      | 15/41 [00:00<00:01, 23.71it/s]"
          ]
        },
        {
          "output_type": "stream",
          "name": "stdout",
          "text": [
            "Batch 10, elapsed: 0.5s\n"
          ]
        },
        {
          "output_type": "stream",
          "name": "stderr",
          "text": [
            "\rFold 4 Epoch 2:  44%|\u2588\u2588\u2588\u2588\u258d     | 18/41 [00:00<00:00, 23.72it/s]"
          ]
        },
        {
          "output_type": "stream",
          "name": "stderr",
          "text": [
            "\rFold 4 Epoch 2:  51%|\u2588\u2588\u2588\u2588\u2588     | 21/41 [00:00<00:00, 23.83it/s]"
          ]
        },
        {
          "output_type": "stream",
          "name": "stderr",
          "text": [
            "\rFold 4 Epoch 2:  59%|\u2588\u2588\u2588\u2588\u2588\u258a    | 24/41 [00:01<00:00, 24.09it/s]"
          ]
        },
        {
          "output_type": "stream",
          "name": "stdout",
          "text": [
            "Batch 20, elapsed: 0.9s\n"
          ]
        },
        {
          "output_type": "stream",
          "name": "stderr",
          "text": [
            "\rFold 4 Epoch 2:  66%|\u2588\u2588\u2588\u2588\u2588\u2588\u258c   | 27/41 [00:01<00:00, 23.85it/s]"
          ]
        },
        {
          "output_type": "stream",
          "name": "stderr",
          "text": [
            "\rFold 4 Epoch 2:  73%|\u2588\u2588\u2588\u2588\u2588\u2588\u2588\u258e  | 30/41 [00:01<00:00, 23.98it/s]"
          ]
        },
        {
          "output_type": "stream",
          "name": "stderr",
          "text": [
            "\rFold 4 Epoch 2:  80%|\u2588\u2588\u2588\u2588\u2588\u2588\u2588\u2588  | 33/41 [00:01<00:00, 23.81it/s]"
          ]
        },
        {
          "output_type": "stream",
          "name": "stdout",
          "text": [
            "Batch 30, elapsed: 1.3s\n"
          ]
        },
        {
          "output_type": "stream",
          "name": "stderr",
          "text": [
            "\rFold 4 Epoch 2:  88%|\u2588\u2588\u2588\u2588\u2588\u2588\u2588\u2588\u258a | 36/41 [00:01<00:00, 23.85it/s]"
          ]
        },
        {
          "output_type": "stream",
          "name": "stderr",
          "text": [
            "\rFold 4 Epoch 2:  95%|\u2588\u2588\u2588\u2588\u2588\u2588\u2588\u2588\u2588\u258c| 39/41 [00:01<00:00, 23.76it/s]"
          ]
        },
        {
          "output_type": "stream",
          "name": "stderr",
          "text": [
            "\rFold 4 Epoch 2: 100%|\u2588\u2588\u2588\u2588\u2588\u2588\u2588\u2588\u2588\u2588| 41/41 [00:01<00:00, 23.96it/s]"
          ]
        },
        {
          "output_type": "stream",
          "name": "stderr",
          "text": [
            "\n"
          ]
        },
        {
          "output_type": "stream",
          "name": "stdout",
          "text": [
            "Batch 40, elapsed: 1.7s\nFold 4 Epoch 2 train time: 1.7s\nFold 4 Epoch 2: Train 0.7732, Val 0.7228, val time: 0.2s\n"
          ]
        },
        {
          "output_type": "stream",
          "name": "stderr",
          "text": [
            "\rFold 4 Epoch 3:   0%|          | 0/41 [00:00<?, ?it/s]"
          ]
        },
        {
          "output_type": "stream",
          "name": "stderr",
          "text": [
            "\rFold 4 Epoch 3:   7%|\u258b         | 3/41 [00:00<00:01, 23.76it/s]"
          ]
        },
        {
          "output_type": "stream",
          "name": "stdout",
          "text": [
            "Batch 0, elapsed: 0.0s\n"
          ]
        },
        {
          "output_type": "stream",
          "name": "stderr",
          "text": [
            "\rFold 4 Epoch 3:  15%|\u2588\u258d        | 6/41 [00:00<00:01, 24.29it/s]"
          ]
        },
        {
          "output_type": "stream",
          "name": "stderr",
          "text": [
            "\rFold 4 Epoch 3:  22%|\u2588\u2588\u258f       | 9/41 [00:00<00:01, 24.29it/s]"
          ]
        },
        {
          "output_type": "stream",
          "name": "stderr",
          "text": [
            "\rFold 4 Epoch 3:  29%|\u2588\u2588\u2589       | 12/41 [00:00<00:01, 23.84it/s]"
          ]
        },
        {
          "output_type": "stream",
          "name": "stderr",
          "text": [
            "\rFold 4 Epoch 3:  37%|\u2588\u2588\u2588\u258b      | 15/41 [00:00<00:01, 23.79it/s]"
          ]
        },
        {
          "output_type": "stream",
          "name": "stdout",
          "text": [
            "Batch 10, elapsed: 0.5s\n"
          ]
        },
        {
          "output_type": "stream",
          "name": "stderr",
          "text": [
            "\rFold 4 Epoch 3:  44%|\u2588\u2588\u2588\u2588\u258d     | 18/41 [00:00<00:00, 23.79it/s]"
          ]
        },
        {
          "output_type": "stream",
          "name": "stderr",
          "text": [
            "\rFold 4 Epoch 3:  51%|\u2588\u2588\u2588\u2588\u2588     | 21/41 [00:00<00:00, 23.59it/s]"
          ]
        },
        {
          "output_type": "stream",
          "name": "stderr",
          "text": [
            "\rFold 4 Epoch 3:  59%|\u2588\u2588\u2588\u2588\u2588\u258a    | 24/41 [00:01<00:00, 23.68it/s]"
          ]
        },
        {
          "output_type": "stream",
          "name": "stdout",
          "text": [
            "Batch 20, elapsed: 0.9s\n"
          ]
        },
        {
          "output_type": "stream",
          "name": "stderr",
          "text": [
            "\rFold 4 Epoch 3:  66%|\u2588\u2588\u2588\u2588\u2588\u2588\u258c   | 27/41 [00:01<00:00, 23.77it/s]"
          ]
        },
        {
          "output_type": "stream",
          "name": "stderr",
          "text": [
            "\rFold 4 Epoch 3:  73%|\u2588\u2588\u2588\u2588\u2588\u2588\u2588\u258e  | 30/41 [00:01<00:00, 23.68it/s]"
          ]
        },
        {
          "output_type": "stream",
          "name": "stderr",
          "text": [
            "\rFold 4 Epoch 3:  80%|\u2588\u2588\u2588\u2588\u2588\u2588\u2588\u2588  | 33/41 [00:01<00:00, 23.64it/s]"
          ]
        },
        {
          "output_type": "stream",
          "name": "stdout",
          "text": [
            "Batch 30, elapsed: 1.3s\n"
          ]
        },
        {
          "output_type": "stream",
          "name": "stderr",
          "text": [
            "\rFold 4 Epoch 3:  88%|\u2588\u2588\u2588\u2588\u2588\u2588\u2588\u2588\u258a | 36/41 [00:01<00:00, 23.76it/s]"
          ]
        },
        {
          "output_type": "stream",
          "name": "stderr",
          "text": [
            "\rFold 4 Epoch 3:  95%|\u2588\u2588\u2588\u2588\u2588\u2588\u2588\u2588\u2588\u258c| 39/41 [00:01<00:00, 23.76it/s]"
          ]
        },
        {
          "output_type": "stream",
          "name": "stderr",
          "text": [
            "\rFold 4 Epoch 3: 100%|\u2588\u2588\u2588\u2588\u2588\u2588\u2588\u2588\u2588\u2588| 41/41 [00:01<00:00, 23.93it/s]"
          ]
        },
        {
          "output_type": "stream",
          "name": "stderr",
          "text": [
            "\n"
          ]
        },
        {
          "output_type": "stream",
          "name": "stdout",
          "text": [
            "Batch 40, elapsed: 1.7s\nFold 4 Epoch 3 train time: 1.7s\nFold 4 Epoch 3: Train 0.7397, Val 0.7128, val time: 0.2s\n"
          ]
        },
        {
          "output_type": "stream",
          "name": "stderr",
          "text": [
            "\rFold 4 Epoch 4:   0%|          | 0/41 [00:00<?, ?it/s]"
          ]
        },
        {
          "output_type": "stream",
          "name": "stderr",
          "text": [
            "\rFold 4 Epoch 4:   7%|\u258b         | 3/41 [00:00<00:01, 23.05it/s]"
          ]
        },
        {
          "output_type": "stream",
          "name": "stdout",
          "text": [
            "Batch 0, elapsed: 0.0s\n"
          ]
        },
        {
          "output_type": "stream",
          "name": "stderr",
          "text": [
            "\rFold 4 Epoch 4:  15%|\u2588\u258d        | 6/41 [00:00<00:01, 23.13it/s]"
          ]
        },
        {
          "output_type": "stream",
          "name": "stderr",
          "text": [
            "\rFold 4 Epoch 4:  22%|\u2588\u2588\u258f       | 9/41 [00:00<00:01, 23.09it/s]"
          ]
        },
        {
          "output_type": "stream",
          "name": "stderr",
          "text": [
            "\rFold 4 Epoch 4:  29%|\u2588\u2588\u2589       | 12/41 [00:00<00:01, 22.96it/s]"
          ]
        },
        {
          "output_type": "stream",
          "name": "stderr",
          "text": [
            "\rFold 4 Epoch 4:  37%|\u2588\u2588\u2588\u258b      | 15/41 [00:00<00:01, 23.04it/s]"
          ]
        },
        {
          "output_type": "stream",
          "name": "stdout",
          "text": [
            "Batch 10, elapsed: 0.5s\n"
          ]
        },
        {
          "output_type": "stream",
          "name": "stderr",
          "text": [
            "\rFold 4 Epoch 4:  44%|\u2588\u2588\u2588\u2588\u258d     | 18/41 [00:00<00:00, 23.26it/s]"
          ]
        },
        {
          "output_type": "stream",
          "name": "stderr",
          "text": [
            "\rFold 4 Epoch 4:  51%|\u2588\u2588\u2588\u2588\u2588     | 21/41 [00:00<00:00, 23.31it/s]"
          ]
        },
        {
          "output_type": "stream",
          "name": "stderr",
          "text": [
            "\rFold 4 Epoch 4:  59%|\u2588\u2588\u2588\u2588\u2588\u258a    | 24/41 [00:01<00:00, 23.52it/s]"
          ]
        },
        {
          "output_type": "stream",
          "name": "stdout",
          "text": [
            "Batch 20, elapsed: 0.9s\n"
          ]
        },
        {
          "output_type": "stream",
          "name": "stderr",
          "text": [
            "\rFold 4 Epoch 4:  66%|\u2588\u2588\u2588\u2588\u2588\u2588\u258c   | 27/41 [00:01<00:00, 23.46it/s]"
          ]
        },
        {
          "output_type": "stream",
          "name": "stderr",
          "text": [
            "\rFold 4 Epoch 4:  73%|\u2588\u2588\u2588\u2588\u2588\u2588\u2588\u258e  | 30/41 [00:01<00:00, 23.51it/s]"
          ]
        },
        {
          "output_type": "stream",
          "name": "stderr",
          "text": [
            "\rFold 4 Epoch 4:  80%|\u2588\u2588\u2588\u2588\u2588\u2588\u2588\u2588  | 33/41 [00:01<00:00, 23.40it/s]"
          ]
        },
        {
          "output_type": "stream",
          "name": "stdout",
          "text": [
            "Batch 30, elapsed: 1.3s\n"
          ]
        },
        {
          "output_type": "stream",
          "name": "stderr",
          "text": [
            "\rFold 4 Epoch 4:  88%|\u2588\u2588\u2588\u2588\u2588\u2588\u2588\u2588\u258a | 36/41 [00:01<00:00, 23.21it/s]"
          ]
        },
        {
          "output_type": "stream",
          "name": "stderr",
          "text": [
            "\rFold 4 Epoch 4:  95%|\u2588\u2588\u2588\u2588\u2588\u2588\u2588\u2588\u2588\u258c| 39/41 [00:01<00:00, 23.28it/s]"
          ]
        },
        {
          "output_type": "stream",
          "name": "stderr",
          "text": [
            "\rFold 4 Epoch 4: 100%|\u2588\u2588\u2588\u2588\u2588\u2588\u2588\u2588\u2588\u2588| 41/41 [00:01<00:00, 23.42it/s]"
          ]
        },
        {
          "output_type": "stream",
          "name": "stderr",
          "text": [
            "\n"
          ]
        },
        {
          "output_type": "stream",
          "name": "stdout",
          "text": [
            "Batch 40, elapsed: 1.8s\nFold 4 Epoch 4 train time: 1.8s\nFold 4 Epoch 4: Train 0.7504, Val 0.7048, val time: 0.2s\n"
          ]
        },
        {
          "output_type": "stream",
          "name": "stderr",
          "text": [
            "\rFold 4 Epoch 5:   0%|          | 0/41 [00:00<?, ?it/s]"
          ]
        },
        {
          "output_type": "stream",
          "name": "stderr",
          "text": [
            "\rFold 4 Epoch 5:   7%|\u258b         | 3/41 [00:00<00:01, 22.99it/s]"
          ]
        },
        {
          "output_type": "stream",
          "name": "stdout",
          "text": [
            "Batch 0, elapsed: 0.0s\n"
          ]
        },
        {
          "output_type": "stream",
          "name": "stderr",
          "text": [
            "\rFold 4 Epoch 5:  15%|\u2588\u258d        | 6/41 [00:00<00:01, 22.83it/s]"
          ]
        },
        {
          "output_type": "stream",
          "name": "stderr",
          "text": [
            "\rFold 4 Epoch 5:  22%|\u2588\u2588\u258f       | 9/41 [00:00<00:01, 22.91it/s]"
          ]
        },
        {
          "output_type": "stream",
          "name": "stderr",
          "text": [
            "\rFold 4 Epoch 5:  29%|\u2588\u2588\u2589       | 12/41 [00:00<00:01, 23.03it/s]"
          ]
        },
        {
          "output_type": "stream",
          "name": "stderr",
          "text": [
            "\rFold 4 Epoch 5:  37%|\u2588\u2588\u2588\u258b      | 15/41 [00:00<00:01, 22.93it/s]"
          ]
        },
        {
          "output_type": "stream",
          "name": "stdout",
          "text": [
            "Batch 10, elapsed: 0.5s\n"
          ]
        },
        {
          "output_type": "stream",
          "name": "stderr",
          "text": [
            "\rFold 4 Epoch 5:  44%|\u2588\u2588\u2588\u2588\u258d     | 18/41 [00:00<00:01, 22.91it/s]"
          ]
        },
        {
          "output_type": "stream",
          "name": "stderr",
          "text": [
            "\rFold 4 Epoch 5:  51%|\u2588\u2588\u2588\u2588\u2588     | 21/41 [00:00<00:00, 23.03it/s]"
          ]
        },
        {
          "output_type": "stream",
          "name": "stderr",
          "text": [
            "\rFold 4 Epoch 5:  59%|\u2588\u2588\u2588\u2588\u2588\u258a    | 24/41 [00:01<00:00, 23.17it/s]"
          ]
        },
        {
          "output_type": "stream",
          "name": "stdout",
          "text": [
            "Batch 20, elapsed: 0.9s\n"
          ]
        },
        {
          "output_type": "stream",
          "name": "stderr",
          "text": [
            "\rFold 4 Epoch 5:  66%|\u2588\u2588\u2588\u2588\u2588\u2588\u258c   | 27/41 [00:01<00:00, 23.14it/s]"
          ]
        },
        {
          "output_type": "stream",
          "name": "stderr",
          "text": [
            "\rFold 4 Epoch 5:  73%|\u2588\u2588\u2588\u2588\u2588\u2588\u2588\u258e  | 30/41 [00:01<00:00, 23.21it/s]"
          ]
        },
        {
          "output_type": "stream",
          "name": "stderr",
          "text": [
            "\rFold 4 Epoch 5:  80%|\u2588\u2588\u2588\u2588\u2588\u2588\u2588\u2588  | 33/41 [00:01<00:00, 23.12it/s]"
          ]
        },
        {
          "output_type": "stream",
          "name": "stdout",
          "text": [
            "Batch 30, elapsed: 1.3s\n"
          ]
        },
        {
          "output_type": "stream",
          "name": "stderr",
          "text": [
            "\rFold 4 Epoch 5:  88%|\u2588\u2588\u2588\u2588\u2588\u2588\u2588\u2588\u258a | 36/41 [00:01<00:00, 23.06it/s]"
          ]
        },
        {
          "output_type": "stream",
          "name": "stderr",
          "text": [
            "\rFold 4 Epoch 5:  95%|\u2588\u2588\u2588\u2588\u2588\u2588\u2588\u2588\u2588\u258c| 39/41 [00:01<00:00, 22.98it/s]"
          ]
        },
        {
          "output_type": "stream",
          "name": "stderr",
          "text": [
            "\rFold 4 Epoch 5: 100%|\u2588\u2588\u2588\u2588\u2588\u2588\u2588\u2588\u2588\u2588| 41/41 [00:01<00:00, 23.22it/s]"
          ]
        },
        {
          "output_type": "stream",
          "name": "stderr",
          "text": [
            "\n"
          ]
        },
        {
          "output_type": "stream",
          "name": "stdout",
          "text": [
            "Batch 40, elapsed: 1.8s\nFold 4 Epoch 5 train time: 1.8s\nFold 4 Epoch 5: Train 0.7344, Val 0.6959, val time: 0.2s\n"
          ]
        },
        {
          "output_type": "stream",
          "name": "stderr",
          "text": [
            "\rFold 4 Epoch 6:   0%|          | 0/41 [00:00<?, ?it/s]"
          ]
        },
        {
          "output_type": "stream",
          "name": "stderr",
          "text": [
            "\rFold 4 Epoch 6:   7%|\u258b         | 3/41 [00:00<00:01, 23.66it/s]"
          ]
        },
        {
          "output_type": "stream",
          "name": "stdout",
          "text": [
            "Batch 0, elapsed: 0.0s\n"
          ]
        },
        {
          "output_type": "stream",
          "name": "stderr",
          "text": [
            "\rFold 4 Epoch 6:  15%|\u2588\u258d        | 6/41 [00:00<00:01, 23.26it/s]"
          ]
        },
        {
          "output_type": "stream",
          "name": "stderr",
          "text": [
            "\rFold 4 Epoch 6:  22%|\u2588\u2588\u258f       | 9/41 [00:00<00:01, 23.53it/s]"
          ]
        },
        {
          "output_type": "stream",
          "name": "stderr",
          "text": [
            "\rFold 4 Epoch 6:  29%|\u2588\u2588\u2589       | 12/41 [00:00<00:01, 23.61it/s]"
          ]
        },
        {
          "output_type": "stream",
          "name": "stderr",
          "text": [
            "\rFold 4 Epoch 6:  37%|\u2588\u2588\u2588\u258b      | 15/41 [00:00<00:01, 23.68it/s]"
          ]
        },
        {
          "output_type": "stream",
          "name": "stdout",
          "text": [
            "Batch 10, elapsed: 0.5s\n"
          ]
        },
        {
          "output_type": "stream",
          "name": "stderr",
          "text": [
            "\rFold 4 Epoch 6:  44%|\u2588\u2588\u2588\u2588\u258d     | 18/41 [00:00<00:00, 23.58it/s]"
          ]
        },
        {
          "output_type": "stream",
          "name": "stderr",
          "text": [
            "\rFold 4 Epoch 6:  51%|\u2588\u2588\u2588\u2588\u2588     | 21/41 [00:00<00:00, 23.58it/s]"
          ]
        },
        {
          "output_type": "stream",
          "name": "stderr",
          "text": [
            "\rFold 4 Epoch 6:  59%|\u2588\u2588\u2588\u2588\u2588\u258a    | 24/41 [00:01<00:00, 23.48it/s]"
          ]
        },
        {
          "output_type": "stream",
          "name": "stdout",
          "text": [
            "Batch 20, elapsed: 0.9s\n"
          ]
        },
        {
          "output_type": "stream",
          "name": "stderr",
          "text": [
            "\rFold 4 Epoch 6:  66%|\u2588\u2588\u2588\u2588\u2588\u2588\u258c   | 27/41 [00:01<00:00, 23.15it/s]"
          ]
        },
        {
          "output_type": "stream",
          "name": "stderr",
          "text": [
            "\rFold 4 Epoch 6:  73%|\u2588\u2588\u2588\u2588\u2588\u2588\u2588\u258e  | 30/41 [00:01<00:00, 23.46it/s]"
          ]
        },
        {
          "output_type": "stream",
          "name": "stderr",
          "text": [
            "\rFold 4 Epoch 6:  80%|\u2588\u2588\u2588\u2588\u2588\u2588\u2588\u2588  | 33/41 [00:01<00:00, 23.58it/s]"
          ]
        },
        {
          "output_type": "stream",
          "name": "stdout",
          "text": [
            "Batch 30, elapsed: 1.3s\n"
          ]
        },
        {
          "output_type": "stream",
          "name": "stderr",
          "text": [
            "\rFold 4 Epoch 6:  88%|\u2588\u2588\u2588\u2588\u2588\u2588\u2588\u2588\u258a | 36/41 [00:01<00:00, 23.55it/s]"
          ]
        },
        {
          "output_type": "stream",
          "name": "stderr",
          "text": [
            "\rFold 4 Epoch 6:  95%|\u2588\u2588\u2588\u2588\u2588\u2588\u2588\u2588\u2588\u258c| 39/41 [00:01<00:00, 23.52it/s]"
          ]
        },
        {
          "output_type": "stream",
          "name": "stderr",
          "text": [
            "\rFold 4 Epoch 6: 100%|\u2588\u2588\u2588\u2588\u2588\u2588\u2588\u2588\u2588\u2588| 41/41 [00:01<00:00, 23.68it/s]"
          ]
        },
        {
          "output_type": "stream",
          "name": "stderr",
          "text": [
            "\n"
          ]
        },
        {
          "output_type": "stream",
          "name": "stdout",
          "text": [
            "Batch 40, elapsed: 1.7s\nFold 4 Epoch 6 train time: 1.7s\nFold 4 Epoch 6: Train 0.7279, Val 0.6950, val time: 0.2s\nEarly stop at epoch 6\nFold 4 best val loss: 0.6877\n"
          ]
        },
        {
          "output_type": "stream",
          "name": "stdout",
          "text": [
            "Fold 5 pos_weight: [3. 3. 3. 3. 3. 3. 3.]\nFold 5 GPU memory before model: 0.1GB\n"
          ]
        },
        {
          "output_type": "stream",
          "name": "stderr",
          "text": [
            "\rFold 5 Epoch 1:   0%|          | 0/41 [00:00<?, ?it/s]"
          ]
        },
        {
          "output_type": "stream",
          "name": "stderr",
          "text": [
            "\rFold 5 Epoch 1:   7%|\u258b         | 3/41 [00:00<00:01, 26.04it/s]"
          ]
        },
        {
          "output_type": "stream",
          "name": "stderr",
          "text": [
            "\rFold 5 Epoch 1:  15%|\u2588\u258d        | 6/41 [00:00<00:01, 25.35it/s]"
          ]
        },
        {
          "output_type": "stream",
          "name": "stdout",
          "text": [
            "Batch 0, elapsed: 0.0s\n"
          ]
        },
        {
          "output_type": "stream",
          "name": "stderr",
          "text": [
            "\rFold 5 Epoch 1:  22%|\u2588\u2588\u258f       | 9/41 [00:00<00:01, 24.34it/s]"
          ]
        },
        {
          "output_type": "stream",
          "name": "stderr",
          "text": [
            "\rFold 5 Epoch 1:  29%|\u2588\u2588\u2589       | 12/41 [00:00<00:01, 24.11it/s]"
          ]
        },
        {
          "output_type": "stream",
          "name": "stderr",
          "text": [
            "\rFold 5 Epoch 1:  37%|\u2588\u2588\u2588\u258b      | 15/41 [00:00<00:01, 24.02it/s]"
          ]
        },
        {
          "output_type": "stream",
          "name": "stdout",
          "text": [
            "Batch 10, elapsed: 0.4s\n"
          ]
        },
        {
          "output_type": "stream",
          "name": "stderr",
          "text": [
            "\rFold 5 Epoch 1:  44%|\u2588\u2588\u2588\u2588\u258d     | 18/41 [00:00<00:00, 23.72it/s]"
          ]
        },
        {
          "output_type": "stream",
          "name": "stderr",
          "text": [
            "\rFold 5 Epoch 1:  51%|\u2588\u2588\u2588\u2588\u2588     | 21/41 [00:00<00:00, 23.93it/s]"
          ]
        },
        {
          "output_type": "stream",
          "name": "stderr",
          "text": [
            "\rFold 5 Epoch 1:  59%|\u2588\u2588\u2588\u2588\u2588\u258a    | 24/41 [00:00<00:00, 23.74it/s]"
          ]
        },
        {
          "output_type": "stream",
          "name": "stdout",
          "text": [
            "Batch 20, elapsed: 0.9s\n"
          ]
        },
        {
          "output_type": "stream",
          "name": "stderr",
          "text": [
            "\rFold 5 Epoch 1:  66%|\u2588\u2588\u2588\u2588\u2588\u2588\u258c   | 27/41 [00:01<00:00, 23.64it/s]"
          ]
        },
        {
          "output_type": "stream",
          "name": "stderr",
          "text": [
            "\rFold 5 Epoch 1:  73%|\u2588\u2588\u2588\u2588\u2588\u2588\u2588\u258e  | 30/41 [00:01<00:00, 23.58it/s]"
          ]
        },
        {
          "output_type": "stream",
          "name": "stderr",
          "text": [
            "\rFold 5 Epoch 1:  80%|\u2588\u2588\u2588\u2588\u2588\u2588\u2588\u2588  | 33/41 [00:01<00:00, 23.69it/s]"
          ]
        },
        {
          "output_type": "stream",
          "name": "stdout",
          "text": [
            "Batch 30, elapsed: 1.3s\n"
          ]
        },
        {
          "output_type": "stream",
          "name": "stderr",
          "text": [
            "\rFold 5 Epoch 1:  88%|\u2588\u2588\u2588\u2588\u2588\u2588\u2588\u2588\u258a | 36/41 [00:01<00:00, 23.46it/s]"
          ]
        },
        {
          "output_type": "stream",
          "name": "stderr",
          "text": [
            "\rFold 5 Epoch 1:  95%|\u2588\u2588\u2588\u2588\u2588\u2588\u2588\u2588\u2588\u258c| 39/41 [00:01<00:00, 23.40it/s]"
          ]
        },
        {
          "output_type": "stream",
          "name": "stderr",
          "text": [
            "\rFold 5 Epoch 1: 100%|\u2588\u2588\u2588\u2588\u2588\u2588\u2588\u2588\u2588\u2588| 41/41 [00:01<00:00, 23.90it/s]"
          ]
        },
        {
          "output_type": "stream",
          "name": "stderr",
          "text": [
            "\n"
          ]
        },
        {
          "output_type": "stream",
          "name": "stdout",
          "text": [
            "Batch 40, elapsed: 1.7s\nFold 5 Epoch 1 train time: 1.7s\nFold 5 Epoch 1: Train 0.8969, Val 0.8115, val time: 0.2s\n"
          ]
        },
        {
          "output_type": "stream",
          "name": "stdout",
          "text": [
            "New best at epoch 1\n"
          ]
        },
        {
          "output_type": "stream",
          "name": "stderr",
          "text": [
            "\rFold 5 Epoch 2:   0%|          | 0/41 [00:00<?, ?it/s]"
          ]
        },
        {
          "output_type": "stream",
          "name": "stderr",
          "text": [
            "\rFold 5 Epoch 2:   7%|\u258b         | 3/41 [00:00<00:01, 23.35it/s]"
          ]
        },
        {
          "output_type": "stream",
          "name": "stdout",
          "text": [
            "Batch 0, elapsed: 0.0s\n"
          ]
        },
        {
          "output_type": "stream",
          "name": "stderr",
          "text": [
            "\rFold 5 Epoch 2:  15%|\u2588\u258d        | 6/41 [00:00<00:01, 23.55it/s]"
          ]
        },
        {
          "output_type": "stream",
          "name": "stderr",
          "text": [
            "\rFold 5 Epoch 2:  22%|\u2588\u2588\u258f       | 9/41 [00:00<00:01, 23.63it/s]"
          ]
        },
        {
          "output_type": "stream",
          "name": "stderr",
          "text": [
            "\rFold 5 Epoch 2:  29%|\u2588\u2588\u2589       | 12/41 [00:00<00:01, 23.57it/s]"
          ]
        },
        {
          "output_type": "stream",
          "name": "stderr",
          "text": [
            "\rFold 5 Epoch 2:  37%|\u2588\u2588\u2588\u258b      | 15/41 [00:00<00:01, 23.50it/s]"
          ]
        },
        {
          "output_type": "stream",
          "name": "stdout",
          "text": [
            "Batch 10, elapsed: 0.5s\n"
          ]
        },
        {
          "output_type": "stream",
          "name": "stderr",
          "text": [
            "\rFold 5 Epoch 2:  44%|\u2588\u2588\u2588\u2588\u258d     | 18/41 [00:00<00:00, 23.63it/s]"
          ]
        },
        {
          "output_type": "stream",
          "name": "stderr",
          "text": [
            "\rFold 5 Epoch 2:  51%|\u2588\u2588\u2588\u2588\u2588     | 21/41 [00:00<00:00, 23.81it/s]"
          ]
        },
        {
          "output_type": "stream",
          "name": "stderr",
          "text": [
            "\rFold 5 Epoch 2:  59%|\u2588\u2588\u2588\u2588\u2588\u258a    | 24/41 [00:01<00:00, 23.78it/s]"
          ]
        },
        {
          "output_type": "stream",
          "name": "stdout",
          "text": [
            "Batch 20, elapsed: 0.9s\n"
          ]
        },
        {
          "output_type": "stream",
          "name": "stderr",
          "text": [
            "\rFold 5 Epoch 2:  66%|\u2588\u2588\u2588\u2588\u2588\u2588\u258c   | 27/41 [00:01<00:00, 23.75it/s]"
          ]
        },
        {
          "output_type": "stream",
          "name": "stderr",
          "text": [
            "\rFold 5 Epoch 2:  73%|\u2588\u2588\u2588\u2588\u2588\u2588\u2588\u258e  | 30/41 [00:01<00:00, 23.50it/s]"
          ]
        },
        {
          "output_type": "stream",
          "name": "stderr",
          "text": [
            "\rFold 5 Epoch 2:  80%|\u2588\u2588\u2588\u2588\u2588\u2588\u2588\u2588  | 33/41 [00:01<00:00, 23.46it/s]"
          ]
        },
        {
          "output_type": "stream",
          "name": "stdout",
          "text": [
            "Batch 30, elapsed: 1.3s\n"
          ]
        },
        {
          "output_type": "stream",
          "name": "stderr",
          "text": [
            "\rFold 5 Epoch 2:  88%|\u2588\u2588\u2588\u2588\u2588\u2588\u2588\u2588\u258a | 36/41 [00:01<00:00, 23.47it/s]"
          ]
        },
        {
          "output_type": "stream",
          "name": "stderr",
          "text": [
            "\rFold 5 Epoch 2:  95%|\u2588\u2588\u2588\u2588\u2588\u2588\u2588\u2588\u2588\u258c| 39/41 [00:01<00:00, 23.46it/s]"
          ]
        },
        {
          "output_type": "stream",
          "name": "stderr",
          "text": [
            "\rFold 5 Epoch 2: 100%|\u2588\u2588\u2588\u2588\u2588\u2588\u2588\u2588\u2588\u2588| 41/41 [00:01<00:00, 23.68it/s]"
          ]
        },
        {
          "output_type": "stream",
          "name": "stderr",
          "text": [
            "\n"
          ]
        },
        {
          "output_type": "stream",
          "name": "stdout",
          "text": [
            "Batch 40, elapsed: 1.7s\nFold 5 Epoch 2 train time: 1.7s\nFold 5 Epoch 2: Train 0.8382, Val 0.7185, val time: 0.2s\n"
          ]
        },
        {
          "output_type": "stream",
          "name": "stdout",
          "text": [
            "New best at epoch 2\n"
          ]
        },
        {
          "output_type": "stream",
          "name": "stderr",
          "text": [
            "\rFold 5 Epoch 3:   0%|          | 0/41 [00:00<?, ?it/s]"
          ]
        },
        {
          "output_type": "stream",
          "name": "stderr",
          "text": [
            "\rFold 5 Epoch 3:   7%|\u258b         | 3/41 [00:00<00:01, 23.74it/s]"
          ]
        },
        {
          "output_type": "stream",
          "name": "stdout",
          "text": [
            "Batch 0, elapsed: 0.0s\n"
          ]
        },
        {
          "output_type": "stream",
          "name": "stderr",
          "text": [
            "\rFold 5 Epoch 3:  15%|\u2588\u258d        | 6/41 [00:00<00:01, 23.42it/s]"
          ]
        },
        {
          "output_type": "stream",
          "name": "stderr",
          "text": [
            "\rFold 5 Epoch 3:  22%|\u2588\u2588\u258f       | 9/41 [00:00<00:01, 23.65it/s]"
          ]
        },
        {
          "output_type": "stream",
          "name": "stderr",
          "text": [
            "\rFold 5 Epoch 3:  29%|\u2588\u2588\u2589       | 12/41 [00:00<00:01, 23.52it/s]"
          ]
        },
        {
          "output_type": "stream",
          "name": "stderr",
          "text": [
            "\rFold 5 Epoch 3:  37%|\u2588\u2588\u2588\u258b      | 15/41 [00:00<00:01, 23.66it/s]"
          ]
        },
        {
          "output_type": "stream",
          "name": "stdout",
          "text": [
            "Batch 10, elapsed: 0.5s\n"
          ]
        },
        {
          "output_type": "stream",
          "name": "stderr",
          "text": [
            "\rFold 5 Epoch 3:  44%|\u2588\u2588\u2588\u2588\u258d     | 18/41 [00:00<00:00, 23.33it/s]"
          ]
        },
        {
          "output_type": "stream",
          "name": "stderr",
          "text": [
            "\rFold 5 Epoch 3:  51%|\u2588\u2588\u2588\u2588\u2588     | 21/41 [00:00<00:00, 23.42it/s]"
          ]
        },
        {
          "output_type": "stream",
          "name": "stderr",
          "text": [
            "\rFold 5 Epoch 3:  59%|\u2588\u2588\u2588\u2588\u2588\u258a    | 24/41 [00:01<00:00, 23.32it/s]"
          ]
        },
        {
          "output_type": "stream",
          "name": "stdout",
          "text": [
            "Batch 20, elapsed: 0.9s\n"
          ]
        },
        {
          "output_type": "stream",
          "name": "stderr",
          "text": [
            "\rFold 5 Epoch 3:  66%|\u2588\u2588\u2588\u2588\u2588\u2588\u258c   | 27/41 [00:01<00:00, 23.44it/s]"
          ]
        },
        {
          "output_type": "stream",
          "name": "stderr",
          "text": [
            "\rFold 5 Epoch 3:  73%|\u2588\u2588\u2588\u2588\u2588\u2588\u2588\u258e  | 30/41 [00:01<00:00, 23.42it/s]"
          ]
        },
        {
          "output_type": "stream",
          "name": "stderr",
          "text": [
            "\rFold 5 Epoch 3:  80%|\u2588\u2588\u2588\u2588\u2588\u2588\u2588\u2588  | 33/41 [00:01<00:00, 23.36it/s]"
          ]
        },
        {
          "output_type": "stream",
          "name": "stdout",
          "text": [
            "Batch 30, elapsed: 1.3s\n"
          ]
        },
        {
          "output_type": "stream",
          "name": "stderr",
          "text": [
            "\rFold 5 Epoch 3:  88%|\u2588\u2588\u2588\u2588\u2588\u2588\u2588\u2588\u258a | 36/41 [00:01<00:00, 23.55it/s]"
          ]
        },
        {
          "output_type": "stream",
          "name": "stderr",
          "text": [
            "\rFold 5 Epoch 3:  95%|\u2588\u2588\u2588\u2588\u2588\u2588\u2588\u2588\u2588\u258c| 39/41 [00:01<00:00, 23.54it/s]"
          ]
        },
        {
          "output_type": "stream",
          "name": "stderr",
          "text": [
            "\rFold 5 Epoch 3: 100%|\u2588\u2588\u2588\u2588\u2588\u2588\u2588\u2588\u2588\u2588| 41/41 [00:01<00:00, 23.58it/s]"
          ]
        },
        {
          "output_type": "stream",
          "name": "stderr",
          "text": [
            "\n"
          ]
        },
        {
          "output_type": "stream",
          "name": "stdout",
          "text": [
            "Batch 40, elapsed: 1.7s\nFold 5 Epoch 3 train time: 1.7s\nFold 5 Epoch 3: Train 0.7630, Val 0.7030, val time: 0.2s\n"
          ]
        },
        {
          "output_type": "stream",
          "name": "stdout",
          "text": [
            "New best at epoch 3\n"
          ]
        },
        {
          "output_type": "stream",
          "name": "stderr",
          "text": [
            "\rFold 5 Epoch 4:   0%|          | 0/41 [00:00<?, ?it/s]"
          ]
        },
        {
          "output_type": "stream",
          "name": "stderr",
          "text": [
            "\rFold 5 Epoch 4:   7%|\u258b         | 3/41 [00:00<00:01, 22.72it/s]"
          ]
        },
        {
          "output_type": "stream",
          "name": "stdout",
          "text": [
            "Batch 0, elapsed: 0.0s\n"
          ]
        },
        {
          "output_type": "stream",
          "name": "stderr",
          "text": [
            "\rFold 5 Epoch 4:  15%|\u2588\u258d        | 6/41 [00:00<00:01, 22.55it/s]"
          ]
        },
        {
          "output_type": "stream",
          "name": "stderr",
          "text": [
            "\rFold 5 Epoch 4:  22%|\u2588\u2588\u258f       | 9/41 [00:00<00:01, 22.77it/s]"
          ]
        },
        {
          "output_type": "stream",
          "name": "stderr",
          "text": [
            "\rFold 5 Epoch 4:  29%|\u2588\u2588\u2589       | 12/41 [00:00<00:01, 22.98it/s]"
          ]
        },
        {
          "output_type": "stream",
          "name": "stderr",
          "text": [
            "\rFold 5 Epoch 4:  37%|\u2588\u2588\u2588\u258b      | 15/41 [00:00<00:01, 23.08it/s]"
          ]
        },
        {
          "output_type": "stream",
          "name": "stdout",
          "text": [
            "Batch 10, elapsed: 0.5s\n"
          ]
        },
        {
          "output_type": "stream",
          "name": "stderr",
          "text": [
            "\rFold 5 Epoch 4:  44%|\u2588\u2588\u2588\u2588\u258d     | 18/41 [00:00<00:00, 23.31it/s]"
          ]
        },
        {
          "output_type": "stream",
          "name": "stderr",
          "text": [
            "\rFold 5 Epoch 4:  51%|\u2588\u2588\u2588\u2588\u2588     | 21/41 [00:00<00:00, 23.45it/s]"
          ]
        },
        {
          "output_type": "stream",
          "name": "stderr",
          "text": [
            "\rFold 5 Epoch 4:  59%|\u2588\u2588\u2588\u2588\u2588\u258a    | 24/41 [00:01<00:00, 23.44it/s]"
          ]
        },
        {
          "output_type": "stream",
          "name": "stdout",
          "text": [
            "Batch 20, elapsed: 0.9s\n"
          ]
        },
        {
          "output_type": "stream",
          "name": "stderr",
          "text": [
            "\rFold 5 Epoch 4:  66%|\u2588\u2588\u2588\u2588\u2588\u2588\u258c   | 27/41 [00:01<00:00, 23.44it/s]"
          ]
        },
        {
          "output_type": "stream",
          "name": "stderr",
          "text": [
            "\rFold 5 Epoch 4:  73%|\u2588\u2588\u2588\u2588\u2588\u2588\u2588\u258e  | 30/41 [00:01<00:00, 23.37it/s]"
          ]
        },
        {
          "output_type": "stream",
          "name": "stderr",
          "text": [
            "\rFold 5 Epoch 4:  80%|\u2588\u2588\u2588\u2588\u2588\u2588\u2588\u2588  | 33/41 [00:01<00:00, 23.30it/s]"
          ]
        },
        {
          "output_type": "stream",
          "name": "stdout",
          "text": [
            "Batch 30, elapsed: 1.3s\n"
          ]
        },
        {
          "output_type": "stream",
          "name": "stderr",
          "text": [
            "\rFold 5 Epoch 4:  88%|\u2588\u2588\u2588\u2588\u2588\u2588\u2588\u2588\u258a | 36/41 [00:01<00:00, 23.21it/s]"
          ]
        },
        {
          "output_type": "stream",
          "name": "stderr",
          "text": [
            "\rFold 5 Epoch 4:  95%|\u2588\u2588\u2588\u2588\u2588\u2588\u2588\u2588\u2588\u258c| 39/41 [00:01<00:00, 23.11it/s]"
          ]
        },
        {
          "output_type": "stream",
          "name": "stderr",
          "text": [
            "\rFold 5 Epoch 4: 100%|\u2588\u2588\u2588\u2588\u2588\u2588\u2588\u2588\u2588\u2588| 41/41 [00:01<00:00, 23.28it/s]"
          ]
        },
        {
          "output_type": "stream",
          "name": "stderr",
          "text": [
            "\n"
          ]
        },
        {
          "output_type": "stream",
          "name": "stdout",
          "text": [
            "Batch 40, elapsed: 1.8s\nFold 5 Epoch 4 train time: 1.8s\nFold 5 Epoch 4: Train 0.7582, Val 0.7076, val time: 0.2s\n"
          ]
        },
        {
          "output_type": "stream",
          "name": "stderr",
          "text": [
            "\rFold 5 Epoch 5:   0%|          | 0/41 [00:00<?, ?it/s]"
          ]
        },
        {
          "output_type": "stream",
          "name": "stderr",
          "text": [
            "\rFold 5 Epoch 5:   7%|\u258b         | 3/41 [00:00<00:01, 23.74it/s]"
          ]
        },
        {
          "output_type": "stream",
          "name": "stdout",
          "text": [
            "Batch 0, elapsed: 0.0s\n"
          ]
        },
        {
          "output_type": "stream",
          "name": "stderr",
          "text": [
            "\rFold 5 Epoch 5:  15%|\u2588\u258d        | 6/41 [00:00<00:01, 23.64it/s]"
          ]
        },
        {
          "output_type": "stream",
          "name": "stderr",
          "text": [
            "\rFold 5 Epoch 5:  22%|\u2588\u2588\u258f       | 9/41 [00:00<00:01, 23.57it/s]"
          ]
        },
        {
          "output_type": "stream",
          "name": "stderr",
          "text": [
            "\rFold 5 Epoch 5:  29%|\u2588\u2588\u2589       | 12/41 [00:00<00:01, 23.73it/s]"
          ]
        },
        {
          "output_type": "stream",
          "name": "stderr",
          "text": [
            "\rFold 5 Epoch 5:  37%|\u2588\u2588\u2588\u258b      | 15/41 [00:00<00:01, 23.62it/s]"
          ]
        },
        {
          "output_type": "stream",
          "name": "stdout",
          "text": [
            "Batch 10, elapsed: 0.5s\n"
          ]
        },
        {
          "output_type": "stream",
          "name": "stderr",
          "text": [
            "\rFold 5 Epoch 5:  44%|\u2588\u2588\u2588\u2588\u258d     | 18/41 [00:00<00:00, 23.48it/s]"
          ]
        },
        {
          "output_type": "stream",
          "name": "stderr",
          "text": [
            "\rFold 5 Epoch 5:  51%|\u2588\u2588\u2588\u2588\u2588     | 21/41 [00:00<00:00, 23.22it/s]"
          ]
        },
        {
          "output_type": "stream",
          "name": "stderr",
          "text": [
            "\rFold 5 Epoch 5:  59%|\u2588\u2588\u2588\u2588\u2588\u258a    | 24/41 [00:01<00:00, 23.42it/s]"
          ]
        },
        {
          "output_type": "stream",
          "name": "stdout",
          "text": [
            "Batch 20, elapsed: 0.9s\n"
          ]
        },
        {
          "output_type": "stream",
          "name": "stderr",
          "text": [
            "\rFold 5 Epoch 5:  66%|\u2588\u2588\u2588\u2588\u2588\u2588\u258c   | 27/41 [00:01<00:00, 23.54it/s]"
          ]
        },
        {
          "output_type": "stream",
          "name": "stderr",
          "text": [
            "\rFold 5 Epoch 5:  73%|\u2588\u2588\u2588\u2588\u2588\u2588\u2588\u258e  | 30/41 [00:01<00:00, 23.60it/s]"
          ]
        },
        {
          "output_type": "stream",
          "name": "stderr",
          "text": [
            "\rFold 5 Epoch 5:  80%|\u2588\u2588\u2588\u2588\u2588\u2588\u2588\u2588  | 33/41 [00:01<00:00, 23.73it/s]"
          ]
        },
        {
          "output_type": "stream",
          "name": "stdout",
          "text": [
            "Batch 30, elapsed: 1.3s\n"
          ]
        },
        {
          "output_type": "stream",
          "name": "stderr",
          "text": [
            "\rFold 5 Epoch 5:  88%|\u2588\u2588\u2588\u2588\u2588\u2588\u2588\u2588\u258a | 36/41 [00:01<00:00, 23.88it/s]"
          ]
        },
        {
          "output_type": "stream",
          "name": "stderr",
          "text": [
            "\rFold 5 Epoch 5:  95%|\u2588\u2588\u2588\u2588\u2588\u2588\u2588\u2588\u2588\u258c| 39/41 [00:01<00:00, 23.97it/s]"
          ]
        },
        {
          "output_type": "stream",
          "name": "stderr",
          "text": [
            "\rFold 5 Epoch 5: 100%|\u2588\u2588\u2588\u2588\u2588\u2588\u2588\u2588\u2588\u2588| 41/41 [00:01<00:00, 23.79it/s]"
          ]
        },
        {
          "output_type": "stream",
          "name": "stderr",
          "text": [
            "\n"
          ]
        },
        {
          "output_type": "stream",
          "name": "stdout",
          "text": [
            "Batch 40, elapsed: 1.7s\nFold 5 Epoch 5 train time: 1.7s\nFold 5 Epoch 5: Train 0.7285, Val 0.7027, val time: 0.2s\n"
          ]
        },
        {
          "output_type": "stream",
          "name": "stdout",
          "text": [
            "New best at epoch 5\n"
          ]
        },
        {
          "output_type": "stream",
          "name": "stderr",
          "text": [
            "\rFold 5 Epoch 6:   0%|          | 0/41 [00:00<?, ?it/s]"
          ]
        },
        {
          "output_type": "stream",
          "name": "stderr",
          "text": [
            "\rFold 5 Epoch 6:   7%|\u258b         | 3/41 [00:00<00:01, 23.43it/s]"
          ]
        },
        {
          "output_type": "stream",
          "name": "stdout",
          "text": [
            "Batch 0, elapsed: 0.0s\n"
          ]
        },
        {
          "output_type": "stream",
          "name": "stderr",
          "text": [
            "\rFold 5 Epoch 6:  15%|\u2588\u258d        | 6/41 [00:00<00:01, 23.72it/s]"
          ]
        },
        {
          "output_type": "stream",
          "name": "stderr",
          "text": [
            "\rFold 5 Epoch 6:  22%|\u2588\u2588\u258f       | 9/41 [00:00<00:01, 23.91it/s]"
          ]
        },
        {
          "output_type": "stream",
          "name": "stderr",
          "text": [
            "\rFold 5 Epoch 6:  29%|\u2588\u2588\u2589       | 12/41 [00:00<00:01, 23.76it/s]"
          ]
        },
        {
          "output_type": "stream",
          "name": "stderr",
          "text": [
            "\rFold 5 Epoch 6:  37%|\u2588\u2588\u2588\u258b      | 15/41 [00:00<00:01, 23.66it/s]"
          ]
        },
        {
          "output_type": "stream",
          "name": "stdout",
          "text": [
            "Batch 10, elapsed: 0.5s\n"
          ]
        },
        {
          "output_type": "stream",
          "name": "stderr",
          "text": [
            "\rFold 5 Epoch 6:  44%|\u2588\u2588\u2588\u2588\u258d     | 18/41 [00:00<00:00, 23.56it/s]"
          ]
        },
        {
          "output_type": "stream",
          "name": "stderr",
          "text": [
            "\rFold 5 Epoch 6:  51%|\u2588\u2588\u2588\u2588\u2588     | 21/41 [00:00<00:00, 23.58it/s]"
          ]
        },
        {
          "output_type": "stream",
          "name": "stderr",
          "text": [
            "\rFold 5 Epoch 6:  59%|\u2588\u2588\u2588\u2588\u2588\u258a    | 24/41 [00:01<00:00, 23.60it/s]"
          ]
        },
        {
          "output_type": "stream",
          "name": "stdout",
          "text": [
            "Batch 20, elapsed: 0.9s\n"
          ]
        },
        {
          "output_type": "stream",
          "name": "stderr",
          "text": [
            "\rFold 5 Epoch 6:  66%|\u2588\u2588\u2588\u2588\u2588\u2588\u258c   | 27/41 [00:01<00:00, 23.56it/s]"
          ]
        },
        {
          "output_type": "stream",
          "name": "stderr",
          "text": [
            "\rFold 5 Epoch 6:  73%|\u2588\u2588\u2588\u2588\u2588\u2588\u2588\u258e  | 30/41 [00:01<00:00, 23.52it/s]"
          ]
        },
        {
          "output_type": "stream",
          "name": "stderr",
          "text": [
            "\rFold 5 Epoch 6:  80%|\u2588\u2588\u2588\u2588\u2588\u2588\u2588\u2588  | 33/41 [00:01<00:00, 23.41it/s]"
          ]
        },
        {
          "output_type": "stream",
          "name": "stdout",
          "text": [
            "Batch 30, elapsed: 1.3s\n"
          ]
        },
        {
          "output_type": "stream",
          "name": "stderr",
          "text": [
            "\rFold 5 Epoch 6:  88%|\u2588\u2588\u2588\u2588\u2588\u2588\u2588\u2588\u258a | 36/41 [00:01<00:00, 23.51it/s]"
          ]
        },
        {
          "output_type": "stream",
          "name": "stderr",
          "text": [
            "\rFold 5 Epoch 6:  95%|\u2588\u2588\u2588\u2588\u2588\u2588\u2588\u2588\u2588\u258c| 39/41 [00:01<00:00, 23.54it/s]"
          ]
        },
        {
          "output_type": "stream",
          "name": "stderr",
          "text": [
            "\rFold 5 Epoch 6: 100%|\u2588\u2588\u2588\u2588\u2588\u2588\u2588\u2588\u2588\u2588| 41/41 [00:01<00:00, 23.64it/s]"
          ]
        },
        {
          "output_type": "stream",
          "name": "stderr",
          "text": [
            "\n"
          ]
        },
        {
          "output_type": "stream",
          "name": "stdout",
          "text": [
            "Batch 40, elapsed: 1.7s\nFold 5 Epoch 6 train time: 1.7s\nFold 5 Epoch 6: Train 0.7351, Val 0.6880, val time: 0.2s\n"
          ]
        },
        {
          "output_type": "stream",
          "name": "stdout",
          "text": [
            "New best at epoch 6\n"
          ]
        },
        {
          "output_type": "stream",
          "name": "stderr",
          "text": [
            "\rFold 5 Epoch 7:   0%|          | 0/41 [00:00<?, ?it/s]"
          ]
        },
        {
          "output_type": "stream",
          "name": "stderr",
          "text": [
            "\rFold 5 Epoch 7:   7%|\u258b         | 3/41 [00:00<00:01, 23.62it/s]"
          ]
        },
        {
          "output_type": "stream",
          "name": "stdout",
          "text": [
            "Batch 0, elapsed: 0.0s\n"
          ]
        },
        {
          "output_type": "stream",
          "name": "stderr",
          "text": [
            "\rFold 5 Epoch 7:  15%|\u2588\u258d        | 6/41 [00:00<00:01, 23.02it/s]"
          ]
        },
        {
          "output_type": "stream",
          "name": "stderr",
          "text": [
            "\rFold 5 Epoch 7:  22%|\u2588\u2588\u258f       | 9/41 [00:00<00:01, 22.85it/s]"
          ]
        },
        {
          "output_type": "stream",
          "name": "stderr",
          "text": [
            "\rFold 5 Epoch 7:  29%|\u2588\u2588\u2589       | 12/41 [00:00<00:01, 22.88it/s]"
          ]
        },
        {
          "output_type": "stream",
          "name": "stderr",
          "text": [
            "\rFold 5 Epoch 7:  37%|\u2588\u2588\u2588\u258b      | 15/41 [00:00<00:01, 22.84it/s]"
          ]
        },
        {
          "output_type": "stream",
          "name": "stdout",
          "text": [
            "Batch 10, elapsed: 0.5s\n"
          ]
        },
        {
          "output_type": "stream",
          "name": "stderr",
          "text": [
            "\rFold 5 Epoch 7:  44%|\u2588\u2588\u2588\u2588\u258d     | 18/41 [00:00<00:01, 22.78it/s]"
          ]
        },
        {
          "output_type": "stream",
          "name": "stderr",
          "text": [
            "\rFold 5 Epoch 7:  51%|\u2588\u2588\u2588\u2588\u2588     | 21/41 [00:00<00:00, 23.11it/s]"
          ]
        },
        {
          "output_type": "stream",
          "name": "stderr",
          "text": [
            "\rFold 5 Epoch 7:  59%|\u2588\u2588\u2588\u2588\u2588\u258a    | 24/41 [00:01<00:00, 23.27it/s]"
          ]
        },
        {
          "output_type": "stream",
          "name": "stdout",
          "text": [
            "Batch 20, elapsed: 0.9s\n"
          ]
        },
        {
          "output_type": "stream",
          "name": "stderr",
          "text": [
            "\rFold 5 Epoch 7:  66%|\u2588\u2588\u2588\u2588\u2588\u2588\u258c   | 27/41 [00:01<00:00, 23.33it/s]"
          ]
        },
        {
          "output_type": "stream",
          "name": "stderr",
          "text": [
            "\rFold 5 Epoch 7:  73%|\u2588\u2588\u2588\u2588\u2588\u2588\u2588\u258e  | 30/41 [00:01<00:00, 23.40it/s]"
          ]
        },
        {
          "output_type": "stream",
          "name": "stderr",
          "text": [
            "\rFold 5 Epoch 7:  80%|\u2588\u2588\u2588\u2588\u2588\u2588\u2588\u2588  | 33/41 [00:01<00:00, 23.52it/s]"
          ]
        },
        {
          "output_type": "stream",
          "name": "stdout",
          "text": [
            "Batch 30, elapsed: 1.3s\n"
          ]
        },
        {
          "output_type": "stream",
          "name": "stderr",
          "text": [
            "\rFold 5 Epoch 7:  88%|\u2588\u2588\u2588\u2588\u2588\u2588\u2588\u2588\u258a | 36/41 [00:01<00:00, 23.73it/s]"
          ]
        },
        {
          "output_type": "stream",
          "name": "stderr",
          "text": [
            "\rFold 5 Epoch 7:  95%|\u2588\u2588\u2588\u2588\u2588\u2588\u2588\u2588\u2588\u258c| 39/41 [00:01<00:00, 23.73it/s]"
          ]
        },
        {
          "output_type": "stream",
          "name": "stderr",
          "text": [
            "\rFold 5 Epoch 7: 100%|\u2588\u2588\u2588\u2588\u2588\u2588\u2588\u2588\u2588\u2588| 41/41 [00:01<00:00, 23.46it/s]"
          ]
        },
        {
          "output_type": "stream",
          "name": "stderr",
          "text": [
            "\n"
          ]
        },
        {
          "output_type": "stream",
          "name": "stdout",
          "text": [
            "Batch 40, elapsed: 1.7s\nFold 5 Epoch 7 train time: 1.7s\nFold 5 Epoch 7: Train 0.7555, Val 0.6885, val time: 0.2s\n"
          ]
        },
        {
          "output_type": "stream",
          "name": "stderr",
          "text": [
            "\rFold 5 Epoch 8:   0%|          | 0/41 [00:00<?, ?it/s]"
          ]
        },
        {
          "output_type": "stream",
          "name": "stderr",
          "text": [
            "\rFold 5 Epoch 8:   7%|\u258b         | 3/41 [00:00<00:01, 23.83it/s]"
          ]
        },
        {
          "output_type": "stream",
          "name": "stdout",
          "text": [
            "Batch 0, elapsed: 0.0s\n"
          ]
        },
        {
          "output_type": "stream",
          "name": "stderr",
          "text": [
            "\rFold 5 Epoch 8:  15%|\u2588\u258d        | 6/41 [00:00<00:01, 22.76it/s]"
          ]
        },
        {
          "output_type": "stream",
          "name": "stderr",
          "text": [
            "\rFold 5 Epoch 8:  22%|\u2588\u2588\u258f       | 9/41 [00:00<00:01, 22.75it/s]"
          ]
        },
        {
          "output_type": "stream",
          "name": "stderr",
          "text": [
            "\rFold 5 Epoch 8:  29%|\u2588\u2588\u2589       | 12/41 [00:00<00:01, 23.01it/s]"
          ]
        },
        {
          "output_type": "stream",
          "name": "stderr",
          "text": [
            "\rFold 5 Epoch 8:  37%|\u2588\u2588\u2588\u258b      | 15/41 [00:00<00:01, 23.09it/s]"
          ]
        },
        {
          "output_type": "stream",
          "name": "stdout",
          "text": [
            "Batch 10, elapsed: 0.5s\n"
          ]
        },
        {
          "output_type": "stream",
          "name": "stderr",
          "text": [
            "\rFold 5 Epoch 8:  44%|\u2588\u2588\u2588\u2588\u258d     | 18/41 [00:00<00:00, 23.11it/s]"
          ]
        },
        {
          "output_type": "stream",
          "name": "stderr",
          "text": [
            "\rFold 5 Epoch 8:  51%|\u2588\u2588\u2588\u2588\u2588     | 21/41 [00:00<00:00, 23.21it/s]"
          ]
        },
        {
          "output_type": "stream",
          "name": "stderr",
          "text": [
            "\rFold 5 Epoch 8:  59%|\u2588\u2588\u2588\u2588\u2588\u258a    | 24/41 [00:01<00:00, 23.08it/s]"
          ]
        },
        {
          "output_type": "stream",
          "name": "stdout",
          "text": [
            "Batch 20, elapsed: 0.9s\n"
          ]
        },
        {
          "output_type": "stream",
          "name": "stderr",
          "text": [
            "\rFold 5 Epoch 8:  66%|\u2588\u2588\u2588\u2588\u2588\u2588\u258c   | 27/41 [00:01<00:00, 23.02it/s]"
          ]
        },
        {
          "output_type": "stream",
          "name": "stderr",
          "text": [
            "\rFold 5 Epoch 8:  73%|\u2588\u2588\u2588\u2588\u2588\u2588\u2588\u258e  | 30/41 [00:01<00:00, 23.06it/s]"
          ]
        },
        {
          "output_type": "stream",
          "name": "stderr",
          "text": [
            "\rFold 5 Epoch 8:  80%|\u2588\u2588\u2588\u2588\u2588\u2588\u2588\u2588  | 33/41 [00:01<00:00, 22.95it/s]"
          ]
        },
        {
          "output_type": "stream",
          "name": "stdout",
          "text": [
            "Batch 30, elapsed: 1.3s\n"
          ]
        },
        {
          "output_type": "stream",
          "name": "stderr",
          "text": [
            "\rFold 5 Epoch 8:  88%|\u2588\u2588\u2588\u2588\u2588\u2588\u2588\u2588\u258a | 36/41 [00:01<00:00, 22.97it/s]"
          ]
        },
        {
          "output_type": "stream",
          "name": "stderr",
          "text": [
            "\rFold 5 Epoch 8:  95%|\u2588\u2588\u2588\u2588\u2588\u2588\u2588\u2588\u2588\u258c| 39/41 [00:01<00:00, 22.80it/s]"
          ]
        },
        {
          "output_type": "stream",
          "name": "stderr",
          "text": [
            "\rFold 5 Epoch 8: 100%|\u2588\u2588\u2588\u2588\u2588\u2588\u2588\u2588\u2588\u2588| 41/41 [00:01<00:00, 23.07it/s]"
          ]
        },
        {
          "output_type": "stream",
          "name": "stderr",
          "text": [
            "\n"
          ]
        },
        {
          "output_type": "stream",
          "name": "stdout",
          "text": [
            "Batch 40, elapsed: 1.8s\nFold 5 Epoch 8 train time: 1.8s\nFold 5 Epoch 8: Train 0.7179, Val 0.6945, val time: 0.2s\n"
          ]
        },
        {
          "output_type": "stream",
          "name": "stderr",
          "text": [
            "\rFold 5 Epoch 9:   0%|          | 0/41 [00:00<?, ?it/s]"
          ]
        },
        {
          "output_type": "stream",
          "name": "stderr",
          "text": [
            "\rFold 5 Epoch 9:   7%|\u258b         | 3/41 [00:00<00:01, 22.98it/s]"
          ]
        },
        {
          "output_type": "stream",
          "name": "stdout",
          "text": [
            "Batch 0, elapsed: 0.0s\n"
          ]
        },
        {
          "output_type": "stream",
          "name": "stderr",
          "text": [
            "\rFold 5 Epoch 9:  15%|\u2588\u258d        | 6/41 [00:00<00:01, 22.96it/s]"
          ]
        },
        {
          "output_type": "stream",
          "name": "stderr",
          "text": [
            "\rFold 5 Epoch 9:  22%|\u2588\u2588\u258f       | 9/41 [00:00<00:01, 22.82it/s]"
          ]
        },
        {
          "output_type": "stream",
          "name": "stderr",
          "text": [
            "\rFold 5 Epoch 9:  29%|\u2588\u2588\u2589       | 12/41 [00:00<00:01, 22.82it/s]"
          ]
        },
        {
          "output_type": "stream",
          "name": "stderr",
          "text": [
            "\rFold 5 Epoch 9:  37%|\u2588\u2588\u2588\u258b      | 15/41 [00:00<00:01, 22.95it/s]"
          ]
        },
        {
          "output_type": "stream",
          "name": "stdout",
          "text": [
            "Batch 10, elapsed: 0.5s\n"
          ]
        },
        {
          "output_type": "stream",
          "name": "stderr",
          "text": [
            "\rFold 5 Epoch 9:  44%|\u2588\u2588\u2588\u2588\u258d     | 18/41 [00:00<00:01, 22.75it/s]"
          ]
        },
        {
          "output_type": "stream",
          "name": "stderr",
          "text": [
            "\rFold 5 Epoch 9:  51%|\u2588\u2588\u2588\u2588\u2588     | 21/41 [00:00<00:00, 22.86it/s]"
          ]
        },
        {
          "output_type": "stream",
          "name": "stderr",
          "text": [
            "\rFold 5 Epoch 9:  59%|\u2588\u2588\u2588\u2588\u2588\u258a    | 24/41 [00:01<00:00, 23.04it/s]"
          ]
        },
        {
          "output_type": "stream",
          "name": "stdout",
          "text": [
            "Batch 20, elapsed: 0.9s\n"
          ]
        },
        {
          "output_type": "stream",
          "name": "stderr",
          "text": [
            "\rFold 5 Epoch 9:  66%|\u2588\u2588\u2588\u2588\u2588\u2588\u258c   | 27/41 [00:01<00:00, 23.08it/s]"
          ]
        },
        {
          "output_type": "stream",
          "name": "stderr",
          "text": [
            "\rFold 5 Epoch 9:  73%|\u2588\u2588\u2588\u2588\u2588\u2588\u2588\u258e  | 30/41 [00:01<00:00, 23.03it/s]"
          ]
        },
        {
          "output_type": "stream",
          "name": "stderr",
          "text": [
            "\rFold 5 Epoch 9:  80%|\u2588\u2588\u2588\u2588\u2588\u2588\u2588\u2588  | 33/41 [00:01<00:00, 22.96it/s]"
          ]
        },
        {
          "output_type": "stream",
          "name": "stdout",
          "text": [
            "Batch 30, elapsed: 1.4s\n"
          ]
        },
        {
          "output_type": "stream",
          "name": "stderr",
          "text": [
            "\rFold 5 Epoch 9:  88%|\u2588\u2588\u2588\u2588\u2588\u2588\u2588\u2588\u258a | 36/41 [00:01<00:00, 22.93it/s]"
          ]
        },
        {
          "output_type": "stream",
          "name": "stderr",
          "text": [
            "\rFold 5 Epoch 9:  95%|\u2588\u2588\u2588\u2588\u2588\u2588\u2588\u2588\u2588\u258c| 39/41 [00:01<00:00, 22.81it/s]"
          ]
        },
        {
          "output_type": "stream",
          "name": "stderr",
          "text": [
            "\rFold 5 Epoch 9: 100%|\u2588\u2588\u2588\u2588\u2588\u2588\u2588\u2588\u2588\u2588| 41/41 [00:01<00:00, 23.01it/s]"
          ]
        },
        {
          "output_type": "stream",
          "name": "stderr",
          "text": [
            "\n"
          ]
        },
        {
          "output_type": "stream",
          "name": "stdout",
          "text": [
            "Batch 40, elapsed: 1.8s\nFold 5 Epoch 9 train time: 1.8s\nFold 5 Epoch 9: Train 0.7110, Val 0.6881, val time: 0.2s\n"
          ]
        },
        {
          "output_type": "stream",
          "name": "stderr",
          "text": [
            "\rFold 5 Epoch 10:   0%|          | 0/41 [00:00<?, ?it/s]"
          ]
        },
        {
          "output_type": "stream",
          "name": "stderr",
          "text": [
            "\rFold 5 Epoch 10:   7%|\u258b         | 3/41 [00:00<00:01, 22.57it/s]"
          ]
        },
        {
          "output_type": "stream",
          "name": "stdout",
          "text": [
            "Batch 0, elapsed: 0.0s\n"
          ]
        },
        {
          "output_type": "stream",
          "name": "stderr",
          "text": [
            "\rFold 5 Epoch 10:  15%|\u2588\u258d        | 6/41 [00:00<00:01, 23.29it/s]"
          ]
        },
        {
          "output_type": "stream",
          "name": "stderr",
          "text": [
            "\rFold 5 Epoch 10:  22%|\u2588\u2588\u258f       | 9/41 [00:00<00:01, 22.98it/s]"
          ]
        },
        {
          "output_type": "stream",
          "name": "stderr",
          "text": [
            "\rFold 5 Epoch 10:  29%|\u2588\u2588\u2589       | 12/41 [00:00<00:01, 22.93it/s]"
          ]
        },
        {
          "output_type": "stream",
          "name": "stderr",
          "text": [
            "\rFold 5 Epoch 10:  37%|\u2588\u2588\u2588\u258b      | 15/41 [00:00<00:01, 22.92it/s]"
          ]
        },
        {
          "output_type": "stream",
          "name": "stdout",
          "text": [
            "Batch 10, elapsed: 0.5s\n"
          ]
        },
        {
          "output_type": "stream",
          "name": "stderr",
          "text": [
            "\rFold 5 Epoch 10:  44%|\u2588\u2588\u2588\u2588\u258d     | 18/41 [00:00<00:00, 23.09it/s]"
          ]
        },
        {
          "output_type": "stream",
          "name": "stderr",
          "text": [
            "\rFold 5 Epoch 10:  51%|\u2588\u2588\u2588\u2588\u2588     | 21/41 [00:00<00:00, 22.95it/s]"
          ]
        },
        {
          "output_type": "stream",
          "name": "stderr",
          "text": [
            "\rFold 5 Epoch 10:  59%|\u2588\u2588\u2588\u2588\u2588\u258a    | 24/41 [00:01<00:00, 22.86it/s]"
          ]
        },
        {
          "output_type": "stream",
          "name": "stdout",
          "text": [
            "Batch 20, elapsed: 0.9s\n"
          ]
        },
        {
          "output_type": "stream",
          "name": "stderr",
          "text": [
            "\rFold 5 Epoch 10:  66%|\u2588\u2588\u2588\u2588\u2588\u2588\u258c   | 27/41 [00:01<00:00, 23.14it/s]"
          ]
        },
        {
          "output_type": "stream",
          "name": "stderr",
          "text": [
            "\rFold 5 Epoch 10:  73%|\u2588\u2588\u2588\u2588\u2588\u2588\u2588\u258e  | 30/41 [00:01<00:00, 23.15it/s]"
          ]
        },
        {
          "output_type": "stream",
          "name": "stderr",
          "text": [
            "\rFold 5 Epoch 10:  80%|\u2588\u2588\u2588\u2588\u2588\u2588\u2588\u2588  | 33/41 [00:01<00:00, 23.09it/s]"
          ]
        },
        {
          "output_type": "stream",
          "name": "stdout",
          "text": [
            "Batch 30, elapsed: 1.3s\n"
          ]
        },
        {
          "output_type": "stream",
          "name": "stderr",
          "text": [
            "\rFold 5 Epoch 10:  88%|\u2588\u2588\u2588\u2588\u2588\u2588\u2588\u2588\u258a | 36/41 [00:01<00:00, 23.09it/s]"
          ]
        },
        {
          "output_type": "stream",
          "name": "stderr",
          "text": [
            "\rFold 5 Epoch 10:  95%|\u2588\u2588\u2588\u2588\u2588\u2588\u2588\u2588\u2588\u258c| 39/41 [00:01<00:00, 23.04it/s]"
          ]
        },
        {
          "output_type": "stream",
          "name": "stderr",
          "text": [
            "\rFold 5 Epoch 10: 100%|\u2588\u2588\u2588\u2588\u2588\u2588\u2588\u2588\u2588\u2588| 41/41 [00:01<00:00, 23.08it/s]"
          ]
        },
        {
          "output_type": "stream",
          "name": "stderr",
          "text": [
            "\n"
          ]
        },
        {
          "output_type": "stream",
          "name": "stdout",
          "text": [
            "Batch 40, elapsed: 1.8s\nFold 5 Epoch 10 train time: 1.8s\nFold 5 Epoch 10: Train 0.7139, Val 0.6914, val time: 0.2s\n"
          ]
        },
        {
          "output_type": "stream",
          "name": "stderr",
          "text": [
            "\rFold 5 Epoch 11:   0%|          | 0/41 [00:00<?, ?it/s]"
          ]
        },
        {
          "output_type": "stream",
          "name": "stderr",
          "text": [
            "\rFold 5 Epoch 11:   7%|\u258b         | 3/41 [00:00<00:01, 22.78it/s]"
          ]
        },
        {
          "output_type": "stream",
          "name": "stdout",
          "text": [
            "Batch 0, elapsed: 0.0s\n"
          ]
        },
        {
          "output_type": "stream",
          "name": "stderr",
          "text": [
            "\rFold 5 Epoch 11:  15%|\u2588\u258d        | 6/41 [00:00<00:01, 23.00it/s]"
          ]
        },
        {
          "output_type": "stream",
          "name": "stderr",
          "text": [
            "\rFold 5 Epoch 11:  22%|\u2588\u2588\u258f       | 9/41 [00:00<00:01, 23.00it/s]"
          ]
        },
        {
          "output_type": "stream",
          "name": "stderr",
          "text": [
            "\rFold 5 Epoch 11:  29%|\u2588\u2588\u2589       | 12/41 [00:00<00:01, 23.10it/s]"
          ]
        },
        {
          "output_type": "stream",
          "name": "stderr",
          "text": [
            "\rFold 5 Epoch 11:  37%|\u2588\u2588\u2588\u258b      | 15/41 [00:00<00:01, 23.08it/s]"
          ]
        },
        {
          "output_type": "stream",
          "name": "stdout",
          "text": [
            "Batch 10, elapsed: 0.5s\n"
          ]
        },
        {
          "output_type": "stream",
          "name": "stderr",
          "text": [
            "\rFold 5 Epoch 11:  44%|\u2588\u2588\u2588\u2588\u258d     | 18/41 [00:00<00:00, 23.04it/s]"
          ]
        },
        {
          "output_type": "stream",
          "name": "stderr",
          "text": [
            "\rFold 5 Epoch 11:  51%|\u2588\u2588\u2588\u2588\u2588     | 21/41 [00:00<00:00, 23.17it/s]"
          ]
        },
        {
          "output_type": "stream",
          "name": "stderr",
          "text": [
            "\rFold 5 Epoch 11:  59%|\u2588\u2588\u2588\u2588\u2588\u258a    | 24/41 [00:01<00:00, 23.14it/s]"
          ]
        },
        {
          "output_type": "stream",
          "name": "stdout",
          "text": [
            "Batch 20, elapsed: 0.9s\n"
          ]
        },
        {
          "output_type": "stream",
          "name": "stderr",
          "text": [
            "\rFold 5 Epoch 11:  66%|\u2588\u2588\u2588\u2588\u2588\u2588\u258c   | 27/41 [00:01<00:00, 23.01it/s]"
          ]
        },
        {
          "output_type": "stream",
          "name": "stderr",
          "text": [
            "\rFold 5 Epoch 11:  73%|\u2588\u2588\u2588\u2588\u2588\u2588\u2588\u258e  | 30/41 [00:01<00:00, 23.17it/s]"
          ]
        },
        {
          "output_type": "stream",
          "name": "stderr",
          "text": [
            "\rFold 5 Epoch 11:  80%|\u2588\u2588\u2588\u2588\u2588\u2588\u2588\u2588  | 33/41 [00:01<00:00, 23.08it/s]"
          ]
        },
        {
          "output_type": "stream",
          "name": "stdout",
          "text": [
            "Batch 30, elapsed: 1.3s\n"
          ]
        },
        {
          "output_type": "stream",
          "name": "stderr",
          "text": [
            "\rFold 5 Epoch 11:  88%|\u2588\u2588\u2588\u2588\u2588\u2588\u2588\u2588\u258a | 36/41 [00:01<00:00, 23.04it/s]"
          ]
        },
        {
          "output_type": "stream",
          "name": "stderr",
          "text": [
            "\rFold 5 Epoch 11:  95%|\u2588\u2588\u2588\u2588\u2588\u2588\u2588\u2588\u2588\u258c| 39/41 [00:01<00:00, 22.93it/s]"
          ]
        },
        {
          "output_type": "stream",
          "name": "stderr",
          "text": [
            "\rFold 5 Epoch 11: 100%|\u2588\u2588\u2588\u2588\u2588\u2588\u2588\u2588\u2588\u2588| 41/41 [00:01<00:00, 23.10it/s]"
          ]
        },
        {
          "output_type": "stream",
          "name": "stderr",
          "text": [
            "\n"
          ]
        },
        {
          "output_type": "stream",
          "name": "stdout",
          "text": [
            "Batch 40, elapsed: 1.8s\nFold 5 Epoch 11 train time: 1.8s\nFold 5 Epoch 11: Train 0.7275, Val 0.6862, val time: 0.2s\n"
          ]
        },
        {
          "output_type": "stream",
          "name": "stdout",
          "text": [
            "New best at epoch 11\n"
          ]
        },
        {
          "output_type": "stream",
          "name": "stderr",
          "text": [
            "\rFold 5 Epoch 12:   0%|          | 0/41 [00:00<?, ?it/s]"
          ]
        },
        {
          "output_type": "stream",
          "name": "stderr",
          "text": [
            "\rFold 5 Epoch 12:   7%|\u258b         | 3/41 [00:00<00:01, 23.25it/s]"
          ]
        },
        {
          "output_type": "stream",
          "name": "stdout",
          "text": [
            "Batch 0, elapsed: 0.0s\n"
          ]
        },
        {
          "output_type": "stream",
          "name": "stderr",
          "text": [
            "\rFold 5 Epoch 12:  15%|\u2588\u258d        | 6/41 [00:00<00:01, 23.06it/s]"
          ]
        },
        {
          "output_type": "stream",
          "name": "stderr",
          "text": [
            "\rFold 5 Epoch 12:  22%|\u2588\u2588\u258f       | 9/41 [00:00<00:01, 22.89it/s]"
          ]
        },
        {
          "output_type": "stream",
          "name": "stderr",
          "text": [
            "\rFold 5 Epoch 12:  29%|\u2588\u2588\u2589       | 12/41 [00:00<00:01, 23.00it/s]"
          ]
        },
        {
          "output_type": "stream",
          "name": "stderr",
          "text": [
            "\rFold 5 Epoch 12:  37%|\u2588\u2588\u2588\u258b      | 15/41 [00:00<00:01, 23.35it/s]"
          ]
        },
        {
          "output_type": "stream",
          "name": "stdout",
          "text": [
            "Batch 10, elapsed: 0.5s\n"
          ]
        },
        {
          "output_type": "stream",
          "name": "stderr",
          "text": [
            "\rFold 5 Epoch 12:  44%|\u2588\u2588\u2588\u2588\u258d     | 18/41 [00:00<00:00, 23.45it/s]"
          ]
        },
        {
          "output_type": "stream",
          "name": "stderr",
          "text": [
            "\rFold 5 Epoch 12:  51%|\u2588\u2588\u2588\u2588\u2588     | 21/41 [00:00<00:00, 23.25it/s]"
          ]
        },
        {
          "output_type": "stream",
          "name": "stderr",
          "text": [
            "\rFold 5 Epoch 12:  59%|\u2588\u2588\u2588\u2588\u2588\u258a    | 24/41 [00:01<00:00, 23.42it/s]"
          ]
        },
        {
          "output_type": "stream",
          "name": "stdout",
          "text": [
            "Batch 20, elapsed: 0.9s\n"
          ]
        },
        {
          "output_type": "stream",
          "name": "stderr",
          "text": [
            "\rFold 5 Epoch 12:  66%|\u2588\u2588\u2588\u2588\u2588\u2588\u258c   | 27/41 [00:01<00:00, 23.42it/s]"
          ]
        },
        {
          "output_type": "stream",
          "name": "stderr",
          "text": [
            "\rFold 5 Epoch 12:  73%|\u2588\u2588\u2588\u2588\u2588\u2588\u2588\u258e  | 30/41 [00:01<00:00, 23.37it/s]"
          ]
        },
        {
          "output_type": "stream",
          "name": "stderr",
          "text": [
            "\rFold 5 Epoch 12:  80%|\u2588\u2588\u2588\u2588\u2588\u2588\u2588\u2588  | 33/41 [00:01<00:00, 23.18it/s]"
          ]
        },
        {
          "output_type": "stream",
          "name": "stdout",
          "text": [
            "Batch 30, elapsed: 1.3s\n"
          ]
        },
        {
          "output_type": "stream",
          "name": "stderr",
          "text": [
            "\rFold 5 Epoch 12:  88%|\u2588\u2588\u2588\u2588\u2588\u2588\u2588\u2588\u258a | 36/41 [00:01<00:00, 23.21it/s]"
          ]
        },
        {
          "output_type": "stream",
          "name": "stderr",
          "text": [
            "\rFold 5 Epoch 12:  95%|\u2588\u2588\u2588\u2588\u2588\u2588\u2588\u2588\u2588\u258c| 39/41 [00:01<00:00, 23.29it/s]"
          ]
        },
        {
          "output_type": "stream",
          "name": "stderr",
          "text": [
            "\rFold 5 Epoch 12: 100%|\u2588\u2588\u2588\u2588\u2588\u2588\u2588\u2588\u2588\u2588| 41/41 [00:01<00:00, 23.37it/s]"
          ]
        },
        {
          "output_type": "stream",
          "name": "stderr",
          "text": [
            "\n"
          ]
        },
        {
          "output_type": "stream",
          "name": "stdout",
          "text": [
            "Batch 40, elapsed: 1.8s\nFold 5 Epoch 12 train time: 1.8s\nFold 5 Epoch 12: Train 0.7209, Val 0.6887, val time: 0.2s\n"
          ]
        },
        {
          "output_type": "stream",
          "name": "stderr",
          "text": [
            "\rFold 5 Epoch 13:   0%|          | 0/41 [00:00<?, ?it/s]"
          ]
        },
        {
          "output_type": "stream",
          "name": "stderr",
          "text": [
            "\rFold 5 Epoch 13:   7%|\u258b         | 3/41 [00:00<00:01, 22.68it/s]"
          ]
        },
        {
          "output_type": "stream",
          "name": "stdout",
          "text": [
            "Batch 0, elapsed: 0.0s\n"
          ]
        },
        {
          "output_type": "stream",
          "name": "stderr",
          "text": [
            "\rFold 5 Epoch 13:  15%|\u2588\u258d        | 6/41 [00:00<00:01, 22.95it/s]"
          ]
        },
        {
          "output_type": "stream",
          "name": "stderr",
          "text": [
            "\rFold 5 Epoch 13:  22%|\u2588\u2588\u258f       | 9/41 [00:00<00:01, 22.69it/s]"
          ]
        },
        {
          "output_type": "stream",
          "name": "stderr",
          "text": [
            "\rFold 5 Epoch 13:  29%|\u2588\u2588\u2589       | 12/41 [00:00<00:01, 22.84it/s]"
          ]
        },
        {
          "output_type": "stream",
          "name": "stderr",
          "text": [
            "\rFold 5 Epoch 13:  37%|\u2588\u2588\u2588\u258b      | 15/41 [00:00<00:01, 22.53it/s]"
          ]
        },
        {
          "output_type": "stream",
          "name": "stdout",
          "text": [
            "Batch 10, elapsed: 0.5s\n"
          ]
        },
        {
          "output_type": "stream",
          "name": "stderr",
          "text": [
            "\rFold 5 Epoch 13:  44%|\u2588\u2588\u2588\u2588\u258d     | 18/41 [00:00<00:01, 22.76it/s]"
          ]
        },
        {
          "output_type": "stream",
          "name": "stderr",
          "text": [
            "\rFold 5 Epoch 13:  51%|\u2588\u2588\u2588\u2588\u2588     | 21/41 [00:00<00:00, 22.88it/s]"
          ]
        },
        {
          "output_type": "stream",
          "name": "stderr",
          "text": [
            "\rFold 5 Epoch 13:  59%|\u2588\u2588\u2588\u2588\u2588\u258a    | 24/41 [00:01<00:00, 23.18it/s]"
          ]
        },
        {
          "output_type": "stream",
          "name": "stdout",
          "text": [
            "Batch 20, elapsed: 0.9s\n"
          ]
        },
        {
          "output_type": "stream",
          "name": "stderr",
          "text": [
            "\rFold 5 Epoch 13:  66%|\u2588\u2588\u2588\u2588\u2588\u2588\u258c   | 27/41 [00:01<00:00, 23.40it/s]"
          ]
        },
        {
          "output_type": "stream",
          "name": "stderr",
          "text": [
            "\rFold 5 Epoch 13:  73%|\u2588\u2588\u2588\u2588\u2588\u2588\u2588\u258e  | 30/41 [00:01<00:00, 23.29it/s]"
          ]
        },
        {
          "output_type": "stream",
          "name": "stderr",
          "text": [
            "\rFold 5 Epoch 13:  80%|\u2588\u2588\u2588\u2588\u2588\u2588\u2588\u2588  | 33/41 [00:01<00:00, 23.23it/s]"
          ]
        },
        {
          "output_type": "stream",
          "name": "stdout",
          "text": [
            "Batch 30, elapsed: 1.3s\n"
          ]
        },
        {
          "output_type": "stream",
          "name": "stderr",
          "text": [
            "\rFold 5 Epoch 13:  88%|\u2588\u2588\u2588\u2588\u2588\u2588\u2588\u2588\u258a | 36/41 [00:01<00:00, 23.37it/s]"
          ]
        },
        {
          "output_type": "stream",
          "name": "stderr",
          "text": [
            "\rFold 5 Epoch 13:  95%|\u2588\u2588\u2588\u2588\u2588\u2588\u2588\u2588\u2588\u258c| 39/41 [00:01<00:00, 23.50it/s]"
          ]
        },
        {
          "output_type": "stream",
          "name": "stderr",
          "text": [
            "\rFold 5 Epoch 13: 100%|\u2588\u2588\u2588\u2588\u2588\u2588\u2588\u2588\u2588\u2588| 41/41 [00:01<00:00, 23.30it/s]"
          ]
        },
        {
          "output_type": "stream",
          "name": "stderr",
          "text": [
            "\n"
          ]
        },
        {
          "output_type": "stream",
          "name": "stdout",
          "text": [
            "Batch 40, elapsed: 1.8s\nFold 5 Epoch 13 train time: 1.8s\nFold 5 Epoch 13: Train 0.7170, Val 0.6897, val time: 0.2s\n"
          ]
        },
        {
          "output_type": "stream",
          "name": "stderr",
          "text": [
            "\rFold 5 Epoch 14:   0%|          | 0/41 [00:00<?, ?it/s]"
          ]
        },
        {
          "output_type": "stream",
          "name": "stderr",
          "text": [
            "\rFold 5 Epoch 14:   7%|\u258b         | 3/41 [00:00<00:01, 23.92it/s]"
          ]
        },
        {
          "output_type": "stream",
          "name": "stdout",
          "text": [
            "Batch 0, elapsed: 0.0s\n"
          ]
        },
        {
          "output_type": "stream",
          "name": "stderr",
          "text": [
            "\rFold 5 Epoch 14:  15%|\u2588\u258d        | 6/41 [00:00<00:01, 22.86it/s]"
          ]
        },
        {
          "output_type": "stream",
          "name": "stderr",
          "text": [
            "\rFold 5 Epoch 14:  22%|\u2588\u2588\u258f       | 9/41 [00:00<00:01, 22.78it/s]"
          ]
        },
        {
          "output_type": "stream",
          "name": "stderr",
          "text": [
            "\rFold 5 Epoch 14:  29%|\u2588\u2588\u2589       | 12/41 [00:00<00:01, 22.81it/s]"
          ]
        },
        {
          "output_type": "stream",
          "name": "stderr",
          "text": [
            "\rFold 5 Epoch 14:  37%|\u2588\u2588\u2588\u258b      | 15/41 [00:00<00:01, 23.09it/s]"
          ]
        },
        {
          "output_type": "stream",
          "name": "stdout",
          "text": [
            "Batch 10, elapsed: 0.5s\n"
          ]
        },
        {
          "output_type": "stream",
          "name": "stderr",
          "text": [
            "\rFold 5 Epoch 14:  44%|\u2588\u2588\u2588\u2588\u258d     | 18/41 [00:00<00:00, 23.18it/s]"
          ]
        },
        {
          "output_type": "stream",
          "name": "stderr",
          "text": [
            "\rFold 5 Epoch 14:  51%|\u2588\u2588\u2588\u2588\u2588     | 21/41 [00:00<00:00, 23.40it/s]"
          ]
        },
        {
          "output_type": "stream",
          "name": "stderr",
          "text": [
            "\rFold 5 Epoch 14:  59%|\u2588\u2588\u2588\u2588\u2588\u258a    | 24/41 [00:01<00:00, 23.35it/s]"
          ]
        },
        {
          "output_type": "stream",
          "name": "stdout",
          "text": [
            "Batch 20, elapsed: 0.9s\n"
          ]
        },
        {
          "output_type": "stream",
          "name": "stderr",
          "text": [
            "\rFold 5 Epoch 14:  66%|\u2588\u2588\u2588\u2588\u2588\u2588\u258c   | 27/41 [00:01<00:00, 23.15it/s]"
          ]
        },
        {
          "output_type": "stream",
          "name": "stderr",
          "text": [
            "\rFold 5 Epoch 14:  73%|\u2588\u2588\u2588\u2588\u2588\u2588\u2588\u258e  | 30/41 [00:01<00:00, 22.97it/s]"
          ]
        },
        {
          "output_type": "stream",
          "name": "stderr",
          "text": [
            "\rFold 5 Epoch 14:  80%|\u2588\u2588\u2588\u2588\u2588\u2588\u2588\u2588  | 33/41 [00:01<00:00, 22.82it/s]"
          ]
        },
        {
          "output_type": "stream",
          "name": "stdout",
          "text": [
            "Batch 30, elapsed: 1.3s\n"
          ]
        },
        {
          "output_type": "stream",
          "name": "stderr",
          "text": [
            "\rFold 5 Epoch 14:  88%|\u2588\u2588\u2588\u2588\u2588\u2588\u2588\u2588\u258a | 36/41 [00:01<00:00, 22.96it/s]"
          ]
        },
        {
          "output_type": "stream",
          "name": "stderr",
          "text": [
            "\rFold 5 Epoch 14:  95%|\u2588\u2588\u2588\u2588\u2588\u2588\u2588\u2588\u2588\u258c| 39/41 [00:01<00:00, 22.94it/s]"
          ]
        },
        {
          "output_type": "stream",
          "name": "stderr",
          "text": [
            "\rFold 5 Epoch 14: 100%|\u2588\u2588\u2588\u2588\u2588\u2588\u2588\u2588\u2588\u2588| 41/41 [00:01<00:00, 23.16it/s]"
          ]
        },
        {
          "output_type": "stream",
          "name": "stderr",
          "text": [
            "\n"
          ]
        },
        {
          "output_type": "stream",
          "name": "stdout",
          "text": [
            "Batch 40, elapsed: 1.8s\nFold 5 Epoch 14 train time: 1.8s\nFold 5 Epoch 14: Train 0.7104, Val 0.6873, val time: 0.2s\n"
          ]
        },
        {
          "output_type": "stream",
          "name": "stderr",
          "text": [
            "\rFold 5 Epoch 15:   0%|          | 0/41 [00:00<?, ?it/s]"
          ]
        },
        {
          "output_type": "stream",
          "name": "stderr",
          "text": [
            "\rFold 5 Epoch 15:   7%|\u258b         | 3/41 [00:00<00:01, 23.45it/s]"
          ]
        },
        {
          "output_type": "stream",
          "name": "stdout",
          "text": [
            "Batch 0, elapsed: 0.0s\n"
          ]
        },
        {
          "output_type": "stream",
          "name": "stderr",
          "text": [
            "\rFold 5 Epoch 15:  15%|\u2588\u258d        | 6/41 [00:00<00:01, 23.36it/s]"
          ]
        },
        {
          "output_type": "stream",
          "name": "stderr",
          "text": [
            "\rFold 5 Epoch 15:  22%|\u2588\u2588\u258f       | 9/41 [00:00<00:01, 23.55it/s]"
          ]
        },
        {
          "output_type": "stream",
          "name": "stderr",
          "text": [
            "\rFold 5 Epoch 15:  29%|\u2588\u2588\u2589       | 12/41 [00:00<00:01, 23.31it/s]"
          ]
        },
        {
          "output_type": "stream",
          "name": "stderr",
          "text": [
            "\rFold 5 Epoch 15:  37%|\u2588\u2588\u2588\u258b      | 15/41 [00:00<00:01, 23.36it/s]"
          ]
        },
        {
          "output_type": "stream",
          "name": "stdout",
          "text": [
            "Batch 10, elapsed: 0.5s\n"
          ]
        },
        {
          "output_type": "stream",
          "name": "stderr",
          "text": [
            "\rFold 5 Epoch 15:  44%|\u2588\u2588\u2588\u2588\u258d     | 18/41 [00:00<00:00, 23.44it/s]"
          ]
        },
        {
          "output_type": "stream",
          "name": "stderr",
          "text": [
            "\rFold 5 Epoch 15:  51%|\u2588\u2588\u2588\u2588\u2588     | 21/41 [00:00<00:00, 23.37it/s]"
          ]
        },
        {
          "output_type": "stream",
          "name": "stderr",
          "text": [
            "\rFold 5 Epoch 15:  59%|\u2588\u2588\u2588\u2588\u2588\u258a    | 24/41 [00:01<00:00, 23.31it/s]"
          ]
        },
        {
          "output_type": "stream",
          "name": "stdout",
          "text": [
            "Batch 20, elapsed: 0.9s\n"
          ]
        },
        {
          "output_type": "stream",
          "name": "stderr",
          "text": [
            "\rFold 5 Epoch 15:  66%|\u2588\u2588\u2588\u2588\u2588\u2588\u258c   | 27/41 [00:01<00:00, 23.34it/s]"
          ]
        },
        {
          "output_type": "stream",
          "name": "stderr",
          "text": [
            "\rFold 5 Epoch 15:  73%|\u2588\u2588\u2588\u2588\u2588\u2588\u2588\u258e  | 30/41 [00:01<00:00, 23.43it/s]"
          ]
        },
        {
          "output_type": "stream",
          "name": "stderr",
          "text": [
            "\rFold 5 Epoch 15:  80%|\u2588\u2588\u2588\u2588\u2588\u2588\u2588\u2588  | 33/41 [00:01<00:00, 23.16it/s]"
          ]
        },
        {
          "output_type": "stream",
          "name": "stdout",
          "text": [
            "Batch 30, elapsed: 1.3s\n"
          ]
        },
        {
          "output_type": "stream",
          "name": "stderr",
          "text": [
            "\rFold 5 Epoch 15:  88%|\u2588\u2588\u2588\u2588\u2588\u2588\u2588\u2588\u258a | 36/41 [00:01<00:00, 23.05it/s]"
          ]
        },
        {
          "output_type": "stream",
          "name": "stderr",
          "text": [
            "\rFold 5 Epoch 15:  95%|\u2588\u2588\u2588\u2588\u2588\u2588\u2588\u2588\u2588\u258c| 39/41 [00:01<00:00, 23.28it/s]"
          ]
        },
        {
          "output_type": "stream",
          "name": "stderr",
          "text": [
            "\rFold 5 Epoch 15: 100%|\u2588\u2588\u2588\u2588\u2588\u2588\u2588\u2588\u2588\u2588| 41/41 [00:01<00:00, 23.44it/s]"
          ]
        },
        {
          "output_type": "stream",
          "name": "stderr",
          "text": [
            "\n"
          ]
        },
        {
          "output_type": "stream",
          "name": "stdout",
          "text": [
            "Batch 40, elapsed: 1.7s\nFold 5 Epoch 15 train time: 1.7s\nFold 5 Epoch 15: Train 0.7048, Val 0.6875, val time: 0.2s\nFold 5 best val loss: 0.6862\n"
          ]
        },
        {
          "output_type": "stream",
          "name": "stdout",
          "text": [
            "Training ConvNeXt v2 on full train (pretrained)...\nFold 1 pos_weight: [3. 3. 3. 3. 3. 3. 3.]\nFold 1 GPU memory before model: 0.1GB\n"
          ]
        },
        {
          "output_type": "stream",
          "name": "stderr",
          "text": [
            "\rFold 1 Epoch 1:   0%|          | 0/41 [00:00<?, ?it/s]"
          ]
        },
        {
          "output_type": "stream",
          "name": "stderr",
          "text": [
            "\rFold 1 Epoch 1:   7%|\u258b         | 3/41 [00:00<00:01, 25.19it/s]"
          ]
        },
        {
          "output_type": "stream",
          "name": "stderr",
          "text": [
            "\rFold 1 Epoch 1:  15%|\u2588\u258d        | 6/41 [00:00<00:01, 24.93it/s]"
          ]
        },
        {
          "output_type": "stream",
          "name": "stdout",
          "text": [
            "Batch 0, elapsed: 0.0s\n"
          ]
        },
        {
          "output_type": "stream",
          "name": "stderr",
          "text": [
            "\rFold 1 Epoch 1:  22%|\u2588\u2588\u258f       | 9/41 [00:00<00:01, 24.69it/s]"
          ]
        },
        {
          "output_type": "stream",
          "name": "stderr",
          "text": [
            "\rFold 1 Epoch 1:  29%|\u2588\u2588\u2589       | 12/41 [00:00<00:01, 24.17it/s]"
          ]
        },
        {
          "output_type": "stream",
          "name": "stderr",
          "text": [
            "\rFold 1 Epoch 1:  37%|\u2588\u2588\u2588\u258b      | 15/41 [00:00<00:01, 23.61it/s]"
          ]
        },
        {
          "output_type": "stream",
          "name": "stdout",
          "text": [
            "Batch 10, elapsed: 0.5s\n"
          ]
        },
        {
          "output_type": "stream",
          "name": "stderr",
          "text": [
            "\rFold 1 Epoch 1:  44%|\u2588\u2588\u2588\u2588\u258d     | 18/41 [00:00<00:00, 23.60it/s]"
          ]
        },
        {
          "output_type": "stream",
          "name": "stderr",
          "text": [
            "\rFold 1 Epoch 1:  51%|\u2588\u2588\u2588\u2588\u2588     | 21/41 [00:00<00:00, 23.50it/s]"
          ]
        },
        {
          "output_type": "stream",
          "name": "stderr",
          "text": [
            "\rFold 1 Epoch 1:  59%|\u2588\u2588\u2588\u2588\u2588\u258a    | 24/41 [00:01<00:00, 23.64it/s]"
          ]
        },
        {
          "output_type": "stream",
          "name": "stdout",
          "text": [
            "Batch 20, elapsed: 0.9s\n"
          ]
        },
        {
          "output_type": "stream",
          "name": "stderr",
          "text": [
            "\rFold 1 Epoch 1:  66%|\u2588\u2588\u2588\u2588\u2588\u2588\u258c   | 27/41 [00:01<00:00, 23.46it/s]"
          ]
        },
        {
          "output_type": "stream",
          "name": "stderr",
          "text": [
            "\rFold 1 Epoch 1:  73%|\u2588\u2588\u2588\u2588\u2588\u2588\u2588\u258e  | 30/41 [00:01<00:00, 23.34it/s]"
          ]
        },
        {
          "output_type": "stream",
          "name": "stderr",
          "text": [
            "\rFold 1 Epoch 1:  80%|\u2588\u2588\u2588\u2588\u2588\u2588\u2588\u2588  | 33/41 [00:01<00:00, 23.52it/s]"
          ]
        },
        {
          "output_type": "stream",
          "name": "stdout",
          "text": [
            "Batch 30, elapsed: 1.3s\n"
          ]
        },
        {
          "output_type": "stream",
          "name": "stderr",
          "text": [
            "\rFold 1 Epoch 1:  88%|\u2588\u2588\u2588\u2588\u2588\u2588\u2588\u2588\u258a | 36/41 [00:01<00:00, 23.58it/s]"
          ]
        },
        {
          "output_type": "stream",
          "name": "stderr",
          "text": [
            "\rFold 1 Epoch 1:  95%|\u2588\u2588\u2588\u2588\u2588\u2588\u2588\u2588\u2588\u258c| 39/41 [00:01<00:00, 23.50it/s]"
          ]
        },
        {
          "output_type": "stream",
          "name": "stderr",
          "text": [
            "\rFold 1 Epoch 1: 100%|\u2588\u2588\u2588\u2588\u2588\u2588\u2588\u2588\u2588\u2588| 41/41 [00:01<00:00, 23.80it/s]"
          ]
        },
        {
          "output_type": "stream",
          "name": "stderr",
          "text": [
            "\n"
          ]
        },
        {
          "output_type": "stream",
          "name": "stdout",
          "text": [
            "Batch 40, elapsed: 1.7s\nFold 1 Epoch 1 train time: 1.7s\nFold 1 Epoch 1: Train 0.8582, Val 0.8356, val time: 0.2s\n"
          ]
        },
        {
          "output_type": "stream",
          "name": "stdout",
          "text": [
            "New best at epoch 1\n"
          ]
        },
        {
          "output_type": "stream",
          "name": "stderr",
          "text": [
            "\rFold 1 Epoch 2:   0%|          | 0/41 [00:00<?, ?it/s]"
          ]
        },
        {
          "output_type": "stream",
          "name": "stderr",
          "text": [
            "\rFold 1 Epoch 2:   7%|\u258b         | 3/41 [00:00<00:01, 24.07it/s]"
          ]
        },
        {
          "output_type": "stream",
          "name": "stdout",
          "text": [
            "Batch 0, elapsed: 0.0s\n"
          ]
        },
        {
          "output_type": "stream",
          "name": "stderr",
          "text": [
            "\rFold 1 Epoch 2:  15%|\u2588\u258d        | 6/41 [00:00<00:01, 23.67it/s]"
          ]
        },
        {
          "output_type": "stream",
          "name": "stderr",
          "text": [
            "\rFold 1 Epoch 2:  22%|\u2588\u2588\u258f       | 9/41 [00:00<00:01, 23.64it/s]"
          ]
        },
        {
          "output_type": "stream",
          "name": "stderr",
          "text": [
            "\rFold 1 Epoch 2:  29%|\u2588\u2588\u2589       | 12/41 [00:00<00:01, 23.58it/s]"
          ]
        },
        {
          "output_type": "stream",
          "name": "stderr",
          "text": [
            "\rFold 1 Epoch 2:  37%|\u2588\u2588\u2588\u258b      | 15/41 [00:00<00:01, 23.66it/s]"
          ]
        },
        {
          "output_type": "stream",
          "name": "stdout",
          "text": [
            "Batch 10, elapsed: 0.5s\n"
          ]
        },
        {
          "output_type": "stream",
          "name": "stderr",
          "text": [
            "\rFold 1 Epoch 2:  44%|\u2588\u2588\u2588\u2588\u258d     | 18/41 [00:00<00:00, 23.89it/s]"
          ]
        },
        {
          "output_type": "stream",
          "name": "stderr",
          "text": [
            "\rFold 1 Epoch 2:  51%|\u2588\u2588\u2588\u2588\u2588     | 21/41 [00:00<00:00, 23.69it/s]"
          ]
        },
        {
          "output_type": "stream",
          "name": "stderr",
          "text": [
            "\rFold 1 Epoch 2:  59%|\u2588\u2588\u2588\u2588\u2588\u258a    | 24/41 [00:01<00:00, 23.73it/s]"
          ]
        },
        {
          "output_type": "stream",
          "name": "stdout",
          "text": [
            "Batch 20, elapsed: 0.9s\n"
          ]
        },
        {
          "output_type": "stream",
          "name": "stderr",
          "text": [
            "\rFold 1 Epoch 2:  66%|\u2588\u2588\u2588\u2588\u2588\u2588\u258c   | 27/41 [00:01<00:00, 23.65it/s]"
          ]
        },
        {
          "output_type": "stream",
          "name": "stderr",
          "text": [
            "\rFold 1 Epoch 2:  73%|\u2588\u2588\u2588\u2588\u2588\u2588\u2588\u258e  | 30/41 [00:01<00:00, 23.61it/s]"
          ]
        },
        {
          "output_type": "stream",
          "name": "stderr",
          "text": [
            "\rFold 1 Epoch 2:  80%|\u2588\u2588\u2588\u2588\u2588\u2588\u2588\u2588  | 33/41 [00:01<00:00, 23.55it/s]"
          ]
        },
        {
          "output_type": "stream",
          "name": "stdout",
          "text": [
            "Batch 30, elapsed: 1.3s\n"
          ]
        },
        {
          "output_type": "stream",
          "name": "stderr",
          "text": [
            "\rFold 1 Epoch 2:  88%|\u2588\u2588\u2588\u2588\u2588\u2588\u2588\u2588\u258a | 36/41 [00:01<00:00, 23.49it/s]"
          ]
        },
        {
          "output_type": "stream",
          "name": "stderr",
          "text": [
            "\rFold 1 Epoch 2:  95%|\u2588\u2588\u2588\u2588\u2588\u2588\u2588\u2588\u2588\u258c| 39/41 [00:01<00:00, 23.64it/s]"
          ]
        },
        {
          "output_type": "stream",
          "name": "stderr",
          "text": [
            "\rFold 1 Epoch 2: 100%|\u2588\u2588\u2588\u2588\u2588\u2588\u2588\u2588\u2588\u2588| 41/41 [00:01<00:00, 23.79it/s]"
          ]
        },
        {
          "output_type": "stream",
          "name": "stderr",
          "text": [
            "\n"
          ]
        },
        {
          "output_type": "stream",
          "name": "stdout",
          "text": [
            "Batch 40, elapsed: 1.7s\nFold 1 Epoch 2 train time: 1.7s\nFold 1 Epoch 2: Train 0.8179, Val 0.6993, val time: 0.2s\n"
          ]
        },
        {
          "output_type": "stream",
          "name": "stdout",
          "text": [
            "New best at epoch 2\n"
          ]
        },
        {
          "output_type": "stream",
          "name": "stderr",
          "text": [
            "\rFold 1 Epoch 3:   0%|          | 0/41 [00:00<?, ?it/s]"
          ]
        },
        {
          "output_type": "stream",
          "name": "stderr",
          "text": [
            "\rFold 1 Epoch 3:   7%|\u258b         | 3/41 [00:00<00:01, 23.28it/s]"
          ]
        },
        {
          "output_type": "stream",
          "name": "stdout",
          "text": [
            "Batch 0, elapsed: 0.0s\n"
          ]
        },
        {
          "output_type": "stream",
          "name": "stderr",
          "text": [
            "\rFold 1 Epoch 3:  15%|\u2588\u258d        | 6/41 [00:00<00:01, 23.24it/s]"
          ]
        },
        {
          "output_type": "stream",
          "name": "stderr",
          "text": [
            "\rFold 1 Epoch 3:  22%|\u2588\u2588\u258f       | 9/41 [00:00<00:01, 23.40it/s]"
          ]
        },
        {
          "output_type": "stream",
          "name": "stderr",
          "text": [
            "\rFold 1 Epoch 3:  29%|\u2588\u2588\u2589       | 12/41 [00:00<00:01, 23.56it/s]"
          ]
        },
        {
          "output_type": "stream",
          "name": "stderr",
          "text": [
            "\rFold 1 Epoch 3:  37%|\u2588\u2588\u2588\u258b      | 15/41 [00:00<00:01, 23.56it/s]"
          ]
        },
        {
          "output_type": "stream",
          "name": "stdout",
          "text": [
            "Batch 10, elapsed: 0.5s\n"
          ]
        },
        {
          "output_type": "stream",
          "name": "stderr",
          "text": [
            "\rFold 1 Epoch 3:  44%|\u2588\u2588\u2588\u2588\u258d     | 18/41 [00:00<00:00, 23.62it/s]"
          ]
        },
        {
          "output_type": "stream",
          "name": "stderr",
          "text": [
            "\rFold 1 Epoch 3:  51%|\u2588\u2588\u2588\u2588\u2588     | 21/41 [00:00<00:00, 23.49it/s]"
          ]
        },
        {
          "output_type": "stream",
          "name": "stderr",
          "text": [
            "\rFold 1 Epoch 3:  59%|\u2588\u2588\u2588\u2588\u2588\u258a    | 24/41 [00:01<00:00, 23.46it/s]"
          ]
        },
        {
          "output_type": "stream",
          "name": "stdout",
          "text": [
            "Batch 20, elapsed: 0.9s\n"
          ]
        },
        {
          "output_type": "stream",
          "name": "stderr",
          "text": [
            "\rFold 1 Epoch 3:  66%|\u2588\u2588\u2588\u2588\u2588\u2588\u258c   | 27/41 [00:01<00:00, 23.52it/s]"
          ]
        },
        {
          "output_type": "stream",
          "name": "stderr",
          "text": [
            "\rFold 1 Epoch 3:  73%|\u2588\u2588\u2588\u2588\u2588\u2588\u2588\u258e  | 30/41 [00:01<00:00, 23.51it/s]"
          ]
        },
        {
          "output_type": "stream",
          "name": "stderr",
          "text": [
            "\rFold 1 Epoch 3:  80%|\u2588\u2588\u2588\u2588\u2588\u2588\u2588\u2588  | 33/41 [00:01<00:00, 23.34it/s]"
          ]
        },
        {
          "output_type": "stream",
          "name": "stdout",
          "text": [
            "Batch 30, elapsed: 1.3s\n"
          ]
        },
        {
          "output_type": "stream",
          "name": "stderr",
          "text": [
            "\rFold 1 Epoch 3:  88%|\u2588\u2588\u2588\u2588\u2588\u2588\u2588\u2588\u258a | 36/41 [00:01<00:00, 23.49it/s]"
          ]
        },
        {
          "output_type": "stream",
          "name": "stderr",
          "text": [
            "\rFold 1 Epoch 3:  95%|\u2588\u2588\u2588\u2588\u2588\u2588\u2588\u2588\u2588\u258c| 39/41 [00:01<00:00, 23.47it/s]"
          ]
        },
        {
          "output_type": "stream",
          "name": "stderr",
          "text": [
            "\rFold 1 Epoch 3: 100%|\u2588\u2588\u2588\u2588\u2588\u2588\u2588\u2588\u2588\u2588| 41/41 [00:01<00:00, 23.61it/s]"
          ]
        },
        {
          "output_type": "stream",
          "name": "stderr",
          "text": [
            "\n"
          ]
        },
        {
          "output_type": "stream",
          "name": "stdout",
          "text": [
            "Batch 40, elapsed: 1.7s\nFold 1 Epoch 3 train time: 1.7s\nFold 1 Epoch 3: Train 0.7512, Val 0.7070, val time: 0.2s\n"
          ]
        },
        {
          "output_type": "stream",
          "name": "stderr",
          "text": [
            "\rFold 1 Epoch 4:   0%|          | 0/41 [00:00<?, ?it/s]"
          ]
        },
        {
          "output_type": "stream",
          "name": "stderr",
          "text": [
            "\rFold 1 Epoch 4:   7%|\u258b         | 3/41 [00:00<00:01, 24.45it/s]"
          ]
        },
        {
          "output_type": "stream",
          "name": "stdout",
          "text": [
            "Batch 0, elapsed: 0.0s\n"
          ]
        },
        {
          "output_type": "stream",
          "name": "stderr",
          "text": [
            "\rFold 1 Epoch 4:  15%|\u2588\u258d        | 6/41 [00:00<00:01, 23.77it/s]"
          ]
        },
        {
          "output_type": "stream",
          "name": "stderr",
          "text": [
            "\rFold 1 Epoch 4:  22%|\u2588\u2588\u258f       | 9/41 [00:00<00:01, 23.67it/s]"
          ]
        },
        {
          "output_type": "stream",
          "name": "stderr",
          "text": [
            "\rFold 1 Epoch 4:  29%|\u2588\u2588\u2589       | 12/41 [00:00<00:01, 23.60it/s]"
          ]
        },
        {
          "output_type": "stream",
          "name": "stderr",
          "text": [
            "\rFold 1 Epoch 4:  37%|\u2588\u2588\u2588\u258b      | 15/41 [00:00<00:01, 23.40it/s]"
          ]
        },
        {
          "output_type": "stream",
          "name": "stdout",
          "text": [
            "Batch 10, elapsed: 0.5s\n"
          ]
        },
        {
          "output_type": "stream",
          "name": "stderr",
          "text": [
            "\rFold 1 Epoch 4:  44%|\u2588\u2588\u2588\u2588\u258d     | 18/41 [00:00<00:00, 23.32it/s]"
          ]
        },
        {
          "output_type": "stream",
          "name": "stderr",
          "text": [
            "\rFold 1 Epoch 4:  51%|\u2588\u2588\u2588\u2588\u2588     | 21/41 [00:00<00:00, 23.25it/s]"
          ]
        },
        {
          "output_type": "stream",
          "name": "stderr",
          "text": [
            "\rFold 1 Epoch 4:  59%|\u2588\u2588\u2588\u2588\u2588\u258a    | 24/41 [00:01<00:00, 23.29it/s]"
          ]
        },
        {
          "output_type": "stream",
          "name": "stdout",
          "text": [
            "Batch 20, elapsed: 0.9s\n"
          ]
        },
        {
          "output_type": "stream",
          "name": "stderr",
          "text": [
            "\rFold 1 Epoch 4:  66%|\u2588\u2588\u2588\u2588\u2588\u2588\u258c   | 27/41 [00:01<00:00, 23.33it/s]"
          ]
        },
        {
          "output_type": "stream",
          "name": "stderr",
          "text": [
            "\rFold 1 Epoch 4:  73%|\u2588\u2588\u2588\u2588\u2588\u2588\u2588\u258e  | 30/41 [00:01<00:00, 23.31it/s]"
          ]
        },
        {
          "output_type": "stream",
          "name": "stderr",
          "text": [
            "\rFold 1 Epoch 4:  80%|\u2588\u2588\u2588\u2588\u2588\u2588\u2588\u2588  | 33/41 [00:01<00:00, 23.24it/s]"
          ]
        },
        {
          "output_type": "stream",
          "name": "stdout",
          "text": [
            "Batch 30, elapsed: 1.3s\n"
          ]
        },
        {
          "output_type": "stream",
          "name": "stderr",
          "text": [
            "\rFold 1 Epoch 4:  88%|\u2588\u2588\u2588\u2588\u2588\u2588\u2588\u2588\u258a | 36/41 [00:01<00:00, 23.41it/s]"
          ]
        },
        {
          "output_type": "stream",
          "name": "stderr",
          "text": [
            "\rFold 1 Epoch 4:  95%|\u2588\u2588\u2588\u2588\u2588\u2588\u2588\u2588\u2588\u258c| 39/41 [00:01<00:00, 23.49it/s]"
          ]
        },
        {
          "output_type": "stream",
          "name": "stderr",
          "text": [
            "\rFold 1 Epoch 4: 100%|\u2588\u2588\u2588\u2588\u2588\u2588\u2588\u2588\u2588\u2588| 41/41 [00:01<00:00, 23.59it/s]"
          ]
        },
        {
          "output_type": "stream",
          "name": "stderr",
          "text": [
            "\n"
          ]
        },
        {
          "output_type": "stream",
          "name": "stdout",
          "text": [
            "Batch 40, elapsed: 1.7s\nFold 1 Epoch 4 train time: 1.7s\nFold 1 Epoch 4: Train 0.7310, Val 0.6981, val time: 0.2s\n"
          ]
        },
        {
          "output_type": "stream",
          "name": "stdout",
          "text": [
            "New best at epoch 4\n"
          ]
        },
        {
          "output_type": "stream",
          "name": "stderr",
          "text": [
            "\rFold 1 Epoch 5:   0%|          | 0/41 [00:00<?, ?it/s]"
          ]
        },
        {
          "output_type": "stream",
          "name": "stderr",
          "text": [
            "\rFold 1 Epoch 5:   7%|\u258b         | 3/41 [00:00<00:01, 23.05it/s]"
          ]
        },
        {
          "output_type": "stream",
          "name": "stdout",
          "text": [
            "Batch 0, elapsed: 0.0s\n"
          ]
        },
        {
          "output_type": "stream",
          "name": "stderr",
          "text": [
            "\rFold 1 Epoch 5:  15%|\u2588\u258d        | 6/41 [00:00<00:01, 23.19it/s]"
          ]
        },
        {
          "output_type": "stream",
          "name": "stderr",
          "text": [
            "\rFold 1 Epoch 5:  22%|\u2588\u2588\u258f       | 9/41 [00:00<00:01, 23.34it/s]"
          ]
        },
        {
          "output_type": "stream",
          "name": "stderr",
          "text": [
            "\rFold 1 Epoch 5:  29%|\u2588\u2588\u2589       | 12/41 [00:00<00:01, 23.41it/s]"
          ]
        },
        {
          "output_type": "stream",
          "name": "stderr",
          "text": [
            "\rFold 1 Epoch 5:  37%|\u2588\u2588\u2588\u258b      | 15/41 [00:00<00:01, 23.31it/s]"
          ]
        },
        {
          "output_type": "stream",
          "name": "stdout",
          "text": [
            "Batch 10, elapsed: 0.5s\n"
          ]
        },
        {
          "output_type": "stream",
          "name": "stderr",
          "text": [
            "\rFold 1 Epoch 5:  44%|\u2588\u2588\u2588\u2588\u258d     | 18/41 [00:00<00:00, 23.55it/s]"
          ]
        },
        {
          "output_type": "stream",
          "name": "stderr",
          "text": [
            "\rFold 1 Epoch 5:  51%|\u2588\u2588\u2588\u2588\u2588     | 21/41 [00:00<00:00, 23.54it/s]"
          ]
        },
        {
          "output_type": "stream",
          "name": "stderr",
          "text": [
            "\rFold 1 Epoch 5:  59%|\u2588\u2588\u2588\u2588\u2588\u258a    | 24/41 [00:01<00:00, 23.65it/s]"
          ]
        },
        {
          "output_type": "stream",
          "name": "stdout",
          "text": [
            "Batch 20, elapsed: 0.9s\n"
          ]
        },
        {
          "output_type": "stream",
          "name": "stderr",
          "text": [
            "\rFold 1 Epoch 5:  66%|\u2588\u2588\u2588\u2588\u2588\u2588\u258c   | 27/41 [00:01<00:00, 23.81it/s]"
          ]
        },
        {
          "output_type": "stream",
          "name": "stderr",
          "text": [
            "\rFold 1 Epoch 5:  73%|\u2588\u2588\u2588\u2588\u2588\u2588\u2588\u258e  | 30/41 [00:01<00:00, 23.71it/s]"
          ]
        },
        {
          "output_type": "stream",
          "name": "stderr",
          "text": [
            "\rFold 1 Epoch 5:  80%|\u2588\u2588\u2588\u2588\u2588\u2588\u2588\u2588  | 33/41 [00:01<00:00, 23.66it/s]"
          ]
        },
        {
          "output_type": "stream",
          "name": "stdout",
          "text": [
            "Batch 30, elapsed: 1.3s\n"
          ]
        },
        {
          "output_type": "stream",
          "name": "stderr",
          "text": [
            "\rFold 1 Epoch 5:  88%|\u2588\u2588\u2588\u2588\u2588\u2588\u2588\u2588\u258a | 36/41 [00:01<00:00, 23.58it/s]"
          ]
        },
        {
          "output_type": "stream",
          "name": "stderr",
          "text": [
            "\rFold 1 Epoch 5:  95%|\u2588\u2588\u2588\u2588\u2588\u2588\u2588\u2588\u2588\u258c| 39/41 [00:01<00:00, 23.61it/s]"
          ]
        },
        {
          "output_type": "stream",
          "name": "stderr",
          "text": [
            "\rFold 1 Epoch 5: 100%|\u2588\u2588\u2588\u2588\u2588\u2588\u2588\u2588\u2588\u2588| 41/41 [00:01<00:00, 23.65it/s]"
          ]
        },
        {
          "output_type": "stream",
          "name": "stderr",
          "text": [
            "\n"
          ]
        },
        {
          "output_type": "stream",
          "name": "stdout",
          "text": [
            "Batch 40, elapsed: 1.7s\nFold 1 Epoch 5 train time: 1.7s\nFold 1 Epoch 5: Train 0.7209, Val 0.7118, val time: 0.2s\n"
          ]
        },
        {
          "output_type": "stream",
          "name": "stderr",
          "text": [
            "\rFold 1 Epoch 6:   0%|          | 0/41 [00:00<?, ?it/s]"
          ]
        },
        {
          "output_type": "stream",
          "name": "stderr",
          "text": [
            "\rFold 1 Epoch 6:   7%|\u258b         | 3/41 [00:00<00:01, 23.70it/s]"
          ]
        },
        {
          "output_type": "stream",
          "name": "stdout",
          "text": [
            "Batch 0, elapsed: 0.0s\n"
          ]
        },
        {
          "output_type": "stream",
          "name": "stderr",
          "text": [
            "\rFold 1 Epoch 6:  15%|\u2588\u258d        | 6/41 [00:00<00:01, 23.47it/s]"
          ]
        },
        {
          "output_type": "stream",
          "name": "stderr",
          "text": [
            "\rFold 1 Epoch 6:  22%|\u2588\u2588\u258f       | 9/41 [00:00<00:01, 23.52it/s]"
          ]
        },
        {
          "output_type": "stream",
          "name": "stderr",
          "text": [
            "\rFold 1 Epoch 6:  29%|\u2588\u2588\u2589       | 12/41 [00:00<00:01, 23.49it/s]"
          ]
        },
        {
          "output_type": "stream",
          "name": "stderr",
          "text": [
            "\rFold 1 Epoch 6:  37%|\u2588\u2588\u2588\u258b      | 15/41 [00:00<00:01, 23.59it/s]"
          ]
        },
        {
          "output_type": "stream",
          "name": "stdout",
          "text": [
            "Batch 10, elapsed: 0.5s\n"
          ]
        },
        {
          "output_type": "stream",
          "name": "stderr",
          "text": [
            "\rFold 1 Epoch 6:  44%|\u2588\u2588\u2588\u2588\u258d     | 18/41 [00:00<00:00, 23.54it/s]"
          ]
        },
        {
          "output_type": "stream",
          "name": "stderr",
          "text": [
            "\rFold 1 Epoch 6:  51%|\u2588\u2588\u2588\u2588\u2588     | 21/41 [00:00<00:00, 23.62it/s]"
          ]
        },
        {
          "output_type": "stream",
          "name": "stderr",
          "text": [
            "\rFold 1 Epoch 6:  59%|\u2588\u2588\u2588\u2588\u2588\u258a    | 24/41 [00:01<00:00, 23.42it/s]"
          ]
        },
        {
          "output_type": "stream",
          "name": "stdout",
          "text": [
            "Batch 20, elapsed: 0.9s\n"
          ]
        },
        {
          "output_type": "stream",
          "name": "stderr",
          "text": [
            "\rFold 1 Epoch 6:  66%|\u2588\u2588\u2588\u2588\u2588\u2588\u258c   | 27/41 [00:01<00:00, 23.38it/s]"
          ]
        },
        {
          "output_type": "stream",
          "name": "stderr",
          "text": [
            "\rFold 1 Epoch 6:  73%|\u2588\u2588\u2588\u2588\u2588\u2588\u2588\u258e  | 30/41 [00:01<00:00, 23.41it/s]"
          ]
        },
        {
          "output_type": "stream",
          "name": "stderr",
          "text": [
            "\rFold 1 Epoch 6:  80%|\u2588\u2588\u2588\u2588\u2588\u2588\u2588\u2588  | 33/41 [00:01<00:00, 23.37it/s]"
          ]
        },
        {
          "output_type": "stream",
          "name": "stdout",
          "text": [
            "Batch 30, elapsed: 1.3s\n"
          ]
        },
        {
          "output_type": "stream",
          "name": "stderr",
          "text": [
            "\rFold 1 Epoch 6:  88%|\u2588\u2588\u2588\u2588\u2588\u2588\u2588\u2588\u258a | 36/41 [00:01<00:00, 23.23it/s]"
          ]
        },
        {
          "output_type": "stream",
          "name": "stderr",
          "text": [
            "\rFold 1 Epoch 6:  95%|\u2588\u2588\u2588\u2588\u2588\u2588\u2588\u2588\u2588\u258c| 39/41 [00:01<00:00, 23.34it/s]"
          ]
        },
        {
          "output_type": "stream",
          "name": "stderr",
          "text": [
            "\rFold 1 Epoch 6: 100%|\u2588\u2588\u2588\u2588\u2588\u2588\u2588\u2588\u2588\u2588| 41/41 [00:01<00:00, 23.55it/s]"
          ]
        },
        {
          "output_type": "stream",
          "name": "stderr",
          "text": [
            "\n"
          ]
        },
        {
          "output_type": "stream",
          "name": "stdout",
          "text": [
            "Batch 40, elapsed: 1.7s\nFold 1 Epoch 6 train time: 1.7s\nFold 1 Epoch 6: Train 0.7392, Val 0.7261, val time: 0.2s\n"
          ]
        },
        {
          "output_type": "stream",
          "name": "stderr",
          "text": [
            "\rFold 1 Epoch 7:   0%|          | 0/41 [00:00<?, ?it/s]"
          ]
        },
        {
          "output_type": "stream",
          "name": "stderr",
          "text": [
            "\rFold 1 Epoch 7:   7%|\u258b         | 3/41 [00:00<00:01, 23.64it/s]"
          ]
        },
        {
          "output_type": "stream",
          "name": "stdout",
          "text": [
            "Batch 0, elapsed: 0.0s\n"
          ]
        },
        {
          "output_type": "stream",
          "name": "stderr",
          "text": [
            "\rFold 1 Epoch 7:  15%|\u2588\u258d        | 6/41 [00:00<00:01, 23.71it/s]"
          ]
        },
        {
          "output_type": "stream",
          "name": "stderr",
          "text": [
            "\rFold 1 Epoch 7:  22%|\u2588\u2588\u258f       | 9/41 [00:00<00:01, 23.58it/s]"
          ]
        },
        {
          "output_type": "stream",
          "name": "stderr",
          "text": [
            "\rFold 1 Epoch 7:  29%|\u2588\u2588\u2589       | 12/41 [00:00<00:01, 23.77it/s]"
          ]
        },
        {
          "output_type": "stream",
          "name": "stderr",
          "text": [
            "\rFold 1 Epoch 7:  37%|\u2588\u2588\u2588\u258b      | 15/41 [00:00<00:01, 23.65it/s]"
          ]
        },
        {
          "output_type": "stream",
          "name": "stdout",
          "text": [
            "Batch 10, elapsed: 0.5s\n"
          ]
        },
        {
          "output_type": "stream",
          "name": "stderr",
          "text": [
            "\rFold 1 Epoch 7:  44%|\u2588\u2588\u2588\u2588\u258d     | 18/41 [00:00<00:00, 23.62it/s]"
          ]
        },
        {
          "output_type": "stream",
          "name": "stderr",
          "text": [
            "\rFold 1 Epoch 7:  51%|\u2588\u2588\u2588\u2588\u2588     | 21/41 [00:00<00:00, 23.55it/s]"
          ]
        },
        {
          "output_type": "stream",
          "name": "stderr",
          "text": [
            "\rFold 1 Epoch 7:  59%|\u2588\u2588\u2588\u2588\u2588\u258a    | 24/41 [00:01<00:00, 23.51it/s]"
          ]
        },
        {
          "output_type": "stream",
          "name": "stdout",
          "text": [
            "Batch 20, elapsed: 0.9s\n"
          ]
        },
        {
          "output_type": "stream",
          "name": "stderr",
          "text": [
            "\rFold 1 Epoch 7:  66%|\u2588\u2588\u2588\u2588\u2588\u2588\u258c   | 27/41 [00:01<00:00, 23.13it/s]"
          ]
        },
        {
          "output_type": "stream",
          "name": "stderr",
          "text": [
            "\rFold 1 Epoch 7:  73%|\u2588\u2588\u2588\u2588\u2588\u2588\u2588\u258e  | 30/41 [00:01<00:00, 22.98it/s]"
          ]
        },
        {
          "output_type": "stream",
          "name": "stderr",
          "text": [
            "\rFold 1 Epoch 7:  80%|\u2588\u2588\u2588\u2588\u2588\u2588\u2588\u2588  | 33/41 [00:01<00:00, 23.00it/s]"
          ]
        },
        {
          "output_type": "stream",
          "name": "stdout",
          "text": [
            "Batch 30, elapsed: 1.3s\n"
          ]
        },
        {
          "output_type": "stream",
          "name": "stderr",
          "text": [
            "\rFold 1 Epoch 7:  88%|\u2588\u2588\u2588\u2588\u2588\u2588\u2588\u2588\u258a | 36/41 [00:01<00:00, 23.02it/s]"
          ]
        },
        {
          "output_type": "stream",
          "name": "stderr",
          "text": [
            "\rFold 1 Epoch 7:  95%|\u2588\u2588\u2588\u2588\u2588\u2588\u2588\u2588\u2588\u258c| 39/41 [00:01<00:00, 22.99it/s]"
          ]
        },
        {
          "output_type": "stream",
          "name": "stderr",
          "text": [
            "\rFold 1 Epoch 7: 100%|\u2588\u2588\u2588\u2588\u2588\u2588\u2588\u2588\u2588\u2588| 41/41 [00:01<00:00, 23.43it/s]"
          ]
        },
        {
          "output_type": "stream",
          "name": "stderr",
          "text": [
            "\n"
          ]
        },
        {
          "output_type": "stream",
          "name": "stdout",
          "text": [
            "Batch 40, elapsed: 1.8s\nFold 1 Epoch 7 train time: 1.8s\nFold 1 Epoch 7: Train 0.7338, Val 0.6810, val time: 0.2s\n"
          ]
        },
        {
          "output_type": "stream",
          "name": "stdout",
          "text": [
            "New best at epoch 7\n"
          ]
        },
        {
          "output_type": "stream",
          "name": "stderr",
          "text": [
            "\rFold 1 Epoch 8:   0%|          | 0/41 [00:00<?, ?it/s]"
          ]
        },
        {
          "output_type": "stream",
          "name": "stderr",
          "text": [
            "\rFold 1 Epoch 8:   7%|\u258b         | 3/41 [00:00<00:01, 22.75it/s]"
          ]
        },
        {
          "output_type": "stream",
          "name": "stdout",
          "text": [
            "Batch 0, elapsed: 0.0s\n"
          ]
        },
        {
          "output_type": "stream",
          "name": "stderr",
          "text": [
            "\rFold 1 Epoch 8:  15%|\u2588\u258d        | 6/41 [00:00<00:01, 22.45it/s]"
          ]
        },
        {
          "output_type": "stream",
          "name": "stderr",
          "text": [
            "\rFold 1 Epoch 8:  22%|\u2588\u2588\u258f       | 9/41 [00:00<00:01, 22.44it/s]"
          ]
        },
        {
          "output_type": "stream",
          "name": "stderr",
          "text": [
            "\rFold 1 Epoch 8:  29%|\u2588\u2588\u2589       | 12/41 [00:00<00:01, 22.51it/s]"
          ]
        },
        {
          "output_type": "stream",
          "name": "stderr",
          "text": [
            "\rFold 1 Epoch 8:  37%|\u2588\u2588\u2588\u258b      | 15/41 [00:00<00:01, 22.51it/s]"
          ]
        },
        {
          "output_type": "stream",
          "name": "stdout",
          "text": [
            "Batch 10, elapsed: 0.5s\n"
          ]
        },
        {
          "output_type": "stream",
          "name": "stderr",
          "text": [
            "\rFold 1 Epoch 8:  44%|\u2588\u2588\u2588\u2588\u258d     | 18/41 [00:00<00:01, 22.74it/s]"
          ]
        },
        {
          "output_type": "stream",
          "name": "stderr",
          "text": [
            "\rFold 1 Epoch 8:  51%|\u2588\u2588\u2588\u2588\u2588     | 21/41 [00:00<00:00, 22.83it/s]"
          ]
        },
        {
          "output_type": "stream",
          "name": "stderr",
          "text": [
            "\rFold 1 Epoch 8:  59%|\u2588\u2588\u2588\u2588\u2588\u258a    | 24/41 [00:01<00:00, 22.79it/s]"
          ]
        },
        {
          "output_type": "stream",
          "name": "stdout",
          "text": [
            "Batch 20, elapsed: 0.9s\n"
          ]
        },
        {
          "output_type": "stream",
          "name": "stderr",
          "text": [
            "\rFold 1 Epoch 8:  66%|\u2588\u2588\u2588\u2588\u2588\u2588\u258c   | 27/41 [00:01<00:00, 22.85it/s]"
          ]
        },
        {
          "output_type": "stream",
          "name": "stderr",
          "text": [
            "\rFold 1 Epoch 8:  73%|\u2588\u2588\u2588\u2588\u2588\u2588\u2588\u258e  | 30/41 [00:01<00:00, 22.93it/s]"
          ]
        },
        {
          "output_type": "stream",
          "name": "stderr",
          "text": [
            "\rFold 1 Epoch 8:  80%|\u2588\u2588\u2588\u2588\u2588\u2588\u2588\u2588  | 33/41 [00:01<00:00, 22.79it/s]"
          ]
        },
        {
          "output_type": "stream",
          "name": "stdout",
          "text": [
            "Batch 30, elapsed: 1.4s\n"
          ]
        },
        {
          "output_type": "stream",
          "name": "stderr",
          "text": [
            "\rFold 1 Epoch 8:  88%|\u2588\u2588\u2588\u2588\u2588\u2588\u2588\u2588\u258a | 36/41 [00:01<00:00, 22.67it/s]"
          ]
        },
        {
          "output_type": "stream",
          "name": "stderr",
          "text": [
            "\rFold 1 Epoch 8:  95%|\u2588\u2588\u2588\u2588\u2588\u2588\u2588\u2588\u2588\u258c| 39/41 [00:01<00:00, 22.93it/s]"
          ]
        },
        {
          "output_type": "stream",
          "name": "stderr",
          "text": [
            "\rFold 1 Epoch 8: 100%|\u2588\u2588\u2588\u2588\u2588\u2588\u2588\u2588\u2588\u2588| 41/41 [00:01<00:00, 22.88it/s]"
          ]
        },
        {
          "output_type": "stream",
          "name": "stderr",
          "text": [
            "\n"
          ]
        },
        {
          "output_type": "stream",
          "name": "stdout",
          "text": [
            "Batch 40, elapsed: 1.8s\nFold 1 Epoch 8 train time: 1.8s\nFold 1 Epoch 8: Train 0.7252, Val 0.6791, val time: 0.2s\n"
          ]
        },
        {
          "output_type": "stream",
          "name": "stdout",
          "text": [
            "New best at epoch 8\n"
          ]
        },
        {
          "output_type": "stream",
          "name": "stderr",
          "text": [
            "\rFold 1 Epoch 9:   0%|          | 0/41 [00:00<?, ?it/s]"
          ]
        },
        {
          "output_type": "stream",
          "name": "stderr",
          "text": [
            "\rFold 1 Epoch 9:   7%|\u258b         | 3/41 [00:00<00:01, 23.55it/s]"
          ]
        },
        {
          "output_type": "stream",
          "name": "stdout",
          "text": [
            "Batch 0, elapsed: 0.0s\n"
          ]
        },
        {
          "output_type": "stream",
          "name": "stderr",
          "text": [
            "\rFold 1 Epoch 9:  15%|\u2588\u258d        | 6/41 [00:00<00:01, 23.54it/s]"
          ]
        },
        {
          "output_type": "stream",
          "name": "stderr",
          "text": [
            "\rFold 1 Epoch 9:  22%|\u2588\u2588\u258f       | 9/41 [00:00<00:01, 23.83it/s]"
          ]
        },
        {
          "output_type": "stream",
          "name": "stderr",
          "text": [
            "\rFold 1 Epoch 9:  29%|\u2588\u2588\u2589       | 12/41 [00:00<00:01, 23.66it/s]"
          ]
        },
        {
          "output_type": "stream",
          "name": "stderr",
          "text": [
            "\rFold 1 Epoch 9:  37%|\u2588\u2588\u2588\u258b      | 15/41 [00:00<00:01, 23.71it/s]"
          ]
        },
        {
          "output_type": "stream",
          "name": "stdout",
          "text": [
            "Batch 10, elapsed: 0.5s\n"
          ]
        },
        {
          "output_type": "stream",
          "name": "stderr",
          "text": [
            "\rFold 1 Epoch 9:  44%|\u2588\u2588\u2588\u2588\u258d     | 18/41 [00:00<00:00, 23.71it/s]"
          ]
        },
        {
          "output_type": "stream",
          "name": "stderr",
          "text": [
            "\rFold 1 Epoch 9:  51%|\u2588\u2588\u2588\u2588\u2588     | 21/41 [00:00<00:00, 23.71it/s]"
          ]
        },
        {
          "output_type": "stream",
          "name": "stderr",
          "text": [
            "\rFold 1 Epoch 9:  59%|\u2588\u2588\u2588\u2588\u2588\u258a    | 24/41 [00:01<00:00, 23.63it/s]"
          ]
        },
        {
          "output_type": "stream",
          "name": "stdout",
          "text": [
            "Batch 20, elapsed: 0.9s\n"
          ]
        },
        {
          "output_type": "stream",
          "name": "stderr",
          "text": [
            "\rFold 1 Epoch 9:  66%|\u2588\u2588\u2588\u2588\u2588\u2588\u258c   | 27/41 [00:01<00:00, 23.43it/s]"
          ]
        },
        {
          "output_type": "stream",
          "name": "stderr",
          "text": [
            "\rFold 1 Epoch 9:  73%|\u2588\u2588\u2588\u2588\u2588\u2588\u2588\u258e  | 30/41 [00:01<00:00, 23.22it/s]"
          ]
        },
        {
          "output_type": "stream",
          "name": "stderr",
          "text": [
            "\rFold 1 Epoch 9:  80%|\u2588\u2588\u2588\u2588\u2588\u2588\u2588\u2588  | 33/41 [00:01<00:00, 23.15it/s]"
          ]
        },
        {
          "output_type": "stream",
          "name": "stdout",
          "text": [
            "Batch 30, elapsed: 1.3s\n"
          ]
        },
        {
          "output_type": "stream",
          "name": "stderr",
          "text": [
            "\rFold 1 Epoch 9:  88%|\u2588\u2588\u2588\u2588\u2588\u2588\u2588\u2588\u258a | 36/41 [00:01<00:00, 23.30it/s]"
          ]
        },
        {
          "output_type": "stream",
          "name": "stderr",
          "text": [
            "\rFold 1 Epoch 9:  95%|\u2588\u2588\u2588\u2588\u2588\u2588\u2588\u2588\u2588\u258c| 39/41 [00:01<00:00, 23.48it/s]"
          ]
        },
        {
          "output_type": "stream",
          "name": "stderr",
          "text": [
            "\rFold 1 Epoch 9: 100%|\u2588\u2588\u2588\u2588\u2588\u2588\u2588\u2588\u2588\u2588| 41/41 [00:01<00:00, 23.63it/s]"
          ]
        },
        {
          "output_type": "stream",
          "name": "stderr",
          "text": [
            "\n"
          ]
        },
        {
          "output_type": "stream",
          "name": "stdout",
          "text": [
            "Batch 40, elapsed: 1.7s\nFold 1 Epoch 9 train time: 1.7s\nFold 1 Epoch 9: Train 0.7257, Val 0.6798, val time: 0.2s\n"
          ]
        },
        {
          "output_type": "stream",
          "name": "stderr",
          "text": [
            "\rFold 1 Epoch 10:   0%|          | 0/41 [00:00<?, ?it/s]"
          ]
        },
        {
          "output_type": "stream",
          "name": "stderr",
          "text": [
            "\rFold 1 Epoch 10:   7%|\u258b         | 3/41 [00:00<00:01, 22.82it/s]"
          ]
        },
        {
          "output_type": "stream",
          "name": "stdout",
          "text": [
            "Batch 0, elapsed: 0.0s\n"
          ]
        },
        {
          "output_type": "stream",
          "name": "stderr",
          "text": [
            "\rFold 1 Epoch 10:  15%|\u2588\u258d        | 6/41 [00:00<00:01, 23.60it/s]"
          ]
        },
        {
          "output_type": "stream",
          "name": "stderr",
          "text": [
            "\rFold 1 Epoch 10:  22%|\u2588\u2588\u258f       | 9/41 [00:00<00:01, 23.57it/s]"
          ]
        },
        {
          "output_type": "stream",
          "name": "stderr",
          "text": [
            "\rFold 1 Epoch 10:  29%|\u2588\u2588\u2589       | 12/41 [00:00<00:01, 23.46it/s]"
          ]
        },
        {
          "output_type": "stream",
          "name": "stderr",
          "text": [
            "\rFold 1 Epoch 10:  37%|\u2588\u2588\u2588\u258b      | 15/41 [00:00<00:01, 23.33it/s]"
          ]
        },
        {
          "output_type": "stream",
          "name": "stdout",
          "text": [
            "Batch 10, elapsed: 0.5s\n"
          ]
        },
        {
          "output_type": "stream",
          "name": "stderr",
          "text": [
            "\rFold 1 Epoch 10:  44%|\u2588\u2588\u2588\u2588\u258d     | 18/41 [00:00<00:00, 23.19it/s]"
          ]
        },
        {
          "output_type": "stream",
          "name": "stderr",
          "text": [
            "\rFold 1 Epoch 10:  51%|\u2588\u2588\u2588\u2588\u2588     | 21/41 [00:00<00:00, 23.35it/s]"
          ]
        },
        {
          "output_type": "stream",
          "name": "stderr",
          "text": [
            "\rFold 1 Epoch 10:  59%|\u2588\u2588\u2588\u2588\u2588\u258a    | 24/41 [00:01<00:00, 23.21it/s]"
          ]
        },
        {
          "output_type": "stream",
          "name": "stdout",
          "text": [
            "Batch 20, elapsed: 0.9s\n"
          ]
        },
        {
          "output_type": "stream",
          "name": "stderr",
          "text": [
            "\rFold 1 Epoch 10:  66%|\u2588\u2588\u2588\u2588\u2588\u2588\u258c   | 27/41 [00:01<00:00, 23.19it/s]"
          ]
        },
        {
          "output_type": "stream",
          "name": "stderr",
          "text": [
            "\rFold 1 Epoch 10:  73%|\u2588\u2588\u2588\u2588\u2588\u2588\u2588\u258e  | 30/41 [00:01<00:00, 23.48it/s]"
          ]
        },
        {
          "output_type": "stream",
          "name": "stderr",
          "text": [
            "\rFold 1 Epoch 10:  80%|\u2588\u2588\u2588\u2588\u2588\u2588\u2588\u2588  | 33/41 [00:01<00:00, 23.30it/s]"
          ]
        },
        {
          "output_type": "stream",
          "name": "stdout",
          "text": [
            "Batch 30, elapsed: 1.3s\n"
          ]
        },
        {
          "output_type": "stream",
          "name": "stderr",
          "text": [
            "\rFold 1 Epoch 10:  88%|\u2588\u2588\u2588\u2588\u2588\u2588\u2588\u2588\u258a | 36/41 [00:01<00:00, 23.30it/s]"
          ]
        },
        {
          "output_type": "stream",
          "name": "stderr",
          "text": [
            "\rFold 1 Epoch 10:  95%|\u2588\u2588\u2588\u2588\u2588\u2588\u2588\u2588\u2588\u258c| 39/41 [00:01<00:00, 23.25it/s]"
          ]
        },
        {
          "output_type": "stream",
          "name": "stderr",
          "text": [
            "\rFold 1 Epoch 10: 100%|\u2588\u2588\u2588\u2588\u2588\u2588\u2588\u2588\u2588\u2588| 41/41 [00:01<00:00, 23.43it/s]"
          ]
        },
        {
          "output_type": "stream",
          "name": "stderr",
          "text": [
            "\n"
          ]
        },
        {
          "output_type": "stream",
          "name": "stdout",
          "text": [
            "Batch 40, elapsed: 1.8s\nFold 1 Epoch 10 train time: 1.8s\nFold 1 Epoch 10: Train 0.7055, Val 0.6758, val time: 0.2s\n"
          ]
        },
        {
          "output_type": "stream",
          "name": "stdout",
          "text": [
            "New best at epoch 10\n"
          ]
        },
        {
          "output_type": "stream",
          "name": "stderr",
          "text": [
            "\rFold 1 Epoch 11:   0%|          | 0/41 [00:00<?, ?it/s]"
          ]
        },
        {
          "output_type": "stream",
          "name": "stderr",
          "text": [
            "\rFold 1 Epoch 11:   7%|\u258b         | 3/41 [00:00<00:01, 22.34it/s]"
          ]
        },
        {
          "output_type": "stream",
          "name": "stdout",
          "text": [
            "Batch 0, elapsed: 0.0s\n"
          ]
        },
        {
          "output_type": "stream",
          "name": "stderr",
          "text": [
            "\rFold 1 Epoch 11:  15%|\u2588\u258d        | 6/41 [00:00<00:01, 22.49it/s]"
          ]
        },
        {
          "output_type": "stream",
          "name": "stderr",
          "text": [
            "\rFold 1 Epoch 11:  22%|\u2588\u2588\u258f       | 9/41 [00:00<00:01, 23.06it/s]"
          ]
        },
        {
          "output_type": "stream",
          "name": "stderr",
          "text": [
            "\rFold 1 Epoch 11:  29%|\u2588\u2588\u2589       | 12/41 [00:00<00:01, 23.26it/s]"
          ]
        },
        {
          "output_type": "stream",
          "name": "stderr",
          "text": [
            "\rFold 1 Epoch 11:  37%|\u2588\u2588\u2588\u258b      | 15/41 [00:00<00:01, 23.24it/s]"
          ]
        },
        {
          "output_type": "stream",
          "name": "stdout",
          "text": [
            "Batch 10, elapsed: 0.5s\n"
          ]
        },
        {
          "output_type": "stream",
          "name": "stderr",
          "text": [
            "\rFold 1 Epoch 11:  44%|\u2588\u2588\u2588\u2588\u258d     | 18/41 [00:00<00:00, 23.20it/s]"
          ]
        },
        {
          "output_type": "stream",
          "name": "stderr",
          "text": [
            "\rFold 1 Epoch 11:  51%|\u2588\u2588\u2588\u2588\u2588     | 21/41 [00:00<00:00, 23.31it/s]"
          ]
        },
        {
          "output_type": "stream",
          "name": "stderr",
          "text": [
            "\rFold 1 Epoch 11:  59%|\u2588\u2588\u2588\u2588\u2588\u258a    | 24/41 [00:01<00:00, 23.17it/s]"
          ]
        },
        {
          "output_type": "stream",
          "name": "stdout",
          "text": [
            "Batch 20, elapsed: 0.9s\n"
          ]
        },
        {
          "output_type": "stream",
          "name": "stderr",
          "text": [
            "\rFold 1 Epoch 11:  66%|\u2588\u2588\u2588\u2588\u2588\u2588\u258c   | 27/41 [00:01<00:00, 23.29it/s]"
          ]
        },
        {
          "output_type": "stream",
          "name": "stderr",
          "text": [
            "\rFold 1 Epoch 11:  73%|\u2588\u2588\u2588\u2588\u2588\u2588\u2588\u258e  | 30/41 [00:01<00:00, 23.25it/s]"
          ]
        },
        {
          "output_type": "stream",
          "name": "stderr",
          "text": [
            "\rFold 1 Epoch 11:  80%|\u2588\u2588\u2588\u2588\u2588\u2588\u2588\u2588  | 33/41 [00:01<00:00, 23.44it/s]"
          ]
        },
        {
          "output_type": "stream",
          "name": "stdout",
          "text": [
            "Batch 30, elapsed: 1.3s\n"
          ]
        },
        {
          "output_type": "stream",
          "name": "stderr",
          "text": [
            "\rFold 1 Epoch 11:  88%|\u2588\u2588\u2588\u2588\u2588\u2588\u2588\u2588\u258a | 36/41 [00:01<00:00, 23.59it/s]"
          ]
        },
        {
          "output_type": "stream",
          "name": "stderr",
          "text": [
            "\rFold 1 Epoch 11:  95%|\u2588\u2588\u2588\u2588\u2588\u2588\u2588\u2588\u2588\u258c| 39/41 [00:01<00:00, 23.40it/s]"
          ]
        },
        {
          "output_type": "stream",
          "name": "stderr",
          "text": [
            "\rFold 1 Epoch 11: 100%|\u2588\u2588\u2588\u2588\u2588\u2588\u2588\u2588\u2588\u2588| 41/41 [00:01<00:00, 23.41it/s]"
          ]
        },
        {
          "output_type": "stream",
          "name": "stderr",
          "text": [
            "\n"
          ]
        },
        {
          "output_type": "stream",
          "name": "stdout",
          "text": [
            "Batch 40, elapsed: 1.8s\nFold 1 Epoch 11 train time: 1.8s\nFold 1 Epoch 11: Train 0.7046, Val 0.6787, val time: 0.2s\n"
          ]
        },
        {
          "output_type": "stream",
          "name": "stderr",
          "text": [
            "\rFold 1 Epoch 12:   0%|          | 0/41 [00:00<?, ?it/s]"
          ]
        },
        {
          "output_type": "stream",
          "name": "stderr",
          "text": [
            "\rFold 1 Epoch 12:   7%|\u258b         | 3/41 [00:00<00:01, 24.03it/s]"
          ]
        },
        {
          "output_type": "stream",
          "name": "stdout",
          "text": [
            "Batch 0, elapsed: 0.0s\n"
          ]
        },
        {
          "output_type": "stream",
          "name": "stderr",
          "text": [
            "\rFold 1 Epoch 12:  15%|\u2588\u258d        | 6/41 [00:00<00:01, 23.39it/s]"
          ]
        },
        {
          "output_type": "stream",
          "name": "stderr",
          "text": [
            "\rFold 1 Epoch 12:  22%|\u2588\u2588\u258f       | 9/41 [00:00<00:01, 23.26it/s]"
          ]
        },
        {
          "output_type": "stream",
          "name": "stderr",
          "text": [
            "\rFold 1 Epoch 12:  29%|\u2588\u2588\u2589       | 12/41 [00:00<00:01, 23.23it/s]"
          ]
        },
        {
          "output_type": "stream",
          "name": "stderr",
          "text": [
            "\rFold 1 Epoch 12:  37%|\u2588\u2588\u2588\u258b      | 15/41 [00:00<00:01, 23.64it/s]"
          ]
        },
        {
          "output_type": "stream",
          "name": "stdout",
          "text": [
            "Batch 10, elapsed: 0.5s\n"
          ]
        },
        {
          "output_type": "stream",
          "name": "stderr",
          "text": [
            "\rFold 1 Epoch 12:  44%|\u2588\u2588\u2588\u2588\u258d     | 18/41 [00:00<00:00, 23.53it/s]"
          ]
        },
        {
          "output_type": "stream",
          "name": "stderr",
          "text": [
            "\rFold 1 Epoch 12:  51%|\u2588\u2588\u2588\u2588\u2588     | 21/41 [00:00<00:00, 23.44it/s]"
          ]
        },
        {
          "output_type": "stream",
          "name": "stderr",
          "text": [
            "\rFold 1 Epoch 12:  59%|\u2588\u2588\u2588\u2588\u2588\u258a    | 24/41 [00:01<00:00, 23.35it/s]"
          ]
        },
        {
          "output_type": "stream",
          "name": "stdout",
          "text": [
            "Batch 20, elapsed: 0.9s\n"
          ]
        },
        {
          "output_type": "stream",
          "name": "stderr",
          "text": [
            "\rFold 1 Epoch 12:  66%|\u2588\u2588\u2588\u2588\u2588\u2588\u258c   | 27/41 [00:01<00:00, 23.36it/s]"
          ]
        },
        {
          "output_type": "stream",
          "name": "stderr",
          "text": [
            "\rFold 1 Epoch 12:  73%|\u2588\u2588\u2588\u2588\u2588\u2588\u2588\u258e  | 30/41 [00:01<00:00, 23.44it/s]"
          ]
        },
        {
          "output_type": "stream",
          "name": "stderr",
          "text": [
            "\rFold 1 Epoch 12:  80%|\u2588\u2588\u2588\u2588\u2588\u2588\u2588\u2588  | 33/41 [00:01<00:00, 23.32it/s]"
          ]
        },
        {
          "output_type": "stream",
          "name": "stdout",
          "text": [
            "Batch 30, elapsed: 1.3s\n"
          ]
        },
        {
          "output_type": "stream",
          "name": "stderr",
          "text": [
            "\rFold 1 Epoch 12:  88%|\u2588\u2588\u2588\u2588\u2588\u2588\u2588\u2588\u258a | 36/41 [00:01<00:00, 23.51it/s]"
          ]
        },
        {
          "output_type": "stream",
          "name": "stderr",
          "text": [
            "\rFold 1 Epoch 12:  95%|\u2588\u2588\u2588\u2588\u2588\u2588\u2588\u2588\u2588\u258c| 39/41 [00:01<00:00, 23.34it/s]"
          ]
        },
        {
          "output_type": "stream",
          "name": "stderr",
          "text": [
            "\rFold 1 Epoch 12: 100%|\u2588\u2588\u2588\u2588\u2588\u2588\u2588\u2588\u2588\u2588| 41/41 [00:01<00:00, 23.52it/s]"
          ]
        },
        {
          "output_type": "stream",
          "name": "stderr",
          "text": [
            "\n"
          ]
        },
        {
          "output_type": "stream",
          "name": "stdout",
          "text": [
            "Batch 40, elapsed: 1.7s\nFold 1 Epoch 12 train time: 1.7s\nFold 1 Epoch 12: Train 0.7063, Val 0.6809, val time: 0.2s\n"
          ]
        },
        {
          "output_type": "stream",
          "name": "stderr",
          "text": [
            "\rFold 1 Epoch 13:   0%|          | 0/41 [00:00<?, ?it/s]"
          ]
        },
        {
          "output_type": "stream",
          "name": "stderr",
          "text": [
            "\rFold 1 Epoch 13:   7%|\u258b         | 3/41 [00:00<00:01, 23.55it/s]"
          ]
        },
        {
          "output_type": "stream",
          "name": "stdout",
          "text": [
            "Batch 0, elapsed: 0.0s\n"
          ]
        },
        {
          "output_type": "stream",
          "name": "stderr",
          "text": [
            "\rFold 1 Epoch 13:  15%|\u2588\u258d        | 6/41 [00:00<00:01, 23.70it/s]"
          ]
        },
        {
          "output_type": "stream",
          "name": "stderr",
          "text": [
            "\rFold 1 Epoch 13:  22%|\u2588\u2588\u258f       | 9/41 [00:00<00:01, 23.43it/s]"
          ]
        },
        {
          "output_type": "stream",
          "name": "stderr",
          "text": [
            "\rFold 1 Epoch 13:  29%|\u2588\u2588\u2589       | 12/41 [00:00<00:01, 23.01it/s]"
          ]
        },
        {
          "output_type": "stream",
          "name": "stderr",
          "text": [
            "\rFold 1 Epoch 13:  37%|\u2588\u2588\u2588\u258b      | 15/41 [00:00<00:01, 22.98it/s]"
          ]
        },
        {
          "output_type": "stream",
          "name": "stdout",
          "text": [
            "Batch 10, elapsed: 0.5s\n"
          ]
        },
        {
          "output_type": "stream",
          "name": "stderr",
          "text": [
            "\rFold 1 Epoch 13:  44%|\u2588\u2588\u2588\u2588\u258d     | 18/41 [00:00<00:00, 23.21it/s]"
          ]
        },
        {
          "output_type": "stream",
          "name": "stderr",
          "text": [
            "\rFold 1 Epoch 13:  51%|\u2588\u2588\u2588\u2588\u2588     | 21/41 [00:00<00:00, 23.02it/s]"
          ]
        },
        {
          "output_type": "stream",
          "name": "stderr",
          "text": [
            "\rFold 1 Epoch 13:  59%|\u2588\u2588\u2588\u2588\u2588\u258a    | 24/41 [00:01<00:00, 23.23it/s]"
          ]
        },
        {
          "output_type": "stream",
          "name": "stdout",
          "text": [
            "Batch 20, elapsed: 0.9s\n"
          ]
        },
        {
          "output_type": "stream",
          "name": "stderr",
          "text": [
            "\rFold 1 Epoch 13:  66%|\u2588\u2588\u2588\u2588\u2588\u2588\u258c   | 27/41 [00:01<00:00, 23.37it/s]"
          ]
        },
        {
          "output_type": "stream",
          "name": "stderr",
          "text": [
            "\rFold 1 Epoch 13:  73%|\u2588\u2588\u2588\u2588\u2588\u2588\u2588\u258e  | 30/41 [00:01<00:00, 23.33it/s]"
          ]
        },
        {
          "output_type": "stream",
          "name": "stderr",
          "text": [
            "\rFold 1 Epoch 13:  80%|\u2588\u2588\u2588\u2588\u2588\u2588\u2588\u2588  | 33/41 [00:01<00:00, 23.35it/s]"
          ]
        },
        {
          "output_type": "stream",
          "name": "stdout",
          "text": [
            "Batch 30, elapsed: 1.3s\n"
          ]
        },
        {
          "output_type": "stream",
          "name": "stderr",
          "text": [
            "\rFold 1 Epoch 13:  88%|\u2588\u2588\u2588\u2588\u2588\u2588\u2588\u2588\u258a | 36/41 [00:01<00:00, 23.60it/s]"
          ]
        },
        {
          "output_type": "stream",
          "name": "stderr",
          "text": [
            "\rFold 1 Epoch 13:  95%|\u2588\u2588\u2588\u2588\u2588\u2588\u2588\u2588\u2588\u258c| 39/41 [00:01<00:00, 23.49it/s]"
          ]
        },
        {
          "output_type": "stream",
          "name": "stderr",
          "text": [
            "\rFold 1 Epoch 13: 100%|\u2588\u2588\u2588\u2588\u2588\u2588\u2588\u2588\u2588\u2588| 41/41 [00:01<00:00, 23.49it/s]"
          ]
        },
        {
          "output_type": "stream",
          "name": "stderr",
          "text": [
            "\n"
          ]
        },
        {
          "output_type": "stream",
          "name": "stdout",
          "text": [
            "Batch 40, elapsed: 1.7s\nFold 1 Epoch 13 train time: 1.7s\nFold 1 Epoch 13: Train 0.7010, Val 0.6797, val time: 0.2s\n"
          ]
        },
        {
          "output_type": "stream",
          "name": "stderr",
          "text": [
            "\rFold 1 Epoch 14:   0%|          | 0/41 [00:00<?, ?it/s]"
          ]
        },
        {
          "output_type": "stream",
          "name": "stderr",
          "text": [
            "\rFold 1 Epoch 14:   7%|\u258b         | 3/41 [00:00<00:01, 23.34it/s]"
          ]
        },
        {
          "output_type": "stream",
          "name": "stdout",
          "text": [
            "Batch 0, elapsed: 0.0s\n"
          ]
        },
        {
          "output_type": "stream",
          "name": "stderr",
          "text": [
            "\rFold 1 Epoch 14:  15%|\u2588\u258d        | 6/41 [00:00<00:01, 23.36it/s]"
          ]
        },
        {
          "output_type": "stream",
          "name": "stderr",
          "text": [
            "\rFold 1 Epoch 14:  22%|\u2588\u2588\u258f       | 9/41 [00:00<00:01, 23.44it/s]"
          ]
        },
        {
          "output_type": "stream",
          "name": "stderr",
          "text": [
            "\rFold 1 Epoch 14:  29%|\u2588\u2588\u2589       | 12/41 [00:00<00:01, 23.49it/s]"
          ]
        },
        {
          "output_type": "stream",
          "name": "stderr",
          "text": [
            "\rFold 1 Epoch 14:  37%|\u2588\u2588\u2588\u258b      | 15/41 [00:00<00:01, 23.19it/s]"
          ]
        },
        {
          "output_type": "stream",
          "name": "stdout",
          "text": [
            "Batch 10, elapsed: 0.5s\n"
          ]
        },
        {
          "output_type": "stream",
          "name": "stderr",
          "text": [
            "\rFold 1 Epoch 14:  44%|\u2588\u2588\u2588\u2588\u258d     | 18/41 [00:00<00:00, 23.55it/s]"
          ]
        },
        {
          "output_type": "stream",
          "name": "stderr",
          "text": [
            "\rFold 1 Epoch 14:  51%|\u2588\u2588\u2588\u2588\u2588     | 21/41 [00:00<00:00, 23.71it/s]"
          ]
        },
        {
          "output_type": "stream",
          "name": "stderr",
          "text": [
            "\rFold 1 Epoch 14:  59%|\u2588\u2588\u2588\u2588\u2588\u258a    | 24/41 [00:01<00:00, 23.48it/s]"
          ]
        },
        {
          "output_type": "stream",
          "name": "stdout",
          "text": [
            "Batch 20, elapsed: 0.9s\n"
          ]
        },
        {
          "output_type": "stream",
          "name": "stderr",
          "text": [
            "\rFold 1 Epoch 14:  66%|\u2588\u2588\u2588\u2588\u2588\u2588\u258c   | 27/41 [00:01<00:00, 23.51it/s]"
          ]
        },
        {
          "output_type": "stream",
          "name": "stderr",
          "text": [
            "\rFold 1 Epoch 14:  73%|\u2588\u2588\u2588\u2588\u2588\u2588\u2588\u258e  | 30/41 [00:01<00:00, 23.75it/s]"
          ]
        },
        {
          "output_type": "stream",
          "name": "stderr",
          "text": [
            "\rFold 1 Epoch 14:  80%|\u2588\u2588\u2588\u2588\u2588\u2588\u2588\u2588  | 33/41 [00:01<00:00, 23.56it/s]"
          ]
        },
        {
          "output_type": "stream",
          "name": "stdout",
          "text": [
            "Batch 30, elapsed: 1.3s\n"
          ]
        },
        {
          "output_type": "stream",
          "name": "stderr",
          "text": [
            "\rFold 1 Epoch 14:  88%|\u2588\u2588\u2588\u2588\u2588\u2588\u2588\u2588\u258a | 36/41 [00:01<00:00, 23.39it/s]"
          ]
        },
        {
          "output_type": "stream",
          "name": "stderr",
          "text": [
            "\rFold 1 Epoch 14:  95%|\u2588\u2588\u2588\u2588\u2588\u2588\u2588\u2588\u2588\u258c| 39/41 [00:01<00:00, 23.35it/s]"
          ]
        },
        {
          "output_type": "stream",
          "name": "stderr",
          "text": [
            "\rFold 1 Epoch 14: 100%|\u2588\u2588\u2588\u2588\u2588\u2588\u2588\u2588\u2588\u2588| 41/41 [00:01<00:00, 23.59it/s]"
          ]
        },
        {
          "output_type": "stream",
          "name": "stderr",
          "text": [
            "\n"
          ]
        },
        {
          "output_type": "stream",
          "name": "stdout",
          "text": [
            "Batch 40, elapsed: 1.7s\nFold 1 Epoch 14 train time: 1.7s\nFold 1 Epoch 14: Train 0.7081, Val 0.6798, val time: 0.2s\n"
          ]
        },
        {
          "output_type": "stream",
          "name": "stderr",
          "text": [
            "\rFold 1 Epoch 15:   0%|          | 0/41 [00:00<?, ?it/s]"
          ]
        },
        {
          "output_type": "stream",
          "name": "stderr",
          "text": [
            "\rFold 1 Epoch 15:   7%|\u258b         | 3/41 [00:00<00:01, 23.81it/s]"
          ]
        },
        {
          "output_type": "stream",
          "name": "stdout",
          "text": [
            "Batch 0, elapsed: 0.0s\n"
          ]
        },
        {
          "output_type": "stream",
          "name": "stderr",
          "text": [
            "\rFold 1 Epoch 15:  15%|\u2588\u258d        | 6/41 [00:00<00:01, 23.70it/s]"
          ]
        },
        {
          "output_type": "stream",
          "name": "stderr",
          "text": [
            "\rFold 1 Epoch 15:  22%|\u2588\u2588\u258f       | 9/41 [00:00<00:01, 23.36it/s]"
          ]
        },
        {
          "output_type": "stream",
          "name": "stderr",
          "text": [
            "\rFold 1 Epoch 15:  29%|\u2588\u2588\u2589       | 12/41 [00:00<00:01, 23.27it/s]"
          ]
        },
        {
          "output_type": "stream",
          "name": "stderr",
          "text": [
            "\rFold 1 Epoch 15:  37%|\u2588\u2588\u2588\u258b      | 15/41 [00:00<00:01, 23.48it/s]"
          ]
        },
        {
          "output_type": "stream",
          "name": "stdout",
          "text": [
            "Batch 10, elapsed: 0.5s\n"
          ]
        },
        {
          "output_type": "stream",
          "name": "stderr",
          "text": [
            "\rFold 1 Epoch 15:  44%|\u2588\u2588\u2588\u2588\u258d     | 18/41 [00:00<00:00, 23.53it/s]"
          ]
        },
        {
          "output_type": "stream",
          "name": "stderr",
          "text": [
            "\rFold 1 Epoch 15:  51%|\u2588\u2588\u2588\u2588\u2588     | 21/41 [00:00<00:00, 23.48it/s]"
          ]
        },
        {
          "output_type": "stream",
          "name": "stderr",
          "text": [
            "\rFold 1 Epoch 15:  59%|\u2588\u2588\u2588\u2588\u2588\u258a    | 24/41 [00:01<00:00, 23.61it/s]"
          ]
        },
        {
          "output_type": "stream",
          "name": "stdout",
          "text": [
            "Batch 20, elapsed: 0.9s\n"
          ]
        },
        {
          "output_type": "stream",
          "name": "stderr",
          "text": [
            "\rFold 1 Epoch 15:  66%|\u2588\u2588\u2588\u2588\u2588\u2588\u258c   | 27/41 [00:01<00:00, 23.37it/s]"
          ]
        },
        {
          "output_type": "stream",
          "name": "stderr",
          "text": [
            "\rFold 1 Epoch 15:  73%|\u2588\u2588\u2588\u2588\u2588\u2588\u2588\u258e  | 30/41 [00:01<00:00, 23.44it/s]"
          ]
        },
        {
          "output_type": "stream",
          "name": "stderr",
          "text": [
            "\rFold 1 Epoch 15:  80%|\u2588\u2588\u2588\u2588\u2588\u2588\u2588\u2588  | 33/41 [00:01<00:00, 23.40it/s]"
          ]
        },
        {
          "output_type": "stream",
          "name": "stdout",
          "text": [
            "Batch 30, elapsed: 1.3s\n"
          ]
        },
        {
          "output_type": "stream",
          "name": "stderr",
          "text": [
            "\rFold 1 Epoch 15:  88%|\u2588\u2588\u2588\u2588\u2588\u2588\u2588\u2588\u258a | 36/41 [00:01<00:00, 23.14it/s]"
          ]
        },
        {
          "output_type": "stream",
          "name": "stderr",
          "text": [
            "\rFold 1 Epoch 15:  95%|\u2588\u2588\u2588\u2588\u2588\u2588\u2588\u2588\u2588\u258c| 39/41 [00:01<00:00, 23.09it/s]"
          ]
        },
        {
          "output_type": "stream",
          "name": "stderr",
          "text": [
            "\rFold 1 Epoch 15: 100%|\u2588\u2588\u2588\u2588\u2588\u2588\u2588\u2588\u2588\u2588| 41/41 [00:01<00:00, 23.46it/s]"
          ]
        },
        {
          "output_type": "stream",
          "name": "stderr",
          "text": [
            "\n"
          ]
        },
        {
          "output_type": "stream",
          "name": "stdout",
          "text": [
            "Batch 40, elapsed: 1.7s\nFold 1 Epoch 15 train time: 1.7s\nFold 1 Epoch 15: Train 0.7000, Val 0.6797, val time: 0.2s\nEarly stop at epoch 15\nFold 1 best val loss: 0.6758\n"
          ]
        },
        {
          "output_type": "stream",
          "name": "stdout",
          "text": [
            "Fold 2 pos_weight: [3. 3. 3. 3. 3. 3. 3.]\nFold 2 GPU memory before model: 0.1GB\n"
          ]
        },
        {
          "output_type": "stream",
          "name": "stderr",
          "text": [
            "\rFold 2 Epoch 1:   0%|          | 0/41 [00:00<?, ?it/s]"
          ]
        },
        {
          "output_type": "stream",
          "name": "stderr",
          "text": [
            "\rFold 2 Epoch 1:   7%|\u258b         | 3/41 [00:00<00:01, 25.40it/s]"
          ]
        },
        {
          "output_type": "stream",
          "name": "stderr",
          "text": [
            "\rFold 2 Epoch 1:  15%|\u2588\u258d        | 6/41 [00:00<00:01, 25.93it/s]"
          ]
        },
        {
          "output_type": "stream",
          "name": "stdout",
          "text": [
            "Batch 0, elapsed: 0.0s\n"
          ]
        },
        {
          "output_type": "stream",
          "name": "stderr",
          "text": [
            "\rFold 2 Epoch 1:  22%|\u2588\u2588\u258f       | 9/41 [00:00<00:01, 25.23it/s]"
          ]
        },
        {
          "output_type": "stream",
          "name": "stderr",
          "text": [
            "\rFold 2 Epoch 1:  29%|\u2588\u2588\u2589       | 12/41 [00:00<00:01, 24.68it/s]"
          ]
        },
        {
          "output_type": "stream",
          "name": "stderr",
          "text": [
            "\rFold 2 Epoch 1:  37%|\u2588\u2588\u2588\u258b      | 15/41 [00:00<00:01, 24.31it/s]"
          ]
        },
        {
          "output_type": "stream",
          "name": "stdout",
          "text": [
            "Batch 10, elapsed: 0.4s\n"
          ]
        },
        {
          "output_type": "stream",
          "name": "stderr",
          "text": [
            "\rFold 2 Epoch 1:  44%|\u2588\u2588\u2588\u2588\u258d     | 18/41 [00:00<00:00, 23.97it/s]"
          ]
        },
        {
          "output_type": "stream",
          "name": "stderr",
          "text": [
            "\rFold 2 Epoch 1:  51%|\u2588\u2588\u2588\u2588\u2588     | 21/41 [00:00<00:00, 23.84it/s]"
          ]
        },
        {
          "output_type": "stream",
          "name": "stderr",
          "text": [
            "\rFold 2 Epoch 1:  59%|\u2588\u2588\u2588\u2588\u2588\u258a    | 24/41 [00:00<00:00, 23.75it/s]"
          ]
        },
        {
          "output_type": "stream",
          "name": "stdout",
          "text": [
            "Batch 20, elapsed: 0.9s\n"
          ]
        },
        {
          "output_type": "stream",
          "name": "stderr",
          "text": [
            "\rFold 2 Epoch 1:  66%|\u2588\u2588\u2588\u2588\u2588\u2588\u258c   | 27/41 [00:01<00:00, 23.76it/s]"
          ]
        },
        {
          "output_type": "stream",
          "name": "stderr",
          "text": [
            "\rFold 2 Epoch 1:  73%|\u2588\u2588\u2588\u2588\u2588\u2588\u2588\u258e  | 30/41 [00:01<00:00, 23.92it/s]"
          ]
        },
        {
          "output_type": "stream",
          "name": "stderr",
          "text": [
            "\rFold 2 Epoch 1:  80%|\u2588\u2588\u2588\u2588\u2588\u2588\u2588\u2588  | 33/41 [00:01<00:00, 23.94it/s]"
          ]
        },
        {
          "output_type": "stream",
          "name": "stdout",
          "text": [
            "Batch 30, elapsed: 1.3s\n"
          ]
        },
        {
          "output_type": "stream",
          "name": "stderr",
          "text": [
            "\rFold 2 Epoch 1:  88%|\u2588\u2588\u2588\u2588\u2588\u2588\u2588\u2588\u258a | 36/41 [00:01<00:00, 23.78it/s]"
          ]
        },
        {
          "output_type": "stream",
          "name": "stderr",
          "text": [
            "\rFold 2 Epoch 1:  95%|\u2588\u2588\u2588\u2588\u2588\u2588\u2588\u2588\u2588\u258c| 39/41 [00:01<00:00, 23.61it/s]"
          ]
        },
        {
          "output_type": "stream",
          "name": "stderr",
          "text": [
            "\rFold 2 Epoch 1: 100%|\u2588\u2588\u2588\u2588\u2588\u2588\u2588\u2588\u2588\u2588| 41/41 [00:01<00:00, 24.12it/s]"
          ]
        },
        {
          "output_type": "stream",
          "name": "stderr",
          "text": [
            "\n"
          ]
        },
        {
          "output_type": "stream",
          "name": "stdout",
          "text": [
            "Batch 40, elapsed: 1.7s\nFold 2 Epoch 1 train time: 1.7s\nFold 2 Epoch 1: Train 0.8732, Val 0.8378, val time: 0.2s\n"
          ]
        },
        {
          "output_type": "stream",
          "name": "stdout",
          "text": [
            "New best at epoch 1\n"
          ]
        },
        {
          "output_type": "stream",
          "name": "stderr",
          "text": [
            "\rFold 2 Epoch 2:   0%|          | 0/41 [00:00<?, ?it/s]"
          ]
        },
        {
          "output_type": "stream",
          "name": "stderr",
          "text": [
            "\rFold 2 Epoch 2:   7%|\u258b         | 3/41 [00:00<00:01, 23.91it/s]"
          ]
        },
        {
          "output_type": "stream",
          "name": "stdout",
          "text": [
            "Batch 0, elapsed: 0.0s\n"
          ]
        },
        {
          "output_type": "stream",
          "name": "stderr",
          "text": [
            "\rFold 2 Epoch 2:  15%|\u2588\u258d        | 6/41 [00:00<00:01, 23.29it/s]"
          ]
        },
        {
          "output_type": "stream",
          "name": "stderr",
          "text": [
            "\rFold 2 Epoch 2:  22%|\u2588\u2588\u258f       | 9/41 [00:00<00:01, 23.27it/s]"
          ]
        },
        {
          "output_type": "stream",
          "name": "stderr",
          "text": [
            "\rFold 2 Epoch 2:  29%|\u2588\u2588\u2589       | 12/41 [00:00<00:01, 23.19it/s]"
          ]
        },
        {
          "output_type": "stream",
          "name": "stderr",
          "text": [
            "\rFold 2 Epoch 2:  37%|\u2588\u2588\u2588\u258b      | 15/41 [00:00<00:01, 23.46it/s]"
          ]
        },
        {
          "output_type": "stream",
          "name": "stdout",
          "text": [
            "Batch 10, elapsed: 0.5s\n"
          ]
        },
        {
          "output_type": "stream",
          "name": "stderr",
          "text": [
            "\rFold 2 Epoch 2:  44%|\u2588\u2588\u2588\u2588\u258d     | 18/41 [00:00<00:00, 23.13it/s]"
          ]
        },
        {
          "output_type": "stream",
          "name": "stderr",
          "text": [
            "\rFold 2 Epoch 2:  51%|\u2588\u2588\u2588\u2588\u2588     | 21/41 [00:00<00:00, 22.88it/s]"
          ]
        },
        {
          "output_type": "stream",
          "name": "stderr",
          "text": [
            "\rFold 2 Epoch 2:  59%|\u2588\u2588\u2588\u2588\u2588\u258a    | 24/41 [00:01<00:00, 22.85it/s]"
          ]
        },
        {
          "output_type": "stream",
          "name": "stdout",
          "text": [
            "Batch 20, elapsed: 0.9s\n"
          ]
        },
        {
          "output_type": "stream",
          "name": "stderr",
          "text": [
            "\rFold 2 Epoch 2:  66%|\u2588\u2588\u2588\u2588\u2588\u2588\u258c   | 27/41 [00:01<00:00, 22.87it/s]"
          ]
        },
        {
          "output_type": "stream",
          "name": "stderr",
          "text": [
            "\rFold 2 Epoch 2:  73%|\u2588\u2588\u2588\u2588\u2588\u2588\u2588\u258e  | 30/41 [00:01<00:00, 22.83it/s]"
          ]
        },
        {
          "output_type": "stream",
          "name": "stderr",
          "text": [
            "\rFold 2 Epoch 2:  80%|\u2588\u2588\u2588\u2588\u2588\u2588\u2588\u2588  | 33/41 [00:01<00:00, 23.14it/s]"
          ]
        },
        {
          "output_type": "stream",
          "name": "stdout",
          "text": [
            "Batch 30, elapsed: 1.3s\n"
          ]
        },
        {
          "output_type": "stream",
          "name": "stderr",
          "text": [
            "\rFold 2 Epoch 2:  88%|\u2588\u2588\u2588\u2588\u2588\u2588\u2588\u2588\u258a | 36/41 [00:01<00:00, 23.10it/s]"
          ]
        },
        {
          "output_type": "stream",
          "name": "stderr",
          "text": [
            "\rFold 2 Epoch 2:  95%|\u2588\u2588\u2588\u2588\u2588\u2588\u2588\u2588\u2588\u258c| 39/41 [00:01<00:00, 23.39it/s]"
          ]
        },
        {
          "output_type": "stream",
          "name": "stderr",
          "text": [
            "\rFold 2 Epoch 2: 100%|\u2588\u2588\u2588\u2588\u2588\u2588\u2588\u2588\u2588\u2588| 41/41 [00:01<00:00, 23.25it/s]"
          ]
        },
        {
          "output_type": "stream",
          "name": "stderr",
          "text": [
            "\n"
          ]
        },
        {
          "output_type": "stream",
          "name": "stdout",
          "text": [
            "Batch 40, elapsed: 1.8s\nFold 2 Epoch 2 train time: 1.8s\nFold 2 Epoch 2: Train 0.7388, Val 0.7983, val time: 0.2s\n"
          ]
        },
        {
          "output_type": "stream",
          "name": "stdout",
          "text": [
            "New best at epoch 2\n"
          ]
        },
        {
          "output_type": "stream",
          "name": "stderr",
          "text": [
            "\rFold 2 Epoch 3:   0%|          | 0/41 [00:00<?, ?it/s]"
          ]
        },
        {
          "output_type": "stream",
          "name": "stderr",
          "text": [
            "\rFold 2 Epoch 3:   7%|\u258b         | 3/41 [00:00<00:01, 23.47it/s]"
          ]
        },
        {
          "output_type": "stream",
          "name": "stdout",
          "text": [
            "Batch 0, elapsed: 0.0s\n"
          ]
        },
        {
          "output_type": "stream",
          "name": "stderr",
          "text": [
            "\rFold 2 Epoch 3:  15%|\u2588\u258d        | 6/41 [00:00<00:01, 23.86it/s]"
          ]
        },
        {
          "output_type": "stream",
          "name": "stderr",
          "text": [
            "\rFold 2 Epoch 3:  22%|\u2588\u2588\u258f       | 9/41 [00:00<00:01, 23.55it/s]"
          ]
        },
        {
          "output_type": "stream",
          "name": "stderr",
          "text": [
            "\rFold 2 Epoch 3:  29%|\u2588\u2588\u2589       | 12/41 [00:00<00:01, 23.00it/s]"
          ]
        },
        {
          "output_type": "stream",
          "name": "stderr",
          "text": [
            "\rFold 2 Epoch 3:  37%|\u2588\u2588\u2588\u258b      | 15/41 [00:00<00:01, 22.89it/s]"
          ]
        },
        {
          "output_type": "stream",
          "name": "stdout",
          "text": [
            "Batch 10, elapsed: 0.5s\n"
          ]
        },
        {
          "output_type": "stream",
          "name": "stderr",
          "text": [
            "\rFold 2 Epoch 3:  44%|\u2588\u2588\u2588\u2588\u258d     | 18/41 [00:00<00:01, 22.98it/s]"
          ]
        },
        {
          "output_type": "stream",
          "name": "stderr",
          "text": [
            "\rFold 2 Epoch 3:  51%|\u2588\u2588\u2588\u2588\u2588     | 21/41 [00:00<00:00, 23.07it/s]"
          ]
        },
        {
          "output_type": "stream",
          "name": "stderr",
          "text": [
            "\rFold 2 Epoch 3:  59%|\u2588\u2588\u2588\u2588\u2588\u258a    | 24/41 [00:01<00:00, 23.26it/s]"
          ]
        },
        {
          "output_type": "stream",
          "name": "stdout",
          "text": [
            "Batch 20, elapsed: 0.9s\n"
          ]
        },
        {
          "output_type": "stream",
          "name": "stderr",
          "text": [
            "\rFold 2 Epoch 3:  66%|\u2588\u2588\u2588\u2588\u2588\u2588\u258c   | 27/41 [00:01<00:00, 23.15it/s]"
          ]
        },
        {
          "output_type": "stream",
          "name": "stderr",
          "text": [
            "\rFold 2 Epoch 3:  73%|\u2588\u2588\u2588\u2588\u2588\u2588\u2588\u258e  | 30/41 [00:01<00:00, 23.12it/s]"
          ]
        },
        {
          "output_type": "stream",
          "name": "stderr",
          "text": [
            "\rFold 2 Epoch 3:  80%|\u2588\u2588\u2588\u2588\u2588\u2588\u2588\u2588  | 33/41 [00:01<00:00, 23.10it/s]"
          ]
        },
        {
          "output_type": "stream",
          "name": "stdout",
          "text": [
            "Batch 30, elapsed: 1.3s\n"
          ]
        },
        {
          "output_type": "stream",
          "name": "stderr",
          "text": [
            "\rFold 2 Epoch 3:  88%|\u2588\u2588\u2588\u2588\u2588\u2588\u2588\u2588\u258a | 36/41 [00:01<00:00, 22.91it/s]"
          ]
        },
        {
          "output_type": "stream",
          "name": "stderr",
          "text": [
            "\rFold 2 Epoch 3:  95%|\u2588\u2588\u2588\u2588\u2588\u2588\u2588\u2588\u2588\u258c| 39/41 [00:01<00:00, 23.00it/s]"
          ]
        },
        {
          "output_type": "stream",
          "name": "stderr",
          "text": [
            "\rFold 2 Epoch 3: 100%|\u2588\u2588\u2588\u2588\u2588\u2588\u2588\u2588\u2588\u2588| 41/41 [00:01<00:00, 23.25it/s]"
          ]
        },
        {
          "output_type": "stream",
          "name": "stderr",
          "text": [
            "\n"
          ]
        },
        {
          "output_type": "stream",
          "name": "stdout",
          "text": [
            "Batch 40, elapsed: 1.8s\nFold 2 Epoch 3 train time: 1.8s\nFold 2 Epoch 3: Train 0.7378, Val 0.7533, val time: 0.2s\n"
          ]
        },
        {
          "output_type": "stream",
          "name": "stdout",
          "text": [
            "New best at epoch 3\n"
          ]
        },
        {
          "output_type": "stream",
          "name": "stderr",
          "text": [
            "\rFold 2 Epoch 4:   0%|          | 0/41 [00:00<?, ?it/s]"
          ]
        },
        {
          "output_type": "stream",
          "name": "stderr",
          "text": [
            "\rFold 2 Epoch 4:   7%|\u258b         | 3/41 [00:00<00:01, 22.36it/s]"
          ]
        },
        {
          "output_type": "stream",
          "name": "stdout",
          "text": [
            "Batch 0, elapsed: 0.0s\n"
          ]
        },
        {
          "output_type": "stream",
          "name": "stderr",
          "text": [
            "\rFold 2 Epoch 4:  15%|\u2588\u258d        | 6/41 [00:00<00:01, 23.40it/s]"
          ]
        },
        {
          "output_type": "stream",
          "name": "stderr",
          "text": [
            "\rFold 2 Epoch 4:  22%|\u2588\u2588\u258f       | 9/41 [00:00<00:01, 22.82it/s]"
          ]
        },
        {
          "output_type": "stream",
          "name": "stderr",
          "text": [
            "\rFold 2 Epoch 4:  29%|\u2588\u2588\u2589       | 12/41 [00:00<00:01, 22.51it/s]"
          ]
        },
        {
          "output_type": "stream",
          "name": "stderr",
          "text": [
            "\rFold 2 Epoch 4:  37%|\u2588\u2588\u2588\u258b      | 15/41 [00:00<00:01, 22.74it/s]"
          ]
        },
        {
          "output_type": "stream",
          "name": "stdout",
          "text": [
            "Batch 10, elapsed: 0.5s\n"
          ]
        },
        {
          "output_type": "stream",
          "name": "stderr",
          "text": [
            "\rFold 2 Epoch 4:  44%|\u2588\u2588\u2588\u2588\u258d     | 18/41 [00:00<00:01, 22.57it/s]"
          ]
        },
        {
          "output_type": "stream",
          "name": "stderr",
          "text": [
            "\rFold 2 Epoch 4:  51%|\u2588\u2588\u2588\u2588\u2588     | 21/41 [00:00<00:00, 22.47it/s]"
          ]
        },
        {
          "output_type": "stream",
          "name": "stderr",
          "text": [
            "\rFold 2 Epoch 4:  59%|\u2588\u2588\u2588\u2588\u2588\u258a    | 24/41 [00:01<00:00, 22.40it/s]"
          ]
        },
        {
          "output_type": "stream",
          "name": "stdout",
          "text": [
            "Batch 20, elapsed: 0.9s\n"
          ]
        },
        {
          "output_type": "stream",
          "name": "stderr",
          "text": [
            "\rFold 2 Epoch 4:  66%|\u2588\u2588\u2588\u2588\u2588\u2588\u258c   | 27/41 [00:01<00:00, 22.68it/s]"
          ]
        },
        {
          "output_type": "stream",
          "name": "stderr",
          "text": [
            "\rFold 2 Epoch 4:  73%|\u2588\u2588\u2588\u2588\u2588\u2588\u2588\u258e  | 30/41 [00:01<00:00, 22.23it/s]"
          ]
        },
        {
          "output_type": "stream",
          "name": "stderr",
          "text": [
            "\rFold 2 Epoch 4:  80%|\u2588\u2588\u2588\u2588\u2588\u2588\u2588\u2588  | 33/41 [00:01<00:00, 22.40it/s]"
          ]
        },
        {
          "output_type": "stream",
          "name": "stdout",
          "text": [
            "Batch 30, elapsed: 1.4s\n"
          ]
        },
        {
          "output_type": "stream",
          "name": "stderr",
          "text": [
            "\rFold 2 Epoch 4:  88%|\u2588\u2588\u2588\u2588\u2588\u2588\u2588\u2588\u258a | 36/41 [00:01<00:00, 22.52it/s]"
          ]
        },
        {
          "output_type": "stream",
          "name": "stderr",
          "text": [
            "\rFold 2 Epoch 4:  95%|\u2588\u2588\u2588\u2588\u2588\u2588\u2588\u2588\u2588\u258c| 39/41 [00:01<00:00, 22.74it/s]"
          ]
        },
        {
          "output_type": "stream",
          "name": "stderr",
          "text": [
            "\rFold 2 Epoch 4: 100%|\u2588\u2588\u2588\u2588\u2588\u2588\u2588\u2588\u2588\u2588| 41/41 [00:01<00:00, 22.75it/s]"
          ]
        },
        {
          "output_type": "stream",
          "name": "stderr",
          "text": [
            "\n"
          ]
        },
        {
          "output_type": "stream",
          "name": "stdout",
          "text": [
            "Batch 40, elapsed: 1.8s\nFold 2 Epoch 4 train time: 1.8s\nFold 2 Epoch 4: Train 0.7270, Val 0.7458, val time: 0.2s\n"
          ]
        },
        {
          "output_type": "stream",
          "name": "stdout",
          "text": [
            "New best at epoch 4\n"
          ]
        },
        {
          "output_type": "stream",
          "name": "stderr",
          "text": [
            "\rFold 2 Epoch 5:   0%|          | 0/41 [00:00<?, ?it/s]"
          ]
        },
        {
          "output_type": "stream",
          "name": "stderr",
          "text": [
            "\rFold 2 Epoch 5:   7%|\u258b         | 3/41 [00:00<00:01, 23.53it/s]"
          ]
        },
        {
          "output_type": "stream",
          "name": "stdout",
          "text": [
            "Batch 0, elapsed: 0.0s\n"
          ]
        },
        {
          "output_type": "stream",
          "name": "stderr",
          "text": [
            "\rFold 2 Epoch 5:  15%|\u2588\u258d        | 6/41 [00:00<00:01, 22.78it/s]"
          ]
        },
        {
          "output_type": "stream",
          "name": "stderr",
          "text": [
            "\rFold 2 Epoch 5:  22%|\u2588\u2588\u258f       | 9/41 [00:00<00:01, 23.12it/s]"
          ]
        },
        {
          "output_type": "stream",
          "name": "stderr",
          "text": [
            "\rFold 2 Epoch 5:  29%|\u2588\u2588\u2589       | 12/41 [00:00<00:01, 22.99it/s]"
          ]
        },
        {
          "output_type": "stream",
          "name": "stderr",
          "text": [
            "\rFold 2 Epoch 5:  37%|\u2588\u2588\u2588\u258b      | 15/41 [00:00<00:01, 23.25it/s]"
          ]
        },
        {
          "output_type": "stream",
          "name": "stdout",
          "text": [
            "Batch 10, elapsed: 0.5s\n"
          ]
        },
        {
          "output_type": "stream",
          "name": "stderr",
          "text": [
            "\rFold 2 Epoch 5:  44%|\u2588\u2588\u2588\u2588\u258d     | 18/41 [00:00<00:00, 23.41it/s]"
          ]
        },
        {
          "output_type": "stream",
          "name": "stderr",
          "text": [
            "\rFold 2 Epoch 5:  51%|\u2588\u2588\u2588\u2588\u2588     | 21/41 [00:00<00:00, 23.13it/s]"
          ]
        },
        {
          "output_type": "stream",
          "name": "stderr",
          "text": [
            "\rFold 2 Epoch 5:  59%|\u2588\u2588\u2588\u2588\u2588\u258a    | 24/41 [00:01<00:00, 23.07it/s]"
          ]
        },
        {
          "output_type": "stream",
          "name": "stdout",
          "text": [
            "Batch 20, elapsed: 0.9s\n"
          ]
        },
        {
          "output_type": "stream",
          "name": "stderr",
          "text": [
            "\rFold 2 Epoch 5:  66%|\u2588\u2588\u2588\u2588\u2588\u2588\u258c   | 27/41 [00:01<00:00, 22.86it/s]"
          ]
        },
        {
          "output_type": "stream",
          "name": "stderr",
          "text": [
            "\rFold 2 Epoch 5:  73%|\u2588\u2588\u2588\u2588\u2588\u2588\u2588\u258e  | 30/41 [00:01<00:00, 22.98it/s]"
          ]
        },
        {
          "output_type": "stream",
          "name": "stderr",
          "text": [
            "\rFold 2 Epoch 5:  80%|\u2588\u2588\u2588\u2588\u2588\u2588\u2588\u2588  | 33/41 [00:01<00:00, 23.11it/s]"
          ]
        },
        {
          "output_type": "stream",
          "name": "stdout",
          "text": [
            "Batch 30, elapsed: 1.3s\n"
          ]
        },
        {
          "output_type": "stream",
          "name": "stderr",
          "text": [
            "\rFold 2 Epoch 5:  88%|\u2588\u2588\u2588\u2588\u2588\u2588\u2588\u2588\u258a | 36/41 [00:01<00:00, 23.35it/s]"
          ]
        },
        {
          "output_type": "stream",
          "name": "stderr",
          "text": [
            "\rFold 2 Epoch 5:  95%|\u2588\u2588\u2588\u2588\u2588\u2588\u2588\u2588\u2588\u258c| 39/41 [00:01<00:00, 23.16it/s]"
          ]
        },
        {
          "output_type": "stream",
          "name": "stderr",
          "text": [
            "\rFold 2 Epoch 5: 100%|\u2588\u2588\u2588\u2588\u2588\u2588\u2588\u2588\u2588\u2588| 41/41 [00:01<00:00, 23.21it/s]"
          ]
        },
        {
          "output_type": "stream",
          "name": "stderr",
          "text": [
            "\n"
          ]
        },
        {
          "output_type": "stream",
          "name": "stdout",
          "text": [
            "Batch 40, elapsed: 1.8s\nFold 2 Epoch 5 train time: 1.8s\nFold 2 Epoch 5: Train 0.7331, Val 0.7206, val time: 0.2s\n"
          ]
        },
        {
          "output_type": "stream",
          "name": "stdout",
          "text": [
            "New best at epoch 5\n"
          ]
        },
        {
          "output_type": "stream",
          "name": "stderr",
          "text": [
            "\rFold 2 Epoch 6:   0%|          | 0/41 [00:00<?, ?it/s]"
          ]
        },
        {
          "output_type": "stream",
          "name": "stderr",
          "text": [
            "\rFold 2 Epoch 6:   7%|\u258b         | 3/41 [00:00<00:01, 23.45it/s]"
          ]
        },
        {
          "output_type": "stream",
          "name": "stdout",
          "text": [
            "Batch 0, elapsed: 0.0s\n"
          ]
        },
        {
          "output_type": "stream",
          "name": "stderr",
          "text": [
            "\rFold 2 Epoch 6:  15%|\u2588\u258d        | 6/41 [00:00<00:01, 23.02it/s]"
          ]
        },
        {
          "output_type": "stream",
          "name": "stderr",
          "text": [
            "\rFold 2 Epoch 6:  22%|\u2588\u2588\u258f       | 9/41 [00:00<00:01, 22.57it/s]"
          ]
        },
        {
          "output_type": "stream",
          "name": "stderr",
          "text": [
            "\rFold 2 Epoch 6:  29%|\u2588\u2588\u2589       | 12/41 [00:00<00:01, 22.65it/s]"
          ]
        },
        {
          "output_type": "stream",
          "name": "stderr",
          "text": [
            "\rFold 2 Epoch 6:  37%|\u2588\u2588\u2588\u258b      | 15/41 [00:00<00:01, 22.77it/s]"
          ]
        },
        {
          "output_type": "stream",
          "name": "stdout",
          "text": [
            "Batch 10, elapsed: 0.5s\n"
          ]
        },
        {
          "output_type": "stream",
          "name": "stderr",
          "text": [
            "\rFold 2 Epoch 6:  44%|\u2588\u2588\u2588\u2588\u258d     | 18/41 [00:00<00:00, 23.01it/s]"
          ]
        },
        {
          "output_type": "stream",
          "name": "stderr",
          "text": [
            "\rFold 2 Epoch 6:  51%|\u2588\u2588\u2588\u2588\u2588     | 21/41 [00:00<00:00, 22.75it/s]"
          ]
        },
        {
          "output_type": "stream",
          "name": "stderr",
          "text": [
            "\rFold 2 Epoch 6:  59%|\u2588\u2588\u2588\u2588\u2588\u258a    | 24/41 [00:01<00:00, 22.50it/s]"
          ]
        },
        {
          "output_type": "stream",
          "name": "stdout",
          "text": [
            "Batch 20, elapsed: 0.9s\n"
          ]
        },
        {
          "output_type": "stream",
          "name": "stderr",
          "text": [
            "\rFold 2 Epoch 6:  66%|\u2588\u2588\u2588\u2588\u2588\u2588\u258c   | 27/41 [00:01<00:00, 22.88it/s]"
          ]
        },
        {
          "output_type": "stream",
          "name": "stderr",
          "text": [
            "\rFold 2 Epoch 6:  73%|\u2588\u2588\u2588\u2588\u2588\u2588\u2588\u258e  | 30/41 [00:01<00:00, 23.04it/s]"
          ]
        },
        {
          "output_type": "stream",
          "name": "stderr",
          "text": [
            "\rFold 2 Epoch 6:  80%|\u2588\u2588\u2588\u2588\u2588\u2588\u2588\u2588  | 33/41 [00:01<00:00, 22.76it/s]"
          ]
        },
        {
          "output_type": "stream",
          "name": "stdout",
          "text": [
            "Batch 30, elapsed: 1.4s\n"
          ]
        },
        {
          "output_type": "stream",
          "name": "stderr",
          "text": [
            "\rFold 2 Epoch 6:  88%|\u2588\u2588\u2588\u2588\u2588\u2588\u2588\u2588\u258a | 36/41 [00:01<00:00, 22.72it/s]"
          ]
        },
        {
          "output_type": "stream",
          "name": "stderr",
          "text": [
            "\rFold 2 Epoch 6:  95%|\u2588\u2588\u2588\u2588\u2588\u2588\u2588\u2588\u2588\u258c| 39/41 [00:01<00:00, 22.36it/s]"
          ]
        },
        {
          "output_type": "stream",
          "name": "stderr",
          "text": [
            "\rFold 2 Epoch 6: 100%|\u2588\u2588\u2588\u2588\u2588\u2588\u2588\u2588\u2588\u2588| 41/41 [00:01<00:00, 22.73it/s]"
          ]
        },
        {
          "output_type": "stream",
          "name": "stderr",
          "text": [
            "\n"
          ]
        },
        {
          "output_type": "stream",
          "name": "stdout",
          "text": [
            "Batch 40, elapsed: 1.8s\nFold 2 Epoch 6 train time: 1.8s\nFold 2 Epoch 6: Train 0.7094, Val 0.7448, val time: 0.2s\n"
          ]
        },
        {
          "output_type": "stream",
          "name": "stderr",
          "text": [
            "\rFold 2 Epoch 7:   0%|          | 0/41 [00:00<?, ?it/s]"
          ]
        },
        {
          "output_type": "stream",
          "name": "stderr",
          "text": [
            "\rFold 2 Epoch 7:   7%|\u258b         | 3/41 [00:00<00:01, 23.66it/s]"
          ]
        },
        {
          "output_type": "stream",
          "name": "stdout",
          "text": [
            "Batch 0, elapsed: 0.0s\n"
          ]
        },
        {
          "output_type": "stream",
          "name": "stderr",
          "text": [
            "\rFold 2 Epoch 7:  15%|\u2588\u258d        | 6/41 [00:00<00:01, 23.28it/s]"
          ]
        },
        {
          "output_type": "stream",
          "name": "stderr",
          "text": [
            "\rFold 2 Epoch 7:  22%|\u2588\u2588\u258f       | 9/41 [00:00<00:01, 22.97it/s]"
          ]
        },
        {
          "output_type": "stream",
          "name": "stderr",
          "text": [
            "\rFold 2 Epoch 7:  29%|\u2588\u2588\u2589       | 12/41 [00:00<00:01, 23.08it/s]"
          ]
        },
        {
          "output_type": "stream",
          "name": "stderr",
          "text": [
            "\rFold 2 Epoch 7:  37%|\u2588\u2588\u2588\u258b      | 15/41 [00:00<00:01, 23.01it/s]"
          ]
        },
        {
          "output_type": "stream",
          "name": "stdout",
          "text": [
            "Batch 10, elapsed: 0.5s\n"
          ]
        },
        {
          "output_type": "stream",
          "name": "stderr",
          "text": [
            "\rFold 2 Epoch 7:  44%|\u2588\u2588\u2588\u2588\u258d     | 18/41 [00:00<00:00, 23.00it/s]"
          ]
        },
        {
          "output_type": "stream",
          "name": "stderr",
          "text": [
            "\rFold 2 Epoch 7:  51%|\u2588\u2588\u2588\u2588\u2588     | 21/41 [00:00<00:00, 23.13it/s]"
          ]
        },
        {
          "output_type": "stream",
          "name": "stderr",
          "text": [
            "\rFold 2 Epoch 7:  59%|\u2588\u2588\u2588\u2588\u2588\u258a    | 24/41 [00:01<00:00, 23.04it/s]"
          ]
        },
        {
          "output_type": "stream",
          "name": "stdout",
          "text": [
            "Batch 20, elapsed: 0.9s\n"
          ]
        },
        {
          "output_type": "stream",
          "name": "stderr",
          "text": [
            "\rFold 2 Epoch 7:  66%|\u2588\u2588\u2588\u2588\u2588\u2588\u258c   | 27/41 [00:01<00:00, 22.86it/s]"
          ]
        },
        {
          "output_type": "stream",
          "name": "stderr",
          "text": [
            "\rFold 2 Epoch 7:  73%|\u2588\u2588\u2588\u2588\u2588\u2588\u2588\u258e  | 30/41 [00:01<00:00, 22.68it/s]"
          ]
        },
        {
          "output_type": "stream",
          "name": "stderr",
          "text": [
            "\rFold 2 Epoch 7:  80%|\u2588\u2588\u2588\u2588\u2588\u2588\u2588\u2588  | 33/41 [00:01<00:00, 22.81it/s]"
          ]
        },
        {
          "output_type": "stream",
          "name": "stdout",
          "text": [
            "Batch 30, elapsed: 1.4s\n"
          ]
        },
        {
          "output_type": "stream",
          "name": "stderr",
          "text": [
            "\rFold 2 Epoch 7:  88%|\u2588\u2588\u2588\u2588\u2588\u2588\u2588\u2588\u258a | 36/41 [00:01<00:00, 22.75it/s]"
          ]
        },
        {
          "output_type": "stream",
          "name": "stderr",
          "text": [
            "\rFold 2 Epoch 7:  95%|\u2588\u2588\u2588\u2588\u2588\u2588\u2588\u2588\u2588\u258c| 39/41 [00:01<00:00, 23.14it/s]"
          ]
        },
        {
          "output_type": "stream",
          "name": "stderr",
          "text": [
            "\rFold 2 Epoch 7: 100%|\u2588\u2588\u2588\u2588\u2588\u2588\u2588\u2588\u2588\u2588| 41/41 [00:01<00:00, 23.10it/s]"
          ]
        },
        {
          "output_type": "stream",
          "name": "stderr",
          "text": [
            "\n"
          ]
        },
        {
          "output_type": "stream",
          "name": "stdout",
          "text": [
            "Batch 40, elapsed: 1.8s\nFold 2 Epoch 7 train time: 1.8s\nFold 2 Epoch 7: Train 0.7271, Val 0.7384, val time: 0.2s\n"
          ]
        },
        {
          "output_type": "stream",
          "name": "stderr",
          "text": [
            "\rFold 2 Epoch 8:   0%|          | 0/41 [00:00<?, ?it/s]"
          ]
        },
        {
          "output_type": "stream",
          "name": "stderr",
          "text": [
            "\rFold 2 Epoch 8:   7%|\u258b         | 3/41 [00:00<00:01, 23.36it/s]"
          ]
        },
        {
          "output_type": "stream",
          "name": "stdout",
          "text": [
            "Batch 0, elapsed: 0.0s\n"
          ]
        },
        {
          "output_type": "stream",
          "name": "stderr",
          "text": [
            "\rFold 2 Epoch 8:  15%|\u2588\u258d        | 6/41 [00:00<00:01, 22.60it/s]"
          ]
        },
        {
          "output_type": "stream",
          "name": "stderr",
          "text": [
            "\rFold 2 Epoch 8:  22%|\u2588\u2588\u258f       | 9/41 [00:00<00:01, 22.73it/s]"
          ]
        },
        {
          "output_type": "stream",
          "name": "stderr",
          "text": [
            "\rFold 2 Epoch 8:  29%|\u2588\u2588\u2589       | 12/41 [00:00<00:01, 22.24it/s]"
          ]
        },
        {
          "output_type": "stream",
          "name": "stderr",
          "text": [
            "\rFold 2 Epoch 8:  37%|\u2588\u2588\u2588\u258b      | 15/41 [00:00<00:01, 22.37it/s]"
          ]
        },
        {
          "output_type": "stream",
          "name": "stdout",
          "text": [
            "Batch 10, elapsed: 0.5s\n"
          ]
        },
        {
          "output_type": "stream",
          "name": "stderr",
          "text": [
            "\rFold 2 Epoch 8:  44%|\u2588\u2588\u2588\u2588\u258d     | 18/41 [00:00<00:01, 22.49it/s]"
          ]
        },
        {
          "output_type": "stream",
          "name": "stderr",
          "text": [
            "\rFold 2 Epoch 8:  51%|\u2588\u2588\u2588\u2588\u2588     | 21/41 [00:00<00:00, 22.73it/s]"
          ]
        },
        {
          "output_type": "stream",
          "name": "stderr",
          "text": [
            "\rFold 2 Epoch 8:  59%|\u2588\u2588\u2588\u2588\u2588\u258a    | 24/41 [00:01<00:00, 22.83it/s]"
          ]
        },
        {
          "output_type": "stream",
          "name": "stdout",
          "text": [
            "Batch 20, elapsed: 0.9s\n"
          ]
        },
        {
          "output_type": "stream",
          "name": "stderr",
          "text": [
            "\rFold 2 Epoch 8:  66%|\u2588\u2588\u2588\u2588\u2588\u2588\u258c   | 27/41 [00:01<00:00, 21.98it/s]"
          ]
        },
        {
          "output_type": "stream",
          "name": "stderr",
          "text": [
            "\rFold 2 Epoch 8:  73%|\u2588\u2588\u2588\u2588\u2588\u2588\u2588\u258e  | 30/41 [00:01<00:00, 22.00it/s]"
          ]
        },
        {
          "output_type": "stream",
          "name": "stderr",
          "text": [
            "\rFold 2 Epoch 8:  80%|\u2588\u2588\u2588\u2588\u2588\u2588\u2588\u2588  | 33/41 [00:01<00:00, 22.24it/s]"
          ]
        },
        {
          "output_type": "stream",
          "name": "stdout",
          "text": [
            "Batch 30, elapsed: 1.4s\n"
          ]
        },
        {
          "output_type": "stream",
          "name": "stderr",
          "text": [
            "\rFold 2 Epoch 8:  88%|\u2588\u2588\u2588\u2588\u2588\u2588\u2588\u2588\u258a | 36/41 [00:01<00:00, 22.47it/s]"
          ]
        },
        {
          "output_type": "stream",
          "name": "stderr",
          "text": [
            "\rFold 2 Epoch 8:  95%|\u2588\u2588\u2588\u2588\u2588\u2588\u2588\u2588\u2588\u258c| 39/41 [00:01<00:00, 21.99it/s]"
          ]
        },
        {
          "output_type": "stream",
          "name": "stderr",
          "text": [
            "\rFold 2 Epoch 8: 100%|\u2588\u2588\u2588\u2588\u2588\u2588\u2588\u2588\u2588\u2588| 41/41 [00:01<00:00, 22.45it/s]"
          ]
        },
        {
          "output_type": "stream",
          "name": "stderr",
          "text": [
            "\n"
          ]
        },
        {
          "output_type": "stream",
          "name": "stdout",
          "text": [
            "Batch 40, elapsed: 1.8s\nFold 2 Epoch 8 train time: 1.8s\nFold 2 Epoch 8: Train 0.6949, Val 0.7405, val time: 0.2s\n"
          ]
        },
        {
          "output_type": "stream",
          "name": "stderr",
          "text": [
            "\rFold 2 Epoch 9:   0%|          | 0/41 [00:00<?, ?it/s]"
          ]
        },
        {
          "output_type": "stream",
          "name": "stderr",
          "text": [
            "\rFold 2 Epoch 9:   7%|\u258b         | 3/41 [00:00<00:01, 22.85it/s]"
          ]
        },
        {
          "output_type": "stream",
          "name": "stdout",
          "text": [
            "Batch 0, elapsed: 0.0s\n"
          ]
        },
        {
          "output_type": "stream",
          "name": "stderr",
          "text": [
            "\rFold 2 Epoch 9:  15%|\u2588\u258d        | 6/41 [00:00<00:01, 22.79it/s]"
          ]
        },
        {
          "output_type": "stream",
          "name": "stderr",
          "text": [
            "\rFold 2 Epoch 9:  22%|\u2588\u2588\u258f       | 9/41 [00:00<00:01, 22.76it/s]"
          ]
        },
        {
          "output_type": "stream",
          "name": "stderr",
          "text": [
            "\rFold 2 Epoch 9:  29%|\u2588\u2588\u2589       | 12/41 [00:00<00:01, 22.91it/s]"
          ]
        },
        {
          "output_type": "stream",
          "name": "stderr",
          "text": [
            "\rFold 2 Epoch 9:  37%|\u2588\u2588\u2588\u258b      | 15/41 [00:00<00:01, 23.09it/s]"
          ]
        },
        {
          "output_type": "stream",
          "name": "stdout",
          "text": [
            "Batch 10, elapsed: 0.5s\n"
          ]
        },
        {
          "output_type": "stream",
          "name": "stderr",
          "text": [
            "\rFold 2 Epoch 9:  44%|\u2588\u2588\u2588\u2588\u258d     | 18/41 [00:00<00:01, 22.88it/s]"
          ]
        },
        {
          "output_type": "stream",
          "name": "stderr",
          "text": [
            "\rFold 2 Epoch 9:  51%|\u2588\u2588\u2588\u2588\u2588     | 21/41 [00:00<00:00, 22.82it/s]"
          ]
        },
        {
          "output_type": "stream",
          "name": "stderr",
          "text": [
            "\rFold 2 Epoch 9:  59%|\u2588\u2588\u2588\u2588\u2588\u258a    | 24/41 [00:01<00:00, 22.59it/s]"
          ]
        },
        {
          "output_type": "stream",
          "name": "stdout",
          "text": [
            "Batch 20, elapsed: 0.9s\n"
          ]
        },
        {
          "output_type": "stream",
          "name": "stderr",
          "text": [
            "\rFold 2 Epoch 9:  66%|\u2588\u2588\u2588\u2588\u2588\u2588\u258c   | 27/41 [00:01<00:00, 22.53it/s]"
          ]
        },
        {
          "output_type": "stream",
          "name": "stderr",
          "text": [
            "\rFold 2 Epoch 9:  73%|\u2588\u2588\u2588\u2588\u2588\u2588\u2588\u258e  | 30/41 [00:01<00:00, 22.60it/s]"
          ]
        },
        {
          "output_type": "stream",
          "name": "stderr",
          "text": [
            "\rFold 2 Epoch 9:  80%|\u2588\u2588\u2588\u2588\u2588\u2588\u2588\u2588  | 33/41 [00:01<00:00, 22.77it/s]"
          ]
        },
        {
          "output_type": "stream",
          "name": "stdout",
          "text": [
            "Batch 30, elapsed: 1.4s\n"
          ]
        },
        {
          "output_type": "stream",
          "name": "stderr",
          "text": [
            "\rFold 2 Epoch 9:  88%|\u2588\u2588\u2588\u2588\u2588\u2588\u2588\u2588\u258a | 36/41 [00:01<00:00, 23.01it/s]"
          ]
        },
        {
          "output_type": "stream",
          "name": "stderr",
          "text": [
            "\rFold 2 Epoch 9:  95%|\u2588\u2588\u2588\u2588\u2588\u2588\u2588\u2588\u2588\u258c| 39/41 [00:01<00:00, 22.78it/s]"
          ]
        },
        {
          "output_type": "stream",
          "name": "stderr",
          "text": [
            "\rFold 2 Epoch 9: 100%|\u2588\u2588\u2588\u2588\u2588\u2588\u2588\u2588\u2588\u2588| 41/41 [00:01<00:00, 22.88it/s]"
          ]
        },
        {
          "output_type": "stream",
          "name": "stderr",
          "text": [
            "\n"
          ]
        },
        {
          "output_type": "stream",
          "name": "stdout",
          "text": [
            "Batch 40, elapsed: 1.8s\nFold 2 Epoch 9 train time: 1.8s\nFold 2 Epoch 9: Train 0.7277, Val 0.7267, val time: 0.2s\n"
          ]
        },
        {
          "output_type": "stream",
          "name": "stderr",
          "text": [
            "\rFold 2 Epoch 10:   0%|          | 0/41 [00:00<?, ?it/s]"
          ]
        },
        {
          "output_type": "stream",
          "name": "stderr",
          "text": [
            "\rFold 2 Epoch 10:   7%|\u258b         | 3/41 [00:00<00:01, 23.45it/s]"
          ]
        },
        {
          "output_type": "stream",
          "name": "stdout",
          "text": [
            "Batch 0, elapsed: 0.0s\n"
          ]
        },
        {
          "output_type": "stream",
          "name": "stderr",
          "text": [
            "\rFold 2 Epoch 10:  15%|\u2588\u258d        | 6/41 [00:00<00:01, 23.24it/s]"
          ]
        },
        {
          "output_type": "stream",
          "name": "stderr",
          "text": [
            "\rFold 2 Epoch 10:  22%|\u2588\u2588\u258f       | 9/41 [00:00<00:01, 23.23it/s]"
          ]
        },
        {
          "output_type": "stream",
          "name": "stderr",
          "text": [
            "\rFold 2 Epoch 10:  29%|\u2588\u2588\u2589       | 12/41 [00:00<00:01, 23.37it/s]"
          ]
        },
        {
          "output_type": "stream",
          "name": "stderr",
          "text": [
            "\rFold 2 Epoch 10:  37%|\u2588\u2588\u2588\u258b      | 15/41 [00:00<00:01, 23.25it/s]"
          ]
        },
        {
          "output_type": "stream",
          "name": "stdout",
          "text": [
            "Batch 10, elapsed: 0.5s\n"
          ]
        },
        {
          "output_type": "stream",
          "name": "stderr",
          "text": [
            "\rFold 2 Epoch 10:  44%|\u2588\u2588\u2588\u2588\u258d     | 18/41 [00:00<00:01, 22.81it/s]"
          ]
        },
        {
          "output_type": "stream",
          "name": "stderr",
          "text": [
            "\rFold 2 Epoch 10:  51%|\u2588\u2588\u2588\u2588\u2588     | 21/41 [00:00<00:00, 23.01it/s]"
          ]
        },
        {
          "output_type": "stream",
          "name": "stderr",
          "text": [
            "\rFold 2 Epoch 10:  59%|\u2588\u2588\u2588\u2588\u2588\u258a    | 24/41 [00:01<00:00, 23.18it/s]"
          ]
        },
        {
          "output_type": "stream",
          "name": "stdout",
          "text": [
            "Batch 20, elapsed: 0.9s\n"
          ]
        },
        {
          "output_type": "stream",
          "name": "stderr",
          "text": [
            "\rFold 2 Epoch 10:  66%|\u2588\u2588\u2588\u2588\u2588\u2588\u258c   | 27/41 [00:01<00:00, 23.00it/s]"
          ]
        },
        {
          "output_type": "stream",
          "name": "stderr",
          "text": [
            "\rFold 2 Epoch 10:  73%|\u2588\u2588\u2588\u2588\u2588\u2588\u2588\u258e  | 30/41 [00:01<00:00, 22.94it/s]"
          ]
        },
        {
          "output_type": "stream",
          "name": "stderr",
          "text": [
            "\rFold 2 Epoch 10:  80%|\u2588\u2588\u2588\u2588\u2588\u2588\u2588\u2588  | 33/41 [00:01<00:00, 22.93it/s]"
          ]
        },
        {
          "output_type": "stream",
          "name": "stdout",
          "text": [
            "Batch 30, elapsed: 1.3s\n"
          ]
        },
        {
          "output_type": "stream",
          "name": "stderr",
          "text": [
            "\rFold 2 Epoch 10:  88%|\u2588\u2588\u2588\u2588\u2588\u2588\u2588\u2588\u258a | 36/41 [00:01<00:00, 22.69it/s]"
          ]
        },
        {
          "output_type": "stream",
          "name": "stderr",
          "text": [
            "\rFold 2 Epoch 10:  95%|\u2588\u2588\u2588\u2588\u2588\u2588\u2588\u2588\u2588\u258c| 39/41 [00:01<00:00, 22.65it/s]"
          ]
        },
        {
          "output_type": "stream",
          "name": "stderr",
          "text": [
            "\rFold 2 Epoch 10: 100%|\u2588\u2588\u2588\u2588\u2588\u2588\u2588\u2588\u2588\u2588| 41/41 [00:01<00:00, 23.06it/s]"
          ]
        },
        {
          "output_type": "stream",
          "name": "stderr",
          "text": [
            "\n"
          ]
        },
        {
          "output_type": "stream",
          "name": "stdout",
          "text": [
            "Batch 40, elapsed: 1.8s\nFold 2 Epoch 10 train time: 1.8s\nFold 2 Epoch 10: Train 0.6941, Val 0.7295, val time: 0.2s\nEarly stop at epoch 10\nFold 2 best val loss: 0.7206\n"
          ]
        },
        {
          "output_type": "stream",
          "name": "stdout",
          "text": [
            "Fold 3 pos_weight: [3. 3. 3. 3. 3. 3. 3.]\nFold 3 GPU memory before model: 0.1GB\n"
          ]
        },
        {
          "output_type": "stream",
          "name": "stderr",
          "text": [
            "\rFold 3 Epoch 1:   0%|          | 0/41 [00:00<?, ?it/s]"
          ]
        },
        {
          "output_type": "stream",
          "name": "stderr",
          "text": [
            "\rFold 3 Epoch 1:   7%|\u258b         | 3/41 [00:00<00:01, 22.55it/s]"
          ]
        },
        {
          "output_type": "stream",
          "name": "stdout",
          "text": [
            "Batch 0, elapsed: 0.0s\n"
          ]
        },
        {
          "output_type": "stream",
          "name": "stderr",
          "text": [
            "\rFold 3 Epoch 1:  15%|\u2588\u258d        | 6/41 [00:00<00:01, 23.23it/s]"
          ]
        },
        {
          "output_type": "stream",
          "name": "stderr",
          "text": [
            "\rFold 3 Epoch 1:  22%|\u2588\u2588\u258f       | 9/41 [00:00<00:01, 23.37it/s]"
          ]
        },
        {
          "output_type": "stream",
          "name": "stderr",
          "text": [
            "\rFold 3 Epoch 1:  29%|\u2588\u2588\u2589       | 12/41 [00:00<00:01, 23.33it/s]"
          ]
        },
        {
          "output_type": "stream",
          "name": "stderr",
          "text": [
            "\rFold 3 Epoch 1:  37%|\u2588\u2588\u2588\u258b      | 15/41 [00:00<00:01, 23.18it/s]"
          ]
        },
        {
          "output_type": "stream",
          "name": "stdout",
          "text": [
            "Batch 10, elapsed: 0.5s\n"
          ]
        },
        {
          "output_type": "stream",
          "name": "stderr",
          "text": [
            "\rFold 3 Epoch 1:  44%|\u2588\u2588\u2588\u2588\u258d     | 18/41 [00:00<00:00, 23.15it/s]"
          ]
        },
        {
          "output_type": "stream",
          "name": "stderr",
          "text": [
            "\rFold 3 Epoch 1:  51%|\u2588\u2588\u2588\u2588\u2588     | 21/41 [00:00<00:00, 23.19it/s]"
          ]
        },
        {
          "output_type": "stream",
          "name": "stderr",
          "text": [
            "\rFold 3 Epoch 1:  59%|\u2588\u2588\u2588\u2588\u2588\u258a    | 24/41 [00:01<00:00, 23.35it/s]"
          ]
        },
        {
          "output_type": "stream",
          "name": "stdout",
          "text": [
            "Batch 20, elapsed: 0.9s\n"
          ]
        },
        {
          "output_type": "stream",
          "name": "stderr",
          "text": [
            "\rFold 3 Epoch 1:  66%|\u2588\u2588\u2588\u2588\u2588\u2588\u258c   | 27/41 [00:01<00:00, 23.16it/s]"
          ]
        },
        {
          "output_type": "stream",
          "name": "stderr",
          "text": [
            "\rFold 3 Epoch 1:  73%|\u2588\u2588\u2588\u2588\u2588\u2588\u2588\u258e  | 30/41 [00:01<00:00, 23.04it/s]"
          ]
        },
        {
          "output_type": "stream",
          "name": "stderr",
          "text": [
            "\rFold 3 Epoch 1:  80%|\u2588\u2588\u2588\u2588\u2588\u2588\u2588\u2588  | 33/41 [00:01<00:00, 22.90it/s]"
          ]
        },
        {
          "output_type": "stream",
          "name": "stdout",
          "text": [
            "Batch 30, elapsed: 1.3s\n"
          ]
        },
        {
          "output_type": "stream",
          "name": "stderr",
          "text": [
            "\rFold 3 Epoch 1:  88%|\u2588\u2588\u2588\u2588\u2588\u2588\u2588\u2588\u258a | 36/41 [00:01<00:00, 22.82it/s]"
          ]
        },
        {
          "output_type": "stream",
          "name": "stderr",
          "text": [
            "\rFold 3 Epoch 1:  95%|\u2588\u2588\u2588\u2588\u2588\u2588\u2588\u2588\u2588\u258c| 39/41 [00:01<00:00, 22.65it/s]"
          ]
        },
        {
          "output_type": "stream",
          "name": "stderr",
          "text": [
            "\rFold 3 Epoch 1: 100%|\u2588\u2588\u2588\u2588\u2588\u2588\u2588\u2588\u2588\u2588| 41/41 [00:01<00:00, 23.12it/s]"
          ]
        },
        {
          "output_type": "stream",
          "name": "stderr",
          "text": [
            "\n"
          ]
        },
        {
          "output_type": "stream",
          "name": "stdout",
          "text": [
            "Batch 40, elapsed: 1.8s\nFold 3 Epoch 1 train time: 1.8s\nFold 3 Epoch 1: Train 0.8286, Val 0.7694, val time: 0.2s\n"
          ]
        },
        {
          "output_type": "stream",
          "name": "stdout",
          "text": [
            "New best at epoch 1\n"
          ]
        },
        {
          "output_type": "stream",
          "name": "stderr",
          "text": [
            "\rFold 3 Epoch 2:   0%|          | 0/41 [00:00<?, ?it/s]"
          ]
        },
        {
          "output_type": "stream",
          "name": "stderr",
          "text": [
            "\rFold 3 Epoch 2:   7%|\u258b         | 3/41 [00:00<00:01, 21.82it/s]"
          ]
        },
        {
          "output_type": "stream",
          "name": "stdout",
          "text": [
            "Batch 0, elapsed: 0.0s\n"
          ]
        },
        {
          "output_type": "stream",
          "name": "stderr",
          "text": [
            "\rFold 3 Epoch 2:  15%|\u2588\u258d        | 6/41 [00:00<00:01, 22.11it/s]"
          ]
        },
        {
          "output_type": "stream",
          "name": "stderr",
          "text": [
            "\rFold 3 Epoch 2:  22%|\u2588\u2588\u258f       | 9/41 [00:00<00:01, 22.31it/s]"
          ]
        },
        {
          "output_type": "stream",
          "name": "stderr",
          "text": [
            "\rFold 3 Epoch 2:  29%|\u2588\u2588\u2589       | 12/41 [00:00<00:01, 22.37it/s]"
          ]
        },
        {
          "output_type": "stream",
          "name": "stderr",
          "text": [
            "\rFold 3 Epoch 2:  37%|\u2588\u2588\u2588\u258b      | 15/41 [00:00<00:01, 22.38it/s]"
          ]
        },
        {
          "output_type": "stream",
          "name": "stdout",
          "text": [
            "Batch 10, elapsed: 0.5s\n"
          ]
        },
        {
          "output_type": "stream",
          "name": "stderr",
          "text": [
            "\rFold 3 Epoch 2:  44%|\u2588\u2588\u2588\u2588\u258d     | 18/41 [00:00<00:01, 22.26it/s]"
          ]
        },
        {
          "output_type": "stream",
          "name": "stderr",
          "text": [
            "\rFold 3 Epoch 2:  51%|\u2588\u2588\u2588\u2588\u2588     | 21/41 [00:00<00:00, 22.18it/s]"
          ]
        },
        {
          "output_type": "stream",
          "name": "stderr",
          "text": [
            "\rFold 3 Epoch 2:  59%|\u2588\u2588\u2588\u2588\u2588\u258a    | 24/41 [00:01<00:00, 22.52it/s]"
          ]
        },
        {
          "output_type": "stream",
          "name": "stdout",
          "text": [
            "Batch 20, elapsed: 0.9s\n"
          ]
        },
        {
          "output_type": "stream",
          "name": "stderr",
          "text": [
            "\rFold 3 Epoch 2:  66%|\u2588\u2588\u2588\u2588\u2588\u2588\u258c   | 27/41 [00:01<00:00, 22.46it/s]"
          ]
        },
        {
          "output_type": "stream",
          "name": "stderr",
          "text": [
            "\rFold 3 Epoch 2:  73%|\u2588\u2588\u2588\u2588\u2588\u2588\u2588\u258e  | 30/41 [00:01<00:00, 22.51it/s]"
          ]
        },
        {
          "output_type": "stream",
          "name": "stderr",
          "text": [
            "\rFold 3 Epoch 2:  80%|\u2588\u2588\u2588\u2588\u2588\u2588\u2588\u2588  | 33/41 [00:01<00:00, 22.47it/s]"
          ]
        },
        {
          "output_type": "stream",
          "name": "stdout",
          "text": [
            "Batch 30, elapsed: 1.4s\n"
          ]
        },
        {
          "output_type": "stream",
          "name": "stderr",
          "text": [
            "\rFold 3 Epoch 2:  88%|\u2588\u2588\u2588\u2588\u2588\u2588\u2588\u2588\u258a | 36/41 [00:01<00:00, 22.57it/s]"
          ]
        },
        {
          "output_type": "stream",
          "name": "stderr",
          "text": [
            "\rFold 3 Epoch 2:  95%|\u2588\u2588\u2588\u2588\u2588\u2588\u2588\u2588\u2588\u258c| 39/41 [00:01<00:00, 22.47it/s]"
          ]
        },
        {
          "output_type": "stream",
          "name": "stderr",
          "text": [
            "\rFold 3 Epoch 2: 100%|\u2588\u2588\u2588\u2588\u2588\u2588\u2588\u2588\u2588\u2588| 41/41 [00:01<00:00, 22.57it/s]"
          ]
        },
        {
          "output_type": "stream",
          "name": "stderr",
          "text": [
            "\n"
          ]
        },
        {
          "output_type": "stream",
          "name": "stdout",
          "text": [
            "Batch 40, elapsed: 1.8s\nFold 3 Epoch 2 train time: 1.8s\nFold 3 Epoch 2: Train 0.7647, Val 0.7636, val time: 0.2s\n"
          ]
        },
        {
          "output_type": "stream",
          "name": "stdout",
          "text": [
            "New best at epoch 2\n"
          ]
        },
        {
          "output_type": "stream",
          "name": "stderr",
          "text": [
            "\rFold 3 Epoch 3:   0%|          | 0/41 [00:00<?, ?it/s]"
          ]
        },
        {
          "output_type": "stream",
          "name": "stderr",
          "text": [
            "\rFold 3 Epoch 3:   7%|\u258b         | 3/41 [00:00<00:01, 21.81it/s]"
          ]
        },
        {
          "output_type": "stream",
          "name": "stdout",
          "text": [
            "Batch 0, elapsed: 0.1s\n"
          ]
        },
        {
          "output_type": "stream",
          "name": "stderr",
          "text": [
            "\rFold 3 Epoch 3:  15%|\u2588\u258d        | 6/41 [00:00<00:01, 22.04it/s]"
          ]
        },
        {
          "output_type": "stream",
          "name": "stderr",
          "text": [
            "\rFold 3 Epoch 3:  22%|\u2588\u2588\u258f       | 9/41 [00:00<00:01, 22.36it/s]"
          ]
        },
        {
          "output_type": "stream",
          "name": "stderr",
          "text": [
            "\rFold 3 Epoch 3:  29%|\u2588\u2588\u2589       | 12/41 [00:00<00:01, 22.55it/s]"
          ]
        },
        {
          "output_type": "stream",
          "name": "stderr",
          "text": [
            "\rFold 3 Epoch 3:  37%|\u2588\u2588\u2588\u258b      | 15/41 [00:00<00:01, 22.56it/s]"
          ]
        },
        {
          "output_type": "stream",
          "name": "stdout",
          "text": [
            "Batch 10, elapsed: 0.5s\n"
          ]
        },
        {
          "output_type": "stream",
          "name": "stderr",
          "text": [
            "\rFold 3 Epoch 3:  44%|\u2588\u2588\u2588\u2588\u258d     | 18/41 [00:00<00:01, 22.57it/s]"
          ]
        },
        {
          "output_type": "stream",
          "name": "stderr",
          "text": [
            "\rFold 3 Epoch 3:  51%|\u2588\u2588\u2588\u2588\u2588     | 21/41 [00:00<00:00, 22.90it/s]"
          ]
        },
        {
          "output_type": "stream",
          "name": "stderr",
          "text": [
            "\rFold 3 Epoch 3:  59%|\u2588\u2588\u2588\u2588\u2588\u258a    | 24/41 [00:01<00:00, 22.89it/s]"
          ]
        },
        {
          "output_type": "stream",
          "name": "stdout",
          "text": [
            "Batch 20, elapsed: 0.9s\n"
          ]
        },
        {
          "output_type": "stream",
          "name": "stderr",
          "text": [
            "\rFold 3 Epoch 3:  66%|\u2588\u2588\u2588\u2588\u2588\u2588\u258c   | 27/41 [00:01<00:00, 22.58it/s]"
          ]
        },
        {
          "output_type": "stream",
          "name": "stderr",
          "text": [
            "\rFold 3 Epoch 3:  73%|\u2588\u2588\u2588\u2588\u2588\u2588\u2588\u258e  | 30/41 [00:01<00:00, 22.99it/s]"
          ]
        },
        {
          "output_type": "stream",
          "name": "stderr",
          "text": [
            "\rFold 3 Epoch 3:  80%|\u2588\u2588\u2588\u2588\u2588\u2588\u2588\u2588  | 33/41 [00:01<00:00, 22.84it/s]"
          ]
        },
        {
          "output_type": "stream",
          "name": "stdout",
          "text": [
            "Batch 30, elapsed: 1.4s\n"
          ]
        },
        {
          "output_type": "stream",
          "name": "stderr",
          "text": [
            "\rFold 3 Epoch 3:  88%|\u2588\u2588\u2588\u2588\u2588\u2588\u2588\u2588\u258a | 36/41 [00:01<00:00, 22.77it/s]"
          ]
        },
        {
          "output_type": "stream",
          "name": "stderr",
          "text": [
            "\rFold 3 Epoch 3:  95%|\u2588\u2588\u2588\u2588\u2588\u2588\u2588\u2588\u2588\u258c| 39/41 [00:01<00:00, 22.72it/s]"
          ]
        },
        {
          "output_type": "stream",
          "name": "stderr",
          "text": [
            "\rFold 3 Epoch 3: 100%|\u2588\u2588\u2588\u2588\u2588\u2588\u2588\u2588\u2588\u2588| 41/41 [00:01<00:00, 22.82it/s]"
          ]
        },
        {
          "output_type": "stream",
          "name": "stderr",
          "text": [
            "\n"
          ]
        },
        {
          "output_type": "stream",
          "name": "stdout",
          "text": [
            "Batch 40, elapsed: 1.8s\nFold 3 Epoch 3 train time: 1.8s\nFold 3 Epoch 3: Train 0.7760, Val 0.7177, val time: 0.2s\n"
          ]
        },
        {
          "output_type": "stream",
          "name": "stdout",
          "text": [
            "New best at epoch 3\n"
          ]
        },
        {
          "output_type": "stream",
          "name": "stderr",
          "text": [
            "\rFold 3 Epoch 4:   0%|          | 0/41 [00:00<?, ?it/s]"
          ]
        },
        {
          "output_type": "stream",
          "name": "stderr",
          "text": [
            "\rFold 3 Epoch 4:   7%|\u258b         | 3/41 [00:00<00:01, 22.71it/s]"
          ]
        },
        {
          "output_type": "stream",
          "name": "stdout",
          "text": [
            "Batch 0, elapsed: 0.0s\n"
          ]
        },
        {
          "output_type": "stream",
          "name": "stderr",
          "text": [
            "\rFold 3 Epoch 4:  15%|\u2588\u258d        | 6/41 [00:00<00:01, 23.07it/s]"
          ]
        },
        {
          "output_type": "stream",
          "name": "stderr",
          "text": [
            "\rFold 3 Epoch 4:  22%|\u2588\u2588\u258f       | 9/41 [00:00<00:01, 23.09it/s]"
          ]
        },
        {
          "output_type": "stream",
          "name": "stderr",
          "text": [
            "\rFold 3 Epoch 4:  29%|\u2588\u2588\u2589       | 12/41 [00:00<00:01, 22.74it/s]"
          ]
        },
        {
          "output_type": "stream",
          "name": "stderr",
          "text": [
            "\rFold 3 Epoch 4:  37%|\u2588\u2588\u2588\u258b      | 15/41 [00:00<00:01, 22.80it/s]"
          ]
        },
        {
          "output_type": "stream",
          "name": "stdout",
          "text": [
            "Batch 10, elapsed: 0.5s\n"
          ]
        },
        {
          "output_type": "stream",
          "name": "stderr",
          "text": [
            "\rFold 3 Epoch 4:  44%|\u2588\u2588\u2588\u2588\u258d     | 18/41 [00:00<00:01, 22.79it/s]"
          ]
        },
        {
          "output_type": "stream",
          "name": "stderr",
          "text": [
            "\rFold 3 Epoch 4:  51%|\u2588\u2588\u2588\u2588\u2588     | 21/41 [00:00<00:00, 22.87it/s]"
          ]
        },
        {
          "output_type": "stream",
          "name": "stderr",
          "text": [
            "\rFold 3 Epoch 4:  59%|\u2588\u2588\u2588\u2588\u2588\u258a    | 24/41 [00:01<00:00, 22.92it/s]"
          ]
        },
        {
          "output_type": "stream",
          "name": "stdout",
          "text": [
            "Batch 20, elapsed: 0.9s\n"
          ]
        },
        {
          "output_type": "stream",
          "name": "stderr",
          "text": [
            "\rFold 3 Epoch 4:  66%|\u2588\u2588\u2588\u2588\u2588\u2588\u258c   | 27/41 [00:01<00:00, 22.78it/s]"
          ]
        },
        {
          "output_type": "stream",
          "name": "stderr",
          "text": [
            "\rFold 3 Epoch 4:  73%|\u2588\u2588\u2588\u2588\u2588\u2588\u2588\u258e  | 30/41 [00:01<00:00, 22.95it/s]"
          ]
        },
        {
          "output_type": "stream",
          "name": "stderr",
          "text": [
            "\rFold 3 Epoch 4:  80%|\u2588\u2588\u2588\u2588\u2588\u2588\u2588\u2588  | 33/41 [00:01<00:00, 23.03it/s]"
          ]
        },
        {
          "output_type": "stream",
          "name": "stdout",
          "text": [
            "Batch 30, elapsed: 1.4s\n"
          ]
        },
        {
          "output_type": "stream",
          "name": "stderr",
          "text": [
            "\rFold 3 Epoch 4:  88%|\u2588\u2588\u2588\u2588\u2588\u2588\u2588\u2588\u258a | 36/41 [00:01<00:00, 23.05it/s]"
          ]
        },
        {
          "output_type": "stream",
          "name": "stderr",
          "text": [
            "\rFold 3 Epoch 4:  95%|\u2588\u2588\u2588\u2588\u2588\u2588\u2588\u2588\u2588\u258c| 39/41 [00:01<00:00, 23.08it/s]"
          ]
        },
        {
          "output_type": "stream",
          "name": "stderr",
          "text": [
            "\rFold 3 Epoch 4: 100%|\u2588\u2588\u2588\u2588\u2588\u2588\u2588\u2588\u2588\u2588| 41/41 [00:01<00:00, 23.12it/s]"
          ]
        },
        {
          "output_type": "stream",
          "name": "stderr",
          "text": [
            "\n"
          ]
        },
        {
          "output_type": "stream",
          "name": "stdout",
          "text": [
            "Batch 40, elapsed: 1.8s\nFold 3 Epoch 4 train time: 1.8s\nFold 3 Epoch 4: Train 0.7266, Val 0.7172, val time: 0.2s\n"
          ]
        },
        {
          "output_type": "stream",
          "name": "stdout",
          "text": [
            "New best at epoch 4\n"
          ]
        },
        {
          "output_type": "stream",
          "name": "stderr",
          "text": [
            "\rFold 3 Epoch 5:   0%|          | 0/41 [00:00<?, ?it/s]"
          ]
        },
        {
          "output_type": "stream",
          "name": "stderr",
          "text": [
            "\rFold 3 Epoch 5:   7%|\u258b         | 3/41 [00:00<00:01, 22.63it/s]"
          ]
        },
        {
          "output_type": "stream",
          "name": "stdout",
          "text": [
            "Batch 0, elapsed: 0.0s\n"
          ]
        },
        {
          "output_type": "stream",
          "name": "stderr",
          "text": [
            "\rFold 3 Epoch 5:  15%|\u2588\u258d        | 6/41 [00:00<00:01, 22.89it/s]"
          ]
        },
        {
          "output_type": "stream",
          "name": "stderr",
          "text": [
            "\rFold 3 Epoch 5:  22%|\u2588\u2588\u258f       | 9/41 [00:00<00:01, 23.25it/s]"
          ]
        },
        {
          "output_type": "stream",
          "name": "stderr",
          "text": [
            "\rFold 3 Epoch 5:  29%|\u2588\u2588\u2589       | 12/41 [00:00<00:01, 22.62it/s]"
          ]
        },
        {
          "output_type": "stream",
          "name": "stderr",
          "text": [
            "\rFold 3 Epoch 5:  37%|\u2588\u2588\u2588\u258b      | 15/41 [00:00<00:01, 22.44it/s]"
          ]
        },
        {
          "output_type": "stream",
          "name": "stdout",
          "text": [
            "Batch 10, elapsed: 0.5s\n"
          ]
        },
        {
          "output_type": "stream",
          "name": "stderr",
          "text": [
            "\rFold 3 Epoch 5:  44%|\u2588\u2588\u2588\u2588\u258d     | 18/41 [00:00<00:01, 22.34it/s]"
          ]
        },
        {
          "output_type": "stream",
          "name": "stderr",
          "text": [
            "\rFold 3 Epoch 5:  51%|\u2588\u2588\u2588\u2588\u2588     | 21/41 [00:00<00:00, 22.50it/s]"
          ]
        },
        {
          "output_type": "stream",
          "name": "stderr",
          "text": [
            "\rFold 3 Epoch 5:  59%|\u2588\u2588\u2588\u2588\u2588\u258a    | 24/41 [00:01<00:00, 22.90it/s]"
          ]
        },
        {
          "output_type": "stream",
          "name": "stdout",
          "text": [
            "Batch 20, elapsed: 0.9s\n"
          ]
        },
        {
          "output_type": "stream",
          "name": "stderr",
          "text": [
            "\rFold 3 Epoch 5:  66%|\u2588\u2588\u2588\u2588\u2588\u2588\u258c   | 27/41 [00:01<00:00, 22.69it/s]"
          ]
        },
        {
          "output_type": "stream",
          "name": "stderr",
          "text": [
            "\rFold 3 Epoch 5:  73%|\u2588\u2588\u2588\u2588\u2588\u2588\u2588\u258e  | 30/41 [00:01<00:00, 22.72it/s]"
          ]
        },
        {
          "output_type": "stream",
          "name": "stderr",
          "text": [
            "\rFold 3 Epoch 5:  80%|\u2588\u2588\u2588\u2588\u2588\u2588\u2588\u2588  | 33/41 [00:01<00:00, 22.65it/s]"
          ]
        },
        {
          "output_type": "stream",
          "name": "stdout",
          "text": [
            "Batch 30, elapsed: 1.4s\n"
          ]
        },
        {
          "output_type": "stream",
          "name": "stderr",
          "text": [
            "\rFold 3 Epoch 5:  88%|\u2588\u2588\u2588\u2588\u2588\u2588\u2588\u2588\u258a | 36/41 [00:01<00:00, 22.74it/s]"
          ]
        },
        {
          "output_type": "stream",
          "name": "stderr",
          "text": [
            "\rFold 3 Epoch 5:  95%|\u2588\u2588\u2588\u2588\u2588\u2588\u2588\u2588\u2588\u258c| 39/41 [00:01<00:00, 22.60it/s]"
          ]
        },
        {
          "output_type": "stream",
          "name": "stderr",
          "text": [
            "\rFold 3 Epoch 5: 100%|\u2588\u2588\u2588\u2588\u2588\u2588\u2588\u2588\u2588\u2588| 41/41 [00:01<00:00, 22.81it/s]"
          ]
        },
        {
          "output_type": "stream",
          "name": "stderr",
          "text": [
            "\n"
          ]
        },
        {
          "output_type": "stream",
          "name": "stdout",
          "text": [
            "Batch 40, elapsed: 1.8s\nFold 3 Epoch 5 train time: 1.8s\nFold 3 Epoch 5: Train 0.7173, Val 0.7310, val time: 0.2s\n"
          ]
        },
        {
          "output_type": "stream",
          "name": "stderr",
          "text": [
            "\rFold 3 Epoch 6:   0%|          | 0/41 [00:00<?, ?it/s]"
          ]
        },
        {
          "output_type": "stream",
          "name": "stderr",
          "text": [
            "\rFold 3 Epoch 6:   7%|\u258b         | 3/41 [00:00<00:01, 21.26it/s]"
          ]
        },
        {
          "output_type": "stream",
          "name": "stdout",
          "text": [
            "Batch 0, elapsed: 0.1s\n"
          ]
        },
        {
          "output_type": "stream",
          "name": "stderr",
          "text": [
            "\rFold 3 Epoch 6:  15%|\u2588\u258d        | 6/41 [00:00<00:01, 21.66it/s]"
          ]
        },
        {
          "output_type": "stream",
          "name": "stderr",
          "text": [
            "\rFold 3 Epoch 6:  22%|\u2588\u2588\u258f       | 9/41 [00:00<00:01, 21.87it/s]"
          ]
        },
        {
          "output_type": "stream",
          "name": "stderr",
          "text": [
            "\rFold 3 Epoch 6:  29%|\u2588\u2588\u2589       | 12/41 [00:00<00:01, 22.09it/s]"
          ]
        },
        {
          "output_type": "stream",
          "name": "stderr",
          "text": [
            "\rFold 3 Epoch 6:  37%|\u2588\u2588\u2588\u258b      | 15/41 [00:00<00:01, 22.37it/s]"
          ]
        },
        {
          "output_type": "stream",
          "name": "stdout",
          "text": [
            "Batch 10, elapsed: 0.5s\n"
          ]
        },
        {
          "output_type": "stream",
          "name": "stderr",
          "text": [
            "\rFold 3 Epoch 6:  44%|\u2588\u2588\u2588\u2588\u258d     | 18/41 [00:00<00:01, 22.33it/s]"
          ]
        },
        {
          "output_type": "stream",
          "name": "stderr",
          "text": [
            "\rFold 3 Epoch 6:  51%|\u2588\u2588\u2588\u2588\u2588     | 21/41 [00:00<00:00, 22.45it/s]"
          ]
        },
        {
          "output_type": "stream",
          "name": "stderr",
          "text": [
            "\rFold 3 Epoch 6:  59%|\u2588\u2588\u2588\u2588\u2588\u258a    | 24/41 [00:01<00:00, 22.58it/s]"
          ]
        },
        {
          "output_type": "stream",
          "name": "stdout",
          "text": [
            "Batch 20, elapsed: 0.9s\n"
          ]
        },
        {
          "output_type": "stream",
          "name": "stderr",
          "text": [
            "\rFold 3 Epoch 6:  66%|\u2588\u2588\u2588\u2588\u2588\u2588\u258c   | 27/41 [00:01<00:00, 22.82it/s]"
          ]
        },
        {
          "output_type": "stream",
          "name": "stderr",
          "text": [
            "\rFold 3 Epoch 6:  73%|\u2588\u2588\u2588\u2588\u2588\u2588\u2588\u258e  | 30/41 [00:01<00:00, 22.98it/s]"
          ]
        },
        {
          "output_type": "stream",
          "name": "stderr",
          "text": [
            "\rFold 3 Epoch 6:  80%|\u2588\u2588\u2588\u2588\u2588\u2588\u2588\u2588  | 33/41 [00:01<00:00, 22.68it/s]"
          ]
        },
        {
          "output_type": "stream",
          "name": "stdout",
          "text": [
            "Batch 30, elapsed: 1.4s\n"
          ]
        },
        {
          "output_type": "stream",
          "name": "stderr",
          "text": [
            "\rFold 3 Epoch 6:  88%|\u2588\u2588\u2588\u2588\u2588\u2588\u2588\u2588\u258a | 36/41 [00:01<00:00, 22.52it/s]"
          ]
        },
        {
          "output_type": "stream",
          "name": "stderr",
          "text": [
            "\rFold 3 Epoch 6:  95%|\u2588\u2588\u2588\u2588\u2588\u2588\u2588\u2588\u2588\u258c| 39/41 [00:01<00:00, 22.73it/s]"
          ]
        },
        {
          "output_type": "stream",
          "name": "stderr",
          "text": [
            "\rFold 3 Epoch 6: 100%|\u2588\u2588\u2588\u2588\u2588\u2588\u2588\u2588\u2588\u2588| 41/41 [00:01<00:00, 22.70it/s]"
          ]
        },
        {
          "output_type": "stream",
          "name": "stderr",
          "text": [
            "\n"
          ]
        },
        {
          "output_type": "stream",
          "name": "stdout",
          "text": [
            "Batch 40, elapsed: 1.8s\nFold 3 Epoch 6 train time: 1.8s\nFold 3 Epoch 6: Train 0.7299, Val 0.7103, val time: 0.2s\n"
          ]
        },
        {
          "output_type": "stream",
          "name": "stdout",
          "text": [
            "New best at epoch 6\n"
          ]
        },
        {
          "output_type": "stream",
          "name": "stderr",
          "text": [
            "\rFold 3 Epoch 7:   0%|          | 0/41 [00:00<?, ?it/s]"
          ]
        },
        {
          "output_type": "stream",
          "name": "stderr",
          "text": [
            "\rFold 3 Epoch 7:   7%|\u258b         | 3/41 [00:00<00:01, 23.64it/s]"
          ]
        },
        {
          "output_type": "stream",
          "name": "stdout",
          "text": [
            "Batch 0, elapsed: 0.0s\n"
          ]
        },
        {
          "output_type": "stream",
          "name": "stderr",
          "text": [
            "\rFold 3 Epoch 7:  15%|\u2588\u258d        | 6/41 [00:00<00:01, 23.64it/s]"
          ]
        },
        {
          "output_type": "stream",
          "name": "stderr",
          "text": [
            "\rFold 3 Epoch 7:  22%|\u2588\u2588\u258f       | 9/41 [00:00<00:01, 23.04it/s]"
          ]
        },
        {
          "output_type": "stream",
          "name": "stderr",
          "text": [
            "\rFold 3 Epoch 7:  29%|\u2588\u2588\u2589       | 12/41 [00:00<00:01, 22.30it/s]"
          ]
        },
        {
          "output_type": "stream",
          "name": "stderr",
          "text": [
            "\rFold 3 Epoch 7:  37%|\u2588\u2588\u2588\u258b      | 15/41 [00:00<00:01, 22.04it/s]"
          ]
        },
        {
          "output_type": "stream",
          "name": "stdout",
          "text": [
            "Batch 10, elapsed: 0.5s\n"
          ]
        },
        {
          "output_type": "stream",
          "name": "stderr",
          "text": [
            "\rFold 3 Epoch 7:  44%|\u2588\u2588\u2588\u2588\u258d     | 18/41 [00:00<00:01, 22.38it/s]"
          ]
        },
        {
          "output_type": "stream",
          "name": "stderr",
          "text": [
            "\rFold 3 Epoch 7:  51%|\u2588\u2588\u2588\u2588\u2588     | 21/41 [00:00<00:00, 22.58it/s]"
          ]
        },
        {
          "output_type": "stream",
          "name": "stderr",
          "text": [
            "\rFold 3 Epoch 7:  59%|\u2588\u2588\u2588\u2588\u2588\u258a    | 24/41 [00:01<00:00, 22.62it/s]"
          ]
        },
        {
          "output_type": "stream",
          "name": "stdout",
          "text": [
            "Batch 20, elapsed: 0.9s\n"
          ]
        },
        {
          "output_type": "stream",
          "name": "stderr",
          "text": [
            "\rFold 3 Epoch 7:  66%|\u2588\u2588\u2588\u2588\u2588\u2588\u258c   | 27/41 [00:01<00:00, 22.56it/s]"
          ]
        },
        {
          "output_type": "stream",
          "name": "stderr",
          "text": [
            "\rFold 3 Epoch 7:  73%|\u2588\u2588\u2588\u2588\u2588\u2588\u2588\u258e  | 30/41 [00:01<00:00, 22.71it/s]"
          ]
        },
        {
          "output_type": "stream",
          "name": "stderr",
          "text": [
            "\rFold 3 Epoch 7:  80%|\u2588\u2588\u2588\u2588\u2588\u2588\u2588\u2588  | 33/41 [00:01<00:00, 22.30it/s]"
          ]
        },
        {
          "output_type": "stream",
          "name": "stdout",
          "text": [
            "Batch 30, elapsed: 1.4s\n"
          ]
        },
        {
          "output_type": "stream",
          "name": "stderr",
          "text": [
            "\rFold 3 Epoch 7:  88%|\u2588\u2588\u2588\u2588\u2588\u2588\u2588\u2588\u258a | 36/41 [00:01<00:00, 22.52it/s]"
          ]
        },
        {
          "output_type": "stream",
          "name": "stderr",
          "text": [
            "\rFold 3 Epoch 7:  95%|\u2588\u2588\u2588\u2588\u2588\u2588\u2588\u2588\u2588\u258c| 39/41 [00:01<00:00, 22.62it/s]"
          ]
        },
        {
          "output_type": "stream",
          "name": "stderr",
          "text": [
            "\rFold 3 Epoch 7: 100%|\u2588\u2588\u2588\u2588\u2588\u2588\u2588\u2588\u2588\u2588| 41/41 [00:01<00:00, 22.74it/s]"
          ]
        },
        {
          "output_type": "stream",
          "name": "stderr",
          "text": [
            "\n"
          ]
        },
        {
          "output_type": "stream",
          "name": "stdout",
          "text": [
            "Batch 40, elapsed: 1.8s\nFold 3 Epoch 7 train time: 1.8s\nFold 3 Epoch 7: Train 0.7074, Val 0.7091, val time: 0.2s\n"
          ]
        },
        {
          "output_type": "stream",
          "name": "stdout",
          "text": [
            "New best at epoch 7\n"
          ]
        },
        {
          "output_type": "stream",
          "name": "stderr",
          "text": [
            "\rFold 3 Epoch 8:   0%|          | 0/41 [00:00<?, ?it/s]"
          ]
        },
        {
          "output_type": "stream",
          "name": "stderr",
          "text": [
            "\rFold 3 Epoch 8:   7%|\u258b         | 3/41 [00:00<00:01, 22.62it/s]"
          ]
        },
        {
          "output_type": "stream",
          "name": "stdout",
          "text": [
            "Batch 0, elapsed: 0.0s\n"
          ]
        },
        {
          "output_type": "stream",
          "name": "stderr",
          "text": [
            "\rFold 3 Epoch 8:  15%|\u2588\u258d        | 6/41 [00:00<00:01, 22.88it/s]"
          ]
        },
        {
          "output_type": "stream",
          "name": "stderr",
          "text": [
            "\rFold 3 Epoch 8:  22%|\u2588\u2588\u258f       | 9/41 [00:00<00:01, 22.72it/s]"
          ]
        },
        {
          "output_type": "stream",
          "name": "stderr",
          "text": [
            "\rFold 3 Epoch 8:  29%|\u2588\u2588\u2589       | 12/41 [00:00<00:01, 22.96it/s]"
          ]
        },
        {
          "output_type": "stream",
          "name": "stderr",
          "text": [
            "\rFold 3 Epoch 8:  37%|\u2588\u2588\u2588\u258b      | 15/41 [00:00<00:01, 22.69it/s]"
          ]
        },
        {
          "output_type": "stream",
          "name": "stdout",
          "text": [
            "Batch 10, elapsed: 0.5s\n"
          ]
        },
        {
          "output_type": "stream",
          "name": "stderr",
          "text": [
            "\rFold 3 Epoch 8:  44%|\u2588\u2588\u2588\u2588\u258d     | 18/41 [00:00<00:01, 22.61it/s]"
          ]
        },
        {
          "output_type": "stream",
          "name": "stderr",
          "text": [
            "\rFold 3 Epoch 8:  51%|\u2588\u2588\u2588\u2588\u2588     | 21/41 [00:00<00:00, 22.36it/s]"
          ]
        },
        {
          "output_type": "stream",
          "name": "stderr",
          "text": [
            "\rFold 3 Epoch 8:  59%|\u2588\u2588\u2588\u2588\u2588\u258a    | 24/41 [00:01<00:00, 22.34it/s]"
          ]
        },
        {
          "output_type": "stream",
          "name": "stdout",
          "text": [
            "Batch 20, elapsed: 0.9s\n"
          ]
        },
        {
          "output_type": "stream",
          "name": "stderr",
          "text": [
            "\rFold 3 Epoch 8:  66%|\u2588\u2588\u2588\u2588\u2588\u2588\u258c   | 27/41 [00:01<00:00, 22.57it/s]"
          ]
        },
        {
          "output_type": "stream",
          "name": "stderr",
          "text": [
            "\rFold 3 Epoch 8:  73%|\u2588\u2588\u2588\u2588\u2588\u2588\u2588\u258e  | 30/41 [00:01<00:00, 22.60it/s]"
          ]
        },
        {
          "output_type": "stream",
          "name": "stderr",
          "text": [
            "\rFold 3 Epoch 8:  80%|\u2588\u2588\u2588\u2588\u2588\u2588\u2588\u2588  | 33/41 [00:01<00:00, 22.47it/s]"
          ]
        },
        {
          "output_type": "stream",
          "name": "stdout",
          "text": [
            "Batch 30, elapsed: 1.4s\n"
          ]
        },
        {
          "output_type": "stream",
          "name": "stderr",
          "text": [
            "\rFold 3 Epoch 8:  88%|\u2588\u2588\u2588\u2588\u2588\u2588\u2588\u2588\u258a | 36/41 [00:01<00:00, 22.79it/s]"
          ]
        },
        {
          "output_type": "stream",
          "name": "stderr",
          "text": [
            "\rFold 3 Epoch 8:  95%|\u2588\u2588\u2588\u2588\u2588\u2588\u2588\u2588\u2588\u258c| 39/41 [00:01<00:00, 22.81it/s]"
          ]
        },
        {
          "output_type": "stream",
          "name": "stderr",
          "text": [
            "\rFold 3 Epoch 8: 100%|\u2588\u2588\u2588\u2588\u2588\u2588\u2588\u2588\u2588\u2588| 41/41 [00:01<00:00, 22.83it/s]"
          ]
        },
        {
          "output_type": "stream",
          "name": "stderr",
          "text": [
            "\n"
          ]
        },
        {
          "output_type": "stream",
          "name": "stdout",
          "text": [
            "Batch 40, elapsed: 1.8s\nFold 3 Epoch 8 train time: 1.8s\nFold 3 Epoch 8: Train 0.7284, Val 0.7022, val time: 0.2s\n"
          ]
        },
        {
          "output_type": "stream",
          "name": "stdout",
          "text": [
            "New best at epoch 8\n"
          ]
        },
        {
          "output_type": "stream",
          "name": "stderr",
          "text": [
            "\rFold 3 Epoch 9:   0%|          | 0/41 [00:00<?, ?it/s]"
          ]
        },
        {
          "output_type": "stream",
          "name": "stderr",
          "text": [
            "\rFold 3 Epoch 9:   7%|\u258b         | 3/41 [00:00<00:01, 22.02it/s]"
          ]
        },
        {
          "output_type": "stream",
          "name": "stdout",
          "text": [
            "Batch 0, elapsed: 0.0s\n"
          ]
        },
        {
          "output_type": "stream",
          "name": "stderr",
          "text": [
            "\rFold 3 Epoch 9:  15%|\u2588\u258d        | 6/41 [00:00<00:01, 22.18it/s]"
          ]
        },
        {
          "output_type": "stream",
          "name": "stderr",
          "text": [
            "\rFold 3 Epoch 9:  22%|\u2588\u2588\u258f       | 9/41 [00:00<00:01, 22.66it/s]"
          ]
        },
        {
          "output_type": "stream",
          "name": "stderr",
          "text": [
            "\rFold 3 Epoch 9:  29%|\u2588\u2588\u2589       | 12/41 [00:00<00:01, 22.50it/s]"
          ]
        },
        {
          "output_type": "stream",
          "name": "stderr",
          "text": [
            "\rFold 3 Epoch 9:  37%|\u2588\u2588\u2588\u258b      | 15/41 [00:00<00:01, 22.50it/s]"
          ]
        },
        {
          "output_type": "stream",
          "name": "stdout",
          "text": [
            "Batch 10, elapsed: 0.5s\n"
          ]
        },
        {
          "output_type": "stream",
          "name": "stderr",
          "text": [
            "\rFold 3 Epoch 9:  44%|\u2588\u2588\u2588\u2588\u258d     | 18/41 [00:00<00:01, 22.64it/s]"
          ]
        },
        {
          "output_type": "stream",
          "name": "stderr",
          "text": [
            "\rFold 3 Epoch 9:  51%|\u2588\u2588\u2588\u2588\u2588     | 21/41 [00:00<00:00, 22.60it/s]"
          ]
        },
        {
          "output_type": "stream",
          "name": "stderr",
          "text": [
            "\rFold 3 Epoch 9:  59%|\u2588\u2588\u2588\u2588\u2588\u258a    | 24/41 [00:01<00:00, 22.71it/s]"
          ]
        },
        {
          "output_type": "stream",
          "name": "stdout",
          "text": [
            "Batch 20, elapsed: 0.9s\n"
          ]
        },
        {
          "output_type": "stream",
          "name": "stderr",
          "text": [
            "\rFold 3 Epoch 9:  66%|\u2588\u2588\u2588\u2588\u2588\u2588\u258c   | 27/41 [00:01<00:00, 22.82it/s]"
          ]
        },
        {
          "output_type": "stream",
          "name": "stderr",
          "text": [
            "\rFold 3 Epoch 9:  73%|\u2588\u2588\u2588\u2588\u2588\u2588\u2588\u258e  | 30/41 [00:01<00:00, 22.82it/s]"
          ]
        },
        {
          "output_type": "stream",
          "name": "stderr",
          "text": [
            "\rFold 3 Epoch 9:  80%|\u2588\u2588\u2588\u2588\u2588\u2588\u2588\u2588  | 33/41 [00:01<00:00, 22.84it/s]"
          ]
        },
        {
          "output_type": "stream",
          "name": "stdout",
          "text": [
            "Batch 30, elapsed: 1.4s\n"
          ]
        },
        {
          "output_type": "stream",
          "name": "stderr",
          "text": [
            "\rFold 3 Epoch 9:  88%|\u2588\u2588\u2588\u2588\u2588\u2588\u2588\u2588\u258a | 36/41 [00:01<00:00, 22.78it/s]"
          ]
        },
        {
          "output_type": "stream",
          "name": "stderr",
          "text": [
            "\rFold 3 Epoch 9:  95%|\u2588\u2588\u2588\u2588\u2588\u2588\u2588\u2588\u2588\u258c| 39/41 [00:01<00:00, 22.60it/s]"
          ]
        },
        {
          "output_type": "stream",
          "name": "stderr",
          "text": [
            "\rFold 3 Epoch 9: 100%|\u2588\u2588\u2588\u2588\u2588\u2588\u2588\u2588\u2588\u2588| 41/41 [00:01<00:00, 22.83it/s]"
          ]
        },
        {
          "output_type": "stream",
          "name": "stderr",
          "text": [
            "\n"
          ]
        },
        {
          "output_type": "stream",
          "name": "stdout",
          "text": [
            "Batch 40, elapsed: 1.8s\nFold 3 Epoch 9 train time: 1.8s\nFold 3 Epoch 9: Train 0.7065, Val 0.7210, val time: 0.2s\n"
          ]
        },
        {
          "output_type": "stream",
          "name": "stderr",
          "text": [
            "\rFold 3 Epoch 10:   0%|          | 0/41 [00:00<?, ?it/s]"
          ]
        },
        {
          "output_type": "stream",
          "name": "stderr",
          "text": [
            "\rFold 3 Epoch 10:   7%|\u258b         | 3/41 [00:00<00:01, 22.80it/s]"
          ]
        },
        {
          "output_type": "stream",
          "name": "stdout",
          "text": [
            "Batch 0, elapsed: 0.0s\n"
          ]
        },
        {
          "output_type": "stream",
          "name": "stderr",
          "text": [
            "\rFold 3 Epoch 10:  15%|\u2588\u258d        | 6/41 [00:00<00:01, 23.06it/s]"
          ]
        },
        {
          "output_type": "stream",
          "name": "stderr",
          "text": [
            "\rFold 3 Epoch 10:  22%|\u2588\u2588\u258f       | 9/41 [00:00<00:01, 23.02it/s]"
          ]
        },
        {
          "output_type": "stream",
          "name": "stderr",
          "text": [
            "\rFold 3 Epoch 10:  29%|\u2588\u2588\u2589       | 12/41 [00:00<00:01, 22.77it/s]"
          ]
        },
        {
          "output_type": "stream",
          "name": "stderr",
          "text": [
            "\rFold 3 Epoch 10:  37%|\u2588\u2588\u2588\u258b      | 15/41 [00:00<00:01, 22.89it/s]"
          ]
        },
        {
          "output_type": "stream",
          "name": "stdout",
          "text": [
            "Batch 10, elapsed: 0.5s\n"
          ]
        },
        {
          "output_type": "stream",
          "name": "stderr",
          "text": [
            "\rFold 3 Epoch 10:  44%|\u2588\u2588\u2588\u2588\u258d     | 18/41 [00:00<00:01, 22.79it/s]"
          ]
        },
        {
          "output_type": "stream",
          "name": "stderr",
          "text": [
            "\rFold 3 Epoch 10:  51%|\u2588\u2588\u2588\u2588\u2588     | 21/41 [00:00<00:00, 22.77it/s]"
          ]
        },
        {
          "output_type": "stream",
          "name": "stderr",
          "text": [
            "\rFold 3 Epoch 10:  59%|\u2588\u2588\u2588\u2588\u2588\u258a    | 24/41 [00:01<00:00, 22.86it/s]"
          ]
        },
        {
          "output_type": "stream",
          "name": "stdout",
          "text": [
            "Batch 20, elapsed: 0.9s\n"
          ]
        },
        {
          "output_type": "stream",
          "name": "stderr",
          "text": [
            "\rFold 3 Epoch 10:  66%|\u2588\u2588\u2588\u2588\u2588\u2588\u258c   | 27/41 [00:01<00:00, 22.88it/s]"
          ]
        },
        {
          "output_type": "stream",
          "name": "stderr",
          "text": [
            "\rFold 3 Epoch 10:  73%|\u2588\u2588\u2588\u2588\u2588\u2588\u2588\u258e  | 30/41 [00:01<00:00, 23.11it/s]"
          ]
        },
        {
          "output_type": "stream",
          "name": "stderr",
          "text": [
            "\rFold 3 Epoch 10:  80%|\u2588\u2588\u2588\u2588\u2588\u2588\u2588\u2588  | 33/41 [00:01<00:00, 22.97it/s]"
          ]
        },
        {
          "output_type": "stream",
          "name": "stdout",
          "text": [
            "Batch 30, elapsed: 1.4s\n"
          ]
        },
        {
          "output_type": "stream",
          "name": "stderr",
          "text": [
            "\rFold 3 Epoch 10:  88%|\u2588\u2588\u2588\u2588\u2588\u2588\u2588\u2588\u258a | 36/41 [00:01<00:00, 22.87it/s]"
          ]
        },
        {
          "output_type": "stream",
          "name": "stderr",
          "text": [
            "\rFold 3 Epoch 10:  95%|\u2588\u2588\u2588\u2588\u2588\u2588\u2588\u2588\u2588\u258c| 39/41 [00:01<00:00, 22.89it/s]"
          ]
        },
        {
          "output_type": "stream",
          "name": "stderr",
          "text": [
            "\rFold 3 Epoch 10: 100%|\u2588\u2588\u2588\u2588\u2588\u2588\u2588\u2588\u2588\u2588| 41/41 [00:01<00:00, 23.07it/s]"
          ]
        },
        {
          "output_type": "stream",
          "name": "stderr",
          "text": [
            "\n"
          ]
        },
        {
          "output_type": "stream",
          "name": "stdout",
          "text": [
            "Batch 40, elapsed: 1.8s\nFold 3 Epoch 10 train time: 1.8s\nFold 3 Epoch 10: Train 0.7210, Val 0.7135, val time: 0.2s\n"
          ]
        },
        {
          "output_type": "stream",
          "name": "stderr",
          "text": [
            "\rFold 3 Epoch 11:   0%|          | 0/41 [00:00<?, ?it/s]"
          ]
        },
        {
          "output_type": "stream",
          "name": "stderr",
          "text": [
            "\rFold 3 Epoch 11:   7%|\u258b         | 3/41 [00:00<00:01, 23.33it/s]"
          ]
        },
        {
          "output_type": "stream",
          "name": "stdout",
          "text": [
            "Batch 0, elapsed: 0.0s\n"
          ]
        },
        {
          "output_type": "stream",
          "name": "stderr",
          "text": [
            "\rFold 3 Epoch 11:  15%|\u2588\u258d        | 6/41 [00:00<00:01, 22.63it/s]"
          ]
        },
        {
          "output_type": "stream",
          "name": "stderr",
          "text": [
            "\rFold 3 Epoch 11:  22%|\u2588\u2588\u258f       | 9/41 [00:00<00:01, 22.83it/s]"
          ]
        },
        {
          "output_type": "stream",
          "name": "stderr",
          "text": [
            "\rFold 3 Epoch 11:  29%|\u2588\u2588\u2589       | 12/41 [00:00<00:01, 22.95it/s]"
          ]
        },
        {
          "output_type": "stream",
          "name": "stderr",
          "text": [
            "\rFold 3 Epoch 11:  37%|\u2588\u2588\u2588\u258b      | 15/41 [00:00<00:01, 22.67it/s]"
          ]
        },
        {
          "output_type": "stream",
          "name": "stdout",
          "text": [
            "Batch 10, elapsed: 0.5s\n"
          ]
        },
        {
          "output_type": "stream",
          "name": "stderr",
          "text": [
            "\rFold 3 Epoch 11:  44%|\u2588\u2588\u2588\u2588\u258d     | 18/41 [00:00<00:01, 22.81it/s]"
          ]
        },
        {
          "output_type": "stream",
          "name": "stderr",
          "text": [
            "\rFold 3 Epoch 11:  51%|\u2588\u2588\u2588\u2588\u2588     | 21/41 [00:00<00:00, 22.86it/s]"
          ]
        },
        {
          "output_type": "stream",
          "name": "stderr",
          "text": [
            "\rFold 3 Epoch 11:  59%|\u2588\u2588\u2588\u2588\u2588\u258a    | 24/41 [00:01<00:00, 22.93it/s]"
          ]
        },
        {
          "output_type": "stream",
          "name": "stdout",
          "text": [
            "Batch 20, elapsed: 0.9s\n"
          ]
        },
        {
          "output_type": "stream",
          "name": "stderr",
          "text": [
            "\rFold 3 Epoch 11:  66%|\u2588\u2588\u2588\u2588\u2588\u2588\u258c   | 27/41 [00:01<00:00, 22.86it/s]"
          ]
        },
        {
          "output_type": "stream",
          "name": "stderr",
          "text": [
            "\rFold 3 Epoch 11:  73%|\u2588\u2588\u2588\u2588\u2588\u2588\u2588\u258e  | 30/41 [00:01<00:00, 22.75it/s]"
          ]
        },
        {
          "output_type": "stream",
          "name": "stderr",
          "text": [
            "\rFold 3 Epoch 11:  80%|\u2588\u2588\u2588\u2588\u2588\u2588\u2588\u2588  | 33/41 [00:01<00:00, 22.58it/s]"
          ]
        },
        {
          "output_type": "stream",
          "name": "stdout",
          "text": [
            "Batch 30, elapsed: 1.4s\n"
          ]
        },
        {
          "output_type": "stream",
          "name": "stderr",
          "text": [
            "\rFold 3 Epoch 11:  88%|\u2588\u2588\u2588\u2588\u2588\u2588\u2588\u2588\u258a | 36/41 [00:01<00:00, 22.68it/s]"
          ]
        },
        {
          "output_type": "stream",
          "name": "stderr",
          "text": [
            "\rFold 3 Epoch 11:  95%|\u2588\u2588\u2588\u2588\u2588\u2588\u2588\u2588\u2588\u258c| 39/41 [00:01<00:00, 22.67it/s]"
          ]
        },
        {
          "output_type": "stream",
          "name": "stderr",
          "text": [
            "\rFold 3 Epoch 11: 100%|\u2588\u2588\u2588\u2588\u2588\u2588\u2588\u2588\u2588\u2588| 41/41 [00:01<00:00, 22.96it/s]"
          ]
        },
        {
          "output_type": "stream",
          "name": "stderr",
          "text": [
            "\n"
          ]
        },
        {
          "output_type": "stream",
          "name": "stdout",
          "text": [
            "Batch 40, elapsed: 1.8s\nFold 3 Epoch 11 train time: 1.8s\nFold 3 Epoch 11: Train 0.7083, Val 0.7093, val time: 0.2s\n"
          ]
        },
        {
          "output_type": "stream",
          "name": "stderr",
          "text": [
            "\rFold 3 Epoch 12:   0%|          | 0/41 [00:00<?, ?it/s]"
          ]
        },
        {
          "output_type": "stream",
          "name": "stderr",
          "text": [
            "\rFold 3 Epoch 12:   7%|\u258b         | 3/41 [00:00<00:01, 23.62it/s]"
          ]
        },
        {
          "output_type": "stream",
          "name": "stdout",
          "text": [
            "Batch 0, elapsed: 0.0s\n"
          ]
        },
        {
          "output_type": "stream",
          "name": "stderr",
          "text": [
            "\rFold 3 Epoch 12:  15%|\u2588\u258d        | 6/41 [00:00<00:01, 22.89it/s]"
          ]
        },
        {
          "output_type": "stream",
          "name": "stderr",
          "text": [
            "\rFold 3 Epoch 12:  22%|\u2588\u2588\u258f       | 9/41 [00:00<00:01, 22.98it/s]"
          ]
        },
        {
          "output_type": "stream",
          "name": "stderr",
          "text": [
            "\rFold 3 Epoch 12:  29%|\u2588\u2588\u2589       | 12/41 [00:00<00:01, 23.16it/s]"
          ]
        },
        {
          "output_type": "stream",
          "name": "stderr",
          "text": [
            "\rFold 3 Epoch 12:  37%|\u2588\u2588\u2588\u258b      | 15/41 [00:00<00:01, 23.15it/s]"
          ]
        },
        {
          "output_type": "stream",
          "name": "stdout",
          "text": [
            "Batch 10, elapsed: 0.5s\n"
          ]
        },
        {
          "output_type": "stream",
          "name": "stderr",
          "text": [
            "\rFold 3 Epoch 12:  44%|\u2588\u2588\u2588\u2588\u258d     | 18/41 [00:00<00:00, 23.24it/s]"
          ]
        },
        {
          "output_type": "stream",
          "name": "stderr",
          "text": [
            "\rFold 3 Epoch 12:  51%|\u2588\u2588\u2588\u2588\u2588     | 21/41 [00:00<00:00, 23.06it/s]"
          ]
        },
        {
          "output_type": "stream",
          "name": "stderr",
          "text": [
            "\rFold 3 Epoch 12:  59%|\u2588\u2588\u2588\u2588\u2588\u258a    | 24/41 [00:01<00:00, 23.03it/s]"
          ]
        },
        {
          "output_type": "stream",
          "name": "stdout",
          "text": [
            "Batch 20, elapsed: 0.9s\n"
          ]
        },
        {
          "output_type": "stream",
          "name": "stderr",
          "text": [
            "\rFold 3 Epoch 12:  66%|\u2588\u2588\u2588\u2588\u2588\u2588\u258c   | 27/41 [00:01<00:00, 23.12it/s]"
          ]
        },
        {
          "output_type": "stream",
          "name": "stderr",
          "text": [
            "\rFold 3 Epoch 12:  73%|\u2588\u2588\u2588\u2588\u2588\u2588\u2588\u258e  | 30/41 [00:01<00:00, 22.91it/s]"
          ]
        },
        {
          "output_type": "stream",
          "name": "stderr",
          "text": [
            "\rFold 3 Epoch 12:  80%|\u2588\u2588\u2588\u2588\u2588\u2588\u2588\u2588  | 33/41 [00:01<00:00, 23.03it/s]"
          ]
        },
        {
          "output_type": "stream",
          "name": "stdout",
          "text": [
            "Batch 30, elapsed: 1.3s\n"
          ]
        },
        {
          "output_type": "stream",
          "name": "stderr",
          "text": [
            "\rFold 3 Epoch 12:  88%|\u2588\u2588\u2588\u2588\u2588\u2588\u2588\u2588\u258a | 36/41 [00:01<00:00, 22.68it/s]"
          ]
        },
        {
          "output_type": "stream",
          "name": "stderr",
          "text": [
            "\rFold 3 Epoch 12:  95%|\u2588\u2588\u2588\u2588\u2588\u2588\u2588\u2588\u2588\u258c| 39/41 [00:01<00:00, 22.91it/s]"
          ]
        },
        {
          "output_type": "stream",
          "name": "stderr",
          "text": [
            "\rFold 3 Epoch 12: 100%|\u2588\u2588\u2588\u2588\u2588\u2588\u2588\u2588\u2588\u2588| 41/41 [00:01<00:00, 23.18it/s]"
          ]
        },
        {
          "output_type": "stream",
          "name": "stderr",
          "text": [
            "\n"
          ]
        },
        {
          "output_type": "stream",
          "name": "stdout",
          "text": [
            "Batch 40, elapsed: 1.8s\nFold 3 Epoch 12 train time: 1.8s\nFold 3 Epoch 12: Train 0.6955, Val 0.7127, val time: 0.2s\n"
          ]
        },
        {
          "output_type": "stream",
          "name": "stderr",
          "text": [
            "\rFold 3 Epoch 13:   0%|          | 0/41 [00:00<?, ?it/s]"
          ]
        },
        {
          "output_type": "stream",
          "name": "stderr",
          "text": [
            "\rFold 3 Epoch 13:   7%|\u258b         | 3/41 [00:00<00:01, 23.33it/s]"
          ]
        },
        {
          "output_type": "stream",
          "name": "stdout",
          "text": [
            "Batch 0, elapsed: 0.0s\n"
          ]
        },
        {
          "output_type": "stream",
          "name": "stderr",
          "text": [
            "\rFold 3 Epoch 13:  15%|\u2588\u258d        | 6/41 [00:00<00:01, 23.19it/s]"
          ]
        },
        {
          "output_type": "stream",
          "name": "stderr",
          "text": [
            "\rFold 3 Epoch 13:  22%|\u2588\u2588\u258f       | 9/41 [00:00<00:01, 23.08it/s]"
          ]
        },
        {
          "output_type": "stream",
          "name": "stderr",
          "text": [
            "\rFold 3 Epoch 13:  29%|\u2588\u2588\u2589       | 12/41 [00:00<00:01, 23.27it/s]"
          ]
        },
        {
          "output_type": "stream",
          "name": "stderr",
          "text": [
            "\rFold 3 Epoch 13:  37%|\u2588\u2588\u2588\u258b      | 15/41 [00:00<00:01, 23.33it/s]"
          ]
        },
        {
          "output_type": "stream",
          "name": "stdout",
          "text": [
            "Batch 10, elapsed: 0.5s\n"
          ]
        },
        {
          "output_type": "stream",
          "name": "stderr",
          "text": [
            "\rFold 3 Epoch 13:  44%|\u2588\u2588\u2588\u2588\u258d     | 18/41 [00:00<00:01, 22.99it/s]"
          ]
        },
        {
          "output_type": "stream",
          "name": "stderr",
          "text": [
            "\rFold 3 Epoch 13:  51%|\u2588\u2588\u2588\u2588\u2588     | 21/41 [00:00<00:00, 23.05it/s]"
          ]
        },
        {
          "output_type": "stream",
          "name": "stderr",
          "text": [
            "\rFold 3 Epoch 13:  59%|\u2588\u2588\u2588\u2588\u2588\u258a    | 24/41 [00:01<00:00, 23.15it/s]"
          ]
        },
        {
          "output_type": "stream",
          "name": "stdout",
          "text": [
            "Batch 20, elapsed: 0.9s\n"
          ]
        },
        {
          "output_type": "stream",
          "name": "stderr",
          "text": [
            "\rFold 3 Epoch 13:  66%|\u2588\u2588\u2588\u2588\u2588\u2588\u258c   | 27/41 [00:01<00:00, 23.11it/s]"
          ]
        },
        {
          "output_type": "stream",
          "name": "stderr",
          "text": [
            "\rFold 3 Epoch 13:  73%|\u2588\u2588\u2588\u2588\u2588\u2588\u2588\u258e  | 30/41 [00:01<00:00, 23.25it/s]"
          ]
        },
        {
          "output_type": "stream",
          "name": "stderr",
          "text": [
            "\rFold 3 Epoch 13:  80%|\u2588\u2588\u2588\u2588\u2588\u2588\u2588\u2588  | 33/41 [00:01<00:00, 23.34it/s]"
          ]
        },
        {
          "output_type": "stream",
          "name": "stdout",
          "text": [
            "Batch 30, elapsed: 1.3s\n"
          ]
        },
        {
          "output_type": "stream",
          "name": "stderr",
          "text": [
            "\rFold 3 Epoch 13:  88%|\u2588\u2588\u2588\u2588\u2588\u2588\u2588\u2588\u258a | 36/41 [00:01<00:00, 23.34it/s]"
          ]
        },
        {
          "output_type": "stream",
          "name": "stderr",
          "text": [
            "\rFold 3 Epoch 13:  95%|\u2588\u2588\u2588\u2588\u2588\u2588\u2588\u2588\u2588\u258c| 39/41 [00:01<00:00, 23.22it/s]"
          ]
        },
        {
          "output_type": "stream",
          "name": "stderr",
          "text": [
            "\rFold 3 Epoch 13: 100%|\u2588\u2588\u2588\u2588\u2588\u2588\u2588\u2588\u2588\u2588| 41/41 [00:01<00:00, 23.35it/s]"
          ]
        },
        {
          "output_type": "stream",
          "name": "stderr",
          "text": [
            "\n"
          ]
        },
        {
          "output_type": "stream",
          "name": "stdout",
          "text": [
            "Batch 40, elapsed: 1.8s\nFold 3 Epoch 13 train time: 1.8s\nFold 3 Epoch 13: Train 0.7045, Val 0.7146, val time: 0.2s\nEarly stop at epoch 13\nFold 3 best val loss: 0.7022\n"
          ]
        },
        {
          "output_type": "stream",
          "name": "stdout",
          "text": [
            "Fold 4 pos_weight: [3. 3. 3. 3. 3. 3. 3.]\nFold 4 GPU memory before model: 0.1GB\n"
          ]
        },
        {
          "output_type": "stream",
          "name": "stderr",
          "text": [
            "\rFold 4 Epoch 1:   0%|          | 0/41 [00:00<?, ?it/s]"
          ]
        },
        {
          "output_type": "stream",
          "name": "stderr",
          "text": [
            "\rFold 4 Epoch 1:   7%|\u258b         | 3/41 [00:00<00:01, 23.66it/s]"
          ]
        },
        {
          "output_type": "stream",
          "name": "stdout",
          "text": [
            "Batch 0, elapsed: 0.0s\n"
          ]
        },
        {
          "output_type": "stream",
          "name": "stderr",
          "text": [
            "\rFold 4 Epoch 1:  15%|\u2588\u258d        | 6/41 [00:00<00:01, 23.03it/s]"
          ]
        },
        {
          "output_type": "stream",
          "name": "stderr",
          "text": [
            "\rFold 4 Epoch 1:  22%|\u2588\u2588\u258f       | 9/41 [00:00<00:01, 23.63it/s]"
          ]
        },
        {
          "output_type": "stream",
          "name": "stderr",
          "text": [
            "\rFold 4 Epoch 1:  29%|\u2588\u2588\u2589       | 12/41 [00:00<00:01, 23.63it/s]"
          ]
        },
        {
          "output_type": "stream",
          "name": "stderr",
          "text": [
            "\rFold 4 Epoch 1:  37%|\u2588\u2588\u2588\u258b      | 15/41 [00:00<00:01, 23.52it/s]"
          ]
        },
        {
          "output_type": "stream",
          "name": "stdout",
          "text": [
            "Batch 10, elapsed: 0.5s\n"
          ]
        },
        {
          "output_type": "stream",
          "name": "stderr",
          "text": [
            "\rFold 4 Epoch 1:  44%|\u2588\u2588\u2588\u2588\u258d     | 18/41 [00:00<00:00, 23.76it/s]"
          ]
        },
        {
          "output_type": "stream",
          "name": "stderr",
          "text": [
            "\rFold 4 Epoch 1:  51%|\u2588\u2588\u2588\u2588\u2588     | 21/41 [00:00<00:00, 23.78it/s]"
          ]
        },
        {
          "output_type": "stream",
          "name": "stderr",
          "text": [
            "\rFold 4 Epoch 1:  59%|\u2588\u2588\u2588\u2588\u2588\u258a    | 24/41 [00:01<00:00, 23.60it/s]"
          ]
        },
        {
          "output_type": "stream",
          "name": "stdout",
          "text": [
            "Batch 20, elapsed: 0.9s\n"
          ]
        },
        {
          "output_type": "stream",
          "name": "stderr",
          "text": [
            "\rFold 4 Epoch 1:  66%|\u2588\u2588\u2588\u2588\u2588\u2588\u258c   | 27/41 [00:01<00:00, 23.68it/s]"
          ]
        },
        {
          "output_type": "stream",
          "name": "stderr",
          "text": [
            "\rFold 4 Epoch 1:  73%|\u2588\u2588\u2588\u2588\u2588\u2588\u2588\u258e  | 30/41 [00:01<00:00, 23.28it/s]"
          ]
        },
        {
          "output_type": "stream",
          "name": "stderr",
          "text": [
            "\rFold 4 Epoch 1:  80%|\u2588\u2588\u2588\u2588\u2588\u2588\u2588\u2588  | 33/41 [00:01<00:00, 23.16it/s]"
          ]
        },
        {
          "output_type": "stream",
          "name": "stdout",
          "text": [
            "Batch 30, elapsed: 1.3s\n"
          ]
        },
        {
          "output_type": "stream",
          "name": "stderr",
          "text": [
            "\rFold 4 Epoch 1:  88%|\u2588\u2588\u2588\u2588\u2588\u2588\u2588\u2588\u258a | 36/41 [00:01<00:00, 23.09it/s]"
          ]
        },
        {
          "output_type": "stream",
          "name": "stderr",
          "text": [
            "\rFold 4 Epoch 1:  95%|\u2588\u2588\u2588\u2588\u2588\u2588\u2588\u2588\u2588\u258c| 39/41 [00:01<00:00, 23.29it/s]"
          ]
        },
        {
          "output_type": "stream",
          "name": "stderr",
          "text": [
            "\rFold 4 Epoch 1: 100%|\u2588\u2588\u2588\u2588\u2588\u2588\u2588\u2588\u2588\u2588| 41/41 [00:01<00:00, 23.56it/s]"
          ]
        },
        {
          "output_type": "stream",
          "name": "stderr",
          "text": [
            "\n"
          ]
        },
        {
          "output_type": "stream",
          "name": "stdout",
          "text": [
            "Batch 40, elapsed: 1.7s\nFold 4 Epoch 1 train time: 1.7s\nFold 4 Epoch 1: Train 0.8943, Val 1.0990, val time: 0.2s\n"
          ]
        },
        {
          "output_type": "stream",
          "name": "stdout",
          "text": [
            "New best at epoch 1\n"
          ]
        },
        {
          "output_type": "stream",
          "name": "stderr",
          "text": [
            "\rFold 4 Epoch 2:   0%|          | 0/41 [00:00<?, ?it/s]"
          ]
        },
        {
          "output_type": "stream",
          "name": "stderr",
          "text": [
            "\rFold 4 Epoch 2:   7%|\u258b         | 3/41 [00:00<00:01, 23.28it/s]"
          ]
        },
        {
          "output_type": "stream",
          "name": "stdout",
          "text": [
            "Batch 0, elapsed: 0.0s\n"
          ]
        },
        {
          "output_type": "stream",
          "name": "stderr",
          "text": [
            "\rFold 4 Epoch 2:  15%|\u2588\u258d        | 6/41 [00:00<00:01, 23.04it/s]"
          ]
        },
        {
          "output_type": "stream",
          "name": "stderr",
          "text": [
            "\rFold 4 Epoch 2:  22%|\u2588\u2588\u258f       | 9/41 [00:00<00:01, 23.15it/s]"
          ]
        },
        {
          "output_type": "stream",
          "name": "stderr",
          "text": [
            "\rFold 4 Epoch 2:  29%|\u2588\u2588\u2589       | 12/41 [00:00<00:01, 21.70it/s]"
          ]
        },
        {
          "output_type": "stream",
          "name": "stderr",
          "text": [
            "\rFold 4 Epoch 2:  37%|\u2588\u2588\u2588\u258b      | 15/41 [00:00<00:01, 22.19it/s]"
          ]
        },
        {
          "output_type": "stream",
          "name": "stdout",
          "text": [
            "Batch 10, elapsed: 0.5s\n"
          ]
        },
        {
          "output_type": "stream",
          "name": "stderr",
          "text": [
            "\rFold 4 Epoch 2:  44%|\u2588\u2588\u2588\u2588\u258d     | 18/41 [00:00<00:01, 22.48it/s]"
          ]
        },
        {
          "output_type": "stream",
          "name": "stderr",
          "text": [
            "\rFold 4 Epoch 2:  51%|\u2588\u2588\u2588\u2588\u2588     | 21/41 [00:00<00:00, 22.49it/s]"
          ]
        },
        {
          "output_type": "stream",
          "name": "stderr",
          "text": [
            "\rFold 4 Epoch 2:  59%|\u2588\u2588\u2588\u2588\u2588\u258a    | 24/41 [00:01<00:00, 22.59it/s]"
          ]
        },
        {
          "output_type": "stream",
          "name": "stdout",
          "text": [
            "Batch 20, elapsed: 0.9s\n"
          ]
        },
        {
          "output_type": "stream",
          "name": "stderr",
          "text": [
            "\rFold 4 Epoch 2:  66%|\u2588\u2588\u2588\u2588\u2588\u2588\u258c   | 27/41 [00:01<00:00, 22.77it/s]"
          ]
        },
        {
          "output_type": "stream",
          "name": "stderr",
          "text": [
            "\rFold 4 Epoch 2:  73%|\u2588\u2588\u2588\u2588\u2588\u2588\u2588\u258e  | 30/41 [00:01<00:00, 22.80it/s]"
          ]
        },
        {
          "output_type": "stream",
          "name": "stderr",
          "text": [
            "\rFold 4 Epoch 2:  80%|\u2588\u2588\u2588\u2588\u2588\u2588\u2588\u2588  | 33/41 [00:01<00:00, 22.77it/s]"
          ]
        },
        {
          "output_type": "stream",
          "name": "stdout",
          "text": [
            "Batch 30, elapsed: 1.4s\n"
          ]
        },
        {
          "output_type": "stream",
          "name": "stderr",
          "text": [
            "\rFold 4 Epoch 2:  88%|\u2588\u2588\u2588\u2588\u2588\u2588\u2588\u2588\u258a | 36/41 [00:01<00:00, 22.84it/s]"
          ]
        },
        {
          "output_type": "stream",
          "name": "stderr",
          "text": [
            "\rFold 4 Epoch 2:  95%|\u2588\u2588\u2588\u2588\u2588\u2588\u2588\u2588\u2588\u258c| 39/41 [00:01<00:00, 22.83it/s]"
          ]
        },
        {
          "output_type": "stream",
          "name": "stderr",
          "text": [
            "\rFold 4 Epoch 2: 100%|\u2588\u2588\u2588\u2588\u2588\u2588\u2588\u2588\u2588\u2588| 41/41 [00:01<00:00, 22.84it/s]"
          ]
        },
        {
          "output_type": "stream",
          "name": "stderr",
          "text": [
            "\n"
          ]
        },
        {
          "output_type": "stream",
          "name": "stdout",
          "text": [
            "Batch 40, elapsed: 1.8s\nFold 4 Epoch 2 train time: 1.8s\nFold 4 Epoch 2: Train 0.8624, Val 0.7354, val time: 0.2s\n"
          ]
        },
        {
          "output_type": "stream",
          "name": "stdout",
          "text": [
            "New best at epoch 2\n"
          ]
        },
        {
          "output_type": "stream",
          "name": "stderr",
          "text": [
            "\rFold 4 Epoch 3:   0%|          | 0/41 [00:00<?, ?it/s]"
          ]
        },
        {
          "output_type": "stream",
          "name": "stderr",
          "text": [
            "\rFold 4 Epoch 3:   7%|\u258b         | 3/41 [00:00<00:01, 23.20it/s]"
          ]
        },
        {
          "output_type": "stream",
          "name": "stdout",
          "text": [
            "Batch 0, elapsed: 0.0s\n"
          ]
        },
        {
          "output_type": "stream",
          "name": "stderr",
          "text": [
            "\rFold 4 Epoch 3:  15%|\u2588\u258d        | 6/41 [00:00<00:01, 23.57it/s]"
          ]
        },
        {
          "output_type": "stream",
          "name": "stderr",
          "text": [
            "\rFold 4 Epoch 3:  22%|\u2588\u2588\u258f       | 9/41 [00:00<00:01, 23.49it/s]"
          ]
        },
        {
          "output_type": "stream",
          "name": "stderr",
          "text": [
            "\rFold 4 Epoch 3:  29%|\u2588\u2588\u2589       | 12/41 [00:00<00:01, 23.58it/s]"
          ]
        },
        {
          "output_type": "stream",
          "name": "stderr",
          "text": [
            "\rFold 4 Epoch 3:  37%|\u2588\u2588\u2588\u258b      | 15/41 [00:00<00:01, 23.46it/s]"
          ]
        },
        {
          "output_type": "stream",
          "name": "stdout",
          "text": [
            "Batch 10, elapsed: 0.5s\n"
          ]
        },
        {
          "output_type": "stream",
          "name": "stderr",
          "text": [
            "\rFold 4 Epoch 3:  44%|\u2588\u2588\u2588\u2588\u258d     | 18/41 [00:00<00:00, 23.45it/s]"
          ]
        },
        {
          "output_type": "stream",
          "name": "stderr",
          "text": [
            "\rFold 4 Epoch 3:  51%|\u2588\u2588\u2588\u2588\u2588     | 21/41 [00:00<00:00, 22.84it/s]"
          ]
        },
        {
          "output_type": "stream",
          "name": "stderr",
          "text": [
            "\rFold 4 Epoch 3:  59%|\u2588\u2588\u2588\u2588\u2588\u258a    | 24/41 [00:01<00:00, 22.84it/s]"
          ]
        },
        {
          "output_type": "stream",
          "name": "stdout",
          "text": [
            "Batch 20, elapsed: 0.9s\n"
          ]
        },
        {
          "output_type": "stream",
          "name": "stderr",
          "text": [
            "\rFold 4 Epoch 3:  66%|\u2588\u2588\u2588\u2588\u2588\u2588\u258c   | 27/41 [00:01<00:00, 22.89it/s]"
          ]
        },
        {
          "output_type": "stream",
          "name": "stderr",
          "text": [
            "\rFold 4 Epoch 3:  73%|\u2588\u2588\u2588\u2588\u2588\u2588\u2588\u258e  | 30/41 [00:01<00:00, 22.73it/s]"
          ]
        },
        {
          "output_type": "stream",
          "name": "stderr",
          "text": [
            "\rFold 4 Epoch 3:  80%|\u2588\u2588\u2588\u2588\u2588\u2588\u2588\u2588  | 33/41 [00:01<00:00, 22.54it/s]"
          ]
        },
        {
          "output_type": "stream",
          "name": "stdout",
          "text": [
            "Batch 30, elapsed: 1.3s\n"
          ]
        },
        {
          "output_type": "stream",
          "name": "stderr",
          "text": [
            "\rFold 4 Epoch 3:  88%|\u2588\u2588\u2588\u2588\u2588\u2588\u2588\u2588\u258a | 36/41 [00:01<00:00, 22.50it/s]"
          ]
        },
        {
          "output_type": "stream",
          "name": "stderr",
          "text": [
            "\rFold 4 Epoch 3:  95%|\u2588\u2588\u2588\u2588\u2588\u2588\u2588\u2588\u2588\u258c| 39/41 [00:01<00:00, 22.65it/s]"
          ]
        },
        {
          "output_type": "stream",
          "name": "stderr",
          "text": [
            "\rFold 4 Epoch 3: 100%|\u2588\u2588\u2588\u2588\u2588\u2588\u2588\u2588\u2588\u2588| 41/41 [00:01<00:00, 23.03it/s]"
          ]
        },
        {
          "output_type": "stream",
          "name": "stderr",
          "text": [
            "\n"
          ]
        },
        {
          "output_type": "stream",
          "name": "stdout",
          "text": [
            "Batch 40, elapsed: 1.8s\nFold 4 Epoch 3 train time: 1.8s\nFold 4 Epoch 3: Train 0.7226, Val 0.7716, val time: 0.2s\n"
          ]
        },
        {
          "output_type": "stream",
          "name": "stderr",
          "text": [
            "\rFold 4 Epoch 4:   0%|          | 0/41 [00:00<?, ?it/s]"
          ]
        },
        {
          "output_type": "stream",
          "name": "stderr",
          "text": [
            "\rFold 4 Epoch 4:   7%|\u258b         | 3/41 [00:00<00:01, 22.86it/s]"
          ]
        },
        {
          "output_type": "stream",
          "name": "stdout",
          "text": [
            "Batch 0, elapsed: 0.0s\n"
          ]
        },
        {
          "output_type": "stream",
          "name": "stderr",
          "text": [
            "\rFold 4 Epoch 4:  15%|\u2588\u258d        | 6/41 [00:00<00:01, 23.42it/s]"
          ]
        },
        {
          "output_type": "stream",
          "name": "stderr",
          "text": [
            "\rFold 4 Epoch 4:  22%|\u2588\u2588\u258f       | 9/41 [00:00<00:01, 23.10it/s]"
          ]
        },
        {
          "output_type": "stream",
          "name": "stderr",
          "text": [
            "\rFold 4 Epoch 4:  29%|\u2588\u2588\u2589       | 12/41 [00:00<00:01, 22.93it/s]"
          ]
        },
        {
          "output_type": "stream",
          "name": "stderr",
          "text": [
            "\rFold 4 Epoch 4:  37%|\u2588\u2588\u2588\u258b      | 15/41 [00:00<00:01, 22.98it/s]"
          ]
        },
        {
          "output_type": "stream",
          "name": "stdout",
          "text": [
            "Batch 10, elapsed: 0.5s\n"
          ]
        },
        {
          "output_type": "stream",
          "name": "stderr",
          "text": [
            "\rFold 4 Epoch 4:  44%|\u2588\u2588\u2588\u2588\u258d     | 18/41 [00:00<00:01, 22.78it/s]"
          ]
        },
        {
          "output_type": "stream",
          "name": "stderr",
          "text": [
            "\rFold 4 Epoch 4:  51%|\u2588\u2588\u2588\u2588\u2588     | 21/41 [00:00<00:00, 22.88it/s]"
          ]
        },
        {
          "output_type": "stream",
          "name": "stderr",
          "text": [
            "\rFold 4 Epoch 4:  59%|\u2588\u2588\u2588\u2588\u2588\u258a    | 24/41 [00:01<00:00, 22.99it/s]"
          ]
        },
        {
          "output_type": "stream",
          "name": "stdout",
          "text": [
            "Batch 20, elapsed: 0.9s\n"
          ]
        },
        {
          "output_type": "stream",
          "name": "stderr",
          "text": [
            "\rFold 4 Epoch 4:  66%|\u2588\u2588\u2588\u2588\u2588\u2588\u258c   | 27/41 [00:01<00:00, 23.04it/s]"
          ]
        },
        {
          "output_type": "stream",
          "name": "stderr",
          "text": [
            "\rFold 4 Epoch 4:  73%|\u2588\u2588\u2588\u2588\u2588\u2588\u2588\u258e  | 30/41 [00:01<00:00, 23.08it/s]"
          ]
        },
        {
          "output_type": "stream",
          "name": "stderr",
          "text": [
            "\rFold 4 Epoch 4:  80%|\u2588\u2588\u2588\u2588\u2588\u2588\u2588\u2588  | 33/41 [00:01<00:00, 23.10it/s]"
          ]
        },
        {
          "output_type": "stream",
          "name": "stdout",
          "text": [
            "Batch 30, elapsed: 1.3s\n"
          ]
        },
        {
          "output_type": "stream",
          "name": "stderr",
          "text": [
            "\rFold 4 Epoch 4:  88%|\u2588\u2588\u2588\u2588\u2588\u2588\u2588\u2588\u258a | 36/41 [00:01<00:00, 22.95it/s]"
          ]
        },
        {
          "output_type": "stream",
          "name": "stderr",
          "text": [
            "\rFold 4 Epoch 4:  95%|\u2588\u2588\u2588\u2588\u2588\u2588\u2588\u2588\u2588\u258c| 39/41 [00:01<00:00, 22.94it/s]"
          ]
        },
        {
          "output_type": "stream",
          "name": "stderr",
          "text": [
            "\rFold 4 Epoch 4: 100%|\u2588\u2588\u2588\u2588\u2588\u2588\u2588\u2588\u2588\u2588| 41/41 [00:01<00:00, 23.16it/s]"
          ]
        },
        {
          "output_type": "stream",
          "name": "stderr",
          "text": [
            "\n"
          ]
        },
        {
          "output_type": "stream",
          "name": "stdout",
          "text": [
            "Batch 40, elapsed: 1.8s\nFold 4 Epoch 4 train time: 1.8s\nFold 4 Epoch 4: Train 0.7937, Val 0.7067, val time: 0.2s\n"
          ]
        },
        {
          "output_type": "stream",
          "name": "stdout",
          "text": [
            "New best at epoch 4\n"
          ]
        },
        {
          "output_type": "stream",
          "name": "stderr",
          "text": [
            "\rFold 4 Epoch 5:   0%|          | 0/41 [00:00<?, ?it/s]"
          ]
        },
        {
          "output_type": "stream",
          "name": "stderr",
          "text": [
            "\rFold 4 Epoch 5:   7%|\u258b         | 3/41 [00:00<00:01, 23.15it/s]"
          ]
        },
        {
          "output_type": "stream",
          "name": "stdout",
          "text": [
            "Batch 0, elapsed: 0.0s\n"
          ]
        },
        {
          "output_type": "stream",
          "name": "stderr",
          "text": [
            "\rFold 4 Epoch 5:  15%|\u2588\u258d        | 6/41 [00:00<00:01, 23.30it/s]"
          ]
        },
        {
          "output_type": "stream",
          "name": "stderr",
          "text": [
            "\rFold 4 Epoch 5:  22%|\u2588\u2588\u258f       | 9/41 [00:00<00:01, 23.70it/s]"
          ]
        },
        {
          "output_type": "stream",
          "name": "stderr",
          "text": [
            "\rFold 4 Epoch 5:  29%|\u2588\u2588\u2589       | 12/41 [00:00<00:01, 23.75it/s]"
          ]
        },
        {
          "output_type": "stream",
          "name": "stderr",
          "text": [
            "\rFold 4 Epoch 5:  37%|\u2588\u2588\u2588\u258b      | 15/41 [00:00<00:01, 23.75it/s]"
          ]
        },
        {
          "output_type": "stream",
          "name": "stdout",
          "text": [
            "Batch 10, elapsed: 0.5s\n"
          ]
        },
        {
          "output_type": "stream",
          "name": "stderr",
          "text": [
            "\rFold 4 Epoch 5:  44%|\u2588\u2588\u2588\u2588\u258d     | 18/41 [00:00<00:00, 23.78it/s]"
          ]
        },
        {
          "output_type": "stream",
          "name": "stderr",
          "text": [
            "\rFold 4 Epoch 5:  51%|\u2588\u2588\u2588\u2588\u2588     | 21/41 [00:00<00:00, 24.06it/s]"
          ]
        },
        {
          "output_type": "stream",
          "name": "stderr",
          "text": [
            "\rFold 4 Epoch 5:  59%|\u2588\u2588\u2588\u2588\u2588\u258a    | 24/41 [00:01<00:00, 23.95it/s]"
          ]
        },
        {
          "output_type": "stream",
          "name": "stdout",
          "text": [
            "Batch 20, elapsed: 0.9s\n"
          ]
        },
        {
          "output_type": "stream",
          "name": "stderr",
          "text": [
            "\rFold 4 Epoch 5:  66%|\u2588\u2588\u2588\u2588\u2588\u2588\u258c   | 27/41 [00:01<00:00, 23.79it/s]"
          ]
        },
        {
          "output_type": "stream",
          "name": "stderr",
          "text": [
            "\rFold 4 Epoch 5:  73%|\u2588\u2588\u2588\u2588\u2588\u2588\u2588\u258e  | 30/41 [00:01<00:00, 23.76it/s]"
          ]
        },
        {
          "output_type": "stream",
          "name": "stderr",
          "text": [
            "\rFold 4 Epoch 5:  80%|\u2588\u2588\u2588\u2588\u2588\u2588\u2588\u2588  | 33/41 [00:01<00:00, 23.59it/s]"
          ]
        },
        {
          "output_type": "stream",
          "name": "stdout",
          "text": [
            "Batch 30, elapsed: 1.3s\n"
          ]
        },
        {
          "output_type": "stream",
          "name": "stderr",
          "text": [
            "\rFold 4 Epoch 5:  88%|\u2588\u2588\u2588\u2588\u2588\u2588\u2588\u2588\u258a | 36/41 [00:01<00:00, 23.47it/s]"
          ]
        },
        {
          "output_type": "stream",
          "name": "stderr",
          "text": [
            "\rFold 4 Epoch 5:  95%|\u2588\u2588\u2588\u2588\u2588\u2588\u2588\u2588\u2588\u258c| 39/41 [00:01<00:00, 23.12it/s]"
          ]
        },
        {
          "output_type": "stream",
          "name": "stderr",
          "text": [
            "\rFold 4 Epoch 5: 100%|\u2588\u2588\u2588\u2588\u2588\u2588\u2588\u2588\u2588\u2588| 41/41 [00:01<00:00, 23.70it/s]"
          ]
        },
        {
          "output_type": "stream",
          "name": "stderr",
          "text": [
            "\n"
          ]
        },
        {
          "output_type": "stream",
          "name": "stdout",
          "text": [
            "Batch 40, elapsed: 1.7s\nFold 4 Epoch 5 train time: 1.7s\nFold 4 Epoch 5: Train 0.7482, Val 0.6926, val time: 0.2s\n"
          ]
        },
        {
          "output_type": "stream",
          "name": "stdout",
          "text": [
            "New best at epoch 5\n"
          ]
        },
        {
          "output_type": "stream",
          "name": "stderr",
          "text": [
            "\rFold 4 Epoch 6:   0%|          | 0/41 [00:00<?, ?it/s]"
          ]
        },
        {
          "output_type": "stream",
          "name": "stderr",
          "text": [
            "\rFold 4 Epoch 6:   7%|\u258b         | 3/41 [00:00<00:01, 22.16it/s]"
          ]
        },
        {
          "output_type": "stream",
          "name": "stdout",
          "text": [
            "Batch 0, elapsed: 0.0s\n"
          ]
        },
        {
          "output_type": "stream",
          "name": "stderr",
          "text": [
            "\rFold 4 Epoch 6:  15%|\u2588\u258d        | 6/41 [00:00<00:01, 21.93it/s]"
          ]
        },
        {
          "output_type": "stream",
          "name": "stderr",
          "text": [
            "\rFold 4 Epoch 6:  22%|\u2588\u2588\u258f       | 9/41 [00:00<00:01, 22.19it/s]"
          ]
        },
        {
          "output_type": "stream",
          "name": "stderr",
          "text": [
            "\rFold 4 Epoch 6:  29%|\u2588\u2588\u2589       | 12/41 [00:00<00:01, 22.32it/s]"
          ]
        },
        {
          "output_type": "stream",
          "name": "stderr",
          "text": [
            "\rFold 4 Epoch 6:  37%|\u2588\u2588\u2588\u258b      | 15/41 [00:00<00:01, 22.41it/s]"
          ]
        },
        {
          "output_type": "stream",
          "name": "stdout",
          "text": [
            "Batch 10, elapsed: 0.5s\n"
          ]
        },
        {
          "output_type": "stream",
          "name": "stderr",
          "text": [
            "\rFold 4 Epoch 6:  44%|\u2588\u2588\u2588\u2588\u258d     | 18/41 [00:00<00:01, 22.68it/s]"
          ]
        },
        {
          "output_type": "stream",
          "name": "stderr",
          "text": [
            "\rFold 4 Epoch 6:  51%|\u2588\u2588\u2588\u2588\u2588     | 21/41 [00:00<00:00, 22.43it/s]"
          ]
        },
        {
          "output_type": "stream",
          "name": "stderr",
          "text": [
            "\rFold 4 Epoch 6:  59%|\u2588\u2588\u2588\u2588\u2588\u258a    | 24/41 [00:01<00:00, 22.36it/s]"
          ]
        },
        {
          "output_type": "stream",
          "name": "stdout",
          "text": [
            "Batch 20, elapsed: 0.9s\n"
          ]
        },
        {
          "output_type": "stream",
          "name": "stderr",
          "text": [
            "\rFold 4 Epoch 6:  66%|\u2588\u2588\u2588\u2588\u2588\u2588\u258c   | 27/41 [00:01<00:00, 22.54it/s]"
          ]
        },
        {
          "output_type": "stream",
          "name": "stderr",
          "text": [
            "\rFold 4 Epoch 6:  73%|\u2588\u2588\u2588\u2588\u2588\u2588\u2588\u258e  | 30/41 [00:01<00:00, 22.67it/s]"
          ]
        },
        {
          "output_type": "stream",
          "name": "stderr",
          "text": [
            "\rFold 4 Epoch 6:  80%|\u2588\u2588\u2588\u2588\u2588\u2588\u2588\u2588  | 33/41 [00:01<00:00, 22.87it/s]"
          ]
        },
        {
          "output_type": "stream",
          "name": "stdout",
          "text": [
            "Batch 30, elapsed: 1.4s\n"
          ]
        },
        {
          "output_type": "stream",
          "name": "stderr",
          "text": [
            "\rFold 4 Epoch 6:  88%|\u2588\u2588\u2588\u2588\u2588\u2588\u2588\u2588\u258a | 36/41 [00:01<00:00, 22.94it/s]"
          ]
        },
        {
          "output_type": "stream",
          "name": "stderr",
          "text": [
            "\rFold 4 Epoch 6:  95%|\u2588\u2588\u2588\u2588\u2588\u2588\u2588\u2588\u2588\u258c| 39/41 [00:01<00:00, 22.93it/s]"
          ]
        },
        {
          "output_type": "stream",
          "name": "stderr",
          "text": [
            "\rFold 4 Epoch 6: 100%|\u2588\u2588\u2588\u2588\u2588\u2588\u2588\u2588\u2588\u2588| 41/41 [00:01<00:00, 22.79it/s]"
          ]
        },
        {
          "output_type": "stream",
          "name": "stderr",
          "text": [
            "\n"
          ]
        },
        {
          "output_type": "stream",
          "name": "stdout",
          "text": [
            "Batch 40, elapsed: 1.8s\nFold 4 Epoch 6 train time: 1.8s\nFold 4 Epoch 6: Train 0.7220, Val 0.6841, val time: 0.2s\n"
          ]
        },
        {
          "output_type": "stream",
          "name": "stdout",
          "text": [
            "New best at epoch 6\n"
          ]
        },
        {
          "output_type": "stream",
          "name": "stderr",
          "text": [
            "\rFold 4 Epoch 7:   0%|          | 0/41 [00:00<?, ?it/s]"
          ]
        },
        {
          "output_type": "stream",
          "name": "stderr",
          "text": [
            "\rFold 4 Epoch 7:   7%|\u258b         | 3/41 [00:00<00:01, 22.93it/s]"
          ]
        },
        {
          "output_type": "stream",
          "name": "stdout",
          "text": [
            "Batch 0, elapsed: 0.0s\n"
          ]
        },
        {
          "output_type": "stream",
          "name": "stderr",
          "text": [
            "\rFold 4 Epoch 7:  15%|\u2588\u258d        | 6/41 [00:00<00:01, 22.81it/s]"
          ]
        },
        {
          "output_type": "stream",
          "name": "stderr",
          "text": [
            "\rFold 4 Epoch 7:  22%|\u2588\u2588\u258f       | 9/41 [00:00<00:01, 22.66it/s]"
          ]
        },
        {
          "output_type": "stream",
          "name": "stderr",
          "text": [
            "\rFold 4 Epoch 7:  29%|\u2588\u2588\u2589       | 12/41 [00:00<00:01, 22.81it/s]"
          ]
        },
        {
          "output_type": "stream",
          "name": "stderr",
          "text": [
            "\rFold 4 Epoch 7:  37%|\u2588\u2588\u2588\u258b      | 15/41 [00:00<00:01, 22.87it/s]"
          ]
        },
        {
          "output_type": "stream",
          "name": "stdout",
          "text": [
            "Batch 10, elapsed: 0.5s\n"
          ]
        },
        {
          "output_type": "stream",
          "name": "stderr",
          "text": [
            "\rFold 4 Epoch 7:  44%|\u2588\u2588\u2588\u2588\u258d     | 18/41 [00:00<00:01, 22.96it/s]"
          ]
        },
        {
          "output_type": "stream",
          "name": "stderr",
          "text": [
            "\rFold 4 Epoch 7:  51%|\u2588\u2588\u2588\u2588\u2588     | 21/41 [00:00<00:00, 22.90it/s]"
          ]
        },
        {
          "output_type": "stream",
          "name": "stderr",
          "text": [
            "\rFold 4 Epoch 7:  59%|\u2588\u2588\u2588\u2588\u2588\u258a    | 24/41 [00:01<00:00, 22.97it/s]"
          ]
        },
        {
          "output_type": "stream",
          "name": "stdout",
          "text": [
            "Batch 20, elapsed: 0.9s\n"
          ]
        },
        {
          "output_type": "stream",
          "name": "stderr",
          "text": [
            "\rFold 4 Epoch 7:  66%|\u2588\u2588\u2588\u2588\u2588\u2588\u258c   | 27/41 [00:01<00:00, 22.91it/s]"
          ]
        },
        {
          "output_type": "stream",
          "name": "stderr",
          "text": [
            "\rFold 4 Epoch 7:  73%|\u2588\u2588\u2588\u2588\u2588\u2588\u2588\u258e  | 30/41 [00:01<00:00, 22.86it/s]"
          ]
        },
        {
          "output_type": "stream",
          "name": "stderr",
          "text": [
            "\rFold 4 Epoch 7:  80%|\u2588\u2588\u2588\u2588\u2588\u2588\u2588\u2588  | 33/41 [00:01<00:00, 22.89it/s]"
          ]
        },
        {
          "output_type": "stream",
          "name": "stdout",
          "text": [
            "Batch 30, elapsed: 1.4s\n"
          ]
        },
        {
          "output_type": "stream",
          "name": "stderr",
          "text": [
            "\rFold 4 Epoch 7:  88%|\u2588\u2588\u2588\u2588\u2588\u2588\u2588\u2588\u258a | 36/41 [00:01<00:00, 22.94it/s]"
          ]
        },
        {
          "output_type": "stream",
          "name": "stderr",
          "text": [
            "\rFold 4 Epoch 7:  95%|\u2588\u2588\u2588\u2588\u2588\u2588\u2588\u2588\u2588\u258c| 39/41 [00:01<00:00, 22.89it/s]"
          ]
        },
        {
          "output_type": "stream",
          "name": "stderr",
          "text": [
            "\rFold 4 Epoch 7: 100%|\u2588\u2588\u2588\u2588\u2588\u2588\u2588\u2588\u2588\u2588| 41/41 [00:01<00:00, 23.05it/s]"
          ]
        },
        {
          "output_type": "stream",
          "name": "stderr",
          "text": [
            "\n"
          ]
        },
        {
          "output_type": "stream",
          "name": "stdout",
          "text": [
            "Batch 40, elapsed: 1.8s\nFold 4 Epoch 7 train time: 1.8s\nFold 4 Epoch 7: Train 0.7264, Val 0.6897, val time: 0.2s\n"
          ]
        },
        {
          "output_type": "stream",
          "name": "stderr",
          "text": [
            "\rFold 4 Epoch 8:   0%|          | 0/41 [00:00<?, ?it/s]"
          ]
        },
        {
          "output_type": "stream",
          "name": "stderr",
          "text": [
            "\rFold 4 Epoch 8:   7%|\u258b         | 3/41 [00:00<00:01, 23.01it/s]"
          ]
        },
        {
          "output_type": "stream",
          "name": "stdout",
          "text": [
            "Batch 0, elapsed: 0.0s\n"
          ]
        },
        {
          "output_type": "stream",
          "name": "stderr",
          "text": [
            "\rFold 4 Epoch 8:  15%|\u2588\u258d        | 6/41 [00:00<00:01, 22.87it/s]"
          ]
        },
        {
          "output_type": "stream",
          "name": "stderr",
          "text": [
            "\rFold 4 Epoch 8:  22%|\u2588\u2588\u258f       | 9/41 [00:00<00:01, 23.07it/s]"
          ]
        },
        {
          "output_type": "stream",
          "name": "stderr",
          "text": [
            "\rFold 4 Epoch 8:  29%|\u2588\u2588\u2589       | 12/41 [00:00<00:01, 23.34it/s]"
          ]
        },
        {
          "output_type": "stream",
          "name": "stderr",
          "text": [
            "\rFold 4 Epoch 8:  37%|\u2588\u2588\u2588\u258b      | 15/41 [00:00<00:01, 23.58it/s]"
          ]
        },
        {
          "output_type": "stream",
          "name": "stdout",
          "text": [
            "Batch 10, elapsed: 0.5s\n"
          ]
        },
        {
          "output_type": "stream",
          "name": "stderr",
          "text": [
            "\rFold 4 Epoch 8:  44%|\u2588\u2588\u2588\u2588\u258d     | 18/41 [00:00<00:00, 23.28it/s]"
          ]
        },
        {
          "output_type": "stream",
          "name": "stderr",
          "text": [
            "\rFold 4 Epoch 8:  51%|\u2588\u2588\u2588\u2588\u2588     | 21/41 [00:00<00:00, 23.08it/s]"
          ]
        },
        {
          "output_type": "stream",
          "name": "stderr",
          "text": [
            "\rFold 4 Epoch 8:  59%|\u2588\u2588\u2588\u2588\u2588\u258a    | 24/41 [00:01<00:00, 23.21it/s]"
          ]
        },
        {
          "output_type": "stream",
          "name": "stdout",
          "text": [
            "Batch 20, elapsed: 0.9s\n"
          ]
        },
        {
          "output_type": "stream",
          "name": "stderr",
          "text": [
            "\rFold 4 Epoch 8:  66%|\u2588\u2588\u2588\u2588\u2588\u2588\u258c   | 27/41 [00:01<00:00, 22.91it/s]"
          ]
        },
        {
          "output_type": "stream",
          "name": "stderr",
          "text": [
            "\rFold 4 Epoch 8:  73%|\u2588\u2588\u2588\u2588\u2588\u2588\u2588\u258e  | 30/41 [00:01<00:00, 22.83it/s]"
          ]
        },
        {
          "output_type": "stream",
          "name": "stderr",
          "text": [
            "\rFold 4 Epoch 8:  80%|\u2588\u2588\u2588\u2588\u2588\u2588\u2588\u2588  | 33/41 [00:01<00:00, 22.91it/s]"
          ]
        },
        {
          "output_type": "stream",
          "name": "stdout",
          "text": [
            "Batch 30, elapsed: 1.3s\n"
          ]
        },
        {
          "output_type": "stream",
          "name": "stderr",
          "text": [
            "\rFold 4 Epoch 8:  88%|\u2588\u2588\u2588\u2588\u2588\u2588\u2588\u2588\u258a | 36/41 [00:01<00:00, 22.99it/s]"
          ]
        },
        {
          "output_type": "stream",
          "name": "stderr",
          "text": [
            "\rFold 4 Epoch 8:  95%|\u2588\u2588\u2588\u2588\u2588\u2588\u2588\u2588\u2588\u258c| 39/41 [00:01<00:00, 22.90it/s]"
          ]
        },
        {
          "output_type": "stream",
          "name": "stderr",
          "text": [
            "\rFold 4 Epoch 8: 100%|\u2588\u2588\u2588\u2588\u2588\u2588\u2588\u2588\u2588\u2588| 41/41 [00:01<00:00, 23.21it/s]"
          ]
        },
        {
          "output_type": "stream",
          "name": "stderr",
          "text": [
            "\n"
          ]
        },
        {
          "output_type": "stream",
          "name": "stdout",
          "text": [
            "Batch 40, elapsed: 1.8s\nFold 4 Epoch 8 train time: 1.8s\nFold 4 Epoch 8: Train 0.7216, Val 0.6942, val time: 0.2s\n"
          ]
        },
        {
          "output_type": "stream",
          "name": "stderr",
          "text": [
            "\rFold 4 Epoch 9:   0%|          | 0/41 [00:00<?, ?it/s]"
          ]
        },
        {
          "output_type": "stream",
          "name": "stderr",
          "text": [
            "\rFold 4 Epoch 9:   7%|\u258b         | 3/41 [00:00<00:01, 22.69it/s]"
          ]
        },
        {
          "output_type": "stream",
          "name": "stdout",
          "text": [
            "Batch 0, elapsed: 0.0s\n"
          ]
        },
        {
          "output_type": "stream",
          "name": "stderr",
          "text": [
            "\rFold 4 Epoch 9:  15%|\u2588\u258d        | 6/41 [00:00<00:01, 22.51it/s]"
          ]
        },
        {
          "output_type": "stream",
          "name": "stderr",
          "text": [
            "\rFold 4 Epoch 9:  22%|\u2588\u2588\u258f       | 9/41 [00:00<00:01, 23.16it/s]"
          ]
        },
        {
          "output_type": "stream",
          "name": "stderr",
          "text": [
            "\rFold 4 Epoch 9:  29%|\u2588\u2588\u2589       | 12/41 [00:00<00:01, 22.96it/s]"
          ]
        },
        {
          "output_type": "stream",
          "name": "stderr",
          "text": [
            "\rFold 4 Epoch 9:  37%|\u2588\u2588\u2588\u258b      | 15/41 [00:00<00:01, 23.00it/s]"
          ]
        },
        {
          "output_type": "stream",
          "name": "stdout",
          "text": [
            "Batch 10, elapsed: 0.5s\n"
          ]
        },
        {
          "output_type": "stream",
          "name": "stderr",
          "text": [
            "\rFold 4 Epoch 9:  44%|\u2588\u2588\u2588\u2588\u258d     | 18/41 [00:00<00:01, 22.71it/s]"
          ]
        },
        {
          "output_type": "stream",
          "name": "stderr",
          "text": [
            "\rFold 4 Epoch 9:  51%|\u2588\u2588\u2588\u2588\u2588     | 21/41 [00:00<00:00, 22.36it/s]"
          ]
        },
        {
          "output_type": "stream",
          "name": "stderr",
          "text": [
            "\rFold 4 Epoch 9:  59%|\u2588\u2588\u2588\u2588\u2588\u258a    | 24/41 [00:01<00:00, 22.60it/s]"
          ]
        },
        {
          "output_type": "stream",
          "name": "stdout",
          "text": [
            "Batch 20, elapsed: 0.9s\n"
          ]
        },
        {
          "output_type": "stream",
          "name": "stderr",
          "text": [
            "\rFold 4 Epoch 9:  66%|\u2588\u2588\u2588\u2588\u2588\u2588\u258c   | 27/41 [00:01<00:00, 22.66it/s]"
          ]
        },
        {
          "output_type": "stream",
          "name": "stderr",
          "text": [
            "\rFold 4 Epoch 9:  73%|\u2588\u2588\u2588\u2588\u2588\u2588\u2588\u258e  | 30/41 [00:01<00:00, 22.68it/s]"
          ]
        },
        {
          "output_type": "stream",
          "name": "stderr",
          "text": [
            "\rFold 4 Epoch 9:  80%|\u2588\u2588\u2588\u2588\u2588\u2588\u2588\u2588  | 33/41 [00:01<00:00, 22.88it/s]"
          ]
        },
        {
          "output_type": "stream",
          "name": "stdout",
          "text": [
            "Batch 30, elapsed: 1.4s\n"
          ]
        },
        {
          "output_type": "stream",
          "name": "stderr",
          "text": [
            "\rFold 4 Epoch 9:  88%|\u2588\u2588\u2588\u2588\u2588\u2588\u2588\u2588\u258a | 36/41 [00:01<00:00, 22.87it/s]"
          ]
        },
        {
          "output_type": "stream",
          "name": "stderr",
          "text": [
            "\rFold 4 Epoch 9:  95%|\u2588\u2588\u2588\u2588\u2588\u2588\u2588\u2588\u2588\u258c| 39/41 [00:01<00:00, 22.82it/s]"
          ]
        },
        {
          "output_type": "stream",
          "name": "stderr",
          "text": [
            "\rFold 4 Epoch 9: 100%|\u2588\u2588\u2588\u2588\u2588\u2588\u2588\u2588\u2588\u2588| 41/41 [00:01<00:00, 22.96it/s]"
          ]
        },
        {
          "output_type": "stream",
          "name": "stderr",
          "text": [
            "\n"
          ]
        },
        {
          "output_type": "stream",
          "name": "stdout",
          "text": [
            "Batch 40, elapsed: 1.8s\nFold 4 Epoch 9 train time: 1.8s\nFold 4 Epoch 9: Train 0.7205, Val 0.6870, val time: 0.2s\n"
          ]
        },
        {
          "output_type": "stream",
          "name": "stderr",
          "text": [
            "\rFold 4 Epoch 10:   0%|          | 0/41 [00:00<?, ?it/s]"
          ]
        },
        {
          "output_type": "stream",
          "name": "stderr",
          "text": [
            "\rFold 4 Epoch 10:   7%|\u258b         | 3/41 [00:00<00:01, 22.81it/s]"
          ]
        },
        {
          "output_type": "stream",
          "name": "stdout",
          "text": [
            "Batch 0, elapsed: 0.0s\n"
          ]
        },
        {
          "output_type": "stream",
          "name": "stderr",
          "text": [
            "\rFold 4 Epoch 10:  15%|\u2588\u258d        | 6/41 [00:00<00:01, 22.72it/s]"
          ]
        },
        {
          "output_type": "stream",
          "name": "stderr",
          "text": [
            "\rFold 4 Epoch 10:  22%|\u2588\u2588\u258f       | 9/41 [00:00<00:01, 22.69it/s]"
          ]
        },
        {
          "output_type": "stream",
          "name": "stderr",
          "text": [
            "\rFold 4 Epoch 10:  29%|\u2588\u2588\u2589       | 12/41 [00:00<00:01, 23.06it/s]"
          ]
        },
        {
          "output_type": "stream",
          "name": "stderr",
          "text": [
            "\rFold 4 Epoch 10:  37%|\u2588\u2588\u2588\u258b      | 15/41 [00:00<00:01, 23.05it/s]"
          ]
        },
        {
          "output_type": "stream",
          "name": "stdout",
          "text": [
            "Batch 10, elapsed: 0.5s\n"
          ]
        },
        {
          "output_type": "stream",
          "name": "stderr",
          "text": [
            "\rFold 4 Epoch 10:  44%|\u2588\u2588\u2588\u2588\u258d     | 18/41 [00:00<00:01, 22.77it/s]"
          ]
        },
        {
          "output_type": "stream",
          "name": "stderr",
          "text": [
            "\rFold 4 Epoch 10:  51%|\u2588\u2588\u2588\u2588\u2588     | 21/41 [00:00<00:00, 22.55it/s]"
          ]
        },
        {
          "output_type": "stream",
          "name": "stderr",
          "text": [
            "\rFold 4 Epoch 10:  59%|\u2588\u2588\u2588\u2588\u2588\u258a    | 24/41 [00:01<00:00, 22.33it/s]"
          ]
        },
        {
          "output_type": "stream",
          "name": "stdout",
          "text": [
            "Batch 20, elapsed: 0.9s\n"
          ]
        },
        {
          "output_type": "stream",
          "name": "stderr",
          "text": [
            "\rFold 4 Epoch 10:  66%|\u2588\u2588\u2588\u2588\u2588\u2588\u258c   | 27/41 [00:01<00:00, 22.38it/s]"
          ]
        },
        {
          "output_type": "stream",
          "name": "stderr",
          "text": [
            "\rFold 4 Epoch 10:  73%|\u2588\u2588\u2588\u2588\u2588\u2588\u2588\u258e  | 30/41 [00:01<00:00, 22.65it/s]"
          ]
        },
        {
          "output_type": "stream",
          "name": "stderr",
          "text": [
            "\rFold 4 Epoch 10:  80%|\u2588\u2588\u2588\u2588\u2588\u2588\u2588\u2588  | 33/41 [00:01<00:00, 22.76it/s]"
          ]
        },
        {
          "output_type": "stream",
          "name": "stdout",
          "text": [
            "Batch 30, elapsed: 1.4s\n"
          ]
        },
        {
          "output_type": "stream",
          "name": "stderr",
          "text": [
            "\rFold 4 Epoch 10:  88%|\u2588\u2588\u2588\u2588\u2588\u2588\u2588\u2588\u258a | 36/41 [00:01<00:00, 22.85it/s]"
          ]
        },
        {
          "output_type": "stream",
          "name": "stderr",
          "text": [
            "\rFold 4 Epoch 10:  95%|\u2588\u2588\u2588\u2588\u2588\u2588\u2588\u2588\u2588\u258c| 39/41 [00:01<00:00, 23.13it/s]"
          ]
        },
        {
          "output_type": "stream",
          "name": "stderr",
          "text": [
            "\rFold 4 Epoch 10: 100%|\u2588\u2588\u2588\u2588\u2588\u2588\u2588\u2588\u2588\u2588| 41/41 [00:01<00:00, 23.00it/s]"
          ]
        },
        {
          "output_type": "stream",
          "name": "stderr",
          "text": [
            "\n"
          ]
        },
        {
          "output_type": "stream",
          "name": "stdout",
          "text": [
            "Batch 40, elapsed: 1.8s\nFold 4 Epoch 10 train time: 1.8s\nFold 4 Epoch 10: Train 0.7122, Val 0.6825, val time: 0.2s\n"
          ]
        },
        {
          "output_type": "stream",
          "name": "stdout",
          "text": [
            "New best at epoch 10\n"
          ]
        },
        {
          "output_type": "stream",
          "name": "stderr",
          "text": [
            "\rFold 4 Epoch 11:   0%|          | 0/41 [00:00<?, ?it/s]"
          ]
        },
        {
          "output_type": "stream",
          "name": "stderr",
          "text": [
            "\rFold 4 Epoch 11:   7%|\u258b         | 3/41 [00:00<00:01, 23.30it/s]"
          ]
        },
        {
          "output_type": "stream",
          "name": "stdout",
          "text": [
            "Batch 0, elapsed: 0.0s\n"
          ]
        },
        {
          "output_type": "stream",
          "name": "stderr",
          "text": [
            "\rFold 4 Epoch 11:  15%|\u2588\u258d        | 6/41 [00:00<00:01, 23.02it/s]"
          ]
        },
        {
          "output_type": "stream",
          "name": "stderr",
          "text": [
            "\rFold 4 Epoch 11:  22%|\u2588\u2588\u258f       | 9/41 [00:00<00:01, 23.28it/s]"
          ]
        },
        {
          "output_type": "stream",
          "name": "stderr",
          "text": [
            "\rFold 4 Epoch 11:  29%|\u2588\u2588\u2589       | 12/41 [00:00<00:01, 23.42it/s]"
          ]
        },
        {
          "output_type": "stream",
          "name": "stderr",
          "text": [
            "\rFold 4 Epoch 11:  37%|\u2588\u2588\u2588\u258b      | 15/41 [00:00<00:01, 23.37it/s]"
          ]
        },
        {
          "output_type": "stream",
          "name": "stdout",
          "text": [
            "Batch 10, elapsed: 0.5s\n"
          ]
        },
        {
          "output_type": "stream",
          "name": "stderr",
          "text": [
            "\rFold 4 Epoch 11:  44%|\u2588\u2588\u2588\u2588\u258d     | 18/41 [00:00<00:00, 23.08it/s]"
          ]
        },
        {
          "output_type": "stream",
          "name": "stderr",
          "text": [
            "\rFold 4 Epoch 11:  51%|\u2588\u2588\u2588\u2588\u2588     | 21/41 [00:00<00:00, 23.35it/s]"
          ]
        },
        {
          "output_type": "stream",
          "name": "stderr",
          "text": [
            "\rFold 4 Epoch 11:  59%|\u2588\u2588\u2588\u2588\u2588\u258a    | 24/41 [00:01<00:00, 23.28it/s]"
          ]
        },
        {
          "output_type": "stream",
          "name": "stdout",
          "text": [
            "Batch 20, elapsed: 0.9s\n"
          ]
        },
        {
          "output_type": "stream",
          "name": "stderr",
          "text": [
            "\rFold 4 Epoch 11:  66%|\u2588\u2588\u2588\u2588\u2588\u2588\u258c   | 27/41 [00:01<00:00, 23.13it/s]"
          ]
        },
        {
          "output_type": "stream",
          "name": "stderr",
          "text": [
            "\rFold 4 Epoch 11:  73%|\u2588\u2588\u2588\u2588\u2588\u2588\u2588\u258e  | 30/41 [00:01<00:00, 23.19it/s]"
          ]
        },
        {
          "output_type": "stream",
          "name": "stderr",
          "text": [
            "\rFold 4 Epoch 11:  80%|\u2588\u2588\u2588\u2588\u2588\u2588\u2588\u2588  | 33/41 [00:01<00:00, 23.44it/s]"
          ]
        },
        {
          "output_type": "stream",
          "name": "stdout",
          "text": [
            "Batch 30, elapsed: 1.3s\n"
          ]
        },
        {
          "output_type": "stream",
          "name": "stderr",
          "text": [
            "\rFold 4 Epoch 11:  88%|\u2588\u2588\u2588\u2588\u2588\u2588\u2588\u2588\u258a | 36/41 [00:01<00:00, 23.42it/s]"
          ]
        },
        {
          "output_type": "stream",
          "name": "stderr",
          "text": [
            "\rFold 4 Epoch 11:  95%|\u2588\u2588\u2588\u2588\u2588\u2588\u2588\u2588\u2588\u258c| 39/41 [00:01<00:00, 23.41it/s]"
          ]
        },
        {
          "output_type": "stream",
          "name": "stderr",
          "text": [
            "\rFold 4 Epoch 11: 100%|\u2588\u2588\u2588\u2588\u2588\u2588\u2588\u2588\u2588\u2588| 41/41 [00:01<00:00, 23.44it/s]"
          ]
        },
        {
          "output_type": "stream",
          "name": "stderr",
          "text": [
            "\n"
          ]
        },
        {
          "output_type": "stream",
          "name": "stdout",
          "text": [
            "Batch 40, elapsed: 1.8s\nFold 4 Epoch 11 train time: 1.8s\nFold 4 Epoch 11: Train 0.7097, Val 0.6814, val time: 0.2s\n"
          ]
        },
        {
          "output_type": "stream",
          "name": "stdout",
          "text": [
            "New best at epoch 11\n"
          ]
        },
        {
          "output_type": "stream",
          "name": "stderr",
          "text": [
            "\rFold 4 Epoch 12:   0%|          | 0/41 [00:00<?, ?it/s]"
          ]
        },
        {
          "output_type": "stream",
          "name": "stderr",
          "text": [
            "\rFold 4 Epoch 12:   7%|\u258b         | 3/41 [00:00<00:01, 23.29it/s]"
          ]
        },
        {
          "output_type": "stream",
          "name": "stdout",
          "text": [
            "Batch 0, elapsed: 0.0s\n"
          ]
        },
        {
          "output_type": "stream",
          "name": "stderr",
          "text": [
            "\rFold 4 Epoch 12:  15%|\u2588\u258d        | 6/41 [00:00<00:01, 23.39it/s]"
          ]
        },
        {
          "output_type": "stream",
          "name": "stderr",
          "text": [
            "\rFold 4 Epoch 12:  22%|\u2588\u2588\u258f       | 9/41 [00:00<00:01, 22.87it/s]"
          ]
        },
        {
          "output_type": "stream",
          "name": "stderr",
          "text": [
            "\rFold 4 Epoch 12:  29%|\u2588\u2588\u2589       | 12/41 [00:00<00:01, 22.78it/s]"
          ]
        },
        {
          "output_type": "stream",
          "name": "stderr",
          "text": [
            "\rFold 4 Epoch 12:  37%|\u2588\u2588\u2588\u258b      | 15/41 [00:00<00:01, 22.60it/s]"
          ]
        },
        {
          "output_type": "stream",
          "name": "stdout",
          "text": [
            "Batch 10, elapsed: 0.5s\n"
          ]
        },
        {
          "output_type": "stream",
          "name": "stderr",
          "text": [
            "\rFold 4 Epoch 12:  44%|\u2588\u2588\u2588\u2588\u258d     | 18/41 [00:00<00:01, 22.84it/s]"
          ]
        },
        {
          "output_type": "stream",
          "name": "stderr",
          "text": [
            "\rFold 4 Epoch 12:  51%|\u2588\u2588\u2588\u2588\u2588     | 21/41 [00:00<00:00, 22.87it/s]"
          ]
        },
        {
          "output_type": "stream",
          "name": "stderr",
          "text": [
            "\rFold 4 Epoch 12:  59%|\u2588\u2588\u2588\u2588\u2588\u258a    | 24/41 [00:01<00:00, 22.65it/s]"
          ]
        },
        {
          "output_type": "stream",
          "name": "stdout",
          "text": [
            "Batch 20, elapsed: 0.9s\n"
          ]
        },
        {
          "output_type": "stream",
          "name": "stderr",
          "text": [
            "\rFold 4 Epoch 12:  66%|\u2588\u2588\u2588\u2588\u2588\u2588\u258c   | 27/41 [00:01<00:00, 22.51it/s]"
          ]
        },
        {
          "output_type": "stream",
          "name": "stderr",
          "text": [
            "\rFold 4 Epoch 12:  73%|\u2588\u2588\u2588\u2588\u2588\u2588\u2588\u258e  | 30/41 [00:01<00:00, 22.60it/s]"
          ]
        },
        {
          "output_type": "stream",
          "name": "stderr",
          "text": [
            "\rFold 4 Epoch 12:  80%|\u2588\u2588\u2588\u2588\u2588\u2588\u2588\u2588  | 33/41 [00:01<00:00, 22.64it/s]"
          ]
        },
        {
          "output_type": "stream",
          "name": "stdout",
          "text": [
            "Batch 30, elapsed: 1.4s\n"
          ]
        },
        {
          "output_type": "stream",
          "name": "stderr",
          "text": [
            "\rFold 4 Epoch 12:  88%|\u2588\u2588\u2588\u2588\u2588\u2588\u2588\u2588\u258a | 36/41 [00:01<00:00, 22.24it/s]"
          ]
        },
        {
          "output_type": "stream",
          "name": "stderr",
          "text": [
            "\rFold 4 Epoch 12:  95%|\u2588\u2588\u2588\u2588\u2588\u2588\u2588\u2588\u2588\u258c| 39/41 [00:01<00:00, 22.27it/s]"
          ]
        },
        {
          "output_type": "stream",
          "name": "stderr",
          "text": [
            "\rFold 4 Epoch 12: 100%|\u2588\u2588\u2588\u2588\u2588\u2588\u2588\u2588\u2588\u2588| 41/41 [00:01<00:00, 22.76it/s]"
          ]
        },
        {
          "output_type": "stream",
          "name": "stderr",
          "text": [
            "\n"
          ]
        },
        {
          "output_type": "stream",
          "name": "stdout",
          "text": [
            "Batch 40, elapsed: 1.8s\nFold 4 Epoch 12 train time: 1.8s\nFold 4 Epoch 12: Train 0.7052, Val 0.6821, val time: 0.2s\n"
          ]
        },
        {
          "output_type": "stream",
          "name": "stderr",
          "text": [
            "\rFold 4 Epoch 13:   0%|          | 0/41 [00:00<?, ?it/s]"
          ]
        },
        {
          "output_type": "stream",
          "name": "stderr",
          "text": [
            "\rFold 4 Epoch 13:   7%|\u258b         | 3/41 [00:00<00:01, 23.04it/s]"
          ]
        },
        {
          "output_type": "stream",
          "name": "stdout",
          "text": [
            "Batch 0, elapsed: 0.0s\n"
          ]
        },
        {
          "output_type": "stream",
          "name": "stderr",
          "text": [
            "\rFold 4 Epoch 13:  15%|\u2588\u258d        | 6/41 [00:00<00:01, 22.97it/s]"
          ]
        },
        {
          "output_type": "stream",
          "name": "stderr",
          "text": [
            "\rFold 4 Epoch 13:  22%|\u2588\u2588\u258f       | 9/41 [00:00<00:01, 22.97it/s]"
          ]
        },
        {
          "output_type": "stream",
          "name": "stderr",
          "text": [
            "\rFold 4 Epoch 13:  29%|\u2588\u2588\u2589       | 12/41 [00:00<00:01, 22.91it/s]"
          ]
        },
        {
          "output_type": "stream",
          "name": "stderr",
          "text": [
            "\rFold 4 Epoch 13:  37%|\u2588\u2588\u2588\u258b      | 15/41 [00:00<00:01, 23.17it/s]"
          ]
        },
        {
          "output_type": "stream",
          "name": "stdout",
          "text": [
            "Batch 10, elapsed: 0.5s\n"
          ]
        },
        {
          "output_type": "stream",
          "name": "stderr",
          "text": [
            "\rFold 4 Epoch 13:  44%|\u2588\u2588\u2588\u2588\u258d     | 18/41 [00:00<00:00, 23.14it/s]"
          ]
        },
        {
          "output_type": "stream",
          "name": "stderr",
          "text": [
            "\rFold 4 Epoch 13:  51%|\u2588\u2588\u2588\u2588\u2588     | 21/41 [00:00<00:00, 23.12it/s]"
          ]
        },
        {
          "output_type": "stream",
          "name": "stderr",
          "text": [
            "\rFold 4 Epoch 13:  59%|\u2588\u2588\u2588\u2588\u2588\u258a    | 24/41 [00:01<00:00, 23.08it/s]"
          ]
        },
        {
          "output_type": "stream",
          "name": "stdout",
          "text": [
            "Batch 20, elapsed: 0.9s\n"
          ]
        },
        {
          "output_type": "stream",
          "name": "stderr",
          "text": [
            "\rFold 4 Epoch 13:  66%|\u2588\u2588\u2588\u2588\u2588\u2588\u258c   | 27/41 [00:01<00:00, 22.95it/s]"
          ]
        },
        {
          "output_type": "stream",
          "name": "stderr",
          "text": [
            "\rFold 4 Epoch 13:  73%|\u2588\u2588\u2588\u2588\u2588\u2588\u2588\u258e  | 30/41 [00:01<00:00, 23.02it/s]"
          ]
        },
        {
          "output_type": "stream",
          "name": "stderr",
          "text": [
            "\rFold 4 Epoch 13:  80%|\u2588\u2588\u2588\u2588\u2588\u2588\u2588\u2588  | 33/41 [00:01<00:00, 23.20it/s]"
          ]
        },
        {
          "output_type": "stream",
          "name": "stdout",
          "text": [
            "Batch 30, elapsed: 1.3s\n"
          ]
        },
        {
          "output_type": "stream",
          "name": "stderr",
          "text": [
            "\rFold 4 Epoch 13:  88%|\u2588\u2588\u2588\u2588\u2588\u2588\u2588\u2588\u258a | 36/41 [00:01<00:00, 23.34it/s]"
          ]
        },
        {
          "output_type": "stream",
          "name": "stderr",
          "text": [
            "\rFold 4 Epoch 13:  95%|\u2588\u2588\u2588\u2588\u2588\u2588\u2588\u2588\u2588\u258c| 39/41 [00:01<00:00, 23.62it/s]"
          ]
        },
        {
          "output_type": "stream",
          "name": "stderr",
          "text": [
            "\rFold 4 Epoch 13: 100%|\u2588\u2588\u2588\u2588\u2588\u2588\u2588\u2588\u2588\u2588| 41/41 [00:01<00:00, 23.35it/s]"
          ]
        },
        {
          "output_type": "stream",
          "name": "stderr",
          "text": [
            "\n"
          ]
        },
        {
          "output_type": "stream",
          "name": "stdout",
          "text": [
            "Batch 40, elapsed: 1.8s\nFold 4 Epoch 13 train time: 1.8s\nFold 4 Epoch 13: Train 0.7051, Val 0.6821, val time: 0.2s\n"
          ]
        },
        {
          "output_type": "stream",
          "name": "stderr",
          "text": [
            "\rFold 4 Epoch 14:   0%|          | 0/41 [00:00<?, ?it/s]"
          ]
        },
        {
          "output_type": "stream",
          "name": "stderr",
          "text": [
            "\rFold 4 Epoch 14:   7%|\u258b         | 3/41 [00:00<00:01, 22.36it/s]"
          ]
        },
        {
          "output_type": "stream",
          "name": "stdout",
          "text": [
            "Batch 0, elapsed: 0.0s\n"
          ]
        },
        {
          "output_type": "stream",
          "name": "stderr",
          "text": [
            "\rFold 4 Epoch 14:  15%|\u2588\u258d        | 6/41 [00:00<00:01, 23.32it/s]"
          ]
        },
        {
          "output_type": "stream",
          "name": "stderr",
          "text": [
            "\rFold 4 Epoch 14:  22%|\u2588\u2588\u258f       | 9/41 [00:00<00:01, 23.39it/s]"
          ]
        },
        {
          "output_type": "stream",
          "name": "stderr",
          "text": [
            "\rFold 4 Epoch 14:  29%|\u2588\u2588\u2589       | 12/41 [00:00<00:01, 23.16it/s]"
          ]
        },
        {
          "output_type": "stream",
          "name": "stderr",
          "text": [
            "\rFold 4 Epoch 14:  37%|\u2588\u2588\u2588\u258b      | 15/41 [00:00<00:01, 23.42it/s]"
          ]
        },
        {
          "output_type": "stream",
          "name": "stdout",
          "text": [
            "Batch 10, elapsed: 0.5s\n"
          ]
        },
        {
          "output_type": "stream",
          "name": "stderr",
          "text": [
            "\rFold 4 Epoch 14:  44%|\u2588\u2588\u2588\u2588\u258d     | 18/41 [00:00<00:00, 23.24it/s]"
          ]
        },
        {
          "output_type": "stream",
          "name": "stderr",
          "text": [
            "\rFold 4 Epoch 14:  51%|\u2588\u2588\u2588\u2588\u2588     | 21/41 [00:00<00:00, 23.41it/s]"
          ]
        },
        {
          "output_type": "stream",
          "name": "stderr",
          "text": [
            "\rFold 4 Epoch 14:  59%|\u2588\u2588\u2588\u2588\u2588\u258a    | 24/41 [00:01<00:00, 23.23it/s]"
          ]
        },
        {
          "output_type": "stream",
          "name": "stdout",
          "text": [
            "Batch 20, elapsed: 0.9s\n"
          ]
        },
        {
          "output_type": "stream",
          "name": "stderr",
          "text": [
            "\rFold 4 Epoch 14:  66%|\u2588\u2588\u2588\u2588\u2588\u2588\u258c   | 27/41 [00:01<00:00, 22.93it/s]"
          ]
        },
        {
          "output_type": "stream",
          "name": "stderr",
          "text": [
            "\rFold 4 Epoch 14:  73%|\u2588\u2588\u2588\u2588\u2588\u2588\u2588\u258e  | 30/41 [00:01<00:00, 22.93it/s]"
          ]
        },
        {
          "output_type": "stream",
          "name": "stderr",
          "text": [
            "\rFold 4 Epoch 14:  80%|\u2588\u2588\u2588\u2588\u2588\u2588\u2588\u2588  | 33/41 [00:01<00:00, 22.92it/s]"
          ]
        },
        {
          "output_type": "stream",
          "name": "stdout",
          "text": [
            "Batch 30, elapsed: 1.3s\n"
          ]
        },
        {
          "output_type": "stream",
          "name": "stderr",
          "text": [
            "\rFold 4 Epoch 14:  88%|\u2588\u2588\u2588\u2588\u2588\u2588\u2588\u2588\u258a | 36/41 [00:01<00:00, 22.87it/s]"
          ]
        },
        {
          "output_type": "stream",
          "name": "stderr",
          "text": [
            "\rFold 4 Epoch 14:  95%|\u2588\u2588\u2588\u2588\u2588\u2588\u2588\u2588\u2588\u258c| 39/41 [00:01<00:00, 22.91it/s]"
          ]
        },
        {
          "output_type": "stream",
          "name": "stderr",
          "text": [
            "\rFold 4 Epoch 14: 100%|\u2588\u2588\u2588\u2588\u2588\u2588\u2588\u2588\u2588\u2588| 41/41 [00:01<00:00, 23.22it/s]"
          ]
        },
        {
          "output_type": "stream",
          "name": "stderr",
          "text": [
            "\n"
          ]
        },
        {
          "output_type": "stream",
          "name": "stdout",
          "text": [
            "Batch 40, elapsed: 1.8s\nFold 4 Epoch 14 train time: 1.8s\nFold 4 Epoch 14: Train 0.7018, Val 0.6822, val time: 0.2s\n"
          ]
        },
        {
          "output_type": "stream",
          "name": "stderr",
          "text": [
            "\rFold 4 Epoch 15:   0%|          | 0/41 [00:00<?, ?it/s]"
          ]
        },
        {
          "output_type": "stream",
          "name": "stderr",
          "text": [
            "\rFold 4 Epoch 15:   7%|\u258b         | 3/41 [00:00<00:01, 22.58it/s]"
          ]
        },
        {
          "output_type": "stream",
          "name": "stdout",
          "text": [
            "Batch 0, elapsed: 0.0s\n"
          ]
        },
        {
          "output_type": "stream",
          "name": "stderr",
          "text": [
            "\rFold 4 Epoch 15:  15%|\u2588\u258d        | 6/41 [00:00<00:01, 22.68it/s]"
          ]
        },
        {
          "output_type": "stream",
          "name": "stderr",
          "text": [
            "\rFold 4 Epoch 15:  22%|\u2588\u2588\u258f       | 9/41 [00:00<00:01, 22.92it/s]"
          ]
        },
        {
          "output_type": "stream",
          "name": "stderr",
          "text": [
            "\rFold 4 Epoch 15:  29%|\u2588\u2588\u2589       | 12/41 [00:00<00:01, 22.96it/s]"
          ]
        },
        {
          "output_type": "stream",
          "name": "stderr",
          "text": [
            "\rFold 4 Epoch 15:  37%|\u2588\u2588\u2588\u258b      | 15/41 [00:00<00:01, 22.55it/s]"
          ]
        },
        {
          "output_type": "stream",
          "name": "stdout",
          "text": [
            "Batch 10, elapsed: 0.5s\n"
          ]
        },
        {
          "output_type": "stream",
          "name": "stderr",
          "text": [
            "\rFold 4 Epoch 15:  44%|\u2588\u2588\u2588\u2588\u258d     | 18/41 [00:00<00:01, 22.98it/s]"
          ]
        },
        {
          "output_type": "stream",
          "name": "stderr",
          "text": [
            "\rFold 4 Epoch 15:  51%|\u2588\u2588\u2588\u2588\u2588     | 21/41 [00:00<00:00, 22.57it/s]"
          ]
        },
        {
          "output_type": "stream",
          "name": "stderr",
          "text": [
            "\rFold 4 Epoch 15:  59%|\u2588\u2588\u2588\u2588\u2588\u258a    | 24/41 [00:01<00:00, 22.73it/s]"
          ]
        },
        {
          "output_type": "stream",
          "name": "stdout",
          "text": [
            "Batch 20, elapsed: 0.9s\n"
          ]
        },
        {
          "output_type": "stream",
          "name": "stderr",
          "text": [
            "\rFold 4 Epoch 15:  66%|\u2588\u2588\u2588\u2588\u2588\u2588\u258c   | 27/41 [00:01<00:00, 22.93it/s]"
          ]
        },
        {
          "output_type": "stream",
          "name": "stderr",
          "text": [
            "\rFold 4 Epoch 15:  73%|\u2588\u2588\u2588\u2588\u2588\u2588\u2588\u258e  | 30/41 [00:01<00:00, 23.07it/s]"
          ]
        },
        {
          "output_type": "stream",
          "name": "stderr",
          "text": [
            "\rFold 4 Epoch 15:  80%|\u2588\u2588\u2588\u2588\u2588\u2588\u2588\u2588  | 33/41 [00:01<00:00, 22.84it/s]"
          ]
        },
        {
          "output_type": "stream",
          "name": "stdout",
          "text": [
            "Batch 30, elapsed: 1.4s\n"
          ]
        },
        {
          "output_type": "stream",
          "name": "stderr",
          "text": [
            "\rFold 4 Epoch 15:  88%|\u2588\u2588\u2588\u2588\u2588\u2588\u2588\u2588\u258a | 36/41 [00:01<00:00, 22.83it/s]"
          ]
        },
        {
          "output_type": "stream",
          "name": "stderr",
          "text": [
            "\rFold 4 Epoch 15:  95%|\u2588\u2588\u2588\u2588\u2588\u2588\u2588\u2588\u2588\u258c| 39/41 [00:01<00:00, 22.85it/s]"
          ]
        },
        {
          "output_type": "stream",
          "name": "stderr",
          "text": [
            "\rFold 4 Epoch 15: 100%|\u2588\u2588\u2588\u2588\u2588\u2588\u2588\u2588\u2588\u2588| 41/41 [00:01<00:00, 23.00it/s]"
          ]
        },
        {
          "output_type": "stream",
          "name": "stderr",
          "text": [
            "\n"
          ]
        },
        {
          "output_type": "stream",
          "name": "stdout",
          "text": [
            "Batch 40, elapsed: 1.8s\nFold 4 Epoch 15 train time: 1.8s\nFold 4 Epoch 15: Train 0.7034, Val 0.6820, val time: 0.2s\nFold 4 best val loss: 0.6814\n"
          ]
        },
        {
          "output_type": "stream",
          "name": "stdout",
          "text": [
            "Fold 5 pos_weight: [3. 3. 3. 3. 3. 3. 3.]\nFold 5 GPU memory before model: 0.1GB\n"
          ]
        },
        {
          "output_type": "stream",
          "name": "stderr",
          "text": [
            "\rFold 5 Epoch 1:   0%|          | 0/41 [00:00<?, ?it/s]"
          ]
        },
        {
          "output_type": "stream",
          "name": "stderr",
          "text": [
            "\rFold 5 Epoch 1:   7%|\u258b         | 3/41 [00:00<00:01, 23.30it/s]"
          ]
        },
        {
          "output_type": "stream",
          "name": "stdout",
          "text": [
            "Batch 0, elapsed: 0.0s\n"
          ]
        },
        {
          "output_type": "stream",
          "name": "stderr",
          "text": [
            "\rFold 5 Epoch 1:  15%|\u2588\u258d        | 6/41 [00:00<00:01, 23.84it/s]"
          ]
        },
        {
          "output_type": "stream",
          "name": "stderr",
          "text": [
            "\rFold 5 Epoch 1:  22%|\u2588\u2588\u258f       | 9/41 [00:00<00:01, 23.47it/s]"
          ]
        },
        {
          "output_type": "stream",
          "name": "stderr",
          "text": [
            "\rFold 5 Epoch 1:  29%|\u2588\u2588\u2589       | 12/41 [00:00<00:01, 23.41it/s]"
          ]
        },
        {
          "output_type": "stream",
          "name": "stderr",
          "text": [
            "\rFold 5 Epoch 1:  37%|\u2588\u2588\u2588\u258b      | 15/41 [00:00<00:01, 23.06it/s]"
          ]
        },
        {
          "output_type": "stream",
          "name": "stdout",
          "text": [
            "Batch 10, elapsed: 0.5s\n"
          ]
        },
        {
          "output_type": "stream",
          "name": "stderr",
          "text": [
            "\rFold 5 Epoch 1:  44%|\u2588\u2588\u2588\u2588\u258d     | 18/41 [00:00<00:01, 22.87it/s]"
          ]
        },
        {
          "output_type": "stream",
          "name": "stderr",
          "text": [
            "\rFold 5 Epoch 1:  51%|\u2588\u2588\u2588\u2588\u2588     | 21/41 [00:00<00:00, 23.15it/s]"
          ]
        },
        {
          "output_type": "stream",
          "name": "stderr",
          "text": [
            "\rFold 5 Epoch 1:  59%|\u2588\u2588\u2588\u2588\u2588\u258a    | 24/41 [00:01<00:00, 23.06it/s]"
          ]
        },
        {
          "output_type": "stream",
          "name": "stdout",
          "text": [
            "Batch 20, elapsed: 0.9s\n"
          ]
        },
        {
          "output_type": "stream",
          "name": "stderr",
          "text": [
            "\rFold 5 Epoch 1:  66%|\u2588\u2588\u2588\u2588\u2588\u2588\u258c   | 27/41 [00:01<00:00, 23.00it/s]"
          ]
        },
        {
          "output_type": "stream",
          "name": "stderr",
          "text": [
            "\rFold 5 Epoch 1:  73%|\u2588\u2588\u2588\u2588\u2588\u2588\u2588\u258e  | 30/41 [00:01<00:00, 23.28it/s]"
          ]
        },
        {
          "output_type": "stream",
          "name": "stderr",
          "text": [
            "\rFold 5 Epoch 1:  80%|\u2588\u2588\u2588\u2588\u2588\u2588\u2588\u2588  | 33/41 [00:01<00:00, 23.31it/s]"
          ]
        },
        {
          "output_type": "stream",
          "name": "stdout",
          "text": [
            "Batch 30, elapsed: 1.3s\n"
          ]
        },
        {
          "output_type": "stream",
          "name": "stderr",
          "text": [
            "\rFold 5 Epoch 1:  88%|\u2588\u2588\u2588\u2588\u2588\u2588\u2588\u2588\u258a | 36/41 [00:01<00:00, 23.37it/s]"
          ]
        },
        {
          "output_type": "stream",
          "name": "stderr",
          "text": [
            "\rFold 5 Epoch 1:  95%|\u2588\u2588\u2588\u2588\u2588\u2588\u2588\u2588\u2588\u258c| 39/41 [00:01<00:00, 23.37it/s]"
          ]
        },
        {
          "output_type": "stream",
          "name": "stderr",
          "text": [
            "\rFold 5 Epoch 1: 100%|\u2588\u2588\u2588\u2588\u2588\u2588\u2588\u2588\u2588\u2588| 41/41 [00:01<00:00, 23.33it/s]"
          ]
        },
        {
          "output_type": "stream",
          "name": "stderr",
          "text": [
            "\n"
          ]
        },
        {
          "output_type": "stream",
          "name": "stdout",
          "text": [
            "Batch 40, elapsed: 1.8s\nFold 5 Epoch 1 train time: 1.8s\nFold 5 Epoch 1: Train 0.8555, Val 0.7341, val time: 0.2s\n"
          ]
        },
        {
          "output_type": "stream",
          "name": "stdout",
          "text": [
            "New best at epoch 1\n"
          ]
        },
        {
          "output_type": "stream",
          "name": "stderr",
          "text": [
            "\rFold 5 Epoch 2:   0%|          | 0/41 [00:00<?, ?it/s]"
          ]
        },
        {
          "output_type": "stream",
          "name": "stderr",
          "text": [
            "\rFold 5 Epoch 2:   7%|\u258b         | 3/41 [00:00<00:01, 23.43it/s]"
          ]
        },
        {
          "output_type": "stream",
          "name": "stdout",
          "text": [
            "Batch 0, elapsed: 0.0s\n"
          ]
        },
        {
          "output_type": "stream",
          "name": "stderr",
          "text": [
            "\rFold 5 Epoch 2:  15%|\u2588\u258d        | 6/41 [00:00<00:01, 23.98it/s]"
          ]
        },
        {
          "output_type": "stream",
          "name": "stderr",
          "text": [
            "\rFold 5 Epoch 2:  22%|\u2588\u2588\u258f       | 9/41 [00:00<00:01, 24.34it/s]"
          ]
        },
        {
          "output_type": "stream",
          "name": "stderr",
          "text": [
            "\rFold 5 Epoch 2:  29%|\u2588\u2588\u2589       | 12/41 [00:00<00:01, 24.05it/s]"
          ]
        },
        {
          "output_type": "stream",
          "name": "stderr",
          "text": [
            "\rFold 5 Epoch 2:  37%|\u2588\u2588\u2588\u258b      | 15/41 [00:00<00:01, 24.14it/s]"
          ]
        },
        {
          "output_type": "stream",
          "name": "stdout",
          "text": [
            "Batch 10, elapsed: 0.5s\n"
          ]
        },
        {
          "output_type": "stream",
          "name": "stderr",
          "text": [
            "\rFold 5 Epoch 2:  44%|\u2588\u2588\u2588\u2588\u258d     | 18/41 [00:00<00:00, 23.77it/s]"
          ]
        },
        {
          "output_type": "stream",
          "name": "stderr",
          "text": [
            "\rFold 5 Epoch 2:  51%|\u2588\u2588\u2588\u2588\u2588     | 21/41 [00:00<00:00, 23.46it/s]"
          ]
        },
        {
          "output_type": "stream",
          "name": "stderr",
          "text": [
            "\rFold 5 Epoch 2:  59%|\u2588\u2588\u2588\u2588\u2588\u258a    | 24/41 [00:01<00:00, 23.54it/s]"
          ]
        },
        {
          "output_type": "stream",
          "name": "stdout",
          "text": [
            "Batch 20, elapsed: 0.9s\n"
          ]
        },
        {
          "output_type": "stream",
          "name": "stderr",
          "text": [
            "\rFold 5 Epoch 2:  66%|\u2588\u2588\u2588\u2588\u2588\u2588\u258c   | 27/41 [00:01<00:00, 23.83it/s]"
          ]
        },
        {
          "output_type": "stream",
          "name": "stderr",
          "text": [
            "\rFold 5 Epoch 2:  73%|\u2588\u2588\u2588\u2588\u2588\u2588\u2588\u258e  | 30/41 [00:01<00:00, 23.79it/s]"
          ]
        },
        {
          "output_type": "stream",
          "name": "stderr",
          "text": [
            "\rFold 5 Epoch 2:  80%|\u2588\u2588\u2588\u2588\u2588\u2588\u2588\u2588  | 33/41 [00:01<00:00, 23.86it/s]"
          ]
        },
        {
          "output_type": "stream",
          "name": "stdout",
          "text": [
            "Batch 30, elapsed: 1.3s\n"
          ]
        },
        {
          "output_type": "stream",
          "name": "stderr",
          "text": [
            "\rFold 5 Epoch 2:  88%|\u2588\u2588\u2588\u2588\u2588\u2588\u2588\u2588\u258a | 36/41 [00:01<00:00, 23.73it/s]"
          ]
        },
        {
          "output_type": "stream",
          "name": "stderr",
          "text": [
            "\rFold 5 Epoch 2:  95%|\u2588\u2588\u2588\u2588\u2588\u2588\u2588\u2588\u2588\u258c| 39/41 [00:01<00:00, 23.67it/s]"
          ]
        },
        {
          "output_type": "stream",
          "name": "stderr",
          "text": [
            "\rFold 5 Epoch 2: 100%|\u2588\u2588\u2588\u2588\u2588\u2588\u2588\u2588\u2588\u2588| 41/41 [00:01<00:00, 23.88it/s]"
          ]
        },
        {
          "output_type": "stream",
          "name": "stderr",
          "text": [
            "\n"
          ]
        },
        {
          "output_type": "stream",
          "name": "stdout",
          "text": [
            "Batch 40, elapsed: 1.7s\nFold 5 Epoch 2 train time: 1.7s\nFold 5 Epoch 2: Train 0.7574, Val 0.7126, val time: 0.2s\n"
          ]
        },
        {
          "output_type": "stream",
          "name": "stdout",
          "text": [
            "New best at epoch 2\n"
          ]
        },
        {
          "output_type": "stream",
          "name": "stderr",
          "text": [
            "\rFold 5 Epoch 3:   0%|          | 0/41 [00:00<?, ?it/s]"
          ]
        },
        {
          "output_type": "stream",
          "name": "stderr",
          "text": [
            "\rFold 5 Epoch 3:   7%|\u258b         | 3/41 [00:00<00:01, 21.35it/s]"
          ]
        },
        {
          "output_type": "stream",
          "name": "stdout",
          "text": [
            "Batch 0, elapsed: 0.1s\n"
          ]
        },
        {
          "output_type": "stream",
          "name": "stderr",
          "text": [
            "\rFold 5 Epoch 3:  15%|\u2588\u258d        | 6/41 [00:00<00:01, 22.17it/s]"
          ]
        },
        {
          "output_type": "stream",
          "name": "stderr",
          "text": [
            "\rFold 5 Epoch 3:  22%|\u2588\u2588\u258f       | 9/41 [00:00<00:01, 22.42it/s]"
          ]
        },
        {
          "output_type": "stream",
          "name": "stderr",
          "text": [
            "\rFold 5 Epoch 3:  29%|\u2588\u2588\u2589       | 12/41 [00:00<00:01, 22.97it/s]"
          ]
        },
        {
          "output_type": "stream",
          "name": "stderr",
          "text": [
            "\rFold 5 Epoch 3:  37%|\u2588\u2588\u2588\u258b      | 15/41 [00:00<00:01, 23.06it/s]"
          ]
        },
        {
          "output_type": "stream",
          "name": "stdout",
          "text": [
            "Batch 10, elapsed: 0.5s\n"
          ]
        },
        {
          "output_type": "stream",
          "name": "stderr",
          "text": [
            "\rFold 5 Epoch 3:  44%|\u2588\u2588\u2588\u2588\u258d     | 18/41 [00:00<00:00, 23.19it/s]"
          ]
        },
        {
          "output_type": "stream",
          "name": "stderr",
          "text": [
            "\rFold 5 Epoch 3:  51%|\u2588\u2588\u2588\u2588\u2588     | 21/41 [00:00<00:00, 23.15it/s]"
          ]
        },
        {
          "output_type": "stream",
          "name": "stderr",
          "text": [
            "\rFold 5 Epoch 3:  59%|\u2588\u2588\u2588\u2588\u2588\u258a    | 24/41 [00:01<00:00, 23.11it/s]"
          ]
        },
        {
          "output_type": "stream",
          "name": "stdout",
          "text": [
            "Batch 20, elapsed: 0.9s\n"
          ]
        },
        {
          "output_type": "stream",
          "name": "stderr",
          "text": [
            "\rFold 5 Epoch 3:  66%|\u2588\u2588\u2588\u2588\u2588\u2588\u258c   | 27/41 [00:01<00:00, 22.98it/s]"
          ]
        },
        {
          "output_type": "stream",
          "name": "stderr",
          "text": [
            "\rFold 5 Epoch 3:  73%|\u2588\u2588\u2588\u2588\u2588\u2588\u2588\u258e  | 30/41 [00:01<00:00, 23.22it/s]"
          ]
        },
        {
          "output_type": "stream",
          "name": "stderr",
          "text": [
            "\rFold 5 Epoch 3:  80%|\u2588\u2588\u2588\u2588\u2588\u2588\u2588\u2588  | 33/41 [00:01<00:00, 23.29it/s]"
          ]
        },
        {
          "output_type": "stream",
          "name": "stdout",
          "text": [
            "Batch 30, elapsed: 1.3s\n"
          ]
        },
        {
          "output_type": "stream",
          "name": "stderr",
          "text": [
            "\rFold 5 Epoch 3:  88%|\u2588\u2588\u2588\u2588\u2588\u2588\u2588\u2588\u258a | 36/41 [00:01<00:00, 23.20it/s]"
          ]
        },
        {
          "output_type": "stream",
          "name": "stderr",
          "text": [
            "\rFold 5 Epoch 3:  95%|\u2588\u2588\u2588\u2588\u2588\u2588\u2588\u2588\u2588\u258c| 39/41 [00:01<00:00, 23.20it/s]"
          ]
        },
        {
          "output_type": "stream",
          "name": "stderr",
          "text": [
            "\rFold 5 Epoch 3: 100%|\u2588\u2588\u2588\u2588\u2588\u2588\u2588\u2588\u2588\u2588| 41/41 [00:01<00:00, 23.15it/s]"
          ]
        },
        {
          "output_type": "stream",
          "name": "stderr",
          "text": [
            "\n"
          ]
        },
        {
          "output_type": "stream",
          "name": "stdout",
          "text": [
            "Batch 40, elapsed: 1.8s\nFold 5 Epoch 3 train time: 1.8s\nFold 5 Epoch 3: Train 0.7570, Val 0.6885, val time: 0.2s\n"
          ]
        },
        {
          "output_type": "stream",
          "name": "stdout",
          "text": [
            "New best at epoch 3\n"
          ]
        },
        {
          "output_type": "stream",
          "name": "stderr",
          "text": [
            "\rFold 5 Epoch 4:   0%|          | 0/41 [00:00<?, ?it/s]"
          ]
        },
        {
          "output_type": "stream",
          "name": "stderr",
          "text": [
            "\rFold 5 Epoch 4:   7%|\u258b         | 3/41 [00:00<00:01, 22.36it/s]"
          ]
        },
        {
          "output_type": "stream",
          "name": "stdout",
          "text": [
            "Batch 0, elapsed: 0.0s\n"
          ]
        },
        {
          "output_type": "stream",
          "name": "stderr",
          "text": [
            "\rFold 5 Epoch 4:  15%|\u2588\u258d        | 6/41 [00:00<00:01, 22.85it/s]"
          ]
        },
        {
          "output_type": "stream",
          "name": "stderr",
          "text": [
            "\rFold 5 Epoch 4:  22%|\u2588\u2588\u258f       | 9/41 [00:00<00:01, 23.37it/s]"
          ]
        },
        {
          "output_type": "stream",
          "name": "stderr",
          "text": [
            "\rFold 5 Epoch 4:  29%|\u2588\u2588\u2589       | 12/41 [00:00<00:01, 23.59it/s]"
          ]
        },
        {
          "output_type": "stream",
          "name": "stderr",
          "text": [
            "\rFold 5 Epoch 4:  37%|\u2588\u2588\u2588\u258b      | 15/41 [00:00<00:01, 23.64it/s]"
          ]
        },
        {
          "output_type": "stream",
          "name": "stdout",
          "text": [
            "Batch 10, elapsed: 0.5s\n"
          ]
        },
        {
          "output_type": "stream",
          "name": "stderr",
          "text": [
            "\rFold 5 Epoch 4:  44%|\u2588\u2588\u2588\u2588\u258d     | 18/41 [00:00<00:00, 23.81it/s]"
          ]
        },
        {
          "output_type": "stream",
          "name": "stderr",
          "text": [
            "\rFold 5 Epoch 4:  51%|\u2588\u2588\u2588\u2588\u2588     | 21/41 [00:00<00:00, 23.47it/s]"
          ]
        },
        {
          "output_type": "stream",
          "name": "stderr",
          "text": [
            "\rFold 5 Epoch 4:  59%|\u2588\u2588\u2588\u2588\u2588\u258a    | 24/41 [00:01<00:00, 23.39it/s]"
          ]
        },
        {
          "output_type": "stream",
          "name": "stdout",
          "text": [
            "Batch 20, elapsed: 0.9s\n"
          ]
        },
        {
          "output_type": "stream",
          "name": "stderr",
          "text": [
            "\rFold 5 Epoch 4:  66%|\u2588\u2588\u2588\u2588\u2588\u2588\u258c   | 27/41 [00:01<00:00, 23.39it/s]"
          ]
        },
        {
          "output_type": "stream",
          "name": "stderr",
          "text": [
            "\rFold 5 Epoch 4:  73%|\u2588\u2588\u2588\u2588\u2588\u2588\u2588\u258e  | 30/41 [00:01<00:00, 23.22it/s]"
          ]
        },
        {
          "output_type": "stream",
          "name": "stderr",
          "text": [
            "\rFold 5 Epoch 4:  80%|\u2588\u2588\u2588\u2588\u2588\u2588\u2588\u2588  | 33/41 [00:01<00:00, 23.40it/s]"
          ]
        },
        {
          "output_type": "stream",
          "name": "stdout",
          "text": [
            "Batch 30, elapsed: 1.3s\n"
          ]
        },
        {
          "output_type": "stream",
          "name": "stderr",
          "text": [
            "\rFold 5 Epoch 4:  88%|\u2588\u2588\u2588\u2588\u2588\u2588\u2588\u2588\u258a | 36/41 [00:01<00:00, 23.36it/s]"
          ]
        },
        {
          "output_type": "stream",
          "name": "stderr",
          "text": [
            "\rFold 5 Epoch 4:  95%|\u2588\u2588\u2588\u2588\u2588\u2588\u2588\u2588\u2588\u258c| 39/41 [00:01<00:00, 23.67it/s]"
          ]
        },
        {
          "output_type": "stream",
          "name": "stderr",
          "text": [
            "\rFold 5 Epoch 4: 100%|\u2588\u2588\u2588\u2588\u2588\u2588\u2588\u2588\u2588\u2588| 41/41 [00:01<00:00, 23.57it/s]"
          ]
        },
        {
          "output_type": "stream",
          "name": "stderr",
          "text": [
            "\n"
          ]
        },
        {
          "output_type": "stream",
          "name": "stdout",
          "text": [
            "Batch 40, elapsed: 1.7s\nFold 5 Epoch 4 train time: 1.7s\nFold 5 Epoch 4: Train 0.7430, Val 0.6982, val time: 0.2s\n"
          ]
        },
        {
          "output_type": "stream",
          "name": "stderr",
          "text": [
            "\rFold 5 Epoch 5:   0%|          | 0/41 [00:00<?, ?it/s]"
          ]
        },
        {
          "output_type": "stream",
          "name": "stderr",
          "text": [
            "\rFold 5 Epoch 5:   7%|\u258b         | 3/41 [00:00<00:01, 23.43it/s]"
          ]
        },
        {
          "output_type": "stream",
          "name": "stdout",
          "text": [
            "Batch 0, elapsed: 0.0s\n"
          ]
        },
        {
          "output_type": "stream",
          "name": "stderr",
          "text": [
            "\rFold 5 Epoch 5:  15%|\u2588\u258d        | 6/41 [00:00<00:01, 23.45it/s]"
          ]
        },
        {
          "output_type": "stream",
          "name": "stderr",
          "text": [
            "\rFold 5 Epoch 5:  22%|\u2588\u2588\u258f       | 9/41 [00:00<00:01, 23.60it/s]"
          ]
        },
        {
          "output_type": "stream",
          "name": "stderr",
          "text": [
            "\rFold 5 Epoch 5:  29%|\u2588\u2588\u2589       | 12/41 [00:00<00:01, 23.28it/s]"
          ]
        },
        {
          "output_type": "stream",
          "name": "stderr",
          "text": [
            "\rFold 5 Epoch 5:  37%|\u2588\u2588\u2588\u258b      | 15/41 [00:00<00:01, 22.94it/s]"
          ]
        },
        {
          "output_type": "stream",
          "name": "stdout",
          "text": [
            "Batch 10, elapsed: 0.5s\n"
          ]
        },
        {
          "output_type": "stream",
          "name": "stderr",
          "text": [
            "\rFold 5 Epoch 5:  44%|\u2588\u2588\u2588\u2588\u258d     | 18/41 [00:00<00:01, 22.90it/s]"
          ]
        },
        {
          "output_type": "stream",
          "name": "stderr",
          "text": [
            "\rFold 5 Epoch 5:  51%|\u2588\u2588\u2588\u2588\u2588     | 21/41 [00:00<00:00, 23.27it/s]"
          ]
        },
        {
          "output_type": "stream",
          "name": "stderr",
          "text": [
            "\rFold 5 Epoch 5:  59%|\u2588\u2588\u2588\u2588\u2588\u258a    | 24/41 [00:01<00:00, 23.21it/s]"
          ]
        },
        {
          "output_type": "stream",
          "name": "stdout",
          "text": [
            "Batch 20, elapsed: 0.9s\n"
          ]
        },
        {
          "output_type": "stream",
          "name": "stderr",
          "text": [
            "\rFold 5 Epoch 5:  66%|\u2588\u2588\u2588\u2588\u2588\u2588\u258c   | 27/41 [00:01<00:00, 23.17it/s]"
          ]
        },
        {
          "output_type": "stream",
          "name": "stderr",
          "text": [
            "\rFold 5 Epoch 5:  73%|\u2588\u2588\u2588\u2588\u2588\u2588\u2588\u258e  | 30/41 [00:01<00:00, 23.09it/s]"
          ]
        },
        {
          "output_type": "stream",
          "name": "stderr",
          "text": [
            "\rFold 5 Epoch 5:  80%|\u2588\u2588\u2588\u2588\u2588\u2588\u2588\u2588  | 33/41 [00:01<00:00, 23.18it/s]"
          ]
        },
        {
          "output_type": "stream",
          "name": "stdout",
          "text": [
            "Batch 30, elapsed: 1.3s\n"
          ]
        },
        {
          "output_type": "stream",
          "name": "stderr",
          "text": [
            "\rFold 5 Epoch 5:  88%|\u2588\u2588\u2588\u2588\u2588\u2588\u2588\u2588\u258a | 36/41 [00:01<00:00, 23.22it/s]"
          ]
        },
        {
          "output_type": "stream",
          "name": "stderr",
          "text": [
            "\rFold 5 Epoch 5:  95%|\u2588\u2588\u2588\u2588\u2588\u2588\u2588\u2588\u2588\u258c| 39/41 [00:01<00:00, 23.06it/s]"
          ]
        },
        {
          "output_type": "stream",
          "name": "stderr",
          "text": [
            "\rFold 5 Epoch 5: 100%|\u2588\u2588\u2588\u2588\u2588\u2588\u2588\u2588\u2588\u2588| 41/41 [00:01<00:00, 23.26it/s]"
          ]
        },
        {
          "output_type": "stream",
          "name": "stderr",
          "text": [
            "\n"
          ]
        },
        {
          "output_type": "stream",
          "name": "stdout",
          "text": [
            "Batch 40, elapsed: 1.8s\nFold 5 Epoch 5 train time: 1.8s\nFold 5 Epoch 5: Train 0.7294, Val 0.7015, val time: 0.2s\n"
          ]
        },
        {
          "output_type": "stream",
          "name": "stderr",
          "text": [
            "\rFold 5 Epoch 6:   0%|          | 0/41 [00:00<?, ?it/s]"
          ]
        },
        {
          "output_type": "stream",
          "name": "stderr",
          "text": [
            "\rFold 5 Epoch 6:   7%|\u258b         | 3/41 [00:00<00:01, 23.94it/s]"
          ]
        },
        {
          "output_type": "stream",
          "name": "stdout",
          "text": [
            "Batch 0, elapsed: 0.0s\n"
          ]
        },
        {
          "output_type": "stream",
          "name": "stderr",
          "text": [
            "\rFold 5 Epoch 6:  15%|\u2588\u258d        | 6/41 [00:00<00:01, 24.01it/s]"
          ]
        },
        {
          "output_type": "stream",
          "name": "stderr",
          "text": [
            "\rFold 5 Epoch 6:  22%|\u2588\u2588\u258f       | 9/41 [00:00<00:01, 23.63it/s]"
          ]
        },
        {
          "output_type": "stream",
          "name": "stderr",
          "text": [
            "\rFold 5 Epoch 6:  29%|\u2588\u2588\u2589       | 12/41 [00:00<00:01, 23.77it/s]"
          ]
        },
        {
          "output_type": "stream",
          "name": "stderr",
          "text": [
            "\rFold 5 Epoch 6:  37%|\u2588\u2588\u2588\u258b      | 15/41 [00:00<00:01, 23.93it/s]"
          ]
        },
        {
          "output_type": "stream",
          "name": "stdout",
          "text": [
            "Batch 10, elapsed: 0.5s\n"
          ]
        },
        {
          "output_type": "stream",
          "name": "stderr",
          "text": [
            "\rFold 5 Epoch 6:  44%|\u2588\u2588\u2588\u2588\u258d     | 18/41 [00:00<00:00, 23.94it/s]"
          ]
        },
        {
          "output_type": "stream",
          "name": "stderr",
          "text": [
            "\rFold 5 Epoch 6:  51%|\u2588\u2588\u2588\u2588\u2588     | 21/41 [00:00<00:00, 23.59it/s]"
          ]
        },
        {
          "output_type": "stream",
          "name": "stderr",
          "text": [
            "\rFold 5 Epoch 6:  59%|\u2588\u2588\u2588\u2588\u2588\u258a    | 24/41 [00:01<00:00, 23.70it/s]"
          ]
        },
        {
          "output_type": "stream",
          "name": "stdout",
          "text": [
            "Batch 20, elapsed: 0.9s\n"
          ]
        },
        {
          "output_type": "stream",
          "name": "stderr",
          "text": [
            "\rFold 5 Epoch 6:  66%|\u2588\u2588\u2588\u2588\u2588\u2588\u258c   | 27/41 [00:01<00:00, 23.74it/s]"
          ]
        },
        {
          "output_type": "stream",
          "name": "stderr",
          "text": [
            "\rFold 5 Epoch 6:  73%|\u2588\u2588\u2588\u2588\u2588\u2588\u2588\u258e  | 30/41 [00:01<00:00, 23.43it/s]"
          ]
        },
        {
          "output_type": "stream",
          "name": "stderr",
          "text": [
            "\rFold 5 Epoch 6:  80%|\u2588\u2588\u2588\u2588\u2588\u2588\u2588\u2588  | 33/41 [00:01<00:00, 23.50it/s]"
          ]
        },
        {
          "output_type": "stream",
          "name": "stdout",
          "text": [
            "Batch 30, elapsed: 1.3s\n"
          ]
        },
        {
          "output_type": "stream",
          "name": "stderr",
          "text": [
            "\rFold 5 Epoch 6:  88%|\u2588\u2588\u2588\u2588\u2588\u2588\u2588\u2588\u258a | 36/41 [00:01<00:00, 23.91it/s]"
          ]
        },
        {
          "output_type": "stream",
          "name": "stderr",
          "text": [
            "\rFold 5 Epoch 6:  95%|\u2588\u2588\u2588\u2588\u2588\u2588\u2588\u2588\u2588\u258c| 39/41 [00:01<00:00, 23.91it/s]"
          ]
        },
        {
          "output_type": "stream",
          "name": "stderr",
          "text": [
            "\rFold 5 Epoch 6: 100%|\u2588\u2588\u2588\u2588\u2588\u2588\u2588\u2588\u2588\u2588| 41/41 [00:01<00:00, 23.92it/s]"
          ]
        },
        {
          "output_type": "stream",
          "name": "stderr",
          "text": [
            "\n"
          ]
        },
        {
          "output_type": "stream",
          "name": "stdout",
          "text": [
            "Batch 40, elapsed: 1.7s\nFold 5 Epoch 6 train time: 1.7s\nFold 5 Epoch 6: Train 0.7434, Val 0.6806, val time: 0.2s\n"
          ]
        },
        {
          "output_type": "stream",
          "name": "stdout",
          "text": [
            "New best at epoch 6\n"
          ]
        },
        {
          "output_type": "stream",
          "name": "stderr",
          "text": [
            "\rFold 5 Epoch 7:   0%|          | 0/41 [00:00<?, ?it/s]"
          ]
        },
        {
          "output_type": "stream",
          "name": "stderr",
          "text": [
            "\rFold 5 Epoch 7:   7%|\u258b         | 3/41 [00:00<00:01, 23.00it/s]"
          ]
        },
        {
          "output_type": "stream",
          "name": "stdout",
          "text": [
            "Batch 0, elapsed: 0.0s\n"
          ]
        },
        {
          "output_type": "stream",
          "name": "stderr",
          "text": [
            "\rFold 5 Epoch 7:  15%|\u2588\u258d        | 6/41 [00:00<00:01, 23.50it/s]"
          ]
        },
        {
          "output_type": "stream",
          "name": "stderr",
          "text": [
            "\rFold 5 Epoch 7:  22%|\u2588\u2588\u258f       | 9/41 [00:00<00:01, 23.41it/s]"
          ]
        },
        {
          "output_type": "stream",
          "name": "stderr",
          "text": [
            "\rFold 5 Epoch 7:  29%|\u2588\u2588\u2589       | 12/41 [00:00<00:01, 23.82it/s]"
          ]
        },
        {
          "output_type": "stream",
          "name": "stderr",
          "text": [
            "\rFold 5 Epoch 7:  37%|\u2588\u2588\u2588\u258b      | 15/41 [00:00<00:01, 23.67it/s]"
          ]
        },
        {
          "output_type": "stream",
          "name": "stdout",
          "text": [
            "Batch 10, elapsed: 0.5s\n"
          ]
        },
        {
          "output_type": "stream",
          "name": "stderr",
          "text": [
            "\rFold 5 Epoch 7:  44%|\u2588\u2588\u2588\u2588\u258d     | 18/41 [00:00<00:00, 23.37it/s]"
          ]
        },
        {
          "output_type": "stream",
          "name": "stderr",
          "text": [
            "\rFold 5 Epoch 7:  51%|\u2588\u2588\u2588\u2588\u2588     | 21/41 [00:00<00:00, 23.66it/s]"
          ]
        },
        {
          "output_type": "stream",
          "name": "stderr",
          "text": [
            "\rFold 5 Epoch 7:  59%|\u2588\u2588\u2588\u2588\u2588\u258a    | 24/41 [00:01<00:00, 23.64it/s]"
          ]
        },
        {
          "output_type": "stream",
          "name": "stdout",
          "text": [
            "Batch 20, elapsed: 0.9s\n"
          ]
        },
        {
          "output_type": "stream",
          "name": "stderr",
          "text": [
            "\rFold 5 Epoch 7:  66%|\u2588\u2588\u2588\u2588\u2588\u2588\u258c   | 27/41 [00:01<00:00, 23.86it/s]"
          ]
        },
        {
          "output_type": "stream",
          "name": "stderr",
          "text": [
            "\rFold 5 Epoch 7:  73%|\u2588\u2588\u2588\u2588\u2588\u2588\u2588\u258e  | 30/41 [00:01<00:00, 23.85it/s]"
          ]
        },
        {
          "output_type": "stream",
          "name": "stderr",
          "text": [
            "\rFold 5 Epoch 7:  80%|\u2588\u2588\u2588\u2588\u2588\u2588\u2588\u2588  | 33/41 [00:01<00:00, 24.03it/s]"
          ]
        },
        {
          "output_type": "stream",
          "name": "stdout",
          "text": [
            "Batch 30, elapsed: 1.3s\n"
          ]
        },
        {
          "output_type": "stream",
          "name": "stderr",
          "text": [
            "\rFold 5 Epoch 7:  88%|\u2588\u2588\u2588\u2588\u2588\u2588\u2588\u2588\u258a | 36/41 [00:01<00:00, 23.89it/s]"
          ]
        },
        {
          "output_type": "stream",
          "name": "stderr",
          "text": [
            "\rFold 5 Epoch 7:  95%|\u2588\u2588\u2588\u2588\u2588\u2588\u2588\u2588\u2588\u258c| 39/41 [00:01<00:00, 23.80it/s]"
          ]
        },
        {
          "output_type": "stream",
          "name": "stderr",
          "text": [
            "\rFold 5 Epoch 7: 100%|\u2588\u2588\u2588\u2588\u2588\u2588\u2588\u2588\u2588\u2588| 41/41 [00:01<00:00, 23.82it/s]"
          ]
        },
        {
          "output_type": "stream",
          "name": "stderr",
          "text": [
            "\n"
          ]
        },
        {
          "output_type": "stream",
          "name": "stdout",
          "text": [
            "Batch 40, elapsed: 1.7s\nFold 5 Epoch 7 train time: 1.7s\nFold 5 Epoch 7: Train 0.7353, Val 0.6918, val time: 0.2s\n"
          ]
        },
        {
          "output_type": "stream",
          "name": "stderr",
          "text": [
            "\rFold 5 Epoch 8:   0%|          | 0/41 [00:00<?, ?it/s]"
          ]
        },
        {
          "output_type": "stream",
          "name": "stderr",
          "text": [
            "\rFold 5 Epoch 8:   7%|\u258b         | 3/41 [00:00<00:01, 23.67it/s]"
          ]
        },
        {
          "output_type": "stream",
          "name": "stdout",
          "text": [
            "Batch 0, elapsed: 0.0s\n"
          ]
        },
        {
          "output_type": "stream",
          "name": "stderr",
          "text": [
            "\rFold 5 Epoch 8:  15%|\u2588\u258d        | 6/41 [00:00<00:01, 23.62it/s]"
          ]
        },
        {
          "output_type": "stream",
          "name": "stderr",
          "text": [
            "\rFold 5 Epoch 8:  22%|\u2588\u2588\u258f       | 9/41 [00:00<00:01, 23.63it/s]"
          ]
        },
        {
          "output_type": "stream",
          "name": "stderr",
          "text": [
            "\rFold 5 Epoch 8:  29%|\u2588\u2588\u2589       | 12/41 [00:00<00:01, 23.58it/s]"
          ]
        },
        {
          "output_type": "stream",
          "name": "stderr",
          "text": [
            "\rFold 5 Epoch 8:  37%|\u2588\u2588\u2588\u258b      | 15/41 [00:00<00:01, 23.57it/s]"
          ]
        },
        {
          "output_type": "stream",
          "name": "stdout",
          "text": [
            "Batch 10, elapsed: 0.5s\n"
          ]
        },
        {
          "output_type": "stream",
          "name": "stderr",
          "text": [
            "\rFold 5 Epoch 8:  44%|\u2588\u2588\u2588\u2588\u258d     | 18/41 [00:00<00:00, 23.57it/s]"
          ]
        },
        {
          "output_type": "stream",
          "name": "stderr",
          "text": [
            "\rFold 5 Epoch 8:  51%|\u2588\u2588\u2588\u2588\u2588     | 21/41 [00:00<00:00, 23.39it/s]"
          ]
        },
        {
          "output_type": "stream",
          "name": "stderr",
          "text": [
            "\rFold 5 Epoch 8:  59%|\u2588\u2588\u2588\u2588\u2588\u258a    | 24/41 [00:01<00:00, 23.52it/s]"
          ]
        },
        {
          "output_type": "stream",
          "name": "stdout",
          "text": [
            "Batch 20, elapsed: 0.9s\n"
          ]
        },
        {
          "output_type": "stream",
          "name": "stderr",
          "text": [
            "\rFold 5 Epoch 8:  66%|\u2588\u2588\u2588\u2588\u2588\u2588\u258c   | 27/41 [00:01<00:00, 23.44it/s]"
          ]
        },
        {
          "output_type": "stream",
          "name": "stderr",
          "text": [
            "\rFold 5 Epoch 8:  73%|\u2588\u2588\u2588\u2588\u2588\u2588\u2588\u258e  | 30/41 [00:01<00:00, 23.54it/s]"
          ]
        },
        {
          "output_type": "stream",
          "name": "stderr",
          "text": [
            "\rFold 5 Epoch 8:  80%|\u2588\u2588\u2588\u2588\u2588\u2588\u2588\u2588  | 33/41 [00:01<00:00, 23.43it/s]"
          ]
        },
        {
          "output_type": "stream",
          "name": "stdout",
          "text": [
            "Batch 30, elapsed: 1.3s\n"
          ]
        },
        {
          "output_type": "stream",
          "name": "stderr",
          "text": [
            "\rFold 5 Epoch 8:  88%|\u2588\u2588\u2588\u2588\u2588\u2588\u2588\u2588\u258a | 36/41 [00:01<00:00, 23.43it/s]"
          ]
        },
        {
          "output_type": "stream",
          "name": "stderr",
          "text": [
            "\rFold 5 Epoch 8:  95%|\u2588\u2588\u2588\u2588\u2588\u2588\u2588\u2588\u2588\u258c| 39/41 [00:01<00:00, 23.30it/s]"
          ]
        },
        {
          "output_type": "stream",
          "name": "stderr",
          "text": [
            "\rFold 5 Epoch 8: 100%|\u2588\u2588\u2588\u2588\u2588\u2588\u2588\u2588\u2588\u2588| 41/41 [00:01<00:00, 23.56it/s]"
          ]
        },
        {
          "output_type": "stream",
          "name": "stderr",
          "text": [
            "\n"
          ]
        },
        {
          "output_type": "stream",
          "name": "stdout",
          "text": [
            "Batch 40, elapsed: 1.7s\nFold 5 Epoch 8 train time: 1.7s\nFold 5 Epoch 8: Train 0.7177, Val 0.6876, val time: 0.2s\n"
          ]
        },
        {
          "output_type": "stream",
          "name": "stderr",
          "text": [
            "\rFold 5 Epoch 9:   0%|          | 0/41 [00:00<?, ?it/s]"
          ]
        },
        {
          "output_type": "stream",
          "name": "stderr",
          "text": [
            "\rFold 5 Epoch 9:   7%|\u258b         | 3/41 [00:00<00:01, 23.36it/s]"
          ]
        },
        {
          "output_type": "stream",
          "name": "stdout",
          "text": [
            "Batch 0, elapsed: 0.0s\n"
          ]
        },
        {
          "output_type": "stream",
          "name": "stderr",
          "text": [
            "\rFold 5 Epoch 9:  15%|\u2588\u258d        | 6/41 [00:00<00:01, 23.09it/s]"
          ]
        },
        {
          "output_type": "stream",
          "name": "stderr",
          "text": [
            "\rFold 5 Epoch 9:  22%|\u2588\u2588\u258f       | 9/41 [00:00<00:01, 22.96it/s]"
          ]
        },
        {
          "output_type": "stream",
          "name": "stderr",
          "text": [
            "\rFold 5 Epoch 9:  29%|\u2588\u2588\u2589       | 12/41 [00:00<00:01, 23.32it/s]"
          ]
        },
        {
          "output_type": "stream",
          "name": "stderr",
          "text": [
            "\rFold 5 Epoch 9:  37%|\u2588\u2588\u2588\u258b      | 15/41 [00:00<00:01, 23.62it/s]"
          ]
        },
        {
          "output_type": "stream",
          "name": "stdout",
          "text": [
            "Batch 10, elapsed: 0.5s\n"
          ]
        },
        {
          "output_type": "stream",
          "name": "stderr",
          "text": [
            "\rFold 5 Epoch 9:  44%|\u2588\u2588\u2588\u2588\u258d     | 18/41 [00:00<00:00, 23.70it/s]"
          ]
        },
        {
          "output_type": "stream",
          "name": "stderr",
          "text": [
            "\rFold 5 Epoch 9:  51%|\u2588\u2588\u2588\u2588\u2588     | 21/41 [00:00<00:00, 23.67it/s]"
          ]
        },
        {
          "output_type": "stream",
          "name": "stderr",
          "text": [
            "\rFold 5 Epoch 9:  59%|\u2588\u2588\u2588\u2588\u2588\u258a    | 24/41 [00:01<00:00, 23.72it/s]"
          ]
        },
        {
          "output_type": "stream",
          "name": "stdout",
          "text": [
            "Batch 20, elapsed: 0.9s\n"
          ]
        },
        {
          "output_type": "stream",
          "name": "stderr",
          "text": [
            "\rFold 5 Epoch 9:  66%|\u2588\u2588\u2588\u2588\u2588\u2588\u258c   | 27/41 [00:01<00:00, 23.72it/s]"
          ]
        },
        {
          "output_type": "stream",
          "name": "stderr",
          "text": [
            "\rFold 5 Epoch 9:  73%|\u2588\u2588\u2588\u2588\u2588\u2588\u2588\u258e  | 30/41 [00:01<00:00, 23.64it/s]"
          ]
        },
        {
          "output_type": "stream",
          "name": "stderr",
          "text": [
            "\rFold 5 Epoch 9:  80%|\u2588\u2588\u2588\u2588\u2588\u2588\u2588\u2588  | 33/41 [00:01<00:00, 23.57it/s]"
          ]
        },
        {
          "output_type": "stream",
          "name": "stdout",
          "text": [
            "Batch 30, elapsed: 1.3s\n"
          ]
        },
        {
          "output_type": "stream",
          "name": "stderr",
          "text": [
            "\rFold 5 Epoch 9:  88%|\u2588\u2588\u2588\u2588\u2588\u2588\u2588\u2588\u258a | 36/41 [00:01<00:00, 23.60it/s]"
          ]
        },
        {
          "output_type": "stream",
          "name": "stderr",
          "text": [
            "\rFold 5 Epoch 9:  95%|\u2588\u2588\u2588\u2588\u2588\u2588\u2588\u2588\u2588\u258c| 39/41 [00:01<00:00, 23.75it/s]"
          ]
        },
        {
          "output_type": "stream",
          "name": "stderr",
          "text": [
            "\rFold 5 Epoch 9: 100%|\u2588\u2588\u2588\u2588\u2588\u2588\u2588\u2588\u2588\u2588| 41/41 [00:01<00:00, 23.75it/s]"
          ]
        },
        {
          "output_type": "stream",
          "name": "stderr",
          "text": [
            "\n"
          ]
        },
        {
          "output_type": "stream",
          "name": "stdout",
          "text": [
            "Batch 40, elapsed: 1.7s\nFold 5 Epoch 9 train time: 1.7s\nFold 5 Epoch 9: Train 0.7255, Val 0.6834, val time: 0.2s\n"
          ]
        },
        {
          "output_type": "stream",
          "name": "stderr",
          "text": [
            "\rFold 5 Epoch 10:   0%|          | 0/41 [00:00<?, ?it/s]"
          ]
        },
        {
          "output_type": "stream",
          "name": "stderr",
          "text": [
            "\rFold 5 Epoch 10:   7%|\u258b         | 3/41 [00:00<00:01, 23.70it/s]"
          ]
        },
        {
          "output_type": "stream",
          "name": "stdout",
          "text": [
            "Batch 0, elapsed: 0.0s\n"
          ]
        },
        {
          "output_type": "stream",
          "name": "stderr",
          "text": [
            "\rFold 5 Epoch 10:  15%|\u2588\u258d        | 6/41 [00:00<00:01, 23.46it/s]"
          ]
        },
        {
          "output_type": "stream",
          "name": "stderr",
          "text": [
            "\rFold 5 Epoch 10:  22%|\u2588\u2588\u258f       | 9/41 [00:00<00:01, 23.35it/s]"
          ]
        },
        {
          "output_type": "stream",
          "name": "stderr",
          "text": [
            "\rFold 5 Epoch 10:  29%|\u2588\u2588\u2589       | 12/41 [00:00<00:01, 23.38it/s]"
          ]
        },
        {
          "output_type": "stream",
          "name": "stderr",
          "text": [
            "\rFold 5 Epoch 10:  37%|\u2588\u2588\u2588\u258b      | 15/41 [00:00<00:01, 23.62it/s]"
          ]
        },
        {
          "output_type": "stream",
          "name": "stdout",
          "text": [
            "Batch 10, elapsed: 0.5s\n"
          ]
        },
        {
          "output_type": "stream",
          "name": "stderr",
          "text": [
            "\rFold 5 Epoch 10:  44%|\u2588\u2588\u2588\u2588\u258d     | 18/41 [00:00<00:00, 23.75it/s]"
          ]
        },
        {
          "output_type": "stream",
          "name": "stderr",
          "text": [
            "\rFold 5 Epoch 10:  51%|\u2588\u2588\u2588\u2588\u2588     | 21/41 [00:00<00:00, 23.95it/s]"
          ]
        },
        {
          "output_type": "stream",
          "name": "stderr",
          "text": [
            "\rFold 5 Epoch 10:  59%|\u2588\u2588\u2588\u2588\u2588\u258a    | 24/41 [00:01<00:00, 23.83it/s]"
          ]
        },
        {
          "output_type": "stream",
          "name": "stdout",
          "text": [
            "Batch 20, elapsed: 0.9s\n"
          ]
        },
        {
          "output_type": "stream",
          "name": "stderr",
          "text": [
            "\rFold 5 Epoch 10:  66%|\u2588\u2588\u2588\u2588\u2588\u2588\u258c   | 27/41 [00:01<00:00, 23.99it/s]"
          ]
        },
        {
          "output_type": "stream",
          "name": "stderr",
          "text": [
            "\rFold 5 Epoch 10:  73%|\u2588\u2588\u2588\u2588\u2588\u2588\u2588\u258e  | 30/41 [00:01<00:00, 23.99it/s]"
          ]
        },
        {
          "output_type": "stream",
          "name": "stderr",
          "text": [
            "\rFold 5 Epoch 10:  80%|\u2588\u2588\u2588\u2588\u2588\u2588\u2588\u2588  | 33/41 [00:01<00:00, 23.77it/s]"
          ]
        },
        {
          "output_type": "stream",
          "name": "stdout",
          "text": [
            "Batch 30, elapsed: 1.3s\n"
          ]
        },
        {
          "output_type": "stream",
          "name": "stderr",
          "text": [
            "\rFold 5 Epoch 10:  88%|\u2588\u2588\u2588\u2588\u2588\u2588\u2588\u2588\u258a | 36/41 [00:01<00:00, 23.68it/s]"
          ]
        },
        {
          "output_type": "stream",
          "name": "stderr",
          "text": [
            "\rFold 5 Epoch 10:  95%|\u2588\u2588\u2588\u2588\u2588\u2588\u2588\u2588\u2588\u258c| 39/41 [00:01<00:00, 23.62it/s]"
          ]
        },
        {
          "output_type": "stream",
          "name": "stderr",
          "text": [
            "\rFold 5 Epoch 10: 100%|\u2588\u2588\u2588\u2588\u2588\u2588\u2588\u2588\u2588\u2588| 41/41 [00:01<00:00, 23.83it/s]"
          ]
        },
        {
          "output_type": "stream",
          "name": "stderr",
          "text": [
            "\n"
          ]
        },
        {
          "output_type": "stream",
          "name": "stdout",
          "text": [
            "Batch 40, elapsed: 1.7s\nFold 5 Epoch 10 train time: 1.7s\nFold 5 Epoch 10: Train 0.7112, Val 0.6840, val time: 0.2s\n"
          ]
        },
        {
          "output_type": "stream",
          "name": "stderr",
          "text": [
            "\rFold 5 Epoch 11:   0%|          | 0/41 [00:00<?, ?it/s]"
          ]
        },
        {
          "output_type": "stream",
          "name": "stderr",
          "text": [
            "\rFold 5 Epoch 11:   7%|\u258b         | 3/41 [00:00<00:01, 22.99it/s]"
          ]
        },
        {
          "output_type": "stream",
          "name": "stdout",
          "text": [
            "Batch 0, elapsed: 0.0s\n"
          ]
        },
        {
          "output_type": "stream",
          "name": "stderr",
          "text": [
            "\rFold 5 Epoch 11:  15%|\u2588\u258d        | 6/41 [00:00<00:01, 23.66it/s]"
          ]
        },
        {
          "output_type": "stream",
          "name": "stderr",
          "text": [
            "\rFold 5 Epoch 11:  22%|\u2588\u2588\u258f       | 9/41 [00:00<00:01, 23.92it/s]"
          ]
        },
        {
          "output_type": "stream",
          "name": "stderr",
          "text": [
            "\rFold 5 Epoch 11:  29%|\u2588\u2588\u2589       | 12/41 [00:00<00:01, 23.83it/s]"
          ]
        },
        {
          "output_type": "stream",
          "name": "stderr",
          "text": [
            "\rFold 5 Epoch 11:  37%|\u2588\u2588\u2588\u258b      | 15/41 [00:00<00:01, 23.98it/s]"
          ]
        },
        {
          "output_type": "stream",
          "name": "stdout",
          "text": [
            "Batch 10, elapsed: 0.5s\n"
          ]
        },
        {
          "output_type": "stream",
          "name": "stderr",
          "text": [
            "\rFold 5 Epoch 11:  44%|\u2588\u2588\u2588\u2588\u258d     | 18/41 [00:00<00:00, 23.73it/s]"
          ]
        },
        {
          "output_type": "stream",
          "name": "stderr",
          "text": [
            "\rFold 5 Epoch 11:  51%|\u2588\u2588\u2588\u2588\u2588     | 21/41 [00:00<00:00, 23.56it/s]"
          ]
        },
        {
          "output_type": "stream",
          "name": "stderr",
          "text": [
            "\rFold 5 Epoch 11:  59%|\u2588\u2588\u2588\u2588\u2588\u258a    | 24/41 [00:01<00:00, 23.73it/s]"
          ]
        },
        {
          "output_type": "stream",
          "name": "stdout",
          "text": [
            "Batch 20, elapsed: 0.9s\n"
          ]
        },
        {
          "output_type": "stream",
          "name": "stderr",
          "text": [
            "\rFold 5 Epoch 11:  66%|\u2588\u2588\u2588\u2588\u2588\u2588\u258c   | 27/41 [00:01<00:00, 23.50it/s]"
          ]
        },
        {
          "output_type": "stream",
          "name": "stderr",
          "text": [
            "\rFold 5 Epoch 11:  73%|\u2588\u2588\u2588\u2588\u2588\u2588\u2588\u258e  | 30/41 [00:01<00:00, 23.64it/s]"
          ]
        },
        {
          "output_type": "stream",
          "name": "stderr",
          "text": [
            "\rFold 5 Epoch 11:  80%|\u2588\u2588\u2588\u2588\u2588\u2588\u2588\u2588  | 33/41 [00:01<00:00, 23.80it/s]"
          ]
        },
        {
          "output_type": "stream",
          "name": "stdout",
          "text": [
            "Batch 30, elapsed: 1.3s\n"
          ]
        },
        {
          "output_type": "stream",
          "name": "stderr",
          "text": [
            "\rFold 5 Epoch 11:  88%|\u2588\u2588\u2588\u2588\u2588\u2588\u2588\u2588\u258a | 36/41 [00:01<00:00, 23.95it/s]"
          ]
        },
        {
          "output_type": "stream",
          "name": "stderr",
          "text": [
            "\rFold 5 Epoch 11:  95%|\u2588\u2588\u2588\u2588\u2588\u2588\u2588\u2588\u2588\u258c| 39/41 [00:01<00:00, 24.04it/s]"
          ]
        },
        {
          "output_type": "stream",
          "name": "stderr",
          "text": [
            "\rFold 5 Epoch 11: 100%|\u2588\u2588\u2588\u2588\u2588\u2588\u2588\u2588\u2588\u2588| 41/41 [00:01<00:00, 23.98it/s]"
          ]
        },
        {
          "output_type": "stream",
          "name": "stderr",
          "text": [
            "\n"
          ]
        },
        {
          "output_type": "stream",
          "name": "stdout",
          "text": [
            "Batch 40, elapsed: 1.7s\nFold 5 Epoch 11 train time: 1.7s\nFold 5 Epoch 11: Train 0.7157, Val 0.6892, val time: 0.2s\nEarly stop at epoch 11\nFold 5 best val loss: 0.6806\n"
          ]
        },
        {
          "output_type": "stream",
          "name": "stdout",
          "text": [
            "Training RegNet on full train (pretrained)...\nFold 1 pos_weight: [3. 3. 3. 3. 3. 3. 3.]\nFold 1 GPU memory before model: 0.1GB\n"
          ]
        },
        {
          "output_type": "stream",
          "name": "stderr",
          "text": [
            "\rFold 1 Epoch 1:   0%|          | 0/41 [00:00<?, ?it/s]"
          ]
        },
        {
          "output_type": "stream",
          "name": "stderr",
          "text": [
            "\rFold 1 Epoch 1:   2%|\u258f         | 1/41 [00:00<00:06,  6.04it/s]"
          ]
        },
        {
          "output_type": "stream",
          "name": "stderr",
          "text": [
            "\rFold 1 Epoch 1:  10%|\u2589         | 4/41 [00:00<00:02, 15.61it/s]"
          ]
        },
        {
          "output_type": "stream",
          "name": "stdout",
          "text": [
            "Batch 0, elapsed: 0.2s\n"
          ]
        },
        {
          "output_type": "stream",
          "name": "stderr",
          "text": [
            "\rFold 1 Epoch 1:  17%|\u2588\u258b        | 7/41 [00:00<00:01, 19.38it/s]"
          ]
        },
        {
          "output_type": "stream",
          "name": "stderr",
          "text": [
            "\rFold 1 Epoch 1:  24%|\u2588\u2588\u258d       | 10/41 [00:00<00:01, 21.09it/s]"
          ]
        },
        {
          "output_type": "stream",
          "name": "stderr",
          "text": [
            "\rFold 1 Epoch 1:  32%|\u2588\u2588\u2588\u258f      | 13/41 [00:00<00:01, 22.29it/s]"
          ]
        },
        {
          "output_type": "stream",
          "name": "stdout",
          "text": [
            "Batch 10, elapsed: 0.6s\n"
          ]
        },
        {
          "output_type": "stream",
          "name": "stderr",
          "text": [
            "\rFold 1 Epoch 1:  39%|\u2588\u2588\u2588\u2589      | 16/41 [00:00<00:01, 22.66it/s]"
          ]
        },
        {
          "output_type": "stream",
          "name": "stderr",
          "text": [
            "\rFold 1 Epoch 1:  46%|\u2588\u2588\u2588\u2588\u258b     | 19/41 [00:00<00:00, 23.06it/s]"
          ]
        },
        {
          "output_type": "stream",
          "name": "stderr",
          "text": [
            "\rFold 1 Epoch 1:  54%|\u2588\u2588\u2588\u2588\u2588\u258e    | 22/41 [00:01<00:00, 23.21it/s]"
          ]
        },
        {
          "output_type": "stream",
          "name": "stderr",
          "text": [
            "\rFold 1 Epoch 1:  61%|\u2588\u2588\u2588\u2588\u2588\u2588    | 25/41 [00:01<00:00, 23.33it/s]"
          ]
        },
        {
          "output_type": "stream",
          "name": "stdout",
          "text": [
            "Batch 20, elapsed: 1.0s\n"
          ]
        },
        {
          "output_type": "stream",
          "name": "stderr",
          "text": [
            "\rFold 1 Epoch 1:  68%|\u2588\u2588\u2588\u2588\u2588\u2588\u258a   | 28/41 [00:01<00:00, 23.48it/s]"
          ]
        },
        {
          "output_type": "stream",
          "name": "stderr",
          "text": [
            "\rFold 1 Epoch 1:  76%|\u2588\u2588\u2588\u2588\u2588\u2588\u2588\u258c  | 31/41 [00:01<00:00, 23.53it/s]"
          ]
        },
        {
          "output_type": "stream",
          "name": "stderr",
          "text": [
            "\rFold 1 Epoch 1:  83%|\u2588\u2588\u2588\u2588\u2588\u2588\u2588\u2588\u258e | 34/41 [00:01<00:00, 23.66it/s]"
          ]
        },
        {
          "output_type": "stream",
          "name": "stdout",
          "text": [
            "Batch 30, elapsed: 1.4s\n"
          ]
        },
        {
          "output_type": "stream",
          "name": "stderr",
          "text": [
            "\rFold 1 Epoch 1:  90%|\u2588\u2588\u2588\u2588\u2588\u2588\u2588\u2588\u2588 | 37/41 [00:01<00:00, 23.47it/s]"
          ]
        },
        {
          "output_type": "stream",
          "name": "stderr",
          "text": [
            "\rFold 1 Epoch 1:  98%|\u2588\u2588\u2588\u2588\u2588\u2588\u2588\u2588\u2588\u258a| 40/41 [00:01<00:00, 23.53it/s]"
          ]
        },
        {
          "output_type": "stream",
          "name": "stderr",
          "text": [
            "\rFold 1 Epoch 1: 100%|\u2588\u2588\u2588\u2588\u2588\u2588\u2588\u2588\u2588\u2588| 41/41 [00:01<00:00, 21.09it/s]"
          ]
        },
        {
          "output_type": "stream",
          "name": "stderr",
          "text": [
            "\n"
          ]
        },
        {
          "output_type": "stream",
          "name": "stdout",
          "text": [
            "Batch 40, elapsed: 1.9s\nFold 1 Epoch 1 train time: 1.9s\n"
          ]
        },
        {
          "output_type": "stream",
          "name": "stdout",
          "text": [
            "Fold 1 Epoch 1: Train 0.7846, Val 0.7578, val time: 0.2s\nNew best at epoch 1\n"
          ]
        },
        {
          "output_type": "stream",
          "name": "stderr",
          "text": [
            "\rFold 1 Epoch 2:   0%|          | 0/41 [00:00<?, ?it/s]"
          ]
        },
        {
          "output_type": "stream",
          "name": "stderr",
          "text": [
            "\rFold 1 Epoch 2:   7%|\u258b         | 3/41 [00:00<00:01, 22.87it/s]"
          ]
        },
        {
          "output_type": "stream",
          "name": "stdout",
          "text": [
            "Batch 0, elapsed: 0.0s\n"
          ]
        },
        {
          "output_type": "stream",
          "name": "stderr",
          "text": [
            "\rFold 1 Epoch 2:  15%|\u2588\u258d        | 6/41 [00:00<00:01, 22.97it/s]"
          ]
        },
        {
          "output_type": "stream",
          "name": "stderr",
          "text": [
            "\rFold 1 Epoch 2:  22%|\u2588\u2588\u258f       | 9/41 [00:00<00:01, 23.03it/s]"
          ]
        },
        {
          "output_type": "stream",
          "name": "stderr",
          "text": [
            "\rFold 1 Epoch 2:  29%|\u2588\u2588\u2589       | 12/41 [00:00<00:01, 23.07it/s]"
          ]
        },
        {
          "output_type": "stream",
          "name": "stderr",
          "text": [
            "\rFold 1 Epoch 2:  37%|\u2588\u2588\u2588\u258b      | 15/41 [00:00<00:01, 23.09it/s]"
          ]
        },
        {
          "output_type": "stream",
          "name": "stdout",
          "text": [
            "Batch 10, elapsed: 0.5s\n"
          ]
        },
        {
          "output_type": "stream",
          "name": "stderr",
          "text": [
            "\rFold 1 Epoch 2:  44%|\u2588\u2588\u2588\u2588\u258d     | 18/41 [00:00<00:01, 22.68it/s]"
          ]
        },
        {
          "output_type": "stream",
          "name": "stderr",
          "text": [
            "\rFold 1 Epoch 2:  51%|\u2588\u2588\u2588\u2588\u2588     | 21/41 [00:00<00:00, 22.34it/s]"
          ]
        },
        {
          "output_type": "stream",
          "name": "stderr",
          "text": [
            "\rFold 1 Epoch 2:  59%|\u2588\u2588\u2588\u2588\u2588\u258a    | 24/41 [00:01<00:00, 22.70it/s]"
          ]
        },
        {
          "output_type": "stream",
          "name": "stdout",
          "text": [
            "Batch 20, elapsed: 0.9s\n"
          ]
        },
        {
          "output_type": "stream",
          "name": "stderr",
          "text": [
            "\rFold 1 Epoch 2:  66%|\u2588\u2588\u2588\u2588\u2588\u2588\u258c   | 27/41 [00:01<00:00, 23.07it/s]"
          ]
        },
        {
          "output_type": "stream",
          "name": "stderr",
          "text": [
            "\rFold 1 Epoch 2:  73%|\u2588\u2588\u2588\u2588\u2588\u2588\u2588\u258e  | 30/41 [00:01<00:00, 23.18it/s]"
          ]
        },
        {
          "output_type": "stream",
          "name": "stderr",
          "text": [
            "\rFold 1 Epoch 2:  80%|\u2588\u2588\u2588\u2588\u2588\u2588\u2588\u2588  | 33/41 [00:01<00:00, 23.32it/s]"
          ]
        },
        {
          "output_type": "stream",
          "name": "stdout",
          "text": [
            "Batch 30, elapsed: 1.4s\n"
          ]
        },
        {
          "output_type": "stream",
          "name": "stderr",
          "text": [
            "\rFold 1 Epoch 2:  88%|\u2588\u2588\u2588\u2588\u2588\u2588\u2588\u2588\u258a | 36/41 [00:01<00:00, 23.49it/s]"
          ]
        },
        {
          "output_type": "stream",
          "name": "stderr",
          "text": [
            "\rFold 1 Epoch 2:  95%|\u2588\u2588\u2588\u2588\u2588\u2588\u2588\u2588\u2588\u258c| 39/41 [00:01<00:00, 23.55it/s]"
          ]
        },
        {
          "output_type": "stream",
          "name": "stderr",
          "text": [
            "\rFold 1 Epoch 2: 100%|\u2588\u2588\u2588\u2588\u2588\u2588\u2588\u2588\u2588\u2588| 41/41 [00:01<00:00, 23.15it/s]"
          ]
        },
        {
          "output_type": "stream",
          "name": "stderr",
          "text": [
            "\n"
          ]
        },
        {
          "output_type": "stream",
          "name": "stdout",
          "text": [
            "Batch 40, elapsed: 1.8s\nFold 1 Epoch 2 train time: 1.8s\nFold 1 Epoch 2: Train 0.7859, Val 0.7527, val time: 0.2s\n"
          ]
        },
        {
          "output_type": "stream",
          "name": "stdout",
          "text": [
            "New best at epoch 2\n"
          ]
        },
        {
          "output_type": "stream",
          "name": "stderr",
          "text": [
            "\rFold 1 Epoch 3:   0%|          | 0/41 [00:00<?, ?it/s]"
          ]
        },
        {
          "output_type": "stream",
          "name": "stderr",
          "text": [
            "\rFold 1 Epoch 3:   7%|\u258b         | 3/41 [00:00<00:01, 23.50it/s]"
          ]
        },
        {
          "output_type": "stream",
          "name": "stdout",
          "text": [
            "Batch 0, elapsed: 0.0s\n"
          ]
        },
        {
          "output_type": "stream",
          "name": "stderr",
          "text": [
            "\rFold 1 Epoch 3:  15%|\u2588\u258d        | 6/41 [00:00<00:01, 23.19it/s]"
          ]
        },
        {
          "output_type": "stream",
          "name": "stderr",
          "text": [
            "\rFold 1 Epoch 3:  22%|\u2588\u2588\u258f       | 9/41 [00:00<00:01, 23.12it/s]"
          ]
        },
        {
          "output_type": "stream",
          "name": "stderr",
          "text": [
            "\rFold 1 Epoch 3:  29%|\u2588\u2588\u2589       | 12/41 [00:00<00:01, 23.00it/s]"
          ]
        },
        {
          "output_type": "stream",
          "name": "stderr",
          "text": [
            "\rFold 1 Epoch 3:  37%|\u2588\u2588\u2588\u258b      | 15/41 [00:00<00:01, 23.11it/s]"
          ]
        },
        {
          "output_type": "stream",
          "name": "stdout",
          "text": [
            "Batch 10, elapsed: 0.5s\n"
          ]
        },
        {
          "output_type": "stream",
          "name": "stderr",
          "text": [
            "\rFold 1 Epoch 3:  44%|\u2588\u2588\u2588\u2588\u258d     | 18/41 [00:00<00:00, 23.16it/s]"
          ]
        },
        {
          "output_type": "stream",
          "name": "stderr",
          "text": [
            "\rFold 1 Epoch 3:  51%|\u2588\u2588\u2588\u2588\u2588     | 21/41 [00:00<00:00, 23.27it/s]"
          ]
        },
        {
          "output_type": "stream",
          "name": "stderr",
          "text": [
            "\rFold 1 Epoch 3:  59%|\u2588\u2588\u2588\u2588\u2588\u258a    | 24/41 [00:01<00:00, 23.35it/s]"
          ]
        },
        {
          "output_type": "stream",
          "name": "stdout",
          "text": [
            "Batch 20, elapsed: 0.9s\n"
          ]
        },
        {
          "output_type": "stream",
          "name": "stderr",
          "text": [
            "\rFold 1 Epoch 3:  66%|\u2588\u2588\u2588\u2588\u2588\u2588\u258c   | 27/41 [00:01<00:00, 23.40it/s]"
          ]
        },
        {
          "output_type": "stream",
          "name": "stderr",
          "text": [
            "\rFold 1 Epoch 3:  73%|\u2588\u2588\u2588\u2588\u2588\u2588\u2588\u258e  | 30/41 [00:01<00:00, 23.24it/s]"
          ]
        },
        {
          "output_type": "stream",
          "name": "stderr",
          "text": [
            "\rFold 1 Epoch 3:  80%|\u2588\u2588\u2588\u2588\u2588\u2588\u2588\u2588  | 33/41 [00:01<00:00, 23.33it/s]"
          ]
        },
        {
          "output_type": "stream",
          "name": "stdout",
          "text": [
            "Batch 30, elapsed: 1.3s\n"
          ]
        },
        {
          "output_type": "stream",
          "name": "stderr",
          "text": [
            "\rFold 1 Epoch 3:  88%|\u2588\u2588\u2588\u2588\u2588\u2588\u2588\u2588\u258a | 36/41 [00:01<00:00, 23.29it/s]"
          ]
        },
        {
          "output_type": "stream",
          "name": "stderr",
          "text": [
            "\rFold 1 Epoch 3:  95%|\u2588\u2588\u2588\u2588\u2588\u2588\u2588\u2588\u2588\u258c| 39/41 [00:01<00:00, 22.77it/s]"
          ]
        },
        {
          "output_type": "stream",
          "name": "stderr",
          "text": [
            "\rFold 1 Epoch 3: 100%|\u2588\u2588\u2588\u2588\u2588\u2588\u2588\u2588\u2588\u2588| 41/41 [00:01<00:00, 23.18it/s]"
          ]
        },
        {
          "output_type": "stream",
          "name": "stderr",
          "text": [
            "\n"
          ]
        },
        {
          "output_type": "stream",
          "name": "stdout",
          "text": [
            "Batch 40, elapsed: 1.8s\nFold 1 Epoch 3 train time: 1.8s\n"
          ]
        },
        {
          "output_type": "stream",
          "name": "stdout",
          "text": [
            "Fold 1 Epoch 3: Train 0.7101, Val 0.7106, val time: 0.2s\nNew best at epoch 3\n"
          ]
        },
        {
          "output_type": "stream",
          "name": "stderr",
          "text": [
            "\rFold 1 Epoch 4:   0%|          | 0/41 [00:00<?, ?it/s]"
          ]
        },
        {
          "output_type": "stream",
          "name": "stderr",
          "text": [
            "\rFold 1 Epoch 4:   7%|\u258b         | 3/41 [00:00<00:01, 22.14it/s]"
          ]
        },
        {
          "output_type": "stream",
          "name": "stdout",
          "text": [
            "Batch 0, elapsed: 0.0s\n"
          ]
        },
        {
          "output_type": "stream",
          "name": "stderr",
          "text": [
            "\rFold 1 Epoch 4:  15%|\u2588\u258d        | 6/41 [00:00<00:01, 22.54it/s]"
          ]
        },
        {
          "output_type": "stream",
          "name": "stderr",
          "text": [
            "\rFold 1 Epoch 4:  22%|\u2588\u2588\u258f       | 9/41 [00:00<00:01, 22.38it/s]"
          ]
        },
        {
          "output_type": "stream",
          "name": "stderr",
          "text": [
            "\rFold 1 Epoch 4:  29%|\u2588\u2588\u2589       | 12/41 [00:00<00:01, 22.48it/s]"
          ]
        },
        {
          "output_type": "stream",
          "name": "stderr",
          "text": [
            "\rFold 1 Epoch 4:  37%|\u2588\u2588\u2588\u258b      | 15/41 [00:00<00:01, 22.38it/s]"
          ]
        },
        {
          "output_type": "stream",
          "name": "stdout",
          "text": [
            "Batch 10, elapsed: 0.5s\n"
          ]
        },
        {
          "output_type": "stream",
          "name": "stderr",
          "text": [
            "\rFold 1 Epoch 4:  44%|\u2588\u2588\u2588\u2588\u258d     | 18/41 [00:00<00:01, 21.90it/s]"
          ]
        },
        {
          "output_type": "stream",
          "name": "stderr",
          "text": [
            "\rFold 1 Epoch 4:  51%|\u2588\u2588\u2588\u2588\u2588     | 21/41 [00:00<00:00, 21.94it/s]"
          ]
        },
        {
          "output_type": "stream",
          "name": "stderr",
          "text": [
            "\rFold 1 Epoch 4:  59%|\u2588\u2588\u2588\u2588\u2588\u258a    | 24/41 [00:01<00:00, 22.14it/s]"
          ]
        },
        {
          "output_type": "stream",
          "name": "stdout",
          "text": [
            "Batch 20, elapsed: 0.9s\n"
          ]
        },
        {
          "output_type": "stream",
          "name": "stderr",
          "text": [
            "\rFold 1 Epoch 4:  66%|\u2588\u2588\u2588\u2588\u2588\u2588\u258c   | 27/41 [00:01<00:00, 22.49it/s]"
          ]
        },
        {
          "output_type": "stream",
          "name": "stderr",
          "text": [
            "\rFold 1 Epoch 4:  73%|\u2588\u2588\u2588\u2588\u2588\u2588\u2588\u258e  | 30/41 [00:01<00:00, 22.63it/s]"
          ]
        },
        {
          "output_type": "stream",
          "name": "stderr",
          "text": [
            "\rFold 1 Epoch 4:  80%|\u2588\u2588\u2588\u2588\u2588\u2588\u2588\u2588  | 33/41 [00:01<00:00, 22.58it/s]"
          ]
        },
        {
          "output_type": "stream",
          "name": "stdout",
          "text": [
            "Batch 30, elapsed: 1.4s\n"
          ]
        },
        {
          "output_type": "stream",
          "name": "stderr",
          "text": [
            "\rFold 1 Epoch 4:  88%|\u2588\u2588\u2588\u2588\u2588\u2588\u2588\u2588\u258a | 36/41 [00:01<00:00, 22.61it/s]"
          ]
        },
        {
          "output_type": "stream",
          "name": "stderr",
          "text": [
            "\rFold 1 Epoch 4:  95%|\u2588\u2588\u2588\u2588\u2588\u2588\u2588\u2588\u2588\u258c| 39/41 [00:01<00:00, 22.18it/s]"
          ]
        },
        {
          "output_type": "stream",
          "name": "stderr",
          "text": [
            "\rFold 1 Epoch 4: 100%|\u2588\u2588\u2588\u2588\u2588\u2588\u2588\u2588\u2588\u2588| 41/41 [00:01<00:00, 22.36it/s]"
          ]
        },
        {
          "output_type": "stream",
          "name": "stderr",
          "text": [
            "\n"
          ]
        },
        {
          "output_type": "stream",
          "name": "stdout",
          "text": [
            "Batch 40, elapsed: 1.8s\nFold 1 Epoch 4 train time: 1.8s\nFold 1 Epoch 4: Train 0.7559, Val 0.6854, val time: 0.2s\n"
          ]
        },
        {
          "output_type": "stream",
          "name": "stdout",
          "text": [
            "New best at epoch 4\n"
          ]
        },
        {
          "output_type": "stream",
          "name": "stderr",
          "text": [
            "\rFold 1 Epoch 5:   0%|          | 0/41 [00:00<?, ?it/s]"
          ]
        },
        {
          "output_type": "stream",
          "name": "stderr",
          "text": [
            "\rFold 1 Epoch 5:   7%|\u258b         | 3/41 [00:00<00:01, 22.74it/s]"
          ]
        },
        {
          "output_type": "stream",
          "name": "stdout",
          "text": [
            "Batch 0, elapsed: 0.0s\n"
          ]
        },
        {
          "output_type": "stream",
          "name": "stderr",
          "text": [
            "\rFold 1 Epoch 5:  15%|\u2588\u258d        | 6/41 [00:00<00:01, 22.98it/s]"
          ]
        },
        {
          "output_type": "stream",
          "name": "stderr",
          "text": [
            "\rFold 1 Epoch 5:  22%|\u2588\u2588\u258f       | 9/41 [00:00<00:01, 22.96it/s]"
          ]
        },
        {
          "output_type": "stream",
          "name": "stderr",
          "text": [
            "\rFold 1 Epoch 5:  29%|\u2588\u2588\u2589       | 12/41 [00:00<00:01, 22.82it/s]"
          ]
        },
        {
          "output_type": "stream",
          "name": "stderr",
          "text": [
            "\rFold 1 Epoch 5:  37%|\u2588\u2588\u2588\u258b      | 15/41 [00:00<00:01, 22.93it/s]"
          ]
        },
        {
          "output_type": "stream",
          "name": "stdout",
          "text": [
            "Batch 10, elapsed: 0.5s\n"
          ]
        },
        {
          "output_type": "stream",
          "name": "stderr",
          "text": [
            "\rFold 1 Epoch 5:  44%|\u2588\u2588\u2588\u2588\u258d     | 18/41 [00:00<00:00, 23.10it/s]"
          ]
        },
        {
          "output_type": "stream",
          "name": "stderr",
          "text": [
            "\rFold 1 Epoch 5:  51%|\u2588\u2588\u2588\u2588\u2588     | 21/41 [00:00<00:00, 22.93it/s]"
          ]
        },
        {
          "output_type": "stream",
          "name": "stderr",
          "text": [
            "\rFold 1 Epoch 5:  59%|\u2588\u2588\u2588\u2588\u2588\u258a    | 24/41 [00:01<00:00, 22.95it/s]"
          ]
        },
        {
          "output_type": "stream",
          "name": "stdout",
          "text": [
            "Batch 20, elapsed: 0.9s\n"
          ]
        },
        {
          "output_type": "stream",
          "name": "stderr",
          "text": [
            "\rFold 1 Epoch 5:  66%|\u2588\u2588\u2588\u2588\u2588\u2588\u258c   | 27/41 [00:01<00:00, 22.97it/s]"
          ]
        },
        {
          "output_type": "stream",
          "name": "stderr",
          "text": [
            "\rFold 1 Epoch 5:  73%|\u2588\u2588\u2588\u2588\u2588\u2588\u2588\u258e  | 30/41 [00:01<00:00, 22.92it/s]"
          ]
        },
        {
          "output_type": "stream",
          "name": "stderr",
          "text": [
            "\rFold 1 Epoch 5:  80%|\u2588\u2588\u2588\u2588\u2588\u2588\u2588\u2588  | 33/41 [00:01<00:00, 22.81it/s]"
          ]
        },
        {
          "output_type": "stream",
          "name": "stdout",
          "text": [
            "Batch 30, elapsed: 1.4s\n"
          ]
        },
        {
          "output_type": "stream",
          "name": "stderr",
          "text": [
            "\rFold 1 Epoch 5:  88%|\u2588\u2588\u2588\u2588\u2588\u2588\u2588\u2588\u258a | 36/41 [00:01<00:00, 22.97it/s]"
          ]
        },
        {
          "output_type": "stream",
          "name": "stderr",
          "text": [
            "\rFold 1 Epoch 5:  95%|\u2588\u2588\u2588\u2588\u2588\u2588\u2588\u2588\u2588\u258c| 39/41 [00:01<00:00, 22.80it/s]"
          ]
        },
        {
          "output_type": "stream",
          "name": "stderr",
          "text": [
            "\rFold 1 Epoch 5: 100%|\u2588\u2588\u2588\u2588\u2588\u2588\u2588\u2588\u2588\u2588| 41/41 [00:01<00:00, 23.00it/s]"
          ]
        },
        {
          "output_type": "stream",
          "name": "stderr",
          "text": [
            "\n"
          ]
        },
        {
          "output_type": "stream",
          "name": "stdout",
          "text": [
            "Batch 40, elapsed: 1.8s\nFold 1 Epoch 5 train time: 1.8s\nFold 1 Epoch 5: Train 0.7213, Val 0.6939, val time: 0.2s\n"
          ]
        },
        {
          "output_type": "stream",
          "name": "stderr",
          "text": [
            "\rFold 1 Epoch 6:   0%|          | 0/41 [00:00<?, ?it/s]"
          ]
        },
        {
          "output_type": "stream",
          "name": "stderr",
          "text": [
            "\rFold 1 Epoch 6:   7%|\u258b         | 3/41 [00:00<00:01, 22.13it/s]"
          ]
        },
        {
          "output_type": "stream",
          "name": "stdout",
          "text": [
            "Batch 0, elapsed: 0.0s\n"
          ]
        },
        {
          "output_type": "stream",
          "name": "stderr",
          "text": [
            "\rFold 1 Epoch 6:  15%|\u2588\u258d        | 6/41 [00:00<00:01, 22.26it/s]"
          ]
        },
        {
          "output_type": "stream",
          "name": "stderr",
          "text": [
            "\rFold 1 Epoch 6:  22%|\u2588\u2588\u258f       | 9/41 [00:00<00:01, 22.31it/s]"
          ]
        },
        {
          "output_type": "stream",
          "name": "stderr",
          "text": [
            "\rFold 1 Epoch 6:  29%|\u2588\u2588\u2589       | 12/41 [00:00<00:01, 22.38it/s]"
          ]
        },
        {
          "output_type": "stream",
          "name": "stderr",
          "text": [
            "\rFold 1 Epoch 6:  37%|\u2588\u2588\u2588\u258b      | 15/41 [00:00<00:01, 22.25it/s]"
          ]
        },
        {
          "output_type": "stream",
          "name": "stdout",
          "text": [
            "Batch 10, elapsed: 0.5s\n"
          ]
        },
        {
          "output_type": "stream",
          "name": "stderr",
          "text": [
            "\rFold 1 Epoch 6:  44%|\u2588\u2588\u2588\u2588\u258d     | 18/41 [00:00<00:01, 22.26it/s]"
          ]
        },
        {
          "output_type": "stream",
          "name": "stderr",
          "text": [
            "\rFold 1 Epoch 6:  51%|\u2588\u2588\u2588\u2588\u2588     | 21/41 [00:00<00:00, 22.45it/s]"
          ]
        },
        {
          "output_type": "stream",
          "name": "stderr",
          "text": [
            "\rFold 1 Epoch 6:  59%|\u2588\u2588\u2588\u2588\u2588\u258a    | 24/41 [00:01<00:00, 22.28it/s]"
          ]
        },
        {
          "output_type": "stream",
          "name": "stdout",
          "text": [
            "Batch 20, elapsed: 0.9s\n"
          ]
        },
        {
          "output_type": "stream",
          "name": "stderr",
          "text": [
            "\rFold 1 Epoch 6:  66%|\u2588\u2588\u2588\u2588\u2588\u2588\u258c   | 27/41 [00:01<00:00, 22.50it/s]"
          ]
        },
        {
          "output_type": "stream",
          "name": "stderr",
          "text": [
            "\rFold 1 Epoch 6:  73%|\u2588\u2588\u2588\u2588\u2588\u2588\u2588\u258e  | 30/41 [00:01<00:00, 22.56it/s]"
          ]
        },
        {
          "output_type": "stream",
          "name": "stderr",
          "text": [
            "\rFold 1 Epoch 6:  80%|\u2588\u2588\u2588\u2588\u2588\u2588\u2588\u2588  | 33/41 [00:01<00:00, 22.54it/s]"
          ]
        },
        {
          "output_type": "stream",
          "name": "stdout",
          "text": [
            "Batch 30, elapsed: 1.4s\n"
          ]
        },
        {
          "output_type": "stream",
          "name": "stderr",
          "text": [
            "\rFold 1 Epoch 6:  88%|\u2588\u2588\u2588\u2588\u2588\u2588\u2588\u2588\u258a | 36/41 [00:01<00:00, 22.49it/s]"
          ]
        },
        {
          "output_type": "stream",
          "name": "stderr",
          "text": [
            "\rFold 1 Epoch 6:  95%|\u2588\u2588\u2588\u2588\u2588\u2588\u2588\u2588\u2588\u258c| 39/41 [00:01<00:00, 22.54it/s]"
          ]
        },
        {
          "output_type": "stream",
          "name": "stderr",
          "text": [
            "\rFold 1 Epoch 6: 100%|\u2588\u2588\u2588\u2588\u2588\u2588\u2588\u2588\u2588\u2588| 41/41 [00:01<00:00, 22.54it/s]"
          ]
        },
        {
          "output_type": "stream",
          "name": "stderr",
          "text": [
            "\n"
          ]
        },
        {
          "output_type": "stream",
          "name": "stdout",
          "text": [
            "Batch 40, elapsed: 1.8s\nFold 1 Epoch 6 train time: 1.8s\nFold 1 Epoch 6: Train 0.7087, Val 0.6850, val time: 0.2s\n"
          ]
        },
        {
          "output_type": "stream",
          "name": "stdout",
          "text": [
            "New best at epoch 6\n"
          ]
        },
        {
          "output_type": "stream",
          "name": "stderr",
          "text": [
            "\rFold 1 Epoch 7:   0%|          | 0/41 [00:00<?, ?it/s]"
          ]
        },
        {
          "output_type": "stream",
          "name": "stderr",
          "text": [
            "\rFold 1 Epoch 7:   7%|\u258b         | 3/41 [00:00<00:01, 21.41it/s]"
          ]
        },
        {
          "output_type": "stream",
          "name": "stdout",
          "text": [
            "Batch 0, elapsed: 0.0s\n"
          ]
        },
        {
          "output_type": "stream",
          "name": "stderr",
          "text": [
            "\rFold 1 Epoch 7:  15%|\u2588\u258d        | 6/41 [00:00<00:01, 22.04it/s]"
          ]
        },
        {
          "output_type": "stream",
          "name": "stderr",
          "text": [
            "\rFold 1 Epoch 7:  22%|\u2588\u2588\u258f       | 9/41 [00:00<00:01, 22.21it/s]"
          ]
        },
        {
          "output_type": "stream",
          "name": "stderr",
          "text": [
            "\rFold 1 Epoch 7:  29%|\u2588\u2588\u2589       | 12/41 [00:00<00:01, 22.51it/s]"
          ]
        },
        {
          "output_type": "stream",
          "name": "stderr",
          "text": [
            "\rFold 1 Epoch 7:  37%|\u2588\u2588\u2588\u258b      | 15/41 [00:00<00:01, 22.67it/s]"
          ]
        },
        {
          "output_type": "stream",
          "name": "stdout",
          "text": [
            "Batch 10, elapsed: 0.5s\n"
          ]
        },
        {
          "output_type": "stream",
          "name": "stderr",
          "text": [
            "\rFold 1 Epoch 7:  44%|\u2588\u2588\u2588\u2588\u258d     | 18/41 [00:00<00:01, 22.69it/s]"
          ]
        },
        {
          "output_type": "stream",
          "name": "stderr",
          "text": [
            "\rFold 1 Epoch 7:  51%|\u2588\u2588\u2588\u2588\u2588     | 21/41 [00:00<00:00, 22.75it/s]"
          ]
        },
        {
          "output_type": "stream",
          "name": "stderr",
          "text": [
            "\rFold 1 Epoch 7:  59%|\u2588\u2588\u2588\u2588\u2588\u258a    | 24/41 [00:01<00:00, 22.61it/s]"
          ]
        },
        {
          "output_type": "stream",
          "name": "stdout",
          "text": [
            "Batch 20, elapsed: 0.9s\n"
          ]
        },
        {
          "output_type": "stream",
          "name": "stderr",
          "text": [
            "\rFold 1 Epoch 7:  66%|\u2588\u2588\u2588\u2588\u2588\u2588\u258c   | 27/41 [00:01<00:00, 22.80it/s]"
          ]
        },
        {
          "output_type": "stream",
          "name": "stderr",
          "text": [
            "\rFold 1 Epoch 7:  73%|\u2588\u2588\u2588\u2588\u2588\u2588\u2588\u258e  | 30/41 [00:01<00:00, 22.63it/s]"
          ]
        },
        {
          "output_type": "stream",
          "name": "stderr",
          "text": [
            "\rFold 1 Epoch 7:  80%|\u2588\u2588\u2588\u2588\u2588\u2588\u2588\u2588  | 33/41 [00:01<00:00, 22.56it/s]"
          ]
        },
        {
          "output_type": "stream",
          "name": "stdout",
          "text": [
            "Batch 30, elapsed: 1.4s\n"
          ]
        },
        {
          "output_type": "stream",
          "name": "stderr",
          "text": [
            "\rFold 1 Epoch 7:  88%|\u2588\u2588\u2588\u2588\u2588\u2588\u2588\u2588\u258a | 36/41 [00:01<00:00, 22.55it/s]"
          ]
        },
        {
          "output_type": "stream",
          "name": "stderr",
          "text": [
            "\rFold 1 Epoch 7:  95%|\u2588\u2588\u2588\u2588\u2588\u2588\u2588\u2588\u2588\u258c| 39/41 [00:01<00:00, 22.79it/s]"
          ]
        },
        {
          "output_type": "stream",
          "name": "stderr",
          "text": [
            "\rFold 1 Epoch 7: 100%|\u2588\u2588\u2588\u2588\u2588\u2588\u2588\u2588\u2588\u2588| 41/41 [00:01<00:00, 22.68it/s]"
          ]
        },
        {
          "output_type": "stream",
          "name": "stderr",
          "text": [
            "\n"
          ]
        },
        {
          "output_type": "stream",
          "name": "stdout",
          "text": [
            "Batch 40, elapsed: 1.8s\nFold 1 Epoch 7 train time: 1.8s\nFold 1 Epoch 7: Train 0.7304, Val 0.6721, val time: 0.2s\n"
          ]
        },
        {
          "output_type": "stream",
          "name": "stdout",
          "text": [
            "New best at epoch 7\n"
          ]
        },
        {
          "output_type": "stream",
          "name": "stderr",
          "text": [
            "\rFold 1 Epoch 8:   0%|          | 0/41 [00:00<?, ?it/s]"
          ]
        },
        {
          "output_type": "stream",
          "name": "stderr",
          "text": [
            "\rFold 1 Epoch 8:   7%|\u258b         | 3/41 [00:00<00:01, 23.51it/s]"
          ]
        },
        {
          "output_type": "stream",
          "name": "stdout",
          "text": [
            "Batch 0, elapsed: 0.0s\n"
          ]
        },
        {
          "output_type": "stream",
          "name": "stderr",
          "text": [
            "\rFold 1 Epoch 8:  15%|\u2588\u258d        | 6/41 [00:00<00:01, 22.59it/s]"
          ]
        },
        {
          "output_type": "stream",
          "name": "stderr",
          "text": [
            "\rFold 1 Epoch 8:  22%|\u2588\u2588\u258f       | 9/41 [00:00<00:01, 22.73it/s]"
          ]
        },
        {
          "output_type": "stream",
          "name": "stderr",
          "text": [
            "\rFold 1 Epoch 8:  29%|\u2588\u2588\u2589       | 12/41 [00:00<00:01, 22.41it/s]"
          ]
        },
        {
          "output_type": "stream",
          "name": "stderr",
          "text": [
            "\rFold 1 Epoch 8:  37%|\u2588\u2588\u2588\u258b      | 15/41 [00:00<00:01, 22.77it/s]"
          ]
        },
        {
          "output_type": "stream",
          "name": "stdout",
          "text": [
            "Batch 10, elapsed: 0.5s\n"
          ]
        },
        {
          "output_type": "stream",
          "name": "stderr",
          "text": [
            "\rFold 1 Epoch 8:  44%|\u2588\u2588\u2588\u2588\u258d     | 18/41 [00:00<00:01, 22.91it/s]"
          ]
        },
        {
          "output_type": "stream",
          "name": "stderr",
          "text": [
            "\rFold 1 Epoch 8:  51%|\u2588\u2588\u2588\u2588\u2588     | 21/41 [00:00<00:00, 22.86it/s]"
          ]
        },
        {
          "output_type": "stream",
          "name": "stderr",
          "text": [
            "\rFold 1 Epoch 8:  59%|\u2588\u2588\u2588\u2588\u2588\u258a    | 24/41 [00:01<00:00, 23.02it/s]"
          ]
        },
        {
          "output_type": "stream",
          "name": "stdout",
          "text": [
            "Batch 20, elapsed: 0.9s\n"
          ]
        },
        {
          "output_type": "stream",
          "name": "stderr",
          "text": [
            "\rFold 1 Epoch 8:  66%|\u2588\u2588\u2588\u2588\u2588\u2588\u258c   | 27/41 [00:01<00:00, 23.05it/s]"
          ]
        },
        {
          "output_type": "stream",
          "name": "stderr",
          "text": [
            "\rFold 1 Epoch 8:  73%|\u2588\u2588\u2588\u2588\u2588\u2588\u2588\u258e  | 30/41 [00:01<00:00, 22.86it/s]"
          ]
        },
        {
          "output_type": "stream",
          "name": "stderr",
          "text": [
            "\rFold 1 Epoch 8:  80%|\u2588\u2588\u2588\u2588\u2588\u2588\u2588\u2588  | 33/41 [00:01<00:00, 22.75it/s]"
          ]
        },
        {
          "output_type": "stream",
          "name": "stdout",
          "text": [
            "Batch 30, elapsed: 1.4s\n"
          ]
        },
        {
          "output_type": "stream",
          "name": "stderr",
          "text": [
            "\rFold 1 Epoch 8:  88%|\u2588\u2588\u2588\u2588\u2588\u2588\u2588\u2588\u258a | 36/41 [00:01<00:00, 22.76it/s]"
          ]
        },
        {
          "output_type": "stream",
          "name": "stderr",
          "text": [
            "\rFold 1 Epoch 8:  95%|\u2588\u2588\u2588\u2588\u2588\u2588\u2588\u2588\u2588\u258c| 39/41 [00:01<00:00, 22.76it/s]"
          ]
        },
        {
          "output_type": "stream",
          "name": "stderr",
          "text": [
            "\rFold 1 Epoch 8: 100%|\u2588\u2588\u2588\u2588\u2588\u2588\u2588\u2588\u2588\u2588| 41/41 [00:01<00:00, 22.89it/s]"
          ]
        },
        {
          "output_type": "stream",
          "name": "stderr",
          "text": [
            "\n"
          ]
        },
        {
          "output_type": "stream",
          "name": "stdout",
          "text": [
            "Batch 40, elapsed: 1.8s\nFold 1 Epoch 8 train time: 1.8s\n"
          ]
        },
        {
          "output_type": "stream",
          "name": "stdout",
          "text": [
            "Fold 1 Epoch 8: Train 0.6838, Val 0.7129, val time: 0.2s\n"
          ]
        },
        {
          "output_type": "stream",
          "name": "stderr",
          "text": [
            "\rFold 1 Epoch 9:   0%|          | 0/41 [00:00<?, ?it/s]"
          ]
        },
        {
          "output_type": "stream",
          "name": "stderr",
          "text": [
            "\rFold 1 Epoch 9:   7%|\u258b         | 3/41 [00:00<00:01, 22.49it/s]"
          ]
        },
        {
          "output_type": "stream",
          "name": "stdout",
          "text": [
            "Batch 0, elapsed: 0.0s\n"
          ]
        },
        {
          "output_type": "stream",
          "name": "stderr",
          "text": [
            "\rFold 1 Epoch 9:  15%|\u2588\u258d        | 6/41 [00:00<00:01, 22.99it/s]"
          ]
        },
        {
          "output_type": "stream",
          "name": "stderr",
          "text": [
            "\rFold 1 Epoch 9:  22%|\u2588\u2588\u258f       | 9/41 [00:00<00:01, 22.89it/s]"
          ]
        },
        {
          "output_type": "stream",
          "name": "stderr",
          "text": [
            "\rFold 1 Epoch 9:  29%|\u2588\u2588\u2589       | 12/41 [00:00<00:01, 22.84it/s]"
          ]
        },
        {
          "output_type": "stream",
          "name": "stderr",
          "text": [
            "\rFold 1 Epoch 9:  37%|\u2588\u2588\u2588\u258b      | 15/41 [00:00<00:01, 22.79it/s]"
          ]
        },
        {
          "output_type": "stream",
          "name": "stdout",
          "text": [
            "Batch 10, elapsed: 0.5s\n"
          ]
        },
        {
          "output_type": "stream",
          "name": "stderr",
          "text": [
            "\rFold 1 Epoch 9:  44%|\u2588\u2588\u2588\u2588\u258d     | 18/41 [00:00<00:01, 22.34it/s]"
          ]
        },
        {
          "output_type": "stream",
          "name": "stderr",
          "text": [
            "\rFold 1 Epoch 9:  51%|\u2588\u2588\u2588\u2588\u2588     | 21/41 [00:00<00:00, 22.55it/s]"
          ]
        },
        {
          "output_type": "stream",
          "name": "stderr",
          "text": [
            "\rFold 1 Epoch 9:  59%|\u2588\u2588\u2588\u2588\u2588\u258a    | 24/41 [00:01<00:00, 22.61it/s]"
          ]
        },
        {
          "output_type": "stream",
          "name": "stdout",
          "text": [
            "Batch 20, elapsed: 0.9s\n"
          ]
        },
        {
          "output_type": "stream",
          "name": "stderr",
          "text": [
            "\rFold 1 Epoch 9:  66%|\u2588\u2588\u2588\u2588\u2588\u2588\u258c   | 27/41 [00:01<00:00, 22.67it/s]"
          ]
        },
        {
          "output_type": "stream",
          "name": "stderr",
          "text": [
            "\rFold 1 Epoch 9:  73%|\u2588\u2588\u2588\u2588\u2588\u2588\u2588\u258e  | 30/41 [00:01<00:00, 22.74it/s]"
          ]
        },
        {
          "output_type": "stream",
          "name": "stderr",
          "text": [
            "\rFold 1 Epoch 9:  80%|\u2588\u2588\u2588\u2588\u2588\u2588\u2588\u2588  | 33/41 [00:01<00:00, 22.45it/s]"
          ]
        },
        {
          "output_type": "stream",
          "name": "stdout",
          "text": [
            "Batch 30, elapsed: 1.4s\n"
          ]
        },
        {
          "output_type": "stream",
          "name": "stderr",
          "text": [
            "\rFold 1 Epoch 9:  88%|\u2588\u2588\u2588\u2588\u2588\u2588\u2588\u2588\u258a | 36/41 [00:01<00:00, 22.36it/s]"
          ]
        },
        {
          "output_type": "stream",
          "name": "stderr",
          "text": [
            "\rFold 1 Epoch 9:  95%|\u2588\u2588\u2588\u2588\u2588\u2588\u2588\u2588\u2588\u258c| 39/41 [00:01<00:00, 22.55it/s]"
          ]
        },
        {
          "output_type": "stream",
          "name": "stderr",
          "text": [
            "\rFold 1 Epoch 9: 100%|\u2588\u2588\u2588\u2588\u2588\u2588\u2588\u2588\u2588\u2588| 41/41 [00:01<00:00, 22.67it/s]"
          ]
        },
        {
          "output_type": "stream",
          "name": "stderr",
          "text": [
            "\n"
          ]
        },
        {
          "output_type": "stream",
          "name": "stdout",
          "text": [
            "Batch 40, elapsed: 1.8s\nFold 1 Epoch 9 train time: 1.8s\nFold 1 Epoch 9: Train 0.6930, Val 0.7365, val time: 0.2s\n"
          ]
        },
        {
          "output_type": "stream",
          "name": "stderr",
          "text": [
            "\rFold 1 Epoch 10:   0%|          | 0/41 [00:00<?, ?it/s]"
          ]
        },
        {
          "output_type": "stream",
          "name": "stderr",
          "text": [
            "\rFold 1 Epoch 10:   7%|\u258b         | 3/41 [00:00<00:01, 22.14it/s]"
          ]
        },
        {
          "output_type": "stream",
          "name": "stdout",
          "text": [
            "Batch 0, elapsed: 0.0s\n"
          ]
        },
        {
          "output_type": "stream",
          "name": "stderr",
          "text": [
            "\rFold 1 Epoch 10:  15%|\u2588\u258d        | 6/41 [00:00<00:01, 22.61it/s]"
          ]
        },
        {
          "output_type": "stream",
          "name": "stderr",
          "text": [
            "\rFold 1 Epoch 10:  22%|\u2588\u2588\u258f       | 9/41 [00:00<00:01, 22.81it/s]"
          ]
        },
        {
          "output_type": "stream",
          "name": "stderr",
          "text": [
            "\rFold 1 Epoch 10:  29%|\u2588\u2588\u2589       | 12/41 [00:00<00:01, 22.82it/s]"
          ]
        },
        {
          "output_type": "stream",
          "name": "stderr",
          "text": [
            "\rFold 1 Epoch 10:  37%|\u2588\u2588\u2588\u258b      | 15/41 [00:00<00:01, 22.73it/s]"
          ]
        },
        {
          "output_type": "stream",
          "name": "stdout",
          "text": [
            "Batch 10, elapsed: 0.5s\n"
          ]
        },
        {
          "output_type": "stream",
          "name": "stderr",
          "text": [
            "\rFold 1 Epoch 10:  44%|\u2588\u2588\u2588\u2588\u258d     | 18/41 [00:00<00:01, 22.65it/s]"
          ]
        },
        {
          "output_type": "stream",
          "name": "stderr",
          "text": [
            "\rFold 1 Epoch 10:  51%|\u2588\u2588\u2588\u2588\u2588     | 21/41 [00:00<00:00, 22.48it/s]"
          ]
        },
        {
          "output_type": "stream",
          "name": "stderr",
          "text": [
            "\rFold 1 Epoch 10:  59%|\u2588\u2588\u2588\u2588\u2588\u258a    | 24/41 [00:01<00:00, 22.52it/s]"
          ]
        },
        {
          "output_type": "stream",
          "name": "stdout",
          "text": [
            "Batch 20, elapsed: 0.9s\n"
          ]
        },
        {
          "output_type": "stream",
          "name": "stderr",
          "text": [
            "\rFold 1 Epoch 10:  66%|\u2588\u2588\u2588\u2588\u2588\u2588\u258c   | 27/41 [00:01<00:00, 22.60it/s]"
          ]
        },
        {
          "output_type": "stream",
          "name": "stderr",
          "text": [
            "\rFold 1 Epoch 10:  73%|\u2588\u2588\u2588\u2588\u2588\u2588\u2588\u258e  | 30/41 [00:01<00:00, 22.70it/s]"
          ]
        },
        {
          "output_type": "stream",
          "name": "stderr",
          "text": [
            "\rFold 1 Epoch 10:  80%|\u2588\u2588\u2588\u2588\u2588\u2588\u2588\u2588  | 33/41 [00:01<00:00, 22.68it/s]"
          ]
        },
        {
          "output_type": "stream",
          "name": "stdout",
          "text": [
            "Batch 30, elapsed: 1.4s\n"
          ]
        },
        {
          "output_type": "stream",
          "name": "stderr",
          "text": [
            "\rFold 1 Epoch 10:  88%|\u2588\u2588\u2588\u2588\u2588\u2588\u2588\u2588\u258a | 36/41 [00:01<00:00, 22.87it/s]"
          ]
        },
        {
          "output_type": "stream",
          "name": "stderr",
          "text": [
            "\rFold 1 Epoch 10:  95%|\u2588\u2588\u2588\u2588\u2588\u2588\u2588\u2588\u2588\u258c| 39/41 [00:01<00:00, 22.81it/s]"
          ]
        },
        {
          "output_type": "stream",
          "name": "stderr",
          "text": [
            "\rFold 1 Epoch 10: 100%|\u2588\u2588\u2588\u2588\u2588\u2588\u2588\u2588\u2588\u2588| 41/41 [00:01<00:00, 22.77it/s]"
          ]
        },
        {
          "output_type": "stream",
          "name": "stderr",
          "text": [
            "\n"
          ]
        },
        {
          "output_type": "stream",
          "name": "stdout",
          "text": [
            "Batch 40, elapsed: 1.8s\nFold 1 Epoch 10 train time: 1.8s\nFold 1 Epoch 10: Train 0.7130, Val 0.6980, val time: 0.2s\n"
          ]
        },
        {
          "output_type": "stream",
          "name": "stderr",
          "text": [
            "\rFold 1 Epoch 11:   0%|          | 0/41 [00:00<?, ?it/s]"
          ]
        },
        {
          "output_type": "stream",
          "name": "stderr",
          "text": [
            "\rFold 1 Epoch 11:   7%|\u258b         | 3/41 [00:00<00:01, 22.10it/s]"
          ]
        },
        {
          "output_type": "stream",
          "name": "stdout",
          "text": [
            "Batch 0, elapsed: 0.0s\n"
          ]
        },
        {
          "output_type": "stream",
          "name": "stderr",
          "text": [
            "\rFold 1 Epoch 11:  15%|\u2588\u258d        | 6/41 [00:00<00:01, 23.04it/s]"
          ]
        },
        {
          "output_type": "stream",
          "name": "stderr",
          "text": [
            "\rFold 1 Epoch 11:  22%|\u2588\u2588\u258f       | 9/41 [00:00<00:01, 22.80it/s]"
          ]
        },
        {
          "output_type": "stream",
          "name": "stderr",
          "text": [
            "\rFold 1 Epoch 11:  29%|\u2588\u2588\u2589       | 12/41 [00:00<00:01, 22.75it/s]"
          ]
        },
        {
          "output_type": "stream",
          "name": "stderr",
          "text": [
            "\rFold 1 Epoch 11:  37%|\u2588\u2588\u2588\u258b      | 15/41 [00:00<00:01, 22.74it/s]"
          ]
        },
        {
          "output_type": "stream",
          "name": "stdout",
          "text": [
            "Batch 10, elapsed: 0.5s\n"
          ]
        },
        {
          "output_type": "stream",
          "name": "stderr",
          "text": [
            "\rFold 1 Epoch 11:  44%|\u2588\u2588\u2588\u2588\u258d     | 18/41 [00:00<00:01, 22.69it/s]"
          ]
        },
        {
          "output_type": "stream",
          "name": "stderr",
          "text": [
            "\rFold 1 Epoch 11:  51%|\u2588\u2588\u2588\u2588\u2588     | 21/41 [00:00<00:00, 22.78it/s]"
          ]
        },
        {
          "output_type": "stream",
          "name": "stderr",
          "text": [
            "\rFold 1 Epoch 11:  59%|\u2588\u2588\u2588\u2588\u2588\u258a    | 24/41 [00:01<00:00, 22.64it/s]"
          ]
        },
        {
          "output_type": "stream",
          "name": "stdout",
          "text": [
            "Batch 20, elapsed: 0.9s\n"
          ]
        },
        {
          "output_type": "stream",
          "name": "stderr",
          "text": [
            "\rFold 1 Epoch 11:  66%|\u2588\u2588\u2588\u2588\u2588\u2588\u258c   | 27/41 [00:01<00:00, 22.48it/s]"
          ]
        },
        {
          "output_type": "stream",
          "name": "stderr",
          "text": [
            "\rFold 1 Epoch 11:  73%|\u2588\u2588\u2588\u2588\u2588\u2588\u2588\u258e  | 30/41 [00:01<00:00, 22.18it/s]"
          ]
        },
        {
          "output_type": "stream",
          "name": "stderr",
          "text": [
            "\rFold 1 Epoch 11:  80%|\u2588\u2588\u2588\u2588\u2588\u2588\u2588\u2588  | 33/41 [00:01<00:00, 22.04it/s]"
          ]
        },
        {
          "output_type": "stream",
          "name": "stdout",
          "text": [
            "Batch 30, elapsed: 1.4s\n"
          ]
        },
        {
          "output_type": "stream",
          "name": "stderr",
          "text": [
            "\rFold 1 Epoch 11:  88%|\u2588\u2588\u2588\u2588\u2588\u2588\u2588\u2588\u258a | 36/41 [00:01<00:00, 22.23it/s]"
          ]
        },
        {
          "output_type": "stream",
          "name": "stderr",
          "text": [
            "\rFold 1 Epoch 11:  95%|\u2588\u2588\u2588\u2588\u2588\u2588\u2588\u2588\u2588\u258c| 39/41 [00:01<00:00, 22.13it/s]"
          ]
        },
        {
          "output_type": "stream",
          "name": "stderr",
          "text": [
            "\rFold 1 Epoch 11: 100%|\u2588\u2588\u2588\u2588\u2588\u2588\u2588\u2588\u2588\u2588| 41/41 [00:01<00:00, 22.46it/s]"
          ]
        },
        {
          "output_type": "stream",
          "name": "stderr",
          "text": [
            "\n"
          ]
        },
        {
          "output_type": "stream",
          "name": "stdout",
          "text": [
            "Batch 40, elapsed: 1.8s\nFold 1 Epoch 11 train time: 1.8s\n"
          ]
        },
        {
          "output_type": "stream",
          "name": "stdout",
          "text": [
            "Fold 1 Epoch 11: Train 0.6860, Val 0.6952, val time: 0.2s\n"
          ]
        },
        {
          "output_type": "stream",
          "name": "stderr",
          "text": [
            "\rFold 1 Epoch 12:   0%|          | 0/41 [00:00<?, ?it/s]"
          ]
        },
        {
          "output_type": "stream",
          "name": "stderr",
          "text": [
            "\rFold 1 Epoch 12:   7%|\u258b         | 3/41 [00:00<00:01, 22.73it/s]"
          ]
        },
        {
          "output_type": "stream",
          "name": "stdout",
          "text": [
            "Batch 0, elapsed: 0.0s\n"
          ]
        },
        {
          "output_type": "stream",
          "name": "stderr",
          "text": [
            "\rFold 1 Epoch 12:  15%|\u2588\u258d        | 6/41 [00:00<00:01, 22.65it/s]"
          ]
        },
        {
          "output_type": "stream",
          "name": "stderr",
          "text": [
            "\rFold 1 Epoch 12:  22%|\u2588\u2588\u258f       | 9/41 [00:00<00:01, 22.77it/s]"
          ]
        },
        {
          "output_type": "stream",
          "name": "stderr",
          "text": [
            "\rFold 1 Epoch 12:  29%|\u2588\u2588\u2589       | 12/41 [00:00<00:01, 22.76it/s]"
          ]
        },
        {
          "output_type": "stream",
          "name": "stderr",
          "text": [
            "\rFold 1 Epoch 12:  37%|\u2588\u2588\u2588\u258b      | 15/41 [00:00<00:01, 22.82it/s]"
          ]
        },
        {
          "output_type": "stream",
          "name": "stdout",
          "text": [
            "Batch 10, elapsed: 0.5s\n"
          ]
        },
        {
          "output_type": "stream",
          "name": "stderr",
          "text": [
            "\rFold 1 Epoch 12:  44%|\u2588\u2588\u2588\u2588\u258d     | 18/41 [00:00<00:01, 22.84it/s]"
          ]
        },
        {
          "output_type": "stream",
          "name": "stderr",
          "text": [
            "\rFold 1 Epoch 12:  51%|\u2588\u2588\u2588\u2588\u2588     | 21/41 [00:00<00:00, 22.52it/s]"
          ]
        },
        {
          "output_type": "stream",
          "name": "stderr",
          "text": [
            "\rFold 1 Epoch 12:  59%|\u2588\u2588\u2588\u2588\u2588\u258a    | 24/41 [00:01<00:00, 22.73it/s]"
          ]
        },
        {
          "output_type": "stream",
          "name": "stdout",
          "text": [
            "Batch 20, elapsed: 0.9s\n"
          ]
        },
        {
          "output_type": "stream",
          "name": "stderr",
          "text": [
            "\rFold 1 Epoch 12:  66%|\u2588\u2588\u2588\u2588\u2588\u2588\u258c   | 27/41 [00:01<00:00, 22.66it/s]"
          ]
        },
        {
          "output_type": "stream",
          "name": "stderr",
          "text": [
            "\rFold 1 Epoch 12:  73%|\u2588\u2588\u2588\u2588\u2588\u2588\u2588\u258e  | 30/41 [00:01<00:00, 22.56it/s]"
          ]
        },
        {
          "output_type": "stream",
          "name": "stderr",
          "text": [
            "\rFold 1 Epoch 12:  80%|\u2588\u2588\u2588\u2588\u2588\u2588\u2588\u2588  | 33/41 [00:01<00:00, 22.67it/s]"
          ]
        },
        {
          "output_type": "stream",
          "name": "stdout",
          "text": [
            "Batch 30, elapsed: 1.4s\n"
          ]
        },
        {
          "output_type": "stream",
          "name": "stderr",
          "text": [
            "\rFold 1 Epoch 12:  88%|\u2588\u2588\u2588\u2588\u2588\u2588\u2588\u2588\u258a | 36/41 [00:01<00:00, 22.75it/s]"
          ]
        },
        {
          "output_type": "stream",
          "name": "stderr",
          "text": [
            "\rFold 1 Epoch 12:  95%|\u2588\u2588\u2588\u2588\u2588\u2588\u2588\u2588\u2588\u258c| 39/41 [00:01<00:00, 23.03it/s]"
          ]
        },
        {
          "output_type": "stream",
          "name": "stderr",
          "text": [
            "\rFold 1 Epoch 12: 100%|\u2588\u2588\u2588\u2588\u2588\u2588\u2588\u2588\u2588\u2588| 41/41 [00:01<00:00, 22.86it/s]"
          ]
        },
        {
          "output_type": "stream",
          "name": "stderr",
          "text": [
            "\n"
          ]
        },
        {
          "output_type": "stream",
          "name": "stdout",
          "text": [
            "Batch 40, elapsed: 1.8s\nFold 1 Epoch 12 train time: 1.8s\nFold 1 Epoch 12: Train 0.6850, Val 0.6762, val time: 0.2s\nEarly stop at epoch 12\nFold 1 best val loss: 0.6721\n"
          ]
        },
        {
          "output_type": "stream",
          "name": "stdout",
          "text": [
            "Fold 2 pos_weight: [3. 3. 3. 3. 3. 3. 3.]\nFold 2 GPU memory before model: 0.1GB\n"
          ]
        },
        {
          "output_type": "stream",
          "name": "stderr",
          "text": [
            "\rFold 2 Epoch 1:   0%|          | 0/41 [00:00<?, ?it/s]"
          ]
        },
        {
          "output_type": "stream",
          "name": "stderr",
          "text": [
            "\rFold 2 Epoch 1:   7%|\u258b         | 3/41 [00:00<00:01, 23.11it/s]"
          ]
        },
        {
          "output_type": "stream",
          "name": "stdout",
          "text": [
            "Batch 0, elapsed: 0.0s\n"
          ]
        },
        {
          "output_type": "stream",
          "name": "stderr",
          "text": [
            "\rFold 2 Epoch 1:  15%|\u2588\u258d        | 6/41 [00:00<00:01, 22.86it/s]"
          ]
        },
        {
          "output_type": "stream",
          "name": "stderr",
          "text": [
            "\rFold 2 Epoch 1:  22%|\u2588\u2588\u258f       | 9/41 [00:00<00:01, 22.62it/s]"
          ]
        },
        {
          "output_type": "stream",
          "name": "stderr",
          "text": [
            "\rFold 2 Epoch 1:  29%|\u2588\u2588\u2589       | 12/41 [00:00<00:01, 22.90it/s]"
          ]
        },
        {
          "output_type": "stream",
          "name": "stderr",
          "text": [
            "\rFold 2 Epoch 1:  37%|\u2588\u2588\u2588\u258b      | 15/41 [00:00<00:01, 22.94it/s]"
          ]
        },
        {
          "output_type": "stream",
          "name": "stdout",
          "text": [
            "Batch 10, elapsed: 0.5s\n"
          ]
        },
        {
          "output_type": "stream",
          "name": "stderr",
          "text": [
            "\rFold 2 Epoch 1:  44%|\u2588\u2588\u2588\u2588\u258d     | 18/41 [00:00<00:01, 22.94it/s]"
          ]
        },
        {
          "output_type": "stream",
          "name": "stderr",
          "text": [
            "\rFold 2 Epoch 1:  51%|\u2588\u2588\u2588\u2588\u2588     | 21/41 [00:00<00:00, 22.95it/s]"
          ]
        },
        {
          "output_type": "stream",
          "name": "stderr",
          "text": [
            "\rFold 2 Epoch 1:  59%|\u2588\u2588\u2588\u2588\u2588\u258a    | 24/41 [00:01<00:00, 22.66it/s]"
          ]
        },
        {
          "output_type": "stream",
          "name": "stdout",
          "text": [
            "Batch 20, elapsed: 0.9s\n"
          ]
        },
        {
          "output_type": "stream",
          "name": "stderr",
          "text": [
            "\rFold 2 Epoch 1:  66%|\u2588\u2588\u2588\u2588\u2588\u2588\u258c   | 27/41 [00:01<00:00, 22.71it/s]"
          ]
        },
        {
          "output_type": "stream",
          "name": "stderr",
          "text": [
            "\rFold 2 Epoch 1:  73%|\u2588\u2588\u2588\u2588\u2588\u2588\u2588\u258e  | 30/41 [00:01<00:00, 22.82it/s]"
          ]
        },
        {
          "output_type": "stream",
          "name": "stderr",
          "text": [
            "\rFold 2 Epoch 1:  80%|\u2588\u2588\u2588\u2588\u2588\u2588\u2588\u2588  | 33/41 [00:01<00:00, 22.86it/s]"
          ]
        },
        {
          "output_type": "stream",
          "name": "stdout",
          "text": [
            "Batch 30, elapsed: 1.4s\n"
          ]
        },
        {
          "output_type": "stream",
          "name": "stderr",
          "text": [
            "\rFold 2 Epoch 1:  88%|\u2588\u2588\u2588\u2588\u2588\u2588\u2588\u2588\u258a | 36/41 [00:01<00:00, 22.92it/s]"
          ]
        },
        {
          "output_type": "stream",
          "name": "stderr",
          "text": [
            "\rFold 2 Epoch 1:  95%|\u2588\u2588\u2588\u2588\u2588\u2588\u2588\u2588\u2588\u258c| 39/41 [00:01<00:00, 22.74it/s]"
          ]
        },
        {
          "output_type": "stream",
          "name": "stderr",
          "text": [
            "\rFold 2 Epoch 1: 100%|\u2588\u2588\u2588\u2588\u2588\u2588\u2588\u2588\u2588\u2588| 41/41 [00:01<00:00, 22.88it/s]"
          ]
        },
        {
          "output_type": "stream",
          "name": "stderr",
          "text": [
            "\n"
          ]
        },
        {
          "output_type": "stream",
          "name": "stdout",
          "text": [
            "Batch 40, elapsed: 1.8s\nFold 2 Epoch 1 train time: 1.8s\n"
          ]
        },
        {
          "output_type": "stream",
          "name": "stdout",
          "text": [
            "Fold 2 Epoch 1: Train 0.7587, Val 0.8130, val time: 0.2s\nNew best at epoch 1\n"
          ]
        },
        {
          "output_type": "stream",
          "name": "stderr",
          "text": [
            "\rFold 2 Epoch 2:   0%|          | 0/41 [00:00<?, ?it/s]"
          ]
        },
        {
          "output_type": "stream",
          "name": "stderr",
          "text": [
            "\rFold 2 Epoch 2:   7%|\u258b         | 3/41 [00:00<00:01, 23.01it/s]"
          ]
        },
        {
          "output_type": "stream",
          "name": "stdout",
          "text": [
            "Batch 0, elapsed: 0.0s\n"
          ]
        },
        {
          "output_type": "stream",
          "name": "stderr",
          "text": [
            "\rFold 2 Epoch 2:  15%|\u2588\u258d        | 6/41 [00:00<00:01, 22.91it/s]"
          ]
        },
        {
          "output_type": "stream",
          "name": "stderr",
          "text": [
            "\rFold 2 Epoch 2:  22%|\u2588\u2588\u258f       | 9/41 [00:00<00:01, 22.75it/s]"
          ]
        },
        {
          "output_type": "stream",
          "name": "stderr",
          "text": [
            "\rFold 2 Epoch 2:  29%|\u2588\u2588\u2589       | 12/41 [00:00<00:01, 23.21it/s]"
          ]
        },
        {
          "output_type": "stream",
          "name": "stderr",
          "text": [
            "\rFold 2 Epoch 2:  37%|\u2588\u2588\u2588\u258b      | 15/41 [00:00<00:01, 23.07it/s]"
          ]
        },
        {
          "output_type": "stream",
          "name": "stdout",
          "text": [
            "Batch 10, elapsed: 0.5s\n"
          ]
        },
        {
          "output_type": "stream",
          "name": "stderr",
          "text": [
            "\rFold 2 Epoch 2:  44%|\u2588\u2588\u2588\u2588\u258d     | 18/41 [00:00<00:00, 23.28it/s]"
          ]
        },
        {
          "output_type": "stream",
          "name": "stderr",
          "text": [
            "\rFold 2 Epoch 2:  51%|\u2588\u2588\u2588\u2588\u2588     | 21/41 [00:00<00:00, 23.47it/s]"
          ]
        },
        {
          "output_type": "stream",
          "name": "stderr",
          "text": [
            "\rFold 2 Epoch 2:  59%|\u2588\u2588\u2588\u2588\u2588\u258a    | 24/41 [00:01<00:00, 23.42it/s]"
          ]
        },
        {
          "output_type": "stream",
          "name": "stdout",
          "text": [
            "Batch 20, elapsed: 0.9s\n"
          ]
        },
        {
          "output_type": "stream",
          "name": "stderr",
          "text": [
            "\rFold 2 Epoch 2:  66%|\u2588\u2588\u2588\u2588\u2588\u2588\u258c   | 27/41 [00:01<00:00, 23.42it/s]"
          ]
        },
        {
          "output_type": "stream",
          "name": "stderr",
          "text": [
            "\rFold 2 Epoch 2:  73%|\u2588\u2588\u2588\u2588\u2588\u2588\u2588\u258e  | 30/41 [00:01<00:00, 23.33it/s]"
          ]
        },
        {
          "output_type": "stream",
          "name": "stderr",
          "text": [
            "\rFold 2 Epoch 2:  80%|\u2588\u2588\u2588\u2588\u2588\u2588\u2588\u2588  | 33/41 [00:01<00:00, 23.37it/s]"
          ]
        },
        {
          "output_type": "stream",
          "name": "stdout",
          "text": [
            "Batch 30, elapsed: 1.3s\n"
          ]
        },
        {
          "output_type": "stream",
          "name": "stderr",
          "text": [
            "\rFold 2 Epoch 2:  88%|\u2588\u2588\u2588\u2588\u2588\u2588\u2588\u2588\u258a | 36/41 [00:01<00:00, 23.37it/s]"
          ]
        },
        {
          "output_type": "stream",
          "name": "stderr",
          "text": [
            "\rFold 2 Epoch 2:  95%|\u2588\u2588\u2588\u2588\u2588\u2588\u2588\u2588\u2588\u258c| 39/41 [00:01<00:00, 23.54it/s]"
          ]
        },
        {
          "output_type": "stream",
          "name": "stderr",
          "text": [
            "\rFold 2 Epoch 2: 100%|\u2588\u2588\u2588\u2588\u2588\u2588\u2588\u2588\u2588\u2588| 41/41 [00:01<00:00, 23.43it/s]"
          ]
        },
        {
          "output_type": "stream",
          "name": "stderr",
          "text": [
            "\n"
          ]
        },
        {
          "output_type": "stream",
          "name": "stdout",
          "text": [
            "Batch 40, elapsed: 1.8s\nFold 2 Epoch 2 train time: 1.8s\n"
          ]
        },
        {
          "output_type": "stream",
          "name": "stdout",
          "text": [
            "Fold 2 Epoch 2: Train 0.7206, Val 0.7278, val time: 0.2s\nNew best at epoch 2\n"
          ]
        },
        {
          "output_type": "stream",
          "name": "stderr",
          "text": [
            "\rFold 2 Epoch 3:   0%|          | 0/41 [00:00<?, ?it/s]"
          ]
        },
        {
          "output_type": "stream",
          "name": "stderr",
          "text": [
            "\rFold 2 Epoch 3:   7%|\u258b         | 3/41 [00:00<00:01, 22.60it/s]"
          ]
        },
        {
          "output_type": "stream",
          "name": "stdout",
          "text": [
            "Batch 0, elapsed: 0.0s\n"
          ]
        },
        {
          "output_type": "stream",
          "name": "stderr",
          "text": [
            "\rFold 2 Epoch 3:  15%|\u2588\u258d        | 6/41 [00:00<00:01, 22.81it/s]"
          ]
        },
        {
          "output_type": "stream",
          "name": "stderr",
          "text": [
            "\rFold 2 Epoch 3:  22%|\u2588\u2588\u258f       | 9/41 [00:00<00:01, 22.79it/s]"
          ]
        },
        {
          "output_type": "stream",
          "name": "stderr",
          "text": [
            "\rFold 2 Epoch 3:  29%|\u2588\u2588\u2589       | 12/41 [00:00<00:01, 22.65it/s]"
          ]
        },
        {
          "output_type": "stream",
          "name": "stderr",
          "text": [
            "\rFold 2 Epoch 3:  37%|\u2588\u2588\u2588\u258b      | 15/41 [00:00<00:01, 22.78it/s]"
          ]
        },
        {
          "output_type": "stream",
          "name": "stdout",
          "text": [
            "Batch 10, elapsed: 0.5s\n"
          ]
        },
        {
          "output_type": "stream",
          "name": "stderr",
          "text": [
            "\rFold 2 Epoch 3:  44%|\u2588\u2588\u2588\u2588\u258d     | 18/41 [00:00<00:01, 22.72it/s]"
          ]
        },
        {
          "output_type": "stream",
          "name": "stderr",
          "text": [
            "\rFold 2 Epoch 3:  51%|\u2588\u2588\u2588\u2588\u2588     | 21/41 [00:00<00:00, 22.71it/s]"
          ]
        },
        {
          "output_type": "stream",
          "name": "stderr",
          "text": [
            "\rFold 2 Epoch 3:  59%|\u2588\u2588\u2588\u2588\u2588\u258a    | 24/41 [00:01<00:00, 22.46it/s]"
          ]
        },
        {
          "output_type": "stream",
          "name": "stdout",
          "text": [
            "Batch 20, elapsed: 0.9s\n"
          ]
        },
        {
          "output_type": "stream",
          "name": "stderr",
          "text": [
            "\rFold 2 Epoch 3:  66%|\u2588\u2588\u2588\u2588\u2588\u2588\u258c   | 27/41 [00:01<00:00, 22.51it/s]"
          ]
        },
        {
          "output_type": "stream",
          "name": "stderr",
          "text": [
            "\rFold 2 Epoch 3:  73%|\u2588\u2588\u2588\u2588\u2588\u2588\u2588\u258e  | 30/41 [00:01<00:00, 22.58it/s]"
          ]
        },
        {
          "output_type": "stream",
          "name": "stderr",
          "text": [
            "\rFold 2 Epoch 3:  80%|\u2588\u2588\u2588\u2588\u2588\u2588\u2588\u2588  | 33/41 [00:01<00:00, 22.54it/s]"
          ]
        },
        {
          "output_type": "stream",
          "name": "stdout",
          "text": [
            "Batch 30, elapsed: 1.4s\n"
          ]
        },
        {
          "output_type": "stream",
          "name": "stderr",
          "text": [
            "\rFold 2 Epoch 3:  88%|\u2588\u2588\u2588\u2588\u2588\u2588\u2588\u2588\u258a | 36/41 [00:01<00:00, 22.78it/s]"
          ]
        },
        {
          "output_type": "stream",
          "name": "stderr",
          "text": [
            "\rFold 2 Epoch 3:  95%|\u2588\u2588\u2588\u2588\u2588\u2588\u2588\u2588\u2588\u258c| 39/41 [00:01<00:00, 23.00it/s]"
          ]
        },
        {
          "output_type": "stream",
          "name": "stderr",
          "text": [
            "\rFold 2 Epoch 3: 100%|\u2588\u2588\u2588\u2588\u2588\u2588\u2588\u2588\u2588\u2588| 41/41 [00:01<00:00, 22.82it/s]"
          ]
        },
        {
          "output_type": "stream",
          "name": "stderr",
          "text": [
            "\n"
          ]
        },
        {
          "output_type": "stream",
          "name": "stdout",
          "text": [
            "Batch 40, elapsed: 1.8s\nFold 2 Epoch 3 train time: 1.8s\n"
          ]
        },
        {
          "output_type": "stream",
          "name": "stdout",
          "text": [
            "Fold 2 Epoch 3: Train 0.7142, Val 0.7206, val time: 0.2s\nNew best at epoch 3\n"
          ]
        },
        {
          "output_type": "stream",
          "name": "stderr",
          "text": [
            "\rFold 2 Epoch 4:   0%|          | 0/41 [00:00<?, ?it/s]"
          ]
        },
        {
          "output_type": "stream",
          "name": "stderr",
          "text": [
            "\rFold 2 Epoch 4:   7%|\u258b         | 3/41 [00:00<00:01, 22.56it/s]"
          ]
        },
        {
          "output_type": "stream",
          "name": "stdout",
          "text": [
            "Batch 0, elapsed: 0.0s\n"
          ]
        },
        {
          "output_type": "stream",
          "name": "stderr",
          "text": [
            "\rFold 2 Epoch 4:  15%|\u2588\u258d        | 6/41 [00:00<00:01, 22.29it/s]"
          ]
        },
        {
          "output_type": "stream",
          "name": "stderr",
          "text": [
            "\rFold 2 Epoch 4:  22%|\u2588\u2588\u258f       | 9/41 [00:00<00:01, 22.52it/s]"
          ]
        },
        {
          "output_type": "stream",
          "name": "stderr",
          "text": [
            "\rFold 2 Epoch 4:  29%|\u2588\u2588\u2589       | 12/41 [00:00<00:01, 22.44it/s]"
          ]
        },
        {
          "output_type": "stream",
          "name": "stderr",
          "text": [
            "\rFold 2 Epoch 4:  37%|\u2588\u2588\u2588\u258b      | 15/41 [00:00<00:01, 22.59it/s]"
          ]
        },
        {
          "output_type": "stream",
          "name": "stdout",
          "text": [
            "Batch 10, elapsed: 0.5s\n"
          ]
        },
        {
          "output_type": "stream",
          "name": "stderr",
          "text": [
            "\rFold 2 Epoch 4:  44%|\u2588\u2588\u2588\u2588\u258d     | 18/41 [00:00<00:01, 22.48it/s]"
          ]
        },
        {
          "output_type": "stream",
          "name": "stderr",
          "text": [
            "\rFold 2 Epoch 4:  51%|\u2588\u2588\u2588\u2588\u2588     | 21/41 [00:00<00:00, 22.27it/s]"
          ]
        },
        {
          "output_type": "stream",
          "name": "stderr",
          "text": [
            "\rFold 2 Epoch 4:  59%|\u2588\u2588\u2588\u2588\u2588\u258a    | 24/41 [00:01<00:00, 22.27it/s]"
          ]
        },
        {
          "output_type": "stream",
          "name": "stdout",
          "text": [
            "Batch 20, elapsed: 0.9s\n"
          ]
        },
        {
          "output_type": "stream",
          "name": "stderr",
          "text": [
            "\rFold 2 Epoch 4:  66%|\u2588\u2588\u2588\u2588\u2588\u2588\u258c   | 27/41 [00:01<00:00, 22.34it/s]"
          ]
        },
        {
          "output_type": "stream",
          "name": "stderr",
          "text": [
            "\rFold 2 Epoch 4:  73%|\u2588\u2588\u2588\u2588\u2588\u2588\u2588\u258e  | 30/41 [00:01<00:00, 22.18it/s]"
          ]
        },
        {
          "output_type": "stream",
          "name": "stderr",
          "text": [
            "\rFold 2 Epoch 4:  80%|\u2588\u2588\u2588\u2588\u2588\u2588\u2588\u2588  | 33/41 [00:01<00:00, 22.02it/s]"
          ]
        },
        {
          "output_type": "stream",
          "name": "stdout",
          "text": [
            "Batch 30, elapsed: 1.4s\n"
          ]
        },
        {
          "output_type": "stream",
          "name": "stderr",
          "text": [
            "\rFold 2 Epoch 4:  88%|\u2588\u2588\u2588\u2588\u2588\u2588\u2588\u2588\u258a | 36/41 [00:01<00:00, 22.06it/s]"
          ]
        },
        {
          "output_type": "stream",
          "name": "stderr",
          "text": [
            "\rFold 2 Epoch 4:  95%|\u2588\u2588\u2588\u2588\u2588\u2588\u2588\u2588\u2588\u258c| 39/41 [00:01<00:00, 22.05it/s]"
          ]
        },
        {
          "output_type": "stream",
          "name": "stderr",
          "text": [
            "\rFold 2 Epoch 4: 100%|\u2588\u2588\u2588\u2588\u2588\u2588\u2588\u2588\u2588\u2588| 41/41 [00:01<00:00, 22.31it/s]"
          ]
        },
        {
          "output_type": "stream",
          "name": "stderr",
          "text": [
            "\n"
          ]
        },
        {
          "output_type": "stream",
          "name": "stdout",
          "text": [
            "Batch 40, elapsed: 1.8s\nFold 2 Epoch 4 train time: 1.8s\n"
          ]
        },
        {
          "output_type": "stream",
          "name": "stdout",
          "text": [
            "Fold 2 Epoch 4: Train 0.7082, Val 0.7439, val time: 0.2s\n"
          ]
        },
        {
          "output_type": "stream",
          "name": "stderr",
          "text": [
            "\rFold 2 Epoch 5:   0%|          | 0/41 [00:00<?, ?it/s]"
          ]
        },
        {
          "output_type": "stream",
          "name": "stderr",
          "text": [
            "\rFold 2 Epoch 5:   7%|\u258b         | 3/41 [00:00<00:01, 21.93it/s]"
          ]
        },
        {
          "output_type": "stream",
          "name": "stdout",
          "text": [
            "Batch 0, elapsed: 0.0s\n"
          ]
        },
        {
          "output_type": "stream",
          "name": "stderr",
          "text": [
            "\rFold 2 Epoch 5:  15%|\u2588\u258d        | 6/41 [00:00<00:01, 22.53it/s]"
          ]
        },
        {
          "output_type": "stream",
          "name": "stderr",
          "text": [
            "\rFold 2 Epoch 5:  22%|\u2588\u2588\u258f       | 9/41 [00:00<00:01, 23.13it/s]"
          ]
        },
        {
          "output_type": "stream",
          "name": "stderr",
          "text": [
            "\rFold 2 Epoch 5:  29%|\u2588\u2588\u2589       | 12/41 [00:00<00:01, 23.05it/s]"
          ]
        },
        {
          "output_type": "stream",
          "name": "stderr",
          "text": [
            "\rFold 2 Epoch 5:  37%|\u2588\u2588\u2588\u258b      | 15/41 [00:00<00:01, 22.89it/s]"
          ]
        },
        {
          "output_type": "stream",
          "name": "stdout",
          "text": [
            "Batch 10, elapsed: 0.5s\n"
          ]
        },
        {
          "output_type": "stream",
          "name": "stderr",
          "text": [
            "\rFold 2 Epoch 5:  44%|\u2588\u2588\u2588\u2588\u258d     | 18/41 [00:00<00:01, 22.79it/s]"
          ]
        },
        {
          "output_type": "stream",
          "name": "stderr",
          "text": [
            "\rFold 2 Epoch 5:  51%|\u2588\u2588\u2588\u2588\u2588     | 21/41 [00:00<00:00, 23.22it/s]"
          ]
        },
        {
          "output_type": "stream",
          "name": "stderr",
          "text": [
            "\rFold 2 Epoch 5:  59%|\u2588\u2588\u2588\u2588\u2588\u258a    | 24/41 [00:01<00:00, 23.42it/s]"
          ]
        },
        {
          "output_type": "stream",
          "name": "stdout",
          "text": [
            "Batch 20, elapsed: 0.9s\n"
          ]
        },
        {
          "output_type": "stream",
          "name": "stderr",
          "text": [
            "\rFold 2 Epoch 5:  66%|\u2588\u2588\u2588\u2588\u2588\u2588\u258c   | 27/41 [00:01<00:00, 23.25it/s]"
          ]
        },
        {
          "output_type": "stream",
          "name": "stderr",
          "text": [
            "\rFold 2 Epoch 5:  73%|\u2588\u2588\u2588\u2588\u2588\u2588\u2588\u258e  | 30/41 [00:01<00:00, 23.53it/s]"
          ]
        },
        {
          "output_type": "stream",
          "name": "stderr",
          "text": [
            "\rFold 2 Epoch 5:  80%|\u2588\u2588\u2588\u2588\u2588\u2588\u2588\u2588  | 33/41 [00:01<00:00, 23.44it/s]"
          ]
        },
        {
          "output_type": "stream",
          "name": "stdout",
          "text": [
            "Batch 30, elapsed: 1.3s\n"
          ]
        },
        {
          "output_type": "stream",
          "name": "stderr",
          "text": [
            "\rFold 2 Epoch 5:  88%|\u2588\u2588\u2588\u2588\u2588\u2588\u2588\u2588\u258a | 36/41 [00:01<00:00, 23.37it/s]"
          ]
        },
        {
          "output_type": "stream",
          "name": "stderr",
          "text": [
            "\rFold 2 Epoch 5:  95%|\u2588\u2588\u2588\u2588\u2588\u2588\u2588\u2588\u2588\u258c| 39/41 [00:01<00:00, 23.61it/s]"
          ]
        },
        {
          "output_type": "stream",
          "name": "stderr",
          "text": [
            "\rFold 2 Epoch 5: 100%|\u2588\u2588\u2588\u2588\u2588\u2588\u2588\u2588\u2588\u2588| 41/41 [00:01<00:00, 23.32it/s]"
          ]
        },
        {
          "output_type": "stream",
          "name": "stderr",
          "text": [
            "\n"
          ]
        },
        {
          "output_type": "stream",
          "name": "stdout",
          "text": [
            "Batch 40, elapsed: 1.8s\nFold 2 Epoch 5 train time: 1.8s\nFold 2 Epoch 5: Train 0.7204, Val 0.7280, val time: 0.2s\n"
          ]
        },
        {
          "output_type": "stream",
          "name": "stderr",
          "text": [
            "\rFold 2 Epoch 6:   0%|          | 0/41 [00:00<?, ?it/s]"
          ]
        },
        {
          "output_type": "stream",
          "name": "stderr",
          "text": [
            "\rFold 2 Epoch 6:   7%|\u258b         | 3/41 [00:00<00:01, 24.15it/s]"
          ]
        },
        {
          "output_type": "stream",
          "name": "stdout",
          "text": [
            "Batch 0, elapsed: 0.0s\n"
          ]
        },
        {
          "output_type": "stream",
          "name": "stderr",
          "text": [
            "\rFold 2 Epoch 6:  15%|\u2588\u258d        | 6/41 [00:00<00:01, 23.91it/s]"
          ]
        },
        {
          "output_type": "stream",
          "name": "stderr",
          "text": [
            "\rFold 2 Epoch 6:  22%|\u2588\u2588\u258f       | 9/41 [00:00<00:01, 23.89it/s]"
          ]
        },
        {
          "output_type": "stream",
          "name": "stderr",
          "text": [
            "\rFold 2 Epoch 6:  29%|\u2588\u2588\u2589       | 12/41 [00:00<00:01, 23.67it/s]"
          ]
        },
        {
          "output_type": "stream",
          "name": "stderr",
          "text": [
            "\rFold 2 Epoch 6:  37%|\u2588\u2588\u2588\u258b      | 15/41 [00:00<00:01, 23.45it/s]"
          ]
        },
        {
          "output_type": "stream",
          "name": "stdout",
          "text": [
            "Batch 10, elapsed: 0.5s\n"
          ]
        },
        {
          "output_type": "stream",
          "name": "stderr",
          "text": [
            "\rFold 2 Epoch 6:  44%|\u2588\u2588\u2588\u2588\u258d     | 18/41 [00:00<00:00, 23.04it/s]"
          ]
        },
        {
          "output_type": "stream",
          "name": "stderr",
          "text": [
            "\rFold 2 Epoch 6:  51%|\u2588\u2588\u2588\u2588\u2588     | 21/41 [00:00<00:00, 23.18it/s]"
          ]
        },
        {
          "output_type": "stream",
          "name": "stderr",
          "text": [
            "\rFold 2 Epoch 6:  59%|\u2588\u2588\u2588\u2588\u2588\u258a    | 24/41 [00:01<00:00, 23.55it/s]"
          ]
        },
        {
          "output_type": "stream",
          "name": "stdout",
          "text": [
            "Batch 20, elapsed: 0.9s\n"
          ]
        },
        {
          "output_type": "stream",
          "name": "stderr",
          "text": [
            "\rFold 2 Epoch 6:  66%|\u2588\u2588\u2588\u2588\u2588\u2588\u258c   | 27/41 [00:01<00:00, 23.28it/s]"
          ]
        },
        {
          "output_type": "stream",
          "name": "stderr",
          "text": [
            "\rFold 2 Epoch 6:  73%|\u2588\u2588\u2588\u2588\u2588\u2588\u2588\u258e  | 30/41 [00:01<00:00, 23.25it/s]"
          ]
        },
        {
          "output_type": "stream",
          "name": "stderr",
          "text": [
            "\rFold 2 Epoch 6:  80%|\u2588\u2588\u2588\u2588\u2588\u2588\u2588\u2588  | 33/41 [00:01<00:00, 23.43it/s]"
          ]
        },
        {
          "output_type": "stream",
          "name": "stdout",
          "text": [
            "Batch 30, elapsed: 1.3s\n"
          ]
        },
        {
          "output_type": "stream",
          "name": "stderr",
          "text": [
            "\rFold 2 Epoch 6:  88%|\u2588\u2588\u2588\u2588\u2588\u2588\u2588\u2588\u258a | 36/41 [00:01<00:00, 23.22it/s]"
          ]
        },
        {
          "output_type": "stream",
          "name": "stderr",
          "text": [
            "\rFold 2 Epoch 6:  95%|\u2588\u2588\u2588\u2588\u2588\u2588\u2588\u2588\u2588\u258c| 39/41 [00:01<00:00, 23.20it/s]"
          ]
        },
        {
          "output_type": "stream",
          "name": "stderr",
          "text": [
            "\rFold 2 Epoch 6: 100%|\u2588\u2588\u2588\u2588\u2588\u2588\u2588\u2588\u2588\u2588| 41/41 [00:01<00:00, 23.44it/s]"
          ]
        },
        {
          "output_type": "stream",
          "name": "stderr",
          "text": [
            "\n"
          ]
        },
        {
          "output_type": "stream",
          "name": "stdout",
          "text": [
            "Batch 40, elapsed: 1.8s\nFold 2 Epoch 6 train time: 1.8s\nFold 2 Epoch 6: Train 0.6747, Val 0.7141, val time: 0.2s\n"
          ]
        },
        {
          "output_type": "stream",
          "name": "stdout",
          "text": [
            "New best at epoch 6\n"
          ]
        },
        {
          "output_type": "stream",
          "name": "stderr",
          "text": [
            "\rFold 2 Epoch 7:   0%|          | 0/41 [00:00<?, ?it/s]"
          ]
        },
        {
          "output_type": "stream",
          "name": "stderr",
          "text": [
            "\rFold 2 Epoch 7:   7%|\u258b         | 3/41 [00:00<00:01, 23.56it/s]"
          ]
        },
        {
          "output_type": "stream",
          "name": "stdout",
          "text": [
            "Batch 0, elapsed: 0.0s\n"
          ]
        },
        {
          "output_type": "stream",
          "name": "stderr",
          "text": [
            "\rFold 2 Epoch 7:  15%|\u2588\u258d        | 6/41 [00:00<00:01, 23.01it/s]"
          ]
        },
        {
          "output_type": "stream",
          "name": "stderr",
          "text": [
            "\rFold 2 Epoch 7:  22%|\u2588\u2588\u258f       | 9/41 [00:00<00:01, 23.28it/s]"
          ]
        },
        {
          "output_type": "stream",
          "name": "stderr",
          "text": [
            "\rFold 2 Epoch 7:  29%|\u2588\u2588\u2589       | 12/41 [00:00<00:01, 22.69it/s]"
          ]
        },
        {
          "output_type": "stream",
          "name": "stderr",
          "text": [
            "\rFold 2 Epoch 7:  37%|\u2588\u2588\u2588\u258b      | 15/41 [00:00<00:01, 22.66it/s]"
          ]
        },
        {
          "output_type": "stream",
          "name": "stdout",
          "text": [
            "Batch 10, elapsed: 0.5s\n"
          ]
        },
        {
          "output_type": "stream",
          "name": "stderr",
          "text": [
            "\rFold 2 Epoch 7:  44%|\u2588\u2588\u2588\u2588\u258d     | 18/41 [00:00<00:01, 22.76it/s]"
          ]
        },
        {
          "output_type": "stream",
          "name": "stderr",
          "text": [
            "\rFold 2 Epoch 7:  51%|\u2588\u2588\u2588\u2588\u2588     | 21/41 [00:00<00:00, 22.78it/s]"
          ]
        },
        {
          "output_type": "stream",
          "name": "stderr",
          "text": [
            "\rFold 2 Epoch 7:  59%|\u2588\u2588\u2588\u2588\u2588\u258a    | 24/41 [00:01<00:00, 22.75it/s]"
          ]
        },
        {
          "output_type": "stream",
          "name": "stdout",
          "text": [
            "Batch 20, elapsed: 0.9s\n"
          ]
        },
        {
          "output_type": "stream",
          "name": "stderr",
          "text": [
            "\rFold 2 Epoch 7:  66%|\u2588\u2588\u2588\u2588\u2588\u2588\u258c   | 27/41 [00:01<00:00, 22.53it/s]"
          ]
        },
        {
          "output_type": "stream",
          "name": "stderr",
          "text": [
            "\rFold 2 Epoch 7:  73%|\u2588\u2588\u2588\u2588\u2588\u2588\u2588\u258e  | 30/41 [00:01<00:00, 22.72it/s]"
          ]
        },
        {
          "output_type": "stream",
          "name": "stderr",
          "text": [
            "\rFold 2 Epoch 7:  80%|\u2588\u2588\u2588\u2588\u2588\u2588\u2588\u2588  | 33/41 [00:01<00:00, 23.00it/s]"
          ]
        },
        {
          "output_type": "stream",
          "name": "stdout",
          "text": [
            "Batch 30, elapsed: 1.4s\n"
          ]
        },
        {
          "output_type": "stream",
          "name": "stderr",
          "text": [
            "\rFold 2 Epoch 7:  88%|\u2588\u2588\u2588\u2588\u2588\u2588\u2588\u2588\u258a | 36/41 [00:01<00:00, 22.83it/s]"
          ]
        },
        {
          "output_type": "stream",
          "name": "stderr",
          "text": [
            "\rFold 2 Epoch 7:  95%|\u2588\u2588\u2588\u2588\u2588\u2588\u2588\u2588\u2588\u258c| 39/41 [00:01<00:00, 22.74it/s]"
          ]
        },
        {
          "output_type": "stream",
          "name": "stderr",
          "text": [
            "\rFold 2 Epoch 7: 100%|\u2588\u2588\u2588\u2588\u2588\u2588\u2588\u2588\u2588\u2588| 41/41 [00:01<00:00, 22.90it/s]"
          ]
        },
        {
          "output_type": "stream",
          "name": "stderr",
          "text": [
            "\n"
          ]
        },
        {
          "output_type": "stream",
          "name": "stdout",
          "text": [
            "Batch 40, elapsed: 1.8s\nFold 2 Epoch 7 train time: 1.8s\nFold 2 Epoch 7: Train 0.6865, Val 0.7207, val time: 0.2s\n"
          ]
        },
        {
          "output_type": "stream",
          "name": "stderr",
          "text": [
            "\rFold 2 Epoch 8:   0%|          | 0/41 [00:00<?, ?it/s]"
          ]
        },
        {
          "output_type": "stream",
          "name": "stderr",
          "text": [
            "\rFold 2 Epoch 8:   7%|\u258b         | 3/41 [00:00<00:01, 22.80it/s]"
          ]
        },
        {
          "output_type": "stream",
          "name": "stdout",
          "text": [
            "Batch 0, elapsed: 0.0s\n"
          ]
        },
        {
          "output_type": "stream",
          "name": "stderr",
          "text": [
            "\rFold 2 Epoch 8:  15%|\u2588\u258d        | 6/41 [00:00<00:01, 22.38it/s]"
          ]
        },
        {
          "output_type": "stream",
          "name": "stderr",
          "text": [
            "\rFold 2 Epoch 8:  22%|\u2588\u2588\u258f       | 9/41 [00:00<00:01, 22.68it/s]"
          ]
        },
        {
          "output_type": "stream",
          "name": "stderr",
          "text": [
            "\rFold 2 Epoch 8:  29%|\u2588\u2588\u2589       | 12/41 [00:00<00:01, 22.48it/s]"
          ]
        },
        {
          "output_type": "stream",
          "name": "stderr",
          "text": [
            "\rFold 2 Epoch 8:  37%|\u2588\u2588\u2588\u258b      | 15/41 [00:00<00:01, 22.36it/s]"
          ]
        },
        {
          "output_type": "stream",
          "name": "stdout",
          "text": [
            "Batch 10, elapsed: 0.5s\n"
          ]
        },
        {
          "output_type": "stream",
          "name": "stderr",
          "text": [
            "\rFold 2 Epoch 8:  44%|\u2588\u2588\u2588\u2588\u258d     | 18/41 [00:00<00:01, 22.42it/s]"
          ]
        },
        {
          "output_type": "stream",
          "name": "stderr",
          "text": [
            "\rFold 2 Epoch 8:  51%|\u2588\u2588\u2588\u2588\u2588     | 21/41 [00:00<00:00, 22.39it/s]"
          ]
        },
        {
          "output_type": "stream",
          "name": "stderr",
          "text": [
            "\rFold 2 Epoch 8:  59%|\u2588\u2588\u2588\u2588\u2588\u258a    | 24/41 [00:01<00:00, 22.43it/s]"
          ]
        },
        {
          "output_type": "stream",
          "name": "stdout",
          "text": [
            "Batch 20, elapsed: 0.9s\n"
          ]
        },
        {
          "output_type": "stream",
          "name": "stderr",
          "text": [
            "\rFold 2 Epoch 8:  66%|\u2588\u2588\u2588\u2588\u2588\u2588\u258c   | 27/41 [00:01<00:00, 22.53it/s]"
          ]
        },
        {
          "output_type": "stream",
          "name": "stderr",
          "text": [
            "\rFold 2 Epoch 8:  73%|\u2588\u2588\u2588\u2588\u2588\u2588\u2588\u258e  | 30/41 [00:01<00:00, 22.49it/s]"
          ]
        },
        {
          "output_type": "stream",
          "name": "stderr",
          "text": [
            "\rFold 2 Epoch 8:  80%|\u2588\u2588\u2588\u2588\u2588\u2588\u2588\u2588  | 33/41 [00:01<00:00, 22.40it/s]"
          ]
        },
        {
          "output_type": "stream",
          "name": "stdout",
          "text": [
            "Batch 30, elapsed: 1.4s\n"
          ]
        },
        {
          "output_type": "stream",
          "name": "stderr",
          "text": [
            "\rFold 2 Epoch 8:  88%|\u2588\u2588\u2588\u2588\u2588\u2588\u2588\u2588\u258a | 36/41 [00:01<00:00, 22.65it/s]"
          ]
        },
        {
          "output_type": "stream",
          "name": "stderr",
          "text": [
            "\rFold 2 Epoch 8:  95%|\u2588\u2588\u2588\u2588\u2588\u2588\u2588\u2588\u2588\u258c| 39/41 [00:01<00:00, 22.61it/s]"
          ]
        },
        {
          "output_type": "stream",
          "name": "stderr",
          "text": [
            "\rFold 2 Epoch 8: 100%|\u2588\u2588\u2588\u2588\u2588\u2588\u2588\u2588\u2588\u2588| 41/41 [00:01<00:00, 22.58it/s]"
          ]
        },
        {
          "output_type": "stream",
          "name": "stderr",
          "text": [
            "\n"
          ]
        },
        {
          "output_type": "stream",
          "name": "stdout",
          "text": [
            "Batch 40, elapsed: 1.8s\nFold 2 Epoch 8 train time: 1.8s\nFold 2 Epoch 8: Train 0.7141, Val 0.7271, val time: 0.2s\n"
          ]
        },
        {
          "output_type": "stream",
          "name": "stderr",
          "text": [
            "\rFold 2 Epoch 9:   0%|          | 0/41 [00:00<?, ?it/s]"
          ]
        },
        {
          "output_type": "stream",
          "name": "stderr",
          "text": [
            "\rFold 2 Epoch 9:   7%|\u258b         | 3/41 [00:00<00:01, 23.34it/s]"
          ]
        },
        {
          "output_type": "stream",
          "name": "stdout",
          "text": [
            "Batch 0, elapsed: 0.0s\n"
          ]
        },
        {
          "output_type": "stream",
          "name": "stderr",
          "text": [
            "\rFold 2 Epoch 9:  15%|\u2588\u258d        | 6/41 [00:00<00:01, 23.24it/s]"
          ]
        },
        {
          "output_type": "stream",
          "name": "stderr",
          "text": [
            "\rFold 2 Epoch 9:  22%|\u2588\u2588\u258f       | 9/41 [00:00<00:01, 23.00it/s]"
          ]
        },
        {
          "output_type": "stream",
          "name": "stderr",
          "text": [
            "\rFold 2 Epoch 9:  29%|\u2588\u2588\u2589       | 12/41 [00:00<00:01, 23.04it/s]"
          ]
        },
        {
          "output_type": "stream",
          "name": "stderr",
          "text": [
            "\rFold 2 Epoch 9:  37%|\u2588\u2588\u2588\u258b      | 15/41 [00:00<00:01, 22.89it/s]"
          ]
        },
        {
          "output_type": "stream",
          "name": "stdout",
          "text": [
            "Batch 10, elapsed: 0.5s\n"
          ]
        },
        {
          "output_type": "stream",
          "name": "stderr",
          "text": [
            "\rFold 2 Epoch 9:  44%|\u2588\u2588\u2588\u2588\u258d     | 18/41 [00:00<00:01, 22.76it/s]"
          ]
        },
        {
          "output_type": "stream",
          "name": "stderr",
          "text": [
            "\rFold 2 Epoch 9:  51%|\u2588\u2588\u2588\u2588\u2588     | 21/41 [00:00<00:00, 22.59it/s]"
          ]
        },
        {
          "output_type": "stream",
          "name": "stderr",
          "text": [
            "\rFold 2 Epoch 9:  59%|\u2588\u2588\u2588\u2588\u2588\u258a    | 24/41 [00:01<00:00, 22.48it/s]"
          ]
        },
        {
          "output_type": "stream",
          "name": "stdout",
          "text": [
            "Batch 20, elapsed: 0.9s\n"
          ]
        },
        {
          "output_type": "stream",
          "name": "stderr",
          "text": [
            "\rFold 2 Epoch 9:  66%|\u2588\u2588\u2588\u2588\u2588\u2588\u258c   | 27/41 [00:01<00:00, 22.89it/s]"
          ]
        },
        {
          "output_type": "stream",
          "name": "stderr",
          "text": [
            "\rFold 2 Epoch 9:  73%|\u2588\u2588\u2588\u2588\u2588\u2588\u2588\u258e  | 30/41 [00:01<00:00, 22.92it/s]"
          ]
        },
        {
          "output_type": "stream",
          "name": "stderr",
          "text": [
            "\rFold 2 Epoch 9:  80%|\u2588\u2588\u2588\u2588\u2588\u2588\u2588\u2588  | 33/41 [00:01<00:00, 22.77it/s]"
          ]
        },
        {
          "output_type": "stream",
          "name": "stdout",
          "text": [
            "Batch 30, elapsed: 1.4s\n"
          ]
        },
        {
          "output_type": "stream",
          "name": "stderr",
          "text": [
            "\rFold 2 Epoch 9:  88%|\u2588\u2588\u2588\u2588\u2588\u2588\u2588\u2588\u258a | 36/41 [00:01<00:00, 22.93it/s]"
          ]
        },
        {
          "output_type": "stream",
          "name": "stderr",
          "text": [
            "\rFold 2 Epoch 9:  95%|\u2588\u2588\u2588\u2588\u2588\u2588\u2588\u2588\u2588\u258c| 39/41 [00:01<00:00, 22.88it/s]"
          ]
        },
        {
          "output_type": "stream",
          "name": "stderr",
          "text": [
            "\rFold 2 Epoch 9: 100%|\u2588\u2588\u2588\u2588\u2588\u2588\u2588\u2588\u2588\u2588| 41/41 [00:01<00:00, 22.93it/s]"
          ]
        },
        {
          "output_type": "stream",
          "name": "stderr",
          "text": [
            "\n"
          ]
        },
        {
          "output_type": "stream",
          "name": "stdout",
          "text": [
            "Batch 40, elapsed: 1.8s\nFold 2 Epoch 9 train time: 1.8s\nFold 2 Epoch 9: Train 0.7196, Val 0.7221, val time: 0.2s\n"
          ]
        },
        {
          "output_type": "stream",
          "name": "stderr",
          "text": [
            "\rFold 2 Epoch 10:   0%|          | 0/41 [00:00<?, ?it/s]"
          ]
        },
        {
          "output_type": "stream",
          "name": "stderr",
          "text": [
            "\rFold 2 Epoch 10:   7%|\u258b         | 3/41 [00:00<00:01, 23.14it/s]"
          ]
        },
        {
          "output_type": "stream",
          "name": "stdout",
          "text": [
            "Batch 0, elapsed: 0.0s\n"
          ]
        },
        {
          "output_type": "stream",
          "name": "stderr",
          "text": [
            "\rFold 2 Epoch 10:  15%|\u2588\u258d        | 6/41 [00:00<00:01, 22.89it/s]"
          ]
        },
        {
          "output_type": "stream",
          "name": "stderr",
          "text": [
            "\rFold 2 Epoch 10:  22%|\u2588\u2588\u258f       | 9/41 [00:00<00:01, 22.70it/s]"
          ]
        },
        {
          "output_type": "stream",
          "name": "stderr",
          "text": [
            "\rFold 2 Epoch 10:  29%|\u2588\u2588\u2589       | 12/41 [00:00<00:01, 22.49it/s]"
          ]
        },
        {
          "output_type": "stream",
          "name": "stderr",
          "text": [
            "\rFold 2 Epoch 10:  37%|\u2588\u2588\u2588\u258b      | 15/41 [00:00<00:01, 22.88it/s]"
          ]
        },
        {
          "output_type": "stream",
          "name": "stdout",
          "text": [
            "Batch 10, elapsed: 0.5s\n"
          ]
        },
        {
          "output_type": "stream",
          "name": "stderr",
          "text": [
            "\rFold 2 Epoch 10:  44%|\u2588\u2588\u2588\u2588\u258d     | 18/41 [00:00<00:01, 22.62it/s]"
          ]
        },
        {
          "output_type": "stream",
          "name": "stderr",
          "text": [
            "\rFold 2 Epoch 10:  51%|\u2588\u2588\u2588\u2588\u2588     | 21/41 [00:00<00:00, 22.74it/s]"
          ]
        },
        {
          "output_type": "stream",
          "name": "stderr",
          "text": [
            "\rFold 2 Epoch 10:  59%|\u2588\u2588\u2588\u2588\u2588\u258a    | 24/41 [00:01<00:00, 22.69it/s]"
          ]
        },
        {
          "output_type": "stream",
          "name": "stdout",
          "text": [
            "Batch 20, elapsed: 0.9s\n"
          ]
        },
        {
          "output_type": "stream",
          "name": "stderr",
          "text": [
            "\rFold 2 Epoch 10:  66%|\u2588\u2588\u2588\u2588\u2588\u2588\u258c   | 27/41 [00:01<00:00, 22.44it/s]"
          ]
        },
        {
          "output_type": "stream",
          "name": "stderr",
          "text": [
            "\rFold 2 Epoch 10:  73%|\u2588\u2588\u2588\u2588\u2588\u2588\u2588\u258e  | 30/41 [00:01<00:00, 22.50it/s]"
          ]
        },
        {
          "output_type": "stream",
          "name": "stderr",
          "text": [
            "\rFold 2 Epoch 10:  80%|\u2588\u2588\u2588\u2588\u2588\u2588\u2588\u2588  | 33/41 [00:01<00:00, 22.46it/s]"
          ]
        },
        {
          "output_type": "stream",
          "name": "stdout",
          "text": [
            "Batch 30, elapsed: 1.4s\n"
          ]
        },
        {
          "output_type": "stream",
          "name": "stderr",
          "text": [
            "\rFold 2 Epoch 10:  88%|\u2588\u2588\u2588\u2588\u2588\u2588\u2588\u2588\u258a | 36/41 [00:01<00:00, 22.51it/s]"
          ]
        },
        {
          "output_type": "stream",
          "name": "stderr",
          "text": [
            "\rFold 2 Epoch 10:  95%|\u2588\u2588\u2588\u2588\u2588\u2588\u2588\u2588\u2588\u258c| 39/41 [00:01<00:00, 22.51it/s]"
          ]
        },
        {
          "output_type": "stream",
          "name": "stderr",
          "text": [
            "\rFold 2 Epoch 10: 100%|\u2588\u2588\u2588\u2588\u2588\u2588\u2588\u2588\u2588\u2588| 41/41 [00:01<00:00, 22.68it/s]"
          ]
        },
        {
          "output_type": "stream",
          "name": "stderr",
          "text": [
            "\n"
          ]
        },
        {
          "output_type": "stream",
          "name": "stdout",
          "text": [
            "Batch 40, elapsed: 1.8s\nFold 2 Epoch 10 train time: 1.8s\nFold 2 Epoch 10: Train 0.6975, Val 0.7121, val time: 0.2s\n"
          ]
        },
        {
          "output_type": "stream",
          "name": "stdout",
          "text": [
            "New best at epoch 10\n"
          ]
        },
        {
          "output_type": "stream",
          "name": "stderr",
          "text": [
            "\rFold 2 Epoch 11:   0%|          | 0/41 [00:00<?, ?it/s]"
          ]
        },
        {
          "output_type": "stream",
          "name": "stderr",
          "text": [
            "\rFold 2 Epoch 11:   7%|\u258b         | 3/41 [00:00<00:01, 22.84it/s]"
          ]
        },
        {
          "output_type": "stream",
          "name": "stdout",
          "text": [
            "Batch 0, elapsed: 0.0s\n"
          ]
        },
        {
          "output_type": "stream",
          "name": "stderr",
          "text": [
            "\rFold 2 Epoch 11:  15%|\u2588\u258d        | 6/41 [00:00<00:01, 22.32it/s]"
          ]
        },
        {
          "output_type": "stream",
          "name": "stderr",
          "text": [
            "\rFold 2 Epoch 11:  22%|\u2588\u2588\u258f       | 9/41 [00:00<00:01, 22.02it/s]"
          ]
        },
        {
          "output_type": "stream",
          "name": "stderr",
          "text": [
            "\rFold 2 Epoch 11:  29%|\u2588\u2588\u2589       | 12/41 [00:00<00:01, 22.36it/s]"
          ]
        },
        {
          "output_type": "stream",
          "name": "stderr",
          "text": [
            "\rFold 2 Epoch 11:  37%|\u2588\u2588\u2588\u258b      | 15/41 [00:00<00:01, 22.49it/s]"
          ]
        },
        {
          "output_type": "stream",
          "name": "stdout",
          "text": [
            "Batch 10, elapsed: 0.5s\n"
          ]
        },
        {
          "output_type": "stream",
          "name": "stderr",
          "text": [
            "\rFold 2 Epoch 11:  44%|\u2588\u2588\u2588\u2588\u258d     | 18/41 [00:00<00:01, 22.59it/s]"
          ]
        },
        {
          "output_type": "stream",
          "name": "stderr",
          "text": [
            "\rFold 2 Epoch 11:  51%|\u2588\u2588\u2588\u2588\u2588     | 21/41 [00:00<00:00, 22.40it/s]"
          ]
        },
        {
          "output_type": "stream",
          "name": "stderr",
          "text": [
            "\rFold 2 Epoch 11:  59%|\u2588\u2588\u2588\u2588\u2588\u258a    | 24/41 [00:01<00:00, 22.46it/s]"
          ]
        },
        {
          "output_type": "stream",
          "name": "stdout",
          "text": [
            "Batch 20, elapsed: 0.9s\n"
          ]
        },
        {
          "output_type": "stream",
          "name": "stderr",
          "text": [
            "\rFold 2 Epoch 11:  66%|\u2588\u2588\u2588\u2588\u2588\u2588\u258c   | 27/41 [00:01<00:00, 22.52it/s]"
          ]
        },
        {
          "output_type": "stream",
          "name": "stderr",
          "text": [
            "\rFold 2 Epoch 11:  73%|\u2588\u2588\u2588\u2588\u2588\u2588\u2588\u258e  | 30/41 [00:01<00:00, 22.39it/s]"
          ]
        },
        {
          "output_type": "stream",
          "name": "stderr",
          "text": [
            "\rFold 2 Epoch 11:  80%|\u2588\u2588\u2588\u2588\u2588\u2588\u2588\u2588  | 33/41 [00:01<00:00, 22.41it/s]"
          ]
        },
        {
          "output_type": "stream",
          "name": "stdout",
          "text": [
            "Batch 30, elapsed: 1.4s\n"
          ]
        },
        {
          "output_type": "stream",
          "name": "stderr",
          "text": [
            "\rFold 2 Epoch 11:  88%|\u2588\u2588\u2588\u2588\u2588\u2588\u2588\u2588\u258a | 36/41 [00:01<00:00, 22.57it/s]"
          ]
        },
        {
          "output_type": "stream",
          "name": "stderr",
          "text": [
            "\rFold 2 Epoch 11:  95%|\u2588\u2588\u2588\u2588\u2588\u2588\u2588\u2588\u2588\u258c| 39/41 [00:01<00:00, 22.51it/s]"
          ]
        },
        {
          "output_type": "stream",
          "name": "stderr",
          "text": [
            "\rFold 2 Epoch 11: 100%|\u2588\u2588\u2588\u2588\u2588\u2588\u2588\u2588\u2588\u2588| 41/41 [00:01<00:00, 22.57it/s]"
          ]
        },
        {
          "output_type": "stream",
          "name": "stderr",
          "text": [
            "\n"
          ]
        },
        {
          "output_type": "stream",
          "name": "stdout",
          "text": [
            "Batch 40, elapsed: 1.8s\nFold 2 Epoch 11 train time: 1.8s\nFold 2 Epoch 11: Train 0.6824, Val 0.7163, val time: 0.2s\n"
          ]
        },
        {
          "output_type": "stream",
          "name": "stderr",
          "text": [
            "\rFold 2 Epoch 12:   0%|          | 0/41 [00:00<?, ?it/s]"
          ]
        },
        {
          "output_type": "stream",
          "name": "stderr",
          "text": [
            "\rFold 2 Epoch 12:   7%|\u258b         | 3/41 [00:00<00:01, 22.29it/s]"
          ]
        },
        {
          "output_type": "stream",
          "name": "stdout",
          "text": [
            "Batch 0, elapsed: 0.0s\n"
          ]
        },
        {
          "output_type": "stream",
          "name": "stderr",
          "text": [
            "\rFold 2 Epoch 12:  15%|\u2588\u258d        | 6/41 [00:00<00:01, 22.84it/s]"
          ]
        },
        {
          "output_type": "stream",
          "name": "stderr",
          "text": [
            "\rFold 2 Epoch 12:  22%|\u2588\u2588\u258f       | 9/41 [00:00<00:01, 22.76it/s]"
          ]
        },
        {
          "output_type": "stream",
          "name": "stderr",
          "text": [
            "\rFold 2 Epoch 12:  29%|\u2588\u2588\u2589       | 12/41 [00:00<00:01, 22.87it/s]"
          ]
        },
        {
          "output_type": "stream",
          "name": "stderr",
          "text": [
            "\rFold 2 Epoch 12:  37%|\u2588\u2588\u2588\u258b      | 15/41 [00:00<00:01, 22.67it/s]"
          ]
        },
        {
          "output_type": "stream",
          "name": "stdout",
          "text": [
            "Batch 10, elapsed: 0.5s\n"
          ]
        },
        {
          "output_type": "stream",
          "name": "stderr",
          "text": [
            "\rFold 2 Epoch 12:  44%|\u2588\u2588\u2588\u2588\u258d     | 18/41 [00:00<00:01, 22.40it/s]"
          ]
        },
        {
          "output_type": "stream",
          "name": "stderr",
          "text": [
            "\rFold 2 Epoch 12:  51%|\u2588\u2588\u2588\u2588\u2588     | 21/41 [00:00<00:00, 22.43it/s]"
          ]
        },
        {
          "output_type": "stream",
          "name": "stderr",
          "text": [
            "\rFold 2 Epoch 12:  59%|\u2588\u2588\u2588\u2588\u2588\u258a    | 24/41 [00:01<00:00, 22.61it/s]"
          ]
        },
        {
          "output_type": "stream",
          "name": "stdout",
          "text": [
            "Batch 20, elapsed: 0.9s\n"
          ]
        },
        {
          "output_type": "stream",
          "name": "stderr",
          "text": [
            "\rFold 2 Epoch 12:  66%|\u2588\u2588\u2588\u2588\u2588\u2588\u258c   | 27/41 [00:01<00:00, 22.74it/s]"
          ]
        },
        {
          "output_type": "stream",
          "name": "stderr",
          "text": [
            "\rFold 2 Epoch 12:  73%|\u2588\u2588\u2588\u2588\u2588\u2588\u2588\u258e  | 30/41 [00:01<00:00, 22.58it/s]"
          ]
        },
        {
          "output_type": "stream",
          "name": "stderr",
          "text": [
            "\rFold 2 Epoch 12:  80%|\u2588\u2588\u2588\u2588\u2588\u2588\u2588\u2588  | 33/41 [00:01<00:00, 22.31it/s]"
          ]
        },
        {
          "output_type": "stream",
          "name": "stdout",
          "text": [
            "Batch 30, elapsed: 1.4s\n"
          ]
        },
        {
          "output_type": "stream",
          "name": "stderr",
          "text": [
            "\rFold 2 Epoch 12:  88%|\u2588\u2588\u2588\u2588\u2588\u2588\u2588\u2588\u258a | 36/41 [00:01<00:00, 22.32it/s]"
          ]
        },
        {
          "output_type": "stream",
          "name": "stderr",
          "text": [
            "\rFold 2 Epoch 12:  95%|\u2588\u2588\u2588\u2588\u2588\u2588\u2588\u2588\u2588\u258c| 39/41 [00:01<00:00, 22.59it/s]"
          ]
        },
        {
          "output_type": "stream",
          "name": "stderr",
          "text": [
            "\rFold 2 Epoch 12: 100%|\u2588\u2588\u2588\u2588\u2588\u2588\u2588\u2588\u2588\u2588| 41/41 [00:01<00:00, 22.61it/s]"
          ]
        },
        {
          "output_type": "stream",
          "name": "stderr",
          "text": [
            "\n"
          ]
        },
        {
          "output_type": "stream",
          "name": "stdout",
          "text": [
            "Batch 40, elapsed: 1.8s\nFold 2 Epoch 12 train time: 1.8s\n"
          ]
        },
        {
          "output_type": "stream",
          "name": "stdout",
          "text": [
            "Fold 2 Epoch 12: Train 0.6799, Val 0.7881, val time: 0.2s\n"
          ]
        },
        {
          "output_type": "stream",
          "name": "stderr",
          "text": [
            "\rFold 2 Epoch 13:   0%|          | 0/41 [00:00<?, ?it/s]"
          ]
        },
        {
          "output_type": "stream",
          "name": "stderr",
          "text": [
            "\rFold 2 Epoch 13:   7%|\u258b         | 3/41 [00:00<00:01, 22.58it/s]"
          ]
        },
        {
          "output_type": "stream",
          "name": "stdout",
          "text": [
            "Batch 0, elapsed: 0.0s\n"
          ]
        },
        {
          "output_type": "stream",
          "name": "stderr",
          "text": [
            "\rFold 2 Epoch 13:  15%|\u2588\u258d        | 6/41 [00:00<00:01, 22.54it/s]"
          ]
        },
        {
          "output_type": "stream",
          "name": "stderr",
          "text": [
            "\rFold 2 Epoch 13:  22%|\u2588\u2588\u258f       | 9/41 [00:00<00:01, 22.72it/s]"
          ]
        },
        {
          "output_type": "stream",
          "name": "stderr",
          "text": [
            "\rFold 2 Epoch 13:  29%|\u2588\u2588\u2589       | 12/41 [00:00<00:01, 22.74it/s]"
          ]
        },
        {
          "output_type": "stream",
          "name": "stderr",
          "text": [
            "\rFold 2 Epoch 13:  37%|\u2588\u2588\u2588\u258b      | 15/41 [00:00<00:01, 22.66it/s]"
          ]
        },
        {
          "output_type": "stream",
          "name": "stdout",
          "text": [
            "Batch 10, elapsed: 0.5s\n"
          ]
        },
        {
          "output_type": "stream",
          "name": "stderr",
          "text": [
            "\rFold 2 Epoch 13:  44%|\u2588\u2588\u2588\u2588\u258d     | 18/41 [00:00<00:01, 22.76it/s]"
          ]
        },
        {
          "output_type": "stream",
          "name": "stderr",
          "text": [
            "\rFold 2 Epoch 13:  51%|\u2588\u2588\u2588\u2588\u2588     | 21/41 [00:00<00:00, 22.75it/s]"
          ]
        },
        {
          "output_type": "stream",
          "name": "stderr",
          "text": [
            "\rFold 2 Epoch 13:  59%|\u2588\u2588\u2588\u2588\u2588\u258a    | 24/41 [00:01<00:00, 22.80it/s]"
          ]
        },
        {
          "output_type": "stream",
          "name": "stdout",
          "text": [
            "Batch 20, elapsed: 0.9s\n"
          ]
        },
        {
          "output_type": "stream",
          "name": "stderr",
          "text": [
            "\rFold 2 Epoch 13:  66%|\u2588\u2588\u2588\u2588\u2588\u2588\u258c   | 27/41 [00:01<00:00, 22.64it/s]"
          ]
        },
        {
          "output_type": "stream",
          "name": "stderr",
          "text": [
            "\rFold 2 Epoch 13:  73%|\u2588\u2588\u2588\u2588\u2588\u2588\u2588\u258e  | 30/41 [00:01<00:00, 22.68it/s]"
          ]
        },
        {
          "output_type": "stream",
          "name": "stderr",
          "text": [
            "\rFold 2 Epoch 13:  80%|\u2588\u2588\u2588\u2588\u2588\u2588\u2588\u2588  | 33/41 [00:01<00:00, 22.74it/s]"
          ]
        },
        {
          "output_type": "stream",
          "name": "stdout",
          "text": [
            "Batch 30, elapsed: 1.4s\n"
          ]
        },
        {
          "output_type": "stream",
          "name": "stderr",
          "text": [
            "\rFold 2 Epoch 13:  88%|\u2588\u2588\u2588\u2588\u2588\u2588\u2588\u2588\u258a | 36/41 [00:01<00:00, 22.42it/s]"
          ]
        },
        {
          "output_type": "stream",
          "name": "stderr",
          "text": [
            "\rFold 2 Epoch 13:  95%|\u2588\u2588\u2588\u2588\u2588\u2588\u2588\u2588\u2588\u258c| 39/41 [00:01<00:00, 22.77it/s]"
          ]
        },
        {
          "output_type": "stream",
          "name": "stderr",
          "text": [
            "\rFold 2 Epoch 13: 100%|\u2588\u2588\u2588\u2588\u2588\u2588\u2588\u2588\u2588\u2588| 41/41 [00:01<00:00, 22.74it/s]"
          ]
        },
        {
          "output_type": "stream",
          "name": "stderr",
          "text": [
            "\n"
          ]
        },
        {
          "output_type": "stream",
          "name": "stdout",
          "text": [
            "Batch 40, elapsed: 1.8s\nFold 2 Epoch 13 train time: 1.8s\nFold 2 Epoch 13: Train 0.6887, Val 0.7429, val time: 0.2s\n"
          ]
        },
        {
          "output_type": "stream",
          "name": "stderr",
          "text": [
            "\rFold 2 Epoch 14:   0%|          | 0/41 [00:00<?, ?it/s]"
          ]
        },
        {
          "output_type": "stream",
          "name": "stderr",
          "text": [
            "\rFold 2 Epoch 14:   7%|\u258b         | 3/41 [00:00<00:01, 22.50it/s]"
          ]
        },
        {
          "output_type": "stream",
          "name": "stdout",
          "text": [
            "Batch 0, elapsed: 0.0s\n"
          ]
        },
        {
          "output_type": "stream",
          "name": "stderr",
          "text": [
            "\rFold 2 Epoch 14:  15%|\u2588\u258d        | 6/41 [00:00<00:01, 22.42it/s]"
          ]
        },
        {
          "output_type": "stream",
          "name": "stderr",
          "text": [
            "\rFold 2 Epoch 14:  22%|\u2588\u2588\u258f       | 9/41 [00:00<00:01, 22.35it/s]"
          ]
        },
        {
          "output_type": "stream",
          "name": "stderr",
          "text": [
            "\rFold 2 Epoch 14:  29%|\u2588\u2588\u2589       | 12/41 [00:00<00:01, 22.45it/s]"
          ]
        },
        {
          "output_type": "stream",
          "name": "stderr",
          "text": [
            "\rFold 2 Epoch 14:  37%|\u2588\u2588\u2588\u258b      | 15/41 [00:00<00:01, 22.67it/s]"
          ]
        },
        {
          "output_type": "stream",
          "name": "stdout",
          "text": [
            "Batch 10, elapsed: 0.5s\n"
          ]
        },
        {
          "output_type": "stream",
          "name": "stderr",
          "text": [
            "\rFold 2 Epoch 14:  44%|\u2588\u2588\u2588\u2588\u258d     | 18/41 [00:00<00:01, 22.63it/s]"
          ]
        },
        {
          "output_type": "stream",
          "name": "stderr",
          "text": [
            "\rFold 2 Epoch 14:  51%|\u2588\u2588\u2588\u2588\u2588     | 21/41 [00:00<00:00, 22.21it/s]"
          ]
        },
        {
          "output_type": "stream",
          "name": "stderr",
          "text": [
            "\rFold 2 Epoch 14:  59%|\u2588\u2588\u2588\u2588\u2588\u258a    | 24/41 [00:01<00:00, 22.04it/s]"
          ]
        },
        {
          "output_type": "stream",
          "name": "stdout",
          "text": [
            "Batch 20, elapsed: 0.9s\n"
          ]
        },
        {
          "output_type": "stream",
          "name": "stderr",
          "text": [
            "\rFold 2 Epoch 14:  66%|\u2588\u2588\u2588\u2588\u2588\u2588\u258c   | 27/41 [00:01<00:00, 22.18it/s]"
          ]
        },
        {
          "output_type": "stream",
          "name": "stderr",
          "text": [
            "\rFold 2 Epoch 14:  73%|\u2588\u2588\u2588\u2588\u2588\u2588\u2588\u258e  | 30/41 [00:01<00:00, 22.38it/s]"
          ]
        },
        {
          "output_type": "stream",
          "name": "stderr",
          "text": [
            "\rFold 2 Epoch 14:  80%|\u2588\u2588\u2588\u2588\u2588\u2588\u2588\u2588  | 33/41 [00:01<00:00, 22.05it/s]"
          ]
        },
        {
          "output_type": "stream",
          "name": "stdout",
          "text": [
            "Batch 30, elapsed: 1.4s\n"
          ]
        },
        {
          "output_type": "stream",
          "name": "stderr",
          "text": [
            "\rFold 2 Epoch 14:  88%|\u2588\u2588\u2588\u2588\u2588\u2588\u2588\u2588\u258a | 36/41 [00:01<00:00, 21.99it/s]"
          ]
        },
        {
          "output_type": "stream",
          "name": "stderr",
          "text": [
            "\rFold 2 Epoch 14:  95%|\u2588\u2588\u2588\u2588\u2588\u2588\u2588\u2588\u2588\u258c| 39/41 [00:01<00:00, 22.04it/s]"
          ]
        },
        {
          "output_type": "stream",
          "name": "stderr",
          "text": [
            "\rFold 2 Epoch 14: 100%|\u2588\u2588\u2588\u2588\u2588\u2588\u2588\u2588\u2588\u2588| 41/41 [00:01<00:00, 22.33it/s]"
          ]
        },
        {
          "output_type": "stream",
          "name": "stderr",
          "text": [
            "\n"
          ]
        },
        {
          "output_type": "stream",
          "name": "stdout",
          "text": [
            "Batch 40, elapsed: 1.8s\nFold 2 Epoch 14 train time: 1.8s\n"
          ]
        },
        {
          "output_type": "stream",
          "name": "stdout",
          "text": [
            "Fold 2 Epoch 14: Train 0.6505, Val 0.7667, val time: 0.2s\n"
          ]
        },
        {
          "output_type": "stream",
          "name": "stderr",
          "text": [
            "\rFold 2 Epoch 15:   0%|          | 0/41 [00:00<?, ?it/s]"
          ]
        },
        {
          "output_type": "stream",
          "name": "stderr",
          "text": [
            "\rFold 2 Epoch 15:   7%|\u258b         | 3/41 [00:00<00:01, 21.85it/s]"
          ]
        },
        {
          "output_type": "stream",
          "name": "stdout",
          "text": [
            "Batch 0, elapsed: 0.0s\n"
          ]
        },
        {
          "output_type": "stream",
          "name": "stderr",
          "text": [
            "\rFold 2 Epoch 15:  15%|\u2588\u258d        | 6/41 [00:00<00:01, 22.35it/s]"
          ]
        },
        {
          "output_type": "stream",
          "name": "stderr",
          "text": [
            "\rFold 2 Epoch 15:  22%|\u2588\u2588\u258f       | 9/41 [00:00<00:01, 21.79it/s]"
          ]
        },
        {
          "output_type": "stream",
          "name": "stderr",
          "text": [
            "\rFold 2 Epoch 15:  29%|\u2588\u2588\u2589       | 12/41 [00:00<00:01, 21.73it/s]"
          ]
        },
        {
          "output_type": "stream",
          "name": "stderr",
          "text": [
            "\rFold 2 Epoch 15:  37%|\u2588\u2588\u2588\u258b      | 15/41 [00:00<00:01, 22.08it/s]"
          ]
        },
        {
          "output_type": "stream",
          "name": "stdout",
          "text": [
            "Batch 10, elapsed: 0.5s\n"
          ]
        },
        {
          "output_type": "stream",
          "name": "stderr",
          "text": [
            "\rFold 2 Epoch 15:  44%|\u2588\u2588\u2588\u2588\u258d     | 18/41 [00:00<00:01, 22.37it/s]"
          ]
        },
        {
          "output_type": "stream",
          "name": "stderr",
          "text": [
            "\rFold 2 Epoch 15:  51%|\u2588\u2588\u2588\u2588\u2588     | 21/41 [00:00<00:00, 22.27it/s]"
          ]
        },
        {
          "output_type": "stream",
          "name": "stderr",
          "text": [
            "\rFold 2 Epoch 15:  59%|\u2588\u2588\u2588\u2588\u2588\u258a    | 24/41 [00:01<00:00, 22.40it/s]"
          ]
        },
        {
          "output_type": "stream",
          "name": "stdout",
          "text": [
            "Batch 20, elapsed: 0.9s\n"
          ]
        },
        {
          "output_type": "stream",
          "name": "stderr",
          "text": [
            "\rFold 2 Epoch 15:  66%|\u2588\u2588\u2588\u2588\u2588\u2588\u258c   | 27/41 [00:01<00:00, 22.37it/s]"
          ]
        },
        {
          "output_type": "stream",
          "name": "stderr",
          "text": [
            "\rFold 2 Epoch 15:  73%|\u2588\u2588\u2588\u2588\u2588\u2588\u2588\u258e  | 30/41 [00:01<00:00, 22.35it/s]"
          ]
        },
        {
          "output_type": "stream",
          "name": "stderr",
          "text": [
            "\rFold 2 Epoch 15:  80%|\u2588\u2588\u2588\u2588\u2588\u2588\u2588\u2588  | 33/41 [00:01<00:00, 22.38it/s]"
          ]
        },
        {
          "output_type": "stream",
          "name": "stdout",
          "text": [
            "Batch 30, elapsed: 1.4s\n"
          ]
        },
        {
          "output_type": "stream",
          "name": "stderr",
          "text": [
            "\rFold 2 Epoch 15:  88%|\u2588\u2588\u2588\u2588\u2588\u2588\u2588\u2588\u258a | 36/41 [00:01<00:00, 22.49it/s]"
          ]
        },
        {
          "output_type": "stream",
          "name": "stderr",
          "text": [
            "\rFold 2 Epoch 15:  95%|\u2588\u2588\u2588\u2588\u2588\u2588\u2588\u2588\u2588\u258c| 39/41 [00:01<00:00, 22.44it/s]"
          ]
        },
        {
          "output_type": "stream",
          "name": "stderr",
          "text": [
            "\rFold 2 Epoch 15: 100%|\u2588\u2588\u2588\u2588\u2588\u2588\u2588\u2588\u2588\u2588| 41/41 [00:01<00:00, 22.36it/s]"
          ]
        },
        {
          "output_type": "stream",
          "name": "stderr",
          "text": [
            "\n"
          ]
        },
        {
          "output_type": "stream",
          "name": "stdout",
          "text": [
            "Batch 40, elapsed: 1.8s\nFold 2 Epoch 15 train time: 1.8s\nFold 2 Epoch 15: Train 0.6836, Val 0.7689, val time: 0.2s\nEarly stop at epoch 15\nFold 2 best val loss: 0.7121\n"
          ]
        },
        {
          "output_type": "stream",
          "name": "stdout",
          "text": [
            "Fold 3 pos_weight: [3. 3. 3. 3. 3. 3. 3.]\nFold 3 GPU memory before model: 0.1GB\n"
          ]
        },
        {
          "output_type": "stream",
          "name": "stderr",
          "text": [
            "\rFold 3 Epoch 1:   0%|          | 0/41 [00:00<?, ?it/s]"
          ]
        },
        {
          "output_type": "stream",
          "name": "stderr",
          "text": [
            "\rFold 3 Epoch 1:   7%|\u258b         | 3/41 [00:00<00:01, 22.00it/s]"
          ]
        },
        {
          "output_type": "stream",
          "name": "stdout",
          "text": [
            "Batch 0, elapsed: 0.0s\n"
          ]
        },
        {
          "output_type": "stream",
          "name": "stderr",
          "text": [
            "\rFold 3 Epoch 1:  15%|\u2588\u258d        | 6/41 [00:00<00:01, 22.43it/s]"
          ]
        },
        {
          "output_type": "stream",
          "name": "stderr",
          "text": [
            "\rFold 3 Epoch 1:  22%|\u2588\u2588\u258f       | 9/41 [00:00<00:01, 22.35it/s]"
          ]
        },
        {
          "output_type": "stream",
          "name": "stderr",
          "text": [
            "\rFold 3 Epoch 1:  29%|\u2588\u2588\u2589       | 12/41 [00:00<00:01, 21.94it/s]"
          ]
        },
        {
          "output_type": "stream",
          "name": "stderr",
          "text": [
            "\rFold 3 Epoch 1:  37%|\u2588\u2588\u2588\u258b      | 15/41 [00:00<00:01, 22.24it/s]"
          ]
        },
        {
          "output_type": "stream",
          "name": "stdout",
          "text": [
            "Batch 10, elapsed: 0.5s\n"
          ]
        },
        {
          "output_type": "stream",
          "name": "stderr",
          "text": [
            "\rFold 3 Epoch 1:  44%|\u2588\u2588\u2588\u2588\u258d     | 18/41 [00:00<00:01, 22.59it/s]"
          ]
        },
        {
          "output_type": "stream",
          "name": "stderr",
          "text": [
            "\rFold 3 Epoch 1:  51%|\u2588\u2588\u2588\u2588\u2588     | 21/41 [00:00<00:00, 22.66it/s]"
          ]
        },
        {
          "output_type": "stream",
          "name": "stderr",
          "text": [
            "\rFold 3 Epoch 1:  59%|\u2588\u2588\u2588\u2588\u2588\u258a    | 24/41 [00:01<00:00, 22.73it/s]"
          ]
        },
        {
          "output_type": "stream",
          "name": "stdout",
          "text": [
            "Batch 20, elapsed: 0.9s\n"
          ]
        },
        {
          "output_type": "stream",
          "name": "stderr",
          "text": [
            "\rFold 3 Epoch 1:  66%|\u2588\u2588\u2588\u2588\u2588\u2588\u258c   | 27/41 [00:01<00:00, 22.61it/s]"
          ]
        },
        {
          "output_type": "stream",
          "name": "stderr",
          "text": [
            "\rFold 3 Epoch 1:  73%|\u2588\u2588\u2588\u2588\u2588\u2588\u2588\u258e  | 30/41 [00:01<00:00, 22.45it/s]"
          ]
        },
        {
          "output_type": "stream",
          "name": "stderr",
          "text": [
            "\rFold 3 Epoch 1:  80%|\u2588\u2588\u2588\u2588\u2588\u2588\u2588\u2588  | 33/41 [00:01<00:00, 22.37it/s]"
          ]
        },
        {
          "output_type": "stream",
          "name": "stdout",
          "text": [
            "Batch 30, elapsed: 1.4s\n"
          ]
        },
        {
          "output_type": "stream",
          "name": "stderr",
          "text": [
            "\rFold 3 Epoch 1:  88%|\u2588\u2588\u2588\u2588\u2588\u2588\u2588\u2588\u258a | 36/41 [00:01<00:00, 22.15it/s]"
          ]
        },
        {
          "output_type": "stream",
          "name": "stderr",
          "text": [
            "\rFold 3 Epoch 1:  95%|\u2588\u2588\u2588\u2588\u2588\u2588\u2588\u2588\u2588\u258c| 39/41 [00:01<00:00, 22.25it/s]"
          ]
        },
        {
          "output_type": "stream",
          "name": "stderr",
          "text": [
            "\rFold 3 Epoch 1: 100%|\u2588\u2588\u2588\u2588\u2588\u2588\u2588\u2588\u2588\u2588| 41/41 [00:01<00:00, 21.52it/s]"
          ]
        },
        {
          "output_type": "stream",
          "name": "stderr",
          "text": [
            "\n"
          ]
        },
        {
          "output_type": "stream",
          "name": "stdout",
          "text": [
            "Batch 40, elapsed: 1.9s\nFold 3 Epoch 1 train time: 1.9s\n"
          ]
        },
        {
          "output_type": "stream",
          "name": "stdout",
          "text": [
            "Fold 3 Epoch 1: Train 0.7888, Val 0.8174, val time: 0.2s\nNew best at epoch 1\n"
          ]
        },
        {
          "output_type": "stream",
          "name": "stderr",
          "text": [
            "\rFold 3 Epoch 2:   0%|          | 0/41 [00:00<?, ?it/s]"
          ]
        },
        {
          "output_type": "stream",
          "name": "stderr",
          "text": [
            "\rFold 3 Epoch 2:   7%|\u258b         | 3/41 [00:00<00:01, 22.68it/s]"
          ]
        },
        {
          "output_type": "stream",
          "name": "stdout",
          "text": [
            "Batch 0, elapsed: 0.0s\n"
          ]
        },
        {
          "output_type": "stream",
          "name": "stderr",
          "text": [
            "\rFold 3 Epoch 2:  15%|\u2588\u258d        | 6/41 [00:00<00:01, 22.63it/s]"
          ]
        },
        {
          "output_type": "stream",
          "name": "stderr",
          "text": [
            "\rFold 3 Epoch 2:  22%|\u2588\u2588\u258f       | 9/41 [00:00<00:01, 22.26it/s]"
          ]
        },
        {
          "output_type": "stream",
          "name": "stderr",
          "text": [
            "\rFold 3 Epoch 2:  29%|\u2588\u2588\u2589       | 12/41 [00:00<00:01, 22.32it/s]"
          ]
        },
        {
          "output_type": "stream",
          "name": "stderr",
          "text": [
            "\rFold 3 Epoch 2:  37%|\u2588\u2588\u2588\u258b      | 15/41 [00:00<00:01, 22.65it/s]"
          ]
        },
        {
          "output_type": "stream",
          "name": "stdout",
          "text": [
            "Batch 10, elapsed: 0.5s\n"
          ]
        },
        {
          "output_type": "stream",
          "name": "stderr",
          "text": [
            "\rFold 3 Epoch 2:  44%|\u2588\u2588\u2588\u2588\u258d     | 18/41 [00:00<00:01, 22.01it/s]"
          ]
        },
        {
          "output_type": "stream",
          "name": "stderr",
          "text": [
            "\rFold 3 Epoch 2:  51%|\u2588\u2588\u2588\u2588\u2588     | 21/41 [00:00<00:00, 22.34it/s]"
          ]
        },
        {
          "output_type": "stream",
          "name": "stderr",
          "text": [
            "\rFold 3 Epoch 2:  59%|\u2588\u2588\u2588\u2588\u2588\u258a    | 24/41 [00:01<00:00, 22.60it/s]"
          ]
        },
        {
          "output_type": "stream",
          "name": "stdout",
          "text": [
            "Batch 20, elapsed: 0.9s\n"
          ]
        },
        {
          "output_type": "stream",
          "name": "stderr",
          "text": [
            "\rFold 3 Epoch 2:  66%|\u2588\u2588\u2588\u2588\u2588\u2588\u258c   | 27/41 [00:01<00:00, 22.49it/s]"
          ]
        },
        {
          "output_type": "stream",
          "name": "stderr",
          "text": [
            "\rFold 3 Epoch 2:  73%|\u2588\u2588\u2588\u2588\u2588\u2588\u2588\u258e  | 30/41 [00:01<00:00, 22.53it/s]"
          ]
        },
        {
          "output_type": "stream",
          "name": "stderr",
          "text": [
            "\rFold 3 Epoch 2:  80%|\u2588\u2588\u2588\u2588\u2588\u2588\u2588\u2588  | 33/41 [00:01<00:00, 22.59it/s]"
          ]
        },
        {
          "output_type": "stream",
          "name": "stdout",
          "text": [
            "Batch 30, elapsed: 1.4s\n"
          ]
        },
        {
          "output_type": "stream",
          "name": "stderr",
          "text": [
            "\rFold 3 Epoch 2:  88%|\u2588\u2588\u2588\u2588\u2588\u2588\u2588\u2588\u258a | 36/41 [00:01<00:00, 22.48it/s]"
          ]
        },
        {
          "output_type": "stream",
          "name": "stderr",
          "text": [
            "\rFold 3 Epoch 2:  95%|\u2588\u2588\u2588\u2588\u2588\u2588\u2588\u2588\u2588\u258c| 39/41 [00:01<00:00, 22.59it/s]"
          ]
        },
        {
          "output_type": "stream",
          "name": "stderr",
          "text": [
            "\rFold 3 Epoch 2: 100%|\u2588\u2588\u2588\u2588\u2588\u2588\u2588\u2588\u2588\u2588| 41/41 [00:01<00:00, 22.65it/s]"
          ]
        },
        {
          "output_type": "stream",
          "name": "stderr",
          "text": [
            "\n"
          ]
        },
        {
          "output_type": "stream",
          "name": "stdout",
          "text": [
            "Batch 40, elapsed: 1.8s\nFold 3 Epoch 2 train time: 1.8s\n"
          ]
        },
        {
          "output_type": "stream",
          "name": "stdout",
          "text": [
            "Fold 3 Epoch 2: Train 0.6978, Val 0.7618, val time: 0.2s\nNew best at epoch 2\n"
          ]
        },
        {
          "output_type": "stream",
          "name": "stderr",
          "text": [
            "\rFold 3 Epoch 3:   0%|          | 0/41 [00:00<?, ?it/s]"
          ]
        },
        {
          "output_type": "stream",
          "name": "stderr",
          "text": [
            "\rFold 3 Epoch 3:   7%|\u258b         | 3/41 [00:00<00:01, 22.74it/s]"
          ]
        },
        {
          "output_type": "stream",
          "name": "stdout",
          "text": [
            "Batch 0, elapsed: 0.0s\n"
          ]
        },
        {
          "output_type": "stream",
          "name": "stderr",
          "text": [
            "\rFold 3 Epoch 3:  15%|\u2588\u258d        | 6/41 [00:00<00:01, 23.01it/s]"
          ]
        },
        {
          "output_type": "stream",
          "name": "stderr",
          "text": [
            "\rFold 3 Epoch 3:  22%|\u2588\u2588\u258f       | 9/41 [00:00<00:01, 22.51it/s]"
          ]
        },
        {
          "output_type": "stream",
          "name": "stderr",
          "text": [
            "\rFold 3 Epoch 3:  29%|\u2588\u2588\u2589       | 12/41 [00:00<00:01, 22.50it/s]"
          ]
        },
        {
          "output_type": "stream",
          "name": "stderr",
          "text": [
            "\rFold 3 Epoch 3:  37%|\u2588\u2588\u2588\u258b      | 15/41 [00:00<00:01, 22.51it/s]"
          ]
        },
        {
          "output_type": "stream",
          "name": "stdout",
          "text": [
            "Batch 10, elapsed: 0.5s\n"
          ]
        },
        {
          "output_type": "stream",
          "name": "stderr",
          "text": [
            "\rFold 3 Epoch 3:  44%|\u2588\u2588\u2588\u2588\u258d     | 18/41 [00:00<00:01, 22.52it/s]"
          ]
        },
        {
          "output_type": "stream",
          "name": "stderr",
          "text": [
            "\rFold 3 Epoch 3:  51%|\u2588\u2588\u2588\u2588\u2588     | 21/41 [00:00<00:00, 22.60it/s]"
          ]
        },
        {
          "output_type": "stream",
          "name": "stderr",
          "text": [
            "\rFold 3 Epoch 3:  59%|\u2588\u2588\u2588\u2588\u2588\u258a    | 24/41 [00:01<00:00, 22.57it/s]"
          ]
        },
        {
          "output_type": "stream",
          "name": "stdout",
          "text": [
            "Batch 20, elapsed: 0.9s\n"
          ]
        },
        {
          "output_type": "stream",
          "name": "stderr",
          "text": [
            "\rFold 3 Epoch 3:  66%|\u2588\u2588\u2588\u2588\u2588\u2588\u258c   | 27/41 [00:01<00:00, 22.72it/s]"
          ]
        },
        {
          "output_type": "stream",
          "name": "stderr",
          "text": [
            "\rFold 3 Epoch 3:  73%|\u2588\u2588\u2588\u2588\u2588\u2588\u2588\u258e  | 30/41 [00:01<00:00, 22.61it/s]"
          ]
        },
        {
          "output_type": "stream",
          "name": "stderr",
          "text": [
            "\rFold 3 Epoch 3:  80%|\u2588\u2588\u2588\u2588\u2588\u2588\u2588\u2588  | 33/41 [00:01<00:00, 22.68it/s]"
          ]
        },
        {
          "output_type": "stream",
          "name": "stdout",
          "text": [
            "Batch 30, elapsed: 1.4s\n"
          ]
        },
        {
          "output_type": "stream",
          "name": "stderr",
          "text": [
            "\rFold 3 Epoch 3:  88%|\u2588\u2588\u2588\u2588\u2588\u2588\u2588\u2588\u258a | 36/41 [00:01<00:00, 22.46it/s]"
          ]
        },
        {
          "output_type": "stream",
          "name": "stderr",
          "text": [
            "\rFold 3 Epoch 3:  95%|\u2588\u2588\u2588\u2588\u2588\u2588\u2588\u2588\u2588\u258c| 39/41 [00:01<00:00, 22.50it/s]"
          ]
        },
        {
          "output_type": "stream",
          "name": "stderr",
          "text": [
            "\rFold 3 Epoch 3: 100%|\u2588\u2588\u2588\u2588\u2588\u2588\u2588\u2588\u2588\u2588| 41/41 [00:01<00:00, 22.69it/s]"
          ]
        },
        {
          "output_type": "stream",
          "name": "stderr",
          "text": [
            "\n"
          ]
        },
        {
          "output_type": "stream",
          "name": "stdout",
          "text": [
            "Batch 40, elapsed: 1.8s\nFold 3 Epoch 3 train time: 1.8s\n"
          ]
        },
        {
          "output_type": "stream",
          "name": "stdout",
          "text": [
            "Fold 3 Epoch 3: Train 0.7121, Val 0.7378, val time: 0.2s\nNew best at epoch 3\n"
          ]
        },
        {
          "output_type": "stream",
          "name": "stderr",
          "text": [
            "\rFold 3 Epoch 4:   0%|          | 0/41 [00:00<?, ?it/s]"
          ]
        },
        {
          "output_type": "stream",
          "name": "stderr",
          "text": [
            "\rFold 3 Epoch 4:   7%|\u258b         | 3/41 [00:00<00:01, 22.32it/s]"
          ]
        },
        {
          "output_type": "stream",
          "name": "stdout",
          "text": [
            "Batch 0, elapsed: 0.0s\n"
          ]
        },
        {
          "output_type": "stream",
          "name": "stderr",
          "text": [
            "\rFold 3 Epoch 4:  15%|\u2588\u258d        | 6/41 [00:00<00:01, 22.17it/s]"
          ]
        },
        {
          "output_type": "stream",
          "name": "stderr",
          "text": [
            "\rFold 3 Epoch 4:  22%|\u2588\u2588\u258f       | 9/41 [00:00<00:01, 22.14it/s]"
          ]
        },
        {
          "output_type": "stream",
          "name": "stderr",
          "text": [
            "\rFold 3 Epoch 4:  29%|\u2588\u2588\u2589       | 12/41 [00:00<00:01, 22.32it/s]"
          ]
        },
        {
          "output_type": "stream",
          "name": "stderr",
          "text": [
            "\rFold 3 Epoch 4:  37%|\u2588\u2588\u2588\u258b      | 15/41 [00:00<00:01, 22.21it/s]"
          ]
        },
        {
          "output_type": "stream",
          "name": "stdout",
          "text": [
            "Batch 10, elapsed: 0.5s\n"
          ]
        },
        {
          "output_type": "stream",
          "name": "stderr",
          "text": [
            "\rFold 3 Epoch 4:  44%|\u2588\u2588\u2588\u2588\u258d     | 18/41 [00:00<00:01, 22.22it/s]"
          ]
        },
        {
          "output_type": "stream",
          "name": "stderr",
          "text": [
            "\rFold 3 Epoch 4:  51%|\u2588\u2588\u2588\u2588\u2588     | 21/41 [00:00<00:00, 22.42it/s]"
          ]
        },
        {
          "output_type": "stream",
          "name": "stderr",
          "text": [
            "\rFold 3 Epoch 4:  59%|\u2588\u2588\u2588\u2588\u2588\u258a    | 24/41 [00:01<00:00, 22.67it/s]"
          ]
        },
        {
          "output_type": "stream",
          "name": "stdout",
          "text": [
            "Batch 20, elapsed: 0.9s\n"
          ]
        },
        {
          "output_type": "stream",
          "name": "stderr",
          "text": [
            "\rFold 3 Epoch 4:  66%|\u2588\u2588\u2588\u2588\u2588\u2588\u258c   | 27/41 [00:01<00:00, 22.65it/s]"
          ]
        },
        {
          "output_type": "stream",
          "name": "stderr",
          "text": [
            "\rFold 3 Epoch 4:  73%|\u2588\u2588\u2588\u2588\u2588\u2588\u2588\u258e  | 30/41 [00:01<00:00, 22.65it/s]"
          ]
        },
        {
          "output_type": "stream",
          "name": "stderr",
          "text": [
            "\rFold 3 Epoch 4:  80%|\u2588\u2588\u2588\u2588\u2588\u2588\u2588\u2588  | 33/41 [00:01<00:00, 22.67it/s]"
          ]
        },
        {
          "output_type": "stream",
          "name": "stdout",
          "text": [
            "Batch 30, elapsed: 1.4s\n"
          ]
        },
        {
          "output_type": "stream",
          "name": "stderr",
          "text": [
            "\rFold 3 Epoch 4:  88%|\u2588\u2588\u2588\u2588\u2588\u2588\u2588\u2588\u258a | 36/41 [00:01<00:00, 22.58it/s]"
          ]
        },
        {
          "output_type": "stream",
          "name": "stderr",
          "text": [
            "\rFold 3 Epoch 4:  95%|\u2588\u2588\u2588\u2588\u2588\u2588\u2588\u2588\u2588\u258c| 39/41 [00:01<00:00, 22.76it/s]"
          ]
        },
        {
          "output_type": "stream",
          "name": "stderr",
          "text": [
            "\rFold 3 Epoch 4: 100%|\u2588\u2588\u2588\u2588\u2588\u2588\u2588\u2588\u2588\u2588| 41/41 [00:01<00:00, 22.65it/s]"
          ]
        },
        {
          "output_type": "stream",
          "name": "stderr",
          "text": [
            "\n"
          ]
        },
        {
          "output_type": "stream",
          "name": "stdout",
          "text": [
            "Batch 40, elapsed: 1.8s\nFold 3 Epoch 4 train time: 1.8s\n"
          ]
        },
        {
          "output_type": "stream",
          "name": "stdout",
          "text": [
            "Fold 3 Epoch 4: Train 0.7435, Val 0.7078, val time: 0.2s\nNew best at epoch 4\n"
          ]
        },
        {
          "output_type": "stream",
          "name": "stderr",
          "text": [
            "\rFold 3 Epoch 5:   0%|          | 0/41 [00:00<?, ?it/s]"
          ]
        },
        {
          "output_type": "stream",
          "name": "stderr",
          "text": [
            "\rFold 3 Epoch 5:   7%|\u258b         | 3/41 [00:00<00:01, 22.11it/s]"
          ]
        },
        {
          "output_type": "stream",
          "name": "stdout",
          "text": [
            "Batch 0, elapsed: 0.0s\n"
          ]
        },
        {
          "output_type": "stream",
          "name": "stderr",
          "text": [
            "\rFold 3 Epoch 5:  15%|\u2588\u258d        | 6/41 [00:00<00:01, 22.09it/s]"
          ]
        },
        {
          "output_type": "stream",
          "name": "stderr",
          "text": [
            "\rFold 3 Epoch 5:  22%|\u2588\u2588\u258f       | 9/41 [00:00<00:01, 22.44it/s]"
          ]
        },
        {
          "output_type": "stream",
          "name": "stderr",
          "text": [
            "\rFold 3 Epoch 5:  29%|\u2588\u2588\u2589       | 12/41 [00:00<00:01, 22.50it/s]"
          ]
        },
        {
          "output_type": "stream",
          "name": "stderr",
          "text": [
            "\rFold 3 Epoch 5:  37%|\u2588\u2588\u2588\u258b      | 15/41 [00:00<00:01, 22.59it/s]"
          ]
        },
        {
          "output_type": "stream",
          "name": "stdout",
          "text": [
            "Batch 10, elapsed: 0.5s\n"
          ]
        },
        {
          "output_type": "stream",
          "name": "stderr",
          "text": [
            "\rFold 3 Epoch 5:  44%|\u2588\u2588\u2588\u2588\u258d     | 18/41 [00:00<00:01, 22.51it/s]"
          ]
        },
        {
          "output_type": "stream",
          "name": "stderr",
          "text": [
            "\rFold 3 Epoch 5:  51%|\u2588\u2588\u2588\u2588\u2588     | 21/41 [00:00<00:00, 22.49it/s]"
          ]
        },
        {
          "output_type": "stream",
          "name": "stderr",
          "text": [
            "\rFold 3 Epoch 5:  59%|\u2588\u2588\u2588\u2588\u2588\u258a    | 24/41 [00:01<00:00, 22.49it/s]"
          ]
        },
        {
          "output_type": "stream",
          "name": "stdout",
          "text": [
            "Batch 20, elapsed: 0.9s\n"
          ]
        },
        {
          "output_type": "stream",
          "name": "stderr",
          "text": [
            "\rFold 3 Epoch 5:  66%|\u2588\u2588\u2588\u2588\u2588\u2588\u258c   | 27/41 [00:01<00:00, 22.61it/s]"
          ]
        },
        {
          "output_type": "stream",
          "name": "stderr",
          "text": [
            "\rFold 3 Epoch 5:  73%|\u2588\u2588\u2588\u2588\u2588\u2588\u2588\u258e  | 30/41 [00:01<00:00, 22.57it/s]"
          ]
        },
        {
          "output_type": "stream",
          "name": "stderr",
          "text": [
            "\rFold 3 Epoch 5:  80%|\u2588\u2588\u2588\u2588\u2588\u2588\u2588\u2588  | 33/41 [00:01<00:00, 22.60it/s]"
          ]
        },
        {
          "output_type": "stream",
          "name": "stdout",
          "text": [
            "Batch 30, elapsed: 1.4s\n"
          ]
        },
        {
          "output_type": "stream",
          "name": "stderr",
          "text": [
            "\rFold 3 Epoch 5:  88%|\u2588\u2588\u2588\u2588\u2588\u2588\u2588\u2588\u258a | 36/41 [00:01<00:00, 22.36it/s]"
          ]
        },
        {
          "output_type": "stream",
          "name": "stderr",
          "text": [
            "\rFold 3 Epoch 5:  95%|\u2588\u2588\u2588\u2588\u2588\u2588\u2588\u2588\u2588\u258c| 39/41 [00:01<00:00, 22.26it/s]"
          ]
        },
        {
          "output_type": "stream",
          "name": "stderr",
          "text": [
            "\rFold 3 Epoch 5: 100%|\u2588\u2588\u2588\u2588\u2588\u2588\u2588\u2588\u2588\u2588| 41/41 [00:01<00:00, 22.58it/s]"
          ]
        },
        {
          "output_type": "stream",
          "name": "stderr",
          "text": [
            "\n"
          ]
        },
        {
          "output_type": "stream",
          "name": "stdout",
          "text": [
            "Batch 40, elapsed: 1.8s\nFold 3 Epoch 5 train time: 1.8s\n"
          ]
        },
        {
          "output_type": "stream",
          "name": "stdout",
          "text": [
            "Fold 3 Epoch 5: Train 0.7193, Val 0.6991, val time: 0.2s\nNew best at epoch 5\n"
          ]
        },
        {
          "output_type": "stream",
          "name": "stderr",
          "text": [
            "\rFold 3 Epoch 6:   0%|          | 0/41 [00:00<?, ?it/s]"
          ]
        },
        {
          "output_type": "stream",
          "name": "stderr",
          "text": [
            "\rFold 3 Epoch 6:   7%|\u258b         | 3/41 [00:00<00:01, 21.96it/s]"
          ]
        },
        {
          "output_type": "stream",
          "name": "stdout",
          "text": [
            "Batch 0, elapsed: 0.0s\n"
          ]
        },
        {
          "output_type": "stream",
          "name": "stderr",
          "text": [
            "\rFold 3 Epoch 6:  15%|\u2588\u258d        | 6/41 [00:00<00:01, 22.56it/s]"
          ]
        },
        {
          "output_type": "stream",
          "name": "stderr",
          "text": [
            "\rFold 3 Epoch 6:  22%|\u2588\u2588\u258f       | 9/41 [00:00<00:01, 22.32it/s]"
          ]
        },
        {
          "output_type": "stream",
          "name": "stderr",
          "text": [
            "\rFold 3 Epoch 6:  29%|\u2588\u2588\u2589       | 12/41 [00:00<00:01, 22.37it/s]"
          ]
        },
        {
          "output_type": "stream",
          "name": "stderr",
          "text": [
            "\rFold 3 Epoch 6:  37%|\u2588\u2588\u2588\u258b      | 15/41 [00:00<00:01, 22.60it/s]"
          ]
        },
        {
          "output_type": "stream",
          "name": "stdout",
          "text": [
            "Batch 10, elapsed: 0.5s\n"
          ]
        },
        {
          "output_type": "stream",
          "name": "stderr",
          "text": [
            "\rFold 3 Epoch 6:  44%|\u2588\u2588\u2588\u2588\u258d     | 18/41 [00:00<00:01, 22.44it/s]"
          ]
        },
        {
          "output_type": "stream",
          "name": "stderr",
          "text": [
            "\rFold 3 Epoch 6:  51%|\u2588\u2588\u2588\u2588\u2588     | 21/41 [00:00<00:00, 22.27it/s]"
          ]
        },
        {
          "output_type": "stream",
          "name": "stderr",
          "text": [
            "\rFold 3 Epoch 6:  59%|\u2588\u2588\u2588\u2588\u2588\u258a    | 24/41 [00:01<00:00, 22.50it/s]"
          ]
        },
        {
          "output_type": "stream",
          "name": "stdout",
          "text": [
            "Batch 20, elapsed: 0.9s\n"
          ]
        },
        {
          "output_type": "stream",
          "name": "stderr",
          "text": [
            "\rFold 3 Epoch 6:  66%|\u2588\u2588\u2588\u2588\u2588\u2588\u258c   | 27/41 [00:01<00:00, 22.40it/s]"
          ]
        },
        {
          "output_type": "stream",
          "name": "stderr",
          "text": [
            "\rFold 3 Epoch 6:  73%|\u2588\u2588\u2588\u2588\u2588\u2588\u2588\u258e  | 30/41 [00:01<00:00, 22.31it/s]"
          ]
        },
        {
          "output_type": "stream",
          "name": "stderr",
          "text": [
            "\rFold 3 Epoch 6:  80%|\u2588\u2588\u2588\u2588\u2588\u2588\u2588\u2588  | 33/41 [00:01<00:00, 22.20it/s]"
          ]
        },
        {
          "output_type": "stream",
          "name": "stdout",
          "text": [
            "Batch 30, elapsed: 1.4s\n"
          ]
        },
        {
          "output_type": "stream",
          "name": "stderr",
          "text": [
            "\rFold 3 Epoch 6:  88%|\u2588\u2588\u2588\u2588\u2588\u2588\u2588\u2588\u258a | 36/41 [00:01<00:00, 22.11it/s]"
          ]
        },
        {
          "output_type": "stream",
          "name": "stderr",
          "text": [
            "\rFold 3 Epoch 6:  95%|\u2588\u2588\u2588\u2588\u2588\u2588\u2588\u2588\u2588\u258c| 39/41 [00:01<00:00, 22.17it/s]"
          ]
        },
        {
          "output_type": "stream",
          "name": "stderr",
          "text": [
            "\rFold 3 Epoch 6: 100%|\u2588\u2588\u2588\u2588\u2588\u2588\u2588\u2588\u2588\u2588| 41/41 [00:01<00:00, 22.42it/s]"
          ]
        },
        {
          "output_type": "stream",
          "name": "stderr",
          "text": [
            "\n"
          ]
        },
        {
          "output_type": "stream",
          "name": "stdout",
          "text": [
            "Batch 40, elapsed: 1.8s\nFold 3 Epoch 6 train time: 1.8s\n"
          ]
        },
        {
          "output_type": "stream",
          "name": "stdout",
          "text": [
            "Fold 3 Epoch 6: Train 0.7009, Val 0.7252, val time: 0.2s\n"
          ]
        },
        {
          "output_type": "stream",
          "name": "stderr",
          "text": [
            "\rFold 3 Epoch 7:   0%|          | 0/41 [00:00<?, ?it/s]"
          ]
        },
        {
          "output_type": "stream",
          "name": "stderr",
          "text": [
            "\rFold 3 Epoch 7:   7%|\u258b         | 3/41 [00:00<00:01, 22.75it/s]"
          ]
        },
        {
          "output_type": "stream",
          "name": "stdout",
          "text": [
            "Batch 0, elapsed: 0.0s\n"
          ]
        },
        {
          "output_type": "stream",
          "name": "stderr",
          "text": [
            "\rFold 3 Epoch 7:  15%|\u2588\u258d        | 6/41 [00:00<00:01, 22.76it/s]"
          ]
        },
        {
          "output_type": "stream",
          "name": "stderr",
          "text": [
            "\rFold 3 Epoch 7:  22%|\u2588\u2588\u258f       | 9/41 [00:00<00:01, 22.61it/s]"
          ]
        },
        {
          "output_type": "stream",
          "name": "stderr",
          "text": [
            "\rFold 3 Epoch 7:  29%|\u2588\u2588\u2589       | 12/41 [00:00<00:01, 22.22it/s]"
          ]
        },
        {
          "output_type": "stream",
          "name": "stderr",
          "text": [
            "\rFold 3 Epoch 7:  37%|\u2588\u2588\u2588\u258b      | 15/41 [00:00<00:01, 22.39it/s]"
          ]
        },
        {
          "output_type": "stream",
          "name": "stdout",
          "text": [
            "Batch 10, elapsed: 0.5s\n"
          ]
        },
        {
          "output_type": "stream",
          "name": "stderr",
          "text": [
            "\rFold 3 Epoch 7:  44%|\u2588\u2588\u2588\u2588\u258d     | 18/41 [00:00<00:01, 22.41it/s]"
          ]
        },
        {
          "output_type": "stream",
          "name": "stderr",
          "text": [
            "\rFold 3 Epoch 7:  51%|\u2588\u2588\u2588\u2588\u2588     | 21/41 [00:00<00:00, 22.23it/s]"
          ]
        },
        {
          "output_type": "stream",
          "name": "stderr",
          "text": [
            "\rFold 3 Epoch 7:  59%|\u2588\u2588\u2588\u2588\u2588\u258a    | 24/41 [00:01<00:00, 22.37it/s]"
          ]
        },
        {
          "output_type": "stream",
          "name": "stdout",
          "text": [
            "Batch 20, elapsed: 0.9s\n"
          ]
        },
        {
          "output_type": "stream",
          "name": "stderr",
          "text": [
            "\rFold 3 Epoch 7:  66%|\u2588\u2588\u2588\u2588\u2588\u2588\u258c   | 27/41 [00:01<00:00, 22.17it/s]"
          ]
        },
        {
          "output_type": "stream",
          "name": "stderr",
          "text": [
            "\rFold 3 Epoch 7:  73%|\u2588\u2588\u2588\u2588\u2588\u2588\u2588\u258e  | 30/41 [00:01<00:00, 22.06it/s]"
          ]
        },
        {
          "output_type": "stream",
          "name": "stderr",
          "text": [
            "\rFold 3 Epoch 7:  80%|\u2588\u2588\u2588\u2588\u2588\u2588\u2588\u2588  | 33/41 [00:01<00:00, 21.96it/s]"
          ]
        },
        {
          "output_type": "stream",
          "name": "stdout",
          "text": [
            "Batch 30, elapsed: 1.4s\n"
          ]
        },
        {
          "output_type": "stream",
          "name": "stderr",
          "text": [
            "\rFold 3 Epoch 7:  88%|\u2588\u2588\u2588\u2588\u2588\u2588\u2588\u2588\u258a | 36/41 [00:01<00:00, 22.36it/s]"
          ]
        },
        {
          "output_type": "stream",
          "name": "stderr",
          "text": [
            "\rFold 3 Epoch 7:  95%|\u2588\u2588\u2588\u2588\u2588\u2588\u2588\u2588\u2588\u258c| 39/41 [00:01<00:00, 22.53it/s]"
          ]
        },
        {
          "output_type": "stream",
          "name": "stderr",
          "text": [
            "\rFold 3 Epoch 7: 100%|\u2588\u2588\u2588\u2588\u2588\u2588\u2588\u2588\u2588\u2588| 41/41 [00:01<00:00, 22.47it/s]"
          ]
        },
        {
          "output_type": "stream",
          "name": "stderr",
          "text": [
            "\n"
          ]
        },
        {
          "output_type": "stream",
          "name": "stdout",
          "text": [
            "Batch 40, elapsed: 1.8s\nFold 3 Epoch 7 train time: 1.8s\n"
          ]
        },
        {
          "output_type": "stream",
          "name": "stdout",
          "text": [
            "Fold 3 Epoch 7: Train 0.7150, Val 0.7083, val time: 0.2s\n"
          ]
        },
        {
          "output_type": "stream",
          "name": "stderr",
          "text": [
            "\rFold 3 Epoch 8:   0%|          | 0/41 [00:00<?, ?it/s]"
          ]
        },
        {
          "output_type": "stream",
          "name": "stderr",
          "text": [
            "\rFold 3 Epoch 8:   7%|\u258b         | 3/41 [00:00<00:01, 22.07it/s]"
          ]
        },
        {
          "output_type": "stream",
          "name": "stdout",
          "text": [
            "Batch 0, elapsed: 0.0s\n"
          ]
        },
        {
          "output_type": "stream",
          "name": "stderr",
          "text": [
            "\rFold 3 Epoch 8:  15%|\u2588\u258d        | 6/41 [00:00<00:01, 22.31it/s]"
          ]
        },
        {
          "output_type": "stream",
          "name": "stderr",
          "text": [
            "\rFold 3 Epoch 8:  22%|\u2588\u2588\u258f       | 9/41 [00:00<00:01, 22.12it/s]"
          ]
        },
        {
          "output_type": "stream",
          "name": "stderr",
          "text": [
            "\rFold 3 Epoch 8:  29%|\u2588\u2588\u2589       | 12/41 [00:00<00:01, 22.15it/s]"
          ]
        },
        {
          "output_type": "stream",
          "name": "stderr",
          "text": [
            "\rFold 3 Epoch 8:  37%|\u2588\u2588\u2588\u258b      | 15/41 [00:00<00:01, 22.33it/s]"
          ]
        },
        {
          "output_type": "stream",
          "name": "stdout",
          "text": [
            "Batch 10, elapsed: 0.5s\n"
          ]
        },
        {
          "output_type": "stream",
          "name": "stderr",
          "text": [
            "\rFold 3 Epoch 8:  44%|\u2588\u2588\u2588\u2588\u258d     | 18/41 [00:00<00:01, 22.06it/s]"
          ]
        },
        {
          "output_type": "stream",
          "name": "stderr",
          "text": [
            "\rFold 3 Epoch 8:  51%|\u2588\u2588\u2588\u2588\u2588     | 21/41 [00:00<00:00, 22.14it/s]"
          ]
        },
        {
          "output_type": "stream",
          "name": "stderr",
          "text": [
            "\rFold 3 Epoch 8:  59%|\u2588\u2588\u2588\u2588\u2588\u258a    | 24/41 [00:01<00:00, 21.99it/s]"
          ]
        },
        {
          "output_type": "stream",
          "name": "stdout",
          "text": [
            "Batch 20, elapsed: 0.9s\n"
          ]
        },
        {
          "output_type": "stream",
          "name": "stderr",
          "text": [
            "\rFold 3 Epoch 8:  66%|\u2588\u2588\u2588\u2588\u2588\u2588\u258c   | 27/41 [00:01<00:00, 22.09it/s]"
          ]
        },
        {
          "output_type": "stream",
          "name": "stderr",
          "text": [
            "\rFold 3 Epoch 8:  73%|\u2588\u2588\u2588\u2588\u2588\u2588\u2588\u258e  | 30/41 [00:01<00:00, 21.99it/s]"
          ]
        },
        {
          "output_type": "stream",
          "name": "stderr",
          "text": [
            "\rFold 3 Epoch 8:  80%|\u2588\u2588\u2588\u2588\u2588\u2588\u2588\u2588  | 33/41 [00:01<00:00, 22.10it/s]"
          ]
        },
        {
          "output_type": "stream",
          "name": "stdout",
          "text": [
            "Batch 30, elapsed: 1.4s\n"
          ]
        },
        {
          "output_type": "stream",
          "name": "stderr",
          "text": [
            "\rFold 3 Epoch 8:  88%|\u2588\u2588\u2588\u2588\u2588\u2588\u2588\u2588\u258a | 36/41 [00:01<00:00, 22.03it/s]"
          ]
        },
        {
          "output_type": "stream",
          "name": "stderr",
          "text": [
            "\rFold 3 Epoch 8:  95%|\u2588\u2588\u2588\u2588\u2588\u2588\u2588\u2588\u2588\u258c| 39/41 [00:01<00:00, 22.08it/s]"
          ]
        },
        {
          "output_type": "stream",
          "name": "stderr",
          "text": [
            "\rFold 3 Epoch 8: 100%|\u2588\u2588\u2588\u2588\u2588\u2588\u2588\u2588\u2588\u2588| 41/41 [00:01<00:00, 22.27it/s]"
          ]
        },
        {
          "output_type": "stream",
          "name": "stderr",
          "text": [
            "\n"
          ]
        },
        {
          "output_type": "stream",
          "name": "stdout",
          "text": [
            "Batch 40, elapsed: 1.8s\nFold 3 Epoch 8 train time: 1.8s\n"
          ]
        },
        {
          "output_type": "stream",
          "name": "stdout",
          "text": [
            "Fold 3 Epoch 8: Train 0.6888, Val 0.7808, val time: 0.2s\n"
          ]
        },
        {
          "output_type": "stream",
          "name": "stderr",
          "text": [
            "\rFold 3 Epoch 9:   0%|          | 0/41 [00:00<?, ?it/s]"
          ]
        },
        {
          "output_type": "stream",
          "name": "stderr",
          "text": [
            "\rFold 3 Epoch 9:   7%|\u258b         | 3/41 [00:00<00:01, 22.01it/s]"
          ]
        },
        {
          "output_type": "stream",
          "name": "stdout",
          "text": [
            "Batch 0, elapsed: 0.0s\n"
          ]
        },
        {
          "output_type": "stream",
          "name": "stderr",
          "text": [
            "\rFold 3 Epoch 9:  15%|\u2588\u258d        | 6/41 [00:00<00:01, 22.51it/s]"
          ]
        },
        {
          "output_type": "stream",
          "name": "stderr",
          "text": [
            "\rFold 3 Epoch 9:  22%|\u2588\u2588\u258f       | 9/41 [00:00<00:01, 22.40it/s]"
          ]
        },
        {
          "output_type": "stream",
          "name": "stderr",
          "text": [
            "\rFold 3 Epoch 9:  29%|\u2588\u2588\u2589       | 12/41 [00:00<00:01, 22.61it/s]"
          ]
        },
        {
          "output_type": "stream",
          "name": "stderr",
          "text": [
            "\rFold 3 Epoch 9:  37%|\u2588\u2588\u2588\u258b      | 15/41 [00:00<00:01, 22.63it/s]"
          ]
        },
        {
          "output_type": "stream",
          "name": "stdout",
          "text": [
            "Batch 10, elapsed: 0.5s\n"
          ]
        },
        {
          "output_type": "stream",
          "name": "stderr",
          "text": [
            "\rFold 3 Epoch 9:  44%|\u2588\u2588\u2588\u2588\u258d     | 18/41 [00:00<00:01, 22.59it/s]"
          ]
        },
        {
          "output_type": "stream",
          "name": "stderr",
          "text": [
            "\rFold 3 Epoch 9:  51%|\u2588\u2588\u2588\u2588\u2588     | 21/41 [00:00<00:00, 22.54it/s]"
          ]
        },
        {
          "output_type": "stream",
          "name": "stderr",
          "text": [
            "\rFold 3 Epoch 9:  59%|\u2588\u2588\u2588\u2588\u2588\u258a    | 24/41 [00:01<00:00, 22.59it/s]"
          ]
        },
        {
          "output_type": "stream",
          "name": "stdout",
          "text": [
            "Batch 20, elapsed: 0.9s\n"
          ]
        },
        {
          "output_type": "stream",
          "name": "stderr",
          "text": [
            "\rFold 3 Epoch 9:  66%|\u2588\u2588\u2588\u2588\u2588\u2588\u258c   | 27/41 [00:01<00:00, 22.55it/s]"
          ]
        },
        {
          "output_type": "stream",
          "name": "stderr",
          "text": [
            "\rFold 3 Epoch 9:  73%|\u2588\u2588\u2588\u2588\u2588\u2588\u2588\u258e  | 30/41 [00:01<00:00, 22.67it/s]"
          ]
        },
        {
          "output_type": "stream",
          "name": "stderr",
          "text": [
            "\rFold 3 Epoch 9:  80%|\u2588\u2588\u2588\u2588\u2588\u2588\u2588\u2588  | 33/41 [00:01<00:00, 22.57it/s]"
          ]
        },
        {
          "output_type": "stream",
          "name": "stdout",
          "text": [
            "Batch 30, elapsed: 1.4s\n"
          ]
        },
        {
          "output_type": "stream",
          "name": "stderr",
          "text": [
            "\rFold 3 Epoch 9:  88%|\u2588\u2588\u2588\u2588\u2588\u2588\u2588\u2588\u258a | 36/41 [00:01<00:00, 22.44it/s]"
          ]
        },
        {
          "output_type": "stream",
          "name": "stderr",
          "text": [
            "\rFold 3 Epoch 9:  95%|\u2588\u2588\u2588\u2588\u2588\u2588\u2588\u2588\u2588\u258c| 39/41 [00:01<00:00, 22.71it/s]"
          ]
        },
        {
          "output_type": "stream",
          "name": "stderr",
          "text": [
            "\rFold 3 Epoch 9: 100%|\u2588\u2588\u2588\u2588\u2588\u2588\u2588\u2588\u2588\u2588| 41/41 [00:01<00:00, 22.70it/s]"
          ]
        },
        {
          "output_type": "stream",
          "name": "stderr",
          "text": [
            "\n"
          ]
        },
        {
          "output_type": "stream",
          "name": "stdout",
          "text": [
            "Batch 40, elapsed: 1.8s\nFold 3 Epoch 9 train time: 1.8s\n"
          ]
        },
        {
          "output_type": "stream",
          "name": "stdout",
          "text": [
            "Fold 3 Epoch 9: Train 0.6745, Val 0.7548, val time: 0.2s\n"
          ]
        },
        {
          "output_type": "stream",
          "name": "stderr",
          "text": [
            "\rFold 3 Epoch 10:   0%|          | 0/41 [00:00<?, ?it/s]"
          ]
        },
        {
          "output_type": "stream",
          "name": "stderr",
          "text": [
            "\rFold 3 Epoch 10:   7%|\u258b         | 3/41 [00:00<00:01, 22.54it/s]"
          ]
        },
        {
          "output_type": "stream",
          "name": "stdout",
          "text": [
            "Batch 0, elapsed: 0.0s\n"
          ]
        },
        {
          "output_type": "stream",
          "name": "stderr",
          "text": [
            "\rFold 3 Epoch 10:  15%|\u2588\u258d        | 6/41 [00:00<00:01, 22.74it/s]"
          ]
        },
        {
          "output_type": "stream",
          "name": "stderr",
          "text": [
            "\rFold 3 Epoch 10:  22%|\u2588\u2588\u258f       | 9/41 [00:00<00:01, 22.58it/s]"
          ]
        },
        {
          "output_type": "stream",
          "name": "stderr",
          "text": [
            "\rFold 3 Epoch 10:  29%|\u2588\u2588\u2589       | 12/41 [00:00<00:01, 22.69it/s]"
          ]
        },
        {
          "output_type": "stream",
          "name": "stderr",
          "text": [
            "\rFold 3 Epoch 10:  37%|\u2588\u2588\u2588\u258b      | 15/41 [00:00<00:01, 22.61it/s]"
          ]
        },
        {
          "output_type": "stream",
          "name": "stdout",
          "text": [
            "Batch 10, elapsed: 0.5s\n"
          ]
        },
        {
          "output_type": "stream",
          "name": "stderr",
          "text": [
            "\rFold 3 Epoch 10:  44%|\u2588\u2588\u2588\u2588\u258d     | 18/41 [00:00<00:01, 22.64it/s]"
          ]
        },
        {
          "output_type": "stream",
          "name": "stderr",
          "text": [
            "\rFold 3 Epoch 10:  51%|\u2588\u2588\u2588\u2588\u2588     | 21/41 [00:00<00:00, 22.76it/s]"
          ]
        },
        {
          "output_type": "stream",
          "name": "stderr",
          "text": [
            "\rFold 3 Epoch 10:  59%|\u2588\u2588\u2588\u2588\u2588\u258a    | 24/41 [00:01<00:00, 22.77it/s]"
          ]
        },
        {
          "output_type": "stream",
          "name": "stdout",
          "text": [
            "Batch 20, elapsed: 0.9s\n"
          ]
        },
        {
          "output_type": "stream",
          "name": "stderr",
          "text": [
            "\rFold 3 Epoch 10:  66%|\u2588\u2588\u2588\u2588\u2588\u2588\u258c   | 27/41 [00:01<00:00, 22.59it/s]"
          ]
        },
        {
          "output_type": "stream",
          "name": "stderr",
          "text": [
            "\rFold 3 Epoch 10:  73%|\u2588\u2588\u2588\u2588\u2588\u2588\u2588\u258e  | 30/41 [00:01<00:00, 22.47it/s]"
          ]
        },
        {
          "output_type": "stream",
          "name": "stderr",
          "text": [
            "\rFold 3 Epoch 10:  80%|\u2588\u2588\u2588\u2588\u2588\u2588\u2588\u2588  | 33/41 [00:01<00:00, 22.32it/s]"
          ]
        },
        {
          "output_type": "stream",
          "name": "stdout",
          "text": [
            "Batch 30, elapsed: 1.4s\n"
          ]
        },
        {
          "output_type": "stream",
          "name": "stderr",
          "text": [
            "\rFold 3 Epoch 10:  88%|\u2588\u2588\u2588\u2588\u2588\u2588\u2588\u2588\u258a | 36/41 [00:01<00:00, 22.39it/s]"
          ]
        },
        {
          "output_type": "stream",
          "name": "stderr",
          "text": [
            "\rFold 3 Epoch 10:  95%|\u2588\u2588\u2588\u2588\u2588\u2588\u2588\u2588\u2588\u258c| 39/41 [00:01<00:00, 22.49it/s]"
          ]
        },
        {
          "output_type": "stream",
          "name": "stderr",
          "text": [
            "\rFold 3 Epoch 10: 100%|\u2588\u2588\u2588\u2588\u2588\u2588\u2588\u2588\u2588\u2588| 41/41 [00:01<00:00, 22.66it/s]"
          ]
        },
        {
          "output_type": "stream",
          "name": "stderr",
          "text": [
            "\n"
          ]
        },
        {
          "output_type": "stream",
          "name": "stdout",
          "text": [
            "Batch 40, elapsed: 1.8s\nFold 3 Epoch 10 train time: 1.8s\n"
          ]
        },
        {
          "output_type": "stream",
          "name": "stdout",
          "text": [
            "Fold 3 Epoch 10: Train 0.6973, Val 0.7103, val time: 0.2s\nEarly stop at epoch 10\nFold 3 best val loss: 0.6991\nFold 4 pos_weight: [3. 3. 3. 3. 3. 3. 3.]\n"
          ]
        },
        {
          "output_type": "stream",
          "name": "stdout",
          "text": [
            "Fold 4 GPU memory before model: 0.1GB\n"
          ]
        },
        {
          "output_type": "stream",
          "name": "stderr",
          "text": [
            "\rFold 4 Epoch 1:   0%|          | 0/41 [00:00<?, ?it/s]"
          ]
        },
        {
          "output_type": "stream",
          "name": "stderr",
          "text": [
            "\rFold 4 Epoch 1:   7%|\u258b         | 3/41 [00:00<00:01, 22.64it/s]"
          ]
        },
        {
          "output_type": "stream",
          "name": "stdout",
          "text": [
            "Batch 0, elapsed: 0.0s\n"
          ]
        },
        {
          "output_type": "stream",
          "name": "stderr",
          "text": [
            "\rFold 4 Epoch 1:  15%|\u2588\u258d        | 6/41 [00:00<00:01, 22.50it/s]"
          ]
        },
        {
          "output_type": "stream",
          "name": "stderr",
          "text": [
            "\rFold 4 Epoch 1:  22%|\u2588\u2588\u258f       | 9/41 [00:00<00:01, 22.34it/s]"
          ]
        },
        {
          "output_type": "stream",
          "name": "stderr",
          "text": [
            "\rFold 4 Epoch 1:  29%|\u2588\u2588\u2589       | 12/41 [00:00<00:01, 22.43it/s]"
          ]
        },
        {
          "output_type": "stream",
          "name": "stderr",
          "text": [
            "\rFold 4 Epoch 1:  37%|\u2588\u2588\u2588\u258b      | 15/41 [00:00<00:01, 22.11it/s]"
          ]
        },
        {
          "output_type": "stream",
          "name": "stdout",
          "text": [
            "Batch 10, elapsed: 0.5s\n"
          ]
        },
        {
          "output_type": "stream",
          "name": "stderr",
          "text": [
            "\rFold 4 Epoch 1:  44%|\u2588\u2588\u2588\u2588\u258d     | 18/41 [00:00<00:01, 22.54it/s]"
          ]
        },
        {
          "output_type": "stream",
          "name": "stderr",
          "text": [
            "\rFold 4 Epoch 1:  51%|\u2588\u2588\u2588\u2588\u2588     | 21/41 [00:00<00:00, 22.76it/s]"
          ]
        },
        {
          "output_type": "stream",
          "name": "stderr",
          "text": [
            "\rFold 4 Epoch 1:  59%|\u2588\u2588\u2588\u2588\u2588\u258a    | 24/41 [00:01<00:00, 22.25it/s]"
          ]
        },
        {
          "output_type": "stream",
          "name": "stdout",
          "text": [
            "Batch 20, elapsed: 0.9s\n"
          ]
        },
        {
          "output_type": "stream",
          "name": "stderr",
          "text": [
            "\rFold 4 Epoch 1:  66%|\u2588\u2588\u2588\u2588\u2588\u2588\u258c   | 27/41 [00:01<00:00, 22.22it/s]"
          ]
        },
        {
          "output_type": "stream",
          "name": "stderr",
          "text": [
            "\rFold 4 Epoch 1:  73%|\u2588\u2588\u2588\u2588\u2588\u2588\u2588\u258e  | 30/41 [00:01<00:00, 22.11it/s]"
          ]
        },
        {
          "output_type": "stream",
          "name": "stderr",
          "text": [
            "\rFold 4 Epoch 1:  80%|\u2588\u2588\u2588\u2588\u2588\u2588\u2588\u2588  | 33/41 [00:01<00:00, 22.22it/s]"
          ]
        },
        {
          "output_type": "stream",
          "name": "stdout",
          "text": [
            "Batch 30, elapsed: 1.4s\n"
          ]
        },
        {
          "output_type": "stream",
          "name": "stderr",
          "text": [
            "\rFold 4 Epoch 1:  88%|\u2588\u2588\u2588\u2588\u2588\u2588\u2588\u2588\u258a | 36/41 [00:01<00:00, 22.14it/s]"
          ]
        },
        {
          "output_type": "stream",
          "name": "stderr",
          "text": [
            "\rFold 4 Epoch 1:  95%|\u2588\u2588\u2588\u2588\u2588\u2588\u2588\u2588\u2588\u258c| 39/41 [00:01<00:00, 22.12it/s]"
          ]
        },
        {
          "output_type": "stream",
          "name": "stderr",
          "text": [
            "\rFold 4 Epoch 1: 100%|\u2588\u2588\u2588\u2588\u2588\u2588\u2588\u2588\u2588\u2588| 41/41 [00:01<00:00, 22.36it/s]"
          ]
        },
        {
          "output_type": "stream",
          "name": "stderr",
          "text": [
            "\n"
          ]
        },
        {
          "output_type": "stream",
          "name": "stdout",
          "text": [
            "Batch 40, elapsed: 1.8s\nFold 4 Epoch 1 train time: 1.8s\n"
          ]
        },
        {
          "output_type": "stream",
          "name": "stdout",
          "text": [
            "Fold 4 Epoch 1: Train 0.7832, Val 0.7469, val time: 0.2s\nNew best at epoch 1\n"
          ]
        },
        {
          "output_type": "stream",
          "name": "stderr",
          "text": [
            "\rFold 4 Epoch 2:   0%|          | 0/41 [00:00<?, ?it/s]"
          ]
        },
        {
          "output_type": "stream",
          "name": "stderr",
          "text": [
            "\rFold 4 Epoch 2:   7%|\u258b         | 3/41 [00:00<00:01, 22.59it/s]"
          ]
        },
        {
          "output_type": "stream",
          "name": "stdout",
          "text": [
            "Batch 0, elapsed: 0.0s\n"
          ]
        },
        {
          "output_type": "stream",
          "name": "stderr",
          "text": [
            "\rFold 4 Epoch 2:  15%|\u2588\u258d        | 6/41 [00:00<00:01, 22.64it/s]"
          ]
        },
        {
          "output_type": "stream",
          "name": "stderr",
          "text": [
            "\rFold 4 Epoch 2:  22%|\u2588\u2588\u258f       | 9/41 [00:00<00:01, 22.91it/s]"
          ]
        },
        {
          "output_type": "stream",
          "name": "stderr",
          "text": [
            "\rFold 4 Epoch 2:  29%|\u2588\u2588\u2589       | 12/41 [00:00<00:01, 23.10it/s]"
          ]
        },
        {
          "output_type": "stream",
          "name": "stderr",
          "text": [
            "\rFold 4 Epoch 2:  37%|\u2588\u2588\u2588\u258b      | 15/41 [00:00<00:01, 23.05it/s]"
          ]
        },
        {
          "output_type": "stream",
          "name": "stdout",
          "text": [
            "Batch 10, elapsed: 0.5s\n"
          ]
        },
        {
          "output_type": "stream",
          "name": "stderr",
          "text": [
            "\rFold 4 Epoch 2:  44%|\u2588\u2588\u2588\u2588\u258d     | 18/41 [00:00<00:00, 23.18it/s]"
          ]
        },
        {
          "output_type": "stream",
          "name": "stderr",
          "text": [
            "\rFold 4 Epoch 2:  51%|\u2588\u2588\u2588\u2588\u2588     | 21/41 [00:00<00:00, 22.74it/s]"
          ]
        },
        {
          "output_type": "stream",
          "name": "stderr",
          "text": [
            "\rFold 4 Epoch 2:  59%|\u2588\u2588\u2588\u2588\u2588\u258a    | 24/41 [00:01<00:00, 22.68it/s]"
          ]
        },
        {
          "output_type": "stream",
          "name": "stdout",
          "text": [
            "Batch 20, elapsed: 0.9s\n"
          ]
        },
        {
          "output_type": "stream",
          "name": "stderr",
          "text": [
            "\rFold 4 Epoch 2:  66%|\u2588\u2588\u2588\u2588\u2588\u2588\u258c   | 27/41 [00:01<00:00, 22.58it/s]"
          ]
        },
        {
          "output_type": "stream",
          "name": "stderr",
          "text": [
            "\rFold 4 Epoch 2:  73%|\u2588\u2588\u2588\u2588\u2588\u2588\u2588\u258e  | 30/41 [00:01<00:00, 22.81it/s]"
          ]
        },
        {
          "output_type": "stream",
          "name": "stderr",
          "text": [
            "\rFold 4 Epoch 2:  80%|\u2588\u2588\u2588\u2588\u2588\u2588\u2588\u2588  | 33/41 [00:01<00:00, 22.95it/s]"
          ]
        },
        {
          "output_type": "stream",
          "name": "stdout",
          "text": [
            "Batch 30, elapsed: 1.4s\n"
          ]
        },
        {
          "output_type": "stream",
          "name": "stderr",
          "text": [
            "\rFold 4 Epoch 2:  88%|\u2588\u2588\u2588\u2588\u2588\u2588\u2588\u2588\u258a | 36/41 [00:01<00:00, 22.81it/s]"
          ]
        },
        {
          "output_type": "stream",
          "name": "stderr",
          "text": [
            "\rFold 4 Epoch 2:  95%|\u2588\u2588\u2588\u2588\u2588\u2588\u2588\u2588\u2588\u258c| 39/41 [00:01<00:00, 22.80it/s]"
          ]
        },
        {
          "output_type": "stream",
          "name": "stderr",
          "text": [
            "\rFold 4 Epoch 2: 100%|\u2588\u2588\u2588\u2588\u2588\u2588\u2588\u2588\u2588\u2588| 41/41 [00:01<00:00, 22.98it/s]"
          ]
        },
        {
          "output_type": "stream",
          "name": "stderr",
          "text": [
            "\n"
          ]
        },
        {
          "output_type": "stream",
          "name": "stdout",
          "text": [
            "Batch 40, elapsed: 1.8s\nFold 4 Epoch 2 train time: 1.8s\n"
          ]
        },
        {
          "output_type": "stream",
          "name": "stdout",
          "text": [
            "Fold 4 Epoch 2: Train 0.7368, Val 0.6944, val time: 0.2s\nNew best at epoch 2\n"
          ]
        },
        {
          "output_type": "stream",
          "name": "stderr",
          "text": [
            "\rFold 4 Epoch 3:   0%|          | 0/41 [00:00<?, ?it/s]"
          ]
        },
        {
          "output_type": "stream",
          "name": "stderr",
          "text": [
            "\rFold 4 Epoch 3:   7%|\u258b         | 3/41 [00:00<00:01, 21.33it/s]"
          ]
        },
        {
          "output_type": "stream",
          "name": "stdout",
          "text": [
            "Batch 0, elapsed: 0.1s\n"
          ]
        },
        {
          "output_type": "stream",
          "name": "stderr",
          "text": [
            "\rFold 4 Epoch 3:  15%|\u2588\u258d        | 6/41 [00:00<00:01, 22.11it/s]"
          ]
        },
        {
          "output_type": "stream",
          "name": "stderr",
          "text": [
            "\rFold 4 Epoch 3:  22%|\u2588\u2588\u258f       | 9/41 [00:00<00:01, 22.39it/s]"
          ]
        },
        {
          "output_type": "stream",
          "name": "stderr",
          "text": [
            "\rFold 4 Epoch 3:  29%|\u2588\u2588\u2589       | 12/41 [00:00<00:01, 22.38it/s]"
          ]
        },
        {
          "output_type": "stream",
          "name": "stderr",
          "text": [
            "\rFold 4 Epoch 3:  37%|\u2588\u2588\u2588\u258b      | 15/41 [00:00<00:01, 22.67it/s]"
          ]
        },
        {
          "output_type": "stream",
          "name": "stdout",
          "text": [
            "Batch 10, elapsed: 0.5s\n"
          ]
        },
        {
          "output_type": "stream",
          "name": "stderr",
          "text": [
            "\rFold 4 Epoch 3:  44%|\u2588\u2588\u2588\u2588\u258d     | 18/41 [00:00<00:01, 22.93it/s]"
          ]
        },
        {
          "output_type": "stream",
          "name": "stderr",
          "text": [
            "\rFold 4 Epoch 3:  51%|\u2588\u2588\u2588\u2588\u2588     | 21/41 [00:00<00:00, 22.95it/s]"
          ]
        },
        {
          "output_type": "stream",
          "name": "stderr",
          "text": [
            "\rFold 4 Epoch 3:  59%|\u2588\u2588\u2588\u2588\u2588\u258a    | 24/41 [00:01<00:00, 22.64it/s]"
          ]
        },
        {
          "output_type": "stream",
          "name": "stdout",
          "text": [
            "Batch 20, elapsed: 0.9s\n"
          ]
        },
        {
          "output_type": "stream",
          "name": "stderr",
          "text": [
            "\rFold 4 Epoch 3:  66%|\u2588\u2588\u2588\u2588\u2588\u2588\u258c   | 27/41 [00:01<00:00, 22.67it/s]"
          ]
        },
        {
          "output_type": "stream",
          "name": "stderr",
          "text": [
            "\rFold 4 Epoch 3:  73%|\u2588\u2588\u2588\u2588\u2588\u2588\u2588\u258e  | 30/41 [00:01<00:00, 22.80it/s]"
          ]
        },
        {
          "output_type": "stream",
          "name": "stderr",
          "text": [
            "\rFold 4 Epoch 3:  80%|\u2588\u2588\u2588\u2588\u2588\u2588\u2588\u2588  | 33/41 [00:01<00:00, 22.74it/s]"
          ]
        },
        {
          "output_type": "stream",
          "name": "stdout",
          "text": [
            "Batch 30, elapsed: 1.4s\n"
          ]
        },
        {
          "output_type": "stream",
          "name": "stderr",
          "text": [
            "\rFold 4 Epoch 3:  88%|\u2588\u2588\u2588\u2588\u2588\u2588\u2588\u2588\u258a | 36/41 [00:01<00:00, 22.52it/s]"
          ]
        },
        {
          "output_type": "stream",
          "name": "stderr",
          "text": [
            "\rFold 4 Epoch 3:  95%|\u2588\u2588\u2588\u2588\u2588\u2588\u2588\u2588\u2588\u258c| 39/41 [00:01<00:00, 22.34it/s]"
          ]
        },
        {
          "output_type": "stream",
          "name": "stderr",
          "text": [
            "\rFold 4 Epoch 3: 100%|\u2588\u2588\u2588\u2588\u2588\u2588\u2588\u2588\u2588\u2588| 41/41 [00:01<00:00, 22.64it/s]"
          ]
        },
        {
          "output_type": "stream",
          "name": "stderr",
          "text": [
            "\n"
          ]
        },
        {
          "output_type": "stream",
          "name": "stdout",
          "text": [
            "Batch 40, elapsed: 1.8s\nFold 4 Epoch 3 train time: 1.8s\n"
          ]
        },
        {
          "output_type": "stream",
          "name": "stdout",
          "text": [
            "Fold 4 Epoch 3: Train 0.7129, Val 0.7000, val time: 0.2s\n"
          ]
        },
        {
          "output_type": "stream",
          "name": "stderr",
          "text": [
            "\rFold 4 Epoch 4:   0%|          | 0/41 [00:00<?, ?it/s]"
          ]
        },
        {
          "output_type": "stream",
          "name": "stderr",
          "text": [
            "\rFold 4 Epoch 4:   7%|\u258b         | 3/41 [00:00<00:01, 22.94it/s]"
          ]
        },
        {
          "output_type": "stream",
          "name": "stdout",
          "text": [
            "Batch 0, elapsed: 0.0s\n"
          ]
        },
        {
          "output_type": "stream",
          "name": "stderr",
          "text": [
            "\rFold 4 Epoch 4:  15%|\u2588\u258d        | 6/41 [00:00<00:01, 22.56it/s]"
          ]
        },
        {
          "output_type": "stream",
          "name": "stderr",
          "text": [
            "\rFold 4 Epoch 4:  22%|\u2588\u2588\u258f       | 9/41 [00:00<00:01, 22.75it/s]"
          ]
        },
        {
          "output_type": "stream",
          "name": "stderr",
          "text": [
            "\rFold 4 Epoch 4:  29%|\u2588\u2588\u2589       | 12/41 [00:00<00:01, 22.82it/s]"
          ]
        },
        {
          "output_type": "stream",
          "name": "stderr",
          "text": [
            "\rFold 4 Epoch 4:  37%|\u2588\u2588\u2588\u258b      | 15/41 [00:00<00:01, 22.65it/s]"
          ]
        },
        {
          "output_type": "stream",
          "name": "stdout",
          "text": [
            "Batch 10, elapsed: 0.5s\n"
          ]
        },
        {
          "output_type": "stream",
          "name": "stderr",
          "text": [
            "\rFold 4 Epoch 4:  44%|\u2588\u2588\u2588\u2588\u258d     | 18/41 [00:00<00:01, 22.72it/s]"
          ]
        },
        {
          "output_type": "stream",
          "name": "stderr",
          "text": [
            "\rFold 4 Epoch 4:  51%|\u2588\u2588\u2588\u2588\u2588     | 21/41 [00:00<00:00, 22.45it/s]"
          ]
        },
        {
          "output_type": "stream",
          "name": "stderr",
          "text": [
            "\rFold 4 Epoch 4:  59%|\u2588\u2588\u2588\u2588\u2588\u258a    | 24/41 [00:01<00:00, 22.67it/s]"
          ]
        },
        {
          "output_type": "stream",
          "name": "stdout",
          "text": [
            "Batch 20, elapsed: 0.9s\n"
          ]
        },
        {
          "output_type": "stream",
          "name": "stderr",
          "text": [
            "\rFold 4 Epoch 4:  66%|\u2588\u2588\u2588\u2588\u2588\u2588\u258c   | 27/41 [00:01<00:00, 22.82it/s]"
          ]
        },
        {
          "output_type": "stream",
          "name": "stderr",
          "text": [
            "\rFold 4 Epoch 4:  73%|\u2588\u2588\u2588\u2588\u2588\u2588\u2588\u258e  | 30/41 [00:01<00:00, 22.71it/s]"
          ]
        },
        {
          "output_type": "stream",
          "name": "stderr",
          "text": [
            "\rFold 4 Epoch 4:  80%|\u2588\u2588\u2588\u2588\u2588\u2588\u2588\u2588  | 33/41 [00:01<00:00, 22.80it/s]"
          ]
        },
        {
          "output_type": "stream",
          "name": "stdout",
          "text": [
            "Batch 30, elapsed: 1.4s\n"
          ]
        },
        {
          "output_type": "stream",
          "name": "stderr",
          "text": [
            "\rFold 4 Epoch 4:  88%|\u2588\u2588\u2588\u2588\u2588\u2588\u2588\u2588\u258a | 36/41 [00:01<00:00, 22.70it/s]"
          ]
        },
        {
          "output_type": "stream",
          "name": "stderr",
          "text": [
            "\rFold 4 Epoch 4:  95%|\u2588\u2588\u2588\u2588\u2588\u2588\u2588\u2588\u2588\u258c| 39/41 [00:01<00:00, 22.49it/s]"
          ]
        },
        {
          "output_type": "stream",
          "name": "stderr",
          "text": [
            "\rFold 4 Epoch 4: 100%|\u2588\u2588\u2588\u2588\u2588\u2588\u2588\u2588\u2588\u2588| 41/41 [00:01<00:00, 22.76it/s]"
          ]
        },
        {
          "output_type": "stream",
          "name": "stderr",
          "text": [
            "\n"
          ]
        },
        {
          "output_type": "stream",
          "name": "stdout",
          "text": [
            "Batch 40, elapsed: 1.8s\nFold 4 Epoch 4 train time: 1.8s\n"
          ]
        },
        {
          "output_type": "stream",
          "name": "stdout",
          "text": [
            "Fold 4 Epoch 4: Train 0.7410, Val 0.7152, val time: 0.2s\n"
          ]
        },
        {
          "output_type": "stream",
          "name": "stderr",
          "text": [
            "\rFold 4 Epoch 5:   0%|          | 0/41 [00:00<?, ?it/s]"
          ]
        },
        {
          "output_type": "stream",
          "name": "stderr",
          "text": [
            "\rFold 4 Epoch 5:   7%|\u258b         | 3/41 [00:00<00:01, 23.20it/s]"
          ]
        },
        {
          "output_type": "stream",
          "name": "stdout",
          "text": [
            "Batch 0, elapsed: 0.0s\n"
          ]
        },
        {
          "output_type": "stream",
          "name": "stderr",
          "text": [
            "\rFold 4 Epoch 5:  15%|\u2588\u258d        | 6/41 [00:00<00:01, 22.95it/s]"
          ]
        },
        {
          "output_type": "stream",
          "name": "stderr",
          "text": [
            "\rFold 4 Epoch 5:  22%|\u2588\u2588\u258f       | 9/41 [00:00<00:01, 22.77it/s]"
          ]
        },
        {
          "output_type": "stream",
          "name": "stderr",
          "text": [
            "\rFold 4 Epoch 5:  29%|\u2588\u2588\u2589       | 12/41 [00:00<00:01, 22.70it/s]"
          ]
        },
        {
          "output_type": "stream",
          "name": "stderr",
          "text": [
            "\rFold 4 Epoch 5:  37%|\u2588\u2588\u2588\u258b      | 15/41 [00:00<00:01, 22.68it/s]"
          ]
        },
        {
          "output_type": "stream",
          "name": "stdout",
          "text": [
            "Batch 10, elapsed: 0.5s\n"
          ]
        },
        {
          "output_type": "stream",
          "name": "stderr",
          "text": [
            "\rFold 4 Epoch 5:  44%|\u2588\u2588\u2588\u2588\u258d     | 18/41 [00:00<00:01, 22.81it/s]"
          ]
        },
        {
          "output_type": "stream",
          "name": "stderr",
          "text": [
            "\rFold 4 Epoch 5:  51%|\u2588\u2588\u2588\u2588\u2588     | 21/41 [00:00<00:00, 22.71it/s]"
          ]
        },
        {
          "output_type": "stream",
          "name": "stderr",
          "text": [
            "\rFold 4 Epoch 5:  59%|\u2588\u2588\u2588\u2588\u2588\u258a    | 24/41 [00:01<00:00, 22.58it/s]"
          ]
        },
        {
          "output_type": "stream",
          "name": "stdout",
          "text": [
            "Batch 20, elapsed: 0.9s\n"
          ]
        },
        {
          "output_type": "stream",
          "name": "stderr",
          "text": [
            "\rFold 4 Epoch 5:  66%|\u2588\u2588\u2588\u2588\u2588\u2588\u258c   | 27/41 [00:01<00:00, 22.39it/s]"
          ]
        },
        {
          "output_type": "stream",
          "name": "stderr",
          "text": [
            "\rFold 4 Epoch 5:  73%|\u2588\u2588\u2588\u2588\u2588\u2588\u2588\u258e  | 30/41 [00:01<00:00, 22.39it/s]"
          ]
        },
        {
          "output_type": "stream",
          "name": "stderr",
          "text": [
            "\rFold 4 Epoch 5:  80%|\u2588\u2588\u2588\u2588\u2588\u2588\u2588\u2588  | 33/41 [00:01<00:00, 22.54it/s]"
          ]
        },
        {
          "output_type": "stream",
          "name": "stdout",
          "text": [
            "Batch 30, elapsed: 1.4s\n"
          ]
        },
        {
          "output_type": "stream",
          "name": "stderr",
          "text": [
            "\rFold 4 Epoch 5:  88%|\u2588\u2588\u2588\u2588\u2588\u2588\u2588\u2588\u258a | 36/41 [00:01<00:00, 22.91it/s]"
          ]
        },
        {
          "output_type": "stream",
          "name": "stderr",
          "text": [
            "\rFold 4 Epoch 5:  95%|\u2588\u2588\u2588\u2588\u2588\u2588\u2588\u2588\u2588\u258c| 39/41 [00:01<00:00, 23.12it/s]"
          ]
        },
        {
          "output_type": "stream",
          "name": "stderr",
          "text": [
            "\rFold 4 Epoch 5: 100%|\u2588\u2588\u2588\u2588\u2588\u2588\u2588\u2588\u2588\u2588| 41/41 [00:01<00:00, 22.96it/s]"
          ]
        },
        {
          "output_type": "stream",
          "name": "stderr",
          "text": [
            "\n"
          ]
        },
        {
          "output_type": "stream",
          "name": "stdout",
          "text": [
            "Batch 40, elapsed: 1.8s\nFold 4 Epoch 5 train time: 1.8s\n"
          ]
        },
        {
          "output_type": "stream",
          "name": "stdout",
          "text": [
            "Fold 4 Epoch 5: Train 0.6881, Val 0.7154, val time: 0.2s\n"
          ]
        },
        {
          "output_type": "stream",
          "name": "stderr",
          "text": [
            "\rFold 4 Epoch 6:   0%|          | 0/41 [00:00<?, ?it/s]"
          ]
        },
        {
          "output_type": "stream",
          "name": "stderr",
          "text": [
            "\rFold 4 Epoch 6:   7%|\u258b         | 3/41 [00:00<00:01, 22.41it/s]"
          ]
        },
        {
          "output_type": "stream",
          "name": "stdout",
          "text": [
            "Batch 0, elapsed: 0.0s\n"
          ]
        },
        {
          "output_type": "stream",
          "name": "stderr",
          "text": [
            "\rFold 4 Epoch 6:  15%|\u2588\u258d        | 6/41 [00:00<00:01, 22.82it/s]"
          ]
        },
        {
          "output_type": "stream",
          "name": "stderr",
          "text": [
            "\rFold 4 Epoch 6:  22%|\u2588\u2588\u258f       | 9/41 [00:00<00:01, 22.73it/s]"
          ]
        },
        {
          "output_type": "stream",
          "name": "stderr",
          "text": [
            "\rFold 4 Epoch 6:  29%|\u2588\u2588\u2589       | 12/41 [00:00<00:01, 22.74it/s]"
          ]
        },
        {
          "output_type": "stream",
          "name": "stderr",
          "text": [
            "\rFold 4 Epoch 6:  37%|\u2588\u2588\u2588\u258b      | 15/41 [00:00<00:01, 22.93it/s]"
          ]
        },
        {
          "output_type": "stream",
          "name": "stdout",
          "text": [
            "Batch 10, elapsed: 0.5s\n"
          ]
        },
        {
          "output_type": "stream",
          "name": "stderr",
          "text": [
            "\rFold 4 Epoch 6:  44%|\u2588\u2588\u2588\u2588\u258d     | 18/41 [00:00<00:00, 23.05it/s]"
          ]
        },
        {
          "output_type": "stream",
          "name": "stderr",
          "text": [
            "\rFold 4 Epoch 6:  51%|\u2588\u2588\u2588\u2588\u2588     | 21/41 [00:00<00:00, 22.87it/s]"
          ]
        },
        {
          "output_type": "stream",
          "name": "stderr",
          "text": [
            "\rFold 4 Epoch 6:  59%|\u2588\u2588\u2588\u2588\u2588\u258a    | 24/41 [00:01<00:00, 23.03it/s]"
          ]
        },
        {
          "output_type": "stream",
          "name": "stdout",
          "text": [
            "Batch 20, elapsed: 0.9s\n"
          ]
        },
        {
          "output_type": "stream",
          "name": "stderr",
          "text": [
            "\rFold 4 Epoch 6:  66%|\u2588\u2588\u2588\u2588\u2588\u2588\u258c   | 27/41 [00:01<00:00, 22.91it/s]"
          ]
        },
        {
          "output_type": "stream",
          "name": "stderr",
          "text": [
            "\rFold 4 Epoch 6:  73%|\u2588\u2588\u2588\u2588\u2588\u2588\u2588\u258e  | 30/41 [00:01<00:00, 22.89it/s]"
          ]
        },
        {
          "output_type": "stream",
          "name": "stderr",
          "text": [
            "\rFold 4 Epoch 6:  80%|\u2588\u2588\u2588\u2588\u2588\u2588\u2588\u2588  | 33/41 [00:01<00:00, 22.72it/s]"
          ]
        },
        {
          "output_type": "stream",
          "name": "stdout",
          "text": [
            "Batch 30, elapsed: 1.4s\n"
          ]
        },
        {
          "output_type": "stream",
          "name": "stderr",
          "text": [
            "\rFold 4 Epoch 6:  88%|\u2588\u2588\u2588\u2588\u2588\u2588\u2588\u2588\u258a | 36/41 [00:01<00:00, 22.66it/s]"
          ]
        },
        {
          "output_type": "stream",
          "name": "stderr",
          "text": [
            "\rFold 4 Epoch 6:  95%|\u2588\u2588\u2588\u2588\u2588\u2588\u2588\u2588\u2588\u258c| 39/41 [00:01<00:00, 22.65it/s]"
          ]
        },
        {
          "output_type": "stream",
          "name": "stderr",
          "text": [
            "\rFold 4 Epoch 6: 100%|\u2588\u2588\u2588\u2588\u2588\u2588\u2588\u2588\u2588\u2588| 41/41 [00:01<00:00, 22.90it/s]"
          ]
        },
        {
          "output_type": "stream",
          "name": "stderr",
          "text": [
            "\n"
          ]
        },
        {
          "output_type": "stream",
          "name": "stdout",
          "text": [
            "Batch 40, elapsed: 1.8s\nFold 4 Epoch 6 train time: 1.8s\n"
          ]
        },
        {
          "output_type": "stream",
          "name": "stdout",
          "text": [
            "Fold 4 Epoch 6: Train 0.7131, Val 0.7064, val time: 0.2s\n"
          ]
        },
        {
          "output_type": "stream",
          "name": "stderr",
          "text": [
            "\rFold 4 Epoch 7:   0%|          | 0/41 [00:00<?, ?it/s]"
          ]
        },
        {
          "output_type": "stream",
          "name": "stderr",
          "text": [
            "\rFold 4 Epoch 7:   7%|\u258b         | 3/41 [00:00<00:01, 22.52it/s]"
          ]
        },
        {
          "output_type": "stream",
          "name": "stdout",
          "text": [
            "Batch 0, elapsed: 0.0s\n"
          ]
        },
        {
          "output_type": "stream",
          "name": "stderr",
          "text": [
            "\rFold 4 Epoch 7:  15%|\u2588\u258d        | 6/41 [00:00<00:01, 22.42it/s]"
          ]
        },
        {
          "output_type": "stream",
          "name": "stderr",
          "text": [
            "\rFold 4 Epoch 7:  22%|\u2588\u2588\u258f       | 9/41 [00:00<00:01, 22.79it/s]"
          ]
        },
        {
          "output_type": "stream",
          "name": "stderr",
          "text": [
            "\rFold 4 Epoch 7:  29%|\u2588\u2588\u2589       | 12/41 [00:00<00:01, 22.80it/s]"
          ]
        },
        {
          "output_type": "stream",
          "name": "stderr",
          "text": [
            "\rFold 4 Epoch 7:  37%|\u2588\u2588\u2588\u258b      | 15/41 [00:00<00:01, 22.80it/s]"
          ]
        },
        {
          "output_type": "stream",
          "name": "stdout",
          "text": [
            "Batch 10, elapsed: 0.5s\n"
          ]
        },
        {
          "output_type": "stream",
          "name": "stderr",
          "text": [
            "\rFold 4 Epoch 7:  44%|\u2588\u2588\u2588\u2588\u258d     | 18/41 [00:00<00:01, 22.75it/s]"
          ]
        },
        {
          "output_type": "stream",
          "name": "stderr",
          "text": [
            "\rFold 4 Epoch 7:  51%|\u2588\u2588\u2588\u2588\u2588     | 21/41 [00:00<00:00, 22.63it/s]"
          ]
        },
        {
          "output_type": "stream",
          "name": "stderr",
          "text": [
            "\rFold 4 Epoch 7:  59%|\u2588\u2588\u2588\u2588\u2588\u258a    | 24/41 [00:01<00:00, 22.55it/s]"
          ]
        },
        {
          "output_type": "stream",
          "name": "stdout",
          "text": [
            "Batch 20, elapsed: 0.9s\n"
          ]
        },
        {
          "output_type": "stream",
          "name": "stderr",
          "text": [
            "\rFold 4 Epoch 7:  66%|\u2588\u2588\u2588\u2588\u2588\u2588\u258c   | 27/41 [00:01<00:00, 22.65it/s]"
          ]
        },
        {
          "output_type": "stream",
          "name": "stderr",
          "text": [
            "\rFold 4 Epoch 7:  73%|\u2588\u2588\u2588\u2588\u2588\u2588\u2588\u258e  | 30/41 [00:01<00:00, 22.77it/s]"
          ]
        },
        {
          "output_type": "stream",
          "name": "stderr",
          "text": [
            "\rFold 4 Epoch 7:  80%|\u2588\u2588\u2588\u2588\u2588\u2588\u2588\u2588  | 33/41 [00:01<00:00, 22.75it/s]"
          ]
        },
        {
          "output_type": "stream",
          "name": "stdout",
          "text": [
            "Batch 30, elapsed: 1.4s\n"
          ]
        },
        {
          "output_type": "stream",
          "name": "stderr",
          "text": [
            "\rFold 4 Epoch 7:  88%|\u2588\u2588\u2588\u2588\u2588\u2588\u2588\u2588\u258a | 36/41 [00:01<00:00, 22.88it/s]"
          ]
        },
        {
          "output_type": "stream",
          "name": "stderr",
          "text": [
            "\rFold 4 Epoch 7:  95%|\u2588\u2588\u2588\u2588\u2588\u2588\u2588\u2588\u2588\u258c| 39/41 [00:01<00:00, 22.98it/s]"
          ]
        },
        {
          "output_type": "stream",
          "name": "stderr",
          "text": [
            "\rFold 4 Epoch 7: 100%|\u2588\u2588\u2588\u2588\u2588\u2588\u2588\u2588\u2588\u2588| 41/41 [00:01<00:00, 22.90it/s]"
          ]
        },
        {
          "output_type": "stream",
          "name": "stderr",
          "text": [
            "\n"
          ]
        },
        {
          "output_type": "stream",
          "name": "stdout",
          "text": [
            "Batch 40, elapsed: 1.8s\nFold 4 Epoch 7 train time: 1.8s\n"
          ]
        },
        {
          "output_type": "stream",
          "name": "stdout",
          "text": [
            "Fold 4 Epoch 7: Train 0.7149, Val 0.7313, val time: 0.2s\nEarly stop at epoch 7\nFold 4 best val loss: 0.6944\nFold 5 pos_weight: [3. 3. 3. 3. 3. 3. 3.]\n"
          ]
        },
        {
          "output_type": "stream",
          "name": "stdout",
          "text": [
            "Fold 5 GPU memory before model: 0.1GB\n"
          ]
        },
        {
          "output_type": "stream",
          "name": "stderr",
          "text": [
            "\rFold 5 Epoch 1:   0%|          | 0/41 [00:00<?, ?it/s]"
          ]
        },
        {
          "output_type": "stream",
          "name": "stderr",
          "text": [
            "\rFold 5 Epoch 1:   7%|\u258b         | 3/41 [00:00<00:01, 22.15it/s]"
          ]
        },
        {
          "output_type": "stream",
          "name": "stdout",
          "text": [
            "Batch 0, elapsed: 0.0s\n"
          ]
        },
        {
          "output_type": "stream",
          "name": "stderr",
          "text": [
            "\rFold 5 Epoch 1:  15%|\u2588\u258d        | 6/41 [00:00<00:01, 22.23it/s]"
          ]
        },
        {
          "output_type": "stream",
          "name": "stderr",
          "text": [
            "\rFold 5 Epoch 1:  22%|\u2588\u2588\u258f       | 9/41 [00:00<00:01, 21.66it/s]"
          ]
        },
        {
          "output_type": "stream",
          "name": "stderr",
          "text": [
            "\rFold 5 Epoch 1:  29%|\u2588\u2588\u2589       | 12/41 [00:00<00:01, 21.95it/s]"
          ]
        },
        {
          "output_type": "stream",
          "name": "stderr",
          "text": [
            "\rFold 5 Epoch 1:  37%|\u2588\u2588\u2588\u258b      | 15/41 [00:00<00:01, 21.73it/s]"
          ]
        },
        {
          "output_type": "stream",
          "name": "stdout",
          "text": [
            "Batch 10, elapsed: 0.5s\n"
          ]
        },
        {
          "output_type": "stream",
          "name": "stderr",
          "text": [
            "\rFold 5 Epoch 1:  44%|\u2588\u2588\u2588\u2588\u258d     | 18/41 [00:00<00:01, 21.65it/s]"
          ]
        },
        {
          "output_type": "stream",
          "name": "stderr",
          "text": [
            "\rFold 5 Epoch 1:  51%|\u2588\u2588\u2588\u2588\u2588     | 21/41 [00:00<00:00, 21.57it/s]"
          ]
        },
        {
          "output_type": "stream",
          "name": "stderr",
          "text": [
            "\rFold 5 Epoch 1:  59%|\u2588\u2588\u2588\u2588\u2588\u258a    | 24/41 [00:01<00:00, 21.91it/s]"
          ]
        },
        {
          "output_type": "stream",
          "name": "stdout",
          "text": [
            "Batch 20, elapsed: 1.0s\n"
          ]
        },
        {
          "output_type": "stream",
          "name": "stderr",
          "text": [
            "\rFold 5 Epoch 1:  66%|\u2588\u2588\u2588\u2588\u2588\u2588\u258c   | 27/41 [00:01<00:00, 22.01it/s]"
          ]
        },
        {
          "output_type": "stream",
          "name": "stderr",
          "text": [
            "\rFold 5 Epoch 1:  73%|\u2588\u2588\u2588\u2588\u2588\u2588\u2588\u258e  | 30/41 [00:01<00:00, 22.15it/s]"
          ]
        },
        {
          "output_type": "stream",
          "name": "stderr",
          "text": [
            "\rFold 5 Epoch 1:  80%|\u2588\u2588\u2588\u2588\u2588\u2588\u2588\u2588  | 33/41 [00:01<00:00, 22.30it/s]"
          ]
        },
        {
          "output_type": "stream",
          "name": "stdout",
          "text": [
            "Batch 30, elapsed: 1.4s\n"
          ]
        },
        {
          "output_type": "stream",
          "name": "stderr",
          "text": [
            "\rFold 5 Epoch 1:  88%|\u2588\u2588\u2588\u2588\u2588\u2588\u2588\u2588\u258a | 36/41 [00:01<00:00, 22.43it/s]"
          ]
        },
        {
          "output_type": "stream",
          "name": "stderr",
          "text": [
            "\rFold 5 Epoch 1:  95%|\u2588\u2588\u2588\u2588\u2588\u2588\u2588\u2588\u2588\u258c| 39/41 [00:01<00:00, 22.53it/s]"
          ]
        },
        {
          "output_type": "stream",
          "name": "stderr",
          "text": [
            "\rFold 5 Epoch 1: 100%|\u2588\u2588\u2588\u2588\u2588\u2588\u2588\u2588\u2588\u2588| 41/41 [00:01<00:00, 22.19it/s]"
          ]
        },
        {
          "output_type": "stream",
          "name": "stderr",
          "text": [
            "\n"
          ]
        },
        {
          "output_type": "stream",
          "name": "stdout",
          "text": [
            "Batch 40, elapsed: 1.8s\nFold 5 Epoch 1 train time: 1.8s\n"
          ]
        },
        {
          "output_type": "stream",
          "name": "stdout",
          "text": [
            "Fold 5 Epoch 1: Train 0.7777, Val 0.7625, val time: 0.2s\nNew best at epoch 1\n"
          ]
        },
        {
          "output_type": "stream",
          "name": "stderr",
          "text": [
            "\rFold 5 Epoch 2:   0%|          | 0/41 [00:00<?, ?it/s]"
          ]
        },
        {
          "output_type": "stream",
          "name": "stderr",
          "text": [
            "\rFold 5 Epoch 2:   7%|\u258b         | 3/41 [00:00<00:01, 21.41it/s]"
          ]
        },
        {
          "output_type": "stream",
          "name": "stdout",
          "text": [
            "Batch 0, elapsed: 0.0s\n"
          ]
        },
        {
          "output_type": "stream",
          "name": "stderr",
          "text": [
            "\rFold 5 Epoch 2:  15%|\u2588\u258d        | 6/41 [00:00<00:01, 21.48it/s]"
          ]
        },
        {
          "output_type": "stream",
          "name": "stderr",
          "text": [
            "\rFold 5 Epoch 2:  22%|\u2588\u2588\u258f       | 9/41 [00:00<00:01, 21.56it/s]"
          ]
        },
        {
          "output_type": "stream",
          "name": "stderr",
          "text": [
            "\rFold 5 Epoch 2:  29%|\u2588\u2588\u2589       | 12/41 [00:00<00:01, 21.58it/s]"
          ]
        },
        {
          "output_type": "stream",
          "name": "stderr",
          "text": [
            "\rFold 5 Epoch 2:  37%|\u2588\u2588\u2588\u258b      | 15/41 [00:00<00:01, 21.78it/s]"
          ]
        },
        {
          "output_type": "stream",
          "name": "stdout",
          "text": [
            "Batch 10, elapsed: 0.5s\n"
          ]
        },
        {
          "output_type": "stream",
          "name": "stderr",
          "text": [
            "\rFold 5 Epoch 2:  44%|\u2588\u2588\u2588\u2588\u258d     | 18/41 [00:00<00:01, 21.48it/s]"
          ]
        },
        {
          "output_type": "stream",
          "name": "stderr",
          "text": [
            "\rFold 5 Epoch 2:  51%|\u2588\u2588\u2588\u2588\u2588     | 21/41 [00:00<00:00, 21.59it/s]"
          ]
        },
        {
          "output_type": "stream",
          "name": "stderr",
          "text": [
            "\rFold 5 Epoch 2:  59%|\u2588\u2588\u2588\u2588\u2588\u258a    | 24/41 [00:01<00:00, 21.58it/s]"
          ]
        },
        {
          "output_type": "stream",
          "name": "stdout",
          "text": [
            "Batch 20, elapsed: 1.0s\n"
          ]
        },
        {
          "output_type": "stream",
          "name": "stderr",
          "text": [
            "\rFold 5 Epoch 2:  66%|\u2588\u2588\u2588\u2588\u2588\u2588\u258c   | 27/41 [00:01<00:00, 21.59it/s]"
          ]
        },
        {
          "output_type": "stream",
          "name": "stderr",
          "text": [
            "\rFold 5 Epoch 2:  73%|\u2588\u2588\u2588\u2588\u2588\u2588\u2588\u258e  | 30/41 [00:01<00:00, 21.80it/s]"
          ]
        },
        {
          "output_type": "stream",
          "name": "stderr",
          "text": [
            "\rFold 5 Epoch 2:  80%|\u2588\u2588\u2588\u2588\u2588\u2588\u2588\u2588  | 33/41 [00:01<00:00, 21.87it/s]"
          ]
        },
        {
          "output_type": "stream",
          "name": "stdout",
          "text": [
            "Batch 30, elapsed: 1.4s\n"
          ]
        },
        {
          "output_type": "stream",
          "name": "stderr",
          "text": [
            "\rFold 5 Epoch 2:  88%|\u2588\u2588\u2588\u2588\u2588\u2588\u2588\u2588\u258a | 36/41 [00:01<00:00, 22.20it/s]"
          ]
        },
        {
          "output_type": "stream",
          "name": "stderr",
          "text": [
            "\rFold 5 Epoch 2:  95%|\u2588\u2588\u2588\u2588\u2588\u2588\u2588\u2588\u2588\u258c| 39/41 [00:01<00:00, 22.13it/s]"
          ]
        },
        {
          "output_type": "stream",
          "name": "stderr",
          "text": [
            "\rFold 5 Epoch 2: 100%|\u2588\u2588\u2588\u2588\u2588\u2588\u2588\u2588\u2588\u2588| 41/41 [00:01<00:00, 21.89it/s]"
          ]
        },
        {
          "output_type": "stream",
          "name": "stderr",
          "text": [
            "\n"
          ]
        },
        {
          "output_type": "stream",
          "name": "stdout",
          "text": [
            "Batch 40, elapsed: 1.9s\nFold 5 Epoch 2 train time: 1.9s\nFold 5 Epoch 2: Train 0.7305, Val 0.6845, val time: 0.2s\n"
          ]
        },
        {
          "output_type": "stream",
          "name": "stdout",
          "text": [
            "New best at epoch 2\n"
          ]
        },
        {
          "output_type": "stream",
          "name": "stderr",
          "text": [
            "\rFold 5 Epoch 3:   0%|          | 0/41 [00:00<?, ?it/s]"
          ]
        },
        {
          "output_type": "stream",
          "name": "stderr",
          "text": [
            "\rFold 5 Epoch 3:   7%|\u258b         | 3/41 [00:00<00:01, 21.64it/s]"
          ]
        },
        {
          "output_type": "stream",
          "name": "stdout",
          "text": [
            "Batch 0, elapsed: 0.0s\n"
          ]
        },
        {
          "output_type": "stream",
          "name": "stderr",
          "text": [
            "\rFold 5 Epoch 3:  15%|\u2588\u258d        | 6/41 [00:00<00:01, 22.13it/s]"
          ]
        },
        {
          "output_type": "stream",
          "name": "stderr",
          "text": [
            "\rFold 5 Epoch 3:  22%|\u2588\u2588\u258f       | 9/41 [00:00<00:01, 22.04it/s]"
          ]
        },
        {
          "output_type": "stream",
          "name": "stderr",
          "text": [
            "\rFold 5 Epoch 3:  29%|\u2588\u2588\u2589       | 12/41 [00:00<00:01, 22.13it/s]"
          ]
        },
        {
          "output_type": "stream",
          "name": "stderr",
          "text": [
            "\rFold 5 Epoch 3:  37%|\u2588\u2588\u2588\u258b      | 15/41 [00:00<00:01, 21.99it/s]"
          ]
        },
        {
          "output_type": "stream",
          "name": "stdout",
          "text": [
            "Batch 10, elapsed: 0.5s\n"
          ]
        },
        {
          "output_type": "stream",
          "name": "stderr",
          "text": [
            "\rFold 5 Epoch 3:  44%|\u2588\u2588\u2588\u2588\u258d     | 18/41 [00:00<00:01, 22.03it/s]"
          ]
        },
        {
          "output_type": "stream",
          "name": "stderr",
          "text": [
            "\rFold 5 Epoch 3:  51%|\u2588\u2588\u2588\u2588\u2588     | 21/41 [00:00<00:00, 22.21it/s]"
          ]
        },
        {
          "output_type": "stream",
          "name": "stderr",
          "text": [
            "\rFold 5 Epoch 3:  59%|\u2588\u2588\u2588\u2588\u2588\u258a    | 24/41 [00:01<00:00, 22.13it/s]"
          ]
        },
        {
          "output_type": "stream",
          "name": "stdout",
          "text": [
            "Batch 20, elapsed: 1.0s\n"
          ]
        },
        {
          "output_type": "stream",
          "name": "stderr",
          "text": [
            "\rFold 5 Epoch 3:  66%|\u2588\u2588\u2588\u2588\u2588\u2588\u258c   | 27/41 [00:01<00:00, 21.99it/s]"
          ]
        },
        {
          "output_type": "stream",
          "name": "stderr",
          "text": [
            "\rFold 5 Epoch 3:  73%|\u2588\u2588\u2588\u2588\u2588\u2588\u2588\u258e  | 30/41 [00:01<00:00, 22.06it/s]"
          ]
        },
        {
          "output_type": "stream",
          "name": "stderr",
          "text": [
            "\rFold 5 Epoch 3:  80%|\u2588\u2588\u2588\u2588\u2588\u2588\u2588\u2588  | 33/41 [00:01<00:00, 22.05it/s]"
          ]
        },
        {
          "output_type": "stream",
          "name": "stdout",
          "text": [
            "Batch 30, elapsed: 1.4s\n"
          ]
        },
        {
          "output_type": "stream",
          "name": "stderr",
          "text": [
            "\rFold 5 Epoch 3:  88%|\u2588\u2588\u2588\u2588\u2588\u2588\u2588\u2588\u258a | 36/41 [00:01<00:00, 22.05it/s]"
          ]
        },
        {
          "output_type": "stream",
          "name": "stderr",
          "text": [
            "\rFold 5 Epoch 3:  95%|\u2588\u2588\u2588\u2588\u2588\u2588\u2588\u2588\u2588\u258c| 39/41 [00:01<00:00, 22.33it/s]"
          ]
        },
        {
          "output_type": "stream",
          "name": "stderr",
          "text": [
            "\rFold 5 Epoch 3: 100%|\u2588\u2588\u2588\u2588\u2588\u2588\u2588\u2588\u2588\u2588| 41/41 [00:01<00:00, 22.19it/s]"
          ]
        },
        {
          "output_type": "stream",
          "name": "stderr",
          "text": [
            "\n"
          ]
        },
        {
          "output_type": "stream",
          "name": "stdout",
          "text": [
            "Batch 40, elapsed: 1.8s\nFold 5 Epoch 3 train time: 1.8s\n"
          ]
        },
        {
          "output_type": "stream",
          "name": "stdout",
          "text": [
            "Fold 5 Epoch 3: Train 0.7211, Val 0.6863, val time: 0.2s\n"
          ]
        },
        {
          "output_type": "stream",
          "name": "stderr",
          "text": [
            "\rFold 5 Epoch 4:   0%|          | 0/41 [00:00<?, ?it/s]"
          ]
        },
        {
          "output_type": "stream",
          "name": "stderr",
          "text": [
            "\rFold 5 Epoch 4:   7%|\u258b         | 3/41 [00:00<00:01, 21.72it/s]"
          ]
        },
        {
          "output_type": "stream",
          "name": "stdout",
          "text": [
            "Batch 0, elapsed: 0.0s\n"
          ]
        },
        {
          "output_type": "stream",
          "name": "stderr",
          "text": [
            "\rFold 5 Epoch 4:  15%|\u2588\u258d        | 6/41 [00:00<00:01, 22.15it/s]"
          ]
        },
        {
          "output_type": "stream",
          "name": "stderr",
          "text": [
            "\rFold 5 Epoch 4:  22%|\u2588\u2588\u258f       | 9/41 [00:00<00:01, 22.36it/s]"
          ]
        },
        {
          "output_type": "stream",
          "name": "stderr",
          "text": [
            "\rFold 5 Epoch 4:  29%|\u2588\u2588\u2589       | 12/41 [00:00<00:01, 22.53it/s]"
          ]
        },
        {
          "output_type": "stream",
          "name": "stderr",
          "text": [
            "\rFold 5 Epoch 4:  37%|\u2588\u2588\u2588\u258b      | 15/41 [00:00<00:01, 22.47it/s]"
          ]
        },
        {
          "output_type": "stream",
          "name": "stdout",
          "text": [
            "Batch 10, elapsed: 0.5s\n"
          ]
        },
        {
          "output_type": "stream",
          "name": "stderr",
          "text": [
            "\rFold 5 Epoch 4:  44%|\u2588\u2588\u2588\u2588\u258d     | 18/41 [00:00<00:01, 22.48it/s]"
          ]
        },
        {
          "output_type": "stream",
          "name": "stderr",
          "text": [
            "\rFold 5 Epoch 4:  51%|\u2588\u2588\u2588\u2588\u2588     | 21/41 [00:00<00:00, 22.62it/s]"
          ]
        },
        {
          "output_type": "stream",
          "name": "stderr",
          "text": [
            "\rFold 5 Epoch 4:  59%|\u2588\u2588\u2588\u2588\u2588\u258a    | 24/41 [00:01<00:00, 22.48it/s]"
          ]
        },
        {
          "output_type": "stream",
          "name": "stdout",
          "text": [
            "Batch 20, elapsed: 0.9s\n"
          ]
        },
        {
          "output_type": "stream",
          "name": "stderr",
          "text": [
            "\rFold 5 Epoch 4:  66%|\u2588\u2588\u2588\u2588\u2588\u2588\u258c   | 27/41 [00:01<00:00, 22.49it/s]"
          ]
        },
        {
          "output_type": "stream",
          "name": "stderr",
          "text": [
            "\rFold 5 Epoch 4:  73%|\u2588\u2588\u2588\u2588\u2588\u2588\u2588\u258e  | 30/41 [00:01<00:00, 22.38it/s]"
          ]
        },
        {
          "output_type": "stream",
          "name": "stderr",
          "text": [
            "\rFold 5 Epoch 4:  80%|\u2588\u2588\u2588\u2588\u2588\u2588\u2588\u2588  | 33/41 [00:01<00:00, 22.46it/s]"
          ]
        },
        {
          "output_type": "stream",
          "name": "stdout",
          "text": [
            "Batch 30, elapsed: 1.4s\n"
          ]
        },
        {
          "output_type": "stream",
          "name": "stderr",
          "text": [
            "\rFold 5 Epoch 4:  88%|\u2588\u2588\u2588\u2588\u2588\u2588\u2588\u2588\u258a | 36/41 [00:01<00:00, 22.44it/s]"
          ]
        },
        {
          "output_type": "stream",
          "name": "stderr",
          "text": [
            "\rFold 5 Epoch 4:  95%|\u2588\u2588\u2588\u2588\u2588\u2588\u2588\u2588\u2588\u258c| 39/41 [00:01<00:00, 22.28it/s]"
          ]
        },
        {
          "output_type": "stream",
          "name": "stderr",
          "text": [
            "\rFold 5 Epoch 4: 100%|\u2588\u2588\u2588\u2588\u2588\u2588\u2588\u2588\u2588\u2588| 41/41 [00:01<00:00, 22.47it/s]"
          ]
        },
        {
          "output_type": "stream",
          "name": "stderr",
          "text": [
            "\n"
          ]
        },
        {
          "output_type": "stream",
          "name": "stdout",
          "text": [
            "Batch 40, elapsed: 1.8s\nFold 5 Epoch 4 train time: 1.8s\n"
          ]
        },
        {
          "output_type": "stream",
          "name": "stdout",
          "text": [
            "Fold 5 Epoch 4: Train 0.7645, Val 0.6804, val time: 0.2s\nNew best at epoch 4\n"
          ]
        },
        {
          "output_type": "stream",
          "name": "stderr",
          "text": [
            "\rFold 5 Epoch 5:   0%|          | 0/41 [00:00<?, ?it/s]"
          ]
        },
        {
          "output_type": "stream",
          "name": "stderr",
          "text": [
            "\rFold 5 Epoch 5:   7%|\u258b         | 3/41 [00:00<00:01, 22.69it/s]"
          ]
        },
        {
          "output_type": "stream",
          "name": "stdout",
          "text": [
            "Batch 0, elapsed: 0.0s\n"
          ]
        },
        {
          "output_type": "stream",
          "name": "stderr",
          "text": [
            "\rFold 5 Epoch 5:  15%|\u2588\u258d        | 6/41 [00:00<00:01, 22.72it/s]"
          ]
        },
        {
          "output_type": "stream",
          "name": "stderr",
          "text": [
            "\rFold 5 Epoch 5:  22%|\u2588\u2588\u258f       | 9/41 [00:00<00:01, 22.77it/s]"
          ]
        },
        {
          "output_type": "stream",
          "name": "stderr",
          "text": [
            "\rFold 5 Epoch 5:  29%|\u2588\u2588\u2589       | 12/41 [00:00<00:01, 22.75it/s]"
          ]
        },
        {
          "output_type": "stream",
          "name": "stderr",
          "text": [
            "\rFold 5 Epoch 5:  37%|\u2588\u2588\u2588\u258b      | 15/41 [00:00<00:01, 22.52it/s]"
          ]
        },
        {
          "output_type": "stream",
          "name": "stdout",
          "text": [
            "Batch 10, elapsed: 0.5s\n"
          ]
        },
        {
          "output_type": "stream",
          "name": "stderr",
          "text": [
            "\rFold 5 Epoch 5:  44%|\u2588\u2588\u2588\u2588\u258d     | 18/41 [00:00<00:01, 22.39it/s]"
          ]
        },
        {
          "output_type": "stream",
          "name": "stderr",
          "text": [
            "\rFold 5 Epoch 5:  51%|\u2588\u2588\u2588\u2588\u2588     | 21/41 [00:00<00:00, 22.41it/s]"
          ]
        },
        {
          "output_type": "stream",
          "name": "stderr",
          "text": [
            "\rFold 5 Epoch 5:  59%|\u2588\u2588\u2588\u2588\u2588\u258a    | 24/41 [00:01<00:00, 22.49it/s]"
          ]
        },
        {
          "output_type": "stream",
          "name": "stdout",
          "text": [
            "Batch 20, elapsed: 0.9s\n"
          ]
        },
        {
          "output_type": "stream",
          "name": "stderr",
          "text": [
            "\rFold 5 Epoch 5:  66%|\u2588\u2588\u2588\u2588\u2588\u2588\u258c   | 27/41 [00:01<00:00, 22.27it/s]"
          ]
        },
        {
          "output_type": "stream",
          "name": "stderr",
          "text": [
            "\rFold 5 Epoch 5:  73%|\u2588\u2588\u2588\u2588\u2588\u2588\u2588\u258e  | 30/41 [00:01<00:00, 22.34it/s]"
          ]
        },
        {
          "output_type": "stream",
          "name": "stderr",
          "text": [
            "\rFold 5 Epoch 5:  80%|\u2588\u2588\u2588\u2588\u2588\u2588\u2588\u2588  | 33/41 [00:01<00:00, 21.98it/s]"
          ]
        },
        {
          "output_type": "stream",
          "name": "stdout",
          "text": [
            "Batch 30, elapsed: 1.4s\n"
          ]
        },
        {
          "output_type": "stream",
          "name": "stderr",
          "text": [
            "\rFold 5 Epoch 5:  88%|\u2588\u2588\u2588\u2588\u2588\u2588\u2588\u2588\u258a | 36/41 [00:01<00:00, 21.90it/s]"
          ]
        },
        {
          "output_type": "stream",
          "name": "stderr",
          "text": [
            "\rFold 5 Epoch 5:  95%|\u2588\u2588\u2588\u2588\u2588\u2588\u2588\u2588\u2588\u258c| 39/41 [00:01<00:00, 21.90it/s]"
          ]
        },
        {
          "output_type": "stream",
          "name": "stderr",
          "text": [
            "\rFold 5 Epoch 5: 100%|\u2588\u2588\u2588\u2588\u2588\u2588\u2588\u2588\u2588\u2588| 41/41 [00:01<00:00, 22.28it/s]"
          ]
        },
        {
          "output_type": "stream",
          "name": "stderr",
          "text": [
            "\n"
          ]
        },
        {
          "output_type": "stream",
          "name": "stdout",
          "text": [
            "Batch 40, elapsed: 1.8s\nFold 5 Epoch 5 train time: 1.8s\n"
          ]
        },
        {
          "output_type": "stream",
          "name": "stdout",
          "text": [
            "Fold 5 Epoch 5: Train 0.7472, Val 0.7091, val time: 0.2s\n"
          ]
        },
        {
          "output_type": "stream",
          "name": "stderr",
          "text": [
            "\rFold 5 Epoch 6:   0%|          | 0/41 [00:00<?, ?it/s]"
          ]
        },
        {
          "output_type": "stream",
          "name": "stderr",
          "text": [
            "\rFold 5 Epoch 6:   7%|\u258b         | 3/41 [00:00<00:01, 21.75it/s]"
          ]
        },
        {
          "output_type": "stream",
          "name": "stdout",
          "text": [
            "Batch 0, elapsed: 0.0s\n"
          ]
        },
        {
          "output_type": "stream",
          "name": "stderr",
          "text": [
            "\rFold 5 Epoch 6:  15%|\u2588\u258d        | 6/41 [00:00<00:01, 22.01it/s]"
          ]
        },
        {
          "output_type": "stream",
          "name": "stderr",
          "text": [
            "\rFold 5 Epoch 6:  22%|\u2588\u2588\u258f       | 9/41 [00:00<00:01, 22.19it/s]"
          ]
        },
        {
          "output_type": "stream",
          "name": "stderr",
          "text": [
            "\rFold 5 Epoch 6:  29%|\u2588\u2588\u2589       | 12/41 [00:00<00:01, 22.43it/s]"
          ]
        },
        {
          "output_type": "stream",
          "name": "stderr",
          "text": [
            "\rFold 5 Epoch 6:  37%|\u2588\u2588\u2588\u258b      | 15/41 [00:00<00:01, 22.29it/s]"
          ]
        },
        {
          "output_type": "stream",
          "name": "stdout",
          "text": [
            "Batch 10, elapsed: 0.5s\n"
          ]
        },
        {
          "output_type": "stream",
          "name": "stderr",
          "text": [
            "\rFold 5 Epoch 6:  44%|\u2588\u2588\u2588\u2588\u258d     | 18/41 [00:00<00:01, 22.29it/s]"
          ]
        },
        {
          "output_type": "stream",
          "name": "stderr",
          "text": [
            "\rFold 5 Epoch 6:  51%|\u2588\u2588\u2588\u2588\u2588     | 21/41 [00:00<00:00, 22.25it/s]"
          ]
        },
        {
          "output_type": "stream",
          "name": "stderr",
          "text": [
            "\rFold 5 Epoch 6:  59%|\u2588\u2588\u2588\u2588\u2588\u258a    | 24/41 [00:01<00:00, 22.30it/s]"
          ]
        },
        {
          "output_type": "stream",
          "name": "stdout",
          "text": [
            "Batch 20, elapsed: 0.9s\n"
          ]
        },
        {
          "output_type": "stream",
          "name": "stderr",
          "text": [
            "\rFold 5 Epoch 6:  66%|\u2588\u2588\u2588\u2588\u2588\u2588\u258c   | 27/41 [00:01<00:00, 22.51it/s]"
          ]
        },
        {
          "output_type": "stream",
          "name": "stderr",
          "text": [
            "\rFold 5 Epoch 6:  73%|\u2588\u2588\u2588\u2588\u2588\u2588\u2588\u258e  | 30/41 [00:01<00:00, 22.46it/s]"
          ]
        },
        {
          "output_type": "stream",
          "name": "stderr",
          "text": [
            "\rFold 5 Epoch 6:  80%|\u2588\u2588\u2588\u2588\u2588\u2588\u2588\u2588  | 33/41 [00:01<00:00, 22.48it/s]"
          ]
        },
        {
          "output_type": "stream",
          "name": "stdout",
          "text": [
            "Batch 30, elapsed: 1.4s\n"
          ]
        },
        {
          "output_type": "stream",
          "name": "stderr",
          "text": [
            "\rFold 5 Epoch 6:  88%|\u2588\u2588\u2588\u2588\u2588\u2588\u2588\u2588\u258a | 36/41 [00:01<00:00, 22.57it/s]"
          ]
        },
        {
          "output_type": "stream",
          "name": "stderr",
          "text": [
            "\rFold 5 Epoch 6:  95%|\u2588\u2588\u2588\u2588\u2588\u2588\u2588\u2588\u2588\u258c| 39/41 [00:01<00:00, 22.41it/s]"
          ]
        },
        {
          "output_type": "stream",
          "name": "stderr",
          "text": [
            "\rFold 5 Epoch 6: 100%|\u2588\u2588\u2588\u2588\u2588\u2588\u2588\u2588\u2588\u2588| 41/41 [00:01<00:00, 22.41it/s]"
          ]
        },
        {
          "output_type": "stream",
          "name": "stderr",
          "text": [
            "\n"
          ]
        },
        {
          "output_type": "stream",
          "name": "stdout",
          "text": [
            "Batch 40, elapsed: 1.8s\nFold 5 Epoch 6 train time: 1.8s\n"
          ]
        },
        {
          "output_type": "stream",
          "name": "stdout",
          "text": [
            "Fold 5 Epoch 6: Train 0.7212, Val 0.6772, val time: 0.2s\nNew best at epoch 6\n"
          ]
        },
        {
          "output_type": "stream",
          "name": "stderr",
          "text": [
            "\rFold 5 Epoch 7:   0%|          | 0/41 [00:00<?, ?it/s]"
          ]
        },
        {
          "output_type": "stream",
          "name": "stderr",
          "text": [
            "\rFold 5 Epoch 7:   7%|\u258b         | 3/41 [00:00<00:01, 21.95it/s]"
          ]
        },
        {
          "output_type": "stream",
          "name": "stdout",
          "text": [
            "Batch 0, elapsed: 0.0s\n"
          ]
        },
        {
          "output_type": "stream",
          "name": "stderr",
          "text": [
            "\rFold 5 Epoch 7:  15%|\u2588\u258d        | 6/41 [00:00<00:01, 22.14it/s]"
          ]
        },
        {
          "output_type": "stream",
          "name": "stderr",
          "text": [
            "\rFold 5 Epoch 7:  22%|\u2588\u2588\u258f       | 9/41 [00:00<00:01, 22.27it/s]"
          ]
        },
        {
          "output_type": "stream",
          "name": "stderr",
          "text": [
            "\rFold 5 Epoch 7:  29%|\u2588\u2588\u2589       | 12/41 [00:00<00:01, 22.17it/s]"
          ]
        },
        {
          "output_type": "stream",
          "name": "stderr",
          "text": [
            "\rFold 5 Epoch 7:  37%|\u2588\u2588\u2588\u258b      | 15/41 [00:00<00:01, 21.93it/s]"
          ]
        },
        {
          "output_type": "stream",
          "name": "stdout",
          "text": [
            "Batch 10, elapsed: 0.5s\n"
          ]
        },
        {
          "output_type": "stream",
          "name": "stderr",
          "text": [
            "\rFold 5 Epoch 7:  44%|\u2588\u2588\u2588\u2588\u258d     | 18/41 [00:00<00:01, 21.99it/s]"
          ]
        },
        {
          "output_type": "stream",
          "name": "stderr",
          "text": [
            "\rFold 5 Epoch 7:  51%|\u2588\u2588\u2588\u2588\u2588     | 21/41 [00:00<00:00, 21.97it/s]"
          ]
        },
        {
          "output_type": "stream",
          "name": "stderr",
          "text": [
            "\rFold 5 Epoch 7:  59%|\u2588\u2588\u2588\u2588\u2588\u258a    | 24/41 [00:01<00:00, 21.91it/s]"
          ]
        },
        {
          "output_type": "stream",
          "name": "stdout",
          "text": [
            "Batch 20, elapsed: 1.0s\n"
          ]
        },
        {
          "output_type": "stream",
          "name": "stderr",
          "text": [
            "\rFold 5 Epoch 7:  66%|\u2588\u2588\u2588\u2588\u2588\u2588\u258c   | 27/41 [00:01<00:00, 21.78it/s]"
          ]
        },
        {
          "output_type": "stream",
          "name": "stderr",
          "text": [
            "\rFold 5 Epoch 7:  73%|\u2588\u2588\u2588\u2588\u2588\u2588\u2588\u258e  | 30/41 [00:01<00:00, 21.87it/s]"
          ]
        },
        {
          "output_type": "stream",
          "name": "stderr",
          "text": [
            "\rFold 5 Epoch 7:  80%|\u2588\u2588\u2588\u2588\u2588\u2588\u2588\u2588  | 33/41 [00:01<00:00, 21.80it/s]"
          ]
        },
        {
          "output_type": "stream",
          "name": "stdout",
          "text": [
            "Batch 30, elapsed: 1.4s\n"
          ]
        },
        {
          "output_type": "stream",
          "name": "stderr",
          "text": [
            "\rFold 5 Epoch 7:  88%|\u2588\u2588\u2588\u2588\u2588\u2588\u2588\u2588\u258a | 36/41 [00:01<00:00, 21.81it/s]"
          ]
        },
        {
          "output_type": "stream",
          "name": "stderr",
          "text": [
            "\rFold 5 Epoch 7:  95%|\u2588\u2588\u2588\u2588\u2588\u2588\u2588\u2588\u2588\u258c| 39/41 [00:01<00:00, 21.95it/s]"
          ]
        },
        {
          "output_type": "stream",
          "name": "stderr",
          "text": [
            "\rFold 5 Epoch 7: 100%|\u2588\u2588\u2588\u2588\u2588\u2588\u2588\u2588\u2588\u2588| 41/41 [00:01<00:00, 21.99it/s]"
          ]
        },
        {
          "output_type": "stream",
          "name": "stderr",
          "text": [
            "\n"
          ]
        },
        {
          "output_type": "stream",
          "name": "stdout",
          "text": [
            "Batch 40, elapsed: 1.9s\nFold 5 Epoch 7 train time: 1.9s\n"
          ]
        },
        {
          "output_type": "stream",
          "name": "stdout",
          "text": [
            "Fold 5 Epoch 7: Train 0.6905, Val 0.6916, val time: 0.2s\n"
          ]
        },
        {
          "output_type": "stream",
          "name": "stderr",
          "text": [
            "\rFold 5 Epoch 8:   0%|          | 0/41 [00:00<?, ?it/s]"
          ]
        },
        {
          "output_type": "stream",
          "name": "stderr",
          "text": [
            "\rFold 5 Epoch 8:   7%|\u258b         | 3/41 [00:00<00:01, 22.38it/s]"
          ]
        },
        {
          "output_type": "stream",
          "name": "stdout",
          "text": [
            "Batch 0, elapsed: 0.0s\n"
          ]
        },
        {
          "output_type": "stream",
          "name": "stderr",
          "text": [
            "\rFold 5 Epoch 8:  15%|\u2588\u258d        | 6/41 [00:00<00:01, 22.32it/s]"
          ]
        },
        {
          "output_type": "stream",
          "name": "stderr",
          "text": [
            "\rFold 5 Epoch 8:  22%|\u2588\u2588\u258f       | 9/41 [00:00<00:01, 22.50it/s]"
          ]
        },
        {
          "output_type": "stream",
          "name": "stderr",
          "text": [
            "\rFold 5 Epoch 8:  29%|\u2588\u2588\u2589       | 12/41 [00:00<00:01, 22.06it/s]"
          ]
        },
        {
          "output_type": "stream",
          "name": "stderr",
          "text": [
            "\rFold 5 Epoch 8:  37%|\u2588\u2588\u2588\u258b      | 15/41 [00:00<00:01, 22.17it/s]"
          ]
        },
        {
          "output_type": "stream",
          "name": "stdout",
          "text": [
            "Batch 10, elapsed: 0.5s\n"
          ]
        },
        {
          "output_type": "stream",
          "name": "stderr",
          "text": [
            "\rFold 5 Epoch 8:  44%|\u2588\u2588\u2588\u2588\u258d     | 18/41 [00:00<00:01, 22.11it/s]"
          ]
        },
        {
          "output_type": "stream",
          "name": "stderr",
          "text": [
            "\rFold 5 Epoch 8:  51%|\u2588\u2588\u2588\u2588\u2588     | 21/41 [00:00<00:00, 22.14it/s]"
          ]
        },
        {
          "output_type": "stream",
          "name": "stderr",
          "text": [
            "\rFold 5 Epoch 8:  59%|\u2588\u2588\u2588\u2588\u2588\u258a    | 24/41 [00:01<00:00, 22.02it/s]"
          ]
        },
        {
          "output_type": "stream",
          "name": "stdout",
          "text": [
            "Batch 20, elapsed: 0.9s\n"
          ]
        },
        {
          "output_type": "stream",
          "name": "stderr",
          "text": [
            "\rFold 5 Epoch 8:  66%|\u2588\u2588\u2588\u2588\u2588\u2588\u258c   | 27/41 [00:01<00:00, 22.00it/s]"
          ]
        },
        {
          "output_type": "stream",
          "name": "stderr",
          "text": [
            "\rFold 5 Epoch 8:  73%|\u2588\u2588\u2588\u2588\u2588\u2588\u2588\u258e  | 30/41 [00:01<00:00, 22.23it/s]"
          ]
        },
        {
          "output_type": "stream",
          "name": "stderr",
          "text": [
            "\rFold 5 Epoch 8:  80%|\u2588\u2588\u2588\u2588\u2588\u2588\u2588\u2588  | 33/41 [00:01<00:00, 21.97it/s]"
          ]
        },
        {
          "output_type": "stream",
          "name": "stdout",
          "text": [
            "Batch 30, elapsed: 1.4s\n"
          ]
        },
        {
          "output_type": "stream",
          "name": "stderr",
          "text": [
            "\rFold 5 Epoch 8:  88%|\u2588\u2588\u2588\u2588\u2588\u2588\u2588\u2588\u258a | 36/41 [00:01<00:00, 21.93it/s]"
          ]
        },
        {
          "output_type": "stream",
          "name": "stderr",
          "text": [
            "\rFold 5 Epoch 8:  95%|\u2588\u2588\u2588\u2588\u2588\u2588\u2588\u2588\u2588\u258c| 39/41 [00:01<00:00, 22.25it/s]"
          ]
        },
        {
          "output_type": "stream",
          "name": "stderr",
          "text": [
            "\rFold 5 Epoch 8: 100%|\u2588\u2588\u2588\u2588\u2588\u2588\u2588\u2588\u2588\u2588| 41/41 [00:01<00:00, 22.23it/s]"
          ]
        },
        {
          "output_type": "stream",
          "name": "stderr",
          "text": [
            "\n"
          ]
        },
        {
          "output_type": "stream",
          "name": "stdout",
          "text": [
            "Batch 40, elapsed: 1.8s\nFold 5 Epoch 8 train time: 1.8s\n"
          ]
        },
        {
          "output_type": "stream",
          "name": "stdout",
          "text": [
            "Fold 5 Epoch 8: Train 0.7291, Val 0.6951, val time: 0.2s\n"
          ]
        },
        {
          "output_type": "stream",
          "name": "stderr",
          "text": [
            "\rFold 5 Epoch 9:   0%|          | 0/41 [00:00<?, ?it/s]"
          ]
        },
        {
          "output_type": "stream",
          "name": "stderr",
          "text": [
            "\rFold 5 Epoch 9:   7%|\u258b         | 3/41 [00:00<00:01, 22.15it/s]"
          ]
        },
        {
          "output_type": "stream",
          "name": "stdout",
          "text": [
            "Batch 0, elapsed: 0.0s\n"
          ]
        },
        {
          "output_type": "stream",
          "name": "stderr",
          "text": [
            "\rFold 5 Epoch 9:  15%|\u2588\u258d        | 6/41 [00:00<00:01, 22.57it/s]"
          ]
        },
        {
          "output_type": "stream",
          "name": "stderr",
          "text": [
            "\rFold 5 Epoch 9:  22%|\u2588\u2588\u258f       | 9/41 [00:00<00:01, 22.79it/s]"
          ]
        },
        {
          "output_type": "stream",
          "name": "stderr",
          "text": [
            "\rFold 5 Epoch 9:  29%|\u2588\u2588\u2589       | 12/41 [00:00<00:01, 22.87it/s]"
          ]
        },
        {
          "output_type": "stream",
          "name": "stderr",
          "text": [
            "\rFold 5 Epoch 9:  37%|\u2588\u2588\u2588\u258b      | 15/41 [00:00<00:01, 22.65it/s]"
          ]
        },
        {
          "output_type": "stream",
          "name": "stdout",
          "text": [
            "Batch 10, elapsed: 0.5s\n"
          ]
        },
        {
          "output_type": "stream",
          "name": "stderr",
          "text": [
            "\rFold 5 Epoch 9:  44%|\u2588\u2588\u2588\u2588\u258d     | 18/41 [00:00<00:01, 22.36it/s]"
          ]
        },
        {
          "output_type": "stream",
          "name": "stderr",
          "text": [
            "\rFold 5 Epoch 9:  51%|\u2588\u2588\u2588\u2588\u2588     | 21/41 [00:00<00:00, 22.68it/s]"
          ]
        },
        {
          "output_type": "stream",
          "name": "stderr",
          "text": [
            "\rFold 5 Epoch 9:  59%|\u2588\u2588\u2588\u2588\u2588\u258a    | 24/41 [00:01<00:00, 22.16it/s]"
          ]
        },
        {
          "output_type": "stream",
          "name": "stdout",
          "text": [
            "Batch 20, elapsed: 0.9s\n"
          ]
        },
        {
          "output_type": "stream",
          "name": "stderr",
          "text": [
            "\rFold 5 Epoch 9:  66%|\u2588\u2588\u2588\u2588\u2588\u2588\u258c   | 27/41 [00:01<00:00, 22.17it/s]"
          ]
        },
        {
          "output_type": "stream",
          "name": "stderr",
          "text": [
            "\rFold 5 Epoch 9:  73%|\u2588\u2588\u2588\u2588\u2588\u2588\u2588\u258e  | 30/41 [00:01<00:00, 22.10it/s]"
          ]
        },
        {
          "output_type": "stream",
          "name": "stderr",
          "text": [
            "\rFold 5 Epoch 9:  80%|\u2588\u2588\u2588\u2588\u2588\u2588\u2588\u2588  | 33/41 [00:01<00:00, 22.35it/s]"
          ]
        },
        {
          "output_type": "stream",
          "name": "stdout",
          "text": [
            "Batch 30, elapsed: 1.4s\n"
          ]
        },
        {
          "output_type": "stream",
          "name": "stderr",
          "text": [
            "\rFold 5 Epoch 9:  88%|\u2588\u2588\u2588\u2588\u2588\u2588\u2588\u2588\u258a | 36/41 [00:01<00:00, 22.31it/s]"
          ]
        },
        {
          "output_type": "stream",
          "name": "stderr",
          "text": [
            "\rFold 5 Epoch 9:  95%|\u2588\u2588\u2588\u2588\u2588\u2588\u2588\u2588\u2588\u258c| 39/41 [00:01<00:00, 22.40it/s]"
          ]
        },
        {
          "output_type": "stream",
          "name": "stderr",
          "text": [
            "\rFold 5 Epoch 9: 100%|\u2588\u2588\u2588\u2588\u2588\u2588\u2588\u2588\u2588\u2588| 41/41 [00:01<00:00, 22.49it/s]"
          ]
        },
        {
          "output_type": "stream",
          "name": "stderr",
          "text": [
            "\n"
          ]
        },
        {
          "output_type": "stream",
          "name": "stdout",
          "text": [
            "Batch 40, elapsed: 1.8s\nFold 5 Epoch 9 train time: 1.8s\nFold 5 Epoch 9: Train 0.7032, Val 0.6914, val time: 0.2s\n"
          ]
        },
        {
          "output_type": "stream",
          "name": "stderr",
          "text": [
            "\rFold 5 Epoch 10:   0%|          | 0/41 [00:00<?, ?it/s]"
          ]
        },
        {
          "output_type": "stream",
          "name": "stderr",
          "text": [
            "\rFold 5 Epoch 10:   7%|\u258b         | 3/41 [00:00<00:01, 22.93it/s]"
          ]
        },
        {
          "output_type": "stream",
          "name": "stdout",
          "text": [
            "Batch 0, elapsed: 0.0s\n"
          ]
        },
        {
          "output_type": "stream",
          "name": "stderr",
          "text": [
            "\rFold 5 Epoch 10:  15%|\u2588\u258d        | 6/41 [00:00<00:01, 22.75it/s]"
          ]
        },
        {
          "output_type": "stream",
          "name": "stderr",
          "text": [
            "\rFold 5 Epoch 10:  22%|\u2588\u2588\u258f       | 9/41 [00:00<00:01, 22.37it/s]"
          ]
        },
        {
          "output_type": "stream",
          "name": "stderr",
          "text": [
            "\rFold 5 Epoch 10:  29%|\u2588\u2588\u2589       | 12/41 [00:00<00:01, 22.42it/s]"
          ]
        },
        {
          "output_type": "stream",
          "name": "stderr",
          "text": [
            "\rFold 5 Epoch 10:  37%|\u2588\u2588\u2588\u258b      | 15/41 [00:00<00:01, 22.26it/s]"
          ]
        },
        {
          "output_type": "stream",
          "name": "stdout",
          "text": [
            "Batch 10, elapsed: 0.5s\n"
          ]
        },
        {
          "output_type": "stream",
          "name": "stderr",
          "text": [
            "\rFold 5 Epoch 10:  44%|\u2588\u2588\u2588\u2588\u258d     | 18/41 [00:00<00:01, 22.33it/s]"
          ]
        },
        {
          "output_type": "stream",
          "name": "stderr",
          "text": [
            "\rFold 5 Epoch 10:  51%|\u2588\u2588\u2588\u2588\u2588     | 21/41 [00:00<00:00, 22.63it/s]"
          ]
        },
        {
          "output_type": "stream",
          "name": "stderr",
          "text": [
            "\rFold 5 Epoch 10:  59%|\u2588\u2588\u2588\u2588\u2588\u258a    | 24/41 [00:01<00:00, 22.42it/s]"
          ]
        },
        {
          "output_type": "stream",
          "name": "stdout",
          "text": [
            "Batch 20, elapsed: 0.9s\n"
          ]
        },
        {
          "output_type": "stream",
          "name": "stderr",
          "text": [
            "\rFold 5 Epoch 10:  66%|\u2588\u2588\u2588\u2588\u2588\u2588\u258c   | 27/41 [00:01<00:00, 22.29it/s]"
          ]
        },
        {
          "output_type": "stream",
          "name": "stderr",
          "text": [
            "\rFold 5 Epoch 10:  73%|\u2588\u2588\u2588\u2588\u2588\u2588\u2588\u258e  | 30/41 [00:01<00:00, 22.44it/s]"
          ]
        },
        {
          "output_type": "stream",
          "name": "stderr",
          "text": [
            "\rFold 5 Epoch 10:  80%|\u2588\u2588\u2588\u2588\u2588\u2588\u2588\u2588  | 33/41 [00:01<00:00, 22.32it/s]"
          ]
        },
        {
          "output_type": "stream",
          "name": "stdout",
          "text": [
            "Batch 30, elapsed: 1.4s\n"
          ]
        },
        {
          "output_type": "stream",
          "name": "stderr",
          "text": [
            "\rFold 5 Epoch 10:  88%|\u2588\u2588\u2588\u2588\u2588\u2588\u2588\u2588\u258a | 36/41 [00:01<00:00, 22.34it/s]"
          ]
        },
        {
          "output_type": "stream",
          "name": "stderr",
          "text": [
            "\rFold 5 Epoch 10:  95%|\u2588\u2588\u2588\u2588\u2588\u2588\u2588\u2588\u2588\u258c| 39/41 [00:01<00:00, 22.34it/s]"
          ]
        },
        {
          "output_type": "stream",
          "name": "stderr",
          "text": [
            "\rFold 5 Epoch 10: 100%|\u2588\u2588\u2588\u2588\u2588\u2588\u2588\u2588\u2588\u2588| 41/41 [00:01<00:00, 22.42it/s]"
          ]
        },
        {
          "output_type": "stream",
          "name": "stderr",
          "text": [
            "\n"
          ]
        },
        {
          "output_type": "stream",
          "name": "stdout",
          "text": [
            "Batch 40, elapsed: 1.8s\nFold 5 Epoch 10 train time: 1.8s\n"
          ]
        },
        {
          "output_type": "stream",
          "name": "stdout",
          "text": [
            "Fold 5 Epoch 10: Train 0.6949, Val 0.6777, val time: 0.2s\n"
          ]
        },
        {
          "output_type": "stream",
          "name": "stderr",
          "text": [
            "\rFold 5 Epoch 11:   0%|          | 0/41 [00:00<?, ?it/s]"
          ]
        },
        {
          "output_type": "stream",
          "name": "stderr",
          "text": [
            "\rFold 5 Epoch 11:   7%|\u258b         | 3/41 [00:00<00:01, 20.87it/s]"
          ]
        },
        {
          "output_type": "stream",
          "name": "stdout",
          "text": [
            "Batch 0, elapsed: 0.0s\n"
          ]
        },
        {
          "output_type": "stream",
          "name": "stderr",
          "text": [
            "\rFold 5 Epoch 11:  15%|\u2588\u258d        | 6/41 [00:00<00:01, 22.03it/s]"
          ]
        },
        {
          "output_type": "stream",
          "name": "stderr",
          "text": [
            "\rFold 5 Epoch 11:  22%|\u2588\u2588\u258f       | 9/41 [00:00<00:01, 22.01it/s]"
          ]
        },
        {
          "output_type": "stream",
          "name": "stderr",
          "text": [
            "\rFold 5 Epoch 11:  29%|\u2588\u2588\u2589       | 12/41 [00:00<00:01, 22.37it/s]"
          ]
        },
        {
          "output_type": "stream",
          "name": "stderr",
          "text": [
            "\rFold 5 Epoch 11:  37%|\u2588\u2588\u2588\u258b      | 15/41 [00:00<00:01, 22.05it/s]"
          ]
        },
        {
          "output_type": "stream",
          "name": "stdout",
          "text": [
            "Batch 10, elapsed: 0.5s\n"
          ]
        },
        {
          "output_type": "stream",
          "name": "stderr",
          "text": [
            "\rFold 5 Epoch 11:  44%|\u2588\u2588\u2588\u2588\u258d     | 18/41 [00:00<00:01, 22.34it/s]"
          ]
        },
        {
          "output_type": "stream",
          "name": "stderr",
          "text": [
            "\rFold 5 Epoch 11:  51%|\u2588\u2588\u2588\u2588\u2588     | 21/41 [00:00<00:00, 22.37it/s]"
          ]
        },
        {
          "output_type": "stream",
          "name": "stderr",
          "text": [
            "\rFold 5 Epoch 11:  59%|\u2588\u2588\u2588\u2588\u2588\u258a    | 24/41 [00:01<00:00, 22.31it/s]"
          ]
        },
        {
          "output_type": "stream",
          "name": "stdout",
          "text": [
            "Batch 20, elapsed: 0.9s\n"
          ]
        },
        {
          "output_type": "stream",
          "name": "stderr",
          "text": [
            "\rFold 5 Epoch 11:  66%|\u2588\u2588\u2588\u2588\u2588\u2588\u258c   | 27/41 [00:01<00:00, 22.42it/s]"
          ]
        },
        {
          "output_type": "stream",
          "name": "stderr",
          "text": [
            "\rFold 5 Epoch 11:  73%|\u2588\u2588\u2588\u2588\u2588\u2588\u2588\u258e  | 30/41 [00:01<00:00, 22.17it/s]"
          ]
        },
        {
          "output_type": "stream",
          "name": "stderr",
          "text": [
            "\rFold 5 Epoch 11:  80%|\u2588\u2588\u2588\u2588\u2588\u2588\u2588\u2588  | 33/41 [00:01<00:00, 22.21it/s]"
          ]
        },
        {
          "output_type": "stream",
          "name": "stdout",
          "text": [
            "Batch 30, elapsed: 1.4s\n"
          ]
        },
        {
          "output_type": "stream",
          "name": "stderr",
          "text": [
            "\rFold 5 Epoch 11:  88%|\u2588\u2588\u2588\u2588\u2588\u2588\u2588\u2588\u258a | 36/41 [00:01<00:00, 22.17it/s]"
          ]
        },
        {
          "output_type": "stream",
          "name": "stderr",
          "text": [
            "\rFold 5 Epoch 11:  95%|\u2588\u2588\u2588\u2588\u2588\u2588\u2588\u2588\u2588\u258c| 39/41 [00:01<00:00, 22.05it/s]"
          ]
        },
        {
          "output_type": "stream",
          "name": "stderr",
          "text": [
            "\rFold 5 Epoch 11: 100%|\u2588\u2588\u2588\u2588\u2588\u2588\u2588\u2588\u2588\u2588| 41/41 [00:01<00:00, 22.23it/s]"
          ]
        },
        {
          "output_type": "stream",
          "name": "stderr",
          "text": [
            "\n"
          ]
        },
        {
          "output_type": "stream",
          "name": "stdout",
          "text": [
            "Batch 40, elapsed: 1.8s\nFold 5 Epoch 11 train time: 1.8s\n"
          ]
        },
        {
          "output_type": "stream",
          "name": "stdout",
          "text": [
            "Fold 5 Epoch 11: Train 0.7098, Val 0.6792, val time: 0.2s\nEarly stop at epoch 11\nFold 5 best val loss: 0.6772\nRetraining complete. New pretrained checkpoints saved as fold_*_pretrained.pth.\n"
          ]
        }
      ]
    },
    {
      "id": "0c195da3-50d6-4960-a3ec-ecf64d83e6c4",
      "cell_type": "code",
      "metadata": {},
      "source": [
        "# Generate TTA OOF Logits for Pretrained Models (HFlip only, 320x320 to match training)\n",
        "# Save as oof_logits_convnext_pretrained.npy, etc. for downstream blending/postproc\n",
        "import torch\n",
        "import timm\n",
        "import numpy as np\n",
        "import pandas as pd\n",
        "from torch.utils.data import Dataset, DataLoader\n",
        "import albumentations as A\n",
        "from albumentations.pytorch import ToTensorV2\n",
        "from tqdm import tqdm\n",
        "import os\n",
        "device = torch.device('cuda' if torch.cuda.is_available() else 'cpu')\n",
        "N_FOLDS = 5\n",
        "IMG_SIZE = 320  # Match training size\n",
        "label_cols = ['C1','C2','C3','C4','C5','C6','C7']\n",
        "train_df = pd.read_csv('data/train_mips.csv')\n",
        "mip_dir_train = 'data/mips/train'\n",
        "class TrainMIPDataset(Dataset):\n",
        "    def __init__(self, df, mip_dir, transform):\n",
        "        self.df = df.reset_index(drop=True)\n",
        "        self.mip_dir = mip_dir\n",
        "        self.transform = transform\n",
        "    def __len__(self): return len(self.df)\n",
        "    def __getitem__(self, idx):\n",
        "        uid = self.df.iloc[idx]['StudyInstanceUID']\n",
        "        mip = np.load(os.path.join(self.mip_dir, f'{uid}.npy')).astype(np.float32)\n",
        "        img = np.transpose(mip, (1,2,0))\n",
        "        img = self.transform(image=img)['image']\n",
        "        return uid, img\n",
        "oof_transform = A.Compose([A.Resize(IMG_SIZE, IMG_SIZE), A.Normalize(mean=0.5, std=0.5), ToTensorV2()])\n",
        "oof_loader = DataLoader(TrainMIPDataset(train_df, mip_dir_train, oof_transform),\n",
        "                        batch_size=16, shuffle=False, num_workers=0, pin_memory=True)\n",
        "def build_convnext_v1():\n",
        "    return timm.create_model('convnext_tiny', pretrained=False, num_classes=7, in_chans=3,\n",
        "                             drop_rate=0.25, drop_path_rate=0.1).to(device).eval()\n",
        "def build_convnext_v2():\n",
        "    return timm.create_model('convnext_tiny', pretrained=False, num_classes=7, in_chans=3,\n",
        "                             drop_rate=0.25, drop_path_rate=0.1).to(device).eval()\n",
        "def build_regnet():\n",
        "    return timm.create_model('regnety_004', pretrained=False, num_classes=7, in_chans=3,\n",
        "                             drop_rate=0.25, drop_path_rate=0.1).to(device).eval()\n",
        "def predict_oof_backbone(ckpt_pattern, build_fn):\n",
        "    all_logits = []\n",
        "    for f in range(1, N_FOLDS+1):\n",
        "        ckpt = ckpt_pattern.format(f)\n",
        "        if not os.path.exists(ckpt):\n",
        "            print(f'Skip missing {ckpt}'); continue\n",
        "        model = build_fn()\n",
        "        sd = torch.load(ckpt, map_location='cpu', weights_only=True)\n",
        "        model.load_state_dict(sd, strict=True)\n",
        "        fold_logits = []\n",
        "        with torch.no_grad():\n",
        "            for uids, images in tqdm(oof_loader, desc=f'{ckpt_pattern} F{f}'):\n",
        "                images = images.to(device)\n",
        "                logits = model(images)\n",
        "                logits_f = model(torch.flip(images, dims=[3]))  # HFlip TTA\n",
        "                logits = 0.5 * (logits + logits_f)\n",
        "                fold_logits.append(logits.cpu().numpy())\n",
        "        all_logits.append(np.concatenate(fold_logits, axis=0))\n",
        "    if len(all_logits) == 0:\n",
        "        raise RuntimeError(f'No checkpoints for {ckpt_pattern}')\n",
        "    return np.mean(np.stack(all_logits, 0), 0)\n",
        "print('Generating OOF logits for ConvNeXt v1 pretrained...')\n",
        "oof_logits_v1 = predict_oof_backbone('fold_{}_convnext_pretrained.pth', build_convnext_v1)\n",
        "np.save('oof_logits_convnext_pretrained.npy', oof_logits_v1)\n",
        "print('Generating OOF logits for ConvNeXt v2 pretrained...')\n",
        "oof_logits_v2 = predict_oof_backbone('fold_{}_convnext_v2_pretrained.pth', build_convnext_v2)\n",
        "np.save('oof_logits_convnext_v2_pretrained.npy', oof_logits_v2)\n",
        "print('Generating OOF logits for RegNet pretrained...')\n",
        "oof_logits_reg = predict_oof_backbone('fold_{}_regnet_pretrained.pth', build_regnet)\n",
        "np.save('oof_logits_regnet_pretrained.npy', oof_logits_reg)\n",
        "print('OOF logits saved: oof_logits_*_pretrained.npy. Next: insert cell to compute new 3-way OOF WLL (target <=0.42), holdout preds/WLL; if holdout <=0.42, tune postproc on holdout (low DOF); update 03_inference_tta with new paths/320 size/HFlip TTA, execute for submission targeting LB <=0.45 medal. If holdout >0.43, request expert on coronal/Swin add or further reg.')"
      ],
      "execution_count": 3,
      "outputs": [
        {
          "output_type": "stream",
          "name": "stdout",
          "text": [
            "Generating OOF logits for ConvNeXt v1 pretrained...\n"
          ]
        },
        {
          "output_type": "stream",
          "name": "stderr",
          "text": [
            "\rfold_{}_convnext_pretrained.pth F1:   0%|          | 0/13 [00:00<?, ?it/s]"
          ]
        },
        {
          "output_type": "stream",
          "name": "stderr",
          "text": [
            "\rfold_{}_convnext_pretrained.pth F1:   8%|\u258a         | 1/13 [00:00<00:02,  5.54it/s]"
          ]
        },
        {
          "output_type": "stream",
          "name": "stderr",
          "text": [
            "\rfold_{}_convnext_pretrained.pth F1:  15%|\u2588\u258c        | 2/13 [00:00<00:01,  6.05it/s]"
          ]
        },
        {
          "output_type": "stream",
          "name": "stderr",
          "text": [
            "\rfold_{}_convnext_pretrained.pth F1:  23%|\u2588\u2588\u258e       | 3/13 [00:00<00:01,  6.62it/s]"
          ]
        },
        {
          "output_type": "stream",
          "name": "stderr",
          "text": [
            "\rfold_{}_convnext_pretrained.pth F1:  31%|\u2588\u2588\u2588       | 4/13 [00:00<00:01,  7.05it/s]"
          ]
        },
        {
          "output_type": "stream",
          "name": "stderr",
          "text": [
            "\rfold_{}_convnext_pretrained.pth F1:  38%|\u2588\u2588\u2588\u258a      | 5/13 [00:00<00:01,  7.39it/s]"
          ]
        },
        {
          "output_type": "stream",
          "name": "stderr",
          "text": [
            "\rfold_{}_convnext_pretrained.pth F1:  46%|\u2588\u2588\u2588\u2588\u258c     | 6/13 [00:00<00:00,  7.60it/s]"
          ]
        },
        {
          "output_type": "stream",
          "name": "stderr",
          "text": [
            "\rfold_{}_convnext_pretrained.pth F1:  54%|\u2588\u2588\u2588\u2588\u2588\u258d    | 7/13 [00:00<00:00,  7.72it/s]"
          ]
        },
        {
          "output_type": "stream",
          "name": "stderr",
          "text": [
            "\rfold_{}_convnext_pretrained.pth F1:  62%|\u2588\u2588\u2588\u2588\u2588\u2588\u258f   | 8/13 [00:01<00:00,  7.83it/s]"
          ]
        },
        {
          "output_type": "stream",
          "name": "stderr",
          "text": [
            "\rfold_{}_convnext_pretrained.pth F1:  69%|\u2588\u2588\u2588\u2588\u2588\u2588\u2589   | 9/13 [00:01<00:00,  7.90it/s]"
          ]
        },
        {
          "output_type": "stream",
          "name": "stderr",
          "text": [
            "\rfold_{}_convnext_pretrained.pth F1:  77%|\u2588\u2588\u2588\u2588\u2588\u2588\u2588\u258b  | 10/13 [00:01<00:00,  7.96it/s]"
          ]
        },
        {
          "output_type": "stream",
          "name": "stderr",
          "text": [
            "\rfold_{}_convnext_pretrained.pth F1:  85%|\u2588\u2588\u2588\u2588\u2588\u2588\u2588\u2588\u258d | 11/13 [00:01<00:00,  7.99it/s]"
          ]
        },
        {
          "output_type": "stream",
          "name": "stderr",
          "text": [
            "\rfold_{}_convnext_pretrained.pth F1:  92%|\u2588\u2588\u2588\u2588\u2588\u2588\u2588\u2588\u2588\u258f| 12/13 [00:01<00:00,  8.00it/s]"
          ]
        },
        {
          "output_type": "stream",
          "name": "stderr",
          "text": [
            "\rfold_{}_convnext_pretrained.pth F1: 100%|\u2588\u2588\u2588\u2588\u2588\u2588\u2588\u2588\u2588\u2588| 13/13 [00:01<00:00,  7.78it/s]"
          ]
        },
        {
          "output_type": "stream",
          "name": "stderr",
          "text": [
            "\n"
          ]
        },
        {
          "output_type": "stream",
          "name": "stderr",
          "text": [
            "\rfold_{}_convnext_pretrained.pth F2:   0%|          | 0/13 [00:00<?, ?it/s]"
          ]
        },
        {
          "output_type": "stream",
          "name": "stderr",
          "text": [
            "\rfold_{}_convnext_pretrained.pth F2:   8%|\u258a         | 1/13 [00:00<00:01,  7.99it/s]"
          ]
        },
        {
          "output_type": "stream",
          "name": "stderr",
          "text": [
            "\rfold_{}_convnext_pretrained.pth F2:  15%|\u2588\u258c        | 2/13 [00:00<00:01,  7.90it/s]"
          ]
        },
        {
          "output_type": "stream",
          "name": "stderr",
          "text": [
            "\rfold_{}_convnext_pretrained.pth F2:  23%|\u2588\u2588\u258e       | 3/13 [00:00<00:01,  7.83it/s]"
          ]
        },
        {
          "output_type": "stream",
          "name": "stderr",
          "text": [
            "\rfold_{}_convnext_pretrained.pth F2:  31%|\u2588\u2588\u2588       | 4/13 [00:00<00:01,  7.77it/s]"
          ]
        },
        {
          "output_type": "stream",
          "name": "stderr",
          "text": [
            "\rfold_{}_convnext_pretrained.pth F2:  38%|\u2588\u2588\u2588\u258a      | 5/13 [00:00<00:01,  7.75it/s]"
          ]
        },
        {
          "output_type": "stream",
          "name": "stderr",
          "text": [
            "\rfold_{}_convnext_pretrained.pth F2:  46%|\u2588\u2588\u2588\u2588\u258c     | 6/13 [00:00<00:00,  7.75it/s]"
          ]
        },
        {
          "output_type": "stream",
          "name": "stderr",
          "text": [
            "\rfold_{}_convnext_pretrained.pth F2:  54%|\u2588\u2588\u2588\u2588\u2588\u258d    | 7/13 [00:00<00:00,  7.76it/s]"
          ]
        },
        {
          "output_type": "stream",
          "name": "stderr",
          "text": [
            "\rfold_{}_convnext_pretrained.pth F2:  62%|\u2588\u2588\u2588\u2588\u2588\u2588\u258f   | 8/13 [00:01<00:00,  7.77it/s]"
          ]
        },
        {
          "output_type": "stream",
          "name": "stderr",
          "text": [
            "\rfold_{}_convnext_pretrained.pth F2:  69%|\u2588\u2588\u2588\u2588\u2588\u2588\u2589   | 9/13 [00:01<00:00,  7.75it/s]"
          ]
        },
        {
          "output_type": "stream",
          "name": "stderr",
          "text": [
            "\rfold_{}_convnext_pretrained.pth F2:  77%|\u2588\u2588\u2588\u2588\u2588\u2588\u2588\u258b  | 10/13 [00:01<00:00,  7.76it/s]"
          ]
        },
        {
          "output_type": "stream",
          "name": "stderr",
          "text": [
            "\rfold_{}_convnext_pretrained.pth F2:  85%|\u2588\u2588\u2588\u2588\u2588\u2588\u2588\u2588\u258d | 11/13 [00:01<00:00,  7.76it/s]"
          ]
        },
        {
          "output_type": "stream",
          "name": "stderr",
          "text": [
            "\rfold_{}_convnext_pretrained.pth F2:  92%|\u2588\u2588\u2588\u2588\u2588\u2588\u2588\u2588\u2588\u258f| 12/13 [00:01<00:00,  7.76it/s]"
          ]
        },
        {
          "output_type": "stream",
          "name": "stderr",
          "text": [
            "\rfold_{}_convnext_pretrained.pth F2: 100%|\u2588\u2588\u2588\u2588\u2588\u2588\u2588\u2588\u2588\u2588| 13/13 [00:01<00:00,  8.00it/s]"
          ]
        },
        {
          "output_type": "stream",
          "name": "stderr",
          "text": [
            "\n"
          ]
        },
        {
          "output_type": "stream",
          "name": "stderr",
          "text": [
            "\rfold_{}_convnext_pretrained.pth F3:   0%|          | 0/13 [00:00<?, ?it/s]"
          ]
        },
        {
          "output_type": "stream",
          "name": "stderr",
          "text": [
            "\rfold_{}_convnext_pretrained.pth F3:   8%|\u258a         | 1/13 [00:00<00:01,  8.42it/s]"
          ]
        },
        {
          "output_type": "stream",
          "name": "stderr",
          "text": [
            "\rfold_{}_convnext_pretrained.pth F3:  15%|\u2588\u258c        | 2/13 [00:00<00:01,  8.28it/s]"
          ]
        },
        {
          "output_type": "stream",
          "name": "stderr",
          "text": [
            "\rfold_{}_convnext_pretrained.pth F3:  23%|\u2588\u2588\u258e       | 3/13 [00:00<00:01,  8.25it/s]"
          ]
        },
        {
          "output_type": "stream",
          "name": "stderr",
          "text": [
            "\rfold_{}_convnext_pretrained.pth F3:  31%|\u2588\u2588\u2588       | 4/13 [00:00<00:01,  8.19it/s]"
          ]
        },
        {
          "output_type": "stream",
          "name": "stderr",
          "text": [
            "\rfold_{}_convnext_pretrained.pth F3:  38%|\u2588\u2588\u2588\u258a      | 5/13 [00:00<00:00,  8.15it/s]"
          ]
        },
        {
          "output_type": "stream",
          "name": "stderr",
          "text": [
            "\rfold_{}_convnext_pretrained.pth F4:   0%|          | 0/13 [00:00<?, ?it/s]"
          ]
        },
        {
          "output_type": "stream",
          "name": "stderr",
          "text": [
            "\rfold_{}_convnext_pretrained.pth F4:   8%|\u258a         | 1/13 [00:00<00:01,  8.28it/s]"
          ]
        },
        {
          "output_type": "stream",
          "name": "stderr",
          "text": [
            "\rfold_{}_convnext_pretrained.pth F4:  15%|\u2588\u258c        | 2/13 [00:00<00:01,  8.12it/s]"
          ]
        },
        {
          "output_type": "stream",
          "name": "stderr",
          "text": [
            "\rfold_{}_convnext_pretrained.pth F4:  23%|\u2588\u2588\u258e       | 3/13 [00:00<00:01,  8.06it/s]"
          ]
        },
        {
          "output_type": "stream",
          "name": "stderr",
          "text": [
            "\rfold_{}_convnext_pretrained.pth F4:  31%|\u2588\u2588\u2588       | 4/13 [00:00<00:01,  8.07it/s]"
          ]
        },
        {
          "output_type": "stream",
          "name": "stderr",
          "text": [
            "\rfold_{}_convnext_pretrained.pth F4:  38%|\u2588\u2588\u2588\u258a      | 5/13 [00:00<00:00,  8.08it/s]"
          ]
        },
        {
          "output_type": "stream",
          "name": "stderr",
          "text": [
            "\rfold_{}_convnext_pretrained.pth F4:  46%|\u2588\u2588\u2588\u2588\u258c     | 6/13 [00:00<00:00,  8.09it/s]"
          ]
        },
        {
          "output_type": "stream",
          "name": "stderr",
          "text": [
            "\rfold_{}_convnext_pretrained.pth F4:  54%|\u2588\u2588\u2588\u2588\u2588\u258d    | 7/13 [00:00<00:00,  8.09it/s]"
          ]
        },
        {
          "output_type": "stream",
          "name": "stderr",
          "text": [
            "\rfold_{}_convnext_pretrained.pth F4:  62%|\u2588\u2588\u2588\u2588\u2588\u2588\u258f   | 8/13 [00:00<00:00,  8.08it/s]"
          ]
        },
        {
          "output_type": "stream",
          "name": "stderr",
          "text": [
            "\rfold_{}_convnext_pretrained.pth F4:  69%|\u2588\u2588\u2588\u2588\u2588\u2588\u2589   | 9/13 [00:01<00:00,  8.09it/s]"
          ]
        },
        {
          "output_type": "stream",
          "name": "stderr",
          "text": [
            "\rfold_{}_convnext_pretrained.pth F4:  77%|\u2588\u2588\u2588\u2588\u2588\u2588\u2588\u258b  | 10/13 [00:01<00:00,  8.09it/s]"
          ]
        },
        {
          "output_type": "stream",
          "name": "stderr",
          "text": [
            "\rfold_{}_convnext_pretrained.pth F4:  85%|\u2588\u2588\u2588\u2588\u2588\u2588\u2588\u2588\u258d | 11/13 [00:01<00:00,  8.10it/s]"
          ]
        },
        {
          "output_type": "stream",
          "name": "stderr",
          "text": [
            "\rfold_{}_convnext_pretrained.pth F4:  92%|\u2588\u2588\u2588\u2588\u2588\u2588\u2588\u2588\u2588\u258f| 12/13 [00:01<00:00,  8.16it/s]"
          ]
        },
        {
          "output_type": "stream",
          "name": "stderr",
          "text": [
            "\rfold_{}_convnext_pretrained.pth F4: 100%|\u2588\u2588\u2588\u2588\u2588\u2588\u2588\u2588\u2588\u2588| 13/13 [00:01<00:00,  8.35it/s]"
          ]
        },
        {
          "output_type": "stream",
          "name": "stderr",
          "text": [
            "\n"
          ]
        },
        {
          "output_type": "stream",
          "name": "stderr",
          "text": [
            "\rfold_{}_convnext_pretrained.pth F5:   0%|          | 0/13 [00:00<?, ?it/s]"
          ]
        },
        {
          "output_type": "stream",
          "name": "stderr",
          "text": [
            "\rfold_{}_convnext_pretrained.pth F5:   8%|\u258a         | 1/13 [00:00<00:01,  8.32it/s]"
          ]
        },
        {
          "output_type": "stream",
          "name": "stderr",
          "text": [
            "\rfold_{}_convnext_pretrained.pth F5:  15%|\u2588\u258c        | 2/13 [00:00<00:01,  8.24it/s]"
          ]
        },
        {
          "output_type": "stream",
          "name": "stderr",
          "text": [
            "\rfold_{}_convnext_pretrained.pth F5:  23%|\u2588\u2588\u258e       | 3/13 [00:00<00:01,  8.19it/s]"
          ]
        },
        {
          "output_type": "stream",
          "name": "stderr",
          "text": [
            "\rfold_{}_convnext_pretrained.pth F5:  31%|\u2588\u2588\u2588       | 4/13 [00:00<00:01,  8.17it/s]"
          ]
        },
        {
          "output_type": "stream",
          "name": "stderr",
          "text": [
            "\rfold_{}_convnext_pretrained.pth F5:  38%|\u2588\u2588\u2588\u258a      | 5/13 [00:00<00:00,  8.16it/s]"
          ]
        },
        {
          "output_type": "stream",
          "name": "stderr",
          "text": [
            "\rfold_{}_convnext_pretrained.pth F5:  46%|\u2588\u2588\u2588\u2588\u258c     | 6/13 [00:00<00:00,  8.15it/s]"
          ]
        },
        {
          "output_type": "stream",
          "name": "stderr",
          "text": [
            "\rfold_{}_convnext_pretrained.pth F5:  54%|\u2588\u2588\u2588\u2588\u2588\u258d    | 7/13 [00:00<00:00,  8.14it/s]"
          ]
        },
        {
          "output_type": "stream",
          "name": "stderr",
          "text": [
            "\rfold_{}_convnext_pretrained.pth F5:  62%|\u2588\u2588\u2588\u2588\u2588\u2588\u258f   | 8/13 [00:00<00:00,  8.16it/s]"
          ]
        },
        {
          "output_type": "stream",
          "name": "stderr",
          "text": [
            "\rfold_{}_convnext_pretrained.pth F5:  69%|\u2588\u2588\u2588\u2588\u2588\u2588\u2589   | 9/13 [00:01<00:00,  8.15it/s]"
          ]
        },
        {
          "output_type": "stream",
          "name": "stderr",
          "text": [
            "\rfold_{}_convnext_pretrained.pth F5:  77%|\u2588\u2588\u2588\u2588\u2588\u2588\u2588\u258b  | 10/13 [00:01<00:00,  8.14it/s]"
          ]
        },
        {
          "output_type": "stream",
          "name": "stderr",
          "text": [
            "\rfold_{}_convnext_pretrained.pth F5:  85%|\u2588\u2588\u2588\u2588\u2588\u2588\u2588\u2588\u258d | 11/13 [00:01<00:00,  8.15it/s]"
          ]
        },
        {
          "output_type": "stream",
          "name": "stderr",
          "text": [
            "\rfold_{}_convnext_pretrained.pth F5:  92%|\u2588\u2588\u2588\u2588\u2588\u2588\u2588\u2588\u2588\u258f| 12/13 [00:01<00:00,  8.15it/s]"
          ]
        },
        {
          "output_type": "stream",
          "name": "stderr",
          "text": [
            "\rfold_{}_convnext_pretrained.pth F5: 100%|\u2588\u2588\u2588\u2588\u2588\u2588\u2588\u2588\u2588\u2588| 13/13 [00:01<00:00,  8.39it/s]"
          ]
        },
        {
          "output_type": "stream",
          "name": "stderr",
          "text": [
            "\n"
          ]
        },
        {
          "output_type": "stream",
          "name": "stdout",
          "text": [
            "Generating OOF logits for ConvNeXt v2 pretrained...\n"
          ]
        },
        {
          "output_type": "stream",
          "name": "stderr",
          "text": [
            "\rfold_{}_convnext_v2_pretrained.pth F1:   0%|          | 0/13 [00:00<?, ?it/s]"
          ]
        },
        {
          "output_type": "stream",
          "name": "stderr",
          "text": [
            "\rfold_{}_convnext_v2_pretrained.pth F1:   8%|\u258a         | 1/13 [00:00<00:01,  7.85it/s]"
          ]
        },
        {
          "output_type": "stream",
          "name": "stderr",
          "text": [
            "\rfold_{}_convnext_v2_pretrained.pth F1:  15%|\u2588\u258c        | 2/13 [00:00<00:01,  7.77it/s]"
          ]
        },
        {
          "output_type": "stream",
          "name": "stderr",
          "text": [
            "\rfold_{}_convnext_v2_pretrained.pth F1:  23%|\u2588\u2588\u258e       | 3/13 [00:00<00:01,  7.75it/s]"
          ]
        },
        {
          "output_type": "stream",
          "name": "stderr",
          "text": [
            "\rfold_{}_convnext_v2_pretrained.pth F1:  31%|\u2588\u2588\u2588       | 4/13 [00:00<00:01,  7.75it/s]"
          ]
        },
        {
          "output_type": "stream",
          "name": "stderr",
          "text": [
            "\rfold_{}_convnext_v2_pretrained.pth F1:  38%|\u2588\u2588\u2588\u258a      | 5/13 [00:00<00:01,  7.74it/s]"
          ]
        },
        {
          "output_type": "stream",
          "name": "stderr",
          "text": [
            "\rfold_{}_convnext_v2_pretrained.pth F1:  46%|\u2588\u2588\u2588\u2588\u258c     | 6/13 [00:00<00:00,  7.73it/s]"
          ]
        },
        {
          "output_type": "stream",
          "name": "stderr",
          "text": [
            "\rfold_{}_convnext_v2_pretrained.pth F1:  54%|\u2588\u2588\u2588\u2588\u2588\u258d    | 7/13 [00:00<00:00,  7.73it/s]"
          ]
        },
        {
          "output_type": "stream",
          "name": "stderr",
          "text": [
            "\rfold_{}_convnext_v2_pretrained.pth F1:  62%|\u2588\u2588\u2588\u2588\u2588\u2588\u258f   | 8/13 [00:01<00:00,  7.72it/s]"
          ]
        },
        {
          "output_type": "stream",
          "name": "stderr",
          "text": [
            "\rfold_{}_convnext_v2_pretrained.pth F1:  69%|\u2588\u2588\u2588\u2588\u2588\u2588\u2589   | 9/13 [00:01<00:00,  7.74it/s]"
          ]
        },
        {
          "output_type": "stream",
          "name": "stderr",
          "text": [
            "\rfold_{}_convnext_v2_pretrained.pth F1:  77%|\u2588\u2588\u2588\u2588\u2588\u2588\u2588\u258b  | 10/13 [00:01<00:00,  7.80it/s]"
          ]
        },
        {
          "output_type": "stream",
          "name": "stderr",
          "text": [
            "\rfold_{}_convnext_v2_pretrained.pth F1:  85%|\u2588\u2588\u2588\u2588\u2588\u2588\u2588\u2588\u258d | 11/13 [00:01<00:00,  7.82it/s]"
          ]
        },
        {
          "output_type": "stream",
          "name": "stderr",
          "text": [
            "\rfold_{}_convnext_v2_pretrained.pth F1:  92%|\u2588\u2588\u2588\u2588\u2588\u2588\u2588\u2588\u2588\u258f| 12/13 [00:01<00:00,  7.84it/s]"
          ]
        },
        {
          "output_type": "stream",
          "name": "stderr",
          "text": [
            "\rfold_{}_convnext_v2_pretrained.pth F1: 100%|\u2588\u2588\u2588\u2588\u2588\u2588\u2588\u2588\u2588\u2588| 13/13 [00:01<00:00,  8.01it/s]"
          ]
        },
        {
          "output_type": "stream",
          "name": "stderr",
          "text": [
            "\n"
          ]
        },
        {
          "output_type": "stream",
          "name": "stderr",
          "text": [
            "\rfold_{}_convnext_v2_pretrained.pth F2:   0%|          | 0/13 [00:00<?, ?it/s]"
          ]
        },
        {
          "output_type": "stream",
          "name": "stderr",
          "text": [
            "\rfold_{}_convnext_v2_pretrained.pth F2:   8%|\u258a         | 1/13 [00:00<00:01,  8.53it/s]"
          ]
        },
        {
          "output_type": "stream",
          "name": "stderr",
          "text": [
            "\rfold_{}_convnext_v2_pretrained.pth F2:  15%|\u2588\u258c        | 2/13 [00:00<00:01,  8.33it/s]"
          ]
        },
        {
          "output_type": "stream",
          "name": "stderr",
          "text": [
            "\rfold_{}_convnext_v2_pretrained.pth F2:  23%|\u2588\u2588\u258e       | 3/13 [00:00<00:01,  8.32it/s]"
          ]
        },
        {
          "output_type": "stream",
          "name": "stderr",
          "text": [
            "\rfold_{}_convnext_v2_pretrained.pth F2:  31%|\u2588\u2588\u2588       | 4/13 [00:00<00:01,  8.31it/s]"
          ]
        },
        {
          "output_type": "stream",
          "name": "stderr",
          "text": [
            "\rfold_{}_convnext_v2_pretrained.pth F2:  38%|\u2588\u2588\u2588\u258a      | 5/13 [00:00<00:00,  8.31it/s]"
          ]
        },
        {
          "output_type": "stream",
          "name": "stderr",
          "text": [
            "\rfold_{}_convnext_v2_pretrained.pth F2:  46%|\u2588\u2588\u2588\u2588\u258c     | 6/13 [00:00<00:00,  8.30it/s]"
          ]
        },
        {
          "output_type": "stream",
          "name": "stderr",
          "text": [
            "\rfold_{}_convnext_v2_pretrained.pth F2:  54%|\u2588\u2588\u2588\u2588\u2588\u258d    | 7/13 [00:00<00:00,  8.30it/s]"
          ]
        },
        {
          "output_type": "stream",
          "name": "stderr",
          "text": [
            "\rfold_{}_convnext_v2_pretrained.pth F2:  62%|\u2588\u2588\u2588\u2588\u2588\u2588\u258f   | 8/13 [00:00<00:00,  8.29it/s]"
          ]
        },
        {
          "output_type": "stream",
          "name": "stderr",
          "text": [
            "\rfold_{}_convnext_v2_pretrained.pth F2:  69%|\u2588\u2588\u2588\u2588\u2588\u2588\u2589   | 9/13 [00:01<00:00,  8.25it/s]"
          ]
        },
        {
          "output_type": "stream",
          "name": "stderr",
          "text": [
            "\rfold_{}_convnext_v2_pretrained.pth F2:  77%|\u2588\u2588\u2588\u2588\u2588\u2588\u2588\u258b  | 10/13 [00:01<00:00,  8.25it/s]"
          ]
        },
        {
          "output_type": "stream",
          "name": "stderr",
          "text": [
            "\rfold_{}_convnext_v2_pretrained.pth F2:  85%|\u2588\u2588\u2588\u2588\u2588\u2588\u2588\u2588\u258d | 11/13 [00:01<00:00,  8.27it/s]"
          ]
        },
        {
          "output_type": "stream",
          "name": "stderr",
          "text": [
            "\rfold_{}_convnext_v2_pretrained.pth F2:  92%|\u2588\u2588\u2588\u2588\u2588\u2588\u2588\u2588\u2588\u258f| 12/13 [00:01<00:00,  8.28it/s]"
          ]
        },
        {
          "output_type": "stream",
          "name": "stderr",
          "text": [
            "\rfold_{}_convnext_v2_pretrained.pth F2: 100%|\u2588\u2588\u2588\u2588\u2588\u2588\u2588\u2588\u2588\u2588| 13/13 [00:01<00:00,  8.54it/s]"
          ]
        },
        {
          "output_type": "stream",
          "name": "stderr",
          "text": [
            "\n"
          ]
        },
        {
          "output_type": "stream",
          "name": "stderr",
          "text": [
            "\rfold_{}_convnext_v2_pretrained.pth F3:   0%|          | 0/13 [00:00<?, ?it/s]"
          ]
        },
        {
          "output_type": "stream",
          "name": "stderr",
          "text": [
            "\rfold_{}_convnext_v2_pretrained.pth F3:   8%|\u258a         | 1/13 [00:00<00:01,  8.40it/s]"
          ]
        },
        {
          "output_type": "stream",
          "name": "stderr",
          "text": [
            "\rfold_{}_convnext_v2_pretrained.pth F3:  15%|\u2588\u258c        | 2/13 [00:00<00:01,  8.27it/s]"
          ]
        },
        {
          "output_type": "stream",
          "name": "stderr",
          "text": [
            "\rfold_{}_convnext_v2_pretrained.pth F3:  23%|\u2588\u2588\u258e       | 3/13 [00:00<00:01,  8.23it/s]"
          ]
        },
        {
          "output_type": "stream",
          "name": "stderr",
          "text": [
            "\rfold_{}_convnext_v2_pretrained.pth F3:  31%|\u2588\u2588\u2588       | 4/13 [00:00<00:01,  8.21it/s]"
          ]
        },
        {
          "output_type": "stream",
          "name": "stderr",
          "text": [
            "\rfold_{}_convnext_v2_pretrained.pth F3:  38%|\u2588\u2588\u2588\u258a      | 5/13 [00:00<00:00,  8.21it/s]"
          ]
        },
        {
          "output_type": "stream",
          "name": "stderr",
          "text": [
            "\rfold_{}_convnext_v2_pretrained.pth F3:  46%|\u2588\u2588\u2588\u2588\u258c     | 6/13 [00:00<00:00,  8.20it/s]"
          ]
        },
        {
          "output_type": "stream",
          "name": "stderr",
          "text": [
            "\rfold_{}_convnext_v2_pretrained.pth F3:  54%|\u2588\u2588\u2588\u2588\u2588\u258d    | 7/13 [00:00<00:00,  8.19it/s]"
          ]
        },
        {
          "output_type": "stream",
          "name": "stderr",
          "text": [
            "\rfold_{}_convnext_v2_pretrained.pth F3:  62%|\u2588\u2588\u2588\u2588\u2588\u2588\u258f   | 8/13 [00:00<00:00,  8.20it/s]"
          ]
        },
        {
          "output_type": "stream",
          "name": "stderr",
          "text": [
            "\rfold_{}_convnext_v2_pretrained.pth F3:  69%|\u2588\u2588\u2588\u2588\u2588\u2588\u2589   | 9/13 [00:01<00:00,  8.18it/s]"
          ]
        },
        {
          "output_type": "stream",
          "name": "stderr",
          "text": [
            "\rfold_{}_convnext_v2_pretrained.pth F3:  77%|\u2588\u2588\u2588\u2588\u2588\u2588\u2588\u258b  | 10/13 [00:01<00:00,  8.20it/s]"
          ]
        },
        {
          "output_type": "stream",
          "name": "stderr",
          "text": [
            "\rfold_{}_convnext_v2_pretrained.pth F3:  85%|\u2588\u2588\u2588\u2588\u2588\u2588\u2588\u2588\u258d | 11/13 [00:01<00:00,  8.19it/s]"
          ]
        },
        {
          "output_type": "stream",
          "name": "stderr",
          "text": [
            "\rfold_{}_convnext_v2_pretrained.pth F3:  92%|\u2588\u2588\u2588\u2588\u2588\u2588\u2588\u2588\u2588\u258f| 12/13 [00:01<00:00,  8.18it/s]"
          ]
        },
        {
          "output_type": "stream",
          "name": "stderr",
          "text": [
            "\rfold_{}_convnext_v2_pretrained.pth F3: 100%|\u2588\u2588\u2588\u2588\u2588\u2588\u2588\u2588\u2588\u2588| 13/13 [00:01<00:00,  8.43it/s]"
          ]
        },
        {
          "output_type": "stream",
          "name": "stderr",
          "text": [
            "\n"
          ]
        },
        {
          "output_type": "stream",
          "name": "stderr",
          "text": [
            "\rfold_{}_convnext_v2_pretrained.pth F4:   0%|          | 0/13 [00:00<?, ?it/s]"
          ]
        },
        {
          "output_type": "stream",
          "name": "stderr",
          "text": [
            "\rfold_{}_convnext_v2_pretrained.pth F4:   8%|\u258a         | 1/13 [00:00<00:01,  8.46it/s]"
          ]
        },
        {
          "output_type": "stream",
          "name": "stderr",
          "text": [
            "\rfold_{}_convnext_v2_pretrained.pth F4:  15%|\u2588\u258c        | 2/13 [00:00<00:01,  7.98it/s]"
          ]
        },
        {
          "output_type": "stream",
          "name": "stderr",
          "text": [
            "\rfold_{}_convnext_v2_pretrained.pth F4:  23%|\u2588\u2588\u258e       | 3/13 [00:00<00:01,  7.82it/s]"
          ]
        },
        {
          "output_type": "stream",
          "name": "stderr",
          "text": [
            "\rfold_{}_convnext_v2_pretrained.pth F4:  31%|\u2588\u2588\u2588       | 4/13 [00:00<00:01,  7.78it/s]"
          ]
        },
        {
          "output_type": "stream",
          "name": "stderr",
          "text": [
            "\rfold_{}_convnext_v2_pretrained.pth F4:  38%|\u2588\u2588\u2588\u258a      | 5/13 [00:00<00:01,  7.77it/s]"
          ]
        },
        {
          "output_type": "stream",
          "name": "stderr",
          "text": [
            "\rfold_{}_convnext_v2_pretrained.pth F4:  46%|\u2588\u2588\u2588\u2588\u258c     | 6/13 [00:00<00:00,  7.76it/s]"
          ]
        },
        {
          "output_type": "stream",
          "name": "stderr",
          "text": [
            "\rfold_{}_convnext_v2_pretrained.pth F4:  54%|\u2588\u2588\u2588\u2588\u2588\u258d    | 7/13 [00:00<00:00,  7.76it/s]"
          ]
        },
        {
          "output_type": "stream",
          "name": "stderr",
          "text": [
            "\rfold_{}_convnext_v2_pretrained.pth F4:  62%|\u2588\u2588\u2588\u2588\u2588\u2588\u258f   | 8/13 [00:01<00:00,  7.74it/s]"
          ]
        },
        {
          "output_type": "stream",
          "name": "stderr",
          "text": [
            "\rfold_{}_convnext_v2_pretrained.pth F4:  69%|\u2588\u2588\u2588\u2588\u2588\u2588\u2589   | 9/13 [00:01<00:00,  7.74it/s]"
          ]
        },
        {
          "output_type": "stream",
          "name": "stderr",
          "text": [
            "\rfold_{}_convnext_v2_pretrained.pth F4:  77%|\u2588\u2588\u2588\u2588\u2588\u2588\u2588\u258b  | 10/13 [00:01<00:00,  7.74it/s]"
          ]
        },
        {
          "output_type": "stream",
          "name": "stderr",
          "text": [
            "\rfold_{}_convnext_v2_pretrained.pth F4:  85%|\u2588\u2588\u2588\u2588\u2588\u2588\u2588\u2588\u258d | 11/13 [00:01<00:00,  7.74it/s]"
          ]
        },
        {
          "output_type": "stream",
          "name": "stderr",
          "text": [
            "\rfold_{}_convnext_v2_pretrained.pth F4:  92%|\u2588\u2588\u2588\u2588\u2588\u2588\u2588\u2588\u2588\u258f| 12/13 [00:01<00:00,  7.75it/s]"
          ]
        },
        {
          "output_type": "stream",
          "name": "stderr",
          "text": [
            "\rfold_{}_convnext_v2_pretrained.pth F4: 100%|\u2588\u2588\u2588\u2588\u2588\u2588\u2588\u2588\u2588\u2588| 13/13 [00:01<00:00,  8.00it/s]"
          ]
        },
        {
          "output_type": "stream",
          "name": "stderr",
          "text": [
            "\n"
          ]
        },
        {
          "output_type": "stream",
          "name": "stderr",
          "text": [
            "\rfold_{}_convnext_v2_pretrained.pth F5:   0%|          | 0/13 [00:00<?, ?it/s]"
          ]
        },
        {
          "output_type": "stream",
          "name": "stderr",
          "text": [
            "\rfold_{}_convnext_v2_pretrained.pth F5:   8%|\u258a         | 1/13 [00:00<00:01,  8.51it/s]"
          ]
        },
        {
          "output_type": "stream",
          "name": "stderr",
          "text": [
            "\rfold_{}_convnext_v2_pretrained.pth F5:  15%|\u2588\u258c        | 2/13 [00:00<00:01,  8.41it/s]"
          ]
        },
        {
          "output_type": "stream",
          "name": "stderr",
          "text": [
            "\rfold_{}_convnext_v2_pretrained.pth F5:  23%|\u2588\u2588\u258e       | 3/13 [00:00<00:01,  8.38it/s]"
          ]
        },
        {
          "output_type": "stream",
          "name": "stderr",
          "text": [
            "\rfold_{}_convnext_v2_pretrained.pth F5:  31%|\u2588\u2588\u2588       | 4/13 [00:00<00:01,  8.34it/s]"
          ]
        },
        {
          "output_type": "stream",
          "name": "stderr",
          "text": [
            "\rfold_{}_convnext_v2_pretrained.pth F5:  38%|\u2588\u2588\u2588\u258a      | 5/13 [00:00<00:00,  8.31it/s]"
          ]
        },
        {
          "output_type": "stream",
          "name": "stderr",
          "text": [
            "\rfold_{}_convnext_v2_pretrained.pth F5:  46%|\u2588\u2588\u2588\u2588\u258c     | 6/13 [00:00<00:00,  8.31it/s]"
          ]
        },
        {
          "output_type": "stream",
          "name": "stderr",
          "text": [
            "\rfold_{}_convnext_v2_pretrained.pth F5:  54%|\u2588\u2588\u2588\u2588\u2588\u258d    | 7/13 [00:00<00:00,  8.31it/s]"
          ]
        },
        {
          "output_type": "stream",
          "name": "stderr",
          "text": [
            "\rfold_{}_convnext_v2_pretrained.pth F5:  62%|\u2588\u2588\u2588\u2588\u2588\u2588\u258f   | 8/13 [00:00<00:00,  8.32it/s]"
          ]
        },
        {
          "output_type": "stream",
          "name": "stderr",
          "text": [
            "\rfold_{}_convnext_v2_pretrained.pth F5:  69%|\u2588\u2588\u2588\u2588\u2588\u2588\u2589   | 9/13 [00:01<00:00,  8.32it/s]"
          ]
        },
        {
          "output_type": "stream",
          "name": "stderr",
          "text": [
            "\rfold_{}_convnext_v2_pretrained.pth F5:  77%|\u2588\u2588\u2588\u2588\u2588\u2588\u2588\u258b  | 10/13 [00:01<00:00,  8.29it/s]"
          ]
        },
        {
          "output_type": "stream",
          "name": "stderr",
          "text": [
            "\rfold_{}_convnext_v2_pretrained.pth F5:  85%|\u2588\u2588\u2588\u2588\u2588\u2588\u2588\u2588\u258d | 11/13 [00:01<00:00,  8.28it/s]"
          ]
        },
        {
          "output_type": "stream",
          "name": "stderr",
          "text": [
            "\rfold_{}_convnext_v2_pretrained.pth F5:  92%|\u2588\u2588\u2588\u2588\u2588\u2588\u2588\u2588\u2588\u258f| 12/13 [00:01<00:00,  8.28it/s]"
          ]
        },
        {
          "output_type": "stream",
          "name": "stderr",
          "text": [
            "\rfold_{}_convnext_v2_pretrained.pth F5: 100%|\u2588\u2588\u2588\u2588\u2588\u2588\u2588\u2588\u2588\u2588| 13/13 [00:01<00:00,  8.55it/s]"
          ]
        },
        {
          "output_type": "stream",
          "name": "stderr",
          "text": [
            "\n"
          ]
        },
        {
          "output_type": "stream",
          "name": "stdout",
          "text": [
            "Generating OOF logits for RegNet pretrained...\n"
          ]
        },
        {
          "output_type": "stream",
          "name": "stderr",
          "text": [
            "\rfold_{}_regnet_pretrained.pth F1:   0%|          | 0/13 [00:00<?, ?it/s]"
          ]
        },
        {
          "output_type": "stream",
          "name": "stderr",
          "text": [
            "\rfold_{}_regnet_pretrained.pth F1:  15%|\u2588\u258c        | 2/13 [00:00<00:00, 12.64it/s]"
          ]
        },
        {
          "output_type": "stream",
          "name": "stderr",
          "text": [
            "\rfold_{}_regnet_pretrained.pth F1:  31%|\u2588\u2588\u2588       | 4/13 [00:00<00:00, 14.68it/s]"
          ]
        },
        {
          "output_type": "stream",
          "name": "stderr",
          "text": [
            "\rfold_{}_regnet_pretrained.pth F1:  46%|\u2588\u2588\u2588\u2588\u258c     | 6/13 [00:00<00:00, 15.61it/s]"
          ]
        },
        {
          "output_type": "stream",
          "name": "stderr",
          "text": [
            "\rfold_{}_regnet_pretrained.pth F1:  62%|\u2588\u2588\u2588\u2588\u2588\u2588\u258f   | 8/13 [00:00<00:00, 15.69it/s]"
          ]
        },
        {
          "output_type": "stream",
          "name": "stderr",
          "text": [
            "\rfold_{}_regnet_pretrained.pth F1:  77%|\u2588\u2588\u2588\u2588\u2588\u2588\u2588\u258b  | 10/13 [00:00<00:00, 15.66it/s]"
          ]
        },
        {
          "output_type": "stream",
          "name": "stderr",
          "text": [
            "\rfold_{}_regnet_pretrained.pth F1:  92%|\u2588\u2588\u2588\u2588\u2588\u2588\u2588\u2588\u2588\u258f| 12/13 [00:00<00:00, 15.69it/s]"
          ]
        },
        {
          "output_type": "stream",
          "name": "stderr",
          "text": [
            "\rfold_{}_regnet_pretrained.pth F1: 100%|\u2588\u2588\u2588\u2588\u2588\u2588\u2588\u2588\u2588\u2588| 13/13 [00:00<00:00, 15.29it/s]"
          ]
        },
        {
          "output_type": "stream",
          "name": "stderr",
          "text": [
            "\n"
          ]
        },
        {
          "output_type": "stream",
          "name": "stderr",
          "text": [
            "\rfold_{}_regnet_pretrained.pth F2:   0%|          | 0/13 [00:00<?, ?it/s]"
          ]
        },
        {
          "output_type": "stream",
          "name": "stderr",
          "text": [
            "\rfold_{}_regnet_pretrained.pth F2:  15%|\u2588\u258c        | 2/13 [00:00<00:00, 15.87it/s]"
          ]
        },
        {
          "output_type": "stream",
          "name": "stderr",
          "text": [
            "\rfold_{}_regnet_pretrained.pth F2:  31%|\u2588\u2588\u2588       | 4/13 [00:00<00:00, 16.20it/s]"
          ]
        },
        {
          "output_type": "stream",
          "name": "stderr",
          "text": [
            "\rfold_{}_regnet_pretrained.pth F2:  46%|\u2588\u2588\u2588\u2588\u258c     | 6/13 [00:00<00:00, 16.02it/s]"
          ]
        },
        {
          "output_type": "stream",
          "name": "stderr",
          "text": [
            "\rfold_{}_regnet_pretrained.pth F2:  62%|\u2588\u2588\u2588\u2588\u2588\u2588\u258f   | 8/13 [00:00<00:00, 15.99it/s]"
          ]
        },
        {
          "output_type": "stream",
          "name": "stderr",
          "text": [
            "\rfold_{}_regnet_pretrained.pth F2:  77%|\u2588\u2588\u2588\u2588\u2588\u2588\u2588\u258b  | 10/13 [00:00<00:00, 15.92it/s]"
          ]
        },
        {
          "output_type": "stream",
          "name": "stderr",
          "text": [
            "\rfold_{}_regnet_pretrained.pth F2:  92%|\u2588\u2588\u2588\u2588\u2588\u2588\u2588\u2588\u2588\u258f| 12/13 [00:00<00:00, 15.75it/s]"
          ]
        },
        {
          "output_type": "stream",
          "name": "stderr",
          "text": [
            "\rfold_{}_regnet_pretrained.pth F2: 100%|\u2588\u2588\u2588\u2588\u2588\u2588\u2588\u2588\u2588\u2588| 13/13 [00:00<00:00, 16.16it/s]"
          ]
        },
        {
          "output_type": "stream",
          "name": "stderr",
          "text": [
            "\n"
          ]
        },
        {
          "output_type": "stream",
          "name": "stderr",
          "text": [
            "\rfold_{}_regnet_pretrained.pth F3:   0%|          | 0/13 [00:00<?, ?it/s]"
          ]
        },
        {
          "output_type": "stream",
          "name": "stderr",
          "text": [
            "\rfold_{}_regnet_pretrained.pth F3:  15%|\u2588\u258c        | 2/13 [00:00<00:00, 16.57it/s]"
          ]
        },
        {
          "output_type": "stream",
          "name": "stderr",
          "text": [
            "\rfold_{}_regnet_pretrained.pth F3:  31%|\u2588\u2588\u2588       | 4/13 [00:00<00:00, 16.88it/s]"
          ]
        },
        {
          "output_type": "stream",
          "name": "stderr",
          "text": [
            "\rfold_{}_regnet_pretrained.pth F3:  46%|\u2588\u2588\u2588\u2588\u258c     | 6/13 [00:00<00:00, 16.65it/s]"
          ]
        },
        {
          "output_type": "stream",
          "name": "stderr",
          "text": [
            "\rfold_{}_regnet_pretrained.pth F3:  62%|\u2588\u2588\u2588\u2588\u2588\u2588\u258f   | 8/13 [00:00<00:00, 16.72it/s]"
          ]
        },
        {
          "output_type": "stream",
          "name": "stderr",
          "text": [
            "\rfold_{}_regnet_pretrained.pth F3:  77%|\u2588\u2588\u2588\u2588\u2588\u2588\u2588\u258b  | 10/13 [00:00<00:00, 16.61it/s]"
          ]
        },
        {
          "output_type": "stream",
          "name": "stderr",
          "text": [
            "\rfold_{}_regnet_pretrained.pth F3:  92%|\u2588\u2588\u2588\u2588\u2588\u2588\u2588\u2588\u2588\u258f| 12/13 [00:00<00:00, 16.54it/s]"
          ]
        },
        {
          "output_type": "stream",
          "name": "stderr",
          "text": [
            "\rfold_{}_regnet_pretrained.pth F3: 100%|\u2588\u2588\u2588\u2588\u2588\u2588\u2588\u2588\u2588\u2588| 13/13 [00:00<00:00, 16.96it/s]"
          ]
        },
        {
          "output_type": "stream",
          "name": "stderr",
          "text": [
            "\n"
          ]
        },
        {
          "output_type": "stream",
          "name": "stderr",
          "text": [
            "\rfold_{}_regnet_pretrained.pth F4:   0%|          | 0/13 [00:00<?, ?it/s]"
          ]
        },
        {
          "output_type": "stream",
          "name": "stderr",
          "text": [
            "\rfold_{}_regnet_pretrained.pth F4:  15%|\u2588\u258c        | 2/13 [00:00<00:00, 17.20it/s]"
          ]
        },
        {
          "output_type": "stream",
          "name": "stderr",
          "text": [
            "\rfold_{}_regnet_pretrained.pth F4:  31%|\u2588\u2588\u2588       | 4/13 [00:00<00:00, 17.48it/s]"
          ]
        },
        {
          "output_type": "stream",
          "name": "stderr",
          "text": [
            "\rfold_{}_regnet_pretrained.pth F4:  46%|\u2588\u2588\u2588\u2588\u258c     | 6/13 [00:00<00:00, 17.62it/s]"
          ]
        },
        {
          "output_type": "stream",
          "name": "stderr",
          "text": [
            "\rfold_{}_regnet_pretrained.pth F4:  62%|\u2588\u2588\u2588\u2588\u2588\u2588\u258f   | 8/13 [00:00<00:00, 17.66it/s]"
          ]
        },
        {
          "output_type": "stream",
          "name": "stderr",
          "text": [
            "\rfold_{}_regnet_pretrained.pth F4:  77%|\u2588\u2588\u2588\u2588\u2588\u2588\u2588\u258b  | 10/13 [00:00<00:00, 17.75it/s]"
          ]
        },
        {
          "output_type": "stream",
          "name": "stderr",
          "text": [
            "\rfold_{}_regnet_pretrained.pth F4:  92%|\u2588\u2588\u2588\u2588\u2588\u2588\u2588\u2588\u2588\u258f| 12/13 [00:00<00:00, 17.26it/s]"
          ]
        },
        {
          "output_type": "stream",
          "name": "stderr",
          "text": [
            "\rfold_{}_regnet_pretrained.pth F4: 100%|\u2588\u2588\u2588\u2588\u2588\u2588\u2588\u2588\u2588\u2588| 13/13 [00:00<00:00, 17.74it/s]"
          ]
        },
        {
          "output_type": "stream",
          "name": "stderr",
          "text": [
            "\n"
          ]
        },
        {
          "output_type": "stream",
          "name": "stderr",
          "text": [
            "\rfold_{}_regnet_pretrained.pth F5:   0%|          | 0/13 [00:00<?, ?it/s]"
          ]
        },
        {
          "output_type": "stream",
          "name": "stderr",
          "text": [
            "\rfold_{}_regnet_pretrained.pth F5:  15%|\u2588\u258c        | 2/13 [00:00<00:00, 15.70it/s]"
          ]
        },
        {
          "output_type": "stream",
          "name": "stderr",
          "text": [
            "\rfold_{}_regnet_pretrained.pth F5:  31%|\u2588\u2588\u2588       | 4/13 [00:00<00:00, 15.45it/s]"
          ]
        },
        {
          "output_type": "stream",
          "name": "stderr",
          "text": [
            "\rfold_{}_regnet_pretrained.pth F5:  46%|\u2588\u2588\u2588\u2588\u258c     | 6/13 [00:00<00:00, 15.39it/s]"
          ]
        },
        {
          "output_type": "stream",
          "name": "stderr",
          "text": [
            "\rfold_{}_regnet_pretrained.pth F5:  62%|\u2588\u2588\u2588\u2588\u2588\u2588\u258f   | 8/13 [00:00<00:00, 15.35it/s]"
          ]
        },
        {
          "output_type": "stream",
          "name": "stderr",
          "text": [
            "\rfold_{}_regnet_pretrained.pth F5:  77%|\u2588\u2588\u2588\u2588\u2588\u2588\u2588\u258b  | 10/13 [00:00<00:00, 15.34it/s]"
          ]
        },
        {
          "output_type": "stream",
          "name": "stderr",
          "text": [
            "\rfold_{}_regnet_pretrained.pth F5:  92%|\u2588\u2588\u2588\u2588\u2588\u2588\u2588\u2588\u2588\u258f| 12/13 [00:00<00:00, 15.37it/s]"
          ]
        },
        {
          "output_type": "stream",
          "name": "stderr",
          "text": [
            "\rfold_{}_regnet_pretrained.pth F5: 100%|\u2588\u2588\u2588\u2588\u2588\u2588\u2588\u2588\u2588\u2588| 13/13 [00:00<00:00, 15.85it/s]"
          ]
        },
        {
          "output_type": "stream",
          "name": "stdout",
          "text": [
            "OOF logits saved: oof_logits_*_pretrained.npy. Next: insert cell to compute new 3-way OOF WLL (target <=0.42), holdout preds/WLL; if holdout <=0.42, tune postproc on holdout (low DOF); update 03_inference_tta with new paths/320 size/HFlip TTA, execute for submission targeting LB <=0.45 medal. If holdout >0.43, request expert on coronal/Swin add or further reg.\n"
          ]
        },
        {
          "output_type": "stream",
          "name": "stderr",
          "text": [
            "\n"
          ]
        }
      ]
    },
    {
      "id": "fd966d16-aaea-449b-b214-c33a6bd52ea1",
      "cell_type": "code",
      "metadata": {},
      "source": [
        "# Compute New 3-Way OOF WLL and Holdout WLL for Pretrained Models\n",
        "# Use existing blend weights/temps/LR/alpha; target OOF <=0.42 (from 0.4211), holdout <=0.42 (from 0.4343)\n",
        "import numpy as np\n",
        "import pandas as pd\n",
        "from sklearn.metrics import log_loss\n",
        "from sklearn.linear_model import LogisticRegression\n",
        "from iterstrat.ml_stratifiers import MultilabelStratifiedKFold\n",
        "from scipy.special import expit as sigmoid\n",
        "from scipy.optimize import minimize_scalar\n",
        "import joblib\n",
        "from torch.utils.data import Dataset, DataLoader\n",
        "import albumentations as A\n",
        "from albumentations.pytorch import ToTensorV2\n",
        "import torch\n",
        "from tqdm import tqdm\n",
        "import os\n",
        "device = torch.device('cuda' if torch.cuda.is_available() else 'cpu')\n",
        "label_cols = ['C1','C2','C3','C4','C5','C6','C7']\n",
        "N_FOLDS = 5\n",
        "IMG_SIZE = 320\n",
        "# Load OOF labels y8\n",
        "train_df = pd.read_csv('data/train_mips.csv')\n",
        "train_labels = pd.read_csv('train.csv')\n",
        "y_df = train_df[['StudyInstanceUID']].merge(train_labels, on='StudyInstanceUID', how='left')\n",
        "y7 = y_df[label_cols].values.astype(float)\n",
        "y_overall = (y7.max(axis=1) > 0).astype(int)\n",
        "y8 = np.hstack([y7, y_overall[:, None]])\n",
        "# Load new pretrained OOF logits\n",
        "v1 = np.load('oof_logits_convnext_pretrained.npy')\n",
        "v2 = np.load('oof_logits_convnext_v2_pretrained.npy')\n",
        "reg = np.load('oof_logits_regnet_pretrained.npy')\n",
        "# Load existing 3-way artifacts\n",
        "W = np.load('weights_threeway_tta.npy')  # [7,3]\n",
        "T7 = np.load('temperatures_weighted_tta.npy')  # [7]\n",
        "rule = open('overall_rule_tta.txt').read().strip()\n",
        "alpha = float(np.load('overall_lr_alpha_tta.npy'))\n",
        "# Blend to X [N,7]\n",
        "stack = np.stack([v1, v2, reg], axis=2)\n",
        "X = np.sum(stack * W[None, :, :], axis=2)\n",
        "p7_uncal = sigmoid(X)\n",
        "p7_cal = sigmoid(X / T7)\n",
        "union = 1 - np.prod(1 - p7_uncal, axis=1)\n",
        "max_prob = p7_uncal.max(axis=1)\n",
        "base_overall = union if rule == 'union' else max_prob\n",
        "# CV p_lr_oof\n",
        "skf = MultilabelStratifiedKFold(n_splits=5, shuffle=True, random_state=42)\n",
        "p_lr_oof = np.zeros(len(X))\n",
        "for tr_idx, va_idx in skf.split(X, y7):\n",
        "    lr = LogisticRegression(penalty='l2', C=1.0, class_weight='balanced',\n",
        "                            solver='lbfgs', max_iter=1000, random_state=42)\n",
        "    lr.fit(X[tr_idx], y_overall[tr_idx])\n",
        "    p_lr_oof[va_idx] = lr.predict_proba(X[va_idx])[:, 1]\n",
        "p_overall = alpha * p_lr_oof + (1 - alpha) * base_overall\n",
        "p8 = np.hstack([p7_cal, p_overall[:, None]])\n",
        "def wll(y_true8, p8):\n",
        "    p8 = np.clip(p8, 1e-6, 1 - 1e-6)\n",
        "    losses = [log_loss(y_true8[:, i], p8[:, i]) for i in range(8)]\n",
        "    return np.average(losses, weights=np.array([1] * 7 + [2]))\n",
        "oof_wll = wll(y8, p8)\n",
        "print(f'New pretrained 3-way OOF WLL: {oof_wll:.4f} (prev 0.4211)')\n",
        "# Now predict on holdout (41 samples)\n",
        "holdout_df = pd.read_csv('data/holdout.csv')\n",
        "holdout_labels = pd.read_csv('train.csv')\n",
        "y_holdout_df = holdout_df[['StudyInstanceUID']].merge(holdout_labels, on='StudyInstanceUID', how='left')\n",
        "y_holdout7 = y_holdout_df[label_cols].values.astype(float)\n",
        "y_holdout_overall = (y_holdout7.max(axis=1) > 0).astype(int)\n",
        "y_holdout8 = np.hstack([y_holdout7, y_holdout_overall[:, None]])\n",
        "class HoldoutMIPDataset(Dataset):\n",
        "    def __init__(self, df, mip_dir, transform):\n",
        "        self.df = df.reset_index(drop=True)\n",
        "        self.mip_dir = mip_dir\n",
        "        self.transform = transform\n",
        "    def __len__(self): return len(self.df)\n",
        "    def __getitem__(self, idx):\n",
        "        uid = self.df.iloc[idx]['StudyInstanceUID']\n",
        "        mip = np.load(os.path.join(self.mip_dir, f'{uid}.npy')).astype(np.float32)\n",
        "        img = np.transpose(mip, (1, 2, 0))\n",
        "        img = self.transform(image=img)['image']\n",
        "        return uid, img\n",
        "holdout_transform = A.Compose([A.Resize(IMG_SIZE, IMG_SIZE), A.Normalize(mean=0.5, std=0.5), ToTensorV2()])\n",
        "holdout_loader = DataLoader(HoldoutMIPDataset(holdout_df, 'data/mips/train', holdout_transform),\n",
        "                            batch_size=4, shuffle=False, num_workers=0, pin_memory=True)\n",
        "def predict_holdout_backbone(ckpt_pattern, build_fn):\n",
        "    all_logits = []\n",
        "    for f in range(1, N_FOLDS + 1):\n",
        "        ckpt = ckpt_pattern.format(f)\n",
        "        if not os.path.exists(ckpt):\n",
        "            print(f'Skip missing {ckpt}'); continue\n",
        "        model = build_fn()\n",
        "        sd = torch.load(ckpt, map_location='cpu', weights_only=True)\n",
        "        model.load_state_dict(sd, strict=True)\n",
        "        model.eval()\n",
        "        fold_logits = []\n",
        "        with torch.no_grad():\n",
        "            for uids, images in tqdm(holdout_loader, desc=f'{ckpt_pattern} F{f}'):\n",
        "                images = images.to(device)\n",
        "                logits = model(images)\n",
        "                logits_f = model(torch.flip(images, dims=[3]))  # HFlip TTA\n",
        "                logits = 0.5 * (logits + logits_f)\n",
        "                fold_logits.append(logits.cpu().numpy())\n",
        "        all_logits.append(np.concatenate(fold_logits, axis=0))\n",
        "    return np.mean(np.stack(all_logits, 0), 0)\n",
        "print('Generating holdout logits for ConvNeXt v1 pretrained...')\n",
        "holdout_logits_v1 = predict_holdout_backbone('fold_{}_convnext_pretrained.pth', build_convnext_v1)\n",
        "print('Generating holdout logits for ConvNeXt v2 pretrained...')\n",
        "holdout_logits_v2 = predict_holdout_backbone('fold_{}_convnext_v2_pretrained.pth', build_convnext_v2)\n",
        "print('Generating holdout logits for RegNet pretrained...')\n",
        "holdout_logits_reg = predict_holdout_backbone('fold_{}_regnet_pretrained.pth', build_regnet)\n",
        "# Blend holdout X\n",
        "holdout_stack = np.stack([holdout_logits_v1, holdout_logits_v2, holdout_logits_reg], axis=2)\n",
        "holdout_X = np.sum(holdout_stack * W[None, :, :], axis=2)\n",
        "holdout_p7_uncal = sigmoid(holdout_X)\n",
        "holdout_p7_cal = sigmoid(holdout_X / T7)\n",
        "holdout_union = 1 - np.prod(1 - holdout_p7_uncal, axis=1)\n",
        "holdout_max_prob = holdout_p7_uncal.max(axis=1)\n",
        "holdout_base_overall = holdout_union if rule == 'union' else holdout_max_prob\n",
        "# Full LR for holdout (use full train X/y_overall)\n",
        "lr_full = LogisticRegression(penalty='l2', C=1.0, class_weight='balanced',\n",
        "                             solver='lbfgs', max_iter=1000, random_state=42)\n",
        "lr_full.fit(X, y_overall)\n",
        "holdout_p_lr = lr_full.predict_proba(holdout_X)[:, 1]\n",
        "holdout_p_overall = alpha * holdout_p_lr + (1 - alpha) * holdout_base_overall\n",
        "holdout_p8 = np.hstack([holdout_p7_cal, holdout_p_overall[:, None]])\n",
        "holdout_wll = wll(y_holdout8, holdout_p8)\n",
        "print(f'New pretrained 3-way holdout WLL: {holdout_wll:.4f} (prev 0.4343)')\n",
        "# If holdout_wll <= 0.42, next: tune postproc on holdout (lam/gamma/shrink, low DOF, stability gate); save postproc_holdout_pretrained.npz\n",
        "# Update 03_inference_tta cell 0: ckpt *_pretrained.pth, IMG_SIZE=320, batch_size=16, load new postproc.npz, HFlip TTA; execute for submission\n",
        "# If holdout_wll > 0.43, request expert on adding Swin-T or coronal MIPs for diversity."
      ],
      "execution_count": 4,
      "outputs": [
        {
          "output_type": "stream",
          "name": "stdout",
          "text": [
            "New pretrained 3-way OOF WLL: 0.4484 (prev 0.4211)\nGenerating holdout logits for ConvNeXt v1 pretrained...\n"
          ]
        },
        {
          "output_type": "stream",
          "name": "stderr",
          "text": [
            "\rfold_{}_convnext_pretrained.pth F1:   0%|          | 0/11 [00:00<?, ?it/s]"
          ]
        },
        {
          "output_type": "stream",
          "name": "stderr",
          "text": [
            "\rfold_{}_convnext_pretrained.pth F1:  36%|\u2588\u2588\u2588\u258b      | 4/11 [00:00<00:00, 30.92it/s]"
          ]
        },
        {
          "output_type": "stream",
          "name": "stderr",
          "text": [
            "\rfold_{}_convnext_pretrained.pth F1:  73%|\u2588\u2588\u2588\u2588\u2588\u2588\u2588\u258e  | 8/11 [00:00<00:00, 31.17it/s]"
          ]
        },
        {
          "output_type": "stream",
          "name": "stderr",
          "text": [
            "\rfold_{}_convnext_pretrained.pth F1: 100%|\u2588\u2588\u2588\u2588\u2588\u2588\u2588\u2588\u2588\u2588| 11/11 [00:00<00:00, 32.63it/s]"
          ]
        },
        {
          "output_type": "stream",
          "name": "stderr",
          "text": [
            "\n"
          ]
        },
        {
          "output_type": "stream",
          "name": "stderr",
          "text": [
            "\rfold_{}_convnext_pretrained.pth F2:   0%|          | 0/11 [00:00<?, ?it/s]"
          ]
        },
        {
          "output_type": "stream",
          "name": "stderr",
          "text": [
            "\rfold_{}_convnext_pretrained.pth F2:  36%|\u2588\u2588\u2588\u258b      | 4/11 [00:00<00:00, 30.66it/s]"
          ]
        },
        {
          "output_type": "stream",
          "name": "stderr",
          "text": [
            "\rfold_{}_convnext_pretrained.pth F2:  73%|\u2588\u2588\u2588\u2588\u2588\u2588\u2588\u258e  | 8/11 [00:00<00:00, 30.27it/s]"
          ]
        },
        {
          "output_type": "stream",
          "name": "stderr",
          "text": [
            "\rfold_{}_convnext_pretrained.pth F2: 100%|\u2588\u2588\u2588\u2588\u2588\u2588\u2588\u2588\u2588\u2588| 11/11 [00:00<00:00, 32.14it/s]"
          ]
        },
        {
          "output_type": "stream",
          "name": "stderr",
          "text": [
            "\n"
          ]
        },
        {
          "output_type": "stream",
          "name": "stderr",
          "text": [
            "\rfold_{}_convnext_pretrained.pth F3:   0%|          | 0/11 [00:00<?, ?it/s]"
          ]
        },
        {
          "output_type": "stream",
          "name": "stderr",
          "text": [
            "\rfold_{}_convnext_pretrained.pth F3:  36%|\u2588\u2588\u2588\u258b      | 4/11 [00:00<00:00, 30.03it/s]"
          ]
        },
        {
          "output_type": "stream",
          "name": "stderr",
          "text": [
            "\rfold_{}_convnext_pretrained.pth F3:  73%|\u2588\u2588\u2588\u2588\u2588\u2588\u2588\u258e  | 8/11 [00:00<00:00, 29.73it/s]"
          ]
        },
        {
          "output_type": "stream",
          "name": "stderr",
          "text": [
            "\rfold_{}_convnext_pretrained.pth F3: 100%|\u2588\u2588\u2588\u2588\u2588\u2588\u2588\u2588\u2588\u2588| 11/11 [00:00<00:00, 31.75it/s]"
          ]
        },
        {
          "output_type": "stream",
          "name": "stderr",
          "text": [
            "\n"
          ]
        },
        {
          "output_type": "stream",
          "name": "stderr",
          "text": [
            "\rfold_{}_convnext_pretrained.pth F4:   0%|          | 0/11 [00:00<?, ?it/s]"
          ]
        },
        {
          "output_type": "stream",
          "name": "stderr",
          "text": [
            "\rfold_{}_convnext_pretrained.pth F4:  36%|\u2588\u2588\u2588\u258b      | 4/11 [00:00<00:00, 32.21it/s]"
          ]
        },
        {
          "output_type": "stream",
          "name": "stderr",
          "text": [
            "\rfold_{}_convnext_pretrained.pth F4:  73%|\u2588\u2588\u2588\u2588\u2588\u2588\u2588\u258e  | 8/11 [00:00<00:00, 31.78it/s]"
          ]
        },
        {
          "output_type": "stream",
          "name": "stderr",
          "text": [
            "\rfold_{}_convnext_pretrained.pth F4: 100%|\u2588\u2588\u2588\u2588\u2588\u2588\u2588\u2588\u2588\u2588| 11/11 [00:00<00:00, 33.77it/s]"
          ]
        },
        {
          "output_type": "stream",
          "name": "stderr",
          "text": [
            "\n"
          ]
        },
        {
          "output_type": "stream",
          "name": "stderr",
          "text": [
            "\rfold_{}_convnext_pretrained.pth F5:   0%|          | 0/11 [00:00<?, ?it/s]"
          ]
        },
        {
          "output_type": "stream",
          "name": "stderr",
          "text": [
            "\rfold_{}_convnext_pretrained.pth F5:  36%|\u2588\u2588\u2588\u258b      | 4/11 [00:00<00:00, 32.49it/s]"
          ]
        },
        {
          "output_type": "stream",
          "name": "stderr",
          "text": [
            "\rfold_{}_convnext_pretrained.pth F5:  73%|\u2588\u2588\u2588\u2588\u2588\u2588\u2588\u258e  | 8/11 [00:00<00:00, 31.87it/s]"
          ]
        },
        {
          "output_type": "stream",
          "name": "stderr",
          "text": [
            "\rfold_{}_convnext_pretrained.pth F5: 100%|\u2588\u2588\u2588\u2588\u2588\u2588\u2588\u2588\u2588\u2588| 11/11 [00:00<00:00, 33.91it/s]"
          ]
        },
        {
          "output_type": "stream",
          "name": "stderr",
          "text": [
            "\n"
          ]
        },
        {
          "output_type": "stream",
          "name": "stdout",
          "text": [
            "Generating holdout logits for ConvNeXt v2 pretrained...\n"
          ]
        },
        {
          "output_type": "stream",
          "name": "stderr",
          "text": [
            "\rfold_{}_convnext_v2_pretrained.pth F1:   0%|          | 0/11 [00:00<?, ?it/s]"
          ]
        },
        {
          "output_type": "stream",
          "name": "stderr",
          "text": [
            "\rfold_{}_convnext_v2_pretrained.pth F1:  36%|\u2588\u2588\u2588\u258b      | 4/11 [00:00<00:00, 32.08it/s]"
          ]
        },
        {
          "output_type": "stream",
          "name": "stderr",
          "text": [
            "\rfold_{}_convnext_v2_pretrained.pth F1:  73%|\u2588\u2588\u2588\u2588\u2588\u2588\u2588\u258e  | 8/11 [00:00<00:00, 31.53it/s]"
          ]
        },
        {
          "output_type": "stream",
          "name": "stderr",
          "text": [
            "\rfold_{}_convnext_v2_pretrained.pth F1: 100%|\u2588\u2588\u2588\u2588\u2588\u2588\u2588\u2588\u2588\u2588| 11/11 [00:00<00:00, 33.53it/s]"
          ]
        },
        {
          "output_type": "stream",
          "name": "stderr",
          "text": [
            "\n"
          ]
        },
        {
          "output_type": "stream",
          "name": "stderr",
          "text": [
            "\rfold_{}_convnext_v2_pretrained.pth F2:   0%|          | 0/11 [00:00<?, ?it/s]"
          ]
        },
        {
          "output_type": "stream",
          "name": "stderr",
          "text": [
            "\rfold_{}_convnext_v2_pretrained.pth F2:  36%|\u2588\u2588\u2588\u258b      | 4/11 [00:00<00:00, 31.82it/s]"
          ]
        },
        {
          "output_type": "stream",
          "name": "stderr",
          "text": [
            "\rfold_{}_convnext_v2_pretrained.pth F2:  73%|\u2588\u2588\u2588\u2588\u2588\u2588\u2588\u258e  | 8/11 [00:00<00:00, 31.27it/s]"
          ]
        },
        {
          "output_type": "stream",
          "name": "stderr",
          "text": [
            "\rfold_{}_convnext_v2_pretrained.pth F2: 100%|\u2588\u2588\u2588\u2588\u2588\u2588\u2588\u2588\u2588\u2588| 11/11 [00:00<00:00, 33.19it/s]"
          ]
        },
        {
          "output_type": "stream",
          "name": "stderr",
          "text": [
            "\n"
          ]
        },
        {
          "output_type": "stream",
          "name": "stderr",
          "text": [
            "\rfold_{}_convnext_v2_pretrained.pth F3:   0%|          | 0/11 [00:00<?, ?it/s]"
          ]
        },
        {
          "output_type": "stream",
          "name": "stderr",
          "text": [
            "\rfold_{}_convnext_v2_pretrained.pth F3:  36%|\u2588\u2588\u2588\u258b      | 4/11 [00:00<00:00, 31.15it/s]"
          ]
        },
        {
          "output_type": "stream",
          "name": "stderr",
          "text": [
            "\rfold_{}_convnext_v2_pretrained.pth F5:   0%|          | 0/11 [00:00<?, ?it/s]"
          ]
        },
        {
          "output_type": "stream",
          "name": "stderr",
          "text": [
            "\rfold_{}_convnext_v2_pretrained.pth F5:  36%|\u2588\u2588\u2588\u258b      | 4/11 [00:00<00:00, 31.45it/s]"
          ]
        },
        {
          "output_type": "stream",
          "name": "stderr",
          "text": [
            "\rfold_{}_convnext_v2_pretrained.pth F5:  73%|\u2588\u2588\u2588\u2588\u2588\u2588\u2588\u258e  | 8/11 [00:00<00:00, 30.74it/s]"
          ]
        },
        {
          "output_type": "stream",
          "name": "stderr",
          "text": [
            "\rfold_{}_convnext_v2_pretrained.pth F5: 100%|\u2588\u2588\u2588\u2588\u2588\u2588\u2588\u2588\u2588\u2588| 11/11 [00:00<00:00, 32.79it/s]"
          ]
        },
        {
          "output_type": "stream",
          "name": "stderr",
          "text": [
            "\n"
          ]
        },
        {
          "output_type": "stream",
          "name": "stdout",
          "text": [
            "Generating holdout logits for RegNet pretrained...\n"
          ]
        },
        {
          "output_type": "stream",
          "name": "stderr",
          "text": [
            "\rfold_{}_regnet_pretrained.pth F1:   0%|          | 0/11 [00:00<?, ?it/s]"
          ]
        },
        {
          "output_type": "stream",
          "name": "stderr",
          "text": [
            "\rfold_{}_regnet_pretrained.pth F1:  36%|\u2588\u2588\u2588\u258b      | 4/11 [00:00<00:00, 33.13it/s]"
          ]
        },
        {
          "output_type": "stream",
          "name": "stderr",
          "text": [
            "\rfold_{}_regnet_pretrained.pth F1:  82%|\u2588\u2588\u2588\u2588\u2588\u2588\u2588\u2588\u258f | 9/11 [00:00<00:00, 38.62it/s]"
          ]
        },
        {
          "output_type": "stream",
          "name": "stderr",
          "text": [
            "\rfold_{}_regnet_pretrained.pth F1: 100%|\u2588\u2588\u2588\u2588\u2588\u2588\u2588\u2588\u2588\u2588| 11/11 [00:00<00:00, 36.05it/s]"
          ]
        },
        {
          "output_type": "stream",
          "name": "stderr",
          "text": [
            "\n"
          ]
        },
        {
          "output_type": "stream",
          "name": "stderr",
          "text": [
            "\rfold_{}_regnet_pretrained.pth F2:   0%|          | 0/11 [00:00<?, ?it/s]"
          ]
        },
        {
          "output_type": "stream",
          "name": "stderr",
          "text": [
            "\rfold_{}_regnet_pretrained.pth F2:  36%|\u2588\u2588\u2588\u258b      | 4/11 [00:00<00:00, 39.68it/s]"
          ]
        },
        {
          "output_type": "stream",
          "name": "stderr",
          "text": [
            "\rfold_{}_regnet_pretrained.pth F2:  73%|\u2588\u2588\u2588\u2588\u2588\u2588\u2588\u258e  | 8/11 [00:00<00:00, 39.43it/s]"
          ]
        },
        {
          "output_type": "stream",
          "name": "stderr",
          "text": [
            "\rfold_{}_regnet_pretrained.pth F2: 100%|\u2588\u2588\u2588\u2588\u2588\u2588\u2588\u2588\u2588\u2588| 11/11 [00:00<00:00, 40.59it/s]"
          ]
        },
        {
          "output_type": "stream",
          "name": "stderr",
          "text": [
            "\n"
          ]
        },
        {
          "output_type": "stream",
          "name": "stderr",
          "text": [
            "\rfold_{}_regnet_pretrained.pth F3:   0%|          | 0/11 [00:00<?, ?it/s]"
          ]
        },
        {
          "output_type": "stream",
          "name": "stderr",
          "text": [
            "\rfold_{}_regnet_pretrained.pth F3:  45%|\u2588\u2588\u2588\u2588\u258c     | 5/11 [00:00<00:00, 40.15it/s]"
          ]
        },
        {
          "output_type": "stream",
          "name": "stderr",
          "text": [
            "\rfold_{}_regnet_pretrained.pth F3:  91%|\u2588\u2588\u2588\u2588\u2588\u2588\u2588\u2588\u2588 | 10/11 [00:00<00:00, 40.59it/s]"
          ]
        },
        {
          "output_type": "stream",
          "name": "stderr",
          "text": [
            "\rfold_{}_regnet_pretrained.pth F3: 100%|\u2588\u2588\u2588\u2588\u2588\u2588\u2588\u2588\u2588\u2588| 11/11 [00:00<00:00, 41.50it/s]"
          ]
        },
        {
          "output_type": "stream",
          "name": "stderr",
          "text": [
            "\n"
          ]
        },
        {
          "output_type": "stream",
          "name": "stderr",
          "text": [
            "\rfold_{}_regnet_pretrained.pth F4:   0%|          | 0/11 [00:00<?, ?it/s]"
          ]
        },
        {
          "output_type": "stream",
          "name": "stderr",
          "text": [
            "\rfold_{}_regnet_pretrained.pth F4:  45%|\u2588\u2588\u2588\u2588\u258c     | 5/11 [00:00<00:00, 40.50it/s]"
          ]
        },
        {
          "output_type": "stream",
          "name": "stderr",
          "text": [
            "\rfold_{}_regnet_pretrained.pth F4:  91%|\u2588\u2588\u2588\u2588\u2588\u2588\u2588\u2588\u2588 | 10/11 [00:00<00:00, 40.16it/s]"
          ]
        },
        {
          "output_type": "stream",
          "name": "stderr",
          "text": [
            "\rfold_{}_regnet_pretrained.pth F4: 100%|\u2588\u2588\u2588\u2588\u2588\u2588\u2588\u2588\u2588\u2588| 11/11 [00:00<00:00, 41.12it/s]"
          ]
        },
        {
          "output_type": "stream",
          "name": "stderr",
          "text": [
            "\n"
          ]
        },
        {
          "output_type": "stream",
          "name": "stderr",
          "text": [
            "\rfold_{}_regnet_pretrained.pth F5:   0%|          | 0/11 [00:00<?, ?it/s]"
          ]
        },
        {
          "output_type": "stream",
          "name": "stderr",
          "text": [
            "\rfold_{}_regnet_pretrained.pth F5:  45%|\u2588\u2588\u2588\u2588\u258c     | 5/11 [00:00<00:00, 41.38it/s]"
          ]
        },
        {
          "output_type": "stream",
          "name": "stderr",
          "text": [
            "\rfold_{}_regnet_pretrained.pth F5:  91%|\u2588\u2588\u2588\u2588\u2588\u2588\u2588\u2588\u2588 | 10/11 [00:00<00:00, 41.21it/s]"
          ]
        },
        {
          "output_type": "stream",
          "name": "stderr",
          "text": [
            "\rfold_{}_regnet_pretrained.pth F5: 100%|\u2588\u2588\u2588\u2588\u2588\u2588\u2588\u2588\u2588\u2588| 11/11 [00:00<00:00, 41.86it/s]"
          ]
        },
        {
          "output_type": "stream",
          "name": "stdout",
          "text": [
            "New pretrained 3-way holdout WLL: 0.4520 (prev 0.4343)\n"
          ]
        },
        {
          "output_type": "stream",
          "name": "stderr",
          "text": [
            "\n"
          ]
        }
      ]
    }
  ],
  "metadata": {
    "kernelspec": {
      "display_name": "Python 3",
      "language": "python",
      "name": "python3"
    },
    "language_info": {
      "name": "python",
      "version": "3.11.0rc1"
    }
  },
  "nbformat": 4,
  "nbformat_minor": 5
}