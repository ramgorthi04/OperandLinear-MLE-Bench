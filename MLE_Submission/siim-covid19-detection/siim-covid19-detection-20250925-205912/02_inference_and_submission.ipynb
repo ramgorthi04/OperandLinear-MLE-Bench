{
  "cells": [
    {
      "id": "5a1a8a18-063f-4cff-8e2a-f15735d5ea44",
      "cell_type": "code",
      "metadata": {},
      "source": [
        "import os\n",
        "# Set this before importing PyTorch to prevent memory fragmentation, as per expert advice.\n",
        "os.environ['PYTORCH_CUDA_ALLOC_CONF'] = 'expandable_segments:True'"
      ],
      "execution_count": 5,
      "outputs": []
    },
    {
      "id": "afd442a6-5cbf-46a2-83cf-ec2f6c2d9f83",
      "cell_type": "code",
      "metadata": {},
      "source": [
        "# --- Imports and Configuration ---\n",
        "import os\n",
        "import sys\n",
        "import glob\n",
        "import pandas as pd\n",
        "import numpy as np\n",
        "import cv2\n",
        "import torch\n",
        "import timm\n",
        "import pydicom\n",
        "import SimpleITK as sitk\n",
        "from tqdm import tqdm\n",
        "import albumentations as A\n",
        "from albumentations.pytorch import ToTensorV2\n",
        "from torch.utils.data import Dataset, DataLoader\n",
        "\n",
        "# --- Configuration ---\n",
        "DETECTOR_WEIGHTS = 'yolov5_runs/train/baseline_fold0/weights/best.pt'\n",
        "CLASSIFIER_WEIGHTS = 'classifier_fold0_best.pth'\n",
        "YOLO_REPO_DIR = 'yolov5'\n",
        "\n",
        "TEST_DIR = 'test/'\n",
        "TEST_PNG_DIR = 'test_png/'\n",
        "SAMPLE_SUBMISSION = 'sample_submission.csv'\n",
        "\n",
        "IMG_SIZE_DET = 640  # Image size for detector\n",
        "IMG_SIZE_CLS = 512  # Image size for classifier\n",
        "BATCH_SIZE = 16\n",
        "NUM_WORKERS = 4\n",
        "\n",
        "DEVICE = torch.device('cuda' if torch.cuda.is_available() else 'cpu')\n",
        "\n",
        "print(f\"Using device: {DEVICE}\")\n",
        "print(f\"Detector weights: {DETECTOR_WEIGHTS}\")\n",
        "print(f\"Classifier weights: {CLASSIFIER_WEIGHTS}\")"
      ],
      "execution_count": 1,
      "outputs": [
        {
          "output_type": "stream",
          "name": "stdout",
          "text": [
            "Using device: cuda\nDetector weights: yolov5_runs/train/baseline_fold0/weights/best.pt\nClassifier weights: classifier_fold0_best.pth\n"
          ]
        }
      ]
    },
    {
      "id": "48cecfb8-5a2f-4b7b-8b4e-64c26680a0a8",
      "cell_type": "code",
      "metadata": {},
      "source": [
        "# --- Preprocess Test DICOMs ---\n",
        "print(\"--- Preprocessing Test DICOMs to PNG --- \")\n",
        "os.makedirs(TEST_PNG_DIR, exist_ok=True)\n",
        "\n",
        "df_sub = pd.read_csv(SAMPLE_SUBMISSION)\n",
        "# The sample submission has two rows per study for the two prediction types.\n",
        "# We only need one row per image to find the files.\n",
        "df_sub['image_id'] = df_sub['id'].apply(lambda x: x.split('_')[0])\n",
        "df_test_imgs = df_sub[df_sub.id.str.contains('_image')].copy()\n",
        "\n",
        "# Find all test dcm files\n",
        "test_dcm_files = glob.glob(f'{TEST_DIR}/*/*/*.dcm')\n",
        "image_id_to_path = {os.path.basename(p).replace('.dcm', ''): p for p in test_dcm_files}\n",
        "df_test_imgs['dcm_path'] = df_test_imgs['image_id'].map(image_id_to_path)\n",
        "\n",
        "def process_dicom_with_sitk(row, output_dir):\n",
        "    image_id = row['image_id']\n",
        "    dcm_path = row['dcm_path']\n",
        "    if pd.isna(dcm_path): return\n",
        "    save_path = os.path.join(output_dir, f\"{image_id}.png\")\n",
        "    if os.path.exists(save_path): return\n",
        "\n",
        "    try:\n",
        "        dicom_meta = pydicom.dcmread(dcm_path, stop_before_pixels=True)\n",
        "        sitk_image = sitk.ReadImage(dcm_path)\n",
        "        data = sitk.GetArrayFromImage(sitk_image).squeeze()\n",
        "        if 'RescaleSlope' in dicom_meta and 'RescaleIntercept' in dicom_meta:\n",
        "            slope = float(dicom_meta.RescaleSlope)\n",
        "            intercept = float(dicom_meta.RescaleIntercept)\n",
        "            data = data * slope + intercept\n",
        "        if dicom_meta.PhotometricInterpretation == \"MONOCHROME1\":\n",
        "            data = np.amax(data) - data\n",
        "        center, width = -600, 1500\n",
        "        min_val, max_val = center - width // 2, center + width // 2\n",
        "        data = np.clip(data, min_val, max_val)\n",
        "        data = data - np.min(data)\n",
        "        data = data / (np.max(data) + 1e-6)\n",
        "        data = (data * 255).astype(np.uint8)\n",
        "        cv2.imwrite(save_path, data)\n",
        "    except Exception as e:\n",
        "        print(f\"Error processing {dcm_path}: {e}\")\n",
        "\n",
        "for _, row in tqdm(df_test_imgs.iterrows(), total=len(df_test_imgs), desc=\"Processing Test DICOMs\"):\n",
        "    process_dicom_with_sitk(row, TEST_PNG_DIR)\n",
        "\n",
        "print(f\"Finished processing test images. Check '{TEST_PNG_DIR}'.\")"
      ],
      "execution_count": 2,
      "outputs": [
        {
          "output_type": "stream",
          "name": "stdout",
          "text": [
            "--- Preprocessing Test DICOMs to PNG --- \n"
          ]
        },
        {
          "output_type": "stream",
          "name": "stderr",
          "text": [
            "\rProcessing Test DICOMs:   0%|          | 0/638 [00:00<?, ?it/s]"
          ]
        },
        {
          "output_type": "stream",
          "name": "stderr",
          "text": [
            "\rProcessing Test DICOMs:   0%|          | 1/638 [00:00<01:06,  9.64it/s]"
          ]
        },
        {
          "output_type": "stream",
          "name": "stderr",
          "text": [
            "\rProcessing Test DICOMs:   0%|          | 2/638 [00:00<01:23,  7.60it/s]"
          ]
        },
        {
          "output_type": "stream",
          "name": "stderr",
          "text": [
            "\rProcessing Test DICOMs:   1%|          | 4/638 [00:00<00:56, 11.20it/s]"
          ]
        },
        {
          "output_type": "stream",
          "name": "stderr",
          "text": [
            "\rProcessing Test DICOMs:   1%|          | 6/638 [00:00<01:03,  9.96it/s]"
          ]
        },
        {
          "output_type": "stream",
          "name": "stderr",
          "text": [
            "\rProcessing Test DICOMs:   1%|\u258f         | 8/638 [00:00<01:03,  9.95it/s]"
          ]
        },
        {
          "output_type": "stream",
          "name": "stderr",
          "text": [
            "\rProcessing Test DICOMs:   2%|\u258f         | 10/638 [00:01<01:06,  9.42it/s]"
          ]
        },
        {
          "output_type": "stream",
          "name": "stderr",
          "text": [
            "\rProcessing Test DICOMs:   2%|\u258f         | 12/638 [00:01<01:09,  9.07it/s]"
          ]
        },
        {
          "output_type": "stream",
          "name": "stderr",
          "text": [
            "\rProcessing Test DICOMs:   2%|\u258f         | 14/638 [00:01<01:00, 10.31it/s]"
          ]
        },
        {
          "output_type": "stream",
          "name": "stderr",
          "text": [
            "\rProcessing Test DICOMs:   3%|\u258e         | 16/638 [00:02<01:56,  5.32it/s]"
          ]
        },
        {
          "output_type": "stream",
          "name": "stderr",
          "text": [
            "\rProcessing Test DICOMs:   3%|\u258e         | 18/638 [00:02<01:34,  6.53it/s]"
          ]
        },
        {
          "output_type": "stream",
          "name": "stderr",
          "text": [
            "\rProcessing Test DICOMs:   3%|\u258e         | 19/638 [00:02<02:02,  5.06it/s]"
          ]
        },
        {
          "output_type": "stream",
          "name": "stderr",
          "text": [
            "\rProcessing Test DICOMs:   3%|\u258e         | 21/638 [00:02<01:34,  6.50it/s]"
          ]
        },
        {
          "output_type": "stream",
          "name": "stderr",
          "text": [
            "\rProcessing Test DICOMs:   4%|\u258e         | 23/638 [00:03<01:19,  7.72it/s]"
          ]
        },
        {
          "output_type": "stream",
          "name": "stderr",
          "text": [
            "\rProcessing Test DICOMs:   4%|\u258d         | 25/638 [00:03<01:18,  7.76it/s]"
          ]
        },
        {
          "output_type": "stream",
          "name": "stderr",
          "text": [
            "\rProcessing Test DICOMs:   4%|\u258d         | 26/638 [00:03<01:34,  6.47it/s]"
          ]
        },
        {
          "output_type": "stream",
          "name": "stderr",
          "text": [
            "\rProcessing Test DICOMs:   4%|\u258d         | 27/638 [00:03<01:37,  6.28it/s]"
          ]
        },
        {
          "output_type": "stream",
          "name": "stderr",
          "text": [
            "\rProcessing Test DICOMs:   4%|\u258d         | 28/638 [00:03<01:33,  6.53it/s]"
          ]
        },
        {
          "output_type": "stream",
          "name": "stderr",
          "text": [
            "\rProcessing Test DICOMs:   5%|\u258d         | 29/638 [00:04<01:42,  5.92it/s]"
          ]
        },
        {
          "output_type": "stream",
          "name": "stderr",
          "text": [
            "\rProcessing Test DICOMs:   5%|\u258d         | 31/638 [00:04<01:16,  7.93it/s]"
          ]
        },
        {
          "output_type": "stream",
          "name": "stderr",
          "text": [
            "\rProcessing Test DICOMs:   5%|\u258c         | 32/638 [00:04<01:24,  7.19it/s]"
          ]
        },
        {
          "output_type": "stream",
          "name": "stderr",
          "text": [
            "\rProcessing Test DICOMs:   5%|\u258c         | 33/638 [00:04<01:30,  6.69it/s]"
          ]
        },
        {
          "output_type": "stream",
          "name": "stderr",
          "text": [
            "\rProcessing Test DICOMs:   6%|\u258c         | 36/638 [00:05<01:28,  6.80it/s]"
          ]
        },
        {
          "output_type": "stream",
          "name": "stderr",
          "text": [
            "\rProcessing Test DICOMs:   6%|\u258c         | 38/638 [00:05<02:00,  5.00it/s]"
          ]
        },
        {
          "output_type": "stream",
          "name": "stderr",
          "text": [
            "\rProcessing Test DICOMs:   6%|\u258b         | 40/638 [00:05<01:37,  6.14it/s]"
          ]
        },
        {
          "output_type": "stream",
          "name": "stderr",
          "text": [
            "\rProcessing Test DICOMs:   7%|\u258b         | 42/638 [00:05<01:25,  6.96it/s]"
          ]
        },
        {
          "output_type": "stream",
          "name": "stderr",
          "text": [
            "\rProcessing Test DICOMs:   7%|\u258b         | 44/638 [00:06<01:07,  8.78it/s]"
          ]
        },
        {
          "output_type": "stream",
          "name": "stderr",
          "text": [
            "\rProcessing Test DICOMs:   7%|\u258b         | 46/638 [00:06<01:06,  8.87it/s]"
          ]
        },
        {
          "output_type": "stream",
          "name": "stderr",
          "text": [
            "\rProcessing Test DICOMs:   8%|\u258a         | 48/638 [00:06<01:33,  6.33it/s]"
          ]
        },
        {
          "output_type": "stream",
          "name": "stderr",
          "text": [
            "\rProcessing Test DICOMs:   8%|\u258a         | 49/638 [00:06<01:35,  6.16it/s]"
          ]
        },
        {
          "output_type": "stream",
          "name": "stderr",
          "text": [
            "\rProcessing Test DICOMs:   8%|\u258a         | 51/638 [00:07<01:16,  7.67it/s]"
          ]
        },
        {
          "output_type": "stream",
          "name": "stderr",
          "text": [
            "\rProcessing Test DICOMs:   8%|\u258a         | 52/638 [00:07<01:33,  6.24it/s]"
          ]
        },
        {
          "output_type": "stream",
          "name": "stderr",
          "text": [
            "\rProcessing Test DICOMs:   8%|\u258a         | 53/638 [00:07<01:29,  6.54it/s]"
          ]
        },
        {
          "output_type": "stream",
          "name": "stderr",
          "text": [
            "\rProcessing Test DICOMs:   9%|\u258a         | 55/638 [00:07<01:09,  8.40it/s]"
          ]
        },
        {
          "output_type": "stream",
          "name": "stderr",
          "text": [
            "\rProcessing Test DICOMs:   9%|\u2589         | 57/638 [00:07<01:00,  9.65it/s]"
          ]
        },
        {
          "output_type": "stream",
          "name": "stderr",
          "text": [
            "\rProcessing Test DICOMs:   9%|\u2589         | 60/638 [00:07<00:47, 12.15it/s]"
          ]
        },
        {
          "output_type": "stream",
          "name": "stderr",
          "text": [
            "\rProcessing Test DICOMs:  10%|\u2589         | 62/638 [00:08<01:09,  8.34it/s]"
          ]
        },
        {
          "output_type": "stream",
          "name": "stderr",
          "text": [
            "\rProcessing Test DICOMs:  10%|\u2588         | 64/638 [00:08<01:22,  6.94it/s]"
          ]
        },
        {
          "output_type": "stream",
          "name": "stderr",
          "text": [
            "\rProcessing Test DICOMs:  10%|\u2588         | 66/638 [00:08<01:11,  8.00it/s]"
          ]
        },
        {
          "output_type": "stream",
          "name": "stderr",
          "text": [
            "\rProcessing Test DICOMs:  11%|\u2588         | 68/638 [00:09<01:46,  5.35it/s]"
          ]
        },
        {
          "output_type": "stream",
          "name": "stderr",
          "text": [
            "\rProcessing Test DICOMs:  11%|\u2588         | 69/638 [00:09<01:41,  5.62it/s]"
          ]
        },
        {
          "output_type": "stream",
          "name": "stderr",
          "text": [
            "\rProcessing Test DICOMs:  11%|\u2588         | 70/638 [00:10<01:49,  5.17it/s]"
          ]
        },
        {
          "output_type": "stream",
          "name": "stderr",
          "text": [
            "\rProcessing Test DICOMs:  11%|\u2588         | 71/638 [00:10<01:58,  4.78it/s]"
          ]
        },
        {
          "output_type": "stream",
          "name": "stderr",
          "text": [
            "\rProcessing Test DICOMs:  11%|\u2588\u258f        | 72/638 [00:10<02:16,  4.15it/s]"
          ]
        },
        {
          "output_type": "stream",
          "name": "stderr",
          "text": [
            "\rProcessing Test DICOMs:  12%|\u2588\u258f        | 74/638 [00:10<01:43,  5.46it/s]"
          ]
        },
        {
          "output_type": "stream",
          "name": "stderr",
          "text": [
            "\rProcessing Test DICOMs:  12%|\u2588\u258f        | 75/638 [00:11<02:10,  4.33it/s]"
          ]
        },
        {
          "output_type": "stream",
          "name": "stderr",
          "text": [
            "\rProcessing Test DICOMs:  12%|\u2588\u258f        | 77/638 [00:11<01:55,  4.84it/s]"
          ]
        },
        {
          "output_type": "stream",
          "name": "stderr",
          "text": [
            "\rProcessing Test DICOMs:  12%|\u2588\u258f        | 79/638 [00:11<01:25,  6.56it/s]"
          ]
        },
        {
          "output_type": "stream",
          "name": "stderr",
          "text": [
            "\rProcessing Test DICOMs:  13%|\u2588\u258e        | 80/638 [00:11<01:32,  6.04it/s]"
          ]
        },
        {
          "output_type": "stream",
          "name": "stderr",
          "text": [
            "\rProcessing Test DICOMs:  13%|\u2588\u258e        | 82/638 [00:12<01:25,  6.47it/s]"
          ]
        },
        {
          "output_type": "stream",
          "name": "stderr",
          "text": [
            "\rProcessing Test DICOMs:  13%|\u2588\u258e        | 83/638 [00:12<01:22,  6.72it/s]"
          ]
        },
        {
          "output_type": "stream",
          "name": "stderr",
          "text": [
            "\rProcessing Test DICOMs:  13%|\u2588\u258e        | 84/638 [00:12<01:20,  6.85it/s]"
          ]
        },
        {
          "output_type": "stream",
          "name": "stderr",
          "text": [
            "\rProcessing Test DICOMs:  13%|\u2588\u258e        | 86/638 [00:12<01:12,  7.58it/s]"
          ]
        },
        {
          "output_type": "stream",
          "name": "stderr",
          "text": [
            "\rProcessing Test DICOMs:  14%|\u2588\u258d        | 88/638 [00:12<01:02,  8.78it/s]"
          ]
        },
        {
          "output_type": "stream",
          "name": "stderr",
          "text": [
            "\rProcessing Test DICOMs:  14%|\u2588\u258d        | 89/638 [00:12<01:06,  8.26it/s]"
          ]
        },
        {
          "output_type": "stream",
          "name": "stderr",
          "text": [
            "\rProcessing Test DICOMs:  14%|\u2588\u258d        | 90/638 [00:13<01:13,  7.43it/s]"
          ]
        },
        {
          "output_type": "stream",
          "name": "stderr",
          "text": [
            "\rProcessing Test DICOMs:  14%|\u2588\u258d        | 91/638 [00:13<01:31,  5.98it/s]"
          ]
        },
        {
          "output_type": "stream",
          "name": "stderr",
          "text": [
            "\rProcessing Test DICOMs:  15%|\u2588\u258d        | 93/638 [00:13<01:08,  7.99it/s]"
          ]
        },
        {
          "output_type": "stream",
          "name": "stderr",
          "text": [
            "\rProcessing Test DICOMs:  15%|\u2588\u258d        | 95/638 [00:13<01:06,  8.21it/s]"
          ]
        },
        {
          "output_type": "stream",
          "name": "stderr",
          "text": [
            "\rProcessing Test DICOMs:  15%|\u2588\u258c        | 96/638 [00:14<01:25,  6.35it/s]"
          ]
        },
        {
          "output_type": "stream",
          "name": "stderr",
          "text": [
            "\rProcessing Test DICOMs:  15%|\u2588\u258c        | 97/638 [00:14<01:28,  6.13it/s]"
          ]
        },
        {
          "output_type": "stream",
          "name": "stderr",
          "text": [
            "\rProcessing Test DICOMs:  16%|\u2588\u258c        | 99/638 [00:14<01:08,  7.93it/s]"
          ]
        },
        {
          "output_type": "stream",
          "name": "stderr",
          "text": [
            "\rProcessing Test DICOMs:  16%|\u2588\u258c        | 100/638 [00:14<01:14,  7.23it/s]"
          ]
        },
        {
          "output_type": "stream",
          "name": "stderr",
          "text": [
            "\rProcessing Test DICOMs:  16%|\u2588\u258c        | 101/638 [00:14<01:20,  6.71it/s]"
          ]
        },
        {
          "output_type": "stream",
          "name": "stderr",
          "text": [
            "\rProcessing Test DICOMs:  16%|\u2588\u258c        | 102/638 [00:14<01:24,  6.33it/s]"
          ]
        },
        {
          "output_type": "stream",
          "name": "stderr",
          "text": [
            "\rProcessing Test DICOMs:  16%|\u2588\u258b        | 104/638 [00:15<01:09,  7.67it/s]"
          ]
        },
        {
          "output_type": "stream",
          "name": "stderr",
          "text": [
            "\rProcessing Test DICOMs:  16%|\u2588\u258b        | 105/638 [00:15<01:08,  7.75it/s]"
          ]
        },
        {
          "output_type": "stream",
          "name": "stderr",
          "text": [
            "\rProcessing Test DICOMs:  17%|\u2588\u258b        | 107/638 [00:15<01:03,  8.39it/s]"
          ]
        },
        {
          "output_type": "stream",
          "name": "stderr",
          "text": [
            "\rProcessing Test DICOMs:  17%|\u2588\u258b        | 108/638 [00:15<01:10,  7.51it/s]"
          ]
        },
        {
          "output_type": "stream",
          "name": "stderr",
          "text": [
            "\rProcessing Test DICOMs:  17%|\u2588\u258b        | 109/638 [00:15<01:10,  7.50it/s]"
          ]
        },
        {
          "output_type": "stream",
          "name": "stderr",
          "text": [
            "\rProcessing Test DICOMs:  17%|\u2588\u258b        | 110/638 [00:15<01:16,  6.86it/s]"
          ]
        },
        {
          "output_type": "stream",
          "name": "stderr",
          "text": [
            "\rProcessing Test DICOMs:  18%|\u2588\u258a        | 114/638 [00:16<00:48, 10.77it/s]"
          ]
        },
        {
          "output_type": "stream",
          "name": "stderr",
          "text": [
            "\rProcessing Test DICOMs:  18%|\u2588\u258a        | 116/638 [00:16<01:07,  7.74it/s]"
          ]
        },
        {
          "output_type": "stream",
          "name": "stderr",
          "text": [
            "\rProcessing Test DICOMs:  18%|\u2588\u258a        | 118/638 [00:16<00:59,  8.75it/s]"
          ]
        },
        {
          "output_type": "stream",
          "name": "stderr",
          "text": [
            "\rProcessing Test DICOMs:  19%|\u2588\u2589        | 120/638 [00:16<00:52,  9.90it/s]"
          ]
        },
        {
          "output_type": "stream",
          "name": "stderr",
          "text": [
            "\rProcessing Test DICOMs:  19%|\u2588\u2589        | 122/638 [00:17<00:56,  9.15it/s]"
          ]
        },
        {
          "output_type": "stream",
          "name": "stderr",
          "text": [
            "\rProcessing Test DICOMs:  19%|\u2588\u2589        | 124/638 [00:17<00:51,  9.99it/s]"
          ]
        },
        {
          "output_type": "stream",
          "name": "stderr",
          "text": [
            "\rProcessing Test DICOMs:  20%|\u2588\u2589        | 126/638 [00:17<00:45, 11.25it/s]"
          ]
        },
        {
          "output_type": "stream",
          "name": "stderr",
          "text": [
            "\rProcessing Test DICOMs:  20%|\u2588\u2588        | 128/638 [00:17<01:00,  8.44it/s]"
          ]
        },
        {
          "output_type": "stream",
          "name": "stderr",
          "text": [
            "\rProcessing Test DICOMs:  20%|\u2588\u2588        | 130/638 [00:18<01:01,  8.28it/s]"
          ]
        },
        {
          "output_type": "stream",
          "name": "stderr",
          "text": [
            "\rProcessing Test DICOMs:  21%|\u2588\u2588        | 132/638 [00:18<00:53,  9.44it/s]"
          ]
        },
        {
          "output_type": "stream",
          "name": "stderr",
          "text": [
            "\rProcessing Test DICOMs:  21%|\u2588\u2588        | 134/638 [00:18<00:58,  8.63it/s]"
          ]
        },
        {
          "output_type": "stream",
          "name": "stderr",
          "text": [
            "\rProcessing Test DICOMs:  21%|\u2588\u2588        | 135/638 [00:18<00:59,  8.46it/s]"
          ]
        },
        {
          "output_type": "stream",
          "name": "stderr",
          "text": [
            "\rProcessing Test DICOMs:  21%|\u2588\u2588\u258f       | 136/638 [00:18<01:09,  7.21it/s]"
          ]
        },
        {
          "output_type": "stream",
          "name": "stderr",
          "text": [
            "\rProcessing Test DICOMs:  21%|\u2588\u2588\u258f       | 137/638 [00:19<01:28,  5.69it/s]"
          ]
        },
        {
          "output_type": "stream",
          "name": "stderr",
          "text": [
            "\rProcessing Test DICOMs:  22%|\u2588\u2588\u258f       | 138/638 [00:19<01:28,  5.63it/s]"
          ]
        },
        {
          "output_type": "stream",
          "name": "stderr",
          "text": [
            "\rProcessing Test DICOMs:  22%|\u2588\u2588\u258f       | 139/638 [00:19<01:22,  6.07it/s]"
          ]
        },
        {
          "output_type": "stream",
          "name": "stderr",
          "text": [
            "\rProcessing Test DICOMs:  22%|\u2588\u2588\u258f       | 141/638 [00:19<01:09,  7.14it/s]"
          ]
        },
        {
          "output_type": "stream",
          "name": "stderr",
          "text": [
            "\rProcessing Test DICOMs:  22%|\u2588\u2588\u258f       | 143/638 [00:20<01:27,  5.64it/s]"
          ]
        },
        {
          "output_type": "stream",
          "name": "stderr",
          "text": [
            "\rProcessing Test DICOMs:  23%|\u2588\u2588\u258e       | 145/638 [00:20<01:08,  7.18it/s]"
          ]
        },
        {
          "output_type": "stream",
          "name": "stderr",
          "text": [
            "\rProcessing Test DICOMs:  23%|\u2588\u2588\u258e       | 147/638 [00:20<00:55,  8.79it/s]"
          ]
        },
        {
          "output_type": "stream",
          "name": "stderr",
          "text": [
            "\rProcessing Test DICOMs:  23%|\u2588\u2588\u258e       | 149/638 [00:20<01:03,  7.68it/s]"
          ]
        },
        {
          "output_type": "stream",
          "name": "stderr",
          "text": [
            "\rProcessing Test DICOMs:  24%|\u2588\u2588\u258e       | 151/638 [00:21<01:10,  6.89it/s]"
          ]
        },
        {
          "output_type": "stream",
          "name": "stderr",
          "text": [
            "\rProcessing Test DICOMs:  24%|\u2588\u2588\u258d       | 152/638 [00:21<01:10,  6.92it/s]"
          ]
        },
        {
          "output_type": "stream",
          "name": "stderr",
          "text": [
            "\rProcessing Test DICOMs:  24%|\u2588\u2588\u258d       | 153/638 [00:21<01:08,  7.13it/s]"
          ]
        },
        {
          "output_type": "stream",
          "name": "stderr",
          "text": [
            "\rProcessing Test DICOMs:  24%|\u2588\u2588\u258d       | 154/638 [00:21<01:06,  7.31it/s]"
          ]
        },
        {
          "output_type": "stream",
          "name": "stderr",
          "text": [
            "\rProcessing Test DICOMs:  24%|\u2588\u2588\u258d       | 155/638 [00:21<01:07,  7.16it/s]"
          ]
        },
        {
          "output_type": "stream",
          "name": "stderr",
          "text": [
            "\rProcessing Test DICOMs:  25%|\u2588\u2588\u258d       | 157/638 [00:21<00:56,  8.47it/s]"
          ]
        },
        {
          "output_type": "stream",
          "name": "stderr",
          "text": [
            "\rProcessing Test DICOMs:  25%|\u2588\u2588\u258d       | 159/638 [00:21<00:47, 10.07it/s]"
          ]
        },
        {
          "output_type": "stream",
          "name": "stderr",
          "text": [
            "\rProcessing Test DICOMs:  25%|\u2588\u2588\u258c       | 161/638 [00:22<00:56,  8.49it/s]"
          ]
        },
        {
          "output_type": "stream",
          "name": "stderr",
          "text": [
            "\rProcessing Test DICOMs:  25%|\u2588\u2588\u258c       | 162/638 [00:22<01:05,  7.24it/s]"
          ]
        },
        {
          "output_type": "stream",
          "name": "stderr",
          "text": [
            "\rProcessing Test DICOMs:  26%|\u2588\u2588\u258c       | 163/638 [00:22<01:04,  7.35it/s]"
          ]
        },
        {
          "output_type": "stream",
          "name": "stderr",
          "text": [
            "\rProcessing Test DICOMs:  26%|\u2588\u2588\u258c       | 165/638 [00:22<01:03,  7.45it/s]"
          ]
        },
        {
          "output_type": "stream",
          "name": "stderr",
          "text": [
            "\rProcessing Test DICOMs:  26%|\u2588\u2588\u258c       | 167/638 [00:23<01:01,  7.71it/s]"
          ]
        },
        {
          "output_type": "stream",
          "name": "stderr",
          "text": [
            "\rProcessing Test DICOMs:  26%|\u2588\u2588\u258b       | 168/638 [00:23<01:00,  7.78it/s]"
          ]
        },
        {
          "output_type": "stream",
          "name": "stderr",
          "text": [
            "\rProcessing Test DICOMs:  26%|\u2588\u2588\u258b       | 169/638 [00:23<01:00,  7.76it/s]"
          ]
        },
        {
          "output_type": "stream",
          "name": "stderr",
          "text": [
            "\rProcessing Test DICOMs:  27%|\u2588\u2588\u258b       | 170/638 [00:23<01:31,  5.13it/s]"
          ]
        },
        {
          "output_type": "stream",
          "name": "stderr",
          "text": [
            "\rProcessing Test DICOMs:  27%|\u2588\u2588\u258b       | 171/638 [00:23<01:24,  5.51it/s]"
          ]
        },
        {
          "output_type": "stream",
          "name": "stderr",
          "text": [
            "\rProcessing Test DICOMs:  27%|\u2588\u2588\u258b       | 173/638 [00:24<01:07,  6.89it/s]"
          ]
        },
        {
          "output_type": "stream",
          "name": "stderr",
          "text": [
            "\rProcessing Test DICOMs:  27%|\u2588\u2588\u258b       | 175/638 [00:24<00:54,  8.53it/s]"
          ]
        },
        {
          "output_type": "stream",
          "name": "stderr",
          "text": [
            "\rProcessing Test DICOMs:  28%|\u2588\u2588\u258a       | 177/638 [00:24<00:49,  9.34it/s]"
          ]
        },
        {
          "output_type": "stream",
          "name": "stderr",
          "text": [
            "\rProcessing Test DICOMs:  28%|\u2588\u2588\u258a       | 179/638 [00:24<00:54,  8.45it/s]"
          ]
        },
        {
          "output_type": "stream",
          "name": "stderr",
          "text": [
            "\rProcessing Test DICOMs:  28%|\u2588\u2588\u258a       | 181/638 [00:24<00:47,  9.70it/s]"
          ]
        },
        {
          "output_type": "stream",
          "name": "stderr",
          "text": [
            "\rProcessing Test DICOMs:  29%|\u2588\u2588\u258a       | 183/638 [00:25<01:02,  7.33it/s]"
          ]
        },
        {
          "output_type": "stream",
          "name": "stderr",
          "text": [
            "\rProcessing Test DICOMs:  29%|\u2588\u2588\u2589       | 185/638 [00:25<01:00,  7.50it/s]"
          ]
        },
        {
          "output_type": "stream",
          "name": "stderr",
          "text": [
            "\rProcessing Test DICOMs:  29%|\u2588\u2588\u2589       | 186/638 [00:25<01:04,  7.04it/s]"
          ]
        },
        {
          "output_type": "stream",
          "name": "stderr",
          "text": [
            "\rProcessing Test DICOMs:  29%|\u2588\u2588\u2589       | 188/638 [00:25<00:53,  8.33it/s]"
          ]
        },
        {
          "output_type": "stream",
          "name": "stderr",
          "text": [
            "\rProcessing Test DICOMs:  30%|\u2588\u2588\u2589       | 190/638 [00:26<00:48,  9.29it/s]"
          ]
        },
        {
          "output_type": "stream",
          "name": "stderr",
          "text": [
            "\rProcessing Test DICOMs:  30%|\u2588\u2588\u2588       | 192/638 [00:26<01:13,  6.08it/s]"
          ]
        },
        {
          "output_type": "stream",
          "name": "stderr",
          "text": [
            "\rProcessing Test DICOMs:  30%|\u2588\u2588\u2588       | 193/638 [00:26<01:16,  5.82it/s]"
          ]
        },
        {
          "output_type": "stream",
          "name": "stderr",
          "text": [
            "\rProcessing Test DICOMs:  30%|\u2588\u2588\u2588       | 194/638 [00:26<01:13,  6.06it/s]"
          ]
        },
        {
          "output_type": "stream",
          "name": "stderr",
          "text": [
            "\rProcessing Test DICOMs:  31%|\u2588\u2588\u2588       | 195/638 [00:27<01:18,  5.63it/s]"
          ]
        },
        {
          "output_type": "stream",
          "name": "stderr",
          "text": [
            "\rProcessing Test DICOMs:  31%|\u2588\u2588\u2588       | 197/638 [00:27<01:01,  7.20it/s]"
          ]
        },
        {
          "output_type": "stream",
          "name": "stderr",
          "text": [
            "\rProcessing Test DICOMs:  31%|\u2588\u2588\u2588       | 199/638 [00:27<00:55,  7.95it/s]"
          ]
        },
        {
          "output_type": "stream",
          "name": "stderr",
          "text": [
            "\rProcessing Test DICOMs:  32%|\u2588\u2588\u2588\u258f      | 201/638 [00:27<00:53,  8.15it/s]"
          ]
        },
        {
          "output_type": "stream",
          "name": "stderr",
          "text": [
            "\rProcessing Test DICOMs:  32%|\u2588\u2588\u2588\u258f      | 202/638 [00:28<01:35,  4.55it/s]"
          ]
        },
        {
          "output_type": "stream",
          "name": "stderr",
          "text": [
            "\rProcessing Test DICOMs:  32%|\u2588\u2588\u2588\u258f      | 204/638 [00:28<01:22,  5.27it/s]"
          ]
        },
        {
          "output_type": "stream",
          "name": "stderr",
          "text": [
            "\rProcessing Test DICOMs:  32%|\u2588\u2588\u2588\u258f      | 206/638 [00:28<01:05,  6.56it/s]"
          ]
        },
        {
          "output_type": "stream",
          "name": "stderr",
          "text": [
            "\rProcessing Test DICOMs:  33%|\u2588\u2588\u2588\u258e      | 208/638 [00:28<00:53,  8.03it/s]"
          ]
        },
        {
          "output_type": "stream",
          "name": "stderr",
          "text": [
            "\rProcessing Test DICOMs:  33%|\u2588\u2588\u2588\u258e      | 210/638 [00:29<01:01,  7.01it/s]"
          ]
        },
        {
          "output_type": "stream",
          "name": "stderr",
          "text": [
            "\rProcessing Test DICOMs:  33%|\u2588\u2588\u2588\u258e      | 212/638 [00:29<01:25,  4.96it/s]"
          ]
        },
        {
          "output_type": "stream",
          "name": "stderr",
          "text": [
            "\rProcessing Test DICOMs:  34%|\u2588\u2588\u2588\u258e      | 214/638 [00:30<01:08,  6.16it/s]"
          ]
        },
        {
          "output_type": "stream",
          "name": "stderr",
          "text": [
            "\rProcessing Test DICOMs:  34%|\u2588\u2588\u2588\u258e      | 215/638 [00:30<01:42,  4.13it/s]"
          ]
        },
        {
          "output_type": "stream",
          "name": "stderr",
          "text": [
            "\rProcessing Test DICOMs:  34%|\u2588\u2588\u2588\u258d      | 216/638 [00:30<01:31,  4.59it/s]"
          ]
        },
        {
          "output_type": "stream",
          "name": "stderr",
          "text": [
            "\rProcessing Test DICOMs:  34%|\u2588\u2588\u2588\u258d      | 218/638 [00:30<01:09,  6.04it/s]"
          ]
        },
        {
          "output_type": "stream",
          "name": "stderr",
          "text": [
            "\rProcessing Test DICOMs:  34%|\u2588\u2588\u2588\u258d      | 219/638 [00:31<01:17,  5.40it/s]"
          ]
        },
        {
          "output_type": "stream",
          "name": "stderr",
          "text": [
            "\rProcessing Test DICOMs:  34%|\u2588\u2588\u2588\u258d      | 220/638 [00:31<01:38,  4.25it/s]"
          ]
        },
        {
          "output_type": "stream",
          "name": "stderr",
          "text": [
            "\rProcessing Test DICOMs:  35%|\u2588\u2588\u2588\u258d      | 221/638 [00:32<01:55,  3.62it/s]"
          ]
        },
        {
          "output_type": "stream",
          "name": "stderr",
          "text": [
            "\rProcessing Test DICOMs:  35%|\u2588\u2588\u2588\u258d      | 223/638 [00:32<01:20,  5.18it/s]"
          ]
        },
        {
          "output_type": "stream",
          "name": "stderr",
          "text": [
            "\rProcessing Test DICOMs:  35%|\u2588\u2588\u2588\u258c      | 224/638 [00:32<01:14,  5.56it/s]"
          ]
        },
        {
          "output_type": "stream",
          "name": "stderr",
          "text": [
            "\rProcessing Test DICOMs:  35%|\u2588\u2588\u2588\u258c      | 226/638 [00:32<00:57,  7.14it/s]"
          ]
        },
        {
          "output_type": "stream",
          "name": "stderr",
          "text": [
            "\rProcessing Test DICOMs:  36%|\u2588\u2588\u2588\u258c      | 227/638 [00:32<00:57,  7.13it/s]"
          ]
        },
        {
          "output_type": "stream",
          "name": "stderr",
          "text": [
            "\rProcessing Test DICOMs:  36%|\u2588\u2588\u2588\u258c      | 228/638 [00:32<01:04,  6.34it/s]"
          ]
        },
        {
          "output_type": "stream",
          "name": "stderr",
          "text": [
            "\rProcessing Test DICOMs:  36%|\u2588\u2588\u2588\u258c      | 229/638 [00:33<01:06,  6.13it/s]"
          ]
        },
        {
          "output_type": "stream",
          "name": "stderr",
          "text": [
            "\rProcessing Test DICOMs:  36%|\u2588\u2588\u2588\u258c      | 230/638 [00:33<01:03,  6.47it/s]"
          ]
        },
        {
          "output_type": "stream",
          "name": "stderr",
          "text": [
            "\rProcessing Test DICOMs:  36%|\u2588\u2588\u2588\u258c      | 231/638 [00:33<00:59,  6.83it/s]"
          ]
        },
        {
          "output_type": "stream",
          "name": "stderr",
          "text": [
            "\rProcessing Test DICOMs:  36%|\u2588\u2588\u2588\u258b      | 232/638 [00:33<01:11,  5.66it/s]"
          ]
        },
        {
          "output_type": "stream",
          "name": "stderr",
          "text": [
            "\rProcessing Test DICOMs:  37%|\u2588\u2588\u2588\u258b      | 233/638 [00:33<01:20,  5.02it/s]"
          ]
        },
        {
          "output_type": "stream",
          "name": "stderr",
          "text": [
            "\rProcessing Test DICOMs:  37%|\u2588\u2588\u2588\u258b      | 234/638 [00:33<01:16,  5.26it/s]"
          ]
        },
        {
          "output_type": "stream",
          "name": "stderr",
          "text": [
            "\rProcessing Test DICOMs:  37%|\u2588\u2588\u2588\u258b      | 236/638 [00:34<01:04,  6.22it/s]"
          ]
        },
        {
          "output_type": "stream",
          "name": "stderr",
          "text": [
            "\rProcessing Test DICOMs:  37%|\u2588\u2588\u2588\u258b      | 238/638 [00:34<01:05,  6.11it/s]"
          ]
        },
        {
          "output_type": "stream",
          "name": "stderr",
          "text": [
            "\rProcessing Test DICOMs:  38%|\u2588\u2588\u2588\u258a      | 240/638 [00:34<00:50,  7.87it/s]"
          ]
        },
        {
          "output_type": "stream",
          "name": "stderr",
          "text": [
            "\rProcessing Test DICOMs:  38%|\u2588\u2588\u2588\u258a      | 241/638 [00:35<01:12,  5.44it/s]"
          ]
        },
        {
          "output_type": "stream",
          "name": "stderr",
          "text": [
            "\rProcessing Test DICOMs:  38%|\u2588\u2588\u2588\u258a      | 243/638 [00:35<00:56,  7.00it/s]"
          ]
        },
        {
          "output_type": "stream",
          "name": "stderr",
          "text": [
            "\rProcessing Test DICOMs:  38%|\u2588\u2588\u2588\u258a      | 244/638 [00:35<00:59,  6.62it/s]"
          ]
        },
        {
          "output_type": "stream",
          "name": "stderr",
          "text": [
            "\rProcessing Test DICOMs:  38%|\u2588\u2588\u2588\u258a      | 245/638 [00:35<01:05,  6.00it/s]"
          ]
        },
        {
          "output_type": "stream",
          "name": "stderr",
          "text": [
            "\rProcessing Test DICOMs:  39%|\u2588\u2588\u2588\u258a      | 247/638 [00:35<00:59,  6.61it/s]"
          ]
        },
        {
          "output_type": "stream",
          "name": "stderr",
          "text": [
            "\rProcessing Test DICOMs:  39%|\u2588\u2588\u2588\u2589      | 248/638 [00:36<01:01,  6.32it/s]"
          ]
        },
        {
          "output_type": "stream",
          "name": "stderr",
          "text": [
            "\rProcessing Test DICOMs:  39%|\u2588\u2588\u2588\u2589      | 249/638 [00:36<01:07,  5.76it/s]"
          ]
        },
        {
          "output_type": "stream",
          "name": "stderr",
          "text": [
            "\rProcessing Test DICOMs:  39%|\u2588\u2588\u2588\u2589      | 250/638 [00:36<01:04,  6.06it/s]"
          ]
        },
        {
          "output_type": "stream",
          "name": "stderr",
          "text": [
            "\rProcessing Test DICOMs:  39%|\u2588\u2588\u2588\u2589      | 252/638 [00:36<00:48,  7.88it/s]"
          ]
        },
        {
          "output_type": "stream",
          "name": "stderr",
          "text": [
            "\rProcessing Test DICOMs:  40%|\u2588\u2588\u2588\u2589      | 254/638 [00:36<00:45,  8.43it/s]"
          ]
        },
        {
          "output_type": "stream",
          "name": "stderr",
          "text": [
            "\rProcessing Test DICOMs:  40%|\u2588\u2588\u2588\u2589      | 255/638 [00:37<00:57,  6.64it/s]"
          ]
        },
        {
          "output_type": "stream",
          "name": "stderr",
          "text": [
            "\rProcessing Test DICOMs:  40%|\u2588\u2588\u2588\u2588      | 257/638 [00:37<00:59,  6.38it/s]"
          ]
        },
        {
          "output_type": "stream",
          "name": "stderr",
          "text": [
            "\rProcessing Test DICOMs:  40%|\u2588\u2588\u2588\u2588      | 258/638 [00:37<00:58,  6.45it/s]"
          ]
        },
        {
          "output_type": "stream",
          "name": "stderr",
          "text": [
            "\rProcessing Test DICOMs:  41%|\u2588\u2588\u2588\u2588      | 259/638 [00:37<00:56,  6.67it/s]"
          ]
        },
        {
          "output_type": "stream",
          "name": "stderr",
          "text": [
            "\rProcessing Test DICOMs:  41%|\u2588\u2588\u2588\u2588      | 261/638 [00:37<00:42,  8.80it/s]"
          ]
        },
        {
          "output_type": "stream",
          "name": "stderr",
          "text": [
            "\rProcessing Test DICOMs:  41%|\u2588\u2588\u2588\u2588      | 263/638 [00:37<00:35, 10.66it/s]"
          ]
        },
        {
          "output_type": "stream",
          "name": "stderr",
          "text": [
            "\rProcessing Test DICOMs:  42%|\u2588\u2588\u2588\u2588\u258f     | 265/638 [00:38<00:45,  8.16it/s]"
          ]
        },
        {
          "output_type": "stream",
          "name": "stderr",
          "text": [
            "\rProcessing Test DICOMs:  42%|\u2588\u2588\u2588\u2588\u258f     | 267/638 [00:38<00:50,  7.41it/s]"
          ]
        },
        {
          "output_type": "stream",
          "name": "stderr",
          "text": [
            "\rProcessing Test DICOMs:  42%|\u2588\u2588\u2588\u2588\u258f     | 268/638 [00:38<00:50,  7.28it/s]"
          ]
        },
        {
          "output_type": "stream",
          "name": "stderr",
          "text": [
            "\rProcessing Test DICOMs:  42%|\u2588\u2588\u2588\u2588\u258f     | 269/638 [00:38<00:58,  6.27it/s]"
          ]
        },
        {
          "output_type": "stream",
          "name": "stderr",
          "text": [
            "\rProcessing Test DICOMs:  42%|\u2588\u2588\u2588\u2588\u258f     | 271/638 [00:39<00:51,  7.11it/s]"
          ]
        },
        {
          "output_type": "stream",
          "name": "stderr",
          "text": [
            "\rProcessing Test DICOMs:  43%|\u2588\u2588\u2588\u2588\u258e     | 273/638 [00:39<00:49,  7.34it/s]"
          ]
        },
        {
          "output_type": "stream",
          "name": "stderr",
          "text": [
            "\rProcessing Test DICOMs:  43%|\u2588\u2588\u2588\u2588\u258e     | 274/638 [00:39<01:08,  5.33it/s]"
          ]
        },
        {
          "output_type": "stream",
          "name": "stderr",
          "text": [
            "\rProcessing Test DICOMs:  43%|\u2588\u2588\u2588\u2588\u258e     | 276/638 [00:39<00:52,  6.84it/s]"
          ]
        },
        {
          "output_type": "stream",
          "name": "stderr",
          "text": [
            "\rProcessing Test DICOMs:  43%|\u2588\u2588\u2588\u2588\u258e     | 277/638 [00:40<00:55,  6.51it/s]"
          ]
        },
        {
          "output_type": "stream",
          "name": "stderr",
          "text": [
            "\rProcessing Test DICOMs:  44%|\u2588\u2588\u2588\u2588\u258e     | 279/638 [00:40<00:44,  8.11it/s]"
          ]
        },
        {
          "output_type": "stream",
          "name": "stderr",
          "text": [
            "\rProcessing Test DICOMs:  44%|\u2588\u2588\u2588\u2588\u258d     | 280/638 [00:40<00:54,  6.56it/s]"
          ]
        },
        {
          "output_type": "stream",
          "name": "stderr",
          "text": [
            "\rProcessing Test DICOMs:  44%|\u2588\u2588\u2588\u2588\u258d     | 281/638 [00:40<01:05,  5.46it/s]"
          ]
        },
        {
          "output_type": "stream",
          "name": "stderr",
          "text": [
            "\rProcessing Test DICOMs:  44%|\u2588\u2588\u2588\u2588\u258d     | 282/638 [00:41<01:04,  5.51it/s]"
          ]
        },
        {
          "output_type": "stream",
          "name": "stderr",
          "text": [
            "\rProcessing Test DICOMs:  45%|\u2588\u2588\u2588\u2588\u258d     | 284/638 [00:41<00:48,  7.24it/s]"
          ]
        },
        {
          "output_type": "stream",
          "name": "stderr",
          "text": [
            "\rProcessing Test DICOMs:  45%|\u2588\u2588\u2588\u2588\u258d     | 285/638 [00:41<00:48,  7.21it/s]"
          ]
        },
        {
          "output_type": "stream",
          "name": "stderr",
          "text": [
            "\rProcessing Test DICOMs:  45%|\u2588\u2588\u2588\u2588\u258d     | 286/638 [00:41<00:53,  6.61it/s]"
          ]
        },
        {
          "output_type": "stream",
          "name": "stderr",
          "text": [
            "\rProcessing Test DICOMs:  45%|\u2588\u2588\u2588\u2588\u258c     | 288/638 [00:41<00:43,  8.12it/s]"
          ]
        },
        {
          "output_type": "stream",
          "name": "stderr",
          "text": [
            "\rProcessing Test DICOMs:  45%|\u2588\u2588\u2588\u2588\u258c     | 290/638 [00:41<00:39,  8.71it/s]"
          ]
        },
        {
          "output_type": "stream",
          "name": "stderr",
          "text": [
            "\rProcessing Test DICOMs:  46%|\u2588\u2588\u2588\u2588\u258c     | 291/638 [00:42<00:45,  7.71it/s]"
          ]
        },
        {
          "output_type": "stream",
          "name": "stderr",
          "text": [
            "\rProcessing Test DICOMs:  46%|\u2588\u2588\u2588\u2588\u258c     | 293/638 [00:42<00:36,  9.58it/s]"
          ]
        },
        {
          "output_type": "stream",
          "name": "stderr",
          "text": [
            "\rProcessing Test DICOMs:  46%|\u2588\u2588\u2588\u2588\u258c     | 295/638 [00:42<00:43,  7.90it/s]"
          ]
        },
        {
          "output_type": "stream",
          "name": "stderr",
          "text": [
            "\rProcessing Test DICOMs:  46%|\u2588\u2588\u2588\u2588\u258b     | 296/638 [00:42<00:43,  7.79it/s]"
          ]
        },
        {
          "output_type": "stream",
          "name": "stderr",
          "text": [
            "\rProcessing Test DICOMs:  47%|\u2588\u2588\u2588\u2588\u258b     | 297/638 [00:42<00:48,  6.99it/s]"
          ]
        },
        {
          "output_type": "stream",
          "name": "stderr",
          "text": [
            "\rProcessing Test DICOMs:  47%|\u2588\u2588\u2588\u2588\u258b     | 299/638 [00:43<00:45,  7.51it/s]"
          ]
        },
        {
          "output_type": "stream",
          "name": "stderr",
          "text": [
            "\rProcessing Test DICOMs:  47%|\u2588\u2588\u2588\u2588\u258b     | 300/638 [00:43<00:48,  6.96it/s]"
          ]
        },
        {
          "output_type": "stream",
          "name": "stderr",
          "text": [
            "\rProcessing Test DICOMs:  47%|\u2588\u2588\u2588\u2588\u258b     | 301/638 [00:43<01:05,  5.17it/s]"
          ]
        },
        {
          "output_type": "stream",
          "name": "stderr",
          "text": [
            "\rProcessing Test DICOMs:  47%|\u2588\u2588\u2588\u2588\u258b     | 302/638 [00:43<01:02,  5.36it/s]"
          ]
        },
        {
          "output_type": "stream",
          "name": "stderr",
          "text": [
            "\rProcessing Test DICOMs:  47%|\u2588\u2588\u2588\u2588\u258b     | 303/638 [00:43<01:02,  5.39it/s]"
          ]
        },
        {
          "output_type": "stream",
          "name": "stderr",
          "text": [
            "\rProcessing Test DICOMs:  48%|\u2588\u2588\u2588\u2588\u258a     | 305/638 [00:44<00:46,  7.22it/s]"
          ]
        },
        {
          "output_type": "stream",
          "name": "stderr",
          "text": [
            "\rProcessing Test DICOMs:  48%|\u2588\u2588\u2588\u2588\u258a     | 306/638 [00:44<00:44,  7.39it/s]"
          ]
        },
        {
          "output_type": "stream",
          "name": "stderr",
          "text": [
            "\rProcessing Test DICOMs:  48%|\u2588\u2588\u2588\u2588\u258a     | 307/638 [00:44<00:49,  6.65it/s]"
          ]
        },
        {
          "output_type": "stream",
          "name": "stderr",
          "text": [
            "\rProcessing Test DICOMs:  48%|\u2588\u2588\u2588\u2588\u258a     | 309/638 [00:44<00:41,  7.91it/s]"
          ]
        },
        {
          "output_type": "stream",
          "name": "stderr",
          "text": [
            "\rProcessing Test DICOMs:  49%|\u2588\u2588\u2588\u2588\u258a     | 311/638 [00:44<00:41,  7.82it/s]"
          ]
        },
        {
          "output_type": "stream",
          "name": "stderr",
          "text": [
            "\rProcessing Test DICOMs:  49%|\u2588\u2588\u2588\u2588\u2589     | 313/638 [00:45<00:39,  8.23it/s]"
          ]
        },
        {
          "output_type": "stream",
          "name": "stderr",
          "text": [
            "\rProcessing Test DICOMs:  49%|\u2588\u2588\u2588\u2588\u2589     | 315/638 [00:45<00:39,  8.08it/s]"
          ]
        },
        {
          "output_type": "stream",
          "name": "stderr",
          "text": [
            "\rProcessing Test DICOMs:  50%|\u2588\u2588\u2588\u2588\u2589     | 317/638 [00:45<00:34,  9.41it/s]"
          ]
        },
        {
          "output_type": "stream",
          "name": "stderr",
          "text": [
            "\rProcessing Test DICOMs:  50%|\u2588\u2588\u2588\u2588\u2588     | 319/638 [00:45<00:45,  6.98it/s]"
          ]
        },
        {
          "output_type": "stream",
          "name": "stderr",
          "text": [
            "\rProcessing Test DICOMs:  50%|\u2588\u2588\u2588\u2588\u2588     | 320/638 [00:46<00:55,  5.75it/s]"
          ]
        },
        {
          "output_type": "stream",
          "name": "stderr",
          "text": [
            "\rProcessing Test DICOMs:  51%|\u2588\u2588\u2588\u2588\u2588     | 323/638 [00:46<01:01,  5.10it/s]"
          ]
        },
        {
          "output_type": "stream",
          "name": "stderr",
          "text": [
            "\rProcessing Test DICOMs:  51%|\u2588\u2588\u2588\u2588\u2588     | 324/638 [00:47<01:02,  5.05it/s]"
          ]
        },
        {
          "output_type": "stream",
          "name": "stderr",
          "text": [
            "\rProcessing Test DICOMs:  51%|\u2588\u2588\u2588\u2588\u2588     | 325/638 [00:47<00:57,  5.46it/s]"
          ]
        },
        {
          "output_type": "stream",
          "name": "stderr",
          "text": [
            "\rProcessing Test DICOMs:  51%|\u2588\u2588\u2588\u2588\u2588     | 326/638 [00:47<00:53,  5.83it/s]"
          ]
        },
        {
          "output_type": "stream",
          "name": "stderr",
          "text": [
            "\rProcessing Test DICOMs:  51%|\u2588\u2588\u2588\u2588\u2588\u258f    | 327/638 [00:47<00:59,  5.20it/s]"
          ]
        },
        {
          "output_type": "stream",
          "name": "stderr",
          "text": [
            "\rProcessing Test DICOMs:  52%|\u2588\u2588\u2588\u2588\u2588\u258f    | 329/638 [00:47<00:42,  7.30it/s]"
          ]
        },
        {
          "output_type": "stream",
          "name": "stderr",
          "text": [
            "\rProcessing Test DICOMs:  52%|\u2588\u2588\u2588\u2588\u2588\u258f    | 330/638 [00:47<00:41,  7.47it/s]"
          ]
        },
        {
          "output_type": "stream",
          "name": "stderr",
          "text": [
            "\rProcessing Test DICOMs:  52%|\u2588\u2588\u2588\u2588\u2588\u258f    | 331/638 [00:48<00:50,  6.02it/s]"
          ]
        },
        {
          "output_type": "stream",
          "name": "stderr",
          "text": [
            "\rProcessing Test DICOMs:  52%|\u2588\u2588\u2588\u2588\u2588\u258f    | 332/638 [00:48<00:47,  6.44it/s]"
          ]
        },
        {
          "output_type": "stream",
          "name": "stderr",
          "text": [
            "\rProcessing Test DICOMs:  52%|\u2588\u2588\u2588\u2588\u2588\u258f    | 333/638 [00:48<01:25,  3.57it/s]"
          ]
        },
        {
          "output_type": "stream",
          "name": "stderr",
          "text": [
            "\rProcessing Test DICOMs:  53%|\u2588\u2588\u2588\u2588\u2588\u258e    | 335/638 [00:49<01:07,  4.48it/s]"
          ]
        },
        {
          "output_type": "stream",
          "name": "stderr",
          "text": [
            "\rProcessing Test DICOMs:  53%|\u2588\u2588\u2588\u2588\u2588\u258e    | 336/638 [00:49<01:04,  4.71it/s]"
          ]
        },
        {
          "output_type": "stream",
          "name": "stderr",
          "text": [
            "\rProcessing Test DICOMs:  53%|\u2588\u2588\u2588\u2588\u2588\u258e    | 337/638 [00:49<00:58,  5.15it/s]"
          ]
        },
        {
          "output_type": "stream",
          "name": "stderr",
          "text": [
            "\rProcessing Test DICOMs:  53%|\u2588\u2588\u2588\u2588\u2588\u258e    | 339/638 [00:49<00:43,  6.85it/s]"
          ]
        },
        {
          "output_type": "stream",
          "name": "stderr",
          "text": [
            "\rProcessing Test DICOMs:  53%|\u2588\u2588\u2588\u2588\u2588\u258e    | 341/638 [00:50<00:45,  6.59it/s]"
          ]
        },
        {
          "output_type": "stream",
          "name": "stderr",
          "text": [
            "\rProcessing Test DICOMs:  54%|\u2588\u2588\u2588\u2588\u2588\u258d    | 344/638 [00:50<00:32,  9.15it/s]"
          ]
        },
        {
          "output_type": "stream",
          "name": "stderr",
          "text": [
            "\rProcessing Test DICOMs:  54%|\u2588\u2588\u2588\u2588\u2588\u258d    | 346/638 [00:50<00:36,  8.07it/s]"
          ]
        },
        {
          "output_type": "stream",
          "name": "stderr",
          "text": [
            "\rProcessing Test DICOMs:  54%|\u2588\u2588\u2588\u2588\u2588\u258d    | 347/638 [00:50<00:38,  7.52it/s]"
          ]
        },
        {
          "output_type": "stream",
          "name": "stderr",
          "text": [
            "\rProcessing Test DICOMs:  55%|\u2588\u2588\u2588\u2588\u2588\u258d    | 348/638 [00:50<00:41,  7.01it/s]"
          ]
        },
        {
          "output_type": "stream",
          "name": "stderr",
          "text": [
            "\rProcessing Test DICOMs:  55%|\u2588\u2588\u2588\u2588\u2588\u258d    | 349/638 [00:51<00:42,  6.84it/s]"
          ]
        },
        {
          "output_type": "stream",
          "name": "stderr",
          "text": [
            "\rProcessing Test DICOMs:  55%|\u2588\u2588\u2588\u2588\u2588\u258d    | 350/638 [00:51<00:41,  6.92it/s]"
          ]
        },
        {
          "output_type": "stream",
          "name": "stderr",
          "text": [
            "\rProcessing Test DICOMs:  55%|\u2588\u2588\u2588\u2588\u2588\u258c    | 351/638 [00:51<00:47,  6.06it/s]"
          ]
        },
        {
          "output_type": "stream",
          "name": "stderr",
          "text": [
            "\rProcessing Test DICOMs:  55%|\u2588\u2588\u2588\u2588\u2588\u258c    | 353/638 [00:51<00:39,  7.29it/s]"
          ]
        },
        {
          "output_type": "stream",
          "name": "stderr",
          "text": [
            "\rProcessing Test DICOMs:  55%|\u2588\u2588\u2588\u2588\u2588\u258c    | 354/638 [00:51<00:38,  7.43it/s]"
          ]
        },
        {
          "output_type": "stream",
          "name": "stderr",
          "text": [
            "\rProcessing Test DICOMs:  56%|\u2588\u2588\u2588\u2588\u2588\u258c    | 355/638 [00:51<00:41,  6.83it/s]"
          ]
        },
        {
          "output_type": "stream",
          "name": "stderr",
          "text": [
            "\rProcessing Test DICOMs:  56%|\u2588\u2588\u2588\u2588\u2588\u258c    | 357/638 [00:52<00:36,  7.73it/s]"
          ]
        },
        {
          "output_type": "stream",
          "name": "stderr",
          "text": [
            "\rProcessing Test DICOMs:  56%|\u2588\u2588\u2588\u2588\u2588\u258c    | 358/638 [00:52<00:35,  7.80it/s]"
          ]
        },
        {
          "output_type": "stream",
          "name": "stderr",
          "text": [
            "\rProcessing Test DICOMs:  56%|\u2588\u2588\u2588\u2588\u2588\u258b    | 360/638 [00:52<00:36,  7.63it/s]"
          ]
        },
        {
          "output_type": "stream",
          "name": "stderr",
          "text": [
            "\rProcessing Test DICOMs:  57%|\u2588\u2588\u2588\u2588\u2588\u258b    | 362/638 [00:52<00:33,  8.21it/s]"
          ]
        },
        {
          "output_type": "stream",
          "name": "stderr",
          "text": [
            "\rProcessing Test DICOMs:  57%|\u2588\u2588\u2588\u2588\u2588\u258b    | 363/638 [00:52<00:37,  7.40it/s]"
          ]
        },
        {
          "output_type": "stream",
          "name": "stderr",
          "text": [
            "\rProcessing Test DICOMs:  57%|\u2588\u2588\u2588\u2588\u2588\u258b    | 365/638 [00:53<00:29,  9.12it/s]"
          ]
        },
        {
          "output_type": "stream",
          "name": "stderr",
          "text": [
            "\rProcessing Test DICOMs:  58%|\u2588\u2588\u2588\u2588\u2588\u258a    | 367/638 [00:53<00:31,  8.51it/s]"
          ]
        },
        {
          "output_type": "stream",
          "name": "stderr",
          "text": [
            "\rProcessing Test DICOMs:  58%|\u2588\u2588\u2588\u2588\u2588\u258a    | 370/638 [00:53<00:25, 10.48it/s]"
          ]
        },
        {
          "output_type": "stream",
          "name": "stderr",
          "text": [
            "\rProcessing Test DICOMs:  58%|\u2588\u2588\u2588\u2588\u2588\u258a    | 372/638 [00:53<00:35,  7.53it/s]"
          ]
        },
        {
          "output_type": "stream",
          "name": "stderr",
          "text": [
            "\rProcessing Test DICOMs:  58%|\u2588\u2588\u2588\u2588\u2588\u258a    | 373/638 [00:54<00:35,  7.45it/s]"
          ]
        },
        {
          "output_type": "stream",
          "name": "stderr",
          "text": [
            "\rProcessing Test DICOMs:  59%|\u2588\u2588\u2588\u2588\u2588\u2589    | 375/638 [00:54<00:30,  8.76it/s]"
          ]
        },
        {
          "output_type": "stream",
          "name": "stderr",
          "text": [
            "\rProcessing Test DICOMs:  59%|\u2588\u2588\u2588\u2588\u2588\u2589    | 377/638 [00:54<00:26,  9.69it/s]"
          ]
        },
        {
          "output_type": "stream",
          "name": "stderr",
          "text": [
            "\rProcessing Test DICOMs:  59%|\u2588\u2588\u2588\u2588\u2588\u2589    | 379/638 [00:54<00:28,  9.04it/s]"
          ]
        },
        {
          "output_type": "stream",
          "name": "stderr",
          "text": [
            "\rProcessing Test DICOMs:  60%|\u2588\u2588\u2588\u2588\u2588\u2589    | 380/638 [00:54<00:28,  9.15it/s]"
          ]
        },
        {
          "output_type": "stream",
          "name": "stderr",
          "text": [
            "\rProcessing Test DICOMs:  60%|\u2588\u2588\u2588\u2588\u2588\u2589    | 382/638 [00:54<00:25, 10.00it/s]"
          ]
        },
        {
          "output_type": "stream",
          "name": "stderr",
          "text": [
            "\rProcessing Test DICOMs:  60%|\u2588\u2588\u2588\u2588\u2588\u2588    | 384/638 [00:55<00:28,  9.07it/s]"
          ]
        },
        {
          "output_type": "stream",
          "name": "stderr",
          "text": [
            "\rProcessing Test DICOMs:  61%|\u2588\u2588\u2588\u2588\u2588\u2588    | 386/638 [00:55<00:27,  9.14it/s]"
          ]
        },
        {
          "output_type": "stream",
          "name": "stderr",
          "text": [
            "\rProcessing Test DICOMs:  61%|\u2588\u2588\u2588\u2588\u2588\u2588    | 388/638 [00:55<00:29,  8.60it/s]"
          ]
        },
        {
          "output_type": "stream",
          "name": "stderr",
          "text": [
            "\rProcessing Test DICOMs:  61%|\u2588\u2588\u2588\u2588\u2588\u2588    | 389/638 [00:55<00:31,  7.81it/s]"
          ]
        },
        {
          "output_type": "stream",
          "name": "stderr",
          "text": [
            "\rProcessing Test DICOMs:  61%|\u2588\u2588\u2588\u2588\u2588\u2588    | 390/638 [00:55<00:32,  7.69it/s]"
          ]
        },
        {
          "output_type": "stream",
          "name": "stderr",
          "text": [
            "\rProcessing Test DICOMs:  61%|\u2588\u2588\u2588\u2588\u2588\u2588\u258f   | 392/638 [00:56<00:29,  8.45it/s]"
          ]
        },
        {
          "output_type": "stream",
          "name": "stderr",
          "text": [
            "\rProcessing Test DICOMs:  62%|\u2588\u2588\u2588\u2588\u2588\u2588\u258f   | 393/638 [00:56<00:32,  7.59it/s]"
          ]
        },
        {
          "output_type": "stream",
          "name": "stderr",
          "text": [
            "\rProcessing Test DICOMs:  62%|\u2588\u2588\u2588\u2588\u2588\u2588\u258f   | 395/638 [00:56<00:26,  9.26it/s]"
          ]
        },
        {
          "output_type": "stream",
          "name": "stderr",
          "text": [
            "\rProcessing Test DICOMs:  62%|\u2588\u2588\u2588\u2588\u2588\u2588\u258f   | 396/638 [00:56<00:30,  7.81it/s]"
          ]
        },
        {
          "output_type": "stream",
          "name": "stderr",
          "text": [
            "\rProcessing Test DICOMs:  62%|\u2588\u2588\u2588\u2588\u2588\u2588\u258f   | 397/638 [00:56<00:32,  7.45it/s]"
          ]
        },
        {
          "output_type": "stream",
          "name": "stderr",
          "text": [
            "\rProcessing Test DICOMs:  63%|\u2588\u2588\u2588\u2588\u2588\u2588\u258e   | 399/638 [00:57<00:31,  7.70it/s]"
          ]
        },
        {
          "output_type": "stream",
          "name": "stderr",
          "text": [
            "\rProcessing Test DICOMs:  63%|\u2588\u2588\u2588\u2588\u2588\u2588\u258e   | 401/638 [00:57<00:25,  9.16it/s]"
          ]
        },
        {
          "output_type": "stream",
          "name": "stderr",
          "text": [
            "\rProcessing Test DICOMs:  63%|\u2588\u2588\u2588\u2588\u2588\u2588\u258e   | 403/638 [00:57<00:23, 10.16it/s]"
          ]
        },
        {
          "output_type": "stream",
          "name": "stderr",
          "text": [
            "\rProcessing Test DICOMs:  63%|\u2588\u2588\u2588\u2588\u2588\u2588\u258e   | 405/638 [00:57<00:23, 10.01it/s]"
          ]
        },
        {
          "output_type": "stream",
          "name": "stderr",
          "text": [
            "\rProcessing Test DICOMs:  64%|\u2588\u2588\u2588\u2588\u2588\u2588\u258d   | 407/638 [00:57<00:24,  9.26it/s]"
          ]
        },
        {
          "output_type": "stream",
          "name": "stderr",
          "text": [
            "\rProcessing Test DICOMs:  64%|\u2588\u2588\u2588\u2588\u2588\u2588\u258d   | 409/638 [00:58<00:26,  8.71it/s]"
          ]
        },
        {
          "output_type": "stream",
          "name": "stderr",
          "text": [
            "\rProcessing Test DICOMs:  64%|\u2588\u2588\u2588\u2588\u2588\u2588\u258d   | 411/638 [00:58<00:25,  9.01it/s]"
          ]
        },
        {
          "output_type": "stream",
          "name": "stderr",
          "text": [
            "\rProcessing Test DICOMs:  65%|\u2588\u2588\u2588\u2588\u2588\u2588\u258d   | 412/638 [00:58<00:31,  7.20it/s]"
          ]
        },
        {
          "output_type": "stream",
          "name": "stderr",
          "text": [
            "\rProcessing Test DICOMs:  65%|\u2588\u2588\u2588\u2588\u2588\u2588\u258d   | 414/638 [00:58<00:26,  8.52it/s]"
          ]
        },
        {
          "output_type": "stream",
          "name": "stderr",
          "text": [
            "\rProcessing Test DICOMs:  65%|\u2588\u2588\u2588\u2588\u2588\u2588\u258c   | 416/638 [00:58<00:22,  9.86it/s]"
          ]
        },
        {
          "output_type": "stream",
          "name": "stderr",
          "text": [
            "\rProcessing Test DICOMs:  66%|\u2588\u2588\u2588\u2588\u2588\u2588\u258c   | 418/638 [00:59<00:28,  7.77it/s]"
          ]
        },
        {
          "output_type": "stream",
          "name": "stderr",
          "text": [
            "\rProcessing Test DICOMs:  66%|\u2588\u2588\u2588\u2588\u2588\u2588\u258c   | 420/638 [00:59<00:27,  7.86it/s]"
          ]
        },
        {
          "output_type": "stream",
          "name": "stderr",
          "text": [
            "\rProcessing Test DICOMs:  66%|\u2588\u2588\u2588\u2588\u2588\u2588\u258c   | 422/638 [00:59<00:27,  7.94it/s]"
          ]
        },
        {
          "output_type": "stream",
          "name": "stderr",
          "text": [
            "\rProcessing Test DICOMs:  66%|\u2588\u2588\u2588\u2588\u2588\u2588\u258b   | 423/638 [00:59<00:27,  7.96it/s]"
          ]
        },
        {
          "output_type": "stream",
          "name": "stderr",
          "text": [
            "\rProcessing Test DICOMs:  66%|\u2588\u2588\u2588\u2588\u2588\u2588\u258b   | 424/638 [01:00<00:29,  7.24it/s]"
          ]
        },
        {
          "output_type": "stream",
          "name": "stderr",
          "text": [
            "\rProcessing Test DICOMs:  67%|\u2588\u2588\u2588\u2588\u2588\u2588\u258b   | 426/638 [01:00<00:25,  8.42it/s]"
          ]
        },
        {
          "output_type": "stream",
          "name": "stderr",
          "text": [
            "\rProcessing Test DICOMs:  67%|\u2588\u2588\u2588\u2588\u2588\u2588\u258b   | 427/638 [01:00<00:25,  8.36it/s]"
          ]
        },
        {
          "output_type": "stream",
          "name": "stderr",
          "text": [
            "\rProcessing Test DICOMs:  67%|\u2588\u2588\u2588\u2588\u2588\u2588\u258b   | 428/638 [01:00<00:35,  5.98it/s]"
          ]
        },
        {
          "output_type": "stream",
          "name": "stderr",
          "text": [
            "\rProcessing Test DICOMs:  67%|\u2588\u2588\u2588\u2588\u2588\u2588\u258b   | 430/638 [01:00<00:30,  6.92it/s]"
          ]
        },
        {
          "output_type": "stream",
          "name": "stderr",
          "text": [
            "\rProcessing Test DICOMs:  68%|\u2588\u2588\u2588\u2588\u2588\u2588\u258a   | 431/638 [01:01<00:31,  6.49it/s]"
          ]
        },
        {
          "output_type": "stream",
          "name": "stderr",
          "text": [
            "\rProcessing Test DICOMs:  68%|\u2588\u2588\u2588\u2588\u2588\u2588\u258a   | 433/638 [01:01<00:25,  8.10it/s]"
          ]
        },
        {
          "output_type": "stream",
          "name": "stderr",
          "text": [
            "\rProcessing Test DICOMs:  68%|\u2588\u2588\u2588\u2588\u2588\u2588\u258a   | 434/638 [01:01<00:33,  6.08it/s]"
          ]
        },
        {
          "output_type": "stream",
          "name": "stderr",
          "text": [
            "\rProcessing Test DICOMs:  68%|\u2588\u2588\u2588\u2588\u2588\u2588\u258a   | 436/638 [01:01<00:28,  7.14it/s]"
          ]
        },
        {
          "output_type": "stream",
          "name": "stderr",
          "text": [
            "\rProcessing Test DICOMs:  69%|\u2588\u2588\u2588\u2588\u2588\u2588\u258a   | 438/638 [01:01<00:22,  8.75it/s]"
          ]
        },
        {
          "output_type": "stream",
          "name": "stderr",
          "text": [
            "\rProcessing Test DICOMs:  69%|\u2588\u2588\u2588\u2588\u2588\u2588\u2589   | 440/638 [01:02<00:23,  8.43it/s]"
          ]
        },
        {
          "output_type": "stream",
          "name": "stderr",
          "text": [
            "\rProcessing Test DICOMs:  69%|\u2588\u2588\u2588\u2588\u2588\u2588\u2589   | 441/638 [01:02<00:23,  8.23it/s]"
          ]
        },
        {
          "output_type": "stream",
          "name": "stderr",
          "text": [
            "\rProcessing Test DICOMs:  69%|\u2588\u2588\u2588\u2588\u2588\u2588\u2589   | 442/638 [01:02<00:26,  7.43it/s]"
          ]
        },
        {
          "output_type": "stream",
          "name": "stderr",
          "text": [
            "\rProcessing Test DICOMs:  70%|\u2588\u2588\u2588\u2588\u2588\u2588\u2589   | 444/638 [01:02<00:28,  6.79it/s]"
          ]
        },
        {
          "output_type": "stream",
          "name": "stderr",
          "text": [
            "\rProcessing Test DICOMs:  70%|\u2588\u2588\u2588\u2588\u2588\u2588\u2589   | 445/638 [01:02<00:28,  6.70it/s]"
          ]
        },
        {
          "output_type": "stream",
          "name": "stderr",
          "text": [
            "\rProcessing Test DICOMs:  70%|\u2588\u2588\u2588\u2588\u2588\u2588\u2589   | 446/638 [01:03<00:30,  6.39it/s]"
          ]
        },
        {
          "output_type": "stream",
          "name": "stderr",
          "text": [
            "\rProcessing Test DICOMs:  70%|\u2588\u2588\u2588\u2588\u2588\u2588\u2588   | 448/638 [01:03<00:27,  6.88it/s]"
          ]
        },
        {
          "output_type": "stream",
          "name": "stderr",
          "text": [
            "\rProcessing Test DICOMs:  71%|\u2588\u2588\u2588\u2588\u2588\u2588\u2588   | 450/638 [01:03<00:24,  7.69it/s]"
          ]
        },
        {
          "output_type": "stream",
          "name": "stderr",
          "text": [
            "\rProcessing Test DICOMs:  71%|\u2588\u2588\u2588\u2588\u2588\u2588\u2588   | 452/638 [01:03<00:22,  8.31it/s]"
          ]
        },
        {
          "output_type": "stream",
          "name": "stderr",
          "text": [
            "\rProcessing Test DICOMs:  71%|\u2588\u2588\u2588\u2588\u2588\u2588\u2588   | 453/638 [01:03<00:23,  7.87it/s]"
          ]
        },
        {
          "output_type": "stream",
          "name": "stderr",
          "text": [
            "\rProcessing Test DICOMs:  71%|\u2588\u2588\u2588\u2588\u2588\u2588\u2588\u258f  | 455/638 [01:04<00:19,  9.19it/s]"
          ]
        },
        {
          "output_type": "stream",
          "name": "stderr",
          "text": [
            "\rProcessing Test DICOMs:  71%|\u2588\u2588\u2588\u2588\u2588\u2588\u2588\u258f  | 456/638 [01:04<00:21,  8.41it/s]"
          ]
        },
        {
          "output_type": "stream",
          "name": "stderr",
          "text": [
            "\rProcessing Test DICOMs:  72%|\u2588\u2588\u2588\u2588\u2588\u2588\u2588\u258f  | 457/638 [01:04<00:24,  7.51it/s]"
          ]
        },
        {
          "output_type": "stream",
          "name": "stderr",
          "text": [
            "\rProcessing Test DICOMs:  72%|\u2588\u2588\u2588\u2588\u2588\u2588\u2588\u258f  | 458/638 [01:04<00:24,  7.44it/s]"
          ]
        },
        {
          "output_type": "stream",
          "name": "stderr",
          "text": [
            "\rProcessing Test DICOMs:  72%|\u2588\u2588\u2588\u2588\u2588\u2588\u2588\u258f  | 460/638 [01:04<00:23,  7.72it/s]"
          ]
        },
        {
          "output_type": "stream",
          "name": "stderr",
          "text": [
            "\rProcessing Test DICOMs:  72%|\u2588\u2588\u2588\u2588\u2588\u2588\u2588\u258f  | 462/638 [01:05<00:21,  8.12it/s]"
          ]
        },
        {
          "output_type": "stream",
          "name": "stderr",
          "text": [
            "\rProcessing Test DICOMs:  73%|\u2588\u2588\u2588\u2588\u2588\u2588\u2588\u258e  | 463/638 [01:05<00:21,  8.10it/s]"
          ]
        },
        {
          "output_type": "stream",
          "name": "stderr",
          "text": [
            "\rProcessing Test DICOMs:  73%|\u2588\u2588\u2588\u2588\u2588\u2588\u2588\u258e  | 464/638 [01:05<00:25,  6.87it/s]"
          ]
        },
        {
          "output_type": "stream",
          "name": "stderr",
          "text": [
            "\rProcessing Test DICOMs:  73%|\u2588\u2588\u2588\u2588\u2588\u2588\u2588\u258e  | 466/638 [01:05<00:19,  8.68it/s]"
          ]
        },
        {
          "output_type": "stream",
          "name": "stderr",
          "text": [
            "\rProcessing Test DICOMs:  73%|\u2588\u2588\u2588\u2588\u2588\u2588\u2588\u258e  | 468/638 [01:05<00:17,  9.89it/s]"
          ]
        },
        {
          "output_type": "stream",
          "name": "stderr",
          "text": [
            "\rProcessing Test DICOMs:  74%|\u2588\u2588\u2588\u2588\u2588\u2588\u2588\u258e  | 470/638 [01:05<00:18,  8.84it/s]"
          ]
        },
        {
          "output_type": "stream",
          "name": "stderr",
          "text": [
            "\rProcessing Test DICOMs:  74%|\u2588\u2588\u2588\u2588\u2588\u2588\u2588\u258d  | 472/638 [01:06<00:16, 10.23it/s]"
          ]
        },
        {
          "output_type": "stream",
          "name": "stderr",
          "text": [
            "\rProcessing Test DICOMs:  74%|\u2588\u2588\u2588\u2588\u2588\u2588\u2588\u258d  | 474/638 [01:06<00:17,  9.52it/s]"
          ]
        },
        {
          "output_type": "stream",
          "name": "stderr",
          "text": [
            "\rProcessing Test DICOMs:  75%|\u2588\u2588\u2588\u2588\u2588\u2588\u2588\u258d  | 476/638 [01:06<00:15, 10.61it/s]"
          ]
        },
        {
          "output_type": "stream",
          "name": "stderr",
          "text": [
            "\rProcessing Test DICOMs:  75%|\u2588\u2588\u2588\u2588\u2588\u2588\u2588\u258d  | 478/638 [01:06<00:17,  9.36it/s]"
          ]
        },
        {
          "output_type": "stream",
          "name": "stderr",
          "text": [
            "\rProcessing Test DICOMs:  75%|\u2588\u2588\u2588\u2588\u2588\u2588\u2588\u258c  | 480/638 [01:07<00:23,  6.75it/s]"
          ]
        },
        {
          "output_type": "stream",
          "name": "stderr",
          "text": [
            "\rProcessing Test DICOMs:  76%|\u2588\u2588\u2588\u2588\u2588\u2588\u2588\u258c  | 482/638 [01:07<00:19,  8.13it/s]"
          ]
        },
        {
          "output_type": "stream",
          "name": "stderr",
          "text": [
            "\rProcessing Test DICOMs:  76%|\u2588\u2588\u2588\u2588\u2588\u2588\u2588\u258c  | 484/638 [01:07<00:20,  7.56it/s]"
          ]
        },
        {
          "output_type": "stream",
          "name": "stderr",
          "text": [
            "\rProcessing Test DICOMs:  76%|\u2588\u2588\u2588\u2588\u2588\u2588\u2588\u258c  | 485/638 [01:08<00:27,  5.56it/s]"
          ]
        },
        {
          "output_type": "stream",
          "name": "stderr",
          "text": [
            "\rProcessing Test DICOMs:  76%|\u2588\u2588\u2588\u2588\u2588\u2588\u2588\u258c  | 486/638 [01:08<00:25,  5.89it/s]"
          ]
        },
        {
          "output_type": "stream",
          "name": "stderr",
          "text": [
            "\rProcessing Test DICOMs:  76%|\u2588\u2588\u2588\u2588\u2588\u2588\u2588\u258b  | 488/638 [01:08<00:29,  5.15it/s]"
          ]
        },
        {
          "output_type": "stream",
          "name": "stderr",
          "text": [
            "\rProcessing Test DICOMs:  77%|\u2588\u2588\u2588\u2588\u2588\u2588\u2588\u258b  | 490/638 [01:08<00:22,  6.53it/s]"
          ]
        },
        {
          "output_type": "stream",
          "name": "stderr",
          "text": [
            "\rProcessing Test DICOMs:  77%|\u2588\u2588\u2588\u2588\u2588\u2588\u2588\u258b  | 492/638 [01:09<00:21,  6.84it/s]"
          ]
        },
        {
          "output_type": "stream",
          "name": "stderr",
          "text": [
            "\rProcessing Test DICOMs:  77%|\u2588\u2588\u2588\u2588\u2588\u2588\u2588\u258b  | 493/638 [01:09<00:21,  6.88it/s]"
          ]
        },
        {
          "output_type": "stream",
          "name": "stderr",
          "text": [
            "\rProcessing Test DICOMs:  77%|\u2588\u2588\u2588\u2588\u2588\u2588\u2588\u258b  | 494/638 [01:09<00:24,  5.86it/s]"
          ]
        },
        {
          "output_type": "stream",
          "name": "stderr",
          "text": [
            "\rProcessing Test DICOMs:  78%|\u2588\u2588\u2588\u2588\u2588\u2588\u2588\u258a  | 496/638 [01:09<00:22,  6.43it/s]"
          ]
        },
        {
          "output_type": "stream",
          "name": "stderr",
          "text": [
            "\rProcessing Test DICOMs:  78%|\u2588\u2588\u2588\u2588\u2588\u2588\u2588\u258a  | 498/638 [01:09<00:17,  7.91it/s]"
          ]
        },
        {
          "output_type": "stream",
          "name": "stderr",
          "text": [
            "\rProcessing Test DICOMs:  78%|\u2588\u2588\u2588\u2588\u2588\u2588\u2588\u258a  | 500/638 [01:09<00:14,  9.59it/s]"
          ]
        },
        {
          "output_type": "stream",
          "name": "stderr",
          "text": [
            "\rProcessing Test DICOMs:  79%|\u2588\u2588\u2588\u2588\u2588\u2588\u2588\u258a  | 502/638 [01:10<00:15,  9.05it/s]"
          ]
        },
        {
          "output_type": "stream",
          "name": "stderr",
          "text": [
            "\rProcessing Test DICOMs:  79%|\u2588\u2588\u2588\u2588\u2588\u2588\u2588\u2589  | 504/638 [01:10<00:12, 10.52it/s]"
          ]
        },
        {
          "output_type": "stream",
          "name": "stderr",
          "text": [
            "\rProcessing Test DICOMs:  79%|\u2588\u2588\u2588\u2588\u2588\u2588\u2588\u2589  | 506/638 [01:10<00:12, 10.54it/s]"
          ]
        },
        {
          "output_type": "stream",
          "name": "stderr",
          "text": [
            "\rProcessing Test DICOMs:  80%|\u2588\u2588\u2588\u2588\u2588\u2588\u2588\u2589  | 508/638 [01:10<00:13,  9.49it/s]"
          ]
        },
        {
          "output_type": "stream",
          "name": "stderr",
          "text": [
            "\rProcessing Test DICOMs:  80%|\u2588\u2588\u2588\u2588\u2588\u2588\u2588\u2589  | 510/638 [01:11<00:14,  8.94it/s]"
          ]
        },
        {
          "output_type": "stream",
          "name": "stderr",
          "text": [
            "\rProcessing Test DICOMs:  80%|\u2588\u2588\u2588\u2588\u2588\u2588\u2588\u2588  | 512/638 [01:11<00:14,  8.56it/s]"
          ]
        },
        {
          "output_type": "stream",
          "name": "stderr",
          "text": [
            "\rProcessing Test DICOMs:  80%|\u2588\u2588\u2588\u2588\u2588\u2588\u2588\u2588  | 513/638 [01:11<00:16,  7.43it/s]"
          ]
        },
        {
          "output_type": "stream",
          "name": "stderr",
          "text": [
            "\rProcessing Test DICOMs:  81%|\u2588\u2588\u2588\u2588\u2588\u2588\u2588\u2588  | 515/638 [01:11<00:13,  9.28it/s]"
          ]
        },
        {
          "output_type": "stream",
          "name": "stderr",
          "text": [
            "\rProcessing Test DICOMs:  81%|\u2588\u2588\u2588\u2588\u2588\u2588\u2588\u2588  | 517/638 [01:11<00:11, 10.52it/s]"
          ]
        },
        {
          "output_type": "stream",
          "name": "stderr",
          "text": [
            "\rProcessing Test DICOMs:  81%|\u2588\u2588\u2588\u2588\u2588\u2588\u2588\u2588\u258f | 519/638 [01:11<00:10, 11.57it/s]"
          ]
        },
        {
          "output_type": "stream",
          "name": "stderr",
          "text": [
            "\rProcessing Test DICOMs:  82%|\u2588\u2588\u2588\u2588\u2588\u2588\u2588\u2588\u258f | 521/638 [01:12<00:10, 11.01it/s]"
          ]
        },
        {
          "output_type": "stream",
          "name": "stderr",
          "text": [
            "\rProcessing Test DICOMs:  82%|\u2588\u2588\u2588\u2588\u2588\u2588\u2588\u2588\u258f | 523/638 [01:12<00:12,  9.29it/s]"
          ]
        },
        {
          "output_type": "stream",
          "name": "stderr",
          "text": [
            "\rProcessing Test DICOMs:  82%|\u2588\u2588\u2588\u2588\u2588\u2588\u2588\u2588\u258f | 525/638 [01:12<00:12,  9.20it/s]"
          ]
        },
        {
          "output_type": "stream",
          "name": "stderr",
          "text": [
            "\rProcessing Test DICOMs:  83%|\u2588\u2588\u2588\u2588\u2588\u2588\u2588\u2588\u258e | 527/638 [01:12<00:12,  8.71it/s]"
          ]
        },
        {
          "output_type": "stream",
          "name": "stderr",
          "text": [
            "\rProcessing Test DICOMs:  83%|\u2588\u2588\u2588\u2588\u2588\u2588\u2588\u2588\u258e | 530/638 [01:13<00:09, 10.84it/s]"
          ]
        },
        {
          "output_type": "stream",
          "name": "stderr",
          "text": [
            "\rProcessing Test DICOMs:  83%|\u2588\u2588\u2588\u2588\u2588\u2588\u2588\u2588\u258e | 532/638 [01:13<00:11,  9.00it/s]"
          ]
        },
        {
          "output_type": "stream",
          "name": "stderr",
          "text": [
            "\rProcessing Test DICOMs:  84%|\u2588\u2588\u2588\u2588\u2588\u2588\u2588\u2588\u258e | 534/638 [01:13<00:11,  8.67it/s]"
          ]
        },
        {
          "output_type": "stream",
          "name": "stderr",
          "text": [
            "\rProcessing Test DICOMs:  84%|\u2588\u2588\u2588\u2588\u2588\u2588\u2588\u2588\u258d | 535/638 [01:13<00:12,  8.21it/s]"
          ]
        },
        {
          "output_type": "stream",
          "name": "stderr",
          "text": [
            "\rProcessing Test DICOMs:  84%|\u2588\u2588\u2588\u2588\u2588\u2588\u2588\u2588\u258d | 536/638 [01:13<00:12,  8.18it/s]"
          ]
        },
        {
          "output_type": "stream",
          "name": "stderr",
          "text": [
            "\rProcessing Test DICOMs:  84%|\u2588\u2588\u2588\u2588\u2588\u2588\u2588\u2588\u258d | 538/638 [01:14<00:09, 10.01it/s]"
          ]
        },
        {
          "output_type": "stream",
          "name": "stderr",
          "text": [
            "\rProcessing Test DICOMs:  85%|\u2588\u2588\u2588\u2588\u2588\u2588\u2588\u2588\u258d | 540/638 [01:14<00:13,  7.26it/s]"
          ]
        },
        {
          "output_type": "stream",
          "name": "stderr",
          "text": [
            "\rProcessing Test DICOMs:  85%|\u2588\u2588\u2588\u2588\u2588\u2588\u2588\u2588\u258d | 541/638 [01:14<00:14,  6.82it/s]"
          ]
        },
        {
          "output_type": "stream",
          "name": "stderr",
          "text": [
            "\rProcessing Test DICOMs:  85%|\u2588\u2588\u2588\u2588\u2588\u2588\u2588\u2588\u258d | 542/638 [01:14<00:15,  6.18it/s]"
          ]
        },
        {
          "output_type": "stream",
          "name": "stderr",
          "text": [
            "\rProcessing Test DICOMs:  85%|\u2588\u2588\u2588\u2588\u2588\u2588\u2588\u2588\u258c | 544/638 [01:15<00:13,  6.94it/s]"
          ]
        },
        {
          "output_type": "stream",
          "name": "stderr",
          "text": [
            "\rProcessing Test DICOMs:  86%|\u2588\u2588\u2588\u2588\u2588\u2588\u2588\u2588\u258c | 546/638 [01:15<00:12,  7.60it/s]"
          ]
        },
        {
          "output_type": "stream",
          "name": "stderr",
          "text": [
            "\rProcessing Test DICOMs:  86%|\u2588\u2588\u2588\u2588\u2588\u2588\u2588\u2588\u258c | 547/638 [01:15<00:12,  7.04it/s]"
          ]
        },
        {
          "output_type": "stream",
          "name": "stderr",
          "text": [
            "\rProcessing Test DICOMs:  86%|\u2588\u2588\u2588\u2588\u2588\u2588\u2588\u2588\u258c | 548/638 [01:15<00:14,  6.43it/s]"
          ]
        },
        {
          "output_type": "stream",
          "name": "stderr",
          "text": [
            "\rProcessing Test DICOMs:  86%|\u2588\u2588\u2588\u2588\u2588\u2588\u2588\u2588\u258c | 549/638 [01:15<00:13,  6.74it/s]"
          ]
        },
        {
          "output_type": "stream",
          "name": "stderr",
          "text": [
            "\rProcessing Test DICOMs:  86%|\u2588\u2588\u2588\u2588\u2588\u2588\u2588\u2588\u258b | 551/638 [01:15<00:10,  8.40it/s]"
          ]
        },
        {
          "output_type": "stream",
          "name": "stderr",
          "text": [
            "\rProcessing Test DICOMs:  87%|\u2588\u2588\u2588\u2588\u2588\u2588\u2588\u2588\u258b | 553/638 [01:16<00:08,  9.64it/s]"
          ]
        },
        {
          "output_type": "stream",
          "name": "stderr",
          "text": [
            "\rProcessing Test DICOMs:  87%|\u2588\u2588\u2588\u2588\u2588\u2588\u2588\u2588\u258b | 555/638 [01:16<00:08,  9.26it/s]"
          ]
        },
        {
          "output_type": "stream",
          "name": "stderr",
          "text": [
            "\rProcessing Test DICOMs:  87%|\u2588\u2588\u2588\u2588\u2588\u2588\u2588\u2588\u258b | 556/638 [01:16<00:13,  6.11it/s]"
          ]
        },
        {
          "output_type": "stream",
          "name": "stderr",
          "text": [
            "\rProcessing Test DICOMs:  87%|\u2588\u2588\u2588\u2588\u2588\u2588\u2588\u2588\u258b | 558/638 [01:16<00:10,  7.53it/s]"
          ]
        },
        {
          "output_type": "stream",
          "name": "stderr",
          "text": [
            "\rProcessing Test DICOMs:  88%|\u2588\u2588\u2588\u2588\u2588\u2588\u2588\u2588\u258a | 559/638 [01:17<00:10,  7.55it/s]"
          ]
        },
        {
          "output_type": "stream",
          "name": "stderr",
          "text": [
            "\rProcessing Test DICOMs:  88%|\u2588\u2588\u2588\u2588\u2588\u2588\u2588\u2588\u258a | 560/638 [01:17<00:10,  7.55it/s]"
          ]
        },
        {
          "output_type": "stream",
          "name": "stderr",
          "text": [
            "\rProcessing Test DICOMs:  88%|\u2588\u2588\u2588\u2588\u2588\u2588\u2588\u2588\u258a | 562/638 [01:17<00:08,  8.98it/s]"
          ]
        },
        {
          "output_type": "stream",
          "name": "stderr",
          "text": [
            "\rProcessing Test DICOMs:  88%|\u2588\u2588\u2588\u2588\u2588\u2588\u2588\u2588\u258a | 563/638 [01:17<00:13,  5.70it/s]"
          ]
        },
        {
          "output_type": "stream",
          "name": "stderr",
          "text": [
            "\rProcessing Test DICOMs:  89%|\u2588\u2588\u2588\u2588\u2588\u2588\u2588\u2588\u258a | 565/638 [01:18<00:12,  5.80it/s]"
          ]
        },
        {
          "output_type": "stream",
          "name": "stderr",
          "text": [
            "\rProcessing Test DICOMs:  89%|\u2588\u2588\u2588\u2588\u2588\u2588\u2588\u2588\u258a | 566/638 [01:18<00:14,  5.09it/s]"
          ]
        },
        {
          "output_type": "stream",
          "name": "stderr",
          "text": [
            "\rProcessing Test DICOMs:  89%|\u2588\u2588\u2588\u2588\u2588\u2588\u2588\u2588\u2589 | 568/638 [01:18<00:14,  4.71it/s]"
          ]
        },
        {
          "output_type": "stream",
          "name": "stderr",
          "text": [
            "\rProcessing Test DICOMs:  89%|\u2588\u2588\u2588\u2588\u2588\u2588\u2588\u2588\u2589 | 569/638 [01:18<00:13,  4.95it/s]"
          ]
        },
        {
          "output_type": "stream",
          "name": "stderr",
          "text": [
            "\rProcessing Test DICOMs:  89%|\u2588\u2588\u2588\u2588\u2588\u2588\u2588\u2588\u2589 | 571/638 [01:19<00:11,  5.86it/s]"
          ]
        },
        {
          "output_type": "stream",
          "name": "stderr",
          "text": [
            "\rProcessing Test DICOMs:  90%|\u2588\u2588\u2588\u2588\u2588\u2588\u2588\u2588\u2589 | 573/638 [01:19<00:08,  7.35it/s]"
          ]
        },
        {
          "output_type": "stream",
          "name": "stderr",
          "text": [
            "\rProcessing Test DICOMs:  90%|\u2588\u2588\u2588\u2588\u2588\u2588\u2588\u2588\u2589 | 574/638 [01:19<00:10,  6.26it/s]"
          ]
        },
        {
          "output_type": "stream",
          "name": "stderr",
          "text": [
            "\rProcessing Test DICOMs:  90%|\u2588\u2588\u2588\u2588\u2588\u2588\u2588\u2588\u2588 | 576/638 [01:20<00:11,  5.43it/s]"
          ]
        },
        {
          "output_type": "stream",
          "name": "stderr",
          "text": [
            "\rProcessing Test DICOMs:  90%|\u2588\u2588\u2588\u2588\u2588\u2588\u2588\u2588\u2588 | 577/638 [01:20<00:10,  5.77it/s]"
          ]
        },
        {
          "output_type": "stream",
          "name": "stderr",
          "text": [
            "\rProcessing Test DICOMs:  91%|\u2588\u2588\u2588\u2588\u2588\u2588\u2588\u2588\u2588 | 578/638 [01:20<00:10,  5.67it/s]"
          ]
        },
        {
          "output_type": "stream",
          "name": "stderr",
          "text": [
            "\rProcessing Test DICOMs:  91%|\u2588\u2588\u2588\u2588\u2588\u2588\u2588\u2588\u2588 | 580/638 [01:20<00:08,  6.92it/s]"
          ]
        },
        {
          "output_type": "stream",
          "name": "stderr",
          "text": [
            "\rProcessing Test DICOMs:  91%|\u2588\u2588\u2588\u2588\u2588\u2588\u2588\u2588\u2588 | 581/638 [01:20<00:09,  6.30it/s]"
          ]
        },
        {
          "output_type": "stream",
          "name": "stderr",
          "text": [
            "\rProcessing Test DICOMs:  91%|\u2588\u2588\u2588\u2588\u2588\u2588\u2588\u2588\u2588 | 582/638 [01:21<00:10,  5.46it/s]"
          ]
        },
        {
          "output_type": "stream",
          "name": "stderr",
          "text": [
            "\rProcessing Test DICOMs:  91%|\u2588\u2588\u2588\u2588\u2588\u2588\u2588\u2588\u2588\u258f| 583/638 [01:21<00:13,  4.20it/s]"
          ]
        },
        {
          "output_type": "stream",
          "name": "stderr",
          "text": [
            "\rProcessing Test DICOMs:  92%|\u2588\u2588\u2588\u2588\u2588\u2588\u2588\u2588\u2588\u258f| 585/638 [01:21<00:08,  6.10it/s]"
          ]
        },
        {
          "output_type": "stream",
          "name": "stderr",
          "text": [
            "\rProcessing Test DICOMs:  92%|\u2588\u2588\u2588\u2588\u2588\u2588\u2588\u2588\u2588\u258f| 587/638 [01:21<00:07,  7.18it/s]"
          ]
        },
        {
          "output_type": "stream",
          "name": "stderr",
          "text": [
            "\rProcessing Test DICOMs:  92%|\u2588\u2588\u2588\u2588\u2588\u2588\u2588\u2588\u2588\u258f| 589/638 [01:21<00:05,  8.36it/s]"
          ]
        },
        {
          "output_type": "stream",
          "name": "stderr",
          "text": [
            "\rProcessing Test DICOMs:  92%|\u2588\u2588\u2588\u2588\u2588\u2588\u2588\u2588\u2588\u258f| 590/638 [01:22<00:07,  6.25it/s]"
          ]
        },
        {
          "output_type": "stream",
          "name": "stderr",
          "text": [
            "\rProcessing Test DICOMs:  93%|\u2588\u2588\u2588\u2588\u2588\u2588\u2588\u2588\u2588\u258e| 591/638 [01:22<00:10,  4.70it/s]"
          ]
        },
        {
          "output_type": "stream",
          "name": "stderr",
          "text": [
            "\rProcessing Test DICOMs:  93%|\u2588\u2588\u2588\u2588\u2588\u2588\u2588\u2588\u2588\u258e| 593/638 [01:22<00:07,  5.84it/s]"
          ]
        },
        {
          "output_type": "stream",
          "name": "stderr",
          "text": [
            "\rProcessing Test DICOMs:  93%|\u2588\u2588\u2588\u2588\u2588\u2588\u2588\u2588\u2588\u258e| 595/638 [01:22<00:05,  7.73it/s]"
          ]
        },
        {
          "output_type": "stream",
          "name": "stderr",
          "text": [
            "\rProcessing Test DICOMs:  94%|\u2588\u2588\u2588\u2588\u2588\u2588\u2588\u2588\u2588\u258e| 597/638 [01:23<00:04,  8.89it/s]"
          ]
        },
        {
          "output_type": "stream",
          "name": "stderr",
          "text": [
            "\rProcessing Test DICOMs:  94%|\u2588\u2588\u2588\u2588\u2588\u2588\u2588\u2588\u2588\u258d| 599/638 [01:23<00:03, 10.27it/s]"
          ]
        },
        {
          "output_type": "stream",
          "name": "stderr",
          "text": [
            "\rProcessing Test DICOMs:  94%|\u2588\u2588\u2588\u2588\u2588\u2588\u2588\u2588\u2588\u258d| 601/638 [01:23<00:03, 11.39it/s]"
          ]
        },
        {
          "output_type": "stream",
          "name": "stderr",
          "text": [
            "\rProcessing Test DICOMs:  95%|\u2588\u2588\u2588\u2588\u2588\u2588\u2588\u2588\u2588\u258d| 603/638 [01:23<00:03, 10.68it/s]"
          ]
        },
        {
          "output_type": "stream",
          "name": "stderr",
          "text": [
            "\rProcessing Test DICOMs:  95%|\u2588\u2588\u2588\u2588\u2588\u2588\u2588\u2588\u2588\u258d| 605/638 [01:23<00:03, 10.27it/s]"
          ]
        },
        {
          "output_type": "stream",
          "name": "stderr",
          "text": [
            "\rProcessing Test DICOMs:  95%|\u2588\u2588\u2588\u2588\u2588\u2588\u2588\u2588\u2588\u258c| 607/638 [01:23<00:02, 11.09it/s]"
          ]
        },
        {
          "output_type": "stream",
          "name": "stderr",
          "text": [
            "\rProcessing Test DICOMs:  95%|\u2588\u2588\u2588\u2588\u2588\u2588\u2588\u2588\u2588\u258c| 609/638 [01:24<00:02, 11.77it/s]"
          ]
        },
        {
          "output_type": "stream",
          "name": "stderr",
          "text": [
            "\rProcessing Test DICOMs:  96%|\u2588\u2588\u2588\u2588\u2588\u2588\u2588\u2588\u2588\u258c| 611/638 [01:24<00:02, 10.20it/s]"
          ]
        },
        {
          "output_type": "stream",
          "name": "stderr",
          "text": [
            "\rProcessing Test DICOMs:  96%|\u2588\u2588\u2588\u2588\u2588\u2588\u2588\u2588\u2588\u258c| 613/638 [01:24<00:03,  7.68it/s]"
          ]
        },
        {
          "output_type": "stream",
          "name": "stderr",
          "text": [
            "\rProcessing Test DICOMs:  96%|\u2588\u2588\u2588\u2588\u2588\u2588\u2588\u2588\u2588\u258b| 615/638 [01:24<00:02,  8.81it/s]"
          ]
        },
        {
          "output_type": "stream",
          "name": "stderr",
          "text": [
            "\rProcessing Test DICOMs:  97%|\u2588\u2588\u2588\u2588\u2588\u2588\u2588\u2588\u2588\u258b| 617/638 [01:25<00:02,  8.59it/s]"
          ]
        },
        {
          "output_type": "stream",
          "name": "stderr",
          "text": [
            "\rProcessing Test DICOMs:  97%|\u2588\u2588\u2588\u2588\u2588\u2588\u2588\u2588\u2588\u258b| 619/638 [01:25<00:01,  9.99it/s]"
          ]
        },
        {
          "output_type": "stream",
          "name": "stderr",
          "text": [
            "\rProcessing Test DICOMs:  97%|\u2588\u2588\u2588\u2588\u2588\u2588\u2588\u2588\u2588\u258b| 621/638 [01:25<00:02,  7.80it/s]"
          ]
        },
        {
          "output_type": "stream",
          "name": "stderr",
          "text": [
            "\rProcessing Test DICOMs:  98%|\u2588\u2588\u2588\u2588\u2588\u2588\u2588\u2588\u2588\u258a| 623/638 [01:25<00:01,  9.03it/s]"
          ]
        },
        {
          "output_type": "stream",
          "name": "stderr",
          "text": [
            "\rProcessing Test DICOMs:  98%|\u2588\u2588\u2588\u2588\u2588\u2588\u2588\u2588\u2588\u258a| 625/638 [01:26<00:01,  8.79it/s]"
          ]
        },
        {
          "output_type": "stream",
          "name": "stderr",
          "text": [
            "\rProcessing Test DICOMs:  98%|\u2588\u2588\u2588\u2588\u2588\u2588\u2588\u2588\u2588\u258a| 627/638 [01:26<00:01,  9.63it/s]"
          ]
        },
        {
          "output_type": "stream",
          "name": "stderr",
          "text": [
            "\rProcessing Test DICOMs:  99%|\u2588\u2588\u2588\u2588\u2588\u2588\u2588\u2588\u2588\u258a| 629/638 [01:26<00:00,  9.11it/s]"
          ]
        },
        {
          "output_type": "stream",
          "name": "stderr",
          "text": [
            "\rProcessing Test DICOMs:  99%|\u2588\u2588\u2588\u2588\u2588\u2588\u2588\u2588\u2588\u2589| 631/638 [01:26<00:00,  9.41it/s]"
          ]
        },
        {
          "output_type": "stream",
          "name": "stderr",
          "text": [
            "\rProcessing Test DICOMs:  99%|\u2588\u2588\u2588\u2588\u2588\u2588\u2588\u2588\u2588\u2589| 633/638 [01:26<00:00,  8.97it/s]"
          ]
        },
        {
          "output_type": "stream",
          "name": "stderr",
          "text": [
            "\rProcessing Test DICOMs:  99%|\u2588\u2588\u2588\u2588\u2588\u2588\u2588\u2588\u2588\u2589| 634/638 [01:27<00:00,  8.47it/s]"
          ]
        },
        {
          "output_type": "stream",
          "name": "stderr",
          "text": [
            "\rProcessing Test DICOMs: 100%|\u2588\u2588\u2588\u2588\u2588\u2588\u2588\u2588\u2588\u2589| 636/638 [01:27<00:00, 10.14it/s]"
          ]
        },
        {
          "output_type": "stream",
          "name": "stderr",
          "text": [
            "\rProcessing Test DICOMs: 100%|\u2588\u2588\u2588\u2588\u2588\u2588\u2588\u2588\u2588\u2588| 638/638 [01:27<00:00,  7.31it/s]"
          ]
        },
        {
          "output_type": "stream",
          "name": "stdout",
          "text": [
            "Finished processing test images. Check 'test_png/'.\n"
          ]
        },
        {
          "output_type": "stream",
          "name": "stderr",
          "text": [
            "\n"
          ]
        }
      ]
    },
    {
      "id": "94cb210a-1d49-46b9-851d-0b1cec70daae",
      "cell_type": "code",
      "metadata": {},
      "source": [
        "# --- Get Test Image Dimensions ---\n",
        "print(\"Reading DICOM metadata to get test image dimensions...\")\n",
        "df_test_imgs['img_height'] = 0\n",
        "df_test_imgs['img_width'] = 0\n",
        "\n",
        "for index, row in tqdm(df_test_imgs.iterrows(), total=len(df_test_imgs), desc=\"Reading Test DICOM metadata\"):\n",
        "    if pd.isna(row['dcm_path']): continue\n",
        "    try:\n",
        "        dicom_meta = pydicom.dcmread(row['dcm_path'], stop_before_pixels=True)\n",
        "        df_test_imgs.loc[index, 'img_height'] = dicom_meta.Rows\n",
        "        df_test_imgs.loc[index, 'img_width'] = dicom_meta.Columns\n",
        "    except Exception as e:\n",
        "        print(f\"Could not read dimensions for {row['image_id']}: {e}\")\n",
        "\n",
        "print(\"Finished getting test image dimensions.\")\n",
        "df_test_imgs.head()"
      ],
      "execution_count": 3,
      "outputs": [
        {
          "output_type": "stream",
          "name": "stdout",
          "text": [
            "Reading DICOM metadata to get test image dimensions...\n"
          ]
        },
        {
          "output_type": "stream",
          "name": "stderr",
          "text": [
            "\rReading Test DICOM metadata:   0%|          | 0/638 [00:00<?, ?it/s]"
          ]
        },
        {
          "output_type": "stream",
          "name": "stderr",
          "text": [
            "\rReading Test DICOM metadata:  30%|\u2588\u2588\u2589       | 190/638 [00:00<00:00, 1892.15it/s]"
          ]
        },
        {
          "output_type": "stream",
          "name": "stderr",
          "text": [
            "\rReading Test DICOM metadata:  60%|\u2588\u2588\u2588\u2588\u2588\u2588    | 383/638 [00:00<00:00, 1913.66it/s]"
          ]
        },
        {
          "output_type": "stream",
          "name": "stderr",
          "text": [
            "\rReading Test DICOM metadata:  90%|\u2588\u2588\u2588\u2588\u2588\u2588\u2588\u2588\u2588 | 577/638 [00:00<00:00, 1925.57it/s]"
          ]
        },
        {
          "output_type": "stream",
          "name": "stderr",
          "text": [
            "\rReading Test DICOM metadata: 100%|\u2588\u2588\u2588\u2588\u2588\u2588\u2588\u2588\u2588\u2588| 638/638 [00:00<00:00, 1917.61it/s]"
          ]
        },
        {
          "output_type": "stream",
          "name": "stdout",
          "text": [
            "Finished getting test image dimensions.\n"
          ]
        },
        {
          "output_type": "stream",
          "name": "stderr",
          "text": [
            "\n"
          ]
        },
        {
          "output_type": "execute_result",
          "data": {
            "text/plain": "                     id PredictionString      image_id  \\\n606  004cbd797cd1_image   none 1 0 0 1 1  004cbd797cd1   \n607  008ca392cff3_image   none 1 0 0 1 1  008ca392cff3   \n608  00b8180bd3a8_image   none 1 0 0 1 1  00b8180bd3a8   \n609  00e3a7e91a34_image   none 1 0 0 1 1  00e3a7e91a34   \n610  0124f624dacb_image   none 1 0 0 1 1  0124f624dacb   \n\n                                            dcm_path  img_height  img_width  \n606  test/30e45593ba08/c5c0a57e6e4c/004cbd797cd1.dcm        2991       2992  \n607  test/39a80a14bfda/088a20979e31/008ca392cff3.dcm        3480       4240  \n608  test/dadc2e3842e5/e7866b8dd3df/00b8180bd3a8.dcm        2991       2992  \n609  test/74ba8f2badcb/c8755f476425/00e3a7e91a34.dcm        1760       2140  \n610  test/0acf45b01bdf/11b150218e91/0124f624dacb.dcm        3480       4240  ",
            "text/html": "<div>\n<style scoped>\n    .dataframe tbody tr th:only-of-type {\n        vertical-align: middle;\n    }\n\n    .dataframe tbody tr th {\n        vertical-align: top;\n    }\n\n    .dataframe thead th {\n        text-align: right;\n    }\n</style>\n<table border=\"1\" class=\"dataframe\">\n  <thead>\n    <tr style=\"text-align: right;\">\n      <th></th>\n      <th>id</th>\n      <th>PredictionString</th>\n      <th>image_id</th>\n      <th>dcm_path</th>\n      <th>img_height</th>\n      <th>img_width</th>\n    </tr>\n  </thead>\n  <tbody>\n    <tr>\n      <th>606</th>\n      <td>004cbd797cd1_image</td>\n      <td>none 1 0 0 1 1</td>\n      <td>004cbd797cd1</td>\n      <td>test/30e45593ba08/c5c0a57e6e4c/004cbd797cd1.dcm</td>\n      <td>2991</td>\n      <td>2992</td>\n    </tr>\n    <tr>\n      <th>607</th>\n      <td>008ca392cff3_image</td>\n      <td>none 1 0 0 1 1</td>\n      <td>008ca392cff3</td>\n      <td>test/39a80a14bfda/088a20979e31/008ca392cff3.dcm</td>\n      <td>3480</td>\n      <td>4240</td>\n    </tr>\n    <tr>\n      <th>608</th>\n      <td>00b8180bd3a8_image</td>\n      <td>none 1 0 0 1 1</td>\n      <td>00b8180bd3a8</td>\n      <td>test/dadc2e3842e5/e7866b8dd3df/00b8180bd3a8.dcm</td>\n      <td>2991</td>\n      <td>2992</td>\n    </tr>\n    <tr>\n      <th>609</th>\n      <td>00e3a7e91a34_image</td>\n      <td>none 1 0 0 1 1</td>\n      <td>00e3a7e91a34</td>\n      <td>test/74ba8f2badcb/c8755f476425/00e3a7e91a34.dcm</td>\n      <td>1760</td>\n      <td>2140</td>\n    </tr>\n    <tr>\n      <th>610</th>\n      <td>0124f624dacb_image</td>\n      <td>none 1 0 0 1 1</td>\n      <td>0124f624dacb</td>\n      <td>test/0acf45b01bdf/11b150218e91/0124f624dacb.dcm</td>\n      <td>3480</td>\n      <td>4240</td>\n    </tr>\n  </tbody>\n</table>\n</div>"
          },
          "metadata": {}
        }
      ]
    },
    {
      "id": "544ab313-dd19-453e-b9aa-82aafe278c48",
      "cell_type": "code",
      "metadata": {},
      "source": [
        "import subprocess\n",
        "# Check GPU memory after restarting other kernels using a robust method\n",
        "try:\n",
        "    result = subprocess.run(['nvidia-smi'], capture_output=True, text=True, check=True)\n",
        "    print(result.stdout)\n",
        "except (subprocess.CalledProcessError, FileNotFoundError) as e:\n",
        "    print(f\"Could not run nvidia-smi: {e}\")"
      ],
      "execution_count": 7,
      "outputs": [
        {
          "output_type": "stream",
          "name": "stdout",
          "text": [
            "Fri Sep 26 01:05:17 2025       \n+-----------------------------------------------------------------------------------------+\n| NVIDIA-SMI 550.144.06             Driver Version: 550.144.06     CUDA Version: 12.4     |\n|-----------------------------------------+------------------------+----------------------+\n| GPU  Name                 Persistence-M | Bus-Id          Disp.A | Volatile Uncorr. ECC |\n| Fan  Temp   Perf          Pwr:Usage/Cap |           Memory-Usage | GPU-Util  Compute M. |\n|                                         |                        |               MIG M. |\n|=========================================+========================+======================|\n|   0  NVIDIA A10-24Q                 On  |   00000002:00:00.0 Off |                    0 |\n| N/A   N/A    P0             N/A /  N/A  |    4352MiB /  24512MiB |      0%      Default |\n|                                         |                        |                  N/A |\n+-----------------------------------------+------------------------+----------------------+\n                                                                                         \n+-----------------------------------------------------------------------------------------+\n| Processes:                                                                              |\n|  GPU   GI   CI        PID   Type   Process name                              GPU Memory |\n|        ID   ID                                                               Usage      |\n|=========================================================================================|\n+-----------------------------------------------------------------------------------------+\n\n"
          ]
        }
      ]
    },
    {
      "id": "9ab66b02-7346-4173-991e-7f5d87564b9d",
      "cell_type": "code",
      "metadata": {},
      "source": [
        "# --- Run YOLOv5 Detector (Batched, FP16) ---\n",
        "print(\"--- Running YOLOv5 Detector on Test Images ---\")\n",
        "\n",
        "if YOLO_REPO_DIR not in sys.path:\n",
        "    sys.path.append(YOLO_REPO_DIR)\n",
        "\n",
        "model_det = torch.hub.load(\n",
        "    YOLO_REPO_DIR, 'custom', path=DETECTOR_WEIGHTS, source='local', force_reload=True\n",
        ").to(DEVICE).eval()\n",
        "\n",
        "# Set confidence threshold on the model object itself, not in the forward call\n",
        "model_det.conf = 0.001\n",
        "\n",
        "# FP16 to cut memory, as per expert advice\n",
        "if DEVICE.type == 'cuda':\n",
        "    model_det.half()\n",
        "\n",
        "test_png_files = sorted(glob.glob(f'{TEST_PNG_DIR}/*.png'))\n",
        "print(f\"Found {len(test_png_files)} test PNGs to process.\")\n",
        "\n",
        "DET_BATCH = 16  # As suggested by expert; can be tuned\n",
        "predictions = []\n",
        "\n",
        "with torch.inference_mode():\n",
        "    for i in tqdm(range(0, len(test_png_files), DET_BATCH), desc=\"YOLOv5 Inference\"):\n",
        "        batch_files = test_png_files[i:i+DET_BATCH]\n",
        "        # The 'conf' argument is set on the model, not passed here.\n",
        "        results = model_det(batch_files, size=IMG_SIZE_DET)\n",
        "        # The expert noted AutoShape returns coordinates in original image space, so no manual scaling needed.\n",
        "        for img_path, df in zip(batch_files, results.pandas().xyxy):\n",
        "            image_id = os.path.basename(img_path).replace('.png', '')\n",
        "            if len(df):\n",
        "                df = df[['xmin','ymin','xmax','ymax','confidence','class','name']].copy()\n",
        "                df['image_id'] = image_id\n",
        "                predictions.append(df)\n",
        "        del results\n",
        "        if DEVICE.type == 'cuda':\n",
        "            torch.cuda.empty_cache()\n",
        "\n",
        "if predictions:\n",
        "    df_det_preds = pd.concat(predictions, ignore_index=True)\n",
        "    print(f\"Generated {len(df_det_preds)} bounding box predictions.\")\n",
        "    display(df_det_preds.head())\n",
        "else:\n",
        "    print(\"No bounding boxes were predicted.\")\n",
        "    df_det_preds = pd.DataFrame()"
      ],
      "execution_count": 9,
      "outputs": [
        {
          "output_type": "stream",
          "name": "stderr",
          "text": [
            "YOLOv5 \ud83d\ude80 v7.0-432-g725b922e Python-3.11.0rc1 torch-2.8.0+cu128 CUDA:0 (NVIDIA A10-24Q, 24291MiB)\n\n"
          ]
        },
        {
          "output_type": "stream",
          "name": "stderr",
          "text": [
            "Fusing layers... \n"
          ]
        },
        {
          "output_type": "stream",
          "name": "stderr",
          "text": [
            "Model summary: 157 layers, 7012822 parameters, 0 gradients, 15.8 GFLOPs\n"
          ]
        },
        {
          "output_type": "stream",
          "name": "stderr",
          "text": [
            "Adding AutoShape... \n"
          ]
        },
        {
          "output_type": "stream",
          "name": "stdout",
          "text": [
            "--- Running YOLOv5 Detector on Test Images ---\nFound 638 test PNGs to process.\n"
          ]
        },
        {
          "output_type": "stream",
          "name": "stderr",
          "text": [
            "\rYOLOv5 Inference:   0%|          | 0/40 [00:00<?, ?it/s]"
          ]
        },
        {
          "output_type": "stream",
          "name": "stderr",
          "text": [
            "/var/lib/simon/agent_run_states/siim-covid19-detection-20250925-205912/yolov5/models/common.py:906: FutureWarning: `torch.cuda.amp.autocast(args...)` is deprecated. Please use `torch.amp.autocast('cuda', args...)` instead.\n  with amp.autocast(autocast):\n\rYOLOv5 Inference:   2%|\u258e         | 1/40 [00:00<00:33,  1.16it/s]"
          ]
        },
        {
          "output_type": "stream",
          "name": "stderr",
          "text": [
            "/var/lib/simon/agent_run_states/siim-covid19-detection-20250925-205912/yolov5/models/common.py:906: FutureWarning: `torch.cuda.amp.autocast(args...)` is deprecated. Please use `torch.amp.autocast('cuda', args...)` instead.\n  with amp.autocast(autocast):\n\rYOLOv5 Inference:   5%|\u258c         | 2/40 [00:01<00:29,  1.29it/s]"
          ]
        },
        {
          "output_type": "stream",
          "name": "stderr",
          "text": [
            "/var/lib/simon/agent_run_states/siim-covid19-detection-20250925-205912/yolov5/models/common.py:906: FutureWarning: `torch.cuda.amp.autocast(args...)` is deprecated. Please use `torch.amp.autocast('cuda', args...)` instead.\n  with amp.autocast(autocast):\n\rYOLOv5 Inference:   8%|\u258a         | 3/40 [00:02<00:28,  1.32it/s]"
          ]
        },
        {
          "output_type": "stream",
          "name": "stderr",
          "text": [
            "/var/lib/simon/agent_run_states/siim-covid19-detection-20250925-205912/yolov5/models/common.py:906: FutureWarning: `torch.cuda.amp.autocast(args...)` is deprecated. Please use `torch.amp.autocast('cuda', args...)` instead.\n  with amp.autocast(autocast):\n\rYOLOv5 Inference:  10%|\u2588         | 4/40 [00:02<00:26,  1.38it/s]"
          ]
        },
        {
          "output_type": "stream",
          "name": "stderr",
          "text": [
            "/var/lib/simon/agent_run_states/siim-covid19-detection-20250925-205912/yolov5/models/common.py:906: FutureWarning: `torch.cuda.amp.autocast(args...)` is deprecated. Please use `torch.amp.autocast('cuda', args...)` instead.\n  with amp.autocast(autocast):\n\rYOLOv5 Inference:  12%|\u2588\u258e        | 5/40 [00:03<00:26,  1.34it/s]"
          ]
        },
        {
          "output_type": "stream",
          "name": "stderr",
          "text": [
            "/var/lib/simon/agent_run_states/siim-covid19-detection-20250925-205912/yolov5/models/common.py:906: FutureWarning: `torch.cuda.amp.autocast(args...)` is deprecated. Please use `torch.amp.autocast('cuda', args...)` instead.\n  with amp.autocast(autocast):\n\rYOLOv5 Inference:  15%|\u2588\u258c        | 6/40 [00:04<00:26,  1.31it/s]"
          ]
        },
        {
          "output_type": "stream",
          "name": "stderr",
          "text": [
            "/var/lib/simon/agent_run_states/siim-covid19-detection-20250925-205912/yolov5/models/common.py:906: FutureWarning: `torch.cuda.amp.autocast(args...)` is deprecated. Please use `torch.amp.autocast('cuda', args...)` instead.\n  with amp.autocast(autocast):\n\rYOLOv5 Inference:  18%|\u2588\u258a        | 7/40 [00:05<00:23,  1.39it/s]"
          ]
        },
        {
          "output_type": "stream",
          "name": "stderr",
          "text": [
            "/var/lib/simon/agent_run_states/siim-covid19-detection-20250925-205912/yolov5/models/common.py:906: FutureWarning: `torch.cuda.amp.autocast(args...)` is deprecated. Please use `torch.amp.autocast('cuda', args...)` instead.\n  with amp.autocast(autocast):\n\rYOLOv5 Inference:  20%|\u2588\u2588        | 8/40 [00:05<00:22,  1.42it/s]"
          ]
        },
        {
          "output_type": "stream",
          "name": "stderr",
          "text": [
            "/var/lib/simon/agent_run_states/siim-covid19-detection-20250925-205912/yolov5/models/common.py:906: FutureWarning: `torch.cuda.amp.autocast(args...)` is deprecated. Please use `torch.amp.autocast('cuda', args...)` instead.\n  with amp.autocast(autocast):\n\rYOLOv5 Inference:  22%|\u2588\u2588\u258e       | 9/40 [00:06<00:22,  1.40it/s]"
          ]
        },
        {
          "output_type": "stream",
          "name": "stderr",
          "text": [
            "/var/lib/simon/agent_run_states/siim-covid19-detection-20250925-205912/yolov5/models/common.py:906: FutureWarning: `torch.cuda.amp.autocast(args...)` is deprecated. Please use `torch.amp.autocast('cuda', args...)` instead.\n  with amp.autocast(autocast):\n\rYOLOv5 Inference:  25%|\u2588\u2588\u258c       | 10/40 [00:07<00:21,  1.39it/s]"
          ]
        },
        {
          "output_type": "stream",
          "name": "stderr",
          "text": [
            "/var/lib/simon/agent_run_states/siim-covid19-detection-20250925-205912/yolov5/models/common.py:906: FutureWarning: `torch.cuda.amp.autocast(args...)` is deprecated. Please use `torch.amp.autocast('cuda', args...)` instead.\n  with amp.autocast(autocast):\n\rYOLOv5 Inference:  28%|\u2588\u2588\u258a       | 11/40 [00:08<00:21,  1.38it/s]"
          ]
        },
        {
          "output_type": "stream",
          "name": "stderr",
          "text": [
            "/var/lib/simon/agent_run_states/siim-covid19-detection-20250925-205912/yolov5/models/common.py:906: FutureWarning: `torch.cuda.amp.autocast(args...)` is deprecated. Please use `torch.amp.autocast('cuda', args...)` instead.\n  with amp.autocast(autocast):\n\rYOLOv5 Inference:  30%|\u2588\u2588\u2588       | 12/40 [00:08<00:19,  1.42it/s]"
          ]
        },
        {
          "output_type": "stream",
          "name": "stderr",
          "text": [
            "/var/lib/simon/agent_run_states/siim-covid19-detection-20250925-205912/yolov5/models/common.py:906: FutureWarning: `torch.cuda.amp.autocast(args...)` is deprecated. Please use `torch.amp.autocast('cuda', args...)` instead.\n  with amp.autocast(autocast):\n\rYOLOv5 Inference:  32%|\u2588\u2588\u2588\u258e      | 13/40 [00:09<00:18,  1.43it/s]"
          ]
        },
        {
          "output_type": "stream",
          "name": "stderr",
          "text": [
            "/var/lib/simon/agent_run_states/siim-covid19-detection-20250925-205912/yolov5/models/common.py:906: FutureWarning: `torch.cuda.amp.autocast(args...)` is deprecated. Please use `torch.amp.autocast('cuda', args...)` instead.\n  with amp.autocast(autocast):\n\rYOLOv5 Inference:  35%|\u2588\u2588\u2588\u258c      | 14/40 [00:10<00:18,  1.38it/s]"
          ]
        },
        {
          "output_type": "stream",
          "name": "stderr",
          "text": [
            "/var/lib/simon/agent_run_states/siim-covid19-detection-20250925-205912/yolov5/models/common.py:906: FutureWarning: `torch.cuda.amp.autocast(args...)` is deprecated. Please use `torch.amp.autocast('cuda', args...)` instead.\n  with amp.autocast(autocast):\n\rYOLOv5 Inference:  38%|\u2588\u2588\u2588\u258a      | 15/40 [00:10<00:17,  1.41it/s]"
          ]
        },
        {
          "output_type": "stream",
          "name": "stderr",
          "text": [
            "/var/lib/simon/agent_run_states/siim-covid19-detection-20250925-205912/yolov5/models/common.py:906: FutureWarning: `torch.cuda.amp.autocast(args...)` is deprecated. Please use `torch.amp.autocast('cuda', args...)` instead.\n  with amp.autocast(autocast):\n\rYOLOv5 Inference:  40%|\u2588\u2588\u2588\u2588      | 16/40 [00:11<00:16,  1.44it/s]"
          ]
        },
        {
          "output_type": "stream",
          "name": "stderr",
          "text": [
            "/var/lib/simon/agent_run_states/siim-covid19-detection-20250925-205912/yolov5/models/common.py:906: FutureWarning: `torch.cuda.amp.autocast(args...)` is deprecated. Please use `torch.amp.autocast('cuda', args...)` instead.\n  with amp.autocast(autocast):\n\rYOLOv5 Inference:  42%|\u2588\u2588\u2588\u2588\u258e     | 17/40 [00:12<00:15,  1.47it/s]"
          ]
        },
        {
          "output_type": "stream",
          "name": "stderr",
          "text": [
            "/var/lib/simon/agent_run_states/siim-covid19-detection-20250925-205912/yolov5/models/common.py:906: FutureWarning: `torch.cuda.amp.autocast(args...)` is deprecated. Please use `torch.amp.autocast('cuda', args...)` instead.\n  with amp.autocast(autocast):\n\rYOLOv5 Inference:  45%|\u2588\u2588\u2588\u2588\u258c     | 18/40 [00:12<00:15,  1.45it/s]"
          ]
        },
        {
          "output_type": "stream",
          "name": "stderr",
          "text": [
            "/var/lib/simon/agent_run_states/siim-covid19-detection-20250925-205912/yolov5/models/common.py:906: FutureWarning: `torch.cuda.amp.autocast(args...)` is deprecated. Please use `torch.amp.autocast('cuda', args...)` instead.\n  with amp.autocast(autocast):\n\rYOLOv5 Inference:  48%|\u2588\u2588\u2588\u2588\u258a     | 19/40 [00:13<00:14,  1.46it/s]"
          ]
        },
        {
          "output_type": "stream",
          "name": "stderr",
          "text": [
            "/var/lib/simon/agent_run_states/siim-covid19-detection-20250925-205912/yolov5/models/common.py:906: FutureWarning: `torch.cuda.amp.autocast(args...)` is deprecated. Please use `torch.amp.autocast('cuda', args...)` instead.\n  with amp.autocast(autocast):\n\rYOLOv5 Inference:  50%|\u2588\u2588\u2588\u2588\u2588     | 20/40 [00:14<00:13,  1.44it/s]"
          ]
        },
        {
          "output_type": "stream",
          "name": "stderr",
          "text": [
            "/var/lib/simon/agent_run_states/siim-covid19-detection-20250925-205912/yolov5/models/common.py:906: FutureWarning: `torch.cuda.amp.autocast(args...)` is deprecated. Please use `torch.amp.autocast('cuda', args...)` instead.\n  with amp.autocast(autocast):\n\rYOLOv5 Inference:  52%|\u2588\u2588\u2588\u2588\u2588\u258e    | 21/40 [00:15<00:13,  1.39it/s]"
          ]
        },
        {
          "output_type": "stream",
          "name": "stderr",
          "text": [
            "/var/lib/simon/agent_run_states/siim-covid19-detection-20250925-205912/yolov5/models/common.py:906: FutureWarning: `torch.cuda.amp.autocast(args...)` is deprecated. Please use `torch.amp.autocast('cuda', args...)` instead.\n  with amp.autocast(autocast):\n\rYOLOv5 Inference:  55%|\u2588\u2588\u2588\u2588\u2588\u258c    | 22/40 [00:15<00:12,  1.42it/s]"
          ]
        },
        {
          "output_type": "stream",
          "name": "stderr",
          "text": [
            "/var/lib/simon/agent_run_states/siim-covid19-detection-20250925-205912/yolov5/models/common.py:906: FutureWarning: `torch.cuda.amp.autocast(args...)` is deprecated. Please use `torch.amp.autocast('cuda', args...)` instead.\n  with amp.autocast(autocast):\n\rYOLOv5 Inference:  57%|\u2588\u2588\u2588\u2588\u2588\u258a    | 23/40 [00:16<00:12,  1.40it/s]"
          ]
        },
        {
          "output_type": "stream",
          "name": "stderr",
          "text": [
            "/var/lib/simon/agent_run_states/siim-covid19-detection-20250925-205912/yolov5/models/common.py:906: FutureWarning: `torch.cuda.amp.autocast(args...)` is deprecated. Please use `torch.amp.autocast('cuda', args...)` instead.\n  with amp.autocast(autocast):\n\rYOLOv5 Inference:  60%|\u2588\u2588\u2588\u2588\u2588\u2588    | 24/40 [00:17<00:11,  1.39it/s]"
          ]
        },
        {
          "output_type": "stream",
          "name": "stderr",
          "text": [
            "/var/lib/simon/agent_run_states/siim-covid19-detection-20250925-205912/yolov5/models/common.py:906: FutureWarning: `torch.cuda.amp.autocast(args...)` is deprecated. Please use `torch.amp.autocast('cuda', args...)` instead.\n  with amp.autocast(autocast):\n\rYOLOv5 Inference:  62%|\u2588\u2588\u2588\u2588\u2588\u2588\u258e   | 25/40 [00:17<00:10,  1.43it/s]"
          ]
        },
        {
          "output_type": "stream",
          "name": "stderr",
          "text": [
            "/var/lib/simon/agent_run_states/siim-covid19-detection-20250925-205912/yolov5/models/common.py:906: FutureWarning: `torch.cuda.amp.autocast(args...)` is deprecated. Please use `torch.amp.autocast('cuda', args...)` instead.\n  with amp.autocast(autocast):\n\rYOLOv5 Inference:  65%|\u2588\u2588\u2588\u2588\u2588\u2588\u258c   | 26/40 [00:18<00:09,  1.47it/s]"
          ]
        },
        {
          "output_type": "stream",
          "name": "stderr",
          "text": [
            "/var/lib/simon/agent_run_states/siim-covid19-detection-20250925-205912/yolov5/models/common.py:906: FutureWarning: `torch.cuda.amp.autocast(args...)` is deprecated. Please use `torch.amp.autocast('cuda', args...)` instead.\n  with amp.autocast(autocast):\n\rYOLOv5 Inference:  68%|\u2588\u2588\u2588\u2588\u2588\u2588\u258a   | 27/40 [00:19<00:08,  1.45it/s]"
          ]
        },
        {
          "output_type": "stream",
          "name": "stderr",
          "text": [
            "/var/lib/simon/agent_run_states/siim-covid19-detection-20250925-205912/yolov5/models/common.py:906: FutureWarning: `torch.cuda.amp.autocast(args...)` is deprecated. Please use `torch.amp.autocast('cuda', args...)` instead.\n  with amp.autocast(autocast):\n\rYOLOv5 Inference:  70%|\u2588\u2588\u2588\u2588\u2588\u2588\u2588   | 28/40 [00:19<00:08,  1.47it/s]"
          ]
        },
        {
          "output_type": "stream",
          "name": "stderr",
          "text": [
            "/var/lib/simon/agent_run_states/siim-covid19-detection-20250925-205912/yolov5/models/common.py:906: FutureWarning: `torch.cuda.amp.autocast(args...)` is deprecated. Please use `torch.amp.autocast('cuda', args...)` instead.\n  with amp.autocast(autocast):\n\rYOLOv5 Inference:  72%|\u2588\u2588\u2588\u2588\u2588\u2588\u2588\u258e  | 29/40 [00:20<00:07,  1.42it/s]"
          ]
        },
        {
          "output_type": "stream",
          "name": "stderr",
          "text": [
            "/var/lib/simon/agent_run_states/siim-covid19-detection-20250925-205912/yolov5/models/common.py:906: FutureWarning: `torch.cuda.amp.autocast(args...)` is deprecated. Please use `torch.amp.autocast('cuda', args...)` instead.\n  with amp.autocast(autocast):\n\rYOLOv5 Inference:  75%|\u2588\u2588\u2588\u2588\u2588\u2588\u2588\u258c  | 30/40 [00:21<00:06,  1.44it/s]"
          ]
        },
        {
          "output_type": "stream",
          "name": "stderr",
          "text": [
            "/var/lib/simon/agent_run_states/siim-covid19-detection-20250925-205912/yolov5/models/common.py:906: FutureWarning: `torch.cuda.amp.autocast(args...)` is deprecated. Please use `torch.amp.autocast('cuda', args...)` instead.\n  with amp.autocast(autocast):\n\rYOLOv5 Inference:  78%|\u2588\u2588\u2588\u2588\u2588\u2588\u2588\u258a  | 31/40 [00:22<00:06,  1.42it/s]"
          ]
        },
        {
          "output_type": "stream",
          "name": "stderr",
          "text": [
            "/var/lib/simon/agent_run_states/siim-covid19-detection-20250925-205912/yolov5/models/common.py:906: FutureWarning: `torch.cuda.amp.autocast(args...)` is deprecated. Please use `torch.amp.autocast('cuda', args...)` instead.\n  with amp.autocast(autocast):\n\rYOLOv5 Inference:  80%|\u2588\u2588\u2588\u2588\u2588\u2588\u2588\u2588  | 32/40 [00:22<00:05,  1.52it/s]"
          ]
        },
        {
          "output_type": "stream",
          "name": "stderr",
          "text": [
            "/var/lib/simon/agent_run_states/siim-covid19-detection-20250925-205912/yolov5/models/common.py:906: FutureWarning: `torch.cuda.amp.autocast(args...)` is deprecated. Please use `torch.amp.autocast('cuda', args...)` instead.\n  with amp.autocast(autocast):\n\rYOLOv5 Inference:  82%|\u2588\u2588\u2588\u2588\u2588\u2588\u2588\u2588\u258e | 33/40 [00:23<00:04,  1.58it/s]"
          ]
        },
        {
          "output_type": "stream",
          "name": "stderr",
          "text": [
            "/var/lib/simon/agent_run_states/siim-covid19-detection-20250925-205912/yolov5/models/common.py:906: FutureWarning: `torch.cuda.amp.autocast(args...)` is deprecated. Please use `torch.amp.autocast('cuda', args...)` instead.\n  with amp.autocast(autocast):\n\rYOLOv5 Inference:  85%|\u2588\u2588\u2588\u2588\u2588\u2588\u2588\u2588\u258c | 34/40 [00:23<00:03,  1.52it/s]"
          ]
        },
        {
          "output_type": "stream",
          "name": "stderr",
          "text": [
            "/var/lib/simon/agent_run_states/siim-covid19-detection-20250925-205912/yolov5/models/common.py:906: FutureWarning: `torch.cuda.amp.autocast(args...)` is deprecated. Please use `torch.amp.autocast('cuda', args...)` instead.\n  with amp.autocast(autocast):\n\rYOLOv5 Inference:  88%|\u2588\u2588\u2588\u2588\u2588\u2588\u2588\u2588\u258a | 35/40 [00:24<00:03,  1.48it/s]"
          ]
        },
        {
          "output_type": "stream",
          "name": "stderr",
          "text": [
            "/var/lib/simon/agent_run_states/siim-covid19-detection-20250925-205912/yolov5/models/common.py:906: FutureWarning: `torch.cuda.amp.autocast(args...)` is deprecated. Please use `torch.amp.autocast('cuda', args...)` instead.\n  with amp.autocast(autocast):\n\rYOLOv5 Inference:  90%|\u2588\u2588\u2588\u2588\u2588\u2588\u2588\u2588\u2588 | 36/40 [00:25<00:02,  1.46it/s]"
          ]
        },
        {
          "output_type": "stream",
          "name": "stderr",
          "text": [
            "/var/lib/simon/agent_run_states/siim-covid19-detection-20250925-205912/yolov5/models/common.py:906: FutureWarning: `torch.cuda.amp.autocast(args...)` is deprecated. Please use `torch.amp.autocast('cuda', args...)` instead.\n  with amp.autocast(autocast):\n\rYOLOv5 Inference:  92%|\u2588\u2588\u2588\u2588\u2588\u2588\u2588\u2588\u2588\u258e| 37/40 [00:26<00:02,  1.38it/s]"
          ]
        },
        {
          "output_type": "stream",
          "name": "stderr",
          "text": [
            "/var/lib/simon/agent_run_states/siim-covid19-detection-20250925-205912/yolov5/models/common.py:906: FutureWarning: `torch.cuda.amp.autocast(args...)` is deprecated. Please use `torch.amp.autocast('cuda', args...)` instead.\n  with amp.autocast(autocast):\n\rYOLOv5 Inference:  95%|\u2588\u2588\u2588\u2588\u2588\u2588\u2588\u2588\u2588\u258c| 38/40 [00:26<00:01,  1.42it/s]"
          ]
        },
        {
          "output_type": "stream",
          "name": "stderr",
          "text": [
            "/var/lib/simon/agent_run_states/siim-covid19-detection-20250925-205912/yolov5/models/common.py:906: FutureWarning: `torch.cuda.amp.autocast(args...)` is deprecated. Please use `torch.amp.autocast('cuda', args...)` instead.\n  with amp.autocast(autocast):\n\rYOLOv5 Inference:  98%|\u2588\u2588\u2588\u2588\u2588\u2588\u2588\u2588\u2588\u258a| 39/40 [00:27<00:00,  1.51it/s]"
          ]
        },
        {
          "output_type": "stream",
          "name": "stderr",
          "text": [
            "/var/lib/simon/agent_run_states/siim-covid19-detection-20250925-205912/yolov5/models/common.py:906: FutureWarning: `torch.cuda.amp.autocast(args...)` is deprecated. Please use `torch.amp.autocast('cuda', args...)` instead.\n  with amp.autocast(autocast):\n\rYOLOv5 Inference: 100%|\u2588\u2588\u2588\u2588\u2588\u2588\u2588\u2588\u2588\u2588| 40/40 [00:27<00:00,  1.62it/s]"
          ]
        },
        {
          "output_type": "stream",
          "name": "stderr",
          "text": [
            "\rYOLOv5 Inference: 100%|\u2588\u2588\u2588\u2588\u2588\u2588\u2588\u2588\u2588\u2588| 40/40 [00:27<00:00,  1.44it/s]"
          ]
        },
        {
          "output_type": "stream",
          "name": "stdout",
          "text": [
            "Generated 47674 bounding box predictions.\n"
          ]
        },
        {
          "output_type": "stream",
          "name": "stderr",
          "text": [
            "\n"
          ]
        },
        {
          "output_type": "display_data",
          "data": {
            "text/plain": "          xmin         ymin         xmax         ymax  confidence  class  \\\n0  1844.287598  1003.456299  2409.962646  2141.818848    0.041931      0   \n1  1734.425049  1376.287476  2342.175049  2353.362549    0.036346      0   \n2   673.200012  1154.225098  1317.181274  2294.925049    0.028549      0   \n3   638.721924  1760.806274  1323.025024  2524.000244    0.013275      0   \n4  1801.043823  1708.212524  2463.725098  2570.750244    0.012672      0   \n\n      name      image_id  \n0  opacity  004cbd797cd1  \n1  opacity  004cbd797cd1  \n2  opacity  004cbd797cd1  \n3  opacity  004cbd797cd1  \n4  opacity  004cbd797cd1  ",
            "text/html": "<div>\n<style scoped>\n    .dataframe tbody tr th:only-of-type {\n        vertical-align: middle;\n    }\n\n    .dataframe tbody tr th {\n        vertical-align: top;\n    }\n\n    .dataframe thead th {\n        text-align: right;\n    }\n</style>\n<table border=\"1\" class=\"dataframe\">\n  <thead>\n    <tr style=\"text-align: right;\">\n      <th></th>\n      <th>xmin</th>\n      <th>ymin</th>\n      <th>xmax</th>\n      <th>ymax</th>\n      <th>confidence</th>\n      <th>class</th>\n      <th>name</th>\n      <th>image_id</th>\n    </tr>\n  </thead>\n  <tbody>\n    <tr>\n      <th>0</th>\n      <td>1844.287598</td>\n      <td>1003.456299</td>\n      <td>2409.962646</td>\n      <td>2141.818848</td>\n      <td>0.041931</td>\n      <td>0</td>\n      <td>opacity</td>\n      <td>004cbd797cd1</td>\n    </tr>\n    <tr>\n      <th>1</th>\n      <td>1734.425049</td>\n      <td>1376.287476</td>\n      <td>2342.175049</td>\n      <td>2353.362549</td>\n      <td>0.036346</td>\n      <td>0</td>\n      <td>opacity</td>\n      <td>004cbd797cd1</td>\n    </tr>\n    <tr>\n      <th>2</th>\n      <td>673.200012</td>\n      <td>1154.225098</td>\n      <td>1317.181274</td>\n      <td>2294.925049</td>\n      <td>0.028549</td>\n      <td>0</td>\n      <td>opacity</td>\n      <td>004cbd797cd1</td>\n    </tr>\n    <tr>\n      <th>3</th>\n      <td>638.721924</td>\n      <td>1760.806274</td>\n      <td>1323.025024</td>\n      <td>2524.000244</td>\n      <td>0.013275</td>\n      <td>0</td>\n      <td>opacity</td>\n      <td>004cbd797cd1</td>\n    </tr>\n    <tr>\n      <th>4</th>\n      <td>1801.043823</td>\n      <td>1708.212524</td>\n      <td>2463.725098</td>\n      <td>2570.750244</td>\n      <td>0.012672</td>\n      <td>0</td>\n      <td>opacity</td>\n      <td>004cbd797cd1</td>\n    </tr>\n  </tbody>\n</table>\n</div>"
          },
          "metadata": {}
        }
      ]
    },
    {
      "id": "356c4a40-93de-4268-8650-d0b67bdad237",
      "cell_type": "code",
      "metadata": {},
      "source": [
        "# --- Classifier Inference ---\n",
        "print(\"--- Running Classifier on Test Images ---\")\n",
        "\n",
        "# --- Dataset and Transforms (similar to training, but for inference) ---\n",
        "class SIIMTestClassifierDataset(Dataset):\n",
        "    def __init__(self, df, transform=None):\n",
        "        self.df = df\n",
        "        self.image_paths = df['image_path'].values\n",
        "        self.transform = transform\n",
        "\n",
        "    def __len__(self):\n",
        "        return len(self.df)\n",
        "\n",
        "    def __getitem__(self, idx):\n",
        "        image_path = self.image_paths[idx]\n",
        "        image = cv2.imread(image_path)\n",
        "        image = cv2.cvtColor(image, cv2.COLOR_BGR2RGB)\n",
        "\n",
        "        if self.transform:\n",
        "            augmented = self.transform(image=image)\n",
        "            image = augmented['image']\n",
        "\n",
        "        return image\n",
        "\n",
        "def get_cls_test_transforms(img_size):\n",
        "    return A.Compose([\n",
        "        A.Resize(img_size, img_size),\n",
        "        A.Normalize(mean=[0.485, 0.456, 0.406], std=[0.229, 0.224, 0.225]),\n",
        "        ToTensorV2()\n",
        "    ])\n",
        "\n",
        "# --- Prepare DataLoader ---\n",
        "df_test_imgs['image_path'] = df_test_imgs['image_id'].apply(lambda x: os.path.join(TEST_PNG_DIR, f\"{x}.png\"))\n",
        "test_cls_dataset = SIIMTestClassifierDataset(df_test_imgs, transform=get_cls_test_transforms(IMG_SIZE_CLS))\n",
        "test_cls_loader = DataLoader(test_cls_dataset, batch_size=BATCH_SIZE, shuffle=False, num_workers=NUM_WORKERS, pin_memory=True)\n",
        "\n",
        "# --- Load Model ---\n",
        "MODEL_NAME = 'tf_efficientnet_b4_ns'\n",
        "NUM_CLASSES = 4\n",
        "model_cls = timm.create_model(MODEL_NAME, pretrained=False, num_classes=NUM_CLASSES)\n",
        "model_cls.load_state_dict(torch.load(CLASSIFIER_WEIGHTS, map_location=DEVICE))\n",
        "model_cls.to(DEVICE)\n",
        "model_cls.eval()\n",
        "\n",
        "# --- Run Inference ---\n",
        "all_cls_preds = []\n",
        "with torch.no_grad():\n",
        "    for images in tqdm(test_cls_loader, desc=\"Classifier Inference\"):\n",
        "        images = images.to(DEVICE)\n",
        "        with torch.cuda.amp.autocast():\n",
        "            outputs = model_cls(images)\n",
        "            probs = torch.softmax(outputs, dim=1).cpu().numpy()\n",
        "        all_cls_preds.append(probs)\n",
        "\n",
        "all_cls_preds = np.concatenate(all_cls_preds)\n",
        "\n",
        "# --- Store Predictions in DataFrame ---\n",
        "label_cols = ['Negative for Pneumonia', 'Typical Appearance', 'Indeterminate Appearance', 'Atypical Appearance']\n",
        "df_cls_preds = pd.DataFrame(all_cls_preds, columns=label_cols)\n",
        "df_cls_preds['image_id'] = df_test_imgs['image_id'].values\n",
        "\n",
        "print(f\"Generated {len(df_cls_preds)} classifier predictions.\")\n",
        "display(df_cls_preds.head())"
      ],
      "execution_count": 10,
      "outputs": [
        {
          "output_type": "stream",
          "name": "stdout",
          "text": [
            "--- Running Classifier on Test Images ---\n"
          ]
        },
        {
          "output_type": "stream",
          "name": "stderr",
          "text": [
            "\rClassifier Inference:   0%|          | 0/40 [00:00<?, ?it/s]"
          ]
        },
        {
          "output_type": "stream",
          "name": "stderr",
          "text": [
            "/tmp/ipykernel_6896/2339599941.py:50: FutureWarning: `torch.cuda.amp.autocast(args...)` is deprecated. Please use `torch.amp.autocast('cuda', args...)` instead.\n  with torch.cuda.amp.autocast():\n"
          ]
        },
        {
          "output_type": "stream",
          "name": "stderr",
          "text": [
            "\rClassifier Inference:   2%|\u258e         | 1/40 [00:05<03:17,  5.05s/it]"
          ]
        },
        {
          "output_type": "stream",
          "name": "stderr",
          "text": [
            "\rClassifier Inference:   8%|\u258a         | 3/40 [00:05<00:50,  1.35s/it]"
          ]
        },
        {
          "output_type": "stream",
          "name": "stderr",
          "text": [
            "\rClassifier Inference:  12%|\u2588\u258e        | 5/40 [00:05<00:24,  1.46it/s]"
          ]
        },
        {
          "output_type": "stream",
          "name": "stderr",
          "text": [
            "\rClassifier Inference:  18%|\u2588\u258a        | 7/40 [00:05<00:13,  2.38it/s]"
          ]
        },
        {
          "output_type": "stream",
          "name": "stderr",
          "text": [
            "\rClassifier Inference:  22%|\u2588\u2588\u258e       | 9/40 [00:05<00:08,  3.54it/s]"
          ]
        },
        {
          "output_type": "stream",
          "name": "stderr",
          "text": [
            "\rClassifier Inference:  28%|\u2588\u2588\u258a       | 11/40 [00:06<00:09,  3.17it/s]"
          ]
        },
        {
          "output_type": "stream",
          "name": "stderr",
          "text": [
            "\rClassifier Inference:  32%|\u2588\u2588\u2588\u258e      | 13/40 [00:06<00:06,  4.36it/s]"
          ]
        },
        {
          "output_type": "stream",
          "name": "stderr",
          "text": [
            "\rClassifier Inference:  38%|\u2588\u2588\u2588\u258a      | 15/40 [00:07<00:07,  3.24it/s]"
          ]
        },
        {
          "output_type": "stream",
          "name": "stderr",
          "text": [
            "\rClassifier Inference:  42%|\u2588\u2588\u2588\u2588\u258e     | 17/40 [00:07<00:05,  4.36it/s]"
          ]
        },
        {
          "output_type": "stream",
          "name": "stderr",
          "text": [
            "\rClassifier Inference:  48%|\u2588\u2588\u2588\u2588\u258a     | 19/40 [00:08<00:06,  3.31it/s]"
          ]
        },
        {
          "output_type": "stream",
          "name": "stderr",
          "text": [
            "\rClassifier Inference:  52%|\u2588\u2588\u2588\u2588\u2588\u258e    | 21/40 [00:08<00:04,  4.41it/s]"
          ]
        },
        {
          "output_type": "stream",
          "name": "stderr",
          "text": [
            "\rClassifier Inference:  57%|\u2588\u2588\u2588\u2588\u2588\u258a    | 23/40 [00:09<00:05,  3.30it/s]"
          ]
        },
        {
          "output_type": "stream",
          "name": "stderr",
          "text": [
            "\rClassifier Inference:  62%|\u2588\u2588\u2588\u2588\u2588\u2588\u258e   | 25/40 [00:09<00:03,  4.38it/s]"
          ]
        },
        {
          "output_type": "stream",
          "name": "stderr",
          "text": [
            "\rClassifier Inference:  68%|\u2588\u2588\u2588\u2588\u2588\u2588\u258a   | 27/40 [00:10<00:03,  3.39it/s]"
          ]
        },
        {
          "output_type": "stream",
          "name": "stderr",
          "text": [
            "\rClassifier Inference:  72%|\u2588\u2588\u2588\u2588\u2588\u2588\u2588\u258e  | 29/40 [00:10<00:02,  4.48it/s]"
          ]
        },
        {
          "output_type": "stream",
          "name": "stderr",
          "text": [
            "\rClassifier Inference:  78%|\u2588\u2588\u2588\u2588\u2588\u2588\u2588\u258a  | 31/40 [00:11<00:02,  3.48it/s]"
          ]
        },
        {
          "output_type": "stream",
          "name": "stderr",
          "text": [
            "\rClassifier Inference:  82%|\u2588\u2588\u2588\u2588\u2588\u2588\u2588\u2588\u258e | 33/40 [00:11<00:01,  4.59it/s]"
          ]
        },
        {
          "output_type": "stream",
          "name": "stderr",
          "text": [
            "\rClassifier Inference:  88%|\u2588\u2588\u2588\u2588\u2588\u2588\u2588\u2588\u258a | 35/40 [00:12<00:01,  3.33it/s]"
          ]
        },
        {
          "output_type": "stream",
          "name": "stderr",
          "text": [
            "\rClassifier Inference:  92%|\u2588\u2588\u2588\u2588\u2588\u2588\u2588\u2588\u2588\u258e| 37/40 [00:12<00:00,  4.40it/s]"
          ]
        },
        {
          "output_type": "stream",
          "name": "stderr",
          "text": [
            "\rClassifier Inference:  98%|\u2588\u2588\u2588\u2588\u2588\u2588\u2588\u2588\u2588\u258a| 39/40 [00:13<00:00,  3.28it/s]"
          ]
        },
        {
          "output_type": "stream",
          "name": "stderr",
          "text": [
            "\rClassifier Inference: 100%|\u2588\u2588\u2588\u2588\u2588\u2588\u2588\u2588\u2588\u2588| 40/40 [00:17<00:00,  1.13it/s]"
          ]
        },
        {
          "output_type": "stream",
          "name": "stderr",
          "text": [
            "\rClassifier Inference: 100%|\u2588\u2588\u2588\u2588\u2588\u2588\u2588\u2588\u2588\u2588| 40/40 [00:17<00:00,  2.30it/s]"
          ]
        },
        {
          "output_type": "stream",
          "name": "stdout",
          "text": [
            "Generated 638 classifier predictions.\n"
          ]
        },
        {
          "output_type": "stream",
          "name": "stderr",
          "text": [
            "\n"
          ]
        },
        {
          "output_type": "display_data",
          "data": {
            "text/plain": "   Negative for Pneumonia  Typical Appearance  Indeterminate Appearance  \\\n0                0.171116            0.336176                  0.369578   \n1                0.032415            0.811077                  0.133443   \n2                0.191343            0.455548                  0.219855   \n3                0.292518            0.493116                  0.129425   \n4                0.130996            0.677049                  0.122520   \n\n   Atypical Appearance      image_id  \n0             0.123130  004cbd797cd1  \n1             0.023065  008ca392cff3  \n2             0.133253  00b8180bd3a8  \n3             0.084941  00e3a7e91a34  \n4             0.069436  0124f624dacb  ",
            "text/html": "<div>\n<style scoped>\n    .dataframe tbody tr th:only-of-type {\n        vertical-align: middle;\n    }\n\n    .dataframe tbody tr th {\n        vertical-align: top;\n    }\n\n    .dataframe thead th {\n        text-align: right;\n    }\n</style>\n<table border=\"1\" class=\"dataframe\">\n  <thead>\n    <tr style=\"text-align: right;\">\n      <th></th>\n      <th>Negative for Pneumonia</th>\n      <th>Typical Appearance</th>\n      <th>Indeterminate Appearance</th>\n      <th>Atypical Appearance</th>\n      <th>image_id</th>\n    </tr>\n  </thead>\n  <tbody>\n    <tr>\n      <th>0</th>\n      <td>0.171116</td>\n      <td>0.336176</td>\n      <td>0.369578</td>\n      <td>0.123130</td>\n      <td>004cbd797cd1</td>\n    </tr>\n    <tr>\n      <th>1</th>\n      <td>0.032415</td>\n      <td>0.811077</td>\n      <td>0.133443</td>\n      <td>0.023065</td>\n      <td>008ca392cff3</td>\n    </tr>\n    <tr>\n      <th>2</th>\n      <td>0.191343</td>\n      <td>0.455548</td>\n      <td>0.219855</td>\n      <td>0.133253</td>\n      <td>00b8180bd3a8</td>\n    </tr>\n    <tr>\n      <th>3</th>\n      <td>0.292518</td>\n      <td>0.493116</td>\n      <td>0.129425</td>\n      <td>0.084941</td>\n      <td>00e3a7e91a34</td>\n    </tr>\n    <tr>\n      <th>4</th>\n      <td>0.130996</td>\n      <td>0.677049</td>\n      <td>0.122520</td>\n      <td>0.069436</td>\n      <td>0124f624dacb</td>\n    </tr>\n  </tbody>\n</table>\n</div>"
          },
          "metadata": {}
        }
      ]
    },
    {
      "id": "333e78ce-68ec-4a5f-ab13-a5b26e2d25bd",
      "cell_type": "code",
      "metadata": {},
      "source": [
        "# --- Format and Combine Predictions for Submission ---\n",
        "print(\"--- Formatting predictions into submission format ---\")\n",
        "\n",
        "# --- 1. Format Image-level (Detection) Predictions ---\n",
        "image_preds = {}\n",
        "if not df_det_preds.empty:\n",
        "    # Recommended robustness: clamp, cast, and ensure w/h >= 1\n",
        "    df_det_preds['xmin'] = df_det_preds['xmin'].clip(lower=0).round().astype(int)\n",
        "    df_det_preds['ymin'] = df_det_preds['ymin'].clip(lower=0).round().astype(int)\n",
        "    df_det_preds['xmax'] = df_det_preds['xmax'].clip(lower=0).round().astype(int)\n",
        "    df_det_preds['ymax'] = df_det_preds['ymax'].clip(lower=0).round().astype(int)\n",
        "    df_det_preds['w'] = (df_det_preds['xmax'] - df_det_preds['xmin']).clip(lower=1).astype(int)\n",
        "    df_det_preds['h'] = (df_det_preds['ymax'] - df_det_preds['ymin']).clip(lower=1).astype(int)\n",
        "\n",
        "    for image_id, group in df_det_preds.groupby('image_id'):\n",
        "        pred_strings = ' '.join(\n",
        "            f\"opacity {row.confidence:.4f} {row.xmin} {row.ymin} {row.w} {row.h}\"\n",
        "            for row in group.itertuples(index=False)\n",
        "        )\n",
        "        image_preds[image_id] = pred_strings\n",
        "\n",
        "# Create the final image-level submission dataframe\n",
        "image_sub_list = []\n",
        "for image_id in df_test_imgs['image_id'].unique():\n",
        "    pred_string = image_preds.get(image_id, 'none 1 0 0 1 1')\n",
        "    image_sub_list.append({'id': f\"{image_id}_image\", 'PredictionString': pred_string})\n",
        "df_image_sub = pd.DataFrame(image_sub_list)\n",
        "\n",
        "print(f\"Formatted {len(df_image_sub)} image-level predictions.\")\n",
        "display(df_image_sub.head())\n",
        "\n",
        "# --- 2. Format Study-level (Classification) Predictions ---\n",
        "# Get StudyInstanceUID for each image\n",
        "df_test_imgs['StudyInstanceUID'] = df_test_imgs['dcm_path'].apply(lambda x: x.split('/')[-3] if pd.notna(x) else None)\n",
        "df_cls_preds_with_study = pd.merge(df_cls_preds, df_test_imgs[['image_id', 'StudyInstanceUID']], on='image_id', how='left')\n",
        "\n",
        "# Aggregate image-level predictions to study-level by taking the mean\n",
        "label_cols = ['Negative for Pneumonia', 'Typical Appearance', 'Indeterminate Appearance', 'Atypical Appearance']\n",
        "df_study_preds = df_cls_preds_with_study.groupby('StudyInstanceUID')[label_cols].mean().reset_index()\n",
        "\n",
        "# Format the prediction string based on direct inspection of sample_submission.csv\n",
        "def format_study_string_from_sample(row):\n",
        "    # Find the class with the highest probability\n",
        "    max_prob_col = row[label_cols].idxmax()\n",
        "    \n",
        "    # Map the column name to the lowercase token\n",
        "    token_map = {\n",
        "        'Negative for Pneumonia': 'negative',\n",
        "        'Typical Appearance': 'typical',\n",
        "        'Indeterminate Appearance': 'indeterminate',\n",
        "        'Atypical Appearance': 'atypical'\n",
        "    }\n",
        "    class_token = token_map[max_prob_col]\n",
        "    \n",
        "    # Format the string like the sample file: 'classname 1 0 0 1 1'\n",
        "    return f\"{class_token} 1 0 0 1 1\"\n",
        "\n",
        "df_study_preds['PredictionString'] = df_study_preds.apply(format_study_string_from_sample, axis=1)\n",
        "df_study_preds['id'] = df_study_preds['StudyInstanceUID'].apply(lambda x: f\"{x}_study\")\n",
        "df_study_sub = df_study_preds[['id', 'PredictionString']]\n",
        "\n",
        "print(f\"\\nFormatted {len(df_study_sub)} study-level predictions.\")\n",
        "display(df_study_sub.head())\n",
        "\n",
        "# --- 3. Combine and Save Final Submission ---\n",
        "submission_df = pd.concat([df_image_sub, df_study_sub], ignore_index=True)\n",
        "\n",
        "# Sort the submission file by ID to match the sample submission order.\n",
        "submission_df = submission_df.sort_values(by='id').reset_index(drop=True)\n",
        "\n",
        "submission_df.to_csv('submission.csv', index=False)\n",
        "\n",
        "print(\"\\nFinal submission file created: submission.csv\")\n",
        "display(submission_df.head())\n",
        "print(f\"Total rows in submission: {len(submission_df)}\")"
      ],
      "execution_count": 16,
      "outputs": [
        {
          "output_type": "stream",
          "name": "stdout",
          "text": [
            "--- Formatting predictions into submission format ---\n"
          ]
        },
        {
          "output_type": "stream",
          "name": "stdout",
          "text": [
            "Formatted 638 image-level predictions.\n"
          ]
        },
        {
          "output_type": "display_data",
          "data": {
            "text/plain": "                   id                                   PredictionString\n0  004cbd797cd1_image  opacity 0.0419 1844 1003 566 1139 opacity 0.03...\n1  008ca392cff3_image  opacity 0.3464 2329 665 940 1209 opacity 0.147...\n2  00b8180bd3a8_image  opacity 0.0605 8 1956 677 1035 opacity 0.0317 ...\n3  00e3a7e91a34_image  opacity 0.0417 0 287 333 893 opacity 0.0333 14...\n4  0124f624dacb_image  opacity 0.0614 725 1065 894 1556 opacity 0.058...",
            "text/html": "<div>\n<style scoped>\n    .dataframe tbody tr th:only-of-type {\n        vertical-align: middle;\n    }\n\n    .dataframe tbody tr th {\n        vertical-align: top;\n    }\n\n    .dataframe thead th {\n        text-align: right;\n    }\n</style>\n<table border=\"1\" class=\"dataframe\">\n  <thead>\n    <tr style=\"text-align: right;\">\n      <th></th>\n      <th>id</th>\n      <th>PredictionString</th>\n    </tr>\n  </thead>\n  <tbody>\n    <tr>\n      <th>0</th>\n      <td>004cbd797cd1_image</td>\n      <td>opacity 0.0419 1844 1003 566 1139 opacity 0.03...</td>\n    </tr>\n    <tr>\n      <th>1</th>\n      <td>008ca392cff3_image</td>\n      <td>opacity 0.3464 2329 665 940 1209 opacity 0.147...</td>\n    </tr>\n    <tr>\n      <th>2</th>\n      <td>00b8180bd3a8_image</td>\n      <td>opacity 0.0605 8 1956 677 1035 opacity 0.0317 ...</td>\n    </tr>\n    <tr>\n      <th>3</th>\n      <td>00e3a7e91a34_image</td>\n      <td>opacity 0.0417 0 287 333 893 opacity 0.0333 14...</td>\n    </tr>\n    <tr>\n      <th>4</th>\n      <td>0124f624dacb_image</td>\n      <td>opacity 0.0614 725 1065 894 1556 opacity 0.058...</td>\n    </tr>\n  </tbody>\n</table>\n</div>"
          },
          "metadata": {}
        },
        {
          "output_type": "stream",
          "name": "stdout",
          "text": [
            "\nFormatted 606 study-level predictions.\n"
          ]
        },
        {
          "output_type": "display_data",
          "data": {
            "text/plain": "                   id   PredictionString\n0  000c9c05fd14_study  typical 1 0 0 1 1\n1  00c74279c5b7_study  typical 1 0 0 1 1\n2  00ccd633fb0e_study  typical 1 0 0 1 1\n3  00e936c58da6_study  typical 1 0 0 1 1\n4  01206a422293_study  typical 1 0 0 1 1",
            "text/html": "<div>\n<style scoped>\n    .dataframe tbody tr th:only-of-type {\n        vertical-align: middle;\n    }\n\n    .dataframe tbody tr th {\n        vertical-align: top;\n    }\n\n    .dataframe thead th {\n        text-align: right;\n    }\n</style>\n<table border=\"1\" class=\"dataframe\">\n  <thead>\n    <tr style=\"text-align: right;\">\n      <th></th>\n      <th>id</th>\n      <th>PredictionString</th>\n    </tr>\n  </thead>\n  <tbody>\n    <tr>\n      <th>0</th>\n      <td>000c9c05fd14_study</td>\n      <td>typical 1 0 0 1 1</td>\n    </tr>\n    <tr>\n      <th>1</th>\n      <td>00c74279c5b7_study</td>\n      <td>typical 1 0 0 1 1</td>\n    </tr>\n    <tr>\n      <th>2</th>\n      <td>00ccd633fb0e_study</td>\n      <td>typical 1 0 0 1 1</td>\n    </tr>\n    <tr>\n      <th>3</th>\n      <td>00e936c58da6_study</td>\n      <td>typical 1 0 0 1 1</td>\n    </tr>\n    <tr>\n      <th>4</th>\n      <td>01206a422293_study</td>\n      <td>typical 1 0 0 1 1</td>\n    </tr>\n  </tbody>\n</table>\n</div>"
          },
          "metadata": {}
        },
        {
          "output_type": "stream",
          "name": "stdout",
          "text": [
            "\nFinal submission file created: submission.csv\n"
          ]
        },
        {
          "output_type": "display_data",
          "data": {
            "text/plain": "                   id                                   PredictionString\n0  000c9c05fd14_study                                  typical 1 0 0 1 1\n1  004cbd797cd1_image  opacity 0.0419 1844 1003 566 1139 opacity 0.03...\n2  008ca392cff3_image  opacity 0.3464 2329 665 940 1209 opacity 0.147...\n3  00b8180bd3a8_image  opacity 0.0605 8 1956 677 1035 opacity 0.0317 ...\n4  00c74279c5b7_study                                  typical 1 0 0 1 1",
            "text/html": "<div>\n<style scoped>\n    .dataframe tbody tr th:only-of-type {\n        vertical-align: middle;\n    }\n\n    .dataframe tbody tr th {\n        vertical-align: top;\n    }\n\n    .dataframe thead th {\n        text-align: right;\n    }\n</style>\n<table border=\"1\" class=\"dataframe\">\n  <thead>\n    <tr style=\"text-align: right;\">\n      <th></th>\n      <th>id</th>\n      <th>PredictionString</th>\n    </tr>\n  </thead>\n  <tbody>\n    <tr>\n      <th>0</th>\n      <td>000c9c05fd14_study</td>\n      <td>typical 1 0 0 1 1</td>\n    </tr>\n    <tr>\n      <th>1</th>\n      <td>004cbd797cd1_image</td>\n      <td>opacity 0.0419 1844 1003 566 1139 opacity 0.03...</td>\n    </tr>\n    <tr>\n      <th>2</th>\n      <td>008ca392cff3_image</td>\n      <td>opacity 0.3464 2329 665 940 1209 opacity 0.147...</td>\n    </tr>\n    <tr>\n      <th>3</th>\n      <td>00b8180bd3a8_image</td>\n      <td>opacity 0.0605 8 1956 677 1035 opacity 0.0317 ...</td>\n    </tr>\n    <tr>\n      <th>4</th>\n      <td>00c74279c5b7_study</td>\n      <td>typical 1 0 0 1 1</td>\n    </tr>\n  </tbody>\n</table>\n</div>"
          },
          "metadata": {}
        },
        {
          "output_type": "stream",
          "name": "stdout",
          "text": [
            "Total rows in submission: 1244\n"
          ]
        }
      ]
    },
    {
      "id": "33e50713-e63c-42c2-b4d1-a72be34d2443",
      "cell_type": "code",
      "metadata": {},
      "source": [
        "# --- Inspect Sample Submission Format ---\n",
        "print(\"--- Inspecting sample_submission.csv format ---\")\n",
        "df_sample = pd.read_csv(SAMPLE_SUBMISSION)\n",
        "\n",
        "sample_study_string = df_sample[df_sample.id.str.contains('_study')]['PredictionString'].iloc[0]\n",
        "print(\"Sample study-level prediction string:\")\n",
        "print(f\"'{sample_study_string}'\")\n",
        "print(f\"String ends with space: {sample_study_string.endswith(' ')}\")\n",
        "\n",
        "sample_image_string = df_sample[df_sample.id.str.contains('_image')]['PredictionString'].iloc[0]\n",
        "print(\"\\nSample image-level prediction string (no detection):\")\n",
        "print(f\"'{sample_image_string}'\")"
      ],
      "execution_count": 15,
      "outputs": [
        {
          "output_type": "stream",
          "name": "stdout",
          "text": [
            "--- Inspecting sample_submission.csv format ---\nSample study-level prediction string:\n'negative 1 0 0 1 1'\nString ends with space: False\n\nSample image-level prediction string (no detection):\n'none 1 0 0 1 1'\n"
          ]
        }
      ]
    }
  ],
  "metadata": {
    "kernelspec": {
      "display_name": "Python 3",
      "language": "python",
      "name": "python3"
    },
    "language_info": {
      "name": "python",
      "version": "3.11.0rc1"
    }
  },
  "nbformat": 4,
  "nbformat_minor": 5
}