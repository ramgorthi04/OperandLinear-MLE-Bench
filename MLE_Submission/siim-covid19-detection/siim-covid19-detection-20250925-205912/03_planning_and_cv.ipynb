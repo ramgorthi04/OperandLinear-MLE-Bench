{
  "cells": [
    {
      "id": "a89f75b5-3e9b-42ab-a041-efb73228b9ef",
      "cell_type": "markdown",
      "metadata": {},
      "source": [
        "# Plan for Medal-Winning Score\n",
        "\n",
        "My baseline submission did not achieve a medal. Based on expert feedback, I am overhauling my approach to build a robust, high-performing pipeline. This notebook will house the development of this new strategy.\n",
        "\n",
        "## Core Strategy: 5-Fold Cross-Validation with Improved Models\n",
        "\n",
        "1.  **New DICOM Preprocessing (High Priority):**\n",
        "    *   **Action:** Discard the single-channel PNGs. Create new 3-channel PNGs by stacking different windowing settings (e.g., lung, mediastinum, soft tissue).\n",
        "    *   **Rationale:** This provides the models with much richer information from the raw DICOMs, a key technique in many high-scoring solutions.\n",
        "    *   **Implementation:** Create a new directory `train_png_3ch/` and `test_png_3ch/` and write a new preprocessing function to generate these images.\n",
        "\n",
        "2.  **Full 5-Fold Cross-Validation:**\n",
        "    *   **Action:** Train both the detector and classifier on all 5 folds created with `StratifiedGroupKFold`.\n",
        "    *   **Rationale:** This makes the models more robust and allows for ensembling, which consistently improves scores.\n",
        "\n",
        "3.  **Upgraded Classifier:**\n",
        "    *   **Model:** Upgrade from `EfficientNet-B4` to a larger `EfficientNet-B5` or `B6`.\n",
        "    *   **Aggregation:** Move from simple image-level averaging to a more sophisticated method. I will start by implementing the expert's suggestion: `Typical`/`Atypical` = max, `Indeterminate` = mean, `Negative` = min, then re-normalize.\n",
        "    *   **Training:** Train for more epochs with augmentations (Mixup/Cutmix).\n",
        "\n",
        "4.  **Upgraded Detector:**\n",
        "    *   **Model:** Replace the baseline YOLOv5s with a stronger model. The expert suggested a segmentation-to-box approach (UNet) or a better detector (YOLOX, Detectron2). I will start by upgrading to **YOLOX**, as it's a powerful successor to YOLOv5.\n",
        "    *   **Training:** Train on a larger image size (e.g., 1024x1024) for more epochs.\n",
        "\n",
        "5.  **Robust Validation:**\n",
        "    *   **Action:** Implement an offline evaluation function that calculates the official competition **blended mAP** on out-of-fold (OOF) predictions.\n",
        "    *   **Rationale:** This is critical for reliably tuning hyperparameters (e.g., confidence thresholds, NMS IoU) and evaluating model performance without burning through submission attempts.\n",
        "\n",
        "6.  **Ensembling and Post-Processing:**\n",
        "    *   **Detection:** Use **Weighted Boxes Fusion (WBF)** to combine predictions from all 5 detector folds.\n",
        "    *   **Classification:** Average the logits from all 5 classifier folds.\n",
        "    *   **Fusion:** Implement classifier-guided filtering: suppress low-confidence bounding boxes for studies with a high probability of being `negative`.\n",
        "\n",
        "## Execution Plan\n",
        "\n",
        "1.  **Setup:** Basic imports, define constants, and copy the data loading/fold creation logic.\n",
        "2.  **3-Channel Preprocessing:** Write and execute the new DICOM conversion script for all train and test images.\n",
        "3.  **Classifier CV:** Implement and run the 5-fold training loop for the upgraded classifier.\n",
        "4.  **Detector CV:** Set up YOLOX and run its 5-fold training loop.\n",
        "5.  **Inference Pipeline:** Build a new inference script that loads all 10 models (5 detector, 5 classifier), performs TTA, WBF, and generates the final submission."
      ],
      "execution_count": null,
      "outputs": []
    },
    {
      "id": "e48432ad-3cf9-4309-a3e5-a177debed5d0",
      "cell_type": "code",
      "metadata": {},
      "source": [
        "# --- Setup, Data Loading, and Fold Creation ---\n",
        "import os\n",
        "import glob\n",
        "import pandas as pd\n",
        "import numpy as np\n",
        "import cv2\n",
        "import pydicom\n",
        "import SimpleITK as sitk\n",
        "from sklearn.model_selection import StratifiedGroupKFold\n",
        "from tqdm.auto import tqdm\n",
        "\n",
        "# --- Configuration ---\n",
        "DATA_DIR = './'\n",
        "TRAIN_DIR = 'train/'\n",
        "TEST_DIR = 'test/'\n",
        "TRAIN_PNG_3CH_DIR = 'train_png_3ch/'\n",
        "TEST_PNG_3CH_DIR = 'test_png_3ch/'\n",
        "\n",
        "N_SPLITS = 5\n",
        "RANDOM_STATE = 42\n",
        "\n",
        "os.makedirs(TRAIN_PNG_3CH_DIR, exist_ok=True)\n",
        "os.makedirs(TEST_PNG_3CH_DIR, exist_ok=True)\n",
        "\n",
        "print(\"Configuration and directories set up.\")\n",
        "\n",
        "# --- Load Data and Create Folds ---\n",
        "print(\"Loading and preparing metadata...\")\n",
        "\n",
        "# Load original data\n",
        "df_study = pd.read_csv(os.path.join(DATA_DIR, 'train_study_level.csv'))\n",
        "df_image = pd.read_csv(os.path.join(DATA_DIR, 'train_image_level.csv'))\n",
        "\n",
        "# Clean up IDs and merge\n",
        "df_study['StudyInstanceUID'] = df_study['id'].apply(lambda x: x.replace('_study', ''))\n",
        "df_image['image_id'] = df_image['id'].apply(lambda x: x.replace('_image', ''))\n",
        "df_merged = df_image.merge(df_study, on='StudyInstanceUID', how='left')\n",
        "\n",
        "# Find all train dcm files\n",
        "train_dcm_files = glob.glob(f'{TRAIN_DIR}/*/*/*.dcm')\n",
        "image_id_to_path = {os.path.basename(p).replace('.dcm', ''): p for p in train_dcm_files}\n",
        "df_merged['dcm_path'] = df_merged['image_id'].map(image_id_to_path)\n",
        "\n",
        "# Create a single target column for stratification\n",
        "label_cols = ['Negative for Pneumonia', 'Typical Appearance', 'Indeterminate Appearance', 'Atypical Appearance']\n",
        "df_merged['label_name'] = df_merged[label_cols].idxmax(axis=1)\n",
        "\n",
        "# Create Folds\n",
        "df_folds = df_merged.drop_duplicates('StudyInstanceUID').reset_index(drop=True)\n",
        "sgkf = StratifiedGroupKFold(n_splits=N_SPLITS, shuffle=True, random_state=RANDOM_STATE)\n",
        "groups = df_folds['StudyInstanceUID']\n",
        "y_stratify = df_folds['label_name']\n",
        "df_folds['fold'] = -1\n",
        "for fold, (train_idx, val_idx) in enumerate(sgkf.split(df_folds, y_stratify, groups)):\n",
        "    df_folds.loc[val_idx, 'fold'] = fold\n",
        "\n",
        "# Merge fold info back into the main dataframe\n",
        "df_merged = df_merged.merge(df_folds[['StudyInstanceUID', 'fold']], on='StudyInstanceUID', how='left')\n",
        "\n",
        "print(\"Data loaded and folds created.\")\n",
        "print(f\"Total images: {len(df_merged)}\")\n",
        "print(\"Fold distribution (by study):\")\n",
        "print(df_folds['fold'].value_counts())\n",
        "display(df_merged.head())"
      ],
      "execution_count": 1,
      "outputs": [
        {
          "output_type": "stream",
          "name": "stderr",
          "text": [
            "/app/.pip-target/tqdm/auto.py:21: TqdmWarning: IProgress not found. Please update jupyter and ipywidgets. See https://ipywidgets.readthedocs.io/en/stable/user_install.html\n  from .autonotebook import tqdm as notebook_tqdm\n"
          ]
        },
        {
          "output_type": "stream",
          "name": "stdout",
          "text": [
            "Configuration and directories set up.\nLoading and preparing metadata...\n"
          ]
        },
        {
          "output_type": "stream",
          "name": "stdout",
          "text": [
            "Data loaded and folds created.\nTotal images: 5696\nFold distribution (by study):\nfold\n1    1091\n0    1090\n3    1089\n4    1089\n2    1089\nName: count, dtype: int64\n"
          ]
        },
        {
          "output_type": "display_data",
          "data": {
            "text/plain": "                 id_x                                              boxes  \\\n0  000a312787f2_image  [{'x': 789.28836, 'y': 582.43035, 'width': 102...   \n1  000c3a3f293f_image                                                NaN   \n2  0012ff7358bc_image  [{'x': 677.42216, 'y': 197.97662, 'width': 867...   \n3  001398f4ff4f_image  [{'x': 2729, 'y': 2181.33331, 'width': 948.000...   \n4  001bd15d1891_image  [{'x': 623.23328, 'y': 1050, 'width': 714, 'he...   \n\n                                               label StudyInstanceUID  \\\n0  opacity 1 789.28836 582.43035 1815.94498 2499....     5776db0cec75   \n1                                     none 1 0 0 1 1     ff0879eb20ed   \n2  opacity 1 677.42216 197.97662 1545.21983 1197....     9d514ce429a7   \n3    opacity 1 2729 2181.33331 3677.00012 2785.33331     28dddc8559b2   \n4  opacity 1 623.23328 1050 1337.23328 2156 opaci...     dfd9fdd85a3e   \n\n       image_id                id_y  Negative for Pneumonia  \\\n0  000a312787f2  5776db0cec75_study                       0   \n1  000c3a3f293f  ff0879eb20ed_study                       1   \n2  0012ff7358bc  9d514ce429a7_study                       0   \n3  001398f4ff4f  28dddc8559b2_study                       0   \n4  001bd15d1891  dfd9fdd85a3e_study                       0   \n\n   Typical Appearance  Indeterminate Appearance  Atypical Appearance  \\\n0                   1                         0                    0   \n1                   0                         0                    0   \n2                   1                         0                    0   \n3                   0                         0                    1   \n4                   1                         0                    0   \n\n                                           dcm_path              label_name  \\\n0  train/5776db0cec75/81456c9c5423/000a312787f2.dcm      Typical Appearance   \n1  train/ff0879eb20ed/d8a644cc4f93/000c3a3f293f.dcm  Negative for Pneumonia   \n2  train/9d514ce429a7/22897cd1daa0/0012ff7358bc.dcm      Typical Appearance   \n3  train/28dddc8559b2/4d47bc042ee6/001398f4ff4f.dcm     Atypical Appearance   \n4  train/dfd9fdd85a3e/49170afa4f27/001bd15d1891.dcm      Typical Appearance   \n\n   fold  \n0     1  \n1     3  \n2     4  \n3     3  \n4     0  ",
            "text/html": "<div>\n<style scoped>\n    .dataframe tbody tr th:only-of-type {\n        vertical-align: middle;\n    }\n\n    .dataframe tbody tr th {\n        vertical-align: top;\n    }\n\n    .dataframe thead th {\n        text-align: right;\n    }\n</style>\n<table border=\"1\" class=\"dataframe\">\n  <thead>\n    <tr style=\"text-align: right;\">\n      <th></th>\n      <th>id_x</th>\n      <th>boxes</th>\n      <th>label</th>\n      <th>StudyInstanceUID</th>\n      <th>image_id</th>\n      <th>id_y</th>\n      <th>Negative for Pneumonia</th>\n      <th>Typical Appearance</th>\n      <th>Indeterminate Appearance</th>\n      <th>Atypical Appearance</th>\n      <th>dcm_path</th>\n      <th>label_name</th>\n      <th>fold</th>\n    </tr>\n  </thead>\n  <tbody>\n    <tr>\n      <th>0</th>\n      <td>000a312787f2_image</td>\n      <td>[{'x': 789.28836, 'y': 582.43035, 'width': 102...</td>\n      <td>opacity 1 789.28836 582.43035 1815.94498 2499....</td>\n      <td>5776db0cec75</td>\n      <td>000a312787f2</td>\n      <td>5776db0cec75_study</td>\n      <td>0</td>\n      <td>1</td>\n      <td>0</td>\n      <td>0</td>\n      <td>train/5776db0cec75/81456c9c5423/000a312787f2.dcm</td>\n      <td>Typical Appearance</td>\n      <td>1</td>\n    </tr>\n    <tr>\n      <th>1</th>\n      <td>000c3a3f293f_image</td>\n      <td>NaN</td>\n      <td>none 1 0 0 1 1</td>\n      <td>ff0879eb20ed</td>\n      <td>000c3a3f293f</td>\n      <td>ff0879eb20ed_study</td>\n      <td>1</td>\n      <td>0</td>\n      <td>0</td>\n      <td>0</td>\n      <td>train/ff0879eb20ed/d8a644cc4f93/000c3a3f293f.dcm</td>\n      <td>Negative for Pneumonia</td>\n      <td>3</td>\n    </tr>\n    <tr>\n      <th>2</th>\n      <td>0012ff7358bc_image</td>\n      <td>[{'x': 677.42216, 'y': 197.97662, 'width': 867...</td>\n      <td>opacity 1 677.42216 197.97662 1545.21983 1197....</td>\n      <td>9d514ce429a7</td>\n      <td>0012ff7358bc</td>\n      <td>9d514ce429a7_study</td>\n      <td>0</td>\n      <td>1</td>\n      <td>0</td>\n      <td>0</td>\n      <td>train/9d514ce429a7/22897cd1daa0/0012ff7358bc.dcm</td>\n      <td>Typical Appearance</td>\n      <td>4</td>\n    </tr>\n    <tr>\n      <th>3</th>\n      <td>001398f4ff4f_image</td>\n      <td>[{'x': 2729, 'y': 2181.33331, 'width': 948.000...</td>\n      <td>opacity 1 2729 2181.33331 3677.00012 2785.33331</td>\n      <td>28dddc8559b2</td>\n      <td>001398f4ff4f</td>\n      <td>28dddc8559b2_study</td>\n      <td>0</td>\n      <td>0</td>\n      <td>0</td>\n      <td>1</td>\n      <td>train/28dddc8559b2/4d47bc042ee6/001398f4ff4f.dcm</td>\n      <td>Atypical Appearance</td>\n      <td>3</td>\n    </tr>\n    <tr>\n      <th>4</th>\n      <td>001bd15d1891_image</td>\n      <td>[{'x': 623.23328, 'y': 1050, 'width': 714, 'he...</td>\n      <td>opacity 1 623.23328 1050 1337.23328 2156 opaci...</td>\n      <td>dfd9fdd85a3e</td>\n      <td>001bd15d1891</td>\n      <td>dfd9fdd85a3e_study</td>\n      <td>0</td>\n      <td>1</td>\n      <td>0</td>\n      <td>0</td>\n      <td>train/dfd9fdd85a3e/49170afa4f27/001bd15d1891.dcm</td>\n      <td>Typical Appearance</td>\n      <td>0</td>\n    </tr>\n  </tbody>\n</table>\n</div>"
          },
          "metadata": {}
        }
      ]
    },
    {
      "id": "ef6bee34-b211-415b-acb3-128f5ab99b2c",
      "cell_type": "code",
      "metadata": {},
      "source": [
        "# --- 3-Channel DICOM Preprocessing Function ---\n",
        "\n",
        "def window_image(img, window_center, window_width, intercept, slope):\n",
        "    \"\"\"Applies windowing to a raw DICOM image.\"\"\"\n",
        "    img = (img * slope + intercept) # Apply rescale\n",
        "    img_min = window_center - window_width // 2\n",
        "    img_max = window_center + window_width // 2\n",
        "    w_img = np.clip(img, img_min, img_max)\n",
        "    w_img = (w_img - img_min) / (img_max - img_min + 1e-6) # Normalize to [0, 1]\n",
        "    w_img = (w_img * 255).astype(np.uint8) # Scale to [0, 255]\n",
        "    return w_img\n",
        "\n",
        "def process_dicom_to_3ch(dcm_path, output_dir):\n",
        "    \"\"\"\n",
        "    Reads a DICOM file, applies three different windowing settings,\n",
        "    stacks them into a 3-channel image, and saves as PNG.\n",
        "    \"\"\"\n",
        "    image_id = os.path.basename(dcm_path).replace('.dcm', '')\n",
        "    save_path = os.path.join(output_dir, f\"{image_id}.png\")\n",
        "    if os.path.exists(save_path):\n",
        "        return\n",
        "\n",
        "    try:\n",
        "        dicom = pydicom.dcmread(dcm_path)\n",
        "        \n",
        "        # Get rescale slope and intercept\n",
        "        slope = float(dicom.RescaleSlope) if 'RescaleSlope' in dicom else 1.0\n",
        "        intercept = float(dicom.RescaleIntercept) if 'RescaleIntercept' in dicom else 0.0\n",
        "        \n",
        "        # Get raw pixel data\n",
        "        data = dicom.pixel_array\n",
        "        \n",
        "        # Handle MONOCHROME1\n",
        "        if dicom.PhotometricInterpretation == \"MONOCHROME1\":\n",
        "            data = np.amax(data) - data\n",
        "            \n",
        "        # Apply windowing based on expert advice\n",
        "        # Window 1: Lung (center -600, width 1500)\n",
        "        window1 = window_image(data, -600, 1500, intercept, slope)\n",
        "        # Window 2: Mediastinum (center 50, width 400)\n",
        "        window2 = window_image(data, 50, 400, intercept, slope)\n",
        "        # Window 3: Soft tissue (center 40, width 350)\n",
        "        window3 = window_image(data, 40, 350, intercept, slope)\n",
        "        \n",
        "        # Stack the windows into a 3-channel image\n",
        "        img_3ch = np.stack([window1, window2, window3], axis=-1)\n",
        "        \n",
        "        # Save the image\n",
        "        cv2.imwrite(save_path, img_3ch)\n",
        "\n",
        "    except Exception as e:\n",
        "        print(f\"Error processing {dcm_path}: {e}\")\n",
        "\n",
        "print(\"3-channel DICOM processing function defined.\")"
      ],
      "execution_count": null,
      "outputs": []
    },
    {
      "id": "12113658-6632-4934-872d-22df585dcb9c",
      "cell_type": "code",
      "metadata": {},
      "source": [
        "# --- Run 3-Channel Preprocessing on Training Data ---\n",
        "print(f\"Starting 3-channel preprocessing for {df_merged['dcm_path'].nunique()} training images...\")\n",
        "print(f\"Output directory: {TRAIN_PNG_3CH_DIR}\")\n",
        "\n",
        "# Use tqdm to show a progress bar\n",
        "for dcm_path in tqdm(df_merged['dcm_path'].unique(), desc=\"Processing Train DICOMs\"):\n",
        "    if pd.notna(dcm_path):\n",
        "        process_dicom_to_3ch(dcm_path, TRAIN_PNG_3CH_DIR)\n",
        "\n",
        "print(\"Finished preprocessing training images.\")"
      ],
      "execution_count": null,
      "outputs": []
    },
    {
      "id": "1640213b-e6b4-49f5-b8f1-c3c95b65e65b",
      "cell_type": "code",
      "metadata": {},
      "source": [
        "# --- Run 3-Channel Preprocessing on Test Data ---\n",
        "print(\"Starting 3-channel preprocessing for test images...\")\n",
        "print(f\"Output directory: {TEST_PNG_3CH_DIR}\")\n",
        "\n",
        "# Find all test dcm files\n",
        "test_dcm_files = glob.glob(f'{TEST_DIR}/*/*/*.dcm')\n",
        "\n",
        "for dcm_path in tqdm(test_dcm_files, desc=\"Processing Test DICOMs\"):\n",
        "    if pd.notna(dcm_path):\n",
        "        process_dicom_to_3ch(dcm_path, TEST_PNG_3CH_DIR)\n",
        "\n",
        "print(\"Finished preprocessing test images.\")"
      ],
      "execution_count": null,
      "outputs": []
    },
    {
      "id": "ab8c6d0a-a809-46ef-b381-9ca580dcfd64",
      "cell_type": "code",
      "metadata": {},
      "source": [
        "# --- Classifier: Dataset, Augmentations, and Model ---\n",
        "import torch\n",
        "import timm\n",
        "import albumentations as A\n",
        "from albumentations.pytorch import ToTensorV2\n",
        "from torch.utils.data import Dataset, DataLoader\n",
        "\n",
        "# --- Configuration for Classifier ---\n",
        "IMG_SIZE_CLS = 512\n",
        "BATCH_SIZE_CLS = 16\n",
        "MODEL_NAME_CLS = 'tf_efficientnet_b5_ns' # Upgrading from B4\n",
        "NUM_CLASSES = 4\n",
        "NUM_WORKERS = 4\n",
        "\n",
        "# --- Dataset Class for 3-Channel Images ---\n",
        "class SIIMCVClassifierDataset(Dataset):\n",
        "    def __init__(self, df, img_dir, transform=None):\n",
        "        self.df = df\n",
        "        self.img_dir = img_dir\n",
        "        self.image_ids = df['image_id'].values\n",
        "        self.labels = df['label_id'].values\n",
        "        self.transform = transform\n",
        "\n",
        "    def __len__(self):\n",
        "        return len(self.df)\n",
        "\n",
        "    def __getitem__(self, idx):\n",
        "        image_id = self.image_ids[idx]\n",
        "        image_path = os.path.join(self.img_dir, f\"{image_id}.png\")\n",
        "        image = cv2.imread(image_path)\n",
        "        image = cv2.cvtColor(image, cv2.COLOR_BGR2RGB)\n",
        "        label = torch.tensor(self.labels[idx], dtype=torch.long)\n",
        "\n",
        "        if self.transform:\n",
        "            augmented = self.transform(image=image)\n",
        "            image = augmented['image']\n",
        "\n",
        "        return image, label\n",
        "\n",
        "# --- Augmentations ---\n",
        "def get_cls_transforms(img_size, is_train=True):\n",
        "    if is_train:\n",
        "        # Using more robust augmentations as per expert advice\n",
        "        return A.Compose([\n",
        "            A.Resize(img_size, img_size),\n",
        "            A.HorizontalFlip(p=0.5),\n",
        "            A.ShiftScaleRotate(shift_limit=0.1, scale_limit=0.15, rotate_limit=20, p=0.75),\n",
        "            A.RandomBrightnessContrast(brightness_limit=0.2, contrast_limit=0.2, p=0.75),\n",
        "            A.CoarseDropout(max_holes=8, max_height=img_size//8, max_width=img_size//8, p=0.5),\n",
        "            A.Normalize(mean=[0.485, 0.456, 0.406], std=[0.229, 0.224, 0.225]),\n",
        "            ToTensorV2()\n",
        "        ])\n",
        "    else:\n",
        "        return A.Compose([\n",
        "            A.Resize(img_size, img_size),\n",
        "            A.Normalize(mean=[0.485, 0.456, 0.406], std=[0.229, 0.224, 0.225]),\n",
        "            ToTensorV2()\n",
        "        ])\n",
        "\n",
        "# --- Add label_id to dataframe for dataset ---\n",
        "label_map = {name: i for i, name in enumerate(label_cols)}\n",
        "df_merged['label_id'] = df_merged['label_name'].map(label_map)\n",
        "\n",
        "print(\"Classifier Dataset, Augmentations, and Config defined.\")"
      ],
      "execution_count": null,
      "outputs": []
    },
    {
      "id": "8c38b8f1-fd0e-489b-b922-e4f50f8f209c",
      "cell_type": "code",
      "metadata": {},
      "source": [
        "# --- Classifier: Training and Validation Loop ---\n",
        "import time\n",
        "from torch.cuda.amp import GradScaler, autocast\n",
        "from sklearn.metrics import roc_auc_score\n",
        "\n",
        "def train_one_epoch(model, train_loader, optimizer, criterion, device, scaler):\n",
        "    model.train()\n",
        "    total_loss = 0\n",
        "    progress_bar = tqdm(train_loader, desc=\"Training\", leave=False)\n",
        "    for images, labels in progress_bar:\n",
        "        images, labels = images.to(device, non_blocking=True), labels.to(device, non_blocking=True)\n",
        "        optimizer.zero_grad(set_to_none=True)\n",
        "        with autocast():\n",
        "            outputs = model(images)\n",
        "            loss = criterion(outputs, labels)\n",
        "        scaler.scale(loss).backward()\n",
        "        scaler.step(optimizer)\n",
        "        scaler.update()\n",
        "        total_loss += loss.item()\n",
        "        progress_bar.set_postfix(loss=loss.item())\n",
        "    return total_loss / len(train_loader)\n",
        "\n",
        "def validate_one_epoch(model, val_loader, criterion, device):\n",
        "    model.eval()\n",
        "    total_loss = 0\n",
        "    all_preds = []\n",
        "    all_labels = []\n",
        "    with torch.no_grad():\n",
        "        progress_bar = tqdm(val_loader, desc=\"Validating\", leave=False)\n",
        "        for images, labels in progress_bar:\n",
        "            images, labels = images.to(device, non_blocking=True), labels.to(device, non_blocking=True)\n",
        "            with autocast():\n",
        "                outputs = model(images)\n",
        "                loss = criterion(outputs, labels)\n",
        "            total_loss += loss.item()\n",
        "            all_preds.append(torch.softmax(outputs, dim=1).cpu().numpy())\n",
        "            all_labels.append(labels.cpu().numpy())\n",
        "    avg_loss = total_loss / len(val_loader)\n",
        "    all_preds = np.concatenate(all_preds)\n",
        "    all_labels = np.concatenate(all_labels)\n",
        "    try:\n",
        "        # FIX: Use all possible labels to prevent error if a class is missing in a fold\n",
        "        auc_score = roc_auc_score(all_labels, all_preds, multi_class='ovo', labels=range(NUM_CLASSES))\n",
        "    except ValueError:\n",
        "        auc_score = -1.0 # Handle cases with only one class in a batch\n",
        "    return avg_loss, auc_score, all_preds, all_labels\n",
        "\n",
        "print(\"Classifier training and validation functions defined.\")"
      ],
      "execution_count": null,
      "outputs": []
    },
    {
      "id": "bf91e740-56e2-412a-92d3-7b4d94318537",
      "cell_type": "code",
      "metadata": {},
      "source": [
        "# --- Main Classifier CV Training Loop ---\n",
        "DEVICE = torch.device(\"cuda\" if torch.cuda.is_available() else \"cpu\")\n",
        "NUM_EPOCHS_CLS = 15 # Train for more epochs than baseline\n",
        "LEARNING_RATE_CLS = 1e-4\n",
        "\n",
        "oof_preds = []\n",
        "oof_labels = []\n",
        "oof_image_ids = []\n",
        "oof_folds = []\n",
        "\n",
        "for fold in range(N_SPLITS):\n",
        "    print(\"-\" * 50)\n",
        "    print(f\"FOLD {fold}\")\n",
        "    print(\"-\" * 50)\n",
        "\n",
        "    # --- DataLoaders ---\n",
        "    df_train = df_merged[df_merged['fold'] != fold].reset_index(drop=True)\n",
        "    df_val = df_merged[df_merged['fold'] == fold].reset_index(drop=True)\n",
        "\n",
        "    train_dataset = SIIMCVClassifierDataset(df_train, TRAIN_PNG_3CH_DIR, transform=get_cls_transforms(IMG_SIZE_CLS, is_train=True))\n",
        "    val_dataset = SIIMCVClassifierDataset(df_val, TRAIN_PNG_3CH_DIR, transform=get_cls_transforms(IMG_SIZE_CLS, is_train=False))\n",
        "\n",
        "    train_loader = DataLoader(train_dataset, batch_size=BATCH_SIZE_CLS, shuffle=True, num_workers=NUM_WORKERS, pin_memory=True)\n",
        "    val_loader = DataLoader(val_dataset, batch_size=BATCH_SIZE_CLS, shuffle=False, num_workers=NUM_WORKERS, pin_memory=True)\n",
        "\n",
        "    # --- Model, Optimizer, Loss ---\n",
        "    model = timm.create_model(MODEL_NAME_CLS, pretrained=True, num_classes=NUM_CLASSES).to(DEVICE)\n",
        "    optimizer = torch.optim.AdamW(model.parameters(), lr=LEARNING_RATE_CLS)\n",
        "    criterion = torch.nn.CrossEntropyLoss()\n",
        "    scaler = GradScaler()\n",
        "\n",
        "    best_val_loss = float('inf')\n",
        "    best_epoch_preds = None\n",
        "    best_epoch_labels = None\n",
        "    best_model_path = f'classifier_fold{fold}_best.pth'\n",
        "\n",
        "    for epoch in range(NUM_EPOCHS_CLS):\n",
        "        start_time = time.time()\n",
        "        train_loss = train_one_epoch(model, train_loader, optimizer, criterion, DEVICE, scaler)\n",
        "        val_loss, val_auc, val_preds, val_labels = validate_one_epoch(model, val_loader, criterion, DEVICE)\n",
        "        elapsed_time = time.time() - start_time\n",
        "\n",
        "        print(f\"Epoch {epoch+1}/{NUM_EPOCHS_CLS} | Time: {elapsed_time:.0f}s | Train Loss: {train_loss:.4f} | Val Loss: {val_loss:.4f} | Val AUC: {val_auc:.4f}\")\n",
        "\n",
        "        if val_loss < best_val_loss:\n",
        "            best_val_loss = val_loss\n",
        "            best_epoch_preds = val_preds\n",
        "            best_epoch_labels = val_labels\n",
        "            torch.save(model.state_dict(), best_model_path)\n",
        "            print(f\"  -> New best model saved to {best_model_path} (Val Loss: {best_val_loss:.4f})\")\n",
        "\n",
        "    # Store OOF predictions from the best epoch of this fold\n",
        "    oof_preds.append(best_epoch_preds)\n",
        "    oof_labels.append(best_epoch_labels)\n",
        "    oof_image_ids.extend(df_val['image_id'].tolist())\n",
        "    oof_folds.extend(df_val['fold'].tolist())\n",
        "\n",
        "print(\"\\n--- Classifier CV Training Finished ---\")\n",
        "\n",
        "# Concatenate all OOF predictions and save them\n",
        "oof_preds_all = np.concatenate(oof_preds)\n",
        "oof_labels_all = np.concatenate(oof_labels)\n",
        "df_oof = pd.DataFrame(oof_preds_all, columns=label_cols)\n",
        "df_oof['image_id'] = oof_image_ids\n",
        "df_oof['label'] = oof_labels_all\n",
        "df_oof['fold'] = oof_folds\n",
        "df_oof.to_csv('oof_classifier.csv', index=False)\n",
        "print(\"OOF predictions saved to oof_classifier.csv\")"
      ],
      "execution_count": null,
      "outputs": []
    },
    {
      "id": "7c3ad08b-945a-4c35-a732-c224db6cd3ff",
      "cell_type": "code",
      "metadata": {},
      "source": [
        "# --- Generate OOF Predictions from Saved Models ---\n",
        "# The previous cell was interrupted after training completed. \n",
        "# This cell will load the saved models to generate the OOF file without retraining.\n",
        "\n",
        "DEVICE = torch.device(\"cuda\" if torch.cuda.is_available() else \"cpu\")\n",
        "\n",
        "oof_preds = []\n",
        "oof_labels = []\n",
        "oof_image_ids = []\n",
        "oof_folds = []\n",
        "\n",
        "print(\"Generating OOF predictions from saved models...\")\n",
        "\n",
        "for fold in range(N_SPLITS):\n",
        "    print(f\"--- Processing Fold {fold} ---\")\n",
        "    \n",
        "    # --- DataLoaders ---\n",
        "    df_val = df_merged[df_merged['fold'] == fold].reset_index(drop=True)\n",
        "    val_dataset = SIIMCVClassifierDataset(df_val, TRAIN_PNG_3CH_DIR, transform=get_cls_transforms(IMG_SIZE_CLS, is_train=False))\n",
        "    val_loader = DataLoader(val_dataset, batch_size=BATCH_SIZE_CLS, shuffle=False, num_workers=NUM_WORKERS, pin_memory=True)\n",
        "\n",
        "    # --- Load Model ---\n",
        "    model = timm.create_model(MODEL_NAME_CLS, pretrained=False, num_classes=NUM_CLASSES).to(DEVICE)\n",
        "    model_path = f'classifier_fold{fold}_best.pth'\n",
        "    model.load_state_dict(torch.load(model_path))\n",
        "    criterion = torch.nn.CrossEntropyLoss() # Needed for validate function\n",
        "\n",
        "    # --- Validate and Get Predictions ---\n",
        "    val_loss, val_auc, val_preds, val_labels = validate_one_epoch(model, val_loader, criterion, DEVICE)\n",
        "    print(f\"Fold {fold} | Val Loss: {val_loss:.4f} | Val AUC: {val_auc:.4f}\")\n",
        "\n",
        "    # Store OOF predictions\n",
        "    oof_preds.append(val_preds)\n",
        "    # FIX: val_labels is already a 1D array of class indices, no need for argmax\n",
        "    oof_labels.append(val_labels)\n",
        "    oof_image_ids.extend(df_val['image_id'].tolist())\n",
        "    oof_folds.extend(df_val['fold'].tolist())\n",
        "\n",
        "print(\"\\n--- OOF Generation Finished ---\")\n",
        "\n",
        "# Concatenate all OOF predictions and save them\n",
        "oof_preds_all = np.concatenate(oof_preds)\n",
        "oof_labels_all = np.concatenate(oof_labels)\n",
        "df_oof = pd.DataFrame(oof_preds_all, columns=label_cols)\n",
        "df_oof['image_id'] = oof_image_ids\n",
        "df_oof['label'] = oof_labels_all\n",
        "df_oof['fold'] = oof_folds\n",
        "df_oof.to_csv('oof_classifier.csv', index=False)\n",
        "print(\"OOF predictions saved to oof_classifier.csv\")\n",
        "display(df_oof.head())"
      ],
      "execution_count": null,
      "outputs": []
    },
    {
      "id": "1568a4d6-4366-4f1a-bb57-341527e4be18",
      "cell_type": "markdown",
      "metadata": {},
      "source": [
        "# --- YOLOX Detector: Setup and CV Training ---\n",
        "\n",
        "With the classifier models trained, the next step is to train the object detector. I will use YOLOX, a strong anchor-free detector.\n",
        "\n",
        "## Plan:\n",
        "\n",
        "1.  **Install YOLOX:** Clone the official YOLOX repository and install its dependencies.\n",
        "2.  **Prepare Data in YOLOX Format:**\n",
        "    *   Create a directory structure like `yolox_data/`. \n",
        "    *   Inside, create `images/train` and `labels/train`.\n",
        "    *   Copy all the 3-channel training images into `yolox_data/images/train/`.\n",
        "    *   For each image with bounding boxes, create a corresponding `.txt` file in `yolox_data/labels/train/`. Each line in the file will be `class_id x_center y_center width height` (normalized). Since we only have one class ('opacity'), the `class_id` will always be 0.\n",
        "3.  **Create Fold-Specific Files:**\n",
        "    *   For each of the 5 folds, I will generate a `train.txt` and `val.txt` file. These files will contain the paths to the images for that fold's training and validation sets, respectively.\n",
        "    *   Example: `yolox_data/fold_0_train.txt`, `yolox_data/fold_0_val.txt`.\n",
        "4.  **Create YOLOX Configuration File:**\n",
        "    *   Create a Python configuration file (e.g., `siim_yolox_config.py`) that inherits from a base YOLOX config (like `yolox_s.py`).\n",
        "    *   In this file, I will specify the number of classes (1), the depth/width of the model, and paths to the fold-specific `train.txt` and `val.txt` files.\n",
        "5.  **Run 5-Fold CV Training:**\n",
        "    *   Write a script or loop that iterates through each fold.\n",
        "    *   For each fold, it will call the YOLOX `tools/train.py` script, passing the appropriate config file and specifying an output directory for the weights.\n",
        "    *   I will use a medium-sized model like `yolox-m` and train for a reasonable number of epochs (e.g., 20-30) with an appropriate image size (e.g., 640x640 or 768x768 to start)."
      ],
      "execution_count": null,
      "outputs": []
    },
    {
      "id": "8831337d-6bd0-4328-8c3c-f2bb3886166d",
      "cell_type": "code",
      "metadata": {},
      "source": [
        "# --- YOLOX Installation ---\n",
        "# The 'pip install -e .' command is failing due to environment conflicts.\n",
        "# New approach: Clone the repo and install dependencies directly from requirements.txt.\n",
        "!rm -rf YOLOX\n",
        "!git clone https://github.com/Megvii-BaseDetection/YOLOX.git\n",
        "%cd YOLOX\n",
        "# Remove onnx-simplifier from requirements as it causes build issues\n",
        "!sed -i '/onnx-simplifier/d' requirements.txt\n",
        "# Install all other dependencies\n",
        "!pip install -r requirements.txt\n",
        "!pip install pycocotools --no-deps\n",
        "%cd .."
      ],
      "execution_count": 2,
      "outputs": [
        {
          "output_type": "stream",
          "name": "stderr",
          "text": [
            "Cloning into 'YOLOX'...\n"
          ]
        },
        {
          "output_type": "stream",
          "name": "stdout",
          "text": [
            "/var/lib/simon/agent_run_states/siim-covid19-detection-20250925-205912/YOLOX\n\ud83d\udd27 Intercepting pip install command: pip install -r requirements.txt\n"
          ]
        },
        {
          "output_type": "stream",
          "name": "stdout",
          "text": [
            "Collecting numpy\n  Downloading numpy-1.26.4-cp311-cp311-manylinux_2_17_x86_64.manylinux2014_x86_64.whl (18.3 MB)\n     \u2501\u2501\u2501\u2501\u2501\u2501\u2501\u2501\u2501\u2501\u2501\u2501\u2501\u2501\u2501\u2501\u2501\u2501\u2501\u2501\u2501\u2501\u2501\u2501\u2501\u2501\u2501\u2501\u2501\u2501\u2501\u2501\u2501\u2501\u2501\u2501\u2501\u2501\u2501 18.3/18.3 MB 463.4 MB/s eta 0:00:00\nCollecting torch>=1.7\n  Downloading torch-2.8.0-cp311-cp311-manylinux_2_28_x86_64.whl (888.1 MB)\n     \u2501\u2501\u2501\u2501\u2501\u2501\u2501\u2501\u2501\u2501\u2501\u2501\u2501\u2501\u2501\u2501\u2501\u2501\u2501\u2501\u2501\u2501\u2501\u2501\u2501\u2501\u2501\u2501\u2501\u2501\u2501\u2501\u2501\u2501\u2501\u2501\u2501 888.1/888.1 MB 384.1 MB/s eta 0:00:00\nCollecting opencv_python\n  Downloading opencv_python-4.12.0.88-cp37-abi3-manylinux2014_x86_64.manylinux_2_17_x86_64.whl (67.0 MB)\n     \u2501\u2501\u2501\u2501\u2501\u2501\u2501\u2501\u2501\u2501\u2501\u2501\u2501\u2501\u2501\u2501\u2501\u2501\u2501\u2501\u2501\u2501\u2501\u2501\u2501\u2501\u2501\u2501\u2501\u2501\u2501\u2501\u2501\u2501\u2501\u2501\u2501\u2501\u2501 67.0/67.0 MB 240.9 MB/s eta 0:00:00\nCollecting loguru\n  Downloading loguru-0.7.3-py3-none-any.whl (61 kB)\n     \u2501\u2501\u2501\u2501\u2501\u2501\u2501\u2501\u2501\u2501\u2501\u2501\u2501\u2501\u2501\u2501\u2501\u2501\u2501\u2501\u2501\u2501\u2501\u2501\u2501\u2501\u2501\u2501\u2501\u2501\u2501\u2501\u2501\u2501\u2501\u2501\u2501\u2501\u2501 61.6/61.6 KB 276.1 MB/s eta 0:00:00\nCollecting tqdm\n  Downloading tqdm-4.67.1-py3-none-any.whl (78 kB)\n     \u2501\u2501\u2501\u2501\u2501\u2501\u2501\u2501\u2501\u2501\u2501\u2501\u2501\u2501\u2501\u2501\u2501\u2501\u2501\u2501\u2501\u2501\u2501\u2501\u2501\u2501\u2501\u2501\u2501\u2501\u2501\u2501\u2501\u2501\u2501\u2501\u2501\u2501\u2501 78.5/78.5 KB 470.0 MB/s eta 0:00:00\nCollecting torchvision\n  Downloading torchvision-0.23.0-cp311-cp311-manylinux_2_28_x86_64.whl (8.6 MB)\n     \u2501\u2501\u2501\u2501\u2501\u2501\u2501\u2501\u2501\u2501\u2501\u2501\u2501\u2501\u2501\u2501\u2501\u2501\u2501\u2501\u2501\u2501\u2501\u2501\u2501\u2501\u2501\u2501\u2501\u2501\u2501\u2501\u2501\u2501\u2501\u2501\u2501\u2501\u2501\u2501 8.6/8.6 MB 314.8 MB/s eta 0:00:00\nCollecting thop\n  Downloading thop-0.1.1.post2209072238-py3-none-any.whl (15 kB)\nCollecting ninja\n  Downloading ninja-1.13.0-py3-none-manylinux2014_x86_64.manylinux_2_17_x86_64.whl (180 kB)\n     \u2501\u2501\u2501\u2501\u2501\u2501\u2501\u2501\u2501\u2501\u2501\u2501\u2501\u2501\u2501\u2501\u2501\u2501\u2501\u2501\u2501\u2501\u2501\u2501\u2501\u2501\u2501\u2501\u2501\u2501\u2501\u2501\u2501\u2501\u2501\u2501\u2501 180.7/180.7 KB 498.2 MB/s eta 0:00:00\nCollecting tabulate\n  Downloading tabulate-0.9.0-py3-none-any.whl (35 kB)\nCollecting psutil\n  Downloading psutil-7.1.0-cp36-abi3-manylinux_2_12_x86_64.manylinux2010_x86_64.manylinux_2_17_x86_64.manylinux2014_x86_64.whl (291 kB)\n     \u2501\u2501\u2501\u2501\u2501\u2501\u2501\u2501\u2501\u2501\u2501\u2501\u2501\u2501\u2501\u2501\u2501\u2501\u2501\u2501\u2501\u2501\u2501\u2501\u2501\u2501\u2501\u2501\u2501\u2501\u2501\u2501\u2501\u2501\u2501\u2501\u2501 291.2/291.2 KB 521.1 MB/s eta 0:00:00\nCollecting tensorboard\n  Downloading tensorboard-2.20.0-py3-none-any.whl (5.5 MB)\n     \u2501\u2501\u2501\u2501\u2501\u2501\u2501\u2501\u2501\u2501\u2501\u2501\u2501\u2501\u2501\u2501\u2501\u2501\u2501\u2501\u2501\u2501\u2501\u2501\u2501\u2501\u2501\u2501\u2501\u2501\u2501\u2501\u2501\u2501\u2501\u2501\u2501\u2501\u2501\u2501 5.5/5.5 MB 188.3 MB/s eta 0:00:00\nCollecting pycocotools>=2.0.2\n  Downloading pycocotools-2.0.10-cp311-cp311-manylinux_2_17_x86_64.manylinux2014_x86_64.whl (477 kB)\n     \u2501\u2501\u2501\u2501\u2501\u2501\u2501\u2501\u2501\u2501\u2501\u2501\u2501\u2501\u2501\u2501\u2501\u2501\u2501\u2501\u2501\u2501\u2501\u2501\u2501\u2501\u2501\u2501\u2501\u2501\u2501\u2501\u2501\u2501\u2501\u2501\u2501 477.3/477.3 KB 514.5 MB/s eta 0:00:00\nCollecting onnx>=1.13.0\n  Downloading onnx-1.19.0-cp311-cp311-manylinux2014_x86_64.manylinux_2_17_x86_64.whl (18.2 MB)\n     \u2501\u2501\u2501\u2501\u2501\u2501\u2501\u2501\u2501\u2501\u2501\u2501\u2501\u2501\u2501\u2501\u2501\u2501\u2501\u2501\u2501\u2501\u2501\u2501\u2501\u2501\u2501\u2501\u2501\u2501\u2501\u2501\u2501\u2501\u2501\u2501\u2501\u2501\u2501 18.2/18.2 MB 319.9 MB/s eta 0:00:00\nCollecting filelock\n  Downloading filelock-3.19.1-py3-none-any.whl (15 kB)\nCollecting nvidia-cusparse-cu12==12.5.8.93\n  Downloading nvidia_cusparse_cu12-12.5.8.93-py3-none-manylinux2014_x86_64.manylinux_2_17_x86_64.whl (288.2 MB)\n     \u2501\u2501\u2501\u2501\u2501\u2501\u2501\u2501\u2501\u2501\u2501\u2501\u2501\u2501\u2501\u2501\u2501\u2501\u2501\u2501\u2501\u2501\u2501\u2501\u2501\u2501\u2501\u2501\u2501\u2501\u2501\u2501\u2501\u2501\u2501\u2501\u2501 288.2/288.2 MB 541.3 MB/s eta 0:00:00\nCollecting typing-extensions>=4.10.0\n  Downloading typing_extensions-4.15.0-py3-none-any.whl (44 kB)\n     \u2501\u2501\u2501\u2501\u2501\u2501\u2501\u2501\u2501\u2501\u2501\u2501\u2501\u2501\u2501\u2501\u2501\u2501\u2501\u2501\u2501\u2501\u2501\u2501\u2501\u2501\u2501\u2501\u2501\u2501\u2501\u2501\u2501\u2501\u2501\u2501\u2501\u2501\u2501 44.6/44.6 KB 406.9 MB/s eta 0:00:00\nCollecting nvidia-curand-cu12==10.3.9.90\n  Downloading nvidia_curand_cu12-10.3.9.90-py3-none-manylinux_2_27_x86_64.whl (63.6 MB)\n     \u2501\u2501\u2501\u2501\u2501\u2501\u2501\u2501\u2501\u2501\u2501\u2501\u2501\u2501\u2501\u2501\u2501\u2501\u2501\u2501\u2501\u2501\u2501\u2501\u2501\u2501\u2501\u2501\u2501\u2501\u2501\u2501\u2501\u2501\u2501\u2501\u2501\u2501\u2501 63.6/63.6 MB 547.3 MB/s eta 0:00:00\nCollecting jinja2\n  Downloading jinja2-3.1.6-py3-none-any.whl (134 kB)\n     \u2501\u2501\u2501\u2501\u2501\u2501\u2501\u2501\u2501\u2501\u2501\u2501\u2501\u2501\u2501\u2501\u2501\u2501\u2501\u2501\u2501\u2501\u2501\u2501\u2501\u2501\u2501\u2501\u2501\u2501\u2501\u2501\u2501\u2501\u2501\u2501\u2501 134.9/134.9 KB 490.2 MB/s eta 0:00:00\nCollecting networkx\n  Downloading networkx-3.5-py3-none-any.whl (2.0 MB)\n     \u2501\u2501\u2501\u2501\u2501\u2501\u2501\u2501\u2501\u2501\u2501\u2501\u2501\u2501\u2501\u2501\u2501\u2501\u2501\u2501\u2501\u2501\u2501\u2501\u2501\u2501\u2501\u2501\u2501\u2501\u2501\u2501\u2501\u2501\u2501\u2501\u2501\u2501\u2501\u2501 2.0/2.0 MB 537.0 MB/s eta 0:00:00\nCollecting triton==3.4.0\n  Downloading triton-3.4.0-cp311-cp311-manylinux_2_27_x86_64.manylinux_2_28_x86_64.whl (155.5 MB)\n     \u2501\u2501\u2501\u2501\u2501\u2501\u2501\u2501\u2501\u2501\u2501\u2501\u2501\u2501\u2501\u2501\u2501\u2501\u2501\u2501\u2501\u2501\u2501\u2501\u2501\u2501\u2501\u2501\u2501\u2501\u2501\u2501\u2501\u2501\u2501\u2501\u2501 155.5/155.5 MB 223.7 MB/s eta 0:00:00\nCollecting nvidia-cufile-cu12==1.13.1.3\n  Downloading nvidia_cufile_cu12-1.13.1.3-py3-none-manylinux2014_x86_64.manylinux_2_17_x86_64.whl (1.2 MB)\n     \u2501\u2501\u2501\u2501\u2501\u2501\u2501\u2501\u2501\u2501\u2501\u2501\u2501\u2501\u2501\u2501\u2501\u2501\u2501\u2501\u2501\u2501\u2501\u2501\u2501\u2501\u2501\u2501\u2501\u2501\u2501\u2501\u2501\u2501\u2501\u2501\u2501\u2501\u2501\u2501 1.2/1.2 MB 516.2 MB/s eta 0:00:00\nCollecting nvidia-cuda-nvrtc-cu12==12.8.93\n  Downloading nvidia_cuda_nvrtc_cu12-12.8.93-py3-none-manylinux2010_x86_64.manylinux_2_12_x86_64.whl (88.0 MB)\n     \u2501\u2501\u2501\u2501\u2501\u2501\u2501\u2501\u2501\u2501\u2501\u2501\u2501\u2501\u2501\u2501\u2501\u2501\u2501\u2501\u2501\u2501\u2501\u2501\u2501\u2501\u2501\u2501\u2501\u2501\u2501\u2501\u2501\u2501\u2501\u2501\u2501\u2501\u2501 88.0/88.0 MB 538.9 MB/s eta 0:00:00\nCollecting nvidia-cuda-cupti-cu12==12.8.90\n  Downloading nvidia_cuda_cupti_cu12-12.8.90-py3-none-manylinux2014_x86_64.manylinux_2_17_x86_64.whl (10.2 MB)\n     \u2501\u2501\u2501\u2501\u2501\u2501\u2501\u2501\u2501\u2501\u2501\u2501\u2501\u2501\u2501\u2501\u2501\u2501\u2501\u2501\u2501\u2501\u2501\u2501\u2501\u2501\u2501\u2501\u2501\u2501\u2501\u2501\u2501\u2501\u2501\u2501\u2501\u2501\u2501 10.2/10.2 MB 531.8 MB/s eta 0:00:00\nCollecting nvidia-nvjitlink-cu12==12.8.93\n  Downloading nvidia_nvjitlink_cu12-12.8.93-py3-none-manylinux2010_x86_64.manylinux_2_12_x86_64.whl (39.3 MB)\n     \u2501\u2501\u2501\u2501\u2501\u2501\u2501\u2501\u2501\u2501\u2501\u2501\u2501\u2501\u2501\u2501\u2501\u2501\u2501\u2501\u2501\u2501\u2501\u2501\u2501\u2501\u2501\u2501\u2501\u2501\u2501\u2501\u2501\u2501\u2501\u2501\u2501\u2501\u2501 39.3/39.3 MB 543.5 MB/s eta 0:00:00\nCollecting sympy>=1.13.3\n  Downloading sympy-1.14.0-py3-none-any.whl (6.3 MB)\n     \u2501\u2501\u2501\u2501\u2501\u2501\u2501\u2501\u2501\u2501\u2501\u2501\u2501\u2501\u2501\u2501\u2501\u2501\u2501\u2501\u2501\u2501\u2501\u2501\u2501\u2501\u2501\u2501\u2501\u2501\u2501\u2501\u2501\u2501\u2501\u2501\u2501\u2501\u2501\u2501 6.3/6.3 MB 504.4 MB/s eta 0:00:00\nCollecting nvidia-cudnn-cu12==9.10.2.21\n  Downloading nvidia_cudnn_cu12-9.10.2.21-py3-none-manylinux_2_27_x86_64.whl (706.8 MB)\n     \u2501\u2501\u2501\u2501\u2501\u2501\u2501\u2501\u2501\u2501\u2501\u2501\u2501\u2501\u2501\u2501\u2501\u2501\u2501\u2501\u2501\u2501\u2501\u2501\u2501\u2501\u2501\u2501\u2501\u2501\u2501\u2501\u2501\u2501\u2501\u2501\u2501 706.8/706.8 MB 467.7 MB/s eta 0:00:00\nCollecting nvidia-cuda-runtime-cu12==12.8.90\n  Downloading nvidia_cuda_runtime_cu12-12.8.90-py3-none-manylinux2014_x86_64.manylinux_2_17_x86_64.whl (954 kB)\n     \u2501\u2501\u2501\u2501\u2501\u2501\u2501\u2501\u2501\u2501\u2501\u2501\u2501\u2501\u2501\u2501\u2501\u2501\u2501\u2501\u2501\u2501\u2501\u2501\u2501\u2501\u2501\u2501\u2501\u2501\u2501\u2501\u2501\u2501\u2501\u2501\u2501 954.8/954.8 KB 388.0 MB/s eta 0:00:00\nCollecting nvidia-nccl-cu12==2.27.3\n  Downloading nvidia_nccl_cu12-2.27.3-py3-none-manylinux2014_x86_64.manylinux_2_17_x86_64.whl (322.4 MB)\n     \u2501\u2501\u2501\u2501\u2501\u2501\u2501\u2501\u2501\u2501\u2501\u2501\u2501\u2501\u2501\u2501\u2501\u2501\u2501\u2501\u2501\u2501\u2501\u2501\u2501\u2501\u2501\u2501\u2501\u2501\u2501\u2501\u2501\u2501\u2501\u2501\u2501 322.4/322.4 MB 463.5 MB/s eta 0:00:00\nCollecting nvidia-cublas-cu12==12.8.4.1\n  Downloading nvidia_cublas_cu12-12.8.4.1-py3-none-manylinux_2_27_x86_64.whl (594.3 MB)\n     \u2501\u2501\u2501\u2501\u2501\u2501\u2501\u2501\u2501\u2501\u2501\u2501\u2501\u2501\u2501\u2501\u2501\u2501\u2501\u2501\u2501\u2501\u2501\u2501\u2501\u2501\u2501\u2501\u2501\u2501\u2501\u2501\u2501\u2501\u2501\u2501\u2501 594.3/594.3 MB 550.4 MB/s eta 0:00:00\nCollecting fsspec\n  Downloading fsspec-2025.9.0-py3-none-any.whl (199 kB)\n     \u2501\u2501\u2501\u2501\u2501\u2501\u2501\u2501\u2501\u2501\u2501\u2501\u2501\u2501\u2501\u2501\u2501\u2501\u2501\u2501\u2501\u2501\u2501\u2501\u2501\u2501\u2501\u2501\u2501\u2501\u2501\u2501\u2501\u2501\u2501\u2501\u2501 199.3/199.3 KB 437.6 MB/s eta 0:00:00\nCollecting nvidia-nvtx-cu12==12.8.90\n  Downloading nvidia_nvtx_cu12-12.8.90-py3-none-manylinux2014_x86_64.manylinux_2_17_x86_64.whl (89 kB)\n     \u2501\u2501\u2501\u2501\u2501\u2501\u2501\u2501\u2501\u2501\u2501\u2501\u2501\u2501\u2501\u2501\u2501\u2501\u2501\u2501\u2501\u2501\u2501\u2501\u2501\u2501\u2501\u2501\u2501\u2501\u2501\u2501\u2501\u2501\u2501\u2501\u2501\u2501\u2501 90.0/90.0 KB 481.3 MB/s eta 0:00:00\nCollecting nvidia-cusolver-cu12==11.7.3.90\n  Downloading nvidia_cusolver_cu12-11.7.3.90-py3-none-manylinux_2_27_x86_64.whl (267.5 MB)\n     \u2501\u2501\u2501\u2501\u2501\u2501\u2501\u2501\u2501\u2501\u2501\u2501\u2501\u2501\u2501\u2501\u2501\u2501\u2501\u2501\u2501\u2501\u2501\u2501\u2501\u2501\u2501\u2501\u2501\u2501\u2501\u2501\u2501\u2501\u2501\u2501\u2501 267.5/267.5 MB 311.1 MB/s eta 0:00:00\nCollecting nvidia-cufft-cu12==11.3.3.83\n  Downloading nvidia_cufft_cu12-11.3.3.83-py3-none-manylinux2014_x86_64.manylinux_2_17_x86_64.whl (193.1 MB)\n     \u2501\u2501\u2501\u2501\u2501\u2501\u2501\u2501\u2501\u2501\u2501\u2501\u2501\u2501\u2501\u2501\u2501\u2501\u2501\u2501\u2501\u2501\u2501\u2501\u2501\u2501\u2501\u2501\u2501\u2501\u2501\u2501\u2501\u2501\u2501\u2501\u2501 193.1/193.1 MB 565.7 MB/s eta 0:00:00\nCollecting nvidia-cusparselt-cu12==0.7.1\n  Downloading nvidia_cusparselt_cu12-0.7.1-py3-none-manylinux2014_x86_64.whl (287.2 MB)\n     \u2501\u2501\u2501\u2501\u2501\u2501\u2501\u2501\u2501\u2501\u2501\u2501\u2501\u2501\u2501\u2501\u2501\u2501\u2501\u2501\u2501\u2501\u2501\u2501\u2501\u2501\u2501\u2501\u2501\u2501\u2501\u2501\u2501\u2501\u2501\u2501\u2501 287.2/287.2 MB 574.9 MB/s eta 0:00:00\nCollecting setuptools>=40.8.0\n  Downloading setuptools-80.9.0-py3-none-any.whl (1.2 MB)\n     \u2501\u2501\u2501\u2501\u2501\u2501\u2501\u2501\u2501\u2501\u2501\u2501\u2501\u2501\u2501\u2501\u2501\u2501\u2501\u2501\u2501\u2501\u2501\u2501\u2501\u2501\u2501\u2501\u2501\u2501\u2501\u2501\u2501\u2501\u2501\u2501\u2501\u2501\u2501\u2501 1.2/1.2 MB 523.0 MB/s eta 0:00:00\nCollecting opencv_python\n  Downloading opencv_python-4.11.0.86-cp37-abi3-manylinux_2_17_x86_64.manylinux2014_x86_64.whl (63.0 MB)\n     \u2501\u2501\u2501\u2501\u2501\u2501\u2501\u2501\u2501\u2501\u2501\u2501\u2501\u2501\u2501\u2501\u2501\u2501\u2501\u2501\u2501\u2501\u2501\u2501\u2501\u2501\u2501\u2501\u2501\u2501\u2501\u2501\u2501\u2501\u2501\u2501\u2501\u2501\u2501 63.0/63.0 MB 232.5 MB/s eta 0:00:00\nCollecting pillow!=8.3.*,>=5.3.0\n  Downloading pillow-11.3.0-cp311-cp311-manylinux_2_27_x86_64.manylinux_2_28_x86_64.whl (6.6 MB)\n     \u2501\u2501\u2501\u2501\u2501\u2501\u2501\u2501\u2501\u2501\u2501\u2501\u2501\u2501\u2501\u2501\u2501\u2501\u2501\u2501\u2501\u2501\u2501\u2501\u2501\u2501\u2501\u2501\u2501\u2501\u2501\u2501\u2501\u2501\u2501\u2501\u2501\u2501\u2501\u2501 6.6/6.6 MB 482.2 MB/s eta 0:00:00\nCollecting protobuf!=4.24.0,>=3.19.6\n  Downloading protobuf-6.32.1-cp39-abi3-manylinux2014_x86_64.whl (322 kB)\n     \u2501\u2501\u2501\u2501\u2501\u2501\u2501\u2501\u2501\u2501\u2501\u2501\u2501\u2501\u2501\u2501\u2501\u2501\u2501\u2501\u2501\u2501\u2501\u2501\u2501\u2501\u2501\u2501\u2501\u2501\u2501\u2501\u2501\u2501\u2501\u2501\u2501 322.0/322.0 KB 223.7 MB/s eta 0:00:00\nCollecting tensorboard-data-server<0.8.0,>=0.7.0\n  Downloading tensorboard_data_server-0.7.2-py3-none-manylinux_2_31_x86_64.whl (6.6 MB)\n     \u2501\u2501\u2501\u2501\u2501\u2501\u2501\u2501\u2501\u2501\u2501\u2501\u2501\u2501\u2501\u2501\u2501\u2501\u2501\u2501\u2501\u2501\u2501\u2501\u2501\u2501\u2501\u2501\u2501\u2501\u2501\u2501\u2501\u2501\u2501\u2501\u2501\u2501\u2501\u2501 6.6/6.6 MB 245.1 MB/s eta 0:00:00\nCollecting absl-py>=0.4\n  Downloading absl_py-2.3.1-py3-none-any.whl (135 kB)\n     \u2501\u2501\u2501\u2501\u2501\u2501\u2501\u2501\u2501\u2501\u2501\u2501\u2501\u2501\u2501\u2501\u2501\u2501\u2501\u2501\u2501\u2501\u2501\u2501\u2501\u2501\u2501\u2501\u2501\u2501\u2501\u2501\u2501\u2501\u2501\u2501\u2501 135.8/135.8 KB 464.4 MB/s eta 0:00:00\nCollecting werkzeug>=1.0.1\n  Downloading werkzeug-3.1.3-py3-none-any.whl (224 kB)\n     \u2501\u2501\u2501\u2501\u2501\u2501\u2501\u2501\u2501\u2501\u2501\u2501\u2501\u2501\u2501\u2501\u2501\u2501\u2501\u2501\u2501\u2501\u2501\u2501\u2501\u2501\u2501\u2501\u2501\u2501\u2501\u2501\u2501\u2501\u2501\u2501\u2501 224.5/224.5 KB 539.3 MB/s eta 0:00:00\nCollecting grpcio>=1.48.2\n  Downloading grpcio-1.75.1-cp311-cp311-manylinux2014_x86_64.manylinux_2_17_x86_64.whl (6.5 MB)\n     \u2501\u2501\u2501\u2501\u2501\u2501\u2501\u2501\u2501\u2501\u2501\u2501\u2501\u2501\u2501\u2501\u2501\u2501\u2501\u2501\u2501\u2501\u2501\u2501\u2501\u2501\u2501\u2501\u2501\u2501\u2501\u2501\u2501\u2501\u2501\u2501\u2501\u2501\u2501\u2501 6.5/6.5 MB 570.9 MB/s eta 0:00:00\nCollecting packaging\n  Downloading packaging-25.0-py3-none-any.whl (66 kB)\n     \u2501\u2501\u2501\u2501\u2501\u2501\u2501\u2501\u2501\u2501\u2501\u2501\u2501\u2501\u2501\u2501\u2501\u2501\u2501\u2501\u2501\u2501\u2501\u2501\u2501\u2501\u2501\u2501\u2501\u2501\u2501\u2501\u2501\u2501\u2501\u2501\u2501\u2501\u2501 66.5/66.5 KB 436.8 MB/s eta 0:00:00\nCollecting markdown>=2.6.8\n  Downloading markdown-3.9-py3-none-any.whl (107 kB)\n     \u2501\u2501\u2501\u2501\u2501\u2501\u2501\u2501\u2501\u2501\u2501\u2501\u2501\u2501\u2501\u2501\u2501\u2501\u2501\u2501\u2501\u2501\u2501\u2501\u2501\u2501\u2501\u2501\u2501\u2501\u2501\u2501\u2501\u2501\u2501\u2501\u2501 107.4/107.4 KB 501.7 MB/s eta 0:00:00\nCollecting ml_dtypes\n  Downloading ml_dtypes-0.5.3-cp311-cp311-manylinux_2_27_x86_64.manylinux_2_28_x86_64.whl (4.9 MB)\n     \u2501\u2501\u2501\u2501\u2501\u2501\u2501\u2501\u2501\u2501\u2501\u2501\u2501\u2501\u2501\u2501\u2501\u2501\u2501\u2501\u2501\u2501\u2501\u2501\u2501\u2501\u2501\u2501\u2501\u2501\u2501\u2501\u2501\u2501\u2501\u2501\u2501\u2501\u2501\u2501 4.9/4.9 MB 256.2 MB/s eta 0:00:00\nCollecting mpmath<1.4,>=1.1.0\n  Downloading mpmath-1.3.0-py3-none-any.whl (536 kB)\n     \u2501\u2501\u2501\u2501\u2501\u2501\u2501\u2501\u2501\u2501\u2501\u2501\u2501\u2501\u2501\u2501\u2501\u2501\u2501\u2501\u2501\u2501\u2501\u2501\u2501\u2501\u2501\u2501\u2501\u2501\u2501\u2501\u2501\u2501\u2501\u2501\u2501 536.2/536.2 KB 530.8 MB/s eta 0:00:00\nCollecting MarkupSafe>=2.1.1\n  Downloading MarkupSafe-3.0.2-cp311-cp311-manylinux_2_17_x86_64.manylinux2014_x86_64.whl (23 kB)\nInstalling collected packages: nvidia-cusparselt-cu12, mpmath, typing-extensions, tqdm, tensorboard-data-server, tabulate, sympy, setuptools, psutil, protobuf, pillow, packaging, nvidia-nvtx-cu12, nvidia-nvjitlink-cu12, nvidia-nccl-cu12, nvidia-curand-cu12, nvidia-cufile-cu12, nvidia-cuda-runtime-cu12, nvidia-cuda-nvrtc-cu12, nvidia-cuda-cupti-cu12, nvidia-cublas-cu12, numpy, ninja, networkx, MarkupSafe, markdown, loguru, fsspec, filelock, absl-py, werkzeug, triton, pycocotools, opencv_python, nvidia-cusparse-cu12, nvidia-cufft-cu12, nvidia-cudnn-cu12, ml_dtypes, jinja2, grpcio, tensorboard, onnx, nvidia-cusolver-cu12, torch, torchvision, thop\nSuccessfully installed MarkupSafe-3.0.2 absl-py-2.3.1 filelock-3.19.1 fsspec-2025.9.0 grpcio-1.75.1 jinja2-3.1.6 loguru-0.7.3 markdown-3.9 ml_dtypes-0.5.3 mpmath-1.3.0 networkx-3.5 ninja-1.13.0 numpy-1.26.4 nvidia-cublas-cu12-12.8.4.1 nvidia-cuda-cupti-cu12-12.8.90 nvidia-cuda-nvrtc-cu12-12.8.93 nvidia-cuda-runtime-cu12-12.8.90 nvidia-cudnn-cu12-9.10.2.21 nvidia-cufft-cu12-11.3.3.83 nvidia-cufile-cu12-1.13.1.3 nvidia-curand-cu12-10.3.9.90 nvidia-cusolver-cu12-11.7.3.90 nvidia-cusparse-cu12-12.5.8.93 nvidia-cusparselt-cu12-0.7.1 nvidia-nccl-cu12-2.27.3 nvidia-nvjitlink-cu12-12.8.93 nvidia-nvtx-cu12-12.8.90 onnx-1.19.0 opencv_python-4.11.0.86 packaging-25.0 pillow-11.3.0 protobuf-6.32.1 psutil-7.1.0 pycocotools-2.0.10 setuptools-80.9.0 sympy-1.14.0 tabulate-0.9.0 tensorboard-2.20.0 tensorboard-data-server-0.7.2 thop-0.1.1.post2209072238 torch-2.8.0 torchvision-0.23.0 tqdm-4.67.1 triton-3.4.0 typing-extensions-4.15.0 werkzeug-3.1.3\n\n\u2705 Package installation completed and import cache refreshed.\n\ud83d\udd27 Intercepting pip install command: pip install pycocotools --no-deps\n"
          ]
        },
        {
          "output_type": "stream",
          "name": "stderr",
          "text": [
            "ERROR: pip's dependency resolver does not currently take into account all the packages that are installed. This behaviour is the source of the following dependency conflicts.\ngoogle-cloud-bigquery-storage 2.24.0 requires protobuf!=3.20.0,!=3.20.1,!=4.21.0,!=4.21.1,!=4.21.2,!=4.21.3,!=4.21.4,!=4.21.5,<5.0.0dev,>=3.19.5, but you have protobuf 6.32.1 which is incompatible.\nWARNING: Target directory /app/.pip-target/thop-0.1.1.post2209072238.dist-info already exists. Specify --upgrade to force replacement.\nWARNING: Target directory /app/.pip-target/thop already exists. Specify --upgrade to force replacement.\nWARNING: Target directory /app/.pip-target/torchvision-0.23.0.dist-info already exists. Specify --upgrade to force replacement.\nWARNING: Target directory /app/.pip-target/torchvision.libs already exists. Specify --upgrade to force replacement.\nWARNING: Target directory /app/.pip-target/torchvision already exists. Specify --upgrade to force replacement.\nWARNING: Target directory /app/.pip-target/torch-2.8.0.dist-info already exists. Specify --upgrade to force replacement.\nWARNING: Target directory /app/.pip-target/torchgen already exists. Specify --upgrade to force replacement.\nWARNING: Target directory /app/.pip-target/torch already exists. Specify --upgrade to force replacement.\nWARNING: Target directory /app/.pip-target/functorch already exists. Specify --upgrade to force replacement.\nWARNING: Target directory /app/.pip-target/nvidia_cusolver_cu12-11.7.3.90.dist-info already exists. Specify --upgrade to force replacement.\nWARNING: Target directory /app/.pip-target/onnx-1.19.0.dist-info already exists. Specify --upgrade to force replacement.\nWARNING: Target directory /app/.pip-target/onnx already exists. Specify --upgrade to force replacement.\nWARNING: Target directory /app/.pip-target/tensorboard-2.20.0.dist-info already exists. Specify --upgrade to force replacement.\nWARNING: Target directory /app/.pip-target/tensorboard already exists. Specify --upgrade to force replacement.\nWARNING: Target directory /app/.pip-target/grpcio-1.75.1.dist-info already exists. Specify --upgrade to force replacement.\nWARNING: Target directory /app/.pip-target/grpc already exists. Specify --upgrade to force replacement.\nWARNING: Target directory /app/.pip-target/jinja2-3.1.6.dist-info already exists. Specify --upgrade to force replacement.\nWARNING: Target directory /app/.pip-target/jinja2 already exists. Specify --upgrade to force replacement.\nWARNING: Target directory /app/.pip-target/ml_dtypes-0.5.3.dist-info already exists. Specify --upgrade to force replacement.\nWARNING: Target directory /app/.pip-target/ml_dtypes already exists. Specify --upgrade to force replacement.\nWARNING: Target directory /app/.pip-target/nvidia_cudnn_cu12-9.10.2.21.dist-info already exists. Specify --upgrade to force replacement.\nWARNING: Target directory /app/.pip-target/nvidia_cufft_cu12-11.3.3.83.dist-info already exists. Specify --upgrade to force replacement.\nWARNING: Target directory /app/.pip-target/nvidia_cusparse_cu12-12.5.8.93.dist-info already exists. Specify --upgrade to force replacement.\nWARNING: Target directory /app/.pip-target/cv2 already exists. Specify --upgrade to force replacement.\nWARNING: Target directory /app/.pip-target/opencv_python-4.11.0.86.dist-info already exists. Specify --upgrade to force replacement.\nWARNING: Target directory /app/.pip-target/opencv_python.libs already exists. Specify --upgrade to force replacement.\nWARNING: Target directory /app/.pip-target/pycocotools-2.0.10.dist-info already exists. Specify --upgrade to force replacement.\nWARNING: Target directory /app/.pip-target/pycocotools already exists. Specify --upgrade to force replacement.\nWARNING: Target directory /app/.pip-target/triton-3.4.0.dist-info already exists. Specify --upgrade to force replacement.\nWARNING: Target directory /app/.pip-target/triton already exists. Specify --upgrade to force replacement.\nWARNING: Target directory /app/.pip-target/werkzeug-3.1.3.dist-info already exists. Specify --upgrade to force replacement.\nWARNING: Target directory /app/.pip-target/werkzeug already exists. Specify --upgrade to force replacement.\nWARNING: Target directory /app/.pip-target/absl_py-2.3.1.dist-info already exists. Specify --upgrade to force replacement.\nWARNING: Target directory /app/.pip-target/absl already exists. Specify --upgrade to force replacement.\nWARNING: Target directory /app/.pip-target/filelock-3.19.1.dist-info already exists. Specify --upgrade to force replacement.\nWARNING: Target directory /app/.pip-target/filelock already exists. Specify --upgrade to force replacement.\nWARNING: Target directory /app/.pip-target/fsspec-2025.9.0.dist-info already exists. Specify --upgrade to force replacement.\nWARNING: Target directory /app/.pip-target/fsspec already exists. Specify --upgrade to force replacement.\nWARNING: Target directory /app/.pip-target/loguru-0.7.3.dist-info already exists. Specify --upgrade to force replacement.\nWARNING: Target directory /app/.pip-target/loguru already exists. Specify --upgrade to force replacement.\nWARNING: Target directory /app/.pip-target/markdown-3.9.dist-info already exists. Specify --upgrade to force replacement.\nWARNING: Target directory /app/.pip-target/markdown already exists. Specify --upgrade to force replacement.\nWARNING: Target directory /app/.pip-target/markupsafe already exists. Specify --upgrade to force replacement.\nWARNING: Target directory /app/.pip-target/MarkupSafe-3.0.2.dist-info already exists. Specify --upgrade to force replacement.\nWARNING: Target directory /app/.pip-target/networkx-3.5.dist-info already exists. Specify --upgrade to force replacement.\nWARNING: Target directory /app/.pip-target/networkx already exists. Specify --upgrade to force replacement.\nWARNING: Target directory /app/.pip-target/ninja-1.13.0.dist-info already exists. Specify --upgrade to force replacement.\nWARNING: Target directory /app/.pip-target/ninja already exists. Specify --upgrade to force replacement.\nWARNING: Target directory /app/.pip-target/numpy.libs already exists. Specify --upgrade to force replacement.\nWARNING: Target directory /app/.pip-target/numpy-1.26.4.dist-info already exists. Specify --upgrade to force replacement.\nWARNING: Target directory /app/.pip-target/numpy already exists. Specify --upgrade to force replacement.\nWARNING: Target directory /app/.pip-target/nvidia_cublas_cu12-12.8.4.1.dist-info already exists. Specify --upgrade to force replacement.\nWARNING: Target directory /app/.pip-target/nvidia_cuda_cupti_cu12-12.8.90.dist-info already exists. Specify --upgrade to force replacement.\nWARNING: Target directory /app/.pip-target/nvidia_cuda_nvrtc_cu12-12.8.93.dist-info already exists. Specify --upgrade to force replacement.\nWARNING: Target directory /app/.pip-target/nvidia_cuda_runtime_cu12-12.8.90.dist-info already exists. Specify --upgrade to force replacement.\nWARNING: Target directory /app/.pip-target/nvidia_cufile_cu12-1.13.1.3.dist-info already exists. Specify --upgrade to force replacement.\nWARNING: Target directory /app/.pip-target/nvidia_curand_cu12-10.3.9.90.dist-info already exists. Specify --upgrade to force replacement.\nWARNING: Target directory /app/.pip-target/nvidia_nccl_cu12-2.27.3.dist-info already exists. Specify --upgrade to force replacement.\nWARNING: Target directory /app/.pip-target/nvidia_nvjitlink_cu12-12.8.93.dist-info already exists. Specify --upgrade to force replacement.\nWARNING: Target directory /app/.pip-target/nvidia_nvtx_cu12-12.8.90.dist-info already exists. Specify --upgrade to force replacement.\nWARNING: Target directory /app/.pip-target/packaging-25.0.dist-info already exists. Specify --upgrade to force replacement.\nWARNING: Target directory /app/.pip-target/packaging already exists. Specify --upgrade to force replacement.\nWARNING: Target directory /app/.pip-target/pillow-11.3.0.dist-info already exists. Specify --upgrade to force replacement.\nWARNING: Target directory /app/.pip-target/pillow.libs already exists. Specify --upgrade to force replacement.\nWARNING: Target directory /app/.pip-target/PIL already exists. Specify --upgrade to force replacement.\nWARNING: Target directory /app/.pip-target/protobuf-6.32.1.dist-info already exists. Specify --upgrade to force replacement.\nWARNING: Target directory /app/.pip-target/google already exists. Specify --upgrade to force replacement.\nWARNING: Target directory /app/.pip-target/psutil-7.1.0.dist-info already exists. Specify --upgrade to force replacement.\nWARNING: Target directory /app/.pip-target/psutil already exists. Specify --upgrade to force replacement.\nWARNING: Target directory /app/.pip-target/setuptools-80.9.0.dist-info already exists. Specify --upgrade to force replacement.\nWARNING: Target directory /app/.pip-target/setuptools already exists. Specify --upgrade to force replacement.\nWARNING: Target directory /app/.pip-target/pkg_resources already exists. Specify --upgrade to force replacement.\nWARNING: Target directory /app/.pip-target/_distutils_hack already exists. Specify --upgrade to force replacement.\nWARNING: Target directory /app/.pip-target/distutils-precedence.pth already exists. Specify --upgrade to force replacement.\nWARNING: Target directory /app/.pip-target/sympy-1.14.0.dist-info already exists. Specify --upgrade to force replacement.\nWARNING: Target directory /app/.pip-target/sympy already exists. Specify --upgrade to force replacement.\nWARNING: Target directory /app/.pip-target/isympy.py already exists. Specify --upgrade to force replacement.\nWARNING: Target directory /app/.pip-target/tabulate-0.9.0.dist-info already exists. Specify --upgrade to force replacement.\nWARNING: Target directory /app/.pip-target/tabulate already exists. Specify --upgrade to force replacement.\nWARNING: Target directory /app/.pip-target/tensorboard_data_server-0.7.2.dist-info already exists. Specify --upgrade to force replacement.\nWARNING: Target directory /app/.pip-target/tensorboard_data_server already exists. Specify --upgrade to force replacement.\nWARNING: Target directory /app/.pip-target/tqdm-4.67.1.dist-info already exists. Specify --upgrade to force replacement.\nWARNING: Target directory /app/.pip-target/tqdm already exists. Specify --upgrade to force replacement.\nWARNING: Target directory /app/.pip-target/__pycache__ already exists. Specify --upgrade to force replacement.\nWARNING: Target directory /app/.pip-target/typing_extensions-4.15.0.dist-info already exists. Specify --upgrade to force replacement.\nWARNING: Target directory /app/.pip-target/typing_extensions.py already exists. Specify --upgrade to force replacement.\nWARNING: Target directory /app/.pip-target/mpmath-1.3.0.dist-info already exists. Specify --upgrade to force replacement.\nWARNING: Target directory /app/.pip-target/mpmath already exists. Specify --upgrade to force replacement.\nWARNING: Target directory /app/.pip-target/nvidia_cusparselt_cu12-0.7.1.dist-info already exists. Specify --upgrade to force replacement.\nWARNING: Target directory /app/.pip-target/nvidia already exists. Specify --upgrade to force replacement.\nWARNING: Target directory /app/.pip-target/share already exists. Specify --upgrade to force replacement.\nWARNING: Target directory /app/.pip-target/bin already exists. Specify --upgrade to force replacement.\n\n"
          ]
        },
        {
          "output_type": "stream",
          "name": "stdout",
          "text": [
            "Collecting pycocotools\n  Downloading pycocotools-2.0.10-cp311-cp311-manylinux_2_17_x86_64.manylinux2014_x86_64.whl (477 kB)\n     \u2501\u2501\u2501\u2501\u2501\u2501\u2501\u2501\u2501\u2501\u2501\u2501\u2501\u2501\u2501\u2501\u2501\u2501\u2501\u2501\u2501\u2501\u2501\u2501\u2501\u2501\u2501\u2501\u2501\u2501\u2501\u2501\u2501\u2501\u2501\u2501\u2501\u2501 477.3/477.3 KB 19.7 MB/s eta 0:00:00\nInstalling collected packages: pycocotools\nSuccessfully installed pycocotools-2.0.10\n\n\u2705 Package installation completed and import cache refreshed.\n/var/lib/simon/agent_run_states/siim-covid19-detection-20250925-205912\n"
          ]
        },
        {
          "output_type": "stream",
          "name": "stderr",
          "text": [
            "WARNING: Target directory /app/.pip-target/pycocotools-2.0.10.dist-info already exists. Specify --upgrade to force replacement.\nWARNING: Target directory /app/.pip-target/pycocotools already exists. Specify --upgrade to force replacement.\n\n"
          ]
        }
      ]
    },
    {
      "id": "1cde15ff-f635-4bfa-9178-2fd78d06e999",
      "cell_type": "code",
      "metadata": {},
      "source": [
        "# --- YOLOX Data Prep Part 1: Get and Cache Image Dimensions & Create Symlinks ---\n",
        "import os\n",
        "import json\n",
        "import cv2\n",
        "from tqdm.auto import tqdm\n",
        "\n",
        "IMAGE_DIMS_CACHE_PATH = 'image_dimensions.json'\n",
        "image_dimensions = {}\n",
        "\n",
        "# --- Step 1: Get Image Dimensions (from cache or by reading files) ---\n",
        "if os.path.exists(IMAGE_DIMS_CACHE_PATH):\n",
        "    print(f\"Loading image dimensions from cache: {IMAGE_DIMS_CACHE_PATH}\")\n",
        "    with open(IMAGE_DIMS_CACHE_PATH, 'r') as f:\n",
        "        image_dimensions = json.load(f)\n",
        "else:\n",
        "    print(\"Image dimensions cache not found. This will be slow, but only runs once.\")\n",
        "    unique_image_ids = df_merged['image_id'].unique()\n",
        "    for image_id in tqdm(unique_image_ids, desc=\"Reading image dimensions\"):\n",
        "        img_path = os.path.join(TRAIN_PNG_3CH_DIR, f\"{image_id}.png\")\n",
        "        if os.path.exists(img_path):\n",
        "            try:\n",
        "                h, w, _ = cv2.imread(img_path).shape\n",
        "                image_dimensions[image_id] = (w, h)\n",
        "            except Exception as e:\n",
        "                print(f\"Warning: Could not read dimensions for {image_id}. Error: {e}\")\n",
        "\n",
        "    print(f\"Saving image dimensions to cache: {IMAGE_DIMS_CACHE_PATH}\")\n",
        "    with open(IMAGE_DIMS_CACHE_PATH, 'w') as f:\n",
        "        json.dump(image_dimensions, f)\n",
        "\n",
        "print(f\"Loaded/created dimensions for {len(image_dimensions)} images.\")\n",
        "\n",
        "# --- Step 2: Create Image Symlinks for YOLOX ---\n",
        "# The COCO data loader needs to find the actual image files.\n",
        "YOLOX_DATA_DIR = 'yolox_data'\n",
        "YOLOX_IMG_DIR = os.path.join(YOLOX_DATA_DIR, 'images', 'train')\n",
        "os.makedirs(YOLOX_IMG_DIR, exist_ok=True)\n",
        "print(f\"Ensured YOLOX image directory exists: {YOLOX_IMG_DIR}\")\n",
        "\n",
        "print(\"Creating image symlinks for YOLOX...\")\n",
        "for image_id in tqdm(df_merged['image_id'].unique(), desc=\"Creating image symlinks\"):\n",
        "    src_path = os.path.abspath(os.path.join(TRAIN_PNG_3CH_DIR, f\"{image_id}.png\"))\n",
        "    dst_path = os.path.join(YOLOX_IMG_DIR, f\"{image_id}.png\")\n",
        "    if not os.path.lexists(dst_path): # Use lexists to avoid errors with broken symlinks\n",
        "        os.symlink(src_path, dst_path)\n",
        "print(\"Finished creating image symlinks.\")"
      ],
      "execution_count": 3,
      "outputs": [
        {
          "output_type": "stream",
          "name": "stdout",
          "text": [
            "Loading image dimensions from cache: image_dimensions.json\nLoaded/created dimensions for 5696 images.\nEnsured YOLOX image directory exists: yolox_data/images/train\nCreating image symlinks for YOLOX...\n"
          ]
        },
        {
          "output_type": "stream",
          "name": "stderr",
          "text": [
            "\rCreating image symlinks:   0%|          | 0/5696 [00:00<?, ?it/s]"
          ]
        },
        {
          "output_type": "stream",
          "name": "stderr",
          "text": [
            "\rCreating image symlinks: 100%|\u2588\u2588\u2588\u2588\u2588\u2588\u2588\u2588\u2588\u2588| 5696/5696 [00:00<00:00, 154961.70it/s]"
          ]
        },
        {
          "output_type": "stream",
          "name": "stdout",
          "text": [
            "Finished creating image symlinks.\n"
          ]
        },
        {
          "output_type": "stream",
          "name": "stderr",
          "text": [
            "\n"
          ]
        }
      ]
    },
    {
      "id": "e15ee6fa-4b49-4eb1-b9ee-b5dca5174ac7",
      "cell_type": "code",
      "metadata": {},
      "source": [
        "# --- YOLOX Data Preparation: Convert to COCO JSON (REVISED) ---\n",
        "import json\n",
        "import ast\n",
        "from tqdm.auto import tqdm\n",
        "\n",
        "YOLOX_ANNO_DIR = os.path.join(YOLOX_DATA_DIR, 'annotations')\n",
        "os.makedirs(YOLOX_ANNO_DIR, exist_ok=True)\n",
        "print(f\"Created YOLOX annotations directory: {YOLOX_ANNO_DIR}\")\n",
        "\n",
        "if 'image_dimensions' not in globals() or len(image_dimensions) == 0:\n",
        "    print(\"FATAL ERROR: image_dimensions dictionary is not populated. Please re-run cell 11.\")\n",
        "else:\n",
        "    print(f\"Generating COCO JSON annotations for each fold... (using {len(image_dimensions)} image dimensions)\")\n",
        "    for fold in range(N_SPLITS):\n",
        "        print(f\"--- Processing Fold {fold} ---\")\n",
        "\n",
        "        # --- Process Train Split ---\n",
        "        df_train_fold = df_merged[df_merged['fold'] != fold].copy()\n",
        "        coco_data_train = {\n",
        "            \"info\": {}, # FIX: Add empty info dict to prevent KeyError during evaluation\n",
        "            \"images\": [],\n",
        "            \"annotations\": [],\n",
        "            \"categories\": [{\"id\": 0, \"name\": \"opacity\", \"supercategory\": \"none\"}]\n",
        "        }\n",
        "        image_id_map = {img_id: i for i, img_id in enumerate(df_train_fold['image_id'].unique())}\n",
        "\n",
        "        for img_id, coco_id in tqdm(image_id_map.items(), desc=f\"Fold {fold} Train Images\"):\n",
        "            if img_id in image_dimensions:\n",
        "                w, h = image_dimensions[img_id]\n",
        "                coco_data_train['images'].append({\n",
        "                    \"id\": coco_id,\n",
        "                    \"file_name\": f\"{img_id}.png\",\n",
        "                    \"width\": w,\n",
        "                    \"height\": h\n",
        "                })\n",
        "\n",
        "        annot_id = 0\n",
        "        for row in tqdm(df_train_fold.itertuples(), total=len(df_train_fold), desc=f\"Fold {fold} Train Annots\"):\n",
        "            if pd.notna(row.boxes):\n",
        "                coco_id = image_id_map[row.image_id]\n",
        "                boxes = ast.literal_eval(row.boxes)\n",
        "                for box in boxes:\n",
        "                    coco_data_train['annotations'].append({\n",
        "                        \"id\": annot_id,\n",
        "                        \"image_id\": coco_id,\n",
        "                        \"category_id\": 0,\n",
        "                        \"bbox\": [box['x'], box['y'], box['width'], box['height']],\n",
        "                        \"area\": box['width'] * box['height'],\n",
        "                        \"iscrowd\": 0\n",
        "                    })\n",
        "                    annot_id += 1\n",
        "\n",
        "        train_json_path = os.path.join(YOLOX_ANNO_DIR, f'instances_fold{fold}_train.json')\n",
        "        with open(train_json_path, 'w') as f: json.dump(coco_data_train, f)\n",
        "        print(f\"Saved train annotations to {train_json_path}\")\n",
        "\n",
        "        # --- Process Validation Split ---\n",
        "        df_val_fold = df_merged[df_merged['fold'] == fold].copy()\n",
        "        coco_data_val = {\n",
        "            \"info\": {}, # FIX: Add empty info dict to prevent KeyError during evaluation\n",
        "            \"images\": [],\n",
        "            \"annotations\": [],\n",
        "            \"categories\": [{\"id\": 0, \"name\": \"opacity\", \"supercategory\": \"none\"}]\n",
        "        }\n",
        "        image_id_map_val = {img_id: i for i, img_id in enumerate(df_val_fold['image_id'].unique())}\n",
        "\n",
        "        for img_id, coco_id in tqdm(image_id_map_val.items(), desc=f\"Fold {fold} Val Images\"):\n",
        "            if img_id in image_dimensions:\n",
        "                w, h = image_dimensions[img_id]\n",
        "                coco_data_val['images'].append({\n",
        "                    \"id\": coco_id,\n",
        "                    \"file_name\": f\"{img_id}.png\",\n",
        "                    \"width\": w,\n",
        "                    \"height\": h\n",
        "                })\n",
        "\n",
        "        annot_id_val = 0\n",
        "        for row in tqdm(df_val_fold.itertuples(), total=len(df_val_fold), desc=f\"Fold {fold} Val Annots\"):\n",
        "            if pd.notna(row.boxes):\n",
        "                coco_id = image_id_map_val[row.image_id]\n",
        "                boxes = ast.literal_eval(row.boxes)\n",
        "                for box in boxes:\n",
        "                    coco_data_val['annotations'].append({\n",
        "                        \"id\": annot_id_val,\n",
        "                        \"image_id\": coco_id,\n",
        "                        \"category_id\": 0,\n",
        "                        \"bbox\": [box['x'], box['y'], box['width'], box['height']],\n",
        "                        \"area\": box['width'] * box['height'],\n",
        "                        \"iscrowd\": 0\n",
        "                    })\n",
        "                    annot_id_val += 1\n",
        "\n",
        "        val_json_path = os.path.join(YOLOX_ANNO_DIR, f'instances_fold{fold}_val.json')\n",
        "        with open(val_json_path, 'w') as f: json.dump(coco_data_val, f)\n",
        "        print(f\"Saved val annotations to {val_json_path}\")\n",
        "\n",
        "    print(\"Finished generating all COCO JSON files.\")"
      ],
      "execution_count": 4,
      "outputs": [
        {
          "output_type": "stream",
          "name": "stdout",
          "text": [
            "Created YOLOX annotations directory: yolox_data/annotations\nGenerating COCO JSON annotations for each fold... (using 5696 image dimensions)\n--- Processing Fold 0 ---\n"
          ]
        },
        {
          "output_type": "stream",
          "name": "stderr",
          "text": [
            "\rFold 0 Train Images:   0%|          | 0/4553 [00:00<?, ?it/s]"
          ]
        },
        {
          "output_type": "stream",
          "name": "stderr",
          "text": [
            "\rFold 0 Train Images: 100%|\u2588\u2588\u2588\u2588\u2588\u2588\u2588\u2588\u2588\u2588| 4553/4553 [00:00<00:00, 1549676.71it/s]"
          ]
        },
        {
          "output_type": "stream",
          "name": "stderr",
          "text": [
            "\n"
          ]
        },
        {
          "output_type": "stream",
          "name": "stderr",
          "text": [
            "\rFold 0 Train Annots:   0%|          | 0/4553 [00:00<?, ?it/s]"
          ]
        },
        {
          "output_type": "stream",
          "name": "stderr",
          "text": [
            "\rFold 0 Train Annots: 100%|\u2588\u2588\u2588\u2588\u2588\u2588\u2588\u2588\u2588\u2588| 4553/4553 [00:00<00:00, 61541.60it/s]"
          ]
        },
        {
          "output_type": "stream",
          "name": "stderr",
          "text": [
            "\n"
          ]
        },
        {
          "output_type": "stream",
          "name": "stdout",
          "text": [
            "Saved train annotations to yolox_data/annotations/instances_fold0_train.json\n"
          ]
        },
        {
          "output_type": "stream",
          "name": "stderr",
          "text": [
            "\rFold 0 Val Images:   0%|          | 0/1143 [00:00<?, ?it/s]"
          ]
        },
        {
          "output_type": "stream",
          "name": "stderr",
          "text": [
            "\rFold 0 Val Images: 100%|\u2588\u2588\u2588\u2588\u2588\u2588\u2588\u2588\u2588\u2588| 1143/1143 [00:00<00:00, 1353115.85it/s]"
          ]
        },
        {
          "output_type": "stream",
          "name": "stderr",
          "text": [
            "\n"
          ]
        },
        {
          "output_type": "stream",
          "name": "stderr",
          "text": [
            "\rFold 0 Val Annots:   0%|          | 0/1143 [00:00<?, ?it/s]"
          ]
        },
        {
          "output_type": "stream",
          "name": "stderr",
          "text": [
            "\rFold 0 Val Annots: 100%|\u2588\u2588\u2588\u2588\u2588\u2588\u2588\u2588\u2588\u2588| 1143/1143 [00:00<00:00, 61406.00it/s]"
          ]
        },
        {
          "output_type": "stream",
          "name": "stderr",
          "text": [
            "\n"
          ]
        },
        {
          "output_type": "stream",
          "name": "stdout",
          "text": [
            "Saved val annotations to yolox_data/annotations/instances_fold0_val.json\n--- Processing Fold 1 ---\n"
          ]
        },
        {
          "output_type": "stream",
          "name": "stderr",
          "text": [
            "\rFold 1 Train Images:   0%|          | 0/4573 [00:00<?, ?it/s]"
          ]
        },
        {
          "output_type": "stream",
          "name": "stderr",
          "text": [
            "\rFold 1 Train Images: 100%|\u2588\u2588\u2588\u2588\u2588\u2588\u2588\u2588\u2588\u2588| 4573/4573 [00:00<00:00, 1781089.44it/s]"
          ]
        },
        {
          "output_type": "stream",
          "name": "stderr",
          "text": [
            "\n"
          ]
        },
        {
          "output_type": "stream",
          "name": "stderr",
          "text": [
            "\rFold 1 Train Annots:   0%|          | 0/4573 [00:00<?, ?it/s]"
          ]
        },
        {
          "output_type": "stream",
          "name": "stderr",
          "text": [
            "\rFold 1 Train Annots: 100%|\u2588\u2588\u2588\u2588\u2588\u2588\u2588\u2588\u2588\u2588| 4573/4573 [00:00<00:00, 64350.02it/s]"
          ]
        },
        {
          "output_type": "stream",
          "name": "stderr",
          "text": [
            "\n"
          ]
        },
        {
          "output_type": "stream",
          "name": "stdout",
          "text": [
            "Saved train annotations to yolox_data/annotations/instances_fold1_train.json\n"
          ]
        },
        {
          "output_type": "stream",
          "name": "stderr",
          "text": [
            "\rFold 1 Val Images:   0%|          | 0/1123 [00:00<?, ?it/s]"
          ]
        },
        {
          "output_type": "stream",
          "name": "stderr",
          "text": [
            "\rFold 1 Val Images: 100%|\u2588\u2588\u2588\u2588\u2588\u2588\u2588\u2588\u2588\u2588| 1123/1123 [00:00<00:00, 1705977.32it/s]"
          ]
        },
        {
          "output_type": "stream",
          "name": "stderr",
          "text": [
            "\n"
          ]
        },
        {
          "output_type": "stream",
          "name": "stderr",
          "text": [
            "\rFold 1 Val Annots:   0%|          | 0/1123 [00:00<?, ?it/s]"
          ]
        },
        {
          "output_type": "stream",
          "name": "stderr",
          "text": [
            "\rFold 1 Val Annots: 100%|\u2588\u2588\u2588\u2588\u2588\u2588\u2588\u2588\u2588\u2588| 1123/1123 [00:00<00:00, 60734.50it/s]"
          ]
        },
        {
          "output_type": "stream",
          "name": "stderr",
          "text": [
            "\n"
          ]
        },
        {
          "output_type": "stream",
          "name": "stdout",
          "text": [
            "Saved val annotations to yolox_data/annotations/instances_fold1_val.json\n--- Processing Fold 2 ---\n"
          ]
        },
        {
          "output_type": "stream",
          "name": "stderr",
          "text": [
            "\rFold 2 Train Images:   0%|          | 0/4549 [00:00<?, ?it/s]"
          ]
        },
        {
          "output_type": "stream",
          "name": "stderr",
          "text": [
            "\rFold 2 Train Images: 100%|\u2588\u2588\u2588\u2588\u2588\u2588\u2588\u2588\u2588\u2588| 4549/4549 [00:00<00:00, 2045223.38it/s]"
          ]
        },
        {
          "output_type": "stream",
          "name": "stderr",
          "text": [
            "\n"
          ]
        },
        {
          "output_type": "stream",
          "name": "stderr",
          "text": [
            "\rFold 2 Train Annots:   0%|          | 0/4549 [00:00<?, ?it/s]"
          ]
        },
        {
          "output_type": "stream",
          "name": "stderr",
          "text": [
            "\rFold 2 Train Annots: 100%|\u2588\u2588\u2588\u2588\u2588\u2588\u2588\u2588\u2588\u2588| 4549/4549 [00:00<00:00, 63412.56it/s]"
          ]
        },
        {
          "output_type": "stream",
          "name": "stderr",
          "text": [
            "\n"
          ]
        },
        {
          "output_type": "stream",
          "name": "stdout",
          "text": [
            "Saved train annotations to yolox_data/annotations/instances_fold2_train.json\n"
          ]
        },
        {
          "output_type": "stream",
          "name": "stderr",
          "text": [
            "\rFold 2 Val Images:   0%|          | 0/1147 [00:00<?, ?it/s]"
          ]
        },
        {
          "output_type": "stream",
          "name": "stderr",
          "text": [
            "\rFold 2 Val Images: 100%|\u2588\u2588\u2588\u2588\u2588\u2588\u2588\u2588\u2588\u2588| 1147/1147 [00:00<00:00, 1682121.22it/s]"
          ]
        },
        {
          "output_type": "stream",
          "name": "stderr",
          "text": [
            "\n"
          ]
        },
        {
          "output_type": "stream",
          "name": "stderr",
          "text": [
            "\rFold 2 Val Annots:   0%|          | 0/1147 [00:00<?, ?it/s]"
          ]
        },
        {
          "output_type": "stream",
          "name": "stderr",
          "text": [
            "\rFold 2 Val Annots: 100%|\u2588\u2588\u2588\u2588\u2588\u2588\u2588\u2588\u2588\u2588| 1147/1147 [00:00<00:00, 63466.22it/s]"
          ]
        },
        {
          "output_type": "stream",
          "name": "stderr",
          "text": [
            "\n"
          ]
        },
        {
          "output_type": "stream",
          "name": "stdout",
          "text": [
            "Saved val annotations to yolox_data/annotations/instances_fold2_val.json\n--- Processing Fold 3 ---\n"
          ]
        },
        {
          "output_type": "stream",
          "name": "stderr",
          "text": [
            "\rFold 3 Train Images:   0%|          | 0/4564 [00:00<?, ?it/s]"
          ]
        },
        {
          "output_type": "stream",
          "name": "stderr",
          "text": [
            "\rFold 3 Train Images: 100%|\u2588\u2588\u2588\u2588\u2588\u2588\u2588\u2588\u2588\u2588| 4564/4564 [00:00<00:00, 2035169.41it/s]"
          ]
        },
        {
          "output_type": "stream",
          "name": "stderr",
          "text": [
            "\n"
          ]
        },
        {
          "output_type": "stream",
          "name": "stderr",
          "text": [
            "\rFold 3 Train Annots:   0%|          | 0/4564 [00:00<?, ?it/s]"
          ]
        },
        {
          "output_type": "stream",
          "name": "stderr",
          "text": [
            "\rFold 3 Train Annots: 100%|\u2588\u2588\u2588\u2588\u2588\u2588\u2588\u2588\u2588\u2588| 4564/4564 [00:00<00:00, 63391.80it/s]"
          ]
        },
        {
          "output_type": "stream",
          "name": "stderr",
          "text": [
            "\n"
          ]
        },
        {
          "output_type": "stream",
          "name": "stdout",
          "text": [
            "Saved train annotations to yolox_data/annotations/instances_fold3_train.json\n"
          ]
        },
        {
          "output_type": "stream",
          "name": "stderr",
          "text": [
            "\rFold 3 Val Images:   0%|          | 0/1132 [00:00<?, ?it/s]"
          ]
        },
        {
          "output_type": "stream",
          "name": "stderr",
          "text": [
            "\rFold 3 Val Images: 100%|\u2588\u2588\u2588\u2588\u2588\u2588\u2588\u2588\u2588\u2588| 1132/1132 [00:00<00:00, 1692674.56it/s]"
          ]
        },
        {
          "output_type": "stream",
          "name": "stderr",
          "text": [
            "\n"
          ]
        },
        {
          "output_type": "stream",
          "name": "stderr",
          "text": [
            "\rFold 3 Val Annots:   0%|          | 0/1132 [00:00<?, ?it/s]"
          ]
        },
        {
          "output_type": "stream",
          "name": "stderr",
          "text": [
            "\rFold 3 Val Annots: 100%|\u2588\u2588\u2588\u2588\u2588\u2588\u2588\u2588\u2588\u2588| 1132/1132 [00:00<00:00, 60731.03it/s]"
          ]
        },
        {
          "output_type": "stream",
          "name": "stderr",
          "text": [
            "\n"
          ]
        },
        {
          "output_type": "stream",
          "name": "stdout",
          "text": [
            "Saved val annotations to yolox_data/annotations/instances_fold3_val.json\n--- Processing Fold 4 ---\n"
          ]
        },
        {
          "output_type": "stream",
          "name": "stderr",
          "text": [
            "\rFold 4 Train Images:   0%|          | 0/4545 [00:00<?, ?it/s]"
          ]
        },
        {
          "output_type": "stream",
          "name": "stderr",
          "text": [
            "\rFold 4 Train Images: 100%|\u2588\u2588\u2588\u2588\u2588\u2588\u2588\u2588\u2588\u2588| 4545/4545 [00:00<00:00, 2066461.97it/s]"
          ]
        },
        {
          "output_type": "stream",
          "name": "stderr",
          "text": [
            "\n"
          ]
        },
        {
          "output_type": "stream",
          "name": "stderr",
          "text": [
            "\rFold 4 Train Annots:   0%|          | 0/4545 [00:00<?, ?it/s]"
          ]
        },
        {
          "output_type": "stream",
          "name": "stderr",
          "text": [
            "\rFold 4 Train Annots:  51%|\u2588\u2588\u2588\u2588\u2588     | 2304/4545 [00:00<00:00, 17705.36it/s]"
          ]
        },
        {
          "output_type": "stream",
          "name": "stderr",
          "text": [
            "\rFold 4 Train Annots: 100%|\u2588\u2588\u2588\u2588\u2588\u2588\u2588\u2588\u2588\u2588| 4545/4545 [00:00<00:00, 27055.88it/s]"
          ]
        },
        {
          "output_type": "stream",
          "name": "stderr",
          "text": [
            "\n"
          ]
        },
        {
          "output_type": "stream",
          "name": "stdout",
          "text": [
            "Saved train annotations to yolox_data/annotations/instances_fold4_train.json\n"
          ]
        },
        {
          "output_type": "stream",
          "name": "stderr",
          "text": [
            "\rFold 4 Val Images:   0%|          | 0/1151 [00:00<?, ?it/s]"
          ]
        },
        {
          "output_type": "stream",
          "name": "stderr",
          "text": [
            "\rFold 4 Val Images: 100%|\u2588\u2588\u2588\u2588\u2588\u2588\u2588\u2588\u2588\u2588| 1151/1151 [00:00<00:00, 1350389.90it/s]"
          ]
        },
        {
          "output_type": "stream",
          "name": "stderr",
          "text": [
            "\n"
          ]
        },
        {
          "output_type": "stream",
          "name": "stderr",
          "text": [
            "\rFold 4 Val Annots:   0%|          | 0/1151 [00:00<?, ?it/s]"
          ]
        },
        {
          "output_type": "stream",
          "name": "stderr",
          "text": [
            "\rFold 4 Val Annots: 100%|\u2588\u2588\u2588\u2588\u2588\u2588\u2588\u2588\u2588\u2588| 1151/1151 [00:00<00:00, 63057.82it/s]"
          ]
        },
        {
          "output_type": "stream",
          "name": "stdout",
          "text": [
            "Saved val annotations to yolox_data/annotations/instances_fold4_val.json\nFinished generating all COCO JSON files.\n"
          ]
        },
        {
          "output_type": "stream",
          "name": "stderr",
          "text": [
            "\n"
          ]
        }
      ]
    },
    {
      "id": "977ca333-7b3c-4696-90fa-b6d4c7d70628",
      "cell_type": "code",
      "metadata": {},
      "source": [
        "# --- Verify a generated JSON file ---\n",
        "import json\n",
        "from pycocotools.coco import COCO\n",
        "\n",
        "# Check the first fold's training file\n",
        "json_path = 'yolox_data/annotations/instances_fold0_train.json'\n",
        "print(f\"Verifying {json_path}...\")\n",
        "\n",
        "try:\n",
        "    with open(json_path, 'r') as f:\n",
        "        data = json.load(f)\n",
        "\n",
        "    print(f\"Number of images in JSON: {len(data['images'])}\")\n",
        "    print(f\"Number of annotations in JSON: {len(data['annotations'])}\")\n",
        "\n",
        "    # Try to load with pycocotools\n",
        "    coco_api = COCO(json_path)\n",
        "    img_ids = coco_api.getImgIds()\n",
        "    print(f\"Number of image IDs found by pycocotools: {len(img_ids)}\")\n",
        "\n",
        "    if len(img_ids) == 0:\n",
        "        print(\"!!! WARNING: pycocotools found 0 images. The JSON file might be structured incorrectly.\")\n",
        "    else:\n",
        "        print(\"Verification successful. pycocotools can read the image IDs.\")\n",
        "except Exception as e:\n",
        "    print(f\"An error occurred during verification: {e}\")"
      ],
      "execution_count": null,
      "outputs": []
    },
    {
      "id": "b265d7e8-ff41-4bcd-b609-ff58fd9d6187",
      "cell_type": "code",
      "metadata": {},
      "source": [
        "# --- FIX: Create symlinks for YOLOX data loader ---\n",
        "# The YOLOX COCODataset loader expects separate 'train' and 'val' directories for images.\n",
        "# My images are all in one directory. I'll create symlinks to trick the loader.\n",
        "# Using absolute paths to avoid any ambiguity with relative paths.\n",
        "import os\n",
        "\n",
        "YOLOX_DATA_DIR = 'yolox_data'\n",
        "TRAIN_LINK_PATH = os.path.join(YOLOX_DATA_DIR, 'train')\n",
        "VAL_LINK_PATH = os.path.join(YOLOX_DATA_DIR, 'val')\n",
        "\n",
        "# The target is the directory containing all the image symlinks\n",
        "IMG_DIR_TARGET = os.path.join(YOLOX_DATA_DIR, 'images', 'train')\n",
        "IMG_DIR_TARGET_ABS = os.path.abspath(IMG_DIR_TARGET)\n",
        "\n",
        "# Clean up old links if they exist from a previous run\n",
        "# Use os.lexists() to check for symlinks without following them.\n",
        "if os.path.lexists(TRAIN_LINK_PATH):\n",
        "    os.remove(TRAIN_LINK_PATH)\n",
        "if os.path.lexists(VAL_LINK_PATH):\n",
        "    os.remove(VAL_LINK_PATH)\n",
        "\n",
        "# Create the new symlinks with an absolute path target\n",
        "try:\n",
        "    os.symlink(IMG_DIR_TARGET_ABS, TRAIN_LINK_PATH)\n",
        "    os.symlink(IMG_DIR_TARGET_ABS, VAL_LINK_PATH)\n",
        "    print(f\"Created symlink: {TRAIN_LINK_PATH} -> {os.readlink(TRAIN_LINK_PATH)}\")\n",
        "    print(f\"Created symlink: {VAL_LINK_PATH} -> {os.readlink(VAL_LINK_PATH)}\")\n",
        "except Exception as e:\n",
        "    print(f\"Error creating symlinks: {e}\")"
      ],
      "execution_count": 5,
      "outputs": [
        {
          "output_type": "stream",
          "name": "stdout",
          "text": [
            "Created symlink: yolox_data/train -> /var/lib/simon/agent_run_states/siim-covid19-detection-20250925-205912/yolox_data/images/train\nCreated symlink: yolox_data/val -> /var/lib/simon/agent_run_states/siim-covid19-detection-20250925-205912/yolox_data/images/train\n"
          ]
        }
      ]
    },
    {
      "id": "75cc1393-9463-4ad5-96eb-17f9712ea91a",
      "cell_type": "code",
      "metadata": {},
      "source": [
        "# --- Download Pretrained YOLOX Weights ---\n",
        "import os\n",
        "\n",
        "weights_dir = 'YOLOX/weights'\n",
        "weights_path = os.path.join(weights_dir, 'yolox_m.pth')\n",
        "weights_url = 'https://github.com/Megvii-BaseDetection/YOLOX/releases/download/0.1.1rc0/yolox_m.pth'\n",
        "\n",
        "os.makedirs(weights_dir, exist_ok=True)\n",
        "\n",
        "if not os.path.exists(weights_path):\n",
        "    print(f\"Downloading pretrained weights to {weights_path}...\")\n",
        "    # Use curl instead of wget as wget is not found in the environment\n",
        "    !curl -L -o {weights_path} {weights_url}\n",
        "    print(\"Download complete.\")\n",
        "else:\n",
        "    print(\"Pretrained weights already exist.\")"
      ],
      "execution_count": 6,
      "outputs": [
        {
          "output_type": "stream",
          "name": "stdout",
          "text": [
            "Downloading pretrained weights to YOLOX/weights/yolox_m.pth...\n"
          ]
        },
        {
          "output_type": "stream",
          "name": "stderr",
          "text": [
            "  % Total    % Received % Xferd  Average Speed   Time    Time     Time  Current\n                                 Dload  Upload   Total   Spent    Left  Speed\n\r  0     0    0     0    0     0      0      0 --:--:-- --:--:-- --:--:--     0"
          ]
        },
        {
          "output_type": "stream",
          "name": "stderr",
          "text": [
            "\r  0     0    0     0    0     0      0      0 --:--:-- --:--:-- --:--:--     0\n"
          ]
        },
        {
          "output_type": "stream",
          "name": "stderr",
          "text": [
            "\r  8  193M    8 15.8M    0     0  31.0M      0  0:00:06 --:--:--  0:00:06 31.0M"
          ]
        },
        {
          "output_type": "stream",
          "name": "stderr",
          "text": [
            "\r 54  193M   54  104M    0     0  69.3M      0  0:00:02  0:00:01  0:00:01 88.8M"
          ]
        },
        {
          "output_type": "stream",
          "name": "stderr",
          "text": [
            "\r 90  193M   90  175M    0     0  70.0M      0  0:00:02  0:00:02 --:--:-- 79.9M"
          ]
        },
        {
          "output_type": "stream",
          "name": "stdout",
          "text": [
            "Download complete.\n"
          ]
        },
        {
          "output_type": "stream",
          "name": "stderr",
          "text": [
            "\r100  193M  100  193M    0     0  70.6M      0  0:00:02  0:00:02 --:--:-- 79.7M\n"
          ]
        }
      ]
    },
    {
      "id": "1dc60beb-62e7-49ec-8f65-60f5dbadba14",
      "cell_type": "code",
      "metadata": {},
      "source": [
        "# --- FIX: Install Ninja for YOLOX Evaluation ---\n",
        "# The previous run failed because ninja, a build tool dependency for PyTorch's C++ extensions,\n",
        "# was not found. YOLOX uses these extensions for its fast COCO evaluation API.\n",
        "!pip install ninja"
      ],
      "execution_count": null,
      "outputs": []
    },
    {
      "id": "8239efd6-e8a7-463b-a120-d537350479b7",
      "cell_type": "code",
      "metadata": {},
      "source": [
        "# --- DEBUG: Ninja Installation and PATH ---\n",
        "import os\n",
        "\n",
        "print(\"--- Verifying Ninja Installation Location ---\")\n",
        "!which ninja\n",
        "!ls -l /app/.pip-target/bin/ninja\n",
        "\n",
        "print(\"\\n--- Checking System PATH --- \")\n",
        "path_var = os.environ.get('PATH', '')\n",
        "print(path_var)\n",
        "\n",
        "print(\"\\n--- Checking if ninja's path is in PATH ---\")\n",
        "ninja_path = \"/app/.pip-target/bin\"\n",
        "if ninja_path in path_var:\n",
        "    print(\"SUCCESS: Ninja's directory is in the PATH.\")\n",
        "else:\n",
        "    print(\"!!! ERROR: Ninja's directory is NOT in the PATH.\")"
      ],
      "execution_count": null,
      "outputs": []
    },
    {
      "id": "116b5945-3238-4140-80f5-551f4e2fb4d4",
      "cell_type": "code",
      "metadata": {},
      "source": [
        "# --- DEBUG: Find the ninja executable ---\n",
        "!echo 'Searching for ninja executable in /app ...'\n",
        "!find /app -name ninja 2>/dev/null\n",
        "!echo 'Searching for ninja executable in /usr ...'\n",
        "!find /usr -name ninja 2>/dev/null"
      ],
      "execution_count": null,
      "outputs": []
    },
    {
      "id": "0005ea8d-3320-4626-8f0c-f7b632d3f930",
      "cell_type": "code",
      "metadata": {},
      "source": [
        "# --- PATCH YOLOX: Disable Fast C++ COCO Eval ---\n",
        "# The training continues to fail because the subshell process for training cannot find the `ninja` executable,\n",
        "# which is required to build the C++ extensions for fast COCO evaluation.\n",
        "# Instead of continuing to debug the PATH, I will patch the YOLOX source code to use the standard, slower, pure-python evaluation API from pycocotools.\n",
        "# This will bypass the C++ extension compilation entirely, thus removing the `ninja` dependency.\n",
        "\n",
        "import os\n",
        "\n",
        "evaluator_path = 'YOLOX/yolox/evaluators/coco_evaluator.py'\n",
        "line_to_replace = 'from yolox.layers import COCOeval_opt as COCOeval'\n",
        "replacement_line = 'from pycocotools.cocoeval import COCOeval  # Patched to disable C++ extension'\n",
        "\n",
        "try:\n",
        "    with open(evaluator_path, 'r') as f:\n",
        "        content = f.read()\n",
        "    \n",
        "    if line_to_replace in content:\n",
        "        new_content = content.replace(line_to_replace, replacement_line)\n",
        "        with open(evaluator_path, 'w') as f:\n",
        "            f.write(new_content)\n",
        "        print(f'SUCCESS: Patched {evaluator_path} to disable fast COCO eval.')\n",
        "    elif replacement_line in content:\n",
        "        print(f'INFO: Patch already applied to {evaluator_path}.')\n",
        "    else:\n",
        "        print(f'!!! ERROR: Could not find the line to patch in {evaluator_path}.')\n",
        "except Exception as e:\n",
        "    print(f'An error occurred during patching: {e}')"
      ],
      "execution_count": 7,
      "outputs": [
        {
          "output_type": "stream",
          "name": "stdout",
          "text": [
            "SUCCESS: Patched YOLOX/yolox/evaluators/coco_evaluator.py to disable fast COCO eval.\n"
          ]
        }
      ]
    },
    {
      "id": "884f6313-0fd4-416f-be52-172a45644a81",
      "cell_type": "code",
      "metadata": {},
      "source": [
        "# --- Modify YOLOX Config for Fewer Epochs ---\n",
        "# I am reducing the number of epochs from 5 to 2 to ensure training completes in time.\n",
        "import re\n",
        "\n",
        "config_path = 'siim_yolox_config.py'\n",
        "target_config_path = 'YOLOX/exps/siim_yolox_config.py'\n",
        "\n",
        "try:\n",
        "    with open(config_path, 'r') as f:\n",
        "        content = f.read()\n",
        "    \n",
        "    # Change max_epoch to 2\n",
        "    new_content = re.sub(r'self\\.max_epoch = \\d+', 'self.max_epoch = 2', content)\n",
        "    \n",
        "    with open(config_path, 'w') as f:\n",
        "        f.write(new_content)\n",
        "    print(f\"SUCCESS: Modified {config_path} to use 2 epochs.\")\n",
        "\n",
        "    # Also update the copy in the YOLOX directory to be safe\n",
        "    with open(target_config_path, 'w') as f:\n",
        "        f.write(new_content)\n",
        "    print(f\"SUCCESS: Updated {target_config_path} as well.\")\n",
        "\n",
        "except Exception as e:\n",
        "    print(f\"An error occurred during config modification: {e}\")"
      ],
      "execution_count": 9,
      "outputs": [
        {
          "output_type": "stream",
          "name": "stdout",
          "text": [
            "SUCCESS: Modified siim_yolox_config.py to use 2 epochs.\nSUCCESS: Updated YOLOX/exps/siim_yolox_config.py as well.\n"
          ]
        }
      ]
    },
    {
      "id": "a8df5a05-0221-4584-8d59-f235d7ed85bf",
      "cell_type": "code",
      "metadata": {},
      "source": [
        "# --- YOLOX 5-Fold CV Training (Final Attempt) ---\n",
        "import os\n",
        "import shutil\n",
        "import re\n",
        "\n",
        "# Set env var to mitigate CUDA memory fragmentation.\n",
        "os.environ['PYTORCH_CUDA_ALLOC_CONF'] = 'expandable_segments:True'\n",
        "print(f\"Set PYTORCH_CUDA_ALLOC_CONF to: {os.environ.get('PYTORCH_CUDA_ALLOC_CONF')}\")\n",
        "\n",
        "# Define project root to easily return to it\n",
        "PROJECT_ROOT = os.getcwd()\n",
        "print(f\"Project root set to: {PROJECT_ROOT}\")\n",
        "\n",
        "# --- Setup for training ---\n",
        "BASE_CONFIG_PATH = 'siim_yolox_config.py'\n",
        "YOLOX_EXPS_DIR = 'YOLOX/exps'\n",
        "TARGET_CONFIG_PATH = os.path.join(YOLOX_EXPS_DIR, 'siim_yolox_config.py')\n",
        "\n",
        "PRETRAINED_WEIGHTS_PATH = 'weights/yolox_m.pth' # This path is relative to the YOLOX directory\n",
        "print(f\"Relative pretrained weights path to be used inside YOLOX dir: {PRETRAINED_WEIGHTS_PATH}\")\n",
        "\n",
        "# --- Clean previous run's outputs ---\n",
        "print(\"Cleaning previous YOLOX output directory...\")\n",
        "!rm -rf yolox_outputs/*\n",
        "\n",
        "# --- Training Loop ---\n",
        "BATCH_SIZE_DET = 16\n",
        "DEVICES = 1\n",
        "\n",
        "for fold in range(N_SPLITS):\n",
        "    print(\"\\n\" + \"=\"*50)\n",
        "    print(f\"STARTING YOLOX TRAINING FOR FOLD {fold}\")\n",
        "    print(\"=\"*50)\n",
        "\n",
        "    # --- DYNAMICALLY MODIFY CONFIG FILE FOR THIS FOLD ---\n",
        "    # This is a robust way to ensure each fold has a unique output directory.\n",
        "    exp_name = f\"yolox_m_fold_{fold}\"\n",
        "    train_ann_file = f\"instances_fold{fold}_train.json\"\n",
        "    val_ann_file = f\"instances_fold{fold}_val.json\"\n",
        "\n",
        "    with open(BASE_CONFIG_PATH, 'r') as f: config_content = f.read()\n",
        "    config_content = re.sub(r'self\\.exp_name = .*', f'self.exp_name = \"{exp_name}\"', config_content)\n",
        "    config_content = re.sub(r'self\\.train_ann = .*', f'self.train_ann = \"{train_ann_file}\"', config_content)\n",
        "    config_content = re.sub(r'self\\.val_ann = .*', f'self.val_ann = \"{val_ann_file}\"', config_content)\n",
        "    with open(TARGET_CONFIG_PATH, 'w') as f: f.write(config_content)\n",
        "    print(f\"Dynamically modified {TARGET_CONFIG_PATH} for fold {fold} with exp_name: {exp_name}\")\n",
        "\n",
        "    # --- RUN TRAINING ---\n",
        "    %cd YOLOX\n",
        "\n",
        "    command = (\n",
        "        f\"PYTHONPATH=/app/.pip-target:. python3 tools/train.py \"\n",
        "        f\"--fp16 \"\n",
        "        f\"-f exps/siim_yolox_config.py \"\n",
        "        f\"-d {DEVICES} \"\n",
        "        f\"-b {BATCH_SIZE_DET * DEVICES} \"\n",
        "        f\"-c {PRETRAINED_WEIGHTS_PATH}\"\n",
        "    )\n",
        "    \n",
        "    !{command}\n",
        "    \n",
        "    %cd {PROJECT_ROOT}\n",
        "    \n",
        "    print(f\"FINISHED YOLOX TRAINING FOR FOLD {fold}\")\n",
        "\n",
        "# Restore the original config file after the loop finishes\n",
        "shutil.copy(BASE_CONFIG_PATH, TARGET_CONFIG_PATH)\n",
        "print(f\"\\nRestored original config at {TARGET_CONFIG_PATH}\")\n",
        "\n",
        "print(\"\\n\" + \"=\"*50)\n",
        "print(\"ALL YOLOX FOLDS TRAINED\")\n",
        "print(\"=\"*50)"
      ],
      "execution_count": 10,
      "outputs": [
        {
          "output_type": "stream",
          "name": "stdout",
          "text": [
            "Set PYTORCH_CUDA_ALLOC_CONF to: expandable_segments:True\nProject root set to: /var/lib/simon/agent_run_states/siim-covid19-detection-20250925-205912\nRelative pretrained weights path to be used inside YOLOX dir: weights/yolox_m.pth\nCleaning previous YOLOX output directory...\n\n==================================================\nSTARTING YOLOX TRAINING FOR FOLD 0\n==================================================\nDynamically modified YOLOX/exps/siim_yolox_config.py for fold 0 with exp_name: yolox_m_fold_0\n/var/lib/simon/agent_run_states/siim-covid19-detection-20250925-205912/YOLOX\n"
          ]
        },
        {
          "output_type": "stream",
          "name": "stderr",
          "text": [
            "/var/lib/simon/agent_run_states/siim-covid19-detection-20250925-205912/YOLOX/yolox/core/trainer.py:47: FutureWarning: `torch.cuda.amp.GradScaler(args...)` is deprecated. Please use `torch.amp.GradScaler('cuda', args...)` instead.\n  self.scaler = torch.cuda.amp.GradScaler(enabled=args.fp16)\n2025-09-26 18:17:53 | INFO     | yolox.core.trainer:132 - args: Namespace(experiment_name='yolox_m_fold_0', name=None, dist_backend='nccl', dist_url=None, batch_size=16, devices=1, exp_file='exps/siim_yolox_config.py', resume=False, ckpt='weights/yolox_m.pth', start_epoch=None, num_machines=1, machine_rank=0, fp16=True, cache=None, occupy=False, logger='tensorboard', opts=[])\n2025-09-26 18:17:53 | INFO     | yolox.core.trainer:133 - exp value:\n\u2552\u2550\u2550\u2550\u2550\u2550\u2550\u2550\u2550\u2550\u2550\u2550\u2550\u2550\u2550\u2550\u2550\u2550\u2550\u2550\u2564\u2550\u2550\u2550\u2550\u2550\u2550\u2550\u2550\u2550\u2550\u2550\u2550\u2550\u2550\u2550\u2550\u2550\u2550\u2550\u2550\u2550\u2550\u2550\u2550\u2550\u2550\u2550\u2550\u2550\u2550\u2550\u2550\u2550\u2550\u2550\u2550\u2550\u2550\u2550\u2550\u2550\u2550\u2550\u2550\u2550\u2550\u2550\u2550\u2550\u2550\u2550\u2550\u2550\u2550\u2550\u2550\u2550\u2550\u2550\u2550\u2550\u2550\u2550\u2550\u2550\u2550\u2550\u2550\u2550\u2550\u2550\u2550\u2550\u2550\u2550\u2550\u2550\u2550\u2550\u2550\u2550\u2550\u2550\u2550\u2550\u2550\u2550\u2550\u2555\n\u2502 keys              \u2502 values                                                                                 \u2502\n\u255e\u2550\u2550\u2550\u2550\u2550\u2550\u2550\u2550\u2550\u2550\u2550\u2550\u2550\u2550\u2550\u2550\u2550\u2550\u2550\u256a\u2550\u2550\u2550\u2550\u2550\u2550\u2550\u2550\u2550\u2550\u2550\u2550\u2550\u2550\u2550\u2550\u2550\u2550\u2550\u2550\u2550\u2550\u2550\u2550\u2550\u2550\u2550\u2550\u2550\u2550\u2550\u2550\u2550\u2550\u2550\u2550\u2550\u2550\u2550\u2550\u2550\u2550\u2550\u2550\u2550\u2550\u2550\u2550\u2550\u2550\u2550\u2550\u2550\u2550\u2550\u2550\u2550\u2550\u2550\u2550\u2550\u2550\u2550\u2550\u2550\u2550\u2550\u2550\u2550\u2550\u2550\u2550\u2550\u2550\u2550\u2550\u2550\u2550\u2550\u2550\u2550\u2550\u2550\u2550\u2550\u2550\u2550\u2550\u2561\n\u2502 seed              \u2502 None                                                                                   \u2502\n\u251c\u2500\u2500\u2500\u2500\u2500\u2500\u2500\u2500\u2500\u2500\ufffd\ufffd\u2500\u2500\u2500\u2500\u2500\u2500\u2500\u2500\u253c\u2500\u2500\u2500\u2500\u2500\u2500\u2500\u2500\u2500\u2500\u2500\u2500\u2500\u2500\u2500\u2500\u2500\u2500\u2500\u2500\u2500\u2500\u2500\u2500\u2500\u2500\u2500\u2500\u2500\u2500\u2500\u2500\u2500\u2500\u2500\u2500\u2500\u2500\u2500\u2500\u2500\u2500\u2500\u2500\u2500\u2500\u2500\u2500\u2500\u2500\u2500\u2500\u2500\u2500\u2500\u2500\u2500\u2500\u2500\u2500\u2500\u2500\u2500\u2500\u2500\u2500\u2500\u2500\u2500\u2500\u2500\u2500\u2500\u2500\u2500\u2500\u2500\u2500\u2500\u2500\u2500\u2500\u2500\u2500\u2500\u2500\u2500\u2500\u2524\n\u2502 output_dir        \u2502 '/var/lib/simon/agent_run_states/siim-covid19-detection-20250925-205912/yolox_outputs' \u2502\n\u251c\u2500\u2500\u2500\u2500\u2500\u2500\u2500\u2500\u2500\u2500\u2500\u2500\u2500\u2500\u2500\u2500\u2500\u2500\u2500\u253c\u2500\u2500\u2500\u2500\u2500\u2500\u2500\u2500\u2500\u2500\u2500\u2500\u2500\u2500\u2500\u2500\u2500\u2500\u2500\u2500\u2500\u2500\u2500\u2500\u2500\u2500\u2500\u2500\u2500\u2500\u2500\u2500\u2500\u2500\u2500\u2500\u2500\u2500\u2500\u2500\u2500\u2500\u2500\u2500\u2500\u2500\u2500\u2500\u2500\u2500\u2500\u2500\u2500\u2500\u2500\u2500\u2500\u2500\u2500\u2500\u2500\u2500\u2500\u2500\u2500\u2500\u2500\u2500\u2500\u2500\u2500\u2500\u2500\u2500\u2500\u2500\u2500\u2500\u2500\u2500\u2500\u2500\u2500\u2500\u2500\u2500\u2500\u2500\u2524\n\u2502 print_interval    \u2502 10                                                                                     \u2502\n\u251c\u2500\u2500\u2500\u2500\u2500\u2500\u2500\u2500\u2500\u2500\u2500\u2500\u2500\u2500\u2500\u2500\u2500\u2500\u2500\u253c\u2500\u2500\u2500\u2500\u2500\u2500\u2500\u2500\u2500\u2500\u2500\u2500\u2500\u2500\u2500\u2500\u2500\u2500\u2500\u2500\u2500\u2500\u2500\u2500\u2500\ufffd\ufffd\ufffd\u2500\u2500\u2500\u2500\u2500\u2500\u2500\u2500\u2500\u2500\u2500\u2500\u2500\u2500\u2500\u2500\u2500\u2500\u2500\u2500\u2500\u2500\u2500\u2500\u2500\u2500\u2500\u2500\u2500\u2500\u2500\u2500\u2500\u2500\u2500\u2500\u2500\u2500\u2500\u2500\u2500\u2500\u2500\u2500\u2500\u2500\u2500\u2500\u2500\u2500\u2500\u2500\u2500\u2500\u2500\u2500\u2500\u2500\u2500\u2500\u2500\u2500\u2524\n\u2502 eval_interval     \u2502 1                                                                                      \u2502\n\u251c\u2500\u2500\u2500\u2500\u2500\u2500\u2500\u2500\u2500\u2500\u2500\u2500\u2500\u2500\u2500\u2500\u2500\u2500\u2500\u253c\u2500\u2500\u2500\u2500\u2500\u2500\u2500\u2500\u2500\u2500\u2500\u2500\u2500\u2500\u2500\u2500\u2500\u2500\u2500\u2500\u2500\u2500\u2500\u2500\u2500\u2500\u2500\u2500\u2500\u2500\u2500\u2500\u2500\u2500\u2500\u2500\u2500\u2500\u2500\u2500\u2500\u2500\u2500\u2500\u2500\u2500\u2500\u2500\u2500\u2500\u2500\u2500\u2500\u2500\u2500\u2500\u2500\u2500\u2500\u2500\u2500\u2500\u2500\u2500\u2500\u2500\u2500\u2500\u2500\u2500\u2500\u2500\u2500\u2500\u2500\u2500\u2500\u2500\u2500\u2500\u2500\u2500\u2500\u2500\u2500\u2500\u2500\u2500\u2524\n\u2502 dataset           \u2502 None                                                                                   \u2502\n\u251c\u2500\u2500\u2500\u2500\u2500\u2500\u2500\u2500\u2500\u2500\u2500\u2500\u2500\u2500\u2500\u2500\u2500\u2500\u2500\u253c\u2500\u2500\u2500\u2500\u2500\u2500\u2500\u2500\u2500\u2500\u2500\u2500\u2500\u2500\u2500\u2500\u2500\u2500\u2500\u2500\u2500\u2500\u2500\u2500\u2500\u2500\u2500\u2500\u2500\u2500\u2500\u2500\u2500\u2500\u2500\u2500\u2500\u2500\u2500\u2500\u2500\u2500\u2500\u2500\u2500\u2500\u2500\u2500\u2500\u2500\u2500\u2500\u2500\u2500\u2500\u2500\u2500\u2500\u2500\u2500\u2500\u2500\u2500\u2500\u2500\u2500\u2500\u2500\u2500\u2500\u2500\u2500\u2500\u2500\u2500\u2500\u2500\u2500\u2500\u2500\u2500\u2500\u2500\u2500\u2500\u2500\u2500\u2500\u2524\n\u2502 num_classes       \u2502 1                                                                                      \u2502\n\u251c\u2500\u2500\u2500\u2500\u2500\u2500\u2500\u2500\u2500\u2500\u2500\u2500\u2500\u2500\u2500\u2500\u2500\u2500\u2500\u253c\u2500\u2500\u2500\u2500\u2500\u2500\u2500\u2500\u2500\u2500\u2500\u2500\u2500\u2500\u2500\u2500\u2500\u2500\u2500\u2500\u2500\u2500\u2500\u2500\u2500\u2500\u2500\u2500\u2500\u2500\u2500\u2500\u2500\u2500\u2500\u2500\u2500\u2500\u2500\u2500\u2500\u2500\u2500\u2500\u2500\u2500\u2500\u2500\u2500\u2500\u2500\u2500\u2500\u2500\u2500\u2500\u2500\u2500\u2500\u2500\u2500\u2500\u2500\u2500\u2500\u2500\u2500\u2500\u2500\u2500\u2500\u2500\u2500\u2500\u2500\u2500\u2500\u2500\u2500\u2500\u2500\u2500\u2500\u2500\u2500\u2500\u2500\u2500\u2524\n\u2502 depth             \u2502 0.67                                                                                   \u2502\n\u251c\u2500\u2500\u2500\u2500\u2500\u2500\u2500\u2500\u2500\u2500\u2500\u2500\u2500\u2500\u2500\u2500\u2500\u2500\u2500\u253c\u2500\u2500\u2500\u2500\u2500\u2500\u2500\u2500\u2500\u2500\u2500\u2500\u2500\u2500\u2500\u2500\u2500\u2500\u2500\u2500\u2500\u2500\u2500\u2500\u2500\u2500\u2500\u2500\u2500\u2500\u2500\u2500\u2500\u2500\u2500\u2500\u2500\u2500\u2500\u2500\u2500\u2500\u2500\u2500\u2500\u2500\u2500\u2500\u2500\u2500\u2500\u2500\u2500\u2500\u2500\u2500\u2500\u2500\u2500\u2500\u2500\u2500\u2500\u2500\u2500\u2500\u2500\u2500\u2500\u2500\u2500\u2500\u2500\u2500\u2500\u2500\u2500\u2500\u2500\u2500\u2500\u2500\u2500\u2500\u2500\u2500\u2500\u2500\u2524\n\u2502 width             \u2502 0.75                                                                                   \u2502\n\u251c\u2500\u2500\u2500\u2500\u2500\u2500\u2500\u2500\u2500\u2500\u2500\u2500\u2500\u2500\u2500\u2500\u2500\u2500\u2500\u253c\u2500\u2500\u2500\u2500\u2500\u2500\u2500\u2500\u2500\u2500\u2500\u2500\u2500\u2500\u2500\u2500\u2500\u2500\u2500\u2500\u2500\u2500\u2500\u2500\u2500\u2500\u2500\u2500\u2500\u2500\u2500\u2500\u2500\u2500\u2500\u2500\u2500\u2500\u2500\u2500\u2500\u2500\u2500\u2500\u2500\u2500\u2500\u2500\u2500\u2500\u2500\u2500\u2500\u2500\u2500\u2500\u2500\u2500\u2500\u2500\u2500\u2500\u2500\u2500\u2500\u2500\u2500\u2500\u2500\u2500\u2500\u2500\u2500\u2500\u2500\u2500\u2500\u2500\u2500\u2500\u2500\u2500\u2500\u2500\u2500\u2500\u2500\u2500\u2524\n\u2502 act               \u2502 'silu'                                                                                 \u2502\n\u251c\u2500\u2500\u2500\u2500\u2500\u2500\u2500\u2500\u2500\u2500\u2500\u2500\u2500\u2500\u2500\u2500\u2500\u2500\u2500\u253c\u2500\u2500\u2500\u2500\u2500\u2500\u2500\u2500\u2500\u2500\u2500\u2500\u2500\u2500\u2500\u2500\u2500\u2500\u2500\u2500\u2500\u2500\u2500\u2500\u2500\u2500\u2500\u2500\u2500\u2500\u2500\u2500\u2500\u2500\u2500\u2500\u2500\u2500\u2500\u2500\u2500\u2500\u2500\u2500\u2500\u2500\u2500\u2500\u2500\u2500\u2500\u2500\u2500\u2500\u2500\u2500\u2500\u2500\u2500\u2500\u2500\u2500\u2500\u2500\u2500\u2500\u2500\u2500\u2500\u2500\u2500\u2500\u2500\u2500\u2500\u2500\u2500\u2500\u2500\u2500\u2500\u2500\u2500\u2500\u2500\u2500\u2500\u2500\u2524\n\u2502 data_num_workers  \u2502 2                                                                                      \u2502\n\u251c\u2500\u2500\u2500\u2500\u2500\u2500\u2500\u2500\u2500\u2500\u2500\u2500\u2500\u2500\u2500\u2500\u2500\u2500\u2500\u253c\u2500\u2500\u2500\u2500\u2500\u2500\u2500\u2500\u2500\u2500\u2500\u2500\u2500\u2500\u2500\u2500\u2500\u2500\u2500\u2500\u2500\u2500\u2500\u2500\u2500\u2500\u2500\u2500\u2500\u2500\u2500\u2500\u2500\u2500\u2500\u2500\u2500\u2500\u2500\u2500\u2500\u2500\u2500\u2500\u2500\u2500\u2500\u2500\u2500\u2500\u2500\u2500\u2500\u2500\u2500\u2500\u2500\u2500\u2500\u2500\u2500\u2500\u2500\u2500\u2500\u2500\u2500\u2500\u2500\u2500\u2500\u2500\u2500\u2500\u2500\u2500\u2500\u2500\u2500\u2500\u2500\u2500\u2500\u2500\u2500\u2500\u2500\u2500\u2524\n\u2502 input_size        \u2502 (640, 640)                                                                             \u2502\n\u251c\u2500\u2500\u2500\u2500\u2500\u2500\u2500\u2500\u2500\u2500\u2500\u2500\u2500\u2500\u2500\u2500\u2500\u2500\u2500\u253c\u2500\u2500\u2500\u2500\u2500\u2500\u2500\u2500\u2500\u2500\u2500\u2500\u2500\u2500\u2500\u2500\u2500\u2500\u2500\u2500\u2500\u2500\u2500\u2500\u2500\u2500\u2500\u2500\u2500\u2500\u2500\u2500\u2500\u2500\u2500\u2500\u2500\u2500\u2500\u2500\u2500\u2500\u2500\u2500\u2500\u2500\u2500\u2500\u2500\u2500\u2500\u2500\u2500\u2500\u2500\u2500\u2500\u2500\u2500\u2500\u2500\u2500\u2500\u2500\u2500\u2500\u2500\u2500\u2500\u2500\u2500\u2500\u2500\u2500\u2500\u2500\u2500\u2500\u2500\u2500\u2500\u2500\u2500\u2500\u2500\u2500\u2500\u2500\u2524\n\u2502 multiscale_range  \u2502 5                                                                                      \u2502\n\u251c\u2500\u2500\u2500\u2500\u2500\u2500\u2500\u2500\u2500\u2500\u2500\u2500\u2500\u2500\u2500\u2500\u2500\u2500\u2500\u253c\u2500\u2500\u2500\u2500\u2500\u2500\u2500\u2500\u2500\u2500\u2500\u2500\u2500\u2500\ufffd\ufffd\u2500\u2500\u2500\u2500\u2500\u2500\u2500\u2500\u2500\u2500\u2500\u2500\u2500\u2500\u2500\u2500\u2500\u2500\u2500\u2500\u2500\u2500\u2500\u2500\u2500\u2500\u2500\u2500\u2500\u2500\u2500\u2500\u2500\u2500\u2500\u2500\u2500\u2500\u2500\u2500\u2500\u2500\u2500\u2500\u2500\u2500\u2500\u2500\u2500\u2500\u2500\u2500\u2500\u2500\u2500\u2500\u2500\u2500\u2500\u2500\u2500\u2500\u2500\u2500\u2500\u2500\u2500\u2500\u2500\u2500\u2500\u2500\u2500\u2524\n\u2502 data_dir          \u2502 '/var/lib/simon/agent_run_states/siim-covid19-detection-20250925-205912/yolox_data'    \u2502\n\u251c\u2500\u2500\u2500\u2500\u2500\u2500\u2500\u2500\u2500\u2500\u2500\u2500\u2500\u2500\u2500\u2500\u2500\u2500\u2500\u253c\u2500\u2500\u2500\u2500\u2500\u2500\u2500\u2500\u2500\u2500\u2500\u2500\u2500\u2500\u2500\u2500\u2500\u2500\u2500\u2500\u2500\u2500\u2500\u2500\u2500\u2500\u2500\u2500\u2500\u2500\u2500\u2500\u2500\u2500\u2500\u2500\u2500\u2500\u2500\u2500\u2500\u2500\u2500\u2500\u2500\u2500\u2500\u2500\u2500\u2500\u2500\u2500\u2500\u2500\u2500\u2500\u2500\u2500\u2500\u2500\u2500\u2500\u2500\u2500\u2500\u2500\u2500\u2500\u2500\u2500\u2500\u2500\u2500\u2500\u2500\u2500\u2500\u2500\u2500\u2500\u2500\u2500\u2500\u2500\u2500\u2500\u2500\u2500\u2524\n\u2502 train_ann         \u2502 'instances_fold0_train.json'                                                           \u2502\n\u251c\u2500\u2500\u2500\u2500\u2500\u2500\u2500\u2500\u2500\u2500\u2500\u2500\u2500\u2500\u2500\u2500\u2500\u2500\u2500\u253c\u2500\u2500\u2500\u2500\u2500\u2500\u2500\u2500\u2500\u2500\u2500\u2500\u2500\u2500\u2500\u2500\u2500\u2500\u2500\u2500\u2500\u2500\u2500\u2500\u2500\u2500\u2500\u2500\u2500\u2500\u2500\u2500\u2500\u2500\u2500\u2500\u2500\u2500\u2500\u2500\u2500\u2500\u2500\u2500\u2500\u2500\u2500\u2500\u2500\ufffd\ufffd\ufffd\u2500\u2500\u2500\u2500\u2500\u2500\u2500\u2500\u2500\u2500\u2500\u2500\u2500\u2500\u2500\u2500\u2500\u2500\u2500\u2500\u2500\u2500\u2500\u2500\u2500\u2500\u2500\u2500\u2500\u2500\u2500\u2500\u2500\u2500\u2500\u2500\u2500\u2500\u2524\n\u2502 val_ann           \u2502 'instances_fold0_val.json'                                                             \u2502\n\u251c\u2500\u2500\u2500\u2500\u2500\u2500\u2500\u2500\u2500\u2500\u2500\u2500\u2500\u2500\u2500\u2500\u2500\u2500\u2500\u253c\u2500\u2500\u2500\u2500\u2500\u2500\u2500\u2500\u2500\u2500\u2500\u2500\u2500\u2500\u2500\u2500\u2500\u2500\u2500\u2500\u2500\u2500\u2500\u2500\u2500\u2500\u2500\u2500\u2500\u2500\u2500\u2500\u2500\u2500\u2500\u2500\u2500\u2500\u2500\u2500\u2500\u2500\u2500\u2500\u2500\u2500\u2500\u2500\u2500\u2500\u2500\u2500\u2500\u2500\u2500\u2500\u2500\u2500\u2500\u2500\u2500\u2500\u2500\u2500\u2500\u2500\u2500\u2500\u2500\u2500\u2500\u2500\u2500\u2500\u2500\u2500\u2500\u2500\u2500\u2500\u2500\u2500\u2500\u2500\u2500\u2500\u2500\u2500\u2524\n\u2502 test_ann          \u2502 'instances_fold0_val.json'                                                             \u2502\n\u251c\u2500\u2500\u2500\u2500\u2500\u2500\u2500\u2500\u2500\u2500\u2500\u2500\u2500\u2500\u2500\u2500\u2500\u2500\u2500\u253c\u2500\u2500\u2500\u2500\u2500\u2500\u2500\u2500\u2500\u2500\u2500\u2500\u2500\u2500\u2500\u2500\u2500\u2500\u2500\u2500\u2500\u2500\u2500\u2500\u2500\u2500\u2500\u2500\u2500\u2500\u2500\u2500\u2500\u2500\u2500\u2500\u2500\u2500\u2500\u2500\u2500\u2500\u2500\u2500\u2500\u2500\u2500\u2500\u2500\u2500\u2500\u2500\u2500\u2500\u2500\u2500\u2500\u2500\u2500\u2500\u2500\u2500\u2500\u2500\u2500\u2500\u2500\u2500\u2500\u2500\u2500\u2500\u2500\u2500\u2500\u2500\u2500\u2500\u2500\u2500\u2500\u2500\u2500\u2500\u2500\u2500\u2500\u2500\u2524\n\u2502 mosaic_prob       \u2502 0.0                                                                                    \u2502\n\u251c\u2500\u2500\u2500\u2500\u2500\u2500\u2500\u2500\u2500\u2500\u2500\u2500\u2500\u2500\u2500\u2500\u2500\u2500\u2500\u253c\u2500\u2500\u2500\u2500\u2500\u2500\u2500\u2500\u2500\u2500\u2500\u2500\u2500\u2500\u2500\u2500\u2500\u2500\u2500\u2500\u2500\u2500\u2500\u2500\u2500\u2500\u2500\u2500\u2500\u2500\u2500\u2500\u2500\u2500\u2500\u2500\u2500\u2500\u2500\u2500\u2500\u2500\u2500\u2500\u2500\u2500\u2500\u2500\u2500\u2500\u2500\u2500\u2500\u2500\u2500\u2500\u2500\u2500\u2500\u2500\u2500\u2500\u2500\u2500\u2500\u2500\u2500\u2500\u2500\u2500\u2500\u2500\u2500\u2500\u2500\u2500\u2500\u2500\u2500\u2500\u2500\u2500\u2500\u2500\u2500\u2500\u2500\u2500\u2524\n\u2502 mixup_prob        \u2502 0.0                                                                                    \u2502\n\u251c\u2500\u2500\u2500\u2500\u2500\u2500\u2500\u2500\u2500\u2500\u2500\u2500\u2500\u2500\u2500\u2500\u2500\u2500\u2500\u253c\u2500\u2500\u2500\u2500\u2500\u2500\u2500\u2500\u2500\u2500\u2500\u2500\u2500\u2500\u2500\u2500\u2500\u2500\u2500\u2500\u2500\u2500\u2500\u2500\u2500\u2500\u2500\u2500\u2500\u2500\u2500\u2500\u2500\u2500\u2500\u2500\u2500\u2500\u2500\u2500\u2500\u2500\u2500\u2500\u2500\u2500\u2500\u2500\u2500\u2500\u2500\u2500\u2500\u2500\u2500\u2500\u2500\u2500\u2500\u2500\u2500\u2500\u2500\u2500\u2500\u2500\u2500\u2500\u2500\u2500\u2500\u2500\u2500\u2500\u2500\u2500\u2500\u2500\u2500\u2500\u2500\u2500\u2500\u2500\u2500\u2500\u2500\u2500\u2524\n\u2502 hsv_prob          \u2502 1.0                                                                                    \u2502\n\u251c\u2500\u2500\u2500\u2500\u2500\u2500\u2500\u2500\u2500\u2500\u2500\u2500\u2500\u2500\u2500\u2500\u2500\u2500\u2500\u253c\u2500\u2500\u2500\u2500\u2500\u2500\u2500\u2500\u2500\u2500\u2500\u2500\u2500\u2500\u2500\u2500\u2500\u2500\u2500\u2500\u2500\u2500\u2500\u2500\u2500\u2500\u2500\u2500\u2500\u2500\u2500\u2500\u2500\u2500\u2500\u2500\u2500\u2500\u2500\u2500\u2500\u2500\u2500\u2500\u2500\u2500\u2500\u2500\u2500\u2500\u2500\u2500\u2500\u2500\u2500\u2500\u2500\u2500\u2500\u2500\u2500\u2500\u2500\u2500\u2500\u2500\u2500\u2500\u2500\u2500\u2500\u2500\u2500\u2500\u2500\u2500\u2500\u2500\u2500\u2500\u2500\u2500\u2500\u2500\u2500\u2500\u2500\u2500\u2524\n\u2502 flip_prob         \u2502 0.5                                                                                    \u2502\n\u251c\u2500\u2500\u2500\u2500\u2500\u2500\u2500\u2500\u2500\u2500\u2500\u2500\u2500\u2500\u2500\u2500\u2500\u2500\u2500\u253c\u2500\u2500\u2500\u2500\u2500\u2500\u2500\u2500\u2500\u2500\u2500\u2500\u2500\u2500\u2500\u2500\u2500\u2500\u2500\u2500\u2500\u2500\u2500\u2500\u2500\u2500\u2500\u2500\u2500\u2500\u2500\u2500\u2500\u2500\u2500\u2500\u2500\u2500\u2500\u2500\u2500\u2500\u2500\u2500\u2500\u2500\u2500\u2500\u2500\u2500\u2500\u2500\u2500\u2500\u2500\u2500\u2500\u2500\u2500\u2500\u2500\u2500\u2500\u2500\u2500\u2500\u2500\u2500\u2500\u2500\u2500\u2500\u2500\u2500\u2500\u2500\u2500\u2500\u2500\u2500\u2500\u2500\u2500\u2500\u2500\u2500\u2500\u2500\u2524\n\u2502 degrees           \u2502 10.0                                                                                   \u2502\n\u251c\u2500\u2500\u2500\u2500\u2500\u2500\u2500\u2500\u2500\u2500\u2500\u2500\u2500\u2500\u2500\u2500\u2500\u2500\u2500\u253c\u2500\u2500\u2500\u2500\u2500\u2500\u2500\u2500\u2500\u2500\u2500\u2500\u2500\u2500\u2500\u2500\u2500\u2500\u2500\u2500\u2500\u2500\u2500\u2500\u2500\u2500\u2500\u2500\u2500\u2500\u2500\u2500\u2500\u2500\u2500\u2500\u2500\u2500\u2500\u2500\u2500\u2500\u2500\u2500\u2500\u2500\u2500\u2500\u2500\u2500\u2500\u2500\u2500\u2500\u2500\u2500\u2500\u2500\u2500\u2500\u2500\u2500\u2500\u2500\u2500\u2500\u2500\u2500\u2500\u2500\u2500\u2500\u2500\u2500\u2500\u2500\u2500\u2500\u2500\u2500\u2500\u2500\u2500\u2500\u2500\u2500\u2500\u2500\u2524\n\u2502 translate         \u2502 0.1                                                                                    \u2502\n\u251c\u2500\u2500\u2500\u2500\u2500\u2500\u2500\u2500\u2500\u2500\u2500\u2500\u2500\u2500\u2500\u2500\u2500\u2500\u2500\u253c\u2500\u2500\u2500\u2500\u2500\u2500\u2500\u2500\u2500\u2500\u2500\u2500\u2500\u2500\u2500\u2500\u2500\u2500\u2500\u2500\u2500\u2500\u2500\u2500\u2500\u2500\u2500\u2500\u2500\u2500\u2500\u2500\u2500\u2500\u2500\u2500\u2500\u2500\u2500\u2500\u2500\u2500\u2500\u2500\u2500\u2500\u2500\u2500\u2500\u2500\u2500\u2500\u2500\u2500\u2500\u2500\u2500\u2500\u2500\u2500\u2500\u2500\u2500\u2500\u2500\u2500\u2500\u2500\u2500\u2500\u2500\u2500\u2500\u2500\u2500\u2500\u2500\u2500\u2500\u2500\u2500\u2500\u2500\u2500\u2500\u2500\u2500\u2500\u2524\n\u2502 mosaic_scale      \u2502 (0.1, 2)                                                                               \u2502\n\u251c\u2500\u2500\u2500\u2500\u2500\u2500\u2500\u2500\u2500\u2500\u2500\u2500\u2500\u2500\u2500\u2500\u2500\u2500\u2500\u253c\u2500\u2500\u2500\u2500\u2500\u2500\u2500\u2500\u2500\u2500\u2500\u2500\u2500\u2500\u2500\u2500\u2500\u2500\u2500\u2500\u2500\u2500\u2500\u2500\u2500\u2500\u2500\u2500\u2500\u2500\u2500\u2500\u2500\u2500\u2500\u2500\u2500\u2500\ufffd\ufffd\u2500\u2500\u2500\u2500\u2500\u2500\u2500\u2500\u2500\u2500\u2500\u2500\u2500\u2500\u2500\u2500\u2500\u2500\u2500\u2500\u2500\u2500\u2500\u2500\u2500\u2500\u2500\u2500\u2500\u2500\u2500\u2500\u2500\u2500\u2500\u2500\u2500\u2500\u2500\u2500\u2500\u2500\u2500\u2500\u2500\u2500\u2500\u2500\u2500\u2524\n\u2502 enable_mixup      \u2502 False                                                                                  \u2502\n\u251c\u2500\u2500\u2500\u2500\u2500\u2500\u2500\u2500\u2500\u2500\u2500\u2500\u2500\u2500\u2500\u2500\u2500\u2500\u2500\u253c\u2500\u2500\u2500\u2500\u2500\u2500\u2500\u2500\u2500\u2500\u2500\u2500\u2500\u2500\u2500\u2500\u2500\u2500\u2500\u2500\u2500\u2500\u2500\u2500\u2500\u2500\u2500\u2500\u2500\u2500\u2500\u2500\u2500\u2500\u2500\u2500\u2500\u2500\u2500\u2500\u2500\u2500\u2500\u2500\u2500\u2500\u2500\u2500\u2500\u2500\u2500\u2500\u2500\u2500\u2500\u2500\u2500\u2500\u2500\u2500\u2500\u2500\u2500\u2500\u2500\u2500\u2500\u2500\u2500\u2500\u2500\u2500\u2500\u2500\u2500\u2500\u2500\u2500\u2500\u2500\u2500\u2500\u2500\u2500\u2500\u2500\u2500\u2500\u2524\n\u2502 mixup_scale       \u2502 (0.5, 1.5)                                                                             \u2502\n\u251c\u2500\u2500\u2500\u2500\u2500\u2500\u2500\u2500\u2500\u2500\u2500\u2500\u2500\u2500\u2500\u2500\u2500\u2500\u2500\u253c\u2500\u2500\u2500\u2500\u2500\u2500\u2500\u2500\u2500\u2500\u2500\u2500\u2500\u2500\u2500\u2500\u2500\u2500\u2500\u2500\u2500\u2500\u2500\u2500\u2500\u2500\u2500\u2500\u2500\u2500\u2500\u2500\u2500\u2500\u2500\u2500\u2500\u2500\u2500\u2500\u2500\u2500\u2500\u2500\u2500\u2500\u2500\u2500\u2500\u2500\u2500\u2500\u2500\u2500\u2500\u2500\u2500\u2500\u2500\u2500\u2500\u2500\u2500\u2500\u2500\u2500\u2500\u2500\u2500\u2500\u2500\u2500\u2500\ufffd\ufffd\ufffd\u2500\u2500\u2500\u2500\u2500\u2500\u2500\u2500\u2500\u2500\u2500\u2500\u2500\u2500\u2524\n\u2502 shear             \u2502 2.0                                                                                    \u2502\n\u251c\u2500\u2500\u2500\u2500\u2500\u2500\u2500\u2500\u2500\u2500\u2500\u2500\u2500\u2500\u2500\u2500\u2500\u2500\u2500\u253c\u2500\u2500\u2500\u2500\u2500\u2500\u2500\u2500\u2500\u2500\u2500\u2500\u2500\u2500\u2500\u2500\u2500\u2500\u2500\u2500\u2500\u2500\u2500\u2500\u2500\u2500\u2500\u2500\u2500\u2500\u2500\u2500\u2500\u2500\u2500\u2500\u2500\u2500\u2500\u2500\u2500\u2500\u2500\u2500\u2500\u2500\u2500\u2500\u2500\u2500\u2500\u2500\u2500\u2500\u2500\u2500\u2500\u2500\u2500\u2500\u2500\u2500\u2500\u2500\u2500\u2500\u2500\u2500\u2500\u2500\u2500\u2500\u2500\u2500\u2500\u2500\u2500\u2500\u2500\u2500\u2500\u2500\u2500\u2500\u2500\u2500\u2500\u2500\u2524\n\u2502 warmup_epochs     \u2502 1                                                                                      \u2502\n\u251c\u2500\u2500\u2500\u2500\u2500\u2500\u2500\u2500\u2500\u2500\u2500\u2500\u2500\u2500\u2500\u2500\u2500\u2500\u2500\u253c\u2500\u2500\u2500\u2500\u2500\u2500\u2500\u2500\u2500\u2500\u2500\u2500\u2500\u2500\u2500\u2500\u2500\u2500\u2500\u2500\u2500\u2500\u2500\u2500\u2500\u2500\u2500\u2500\u2500\u2500\u2500\u2500\u2500\u2500\u2500\u2500\u2500\u2500\u2500\u2500\u2500\u2500\u2500\u2500\u2500\u2500\u2500\u2500\u2500\u2500\u2500\u2500\u2500\u2500\u2500\u2500\u2500\u2500\u2500\u2500\u2500\u2500\u2500\u2500\u2500\u2500\u2500\u2500\u2500\u2500\u2500\u2500\u2500\u2500\u2500\u2500\u2500\u2500\u2500\u2500\u2500\u2500\u2500\u2500\u2500\u2500\u2500\u2500\u2524\n\u2502 max_epoch         \u2502 2                                                                                      \u2502\n\u251c\u2500\u2500\u2500\u2500\u2500\u2500\u2500\u2500\u2500\u2500\u2500\u2500\u2500\u2500\u2500\u2500\u2500\u2500\u2500\u253c\u2500\u2500\u2500\u2500\u2500\u2500\u2500\u2500\u2500\u2500\u2500\u2500\u2500\u2500\u2500\u2500\u2500\u2500\u2500\u2500\u2500\u2500\u2500\u2500\u2500\u2500\u2500\u2500\u2500\u2500\u2500\u2500\u2500\u2500\u2500\u2500\u2500\u2500\u2500\u2500\u2500\u2500\u2500\u2500\u2500\u2500\u2500\u2500\u2500\u2500\u2500\u2500\u2500\u2500\u2500\u2500\u2500\u2500\u2500\u2500\u2500\u2500\u2500\u2500\u2500\u2500\u2500\u2500\u2500\u2500\u2500\u2500\u2500\u2500\u2500\u2500\u2500\u2500\u2500\u2500\u2500\u2500\u2500\u2500\u2500\u2500\u2500\u2500\u2524\n\u2502 warmup_lr         \u2502 0                                                                                      \u2502\n\u251c\u2500\u2500\u2500\u2500\u2500\u2500\u2500\u2500\u2500\u2500\u2500\u2500\u2500\u2500\u2500\u2500\u2500\u2500\u2500\u253c\u2500\u2500\u2500\u2500\u2500\u2500\u2500\u2500\u2500\u2500\u2500\u2500\u2500\u2500\u2500\u2500\u2500\u2500\u2500\u2500\u2500\u2500\u2500\u2500\u2500\u2500\u2500\u2500\u2500\u2500\u2500\u2500\u2500\u2500\u2500\u2500\u2500\u2500\u2500\u2500\u2500\u2500\u2500\u2500\u2500\u2500\u2500\u2500\u2500\u2500\u2500\u2500\u2500\u2500\u2500\u2500\u2500\u2500\u2500\u2500\u2500\u2500\u2500\u2500\u2500\u2500\u2500\u2500\u2500\u2500\u2500\u2500\u2500\u2500\u2500\u2500\u2500\u2500\u2500\u2500\u2500\u2500\u2500\u2500\u2500\u2500\u2500\u2500\u2524\n\u2502 min_lr_ratio      \u2502 0.05                                                                                   \u2502\n\u251c\u2500\u2500\u2500\u2500\u2500\u2500\u2500\u2500\u2500\u2500\u2500\u2500\u2500\ufffd\ufffd\ufffd\u2500\u2500\u2500\u2500\u2500\u253c\u2500\u2500\u2500\u2500\u2500\u2500\u2500\u2500\u2500\u2500\u2500\u2500\u2500\u2500\u2500\u2500\u2500\u2500\u2500\u2500\u2500\u2500\u2500\u2500\u2500\u2500\u2500\u2500\u2500\u2500\u2500\u2500\u2500\u2500\u2500\u2500\u2500\u2500\u2500\u2500\u2500\u2500\u2500\u2500\u2500\u2500\u2500\u2500\u2500\u2500\u2500\u2500\u2500\u2500\u2500\u2500\u2500\u2500\u2500\u2500\u2500\u2500\u2500\u2500\u2500\u2500\u2500\u2500\u2500\u2500\u2500\u2500\u2500\u2500\u2500\u2500\u2500\u2500\u2500\u2500\u2500\u2500\u2500\u2500\u2500\u2500\u2500\u2500\u2524\n\u2502 basic_lr_per_img  \u2502 0.00015625                                                                             \u2502\n\u251c\u2500\u2500\u2500\u2500\u2500\u2500\u2500\u2500\u2500\u2500\u2500\u2500\u2500\u2500\u2500\u2500\u2500\u2500\u2500\u253c\u2500\u2500\u2500\u2500\u2500\u2500\u2500\u2500\u2500\u2500\u2500\u2500\u2500\u2500\u2500\u2500\u2500\u2500\u2500\u2500\u2500\u2500\u2500\u2500\u2500\u2500\u2500\u2500\u2500\u2500\u2500\u2500\u2500\u2500\u2500\u2500\u2500\u2500\u2500\u2500\u2500\u2500\u2500\u2500\u2500\u2500\u2500\u2500\u2500\u2500\u2500\u2500\u2500\u2500\u2500\u2500\u2500\u2500\u2500\u2500\u2500\u2500\u2500\u2500\u2500\u2500\u2500\u2500\u2500\u2500\u2500\u2500\u2500\u2500\u2500\u2500\u2500\u2500\u2500\u2500\u2500\u2500\u2500\u2500\u2500\u2500\u2500\u2500\u2524\n\u2502 scheduler         \u2502 'yoloxwarmcos'                                                                         \u2502\n\u251c\u2500\u2500\u2500\u2500\u2500\u2500\u2500\u2500\u2500\u2500\u2500\u2500\u2500\u2500\u2500\u2500\u2500\u2500\u2500\u253c\u2500\u2500\u2500\u2500\u2500\u2500\u2500\u2500\u2500\u2500\u2500\u2500\u2500\u2500\u2500\u2500\u2500\u2500\u2500\u2500\u2500\u2500\u2500\u2500\u2500\u2500\u2500\u2500\u2500\u2500\u2500\u2500\u2500\u2500\u2500\u2500\u2500\u2500\u2500\u2500\u2500\u2500\u2500\u2500\u2500\u2500\u2500\u2500\u2500\u2500\u2500\u2500\u2500\u2500\u2500\u2500\u2500\u2500\u2500\u2500\u2500\u2500\u2500\u2500\u2500\u2500\u2500\u2500\u2500\u2500\u2500\u2500\u2500\u2500\u2500\u2500\u2500\u2500\u2500\u2500\u2500\u2500\u2500\u2500\u2500\u2500\u2500\u2500\u2524\n\u2502 no_aug_epochs     \u2502 5                                                                                      \u2502\n\u251c\u2500\u2500\u2500\u2500\u2500\u2500\u2500\u2500\u2500\u2500\u2500\u2500\u2500\u2500\u2500\u2500\u2500\u2500\u2500\u253c\u2500\u2500\u2500\u2500\u2500\u2500\u2500\u2500\u2500\u2500\u2500\u2500\u2500\u2500\u2500\u2500\u2500\u2500\u2500\u2500\u2500\u2500\u2500\u2500\u2500\u2500\u2500\u2500\u2500\u2500\u2500\u2500\u2500\u2500\u2500\u2500\u2500\u2500\u2500\u2500\u2500\u2500\u2500\u2500\u2500\u2500\u2500\u2500\u2500\u2500\u2500\u2500\u2500\u2500\u2500\u2500\u2500\u2500\u2500\u2500\u2500\u2500\u2500\u2500\u2500\u2500\u2500\u2500\u2500\u2500\u2500\u2500\u2500\u2500\u2500\u2500\u2500\u2500\u2500\u2500\u2500\u2500\u2500\u2500\u2500\u2500\u2500\u2500\u2524\n\u2502 ema               \u2502 True                                                                                   \u2502\n\u251c\u2500\u2500\u2500\u2500\u2500\u2500\u2500\u2500\u2500\u2500\u2500\u2500\u2500\u2500\u2500\u2500\u2500\u2500\u2500\u253c\u2500\u2500\u2500\u2500\u2500\u2500\u2500\u2500\u2500\u2500\u2500\u2500\u2500\u2500\u2500\u2500\u2500\u2500\u2500\u2500\u2500\u2500\u2500\u2500\u2500\u2500\u2500\u2500\u2500\u2500\u2500\u2500\u2500\u2500\u2500\u2500\u2500\u2500\u2500\u2500\u2500\u2500\u2500\u2500\u2500\u2500\u2500\u2500\u2500\u2500\u2500\u2500\u2500\u2500\u2500\u2500\u2500\u2500\u2500\u2500\u2500\u2500\ufffd\ufffd\u2500\u2500\u2500\u2500\u2500\u2500\u2500\u2500\u2500\u2500\u2500\u2500\u2500\u2500\u2500\u2500\u2500\u2500\u2500\u2500\u2500\u2500\u2500\u2500\u2500\u2524\n\u2502 weight_decay      \u2502 0.0005                                                                                 \u2502\n\u251c\u2500\u2500\u2500\u2500\u2500\u2500\u2500\u2500\u2500\u2500\u2500\u2500\u2500\u2500\u2500\u2500\u2500\u2500\u2500\u253c\u2500\u2500\u2500\u2500\u2500\u2500\u2500\u2500\u2500\u2500\u2500\u2500\u2500\u2500\u2500\u2500\u2500\u2500\u2500\u2500\u2500\u2500\u2500\u2500\u2500\u2500\u2500\u2500\u2500\u2500\u2500\u2500\u2500\u2500\u2500\u2500\u2500\u2500\u2500\u2500\u2500\u2500\u2500\u2500\u2500\u2500\u2500\u2500\u2500\u2500\u2500\u2500\u2500\u2500\u2500\u2500\u2500\u2500\u2500\u2500\u2500\u2500\u2500\u2500\u2500\u2500\u2500\u2500\u2500\u2500\u2500\u2500\u2500\u2500\u2500\u2500\u2500\u2500\u2500\u2500\u2500\u2500\u2500\u2500\u2500\u2500\u2500\u2500\u2524\n\u2502 momentum          \u2502 0.9                                                                                    \u2502\n\u251c\u2500\u2500\u2500\u2500\u2500\u2500\u2500\u2500\u2500\u2500\u2500\u2500\u2500\u2500\u2500\u2500\u2500\u2500\u2500\u253c\u2500\u2500\u2500\u2500\u2500\u2500\u2500\u2500\u2500\u2500\u2500\u2500\u2500\u2500\u2500\u2500\u2500\u2500\u2500\u2500\u2500\u2500\u2500\u2500\u2500\u2500\u2500\u2500\u2500\u2500\u2500\u2500\u2500\u2500\u2500\u2500\u2500\u2500\u2500\u2500\u2500\u2500\u2500\u2500\u2500\u2500\u2500\u2500\u2500\u2500\u2500\u2500\u2500\u2500\u2500\u2500\u2500\u2500\u2500\u2500\u2500\u2500\u2500\u2500\u2500\u2500\u2500\u2500\u2500\u2500\u2500\u2500\u2500\u2500\u2500\u2500\u2500\u2500\u2500\u2500\u2500\u2500\u2500\u2500\u2500\u2500\u2500\u2500\u2524\n\u2502 save_history_ckpt \ufffd\ufffd True                                                                                   \u2502\n\u251c\u2500\u2500\u2500\u2500\u2500\u2500\u2500\u2500\u2500\u2500\u2500\u2500\u2500\u2500\u2500\u2500\u2500\u2500\u2500\u253c\u2500\u2500\u2500\u2500\u2500\u2500\u2500\u2500\u2500\u2500\u2500\u2500\u2500\u2500\u2500\u2500\u2500\u2500\u2500\u2500\u2500\u2500\u2500\u2500\u2500\u2500\u2500\u2500\u2500\u2500\u2500\u2500\u2500\u2500\u2500\u2500\u2500\u2500\u2500\u2500\u2500\u2500\u2500\u2500\u2500\u2500\u2500\u2500\u2500\u2500\u2500\u2500\u2500\u2500\u2500\u2500\u2500\u2500\u2500\u2500\u2500\u2500\u2500\u2500\u2500\u2500\u2500\u2500\u2500\u2500\u2500\u2500\u2500\u2500\u2500\u2500\u2500\u2500\u2500\u2500\u2500\u2500\u2500\u2500\u2500\u2500\u2500\u2500\u2524\n\u2502 exp_name          \u2502 'yolox_m_fold_0'                                                                       \u2502\n\u251c\u2500\u2500\u2500\u2500\u2500\u2500\u2500\u2500\u2500\u2500\u2500\u2500\u2500\u2500\u2500\u2500\u2500\u2500\u2500\u253c\u2500\u2500\u2500\u2500\u2500\u2500\u2500\u2500\u2500\u2500\u2500\u2500\u2500\u2500\u2500\u2500\u2500\u2500\u2500\u2500\u2500\u2500\u2500\u2500\u2500\u2500\u2500\u2500\u2500\u2500\u2500\u2500\u2500\u2500\u2500\u2500\u2500\u2500\u2500\u2500\u2500\u2500\u2500\u2500\u2500\u2500\u2500\u2500\u2500\u2500\u2500\u2500\u2500\u2500\u2500\u2500\u2500\u2500\u2500\u2500\u2500\u2500\u2500\u2500\u2500\u2500\u2500\u2500\u2500\u2500\u2500\u2500\u2500\u2500\u2500\u2500\u2500\u2500\u2500\u2500\u2500\u2500\u2500\u2500\u2500\u2500\u2500\u2500\u2524\n\u2502 test_size         \u2502 (640, 640)                                                                             \u2502\n\u251c\u2500\u2500\ufffd\ufffd\u2500\u2500\u2500\u2500\u2500\u2500\u2500\u2500\u2500\u2500\u2500\u2500\u2500\u2500\u2500\u2500\u253c\u2500\u2500\u2500\u2500\u2500\u2500\u2500\u2500\u2500\u2500\u2500\u2500\u2500\u2500\u2500\u2500\u2500\u2500\u2500\u2500\u2500\u2500\u2500\u2500\u2500\u2500\u2500\u2500\u2500\u2500\u2500\u2500\u2500\u2500\u2500\u2500\u2500\u2500\u2500\u2500\u2500\u2500\u2500\u2500\u2500\u2500\u2500\u2500\u2500\u2500\u2500\u2500\u2500\u2500\u2500\u2500\u2500\u2500\u2500\u2500\u2500\u2500\u2500\u2500\u2500\u2500\u2500\u2500\u2500\u2500\u2500\u2500\u2500\u2500\u2500\u2500\u2500\u2500\u2500\u2500\u2500\u2500\u2500\u2500\u2500\u2500\u2500\u2500\u2524\n\u2502 test_conf         \u2502 0.01                                                                                   \u2502\n\u251c\u2500\u2500\u2500\u2500\u2500\u2500\u2500\u2500\u2500\u2500\u2500\u2500\u2500\u2500\u2500\u2500\u2500\u2500\u2500\u253c\u2500\u2500\u2500\u2500\u2500\u2500\u2500\u2500\u2500\u2500\u2500\u2500\u2500\u2500\u2500\u2500\u2500\u2500\u2500\u2500\u2500\u2500\u2500\u2500\u2500\u2500\u2500\u2500\u2500\u2500\u2500\u2500\u2500\u2500\u2500\u2500\u2500\u2500\u2500\u2500\u2500\u2500\u2500\u2500\u2500\u2500\u2500\u2500\u2500\u2500\u2500\u2500\u2500\u2500\u2500\u2500\u2500\u2500\u2500\u2500\u2500\u2500\u2500\u2500\u2500\u2500\u2500\u2500\u2500\u2500\u2500\u2500\u2500\u2500\u2500\u2500\u2500\u2500\u2500\u2500\u2500\u2500\u2500\u2500\u2500\u2500\u2500\u2500\u2524\n\u2502 nmsthre           \u2502 0.65                                                                                   \u2502\n\u2558\u2550\u2550\u2550\u2550\u2550\u2550\u2550\u2550\u2550\u2550\u2550\u2550\u2550\u2550\u2550\u2550\u2550\u2550\u2550\u2567\u2550\u2550\u2550\u2550\u2550\u2550\u2550\u2550\u2550\u2550\u2550\u2550\u2550\u2550\u2550\u2550\u2550\ufffd\ufffd\ufffd\u2550\u2550\u2550\u2550\u2550\u2550\u2550\u2550\u2550\u2550\u2550\u2550\u2550\u2550\u2550\u2550\u2550\u2550\u2550\u2550\u2550\u2550\u2550\u2550\u2550\u2550\u2550\u2550\u2550\u2550\u2550\u2550\u2550\u2550\u2550\u2550\u2550\u2550\u2550\u2550\u2550\u2550\u2550\u2550\u2550\u2550\u2550\u2550\u2550\u2550\u2550\u2550\u2550\u2550\u2550\u2550\u2550\u2550\u2550\u2550\u2550\u2550\u2550\u2550\u2550\u2550\u2550\u2550\u2550\u2550\u255b\n"
          ]
        },
        {
          "output_type": "stream",
          "name": "stderr",
          "text": [
            "2025-09-26 18:17:53 | INFO     | yolox.core.trainer:138 - Model Summary: Params: 25.28M, Gflops: 73.73\n2025-09-26 18:17:53 | INFO     | yolox.core.trainer:338 - loading checkpoint for fine tuning\n"
          ]
        },
        {
          "output_type": "stream",
          "name": "stderr",
          "text": [
            "2025-09-26 18:17:53 | WARNING  | yolox.utils.checkpoint:24 - Shape of head.cls_preds.0.weight in checkpoint is torch.Size([80, 192, 1, 1]), while shape of head.cls_preds.0.weight in model is torch.Size([1, 192, 1, 1]).\n2025-09-26 18:17:53 | WARNING  | yolox.utils.checkpoint:24 - Shape of head.cls_preds.0.bias in checkpoint is torch.Size([80]), while shape of head.cls_preds.0.bias in model is torch.Size([1]).\n2025-09-26 18:17:53 | WARNING  | yolox.utils.checkpoint:24 - Shape of head.cls_preds.1.weight in checkpoint is torch.Size([80, 192, 1, 1]), while shape of head.cls_preds.1.weight in model is torch.Size([1, 192, 1, 1]).\n2025-09-26 18:17:53 | WARNING  | yolox.utils.checkpoint:24 - Shape of head.cls_preds.1.bias in checkpoint is torch.Size([80]), while shape of head.cls_preds.1.bias in model is torch.Size([1]).\n2025-09-26 18:17:53 | WARNING  | yolox.utils.checkpoint:24 - Shape of head.cls_preds.2.weight in checkpoint is torch.Size([80, 192, 1, 1]), while shape of head.cls_preds.2.weight in model is torch.Size([1, 192, 1, 1]).\n2025-09-26 18:17:53 | WARNING  | yolox.utils.checkpoint:24 - Shape of head.cls_preds.2.bias in checkpoint is torch.Size([80]), while shape of head.cls_preds.2.bias in model is torch.Size([1]).\n2025-09-26 18:17:53 | INFO     | yolox.data.datasets.coco:63 - loading annotations into memory...\n2025-09-26 18:17:53 | INFO     | yolox.data.datasets.coco:63 - Done (t=0.01s)\n2025-09-26 18:17:53 | INFO     | pycocotools.coco:86 - creating index...\n2025-09-26 18:17:53 | INFO     | pycocotools.coco:86 - index created!\n2025-09-26 18:17:53 | INFO     | yolox.core.trainer:157 - init prefetcher, this might take one minute or less...\n"
          ]
        },
        {
          "output_type": "stream",
          "name": "stderr",
          "text": [
            "2025-09-26 18:17:55 | INFO     | yolox.data.datasets.coco:63 - loading annotations into memory...\n2025-09-26 18:17:55 | INFO     | yolox.data.datasets.coco:63 - Done (t=0.00s)\n2025-09-26 18:17:55 | INFO     | pycocotools.coco:86 - creating index...\n2025-09-26 18:17:55 | INFO     | pycocotools.coco:86 - index created!\n2025-09-26 18:17:55 | INFO     | yolox.core.trainer:196 - Training start...\n2025-09-26 18:17:55 | INFO     | yolox.core.trainer:197 - \nYOLOX(\n  (backbone): YOLOPAFPN(\n    (backbone): CSPDarknet(\n      (stem): Focus(\n        (conv): BaseConv(\n          (conv): Conv2d(12, 48, kernel_size=(3, 3), stride=(1, 1), padding=(1, 1), bias=False)\n          (bn): BatchNorm2d(48, eps=0.001, momentum=0.03, affine=True, track_running_stats=True)\n          (act): SiLU(inplace=True)\n        )\n      )\n      (dark2): Sequential(\n        (0): BaseConv(\n          (conv): Conv2d(48, 96, kernel_size=(3, 3), stride=(2, 2), padding=(1, 1), bias=False)\n          (bn): BatchNorm2d(96, eps=0.001, momentum=0.03, affine=True, track_running_stats=True)\n          (act): SiLU(inplace=True)\n        )\n        (1): CSPLayer(\n          (conv1): BaseConv(\n            (conv): Conv2d(96, 48, kernel_size=(1, 1), stride=(1, 1), bias=False)\n            (bn): BatchNorm2d(48, eps=0.001, momentum=0.03, affine=True, track_running_stats=True)\n            (act): SiLU(inplace=True)\n          )\n          (conv2): BaseConv(\n            (conv): Conv2d(96, 48, kernel_size=(1, 1), stride=(1, 1), bias=False)\n            (bn): BatchNorm2d(48, eps=0.001, momentum=0.03, affine=True, track_running_stats=True)\n            (act): SiLU(inplace=True)\n          )\n          (conv3): BaseConv(\n            (conv): Conv2d(96, 96, kernel_size=(1, 1), stride=(1, 1), bias=False)\n            (bn): BatchNorm2d(96, eps=0.001, momentum=0.03, affine=True, track_running_stats=True)\n            (act): SiLU(inplace=True)\n          )\n          (m): Sequential(\n            (0): Bottleneck(\n              (conv1): BaseConv(\n                (conv): Conv2d(48, 48, kernel_size=(1, 1), stride=(1, 1), bias=False)\n                (bn): BatchNorm2d(48, eps=0.001, momentum=0.03, affine=True, track_running_stats=True)\n                (act): SiLU(inplace=True)\n              )\n              (conv2): BaseConv(\n                (conv): Conv2d(48, 48, kernel_size=(3, 3), stride=(1, 1), padding=(1, 1), bias=False)\n                (bn): BatchNorm2d(48, eps=0.001, momentum=0.03, affine=True, track_running_stats=True)\n                (act): SiLU(inplace=True)\n              )\n            )\n            (1): Bottleneck(\n              (conv1): BaseConv(\n                (conv): Conv2d(48, 48, kernel_size=(1, 1), stride=(1, 1), bias=False)\n                (bn): BatchNorm2d(48, eps=0.001, momentum=0.03, affine=True, track_running_stats=True)\n                (act): SiLU(inplace=True)\n              )\n              (conv2): BaseConv(\n                (conv): Conv2d(48, 48, kernel_size=(3, 3), stride=(1, 1), padding=(1, 1), bias=False)\n                (bn): BatchNorm2d(48, eps=0.001, momentum=0.03, affine=True, track_running_stats=True)\n                (act): SiLU(inplace=True)\n              )\n            )\n          )\n        )\n      )\n      (dark3): Sequential(\n        (0): BaseConv(\n          (conv): Conv2d(96, 192, kernel_size=(3, 3), stride=(2, 2), padding=(1, 1), bias=False)\n          (bn): BatchNorm2d(192, eps=0.001, momentum=0.03, affine=True, track_running_stats=True)\n          (act): SiLU(inplace=True)\n        )\n        (1): CSPLayer(\n          (conv1): BaseConv(\n            (conv): Conv2d(192, 96, kernel_size=(1, 1), stride=(1, 1), bias=False)\n            (bn): BatchNorm2d(96, eps=0.001, momentum=0.03, affine=True, track_running_stats=True)\n            (act): SiLU(inplace=True)\n          )\n          (conv2): BaseConv(\n            (conv): Conv2d(192, 96, kernel_size=(1, 1), stride=(1, 1), bias=False)\n            (bn): BatchNorm2d(96, eps=0.001, momentum=0.03, affine=True, track_running_stats=True)\n            (act): SiLU(inplace=True)\n          )\n          (conv3): BaseConv(\n            (conv): Conv2d(192, 192, kernel_size=(1, 1), stride=(1, 1), bias=False)\n            (bn): BatchNorm2d(192, eps=0.001, momentum=0.03, affine=True, track_running_stats=True)\n            (act): SiLU(inplace=True)\n          )\n          (m): Sequential(\n            (0): Bottleneck(\n              (conv1): BaseConv(\n                (conv): Conv2d(96, 96, kernel_size=(1, 1), stride=(1, 1), bias=False)\n                (bn): BatchNorm2d(96, eps=0.001, momentum=0.03, affine=True, track_running_stats=True)\n                (act): SiLU(inplace=True)\n              )\n              (conv2): BaseConv(\n                (conv): Conv2d(96, 96, kernel_size=(3, 3), stride=(1, 1), padding=(1, 1), bias=False)\n                (bn): BatchNorm2d(96, eps=0.001, momentum=0.03, affine=True, track_running_stats=True)\n                (act): SiLU(inplace=True)\n              )\n            )\n            (1): Bottleneck(\n              (conv1): BaseConv(\n                (conv): Conv2d(96, 96, kernel_size=(1, 1), stride=(1, 1), bias=False)\n                (bn): BatchNorm2d(96, eps=0.001, momentum=0.03, affine=True, track_running_stats=True)\n                (act): SiLU(inplace=True)\n              )\n              (conv2): BaseConv(\n                (conv): Conv2d(96, 96, kernel_size=(3, 3), stride=(1, 1), padding=(1, 1), bias=False)\n                (bn): BatchNorm2d(96, eps=0.001, momentum=0.03, affine=True, track_running_stats=True)\n                (act): SiLU(inplace=True)\n              )\n            )\n            (2): Bottleneck(\n              (conv1): BaseConv(\n                (conv): Conv2d(96, 96, kernel_size=(1, 1), stride=(1, 1), bias=False)\n                (bn): BatchNorm2d(96, eps=0.001, momentum=0.03, affine=True, track_running_stats=True)\n                (act): SiLU(inplace=True)\n              )\n              (conv2): BaseConv(\n                (conv): Conv2d(96, 96, kernel_size=(3, 3), stride=(1, 1), padding=(1, 1), bias=False)\n                (bn): BatchNorm2d(96, eps=0.001, momentum=0.03, affine=True, track_running_stats=True)\n                (act): SiLU(inplace=True)\n              )\n            )\n            (3): Bottleneck(\n              (conv1): BaseConv(\n                (conv): Conv2d(96, 96, kernel_size=(1, 1), stride=(1, 1), bias=False)\n                (bn): BatchNorm2d(96, eps=0.001, momentum=0.03, affine=True, track_running_stats=True)\n                (act): SiLU(inplace=True)\n              )\n              (conv2): BaseConv(\n                (conv): Conv2d(96, 96, kernel_size=(3, 3), stride=(1, 1), padding=(1, 1), bias=False)\n                (bn): BatchNorm2d(96, eps=0.001, momentum=0.03, affine=True, track_running_stats=True)\n                (act): SiLU(inplace=True)\n              )\n            )\n            (4): Bottleneck(\n              (conv1): BaseConv(\n                (conv): Conv2d(96, 96, kernel_size=(1, 1), stride=(1, 1), bias=False)\n                (bn): BatchNorm2d(96, eps=0.001, momentum=0.03, affine=True, track_running_stats=True)\n                (act): SiLU(inplace=True)\n              )\n              (conv2): BaseConv(\n                (conv): Conv2d(96, 96, kernel_size=(3, 3), stride=(1, 1), padding=(1, 1), bias=False)\n                (bn): BatchNorm2d(96, eps=0.001, momentum=0.03, affine=True, track_running_stats=True)\n                (act): SiLU(inplace=True)\n              )\n            )\n            (5): Bottleneck(\n              (conv1): BaseConv(\n                (conv): Conv2d(96, 96, kernel_size=(1, 1), stride=(1, 1), bias=False)\n                (bn): BatchNorm2d(96, eps=0.001, momentum=0.03, affine=True, track_running_stats=True)\n                (act): SiLU(inplace=True)\n              )\n              (conv2): BaseConv(\n                (conv): Conv2d(96, 96, kernel_size=(3, 3), stride=(1, 1), padding=(1, 1), bias=False)\n                (bn): BatchNorm2d(96, eps=0.001, momentum=0.03, affine=True, track_running_stats=True)\n                (act): SiLU(inplace=True)\n              )\n            )\n          )\n        )\n      )\n      (dark4): Sequential(\n        (0): BaseConv(\n          (conv): Conv2d(192, 384, kernel_size=(3, 3), stride=(2, 2), padding=(1, 1), bias=False)\n          (bn): BatchNorm2d(384, eps=0.001, momentum=0.03, affine=True, track_running_stats=True)\n          (act): SiLU(inplace=True)\n        )\n        (1): CSPLayer(\n          (conv1): BaseConv(\n            (conv): Conv2d(384, 192, kernel_size=(1, 1), stride=(1, 1), bias=False)\n            (bn): BatchNorm2d(192, eps=0.001, momentum=0.03, affine=True, track_running_stats=True)\n            (act): SiLU(inplace=True)\n          )\n          (conv2): BaseConv(\n            (conv): Conv2d(384, 192, kernel_size=(1, 1), stride=(1, 1), bias=False)\n            (bn): BatchNorm2d(192, eps=0.001, momentum=0.03, affine=True, track_running_stats=True)\n            (act): SiLU(inplace=True)\n          )\n          (conv3): BaseConv(\n            (conv): Conv2d(384, 384, kernel_size=(1, 1), stride=(1, 1), bias=False)\n            (bn): BatchNorm2d(384, eps=0.001, momentum=0.03, affine=True, track_running_stats=True)\n            (act): SiLU(inplace=True)\n          )\n          (m): Sequential(\n            (0): Bottleneck(\n              (conv1): BaseConv(\n                (conv): Conv2d(192, 192, kernel_size=(1, 1), stride=(1, 1), bias=False)\n                (bn): BatchNorm2d(192, eps=0.001, momentum=0.03, affine=True, track_running_stats=True)\n                (act): SiLU(inplace=True)\n              )\n              (conv2): BaseConv(\n                (conv): Conv2d(192, 192, kernel_size=(3, 3), stride=(1, 1), padding=(1, 1), bias=False)\n                (bn): BatchNorm2d(192, eps=0.001, momentum=0.03, affine=True, track_running_stats=True)\n                (act): SiLU(inplace=True)\n              )\n            )\n            (1): Bottleneck(\n              (conv1): BaseConv(\n                (conv): Conv2d(192, 192, kernel_size=(1, 1), stride=(1, 1), bias=False)\n                (bn): BatchNorm2d(192, eps=0.001, momentum=0.03, affine=True, track_running_stats=True)\n                (act): SiLU(inplace=True)\n              )\n              (conv2): BaseConv(\n                (conv): Conv2d(192, 192, kernel_size=(3, 3), stride=(1, 1), padding=(1, 1), bias=False)\n                (bn): BatchNorm2d(192, eps=0.001, momentum=0.03, affine=True, track_running_stats=True)\n                (act): SiLU(inplace=True)\n              )\n            )\n            (2): Bottleneck(\n              (conv1): BaseConv(\n                (conv): Conv2d(192, 192, kernel_size=(1, 1), stride=(1, 1), bias=False)\n                (bn): BatchNorm2d(192, eps=0.001, momentum=0.03, affine=True, track_running_stats=True)\n                (act): SiLU(inplace=True)\n              )\n              (conv2): BaseConv(\n                (conv): Conv2d(192, 192, kernel_size=(3, 3), stride=(1, 1), padding=(1, 1), bias=False)\n                (bn): BatchNorm2d(192, eps=0.001, momentum=0.03, affine=True, track_running_stats=True)\n                (act): SiLU(inplace=True)\n              )\n            )\n            (3): Bottleneck(\n              (conv1): BaseConv(\n                (conv): Conv2d(192, 192, kernel_size=(1, 1), stride=(1, 1), bias=False)\n                (bn): BatchNorm2d(192, eps=0.001, momentum=0.03, affine=True, track_running_stats=True)\n                (act): SiLU(inplace=True)\n              )\n              (conv2): BaseConv(\n                (conv): Conv2d(192, 192, kernel_size=(3, 3), stride=(1, 1), padding=(1, 1), bias=False)\n                (bn): BatchNorm2d(192, eps=0.001, momentum=0.03, affine=True, track_running_stats=True)\n                (act): SiLU(inplace=True)\n              )\n            )\n            (4): Bottleneck(\n              (conv1): BaseConv(\n                (conv): Conv2d(192, 192, kernel_size=(1, 1), stride=(1, 1), bias=False)\n                (bn): BatchNorm2d(192, eps=0.001, momentum=0.03, affine=True, track_running_stats=True)\n                (act): SiLU(inplace=True)\n              )\n              (conv2): BaseConv(\n                (conv): Conv2d(192, 192, kernel_size=(3, 3), stride=(1, 1), padding=(1, 1), bias=False)\n                (bn): BatchNorm2d(192, eps=0.001, momentum=0.03, affine=True, track_running_stats=True)\n                (act): SiLU(inplace=True)\n              )\n            )\n            (5): Bottleneck(\n              (conv1): BaseConv(\n                (conv): Conv2d(192, 192, kernel_size=(1, 1), stride=(1, 1), bias=False)\n                (bn): BatchNorm2d(192, eps=0.001, momentum=0.03, affine=True, track_running_stats=True)\n                (act): SiLU(inplace=True)\n              )\n              (conv2): BaseConv(\n                (conv): Conv2d(192, 192, kernel_size=(3, 3), stride=(1, 1), padding=(1, 1), bias=False)\n                (bn): BatchNorm2d(192, eps=0.001, momentum=0.03, affine=True, track_running_stats=True)\n                (act): SiLU(inplace=True)\n              )\n            )\n          )\n        )\n      )\n      (dark5): Sequential(\n        (0): BaseConv(\n          (conv): Conv2d(384, 768, kernel_size=(3, 3), stride=(2, 2), padding=(1, 1), bias=False)\n          (bn): BatchNorm2d(768, eps=0.001, momentum=0.03, affine=True, track_running_stats=True)\n          (act): SiLU(inplace=True)\n        )\n        (1): SPPBottleneck(\n          (conv1): BaseConv(\n            (conv): Conv2d(768, 384, kernel_size=(1, 1), stride=(1, 1), bias=False)\n            (bn): BatchNorm2d(384, eps=0.001, momentum=0.03, affine=True, track_running_stats=True)\n            (act): SiLU(inplace=True)\n          )\n          (m): ModuleList(\n            (0): MaxPool2d(kernel_size=5, stride=1, padding=2, dilation=1, ceil_mode=False)\n            (1): MaxPool2d(kernel_size=9, stride=1, padding=4, dilation=1, ceil_mode=False)\n            (2): MaxPool2d(kernel_size=13, stride=1, padding=6, dilation=1, ceil_mode=False)\n          )\n          (conv2): BaseConv(\n            (conv): Conv2d(1536, 768, kernel_size=(1, 1), stride=(1, 1), bias=False)\n            (bn): BatchNorm2d(768, eps=0.001, momentum=0.03, affine=True, track_running_stats=True)\n            (act): SiLU(inplace=True)\n          )\n        )\n        (2): CSPLayer(\n          (conv1): BaseConv(\n            (conv): Conv2d(768, 384, kernel_size=(1, 1), stride=(1, 1), bias=False)\n            (bn): BatchNorm2d(384, eps=0.001, momentum=0.03, affine=True, track_running_stats=True)\n            (act): SiLU(inplace=True)\n          )\n          (conv2): BaseConv(\n            (conv): Conv2d(768, 384, kernel_size=(1, 1), stride=(1, 1), bias=False)\n            (bn): BatchNorm2d(384, eps=0.001, momentum=0.03, affine=True, track_running_stats=True)\n            (act): SiLU(inplace=True)\n          )\n          (conv3): BaseConv(\n            (conv): Conv2d(768, 768, kernel_size=(1, 1), stride=(1, 1), bias=False)\n            (bn): BatchNorm2d(768, eps=0.001, momentum=0.03, affine=True, track_running_stats=True)\n            (act): SiLU(inplace=True)\n          )\n          (m): Sequential(\n            (0): Bottleneck(\n              (conv1): BaseConv(\n                (conv): Conv2d(384, 384, kernel_size=(1, 1), stride=(1, 1), bias=False)\n                (bn): BatchNorm2d(384, eps=0.001, momentum=0.03, affine=True, track_running_stats=True)\n                (act): SiLU(inplace=True)\n              )\n              (conv2): BaseConv(\n                (conv): Conv2d(384, 384, kernel_size=(3, 3), stride=(1, 1), padding=(1, 1), bias=False)\n                (bn): BatchNorm2d(384, eps=0.001, momentum=0.03, affine=True, track_running_stats=True)\n                (act): SiLU(inplace=True)\n              )\n            )\n            (1): Bottleneck(\n              (conv1): BaseConv(\n                (conv): Conv2d(384, 384, kernel_size=(1, 1), stride=(1, 1), bias=False)\n                (bn): BatchNorm2d(384, eps=0.001, momentum=0.03, affine=True, track_running_stats=True)\n                (act): SiLU(inplace=True)\n              )\n              (conv2): BaseConv(\n                (conv): Conv2d(384, 384, kernel_size=(3, 3), stride=(1, 1), padding=(1, 1), bias=False)\n                (bn): BatchNorm2d(384, eps=0.001, momentum=0.03, affine=True, track_running_stats=True)\n                (act): SiLU(inplace=True)\n              )\n            )\n          )\n        )\n      )\n    )\n    (upsample): Upsample(scale_factor=2.0, mode='nearest')\n    (lateral_conv0): BaseConv(\n      (conv): Conv2d(768, 384, kernel_size=(1, 1), stride=(1, 1), bias=False)\n      (bn): BatchNorm2d(384, eps=0.001, momentum=0.03, affine=True, track_running_stats=True)\n      (act): SiLU(inplace=True)\n    )\n    (C3_p4): CSPLayer(\n      (conv1): BaseConv(\n        (conv): Conv2d(768, 192, kernel_size=(1, 1), stride=(1, 1), bias=False)\n        (bn): BatchNorm2d(192, eps=0.001, momentum=0.03, affine=True, track_running_stats=True)\n        (act): SiLU(inplace=True)\n      )\n      (conv2): BaseConv(\n        (conv): Conv2d(768, 192, kernel_size=(1, 1), stride=(1, 1), bias=False)\n        (bn): BatchNorm2d(192, eps=0.001, momentum=0.03, affine=True, track_running_stats=True)\n        (act): SiLU(inplace=True)\n      )\n      (conv3): BaseConv(\n        (conv): Conv2d(384, 384, kernel_size=(1, 1), stride=(1, 1), bias=False)\n        (bn): BatchNorm2d(384, eps=0.001, momentum=0.03, affine=True, track_running_stats=True)\n        (act): SiLU(inplace=True)\n      )\n      (m): Sequential(\n        (0): Bottleneck(\n          (conv1): BaseConv(\n            (conv): Conv2d(192, 192, kernel_size=(1, 1), stride=(1, 1), bias=False)\n            (bn): BatchNorm2d(192, eps=0.001, momentum=0.03, affine=True, track_running_stats=True)\n            (act): SiLU(inplace=True)\n          )\n          (conv2): BaseConv(\n            (conv): Conv2d(192, 192, kernel_size=(3, 3), stride=(1, 1), padding=(1, 1), bias=False)\n            (bn): BatchNorm2d(192, eps=0.001, momentum=0.03, affine=True, track_running_stats=True)\n            (act): SiLU(inplace=True)\n          )\n        )\n        (1): Bottleneck(\n          (conv1): BaseConv(\n            (conv): Conv2d(192, 192, kernel_size=(1, 1), stride=(1, 1), bias=False)\n            (bn): BatchNorm2d(192, eps=0.001, momentum=0.03, affine=True, track_running_stats=True)\n            (act): SiLU(inplace=True)\n          )\n          (conv2): BaseConv(\n            (conv): Conv2d(192, 192, kernel_size=(3, 3), stride=(1, 1), padding=(1, 1), bias=False)\n            (bn): BatchNorm2d(192, eps=0.001, momentum=0.03, affine=True, track_running_stats=True)\n            (act): SiLU(inplace=True)\n          )\n        )\n      )\n    )\n    (reduce_conv1): BaseConv(\n      (conv): Conv2d(384, 192, kernel_size=(1, 1), stride=(1, 1), bias=False)\n      (bn): BatchNorm2d(192, eps=0.001, momentum=0.03, affine=True, track_running_stats=True)\n      (act): SiLU(inplace=True)\n    )\n    (C3_p3): CSPLayer(\n      (conv1): BaseConv(\n        (conv): Conv2d(384, 96, kernel_size=(1, 1), stride=(1, 1), bias=False)\n        (bn): BatchNorm2d(96, eps=0.001, momentum=0.03, affine=True, track_running_stats=True)\n        (act): SiLU(inplace=True)\n      )\n      (conv2): BaseConv(\n        (conv): Conv2d(384, 96, kernel_size=(1, 1), stride=(1, 1), bias=False)\n        (bn): BatchNorm2d(96, eps=0.001, momentum=0.03, affine=True, track_running_stats=True)\n        (act): SiLU(inplace=True)\n      )\n      (conv3): BaseConv(\n        (conv): Conv2d(192, 192, kernel_size=(1, 1), stride=(1, 1), bias=False)\n        (bn): BatchNorm2d(192, eps=0.001, momentum=0.03, affine=True, track_running_stats=True)\n        (act): SiLU(inplace=True)\n      )\n      (m): Sequential(\n        (0): Bottleneck(\n          (conv1): BaseConv(\n            (conv): Conv2d(96, 96, kernel_size=(1, 1), stride=(1, 1), bias=False)\n            (bn): BatchNorm2d(96, eps=0.001, momentum=0.03, affine=True, track_running_stats=True)\n            (act): SiLU(inplace=True)\n          )\n          (conv2): BaseConv(\n            (conv): Conv2d(96, 96, kernel_size=(3, 3), stride=(1, 1), padding=(1, 1), bias=False)\n            (bn): BatchNorm2d(96, eps=0.001, momentum=0.03, affine=True, track_running_stats=True)\n            (act): SiLU(inplace=True)\n          )\n        )\n        (1): Bottleneck(\n          (conv1): BaseConv(\n            (conv): Conv2d(96, 96, kernel_size=(1, 1), stride=(1, 1), bias=False)\n            (bn): BatchNorm2d(96, eps=0.001, momentum=0.03, affine=True, track_running_stats=True)\n            (act): SiLU(inplace=True)\n          )\n          (conv2): BaseConv(\n            (conv): Conv2d(96, 96, kernel_size=(3, 3), stride=(1, 1), padding=(1, 1), bias=False)\n            (bn): BatchNorm2d(96, eps=0.001, momentum=0.03, affine=True, track_running_stats=True)\n            (act): SiLU(inplace=True)\n          )\n        )\n      )\n    )\n    (bu_conv2): BaseConv(\n      (conv): Conv2d(192, 192, kernel_size=(3, 3), stride=(2, 2), padding=(1, 1), bias=False)\n      (bn): BatchNorm2d(192, eps=0.001, momentum=0.03, affine=True, track_running_stats=True)\n      (act): SiLU(inplace=True)\n    )\n    (C3_n3): CSPLayer(\n      (conv1): BaseConv(\n        (conv): Conv2d(384, 192, kernel_size=(1, 1), stride=(1, 1), bias=False)\n        (bn): BatchNorm2d(192, eps=0.001, momentum=0.03, affine=True, track_running_stats=True)\n        (act): SiLU(inplace=True)\n      )\n      (conv2): BaseConv(\n        (conv): Conv2d(384, 192, kernel_size=(1, 1), stride=(1, 1), bias=False)\n        (bn): BatchNorm2d(192, eps=0.001, momentum=0.03, affine=True, track_running_stats=True)\n        (act): SiLU(inplace=True)\n      )\n      (conv3): BaseConv(\n        (conv): Conv2d(384, 384, kernel_size=(1, 1), stride=(1, 1), bias=False)\n        (bn): BatchNorm2d(384, eps=0.001, momentum=0.03, affine=True, track_running_stats=True)\n        (act): SiLU(inplace=True)\n      )\n      (m): Sequential(\n        (0): Bottleneck(\n          (conv1): BaseConv(\n            (conv): Conv2d(192, 192, kernel_size=(1, 1), stride=(1, 1), bias=False)\n            (bn): BatchNorm2d(192, eps=0.001, momentum=0.03, affine=True, track_running_stats=True)\n            (act): SiLU(inplace=True)\n          )\n          (conv2): BaseConv(\n            (conv): Conv2d(192, 192, kernel_size=(3, 3), stride=(1, 1), padding=(1, 1), bias=False)\n            (bn): BatchNorm2d(192, eps=0.001, momentum=0.03, affine=True, track_running_stats=True)\n            (act): SiLU(inplace=True)\n          )\n        )\n        (1): Bottleneck(\n          (conv1): BaseConv(\n            (conv): Conv2d(192, 192, kernel_size=(1, 1), stride=(1, 1), bias=False)\n            (bn): BatchNorm2d(192, eps=0.001, momentum=0.03, affine=True, track_running_stats=True)\n            (act): SiLU(inplace=True)\n          )\n          (conv2): BaseConv(\n            (conv): Conv2d(192, 192, kernel_size=(3, 3), stride=(1, 1), padding=(1, 1), bias=False)\n            (bn): BatchNorm2d(192, eps=0.001, momentum=0.03, affine=True, track_running_stats=True)\n            (act): SiLU(inplace=True)\n          )\n        )\n      )\n    )\n    (bu_conv1): BaseConv(\n      (conv): Conv2d(384, 384, kernel_size=(3, 3), stride=(2, 2), padding=(1, 1), bias=False)\n      (bn): BatchNorm2d(384, eps=0.001, momentum=0.03, affine=True, track_running_stats=True)\n      (act): SiLU(inplace=True)\n    )\n    (C3_n4): CSPLayer(\n      (conv1): BaseConv(\n        (conv): Conv2d(768, 384, kernel_size=(1, 1), stride=(1, 1), bias=False)\n        (bn): BatchNorm2d(384, eps=0.001, momentum=0.03, affine=True, track_running_stats=True)\n        (act): SiLU(inplace=True)\n      )\n      (conv2): BaseConv(\n        (conv): Conv2d(768, 384, kernel_size=(1, 1), stride=(1, 1), bias=False)\n        (bn): BatchNorm2d(384, eps=0.001, momentum=0.03, affine=True, track_running_stats=True)\n        (act): SiLU(inplace=True)\n      )\n      (conv3): BaseConv(\n        (conv): Conv2d(768, 768, kernel_size=(1, 1), stride=(1, 1), bias=False)\n        (bn): BatchNorm2d(768, eps=0.001, momentum=0.03, affine=True, track_running_stats=True)\n        (act): SiLU(inplace=True)\n      )\n      (m): Sequential(\n        (0): Bottleneck(\n          (conv1): BaseConv(\n            (conv): Conv2d(384, 384, kernel_size=(1, 1), stride=(1, 1), bias=False)\n            (bn): BatchNorm2d(384, eps=0.001, momentum=0.03, affine=True, track_running_stats=True)\n            (act): SiLU(inplace=True)\n          )\n          (conv2): BaseConv(\n            (conv): Conv2d(384, 384, kernel_size=(3, 3), stride=(1, 1), padding=(1, 1), bias=False)\n            (bn): BatchNorm2d(384, eps=0.001, momentum=0.03, affine=True, track_running_stats=True)\n            (act): SiLU(inplace=True)\n          )\n        )\n        (1): Bottleneck(\n          (conv1): BaseConv(\n            (conv): Conv2d(384, 384, kernel_size=(1, 1), stride=(1, 1), bias=False)\n            (bn): BatchNorm2d(384, eps=0.001, momentum=0.03, affine=True, track_running_stats=True)\n            (act): SiLU(inplace=True)\n          )\n          (conv2): BaseConv(\n            (conv): Conv2d(384, 384, kernel_size=(3, 3), stride=(1, 1), padding=(1, 1), bias=False)\n            (bn): BatchNorm2d(384, eps=0.001, momentum=0.03, affine=True, track_running_stats=True)\n            (act): SiLU(inplace=True)\n          )\n        )\n      )\n    )\n  )\n  (head): YOLOXHead(\n    (cls_convs): ModuleList(\n      (0-2): 3 x Sequential(\n        (0): BaseConv(\n          (conv): Conv2d(192, 192, kernel_size=(3, 3), stride=(1, 1), padding=(1, 1), bias=False)\n          (bn): BatchNorm2d(192, eps=0.001, momentum=0.03, affine=True, track_running_stats=True)\n          (act): SiLU(inplace=True)\n        )\n        (1): BaseConv(\n          (conv): Conv2d(192, 192, kernel_size=(3, 3), stride=(1, 1), padding=(1, 1), bias=False)\n          (bn): BatchNorm2d(192, eps=0.001, momentum=0.03, affine=True, track_running_stats=True)\n          (act): SiLU(inplace=True)\n        )\n      )\n    )\n    (reg_convs): ModuleList(\n      (0-2): 3 x Sequential(\n        (0): BaseConv(\n          (conv): Conv2d(192, 192, kernel_size=(3, 3), stride=(1, 1), padding=(1, 1), bias=False)\n          (bn): BatchNorm2d(192, eps=0.001, momentum=0.03, affine=True, track_running_stats=True)\n          (act): SiLU(inplace=True)\n        )\n        (1): BaseConv(\n          (conv): Conv2d(192, 192, kernel_size=(3, 3), stride=(1, 1), padding=(1, 1), bias=False)\n          (bn): BatchNorm2d(192, eps=0.001, momentum=0.03, affine=True, track_running_stats=True)\n          (act): SiLU(inplace=True)\n        )\n      )\n    )\n    (cls_preds): ModuleList(\n      (0-2): 3 x Conv2d(192, 1, kernel_size=(1, 1), stride=(1, 1))\n    )\n    (reg_preds): ModuleList(\n      (0-2): 3 x Conv2d(192, 4, kernel_size=(1, 1), stride=(1, 1))\n    )\n    (obj_preds): ModuleList(\n      (0-2): 3 x Conv2d(192, 1, kernel_size=(1, 1), stride=(1, 1))\n    )\n    (stems): ModuleList(\n      (0): BaseConv(\n        (conv): Conv2d(192, 192, kernel_size=(1, 1), stride=(1, 1), bias=False)\n        (bn): BatchNorm2d(192, eps=0.001, momentum=0.03, affine=True, track_running_stats=True)\n        (act): SiLU(inplace=True)\n      )\n      (1): BaseConv(\n        (conv): Conv2d(384, 192, kernel_size=(1, 1), stride=(1, 1), bias=False)\n        (bn): BatchNorm2d(192, eps=0.001, momentum=0.03, affine=True, track_running_stats=True)\n        (act): SiLU(inplace=True)\n      )\n      (2): BaseConv(\n        (conv): Conv2d(768, 192, kernel_size=(1, 1), stride=(1, 1), bias=False)\n        (bn): BatchNorm2d(192, eps=0.001, momentum=0.03, affine=True, track_running_stats=True)\n        (act): SiLU(inplace=True)\n      )\n    )\n    (l1_loss): L1Loss()\n    (bcewithlog_loss): BCEWithLogitsLoss()\n    (iou_loss): IOUloss()\n  )\n)\n2025-09-26 18:17:55 | INFO     | yolox.core.trainer:218 - ---> start train epoch1\n2025-09-26 18:17:55 | INFO     | yolox.core.trainer:221 - --->No mosaic aug now!\n2025-09-26 18:17:55 | INFO     | yolox.core.trainer:223 - --->Add additional L1 loss now!\n"
          ]
        },
        {
          "output_type": "stream",
          "name": "stderr",
          "text": [
            "2025-09-26 18:18:15 | INFO     | yolox.core.trainer:270 - epoch: 1/2, iter: 10/285, gpu mem: 6005Mb, mem: 38.2Gb, iter_time: 1.968s, data_time: 0.272s, total_loss: 22.2, iou_loss: 3.6, l1_loss: 2.5, conf_loss: 14.1, cls_loss: 2.0, lr: 3.078e-06, size: 640, ETA: 0:18:22\n"
          ]
        },
        {
          "output_type": "stream",
          "name": "stderr",
          "text": [
            "2025-09-26 18:18:34 | INFO     | yolox.core.trainer:270 - epoch: 1/2, iter: 20/285, gpu mem: 8533Mb, mem: 38.2Gb, iter_time: 1.949s, data_time: 0.203s, total_loss: 16.1, iou_loss: 3.9, l1_loss: 2.8, conf_loss: 7.8, cls_loss: 1.5, lr: 1.231e-05, size: 768, ETA: 0:17:57\n"
          ]
        },
        {
          "output_type": "stream",
          "name": "stderr",
          "text": [
            "2025-09-26 18:18:49 | INFO     | yolox.core.trainer:270 - epoch: 1/2, iter: 30/285, gpu mem: 8533Mb, mem: 38.2Gb, iter_time: 1.521s, data_time: 0.309s, total_loss: 12.7, iou_loss: 3.7, l1_loss: 2.4, conf_loss: 5.6, cls_loss: 1.1, lr: 2.770e-05, size: 480, ETA: 0:16:18\n"
          ]
        },
        {
          "output_type": "stream",
          "name": "stderr",
          "text": [
            "2025-09-26 18:19:09 | INFO     | yolox.core.trainer:270 - epoch: 1/2, iter: 40/285, gpu mem: 8533Mb, mem: 38.4Gb, iter_time: 1.924s, data_time: 0.308s, total_loss: 11.8, iou_loss: 3.5, l1_loss: 2.1, conf_loss: 5.4, cls_loss: 0.8, lr: 4.925e-05, size: 576, ETA: 0:16:15\n"
          ]
        },
        {
          "output_type": "stream",
          "name": "stderr",
          "text": [
            "2025-09-26 18:19:28 | INFO     | yolox.core.trainer:270 - epoch: 1/2, iter: 50/285, gpu mem: 8533Mb, mem: 38.3Gb, iter_time: 1.944s, data_time: 0.218s, total_loss: 10.9, iou_loss: 3.1, l1_loss: 1.9, conf_loss: 5.0, cls_loss: 0.9, lr: 7.695e-05, size: 672, ETA: 0:16:07\n"
          ]
        },
        {
          "output_type": "stream",
          "name": "stderr",
          "text": [
            "2025-09-26 18:19:35 | INFO     | yolox.core.trainer:270 - epoch: 1/2, iter: 60/285, gpu mem: 8533Mb, mem: 38.3Gb, iter_time: 0.728s, data_time: 0.580s, total_loss: 9.9, iou_loss: 3.1, l1_loss: 1.7, conf_loss: 4.4, cls_loss: 0.7, lr: 1.108e-04, size: 480, ETA: 0:14:12\n"
          ]
        },
        {
          "output_type": "stream",
          "name": "stderr",
          "text": [
            "2025-09-26 18:19:56 | INFO     | yolox.core.trainer:270 - epoch: 1/2, iter: 70/285, gpu mem: 9223Mb, mem: 38.2Gb, iter_time: 2.015s, data_time: 0.187s, total_loss: 11.9, iou_loss: 3.4, l1_loss: 1.8, conf_loss: 6.1, cls_loss: 0.7, lr: 1.508e-04, size: 800, ETA: 0:14:20\n"
          ]
        },
        {
          "output_type": "stream",
          "name": "stderr",
          "text": [
            "2025-09-26 18:20:03 | INFO     | yolox.core.trainer:270 - epoch: 1/2, iter: 80/285, gpu mem: 9223Mb, mem: 38.2Gb, iter_time: 0.752s, data_time: 0.437s, total_loss: 11.1, iou_loss: 3.3, l1_loss: 1.8, conf_loss: 5.3, cls_loss: 0.7, lr: 1.970e-04, size: 800, ETA: 0:13:04\n"
          ]
        },
        {
          "output_type": "stream",
          "name": "stderr",
          "text": [
            "2025-09-26 18:20:10 | INFO     | yolox.core.trainer:270 - epoch: 1/2, iter: 90/285, gpu mem: 9223Mb, mem: 38.3Gb, iter_time: 0.726s, data_time: 0.482s, total_loss: 11.0, iou_loss: 3.5, l1_loss: 1.9, conf_loss: 4.9, cls_loss: 0.7, lr: 2.493e-04, size: 672, ETA: 0:12:01\n"
          ]
        },
        {
          "output_type": "stream",
          "name": "stderr",
          "text": [
            "2025-09-26 18:20:18 | INFO     | yolox.core.trainer:270 - epoch: 1/2, iter: 100/285, gpu mem: 9223Mb, mem: 38.3Gb, iter_time: 0.757s, data_time: 0.465s, total_loss: 9.5, iou_loss: 2.9, l1_loss: 1.6, conf_loss: 4.3, cls_loss: 0.7, lr: 3.078e-04, size: 768, ETA: 0:11:11\n"
          ]
        },
        {
          "output_type": "stream",
          "name": "stderr",
          "text": [
            "2025-09-26 18:20:38 | INFO     | yolox.core.trainer:270 - epoch: 1/2, iter: 110/285, gpu mem: 9223Mb, mem: 38.3Gb, iter_time: 1.975s, data_time: 0.314s, total_loss: 9.5, iou_loss: 3.1, l1_loss: 1.6, conf_loss: 4.1, cls_loss: 0.7, lr: 3.724e-04, size: 608, ETA: 0:11:19\n"
          ]
        },
        {
          "output_type": "stream",
          "name": "stderr",
          "text": [
            "2025-09-26 18:20:45 | INFO     | yolox.core.trainer:270 - epoch: 1/2, iter: 120/285, gpu mem: 9223Mb, mem: 38.6Gb, iter_time: 0.711s, data_time: 0.424s, total_loss: 9.6, iou_loss: 3.4, l1_loss: 1.8, conf_loss: 3.8, cls_loss: 0.7, lr: 4.432e-04, size: 768, ETA: 0:10:36\n"
          ]
        },
        {
          "output_type": "stream",
          "name": "stderr",
          "text": [
            "2025-09-26 18:20:53 | INFO     | yolox.core.trainer:270 - epoch: 1/2, iter: 130/285, gpu mem: 9223Mb, mem: 38.4Gb, iter_time: 0.800s, data_time: 0.592s, total_loss: 9.3, iou_loss: 3.3, l1_loss: 1.6, conf_loss: 3.7, cls_loss: 0.7, lr: 5.202e-04, size: 608, ETA: 0:10:01\n"
          ]
        },
        {
          "output_type": "stream",
          "name": "stderr",
          "text": [
            "2025-09-26 18:21:00 | INFO     | yolox.core.trainer:270 - epoch: 1/2, iter: 140/285, gpu mem: 9223Mb, mem: 38.4Gb, iter_time: 0.740s, data_time: 0.451s, total_loss: 11.1, iou_loss: 3.6, l1_loss: 1.9, conf_loss: 4.9, cls_loss: 0.7, lr: 6.033e-04, size: 768, ETA: 0:09:28\n"
          ]
        },
        {
          "output_type": "stream",
          "name": "stderr",
          "text": [
            "2025-09-26 18:21:07 | INFO     | yolox.core.trainer:270 - epoch: 1/2, iter: 150/285, gpu mem: 9223Mb, mem: 38.4Gb, iter_time: 0.708s, data_time: 0.467s, total_loss: 9.9, iou_loss: 3.4, l1_loss: 1.7, conf_loss: 4.2, cls_loss: 0.7, lr: 6.925e-04, size: 672, ETA: 0:08:58\n"
          ]
        },
        {
          "output_type": "stream",
          "name": "stderr",
          "text": [
            "2025-09-26 18:21:14 | INFO     | yolox.core.trainer:270 - epoch: 1/2, iter: 160/285, gpu mem: 9223Mb, mem: 38.3Gb, iter_time: 0.717s, data_time: 0.532s, total_loss: 9.7, iou_loss: 3.2, l1_loss: 1.6, conf_loss: 4.3, cls_loss: 0.7, lr: 7.879e-04, size: 576, ETA: 0:08:30\n"
          ]
        },
        {
          "output_type": "stream",
          "name": "stderr",
          "text": [
            "2025-09-26 18:21:34 | INFO     | yolox.core.trainer:270 - epoch: 1/2, iter: 170/285, gpu mem: 9223Mb, mem: 38.4Gb, iter_time: 1.914s, data_time: 0.217s, total_loss: 9.9, iou_loss: 3.3, l1_loss: 1.7, conf_loss: 4.2, cls_loss: 0.7, lr: 8.895e-04, size: 704, ETA: 0:08:34\n"
          ]
        },
        {
          "output_type": "stream",
          "name": "stderr",
          "text": [
            "2025-09-26 18:21:40 | INFO     | yolox.core.trainer:270 - epoch: 1/2, iter: 180/285, gpu mem: 9223Mb, mem: 38.4Gb, iter_time: 0.691s, data_time: 0.486s, total_loss: 9.3, iou_loss: 3.2, l1_loss: 1.5, conf_loss: 3.9, cls_loss: 0.7, lr: 9.972e-04, size: 608, ETA: 0:08:08\n"
          ]
        },
        {
          "output_type": "stream",
          "name": "stderr",
          "text": [
            "2025-09-26 18:21:56 | INFO     | yolox.core.trainer:270 - epoch: 1/2, iter: 190/285, gpu mem: 9223Mb, mem: 38.3Gb, iter_time: 1.584s, data_time: 0.345s, total_loss: 9.6, iou_loss: 3.3, l1_loss: 1.5, conf_loss: 4.1, cls_loss: 0.7, lr: 1.111e-03, size: 512, ETA: 0:08:02\n"
          ]
        },
        {
          "output_type": "stream",
          "name": "stderr",
          "text": [
            "2025-09-26 18:22:04 | INFO     | yolox.core.trainer:270 - epoch: 1/2, iter: 200/285, gpu mem: 9223Mb, mem: 38.4Gb, iter_time: 0.727s, data_time: 0.475s, total_loss: 10.2, iou_loss: 3.1, l1_loss: 1.6, conf_loss: 4.8, cls_loss: 0.7, lr: 1.231e-03, size: 704, ETA: 0:07:39\n"
          ]
        },
        {
          "output_type": "stream",
          "name": "stderr",
          "text": [
            "2025-09-26 18:22:10 | INFO     | yolox.core.trainer:270 - epoch: 1/2, iter: 210/285, gpu mem: 9223Mb, mem: 38.4Gb, iter_time: 0.675s, data_time: 0.525s, total_loss: 9.7, iou_loss: 3.4, l1_loss: 1.6, conf_loss: 4.0, cls_loss: 0.7, lr: 1.357e-03, size: 480, ETA: 0:07:17\n"
          ]
        },
        {
          "output_type": "stream",
          "name": "stderr",
          "text": [
            "2025-09-26 18:22:26 | INFO     | yolox.core.trainer:270 - epoch: 1/2, iter: 220/285, gpu mem: 9223Mb, mem: 38.5Gb, iter_time: 1.538s, data_time: 0.325s, total_loss: 9.3, iou_loss: 3.2, l1_loss: 1.5, conf_loss: 3.8, cls_loss: 0.7, lr: 1.490e-03, size: 544, ETA: 0:07:10\n"
          ]
        },
        {
          "output_type": "stream",
          "name": "stderr",
          "text": [
            "2025-09-26 18:22:32 | INFO     | yolox.core.trainer:270 - epoch: 1/2, iter: 230/285, gpu mem: 9223Mb, mem: 38.6Gb, iter_time: 0.670s, data_time: 0.502s, total_loss: 9.6, iou_loss: 3.5, l1_loss: 1.6, conf_loss: 3.8, cls_loss: 0.7, lr: 1.628e-03, size: 544, ETA: 0:06:49\n"
          ]
        },
        {
          "output_type": "stream",
          "name": "stderr",
          "text": [
            "2025-09-26 18:22:39 | INFO     | yolox.core.trainer:270 - epoch: 1/2, iter: 240/285, gpu mem: 9223Mb, mem: 38.5Gb, iter_time: 0.684s, data_time: 0.504s, total_loss: 9.8, iou_loss: 3.1, l1_loss: 1.5, conf_loss: 4.5, cls_loss: 0.7, lr: 1.773e-03, size: 576, ETA: 0:06:30\n"
          ]
        },
        {
          "output_type": "stream",
          "name": "stderr",
          "text": [
            "2025-09-26 18:22:46 | INFO     | yolox.core.trainer:270 - epoch: 1/2, iter: 250/285, gpu mem: 9223Mb, mem: 38.4Gb, iter_time: 0.716s, data_time: 0.462s, total_loss: 10.1, iou_loss: 3.2, l1_loss: 1.6, conf_loss: 4.7, cls_loss: 0.7, lr: 1.924e-03, size: 704, ETA: 0:06:12\n"
          ]
        },
        {
          "output_type": "stream",
          "name": "stderr",
          "text": [
            "2025-09-26 18:23:05 | INFO     | yolox.core.trainer:270 - epoch: 1/2, iter: 260/285, gpu mem: 9223Mb, mem: 38.5Gb, iter_time: 1.884s, data_time: 0.173s, total_loss: 10.8, iou_loss: 3.3, l1_loss: 1.7, conf_loss: 5.2, cls_loss: 0.7, lr: 2.081e-03, size: 736, ETA: 0:06:09\n"
          ]
        },
        {
          "output_type": "stream",
          "name": "stderr",
          "text": [
            "2025-09-26 18:23:13 | INFO     | yolox.core.trainer:270 - epoch: 1/2, iter: 270/285, gpu mem: 9223Mb, mem: 38.5Gb, iter_time: 0.733s, data_time: 0.516s, total_loss: 9.5, iou_loss: 3.2, l1_loss: 1.6, conf_loss: 4.1, cls_loss: 0.7, lr: 2.244e-03, size: 640, ETA: 0:05:52\n"
          ]
        },
        {
          "output_type": "stream",
          "name": "stderr",
          "text": [
            "2025-09-26 18:23:20 | INFO     | yolox.core.trainer:270 - epoch: 1/2, iter: 280/285, gpu mem: 9223Mb, mem: 38.5Gb, iter_time: 0.704s, data_time: 0.522s, total_loss: 9.6, iou_loss: 3.3, l1_loss: 1.5, conf_loss: 4.1, cls_loss: 0.7, lr: 2.413e-03, size: 576, ETA: 0:05:36\n"
          ]
        },
        {
          "output_type": "stream",
          "name": "stderr",
          "text": [
            "2025-09-26 18:23:23 | INFO     | yolox.core.trainer:402 - Save weights to /var/lib/simon/agent_run_states/siim-covid19-detection-20250925-205912/yolox_outputs/yolox_m_fold_0\n"
          ]
        },
        {
          "output_type": "stream",
          "name": "stdout",
          "text": [
            "/var/lib/simon/agent_run_states/siim-covid19-detection-20250925-205912/YOLOX/yolox/core/trainer.py:106: FutureWarning: `torch.cuda.amp.autocast(args...)` is deprecated. Please use `torch.amp.autocast('cuda', args...)` instead.\n  with torch.cuda.amp.autocast(enabled=self.amp_training):\n/var/lib/simon/agent_run_states/siim-covid19-detection-20250925-205912/YOLOX/yolox/models/yolo_head.py:474: FutureWarning: `torch.cuda.amp.autocast(args...)` is deprecated. Please use `torch.amp.autocast('cuda', args...)` instead.\n  with torch.cuda.amp.autocast(enabled=False):\n\r  0%|          | 0/72 [00:00<?, ?it/s]"
          ]
        },
        {
          "output_type": "stream",
          "name": "stdout",
          "text": [
            "\r  1%|1         | 1/72 [00:04<05:48,  4.91s/it]\r  3%|2         | 2/72 [00:05<02:26,  2.09s/it]"
          ]
        },
        {
          "output_type": "stream",
          "name": "stdout",
          "text": [
            "\r  4%|4         | 3/72 [00:05<01:21,  1.18s/it]\r  6%|5         | 4/72 [00:05<00:51,  1.32it/s]"
          ]
        },
        {
          "output_type": "stream",
          "name": "stdout",
          "text": [
            "\r  7%|6         | 5/72 [00:05<00:38,  1.75it/s]"
          ]
        },
        {
          "output_type": "stream",
          "name": "stdout",
          "text": [
            "\r  8%|8         | 6/72 [00:06<00:48,  1.37it/s]\r 10%|9         | 7/72 [00:06<00:34,  1.89it/s]"
          ]
        },
        {
          "output_type": "stream",
          "name": "stdout",
          "text": [
            "\r 11%|#1        | 8/72 [00:07<00:50,  1.27it/s]\r 12%|#2        | 9/72 [00:08<00:36,  1.74it/s]"
          ]
        },
        {
          "output_type": "stream",
          "name": "stdout",
          "text": [
            "\r 14%|#3        | 10/72 [00:09<00:46,  1.34it/s]\r 15%|#5        | 11/72 [00:09<00:33,  1.81it/s]"
          ]
        },
        {
          "output_type": "stream",
          "name": "stdout",
          "text": [
            "\r 17%|#6        | 12/72 [00:10<00:46,  1.30it/s]\r 18%|#8        | 13/72 [00:10<00:33,  1.75it/s]"
          ]
        },
        {
          "output_type": "stream",
          "name": "stdout",
          "text": [
            "\r 19%|#9        | 14/72 [00:11<00:44,  1.30it/s]\r 21%|##        | 15/72 [00:12<00:32,  1.75it/s]"
          ]
        },
        {
          "output_type": "stream",
          "name": "stdout",
          "text": [
            "\r 22%|##2       | 16/72 [00:13<00:44,  1.25it/s]\r 24%|##3       | 17/72 [00:13<00:32,  1.68it/s]"
          ]
        },
        {
          "output_type": "stream",
          "name": "stdout",
          "text": [
            "\r 25%|##5       | 18/72 [00:15<00:49,  1.08it/s]\r 26%|##6       | 19/72 [00:15<00:36,  1.47it/s]"
          ]
        },
        {
          "output_type": "stream",
          "name": "stdout",
          "text": [
            "\r 28%|##7       | 20/72 [00:16<00:40,  1.28it/s]\r 29%|##9       | 21/72 [00:16<00:29,  1.73it/s]"
          ]
        },
        {
          "output_type": "stream",
          "name": "stdout",
          "text": [
            "\r 31%|###       | 22/72 [00:17<00:37,  1.34it/s]\r 32%|###1      | 23/72 [00:17<00:27,  1.81it/s]"
          ]
        },
        {
          "output_type": "stream",
          "name": "stdout",
          "text": [
            "\r 33%|###3      | 24/72 [00:19<00:38,  1.25it/s]\r 35%|###4      | 25/72 [00:19<00:27,  1.69it/s]"
          ]
        },
        {
          "output_type": "stream",
          "name": "stdout",
          "text": [
            "\r 36%|###6      | 26/72 [00:20<00:36,  1.28it/s]\r 38%|###7      | 27/72 [00:20<00:26,  1.72it/s]"
          ]
        },
        {
          "output_type": "stream",
          "name": "stdout",
          "text": [
            "\r 39%|###8      | 28/72 [00:21<00:31,  1.39it/s]\r 40%|####      | 29/72 [00:21<00:23,  1.87it/s]"
          ]
        },
        {
          "output_type": "stream",
          "name": "stdout",
          "text": [
            "\r 42%|####1     | 30/72 [00:22<00:29,  1.40it/s]\r 43%|####3     | 31/72 [00:22<00:21,  1.88it/s]"
          ]
        },
        {
          "output_type": "stream",
          "name": "stdout",
          "text": [
            "\r 44%|####4     | 32/72 [00:24<00:32,  1.22it/s]\r 46%|####5     | 33/72 [00:24<00:23,  1.65it/s]"
          ]
        },
        {
          "output_type": "stream",
          "name": "stdout",
          "text": [
            "\r 47%|####7     | 34/72 [00:25<00:29,  1.28it/s]\r 49%|####8     | 35/72 [00:25<00:21,  1.72it/s]"
          ]
        },
        {
          "output_type": "stream",
          "name": "stdout",
          "text": [
            "\r 50%|#####     | 36/72 [00:26<00:26,  1.36it/s]\r 51%|#####1    | 37/72 [00:26<00:19,  1.83it/s]"
          ]
        },
        {
          "output_type": "stream",
          "name": "stdout",
          "text": [
            "\r 53%|#####2    | 38/72 [00:28<00:24,  1.38it/s]\r 54%|#####4    | 39/72 [00:28<00:18,  1.83it/s]"
          ]
        },
        {
          "output_type": "stream",
          "name": "stdout",
          "text": [
            "\r 56%|#####5    | 40/72 [00:29<00:23,  1.35it/s]"
          ]
        },
        {
          "output_type": "stream",
          "name": "stdout",
          "text": [
            "\r 57%|#####6    | 41/72 [00:29<00:18,  1.66it/s]"
          ]
        },
        {
          "output_type": "stream",
          "name": "stdout",
          "text": [
            "\r 58%|#####8    | 42/72 [00:30<00:21,  1.40it/s]"
          ]
        },
        {
          "output_type": "stream",
          "name": "stdout",
          "text": [
            "\r 60%|#####9    | 43/72 [00:31<00:18,  1.59it/s]"
          ]
        },
        {
          "output_type": "stream",
          "name": "stdout",
          "text": [
            "\r 61%|######1   | 44/72 [00:32<00:19,  1.42it/s]"
          ]
        },
        {
          "output_type": "stream",
          "name": "stdout",
          "text": [
            "\r 62%|######2   | 45/72 [00:32<00:17,  1.57it/s]"
          ]
        },
        {
          "output_type": "stream",
          "name": "stdout",
          "text": [
            "\r 64%|######3   | 46/72 [00:33<00:17,  1.45it/s]"
          ]
        },
        {
          "output_type": "stream",
          "name": "stdout",
          "text": [
            "\r 65%|######5   | 47/72 [00:33<00:14,  1.76it/s]"
          ]
        },
        {
          "output_type": "stream",
          "name": "stdout",
          "text": [
            "\r 67%|######6   | 48/72 [00:34<00:17,  1.35it/s]"
          ]
        },
        {
          "output_type": "stream",
          "name": "stdout",
          "text": [
            "\r 68%|######8   | 49/72 [00:34<00:13,  1.68it/s]"
          ]
        },
        {
          "output_type": "stream",
          "name": "stdout",
          "text": [
            "\r 69%|######9   | 50/72 [00:36<00:17,  1.27it/s]\r 71%|#######   | 51/72 [00:36<00:12,  1.69it/s]"
          ]
        },
        {
          "output_type": "stream",
          "name": "stdout",
          "text": [
            "\r 72%|#######2  | 52/72 [00:37<00:16,  1.21it/s]\r 74%|#######3  | 53/72 [00:37<00:11,  1.64it/s]"
          ]
        },
        {
          "output_type": "stream",
          "name": "stdout",
          "text": [
            "\r 75%|#######5  | 54/72 [00:38<00:13,  1.29it/s]\r 76%|#######6  | 55/72 [00:39<00:09,  1.72it/s]"
          ]
        },
        {
          "output_type": "stream",
          "name": "stdout",
          "text": [
            "\r 78%|#######7  | 56/72 [00:40<00:11,  1.36it/s]"
          ]
        },
        {
          "output_type": "stream",
          "name": "stdout",
          "text": [
            "\r 79%|#######9  | 57/72 [00:40<00:08,  1.73it/s]"
          ]
        },
        {
          "output_type": "stream",
          "name": "stdout",
          "text": [
            "\r 81%|########  | 58/72 [00:41<00:10,  1.33it/s]"
          ]
        },
        {
          "output_type": "stream",
          "name": "stdout",
          "text": [
            "\r 82%|########1 | 59/72 [00:42<00:08,  1.48it/s]"
          ]
        },
        {
          "output_type": "stream",
          "name": "stdout",
          "text": [
            "\r 83%|########3 | 60/72 [00:42<00:08,  1.35it/s]"
          ]
        },
        {
          "output_type": "stream",
          "name": "stdout",
          "text": [
            "\r 85%|########4 | 61/72 [00:43<00:07,  1.52it/s]"
          ]
        },
        {
          "output_type": "stream",
          "name": "stdout",
          "text": [
            "\r 86%|########6 | 62/72 [00:44<00:07,  1.42it/s]"
          ]
        },
        {
          "output_type": "stream",
          "name": "stdout",
          "text": [
            "\r 88%|########7 | 63/72 [00:44<00:05,  1.69it/s]"
          ]
        },
        {
          "output_type": "stream",
          "name": "stdout",
          "text": [
            "\r 89%|########8 | 64/72 [00:45<00:06,  1.31it/s]"
          ]
        },
        {
          "output_type": "stream",
          "name": "stdout",
          "text": [
            "\r 90%|######### | 65/72 [00:45<00:04,  1.66it/s]"
          ]
        },
        {
          "output_type": "stream",
          "name": "stdout",
          "text": [
            "\r 92%|#########1| 66/72 [00:46<00:04,  1.39it/s]"
          ]
        },
        {
          "output_type": "stream",
          "name": "stdout",
          "text": [
            "\r 93%|#########3| 67/72 [00:47<00:03,  1.51it/s]"
          ]
        },
        {
          "output_type": "stream",
          "name": "stdout",
          "text": [
            "\r 94%|#########4| 68/72 [00:48<00:02,  1.47it/s]"
          ]
        },
        {
          "output_type": "stream",
          "name": "stdout",
          "text": [
            "\r 96%|#########5| 69/72 [00:48<00:02,  1.48it/s]"
          ]
        },
        {
          "output_type": "stream",
          "name": "stdout",
          "text": [
            "\r 97%|#########7| 70/72 [00:49<00:01,  1.53it/s]"
          ]
        },
        {
          "output_type": "stream",
          "name": "stdout",
          "text": [
            "\r 99%|#########8| 71/72 [00:50<00:00,  1.53it/s]"
          ]
        },
        {
          "output_type": "stream",
          "name": "stdout",
          "text": [
            "\r100%|##########| 72/72 [00:52<00:00,  1.24s/it]\r100%|##########| 72/72 [00:52<00:00,  1.36it/s]"
          ]
        },
        {
          "output_type": "stream",
          "name": "stderr",
          "text": [
            "2025-09-26 18:24:16 | INFO     | yolox.evaluators.coco_evaluator:259 - Evaluate in main process...\n"
          ]
        },
        {
          "output_type": "stream",
          "name": "stderr",
          "text": [
            "2025-09-26 18:24:16 | INFO     | yolox.evaluators.coco_evaluator:292 - Loading and preparing results...\n"
          ]
        },
        {
          "output_type": "stream",
          "name": "stderr",
          "text": [
            "2025-09-26 18:24:17 | INFO     | yolox.evaluators.coco_evaluator:292 - DONE (t=0.20s)\n2025-09-26 18:24:17 | INFO     | pycocotools.coco:379 - creating index...\n2025-09-26 18:24:17 | INFO     | pycocotools.coco:379 - index created!\n2025-09-26 18:24:17 | INFO     | yolox.evaluators.coco_evaluator:301 - Running per image evaluation...\n2025-09-26 18:24:17 | INFO     | yolox.evaluators.coco_evaluator:301 - Evaluate annotation type *bbox*\n"
          ]
        },
        {
          "output_type": "stream",
          "name": "stderr",
          "text": [
            "2025-09-26 18:24:17 | INFO     | yolox.evaluators.coco_evaluator:301 - DONE (t=0.86s).\n2025-09-26 18:24:17 | INFO     | yolox.evaluators.coco_evaluator:302 - Accumulating evaluation results...\n2025-09-26 18:24:18 | INFO     | yolox.evaluators.coco_evaluator:302 - DONE (t=0.15s).\n2025-09-26 18:24:18 | INFO     | yolox.core.trainer:381 - \nAverage forward time: 8.74 ms, Average NMS time: 0.49 ms, Average inference time: 9.22 ms\n Average Precision  (AP) @[ IoU=0.50:0.95 | area=   all | maxDets=100 ] = 0.012\n Average Precision  (AP) @[ IoU=0.50      | area=   all | maxDets=100 ] = 0.053\n Average Precision  (AP) @[ IoU=0.75      | area=   all | maxDets=100 ] = 0.002\n Average Precision  (AP) @[ IoU=0.50:0.95 | area= small | maxDets=100 ] = -1.000\n Average Precision  (AP) @[ IoU=0.50:0.95 | area=medium | maxDets=100 ] = 0.000\n Average Precision  (AP) @[ IoU=0.50:0.95 | area= large | maxDets=100 ] = 0.012\n Average Recall     (AR) @[ IoU=0.50:0.95 | area=   all | maxDets=  1 ] = 0.029\n Average Recall     (AR) @[ IoU=0.50:0.95 | area=   all | maxDets= 10 ] = 0.136\n Average Recall     (AR) @[ IoU=0.50:0.95 | area=   all | maxDets=100 ] = 0.201\n Average Recall     (AR) @[ IoU=0.50:0.95 | area= small | maxDets=100 ] = -1.000\n Average Recall     (AR) @[ IoU=0.50:0.95 | area=medium | maxDets=100 ] = 0.000\n Average Recall     (AR) @[ IoU=0.50:0.95 | area= large | maxDets=100 ] = 0.202\nper class AP:\n| class   | AP    |\n|:--------|:------|\n| opacity | 1.244 |\nper class AR:\n| class   | AR     |\n|:--------|:-------|\n| opacity | 20.141 |\n\n2025-09-26 18:24:18 | INFO     | yolox.core.trainer:402 - Save weights to /var/lib/simon/agent_run_states/siim-covid19-detection-20250925-205912/yolox_outputs/yolox_m_fold_0\n"
          ]
        },
        {
          "output_type": "stream",
          "name": "stderr",
          "text": [
            "2025-09-26 18:24:18 | INFO     | yolox.core.trainer:402 - Save weights to /var/lib/simon/agent_run_states/siim-covid19-detection-20250925-205912/yolox_outputs/yolox_m_fold_0\n"
          ]
        },
        {
          "output_type": "stream",
          "name": "stderr",
          "text": [
            "2025-09-26 18:24:18 | INFO     | yolox.core.trainer:218 - ---> start train epoch2\n2025-09-26 18:24:18 | INFO     | yolox.core.trainer:221 - --->No mosaic aug now!\n2025-09-26 18:24:18 | INFO     | yolox.core.trainer:223 - --->Add additional L1 loss now!\n"
          ]
        },
        {
          "output_type": "stream",
          "name": "stderr",
          "text": [
            "2025-09-26 18:24:23 | INFO     | yolox.core.trainer:270 - epoch: 2/2, iter: 10/285, gpu mem: 11174Mb, mem: 39.3Gb, iter_time: 0.480s, data_time: 0.249s, total_loss: 12.4, iou_loss: 3.5, l1_loss: 1.7, conf_loss: 6.4, cls_loss: 0.7, lr: 1.250e-04, size: 480, ETA: 0:05:10\n"
          ]
        },
        {
          "output_type": "stream",
          "name": "stderr",
          "text": [
            "2025-09-26 18:24:30 | INFO     | yolox.core.trainer:270 - epoch: 2/2, iter: 20/285, gpu mem: 11174Mb, mem: 39.7Gb, iter_time: 0.732s, data_time: 0.576s, total_loss: 9.2, iou_loss: 3.1, l1_loss: 1.5, conf_loss: 3.9, cls_loss: 0.7, lr: 1.250e-04, size: 544, ETA: 0:04:55\n"
          ]
        },
        {
          "output_type": "stream",
          "name": "stderr",
          "text": [
            "2025-09-26 18:24:38 | INFO     | yolox.core.trainer:270 - epoch: 2/2, iter: 30/285, gpu mem: 11174Mb, mem: 39.7Gb, iter_time: 0.758s, data_time: 0.534s, total_loss: 10.0, iou_loss: 3.3, l1_loss: 1.6, conf_loss: 4.4, cls_loss: 0.7, lr: 1.250e-04, size: 736, ETA: 0:04:41\n"
          ]
        },
        {
          "output_type": "stream",
          "name": "stderr",
          "text": [
            "2025-09-26 18:24:45 | INFO     | yolox.core.trainer:270 - epoch: 2/2, iter: 40/285, gpu mem: 11174Mb, mem: 39.5Gb, iter_time: 0.711s, data_time: 0.474s, total_loss: 9.4, iou_loss: 3.1, l1_loss: 1.4, conf_loss: 4.1, cls_loss: 0.7, lr: 1.250e-04, size: 576, ETA: 0:04:27\n"
          ]
        },
        {
          "output_type": "stream",
          "name": "stderr",
          "text": [
            "2025-09-26 18:24:52 | INFO     | yolox.core.trainer:270 - epoch: 2/2, iter: 50/285, gpu mem: 11174Mb, mem: 39.3Gb, iter_time: 0.707s, data_time: 0.455s, total_loss: 10.0, iou_loss: 3.2, l1_loss: 1.6, conf_loss: 4.5, cls_loss: 0.7, lr: 1.250e-04, size: 800, ETA: 0:04:13\n"
          ]
        },
        {
          "output_type": "stream",
          "name": "stderr",
          "text": [
            "2025-09-26 18:25:00 | INFO     | yolox.core.trainer:270 - epoch: 2/2, iter: 60/285, gpu mem: 11174Mb, mem: 39.2Gb, iter_time: 0.750s, data_time: 0.449s, total_loss: 11.1, iou_loss: 3.5, l1_loss: 1.8, conf_loss: 5.2, cls_loss: 0.7, lr: 1.250e-04, size: 736, ETA: 0:04:00\n"
          ]
        },
        {
          "output_type": "stream",
          "name": "stderr",
          "text": [
            "2025-09-26 18:25:06 | INFO     | yolox.core.trainer:270 - epoch: 2/2, iter: 70/285, gpu mem: 11174Mb, mem: 39.3Gb, iter_time: 0.675s, data_time: 0.438s, total_loss: 10.7, iou_loss: 3.4, l1_loss: 1.7, conf_loss: 4.8, cls_loss: 0.7, lr: 1.250e-04, size: 576, ETA: 0:03:47\n"
          ]
        },
        {
          "output_type": "stream",
          "name": "stderr",
          "text": [
            "2025-09-26 18:25:13 | INFO     | yolox.core.trainer:270 - epoch: 2/2, iter: 80/285, gpu mem: 11174Mb, mem: 39.2Gb, iter_time: 0.694s, data_time: 0.516s, total_loss: 10.8, iou_loss: 3.3, l1_loss: 1.7, conf_loss: 5.1, cls_loss: 0.7, lr: 1.250e-04, size: 544, ETA: 0:03:35\n"
          ]
        },
        {
          "output_type": "stream",
          "name": "stderr",
          "text": [
            "2025-09-26 18:25:20 | INFO     | yolox.core.trainer:270 - epoch: 2/2, iter: 90/285, gpu mem: 11174Mb, mem: 39.2Gb, iter_time: 0.691s, data_time: 0.504s, total_loss: 10.5, iou_loss: 3.4, l1_loss: 1.5, conf_loss: 4.9, cls_loss: 0.7, lr: 1.250e-04, size: 608, ETA: 0:03:22\n"
          ]
        },
        {
          "output_type": "stream",
          "name": "stderr",
          "text": [
            "2025-09-26 18:25:28 | INFO     | yolox.core.trainer:270 - epoch: 2/2, iter: 100/285, gpu mem: 11174Mb, mem: 39.2Gb, iter_time: 0.757s, data_time: 0.510s, total_loss: 10.5, iou_loss: 3.6, l1_loss: 2.0, conf_loss: 4.3, cls_loss: 0.7, lr: 1.250e-04, size: 768, ETA: 0:03:11\n"
          ]
        },
        {
          "output_type": "stream",
          "name": "stderr",
          "text": [
            "2025-09-26 18:25:35 | INFO     | yolox.core.trainer:270 - epoch: 2/2, iter: 110/285, gpu mem: 11174Mb, mem: 39.3Gb, iter_time: 0.720s, data_time: 0.460s, total_loss: 10.5, iou_loss: 3.3, l1_loss: 1.6, conf_loss: 4.9, cls_loss: 0.7, lr: 1.250e-04, size: 640, ETA: 0:02:59\n"
          ]
        },
        {
          "output_type": "stream",
          "name": "stderr",
          "text": [
            "2025-09-26 18:25:42 | INFO     | yolox.core.trainer:270 - epoch: 2/2, iter: 120/285, gpu mem: 11174Mb, mem: 39.3Gb, iter_time: 0.646s, data_time: 0.431s, total_loss: 9.2, iou_loss: 3.1, l1_loss: 1.5, conf_loss: 3.9, cls_loss: 0.7, lr: 1.250e-04, size: 640, ETA: 0:02:47\n"
          ]
        },
        {
          "output_type": "stream",
          "name": "stderr",
          "text": [
            "2025-09-26 18:25:49 | INFO     | yolox.core.trainer:270 - epoch: 2/2, iter: 130/285, gpu mem: 11174Mb, mem: 39.3Gb, iter_time: 0.716s, data_time: 0.529s, total_loss: 9.8, iou_loss: 3.5, l1_loss: 1.6, conf_loss: 4.1, cls_loss: 0.7, lr: 1.250e-04, size: 480, ETA: 0:02:36\n"
          ]
        },
        {
          "output_type": "stream",
          "name": "stderr",
          "text": [
            "2025-09-26 18:25:56 | INFO     | yolox.core.trainer:270 - epoch: 2/2, iter: 140/285, gpu mem: 11174Mb, mem: 39.3Gb, iter_time: 0.737s, data_time: 0.576s, total_loss: 9.0, iou_loss: 3.2, l1_loss: 1.4, conf_loss: 3.7, cls_loss: 0.7, lr: 1.250e-04, size: 576, ETA: 0:02:25\n"
          ]
        },
        {
          "output_type": "stream",
          "name": "stderr",
          "text": [
            "2025-09-26 18:26:03 | INFO     | yolox.core.trainer:270 - epoch: 2/2, iter: 150/285, gpu mem: 11174Mb, mem: 39.3Gb, iter_time: 0.711s, data_time: 0.526s, total_loss: 9.7, iou_loss: 3.4, l1_loss: 1.6, conf_loss: 4.0, cls_loss: 0.7, lr: 1.250e-04, size: 576, ETA: 0:02:14\n"
          ]
        },
        {
          "output_type": "stream",
          "name": "stderr",
          "text": [
            "2025-09-26 18:26:10 | INFO     | yolox.core.trainer:270 - epoch: 2/2, iter: 160/285, gpu mem: 11174Mb, mem: 39.3Gb, iter_time: 0.688s, data_time: 0.521s, total_loss: 9.3, iou_loss: 3.3, l1_loss: 1.5, conf_loss: 3.9, cls_loss: 0.7, lr: 1.250e-04, size: 480, ETA: 0:02:03\n"
          ]
        },
        {
          "output_type": "stream",
          "name": "stderr",
          "text": [
            "2025-09-26 18:26:18 | INFO     | yolox.core.trainer:270 - epoch: 2/2, iter: 170/285, gpu mem: 11174Mb, mem: 39.3Gb, iter_time: 0.780s, data_time: 0.564s, total_loss: 10.4, iou_loss: 3.6, l1_loss: 1.8, conf_loss: 4.4, cls_loss: 0.7, lr: 1.250e-04, size: 768, ETA: 0:01:53\n"
          ]
        },
        {
          "output_type": "stream",
          "name": "stderr",
          "text": [
            "2025-09-26 18:26:25 | INFO     | yolox.core.trainer:270 - epoch: 2/2, iter: 180/285, gpu mem: 11174Mb, mem: 39.3Gb, iter_time: 0.686s, data_time: 0.451s, total_loss: 9.6, iou_loss: 3.4, l1_loss: 1.5, conf_loss: 4.0, cls_loss: 0.7, lr: 1.250e-04, size: 512, ETA: 0:01:42\n"
          ]
        },
        {
          "output_type": "stream",
          "name": "stderr",
          "text": [
            "2025-09-26 18:26:32 | INFO     | yolox.core.trainer:270 - epoch: 2/2, iter: 190/285, gpu mem: 11174Mb, mem: 39.2Gb, iter_time: 0.754s, data_time: 0.519s, total_loss: 10.9, iou_loss: 3.3, l1_loss: 1.7, conf_loss: 5.1, cls_loss: 0.7, lr: 1.250e-04, size: 800, ETA: 0:01:32\n"
          ]
        },
        {
          "output_type": "stream",
          "name": "stderr",
          "text": [
            "2025-09-26 18:26:39 | INFO     | yolox.core.trainer:270 - epoch: 2/2, iter: 200/285, gpu mem: 11174Mb, mem: 39.1Gb, iter_time: 0.707s, data_time: 0.423s, total_loss: 9.4, iou_loss: 3.2, l1_loss: 1.6, conf_loss: 3.9, cls_loss: 0.7, lr: 1.250e-04, size: 672, ETA: 0:01:22\n"
          ]
        },
        {
          "output_type": "stream",
          "name": "stderr",
          "text": [
            "2025-09-26 18:26:47 | INFO     | yolox.core.trainer:270 - epoch: 2/2, iter: 210/285, gpu mem: 11174Mb, mem: 39.2Gb, iter_time: 0.720s, data_time: 0.473s, total_loss: 10.6, iou_loss: 3.3, l1_loss: 1.6, conf_loss: 5.0, cls_loss: 0.7, lr: 1.250e-04, size: 704, ETA: 0:01:12\n"
          ]
        },
        {
          "output_type": "stream",
          "name": "stderr",
          "text": [
            "2025-09-26 18:26:54 | INFO     | yolox.core.trainer:270 - epoch: 2/2, iter: 220/285, gpu mem: 11174Mb, mem: 39.3Gb, iter_time: 0.729s, data_time: 0.470s, total_loss: 8.8, iou_loss: 3.0, l1_loss: 1.4, conf_loss: 3.8, cls_loss: 0.7, lr: 1.250e-04, size: 672, ETA: 0:01:02\n"
          ]
        },
        {
          "output_type": "stream",
          "name": "stderr",
          "text": [
            "2025-09-26 18:27:01 | INFO     | yolox.core.trainer:270 - epoch: 2/2, iter: 230/285, gpu mem: 11174Mb, mem: 39.4Gb, iter_time: 0.698s, data_time: 0.435s, total_loss: 9.5, iou_loss: 3.3, l1_loss: 1.7, conf_loss: 3.7, cls_loss: 0.7, lr: 1.250e-04, size: 768, ETA: 0:00:52\n"
          ]
        },
        {
          "output_type": "stream",
          "name": "stderr",
          "text": [
            "2025-09-26 18:27:08 | INFO     | yolox.core.trainer:270 - epoch: 2/2, iter: 240/285, gpu mem: 11174Mb, mem: 39.5Gb, iter_time: 0.745s, data_time: 0.441s, total_loss: 9.5, iou_loss: 3.2, l1_loss: 1.6, conf_loss: 4.0, cls_loss: 0.7, lr: 1.250e-04, size: 800, ETA: 0:00:42\n"
          ]
        },
        {
          "output_type": "stream",
          "name": "stderr",
          "text": [
            "2025-09-26 18:27:16 | INFO     | yolox.core.trainer:270 - epoch: 2/2, iter: 250/285, gpu mem: 11174Mb, mem: 39.5Gb, iter_time: 0.759s, data_time: 0.453s, total_loss: 9.6, iou_loss: 3.1, l1_loss: 1.6, conf_loss: 4.3, cls_loss: 0.7, lr: 1.250e-04, size: 768, ETA: 0:00:33\n"
          ]
        },
        {
          "output_type": "stream",
          "name": "stderr",
          "text": [
            "2025-09-26 18:27:23 | INFO     | yolox.core.trainer:270 - epoch: 2/2, iter: 260/285, gpu mem: 11174Mb, mem: 39.5Gb, iter_time: 0.682s, data_time: 0.404s, total_loss: 10.3, iou_loss: 3.2, l1_loss: 1.6, conf_loss: 4.8, cls_loss: 0.7, lr: 1.250e-04, size: 704, ETA: 0:00:23\n"
          ]
        },
        {
          "output_type": "stream",
          "name": "stderr",
          "text": [
            "2025-09-26 18:27:29 | INFO     | yolox.core.trainer:270 - epoch: 2/2, iter: 270/285, gpu mem: 11174Mb, mem: 39.5Gb, iter_time: 0.669s, data_time: 0.449s, total_loss: 10.3, iou_loss: 3.0, l1_loss: 1.5, conf_loss: 5.1, cls_loss: 0.7, lr: 1.250e-04, size: 544, ETA: 0:00:14\n"
          ]
        },
        {
          "output_type": "stream",
          "name": "stderr",
          "text": [
            "2025-09-26 18:27:37 | INFO     | yolox.core.trainer:270 - epoch: 2/2, iter: 280/285, gpu mem: 11174Mb, mem: 39.4Gb, iter_time: 0.724s, data_time: 0.547s, total_loss: 9.9, iou_loss: 3.2, l1_loss: 1.6, conf_loss: 4.4, cls_loss: 0.7, lr: 1.250e-04, size: 576, ETA: 0:00:04\n"
          ]
        },
        {
          "output_type": "stream",
          "name": "stderr",
          "text": [
            "2025-09-26 18:27:41 | INFO     | yolox.core.trainer:402 - Save weights to /var/lib/simon/agent_run_states/siim-covid19-detection-20250925-205912/yolox_outputs/yolox_m_fold_0\n"
          ]
        },
        {
          "output_type": "stream",
          "name": "stdout",
          "text": [
            "\n/var/lib/simon/agent_run_states/siim-covid19-detection-20250925-205912/YOLOX/yolox/evaluators/coco_evaluator.py:189: UserWarning: The torch.cuda.*DtypeTensor constructors are no longer recommended. It's best to use methods such as torch.tensor(data, dtype=*, device='cuda') to create tensors. (Triggered internally at /pytorch/torch/csrc/tensor/python_tensor.cpp:78.)\n  statistics = torch.cuda.FloatTensor([inference_time, nms_time, n_samples])\n\r  0%|          | 0/72 [00:00<?, ?it/s]"
          ]
        },
        {
          "output_type": "stream",
          "name": "stdout",
          "text": [
            "\r  1%|1         | 1/72 [00:01<01:39,  1.40s/it]\r  3%|2         | 2/72 [00:01<00:48,  1.45it/s]"
          ]
        },
        {
          "output_type": "stream",
          "name": "stdout",
          "text": [
            "\r  4%|4         | 3/72 [00:02<01:02,  1.11it/s]"
          ]
        },
        {
          "output_type": "stream",
          "name": "stdout",
          "text": [
            "\r  6%|5         | 4/72 [00:03<00:45,  1.50it/s]"
          ]
        },
        {
          "output_type": "stream",
          "name": "stdout",
          "text": [
            "\r  7%|6         | 5/72 [00:04<00:55,  1.21it/s]"
          ]
        },
        {
          "output_type": "stream",
          "name": "stdout",
          "text": [
            "\r  8%|8         | 6/72 [00:04<00:44,  1.50it/s]"
          ]
        },
        {
          "output_type": "stream",
          "name": "stdout",
          "text": [
            "\r 10%|9         | 7/72 [00:05<00:52,  1.24it/s]"
          ]
        },
        {
          "output_type": "stream",
          "name": "stdout",
          "text": [
            "\r 11%|#1        | 8/72 [00:05<00:42,  1.52it/s]"
          ]
        },
        {
          "output_type": "stream",
          "name": "stdout",
          "text": [
            "\r 12%|#2        | 9/72 [00:06<00:48,  1.30it/s]"
          ]
        },
        {
          "output_type": "stream",
          "name": "stdout",
          "text": [
            "\r 14%|#3        | 10/72 [00:07<00:37,  1.65it/s]"
          ]
        },
        {
          "output_type": "stream",
          "name": "stdout",
          "text": [
            "\r 15%|#5        | 11/72 [00:08<00:44,  1.37it/s]"
          ]
        },
        {
          "output_type": "stream",
          "name": "stdout",
          "text": [
            "\r 17%|#6        | 12/72 [00:08<00:37,  1.61it/s]"
          ]
        },
        {
          "output_type": "stream",
          "name": "stdout",
          "text": [
            "\r 18%|#8        | 13/72 [00:09<00:42,  1.40it/s]"
          ]
        },
        {
          "output_type": "stream",
          "name": "stdout",
          "text": [
            "\r 19%|#9        | 14/72 [00:09<00:36,  1.61it/s]"
          ]
        },
        {
          "output_type": "stream",
          "name": "stdout",
          "text": [
            "\r 21%|##        | 15/72 [00:10<00:40,  1.40it/s]"
          ]
        },
        {
          "output_type": "stream",
          "name": "stdout",
          "text": [
            "\r 22%|##2       | 16/72 [00:11<00:37,  1.51it/s]"
          ]
        },
        {
          "output_type": "stream",
          "name": "stdout",
          "text": [
            "\r 24%|##3       | 17/72 [00:12<00:39,  1.41it/s]"
          ]
        },
        {
          "output_type": "stream",
          "name": "stdout",
          "text": [
            "\r 25%|##5       | 18/72 [00:13<00:42,  1.26it/s]"
          ]
        },
        {
          "output_type": "stream",
          "name": "stdout",
          "text": [
            "\r 26%|##6       | 19/72 [00:13<00:40,  1.32it/s]"
          ]
        },
        {
          "output_type": "stream",
          "name": "stdout",
          "text": [
            "\r 28%|##7       | 20/72 [00:14<00:34,  1.51it/s]"
          ]
        },
        {
          "output_type": "stream",
          "name": "stdout",
          "text": [
            "\r 29%|##9       | 21/72 [00:15<00:36,  1.39it/s]"
          ]
        },
        {
          "output_type": "stream",
          "name": "stdout",
          "text": [
            "\r 31%|###       | 22/72 [00:15<00:31,  1.61it/s]"
          ]
        },
        {
          "output_type": "stream",
          "name": "stdout",
          "text": [
            "\r 32%|###1      | 23/72 [00:16<00:35,  1.39it/s]"
          ]
        },
        {
          "output_type": "stream",
          "name": "stdout",
          "text": [
            "\r 33%|###3      | 24/72 [00:17<00:31,  1.51it/s]"
          ]
        },
        {
          "output_type": "stream",
          "name": "stdout",
          "text": [
            "\r 35%|###4      | 25/72 [00:17<00:31,  1.49it/s]"
          ]
        },
        {
          "output_type": "stream",
          "name": "stdout",
          "text": [
            "\r 36%|###6      | 26/72 [00:18<00:30,  1.50it/s]"
          ]
        },
        {
          "output_type": "stream",
          "name": "stdout",
          "text": [
            "\r 38%|###7      | 27/72 [00:18<00:28,  1.58it/s]"
          ]
        },
        {
          "output_type": "stream",
          "name": "stdout",
          "text": [
            "\r 39%|###8      | 28/72 [00:19<00:27,  1.61it/s]"
          ]
        },
        {
          "output_type": "stream",
          "name": "stdout",
          "text": [
            "\r 40%|####      | 29/72 [00:20<00:28,  1.51it/s]"
          ]
        },
        {
          "output_type": "stream",
          "name": "stdout",
          "text": [
            "\r 42%|####1     | 30/72 [00:20<00:25,  1.65it/s]"
          ]
        },
        {
          "output_type": "stream",
          "name": "stdout",
          "text": [
            "\r 43%|####3     | 31/72 [00:21<00:27,  1.49it/s]"
          ]
        },
        {
          "output_type": "stream",
          "name": "stdout",
          "text": [
            "\r 44%|####4     | 32/72 [00:22<00:28,  1.41it/s]"
          ]
        },
        {
          "output_type": "stream",
          "name": "stdout",
          "text": [
            "\r 46%|####5     | 33/72 [00:23<00:26,  1.46it/s]"
          ]
        },
        {
          "output_type": "stream",
          "name": "stdout",
          "text": [
            "\r 47%|####7     | 34/72 [00:23<00:28,  1.35it/s]"
          ]
        },
        {
          "output_type": "stream",
          "name": "stdout",
          "text": [
            "\r 49%|####8     | 35/72 [00:24<00:25,  1.45it/s]"
          ]
        },
        {
          "output_type": "stream",
          "name": "stdout",
          "text": [
            "\r 50%|#####     | 36/72 [00:24<00:22,  1.61it/s]"
          ]
        },
        {
          "output_type": "stream",
          "name": "stdout",
          "text": [
            "\r 51%|#####1    | 37/72 [00:25<00:24,  1.44it/s]"
          ]
        },
        {
          "output_type": "stream",
          "name": "stdout",
          "text": [
            "\r 53%|#####2    | 38/72 [00:26<00:20,  1.66it/s]"
          ]
        },
        {
          "output_type": "stream",
          "name": "stdout",
          "text": [
            "\r 54%|#####4    | 39/72 [00:27<00:25,  1.32it/s]"
          ]
        },
        {
          "output_type": "stream",
          "name": "stdout",
          "text": [
            "\r 56%|#####5    | 40/72 [00:27<00:19,  1.67it/s]"
          ]
        },
        {
          "output_type": "stream",
          "name": "stdout",
          "text": [
            "\r 57%|#####6    | 41/72 [00:28<00:24,  1.24it/s]\r 58%|#####8    | 42/72 [00:28<00:17,  1.68it/s]"
          ]
        },
        {
          "output_type": "stream",
          "name": "stdout",
          "text": [
            "\r 60%|#####9    | 43/72 [00:30<00:23,  1.24it/s]\r 61%|######1   | 44/72 [00:30<00:16,  1.67it/s]"
          ]
        },
        {
          "output_type": "stream",
          "name": "stdout",
          "text": [
            "\r 62%|######2   | 45/72 [00:31<00:20,  1.34it/s]\r 64%|######3   | 46/72 [00:31<00:14,  1.80it/s]"
          ]
        },
        {
          "output_type": "stream",
          "name": "stdout",
          "text": [
            "\r 65%|######5   | 47/72 [00:32<00:18,  1.37it/s]\r 67%|######6   | 48/72 [00:32<00:13,  1.79it/s]"
          ]
        },
        {
          "output_type": "stream",
          "name": "stdout",
          "text": [
            "\r 68%|######8   | 49/72 [00:34<00:17,  1.30it/s]"
          ]
        },
        {
          "output_type": "stream",
          "name": "stdout",
          "text": [
            "\r 69%|######9   | 50/72 [00:34<00:13,  1.64it/s]"
          ]
        },
        {
          "output_type": "stream",
          "name": "stdout",
          "text": [
            "\r 71%|#######   | 51/72 [00:35<00:16,  1.30it/s]"
          ]
        },
        {
          "output_type": "stream",
          "name": "stdout",
          "text": [
            "\r 72%|#######2  | 52/72 [00:35<00:12,  1.54it/s]"
          ]
        },
        {
          "output_type": "stream",
          "name": "stdout",
          "text": [
            "\r 74%|#######3  | 53/72 [00:36<00:12,  1.48it/s]"
          ]
        },
        {
          "output_type": "stream",
          "name": "stdout",
          "text": [
            "\r 75%|#######5  | 54/72 [00:37<00:11,  1.58it/s]"
          ]
        },
        {
          "output_type": "stream",
          "name": "stdout",
          "text": [
            "\r 76%|#######6  | 55/72 [00:38<00:13,  1.28it/s]\r 78%|#######7  | 56/72 [00:38<00:09,  1.73it/s]"
          ]
        },
        {
          "output_type": "stream",
          "name": "stdout",
          "text": [
            "\r 79%|#######9  | 57/72 [00:39<00:11,  1.31it/s]\r 81%|########  | 58/72 [00:39<00:08,  1.70it/s]"
          ]
        },
        {
          "output_type": "stream",
          "name": "stdout",
          "text": [
            "\r 82%|########1 | 59/72 [00:41<00:11,  1.17it/s]\r 83%|########3 | 60/72 [00:41<00:07,  1.58it/s]"
          ]
        },
        {
          "output_type": "stream",
          "name": "stdout",
          "text": [
            "\r 85%|########4 | 61/72 [00:42<00:09,  1.21it/s]\r 86%|########6 | 62/72 [00:42<00:06,  1.64it/s]"
          ]
        },
        {
          "output_type": "stream",
          "name": "stdout",
          "text": [
            "\r 88%|########7 | 63/72 [00:43<00:06,  1.35it/s]\r 89%|########8 | 64/72 [00:43<00:04,  1.77it/s]"
          ]
        },
        {
          "output_type": "stream",
          "name": "stdout",
          "text": [
            "\r 90%|######### | 65/72 [00:45<00:05,  1.30it/s]\r 92%|#########1| 66/72 [00:45<00:03,  1.75it/s]"
          ]
        },
        {
          "output_type": "stream",
          "name": "stdout",
          "text": [
            "\r 93%|#########3| 67/72 [00:46<00:04,  1.21it/s]\r 94%|#########4| 68/72 [00:46<00:02,  1.64it/s]"
          ]
        },
        {
          "output_type": "stream",
          "name": "stdout",
          "text": [
            "\r 96%|#########5| 69/72 [00:48<00:02,  1.22it/s]\r 97%|#########7| 70/72 [00:48<00:01,  1.66it/s]"
          ]
        },
        {
          "output_type": "stream",
          "name": "stdout",
          "text": [
            "\r 99%|#########8| 71/72 [00:49<00:00,  1.31it/s]\r100%|##########| 72/72 [00:49<00:00,  1.46it/s]"
          ]
        },
        {
          "output_type": "stream",
          "name": "stderr",
          "text": [
            "2025-09-26 18:28:31 | INFO     | yolox.evaluators.coco_evaluator:259 - Evaluate in main process...\n"
          ]
        },
        {
          "output_type": "stream",
          "name": "stderr",
          "text": [
            "2025-09-26 18:28:31 | INFO     | yolox.evaluators.coco_evaluator:292 - Loading and preparing results...\n2025-09-26 18:28:31 | INFO     | yolox.evaluators.coco_evaluator:292 - DONE (t=0.18s)\n2025-09-26 18:28:31 | INFO     | pycocotools.coco:379 - creating index...\n2025-09-26 18:28:31 | INFO     | pycocotools.coco:379 - index created!\n2025-09-26 18:28:31 | INFO     | yolox.evaluators.coco_evaluator:301 - Running per image evaluation...\n2025-09-26 18:28:31 | INFO     | yolox.evaluators.coco_evaluator:301 - Evaluate annotation type *bbox*\n"
          ]
        },
        {
          "output_type": "stream",
          "name": "stderr",
          "text": [
            "2025-09-26 18:28:32 | INFO     | yolox.evaluators.coco_evaluator:301 - DONE (t=0.67s).\n2025-09-26 18:28:32 | INFO     | yolox.evaluators.coco_evaluator:302 - Accumulating evaluation results...\n2025-09-26 18:28:32 | INFO     | yolox.evaluators.coco_evaluator:302 - DONE (t=0.12s).\n2025-09-26 18:28:32 | INFO     | yolox.core.trainer:381 - \nAverage forward time: 5.61 ms, Average NMS time: 0.48 ms, Average inference time: 6.09 ms\n Average Precision  (AP) @[ IoU=0.50:0.95 | area=   all | maxDets=100 ] = 0.022\n Average Precision  (AP) @[ IoU=0.50      | area=   all | maxDets=100 ] = 0.097\n Average Precision  (AP) @[ IoU=0.75      | area=   all | maxDets=100 ] = 0.003\n Average Precision  (AP) @[ IoU=0.50:0.95 | area= small | maxDets=100 ] = -1.000\n Average Precision  (AP) @[ IoU=0.50:0.95 | area=medium | maxDets=100 ] = 0.000\n Average Precision  (AP) @[ IoU=0.50:0.95 | area= large | maxDets=100 ] = 0.022\n Average Recall     (AR) @[ IoU=0.50:0.95 | area=   all | maxDets=  1 ] = 0.043\n Average Recall     (AR) @[ IoU=0.50:0.95 | area=   all | maxDets= 10 ] = 0.178\n Average Recall     (AR) @[ IoU=0.50:0.95 | area=   all | maxDets=100 ] = 0.238\n Average Recall     (AR) @[ IoU=0.50:0.95 | area= small | maxDets=100 ] = -1.000\n Average Recall     (AR) @[ IoU=0.50:0.95 | area=medium | maxDets=100 ] = 0.000\n Average Recall     (AR) @[ IoU=0.50:0.95 | area= large | maxDets=100 ] = 0.238\nper class AP:\n| class   | AP    |\n|:--------|:------|\n| opacity | 2.205 |\nper class AR:\n| class   | AR     |\n|:--------|:-------|\n| opacity | 23.763 |\n\n2025-09-26 18:28:32 | INFO     | yolox.core.trainer:402 - Save weights to /var/lib/simon/agent_run_states/siim-covid19-detection-20250925-205912/yolox_outputs/yolox_m_fold_0\n"
          ]
        },
        {
          "output_type": "stream",
          "name": "stderr",
          "text": [
            "2025-09-26 18:28:33 | INFO     | yolox.core.trainer:402 - Save weights to /var/lib/simon/agent_run_states/siim-covid19-detection-20250925-205912/yolox_outputs/yolox_m_fold_0\n"
          ]
        },
        {
          "output_type": "stream",
          "name": "stderr",
          "text": [
            "2025-09-26 18:28:33 | INFO     | yolox.core.trainer:200 - Training of experiment is done and the best AP is 2.20\n"
          ]
        },
        {
          "output_type": "stream",
          "name": "stdout",
          "text": [
            "\n"
          ]
        },
        {
          "output_type": "stream",
          "name": "stdout",
          "text": [
            "/var/lib/simon/agent_run_states/siim-covid19-detection-20250925-205912\nFINISHED YOLOX TRAINING FOR FOLD 0\n\n==================================================\nSTARTING YOLOX TRAINING FOR FOLD 1\n==================================================\nDynamically modified YOLOX/exps/siim_yolox_config.py for fold 1 with exp_name: yolox_m_fold_1\n/var/lib/simon/agent_run_states/siim-covid19-detection-20250925-205912/YOLOX\n"
          ]
        },
        {
          "output_type": "stream",
          "name": "stderr",
          "text": [
            "/var/lib/simon/agent_run_states/siim-covid19-detection-20250925-205912/YOLOX/yolox/core/trainer.py:47: FutureWarning: `torch.cuda.amp.GradScaler(args...)` is deprecated. Please use `torch.amp.GradScaler('cuda', args...)` instead.\n  self.scaler = torch.cuda.amp.GradScaler(enabled=args.fp16)\n2025-09-26 18:28:36 | INFO     | yolox.core.trainer:132 - args: Namespace(experiment_name='yolox_m_fold_1', name=None, dist_backend='nccl', dist_url=None, batch_size=16, devices=1, exp_file='exps/siim_yolox_config.py', resume=False, ckpt='weights/yolox_m.pth', start_epoch=None, num_machines=1, machine_rank=0, fp16=True, cache=None, occupy=False, logger='tensorboard', opts=[])\n2025-09-26 18:28:36 | INFO     | yolox.core.trainer:133 - exp value:\n\u2552\u2550\u2550\u2550\u2550\u2550\u2550\u2550\u2550\u2550\u2550\u2550\u2550\u2550\u2550\u2550\u2550\u2550\u2550\u2550\u2564\u2550\u2550\u2550\u2550\u2550\u2550\u2550\u2550\u2550\u2550\u2550\u2550\u2550\u2550\u2550\u2550\u2550\u2550\u2550\u2550\u2550\u2550\u2550\u2550\u2550\u2550\u2550\u2550\u2550\u2550\u2550\u2550\u2550\u2550\u2550\u2550\u2550\u2550\u2550\u2550\u2550\u2550\u2550\u2550\u2550\u2550\u2550\u2550\u2550\u2550\u2550\u2550\u2550\u2550\u2550\u2550\u2550\u2550\u2550\u2550\u2550\u2550\u2550\u2550\u2550\u2550\u2550\u2550\u2550\u2550\u2550\u2550\u2550\u2550\u2550\u2550\u2550\u2550\u2550\u2550\u2550\u2550\u2550\u2550\u2550\u2550\u2550\u2550\u2555\n\u2502 keys              \u2502 values                                                                                 \u2502\n\u255e\u2550\u2550\u2550\u2550\u2550\u2550\u2550\u2550\u2550\u2550\u2550\u2550\u2550\u2550\u2550\u2550\u2550\u2550\u2550\u256a\u2550\u2550\u2550\u2550\u2550\u2550\u2550\u2550\u2550\u2550\u2550\u2550\u2550\u2550\u2550\u2550\u2550\u2550\u2550\u2550\u2550\u2550\u2550\u2550\u2550\u2550\u2550\u2550\u2550\u2550\u2550\u2550\u2550\u2550\u2550\u2550\u2550\u2550\u2550\u2550\u2550\u2550\u2550\u2550\u2550\u2550\u2550\u2550\u2550\u2550\u2550\u2550\u2550\u2550\u2550\u2550\u2550\u2550\u2550\u2550\u2550\u2550\u2550\u2550\u2550\u2550\u2550\u2550\u2550\u2550\u2550\u2550\u2550\u2550\u2550\u2550\u2550\u2550\u2550\u2550\u2550\u2550\u2550\u2550\u2550\u2550\u2550\u2550\u2561\n\u2502 seed              \u2502 None                                                                                   \u2502\n\u251c\u2500\u2500\u2500\u2500\u2500\u2500\u2500\u2500\u2500\u2500\ufffd\ufffd\u2500\u2500\u2500\u2500\u2500\u2500\u2500\u2500\u253c\u2500\u2500\u2500\u2500\u2500\u2500\u2500\u2500\u2500\u2500\u2500\u2500\u2500\u2500\u2500\u2500\u2500\u2500\u2500\u2500\u2500\u2500\u2500\u2500\u2500\u2500\u2500\u2500\u2500\u2500\u2500\u2500\u2500\u2500\u2500\u2500\u2500\u2500\u2500\u2500\u2500\u2500\u2500\u2500\u2500\u2500\u2500\u2500\u2500\u2500\u2500\u2500\u2500\u2500\u2500\u2500\u2500\u2500\u2500\u2500\u2500\u2500\u2500\u2500\u2500\u2500\u2500\u2500\u2500\u2500\u2500\u2500\u2500\u2500\u2500\u2500\u2500\u2500\u2500\u2500\u2500\u2500\u2500\u2500\u2500\u2500\u2500\u2500\u2524\n\u2502 output_dir        \u2502 '/var/lib/simon/agent_run_states/siim-covid19-detection-20250925-205912/yolox_outputs' \u2502\n\u251c\u2500\u2500\u2500\u2500\u2500\u2500\u2500\u2500\u2500\u2500\u2500\u2500\u2500\u2500\u2500\u2500\u2500\u2500\u2500\u253c\u2500\u2500\u2500\u2500\u2500\u2500\u2500\u2500\u2500\u2500\u2500\u2500\u2500\u2500\u2500\u2500\u2500\u2500\u2500\u2500\u2500\u2500\u2500\u2500\u2500\u2500\u2500\u2500\u2500\u2500\u2500\u2500\u2500\u2500\u2500\u2500\u2500\u2500\u2500\u2500\u2500\u2500\u2500\u2500\u2500\u2500\u2500\u2500\u2500\u2500\u2500\u2500\u2500\u2500\u2500\u2500\u2500\u2500\u2500\u2500\u2500\u2500\u2500\u2500\u2500\u2500\u2500\u2500\u2500\u2500\u2500\u2500\u2500\u2500\u2500\u2500\u2500\u2500\u2500\u2500\u2500\u2500\u2500\u2500\u2500\u2500\u2500\u2500\u2524\n\u2502 print_interval    \u2502 10                                                                                     \u2502\n\u251c\u2500\u2500\u2500\u2500\u2500\u2500\u2500\u2500\u2500\u2500\u2500\u2500\u2500\u2500\u2500\u2500\u2500\u2500\u2500\u253c\u2500\u2500\u2500\u2500\u2500\u2500\u2500\u2500\u2500\u2500\u2500\u2500\u2500\u2500\u2500\u2500\u2500\u2500\u2500\u2500\u2500\u2500\u2500\u2500\u2500\ufffd\ufffd\ufffd\u2500\u2500\u2500\u2500\u2500\u2500\u2500\u2500\u2500\u2500\u2500\u2500\u2500\u2500\u2500\u2500\u2500\u2500\u2500\u2500\u2500\u2500\u2500\u2500\u2500\u2500\u2500\u2500\u2500\u2500\u2500\u2500\u2500\u2500\u2500\u2500\u2500\u2500\u2500\u2500\u2500\u2500\u2500\u2500\u2500\u2500\u2500\u2500\u2500\u2500\u2500\u2500\u2500\u2500\u2500\u2500\u2500\u2500\u2500\u2500\u2500\u2500\u2524\n\u2502 eval_interval     \u2502 1                                                                                      \u2502\n\u251c\u2500\u2500\u2500\u2500\u2500\u2500\u2500\u2500\u2500\u2500\u2500\u2500\u2500\u2500\u2500\u2500\u2500\u2500\u2500\u253c\u2500\u2500\u2500\u2500\u2500\u2500\u2500\u2500\u2500\u2500\u2500\u2500\u2500\u2500\u2500\u2500\u2500\u2500\u2500\u2500\u2500\u2500\u2500\u2500\u2500\u2500\u2500\u2500\u2500\u2500\u2500\u2500\u2500\u2500\u2500\u2500\u2500\u2500\u2500\u2500\u2500\u2500\u2500\u2500\u2500\u2500\u2500\u2500\u2500\u2500\u2500\u2500\u2500\u2500\u2500\u2500\u2500\u2500\u2500\u2500\u2500\u2500\u2500\u2500\u2500\u2500\u2500\u2500\u2500\u2500\u2500\u2500\u2500\u2500\u2500\u2500\u2500\u2500\u2500\u2500\u2500\u2500\u2500\u2500\u2500\u2500\u2500\u2500\u2524\n\u2502 dataset           \u2502 None                                                                                   \u2502\n\u251c\u2500\u2500\u2500\u2500\u2500\u2500\u2500\u2500\u2500\u2500\u2500\u2500\u2500\u2500\u2500\u2500\u2500\u2500\u2500\u253c\u2500\u2500\u2500\u2500\u2500\u2500\u2500\u2500\u2500\u2500\u2500\u2500\u2500\u2500\u2500\u2500\u2500\u2500\u2500\u2500\u2500\u2500\u2500\u2500\u2500\u2500\u2500\u2500\u2500\u2500\u2500\u2500\u2500\u2500\u2500\u2500\u2500\u2500\u2500\u2500\u2500\u2500\u2500\u2500\u2500\u2500\u2500\u2500\u2500\u2500\u2500\u2500\u2500\u2500\u2500\u2500\u2500\u2500\u2500\u2500\u2500\u2500\u2500\u2500\u2500\u2500\u2500\u2500\u2500\u2500\u2500\u2500\u2500\u2500\u2500\u2500\u2500\u2500\u2500\u2500\u2500\u2500\u2500\u2500\u2500\u2500\u2500\u2500\u2524\n\u2502 num_classes       \u2502 1                                                                                      \u2502\n\u251c\u2500\u2500\u2500\u2500\u2500\u2500\u2500\u2500\u2500\u2500\u2500\u2500\u2500\u2500\u2500\u2500\u2500\u2500\u2500\u253c\u2500\u2500\u2500\u2500\u2500\u2500\u2500\u2500\u2500\u2500\u2500\u2500\u2500\u2500\u2500\u2500\u2500\u2500\u2500\u2500\u2500\u2500\u2500\u2500\u2500\u2500\u2500\u2500\u2500\u2500\u2500\u2500\u2500\u2500\u2500\u2500\u2500\u2500\u2500\u2500\u2500\u2500\u2500\u2500\u2500\u2500\u2500\u2500\u2500\u2500\u2500\u2500\u2500\u2500\u2500\u2500\u2500\u2500\u2500\u2500\u2500\u2500\u2500\u2500\u2500\u2500\u2500\u2500\u2500\u2500\u2500\u2500\u2500\u2500\u2500\u2500\u2500\u2500\u2500\u2500\u2500\u2500\u2500\u2500\u2500\u2500\u2500\u2500\u2524\n\u2502 depth             \u2502 0.67                                                                                   \u2502\n\u251c\u2500\u2500\u2500\u2500\u2500\u2500\u2500\u2500\u2500\u2500\u2500\u2500\u2500\u2500\u2500\u2500\u2500\u2500\u2500\u253c\u2500\u2500\u2500\u2500\u2500\u2500\u2500\u2500\u2500\u2500\u2500\u2500\u2500\u2500\u2500\u2500\u2500\u2500\u2500\u2500\u2500\u2500\u2500\u2500\u2500\u2500\u2500\u2500\u2500\u2500\u2500\u2500\u2500\u2500\u2500\u2500\u2500\u2500\u2500\u2500\u2500\u2500\u2500\u2500\u2500\u2500\u2500\u2500\u2500\u2500\u2500\u2500\u2500\u2500\u2500\u2500\u2500\u2500\u2500\u2500\u2500\u2500\u2500\u2500\u2500\u2500\u2500\u2500\u2500\u2500\u2500\u2500\u2500\u2500\u2500\u2500\u2500\u2500\u2500\u2500\u2500\u2500\u2500\u2500\u2500\u2500\u2500\u2500\u2524\n\u2502 width             \u2502 0.75                                                                                   \u2502\n\u251c\u2500\u2500\u2500\u2500\u2500\u2500\u2500\u2500\u2500\u2500\u2500\u2500\u2500\u2500\u2500\u2500\u2500\u2500\u2500\u253c\u2500\u2500\u2500\u2500\u2500\u2500\u2500\u2500\u2500\u2500\u2500\u2500\u2500\u2500\u2500\u2500\u2500\u2500\u2500\u2500\u2500\u2500\u2500\u2500\u2500\u2500\u2500\u2500\u2500\u2500\u2500\u2500\u2500\u2500\u2500\u2500\u2500\u2500\u2500\u2500\u2500\u2500\u2500\u2500\u2500\u2500\u2500\u2500\u2500\u2500\u2500\u2500\u2500\u2500\u2500\u2500\u2500\u2500\u2500\u2500\u2500\u2500\u2500\u2500\u2500\u2500\u2500\u2500\u2500\u2500\u2500\u2500\u2500\u2500\u2500\u2500\u2500\u2500\u2500\u2500\u2500\u2500\u2500\u2500\u2500\u2500\u2500\u2500\u2524\n\u2502 act               \u2502 'silu'                                                                                 \u2502\n\u251c\u2500\u2500\u2500\u2500\u2500\u2500\u2500\u2500\u2500\u2500\u2500\u2500\u2500\u2500\u2500\u2500\u2500\u2500\u2500\u253c\u2500\u2500\u2500\u2500\u2500\u2500\u2500\u2500\u2500\u2500\u2500\u2500\u2500\u2500\u2500\u2500\u2500\u2500\u2500\u2500\u2500\u2500\u2500\u2500\u2500\u2500\u2500\u2500\u2500\u2500\u2500\u2500\u2500\u2500\u2500\u2500\u2500\u2500\u2500\u2500\u2500\u2500\u2500\u2500\u2500\u2500\u2500\u2500\u2500\u2500\u2500\u2500\u2500\u2500\u2500\u2500\u2500\u2500\u2500\u2500\u2500\u2500\u2500\u2500\u2500\u2500\u2500\u2500\u2500\u2500\u2500\u2500\u2500\u2500\u2500\u2500\u2500\u2500\u2500\u2500\u2500\u2500\u2500\u2500\u2500\u2500\u2500\u2500\u2524\n\u2502 data_num_workers  \u2502 2                                                                                      \u2502\n\u251c\u2500\u2500\u2500\u2500\u2500\u2500\u2500\u2500\u2500\u2500\u2500\u2500\u2500\u2500\u2500\u2500\u2500\u2500\u2500\u253c\u2500\u2500\u2500\u2500\u2500\u2500\u2500\u2500\u2500\u2500\u2500\u2500\u2500\u2500\u2500\u2500\u2500\u2500\u2500\u2500\u2500\u2500\u2500\u2500\u2500\u2500\u2500\u2500\u2500\u2500\u2500\u2500\u2500\u2500\u2500\u2500\u2500\u2500\u2500\u2500\u2500\u2500\u2500\u2500\u2500\u2500\u2500\u2500\u2500\u2500\u2500\u2500\u2500\u2500\u2500\u2500\u2500\u2500\u2500\u2500\u2500\u2500\u2500\u2500\u2500\u2500\u2500\u2500\u2500\u2500\u2500\u2500\u2500\u2500\u2500\u2500\u2500\u2500\u2500\u2500\u2500\u2500\u2500\u2500\u2500\u2500\u2500\u2500\u2524\n\u2502 input_size        \u2502 (640, 640)                                                                             \u2502\n\u251c\u2500\u2500\u2500\u2500\u2500\u2500\u2500\u2500\u2500\u2500\u2500\u2500\u2500\u2500\u2500\u2500\u2500\u2500\u2500\u253c\u2500\u2500\u2500\u2500\u2500\u2500\u2500\u2500\u2500\u2500\u2500\u2500\u2500\u2500\u2500\u2500\u2500\u2500\u2500\u2500\u2500\u2500\u2500\u2500\u2500\u2500\u2500\u2500\u2500\u2500\u2500\u2500\u2500\u2500\u2500\u2500\u2500\u2500\u2500\u2500\u2500\u2500\u2500\u2500\u2500\u2500\u2500\u2500\u2500\u2500\u2500\u2500\u2500\u2500\u2500\u2500\u2500\u2500\u2500\u2500\u2500\u2500\u2500\u2500\u2500\u2500\u2500\u2500\u2500\u2500\u2500\u2500\u2500\u2500\u2500\u2500\u2500\u2500\u2500\u2500\u2500\u2500\u2500\u2500\u2500\u2500\u2500\u2500\u2524\n\u2502 multiscale_range  \u2502 5                                                                                      \u2502\n\u251c\u2500\u2500\u2500\u2500\u2500\u2500\u2500\u2500\u2500\u2500\u2500\u2500\u2500\u2500\u2500\u2500\u2500\u2500\u2500\u253c\u2500\u2500\u2500\u2500\u2500\u2500\u2500\u2500\u2500\u2500\u2500\u2500\u2500\u2500\ufffd\ufffd\u2500\u2500\u2500\u2500\u2500\u2500\u2500\u2500\u2500\u2500\u2500\u2500\u2500\u2500\u2500\u2500\u2500\u2500\u2500\u2500\u2500\u2500\u2500\u2500\u2500\u2500\u2500\u2500\u2500\u2500\u2500\u2500\u2500\u2500\u2500\u2500\u2500\u2500\u2500\u2500\u2500\u2500\u2500\u2500\u2500\u2500\u2500\u2500\u2500\u2500\u2500\u2500\u2500\u2500\u2500\u2500\u2500\u2500\u2500\u2500\u2500\u2500\u2500\u2500\u2500\u2500\u2500\u2500\u2500\u2500\u2500\u2500\u2500\u2524\n\u2502 data_dir          \u2502 '/var/lib/simon/agent_run_states/siim-covid19-detection-20250925-205912/yolox_data'    \u2502\n\u251c\u2500\u2500\u2500\u2500\u2500\u2500\u2500\u2500\u2500\u2500\u2500\u2500\u2500\u2500\u2500\u2500\u2500\u2500\u2500\u253c\u2500\u2500\u2500\u2500\u2500\u2500\u2500\u2500\u2500\u2500\u2500\u2500\u2500\u2500\u2500\u2500\u2500\u2500\u2500\u2500\u2500\u2500\u2500\u2500\u2500\u2500\u2500\u2500\u2500\u2500\u2500\u2500\u2500\u2500\u2500\u2500\u2500\u2500\u2500\u2500\u2500\u2500\u2500\u2500\u2500\u2500\u2500\u2500\u2500\u2500\u2500\u2500\u2500\u2500\u2500\u2500\u2500\u2500\u2500\u2500\u2500\u2500\u2500\u2500\u2500\u2500\u2500\u2500\u2500\u2500\u2500\u2500\u2500\u2500\u2500\u2500\u2500\u2500\u2500\u2500\u2500\u2500\u2500\u2500\u2500\u2500\u2500\u2500\u2524\n\u2502 train_ann         \u2502 'instances_fold1_train.json'                                                           \u2502\n\u251c\u2500\u2500\u2500\u2500\u2500\u2500\u2500\u2500\u2500\u2500\u2500\u2500\u2500\u2500\u2500\u2500\u2500\u2500\u2500\u253c\u2500\u2500\u2500\u2500\u2500\u2500\u2500\u2500\u2500\u2500\u2500\u2500\u2500\u2500\u2500\u2500\u2500\u2500\u2500\u2500\u2500\u2500\u2500\u2500\u2500\u2500\u2500\u2500\u2500\u2500\u2500\u2500\u2500\u2500\u2500\u2500\u2500\u2500\u2500\u2500\u2500\u2500\u2500\u2500\u2500\u2500\u2500\u2500\u2500\ufffd\ufffd\ufffd\u2500\u2500\u2500\u2500\u2500\u2500\u2500\u2500\u2500\u2500\u2500\u2500\u2500\u2500\u2500\u2500\u2500\u2500\u2500\u2500\u2500\u2500\u2500\u2500\u2500\u2500\u2500\u2500\u2500\u2500\u2500\u2500\u2500\u2500\u2500\u2500\u2500\u2500\u2524\n\u2502 val_ann           \u2502 'instances_fold1_val.json'                                                             \u2502\n\u251c\u2500\u2500\u2500\u2500\u2500\u2500\u2500\u2500\u2500\u2500\u2500\u2500\u2500\u2500\u2500\u2500\u2500\u2500\u2500\u253c\u2500\u2500\u2500\u2500\u2500\u2500\u2500\u2500\u2500\u2500\u2500\u2500\u2500\u2500\u2500\u2500\u2500\u2500\u2500\u2500\u2500\u2500\u2500\u2500\u2500\u2500\u2500\u2500\u2500\u2500\u2500\u2500\u2500\u2500\u2500\u2500\u2500\u2500\u2500\u2500\u2500\u2500\u2500\u2500\u2500\u2500\u2500\u2500\u2500\u2500\u2500\u2500\u2500\u2500\u2500\u2500\u2500\u2500\u2500\u2500\u2500\u2500\u2500\u2500\u2500\u2500\u2500\u2500\u2500\u2500\u2500\u2500\u2500\u2500\u2500\u2500\u2500\u2500\u2500\u2500\u2500\u2500\u2500\u2500\u2500\u2500\u2500\u2500\u2524\n\u2502 test_ann          \u2502 'instances_fold0_val.json'                                                             \u2502\n\u251c\u2500\u2500\u2500\u2500\u2500\u2500\u2500\u2500\u2500\u2500\u2500\u2500\u2500\u2500\u2500\u2500\u2500\u2500\u2500\u253c\u2500\u2500\u2500\u2500\u2500\u2500\u2500\u2500\u2500\u2500\u2500\u2500\u2500\u2500\u2500\u2500\u2500\u2500\u2500\u2500\u2500\u2500\u2500\u2500\u2500\u2500\u2500\u2500\u2500\u2500\u2500\u2500\u2500\u2500\u2500\u2500\u2500\u2500\u2500\u2500\u2500\u2500\u2500\u2500\u2500\u2500\u2500\u2500\u2500\u2500\u2500\u2500\u2500\u2500\u2500\u2500\u2500\u2500\u2500\u2500\u2500\u2500\u2500\u2500\u2500\u2500\u2500\u2500\u2500\u2500\u2500\u2500\u2500\u2500\u2500\u2500\u2500\u2500\u2500\u2500\u2500\u2500\u2500\u2500\u2500\u2500\u2500\u2500\u2524\n\u2502 mosaic_prob       \u2502 0.0                                                                                    \u2502\n\u251c\u2500\u2500\u2500\u2500\u2500\u2500\u2500\u2500\u2500\u2500\u2500\u2500\u2500\u2500\u2500\u2500\u2500\u2500\u2500\u253c\u2500\u2500\u2500\u2500\u2500\u2500\u2500\u2500\u2500\u2500\u2500\u2500\u2500\u2500\u2500\u2500\u2500\u2500\u2500\u2500\u2500\u2500\u2500\u2500\u2500\u2500\u2500\u2500\u2500\u2500\u2500\u2500\u2500\u2500\u2500\u2500\u2500\u2500\u2500\u2500\u2500\u2500\u2500\u2500\u2500\u2500\u2500\u2500\u2500\u2500\u2500\u2500\u2500\u2500\u2500\u2500\u2500\u2500\u2500\u2500\u2500\u2500\u2500\u2500\u2500\u2500\u2500\u2500\u2500\u2500\u2500\u2500\u2500\u2500\u2500\u2500\u2500\u2500\u2500\u2500\u2500\u2500\u2500\u2500\u2500\u2500\u2500\u2500\u2524\n\u2502 mixup_prob        \u2502 0.0                                                                                    \u2502\n\u251c\u2500\u2500\u2500\u2500\u2500\u2500\u2500\u2500\u2500\u2500\u2500\u2500\u2500\u2500\u2500\u2500\u2500\u2500\u2500\u253c\u2500\u2500\u2500\u2500\u2500\u2500\u2500\u2500\u2500\u2500\u2500\u2500\u2500\u2500\u2500\u2500\u2500\u2500\u2500\u2500\u2500\u2500\u2500\u2500\u2500\u2500\u2500\u2500\u2500\u2500\u2500\u2500\u2500\u2500\u2500\u2500\u2500\u2500\u2500\u2500\u2500\u2500\u2500\u2500\u2500\u2500\u2500\u2500\u2500\u2500\u2500\u2500\u2500\u2500\u2500\u2500\u2500\u2500\u2500\u2500\u2500\u2500\u2500\u2500\u2500\u2500\u2500\u2500\u2500\u2500\u2500\u2500\u2500\u2500\u2500\u2500\u2500\u2500\u2500\u2500\u2500\u2500\u2500\u2500\u2500\u2500\u2500\u2500\u2524\n\u2502 hsv_prob          \u2502 1.0                                                                                    \u2502\n\u251c\u2500\u2500\u2500\u2500\u2500\u2500\u2500\u2500\u2500\u2500\u2500\u2500\u2500\u2500\u2500\u2500\u2500\u2500\u2500\u253c\u2500\u2500\u2500\u2500\u2500\u2500\u2500\u2500\u2500\u2500\u2500\u2500\u2500\u2500\u2500\u2500\u2500\u2500\u2500\u2500\u2500\u2500\u2500\u2500\u2500\u2500\u2500\u2500\u2500\u2500\u2500\u2500\u2500\u2500\u2500\u2500\u2500\u2500\u2500\u2500\u2500\u2500\u2500\u2500\u2500\u2500\u2500\u2500\u2500\u2500\u2500\u2500\u2500\u2500\u2500\u2500\u2500\u2500\u2500\u2500\u2500\u2500\u2500\u2500\u2500\u2500\u2500\u2500\u2500\u2500\u2500\u2500\u2500\u2500\u2500\u2500\u2500\u2500\u2500\u2500\u2500\u2500\u2500\u2500\u2500\u2500\u2500\u2500\u2524\n\u2502 flip_prob         \u2502 0.5                                                                                    \u2502\n\u251c\u2500\u2500\u2500\u2500\u2500\u2500\u2500\u2500\u2500\u2500\u2500\u2500\u2500\u2500\u2500\u2500\u2500\u2500\u2500\u253c\u2500\u2500\u2500\u2500\u2500\u2500\u2500\u2500\u2500\u2500\u2500\u2500\u2500\u2500\u2500\u2500\u2500\u2500\u2500\u2500\u2500\u2500\u2500\u2500\u2500\u2500\u2500\u2500\u2500\u2500\u2500\u2500\u2500\u2500\u2500\u2500\u2500\u2500\u2500\u2500\u2500\u2500\u2500\u2500\u2500\u2500\u2500\u2500\u2500\u2500\u2500\u2500\u2500\u2500\u2500\u2500\u2500\u2500\u2500\u2500\u2500\u2500\u2500\u2500\u2500\u2500\u2500\u2500\u2500\u2500\u2500\u2500\u2500\u2500\u2500\u2500\u2500\u2500\u2500\u2500\u2500\u2500\u2500\u2500\u2500\u2500\u2500\u2500\u2524\n\u2502 degrees           \u2502 10.0                                                                                   \u2502\n\u251c\u2500\u2500\u2500\u2500\u2500\u2500\u2500\u2500\u2500\u2500\u2500\u2500\u2500\u2500\u2500\u2500\u2500\u2500\u2500\u253c\u2500\u2500\u2500\u2500\u2500\u2500\u2500\u2500\u2500\u2500\u2500\u2500\u2500\u2500\u2500\u2500\u2500\u2500\u2500\u2500\u2500\u2500\u2500\u2500\u2500\u2500\u2500\u2500\u2500\u2500\u2500\u2500\u2500\u2500\u2500\u2500\u2500\u2500\u2500\u2500\u2500\u2500\u2500\u2500\u2500\u2500\u2500\u2500\u2500\u2500\u2500\u2500\u2500\u2500\u2500\u2500\u2500\u2500\u2500\u2500\u2500\u2500\u2500\u2500\u2500\u2500\u2500\u2500\u2500\u2500\u2500\u2500\u2500\u2500\u2500\u2500\u2500\u2500\u2500\u2500\u2500\u2500\u2500\u2500\u2500\u2500\u2500\u2500\u2524\n\u2502 translate         \u2502 0.1                                                                                    \u2502\n\u251c\u2500\u2500\u2500\u2500\u2500\u2500\u2500\u2500\u2500\u2500\u2500\u2500\u2500\u2500\u2500\u2500\u2500\u2500\u2500\u253c\u2500\u2500\u2500\u2500\u2500\u2500\u2500\u2500\u2500\u2500\u2500\u2500\u2500\u2500\u2500\u2500\u2500\u2500\u2500\u2500\u2500\u2500\u2500\u2500\u2500\u2500\u2500\u2500\u2500\u2500\u2500\u2500\u2500\u2500\u2500\u2500\u2500\u2500\u2500\u2500\u2500\u2500\u2500\u2500\u2500\u2500\u2500\u2500\u2500\u2500\u2500\u2500\u2500\u2500\u2500\u2500\u2500\u2500\u2500\u2500\u2500\u2500\u2500\u2500\u2500\u2500\u2500\u2500\u2500\u2500\u2500\u2500\u2500\u2500\u2500\u2500\u2500\u2500\u2500\u2500\u2500\u2500\u2500\u2500\u2500\u2500\u2500\u2500\u2524\n\u2502 mosaic_scale      \u2502 (0.1, 2)                                                                               \u2502\n\u251c\u2500\u2500\u2500\u2500\u2500\u2500\u2500\u2500\u2500\u2500\u2500\u2500\u2500\u2500\u2500\u2500\u2500\u2500\u2500\u253c\u2500\u2500\u2500\u2500\u2500\u2500\u2500\u2500\u2500\u2500\u2500\u2500\u2500\u2500\u2500\u2500\u2500\u2500\u2500\u2500\u2500\u2500\u2500\u2500\u2500\u2500\u2500\u2500\u2500\u2500\u2500\u2500\u2500\u2500\u2500\u2500\u2500\u2500\ufffd\ufffd\u2500\u2500\u2500\u2500\u2500\u2500\u2500\u2500\u2500\u2500\u2500\u2500\u2500\u2500\u2500\u2500\u2500\u2500\u2500\u2500\u2500\u2500\u2500\u2500\u2500\u2500\u2500\u2500\u2500\u2500\u2500\u2500\u2500\u2500\u2500\u2500\u2500\u2500\u2500\u2500\u2500\u2500\u2500\u2500\u2500\u2500\u2500\u2500\u2500\u2524\n\u2502 enable_mixup      \u2502 False                                                                                  \u2502\n\u251c\u2500\u2500\u2500\u2500\u2500\u2500\u2500\u2500\u2500\u2500\u2500\u2500\u2500\u2500\u2500\u2500\u2500\u2500\u2500\u253c\u2500\u2500\u2500\u2500\u2500\u2500\u2500\u2500\u2500\u2500\u2500\u2500\u2500\u2500\u2500\u2500\u2500\u2500\u2500\u2500\u2500\u2500\u2500\u2500\u2500\u2500\u2500\u2500\u2500\u2500\u2500\u2500\u2500\u2500\u2500\u2500\u2500\u2500\u2500\u2500\u2500\u2500\u2500\u2500\u2500\u2500\u2500\u2500\u2500\u2500\u2500\u2500\u2500\u2500\u2500\u2500\u2500\u2500\u2500\u2500\u2500\u2500\u2500\u2500\u2500\u2500\u2500\u2500\u2500\u2500\u2500\u2500\u2500\u2500\u2500\u2500\u2500\u2500\u2500\u2500\u2500\u2500\u2500\u2500\u2500\u2500\u2500\u2500\u2524\n\u2502 mixup_scale       \u2502 (0.5, 1.5)                                                                             \u2502\n\u251c\u2500\u2500\u2500\u2500\u2500\u2500\u2500\u2500\u2500\u2500\u2500\u2500\u2500\u2500\u2500\u2500\u2500\u2500\u2500\u253c\u2500\u2500\u2500\u2500\u2500\u2500\u2500\u2500\u2500\u2500\u2500\u2500\u2500\u2500\u2500\u2500\u2500\u2500\u2500\u2500\u2500\u2500\u2500\u2500\u2500\u2500\u2500\u2500\u2500\u2500\u2500\u2500\u2500\u2500\u2500\u2500\u2500\u2500\u2500\u2500\u2500\u2500\u2500\u2500\u2500\u2500\u2500\u2500\u2500\u2500\u2500\u2500\u2500\u2500\u2500\u2500\u2500\u2500\u2500\u2500\u2500\u2500\u2500\u2500\u2500\u2500\u2500\u2500\u2500\u2500\u2500\u2500\u2500\ufffd\ufffd\ufffd\u2500\u2500\u2500\u2500\u2500\u2500\u2500\u2500\u2500\u2500\u2500\u2500\u2500\u2500\u2524\n\u2502 shear             \u2502 2.0                                                                                    \u2502\n\u251c\u2500\u2500\u2500\u2500\u2500\u2500\u2500\u2500\u2500\u2500\u2500\u2500\u2500\u2500\u2500\u2500\u2500\u2500\u2500\u253c\u2500\u2500\u2500\u2500\u2500\u2500\u2500\u2500\u2500\u2500\u2500\u2500\u2500\u2500\u2500\u2500\u2500\u2500\u2500\u2500\u2500\u2500\u2500\u2500\u2500\u2500\u2500\u2500\u2500\u2500\u2500\u2500\u2500\u2500\u2500\u2500\u2500\u2500\u2500\u2500\u2500\u2500\u2500\u2500\u2500\u2500\u2500\u2500\u2500\u2500\u2500\u2500\u2500\u2500\u2500\u2500\u2500\u2500\u2500\u2500\u2500\u2500\u2500\u2500\u2500\u2500\u2500\u2500\u2500\u2500\u2500\u2500\u2500\u2500\u2500\u2500\u2500\u2500\u2500\u2500\u2500\u2500\u2500\u2500\u2500\u2500\u2500\u2500\u2524\n\u2502 warmup_epochs     \u2502 1                                                                                      \u2502\n\u251c\u2500\u2500\u2500\u2500\u2500\u2500\u2500\u2500\u2500\u2500\u2500\u2500\u2500\u2500\u2500\u2500\u2500\u2500\u2500\u253c\u2500\u2500\u2500\u2500\u2500\u2500\u2500\u2500\u2500\u2500\u2500\u2500\u2500\u2500\u2500\u2500\u2500\u2500\u2500\u2500\u2500\u2500\u2500\u2500\u2500\u2500\u2500\u2500\u2500\u2500\u2500\u2500\u2500\u2500\u2500\u2500\u2500\u2500\u2500\u2500\u2500\u2500\u2500\u2500\u2500\u2500\u2500\u2500\u2500\u2500\u2500\u2500\u2500\u2500\u2500\u2500\u2500\u2500\u2500\u2500\u2500\u2500\u2500\u2500\u2500\u2500\u2500\u2500\u2500\u2500\u2500\u2500\u2500\u2500\u2500\u2500\u2500\u2500\u2500\u2500\u2500\u2500\u2500\u2500\u2500\u2500\u2500\u2500\u2524\n\u2502 max_epoch         \u2502 2                                                                                      \u2502\n\u251c\u2500\u2500\u2500\u2500\u2500\u2500\u2500\u2500\u2500\u2500\u2500\u2500\u2500\u2500\u2500\u2500\u2500\u2500\u2500\u253c\u2500\u2500\u2500\u2500\u2500\u2500\u2500\u2500\u2500\u2500\u2500\u2500\u2500\u2500\u2500\u2500\u2500\u2500\u2500\u2500\u2500\u2500\u2500\u2500\u2500\u2500\u2500\u2500\u2500\u2500\u2500\u2500\u2500\u2500\u2500\u2500\u2500\u2500\u2500\u2500\u2500\u2500\u2500\u2500\u2500\u2500\u2500\u2500\u2500\u2500\u2500\u2500\u2500\u2500\u2500\u2500\u2500\u2500\u2500\u2500\u2500\u2500\u2500\u2500\u2500\u2500\u2500\u2500\u2500\u2500\u2500\u2500\u2500\u2500\u2500\u2500\u2500\u2500\u2500\u2500\u2500\u2500\u2500\u2500\u2500\u2500\u2500\u2500\u2524\n\u2502 warmup_lr         \u2502 0                                                                                      \u2502\n\u251c\u2500\u2500\u2500\u2500\u2500\u2500\u2500\u2500\u2500\u2500\u2500\u2500\u2500\u2500\u2500\u2500\u2500\u2500\u2500\u253c\u2500\u2500\u2500\u2500\u2500\u2500\u2500\u2500\u2500\u2500\u2500\u2500\u2500\u2500\u2500\u2500\u2500\u2500\u2500\u2500\u2500\u2500\u2500\u2500\u2500\u2500\u2500\u2500\u2500\u2500\u2500\u2500\u2500\u2500\u2500\u2500\u2500\u2500\u2500\u2500\u2500\u2500\u2500\u2500\u2500\u2500\u2500\u2500\u2500\u2500\u2500\u2500\u2500\u2500\u2500\u2500\u2500\u2500\u2500\u2500\u2500\u2500\u2500\u2500\u2500\u2500\u2500\u2500\u2500\u2500\u2500\u2500\u2500\u2500\u2500\u2500\u2500\u2500\u2500\u2500\u2500\u2500\u2500\u2500\u2500\u2500\u2500\u2500\u2524\n\u2502 min_lr_ratio      \u2502 0.05                                                                                   \u2502\n\u251c\u2500\u2500\u2500\u2500\u2500\u2500\u2500\u2500\u2500\u2500\u2500\u2500\u2500\ufffd\ufffd\ufffd\u2500\u2500\u2500\u2500\u2500\u253c\u2500\u2500\u2500\u2500\u2500\u2500\u2500\u2500\u2500\u2500\u2500\u2500\u2500\u2500\u2500\u2500\u2500\u2500\u2500\u2500\u2500\u2500\u2500\u2500\u2500\u2500\u2500\u2500\u2500\u2500\u2500\u2500\u2500\u2500\u2500\u2500\u2500\u2500\u2500\u2500\u2500\u2500\u2500\u2500\u2500\u2500\u2500\u2500\u2500\u2500\u2500\u2500\u2500\u2500\u2500\u2500\u2500\u2500\u2500\u2500\u2500\u2500\u2500\u2500\u2500\u2500\u2500\u2500\u2500\u2500\u2500\u2500\u2500\u2500\u2500\u2500\u2500\u2500\u2500\u2500\u2500\u2500\u2500\u2500\u2500\u2500\u2500\u2500\u2524\n\u2502 basic_lr_per_img  \u2502 0.00015625                                                                             \u2502\n\u251c\u2500\u2500\u2500\u2500\u2500\u2500\u2500\u2500\u2500\u2500\u2500\u2500\u2500\u2500\u2500\u2500\u2500\u2500\u2500\u253c\u2500\u2500\u2500\u2500\u2500\u2500\u2500\u2500\u2500\u2500\u2500\u2500\u2500\u2500\u2500\u2500\u2500\u2500\u2500\u2500\u2500\u2500\u2500\u2500\u2500\u2500\u2500\u2500\u2500\u2500\u2500\u2500\u2500\u2500\u2500\u2500\u2500\u2500\u2500\u2500\u2500\u2500\u2500\u2500\u2500\u2500\u2500\u2500\u2500\u2500\u2500\u2500\u2500\u2500\u2500\u2500\u2500\u2500\u2500\u2500\u2500\u2500\u2500\u2500\u2500\u2500\u2500\u2500\u2500\u2500\u2500\u2500\u2500\u2500\u2500\u2500\u2500\u2500\u2500\u2500\u2500\u2500\u2500\u2500\u2500\u2500\u2500\u2500\u2524\n\u2502 scheduler         \u2502 'yoloxwarmcos'                                                                         \u2502\n\u251c\u2500\u2500\u2500\u2500\u2500\u2500\u2500\u2500\u2500\u2500\u2500\u2500\u2500\u2500\u2500\u2500\u2500\u2500\u2500\u253c\u2500\u2500\u2500\u2500\u2500\u2500\u2500\u2500\u2500\u2500\u2500\u2500\u2500\u2500\u2500\u2500\u2500\u2500\u2500\u2500\u2500\u2500\u2500\u2500\u2500\u2500\u2500\u2500\u2500\u2500\u2500\u2500\u2500\u2500\u2500\u2500\u2500\u2500\u2500\u2500\u2500\u2500\u2500\u2500\u2500\u2500\u2500\u2500\u2500\u2500\u2500\u2500\u2500\u2500\u2500\u2500\u2500\u2500\u2500\u2500\u2500\u2500\u2500\u2500\u2500\u2500\u2500\u2500\u2500\u2500\u2500\u2500\u2500\u2500\u2500\u2500\u2500\u2500\u2500\u2500\u2500\u2500\u2500\u2500\u2500\u2500\u2500\u2500\u2524\n\u2502 no_aug_epochs     \u2502 5                                                                                      \u2502\n\u251c\u2500\u2500\u2500\u2500\u2500\u2500\u2500\u2500\u2500\u2500\u2500\u2500\u2500\u2500\u2500\u2500\u2500\u2500\u2500\u253c\u2500\u2500\u2500\u2500\u2500\u2500\u2500\u2500\u2500\u2500\u2500\u2500\u2500\u2500\u2500\u2500\u2500\u2500\u2500\u2500\u2500\u2500\u2500\u2500\u2500\u2500\u2500\u2500\u2500\u2500\u2500\u2500\u2500\u2500\u2500\u2500\u2500\u2500\u2500\u2500\u2500\u2500\u2500\u2500\u2500\u2500\u2500\u2500\u2500\u2500\u2500\u2500\u2500\u2500\u2500\u2500\u2500\u2500\u2500\u2500\u2500\u2500\u2500\u2500\u2500\u2500\u2500\u2500\u2500\u2500\u2500\u2500\u2500\u2500\u2500\u2500\u2500\u2500\u2500\u2500\u2500\u2500\u2500\u2500\u2500\u2500\u2500\u2500\u2524\n\u2502 ema               \u2502 True                                                                                   \u2502\n\u251c\u2500\u2500\u2500\u2500\u2500\u2500\u2500\u2500\u2500\u2500\u2500\u2500\u2500\u2500\u2500\u2500\u2500\u2500\u2500\u253c\u2500\u2500\u2500\u2500\u2500\u2500\u2500\u2500\u2500\u2500\u2500\u2500\u2500\u2500\u2500\u2500\u2500\u2500\u2500\u2500\u2500\u2500\u2500\u2500\u2500\u2500\u2500\u2500\u2500\u2500\u2500\u2500\u2500\u2500\u2500\u2500\u2500\u2500\u2500\u2500\u2500\u2500\u2500\u2500\u2500\u2500\u2500\u2500\u2500\u2500\u2500\u2500\u2500\u2500\u2500\u2500\u2500\u2500\u2500\u2500\u2500\u2500\ufffd\ufffd\u2500\u2500\u2500\u2500\u2500\u2500\u2500\u2500\u2500\u2500\u2500\u2500\u2500\u2500\u2500\u2500\u2500\u2500\u2500\u2500\u2500\u2500\u2500\u2500\u2500\u2524\n\u2502 weight_decay      \u2502 0.0005                                                                                 \u2502\n\u251c\u2500\u2500\u2500\u2500\u2500\u2500\u2500\u2500\u2500\u2500\u2500\u2500\u2500\u2500\u2500\u2500\u2500\u2500\u2500\u253c\u2500\u2500\u2500\u2500\u2500\u2500\u2500\u2500\u2500\u2500\u2500\u2500\u2500\u2500\u2500\u2500\u2500\u2500\u2500\u2500\u2500\u2500\u2500\u2500\u2500\u2500\u2500\u2500\u2500\u2500\u2500\u2500\u2500\u2500\u2500\u2500\u2500\u2500\u2500\u2500\u2500\u2500\u2500\u2500\u2500\u2500\u2500\u2500\u2500\u2500\u2500\u2500\u2500\u2500\u2500\u2500\u2500\u2500\u2500\u2500\u2500\u2500\u2500\u2500\u2500\u2500\u2500\u2500\u2500\u2500\u2500\u2500\u2500\u2500\u2500\u2500\u2500\u2500\u2500\u2500\u2500\u2500\u2500\u2500\u2500\u2500\u2500\u2500\u2524\n\u2502 momentum          \u2502 0.9                                                                                    \u2502\n\u251c\u2500\u2500\u2500\u2500\u2500\u2500\u2500\u2500\u2500\u2500\u2500\u2500\u2500\u2500\u2500\u2500\u2500\u2500\u2500\u253c\u2500\u2500\u2500\u2500\u2500\u2500\u2500\u2500\u2500\u2500\u2500\u2500\u2500\u2500\u2500\u2500\u2500\u2500\u2500\u2500\u2500\u2500\u2500\u2500\u2500\u2500\u2500\u2500\u2500\u2500\u2500\u2500\u2500\u2500\u2500\u2500\u2500\u2500\u2500\u2500\u2500\u2500\u2500\u2500\u2500\u2500\u2500\u2500\u2500\u2500\u2500\u2500\u2500\u2500\u2500\u2500\u2500\u2500\u2500\u2500\u2500\u2500\u2500\u2500\u2500\u2500\u2500\u2500\u2500\u2500\u2500\u2500\u2500\u2500\u2500\u2500\u2500\u2500\u2500\u2500\u2500\u2500\u2500\u2500\u2500\u2500\u2500\u2500\u2524\n\u2502 save_history_ckpt \ufffd\ufffd True                                                                                   \u2502\n\u251c\u2500\u2500\u2500\u2500\u2500\u2500\u2500\u2500\u2500\u2500\u2500\u2500\u2500\u2500\u2500\u2500\u2500\u2500\u2500\u253c\u2500\u2500\u2500\u2500\u2500\u2500\u2500\u2500\u2500\u2500\u2500\u2500\u2500\u2500\u2500\u2500\u2500\u2500\u2500\u2500\u2500\u2500\u2500\u2500\u2500\u2500\u2500\u2500\u2500\u2500\u2500\u2500\u2500\u2500\u2500\u2500\u2500\u2500\u2500\u2500\u2500\u2500\u2500\u2500\u2500\u2500\u2500\u2500\u2500\u2500\u2500\u2500\u2500\u2500\u2500\u2500\u2500\u2500\u2500\u2500\u2500\u2500\u2500\u2500\u2500\u2500\u2500\u2500\u2500\u2500\u2500\u2500\u2500\u2500\u2500\u2500\u2500\u2500\u2500\u2500\u2500\u2500\u2500\u2500\u2500\u2500\u2500\u2500\u2524\n\u2502 exp_name          \u2502 'yolox_m_fold_1'                                                                       \u2502\n\u251c\u2500\u2500\u2500\u2500\u2500\u2500\u2500\u2500\u2500\u2500\u2500\u2500\u2500\u2500\u2500\u2500\u2500\u2500\u2500\u253c\u2500\u2500\u2500\u2500\u2500\u2500\u2500\u2500\u2500\u2500\u2500\u2500\u2500\u2500\u2500\u2500\u2500\u2500\u2500\u2500\u2500\u2500\u2500\u2500\u2500\u2500\u2500\u2500\u2500\u2500\u2500\u2500\u2500\u2500\u2500\u2500\u2500\u2500\u2500\u2500\u2500\u2500\u2500\u2500\u2500\u2500\u2500\u2500\u2500\u2500\u2500\u2500\u2500\u2500\u2500\u2500\u2500\u2500\u2500\u2500\u2500\u2500\u2500\u2500\u2500\u2500\u2500\u2500\u2500\u2500\u2500\u2500\u2500\u2500\u2500\u2500\u2500\u2500\u2500\u2500\u2500\u2500\u2500\u2500\u2500\u2500\u2500\u2500\u2524\n\u2502 test_size         \u2502 (640, 640)                                                                             \u2502\n\u251c\u2500\u2500\ufffd\ufffd\u2500\u2500\u2500\u2500\u2500\u2500\u2500\u2500\u2500\u2500\u2500\u2500\u2500\u2500\u2500\u2500\u253c\u2500\u2500\u2500\u2500\u2500\u2500\u2500\u2500\u2500\u2500\u2500\u2500\u2500\u2500\u2500\u2500\u2500\u2500\u2500\u2500\u2500\u2500\u2500\u2500\u2500\u2500\u2500\u2500\u2500\u2500\u2500\u2500\u2500\u2500\u2500\u2500\u2500\u2500\u2500\u2500\u2500\u2500\u2500\u2500\u2500\u2500\u2500\u2500\u2500\u2500\u2500\u2500\u2500\u2500\u2500\u2500\u2500\u2500\u2500\u2500\u2500\u2500\u2500\u2500\u2500\u2500\u2500\u2500\u2500\u2500\u2500\u2500\u2500\u2500\u2500\u2500\u2500\u2500\u2500\u2500\u2500\u2500\u2500\u2500\u2500\u2500\u2500\u2500\u2524\n\u2502 test_conf         \u2502 0.01                                                                                   \u2502\n\u251c\u2500\u2500\u2500\u2500\u2500\u2500\u2500\u2500\u2500\u2500\u2500\u2500\u2500\u2500\u2500\u2500\u2500\u2500\u2500\u253c\u2500\u2500\u2500\u2500\u2500\u2500\u2500\u2500\u2500\u2500\u2500\u2500\u2500\u2500\u2500\u2500\u2500\u2500\u2500\u2500\u2500\u2500\u2500\u2500\u2500\u2500\u2500\u2500\u2500\u2500\u2500\u2500\u2500\u2500\u2500\u2500\u2500\u2500\u2500\u2500\u2500\u2500\u2500\u2500\u2500\u2500\u2500\u2500\u2500\u2500\u2500\u2500\u2500\u2500\u2500\u2500\u2500\u2500\u2500\u2500\u2500\u2500\u2500\u2500\u2500\u2500\u2500\u2500\u2500\u2500\u2500\u2500\u2500\u2500\u2500\u2500\u2500\u2500\u2500\u2500\u2500\u2500\u2500\u2500\u2500\u2500\u2500\u2500\u2524\n\u2502 nmsthre           \u2502 0.65                                                                                   \u2502\n\u2558\u2550\u2550\u2550\u2550\u2550\u2550\u2550\u2550\u2550\u2550\u2550\u2550\u2550\u2550\u2550\u2550\u2550\u2550\u2550\u2567\u2550\u2550\u2550\u2550\u2550\u2550\u2550\u2550\u2550\u2550\u2550\u2550\u2550\u2550\u2550\u2550\u2550\ufffd\ufffd\ufffd\u2550\u2550\u2550\u2550\u2550\u2550\u2550\u2550\u2550\u2550\u2550\u2550\u2550\u2550\u2550\u2550\u2550\u2550\u2550\u2550\u2550\u2550\u2550\u2550\u2550\u2550\u2550\u2550\u2550\u2550\u2550\u2550\u2550\u2550\u2550\u2550\u2550\u2550\u2550\u2550\u2550\u2550\u2550\u2550\u2550\u2550\u2550\u2550\u2550\u2550\u2550\u2550\u2550\u2550\u2550\u2550\u2550\u2550\u2550\u2550\u2550\u2550\u2550\u2550\u2550\u2550\u2550\u2550\u2550\u2550\u255b\n"
          ]
        },
        {
          "output_type": "stream",
          "name": "stderr",
          "text": [
            "2025-09-26 18:28:36 | INFO     | yolox.core.trainer:138 - Model Summary: Params: 25.28M, Gflops: 73.73\n2025-09-26 18:28:36 | INFO     | yolox.core.trainer:338 - loading checkpoint for fine tuning\n"
          ]
        },
        {
          "output_type": "stream",
          "name": "stderr",
          "text": [
            "2025-09-26 18:28:36 | WARNING  | yolox.utils.checkpoint:24 - Shape of head.cls_preds.0.weight in checkpoint is torch.Size([80, 192, 1, 1]), while shape of head.cls_preds.0.weight in model is torch.Size([1, 192, 1, 1]).\n2025-09-26 18:28:36 | WARNING  | yolox.utils.checkpoint:24 - Shape of head.cls_preds.0.bias in checkpoint is torch.Size([80]), while shape of head.cls_preds.0.bias in model is torch.Size([1]).\n2025-09-26 18:28:36 | WARNING  | yolox.utils.checkpoint:24 - Shape of head.cls_preds.1.weight in checkpoint is torch.Size([80, 192, 1, 1]), while shape of head.cls_preds.1.weight in model is torch.Size([1, 192, 1, 1]).\n2025-09-26 18:28:36 | WARNING  | yolox.utils.checkpoint:24 - Shape of head.cls_preds.1.bias in checkpoint is torch.Size([80]), while shape of head.cls_preds.1.bias in model is torch.Size([1]).\n2025-09-26 18:28:36 | WARNING  | yolox.utils.checkpoint:24 - Shape of head.cls_preds.2.weight in checkpoint is torch.Size([80, 192, 1, 1]), while shape of head.cls_preds.2.weight in model is torch.Size([1, 192, 1, 1]).\n2025-09-26 18:28:36 | WARNING  | yolox.utils.checkpoint:24 - Shape of head.cls_preds.2.bias in checkpoint is torch.Size([80]), while shape of head.cls_preds.2.bias in model is torch.Size([1]).\n2025-09-26 18:28:36 | INFO     | yolox.data.datasets.coco:63 - loading annotations into memory...\n2025-09-26 18:28:36 | INFO     | yolox.data.datasets.coco:63 - Done (t=0.01s)\n2025-09-26 18:28:36 | INFO     | pycocotools.coco:86 - creating index...\n2025-09-26 18:28:36 | INFO     | pycocotools.coco:86 - index created!\n2025-09-26 18:28:36 | INFO     | yolox.core.trainer:157 - init prefetcher, this might take one minute or less...\n"
          ]
        },
        {
          "output_type": "stream",
          "name": "stderr",
          "text": [
            "2025-09-26 18:28:38 | INFO     | yolox.data.datasets.coco:63 - loading annotations into memory...\n2025-09-26 18:28:38 | INFO     | yolox.data.datasets.coco:63 - Done (t=0.00s)\n2025-09-26 18:28:38 | INFO     | pycocotools.coco:86 - creating index...\n2025-09-26 18:28:38 | INFO     | pycocotools.coco:86 - index created!\n2025-09-26 18:28:38 | INFO     | yolox.core.trainer:196 - Training start...\n2025-09-26 18:28:38 | INFO     | yolox.core.trainer:197 - \nYOLOX(\n  (backbone): YOLOPAFPN(\n    (backbone): CSPDarknet(\n      (stem): Focus(\n        (conv): BaseConv(\n          (conv): Conv2d(12, 48, kernel_size=(3, 3), stride=(1, 1), padding=(1, 1), bias=False)\n          (bn): BatchNorm2d(48, eps=0.001, momentum=0.03, affine=True, track_running_stats=True)\n          (act): SiLU(inplace=True)\n        )\n      )\n      (dark2): Sequential(\n        (0): BaseConv(\n          (conv): Conv2d(48, 96, kernel_size=(3, 3), stride=(2, 2), padding=(1, 1), bias=False)\n          (bn): BatchNorm2d(96, eps=0.001, momentum=0.03, affine=True, track_running_stats=True)\n          (act): SiLU(inplace=True)\n        )\n        (1): CSPLayer(\n          (conv1): BaseConv(\n            (conv): Conv2d(96, 48, kernel_size=(1, 1), stride=(1, 1), bias=False)\n            (bn): BatchNorm2d(48, eps=0.001, momentum=0.03, affine=True, track_running_stats=True)\n            (act): SiLU(inplace=True)\n          )\n          (conv2): BaseConv(\n            (conv): Conv2d(96, 48, kernel_size=(1, 1), stride=(1, 1), bias=False)\n            (bn): BatchNorm2d(48, eps=0.001, momentum=0.03, affine=True, track_running_stats=True)\n            (act): SiLU(inplace=True)\n          )\n          (conv3): BaseConv(\n            (conv): Conv2d(96, 96, kernel_size=(1, 1), stride=(1, 1), bias=False)\n            (bn): BatchNorm2d(96, eps=0.001, momentum=0.03, affine=True, track_running_stats=True)\n            (act): SiLU(inplace=True)\n          )\n          (m): Sequential(\n            (0): Bottleneck(\n              (conv1): BaseConv(\n                (conv): Conv2d(48, 48, kernel_size=(1, 1), stride=(1, 1), bias=False)\n                (bn): BatchNorm2d(48, eps=0.001, momentum=0.03, affine=True, track_running_stats=True)\n                (act): SiLU(inplace=True)\n              )\n              (conv2): BaseConv(\n                (conv): Conv2d(48, 48, kernel_size=(3, 3), stride=(1, 1), padding=(1, 1), bias=False)\n                (bn): BatchNorm2d(48, eps=0.001, momentum=0.03, affine=True, track_running_stats=True)\n                (act): SiLU(inplace=True)\n              )\n            )\n            (1): Bottleneck(\n              (conv1): BaseConv(\n                (conv): Conv2d(48, 48, kernel_size=(1, 1), stride=(1, 1), bias=False)\n                (bn): BatchNorm2d(48, eps=0.001, momentum=0.03, affine=True, track_running_stats=True)\n                (act): SiLU(inplace=True)\n              )\n              (conv2): BaseConv(\n                (conv): Conv2d(48, 48, kernel_size=(3, 3), stride=(1, 1), padding=(1, 1), bias=False)\n                (bn): BatchNorm2d(48, eps=0.001, momentum=0.03, affine=True, track_running_stats=True)\n                (act): SiLU(inplace=True)\n              )\n            )\n          )\n        )\n      )\n      (dark3): Sequential(\n        (0): BaseConv(\n          (conv): Conv2d(96, 192, kernel_size=(3, 3), stride=(2, 2), padding=(1, 1), bias=False)\n          (bn): BatchNorm2d(192, eps=0.001, momentum=0.03, affine=True, track_running_stats=True)\n          (act): SiLU(inplace=True)\n        )\n        (1): CSPLayer(\n          (conv1): BaseConv(\n            (conv): Conv2d(192, 96, kernel_size=(1, 1), stride=(1, 1), bias=False)\n            (bn): BatchNorm2d(96, eps=0.001, momentum=0.03, affine=True, track_running_stats=True)\n            (act): SiLU(inplace=True)\n          )\n          (conv2): BaseConv(\n            (conv): Conv2d(192, 96, kernel_size=(1, 1), stride=(1, 1), bias=False)\n            (bn): BatchNorm2d(96, eps=0.001, momentum=0.03, affine=True, track_running_stats=True)\n            (act): SiLU(inplace=True)\n          )\n          (conv3): BaseConv(\n            (conv): Conv2d(192, 192, kernel_size=(1, 1), stride=(1, 1), bias=False)\n            (bn): BatchNorm2d(192, eps=0.001, momentum=0.03, affine=True, track_running_stats=True)\n            (act): SiLU(inplace=True)\n          )\n          (m): Sequential(\n            (0): Bottleneck(\n              (conv1): BaseConv(\n                (conv): Conv2d(96, 96, kernel_size=(1, 1), stride=(1, 1), bias=False)\n                (bn): BatchNorm2d(96, eps=0.001, momentum=0.03, affine=True, track_running_stats=True)\n                (act): SiLU(inplace=True)\n              )\n              (conv2): BaseConv(\n                (conv): Conv2d(96, 96, kernel_size=(3, 3), stride=(1, 1), padding=(1, 1), bias=False)\n                (bn): BatchNorm2d(96, eps=0.001, momentum=0.03, affine=True, track_running_stats=True)\n                (act): SiLU(inplace=True)\n              )\n            )\n            (1): Bottleneck(\n              (conv1): BaseConv(\n                (conv): Conv2d(96, 96, kernel_size=(1, 1), stride=(1, 1), bias=False)\n                (bn): BatchNorm2d(96, eps=0.001, momentum=0.03, affine=True, track_running_stats=True)\n                (act): SiLU(inplace=True)\n              )\n              (conv2): BaseConv(\n                (conv): Conv2d(96, 96, kernel_size=(3, 3), stride=(1, 1), padding=(1, 1), bias=False)\n                (bn): BatchNorm2d(96, eps=0.001, momentum=0.03, affine=True, track_running_stats=True)\n                (act): SiLU(inplace=True)\n              )\n            )\n            (2): Bottleneck(\n              (conv1): BaseConv(\n                (conv): Conv2d(96, 96, kernel_size=(1, 1), stride=(1, 1), bias=False)\n                (bn): BatchNorm2d(96, eps=0.001, momentum=0.03, affine=True, track_running_stats=True)\n                (act): SiLU(inplace=True)\n              )\n              (conv2): BaseConv(\n                (conv): Conv2d(96, 96, kernel_size=(3, 3), stride=(1, 1), padding=(1, 1), bias=False)\n                (bn): BatchNorm2d(96, eps=0.001, momentum=0.03, affine=True, track_running_stats=True)\n                (act): SiLU(inplace=True)\n              )\n            )\n            (3): Bottleneck(\n              (conv1): BaseConv(\n                (conv): Conv2d(96, 96, kernel_size=(1, 1), stride=(1, 1), bias=False)\n                (bn): BatchNorm2d(96, eps=0.001, momentum=0.03, affine=True, track_running_stats=True)\n                (act): SiLU(inplace=True)\n              )\n              (conv2): BaseConv(\n                (conv): Conv2d(96, 96, kernel_size=(3, 3), stride=(1, 1), padding=(1, 1), bias=False)\n                (bn): BatchNorm2d(96, eps=0.001, momentum=0.03, affine=True, track_running_stats=True)\n                (act): SiLU(inplace=True)\n              )\n            )\n            (4): Bottleneck(\n              (conv1): BaseConv(\n                (conv): Conv2d(96, 96, kernel_size=(1, 1), stride=(1, 1), bias=False)\n                (bn): BatchNorm2d(96, eps=0.001, momentum=0.03, affine=True, track_running_stats=True)\n                (act): SiLU(inplace=True)\n              )\n              (conv2): BaseConv(\n                (conv): Conv2d(96, 96, kernel_size=(3, 3), stride=(1, 1), padding=(1, 1), bias=False)\n                (bn): BatchNorm2d(96, eps=0.001, momentum=0.03, affine=True, track_running_stats=True)\n                (act): SiLU(inplace=True)\n              )\n            )\n            (5): Bottleneck(\n              (conv1): BaseConv(\n                (conv): Conv2d(96, 96, kernel_size=(1, 1), stride=(1, 1), bias=False)\n                (bn): BatchNorm2d(96, eps=0.001, momentum=0.03, affine=True, track_running_stats=True)\n                (act): SiLU(inplace=True)\n              )\n              (conv2): BaseConv(\n                (conv): Conv2d(96, 96, kernel_size=(3, 3), stride=(1, 1), padding=(1, 1), bias=False)\n                (bn): BatchNorm2d(96, eps=0.001, momentum=0.03, affine=True, track_running_stats=True)\n                (act): SiLU(inplace=True)\n              )\n            )\n          )\n        )\n      )\n      (dark4): Sequential(\n        (0): BaseConv(\n          (conv): Conv2d(192, 384, kernel_size=(3, 3), stride=(2, 2), padding=(1, 1), bias=False)\n          (bn): BatchNorm2d(384, eps=0.001, momentum=0.03, affine=True, track_running_stats=True)\n          (act): SiLU(inplace=True)\n        )\n        (1): CSPLayer(\n          (conv1): BaseConv(\n            (conv): Conv2d(384, 192, kernel_size=(1, 1), stride=(1, 1), bias=False)\n            (bn): BatchNorm2d(192, eps=0.001, momentum=0.03, affine=True, track_running_stats=True)\n            (act): SiLU(inplace=True)\n          )\n          (conv2): BaseConv(\n            (conv): Conv2d(384, 192, kernel_size=(1, 1), stride=(1, 1), bias=False)\n            (bn): BatchNorm2d(192, eps=0.001, momentum=0.03, affine=True, track_running_stats=True)\n            (act): SiLU(inplace=True)\n          )\n          (conv3): BaseConv(\n            (conv): Conv2d(384, 384, kernel_size=(1, 1), stride=(1, 1), bias=False)\n            (bn): BatchNorm2d(384, eps=0.001, momentum=0.03, affine=True, track_running_stats=True)\n            (act): SiLU(inplace=True)\n          )\n          (m): Sequential(\n            (0): Bottleneck(\n              (conv1): BaseConv(\n                (conv): Conv2d(192, 192, kernel_size=(1, 1), stride=(1, 1), bias=False)\n                (bn): BatchNorm2d(192, eps=0.001, momentum=0.03, affine=True, track_running_stats=True)\n                (act): SiLU(inplace=True)\n              )\n              (conv2): BaseConv(\n                (conv): Conv2d(192, 192, kernel_size=(3, 3), stride=(1, 1), padding=(1, 1), bias=False)\n                (bn): BatchNorm2d(192, eps=0.001, momentum=0.03, affine=True, track_running_stats=True)\n                (act): SiLU(inplace=True)\n              )\n            )\n            (1): Bottleneck(\n              (conv1): BaseConv(\n                (conv): Conv2d(192, 192, kernel_size=(1, 1), stride=(1, 1), bias=False)\n                (bn): BatchNorm2d(192, eps=0.001, momentum=0.03, affine=True, track_running_stats=True)\n                (act): SiLU(inplace=True)\n              )\n              (conv2): BaseConv(\n                (conv): Conv2d(192, 192, kernel_size=(3, 3), stride=(1, 1), padding=(1, 1), bias=False)\n                (bn): BatchNorm2d(192, eps=0.001, momentum=0.03, affine=True, track_running_stats=True)\n                (act): SiLU(inplace=True)\n              )\n            )\n            (2): Bottleneck(\n              (conv1): BaseConv(\n                (conv): Conv2d(192, 192, kernel_size=(1, 1), stride=(1, 1), bias=False)\n                (bn): BatchNorm2d(192, eps=0.001, momentum=0.03, affine=True, track_running_stats=True)\n                (act): SiLU(inplace=True)\n              )\n              (conv2): BaseConv(\n                (conv): Conv2d(192, 192, kernel_size=(3, 3), stride=(1, 1), padding=(1, 1), bias=False)\n                (bn): BatchNorm2d(192, eps=0.001, momentum=0.03, affine=True, track_running_stats=True)\n                (act): SiLU(inplace=True)\n              )\n            )\n            (3): Bottleneck(\n              (conv1): BaseConv(\n                (conv): Conv2d(192, 192, kernel_size=(1, 1), stride=(1, 1), bias=False)\n                (bn): BatchNorm2d(192, eps=0.001, momentum=0.03, affine=True, track_running_stats=True)\n                (act): SiLU(inplace=True)\n              )\n              (conv2): BaseConv(\n                (conv): Conv2d(192, 192, kernel_size=(3, 3), stride=(1, 1), padding=(1, 1), bias=False)\n                (bn): BatchNorm2d(192, eps=0.001, momentum=0.03, affine=True, track_running_stats=True)\n                (act): SiLU(inplace=True)\n              )\n            )\n            (4): Bottleneck(\n              (conv1): BaseConv(\n                (conv): Conv2d(192, 192, kernel_size=(1, 1), stride=(1, 1), bias=False)\n                (bn): BatchNorm2d(192, eps=0.001, momentum=0.03, affine=True, track_running_stats=True)\n                (act): SiLU(inplace=True)\n              )\n              (conv2): BaseConv(\n                (conv): Conv2d(192, 192, kernel_size=(3, 3), stride=(1, 1), padding=(1, 1), bias=False)\n                (bn): BatchNorm2d(192, eps=0.001, momentum=0.03, affine=True, track_running_stats=True)\n                (act): SiLU(inplace=True)\n              )\n            )\n            (5): Bottleneck(\n              (conv1): BaseConv(\n                (conv): Conv2d(192, 192, kernel_size=(1, 1), stride=(1, 1), bias=False)\n                (bn): BatchNorm2d(192, eps=0.001, momentum=0.03, affine=True, track_running_stats=True)\n                (act): SiLU(inplace=True)\n              )\n              (conv2): BaseConv(\n                (conv): Conv2d(192, 192, kernel_size=(3, 3), stride=(1, 1), padding=(1, 1), bias=False)\n                (bn): BatchNorm2d(192, eps=0.001, momentum=0.03, affine=True, track_running_stats=True)\n                (act): SiLU(inplace=True)\n              )\n            )\n          )\n        )\n      )\n      (dark5): Sequential(\n        (0): BaseConv(\n          (conv): Conv2d(384, 768, kernel_size=(3, 3), stride=(2, 2), padding=(1, 1), bias=False)\n          (bn): BatchNorm2d(768, eps=0.001, momentum=0.03, affine=True, track_running_stats=True)\n          (act): SiLU(inplace=True)\n        )\n        (1): SPPBottleneck(\n          (conv1): BaseConv(\n            (conv): Conv2d(768, 384, kernel_size=(1, 1), stride=(1, 1), bias=False)\n            (bn): BatchNorm2d(384, eps=0.001, momentum=0.03, affine=True, track_running_stats=True)\n            (act): SiLU(inplace=True)\n          )\n          (m): ModuleList(\n            (0): MaxPool2d(kernel_size=5, stride=1, padding=2, dilation=1, ceil_mode=False)\n            (1): MaxPool2d(kernel_size=9, stride=1, padding=4, dilation=1, ceil_mode=False)\n            (2): MaxPool2d(kernel_size=13, stride=1, padding=6, dilation=1, ceil_mode=False)\n          )\n          (conv2): BaseConv(\n            (conv): Conv2d(1536, 768, kernel_size=(1, 1), stride=(1, 1), bias=False)\n            (bn): BatchNorm2d(768, eps=0.001, momentum=0.03, affine=True, track_running_stats=True)\n            (act): SiLU(inplace=True)\n          )\n        )\n        (2): CSPLayer(\n          (conv1): BaseConv(\n            (conv): Conv2d(768, 384, kernel_size=(1, 1), stride=(1, 1), bias=False)\n            (bn): BatchNorm2d(384, eps=0.001, momentum=0.03, affine=True, track_running_stats=True)\n            (act): SiLU(inplace=True)\n          )\n          (conv2): BaseConv(\n            (conv): Conv2d(768, 384, kernel_size=(1, 1), stride=(1, 1), bias=False)\n            (bn): BatchNorm2d(384, eps=0.001, momentum=0.03, affine=True, track_running_stats=True)\n            (act): SiLU(inplace=True)\n          )\n          (conv3): BaseConv(\n            (conv): Conv2d(768, 768, kernel_size=(1, 1), stride=(1, 1), bias=False)\n            (bn): BatchNorm2d(768, eps=0.001, momentum=0.03, affine=True, track_running_stats=True)\n            (act): SiLU(inplace=True)\n          )\n          (m): Sequential(\n            (0): Bottleneck(\n              (conv1): BaseConv(\n                (conv): Conv2d(384, 384, kernel_size=(1, 1), stride=(1, 1), bias=False)\n                (bn): BatchNorm2d(384, eps=0.001, momentum=0.03, affine=True, track_running_stats=True)\n                (act): SiLU(inplace=True)\n              )\n              (conv2): BaseConv(\n                (conv): Conv2d(384, 384, kernel_size=(3, 3), stride=(1, 1), padding=(1, 1), bias=False)\n                (bn): BatchNorm2d(384, eps=0.001, momentum=0.03, affine=True, track_running_stats=True)\n                (act): SiLU(inplace=True)\n              )\n            )\n            (1): Bottleneck(\n              (conv1): BaseConv(\n                (conv): Conv2d(384, 384, kernel_size=(1, 1), stride=(1, 1), bias=False)\n                (bn): BatchNorm2d(384, eps=0.001, momentum=0.03, affine=True, track_running_stats=True)\n                (act): SiLU(inplace=True)\n              )\n              (conv2): BaseConv(\n                (conv): Conv2d(384, 384, kernel_size=(3, 3), stride=(1, 1), padding=(1, 1), bias=False)\n                (bn): BatchNorm2d(384, eps=0.001, momentum=0.03, affine=True, track_running_stats=True)\n                (act): SiLU(inplace=True)\n              )\n            )\n          )\n        )\n      )\n    )\n    (upsample): Upsample(scale_factor=2.0, mode='nearest')\n    (lateral_conv0): BaseConv(\n      (conv): Conv2d(768, 384, kernel_size=(1, 1), stride=(1, 1), bias=False)\n      (bn): BatchNorm2d(384, eps=0.001, momentum=0.03, affine=True, track_running_stats=True)\n      (act): SiLU(inplace=True)\n    )\n    (C3_p4): CSPLayer(\n      (conv1): BaseConv(\n        (conv): Conv2d(768, 192, kernel_size=(1, 1), stride=(1, 1), bias=False)\n        (bn): BatchNorm2d(192, eps=0.001, momentum=0.03, affine=True, track_running_stats=True)\n        (act): SiLU(inplace=True)\n      )\n      (conv2): BaseConv(\n        (conv): Conv2d(768, 192, kernel_size=(1, 1), stride=(1, 1), bias=False)\n        (bn): BatchNorm2d(192, eps=0.001, momentum=0.03, affine=True, track_running_stats=True)\n        (act): SiLU(inplace=True)\n      )\n      (conv3): BaseConv(\n        (conv): Conv2d(384, 384, kernel_size=(1, 1), stride=(1, 1), bias=False)\n        (bn): BatchNorm2d(384, eps=0.001, momentum=0.03, affine=True, track_running_stats=True)\n        (act): SiLU(inplace=True)\n      )\n      (m): Sequential(\n        (0): Bottleneck(\n          (conv1): BaseConv(\n            (conv): Conv2d(192, 192, kernel_size=(1, 1), stride=(1, 1), bias=False)\n            (bn): BatchNorm2d(192, eps=0.001, momentum=0.03, affine=True, track_running_stats=True)\n            (act): SiLU(inplace=True)\n          )\n          (conv2): BaseConv(\n            (conv): Conv2d(192, 192, kernel_size=(3, 3), stride=(1, 1), padding=(1, 1), bias=False)\n            (bn): BatchNorm2d(192, eps=0.001, momentum=0.03, affine=True, track_running_stats=True)\n            (act): SiLU(inplace=True)\n          )\n        )\n        (1): Bottleneck(\n          (conv1): BaseConv(\n            (conv): Conv2d(192, 192, kernel_size=(1, 1), stride=(1, 1), bias=False)\n            (bn): BatchNorm2d(192, eps=0.001, momentum=0.03, affine=True, track_running_stats=True)\n            (act): SiLU(inplace=True)\n          )\n          (conv2): BaseConv(\n            (conv): Conv2d(192, 192, kernel_size=(3, 3), stride=(1, 1), padding=(1, 1), bias=False)\n            (bn): BatchNorm2d(192, eps=0.001, momentum=0.03, affine=True, track_running_stats=True)\n            (act): SiLU(inplace=True)\n          )\n        )\n      )\n    )\n    (reduce_conv1): BaseConv(\n      (conv): Conv2d(384, 192, kernel_size=(1, 1), stride=(1, 1), bias=False)\n      (bn): BatchNorm2d(192, eps=0.001, momentum=0.03, affine=True, track_running_stats=True)\n      (act): SiLU(inplace=True)\n    )\n    (C3_p3): CSPLayer(\n      (conv1): BaseConv(\n        (conv): Conv2d(384, 96, kernel_size=(1, 1), stride=(1, 1), bias=False)\n        (bn): BatchNorm2d(96, eps=0.001, momentum=0.03, affine=True, track_running_stats=True)\n        (act): SiLU(inplace=True)\n      )\n      (conv2): BaseConv(\n        (conv): Conv2d(384, 96, kernel_size=(1, 1), stride=(1, 1), bias=False)\n        (bn): BatchNorm2d(96, eps=0.001, momentum=0.03, affine=True, track_running_stats=True)\n        (act): SiLU(inplace=True)\n      )\n      (conv3): BaseConv(\n        (conv): Conv2d(192, 192, kernel_size=(1, 1), stride=(1, 1), bias=False)\n        (bn): BatchNorm2d(192, eps=0.001, momentum=0.03, affine=True, track_running_stats=True)\n        (act): SiLU(inplace=True)\n      )\n      (m): Sequential(\n        (0): Bottleneck(\n          (conv1): BaseConv(\n            (conv): Conv2d(96, 96, kernel_size=(1, 1), stride=(1, 1), bias=False)\n            (bn): BatchNorm2d(96, eps=0.001, momentum=0.03, affine=True, track_running_stats=True)\n            (act): SiLU(inplace=True)\n          )\n          (conv2): BaseConv(\n            (conv): Conv2d(96, 96, kernel_size=(3, 3), stride=(1, 1), padding=(1, 1), bias=False)\n            (bn): BatchNorm2d(96, eps=0.001, momentum=0.03, affine=True, track_running_stats=True)\n            (act): SiLU(inplace=True)\n          )\n        )\n        (1): Bottleneck(\n          (conv1): BaseConv(\n            (conv): Conv2d(96, 96, kernel_size=(1, 1), stride=(1, 1), bias=False)\n            (bn): BatchNorm2d(96, eps=0.001, momentum=0.03, affine=True, track_running_stats=True)\n            (act): SiLU(inplace=True)\n          )\n          (conv2): BaseConv(\n            (conv): Conv2d(96, 96, kernel_size=(3, 3), stride=(1, 1), padding=(1, 1), bias=False)\n            (bn): BatchNorm2d(96, eps=0.001, momentum=0.03, affine=True, track_running_stats=True)\n            (act): SiLU(inplace=True)\n          )\n        )\n      )\n    )\n    (bu_conv2): BaseConv(\n      (conv): Conv2d(192, 192, kernel_size=(3, 3), stride=(2, 2), padding=(1, 1), bias=False)\n      (bn): BatchNorm2d(192, eps=0.001, momentum=0.03, affine=True, track_running_stats=True)\n      (act): SiLU(inplace=True)\n    )\n    (C3_n3): CSPLayer(\n      (conv1): BaseConv(\n        (conv): Conv2d(384, 192, kernel_size=(1, 1), stride=(1, 1), bias=False)\n        (bn): BatchNorm2d(192, eps=0.001, momentum=0.03, affine=True, track_running_stats=True)\n        (act): SiLU(inplace=True)\n      )\n      (conv2): BaseConv(\n        (conv): Conv2d(384, 192, kernel_size=(1, 1), stride=(1, 1), bias=False)\n        (bn): BatchNorm2d(192, eps=0.001, momentum=0.03, affine=True, track_running_stats=True)\n        (act): SiLU(inplace=True)\n      )\n      (conv3): BaseConv(\n        (conv): Conv2d(384, 384, kernel_size=(1, 1), stride=(1, 1), bias=False)\n        (bn): BatchNorm2d(384, eps=0.001, momentum=0.03, affine=True, track_running_stats=True)\n        (act): SiLU(inplace=True)\n      )\n      (m): Sequential(\n        (0): Bottleneck(\n          (conv1): BaseConv(\n            (conv): Conv2d(192, 192, kernel_size=(1, 1), stride=(1, 1), bias=False)\n            (bn): BatchNorm2d(192, eps=0.001, momentum=0.03, affine=True, track_running_stats=True)\n            (act): SiLU(inplace=True)\n          )\n          (conv2): BaseConv(\n            (conv): Conv2d(192, 192, kernel_size=(3, 3), stride=(1, 1), padding=(1, 1), bias=False)\n            (bn): BatchNorm2d(192, eps=0.001, momentum=0.03, affine=True, track_running_stats=True)\n            (act): SiLU(inplace=True)\n          )\n        )\n        (1): Bottleneck(\n          (conv1): BaseConv(\n            (conv): Conv2d(192, 192, kernel_size=(1, 1), stride=(1, 1), bias=False)\n            (bn): BatchNorm2d(192, eps=0.001, momentum=0.03, affine=True, track_running_stats=True)\n            (act): SiLU(inplace=True)\n          )\n          (conv2): BaseConv(\n            (conv): Conv2d(192, 192, kernel_size=(3, 3), stride=(1, 1), padding=(1, 1), bias=False)\n            (bn): BatchNorm2d(192, eps=0.001, momentum=0.03, affine=True, track_running_stats=True)\n            (act): SiLU(inplace=True)\n          )\n        )\n      )\n    )\n    (bu_conv1): BaseConv(\n      (conv): Conv2d(384, 384, kernel_size=(3, 3), stride=(2, 2), padding=(1, 1), bias=False)\n      (bn): BatchNorm2d(384, eps=0.001, momentum=0.03, affine=True, track_running_stats=True)\n      (act): SiLU(inplace=True)\n    )\n    (C3_n4): CSPLayer(\n      (conv1): BaseConv(\n        (conv): Conv2d(768, 384, kernel_size=(1, 1), stride=(1, 1), bias=False)\n        (bn): BatchNorm2d(384, eps=0.001, momentum=0.03, affine=True, track_running_stats=True)\n        (act): SiLU(inplace=True)\n      )\n      (conv2): BaseConv(\n        (conv): Conv2d(768, 384, kernel_size=(1, 1), stride=(1, 1), bias=False)\n        (bn): BatchNorm2d(384, eps=0.001, momentum=0.03, affine=True, track_running_stats=True)\n        (act): SiLU(inplace=True)\n      )\n      (conv3): BaseConv(\n        (conv): Conv2d(768, 768, kernel_size=(1, 1), stride=(1, 1), bias=False)\n        (bn): BatchNorm2d(768, eps=0.001, momentum=0.03, affine=True, track_running_stats=True)\n        (act): SiLU(inplace=True)\n      )\n      (m): Sequential(\n        (0): Bottleneck(\n          (conv1): BaseConv(\n            (conv): Conv2d(384, 384, kernel_size=(1, 1), stride=(1, 1), bias=False)\n            (bn): BatchNorm2d(384, eps=0.001, momentum=0.03, affine=True, track_running_stats=True)\n            (act): SiLU(inplace=True)\n          )\n          (conv2): BaseConv(\n            (conv): Conv2d(384, 384, kernel_size=(3, 3), stride=(1, 1), padding=(1, 1), bias=False)\n            (bn): BatchNorm2d(384, eps=0.001, momentum=0.03, affine=True, track_running_stats=True)\n            (act): SiLU(inplace=True)\n          )\n        )\n        (1): Bottleneck(\n          (conv1): BaseConv(\n            (conv): Conv2d(384, 384, kernel_size=(1, 1), stride=(1, 1), bias=False)\n            (bn): BatchNorm2d(384, eps=0.001, momentum=0.03, affine=True, track_running_stats=True)\n            (act): SiLU(inplace=True)\n          )\n          (conv2): BaseConv(\n            (conv): Conv2d(384, 384, kernel_size=(3, 3), stride=(1, 1), padding=(1, 1), bias=False)\n            (bn): BatchNorm2d(384, eps=0.001, momentum=0.03, affine=True, track_running_stats=True)\n            (act): SiLU(inplace=True)\n          )\n        )\n      )\n    )\n  )\n  (head): YOLOXHead(\n    (cls_convs): ModuleList(\n      (0-2): 3 x Sequential(\n        (0): BaseConv(\n          (conv): Conv2d(192, 192, kernel_size=(3, 3), stride=(1, 1), padding=(1, 1), bias=False)\n          (bn): BatchNorm2d(192, eps=0.001, momentum=0.03, affine=True, track_running_stats=True)\n          (act): SiLU(inplace=True)\n        )\n        (1): BaseConv(\n          (conv): Conv2d(192, 192, kernel_size=(3, 3), stride=(1, 1), padding=(1, 1), bias=False)\n          (bn): BatchNorm2d(192, eps=0.001, momentum=0.03, affine=True, track_running_stats=True)\n          (act): SiLU(inplace=True)\n        )\n      )\n    )\n    (reg_convs): ModuleList(\n      (0-2): 3 x Sequential(\n        (0): BaseConv(\n          (conv): Conv2d(192, 192, kernel_size=(3, 3), stride=(1, 1), padding=(1, 1), bias=False)\n          (bn): BatchNorm2d(192, eps=0.001, momentum=0.03, affine=True, track_running_stats=True)\n          (act): SiLU(inplace=True)\n        )\n        (1): BaseConv(\n          (conv): Conv2d(192, 192, kernel_size=(3, 3), stride=(1, 1), padding=(1, 1), bias=False)\n          (bn): BatchNorm2d(192, eps=0.001, momentum=0.03, affine=True, track_running_stats=True)\n          (act): SiLU(inplace=True)\n        )\n      )\n    )\n    (cls_preds): ModuleList(\n      (0-2): 3 x Conv2d(192, 1, kernel_size=(1, 1), stride=(1, 1))\n    )\n    (reg_preds): ModuleList(\n      (0-2): 3 x Conv2d(192, 4, kernel_size=(1, 1), stride=(1, 1))\n    )\n    (obj_preds): ModuleList(\n      (0-2): 3 x Conv2d(192, 1, kernel_size=(1, 1), stride=(1, 1))\n    )\n    (stems): ModuleList(\n      (0): BaseConv(\n        (conv): Conv2d(192, 192, kernel_size=(1, 1), stride=(1, 1), bias=False)\n        (bn): BatchNorm2d(192, eps=0.001, momentum=0.03, affine=True, track_running_stats=True)\n        (act): SiLU(inplace=True)\n      )\n      (1): BaseConv(\n        (conv): Conv2d(384, 192, kernel_size=(1, 1), stride=(1, 1), bias=False)\n        (bn): BatchNorm2d(192, eps=0.001, momentum=0.03, affine=True, track_running_stats=True)\n        (act): SiLU(inplace=True)\n      )\n      (2): BaseConv(\n        (conv): Conv2d(768, 192, kernel_size=(1, 1), stride=(1, 1), bias=False)\n        (bn): BatchNorm2d(192, eps=0.001, momentum=0.03, affine=True, track_running_stats=True)\n        (act): SiLU(inplace=True)\n      )\n    )\n    (l1_loss): L1Loss()\n    (bcewithlog_loss): BCEWithLogitsLoss()\n    (iou_loss): IOUloss()\n  )\n)\n2025-09-26 18:28:38 | INFO     | yolox.core.trainer:218 - ---> start train epoch1\n2025-09-26 18:28:38 | INFO     | yolox.core.trainer:221 - --->No mosaic aug now!\n2025-09-26 18:28:38 | INFO     | yolox.core.trainer:223 - --->Add additional L1 loss now!\n"
          ]
        },
        {
          "output_type": "stream",
          "name": "stderr",
          "text": [
            "2025-09-26 18:28:58 | INFO     | yolox.core.trainer:270 - epoch: 1/2, iter: 10/286, gpu mem: 6005Mb, mem: 38.9Gb, iter_time: 2.018s, data_time: 0.295s, total_loss: 23.4, iou_loss: 4.0, l1_loss: 2.6, conf_loss: 14.6, cls_loss: 2.2, lr: 3.056e-06, size: 640, ETA: 0:18:53\n"
          ]
        },
        {
          "output_type": "stream",
          "name": "stderr",
          "text": [
            "2025-09-26 18:29:13 | INFO     | yolox.core.trainer:270 - epoch: 1/2, iter: 20/286, gpu mem: 6005Mb, mem: 38.7Gb, iter_time: 1.503s, data_time: 0.288s, total_loss: 15.0, iou_loss: 3.5, l1_loss: 2.2, conf_loss: 6.9, cls_loss: 2.4, lr: 1.223e-05, size: 480, ETA: 0:16:11\n"
          ]
        },
        {
          "output_type": "stream",
          "name": "stderr",
          "text": [
            "2025-09-26 18:29:33 | INFO     | yolox.core.trainer:270 - epoch: 1/2, iter: 30/286, gpu mem: 7871Mb, mem: 38.8Gb, iter_time: 1.930s, data_time: 0.224s, total_loss: 11.6, iou_loss: 3.2, l1_loss: 2.0, conf_loss: 5.0, cls_loss: 1.4, lr: 2.751e-05, size: 736, ETA: 0:16:24\n"
          ]
        },
        {
          "output_type": "stream",
          "name": "stderr",
          "text": [
            "2025-09-26 18:29:52 | INFO     | yolox.core.trainer:270 - epoch: 1/2, iter: 40/286, gpu mem: 7871Mb, mem: 38.7Gb, iter_time: 1.954s, data_time: 0.320s, total_loss: 10.8, iou_loss: 3.3, l1_loss: 1.9, conf_loss: 4.7, cls_loss: 0.9, lr: 4.890e-05, size: 576, ETA: 0:16:24\n"
          ]
        },
        {
          "output_type": "stream",
          "name": "stderr",
          "text": [
            "2025-09-26 18:30:11 | INFO     | yolox.core.trainer:270 - epoch: 1/2, iter: 50/286, gpu mem: 7871Mb, mem: 38.6Gb, iter_time: 1.853s, data_time: 0.190s, total_loss: 12.4, iou_loss: 3.6, l1_loss: 2.2, conf_loss: 5.6, cls_loss: 1.0, lr: 7.641e-05, size: 704, ETA: 0:16:06\n"
          ]
        },
        {
          "output_type": "stream",
          "name": "stderr",
          "text": [
            "2025-09-26 18:30:17 | INFO     | yolox.core.trainer:270 - epoch: 1/2, iter: 60/286, gpu mem: 7871Mb, mem: 38.6Gb, iter_time: 0.668s, data_time: 0.479s, total_loss: 10.2, iou_loss: 3.5, l1_loss: 1.9, conf_loss: 4.0, cls_loss: 0.8, lr: 1.100e-04, size: 576, ETA: 0:14:06\n"
          ]
        },
        {
          "output_type": "stream",
          "name": "stderr",
          "text": [
            "2025-09-26 18:30:25 | INFO     | yolox.core.trainer:270 - epoch: 1/2, iter: 70/286, gpu mem: 7871Mb, mem: 38.5Gb, iter_time: 0.724s, data_time: 0.510s, total_loss: 10.6, iou_loss: 3.6, l1_loss: 1.9, conf_loss: 4.4, cls_loss: 0.8, lr: 1.498e-04, size: 640, ETA: 0:12:43\n"
          ]
        },
        {
          "output_type": "stream",
          "name": "stderr",
          "text": [
            "2025-09-26 18:30:32 | INFO     | yolox.core.trainer:270 - epoch: 1/2, iter: 80/286, gpu mem: 7871Mb, mem: 38.4Gb, iter_time: 0.735s, data_time: 0.587s, total_loss: 8.9, iou_loss: 3.3, l1_loss: 1.5, conf_loss: 3.5, cls_loss: 0.7, lr: 1.956e-04, size: 480, ETA: 0:11:40\n"
          ]
        },
        {
          "output_type": "stream",
          "name": "stderr",
          "text": [
            "2025-09-26 18:30:52 | INFO     | yolox.core.trainer:270 - epoch: 1/2, iter: 90/286, gpu mem: 9223Mb, mem: 38.5Gb, iter_time: 1.954s, data_time: 0.152s, total_loss: 10.3, iou_loss: 3.4, l1_loss: 1.8, conf_loss: 4.3, cls_loss: 0.7, lr: 2.476e-04, size: 800, ETA: 0:11:54\n"
          ]
        },
        {
          "output_type": "stream",
          "name": "stderr",
          "text": [
            "2025-09-26 18:30:59 | INFO     | yolox.core.trainer:270 - epoch: 1/2, iter: 100/286, gpu mem: 9223Mb, mem: 38.4Gb, iter_time: 0.712s, data_time: 0.555s, total_loss: 9.7, iou_loss: 3.7, l1_loss: 1.7, conf_loss: 3.6, cls_loss: 0.7, lr: 3.056e-04, size: 480, ETA: 0:11:03\n"
          ]
        },
        {
          "output_type": "stream",
          "name": "stderr",
          "text": [
            "2025-09-26 18:31:06 | INFO     | yolox.core.trainer:270 - epoch: 1/2, iter: 110/286, gpu mem: 9223Mb, mem: 38.5Gb, iter_time: 0.727s, data_time: 0.587s, total_loss: 8.3, iou_loss: 3.3, l1_loss: 1.4, conf_loss: 2.9, cls_loss: 0.7, lr: 3.698e-04, size: 480, ETA: 0:10:20\n"
          ]
        },
        {
          "output_type": "stream",
          "name": "stderr",
          "text": [
            "2025-09-26 18:31:14 | INFO     | yolox.core.trainer:270 - epoch: 1/2, iter: 120/286, gpu mem: 9223Mb, mem: 38.5Gb, iter_time: 0.771s, data_time: 0.498s, total_loss: 9.3, iou_loss: 2.9, l1_loss: 1.5, conf_loss: 4.2, cls_loss: 0.7, lr: 4.401e-04, size: 736, ETA: 0:09:45\n"
          ]
        },
        {
          "output_type": "stream",
          "name": "stderr",
          "text": [
            "2025-09-26 18:31:20 | INFO     | yolox.core.trainer:270 - epoch: 1/2, iter: 130/286, gpu mem: 9223Mb, mem: 38.5Gb, iter_time: 0.659s, data_time: 0.508s, total_loss: 10.1, iou_loss: 3.4, l1_loss: 1.7, conf_loss: 4.3, cls_loss: 0.7, lr: 5.165e-04, size: 480, ETA: 0:09:11\n"
          ]
        },
        {
          "output_type": "stream",
          "name": "stderr",
          "text": [
            "2025-09-26 18:31:28 | INFO     | yolox.core.trainer:270 - epoch: 1/2, iter: 140/286, gpu mem: 9223Mb, mem: 38.5Gb, iter_time: 0.725s, data_time: 0.510s, total_loss: 9.5, iou_loss: 3.2, l1_loss: 1.6, conf_loss: 4.0, cls_loss: 0.7, lr: 5.991e-04, size: 640, ETA: 0:08:42\n"
          ]
        },
        {
          "output_type": "stream",
          "name": "stderr",
          "text": [
            "2025-09-26 18:31:35 | INFO     | yolox.core.trainer:270 - epoch: 1/2, iter: 150/286, gpu mem: 9223Mb, mem: 38.4Gb, iter_time: 0.711s, data_time: 0.394s, total_loss: 11.3, iou_loss: 3.2, l1_loss: 1.7, conf_loss: 5.7, cls_loss: 0.8, lr: 6.877e-04, size: 800, ETA: 0:08:16\n"
          ]
        },
        {
          "output_type": "stream",
          "name": "stderr",
          "text": [
            "2025-09-26 18:31:42 | INFO     | yolox.core.trainer:270 - epoch: 1/2, iter: 160/286, gpu mem: 9223Mb, mem: 38.3Gb, iter_time: 0.700s, data_time: 0.479s, total_loss: 10.9, iou_loss: 3.4, l1_loss: 1.7, conf_loss: 5.1, cls_loss: 0.7, lr: 7.824e-04, size: 640, ETA: 0:07:52\n"
          ]
        },
        {
          "output_type": "stream",
          "name": "stderr",
          "text": [
            "2025-09-26 18:31:49 | INFO     | yolox.core.trainer:270 - epoch: 1/2, iter: 170/286, gpu mem: 9223Mb, mem: 38.3Gb, iter_time: 0.737s, data_time: 0.466s, total_loss: 9.3, iou_loss: 3.3, l1_loss: 1.6, conf_loss: 3.7, cls_loss: 0.7, lr: 8.833e-04, size: 736, ETA: 0:07:31\n"
          ]
        },
        {
          "output_type": "stream",
          "name": "stderr",
          "text": [
            "2025-09-26 18:32:08 | INFO     | yolox.core.trainer:270 - epoch: 1/2, iter: 180/286, gpu mem: 9223Mb, mem: 38.5Gb, iter_time: 1.887s, data_time: 0.258s, total_loss: 9.6, iou_loss: 3.1, l1_loss: 1.4, conf_loss: 4.4, cls_loss: 0.7, lr: 9.903e-04, size: 608, ETA: 0:07:36\n"
          ]
        },
        {
          "output_type": "stream",
          "name": "stderr",
          "text": [
            "2025-09-26 18:32:15 | INFO     | yolox.core.trainer:270 - epoch: 1/2, iter: 190/286, gpu mem: 9223Mb, mem: 38.5Gb, iter_time: 0.702s, data_time: 0.555s, total_loss: 10.8, iou_loss: 3.4, l1_loss: 1.6, conf_loss: 5.0, cls_loss: 0.8, lr: 1.103e-03, size: 480, ETA: 0:07:15\n"
          ]
        },
        {
          "output_type": "stream",
          "name": "stderr",
          "text": [
            "2025-09-26 18:32:22 | INFO     | yolox.core.trainer:270 - epoch: 1/2, iter: 200/286, gpu mem: 9223Mb, mem: 38.5Gb, iter_time: 0.702s, data_time: 0.564s, total_loss: 8.5, iou_loss: 3.2, l1_loss: 1.3, conf_loss: 3.3, cls_loss: 0.7, lr: 1.223e-03, size: 480, ETA: 0:06:56\n"
          ]
        },
        {
          "output_type": "stream",
          "name": "stderr",
          "text": [
            "2025-09-26 18:32:38 | INFO     | yolox.core.trainer:270 - epoch: 1/2, iter: 210/286, gpu mem: 9223Mb, mem: 38.6Gb, iter_time: 1.605s, data_time: 0.388s, total_loss: 9.4, iou_loss: 3.3, l1_loss: 1.6, conf_loss: 3.8, cls_loss: 0.7, lr: 1.348e-03, size: 544, ETA: 0:06:53\n"
          ]
        },
        {
          "output_type": "stream",
          "name": "stderr",
          "text": [
            "2025-09-26 18:32:45 | INFO     | yolox.core.trainer:270 - epoch: 1/2, iter: 220/286, gpu mem: 9223Mb, mem: 38.5Gb, iter_time: 0.744s, data_time: 0.598s, total_loss: 9.3, iou_loss: 3.4, l1_loss: 1.4, conf_loss: 3.9, cls_loss: 0.7, lr: 1.479e-03, size: 480, ETA: 0:06:35\n"
          ]
        },
        {
          "output_type": "stream",
          "name": "stderr",
          "text": [
            "2025-09-26 18:32:53 | INFO     | yolox.core.trainer:270 - epoch: 1/2, iter: 230/286, gpu mem: 9223Mb, mem: 38.5Gb, iter_time: 0.735s, data_time: 0.463s, total_loss: 9.5, iou_loss: 3.1, l1_loss: 1.6, conf_loss: 4.1, cls_loss: 0.7, lr: 1.617e-03, size: 736, ETA: 0:06:18\n"
          ]
        },
        {
          "output_type": "stream",
          "name": "stderr",
          "text": [
            "2025-09-26 18:33:08 | INFO     | yolox.core.trainer:270 - epoch: 1/2, iter: 240/286, gpu mem: 9223Mb, mem: 38.5Gb, iter_time: 1.519s, data_time: 0.291s, total_loss: 9.6, iou_loss: 3.4, l1_loss: 1.4, conf_loss: 4.1, cls_loss: 0.7, lr: 1.760e-03, size: 512, ETA: 0:06:13\n"
          ]
        },
        {
          "output_type": "stream",
          "name": "stderr",
          "text": [
            "2025-09-26 18:33:15 | INFO     | yolox.core.trainer:270 - epoch: 1/2, iter: 250/286, gpu mem: 9223Mb, mem: 38.5Gb, iter_time: 0.733s, data_time: 0.417s, total_loss: 11.4, iou_loss: 3.4, l1_loss: 1.8, conf_loss: 5.5, cls_loss: 0.7, lr: 1.910e-03, size: 800, ETA: 0:05:56\n"
          ]
        },
        {
          "output_type": "stream",
          "name": "stderr",
          "text": [
            "2025-09-26 18:33:23 | INFO     | yolox.core.trainer:270 - epoch: 1/2, iter: 260/286, gpu mem: 9223Mb, mem: 38.4Gb, iter_time: 0.726s, data_time: 0.450s, total_loss: 10.8, iou_loss: 3.4, l1_loss: 1.8, conf_loss: 4.9, cls_loss: 0.7, lr: 2.066e-03, size: 736, ETA: 0:05:41\n"
          ]
        },
        {
          "output_type": "stream",
          "name": "stderr",
          "text": [
            "2025-09-26 18:33:30 | INFO     | yolox.core.trainer:270 - epoch: 1/2, iter: 270/286, gpu mem: 9223Mb, mem: 38.6Gb, iter_time: 0.704s, data_time: 0.449s, total_loss: 9.8, iou_loss: 2.9, l1_loss: 1.5, conf_loss: 4.7, cls_loss: 0.7, lr: 2.228e-03, size: 704, ETA: 0:05:25\n"
          ]
        },
        {
          "output_type": "stream",
          "name": "stderr",
          "text": [
            "2025-09-26 18:33:36 | INFO     | yolox.core.trainer:270 - epoch: 1/2, iter: 280/286, gpu mem: 9223Mb, mem: 38.6Gb, iter_time: 0.621s, data_time: 0.460s, total_loss: 10.2, iou_loss: 3.3, l1_loss: 1.5, conf_loss: 4.8, cls_loss: 0.7, lr: 2.396e-03, size: 512, ETA: 0:05:10\n"
          ]
        },
        {
          "output_type": "stream",
          "name": "stderr",
          "text": [
            "2025-09-26 18:33:40 | INFO     | yolox.core.trainer:402 - Save weights to /var/lib/simon/agent_run_states/siim-covid19-detection-20250925-205912/yolox_outputs/yolox_m_fold_1\n"
          ]
        },
        {
          "output_type": "stream",
          "name": "stdout",
          "text": [
            "/var/lib/simon/agent_run_states/siim-covid19-detection-20250925-205912/YOLOX/yolox/core/trainer.py:106: FutureWarning: `torch.cuda.amp.autocast(args...)` is deprecated. Please use `torch.amp.autocast('cuda', args...)` instead.\n  with torch.cuda.amp.autocast(enabled=self.amp_training):\n/var/lib/simon/agent_run_states/siim-covid19-detection-20250925-205912/YOLOX/yolox/models/yolo_head.py:474: FutureWarning: `torch.cuda.amp.autocast(args...)` is deprecated. Please use `torch.amp.autocast('cuda', args...)` instead.\n  with torch.cuda.amp.autocast(enabled=False):\n\r  0%|          | 0/71 [00:00<?, ?it/s]"
          ]
        },
        {
          "output_type": "stream",
          "name": "stdout",
          "text": [
            "\r  1%|1         | 1/71 [00:05<06:00,  5.15s/it]\r  3%|2         | 2/71 [00:05<02:31,  2.19s/it]"
          ]
        },
        {
          "output_type": "stream",
          "name": "stdout",
          "text": [
            "\r  4%|4         | 3/71 [00:05<01:28,  1.30s/it]\r  6%|5         | 4/71 [00:05<00:55,  1.20it/s]"
          ]
        },
        {
          "output_type": "stream",
          "name": "stdout",
          "text": [
            "\r  7%|7         | 5/71 [00:05<00:37,  1.75it/s]"
          ]
        },
        {
          "output_type": "stream",
          "name": "stdout",
          "text": [
            "\r  8%|8         | 6/71 [00:06<00:45,  1.44it/s]"
          ]
        },
        {
          "output_type": "stream",
          "name": "stdout",
          "text": [
            "\r 10%|9         | 7/71 [00:06<00:36,  1.74it/s]"
          ]
        },
        {
          "output_type": "stream",
          "name": "stdout",
          "text": [
            "\r 11%|#1        | 8/71 [00:08<00:45,  1.37it/s]"
          ]
        },
        {
          "output_type": "stream",
          "name": "stdout",
          "text": [
            "\r 13%|#2        | 9/71 [00:08<00:36,  1.71it/s]"
          ]
        },
        {
          "output_type": "stream",
          "name": "stdout",
          "text": [
            "\r 14%|#4        | 10/71 [00:09<00:48,  1.26it/s]"
          ]
        },
        {
          "output_type": "stream",
          "name": "stdout",
          "text": [
            "\r 15%|#5        | 11/71 [00:09<00:39,  1.52it/s]"
          ]
        },
        {
          "output_type": "stream",
          "name": "stdout",
          "text": [
            "\r 17%|#6        | 12/71 [00:10<00:44,  1.34it/s]"
          ]
        },
        {
          "output_type": "stream",
          "name": "stdout",
          "text": [
            "\r 18%|#8        | 13/71 [00:11<00:43,  1.32it/s]"
          ]
        },
        {
          "output_type": "stream",
          "name": "stdout",
          "text": [
            "\r 20%|#9        | 14/71 [00:12<00:41,  1.37it/s]"
          ]
        },
        {
          "output_type": "stream",
          "name": "stdout",
          "text": [
            "\r 21%|##1       | 15/71 [00:13<00:44,  1.27it/s]"
          ]
        },
        {
          "output_type": "stream",
          "name": "stdout",
          "text": [
            "\r 23%|##2       | 16/71 [00:13<00:34,  1.61it/s]"
          ]
        },
        {
          "output_type": "stream",
          "name": "stdout",
          "text": [
            "\r 24%|##3       | 17/71 [00:14<00:45,  1.18it/s]\r 25%|##5       | 18/71 [00:14<00:33,  1.60it/s]"
          ]
        },
        {
          "output_type": "stream",
          "name": "stdout",
          "text": [
            "\r 27%|##6       | 19/71 [00:16<00:42,  1.23it/s]\r 28%|##8       | 20/71 [00:16<00:30,  1.66it/s]"
          ]
        },
        {
          "output_type": "stream",
          "name": "stdout",
          "text": [
            "\r 30%|##9       | 21/71 [00:17<00:40,  1.23it/s]\r 31%|###       | 22/71 [00:17<00:29,  1.66it/s]"
          ]
        },
        {
          "output_type": "stream",
          "name": "stdout",
          "text": [
            "\r 32%|###2      | 23/71 [00:19<00:39,  1.21it/s]\r 34%|###3      | 24/71 [00:19<00:28,  1.63it/s]"
          ]
        },
        {
          "output_type": "stream",
          "name": "stdout",
          "text": [
            "\r 35%|###5      | 25/71 [00:20<00:40,  1.13it/s]\r 37%|###6      | 26/71 [00:20<00:29,  1.54it/s]"
          ]
        },
        {
          "output_type": "stream",
          "name": "stdout",
          "text": [
            "\r 38%|###8      | 27/71 [00:21<00:35,  1.24it/s]\r 39%|###9      | 28/71 [00:22<00:25,  1.67it/s]"
          ]
        },
        {
          "output_type": "stream",
          "name": "stdout",
          "text": [
            "\r 41%|####      | 29/71 [00:23<00:30,  1.36it/s]\r 42%|####2     | 30/71 [00:23<00:23,  1.74it/s]"
          ]
        },
        {
          "output_type": "stream",
          "name": "stdout",
          "text": [
            "\r 44%|####3     | 31/71 [00:24<00:28,  1.39it/s]\r 45%|####5     | 32/71 [00:24<00:21,  1.80it/s]"
          ]
        },
        {
          "output_type": "stream",
          "name": "stdout",
          "text": [
            "\r 46%|####6     | 33/71 [00:25<00:26,  1.45it/s]"
          ]
        },
        {
          "output_type": "stream",
          "name": "stdout",
          "text": [
            "\r 48%|####7     | 34/71 [00:26<00:26,  1.42it/s]"
          ]
        },
        {
          "output_type": "stream",
          "name": "stdout",
          "text": [
            "\r 49%|####9     | 35/71 [00:27<00:25,  1.41it/s]"
          ]
        },
        {
          "output_type": "stream",
          "name": "stdout",
          "text": [
            "\r 51%|#####     | 36/71 [00:27<00:23,  1.52it/s]"
          ]
        },
        {
          "output_type": "stream",
          "name": "stdout",
          "text": [
            "\r 52%|#####2    | 37/71 [00:28<00:23,  1.44it/s]"
          ]
        },
        {
          "output_type": "stream",
          "name": "stdout",
          "text": [
            "\r 54%|#####3    | 38/71 [00:28<00:21,  1.51it/s]"
          ]
        },
        {
          "output_type": "stream",
          "name": "stdout",
          "text": [
            "\r 55%|#####4    | 39/71 [00:29<00:21,  1.47it/s]"
          ]
        },
        {
          "output_type": "stream",
          "name": "stdout",
          "text": [
            "\r 56%|#####6    | 40/71 [00:30<00:20,  1.49it/s]"
          ]
        },
        {
          "output_type": "stream",
          "name": "stdout",
          "text": [
            "\r 58%|#####7    | 41/71 [00:31<00:23,  1.28it/s]"
          ]
        },
        {
          "output_type": "stream",
          "name": "stdout",
          "text": [
            "\r 59%|#####9    | 42/71 [00:31<00:18,  1.57it/s]"
          ]
        },
        {
          "output_type": "stream",
          "name": "stdout",
          "text": [
            "\r 61%|######    | 43/71 [00:32<00:21,  1.29it/s]\r 62%|######1   | 44/71 [00:32<00:15,  1.73it/s]"
          ]
        },
        {
          "output_type": "stream",
          "name": "stdout",
          "text": [
            "\r 63%|######3   | 45/71 [00:34<00:20,  1.26it/s]\r 65%|######4   | 46/71 [00:34<00:14,  1.70it/s]"
          ]
        },
        {
          "output_type": "stream",
          "name": "stdout",
          "text": [
            "\r 66%|######6   | 47/71 [00:35<00:18,  1.29it/s]\r 68%|######7   | 48/71 [00:35<00:13,  1.74it/s]"
          ]
        },
        {
          "output_type": "stream",
          "name": "stdout",
          "text": [
            "\r 69%|######9   | 49/71 [00:36<00:16,  1.35it/s]\r 70%|#######   | 50/71 [00:36<00:11,  1.81it/s]"
          ]
        },
        {
          "output_type": "stream",
          "name": "stdout",
          "text": [
            "\r 72%|#######1  | 51/71 [00:38<00:15,  1.33it/s]\r 73%|#######3  | 52/71 [00:38<00:10,  1.78it/s]"
          ]
        },
        {
          "output_type": "stream",
          "name": "stdout",
          "text": [
            "\r 75%|#######4  | 53/71 [00:39<00:13,  1.36it/s]\r 76%|#######6  | 54/71 [00:39<00:09,  1.82it/s]"
          ]
        },
        {
          "output_type": "stream",
          "name": "stdout",
          "text": [
            "\r 77%|#######7  | 55/71 [00:40<00:11,  1.36it/s]\r 79%|#######8  | 56/71 [00:40<00:08,  1.82it/s]"
          ]
        },
        {
          "output_type": "stream",
          "name": "stdout",
          "text": [
            "\r 80%|########  | 57/71 [00:41<00:10,  1.36it/s]"
          ]
        },
        {
          "output_type": "stream",
          "name": "stdout",
          "text": [
            "\r 82%|########1 | 58/71 [00:42<00:07,  1.72it/s]"
          ]
        },
        {
          "output_type": "stream",
          "name": "stdout",
          "text": [
            "\r 83%|########3 | 59/71 [00:43<00:09,  1.32it/s]"
          ]
        },
        {
          "output_type": "stream",
          "name": "stdout",
          "text": [
            "\r 85%|########4 | 60/71 [00:43<00:07,  1.54it/s]"
          ]
        },
        {
          "output_type": "stream",
          "name": "stdout",
          "text": [
            "\r 86%|########5 | 61/71 [00:44<00:06,  1.45it/s]"
          ]
        },
        {
          "output_type": "stream",
          "name": "stdout",
          "text": [
            "\r 87%|########7 | 62/71 [00:45<00:05,  1.54it/s]"
          ]
        },
        {
          "output_type": "stream",
          "name": "stdout",
          "text": [
            "\r 89%|########8 | 63/71 [00:45<00:05,  1.36it/s]"
          ]
        },
        {
          "output_type": "stream",
          "name": "stdout",
          "text": [
            "\r 90%|######### | 64/71 [00:46<00:04,  1.56it/s]"
          ]
        },
        {
          "output_type": "stream",
          "name": "stdout",
          "text": [
            "\r 92%|#########1| 65/71 [00:47<00:04,  1.31it/s]"
          ]
        },
        {
          "output_type": "stream",
          "name": "stdout",
          "text": [
            "\r 93%|#########2| 66/71 [00:47<00:03,  1.61it/s]"
          ]
        },
        {
          "output_type": "stream",
          "name": "stdout",
          "text": [
            "\r 94%|#########4| 67/71 [00:49<00:03,  1.20it/s]"
          ]
        },
        {
          "output_type": "stream",
          "name": "stdout",
          "text": [
            "\r 96%|#########5| 68/71 [00:49<00:02,  1.46it/s]"
          ]
        },
        {
          "output_type": "stream",
          "name": "stdout",
          "text": [
            "\r 97%|#########7| 69/71 [00:50<00:01,  1.25it/s]\r 99%|#########8| 70/71 [00:50<00:00,  1.62it/s]"
          ]
        },
        {
          "output_type": "stream",
          "name": "stdout",
          "text": [
            "\r100%|##########| 71/71 [00:53<00:00,  1.14s/it]\r100%|##########| 71/71 [00:53<00:00,  1.34it/s]"
          ]
        },
        {
          "output_type": "stream",
          "name": "stderr",
          "text": [
            "2025-09-26 18:34:33 | INFO     | yolox.evaluators.coco_evaluator:259 - Evaluate in main process...\n"
          ]
        },
        {
          "output_type": "stream",
          "name": "stderr",
          "text": [
            "2025-09-26 18:34:34 | INFO     | yolox.evaluators.coco_evaluator:292 - Loading and preparing results...\n"
          ]
        },
        {
          "output_type": "stream",
          "name": "stderr",
          "text": [
            "2025-09-26 18:34:34 | INFO     | yolox.evaluators.coco_evaluator:292 - DONE (t=0.25s)\n2025-09-26 18:34:34 | INFO     | pycocotools.coco:379 - creating index...\n2025-09-26 18:34:34 | INFO     | pycocotools.coco:379 - index created!\n2025-09-26 18:34:34 | INFO     | yolox.evaluators.coco_evaluator:301 - Running per image evaluation...\n2025-09-26 18:34:34 | INFO     | yolox.evaluators.coco_evaluator:301 - Evaluate annotation type *bbox*\n"
          ]
        },
        {
          "output_type": "stream",
          "name": "stderr",
          "text": [
            "2025-09-26 18:34:35 | INFO     | yolox.evaluators.coco_evaluator:301 - DONE (t=1.16s).\n2025-09-26 18:34:35 | INFO     | yolox.evaluators.coco_evaluator:302 - Accumulating evaluation results...\n2025-09-26 18:34:35 | INFO     | yolox.evaluators.coco_evaluator:302 - DONE (t=0.16s).\n2025-09-26 18:34:35 | INFO     | yolox.core.trainer:381 - \nAverage forward time: 8.70 ms, Average NMS time: 0.50 ms, Average inference time: 9.19 ms\n Average Precision  (AP) @[ IoU=0.50:0.95 | area=   all | maxDets=100 ] = 0.008\n Average Precision  (AP) @[ IoU=0.50      | area=   all | maxDets=100 ] = 0.034\n Average Precision  (AP) @[ IoU=0.75      | area=   all | maxDets=100 ] = 0.001\n Average Precision  (AP) @[ IoU=0.50:0.95 | area= small | maxDets=100 ] = -1.000\n Average Precision  (AP) @[ IoU=0.50:0.95 | area=medium | maxDets=100 ] = -1.000\n Average Precision  (AP) @[ IoU=0.50:0.95 | area= large | maxDets=100 ] = 0.008\n Average Recall     (AR) @[ IoU=0.50:0.95 | area=   all | maxDets=  1 ] = 0.014\n Average Recall     (AR) @[ IoU=0.50:0.95 | area=   all | maxDets= 10 ] = 0.108\n Average Recall     (AR) @[ IoU=0.50:0.95 | area=   all | maxDets=100 ] = 0.206\n Average Recall     (AR) @[ IoU=0.50:0.95 | area= small | maxDets=100 ] = -1.000\n Average Recall     (AR) @[ IoU=0.50:0.95 | area=medium | maxDets=100 ] = -1.000\n Average Recall     (AR) @[ IoU=0.50:0.95 | area= large | maxDets=100 ] = 0.206\nper class AP:\n| class   | AP    |\n|:--------|:------|\n| opacity | 0.775 |\nper class AR:\n| class   | AR     |\n|:--------|:-------|\n| opacity | 20.632 |\n\n2025-09-26 18:34:35 | INFO     | yolox.core.trainer:402 - Save weights to /var/lib/simon/agent_run_states/siim-covid19-detection-20250925-205912/yolox_outputs/yolox_m_fold_1\n"
          ]
        },
        {
          "output_type": "stream",
          "name": "stderr",
          "text": [
            "2025-09-26 18:34:36 | INFO     | yolox.core.trainer:402 - Save weights to /var/lib/simon/agent_run_states/siim-covid19-detection-20250925-205912/yolox_outputs/yolox_m_fold_1\n"
          ]
        },
        {
          "output_type": "stream",
          "name": "stderr",
          "text": [
            "2025-09-26 18:34:36 | INFO     | yolox.core.trainer:218 - ---> start train epoch2\n2025-09-26 18:34:36 | INFO     | yolox.core.trainer:221 - --->No mosaic aug now!\n2025-09-26 18:34:36 | INFO     | yolox.core.trainer:223 - --->Add additional L1 loss now!\n"
          ]
        },
        {
          "output_type": "stream",
          "name": "stderr",
          "text": [
            "2025-09-26 18:34:41 | INFO     | yolox.core.trainer:270 - epoch: 2/2, iter: 10/286, gpu mem: 11174Mb, mem: 39.5Gb, iter_time: 0.483s, data_time: 0.209s, total_loss: 10.3, iou_loss: 3.5, l1_loss: 1.9, conf_loss: 4.2, cls_loss: 0.7, lr: 1.250e-04, size: 736, ETA: 0:04:45\n"
          ]
        },
        {
          "output_type": "stream",
          "name": "stderr",
          "text": [
            "2025-09-26 18:34:48 | INFO     | yolox.core.trainer:270 - epoch: 2/2, iter: 20/286, gpu mem: 11174Mb, mem: 39.5Gb, iter_time: 0.698s, data_time: 0.463s, total_loss: 9.3, iou_loss: 3.3, l1_loss: 1.6, conf_loss: 3.7, cls_loss: 0.7, lr: 1.250e-04, size: 608, ETA: 0:04:32\n"
          ]
        },
        {
          "output_type": "stream",
          "name": "stderr",
          "text": [
            "2025-09-26 18:34:55 | INFO     | yolox.core.trainer:270 - epoch: 2/2, iter: 30/286, gpu mem: 11174Mb, mem: 39.6Gb, iter_time: 0.751s, data_time: 0.478s, total_loss: 10.1, iou_loss: 3.4, l1_loss: 1.8, conf_loss: 4.2, cls_loss: 0.7, lr: 1.250e-04, size: 800, ETA: 0:04:20\n"
          ]
        },
        {
          "output_type": "stream",
          "name": "stderr",
          "text": [
            "2025-09-26 18:35:16 | INFO     | yolox.core.trainer:270 - epoch: 2/2, iter: 40/286, gpu mem: 11174Mb, mem: 39.4Gb, iter_time: 2.033s, data_time: 0.262s, total_loss: 9.5, iou_loss: 3.3, l1_loss: 1.6, conf_loss: 3.8, cls_loss: 0.7, lr: 1.250e-04, size: 768, ETA: 0:04:17\n"
          ]
        },
        {
          "output_type": "stream",
          "name": "stderr",
          "text": [
            "2025-09-26 18:35:35 | INFO     | yolox.core.trainer:270 - epoch: 2/2, iter: 50/286, gpu mem: 11174Mb, mem: 39.3Gb, iter_time: 1.961s, data_time: 0.213s, total_loss: 10.3, iou_loss: 3.4, l1_loss: 1.7, conf_loss: 4.6, cls_loss: 0.7, lr: 1.250e-04, size: 672, ETA: 0:04:13\n"
          ]
        },
        {
          "output_type": "stream",
          "name": "stderr",
          "text": [
            "2025-09-26 18:35:43 | INFO     | yolox.core.trainer:270 - epoch: 2/2, iter: 60/286, gpu mem: 11174Mb, mem: 39.3Gb, iter_time: 0.756s, data_time: 0.567s, total_loss: 10.9, iou_loss: 3.7, l1_loss: 1.8, conf_loss: 4.7, cls_loss: 0.7, lr: 1.250e-04, size: 480, ETA: 0:04:00\n"
          ]
        },
        {
          "output_type": "stream",
          "name": "stderr",
          "text": [
            "2025-09-26 18:35:50 | INFO     | yolox.core.trainer:270 - epoch: 2/2, iter: 70/286, gpu mem: 11174Mb, mem: 39.2Gb, iter_time: 0.751s, data_time: 0.543s, total_loss: 11.3, iou_loss: 3.4, l1_loss: 1.6, conf_loss: 5.5, cls_loss: 0.7, lr: 1.250e-04, size: 704, ETA: 0:03:48\n"
          ]
        },
        {
          "output_type": "stream",
          "name": "stderr",
          "text": [
            "2025-09-26 18:35:57 | INFO     | yolox.core.trainer:270 - epoch: 2/2, iter: 80/286, gpu mem: 11174Mb, mem: 39.2Gb, iter_time: 0.625s, data_time: 0.381s, total_loss: 9.5, iou_loss: 3.4, l1_loss: 1.6, conf_loss: 3.8, cls_loss: 0.7, lr: 1.250e-04, size: 672, ETA: 0:03:35\n"
          ]
        },
        {
          "output_type": "stream",
          "name": "stderr",
          "text": [
            "2025-09-26 18:36:04 | INFO     | yolox.core.trainer:270 - epoch: 2/2, iter: 90/286, gpu mem: 11174Mb, mem: 39.1Gb, iter_time: 0.715s, data_time: 0.470s, total_loss: 9.6, iou_loss: 3.3, l1_loss: 1.6, conf_loss: 4.1, cls_loss: 0.7, lr: 1.250e-04, size: 704, ETA: 0:03:23\n"
          ]
        },
        {
          "output_type": "stream",
          "name": "stderr",
          "text": [
            "2025-09-26 18:36:11 | INFO     | yolox.core.trainer:270 - epoch: 2/2, iter: 100/286, gpu mem: 11174Mb, mem: 39.1Gb, iter_time: 0.684s, data_time: 0.458s, total_loss: 9.2, iou_loss: 3.3, l1_loss: 1.4, conf_loss: 3.8, cls_loss: 0.7, lr: 1.250e-04, size: 608, ETA: 0:03:10\n"
          ]
        },
        {
          "output_type": "stream",
          "name": "stderr",
          "text": [
            "2025-09-26 18:36:18 | INFO     | yolox.core.trainer:270 - epoch: 2/2, iter: 110/286, gpu mem: 11174Mb, mem: 39.2Gb, iter_time: 0.694s, data_time: 0.493s, total_loss: 9.9, iou_loss: 3.5, l1_loss: 1.7, conf_loss: 4.1, cls_loss: 0.7, lr: 1.250e-04, size: 608, ETA: 0:02:59\n"
          ]
        },
        {
          "output_type": "stream",
          "name": "stderr",
          "text": [
            "2025-09-26 18:36:25 | INFO     | yolox.core.trainer:270 - epoch: 2/2, iter: 120/286, gpu mem: 11174Mb, mem: 39.4Gb, iter_time: 0.738s, data_time: 0.537s, total_loss: 9.2, iou_loss: 3.2, l1_loss: 1.6, conf_loss: 3.8, cls_loss: 0.7, lr: 1.250e-04, size: 608, ETA: 0:02:47\n"
          ]
        },
        {
          "output_type": "stream",
          "name": "stderr",
          "text": [
            "2025-09-26 18:36:32 | INFO     | yolox.core.trainer:270 - epoch: 2/2, iter: 130/286, gpu mem: 11174Mb, mem: 39.4Gb, iter_time: 0.725s, data_time: 0.549s, total_loss: 9.4, iou_loss: 3.1, l1_loss: 1.4, conf_loss: 4.2, cls_loss: 0.7, lr: 1.250e-04, size: 512, ETA: 0:02:36\n"
          ]
        },
        {
          "output_type": "stream",
          "name": "stderr",
          "text": [
            "2025-09-26 18:36:39 | INFO     | yolox.core.trainer:270 - epoch: 2/2, iter: 140/286, gpu mem: 11174Mb, mem: 39.4Gb, iter_time: 0.715s, data_time: 0.501s, total_loss: 10.7, iou_loss: 3.2, l1_loss: 1.6, conf_loss: 5.3, cls_loss: 0.7, lr: 1.250e-04, size: 704, ETA: 0:02:25\n"
          ]
        },
        {
          "output_type": "stream",
          "name": "stderr",
          "text": [
            "2025-09-26 18:36:46 | INFO     | yolox.core.trainer:270 - epoch: 2/2, iter: 150/286, gpu mem: 11174Mb, mem: 39.3Gb, iter_time: 0.705s, data_time: 0.495s, total_loss: 10.3, iou_loss: 3.3, l1_loss: 1.6, conf_loss: 4.7, cls_loss: 0.7, lr: 1.250e-04, size: 544, ETA: 0:02:14\n"
          ]
        },
        {
          "output_type": "stream",
          "name": "stderr",
          "text": [
            "2025-09-26 18:36:54 | INFO     | yolox.core.trainer:270 - epoch: 2/2, iter: 160/286, gpu mem: 11174Mb, mem: 39.3Gb, iter_time: 0.735s, data_time: 0.559s, total_loss: 10.4, iou_loss: 3.2, l1_loss: 1.5, conf_loss: 4.9, cls_loss: 0.7, lr: 1.250e-04, size: 576, ETA: 0:02:04\n"
          ]
        },
        {
          "output_type": "stream",
          "name": "stderr",
          "text": [
            "2025-09-26 18:37:01 | INFO     | yolox.core.trainer:270 - epoch: 2/2, iter: 170/286, gpu mem: 11174Mb, mem: 39.3Gb, iter_time: 0.693s, data_time: 0.447s, total_loss: 11.4, iou_loss: 3.5, l1_loss: 1.8, conf_loss: 5.5, cls_loss: 0.7, lr: 1.250e-04, size: 768, ETA: 0:01:53\n"
          ]
        },
        {
          "output_type": "stream",
          "name": "stderr",
          "text": [
            "2025-09-26 18:37:08 | INFO     | yolox.core.trainer:270 - epoch: 2/2, iter: 180/286, gpu mem: 11174Mb, mem: 39.4Gb, iter_time: 0.701s, data_time: 0.426s, total_loss: 9.5, iou_loss: 3.0, l1_loss: 1.5, conf_loss: 4.2, cls_loss: 0.7, lr: 1.250e-04, size: 704, ETA: 0:01:43\n"
          ]
        },
        {
          "output_type": "stream",
          "name": "stderr",
          "text": [
            "2025-09-26 18:37:14 | INFO     | yolox.core.trainer:270 - epoch: 2/2, iter: 190/286, gpu mem: 11174Mb, mem: 39.4Gb, iter_time: 0.676s, data_time: 0.446s, total_loss: 9.2, iou_loss: 3.2, l1_loss: 1.5, conf_loss: 3.9, cls_loss: 0.7, lr: 1.250e-04, size: 608, ETA: 0:01:32\n"
          ]
        },
        {
          "output_type": "stream",
          "name": "stderr",
          "text": [
            "2025-09-26 18:37:22 | INFO     | yolox.core.trainer:270 - epoch: 2/2, iter: 200/286, gpu mem: 11174Mb, mem: 39.3Gb, iter_time: 0.733s, data_time: 0.465s, total_loss: 10.4, iou_loss: 3.4, l1_loss: 1.7, conf_loss: 4.6, cls_loss: 0.7, lr: 1.250e-04, size: 800, ETA: 0:01:22\n"
          ]
        },
        {
          "output_type": "stream",
          "name": "stderr",
          "text": [
            "2025-09-26 18:37:29 | INFO     | yolox.core.trainer:270 - epoch: 2/2, iter: 210/286, gpu mem: 11174Mb, mem: 39.4Gb, iter_time: 0.673s, data_time: 0.431s, total_loss: 10.9, iou_loss: 3.5, l1_loss: 1.7, conf_loss: 5.0, cls_loss: 0.7, lr: 1.250e-04, size: 544, ETA: 0:01:12\n"
          ]
        },
        {
          "output_type": "stream",
          "name": "stderr",
          "text": [
            "2025-09-26 18:37:35 | INFO     | yolox.core.trainer:270 - epoch: 2/2, iter: 220/286, gpu mem: 11174Mb, mem: 39.5Gb, iter_time: 0.659s, data_time: 0.499s, total_loss: 9.6, iou_loss: 3.2, l1_loss: 1.5, conf_loss: 4.2, cls_loss: 0.7, lr: 1.250e-04, size: 512, ETA: 0:01:02\n"
          ]
        },
        {
          "output_type": "stream",
          "name": "stderr",
          "text": [
            "2025-09-26 18:37:42 | INFO     | yolox.core.trainer:270 - epoch: 2/2, iter: 230/286, gpu mem: 11174Mb, mem: 39.4Gb, iter_time: 0.661s, data_time: 0.473s, total_loss: 9.1, iou_loss: 3.2, l1_loss: 1.5, conf_loss: 3.7, cls_loss: 0.7, lr: 1.250e-04, size: 608, ETA: 0:00:52\n"
          ]
        },
        {
          "output_type": "stream",
          "name": "stderr",
          "text": [
            "2025-09-26 18:37:49 | INFO     | yolox.core.trainer:270 - epoch: 2/2, iter: 240/286, gpu mem: 11174Mb, mem: 39.3Gb, iter_time: 0.708s, data_time: 0.478s, total_loss: 10.2, iou_loss: 3.3, l1_loss: 1.7, conf_loss: 4.5, cls_loss: 0.7, lr: 1.250e-04, size: 704, ETA: 0:00:43\n"
          ]
        },
        {
          "output_type": "stream",
          "name": "stderr",
          "text": [
            "2025-09-26 18:37:56 | INFO     | yolox.core.trainer:270 - epoch: 2/2, iter: 250/286, gpu mem: 11174Mb, mem: 39.3Gb, iter_time: 0.710s, data_time: 0.466s, total_loss: 9.5, iou_loss: 3.2, l1_loss: 1.5, conf_loss: 4.1, cls_loss: 0.7, lr: 1.250e-04, size: 672, ETA: 0:00:33\n"
          ]
        },
        {
          "output_type": "stream",
          "name": "stderr",
          "text": [
            "2025-09-26 18:38:03 | INFO     | yolox.core.trainer:270 - epoch: 2/2, iter: 260/286, gpu mem: 11174Mb, mem: 39.3Gb, iter_time: 0.747s, data_time: 0.487s, total_loss: 10.7, iou_loss: 3.3, l1_loss: 1.7, conf_loss: 5.1, cls_loss: 0.7, lr: 1.250e-04, size: 736, ETA: 0:00:24\n"
          ]
        },
        {
          "output_type": "stream",
          "name": "stderr",
          "text": [
            "2025-09-26 18:38:10 | INFO     | yolox.core.trainer:270 - epoch: 2/2, iter: 270/286, gpu mem: 11174Mb, mem: 39.4Gb, iter_time: 0.702s, data_time: 0.436s, total_loss: 10.6, iou_loss: 3.2, l1_loss: 1.7, conf_loss: 5.0, cls_loss: 0.7, lr: 1.250e-04, size: 704, ETA: 0:00:14\n"
          ]
        },
        {
          "output_type": "stream",
          "name": "stderr",
          "text": [
            "2025-09-26 18:38:17 | INFO     | yolox.core.trainer:270 - epoch: 2/2, iter: 280/286, gpu mem: 11174Mb, mem: 39.3Gb, iter_time: 0.677s, data_time: 0.385s, total_loss: 11.3, iou_loss: 3.3, l1_loss: 1.8, conf_loss: 5.5, cls_loss: 0.7, lr: 1.250e-04, size: 800, ETA: 0:00:05\n"
          ]
        },
        {
          "output_type": "stream",
          "name": "stderr",
          "text": [
            "2025-09-26 18:38:22 | INFO     | yolox.core.trainer:402 - Save weights to /var/lib/simon/agent_run_states/siim-covid19-detection-20250925-205912/yolox_outputs/yolox_m_fold_1\n"
          ]
        },
        {
          "output_type": "stream",
          "name": "stdout",
          "text": [
            "\n/var/lib/simon/agent_run_states/siim-covid19-detection-20250925-205912/YOLOX/yolox/evaluators/coco_evaluator.py:189: UserWarning: The torch.cuda.*DtypeTensor constructors are no longer recommended. It's best to use methods such as torch.tensor(data, dtype=*, device='cuda') to create tensors. (Triggered internally at /pytorch/torch/csrc/tensor/python_tensor.cpp:78.)\n  statistics = torch.cuda.FloatTensor([inference_time, nms_time, n_samples])\n\r  0%|          | 0/71 [00:00<?, ?it/s]"
          ]
        },
        {
          "output_type": "stream",
          "name": "stdout",
          "text": [
            "\r  1%|1         | 1/71 [00:01<01:55,  1.65s/it]\r  3%|2         | 2/71 [00:01<00:51,  1.34it/s]"
          ]
        },
        {
          "output_type": "stream",
          "name": "stdout",
          "text": [
            "\r  4%|4         | 3/71 [00:02<01:02,  1.08it/s]\r  6%|5         | 4/71 [00:03<00:40,  1.66it/s]"
          ]
        },
        {
          "output_type": "stream",
          "name": "stdout",
          "text": [
            "\r  7%|7         | 5/71 [00:04<00:54,  1.21it/s]\r  8%|8         | 6/71 [00:04<00:37,  1.72it/s]"
          ]
        },
        {
          "output_type": "stream",
          "name": "stdout",
          "text": [
            "\r 10%|9         | 7/71 [00:05<00:56,  1.14it/s]\r 11%|#1        | 8/71 [00:05<00:39,  1.58it/s]"
          ]
        },
        {
          "output_type": "stream",
          "name": "stdout",
          "text": [
            "\r 13%|#2        | 9/71 [00:07<00:50,  1.23it/s]\r 14%|#4        | 10/71 [00:07<00:36,  1.68it/s]"
          ]
        },
        {
          "output_type": "stream",
          "name": "stdout",
          "text": [
            "\r 15%|#5        | 11/71 [00:08<00:52,  1.15it/s]\r 17%|#6        | 12/71 [00:08<00:37,  1.56it/s]"
          ]
        },
        {
          "output_type": "stream",
          "name": "stdout",
          "text": [
            "\r 18%|#8        | 13/71 [00:10<00:54,  1.06it/s]\r 20%|#9        | 14/71 [00:10<00:39,  1.45it/s]"
          ]
        },
        {
          "output_type": "stream",
          "name": "stdout",
          "text": [
            "\r 21%|##1       | 15/71 [00:12<00:52,  1.08it/s]\r 23%|##2       | 16/71 [00:12<00:37,  1.47it/s]"
          ]
        },
        {
          "output_type": "stream",
          "name": "stdout",
          "text": [
            "\r 24%|##3       | 17/71 [00:13<00:50,  1.08it/s]\r 25%|##5       | 18/71 [00:13<00:36,  1.46it/s]"
          ]
        },
        {
          "output_type": "stream",
          "name": "stdout",
          "text": [
            "\r 27%|##6       | 19/71 [00:15<00:44,  1.17it/s]\r 28%|##8       | 20/71 [00:15<00:32,  1.59it/s]"
          ]
        },
        {
          "output_type": "stream",
          "name": "stdout",
          "text": [
            "\r 30%|##9       | 21/71 [00:16<00:42,  1.19it/s]\r 31%|###       | 22/71 [00:16<00:30,  1.61it/s]"
          ]
        },
        {
          "output_type": "stream",
          "name": "stdout",
          "text": [
            "\r 32%|###2      | 23/71 [00:18<00:40,  1.18it/s]\r 34%|###3      | 24/71 [00:18<00:29,  1.60it/s]"
          ]
        },
        {
          "output_type": "stream",
          "name": "stdout",
          "text": [
            "\r 35%|###5      | 25/71 [00:19<00:40,  1.13it/s]\r 37%|###6      | 26/71 [00:19<00:29,  1.53it/s]"
          ]
        },
        {
          "output_type": "stream",
          "name": "stdout",
          "text": [
            "\r 38%|###8      | 27/71 [00:20<00:35,  1.23it/s]\r 39%|###9      | 28/71 [00:20<00:25,  1.67it/s]"
          ]
        },
        {
          "output_type": "stream",
          "name": "stdout",
          "text": [
            "\r 41%|####      | 29/71 [00:22<00:30,  1.36it/s]\r 42%|####2     | 30/71 [00:22<00:22,  1.82it/s]"
          ]
        },
        {
          "output_type": "stream",
          "name": "stdout",
          "text": [
            "\r 44%|####3     | 31/71 [00:23<00:29,  1.37it/s]\r 45%|####5     | 32/71 [00:23<00:21,  1.84it/s]"
          ]
        },
        {
          "output_type": "stream",
          "name": "stdout",
          "text": [
            "\r 46%|####6     | 33/71 [00:24<00:26,  1.43it/s]\r 48%|####7     | 34/71 [00:24<00:19,  1.92it/s]"
          ]
        },
        {
          "output_type": "stream",
          "name": "stdout",
          "text": [
            "\r 49%|####9     | 35/71 [00:25<00:27,  1.30it/s]\r 51%|#####     | 36/71 [00:26<00:20,  1.75it/s]"
          ]
        },
        {
          "output_type": "stream",
          "name": "stdout",
          "text": [
            "\r 52%|#####2    | 37/71 [00:27<00:25,  1.31it/s]\r 54%|#####3    | 38/71 [00:27<00:18,  1.76it/s]"
          ]
        },
        {
          "output_type": "stream",
          "name": "stdout",
          "text": [
            "\r 55%|#####4    | 39/71 [00:28<00:24,  1.31it/s]\r 56%|#####6    | 40/71 [00:28<00:17,  1.77it/s]"
          ]
        },
        {
          "output_type": "stream",
          "name": "stdout",
          "text": [
            "\r 58%|#####7    | 41/71 [00:30<00:27,  1.10it/s]\r 59%|#####9    | 42/71 [00:30<00:19,  1.50it/s]"
          ]
        },
        {
          "output_type": "stream",
          "name": "stdout",
          "text": [
            "\r 61%|######    | 43/71 [00:31<00:22,  1.22it/s]\r 62%|######1   | 44/71 [00:31<00:16,  1.65it/s]"
          ]
        },
        {
          "output_type": "stream",
          "name": "stdout",
          "text": [
            "\r 63%|######3   | 45/71 [00:33<00:21,  1.23it/s]\r 65%|######4   | 46/71 [00:33<00:15,  1.66it/s]"
          ]
        },
        {
          "output_type": "stream",
          "name": "stdout",
          "text": [
            "\r 66%|######6   | 47/71 [00:34<00:19,  1.26it/s]\r 68%|######7   | 48/71 [00:34<00:13,  1.70it/s]"
          ]
        },
        {
          "output_type": "stream",
          "name": "stdout",
          "text": [
            "\r 69%|######9   | 49/71 [00:35<00:16,  1.33it/s]\r 70%|#######   | 50/71 [00:35<00:11,  1.79it/s]"
          ]
        },
        {
          "output_type": "stream",
          "name": "stdout",
          "text": [
            "\r 72%|#######1  | 51/71 [00:37<00:15,  1.31it/s]\r 73%|#######3  | 52/71 [00:37<00:10,  1.76it/s]"
          ]
        },
        {
          "output_type": "stream",
          "name": "stdout",
          "text": [
            "\r 75%|#######4  | 53/71 [00:38<00:13,  1.35it/s]\r 76%|#######6  | 54/71 [00:38<00:09,  1.81it/s]"
          ]
        },
        {
          "output_type": "stream",
          "name": "stdout",
          "text": [
            "\r 77%|#######7  | 55/71 [00:39<00:11,  1.35it/s]\r 79%|#######8  | 56/71 [00:39<00:08,  1.81it/s]"
          ]
        },
        {
          "output_type": "stream",
          "name": "stdout",
          "text": [
            "\r 80%|########  | 57/71 [00:40<00:10,  1.35it/s]\r 82%|########1 | 58/71 [00:40<00:07,  1.81it/s]"
          ]
        },
        {
          "output_type": "stream",
          "name": "stdout",
          "text": [
            "\r 83%|########3 | 59/71 [00:42<00:09,  1.29it/s]\r 85%|########4 | 60/71 [00:42<00:06,  1.74it/s]"
          ]
        },
        {
          "output_type": "stream",
          "name": "stdout",
          "text": [
            "\r 86%|########5 | 61/71 [00:43<00:07,  1.38it/s]\r 87%|########7 | 62/71 [00:43<00:04,  1.85it/s]"
          ]
        },
        {
          "output_type": "stream",
          "name": "stdout",
          "text": [
            "\r 89%|########8 | 63/71 [00:44<00:06,  1.26it/s]\r 90%|######### | 64/71 [00:45<00:04,  1.70it/s]"
          ]
        },
        {
          "output_type": "stream",
          "name": "stdout",
          "text": [
            "\r 92%|#########1| 65/71 [00:46<00:04,  1.22it/s]\r 93%|#########2| 66/71 [00:46<00:03,  1.65it/s]"
          ]
        },
        {
          "output_type": "stream",
          "name": "stdout",
          "text": [
            "\r 94%|#########4| 67/71 [00:48<00:03,  1.13it/s]\r 96%|#########5| 68/71 [00:48<00:01,  1.54it/s]"
          ]
        },
        {
          "output_type": "stream",
          "name": "stdout",
          "text": [
            "\r 97%|#########7| 69/71 [00:49<00:01,  1.19it/s]\r 99%|#########8| 70/71 [00:49<00:00,  1.61it/s]\r100%|##########| 71/71 [00:49<00:00,  1.43it/s]"
          ]
        },
        {
          "output_type": "stream",
          "name": "stderr",
          "text": [
            "2025-09-26 18:39:12 | INFO     | yolox.evaluators.coco_evaluator:259 - Evaluate in main process...\n"
          ]
        },
        {
          "output_type": "stream",
          "name": "stderr",
          "text": [
            "2025-09-26 18:39:12 | INFO     | yolox.evaluators.coco_evaluator:292 - Loading and preparing results...\n2025-09-26 18:39:12 | INFO     | yolox.evaluators.coco_evaluator:292 - DONE (t=0.16s)\n2025-09-26 18:39:12 | INFO     | pycocotools.coco:379 - creating index...\n2025-09-26 18:39:12 | INFO     | pycocotools.coco:379 - index created!\n2025-09-26 18:39:12 | INFO     | yolox.evaluators.coco_evaluator:301 - Running per image evaluation...\n2025-09-26 18:39:12 | INFO     | yolox.evaluators.coco_evaluator:301 - Evaluate annotation type *bbox*\n"
          ]
        },
        {
          "output_type": "stream",
          "name": "stderr",
          "text": [
            "2025-09-26 18:39:13 | INFO     | yolox.evaluators.coco_evaluator:301 - DONE (t=0.68s).\n2025-09-26 18:39:13 | INFO     | yolox.evaluators.coco_evaluator:302 - Accumulating evaluation results...\n2025-09-26 18:39:13 | INFO     | yolox.evaluators.coco_evaluator:302 - DONE (t=0.10s).\n2025-09-26 18:39:13 | INFO     | yolox.core.trainer:381 - \nAverage forward time: 5.75 ms, Average NMS time: 0.48 ms, Average inference time: 6.24 ms\n Average Precision  (AP) @[ IoU=0.50:0.95 | area=   all | maxDets=100 ] = 0.016\n Average Precision  (AP) @[ IoU=0.50      | area=   all | maxDets=100 ] = 0.069\n Average Precision  (AP) @[ IoU=0.75      | area=   all | maxDets=100 ] = 0.002\n Average Precision  (AP) @[ IoU=0.50:0.95 | area= small | maxDets=100 ] = -1.000\n Average Precision  (AP) @[ IoU=0.50:0.95 | area=medium | maxDets=100 ] = -1.000\n Average Precision  (AP) @[ IoU=0.50:0.95 | area= large | maxDets=100 ] = 0.016\n Average Recall     (AR) @[ IoU=0.50:0.95 | area=   all | maxDets=  1 ] = 0.033\n Average Recall     (AR) @[ IoU=0.50:0.95 | area=   all | maxDets= 10 ] = 0.155\n Average Recall     (AR) @[ IoU=0.50:0.95 | area=   all | maxDets=100 ] = 0.220\n Average Recall     (AR) @[ IoU=0.50:0.95 | area= small | maxDets=100 ] = -1.000\n Average Recall     (AR) @[ IoU=0.50:0.95 | area=medium | maxDets=100 ] = -1.000\n Average Recall     (AR) @[ IoU=0.50:0.95 | area= large | maxDets=100 ] = 0.220\nper class AP:\n| class   | AP    |\n|:--------|:------|\n| opacity | 1.588 |\nper class AR:\n| class   | AR     |\n|:--------|:-------|\n| opacity | 21.965 |\n\n2025-09-26 18:39:13 | INFO     | yolox.core.trainer:402 - Save weights to /var/lib/simon/agent_run_states/siim-covid19-detection-20250925-205912/yolox_outputs/yolox_m_fold_1\n"
          ]
        },
        {
          "output_type": "stream",
          "name": "stderr",
          "text": [
            "2025-09-26 18:39:14 | INFO     | yolox.core.trainer:402 - Save weights to /var/lib/simon/agent_run_states/siim-covid19-detection-20250925-205912/yolox_outputs/yolox_m_fold_1\n"
          ]
        },
        {
          "output_type": "stream",
          "name": "stderr",
          "text": [
            "2025-09-26 18:39:14 | INFO     | yolox.core.trainer:200 - Training of experiment is done and the best AP is 1.59\n"
          ]
        },
        {
          "output_type": "stream",
          "name": "stdout",
          "text": [
            "\n"
          ]
        },
        {
          "output_type": "stream",
          "name": "stdout",
          "text": [
            "/var/lib/simon/agent_run_states/siim-covid19-detection-20250925-205912\nFINISHED YOLOX TRAINING FOR FOLD 1\n\n==================================================\nSTARTING YOLOX TRAINING FOR FOLD 2\n==================================================\nDynamically modified YOLOX/exps/siim_yolox_config.py for fold 2 with exp_name: yolox_m_fold_2\n/var/lib/simon/agent_run_states/siim-covid19-detection-20250925-205912/YOLOX\n"
          ]
        },
        {
          "output_type": "stream",
          "name": "stderr",
          "text": [
            "/var/lib/simon/agent_run_states/siim-covid19-detection-20250925-205912/YOLOX/yolox/core/trainer.py:47: FutureWarning: `torch.cuda.amp.GradScaler(args...)` is deprecated. Please use `torch.amp.GradScaler('cuda', args...)` instead.\n  self.scaler = torch.cuda.amp.GradScaler(enabled=args.fp16)\n2025-09-26 18:39:17 | INFO     | yolox.core.trainer:132 - args: Namespace(experiment_name='yolox_m_fold_2', name=None, dist_backend='nccl', dist_url=None, batch_size=16, devices=1, exp_file='exps/siim_yolox_config.py', resume=False, ckpt='weights/yolox_m.pth', start_epoch=None, num_machines=1, machine_rank=0, fp16=True, cache=None, occupy=False, logger='tensorboard', opts=[])\n2025-09-26 18:39:17 | INFO     | yolox.core.trainer:133 - exp value:\n\u2552\u2550\u2550\u2550\u2550\u2550\u2550\u2550\u2550\u2550\u2550\u2550\u2550\u2550\u2550\u2550\u2550\u2550\u2550\u2550\u2564\u2550\u2550\u2550\u2550\u2550\u2550\u2550\u2550\u2550\u2550\u2550\u2550\u2550\u2550\u2550\u2550\u2550\u2550\u2550\u2550\u2550\u2550\u2550\u2550\u2550\u2550\u2550\u2550\u2550\u2550\u2550\u2550\u2550\u2550\u2550\u2550\u2550\u2550\u2550\u2550\u2550\u2550\u2550\u2550\u2550\u2550\u2550\u2550\u2550\u2550\u2550\u2550\u2550\u2550\u2550\u2550\u2550\u2550\u2550\u2550\u2550\u2550\u2550\u2550\u2550\u2550\u2550\u2550\u2550\u2550\u2550\u2550\u2550\u2550\u2550\u2550\u2550\u2550\u2550\u2550\u2550\u2550\u2550\u2550\u2550\u2550\u2550\u2550\u2555\n\u2502 keys              \u2502 values                                                                                 \u2502\n\u255e\u2550\u2550\u2550\u2550\u2550\u2550\u2550\u2550\u2550\u2550\u2550\u2550\u2550\u2550\u2550\u2550\u2550\u2550\u2550\u256a\u2550\u2550\u2550\u2550\u2550\u2550\u2550\u2550\u2550\u2550\u2550\u2550\u2550\u2550\u2550\u2550\u2550\u2550\u2550\u2550\u2550\u2550\u2550\u2550\u2550\u2550\u2550\u2550\u2550\u2550\u2550\u2550\u2550\u2550\u2550\u2550\u2550\u2550\u2550\u2550\u2550\u2550\u2550\u2550\u2550\u2550\u2550\u2550\u2550\u2550\u2550\u2550\u2550\u2550\u2550\u2550\u2550\u2550\u2550\u2550\u2550\u2550\u2550\u2550\u2550\u2550\u2550\u2550\u2550\u2550\u2550\u2550\u2550\u2550\u2550\u2550\u2550\u2550\u2550\u2550\u2550\u2550\u2550\u2550\u2550\u2550\u2550\u2550\u2561\n\u2502 seed              \u2502 None                                                                                   \u2502\n\u251c\u2500\u2500\u2500\u2500\u2500\u2500\u2500\u2500\u2500\u2500\ufffd\ufffd\u2500\u2500\u2500\u2500\u2500\u2500\u2500\u2500\u253c\u2500\u2500\u2500\u2500\u2500\u2500\u2500\u2500\u2500\u2500\u2500\u2500\u2500\u2500\u2500\u2500\u2500\u2500\u2500\u2500\u2500\u2500\u2500\u2500\u2500\u2500\u2500\u2500\u2500\u2500\u2500\u2500\u2500\u2500\u2500\u2500\u2500\u2500\u2500\u2500\u2500\u2500\u2500\u2500\u2500\u2500\u2500\u2500\u2500\u2500\u2500\u2500\u2500\u2500\u2500\u2500\u2500\u2500\u2500\u2500\u2500\u2500\u2500\u2500\u2500\u2500\u2500\u2500\u2500\u2500\u2500\u2500\u2500\u2500\u2500\u2500\u2500\u2500\u2500\u2500\u2500\u2500\u2500\u2500\u2500\u2500\u2500\u2500\u2524\n\u2502 output_dir        \u2502 '/var/lib/simon/agent_run_states/siim-covid19-detection-20250925-205912/yolox_outputs' \u2502\n\u251c\u2500\u2500\u2500\u2500\u2500\u2500\u2500\u2500\u2500\u2500\u2500\u2500\u2500\u2500\u2500\u2500\u2500\u2500\u2500\u253c\u2500\u2500\u2500\u2500\u2500\u2500\u2500\u2500\u2500\u2500\u2500\u2500\u2500\u2500\u2500\u2500\u2500\u2500\u2500\u2500\u2500\u2500\u2500\u2500\u2500\u2500\u2500\u2500\u2500\u2500\u2500\u2500\u2500\u2500\u2500\u2500\u2500\u2500\u2500\u2500\u2500\u2500\u2500\u2500\u2500\u2500\u2500\u2500\u2500\u2500\u2500\u2500\u2500\u2500\u2500\u2500\u2500\u2500\u2500\u2500\u2500\u2500\u2500\u2500\u2500\u2500\u2500\u2500\u2500\u2500\u2500\u2500\u2500\u2500\u2500\u2500\u2500\u2500\u2500\u2500\u2500\u2500\u2500\u2500\u2500\u2500\u2500\u2500\u2524\n\u2502 print_interval    \u2502 10                                                                                     \u2502\n\u251c\u2500\u2500\u2500\u2500\u2500\u2500\u2500\u2500\u2500\u2500\u2500\u2500\u2500\u2500\u2500\u2500\u2500\u2500\u2500\u253c\u2500\u2500\u2500\u2500\u2500\u2500\u2500\u2500\u2500\u2500\u2500\u2500\u2500\u2500\u2500\u2500\u2500\u2500\u2500\u2500\u2500\u2500\u2500\u2500\u2500\ufffd\ufffd\ufffd\u2500\u2500\u2500\u2500\u2500\u2500\u2500\u2500\u2500\u2500\u2500\u2500\u2500\u2500\u2500\u2500\u2500\u2500\u2500\u2500\u2500\u2500\u2500\u2500\u2500\u2500\u2500\u2500\u2500\u2500\u2500\u2500\u2500\u2500\u2500\u2500\u2500\u2500\u2500\u2500\u2500\u2500\u2500\u2500\u2500\u2500\u2500\u2500\u2500\u2500\u2500\u2500\u2500\u2500\u2500\u2500\u2500\u2500\u2500\u2500\u2500\u2500\u2524\n\u2502 eval_interval     \u2502 1                                                                                      \u2502\n\u251c\u2500\u2500\u2500\u2500\u2500\u2500\u2500\u2500\u2500\u2500\u2500\u2500\u2500\u2500\u2500\u2500\u2500\u2500\u2500\u253c\u2500\u2500\u2500\u2500\u2500\u2500\u2500\u2500\u2500\u2500\u2500\u2500\u2500\u2500\u2500\u2500\u2500\u2500\u2500\u2500\u2500\u2500\u2500\u2500\u2500\u2500\u2500\u2500\u2500\u2500\u2500\u2500\u2500\u2500\u2500\u2500\u2500\u2500\u2500\u2500\u2500\u2500\u2500\u2500\u2500\u2500\u2500\u2500\u2500\u2500\u2500\u2500\u2500\u2500\u2500\u2500\u2500\u2500\u2500\u2500\u2500\u2500\u2500\u2500\u2500\u2500\u2500\u2500\u2500\u2500\u2500\u2500\u2500\u2500\u2500\u2500\u2500\u2500\u2500\u2500\u2500\u2500\u2500\u2500\u2500\u2500\u2500\u2500\u2524\n\u2502 dataset           \u2502 None                                                                                   \u2502\n\u251c\u2500\u2500\u2500\u2500\u2500\u2500\u2500\u2500\u2500\u2500\u2500\u2500\u2500\u2500\u2500\u2500\u2500\u2500\u2500\u253c\u2500\u2500\u2500\u2500\u2500\u2500\u2500\u2500\u2500\u2500\u2500\u2500\u2500\u2500\u2500\u2500\u2500\u2500\u2500\u2500\u2500\u2500\u2500\u2500\u2500\u2500\u2500\u2500\u2500\u2500\u2500\u2500\u2500\u2500\u2500\u2500\u2500\u2500\u2500\u2500\u2500\u2500\u2500\u2500\u2500\u2500\u2500\u2500\u2500\u2500\u2500\u2500\u2500\u2500\u2500\u2500\u2500\u2500\u2500\u2500\u2500\u2500\u2500\u2500\u2500\u2500\u2500\u2500\u2500\u2500\u2500\u2500\u2500\u2500\u2500\u2500\u2500\u2500\u2500\u2500\u2500\u2500\u2500\u2500\u2500\u2500\u2500\u2500\u2524\n\u2502 num_classes       \u2502 1                                                                                      \u2502\n\u251c\u2500\u2500\u2500\u2500\u2500\u2500\u2500\u2500\u2500\u2500\u2500\u2500\u2500\u2500\u2500\u2500\u2500\u2500\u2500\u253c\u2500\u2500\u2500\u2500\u2500\u2500\u2500\u2500\u2500\u2500\u2500\u2500\u2500\u2500\u2500\u2500\u2500\u2500\u2500\u2500\u2500\u2500\u2500\u2500\u2500\u2500\u2500\u2500\u2500\u2500\u2500\u2500\u2500\u2500\u2500\u2500\u2500\u2500\u2500\u2500\u2500\u2500\u2500\u2500\u2500\u2500\u2500\u2500\u2500\u2500\u2500\u2500\u2500\u2500\u2500\u2500\u2500\u2500\u2500\u2500\u2500\u2500\u2500\u2500\u2500\u2500\u2500\u2500\u2500\u2500\u2500\u2500\u2500\u2500\u2500\u2500\u2500\u2500\u2500\u2500\u2500\u2500\u2500\u2500\u2500\u2500\u2500\u2500\u2524\n\u2502 depth             \u2502 0.67                                                                                   \u2502\n\u251c\u2500\u2500\u2500\u2500\u2500\u2500\u2500\u2500\u2500\u2500\u2500\u2500\u2500\u2500\u2500\u2500\u2500\u2500\u2500\u253c\u2500\u2500\u2500\u2500\u2500\u2500\u2500\u2500\u2500\u2500\u2500\u2500\u2500\u2500\u2500\u2500\u2500\u2500\u2500\u2500\u2500\u2500\u2500\u2500\u2500\u2500\u2500\u2500\u2500\u2500\u2500\u2500\u2500\u2500\u2500\u2500\u2500\u2500\u2500\u2500\u2500\u2500\u2500\u2500\u2500\u2500\u2500\u2500\u2500\u2500\u2500\u2500\u2500\u2500\u2500\u2500\u2500\u2500\u2500\u2500\u2500\u2500\u2500\u2500\u2500\u2500\u2500\u2500\u2500\u2500\u2500\u2500\u2500\u2500\u2500\u2500\u2500\u2500\u2500\u2500\u2500\u2500\u2500\u2500\u2500\u2500\u2500\u2500\u2524\n\u2502 width             \u2502 0.75                                                                                   \u2502\n\u251c\u2500\u2500\u2500\u2500\u2500\u2500\u2500\u2500\u2500\u2500\u2500\u2500\u2500\u2500\u2500\u2500\u2500\u2500\u2500\u253c\u2500\u2500\u2500\u2500\u2500\u2500\u2500\u2500\u2500\u2500\u2500\u2500\u2500\u2500\u2500\u2500\u2500\u2500\u2500\u2500\u2500\u2500\u2500\u2500\u2500\u2500\u2500\u2500\u2500\u2500\u2500\u2500\u2500\u2500\u2500\u2500\u2500\u2500\u2500\u2500\u2500\u2500\u2500\u2500\u2500\u2500\u2500\u2500\u2500\u2500\u2500\u2500\u2500\u2500\u2500\u2500\u2500\u2500\u2500\u2500\u2500\u2500\u2500\u2500\u2500\u2500\u2500\u2500\u2500\u2500\u2500\u2500\u2500\u2500\u2500\u2500\u2500\u2500\u2500\u2500\u2500\u2500\u2500\u2500\u2500\u2500\u2500\u2500\u2524\n\u2502 act               \u2502 'silu'                                                                                 \u2502\n\u251c\u2500\u2500\u2500\u2500\u2500\u2500\u2500\u2500\u2500\u2500\u2500\u2500\u2500\u2500\u2500\u2500\u2500\u2500\u2500\u253c\u2500\u2500\u2500\u2500\u2500\u2500\u2500\u2500\u2500\u2500\u2500\u2500\u2500\u2500\u2500\u2500\u2500\u2500\u2500\u2500\u2500\u2500\u2500\u2500\u2500\u2500\u2500\u2500\u2500\u2500\u2500\u2500\u2500\u2500\u2500\u2500\u2500\u2500\u2500\u2500\u2500\u2500\u2500\u2500\u2500\u2500\u2500\u2500\u2500\u2500\u2500\u2500\u2500\u2500\u2500\u2500\u2500\u2500\u2500\u2500\u2500\u2500\u2500\u2500\u2500\u2500\u2500\u2500\u2500\u2500\u2500\u2500\u2500\u2500\u2500\u2500\u2500\u2500\u2500\u2500\u2500\u2500\u2500\u2500\u2500\u2500\u2500\u2500\u2524\n\u2502 data_num_workers  \u2502 2                                                                                      \u2502\n\u251c\u2500\u2500\u2500\u2500\u2500\u2500\u2500\u2500\u2500\u2500\u2500\u2500\u2500\u2500\u2500\u2500\u2500\u2500\u2500\u253c\u2500\u2500\u2500\u2500\u2500\u2500\u2500\u2500\u2500\u2500\u2500\u2500\u2500\u2500\u2500\u2500\u2500\u2500\u2500\u2500\u2500\u2500\u2500\u2500\u2500\u2500\u2500\u2500\u2500\u2500\u2500\u2500\u2500\u2500\u2500\u2500\u2500\u2500\u2500\u2500\u2500\u2500\u2500\u2500\u2500\u2500\u2500\u2500\u2500\u2500\u2500\u2500\u2500\u2500\u2500\u2500\u2500\u2500\u2500\u2500\u2500\u2500\u2500\u2500\u2500\u2500\u2500\u2500\u2500\u2500\u2500\u2500\u2500\u2500\u2500\u2500\u2500\u2500\u2500\u2500\u2500\u2500\u2500\u2500\u2500\u2500\u2500\u2500\u2524\n\u2502 input_size        \u2502 (640, 640)                                                                             \u2502\n\u251c\u2500\u2500\u2500\u2500\u2500\u2500\u2500\u2500\u2500\u2500\u2500\u2500\u2500\u2500\u2500\u2500\u2500\u2500\u2500\u253c\u2500\u2500\u2500\u2500\u2500\u2500\u2500\u2500\u2500\u2500\u2500\u2500\u2500\u2500\u2500\u2500\u2500\u2500\u2500\u2500\u2500\u2500\u2500\u2500\u2500\u2500\u2500\u2500\u2500\u2500\u2500\u2500\u2500\u2500\u2500\u2500\u2500\u2500\u2500\u2500\u2500\u2500\u2500\u2500\u2500\u2500\u2500\u2500\u2500\u2500\u2500\u2500\u2500\u2500\u2500\u2500\u2500\u2500\u2500\u2500\u2500\u2500\u2500\u2500\u2500\u2500\u2500\u2500\u2500\u2500\u2500\u2500\u2500\u2500\u2500\u2500\u2500\u2500\u2500\u2500\u2500\u2500\u2500\u2500\u2500\u2500\u2500\u2500\u2524\n\u2502 multiscale_range  \u2502 5                                                                                      \u2502\n\u251c\u2500\u2500\u2500\u2500\u2500\u2500\u2500\u2500\u2500\u2500\u2500\u2500\u2500\u2500\u2500\u2500\u2500\u2500\u2500\u253c\u2500\u2500\u2500\u2500\u2500\u2500\u2500\u2500\u2500\u2500\u2500\u2500\u2500\u2500\ufffd\ufffd\u2500\u2500\u2500\u2500\u2500\u2500\u2500\u2500\u2500\u2500\u2500\u2500\u2500\u2500\u2500\u2500\u2500\u2500\u2500\u2500\u2500\u2500\u2500\u2500\u2500\u2500\u2500\u2500\u2500\u2500\u2500\u2500\u2500\u2500\u2500\u2500\u2500\u2500\u2500\u2500\u2500\u2500\u2500\u2500\u2500\u2500\u2500\u2500\u2500\u2500\u2500\u2500\u2500\u2500\u2500\u2500\u2500\u2500\u2500\u2500\u2500\u2500\u2500\u2500\u2500\u2500\u2500\u2500\u2500\u2500\u2500\u2500\u2500\u2524\n\u2502 data_dir          \u2502 '/var/lib/simon/agent_run_states/siim-covid19-detection-20250925-205912/yolox_data'    \u2502\n\u251c\u2500\u2500\u2500\u2500\u2500\u2500\u2500\u2500\u2500\u2500\u2500\u2500\u2500\u2500\u2500\u2500\u2500\u2500\u2500\u253c\u2500\u2500\u2500\u2500\u2500\u2500\u2500\u2500\u2500\u2500\u2500\u2500\u2500\u2500\u2500\u2500\u2500\u2500\u2500\u2500\u2500\u2500\u2500\u2500\u2500\u2500\u2500\u2500\u2500\u2500\u2500\u2500\u2500\u2500\u2500\u2500\u2500\u2500\u2500\u2500\u2500\u2500\u2500\u2500\u2500\u2500\u2500\u2500\u2500\u2500\u2500\u2500\u2500\u2500\u2500\u2500\u2500\u2500\u2500\u2500\u2500\u2500\u2500\u2500\u2500\u2500\u2500\u2500\u2500\u2500\u2500\u2500\u2500\u2500\u2500\u2500\u2500\u2500\u2500\u2500\u2500\u2500\u2500\u2500\u2500\u2500\u2500\u2500\u2524\n\u2502 train_ann         \u2502 'instances_fold2_train.json'                                                           \u2502\n\u251c\u2500\u2500\u2500\u2500\u2500\u2500\u2500\u2500\u2500\u2500\u2500\u2500\u2500\u2500\u2500\u2500\u2500\u2500\u2500\u253c\u2500\u2500\u2500\u2500\u2500\u2500\u2500\u2500\u2500\u2500\u2500\u2500\u2500\u2500\u2500\u2500\u2500\u2500\u2500\u2500\u2500\u2500\u2500\u2500\u2500\u2500\u2500\u2500\u2500\u2500\u2500\u2500\u2500\u2500\u2500\u2500\u2500\u2500\u2500\u2500\u2500\u2500\u2500\u2500\u2500\u2500\u2500\u2500\u2500\ufffd\ufffd\ufffd\u2500\u2500\u2500\u2500\u2500\u2500\u2500\u2500\u2500\u2500\u2500\u2500\u2500\u2500\u2500\u2500\u2500\u2500\u2500\u2500\u2500\u2500\u2500\u2500\u2500\u2500\u2500\u2500\u2500\u2500\u2500\u2500\u2500\u2500\u2500\u2500\u2500\u2500\u2524\n\u2502 val_ann           \u2502 'instances_fold2_val.json'                                                             \u2502\n\u251c\u2500\u2500\u2500\u2500\u2500\u2500\u2500\u2500\u2500\u2500\u2500\u2500\u2500\u2500\u2500\u2500\u2500\u2500\u2500\u253c\u2500\u2500\u2500\u2500\u2500\u2500\u2500\u2500\u2500\u2500\u2500\u2500\u2500\u2500\u2500\u2500\u2500\u2500\u2500\u2500\u2500\u2500\u2500\u2500\u2500\u2500\u2500\u2500\u2500\u2500\u2500\u2500\u2500\u2500\u2500\u2500\u2500\u2500\u2500\u2500\u2500\u2500\u2500\u2500\u2500\u2500\u2500\u2500\u2500\u2500\u2500\u2500\u2500\u2500\u2500\u2500\u2500\u2500\u2500\u2500\u2500\u2500\u2500\u2500\u2500\u2500\u2500\u2500\u2500\u2500\u2500\u2500\u2500\u2500\u2500\u2500\u2500\u2500\u2500\u2500\u2500\u2500\u2500\u2500\u2500\u2500\u2500\u2500\u2524\n\u2502 test_ann          \u2502 'instances_fold0_val.json'                                                             \u2502\n\u251c\u2500\u2500\u2500\u2500\u2500\u2500\u2500\u2500\u2500\u2500\u2500\u2500\u2500\u2500\u2500\u2500\u2500\u2500\u2500\u253c\u2500\u2500\u2500\u2500\u2500\u2500\u2500\u2500\u2500\u2500\u2500\u2500\u2500\u2500\u2500\u2500\u2500\u2500\u2500\u2500\u2500\u2500\u2500\u2500\u2500\u2500\u2500\u2500\u2500\u2500\u2500\u2500\u2500\u2500\u2500\u2500\u2500\u2500\u2500\u2500\u2500\u2500\u2500\u2500\u2500\u2500\u2500\u2500\u2500\u2500\u2500\u2500\u2500\u2500\u2500\u2500\u2500\u2500\u2500\u2500\u2500\u2500\u2500\u2500\u2500\u2500\u2500\u2500\u2500\u2500\u2500\u2500\u2500\u2500\u2500\u2500\u2500\u2500\u2500\u2500\u2500\u2500\u2500\u2500\u2500\u2500\u2500\u2500\u2524\n\u2502 mosaic_prob       \u2502 0.0                                                                                    \u2502\n\u251c\u2500\u2500\u2500\u2500\u2500\u2500\u2500\u2500\u2500\u2500\u2500\u2500\u2500\u2500\u2500\u2500\u2500\u2500\u2500\u253c\u2500\u2500\u2500\u2500\u2500\u2500\u2500\u2500\u2500\u2500\u2500\u2500\u2500\u2500\u2500\u2500\u2500\u2500\u2500\u2500\u2500\u2500\u2500\u2500\u2500\u2500\u2500\u2500\u2500\u2500\u2500\u2500\u2500\u2500\u2500\u2500\u2500\u2500\u2500\u2500\u2500\u2500\u2500\u2500\u2500\u2500\u2500\u2500\u2500\u2500\u2500\u2500\u2500\u2500\u2500\u2500\u2500\u2500\u2500\u2500\u2500\u2500\u2500\u2500\u2500\u2500\u2500\u2500\u2500\u2500\u2500\u2500\u2500\u2500\u2500\u2500\u2500\u2500\u2500\u2500\u2500\u2500\u2500\u2500\u2500\u2500\u2500\u2500\u2524\n\u2502 mixup_prob        \u2502 0.0                                                                                    \u2502\n\u251c\u2500\u2500\u2500\u2500\u2500\u2500\u2500\u2500\u2500\u2500\u2500\u2500\u2500\u2500\u2500\u2500\u2500\u2500\u2500\u253c\u2500\u2500\u2500\u2500\u2500\u2500\u2500\u2500\u2500\u2500\u2500\u2500\u2500\u2500\u2500\u2500\u2500\u2500\u2500\u2500\u2500\u2500\u2500\u2500\u2500\u2500\u2500\u2500\u2500\u2500\u2500\u2500\u2500\u2500\u2500\u2500\u2500\u2500\u2500\u2500\u2500\u2500\u2500\u2500\u2500\u2500\u2500\u2500\u2500\u2500\u2500\u2500\u2500\u2500\u2500\u2500\u2500\u2500\u2500\u2500\u2500\u2500\u2500\u2500\u2500\u2500\u2500\u2500\u2500\u2500\u2500\u2500\u2500\u2500\u2500\u2500\u2500\u2500\u2500\u2500\u2500\u2500\u2500\u2500\u2500\u2500\u2500\u2500\u2524\n\u2502 hsv_prob          \u2502 1.0                                                                                    \u2502\n\u251c\u2500\u2500\u2500\u2500\u2500\u2500\u2500\u2500\u2500\u2500\u2500\u2500\u2500\u2500\u2500\u2500\u2500\u2500\u2500\u253c\u2500\u2500\u2500\u2500\u2500\u2500\u2500\u2500\u2500\u2500\u2500\u2500\u2500\u2500\u2500\u2500\u2500\u2500\u2500\u2500\u2500\u2500\u2500\u2500\u2500\u2500\u2500\u2500\u2500\u2500\u2500\u2500\u2500\u2500\u2500\u2500\u2500\u2500\u2500\u2500\u2500\u2500\u2500\u2500\u2500\u2500\u2500\u2500\u2500\u2500\u2500\u2500\u2500\u2500\u2500\u2500\u2500\u2500\u2500\u2500\u2500\u2500\u2500\u2500\u2500\u2500\u2500\u2500\u2500\u2500\u2500\u2500\u2500\u2500\u2500\u2500\u2500\u2500\u2500\u2500\u2500\u2500\u2500\u2500\u2500\u2500\u2500\u2500\u2524\n\u2502 flip_prob         \u2502 0.5                                                                                    \u2502\n\u251c\u2500\u2500\u2500\u2500\u2500\u2500\u2500\u2500\u2500\u2500\u2500\u2500\u2500\u2500\u2500\u2500\u2500\u2500\u2500\u253c\u2500\u2500\u2500\u2500\u2500\u2500\u2500\u2500\u2500\u2500\u2500\u2500\u2500\u2500\u2500\u2500\u2500\u2500\u2500\u2500\u2500\u2500\u2500\u2500\u2500\u2500\u2500\u2500\u2500\u2500\u2500\u2500\u2500\u2500\u2500\u2500\u2500\u2500\u2500\u2500\u2500\u2500\u2500\u2500\u2500\u2500\u2500\u2500\u2500\u2500\u2500\u2500\u2500\u2500\u2500\u2500\u2500\u2500\u2500\u2500\u2500\u2500\u2500\u2500\u2500\u2500\u2500\u2500\u2500\u2500\u2500\u2500\u2500\u2500\u2500\u2500\u2500\u2500\u2500\u2500\u2500\u2500\u2500\u2500\u2500\u2500\u2500\u2500\u2524\n\u2502 degrees           \u2502 10.0                                                                                   \u2502\n\u251c\u2500\u2500\u2500\u2500\u2500\u2500\u2500\u2500\u2500\u2500\u2500\u2500\u2500\u2500\u2500\u2500\u2500\u2500\u2500\u253c\u2500\u2500\u2500\u2500\u2500\u2500\u2500\u2500\u2500\u2500\u2500\u2500\u2500\u2500\u2500\u2500\u2500\u2500\u2500\u2500\u2500\u2500\u2500\u2500\u2500\u2500\u2500\u2500\u2500\u2500\u2500\u2500\u2500\u2500\u2500\u2500\u2500\u2500\u2500\u2500\u2500\u2500\u2500\u2500\u2500\u2500\u2500\u2500\u2500\u2500\u2500\u2500\u2500\u2500\u2500\u2500\u2500\u2500\u2500\u2500\u2500\u2500\u2500\u2500\u2500\u2500\u2500\u2500\u2500\u2500\u2500\u2500\u2500\u2500\u2500\u2500\u2500\u2500\u2500\u2500\u2500\u2500\u2500\u2500\u2500\u2500\u2500\u2500\u2524\n\u2502 translate         \u2502 0.1                                                                                    \u2502\n\u251c\u2500\u2500\u2500\u2500\u2500\u2500\u2500\u2500\u2500\u2500\u2500\u2500\u2500\u2500\u2500\u2500\u2500\u2500\u2500\u253c\u2500\u2500\u2500\u2500\u2500\u2500\u2500\u2500\u2500\u2500\u2500\u2500\u2500\u2500\u2500\u2500\u2500\u2500\u2500\u2500\u2500\u2500\u2500\u2500\u2500\u2500\u2500\u2500\u2500\u2500\u2500\u2500\u2500\u2500\u2500\u2500\u2500\u2500\u2500\u2500\u2500\u2500\u2500\u2500\u2500\u2500\u2500\u2500\u2500\u2500\u2500\u2500\u2500\u2500\u2500\u2500\u2500\u2500\u2500\u2500\u2500\u2500\u2500\u2500\u2500\u2500\u2500\u2500\u2500\u2500\u2500\u2500\u2500\u2500\u2500\u2500\u2500\u2500\u2500\u2500\u2500\u2500\u2500\u2500\u2500\u2500\u2500\u2500\u2524\n\u2502 mosaic_scale      \u2502 (0.1, 2)                                                                               \u2502\n\u251c\u2500\u2500\u2500\u2500\u2500\u2500\u2500\u2500\u2500\u2500\u2500\u2500\u2500\u2500\u2500\u2500\u2500\u2500\u2500\u253c\u2500\u2500\u2500\u2500\u2500\u2500\u2500\u2500\u2500\u2500\u2500\u2500\u2500\u2500\u2500\u2500\u2500\u2500\u2500\u2500\u2500\u2500\u2500\u2500\u2500\u2500\u2500\u2500\u2500\u2500\u2500\u2500\u2500\u2500\u2500\u2500\u2500\u2500\ufffd\ufffd\u2500\u2500\u2500\u2500\u2500\u2500\u2500\u2500\u2500\u2500\u2500\u2500\u2500\u2500\u2500\u2500\u2500\u2500\u2500\u2500\u2500\u2500\u2500\u2500\u2500\u2500\u2500\u2500\u2500\u2500\u2500\u2500\u2500\u2500\u2500\u2500\u2500\u2500\u2500\u2500\u2500\u2500\u2500\u2500\u2500\u2500\u2500\u2500\u2500\u2524\n\u2502 enable_mixup      \u2502 False                                                                                  \u2502\n\u251c\u2500\u2500\u2500\u2500\u2500\u2500\u2500\u2500\u2500\u2500\u2500\u2500\u2500\u2500\u2500\u2500\u2500\u2500\u2500\u253c\u2500\u2500\u2500\u2500\u2500\u2500\u2500\u2500\u2500\u2500\u2500\u2500\u2500\u2500\u2500\u2500\u2500\u2500\u2500\u2500\u2500\u2500\u2500\u2500\u2500\u2500\u2500\u2500\u2500\u2500\u2500\u2500\u2500\u2500\u2500\u2500\u2500\u2500\u2500\u2500\u2500\u2500\u2500\u2500\u2500\u2500\u2500\u2500\u2500\u2500\u2500\u2500\u2500\u2500\u2500\u2500\u2500\u2500\u2500\u2500\u2500\u2500\u2500\u2500\u2500\u2500\u2500\u2500\u2500\u2500\u2500\u2500\u2500\u2500\u2500\u2500\u2500\u2500\u2500\u2500\u2500\u2500\u2500\u2500\u2500\u2500\u2500\u2500\u2524\n\u2502 mixup_scale       \u2502 (0.5, 1.5)                                                                             \u2502\n\u251c\u2500\u2500\u2500\u2500\u2500\u2500\u2500\u2500\u2500\u2500\u2500\u2500\u2500\u2500\u2500\u2500\u2500\u2500\u2500\u253c\u2500\u2500\u2500\u2500\u2500\u2500\u2500\u2500\u2500\u2500\u2500\u2500\u2500\u2500\u2500\u2500\u2500\u2500\u2500\u2500\u2500\u2500\u2500\u2500\u2500\u2500\u2500\u2500\u2500\u2500\u2500\u2500\u2500\u2500\u2500\u2500\u2500\u2500\u2500\u2500\u2500\u2500\u2500\u2500\u2500\u2500\u2500\u2500\u2500\u2500\u2500\u2500\u2500\u2500\u2500\u2500\u2500\u2500\u2500\u2500\u2500\u2500\u2500\u2500\u2500\u2500\u2500\u2500\u2500\u2500\u2500\u2500\u2500\ufffd\ufffd\ufffd\u2500\u2500\u2500\u2500\u2500\u2500\u2500\u2500\u2500\u2500\u2500\u2500\u2500\u2500\u2524\n\u2502 shear             \u2502 2.0                                                                                    \u2502\n\u251c\u2500\u2500\u2500\u2500\u2500\u2500\u2500\u2500\u2500\u2500\u2500\u2500\u2500\u2500\u2500\u2500\u2500\u2500\u2500\u253c\u2500\u2500\u2500\u2500\u2500\u2500\u2500\u2500\u2500\u2500\u2500\u2500\u2500\u2500\u2500\u2500\u2500\u2500\u2500\u2500\u2500\u2500\u2500\u2500\u2500\u2500\u2500\u2500\u2500\u2500\u2500\u2500\u2500\u2500\u2500\u2500\u2500\u2500\u2500\u2500\u2500\u2500\u2500\u2500\u2500\u2500\u2500\u2500\u2500\u2500\u2500\u2500\u2500\u2500\u2500\u2500\u2500\u2500\u2500\u2500\u2500\u2500\u2500\u2500\u2500\u2500\u2500\u2500\u2500\u2500\u2500\u2500\u2500\u2500\u2500\u2500\u2500\u2500\u2500\u2500\u2500\u2500\u2500\u2500\u2500\u2500\u2500\u2500\u2524\n\u2502 warmup_epochs     \u2502 1                                                                                      \u2502\n\u251c\u2500\u2500\u2500\u2500\u2500\u2500\u2500\u2500\u2500\u2500\u2500\u2500\u2500\u2500\u2500\u2500\u2500\u2500\u2500\u253c\u2500\u2500\u2500\u2500\u2500\u2500\u2500\u2500\u2500\u2500\u2500\u2500\u2500\u2500\u2500\u2500\u2500\u2500\u2500\u2500\u2500\u2500\u2500\u2500\u2500\u2500\u2500\u2500\u2500\u2500\u2500\u2500\u2500\u2500\u2500\u2500\u2500\u2500\u2500\u2500\u2500\u2500\u2500\u2500\u2500\u2500\u2500\u2500\u2500\u2500\u2500\u2500\u2500\u2500\u2500\u2500\u2500\u2500\u2500\u2500\u2500\u2500\u2500\u2500\u2500\u2500\u2500\u2500\u2500\u2500\u2500\u2500\u2500\u2500\u2500\u2500\u2500\u2500\u2500\u2500\u2500\u2500\u2500\u2500\u2500\u2500\u2500\u2500\u2524\n\u2502 max_epoch         \u2502 2                                                                                      \u2502\n\u251c\u2500\u2500\u2500\u2500\u2500\u2500\u2500\u2500\u2500\u2500\u2500\u2500\u2500\u2500\u2500\u2500\u2500\u2500\u2500\u253c\u2500\u2500\u2500\u2500\u2500\u2500\u2500\u2500\u2500\u2500\u2500\u2500\u2500\u2500\u2500\u2500\u2500\u2500\u2500\u2500\u2500\u2500\u2500\u2500\u2500\u2500\u2500\u2500\u2500\u2500\u2500\u2500\u2500\u2500\u2500\u2500\u2500\u2500\u2500\u2500\u2500\u2500\u2500\u2500\u2500\u2500\u2500\u2500\u2500\u2500\u2500\u2500\u2500\u2500\u2500\u2500\u2500\u2500\u2500\u2500\u2500\u2500\u2500\u2500\u2500\u2500\u2500\u2500\u2500\u2500\u2500\u2500\u2500\u2500\u2500\u2500\u2500\u2500\u2500\u2500\u2500\u2500\u2500\u2500\u2500\u2500\u2500\u2500\u2524\n\u2502 warmup_lr         \u2502 0                                                                                      \u2502\n\u251c\u2500\u2500\u2500\u2500\u2500\u2500\u2500\u2500\u2500\u2500\u2500\u2500\u2500\u2500\u2500\u2500\u2500\u2500\u2500\u253c\u2500\u2500\u2500\u2500\u2500\u2500\u2500\u2500\u2500\u2500\u2500\u2500\u2500\u2500\u2500\u2500\u2500\u2500\u2500\u2500\u2500\u2500\u2500\u2500\u2500\u2500\u2500\u2500\u2500\u2500\u2500\u2500\u2500\u2500\u2500\u2500\u2500\u2500\u2500\u2500\u2500\u2500\u2500\u2500\u2500\u2500\u2500\u2500\u2500\u2500\u2500\u2500\u2500\u2500\u2500\u2500\u2500\u2500\u2500\u2500\u2500\u2500\u2500\u2500\u2500\u2500\u2500\u2500\u2500\u2500\u2500\u2500\u2500\u2500\u2500\u2500\u2500\u2500\u2500\u2500\u2500\u2500\u2500\u2500\u2500\u2500\u2500\u2500\u2524\n\u2502 min_lr_ratio      \u2502 0.05                                                                                   \u2502\n\u251c\u2500\u2500\u2500\u2500\u2500\u2500\u2500\u2500\u2500\u2500\u2500\u2500\u2500\ufffd\ufffd\ufffd\u2500\u2500\u2500\u2500\u2500\u253c\u2500\u2500\u2500\u2500\u2500\u2500\u2500\u2500\u2500\u2500\u2500\u2500\u2500\u2500\u2500\u2500\u2500\u2500\u2500\u2500\u2500\u2500\u2500\u2500\u2500\u2500\u2500\u2500\u2500\u2500\u2500\u2500\u2500\u2500\u2500\u2500\u2500\u2500\u2500\u2500\u2500\u2500\u2500\u2500\u2500\u2500\u2500\u2500\u2500\u2500\u2500\u2500\u2500\u2500\u2500\u2500\u2500\u2500\u2500\u2500\u2500\u2500\u2500\u2500\u2500\u2500\u2500\u2500\u2500\u2500\u2500\u2500\u2500\u2500\u2500\u2500\u2500\u2500\u2500\u2500\u2500\u2500\u2500\u2500\u2500\u2500\u2500\u2500\u2524\n\u2502 basic_lr_per_img  \u2502 0.00015625                                                                             \u2502\n\u251c\u2500\u2500\u2500\u2500\u2500\u2500\u2500\u2500\u2500\u2500\u2500\u2500\u2500\u2500\u2500\u2500\u2500\u2500\u2500\u253c\u2500\u2500\u2500\u2500\u2500\u2500\u2500\u2500\u2500\u2500\u2500\u2500\u2500\u2500\u2500\u2500\u2500\u2500\u2500\u2500\u2500\u2500\u2500\u2500\u2500\u2500\u2500\u2500\u2500\u2500\u2500\u2500\u2500\u2500\u2500\u2500\u2500\u2500\u2500\u2500\u2500\u2500\u2500\u2500\u2500\u2500\u2500\u2500\u2500\u2500\u2500\u2500\u2500\u2500\u2500\u2500\u2500\u2500\u2500\u2500\u2500\u2500\u2500\u2500\u2500\u2500\u2500\u2500\u2500\u2500\u2500\u2500\u2500\u2500\u2500\u2500\u2500\u2500\u2500\u2500\u2500\u2500\u2500\u2500\u2500\u2500\u2500\u2500\u2524\n\u2502 scheduler         \u2502 'yoloxwarmcos'                                                                         \u2502\n\u251c\u2500\u2500\u2500\u2500\u2500\u2500\u2500\u2500\u2500\u2500\u2500\u2500\u2500\u2500\u2500\u2500\u2500\u2500\u2500\u253c\u2500\u2500\u2500\u2500\u2500\u2500\u2500\u2500\u2500\u2500\u2500\u2500\u2500\u2500\u2500\u2500\u2500\u2500\u2500\u2500\u2500\u2500\u2500\u2500\u2500\u2500\u2500\u2500\u2500\u2500\u2500\u2500\u2500\u2500\u2500\u2500\u2500\u2500\u2500\u2500\u2500\u2500\u2500\u2500\u2500\u2500\u2500\u2500\u2500\u2500\u2500\u2500\u2500\u2500\u2500\u2500\u2500\u2500\u2500\u2500\u2500\u2500\u2500\u2500\u2500\u2500\u2500\u2500\u2500\u2500\u2500\u2500\u2500\u2500\u2500\u2500\u2500\u2500\u2500\u2500\u2500\u2500\u2500\u2500\u2500\u2500\u2500\u2500\u2524\n\u2502 no_aug_epochs     \u2502 5                                                                                      \u2502\n\u251c\u2500\u2500\u2500\u2500\u2500\u2500\u2500\u2500\u2500\u2500\u2500\u2500\u2500\u2500\u2500\u2500\u2500\u2500\u2500\u253c\u2500\u2500\u2500\u2500\u2500\u2500\u2500\u2500\u2500\u2500\u2500\u2500\u2500\u2500\u2500\u2500\u2500\u2500\u2500\u2500\u2500\u2500\u2500\u2500\u2500\u2500\u2500\u2500\u2500\u2500\u2500\u2500\u2500\u2500\u2500\u2500\u2500\u2500\u2500\u2500\u2500\u2500\u2500\u2500\u2500\u2500\u2500\u2500\u2500\u2500\u2500\u2500\u2500\u2500\u2500\u2500\u2500\u2500\u2500\u2500\u2500\u2500\u2500\u2500\u2500\u2500\u2500\u2500\u2500\u2500\u2500\u2500\u2500\u2500\u2500\u2500\u2500\u2500\u2500\u2500\u2500\u2500\u2500\u2500\u2500\u2500\u2500\u2500\u2524\n\u2502 ema               \u2502 True                                                                                   \u2502\n\u251c\u2500\u2500\u2500\u2500\u2500\u2500\u2500\u2500\u2500\u2500\u2500\u2500\u2500\u2500\u2500\u2500\u2500\u2500\u2500\u253c\u2500\u2500\u2500\u2500\u2500\u2500\u2500\u2500\u2500\u2500\u2500\u2500\u2500\u2500\u2500\u2500\u2500\u2500\u2500\u2500\u2500\u2500\u2500\u2500\u2500\u2500\u2500\u2500\u2500\u2500\u2500\u2500\u2500\u2500\u2500\u2500\u2500\u2500\u2500\u2500\u2500\u2500\u2500\u2500\u2500\u2500\u2500\u2500\u2500\u2500\u2500\u2500\u2500\u2500\u2500\u2500\u2500\u2500\u2500\u2500\u2500\u2500\ufffd\ufffd\u2500\u2500\u2500\u2500\u2500\u2500\u2500\u2500\u2500\u2500\u2500\u2500\u2500\u2500\u2500\u2500\u2500\u2500\u2500\u2500\u2500\u2500\u2500\u2500\u2500\u2524\n\u2502 weight_decay      \u2502 0.0005                                                                                 \u2502\n\u251c\u2500\u2500\u2500\u2500\u2500\u2500\u2500\u2500\u2500\u2500\u2500\u2500\u2500\u2500\u2500\u2500\u2500\u2500\u2500\u253c\u2500\u2500\u2500\u2500\u2500\u2500\u2500\u2500\u2500\u2500\u2500\u2500\u2500\u2500\u2500\u2500\u2500\u2500\u2500\u2500\u2500\u2500\u2500\u2500\u2500\u2500\u2500\u2500\u2500\u2500\u2500\u2500\u2500\u2500\u2500\u2500\u2500\u2500\u2500\u2500\u2500\u2500\u2500\u2500\u2500\u2500\u2500\u2500\u2500\u2500\u2500\u2500\u2500\u2500\u2500\u2500\u2500\u2500\u2500\u2500\u2500\u2500\u2500\u2500\u2500\u2500\u2500\u2500\u2500\u2500\u2500\u2500\u2500\u2500\u2500\u2500\u2500\u2500\u2500\u2500\u2500\u2500\u2500\u2500\u2500\u2500\u2500\u2500\u2524\n\u2502 momentum          \u2502 0.9                                                                                    \u2502\n\u251c\u2500\u2500\u2500\u2500\u2500\u2500\u2500\u2500\u2500\u2500\u2500\u2500\u2500\u2500\u2500\u2500\u2500\u2500\u2500\u253c\u2500\u2500\u2500\u2500\u2500\u2500\u2500\u2500\u2500\u2500\u2500\u2500\u2500\u2500\u2500\u2500\u2500\u2500\u2500\u2500\u2500\u2500\u2500\u2500\u2500\u2500\u2500\u2500\u2500\u2500\u2500\u2500\u2500\u2500\u2500\u2500\u2500\u2500\u2500\u2500\u2500\u2500\u2500\u2500\u2500\u2500\u2500\u2500\u2500\u2500\u2500\u2500\u2500\u2500\u2500\u2500\u2500\u2500\u2500\u2500\u2500\u2500\u2500\u2500\u2500\u2500\u2500\u2500\u2500\u2500\u2500\u2500\u2500\u2500\u2500\u2500\u2500\u2500\u2500\u2500\u2500\u2500\u2500\u2500\u2500\u2500\u2500\u2500\u2524\n\u2502 save_history_ckpt \ufffd\ufffd True                                                                                   \u2502\n\u251c\u2500\u2500\u2500\u2500\u2500\u2500\u2500\u2500\u2500\u2500\u2500\u2500\u2500\u2500\u2500\u2500\u2500\u2500\u2500\u253c\u2500\u2500\u2500\u2500\u2500\u2500\u2500\u2500\u2500\u2500\u2500\u2500\u2500\u2500\u2500\u2500\u2500\u2500\u2500\u2500\u2500\u2500\u2500\u2500\u2500\u2500\u2500\u2500\u2500\u2500\u2500\u2500\u2500\u2500\u2500\u2500\u2500\u2500\u2500\u2500\u2500\u2500\u2500\u2500\u2500\u2500\u2500\u2500\u2500\u2500\u2500\u2500\u2500\u2500\u2500\u2500\u2500\u2500\u2500\u2500\u2500\u2500\u2500\u2500\u2500\u2500\u2500\u2500\u2500\u2500\u2500\u2500\u2500\u2500\u2500\u2500\u2500\u2500\u2500\u2500\u2500\u2500\u2500\u2500\u2500\u2500\u2500\u2500\u2524\n\u2502 exp_name          \u2502 'yolox_m_fold_2'                                                                       \u2502\n\u251c\u2500\u2500\u2500\u2500\u2500\u2500\u2500\u2500\u2500\u2500\u2500\u2500\u2500\u2500\u2500\u2500\u2500\u2500\u2500\u253c\u2500\u2500\u2500\u2500\u2500\u2500\u2500\u2500\u2500\u2500\u2500\u2500\u2500\u2500\u2500\u2500\u2500\u2500\u2500\u2500\u2500\u2500\u2500\u2500\u2500\u2500\u2500\u2500\u2500\u2500\u2500\u2500\u2500\u2500\u2500\u2500\u2500\u2500\u2500\u2500\u2500\u2500\u2500\u2500\u2500\u2500\u2500\u2500\u2500\u2500\u2500\u2500\u2500\u2500\u2500\u2500\u2500\u2500\u2500\u2500\u2500\u2500\u2500\u2500\u2500\u2500\u2500\u2500\u2500\u2500\u2500\u2500\u2500\u2500\u2500\u2500\u2500\u2500\u2500\u2500\u2500\u2500\u2500\u2500\u2500\u2500\u2500\u2500\u2524\n\u2502 test_size         \u2502 (640, 640)                                                                             \u2502\n\u251c\u2500\u2500\ufffd\ufffd\u2500\u2500\u2500\u2500\u2500\u2500\u2500\u2500\u2500\u2500\u2500\u2500\u2500\u2500\u2500\u2500\u253c\u2500\u2500\u2500\u2500\u2500\u2500\u2500\u2500\u2500\u2500\u2500\u2500\u2500\u2500\u2500\u2500\u2500\u2500\u2500\u2500\u2500\u2500\u2500\u2500\u2500\u2500\u2500\u2500\u2500\u2500\u2500\u2500\u2500\u2500\u2500\u2500\u2500\u2500\u2500\u2500\u2500\u2500\u2500\u2500\u2500\u2500\u2500\u2500\u2500\u2500\u2500\u2500\u2500\u2500\u2500\u2500\u2500\u2500\u2500\u2500\u2500\u2500\u2500\u2500\u2500\u2500\u2500\u2500\u2500\u2500\u2500\u2500\u2500\u2500\u2500\u2500\u2500\u2500\u2500\u2500\u2500\u2500\u2500\u2500\u2500\u2500\u2500\u2500\u2524\n\u2502 test_conf         \u2502 0.01                                                                                   \u2502\n\u251c\u2500\u2500\u2500\u2500\u2500\u2500\u2500\u2500\u2500\u2500\u2500\u2500\u2500\u2500\u2500\u2500\u2500\u2500\u2500\u253c\u2500\u2500\u2500\u2500\u2500\u2500\u2500\u2500\u2500\u2500\u2500\u2500\u2500\u2500\u2500\u2500\u2500\u2500\u2500\u2500\u2500\u2500\u2500\u2500\u2500\u2500\u2500\u2500\u2500\u2500\u2500\u2500\u2500\u2500\u2500\u2500\u2500\u2500\u2500\u2500\u2500\u2500\u2500\u2500\u2500\u2500\u2500\u2500\u2500\u2500\u2500\u2500\u2500\u2500\u2500\u2500\u2500\u2500\u2500\u2500\u2500\u2500\u2500\u2500\u2500\u2500\u2500\u2500\u2500\u2500\u2500\u2500\u2500\u2500\u2500\u2500\u2500\u2500\u2500\u2500\u2500\u2500\u2500\u2500\u2500\u2500\u2500\u2500\u2524\n\u2502 nmsthre           \u2502 0.65                                                                                   \u2502\n\u2558\u2550\u2550\u2550\u2550\u2550\u2550\u2550\u2550\u2550\u2550\u2550\u2550\u2550\u2550\u2550\u2550\u2550\u2550\u2550\u2567\u2550\u2550\u2550\u2550\u2550\u2550\u2550\u2550\u2550\u2550\u2550\u2550\u2550\u2550\u2550\u2550\u2550\ufffd\ufffd\ufffd\u2550\u2550\u2550\u2550\u2550\u2550\u2550\u2550\u2550\u2550\u2550\u2550\u2550\u2550\u2550\u2550\u2550\u2550\u2550\u2550\u2550\u2550\u2550\u2550\u2550\u2550\u2550\u2550\u2550\u2550\u2550\u2550\u2550\u2550\u2550\u2550\u2550\u2550\u2550\u2550\u2550\u2550\u2550\u2550\u2550\u2550\u2550\u2550\u2550\u2550\u2550\u2550\u2550\u2550\u2550\u2550\u2550\u2550\u2550\u2550\u2550\u2550\u2550\u2550\u2550\u2550\u2550\u2550\u2550\u2550\u255b\n"
          ]
        },
        {
          "output_type": "stream",
          "name": "stderr",
          "text": [
            "2025-09-26 18:39:17 | INFO     | yolox.core.trainer:138 - Model Summary: Params: 25.28M, Gflops: 73.73\n2025-09-26 18:39:17 | INFO     | yolox.core.trainer:338 - loading checkpoint for fine tuning\n"
          ]
        },
        {
          "output_type": "stream",
          "name": "stderr",
          "text": [
            "2025-09-26 18:39:17 | WARNING  | yolox.utils.checkpoint:24 - Shape of head.cls_preds.0.weight in checkpoint is torch.Size([80, 192, 1, 1]), while shape of head.cls_preds.0.weight in model is torch.Size([1, 192, 1, 1]).\n2025-09-26 18:39:17 | WARNING  | yolox.utils.checkpoint:24 - Shape of head.cls_preds.0.bias in checkpoint is torch.Size([80]), while shape of head.cls_preds.0.bias in model is torch.Size([1]).\n2025-09-26 18:39:17 | WARNING  | yolox.utils.checkpoint:24 - Shape of head.cls_preds.1.weight in checkpoint is torch.Size([80, 192, 1, 1]), while shape of head.cls_preds.1.weight in model is torch.Size([1, 192, 1, 1]).\n2025-09-26 18:39:17 | WARNING  | yolox.utils.checkpoint:24 - Shape of head.cls_preds.1.bias in checkpoint is torch.Size([80]), while shape of head.cls_preds.1.bias in model is torch.Size([1]).\n2025-09-26 18:39:17 | WARNING  | yolox.utils.checkpoint:24 - Shape of head.cls_preds.2.weight in checkpoint is torch.Size([80, 192, 1, 1]), while shape of head.cls_preds.2.weight in model is torch.Size([1, 192, 1, 1]).\n2025-09-26 18:39:17 | WARNING  | yolox.utils.checkpoint:24 - Shape of head.cls_preds.2.bias in checkpoint is torch.Size([80]), while shape of head.cls_preds.2.bias in model is torch.Size([1]).\n2025-09-26 18:39:17 | INFO     | yolox.data.datasets.coco:63 - loading annotations into memory...\n2025-09-26 18:39:17 | INFO     | yolox.data.datasets.coco:63 - Done (t=0.01s)\n2025-09-26 18:39:17 | INFO     | pycocotools.coco:86 - creating index...\n2025-09-26 18:39:17 | INFO     | pycocotools.coco:86 - index created!\n2025-09-26 18:39:18 | INFO     | yolox.core.trainer:157 - init prefetcher, this might take one minute or less...\n"
          ]
        },
        {
          "output_type": "stream",
          "name": "stderr",
          "text": [
            "2025-09-26 18:39:19 | INFO     | yolox.data.datasets.coco:63 - loading annotations into memory...\n2025-09-26 18:39:19 | INFO     | yolox.data.datasets.coco:63 - Done (t=0.00s)\n2025-09-26 18:39:19 | INFO     | pycocotools.coco:86 - creating index...\n2025-09-26 18:39:19 | INFO     | pycocotools.coco:86 - index created!\n2025-09-26 18:39:19 | INFO     | yolox.core.trainer:196 - Training start...\n2025-09-26 18:39:19 | INFO     | yolox.core.trainer:197 - \nYOLOX(\n  (backbone): YOLOPAFPN(\n    (backbone): CSPDarknet(\n      (stem): Focus(\n        (conv): BaseConv(\n          (conv): Conv2d(12, 48, kernel_size=(3, 3), stride=(1, 1), padding=(1, 1), bias=False)\n          (bn): BatchNorm2d(48, eps=0.001, momentum=0.03, affine=True, track_running_stats=True)\n          (act): SiLU(inplace=True)\n        )\n      )\n      (dark2): Sequential(\n        (0): BaseConv(\n          (conv): Conv2d(48, 96, kernel_size=(3, 3), stride=(2, 2), padding=(1, 1), bias=False)\n          (bn): BatchNorm2d(96, eps=0.001, momentum=0.03, affine=True, track_running_stats=True)\n          (act): SiLU(inplace=True)\n        )\n        (1): CSPLayer(\n          (conv1): BaseConv(\n            (conv): Conv2d(96, 48, kernel_size=(1, 1), stride=(1, 1), bias=False)\n            (bn): BatchNorm2d(48, eps=0.001, momentum=0.03, affine=True, track_running_stats=True)\n            (act): SiLU(inplace=True)\n          )\n          (conv2): BaseConv(\n            (conv): Conv2d(96, 48, kernel_size=(1, 1), stride=(1, 1), bias=False)\n            (bn): BatchNorm2d(48, eps=0.001, momentum=0.03, affine=True, track_running_stats=True)\n            (act): SiLU(inplace=True)\n          )\n          (conv3): BaseConv(\n            (conv): Conv2d(96, 96, kernel_size=(1, 1), stride=(1, 1), bias=False)\n            (bn): BatchNorm2d(96, eps=0.001, momentum=0.03, affine=True, track_running_stats=True)\n            (act): SiLU(inplace=True)\n          )\n          (m): Sequential(\n            (0): Bottleneck(\n              (conv1): BaseConv(\n                (conv): Conv2d(48, 48, kernel_size=(1, 1), stride=(1, 1), bias=False)\n                (bn): BatchNorm2d(48, eps=0.001, momentum=0.03, affine=True, track_running_stats=True)\n                (act): SiLU(inplace=True)\n              )\n              (conv2): BaseConv(\n                (conv): Conv2d(48, 48, kernel_size=(3, 3), stride=(1, 1), padding=(1, 1), bias=False)\n                (bn): BatchNorm2d(48, eps=0.001, momentum=0.03, affine=True, track_running_stats=True)\n                (act): SiLU(inplace=True)\n              )\n            )\n            (1): Bottleneck(\n              (conv1): BaseConv(\n                (conv): Conv2d(48, 48, kernel_size=(1, 1), stride=(1, 1), bias=False)\n                (bn): BatchNorm2d(48, eps=0.001, momentum=0.03, affine=True, track_running_stats=True)\n                (act): SiLU(inplace=True)\n              )\n              (conv2): BaseConv(\n                (conv): Conv2d(48, 48, kernel_size=(3, 3), stride=(1, 1), padding=(1, 1), bias=False)\n                (bn): BatchNorm2d(48, eps=0.001, momentum=0.03, affine=True, track_running_stats=True)\n                (act): SiLU(inplace=True)\n              )\n            )\n          )\n        )\n      )\n      (dark3): Sequential(\n        (0): BaseConv(\n          (conv): Conv2d(96, 192, kernel_size=(3, 3), stride=(2, 2), padding=(1, 1), bias=False)\n          (bn): BatchNorm2d(192, eps=0.001, momentum=0.03, affine=True, track_running_stats=True)\n          (act): SiLU(inplace=True)\n        )\n        (1): CSPLayer(\n          (conv1): BaseConv(\n            (conv): Conv2d(192, 96, kernel_size=(1, 1), stride=(1, 1), bias=False)\n            (bn): BatchNorm2d(96, eps=0.001, momentum=0.03, affine=True, track_running_stats=True)\n            (act): SiLU(inplace=True)\n          )\n          (conv2): BaseConv(\n            (conv): Conv2d(192, 96, kernel_size=(1, 1), stride=(1, 1), bias=False)\n            (bn): BatchNorm2d(96, eps=0.001, momentum=0.03, affine=True, track_running_stats=True)\n            (act): SiLU(inplace=True)\n          )\n          (conv3): BaseConv(\n            (conv): Conv2d(192, 192, kernel_size=(1, 1), stride=(1, 1), bias=False)\n            (bn): BatchNorm2d(192, eps=0.001, momentum=0.03, affine=True, track_running_stats=True)\n            (act): SiLU(inplace=True)\n          )\n          (m): Sequential(\n            (0): Bottleneck(\n              (conv1): BaseConv(\n                (conv): Conv2d(96, 96, kernel_size=(1, 1), stride=(1, 1), bias=False)\n                (bn): BatchNorm2d(96, eps=0.001, momentum=0.03, affine=True, track_running_stats=True)\n                (act): SiLU(inplace=True)\n              )\n              (conv2): BaseConv(\n                (conv): Conv2d(96, 96, kernel_size=(3, 3), stride=(1, 1), padding=(1, 1), bias=False)\n                (bn): BatchNorm2d(96, eps=0.001, momentum=0.03, affine=True, track_running_stats=True)\n                (act): SiLU(inplace=True)\n              )\n            )\n            (1): Bottleneck(\n              (conv1): BaseConv(\n                (conv): Conv2d(96, 96, kernel_size=(1, 1), stride=(1, 1), bias=False)\n                (bn): BatchNorm2d(96, eps=0.001, momentum=0.03, affine=True, track_running_stats=True)\n                (act): SiLU(inplace=True)\n              )\n              (conv2): BaseConv(\n                (conv): Conv2d(96, 96, kernel_size=(3, 3), stride=(1, 1), padding=(1, 1), bias=False)\n                (bn): BatchNorm2d(96, eps=0.001, momentum=0.03, affine=True, track_running_stats=True)\n                (act): SiLU(inplace=True)\n              )\n            )\n            (2): Bottleneck(\n              (conv1): BaseConv(\n                (conv): Conv2d(96, 96, kernel_size=(1, 1), stride=(1, 1), bias=False)\n                (bn): BatchNorm2d(96, eps=0.001, momentum=0.03, affine=True, track_running_stats=True)\n                (act): SiLU(inplace=True)\n              )\n              (conv2): BaseConv(\n                (conv): Conv2d(96, 96, kernel_size=(3, 3), stride=(1, 1), padding=(1, 1), bias=False)\n                (bn): BatchNorm2d(96, eps=0.001, momentum=0.03, affine=True, track_running_stats=True)\n                (act): SiLU(inplace=True)\n              )\n            )\n            (3): Bottleneck(\n              (conv1): BaseConv(\n                (conv): Conv2d(96, 96, kernel_size=(1, 1), stride=(1, 1), bias=False)\n                (bn): BatchNorm2d(96, eps=0.001, momentum=0.03, affine=True, track_running_stats=True)\n                (act): SiLU(inplace=True)\n              )\n              (conv2): BaseConv(\n                (conv): Conv2d(96, 96, kernel_size=(3, 3), stride=(1, 1), padding=(1, 1), bias=False)\n                (bn): BatchNorm2d(96, eps=0.001, momentum=0.03, affine=True, track_running_stats=True)\n                (act): SiLU(inplace=True)\n              )\n            )\n            (4): Bottleneck(\n              (conv1): BaseConv(\n                (conv): Conv2d(96, 96, kernel_size=(1, 1), stride=(1, 1), bias=False)\n                (bn): BatchNorm2d(96, eps=0.001, momentum=0.03, affine=True, track_running_stats=True)\n                (act): SiLU(inplace=True)\n              )\n              (conv2): BaseConv(\n                (conv): Conv2d(96, 96, kernel_size=(3, 3), stride=(1, 1), padding=(1, 1), bias=False)\n                (bn): BatchNorm2d(96, eps=0.001, momentum=0.03, affine=True, track_running_stats=True)\n                (act): SiLU(inplace=True)\n              )\n            )\n            (5): Bottleneck(\n              (conv1): BaseConv(\n                (conv): Conv2d(96, 96, kernel_size=(1, 1), stride=(1, 1), bias=False)\n                (bn): BatchNorm2d(96, eps=0.001, momentum=0.03, affine=True, track_running_stats=True)\n                (act): SiLU(inplace=True)\n              )\n              (conv2): BaseConv(\n                (conv): Conv2d(96, 96, kernel_size=(3, 3), stride=(1, 1), padding=(1, 1), bias=False)\n                (bn): BatchNorm2d(96, eps=0.001, momentum=0.03, affine=True, track_running_stats=True)\n                (act): SiLU(inplace=True)\n              )\n            )\n          )\n        )\n      )\n      (dark4): Sequential(\n        (0): BaseConv(\n          (conv): Conv2d(192, 384, kernel_size=(3, 3), stride=(2, 2), padding=(1, 1), bias=False)\n          (bn): BatchNorm2d(384, eps=0.001, momentum=0.03, affine=True, track_running_stats=True)\n          (act): SiLU(inplace=True)\n        )\n        (1): CSPLayer(\n          (conv1): BaseConv(\n            (conv): Conv2d(384, 192, kernel_size=(1, 1), stride=(1, 1), bias=False)\n            (bn): BatchNorm2d(192, eps=0.001, momentum=0.03, affine=True, track_running_stats=True)\n            (act): SiLU(inplace=True)\n          )\n          (conv2): BaseConv(\n            (conv): Conv2d(384, 192, kernel_size=(1, 1), stride=(1, 1), bias=False)\n            (bn): BatchNorm2d(192, eps=0.001, momentum=0.03, affine=True, track_running_stats=True)\n            (act): SiLU(inplace=True)\n          )\n          (conv3): BaseConv(\n            (conv): Conv2d(384, 384, kernel_size=(1, 1), stride=(1, 1), bias=False)\n            (bn): BatchNorm2d(384, eps=0.001, momentum=0.03, affine=True, track_running_stats=True)\n            (act): SiLU(inplace=True)\n          )\n          (m): Sequential(\n            (0): Bottleneck(\n              (conv1): BaseConv(\n                (conv): Conv2d(192, 192, kernel_size=(1, 1), stride=(1, 1), bias=False)\n                (bn): BatchNorm2d(192, eps=0.001, momentum=0.03, affine=True, track_running_stats=True)\n                (act): SiLU(inplace=True)\n              )\n              (conv2): BaseConv(\n                (conv): Conv2d(192, 192, kernel_size=(3, 3), stride=(1, 1), padding=(1, 1), bias=False)\n                (bn): BatchNorm2d(192, eps=0.001, momentum=0.03, affine=True, track_running_stats=True)\n                (act): SiLU(inplace=True)\n              )\n            )\n            (1): Bottleneck(\n              (conv1): BaseConv(\n                (conv): Conv2d(192, 192, kernel_size=(1, 1), stride=(1, 1), bias=False)\n                (bn): BatchNorm2d(192, eps=0.001, momentum=0.03, affine=True, track_running_stats=True)\n                (act): SiLU(inplace=True)\n              )\n              (conv2): BaseConv(\n                (conv): Conv2d(192, 192, kernel_size=(3, 3), stride=(1, 1), padding=(1, 1), bias=False)\n                (bn): BatchNorm2d(192, eps=0.001, momentum=0.03, affine=True, track_running_stats=True)\n                (act): SiLU(inplace=True)\n              )\n            )\n            (2): Bottleneck(\n              (conv1): BaseConv(\n                (conv): Conv2d(192, 192, kernel_size=(1, 1), stride=(1, 1), bias=False)\n                (bn): BatchNorm2d(192, eps=0.001, momentum=0.03, affine=True, track_running_stats=True)\n                (act): SiLU(inplace=True)\n              )\n              (conv2): BaseConv(\n                (conv): Conv2d(192, 192, kernel_size=(3, 3), stride=(1, 1), padding=(1, 1), bias=False)\n                (bn): BatchNorm2d(192, eps=0.001, momentum=0.03, affine=True, track_running_stats=True)\n                (act): SiLU(inplace=True)\n              )\n            )\n            (3): Bottleneck(\n              (conv1): BaseConv(\n                (conv): Conv2d(192, 192, kernel_size=(1, 1), stride=(1, 1), bias=False)\n                (bn): BatchNorm2d(192, eps=0.001, momentum=0.03, affine=True, track_running_stats=True)\n                (act): SiLU(inplace=True)\n              )\n              (conv2): BaseConv(\n                (conv): Conv2d(192, 192, kernel_size=(3, 3), stride=(1, 1), padding=(1, 1), bias=False)\n                (bn): BatchNorm2d(192, eps=0.001, momentum=0.03, affine=True, track_running_stats=True)\n                (act): SiLU(inplace=True)\n              )\n            )\n            (4): Bottleneck(\n              (conv1): BaseConv(\n                (conv): Conv2d(192, 192, kernel_size=(1, 1), stride=(1, 1), bias=False)\n                (bn): BatchNorm2d(192, eps=0.001, momentum=0.03, affine=True, track_running_stats=True)\n                (act): SiLU(inplace=True)\n              )\n              (conv2): BaseConv(\n                (conv): Conv2d(192, 192, kernel_size=(3, 3), stride=(1, 1), padding=(1, 1), bias=False)\n                (bn): BatchNorm2d(192, eps=0.001, momentum=0.03, affine=True, track_running_stats=True)\n                (act): SiLU(inplace=True)\n              )\n            )\n            (5): Bottleneck(\n              (conv1): BaseConv(\n                (conv): Conv2d(192, 192, kernel_size=(1, 1), stride=(1, 1), bias=False)\n                (bn): BatchNorm2d(192, eps=0.001, momentum=0.03, affine=True, track_running_stats=True)\n                (act): SiLU(inplace=True)\n              )\n              (conv2): BaseConv(\n                (conv): Conv2d(192, 192, kernel_size=(3, 3), stride=(1, 1), padding=(1, 1), bias=False)\n                (bn): BatchNorm2d(192, eps=0.001, momentum=0.03, affine=True, track_running_stats=True)\n                (act): SiLU(inplace=True)\n              )\n            )\n          )\n        )\n      )\n      (dark5): Sequential(\n        (0): BaseConv(\n          (conv): Conv2d(384, 768, kernel_size=(3, 3), stride=(2, 2), padding=(1, 1), bias=False)\n          (bn): BatchNorm2d(768, eps=0.001, momentum=0.03, affine=True, track_running_stats=True)\n          (act): SiLU(inplace=True)\n        )\n        (1): SPPBottleneck(\n          (conv1): BaseConv(\n            (conv): Conv2d(768, 384, kernel_size=(1, 1), stride=(1, 1), bias=False)\n            (bn): BatchNorm2d(384, eps=0.001, momentum=0.03, affine=True, track_running_stats=True)\n            (act): SiLU(inplace=True)\n          )\n          (m): ModuleList(\n            (0): MaxPool2d(kernel_size=5, stride=1, padding=2, dilation=1, ceil_mode=False)\n            (1): MaxPool2d(kernel_size=9, stride=1, padding=4, dilation=1, ceil_mode=False)\n            (2): MaxPool2d(kernel_size=13, stride=1, padding=6, dilation=1, ceil_mode=False)\n          )\n          (conv2): BaseConv(\n            (conv): Conv2d(1536, 768, kernel_size=(1, 1), stride=(1, 1), bias=False)\n            (bn): BatchNorm2d(768, eps=0.001, momentum=0.03, affine=True, track_running_stats=True)\n            (act): SiLU(inplace=True)\n          )\n        )\n        (2): CSPLayer(\n          (conv1): BaseConv(\n            (conv): Conv2d(768, 384, kernel_size=(1, 1), stride=(1, 1), bias=False)\n            (bn): BatchNorm2d(384, eps=0.001, momentum=0.03, affine=True, track_running_stats=True)\n            (act): SiLU(inplace=True)\n          )\n          (conv2): BaseConv(\n            (conv): Conv2d(768, 384, kernel_size=(1, 1), stride=(1, 1), bias=False)\n            (bn): BatchNorm2d(384, eps=0.001, momentum=0.03, affine=True, track_running_stats=True)\n            (act): SiLU(inplace=True)\n          )\n          (conv3): BaseConv(\n            (conv): Conv2d(768, 768, kernel_size=(1, 1), stride=(1, 1), bias=False)\n            (bn): BatchNorm2d(768, eps=0.001, momentum=0.03, affine=True, track_running_stats=True)\n            (act): SiLU(inplace=True)\n          )\n          (m): Sequential(\n            (0): Bottleneck(\n              (conv1): BaseConv(\n                (conv): Conv2d(384, 384, kernel_size=(1, 1), stride=(1, 1), bias=False)\n                (bn): BatchNorm2d(384, eps=0.001, momentum=0.03, affine=True, track_running_stats=True)\n                (act): SiLU(inplace=True)\n              )\n              (conv2): BaseConv(\n                (conv): Conv2d(384, 384, kernel_size=(3, 3), stride=(1, 1), padding=(1, 1), bias=False)\n                (bn): BatchNorm2d(384, eps=0.001, momentum=0.03, affine=True, track_running_stats=True)\n                (act): SiLU(inplace=True)\n              )\n            )\n            (1): Bottleneck(\n              (conv1): BaseConv(\n                (conv): Conv2d(384, 384, kernel_size=(1, 1), stride=(1, 1), bias=False)\n                (bn): BatchNorm2d(384, eps=0.001, momentum=0.03, affine=True, track_running_stats=True)\n                (act): SiLU(inplace=True)\n              )\n              (conv2): BaseConv(\n                (conv): Conv2d(384, 384, kernel_size=(3, 3), stride=(1, 1), padding=(1, 1), bias=False)\n                (bn): BatchNorm2d(384, eps=0.001, momentum=0.03, affine=True, track_running_stats=True)\n                (act): SiLU(inplace=True)\n              )\n            )\n          )\n        )\n      )\n    )\n    (upsample): Upsample(scale_factor=2.0, mode='nearest')\n    (lateral_conv0): BaseConv(\n      (conv): Conv2d(768, 384, kernel_size=(1, 1), stride=(1, 1), bias=False)\n      (bn): BatchNorm2d(384, eps=0.001, momentum=0.03, affine=True, track_running_stats=True)\n      (act): SiLU(inplace=True)\n    )\n    (C3_p4): CSPLayer(\n      (conv1): BaseConv(\n        (conv): Conv2d(768, 192, kernel_size=(1, 1), stride=(1, 1), bias=False)\n        (bn): BatchNorm2d(192, eps=0.001, momentum=0.03, affine=True, track_running_stats=True)\n        (act): SiLU(inplace=True)\n      )\n      (conv2): BaseConv(\n        (conv): Conv2d(768, 192, kernel_size=(1, 1), stride=(1, 1), bias=False)\n        (bn): BatchNorm2d(192, eps=0.001, momentum=0.03, affine=True, track_running_stats=True)\n        (act): SiLU(inplace=True)\n      )\n      (conv3): BaseConv(\n        (conv): Conv2d(384, 384, kernel_size=(1, 1), stride=(1, 1), bias=False)\n        (bn): BatchNorm2d(384, eps=0.001, momentum=0.03, affine=True, track_running_stats=True)\n        (act): SiLU(inplace=True)\n      )\n      (m): Sequential(\n        (0): Bottleneck(\n          (conv1): BaseConv(\n            (conv): Conv2d(192, 192, kernel_size=(1, 1), stride=(1, 1), bias=False)\n            (bn): BatchNorm2d(192, eps=0.001, momentum=0.03, affine=True, track_running_stats=True)\n            (act): SiLU(inplace=True)\n          )\n          (conv2): BaseConv(\n            (conv): Conv2d(192, 192, kernel_size=(3, 3), stride=(1, 1), padding=(1, 1), bias=False)\n            (bn): BatchNorm2d(192, eps=0.001, momentum=0.03, affine=True, track_running_stats=True)\n            (act): SiLU(inplace=True)\n          )\n        )\n        (1): Bottleneck(\n          (conv1): BaseConv(\n            (conv): Conv2d(192, 192, kernel_size=(1, 1), stride=(1, 1), bias=False)\n            (bn): BatchNorm2d(192, eps=0.001, momentum=0.03, affine=True, track_running_stats=True)\n            (act): SiLU(inplace=True)\n          )\n          (conv2): BaseConv(\n            (conv): Conv2d(192, 192, kernel_size=(3, 3), stride=(1, 1), padding=(1, 1), bias=False)\n            (bn): BatchNorm2d(192, eps=0.001, momentum=0.03, affine=True, track_running_stats=True)\n            (act): SiLU(inplace=True)\n          )\n        )\n      )\n    )\n    (reduce_conv1): BaseConv(\n      (conv): Conv2d(384, 192, kernel_size=(1, 1), stride=(1, 1), bias=False)\n      (bn): BatchNorm2d(192, eps=0.001, momentum=0.03, affine=True, track_running_stats=True)\n      (act): SiLU(inplace=True)\n    )\n    (C3_p3): CSPLayer(\n      (conv1): BaseConv(\n        (conv): Conv2d(384, 96, kernel_size=(1, 1), stride=(1, 1), bias=False)\n        (bn): BatchNorm2d(96, eps=0.001, momentum=0.03, affine=True, track_running_stats=True)\n        (act): SiLU(inplace=True)\n      )\n      (conv2): BaseConv(\n        (conv): Conv2d(384, 96, kernel_size=(1, 1), stride=(1, 1), bias=False)\n        (bn): BatchNorm2d(96, eps=0.001, momentum=0.03, affine=True, track_running_stats=True)\n        (act): SiLU(inplace=True)\n      )\n      (conv3): BaseConv(\n        (conv): Conv2d(192, 192, kernel_size=(1, 1), stride=(1, 1), bias=False)\n        (bn): BatchNorm2d(192, eps=0.001, momentum=0.03, affine=True, track_running_stats=True)\n        (act): SiLU(inplace=True)\n      )\n      (m): Sequential(\n        (0): Bottleneck(\n          (conv1): BaseConv(\n            (conv): Conv2d(96, 96, kernel_size=(1, 1), stride=(1, 1), bias=False)\n            (bn): BatchNorm2d(96, eps=0.001, momentum=0.03, affine=True, track_running_stats=True)\n            (act): SiLU(inplace=True)\n          )\n          (conv2): BaseConv(\n            (conv): Conv2d(96, 96, kernel_size=(3, 3), stride=(1, 1), padding=(1, 1), bias=False)\n            (bn): BatchNorm2d(96, eps=0.001, momentum=0.03, affine=True, track_running_stats=True)\n            (act): SiLU(inplace=True)\n          )\n        )\n        (1): Bottleneck(\n          (conv1): BaseConv(\n            (conv): Conv2d(96, 96, kernel_size=(1, 1), stride=(1, 1), bias=False)\n            (bn): BatchNorm2d(96, eps=0.001, momentum=0.03, affine=True, track_running_stats=True)\n            (act): SiLU(inplace=True)\n          )\n          (conv2): BaseConv(\n            (conv): Conv2d(96, 96, kernel_size=(3, 3), stride=(1, 1), padding=(1, 1), bias=False)\n            (bn): BatchNorm2d(96, eps=0.001, momentum=0.03, affine=True, track_running_stats=True)\n            (act): SiLU(inplace=True)\n          )\n        )\n      )\n    )\n    (bu_conv2): BaseConv(\n      (conv): Conv2d(192, 192, kernel_size=(3, 3), stride=(2, 2), padding=(1, 1), bias=False)\n      (bn): BatchNorm2d(192, eps=0.001, momentum=0.03, affine=True, track_running_stats=True)\n      (act): SiLU(inplace=True)\n    )\n    (C3_n3): CSPLayer(\n      (conv1): BaseConv(\n        (conv): Conv2d(384, 192, kernel_size=(1, 1), stride=(1, 1), bias=False)\n        (bn): BatchNorm2d(192, eps=0.001, momentum=0.03, affine=True, track_running_stats=True)\n        (act): SiLU(inplace=True)\n      )\n      (conv2): BaseConv(\n        (conv): Conv2d(384, 192, kernel_size=(1, 1), stride=(1, 1), bias=False)\n        (bn): BatchNorm2d(192, eps=0.001, momentum=0.03, affine=True, track_running_stats=True)\n        (act): SiLU(inplace=True)\n      )\n      (conv3): BaseConv(\n        (conv): Conv2d(384, 384, kernel_size=(1, 1), stride=(1, 1), bias=False)\n        (bn): BatchNorm2d(384, eps=0.001, momentum=0.03, affine=True, track_running_stats=True)\n        (act): SiLU(inplace=True)\n      )\n      (m): Sequential(\n        (0): Bottleneck(\n          (conv1): BaseConv(\n            (conv): Conv2d(192, 192, kernel_size=(1, 1), stride=(1, 1), bias=False)\n            (bn): BatchNorm2d(192, eps=0.001, momentum=0.03, affine=True, track_running_stats=True)\n            (act): SiLU(inplace=True)\n          )\n          (conv2): BaseConv(\n            (conv): Conv2d(192, 192, kernel_size=(3, 3), stride=(1, 1), padding=(1, 1), bias=False)\n            (bn): BatchNorm2d(192, eps=0.001, momentum=0.03, affine=True, track_running_stats=True)\n            (act): SiLU(inplace=True)\n          )\n        )\n        (1): Bottleneck(\n          (conv1): BaseConv(\n            (conv): Conv2d(192, 192, kernel_size=(1, 1), stride=(1, 1), bias=False)\n            (bn): BatchNorm2d(192, eps=0.001, momentum=0.03, affine=True, track_running_stats=True)\n            (act): SiLU(inplace=True)\n          )\n          (conv2): BaseConv(\n            (conv): Conv2d(192, 192, kernel_size=(3, 3), stride=(1, 1), padding=(1, 1), bias=False)\n            (bn): BatchNorm2d(192, eps=0.001, momentum=0.03, affine=True, track_running_stats=True)\n            (act): SiLU(inplace=True)\n          )\n        )\n      )\n    )\n    (bu_conv1): BaseConv(\n      (conv): Conv2d(384, 384, kernel_size=(3, 3), stride=(2, 2), padding=(1, 1), bias=False)\n      (bn): BatchNorm2d(384, eps=0.001, momentum=0.03, affine=True, track_running_stats=True)\n      (act): SiLU(inplace=True)\n    )\n    (C3_n4): CSPLayer(\n      (conv1): BaseConv(\n        (conv): Conv2d(768, 384, kernel_size=(1, 1), stride=(1, 1), bias=False)\n        (bn): BatchNorm2d(384, eps=0.001, momentum=0.03, affine=True, track_running_stats=True)\n        (act): SiLU(inplace=True)\n      )\n      (conv2): BaseConv(\n        (conv): Conv2d(768, 384, kernel_size=(1, 1), stride=(1, 1), bias=False)\n        (bn): BatchNorm2d(384, eps=0.001, momentum=0.03, affine=True, track_running_stats=True)\n        (act): SiLU(inplace=True)\n      )\n      (conv3): BaseConv(\n        (conv): Conv2d(768, 768, kernel_size=(1, 1), stride=(1, 1), bias=False)\n        (bn): BatchNorm2d(768, eps=0.001, momentum=0.03, affine=True, track_running_stats=True)\n        (act): SiLU(inplace=True)\n      )\n      (m): Sequential(\n        (0): Bottleneck(\n          (conv1): BaseConv(\n            (conv): Conv2d(384, 384, kernel_size=(1, 1), stride=(1, 1), bias=False)\n            (bn): BatchNorm2d(384, eps=0.001, momentum=0.03, affine=True, track_running_stats=True)\n            (act): SiLU(inplace=True)\n          )\n          (conv2): BaseConv(\n            (conv): Conv2d(384, 384, kernel_size=(3, 3), stride=(1, 1), padding=(1, 1), bias=False)\n            (bn): BatchNorm2d(384, eps=0.001, momentum=0.03, affine=True, track_running_stats=True)\n            (act): SiLU(inplace=True)\n          )\n        )\n        (1): Bottleneck(\n          (conv1): BaseConv(\n            (conv): Conv2d(384, 384, kernel_size=(1, 1), stride=(1, 1), bias=False)\n            (bn): BatchNorm2d(384, eps=0.001, momentum=0.03, affine=True, track_running_stats=True)\n            (act): SiLU(inplace=True)\n          )\n          (conv2): BaseConv(\n            (conv): Conv2d(384, 384, kernel_size=(3, 3), stride=(1, 1), padding=(1, 1), bias=False)\n            (bn): BatchNorm2d(384, eps=0.001, momentum=0.03, affine=True, track_running_stats=True)\n            (act): SiLU(inplace=True)\n          )\n        )\n      )\n    )\n  )\n  (head): YOLOXHead(\n    (cls_convs): ModuleList(\n      (0-2): 3 x Sequential(\n        (0): BaseConv(\n          (conv): Conv2d(192, 192, kernel_size=(3, 3), stride=(1, 1), padding=(1, 1), bias=False)\n          (bn): BatchNorm2d(192, eps=0.001, momentum=0.03, affine=True, track_running_stats=True)\n          (act): SiLU(inplace=True)\n        )\n        (1): BaseConv(\n          (conv): Conv2d(192, 192, kernel_size=(3, 3), stride=(1, 1), padding=(1, 1), bias=False)\n          (bn): BatchNorm2d(192, eps=0.001, momentum=0.03, affine=True, track_running_stats=True)\n          (act): SiLU(inplace=True)\n        )\n      )\n    )\n    (reg_convs): ModuleList(\n      (0-2): 3 x Sequential(\n        (0): BaseConv(\n          (conv): Conv2d(192, 192, kernel_size=(3, 3), stride=(1, 1), padding=(1, 1), bias=False)\n          (bn): BatchNorm2d(192, eps=0.001, momentum=0.03, affine=True, track_running_stats=True)\n          (act): SiLU(inplace=True)\n        )\n        (1): BaseConv(\n          (conv): Conv2d(192, 192, kernel_size=(3, 3), stride=(1, 1), padding=(1, 1), bias=False)\n          (bn): BatchNorm2d(192, eps=0.001, momentum=0.03, affine=True, track_running_stats=True)\n          (act): SiLU(inplace=True)\n        )\n      )\n    )\n    (cls_preds): ModuleList(\n      (0-2): 3 x Conv2d(192, 1, kernel_size=(1, 1), stride=(1, 1))\n    )\n    (reg_preds): ModuleList(\n      (0-2): 3 x Conv2d(192, 4, kernel_size=(1, 1), stride=(1, 1))\n    )\n    (obj_preds): ModuleList(\n      (0-2): 3 x Conv2d(192, 1, kernel_size=(1, 1), stride=(1, 1))\n    )\n    (stems): ModuleList(\n      (0): BaseConv(\n        (conv): Conv2d(192, 192, kernel_size=(1, 1), stride=(1, 1), bias=False)\n        (bn): BatchNorm2d(192, eps=0.001, momentum=0.03, affine=True, track_running_stats=True)\n        (act): SiLU(inplace=True)\n      )\n      (1): BaseConv(\n        (conv): Conv2d(384, 192, kernel_size=(1, 1), stride=(1, 1), bias=False)\n        (bn): BatchNorm2d(192, eps=0.001, momentum=0.03, affine=True, track_running_stats=True)\n        (act): SiLU(inplace=True)\n      )\n      (2): BaseConv(\n        (conv): Conv2d(768, 192, kernel_size=(1, 1), stride=(1, 1), bias=False)\n        (bn): BatchNorm2d(192, eps=0.001, momentum=0.03, affine=True, track_running_stats=True)\n        (act): SiLU(inplace=True)\n      )\n    )\n    (l1_loss): L1Loss()\n    (bcewithlog_loss): BCEWithLogitsLoss()\n    (iou_loss): IOUloss()\n  )\n)\n2025-09-26 18:39:19 | INFO     | yolox.core.trainer:218 - ---> start train epoch1\n2025-09-26 18:39:19 | INFO     | yolox.core.trainer:221 - --->No mosaic aug now!\n2025-09-26 18:39:19 | INFO     | yolox.core.trainer:223 - --->Add additional L1 loss now!\n"
          ]
        },
        {
          "output_type": "stream",
          "name": "stderr",
          "text": [
            "2025-09-26 18:39:39 | INFO     | yolox.core.trainer:270 - epoch: 1/2, iter: 10/285, gpu mem: 6005Mb, mem: 38.4Gb, iter_time: 1.929s, data_time: 0.228s, total_loss: 20.3, iou_loss: 3.5, l1_loss: 2.2, conf_loss: 12.6, cls_loss: 2.0, lr: 3.078e-06, size: 640, ETA: 0:18:00\n"
          ]
        },
        {
          "output_type": "stream",
          "name": "stderr",
          "text": [
            "2025-09-26 18:39:58 | INFO     | yolox.core.trainer:270 - epoch: 1/2, iter: 20/285, gpu mem: 6005Mb, mem: 38.3Gb, iter_time: 1.941s, data_time: 0.298s, total_loss: 16.5, iou_loss: 3.3, l1_loss: 2.2, conf_loss: 8.8, cls_loss: 2.2, lr: 1.231e-05, size: 608, ETA: 0:17:44\n"
          ]
        },
        {
          "output_type": "stream",
          "name": "stderr",
          "text": [
            "2025-09-26 18:40:13 | INFO     | yolox.core.trainer:270 - epoch: 1/2, iter: 30/285, gpu mem: 6005Mb, mem: 38.5Gb, iter_time: 1.523s, data_time: 0.302s, total_loss: 13.1, iou_loss: 3.6, l1_loss: 2.3, conf_loss: 5.7, cls_loss: 1.5, lr: 2.770e-05, size: 512, ETA: 0:16:10\n"
          ]
        },
        {
          "output_type": "stream",
          "name": "stderr",
          "text": [
            "2025-09-26 18:40:20 | INFO     | yolox.core.trainer:270 - epoch: 1/2, iter: 40/285, gpu mem: 6005Mb, mem: 38.5Gb, iter_time: 0.631s, data_time: 0.419s, total_loss: 11.9, iou_loss: 3.6, l1_loss: 2.2, conf_loss: 5.1, cls_loss: 1.1, lr: 4.925e-05, size: 640, ETA: 0:13:18\n"
          ]
        },
        {
          "output_type": "stream",
          "name": "stderr",
          "text": [
            "2025-09-26 18:40:41 | INFO     | yolox.core.trainer:270 - epoch: 1/2, iter: 50/285, gpu mem: 9223Mb, mem: 38.3Gb, iter_time: 2.114s, data_time: 0.313s, total_loss: 11.0, iou_loss: 3.2, l1_loss: 2.0, conf_loss: 5.0, cls_loss: 0.8, lr: 7.695e-05, size: 800, ETA: 0:14:06\n"
          ]
        },
        {
          "output_type": "stream",
          "name": "stderr",
          "text": [
            "2025-09-26 18:40:48 | INFO     | yolox.core.trainer:270 - epoch: 1/2, iter: 60/285, gpu mem: 9223Mb, mem: 38.3Gb, iter_time: 0.707s, data_time: 0.392s, total_loss: 10.1, iou_loss: 2.9, l1_loss: 1.8, conf_loss: 4.7, cls_loss: 0.7, lr: 1.108e-04, size: 800, ETA: 0:12:31\n"
          ]
        },
        {
          "output_type": "stream",
          "name": "stderr",
          "text": [
            "2025-09-26 18:41:07 | INFO     | yolox.core.trainer:270 - epoch: 1/2, iter: 70/285, gpu mem: 9223Mb, mem: 38.4Gb, iter_time: 1.943s, data_time: 0.200s, total_loss: 10.5, iou_loss: 3.2, l1_loss: 1.7, conf_loss: 4.8, cls_loss: 0.7, lr: 1.508e-04, size: 768, ETA: 0:12:50\n"
          ]
        },
        {
          "output_type": "stream",
          "name": "stderr",
          "text": [
            "2025-09-26 18:41:27 | INFO     | yolox.core.trainer:270 - epoch: 1/2, iter: 80/285, gpu mem: 9223Mb, mem: 38.3Gb, iter_time: 1.946s, data_time: 0.220s, total_loss: 11.6, iou_loss: 3.7, l1_loss: 2.0, conf_loss: 5.2, cls_loss: 0.8, lr: 1.970e-04, size: 736, ETA: 0:12:59\n"
          ]
        },
        {
          "output_type": "stream",
          "name": "stderr",
          "text": [
            "2025-09-26 18:41:34 | INFO     | yolox.core.trainer:270 - epoch: 1/2, iter: 90/285, gpu mem: 9223Mb, mem: 38.3Gb, iter_time: 0.735s, data_time: 0.460s, total_loss: 10.7, iou_loss: 3.3, l1_loss: 1.8, conf_loss: 4.9, cls_loss: 0.8, lr: 2.493e-04, size: 736, ETA: 0:11:58\n"
          ]
        },
        {
          "output_type": "stream",
          "name": "stderr",
          "text": [
            "2025-09-26 18:41:41 | INFO     | yolox.core.trainer:270 - epoch: 1/2, iter: 100/285, gpu mem: 9223Mb, mem: 38.3Gb, iter_time: 0.698s, data_time: 0.535s, total_loss: 10.3, iou_loss: 3.3, l1_loss: 1.7, conf_loss: 4.7, cls_loss: 0.7, lr: 3.078e-04, size: 512, ETA: 0:11:05\n"
          ]
        },
        {
          "output_type": "stream",
          "name": "stderr",
          "text": [
            "2025-09-26 18:41:49 | INFO     | yolox.core.trainer:270 - epoch: 1/2, iter: 110/285, gpu mem: 9223Mb, mem: 38.4Gb, iter_time: 0.756s, data_time: 0.481s, total_loss: 11.5, iou_loss: 3.5, l1_loss: 1.9, conf_loss: 5.4, cls_loss: 0.7, lr: 3.724e-04, size: 736, ETA: 0:10:24\n"
          ]
        },
        {
          "output_type": "stream",
          "name": "stderr",
          "text": [
            "2025-09-26 18:42:09 | INFO     | yolox.core.trainer:270 - epoch: 1/2, iter: 120/285, gpu mem: 9223Mb, mem: 38.5Gb, iter_time: 1.992s, data_time: 0.305s, total_loss: 9.4, iou_loss: 3.2, l1_loss: 1.6, conf_loss: 3.9, cls_loss: 0.7, lr: 4.432e-04, size: 704, ETA: 0:10:34\n"
          ]
        },
        {
          "output_type": "stream",
          "name": "stderr",
          "text": [
            "2025-09-26 18:42:25 | INFO     | yolox.core.trainer:270 - epoch: 1/2, iter: 130/285, gpu mem: 9223Mb, mem: 38.4Gb, iter_time: 1.608s, data_time: 0.387s, total_loss: 11.2, iou_loss: 3.4, l1_loss: 1.6, conf_loss: 5.5, cls_loss: 0.7, lr: 5.202e-04, size: 480, ETA: 0:10:26\n"
          ]
        },
        {
          "output_type": "stream",
          "name": "stderr",
          "text": [
            "2025-09-26 18:42:32 | INFO     | yolox.core.trainer:270 - epoch: 1/2, iter: 140/285, gpu mem: 9223Mb, mem: 38.7Gb, iter_time: 0.693s, data_time: 0.377s, total_loss: 11.1, iou_loss: 3.6, l1_loss: 1.9, conf_loss: 4.9, cls_loss: 0.7, lr: 6.033e-04, size: 800, ETA: 0:09:50\n"
          ]
        },
        {
          "output_type": "stream",
          "name": "stderr",
          "text": [
            "2025-09-26 18:42:39 | INFO     | yolox.core.trainer:270 - epoch: 1/2, iter: 150/285, gpu mem: 9223Mb, mem: 38.8Gb, iter_time: 0.705s, data_time: 0.415s, total_loss: 9.7, iou_loss: 3.3, l1_loss: 1.7, conf_loss: 4.0, cls_loss: 0.7, lr: 6.925e-04, size: 768, ETA: 0:09:17\n"
          ]
        },
        {
          "output_type": "stream",
          "name": "stderr",
          "text": [
            "2025-09-26 18:42:59 | INFO     | yolox.core.trainer:270 - epoch: 1/2, iter: 160/285, gpu mem: 9223Mb, mem: 38.5Gb, iter_time: 2.006s, data_time: 0.257s, total_loss: 9.9, iou_loss: 3.2, l1_loss: 1.6, conf_loss: 4.3, cls_loss: 0.7, lr: 7.879e-04, size: 672, ETA: 0:09:21\n"
          ]
        },
        {
          "output_type": "stream",
          "name": "stderr",
          "text": [
            "2025-09-26 18:43:06 | INFO     | yolox.core.trainer:270 - epoch: 1/2, iter: 170/285, gpu mem: 9223Mb, mem: 38.5Gb, iter_time: 0.716s, data_time: 0.558s, total_loss: 9.9, iou_loss: 3.3, l1_loss: 1.5, conf_loss: 4.4, cls_loss: 0.7, lr: 8.895e-04, size: 512, ETA: 0:08:52\n"
          ]
        },
        {
          "output_type": "stream",
          "name": "stderr",
          "text": [
            "2025-09-26 18:43:13 | INFO     | yolox.core.trainer:270 - epoch: 1/2, iter: 180/285, gpu mem: 9223Mb, mem: 38.5Gb, iter_time: 0.678s, data_time: 0.465s, total_loss: 10.6, iou_loss: 3.3, l1_loss: 1.7, conf_loss: 4.9, cls_loss: 0.7, lr: 9.972e-04, size: 640, ETA: 0:08:25\n"
          ]
        },
        {
          "output_type": "stream",
          "name": "stderr",
          "text": [
            "2025-09-26 18:43:32 | INFO     | yolox.core.trainer:270 - epoch: 1/2, iter: 190/285, gpu mem: 9223Mb, mem: 38.5Gb, iter_time: 1.956s, data_time: 0.326s, total_loss: 9.6, iou_loss: 3.2, l1_loss: 1.5, conf_loss: 4.2, cls_loss: 0.7, lr: 1.111e-03, size: 576, ETA: 0:08:25\n"
          ]
        },
        {
          "output_type": "stream",
          "name": "stderr",
          "text": [
            "2025-09-26 18:43:39 | INFO     | yolox.core.trainer:270 - epoch: 1/2, iter: 200/285, gpu mem: 9223Mb, mem: 38.4Gb, iter_time: 0.705s, data_time: 0.415s, total_loss: 10.7, iou_loss: 3.5, l1_loss: 1.8, conf_loss: 4.6, cls_loss: 0.7, lr: 1.231e-03, size: 768, ETA: 0:08:00\n"
          ]
        },
        {
          "output_type": "stream",
          "name": "stderr",
          "text": [
            "2025-09-26 18:43:46 | INFO     | yolox.core.trainer:270 - epoch: 1/2, iter: 210/285, gpu mem: 9223Mb, mem: 38.6Gb, iter_time: 0.653s, data_time: 0.395s, total_loss: 9.8, iou_loss: 3.1, l1_loss: 1.6, conf_loss: 4.4, cls_loss: 0.7, lr: 1.357e-03, size: 704, ETA: 0:07:36\n"
          ]
        },
        {
          "output_type": "stream",
          "name": "stderr",
          "text": [
            "2025-09-26 18:43:53 | INFO     | yolox.core.trainer:270 - epoch: 1/2, iter: 220/285, gpu mem: 9223Mb, mem: 38.6Gb, iter_time: 0.684s, data_time: 0.497s, total_loss: 10.0, iou_loss: 3.2, l1_loss: 1.5, conf_loss: 4.7, cls_loss: 0.7, lr: 1.490e-03, size: 576, ETA: 0:07:14\n"
          ]
        },
        {
          "output_type": "stream",
          "name": "stderr",
          "text": [
            "2025-09-26 18:43:59 | INFO     | yolox.core.trainer:270 - epoch: 1/2, iter: 230/285, gpu mem: 9223Mb, mem: 38.5Gb, iter_time: 0.676s, data_time: 0.405s, total_loss: 9.5, iou_loss: 3.2, l1_loss: 1.6, conf_loss: 4.0, cls_loss: 0.7, lr: 1.628e-03, size: 736, ETA: 0:06:53\n"
          ]
        },
        {
          "output_type": "stream",
          "name": "stderr",
          "text": [
            "2025-09-26 18:44:06 | INFO     | yolox.core.trainer:270 - epoch: 1/2, iter: 240/285, gpu mem: 9223Mb, mem: 38.6Gb, iter_time: 0.704s, data_time: 0.465s, total_loss: 9.8, iou_loss: 3.1, l1_loss: 1.5, conf_loss: 4.5, cls_loss: 0.7, lr: 1.773e-03, size: 672, ETA: 0:06:34\n"
          ]
        },
        {
          "output_type": "stream",
          "name": "stderr",
          "text": [
            "2025-09-26 18:44:14 | INFO     | yolox.core.trainer:270 - epoch: 1/2, iter: 250/285, gpu mem: 9223Mb, mem: 38.6Gb, iter_time: 0.732s, data_time: 0.462s, total_loss: 11.0, iou_loss: 3.1, l1_loss: 1.7, conf_loss: 5.5, cls_loss: 0.7, lr: 1.924e-03, size: 736, ETA: 0:06:16\n"
          ]
        },
        {
          "output_type": "stream",
          "name": "stderr",
          "text": [
            "2025-09-26 18:44:21 | INFO     | yolox.core.trainer:270 - epoch: 1/2, iter: 260/285, gpu mem: 9223Mb, mem: 38.6Gb, iter_time: 0.710s, data_time: 0.504s, total_loss: 8.7, iou_loss: 3.1, l1_loss: 1.5, conf_loss: 3.4, cls_loss: 0.7, lr: 2.081e-03, size: 608, ETA: 0:05:59\n"
          ]
        },
        {
          "output_type": "stream",
          "name": "stderr",
          "text": [
            "2025-09-26 18:44:29 | INFO     | yolox.core.trainer:270 - epoch: 1/2, iter: 270/285, gpu mem: 9223Mb, mem: 38.6Gb, iter_time: 0.771s, data_time: 0.456s, total_loss: 10.3, iou_loss: 3.1, l1_loss: 1.7, conf_loss: 4.9, cls_loss: 0.7, lr: 2.244e-03, size: 800, ETA: 0:05:43\n"
          ]
        },
        {
          "output_type": "stream",
          "name": "stderr",
          "text": [
            "2025-09-26 18:44:35 | INFO     | yolox.core.trainer:270 - epoch: 1/2, iter: 280/285, gpu mem: 9223Mb, mem: 38.6Gb, iter_time: 0.655s, data_time: 0.431s, total_loss: 10.1, iou_loss: 3.3, l1_loss: 1.6, conf_loss: 4.5, cls_loss: 0.7, lr: 2.413e-03, size: 640, ETA: 0:05:26\n"
          ]
        },
        {
          "output_type": "stream",
          "name": "stderr",
          "text": [
            "2025-09-26 18:44:48 | INFO     | yolox.core.trainer:402 - Save weights to /var/lib/simon/agent_run_states/siim-covid19-detection-20250925-205912/yolox_outputs/yolox_m_fold_2\n"
          ]
        },
        {
          "output_type": "stream",
          "name": "stdout",
          "text": [
            "/var/lib/simon/agent_run_states/siim-covid19-detection-20250925-205912/YOLOX/yolox/core/trainer.py:106: FutureWarning: `torch.cuda.amp.autocast(args...)` is deprecated. Please use `torch.amp.autocast('cuda', args...)` instead.\n  with torch.cuda.amp.autocast(enabled=self.amp_training):\n/var/lib/simon/agent_run_states/siim-covid19-detection-20250925-205912/YOLOX/yolox/models/yolo_head.py:474: FutureWarning: `torch.cuda.amp.autocast(args...)` is deprecated. Please use `torch.amp.autocast('cuda', args...)` instead.\n  with torch.cuda.amp.autocast(enabled=False):\n\r  0%|          | 0/72 [00:00<?, ?it/s]"
          ]
        },
        {
          "output_type": "stream",
          "name": "stdout",
          "text": [
            "\r  1%|1         | 1/72 [00:04<05:42,  4.83s/it]\r  3%|2         | 2/72 [00:04<02:23,  2.05s/it]"
          ]
        },
        {
          "output_type": "stream",
          "name": "stdout",
          "text": [
            "\r  4%|4         | 3/72 [00:05<01:20,  1.17s/it]"
          ]
        },
        {
          "output_type": "stream",
          "name": "stdout",
          "text": [
            "\r  6%|5         | 4/72 [00:05<00:54,  1.25it/s]\r  7%|6         | 5/72 [00:05<00:37,  1.81it/s]"
          ]
        },
        {
          "output_type": "stream",
          "name": "stdout",
          "text": [
            "\r  8%|8         | 6/72 [00:06<00:42,  1.54it/s]\r 10%|9         | 7/72 [00:06<00:31,  2.06it/s]"
          ]
        },
        {
          "output_type": "stream",
          "name": "stdout",
          "text": [
            "\r 11%|#1        | 8/72 [00:07<00:46,  1.39it/s]\r 12%|#2        | 9/72 [00:07<00:33,  1.89it/s]"
          ]
        },
        {
          "output_type": "stream",
          "name": "stdout",
          "text": [
            "\r 14%|#3        | 10/72 [00:08<00:46,  1.33it/s]\r 15%|#5        | 11/72 [00:09<00:33,  1.80it/s]"
          ]
        },
        {
          "output_type": "stream",
          "name": "stdout",
          "text": [
            "\r 17%|#6        | 12/72 [00:10<00:49,  1.22it/s]\r 18%|#8        | 13/72 [00:10<00:37,  1.59it/s]"
          ]
        },
        {
          "output_type": "stream",
          "name": "stdout",
          "text": [
            "\r 19%|#9        | 14/72 [00:11<00:43,  1.33it/s]"
          ]
        },
        {
          "output_type": "stream",
          "name": "stdout",
          "text": [
            "\r 21%|##        | 15/72 [00:12<00:37,  1.52it/s]"
          ]
        },
        {
          "output_type": "stream",
          "name": "stdout",
          "text": [
            "\r 22%|##2       | 16/72 [00:12<00:39,  1.42it/s]"
          ]
        },
        {
          "output_type": "stream",
          "name": "stdout",
          "text": [
            "\r 24%|##3       | 17/72 [00:13<00:36,  1.49it/s]"
          ]
        },
        {
          "output_type": "stream",
          "name": "stdout",
          "text": [
            "\r 25%|##5       | 18/72 [00:14<00:37,  1.43it/s]"
          ]
        },
        {
          "output_type": "stream",
          "name": "stdout",
          "text": [
            "\r 26%|##6       | 19/72 [00:15<00:40,  1.32it/s]"
          ]
        },
        {
          "output_type": "stream",
          "name": "stdout",
          "text": [
            "\r 28%|##7       | 20/72 [00:15<00:34,  1.50it/s]"
          ]
        },
        {
          "output_type": "stream",
          "name": "stdout",
          "text": [
            "\r 29%|##9       | 21/72 [00:16<00:36,  1.38it/s]"
          ]
        },
        {
          "output_type": "stream",
          "name": "stdout",
          "text": [
            "\r 31%|###       | 22/72 [00:17<00:35,  1.41it/s]"
          ]
        },
        {
          "output_type": "stream",
          "name": "stdout",
          "text": [
            "\r 32%|###1      | 23/72 [00:17<00:34,  1.41it/s]"
          ]
        },
        {
          "output_type": "stream",
          "name": "stdout",
          "text": [
            "\r 33%|###3      | 24/72 [00:18<00:34,  1.39it/s]"
          ]
        },
        {
          "output_type": "stream",
          "name": "stdout",
          "text": [
            "\r 35%|###4      | 25/72 [00:19<00:32,  1.44it/s]"
          ]
        },
        {
          "output_type": "stream",
          "name": "stdout",
          "text": [
            "\r 36%|###6      | 26/72 [00:19<00:31,  1.47it/s]"
          ]
        },
        {
          "output_type": "stream",
          "name": "stdout",
          "text": [
            "\r 38%|###7      | 27/72 [00:21<00:35,  1.26it/s]"
          ]
        },
        {
          "output_type": "stream",
          "name": "stdout",
          "text": [
            "\r 39%|###8      | 28/72 [00:21<00:29,  1.47it/s]"
          ]
        },
        {
          "output_type": "stream",
          "name": "stdout",
          "text": [
            "\r 40%|####      | 29/72 [00:22<00:32,  1.31it/s]"
          ]
        },
        {
          "output_type": "stream",
          "name": "stdout",
          "text": [
            "\r 42%|####1     | 30/72 [00:22<00:27,  1.53it/s]"
          ]
        },
        {
          "output_type": "stream",
          "name": "stdout",
          "text": [
            "\r 43%|####3     | 31/72 [00:23<00:28,  1.42it/s]"
          ]
        },
        {
          "output_type": "stream",
          "name": "stdout",
          "text": [
            "\r 44%|####4     | 32/72 [00:24<00:24,  1.63it/s]"
          ]
        },
        {
          "output_type": "stream",
          "name": "stdout",
          "text": [
            "\r 46%|####5     | 33/72 [00:24<00:25,  1.54it/s]"
          ]
        },
        {
          "output_type": "stream",
          "name": "stdout",
          "text": [
            "\r 47%|####7     | 34/72 [00:25<00:26,  1.45it/s]"
          ]
        },
        {
          "output_type": "stream",
          "name": "stdout",
          "text": [
            "\r 49%|####8     | 35/72 [00:26<00:26,  1.37it/s]"
          ]
        },
        {
          "output_type": "stream",
          "name": "stdout",
          "text": [
            "\r 50%|#####     | 36/72 [00:26<00:24,  1.47it/s]"
          ]
        },
        {
          "output_type": "stream",
          "name": "stdout",
          "text": [
            "\r 51%|#####1    | 37/72 [00:27<00:27,  1.27it/s]\r 53%|#####2    | 38/72 [00:28<00:20,  1.69it/s]"
          ]
        },
        {
          "output_type": "stream",
          "name": "stdout",
          "text": [
            "\r 54%|#####4    | 39/72 [00:29<00:26,  1.24it/s]\r 56%|#####5    | 40/72 [00:29<00:19,  1.66it/s]"
          ]
        },
        {
          "output_type": "stream",
          "name": "stdout",
          "text": [
            "\r 57%|#####6    | 41/72 [00:30<00:24,  1.25it/s]\r 58%|#####8    | 42/72 [00:30<00:17,  1.68it/s]"
          ]
        },
        {
          "output_type": "stream",
          "name": "stdout",
          "text": [
            "\r 60%|#####9    | 43/72 [00:32<00:24,  1.17it/s]\r 61%|######1   | 44/72 [00:32<00:17,  1.59it/s]"
          ]
        },
        {
          "output_type": "stream",
          "name": "stdout",
          "text": [
            "\r 62%|######2   | 45/72 [00:33<00:23,  1.16it/s]\r 64%|######3   | 46/72 [00:33<00:16,  1.58it/s]"
          ]
        },
        {
          "output_type": "stream",
          "name": "stdout",
          "text": [
            "\r 65%|######5   | 47/72 [00:35<00:20,  1.24it/s]\r 67%|######6   | 48/72 [00:35<00:14,  1.67it/s]"
          ]
        },
        {
          "output_type": "stream",
          "name": "stdout",
          "text": [
            "\r 68%|######8   | 49/72 [00:36<00:16,  1.42it/s]"
          ]
        },
        {
          "output_type": "stream",
          "name": "stdout",
          "text": [
            "\r 69%|######9   | 50/72 [00:36<00:12,  1.77it/s]"
          ]
        },
        {
          "output_type": "stream",
          "name": "stdout",
          "text": [
            "\r 71%|#######   | 51/72 [00:37<00:15,  1.32it/s]\r 72%|#######2  | 52/72 [00:37<00:11,  1.78it/s]"
          ]
        },
        {
          "output_type": "stream",
          "name": "stdout",
          "text": [
            "\r 74%|#######3  | 53/72 [00:39<00:14,  1.30it/s]\r 75%|#######5  | 54/72 [00:39<00:10,  1.75it/s]"
          ]
        },
        {
          "output_type": "stream",
          "name": "stdout",
          "text": [
            "\r 76%|#######6  | 55/72 [00:40<00:13,  1.23it/s]\r 78%|#######7  | 56/72 [00:40<00:09,  1.66it/s]"
          ]
        },
        {
          "output_type": "stream",
          "name": "stdout",
          "text": [
            "\r 79%|#######9  | 57/72 [00:42<00:12,  1.20it/s]\r 81%|########  | 58/72 [00:42<00:08,  1.63it/s]"
          ]
        },
        {
          "output_type": "stream",
          "name": "stdout",
          "text": [
            "\r 82%|########1 | 59/72 [00:43<00:10,  1.22it/s]\r 83%|########3 | 60/72 [00:43<00:07,  1.65it/s]"
          ]
        },
        {
          "output_type": "stream",
          "name": "stdout",
          "text": [
            "\r 85%|########4 | 61/72 [00:44<00:08,  1.31it/s]\r 86%|########6 | 62/72 [00:44<00:05,  1.77it/s]"
          ]
        },
        {
          "output_type": "stream",
          "name": "stdout",
          "text": [
            "\r 88%|########7 | 63/72 [00:46<00:07,  1.28it/s]\r 89%|########8 | 64/72 [00:46<00:04,  1.73it/s]"
          ]
        },
        {
          "output_type": "stream",
          "name": "stdout",
          "text": [
            "\r 90%|######### | 65/72 [00:47<00:05,  1.23it/s]\r 92%|#########1| 66/72 [00:47<00:03,  1.66it/s]"
          ]
        },
        {
          "output_type": "stream",
          "name": "stdout",
          "text": [
            "\r 93%|#########3| 67/72 [00:49<00:04,  1.19it/s]\r 94%|#########4| 68/72 [00:49<00:02,  1.61it/s]"
          ]
        },
        {
          "output_type": "stream",
          "name": "stdout",
          "text": [
            "\r 96%|#########5| 69/72 [00:50<00:02,  1.13it/s]\r 97%|#########7| 70/72 [00:50<00:01,  1.53it/s]"
          ]
        },
        {
          "output_type": "stream",
          "name": "stdout",
          "text": [
            "\r 99%|#########8| 71/72 [00:51<00:00,  1.28it/s]"
          ]
        },
        {
          "output_type": "stream",
          "name": "stdout",
          "text": [
            "\r100%|##########| 72/72 [00:54<00:00,  1.40s/it]\r100%|##########| 72/72 [00:54<00:00,  1.32it/s]"
          ]
        },
        {
          "output_type": "stream",
          "name": "stderr",
          "text": [
            "2025-09-26 18:45:42 | INFO     | yolox.evaluators.coco_evaluator:259 - Evaluate in main process...\n"
          ]
        },
        {
          "output_type": "stream",
          "name": "stderr",
          "text": [
            "2025-09-26 18:45:43 | INFO     | yolox.evaluators.coco_evaluator:292 - Loading and preparing results...\n"
          ]
        },
        {
          "output_type": "stream",
          "name": "stderr",
          "text": [
            "2025-09-26 18:45:43 | INFO     | yolox.evaluators.coco_evaluator:292 - DONE (t=0.31s)\n2025-09-26 18:45:43 | INFO     | pycocotools.coco:379 - creating index...\n2025-09-26 18:45:43 | INFO     | pycocotools.coco:379 - index created!\n2025-09-26 18:45:43 | INFO     | yolox.evaluators.coco_evaluator:301 - Running per image evaluation...\n2025-09-26 18:45:43 | INFO     | yolox.evaluators.coco_evaluator:301 - Evaluate annotation type *bbox*\n"
          ]
        },
        {
          "output_type": "stream",
          "name": "stderr",
          "text": [
            "2025-09-26 18:45:44 | INFO     | yolox.evaluators.coco_evaluator:301 - DONE (t=1.04s).\n2025-09-26 18:45:44 | INFO     | yolox.evaluators.coco_evaluator:302 - Accumulating evaluation results...\n2025-09-26 18:45:44 | INFO     | yolox.evaluators.coco_evaluator:302 - DONE (t=0.15s).\n2025-09-26 18:45:44 | INFO     | yolox.core.trainer:381 - \nAverage forward time: 8.65 ms, Average NMS time: 0.47 ms, Average inference time: 9.12 ms\n Average Precision  (AP) @[ IoU=0.50:0.95 | area=   all | maxDets=100 ] = 0.007\n Average Precision  (AP) @[ IoU=0.50      | area=   all | maxDets=100 ] = 0.034\n Average Precision  (AP) @[ IoU=0.75      | area=   all | maxDets=100 ] = 0.001\n Average Precision  (AP) @[ IoU=0.50:0.95 | area= small | maxDets=100 ] = -1.000\n Average Precision  (AP) @[ IoU=0.50:0.95 | area=medium | maxDets=100 ] = -1.000\n Average Precision  (AP) @[ IoU=0.50:0.95 | area= large | maxDets=100 ] = 0.007\n Average Recall     (AR) @[ IoU=0.50:0.95 | area=   all | maxDets=  1 ] = 0.019\n Average Recall     (AR) @[ IoU=0.50:0.95 | area=   all | maxDets= 10 ] = 0.091\n Average Recall     (AR) @[ IoU=0.50:0.95 | area=   all | maxDets=100 ] = 0.165\n Average Recall     (AR) @[ IoU=0.50:0.95 | area= small | maxDets=100 ] = -1.000\n Average Recall     (AR) @[ IoU=0.50:0.95 | area=medium | maxDets=100 ] = -1.000\n Average Recall     (AR) @[ IoU=0.50:0.95 | area= large | maxDets=100 ] = 0.165\nper class AP:\n| class   | AP    |\n|:--------|:------|\n| opacity | 0.660 |\nper class AR:\n| class   | AR     |\n|:--------|:-------|\n| opacity | 16.467 |\n\n2025-09-26 18:45:44 | INFO     | yolox.core.trainer:402 - Save weights to /var/lib/simon/agent_run_states/siim-covid19-detection-20250925-205912/yolox_outputs/yolox_m_fold_2\n"
          ]
        },
        {
          "output_type": "stream",
          "name": "stderr",
          "text": [
            "2025-09-26 18:45:45 | INFO     | yolox.core.trainer:402 - Save weights to /var/lib/simon/agent_run_states/siim-covid19-detection-20250925-205912/yolox_outputs/yolox_m_fold_2\n"
          ]
        },
        {
          "output_type": "stream",
          "name": "stderr",
          "text": [
            "2025-09-26 18:45:45 | INFO     | yolox.core.trainer:218 - ---> start train epoch2\n2025-09-26 18:45:45 | INFO     | yolox.core.trainer:221 - --->No mosaic aug now!\n2025-09-26 18:45:45 | INFO     | yolox.core.trainer:223 - --->Add additional L1 loss now!\n"
          ]
        },
        {
          "output_type": "stream",
          "name": "stderr",
          "text": [
            "2025-09-26 18:45:50 | INFO     | yolox.core.trainer:270 - epoch: 2/2, iter: 10/285, gpu mem: 11174Mb, mem: 39.4Gb, iter_time: 0.493s, data_time: 0.262s, total_loss: 11.7, iou_loss: 3.7, l1_loss: 1.8, conf_loss: 5.6, cls_loss: 0.7, lr: 1.250e-04, size: 768, ETA: 0:05:10\n"
          ]
        },
        {
          "output_type": "stream",
          "name": "stderr",
          "text": [
            "2025-09-26 18:45:57 | INFO     | yolox.core.trainer:270 - epoch: 2/2, iter: 20/285, gpu mem: 11174Mb, mem: 39.5Gb, iter_time: 0.684s, data_time: 0.439s, total_loss: 8.9, iou_loss: 3.2, l1_loss: 1.4, conf_loss: 3.6, cls_loss: 0.7, lr: 1.250e-04, size: 576, ETA: 0:04:55\n"
          ]
        },
        {
          "output_type": "stream",
          "name": "stderr",
          "text": [
            "2025-09-26 18:46:04 | INFO     | yolox.core.trainer:270 - epoch: 2/2, iter: 30/285, gpu mem: 11174Mb, mem: 39.5Gb, iter_time: 0.762s, data_time: 0.535s, total_loss: 9.7, iou_loss: 3.5, l1_loss: 1.7, conf_loss: 3.8, cls_loss: 0.7, lr: 1.250e-04, size: 736, ETA: 0:04:41\n"
          ]
        },
        {
          "output_type": "stream",
          "name": "stderr",
          "text": [
            "2025-09-26 18:46:11 | INFO     | yolox.core.trainer:270 - epoch: 2/2, iter: 40/285, gpu mem: 11174Mb, mem: 39.5Gb, iter_time: 0.706s, data_time: 0.463s, total_loss: 9.2, iou_loss: 3.2, l1_loss: 1.6, conf_loss: 3.6, cls_loss: 0.7, lr: 1.250e-04, size: 608, ETA: 0:04:27\n"
          ]
        },
        {
          "output_type": "stream",
          "name": "stderr",
          "text": [
            "2025-09-26 18:46:18 | INFO     | yolox.core.trainer:270 - epoch: 2/2, iter: 50/285, gpu mem: 11174Mb, mem: 39.5Gb, iter_time: 0.702s, data_time: 0.503s, total_loss: 9.8, iou_loss: 3.2, l1_loss: 1.6, conf_loss: 4.4, cls_loss: 0.7, lr: 1.250e-04, size: 608, ETA: 0:04:13\n"
          ]
        },
        {
          "output_type": "stream",
          "name": "stderr",
          "text": [
            "2025-09-26 18:46:25 | INFO     | yolox.core.trainer:270 - epoch: 2/2, iter: 60/285, gpu mem: 11174Mb, mem: 39.4Gb, iter_time: 0.706s, data_time: 0.463s, total_loss: 9.7, iou_loss: 3.3, l1_loss: 1.6, conf_loss: 4.1, cls_loss: 0.7, lr: 1.250e-04, size: 768, ETA: 0:04:00\n"
          ]
        },
        {
          "output_type": "stream",
          "name": "stderr",
          "text": [
            "2025-09-26 18:46:32 | INFO     | yolox.core.trainer:270 - epoch: 2/2, iter: 70/285, gpu mem: 11174Mb, mem: 39.3Gb, iter_time: 0.684s, data_time: 0.416s, total_loss: 10.2, iou_loss: 3.6, l1_loss: 1.8, conf_loss: 4.1, cls_loss: 0.7, lr: 1.250e-04, size: 672, ETA: 0:03:47\n"
          ]
        },
        {
          "output_type": "stream",
          "name": "stderr",
          "text": [
            "2025-09-26 18:46:39 | INFO     | yolox.core.trainer:270 - epoch: 2/2, iter: 80/285, gpu mem: 11174Mb, mem: 39.2Gb, iter_time: 0.681s, data_time: 0.478s, total_loss: 10.6, iou_loss: 3.6, l1_loss: 1.9, conf_loss: 4.4, cls_loss: 0.8, lr: 1.250e-04, size: 512, ETA: 0:03:34\n"
          ]
        },
        {
          "output_type": "stream",
          "name": "stderr",
          "text": [
            "2025-09-26 18:46:47 | INFO     | yolox.core.trainer:270 - epoch: 2/2, iter: 90/285, gpu mem: 11174Mb, mem: 39.1Gb, iter_time: 0.767s, data_time: 0.619s, total_loss: 9.3, iou_loss: 3.1, l1_loss: 1.4, conf_loss: 4.0, cls_loss: 0.7, lr: 1.250e-04, size: 480, ETA: 0:03:22\n"
          ]
        },
        {
          "output_type": "stream",
          "name": "stderr",
          "text": [
            "2025-09-26 18:46:54 | INFO     | yolox.core.trainer:270 - epoch: 2/2, iter: 100/285, gpu mem: 11174Mb, mem: 39.1Gb, iter_time: 0.717s, data_time: 0.519s, total_loss: 10.3, iou_loss: 3.5, l1_loss: 1.6, conf_loss: 4.5, cls_loss: 0.7, lr: 1.250e-04, size: 704, ETA: 0:03:10\n"
          ]
        },
        {
          "output_type": "stream",
          "name": "stderr",
          "text": [
            "2025-09-26 18:47:01 | INFO     | yolox.core.trainer:270 - epoch: 2/2, iter: 110/285, gpu mem: 11174Mb, mem: 39.2Gb, iter_time: 0.684s, data_time: 0.414s, total_loss: 11.1, iou_loss: 3.7, l1_loss: 2.0, conf_loss: 4.7, cls_loss: 0.7, lr: 1.250e-04, size: 768, ETA: 0:02:58\n"
          ]
        },
        {
          "output_type": "stream",
          "name": "stderr",
          "text": [
            "2025-09-26 18:47:08 | INFO     | yolox.core.trainer:270 - epoch: 2/2, iter: 120/285, gpu mem: 11174Mb, mem: 39.4Gb, iter_time: 0.686s, data_time: 0.447s, total_loss: 9.8, iou_loss: 3.5, l1_loss: 1.7, conf_loss: 3.9, cls_loss: 0.7, lr: 1.250e-04, size: 544, ETA: 0:02:47\n"
          ]
        },
        {
          "output_type": "stream",
          "name": "stderr",
          "text": [
            "2025-09-26 18:47:14 | INFO     | yolox.core.trainer:270 - epoch: 2/2, iter: 130/285, gpu mem: 11174Mb, mem: 39.5Gb, iter_time: 0.657s, data_time: 0.472s, total_loss: 10.0, iou_loss: 3.3, l1_loss: 1.6, conf_loss: 4.5, cls_loss: 0.7, lr: 1.250e-04, size: 608, ETA: 0:02:35\n"
          ]
        },
        {
          "output_type": "stream",
          "name": "stderr",
          "text": [
            "2025-09-26 18:47:21 | INFO     | yolox.core.trainer:270 - epoch: 2/2, iter: 140/285, gpu mem: 11174Mb, mem: 39.5Gb, iter_time: 0.722s, data_time: 0.503s, total_loss: 9.9, iou_loss: 3.3, l1_loss: 1.6, conf_loss: 4.3, cls_loss: 0.7, lr: 1.250e-04, size: 672, ETA: 0:02:24\n"
          ]
        },
        {
          "output_type": "stream",
          "name": "stderr",
          "text": [
            "2025-09-26 18:47:28 | INFO     | yolox.core.trainer:270 - epoch: 2/2, iter: 150/285, gpu mem: 11174Mb, mem: 39.3Gb, iter_time: 0.672s, data_time: 0.452s, total_loss: 9.3, iou_loss: 3.3, l1_loss: 1.6, conf_loss: 3.8, cls_loss: 0.7, lr: 1.250e-04, size: 608, ETA: 0:02:13\n"
          ]
        },
        {
          "output_type": "stream",
          "name": "stderr",
          "text": [
            "2025-09-26 18:47:35 | INFO     | yolox.core.trainer:270 - epoch: 2/2, iter: 160/285, gpu mem: 11174Mb, mem: 39.3Gb, iter_time: 0.697s, data_time: 0.481s, total_loss: 9.1, iou_loss: 3.4, l1_loss: 1.6, conf_loss: 3.5, cls_loss: 0.7, lr: 1.250e-04, size: 672, ETA: 0:02:03\n"
          ]
        },
        {
          "output_type": "stream",
          "name": "stderr",
          "text": [
            "2025-09-26 18:47:42 | INFO     | yolox.core.trainer:270 - epoch: 2/2, iter: 170/285, gpu mem: 11174Mb, mem: 39.4Gb, iter_time: 0.711s, data_time: 0.468s, total_loss: 9.9, iou_loss: 3.5, l1_loss: 1.7, conf_loss: 4.0, cls_loss: 0.7, lr: 1.250e-04, size: 704, ETA: 0:01:52\n"
          ]
        },
        {
          "output_type": "stream",
          "name": "stderr",
          "text": [
            "2025-09-26 18:47:49 | INFO     | yolox.core.trainer:270 - epoch: 2/2, iter: 180/285, gpu mem: 11174Mb, mem: 39.3Gb, iter_time: 0.683s, data_time: 0.465s, total_loss: 9.9, iou_loss: 3.3, l1_loss: 1.7, conf_loss: 4.2, cls_loss: 0.7, lr: 1.250e-04, size: 544, ETA: 0:01:42\n"
          ]
        },
        {
          "output_type": "stream",
          "name": "stderr",
          "text": [
            "2025-09-26 18:47:57 | INFO     | yolox.core.trainer:270 - epoch: 2/2, iter: 190/285, gpu mem: 11174Mb, mem: 39.4Gb, iter_time: 0.754s, data_time: 0.581s, total_loss: 9.6, iou_loss: 3.2, l1_loss: 1.5, conf_loss: 4.3, cls_loss: 0.7, lr: 1.250e-04, size: 576, ETA: 0:01:31\n"
          ]
        },
        {
          "output_type": "stream",
          "name": "stderr",
          "text": [
            "2025-09-26 18:48:04 | INFO     | yolox.core.trainer:270 - epoch: 2/2, iter: 200/285, gpu mem: 11174Mb, mem: 39.4Gb, iter_time: 0.754s, data_time: 0.575s, total_loss: 9.5, iou_loss: 3.3, l1_loss: 1.7, conf_loss: 3.8, cls_loss: 0.7, lr: 1.250e-04, size: 576, ETA: 0:01:21\n"
          ]
        },
        {
          "output_type": "stream",
          "name": "stderr",
          "text": [
            "2025-09-26 18:48:11 | INFO     | yolox.core.trainer:270 - epoch: 2/2, iter: 210/285, gpu mem: 11174Mb, mem: 39.3Gb, iter_time: 0.697s, data_time: 0.511s, total_loss: 10.4, iou_loss: 3.6, l1_loss: 1.8, conf_loss: 4.3, cls_loss: 0.7, lr: 1.250e-04, size: 608, ETA: 0:01:11\n"
          ]
        },
        {
          "output_type": "stream",
          "name": "stderr",
          "text": [
            "2025-09-26 18:48:18 | INFO     | yolox.core.trainer:270 - epoch: 2/2, iter: 220/285, gpu mem: 11174Mb, mem: 39.3Gb, iter_time: 0.725s, data_time: 0.526s, total_loss: 9.7, iou_loss: 3.5, l1_loss: 1.7, conf_loss: 3.9, cls_loss: 0.7, lr: 1.250e-04, size: 608, ETA: 0:01:01\n"
          ]
        },
        {
          "output_type": "stream",
          "name": "stderr",
          "text": [
            "2025-09-26 18:48:26 | INFO     | yolox.core.trainer:270 - epoch: 2/2, iter: 230/285, gpu mem: 11174Mb, mem: 39.2Gb, iter_time: 0.719s, data_time: 0.545s, total_loss: 9.6, iou_loss: 3.2, l1_loss: 1.5, conf_loss: 4.3, cls_loss: 0.7, lr: 1.250e-04, size: 480, ETA: 0:00:52\n"
          ]
        },
        {
          "output_type": "stream",
          "name": "stderr",
          "text": [
            "2025-09-26 18:48:33 | INFO     | yolox.core.trainer:270 - epoch: 2/2, iter: 240/285, gpu mem: 11174Mb, mem: 39.1Gb, iter_time: 0.726s, data_time: 0.571s, total_loss: 9.5, iou_loss: 3.2, l1_loss: 1.5, conf_loss: 4.1, cls_loss: 0.7, lr: 1.250e-04, size: 544, ETA: 0:00:42\n"
          ]
        },
        {
          "output_type": "stream",
          "name": "stderr",
          "text": [
            "2025-09-26 18:48:40 | INFO     | yolox.core.trainer:270 - epoch: 2/2, iter: 250/285, gpu mem: 11174Mb, mem: 39.0Gb, iter_time: 0.742s, data_time: 0.567s, total_loss: 9.6, iou_loss: 3.3, l1_loss: 1.6, conf_loss: 4.0, cls_loss: 0.7, lr: 1.250e-04, size: 576, ETA: 0:00:32\n"
          ]
        },
        {
          "output_type": "stream",
          "name": "stderr",
          "text": [
            "2025-09-26 18:48:47 | INFO     | yolox.core.trainer:270 - epoch: 2/2, iter: 260/285, gpu mem: 11174Mb, mem: 39.0Gb, iter_time: 0.703s, data_time: 0.507s, total_loss: 9.3, iou_loss: 3.3, l1_loss: 1.5, conf_loss: 3.9, cls_loss: 0.7, lr: 1.250e-04, size: 640, ETA: 0:00:23\n"
          ]
        },
        {
          "output_type": "stream",
          "name": "stderr",
          "text": [
            "2025-09-26 18:48:54 | INFO     | yolox.core.trainer:270 - epoch: 2/2, iter: 270/285, gpu mem: 11174Mb, mem: 39.2Gb, iter_time: 0.703s, data_time: 0.453s, total_loss: 9.7, iou_loss: 3.5, l1_loss: 1.6, conf_loss: 4.0, cls_loss: 0.7, lr: 1.250e-04, size: 768, ETA: 0:00:13\n"
          ]
        },
        {
          "output_type": "stream",
          "name": "stderr",
          "text": [
            "2025-09-26 18:49:01 | INFO     | yolox.core.trainer:270 - epoch: 2/2, iter: 280/285, gpu mem: 11174Mb, mem: 39.2Gb, iter_time: 0.707s, data_time: 0.474s, total_loss: 11.0, iou_loss: 3.3, l1_loss: 1.6, conf_loss: 5.5, cls_loss: 0.7, lr: 1.250e-04, size: 512, ETA: 0:00:04\n"
          ]
        },
        {
          "output_type": "stream",
          "name": "stderr",
          "text": [
            "2025-09-26 18:49:05 | INFO     | yolox.core.trainer:402 - Save weights to /var/lib/simon/agent_run_states/siim-covid19-detection-20250925-205912/yolox_outputs/yolox_m_fold_2\n"
          ]
        },
        {
          "output_type": "stream",
          "name": "stdout",
          "text": [
            "\n/var/lib/simon/agent_run_states/siim-covid19-detection-20250925-205912/YOLOX/yolox/evaluators/coco_evaluator.py:189: UserWarning: The torch.cuda.*DtypeTensor constructors are no longer recommended. It's best to use methods such as torch.tensor(data, dtype=*, device='cuda') to create tensors. (Triggered internally at /pytorch/torch/csrc/tensor/python_tensor.cpp:78.)\n  statistics = torch.cuda.FloatTensor([inference_time, nms_time, n_samples])\n\r  0%|          | 0/72 [00:00<?, ?it/s]"
          ]
        },
        {
          "output_type": "stream",
          "name": "stdout",
          "text": [
            "\r  1%|1         | 1/72 [00:01<01:35,  1.34s/it]\r  3%|2         | 2/72 [00:01<00:45,  1.53it/s]"
          ]
        },
        {
          "output_type": "stream",
          "name": "stdout",
          "text": [
            "\r  4%|4         | 3/72 [00:02<00:59,  1.15it/s]\r  6%|5         | 4/72 [00:02<00:38,  1.76it/s]"
          ]
        },
        {
          "output_type": "stream",
          "name": "stdout",
          "text": [
            "\r  7%|6         | 5/72 [00:03<00:54,  1.23it/s]\r  8%|8         | 6/72 [00:04<00:37,  1.74it/s]"
          ]
        },
        {
          "output_type": "stream",
          "name": "stdout",
          "text": [
            "\r 10%|9         | 7/72 [00:05<00:50,  1.28it/s]\r 11%|#1        | 8/72 [00:05<00:36,  1.76it/s]"
          ]
        },
        {
          "output_type": "stream",
          "name": "stdout",
          "text": [
            "\r 12%|#2        | 9/72 [00:06<00:47,  1.33it/s]\r 14%|#3        | 10/72 [00:06<00:34,  1.80it/s]"
          ]
        },
        {
          "output_type": "stream",
          "name": "stdout",
          "text": [
            "\r 15%|#5        | 11/72 [00:07<00:47,  1.28it/s]\r 17%|#6        | 12/72 [00:08<00:35,  1.69it/s]"
          ]
        },
        {
          "output_type": "stream",
          "name": "stdout",
          "text": [
            "\r 18%|#8        | 13/72 [00:09<00:51,  1.15it/s]\r 19%|#9        | 14/72 [00:09<00:37,  1.56it/s]"
          ]
        },
        {
          "output_type": "stream",
          "name": "stdout",
          "text": [
            "\r 21%|##        | 15/72 [00:11<00:49,  1.16it/s]\r 22%|##2       | 16/72 [00:11<00:35,  1.57it/s]"
          ]
        },
        {
          "output_type": "stream",
          "name": "stdout",
          "text": [
            "\r 24%|##3       | 17/72 [00:12<00:45,  1.20it/s]\r 25%|##5       | 18/72 [00:12<00:33,  1.63it/s]"
          ]
        },
        {
          "output_type": "stream",
          "name": "stdout",
          "text": [
            "\r 26%|##6       | 19/72 [00:14<00:47,  1.11it/s]\r 28%|##7       | 20/72 [00:14<00:34,  1.51it/s]"
          ]
        },
        {
          "output_type": "stream",
          "name": "stdout",
          "text": [
            "\r 29%|##9       | 21/72 [00:15<00:42,  1.21it/s]\r 31%|###       | 22/72 [00:15<00:30,  1.64it/s]"
          ]
        },
        {
          "output_type": "stream",
          "name": "stdout",
          "text": [
            "\r 32%|###1      | 23/72 [00:16<00:39,  1.23it/s]\r 33%|###3      | 24/72 [00:17<00:28,  1.66it/s]"
          ]
        },
        {
          "output_type": "stream",
          "name": "stdout",
          "text": [
            "\r 35%|###4      | 25/72 [00:18<00:38,  1.23it/s]\r 36%|###6      | 26/72 [00:18<00:27,  1.67it/s]"
          ]
        },
        {
          "output_type": "stream",
          "name": "stdout",
          "text": [
            "\r 38%|###7      | 27/72 [00:20<00:40,  1.11it/s]\r 39%|###8      | 28/72 [00:20<00:29,  1.51it/s]"
          ]
        },
        {
          "output_type": "stream",
          "name": "stdout",
          "text": [
            "\r 40%|####      | 29/72 [00:21<00:36,  1.18it/s]\r 42%|####1     | 30/72 [00:21<00:26,  1.60it/s]"
          ]
        },
        {
          "output_type": "stream",
          "name": "stdout",
          "text": [
            "\r 43%|####3     | 31/72 [00:22<00:31,  1.30it/s]\r 44%|####4     | 32/72 [00:22<00:22,  1.76it/s]"
          ]
        },
        {
          "output_type": "stream",
          "name": "stdout",
          "text": [
            "\r 46%|####5     | 33/72 [00:23<00:27,  1.41it/s]\r 47%|####7     | 34/72 [00:23<00:20,  1.90it/s]"
          ]
        },
        {
          "output_type": "stream",
          "name": "stdout",
          "text": [
            "\r 49%|####8     | 35/72 [00:25<00:30,  1.22it/s]\r 50%|#####     | 36/72 [00:25<00:21,  1.65it/s]"
          ]
        },
        {
          "output_type": "stream",
          "name": "stdout",
          "text": [
            "\r 51%|#####1    | 37/72 [00:26<00:30,  1.15it/s]\r 53%|#####2    | 38/72 [00:27<00:21,  1.56it/s]"
          ]
        },
        {
          "output_type": "stream",
          "name": "stdout",
          "text": [
            "\r 54%|#####4    | 39/72 [00:28<00:28,  1.16it/s]\r 56%|#####5    | 40/72 [00:28<00:20,  1.58it/s]"
          ]
        },
        {
          "output_type": "stream",
          "name": "stdout",
          "text": [
            "\r 57%|#####6    | 41/72 [00:29<00:25,  1.21it/s]\r 58%|#####8    | 42/72 [00:29<00:18,  1.63it/s]"
          ]
        },
        {
          "output_type": "stream",
          "name": "stdout",
          "text": [
            "\r 60%|#####9    | 43/72 [00:31<00:25,  1.15it/s]\r 61%|######1   | 44/72 [00:31<00:17,  1.56it/s]"
          ]
        },
        {
          "output_type": "stream",
          "name": "stdout",
          "text": [
            "\r 62%|######2   | 45/72 [00:32<00:23,  1.14it/s]\r 64%|######3   | 46/72 [00:33<00:16,  1.55it/s]"
          ]
        },
        {
          "output_type": "stream",
          "name": "stdout",
          "text": [
            "\r 65%|######5   | 47/72 [00:34<00:20,  1.23it/s]\r 67%|######6   | 48/72 [00:34<00:14,  1.66it/s]"
          ]
        },
        {
          "output_type": "stream",
          "name": "stdout",
          "text": [
            "\r 68%|######8   | 49/72 [00:35<00:16,  1.41it/s]\r 69%|######9   | 50/72 [00:35<00:11,  1.89it/s]"
          ]
        },
        {
          "output_type": "stream",
          "name": "stdout",
          "text": [
            "\r 71%|#######   | 51/72 [00:36<00:16,  1.24it/s]\r 72%|#######2  | 52/72 [00:37<00:11,  1.67it/s]"
          ]
        },
        {
          "output_type": "stream",
          "name": "stdout",
          "text": [
            "\r 74%|#######3  | 53/72 [00:38<00:14,  1.33it/s]\r 75%|#######5  | 54/72 [00:38<00:10,  1.79it/s]"
          ]
        },
        {
          "output_type": "stream",
          "name": "stdout",
          "text": [
            "\r 76%|#######6  | 55/72 [00:39<00:13,  1.23it/s]\r 78%|#######7  | 56/72 [00:39<00:09,  1.67it/s]"
          ]
        },
        {
          "output_type": "stream",
          "name": "stdout",
          "text": [
            "\r 79%|#######9  | 57/72 [00:41<00:12,  1.21it/s]\r 81%|########  | 58/72 [00:41<00:08,  1.63it/s]"
          ]
        },
        {
          "output_type": "stream",
          "name": "stdout",
          "text": [
            "\r 82%|########1 | 59/72 [00:42<00:10,  1.22it/s]\r 83%|########3 | 60/72 [00:42<00:07,  1.65it/s]"
          ]
        },
        {
          "output_type": "stream",
          "name": "stdout",
          "text": [
            "\r 85%|########4 | 61/72 [00:43<00:08,  1.32it/s]\r 86%|########6 | 62/72 [00:43<00:05,  1.77it/s]"
          ]
        },
        {
          "output_type": "stream",
          "name": "stdout",
          "text": [
            "\r 88%|########7 | 63/72 [00:45<00:07,  1.27it/s]\r 89%|########8 | 64/72 [00:45<00:04,  1.72it/s]"
          ]
        },
        {
          "output_type": "stream",
          "name": "stdout",
          "text": [
            "\r 90%|######### | 65/72 [00:46<00:05,  1.23it/s]\r 92%|#########1| 66/72 [00:46<00:03,  1.66it/s]"
          ]
        },
        {
          "output_type": "stream",
          "name": "stdout",
          "text": [
            "\r 93%|#########3| 67/72 [00:48<00:04,  1.18it/s]\r 94%|#########4| 68/72 [00:48<00:02,  1.59it/s]"
          ]
        },
        {
          "output_type": "stream",
          "name": "stdout",
          "text": [
            "\r 96%|#########5| 69/72 [00:49<00:02,  1.12it/s]\r 97%|#########7| 70/72 [00:49<00:01,  1.53it/s]"
          ]
        },
        {
          "output_type": "stream",
          "name": "stdout",
          "text": [
            "\r 99%|#########8| 71/72 [00:50<00:00,  1.27it/s]\r100%|##########| 72/72 [00:51<00:00,  1.41it/s]"
          ]
        },
        {
          "output_type": "stream",
          "name": "stderr",
          "text": [
            "2025-09-26 18:49:57 | INFO     | yolox.evaluators.coco_evaluator:259 - Evaluate in main process...\n2025-09-26 18:49:57 | INFO     | yolox.evaluators.coco_evaluator:292 - Loading and preparing results...\n"
          ]
        },
        {
          "output_type": "stream",
          "name": "stderr",
          "text": [
            "2025-09-26 18:49:57 | INFO     | yolox.evaluators.coco_evaluator:292 - DONE (t=0.16s)\n2025-09-26 18:49:57 | INFO     | pycocotools.coco:379 - creating index...\n2025-09-26 18:49:57 | INFO     | pycocotools.coco:379 - index created!\n2025-09-26 18:49:57 | INFO     | yolox.evaluators.coco_evaluator:301 - Running per image evaluation...\n2025-09-26 18:49:57 | INFO     | yolox.evaluators.coco_evaluator:301 - Evaluate annotation type *bbox*\n"
          ]
        },
        {
          "output_type": "stream",
          "name": "stderr",
          "text": [
            "2025-09-26 18:49:58 | INFO     | yolox.evaluators.coco_evaluator:301 - DONE (t=0.62s).\n2025-09-26 18:49:58 | INFO     | yolox.evaluators.coco_evaluator:302 - Accumulating evaluation results...\n2025-09-26 18:49:58 | INFO     | yolox.evaluators.coco_evaluator:302 - DONE (t=0.10s).\n2025-09-26 18:49:58 | INFO     | yolox.core.trainer:381 - \nAverage forward time: 5.74 ms, Average NMS time: 0.48 ms, Average inference time: 6.21 ms\n Average Precision  (AP) @[ IoU=0.50:0.95 | area=   all | maxDets=100 ] = 0.024\n Average Precision  (AP) @[ IoU=0.50      | area=   all | maxDets=100 ] = 0.088\n Average Precision  (AP) @[ IoU=0.75      | area=   all | maxDets=100 ] = 0.011\n Average Precision  (AP) @[ IoU=0.50:0.95 | area= small | maxDets=100 ] = -1.000\n Average Precision  (AP) @[ IoU=0.50:0.95 | area=medium | maxDets=100 ] = -1.000\n Average Precision  (AP) @[ IoU=0.50:0.95 | area= large | maxDets=100 ] = 0.024\n Average Recall     (AR) @[ IoU=0.50:0.95 | area=   all | maxDets=  1 ] = 0.038\n Average Recall     (AR) @[ IoU=0.50:0.95 | area=   all | maxDets= 10 ] = 0.152\n Average Recall     (AR) @[ IoU=0.50:0.95 | area=   all | maxDets=100 ] = 0.211\n Average Recall     (AR) @[ IoU=0.50:0.95 | area= small | maxDets=100 ] = -1.000\n Average Recall     (AR) @[ IoU=0.50:0.95 | area=medium | maxDets=100 ] = -1.000\n Average Recall     (AR) @[ IoU=0.50:0.95 | area= large | maxDets=100 ] = 0.211\nper class AP:\n| class   | AP    |\n|:--------|:------|\n| opacity | 2.360 |\nper class AR:\n| class   | AR     |\n|:--------|:-------|\n| opacity | 21.097 |\n\n2025-09-26 18:49:58 | INFO     | yolox.core.trainer:402 - Save weights to /var/lib/simon/agent_run_states/siim-covid19-detection-20250925-205912/yolox_outputs/yolox_m_fold_2\n"
          ]
        },
        {
          "output_type": "stream",
          "name": "stderr",
          "text": [
            "2025-09-26 18:49:58 | INFO     | yolox.core.trainer:402 - Save weights to /var/lib/simon/agent_run_states/siim-covid19-detection-20250925-205912/yolox_outputs/yolox_m_fold_2\n"
          ]
        },
        {
          "output_type": "stream",
          "name": "stderr",
          "text": [
            "2025-09-26 18:49:59 | INFO     | yolox.core.trainer:200 - Training of experiment is done and the best AP is 2.36\n"
          ]
        },
        {
          "output_type": "stream",
          "name": "stdout",
          "text": [
            "\n"
          ]
        },
        {
          "output_type": "stream",
          "name": "stdout",
          "text": [
            "/var/lib/simon/agent_run_states/siim-covid19-detection-20250925-205912\nFINISHED YOLOX TRAINING FOR FOLD 2\n\n==================================================\nSTARTING YOLOX TRAINING FOR FOLD 3\n==================================================\nDynamically modified YOLOX/exps/siim_yolox_config.py for fold 3 with exp_name: yolox_m_fold_3\n/var/lib/simon/agent_run_states/siim-covid19-detection-20250925-205912/YOLOX\n"
          ]
        },
        {
          "output_type": "stream",
          "name": "stderr",
          "text": [
            "/var/lib/simon/agent_run_states/siim-covid19-detection-20250925-205912/YOLOX/yolox/core/trainer.py:47: FutureWarning: `torch.cuda.amp.GradScaler(args...)` is deprecated. Please use `torch.amp.GradScaler('cuda', args...)` instead.\n  self.scaler = torch.cuda.amp.GradScaler(enabled=args.fp16)\n2025-09-26 18:50:01 | INFO     | yolox.core.trainer:132 - args: Namespace(experiment_name='yolox_m_fold_3', name=None, dist_backend='nccl', dist_url=None, batch_size=16, devices=1, exp_file='exps/siim_yolox_config.py', resume=False, ckpt='weights/yolox_m.pth', start_epoch=None, num_machines=1, machine_rank=0, fp16=True, cache=None, occupy=False, logger='tensorboard', opts=[])\n2025-09-26 18:50:01 | INFO     | yolox.core.trainer:133 - exp value:\n\u2552\u2550\u2550\u2550\u2550\u2550\u2550\u2550\u2550\u2550\u2550\u2550\u2550\u2550\u2550\u2550\u2550\u2550\u2550\u2550\u2564\u2550\u2550\u2550\u2550\u2550\u2550\u2550\u2550\u2550\u2550\u2550\u2550\u2550\u2550\u2550\u2550\u2550\u2550\u2550\u2550\u2550\u2550\u2550\u2550\u2550\u2550\u2550\u2550\u2550\u2550\u2550\u2550\u2550\u2550\u2550\u2550\u2550\u2550\u2550\u2550\u2550\u2550\u2550\u2550\u2550\u2550\u2550\u2550\u2550\u2550\u2550\u2550\u2550\u2550\u2550\u2550\u2550\u2550\u2550\u2550\u2550\u2550\u2550\u2550\u2550\u2550\u2550\u2550\u2550\u2550\u2550\u2550\u2550\u2550\u2550\u2550\u2550\u2550\u2550\u2550\u2550\u2550\u2550\u2550\u2550\u2550\u2550\u2550\u2555\n\u2502 keys              \u2502 values                                                                                 \u2502\n\u255e\u2550\u2550\u2550\u2550\u2550\u2550\u2550\u2550\u2550\u2550\u2550\u2550\u2550\u2550\u2550\u2550\u2550\u2550\u2550\u256a\u2550\u2550\u2550\u2550\u2550\u2550\u2550\u2550\u2550\u2550\u2550\u2550\u2550\u2550\u2550\u2550\u2550\u2550\u2550\u2550\u2550\u2550\u2550\u2550\u2550\u2550\u2550\u2550\u2550\u2550\u2550\u2550\u2550\u2550\u2550\u2550\u2550\u2550\u2550\u2550\u2550\u2550\u2550\u2550\u2550\u2550\u2550\u2550\u2550\u2550\u2550\u2550\u2550\u2550\u2550\u2550\u2550\u2550\u2550\u2550\u2550\u2550\u2550\u2550\u2550\u2550\u2550\u2550\u2550\u2550\u2550\u2550\u2550\u2550\u2550\u2550\u2550\u2550\u2550\u2550\u2550\u2550\u2550\u2550\u2550\u2550\u2550\u2550\u2561\n\u2502 seed              \u2502 None                                                                                   \u2502\n\u251c\u2500\u2500\u2500\u2500\u2500\u2500\u2500\u2500\u2500\u2500\ufffd\ufffd\u2500\u2500\u2500\u2500\u2500\u2500\u2500\u2500\u253c\u2500\u2500\u2500\u2500\u2500\u2500\u2500\u2500\u2500\u2500\u2500\u2500\u2500\u2500\u2500\u2500\u2500\u2500\u2500\u2500\u2500\u2500\u2500\u2500\u2500\u2500\u2500\u2500\u2500\u2500\u2500\u2500\u2500\u2500\u2500\u2500\u2500\u2500\u2500\u2500\u2500\u2500\u2500\u2500\u2500\u2500\u2500\u2500\u2500\u2500\u2500\u2500\u2500\u2500\u2500\u2500\u2500\u2500\u2500\u2500\u2500\u2500\u2500\u2500\u2500\u2500\u2500\u2500\u2500\u2500\u2500\u2500\u2500\u2500\u2500\u2500\u2500\u2500\u2500\u2500\u2500\u2500\u2500\u2500\u2500\u2500\u2500\u2500\u2524\n\u2502 output_dir        \u2502 '/var/lib/simon/agent_run_states/siim-covid19-detection-20250925-205912/yolox_outputs' \u2502\n\u251c\u2500\u2500\u2500\u2500\u2500\u2500\u2500\u2500\u2500\u2500\u2500\u2500\u2500\u2500\u2500\u2500\u2500\u2500\u2500\u253c\u2500\u2500\u2500\u2500\u2500\u2500\u2500\u2500\u2500\u2500\u2500\u2500\u2500\u2500\u2500\u2500\u2500\u2500\u2500\u2500\u2500\u2500\u2500\u2500\u2500\u2500\u2500\u2500\u2500\u2500\u2500\u2500\u2500\u2500\u2500\u2500\u2500\u2500\u2500\u2500\u2500\u2500\u2500\u2500\u2500\u2500\u2500\u2500\u2500\u2500\u2500\u2500\u2500\u2500\u2500\u2500\u2500\u2500\u2500\u2500\u2500\u2500\u2500\u2500\u2500\u2500\u2500\u2500\u2500\u2500\u2500\u2500\u2500\u2500\u2500\u2500\u2500\u2500\u2500\u2500\u2500\u2500\u2500\u2500\u2500\u2500\u2500\u2500\u2524\n\u2502 print_interval    \u2502 10                                                                                     \u2502\n\u251c\u2500\u2500\u2500\u2500\u2500\u2500\u2500\u2500\u2500\u2500\u2500\u2500\u2500\u2500\u2500\u2500\u2500\u2500\u2500\u253c\u2500\u2500\u2500\u2500\u2500\u2500\u2500\u2500\u2500\u2500\u2500\u2500\u2500\u2500\u2500\u2500\u2500\u2500\u2500\u2500\u2500\u2500\u2500\u2500\u2500\ufffd\ufffd\ufffd\u2500\u2500\u2500\u2500\u2500\u2500\u2500\u2500\u2500\u2500\u2500\u2500\u2500\u2500\u2500\u2500\u2500\u2500\u2500\u2500\u2500\u2500\u2500\u2500\u2500\u2500\u2500\u2500\u2500\u2500\u2500\u2500\u2500\u2500\u2500\u2500\u2500\u2500\u2500\u2500\u2500\u2500\u2500\u2500\u2500\u2500\u2500\u2500\u2500\u2500\u2500\u2500\u2500\u2500\u2500\u2500\u2500\u2500\u2500\u2500\u2500\u2500\u2524\n\u2502 eval_interval     \u2502 1                                                                                      \u2502\n\u251c\u2500\u2500\u2500\u2500\u2500\u2500\u2500\u2500\u2500\u2500\u2500\u2500\u2500\u2500\u2500\u2500\u2500\u2500\u2500\u253c\u2500\u2500\u2500\u2500\u2500\u2500\u2500\u2500\u2500\u2500\u2500\u2500\u2500\u2500\u2500\u2500\u2500\u2500\u2500\u2500\u2500\u2500\u2500\u2500\u2500\u2500\u2500\u2500\u2500\u2500\u2500\u2500\u2500\u2500\u2500\u2500\u2500\u2500\u2500\u2500\u2500\u2500\u2500\u2500\u2500\u2500\u2500\u2500\u2500\u2500\u2500\u2500\u2500\u2500\u2500\u2500\u2500\u2500\u2500\u2500\u2500\u2500\u2500\u2500\u2500\u2500\u2500\u2500\u2500\u2500\u2500\u2500\u2500\u2500\u2500\u2500\u2500\u2500\u2500\u2500\u2500\u2500\u2500\u2500\u2500\u2500\u2500\u2500\u2524\n\u2502 dataset           \u2502 None                                                                                   \u2502\n\u251c\u2500\u2500\u2500\u2500\u2500\u2500\u2500\u2500\u2500\u2500\u2500\u2500\u2500\u2500\u2500\u2500\u2500\u2500\u2500\u253c\u2500\u2500\u2500\u2500\u2500\u2500\u2500\u2500\u2500\u2500\u2500\u2500\u2500\u2500\u2500\u2500\u2500\u2500\u2500\u2500\u2500\u2500\u2500\u2500\u2500\u2500\u2500\u2500\u2500\u2500\u2500\u2500\u2500\u2500\u2500\u2500\u2500\u2500\u2500\u2500\u2500\u2500\u2500\u2500\u2500\u2500\u2500\u2500\u2500\u2500\u2500\u2500\u2500\u2500\u2500\u2500\u2500\u2500\u2500\u2500\u2500\u2500\u2500\u2500\u2500\u2500\u2500\u2500\u2500\u2500\u2500\u2500\u2500\u2500\u2500\u2500\u2500\u2500\u2500\u2500\u2500\u2500\u2500\u2500\u2500\u2500\u2500\u2500\u2524\n\u2502 num_classes       \u2502 1                                                                                      \u2502\n\u251c\u2500\u2500\u2500\u2500\u2500\u2500\u2500\u2500\u2500\u2500\u2500\u2500\u2500\u2500\u2500\u2500\u2500\u2500\u2500\u253c\u2500\u2500\u2500\u2500\u2500\u2500\u2500\u2500\u2500\u2500\u2500\u2500\u2500\u2500\u2500\u2500\u2500\u2500\u2500\u2500\u2500\u2500\u2500\u2500\u2500\u2500\u2500\u2500\u2500\u2500\u2500\u2500\u2500\u2500\u2500\u2500\u2500\u2500\u2500\u2500\u2500\u2500\u2500\u2500\u2500\u2500\u2500\u2500\u2500\u2500\u2500\u2500\u2500\u2500\u2500\u2500\u2500\u2500\u2500\u2500\u2500\u2500\u2500\u2500\u2500\u2500\u2500\u2500\u2500\u2500\u2500\u2500\u2500\u2500\u2500\u2500\u2500\u2500\u2500\u2500\u2500\u2500\u2500\u2500\u2500\u2500\u2500\u2500\u2524\n\u2502 depth             \u2502 0.67                                                                                   \u2502\n\u251c\u2500\u2500\u2500\u2500\u2500\u2500\u2500\u2500\u2500\u2500\u2500\u2500\u2500\u2500\u2500\u2500\u2500\u2500\u2500\u253c\u2500\u2500\u2500\u2500\u2500\u2500\u2500\u2500\u2500\u2500\u2500\u2500\u2500\u2500\u2500\u2500\u2500\u2500\u2500\u2500\u2500\u2500\u2500\u2500\u2500\u2500\u2500\u2500\u2500\u2500\u2500\u2500\u2500\u2500\u2500\u2500\u2500\u2500\u2500\u2500\u2500\u2500\u2500\u2500\u2500\u2500\u2500\u2500\u2500\u2500\u2500\u2500\u2500\u2500\u2500\u2500\u2500\u2500\u2500\u2500\u2500\u2500\u2500\u2500\u2500\u2500\u2500\u2500\u2500\u2500\u2500\u2500\u2500\u2500\u2500\u2500\u2500\u2500\u2500\u2500\u2500\u2500\u2500\u2500\u2500\u2500\u2500\u2500\u2524\n\u2502 width             \u2502 0.75                                                                                   \u2502\n\u251c\u2500\u2500\u2500\u2500\u2500\u2500\u2500\u2500\u2500\u2500\u2500\u2500\u2500\u2500\u2500\u2500\u2500\u2500\u2500\u253c\u2500\u2500\u2500\u2500\u2500\u2500\u2500\u2500\u2500\u2500\u2500\u2500\u2500\u2500\u2500\u2500\u2500\u2500\u2500\u2500\u2500\u2500\u2500\u2500\u2500\u2500\u2500\u2500\u2500\u2500\u2500\u2500\u2500\u2500\u2500\u2500\u2500\u2500\u2500\u2500\u2500\u2500\u2500\u2500\u2500\u2500\u2500\u2500\u2500\u2500\u2500\u2500\u2500\u2500\u2500\u2500\u2500\u2500\u2500\u2500\u2500\u2500\u2500\u2500\u2500\u2500\u2500\u2500\u2500\u2500\u2500\u2500\u2500\u2500\u2500\u2500\u2500\u2500\u2500\u2500\u2500\u2500\u2500\u2500\u2500\u2500\u2500\u2500\u2524\n\u2502 act               \u2502 'silu'                                                                                 \u2502\n\u251c\u2500\u2500\u2500\u2500\u2500\u2500\u2500\u2500\u2500\u2500\u2500\u2500\u2500\u2500\u2500\u2500\u2500\u2500\u2500\u253c\u2500\u2500\u2500\u2500\u2500\u2500\u2500\u2500\u2500\u2500\u2500\u2500\u2500\u2500\u2500\u2500\u2500\u2500\u2500\u2500\u2500\u2500\u2500\u2500\u2500\u2500\u2500\u2500\u2500\u2500\u2500\u2500\u2500\u2500\u2500\u2500\u2500\u2500\u2500\u2500\u2500\u2500\u2500\u2500\u2500\u2500\u2500\u2500\u2500\u2500\u2500\u2500\u2500\u2500\u2500\u2500\u2500\u2500\u2500\u2500\u2500\u2500\u2500\u2500\u2500\u2500\u2500\u2500\u2500\u2500\u2500\u2500\u2500\u2500\u2500\u2500\u2500\u2500\u2500\u2500\u2500\u2500\u2500\u2500\u2500\u2500\u2500\u2500\u2524\n\u2502 data_num_workers  \u2502 2                                                                                      \u2502\n\u251c\u2500\u2500\u2500\u2500\u2500\u2500\u2500\u2500\u2500\u2500\u2500\u2500\u2500\u2500\u2500\u2500\u2500\u2500\u2500\u253c\u2500\u2500\u2500\u2500\u2500\u2500\u2500\u2500\u2500\u2500\u2500\u2500\u2500\u2500\u2500\u2500\u2500\u2500\u2500\u2500\u2500\u2500\u2500\u2500\u2500\u2500\u2500\u2500\u2500\u2500\u2500\u2500\u2500\u2500\u2500\u2500\u2500\u2500\u2500\u2500\u2500\u2500\u2500\u2500\u2500\u2500\u2500\u2500\u2500\u2500\u2500\u2500\u2500\u2500\u2500\u2500\u2500\u2500\u2500\u2500\u2500\u2500\u2500\u2500\u2500\u2500\u2500\u2500\u2500\u2500\u2500\u2500\u2500\u2500\u2500\u2500\u2500\u2500\u2500\u2500\u2500\u2500\u2500\u2500\u2500\u2500\u2500\u2500\u2524\n\u2502 input_size        \u2502 (640, 640)                                                                             \u2502\n\u251c\u2500\u2500\u2500\u2500\u2500\u2500\u2500\u2500\u2500\u2500\u2500\u2500\u2500\u2500\u2500\u2500\u2500\u2500\u2500\u253c\u2500\u2500\u2500\u2500\u2500\u2500\u2500\u2500\u2500\u2500\u2500\u2500\u2500\u2500\u2500\u2500\u2500\u2500\u2500\u2500\u2500\u2500\u2500\u2500\u2500\u2500\u2500\u2500\u2500\u2500\u2500\u2500\u2500\u2500\u2500\u2500\u2500\u2500\u2500\u2500\u2500\u2500\u2500\u2500\u2500\u2500\u2500\u2500\u2500\u2500\u2500\u2500\u2500\u2500\u2500\u2500\u2500\u2500\u2500\u2500\u2500\u2500\u2500\u2500\u2500\u2500\u2500\u2500\u2500\u2500\u2500\u2500\u2500\u2500\u2500\u2500\u2500\u2500\u2500\u2500\u2500\u2500\u2500\u2500\u2500\u2500\u2500\u2500\u2524\n\u2502 multiscale_range  \u2502 5                                                                                      \u2502\n\u251c\u2500\u2500\u2500\u2500\u2500\u2500\u2500\u2500\u2500\u2500\u2500\u2500\u2500\u2500\u2500\u2500\u2500\u2500\u2500\u253c\u2500\u2500\u2500\u2500\u2500\u2500\u2500\u2500\u2500\u2500\u2500\u2500\u2500\u2500\ufffd\ufffd\u2500\u2500\u2500\u2500\u2500\u2500\u2500\u2500\u2500\u2500\u2500\u2500\u2500\u2500\u2500\u2500\u2500\u2500\u2500\u2500\u2500\u2500\u2500\u2500\u2500\u2500\u2500\u2500\u2500\u2500\u2500\u2500\u2500\u2500\u2500\u2500\u2500\u2500\u2500\u2500\u2500\u2500\u2500\u2500\u2500\u2500\u2500\u2500\u2500\u2500\u2500\u2500\u2500\u2500\u2500\u2500\u2500\u2500\u2500\u2500\u2500\u2500\u2500\u2500\u2500\u2500\u2500\u2500\u2500\u2500\u2500\u2500\u2500\u2524\n\u2502 data_dir          \u2502 '/var/lib/simon/agent_run_states/siim-covid19-detection-20250925-205912/yolox_data'    \u2502\n\u251c\u2500\u2500\u2500\u2500\u2500\u2500\u2500\u2500\u2500\u2500\u2500\u2500\u2500\u2500\u2500\u2500\u2500\u2500\u2500\u253c\u2500\u2500\u2500\u2500\u2500\u2500\u2500\u2500\u2500\u2500\u2500\u2500\u2500\u2500\u2500\u2500\u2500\u2500\u2500\u2500\u2500\u2500\u2500\u2500\u2500\u2500\u2500\u2500\u2500\u2500\u2500\u2500\u2500\u2500\u2500\u2500\u2500\u2500\u2500\u2500\u2500\u2500\u2500\u2500\u2500\u2500\u2500\u2500\u2500\u2500\u2500\u2500\u2500\u2500\u2500\u2500\u2500\u2500\u2500\u2500\u2500\u2500\u2500\u2500\u2500\u2500\u2500\u2500\u2500\u2500\u2500\u2500\u2500\u2500\u2500\u2500\u2500\u2500\u2500\u2500\u2500\u2500\u2500\u2500\u2500\u2500\u2500\u2500\u2524\n\u2502 train_ann         \u2502 'instances_fold3_train.json'                                                           \u2502\n\u251c\u2500\u2500\u2500\u2500\u2500\u2500\u2500\u2500\u2500\u2500\u2500\u2500\u2500\u2500\u2500\u2500\u2500\u2500\u2500\u253c\u2500\u2500\u2500\u2500\u2500\u2500\u2500\u2500\u2500\u2500\u2500\u2500\u2500\u2500\u2500\u2500\u2500\u2500\u2500\u2500\u2500\u2500\u2500\u2500\u2500\u2500\u2500\u2500\u2500\u2500\u2500\u2500\u2500\u2500\u2500\u2500\u2500\u2500\u2500\u2500\u2500\u2500\u2500\u2500\u2500\u2500\u2500\u2500\u2500\ufffd\ufffd\ufffd\u2500\u2500\u2500\u2500\u2500\u2500\u2500\u2500\u2500\u2500\u2500\u2500\u2500\u2500\u2500\u2500\u2500\u2500\u2500\u2500\u2500\u2500\u2500\u2500\u2500\u2500\u2500\u2500\u2500\u2500\u2500\u2500\u2500\u2500\u2500\u2500\u2500\u2500\u2524\n\u2502 val_ann           \u2502 'instances_fold3_val.json'                                                             \u2502\n\u251c\u2500\u2500\u2500\u2500\u2500\u2500\u2500\u2500\u2500\u2500\u2500\u2500\u2500\u2500\u2500\u2500\u2500\u2500\u2500\u253c\u2500\u2500\u2500\u2500\u2500\u2500\u2500\u2500\u2500\u2500\u2500\u2500\u2500\u2500\u2500\u2500\u2500\u2500\u2500\u2500\u2500\u2500\u2500\u2500\u2500\u2500\u2500\u2500\u2500\u2500\u2500\u2500\u2500\u2500\u2500\u2500\u2500\u2500\u2500\u2500\u2500\u2500\u2500\u2500\u2500\u2500\u2500\u2500\u2500\u2500\u2500\u2500\u2500\u2500\u2500\u2500\u2500\u2500\u2500\u2500\u2500\u2500\u2500\u2500\u2500\u2500\u2500\u2500\u2500\u2500\u2500\u2500\u2500\u2500\u2500\u2500\u2500\u2500\u2500\u2500\u2500\u2500\u2500\u2500\u2500\u2500\u2500\u2500\u2524\n\u2502 test_ann          \u2502 'instances_fold0_val.json'                                                             \u2502\n\u251c\u2500\u2500\u2500\u2500\u2500\u2500\u2500\u2500\u2500\u2500\u2500\u2500\u2500\u2500\u2500\u2500\u2500\u2500\u2500\u253c\u2500\u2500\u2500\u2500\u2500\u2500\u2500\u2500\u2500\u2500\u2500\u2500\u2500\u2500\u2500\u2500\u2500\u2500\u2500\u2500\u2500\u2500\u2500\u2500\u2500\u2500\u2500\u2500\u2500\u2500\u2500\u2500\u2500\u2500\u2500\u2500\u2500\u2500\u2500\u2500\u2500\u2500\u2500\u2500\u2500\u2500\u2500\u2500\u2500\u2500\u2500\u2500\u2500\u2500\u2500\u2500\u2500\u2500\u2500\u2500\u2500\u2500\u2500\u2500\u2500\u2500\u2500\u2500\u2500\u2500\u2500\u2500\u2500\u2500\u2500\u2500\u2500\u2500\u2500\u2500\u2500\u2500\u2500\u2500\u2500\u2500\u2500\u2500\u2524\n\u2502 mosaic_prob       \u2502 0.0                                                                                    \u2502\n\u251c\u2500\u2500\u2500\u2500\u2500\u2500\u2500\u2500\u2500\u2500\u2500\u2500\u2500\u2500\u2500\u2500\u2500\u2500\u2500\u253c\u2500\u2500\u2500\u2500\u2500\u2500\u2500\u2500\u2500\u2500\u2500\u2500\u2500\u2500\u2500\u2500\u2500\u2500\u2500\u2500\u2500\u2500\u2500\u2500\u2500\u2500\u2500\u2500\u2500\u2500\u2500\u2500\u2500\u2500\u2500\u2500\u2500\u2500\u2500\u2500\u2500\u2500\u2500\u2500\u2500\u2500\u2500\u2500\u2500\u2500\u2500\u2500\u2500\u2500\u2500\u2500\u2500\u2500\u2500\u2500\u2500\u2500\u2500\u2500\u2500\u2500\u2500\u2500\u2500\u2500\u2500\u2500\u2500\u2500\u2500\u2500\u2500\u2500\u2500\u2500\u2500\u2500\u2500\u2500\u2500\u2500\u2500\u2500\u2524\n\u2502 mixup_prob        \u2502 0.0                                                                                    \u2502\n\u251c\u2500\u2500\u2500\u2500\u2500\u2500\u2500\u2500\u2500\u2500\u2500\u2500\u2500\u2500\u2500\u2500\u2500\u2500\u2500\u253c\u2500\u2500\u2500\u2500\u2500\u2500\u2500\u2500\u2500\u2500\u2500\u2500\u2500\u2500\u2500\u2500\u2500\u2500\u2500\u2500\u2500\u2500\u2500\u2500\u2500\u2500\u2500\u2500\u2500\u2500\u2500\u2500\u2500\u2500\u2500\u2500\u2500\u2500\u2500\u2500\u2500\u2500\u2500\u2500\u2500\u2500\u2500\u2500\u2500\u2500\u2500\u2500\u2500\u2500\u2500\u2500\u2500\u2500\u2500\u2500\u2500\u2500\u2500\u2500\u2500\u2500\u2500\u2500\u2500\u2500\u2500\u2500\u2500\u2500\u2500\u2500\u2500\u2500\u2500\u2500\u2500\u2500\u2500\u2500\u2500\u2500\u2500\u2500\u2524\n\u2502 hsv_prob          \u2502 1.0                                                                                    \u2502\n\u251c\u2500\u2500\u2500\u2500\u2500\u2500\u2500\u2500\u2500\u2500\u2500\u2500\u2500\u2500\u2500\u2500\u2500\u2500\u2500\u253c\u2500\u2500\u2500\u2500\u2500\u2500\u2500\u2500\u2500\u2500\u2500\u2500\u2500\u2500\u2500\u2500\u2500\u2500\u2500\u2500\u2500\u2500\u2500\u2500\u2500\u2500\u2500\u2500\u2500\u2500\u2500\u2500\u2500\u2500\u2500\u2500\u2500\u2500\u2500\u2500\u2500\u2500\u2500\u2500\u2500\u2500\u2500\u2500\u2500\u2500\u2500\u2500\u2500\u2500\u2500\u2500\u2500\u2500\u2500\u2500\u2500\u2500\u2500\u2500\u2500\u2500\u2500\u2500\u2500\u2500\u2500\u2500\u2500\u2500\u2500\u2500\u2500\u2500\u2500\u2500\u2500\u2500\u2500\u2500\u2500\u2500\u2500\u2500\u2524\n\u2502 flip_prob         \u2502 0.5                                                                                    \u2502\n\u251c\u2500\u2500\u2500\u2500\u2500\u2500\u2500\u2500\u2500\u2500\u2500\u2500\u2500\u2500\u2500\u2500\u2500\u2500\u2500\u253c\u2500\u2500\u2500\u2500\u2500\u2500\u2500\u2500\u2500\u2500\u2500\u2500\u2500\u2500\u2500\u2500\u2500\u2500\u2500\u2500\u2500\u2500\u2500\u2500\u2500\u2500\u2500\u2500\u2500\u2500\u2500\u2500\u2500\u2500\u2500\u2500\u2500\u2500\u2500\u2500\u2500\u2500\u2500\u2500\u2500\u2500\u2500\u2500\u2500\u2500\u2500\u2500\u2500\u2500\u2500\u2500\u2500\u2500\u2500\u2500\u2500\u2500\u2500\u2500\u2500\u2500\u2500\u2500\u2500\u2500\u2500\u2500\u2500\u2500\u2500\u2500\u2500\u2500\u2500\u2500\u2500\u2500\u2500\u2500\u2500\u2500\u2500\u2500\u2524\n\u2502 degrees           \u2502 10.0                                                                                   \u2502\n\u251c\u2500\u2500\u2500\u2500\u2500\u2500\u2500\u2500\u2500\u2500\u2500\u2500\u2500\u2500\u2500\u2500\u2500\u2500\u2500\u253c\u2500\u2500\u2500\u2500\u2500\u2500\u2500\u2500\u2500\u2500\u2500\u2500\u2500\u2500\u2500\u2500\u2500\u2500\u2500\u2500\u2500\u2500\u2500\u2500\u2500\u2500\u2500\u2500\u2500\u2500\u2500\u2500\u2500\u2500\u2500\u2500\u2500\u2500\u2500\u2500\u2500\u2500\u2500\u2500\u2500\u2500\u2500\u2500\u2500\u2500\u2500\u2500\u2500\u2500\u2500\u2500\u2500\u2500\u2500\u2500\u2500\u2500\u2500\u2500\u2500\u2500\u2500\u2500\u2500\u2500\u2500\u2500\u2500\u2500\u2500\u2500\u2500\u2500\u2500\u2500\u2500\u2500\u2500\u2500\u2500\u2500\u2500\u2500\u2524\n\u2502 translate         \u2502 0.1                                                                                    \u2502\n\u251c\u2500\u2500\u2500\u2500\u2500\u2500\u2500\u2500\u2500\u2500\u2500\u2500\u2500\u2500\u2500\u2500\u2500\u2500\u2500\u253c\u2500\u2500\u2500\u2500\u2500\u2500\u2500\u2500\u2500\u2500\u2500\u2500\u2500\u2500\u2500\u2500\u2500\u2500\u2500\u2500\u2500\u2500\u2500\u2500\u2500\u2500\u2500\u2500\u2500\u2500\u2500\u2500\u2500\u2500\u2500\u2500\u2500\u2500\u2500\u2500\u2500\u2500\u2500\u2500\u2500\u2500\u2500\u2500\u2500\u2500\u2500\u2500\u2500\u2500\u2500\u2500\u2500\u2500\u2500\u2500\u2500\u2500\u2500\u2500\u2500\u2500\u2500\u2500\u2500\u2500\u2500\u2500\u2500\u2500\u2500\u2500\u2500\u2500\u2500\u2500\u2500\u2500\u2500\u2500\u2500\u2500\u2500\u2500\u2524\n\u2502 mosaic_scale      \u2502 (0.1, 2)                                                                               \u2502\n\u251c\u2500\u2500\u2500\u2500\u2500\u2500\u2500\u2500\u2500\u2500\u2500\u2500\u2500\u2500\u2500\u2500\u2500\u2500\u2500\u253c\u2500\u2500\u2500\u2500\u2500\u2500\u2500\u2500\u2500\u2500\u2500\u2500\u2500\u2500\u2500\u2500\u2500\u2500\u2500\u2500\u2500\u2500\u2500\u2500\u2500\u2500\u2500\u2500\u2500\u2500\u2500\u2500\u2500\u2500\u2500\u2500\u2500\u2500\ufffd\ufffd\u2500\u2500\u2500\u2500\u2500\u2500\u2500\u2500\u2500\u2500\u2500\u2500\u2500\u2500\u2500\u2500\u2500\u2500\u2500\u2500\u2500\u2500\u2500\u2500\u2500\u2500\u2500\u2500\u2500\u2500\u2500\u2500\u2500\u2500\u2500\u2500\u2500\u2500\u2500\u2500\u2500\u2500\u2500\u2500\u2500\u2500\u2500\u2500\u2500\u2524\n\u2502 enable_mixup      \u2502 False                                                                                  \u2502\n\u251c\u2500\u2500\u2500\u2500\u2500\u2500\u2500\u2500\u2500\u2500\u2500\u2500\u2500\u2500\u2500\u2500\u2500\u2500\u2500\u253c\u2500\u2500\u2500\u2500\u2500\u2500\u2500\u2500\u2500\u2500\u2500\u2500\u2500\u2500\u2500\u2500\u2500\u2500\u2500\u2500\u2500\u2500\u2500\u2500\u2500\u2500\u2500\u2500\u2500\u2500\u2500\u2500\u2500\u2500\u2500\u2500\u2500\u2500\u2500\u2500\u2500\u2500\u2500\u2500\u2500\u2500\u2500\u2500\u2500\u2500\u2500\u2500\u2500\u2500\u2500\u2500\u2500\u2500\u2500\u2500\u2500\u2500\u2500\u2500\u2500\u2500\u2500\u2500\u2500\u2500\u2500\u2500\u2500\u2500\u2500\u2500\u2500\u2500\u2500\u2500\u2500\u2500\u2500\u2500\u2500\u2500\u2500\u2500\u2524\n\u2502 mixup_scale       \u2502 (0.5, 1.5)                                                                             \u2502\n\u251c\u2500\u2500\u2500\u2500\u2500\u2500\u2500\u2500\u2500\u2500\u2500\u2500\u2500\u2500\u2500\u2500\u2500\u2500\u2500\u253c\u2500\u2500\u2500\u2500\u2500\u2500\u2500\u2500\u2500\u2500\u2500\u2500\u2500\u2500\u2500\u2500\u2500\u2500\u2500\u2500\u2500\u2500\u2500\u2500\u2500\u2500\u2500\u2500\u2500\u2500\u2500\u2500\u2500\u2500\u2500\u2500\u2500\u2500\u2500\u2500\u2500\u2500\u2500\u2500\u2500\u2500\u2500\u2500\u2500\u2500\u2500\u2500\u2500\u2500\u2500\u2500\u2500\u2500\u2500\u2500\u2500\u2500\u2500\u2500\u2500\u2500\u2500\u2500\u2500\u2500\u2500\u2500\u2500\ufffd\ufffd\ufffd\u2500\u2500\u2500\u2500\u2500\u2500\u2500\u2500\u2500\u2500\u2500\u2500\u2500\u2500\u2524\n\u2502 shear             \u2502 2.0                                                                                    \u2502\n\u251c\u2500\u2500\u2500\u2500\u2500\u2500\u2500\u2500\u2500\u2500\u2500\u2500\u2500\u2500\u2500\u2500\u2500\u2500\u2500\u253c\u2500\u2500\u2500\u2500\u2500\u2500\u2500\u2500\u2500\u2500\u2500\u2500\u2500\u2500\u2500\u2500\u2500\u2500\u2500\u2500\u2500\u2500\u2500\u2500\u2500\u2500\u2500\u2500\u2500\u2500\u2500\u2500\u2500\u2500\u2500\u2500\u2500\u2500\u2500\u2500\u2500\u2500\u2500\u2500\u2500\u2500\u2500\u2500\u2500\u2500\u2500\u2500\u2500\u2500\u2500\u2500\u2500\u2500\u2500\u2500\u2500\u2500\u2500\u2500\u2500\u2500\u2500\u2500\u2500\u2500\u2500\u2500\u2500\u2500\u2500\u2500\u2500\u2500\u2500\u2500\u2500\u2500\u2500\u2500\u2500\u2500\u2500\u2500\u2524\n\u2502 warmup_epochs     \u2502 1                                                                                      \u2502\n\u251c\u2500\u2500\u2500\u2500\u2500\u2500\u2500\u2500\u2500\u2500\u2500\u2500\u2500\u2500\u2500\u2500\u2500\u2500\u2500\u253c\u2500\u2500\u2500\u2500\u2500\u2500\u2500\u2500\u2500\u2500\u2500\u2500\u2500\u2500\u2500\u2500\u2500\u2500\u2500\u2500\u2500\u2500\u2500\u2500\u2500\u2500\u2500\u2500\u2500\u2500\u2500\u2500\u2500\u2500\u2500\u2500\u2500\u2500\u2500\u2500\u2500\u2500\u2500\u2500\u2500\u2500\u2500\u2500\u2500\u2500\u2500\u2500\u2500\u2500\u2500\u2500\u2500\u2500\u2500\u2500\u2500\u2500\u2500\u2500\u2500\u2500\u2500\u2500\u2500\u2500\u2500\u2500\u2500\u2500\u2500\u2500\u2500\u2500\u2500\u2500\u2500\u2500\u2500\u2500\u2500\u2500\u2500\u2500\u2524\n\u2502 max_epoch         \u2502 2                                                                                      \u2502\n\u251c\u2500\u2500\u2500\u2500\u2500\u2500\u2500\u2500\u2500\u2500\u2500\u2500\u2500\u2500\u2500\u2500\u2500\u2500\u2500\u253c\u2500\u2500\u2500\u2500\u2500\u2500\u2500\u2500\u2500\u2500\u2500\u2500\u2500\u2500\u2500\u2500\u2500\u2500\u2500\u2500\u2500\u2500\u2500\u2500\u2500\u2500\u2500\u2500\u2500\u2500\u2500\u2500\u2500\u2500\u2500\u2500\u2500\u2500\u2500\u2500\u2500\u2500\u2500\u2500\u2500\u2500\u2500\u2500\u2500\u2500\u2500\u2500\u2500\u2500\u2500\u2500\u2500\u2500\u2500\u2500\u2500\u2500\u2500\u2500\u2500\u2500\u2500\u2500\u2500\u2500\u2500\u2500\u2500\u2500\u2500\u2500\u2500\u2500\u2500\u2500\u2500\u2500\u2500\u2500\u2500\u2500\u2500\u2500\u2524\n\u2502 warmup_lr         \u2502 0                                                                                      \u2502\n\u251c\u2500\u2500\u2500\u2500\u2500\u2500\u2500\u2500\u2500\u2500\u2500\u2500\u2500\u2500\u2500\u2500\u2500\u2500\u2500\u253c\u2500\u2500\u2500\u2500\u2500\u2500\u2500\u2500\u2500\u2500\u2500\u2500\u2500\u2500\u2500\u2500\u2500\u2500\u2500\u2500\u2500\u2500\u2500\u2500\u2500\u2500\u2500\u2500\u2500\u2500\u2500\u2500\u2500\u2500\u2500\u2500\u2500\u2500\u2500\u2500\u2500\u2500\u2500\u2500\u2500\u2500\u2500\u2500\u2500\u2500\u2500\u2500\u2500\u2500\u2500\u2500\u2500\u2500\u2500\u2500\u2500\u2500\u2500\u2500\u2500\u2500\u2500\u2500\u2500\u2500\u2500\u2500\u2500\u2500\u2500\u2500\u2500\u2500\u2500\u2500\u2500\u2500\u2500\u2500\u2500\u2500\u2500\u2500\u2524\n\u2502 min_lr_ratio      \u2502 0.05                                                                                   \u2502\n\u251c\u2500\u2500\u2500\u2500\u2500\u2500\u2500\u2500\u2500\u2500\u2500\u2500\u2500\ufffd\ufffd\ufffd\u2500\u2500\u2500\u2500\u2500\u253c\u2500\u2500\u2500\u2500\u2500\u2500\u2500\u2500\u2500\u2500\u2500\u2500\u2500\u2500\u2500\u2500\u2500\u2500\u2500\u2500\u2500\u2500\u2500\u2500\u2500\u2500\u2500\u2500\u2500\u2500\u2500\u2500\u2500\u2500\u2500\u2500\u2500\u2500\u2500\u2500\u2500\u2500\u2500\u2500\u2500\u2500\u2500\u2500\u2500\u2500\u2500\u2500\u2500\u2500\u2500\u2500\u2500\u2500\u2500\u2500\u2500\u2500\u2500\u2500\u2500\u2500\u2500\u2500\u2500\u2500\u2500\u2500\u2500\u2500\u2500\u2500\u2500\u2500\u2500\u2500\u2500\u2500\u2500\u2500\u2500\u2500\u2500\u2500\u2524\n\u2502 basic_lr_per_img  \u2502 0.00015625                                                                             \u2502\n\u251c\u2500\u2500\u2500\u2500\u2500\u2500\u2500\u2500\u2500\u2500\u2500\u2500\u2500\u2500\u2500\u2500\u2500\u2500\u2500\u253c\u2500\u2500\u2500\u2500\u2500\u2500\u2500\u2500\u2500\u2500\u2500\u2500\u2500\u2500\u2500\u2500\u2500\u2500\u2500\u2500\u2500\u2500\u2500\u2500\u2500\u2500\u2500\u2500\u2500\u2500\u2500\u2500\u2500\u2500\u2500\u2500\u2500\u2500\u2500\u2500\u2500\u2500\u2500\u2500\u2500\u2500\u2500\u2500\u2500\u2500\u2500\u2500\u2500\u2500\u2500\u2500\u2500\u2500\u2500\u2500\u2500\u2500\u2500\u2500\u2500\u2500\u2500\u2500\u2500\u2500\u2500\u2500\u2500\u2500\u2500\u2500\u2500\u2500\u2500\u2500\u2500\u2500\u2500\u2500\u2500\u2500\u2500\u2500\u2524\n\u2502 scheduler         \u2502 'yoloxwarmcos'                                                                         \u2502\n\u251c\u2500\u2500\u2500\u2500\u2500\u2500\u2500\u2500\u2500\u2500\u2500\u2500\u2500\u2500\u2500\u2500\u2500\u2500\u2500\u253c\u2500\u2500\u2500\u2500\u2500\u2500\u2500\u2500\u2500\u2500\u2500\u2500\u2500\u2500\u2500\u2500\u2500\u2500\u2500\u2500\u2500\u2500\u2500\u2500\u2500\u2500\u2500\u2500\u2500\u2500\u2500\u2500\u2500\u2500\u2500\u2500\u2500\u2500\u2500\u2500\u2500\u2500\u2500\u2500\u2500\u2500\u2500\u2500\u2500\u2500\u2500\u2500\u2500\u2500\u2500\u2500\u2500\u2500\u2500\u2500\u2500\u2500\u2500\u2500\u2500\u2500\u2500\u2500\u2500\u2500\u2500\u2500\u2500\u2500\u2500\u2500\u2500\u2500\u2500\u2500\u2500\u2500\u2500\u2500\u2500\u2500\u2500\u2500\u2524\n\u2502 no_aug_epochs     \u2502 5                                                                                      \u2502\n\u251c\u2500\u2500\u2500\u2500\u2500\u2500\u2500\u2500\u2500\u2500\u2500\u2500\u2500\u2500\u2500\u2500\u2500\u2500\u2500\u253c\u2500\u2500\u2500\u2500\u2500\u2500\u2500\u2500\u2500\u2500\u2500\u2500\u2500\u2500\u2500\u2500\u2500\u2500\u2500\u2500\u2500\u2500\u2500\u2500\u2500\u2500\u2500\u2500\u2500\u2500\u2500\u2500\u2500\u2500\u2500\u2500\u2500\u2500\u2500\u2500\u2500\u2500\u2500\u2500\u2500\u2500\u2500\u2500\u2500\u2500\u2500\u2500\u2500\u2500\u2500\u2500\u2500\u2500\u2500\u2500\u2500\u2500\u2500\u2500\u2500\u2500\u2500\u2500\u2500\u2500\u2500\u2500\u2500\u2500\u2500\u2500\u2500\u2500\u2500\u2500\u2500\u2500\u2500\u2500\u2500\u2500\u2500\u2500\u2524\n\u2502 ema               \u2502 True                                                                                   \u2502\n\u251c\u2500\u2500\u2500\u2500\u2500\u2500\u2500\u2500\u2500\u2500\u2500\u2500\u2500\u2500\u2500\u2500\u2500\u2500\u2500\u253c\u2500\u2500\u2500\u2500\u2500\u2500\u2500\u2500\u2500\u2500\u2500\u2500\u2500\u2500\u2500\u2500\u2500\u2500\u2500\u2500\u2500\u2500\u2500\u2500\u2500\u2500\u2500\u2500\u2500\u2500\u2500\u2500\u2500\u2500\u2500\u2500\u2500\u2500\u2500\u2500\u2500\u2500\u2500\u2500\u2500\u2500\u2500\u2500\u2500\u2500\u2500\u2500\u2500\u2500\u2500\u2500\u2500\u2500\u2500\u2500\u2500\u2500\ufffd\ufffd\u2500\u2500\u2500\u2500\u2500\u2500\u2500\u2500\u2500\u2500\u2500\u2500\u2500\u2500\u2500\u2500\u2500\u2500\u2500\u2500\u2500\u2500\u2500\u2500\u2500\u2524\n\u2502 weight_decay      \u2502 0.0005                                                                                 \u2502\n\u251c\u2500\u2500\u2500\u2500\u2500\u2500\u2500\u2500\u2500\u2500\u2500\u2500\u2500\u2500\u2500\u2500\u2500\u2500\u2500\u253c\u2500\u2500\u2500\u2500\u2500\u2500\u2500\u2500\u2500\u2500\u2500\u2500\u2500\u2500\u2500\u2500\u2500\u2500\u2500\u2500\u2500\u2500\u2500\u2500\u2500\u2500\u2500\u2500\u2500\u2500\u2500\u2500\u2500\u2500\u2500\u2500\u2500\u2500\u2500\u2500\u2500\u2500\u2500\u2500\u2500\u2500\u2500\u2500\u2500\u2500\u2500\u2500\u2500\u2500\u2500\u2500\u2500\u2500\u2500\u2500\u2500\u2500\u2500\u2500\u2500\u2500\u2500\u2500\u2500\u2500\u2500\u2500\u2500\u2500\u2500\u2500\u2500\u2500\u2500\u2500\u2500\u2500\u2500\u2500\u2500\u2500\u2500\u2500\u2524\n\u2502 momentum          \u2502 0.9                                                                                    \u2502\n\u251c\u2500\u2500\u2500\u2500\u2500\u2500\u2500\u2500\u2500\u2500\u2500\u2500\u2500\u2500\u2500\u2500\u2500\u2500\u2500\u253c\u2500\u2500\u2500\u2500\u2500\u2500\u2500\u2500\u2500\u2500\u2500\u2500\u2500\u2500\u2500\u2500\u2500\u2500\u2500\u2500\u2500\u2500\u2500\u2500\u2500\u2500\u2500\u2500\u2500\u2500\u2500\u2500\u2500\u2500\u2500\u2500\u2500\u2500\u2500\u2500\u2500\u2500\u2500\u2500\u2500\u2500\u2500\u2500\u2500\u2500\u2500\u2500\u2500\u2500\u2500\u2500\u2500\u2500\u2500\u2500\u2500\u2500\u2500\u2500\u2500\u2500\u2500\u2500\u2500\u2500\u2500\u2500\u2500\u2500\u2500\u2500\u2500\u2500\u2500\u2500\u2500\u2500\u2500\u2500\u2500\u2500\u2500\u2500\u2524\n\u2502 save_history_ckpt \ufffd\ufffd True                                                                                   \u2502\n\u251c\u2500\u2500\u2500\u2500\u2500\u2500\u2500\u2500\u2500\u2500\u2500\u2500\u2500\u2500\u2500\u2500\u2500\u2500\u2500\u253c\u2500\u2500\u2500\u2500\u2500\u2500\u2500\u2500\u2500\u2500\u2500\u2500\u2500\u2500\u2500\u2500\u2500\u2500\u2500\u2500\u2500\u2500\u2500\u2500\u2500\u2500\u2500\u2500\u2500\u2500\u2500\u2500\u2500\u2500\u2500\u2500\u2500\u2500\u2500\u2500\u2500\u2500\u2500\u2500\u2500\u2500\u2500\u2500\u2500\u2500\u2500\u2500\u2500\u2500\u2500\u2500\u2500\u2500\u2500\u2500\u2500\u2500\u2500\u2500\u2500\u2500\u2500\u2500\u2500\u2500\u2500\u2500\u2500\u2500\u2500\u2500\u2500\u2500\u2500\u2500\u2500\u2500\u2500\u2500\u2500\u2500\u2500\u2500\u2524\n\u2502 exp_name          \u2502 'yolox_m_fold_3'                                                                       \u2502\n\u251c\u2500\u2500\u2500\u2500\u2500\u2500\u2500\u2500\u2500\u2500\u2500\u2500\u2500\u2500\u2500\u2500\u2500\u2500\u2500\u253c\u2500\u2500\u2500\u2500\u2500\u2500\u2500\u2500\u2500\u2500\u2500\u2500\u2500\u2500\u2500\u2500\u2500\u2500\u2500\u2500\u2500\u2500\u2500\u2500\u2500\u2500\u2500\u2500\u2500\u2500\u2500\u2500\u2500\u2500\u2500\u2500\u2500\u2500\u2500\u2500\u2500\u2500\u2500\u2500\u2500\u2500\u2500\u2500\u2500\u2500\u2500\u2500\u2500\u2500\u2500\u2500\u2500\u2500\u2500\u2500\u2500\u2500\u2500\u2500\u2500\u2500\u2500\u2500\u2500\u2500\u2500\u2500\u2500\u2500\u2500\u2500\u2500\u2500\u2500\u2500\u2500\u2500\u2500\u2500\u2500\u2500\u2500\u2500\u2524\n\u2502 test_size         \u2502 (640, 640)                                                                             \u2502\n\u251c\u2500\u2500\ufffd\ufffd\u2500\u2500\u2500\u2500\u2500\u2500\u2500\u2500\u2500\u2500\u2500\u2500\u2500\u2500\u2500\u2500\u253c\u2500\u2500\u2500\u2500\u2500\u2500\u2500\u2500\u2500\u2500\u2500\u2500\u2500\u2500\u2500\u2500\u2500\u2500\u2500\u2500\u2500\u2500\u2500\u2500\u2500\u2500\u2500\u2500\u2500\u2500\u2500\u2500\u2500\u2500\u2500\u2500\u2500\u2500\u2500\u2500\u2500\u2500\u2500\u2500\u2500\u2500\u2500\u2500\u2500\u2500\u2500\u2500\u2500\u2500\u2500\u2500\u2500\u2500\u2500\u2500\u2500\u2500\u2500\u2500\u2500\u2500\u2500\u2500\u2500\u2500\u2500\u2500\u2500\u2500\u2500\u2500\u2500\u2500\u2500\u2500\u2500\u2500\u2500\u2500\u2500\u2500\u2500\u2500\u2524\n\u2502 test_conf         \u2502 0.01                                                                                   \u2502\n\u251c\u2500\u2500\u2500\u2500\u2500\u2500\u2500\u2500\u2500\u2500\u2500\u2500\u2500\u2500\u2500\u2500\u2500\u2500\u2500\u253c\u2500\u2500\u2500\u2500\u2500\u2500\u2500\u2500\u2500\u2500\u2500\u2500\u2500\u2500\u2500\u2500\u2500\u2500\u2500\u2500\u2500\u2500\u2500\u2500\u2500\u2500\u2500\u2500\u2500\u2500\u2500\u2500\u2500\u2500\u2500\u2500\u2500\u2500\u2500\u2500\u2500\u2500\u2500\u2500\u2500\u2500\u2500\u2500\u2500\u2500\u2500\u2500\u2500\u2500\u2500\u2500\u2500\u2500\u2500\u2500\u2500\u2500\u2500\u2500\u2500\u2500\u2500\u2500\u2500\u2500\u2500\u2500\u2500\u2500\u2500\u2500\u2500\u2500\u2500\u2500\u2500\u2500\u2500\u2500\u2500\u2500\u2500\u2500\u2524\n\u2502 nmsthre           \u2502 0.65                                                                                   \u2502\n\u2558\u2550\u2550\u2550\u2550\u2550\u2550\u2550\u2550\u2550\u2550\u2550\u2550\u2550\u2550\u2550\u2550\u2550\u2550\u2550\u2567\u2550\u2550\u2550\u2550\u2550\u2550\u2550\u2550\u2550\u2550\u2550\u2550\u2550\u2550\u2550\u2550\u2550\ufffd\ufffd\ufffd\u2550\u2550\u2550\u2550\u2550\u2550\u2550\u2550\u2550\u2550\u2550\u2550\u2550\u2550\u2550\u2550\u2550\u2550\u2550\u2550\u2550\u2550\u2550\u2550\u2550\u2550\u2550\u2550\u2550\u2550\u2550\u2550\u2550\u2550\u2550\u2550\u2550\u2550\u2550\u2550\u2550\u2550\u2550\u2550\u2550\u2550\u2550\u2550\u2550\u2550\u2550\u2550\u2550\u2550\u2550\u2550\u2550\u2550\u2550\u2550\u2550\u2550\u2550\u2550\u2550\u2550\u2550\u2550\u2550\u2550\u255b\n"
          ]
        },
        {
          "output_type": "stream",
          "name": "stderr",
          "text": [
            "2025-09-26 18:50:02 | INFO     | yolox.core.trainer:138 - Model Summary: Params: 25.28M, Gflops: 73.73\n2025-09-26 18:50:02 | INFO     | yolox.core.trainer:338 - loading checkpoint for fine tuning\n"
          ]
        },
        {
          "output_type": "stream",
          "name": "stderr",
          "text": [
            "2025-09-26 18:50:02 | WARNING  | yolox.utils.checkpoint:24 - Shape of head.cls_preds.0.weight in checkpoint is torch.Size([80, 192, 1, 1]), while shape of head.cls_preds.0.weight in model is torch.Size([1, 192, 1, 1]).\n2025-09-26 18:50:02 | WARNING  | yolox.utils.checkpoint:24 - Shape of head.cls_preds.0.bias in checkpoint is torch.Size([80]), while shape of head.cls_preds.0.bias in model is torch.Size([1]).\n2025-09-26 18:50:02 | WARNING  | yolox.utils.checkpoint:24 - Shape of head.cls_preds.1.weight in checkpoint is torch.Size([80, 192, 1, 1]), while shape of head.cls_preds.1.weight in model is torch.Size([1, 192, 1, 1]).\n2025-09-26 18:50:02 | WARNING  | yolox.utils.checkpoint:24 - Shape of head.cls_preds.1.bias in checkpoint is torch.Size([80]), while shape of head.cls_preds.1.bias in model is torch.Size([1]).\n2025-09-26 18:50:02 | WARNING  | yolox.utils.checkpoint:24 - Shape of head.cls_preds.2.weight in checkpoint is torch.Size([80, 192, 1, 1]), while shape of head.cls_preds.2.weight in model is torch.Size([1, 192, 1, 1]).\n2025-09-26 18:50:02 | WARNING  | yolox.utils.checkpoint:24 - Shape of head.cls_preds.2.bias in checkpoint is torch.Size([80]), while shape of head.cls_preds.2.bias in model is torch.Size([1]).\n2025-09-26 18:50:02 | INFO     | yolox.data.datasets.coco:63 - loading annotations into memory...\n2025-09-26 18:50:02 | INFO     | yolox.data.datasets.coco:63 - Done (t=0.01s)\n2025-09-26 18:50:02 | INFO     | pycocotools.coco:86 - creating index...\n2025-09-26 18:50:02 | INFO     | pycocotools.coco:86 - index created!\n2025-09-26 18:50:02 | INFO     | yolox.core.trainer:157 - init prefetcher, this might take one minute or less...\n"
          ]
        },
        {
          "output_type": "stream",
          "name": "stderr",
          "text": [
            "2025-09-26 18:50:04 | INFO     | yolox.data.datasets.coco:63 - loading annotations into memory...\n2025-09-26 18:50:04 | INFO     | yolox.data.datasets.coco:63 - Done (t=0.00s)\n2025-09-26 18:50:04 | INFO     | pycocotools.coco:86 - creating index...\n2025-09-26 18:50:04 | INFO     | pycocotools.coco:86 - index created!\n2025-09-26 18:50:04 | INFO     | yolox.core.trainer:196 - Training start...\n2025-09-26 18:50:04 | INFO     | yolox.core.trainer:197 - \nYOLOX(\n  (backbone): YOLOPAFPN(\n    (backbone): CSPDarknet(\n      (stem): Focus(\n        (conv): BaseConv(\n          (conv): Conv2d(12, 48, kernel_size=(3, 3), stride=(1, 1), padding=(1, 1), bias=False)\n          (bn): BatchNorm2d(48, eps=0.001, momentum=0.03, affine=True, track_running_stats=True)\n          (act): SiLU(inplace=True)\n        )\n      )\n      (dark2): Sequential(\n        (0): BaseConv(\n          (conv): Conv2d(48, 96, kernel_size=(3, 3), stride=(2, 2), padding=(1, 1), bias=False)\n          (bn): BatchNorm2d(96, eps=0.001, momentum=0.03, affine=True, track_running_stats=True)\n          (act): SiLU(inplace=True)\n        )\n        (1): CSPLayer(\n          (conv1): BaseConv(\n            (conv): Conv2d(96, 48, kernel_size=(1, 1), stride=(1, 1), bias=False)\n            (bn): BatchNorm2d(48, eps=0.001, momentum=0.03, affine=True, track_running_stats=True)\n            (act): SiLU(inplace=True)\n          )\n          (conv2): BaseConv(\n            (conv): Conv2d(96, 48, kernel_size=(1, 1), stride=(1, 1), bias=False)\n            (bn): BatchNorm2d(48, eps=0.001, momentum=0.03, affine=True, track_running_stats=True)\n            (act): SiLU(inplace=True)\n          )\n          (conv3): BaseConv(\n            (conv): Conv2d(96, 96, kernel_size=(1, 1), stride=(1, 1), bias=False)\n            (bn): BatchNorm2d(96, eps=0.001, momentum=0.03, affine=True, track_running_stats=True)\n            (act): SiLU(inplace=True)\n          )\n          (m): Sequential(\n            (0): Bottleneck(\n              (conv1): BaseConv(\n                (conv): Conv2d(48, 48, kernel_size=(1, 1), stride=(1, 1), bias=False)\n                (bn): BatchNorm2d(48, eps=0.001, momentum=0.03, affine=True, track_running_stats=True)\n                (act): SiLU(inplace=True)\n              )\n              (conv2): BaseConv(\n                (conv): Conv2d(48, 48, kernel_size=(3, 3), stride=(1, 1), padding=(1, 1), bias=False)\n                (bn): BatchNorm2d(48, eps=0.001, momentum=0.03, affine=True, track_running_stats=True)\n                (act): SiLU(inplace=True)\n              )\n            )\n            (1): Bottleneck(\n              (conv1): BaseConv(\n                (conv): Conv2d(48, 48, kernel_size=(1, 1), stride=(1, 1), bias=False)\n                (bn): BatchNorm2d(48, eps=0.001, momentum=0.03, affine=True, track_running_stats=True)\n                (act): SiLU(inplace=True)\n              )\n              (conv2): BaseConv(\n                (conv): Conv2d(48, 48, kernel_size=(3, 3), stride=(1, 1), padding=(1, 1), bias=False)\n                (bn): BatchNorm2d(48, eps=0.001, momentum=0.03, affine=True, track_running_stats=True)\n                (act): SiLU(inplace=True)\n              )\n            )\n          )\n        )\n      )\n      (dark3): Sequential(\n        (0): BaseConv(\n          (conv): Conv2d(96, 192, kernel_size=(3, 3), stride=(2, 2), padding=(1, 1), bias=False)\n          (bn): BatchNorm2d(192, eps=0.001, momentum=0.03, affine=True, track_running_stats=True)\n          (act): SiLU(inplace=True)\n        )\n        (1): CSPLayer(\n          (conv1): BaseConv(\n            (conv): Conv2d(192, 96, kernel_size=(1, 1), stride=(1, 1), bias=False)\n            (bn): BatchNorm2d(96, eps=0.001, momentum=0.03, affine=True, track_running_stats=True)\n            (act): SiLU(inplace=True)\n          )\n          (conv2): BaseConv(\n            (conv): Conv2d(192, 96, kernel_size=(1, 1), stride=(1, 1), bias=False)\n            (bn): BatchNorm2d(96, eps=0.001, momentum=0.03, affine=True, track_running_stats=True)\n            (act): SiLU(inplace=True)\n          )\n          (conv3): BaseConv(\n            (conv): Conv2d(192, 192, kernel_size=(1, 1), stride=(1, 1), bias=False)\n            (bn): BatchNorm2d(192, eps=0.001, momentum=0.03, affine=True, track_running_stats=True)\n            (act): SiLU(inplace=True)\n          )\n          (m): Sequential(\n            (0): Bottleneck(\n              (conv1): BaseConv(\n                (conv): Conv2d(96, 96, kernel_size=(1, 1), stride=(1, 1), bias=False)\n                (bn): BatchNorm2d(96, eps=0.001, momentum=0.03, affine=True, track_running_stats=True)\n                (act): SiLU(inplace=True)\n              )\n              (conv2): BaseConv(\n                (conv): Conv2d(96, 96, kernel_size=(3, 3), stride=(1, 1), padding=(1, 1), bias=False)\n                (bn): BatchNorm2d(96, eps=0.001, momentum=0.03, affine=True, track_running_stats=True)\n                (act): SiLU(inplace=True)\n              )\n            )\n            (1): Bottleneck(\n              (conv1): BaseConv(\n                (conv): Conv2d(96, 96, kernel_size=(1, 1), stride=(1, 1), bias=False)\n                (bn): BatchNorm2d(96, eps=0.001, momentum=0.03, affine=True, track_running_stats=True)\n                (act): SiLU(inplace=True)\n              )\n              (conv2): BaseConv(\n                (conv): Conv2d(96, 96, kernel_size=(3, 3), stride=(1, 1), padding=(1, 1), bias=False)\n                (bn): BatchNorm2d(96, eps=0.001, momentum=0.03, affine=True, track_running_stats=True)\n                (act): SiLU(inplace=True)\n              )\n            )\n            (2): Bottleneck(\n              (conv1): BaseConv(\n                (conv): Conv2d(96, 96, kernel_size=(1, 1), stride=(1, 1), bias=False)\n                (bn): BatchNorm2d(96, eps=0.001, momentum=0.03, affine=True, track_running_stats=True)\n                (act): SiLU(inplace=True)\n              )\n              (conv2): BaseConv(\n                (conv): Conv2d(96, 96, kernel_size=(3, 3), stride=(1, 1), padding=(1, 1), bias=False)\n                (bn): BatchNorm2d(96, eps=0.001, momentum=0.03, affine=True, track_running_stats=True)\n                (act): SiLU(inplace=True)\n              )\n            )\n            (3): Bottleneck(\n              (conv1): BaseConv(\n                (conv): Conv2d(96, 96, kernel_size=(1, 1), stride=(1, 1), bias=False)\n                (bn): BatchNorm2d(96, eps=0.001, momentum=0.03, affine=True, track_running_stats=True)\n                (act): SiLU(inplace=True)\n              )\n              (conv2): BaseConv(\n                (conv): Conv2d(96, 96, kernel_size=(3, 3), stride=(1, 1), padding=(1, 1), bias=False)\n                (bn): BatchNorm2d(96, eps=0.001, momentum=0.03, affine=True, track_running_stats=True)\n                (act): SiLU(inplace=True)\n              )\n            )\n            (4): Bottleneck(\n              (conv1): BaseConv(\n                (conv): Conv2d(96, 96, kernel_size=(1, 1), stride=(1, 1), bias=False)\n                (bn): BatchNorm2d(96, eps=0.001, momentum=0.03, affine=True, track_running_stats=True)\n                (act): SiLU(inplace=True)\n              )\n              (conv2): BaseConv(\n                (conv): Conv2d(96, 96, kernel_size=(3, 3), stride=(1, 1), padding=(1, 1), bias=False)\n                (bn): BatchNorm2d(96, eps=0.001, momentum=0.03, affine=True, track_running_stats=True)\n                (act): SiLU(inplace=True)\n              )\n            )\n            (5): Bottleneck(\n              (conv1): BaseConv(\n                (conv): Conv2d(96, 96, kernel_size=(1, 1), stride=(1, 1), bias=False)\n                (bn): BatchNorm2d(96, eps=0.001, momentum=0.03, affine=True, track_running_stats=True)\n                (act): SiLU(inplace=True)\n              )\n              (conv2): BaseConv(\n                (conv): Conv2d(96, 96, kernel_size=(3, 3), stride=(1, 1), padding=(1, 1), bias=False)\n                (bn): BatchNorm2d(96, eps=0.001, momentum=0.03, affine=True, track_running_stats=True)\n                (act): SiLU(inplace=True)\n              )\n            )\n          )\n        )\n      )\n      (dark4): Sequential(\n        (0): BaseConv(\n          (conv): Conv2d(192, 384, kernel_size=(3, 3), stride=(2, 2), padding=(1, 1), bias=False)\n          (bn): BatchNorm2d(384, eps=0.001, momentum=0.03, affine=True, track_running_stats=True)\n          (act): SiLU(inplace=True)\n        )\n        (1): CSPLayer(\n          (conv1): BaseConv(\n            (conv): Conv2d(384, 192, kernel_size=(1, 1), stride=(1, 1), bias=False)\n            (bn): BatchNorm2d(192, eps=0.001, momentum=0.03, affine=True, track_running_stats=True)\n            (act): SiLU(inplace=True)\n          )\n          (conv2): BaseConv(\n            (conv): Conv2d(384, 192, kernel_size=(1, 1), stride=(1, 1), bias=False)\n            (bn): BatchNorm2d(192, eps=0.001, momentum=0.03, affine=True, track_running_stats=True)\n            (act): SiLU(inplace=True)\n          )\n          (conv3): BaseConv(\n            (conv): Conv2d(384, 384, kernel_size=(1, 1), stride=(1, 1), bias=False)\n            (bn): BatchNorm2d(384, eps=0.001, momentum=0.03, affine=True, track_running_stats=True)\n            (act): SiLU(inplace=True)\n          )\n          (m): Sequential(\n            (0): Bottleneck(\n              (conv1): BaseConv(\n                (conv): Conv2d(192, 192, kernel_size=(1, 1), stride=(1, 1), bias=False)\n                (bn): BatchNorm2d(192, eps=0.001, momentum=0.03, affine=True, track_running_stats=True)\n                (act): SiLU(inplace=True)\n              )\n              (conv2): BaseConv(\n                (conv): Conv2d(192, 192, kernel_size=(3, 3), stride=(1, 1), padding=(1, 1), bias=False)\n                (bn): BatchNorm2d(192, eps=0.001, momentum=0.03, affine=True, track_running_stats=True)\n                (act): SiLU(inplace=True)\n              )\n            )\n            (1): Bottleneck(\n              (conv1): BaseConv(\n                (conv): Conv2d(192, 192, kernel_size=(1, 1), stride=(1, 1), bias=False)\n                (bn): BatchNorm2d(192, eps=0.001, momentum=0.03, affine=True, track_running_stats=True)\n                (act): SiLU(inplace=True)\n              )\n              (conv2): BaseConv(\n                (conv): Conv2d(192, 192, kernel_size=(3, 3), stride=(1, 1), padding=(1, 1), bias=False)\n                (bn): BatchNorm2d(192, eps=0.001, momentum=0.03, affine=True, track_running_stats=True)\n                (act): SiLU(inplace=True)\n              )\n            )\n            (2): Bottleneck(\n              (conv1): BaseConv(\n                (conv): Conv2d(192, 192, kernel_size=(1, 1), stride=(1, 1), bias=False)\n                (bn): BatchNorm2d(192, eps=0.001, momentum=0.03, affine=True, track_running_stats=True)\n                (act): SiLU(inplace=True)\n              )\n              (conv2): BaseConv(\n                (conv): Conv2d(192, 192, kernel_size=(3, 3), stride=(1, 1), padding=(1, 1), bias=False)\n                (bn): BatchNorm2d(192, eps=0.001, momentum=0.03, affine=True, track_running_stats=True)\n                (act): SiLU(inplace=True)\n              )\n            )\n            (3): Bottleneck(\n              (conv1): BaseConv(\n                (conv): Conv2d(192, 192, kernel_size=(1, 1), stride=(1, 1), bias=False)\n                (bn): BatchNorm2d(192, eps=0.001, momentum=0.03, affine=True, track_running_stats=True)\n                (act): SiLU(inplace=True)\n              )\n              (conv2): BaseConv(\n                (conv): Conv2d(192, 192, kernel_size=(3, 3), stride=(1, 1), padding=(1, 1), bias=False)\n                (bn): BatchNorm2d(192, eps=0.001, momentum=0.03, affine=True, track_running_stats=True)\n                (act): SiLU(inplace=True)\n              )\n            )\n            (4): Bottleneck(\n              (conv1): BaseConv(\n                (conv): Conv2d(192, 192, kernel_size=(1, 1), stride=(1, 1), bias=False)\n                (bn): BatchNorm2d(192, eps=0.001, momentum=0.03, affine=True, track_running_stats=True)\n                (act): SiLU(inplace=True)\n              )\n              (conv2): BaseConv(\n                (conv): Conv2d(192, 192, kernel_size=(3, 3), stride=(1, 1), padding=(1, 1), bias=False)\n                (bn): BatchNorm2d(192, eps=0.001, momentum=0.03, affine=True, track_running_stats=True)\n                (act): SiLU(inplace=True)\n              )\n            )\n            (5): Bottleneck(\n              (conv1): BaseConv(\n                (conv): Conv2d(192, 192, kernel_size=(1, 1), stride=(1, 1), bias=False)\n                (bn): BatchNorm2d(192, eps=0.001, momentum=0.03, affine=True, track_running_stats=True)\n                (act): SiLU(inplace=True)\n              )\n              (conv2): BaseConv(\n                (conv): Conv2d(192, 192, kernel_size=(3, 3), stride=(1, 1), padding=(1, 1), bias=False)\n                (bn): BatchNorm2d(192, eps=0.001, momentum=0.03, affine=True, track_running_stats=True)\n                (act): SiLU(inplace=True)\n              )\n            )\n          )\n        )\n      )\n      (dark5): Sequential(\n        (0): BaseConv(\n          (conv): Conv2d(384, 768, kernel_size=(3, 3), stride=(2, 2), padding=(1, 1), bias=False)\n          (bn): BatchNorm2d(768, eps=0.001, momentum=0.03, affine=True, track_running_stats=True)\n          (act): SiLU(inplace=True)\n        )\n        (1): SPPBottleneck(\n          (conv1): BaseConv(\n            (conv): Conv2d(768, 384, kernel_size=(1, 1), stride=(1, 1), bias=False)\n            (bn): BatchNorm2d(384, eps=0.001, momentum=0.03, affine=True, track_running_stats=True)\n            (act): SiLU(inplace=True)\n          )\n          (m): ModuleList(\n            (0): MaxPool2d(kernel_size=5, stride=1, padding=2, dilation=1, ceil_mode=False)\n            (1): MaxPool2d(kernel_size=9, stride=1, padding=4, dilation=1, ceil_mode=False)\n            (2): MaxPool2d(kernel_size=13, stride=1, padding=6, dilation=1, ceil_mode=False)\n          )\n          (conv2): BaseConv(\n            (conv): Conv2d(1536, 768, kernel_size=(1, 1), stride=(1, 1), bias=False)\n            (bn): BatchNorm2d(768, eps=0.001, momentum=0.03, affine=True, track_running_stats=True)\n            (act): SiLU(inplace=True)\n          )\n        )\n        (2): CSPLayer(\n          (conv1): BaseConv(\n            (conv): Conv2d(768, 384, kernel_size=(1, 1), stride=(1, 1), bias=False)\n            (bn): BatchNorm2d(384, eps=0.001, momentum=0.03, affine=True, track_running_stats=True)\n            (act): SiLU(inplace=True)\n          )\n          (conv2): BaseConv(\n            (conv): Conv2d(768, 384, kernel_size=(1, 1), stride=(1, 1), bias=False)\n            (bn): BatchNorm2d(384, eps=0.001, momentum=0.03, affine=True, track_running_stats=True)\n            (act): SiLU(inplace=True)\n          )\n          (conv3): BaseConv(\n            (conv): Conv2d(768, 768, kernel_size=(1, 1), stride=(1, 1), bias=False)\n            (bn): BatchNorm2d(768, eps=0.001, momentum=0.03, affine=True, track_running_stats=True)\n            (act): SiLU(inplace=True)\n          )\n          (m): Sequential(\n            (0): Bottleneck(\n              (conv1): BaseConv(\n                (conv): Conv2d(384, 384, kernel_size=(1, 1), stride=(1, 1), bias=False)\n                (bn): BatchNorm2d(384, eps=0.001, momentum=0.03, affine=True, track_running_stats=True)\n                (act): SiLU(inplace=True)\n              )\n              (conv2): BaseConv(\n                (conv): Conv2d(384, 384, kernel_size=(3, 3), stride=(1, 1), padding=(1, 1), bias=False)\n                (bn): BatchNorm2d(384, eps=0.001, momentum=0.03, affine=True, track_running_stats=True)\n                (act): SiLU(inplace=True)\n              )\n            )\n            (1): Bottleneck(\n              (conv1): BaseConv(\n                (conv): Conv2d(384, 384, kernel_size=(1, 1), stride=(1, 1), bias=False)\n                (bn): BatchNorm2d(384, eps=0.001, momentum=0.03, affine=True, track_running_stats=True)\n                (act): SiLU(inplace=True)\n              )\n              (conv2): BaseConv(\n                (conv): Conv2d(384, 384, kernel_size=(3, 3), stride=(1, 1), padding=(1, 1), bias=False)\n                (bn): BatchNorm2d(384, eps=0.001, momentum=0.03, affine=True, track_running_stats=True)\n                (act): SiLU(inplace=True)\n              )\n            )\n          )\n        )\n      )\n    )\n    (upsample): Upsample(scale_factor=2.0, mode='nearest')\n    (lateral_conv0): BaseConv(\n      (conv): Conv2d(768, 384, kernel_size=(1, 1), stride=(1, 1), bias=False)\n      (bn): BatchNorm2d(384, eps=0.001, momentum=0.03, affine=True, track_running_stats=True)\n      (act): SiLU(inplace=True)\n    )\n    (C3_p4): CSPLayer(\n      (conv1): BaseConv(\n        (conv): Conv2d(768, 192, kernel_size=(1, 1), stride=(1, 1), bias=False)\n        (bn): BatchNorm2d(192, eps=0.001, momentum=0.03, affine=True, track_running_stats=True)\n        (act): SiLU(inplace=True)\n      )\n      (conv2): BaseConv(\n        (conv): Conv2d(768, 192, kernel_size=(1, 1), stride=(1, 1), bias=False)\n        (bn): BatchNorm2d(192, eps=0.001, momentum=0.03, affine=True, track_running_stats=True)\n        (act): SiLU(inplace=True)\n      )\n      (conv3): BaseConv(\n        (conv): Conv2d(384, 384, kernel_size=(1, 1), stride=(1, 1), bias=False)\n        (bn): BatchNorm2d(384, eps=0.001, momentum=0.03, affine=True, track_running_stats=True)\n        (act): SiLU(inplace=True)\n      )\n      (m): Sequential(\n        (0): Bottleneck(\n          (conv1): BaseConv(\n            (conv): Conv2d(192, 192, kernel_size=(1, 1), stride=(1, 1), bias=False)\n            (bn): BatchNorm2d(192, eps=0.001, momentum=0.03, affine=True, track_running_stats=True)\n            (act): SiLU(inplace=True)\n          )\n          (conv2): BaseConv(\n            (conv): Conv2d(192, 192, kernel_size=(3, 3), stride=(1, 1), padding=(1, 1), bias=False)\n            (bn): BatchNorm2d(192, eps=0.001, momentum=0.03, affine=True, track_running_stats=True)\n            (act): SiLU(inplace=True)\n          )\n        )\n        (1): Bottleneck(\n          (conv1): BaseConv(\n            (conv): Conv2d(192, 192, kernel_size=(1, 1), stride=(1, 1), bias=False)\n            (bn): BatchNorm2d(192, eps=0.001, momentum=0.03, affine=True, track_running_stats=True)\n            (act): SiLU(inplace=True)\n          )\n          (conv2): BaseConv(\n            (conv): Conv2d(192, 192, kernel_size=(3, 3), stride=(1, 1), padding=(1, 1), bias=False)\n            (bn): BatchNorm2d(192, eps=0.001, momentum=0.03, affine=True, track_running_stats=True)\n            (act): SiLU(inplace=True)\n          )\n        )\n      )\n    )\n    (reduce_conv1): BaseConv(\n      (conv): Conv2d(384, 192, kernel_size=(1, 1), stride=(1, 1), bias=False)\n      (bn): BatchNorm2d(192, eps=0.001, momentum=0.03, affine=True, track_running_stats=True)\n      (act): SiLU(inplace=True)\n    )\n    (C3_p3): CSPLayer(\n      (conv1): BaseConv(\n        (conv): Conv2d(384, 96, kernel_size=(1, 1), stride=(1, 1), bias=False)\n        (bn): BatchNorm2d(96, eps=0.001, momentum=0.03, affine=True, track_running_stats=True)\n        (act): SiLU(inplace=True)\n      )\n      (conv2): BaseConv(\n        (conv): Conv2d(384, 96, kernel_size=(1, 1), stride=(1, 1), bias=False)\n        (bn): BatchNorm2d(96, eps=0.001, momentum=0.03, affine=True, track_running_stats=True)\n        (act): SiLU(inplace=True)\n      )\n      (conv3): BaseConv(\n        (conv): Conv2d(192, 192, kernel_size=(1, 1), stride=(1, 1), bias=False)\n        (bn): BatchNorm2d(192, eps=0.001, momentum=0.03, affine=True, track_running_stats=True)\n        (act): SiLU(inplace=True)\n      )\n      (m): Sequential(\n        (0): Bottleneck(\n          (conv1): BaseConv(\n            (conv): Conv2d(96, 96, kernel_size=(1, 1), stride=(1, 1), bias=False)\n            (bn): BatchNorm2d(96, eps=0.001, momentum=0.03, affine=True, track_running_stats=True)\n            (act): SiLU(inplace=True)\n          )\n          (conv2): BaseConv(\n            (conv): Conv2d(96, 96, kernel_size=(3, 3), stride=(1, 1), padding=(1, 1), bias=False)\n            (bn): BatchNorm2d(96, eps=0.001, momentum=0.03, affine=True, track_running_stats=True)\n            (act): SiLU(inplace=True)\n          )\n        )\n        (1): Bottleneck(\n          (conv1): BaseConv(\n            (conv): Conv2d(96, 96, kernel_size=(1, 1), stride=(1, 1), bias=False)\n            (bn): BatchNorm2d(96, eps=0.001, momentum=0.03, affine=True, track_running_stats=True)\n            (act): SiLU(inplace=True)\n          )\n          (conv2): BaseConv(\n            (conv): Conv2d(96, 96, kernel_size=(3, 3), stride=(1, 1), padding=(1, 1), bias=False)\n            (bn): BatchNorm2d(96, eps=0.001, momentum=0.03, affine=True, track_running_stats=True)\n            (act): SiLU(inplace=True)\n          )\n        )\n      )\n    )\n    (bu_conv2): BaseConv(\n      (conv): Conv2d(192, 192, kernel_size=(3, 3), stride=(2, 2), padding=(1, 1), bias=False)\n      (bn): BatchNorm2d(192, eps=0.001, momentum=0.03, affine=True, track_running_stats=True)\n      (act): SiLU(inplace=True)\n    )\n    (C3_n3): CSPLayer(\n      (conv1): BaseConv(\n        (conv): Conv2d(384, 192, kernel_size=(1, 1), stride=(1, 1), bias=False)\n        (bn): BatchNorm2d(192, eps=0.001, momentum=0.03, affine=True, track_running_stats=True)\n        (act): SiLU(inplace=True)\n      )\n      (conv2): BaseConv(\n        (conv): Conv2d(384, 192, kernel_size=(1, 1), stride=(1, 1), bias=False)\n        (bn): BatchNorm2d(192, eps=0.001, momentum=0.03, affine=True, track_running_stats=True)\n        (act): SiLU(inplace=True)\n      )\n      (conv3): BaseConv(\n        (conv): Conv2d(384, 384, kernel_size=(1, 1), stride=(1, 1), bias=False)\n        (bn): BatchNorm2d(384, eps=0.001, momentum=0.03, affine=True, track_running_stats=True)\n        (act): SiLU(inplace=True)\n      )\n      (m): Sequential(\n        (0): Bottleneck(\n          (conv1): BaseConv(\n            (conv): Conv2d(192, 192, kernel_size=(1, 1), stride=(1, 1), bias=False)\n            (bn): BatchNorm2d(192, eps=0.001, momentum=0.03, affine=True, track_running_stats=True)\n            (act): SiLU(inplace=True)\n          )\n          (conv2): BaseConv(\n            (conv): Conv2d(192, 192, kernel_size=(3, 3), stride=(1, 1), padding=(1, 1), bias=False)\n            (bn): BatchNorm2d(192, eps=0.001, momentum=0.03, affine=True, track_running_stats=True)\n            (act): SiLU(inplace=True)\n          )\n        )\n        (1): Bottleneck(\n          (conv1): BaseConv(\n            (conv): Conv2d(192, 192, kernel_size=(1, 1), stride=(1, 1), bias=False)\n            (bn): BatchNorm2d(192, eps=0.001, momentum=0.03, affine=True, track_running_stats=True)\n            (act): SiLU(inplace=True)\n          )\n          (conv2): BaseConv(\n            (conv): Conv2d(192, 192, kernel_size=(3, 3), stride=(1, 1), padding=(1, 1), bias=False)\n            (bn): BatchNorm2d(192, eps=0.001, momentum=0.03, affine=True, track_running_stats=True)\n            (act): SiLU(inplace=True)\n          )\n        )\n      )\n    )\n    (bu_conv1): BaseConv(\n      (conv): Conv2d(384, 384, kernel_size=(3, 3), stride=(2, 2), padding=(1, 1), bias=False)\n      (bn): BatchNorm2d(384, eps=0.001, momentum=0.03, affine=True, track_running_stats=True)\n      (act): SiLU(inplace=True)\n    )\n    (C3_n4): CSPLayer(\n      (conv1): BaseConv(\n        (conv): Conv2d(768, 384, kernel_size=(1, 1), stride=(1, 1), bias=False)\n        (bn): BatchNorm2d(384, eps=0.001, momentum=0.03, affine=True, track_running_stats=True)\n        (act): SiLU(inplace=True)\n      )\n      (conv2): BaseConv(\n        (conv): Conv2d(768, 384, kernel_size=(1, 1), stride=(1, 1), bias=False)\n        (bn): BatchNorm2d(384, eps=0.001, momentum=0.03, affine=True, track_running_stats=True)\n        (act): SiLU(inplace=True)\n      )\n      (conv3): BaseConv(\n        (conv): Conv2d(768, 768, kernel_size=(1, 1), stride=(1, 1), bias=False)\n        (bn): BatchNorm2d(768, eps=0.001, momentum=0.03, affine=True, track_running_stats=True)\n        (act): SiLU(inplace=True)\n      )\n      (m): Sequential(\n        (0): Bottleneck(\n          (conv1): BaseConv(\n            (conv): Conv2d(384, 384, kernel_size=(1, 1), stride=(1, 1), bias=False)\n            (bn): BatchNorm2d(384, eps=0.001, momentum=0.03, affine=True, track_running_stats=True)\n            (act): SiLU(inplace=True)\n          )\n          (conv2): BaseConv(\n            (conv): Conv2d(384, 384, kernel_size=(3, 3), stride=(1, 1), padding=(1, 1), bias=False)\n            (bn): BatchNorm2d(384, eps=0.001, momentum=0.03, affine=True, track_running_stats=True)\n            (act): SiLU(inplace=True)\n          )\n        )\n        (1): Bottleneck(\n          (conv1): BaseConv(\n            (conv): Conv2d(384, 384, kernel_size=(1, 1), stride=(1, 1), bias=False)\n            (bn): BatchNorm2d(384, eps=0.001, momentum=0.03, affine=True, track_running_stats=True)\n            (act): SiLU(inplace=True)\n          )\n          (conv2): BaseConv(\n            (conv): Conv2d(384, 384, kernel_size=(3, 3), stride=(1, 1), padding=(1, 1), bias=False)\n            (bn): BatchNorm2d(384, eps=0.001, momentum=0.03, affine=True, track_running_stats=True)\n            (act): SiLU(inplace=True)\n          )\n        )\n      )\n    )\n  )\n  (head): YOLOXHead(\n    (cls_convs): ModuleList(\n      (0-2): 3 x Sequential(\n        (0): BaseConv(\n          (conv): Conv2d(192, 192, kernel_size=(3, 3), stride=(1, 1), padding=(1, 1), bias=False)\n          (bn): BatchNorm2d(192, eps=0.001, momentum=0.03, affine=True, track_running_stats=True)\n          (act): SiLU(inplace=True)\n        )\n        (1): BaseConv(\n          (conv): Conv2d(192, 192, kernel_size=(3, 3), stride=(1, 1), padding=(1, 1), bias=False)\n          (bn): BatchNorm2d(192, eps=0.001, momentum=0.03, affine=True, track_running_stats=True)\n          (act): SiLU(inplace=True)\n        )\n      )\n    )\n    (reg_convs): ModuleList(\n      (0-2): 3 x Sequential(\n        (0): BaseConv(\n          (conv): Conv2d(192, 192, kernel_size=(3, 3), stride=(1, 1), padding=(1, 1), bias=False)\n          (bn): BatchNorm2d(192, eps=0.001, momentum=0.03, affine=True, track_running_stats=True)\n          (act): SiLU(inplace=True)\n        )\n        (1): BaseConv(\n          (conv): Conv2d(192, 192, kernel_size=(3, 3), stride=(1, 1), padding=(1, 1), bias=False)\n          (bn): BatchNorm2d(192, eps=0.001, momentum=0.03, affine=True, track_running_stats=True)\n          (act): SiLU(inplace=True)\n        )\n      )\n    )\n    (cls_preds): ModuleList(\n      (0-2): 3 x Conv2d(192, 1, kernel_size=(1, 1), stride=(1, 1))\n    )\n    (reg_preds): ModuleList(\n      (0-2): 3 x Conv2d(192, 4, kernel_size=(1, 1), stride=(1, 1))\n    )\n    (obj_preds): ModuleList(\n      (0-2): 3 x Conv2d(192, 1, kernel_size=(1, 1), stride=(1, 1))\n    )\n    (stems): ModuleList(\n      (0): BaseConv(\n        (conv): Conv2d(192, 192, kernel_size=(1, 1), stride=(1, 1), bias=False)\n        (bn): BatchNorm2d(192, eps=0.001, momentum=0.03, affine=True, track_running_stats=True)\n        (act): SiLU(inplace=True)\n      )\n      (1): BaseConv(\n        (conv): Conv2d(384, 192, kernel_size=(1, 1), stride=(1, 1), bias=False)\n        (bn): BatchNorm2d(192, eps=0.001, momentum=0.03, affine=True, track_running_stats=True)\n        (act): SiLU(inplace=True)\n      )\n      (2): BaseConv(\n        (conv): Conv2d(768, 192, kernel_size=(1, 1), stride=(1, 1), bias=False)\n        (bn): BatchNorm2d(192, eps=0.001, momentum=0.03, affine=True, track_running_stats=True)\n        (act): SiLU(inplace=True)\n      )\n    )\n    (l1_loss): L1Loss()\n    (bcewithlog_loss): BCEWithLogitsLoss()\n    (iou_loss): IOUloss()\n  )\n)\n2025-09-26 18:50:04 | INFO     | yolox.core.trainer:218 - ---> start train epoch1\n2025-09-26 18:50:04 | INFO     | yolox.core.trainer:221 - --->No mosaic aug now!\n2025-09-26 18:50:04 | INFO     | yolox.core.trainer:223 - --->Add additional L1 loss now!\n"
          ]
        },
        {
          "output_type": "stream",
          "name": "stderr",
          "text": [
            "2025-09-26 18:50:24 | INFO     | yolox.core.trainer:270 - epoch: 1/2, iter: 10/286, gpu mem: 6005Mb, mem: 38.7Gb, iter_time: 1.978s, data_time: 0.264s, total_loss: 20.0, iou_loss: 3.2, l1_loss: 1.9, conf_loss: 12.2, cls_loss: 2.7, lr: 3.056e-06, size: 640, ETA: 0:18:31\n"
          ]
        },
        {
          "output_type": "stream",
          "name": "stderr",
          "text": [
            "2025-09-26 18:50:43 | INFO     | yolox.core.trainer:270 - epoch: 1/2, iter: 20/286, gpu mem: 7238Mb, mem: 38.5Gb, iter_time: 1.947s, data_time: 0.273s, total_loss: 14.6, iou_loss: 3.6, l1_loss: 2.3, conf_loss: 6.5, cls_loss: 2.1, lr: 1.223e-05, size: 704, ETA: 0:18:03\n"
          ]
        },
        {
          "output_type": "stream",
          "name": "stderr",
          "text": [
            "2025-09-26 18:51:03 | INFO     | yolox.core.trainer:270 - epoch: 1/2, iter: 30/286, gpu mem: 9223Mb, mem: 38.4Gb, iter_time: 2.034s, data_time: 0.206s, total_loss: 12.7, iou_loss: 3.0, l1_loss: 2.0, conf_loss: 6.1, cls_loss: 1.6, lr: 2.751e-05, size: 800, ETA: 0:17:56\n"
          ]
        },
        {
          "output_type": "stream",
          "name": "stderr",
          "text": [
            "2025-09-26 18:51:19 | INFO     | yolox.core.trainer:270 - epoch: 1/2, iter: 40/286, gpu mem: 9223Mb, mem: 38.4Gb, iter_time: 1.547s, data_time: 0.321s, total_loss: 11.6, iou_loss: 3.5, l1_loss: 2.0, conf_loss: 5.0, cls_loss: 1.1, lr: 4.890e-05, size: 512, ETA: 0:16:38\n"
          ]
        },
        {
          "output_type": "stream",
          "name": "stderr",
          "text": [
            "2025-09-26 18:51:39 | INFO     | yolox.core.trainer:270 - epoch: 1/2, iter: 50/286, gpu mem: 9223Mb, mem: 38.3Gb, iter_time: 1.974s, data_time: 0.253s, total_loss: 11.4, iou_loss: 3.3, l1_loss: 1.8, conf_loss: 5.3, cls_loss: 0.9, lr: 7.641e-05, size: 672, ETA: 0:16:29\n"
          ]
        },
        {
          "output_type": "stream",
          "name": "stderr",
          "text": [
            "2025-09-26 18:51:46 | INFO     | yolox.core.trainer:270 - epoch: 1/2, iter: 60/286, gpu mem: 9223Mb, mem: 38.5Gb, iter_time: 0.720s, data_time: 0.403s, total_loss: 10.8, iou_loss: 3.3, l1_loss: 1.8, conf_loss: 4.9, cls_loss: 0.7, lr: 1.100e-04, size: 800, ETA: 0:14:30\n"
          ]
        },
        {
          "output_type": "stream",
          "name": "stderr",
          "text": [
            "2025-09-26 18:52:01 | INFO     | yolox.core.trainer:270 - epoch: 1/2, iter: 70/286, gpu mem: 9223Mb, mem: 38.4Gb, iter_time: 1.549s, data_time: 0.310s, total_loss: 10.8, iou_loss: 3.4, l1_loss: 1.7, conf_loss: 4.9, cls_loss: 0.8, lr: 1.498e-04, size: 544, ETA: 0:14:02\n"
          ]
        },
        {
          "output_type": "stream",
          "name": "stderr",
          "text": [
            "2025-09-26 18:52:09 | INFO     | yolox.core.trainer:270 - epoch: 1/2, iter: 80/286, gpu mem: 9223Mb, mem: 38.5Gb, iter_time: 0.774s, data_time: 0.459s, total_loss: 10.9, iou_loss: 3.2, l1_loss: 1.8, conf_loss: 5.0, cls_loss: 0.9, lr: 1.956e-04, size: 800, ETA: 0:12:50\n"
          ]
        },
        {
          "output_type": "stream",
          "name": "stderr",
          "text": [
            "2025-09-26 18:52:16 | INFO     | yolox.core.trainer:270 - epoch: 1/2, iter: 90/286, gpu mem: 9223Mb, mem: 38.5Gb, iter_time: 0.660s, data_time: 0.476s, total_loss: 10.5, iou_loss: 3.7, l1_loss: 1.9, conf_loss: 4.2, cls_loss: 0.8, lr: 2.476e-04, size: 544, ETA: 0:11:45\n"
          ]
        },
        {
          "output_type": "stream",
          "name": "stderr",
          "text": [
            "2025-09-26 18:52:23 | INFO     | yolox.core.trainer:270 - epoch: 1/2, iter: 100/286, gpu mem: 9223Mb, mem: 38.4Gb, iter_time: 0.717s, data_time: 0.483s, total_loss: 10.5, iou_loss: 3.4, l1_loss: 1.6, conf_loss: 4.7, cls_loss: 0.7, lr: 3.056e-04, size: 672, ETA: 0:10:56\n"
          ]
        },
        {
          "output_type": "stream",
          "name": "stderr",
          "text": [
            "2025-09-26 18:52:42 | INFO     | yolox.core.trainer:270 - epoch: 1/2, iter: 110/286, gpu mem: 9223Mb, mem: 38.5Gb, iter_time: 1.948s, data_time: 0.290s, total_loss: 9.9, iou_loss: 3.4, l1_loss: 1.5, conf_loss: 4.3, cls_loss: 0.7, lr: 3.698e-04, size: 608, ETA: 0:11:05\n"
          ]
        },
        {
          "output_type": "stream",
          "name": "stderr",
          "text": [
            "2025-09-26 18:52:49 | INFO     | yolox.core.trainer:270 - epoch: 1/2, iter: 120/286, gpu mem: 9223Mb, mem: 38.4Gb, iter_time: 0.671s, data_time: 0.416s, total_loss: 10.0, iou_loss: 3.4, l1_loss: 1.8, conf_loss: 4.0, cls_loss: 0.7, lr: 4.401e-04, size: 704, ETA: 0:10:22\n"
          ]
        },
        {
          "output_type": "stream",
          "name": "stderr",
          "text": [
            "2025-09-26 18:52:56 | INFO     | yolox.core.trainer:270 - epoch: 1/2, iter: 130/286, gpu mem: 9223Mb, mem: 38.4Gb, iter_time: 0.683s, data_time: 0.506s, total_loss: 10.2, iou_loss: 3.2, l1_loss: 1.5, conf_loss: 4.6, cls_loss: 0.8, lr: 5.165e-04, size: 544, ETA: 0:09:44\n"
          ]
        },
        {
          "output_type": "stream",
          "name": "stderr",
          "text": [
            "2025-09-26 18:53:16 | INFO     | yolox.core.trainer:270 - epoch: 1/2, iter: 140/286, gpu mem: 9223Mb, mem: 38.4Gb, iter_time: 1.982s, data_time: 0.331s, total_loss: 10.2, iou_loss: 3.4, l1_loss: 1.6, conf_loss: 4.6, cls_loss: 0.7, lr: 5.991e-04, size: 576, ETA: 0:09:51\n"
          ]
        },
        {
          "output_type": "stream",
          "name": "stderr",
          "text": [
            "2025-09-26 18:53:36 | INFO     | yolox.core.trainer:270 - epoch: 1/2, iter: 150/286, gpu mem: 9223Mb, mem: 38.5Gb, iter_time: 2.026s, data_time: 0.261s, total_loss: 11.4, iou_loss: 3.3, l1_loss: 1.7, conf_loss: 5.7, cls_loss: 0.7, lr: 6.877e-04, size: 768, ETA: 0:09:56\n"
          ]
        },
        {
          "output_type": "stream",
          "name": "stderr",
          "text": [
            "2025-09-26 18:53:51 | INFO     | yolox.core.trainer:270 - epoch: 1/2, iter: 160/286, gpu mem: 9223Mb, mem: 38.6Gb, iter_time: 1.520s, data_time: 0.315s, total_loss: 9.7, iou_loss: 3.1, l1_loss: 1.4, conf_loss: 4.3, cls_loss: 0.7, lr: 7.824e-04, size: 480, ETA: 0:09:45\n"
          ]
        },
        {
          "output_type": "stream",
          "name": "stderr",
          "text": [
            "2025-09-26 18:53:59 | INFO     | yolox.core.trainer:270 - epoch: 1/2, iter: 170/286, gpu mem: 9223Mb, mem: 38.6Gb, iter_time: 0.748s, data_time: 0.549s, total_loss: 9.8, iou_loss: 3.5, l1_loss: 1.6, conf_loss: 4.0, cls_loss: 0.7, lr: 8.833e-04, size: 608, ETA: 0:09:15\n"
          ]
        },
        {
          "output_type": "stream",
          "name": "stderr",
          "text": [
            "2025-09-26 18:54:17 | INFO     | yolox.core.trainer:270 - epoch: 1/2, iter: 180/286, gpu mem: 9223Mb, mem: 38.5Gb, iter_time: 1.881s, data_time: 0.174s, total_loss: 10.9, iou_loss: 3.6, l1_loss: 1.8, conf_loss: 4.9, cls_loss: 0.7, lr: 9.903e-04, size: 736, ETA: 0:09:12\n"
          ]
        },
        {
          "output_type": "stream",
          "name": "stderr",
          "text": [
            "2025-09-26 18:54:24 | INFO     | yolox.core.trainer:270 - epoch: 1/2, iter: 190/286, gpu mem: 9223Mb, mem: 38.4Gb, iter_time: 0.650s, data_time: 0.499s, total_loss: 9.3, iou_loss: 3.4, l1_loss: 1.5, conf_loss: 3.8, cls_loss: 0.7, lr: 1.103e-03, size: 480, ETA: 0:08:42\n"
          ]
        },
        {
          "output_type": "stream",
          "name": "stderr",
          "text": [
            "2025-09-26 18:54:31 | INFO     | yolox.core.trainer:270 - epoch: 1/2, iter: 200/286, gpu mem: 9223Mb, mem: 38.4Gb, iter_time: 0.700s, data_time: 0.551s, total_loss: 10.6, iou_loss: 3.5, l1_loss: 1.7, conf_loss: 4.7, cls_loss: 0.7, lr: 1.223e-03, size: 512, ETA: 0:08:16\n"
          ]
        },
        {
          "output_type": "stream",
          "name": "stderr",
          "text": [
            "2025-09-26 18:54:38 | INFO     | yolox.core.trainer:270 - epoch: 1/2, iter: 210/286, gpu mem: 9223Mb, mem: 38.6Gb, iter_time: 0.755s, data_time: 0.502s, total_loss: 10.1, iou_loss: 3.4, l1_loss: 1.6, conf_loss: 4.4, cls_loss: 0.7, lr: 1.348e-03, size: 704, ETA: 0:07:53\n"
          ]
        },
        {
          "output_type": "stream",
          "name": "stderr",
          "text": [
            "2025-09-26 18:54:46 | INFO     | yolox.core.trainer:270 - epoch: 1/2, iter: 220/286, gpu mem: 9223Mb, mem: 38.6Gb, iter_time: 0.787s, data_time: 0.498s, total_loss: 9.9, iou_loss: 3.2, l1_loss: 1.6, conf_loss: 4.4, cls_loss: 0.7, lr: 1.479e-03, size: 768, ETA: 0:07:32\n"
          ]
        },
        {
          "output_type": "stream",
          "name": "stderr",
          "text": [
            "2025-09-26 18:54:53 | INFO     | yolox.core.trainer:270 - epoch: 1/2, iter: 230/286, gpu mem: 9223Mb, mem: 38.7Gb, iter_time: 0.658s, data_time: 0.369s, total_loss: 10.2, iou_loss: 3.1, l1_loss: 1.6, conf_loss: 4.8, cls_loss: 0.7, lr: 1.617e-03, size: 768, ETA: 0:07:09\n"
          ]
        },
        {
          "output_type": "stream",
          "name": "stderr",
          "text": [
            "2025-09-26 18:54:59 | INFO     | yolox.core.trainer:270 - epoch: 1/2, iter: 240/286, gpu mem: 9223Mb, mem: 38.8Gb, iter_time: 0.639s, data_time: 0.365s, total_loss: 10.3, iou_loss: 3.4, l1_loss: 1.9, conf_loss: 4.3, cls_loss: 0.7, lr: 1.760e-03, size: 736, ETA: 0:06:48\n"
          ]
        },
        {
          "output_type": "stream",
          "name": "stderr",
          "text": [
            "2025-09-26 18:55:06 | INFO     | yolox.core.trainer:270 - epoch: 1/2, iter: 250/286, gpu mem: 9223Mb, mem: 38.7Gb, iter_time: 0.696s, data_time: 0.408s, total_loss: 10.3, iou_loss: 3.2, l1_loss: 1.6, conf_loss: 4.7, cls_loss: 0.7, lr: 1.910e-03, size: 768, ETA: 0:06:29\n"
          ]
        },
        {
          "output_type": "stream",
          "name": "stderr",
          "text": [
            "2025-09-26 18:55:13 | INFO     | yolox.core.trainer:270 - epoch: 1/2, iter: 260/286, gpu mem: 9223Mb, mem: 38.6Gb, iter_time: 0.680s, data_time: 0.515s, total_loss: 10.2, iou_loss: 3.4, l1_loss: 1.6, conf_loss: 4.5, cls_loss: 0.7, lr: 2.066e-03, size: 512, ETA: 0:06:11\n"
          ]
        },
        {
          "output_type": "stream",
          "name": "stderr",
          "text": [
            "2025-09-26 18:55:21 | INFO     | yolox.core.trainer:270 - epoch: 1/2, iter: 270/286, gpu mem: 9223Mb, mem: 38.5Gb, iter_time: 0.741s, data_time: 0.545s, total_loss: 10.2, iou_loss: 3.6, l1_loss: 1.7, conf_loss: 4.2, cls_loss: 0.7, lr: 2.228e-03, size: 608, ETA: 0:05:54\n"
          ]
        },
        {
          "output_type": "stream",
          "name": "stderr",
          "text": [
            "2025-09-26 18:55:28 | INFO     | yolox.core.trainer:270 - epoch: 1/2, iter: 280/286, gpu mem: 9223Mb, mem: 38.7Gb, iter_time: 0.717s, data_time: 0.505s, total_loss: 9.3, iou_loss: 3.2, l1_loss: 1.5, conf_loss: 4.0, cls_loss: 0.7, lr: 2.396e-03, size: 640, ETA: 0:05:37\n"
          ]
        },
        {
          "output_type": "stream",
          "name": "stderr",
          "text": [
            "2025-09-26 18:55:32 | INFO     | yolox.core.trainer:402 - Save weights to /var/lib/simon/agent_run_states/siim-covid19-detection-20250925-205912/yolox_outputs/yolox_m_fold_3\n"
          ]
        },
        {
          "output_type": "stream",
          "name": "stdout",
          "text": [
            "/var/lib/simon/agent_run_states/siim-covid19-detection-20250925-205912/YOLOX/yolox/core/trainer.py:106: FutureWarning: `torch.cuda.amp.autocast(args...)` is deprecated. Please use `torch.amp.autocast('cuda', args...)` instead.\n  with torch.cuda.amp.autocast(enabled=self.amp_training):\n/var/lib/simon/agent_run_states/siim-covid19-detection-20250925-205912/YOLOX/yolox/models/yolo_head.py:474: FutureWarning: `torch.cuda.amp.autocast(args...)` is deprecated. Please use `torch.amp.autocast('cuda', args...)` instead.\n  with torch.cuda.amp.autocast(enabled=False):\n\r  0%|          | 0/71 [00:00<?, ?it/s]"
          ]
        },
        {
          "output_type": "stream",
          "name": "stdout",
          "text": [
            "\r  1%|1         | 1/71 [00:05<06:13,  5.34s/it]\r  3%|2         | 2/71 [00:05<02:36,  2.27s/it]"
          ]
        },
        {
          "output_type": "stream",
          "name": "stdout",
          "text": [
            "\r  4%|4         | 3/71 [00:05<01:31,  1.34s/it]\r  6%|5         | 4/71 [00:05<00:57,  1.17it/s]"
          ]
        },
        {
          "output_type": "stream",
          "name": "stdout",
          "text": [
            "\r  7%|7         | 5/71 [00:05<00:38,  1.70it/s]"
          ]
        },
        {
          "output_type": "stream",
          "name": "stdout",
          "text": [
            "\r  8%|8         | 6/71 [00:06<00:47,  1.36it/s]"
          ]
        },
        {
          "output_type": "stream",
          "name": "stdout",
          "text": [
            "\r 10%|9         | 7/71 [00:07<00:36,  1.75it/s]"
          ]
        },
        {
          "output_type": "stream",
          "name": "stdout",
          "text": [
            "\r 11%|#1        | 8/71 [00:08<00:48,  1.29it/s]\r 13%|#2        | 9/71 [00:08<00:35,  1.76it/s]"
          ]
        },
        {
          "output_type": "stream",
          "name": "stdout",
          "text": [
            "\r 14%|#4        | 10/71 [00:09<00:45,  1.33it/s]\r 15%|#5        | 11/71 [00:09<00:33,  1.78it/s]"
          ]
        },
        {
          "output_type": "stream",
          "name": "stdout",
          "text": [
            "\r 17%|#6        | 12/71 [00:11<00:50,  1.17it/s]\r 18%|#8        | 13/71 [00:11<00:36,  1.58it/s]"
          ]
        },
        {
          "output_type": "stream",
          "name": "stdout",
          "text": [
            "\r 20%|#9        | 14/71 [00:12<00:47,  1.19it/s]\r 21%|##1       | 15/71 [00:12<00:34,  1.61it/s]"
          ]
        },
        {
          "output_type": "stream",
          "name": "stdout",
          "text": [
            "\r 23%|##2       | 16/71 [00:14<00:48,  1.14it/s]\r 24%|##3       | 17/71 [00:14<00:34,  1.55it/s]"
          ]
        },
        {
          "output_type": "stream",
          "name": "stdout",
          "text": [
            "\r 25%|##5       | 18/71 [00:15<00:42,  1.25it/s]\r 27%|##6       | 19/71 [00:15<00:30,  1.69it/s]"
          ]
        },
        {
          "output_type": "stream",
          "name": "stdout",
          "text": [
            "\r 28%|##8       | 20/71 [00:16<00:39,  1.28it/s]\r 30%|##9       | 21/71 [00:17<00:28,  1.73it/s]"
          ]
        },
        {
          "output_type": "stream",
          "name": "stdout",
          "text": [
            "\r 31%|###       | 22/71 [00:18<00:36,  1.34it/s]\r 32%|###2      | 23/71 [00:18<00:26,  1.79it/s]"
          ]
        },
        {
          "output_type": "stream",
          "name": "stdout",
          "text": [
            "\r 34%|###3      | 24/71 [00:19<00:34,  1.37it/s]\r 35%|###5      | 25/71 [00:19<00:25,  1.84it/s]"
          ]
        },
        {
          "output_type": "stream",
          "name": "stdout",
          "text": [
            "\r 37%|###6      | 26/71 [00:20<00:31,  1.44it/s]\r 38%|###8      | 27/71 [00:20<00:23,  1.85it/s]"
          ]
        },
        {
          "output_type": "stream",
          "name": "stdout",
          "text": [
            "\r 39%|###9      | 28/71 [00:22<00:34,  1.23it/s]\r 41%|####      | 29/71 [00:22<00:26,  1.59it/s]"
          ]
        },
        {
          "output_type": "stream",
          "name": "stdout",
          "text": [
            "\r 42%|####2     | 30/71 [00:23<00:32,  1.26it/s]\r 44%|####3     | 31/71 [00:23<00:23,  1.70it/s]"
          ]
        },
        {
          "output_type": "stream",
          "name": "stdout",
          "text": [
            "\r 45%|####5     | 32/71 [00:24<00:29,  1.34it/s]\r 46%|####6     | 33/71 [00:24<00:21,  1.73it/s]"
          ]
        },
        {
          "output_type": "stream",
          "name": "stdout",
          "text": [
            "\r 48%|####7     | 34/71 [00:26<00:27,  1.34it/s]"
          ]
        },
        {
          "output_type": "stream",
          "name": "stdout",
          "text": [
            "\r 49%|####9     | 35/71 [00:26<00:22,  1.62it/s]"
          ]
        },
        {
          "output_type": "stream",
          "name": "stdout",
          "text": [
            "\r 51%|#####     | 36/71 [00:27<00:25,  1.36it/s]\r 52%|#####2    | 37/71 [00:27<00:19,  1.77it/s]"
          ]
        },
        {
          "output_type": "stream",
          "name": "stdout",
          "text": [
            "\r 54%|#####3    | 38/71 [00:28<00:24,  1.37it/s]"
          ]
        },
        {
          "output_type": "stream",
          "name": "stdout",
          "text": [
            "\r 55%|#####4    | 39/71 [00:28<00:18,  1.73it/s]"
          ]
        },
        {
          "output_type": "stream",
          "name": "stdout",
          "text": [
            "\r 56%|#####6    | 40/71 [00:30<00:23,  1.30it/s]\r 58%|#####7    | 41/71 [00:30<00:17,  1.75it/s]"
          ]
        },
        {
          "output_type": "stream",
          "name": "stdout",
          "text": [
            "\r 59%|#####9    | 42/71 [00:31<00:22,  1.29it/s]\r 61%|######    | 43/71 [00:31<00:16,  1.73it/s]"
          ]
        },
        {
          "output_type": "stream",
          "name": "stdout",
          "text": [
            "\r 62%|######1   | 44/71 [00:32<00:20,  1.34it/s]\r 63%|######3   | 45/71 [00:32<00:14,  1.80it/s]"
          ]
        },
        {
          "output_type": "stream",
          "name": "stdout",
          "text": [
            "\r 65%|######4   | 46/71 [00:34<00:19,  1.31it/s]\r 66%|######6   | 47/71 [00:34<00:13,  1.76it/s]"
          ]
        },
        {
          "output_type": "stream",
          "name": "stdout",
          "text": [
            "\r 68%|######7   | 48/71 [00:35<00:18,  1.22it/s]\r 69%|######9   | 49/71 [00:35<00:13,  1.65it/s]"
          ]
        },
        {
          "output_type": "stream",
          "name": "stdout",
          "text": [
            "\r 70%|#######   | 50/71 [00:37<00:17,  1.18it/s]\r 72%|#######1  | 51/71 [00:37<00:12,  1.59it/s]"
          ]
        },
        {
          "output_type": "stream",
          "name": "stdout",
          "text": [
            "\r 73%|#######3  | 52/71 [00:38<00:17,  1.10it/s]\r 75%|#######4  | 53/71 [00:38<00:12,  1.49it/s]"
          ]
        },
        {
          "output_type": "stream",
          "name": "stdout",
          "text": [
            "\r 76%|#######6  | 54/71 [00:40<00:14,  1.17it/s]\r 77%|#######7  | 55/71 [00:40<00:10,  1.59it/s]"
          ]
        },
        {
          "output_type": "stream",
          "name": "stdout",
          "text": [
            "\r 79%|#######8  | 56/71 [00:41<00:11,  1.31it/s]\r 80%|########  | 57/71 [00:41<00:07,  1.76it/s]"
          ]
        },
        {
          "output_type": "stream",
          "name": "stdout",
          "text": [
            "\r 82%|########1 | 58/71 [00:42<00:09,  1.35it/s]\r 83%|########3 | 59/71 [00:42<00:06,  1.81it/s]"
          ]
        },
        {
          "output_type": "stream",
          "name": "stdout",
          "text": [
            "\r 85%|########4 | 60/71 [00:44<00:09,  1.17it/s]\r 86%|########5 | 61/71 [00:44<00:06,  1.59it/s]"
          ]
        },
        {
          "output_type": "stream",
          "name": "stdout",
          "text": [
            "\r 87%|########7 | 62/71 [00:45<00:07,  1.19it/s]\r 89%|########8 | 63/71 [00:45<00:04,  1.60it/s]"
          ]
        },
        {
          "output_type": "stream",
          "name": "stdout",
          "text": [
            "\r 90%|######### | 64/71 [00:47<00:06,  1.14it/s]\r 92%|#########1| 65/71 [00:47<00:03,  1.54it/s]"
          ]
        },
        {
          "output_type": "stream",
          "name": "stdout",
          "text": [
            "\r 93%|#########2| 66/71 [00:48<00:04,  1.15it/s]\r 94%|#########4| 67/71 [00:49<00:02,  1.56it/s]"
          ]
        },
        {
          "output_type": "stream",
          "name": "stdout",
          "text": [
            "\r 96%|#########5| 68/71 [00:50<00:02,  1.21it/s]\r 97%|#########7| 69/71 [00:50<00:01,  1.64it/s]"
          ]
        },
        {
          "output_type": "stream",
          "name": "stdout",
          "text": [
            "\r 99%|#########8| 70/71 [00:51<00:00,  1.26it/s]"
          ]
        },
        {
          "output_type": "stream",
          "name": "stdout",
          "text": [
            "\r100%|##########| 71/71 [00:54<00:00,  1.43s/it]\r100%|##########| 71/71 [00:54<00:00,  1.30it/s]"
          ]
        },
        {
          "output_type": "stream",
          "name": "stderr",
          "text": [
            "2025-09-26 18:56:27 | INFO     | yolox.evaluators.coco_evaluator:259 - Evaluate in main process...\n"
          ]
        },
        {
          "output_type": "stream",
          "name": "stderr",
          "text": [
            "2025-09-26 18:56:28 | INFO     | yolox.evaluators.coco_evaluator:292 - Loading and preparing results...\n"
          ]
        },
        {
          "output_type": "stream",
          "name": "stderr",
          "text": [
            "2025-09-26 18:56:28 | INFO     | yolox.evaluators.coco_evaluator:292 - DONE (t=0.23s)\n2025-09-26 18:56:28 | INFO     | pycocotools.coco:379 - creating index...\n2025-09-26 18:56:28 | INFO     | pycocotools.coco:379 - index created!\n2025-09-26 18:56:28 | INFO     | yolox.evaluators.coco_evaluator:301 - Running per image evaluation...\n2025-09-26 18:56:28 | INFO     | yolox.evaluators.coco_evaluator:301 - Evaluate annotation type *bbox*\n"
          ]
        },
        {
          "output_type": "stream",
          "name": "stderr",
          "text": [
            "2025-09-26 18:56:29 | INFO     | yolox.evaluators.coco_evaluator:301 - DONE (t=1.22s).\n2025-09-26 18:56:29 | INFO     | yolox.evaluators.coco_evaluator:302 - Accumulating evaluation results...\n2025-09-26 18:56:29 | INFO     | yolox.evaluators.coco_evaluator:302 - DONE (t=0.17s).\n2025-09-26 18:56:29 | INFO     | yolox.core.trainer:381 - \nAverage forward time: 8.72 ms, Average NMS time: 0.48 ms, Average inference time: 9.19 ms\n Average Precision  (AP) @[ IoU=0.50:0.95 | area=   all | maxDets=100 ] = 0.015\n Average Precision  (AP) @[ IoU=0.50      | area=   all | maxDets=100 ] = 0.062\n Average Precision  (AP) @[ IoU=0.75      | area=   all | maxDets=100 ] = 0.001\n Average Precision  (AP) @[ IoU=0.50:0.95 | area= small | maxDets=100 ] = -1.000\n Average Precision  (AP) @[ IoU=0.50:0.95 | area=medium | maxDets=100 ] = -1.000\n Average Precision  (AP) @[ IoU=0.50:0.95 | area= large | maxDets=100 ] = 0.015\n Average Recall     (AR) @[ IoU=0.50:0.95 | area=   all | maxDets=  1 ] = 0.033\n Average Recall     (AR) @[ IoU=0.50:0.95 | area=   all | maxDets= 10 ] = 0.141\n Average Recall     (AR) @[ IoU=0.50:0.95 | area=   all | maxDets=100 ] = 0.247\n Average Recall     (AR) @[ IoU=0.50:0.95 | area= small | maxDets=100 ] = -1.000\n Average Recall     (AR) @[ IoU=0.50:0.95 | area=medium | maxDets=100 ] = -1.000\n Average Recall     (AR) @[ IoU=0.50:0.95 | area= large | maxDets=100 ] = 0.247\nper class AP:\n| class   | AP    |\n|:--------|:------|\n| opacity | 1.455 |\nper class AR:\n| class   | AR     |\n|:--------|:-------|\n| opacity | 24.657 |\n\n2025-09-26 18:56:29 | INFO     | yolox.core.trainer:402 - Save weights to /var/lib/simon/agent_run_states/siim-covid19-detection-20250925-205912/yolox_outputs/yolox_m_fold_3\n"
          ]
        },
        {
          "output_type": "stream",
          "name": "stderr",
          "text": [
            "2025-09-26 18:56:30 | INFO     | yolox.core.trainer:402 - Save weights to /var/lib/simon/agent_run_states/siim-covid19-detection-20250925-205912/yolox_outputs/yolox_m_fold_3\n"
          ]
        },
        {
          "output_type": "stream",
          "name": "stderr",
          "text": [
            "2025-09-26 18:56:30 | INFO     | yolox.core.trainer:218 - ---> start train epoch2\n2025-09-26 18:56:30 | INFO     | yolox.core.trainer:221 - --->No mosaic aug now!\n2025-09-26 18:56:30 | INFO     | yolox.core.trainer:223 - --->Add additional L1 loss now!\n"
          ]
        },
        {
          "output_type": "stream",
          "name": "stderr",
          "text": [
            "2025-09-26 18:56:35 | INFO     | yolox.core.trainer:270 - epoch: 2/2, iter: 10/286, gpu mem: 11174Mb, mem: 39.2Gb, iter_time: 0.488s, data_time: 0.248s, total_loss: 11.1, iou_loss: 3.6, l1_loss: 1.8, conf_loss: 5.1, cls_loss: 0.7, lr: 1.250e-04, size: 736, ETA: 0:05:10\n"
          ]
        },
        {
          "output_type": "stream",
          "name": "stderr",
          "text": [
            "2025-09-26 18:56:42 | INFO     | yolox.core.trainer:270 - epoch: 2/2, iter: 20/286, gpu mem: 11174Mb, mem: 39.3Gb, iter_time: 0.696s, data_time: 0.491s, total_loss: 9.9, iou_loss: 3.2, l1_loss: 1.5, conf_loss: 4.6, cls_loss: 0.7, lr: 1.250e-04, size: 480, ETA: 0:04:55\n"
          ]
        },
        {
          "output_type": "stream",
          "name": "stderr",
          "text": [
            "2025-09-26 18:56:49 | INFO     | yolox.core.trainer:270 - epoch: 2/2, iter: 30/286, gpu mem: 11174Mb, mem: 39.2Gb, iter_time: 0.723s, data_time: 0.567s, total_loss: 11.0, iou_loss: 3.4, l1_loss: 1.6, conf_loss: 5.1, cls_loss: 0.7, lr: 1.250e-04, size: 544, ETA: 0:04:41\n"
          ]
        },
        {
          "output_type": "stream",
          "name": "stderr",
          "text": [
            "2025-09-26 18:56:56 | INFO     | yolox.core.trainer:270 - epoch: 2/2, iter: 40/286, gpu mem: 11174Mb, mem: 39.2Gb, iter_time: 0.757s, data_time: 0.527s, total_loss: 10.9, iou_loss: 3.3, l1_loss: 1.6, conf_loss: 5.4, cls_loss: 0.7, lr: 1.250e-04, size: 736, ETA: 0:04:27\n"
          ]
        },
        {
          "output_type": "stream",
          "name": "stderr",
          "text": [
            "2025-09-26 18:57:03 | INFO     | yolox.core.trainer:270 - epoch: 2/2, iter: 50/286, gpu mem: 11174Mb, mem: 39.4Gb, iter_time: 0.669s, data_time: 0.373s, total_loss: 11.3, iou_loss: 3.6, l1_loss: 1.8, conf_loss: 5.1, cls_loss: 0.7, lr: 1.250e-04, size: 800, ETA: 0:04:14\n"
          ]
        },
        {
          "output_type": "stream",
          "name": "stderr",
          "text": [
            "2025-09-26 18:57:10 | INFO     | yolox.core.trainer:270 - epoch: 2/2, iter: 60/286, gpu mem: 11174Mb, mem: 39.2Gb, iter_time: 0.722s, data_time: 0.431s, total_loss: 10.4, iou_loss: 3.4, l1_loss: 1.8, conf_loss: 4.5, cls_loss: 0.7, lr: 1.250e-04, size: 736, ETA: 0:04:01\n"
          ]
        },
        {
          "output_type": "stream",
          "name": "stderr",
          "text": [
            "2025-09-26 18:57:18 | INFO     | yolox.core.trainer:270 - epoch: 2/2, iter: 70/286, gpu mem: 11174Mb, mem: 39.1Gb, iter_time: 0.749s, data_time: 0.478s, total_loss: 9.0, iou_loss: 2.9, l1_loss: 1.5, conf_loss: 4.0, cls_loss: 0.7, lr: 1.250e-04, size: 736, ETA: 0:03:48\n"
          ]
        },
        {
          "output_type": "stream",
          "name": "stderr",
          "text": [
            "2025-09-26 18:57:25 | INFO     | yolox.core.trainer:270 - epoch: 2/2, iter: 80/286, gpu mem: 11174Mb, mem: 39.3Gb, iter_time: 0.765s, data_time: 0.504s, total_loss: 9.9, iou_loss: 3.1, l1_loss: 1.5, conf_loss: 4.7, cls_loss: 0.7, lr: 1.250e-04, size: 704, ETA: 0:03:36\n"
          ]
        },
        {
          "output_type": "stream",
          "name": "stderr",
          "text": [
            "2025-09-26 18:57:33 | INFO     | yolox.core.trainer:270 - epoch: 2/2, iter: 90/286, gpu mem: 11174Mb, mem: 39.5Gb, iter_time: 0.713s, data_time: 0.462s, total_loss: 10.0, iou_loss: 3.2, l1_loss: 1.7, conf_loss: 4.5, cls_loss: 0.7, lr: 1.250e-04, size: 704, ETA: 0:03:23\n"
          ]
        },
        {
          "output_type": "stream",
          "name": "stderr",
          "text": [
            "2025-09-26 18:57:40 | INFO     | yolox.core.trainer:270 - epoch: 2/2, iter: 100/286, gpu mem: 11174Mb, mem: 39.5Gb, iter_time: 0.736s, data_time: 0.541s, total_loss: 10.3, iou_loss: 3.3, l1_loss: 1.6, conf_loss: 4.7, cls_loss: 0.7, lr: 1.250e-04, size: 480, ETA: 0:03:12\n"
          ]
        },
        {
          "output_type": "stream",
          "name": "stderr",
          "text": [
            "2025-09-26 18:57:47 | INFO     | yolox.core.trainer:270 - epoch: 2/2, iter: 110/286, gpu mem: 11174Mb, mem: 39.5Gb, iter_time: 0.728s, data_time: 0.583s, total_loss: 10.2, iou_loss: 3.4, l1_loss: 1.6, conf_loss: 4.5, cls_loss: 0.7, lr: 1.250e-04, size: 512, ETA: 0:03:00\n"
          ]
        },
        {
          "output_type": "stream",
          "name": "stderr",
          "text": [
            "2025-09-26 18:57:55 | INFO     | yolox.core.trainer:270 - epoch: 2/2, iter: 120/286, gpu mem: 11174Mb, mem: 39.4Gb, iter_time: 0.775s, data_time: 0.595s, total_loss: 9.7, iou_loss: 3.4, l1_loss: 1.7, conf_loss: 4.0, cls_loss: 0.7, lr: 1.250e-04, size: 608, ETA: 0:02:49\n"
          ]
        },
        {
          "output_type": "stream",
          "name": "stderr",
          "text": [
            "2025-09-26 18:58:02 | INFO     | yolox.core.trainer:270 - epoch: 2/2, iter: 130/286, gpu mem: 11174Mb, mem: 39.3Gb, iter_time: 0.669s, data_time: 0.427s, total_loss: 10.3, iou_loss: 3.4, l1_loss: 1.6, conf_loss: 4.6, cls_loss: 0.7, lr: 1.250e-04, size: 736, ETA: 0:02:37\n"
          ]
        },
        {
          "output_type": "stream",
          "name": "stderr",
          "text": [
            "2025-09-26 18:58:09 | INFO     | yolox.core.trainer:270 - epoch: 2/2, iter: 140/286, gpu mem: 11174Mb, mem: 39.3Gb, iter_time: 0.721s, data_time: 0.487s, total_loss: 11.0, iou_loss: 3.3, l1_loss: 1.6, conf_loss: 5.4, cls_loss: 0.7, lr: 1.250e-04, size: 608, ETA: 0:02:26\n"
          ]
        },
        {
          "output_type": "stream",
          "name": "stderr",
          "text": [
            "2025-09-26 18:58:16 | INFO     | yolox.core.trainer:270 - epoch: 2/2, iter: 150/286, gpu mem: 11174Mb, mem: 39.2Gb, iter_time: 0.755s, data_time: 0.503s, total_loss: 9.7, iou_loss: 3.4, l1_loss: 1.6, conf_loss: 4.0, cls_loss: 0.7, lr: 1.250e-04, size: 768, ETA: 0:02:15\n"
          ]
        },
        {
          "output_type": "stream",
          "name": "stderr",
          "text": [
            "2025-09-26 18:58:24 | INFO     | yolox.core.trainer:270 - epoch: 2/2, iter: 160/286, gpu mem: 11174Mb, mem: 39.2Gb, iter_time: 0.729s, data_time: 0.441s, total_loss: 11.2, iou_loss: 3.4, l1_loss: 1.7, conf_loss: 5.4, cls_loss: 0.7, lr: 1.250e-04, size: 768, ETA: 0:02:04\n"
          ]
        },
        {
          "output_type": "stream",
          "name": "stderr",
          "text": [
            "2025-09-26 18:58:30 | INFO     | yolox.core.trainer:270 - epoch: 2/2, iter: 170/286, gpu mem: 11174Mb, mem: 39.4Gb, iter_time: 0.650s, data_time: 0.396s, total_loss: 8.4, iou_loss: 2.9, l1_loss: 1.5, conf_loss: 3.4, cls_loss: 0.7, lr: 1.250e-04, size: 640, ETA: 0:01:54\n"
          ]
        },
        {
          "output_type": "stream",
          "name": "stderr",
          "text": [
            "2025-09-26 18:58:37 | INFO     | yolox.core.trainer:270 - epoch: 2/2, iter: 180/286, gpu mem: 11174Mb, mem: 39.5Gb, iter_time: 0.705s, data_time: 0.446s, total_loss: 9.7, iou_loss: 3.0, l1_loss: 1.6, conf_loss: 4.4, cls_loss: 0.7, lr: 1.250e-04, size: 768, ETA: 0:01:43\n"
          ]
        },
        {
          "output_type": "stream",
          "name": "stderr",
          "text": [
            "2025-09-26 18:58:45 | INFO     | yolox.core.trainer:270 - epoch: 2/2, iter: 190/286, gpu mem: 11174Mb, mem: 39.5Gb, iter_time: 0.734s, data_time: 0.447s, total_loss: 8.9, iou_loss: 2.9, l1_loss: 1.5, conf_loss: 3.7, cls_loss: 0.7, lr: 1.250e-04, size: 768, ETA: 0:01:33\n"
          ]
        },
        {
          "output_type": "stream",
          "name": "stderr",
          "text": [
            "2025-09-26 18:58:52 | INFO     | yolox.core.trainer:270 - epoch: 2/2, iter: 200/286, gpu mem: 11174Mb, mem: 39.4Gb, iter_time: 0.749s, data_time: 0.498s, total_loss: 10.2, iou_loss: 3.2, l1_loss: 1.7, conf_loss: 4.6, cls_loss: 0.7, lr: 1.250e-04, size: 608, ETA: 0:01:23\n"
          ]
        },
        {
          "output_type": "stream",
          "name": "stderr",
          "text": [
            "2025-09-26 18:59:00 | INFO     | yolox.core.trainer:270 - epoch: 2/2, iter: 210/286, gpu mem: 11174Mb, mem: 39.3Gb, iter_time: 0.744s, data_time: 0.514s, total_loss: 10.1, iou_loss: 3.3, l1_loss: 1.7, conf_loss: 4.4, cls_loss: 0.7, lr: 1.250e-04, size: 704, ETA: 0:01:13\n"
          ]
        },
        {
          "output_type": "stream",
          "name": "stderr",
          "text": [
            "2025-09-26 18:59:07 | INFO     | yolox.core.trainer:270 - epoch: 2/2, iter: 220/286, gpu mem: 11174Mb, mem: 39.2Gb, iter_time: 0.735s, data_time: 0.470s, total_loss: 9.0, iou_loss: 3.1, l1_loss: 1.6, conf_loss: 3.6, cls_loss: 0.7, lr: 1.250e-04, size: 736, ETA: 0:01:03\n"
          ]
        },
        {
          "output_type": "stream",
          "name": "stderr",
          "text": [
            "2025-09-26 18:59:14 | INFO     | yolox.core.trainer:270 - epoch: 2/2, iter: 230/286, gpu mem: 11174Mb, mem: 39.1Gb, iter_time: 0.736s, data_time: 0.528s, total_loss: 9.3, iou_loss: 3.1, l1_loss: 1.5, conf_loss: 4.1, cls_loss: 0.7, lr: 1.250e-04, size: 512, ETA: 0:00:53\n"
          ]
        },
        {
          "output_type": "stream",
          "name": "stderr",
          "text": [
            "2025-09-26 18:59:22 | INFO     | yolox.core.trainer:270 - epoch: 2/2, iter: 240/286, gpu mem: 11174Mb, mem: 39.1Gb, iter_time: 0.727s, data_time: 0.504s, total_loss: 9.7, iou_loss: 3.2, l1_loss: 1.6, conf_loss: 4.2, cls_loss: 0.7, lr: 1.250e-04, size: 736, ETA: 0:00:43\n"
          ]
        },
        {
          "output_type": "stream",
          "name": "stderr",
          "text": [
            "2025-09-26 18:59:28 | INFO     | yolox.core.trainer:270 - epoch: 2/2, iter: 250/286, gpu mem: 11174Mb, mem: 39.3Gb, iter_time: 0.687s, data_time: 0.467s, total_loss: 9.9, iou_loss: 3.4, l1_loss: 1.6, conf_loss: 4.2, cls_loss: 0.7, lr: 1.250e-04, size: 544, ETA: 0:00:34\n"
          ]
        },
        {
          "output_type": "stream",
          "name": "stderr",
          "text": [
            "2025-09-26 18:59:35 | INFO     | yolox.core.trainer:270 - epoch: 2/2, iter: 260/286, gpu mem: 11174Mb, mem: 39.3Gb, iter_time: 0.676s, data_time: 0.437s, total_loss: 10.9, iou_loss: 3.4, l1_loss: 1.8, conf_loss: 4.9, cls_loss: 0.7, lr: 1.250e-04, size: 768, ETA: 0:00:24\n"
          ]
        },
        {
          "output_type": "stream",
          "name": "stderr",
          "text": [
            "2025-09-26 18:59:42 | INFO     | yolox.core.trainer:270 - epoch: 2/2, iter: 270/286, gpu mem: 11174Mb, mem: 39.4Gb, iter_time: 0.699s, data_time: 0.482s, total_loss: 11.0, iou_loss: 3.5, l1_loss: 1.7, conf_loss: 5.1, cls_loss: 0.7, lr: 1.250e-04, size: 512, ETA: 0:00:14\n"
          ]
        },
        {
          "output_type": "stream",
          "name": "stderr",
          "text": [
            "2025-09-26 18:59:49 | INFO     | yolox.core.trainer:270 - epoch: 2/2, iter: 280/286, gpu mem: 11174Mb, mem: 39.3Gb, iter_time: 0.704s, data_time: 0.494s, total_loss: 9.7, iou_loss: 3.1, l1_loss: 1.5, conf_loss: 4.4, cls_loss: 0.7, lr: 1.250e-04, size: 704, ETA: 0:00:05\n"
          ]
        },
        {
          "output_type": "stream",
          "name": "stderr",
          "text": [
            "2025-09-26 18:59:53 | INFO     | yolox.core.trainer:402 - Save weights to /var/lib/simon/agent_run_states/siim-covid19-detection-20250925-205912/yolox_outputs/yolox_m_fold_3\n"
          ]
        },
        {
          "output_type": "stream",
          "name": "stdout",
          "text": [
            "\n/var/lib/simon/agent_run_states/siim-covid19-detection-20250925-205912/YOLOX/yolox/evaluators/coco_evaluator.py:189: UserWarning: The torch.cuda.*DtypeTensor constructors are no longer recommended. It's best to use methods such as torch.tensor(data, dtype=*, device='cuda') to create tensors. (Triggered internally at /pytorch/torch/csrc/tensor/python_tensor.cpp:78.)\n  statistics = torch.cuda.FloatTensor([inference_time, nms_time, n_samples])\n\r  0%|          | 0/71 [00:00<?, ?it/s]"
          ]
        },
        {
          "output_type": "stream",
          "name": "stdout",
          "text": [
            "\r  1%|1         | 1/71 [00:01<02:08,  1.84s/it]\r  3%|2         | 2/71 [00:01<00:56,  1.22it/s]"
          ]
        },
        {
          "output_type": "stream",
          "name": "stdout",
          "text": [
            "\r  4%|4         | 3/71 [00:03<01:10,  1.04s/it]\r  6%|5         | 4/71 [00:03<00:45,  1.48it/s]"
          ]
        },
        {
          "output_type": "stream",
          "name": "stdout",
          "text": [
            "\r  7%|7         | 5/71 [00:04<00:57,  1.15it/s]\r  8%|8         | 6/71 [00:04<00:39,  1.63it/s]"
          ]
        },
        {
          "output_type": "stream",
          "name": "stdout",
          "text": [
            "\r 10%|9         | 7/71 [00:06<00:56,  1.13it/s]\r 11%|#1        | 8/71 [00:06<00:40,  1.56it/s]"
          ]
        },
        {
          "output_type": "stream",
          "name": "stdout",
          "text": [
            "\r 13%|#2        | 9/71 [00:07<00:47,  1.31it/s]\r 14%|#4        | 10/71 [00:07<00:34,  1.78it/s]"
          ]
        },
        {
          "output_type": "stream",
          "name": "stdout",
          "text": [
            "\r 15%|#5        | 11/71 [00:08<00:47,  1.25it/s]\r 17%|#6        | 12/71 [00:08<00:34,  1.70it/s]"
          ]
        },
        {
          "output_type": "stream",
          "name": "stdout",
          "text": [
            "\r 18%|#8        | 13/71 [00:10<00:46,  1.25it/s]\r 20%|#9        | 14/71 [00:10<00:33,  1.69it/s]"
          ]
        },
        {
          "output_type": "stream",
          "name": "stdout",
          "text": [
            "\r 21%|##1       | 15/71 [00:11<00:42,  1.32it/s]"
          ]
        },
        {
          "output_type": "stream",
          "name": "stdout",
          "text": [
            "\r 23%|##2       | 16/71 [00:11<00:34,  1.58it/s]"
          ]
        },
        {
          "output_type": "stream",
          "name": "stdout",
          "text": [
            "\r 24%|##3       | 17/71 [00:12<00:39,  1.35it/s]"
          ]
        },
        {
          "output_type": "stream",
          "name": "stdout",
          "text": [
            "\r 25%|##5       | 18/71 [00:12<00:31,  1.66it/s]"
          ]
        },
        {
          "output_type": "stream",
          "name": "stdout",
          "text": [
            "\r 27%|##6       | 19/71 [00:13<00:36,  1.44it/s]"
          ]
        },
        {
          "output_type": "stream",
          "name": "stdout",
          "text": [
            "\r 28%|##8       | 20/71 [00:14<00:31,  1.64it/s]"
          ]
        },
        {
          "output_type": "stream",
          "name": "stdout",
          "text": [
            "\r 30%|##9       | 21/71 [00:15<00:40,  1.22it/s]\r 31%|###       | 22/71 [00:15<00:29,  1.65it/s]"
          ]
        },
        {
          "output_type": "stream",
          "name": "stdout",
          "text": [
            "\r 32%|###2      | 23/71 [00:16<00:38,  1.25it/s]\r 34%|###3      | 24/71 [00:17<00:27,  1.69it/s]"
          ]
        },
        {
          "output_type": "stream",
          "name": "stdout",
          "text": [
            "\r 35%|###5      | 25/71 [00:18<00:33,  1.36it/s]\r 37%|###6      | 26/71 [00:18<00:24,  1.83it/s]"
          ]
        },
        {
          "output_type": "stream",
          "name": "stdout",
          "text": [
            "\r 38%|###8      | 27/71 [00:19<00:34,  1.26it/s]\r 39%|###9      | 28/71 [00:19<00:25,  1.70it/s]"
          ]
        },
        {
          "output_type": "stream",
          "name": "stdout",
          "text": [
            "\r 41%|####      | 29/71 [00:21<00:33,  1.24it/s]\r 42%|####2     | 30/71 [00:21<00:24,  1.68it/s]"
          ]
        },
        {
          "output_type": "stream",
          "name": "stdout",
          "text": [
            "\r 44%|####3     | 31/71 [00:22<00:32,  1.22it/s]\r 45%|####5     | 32/71 [00:22<00:23,  1.65it/s]"
          ]
        },
        {
          "output_type": "stream",
          "name": "stdout",
          "text": [
            "\r 46%|####6     | 33/71 [00:23<00:30,  1.26it/s]\r 48%|####7     | 34/71 [00:23<00:21,  1.70it/s]"
          ]
        },
        {
          "output_type": "stream",
          "name": "stdout",
          "text": [
            "\r 49%|####9     | 35/71 [00:25<00:29,  1.23it/s]\r 51%|#####     | 36/71 [00:25<00:21,  1.67it/s]"
          ]
        },
        {
          "output_type": "stream",
          "name": "stdout",
          "text": [
            "\r 52%|#####2    | 37/71 [00:26<00:25,  1.35it/s]\r 54%|#####3    | 38/71 [00:26<00:18,  1.82it/s]"
          ]
        },
        {
          "output_type": "stream",
          "name": "stdout",
          "text": [
            "\r 55%|#####4    | 39/71 [00:27<00:24,  1.33it/s]\r 56%|#####6    | 40/71 [00:27<00:17,  1.78it/s]"
          ]
        },
        {
          "output_type": "stream",
          "name": "stdout",
          "text": [
            "\r 58%|#####7    | 41/71 [00:28<00:21,  1.41it/s]\r 59%|#####9    | 42/71 [00:29<00:15,  1.89it/s]"
          ]
        },
        {
          "output_type": "stream",
          "name": "stdout",
          "text": [
            "\r 61%|######    | 43/71 [00:30<00:20,  1.37it/s]\r 62%|######1   | 44/71 [00:30<00:14,  1.83it/s]"
          ]
        },
        {
          "output_type": "stream",
          "name": "stdout",
          "text": [
            "\r 63%|######3   | 45/71 [00:31<00:18,  1.41it/s]\r 65%|######4   | 46/71 [00:31<00:13,  1.89it/s]"
          ]
        },
        {
          "output_type": "stream",
          "name": "stdout",
          "text": [
            "\r 66%|######6   | 47/71 [00:32<00:17,  1.33it/s]"
          ]
        },
        {
          "output_type": "stream",
          "name": "stdout",
          "text": [
            "\r 68%|######7   | 48/71 [00:33<00:13,  1.69it/s]"
          ]
        },
        {
          "output_type": "stream",
          "name": "stdout",
          "text": [
            "\r 69%|######9   | 49/71 [00:34<00:17,  1.23it/s]"
          ]
        },
        {
          "output_type": "stream",
          "name": "stdout",
          "text": [
            "\r 70%|#######   | 50/71 [00:34<00:13,  1.59it/s]"
          ]
        },
        {
          "output_type": "stream",
          "name": "stdout",
          "text": [
            "\r 72%|#######1  | 51/71 [00:35<00:16,  1.25it/s]"
          ]
        },
        {
          "output_type": "stream",
          "name": "stdout",
          "text": [
            "\r 73%|#######3  | 52/71 [00:36<00:13,  1.42it/s]"
          ]
        },
        {
          "output_type": "stream",
          "name": "stdout",
          "text": [
            "\r 75%|#######4  | 53/71 [00:37<00:14,  1.28it/s]"
          ]
        },
        {
          "output_type": "stream",
          "name": "stdout",
          "text": [
            "\r 76%|#######6  | 54/71 [00:37<00:11,  1.48it/s]"
          ]
        },
        {
          "output_type": "stream",
          "name": "stdout",
          "text": [
            "\r 77%|#######7  | 55/71 [00:38<00:10,  1.54it/s]"
          ]
        },
        {
          "output_type": "stream",
          "name": "stdout",
          "text": [
            "\r 79%|#######8  | 56/71 [00:38<00:09,  1.58it/s]"
          ]
        },
        {
          "output_type": "stream",
          "name": "stdout",
          "text": [
            "\r 80%|########  | 57/71 [00:39<00:08,  1.62it/s]"
          ]
        },
        {
          "output_type": "stream",
          "name": "stdout",
          "text": [
            "\r 82%|########1 | 58/71 [00:40<00:08,  1.59it/s]"
          ]
        },
        {
          "output_type": "stream",
          "name": "stdout",
          "text": [
            "\r 83%|########3 | 59/71 [00:40<00:07,  1.56it/s]"
          ]
        },
        {
          "output_type": "stream",
          "name": "stdout",
          "text": [
            "\r 85%|########4 | 60/71 [00:41<00:07,  1.39it/s]"
          ]
        },
        {
          "output_type": "stream",
          "name": "stdout",
          "text": [
            "\r 86%|########5 | 61/71 [00:42<00:07,  1.36it/s]"
          ]
        },
        {
          "output_type": "stream",
          "name": "stdout",
          "text": [
            "\r 87%|########7 | 62/71 [00:43<00:06,  1.34it/s]"
          ]
        },
        {
          "output_type": "stream",
          "name": "stdout",
          "text": [
            "\r 89%|########8 | 63/71 [00:43<00:05,  1.54it/s]"
          ]
        },
        {
          "output_type": "stream",
          "name": "stdout",
          "text": [
            "\r 90%|######### | 64/71 [00:44<00:05,  1.25it/s]\r 92%|#########1| 65/71 [00:44<00:03,  1.67it/s]"
          ]
        },
        {
          "output_type": "stream",
          "name": "stdout",
          "text": [
            "\r 93%|#########2| 66/71 [00:46<00:04,  1.21it/s]\r 94%|#########4| 67/71 [00:46<00:02,  1.59it/s]"
          ]
        },
        {
          "output_type": "stream",
          "name": "stdout",
          "text": [
            "\r 96%|#########5| 68/71 [00:47<00:02,  1.25it/s]\r 97%|#########7| 69/71 [00:47<00:01,  1.65it/s]"
          ]
        },
        {
          "output_type": "stream",
          "name": "stdout",
          "text": [
            "\r 99%|#########8| 70/71 [00:48<00:00,  1.28it/s]\r100%|##########| 71/71 [00:49<00:00,  1.45it/s]"
          ]
        },
        {
          "output_type": "stream",
          "name": "stderr",
          "text": [
            "2025-09-26 19:00:43 | INFO     | yolox.evaluators.coco_evaluator:259 - Evaluate in main process...\n"
          ]
        },
        {
          "output_type": "stream",
          "name": "stderr",
          "text": [
            "2025-09-26 19:00:43 | INFO     | yolox.evaluators.coco_evaluator:292 - Loading and preparing results...\n2025-09-26 19:00:43 | INFO     | yolox.evaluators.coco_evaluator:292 - DONE (t=0.18s)\n2025-09-26 19:00:43 | INFO     | pycocotools.coco:379 - creating index...\n2025-09-26 19:00:43 | INFO     | pycocotools.coco:379 - index created!\n2025-09-26 19:00:43 | INFO     | yolox.evaluators.coco_evaluator:301 - Running per image evaluation...\n2025-09-26 19:00:43 | INFO     | yolox.evaluators.coco_evaluator:301 - Evaluate annotation type *bbox*\n"
          ]
        },
        {
          "output_type": "stream",
          "name": "stderr",
          "text": [
            "2025-09-26 19:00:44 | INFO     | yolox.evaluators.coco_evaluator:301 - DONE (t=0.85s).\n2025-09-26 19:00:44 | INFO     | yolox.evaluators.coco_evaluator:302 - Accumulating evaluation results...\n2025-09-26 19:00:44 | INFO     | yolox.evaluators.coco_evaluator:302 - DONE (t=0.12s).\n2025-09-26 19:00:44 | INFO     | yolox.core.trainer:381 - \nAverage forward time: 5.61 ms, Average NMS time: 0.47 ms, Average inference time: 6.08 ms\n Average Precision  (AP) @[ IoU=0.50:0.95 | area=   all | maxDets=100 ] = 0.022\n Average Precision  (AP) @[ IoU=0.50      | area=   all | maxDets=100 ] = 0.091\n Average Precision  (AP) @[ IoU=0.75      | area=   all | maxDets=100 ] = 0.006\n Average Precision  (AP) @[ IoU=0.50:0.95 | area= small | maxDets=100 ] = -1.000\n Average Precision  (AP) @[ IoU=0.50:0.95 | area=medium | maxDets=100 ] = -1.000\n Average Precision  (AP) @[ IoU=0.50:0.95 | area= large | maxDets=100 ] = 0.022\n Average Recall     (AR) @[ IoU=0.50:0.95 | area=   all | maxDets=  1 ] = 0.040\n Average Recall     (AR) @[ IoU=0.50:0.95 | area=   all | maxDets= 10 ] = 0.174\n Average Recall     (AR) @[ IoU=0.50:0.95 | area=   all | maxDets=100 ] = 0.254\n Average Recall     (AR) @[ IoU=0.50:0.95 | area= small | maxDets=100 ] = -1.000\n Average Recall     (AR) @[ IoU=0.50:0.95 | area=medium | maxDets=100 ] = -1.000\n Average Recall     (AR) @[ IoU=0.50:0.95 | area= large | maxDets=100 ] = 0.254\nper class AP:\n| class   | AP    |\n|:--------|:------|\n| opacity | 2.231 |\nper class AR:\n| class   | AR     |\n|:--------|:-------|\n| opacity | 25.371 |\n\n2025-09-26 19:00:44 | INFO     | yolox.core.trainer:402 - Save weights to /var/lib/simon/agent_run_states/siim-covid19-detection-20250925-205912/yolox_outputs/yolox_m_fold_3\n"
          ]
        },
        {
          "output_type": "stream",
          "name": "stderr",
          "text": [
            "2025-09-26 19:00:45 | INFO     | yolox.core.trainer:402 - Save weights to /var/lib/simon/agent_run_states/siim-covid19-detection-20250925-205912/yolox_outputs/yolox_m_fold_3\n"
          ]
        },
        {
          "output_type": "stream",
          "name": "stderr",
          "text": [
            "2025-09-26 19:00:45 | INFO     | yolox.core.trainer:200 - Training of experiment is done and the best AP is 2.23\n"
          ]
        },
        {
          "output_type": "stream",
          "name": "stdout",
          "text": [
            "\n"
          ]
        },
        {
          "output_type": "stream",
          "name": "stdout",
          "text": [
            "/var/lib/simon/agent_run_states/siim-covid19-detection-20250925-205912\nFINISHED YOLOX TRAINING FOR FOLD 3\n\n==================================================\nSTARTING YOLOX TRAINING FOR FOLD 4\n==================================================\nDynamically modified YOLOX/exps/siim_yolox_config.py for fold 4 with exp_name: yolox_m_fold_4\n/var/lib/simon/agent_run_states/siim-covid19-detection-20250925-205912/YOLOX\n"
          ]
        },
        {
          "output_type": "stream",
          "name": "stderr",
          "text": [
            "/var/lib/simon/agent_run_states/siim-covid19-detection-20250925-205912/YOLOX/yolox/core/trainer.py:47: FutureWarning: `torch.cuda.amp.GradScaler(args...)` is deprecated. Please use `torch.amp.GradScaler('cuda', args...)` instead.\n  self.scaler = torch.cuda.amp.GradScaler(enabled=args.fp16)\n2025-09-26 19:00:48 | INFO     | yolox.core.trainer:132 - args: Namespace(experiment_name='yolox_m_fold_4', name=None, dist_backend='nccl', dist_url=None, batch_size=16, devices=1, exp_file='exps/siim_yolox_config.py', resume=False, ckpt='weights/yolox_m.pth', start_epoch=None, num_machines=1, machine_rank=0, fp16=True, cache=None, occupy=False, logger='tensorboard', opts=[])\n2025-09-26 19:00:48 | INFO     | yolox.core.trainer:133 - exp value:\n\u2552\u2550\u2550\u2550\u2550\u2550\u2550\u2550\u2550\u2550\u2550\u2550\u2550\u2550\u2550\u2550\u2550\u2550\u2550\u2550\u2564\u2550\u2550\u2550\u2550\u2550\u2550\u2550\u2550\u2550\u2550\u2550\u2550\u2550\u2550\u2550\u2550\u2550\u2550\u2550\u2550\u2550\u2550\u2550\u2550\u2550\u2550\u2550\u2550\u2550\u2550\u2550\u2550\u2550\u2550\u2550\u2550\u2550\u2550\u2550\u2550\u2550\u2550\u2550\u2550\u2550\u2550\u2550\u2550\u2550\u2550\u2550\u2550\u2550\u2550\u2550\u2550\u2550\u2550\u2550\u2550\u2550\u2550\u2550\u2550\u2550\u2550\u2550\u2550\u2550\u2550\u2550\u2550\u2550\u2550\u2550\u2550\u2550\u2550\u2550\u2550\u2550\u2550\u2550\u2550\u2550\u2550\u2550\u2550\u2555\n\u2502 keys              \u2502 values                                                                                 \u2502\n\u255e\u2550\u2550\u2550\u2550\u2550\u2550\u2550\u2550\u2550\u2550\u2550\u2550\u2550\u2550\u2550\u2550\u2550\u2550\u2550\u256a\u2550\u2550\u2550\u2550\u2550\u2550\u2550\u2550\u2550\u2550\u2550\u2550\u2550\u2550\u2550\u2550\u2550\u2550\u2550\u2550\u2550\u2550\u2550\u2550\u2550\u2550\u2550\u2550\u2550\u2550\u2550\u2550\u2550\u2550\u2550\u2550\u2550\u2550\u2550\u2550\u2550\u2550\u2550\u2550\u2550\u2550\u2550\u2550\u2550\u2550\u2550\u2550\u2550\u2550\u2550\u2550\u2550\u2550\u2550\u2550\u2550\u2550\u2550\u2550\u2550\u2550\u2550\u2550\u2550\u2550\u2550\u2550\u2550\u2550\u2550\u2550\u2550\u2550\u2550\u2550\u2550\u2550\u2550\u2550\u2550\u2550\u2550\u2550\u2561\n\u2502 seed              \u2502 None                                                                                   \u2502\n\u251c\u2500\u2500\u2500\u2500\u2500\u2500\u2500\u2500\u2500\u2500\ufffd\ufffd\u2500\u2500\u2500\u2500\u2500\u2500\u2500\u2500\u253c\u2500\u2500\u2500\u2500\u2500\u2500\u2500\u2500\u2500\u2500\u2500\u2500\u2500\u2500\u2500\u2500\u2500\u2500\u2500\u2500\u2500\u2500\u2500\u2500\u2500\u2500\u2500\u2500\u2500\u2500\u2500\u2500\u2500\u2500\u2500\u2500\u2500\u2500\u2500\u2500\u2500\u2500\u2500\u2500\u2500\u2500\u2500\u2500\u2500\u2500\u2500\u2500\u2500\u2500\u2500\u2500\u2500\u2500\u2500\u2500\u2500\u2500\u2500\u2500\u2500\u2500\u2500\u2500\u2500\u2500\u2500\u2500\u2500\u2500\u2500\u2500\u2500\u2500\u2500\u2500\u2500\u2500\u2500\u2500\u2500\u2500\u2500\u2500\u2524\n\u2502 output_dir        \u2502 '/var/lib/simon/agent_run_states/siim-covid19-detection-20250925-205912/yolox_outputs' \u2502\n\u251c\u2500\u2500\u2500\u2500\u2500\u2500\u2500\u2500\u2500\u2500\u2500\u2500\u2500\u2500\u2500\u2500\u2500\u2500\u2500\u253c\u2500\u2500\u2500\u2500\u2500\u2500\u2500\u2500\u2500\u2500\u2500\u2500\u2500\u2500\u2500\u2500\u2500\u2500\u2500\u2500\u2500\u2500\u2500\u2500\u2500\u2500\u2500\u2500\u2500\u2500\u2500\u2500\u2500\u2500\u2500\u2500\u2500\u2500\u2500\u2500\u2500\u2500\u2500\u2500\u2500\u2500\u2500\u2500\u2500\u2500\u2500\u2500\u2500\u2500\u2500\u2500\u2500\u2500\u2500\u2500\u2500\u2500\u2500\u2500\u2500\u2500\u2500\u2500\u2500\u2500\u2500\u2500\u2500\u2500\u2500\u2500\u2500\u2500\u2500\u2500\u2500\u2500\u2500\u2500\u2500\u2500\u2500\u2500\u2524\n\u2502 print_interval    \u2502 10                                                                                     \u2502\n\u251c\u2500\u2500\u2500\u2500\u2500\u2500\u2500\u2500\u2500\u2500\u2500\u2500\u2500\u2500\u2500\u2500\u2500\u2500\u2500\u253c\u2500\u2500\u2500\u2500\u2500\u2500\u2500\u2500\u2500\u2500\u2500\u2500\u2500\u2500\u2500\u2500\u2500\u2500\u2500\u2500\u2500\u2500\u2500\u2500\u2500\ufffd\ufffd\ufffd\u2500\u2500\u2500\u2500\u2500\u2500\u2500\u2500\u2500\u2500\u2500\u2500\u2500\u2500\u2500\u2500\u2500\u2500\u2500\u2500\u2500\u2500\u2500\u2500\u2500\u2500\u2500\u2500\u2500\u2500\u2500\u2500\u2500\u2500\u2500\u2500\u2500\u2500\u2500\u2500\u2500\u2500\u2500\u2500\u2500\u2500\u2500\u2500\u2500\u2500\u2500\u2500\u2500\u2500\u2500\u2500\u2500\u2500\u2500\u2500\u2500\u2500\u2524\n\u2502 eval_interval     \u2502 1                                                                                      \u2502\n\u251c\u2500\u2500\u2500\u2500\u2500\u2500\u2500\u2500\u2500\u2500\u2500\u2500\u2500\u2500\u2500\u2500\u2500\u2500\u2500\u253c\u2500\u2500\u2500\u2500\u2500\u2500\u2500\u2500\u2500\u2500\u2500\u2500\u2500\u2500\u2500\u2500\u2500\u2500\u2500\u2500\u2500\u2500\u2500\u2500\u2500\u2500\u2500\u2500\u2500\u2500\u2500\u2500\u2500\u2500\u2500\u2500\u2500\u2500\u2500\u2500\u2500\u2500\u2500\u2500\u2500\u2500\u2500\u2500\u2500\u2500\u2500\u2500\u2500\u2500\u2500\u2500\u2500\u2500\u2500\u2500\u2500\u2500\u2500\u2500\u2500\u2500\u2500\u2500\u2500\u2500\u2500\u2500\u2500\u2500\u2500\u2500\u2500\u2500\u2500\u2500\u2500\u2500\u2500\u2500\u2500\u2500\u2500\u2500\u2524\n\u2502 dataset           \u2502 None                                                                                   \u2502\n\u251c\u2500\u2500\u2500\u2500\u2500\u2500\u2500\u2500\u2500\u2500\u2500\u2500\u2500\u2500\u2500\u2500\u2500\u2500\u2500\u253c\u2500\u2500\u2500\u2500\u2500\u2500\u2500\u2500\u2500\u2500\u2500\u2500\u2500\u2500\u2500\u2500\u2500\u2500\u2500\u2500\u2500\u2500\u2500\u2500\u2500\u2500\u2500\u2500\u2500\u2500\u2500\u2500\u2500\u2500\u2500\u2500\u2500\u2500\u2500\u2500\u2500\u2500\u2500\u2500\u2500\u2500\u2500\u2500\u2500\u2500\u2500\u2500\u2500\u2500\u2500\u2500\u2500\u2500\u2500\u2500\u2500\u2500\u2500\u2500\u2500\u2500\u2500\u2500\u2500\u2500\u2500\u2500\u2500\u2500\u2500\u2500\u2500\u2500\u2500\u2500\u2500\u2500\u2500\u2500\u2500\u2500\u2500\u2500\u2524\n\u2502 num_classes       \u2502 1                                                                                      \u2502\n\u251c\u2500\u2500\u2500\u2500\u2500\u2500\u2500\u2500\u2500\u2500\u2500\u2500\u2500\u2500\u2500\u2500\u2500\u2500\u2500\u253c\u2500\u2500\u2500\u2500\u2500\u2500\u2500\u2500\u2500\u2500\u2500\u2500\u2500\u2500\u2500\u2500\u2500\u2500\u2500\u2500\u2500\u2500\u2500\u2500\u2500\u2500\u2500\u2500\u2500\u2500\u2500\u2500\u2500\u2500\u2500\u2500\u2500\u2500\u2500\u2500\u2500\u2500\u2500\u2500\u2500\u2500\u2500\u2500\u2500\u2500\u2500\u2500\u2500\u2500\u2500\u2500\u2500\u2500\u2500\u2500\u2500\u2500\u2500\u2500\u2500\u2500\u2500\u2500\u2500\u2500\u2500\u2500\u2500\u2500\u2500\u2500\u2500\u2500\u2500\u2500\u2500\u2500\u2500\u2500\u2500\u2500\u2500\u2500\u2524\n\u2502 depth             \u2502 0.67                                                                                   \u2502\n\u251c\u2500\u2500\u2500\u2500\u2500\u2500\u2500\u2500\u2500\u2500\u2500\u2500\u2500\u2500\u2500\u2500\u2500\u2500\u2500\u253c\u2500\u2500\u2500\u2500\u2500\u2500\u2500\u2500\u2500\u2500\u2500\u2500\u2500\u2500\u2500\u2500\u2500\u2500\u2500\u2500\u2500\u2500\u2500\u2500\u2500\u2500\u2500\u2500\u2500\u2500\u2500\u2500\u2500\u2500\u2500\u2500\u2500\u2500\u2500\u2500\u2500\u2500\u2500\u2500\u2500\u2500\u2500\u2500\u2500\u2500\u2500\u2500\u2500\u2500\u2500\u2500\u2500\u2500\u2500\u2500\u2500\u2500\u2500\u2500\u2500\u2500\u2500\u2500\u2500\u2500\u2500\u2500\u2500\u2500\u2500\u2500\u2500\u2500\u2500\u2500\u2500\u2500\u2500\u2500\u2500\u2500\u2500\u2500\u2524\n\u2502 width             \u2502 0.75                                                                                   \u2502\n\u251c\u2500\u2500\u2500\u2500\u2500\u2500\u2500\u2500\u2500\u2500\u2500\u2500\u2500\u2500\u2500\u2500\u2500\u2500\u2500\u253c\u2500\u2500\u2500\u2500\u2500\u2500\u2500\u2500\u2500\u2500\u2500\u2500\u2500\u2500\u2500\u2500\u2500\u2500\u2500\u2500\u2500\u2500\u2500\u2500\u2500\u2500\u2500\u2500\u2500\u2500\u2500\u2500\u2500\u2500\u2500\u2500\u2500\u2500\u2500\u2500\u2500\u2500\u2500\u2500\u2500\u2500\u2500\u2500\u2500\u2500\u2500\u2500\u2500\u2500\u2500\u2500\u2500\u2500\u2500\u2500\u2500\u2500\u2500\u2500\u2500\u2500\u2500\u2500\u2500\u2500\u2500\u2500\u2500\u2500\u2500\u2500\u2500\u2500\u2500\u2500\u2500\u2500\u2500\u2500\u2500\u2500\u2500\u2500\u2524\n\u2502 act               \u2502 'silu'                                                                                 \u2502\n\u251c\u2500\u2500\u2500\u2500\u2500\u2500\u2500\u2500\u2500\u2500\u2500\u2500\u2500\u2500\u2500\u2500\u2500\u2500\u2500\u253c\u2500\u2500\u2500\u2500\u2500\u2500\u2500\u2500\u2500\u2500\u2500\u2500\u2500\u2500\u2500\u2500\u2500\u2500\u2500\u2500\u2500\u2500\u2500\u2500\u2500\u2500\u2500\u2500\u2500\u2500\u2500\u2500\u2500\u2500\u2500\u2500\u2500\u2500\u2500\u2500\u2500\u2500\u2500\u2500\u2500\u2500\u2500\u2500\u2500\u2500\u2500\u2500\u2500\u2500\u2500\u2500\u2500\u2500\u2500\u2500\u2500\u2500\u2500\u2500\u2500\u2500\u2500\u2500\u2500\u2500\u2500\u2500\u2500\u2500\u2500\u2500\u2500\u2500\u2500\u2500\u2500\u2500\u2500\u2500\u2500\u2500\u2500\u2500\u2524\n\u2502 data_num_workers  \u2502 2                                                                                      \u2502\n\u251c\u2500\u2500\u2500\u2500\u2500\u2500\u2500\u2500\u2500\u2500\u2500\u2500\u2500\u2500\u2500\u2500\u2500\u2500\u2500\u253c\u2500\u2500\u2500\u2500\u2500\u2500\u2500\u2500\u2500\u2500\u2500\u2500\u2500\u2500\u2500\u2500\u2500\u2500\u2500\u2500\u2500\u2500\u2500\u2500\u2500\u2500\u2500\u2500\u2500\u2500\u2500\u2500\u2500\u2500\u2500\u2500\u2500\u2500\u2500\u2500\u2500\u2500\u2500\u2500\u2500\u2500\u2500\u2500\u2500\u2500\u2500\u2500\u2500\u2500\u2500\u2500\u2500\u2500\u2500\u2500\u2500\u2500\u2500\u2500\u2500\u2500\u2500\u2500\u2500\u2500\u2500\u2500\u2500\u2500\u2500\u2500\u2500\u2500\u2500\u2500\u2500\u2500\u2500\u2500\u2500\u2500\u2500\u2500\u2524\n\u2502 input_size        \u2502 (640, 640)                                                                             \u2502\n\u251c\u2500\u2500\u2500\u2500\u2500\u2500\u2500\u2500\u2500\u2500\u2500\u2500\u2500\u2500\u2500\u2500\u2500\u2500\u2500\u253c\u2500\u2500\u2500\u2500\u2500\u2500\u2500\u2500\u2500\u2500\u2500\u2500\u2500\u2500\u2500\u2500\u2500\u2500\u2500\u2500\u2500\u2500\u2500\u2500\u2500\u2500\u2500\u2500\u2500\u2500\u2500\u2500\u2500\u2500\u2500\u2500\u2500\u2500\u2500\u2500\u2500\u2500\u2500\u2500\u2500\u2500\u2500\u2500\u2500\u2500\u2500\u2500\u2500\u2500\u2500\u2500\u2500\u2500\u2500\u2500\u2500\u2500\u2500\u2500\u2500\u2500\u2500\u2500\u2500\u2500\u2500\u2500\u2500\u2500\u2500\u2500\u2500\u2500\u2500\u2500\u2500\u2500\u2500\u2500\u2500\u2500\u2500\u2500\u2524\n\u2502 multiscale_range  \u2502 5                                                                                      \u2502\n\u251c\u2500\u2500\u2500\u2500\u2500\u2500\u2500\u2500\u2500\u2500\u2500\u2500\u2500\u2500\u2500\u2500\u2500\u2500\u2500\u253c\u2500\u2500\u2500\u2500\u2500\u2500\u2500\u2500\u2500\u2500\u2500\u2500\u2500\u2500\ufffd\ufffd\u2500\u2500\u2500\u2500\u2500\u2500\u2500\u2500\u2500\u2500\u2500\u2500\u2500\u2500\u2500\u2500\u2500\u2500\u2500\u2500\u2500\u2500\u2500\u2500\u2500\u2500\u2500\u2500\u2500\u2500\u2500\u2500\u2500\u2500\u2500\u2500\u2500\u2500\u2500\u2500\u2500\u2500\u2500\u2500\u2500\u2500\u2500\u2500\u2500\u2500\u2500\u2500\u2500\u2500\u2500\u2500\u2500\u2500\u2500\u2500\u2500\u2500\u2500\u2500\u2500\u2500\u2500\u2500\u2500\u2500\u2500\u2500\u2500\u2524\n\u2502 data_dir          \u2502 '/var/lib/simon/agent_run_states/siim-covid19-detection-20250925-205912/yolox_data'    \u2502\n\u251c\u2500\u2500\u2500\u2500\u2500\u2500\u2500\u2500\u2500\u2500\u2500\u2500\u2500\u2500\u2500\u2500\u2500\u2500\u2500\u253c\u2500\u2500\u2500\u2500\u2500\u2500\u2500\u2500\u2500\u2500\u2500\u2500\u2500\u2500\u2500\u2500\u2500\u2500\u2500\u2500\u2500\u2500\u2500\u2500\u2500\u2500\u2500\u2500\u2500\u2500\u2500\u2500\u2500\u2500\u2500\u2500\u2500\u2500\u2500\u2500\u2500\u2500\u2500\u2500\u2500\u2500\u2500\u2500\u2500\u2500\u2500\u2500\u2500\u2500\u2500\u2500\u2500\u2500\u2500\u2500\u2500\u2500\u2500\u2500\u2500\u2500\u2500\u2500\u2500\u2500\u2500\u2500\u2500\u2500\u2500\u2500\u2500\u2500\u2500\u2500\u2500\u2500\u2500\u2500\u2500\u2500\u2500\u2500\u2524\n\u2502 train_ann         \u2502 'instances_fold4_train.json'                                                           \u2502\n\u251c\u2500\u2500\u2500\u2500\u2500\u2500\u2500\u2500\u2500\u2500\u2500\u2500\u2500\u2500\u2500\u2500\u2500\u2500\u2500\u253c\u2500\u2500\u2500\u2500\u2500\u2500\u2500\u2500\u2500\u2500\u2500\u2500\u2500\u2500\u2500\u2500\u2500\u2500\u2500\u2500\u2500\u2500\u2500\u2500\u2500\u2500\u2500\u2500\u2500\u2500\u2500\u2500\u2500\u2500\u2500\u2500\u2500\u2500\u2500\u2500\u2500\u2500\u2500\u2500\u2500\u2500\u2500\u2500\u2500\ufffd\ufffd\ufffd\u2500\u2500\u2500\u2500\u2500\u2500\u2500\u2500\u2500\u2500\u2500\u2500\u2500\u2500\u2500\u2500\u2500\u2500\u2500\u2500\u2500\u2500\u2500\u2500\u2500\u2500\u2500\u2500\u2500\u2500\u2500\u2500\u2500\u2500\u2500\u2500\u2500\u2500\u2524\n\u2502 val_ann           \u2502 'instances_fold4_val.json'                                                             \u2502\n\u251c\u2500\u2500\u2500\u2500\u2500\u2500\u2500\u2500\u2500\u2500\u2500\u2500\u2500\u2500\u2500\u2500\u2500\u2500\u2500\u253c\u2500\u2500\u2500\u2500\u2500\u2500\u2500\u2500\u2500\u2500\u2500\u2500\u2500\u2500\u2500\u2500\u2500\u2500\u2500\u2500\u2500\u2500\u2500\u2500\u2500\u2500\u2500\u2500\u2500\u2500\u2500\u2500\u2500\u2500\u2500\u2500\u2500\u2500\u2500\u2500\u2500\u2500\u2500\u2500\u2500\u2500\u2500\u2500\u2500\u2500\u2500\u2500\u2500\u2500\u2500\u2500\u2500\u2500\u2500\u2500\u2500\u2500\u2500\u2500\u2500\u2500\u2500\u2500\u2500\u2500\u2500\u2500\u2500\u2500\u2500\u2500\u2500\u2500\u2500\u2500\u2500\u2500\u2500\u2500\u2500\u2500\u2500\u2500\u2524\n\u2502 test_ann          \u2502 'instances_fold0_val.json'                                                             \u2502\n\u251c\u2500\u2500\u2500\u2500\u2500\u2500\u2500\u2500\u2500\u2500\u2500\u2500\u2500\u2500\u2500\u2500\u2500\u2500\u2500\u253c\u2500\u2500\u2500\u2500\u2500\u2500\u2500\u2500\u2500\u2500\u2500\u2500\u2500\u2500\u2500\u2500\u2500\u2500\u2500\u2500\u2500\u2500\u2500\u2500\u2500\u2500\u2500\u2500\u2500\u2500\u2500\u2500\u2500\u2500\u2500\u2500\u2500\u2500\u2500\u2500\u2500\u2500\u2500\u2500\u2500\u2500\u2500\u2500\u2500\u2500\u2500\u2500\u2500\u2500\u2500\u2500\u2500\u2500\u2500\u2500\u2500\u2500\u2500\u2500\u2500\u2500\u2500\u2500\u2500\u2500\u2500\u2500\u2500\u2500\u2500\u2500\u2500\u2500\u2500\u2500\u2500\u2500\u2500\u2500\u2500\u2500\u2500\u2500\u2524\n\u2502 mosaic_prob       \u2502 0.0                                                                                    \u2502\n\u251c\u2500\u2500\u2500\u2500\u2500\u2500\u2500\u2500\u2500\u2500\u2500\u2500\u2500\u2500\u2500\u2500\u2500\u2500\u2500\u253c\u2500\u2500\u2500\u2500\u2500\u2500\u2500\u2500\u2500\u2500\u2500\u2500\u2500\u2500\u2500\u2500\u2500\u2500\u2500\u2500\u2500\u2500\u2500\u2500\u2500\u2500\u2500\u2500\u2500\u2500\u2500\u2500\u2500\u2500\u2500\u2500\u2500\u2500\u2500\u2500\u2500\u2500\u2500\u2500\u2500\u2500\u2500\u2500\u2500\u2500\u2500\u2500\u2500\u2500\u2500\u2500\u2500\u2500\u2500\u2500\u2500\u2500\u2500\u2500\u2500\u2500\u2500\u2500\u2500\u2500\u2500\u2500\u2500\u2500\u2500\u2500\u2500\u2500\u2500\u2500\u2500\u2500\u2500\u2500\u2500\u2500\u2500\u2500\u2524\n\u2502 mixup_prob        \u2502 0.0                                                                                    \u2502\n\u251c\u2500\u2500\u2500\u2500\u2500\u2500\u2500\u2500\u2500\u2500\u2500\u2500\u2500\u2500\u2500\u2500\u2500\u2500\u2500\u253c\u2500\u2500\u2500\u2500\u2500\u2500\u2500\u2500\u2500\u2500\u2500\u2500\u2500\u2500\u2500\u2500\u2500\u2500\u2500\u2500\u2500\u2500\u2500\u2500\u2500\u2500\u2500\u2500\u2500\u2500\u2500\u2500\u2500\u2500\u2500\u2500\u2500\u2500\u2500\u2500\u2500\u2500\u2500\u2500\u2500\u2500\u2500\u2500\u2500\u2500\u2500\u2500\u2500\u2500\u2500\u2500\u2500\u2500\u2500\u2500\u2500\u2500\u2500\u2500\u2500\u2500\u2500\u2500\u2500\u2500\u2500\u2500\u2500\u2500\u2500\u2500\u2500\u2500\u2500\u2500\u2500\u2500\u2500\u2500\u2500\u2500\u2500\u2500\u2524\n\u2502 hsv_prob          \u2502 1.0                                                                                    \u2502\n\u251c\u2500\u2500\u2500\u2500\u2500\u2500\u2500\u2500\u2500\u2500\u2500\u2500\u2500\u2500\u2500\u2500\u2500\u2500\u2500\u253c\u2500\u2500\u2500\u2500\u2500\u2500\u2500\u2500\u2500\u2500\u2500\u2500\u2500\u2500\u2500\u2500\u2500\u2500\u2500\u2500\u2500\u2500\u2500\u2500\u2500\u2500\u2500\u2500\u2500\u2500\u2500\u2500\u2500\u2500\u2500\u2500\u2500\u2500\u2500\u2500\u2500\u2500\u2500\u2500\u2500\u2500\u2500\u2500\u2500\u2500\u2500\u2500\u2500\u2500\u2500\u2500\u2500\u2500\u2500\u2500\u2500\u2500\u2500\u2500\u2500\u2500\u2500\u2500\u2500\u2500\u2500\u2500\u2500\u2500\u2500\u2500\u2500\u2500\u2500\u2500\u2500\u2500\u2500\u2500\u2500\u2500\u2500\u2500\u2524\n\u2502 flip_prob         \u2502 0.5                                                                                    \u2502\n\u251c\u2500\u2500\u2500\u2500\u2500\u2500\u2500\u2500\u2500\u2500\u2500\u2500\u2500\u2500\u2500\u2500\u2500\u2500\u2500\u253c\u2500\u2500\u2500\u2500\u2500\u2500\u2500\u2500\u2500\u2500\u2500\u2500\u2500\u2500\u2500\u2500\u2500\u2500\u2500\u2500\u2500\u2500\u2500\u2500\u2500\u2500\u2500\u2500\u2500\u2500\u2500\u2500\u2500\u2500\u2500\u2500\u2500\u2500\u2500\u2500\u2500\u2500\u2500\u2500\u2500\u2500\u2500\u2500\u2500\u2500\u2500\u2500\u2500\u2500\u2500\u2500\u2500\u2500\u2500\u2500\u2500\u2500\u2500\u2500\u2500\u2500\u2500\u2500\u2500\u2500\u2500\u2500\u2500\u2500\u2500\u2500\u2500\u2500\u2500\u2500\u2500\u2500\u2500\u2500\u2500\u2500\u2500\u2500\u2524\n\u2502 degrees           \u2502 10.0                                                                                   \u2502\n\u251c\u2500\u2500\u2500\u2500\u2500\u2500\u2500\u2500\u2500\u2500\u2500\u2500\u2500\u2500\u2500\u2500\u2500\u2500\u2500\u253c\u2500\u2500\u2500\u2500\u2500\u2500\u2500\u2500\u2500\u2500\u2500\u2500\u2500\u2500\u2500\u2500\u2500\u2500\u2500\u2500\u2500\u2500\u2500\u2500\u2500\u2500\u2500\u2500\u2500\u2500\u2500\u2500\u2500\u2500\u2500\u2500\u2500\u2500\u2500\u2500\u2500\u2500\u2500\u2500\u2500\u2500\u2500\u2500\u2500\u2500\u2500\u2500\u2500\u2500\u2500\u2500\u2500\u2500\u2500\u2500\u2500\u2500\u2500\u2500\u2500\u2500\u2500\u2500\u2500\u2500\u2500\u2500\u2500\u2500\u2500\u2500\u2500\u2500\u2500\u2500\u2500\u2500\u2500\u2500\u2500\u2500\u2500\u2500\u2524\n\u2502 translate         \u2502 0.1                                                                                    \u2502\n\u251c\u2500\u2500\u2500\u2500\u2500\u2500\u2500\u2500\u2500\u2500\u2500\u2500\u2500\u2500\u2500\u2500\u2500\u2500\u2500\u253c\u2500\u2500\u2500\u2500\u2500\u2500\u2500\u2500\u2500\u2500\u2500\u2500\u2500\u2500\u2500\u2500\u2500\u2500\u2500\u2500\u2500\u2500\u2500\u2500\u2500\u2500\u2500\u2500\u2500\u2500\u2500\u2500\u2500\u2500\u2500\u2500\u2500\u2500\u2500\u2500\u2500\u2500\u2500\u2500\u2500\u2500\u2500\u2500\u2500\u2500\u2500\u2500\u2500\u2500\u2500\u2500\u2500\u2500\u2500\u2500\u2500\u2500\u2500\u2500\u2500\u2500\u2500\u2500\u2500\u2500\u2500\u2500\u2500\u2500\u2500\u2500\u2500\u2500\u2500\u2500\u2500\u2500\u2500\u2500\u2500\u2500\u2500\u2500\u2524\n\u2502 mosaic_scale      \u2502 (0.1, 2)                                                                               \u2502\n\u251c\u2500\u2500\u2500\u2500\u2500\u2500\u2500\u2500\u2500\u2500\u2500\u2500\u2500\u2500\u2500\u2500\u2500\u2500\u2500\u253c\u2500\u2500\u2500\u2500\u2500\u2500\u2500\u2500\u2500\u2500\u2500\u2500\u2500\u2500\u2500\u2500\u2500\u2500\u2500\u2500\u2500\u2500\u2500\u2500\u2500\u2500\u2500\u2500\u2500\u2500\u2500\u2500\u2500\u2500\u2500\u2500\u2500\u2500\ufffd\ufffd\u2500\u2500\u2500\u2500\u2500\u2500\u2500\u2500\u2500\u2500\u2500\u2500\u2500\u2500\u2500\u2500\u2500\u2500\u2500\u2500\u2500\u2500\u2500\u2500\u2500\u2500\u2500\u2500\u2500\u2500\u2500\u2500\u2500\u2500\u2500\u2500\u2500\u2500\u2500\u2500\u2500\u2500\u2500\u2500\u2500\u2500\u2500\u2500\u2500\u2524\n\u2502 enable_mixup      \u2502 False                                                                                  \u2502\n\u251c\u2500\u2500\u2500\u2500\u2500\u2500\u2500\u2500\u2500\u2500\u2500\u2500\u2500\u2500\u2500\u2500\u2500\u2500\u2500\u253c\u2500\u2500\u2500\u2500\u2500\u2500\u2500\u2500\u2500\u2500\u2500\u2500\u2500\u2500\u2500\u2500\u2500\u2500\u2500\u2500\u2500\u2500\u2500\u2500\u2500\u2500\u2500\u2500\u2500\u2500\u2500\u2500\u2500\u2500\u2500\u2500\u2500\u2500\u2500\u2500\u2500\u2500\u2500\u2500\u2500\u2500\u2500\u2500\u2500\u2500\u2500\u2500\u2500\u2500\u2500\u2500\u2500\u2500\u2500\u2500\u2500\u2500\u2500\u2500\u2500\u2500\u2500\u2500\u2500\u2500\u2500\u2500\u2500\u2500\u2500\u2500\u2500\u2500\u2500\u2500\u2500\u2500\u2500\u2500\u2500\u2500\u2500\u2500\u2524\n\u2502 mixup_scale       \u2502 (0.5, 1.5)                                                                             \u2502\n\u251c\u2500\u2500\u2500\u2500\u2500\u2500\u2500\u2500\u2500\u2500\u2500\u2500\u2500\u2500\u2500\u2500\u2500\u2500\u2500\u253c\u2500\u2500\u2500\u2500\u2500\u2500\u2500\u2500\u2500\u2500\u2500\u2500\u2500\u2500\u2500\u2500\u2500\u2500\u2500\u2500\u2500\u2500\u2500\u2500\u2500\u2500\u2500\u2500\u2500\u2500\u2500\u2500\u2500\u2500\u2500\u2500\u2500\u2500\u2500\u2500\u2500\u2500\u2500\u2500\u2500\u2500\u2500\u2500\u2500\u2500\u2500\u2500\u2500\u2500\u2500\u2500\u2500\u2500\u2500\u2500\u2500\u2500\u2500\u2500\u2500\u2500\u2500\u2500\u2500\u2500\u2500\u2500\u2500\ufffd\ufffd\ufffd\u2500\u2500\u2500\u2500\u2500\u2500\u2500\u2500\u2500\u2500\u2500\u2500\u2500\u2500\u2524\n\u2502 shear             \u2502 2.0                                                                                    \u2502\n\u251c\u2500\u2500\u2500\u2500\u2500\u2500\u2500\u2500\u2500\u2500\u2500\u2500\u2500\u2500\u2500\u2500\u2500\u2500\u2500\u253c\u2500\u2500\u2500\u2500\u2500\u2500\u2500\u2500\u2500\u2500\u2500\u2500\u2500\u2500\u2500\u2500\u2500\u2500\u2500\u2500\u2500\u2500\u2500\u2500\u2500\u2500\u2500\u2500\u2500\u2500\u2500\u2500\u2500\u2500\u2500\u2500\u2500\u2500\u2500\u2500\u2500\u2500\u2500\u2500\u2500\u2500\u2500\u2500\u2500\u2500\u2500\u2500\u2500\u2500\u2500\u2500\u2500\u2500\u2500\u2500\u2500\u2500\u2500\u2500\u2500\u2500\u2500\u2500\u2500\u2500\u2500\u2500\u2500\u2500\u2500\u2500\u2500\u2500\u2500\u2500\u2500\u2500\u2500\u2500\u2500\u2500\u2500\u2500\u2524\n\u2502 warmup_epochs     \u2502 1                                                                                      \u2502\n\u251c\u2500\u2500\u2500\u2500\u2500\u2500\u2500\u2500\u2500\u2500\u2500\u2500\u2500\u2500\u2500\u2500\u2500\u2500\u2500\u253c\u2500\u2500\u2500\u2500\u2500\u2500\u2500\u2500\u2500\u2500\u2500\u2500\u2500\u2500\u2500\u2500\u2500\u2500\u2500\u2500\u2500\u2500\u2500\u2500\u2500\u2500\u2500\u2500\u2500\u2500\u2500\u2500\u2500\u2500\u2500\u2500\u2500\u2500\u2500\u2500\u2500\u2500\u2500\u2500\u2500\u2500\u2500\u2500\u2500\u2500\u2500\u2500\u2500\u2500\u2500\u2500\u2500\u2500\u2500\u2500\u2500\u2500\u2500\u2500\u2500\u2500\u2500\u2500\u2500\u2500\u2500\u2500\u2500\u2500\u2500\u2500\u2500\u2500\u2500\u2500\u2500\u2500\u2500\u2500\u2500\u2500\u2500\u2500\u2524\n\u2502 max_epoch         \u2502 2                                                                                      \u2502\n\u251c\u2500\u2500\u2500\u2500\u2500\u2500\u2500\u2500\u2500\u2500\u2500\u2500\u2500\u2500\u2500\u2500\u2500\u2500\u2500\u253c\u2500\u2500\u2500\u2500\u2500\u2500\u2500\u2500\u2500\u2500\u2500\u2500\u2500\u2500\u2500\u2500\u2500\u2500\u2500\u2500\u2500\u2500\u2500\u2500\u2500\u2500\u2500\u2500\u2500\u2500\u2500\u2500\u2500\u2500\u2500\u2500\u2500\u2500\u2500\u2500\u2500\u2500\u2500\u2500\u2500\u2500\u2500\u2500\u2500\u2500\u2500\u2500\u2500\u2500\u2500\u2500\u2500\u2500\u2500\u2500\u2500\u2500\u2500\u2500\u2500\u2500\u2500\u2500\u2500\u2500\u2500\u2500\u2500\u2500\u2500\u2500\u2500\u2500\u2500\u2500\u2500\u2500\u2500\u2500\u2500\u2500\u2500\u2500\u2524\n\u2502 warmup_lr         \u2502 0                                                                                      \u2502\n\u251c\u2500\u2500\u2500\u2500\u2500\u2500\u2500\u2500\u2500\u2500\u2500\u2500\u2500\u2500\u2500\u2500\u2500\u2500\u2500\u253c\u2500\u2500\u2500\u2500\u2500\u2500\u2500\u2500\u2500\u2500\u2500\u2500\u2500\u2500\u2500\u2500\u2500\u2500\u2500\u2500\u2500\u2500\u2500\u2500\u2500\u2500\u2500\u2500\u2500\u2500\u2500\u2500\u2500\u2500\u2500\u2500\u2500\u2500\u2500\u2500\u2500\u2500\u2500\u2500\u2500\u2500\u2500\u2500\u2500\u2500\u2500\u2500\u2500\u2500\u2500\u2500\u2500\u2500\u2500\u2500\u2500\u2500\u2500\u2500\u2500\u2500\u2500\u2500\u2500\u2500\u2500\u2500\u2500\u2500\u2500\u2500\u2500\u2500\u2500\u2500\u2500\u2500\u2500\u2500\u2500\u2500\u2500\u2500\u2524\n\u2502 min_lr_ratio      \u2502 0.05                                                                                   \u2502\n\u251c\u2500\u2500\u2500\u2500\u2500\u2500\u2500\u2500\u2500\u2500\u2500\u2500\u2500\ufffd\ufffd\ufffd\u2500\u2500\u2500\u2500\u2500\u253c\u2500\u2500\u2500\u2500\u2500\u2500\u2500\u2500\u2500\u2500\u2500\u2500\u2500\u2500\u2500\u2500\u2500\u2500\u2500\u2500\u2500\u2500\u2500\u2500\u2500\u2500\u2500\u2500\u2500\u2500\u2500\u2500\u2500\u2500\u2500\u2500\u2500\u2500\u2500\u2500\u2500\u2500\u2500\u2500\u2500\u2500\u2500\u2500\u2500\u2500\u2500\u2500\u2500\u2500\u2500\u2500\u2500\u2500\u2500\u2500\u2500\u2500\u2500\u2500\u2500\u2500\u2500\u2500\u2500\u2500\u2500\u2500\u2500\u2500\u2500\u2500\u2500\u2500\u2500\u2500\u2500\u2500\u2500\u2500\u2500\u2500\u2500\u2500\u2524\n\u2502 basic_lr_per_img  \u2502 0.00015625                                                                             \u2502\n\u251c\u2500\u2500\u2500\u2500\u2500\u2500\u2500\u2500\u2500\u2500\u2500\u2500\u2500\u2500\u2500\u2500\u2500\u2500\u2500\u253c\u2500\u2500\u2500\u2500\u2500\u2500\u2500\u2500\u2500\u2500\u2500\u2500\u2500\u2500\u2500\u2500\u2500\u2500\u2500\u2500\u2500\u2500\u2500\u2500\u2500\u2500\u2500\u2500\u2500\u2500\u2500\u2500\u2500\u2500\u2500\u2500\u2500\u2500\u2500\u2500\u2500\u2500\u2500\u2500\u2500\u2500\u2500\u2500\u2500\u2500\u2500\u2500\u2500\u2500\u2500\u2500\u2500\u2500\u2500\u2500\u2500\u2500\u2500\u2500\u2500\u2500\u2500\u2500\u2500\u2500\u2500\u2500\u2500\u2500\u2500\u2500\u2500\u2500\u2500\u2500\u2500\u2500\u2500\u2500\u2500\u2500\u2500\u2500\u2524\n\u2502 scheduler         \u2502 'yoloxwarmcos'                                                                         \u2502\n\u251c\u2500\u2500\u2500\u2500\u2500\u2500\u2500\u2500\u2500\u2500\u2500\u2500\u2500\u2500\u2500\u2500\u2500\u2500\u2500\u253c\u2500\u2500\u2500\u2500\u2500\u2500\u2500\u2500\u2500\u2500\u2500\u2500\u2500\u2500\u2500\u2500\u2500\u2500\u2500\u2500\u2500\u2500\u2500\u2500\u2500\u2500\u2500\u2500\u2500\u2500\u2500\u2500\u2500\u2500\u2500\u2500\u2500\u2500\u2500\u2500\u2500\u2500\u2500\u2500\u2500\u2500\u2500\u2500\u2500\u2500\u2500\u2500\u2500\u2500\u2500\u2500\u2500\u2500\u2500\u2500\u2500\u2500\u2500\u2500\u2500\u2500\u2500\u2500\u2500\u2500\u2500\u2500\u2500\u2500\u2500\u2500\u2500\u2500\u2500\u2500\u2500\u2500\u2500\u2500\u2500\u2500\u2500\u2500\u2524\n\u2502 no_aug_epochs     \u2502 5                                                                                      \u2502\n\u251c\u2500\u2500\u2500\u2500\u2500\u2500\u2500\u2500\u2500\u2500\u2500\u2500\u2500\u2500\u2500\u2500\u2500\u2500\u2500\u253c\u2500\u2500\u2500\u2500\u2500\u2500\u2500\u2500\u2500\u2500\u2500\u2500\u2500\u2500\u2500\u2500\u2500\u2500\u2500\u2500\u2500\u2500\u2500\u2500\u2500\u2500\u2500\u2500\u2500\u2500\u2500\u2500\u2500\u2500\u2500\u2500\u2500\u2500\u2500\u2500\u2500\u2500\u2500\u2500\u2500\u2500\u2500\u2500\u2500\u2500\u2500\u2500\u2500\u2500\u2500\u2500\u2500\u2500\u2500\u2500\u2500\u2500\u2500\u2500\u2500\u2500\u2500\u2500\u2500\u2500\u2500\u2500\u2500\u2500\u2500\u2500\u2500\u2500\u2500\u2500\u2500\u2500\u2500\u2500\u2500\u2500\u2500\u2500\u2524\n\u2502 ema               \u2502 True                                                                                   \u2502\n\u251c\u2500\u2500\u2500\u2500\u2500\u2500\u2500\u2500\u2500\u2500\u2500\u2500\u2500\u2500\u2500\u2500\u2500\u2500\u2500\u253c\u2500\u2500\u2500\u2500\u2500\u2500\u2500\u2500\u2500\u2500\u2500\u2500\u2500\u2500\u2500\u2500\u2500\u2500\u2500\u2500\u2500\u2500\u2500\u2500\u2500\u2500\u2500\u2500\u2500\u2500\u2500\u2500\u2500\u2500\u2500\u2500\u2500\u2500\u2500\u2500\u2500\u2500\u2500\u2500\u2500\u2500\u2500\u2500\u2500\u2500\u2500\u2500\u2500\u2500\u2500\u2500\u2500\u2500\u2500\u2500\u2500\u2500\ufffd\ufffd\u2500\u2500\u2500\u2500\u2500\u2500\u2500\u2500\u2500\u2500\u2500\u2500\u2500\u2500\u2500\u2500\u2500\u2500\u2500\u2500\u2500\u2500\u2500\u2500\u2500\u2524\n\u2502 weight_decay      \u2502 0.0005                                                                                 \u2502\n\u251c\u2500\u2500\u2500\u2500\u2500\u2500\u2500\u2500\u2500\u2500\u2500\u2500\u2500\u2500\u2500\u2500\u2500\u2500\u2500\u253c\u2500\u2500\u2500\u2500\u2500\u2500\u2500\u2500\u2500\u2500\u2500\u2500\u2500\u2500\u2500\u2500\u2500\u2500\u2500\u2500\u2500\u2500\u2500\u2500\u2500\u2500\u2500\u2500\u2500\u2500\u2500\u2500\u2500\u2500\u2500\u2500\u2500\u2500\u2500\u2500\u2500\u2500\u2500\u2500\u2500\u2500\u2500\u2500\u2500\u2500\u2500\u2500\u2500\u2500\u2500\u2500\u2500\u2500\u2500\u2500\u2500\u2500\u2500\u2500\u2500\u2500\u2500\u2500\u2500\u2500\u2500\u2500\u2500\u2500\u2500\u2500\u2500\u2500\u2500\u2500\u2500\u2500\u2500\u2500\u2500\u2500\u2500\u2500\u2524\n\u2502 momentum          \u2502 0.9                                                                                    \u2502\n\u251c\u2500\u2500\u2500\u2500\u2500\u2500\u2500\u2500\u2500\u2500\u2500\u2500\u2500\u2500\u2500\u2500\u2500\u2500\u2500\u253c\u2500\u2500\u2500\u2500\u2500\u2500\u2500\u2500\u2500\u2500\u2500\u2500\u2500\u2500\u2500\u2500\u2500\u2500\u2500\u2500\u2500\u2500\u2500\u2500\u2500\u2500\u2500\u2500\u2500\u2500\u2500\u2500\u2500\u2500\u2500\u2500\u2500\u2500\u2500\u2500\u2500\u2500\u2500\u2500\u2500\u2500\u2500\u2500\u2500\u2500\u2500\u2500\u2500\u2500\u2500\u2500\u2500\u2500\u2500\u2500\u2500\u2500\u2500\u2500\u2500\u2500\u2500\u2500\u2500\u2500\u2500\u2500\u2500\u2500\u2500\u2500\u2500\u2500\u2500\u2500\u2500\u2500\u2500\u2500\u2500\u2500\u2500\u2500\u2524\n\u2502 save_history_ckpt \ufffd\ufffd True                                                                                   \u2502\n\u251c\u2500\u2500\u2500\u2500\u2500\u2500\u2500\u2500\u2500\u2500\u2500\u2500\u2500\u2500\u2500\u2500\u2500\u2500\u2500\u253c\u2500\u2500\u2500\u2500\u2500\u2500\u2500\u2500\u2500\u2500\u2500\u2500\u2500\u2500\u2500\u2500\u2500\u2500\u2500\u2500\u2500\u2500\u2500\u2500\u2500\u2500\u2500\u2500\u2500\u2500\u2500\u2500\u2500\u2500\u2500\u2500\u2500\u2500\u2500\u2500\u2500\u2500\u2500\u2500\u2500\u2500\u2500\u2500\u2500\u2500\u2500\u2500\u2500\u2500\u2500\u2500\u2500\u2500\u2500\u2500\u2500\u2500\u2500\u2500\u2500\u2500\u2500\u2500\u2500\u2500\u2500\u2500\u2500\u2500\u2500\u2500\u2500\u2500\u2500\u2500\u2500\u2500\u2500\u2500\u2500\u2500\u2500\u2500\u2524\n\u2502 exp_name          \u2502 'yolox_m_fold_4'                                                                       \u2502\n\u251c\u2500\u2500\u2500\u2500\u2500\u2500\u2500\u2500\u2500\u2500\u2500\u2500\u2500\u2500\u2500\u2500\u2500\u2500\u2500\u253c\u2500\u2500\u2500\u2500\u2500\u2500\u2500\u2500\u2500\u2500\u2500\u2500\u2500\u2500\u2500\u2500\u2500\u2500\u2500\u2500\u2500\u2500\u2500\u2500\u2500\u2500\u2500\u2500\u2500\u2500\u2500\u2500\u2500\u2500\u2500\u2500\u2500\u2500\u2500\u2500\u2500\u2500\u2500\u2500\u2500\u2500\u2500\u2500\u2500\u2500\u2500\u2500\u2500\u2500\u2500\u2500\u2500\u2500\u2500\u2500\u2500\u2500\u2500\u2500\u2500\u2500\u2500\u2500\u2500\u2500\u2500\u2500\u2500\u2500\u2500\u2500\u2500\u2500\u2500\u2500\u2500\u2500\u2500\u2500\u2500\u2500\u2500\u2500\u2524\n\u2502 test_size         \u2502 (640, 640)                                                                             \u2502\n\u251c\u2500\u2500\ufffd\ufffd\u2500\u2500\u2500\u2500\u2500\u2500\u2500\u2500\u2500\u2500\u2500\u2500\u2500\u2500\u2500\u2500\u253c\u2500\u2500\u2500\u2500\u2500\u2500\u2500\u2500\u2500\u2500\u2500\u2500\u2500\u2500\u2500\u2500\u2500\u2500\u2500\u2500\u2500\u2500\u2500\u2500\u2500\u2500\u2500\u2500\u2500\u2500\u2500\u2500\u2500\u2500\u2500\u2500\u2500\u2500\u2500\u2500\u2500\u2500\u2500\u2500\u2500\u2500\u2500\u2500\u2500\u2500\u2500\u2500\u2500\u2500\u2500\u2500\u2500\u2500\u2500\u2500\u2500\u2500\u2500\u2500\u2500\u2500\u2500\u2500\u2500\u2500\u2500\u2500\u2500\u2500\u2500\u2500\u2500\u2500\u2500\u2500\u2500\u2500\u2500\u2500\u2500\u2500\u2500\u2500\u2524\n\u2502 test_conf         \u2502 0.01                                                                                   \u2502\n\u251c\u2500\u2500\u2500\u2500\u2500\u2500\u2500\u2500\u2500\u2500\u2500\u2500\u2500\u2500\u2500\u2500\u2500\u2500\u2500\u253c\u2500\u2500\u2500\u2500\u2500\u2500\u2500\u2500\u2500\u2500\u2500\u2500\u2500\u2500\u2500\u2500\u2500\u2500\u2500\u2500\u2500\u2500\u2500\u2500\u2500\u2500\u2500\u2500\u2500\u2500\u2500\u2500\u2500\u2500\u2500\u2500\u2500\u2500\u2500\u2500\u2500\u2500\u2500\u2500\u2500\u2500\u2500\u2500\u2500\u2500\u2500\u2500\u2500\u2500\u2500\u2500\u2500\u2500\u2500\u2500\u2500\u2500\u2500\u2500\u2500\u2500\u2500\u2500\u2500\u2500\u2500\u2500\u2500\u2500\u2500\u2500\u2500\u2500\u2500\u2500\u2500\u2500\u2500\u2500\u2500\u2500\u2500\u2500\u2524\n\u2502 nmsthre           \u2502 0.65                                                                                   \u2502\n\u2558\u2550\u2550\u2550\u2550\u2550\u2550\u2550\u2550\u2550\u2550\u2550\u2550\u2550\u2550\u2550\u2550\u2550\u2550\u2550\u2567\u2550\u2550\u2550\u2550\u2550\u2550\u2550\u2550\u2550\u2550\u2550\u2550\u2550\u2550\u2550\u2550\u2550\ufffd\ufffd\ufffd\u2550\u2550\u2550\u2550\u2550\u2550\u2550\u2550\u2550\u2550\u2550\u2550\u2550\u2550\u2550\u2550\u2550\u2550\u2550\u2550\u2550\u2550\u2550\u2550\u2550\u2550\u2550\u2550\u2550\u2550\u2550\u2550\u2550\u2550\u2550\u2550\u2550\u2550\u2550\u2550\u2550\u2550\u2550\u2550\u2550\u2550\u2550\u2550\u2550\u2550\u2550\u2550\u2550\u2550\u2550\u2550\u2550\u2550\u2550\u2550\u2550\u2550\u2550\u2550\u2550\u2550\u2550\u2550\u2550\u2550\u255b\n"
          ]
        },
        {
          "output_type": "stream",
          "name": "stderr",
          "text": [
            "2025-09-26 19:00:48 | INFO     | yolox.core.trainer:138 - Model Summary: Params: 25.28M, Gflops: 73.73\n2025-09-26 19:00:49 | INFO     | yolox.core.trainer:338 - loading checkpoint for fine tuning\n"
          ]
        },
        {
          "output_type": "stream",
          "name": "stderr",
          "text": [
            "2025-09-26 19:00:49 | WARNING  | yolox.utils.checkpoint:24 - Shape of head.cls_preds.0.weight in checkpoint is torch.Size([80, 192, 1, 1]), while shape of head.cls_preds.0.weight in model is torch.Size([1, 192, 1, 1]).\n2025-09-26 19:00:49 | WARNING  | yolox.utils.checkpoint:24 - Shape of head.cls_preds.0.bias in checkpoint is torch.Size([80]), while shape of head.cls_preds.0.bias in model is torch.Size([1]).\n2025-09-26 19:00:49 | WARNING  | yolox.utils.checkpoint:24 - Shape of head.cls_preds.1.weight in checkpoint is torch.Size([80, 192, 1, 1]), while shape of head.cls_preds.1.weight in model is torch.Size([1, 192, 1, 1]).\n2025-09-26 19:00:49 | WARNING  | yolox.utils.checkpoint:24 - Shape of head.cls_preds.1.bias in checkpoint is torch.Size([80]), while shape of head.cls_preds.1.bias in model is torch.Size([1]).\n2025-09-26 19:00:49 | WARNING  | yolox.utils.checkpoint:24 - Shape of head.cls_preds.2.weight in checkpoint is torch.Size([80, 192, 1, 1]), while shape of head.cls_preds.2.weight in model is torch.Size([1, 192, 1, 1]).\n2025-09-26 19:00:49 | WARNING  | yolox.utils.checkpoint:24 - Shape of head.cls_preds.2.bias in checkpoint is torch.Size([80]), while shape of head.cls_preds.2.bias in model is torch.Size([1]).\n2025-09-26 19:00:49 | INFO     | yolox.data.datasets.coco:63 - loading annotations into memory...\n2025-09-26 19:00:49 | INFO     | yolox.data.datasets.coco:63 - Done (t=0.01s)\n2025-09-26 19:00:49 | INFO     | pycocotools.coco:86 - creating index...\n2025-09-26 19:00:49 | INFO     | pycocotools.coco:86 - index created!\n2025-09-26 19:00:49 | INFO     | yolox.core.trainer:157 - init prefetcher, this might take one minute or less...\n"
          ]
        },
        {
          "output_type": "stream",
          "name": "stderr",
          "text": [
            "2025-09-26 19:00:50 | INFO     | yolox.data.datasets.coco:63 - loading annotations into memory...\n2025-09-26 19:00:50 | INFO     | yolox.data.datasets.coco:63 - Done (t=0.00s)\n2025-09-26 19:00:50 | INFO     | pycocotools.coco:86 - creating index...\n2025-09-26 19:00:50 | INFO     | pycocotools.coco:86 - index created!\n2025-09-26 19:00:50 | INFO     | yolox.core.trainer:196 - Training start...\n2025-09-26 19:00:50 | INFO     | yolox.core.trainer:197 - \nYOLOX(\n  (backbone): YOLOPAFPN(\n    (backbone): CSPDarknet(\n      (stem): Focus(\n        (conv): BaseConv(\n          (conv): Conv2d(12, 48, kernel_size=(3, 3), stride=(1, 1), padding=(1, 1), bias=False)\n          (bn): BatchNorm2d(48, eps=0.001, momentum=0.03, affine=True, track_running_stats=True)\n          (act): SiLU(inplace=True)\n        )\n      )\n      (dark2): Sequential(\n        (0): BaseConv(\n          (conv): Conv2d(48, 96, kernel_size=(3, 3), stride=(2, 2), padding=(1, 1), bias=False)\n          (bn): BatchNorm2d(96, eps=0.001, momentum=0.03, affine=True, track_running_stats=True)\n          (act): SiLU(inplace=True)\n        )\n        (1): CSPLayer(\n          (conv1): BaseConv(\n            (conv): Conv2d(96, 48, kernel_size=(1, 1), stride=(1, 1), bias=False)\n            (bn): BatchNorm2d(48, eps=0.001, momentum=0.03, affine=True, track_running_stats=True)\n            (act): SiLU(inplace=True)\n          )\n          (conv2): BaseConv(\n            (conv): Conv2d(96, 48, kernel_size=(1, 1), stride=(1, 1), bias=False)\n            (bn): BatchNorm2d(48, eps=0.001, momentum=0.03, affine=True, track_running_stats=True)\n            (act): SiLU(inplace=True)\n          )\n          (conv3): BaseConv(\n            (conv): Conv2d(96, 96, kernel_size=(1, 1), stride=(1, 1), bias=False)\n            (bn): BatchNorm2d(96, eps=0.001, momentum=0.03, affine=True, track_running_stats=True)\n            (act): SiLU(inplace=True)\n          )\n          (m): Sequential(\n            (0): Bottleneck(\n              (conv1): BaseConv(\n                (conv): Conv2d(48, 48, kernel_size=(1, 1), stride=(1, 1), bias=False)\n                (bn): BatchNorm2d(48, eps=0.001, momentum=0.03, affine=True, track_running_stats=True)\n                (act): SiLU(inplace=True)\n              )\n              (conv2): BaseConv(\n                (conv): Conv2d(48, 48, kernel_size=(3, 3), stride=(1, 1), padding=(1, 1), bias=False)\n                (bn): BatchNorm2d(48, eps=0.001, momentum=0.03, affine=True, track_running_stats=True)\n                (act): SiLU(inplace=True)\n              )\n            )\n            (1): Bottleneck(\n              (conv1): BaseConv(\n                (conv): Conv2d(48, 48, kernel_size=(1, 1), stride=(1, 1), bias=False)\n                (bn): BatchNorm2d(48, eps=0.001, momentum=0.03, affine=True, track_running_stats=True)\n                (act): SiLU(inplace=True)\n              )\n              (conv2): BaseConv(\n                (conv): Conv2d(48, 48, kernel_size=(3, 3), stride=(1, 1), padding=(1, 1), bias=False)\n                (bn): BatchNorm2d(48, eps=0.001, momentum=0.03, affine=True, track_running_stats=True)\n                (act): SiLU(inplace=True)\n              )\n            )\n          )\n        )\n      )\n      (dark3): Sequential(\n        (0): BaseConv(\n          (conv): Conv2d(96, 192, kernel_size=(3, 3), stride=(2, 2), padding=(1, 1), bias=False)\n          (bn): BatchNorm2d(192, eps=0.001, momentum=0.03, affine=True, track_running_stats=True)\n          (act): SiLU(inplace=True)\n        )\n        (1): CSPLayer(\n          (conv1): BaseConv(\n            (conv): Conv2d(192, 96, kernel_size=(1, 1), stride=(1, 1), bias=False)\n            (bn): BatchNorm2d(96, eps=0.001, momentum=0.03, affine=True, track_running_stats=True)\n            (act): SiLU(inplace=True)\n          )\n          (conv2): BaseConv(\n            (conv): Conv2d(192, 96, kernel_size=(1, 1), stride=(1, 1), bias=False)\n            (bn): BatchNorm2d(96, eps=0.001, momentum=0.03, affine=True, track_running_stats=True)\n            (act): SiLU(inplace=True)\n          )\n          (conv3): BaseConv(\n            (conv): Conv2d(192, 192, kernel_size=(1, 1), stride=(1, 1), bias=False)\n            (bn): BatchNorm2d(192, eps=0.001, momentum=0.03, affine=True, track_running_stats=True)\n            (act): SiLU(inplace=True)\n          )\n          (m): Sequential(\n            (0): Bottleneck(\n              (conv1): BaseConv(\n                (conv): Conv2d(96, 96, kernel_size=(1, 1), stride=(1, 1), bias=False)\n                (bn): BatchNorm2d(96, eps=0.001, momentum=0.03, affine=True, track_running_stats=True)\n                (act): SiLU(inplace=True)\n              )\n              (conv2): BaseConv(\n                (conv): Conv2d(96, 96, kernel_size=(3, 3), stride=(1, 1), padding=(1, 1), bias=False)\n                (bn): BatchNorm2d(96, eps=0.001, momentum=0.03, affine=True, track_running_stats=True)\n                (act): SiLU(inplace=True)\n              )\n            )\n            (1): Bottleneck(\n              (conv1): BaseConv(\n                (conv): Conv2d(96, 96, kernel_size=(1, 1), stride=(1, 1), bias=False)\n                (bn): BatchNorm2d(96, eps=0.001, momentum=0.03, affine=True, track_running_stats=True)\n                (act): SiLU(inplace=True)\n              )\n              (conv2): BaseConv(\n                (conv): Conv2d(96, 96, kernel_size=(3, 3), stride=(1, 1), padding=(1, 1), bias=False)\n                (bn): BatchNorm2d(96, eps=0.001, momentum=0.03, affine=True, track_running_stats=True)\n                (act): SiLU(inplace=True)\n              )\n            )\n            (2): Bottleneck(\n              (conv1): BaseConv(\n                (conv): Conv2d(96, 96, kernel_size=(1, 1), stride=(1, 1), bias=False)\n                (bn): BatchNorm2d(96, eps=0.001, momentum=0.03, affine=True, track_running_stats=True)\n                (act): SiLU(inplace=True)\n              )\n              (conv2): BaseConv(\n                (conv): Conv2d(96, 96, kernel_size=(3, 3), stride=(1, 1), padding=(1, 1), bias=False)\n                (bn): BatchNorm2d(96, eps=0.001, momentum=0.03, affine=True, track_running_stats=True)\n                (act): SiLU(inplace=True)\n              )\n            )\n            (3): Bottleneck(\n              (conv1): BaseConv(\n                (conv): Conv2d(96, 96, kernel_size=(1, 1), stride=(1, 1), bias=False)\n                (bn): BatchNorm2d(96, eps=0.001, momentum=0.03, affine=True, track_running_stats=True)\n                (act): SiLU(inplace=True)\n              )\n              (conv2): BaseConv(\n                (conv): Conv2d(96, 96, kernel_size=(3, 3), stride=(1, 1), padding=(1, 1), bias=False)\n                (bn): BatchNorm2d(96, eps=0.001, momentum=0.03, affine=True, track_running_stats=True)\n                (act): SiLU(inplace=True)\n              )\n            )\n            (4): Bottleneck(\n              (conv1): BaseConv(\n                (conv): Conv2d(96, 96, kernel_size=(1, 1), stride=(1, 1), bias=False)\n                (bn): BatchNorm2d(96, eps=0.001, momentum=0.03, affine=True, track_running_stats=True)\n                (act): SiLU(inplace=True)\n              )\n              (conv2): BaseConv(\n                (conv): Conv2d(96, 96, kernel_size=(3, 3), stride=(1, 1), padding=(1, 1), bias=False)\n                (bn): BatchNorm2d(96, eps=0.001, momentum=0.03, affine=True, track_running_stats=True)\n                (act): SiLU(inplace=True)\n              )\n            )\n            (5): Bottleneck(\n              (conv1): BaseConv(\n                (conv): Conv2d(96, 96, kernel_size=(1, 1), stride=(1, 1), bias=False)\n                (bn): BatchNorm2d(96, eps=0.001, momentum=0.03, affine=True, track_running_stats=True)\n                (act): SiLU(inplace=True)\n              )\n              (conv2): BaseConv(\n                (conv): Conv2d(96, 96, kernel_size=(3, 3), stride=(1, 1), padding=(1, 1), bias=False)\n                (bn): BatchNorm2d(96, eps=0.001, momentum=0.03, affine=True, track_running_stats=True)\n                (act): SiLU(inplace=True)\n              )\n            )\n          )\n        )\n      )\n      (dark4): Sequential(\n        (0): BaseConv(\n          (conv): Conv2d(192, 384, kernel_size=(3, 3), stride=(2, 2), padding=(1, 1), bias=False)\n          (bn): BatchNorm2d(384, eps=0.001, momentum=0.03, affine=True, track_running_stats=True)\n          (act): SiLU(inplace=True)\n        )\n        (1): CSPLayer(\n          (conv1): BaseConv(\n            (conv): Conv2d(384, 192, kernel_size=(1, 1), stride=(1, 1), bias=False)\n            (bn): BatchNorm2d(192, eps=0.001, momentum=0.03, affine=True, track_running_stats=True)\n            (act): SiLU(inplace=True)\n          )\n          (conv2): BaseConv(\n            (conv): Conv2d(384, 192, kernel_size=(1, 1), stride=(1, 1), bias=False)\n            (bn): BatchNorm2d(192, eps=0.001, momentum=0.03, affine=True, track_running_stats=True)\n            (act): SiLU(inplace=True)\n          )\n          (conv3): BaseConv(\n            (conv): Conv2d(384, 384, kernel_size=(1, 1), stride=(1, 1), bias=False)\n            (bn): BatchNorm2d(384, eps=0.001, momentum=0.03, affine=True, track_running_stats=True)\n            (act): SiLU(inplace=True)\n          )\n          (m): Sequential(\n            (0): Bottleneck(\n              (conv1): BaseConv(\n                (conv): Conv2d(192, 192, kernel_size=(1, 1), stride=(1, 1), bias=False)\n                (bn): BatchNorm2d(192, eps=0.001, momentum=0.03, affine=True, track_running_stats=True)\n                (act): SiLU(inplace=True)\n              )\n              (conv2): BaseConv(\n                (conv): Conv2d(192, 192, kernel_size=(3, 3), stride=(1, 1), padding=(1, 1), bias=False)\n                (bn): BatchNorm2d(192, eps=0.001, momentum=0.03, affine=True, track_running_stats=True)\n                (act): SiLU(inplace=True)\n              )\n            )\n            (1): Bottleneck(\n              (conv1): BaseConv(\n                (conv): Conv2d(192, 192, kernel_size=(1, 1), stride=(1, 1), bias=False)\n                (bn): BatchNorm2d(192, eps=0.001, momentum=0.03, affine=True, track_running_stats=True)\n                (act): SiLU(inplace=True)\n              )\n              (conv2): BaseConv(\n                (conv): Conv2d(192, 192, kernel_size=(3, 3), stride=(1, 1), padding=(1, 1), bias=False)\n                (bn): BatchNorm2d(192, eps=0.001, momentum=0.03, affine=True, track_running_stats=True)\n                (act): SiLU(inplace=True)\n              )\n            )\n            (2): Bottleneck(\n              (conv1): BaseConv(\n                (conv): Conv2d(192, 192, kernel_size=(1, 1), stride=(1, 1), bias=False)\n                (bn): BatchNorm2d(192, eps=0.001, momentum=0.03, affine=True, track_running_stats=True)\n                (act): SiLU(inplace=True)\n              )\n              (conv2): BaseConv(\n                (conv): Conv2d(192, 192, kernel_size=(3, 3), stride=(1, 1), padding=(1, 1), bias=False)\n                (bn): BatchNorm2d(192, eps=0.001, momentum=0.03, affine=True, track_running_stats=True)\n                (act): SiLU(inplace=True)\n              )\n            )\n            (3): Bottleneck(\n              (conv1): BaseConv(\n                (conv): Conv2d(192, 192, kernel_size=(1, 1), stride=(1, 1), bias=False)\n                (bn): BatchNorm2d(192, eps=0.001, momentum=0.03, affine=True, track_running_stats=True)\n                (act): SiLU(inplace=True)\n              )\n              (conv2): BaseConv(\n                (conv): Conv2d(192, 192, kernel_size=(3, 3), stride=(1, 1), padding=(1, 1), bias=False)\n                (bn): BatchNorm2d(192, eps=0.001, momentum=0.03, affine=True, track_running_stats=True)\n                (act): SiLU(inplace=True)\n              )\n            )\n            (4): Bottleneck(\n              (conv1): BaseConv(\n                (conv): Conv2d(192, 192, kernel_size=(1, 1), stride=(1, 1), bias=False)\n                (bn): BatchNorm2d(192, eps=0.001, momentum=0.03, affine=True, track_running_stats=True)\n                (act): SiLU(inplace=True)\n              )\n              (conv2): BaseConv(\n                (conv): Conv2d(192, 192, kernel_size=(3, 3), stride=(1, 1), padding=(1, 1), bias=False)\n                (bn): BatchNorm2d(192, eps=0.001, momentum=0.03, affine=True, track_running_stats=True)\n                (act): SiLU(inplace=True)\n              )\n            )\n            (5): Bottleneck(\n              (conv1): BaseConv(\n                (conv): Conv2d(192, 192, kernel_size=(1, 1), stride=(1, 1), bias=False)\n                (bn): BatchNorm2d(192, eps=0.001, momentum=0.03, affine=True, track_running_stats=True)\n                (act): SiLU(inplace=True)\n              )\n              (conv2): BaseConv(\n                (conv): Conv2d(192, 192, kernel_size=(3, 3), stride=(1, 1), padding=(1, 1), bias=False)\n                (bn): BatchNorm2d(192, eps=0.001, momentum=0.03, affine=True, track_running_stats=True)\n                (act): SiLU(inplace=True)\n              )\n            )\n          )\n        )\n      )\n      (dark5): Sequential(\n        (0): BaseConv(\n          (conv): Conv2d(384, 768, kernel_size=(3, 3), stride=(2, 2), padding=(1, 1), bias=False)\n          (bn): BatchNorm2d(768, eps=0.001, momentum=0.03, affine=True, track_running_stats=True)\n          (act): SiLU(inplace=True)\n        )\n        (1): SPPBottleneck(\n          (conv1): BaseConv(\n            (conv): Conv2d(768, 384, kernel_size=(1, 1), stride=(1, 1), bias=False)\n            (bn): BatchNorm2d(384, eps=0.001, momentum=0.03, affine=True, track_running_stats=True)\n            (act): SiLU(inplace=True)\n          )\n          (m): ModuleList(\n            (0): MaxPool2d(kernel_size=5, stride=1, padding=2, dilation=1, ceil_mode=False)\n            (1): MaxPool2d(kernel_size=9, stride=1, padding=4, dilation=1, ceil_mode=False)\n            (2): MaxPool2d(kernel_size=13, stride=1, padding=6, dilation=1, ceil_mode=False)\n          )\n          (conv2): BaseConv(\n            (conv): Conv2d(1536, 768, kernel_size=(1, 1), stride=(1, 1), bias=False)\n            (bn): BatchNorm2d(768, eps=0.001, momentum=0.03, affine=True, track_running_stats=True)\n            (act): SiLU(inplace=True)\n          )\n        )\n        (2): CSPLayer(\n          (conv1): BaseConv(\n            (conv): Conv2d(768, 384, kernel_size=(1, 1), stride=(1, 1), bias=False)\n            (bn): BatchNorm2d(384, eps=0.001, momentum=0.03, affine=True, track_running_stats=True)\n            (act): SiLU(inplace=True)\n          )\n          (conv2): BaseConv(\n            (conv): Conv2d(768, 384, kernel_size=(1, 1), stride=(1, 1), bias=False)\n            (bn): BatchNorm2d(384, eps=0.001, momentum=0.03, affine=True, track_running_stats=True)\n            (act): SiLU(inplace=True)\n          )\n          (conv3): BaseConv(\n            (conv): Conv2d(768, 768, kernel_size=(1, 1), stride=(1, 1), bias=False)\n            (bn): BatchNorm2d(768, eps=0.001, momentum=0.03, affine=True, track_running_stats=True)\n            (act): SiLU(inplace=True)\n          )\n          (m): Sequential(\n            (0): Bottleneck(\n              (conv1): BaseConv(\n                (conv): Conv2d(384, 384, kernel_size=(1, 1), stride=(1, 1), bias=False)\n                (bn): BatchNorm2d(384, eps=0.001, momentum=0.03, affine=True, track_running_stats=True)\n                (act): SiLU(inplace=True)\n              )\n              (conv2): BaseConv(\n                (conv): Conv2d(384, 384, kernel_size=(3, 3), stride=(1, 1), padding=(1, 1), bias=False)\n                (bn): BatchNorm2d(384, eps=0.001, momentum=0.03, affine=True, track_running_stats=True)\n                (act): SiLU(inplace=True)\n              )\n            )\n            (1): Bottleneck(\n              (conv1): BaseConv(\n                (conv): Conv2d(384, 384, kernel_size=(1, 1), stride=(1, 1), bias=False)\n                (bn): BatchNorm2d(384, eps=0.001, momentum=0.03, affine=True, track_running_stats=True)\n                (act): SiLU(inplace=True)\n              )\n              (conv2): BaseConv(\n                (conv): Conv2d(384, 384, kernel_size=(3, 3), stride=(1, 1), padding=(1, 1), bias=False)\n                (bn): BatchNorm2d(384, eps=0.001, momentum=0.03, affine=True, track_running_stats=True)\n                (act): SiLU(inplace=True)\n              )\n            )\n          )\n        )\n      )\n    )\n    (upsample): Upsample(scale_factor=2.0, mode='nearest')\n    (lateral_conv0): BaseConv(\n      (conv): Conv2d(768, 384, kernel_size=(1, 1), stride=(1, 1), bias=False)\n      (bn): BatchNorm2d(384, eps=0.001, momentum=0.03, affine=True, track_running_stats=True)\n      (act): SiLU(inplace=True)\n    )\n    (C3_p4): CSPLayer(\n      (conv1): BaseConv(\n        (conv): Conv2d(768, 192, kernel_size=(1, 1), stride=(1, 1), bias=False)\n        (bn): BatchNorm2d(192, eps=0.001, momentum=0.03, affine=True, track_running_stats=True)\n        (act): SiLU(inplace=True)\n      )\n      (conv2): BaseConv(\n        (conv): Conv2d(768, 192, kernel_size=(1, 1), stride=(1, 1), bias=False)\n        (bn): BatchNorm2d(192, eps=0.001, momentum=0.03, affine=True, track_running_stats=True)\n        (act): SiLU(inplace=True)\n      )\n      (conv3): BaseConv(\n        (conv): Conv2d(384, 384, kernel_size=(1, 1), stride=(1, 1), bias=False)\n        (bn): BatchNorm2d(384, eps=0.001, momentum=0.03, affine=True, track_running_stats=True)\n        (act): SiLU(inplace=True)\n      )\n      (m): Sequential(\n        (0): Bottleneck(\n          (conv1): BaseConv(\n            (conv): Conv2d(192, 192, kernel_size=(1, 1), stride=(1, 1), bias=False)\n            (bn): BatchNorm2d(192, eps=0.001, momentum=0.03, affine=True, track_running_stats=True)\n            (act): SiLU(inplace=True)\n          )\n          (conv2): BaseConv(\n            (conv): Conv2d(192, 192, kernel_size=(3, 3), stride=(1, 1), padding=(1, 1), bias=False)\n            (bn): BatchNorm2d(192, eps=0.001, momentum=0.03, affine=True, track_running_stats=True)\n            (act): SiLU(inplace=True)\n          )\n        )\n        (1): Bottleneck(\n          (conv1): BaseConv(\n            (conv): Conv2d(192, 192, kernel_size=(1, 1), stride=(1, 1), bias=False)\n            (bn): BatchNorm2d(192, eps=0.001, momentum=0.03, affine=True, track_running_stats=True)\n            (act): SiLU(inplace=True)\n          )\n          (conv2): BaseConv(\n            (conv): Conv2d(192, 192, kernel_size=(3, 3), stride=(1, 1), padding=(1, 1), bias=False)\n            (bn): BatchNorm2d(192, eps=0.001, momentum=0.03, affine=True, track_running_stats=True)\n            (act): SiLU(inplace=True)\n          )\n        )\n      )\n    )\n    (reduce_conv1): BaseConv(\n      (conv): Conv2d(384, 192, kernel_size=(1, 1), stride=(1, 1), bias=False)\n      (bn): BatchNorm2d(192, eps=0.001, momentum=0.03, affine=True, track_running_stats=True)\n      (act): SiLU(inplace=True)\n    )\n    (C3_p3): CSPLayer(\n      (conv1): BaseConv(\n        (conv): Conv2d(384, 96, kernel_size=(1, 1), stride=(1, 1), bias=False)\n        (bn): BatchNorm2d(96, eps=0.001, momentum=0.03, affine=True, track_running_stats=True)\n        (act): SiLU(inplace=True)\n      )\n      (conv2): BaseConv(\n        (conv): Conv2d(384, 96, kernel_size=(1, 1), stride=(1, 1), bias=False)\n        (bn): BatchNorm2d(96, eps=0.001, momentum=0.03, affine=True, track_running_stats=True)\n        (act): SiLU(inplace=True)\n      )\n      (conv3): BaseConv(\n        (conv): Conv2d(192, 192, kernel_size=(1, 1), stride=(1, 1), bias=False)\n        (bn): BatchNorm2d(192, eps=0.001, momentum=0.03, affine=True, track_running_stats=True)\n        (act): SiLU(inplace=True)\n      )\n      (m): Sequential(\n        (0): Bottleneck(\n          (conv1): BaseConv(\n            (conv): Conv2d(96, 96, kernel_size=(1, 1), stride=(1, 1), bias=False)\n            (bn): BatchNorm2d(96, eps=0.001, momentum=0.03, affine=True, track_running_stats=True)\n            (act): SiLU(inplace=True)\n          )\n          (conv2): BaseConv(\n            (conv): Conv2d(96, 96, kernel_size=(3, 3), stride=(1, 1), padding=(1, 1), bias=False)\n            (bn): BatchNorm2d(96, eps=0.001, momentum=0.03, affine=True, track_running_stats=True)\n            (act): SiLU(inplace=True)\n          )\n        )\n        (1): Bottleneck(\n          (conv1): BaseConv(\n            (conv): Conv2d(96, 96, kernel_size=(1, 1), stride=(1, 1), bias=False)\n            (bn): BatchNorm2d(96, eps=0.001, momentum=0.03, affine=True, track_running_stats=True)\n            (act): SiLU(inplace=True)\n          )\n          (conv2): BaseConv(\n            (conv): Conv2d(96, 96, kernel_size=(3, 3), stride=(1, 1), padding=(1, 1), bias=False)\n            (bn): BatchNorm2d(96, eps=0.001, momentum=0.03, affine=True, track_running_stats=True)\n            (act): SiLU(inplace=True)\n          )\n        )\n      )\n    )\n    (bu_conv2): BaseConv(\n      (conv): Conv2d(192, 192, kernel_size=(3, 3), stride=(2, 2), padding=(1, 1), bias=False)\n      (bn): BatchNorm2d(192, eps=0.001, momentum=0.03, affine=True, track_running_stats=True)\n      (act): SiLU(inplace=True)\n    )\n    (C3_n3): CSPLayer(\n      (conv1): BaseConv(\n        (conv): Conv2d(384, 192, kernel_size=(1, 1), stride=(1, 1), bias=False)\n        (bn): BatchNorm2d(192, eps=0.001, momentum=0.03, affine=True, track_running_stats=True)\n        (act): SiLU(inplace=True)\n      )\n      (conv2): BaseConv(\n        (conv): Conv2d(384, 192, kernel_size=(1, 1), stride=(1, 1), bias=False)\n        (bn): BatchNorm2d(192, eps=0.001, momentum=0.03, affine=True, track_running_stats=True)\n        (act): SiLU(inplace=True)\n      )\n      (conv3): BaseConv(\n        (conv): Conv2d(384, 384, kernel_size=(1, 1), stride=(1, 1), bias=False)\n        (bn): BatchNorm2d(384, eps=0.001, momentum=0.03, affine=True, track_running_stats=True)\n        (act): SiLU(inplace=True)\n      )\n      (m): Sequential(\n        (0): Bottleneck(\n          (conv1): BaseConv(\n            (conv): Conv2d(192, 192, kernel_size=(1, 1), stride=(1, 1), bias=False)\n            (bn): BatchNorm2d(192, eps=0.001, momentum=0.03, affine=True, track_running_stats=True)\n            (act): SiLU(inplace=True)\n          )\n          (conv2): BaseConv(\n            (conv): Conv2d(192, 192, kernel_size=(3, 3), stride=(1, 1), padding=(1, 1), bias=False)\n            (bn): BatchNorm2d(192, eps=0.001, momentum=0.03, affine=True, track_running_stats=True)\n            (act): SiLU(inplace=True)\n          )\n        )\n        (1): Bottleneck(\n          (conv1): BaseConv(\n            (conv): Conv2d(192, 192, kernel_size=(1, 1), stride=(1, 1), bias=False)\n            (bn): BatchNorm2d(192, eps=0.001, momentum=0.03, affine=True, track_running_stats=True)\n            (act): SiLU(inplace=True)\n          )\n          (conv2): BaseConv(\n            (conv): Conv2d(192, 192, kernel_size=(3, 3), stride=(1, 1), padding=(1, 1), bias=False)\n            (bn): BatchNorm2d(192, eps=0.001, momentum=0.03, affine=True, track_running_stats=True)\n            (act): SiLU(inplace=True)\n          )\n        )\n      )\n    )\n    (bu_conv1): BaseConv(\n      (conv): Conv2d(384, 384, kernel_size=(3, 3), stride=(2, 2), padding=(1, 1), bias=False)\n      (bn): BatchNorm2d(384, eps=0.001, momentum=0.03, affine=True, track_running_stats=True)\n      (act): SiLU(inplace=True)\n    )\n    (C3_n4): CSPLayer(\n      (conv1): BaseConv(\n        (conv): Conv2d(768, 384, kernel_size=(1, 1), stride=(1, 1), bias=False)\n        (bn): BatchNorm2d(384, eps=0.001, momentum=0.03, affine=True, track_running_stats=True)\n        (act): SiLU(inplace=True)\n      )\n      (conv2): BaseConv(\n        (conv): Conv2d(768, 384, kernel_size=(1, 1), stride=(1, 1), bias=False)\n        (bn): BatchNorm2d(384, eps=0.001, momentum=0.03, affine=True, track_running_stats=True)\n        (act): SiLU(inplace=True)\n      )\n      (conv3): BaseConv(\n        (conv): Conv2d(768, 768, kernel_size=(1, 1), stride=(1, 1), bias=False)\n        (bn): BatchNorm2d(768, eps=0.001, momentum=0.03, affine=True, track_running_stats=True)\n        (act): SiLU(inplace=True)\n      )\n      (m): Sequential(\n        (0): Bottleneck(\n          (conv1): BaseConv(\n            (conv): Conv2d(384, 384, kernel_size=(1, 1), stride=(1, 1), bias=False)\n            (bn): BatchNorm2d(384, eps=0.001, momentum=0.03, affine=True, track_running_stats=True)\n            (act): SiLU(inplace=True)\n          )\n          (conv2): BaseConv(\n            (conv): Conv2d(384, 384, kernel_size=(3, 3), stride=(1, 1), padding=(1, 1), bias=False)\n            (bn): BatchNorm2d(384, eps=0.001, momentum=0.03, affine=True, track_running_stats=True)\n            (act): SiLU(inplace=True)\n          )\n        )\n        (1): Bottleneck(\n          (conv1): BaseConv(\n            (conv): Conv2d(384, 384, kernel_size=(1, 1), stride=(1, 1), bias=False)\n            (bn): BatchNorm2d(384, eps=0.001, momentum=0.03, affine=True, track_running_stats=True)\n            (act): SiLU(inplace=True)\n          )\n          (conv2): BaseConv(\n            (conv): Conv2d(384, 384, kernel_size=(3, 3), stride=(1, 1), padding=(1, 1), bias=False)\n            (bn): BatchNorm2d(384, eps=0.001, momentum=0.03, affine=True, track_running_stats=True)\n            (act): SiLU(inplace=True)\n          )\n        )\n      )\n    )\n  )\n  (head): YOLOXHead(\n    (cls_convs): ModuleList(\n      (0-2): 3 x Sequential(\n        (0): BaseConv(\n          (conv): Conv2d(192, 192, kernel_size=(3, 3), stride=(1, 1), padding=(1, 1), bias=False)\n          (bn): BatchNorm2d(192, eps=0.001, momentum=0.03, affine=True, track_running_stats=True)\n          (act): SiLU(inplace=True)\n        )\n        (1): BaseConv(\n          (conv): Conv2d(192, 192, kernel_size=(3, 3), stride=(1, 1), padding=(1, 1), bias=False)\n          (bn): BatchNorm2d(192, eps=0.001, momentum=0.03, affine=True, track_running_stats=True)\n          (act): SiLU(inplace=True)\n        )\n      )\n    )\n    (reg_convs): ModuleList(\n      (0-2): 3 x Sequential(\n        (0): BaseConv(\n          (conv): Conv2d(192, 192, kernel_size=(3, 3), stride=(1, 1), padding=(1, 1), bias=False)\n          (bn): BatchNorm2d(192, eps=0.001, momentum=0.03, affine=True, track_running_stats=True)\n          (act): SiLU(inplace=True)\n        )\n        (1): BaseConv(\n          (conv): Conv2d(192, 192, kernel_size=(3, 3), stride=(1, 1), padding=(1, 1), bias=False)\n          (bn): BatchNorm2d(192, eps=0.001, momentum=0.03, affine=True, track_running_stats=True)\n          (act): SiLU(inplace=True)\n        )\n      )\n    )\n    (cls_preds): ModuleList(\n      (0-2): 3 x Conv2d(192, 1, kernel_size=(1, 1), stride=(1, 1))\n    )\n    (reg_preds): ModuleList(\n      (0-2): 3 x Conv2d(192, 4, kernel_size=(1, 1), stride=(1, 1))\n    )\n    (obj_preds): ModuleList(\n      (0-2): 3 x Conv2d(192, 1, kernel_size=(1, 1), stride=(1, 1))\n    )\n    (stems): ModuleList(\n      (0): BaseConv(\n        (conv): Conv2d(192, 192, kernel_size=(1, 1), stride=(1, 1), bias=False)\n        (bn): BatchNorm2d(192, eps=0.001, momentum=0.03, affine=True, track_running_stats=True)\n        (act): SiLU(inplace=True)\n      )\n      (1): BaseConv(\n        (conv): Conv2d(384, 192, kernel_size=(1, 1), stride=(1, 1), bias=False)\n        (bn): BatchNorm2d(192, eps=0.001, momentum=0.03, affine=True, track_running_stats=True)\n        (act): SiLU(inplace=True)\n      )\n      (2): BaseConv(\n        (conv): Conv2d(768, 192, kernel_size=(1, 1), stride=(1, 1), bias=False)\n        (bn): BatchNorm2d(192, eps=0.001, momentum=0.03, affine=True, track_running_stats=True)\n        (act): SiLU(inplace=True)\n      )\n    )\n    (l1_loss): L1Loss()\n    (bcewithlog_loss): BCEWithLogitsLoss()\n    (iou_loss): IOUloss()\n  )\n)\n2025-09-26 19:00:50 | INFO     | yolox.core.trainer:218 - ---> start train epoch1\n2025-09-26 19:00:50 | INFO     | yolox.core.trainer:221 - --->No mosaic aug now!\n2025-09-26 19:00:50 | INFO     | yolox.core.trainer:223 - --->Add additional L1 loss now!\n"
          ]
        },
        {
          "output_type": "stream",
          "name": "stderr",
          "text": [
            "2025-09-26 19:01:10 | INFO     | yolox.core.trainer:270 - epoch: 1/2, iter: 10/285, gpu mem: 6005Mb, mem: 38.8Gb, iter_time: 1.998s, data_time: 0.282s, total_loss: 21.9, iou_loss: 3.6, l1_loss: 2.5, conf_loss: 13.4, cls_loss: 2.4, lr: 3.078e-06, size: 640, ETA: 0:18:38\n"
          ]
        },
        {
          "output_type": "stream",
          "name": "stderr",
          "text": [
            "2025-09-26 19:01:30 | INFO     | yolox.core.trainer:270 - epoch: 1/2, iter: 20/285, gpu mem: 7871Mb, mem: 38.4Gb, iter_time: 1.943s, data_time: 0.214s, total_loss: 15.9, iou_loss: 3.6, l1_loss: 2.4, conf_loss: 7.8, cls_loss: 2.1, lr: 1.231e-05, size: 736, ETA: 0:18:03\n"
          ]
        },
        {
          "output_type": "stream",
          "name": "stderr",
          "text": [
            "2025-09-26 19:01:49 | INFO     | yolox.core.trainer:270 - epoch: 1/2, iter: 30/285, gpu mem: 7871Mb, mem: 38.3Gb, iter_time: 1.904s, data_time: 0.248s, total_loss: 13.1, iou_loss: 3.5, l1_loss: 2.1, conf_loss: 5.9, cls_loss: 1.6, lr: 2.770e-05, size: 608, ETA: 0:17:32\n"
          ]
        },
        {
          "output_type": "stream",
          "name": "stderr",
          "text": [
            "2025-09-26 19:02:09 | INFO     | yolox.core.trainer:270 - epoch: 1/2, iter: 40/285, gpu mem: 7871Mb, mem: 38.3Gb, iter_time: 1.957s, data_time: 0.302s, total_loss: 11.7, iou_loss: 3.3, l1_loss: 2.0, conf_loss: 5.4, cls_loss: 1.1, lr: 4.925e-05, size: 576, ETA: 0:17:13\n"
          ]
        },
        {
          "output_type": "stream",
          "name": "stderr",
          "text": [
            "2025-09-26 19:02:15 | INFO     | yolox.core.trainer:270 - epoch: 1/2, iter: 50/285, gpu mem: 7871Mb, mem: 38.8Gb, iter_time: 0.680s, data_time: 0.466s, total_loss: 11.4, iou_loss: 3.3, l1_loss: 2.1, conf_loss: 5.2, cls_loss: 0.8, lr: 7.695e-05, size: 640, ETA: 0:14:42\n"
          ]
        },
        {
          "output_type": "stream",
          "name": "stderr",
          "text": [
            "2025-09-26 19:02:23 | INFO     | yolox.core.trainer:270 - epoch: 1/2, iter: 60/285, gpu mem: 7871Mb, mem: 38.7Gb, iter_time: 0.730s, data_time: 0.544s, total_loss: 10.9, iou_loss: 3.2, l1_loss: 1.8, conf_loss: 5.2, cls_loss: 0.8, lr: 1.108e-04, size: 576, ETA: 0:13:03\n"
          ]
        },
        {
          "output_type": "stream",
          "name": "stderr",
          "text": [
            "2025-09-26 19:02:29 | INFO     | yolox.core.trainer:270 - epoch: 1/2, iter: 70/285, gpu mem: 7871Mb, mem: 38.6Gb, iter_time: 0.669s, data_time: 0.452s, total_loss: 9.8, iou_loss: 3.0, l1_loss: 1.6, conf_loss: 4.4, cls_loss: 0.7, lr: 1.508e-04, size: 640, ETA: 0:11:45\n"
          ]
        },
        {
          "output_type": "stream",
          "name": "stderr",
          "text": [
            "2025-09-26 19:02:37 | INFO     | yolox.core.trainer:270 - epoch: 1/2, iter: 80/285, gpu mem: 7871Mb, mem: 38.5Gb, iter_time: 0.755s, data_time: 0.538s, total_loss: 9.8, iou_loss: 3.0, l1_loss: 1.6, conf_loss: 4.5, cls_loss: 0.7, lr: 1.970e-04, size: 640, ETA: 0:10:51\n"
          ]
        },
        {
          "output_type": "stream",
          "name": "stderr",
          "text": [
            "2025-09-26 19:02:53 | INFO     | yolox.core.trainer:270 - epoch: 1/2, iter: 90/285, gpu mem: 7871Mb, mem: 38.4Gb, iter_time: 1.650s, data_time: 0.409s, total_loss: 10.1, iou_loss: 3.4, l1_loss: 1.8, conf_loss: 4.3, cls_loss: 0.7, lr: 2.493e-04, size: 512, ETA: 0:10:55\n"
          ]
        },
        {
          "output_type": "stream",
          "name": "stderr",
          "text": [
            "2025-09-26 19:03:09 | INFO     | yolox.core.trainer:270 - epoch: 1/2, iter: 100/285, gpu mem: 7871Mb, mem: 38.3Gb, iter_time: 1.521s, data_time: 0.310s, total_loss: 9.4, iou_loss: 3.1, l1_loss: 1.5, conf_loss: 4.1, cls_loss: 0.7, lr: 3.078e-04, size: 480, ETA: 0:10:49\n"
          ]
        },
        {
          "output_type": "stream",
          "name": "stderr",
          "text": [
            "2025-09-26 19:03:28 | INFO     | yolox.core.trainer:270 - epoch: 1/2, iter: 110/285, gpu mem: 7871Mb, mem: 38.3Gb, iter_time: 1.888s, data_time: 0.200s, total_loss: 10.2, iou_loss: 3.3, l1_loss: 1.8, conf_loss: 4.4, cls_loss: 0.7, lr: 3.724e-04, size: 704, ETA: 0:10:56\n"
          ]
        },
        {
          "output_type": "stream",
          "name": "stderr",
          "text": [
            "2025-09-26 19:03:43 | INFO     | yolox.core.trainer:270 - epoch: 1/2, iter: 120/285, gpu mem: 7871Mb, mem: 38.4Gb, iter_time: 1.563s, data_time: 0.313s, total_loss: 9.8, iou_loss: 3.3, l1_loss: 1.6, conf_loss: 4.2, cls_loss: 0.7, lr: 4.432e-04, size: 544, ETA: 0:10:47\n"
          ]
        },
        {
          "output_type": "stream",
          "name": "stderr",
          "text": [
            "2025-09-26 19:04:04 | INFO     | yolox.core.trainer:270 - epoch: 1/2, iter: 130/285, gpu mem: 8533Mb, mem: 38.4Gb, iter_time: 2.043s, data_time: 0.270s, total_loss: 11.8, iou_loss: 3.4, l1_loss: 1.8, conf_loss: 5.9, cls_loss: 0.7, lr: 5.202e-04, size: 768, ETA: 0:10:53\n"
          ]
        },
        {
          "output_type": "stream",
          "name": "stderr",
          "text": [
            "2025-09-26 19:04:24 | INFO     | yolox.core.trainer:270 - epoch: 1/2, iter: 140/285, gpu mem: 9223Mb, mem: 38.5Gb, iter_time: 2.033s, data_time: 0.206s, total_loss: 10.5, iou_loss: 3.1, l1_loss: 1.7, conf_loss: 5.0, cls_loss: 0.7, lr: 6.033e-04, size: 800, ETA: 0:10:55\n"
          ]
        },
        {
          "output_type": "stream",
          "name": "stderr",
          "text": [
            "2025-09-26 19:04:31 | INFO     | yolox.core.trainer:270 - epoch: 1/2, iter: 150/285, gpu mem: 9223Mb, mem: 38.6Gb, iter_time: 0.682s, data_time: 0.521s, total_loss: 9.4, iou_loss: 3.0, l1_loss: 1.4, conf_loss: 4.3, cls_loss: 0.7, lr: 6.925e-04, size: 480, ETA: 0:10:16\n"
          ]
        },
        {
          "output_type": "stream",
          "name": "stderr",
          "text": [
            "2025-09-26 19:04:38 | INFO     | yolox.core.trainer:270 - epoch: 1/2, iter: 160/285, gpu mem: 9223Mb, mem: 38.6Gb, iter_time: 0.723s, data_time: 0.581s, total_loss: 9.0, iou_loss: 3.4, l1_loss: 1.4, conf_loss: 3.5, cls_loss: 0.7, lr: 7.879e-04, size: 480, ETA: 0:09:42\n"
          ]
        },
        {
          "output_type": "stream",
          "name": "stderr",
          "text": [
            "2025-09-26 19:04:44 | INFO     | yolox.core.trainer:270 - epoch: 1/2, iter: 170/285, gpu mem: 9223Mb, mem: 38.5Gb, iter_time: 0.645s, data_time: 0.445s, total_loss: 9.0, iou_loss: 3.0, l1_loss: 1.5, conf_loss: 3.8, cls_loss: 0.7, lr: 8.895e-04, size: 608, ETA: 0:09:10\n"
          ]
        },
        {
          "output_type": "stream",
          "name": "stderr",
          "text": [
            "2025-09-26 19:04:52 | INFO     | yolox.core.trainer:270 - epoch: 1/2, iter: 180/285, gpu mem: 9223Mb, mem: 38.4Gb, iter_time: 0.711s, data_time: 0.395s, total_loss: 9.9, iou_loss: 3.1, l1_loss: 1.6, conf_loss: 4.5, cls_loss: 0.7, lr: 9.972e-04, size: 800, ETA: 0:08:42\n"
          ]
        },
        {
          "output_type": "stream",
          "name": "stderr",
          "text": [
            "2025-09-26 19:04:59 | INFO     | yolox.core.trainer:270 - epoch: 1/2, iter: 190/285, gpu mem: 9223Mb, mem: 38.4Gb, iter_time: 0.733s, data_time: 0.508s, total_loss: 10.7, iou_loss: 3.6, l1_loss: 1.7, conf_loss: 4.7, cls_loss: 0.7, lr: 1.111e-03, size: 640, ETA: 0:08:16\n"
          ]
        },
        {
          "output_type": "stream",
          "name": "stderr",
          "text": [
            "2025-09-26 19:05:06 | INFO     | yolox.core.trainer:270 - epoch: 1/2, iter: 200/285, gpu mem: 9223Mb, mem: 38.3Gb, iter_time: 0.721s, data_time: 0.561s, total_loss: 9.4, iou_loss: 3.2, l1_loss: 1.5, conf_loss: 4.0, cls_loss: 0.7, lr: 1.231e-03, size: 512, ETA: 0:07:52\n"
          ]
        },
        {
          "output_type": "stream",
          "name": "stderr",
          "text": [
            "2025-09-26 19:05:14 | INFO     | yolox.core.trainer:270 - epoch: 1/2, iter: 210/285, gpu mem: 9223Mb, mem: 38.5Gb, iter_time: 0.793s, data_time: 0.479s, total_loss: 10.6, iou_loss: 3.2, l1_loss: 1.7, conf_loss: 5.0, cls_loss: 0.7, lr: 1.357e-03, size: 800, ETA: 0:07:31\n"
          ]
        },
        {
          "output_type": "stream",
          "name": "stderr",
          "text": [
            "2025-09-26 19:05:21 | INFO     | yolox.core.trainer:270 - epoch: 1/2, iter: 220/285, gpu mem: 9223Mb, mem: 38.5Gb, iter_time: 0.701s, data_time: 0.492s, total_loss: 10.3, iou_loss: 3.2, l1_loss: 1.5, conf_loss: 4.9, cls_loss: 0.7, lr: 1.490e-03, size: 608, ETA: 0:07:10\n"
          ]
        },
        {
          "output_type": "stream",
          "name": "stderr",
          "text": [
            "2025-09-26 19:05:28 | INFO     | yolox.core.trainer:270 - epoch: 1/2, iter: 230/285, gpu mem: 9223Mb, mem: 38.4Gb, iter_time: 0.691s, data_time: 0.493s, total_loss: 10.7, iou_loss: 3.6, l1_loss: 1.8, conf_loss: 4.6, cls_loss: 0.7, lr: 1.628e-03, size: 608, ETA: 0:06:50\n"
          ]
        },
        {
          "output_type": "stream",
          "name": "stderr",
          "text": [
            "2025-09-26 19:05:35 | INFO     | yolox.core.trainer:270 - epoch: 1/2, iter: 240/285, gpu mem: 9223Mb, mem: 38.4Gb, iter_time: 0.703s, data_time: 0.522s, total_loss: 9.9, iou_loss: 3.2, l1_loss: 1.6, conf_loss: 4.4, cls_loss: 0.7, lr: 1.773e-03, size: 576, ETA: 0:06:31\n"
          ]
        },
        {
          "output_type": "stream",
          "name": "stderr",
          "text": [
            "2025-09-26 19:05:43 | INFO     | yolox.core.trainer:270 - epoch: 1/2, iter: 250/285, gpu mem: 9223Mb, mem: 38.4Gb, iter_time: 0.751s, data_time: 0.436s, total_loss: 10.6, iou_loss: 3.1, l1_loss: 1.6, conf_loss: 5.1, cls_loss: 0.7, lr: 1.924e-03, size: 800, ETA: 0:06:13\n"
          ]
        },
        {
          "output_type": "stream",
          "name": "stderr",
          "text": [
            "2025-09-26 19:05:49 | INFO     | yolox.core.trainer:270 - epoch: 1/2, iter: 260/285, gpu mem: 9223Mb, mem: 38.7Gb, iter_time: 0.690s, data_time: 0.521s, total_loss: 9.6, iou_loss: 3.4, l1_loss: 1.5, conf_loss: 3.9, cls_loss: 0.7, lr: 2.081e-03, size: 512, ETA: 0:05:56\n"
          ]
        },
        {
          "output_type": "stream",
          "name": "stderr",
          "text": [
            "2025-09-26 19:05:56 | INFO     | yolox.core.trainer:270 - epoch: 1/2, iter: 270/285, gpu mem: 9223Mb, mem: 38.7Gb, iter_time: 0.697s, data_time: 0.542s, total_loss: 9.0, iou_loss: 3.1, l1_loss: 1.4, conf_loss: 3.8, cls_loss: 0.7, lr: 2.244e-03, size: 512, ETA: 0:05:39\n"
          ]
        },
        {
          "output_type": "stream",
          "name": "stderr",
          "text": [
            "2025-09-26 19:06:04 | INFO     | yolox.core.trainer:270 - epoch: 1/2, iter: 280/285, gpu mem: 9223Mb, mem: 38.8Gb, iter_time: 0.721s, data_time: 0.551s, total_loss: 9.8, iou_loss: 3.3, l1_loss: 1.4, conf_loss: 4.5, cls_loss: 0.7, lr: 2.413e-03, size: 544, ETA: 0:05:24\n"
          ]
        },
        {
          "output_type": "stream",
          "name": "stderr",
          "text": [
            "2025-09-26 19:06:08 | INFO     | yolox.core.trainer:402 - Save weights to /var/lib/simon/agent_run_states/siim-covid19-detection-20250925-205912/yolox_outputs/yolox_m_fold_4\n"
          ]
        },
        {
          "output_type": "stream",
          "name": "stdout",
          "text": [
            "/var/lib/simon/agent_run_states/siim-covid19-detection-20250925-205912/YOLOX/yolox/core/trainer.py:106: FutureWarning: `torch.cuda.amp.autocast(args...)` is deprecated. Please use `torch.amp.autocast('cuda', args...)` instead.\n  with torch.cuda.amp.autocast(enabled=self.amp_training):\n/var/lib/simon/agent_run_states/siim-covid19-detection-20250925-205912/YOLOX/yolox/models/yolo_head.py:474: FutureWarning: `torch.cuda.amp.autocast(args...)` is deprecated. Please use `torch.amp.autocast('cuda', args...)` instead.\n  with torch.cuda.amp.autocast(enabled=False):\n\r  0%|          | 0/72 [00:00<?, ?it/s]"
          ]
        },
        {
          "output_type": "stream",
          "name": "stdout",
          "text": [
            "\r  1%|1         | 1/72 [00:05<06:03,  5.12s/it]\r  3%|2         | 2/72 [00:05<02:32,  2.17s/it]"
          ]
        },
        {
          "output_type": "stream",
          "name": "stdout",
          "text": [
            "\r  4%|4         | 3/72 [00:05<01:24,  1.23s/it]"
          ]
        },
        {
          "output_type": "stream",
          "name": "stdout",
          "text": [
            "\r  6%|5         | 4/72 [00:05<00:58,  1.16it/s]\r  7%|6         | 5/72 [00:05<00:39,  1.70it/s]"
          ]
        },
        {
          "output_type": "stream",
          "name": "stdout",
          "text": [
            "\r  8%|8         | 6/72 [00:07<00:54,  1.20it/s]\r 10%|9         | 7/72 [00:07<00:38,  1.68it/s]"
          ]
        },
        {
          "output_type": "stream",
          "name": "stdout",
          "text": [
            "\r 11%|#1        | 8/72 [00:08<00:55,  1.16it/s]\r 12%|#2        | 9/72 [00:08<00:39,  1.59it/s]"
          ]
        },
        {
          "output_type": "stream",
          "name": "stdout",
          "text": [
            "\r 14%|#3        | 10/72 [00:10<00:52,  1.17it/s]\r 15%|#5        | 11/72 [00:10<00:38,  1.60it/s]"
          ]
        },
        {
          "output_type": "stream",
          "name": "stdout",
          "text": [
            "\r 17%|#6        | 12/72 [00:11<00:48,  1.25it/s]\r 18%|#8        | 13/72 [00:11<00:34,  1.69it/s]"
          ]
        },
        {
          "output_type": "stream",
          "name": "stdout",
          "text": [
            "\r 19%|#9        | 14/72 [00:12<00:48,  1.19it/s]\r 21%|##        | 15/72 [00:13<00:35,  1.61it/s]"
          ]
        },
        {
          "output_type": "stream",
          "name": "stdout",
          "text": [
            "\r 22%|##2       | 16/72 [00:14<00:44,  1.27it/s]\r 24%|##3       | 17/72 [00:14<00:32,  1.71it/s]"
          ]
        },
        {
          "output_type": "stream",
          "name": "stdout",
          "text": [
            "\r 25%|##5       | 18/72 [00:15<00:41,  1.32it/s]\r 26%|##6       | 19/72 [00:15<00:29,  1.77it/s]"
          ]
        },
        {
          "output_type": "stream",
          "name": "stdout",
          "text": [
            "\r 28%|##7       | 20/72 [00:17<00:44,  1.18it/s]\r 29%|##9       | 21/72 [00:17<00:32,  1.59it/s]"
          ]
        },
        {
          "output_type": "stream",
          "name": "stdout",
          "text": [
            "\r 31%|###       | 22/72 [00:18<00:40,  1.24it/s]\r 32%|###1      | 23/72 [00:18<00:29,  1.67it/s]"
          ]
        },
        {
          "output_type": "stream",
          "name": "stdout",
          "text": [
            "\r 33%|###3      | 24/72 [00:19<00:39,  1.22it/s]\r 35%|###4      | 25/72 [00:19<00:28,  1.65it/s]"
          ]
        },
        {
          "output_type": "stream",
          "name": "stdout",
          "text": [
            "\r 36%|###6      | 26/72 [00:21<00:39,  1.17it/s]\r 38%|###7      | 27/72 [00:21<00:28,  1.58it/s]"
          ]
        },
        {
          "output_type": "stream",
          "name": "stdout",
          "text": [
            "\r 39%|###8      | 28/72 [00:22<00:37,  1.19it/s]\r 40%|####      | 29/72 [00:22<00:26,  1.61it/s]"
          ]
        },
        {
          "output_type": "stream",
          "name": "stdout",
          "text": [
            "\r 42%|####1     | 30/72 [00:24<00:34,  1.20it/s]\r 43%|####3     | 31/72 [00:24<00:25,  1.62it/s]"
          ]
        },
        {
          "output_type": "stream",
          "name": "stdout",
          "text": [
            "\r 44%|####4     | 32/72 [00:25<00:32,  1.23it/s]\r 46%|####5     | 33/72 [00:25<00:23,  1.66it/s]"
          ]
        },
        {
          "output_type": "stream",
          "name": "stdout",
          "text": [
            "\r 47%|####7     | 34/72 [00:26<00:27,  1.38it/s]\r 49%|####8     | 35/72 [00:26<00:20,  1.85it/s]"
          ]
        },
        {
          "output_type": "stream",
          "name": "stdout",
          "text": [
            "\r 50%|#####     | 36/72 [00:28<00:28,  1.25it/s]\r 51%|#####1    | 37/72 [00:28<00:21,  1.61it/s]"
          ]
        },
        {
          "output_type": "stream",
          "name": "stdout",
          "text": [
            "\r 53%|#####2    | 38/72 [00:29<00:27,  1.23it/s]\r 54%|#####4    | 39/72 [00:29<00:19,  1.67it/s]"
          ]
        },
        {
          "output_type": "stream",
          "name": "stdout",
          "text": [
            "\r 56%|#####5    | 40/72 [00:31<00:24,  1.32it/s]\r 57%|#####6    | 41/72 [00:31<00:17,  1.77it/s]"
          ]
        },
        {
          "output_type": "stream",
          "name": "stdout",
          "text": [
            "\r 58%|#####8    | 42/72 [00:32<00:23,  1.26it/s]\r 60%|#####9    | 43/72 [00:32<00:17,  1.69it/s]"
          ]
        },
        {
          "output_type": "stream",
          "name": "stdout",
          "text": [
            "\r 61%|######1   | 44/72 [00:33<00:21,  1.32it/s]\r 62%|######2   | 45/72 [00:33<00:15,  1.78it/s]"
          ]
        },
        {
          "output_type": "stream",
          "name": "stdout",
          "text": [
            "\r 64%|######3   | 46/72 [00:35<00:19,  1.31it/s]\r 65%|######5   | 47/72 [00:35<00:14,  1.76it/s]"
          ]
        },
        {
          "output_type": "stream",
          "name": "stdout",
          "text": [
            "\r 67%|######6   | 48/72 [00:36<00:19,  1.21it/s]\r 68%|######8   | 49/72 [00:36<00:14,  1.64it/s]"
          ]
        },
        {
          "output_type": "stream",
          "name": "stdout",
          "text": [
            "\r 69%|######9   | 50/72 [00:38<00:19,  1.15it/s]\r 71%|#######   | 51/72 [00:38<00:13,  1.56it/s]"
          ]
        },
        {
          "output_type": "stream",
          "name": "stdout",
          "text": [
            "\r 72%|#######2  | 52/72 [00:39<00:17,  1.12it/s]\r 74%|#######3  | 53/72 [00:39<00:12,  1.52it/s]"
          ]
        },
        {
          "output_type": "stream",
          "name": "stdout",
          "text": [
            "\r 75%|#######5  | 54/72 [00:41<00:15,  1.16it/s]\r 76%|#######6  | 55/72 [00:41<00:10,  1.57it/s]"
          ]
        },
        {
          "output_type": "stream",
          "name": "stdout",
          "text": [
            "\r 78%|#######7  | 56/72 [00:42<00:12,  1.31it/s]\r 79%|#######9  | 57/72 [00:42<00:08,  1.76it/s]"
          ]
        },
        {
          "output_type": "stream",
          "name": "stdout",
          "text": [
            "\r 81%|########  | 58/72 [00:43<00:09,  1.41it/s]\r 82%|########1 | 59/72 [00:43<00:06,  1.89it/s]"
          ]
        },
        {
          "output_type": "stream",
          "name": "stdout",
          "text": [
            "\r 83%|########3 | 60/72 [00:45<00:09,  1.27it/s]\r 85%|########4 | 61/72 [00:45<00:06,  1.71it/s]"
          ]
        },
        {
          "output_type": "stream",
          "name": "stdout",
          "text": [
            "\r 86%|########6 | 62/72 [00:46<00:07,  1.29it/s]\r 88%|########7 | 63/72 [00:46<00:05,  1.74it/s]"
          ]
        },
        {
          "output_type": "stream",
          "name": "stdout",
          "text": [
            "\r 89%|########8 | 64/72 [00:48<00:07,  1.14it/s]\r 90%|######### | 65/72 [00:48<00:04,  1.54it/s]"
          ]
        },
        {
          "output_type": "stream",
          "name": "stdout",
          "text": [
            "\r 92%|#########1| 66/72 [00:49<00:05,  1.15it/s]\r 93%|#########3| 67/72 [00:49<00:03,  1.56it/s]"
          ]
        },
        {
          "output_type": "stream",
          "name": "stdout",
          "text": [
            "\r 94%|#########4| 68/72 [00:50<00:03,  1.23it/s]\r 96%|#########5| 69/72 [00:50<00:01,  1.66it/s]"
          ]
        },
        {
          "output_type": "stream",
          "name": "stdout",
          "text": [
            "\r 97%|#########7| 70/72 [00:52<00:01,  1.12it/s]\r 99%|#########8| 71/72 [00:52<00:00,  1.52it/s]"
          ]
        },
        {
          "output_type": "stream",
          "name": "stdout",
          "text": [
            "\r100%|##########| 72/72 [00:56<00:00,  1.75s/it]\r100%|##########| 72/72 [00:57<00:00,  1.26it/s]"
          ]
        },
        {
          "output_type": "stream",
          "name": "stderr",
          "text": [
            "2025-09-26 19:07:05 | INFO     | yolox.evaluators.coco_evaluator:259 - Evaluate in main process...\n"
          ]
        },
        {
          "output_type": "stream",
          "name": "stderr",
          "text": [
            "2025-09-26 19:07:05 | INFO     | yolox.evaluators.coco_evaluator:292 - Loading and preparing results...\n"
          ]
        },
        {
          "output_type": "stream",
          "name": "stderr",
          "text": [
            "2025-09-26 19:07:06 | INFO     | yolox.evaluators.coco_evaluator:292 - DONE (t=0.20s)\n2025-09-26 19:07:06 | INFO     | pycocotools.coco:379 - creating index...\n2025-09-26 19:07:06 | INFO     | pycocotools.coco:379 - index created!\n2025-09-26 19:07:06 | INFO     | yolox.evaluators.coco_evaluator:301 - Running per image evaluation...\n2025-09-26 19:07:06 | INFO     | yolox.evaluators.coco_evaluator:301 - Evaluate annotation type *bbox*\n"
          ]
        },
        {
          "output_type": "stream",
          "name": "stderr",
          "text": [
            "2025-09-26 19:07:07 | INFO     | yolox.evaluators.coco_evaluator:301 - DONE (t=0.98s).\n2025-09-26 19:07:07 | INFO     | yolox.evaluators.coco_evaluator:302 - Accumulating evaluation results...\n2025-09-26 19:07:07 | INFO     | yolox.evaluators.coco_evaluator:302 - DONE (t=0.15s).\n2025-09-26 19:07:07 | INFO     | yolox.core.trainer:381 - \nAverage forward time: 8.63 ms, Average NMS time: 0.48 ms, Average inference time: 9.11 ms\n Average Precision  (AP) @[ IoU=0.50:0.95 | area=   all | maxDets=100 ] = 0.014\n Average Precision  (AP) @[ IoU=0.50      | area=   all | maxDets=100 ] = 0.062\n Average Precision  (AP) @[ IoU=0.75      | area=   all | maxDets=100 ] = 0.001\n Average Precision  (AP) @[ IoU=0.50:0.95 | area= small | maxDets=100 ] = -1.000\n Average Precision  (AP) @[ IoU=0.50:0.95 | area=medium | maxDets=100 ] = -1.000\n Average Precision  (AP) @[ IoU=0.50:0.95 | area= large | maxDets=100 ] = 0.014\n Average Recall     (AR) @[ IoU=0.50:0.95 | area=   all | maxDets=  1 ] = 0.035\n Average Recall     (AR) @[ IoU=0.50:0.95 | area=   all | maxDets= 10 ] = 0.139\n Average Recall     (AR) @[ IoU=0.50:0.95 | area=   all | maxDets=100 ] = 0.212\n Average Recall     (AR) @[ IoU=0.50:0.95 | area= small | maxDets=100 ] = -1.000\n Average Recall     (AR) @[ IoU=0.50:0.95 | area=medium | maxDets=100 ] = -1.000\n Average Recall     (AR) @[ IoU=0.50:0.95 | area= large | maxDets=100 ] = 0.212\nper class AP:\n| class   | AP    |\n|:--------|:------|\n| opacity | 1.368 |\nper class AR:\n| class   | AR     |\n|:--------|:-------|\n| opacity | 21.192 |\n\n2025-09-26 19:07:07 | INFO     | yolox.core.trainer:402 - Save weights to /var/lib/simon/agent_run_states/siim-covid19-detection-20250925-205912/yolox_outputs/yolox_m_fold_4\n"
          ]
        },
        {
          "output_type": "stream",
          "name": "stderr",
          "text": [
            "2025-09-26 19:07:07 | INFO     | yolox.core.trainer:402 - Save weights to /var/lib/simon/agent_run_states/siim-covid19-detection-20250925-205912/yolox_outputs/yolox_m_fold_4\n"
          ]
        },
        {
          "output_type": "stream",
          "name": "stderr",
          "text": [
            "2025-09-26 19:07:08 | INFO     | yolox.core.trainer:218 - ---> start train epoch2\n2025-09-26 19:07:08 | INFO     | yolox.core.trainer:221 - --->No mosaic aug now!\n2025-09-26 19:07:08 | INFO     | yolox.core.trainer:223 - --->Add additional L1 loss now!\n"
          ]
        },
        {
          "output_type": "stream",
          "name": "stderr",
          "text": [
            "2025-09-26 19:07:12 | INFO     | yolox.core.trainer:270 - epoch: 2/2, iter: 10/285, gpu mem: 11174Mb, mem: 39.2Gb, iter_time: 0.497s, data_time: 0.283s, total_loss: 10.7, iou_loss: 3.5, l1_loss: 1.7, conf_loss: 4.8, cls_loss: 0.7, lr: 1.250e-04, size: 640, ETA: 0:05:00\n"
          ]
        },
        {
          "output_type": "stream",
          "name": "stderr",
          "text": [
            "2025-09-26 19:07:20 | INFO     | yolox.core.trainer:270 - epoch: 2/2, iter: 20/285, gpu mem: 11174Mb, mem: 39.2Gb, iter_time: 0.739s, data_time: 0.487s, total_loss: 11.3, iou_loss: 3.5, l1_loss: 1.9, conf_loss: 5.3, cls_loss: 0.7, lr: 1.250e-04, size: 768, ETA: 0:04:46\n"
          ]
        },
        {
          "output_type": "stream",
          "name": "stderr",
          "text": [
            "2025-09-26 19:07:26 | INFO     | yolox.core.trainer:270 - epoch: 2/2, iter: 30/285, gpu mem: 11174Mb, mem: 39.1Gb, iter_time: 0.655s, data_time: 0.414s, total_loss: 9.8, iou_loss: 3.3, l1_loss: 1.5, conf_loss: 4.4, cls_loss: 0.7, lr: 1.250e-04, size: 544, ETA: 0:04:32\n"
          ]
        },
        {
          "output_type": "stream",
          "name": "stderr",
          "text": [
            "2025-09-26 19:07:33 | INFO     | yolox.core.trainer:270 - epoch: 2/2, iter: 40/285, gpu mem: 11174Mb, mem: 39.1Gb, iter_time: 0.696s, data_time: 0.486s, total_loss: 10.2, iou_loss: 3.2, l1_loss: 1.6, conf_loss: 4.7, cls_loss: 0.7, lr: 1.250e-04, size: 704, ETA: 0:04:18\n"
          ]
        },
        {
          "output_type": "stream",
          "name": "stderr",
          "text": [
            "2025-09-26 19:07:41 | INFO     | yolox.core.trainer:270 - epoch: 2/2, iter: 50/285, gpu mem: 11174Mb, mem: 39.1Gb, iter_time: 0.719s, data_time: 0.493s, total_loss: 9.1, iou_loss: 3.3, l1_loss: 1.6, conf_loss: 3.5, cls_loss: 0.7, lr: 1.250e-04, size: 576, ETA: 0:04:05\n"
          ]
        },
        {
          "output_type": "stream",
          "name": "stderr",
          "text": [
            "2025-09-26 19:08:00 | INFO     | yolox.core.trainer:270 - epoch: 2/2, iter: 60/285, gpu mem: 11174Mb, mem: 39.0Gb, iter_time: 1.988s, data_time: 0.282s, total_loss: 9.3, iou_loss: 3.1, l1_loss: 1.4, conf_loss: 4.0, cls_loss: 0.7, lr: 1.250e-04, size: 672, ETA: 0:04:01\n"
          ]
        },
        {
          "output_type": "stream",
          "name": "stderr",
          "text": [
            "2025-09-26 19:08:08 | INFO     | yolox.core.trainer:270 - epoch: 2/2, iter: 70/285, gpu mem: 11174Mb, mem: 39.0Gb, iter_time: 0.711s, data_time: 0.458s, total_loss: 11.2, iou_loss: 3.3, l1_loss: 1.6, conf_loss: 5.5, cls_loss: 0.7, lr: 1.250e-04, size: 736, ETA: 0:03:48\n"
          ]
        },
        {
          "output_type": "stream",
          "name": "stderr",
          "text": [
            "2025-09-26 19:08:15 | INFO     | yolox.core.trainer:270 - epoch: 2/2, iter: 80/285, gpu mem: 11174Mb, mem: 39.0Gb, iter_time: 0.721s, data_time: 0.500s, total_loss: 10.1, iou_loss: 3.4, l1_loss: 1.6, conf_loss: 4.4, cls_loss: 0.7, lr: 1.250e-04, size: 480, ETA: 0:03:35\n"
          ]
        },
        {
          "output_type": "stream",
          "name": "stderr",
          "text": [
            "2025-09-26 19:08:22 | INFO     | yolox.core.trainer:270 - epoch: 2/2, iter: 90/285, gpu mem: 11174Mb, mem: 39.0Gb, iter_time: 0.724s, data_time: 0.516s, total_loss: 9.6, iou_loss: 3.3, l1_loss: 1.5, conf_loss: 4.1, cls_loss: 0.7, lr: 1.250e-04, size: 736, ETA: 0:03:23\n"
          ]
        },
        {
          "output_type": "stream",
          "name": "stderr",
          "text": [
            "2025-09-26 19:08:29 | INFO     | yolox.core.trainer:270 - epoch: 2/2, iter: 100/285, gpu mem: 11174Mb, mem: 39.1Gb, iter_time: 0.707s, data_time: 0.481s, total_loss: 9.8, iou_loss: 3.5, l1_loss: 1.6, conf_loss: 4.0, cls_loss: 0.7, lr: 1.250e-04, size: 512, ETA: 0:03:11\n"
          ]
        },
        {
          "output_type": "stream",
          "name": "stderr",
          "text": [
            "2025-09-26 19:08:37 | INFO     | yolox.core.trainer:270 - epoch: 2/2, iter: 110/285, gpu mem: 11174Mb, mem: 39.4Gb, iter_time: 0.744s, data_time: 0.511s, total_loss: 9.6, iou_loss: 3.0, l1_loss: 1.5, conf_loss: 4.4, cls_loss: 0.7, lr: 1.250e-04, size: 800, ETA: 0:03:00\n"
          ]
        },
        {
          "output_type": "stream",
          "name": "stderr",
          "text": [
            "2025-09-26 19:08:44 | INFO     | yolox.core.trainer:270 - epoch: 2/2, iter: 120/285, gpu mem: 11174Mb, mem: 39.5Gb, iter_time: 0.705s, data_time: 0.405s, total_loss: 9.3, iou_loss: 3.2, l1_loss: 1.6, conf_loss: 3.8, cls_loss: 0.7, lr: 1.250e-04, size: 736, ETA: 0:02:48\n"
          ]
        },
        {
          "output_type": "stream",
          "name": "stderr",
          "text": [
            "2025-09-26 19:08:51 | INFO     | yolox.core.trainer:270 - epoch: 2/2, iter: 130/285, gpu mem: 11174Mb, mem: 39.5Gb, iter_time: 0.757s, data_time: 0.475s, total_loss: 9.5, iou_loss: 3.2, l1_loss: 1.6, conf_loss: 4.0, cls_loss: 0.7, lr: 1.250e-04, size: 768, ETA: 0:02:37\n"
          ]
        },
        {
          "output_type": "stream",
          "name": "stderr",
          "text": [
            "2025-09-26 19:08:58 | INFO     | yolox.core.trainer:270 - epoch: 2/2, iter: 140/285, gpu mem: 11174Mb, mem: 39.5Gb, iter_time: 0.656s, data_time: 0.428s, total_loss: 9.6, iou_loss: 3.2, l1_loss: 1.5, conf_loss: 4.2, cls_loss: 0.7, lr: 1.250e-04, size: 480, ETA: 0:02:25\n"
          ]
        },
        {
          "output_type": "stream",
          "name": "stderr",
          "text": [
            "2025-09-26 19:09:06 | INFO     | yolox.core.trainer:270 - epoch: 2/2, iter: 150/285, gpu mem: 11174Mb, mem: 39.4Gb, iter_time: 0.809s, data_time: 0.610s, total_loss: 9.5, iou_loss: 3.2, l1_loss: 1.5, conf_loss: 4.1, cls_loss: 0.7, lr: 1.250e-04, size: 704, ETA: 0:02:15\n"
          ]
        },
        {
          "output_type": "stream",
          "name": "stderr",
          "text": [
            "2025-09-26 19:09:13 | INFO     | yolox.core.trainer:270 - epoch: 2/2, iter: 160/285, gpu mem: 11174Mb, mem: 39.4Gb, iter_time: 0.746s, data_time: 0.525s, total_loss: 8.3, iou_loss: 3.1, l1_loss: 1.5, conf_loss: 3.0, cls_loss: 0.7, lr: 1.250e-04, size: 544, ETA: 0:02:04\n"
          ]
        },
        {
          "output_type": "stream",
          "name": "stderr",
          "text": [
            "2025-09-26 19:09:20 | INFO     | yolox.core.trainer:270 - epoch: 2/2, iter: 170/285, gpu mem: 11174Mb, mem: 39.4Gb, iter_time: 0.698s, data_time: 0.479s, total_loss: 10.2, iou_loss: 3.4, l1_loss: 1.6, conf_loss: 4.6, cls_loss: 0.7, lr: 1.250e-04, size: 736, ETA: 0:01:53\n"
          ]
        },
        {
          "output_type": "stream",
          "name": "stderr",
          "text": [
            "2025-09-26 19:09:27 | INFO     | yolox.core.trainer:270 - epoch: 2/2, iter: 180/285, gpu mem: 11174Mb, mem: 39.3Gb, iter_time: 0.672s, data_time: 0.413s, total_loss: 9.9, iou_loss: 3.1, l1_loss: 1.5, conf_loss: 4.6, cls_loss: 0.7, lr: 1.250e-04, size: 672, ETA: 0:01:43\n"
          ]
        },
        {
          "output_type": "stream",
          "name": "stderr",
          "text": [
            "2025-09-26 19:09:34 | INFO     | yolox.core.trainer:270 - epoch: 2/2, iter: 190/285, gpu mem: 11174Mb, mem: 39.2Gb, iter_time: 0.689s, data_time: 0.462s, total_loss: 9.5, iou_loss: 3.3, l1_loss: 1.6, conf_loss: 3.9, cls_loss: 0.7, lr: 1.250e-04, size: 640, ETA: 0:01:32\n"
          ]
        },
        {
          "output_type": "stream",
          "name": "stderr",
          "text": [
            "2025-09-26 19:09:41 | INFO     | yolox.core.trainer:270 - epoch: 2/2, iter: 200/285, gpu mem: 11174Mb, mem: 39.2Gb, iter_time: 0.737s, data_time: 0.537s, total_loss: 9.0, iou_loss: 3.2, l1_loss: 1.5, conf_loss: 3.6, cls_loss: 0.7, lr: 1.250e-04, size: 576, ETA: 0:01:22\n"
          ]
        },
        {
          "output_type": "stream",
          "name": "stderr",
          "text": [
            "2025-09-26 19:09:49 | INFO     | yolox.core.trainer:270 - epoch: 2/2, iter: 210/285, gpu mem: 11174Mb, mem: 39.1Gb, iter_time: 0.743s, data_time: 0.518s, total_loss: 10.8, iou_loss: 3.1, l1_loss: 1.5, conf_loss: 5.5, cls_loss: 0.7, lr: 1.250e-04, size: 736, ETA: 0:01:12\n"
          ]
        },
        {
          "output_type": "stream",
          "name": "stderr",
          "text": [
            "2025-09-26 19:09:55 | INFO     | yolox.core.trainer:270 - epoch: 2/2, iter: 220/285, gpu mem: 11174Mb, mem: 39.1Gb, iter_time: 0.666s, data_time: 0.432s, total_loss: 10.7, iou_loss: 3.2, l1_loss: 1.6, conf_loss: 5.2, cls_loss: 0.7, lr: 1.250e-04, size: 576, ETA: 0:01:02\n"
          ]
        },
        {
          "output_type": "stream",
          "name": "stderr",
          "text": [
            "2025-09-26 19:10:03 | INFO     | yolox.core.trainer:270 - epoch: 2/2, iter: 230/285, gpu mem: 11174Mb, mem: 39.1Gb, iter_time: 0.722s, data_time: 0.552s, total_loss: 9.3, iou_loss: 3.1, l1_loss: 1.5, conf_loss: 3.9, cls_loss: 0.7, lr: 1.250e-04, size: 512, ETA: 0:00:52\n"
          ]
        },
        {
          "output_type": "stream",
          "name": "stderr",
          "text": [
            "2025-09-26 19:10:10 | INFO     | yolox.core.trainer:270 - epoch: 2/2, iter: 240/285, gpu mem: 11174Mb, mem: 39.2Gb, iter_time: 0.710s, data_time: 0.559s, total_loss: 9.7, iou_loss: 3.3, l1_loss: 1.6, conf_loss: 4.1, cls_loss: 0.7, lr: 1.250e-04, size: 512, ETA: 0:00:42\n"
          ]
        },
        {
          "output_type": "stream",
          "name": "stderr",
          "text": [
            "2025-09-26 19:10:17 | INFO     | yolox.core.trainer:270 - epoch: 2/2, iter: 250/285, gpu mem: 11174Mb, mem: 39.2Gb, iter_time: 0.749s, data_time: 0.529s, total_loss: 11.7, iou_loss: 3.6, l1_loss: 1.7, conf_loss: 5.7, cls_loss: 0.7, lr: 1.250e-04, size: 768, ETA: 0:00:33\n"
          ]
        },
        {
          "output_type": "stream",
          "name": "stderr",
          "text": [
            "2025-09-26 19:10:24 | INFO     | yolox.core.trainer:270 - epoch: 2/2, iter: 260/285, gpu mem: 11174Mb, mem: 39.2Gb, iter_time: 0.696s, data_time: 0.462s, total_loss: 8.9, iou_loss: 3.0, l1_loss: 1.4, conf_loss: 3.8, cls_loss: 0.7, lr: 1.250e-04, size: 512, ETA: 0:00:23\n"
          ]
        },
        {
          "output_type": "stream",
          "name": "stderr",
          "text": [
            "2025-09-26 19:10:31 | INFO     | yolox.core.trainer:270 - epoch: 2/2, iter: 270/285, gpu mem: 11174Mb, mem: 39.1Gb, iter_time: 0.729s, data_time: 0.509s, total_loss: 9.8, iou_loss: 3.3, l1_loss: 1.7, conf_loss: 4.2, cls_loss: 0.7, lr: 1.250e-04, size: 768, ETA: 0:00:14\n"
          ]
        },
        {
          "output_type": "stream",
          "name": "stderr",
          "text": [
            "2025-09-26 19:10:39 | INFO     | yolox.core.trainer:270 - epoch: 2/2, iter: 280/285, gpu mem: 11174Mb, mem: 39.2Gb, iter_time: 0.733s, data_time: 0.490s, total_loss: 9.1, iou_loss: 3.1, l1_loss: 1.5, conf_loss: 3.9, cls_loss: 0.7, lr: 1.250e-04, size: 544, ETA: 0:00:04\n"
          ]
        },
        {
          "output_type": "stream",
          "name": "stderr",
          "text": [
            "2025-09-26 19:10:41 | INFO     | yolox.core.trainer:402 - Save weights to /var/lib/simon/agent_run_states/siim-covid19-detection-20250925-205912/yolox_outputs/yolox_m_fold_4\n"
          ]
        },
        {
          "output_type": "stream",
          "name": "stdout",
          "text": [
            "\n/var/lib/simon/agent_run_states/siim-covid19-detection-20250925-205912/YOLOX/yolox/evaluators/coco_evaluator.py:189: UserWarning: The torch.cuda.*DtypeTensor constructors are no longer recommended. It's best to use methods such as torch.tensor(data, dtype=*, device='cuda') to create tensors. (Triggered internally at /pytorch/torch/csrc/tensor/python_tensor.cpp:78.)\n  statistics = torch.cuda.FloatTensor([inference_time, nms_time, n_samples])\n\r  0%|          | 0/72 [00:00<?, ?it/s]"
          ]
        },
        {
          "output_type": "stream",
          "name": "stdout",
          "text": [
            "\r  1%|1         | 1/72 [00:01<01:54,  1.61s/it]\r  3%|2         | 2/72 [00:01<00:50,  1.37it/s]"
          ]
        },
        {
          "output_type": "stream",
          "name": "stdout",
          "text": [
            "\r  4%|4         | 3/72 [00:02<01:05,  1.05it/s]\r  6%|5         | 4/72 [00:03<00:42,  1.61it/s]"
          ]
        },
        {
          "output_type": "stream",
          "name": "stdout",
          "text": [
            "\r  7%|6         | 5/72 [00:04<00:53,  1.25it/s]"
          ]
        },
        {
          "output_type": "stream",
          "name": "stdout",
          "text": [
            "\r  8%|8         | 6/72 [00:04<00:40,  1.63it/s]"
          ]
        },
        {
          "output_type": "stream",
          "name": "stdout",
          "text": [
            "\r 10%|9         | 7/72 [00:05<00:53,  1.22it/s]"
          ]
        },
        {
          "output_type": "stream",
          "name": "stdout",
          "text": [
            "\r 11%|#1        | 8/72 [00:06<00:42,  1.50it/s]"
          ]
        },
        {
          "output_type": "stream",
          "name": "stdout",
          "text": [
            "\r 12%|#2        | 9/72 [00:07<00:52,  1.20it/s]"
          ]
        },
        {
          "output_type": "stream",
          "name": "stdout",
          "text": [
            "\r 14%|#3        | 10/72 [00:07<00:41,  1.50it/s]"
          ]
        },
        {
          "output_type": "stream",
          "name": "stdout",
          "text": [
            "\r 15%|#5        | 11/72 [00:08<00:46,  1.31it/s]"
          ]
        },
        {
          "output_type": "stream",
          "name": "stdout",
          "text": [
            "\r 17%|#6        | 12/72 [00:08<00:38,  1.57it/s]"
          ]
        },
        {
          "output_type": "stream",
          "name": "stdout",
          "text": [
            "\r 18%|#8        | 13/72 [00:09<00:45,  1.29it/s]"
          ]
        },
        {
          "output_type": "stream",
          "name": "stdout",
          "text": [
            "\r 19%|#9        | 14/72 [00:10<00:39,  1.49it/s]"
          ]
        },
        {
          "output_type": "stream",
          "name": "stdout",
          "text": [
            "\r 21%|##        | 15/72 [00:11<00:39,  1.45it/s]"
          ]
        },
        {
          "output_type": "stream",
          "name": "stdout",
          "text": [
            "\r 22%|##2       | 16/72 [00:11<00:36,  1.52it/s]"
          ]
        },
        {
          "output_type": "stream",
          "name": "stdout",
          "text": [
            "\r 24%|##3       | 17/72 [00:12<00:41,  1.34it/s]"
          ]
        },
        {
          "output_type": "stream",
          "name": "stdout",
          "text": [
            "\r 25%|##5       | 18/72 [00:12<00:33,  1.60it/s]"
          ]
        },
        {
          "output_type": "stream",
          "name": "stdout",
          "text": [
            "\r 26%|##6       | 19/72 [00:13<00:36,  1.47it/s]"
          ]
        },
        {
          "output_type": "stream",
          "name": "stdout",
          "text": [
            "\r 28%|##7       | 20/72 [00:14<00:37,  1.38it/s]"
          ]
        },
        {
          "output_type": "stream",
          "name": "stdout",
          "text": [
            "\r 29%|##9       | 21/72 [00:15<00:34,  1.50it/s]"
          ]
        },
        {
          "output_type": "stream",
          "name": "stdout",
          "text": [
            "\r 31%|###       | 22/72 [00:15<00:35,  1.40it/s]"
          ]
        },
        {
          "output_type": "stream",
          "name": "stdout",
          "text": [
            "\r 32%|###1      | 23/72 [00:16<00:31,  1.57it/s]"
          ]
        },
        {
          "output_type": "stream",
          "name": "stdout",
          "text": [
            "\r 33%|###3      | 24/72 [00:17<00:35,  1.35it/s]"
          ]
        },
        {
          "output_type": "stream",
          "name": "stdout",
          "text": [
            "\r 35%|###4      | 25/72 [00:18<00:32,  1.43it/s]"
          ]
        },
        {
          "output_type": "stream",
          "name": "stdout",
          "text": [
            "\r 36%|###6      | 26/72 [00:18<00:35,  1.30it/s]"
          ]
        },
        {
          "output_type": "stream",
          "name": "stdout",
          "text": [
            "\r 38%|###7      | 27/72 [00:19<00:30,  1.46it/s]"
          ]
        },
        {
          "output_type": "stream",
          "name": "stdout",
          "text": [
            "\r 39%|###8      | 28/72 [00:20<00:33,  1.30it/s]"
          ]
        },
        {
          "output_type": "stream",
          "name": "stdout",
          "text": [
            "\r 40%|####      | 29/72 [00:20<00:26,  1.63it/s]"
          ]
        },
        {
          "output_type": "stream",
          "name": "stdout",
          "text": [
            "\r 42%|####1     | 30/72 [00:21<00:33,  1.27it/s]\r 43%|####3     | 31/72 [00:21<00:23,  1.72it/s]"
          ]
        },
        {
          "output_type": "stream",
          "name": "stdout",
          "text": [
            "\r 44%|####4     | 32/72 [00:23<00:31,  1.26it/s]"
          ]
        },
        {
          "output_type": "stream",
          "name": "stdout",
          "text": [
            "\r 46%|####5     | 33/72 [00:23<00:24,  1.59it/s]"
          ]
        },
        {
          "output_type": "stream",
          "name": "stdout",
          "text": [
            "\r 47%|####7     | 34/72 [00:24<00:26,  1.41it/s]"
          ]
        },
        {
          "output_type": "stream",
          "name": "stdout",
          "text": [
            "\r 49%|####8     | 35/72 [00:24<00:21,  1.70it/s]"
          ]
        },
        {
          "output_type": "stream",
          "name": "stdout",
          "text": [
            "\r 50%|#####     | 36/72 [00:25<00:28,  1.29it/s]\r 51%|#####1    | 37/72 [00:26<00:20,  1.73it/s]"
          ]
        },
        {
          "output_type": "stream",
          "name": "stdout",
          "text": [
            "\r 53%|#####2    | 38/72 [00:27<00:27,  1.24it/s]\r 54%|#####4    | 39/72 [00:27<00:19,  1.67it/s]"
          ]
        },
        {
          "output_type": "stream",
          "name": "stdout",
          "text": [
            "\r 56%|#####5    | 40/72 [00:28<00:24,  1.32it/s]\r 57%|#####6    | 41/72 [00:28<00:17,  1.78it/s]"
          ]
        },
        {
          "output_type": "stream",
          "name": "stdout",
          "text": [
            "\r 58%|#####8    | 42/72 [00:30<00:23,  1.25it/s]\r 60%|#####9    | 43/72 [00:30<00:17,  1.69it/s]"
          ]
        },
        {
          "output_type": "stream",
          "name": "stdout",
          "text": [
            "\r 61%|######1   | 44/72 [00:31<00:21,  1.33it/s]\r 62%|######2   | 45/72 [00:31<00:15,  1.79it/s]"
          ]
        },
        {
          "output_type": "stream",
          "name": "stdout",
          "text": [
            "\r 64%|######3   | 46/72 [00:32<00:20,  1.29it/s]\r 65%|######5   | 47/72 [00:32<00:14,  1.74it/s]"
          ]
        },
        {
          "output_type": "stream",
          "name": "stdout",
          "text": [
            "\r 67%|######6   | 48/72 [00:34<00:19,  1.21it/s]\r 68%|######8   | 49/72 [00:34<00:14,  1.63it/s]"
          ]
        },
        {
          "output_type": "stream",
          "name": "stdout",
          "text": [
            "\r 69%|######9   | 50/72 [00:35<00:19,  1.15it/s]\r 71%|#######   | 51/72 [00:35<00:13,  1.56it/s]"
          ]
        },
        {
          "output_type": "stream",
          "name": "stdout",
          "text": [
            "\r 72%|#######2  | 52/72 [00:37<00:17,  1.12it/s]\r 74%|#######3  | 53/72 [00:37<00:12,  1.52it/s]"
          ]
        },
        {
          "output_type": "stream",
          "name": "stdout",
          "text": [
            "\r 75%|#######5  | 54/72 [00:38<00:15,  1.16it/s]\r 76%|#######6  | 55/72 [00:38<00:10,  1.57it/s]"
          ]
        },
        {
          "output_type": "stream",
          "name": "stdout",
          "text": [
            "\r 78%|#######7  | 56/72 [00:39<00:12,  1.31it/s]\r 79%|#######9  | 57/72 [00:40<00:08,  1.77it/s]"
          ]
        },
        {
          "output_type": "stream",
          "name": "stdout",
          "text": [
            "\r 81%|########  | 58/72 [00:41<00:09,  1.41it/s]\r 82%|########1 | 59/72 [00:41<00:06,  1.89it/s]"
          ]
        },
        {
          "output_type": "stream",
          "name": "stdout",
          "text": [
            "\r 83%|########3 | 60/72 [00:42<00:09,  1.27it/s]\r 85%|########4 | 61/72 [00:42<00:06,  1.71it/s]"
          ]
        },
        {
          "output_type": "stream",
          "name": "stdout",
          "text": [
            "\r 86%|########6 | 62/72 [00:43<00:07,  1.29it/s]\r 88%|########7 | 63/72 [00:44<00:05,  1.74it/s]"
          ]
        },
        {
          "output_type": "stream",
          "name": "stdout",
          "text": [
            "\r 89%|########8 | 64/72 [00:45<00:07,  1.14it/s]\r 90%|######### | 65/72 [00:45<00:04,  1.55it/s]"
          ]
        },
        {
          "output_type": "stream",
          "name": "stdout",
          "text": [
            "\r 92%|#########1| 66/72 [00:47<00:05,  1.15it/s]\r 93%|#########3| 67/72 [00:47<00:03,  1.56it/s]"
          ]
        },
        {
          "output_type": "stream",
          "name": "stdout",
          "text": [
            "\r 94%|#########4| 68/72 [00:48<00:03,  1.23it/s]\r 96%|#########5| 69/72 [00:48<00:01,  1.66it/s]"
          ]
        },
        {
          "output_type": "stream",
          "name": "stdout",
          "text": [
            "\r 97%|#########7| 70/72 [00:50<00:01,  1.12it/s]\r 99%|#########8| 71/72 [00:50<00:00,  1.52it/s]"
          ]
        },
        {
          "output_type": "stream",
          "name": "stdout",
          "text": [
            "\r100%|##########| 72/72 [00:51<00:00,  1.17it/s]\r100%|##########| 72/72 [00:51<00:00,  1.39it/s]"
          ]
        },
        {
          "output_type": "stream",
          "name": "stderr",
          "text": [
            "2025-09-26 19:11:33 | INFO     | yolox.evaluators.coco_evaluator:259 - Evaluate in main process...\n"
          ]
        },
        {
          "output_type": "stream",
          "name": "stderr",
          "text": [
            "2025-09-26 19:11:34 | INFO     | yolox.evaluators.coco_evaluator:292 - Loading and preparing results...\n2025-09-26 19:11:34 | INFO     | yolox.evaluators.coco_evaluator:292 - DONE (t=0.17s)\n2025-09-26 19:11:34 | INFO     | pycocotools.coco:379 - creating index...\n2025-09-26 19:11:34 | INFO     | pycocotools.coco:379 - index created!\n2025-09-26 19:11:34 | INFO     | yolox.evaluators.coco_evaluator:301 - Running per image evaluation...\n"
          ]
        },
        {
          "output_type": "stream",
          "name": "stderr",
          "text": [
            "2025-09-26 19:11:34 | INFO     | yolox.evaluators.coco_evaluator:301 - Evaluate annotation type *bbox*\n"
          ]
        },
        {
          "output_type": "stream",
          "name": "stderr",
          "text": [
            "2025-09-26 19:11:35 | INFO     | yolox.evaluators.coco_evaluator:301 - DONE (t=0.78s).\n2025-09-26 19:11:35 | INFO     | yolox.evaluators.coco_evaluator:302 - Accumulating evaluation results...\n2025-09-26 19:11:35 | INFO     | yolox.evaluators.coco_evaluator:302 - DONE (t=0.11s).\n2025-09-26 19:11:35 | INFO     | yolox.core.trainer:381 - \nAverage forward time: 5.62 ms, Average NMS time: 0.48 ms, Average inference time: 6.09 ms\n Average Precision  (AP) @[ IoU=0.50:0.95 | area=   all | maxDets=100 ] = 0.022\n Average Precision  (AP) @[ IoU=0.50      | area=   all | maxDets=100 ] = 0.096\n Average Precision  (AP) @[ IoU=0.75      | area=   all | maxDets=100 ] = 0.005\n Average Precision  (AP) @[ IoU=0.50:0.95 | area= small | maxDets=100 ] = -1.000\n Average Precision  (AP) @[ IoU=0.50:0.95 | area=medium | maxDets=100 ] = -1.000\n Average Precision  (AP) @[ IoU=0.50:0.95 | area= large | maxDets=100 ] = 0.022\n Average Recall     (AR) @[ IoU=0.50:0.95 | area=   all | maxDets=  1 ] = 0.041\n Average Recall     (AR) @[ IoU=0.50:0.95 | area=   all | maxDets= 10 ] = 0.166\n Average Recall     (AR) @[ IoU=0.50:0.95 | area=   all | maxDets=100 ] = 0.237\n Average Recall     (AR) @[ IoU=0.50:0.95 | area= small | maxDets=100 ] = -1.000\n Average Recall     (AR) @[ IoU=0.50:0.95 | area=medium | maxDets=100 ] = -1.000\n Average Recall     (AR) @[ IoU=0.50:0.95 | area= large | maxDets=100 ] = 0.237\nper class AP:\n| class   | AP    |\n|:--------|:------|\n| opacity | 2.243 |\nper class AR:\n| class   | AR     |\n|:--------|:-------|\n| opacity | 23.655 |\n\n2025-09-26 19:11:35 | INFO     | yolox.core.trainer:402 - Save weights to /var/lib/simon/agent_run_states/siim-covid19-detection-20250925-205912/yolox_outputs/yolox_m_fold_4\n"
          ]
        },
        {
          "output_type": "stream",
          "name": "stderr",
          "text": [
            "2025-09-26 19:11:36 | INFO     | yolox.core.trainer:402 - Save weights to /var/lib/simon/agent_run_states/siim-covid19-detection-20250925-205912/yolox_outputs/yolox_m_fold_4\n"
          ]
        },
        {
          "output_type": "stream",
          "name": "stderr",
          "text": [
            "2025-09-26 19:11:36 | INFO     | yolox.core.trainer:200 - Training of experiment is done and the best AP is 2.24\n"
          ]
        },
        {
          "output_type": "stream",
          "name": "stdout",
          "text": [
            "\n"
          ]
        },
        {
          "output_type": "stream",
          "name": "stdout",
          "text": [
            "/var/lib/simon/agent_run_states/siim-covid19-detection-20250925-205912\nFINISHED YOLOX TRAINING FOR FOLD 4\n\nRestored original config at YOLOX/exps/siim_yolox_config.py\n\n==================================================\nALL YOLOX FOLDS TRAINED\n==================================================\n"
          ]
        }
      ]
    },
    {
      "id": "d991b73a-e97c-4725-9f38-b75ee55ea856",
      "cell_type": "code",
      "metadata": {},
      "source": [
        "# --- Check Shared Memory Size ---\n",
        "!df -h /dev/shm"
      ],
      "execution_count": null,
      "outputs": []
    },
    {
      "id": "4d15af65-4d4d-49e4-82a1-802113280535",
      "cell_type": "code",
      "metadata": {},
      "source": [
        "# --- Definitive JSON Verification ---\n",
        "import json\n",
        "\n",
        "# Check the first fold's VALIDATION file, since that's what's used for evaluation\n",
        "json_path = 'yolox_data/annotations/instances_fold0_val.json'\n",
        "print(f\"Verifying keys in {json_path}...\")\n",
        "\n",
        "try:\n",
        "    with open(json_path, 'r') as f:\n",
        "        data = json.load(f)\n",
        "    \n",
        "    print(f\"Top-level keys: {list(data.keys())}\")\n",
        "\n",
        "    if 'info' in data.keys():\n",
        "        print(\"SUCCESS: 'info' key found in the JSON file.\")\n",
        "    else:\n",
        "        print(\"!!! ERROR: 'info' key is MISSING from the JSON file.\")\n",
        "\n",
        "except Exception as e:\n",
        "    print(f\"An error occurred during verification: {e}\")"
      ],
      "execution_count": null,
      "outputs": []
    },
    {
      "id": "f92853a0-265b-4f71-8209-ce0d87f722b1",
      "cell_type": "code",
      "metadata": {},
      "source": [
        "# --- Verify YOLOX Checkpoint Creation ---\n",
        "import os\n",
        "\n",
        "print(\"Checking for saved YOLOX model checkpoints...\")\n",
        "for fold in range(N_SPLITS):\n",
        "    exp_name = f\"yolox_m_fold_{fold}\"\n",
        "    checkpoint_path = os.path.join('yolox_outputs', exp_name, 'best_ckpt.pth')\n",
        "    if os.path.exists(checkpoint_path):\n",
        "        print(f\"SUCCESS: Found checkpoint for fold {fold} at: {checkpoint_path}\")\n",
        "    else:\n",
        "        print(f\"!!! ERROR: Checkpoint for fold {fold} is MISSING.\")"
      ],
      "execution_count": 11,
      "outputs": [
        {
          "output_type": "stream",
          "name": "stdout",
          "text": [
            "Checking for saved YOLOX model checkpoints...\nSUCCESS: Found checkpoint for fold 0 at: yolox_outputs/yolox_m_fold_0/best_ckpt.pth\nSUCCESS: Found checkpoint for fold 1 at: yolox_outputs/yolox_m_fold_1/best_ckpt.pth\nSUCCESS: Found checkpoint for fold 2 at: yolox_outputs/yolox_m_fold_2/best_ckpt.pth\nSUCCESS: Found checkpoint for fold 3 at: yolox_outputs/yolox_m_fold_3/best_ckpt.pth\nSUCCESS: Found checkpoint for fold 4 at: yolox_outputs/yolox_m_fold_4/best_ckpt.pth\n"
          ]
        }
      ]
    },
    {
      "id": "75dad028-b3e2-401e-b06e-50d928def2e6",
      "cell_type": "markdown",
      "metadata": {},
      "source": [
        "# --- Offline Validation: Detector OOF & Blended mAP ---\n",
        "\n",
        "To reliably estimate our final score, we need to calculate the blended mAP on our out-of-fold (OOF) predictions. We already have `oof_classifier.csv`. Now we need to generate OOF predictions for the detector.\n",
        "\n",
        "## Plan:\n",
        "\n",
        "1.  **Generate Detector OOF Predictions:**\n",
        "    *   Loop through each fold (0 to 4).\n",
        "    *   Load the best detector model for that fold (`yolox_outputs/yolox_m_fold_X/best_ckpt.pth`).\n",
        "    *   Load the validation data for that fold (`instances_foldX_val.json`).\n",
        "    *   Run inference on the validation set.\n",
        "    *   Store the predictions (boxes, scores) in a dictionary or dataframe, keyed by `image_id`.\n",
        "    *   Save the collected OOF predictions to a file (e.g., `oof_detector.pkl`).\n",
        "\n",
        "2.  **Implement Blended mAP Calculation:**\n",
        "    *   Write a function that takes the classifier OOF and detector OOF as input.\n",
        "    *   **Study-level mAP:** Calculate the study-level score using the probabilities in `oof_classifier.csv` against the ground truth labels.\n",
        "    *   **Image-level mAP:** Calculate the image-level mAP using the detector OOF predictions against the ground truth bounding boxes. This will require a standard mAP implementation (e.g., from `map_boxes` or a similar library).\n",
        "    *   **Blend:** Average the two scores to get the final estimated CV score."
      ],
      "execution_count": null,
      "outputs": []
    },
    {
      "id": "5eeabd00-1a9e-4186-802f-ff6d49dd3d41",
      "cell_type": "code",
      "metadata": {},
      "source": [
        "# --- Code for Detector OOF Generation ---\n",
        "import torch\n",
        "import pickle\n",
        "from torch.utils.data import DataLoader\n",
        "from torch.cuda.amp import autocast\n",
        "from tqdm.auto import tqdm\n",
        "\n",
        "# Add YOLOX to path if not already there\n",
        "import sys\n",
        "if 'YOLOX' not in sys.path:\n",
        "    sys.path.append('YOLOX')\n",
        "\n",
        "from yolox.exp import get_exp\n",
        "from yolox.utils import postprocess\n",
        "from yolox.data import COCODataset, ValTransform\n",
        "\n",
        "def generate_detector_oof(n_splits, config_path):\n",
        "    \"\"\"Generates and saves out-of-fold predictions for the detector models.\"\"\"\n",
        "    DEVICE = torch.device('cuda' if torch.cuda.is_available() else 'cpu')\n",
        "    IMG_SIZE_DET = 640\n",
        "    BATCH_SIZE_DET = 16\n",
        "    \n",
        "    oof_predictions = {}\n",
        "\n",
        "    for fold in range(n_splits):\n",
        "        print(f\"--- Generating OOF for Fold {fold} ---\")\n",
        "        \n",
        "        # --- Load Model ---\n",
        "        model_path = f'yolox_outputs/yolox_m_fold_{fold}/best_ckpt.pth'\n",
        "        if not os.path.exists(model_path):\n",
        "            print(f\"!!! WARNING: Model for fold {fold} not found at {model_path}. Skipping.\")\n",
        "            continue\n",
        "            \n",
        "        exp = get_exp(config_path)\n",
        "        exp.test_size = (IMG_SIZE_DET, IMG_SIZE_DET)\n",
        "        model = exp.get_model().to(DEVICE)\n",
        "        model.eval()\n",
        "        ckpt = torch.load(model_path, map_location=DEVICE, weights_only=False)\n",
        "        model.load_state_dict(ckpt[\"model\"])\n",
        "        \n",
        "        # --- Validation Dataloader ---\n",
        "        val_ann_file = f'instances_fold{fold}_val.json'\n",
        "        val_dataset = COCODataset(\n",
        "            data_dir=exp.data_dir,\n",
        "            json_file=val_ann_file,\n",
        "            name=\"val\",\n",
        "            img_size=exp.test_size,\n",
        "            preproc=ValTransform(legacy=False),\n",
        "        )\n",
        "        val_loader = DataLoader(val_dataset, batch_size=BATCH_SIZE_DET, shuffle=False, num_workers=4, pin_memory=True)\n",
        "\n",
        "        # --- Run Inference ---\n",
        "        with torch.no_grad():\n",
        "            for images, _, info_imgs, img_ids_coco_tensor in tqdm(val_loader, desc=f'Fold {fold} OOF Inference'):\n",
        "                images = images.to(DEVICE, non_blocking=True)\n",
        "                \n",
        "                orig_heights = info_imgs[0].numpy()\n",
        "                orig_widths = info_imgs[1].numpy()\n",
        "                \n",
        "                with autocast():\n",
        "                    outputs = model(images)\n",
        "                    outputs = postprocess(outputs, exp.num_classes, exp.test_conf, exp.nmsthre, class_agnostic=True)\n",
        "                \n",
        "                for i, output in enumerate(outputs):\n",
        "                    coco_id = img_ids_coco_tensor[i].item()\n",
        "                    original_image_id = val_dataset.coco.loadImgs(coco_id)[0]['file_name'].replace('.png', '')\n",
        "                    \n",
        "                    h, w = orig_heights[i], orig_widths[i]\n",
        "                    ratio = min(IMG_SIZE_DET / h, IMG_SIZE_DET / w)\n",
        "                    \n",
        "                    if output is None:\n",
        "                        oof_predictions[original_image_id] = {'boxes': [], 'scores': []}\n",
        "                        continue\n",
        "                    \n",
        "                    output = output.cpu().numpy()\n",
        "                    bboxes = output[:, 0:4] / ratio\n",
        "                    # EXPERT FIX: Correct score calculation. YOLOX output is (box, obj_conf, class_conf, class_id)\n",
        "                    # The score is obj_conf * class_conf.\n",
        "                    scores = output[:, 4] * output[:, 5]\n",
        "                    \n",
        "                    oof_predictions[original_image_id] = {'boxes': bboxes.tolist(), 'scores': scores.flatten().tolist()}\n",
        "    \n",
        "    with open('oof_detector.pkl', 'wb') as f:\n",
        "        pickle.dump(oof_predictions, f)\n",
        "    print(\"Detector OOF predictions saved to 'oof_detector.pkl'\")\n",
        "    return oof_predictions\n",
        "\n",
        "print(\"Detector OOF generation function defined.\")"
      ],
      "execution_count": 20,
      "outputs": [
        {
          "output_type": "stream",
          "name": "stdout",
          "text": [
            "Detector OOF generation function defined.\n"
          ]
        }
      ]
    },
    {
      "id": "ad9f7f66-9a0c-4244-afbc-9237090db226",
      "cell_type": "code",
      "metadata": {},
      "source": [
        "# --- Run Detector OOF Generation ---\n",
        "print(\"Starting detector OOF generation...\")\n",
        "oof_detector_preds = generate_detector_oof(\n",
        "    n_splits=N_SPLITS,\n",
        "    config_path='YOLOX/exps/siim_yolox_config.py'\n",
        ")\n",
        "print(f\"Generated OOF predictions for {len(oof_detector_preds)} images.\")"
      ],
      "execution_count": 21,
      "outputs": [
        {
          "output_type": "stream",
          "name": "stdout",
          "text": [
            "Starting detector OOF generation...\n--- Generating OOF for Fold 0 ---\n"
          ]
        },
        {
          "output_type": "stream",
          "name": "stdout",
          "text": [
            "loading annotations into memory...\nDone (t=0.00s)\ncreating index...\nindex created!\n"
          ]
        },
        {
          "output_type": "stream",
          "name": "stderr",
          "text": [
            "\rFold 0 OOF Inference:   0%|          | 0/72 [00:00<?, ?it/s]"
          ]
        },
        {
          "output_type": "stream",
          "name": "stderr",
          "text": [
            "/tmp/ipykernel_63363/1407663238.py:60: FutureWarning: `torch.cuda.amp.autocast(args...)` is deprecated. Please use `torch.amp.autocast('cuda', args...)` instead.\n  with autocast():\n\rFold 0 OOF Inference:   1%|\u258f         | 1/72 [00:01<01:49,  1.54s/it]"
          ]
        },
        {
          "output_type": "stream",
          "name": "stderr",
          "text": [
            "\rFold 0 OOF Inference:   3%|\u258e         | 2/72 [00:01<00:54,  1.28it/s]"
          ]
        },
        {
          "output_type": "stream",
          "name": "stderr",
          "text": [
            "\rFold 0 OOF Inference:   6%|\u258c         | 4/72 [00:01<00:22,  3.00it/s]"
          ]
        },
        {
          "output_type": "stream",
          "name": "stderr",
          "text": [
            "\rFold 0 OOF Inference:   7%|\u258b         | 5/72 [00:02<00:37,  1.80it/s]"
          ]
        },
        {
          "output_type": "stream",
          "name": "stderr",
          "text": [
            "\rFold 0 OOF Inference:   8%|\u258a         | 6/72 [00:03<00:31,  2.09it/s]"
          ]
        },
        {
          "output_type": "stream",
          "name": "stderr",
          "text": [
            "\rFold 0 OOF Inference:  11%|\u2588         | 8/72 [00:03<00:18,  3.51it/s]"
          ]
        },
        {
          "output_type": "stream",
          "name": "stderr",
          "text": [
            "\rFold 0 OOF Inference:  12%|\u2588\u258e        | 9/72 [00:04<00:28,  2.23it/s]"
          ]
        },
        {
          "output_type": "stream",
          "name": "stderr",
          "text": [
            "\rFold 0 OOF Inference:  14%|\u2588\u258d        | 10/72 [00:04<00:23,  2.66it/s]"
          ]
        },
        {
          "output_type": "stream",
          "name": "stderr",
          "text": [
            "\rFold 0 OOF Inference:  17%|\u2588\u258b        | 12/72 [00:04<00:14,  4.03it/s]"
          ]
        },
        {
          "output_type": "stream",
          "name": "stderr",
          "text": [
            "\rFold 0 OOF Inference:  18%|\u2588\u258a        | 13/72 [00:05<00:24,  2.36it/s]"
          ]
        },
        {
          "output_type": "stream",
          "name": "stderr",
          "text": [
            "\rFold 0 OOF Inference:  19%|\u2588\u2589        | 14/72 [00:05<00:21,  2.70it/s]"
          ]
        },
        {
          "output_type": "stream",
          "name": "stderr",
          "text": [
            "\rFold 0 OOF Inference:  22%|\u2588\u2588\u258f       | 16/72 [00:06<00:15,  3.69it/s]"
          ]
        },
        {
          "output_type": "stream",
          "name": "stderr",
          "text": [
            "\rFold 0 OOF Inference:  24%|\u2588\u2588\u258e       | 17/72 [00:07<00:22,  2.44it/s]"
          ]
        },
        {
          "output_type": "stream",
          "name": "stderr",
          "text": [
            "\rFold 0 OOF Inference:  25%|\u2588\u2588\u258c       | 18/72 [00:07<00:26,  2.08it/s]"
          ]
        },
        {
          "output_type": "stream",
          "name": "stderr",
          "text": [
            "\rFold 0 OOF Inference:  28%|\u2588\u2588\u258a       | 20/72 [00:07<00:16,  3.23it/s]"
          ]
        },
        {
          "output_type": "stream",
          "name": "stderr",
          "text": [
            "\rFold 0 OOF Inference:  29%|\u2588\u2588\u2589       | 21/72 [00:08<00:17,  2.86it/s]"
          ]
        },
        {
          "output_type": "stream",
          "name": "stderr",
          "text": [
            "\rFold 0 OOF Inference:  31%|\u2588\u2588\u2588       | 22/72 [00:08<00:21,  2.37it/s]"
          ]
        },
        {
          "output_type": "stream",
          "name": "stderr",
          "text": [
            "\rFold 0 OOF Inference:  33%|\u2588\u2588\u2588\u258e      | 24/72 [00:09<00:13,  3.64it/s]"
          ]
        },
        {
          "output_type": "stream",
          "name": "stderr",
          "text": [
            "\rFold 0 OOF Inference:  35%|\u2588\u2588\u2588\u258d      | 25/72 [00:09<00:15,  3.11it/s]"
          ]
        },
        {
          "output_type": "stream",
          "name": "stderr",
          "text": [
            "\rFold 0 OOF Inference:  36%|\u2588\u2588\u2588\u258c      | 26/72 [00:10<00:19,  2.33it/s]"
          ]
        },
        {
          "output_type": "stream",
          "name": "stderr",
          "text": [
            "\rFold 0 OOF Inference:  39%|\u2588\u2588\u2588\u2589      | 28/72 [00:10<00:12,  3.59it/s]"
          ]
        },
        {
          "output_type": "stream",
          "name": "stderr",
          "text": [
            "\rFold 0 OOF Inference:  40%|\u2588\u2588\u2588\u2588      | 29/72 [00:10<00:14,  3.06it/s]"
          ]
        },
        {
          "output_type": "stream",
          "name": "stderr",
          "text": [
            "\rFold 0 OOF Inference:  42%|\u2588\u2588\u2588\u2588\u258f     | 30/72 [00:11<00:16,  2.48it/s]"
          ]
        },
        {
          "output_type": "stream",
          "name": "stderr",
          "text": [
            "\rFold 0 OOF Inference:  44%|\u2588\u2588\u2588\u2588\u258d     | 32/72 [00:11<00:10,  3.79it/s]"
          ]
        },
        {
          "output_type": "stream",
          "name": "stderr",
          "text": [
            "\rFold 0 OOF Inference:  46%|\u2588\u2588\u2588\u2588\u258c     | 33/72 [00:12<00:13,  2.81it/s]"
          ]
        },
        {
          "output_type": "stream",
          "name": "stderr",
          "text": [
            "\rFold 0 OOF Inference:  47%|\u2588\u2588\u2588\u2588\u258b     | 34/72 [00:12<00:15,  2.48it/s]"
          ]
        },
        {
          "output_type": "stream",
          "name": "stderr",
          "text": [
            "\rFold 0 OOF Inference:  50%|\u2588\u2588\u2588\u2588\u2588     | 36/72 [00:13<00:09,  3.79it/s]"
          ]
        },
        {
          "output_type": "stream",
          "name": "stderr",
          "text": [
            "\rFold 0 OOF Inference:  51%|\u2588\u2588\u2588\u2588\u2588\u258f    | 37/72 [00:13<00:12,  2.81it/s]"
          ]
        },
        {
          "output_type": "stream",
          "name": "stderr",
          "text": [
            "\rFold 0 OOF Inference:  53%|\u2588\u2588\u2588\u2588\u2588\u258e    | 38/72 [00:14<00:13,  2.58it/s]"
          ]
        },
        {
          "output_type": "stream",
          "name": "stderr",
          "text": [
            "\rFold 0 OOF Inference:  54%|\u2588\u2588\u2588\u2588\u2588\u258d    | 39/72 [00:14<00:11,  2.99it/s]"
          ]
        },
        {
          "output_type": "stream",
          "name": "stderr",
          "text": [
            "\rFold 0 OOF Inference:  57%|\u2588\u2588\u2588\u2588\u2588\u258b    | 41/72 [00:15<00:11,  2.70it/s]"
          ]
        },
        {
          "output_type": "stream",
          "name": "stderr",
          "text": [
            "\rFold 0 OOF Inference:  58%|\u2588\u2588\u2588\u2588\u2588\u258a    | 42/72 [00:15<00:10,  2.94it/s]"
          ]
        },
        {
          "output_type": "stream",
          "name": "stderr",
          "text": [
            "\rFold 0 OOF Inference:  60%|\u2588\u2588\u2588\u2588\u2588\u2589    | 43/72 [00:15<00:09,  2.91it/s]"
          ]
        },
        {
          "output_type": "stream",
          "name": "stderr",
          "text": [
            "\rFold 0 OOF Inference:  62%|\u2588\u2588\u2588\u2588\u2588\u2588\u258e   | 45/72 [00:16<00:08,  3.01it/s]"
          ]
        },
        {
          "output_type": "stream",
          "name": "stderr",
          "text": [
            "\rFold 0 OOF Inference:  64%|\u2588\u2588\u2588\u2588\u2588\u2588\u258d   | 46/72 [00:16<00:08,  3.03it/s]"
          ]
        },
        {
          "output_type": "stream",
          "name": "stderr",
          "text": [
            "\rFold 0 OOF Inference:  65%|\u2588\u2588\u2588\u2588\u2588\u2588\u258c   | 47/72 [00:17<00:08,  3.10it/s]"
          ]
        },
        {
          "output_type": "stream",
          "name": "stderr",
          "text": [
            "\rFold 0 OOF Inference:  68%|\u2588\u2588\u2588\u2588\u2588\u2588\u258a   | 49/72 [00:17<00:08,  2.80it/s]"
          ]
        },
        {
          "output_type": "stream",
          "name": "stderr",
          "text": [
            "\rFold 0 OOF Inference:  69%|\u2588\u2588\u2588\u2588\u2588\u2588\u2589   | 50/72 [00:18<00:08,  2.69it/s]"
          ]
        },
        {
          "output_type": "stream",
          "name": "stderr",
          "text": [
            "\rFold 0 OOF Inference:  71%|\u2588\u2588\u2588\u2588\u2588\u2588\u2588   | 51/72 [00:18<00:06,  3.13it/s]"
          ]
        },
        {
          "output_type": "stream",
          "name": "stderr",
          "text": [
            "\rFold 0 OOF Inference:  74%|\u2588\u2588\u2588\u2588\u2588\u2588\u2588\u258e  | 53/72 [00:19<00:05,  3.33it/s]"
          ]
        },
        {
          "output_type": "stream",
          "name": "stderr",
          "text": [
            "\rFold 0 OOF Inference:  75%|\u2588\u2588\u2588\u2588\u2588\u2588\u2588\u258c  | 54/72 [00:19<00:06,  2.75it/s]"
          ]
        },
        {
          "output_type": "stream",
          "name": "stderr",
          "text": [
            "\rFold 0 OOF Inference:  76%|\u2588\u2588\u2588\u2588\u2588\u2588\u2588\u258b  | 55/72 [00:20<00:06,  2.49it/s]"
          ]
        },
        {
          "output_type": "stream",
          "name": "stderr",
          "text": [
            "\rFold 0 OOF Inference:  79%|\u2588\u2588\u2588\u2588\u2588\u2588\u2588\u2589  | 57/72 [00:20<00:04,  3.52it/s]"
          ]
        },
        {
          "output_type": "stream",
          "name": "stderr",
          "text": [
            "\rFold 0 OOF Inference:  81%|\u2588\u2588\u2588\u2588\u2588\u2588\u2588\u2588  | 58/72 [00:21<00:05,  2.74it/s]"
          ]
        },
        {
          "output_type": "stream",
          "name": "stderr",
          "text": [
            "\rFold 0 OOF Inference:  82%|\u2588\u2588\u2588\u2588\u2588\u2588\u2588\u2588\u258f | 59/72 [00:21<00:06,  2.11it/s]"
          ]
        },
        {
          "output_type": "stream",
          "name": "stderr",
          "text": [
            "\rFold 0 OOF Inference:  85%|\u2588\u2588\u2588\u2588\u2588\u2588\u2588\u2588\u258d | 61/72 [00:21<00:03,  3.27it/s]"
          ]
        },
        {
          "output_type": "stream",
          "name": "stderr",
          "text": [
            "\rFold 0 OOF Inference:  86%|\u2588\u2588\u2588\u2588\u2588\u2588\u2588\u2588\u258c | 62/72 [00:22<00:03,  3.17it/s]"
          ]
        },
        {
          "output_type": "stream",
          "name": "stderr",
          "text": [
            "\rFold 0 OOF Inference:  88%|\u2588\u2588\u2588\u2588\u2588\u2588\u2588\u2588\u258a | 63/72 [00:22<00:03,  2.46it/s]"
          ]
        },
        {
          "output_type": "stream",
          "name": "stderr",
          "text": [
            "\rFold 0 OOF Inference:  90%|\u2588\u2588\u2588\u2588\u2588\u2588\u2588\u2588\u2588 | 65/72 [00:23<00:01,  3.59it/s]"
          ]
        },
        {
          "output_type": "stream",
          "name": "stderr",
          "text": [
            "\rFold 0 OOF Inference:  92%|\u2588\u2588\u2588\u2588\u2588\u2588\u2588\u2588\u2588\u258f| 66/72 [00:23<00:01,  3.38it/s]"
          ]
        },
        {
          "output_type": "stream",
          "name": "stderr",
          "text": [
            "\rFold 0 OOF Inference:  93%|\u2588\u2588\u2588\u2588\u2588\u2588\u2588\u2588\u2588\u258e| 67/72 [00:24<00:02,  2.15it/s]"
          ]
        },
        {
          "output_type": "stream",
          "name": "stderr",
          "text": [
            "\rFold 0 OOF Inference:  96%|\u2588\u2588\u2588\u2588\u2588\u2588\u2588\u2588\u2588\u258c| 69/72 [00:24<00:00,  3.33it/s]"
          ]
        },
        {
          "output_type": "stream",
          "name": "stderr",
          "text": [
            "\rFold 0 OOF Inference:  97%|\u2588\u2588\u2588\u2588\u2588\u2588\u2588\u2588\u2588\u258b| 70/72 [00:24<00:00,  3.70it/s]"
          ]
        },
        {
          "output_type": "stream",
          "name": "stderr",
          "text": [
            "\rFold 0 OOF Inference:  99%|\u2588\u2588\u2588\u2588\u2588\u2588\u2588\u2588\u2588\u258a| 71/72 [00:25<00:00,  2.27it/s]"
          ]
        },
        {
          "output_type": "stream",
          "name": "stderr",
          "text": [
            "\rFold 0 OOF Inference: 100%|\u2588\u2588\u2588\u2588\u2588\u2588\u2588\u2588\u2588\u2588| 72/72 [00:25<00:00,  2.78it/s]"
          ]
        },
        {
          "output_type": "stream",
          "name": "stderr",
          "text": [
            "\n"
          ]
        },
        {
          "output_type": "stream",
          "name": "stdout",
          "text": [
            "--- Generating OOF for Fold 1 ---\n"
          ]
        },
        {
          "output_type": "stream",
          "name": "stdout",
          "text": [
            "loading annotations into memory...\nDone (t=0.00s)\ncreating index...\nindex created!\n"
          ]
        },
        {
          "output_type": "stream",
          "name": "stderr",
          "text": [
            "\rFold 1 OOF Inference:   0%|          | 0/71 [00:00<?, ?it/s]"
          ]
        },
        {
          "output_type": "stream",
          "name": "stderr",
          "text": [
            "\rFold 1 OOF Inference:   1%|\u258f         | 1/71 [00:01<02:09,  1.85s/it]"
          ]
        },
        {
          "output_type": "stream",
          "name": "stderr",
          "text": [
            "\rFold 1 OOF Inference:   4%|\u258d         | 3/71 [00:01<00:35,  1.89it/s]"
          ]
        },
        {
          "output_type": "stream",
          "name": "stderr",
          "text": [
            "\rFold 1 OOF Inference:   7%|\u258b         | 5/71 [00:03<00:37,  1.76it/s]"
          ]
        },
        {
          "output_type": "stream",
          "name": "stderr",
          "text": [
            "\rFold 1 OOF Inference:  10%|\u2589         | 7/71 [00:03<00:22,  2.82it/s]"
          ]
        },
        {
          "output_type": "stream",
          "name": "stderr",
          "text": [
            "\rFold 1 OOF Inference:  13%|\u2588\u258e        | 9/71 [00:04<00:27,  2.24it/s]"
          ]
        },
        {
          "output_type": "stream",
          "name": "stderr",
          "text": [
            "\rFold 1 OOF Inference:  14%|\u2588\u258d        | 10/71 [00:04<00:24,  2.54it/s]"
          ]
        },
        {
          "output_type": "stream",
          "name": "stderr",
          "text": [
            "\rFold 1 OOF Inference:  15%|\u2588\u258c        | 11/71 [00:04<00:20,  2.93it/s]"
          ]
        },
        {
          "output_type": "stream",
          "name": "stderr",
          "text": [
            "\rFold 1 OOF Inference:  18%|\u2588\u258a        | 13/71 [00:06<00:28,  2.06it/s]"
          ]
        },
        {
          "output_type": "stream",
          "name": "stderr",
          "text": [
            "\rFold 1 OOF Inference:  21%|\u2588\u2588        | 15/71 [00:06<00:19,  2.91it/s]"
          ]
        },
        {
          "output_type": "stream",
          "name": "stderr",
          "text": [
            "\rFold 1 OOF Inference:  24%|\u2588\u2588\u258d       | 17/71 [00:07<00:25,  2.13it/s]"
          ]
        },
        {
          "output_type": "stream",
          "name": "stderr",
          "text": [
            "\rFold 1 OOF Inference:  27%|\u2588\u2588\u258b       | 19/71 [00:08<00:17,  2.96it/s]"
          ]
        },
        {
          "output_type": "stream",
          "name": "stderr",
          "text": [
            "\rFold 1 OOF Inference:  30%|\u2588\u2588\u2589       | 21/71 [00:09<00:22,  2.27it/s]"
          ]
        },
        {
          "output_type": "stream",
          "name": "stderr",
          "text": [
            "\rFold 1 OOF Inference:  32%|\u2588\u2588\u2588\u258f      | 23/71 [00:09<00:15,  3.09it/s]"
          ]
        },
        {
          "output_type": "stream",
          "name": "stderr",
          "text": [
            "\rFold 1 OOF Inference:  35%|\u2588\u2588\u2588\u258c      | 25/71 [00:10<00:20,  2.22it/s]"
          ]
        },
        {
          "output_type": "stream",
          "name": "stderr",
          "text": [
            "\rFold 1 OOF Inference:  38%|\u2588\u2588\u2588\u258a      | 27/71 [00:11<00:14,  3.00it/s]"
          ]
        },
        {
          "output_type": "stream",
          "name": "stderr",
          "text": [
            "\rFold 1 OOF Inference:  41%|\u2588\u2588\u2588\u2588      | 29/71 [00:12<00:16,  2.56it/s]"
          ]
        },
        {
          "output_type": "stream",
          "name": "stderr",
          "text": [
            "\rFold 1 OOF Inference:  44%|\u2588\u2588\u2588\u2588\u258e     | 31/71 [00:12<00:11,  3.42it/s]"
          ]
        },
        {
          "output_type": "stream",
          "name": "stderr",
          "text": [
            "\rFold 1 OOF Inference:  46%|\u2588\u2588\u2588\u2588\u258b     | 33/71 [00:13<00:13,  2.76it/s]"
          ]
        },
        {
          "output_type": "stream",
          "name": "stderr",
          "text": [
            "\rFold 1 OOF Inference:  48%|\u2588\u2588\u2588\u2588\u258a     | 34/71 [00:13<00:12,  3.08it/s]"
          ]
        },
        {
          "output_type": "stream",
          "name": "stderr",
          "text": [
            "\rFold 1 OOF Inference:  51%|\u2588\u2588\u2588\u2588\u2588     | 36/71 [00:13<00:08,  4.21it/s]"
          ]
        },
        {
          "output_type": "stream",
          "name": "stderr",
          "text": [
            "\rFold 1 OOF Inference:  52%|\u2588\u2588\u2588\u2588\u2588\u258f    | 37/71 [00:14<00:13,  2.54it/s]"
          ]
        },
        {
          "output_type": "stream",
          "name": "stderr",
          "text": [
            "\rFold 1 OOF Inference:  54%|\u2588\u2588\u2588\u2588\u2588\u258e    | 38/71 [00:14<00:11,  2.83it/s]"
          ]
        },
        {
          "output_type": "stream",
          "name": "stderr",
          "text": [
            "\rFold 1 OOF Inference:  56%|\u2588\u2588\u2588\u2588\u2588\u258b    | 40/71 [00:14<00:07,  4.11it/s]"
          ]
        },
        {
          "output_type": "stream",
          "name": "stderr",
          "text": [
            "\rFold 1 OOF Inference:  58%|\u2588\u2588\u2588\u2588\u2588\u258a    | 41/71 [00:16<00:14,  2.08it/s]"
          ]
        },
        {
          "output_type": "stream",
          "name": "stderr",
          "text": [
            "\rFold 1 OOF Inference:  61%|\u2588\u2588\u2588\u2588\u2588\u2588    | 43/71 [00:16<00:09,  3.09it/s]"
          ]
        },
        {
          "output_type": "stream",
          "name": "stderr",
          "text": [
            "\rFold 1 OOF Inference:  63%|\u2588\u2588\u2588\u2588\u2588\u2588\u258e   | 45/71 [00:17<00:11,  2.30it/s]"
          ]
        },
        {
          "output_type": "stream",
          "name": "stderr",
          "text": [
            "\rFold 1 OOF Inference:  66%|\u2588\u2588\u2588\u2588\u2588\u2588\u258c   | 47/71 [00:17<00:07,  3.21it/s]"
          ]
        },
        {
          "output_type": "stream",
          "name": "stderr",
          "text": [
            "\rFold 1 OOF Inference:  69%|\u2588\u2588\u2588\u2588\u2588\u2588\u2589   | 49/71 [00:19<00:08,  2.55it/s]"
          ]
        },
        {
          "output_type": "stream",
          "name": "stderr",
          "text": [
            "\rFold 1 OOF Inference:  72%|\u2588\u2588\u2588\u2588\u2588\u2588\u2588\u258f  | 51/71 [00:19<00:05,  3.46it/s]"
          ]
        },
        {
          "output_type": "stream",
          "name": "stderr",
          "text": [
            "\rFold 1 OOF Inference:  75%|\u2588\u2588\u2588\u2588\u2588\u2588\u2588\u258d  | 53/71 [00:20<00:06,  2.66it/s]"
          ]
        },
        {
          "output_type": "stream",
          "name": "stderr",
          "text": [
            "\rFold 1 OOF Inference:  77%|\u2588\u2588\u2588\u2588\u2588\u2588\u2588\u258b  | 55/71 [00:20<00:04,  3.56it/s]"
          ]
        },
        {
          "output_type": "stream",
          "name": "stderr",
          "text": [
            "\rFold 1 OOF Inference:  80%|\u2588\u2588\u2588\u2588\u2588\u2588\u2588\u2588  | 57/71 [00:21<00:05,  2.67it/s]"
          ]
        },
        {
          "output_type": "stream",
          "name": "stderr",
          "text": [
            "\rFold 1 OOF Inference:  83%|\u2588\u2588\u2588\u2588\u2588\u2588\u2588\u2588\u258e | 59/71 [00:21<00:03,  3.56it/s]"
          ]
        },
        {
          "output_type": "stream",
          "name": "stderr",
          "text": [
            "\rFold 1 OOF Inference:  86%|\u2588\u2588\u2588\u2588\u2588\u2588\u2588\u2588\u258c | 61/71 [00:22<00:03,  2.77it/s]"
          ]
        },
        {
          "output_type": "stream",
          "name": "stderr",
          "text": [
            "\rFold 1 OOF Inference:  89%|\u2588\u2588\u2588\u2588\u2588\u2588\u2588\u2588\u258a | 63/71 [00:23<00:02,  3.44it/s]"
          ]
        },
        {
          "output_type": "stream",
          "name": "stderr",
          "text": [
            "\rFold 1 OOF Inference:  92%|\u2588\u2588\u2588\u2588\u2588\u2588\u2588\u2588\u2588\u258f| 65/71 [00:24<00:02,  2.61it/s]"
          ]
        },
        {
          "output_type": "stream",
          "name": "stderr",
          "text": [
            "\rFold 1 OOF Inference:  94%|\u2588\u2588\u2588\u2588\u2588\u2588\u2588\u2588\u2588\u258d| 67/71 [00:24<00:01,  2.98it/s]"
          ]
        },
        {
          "output_type": "stream",
          "name": "stderr",
          "text": [
            "\rFold 1 OOF Inference:  97%|\u2588\u2588\u2588\u2588\u2588\u2588\u2588\u2588\u2588\u258b| 69/71 [00:25<00:00,  2.66it/s]"
          ]
        },
        {
          "output_type": "stream",
          "name": "stderr",
          "text": [
            "\rFold 1 OOF Inference: 100%|\u2588\u2588\u2588\u2588\u2588\u2588\u2588\u2588\u2588\u2588| 71/71 [00:25<00:00,  2.75it/s]"
          ]
        },
        {
          "output_type": "stream",
          "name": "stderr",
          "text": [
            "\n"
          ]
        },
        {
          "output_type": "stream",
          "name": "stdout",
          "text": [
            "--- Generating OOF for Fold 2 ---\n"
          ]
        },
        {
          "output_type": "stream",
          "name": "stdout",
          "text": [
            "loading annotations into memory...\nDone (t=0.00s)\ncreating index...\nindex created!\n"
          ]
        },
        {
          "output_type": "stream",
          "name": "stderr",
          "text": [
            "\rFold 2 OOF Inference:   0%|          | 0/72 [00:00<?, ?it/s]"
          ]
        },
        {
          "output_type": "stream",
          "name": "stderr",
          "text": [
            "\rFold 2 OOF Inference:   1%|\u258f         | 1/72 [00:01<01:49,  1.54s/it]"
          ]
        },
        {
          "output_type": "stream",
          "name": "stderr",
          "text": [
            "\rFold 2 OOF Inference:   3%|\u258e         | 2/72 [00:01<00:50,  1.38it/s]"
          ]
        },
        {
          "output_type": "stream",
          "name": "stderr",
          "text": [
            "\rFold 2 OOF Inference:   6%|\u258c         | 4/72 [00:01<00:21,  3.20it/s]"
          ]
        },
        {
          "output_type": "stream",
          "name": "stderr",
          "text": [
            "\rFold 2 OOF Inference:   7%|\u258b         | 5/72 [00:02<00:37,  1.80it/s]"
          ]
        },
        {
          "output_type": "stream",
          "name": "stderr",
          "text": [
            "\rFold 2 OOF Inference:  10%|\u2589         | 7/72 [00:03<00:21,  3.06it/s]"
          ]
        },
        {
          "output_type": "stream",
          "name": "stderr",
          "text": [
            "\rFold 2 OOF Inference:  12%|\u2588\u258e        | 9/72 [00:04<00:27,  2.31it/s]"
          ]
        },
        {
          "output_type": "stream",
          "name": "stderr",
          "text": [
            "\rFold 2 OOF Inference:  15%|\u2588\u258c        | 11/72 [00:04<00:18,  3.30it/s]"
          ]
        },
        {
          "output_type": "stream",
          "name": "stderr",
          "text": [
            "\rFold 2 OOF Inference:  18%|\u2588\u258a        | 13/72 [00:05<00:27,  2.18it/s]"
          ]
        },
        {
          "output_type": "stream",
          "name": "stderr",
          "text": [
            "\rFold 2 OOF Inference:  21%|\u2588\u2588        | 15/72 [00:06<00:18,  3.03it/s]"
          ]
        },
        {
          "output_type": "stream",
          "name": "stderr",
          "text": [
            "\rFold 2 OOF Inference:  24%|\u2588\u2588\u258e       | 17/72 [00:07<00:24,  2.28it/s]"
          ]
        },
        {
          "output_type": "stream",
          "name": "stderr",
          "text": [
            "\rFold 2 OOF Inference:  26%|\u2588\u2588\u258b       | 19/72 [00:07<00:17,  3.04it/s]"
          ]
        },
        {
          "output_type": "stream",
          "name": "stderr",
          "text": [
            "\rFold 2 OOF Inference:  29%|\u2588\u2588\u2589       | 21/72 [00:08<00:20,  2.43it/s]"
          ]
        },
        {
          "output_type": "stream",
          "name": "stderr",
          "text": [
            "\rFold 2 OOF Inference:  32%|\u2588\u2588\u2588\u258f      | 23/72 [00:08<00:15,  3.17it/s]"
          ]
        },
        {
          "output_type": "stream",
          "name": "stderr",
          "text": [
            "\rFold 2 OOF Inference:  35%|\u2588\u2588\u2588\u258d      | 25/72 [00:10<00:19,  2.45it/s]"
          ]
        },
        {
          "output_type": "stream",
          "name": "stderr",
          "text": [
            "\rFold 2 OOF Inference:  38%|\u2588\u2588\u2588\u258a      | 27/72 [00:10<00:16,  2.78it/s]"
          ]
        },
        {
          "output_type": "stream",
          "name": "stderr",
          "text": [
            "\rFold 2 OOF Inference:  40%|\u2588\u2588\u2588\u2588      | 29/72 [00:11<00:16,  2.56it/s]"
          ]
        },
        {
          "output_type": "stream",
          "name": "stderr",
          "text": [
            "\rFold 2 OOF Inference:  43%|\u2588\u2588\u2588\u2588\u258e     | 31/72 [00:11<00:13,  3.15it/s]"
          ]
        },
        {
          "output_type": "stream",
          "name": "stderr",
          "text": [
            "\rFold 2 OOF Inference:  46%|\u2588\u2588\u2588\u2588\u258c     | 33/72 [00:12<00:13,  2.82it/s]"
          ]
        },
        {
          "output_type": "stream",
          "name": "stderr",
          "text": [
            "\rFold 2 OOF Inference:  49%|\u2588\u2588\u2588\u2588\u258a     | 35/72 [00:13<00:13,  2.79it/s]"
          ]
        },
        {
          "output_type": "stream",
          "name": "stderr",
          "text": [
            "\rFold 2 OOF Inference:  51%|\u2588\u2588\u2588\u2588\u2588\u258f    | 37/72 [00:14<00:13,  2.61it/s]"
          ]
        },
        {
          "output_type": "stream",
          "name": "stderr",
          "text": [
            "\rFold 2 OOF Inference:  54%|\u2588\u2588\u2588\u2588\u2588\u258d    | 39/72 [00:14<00:11,  2.81it/s]"
          ]
        },
        {
          "output_type": "stream",
          "name": "stderr",
          "text": [
            "\rFold 2 OOF Inference:  57%|\u2588\u2588\u2588\u2588\u2588\u258b    | 41/72 [00:15<00:11,  2.69it/s]"
          ]
        },
        {
          "output_type": "stream",
          "name": "stderr",
          "text": [
            "\rFold 2 OOF Inference:  60%|\u2588\u2588\u2588\u2588\u2588\u2589    | 43/72 [00:16<00:10,  2.68it/s]"
          ]
        },
        {
          "output_type": "stream",
          "name": "stderr",
          "text": [
            "\rFold 2 OOF Inference:  62%|\u2588\u2588\u2588\u2588\u2588\u2588\u258e   | 45/72 [00:17<00:10,  2.64it/s]"
          ]
        },
        {
          "output_type": "stream",
          "name": "stderr",
          "text": [
            "\rFold 2 OOF Inference:  65%|\u2588\u2588\u2588\u2588\u2588\u2588\u258c   | 47/72 [00:17<00:08,  2.86it/s]"
          ]
        },
        {
          "output_type": "stream",
          "name": "stderr",
          "text": [
            "\rFold 2 OOF Inference:  68%|\u2588\u2588\u2588\u2588\u2588\u2588\u258a   | 49/72 [00:18<00:07,  3.11it/s]"
          ]
        },
        {
          "output_type": "stream",
          "name": "stderr",
          "text": [
            "\rFold 2 OOF Inference:  71%|\u2588\u2588\u2588\u2588\u2588\u2588\u2588   | 51/72 [00:19<00:07,  2.75it/s]"
          ]
        },
        {
          "output_type": "stream",
          "name": "stderr",
          "text": [
            "\rFold 2 OOF Inference:  74%|\u2588\u2588\u2588\u2588\u2588\u2588\u2588\u258e  | 53/72 [00:19<00:06,  3.09it/s]"
          ]
        },
        {
          "output_type": "stream",
          "name": "stderr",
          "text": [
            "\rFold 2 OOF Inference:  76%|\u2588\u2588\u2588\u2588\u2588\u2588\u2588\u258b  | 55/72 [00:20<00:06,  2.62it/s]"
          ]
        },
        {
          "output_type": "stream",
          "name": "stderr",
          "text": [
            "\rFold 2 OOF Inference:  79%|\u2588\u2588\u2588\u2588\u2588\u2588\u2588\u2589  | 57/72 [00:21<00:05,  2.96it/s]"
          ]
        },
        {
          "output_type": "stream",
          "name": "stderr",
          "text": [
            "\rFold 2 OOF Inference:  82%|\u2588\u2588\u2588\u2588\u2588\u2588\u2588\u2588\u258f | 59/72 [00:22<00:04,  2.63it/s]"
          ]
        },
        {
          "output_type": "stream",
          "name": "stderr",
          "text": [
            "\rFold 2 OOF Inference:  85%|\u2588\u2588\u2588\u2588\u2588\u2588\u2588\u2588\u258d | 61/72 [00:22<00:03,  3.24it/s]"
          ]
        },
        {
          "output_type": "stream",
          "name": "stderr",
          "text": [
            "\rFold 2 OOF Inference:  88%|\u2588\u2588\u2588\u2588\u2588\u2588\u2588\u2588\u258a | 63/72 [00:23<00:03,  2.63it/s]"
          ]
        },
        {
          "output_type": "stream",
          "name": "stderr",
          "text": [
            "\rFold 2 OOF Inference:  90%|\u2588\u2588\u2588\u2588\u2588\u2588\u2588\u2588\u2588 | 65/72 [00:24<00:02,  3.05it/s]"
          ]
        },
        {
          "output_type": "stream",
          "name": "stderr",
          "text": [
            "\rFold 2 OOF Inference:  93%|\u2588\u2588\u2588\u2588\u2588\u2588\u2588\u2588\u2588\u258e| 67/72 [00:25<00:01,  2.53it/s]"
          ]
        },
        {
          "output_type": "stream",
          "name": "stderr",
          "text": [
            "\rFold 2 OOF Inference:  96%|\u2588\u2588\u2588\u2588\u2588\u2588\u2588\u2588\u2588\u258c| 69/72 [00:25<00:01,  2.82it/s]"
          ]
        },
        {
          "output_type": "stream",
          "name": "stderr",
          "text": [
            "\rFold 2 OOF Inference:  99%|\u2588\u2588\u2588\u2588\u2588\u2588\u2588\u2588\u2588\u258a| 71/72 [00:26<00:00,  2.85it/s]"
          ]
        },
        {
          "output_type": "stream",
          "name": "stderr",
          "text": [
            "\rFold 2 OOF Inference: 100%|\u2588\u2588\u2588\u2588\u2588\u2588\u2588\u2588\u2588\u2588| 72/72 [00:26<00:00,  2.72it/s]"
          ]
        },
        {
          "output_type": "stream",
          "name": "stderr",
          "text": [
            "\n"
          ]
        },
        {
          "output_type": "stream",
          "name": "stdout",
          "text": [
            "--- Generating OOF for Fold 3 ---\n"
          ]
        },
        {
          "output_type": "stream",
          "name": "stdout",
          "text": [
            "loading annotations into memory...\nDone (t=0.00s)\ncreating index...\nindex created!\n"
          ]
        },
        {
          "output_type": "stream",
          "name": "stderr",
          "text": [
            "\rFold 3 OOF Inference:   0%|          | 0/71 [00:00<?, ?it/s]"
          ]
        },
        {
          "output_type": "stream",
          "name": "stderr",
          "text": [
            "\rFold 3 OOF Inference:   1%|\u258f         | 1/71 [00:02<02:21,  2.01s/it]"
          ]
        },
        {
          "output_type": "stream",
          "name": "stderr",
          "text": [
            "\rFold 3 OOF Inference:   4%|\u258d         | 3/71 [00:02<00:38,  1.75it/s]"
          ]
        },
        {
          "output_type": "stream",
          "name": "stderr",
          "text": [
            "\rFold 3 OOF Inference:   7%|\u258b         | 5/71 [00:03<00:38,  1.71it/s]"
          ]
        },
        {
          "output_type": "stream",
          "name": "stderr",
          "text": [
            "\rFold 3 OOF Inference:  10%|\u2589         | 7/71 [00:03<00:23,  2.73it/s]"
          ]
        },
        {
          "output_type": "stream",
          "name": "stderr",
          "text": [
            "\rFold 3 OOF Inference:  13%|\u2588\u258e        | 9/71 [00:04<00:26,  2.37it/s]"
          ]
        },
        {
          "output_type": "stream",
          "name": "stderr",
          "text": [
            "\rFold 3 OOF Inference:  15%|\u2588\u258c        | 11/71 [00:04<00:20,  2.94it/s]"
          ]
        },
        {
          "output_type": "stream",
          "name": "stderr",
          "text": [
            "\rFold 3 OOF Inference:  18%|\u2588\u258a        | 13/71 [00:05<00:23,  2.51it/s]"
          ]
        },
        {
          "output_type": "stream",
          "name": "stderr",
          "text": [
            "\rFold 3 OOF Inference:  21%|\u2588\u2588        | 15/71 [00:06<00:17,  3.26it/s]"
          ]
        },
        {
          "output_type": "stream",
          "name": "stderr",
          "text": [
            "\rFold 3 OOF Inference:  23%|\u2588\u2588\u258e       | 16/71 [00:06<00:17,  3.12it/s]"
          ]
        },
        {
          "output_type": "stream",
          "name": "stderr",
          "text": [
            "\rFold 3 OOF Inference:  24%|\u2588\u2588\u258d       | 17/71 [00:07<00:21,  2.46it/s]"
          ]
        },
        {
          "output_type": "stream",
          "name": "stderr",
          "text": [
            "\rFold 3 OOF Inference:  27%|\u2588\u2588\u258b       | 19/71 [00:07<00:14,  3.59it/s]"
          ]
        },
        {
          "output_type": "stream",
          "name": "stderr",
          "text": [
            "\rFold 3 OOF Inference:  28%|\u2588\u2588\u258a       | 20/71 [00:07<00:16,  3.13it/s]"
          ]
        },
        {
          "output_type": "stream",
          "name": "stderr",
          "text": [
            "\rFold 3 OOF Inference:  30%|\u2588\u2588\u2589       | 21/71 [00:08<00:23,  2.08it/s]"
          ]
        },
        {
          "output_type": "stream",
          "name": "stderr",
          "text": [
            "\rFold 3 OOF Inference:  32%|\u2588\u2588\u2588\u258f      | 23/71 [00:08<00:15,  3.18it/s]"
          ]
        },
        {
          "output_type": "stream",
          "name": "stderr",
          "text": [
            "\rFold 3 OOF Inference:  34%|\u2588\u2588\u2588\u258d      | 24/71 [00:09<00:12,  3.72it/s]"
          ]
        },
        {
          "output_type": "stream",
          "name": "stderr",
          "text": [
            "\rFold 3 OOF Inference:  35%|\u2588\u2588\u2588\u258c      | 25/71 [00:10<00:19,  2.34it/s]"
          ]
        },
        {
          "output_type": "stream",
          "name": "stderr",
          "text": [
            "\rFold 3 OOF Inference:  38%|\u2588\u2588\u2588\u258a      | 27/71 [00:10<00:13,  3.19it/s]"
          ]
        },
        {
          "output_type": "stream",
          "name": "stderr",
          "text": [
            "\rFold 3 OOF Inference:  39%|\u2588\u2588\u2588\u2589      | 28/71 [00:10<00:14,  3.03it/s]"
          ]
        },
        {
          "output_type": "stream",
          "name": "stderr",
          "text": [
            "\rFold 3 OOF Inference:  41%|\u2588\u2588\u2588\u2588      | 29/71 [00:11<00:18,  2.32it/s]"
          ]
        },
        {
          "output_type": "stream",
          "name": "stderr",
          "text": [
            "\rFold 3 OOF Inference:  44%|\u2588\u2588\u2588\u2588\u258e     | 31/71 [00:11<00:12,  3.14it/s]"
          ]
        },
        {
          "output_type": "stream",
          "name": "stderr",
          "text": [
            "\rFold 3 OOF Inference:  45%|\u2588\u2588\u2588\u2588\u258c     | 32/71 [00:11<00:11,  3.50it/s]"
          ]
        },
        {
          "output_type": "stream",
          "name": "stderr",
          "text": [
            "\rFold 3 OOF Inference:  46%|\u2588\u2588\u2588\u2588\u258b     | 33/71 [00:12<00:16,  2.34it/s]"
          ]
        },
        {
          "output_type": "stream",
          "name": "stderr",
          "text": [
            "\rFold 3 OOF Inference:  49%|\u2588\u2588\u2588\u2588\u2589     | 35/71 [00:13<00:12,  2.97it/s]"
          ]
        },
        {
          "output_type": "stream",
          "name": "stderr",
          "text": [
            "\rFold 3 OOF Inference:  52%|\u2588\u2588\u2588\u2588\u2588\u258f    | 37/71 [00:13<00:12,  2.83it/s]"
          ]
        },
        {
          "output_type": "stream",
          "name": "stderr",
          "text": [
            "\rFold 3 OOF Inference:  55%|\u2588\u2588\u2588\u2588\u2588\u258d    | 39/71 [00:14<00:10,  3.02it/s]"
          ]
        },
        {
          "output_type": "stream",
          "name": "stderr",
          "text": [
            "\rFold 3 OOF Inference:  56%|\u2588\u2588\u2588\u2588\u2588\u258b    | 40/71 [00:14<00:09,  3.30it/s]"
          ]
        },
        {
          "output_type": "stream",
          "name": "stderr",
          "text": [
            "\rFold 3 OOF Inference:  58%|\u2588\u2588\u2588\u2588\u2588\u258a    | 41/71 [00:15<00:09,  3.06it/s]"
          ]
        },
        {
          "output_type": "stream",
          "name": "stderr",
          "text": [
            "\rFold 3 OOF Inference:  61%|\u2588\u2588\u2588\u2588\u2588\u2588    | 43/71 [00:15<00:09,  2.93it/s]"
          ]
        },
        {
          "output_type": "stream",
          "name": "stderr",
          "text": [
            "\rFold 3 OOF Inference:  62%|\u2588\u2588\u2588\u2588\u2588\u2588\u258f   | 44/71 [00:16<00:07,  3.38it/s]"
          ]
        },
        {
          "output_type": "stream",
          "name": "stderr",
          "text": [
            "\rFold 3 OOF Inference:  63%|\u2588\u2588\u2588\u2588\u2588\u2588\u258e   | 45/71 [00:16<00:08,  3.25it/s]"
          ]
        },
        {
          "output_type": "stream",
          "name": "stderr",
          "text": [
            "\rFold 3 OOF Inference:  66%|\u2588\u2588\u2588\u2588\u2588\u2588\u258c   | 47/71 [00:17<00:08,  2.74it/s]"
          ]
        },
        {
          "output_type": "stream",
          "name": "stderr",
          "text": [
            "\rFold 3 OOF Inference:  68%|\u2588\u2588\u2588\u2588\u2588\u2588\u258a   | 48/71 [00:17<00:07,  2.90it/s]"
          ]
        },
        {
          "output_type": "stream",
          "name": "stderr",
          "text": [
            "\rFold 3 OOF Inference:  69%|\u2588\u2588\u2588\u2588\u2588\u2588\u2589   | 49/71 [00:17<00:07,  2.83it/s]"
          ]
        },
        {
          "output_type": "stream",
          "name": "stderr",
          "text": [
            "\rFold 3 OOF Inference:  72%|\u2588\u2588\u2588\u2588\u2588\u2588\u2588\u258f  | 51/71 [00:18<00:07,  2.74it/s]"
          ]
        },
        {
          "output_type": "stream",
          "name": "stderr",
          "text": [
            "\rFold 3 OOF Inference:  73%|\u2588\u2588\u2588\u2588\u2588\u2588\u2588\u258e  | 52/71 [00:19<00:07,  2.45it/s]"
          ]
        },
        {
          "output_type": "stream",
          "name": "stderr",
          "text": [
            "\rFold 3 OOF Inference:  75%|\u2588\u2588\u2588\u2588\u2588\u2588\u2588\u258d  | 53/71 [00:19<00:06,  2.92it/s]"
          ]
        },
        {
          "output_type": "stream",
          "name": "stderr",
          "text": [
            "\rFold 3 OOF Inference:  77%|\u2588\u2588\u2588\u2588\u2588\u2588\u2588\u258b  | 55/71 [00:19<00:04,  3.74it/s]"
          ]
        },
        {
          "output_type": "stream",
          "name": "stderr",
          "text": [
            "\rFold 3 OOF Inference:  79%|\u2588\u2588\u2588\u2588\u2588\u2588\u2588\u2589  | 56/71 [00:20<00:05,  2.65it/s]"
          ]
        },
        {
          "output_type": "stream",
          "name": "stderr",
          "text": [
            "\rFold 3 OOF Inference:  80%|\u2588\u2588\u2588\u2588\u2588\u2588\u2588\u2588  | 57/71 [00:20<00:04,  3.13it/s]"
          ]
        },
        {
          "output_type": "stream",
          "name": "stderr",
          "text": [
            "\rFold 3 OOF Inference:  83%|\u2588\u2588\u2588\u2588\u2588\u2588\u2588\u2588\u258e | 59/71 [00:21<00:03,  3.59it/s]"
          ]
        },
        {
          "output_type": "stream",
          "name": "stderr",
          "text": [
            "\rFold 3 OOF Inference:  85%|\u2588\u2588\u2588\u2588\u2588\u2588\u2588\u2588\u258d | 60/71 [00:22<00:04,  2.25it/s]"
          ]
        },
        {
          "output_type": "stream",
          "name": "stderr",
          "text": [
            "\rFold 3 OOF Inference:  86%|\u2588\u2588\u2588\u2588\u2588\u2588\u2588\u2588\u258c | 61/71 [00:22<00:03,  2.69it/s]"
          ]
        },
        {
          "output_type": "stream",
          "name": "stderr",
          "text": [
            "\rFold 3 OOF Inference:  89%|\u2588\u2588\u2588\u2588\u2588\u2588\u2588\u2588\u258a | 63/71 [00:22<00:01,  4.04it/s]"
          ]
        },
        {
          "output_type": "stream",
          "name": "stderr",
          "text": [
            "\rFold 3 OOF Inference:  90%|\u2588\u2588\u2588\u2588\u2588\u2588\u2588\u2588\u2588 | 64/71 [00:23<00:03,  2.04it/s]"
          ]
        },
        {
          "output_type": "stream",
          "name": "stderr",
          "text": [
            "\rFold 3 OOF Inference:  93%|\u2588\u2588\u2588\u2588\u2588\u2588\u2588\u2588\u2588\u258e| 66/71 [00:23<00:01,  3.10it/s]"
          ]
        },
        {
          "output_type": "stream",
          "name": "stderr",
          "text": [
            "\rFold 3 OOF Inference:  96%|\u2588\u2588\u2588\u2588\u2588\u2588\u2588\u2588\u2588\u258c| 68/71 [00:25<00:01,  2.32it/s]"
          ]
        },
        {
          "output_type": "stream",
          "name": "stderr",
          "text": [
            "\rFold 3 OOF Inference:  99%|\u2588\u2588\u2588\u2588\u2588\u2588\u2588\u2588\u2588\u258a| 70/71 [00:25<00:00,  3.25it/s]"
          ]
        },
        {
          "output_type": "stream",
          "name": "stderr",
          "text": [
            "\rFold 3 OOF Inference: 100%|\u2588\u2588\u2588\u2588\u2588\u2588\u2588\u2588\u2588\u2588| 71/71 [00:25<00:00,  2.81it/s]"
          ]
        },
        {
          "output_type": "stream",
          "name": "stderr",
          "text": [
            "\n"
          ]
        },
        {
          "output_type": "stream",
          "name": "stdout",
          "text": [
            "--- Generating OOF for Fold 4 ---\n"
          ]
        },
        {
          "output_type": "stream",
          "name": "stdout",
          "text": [
            "loading annotations into memory...\nDone (t=0.00s)\ncreating index...\nindex created!\n"
          ]
        },
        {
          "output_type": "stream",
          "name": "stderr",
          "text": [
            "\rFold 4 OOF Inference:   0%|          | 0/72 [00:00<?, ?it/s]"
          ]
        },
        {
          "output_type": "stream",
          "name": "stderr",
          "text": [
            "\rFold 4 OOF Inference:   1%|\u258f         | 1/72 [00:01<02:04,  1.76s/it]"
          ]
        },
        {
          "output_type": "stream",
          "name": "stderr",
          "text": [
            "\rFold 4 OOF Inference:   4%|\u258d         | 3/72 [00:01<00:34,  1.98it/s]"
          ]
        },
        {
          "output_type": "stream",
          "name": "stderr",
          "text": [
            "\rFold 4 OOF Inference:   7%|\u258b         | 5/72 [00:02<00:35,  1.89it/s]"
          ]
        },
        {
          "output_type": "stream",
          "name": "stderr",
          "text": [
            "\rFold 4 OOF Inference:   8%|\u258a         | 6/72 [00:03<00:34,  1.92it/s]"
          ]
        },
        {
          "output_type": "stream",
          "name": "stderr",
          "text": [
            "\rFold 4 OOF Inference:  11%|\u2588         | 8/72 [00:03<00:20,  3.09it/s]"
          ]
        },
        {
          "output_type": "stream",
          "name": "stderr",
          "text": [
            "\rFold 4 OOF Inference:  12%|\u2588\u258e        | 9/72 [00:04<00:29,  2.15it/s]"
          ]
        },
        {
          "output_type": "stream",
          "name": "stderr",
          "text": [
            "\rFold 4 OOF Inference:  14%|\u2588\u258d        | 10/72 [00:05<00:28,  2.16it/s]"
          ]
        },
        {
          "output_type": "stream",
          "name": "stderr",
          "text": [
            "\rFold 4 OOF Inference:  17%|\u2588\u258b        | 12/72 [00:05<00:17,  3.37it/s]"
          ]
        },
        {
          "output_type": "stream",
          "name": "stderr",
          "text": [
            "\rFold 4 OOF Inference:  18%|\u2588\u258a        | 13/72 [00:05<00:25,  2.34it/s]"
          ]
        },
        {
          "output_type": "stream",
          "name": "stderr",
          "text": [
            "\rFold 4 OOF Inference:  19%|\u2588\u2589        | 14/72 [00:06<00:26,  2.19it/s]"
          ]
        },
        {
          "output_type": "stream",
          "name": "stderr",
          "text": [
            "\rFold 4 OOF Inference:  22%|\u2588\u2588\u258f       | 16/72 [00:06<00:16,  3.39it/s]"
          ]
        },
        {
          "output_type": "stream",
          "name": "stderr",
          "text": [
            "\rFold 4 OOF Inference:  24%|\u2588\u2588\u258e       | 17/72 [00:07<00:23,  2.36it/s]"
          ]
        },
        {
          "output_type": "stream",
          "name": "stderr",
          "text": [
            "\rFold 4 OOF Inference:  25%|\u2588\u2588\u258c       | 18/72 [00:07<00:21,  2.54it/s]"
          ]
        },
        {
          "output_type": "stream",
          "name": "stderr",
          "text": [
            "\rFold 4 OOF Inference:  28%|\u2588\u2588\u258a       | 20/72 [00:07<00:13,  3.86it/s]"
          ]
        },
        {
          "output_type": "stream",
          "name": "stderr",
          "text": [
            "\rFold 4 OOF Inference:  29%|\u2588\u2588\u2589       | 21/72 [00:09<00:24,  2.07it/s]"
          ]
        },
        {
          "output_type": "stream",
          "name": "stderr",
          "text": [
            "\rFold 4 OOF Inference:  32%|\u2588\u2588\u2588\u258f      | 23/72 [00:09<00:15,  3.10it/s]"
          ]
        },
        {
          "output_type": "stream",
          "name": "stderr",
          "text": [
            "\rFold 4 OOF Inference:  35%|\u2588\u2588\u2588\u258d      | 25/72 [00:10<00:19,  2.46it/s]"
          ]
        },
        {
          "output_type": "stream",
          "name": "stderr",
          "text": [
            "\rFold 4 OOF Inference:  36%|\u2588\u2588\u2588\u258c      | 26/72 [00:10<00:17,  2.63it/s]"
          ]
        },
        {
          "output_type": "stream",
          "name": "stderr",
          "text": [
            "\rFold 4 OOF Inference:  39%|\u2588\u2588\u2588\u2589      | 28/72 [00:10<00:11,  3.78it/s]"
          ]
        },
        {
          "output_type": "stream",
          "name": "stderr",
          "text": [
            "\rFold 4 OOF Inference:  40%|\u2588\u2588\u2588\u2588      | 29/72 [00:11<00:16,  2.63it/s]"
          ]
        },
        {
          "output_type": "stream",
          "name": "stderr",
          "text": [
            "\rFold 4 OOF Inference:  42%|\u2588\u2588\u2588\u2588\u258f     | 30/72 [00:12<00:17,  2.43it/s]"
          ]
        },
        {
          "output_type": "stream",
          "name": "stderr",
          "text": [
            "\rFold 4 OOF Inference:  44%|\u2588\u2588\u2588\u2588\u258d     | 32/72 [00:12<00:10,  3.65it/s]"
          ]
        },
        {
          "output_type": "stream",
          "name": "stderr",
          "text": [
            "\rFold 4 OOF Inference:  46%|\u2588\u2588\u2588\u2588\u258c     | 33/72 [00:12<00:12,  3.04it/s]"
          ]
        },
        {
          "output_type": "stream",
          "name": "stderr",
          "text": [
            "\rFold 4 OOF Inference:  47%|\u2588\u2588\u2588\u2588\u258b     | 34/72 [00:13<00:14,  2.71it/s]"
          ]
        },
        {
          "output_type": "stream",
          "name": "stderr",
          "text": [
            "\rFold 4 OOF Inference:  50%|\u2588\u2588\u2588\u2588\u2588     | 36/72 [00:13<00:08,  4.07it/s]"
          ]
        },
        {
          "output_type": "stream",
          "name": "stderr",
          "text": [
            "\rFold 4 OOF Inference:  51%|\u2588\u2588\u2588\u2588\u2588\u258f    | 37/72 [00:14<00:11,  2.97it/s]"
          ]
        },
        {
          "output_type": "stream",
          "name": "stderr",
          "text": [
            "\rFold 4 OOF Inference:  53%|\u2588\u2588\u2588\u2588\u2588\u258e    | 38/72 [00:14<00:14,  2.35it/s]"
          ]
        },
        {
          "output_type": "stream",
          "name": "stderr",
          "text": [
            "\rFold 4 OOF Inference:  56%|\u2588\u2588\u2588\u2588\u2588\u258c    | 40/72 [00:14<00:08,  3.59it/s]"
          ]
        },
        {
          "output_type": "stream",
          "name": "stderr",
          "text": [
            "\rFold 4 OOF Inference:  57%|\u2588\u2588\u2588\u2588\u2588\u258b    | 41/72 [00:15<00:09,  3.12it/s]"
          ]
        },
        {
          "output_type": "stream",
          "name": "stderr",
          "text": [
            "\rFold 4 OOF Inference:  58%|\u2588\u2588\u2588\u2588\u2588\u258a    | 42/72 [00:16<00:13,  2.19it/s]"
          ]
        },
        {
          "output_type": "stream",
          "name": "stderr",
          "text": [
            "\rFold 4 OOF Inference:  61%|\u2588\u2588\u2588\u2588\u2588\u2588    | 44/72 [00:16<00:08,  3.38it/s]"
          ]
        },
        {
          "output_type": "stream",
          "name": "stderr",
          "text": [
            "\rFold 4 OOF Inference:  62%|\u2588\u2588\u2588\u2588\u2588\u2588\u258e   | 45/72 [00:16<00:07,  3.67it/s]"
          ]
        },
        {
          "output_type": "stream",
          "name": "stderr",
          "text": [
            "\rFold 4 OOF Inference:  64%|\u2588\u2588\u2588\u2588\u2588\u2588\u258d   | 46/72 [00:17<00:12,  2.13it/s]"
          ]
        },
        {
          "output_type": "stream",
          "name": "stderr",
          "text": [
            "\rFold 4 OOF Inference:  67%|\u2588\u2588\u2588\u2588\u2588\u2588\u258b   | 48/72 [00:17<00:07,  3.30it/s]"
          ]
        },
        {
          "output_type": "stream",
          "name": "stderr",
          "text": [
            "\rFold 4 OOF Inference:  68%|\u2588\u2588\u2588\u2588\u2588\u2588\u258a   | 49/72 [00:18<00:06,  3.50it/s]"
          ]
        },
        {
          "output_type": "stream",
          "name": "stderr",
          "text": [
            "\rFold 4 OOF Inference:  69%|\u2588\u2588\u2588\u2588\u2588\u2588\u2589   | 50/72 [00:19<00:11,  1.91it/s]"
          ]
        },
        {
          "output_type": "stream",
          "name": "stderr",
          "text": [
            "\rFold 4 OOF Inference:  72%|\u2588\u2588\u2588\u2588\u2588\u2588\u2588\u258f  | 52/72 [00:19<00:06,  2.99it/s]"
          ]
        },
        {
          "output_type": "stream",
          "name": "stderr",
          "text": [
            "\rFold 4 OOF Inference:  75%|\u2588\u2588\u2588\u2588\u2588\u2588\u2588\u258c  | 54/72 [00:20<00:08,  2.16it/s]"
          ]
        },
        {
          "output_type": "stream",
          "name": "stderr",
          "text": [
            "\rFold 4 OOF Inference:  78%|\u2588\u2588\u2588\u2588\u2588\u2588\u2588\u258a  | 56/72 [00:20<00:05,  3.07it/s]"
          ]
        },
        {
          "output_type": "stream",
          "name": "stderr",
          "text": [
            "\rFold 4 OOF Inference:  81%|\u2588\u2588\u2588\u2588\u2588\u2588\u2588\u2588  | 58/72 [00:22<00:05,  2.56it/s]"
          ]
        },
        {
          "output_type": "stream",
          "name": "stderr",
          "text": [
            "\rFold 4 OOF Inference:  83%|\u2588\u2588\u2588\u2588\u2588\u2588\u2588\u2588\u258e | 60/72 [00:22<00:03,  3.49it/s]"
          ]
        },
        {
          "output_type": "stream",
          "name": "stderr",
          "text": [
            "\rFold 4 OOF Inference:  85%|\u2588\u2588\u2588\u2588\u2588\u2588\u2588\u2588\u258d | 61/72 [00:22<00:03,  3.43it/s]"
          ]
        },
        {
          "output_type": "stream",
          "name": "stderr",
          "text": [
            "\rFold 4 OOF Inference:  86%|\u2588\u2588\u2588\u2588\u2588\u2588\u2588\u2588\u258c | 62/72 [00:23<00:04,  2.36it/s]"
          ]
        },
        {
          "output_type": "stream",
          "name": "stderr",
          "text": [
            "\rFold 4 OOF Inference:  89%|\u2588\u2588\u2588\u2588\u2588\u2588\u2588\u2588\u2589 | 64/72 [00:23<00:02,  3.46it/s]"
          ]
        },
        {
          "output_type": "stream",
          "name": "stderr",
          "text": [
            "\rFold 4 OOF Inference:  90%|\u2588\u2588\u2588\u2588\u2588\u2588\u2588\u2588\u2588 | 65/72 [00:23<00:01,  3.72it/s]"
          ]
        },
        {
          "output_type": "stream",
          "name": "stderr",
          "text": [
            "\rFold 4 OOF Inference:  92%|\u2588\u2588\u2588\u2588\u2588\u2588\u2588\u2588\u2588\u258f| 66/72 [00:24<00:02,  2.05it/s]"
          ]
        },
        {
          "output_type": "stream",
          "name": "stderr",
          "text": [
            "\rFold 4 OOF Inference:  94%|\u2588\u2588\u2588\u2588\u2588\u2588\u2588\u2588\u2588\u258d| 68/72 [00:25<00:01,  3.13it/s]"
          ]
        },
        {
          "output_type": "stream",
          "name": "stderr",
          "text": [
            "\rFold 4 OOF Inference:  97%|\u2588\u2588\u2588\u2588\u2588\u2588\u2588\u2588\u2588\u258b| 70/72 [00:26<00:00,  2.05it/s]"
          ]
        },
        {
          "output_type": "stream",
          "name": "stderr",
          "text": [
            "\rFold 4 OOF Inference: 100%|\u2588\u2588\u2588\u2588\u2588\u2588\u2588\u2588\u2588\u2588| 72/72 [00:26<00:00,  2.91it/s]"
          ]
        },
        {
          "output_type": "stream",
          "name": "stderr",
          "text": [
            "\rFold 4 OOF Inference: 100%|\u2588\u2588\u2588\u2588\u2588\u2588\u2588\u2588\u2588\u2588| 72/72 [00:26<00:00,  2.69it/s]"
          ]
        },
        {
          "output_type": "stream",
          "name": "stderr",
          "text": [
            "\n"
          ]
        },
        {
          "output_type": "stream",
          "name": "stdout",
          "text": [
            "Detector OOF predictions saved to 'oof_detector.pkl'\nGenerated OOF predictions for 5696 images.\n"
          ]
        }
      ]
    },
    {
      "id": "8a22e122-fafd-494b-a735-8ebdadf3fb5a",
      "cell_type": "code",
      "metadata": {},
      "source": [
        "# --- Code for Blended mAP Calculation ---\n",
        "\n",
        "# Install a library for mAP calculation\n",
        "!pip install -q map_boxes\n",
        "\n",
        "import pandas as pd\n",
        "import numpy as np\n",
        "import pickle\n",
        "from sklearn.metrics import average_precision_score\n",
        "from map_boxes import mean_average_precision_for_boxes\n",
        "\n",
        "def calculate_blended_map(df_merged, oof_cls_path, oof_det_path):\n",
        "    \"\"\"Calculates the blended mAP score from classifier and detector OOF files.\"\"\"\n",
        "    print(\"--- Calculating Blended mAP Score ---\")\n",
        "    \n",
        "    # --- 1. Calculate Study-level mAP (using per-class AP) ---\n",
        "    df_oof_cls = pd.read_csv(oof_cls_path)\n",
        "    df_oof_cls = df_oof_cls.merge(df_merged[['image_id', 'StudyInstanceUID']].drop_duplicates(), on='image_id')\n",
        "    \n",
        "    # Aggregate to study level\n",
        "    df_study_preds = df_oof_cls.groupby('StudyInstanceUID').agg({\n",
        "        'Negative for Pneumonia': 'min',\n",
        "        'Typical Appearance': 'max',\n",
        "        'Indeterminate Appearance': 'mean',\n",
        "        'Atypical Appearance': 'max'\n",
        "    }).reset_index()\n",
        "    \n",
        "    cols = ['Negative for Pneumonia','Typical Appearance','Indeterminate Appearance','Atypical Appearance']\n",
        "    df_study_preds[cols] = df_study_preds[cols].clip(0,1)\n",
        "    s = df_study_preds[cols].sum(axis=1).replace(0,1)\n",
        "    df_study_preds[cols] = df_study_preds[cols].div(s, axis=0)\n",
        "\n",
        "    # Get ground truth study labels\n",
        "    df_gt_study = df_merged[['StudyInstanceUID'] + cols].drop_duplicates()\n",
        "    # FIX: Add suffixes to prevent column name collision during merge\n",
        "    df_eval_study = df_study_preds.merge(df_gt_study, on='StudyInstanceUID', suffixes=('_pred', '_gt'))\n",
        "    \n",
        "    gt_cols = [c + '_gt' for c in cols]\n",
        "    pred_cols = [c + '_pred' for c in cols]\n",
        "    \n",
        "    gt = df_eval_study[gt_cols].values\n",
        "    pred = df_eval_study[pred_cols].values\n",
        "    \n",
        "    study_map = np.mean([average_precision_score(gt[:, i], pred[:, i]) for i in range(4)])\n",
        "    print(f\"Study-level mAP (AP): {study_map:.4f}\")\n",
        "    \n",
        "    # --- 2. Calculate Image-level mAP ---\n",
        "    with open(oof_det_path, 'rb') as f: oof_det = pickle.load(f)\n",
        "    \n",
        "    gt_boxes = []\n",
        "    pred_boxes = []\n",
        "    \n",
        "    # Get ground truth boxes\n",
        "    df_gt_image = df_merged[df_merged['boxes'].notna()].copy()\n",
        "    df_gt_image['boxes'] = df_gt_image['boxes'].apply(eval)\n",
        "    gt_map = {row.image_id: [[b['x'], b['y'], b['x']+b['width'], b['y']+b['height']] for b in row.boxes] for row in df_gt_image.itertuples()}\n",
        "    \n",
        "    for image_id in oof_det.keys():\n",
        "        # Ground truth: [image_id, class_id, x1, y1, x2, y2]\n",
        "        if image_id in gt_map:\n",
        "            for box in gt_map[image_id]:\n",
        "                gt_boxes.append([image_id, 0, box[0], box[1], box[2], box[3]])\n",
        "        \n",
        "        # Predictions: [image_id, class_id, confidence, x1, y1, x2, y2]\n",
        "        det_preds = oof_det[image_id]\n",
        "        for box, score in zip(det_preds['boxes'], det_preds['scores']):\n",
        "            pred_boxes.append([image_id, 0, score, box[0], box[1], box[2], box[3]])\n",
        "            \n",
        "    image_map, _ = mean_average_precision_for_boxes(np.array(gt_boxes), np.array(pred_boxes))\n",
        "    print(f\"Image-level mAP: {image_map:.4f}\")\n",
        "    \n",
        "    # --- 3. Blend Scores ---\n",
        "    blended_map = (study_map + image_map) / 2.0\n",
        "    print(f\"\\nBlended CV Score: {blended_map:.4f}\")\n",
        "    return blended_map\n",
        "\n",
        "print(\"Blended mAP calculation function defined.\")"
      ],
      "execution_count": 24,
      "outputs": [
        {
          "output_type": "stream",
          "name": "stdout",
          "text": [
            "\ud83d\udd27 Intercepting pip install command: pip install -q map_boxes\n"
          ]
        },
        {
          "output_type": "stream",
          "name": "stdout",
          "text": [
            "\u2705 Package installation completed and import cache refreshed.\nBlended mAP calculation function defined.\n"
          ]
        },
        {
          "output_type": "stream",
          "name": "stderr",
          "text": [
            "WARNING: Target directory /app/.pip-target/map_boxes-1.0.6.dist-info already exists. Specify --upgrade to force replacement.\nWARNING: Target directory /app/.pip-target/map_boxes already exists. Specify --upgrade to force replacement.\n\n"
          ]
        }
      ]
    },
    {
      "id": "ed002c43-aa3c-46bc-9adf-2f973426d029",
      "cell_type": "code",
      "metadata": {},
      "source": [
        "# --- Run Blended mAP Calculation ---\n",
        "blended_cv_score = calculate_blended_map(\n",
        "    df_merged=df_merged,\n",
        "    oof_cls_path='oof_classifier.csv',\n",
        "    oof_det_path='oof_detector.pkl'\n",
        ")"
      ],
      "execution_count": 25,
      "outputs": [
        {
          "output_type": "stream",
          "name": "stdout",
          "text": [
            "--- Calculating Blended mAP Score ---\nStudy-level mAP (AP): 0.3535\n"
          ]
        },
        {
          "output_type": "stream",
          "name": "stdout",
          "text": [
            "Number of files in annotations: 3879\nNumber of files in predictions: 5696\nUnique classes: 1\n"
          ]
        },
        {
          "output_type": "stream",
          "name": "stdout",
          "text": [
            "Detections length: 5696\nAnnotations length: 3879\n"
          ]
        },
        {
          "output_type": "stream",
          "name": "stdout",
          "text": [
            "0                              | 0.002562 |    7094\nmAP: 0.002562\nImage-level mAP: 0.0026\n\nBlended CV Score: 0.1780\n"
          ]
        }
      ]
    },
    {
      "id": "3e7df398-c3d1-41ae-94be-c42ac30cbc56",
      "cell_type": "code",
      "metadata": {},
      "source": [
        "# --- Sanity Check: Classifier OOF Diversity ---\n",
        "import pandas as pd\n",
        "import numpy as np\n",
        "\n",
        "print(\"--- Checking Classifier OOF Diversity ---\")\n",
        "try:\n",
        "    df_oof_cls = pd.read_csv('oof_classifier.csv')\n",
        "    \n",
        "    cols = ['Negative for Pneumonia', 'Typical Appearance', 'Indeterminate Appearance', 'Atypical Appearance']\n",
        "    \n",
        "    print(\"\\nPrediction Statistics (min/max/std):\")\n",
        "    print(df_oof_cls[cols].agg(['min', 'max', 'std']))\n",
        "    \n",
        "    print(\"\\nArgmax Distribution:\")\n",
        "    df_oof_cls['predicted_class'] = df_oof_cls[cols].idxmax(axis=1)\n",
        "    print(df_oof_cls['predicted_class'].value_counts(normalize=True))\n",
        "    \n",
        "except FileNotFoundError:\n",
        "    print(\"ERROR: oof_classifier.csv not found.\")\n",
        "except Exception as e:\n",
        "    print(f\"An error occurred: {e}\")"
      ],
      "execution_count": 26,
      "outputs": [
        {
          "output_type": "stream",
          "name": "stdout",
          "text": [
            "--- Checking Classifier OOF Diversity ---\n\nPrediction Statistics (min/max/std):\n     Negative for Pneumonia  Typical Appearance  Indeterminate Appearance  \\\nmin                0.000221            0.002174                  0.002174   \nmax                0.983000            0.997600                  0.751500   \nstd                0.173763            0.196393                  0.068788   \n\n     Atypical Appearance  \nmin             0.000124  \nmax             0.313200  \nstd             0.039931  \n\nArgmax Distribution:\npredicted_class\nTypical Appearance          0.780021\nNegative for Pneumonia      0.204881\nIndeterminate Appearance    0.015098\nName: proportion, dtype: float64\n"
          ]
        }
      ]
    },
    {
      "id": "f2c4b32e-37ae-40b8-821a-949f10d5a681",
      "cell_type": "code",
      "metadata": {},
      "source": [
        "# --- DEBUG: Read pycocotools source ---\n",
        "COCO_PY_PATH = '/app/.pip-target/pycocotools/coco.py'\n",
        "print(f\"--- Reading content of {COCO_PY_PATH} ---\")\n",
        "try:\n",
        "    with open(COCO_PY_PATH, 'r') as f:\n",
        "        content = f.read()\n",
        "    print(content)\n",
        "except FileNotFoundError:\n",
        "    print(f\"ERROR: File not found at {COCO_PY_PATH}\")\n",
        "print(\"--- End of file content ---\")"
      ],
      "execution_count": null,
      "outputs": []
    },
    {
      "id": "1a244bb1-5f48-42eb-8209-31053067b4e8",
      "cell_type": "code",
      "metadata": {},
      "source": [
        "# --- Patch pycocotools/coco.py to prevent KeyError ---\n",
        "\n",
        "COCO_PY_PATH = '/app/.pip-target/pycocotools/coco.py'\n",
        "print(f\"Attempting to patch {COCO_PY_PATH}...\")\n",
        "\n",
        "try:\n",
        "    with open(COCO_PY_PATH, 'r') as f:\n",
        "        original_content = f.read()\n",
        "\n",
        "    # This is the line that causes the error according to the traceback.\n",
        "    line_to_replace = \"res.dataset['info'] = copy.deepcopy(self.dataset['info'])\"\n",
        "    \n",
        "    # We will find the line and wrap it in a try-except block to handle the error gracefully.\n",
        "    lines = original_content.split('\\n')\n",
        "    found_and_patched = False\n",
        "    for i, line in enumerate(lines):\n",
        "        if line.strip() == line_to_replace:\n",
        "            indentation = line[:line.find(line.strip())]\n",
        "            # Wrap the original line in a try-except block, preserving indentation\n",
        "            patched_block = (\n",
        "                f\"{indentation}try:\\n\" +\n",
        "                f\"{indentation}    {line.strip()}\\n\" +\n",
        "                f\"{indentation}except KeyError:\\n\" +\n",
        "                f\"{indentation}    pass\"\n",
        "            )\n",
        "            lines[i] = patched_block\n",
        "            found_and_patched = True\n",
        "            break\n",
        "            \n",
        "    if found_and_patched:\n",
        "        patched_content = '\\n'.join(lines)\n",
        "        with open(COCO_PY_PATH, 'w') as f:\n",
        "            f.write(patched_content)\n",
        "        print(f\"SUCCESS: Patched {COCO_PY_PATH} by wrapping the problematic line in a try-except block.\")\n",
        "    else:\n",
        "        print(f\"!!! ERROR: Could not find the line '{line_to_replace}' to patch.\")\n",
        "\n",
        "except Exception as e:\n",
        "    print(f\"An error occurred during patching: {e}\")"
      ],
      "execution_count": null,
      "outputs": []
    },
    {
      "id": "825590c0-0bd1-4746-8f88-36262d769e49",
      "cell_type": "code",
      "metadata": {},
      "source": [
        "# --- Force Clean YOLOX Directories ---\n",
        "import os\n",
        "\n",
        "print(\"Forcefully removing 'yolox_data' and 'yolox_outputs' directories...\")\n",
        "!rm -rf yolox_data\n",
        "!rm -rf yolox_outputs\n",
        "print(\"Cleanup complete. The next cells will regenerate these directories from scratch.\")"
      ],
      "execution_count": null,
      "outputs": []
    },
    {
      "id": "0b793c51-feb1-4806-b380-a649660918e4",
      "cell_type": "code",
      "metadata": {},
      "source": [
        "# --- Kernel Sanity Check ---\n",
        "print('Hello from Cell 23!')"
      ],
      "execution_count": null,
      "outputs": []
    }
  ],
  "metadata": {
    "kernelspec": {
      "display_name": "Python 3",
      "language": "python",
      "name": "python3"
    },
    "language_info": {
      "name": "python",
      "version": "3.11.0rc1"
    }
  },
  "nbformat": 4,
  "nbformat_minor": 5
}