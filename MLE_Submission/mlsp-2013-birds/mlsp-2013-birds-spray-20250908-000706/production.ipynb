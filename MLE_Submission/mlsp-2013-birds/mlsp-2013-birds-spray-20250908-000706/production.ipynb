{
  "cells": [
    {
      "id": "14da9235-c111-4743-ab70-692f6f199991",
      "cell_type": "markdown",
      "metadata": {},
      "source": [
        "# MLSP 2013 Birds \u2013 Production Notebook\n",
        "\n",
        "Goal: Build a strong, clean, reproducible pipeline to reach \u22650.87 AUC (bronze+) using fast tabular features and robust CV.\n",
        "\n",
        "Plan:\n",
        "- Data: parse folds, rec->filename, labels (from rec_labels_test_hidden.txt, with all-negative allowed).\n",
        "- Features:\n",
        "  - Aggregate supplemental_data/segment_features.txt + segment_rectangles.txt per rec_id.\n",
        "  - Fast aggregations only: mean, std, min, max, median, count.\n",
        "  - Engineer: duration, freq_span, area, coverage_ratio (time), segment_density, freq coverage.\n",
        "  - Per-fold station priors.\n",
        "  - Per-fold SVD (n_components=16-24) on L1-normalized histogram_of_segments.txt.\n",
        "- Validation: GroupKFold(n_splits=3) by station.\n",
        "- Model: LightGBM (learning_rate 0.02, num_leaves 31, n_estimators 3000, early_stopping 120).\n",
        "- Seed averaging: 3 seeds; save strict ID orders and OOF/test preds.\n",
        "- Next: add XGBoost and LR models on same features + simple meta-learner blend."
      ],
      "execution_count": null,
      "outputs": []
    },
    {
      "id": "71a95470-e13a-45db-b184-23972123ffa4",
      "cell_type": "code",
      "metadata": {},
      "source": [
        "# Setup, data parsing, and helpers (strict ID alignment ready)\n",
        "import os, sys, time, glob, re, math, json, gc\n",
        "from pathlib import Path\n",
        "import numpy as np\n",
        "import pandas as pd\n",
        "from sklearn.model_selection import GroupKFold\n",
        "from sklearn.metrics import roc_auc_score\n",
        "from sklearn.decomposition import TruncatedSVD\n",
        "\n",
        "t0 = time.time()\n",
        "BASE = Path.cwd()\n",
        "print('CWD:', BASE)\n",
        "\n",
        "# 1) Load core metadata\n",
        "sp_path = BASE/'essential_data'/'species_list.txt'\n",
        "cv_path = BASE/'essential_data'/'CVfolds_2.txt'\n",
        "map_path = BASE/'essential_data'/'rec_id2filename.txt'\n",
        "lab_path = BASE/'essential_data'/'rec_labels_test_hidden.txt'\n",
        "hos_path = BASE/'supplemental_data'/'histogram_of_segments.txt'\n",
        "segf_path = BASE/'supplemental_data'/'segment_features.txt'\n",
        "segr_path = BASE/'supplemental_data'/'segment_rectangles.txt'\n",
        "\n",
        "sp_df = pd.read_csv(sp_path)\n",
        "num_classes = int(sp_df.shape[0])\n",
        "cv_df = pd.read_csv(cv_path)\n",
        "rec_map = pd.read_csv(map_path)\n",
        "# Robust station parsing via regex\n",
        "rec_map['station'] = rec_map['filename'].astype(str).str.extract(r'^([A-Z0-9]+)_', expand=False).fillna('UNK')\n",
        "\n",
        "# Extract temporal metadata from filename: YYYYMMDD_HHMMSS\n",
        "def parse_time_parts(fn: str):\n",
        "    m = re.search(r'_(\\d{8})_(\\d{6})_', fn)\n",
        "    if not m:\n",
        "        return np.int16(-1), np.int16(-1), np.int16(-1)\n",
        "    ymd, hms = m.group(1), m.group(2)\n",
        "    try:\n",
        "        month = int(ymd[4:6])\n",
        "        hour = int(hms[0:2])\n",
        "        # hour bins: dawn(4-7)=0, day(8-16)=1, dusk(17-20)=2, night(21-3)=3\n",
        "        if 4 <= hour <= 7: hb = 0\n",
        "        elif 8 <= hour <= 16: hb = 1\n",
        "        elif 17 <= hour <= 20: hb = 2\n",
        "        else: hb = 3\n",
        "        return np.int16(month), np.int16(hour), np.int16(hb)\n",
        "    except:\n",
        "        return np.int16(-1), np.int16(-1), np.int16(-1)\n",
        "\n",
        "rec_map[['month','hour','hour_bin']] = rec_map['filename'].astype(str).apply(lambda s: pd.Series(parse_time_parts(s)))\n",
        "\n",
        "meta = cv_df.merge(rec_map, on='rec_id', how='left')\n",
        "print('Species:', num_classes, '| meta shape:', meta.shape)\n",
        "\n",
        "# 2) Parse labels with all-negative allowed; process lines and skip only '?' tokens\n",
        "label_rows = []\n",
        "with open(lab_path, 'r') as f:\n",
        "    _ = next(f, None)\n",
        "    for line in f:\n",
        "        s = line.strip()\n",
        "        if not s: continue\n",
        "        parts = [p for p in s.split(',')]\n",
        "        try:\n",
        "            rid = int(parts[0])\n",
        "        except:\n",
        "            continue\n",
        "        y = np.zeros(num_classes, dtype=np.int8)\n",
        "        # tokens after rec_id can be class ids, '?' or blanks\n",
        "        for p in parts[1:]:\n",
        "            p = p.strip()\n",
        "            if p == '' or p == '?':\n",
        "                continue\n",
        "            try:\n",
        "                cid = int(p)\n",
        "            except:\n",
        "                continue\n",
        "            if 0 <= cid < num_classes:\n",
        "                y[cid] = 1\n",
        "        label_rows.append((rid, y))\n",
        "label_map = {rid:y for rid, y in label_rows}\n",
        "print('Labeled rec_ids:', len(label_map))\n",
        "\n",
        "# 3) Robust parse for histogram_of_segments with RAW counts preserved\n",
        "hist_rows = []\n",
        "with open(hos_path, 'r') as f:\n",
        "    _ = next(f, None)\n",
        "    for line in f:\n",
        "        s = line.strip()\n",
        "        if not s: continue\n",
        "        parts = [p for p in s.split(',') if p!='']\n",
        "        try:\n",
        "            rid = int(parts[0])\n",
        "        except:\n",
        "            continue\n",
        "        vals = []\n",
        "        for v in parts[1:]:\n",
        "            try: vals.append(float(v))   # RAW counts\n",
        "            except: vals.append(0.0)\n",
        "        hist_rows.append((rid, vals))\n",
        "max_len_h = max((len(v) for _, v in hist_rows), default=0)\n",
        "Hc = np.zeros((len(hist_rows), max_len_h), dtype=np.float32)  # RAW counts\n",
        "R = np.zeros((len(hist_rows),), dtype=int)\n",
        "for i, (rid, vals) in enumerate(hist_rows):\n",
        "    R[i] = rid\n",
        "    L = min(max_len_h, len(vals))\n",
        "    if L: Hc[i, :L] = np.asarray(vals[:L], np.float32)\n",
        "\n",
        "hist_df_counts = pd.DataFrame(Hc)\n",
        "hist_df_counts.insert(0, 'rec_id', R)\n",
        "# De-duplicate by rec_id using mean aggregation\n",
        "dup_count = int(hist_df_counts.duplicated('rec_id').sum())\n",
        "if dup_count > 0:\n",
        "    print('Histogram duplicate rec_ids:', dup_count, '-> aggregating by mean')\n",
        "hist_df_counts = hist_df_counts.groupby('rec_id', as_index=False).mean()\n",
        "print('Histogram (counts) matrix (deduped):', hist_df_counts.shape)\n",
        "\n",
        "# Build L1-normalized histogram from counts\n",
        "H_counts = hist_df_counts.iloc[:, 1:].to_numpy(np.float32)\n",
        "row_sums = H_counts.sum(axis=1, keepdims=True)\n",
        "row_sums[row_sums == 0] = 1.0\n",
        "H_l1_all = H_counts / row_sums\n",
        "\n",
        "# 4) Parse segment features and rectangles (fast)\n",
        "seg_records = []\n",
        "with open(segf_path, 'r') as f:\n",
        "    _ = next(f, None)\n",
        "    for line in f:\n",
        "        s = line.strip()\n",
        "        if not s: continue\n",
        "        parts = [p for p in s.split(',') if p!='']\n",
        "        if len(parts) < 3: continue\n",
        "        try:\n",
        "            rid = int(parts[0]); seg = int(parts[1])\n",
        "        except:\n",
        "            continue\n",
        "        vals = []\n",
        "        for v in parts[2:]:\n",
        "            try: vals.append(float(v))\n",
        "            except: vals.append(0.0)\n",
        "        seg_records.append((rid, seg, vals))\n",
        "max_len_sf = max((len(v) for _,_,v in seg_records), default=0)\n",
        "sf_cols = [f'sf_{i}' for i in range(max_len_sf)]\n",
        "sf_df = (pd.DataFrame([([rid, seg] + v + [0.0]*(max_len_sf - len(v)))\n",
        "                        for rid, seg, v in seg_records],\n",
        "                       columns=['rec_id','seg_idx']+sf_cols) if seg_records else\n",
        "         pd.DataFrame(columns=['rec_id','seg_idx']+sf_cols))\n",
        "print('segment_features:', sf_df.shape)\n",
        "\n",
        "rect_rows = []\n",
        "with open(segr_path, 'r') as f:\n",
        "    _ = next(f, None)\n",
        "    for line in f:\n",
        "        s = line.strip().strip(',')\n",
        "        if not s: continue\n",
        "        parts = [p for p in s.split(',') if p!='']\n",
        "        if len(parts) < 6: continue\n",
        "        try:\n",
        "            rid = int(parts[0]); seg = int(parts[1])\n",
        "            t0r = float(parts[2]); t1r = float(parts[3]); f0r = float(parts[4]); f1r = float(parts[5])\n",
        "        except:\n",
        "            continue\n",
        "        rect_rows.append((rid, seg, t0r, t1r, f0r, f1r))\n",
        "rect_df = pd.DataFrame(rect_rows, columns=['rec_id','seg_idx','t_start','t_end','f_start','f_end'])\n",
        "if not rect_df.empty:\n",
        "    rect_df['duration'] = rect_df['t_end'] - rect_df['t_start']\n",
        "    rect_df['freq_span'] = rect_df['f_end'] - rect_df['f_start']\n",
        "    rect_df['area_tf'] = rect_df['duration'] * rect_df['freq_span']\n",
        "print('segment_rectangles:', rect_df.shape)\n",
        "\n",
        "# 5) Merge per-segment and fast aggregate\n",
        "seg_full = (sf_df.merge(rect_df, on=['rec_id','seg_idx'], how='left') if not rect_df.empty else sf_df.copy())\n",
        "seg_full['segment_count'] = 1\n",
        "num_cols = [c for c in seg_full.columns if c not in ['rec_id','seg_idx']]\n",
        "agg_funcs = ['mean','std','min','max','median']\n",
        "agg_dict = {c: agg_funcs for c in num_cols}\n",
        "gb = seg_full.groupby('rec_id').agg(agg_dict) if not seg_full.empty else pd.DataFrame()\n",
        "if not gb.empty:\n",
        "    gb.columns = [f\"{a}_{b}\" for a,b in gb.columns.to_flat_index()]\n",
        "    gb = gb.reset_index()\n",
        "    # segment_count_total keeps total count; fill only this with 0 later\n",
        "    gb['segment_count_total'] = seg_full.groupby('rec_id')['segment_count'].sum().values\n",
        "else:\n",
        "    gb = pd.DataFrame({'rec_id': meta['rec_id'].unique()})\n",
        "\n",
        "# 6) Build base feature frame (no global fillna!), add engineered features\n",
        "feat_df = meta.merge(gb, on='rec_id', how='left')\n",
        "\n",
        "# has_segments flag and selective filling\n",
        "feat_df['has_segments'] = (~feat_df['segment_count_total'].isna()).astype(np.int8)\n",
        "feat_df['segment_count_total'] = feat_df['segment_count_total'].fillna(0.0)\n",
        "\n",
        "# Engineered record-level features (10s clips); NaN-safe operations\n",
        "def safe_mul(a, b):\n",
        "    return a*b\n",
        "dur_mean_col = 'duration_mean'\n",
        "freq_span_mean_col = 'freq_span_mean'\n",
        "area_mean_col = 'area_tf_mean'\n",
        "f_end_max_col = 'f_end_max'\n",
        "f_start_min_col = 'f_start_min'\n",
        "\n",
        "if dur_mean_col in feat_df.columns:\n",
        "    feat_df['coverage_ratio'] = (feat_df['segment_count_total'] * feat_df[dur_mean_col]) / 10.0\n",
        "    feat_df['log1p_duration_mean'] = np.log1p(feat_df[dur_mean_col])\n",
        "else:\n",
        "    feat_df['coverage_ratio'] = np.nan\n",
        "    feat_df['log1p_duration_mean'] = np.nan\n",
        "\n",
        "feat_df['segment_density'] = feat_df['segment_count_total'] / 10.0\n",
        "\n",
        "if area_mean_col in feat_df.columns:\n",
        "    feat_df['log1p_area_tf_mean'] = np.log1p(feat_df[area_mean_col])\n",
        "else:\n",
        "    feat_df['log1p_area_tf_mean'] = np.nan\n",
        "\n",
        "feat_df['log1p_segment_count_total'] = np.log1p(feat_df['segment_count_total'])\n",
        "\n",
        "if (freq_span_mean_col in feat_df.columns) and (dur_mean_col in feat_df.columns):\n",
        "    feat_df['dur_x_freqspan'] = safe_mul(feat_df[dur_mean_col], feat_df[freq_span_mean_col])\n",
        "else:\n",
        "    feat_df['dur_x_freqspan'] = np.nan\n",
        "\n",
        "if (f_end_max_col in feat_df.columns) and (f_start_min_col in feat_df.columns):\n",
        "    feat_df['freq_coverage'] = (feat_df[f_end_max_col] - feat_df[f_start_min_col]) / 8000.0\n",
        "else:\n",
        "    feat_df['freq_coverage'] = np.nan\n",
        "\n",
        "# Curated rectangle/meta features list\n",
        "curated_cols = [\n",
        "    'segment_count_total', 'coverage_ratio', 'duration_mean', 'area_tf_mean', 'freq_span_mean', 'freq_coverage',\n",
        "    'log1p_duration_mean', 'log1p_area_tf_mean', 'log1p_segment_count_total',\n",
        "    'month', 'hour', 'hour_bin'\n",
        "]\n",
        "for c in curated_cols:\n",
        "    if c not in feat_df.columns:\n",
        "        feat_df[c] = np.nan\n",
        "\n",
        "# Split masks\n",
        "known_mask = feat_df['rec_id'].isin(label_map.keys())\n",
        "train_mask = (feat_df['fold']==0) & known_mask\n",
        "test_mask = (feat_df['fold']==1)\n",
        "\n",
        "# Save ID orders for strict alignment downstream\n",
        "rec_train = feat_df.loc[train_mask, 'rec_id'].values.astype(int)\n",
        "rec_test = feat_df.loc[test_mask, 'rec_id'].values.astype(int)\n",
        "np.save('prod_train_ids.npy', rec_train)\n",
        "np.save('prod_test_ids.npy', rec_test)\n",
        "\n",
        "# Feature columns (exclude meta)\n",
        "exclude_cols = set(['rec_id','fold','filename','station'])\n",
        "feat_cols = [c for c in feat_df.columns if c not in exclude_cols]\n",
        "\n",
        "# Prepare arrays\n",
        "X_base = feat_df.loc[train_mask, feat_cols].to_numpy(np.float32)\n",
        "Y_train = np.vstack([label_map[int(r)] for r in rec_train]).astype(np.int8)\n",
        "X_test_base = feat_df.loc[test_mask, feat_cols].to_numpy(np.float32)\n",
        "groups = feat_df.loc[train_mask, 'station'].astype(str).values\n",
        "stations_test = feat_df.loc[test_mask, 'station'].astype(str).values\n",
        "\n",
        "# Map rec_id -> histogram row (post-dedup COUNT matrix) with assertions\n",
        "rid_to_hrow = {int(r): i for i, r in enumerate(hist_df_counts['rec_id'].values)}\n",
        "missing_train = [int(r) for r in rec_train if int(r) not in rid_to_hrow]\n",
        "missing_test = [int(r) for r in rec_test if int(r) not in rid_to_hrow]\n",
        "assert len(missing_train) == 0, f'Missing histogram rows for train rec_ids: {missing_train[:10]} (+{len(missing_train)-10 if len(missing_train)>10 else 0})'\n",
        "assert len(missing_test) == 0, f'Missing histogram rows for test rec_ids: {missing_test[:10]} (+{len(missing_test)-10 if len(missing_test)>10 else 0})'\n",
        "Hc_train = np.vstack([hist_df_counts.iloc[rid_to_hrow[int(r)]].values[1:] for r in rec_train]).astype(np.float32)\n",
        "Hc_test = np.vstack([hist_df_counts.iloc[rid_to_hrow[int(r)]].values[1:] for r in rec_test]).astype(np.float32)\n",
        "\n",
        "# Helper: L1 normalize\n",
        "def l1_norm(X):\n",
        "    s = X.sum(axis=1, keepdims=True)\n",
        "    s[s==0] = 1.0\n",
        "    return X / s\n",
        "\n",
        "# Helper: Gaussian smoothing with sigma~1.5 across bins\n",
        "def gaussian_kernel1d(sigma=1.5, radius=None):\n",
        "    if radius is None:\n",
        "        radius = int(max(1, round(3*sigma)))\n",
        "    x = np.arange(-radius, radius+1, dtype=np.float32)\n",
        "    k = np.exp(-(x**2)/(2*(sigma**2)))\n",
        "    k /= k.sum() if k.sum()!=0 else 1.0\n",
        "    return k\n",
        "\n",
        "def smooth_rows(X, sigma=1.5):\n",
        "    k = gaussian_kernel1d(sigma=sigma)\n",
        "    rad = (len(k)-1)//2\n",
        "    # pad reflect at edges and convolve per row\n",
        "    Xp = np.pad(X, ((0,0),(rad,rad)), mode='reflect')\n",
        "    out = np.empty_like(X)\n",
        "    for i in range(X.shape[0]):\n",
        "        out[i] = np.convolve(Xp[i], k, mode='valid')\n",
        "    return out\n",
        "\n",
        "# 7) Histogram variants\n",
        "# H1: L1-normalized counts\n",
        "H1_train = l1_norm(Hc_train)\n",
        "H1_test = l1_norm(Hc_test)\n",
        "# Smoothing\n",
        "H1s_train = smooth_rows(H1_train, sigma=1.5)\n",
        "H1s_test = smooth_rows(H1_test, sigma=1.5)\n",
        "# Drop first and last bins\n",
        "H1sd_train = H1s_train[:, 1:-1].astype(np.float32)\n",
        "H1sd_test = H1s_test[:, 1:-1].astype(np.float32)\n",
        "# IDF weighting\n",
        "df_bins = (Hc_train > 0).sum(axis=0).astype(np.float32)  # on train only\n",
        "N_docs = float(Hc_train.shape[0]) if Hc_train.shape[0]>0 else 1.0\n",
        "idf = np.log((N_docs + 1.0) / (df_bins + 1.0)).astype(np.float32)\n",
        "idf = idf[1:-1]  # align with dropped edges\n",
        "H_idf_train = H1sd_train * idf[None, :]\n",
        "H_idf_test = H1sd_test * idf[None, :]  # use train-based idf for test\n",
        "H_idf_train = l1_norm(H_idf_train).astype(np.float32)\n",
        "H_idf_test = l1_norm(H_idf_test).astype(np.float32)\n",
        "\n",
        "# H_tree: sqrt(raw_counts) then row-normalize (for trees); drop edges too\n",
        "Hsq_train = np.sqrt(np.clip(Hc_train, 0.0, None))\n",
        "Hsq_test = np.sqrt(np.clip(Hc_test, 0.0, None))\n",
        "H_tree_train = l1_norm(Hsq_train)[:, 1:-1].astype(np.float32)\n",
        "H_tree_test = l1_norm(Hsq_test)[:, 1:-1].astype(np.float32)\n",
        "\n",
        "# Keep previous raw/hellinger arrays for backward compatibility\n",
        "H_train = H1_train.astype(np.float32)    # previous RAW L1 version\n",
        "H_test = H1_test.astype(np.float32)\n",
        "H_train_h = np.sqrt(np.clip(H_train, 0.0, None)).astype(np.float32)\n",
        "H_test_h = np.sqrt(np.clip(H_test, 0.0, None)).astype(np.float32)\n",
        "\n",
        "# Curated features arrays (with simple imputation & clipping)\n",
        "cur_df_tr = feat_df.loc[train_mask, curated_cols].copy()\n",
        "cur_df_te = feat_df.loc[test_mask, curated_cols].copy()\n",
        "for c in curated_cols:\n",
        "    if cur_df_tr[c].dtype.kind in 'biu':\n",
        "        cur_df_tr[c] = cur_df_tr[c].fillna(-1)\n",
        "        cur_df_te[c] = cur_df_te[c].fillna(-1)\n",
        "    else:\n",
        "        med = cur_df_tr[c].median() if np.isfinite(cur_df_tr[c].median()) else 0.0\n",
        "        cur_df_tr[c] = cur_df_tr[c].fillna(med)\n",
        "        cur_df_te[c] = cur_df_te[c].fillna(med)\n",
        "        q99 = np.nanpercentile(cur_df_tr[c].values, 99) if cur_df_tr.shape[0]>0 else None\n",
        "        if q99 is not None and np.isfinite(q99):\n",
        "            cur_df_tr[c] = np.clip(cur_df_tr[c].values, None, q99)\n",
        "            cur_df_te[c] = np.clip(cur_df_te[c].values, None, q99)\n",
        "C_train = cur_df_tr.to_numpy(np.float32)\n",
        "C_test = cur_df_te.to_numpy(np.float32)\n",
        "\n",
        "print('X_base:', X_base.shape, '| Y:', Y_train.shape, '| X_test_base:', X_test_base.shape)\n",
        "print('H1 L1:', H_train.shape, '| H_idf:', H_idf_train.shape, '| H_tree:', H_tree_train.shape, '| Curated:', C_train.shape)\n",
        "print('Elapsed setup: %.2fs' % (time.time()-t0))\n",
        "\n",
        "# Helper: compute macro AUC ignoring degenerate classes\n",
        "def macro_auc_ignoring_degenerate(y_true, y_pred):\n",
        "    aucs = []\n",
        "    for c in range(y_true.shape[1]):\n",
        "        y = y_true[:, c]\n",
        "        p = y_pred[:, c]\n",
        "        if y.sum()==0 or y.sum()==y.shape[0]:\n",
        "            continue\n",
        "        try:\n",
        "            aucs.append(roc_auc_score(y, p))\n",
        "        except:\n",
        "            pass\n",
        "    return float(np.mean(aucs)) if aucs else float('nan')"
      ],
      "execution_count": 45,
      "outputs": [
        {
          "output_type": "stream",
          "name": "stdout",
          "text": [
            "CWD: /app/agent_run_states/mlsp-2013-birds-spray-20250908-000706\nSpecies: 19 | meta shape: (322, 7)\nLabeled rec_ids: 322\nHistogram (counts) matrix (deduped): (322, 101)\nsegment_features: (1119, 40)\nsegment_rectangles: (1119, 9)\n"
          ]
        },
        {
          "output_type": "stream",
          "name": "stdout",
          "text": [
            "X_base: (258, 242) | Y: (258, 19) | X_test_base: (64, 242)\nH1 L1: (258, 100) | H_idf: (258, 98) | H_tree: (258, 98) | Curated: (258, 12)\nElapsed setup: 0.27s\n"
          ]
        }
      ]
    },
    {
      "id": "d418a75d-6282-4b9b-bb3f-02b0cb8c056c",
      "cell_type": "code",
      "metadata": {},
      "source": [
        "# Strong single model: LGBM with GroupKFold(n_splits=3), per-fold station priors + SVD on hist, 3-seed averaging\n",
        "import sys, subprocess, time\n",
        "try:\n",
        "    import lightgbm as lgb\n",
        "    from lightgbm import LGBMClassifier\n",
        "except Exception:\n",
        "    subprocess.check_call([sys.executable, '-m', 'pip', 'install', '-q', 'lightgbm'])\n",
        "    import lightgbm as lgb\n",
        "    from lightgbm import LGBMClassifier\n",
        "\n",
        "from sklearn.model_selection import GroupKFold\n",
        "from sklearn.decomposition import TruncatedSVD\n",
        "\n",
        "print('Starting LGBM training... lgb version:', getattr(lgb, '__version__', 'unknown'))\n",
        "\n",
        "# Base matrices\n",
        "X_base_df = pd.DataFrame(X_base, columns=feat_cols)\n",
        "X_test_df = pd.DataFrame(X_test_base, columns=feat_cols)\n",
        "X_base_mat = X_base_df.to_numpy(np.float32)\n",
        "X_test_mat = X_test_df.to_numpy(np.float32)\n",
        "\n",
        "gkf = GroupKFold(n_splits=3)\n",
        "n_train = X_base_df.shape[0]\n",
        "n_test = X_test_df.shape[0]\n",
        "\n",
        "def run_seed(seed):\n",
        "    oof = np.zeros((n_train, num_classes), dtype=np.float32)\n",
        "    te = np.zeros((n_test, num_classes), dtype=np.float32)\n",
        "    for c in range(num_classes):\n",
        "        y = Y_train[:, c].astype(int)\n",
        "        cls_oof = np.zeros(n_train, dtype=np.float32)\n",
        "        cls_te_acc = np.zeros(n_test, dtype=np.float32)\n",
        "        fold_no = 0\n",
        "        for tr_idx, va_idx in gkf.split(X_base_df, y, groups):\n",
        "            fold_no += 1\n",
        "            tstart = time.time()\n",
        "            Xb_tr = X_base_mat[tr_idx]; Xb_va = X_base_mat[va_idx]\n",
        "            y_tr = y[tr_idx]; y_va = y[va_idx]\n",
        "            # Station prior within fold with Bayesian smoothing\n",
        "            st_tr = groups[tr_idx]; st_va = groups[va_idx]\n",
        "            alpha = 5.0\n",
        "            global_mean = float(y_tr.mean()) if y_tr.size>0 else 0.0\n",
        "            st_prior = {}\n",
        "            for s in np.unique(st_tr):\n",
        "                mask = (st_tr == s)\n",
        "                cnt = int(mask.sum())\n",
        "                sm = float(y_tr[mask].sum()) if cnt>0 else 0.0\n",
        "                st_prior[s] = (sm + alpha*global_mean) / (cnt + alpha)\n",
        "            st_tr_feat = np.array([st_prior.get(s, global_mean) for s in st_tr], dtype=np.float32)[:, None]\n",
        "            st_va_feat = np.array([st_prior.get(s, global_mean) for s in st_va], dtype=np.float32)[:, None]\n",
        "            st_te_feat = np.array([st_prior.get(s, global_mean) for s in stations_test], dtype=np.float32)[:, None]\n",
        "            # Histogram features\n",
        "            H_tr = H_train[tr_idx]; H_va = H_train[va_idx]\n",
        "            # Per-fold SVD on histogram features (reduced components)\n",
        "            n_comp = 0\n",
        "            if H_tr.size > 0:\n",
        "                n_comp = int(min(16, max(2, min(H_tr.shape[1], max(2, H_tr.shape[0]-1)))))\n",
        "            if n_comp >= 2:\n",
        "                svd = TruncatedSVD(n_components=n_comp, random_state=seed)\n",
        "                svd.fit(H_tr)\n",
        "                Z_tr = svd.transform(H_tr).astype(np.float32)\n",
        "                Z_va = svd.transform(H_va).astype(np.float32)\n",
        "                Z_te = svd.transform(H_test).astype(np.float32)\n",
        "            else:\n",
        "                Z_tr = None; Z_va = None; Z_te = None\n",
        "            # Build fold-wise matrices (base + st_prior + SVD)  [drop raw histogram to reduce sparsity]\n",
        "            parts_tr = [Xb_tr, st_tr_feat]\n",
        "            parts_va = [Xb_va, st_va_feat]\n",
        "            parts_te = [X_test_mat, st_te_feat]\n",
        "            if Z_tr is not None:\n",
        "                parts_tr.append(Z_tr); parts_va.append(Z_va); parts_te.append(Z_te)\n",
        "            X_tr_mat = np.concatenate(parts_tr, axis=1).astype(np.float32)\n",
        "            X_va_mat = np.concatenate(parts_va, axis=1).astype(np.float32)\n",
        "            X_te_mat = np.concatenate(parts_te, axis=1).astype(np.float32)\n",
        "            # Handle degeneracy\n",
        "            pos = int(y_tr.sum()); neg = int((1-y_tr).sum())\n",
        "            if pos == 0 or neg == 0 or y_va.sum() in (0, len(y_va)):\n",
        "                const = float(y.mean())\n",
        "                cls_oof[va_idx] = const\n",
        "                cls_te_acc += np.full(n_test, const, np.float32) / gkf.get_n_splits() / 1.0\n",
        "                print(f'Class {c:02d} fold {fold_no}: degenerate -> const {const:.4f} | {time.time()-tstart:.2f}s'); sys.stdout.flush()\n",
        "                continue\n",
        "            spw = neg / max(1, pos)\n",
        "            model = LGBMClassifier(\n",
        "                objective='binary',\n",
        "                n_estimators=8000,\n",
        "                learning_rate=0.03,\n",
        "                scale_pos_weight=spw,\n",
        "                random_state=seed,\n",
        "                n_jobs=-1,\n",
        "                # --- Critical Fixes ---\n",
        "                feature_pre_filter=False,\n",
        "                num_leaves=31,\n",
        "                max_depth=6,\n",
        "                max_bin=64,\n",
        "                min_child_samples=1,\n",
        "                min_sum_hessian_in_leaf=1e-5,\n",
        "                # --- Stability & Correctness ---\n",
        "                force_col_wise=True,\n",
        "                zero_as_missing=False,\n",
        "                extra_trees=True,\n",
        "                # --- Standard Parameters ---\n",
        "                subsample=0.9,\n",
        "                subsample_freq=1,\n",
        "                colsample_bytree=0.9,\n",
        "                reg_lambda=0.1,\n",
        "                min_gain_to_split=0.0\n",
        "            )\n",
        "            model.fit(\n",
        "                X_tr_mat, y_tr,\n",
        "                eval_set=[(X_va_mat, y_va)],\n",
        "                eval_metric='auc',\n",
        "                callbacks=[lgb.early_stopping(150, verbose=False), lgb.log_evaluation(50)]\n",
        "            )\n",
        "            p_va = model.predict_proba(X_va_mat)[:,1].astype(np.float32)\n",
        "            p_te = model.predict_proba(X_te_mat)[:,1].astype(np.float32)\n",
        "            cls_oof[va_idx] = p_va\n",
        "            cls_te_acc += p_te / gkf.get_n_splits()\n",
        "            print(f'Class {c:02d} fold {fold_no}: pos={pos} neg={neg} spw={spw:.2f} best_iter={getattr(model, \"best_iteration_\", None)} | {time.time()-tstart:.2f}s'); sys.stdout.flush()\n",
        "        oof[:, c] = cls_oof\n",
        "        te[:, c] = cls_te_acc\n",
        "    return oof, te\n",
        "\n",
        "seeds = [42, 7, 2025]\n",
        "oofs = []; tests = []\n",
        "for i, sd in enumerate(seeds, 1):\n",
        "    print(f'== Seed {sd} ({i}/{len(seeds)}) =='); sys.stdout.flush()\n",
        "    oof_s, te_s = run_seed(sd)\n",
        "    oofs.append(oof_s); tests.append(te_s)\n",
        "\n",
        "oof_mean = np.mean(np.stack(oofs, axis=0), axis=0)\n",
        "te_mean = np.mean(np.stack(tests, axis=0), axis=0)\n",
        "\n",
        "# Evaluate macro AUC\n",
        "auc = macro_auc_ignoring_degenerate(Y_train, oof_mean)\n",
        "print(f'Final LGBM (3-seed) OOF Macro AUC: {auc:.5f}')\n",
        "\n",
        "# Save predictions and ids\n",
        "np.save('prod_lgb_oof.npy', oof_mean)\n",
        "np.save('prod_lgb_test.npy', te_mean)\n",
        "np.save('prod_lgb_train_ids.npy', rec_train)\n",
        "np.save('prod_lgb_test_ids.npy', rec_test)\n",
        "print('Saved prod_lgb_* files.')"
      ],
      "execution_count": 15,
      "outputs": []
    },
    {
      "id": "c53fa361-d332-4dc9-b479-7eb20d85df98",
      "cell_type": "code",
      "metadata": {},
      "source": [
        "# Evaluate saved prod_lgb OOF and build submission\n",
        "import numpy as np, pandas as pd\n",
        "from sklearn.metrics import roc_auc_score\n",
        "\n",
        "oof = np.load('prod_lgb_oof.npy')\n",
        "te = np.load('prod_lgb_test.npy')\n",
        "tr_ids = np.load('prod_lgb_train_ids.npy').astype(int)\n",
        "te_ids = np.load('prod_lgb_test_ids.npy').astype(int)\n",
        "\n",
        "# Build Y in the same order as tr_ids using label_map from setup cell\n",
        "Y_eval = np.vstack([label_map[int(r)] for r in tr_ids]).astype(np.int8)\n",
        "auc = macro_auc_ignoring_degenerate(Y_eval, oof)\n",
        "print(f'prod_lgb OOF Macro AUC (ID-aligned): {auc:.5f}')\n",
        "\n",
        "# Create submission aligned to sample_submission Id encoding (rec_id*100+class_id)\n",
        "sub = pd.read_csv('sample_submission.csv')\n",
        "id_vals = sub['Id'].values.astype(int)\n",
        "rid_to_idx = {rid:i for i, rid in enumerate(te_ids)}\n",
        "probs = np.zeros_like(id_vals, dtype=np.float32)\n",
        "for i, Id in enumerate(id_vals):\n",
        "    rid = Id // 100; cid = Id % 100\n",
        "    row = rid_to_idx.get(rid, None)\n",
        "    p = float(te[row, cid]) if (row is not None and cid < num_classes) else 0.0\n",
        "    probs[i] = np.clip(p, 1e-6, 1-1e-6)\n",
        "sub['Probability'] = probs\n",
        "sub.to_csv('submission_prod_lgb.csv', index=False)\n",
        "print('Saved submission_prod_lgb.csv')"
      ],
      "execution_count": 4,
      "outputs": [
        {
          "output_type": "stream",
          "name": "stdout",
          "text": [
            "prod_lgb OOF Macro AUC (ID-aligned): 0.60784\nSaved submission_prod_lgb.csv\n"
          ]
        }
      ]
    },
    {
      "id": "12e30865-7bf6-40b8-b900-0539cfb49e61",
      "cell_type": "code",
      "metadata": {},
      "source": [
        "# Strong single model (alternative): XGBoost with GroupKFold, station priors + SVD + RAW HIST, 3-seed averaging\n",
        "import sys, subprocess, time, os\n",
        "from pathlib import Path\n",
        "try:\n",
        "    import xgboost as xgb\n",
        "except Exception:\n",
        "    subprocess.check_call([sys.executable, '-m', 'pip', 'install', '-q', 'xgboost'])\n",
        "    import xgboost as xgb\n",
        "from sklearn.model_selection import GroupKFold\n",
        "from sklearn.decomposition import TruncatedSVD\n",
        "\n",
        "print('Starting XGBoost training... xgb version:', getattr(xgb, '__version__', 'unknown'))\n",
        "\n",
        "# Clean stale artifacts BEFORE training to avoid evaluating partial runs\n",
        "for fn in ['prod_xgb_oof.npy','prod_xgb_test.npy','prod_xgb_train_ids.npy','prod_xgb_test_ids.npy']:\n",
        "    fp = Path(fn)\n",
        "    if fp.exists():\n",
        "        try: fp.unlink()\n",
        "        except Exception as e: print('Could not delete', fn, e)\n",
        "\n",
        "X_base_df = pd.DataFrame(X_base, columns=feat_cols)\n",
        "X_test_df = pd.DataFrame(X_test_base, columns=feat_cols)\n",
        "X_base_mat = X_base_df.to_numpy(np.float32)\n",
        "X_test_mat = X_test_df.to_numpy(np.float32)\n",
        "\n",
        "gkf = GroupKFold(n_splits=3)\n",
        "n_train = X_base_df.shape[0]\n",
        "n_test = X_test_df.shape[0]\n",
        "\n",
        "def run_seed_xgb(seed):\n",
        "    oof = np.zeros((n_train, num_classes), dtype=np.float32)\n",
        "    te = np.zeros((n_test, num_classes), dtype=np.float32)\n",
        "    for c in range(num_classes):\n",
        "        y = Y_train[:, c].astype(int)\n",
        "        cls_oof = np.zeros(n_train, dtype=np.float32)\n",
        "        cls_te_acc = np.zeros(n_test, dtype=np.float32)\n",
        "        fold_no = 0\n",
        "        for tr_idx, va_idx in gkf.split(X_base_df, y, groups):\n",
        "            fold_no += 1\n",
        "            tstart = time.time()\n",
        "            # Base dropped per expert advice; use only station prior + RAW hist (+ SVD)\n",
        "            y_tr = y[tr_idx]; y_va = y[va_idx]\n",
        "            # Station prior within fold with Bayesian smoothing\n",
        "            st_tr = groups[tr_idx]; st_va = groups[va_idx]\n",
        "            alpha = 5.0\n",
        "            global_mean = float(y_tr.mean()) if y_tr.size>0 else 0.0\n",
        "            st_prior = {}\n",
        "            for s in np.unique(st_tr):\n",
        "                m = (st_tr == s)\n",
        "                cnt = int(m.sum())\n",
        "                sm = float(y_tr[m].sum()) if cnt>0 else 0.0\n",
        "                st_prior[s] = (sm + alpha*global_mean) / (cnt + alpha)\n",
        "            st_tr_feat = np.array([st_prior.get(s, global_mean) for s in st_tr], dtype=np.float32)[:, None]\n",
        "            st_va_feat = np.array([st_prior.get(s, global_mean) for s in st_va], dtype=np.float32)[:, None]\n",
        "            st_te_feat = np.array([st_prior.get(s, global_mean) for s in stations_test], dtype=np.float32)[:, None]\n",
        "            # Histogram features (RAW + per-fold SVD on RAW)\n",
        "            H_tr = H_train[tr_idx]; H_va = H_train[va_idx]\n",
        "            n_comp = 0\n",
        "            if H_tr.size > 0:\n",
        "                n_comp = int(min(12, max(2, min(H_tr.shape[1], max(2, H_tr.shape[0]-1)))))\n",
        "            if n_comp >= 2:\n",
        "                svd = TruncatedSVD(n_components=n_comp, random_state=seed)\n",
        "                svd.fit(H_tr)\n",
        "                Z_tr = svd.transform(H_tr).astype(np.float32)\n",
        "                Z_va = svd.transform(H_va).astype(np.float32)\n",
        "                Z_te = svd.transform(H_test).astype(np.float32)\n",
        "            else:\n",
        "                Z_tr = None; Z_va = None; Z_te = None\n",
        "            # Build matrices: STATION PRIOR + SVD + RAW HIST (drop X_base)\n",
        "            parts_tr = [st_tr_feat]\n",
        "            parts_va = [st_va_feat]\n",
        "            parts_te = [st_te_feat]\n",
        "            if Z_tr is not None:\n",
        "                parts_tr.append(Z_tr); parts_va.append(Z_va); parts_te.append(Z_te)\n",
        "            parts_tr.append(H_tr); parts_va.append(H_va); parts_te.append(H_test)\n",
        "            X_tr_mat = np.concatenate(parts_tr, axis=1).astype(np.float32)\n",
        "            X_va_mat = np.concatenate(parts_va, axis=1).astype(np.float32)\n",
        "            X_te_mat = np.concatenate(parts_te, axis=1).astype(np.float32)\n",
        "            print(f'[XGB] Class {c:02d} fold {fold_no} shapes: X_tr={X_tr_mat.shape} X_va={X_va_mat.shape}', flush=True)\n",
        "            pos = int(y_tr.sum()); neg = int((1-y_tr).sum())\n",
        "            if pos == 0 or neg == 0 or y_va.sum() in (0, len(y_va)):\n",
        "                const = float(y.mean())\n",
        "                cls_oof[va_idx] = const\n",
        "                cls_te_acc += np.full(n_test, const, np.float32) / gkf.get_n_splits()\n",
        "                print(f'[XGB] Class {c:02d} fold {fold_no}: degenerate -> const {const:.4f} | {time.time()-tstart:.2f}s'); sys.stdout.flush()\n",
        "                continue\n",
        "            spw = neg / max(1, pos)\n",
        "            dtrain = xgb.DMatrix(X_tr_mat, label=y_tr)\n",
        "            dvalid = xgb.DMatrix(X_va_mat, label=y_va)\n",
        "            dtest = xgb.DMatrix(X_te_mat)\n",
        "            params = {\n",
        "                'objective': 'binary:logistic',\n",
        "                'eval_metric': 'auc',\n",
        "                'max_depth': 4,\n",
        "                'min_child_weight': 1e-3,\n",
        "                'eta': 0.02,\n",
        "                'subsample': 0.9,\n",
        "                'colsample_bytree': 0.8,\n",
        "                'lambda': 0.1,\n",
        "                'tree_method': 'hist',\n",
        "                'max_bin': 64,\n",
        "                'scale_pos_weight': float(spw),\n",
        "                'seed': int(seed),\n",
        "                'verbosity': 1\n",
        "            }\n",
        "            evallist = [(dvalid, 'valid')]\n",
        "            bst = xgb.train(params, dtrain, num_boost_round=6000, evals=evallist,\n",
        "                            early_stopping_rounds=200, verbose_eval=100)\n",
        "            p_va = bst.predict(dvalid, iteration_range=(0, bst.best_iteration+1)).astype(np.float32)\n",
        "            p_te = bst.predict(dtest, iteration_range=(0, bst.best_iteration+1)).astype(np.float32)\n",
        "            cls_oof[va_idx] = p_va\n",
        "            cls_te_acc += p_te / gkf.get_n_splits()\n",
        "            print(f'[XGB] Class {c:02d} fold {fold_no}: pos={pos} neg={neg} spw={spw:.2f} best_iter={bst.best_iteration} | {time.time()-tstart:.2f}s'); sys.stdout.flush()\n",
        "        oof[:, c] = cls_oof\n",
        "        te[:, c] = cls_te_acc\n",
        "    return oof, te\n",
        "\n",
        "seeds = [42, 7, 2025]\n",
        "oofs = []; tests = []\n",
        "for i, sd in enumerate(seeds, 1):\n",
        "    print(f'== XGB Seed {sd} ({i}/{len(seeds)}) =='); sys.stdout.flush()\n",
        "    oof_s, te_s = run_seed_xgb(sd)\n",
        "    oofs.append(oof_s); tests.append(te_s)\n",
        "\n",
        "oof_mean = np.mean(np.stack(oofs, axis=0), axis=0)\n",
        "te_mean = np.mean(np.stack(tests, axis=0), axis=0)\n",
        "auc = macro_auc_ignoring_degenerate(Y_train, oof_mean)\n",
        "print(f'Final XGBoost (3-seed) OOF Macro AUC: {auc:.5f}')\n",
        "\n",
        "# Save with temp names then rename for integrity\n",
        "tmp_oof = 'prod_xgb_oof_tmp.npy'; tmp_te = 'prod_xgb_test_tmp.npy'\n",
        "np.save(tmp_oof, oof_mean); np.save(tmp_te, te_mean)\n",
        "np.save('prod_xgb_train_ids.npy', rec_train)\n",
        "np.save('prod_xgb_test_ids.npy', rec_test)\n",
        "os.replace(tmp_oof, 'prod_xgb_oof.npy')\n",
        "os.replace(tmp_te, 'prod_xgb_test.npy')\n",
        "print('Saved prod_xgb_* files.')"
      ],
      "execution_count": 32,
      "outputs": [
        {
          "output_type": "stream",
          "name": "stdout",
          "text": [
            "Starting XGBoost training... xgb version: 2.1.4\n== XGB Seed 42 (1/3) ==\n"
          ]
        },
        {
          "output_type": "stream",
          "name": "stdout",
          "text": [
            "[XGB] Class 00 fold 1 shapes: X_tr=(167, 113) X_va=(91, 113)\n"
          ]
        },
        {
          "output_type": "stream",
          "name": "stdout",
          "text": [
            "[0]\tvalid-auc:0.62500\n"
          ]
        },
        {
          "output_type": "stream",
          "name": "stdout",
          "text": [
            "[100]\tvalid-auc:0.97989\n"
          ]
        },
        {
          "output_type": "stream",
          "name": "stdout",
          "text": [
            "[200]\tvalid-auc:0.97989\n"
          ]
        },
        {
          "output_type": "stream",
          "name": "stdout",
          "text": [
            "[223]\tvalid-auc:0.97989\n"
          ]
        },
        {
          "output_type": "stream",
          "name": "stdout",
          "text": [
            "[XGB] Class 00 fold 1: pos=3 neg=164 spw=54.67 best_iter=23 | 0.30s\n"
          ]
        },
        {
          "output_type": "stream",
          "name": "stdout",
          "text": [
            "[XGB] Class 00 fold 2 shapes: X_tr=(175, 113) X_va=(83, 113)\n"
          ]
        },
        {
          "output_type": "stream",
          "name": "stdout",
          "text": [
            "[0]\tvalid-auc:0.50000\n"
          ]
        },
        {
          "output_type": "stream",
          "name": "stdout",
          "text": [
            "[100]\tvalid-auc:0.83750\n"
          ]
        },
        {
          "output_type": "stream",
          "name": "stdout",
          "text": [
            "[200]\tvalid-auc:0.84167\n"
          ]
        },
        {
          "output_type": "stream",
          "name": "stdout",
          "text": [
            "[300]\tvalid-auc:0.84167\n"
          ]
        },
        {
          "output_type": "stream",
          "name": "stdout",
          "text": [
            "[328]\tvalid-auc:0.84583\n"
          ]
        },
        {
          "output_type": "stream",
          "name": "stdout",
          "text": [
            "[XGB] Class 00 fold 2: pos=4 neg=171 spw=42.75 best_iter=129 | 0.41s\n"
          ]
        },
        {
          "output_type": "stream",
          "name": "stdout",
          "text": [
            "[XGB] Class 00 fold 3 shapes: X_tr=(174, 113) X_va=(84, 113)\n"
          ]
        },
        {
          "output_type": "stream",
          "name": "stdout",
          "text": [
            "[XGB] Class 00 fold 3: degenerate -> const 0.0271 | 0.03s\n"
          ]
        },
        {
          "output_type": "stream",
          "name": "stdout",
          "text": [
            "[XGB] Class 01 fold 1 shapes: X_tr=(167, 113) X_va=(91, 113)\n"
          ]
        },
        {
          "output_type": "stream",
          "name": "stdout",
          "text": [
            "[0]\tvalid-auc:0.50000\n"
          ]
        },
        {
          "output_type": "stream",
          "name": "stdout",
          "text": [
            "[100]\tvalid-auc:0.73507\n"
          ]
        },
        {
          "output_type": "stream",
          "name": "stdout",
          "text": [
            "[200]\tvalid-auc:0.73134\n"
          ]
        },
        {
          "output_type": "stream",
          "name": "stdout",
          "text": [
            "[218]\tvalid-auc:0.73850\n"
          ]
        },
        {
          "output_type": "stream",
          "name": "stdout",
          "text": [
            "[XGB] Class 01 fold 1: pos=4 neg=163 spw=40.75 best_iter=18 | 0.31s\n"
          ]
        },
        {
          "output_type": "stream",
          "name": "stdout",
          "text": [
            "[XGB] Class 01 fold 2 shapes: X_tr=(175, 113) X_va=(83, 113)\n"
          ]
        },
        {
          "output_type": "stream",
          "name": "stdout",
          "text": [
            "[XGB] Class 01 fold 2: degenerate -> const 0.1085 | 0.04s\n"
          ]
        },
        {
          "output_type": "stream",
          "name": "stdout",
          "text": [
            "[XGB] Class 01 fold 3 shapes: X_tr=(174, 113) X_va=(84, 113)\n"
          ]
        },
        {
          "output_type": "stream",
          "name": "stdout",
          "text": [
            "[0]\tvalid-auc:0.50000\n"
          ]
        },
        {
          "output_type": "stream",
          "name": "stdout",
          "text": [
            "[100]\tvalid-auc:0.75938\n"
          ]
        },
        {
          "output_type": "stream",
          "name": "stdout",
          "text": [
            "[200]\tvalid-auc:0.75313\n"
          ]
        },
        {
          "output_type": "stream",
          "name": "stdout",
          "text": [
            "[226]\tvalid-auc:0.74687\n"
          ]
        },
        {
          "output_type": "stream",
          "name": "stdout",
          "text": [
            "[XGB] Class 01 fold 3: pos=24 neg=150 spw=6.25 best_iter=27 | 0.34s\n"
          ]
        },
        {
          "output_type": "stream",
          "name": "stdout",
          "text": [
            "[XGB] Class 02 fold 1 shapes: X_tr=(167, 113) X_va=(91, 113)"
          ]
        },
        {
          "output_type": "stream",
          "name": "stdout",
          "text": [
            "\n"
          ]
        },
        {
          "output_type": "stream",
          "name": "stdout",
          "text": [
            "[0]\tvalid-auc:0.89881\n"
          ]
        },
        {
          "output_type": "stream",
          "name": "stdout",
          "text": [
            "[100]\tvalid-auc:0.94303\n"
          ]
        },
        {
          "output_type": "stream",
          "name": "stdout",
          "text": [
            "[200]\tvalid-auc:0.94388\n"
          ]
        },
        {
          "output_type": "stream",
          "name": "stdout",
          "text": [
            "[300]\tvalid-auc:0.86735\n"
          ]
        },
        {
          "output_type": "stream",
          "name": "stdout",
          "text": [
            "[328]\tvalid-auc:0.85544\n"
          ]
        },
        {
          "output_type": "stream",
          "name": "stdout",
          "text": [
            "[XGB] Class 02 fold 1: pos=12 neg=155 spw=12.92 best_iter=129 | 0.39s\n"
          ]
        },
        {
          "output_type": "stream",
          "name": "stdout",
          "text": [
            "[XGB] Class 02 fold 2 shapes: X_tr=(175, 113) X_va=(83, 113)\n"
          ]
        },
        {
          "output_type": "stream",
          "name": "stdout",
          "text": [
            "[0]\tvalid-auc:0.75769\n"
          ]
        },
        {
          "output_type": "stream",
          "name": "stdout",
          "text": [
            "[100]\tvalid-auc:0.46410\n"
          ]
        },
        {
          "output_type": "stream",
          "name": "stdout",
          "text": [
            "[199]\tvalid-auc:0.46667\n"
          ]
        },
        {
          "output_type": "stream",
          "name": "stdout",
          "text": [
            "[XGB] Class 02 fold 2: pos=14 neg=161 spw=11.50 best_iter=0 | 0.36s\n"
          ]
        },
        {
          "output_type": "stream",
          "name": "stdout",
          "text": [
            "[XGB] Class 02 fold 3 shapes: X_tr=(174, 113) X_va=(84, 113)\n"
          ]
        },
        {
          "output_type": "stream",
          "name": "stdout",
          "text": [
            "[0]\tvalid-auc:0.59555\n"
          ]
        },
        {
          "output_type": "stream",
          "name": "stdout",
          "text": [
            "[100]\tvalid-auc:0.67904\n"
          ]
        },
        {
          "output_type": "stream",
          "name": "stdout",
          "text": [
            "[200]\tvalid-auc:0.65677\n"
          ]
        },
        {
          "output_type": "stream",
          "name": "stdout",
          "text": [
            "[215]\tvalid-auc:0.65677\n"
          ]
        },
        {
          "output_type": "stream",
          "name": "stdout",
          "text": [
            "[XGB] Class 02 fold 3: pos=12 neg=162 spw=13.50 best_iter=15 | 0.28s\n"
          ]
        },
        {
          "output_type": "stream",
          "name": "stdout",
          "text": [
            "[XGB] Class 03 fold 1 shapes: X_tr=(167, 113) X_va=(91, 113)\n"
          ]
        },
        {
          "output_type": "stream",
          "name": "stdout",
          "text": [
            "[XGB] Class 03 fold 1: degenerate -> const 0.0155 | 0.02s\n"
          ]
        },
        {
          "output_type": "stream",
          "name": "stdout",
          "text": [
            "[XGB] Class 03 fold 2 shapes: X_tr=(175, 113) X_va=(83, 113)\n"
          ]
        },
        {
          "output_type": "stream",
          "name": "stdout",
          "text": [
            "[XGB] Class 03 fold 2: degenerate -> const 0.0155 | 0.01s\n"
          ]
        },
        {
          "output_type": "stream",
          "name": "stdout",
          "text": [
            "[XGB] Class 03 fold 3 shapes: X_tr=(174, 113) X_va=(84, 113)\n"
          ]
        },
        {
          "output_type": "stream",
          "name": "stdout",
          "text": [
            "[XGB] Class 03 fold 3: degenerate -> const 0.0155 | 0.01s\n"
          ]
        },
        {
          "output_type": "stream",
          "name": "stdout",
          "text": [
            "[XGB] Class 04 fold 1 shapes: X_tr=(167, 113) X_va=(91, 113)\n"
          ]
        },
        {
          "output_type": "stream",
          "name": "stdout",
          "text": [
            "[0]\tvalid-auc:0.50000\n"
          ]
        },
        {
          "output_type": "stream",
          "name": "stdout",
          "text": [
            "[100]\tvalid-auc:0.92222\n"
          ]
        },
        {
          "output_type": "stream",
          "name": "stdout",
          "text": [
            "[200]\tvalid-auc:0.92222\n"
          ]
        },
        {
          "output_type": "stream",
          "name": "stdout",
          "text": [
            "[275]\tvalid-auc:0.91111\n"
          ]
        },
        {
          "output_type": "stream",
          "name": "stdout",
          "text": [
            "[XGB] Class 04 fold 1: pos=8 neg=159 spw=19.88 best_iter=76 | 0.38s\n"
          ]
        },
        {
          "output_type": "stream",
          "name": "stdout",
          "text": [
            "[XGB] Class 04 fold 2 shapes: X_tr=(175, 113) X_va=(83, 113)\n"
          ]
        },
        {
          "output_type": "stream",
          "name": "stdout",
          "text": [
            "[0]\tvalid-auc:0.48026\n"
          ]
        },
        {
          "output_type": "stream",
          "name": "stdout",
          "text": [
            "[100]\tvalid-auc:0.72180\n"
          ]
        },
        {
          "output_type": "stream",
          "name": "stdout",
          "text": [
            "[200]\tvalid-auc:0.71711\n"
          ]
        },
        {
          "output_type": "stream",
          "name": "stdout",
          "text": [
            "[222]\tvalid-auc:0.71805\n"
          ]
        },
        {
          "output_type": "stream",
          "name": "stdout",
          "text": [
            "[XGB] Class 04 fold 2: pos=2 neg=173 spw=86.50 best_iter=23 | 0.32s\n"
          ]
        },
        {
          "output_type": "stream",
          "name": "stdout",
          "text": [
            "[XGB] Class 04 fold 3 shapes: X_tr=(174, 113) X_va=(84, 113)\n"
          ]
        },
        {
          "output_type": "stream",
          "name": "stdout",
          "text": [
            "[0]\tvalid-auc:0.50000\n"
          ]
        },
        {
          "output_type": "stream",
          "name": "stdout",
          "text": [
            "[100]\tvalid-auc:0.01807\n"
          ]
        },
        {
          "output_type": "stream",
          "name": "stdout",
          "text": [
            "[199]\tvalid-auc:0.10843\n"
          ]
        },
        {
          "output_type": "stream",
          "name": "stdout",
          "text": [
            "[XGB] Class 04 fold 3: pos=8 neg=166 spw=20.75 best_iter=0 | 0.31s\n"
          ]
        },
        {
          "output_type": "stream",
          "name": "stdout",
          "text": [
            "[XGB] Class 05 fold 1 shapes: X_tr=(167, 113) X_va=(91, 113)\n"
          ]
        },
        {
          "output_type": "stream",
          "name": "stdout",
          "text": [
            "[0]\tvalid-auc:0.48315\n"
          ]
        },
        {
          "output_type": "stream",
          "name": "stdout",
          "text": [
            "[100]\tvalid-auc:0.59551\n"
          ]
        },
        {
          "output_type": "stream",
          "name": "stdout",
          "text": [
            "[200]\tvalid-auc:0.57303\n"
          ]
        },
        {
          "output_type": "stream",
          "name": "stdout",
          "text": [
            "[228]\tvalid-auc:0.57303\n"
          ]
        },
        {
          "output_type": "stream",
          "name": "stdout",
          "text": [
            "[XGB] Class 05 fold 1: pos=3 neg=164 spw=54.67 best_iter=29 | 0.33s\n"
          ]
        },
        {
          "output_type": "stream",
          "name": "stdout",
          "text": [
            "[XGB] Class 05 fold 2 shapes: X_tr=(175, 113) X_va=(83, 113)\n"
          ]
        },
        {
          "output_type": "stream",
          "name": "stdout",
          "text": [
            "[0]\tvalid-auc:0.83537\n"
          ]
        },
        {
          "output_type": "stream",
          "name": "stdout",
          "text": [
            "[100]\tvalid-auc:0.97561\n"
          ]
        },
        {
          "output_type": "stream",
          "name": "stdout",
          "text": [
            "[200]\tvalid-auc:0.98780\n"
          ]
        },
        {
          "output_type": "stream",
          "name": "stdout",
          "text": [
            "[221]\tvalid-auc:0.97561\n"
          ]
        },
        {
          "output_type": "stream",
          "name": "stdout",
          "text": [
            "[XGB] Class 05 fold 2: pos=4 neg=171 spw=42.75 best_iter=21 | 0.33s\n"
          ]
        },
        {
          "output_type": "stream",
          "name": "stdout",
          "text": [
            "[XGB] Class 05 fold 3 shapes: X_tr=(174, 113) X_va=(84, 113)\n"
          ]
        },
        {
          "output_type": "stream",
          "name": "stdout",
          "text": [
            "[0]\tvalid-auc:0.68293\n"
          ]
        },
        {
          "output_type": "stream",
          "name": "stdout",
          "text": [
            "[100]\tvalid-auc:0.81098\n"
          ]
        },
        {
          "output_type": "stream",
          "name": "stdout",
          "text": [
            "[200]\tvalid-auc:0.82317\n"
          ]
        },
        {
          "output_type": "stream",
          "name": "stdout",
          "text": [
            "[202]\tvalid-auc:0.82317\n"
          ]
        },
        {
          "output_type": "stream",
          "name": "stdout",
          "text": [
            "[XGB] Class 05 fold 3: pos=3 neg=171 spw=57.00 best_iter=3 | 0.28s\n"
          ]
        },
        {
          "output_type": "stream",
          "name": "stdout",
          "text": [
            "[XGB] Class 06 fold 1 shapes: X_tr=(167, 113) X_va=(91, 113)\n"
          ]
        },
        {
          "output_type": "stream",
          "name": "stdout",
          "text": [
            "[0]\tvalid-auc:0.52778\n"
          ]
        },
        {
          "output_type": "stream",
          "name": "stdout",
          "text": [
            "[100]\tvalid-auc:0.12222\n"
          ]
        },
        {
          "output_type": "stream",
          "name": "stdout",
          "text": [
            "[200]\tvalid-auc:0.18889\n"
          ]
        },
        {
          "output_type": "stream",
          "name": "stdout",
          "text": [
            "[XGB] Class 06 fold 1: pos=18 neg=149 spw=8.28 best_iter=0 | 0.29s\n"
          ]
        },
        {
          "output_type": "stream",
          "name": "stdout",
          "text": [
            "[XGB] Class 06 fold 2 shapes: X_tr=(175, 113) X_va=(83, 113)\n"
          ]
        },
        {
          "output_type": "stream",
          "name": "stdout",
          "text": [
            "[0]\tvalid-auc:0.52928\n"
          ]
        },
        {
          "output_type": "stream",
          "name": "stdout",
          "text": [
            "[100]\tvalid-auc:0.57057\n"
          ]
        },
        {
          "output_type": "stream",
          "name": "stdout",
          "text": [
            "[0]\tvalid-auc:0.50000\n"
          ]
        },
        {
          "output_type": "stream",
          "name": "stdout",
          "text": [
            "[100]\tvalid-auc:0.49359\n"
          ]
        },
        {
          "output_type": "stream",
          "name": "stdout",
          "text": [
            "[200]\tvalid-auc:0.57821\n"
          ]
        },
        {
          "output_type": "stream",
          "name": "stdout",
          "text": [
            "[300]\tvalid-auc:0.56538\n"
          ]
        },
        {
          "output_type": "stream",
          "name": "stdout",
          "text": [
            "[400]\tvalid-auc:0.66026\n"
          ]
        },
        {
          "output_type": "stream",
          "name": "stdout",
          "text": [
            "[500]\tvalid-auc:0.74744\n"
          ]
        },
        {
          "output_type": "stream",
          "name": "stdout",
          "text": [
            "[600]\tvalid-auc:0.74744\n"
          ]
        },
        {
          "output_type": "stream",
          "name": "stdout",
          "text": [
            "[671]\tvalid-auc:0.74744\n"
          ]
        },
        {
          "output_type": "stream",
          "name": "stdout",
          "text": [
            "[XGB] Class 15 fold 2: pos=1 neg=174 spw=174.00 best_iter=471 | 0.70s\n"
          ]
        },
        {
          "output_type": "stream",
          "name": "stdout",
          "text": [
            "[XGB] Class 15 fold 3 shapes: X_tr=(174, 113) X_va=(84, 113)\n"
          ]
        },
        {
          "output_type": "stream",
          "name": "stdout",
          "text": [
            "[XGB] Class 15 fold 3: degenerate -> const 0.0233 | 0.04s\n"
          ]
        },
        {
          "output_type": "stream",
          "name": "stdout",
          "text": [
            "[XGB] Class 16 fold 1 shapes: X_tr=(167, 113) X_va=(91, 113)\n"
          ]
        },
        {
          "output_type": "stream",
          "name": "stdout",
          "text": [
            "[XGB] Class 16 fold 1: degenerate -> const 0.0078 | 0.00s\n"
          ]
        },
        {
          "output_type": "stream",
          "name": "stdout",
          "text": [
            "[XGB] Class 16 fold 2 shapes: X_tr=(175, 113) X_va=(83, 113)\n"
          ]
        },
        {
          "output_type": "stream",
          "name": "stdout",
          "text": [
            "[XGB] Class 16 fold 2: degenerate -> const 0.0078 | 0.01s\n"
          ]
        },
        {
          "output_type": "stream",
          "name": "stdout",
          "text": [
            "[XGB] Class 16 fold 3 shapes: X_tr=(174, 113) X_va=(84, 113)\n"
          ]
        },
        {
          "output_type": "stream",
          "name": "stdout",
          "text": [
            "[XGB] Class 16 fold 3: degenerate -> const 0.0078 | 0.01s\n"
          ]
        },
        {
          "output_type": "stream",
          "name": "stdout",
          "text": [
            "[XGB] Class 17 fold 1 shapes: X_tr=(167, 113) X_va=(91, 113)\n"
          ]
        },
        {
          "output_type": "stream",
          "name": "stdout",
          "text": [
            "[0]\tvalid-auc:0.50000\n"
          ]
        },
        {
          "output_type": "stream",
          "name": "stdout",
          "text": [
            "[100]\tvalid-auc:0.38447\n"
          ]
        },
        {
          "output_type": "stream",
          "name": "stdout",
          "text": [
            "[200]\tvalid-auc:0.38636\n"
          ]
        },
        {
          "output_type": "stream",
          "name": "stdout",
          "text": [
            "[XGB] Class 17 fold 1: pos=1 neg=166 spw=166.00 best_iter=0 | 0.27s\n"
          ]
        },
        {
          "output_type": "stream",
          "name": "stdout",
          "text": [
            "[XGB] Class 17 fold 2 shapes: X_tr=(175, 113) X_va=(83, 113)\n"
          ]
        },
        {
          "output_type": "stream",
          "name": "stdout",
          "text": [
            "[XGB] Class 17 fold 2: degenerate -> const 0.0155 | 0.02s\n"
          ]
        },
        {
          "output_type": "stream",
          "name": "stdout",
          "text": [
            "[XGB] Class 17 fold 3 shapes: X_tr=(174, 113) X_va=(84, 113)\n"
          ]
        },
        {
          "output_type": "stream",
          "name": "stdout",
          "text": [
            "[0]\tvalid-auc:0.50000\n"
          ]
        },
        {
          "output_type": "stream",
          "name": "stdout",
          "text": [
            "[100]\tvalid-auc:0.73494\n"
          ]
        },
        {
          "output_type": "stream",
          "name": "stdout",
          "text": [
            "[200]\tvalid-auc:0.73494\n"
          ]
        },
        {
          "output_type": "stream",
          "name": "stdout",
          "text": [
            "[227]\tvalid-auc:0.73494\n"
          ]
        },
        {
          "output_type": "stream",
          "name": "stdout",
          "text": [
            "[XGB] Class 17 fold 3: pos=3 neg=171 spw=57.00 best_iter=27 | 0.27s\n"
          ]
        },
        {
          "output_type": "stream",
          "name": "stdout",
          "text": [
            "[XGB] Class 18 fold 1 shapes: X_tr=(167, 113) X_va=(91, 113)\n"
          ]
        },
        {
          "output_type": "stream",
          "name": "stdout",
          "text": [
            "[0]\tvalid-auc:0.61395\n"
          ]
        },
        {
          "output_type": "stream",
          "name": "stdout",
          "text": [
            "[100]\tvalid-auc:0.77791\n"
          ]
        },
        {
          "output_type": "stream",
          "name": "stdout",
          "text": [
            "[200]\tvalid-auc:0.76744\n"
          ]
        },
        {
          "output_type": "stream",
          "name": "stdout",
          "text": [
            "[230]\tvalid-auc:0.77209\n"
          ]
        },
        {
          "output_type": "stream",
          "name": "stdout",
          "text": [
            "[XGB] Class 18 fold 1: pos=7 neg=160 spw=22.86 best_iter=30 | 0.30s\n"
          ]
        },
        {
          "output_type": "stream",
          "name": "stdout",
          "text": [
            "[XGB] Class 18 fold 2 shapes: X_tr=(175, 113) X_va=(83, 113)\n"
          ]
        },
        {
          "output_type": "stream",
          "name": "stdout",
          "text": [
            "[XGB] Class 18 fold 2: degenerate -> const 0.0465 | 0.02s\n"
          ]
        },
        {
          "output_type": "stream",
          "name": "stdout",
          "text": [
            "[XGB] Class 18 fold 3 shapes: X_tr=(174, 113) X_va=(84, 113)\n"
          ]
        },
        {
          "output_type": "stream",
          "name": "stdout",
          "text": [
            "[0]\tvalid-auc:0.50000\n"
          ]
        },
        {
          "output_type": "stream",
          "name": "stdout",
          "text": [
            "[100]\tvalid-auc:0.90631\n"
          ]
        },
        {
          "output_type": "stream",
          "name": "stdout",
          "text": [
            "[200]\tvalid-auc:0.88868\n"
          ]
        },
        {
          "output_type": "stream",
          "name": "stdout",
          "text": [
            "[206]\tvalid-auc:0.89425\n"
          ]
        },
        {
          "output_type": "stream",
          "name": "stdout",
          "text": [
            "[XGB] Class 18 fold 3: pos=5 neg=169 spw=33.80 best_iter=6 | 0.32s\n"
          ]
        },
        {
          "output_type": "stream",
          "name": "stdout",
          "text": [
            "== XGB Seed 7 (2/3) ==\n"
          ]
        },
        {
          "output_type": "stream",
          "name": "stdout",
          "text": [
            "[XGB] Class 00 fold 1 shapes: X_tr=(167, 113) X_va=(91, 113)\n"
          ]
        },
        {
          "output_type": "stream",
          "name": "stdout",
          "text": [
            "[0]\tvalid-auc:0.62500\n"
          ]
        },
        {
          "output_type": "stream",
          "name": "stdout",
          "text": [
            "[100]\tvalid-auc:0.72701\n"
          ]
        },
        {
          "output_type": "stream",
          "name": "stdout",
          "text": [
            "[200]\tvalid-auc:0.72701\n"
          ]
        },
        {
          "output_type": "stream",
          "name": "stdout",
          "text": [
            "[207]\tvalid-auc:0.72701\n"
          ]
        },
        {
          "output_type": "stream",
          "name": "stdout",
          "text": [
            "[XGB] Class 00 fold 1: pos=3 neg=164 spw=54.67 best_iter=7 | 0.66s"
          ]
        },
        {
          "output_type": "stream",
          "name": "stdout",
          "text": [
            "\n"
          ]
        },
        {
          "output_type": "stream",
          "name": "stdout",
          "text": [
            "[XGB] Class 00 fold 2 shapes: X_tr=(175, 113) X_va=(83, 113)\n"
          ]
        },
        {
          "output_type": "stream",
          "name": "stdout",
          "text": [
            "[0]\tvalid-auc:0.50000\n"
          ]
        },
        {
          "output_type": "stream",
          "name": "stdout",
          "text": [
            "[100]\tvalid-auc:0.86250\n"
          ]
        },
        {
          "output_type": "stream",
          "name": "stdout",
          "text": [
            "[200]\tvalid-auc:0.88542\n"
          ]
        },
        {
          "output_type": "stream",
          "name": "stdout",
          "text": [
            "[218]\tvalid-auc:0.88125\n"
          ]
        },
        {
          "output_type": "stream",
          "name": "stdout",
          "text": [
            "[XGB] Class 00 fold 2: pos=4 neg=171 spw=42.75 best_iter=19 | 0.29s\n"
          ]
        },
        {
          "output_type": "stream",
          "name": "stdout",
          "text": [
            "[XGB] Class 00 fold 3 shapes: X_tr=(174, 113) X_va=(84, 113)\n"
          ]
        },
        {
          "output_type": "stream",
          "name": "stdout",
          "text": [
            "[XGB] Class 00 fold 3: degenerate -> const 0.0271 | 0.04s\n"
          ]
        },
        {
          "output_type": "stream",
          "name": "stdout",
          "text": [
            "[XGB] Class 01 fold 1 shapes: X_tr=(167, 113) X_va=(91, 113)\n"
          ]
        },
        {
          "output_type": "stream",
          "name": "stdout",
          "text": [
            "[0]\tvalid-auc:0.50000\n"
          ]
        },
        {
          "output_type": "stream",
          "name": "stdout",
          "text": [
            "[100]\tvalid-auc:0.77799\n"
          ]
        },
        {
          "output_type": "stream",
          "name": "stdout",
          "text": [
            "[200]\tvalid-auc:0.77799\n"
          ]
        },
        {
          "output_type": "stream",
          "name": "stdout",
          "text": [
            "[300]\tvalid-auc:0.77612\n"
          ]
        },
        {
          "output_type": "stream",
          "name": "stdout",
          "text": [
            "[310]\tvalid-auc:0.77488\n"
          ]
        },
        {
          "output_type": "stream",
          "name": "stdout",
          "text": [
            "[XGB] Class 01 fold 1: pos=4 neg=163 spw=40.75 best_iter=110 | 0.32s\n"
          ]
        },
        {
          "output_type": "stream",
          "name": "stdout",
          "text": [
            "[XGB] Class 01 fold 2 shapes: X_tr=(175, 113) X_va=(83, 113)\n"
          ]
        },
        {
          "output_type": "stream",
          "name": "stdout",
          "text": [
            "[XGB] Class 01 fold 2: degenerate -> const 0.1085 | 0.03s\n"
          ]
        },
        {
          "output_type": "stream",
          "name": "stdout",
          "text": [
            "[XGB] Class 01 fold 3 shapes: X_tr=(174, 113) X_va=(84, 113)\n"
          ]
        },
        {
          "output_type": "stream",
          "name": "stdout",
          "text": [
            "[0]\tvalid-auc:0.50000\n"
          ]
        },
        {
          "output_type": "stream",
          "name": "stdout",
          "text": [
            "[100]\tvalid-auc:0.90938\n"
          ]
        },
        {
          "output_type": "stream",
          "name": "stdout",
          "text": [
            "[200]\tvalid-auc:0.77500\n"
          ]
        },
        {
          "output_type": "stream",
          "name": "stdout",
          "text": [
            "[295]\tvalid-auc:0.76562\n"
          ]
        },
        {
          "output_type": "stream",
          "name": "stdout",
          "text": [
            "[XGB] Class 01 fold 3: pos=24 neg=150 spw=6.25 best_iter=95 | 0.35s\n"
          ]
        },
        {
          "output_type": "stream",
          "name": "stdout",
          "text": [
            "[XGB] Class 02 fold 1 shapes: X_tr=(167, 113) X_va=(91, 113)\n"
          ]
        },
        {
          "output_type": "stream",
          "name": "stdout",
          "text": [
            "[0]\tvalid-auc:0.89881\n"
          ]
        },
        {
          "output_type": "stream",
          "name": "stdout",
          "text": [
            "[100]\tvalid-auc:0.92007\n"
          ]
        },
        {
          "output_type": "stream",
          "name": "stdout",
          "text": [
            "[200]\tvalid-auc:0.92687\n"
          ]
        },
        {
          "output_type": "stream",
          "name": "stdout",
          "text": [
            "[228]\tvalid-auc:0.92177\n"
          ]
        },
        {
          "output_type": "stream",
          "name": "stdout",
          "text": [
            "[XGB] Class 02 fold 1: pos=12 neg=155 spw=12.92 best_iter=28 | 0.34s\n"
          ]
        },
        {
          "output_type": "stream",
          "name": "stdout",
          "text": [
            "[XGB] Class 02 fold 2 shapes: X_tr=(175, 113) X_va=(83, 113)\n"
          ]
        },
        {
          "output_type": "stream",
          "name": "stdout",
          "text": [
            "[0]\tvalid-auc:0.74231\n"
          ]
        },
        {
          "output_type": "stream",
          "name": "stdout",
          "text": [
            "[100]\tvalid-auc:0.47949\n"
          ]
        },
        {
          "output_type": "stream",
          "name": "stdout",
          "text": [
            "[200]\tvalid-auc:0.48718\n"
          ]
        },
        {
          "output_type": "stream",
          "name": "stdout",
          "text": [
            "[201]\tvalid-auc:0.48718\n"
          ]
        },
        {
          "output_type": "stream",
          "name": "stdout",
          "text": [
            "[XGB] Class 02 fold 2: pos=14 neg=161 spw=11.50 best_iter=2 | 0.28s\n"
          ]
        },
        {
          "output_type": "stream",
          "name": "stdout",
          "text": [
            "[XGB] Class 02 fold 3 shapes: X_tr=(174, 113) X_va=(84, 113)\n"
          ]
        },
        {
          "output_type": "stream",
          "name": "stdout",
          "text": [
            "[0]\tvalid-auc:0.59555\n"
          ]
        },
        {
          "output_type": "stream",
          "name": "stdout",
          "text": [
            "[100]\tvalid-auc:0.68089\n"
          ]
        },
        {
          "output_type": "stream",
          "name": "stdout",
          "text": [
            "[200]\tvalid-auc:0.71429\n"
          ]
        },
        {
          "output_type": "stream",
          "name": "stdout",
          "text": [
            "[300]\tvalid-auc:0.70965\n"
          ]
        },
        {
          "output_type": "stream",
          "name": "stdout",
          "text": [
            "[363]\tvalid-auc:0.70594\n"
          ]
        },
        {
          "output_type": "stream",
          "name": "stdout",
          "text": [
            "[XGB] Class 02 fold 3: pos=12 neg=162 spw=13.50 best_iter=163 | 0.42s\n"
          ]
        },
        {
          "output_type": "stream",
          "name": "stdout",
          "text": [
            "[XGB] Class 03 fold 1 shapes: X_tr=(167, 113) X_va=(91, 113)\n"
          ]
        },
        {
          "output_type": "stream",
          "name": "stdout",
          "text": [
            "[XGB] Class 03 fold 1: degenerate -> const 0.0155 | 0.02s\n"
          ]
        },
        {
          "output_type": "stream",
          "name": "stdout",
          "text": [
            "[XGB] Class 03 fold 2 shapes: X_tr=(175, 113) X_va=(83, 113)\n"
          ]
        },
        {
          "output_type": "stream",
          "name": "stdout",
          "text": [
            "[XGB] Class 03 fold 2: degenerate -> const 0.0155 | 0.01s\n"
          ]
        },
        {
          "output_type": "stream",
          "name": "stdout",
          "text": [
            "[XGB] Class 03 fold 3 shapes: X_tr=(174, 113) X_va=(84, 113)\n"
          ]
        },
        {
          "output_type": "stream",
          "name": "stdout",
          "text": [
            "[XGB] Class 03 fold 3: degenerate -> const 0.0155 | 0.01s\n"
          ]
        },
        {
          "output_type": "stream",
          "name": "stdout",
          "text": [
            "[XGB] Class 04 fold 1 shapes: X_tr=(167, 113) X_va=(91, 113)\n"
          ]
        },
        {
          "output_type": "stream",
          "name": "stdout",
          "text": [
            "[0]\tvalid-auc:0.50000\n"
          ]
        },
        {
          "output_type": "stream",
          "name": "stdout",
          "text": [
            "[100]\tvalid-auc:0.95556\n"
          ]
        },
        {
          "output_type": "stream",
          "name": "stdout",
          "text": [
            "[200]\tvalid-auc:0.94444\n"
          ]
        },
        {
          "output_type": "stream",
          "name": "stdout",
          "text": [
            "[222]\tvalid-auc:0.94444\n"
          ]
        },
        {
          "output_type": "stream",
          "name": "stdout",
          "text": [
            "[XGB] Class 04 fold 1: pos=8 neg=159 spw=19.88 best_iter=22 | 0.28s\n"
          ]
        },
        {
          "output_type": "stream",
          "name": "stdout",
          "text": [
            "[XGB] Class 04 fold 2 shapes: X_tr=(175, 113) X_va=(83, 113)\n"
          ]
        },
        {
          "output_type": "stream",
          "name": "stdout",
          "text": [
            "[0]\tvalid-auc:0.49624\n"
          ]
        },
        {
          "output_type": "stream",
          "name": "stdout",
          "text": [
            "[100]\tvalid-auc:0.68609\n"
          ]
        },
        {
          "output_type": "stream",
          "name": "stdout",
          "text": [
            "[200]\tvalid-auc:0.66541\n"
          ]
        },
        {
          "output_type": "stream",
          "name": "stdout",
          "text": [
            "[269]\tvalid-auc:0.67669\n"
          ]
        },
        {
          "output_type": "stream",
          "name": "stdout",
          "text": [
            "[XGB] Class 04 fold 2: pos=2 neg=173 spw=86.50 best_iter=69 | 0.34s\n"
          ]
        },
        {
          "output_type": "stream",
          "name": "stdout",
          "text": [
            "[XGB] Class 04 fold 3 shapes: X_tr=(174, 113) X_va=(84, 113)\n"
          ]
        },
        {
          "output_type": "stream",
          "name": "stdout",
          "text": [
            "[0]\tvalid-auc:0.38554\n"
          ]
        },
        {
          "output_type": "stream",
          "name": "stdout",
          "text": [
            "[100]\tvalid-auc:0.03012\n"
          ]
        },
        {
          "output_type": "stream",
          "name": "stdout",
          "text": [
            "[199]\tvalid-auc:0.09639\n"
          ]
        },
        {
          "output_type": "stream",
          "name": "stdout",
          "text": [
            "[XGB] Class 04 fold 3: pos=8 neg=166 spw=20.75 best_iter=0 | 0.28s\n"
          ]
        },
        {
          "output_type": "stream",
          "name": "stdout",
          "text": [
            "[XGB] Class 05 fold 1 shapes: X_tr=(167, 113) X_va=(91, 113)\n"
          ]
        },
        {
          "output_type": "stream",
          "name": "stdout",
          "text": [
            "[0]\tvalid-auc:0.48315\n"
          ]
        },
        {
          "output_type": "stream",
          "name": "stdout",
          "text": [
            "[100]\tvalid-auc:0.58708\n"
          ]
        },
        {
          "output_type": "stream",
          "name": "stdout",
          "text": [
            "[200]\tvalid-auc:0.57022\n"
          ]
        },
        {
          "output_type": "stream",
          "name": "stdout",
          "text": [
            "[208]\tvalid-auc:0.57584\n"
          ]
        },
        {
          "output_type": "stream",
          "name": "stdout",
          "text": [
            "[XGB] Class 05 fold 1: pos=3 neg=164 spw=54.67 best_iter=8 | 0.28s\n"
          ]
        },
        {
          "output_type": "stream",
          "name": "stdout",
          "text": [
            "[XGB] Class 05 fold 2 shapes: X_tr=(175, 113) X_va=(83, 113)\n"
          ]
        },
        {
          "output_type": "stream",
          "name": "stdout",
          "text": [
            "[0]\tvalid-auc:0.50000\n"
          ]
        },
        {
          "output_type": "stream",
          "name": "stdout",
          "text": [
            "[100]\tvalid-auc:1.00000\n"
          ]
        },
        {
          "output_type": "stream",
          "name": "stdout",
          "text": [
            "[200]\tvalid-auc:1.00000\n"
          ]
        },
        {
          "output_type": "stream",
          "name": "stdout",
          "text": [
            "[297]\tvalid-auc:1.00000\n"
          ]
        },
        {
          "output_type": "stream",
          "name": "stdout",
          "text": [
            "[XGB] Class 05 fold 2: pos=4 neg=171 spw=42.75 best_iter=97 | 0.40s\n"
          ]
        },
        {
          "output_type": "stream",
          "name": "stdout",
          "text": [
            "[XGB] Class 05 fold 3 shapes: X_tr=(174, 113) X_va=(84, 113)\n"
          ]
        },
        {
          "output_type": "stream",
          "name": "stdout",
          "text": [
            "[0]\tvalid-auc:0.68293\n"
          ]
        },
        {
          "output_type": "stream",
          "name": "stdout",
          "text": [
            "[100]\tvalid-auc:0.79878\n"
          ]
        },
        {
          "output_type": "stream",
          "name": "stdout",
          "text": [
            "[200]\tvalid-auc:0.78659\n"
          ]
        },
        {
          "output_type": "stream",
          "name": "stdout",
          "text": [
            "[249]\tvalid-auc:0.79268\n"
          ]
        },
        {
          "output_type": "stream",
          "name": "stdout",
          "text": [
            "[XGB] Class 05 fold 3: pos=3 neg=171 spw=57.00 best_iter=50 | 0.35s\n"
          ]
        },
        {
          "output_type": "stream",
          "name": "stdout",
          "text": [
            "[XGB] Class 06 fold 1 shapes: X_tr=(167, 113) X_va=(91, 113)\n"
          ]
        },
        {
          "output_type": "stream",
          "name": "stdout",
          "text": [
            "[0]\tvalid-auc:0.46111\n"
          ]
        },
        {
          "output_type": "stream",
          "name": "stdout",
          "text": [
            "[100]\tvalid-auc:0.14444\n"
          ]
        },
        {
          "output_type": "stream",
          "name": "stdout",
          "text": [
            "[200]\tvalid-auc:0.24444\n"
          ]
        },
        {
          "output_type": "stream",
          "name": "stdout",
          "text": [
            "[XGB] Class 06 fold 1: pos=18 neg=149 spw=8.28 best_iter=0 | 0.36s\n"
          ]
        },
        {
          "output_type": "stream",
          "name": "stdout",
          "text": [
            "[XGB] Class 06 fold 2 shapes: X_tr=(175, 113) X_va=(83, 113)\n"
          ]
        },
        {
          "output_type": "stream",
          "name": "stdout",
          "text": [
            "[0]\tvalid-auc:0.56006\n"
          ]
        },
        {
          "output_type": "stream",
          "name": "stdout",
          "text": [
            "[100]\tvalid-auc:0.65916\n"
          ]
        },
        {
          "output_type": "stream",
          "name": "stdout",
          "text": [
            "[200]\tvalid-auc:0.55255\n"
          ]
        },
        {
          "output_type": "stream",
          "name": "stdout",
          "text": [
            "[300]\tvalid-auc:0.55856\n"
          ]
        },
        {
          "output_type": "stream",
          "name": "stdout",
          "text": [
            "[314]\tvalid-auc:0.55706\n"
          ]
        },
        {
          "output_type": "stream",
          "name": "stdout",
          "text": [
            "[XGB] Class 06 fold 2: pos=10 neg=165 spw=16.50 best_iter=115 | 0.36s\n"
          ]
        },
        {
          "output_type": "stream",
          "name": "stdout",
          "text": [
            "[XGB] Class 06 fold 3 shapes: X_tr=(174, 113) X_va=(84, 113)\n"
          ]
        },
        {
          "output_type": "stream",
          "name": "stdout",
          "text": [
            "[0]\tvalid-auc:0.70667\n"
          ]
        },
        {
          "output_type": "stream",
          "name": "stdout",
          "text": [
            "[100]\tvalid-auc:0.74222\n"
          ]
        },
        {
          "output_type": "stream",
          "name": "stdout",
          "text": [
            "[200]\tvalid-auc:0.75556\n"
          ]
        },
        {
          "output_type": "stream",
          "name": "stdout",
          "text": [
            "[300]\tvalid-auc:0.75259\n"
          ]
        },
        {
          "output_type": "stream",
          "name": "stdout",
          "text": [
            "[400]\tvalid-auc:0.80741\n"
          ]
        },
        {
          "output_type": "stream",
          "name": "stdout",
          "text": [
            "[500]\tvalid-auc:0.80148\n"
          ]
        },
        {
          "output_type": "stream",
          "name": "stdout",
          "text": [
            "[558]\tvalid-auc:0.79852\n"
          ]
        },
        {
          "output_type": "stream",
          "name": "stdout",
          "text": [
            "[XGB] Class 06 fold 3: pos=10 neg=164 spw=16.40 best_iter=358 | 0.59s\n"
          ]
        },
        {
          "output_type": "stream",
          "name": "stdout",
          "text": [
            "[XGB] Class 07 fold 1 shapes: X_tr=(167, 113) X_va=(91, 113)\n"
          ]
        },
        {
          "output_type": "stream",
          "name": "stdout",
          "text": [
            "[0]\tvalid-auc:0.50000\n"
          ]
        },
        {
          "output_type": "stream",
          "name": "stdout",
          "text": [
            "[100]\tvalid-auc:0.17169\n"
          ]
        },
        {
          "output_type": "stream",
          "name": "stdout",
          "text": [
            "[200]\tvalid-auc:0.17470\n"
          ]
        },
        {
          "output_type": "stream",
          "name": "stdout",
          "text": [
            "[201]\tvalid-auc:0.17470\n"
          ]
        },
        {
          "output_type": "stream",
          "name": "stdout",
          "text": [
            "[XGB] Class 07 fold 1: pos=11 neg=156 spw=14.18 best_iter=1 | 0.29s\n"
          ]
        },
        {
          "output_type": "stream",
          "name": "stdout",
          "text": [
            "[XGB] Class 07 fold 2 shapes: X_tr=(175, 113) X_va=(83, 113)\n"
          ]
        },
        {
          "output_type": "stream",
          "name": "stdout",
          "text": [
            "[0]\tvalid-auc:0.42692\n"
          ]
        },
        {
          "output_type": "stream",
          "name": "stdout",
          "text": [
            "[100]\tvalid-auc:0.40128\n"
          ]
        },
        {
          "output_type": "stream",
          "name": "stdout",
          "text": [
            "[200]\tvalid-auc:0.42179\n"
          ]
        },
        {
          "output_type": "stream",
          "name": "stdout",
          "text": [
            "[203]\tvalid-auc:0.42179\n"
          ]
        },
        {
          "output_type": "stream",
          "name": "stdout",
          "text": [
            "[XGB] Class 07 fold 2: pos=14 neg=161 spw=11.50 best_iter=3 | 0.29s\n"
          ]
        },
        {
          "output_type": "stream",
          "name": "stdout",
          "text": [
            "[XGB] Class 07 fold 3 shapes: X_tr=(174, 113) X_va=(84, 113)\n"
          ]
        },
        {
          "output_type": "stream",
          "name": "stdout",
          "text": [
            "[0]\tvalid-auc:0.46795\n"
          ]
        },
        {
          "output_type": "stream",
          "name": "stdout",
          "text": [
            "[100]\tvalid-auc:0.28419\n"
          ]
        },
        {
          "output_type": "stream",
          "name": "stdout",
          "text": [
            "[199]\tvalid-auc:0.26496\n"
          ]
        },
        {
          "output_type": "stream",
          "name": "stdout",
          "text": [
            "[XGB] Class 07 fold 3: pos=13 neg=161 spw=12.38 best_iter=0 | 0.31s\n"
          ]
        },
        {
          "output_type": "stream",
          "name": "stdout",
          "text": [
            "[XGB] Class 08 fold 1 shapes: X_tr=(167, 113) X_va=(91, 113)\n"
          ]
        },
        {
          "output_type": "stream",
          "name": "stdout",
          "text": [
            "[0]\tvalid-auc:0.60038\n"
          ]
        },
        {
          "output_type": "stream",
          "name": "stdout",
          "text": [
            "[100]\tvalid-auc:0.46212\n"
          ]
        },
        {
          "output_type": "stream",
          "name": "stdout",
          "text": [
            "[200]\tvalid-auc:0.67045\n"
          ]
        },
        {
          "output_type": "stream",
          "name": "stdout",
          "text": [
            "[202]\tvalid-auc:0.67424\n"
          ]
        },
        {
          "output_type": "stream",
          "name": "stdout",
          "text": [
            "[XGB] Class 08 fold 1: pos=21 neg=146 spw=6.95 best_iter=2 | 0.31s\n"
          ]
        },
        {
          "output_type": "stream",
          "name": "stdout",
          "text": [
            "[XGB] Class 08 fold 2 shapes: X_tr=(175, 113) X_va=(83, 113)\n"
          ]
        },
        {
          "output_type": "stream",
          "name": "stdout",
          "text": [
            "[0]\tvalid-auc:0.82808\n"
          ]
        },
        {
          "output_type": "stream",
          "name": "stdout",
          "text": [
            "[100]\tvalid-auc:0.80753\n"
          ]
        },
        {
          "output_type": "stream",
          "name": "stdout",
          "text": [
            "[200]\tvalid-auc:0.81438\n"
          ]
        },
        {
          "output_type": "stream",
          "name": "stdout",
          "text": [
            "[XGB] Class 08 fold 2: pos=14 neg=161 spw=11.50 best_iter=0 | 0.31s\n"
          ]
        },
        {
          "output_type": "stream",
          "name": "stdout",
          "text": [
            "[XGB] Class 08 fold 3 shapes: X_tr=(174, 113) X_va=(84, 113)\n"
          ]
        },
        {
          "output_type": "stream",
          "name": "stdout",
          "text": [
            "[0]\tvalid-auc:0.74471\n"
          ]
        },
        {
          "output_type": "stream",
          "name": "stdout",
          "text": [
            "[100]\tvalid-auc:0.67621\n"
          ]
        },
        {
          "output_type": "stream",
          "name": "stdout",
          "text": [
            "[200]\tvalid-auc:0.45205\n"
          ]
        },
        {
          "output_type": "stream",
          "name": "stdout",
          "text": [
            "[XGB] Class 08 fold 3: pos=13 neg=161 spw=12.38 best_iter=1 | 0.35s\n"
          ]
        },
        {
          "output_type": "stream",
          "name": "stdout",
          "text": [
            "[XGB] Class 09 fold 1 shapes: X_tr=(167, 113) X_va=(91, 113)\n"
          ]
        },
        {
          "output_type": "stream",
          "name": "stdout",
          "text": [
            "[0]\tvalid-auc:0.57008\n"
          ]
        },
        {
          "output_type": "stream",
          "name": "stdout",
          "text": [
            "[100]\tvalid-auc:0.42045\n"
          ]
        },
        {
          "output_type": "stream",
          "name": "stdout",
          "text": [
            "[200]\tvalid-auc:0.43182\n"
          ]
        },
        {
          "output_type": "stream",
          "name": "stdout",
          "text": [
            "[208]\tvalid-auc:0.43182\n"
          ]
        },
        {
          "output_type": "stream",
          "name": "stdout",
          "text": [
            "[XGB] Class 09 fold 1: pos=18 neg=149 spw=8.28 best_iter=8 | 0.35s\n"
          ]
        },
        {
          "output_type": "stream",
          "name": "stdout",
          "text": [
            "[XGB] Class 09 fold 2 shapes: X_tr=(175, 113) X_va=(83, 113)\n"
          ]
        },
        {
          "output_type": "stream",
          "name": "stdout",
          "text": [
            "[0]\tvalid-auc:0.53699\n"
          ]
        },
        {
          "output_type": "stream",
          "name": "stdout",
          "text": [
            "[100]\tvalid-auc:0.71781\n"
          ]
        },
        {
          "output_type": "stream",
          "name": "stdout",
          "text": [
            "[200]\tvalid-auc:0.74521\n"
          ]
        },
        {
          "output_type": "stream",
          "name": "stdout",
          "text": [
            "[300]\tvalid-auc:0.75753\n"
          ]
        },
        {
          "output_type": "stream",
          "name": "stdout",
          "text": [
            "[400]\tvalid-auc:0.76438\n"
          ]
        },
        {
          "output_type": "stream",
          "name": "stdout",
          "text": [
            "[500]\tvalid-auc:0.76712\n"
          ]
        },
        {
          "output_type": "stream",
          "name": "stdout",
          "text": [
            "[600]\tvalid-auc:0.77260\n"
          ]
        },
        {
          "output_type": "stream",
          "name": "stdout",
          "text": [
            "[700]\tvalid-auc:0.77123\n"
          ]
        },
        {
          "output_type": "stream",
          "name": "stdout",
          "text": [
            "[800]\tvalid-auc:0.76575\n"
          ]
        },
        {
          "output_type": "stream",
          "name": "stdout",
          "text": [
            "[808]\tvalid-auc:0.76438\n"
          ]
        },
        {
          "output_type": "stream",
          "name": "stdout",
          "text": [
            "[XGB] Class 09 fold 2: pos=11 neg=164 spw=14.91 best_iter=608 | 0.70s\n"
          ]
        },
        {
          "output_type": "stream",
          "name": "stdout",
          "text": [
            "[XGB] Class 09 fold 3 shapes: X_tr=(174, 113) X_va=(84, 113)\n"
          ]
        },
        {
          "output_type": "stream",
          "name": "stdout",
          "text": [
            "[0]\tvalid-auc:0.62253\n"
          ]
        },
        {
          "output_type": "stream",
          "name": "stdout",
          "text": [
            "[100]\tvalid-auc:0.66118\n"
          ]
        },
        {
          "output_type": "stream",
          "name": "stdout",
          "text": [
            "[200]\tvalid-auc:0.65954\n"
          ]
        },
        {
          "output_type": "stream",
          "name": "stdout",
          "text": [
            "[300]\tvalid-auc:0.65789\n"
          ]
        },
        {
          "output_type": "stream",
          "name": "stdout",
          "text": [
            "[366]\tvalid-auc:0.58882\n"
          ]
        },
        {
          "output_type": "stream",
          "name": "stdout",
          "text": [
            "[XGB] Class 09 fold 3: pos=13 neg=161 spw=12.38 best_iter=166 | 0.50s\n"
          ]
        },
        {
          "output_type": "stream",
          "name": "stdout",
          "text": [
            "[XGB] Class 10 fold 1 shapes: X_tr=(167, 113) X_va=(91, 113)\n"
          ]
        },
        {
          "output_type": "stream",
          "name": "stdout",
          "text": [
            "[0]\tvalid-auc:0.66464\n"
          ]
        },
        {
          "output_type": "stream",
          "name": "stdout",
          "text": [
            "[100]\tvalid-auc:0.65793\n"
          ]
        },
        {
          "output_type": "stream",
          "name": "stdout",
          "text": [
            "[200]\tvalid-auc:0.62020\n"
          ]
        },
        {
          "output_type": "stream",
          "name": "stdout",
          "text": [
            "[202]\tvalid-auc:0.62084\n"
          ]
        },
        {
          "output_type": "stream",
          "name": "stdout",
          "text": [
            "[XGB] Class 10 fold 1: pos=26 neg=141 spw=5.42 best_iter=3 | 0.32s\n"
          ]
        },
        {
          "output_type": "stream",
          "name": "stdout",
          "text": [
            "[XGB] Class 10 fold 2 shapes: X_tr=(175, 113) X_va=(83, 113)\n"
          ]
        },
        {
          "output_type": "stream",
          "name": "stdout",
          "text": [
            "[0]\tvalid-auc:0.48422\n"
          ]
        },
        {
          "output_type": "stream",
          "name": "stdout",
          "text": [
            "[100]\tvalid-auc:0.60669\n"
          ]
        },
        {
          "output_type": "stream",
          "name": "stdout",
          "text": [
            "[200]\tvalid-auc:0.54230\n"
          ]
        },
        {
          "output_type": "stream",
          "name": "stdout",
          "text": [
            "[300]\tvalid-auc:0.54609\n"
          ]
        },
        {
          "output_type": "stream",
          "name": "stdout",
          "text": [
            "[324]\tvalid-auc:0.53977\n"
          ]
        },
        {
          "output_type": "stream",
          "name": "stdout",
          "text": [
            "[XGB] Class 10 fold 2: pos=38 neg=137 spw=3.61 best_iter=125 | 0.41s\n"
          ]
        },
        {
          "output_type": "stream",
          "name": "stdout",
          "text": [
            "[XGB] Class 10 fold 3 shapes: X_tr=(174, 113) X_va=(84, 113)\n"
          ]
        },
        {
          "output_type": "stream",
          "name": "stdout",
          "text": [
            "[0]\tvalid-auc:0.26667\n"
          ]
        },
        {
          "output_type": "stream",
          "name": "stdout",
          "text": [
            "[100]\tvalid-auc:0.83140\n"
          ]
        },
        {
          "output_type": "stream",
          "name": "stdout",
          "text": [
            "[200]\tvalid-auc:0.83575\n"
          ]
        },
        {
          "output_type": "stream",
          "name": "stdout",
          "text": [
            "[291]\tvalid-auc:0.83865"
          ]
        },
        {
          "output_type": "stream",
          "name": "stdout",
          "text": [
            "\n"
          ]
        },
        {
          "output_type": "stream",
          "name": "stdout",
          "text": [
            "[XGB] Class 10 fold 3: pos=34 neg=140 spw=4.12 best_iter=91 | 0.36s\n"
          ]
        },
        {
          "output_type": "stream",
          "name": "stdout",
          "text": [
            "[XGB] Class 11 fold 1 shapes: X_tr=(167, 113) X_va=(91, 113)\n"
          ]
        },
        {
          "output_type": "stream",
          "name": "stdout",
          "text": [
            "[0]\tvalid-auc:0.50000\n"
          ]
        },
        {
          "output_type": "stream",
          "name": "stdout",
          "text": [
            "[100]\tvalid-auc:0.59079\n"
          ]
        },
        {
          "output_type": "stream",
          "name": "stdout",
          "text": [
            "[200]\tvalid-auc:0.57182\n"
          ]
        },
        {
          "output_type": "stream",
          "name": "stdout",
          "text": [
            "[286]\tvalid-auc:0.57182\n"
          ]
        },
        {
          "output_type": "stream",
          "name": "stdout",
          "text": [
            "[XGB] Class 11 fold 1: pos=1 neg=166 spw=166.00 best_iter=86 | 0.36s\n"
          ]
        },
        {
          "output_type": "stream",
          "name": "stdout",
          "text": [
            "[XGB] Class 11 fold 2 shapes: X_tr=(175, 113) X_va=(83, 113)\n"
          ]
        },
        {
          "output_type": "stream",
          "name": "stdout",
          "text": [
            "[XGB] Class 11 fold 2: degenerate -> const 0.0388 | 0.03s\n"
          ]
        },
        {
          "output_type": "stream",
          "name": "stdout",
          "text": [
            "[XGB] Class 11 fold 3 shapes: X_tr=(174, 113) X_va=(84, 113)\n"
          ]
        },
        {
          "output_type": "stream",
          "name": "stdout",
          "text": [
            "[0]\tvalid-auc:0.50000\n"
          ]
        },
        {
          "output_type": "stream",
          "name": "stdout",
          "text": [
            "[100]\tvalid-auc:0.40964\n"
          ]
        },
        {
          "output_type": "stream",
          "name": "stdout",
          "text": [
            "[200]\tvalid-auc:0.40964\n"
          ]
        },
        {
          "output_type": "stream",
          "name": "stdout",
          "text": [
            "[206]\tvalid-auc:0.40964\n"
          ]
        },
        {
          "output_type": "stream",
          "name": "stdout",
          "text": [
            "[XGB] Class 11 fold 3: pos=9 neg=165 spw=18.33 best_iter=6 | 0.30s\n"
          ]
        },
        {
          "output_type": "stream",
          "name": "stdout",
          "text": [
            "[XGB] Class 12 fold 1 shapes: X_tr=(167, 113) X_va=(91, 113)\n"
          ]
        },
        {
          "output_type": "stream",
          "name": "stdout",
          "text": [
            "[0]\tvalid-auc:0.48837\n"
          ]
        },
        {
          "output_type": "stream",
          "name": "stdout",
          "text": [
            "[100]\tvalid-auc:0.40465\n"
          ]
        },
        {
          "output_type": "stream",
          "name": "stdout",
          "text": [
            "[199]\tvalid-auc:0.42093\n"
          ]
        },
        {
          "output_type": "stream",
          "name": "stdout",
          "text": [
            "[XGB] Class 12 fold 1: pos=7 neg=160 spw=22.86 best_iter=0 | 0.31s\n"
          ]
        },
        {
          "output_type": "stream",
          "name": "stdout",
          "text": [
            "[XGB] Class 12 fold 2 shapes: X_tr=(175, 113) X_va=(83, 113)\n"
          ]
        },
        {
          "output_type": "stream",
          "name": "stdout",
          "text": [
            "[0]\tvalid-auc:0.98125\n"
          ]
        },
        {
          "output_type": "stream",
          "name": "stdout",
          "text": [
            "[100]\tvalid-auc:0.97500\n"
          ]
        },
        {
          "output_type": "stream",
          "name": "stdout",
          "text": [
            "[200]\tvalid-auc:0.98333\n"
          ]
        },
        {
          "output_type": "stream",
          "name": "stdout",
          "text": [
            "[300]\tvalid-auc:0.98750\n"
          ]
        },
        {
          "output_type": "stream",
          "name": "stdout",
          "text": [
            "[400]\tvalid-auc:0.98750\n"
          ]
        },
        {
          "output_type": "stream",
          "name": "stdout",
          "text": [
            "[483]\tvalid-auc:0.98750\n"
          ]
        },
        {
          "output_type": "stream",
          "name": "stdout",
          "text": [
            "[XGB] Class 12 fold 2: pos=9 neg=166 spw=18.44 best_iter=283 | 0.48s\n"
          ]
        },
        {
          "output_type": "stream",
          "name": "stdout",
          "text": [
            "[XGB] Class 12 fold 3 shapes: X_tr=(174, 113) X_va=(84, 113)\n"
          ]
        },
        {
          "output_type": "stream",
          "name": "stdout",
          "text": [
            "[0]\tvalid-auc:0.85938\n"
          ]
        },
        {
          "output_type": "stream",
          "name": "stdout",
          "text": [
            "[100]\tvalid-auc:0.91875\n"
          ]
        },
        {
          "output_type": "stream",
          "name": "stdout",
          "text": [
            "[200]\tvalid-auc:0.92188\n"
          ]
        },
        {
          "output_type": "stream",
          "name": "stdout",
          "text": [
            "[300]\tvalid-auc:0.92188\n"
          ]
        },
        {
          "output_type": "stream",
          "name": "stdout",
          "text": [
            "[396]\tvalid-auc:0.92188\n"
          ]
        },
        {
          "output_type": "stream",
          "name": "stdout",
          "text": [
            "[XGB] Class 12 fold 3: pos=8 neg=166 spw=20.75 best_iter=197 | 0.43s\n"
          ]
        },
        {
          "output_type": "stream",
          "name": "stdout",
          "text": [
            "[XGB] Class 13 fold 1 shapes: X_tr=(167, 113) X_va=(91, 113)\n"
          ]
        },
        {
          "output_type": "stream",
          "name": "stdout",
          "text": [
            "[XGB] Class 13 fold 1: degenerate -> const 0.0155 | 0.02s\n"
          ]
        },
        {
          "output_type": "stream",
          "name": "stdout",
          "text": [
            "[XGB] Class 13 fold 2 shapes: X_tr=(175, 113) X_va=(83, 113)\n"
          ]
        },
        {
          "output_type": "stream",
          "name": "stdout",
          "text": [
            "[XGB] Class 13 fold 2: degenerate -> const 0.0155 | 0.01s\n"
          ]
        },
        {
          "output_type": "stream",
          "name": "stdout",
          "text": [
            "[XGB] Class 13 fold 3 shapes: X_tr=(174, 113) X_va=(84, 113)\n"
          ]
        },
        {
          "output_type": "stream",
          "name": "stdout",
          "text": [
            "[XGB] Class 13 fold 3: degenerate -> const 0.0155 | 0.01s\n"
          ]
        },
        {
          "output_type": "stream",
          "name": "stdout",
          "text": [
            "[XGB] Class 14 fold 1 shapes: X_tr=(167, 113) X_va=(91, 113)\n"
          ]
        },
        {
          "output_type": "stream",
          "name": "stdout",
          "text": [
            "[0]\tvalid-auc:0.77528\n"
          ]
        },
        {
          "output_type": "stream",
          "name": "stdout",
          "text": [
            "[100]\tvalid-auc:0.79213\n"
          ]
        },
        {
          "output_type": "stream",
          "name": "stdout",
          "text": [
            "[200]\tvalid-auc:0.49438\n"
          ]
        },
        {
          "output_type": "stream",
          "name": "stdout",
          "text": [
            "[209]\tvalid-auc:0.49438\n"
          ]
        },
        {
          "output_type": "stream",
          "name": "stdout",
          "text": [
            "[XGB] Class 14 fold 1: pos=14 neg=153 spw=10.93 best_iter=9 | 0.27s\n"
          ]
        },
        {
          "output_type": "stream",
          "name": "stdout",
          "text": [
            "[XGB] Class 14 fold 2 shapes: X_tr=(175, 113) X_va=(83, 113)\n"
          ]
        },
        {
          "output_type": "stream",
          "name": "stdout",
          "text": [
            "[0]\tvalid-auc:0.52146\n"
          ]
        },
        {
          "output_type": "stream",
          "name": "stdout",
          "text": [
            "[100]\tvalid-auc:0.71780\n"
          ]
        },
        {
          "output_type": "stream",
          "name": "stdout",
          "text": [
            "[200]\tvalid-auc:0.68119\n"
          ]
        },
        {
          "output_type": "stream",
          "name": "stdout",
          "text": [
            "[282]\tvalid-auc:0.67551\n"
          ]
        },
        {
          "output_type": "stream",
          "name": "stdout",
          "text": [
            "[XGB] Class 14 fold 2: pos=5 neg=170 spw=34.00 best_iter=82 | 0.40s\n"
          ]
        },
        {
          "output_type": "stream",
          "name": "stdout",
          "text": [
            "[XGB] Class 14 fold 3 shapes: X_tr=(174, 113) X_va=(84, 113)\n"
          ]
        },
        {
          "output_type": "stream",
          "name": "stdout",
          "text": [
            "[0]\tvalid-auc:0.50000\n"
          ]
        },
        {
          "output_type": "stream",
          "name": "stdout",
          "text": [
            "[100]\tvalid-auc:0.79424\n"
          ]
        },
        {
          "output_type": "stream",
          "name": "stdout",
          "text": [
            "[200]\tvalid-auc:0.60494\n"
          ]
        },
        {
          "output_type": "stream",
          "name": "stdout",
          "text": [
            "[300]\tvalid-auc:0.79835\n"
          ]
        },
        {
          "output_type": "stream",
          "name": "stdout",
          "text": [
            "[400]\tvalid-auc:0.79835\n"
          ]
        },
        {
          "output_type": "stream",
          "name": "stdout",
          "text": [
            "[500]\tvalid-auc:0.79835\n"
          ]
        },
        {
          "output_type": "stream",
          "name": "stdout",
          "text": [
            "[540]\tvalid-auc:0.79835\n"
          ]
        },
        {
          "output_type": "stream",
          "name": "stdout",
          "text": [
            "[XGB] Class 14 fold 3: pos=13 neg=161 spw=12.38 best_iter=340 | 0.58s\n"
          ]
        },
        {
          "output_type": "stream",
          "name": "stdout",
          "text": [
            "[XGB] Class 15 fold 1 shapes: X_tr=(167, 113) X_va=(91, 113)\n"
          ]
        },
        {
          "output_type": "stream",
          "name": "stdout",
          "text": [
            "[0]\tvalid-auc:0.90000\n"
          ]
        },
        {
          "output_type": "stream",
          "name": "stdout",
          "text": [
            "[100]\tvalid-auc:0.93333\n"
          ]
        },
        {
          "output_type": "stream",
          "name": "stdout",
          "text": [
            "[200]\tvalid-auc:0.93333\n"
          ]
        },
        {
          "output_type": "stream",
          "name": "stdout",
          "text": [
            "[202]\tvalid-auc:0.93333\n"
          ]
        },
        {
          "output_type": "stream",
          "name": "stdout",
          "text": [
            "[XGB] Class 15 fold 1: pos=5 neg=162 spw=32.40 best_iter=2 | 0.38s\n"
          ]
        },
        {
          "output_type": "stream",
          "name": "stdout",
          "text": [
            "[XGB] Class 15 fold 2 shapes: X_tr=(175, 113) X_va=(83, 113)\n"
          ]
        },
        {
          "output_type": "stream",
          "name": "stdout",
          "text": [
            "[0]\tvalid-auc:0.50000\n"
          ]
        },
        {
          "output_type": "stream",
          "name": "stdout",
          "text": [
            "[100]\tvalid-auc:0.59487\n"
          ]
        },
        {
          "output_type": "stream",
          "name": "stdout",
          "text": [
            "[200]\tvalid-auc:0.66795\n"
          ]
        },
        {
          "output_type": "stream",
          "name": "stdout",
          "text": [
            "[300]\tvalid-auc:0.66923\n"
          ]
        },
        {
          "output_type": "stream",
          "name": "stdout",
          "text": [
            "[400]\tvalid-auc:0.75513\n"
          ]
        },
        {
          "output_type": "stream",
          "name": "stdout",
          "text": [
            "[500]\tvalid-auc:0.75256\n"
          ]
        },
        {
          "output_type": "stream",
          "name": "stdout",
          "text": [
            "[551]\tvalid-auc:0.75256\n"
          ]
        },
        {
          "output_type": "stream",
          "name": "stdout",
          "text": [
            "[XGB] Class 15 fold 2: pos=1 neg=174 spw=174.00 best_iter=352 | 0.39s\n"
          ]
        },
        {
          "output_type": "stream",
          "name": "stdout",
          "text": [
            "[XGB] Class 15 fold 3 shapes: X_tr=(174, 113) X_va=(84, 113)\n"
          ]
        },
        {
          "output_type": "stream",
          "name": "stdout",
          "text": [
            "[XGB] Class 15 fold 3: degenerate -> const 0.0233 | 0.03s\n"
          ]
        },
        {
          "output_type": "stream",
          "name": "stdout",
          "text": [
            "[XGB] Class 16 fold 1 shapes: X_tr=(167, 113) X_va=(91, 113)"
          ]
        },
        {
          "output_type": "stream",
          "name": "stdout",
          "text": [
            "\n"
          ]
        },
        {
          "output_type": "stream",
          "name": "stdout",
          "text": [
            "[XGB] Class 16 fold 1: degenerate -> const 0.0078 | 0.01s\n"
          ]
        },
        {
          "output_type": "stream",
          "name": "stdout",
          "text": [
            "[XGB] Class 16 fold 2 shapes: X_tr=(175, 113) X_va=(83, 113)\n"
          ]
        },
        {
          "output_type": "stream",
          "name": "stdout",
          "text": [
            "[XGB] Class 16 fold 2: degenerate -> const 0.0078 | 0.01s\n"
          ]
        },
        {
          "output_type": "stream",
          "name": "stdout",
          "text": [
            "[XGB] Class 16 fold 3 shapes: X_tr=(174, 113) X_va=(84, 113)\n"
          ]
        },
        {
          "output_type": "stream",
          "name": "stdout",
          "text": [
            "[XGB] Class 16 fold 3: degenerate -> const 0.0078 | 0.01s\n"
          ]
        },
        {
          "output_type": "stream",
          "name": "stdout",
          "text": [
            "[XGB] Class 17 fold 1 shapes: X_tr=(167, 113) X_va=(91, 113)\n"
          ]
        },
        {
          "output_type": "stream",
          "name": "stdout",
          "text": [
            "[0]\tvalid-auc:0.50000\n"
          ]
        },
        {
          "output_type": "stream",
          "name": "stdout",
          "text": [
            "[100]\tvalid-auc:0.38447\n"
          ]
        },
        {
          "output_type": "stream",
          "name": "stdout",
          "text": [
            "[199]\tvalid-auc:0.36174\n"
          ]
        },
        {
          "output_type": "stream",
          "name": "stdout",
          "text": [
            "[XGB] Class 17 fold 1: pos=1 neg=166 spw=166.00 best_iter=0 | 0.27s\n"
          ]
        },
        {
          "output_type": "stream",
          "name": "stdout",
          "text": [
            "[XGB] Class 17 fold 2 shapes: X_tr=(175, 113) X_va=(83, 113)\n"
          ]
        },
        {
          "output_type": "stream",
          "name": "stdout",
          "text": [
            "[XGB] Class 17 fold 2: degenerate -> const 0.0155 | 0.03s\n"
          ]
        },
        {
          "output_type": "stream",
          "name": "stdout",
          "text": [
            "[XGB] Class 17 fold 3 shapes: X_tr=(174, 113) X_va=(84, 113)\n"
          ]
        },
        {
          "output_type": "stream",
          "name": "stdout",
          "text": [
            "[0]\tvalid-auc:0.50000\n"
          ]
        },
        {
          "output_type": "stream",
          "name": "stdout",
          "text": [
            "[100]\tvalid-auc:0.73494\n"
          ]
        },
        {
          "output_type": "stream",
          "name": "stdout",
          "text": [
            "[200]\tvalid-auc:0.73494\n"
          ]
        },
        {
          "output_type": "stream",
          "name": "stdout",
          "text": [
            "[263]\tvalid-auc:0.73494\n"
          ]
        },
        {
          "output_type": "stream",
          "name": "stdout",
          "text": [
            "[XGB] Class 17 fold 3: pos=3 neg=171 spw=57.00 best_iter=64 | 0.29s\n"
          ]
        },
        {
          "output_type": "stream",
          "name": "stdout",
          "text": [
            "[XGB] Class 18 fold 1 shapes: X_tr=(167, 113) X_va=(91, 113)\n"
          ]
        },
        {
          "output_type": "stream",
          "name": "stdout",
          "text": [
            "[0]\tvalid-auc:0.61163\n"
          ]
        },
        {
          "output_type": "stream",
          "name": "stdout",
          "text": [
            "[100]\tvalid-auc:0.78372\n"
          ]
        },
        {
          "output_type": "stream",
          "name": "stdout",
          "text": [
            "[200]\tvalid-auc:0.78140\n"
          ]
        },
        {
          "output_type": "stream",
          "name": "stdout",
          "text": [
            "[203]\tvalid-auc:0.78372\n"
          ]
        },
        {
          "output_type": "stream",
          "name": "stdout",
          "text": [
            "[XGB] Class 18 fold 1: pos=7 neg=160 spw=22.86 best_iter=4 | 0.35s\n"
          ]
        },
        {
          "output_type": "stream",
          "name": "stdout",
          "text": [
            "[XGB] Class 18 fold 2 shapes: X_tr=(175, 113) X_va=(83, 113)\n"
          ]
        },
        {
          "output_type": "stream",
          "name": "stdout",
          "text": [
            "[XGB] Class 18 fold 2: degenerate -> const 0.0465 | 0.03s\n"
          ]
        },
        {
          "output_type": "stream",
          "name": "stdout",
          "text": [
            "[XGB] Class 18 fold 3 shapes: X_tr=(174, 113) X_va=(84, 113)\n"
          ]
        },
        {
          "output_type": "stream",
          "name": "stdout",
          "text": [
            "[0]\tvalid-auc:0.63173\n"
          ]
        },
        {
          "output_type": "stream",
          "name": "stdout",
          "text": [
            "[100]\tvalid-auc:0.89610\n"
          ]
        },
        {
          "output_type": "stream",
          "name": "stdout",
          "text": [
            "[200]\tvalid-auc:0.90353\n"
          ]
        },
        {
          "output_type": "stream",
          "name": "stdout",
          "text": [
            "[202]\tvalid-auc:0.90353\n"
          ]
        },
        {
          "output_type": "stream",
          "name": "stdout",
          "text": [
            "[XGB] Class 18 fold 3: pos=5 neg=169 spw=33.80 best_iter=3 | 0.25s\n"
          ]
        },
        {
          "output_type": "stream",
          "name": "stdout",
          "text": [
            "== XGB Seed 2025 (3/3) ==\n"
          ]
        },
        {
          "output_type": "stream",
          "name": "stdout",
          "text": [
            "[XGB] Class 00 fold 1 shapes: X_tr=(167, 113) X_va=(91, 113)\n"
          ]
        },
        {
          "output_type": "stream",
          "name": "stdout",
          "text": [
            "[0]\tvalid-auc:0.73851\n"
          ]
        },
        {
          "output_type": "stream",
          "name": "stdout",
          "text": [
            "[100]\tvalid-auc:0.97126\n"
          ]
        },
        {
          "output_type": "stream",
          "name": "stdout",
          "text": [
            "[200]\tvalid-auc:0.97126\n"
          ]
        },
        {
          "output_type": "stream",
          "name": "stdout",
          "text": [
            "[300]\tvalid-auc:0.97989\n"
          ]
        },
        {
          "output_type": "stream",
          "name": "stdout",
          "text": [
            "[400]\tvalid-auc:0.97989\n"
          ]
        },
        {
          "output_type": "stream",
          "name": "stdout",
          "text": [
            "[483]\tvalid-auc:0.97989\n"
          ]
        },
        {
          "output_type": "stream",
          "name": "stdout",
          "text": [
            "[XGB] Class 00 fold 1: pos=3 neg=164 spw=54.67 best_iter=283 | 0.48s\n"
          ]
        },
        {
          "output_type": "stream",
          "name": "stdout",
          "text": [
            "[XGB] Class 00 fold 2 shapes: X_tr=(175, 113) X_va=(83, 113)\n"
          ]
        },
        {
          "output_type": "stream",
          "name": "stdout",
          "text": [
            "[0]\tvalid-auc:0.60208\n"
          ]
        },
        {
          "output_type": "stream",
          "name": "stdout",
          "text": [
            "[100]\tvalid-auc:0.87292\n"
          ]
        },
        {
          "output_type": "stream",
          "name": "stdout",
          "text": [
            "[200]\tvalid-auc:0.86458\n"
          ]
        },
        {
          "output_type": "stream",
          "name": "stdout",
          "text": [
            "[300]\tvalid-auc:0.90833\n"
          ]
        },
        {
          "output_type": "stream",
          "name": "stdout",
          "text": [
            "[400]\tvalid-auc:0.91250\n"
          ]
        },
        {
          "output_type": "stream",
          "name": "stdout",
          "text": [
            "[500]\tvalid-auc:0.89167\n"
          ]
        },
        {
          "output_type": "stream",
          "name": "stdout",
          "text": [
            "[526]\tvalid-auc:0.89583\n"
          ]
        },
        {
          "output_type": "stream",
          "name": "stdout",
          "text": [
            "[XGB] Class 00 fold 2: pos=4 neg=171 spw=42.75 best_iter=327 | 0.46s"
          ]
        },
        {
          "output_type": "stream",
          "name": "stdout",
          "text": [
            "\n"
          ]
        },
        {
          "output_type": "stream",
          "name": "stdout",
          "text": [
            "[XGB] Class 00 fold 3 shapes: X_tr=(174, 113) X_va=(84, 113)\n"
          ]
        },
        {
          "output_type": "stream",
          "name": "stdout",
          "text": [
            "[XGB] Class 00 fold 3: degenerate -> const 0.0271 | 0.02s\n"
          ]
        },
        {
          "output_type": "stream",
          "name": "stdout",
          "text": [
            "[XGB] Class 01 fold 1 shapes: X_tr=(167, 113) X_va=(91, 113)\n"
          ]
        },
        {
          "output_type": "stream",
          "name": "stdout",
          "text": [
            "[0]\tvalid-auc:0.51182\n"
          ]
        },
        {
          "output_type": "stream",
          "name": "stdout",
          "text": [
            "[100]\tvalid-auc:0.72388\n"
          ]
        },
        {
          "output_type": "stream",
          "name": "stdout",
          "text": [
            "[200]\tvalid-auc:0.71704\n"
          ]
        },
        {
          "output_type": "stream",
          "name": "stdout",
          "text": [
            "[300]\tvalid-auc:0.71393\n"
          ]
        },
        {
          "output_type": "stream",
          "name": "stdout",
          "text": [
            "[305]\tvalid-auc:0.71393\n"
          ]
        },
        {
          "output_type": "stream",
          "name": "stdout",
          "text": [
            "[XGB] Class 01 fold 1: pos=4 neg=163 spw=40.75 best_iter=105 | 0.39s\n"
          ]
        },
        {
          "output_type": "stream",
          "name": "stdout",
          "text": [
            "[XGB] Class 01 fold 2 shapes: X_tr=(175, 113) X_va=(83, 113)\n"
          ]
        },
        {
          "output_type": "stream",
          "name": "stdout",
          "text": [
            "[XGB] Class 01 fold 2: degenerate -> const 0.1085 | 0.02s\n"
          ]
        },
        {
          "output_type": "stream",
          "name": "stdout",
          "text": [
            "[XGB] Class 01 fold 3 shapes: X_tr=(174, 113) X_va=(84, 113)\n"
          ]
        },
        {
          "output_type": "stream",
          "name": "stdout",
          "text": [
            "[0]\tvalid-auc:0.70469\n"
          ]
        },
        {
          "output_type": "stream",
          "name": "stdout",
          "text": [
            "[100]\tvalid-auc:0.76250\n"
          ]
        },
        {
          "output_type": "stream",
          "name": "stdout",
          "text": [
            "[200]\tvalid-auc:0.76250\n"
          ]
        },
        {
          "output_type": "stream",
          "name": "stdout",
          "text": [
            "[249]\tvalid-auc:0.75938\n"
          ]
        },
        {
          "output_type": "stream",
          "name": "stdout",
          "text": [
            "[XGB] Class 01 fold 3: pos=24 neg=150 spw=6.25 best_iter=49 | 0.30s\n"
          ]
        },
        {
          "output_type": "stream",
          "name": "stdout",
          "text": [
            "[XGB] Class 02 fold 1 shapes: X_tr=(167, 113) X_va=(91, 113)\n"
          ]
        },
        {
          "output_type": "stream",
          "name": "stdout",
          "text": [
            "[0]\tvalid-auc:0.82568\n"
          ]
        },
        {
          "output_type": "stream",
          "name": "stdout",
          "text": [
            "[100]\tvalid-auc:0.93793\n"
          ]
        },
        {
          "output_type": "stream",
          "name": "stdout",
          "text": [
            "[200]\tvalid-auc:0.85714\n"
          ]
        },
        {
          "output_type": "stream",
          "name": "stdout",
          "text": [
            "[300]\tvalid-auc:0.85714\n"
          ]
        },
        {
          "output_type": "stream",
          "name": "stdout",
          "text": [
            "[324]\tvalid-auc:0.85544\n"
          ]
        },
        {
          "output_type": "stream",
          "name": "stdout",
          "text": [
            "[XGB] Class 02 fold 1: pos=12 neg=155 spw=12.92 best_iter=125 | 0.38s\n"
          ]
        },
        {
          "output_type": "stream",
          "name": "stdout",
          "text": [
            "[XGB] Class 02 fold 2 shapes: X_tr=(175, 113) X_va=(83, 113)\n"
          ]
        },
        {
          "output_type": "stream",
          "name": "stdout",
          "text": [
            "[0]\tvalid-auc:0.43077\n"
          ]
        },
        {
          "output_type": "stream",
          "name": "stdout",
          "text": [
            "[100]\tvalid-auc:0.46410\n"
          ]
        },
        {
          "output_type": "stream",
          "name": "stdout",
          "text": [
            "[200]\tvalid-auc:0.48718\n"
          ]
        },
        {
          "output_type": "stream",
          "name": "stdout",
          "text": [
            "[XGB] Class 02 fold 2: pos=14 neg=161 spw=11.50 best_iter=1 | 0.29s\n"
          ]
        },
        {
          "output_type": "stream",
          "name": "stdout",
          "text": [
            "[XGB] Class 02 fold 3 shapes: X_tr=(174, 113) X_va=(84, 113)\n"
          ]
        },
        {
          "output_type": "stream",
          "name": "stdout",
          "text": [
            "[0]\tvalid-auc:0.62059\n"
          ]
        },
        {
          "output_type": "stream",
          "name": "stdout",
          "text": [
            "[100]\tvalid-auc:0.67532\n"
          ]
        },
        {
          "output_type": "stream",
          "name": "stdout",
          "text": [
            "[200]\tvalid-auc:0.70315\n"
          ]
        },
        {
          "output_type": "stream",
          "name": "stdout",
          "text": [
            "[300]\tvalid-auc:0.70315\n"
          ]
        },
        {
          "output_type": "stream",
          "name": "stdout",
          "text": [
            "[400]\tvalid-auc:0.70686\n"
          ]
        },
        {
          "output_type": "stream",
          "name": "stdout",
          "text": [
            "[500]\tvalid-auc:0.71058\n"
          ]
        },
        {
          "output_type": "stream",
          "name": "stdout",
          "text": [
            "[600]\tvalid-auc:0.70872\n"
          ]
        },
        {
          "output_type": "stream",
          "name": "stdout",
          "text": [
            "[687]\tvalid-auc:0.70872\n"
          ]
        },
        {
          "output_type": "stream",
          "name": "stdout",
          "text": [
            "[XGB] Class 02 fold 3: pos=12 neg=162 spw=13.50 best_iter=487 | 0.60s\n"
          ]
        },
        {
          "output_type": "stream",
          "name": "stdout",
          "text": [
            "[XGB] Class 03 fold 1 shapes: X_tr=(167, 113) X_va=(91, 113)\n"
          ]
        },
        {
          "output_type": "stream",
          "name": "stdout",
          "text": [
            "[XGB] Class 03 fold 1: degenerate -> const 0.0155 | 0.03s\n"
          ]
        },
        {
          "output_type": "stream",
          "name": "stdout",
          "text": [
            "[XGB] Class 03 fold 2 shapes: X_tr=(175, 113) X_va=(83, 113)\n"
          ]
        },
        {
          "output_type": "stream",
          "name": "stdout",
          "text": [
            "[XGB] Class 03 fold 2: degenerate -> const 0.0155 | 0.01s\n"
          ]
        },
        {
          "output_type": "stream",
          "name": "stdout",
          "text": [
            "[XGB] Class 03 fold 3 shapes: X_tr=(174, 113) X_va=(84, 113)\n"
          ]
        },
        {
          "output_type": "stream",
          "name": "stdout",
          "text": [
            "[XGB] Class 03 fold 3: degenerate -> const 0.0155 | 0.01s\n"
          ]
        },
        {
          "output_type": "stream",
          "name": "stdout",
          "text": [
            "[XGB] Class 04 fold 1 shapes: X_tr=(167, 113) X_va=(91, 113)\n"
          ]
        },
        {
          "output_type": "stream",
          "name": "stdout",
          "text": [
            "[0]\tvalid-auc:0.30000\n"
          ]
        },
        {
          "output_type": "stream",
          "name": "stdout",
          "text": [
            "[100]\tvalid-auc:0.27778\n"
          ]
        },
        {
          "output_type": "stream",
          "name": "stdout",
          "text": [
            "[200]\tvalid-auc:0.25556\n"
          ]
        },
        {
          "output_type": "stream",
          "name": "stdout",
          "text": [
            "[212]\tvalid-auc:0.25556\n"
          ]
        },
        {
          "output_type": "stream",
          "name": "stdout",
          "text": [
            "[XGB] Class 04 fold 1: pos=8 neg=159 spw=19.88 best_iter=12 | 0.27s\n"
          ]
        },
        {
          "output_type": "stream",
          "name": "stdout",
          "text": [
            "[XGB] Class 04 fold 2 shapes: X_tr=(175, 113) X_va=(83, 113)\n"
          ]
        },
        {
          "output_type": "stream",
          "name": "stdout",
          "text": [
            "[0]\tvalid-auc:0.69643\n"
          ]
        },
        {
          "output_type": "stream",
          "name": "stdout",
          "text": [
            "[100]\tvalid-auc:0.65789\n"
          ]
        },
        {
          "output_type": "stream",
          "name": "stdout",
          "text": [
            "[199]\tvalid-auc:0.66259\n"
          ]
        },
        {
          "output_type": "stream",
          "name": "stdout",
          "text": [
            "[XGB] Class 04 fold 2: pos=2 neg=173 spw=86.50 best_iter=0 | 0.27s\n"
          ]
        },
        {
          "output_type": "stream",
          "name": "stdout",
          "text": [
            "[XGB] Class 04 fold 3 shapes: X_tr=(174, 113) X_va=(84, 113)\n"
          ]
        },
        {
          "output_type": "stream",
          "name": "stdout",
          "text": [
            "[0]\tvalid-auc:0.13253\n"
          ]
        },
        {
          "output_type": "stream",
          "name": "stdout",
          "text": [
            "[100]\tvalid-auc:0.01205\n"
          ]
        },
        {
          "output_type": "stream",
          "name": "stdout",
          "text": [
            "[200]\tvalid-auc:0.09639\n"
          ]
        },
        {
          "output_type": "stream",
          "name": "stdout",
          "text": [
            "[XGB] Class 04 fold 3: pos=8 neg=166 spw=20.75 best_iter=0 | 0.43s\n"
          ]
        },
        {
          "output_type": "stream",
          "name": "stdout",
          "text": [
            "[XGB] Class 05 fold 1 shapes: X_tr=(167, 113) X_va=(91, 113)\n"
          ]
        },
        {
          "output_type": "stream",
          "name": "stdout",
          "text": [
            "[0]\tvalid-auc:0.48315\n"
          ]
        },
        {
          "output_type": "stream",
          "name": "stdout",
          "text": [
            "[100]\tvalid-auc:0.60955\n"
          ]
        },
        {
          "output_type": "stream",
          "name": "stdout",
          "text": [
            "[200]\tvalid-auc:0.60112\n"
          ]
        },
        {
          "output_type": "stream",
          "name": "stdout",
          "text": [
            "[290]\tvalid-auc:0.60112\n"
          ]
        },
        {
          "output_type": "stream",
          "name": "stdout",
          "text": [
            "[XGB] Class 05 fold 1: pos=3 neg=164 spw=54.67 best_iter=91 | 0.36s\n"
          ]
        },
        {
          "output_type": "stream",
          "name": "stdout",
          "text": [
            "[XGB] Class 05 fold 2 shapes: X_tr=(175, 113) X_va=(83, 113)\n"
          ]
        },
        {
          "output_type": "stream",
          "name": "stdout",
          "text": [
            "[0]\tvalid-auc:0.38415\n"
          ]
        },
        {
          "output_type": "stream",
          "name": "stdout",
          "text": [
            "[100]\tvalid-auc:0.98780\n"
          ]
        },
        {
          "output_type": "stream",
          "name": "stdout",
          "text": [
            "[200]\tvalid-auc:0.98780\n"
          ]
        },
        {
          "output_type": "stream",
          "name": "stdout",
          "text": [
            "[246]\tvalid-auc:0.98780\n"
          ]
        },
        {
          "output_type": "stream",
          "name": "stdout",
          "text": [
            "[XGB] Class 05 fold 2: pos=4 neg=171 spw=42.75 best_iter=46 | 0.45s\n"
          ]
        },
        {
          "output_type": "stream",
          "name": "stdout",
          "text": [
            "[XGB] Class 05 fold 3 shapes: X_tr=(174, 113) X_va=(84, 113)\n"
          ]
        },
        {
          "output_type": "stream",
          "name": "stdout",
          "text": [
            "[0]\tvalid-auc:0.66768\n"
          ]
        },
        {
          "output_type": "stream",
          "name": "stdout",
          "text": [
            "[100]\tvalid-auc:0.82317\n"
          ]
        },
        {
          "output_type": "stream",
          "name": "stdout",
          "text": [
            "[200]\tvalid-auc:0.83537\n"
          ]
        },
        {
          "output_type": "stream",
          "name": "stdout",
          "text": [
            "[201]\tvalid-auc:0.83537\n"
          ]
        },
        {
          "output_type": "stream",
          "name": "stdout",
          "text": [
            "[XGB] Class 05 fold 3: pos=3 neg=171 spw=57.00 best_iter=1 | 0.31s\n"
          ]
        },
        {
          "output_type": "stream",
          "name": "stdout",
          "text": [
            "[XGB] Class 06 fold 1 shapes: X_tr=(167, 113) X_va=(91, 113)\n"
          ]
        },
        {
          "output_type": "stream",
          "name": "stdout",
          "text": [
            "[0]\tvalid-auc:0.16667\n"
          ]
        },
        {
          "output_type": "stream",
          "name": "stdout",
          "text": [
            "[100]\tvalid-auc:0.14444\n"
          ]
        },
        {
          "output_type": "stream",
          "name": "stdout",
          "text": [
            "[200]\tvalid-auc:0.20000\n"
          ]
        },
        {
          "output_type": "stream",
          "name": "stdout",
          "text": [
            "[300]\tvalid-auc:0.23333\n"
          ]
        },
        {
          "output_type": "stream",
          "name": "stdout",
          "text": [
            "[400]\tvalid-auc:0.24444\n"
          ]
        },
        {
          "output_type": "stream",
          "name": "stdout",
          "text": [
            "[500]\tvalid-auc:0.24444\n"
          ]
        },
        {
          "output_type": "stream",
          "name": "stdout",
          "text": [
            "[600]\tvalid-auc:0.25556\n"
          ]
        },
        {
          "output_type": "stream",
          "name": "stdout",
          "text": [
            "[700]\tvalid-auc:0.26667\n"
          ]
        },
        {
          "output_type": "stream",
          "name": "stdout",
          "text": [
            "[713]\tvalid-auc:0.24444\n"
          ]
        },
        {
          "output_type": "stream",
          "name": "stdout",
          "text": [
            "[XGB] Class 06 fold 1: pos=18 neg=149 spw=8.28 best_iter=514 | 0.69s\n"
          ]
        },
        {
          "output_type": "stream",
          "name": "stdout",
          "text": [
            "[XGB] Class 06 fold 2 shapes: X_tr=(175, 113) X_va=(83, 113)\n"
          ]
        },
        {
          "output_type": "stream",
          "name": "stdout",
          "text": [
            "[0]\tvalid-auc:0.51502\n"
          ]
        },
        {
          "output_type": "stream",
          "name": "stdout",
          "text": [
            "[100]\tvalid-auc:0.60210\n"
          ]
        },
        {
          "output_type": "stream",
          "name": "stdout",
          "text": [
            "[200]\tvalid-auc:0.54805\n"
          ]
        },
        {
          "output_type": "stream",
          "name": "stdout",
          "text": [
            "[274]\tvalid-auc:0.55105\n"
          ]
        },
        {
          "output_type": "stream",
          "name": "stdout",
          "text": [
            "[XGB] Class 06 fold 2: pos=10 neg=165 spw=16.50 best_iter=75 | 0.45s\n"
          ]
        },
        {
          "output_type": "stream",
          "name": "stdout",
          "text": [
            "[XGB] Class 06 fold 3 shapes: X_tr=(174, 113) X_va=(84, 113)\n"
          ]
        },
        {
          "output_type": "stream",
          "name": "stdout",
          "text": [
            "[0]\tvalid-auc:0.50815\n"
          ]
        },
        {
          "output_type": "stream",
          "name": "stdout",
          "text": [
            "[100]\tvalid-auc:0.75407\n"
          ]
        },
        {
          "output_type": "stream",
          "name": "stdout",
          "text": [
            "[200]\tvalid-auc:0.75852\n"
          ]
        },
        {
          "output_type": "stream",
          "name": "stdout",
          "text": [
            "[214]\tvalid-auc:0.75852\n"
          ]
        },
        {
          "output_type": "stream",
          "name": "stdout",
          "text": [
            "[XGB] Class 06 fold 3: pos=10 neg=164 spw=16.40 best_iter=15 | 0.36s\n"
          ]
        },
        {
          "output_type": "stream",
          "name": "stdout",
          "text": [
            "[XGB] Class 07 fold 1 shapes: X_tr=(167, 113) X_va=(91, 113)\n"
          ]
        },
        {
          "output_type": "stream",
          "name": "stdout",
          "text": [
            "[0]\tvalid-auc:0.30873\n"
          ]
        },
        {
          "output_type": "stream",
          "name": "stdout",
          "text": [
            "[100]\tvalid-auc:0.22440\n"
          ]
        },
        {
          "output_type": "stream",
          "name": "stdout",
          "text": [
            "[200]\tvalid-auc:0.15813\n"
          ]
        },
        {
          "output_type": "stream",
          "name": "stdout",
          "text": [
            "[215]\tvalid-auc:0.15663\n"
          ]
        },
        {
          "output_type": "stream",
          "name": "stdout",
          "text": [
            "[XGB] Class 07 fold 1: pos=11 neg=156 spw=14.18 best_iter=15 | 0.30s\n"
          ]
        },
        {
          "output_type": "stream",
          "name": "stdout",
          "text": [
            "[XGB] Class 07 fold 2 shapes: X_tr=(175, 113) X_va=(83, 113)\n"
          ]
        },
        {
          "output_type": "stream",
          "name": "stdout",
          "text": [
            "[0]\tvalid-auc:0.47051\n"
          ]
        },
        {
          "output_type": "stream",
          "name": "stdout",
          "text": [
            "[100]\tvalid-auc:0.40128\n"
          ]
        },
        {
          "output_type": "stream",
          "name": "stdout",
          "text": [
            "[200]\tvalid-auc:0.41667\n"
          ]
        },
        {
          "output_type": "stream",
          "name": "stdout",
          "text": [
            "[XGB] Class 07 fold 2: pos=14 neg=161 spw=11.50 best_iter=0 | 0.39s\n"
          ]
        },
        {
          "output_type": "stream",
          "name": "stdout",
          "text": [
            "[XGB] Class 07 fold 3 shapes: X_tr=(174, 113) X_va=(84, 113)\n"
          ]
        },
        {
          "output_type": "stream",
          "name": "stdout",
          "text": [
            "[0]\tvalid-auc:0.30876\n"
          ]
        },
        {
          "output_type": "stream",
          "name": "stdout",
          "text": [
            "[100]\tvalid-auc:0.50427\n"
          ]
        },
        {
          "output_type": "stream",
          "name": "stdout",
          "text": [
            "[200]\tvalid-auc:0.30769\n"
          ]
        },
        {
          "output_type": "stream",
          "name": "stdout",
          "text": [
            "[300]\tvalid-auc:0.29060\n"
          ]
        },
        {
          "output_type": "stream",
          "name": "stdout",
          "text": [
            "[310]\tvalid-auc:0.29274\n"
          ]
        },
        {
          "output_type": "stream",
          "name": "stdout",
          "text": [
            "[XGB] Class 07 fold 3: pos=13 neg=161 spw=12.38 best_iter=110 | 0.38s\n"
          ]
        },
        {
          "output_type": "stream",
          "name": "stdout",
          "text": [
            "[XGB] Class 08 fold 1 shapes: X_tr=(167, 113) X_va=(91, 113)\n"
          ]
        },
        {
          "output_type": "stream",
          "name": "stdout",
          "text": [
            "[0]\tvalid-auc:0.63826\n"
          ]
        },
        {
          "output_type": "stream",
          "name": "stdout",
          "text": [
            "[100]\tvalid-auc:0.45076\n"
          ]
        },
        {
          "output_type": "stream",
          "name": "stdout",
          "text": [
            "[200]\tvalid-auc:0.69318\n"
          ]
        },
        {
          "output_type": "stream",
          "name": "stdout",
          "text": [
            "[300]\tvalid-auc:0.68561\n"
          ]
        },
        {
          "output_type": "stream",
          "name": "stdout",
          "text": [
            "[400]\tvalid-auc:0.68182"
          ]
        },
        {
          "output_type": "stream",
          "name": "stdout",
          "text": [
            "\n"
          ]
        },
        {
          "output_type": "stream",
          "name": "stdout",
          "text": [
            "[405]\tvalid-auc:0.68182\n"
          ]
        },
        {
          "output_type": "stream",
          "name": "stdout",
          "text": [
            "[XGB] Class 08 fold 1: pos=21 neg=146 spw=6.95 best_iter=205 | 0.46s\n"
          ]
        },
        {
          "output_type": "stream",
          "name": "stdout",
          "text": [
            "[XGB] Class 08 fold 2 shapes: X_tr=(175, 113) X_va=(83, 113)\n"
          ]
        },
        {
          "output_type": "stream",
          "name": "stdout",
          "text": [
            "[0]\tvalid-auc:0.85000\n"
          ]
        },
        {
          "output_type": "stream",
          "name": "stdout",
          "text": [
            "[100]\tvalid-auc:0.82123\n"
          ]
        },
        {
          "output_type": "stream",
          "name": "stdout",
          "text": [
            "[200]\tvalid-auc:0.82534\n"
          ]
        },
        {
          "output_type": "stream",
          "name": "stdout",
          "text": [
            "[XGB] Class 08 fold 2: pos=14 neg=161 spw=11.50 best_iter=0 | 0.28s\n"
          ]
        },
        {
          "output_type": "stream",
          "name": "stdout",
          "text": [
            "[XGB] Class 08 fold 3 shapes: X_tr=(174, 113) X_va=(84, 113)\n"
          ]
        },
        {
          "output_type": "stream",
          "name": "stdout",
          "text": [
            "[0]\tvalid-auc:0.46575\n"
          ]
        },
        {
          "output_type": "stream",
          "name": "stdout",
          "text": [
            "[100]\tvalid-auc:0.78456\n"
          ]
        },
        {
          "output_type": "stream",
          "name": "stdout",
          "text": [
            "[200]\tvalid-auc:0.61021\n"
          ]
        },
        {
          "output_type": "stream",
          "name": "stdout",
          "text": [
            "[207]\tvalid-auc:0.61146\n"
          ]
        },
        {
          "output_type": "stream",
          "name": "stdout",
          "text": [
            "[XGB] Class 08 fold 3: pos=13 neg=161 spw=12.38 best_iter=8 | 0.28s\n"
          ]
        },
        {
          "output_type": "stream",
          "name": "stdout",
          "text": [
            "[XGB] Class 09 fold 1 shapes: X_tr=(167, 113) X_va=(91, 113)\n"
          ]
        },
        {
          "output_type": "stream",
          "name": "stdout",
          "text": [
            "[0]\tvalid-auc:0.85038\n"
          ]
        },
        {
          "output_type": "stream",
          "name": "stdout",
          "text": [
            "[100]\tvalid-auc:0.41667\n"
          ]
        },
        {
          "output_type": "stream",
          "name": "stdout",
          "text": [
            "[199]\tvalid-auc:0.44697\n"
          ]
        },
        {
          "output_type": "stream",
          "name": "stdout",
          "text": [
            "[XGB] Class 09 fold 1: pos=18 neg=149 spw=8.28 best_iter=0 | 0.28s\n"
          ]
        },
        {
          "output_type": "stream",
          "name": "stdout",
          "text": [
            "[XGB] Class 09 fold 2 shapes: X_tr=(175, 113) X_va=(83, 113)\n"
          ]
        },
        {
          "output_type": "stream",
          "name": "stdout",
          "text": [
            "[0]\tvalid-auc:0.53767\n"
          ]
        },
        {
          "output_type": "stream",
          "name": "stdout",
          "text": [
            "[100]\tvalid-auc:0.66027\n"
          ]
        },
        {
          "output_type": "stream",
          "name": "stdout",
          "text": [
            "[200]\tvalid-auc:0.61644\n"
          ]
        },
        {
          "output_type": "stream",
          "name": "stdout",
          "text": [
            "[300]\tvalid-auc:0.68904\n"
          ]
        },
        {
          "output_type": "stream",
          "name": "stdout",
          "text": [
            "[334]\tvalid-auc:0.69041\n"
          ]
        },
        {
          "output_type": "stream",
          "name": "stdout",
          "text": [
            "[XGB] Class 09 fold 2: pos=11 neg=164 spw=14.91 best_iter=135 | 0.37s\n"
          ]
        },
        {
          "output_type": "stream",
          "name": "stdout",
          "text": [
            "[XGB] Class 09 fold 3 shapes: X_tr=(174, 113) X_va=(84, 113)\n"
          ]
        },
        {
          "output_type": "stream",
          "name": "stdout",
          "text": [
            "[0]\tvalid-auc:0.26891\n"
          ]
        },
        {
          "output_type": "stream",
          "name": "stdout",
          "text": [
            "[100]\tvalid-auc:0.65461\n"
          ]
        },
        {
          "output_type": "stream",
          "name": "stdout",
          "text": [
            "[200]\tvalid-auc:0.59046\n"
          ]
        },
        {
          "output_type": "stream",
          "name": "stdout",
          "text": [
            "[300]\tvalid-auc:0.52138\n"
          ]
        },
        {
          "output_type": "stream",
          "name": "stdout",
          "text": [
            "[312]\tvalid-auc:0.52138\n"
          ]
        },
        {
          "output_type": "stream",
          "name": "stdout",
          "text": [
            "[XGB] Class 09 fold 3: pos=13 neg=161 spw=12.38 best_iter=113 | 0.43s\n"
          ]
        },
        {
          "output_type": "stream",
          "name": "stdout",
          "text": [
            "[XGB] Class 10 fold 1 shapes: X_tr=(167, 113) X_va=(91, 113)\n"
          ]
        },
        {
          "output_type": "stream",
          "name": "stdout",
          "text": [
            "[0]\tvalid-auc:0.61061\n"
          ]
        },
        {
          "output_type": "stream",
          "name": "stdout",
          "text": [
            "[100]\tvalid-auc:0.66113\n"
          ]
        },
        {
          "output_type": "stream",
          "name": "stdout",
          "text": [
            "[200]\tvalid-auc:0.64130\n"
          ]
        },
        {
          "output_type": "stream",
          "name": "stdout",
          "text": [
            "[210]\tvalid-auc:0.64194\n"
          ]
        },
        {
          "output_type": "stream",
          "name": "stdout",
          "text": [
            "[XGB] Class 10 fold 1: pos=26 neg=141 spw=5.42 best_iter=11 | 0.32s\n"
          ]
        },
        {
          "output_type": "stream",
          "name": "stdout",
          "text": [
            "[XGB] Class 10 fold 2 shapes: X_tr=(175, 113) X_va=(83, 113)\n"
          ]
        },
        {
          "output_type": "stream",
          "name": "stdout",
          "text": [
            "[0]\tvalid-auc:0.27652\n"
          ]
        },
        {
          "output_type": "stream",
          "name": "stdout",
          "text": [
            "[100]\tvalid-auc:0.48169\n"
          ]
        },
        {
          "output_type": "stream",
          "name": "stdout",
          "text": [
            "[200]\tvalid-auc:0.55366\n"
          ]
        },
        {
          "output_type": "stream",
          "name": "stdout",
          "text": [
            "[300]\tvalid-auc:0.55745\n"
          ]
        },
        {
          "output_type": "stream",
          "name": "stdout",
          "text": [
            "[400]\tvalid-auc:0.55366\n"
          ]
        },
        {
          "output_type": "stream",
          "name": "stdout",
          "text": [
            "[500]\tvalid-auc:0.60543\n"
          ]
        },
        {
          "output_type": "stream",
          "name": "stdout",
          "text": [
            "[600]\tvalid-auc:0.61679\n"
          ]
        },
        {
          "output_type": "stream",
          "name": "stdout",
          "text": [
            "[700]\tvalid-auc:0.60922\n"
          ]
        },
        {
          "output_type": "stream",
          "name": "stdout",
          "text": [
            "[760]\tvalid-auc:0.61301\n"
          ]
        },
        {
          "output_type": "stream",
          "name": "stdout",
          "text": [
            "[XGB] Class 10 fold 2: pos=38 neg=137 spw=3.61 best_iter=561 | 0.66s\n"
          ]
        },
        {
          "output_type": "stream",
          "name": "stdout",
          "text": [
            "[XGB] Class 10 fold 3 shapes: X_tr=(174, 113) X_va=(84, 113)\n"
          ]
        },
        {
          "output_type": "stream",
          "name": "stdout",
          "text": [
            "[0]\tvalid-auc:0.73720\n"
          ]
        },
        {
          "output_type": "stream",
          "name": "stdout",
          "text": [
            "[100]\tvalid-auc:0.81739\n"
          ]
        },
        {
          "output_type": "stream",
          "name": "stdout",
          "text": [
            "[200]\tvalid-auc:0.78454\n"
          ]
        },
        {
          "output_type": "stream",
          "name": "stdout",
          "text": [
            "[276]\tvalid-auc:0.78551\n"
          ]
        },
        {
          "output_type": "stream",
          "name": "stdout",
          "text": [
            "[XGB] Class 10 fold 3: pos=34 neg=140 spw=4.12 best_iter=77 | 0.41s\n"
          ]
        },
        {
          "output_type": "stream",
          "name": "stdout",
          "text": [
            "[XGB] Class 11 fold 1 shapes: X_tr=(167, 113) X_va=(91, 113)\n"
          ]
        },
        {
          "output_type": "stream",
          "name": "stdout",
          "text": [
            "[0]\tvalid-auc:0.50000\n"
          ]
        },
        {
          "output_type": "stream",
          "name": "stdout",
          "text": [
            "[100]\tvalid-auc:0.48171\n"
          ]
        },
        {
          "output_type": "stream",
          "name": "stdout",
          "text": [
            "[200]\tvalid-auc:0.59079\n"
          ]
        },
        {
          "output_type": "stream",
          "name": "stdout",
          "text": [
            "[300]\tvalid-auc:0.57182\n"
          ]
        },
        {
          "output_type": "stream",
          "name": "stdout",
          "text": [
            "[381]\tvalid-auc:0.57182\n"
          ]
        },
        {
          "output_type": "stream",
          "name": "stdout",
          "text": [
            "[XGB] Class 11 fold 1: pos=1 neg=166 spw=166.00 best_iter=182 | 0.36s\n"
          ]
        },
        {
          "output_type": "stream",
          "name": "stdout",
          "text": [
            "[XGB] Class 11 fold 2 shapes: X_tr=(175, 113) X_va=(83, 113)\n"
          ]
        },
        {
          "output_type": "stream",
          "name": "stdout",
          "text": [
            "[XGB] Class 11 fold 2: degenerate -> const 0.0388 | 0.04s\n"
          ]
        },
        {
          "output_type": "stream",
          "name": "stdout",
          "text": [
            "[XGB] Class 11 fold 3 shapes: X_tr=(174, 113) X_va=(84, 113)\n"
          ]
        },
        {
          "output_type": "stream",
          "name": "stdout",
          "text": [
            "[0]\tvalid-auc:0.39759\n"
          ]
        },
        {
          "output_type": "stream",
          "name": "stdout",
          "text": [
            "[100]\tvalid-auc:0.39759\n"
          ]
        },
        {
          "output_type": "stream",
          "name": "stdout",
          "text": [
            "[200]\tvalid-auc:0.37349\n"
          ]
        },
        {
          "output_type": "stream",
          "name": "stdout",
          "text": [
            "[218]\tvalid-auc:0.37349\n"
          ]
        },
        {
          "output_type": "stream",
          "name": "stdout",
          "text": [
            "[XGB] Class 11 fold 3: pos=9 neg=165 spw=18.33 best_iter=19 | 0.27s\n"
          ]
        },
        {
          "output_type": "stream",
          "name": "stdout",
          "text": [
            "[XGB] Class 12 fold 1 shapes: X_tr=(167, 113) X_va=(91, 113)\n"
          ]
        },
        {
          "output_type": "stream",
          "name": "stdout",
          "text": [
            "[0]\tvalid-auc:0.28488"
          ]
        },
        {
          "output_type": "stream",
          "name": "stdout",
          "text": [
            "\n"
          ]
        },
        {
          "output_type": "stream",
          "name": "stdout",
          "text": [
            "[100]\tvalid-auc:0.40465\n"
          ]
        },
        {
          "output_type": "stream",
          "name": "stdout",
          "text": [
            "[200]\tvalid-auc:0.41279\n"
          ]
        },
        {
          "output_type": "stream",
          "name": "stdout",
          "text": [
            "[233]\tvalid-auc:0.41279\n"
          ]
        },
        {
          "output_type": "stream",
          "name": "stdout",
          "text": [
            "[XGB] Class 12 fold 1: pos=7 neg=160 spw=22.86 best_iter=33 | 0.33s\n"
          ]
        },
        {
          "output_type": "stream",
          "name": "stdout",
          "text": [
            "[XGB] Class 12 fold 2 shapes: X_tr=(175, 113) X_va=(83, 113)\n"
          ]
        },
        {
          "output_type": "stream",
          "name": "stdout",
          "text": [
            "[0]\tvalid-auc:0.69792\n"
          ]
        },
        {
          "output_type": "stream",
          "name": "stdout",
          "text": [
            "[100]\tvalid-auc:0.98333\n"
          ]
        },
        {
          "output_type": "stream",
          "name": "stdout",
          "text": [
            "[200]\tvalid-auc:0.99167\n"
          ]
        },
        {
          "output_type": "stream",
          "name": "stdout",
          "text": [
            "[300]\tvalid-auc:0.98750\n"
          ]
        },
        {
          "output_type": "stream",
          "name": "stdout",
          "text": [
            "[361]\tvalid-auc:0.98750\n"
          ]
        },
        {
          "output_type": "stream",
          "name": "stdout",
          "text": [
            "[XGB] Class 12 fold 2: pos=9 neg=166 spw=18.44 best_iter=161 | 0.39s\n"
          ]
        },
        {
          "output_type": "stream",
          "name": "stdout",
          "text": [
            "[XGB] Class 12 fold 3 shapes: X_tr=(174, 113) X_va=(84, 113)\n"
          ]
        },
        {
          "output_type": "stream",
          "name": "stdout",
          "text": [
            "[0]\tvalid-auc:0.76719\n"
          ]
        },
        {
          "output_type": "stream",
          "name": "stdout",
          "text": [
            "[100]\tvalid-auc:0.91719\n"
          ]
        },
        {
          "output_type": "stream",
          "name": "stdout",
          "text": [
            "[200]\tvalid-auc:0.92500\n"
          ]
        },
        {
          "output_type": "stream",
          "name": "stdout",
          "text": [
            "[300]\tvalid-auc:0.92500\n"
          ]
        },
        {
          "output_type": "stream",
          "name": "stdout",
          "text": [
            "[390]\tvalid-auc:0.92500\n"
          ]
        },
        {
          "output_type": "stream",
          "name": "stdout",
          "text": [
            "[XGB] Class 12 fold 3: pos=8 neg=166 spw=20.75 best_iter=191 | 0.41s\n"
          ]
        },
        {
          "output_type": "stream",
          "name": "stdout",
          "text": [
            "[XGB] Class 13 fold 1 shapes: X_tr=(167, 113) X_va=(91, 113)\n"
          ]
        },
        {
          "output_type": "stream",
          "name": "stdout",
          "text": [
            "[XGB] Class 13 fold 1: degenerate -> const 0.0155 | 0.04s\n"
          ]
        },
        {
          "output_type": "stream",
          "name": "stdout",
          "text": [
            "[XGB] Class 13 fold 2 shapes: X_tr=(175, 113) X_va=(83, 113)\n"
          ]
        },
        {
          "output_type": "stream",
          "name": "stdout",
          "text": [
            "[XGB] Class 13 fold 2: degenerate -> const 0.0155 | 0.01s\n"
          ]
        },
        {
          "output_type": "stream",
          "name": "stdout",
          "text": [
            "[XGB] Class 13 fold 3 shapes: X_tr=(174, 113) X_va=(84, 113)\n"
          ]
        },
        {
          "output_type": "stream",
          "name": "stdout",
          "text": [
            "[XGB] Class 13 fold 3: degenerate -> const 0.0155 | 0.01s\n"
          ]
        },
        {
          "output_type": "stream",
          "name": "stdout",
          "text": [
            "[XGB] Class 14 fold 1 shapes: X_tr=(167, 113) X_va=(91, 113)\n"
          ]
        },
        {
          "output_type": "stream",
          "name": "stdout",
          "text": [
            "[0]\tvalid-auc:0.38202\n"
          ]
        },
        {
          "output_type": "stream",
          "name": "stdout",
          "text": [
            "[100]\tvalid-auc:0.47191\n"
          ]
        },
        {
          "output_type": "stream",
          "name": "stdout",
          "text": [
            "[200]\tvalid-auc:0.44382\n"
          ]
        },
        {
          "output_type": "stream",
          "name": "stdout",
          "text": [
            "[XGB] Class 14 fold 1: pos=14 neg=153 spw=10.93 best_iter=1 | 0.28s\n"
          ]
        },
        {
          "output_type": "stream",
          "name": "stdout",
          "text": [
            "[XGB] Class 14 fold 2 shapes: X_tr=(175, 113) X_va=(83, 113)\n"
          ]
        },
        {
          "output_type": "stream",
          "name": "stdout",
          "text": [
            "[0]\tvalid-auc:0.52020\n"
          ]
        },
        {
          "output_type": "stream",
          "name": "stdout",
          "text": [
            "[100]\tvalid-auc:0.70328\n"
          ]
        },
        {
          "output_type": "stream",
          "name": "stdout",
          "text": [
            "[200]\tvalid-auc:0.71717\n"
          ]
        },
        {
          "output_type": "stream",
          "name": "stdout",
          "text": [
            "[247]\tvalid-auc:0.70833\n"
          ]
        },
        {
          "output_type": "stream",
          "name": "stdout",
          "text": [
            "[XGB] Class 14 fold 2: pos=5 neg=170 spw=34.00 best_iter=47 | 0.36s\n"
          ]
        },
        {
          "output_type": "stream",
          "name": "stdout",
          "text": [
            "[XGB] Class 14 fold 3 shapes: X_tr=(174, 113) X_va=(84, 113)\n"
          ]
        },
        {
          "output_type": "stream",
          "name": "stdout",
          "text": [
            "[0]\tvalid-auc:0.12140\n"
          ]
        },
        {
          "output_type": "stream",
          "name": "stdout",
          "text": [
            "[100]\tvalid-auc:0.56379\n"
          ]
        },
        {
          "output_type": "stream",
          "name": "stdout",
          "text": [
            "[200]\tvalid-auc:0.78189\n"
          ]
        },
        {
          "output_type": "stream",
          "name": "stdout",
          "text": [
            "[300]\tvalid-auc:0.79012\n"
          ]
        },
        {
          "output_type": "stream",
          "name": "stdout",
          "text": [
            "[400]\tvalid-auc:0.79012\n"
          ]
        },
        {
          "output_type": "stream",
          "name": "stdout",
          "text": [
            "[467]\tvalid-auc:0.79424\n"
          ]
        },
        {
          "output_type": "stream",
          "name": "stdout",
          "text": [
            "[XGB] Class 14 fold 3: pos=13 neg=161 spw=12.38 best_iter=267 | 0.49s\n"
          ]
        },
        {
          "output_type": "stream",
          "name": "stdout",
          "text": [
            "[XGB] Class 15 fold 1 shapes: X_tr=(167, 113) X_va=(91, 113)\n"
          ]
        },
        {
          "output_type": "stream",
          "name": "stdout",
          "text": [
            "[0]\tvalid-auc:0.82778\n"
          ]
        },
        {
          "output_type": "stream",
          "name": "stdout",
          "text": [
            "[100]\tvalid-auc:0.91111\n"
          ]
        },
        {
          "output_type": "stream",
          "name": "stdout",
          "text": [
            "[200]\tvalid-auc:0.92222\n"
          ]
        },
        {
          "output_type": "stream",
          "name": "stdout",
          "text": [
            "[222]\tvalid-auc:0.93333\n"
          ]
        },
        {
          "output_type": "stream",
          "name": "stdout",
          "text": [
            "[XGB] Class 15 fold 1: pos=5 neg=162 spw=32.40 best_iter=22 | 0.29s\n"
          ]
        },
        {
          "output_type": "stream",
          "name": "stdout",
          "text": [
            "[XGB] Class 15 fold 2 shapes: X_tr=(175, 113) X_va=(83, 113)\n"
          ]
        },
        {
          "output_type": "stream",
          "name": "stdout",
          "text": [
            "[0]\tvalid-auc:0.50000\n"
          ]
        },
        {
          "output_type": "stream",
          "name": "stdout",
          "text": [
            "[100]\tvalid-auc:0.67692\n"
          ]
        },
        {
          "output_type": "stream",
          "name": "stdout",
          "text": [
            "[200]\tvalid-auc:0.67692\n"
          ]
        },
        {
          "output_type": "stream",
          "name": "stdout",
          "text": [
            "[230]\tvalid-auc:0.67692\n"
          ]
        },
        {
          "output_type": "stream",
          "name": "stdout",
          "text": [
            "[XGB] Class 15 fold 2: pos=1 neg=174 spw=174.00 best_iter=30 | 0.33s\n"
          ]
        },
        {
          "output_type": "stream",
          "name": "stdout",
          "text": [
            "[XGB] Class 15 fold 3 shapes: X_tr=(174, 113) X_va=(84, 113)\n"
          ]
        },
        {
          "output_type": "stream",
          "name": "stdout",
          "text": [
            "[XGB] Class 15 fold 3: degenerate -> const 0.0233 | 0.03s\n"
          ]
        },
        {
          "output_type": "stream",
          "name": "stdout",
          "text": [
            "[XGB] Class 16 fold 1 shapes: X_tr=(167, 113) X_va=(91, 113)\n"
          ]
        },
        {
          "output_type": "stream",
          "name": "stdout",
          "text": [
            "[XGB] Class 16 fold 1: degenerate -> const 0.0078 | 0.00s\n"
          ]
        },
        {
          "output_type": "stream",
          "name": "stdout",
          "text": [
            "[XGB] Class 16 fold 2 shapes: X_tr=(175, 113) X_va=(83, 113)\n"
          ]
        },
        {
          "output_type": "stream",
          "name": "stdout",
          "text": [
            "[XGB] Class 16 fold 2: degenerate -> const 0.0078 | 0.00s\n"
          ]
        },
        {
          "output_type": "stream",
          "name": "stdout",
          "text": [
            "[XGB] Class 16 fold 3 shapes: X_tr=(174, 113) X_va=(84, 113)\n"
          ]
        },
        {
          "output_type": "stream",
          "name": "stdout",
          "text": [
            "[XGB] Class 16 fold 3: degenerate -> const 0.0078 | 0.00s\n"
          ]
        },
        {
          "output_type": "stream",
          "name": "stdout",
          "text": [
            "[XGB] Class 17 fold 1 shapes: X_tr=(167, 113) X_va=(91, 113)\n"
          ]
        },
        {
          "output_type": "stream",
          "name": "stdout",
          "text": [
            "[0]\tvalid-auc:0.38068\n"
          ]
        },
        {
          "output_type": "stream",
          "name": "stdout",
          "text": [
            "[100]\tvalid-auc:0.43561\n"
          ]
        },
        {
          "output_type": "stream",
          "name": "stdout",
          "text": [
            "[200]\tvalid-auc:0.43561\n"
          ]
        },
        {
          "output_type": "stream",
          "name": "stdout",
          "text": [
            "[212]\tvalid-auc:0.43561\n"
          ]
        },
        {
          "output_type": "stream",
          "name": "stdout",
          "text": [
            "[XGB] Class 17 fold 1: pos=1 neg=166 spw=166.00 best_iter=12 | 0.35s\n"
          ]
        },
        {
          "output_type": "stream",
          "name": "stdout",
          "text": [
            "[XGB] Class 17 fold 2 shapes: X_tr=(175, 113) X_va=(83, 113)\n"
          ]
        },
        {
          "output_type": "stream",
          "name": "stdout",
          "text": [
            "[XGB] Class 17 fold 2: degenerate -> const 0.0155 | 0.03s\n"
          ]
        },
        {
          "output_type": "stream",
          "name": "stdout",
          "text": [
            "[XGB] Class 17 fold 3 shapes: X_tr=(174, 113) X_va=(84, 113)\n"
          ]
        },
        {
          "output_type": "stream",
          "name": "stdout",
          "text": [
            "[0]\tvalid-auc:0.72289\n"
          ]
        },
        {
          "output_type": "stream",
          "name": "stdout",
          "text": [
            "[100]\tvalid-auc:0.73494\n"
          ]
        },
        {
          "output_type": "stream",
          "name": "stdout",
          "text": [
            "[200]\tvalid-auc:0.73494\n"
          ]
        },
        {
          "output_type": "stream",
          "name": "stdout",
          "text": [
            "[212]\tvalid-auc:0.73494\n"
          ]
        },
        {
          "output_type": "stream",
          "name": "stdout",
          "text": [
            "[XGB] Class 17 fold 3: pos=3 neg=171 spw=57.00 best_iter=12 | 0.26s\n"
          ]
        },
        {
          "output_type": "stream",
          "name": "stdout",
          "text": [
            "[XGB] Class 18 fold 1 shapes: X_tr=(167, 113) X_va=(91, 113)\n"
          ]
        },
        {
          "output_type": "stream",
          "name": "stdout",
          "text": [
            "[0]\tvalid-auc:0.68023\n"
          ]
        },
        {
          "output_type": "stream",
          "name": "stdout",
          "text": [
            "[100]\tvalid-auc:0.77674\n"
          ]
        },
        {
          "output_type": "stream",
          "name": "stdout",
          "text": [
            "[200]\tvalid-auc:0.78140\n"
          ]
        },
        {
          "output_type": "stream",
          "name": "stdout",
          "text": [
            "[209]\tvalid-auc:0.77907\n"
          ]
        },
        {
          "output_type": "stream",
          "name": "stdout",
          "text": [
            "[XGB] Class 18 fold 1: pos=7 neg=160 spw=22.86 best_iter=10 | 0.29s\n"
          ]
        },
        {
          "output_type": "stream",
          "name": "stdout",
          "text": [
            "[XGB] Class 18 fold 2 shapes: X_tr=(175, 113) X_va=(83, 113)\n"
          ]
        },
        {
          "output_type": "stream",
          "name": "stdout",
          "text": [
            "[XGB] Class 18 fold 2: degenerate -> const 0.0465 | 0.03s\n"
          ]
        },
        {
          "output_type": "stream",
          "name": "stdout",
          "text": [
            "[XGB] Class 18 fold 3 shapes: X_tr=(174, 113) X_va=(84, 113)\n"
          ]
        },
        {
          "output_type": "stream",
          "name": "stdout",
          "text": [
            "[0]\tvalid-auc:0.63173\n"
          ]
        },
        {
          "output_type": "stream",
          "name": "stdout",
          "text": [
            "[100]\tvalid-auc:0.92393\n"
          ]
        },
        {
          "output_type": "stream",
          "name": "stdout",
          "text": [
            "[200]\tvalid-auc:0.92022\n"
          ]
        },
        {
          "output_type": "stream",
          "name": "stdout",
          "text": [
            "[299]\tvalid-auc:0.91466\n"
          ]
        },
        {
          "output_type": "stream",
          "name": "stdout",
          "text": [
            "[XGB] Class 18 fold 3: pos=5 neg=169 spw=33.80 best_iter=99 | 0.39s\n"
          ]
        },
        {
          "output_type": "stream",
          "name": "stdout",
          "text": [
            "Final XGBoost (3-seed) OOF Macro AUC: 0.61451\nSaved prod_xgb_* files.\n"
          ]
        }
      ]
    },
    {
      "id": "30926286-b3be-4cc8-b4f7-90fc95aa0059",
      "cell_type": "code",
      "metadata": {},
      "source": [
        "# Evaluate saved prod_xgb OOF and build submission\n",
        "import numpy as np, pandas as pd\n",
        "from sklearn.metrics import roc_auc_score\n",
        "\n",
        "oof = np.load('prod_xgb_oof.npy')\n",
        "te = np.load('prod_xgb_test.npy')\n",
        "tr_ids = np.load('prod_xgb_train_ids.npy').astype(int)\n",
        "te_ids = np.load('prod_xgb_test_ids.npy').astype(int)\n",
        "\n",
        "# Build Y in the same order as tr_ids using label_map from setup cell\n",
        "Y_eval = np.vstack([label_map[int(r)] for r in tr_ids]).astype(np.int8)\n",
        "auc = macro_auc_ignoring_degenerate(Y_eval, oof)\n",
        "print(f'prod_xgb OOF Macro AUC (ID-aligned): {auc:.5f}')\n",
        "\n",
        "# Create submission aligned to sample_submission Id encoding (rec_id*100+class_id)\n",
        "sub = pd.read_csv('sample_submission.csv')\n",
        "id_vals = sub['Id'].values.astype(int)\n",
        "rid_to_idx = {rid:i for i, rid in enumerate(te_ids)}\n",
        "probs = np.zeros_like(id_vals, dtype=np.float32)\n",
        "for i, Id in enumerate(id_vals):\n",
        "    rid = Id // 100; cid = Id % 100\n",
        "    row = rid_to_idx.get(rid, None)\n",
        "    p = float(te[row, cid]) if (row is not None and cid < num_classes) else 0.0\n",
        "    probs[i] = np.clip(p, 1e-6, 1-1e-6)\n",
        "sub['Probability'] = probs\n",
        "sub.to_csv('submission_prod_xgb.csv', index=False)\n",
        "print('Saved submission_prod_xgb.csv')"
      ],
      "execution_count": 33,
      "outputs": [
        {
          "output_type": "stream",
          "name": "stdout",
          "text": [
            "prod_xgb OOF Macro AUC (ID-aligned): 0.61451\nSaved submission_prod_xgb.csv\n"
          ]
        }
      ]
    },
    {
      "id": "b4f74c12-0ff9-4cc2-bd1c-dddea7ed8135",
      "cell_type": "code",
      "metadata": {},
      "source": [
        "# Sanity baseline: LogisticRegression on [station prior + RAW histogram] with GroupKFold; fast OOF check\n",
        "import os\n",
        "import numpy as np\n",
        "from sklearn.model_selection import GroupKFold\n",
        "from sklearn.preprocessing import StandardScaler\n",
        "from sklearn.linear_model import LogisticRegression\n",
        "\n",
        "print('Starting LogisticRegression sanity baseline...')\n",
        "\n",
        "gkf = GroupKFold(n_splits=3)\n",
        "n_train = Y_train.shape[0]; n_test = X_test_base.shape[0]\n",
        "num_classes_local = Y_train.shape[1]\n",
        "\n",
        "def run_seed_lr(seed):\n",
        "    oof = np.zeros((n_train, num_classes_local), dtype=np.float32)\n",
        "    te = np.zeros((n_test, num_classes_local), dtype=np.float32)\n",
        "    for c in range(num_classes_local):\n",
        "        y = Y_train[:, c].astype(int)\n",
        "        cls_oof = np.zeros(n_train, dtype=np.float32)\n",
        "        cls_te_acc = np.zeros(n_test, dtype=np.float32)\n",
        "        fold_no = 0\n",
        "        for tr_idx, va_idx in gkf.split(X_base, y, groups):\n",
        "            fold_no += 1\n",
        "            # Build fold-wise features: station prior (1-d) + RAW histogram bins (101 dims)\n",
        "            st_tr = groups[tr_idx]; st_va = groups[va_idx]\n",
        "            alpha = 5.0\n",
        "            y_tr = y[tr_idx]; y_va = y[va_idx]\n",
        "            gm = float(y_tr.mean()) if y_tr.size>0 else 0.0\n",
        "            st_prior = {}\n",
        "            for s in np.unique(st_tr):\n",
        "                m = (st_tr == s)\n",
        "                cnt = int(m.sum())\n",
        "                sm = float(y_tr[m].sum()) if cnt>0 else 0.0\n",
        "                st_prior[s] = (sm + alpha*gm) / (cnt + alpha)\n",
        "            st_tr_feat = np.array([st_prior.get(s, gm) for s in st_tr], dtype=np.float32)[:, None]\n",
        "            st_va_feat = np.array([st_prior.get(s, gm) for s in st_va], dtype=np.float32)[:, None]\n",
        "            st_te_feat = np.array([st_prior.get(s, gm) for s in stations_test], dtype=np.float32)[:, None]\n",
        "            H_tr = H_train[tr_idx]; H_va = H_train[va_idx]\n",
        "            # Concatenate\n",
        "            X_tr = np.concatenate([st_tr_feat, H_tr], axis=1).astype(np.float32)\n",
        "            X_va = np.concatenate([st_va_feat, H_va], axis=1).astype(np.float32)\n",
        "            X_te = np.concatenate([st_te_feat, H_test], axis=1).astype(np.float32)\n",
        "            # Degenerate handling\n",
        "            pos = int(y_tr.sum()); neg = int((1-y_tr).sum())\n",
        "            if pos == 0 or neg == 0 or y_va.sum() in (0, len(y_va)):\n",
        "                const = float(y.mean())\n",
        "                cls_oof[va_idx] = const\n",
        "                cls_te_acc += np.full(n_test, const, np.float32) / gkf.get_n_splits()\n",
        "                print(f'[LR] Class {c:02d} fold {fold_no}: degenerate -> const {const:.4f}')\n",
        "                continue\n",
        "            # Scale features\n",
        "            scaler = StandardScaler(with_mean=True, with_std=True)\n",
        "            X_tr_s = scaler.fit_transform(X_tr)\n",
        "            X_va_s = scaler.transform(X_va)\n",
        "            X_te_s = scaler.transform(X_te)\n",
        "            # LR with class balance\n",
        "            lr = LogisticRegression(\n",
        "                penalty='l2', C=0.1,\n",
        "                class_weight='balanced',\n",
        "                solver='liblinear',\n",
        "                max_iter=1000,\n",
        "                random_state=seed\n",
        "            )\n",
        "            lr.fit(X_tr_s, y_tr)\n",
        "            p_va = lr.predict_proba(X_va_s)[:,1].astype(np.float32)\n",
        "            p_te = lr.predict_proba(X_te_s)[:,1].astype(np.float32)\n",
        "            cls_oof[va_idx] = p_va\n",
        "            cls_te_acc += p_te / gkf.get_n_splits()\n",
        "        oof[:, c] = cls_oof\n",
        "        te[:, c] = cls_te_acc\n",
        "    return oof, te\n",
        "\n",
        "seeds = [42]\n",
        "oofs = []; tests = []\n",
        "for sd in seeds:\n",
        "    print(f'== LR Seed {sd} ==')\n",
        "    oof_s, te_s = run_seed_lr(sd)\n",
        "    oofs.append(oof_s); tests.append(te_s)\n",
        "\n",
        "oof_mean = np.mean(np.stack(oofs, axis=0), axis=0)\n",
        "te_mean = np.mean(np.stack(tests, axis=0), axis=0)\n",
        "auc = macro_auc_ignoring_degenerate(Y_train, oof_mean)\n",
        "print(f'LR baseline OOF Macro AUC: {auc:.5f}')\n",
        "\n",
        "# Save for potential blend/debug\n",
        "np.save('prod_lr_oof.npy', oof_mean)\n",
        "np.save('prod_lr_test.npy', te_mean)\n",
        "np.save('prod_lr_train_ids.npy', rec_train)\n",
        "np.save('prod_lr_test_ids.npy', rec_test)\n",
        "print('Saved prod_lr_* files.')"
      ],
      "execution_count": 22,
      "outputs": [
        {
          "output_type": "stream",
          "name": "stdout",
          "text": [
            "Starting LogisticRegression sanity baseline...\n== LR Seed 42 ==\n[LR] Class 00 fold 3: degenerate -> const 0.0271\n[LR] Class 01 fold 2: degenerate -> const 0.1085\n[LR] Class 03 fold 1: degenerate -> const 0.0155\n[LR] Class 03 fold 2: degenerate -> const 0.0155\n[LR] Class 03 fold 3: degenerate -> const 0.0155\n[LR] Class 11 fold 2: degenerate -> const 0.0388\n[LR] Class 13 fold 1: degenerate -> const 0.0155\n[LR] Class 13 fold 2: degenerate -> const 0.0155\n[LR] Class 13 fold 3: degenerate -> const 0.0155\n[LR] Class 15 fold 3: degenerate -> const 0.0233\n[LR] Class 16 fold 1: degenerate -> const 0.0078\n[LR] Class 16 fold 2: degenerate -> const 0.0078\n[LR] Class 16 fold 3: degenerate -> const 0.0078\n[LR] Class 17 fold 2: degenerate -> const 0.0155\n[LR] Class 18 fold 2: degenerate -> const 0.0465\n"
          ]
        },
        {
          "output_type": "stream",
          "name": "stdout",
          "text": [
            "LR baseline OOF Macro AUC: 0.64642\nSaved prod_lr_* files.\n"
          ]
        }
      ]
    },
    {
      "id": "3c331c30-a159-4f38-a8ae-85c67b300d1b",
      "cell_type": "code",
      "metadata": {},
      "source": [
        "# Diagnostics: alignment assertions, prevalence, and simple station-prior baseline\n",
        "import numpy as np, pandas as pd, random\n",
        "from sklearn.model_selection import GroupKFold\n",
        "from sklearn.metrics import roc_auc_score\n",
        "\n",
        "print('=== DIAGNOSTICS ===')\n",
        "# 1) Class index check from label_map\n",
        "all_labels = []\n",
        "for rid, y in label_map.items():\n",
        "    idxs = np.where(np.asarray(y, dtype=np.int8)==1)[0].tolist()\n",
        "    all_labels.extend(idxs)\n",
        "if len(all_labels):\n",
        "    mn, mx = int(np.min(all_labels)), int(np.max(all_labels))\n",
        "    print(f'Label index range in label_map: [{mn}, {mx}] (num_classes={num_classes})')\n",
        "    assert 0 <= mn and mx < num_classes, 'Class indices out of range!'\n",
        "else:\n",
        "    print('No positive labels found in label_map (unexpected)')\n",
        "\n",
        "# 2) Prevalence per class in Y_train\n",
        "pos_counts = Y_train.sum(axis=0).astype(int)\n",
        "print('Positives per class in Y_train:', pos_counts.tolist())\n",
        "\n",
        "# 3) GroupKFold prevalence (ensure positives in some folds)\n",
        "gkf = GroupKFold(n_splits=3)\n",
        "for c in range(num_classes):\n",
        "    y = Y_train[:, c].astype(int)\n",
        "    prev = []\n",
        "    for tr, va in gkf.split(X_base, y, groups):\n",
        "        prev.append(int(y[va].sum()))\n",
        "    print(f'Class {c:02d} valid positives per fold: {prev}')\n",
        "\n",
        "# 4) Station-prior-only OOF baseline\n",
        "def station_prior_oof(y_full):\n",
        "    oof = np.zeros_like(y_full, dtype=np.float32)\n",
        "    for c in range(y_full.shape[1]):\n",
        "        y = y_full[:, c].astype(int)\n",
        "        cls_oof = np.zeros(y.shape[0], dtype=np.float32)\n",
        "        for tr, va in gkf.split(X_base, y, groups):\n",
        "            st_tr = groups[tr]; st_va = groups[va]\n",
        "            y_tr = y[tr]\n",
        "            alpha = 5.0; gm = float(y_tr.mean()) if y_tr.size>0 else 0.0\n",
        "            st_prior = {}\n",
        "            for s in np.unique(st_tr):\n",
        "                m = (st_tr == s); cnt = int(m.sum()); sm = float(y_tr[m].sum()) if cnt>0 else 0.0\n",
        "                st_prior[s] = (sm + alpha*gm) / (cnt + alpha)\n",
        "            cls_oof[va] = np.array([st_prior.get(s, gm) for s in st_va], dtype=np.float32)\n",
        "        oof[:, c] = cls_oof\n",
        "    return oof\n",
        "\n",
        "oof_prior = station_prior_oof(Y_train)\n",
        "auc_prior = macro_auc_ignoring_degenerate(Y_train, oof_prior)\n",
        "print(f'Station-prior-only OOF Macro AUC: {auc_prior:.5f}')\n",
        "\n",
        "# 5) Shuffle-control: shuffle labels rows and compute macro AUC on station prior preds (should ~0.5)\n",
        "rng = np.random.default_rng(123)\n",
        "Y_shuf = Y_train.copy()\n",
        "rng.shuffle(Y_shuf, axis=0)\n",
        "auc_shuf = macro_auc_ignoring_degenerate(Y_shuf, oof_prior)\n",
        "print(f'Shuffle-control Macro AUC (priors vs shuffled labels): {auc_shuf:.5f}')\n",
        "\n",
        "# 6) Saved OOF/test shape checks for latest XGB/LR/LGB (if exist)\n",
        "def check_saved(prefix):\n",
        "    try:\n",
        "        o = np.load(f'{prefix}_oof.npy'); t = np.load(f'{prefix}_test.npy')\n",
        "        tri = np.load(f'{prefix}_train_ids.npy'); tei = np.load(f'{prefix}_test_ids.npy')\n",
        "        print(f'{prefix}: OOF {o.shape}, TEST {t.shape}, train_ids {tri.shape}, test_ids {tei.shape}')\n",
        "        assert o.shape == Y_train.shape, f'{prefix} OOF shape mismatch with Y_train!'\n",
        "    except Exception as e:\n",
        "        print(f'{prefix}: not checked ({e})')\n",
        "\n",
        "for pref in ['prod_xgb','prod_lr','prod_lgb']:\n",
        "    check_saved(pref)\n",
        "\n",
        "print('=== END DIAGNOSTICS ===')"
      ],
      "execution_count": 27,
      "outputs": [
        {
          "output_type": "stream",
          "name": "stdout",
          "text": [
            "=== DIAGNOSTICS ===\nLabel index range in label_map: [0, 18] (num_classes=19)\nPositives per class in Y_train: [7, 28, 19, 4, 9, 5, 19, 19, 24, 21, 49, 10, 12, 4, 16, 6, 2, 4, 12]\nClass 00 valid positives per fold: [4, 3, 0]\nClass 01 valid positives per fold: [24, 0, 4]\nClass 02 valid positives per fold: [7, 5, 7]\nClass 03 valid positives per fold: [0, 0, 4]\nClass 04 valid positives per fold: [1, 7, 1]\nClass 05 valid positives per fold: [2, 1, 2]\nClass 06 valid positives per fold: [1, 9, 9]\nClass 07 valid positives per fold: [8, 5, 6]\nClass 08 valid positives per fold: [3, 10, 11]\nClass 09 valid positives per fold: [3, 10, 8]\nClass 10 valid positives per fold: [23, 11, 15]\nClass 11 valid positives per fold: [9, 0, 1]\nClass 12 valid positives per fold: [5, 3, 4]\nClass 13 valid positives per fold: [0, 4, 0]\nClass 14 valid positives per fold: [2, 11, 3]\nClass 15 valid positives per fold: [1, 5, 0]\nClass 16 valid positives per fold: [0, 2, 0]\nClass 17 valid positives per fold: [3, 0, 1]\nClass 18 valid positives per fold: [5, 0, 7]\nStation-prior-only OOF Macro AUC: 0.30427\nShuffle-control Macro AUC (priors vs shuffled labels): 0.45851\nprod_xgb: OOF (258, 19), TEST (64, 19), train_ids (258,), test_ids (64,)\nprod_lr: OOF (258, 19), TEST (64, 19), train_ids (258,), test_ids (64,)\nprod_lgb: OOF (258, 19), TEST (64, 19), train_ids (258,), test_ids (64,)\n=== END DIAGNOSTICS ===\n"
          ]
        }
      ]
    },
    {
      "id": "36ab6fba-e767-4e62-9dbe-789d52bb1b83",
      "cell_type": "code",
      "metadata": {},
      "source": [
        "# Extra diagnostics: station prevalence sanity checks\n",
        "import numpy as np\n",
        "from sklearn.metrics import roc_auc_score\n",
        "\n",
        "print('=== EXTRA DIAGNOSTICS: Station prevalence sanity ===')\n",
        "stations_tr = groups  # aligned with Y_train/rec_train\n",
        "assert len(stations_tr) == Y_train.shape[0], 'stations_tr misaligned with Y_train'\n",
        "\n",
        "def auc_ignore_deg(y, p):\n",
        "    if y.sum()==0 or y.sum()==y.shape[0]:\n",
        "        return np.nan\n",
        "    return roc_auc_score(y, p)\n",
        "\n",
        "# 1) Global (leaky) per-station prevalence AUC on same data. Should be high if alignment OK.\n",
        "aucs = []\n",
        "for c in range(Y_train.shape[1]):\n",
        "    y = Y_train[:, c].astype(int)\n",
        "    # compute prevalence per station using ALL training rows (leaky by design)\n",
        "    prev_map = {}\n",
        "    for s in np.unique(stations_tr):\n",
        "        m = (stations_tr == s)\n",
        "        prev_map[s] = float(y[m].mean()) if m.any() else 0.0\n",
        "    p = np.array([prev_map[s] for s in stations_tr], dtype=np.float32)\n",
        "    auc = auc_ignore_deg(y, p)\n",
        "    aucs.append(auc)\n",
        "macro_auc_global = float(np.nanmean([a for a in aucs if not np.isnan(a)])) if aucs else float('nan')\n",
        "print('Global (leaky) station-prevalence Macro AUC:', f'{macro_auc_global:.5f}')\n",
        "\n",
        "# 2) Per-fold non-leaky station prevalence AUC (duplicate of prior but print correlations too)\n",
        "from sklearn.model_selection import GroupKFold\n",
        "gkf = GroupKFold(n_splits=3)\n",
        "aucs_cv = []\n",
        "for c in range(Y_train.shape[1]):\n",
        "    y = Y_train[:, c].astype(int)\n",
        "    cls_oof = np.zeros_like(y, dtype=np.float32)\n",
        "    for tr, va in gkf.split(np.zeros((Y_train.shape[0], 1)), y, stations_tr):\n",
        "        st_tr = stations_tr[tr]; st_va = stations_tr[va]\n",
        "        y_tr = y[tr]\n",
        "        prev_map = {}\n",
        "        for s in np.unique(st_tr):\n",
        "            m = (st_tr == s)\n",
        "            prev_map[s] = float(y_tr[m].mean()) if m.any() else 0.0\n",
        "        cls_oof[va] = np.array([prev_map.get(s, float(y_tr.mean())) for s in st_va], dtype=np.float32)\n",
        "    auc = auc_ignore_deg(y, cls_oof)\n",
        "    aucs_cv.append(auc)\n",
        "macro_auc_cv = float(np.nanmean([a for a in aucs_cv if not np.isnan(a)])) if aucs_cv else float('nan')\n",
        "print('CV station-prevalence Macro AUC:', f'{macro_auc_cv:.5f}')\n",
        "\n",
        "# 3) Print top/bottom stations by prevalence for a common class (e.g., class 10)\n",
        "c = 10\n",
        "y = Y_train[:, c].astype(int)\n",
        "prev_map = {}\n",
        "for s in np.unique(stations_tr):\n",
        "    m = (stations_tr == s)\n",
        "    prev_map[s] = (float(y[m].mean()) if m.any() else 0.0, int(m.sum()))\n",
        "tops = sorted(prev_map.items(), key=lambda kv: kv[1][0], reverse=True)[:5]\n",
        "bots = sorted(prev_map.items(), key=lambda kv: kv[1][0])[:5]\n",
        "print('Class 10 top stations (prev, count):', tops)\n",
        "print('Class 10 bottom stations (prev, count):', bots)\n",
        "print('=== END EXTRA DIAGNOSTICS ===')"
      ],
      "execution_count": 28,
      "outputs": [
        {
          "output_type": "stream",
          "name": "stdout",
          "text": [
            "=== EXTRA DIAGNOSTICS: Station prevalence sanity ===\nGlobal (leaky) station-prevalence Macro AUC: 0.86489\nCV station-prevalence Macro AUC: 0.30427\nClass 10 top stations (prev, count): [('PC4', (0.6, 15)), ('PC2', (0.3333333333333333, 15)), ('PC5', (0.3, 20)), ('PC18', (0.2727272727272727, 11)), ('PC1', (0.25925925925925924, 27))]\nClass 10 bottom stations (prev, count): [('PC13', (0.0, 14)), ('PC10', (0.041666666666666664, 24)), ('PC11', (0.07692307692307693, 26)), ('PC8', (0.1, 10)), ('PC15', (0.12, 25))]\n=== END EXTRA DIAGNOSTICS ===\n"
          ]
        }
      ]
    },
    {
      "id": "58193d83-e832-4ebe-baad-cb6a4033e952",
      "cell_type": "code",
      "metadata": {},
      "source": [
        "# Build GLOBAL station priors (using all training rows) and evaluate\n",
        "import numpy as np\n",
        "print('=== GLOBAL STATION PRIORS ===')\n",
        "stations_tr = groups.astype(str)\n",
        "stations_te = stations_test.astype(str)\n",
        "n_tr, C = Y_train.shape\n",
        "uniq_st = np.unique(stations_tr)\n",
        "global_priors = {c: {} for c in range(C)}\n",
        "for c in range(C):\n",
        "    y = Y_train[:, c].astype(int)\n",
        "    for s in uniq_st:\n",
        "        m = (stations_tr == s)\n",
        "        global_priors[c][s] = float(y[m].mean()) if m.any() else float(y.mean())\n",
        "\n",
        "# Build matrices\n",
        "ST_PRIOR_TRAIN = np.zeros((n_tr, C), dtype=np.float32)\n",
        "for c in range(C):\n",
        "    ST_PRIOR_TRAIN[:, c] = np.array([global_priors[c].get(s, float(Y_train[:, c].mean())) for s in stations_tr], dtype=np.float32)\n",
        "ST_PRIOR_TEST = np.zeros((stations_te.shape[0], C), dtype=np.float32)\n",
        "for c in range(C):\n",
        "    gm = float(Y_train[:, c].mean())\n",
        "    ST_PRIOR_TEST[:, c] = np.array([global_priors[c].get(s, gm) for s in stations_te], dtype=np.float32)\n",
        "\n",
        "auc_global = macro_auc_ignoring_degenerate(Y_train, ST_PRIOR_TRAIN)\n",
        "print(f'Global station-prior (leaky) Macro AUC: {auc_global:.5f}')\n",
        "np.save('prod_stprior_train.npy', ST_PRIOR_TRAIN)\n",
        "np.save('prod_stprior_test.npy', ST_PRIOR_TEST)\n",
        "print('Saved prod_stprior_* npy files.')\n",
        "print('=== END GLOBAL STATION PRIORS ===')"
      ],
      "execution_count": 29,
      "outputs": [
        {
          "output_type": "stream",
          "name": "stdout",
          "text": [
            "=== GLOBAL STATION PRIORS ===\nGlobal station-prior (leaky) Macro AUC: 0.86489\nSaved prod_stprior_* npy files.\n=== END GLOBAL STATION PRIORS ===\n"
          ]
        }
      ]
    },
    {
      "id": "6968e5cf-cc96-4226-9c58-fa16af153dbb",
      "cell_type": "code",
      "metadata": {},
      "source": [
        "# Minimal baseline: Logistic Regression on histogram-only (no station prior), GroupKFold by station\n",
        "import numpy as np\n",
        "from sklearn.model_selection import GroupKFold\n",
        "from sklearn.preprocessing import StandardScaler\n",
        "from sklearn.decomposition import TruncatedSVD\n",
        "from sklearn.linear_model import LogisticRegression\n",
        "\n",
        "print('Starting LR histogram-only baseline...')\n",
        "gkf = GroupKFold(n_splits=3)\n",
        "n_tr, C = Y_train.shape\n",
        "n_te = H_test.shape[0]\n",
        "\n",
        "def run_lr_hist(seed=42, use_svd=True, n_comp=24):\n",
        "    oof = np.zeros((n_tr, C), dtype=np.float32)\n",
        "    te = np.zeros((n_te, C), dtype=np.float32)\n",
        "    for c in range(C):\n",
        "        y = Y_train[:, c].astype(int)\n",
        "        cls_oof = np.zeros(n_tr, dtype=np.float32)\n",
        "        cls_te_acc = np.zeros(n_te, dtype=np.float32)\n",
        "        fold_no = 0\n",
        "        for tr, va in gkf.split(H_train, y, groups):\n",
        "            fold_no += 1\n",
        "            X_tr = H_train[tr]; X_va = H_train[va]; X_te = H_test\n",
        "            y_tr = y[tr]; y_va = y[va]\n",
        "            # Degenerate handling\n",
        "            pos = int(y_tr.sum()); neg = int((1-y_tr).sum())\n",
        "            if pos == 0 or neg == 0 or y_va.sum() in (0, len(y_va)):\n",
        "                const = float(y.mean())\n",
        "                cls_oof[va] = const\n",
        "                cls_te_acc += np.full(n_te, const, np.float32) / gkf.get_n_splits()\n",
        "                continue\n",
        "            # Optional SVD for stability\n",
        "            Z_tr = X_tr; Z_va = X_va; Z_te = X_te\n",
        "            if use_svd:\n",
        "                k = int(min(n_comp, max(2, min(X_tr.shape[1], max(2, X_tr.shape[0]-1)))))\n",
        "                if k >= 2:\n",
        "                    svd = TruncatedSVD(n_components=k, random_state=seed)\n",
        "                    svd.fit(X_tr)\n",
        "                    Z_tr = svd.transform(X_tr).astype(np.float32)\n",
        "                    Z_va = svd.transform(X_va).astype(np.float32)\n",
        "                    Z_te = svd.transform(X_te).astype(np.float32)\n",
        "            # Scale\n",
        "            scaler = StandardScaler(with_mean=True, with_std=True)\n",
        "            Z_tr_s = scaler.fit_transform(Z_tr)\n",
        "            Z_va_s = scaler.transform(Z_va)\n",
        "            Z_te_s = scaler.transform(Z_te)\n",
        "            # LR\n",
        "            lr = LogisticRegression(penalty='l2', C=0.5, class_weight='balanced', solver='liblinear', max_iter=1000, random_state=seed)\n",
        "            lr.fit(Z_tr_s, y_tr)\n",
        "            cls_oof[va] = lr.predict_proba(Z_va_s)[:,1].astype(np.float32)\n",
        "            cls_te_acc += lr.predict_proba(Z_te_s)[:,1].astype(np.float32) / gkf.get_n_splits()\n",
        "        oof[:, c] = cls_oof\n",
        "        te[:, c] = cls_te_acc\n",
        "    return oof, te\n",
        "\n",
        "oof_lr_hist, te_lr_hist = run_lr_hist(seed=42, use_svd=True, n_comp=24)\n",
        "auc_lr_hist = macro_auc_ignoring_degenerate(Y_train, oof_lr_hist)\n",
        "print(f'LR histogram-only OOF Macro AUC: {auc_lr_hist:.5f}')\n",
        "\n",
        "np.save('prod_hist_lr_oof.npy', oof_lr_hist)\n",
        "np.save('prod_hist_lr_test.npy', te_lr_hist)\n",
        "np.save('prod_hist_lr_train_ids.npy', rec_train)\n",
        "np.save('prod_hist_lr_test_ids.npy', rec_test)\n",
        "print('Saved prod_hist_lr_* files.')"
      ],
      "execution_count": 30,
      "outputs": [
        {
          "output_type": "stream",
          "name": "stdout",
          "text": [
            "Starting LR histogram-only baseline...\n"
          ]
        },
        {
          "output_type": "stream",
          "name": "stdout",
          "text": [
            "LR histogram-only OOF Macro AUC: 0.62117\nSaved prod_hist_lr_* files.\n"
          ]
        }
      ]
    },
    {
      "id": "95a385e9-afa7-42b8-905e-1520bbb98d76",
      "cell_type": "code",
      "metadata": {},
      "source": [
        "# XGBoost with histogram + GLOBAL station prior (leaky for OOF, strong for LB); GroupKFold by station\n",
        "import sys, subprocess, time, os\n",
        "from pathlib import Path\n",
        "try:\n",
        "    import xgboost as xgb\n",
        "except Exception:\n",
        "    subprocess.check_call([sys.executable, '-m', 'pip', 'install', '-q', 'xgboost'])\n",
        "    import xgboost as xgb\n",
        "from sklearn.model_selection import GroupKFold\n",
        "from sklearn.decomposition import TruncatedSVD\n",
        "\n",
        "print('Starting XGBoost + GLOBAL station prior... xgb version:', getattr(xgb, '__version__', 'unknown'))\n",
        "\n",
        "# Load global station priors computed in cell 9\n",
        "ST_PRIOR_TRAIN = np.load('prod_stprior_train.npy')  # shape (n_tr, C)\n",
        "ST_PRIOR_TEST = np.load('prod_stprior_test.npy')    # shape (n_te, C)\n",
        "\n",
        "gkf = GroupKFold(n_splits=3)\n",
        "n_tr = Y_train.shape[0]\n",
        "n_te = H_test.shape[0]\n",
        "\n",
        "def run_seed_xgb_global(seed):\n",
        "    oof = np.zeros((n_tr, num_classes), dtype=np.float32)\n",
        "    te = np.zeros((n_te, num_classes), dtype=np.float32)\n",
        "    for c in range(num_classes):\n",
        "        y = Y_train[:, c].astype(int)\n",
        "        cls_oof = np.zeros(n_tr, dtype=np.float32)\n",
        "        cls_te_acc = np.zeros(n_te, dtype=np.float32)\n",
        "        fold_no = 0\n",
        "        for tr_idx, va_idx in gkf.split(H_train, y, groups):\n",
        "            fold_no += 1\n",
        "            tstart = time.time()\n",
        "            Xh_tr = H_train[tr_idx]; Xh_va = H_train[va_idx]; Xh_te = H_test\n",
        "            y_tr = y[tr_idx]; y_va = y[va_idx]\n",
        "            # Attach GLOBAL station prior for this class (1 feature)\n",
        "            st_tr_feat = ST_PRIOR_TRAIN[tr_idx, c][:, None].astype(np.float32)\n",
        "            st_va_feat = ST_PRIOR_TRAIN[va_idx, c][:, None].astype(np.float32)\n",
        "            st_te_feat = ST_PRIOR_TEST[:, c][:, None].astype(np.float32)\n",
        "            # Per-fold SVD for stability\n",
        "            n_comp = int(min(24, max(2, min(Xh_tr.shape[1], max(2, Xh_tr.shape[0]-1))))) if Xh_tr.size>0 else 0\n",
        "            if n_comp >= 2:\n",
        "                svd = TruncatedSVD(n_components=n_comp, random_state=seed)\n",
        "                svd.fit(Xh_tr)\n",
        "                Z_tr = svd.transform(Xh_tr).astype(np.float32)\n",
        "                Z_va = svd.transform(Xh_va).astype(np.float32)\n",
        "                Z_te = svd.transform(Xh_te).astype(np.float32)\n",
        "            else:\n",
        "                Z_tr = None; Z_va = None; Z_te = None\n",
        "            # Build matrices: [GLOBAL prior] + SVD + RAW hist\n",
        "            parts_tr = [st_tr_feat]\n",
        "            parts_va = [st_va_feat]\n",
        "            parts_te = [st_te_feat]\n",
        "            if Z_tr is not None:\n",
        "                parts_tr.append(Z_tr); parts_va.append(Z_va); parts_te.append(Z_te)\n",
        "            parts_tr.append(Xh_tr); parts_va.append(Xh_va); parts_te.append(Xh_te)\n",
        "            X_tr_mat = np.concatenate(parts_tr, axis=1).astype(np.float32)\n",
        "            X_va_mat = np.concatenate(parts_va, axis=1).astype(np.float32)\n",
        "            X_te_mat = np.concatenate(parts_te, axis=1).astype(np.float32)\n",
        "            # Degenerate handling\n",
        "            pos = int(y_tr.sum()); neg = int((1-y_tr).sum())\n",
        "            if pos == 0 or neg == 0 or y_va.sum() in (0, len(y_va)):\n",
        "                const = float(y.mean())\n",
        "                cls_oof[va_idx] = const\n",
        "                cls_te_acc += np.full(n_te, const, np.float32) / gkf.get_n_splits()\n",
        "                print(f'[XGB-G] Class {c:02d} fold {fold_no}: degenerate -> const {const:.4f} | {time.time()-tstart:.2f}s', flush=True)\n",
        "                continue\n",
        "            spw = neg / max(1, pos)\n",
        "            dtrain = xgb.DMatrix(X_tr_mat, label=y_tr)\n",
        "            dvalid = xgb.DMatrix(X_va_mat, label=y_va)\n",
        "            dtest = xgb.DMatrix(X_te_mat)\n",
        "            params = {\n",
        "                'objective': 'binary:logistic',\n",
        "                'eval_metric': 'auc',\n",
        "                'max_depth': 4,\n",
        "                'min_child_weight': 1e-3,\n",
        "                'eta': 0.03,\n",
        "                'subsample': 0.9,\n",
        "                'colsample_bytree': 0.8,\n",
        "                'lambda': 0.1,\n",
        "                'tree_method': 'hist',\n",
        "                'max_bin': 64,\n",
        "                'scale_pos_weight': float(spw),\n",
        "                'seed': int(seed),\n",
        "                'verbosity': 0\n",
        "            }\n",
        "            bst = xgb.train(params, dtrain, num_boost_round=4000, evals=[(dvalid, 'valid')],\n",
        "                            early_stopping_rounds=200, verbose_eval=200)\n",
        "            p_va = bst.predict(dvalid, iteration_range=(0, bst.best_iteration+1)).astype(np.float32)\n",
        "            p_te = bst.predict(dtest, iteration_range=(0, bst.best_iteration+1)).astype(np.float32)\n",
        "            cls_oof[va_idx] = p_va\n",
        "            cls_te_acc += p_te / gkf.get_n_splits()\n",
        "            print(f'[XGB-G] Class {c:02d} fold {fold_no}: pos={pos} neg={neg} spw={spw:.2f} best_iter={bst.best_iteration} | {time.time()-tstart:.2f}s', flush=True)\n",
        "        oof[:, c] = cls_oof\n",
        "        te[:, c] = cls_te_acc\n",
        "    return oof, te\n",
        "\n",
        "seeds = [42, 7, 2025]\n",
        "oofs = []; tests = []\n",
        "for i, sd in enumerate(seeds, 1):\n",
        "    print(f'== XGB-G Seed {sd} ({i}/{len(seeds)}) ==', flush=True)\n",
        "    oof_s, te_s = run_seed_xgb_global(sd)\n",
        "    oofs.append(oof_s); tests.append(te_s)\n",
        "\n",
        "oof_mean = np.mean(np.stack(oofs, axis=0), axis=0)\n",
        "te_mean = np.mean(np.stack(tests, axis=0), axis=0)\n",
        "auc = macro_auc_ignoring_degenerate(Y_train, oof_mean)\n",
        "print(f'Final XGB + GLOBAL prior (3-seed) OOF Macro AUC: {auc:.5f}')\n",
        "\n",
        "np.save('prod_xgbG_oof.npy', oof_mean)\n",
        "np.save('prod_xgbG_test.npy', te_mean)\n",
        "np.save('prod_xgbG_train_ids.npy', rec_train)\n",
        "np.save('prod_xgbG_test_ids.npy', rec_test)\n",
        "print('Saved prod_xgbG_* files.')"
      ],
      "execution_count": 35,
      "outputs": [
        {
          "output_type": "stream",
          "name": "stdout",
          "text": [
            "Starting XGBoost + GLOBAL station prior... xgb version: 2.1.4\n== XGB-G Seed 42 (1/3) ==\n"
          ]
        },
        {
          "output_type": "stream",
          "name": "stdout",
          "text": [
            "[0]\tvalid-auc:0.66092\n"
          ]
        },
        {
          "output_type": "stream",
          "name": "stdout",
          "text": [
            "[200]\tvalid-auc:0.94828\n"
          ]
        },
        {
          "output_type": "stream",
          "name": "stdout",
          "text": [
            "[238]\tvalid-auc:0.94828\n"
          ]
        },
        {
          "output_type": "stream",
          "name": "stdout",
          "text": [
            "[XGB-G] Class 00 fold 1: pos=3 neg=164 spw=54.67 best_iter=39 | 0.32s\n"
          ]
        },
        {
          "output_type": "stream",
          "name": "stdout",
          "text": [
            "[0]\tvalid-auc:0.86667\n"
          ]
        },
        {
          "output_type": "stream",
          "name": "stdout",
          "text": [
            "[199]\tvalid-auc:0.84167\n"
          ]
        },
        {
          "output_type": "stream",
          "name": "stdout",
          "text": [
            "[XGB-G] Class 00 fold 2: pos=4 neg=171 spw=42.75 best_iter=0 | 0.29s\n"
          ]
        },
        {
          "output_type": "stream",
          "name": "stdout",
          "text": [
            "[XGB-G] Class 00 fold 3: degenerate -> const 0.0271 | 0.03s\n"
          ]
        },
        {
          "output_type": "stream",
          "name": "stdout",
          "text": [
            "[0]\tvalid-auc:0.63619\n"
          ]
        },
        {
          "output_type": "stream",
          "name": "stdout",
          "text": [
            "[200]\tvalid-auc:0.77550\n"
          ]
        },
        {
          "output_type": "stream",
          "name": "stdout",
          "text": [
            "[310]\tvalid-auc:0.77488\n"
          ]
        },
        {
          "output_type": "stream",
          "name": "stdout",
          "text": [
            "[XGB-G] Class 01 fold 1: pos=4 neg=163 spw=40.75 best_iter=111 | 0.36s\n"
          ]
        },
        {
          "output_type": "stream",
          "name": "stdout",
          "text": [
            "[XGB-G] Class 01 fold 2: degenerate -> const 0.1085 | 0.03s\n"
          ]
        },
        {
          "output_type": "stream",
          "name": "stdout",
          "text": [
            "[0]\tvalid-auc:0.77656\n"
          ]
        },
        {
          "output_type": "stream",
          "name": "stdout",
          "text": [
            "[200]\tvalid-auc:0.80625\n"
          ]
        },
        {
          "output_type": "stream",
          "name": "stdout",
          "text": [
            "[201]\tvalid-auc:0.80625\n"
          ]
        },
        {
          "output_type": "stream",
          "name": "stdout",
          "text": [
            "[XGB-G] Class 01 fold 3: pos=24 neg=150 spw=6.25 best_iter=1 | 0.27s\n"
          ]
        },
        {
          "output_type": "stream",
          "name": "stdout",
          "text": [
            "[0]\tvalid-auc:0.53401\n"
          ]
        },
        {
          "output_type": "stream",
          "name": "stdout",
          "text": [
            "[200]\tvalid-auc:0.80782\n"
          ]
        },
        {
          "output_type": "stream",
          "name": "stdout",
          "text": [
            "[202]\tvalid-auc:0.80782\n"
          ]
        },
        {
          "output_type": "stream",
          "name": "stdout",
          "text": [
            "[XGB-G] Class 02 fold 1: pos=12 neg=155 spw=12.92 best_iter=2 | 0.29s\n"
          ]
        },
        {
          "output_type": "stream",
          "name": "stdout",
          "text": [
            "[0]\tvalid-auc:0.73846\n"
          ]
        },
        {
          "output_type": "stream",
          "name": "stdout",
          "text": [
            "[200]\tvalid-auc:0.91795\n"
          ]
        },
        {
          "output_type": "stream",
          "name": "stdout",
          "text": [
            "[235]\tvalid-auc:0.91282\n"
          ]
        },
        {
          "output_type": "stream",
          "name": "stdout",
          "text": [
            "[XGB-G] Class 02 fold 2: pos=14 neg=161 spw=11.50 best_iter=36 | 0.32s\n"
          ]
        },
        {
          "output_type": "stream",
          "name": "stdout",
          "text": [
            "[0]\tvalid-auc:0.60575\n"
          ]
        },
        {
          "output_type": "stream",
          "name": "stdout",
          "text": [
            "[200]\tvalid-auc:0.74861\n"
          ]
        },
        {
          "output_type": "stream",
          "name": "stdout",
          "text": [
            "[400]\tvalid-auc:0.77922\n"
          ]
        },
        {
          "output_type": "stream",
          "name": "stdout",
          "text": [
            "[600]\tvalid-auc:0.78479\n"
          ]
        },
        {
          "output_type": "stream",
          "name": "stdout",
          "text": [
            "[800]\tvalid-auc:0.78664\n"
          ]
        },
        {
          "output_type": "stream",
          "name": "stdout",
          "text": [
            "[851]\tvalid-auc:0.78664\n"
          ]
        },
        {
          "output_type": "stream",
          "name": "stdout",
          "text": [
            "[XGB-G] Class 02 fold 3: pos=12 neg=162 spw=13.50 best_iter=651 | 0.71s\n"
          ]
        },
        {
          "output_type": "stream",
          "name": "stdout",
          "text": [
            "[XGB-G] Class 03 fold 1: degenerate -> const 0.0155 | 0.04s\n"
          ]
        },
        {
          "output_type": "stream",
          "name": "stdout",
          "text": [
            "[XGB-G] Class 03 fold 2: degenerate -> const 0.0155 | 0.02s\n"
          ]
        },
        {
          "output_type": "stream",
          "name": "stdout",
          "text": [
            "[XGB-G] Class 03 fold 3: degenerate -> const 0.0155 | 0.01s\n"
          ]
        },
        {
          "output_type": "stream",
          "name": "stdout",
          "text": [
            "[0]\tvalid-auc:0.94444\n"
          ]
        },
        {
          "output_type": "stream",
          "name": "stdout",
          "text": [
            "[200]\tvalid-auc:0.86667\n"
          ]
        },
        {
          "output_type": "stream",
          "name": "stdout",
          "text": [
            "[205]\tvalid-auc:0.86667\n"
          ]
        },
        {
          "output_type": "stream",
          "name": "stdout",
          "text": [
            "[XGB-G] Class 04 fold 1: pos=8 neg=159 spw=19.88 best_iter=5 | 0.29s\n"
          ]
        },
        {
          "output_type": "stream",
          "name": "stdout",
          "text": [
            "[0]\tvalid-auc:0.48026\n"
          ]
        },
        {
          "output_type": "stream",
          "name": "stdout",
          "text": [
            "[200]\tvalid-auc:0.76504\n"
          ]
        },
        {
          "output_type": "stream",
          "name": "stdout",
          "text": [
            "[287]\tvalid-auc:0.78383\n"
          ]
        },
        {
          "output_type": "stream",
          "name": "stdout",
          "text": [
            "[XGB-G] Class 04 fold 2: pos=2 neg=173 spw=86.50 best_iter=88 | 0.33s\n"
          ]
        },
        {
          "output_type": "stream",
          "name": "stdout",
          "text": [
            "[0]\tvalid-auc:0.09639\n"
          ]
        },
        {
          "output_type": "stream",
          "name": "stdout",
          "text": [
            "[200]\tvalid-auc:0.19277\n"
          ]
        },
        {
          "output_type": "stream",
          "name": "stdout",
          "text": [
            "[217]\tvalid-auc:0.22892\n"
          ]
        },
        {
          "output_type": "stream",
          "name": "stdout",
          "text": [
            "[XGB-G] Class 04 fold 3: pos=8 neg=166 spw=20.75 best_iter=18 | 0.39s\n"
          ]
        },
        {
          "output_type": "stream",
          "name": "stdout",
          "text": [
            "[0]\tvalid-auc:0.45506\n"
          ]
        },
        {
          "output_type": "stream",
          "name": "stdout",
          "text": [
            "[200]\tvalid-auc:0.73034\n"
          ]
        },
        {
          "output_type": "stream",
          "name": "stdout",
          "text": [
            "[353]\tvalid-auc:0.74438\n"
          ]
        },
        {
          "output_type": "stream",
          "name": "stdout",
          "text": [
            "[XGB-G] Class 05 fold 1: pos=3 neg=164 spw=54.67 best_iter=153 | 0.44s\n"
          ]
        },
        {
          "output_type": "stream",
          "name": "stdout",
          "text": [
            "[0]\tvalid-auc:0.38415\n"
          ]
        },
        {
          "output_type": "stream",
          "name": "stdout",
          "text": [
            "[200]\tvalid-auc:0.87805\n"
          ]
        },
        {
          "output_type": "stream",
          "name": "stdout",
          "text": [
            "[233]\tvalid-auc:0.87805\n"
          ]
        },
        {
          "output_type": "stream",
          "name": "stdout",
          "text": [
            "[XGB-G] Class 05 fold 2: pos=4 neg=171 spw=42.75 best_iter=33 | 0.31s\n"
          ]
        },
        {
          "output_type": "stream",
          "name": "stdout",
          "text": [
            "[0]\tvalid-auc:0.44512\n"
          ]
        },
        {
          "output_type": "stream",
          "name": "stdout",
          "text": [
            "[200]\tvalid-auc:0.75610\n"
          ]
        },
        {
          "output_type": "stream",
          "name": "stdout",
          "text": [
            "[215]\tvalid-auc:0.75610\n"
          ]
        },
        {
          "output_type": "stream",
          "name": "stdout",
          "text": [
            "[XGB-G] Class 05 fold 3: pos=3 neg=171 spw=57.00 best_iter=16 | 0.43s\n"
          ]
        },
        {
          "output_type": "stream",
          "name": "stdout",
          "text": [
            "[0]\tvalid-auc:0.17222\n"
          ]
        },
        {
          "output_type": "stream",
          "name": "stdout",
          "text": [
            "[0]\tvalid-auc:0.46593\n"
          ]
        },
        {
          "output_type": "stream",
          "name": "stdout",
          "text": [
            "[200]\tvalid-auc:0.77111\n"
          ]
        },
        {
          "output_type": "stream",
          "name": "stdout",
          "text": [
            "[400]\tvalid-auc:0.78593\n"
          ]
        },
        {
          "output_type": "stream",
          "name": "stdout",
          "text": [
            "[425]\tvalid-auc:0.78593\n"
          ]
        },
        {
          "output_type": "stream",
          "name": "stdout",
          "text": [
            "[XGB-G] Class 06 fold 3: pos=10 neg=164 spw=16.40 best_iter=226 | 0.66s\n"
          ]
        },
        {
          "output_type": "stream",
          "name": "stdout",
          "text": [
            "[0]\tvalid-auc:0.24849\n"
          ]
        },
        {
          "output_type": "stream",
          "name": "stdout",
          "text": [
            "[200]\tvalid-auc:0.46235\n"
          ]
        },
        {
          "output_type": "stream",
          "name": "stdout",
          "text": [
            "[204]\tvalid-auc:0.46687\n"
          ]
        },
        {
          "output_type": "stream",
          "name": "stdout",
          "text": [
            "[XGB-G] Class 07 fold 1: pos=11 neg=156 spw=14.18 best_iter=4 | 0.31s\n"
          ]
        },
        {
          "output_type": "stream",
          "name": "stdout",
          "text": [
            "[0]\tvalid-auc:0.51282\n"
          ]
        },
        {
          "output_type": "stream",
          "name": "stdout",
          "text": [
            "[200]\tvalid-auc:0.63333\n"
          ]
        },
        {
          "output_type": "stream",
          "name": "stdout",
          "text": [
            "[204]\tvalid-auc:0.63333\n"
          ]
        },
        {
          "output_type": "stream",
          "name": "stdout",
          "text": [
            "[XGB-G] Class 07 fold 2: pos=14 neg=161 spw=11.50 best_iter=4 | 0.36s\n"
          ]
        },
        {
          "output_type": "stream",
          "name": "stdout",
          "text": [
            "[0]\tvalid-auc:0.60791\n"
          ]
        },
        {
          "output_type": "stream",
          "name": "stdout",
          "text": [
            "[200]\tvalid-auc:0.53205\n"
          ]
        },
        {
          "output_type": "stream",
          "name": "stdout",
          "text": [
            "[201]\tvalid-auc:0.53205\n"
          ]
        },
        {
          "output_type": "stream",
          "name": "stdout",
          "text": [
            "[XGB-G] Class 07 fold 3: pos=13 neg=161 spw=12.38 best_iter=1 | 0.33s\n"
          ]
        },
        {
          "output_type": "stream",
          "name": "stdout",
          "text": [
            "[0]\tvalid-auc:0.16098\n"
          ]
        },
        {
          "output_type": "stream",
          "name": "stdout",
          "text": [
            "[200]\tvalid-auc:0.87500\n"
          ]
        },
        {
          "output_type": "stream",
          "name": "stdout",
          "text": [
            "[231]\tvalid-auc:0.87500\n"
          ]
        },
        {
          "output_type": "stream",
          "name": "stdout",
          "text": [
            "[XGB-G] Class 08 fold 1: pos=21 neg=146 spw=6.95 best_iter=31 | 0.30s\n"
          ]
        },
        {
          "output_type": "stream",
          "name": "stdout",
          "text": [
            "[0]\tvalid-auc:0.84726\n"
          ]
        },
        {
          "output_type": "stream",
          "name": "stdout",
          "text": [
            "[200]\tvalid-auc:0.88973\n"
          ]
        },
        {
          "output_type": "stream",
          "name": "stdout",
          "text": [
            "[215]\tvalid-auc:0.89110\n"
          ]
        },
        {
          "output_type": "stream",
          "name": "stdout",
          "text": [
            "[XGB-G] Class 08 fold 2: pos=14 neg=161 spw=11.50 best_iter=16 | 0.36s\n"
          ]
        },
        {
          "output_type": "stream",
          "name": "stdout",
          "text": [
            "[0]\tvalid-auc:0.55666\n"
          ]
        },
        {
          "output_type": "stream",
          "name": "stdout",
          "text": [
            "[200]\tvalid-auc:0.84060\n"
          ]
        },
        {
          "output_type": "stream",
          "name": "stdout",
          "text": [
            "[256]\tvalid-auc:0.82067\n"
          ]
        },
        {
          "output_type": "stream",
          "name": "stdout",
          "text": [
            "[XGB-G] Class 08 fold 3: pos=13 neg=161 spw=12.38 best_iter=57 | 0.36s\n"
          ]
        },
        {
          "output_type": "stream",
          "name": "stdout",
          "text": [
            "[0]\tvalid-auc:0.43561\n"
          ]
        },
        {
          "output_type": "stream",
          "name": "stdout",
          "text": [
            "[200]\tvalid-auc:0.63636\n"
          ]
        },
        {
          "output_type": "stream",
          "name": "stdout",
          "text": [
            "[204]\tvalid-auc:0.63636\n"
          ]
        },
        {
          "output_type": "stream",
          "name": "stdout",
          "text": [
            "[XGB-G] Class 09 fold 1: pos=18 neg=149 spw=8.28 best_iter=4 | 0.40s\n"
          ]
        },
        {
          "output_type": "stream",
          "name": "stdout",
          "text": [
            "[0]\tvalid-auc:0.46986\n"
          ]
        },
        {
          "output_type": "stream",
          "name": "stdout",
          "text": [
            "[200]\tvalid-auc:0.59726\n"
          ]
        },
        {
          "output_type": "stream",
          "name": "stdout",
          "text": [
            "[221]\tvalid-auc:0.61233\n"
          ]
        },
        {
          "output_type": "stream",
          "name": "stdout",
          "text": [
            "[XGB-G] Class 09 fold 2: pos=11 neg=164 spw=14.91 best_iter=21 | 0.37s\n"
          ]
        },
        {
          "output_type": "stream",
          "name": "stdout",
          "text": [
            "[0]\tvalid-auc:0.60691\n"
          ]
        },
        {
          "output_type": "stream",
          "name": "stdout",
          "text": [
            "[200]\tvalid-auc:0.69572\n"
          ]
        },
        {
          "output_type": "stream",
          "name": "stdout",
          "text": [
            "[249]\tvalid-auc:0.68586\n"
          ]
        },
        {
          "output_type": "stream",
          "name": "stdout",
          "text": [
            "[XGB-G] Class 09 fold 3: pos=13 neg=161 spw=12.38 best_iter=50 | 0.47s\n"
          ]
        },
        {
          "output_type": "stream",
          "name": "stdout",
          "text": [
            "[0]\tvalid-auc:0.64386\n"
          ]
        },
        {
          "output_type": "stream",
          "name": "stdout",
          "text": [
            "[200]\tvalid-auc:0.73561\n"
          ]
        },
        {
          "output_type": "stream",
          "name": "stdout",
          "text": [
            "[278]\tvalid-auc:0.74201\n"
          ]
        },
        {
          "output_type": "stream",
          "name": "stdout",
          "text": [
            "[XGB-G] Class 10 fold 1: pos=26 neg=141 spw=5.42 best_iter=78 | 0.46s\n"
          ]
        },
        {
          "output_type": "stream",
          "name": "stdout",
          "text": [
            "[0]\tvalid-auc:0.78346\n"
          ]
        },
        {
          "output_type": "stream",
          "name": "stdout",
          "text": [
            "[200]\tvalid-auc:0.68561\n"
          ]
        },
        {
          "output_type": "stream",
          "name": "stdout",
          "text": [
            "[201]\tvalid-auc:0.66667\n"
          ]
        },
        {
          "output_type": "stream",
          "name": "stdout",
          "text": [
            "[XGB-G] Class 10 fold 2: pos=38 neg=137 spw=3.61 best_iter=1 | 0.37s\n"
          ]
        },
        {
          "output_type": "stream",
          "name": "stdout",
          "text": [
            "[0]\tvalid-auc:0.72271\n"
          ]
        },
        {
          "output_type": "stream",
          "name": "stdout",
          "text": [
            "[200]\tvalid-auc:0.81643\n"
          ]
        },
        {
          "output_type": "stream",
          "name": "stdout",
          "text": [
            "[207]\tvalid-auc:0.81739\n"
          ]
        },
        {
          "output_type": "stream",
          "name": "stdout",
          "text": [
            "[XGB-G] Class 10 fold 3: pos=34 neg=140 spw=4.12 best_iter=7 | 0.38s\n"
          ]
        },
        {
          "output_type": "stream",
          "name": "stdout",
          "text": [
            "[0]\tvalid-auc:0.50000\n"
          ]
        },
        {
          "output_type": "stream",
          "name": "stdout",
          "text": [
            "[200]\tvalid-auc:0.49390\n"
          ]
        },
        {
          "output_type": "stream",
          "name": "stdout",
          "text": [
            "[XGB-G] Class 11 fold 1: pos=1 neg=166 spw=166.00 best_iter=0 | 0.26s\n"
          ]
        },
        {
          "output_type": "stream",
          "name": "stdout",
          "text": [
            "[XGB-G] Class 11 fold 2: degenerate -> const 0.0388 | 0.03s\n"
          ]
        },
        {
          "output_type": "stream",
          "name": "stdout",
          "text": [
            "[0]\tvalid-auc:0.18072\n"
          ]
        },
        {
          "output_type": "stream",
          "name": "stdout",
          "text": [
            "[200]\tvalid-auc:0.40964\n"
          ]
        },
        {
          "output_type": "stream",
          "name": "stdout",
          "text": [
            "[202]\tvalid-auc:0.40964\n"
          ]
        },
        {
          "output_type": "stream",
          "name": "stdout",
          "text": [
            "[XGB-G] Class 11 fold 3: pos=9 neg=165 spw=18.33 best_iter=2 | 0.30s\n"
          ]
        },
        {
          "output_type": "stream",
          "name": "stdout",
          "text": [
            "[0]\tvalid-auc:0.29070\n"
          ]
        },
        {
          "output_type": "stream",
          "name": "stdout",
          "text": [
            "[200]\tvalid-auc:0.78721\n"
          ]
        },
        {
          "output_type": "stream",
          "name": "stdout",
          "text": [
            "[258]\tvalid-auc:0.78953\n"
          ]
        },
        {
          "output_type": "stream",
          "name": "stdout",
          "text": [
            "[XGB-G] Class 12 fold 1: pos=7 neg=160 spw=22.86 best_iter=59 | 0.35s\n"
          ]
        },
        {
          "output_type": "stream",
          "name": "stdout",
          "text": [
            "[0]\tvalid-auc:0.69792\n"
          ]
        },
        {
          "output_type": "stream",
          "name": "stdout",
          "text": [
            "[200]\tvalid-auc:0.93750\n"
          ]
        },
        {
          "output_type": "stream",
          "name": "stdout",
          "text": [
            "[210]\tvalid-auc:0.93750\n"
          ]
        },
        {
          "output_type": "stream",
          "name": "stdout",
          "text": [
            "[XGB-G] Class 12 fold 2: pos=9 neg=166 spw=18.44 best_iter=11 | 0.36s\n"
          ]
        },
        {
          "output_type": "stream",
          "name": "stdout",
          "text": [
            "[0]\tvalid-auc:0.76094\n"
          ]
        },
        {
          "output_type": "stream",
          "name": "stdout",
          "text": [
            "[200]\tvalid-auc:0.92188\n"
          ]
        },
        {
          "output_type": "stream",
          "name": "stdout",
          "text": [
            "[333]\tvalid-auc:0.91250\n"
          ]
        },
        {
          "output_type": "stream",
          "name": "stdout",
          "text": [
            "[XGB-G] Class 12 fold 3: pos=8 neg=166 spw=20.75 best_iter=133 | 0.46s\n"
          ]
        },
        {
          "output_type": "stream",
          "name": "stdout",
          "text": [
            "[XGB-G] Class 13 fold 1: degenerate -> const 0.0155 | 0.03s\n"
          ]
        },
        {
          "output_type": "stream",
          "name": "stdout",
          "text": [
            "[XGB-G] Class 13 fold 2: degenerate -> const 0.0155 | 0.01s\n"
          ]
        },
        {
          "output_type": "stream",
          "name": "stdout",
          "text": [
            "[XGB-G] Class 13 fold 3: degenerate -> const 0.0155 | 0.01s\n"
          ]
        },
        {
          "output_type": "stream",
          "name": "stdout",
          "text": [
            "[0]\tvalid-auc:0.14607\n"
          ]
        },
        {
          "output_type": "stream",
          "name": "stdout",
          "text": [
            "[200]\tvalid-auc:0.46629\n"
          ]
        },
        {
          "output_type": "stream",
          "name": "stdout",
          "text": [
            "[228]\tvalid-auc:0.48876\n"
          ]
        },
        {
          "output_type": "stream",
          "name": "stdout",
          "text": [
            "[XGB-G] Class 14 fold 1: pos=14 neg=153 spw=10.93 best_iter=29 | 0.32s\n"
          ]
        },
        {
          "output_type": "stream",
          "name": "stdout",
          "text": [
            "[0]\tvalid-auc:0.52020\n"
          ]
        },
        {
          "output_type": "stream",
          "name": "stdout",
          "text": [
            "[200]\tvalid-auc:0.66414\n"
          ]
        },
        {
          "output_type": "stream",
          "name": "stdout",
          "text": [
            "[242]\tvalid-auc:0.69192\n"
          ]
        },
        {
          "output_type": "stream",
          "name": "stdout",
          "text": [
            "[XGB-G] Class 14 fold 2: pos=5 neg=170 spw=34.00 best_iter=43 | 0.32s\n"
          ]
        },
        {
          "output_type": "stream",
          "name": "stdout",
          "text": [
            "[0]\tvalid-auc:0.26749\n"
          ]
        },
        {
          "output_type": "stream",
          "name": "stdout",
          "text": [
            "[200]\tvalid-auc:0.93004\n"
          ]
        },
        {
          "output_type": "stream",
          "name": "stdout",
          "text": [
            "[400]\tvalid-auc:0.92593\n"
          ]
        },
        {
          "output_type": "stream",
          "name": "stdout",
          "text": [
            "[411]\tvalid-auc:0.92593\n"
          ]
        },
        {
          "output_type": "stream",
          "name": "stdout",
          "text": [
            "[XGB-G] Class 14 fold 3: pos=13 neg=161 spw=12.38 best_iter=211 | 0.54s\n"
          ]
        },
        {
          "output_type": "stream",
          "name": "stdout",
          "text": [
            "[0]\tvalid-auc:0.91667\n"
          ]
        },
        {
          "output_type": "stream",
          "name": "stdout",
          "text": [
            "[200]\tvalid-auc:0.92222\n"
          ]
        },
        {
          "output_type": "stream",
          "name": "stdout",
          "text": [
            "[223]\tvalid-auc:0.92222\n"
          ]
        },
        {
          "output_type": "stream",
          "name": "stdout",
          "text": [
            "[XGB-G] Class 15 fold 1: pos=5 neg=162 spw=32.40 best_iter=23 | 0.34s\n"
          ]
        },
        {
          "output_type": "stream",
          "name": "stdout",
          "text": [
            "[0]\tvalid-auc:0.50000\n"
          ]
        },
        {
          "output_type": "stream",
          "name": "stdout",
          "text": [
            "[200]\tvalid-auc:0.56026\n"
          ]
        },
        {
          "output_type": "stream",
          "name": "stdout",
          "text": [
            "[400]\tvalid-auc:0.65128\n"
          ]
        },
        {
          "output_type": "stream",
          "name": "stdout",
          "text": [
            "[528]\tvalid-auc:0.65128\n"
          ]
        },
        {
          "output_type": "stream",
          "name": "stdout",
          "text": [
            "[XGB-G] Class 15 fold 2: pos=1 neg=174 spw=174.00 best_iter=328 | 0.49s\n"
          ]
        },
        {
          "output_type": "stream",
          "name": "stdout",
          "text": [
            "[XGB-G] Class 15 fold 3: degenerate -> const 0.0233 | 0.04s\n"
          ]
        },
        {
          "output_type": "stream",
          "name": "stdout",
          "text": [
            "[XGB-G] Class 16 fold 1: degenerate -> const 0.0078 | 0.01s\n"
          ]
        },
        {
          "output_type": "stream",
          "name": "stdout",
          "text": [
            "[XGB-G] Class 16 fold 2: degenerate -> const 0.0078 | 0.01s\n"
          ]
        },
        {
          "output_type": "stream",
          "name": "stdout",
          "text": [
            "[XGB-G] Class 16 fold 3: degenerate -> const 0.0078 | 0.01s\n"
          ]
        },
        {
          "output_type": "stream",
          "name": "stdout",
          "text": [
            "[0]\tvalid-auc:0.50000\n"
          ]
        },
        {
          "output_type": "stream",
          "name": "stdout",
          "text": [
            "[200]\tvalid-auc:0.50947\n"
          ]
        },
        {
          "output_type": "stream",
          "name": "stdout",
          "text": [
            "[400]\tvalid-auc:0.80492\n"
          ]
        },
        {
          "output_type": "stream",
          "name": "stdout",
          "text": [
            "[422]\tvalid-auc:0.80492\n"
          ]
        },
        {
          "output_type": "stream",
          "name": "stdout",
          "text": [
            "[XGB-G] Class 17 fold 1: pos=1 neg=166 spw=166.00 best_iter=222 | 0.43s\n"
          ]
        },
        {
          "output_type": "stream",
          "name": "stdout",
          "text": [
            "[XGB-G] Class 17 fold 2: degenerate -> const 0.0155 | 0.03s\n"
          ]
        },
        {
          "output_type": "stream",
          "name": "stdout",
          "text": [
            "[0]\tvalid-auc:0.50000\n"
          ]
        },
        {
          "output_type": "stream",
          "name": "stdout",
          "text": [
            "[200]\tvalid-auc:0.91566\n"
          ]
        },
        {
          "output_type": "stream",
          "name": "stdout",
          "text": [
            "[206]\tvalid-auc:0.91566\n"
          ]
        },
        {
          "output_type": "stream",
          "name": "stdout",
          "text": [
            "[XGB-G] Class 17 fold 3: pos=3 neg=171 spw=57.00 best_iter=6 | 0.33s\n"
          ]
        },
        {
          "output_type": "stream",
          "name": "stdout",
          "text": [
            "[0]\tvalid-auc:0.86977\n"
          ]
        },
        {
          "output_type": "stream",
          "name": "stdout",
          "text": [
            "[200]\tvalid-auc:0.93256\n"
          ]
        },
        {
          "output_type": "stream",
          "name": "stdout",
          "text": [
            "[XGB-G] Class 18 fold 1: pos=7 neg=160 spw=22.86 best_iter=1 | 0.33s\n"
          ]
        },
        {
          "output_type": "stream",
          "name": "stdout",
          "text": [
            "[XGB-G] Class 18 fold 2: degenerate -> const 0.0465 | 0.03s\n"
          ]
        },
        {
          "output_type": "stream",
          "name": "stdout",
          "text": [
            "[0]\tvalid-auc:0.73469\n"
          ]
        },
        {
          "output_type": "stream",
          "name": "stdout",
          "text": [
            "[200]\tvalid-auc:0.92764\n"
          ]
        },
        {
          "output_type": "stream",
          "name": "stdout",
          "text": [
            "[258]\tvalid-auc:0.93506\n"
          ]
        },
        {
          "output_type": "stream",
          "name": "stdout",
          "text": [
            "[XGB-G] Class 18 fold 3: pos=5 neg=169 spw=33.80 best_iter=58 | 0.35s\n"
          ]
        },
        {
          "output_type": "stream",
          "name": "stdout",
          "text": [
            "== XGB-G Seed 7 (2/3) ==\n"
          ]
        },
        {
          "output_type": "stream",
          "name": "stdout",
          "text": [
            "[0]\tvalid-auc:0.62500\n"
          ]
        },
        {
          "output_type": "stream",
          "name": "stdout",
          "text": [
            "[200]\tvalid-auc:0.90517\n"
          ]
        },
        {
          "output_type": "stream",
          "name": "stdout",
          "text": [
            "[235]\tvalid-auc:0.91092\n"
          ]
        },
        {
          "output_type": "stream",
          "name": "stdout",
          "text": [
            "[XGB-G] Class 00 fold 1: pos=3 neg=164 spw=54.67 best_iter=35 | 0.37s\n"
          ]
        },
        {
          "output_type": "stream",
          "name": "stdout",
          "text": [
            "[0]\tvalid-auc:0.50000\n"
          ]
        },
        {
          "output_type": "stream",
          "name": "stdout",
          "text": [
            "[200]\tvalid-auc:0.89167\n"
          ]
        },
        {
          "output_type": "stream",
          "name": "stdout",
          "text": [
            "[340]\tvalid-auc:0.83333\n"
          ]
        },
        {
          "output_type": "stream",
          "name": "stdout",
          "text": [
            "[XGB-G] Class 00 fold 2: pos=4 neg=171 spw=42.75 best_iter=141 | 0.43s\n"
          ]
        },
        {
          "output_type": "stream",
          "name": "stdout",
          "text": [
            "[XGB-G] Class 00 fold 3: degenerate -> const 0.0271 | 0.04s\n"
          ]
        },
        {
          "output_type": "stream",
          "name": "stdout",
          "text": [
            "[0]\tvalid-auc:0.64241\n"
          ]
        },
        {
          "output_type": "stream",
          "name": "stdout",
          "text": [
            "[200]\tvalid-auc:0.78669\n"
          ]
        },
        {
          "output_type": "stream",
          "name": "stdout",
          "text": [
            "[297]\tvalid-auc:0.78669\n"
          ]
        },
        {
          "output_type": "stream",
          "name": "stdout",
          "text": [
            "[XGB-G] Class 01 fold 1: pos=4 neg=163 spw=40.75 best_iter=98 | 0.35s\n"
          ]
        },
        {
          "output_type": "stream",
          "name": "stdout",
          "text": [
            "[XGB-G] Class 01 fold 2: degenerate -> const 0.1085 | 0.04s\n"
          ]
        },
        {
          "output_type": "stream",
          "name": "stdout",
          "text": [
            "[0]\tvalid-auc:0.85313\n"
          ]
        },
        {
          "output_type": "stream",
          "name": "stdout",
          "text": [
            "[199]\tvalid-auc:0.80625\n"
          ]
        },
        {
          "output_type": "stream",
          "name": "stdout",
          "text": [
            "[XGB-G] Class 01 fold 3: pos=24 neg=150 spw=6.25 best_iter=0 | 0.33s\n"
          ]
        },
        {
          "output_type": "stream",
          "name": "stdout",
          "text": [
            "[0]\tvalid-auc:0.91241\n"
          ]
        },
        {
          "output_type": "stream",
          "name": "stdout",
          "text": [
            "[200]\tvalid-auc:0.76701\n"
          ]
        },
        {
          "output_type": "stream",
          "name": "stdout",
          "text": [
            "[202]\tvalid-auc:0.76701\n"
          ]
        },
        {
          "output_type": "stream",
          "name": "stdout",
          "text": [
            "[XGB-G] Class 02 fold 1: pos=12 neg=155 spw=12.92 best_iter=3 | 0.36s\n"
          ]
        },
        {
          "output_type": "stream",
          "name": "stdout",
          "text": [
            "[0]\tvalid-auc:0.81667"
          ]
        },
        {
          "output_type": "stream",
          "name": "stdout",
          "text": [
            "\n"
          ]
        },
        {
          "output_type": "stream",
          "name": "stdout",
          "text": [
            "[200]\tvalid-auc:0.81795\n"
          ]
        },
        {
          "output_type": "stream",
          "name": "stdout",
          "text": [
            "[236]\tvalid-auc:0.90769\n"
          ]
        },
        {
          "output_type": "stream",
          "name": "stdout",
          "text": [
            "[XGB-G] Class 02 fold 2: pos=14 neg=161 spw=11.50 best_iter=36 | 0.36s\n"
          ]
        },
        {
          "output_type": "stream",
          "name": "stdout",
          "text": [
            "[0]\tvalid-auc:0.60946\n"
          ]
        },
        {
          "output_type": "stream",
          "name": "stdout",
          "text": [
            "[200]\tvalid-auc:0.73840\n"
          ]
        },
        {
          "output_type": "stream",
          "name": "stdout",
          "text": [
            "[221]\tvalid-auc:0.74212\n"
          ]
        },
        {
          "output_type": "stream",
          "name": "stdout",
          "text": [
            "[XGB-G] Class 02 fold 3: pos=12 neg=162 spw=13.50 best_iter=22 | 0.31s\n"
          ]
        },
        {
          "output_type": "stream",
          "name": "stdout",
          "text": [
            "[XGB-G] Class 03 fold 1: degenerate -> const 0.0155 | 0.04s\n"
          ]
        },
        {
          "output_type": "stream",
          "name": "stdout",
          "text": [
            "[XGB-G] Class 03 fold 2: degenerate -> const 0.0155 | 0.01s\n"
          ]
        },
        {
          "output_type": "stream",
          "name": "stdout",
          "text": [
            "[XGB-G] Class 03 fold 3: degenerate -> const 0.0155 | 0.01s\n"
          ]
        },
        {
          "output_type": "stream",
          "name": "stdout",
          "text": [
            "[0]\tvalid-auc:0.50000\n"
          ]
        },
        {
          "output_type": "stream",
          "name": "stdout",
          "text": [
            "[200]\tvalid-auc:0.36667\n"
          ]
        },
        {
          "output_type": "stream",
          "name": "stdout",
          "text": [
            "[202]\tvalid-auc:0.36667\n"
          ]
        },
        {
          "output_type": "stream",
          "name": "stdout",
          "text": [
            "[XGB-G] Class 04 fold 1: pos=8 neg=159 spw=19.88 best_iter=3 | 0.26s\n"
          ]
        },
        {
          "output_type": "stream",
          "name": "stdout",
          "text": [
            "[0]\tvalid-auc:0.42105\n"
          ]
        },
        {
          "output_type": "stream",
          "name": "stdout",
          "text": [
            "[200]\tvalid-auc:0.74624\n"
          ]
        },
        {
          "output_type": "stream",
          "name": "stdout",
          "text": [
            "[234]\tvalid-auc:0.75188\n"
          ]
        },
        {
          "output_type": "stream",
          "name": "stdout",
          "text": [
            "[XGB-G] Class 04 fold 2: pos=2 neg=173 spw=86.50 best_iter=35 | 0.29s\n"
          ]
        },
        {
          "output_type": "stream",
          "name": "stdout",
          "text": [
            "[0]\tvalid-auc:0.85542\n"
          ]
        },
        {
          "output_type": "stream",
          "name": "stdout",
          "text": [
            "[199]\tvalid-auc:0.26506\n"
          ]
        },
        {
          "output_type": "stream",
          "name": "stdout",
          "text": [
            "[XGB-G] Class 04 fold 3: pos=8 neg=166 spw=20.75 best_iter=0 | 0.32s\n"
          ]
        },
        {
          "output_type": "stream",
          "name": "stdout",
          "text": [
            "[0]\tvalid-auc:0.48315\n"
          ]
        },
        {
          "output_type": "stream",
          "name": "stdout",
          "text": [
            "[200]\tvalid-auc:0.73034\n"
          ]
        },
        {
          "output_type": "stream",
          "name": "stdout",
          "text": [
            "[295]\tvalid-auc:0.72472\n"
          ]
        },
        {
          "output_type": "stream",
          "name": "stdout",
          "text": [
            "[XGB-G] Class 05 fold 1: pos=3 neg=164 spw=54.67 best_iter=95 | 0.33s\n"
          ]
        },
        {
          "output_type": "stream",
          "name": "stdout",
          "text": [
            "[0]\tvalid-auc:0.38415\n"
          ]
        },
        {
          "output_type": "stream",
          "name": "stdout",
          "text": [
            "[200]\tvalid-auc:0.87805\n"
          ]
        },
        {
          "output_type": "stream",
          "name": "stdout",
          "text": [
            "[330]\tvalid-auc:0.87805\n"
          ]
        },
        {
          "output_type": "stream",
          "name": "stdout",
          "text": [
            "[XGB-G] Class 05 fold 2: pos=4 neg=171 spw=42.75 best_iter=131 | 0.38s\n"
          ]
        },
        {
          "output_type": "stream",
          "name": "stdout",
          "text": [
            "[0]\tvalid-auc:0.43902\n"
          ]
        },
        {
          "output_type": "stream",
          "name": "stdout",
          "text": [
            "[200]\tvalid-auc:0.74390\n"
          ]
        },
        {
          "output_type": "stream",
          "name": "stdout",
          "text": [
            "[218]\tvalid-auc:0.74390\n"
          ]
        },
        {
          "output_type": "stream",
          "name": "stdout",
          "text": [
            "[XGB-G] Class 05 fold 3: pos=3 neg=171 spw=57.00 best_iter=18 | 0.31s\n"
          ]
        },
        {
          "output_type": "stream",
          "name": "stdout",
          "text": [
            "[0]\tvalid-auc:0.46111\n"
          ]
        },
        {
          "output_type": "stream",
          "name": "stdout",
          "text": [
            "[199]\tvalid-auc:0.04444\n"
          ]
        },
        {
          "output_type": "stream",
          "name": "stdout",
          "text": [
            "[XGB-G] Class 06 fold 1: pos=18 neg=149 spw=8.28 best_iter=0 | 0.28s\n"
          ]
        },
        {
          "output_type": "stream",
          "name": "stdout",
          "text": [
            "[0]\tvalid-auc:0.60435\n"
          ]
        },
        {
          "output_type": "stream",
          "name": "stdout",
          "text": [
            "[200]\tvalid-auc:0.58108\n"
          ]
        },
        {
          "output_type": "stream",
          "name": "stdout",
          "text": [
            "[209]\tvalid-auc:0.58108\n"
          ]
        },
        {
          "output_type": "stream",
          "name": "stdout",
          "text": [
            "[XGB-G] Class 06 fold 2: pos=10 neg=165 spw=16.50 best_iter=9 | 0.31s\n"
          ]
        },
        {
          "output_type": "stream",
          "name": "stdout",
          "text": [
            "[0]\tvalid-auc:0.67704\n"
          ]
        },
        {
          "output_type": "stream",
          "name": "stdout",
          "text": [
            "[200]\tvalid-auc:0.78444\n"
          ]
        },
        {
          "output_type": "stream",
          "name": "stdout",
          "text": [
            "[400]\tvalid-auc:0.78000\n"
          ]
        },
        {
          "output_type": "stream",
          "name": "stdout",
          "text": [
            "[464]\tvalid-auc:0.77852\n"
          ]
        },
        {
          "output_type": "stream",
          "name": "stdout",
          "text": [
            "[XGB-G] Class 06 fold 3: pos=10 neg=164 spw=16.40 best_iter=264 | 0.57s\n"
          ]
        },
        {
          "output_type": "stream",
          "name": "stdout",
          "text": [
            "[0]\tvalid-auc:0.34413\n"
          ]
        },
        {
          "output_type": "stream",
          "name": "stdout",
          "text": [
            "[200]\tvalid-auc:0.48494\n"
          ]
        },
        {
          "output_type": "stream",
          "name": "stdout",
          "text": [
            "[XGB-G] Class 07 fold 1: pos=11 neg=156 spw=14.18 best_iter=1 | 0.34s\n"
          ]
        },
        {
          "output_type": "stream",
          "name": "stdout",
          "text": [
            "[0]\tvalid-auc:0.66154\n"
          ]
        },
        {
          "output_type": "stream",
          "name": "stdout",
          "text": [
            "[200]\tvalid-auc:0.64103\n"
          ]
        },
        {
          "output_type": "stream",
          "name": "stdout",
          "text": [
            "[XGB-G] Class 07 fold 2: pos=14 neg=161 spw=11.50 best_iter=0 | 0.40s\n"
          ]
        },
        {
          "output_type": "stream",
          "name": "stdout",
          "text": [
            "[0]\tvalid-auc:0.53205\n"
          ]
        },
        {
          "output_type": "stream",
          "name": "stdout",
          "text": [
            "[200]\tvalid-auc:0.57051\n"
          ]
        },
        {
          "output_type": "stream",
          "name": "stdout",
          "text": [
            "[219]\tvalid-auc:0.56838\n"
          ]
        },
        {
          "output_type": "stream",
          "name": "stdout",
          "text": [
            "[XGB-G] Class 07 fold 3: pos=13 neg=161 spw=12.38 best_iter=20 | 0.40s\n"
          ]
        },
        {
          "output_type": "stream",
          "name": "stdout",
          "text": [
            "[0]\tvalid-auc:0.73674\n"
          ]
        },
        {
          "output_type": "stream",
          "name": "stdout",
          "text": [
            "[200]\tvalid-auc:0.87879\n"
          ]
        },
        {
          "output_type": "stream",
          "name": "stdout",
          "text": [
            "[323]\tvalid-auc:0.87500\n"
          ]
        },
        {
          "output_type": "stream",
          "name": "stdout",
          "text": [
            "[XGB-G] Class 08 fold 1: pos=21 neg=146 spw=6.95 best_iter=124 | 0.40s\n"
          ]
        },
        {
          "output_type": "stream",
          "name": "stdout",
          "text": [
            "[0]\tvalid-auc:0.90000\n"
          ]
        },
        {
          "output_type": "stream",
          "name": "stdout",
          "text": [
            "[200]\tvalid-auc:0.89247\n"
          ]
        },
        {
          "output_type": "stream",
          "name": "stdout",
          "text": [
            "[XGB-G] Class 08 fold 2: pos=14 neg=161 spw=11.50 best_iter=0 | 0.36s\n"
          ]
        },
        {
          "output_type": "stream",
          "name": "stdout",
          "text": [
            "[0]\tvalid-auc:0.83811"
          ]
        },
        {
          "output_type": "stream",
          "name": "stdout",
          "text": [
            "\n"
          ]
        },
        {
          "output_type": "stream",
          "name": "stdout",
          "text": [
            "[200]\tvalid-auc:0.88169\n"
          ]
        },
        {
          "output_type": "stream",
          "name": "stdout",
          "text": [
            "[201]\tvalid-auc:0.88045\n"
          ]
        },
        {
          "output_type": "stream",
          "name": "stdout",
          "text": [
            "[XGB-G] Class 08 fold 3: pos=13 neg=161 spw=12.38 best_iter=2 | 0.34s\n"
          ]
        },
        {
          "output_type": "stream",
          "name": "stdout",
          "text": [
            "[0]\tvalid-auc:0.78030\n"
          ]
        },
        {
          "output_type": "stream",
          "name": "stdout",
          "text": [
            "[200]\tvalid-auc:0.66288\n"
          ]
        },
        {
          "output_type": "stream",
          "name": "stdout",
          "text": [
            "[236]\tvalid-auc:0.64394\n"
          ]
        },
        {
          "output_type": "stream",
          "name": "stdout",
          "text": [
            "[XGB-G] Class 09 fold 1: pos=18 neg=149 spw=8.28 best_iter=37 | 0.34s\n"
          ]
        },
        {
          "output_type": "stream",
          "name": "stdout",
          "text": [
            "[0]\tvalid-auc:0.57123\n"
          ]
        },
        {
          "output_type": "stream",
          "name": "stdout",
          "text": [
            "[200]\tvalid-auc:0.58630\n"
          ]
        },
        {
          "output_type": "stream",
          "name": "stdout",
          "text": [
            "[203]\tvalid-auc:0.58493\n"
          ]
        },
        {
          "output_type": "stream",
          "name": "stdout",
          "text": [
            "[XGB-G] Class 09 fold 2: pos=11 neg=164 spw=14.91 best_iter=4 | 0.40s\n"
          ]
        },
        {
          "output_type": "stream",
          "name": "stdout",
          "text": [
            "[0]\tvalid-auc:0.68421\n"
          ]
        },
        {
          "output_type": "stream",
          "name": "stdout",
          "text": [
            "[200]\tvalid-auc:0.66118\n"
          ]
        },
        {
          "output_type": "stream",
          "name": "stdout",
          "text": [
            "[283]\tvalid-auc:0.66776\n"
          ]
        },
        {
          "output_type": "stream",
          "name": "stdout",
          "text": [
            "[XGB-G] Class 09 fold 3: pos=13 neg=161 spw=12.38 best_iter=84 | 0.43s\n"
          ]
        },
        {
          "output_type": "stream",
          "name": "stdout",
          "text": [
            "[0]\tvalid-auc:0.60166\n"
          ]
        },
        {
          "output_type": "stream",
          "name": "stdout",
          "text": [
            "[200]\tvalid-auc:0.72666\n"
          ]
        },
        {
          "output_type": "stream",
          "name": "stdout",
          "text": [
            "[288]\tvalid-auc:0.70460\n"
          ]
        },
        {
          "output_type": "stream",
          "name": "stdout",
          "text": [
            "[XGB-G] Class 10 fold 1: pos=26 neg=141 spw=5.42 best_iter=88 | 0.36s\n"
          ]
        },
        {
          "output_type": "stream",
          "name": "stdout",
          "text": [
            "[0]\tvalid-auc:0.66035\n"
          ]
        },
        {
          "output_type": "stream",
          "name": "stdout",
          "text": [
            "[200]\tvalid-auc:0.69192\n"
          ]
        },
        {
          "output_type": "stream",
          "name": "stdout",
          "text": [
            "[205]\tvalid-auc:0.69192\n"
          ]
        },
        {
          "output_type": "stream",
          "name": "stdout",
          "text": [
            "[XGB-G] Class 10 fold 2: pos=38 neg=137 spw=3.61 best_iter=6 | 0.34s\n"
          ]
        },
        {
          "output_type": "stream",
          "name": "stdout",
          "text": [
            "[0]\tvalid-auc:0.60097\n"
          ]
        },
        {
          "output_type": "stream",
          "name": "stdout",
          "text": [
            "[200]\tvalid-auc:0.86329\n"
          ]
        },
        {
          "output_type": "stream",
          "name": "stdout",
          "text": [
            "[231]\tvalid-auc:0.86135\n"
          ]
        },
        {
          "output_type": "stream",
          "name": "stdout",
          "text": [
            "[XGB-G] Class 10 fold 3: pos=34 neg=140 spw=4.12 best_iter=32 | 0.39s\n"
          ]
        },
        {
          "output_type": "stream",
          "name": "stdout",
          "text": [
            "[0]\tvalid-auc:0.50000\n"
          ]
        },
        {
          "output_type": "stream",
          "name": "stdout",
          "text": [
            "[200]\tvalid-auc:0.60501\n"
          ]
        },
        {
          "output_type": "stream",
          "name": "stdout",
          "text": [
            "[316]\tvalid-auc:0.60027\n"
          ]
        },
        {
          "output_type": "stream",
          "name": "stdout",
          "text": [
            "[XGB-G] Class 11 fold 1: pos=1 neg=166 spw=166.00 best_iter=117 | 0.33s\n"
          ]
        },
        {
          "output_type": "stream",
          "name": "stdout",
          "text": [
            "[XGB-G] Class 11 fold 2: degenerate -> const 0.0388 | 0.04s\n"
          ]
        },
        {
          "output_type": "stream",
          "name": "stdout",
          "text": [
            "[0]\tvalid-auc:0.50000\n"
          ]
        },
        {
          "output_type": "stream",
          "name": "stdout",
          "text": [
            "[200]\tvalid-auc:0.37349\n"
          ]
        },
        {
          "output_type": "stream",
          "name": "stdout",
          "text": [
            "[XGB-G] Class 11 fold 3: pos=9 neg=165 spw=18.33 best_iter=0 | 0.26s\n"
          ]
        },
        {
          "output_type": "stream",
          "name": "stdout",
          "text": [
            "[0]\tvalid-auc:0.72674\n"
          ]
        },
        {
          "output_type": "stream",
          "name": "stdout",
          "text": [
            "[200]\tvalid-auc:0.78256\n"
          ]
        },
        {
          "output_type": "stream",
          "name": "stdout",
          "text": [
            "[270]\tvalid-auc:0.78256\n"
          ]
        },
        {
          "output_type": "stream",
          "name": "stdout",
          "text": [
            "[XGB-G] Class 12 fold 1: pos=7 neg=160 spw=22.86 best_iter=70 | 0.36s\n"
          ]
        },
        {
          "output_type": "stream",
          "name": "stdout",
          "text": [
            "[0]\tvalid-auc:0.98125\n"
          ]
        },
        {
          "output_type": "stream",
          "name": "stdout",
          "text": [
            "[200]\tvalid-auc:0.94583\n"
          ]
        },
        {
          "output_type": "stream",
          "name": "stdout",
          "text": [
            "[206]\tvalid-auc:0.94583\n"
          ]
        },
        {
          "output_type": "stream",
          "name": "stdout",
          "text": [
            "[XGB-G] Class 12 fold 2: pos=9 neg=166 spw=18.44 best_iter=6 | 0.30s\n"
          ]
        },
        {
          "output_type": "stream",
          "name": "stdout",
          "text": [
            "[0]\tvalid-auc:0.85938\n"
          ]
        },
        {
          "output_type": "stream",
          "name": "stdout",
          "text": [
            "[200]\tvalid-auc:0.92188\n"
          ]
        },
        {
          "output_type": "stream",
          "name": "stdout",
          "text": [
            "[311]\tvalid-auc:0.91875\n"
          ]
        },
        {
          "output_type": "stream",
          "name": "stdout",
          "text": [
            "[XGB-G] Class 12 fold 3: pos=8 neg=166 spw=20.75 best_iter=111 | 0.50s\n"
          ]
        },
        {
          "output_type": "stream",
          "name": "stdout",
          "text": [
            "[XGB-G] Class 13 fold 1: degenerate -> const 0.0155 | 0.03s\n"
          ]
        },
        {
          "output_type": "stream",
          "name": "stdout",
          "text": [
            "[XGB-G] Class 13 fold 2: degenerate -> const 0.0155 | 0.00s\n"
          ]
        },
        {
          "output_type": "stream",
          "name": "stdout",
          "text": [
            "[XGB-G] Class 13 fold 3: degenerate -> const 0.0155 | 0.00s\n"
          ]
        },
        {
          "output_type": "stream",
          "name": "stdout",
          "text": [
            "[0]\tvalid-auc:0.44382\n"
          ]
        },
        {
          "output_type": "stream",
          "name": "stdout",
          "text": [
            "[200]\tvalid-auc:0.50562\n"
          ]
        },
        {
          "output_type": "stream",
          "name": "stdout",
          "text": [
            "[213]\tvalid-auc:0.51124\n"
          ]
        },
        {
          "output_type": "stream",
          "name": "stdout",
          "text": [
            "[XGB-G] Class 14 fold 1: pos=14 neg=153 spw=10.93 best_iter=13 | 0.31s\n"
          ]
        },
        {
          "output_type": "stream",
          "name": "stdout",
          "text": [
            "[0]\tvalid-auc:0.51073\n"
          ]
        },
        {
          "output_type": "stream",
          "name": "stdout",
          "text": [
            "[200]\tvalid-auc:0.68056\n"
          ]
        },
        {
          "output_type": "stream",
          "name": "stdout",
          "text": [
            "[400]\tvalid-auc:0.68434\n"
          ]
        },
        {
          "output_type": "stream",
          "name": "stdout",
          "text": [
            "[453]\tvalid-auc:0.68687\n"
          ]
        },
        {
          "output_type": "stream",
          "name": "stdout",
          "text": [
            "[XGB-G] Class 14 fold 2: pos=5 neg=170 spw=34.00 best_iter=254 | 0.43s\n"
          ]
        },
        {
          "output_type": "stream",
          "name": "stdout",
          "text": [
            "[0]\tvalid-auc:0.59053"
          ]
        },
        {
          "output_type": "stream",
          "name": "stdout",
          "text": [
            "\n"
          ]
        },
        {
          "output_type": "stream",
          "name": "stdout",
          "text": [
            "[200]\tvalid-auc:0.89300\n"
          ]
        },
        {
          "output_type": "stream",
          "name": "stdout",
          "text": [
            "[394]\tvalid-auc:0.90123\n"
          ]
        },
        {
          "output_type": "stream",
          "name": "stdout",
          "text": [
            "[XGB-G] Class 14 fold 3: pos=13 neg=161 spw=12.38 best_iter=195 | 0.46s\n"
          ]
        },
        {
          "output_type": "stream",
          "name": "stdout",
          "text": [
            "[0]\tvalid-auc:0.90000\n"
          ]
        },
        {
          "output_type": "stream",
          "name": "stdout",
          "text": [
            "[200]\tvalid-auc:0.93333\n"
          ]
        },
        {
          "output_type": "stream",
          "name": "stdout",
          "text": [
            "[211]\tvalid-auc:0.93333\n"
          ]
        },
        {
          "output_type": "stream",
          "name": "stdout",
          "text": [
            "[XGB-G] Class 15 fold 1: pos=5 neg=162 spw=32.40 best_iter=12 | 0.29s\n"
          ]
        },
        {
          "output_type": "stream",
          "name": "stdout",
          "text": [
            "[0]\tvalid-auc:0.50000\n"
          ]
        },
        {
          "output_type": "stream",
          "name": "stdout",
          "text": [
            "[200]\tvalid-auc:0.58590\n"
          ]
        },
        {
          "output_type": "stream",
          "name": "stdout",
          "text": [
            "[234]\tvalid-auc:0.58077\n"
          ]
        },
        {
          "output_type": "stream",
          "name": "stdout",
          "text": [
            "[XGB-G] Class 15 fold 2: pos=1 neg=174 spw=174.00 best_iter=34 | 0.28s\n"
          ]
        },
        {
          "output_type": "stream",
          "name": "stdout",
          "text": [
            "[XGB-G] Class 15 fold 3: degenerate -> const 0.0233 | 0.04s\n"
          ]
        },
        {
          "output_type": "stream",
          "name": "stdout",
          "text": [
            "[XGB-G] Class 16 fold 1: degenerate -> const 0.0078 | 0.02s\n"
          ]
        },
        {
          "output_type": "stream",
          "name": "stdout",
          "text": [
            "[XGB-G] Class 16 fold 2: degenerate -> const 0.0078 | 0.01s\n"
          ]
        },
        {
          "output_type": "stream",
          "name": "stdout",
          "text": [
            "[XGB-G] Class 16 fold 3: degenerate -> const 0.0078 | 0.01s\n"
          ]
        },
        {
          "output_type": "stream",
          "name": "stdout",
          "text": [
            "[0]\tvalid-auc:0.73674\n"
          ]
        },
        {
          "output_type": "stream",
          "name": "stdout",
          "text": [
            "[199]\tvalid-auc:0.52841\n"
          ]
        },
        {
          "output_type": "stream",
          "name": "stdout",
          "text": [
            "[XGB-G] Class 17 fold 1: pos=1 neg=166 spw=166.00 best_iter=0 | 0.29s\n"
          ]
        },
        {
          "output_type": "stream",
          "name": "stdout",
          "text": [
            "[XGB-G] Class 17 fold 2: degenerate -> const 0.0155 | 0.04s\n"
          ]
        },
        {
          "output_type": "stream",
          "name": "stdout",
          "text": [
            "[0]\tvalid-auc:0.89157\n"
          ]
        },
        {
          "output_type": "stream",
          "name": "stdout",
          "text": [
            "[200]\tvalid-auc:0.91566\n"
          ]
        },
        {
          "output_type": "stream",
          "name": "stdout",
          "text": [
            "[211]\tvalid-auc:0.91566\n"
          ]
        },
        {
          "output_type": "stream",
          "name": "stdout",
          "text": [
            "[XGB-G] Class 17 fold 3: pos=3 neg=171 spw=57.00 best_iter=12 | 0.34s\n"
          ]
        },
        {
          "output_type": "stream",
          "name": "stdout",
          "text": [
            "[0]\tvalid-auc:0.85000\n"
          ]
        },
        {
          "output_type": "stream",
          "name": "stdout",
          "text": [
            "[200]\tvalid-auc:0.94419\n"
          ]
        },
        {
          "output_type": "stream",
          "name": "stdout",
          "text": [
            "[275]\tvalid-auc:0.94419\n"
          ]
        },
        {
          "output_type": "stream",
          "name": "stdout",
          "text": [
            "[XGB-G] Class 18 fold 1: pos=7 neg=160 spw=22.86 best_iter=75 | 0.33s\n"
          ]
        },
        {
          "output_type": "stream",
          "name": "stdout",
          "text": [
            "[XGB-G] Class 18 fold 2: degenerate -> const 0.0465 | 0.03s\n"
          ]
        },
        {
          "output_type": "stream",
          "name": "stdout",
          "text": [
            "[0]\tvalid-auc:0.63173\n"
          ]
        },
        {
          "output_type": "stream",
          "name": "stdout",
          "text": [
            "[200]\tvalid-auc:0.93135\n"
          ]
        },
        {
          "output_type": "stream",
          "name": "stdout",
          "text": [
            "[400]\tvalid-auc:0.94249\n"
          ]
        },
        {
          "output_type": "stream",
          "name": "stdout",
          "text": [
            "[488]\tvalid-auc:0.94249\n"
          ]
        },
        {
          "output_type": "stream",
          "name": "stdout",
          "text": [
            "[XGB-G] Class 18 fold 3: pos=5 neg=169 spw=33.80 best_iter=288 | 0.43s\n"
          ]
        },
        {
          "output_type": "stream",
          "name": "stdout",
          "text": [
            "== XGB-G Seed 2025 (3/3) ==\n"
          ]
        },
        {
          "output_type": "stream",
          "name": "stdout",
          "text": [
            "[0]\tvalid-auc:0.62500\n"
          ]
        },
        {
          "output_type": "stream",
          "name": "stdout",
          "text": [
            "[200]\tvalid-auc:0.97989\n"
          ]
        },
        {
          "output_type": "stream",
          "name": "stdout",
          "text": [
            "[278]\tvalid-auc:0.97414\n"
          ]
        },
        {
          "output_type": "stream",
          "name": "stdout",
          "text": [
            "[XGB-G] Class 00 fold 1: pos=3 neg=164 spw=54.67 best_iter=78 | 0.35s\n"
          ]
        },
        {
          "output_type": "stream",
          "name": "stdout",
          "text": [
            "[0]\tvalid-auc:0.50000\n"
          ]
        },
        {
          "output_type": "stream",
          "name": "stdout",
          "text": [
            "[200]\tvalid-auc:0.82917\n"
          ]
        },
        {
          "output_type": "stream",
          "name": "stdout",
          "text": [
            "[297]\tvalid-auc:0.81250\n"
          ]
        },
        {
          "output_type": "stream",
          "name": "stdout",
          "text": [
            "[XGB-G] Class 00 fold 2: pos=4 neg=171 spw=42.75 best_iter=98 | 0.34s\n"
          ]
        },
        {
          "output_type": "stream",
          "name": "stdout",
          "text": [
            "[XGB-G] Class 00 fold 3: degenerate -> const 0.0271 | 0.03s\n"
          ]
        },
        {
          "output_type": "stream",
          "name": "stdout",
          "text": [
            "[0]\tvalid-auc:0.54198\n"
          ]
        },
        {
          "output_type": "stream",
          "name": "stdout",
          "text": [
            "[200]\tvalid-auc:0.79042\n"
          ]
        },
        {
          "output_type": "stream",
          "name": "stdout",
          "text": [
            "[379]\tvalid-auc:0.78483\n"
          ]
        },
        {
          "output_type": "stream",
          "name": "stdout",
          "text": [
            "[XGB-G] Class 01 fold 1: pos=4 neg=163 spw=40.75 best_iter=179 | 0.43s\n"
          ]
        },
        {
          "output_type": "stream",
          "name": "stdout",
          "text": [
            "[XGB-G] Class 01 fold 2: degenerate -> const 0.1085 | 0.03s\n"
          ]
        },
        {
          "output_type": "stream",
          "name": "stdout",
          "text": [
            "[0]\tvalid-auc:0.85781\n"
          ]
        },
        {
          "output_type": "stream",
          "name": "stdout",
          "text": [
            "[199]\tvalid-auc:0.81250\n"
          ]
        },
        {
          "output_type": "stream",
          "name": "stdout",
          "text": [
            "[XGB-G] Class 01 fold 3: pos=24 neg=150 spw=6.25 best_iter=0 | 0.31s\n"
          ]
        },
        {
          "output_type": "stream",
          "name": "stdout",
          "text": [
            "[0]\tvalid-auc:0.74320\n"
          ]
        },
        {
          "output_type": "stream",
          "name": "stdout",
          "text": [
            "[200]\tvalid-auc:0.79932\n"
          ]
        },
        {
          "output_type": "stream",
          "name": "stdout",
          "text": [
            "[202]\tvalid-auc:0.79932\n"
          ]
        },
        {
          "output_type": "stream",
          "name": "stdout",
          "text": [
            "[XGB-G] Class 02 fold 1: pos=12 neg=155 spw=12.92 best_iter=2 | 0.29s\n"
          ]
        },
        {
          "output_type": "stream",
          "name": "stdout",
          "text": [
            "[0]\tvalid-auc:0.85000\n"
          ]
        },
        {
          "output_type": "stream",
          "name": "stdout",
          "text": [
            "[200]\tvalid-auc:0.90000\n"
          ]
        },
        {
          "output_type": "stream",
          "name": "stdout",
          "text": [
            "[230]\tvalid-auc:0.90256\n"
          ]
        },
        {
          "output_type": "stream",
          "name": "stdout",
          "text": [
            "[XGB-G] Class 02 fold 2: pos=14 neg=161 spw=11.50 best_iter=30 | 0.34s\n"
          ]
        },
        {
          "output_type": "stream",
          "name": "stdout",
          "text": [
            "[0]\tvalid-auc:0.60853\n"
          ]
        },
        {
          "output_type": "stream",
          "name": "stdout",
          "text": [
            "[200]\tvalid-auc:0.74026\n"
          ]
        },
        {
          "output_type": "stream",
          "name": "stdout",
          "text": [
            "[400]\tvalid-auc:0.76160\n"
          ]
        },
        {
          "output_type": "stream",
          "name": "stdout",
          "text": [
            "[600]\tvalid-auc:0.77087\n"
          ]
        },
        {
          "output_type": "stream",
          "name": "stdout",
          "text": [
            "[763]\tvalid-auc:0.77087\n"
          ]
        },
        {
          "output_type": "stream",
          "name": "stdout",
          "text": [
            "[XGB-G] Class 02 fold 3: pos=12 neg=162 spw=13.50 best_iter=564 | 0.68s\n"
          ]
        },
        {
          "output_type": "stream",
          "name": "stdout",
          "text": [
            "[XGB-G] Class 03 fold 1: degenerate -> const 0.0155 | 0.05s\n"
          ]
        },
        {
          "output_type": "stream",
          "name": "stdout",
          "text": [
            "[XGB-G] Class 03 fold 2: degenerate -> const 0.0155 | 0.01s\n"
          ]
        },
        {
          "output_type": "stream",
          "name": "stdout",
          "text": [
            "[XGB-G] Class 03 fold 3: degenerate -> const 0.0155 | 0.01s\n"
          ]
        },
        {
          "output_type": "stream",
          "name": "stdout",
          "text": [
            "[0]\tvalid-auc:0.50000\n"
          ]
        },
        {
          "output_type": "stream",
          "name": "stdout",
          "text": [
            "[200]\tvalid-auc:0.83333\n"
          ]
        },
        {
          "output_type": "stream",
          "name": "stdout",
          "text": [
            "[237]\tvalid-auc:0.83333\n"
          ]
        },
        {
          "output_type": "stream",
          "name": "stdout",
          "text": [
            "[XGB-G] Class 04 fold 1: pos=8 neg=159 spw=19.88 best_iter=37 | 0.30s\n"
          ]
        },
        {
          "output_type": "stream",
          "name": "stdout",
          "text": [
            "[0]\tvalid-auc:0.41447\n"
          ]
        },
        {
          "output_type": "stream",
          "name": "stdout",
          "text": [
            "[200]\tvalid-auc:0.76786\n"
          ]
        },
        {
          "output_type": "stream",
          "name": "stdout",
          "text": [
            "[400]\tvalid-auc:0.80827\n"
          ]
        },
        {
          "output_type": "stream",
          "name": "stdout",
          "text": [
            "[563]\tvalid-auc:0.80639\n"
          ]
        },
        {
          "output_type": "stream",
          "name": "stdout",
          "text": [
            "[XGB-G] Class 04 fold 2: pos=2 neg=173 spw=86.50 best_iter=364 | 0.52s\n"
          ]
        },
        {
          "output_type": "stream",
          "name": "stdout",
          "text": [
            "[0]\tvalid-auc:0.85542\n"
          ]
        },
        {
          "output_type": "stream",
          "name": "stdout",
          "text": [
            "[200]\tvalid-auc:0.24096\n"
          ]
        },
        {
          "output_type": "stream",
          "name": "stdout",
          "text": [
            "[211]\tvalid-auc:0.24096\n"
          ]
        },
        {
          "output_type": "stream",
          "name": "stdout",
          "text": [
            "[XGB-G] Class 04 fold 3: pos=8 neg=166 spw=20.75 best_iter=12 | 0.33s\n"
          ]
        },
        {
          "output_type": "stream",
          "name": "stdout",
          "text": [
            "[0]\tvalid-auc:0.48315\n"
          ]
        },
        {
          "output_type": "stream",
          "name": "stdout",
          "text": [
            "[200]\tvalid-auc:0.72472\n"
          ]
        },
        {
          "output_type": "stream",
          "name": "stdout",
          "text": [
            "[400]\tvalid-auc:0.73315\n"
          ]
        },
        {
          "output_type": "stream",
          "name": "stdout",
          "text": [
            "[600]\tvalid-auc:0.76124\n"
          ]
        },
        {
          "output_type": "stream",
          "name": "stdout",
          "text": [
            "[760]\tvalid-auc:0.76124\n"
          ]
        },
        {
          "output_type": "stream",
          "name": "stdout",
          "text": [
            "[XGB-G] Class 05 fold 1: pos=3 neg=164 spw=54.67 best_iter=560 | 1.15s\n"
          ]
        },
        {
          "output_type": "stream",
          "name": "stdout",
          "text": [
            "[0]\tvalid-auc:0.42073\n"
          ]
        },
        {
          "output_type": "stream",
          "name": "stdout",
          "text": [
            "[200]\tvalid-auc:0.87805\n"
          ]
        },
        {
          "output_type": "stream",
          "name": "stdout",
          "text": [
            "[238]\tvalid-auc:0.87805\n"
          ]
        },
        {
          "output_type": "stream",
          "name": "stdout",
          "text": [
            "[XGB-G] Class 05 fold 2: pos=4 neg=171 spw=42.75 best_iter=38 | 0.31s\n"
          ]
        },
        {
          "output_type": "stream",
          "name": "stdout",
          "text": [
            "[0]\tvalid-auc:0.43902\n"
          ]
        },
        {
          "output_type": "stream",
          "name": "stdout",
          "text": [
            "[200]\tvalid-auc:0.74390\n"
          ]
        },
        {
          "output_type": "stream",
          "name": "stdout",
          "text": [
            "[221]\tvalid-auc:0.73780\n"
          ]
        },
        {
          "output_type": "stream",
          "name": "stdout",
          "text": [
            "[XGB-G] Class 05 fold 3: pos=3 neg=171 spw=57.00 best_iter=21 | 0.30s\n"
          ]
        },
        {
          "output_type": "stream",
          "name": "stdout",
          "text": [
            "[0]\tvalid-auc:0.46111\n"
          ]
        },
        {
          "output_type": "stream",
          "name": "stdout",
          "text": [
            "[200]\tvalid-auc:0.07778\n"
          ]
        },
        {
          "output_type": "stream",
          "name": "stdout",
          "text": [
            "[XGB-G] Class 06 fold 1: pos=18 neg=149 spw=8.28 best_iter=0 | 0.29s\n"
          ]
        },
        {
          "output_type": "stream",
          "name": "stdout",
          "text": [
            "[0]\tvalid-auc:0.61787\n"
          ]
        },
        {
          "output_type": "stream",
          "name": "stdout",
          "text": [
            "[200]\tvalid-auc:0.58258\n"
          ]
        },
        {
          "output_type": "stream",
          "name": "stdout",
          "text": [
            "[212]\tvalid-auc:0.58258\n"
          ]
        },
        {
          "output_type": "stream",
          "name": "stdout",
          "text": [
            "[XGB-G] Class 06 fold 2: pos=10 neg=165 spw=16.50 best_iter=12 | 0.37s\n"
          ]
        },
        {
          "output_type": "stream",
          "name": "stdout",
          "text": [
            "[0]\tvalid-auc:0.75185\n"
          ]
        },
        {
          "output_type": "stream",
          "name": "stdout",
          "text": [
            "[200]\tvalid-auc:0.76667\n"
          ]
        },
        {
          "output_type": "stream",
          "name": "stdout",
          "text": [
            "[400]\tvalid-auc:0.79037\n"
          ]
        },
        {
          "output_type": "stream",
          "name": "stdout",
          "text": [
            "[446]\tvalid-auc:0.79037\n"
          ]
        },
        {
          "output_type": "stream",
          "name": "stdout",
          "text": [
            "[XGB-G] Class 06 fold 3: pos=10 neg=164 spw=16.40 best_iter=246 | 0.46s\n"
          ]
        },
        {
          "output_type": "stream",
          "name": "stdout",
          "text": [
            "[0]\tvalid-auc:0.71988\n"
          ]
        },
        {
          "output_type": "stream",
          "name": "stdout",
          "text": [
            "[200]\tvalid-auc:0.53916\n"
          ]
        },
        {
          "output_type": "stream",
          "name": "stdout",
          "text": [
            "[XGB-G] Class 07 fold 1: pos=11 neg=156 spw=14.18 best_iter=0 | 0.36s\n"
          ]
        },
        {
          "output_type": "stream",
          "name": "stdout",
          "text": [
            "[0]\tvalid-auc:0.59615\n"
          ]
        },
        {
          "output_type": "stream",
          "name": "stdout",
          "text": [
            "[200]\tvalid-auc:0.63333\n"
          ]
        },
        {
          "output_type": "stream",
          "name": "stdout",
          "text": [
            "[XGB-G] Class 07 fold 2: pos=14 neg=161 spw=11.50 best_iter=1 | 0.44s\n"
          ]
        },
        {
          "output_type": "stream",
          "name": "stdout",
          "text": [
            "[0]\tvalid-auc:0.60684\n"
          ]
        },
        {
          "output_type": "stream",
          "name": "stdout",
          "text": [
            "[200]\tvalid-auc:0.52564\n"
          ]
        },
        {
          "output_type": "stream",
          "name": "stdout",
          "text": [
            "[204]\tvalid-auc:0.52778\n"
          ]
        },
        {
          "output_type": "stream",
          "name": "stdout",
          "text": [
            "[XGB-G] Class 07 fold 3: pos=13 neg=161 spw=12.38 best_iter=5 | 0.34s\n"
          ]
        },
        {
          "output_type": "stream",
          "name": "stdout",
          "text": [
            "[0]\tvalid-auc:0.73295\n"
          ]
        },
        {
          "output_type": "stream",
          "name": "stdout",
          "text": [
            "[200]\tvalid-auc:0.81061\n"
          ]
        },
        {
          "output_type": "stream",
          "name": "stdout",
          "text": [
            "[249]\tvalid-auc:0.80682\n"
          ]
        },
        {
          "output_type": "stream",
          "name": "stdout",
          "text": [
            "[XGB-G] Class 08 fold 1: pos=21 neg=146 spw=6.95 best_iter=50 | 0.32s\n"
          ]
        },
        {
          "output_type": "stream",
          "name": "stdout",
          "text": [
            "[0]\tvalid-auc:0.89247\n"
          ]
        },
        {
          "output_type": "stream",
          "name": "stdout",
          "text": [
            "[200]\tvalid-auc:0.89384\n"
          ]
        },
        {
          "output_type": "stream",
          "name": "stdout",
          "text": [
            "[210]\tvalid-auc:0.89247\n"
          ]
        },
        {
          "output_type": "stream",
          "name": "stdout",
          "text": [
            "[XGB-G] Class 08 fold 2: pos=14 neg=161 spw=11.50 best_iter=11 | 0.31s\n"
          ]
        },
        {
          "output_type": "stream",
          "name": "stdout",
          "text": [
            "[0]\tvalid-auc:0.77771\n"
          ]
        },
        {
          "output_type": "stream",
          "name": "stdout",
          "text": [
            "[200]\tvalid-auc:0.87796\n"
          ]
        },
        {
          "output_type": "stream",
          "name": "stdout",
          "text": [
            "[356]\tvalid-auc:0.88169\n"
          ]
        },
        {
          "output_type": "stream",
          "name": "stdout",
          "text": [
            "[XGB-G] Class 08 fold 3: pos=13 neg=161 spw=12.38 best_iter=156 | 0.43s\n"
          ]
        },
        {
          "output_type": "stream",
          "name": "stdout",
          "text": [
            "[0]\tvalid-auc:0.77083\n"
          ]
        },
        {
          "output_type": "stream",
          "name": "stdout",
          "text": [
            "[200]\tvalid-auc:0.64394\n"
          ]
        },
        {
          "output_type": "stream",
          "name": "stdout",
          "text": [
            "[206]\tvalid-auc:0.64394\n"
          ]
        },
        {
          "output_type": "stream",
          "name": "stdout",
          "text": [
            "[XGB-G] Class 09 fold 1: pos=18 neg=149 spw=8.28 best_iter=7 | 0.29s\n"
          ]
        },
        {
          "output_type": "stream",
          "name": "stdout",
          "text": [
            "[0]\tvalid-auc:0.57123\n"
          ]
        },
        {
          "output_type": "stream",
          "name": "stdout",
          "text": [
            "[200]\tvalid-auc:0.58356\n"
          ]
        },
        {
          "output_type": "stream",
          "name": "stdout",
          "text": [
            "[213]\tvalid-auc:0.58219\n"
          ]
        },
        {
          "output_type": "stream",
          "name": "stdout",
          "text": [
            "[XGB-G] Class 09 fold 2: pos=11 neg=164 spw=14.91 best_iter=13 | 0.35s\n"
          ]
        },
        {
          "output_type": "stream",
          "name": "stdout",
          "text": [
            "[0]\tvalid-auc:0.53783\n"
          ]
        },
        {
          "output_type": "stream",
          "name": "stdout",
          "text": [
            "[200]\tvalid-auc:0.65625\n"
          ]
        },
        {
          "output_type": "stream",
          "name": "stdout",
          "text": [
            "[290]\tvalid-auc:0.65461\n"
          ]
        },
        {
          "output_type": "stream",
          "name": "stdout",
          "text": [
            "[XGB-G] Class 09 fold 3: pos=13 neg=161 spw=12.38 best_iter=91 | 0.36s\n"
          ]
        },
        {
          "output_type": "stream",
          "name": "stdout",
          "text": [
            "[0]\tvalid-auc:0.63619\n"
          ]
        },
        {
          "output_type": "stream",
          "name": "stdout",
          "text": [
            "[200]\tvalid-auc:0.77270\n"
          ]
        },
        {
          "output_type": "stream",
          "name": "stdout",
          "text": [
            "[400]\tvalid-auc:0.77717\n"
          ]
        },
        {
          "output_type": "stream",
          "name": "stdout",
          "text": [
            "[426]\tvalid-auc:0.76119\n"
          ]
        },
        {
          "output_type": "stream",
          "name": "stdout",
          "text": [
            "[XGB-G] Class 10 fold 1: pos=26 neg=141 spw=5.42 best_iter=227 | 0.48s\n"
          ]
        },
        {
          "output_type": "stream",
          "name": "stdout",
          "text": [
            "[0]\tvalid-auc:0.63952\n"
          ]
        },
        {
          "output_type": "stream",
          "name": "stdout",
          "text": [
            "[200]\tvalid-auc:0.61490\n"
          ]
        },
        {
          "output_type": "stream",
          "name": "stdout",
          "text": [
            "[276]\tvalid-auc:0.54545\n"
          ]
        },
        {
          "output_type": "stream",
          "name": "stdout",
          "text": [
            "[XGB-G] Class 10 fold 2: pos=38 neg=137 spw=3.61 best_iter=76 | 0.36s\n"
          ]
        },
        {
          "output_type": "stream",
          "name": "stdout",
          "text": [
            "[0]\tvalid-auc:0.36377\n"
          ]
        },
        {
          "output_type": "stream",
          "name": "stdout",
          "text": [
            "[200]\tvalid-auc:0.82754\n"
          ]
        },
        {
          "output_type": "stream",
          "name": "stdout",
          "text": [
            "[278]\tvalid-auc:0.82077\n"
          ]
        },
        {
          "output_type": "stream",
          "name": "stdout",
          "text": [
            "[XGB-G] Class 10 fold 3: pos=34 neg=140 spw=4.12 best_iter=79 | 0.35s\n"
          ]
        },
        {
          "output_type": "stream",
          "name": "stdout",
          "text": [
            "[0]\tvalid-auc:0.50000\n"
          ]
        },
        {
          "output_type": "stream",
          "name": "stdout",
          "text": [
            "[199]\tvalid-auc:0.50000\n"
          ]
        },
        {
          "output_type": "stream",
          "name": "stdout",
          "text": [
            "[XGB-G] Class 11 fold 1: pos=1 neg=166 spw=166.00 best_iter=0 | 0.42s\n"
          ]
        },
        {
          "output_type": "stream",
          "name": "stdout",
          "text": [
            "[XGB-G] Class 11 fold 2: degenerate -> const 0.0388 | 0.04s\n"
          ]
        },
        {
          "output_type": "stream",
          "name": "stdout",
          "text": [
            "[0]\tvalid-auc:0.50000\n"
          ]
        },
        {
          "output_type": "stream",
          "name": "stdout",
          "text": [
            "[199]\tvalid-auc:0.39759\n"
          ]
        },
        {
          "output_type": "stream",
          "name": "stdout",
          "text": [
            "[XGB-G] Class 11 fold 3: pos=9 neg=165 spw=18.33 best_iter=0 | 0.34s\n"
          ]
        },
        {
          "output_type": "stream",
          "name": "stdout",
          "text": [
            "[0]\tvalid-auc:0.72674\n"
          ]
        },
        {
          "output_type": "stream",
          "name": "stdout",
          "text": [
            "[200]\tvalid-auc:0.78721\n"
          ]
        },
        {
          "output_type": "stream",
          "name": "stdout",
          "text": [
            "[400]\tvalid-auc:0.78256\n"
          ]
        },
        {
          "output_type": "stream",
          "name": "stdout",
          "text": [
            "[410]\tvalid-auc:0.78256\n"
          ]
        },
        {
          "output_type": "stream",
          "name": "stdout",
          "text": [
            "[XGB-G] Class 12 fold 1: pos=7 neg=160 spw=22.86 best_iter=210 | 0.42s\n"
          ]
        },
        {
          "output_type": "stream",
          "name": "stdout",
          "text": [
            "[0]\tvalid-auc:0.90208\n"
          ]
        },
        {
          "output_type": "stream",
          "name": "stdout",
          "text": [
            "[200]\tvalid-auc:0.99167\n"
          ]
        },
        {
          "output_type": "stream",
          "name": "stdout",
          "text": [
            "[222]\tvalid-auc:0.95000\n"
          ]
        },
        {
          "output_type": "stream",
          "name": "stdout",
          "text": [
            "[XGB-G] Class 12 fold 2: pos=9 neg=166 spw=18.44 best_iter=22 | 0.38s\n"
          ]
        },
        {
          "output_type": "stream",
          "name": "stdout",
          "text": [
            "[0]\tvalid-auc:0.95312\n"
          ]
        },
        {
          "output_type": "stream",
          "name": "stdout",
          "text": [
            "[200]\tvalid-auc:0.92188\n"
          ]
        },
        {
          "output_type": "stream",
          "name": "stdout",
          "text": [
            "[244]\tvalid-auc:0.92188\n"
          ]
        },
        {
          "output_type": "stream",
          "name": "stdout",
          "text": [
            "[XGB-G] Class 12 fold 3: pos=8 neg=166 spw=20.75 best_iter=44 | 0.43s\n"
          ]
        },
        {
          "output_type": "stream",
          "name": "stdout",
          "text": [
            "[XGB-G] Class 13 fold 1: degenerate -> const 0.0155 | 0.02s\n"
          ]
        },
        {
          "output_type": "stream",
          "name": "stdout",
          "text": [
            "[XGB-G] Class 13 fold 2: degenerate -> const 0.0155 | 0.01s\n"
          ]
        },
        {
          "output_type": "stream",
          "name": "stdout",
          "text": [
            "[XGB-G] Class 13 fold 3: degenerate -> const 0.0155 | 0.01s\n"
          ]
        },
        {
          "output_type": "stream",
          "name": "stdout",
          "text": [
            "[0]\tvalid-auc:0.43820\n"
          ]
        },
        {
          "output_type": "stream",
          "name": "stdout",
          "text": [
            "[200]\tvalid-auc:0.47191\n"
          ]
        },
        {
          "output_type": "stream",
          "name": "stdout",
          "text": [
            "[400]\tvalid-auc:0.48876\n"
          ]
        },
        {
          "output_type": "stream",
          "name": "stdout",
          "text": [
            "[600]\tvalid-auc:0.67416\n"
          ]
        },
        {
          "output_type": "stream",
          "name": "stdout",
          "text": [
            "[800]\tvalid-auc:0.67416\n"
          ]
        },
        {
          "output_type": "stream",
          "name": "stdout",
          "text": [
            "[XGB-G] Class 14 fold 1: pos=14 neg=153 spw=10.93 best_iter=600 | 0.76s\n"
          ]
        },
        {
          "output_type": "stream",
          "name": "stdout",
          "text": [
            "[0]\tvalid-auc:0.51641\n"
          ]
        },
        {
          "output_type": "stream",
          "name": "stdout",
          "text": [
            "[200]\tvalid-auc:0.67803\n"
          ]
        },
        {
          "output_type": "stream",
          "name": "stdout",
          "text": [
            "[269]\tvalid-auc:0.66793\n"
          ]
        },
        {
          "output_type": "stream",
          "name": "stdout",
          "text": [
            "[XGB-G] Class 14 fold 2: pos=5 neg=170 spw=34.00 best_iter=69 | 0.35s\n"
          ]
        },
        {
          "output_type": "stream",
          "name": "stdout",
          "text": [
            "[0]\tvalid-auc:0.60082\n"
          ]
        },
        {
          "output_type": "stream",
          "name": "stdout",
          "text": [
            "[200]\tvalid-auc:0.88889\n"
          ]
        },
        {
          "output_type": "stream",
          "name": "stdout",
          "text": [
            "[337]\tvalid-auc:0.88066\n"
          ]
        },
        {
          "output_type": "stream",
          "name": "stdout",
          "text": [
            "[XGB-G] Class 14 fold 3: pos=13 neg=161 spw=12.38 best_iter=138 | 0.47s\n"
          ]
        },
        {
          "output_type": "stream",
          "name": "stdout",
          "text": [
            "[0]\tvalid-auc:0.89444\n"
          ]
        },
        {
          "output_type": "stream",
          "name": "stdout",
          "text": [
            "[200]\tvalid-auc:0.91111\n"
          ]
        },
        {
          "output_type": "stream",
          "name": "stdout",
          "text": [
            "[236]\tvalid-auc:0.91111\n"
          ]
        },
        {
          "output_type": "stream",
          "name": "stdout",
          "text": [
            "[XGB-G] Class 15 fold 1: pos=5 neg=162 spw=32.40 best_iter=37 | 0.30s\n"
          ]
        },
        {
          "output_type": "stream",
          "name": "stdout",
          "text": [
            "[0]\tvalid-auc:0.50000\n"
          ]
        },
        {
          "output_type": "stream",
          "name": "stdout",
          "text": [
            "[200]\tvalid-auc:0.58333\n"
          ]
        },
        {
          "output_type": "stream",
          "name": "stdout",
          "text": [
            "[204]\tvalid-auc:0.58333\n"
          ]
        },
        {
          "output_type": "stream",
          "name": "stdout",
          "text": [
            "[XGB-G] Class 15 fold 2: pos=1 neg=174 spw=174.00 best_iter=4 | 0.39s\n"
          ]
        },
        {
          "output_type": "stream",
          "name": "stdout",
          "text": [
            "[XGB-G] Class 15 fold 3: degenerate -> const 0.0233 | 0.04s\n"
          ]
        },
        {
          "output_type": "stream",
          "name": "stdout",
          "text": [
            "[XGB-G] Class 16 fold 1: degenerate -> const 0.0078 | 0.01s\n"
          ]
        },
        {
          "output_type": "stream",
          "name": "stdout",
          "text": [
            "[XGB-G] Class 16 fold 2: degenerate -> const 0.0078 | 0.01s\n"
          ]
        },
        {
          "output_type": "stream",
          "name": "stdout",
          "text": [
            "[XGB-G] Class 16 fold 3: degenerate -> const 0.0078 | 0.01s\n"
          ]
        },
        {
          "output_type": "stream",
          "name": "stdout",
          "text": [
            "[0]\tvalid-auc:0.73674\n"
          ]
        },
        {
          "output_type": "stream",
          "name": "stdout",
          "text": [
            "[199]\tvalid-auc:0.52652\n"
          ]
        },
        {
          "output_type": "stream",
          "name": "stdout",
          "text": [
            "[XGB-G] Class 17 fold 1: pos=1 neg=166 spw=166.00 best_iter=0 | 0.34s\n"
          ]
        },
        {
          "output_type": "stream",
          "name": "stdout",
          "text": [
            "[XGB-G] Class 17 fold 2: degenerate -> const 0.0155 | 0.04s\n"
          ]
        },
        {
          "output_type": "stream",
          "name": "stdout",
          "text": [
            "[0]\tvalid-auc:0.89157\n"
          ]
        },
        {
          "output_type": "stream",
          "name": "stdout",
          "text": [
            "[200]\tvalid-auc:0.91566\n"
          ]
        },
        {
          "output_type": "stream",
          "name": "stdout",
          "text": [
            "[233]\tvalid-auc:0.91566\n"
          ]
        },
        {
          "output_type": "stream",
          "name": "stdout",
          "text": [
            "[XGB-G] Class 17 fold 3: pos=3 neg=171 spw=57.00 best_iter=34 | 0.30s\n"
          ]
        },
        {
          "output_type": "stream",
          "name": "stdout",
          "text": [
            "[0]\tvalid-auc:0.67442\n"
          ]
        },
        {
          "output_type": "stream",
          "name": "stdout",
          "text": [
            "[200]\tvalid-auc:0.93721\n"
          ]
        },
        {
          "output_type": "stream",
          "name": "stdout",
          "text": [
            "[230]\tvalid-auc:0.93721\n"
          ]
        },
        {
          "output_type": "stream",
          "name": "stdout",
          "text": [
            "[XGB-G] Class 18 fold 1: pos=7 neg=160 spw=22.86 best_iter=31 | 0.34s\n"
          ]
        },
        {
          "output_type": "stream",
          "name": "stdout",
          "text": [
            "[XGB-G] Class 18 fold 2: degenerate -> const 0.0465 | 0.03s\n"
          ]
        },
        {
          "output_type": "stream",
          "name": "stdout",
          "text": [
            "[0]\tvalid-auc:0.63173\n"
          ]
        },
        {
          "output_type": "stream",
          "name": "stdout",
          "text": [
            "[200]\tvalid-auc:0.93878\n"
          ]
        },
        {
          "output_type": "stream",
          "name": "stdout",
          "text": [
            "[226]\tvalid-auc:0.93321\n"
          ]
        },
        {
          "output_type": "stream",
          "name": "stdout",
          "text": [
            "[XGB-G] Class 18 fold 3: pos=5 neg=169 spw=33.80 best_iter=26 | 0.27s\n"
          ]
        },
        {
          "output_type": "stream",
          "name": "stdout",
          "text": [
            "Final XGB + GLOBAL prior (3-seed) OOF Macro AUC: 0.63110\nSaved prod_xgbG_* files.\n"
          ]
        }
      ]
    },
    {
      "id": "f757b4b6-237b-44f1-8145-4b22a45d7a46",
      "cell_type": "code",
      "metadata": {},
      "source": [
        "# Evaluate saved prod_xgbG OOF and build submission\n",
        "import numpy as np, pandas as pd\n",
        "\n",
        "oof = np.load('prod_xgbG_oof.npy')\n",
        "te = np.load('prod_xgbG_test.npy')\n",
        "tr_ids = np.load('prod_xgbG_train_ids.npy').astype(int)\n",
        "te_ids = np.load('prod_xgbG_test_ids.npy').astype(int)\n",
        "\n",
        "# Build Y in the same order as tr_ids using label_map from setup cell\n",
        "Y_eval = np.vstack([label_map[int(r)] for r in tr_ids]).astype(np.int8)\n",
        "auc = macro_auc_ignoring_degenerate(Y_eval, oof)\n",
        "print(f'prod_xgbG OOF Macro AUC (ID-aligned): {auc:.5f}')\n",
        "\n",
        "# Create submission aligned to sample_submission Id encoding (rec_id*100+class_id)\n",
        "sub = pd.read_csv('sample_submission.csv')\n",
        "id_vals = sub['Id'].values.astype(int)\n",
        "rid_to_idx = {rid:i for i, rid in enumerate(te_ids)}\n",
        "probs = np.zeros_like(id_vals, dtype=np.float32)\n",
        "for i, Id in enumerate(id_vals):\n",
        "    rid = Id // 100; cid = Id % 100\n",
        "    row = rid_to_idx.get(rid, None)\n",
        "    p = float(te[row, cid]) if (row is not None and cid < num_classes) else 0.0\n",
        "    probs[i] = np.clip(p, 1e-6, 1-1e-6)\n",
        "sub['Probability'] = probs\n",
        "sub.to_csv('submission_prod_xgbG.csv', index=False)\n",
        "print('Saved submission_prod_xgbG.csv')"
      ],
      "execution_count": 36,
      "outputs": [
        {
          "output_type": "stream",
          "name": "stdout",
          "text": [
            "prod_xgbG OOF Macro AUC (ID-aligned): 0.63110\nSaved submission_prod_xgbG.csv\n"
          ]
        }
      ]
    },
    {
      "id": "2725f08c-c2ef-48be-b478-0097ef33f2ca",
      "cell_type": "code",
      "metadata": {},
      "source": [
        "# Copy best submission to submission.csv for scoring\n",
        "import pandas as pd\n",
        "sub = pd.read_csv('submission_xgbB.csv')\n",
        "sub.to_csv('submission.csv', index=False)\n",
        "print('Wrote submission.csv from submission_xgbB.csv')"
      ],
      "execution_count": 43,
      "outputs": [
        {
          "output_type": "stream",
          "name": "stdout",
          "text": [
            "Wrote submission.csv from submission_xgbB.csv\n"
          ]
        }
      ]
    },
    {
      "id": "1e946fc2-5540-4d63-9acd-d9a8643a88a8",
      "cell_type": "code",
      "metadata": {},
      "source": [
        "# LR on Hellinger-transformed hist + curated features (non-leaky), GroupKFold by station\n",
        "import numpy as np, pandas as pd, time\n",
        "from sklearn.model_selection import GroupKFold\n",
        "from sklearn.preprocessing import StandardScaler\n",
        "from sklearn.decomposition import TruncatedSVD\n",
        "from sklearn.linear_model import LogisticRegression\n",
        "\n",
        "print('Starting LR on Hellinger-hist + curated features...')\n",
        "gkf = GroupKFold(n_splits=3)\n",
        "n_tr, C = Y_train.shape\n",
        "n_te = H_test_h.shape[0]\n",
        "\n",
        "def run_lr_hc(seed=42, use_svd=True, n_comp=32, C_reg=0.8):\n",
        "    oof = np.zeros((n_tr, C), dtype=np.float32)\n",
        "    te = np.zeros((n_te, C), dtype=np.float32)\n",
        "    for c in range(C):\n",
        "        y = Y_train[:, c].astype(int)\n",
        "        cls_oof = np.zeros(n_tr, dtype=np.float32)\n",
        "        cls_te_acc = np.zeros(n_te, dtype=np.float32)\n",
        "        fold_no = 0\n",
        "        for tr, va in gkf.split(H_train_h, y, groups):\n",
        "            fold_no += 1\n",
        "            t0 = time.time()\n",
        "            Xh_tr = H_train_h[tr]; Xh_va = H_train_h[va]; Xh_te = H_test_h\n",
        "            Xc_tr = C_train[tr];   Xc_va = C_train[va];   Xc_te = C_test\n",
        "            y_tr = y[tr]; y_va = y[va]\n",
        "            # Degenerate handling\n",
        "            pos = int(y_tr.sum()); neg = int((1-y_tr).sum())\n",
        "            if pos == 0 or neg == 0 or y_va.sum() in (0, len(y_va)):\n",
        "                const = float(y.mean())\n",
        "                cls_oof[va] = const\n",
        "                cls_te_acc += np.full(n_te, const, np.float32) / gkf.get_n_splits()\n",
        "                continue\n",
        "            # Per-fold SVD on Hellinger-hist\n",
        "            parts_tr = []; parts_va = []; parts_te = [];\n",
        "            if use_svd:\n",
        "                k = int(min(n_comp, max(2, min(Xh_tr.shape[1], max(2, Xh_tr.shape[0]-1)))))\n",
        "                if k >= 2:\n",
        "                    svd = TruncatedSVD(n_components=k, random_state=seed)\n",
        "                    svd.fit(Xh_tr)\n",
        "                    Z_tr = svd.transform(Xh_tr).astype(np.float32)\n",
        "                    Z_va = svd.transform(Xh_va).astype(np.float32)\n",
        "                    Z_te = svd.transform(Xh_te).astype(np.float32)\n",
        "                    parts_tr.append(Z_tr); parts_va.append(Z_va); parts_te.append(Z_te)\n",
        "                else:\n",
        "                    parts_tr.append(Xh_tr); parts_va.append(Xh_va); parts_te.append(Xh_te)\n",
        "            else:\n",
        "                parts_tr.append(Xh_tr); parts_va.append(Xh_va); parts_te.append(Xh_te)\n",
        "            # Append curated features\n",
        "            parts_tr.append(Xc_tr); parts_va.append(Xc_va); parts_te.append(Xc_te)\n",
        "            X_tr_mat = np.concatenate(parts_tr, axis=1).astype(np.float32)\n",
        "            X_va_mat = np.concatenate(parts_va, axis=1).astype(np.float32)\n",
        "            X_te_mat = np.concatenate(parts_te, axis=1).astype(np.float32)\n",
        "            # Scale per-fold\n",
        "            scaler = StandardScaler(with_mean=True, with_std=True)\n",
        "            X_tr_s = scaler.fit_transform(X_tr_mat)\n",
        "            X_va_s = scaler.transform(X_va_mat)\n",
        "            X_te_s = scaler.transform(X_te_mat)\n",
        "            # Train LR\n",
        "            lr = LogisticRegression(penalty='l2', C=C_reg, class_weight='balanced', solver='liblinear', max_iter=2000, random_state=seed)\n",
        "            lr.fit(X_tr_s, y_tr)\n",
        "            cls_oof[va] = lr.predict_proba(X_va_s)[:,1].astype(np.float32)\n",
        "            cls_te_acc += lr.predict_proba(X_te_s)[:,1].astype(np.float32) / gkf.get_n_splits()\n",
        "        oof[:, c] = cls_oof\n",
        "        te[:, c] = cls_te_acc\n",
        "    return oof, te\n",
        "\n",
        "oof_lr_hc, te_lr_hc = run_lr_hc(seed=42, use_svd=True, n_comp=32, C_reg=0.8)\n",
        "auc_lr_hc = macro_auc_ignoring_degenerate(Y_train, oof_lr_hc)\n",
        "print(f'LR Hellinger+Curated OOF Macro AUC: {auc_lr_hc:.5f}')\n",
        "\n",
        "np.save('prod_lr_hc_oof.npy', oof_lr_hc)\n",
        "np.save('prod_lr_hc_test.npy', te_lr_hc)\n",
        "np.save('prod_lr_hc_train_ids.npy', rec_train)\n",
        "np.save('prod_lr_hc_test_ids.npy', rec_test)\n",
        "print('Saved prod_lr_hc_* files.')\n",
        "\n",
        "# Build submission for quick LB probe\n",
        "sub = pd.read_csv('sample_submission.csv')\n",
        "id_vals = sub['Id'].values.astype(int)\n",
        "rid_to_idx = {rid:i for i, rid in enumerate(rec_test)}\n",
        "probs = np.zeros_like(id_vals, dtype=np.float32)\n",
        "for i, Id in enumerate(id_vals):\n",
        "    rid = Id // 100; cid = Id % 100\n",
        "    row = rid_to_idx.get(rid, None)\n",
        "    p = float(te_lr_hc[row, cid]) if (row is not None and cid < num_classes) else 0.0\n",
        "    probs[i] = np.clip(p, 1e-6, 1-1e-6)\n",
        "sub['Probability'] = probs\n",
        "sub.to_csv('submission_lr_hc.csv', index=False)\n",
        "print('Saved submission_lr_hc.csv')"
      ],
      "execution_count": 40,
      "outputs": [
        {
          "output_type": "stream",
          "name": "stdout",
          "text": [
            "Starting LR on Hellinger-hist + curated features...\n"
          ]
        },
        {
          "output_type": "stream",
          "name": "stdout",
          "text": [
            "LR Hellinger+Curated OOF Macro AUC: 0.58278\nSaved prod_lr_hc_* files.\nSaved submission_lr_hc.csv\n"
          ]
        }
      ]
    },
    {
      "id": "5be6958f-6e10-4eb5-8e7d-c13fd5180883",
      "cell_type": "code",
      "metadata": {},
      "source": [
        "# Path B: XGBoost with Hellinger hist + curated feats + GLOBAL station prior; 5-fold KFold (leaky leaderboard probe)\n",
        "import sys, subprocess, time, os\n",
        "try:\n",
        "    import xgboost as xgb\n",
        "except Exception:\n",
        "    subprocess.check_call([sys.executable, '-m', 'pip', 'install', '-q', 'xgboost'])\n",
        "    import xgboost as xgb\n",
        "from sklearn.model_selection import KFold\n",
        "from sklearn.decomposition import TruncatedSVD\n",
        "import numpy as np, pandas as pd\n",
        "\n",
        "print('Starting XGB Path-B (KFold, Hellinger+Curated+GLOBAL prior)...')\n",
        "\n",
        "# Require global station priors and prepared features from cell 1 & 9\n",
        "ST_PRIOR_TRAIN = np.load('prod_stprior_train.npy')\n",
        "ST_PRIOR_TEST = np.load('prod_stprior_test.npy')\n",
        "\n",
        "n_tr = Y_train.shape[0]\n",
        "n_te = H_test_h.shape[0]\n",
        "\n",
        "def run_seed(seed=42, n_splits=5, use_svd=True, n_comp=32):\n",
        "    oof = np.zeros((n_tr, num_classes), dtype=np.float32)\n",
        "    te = np.zeros((n_te, num_classes), dtype=np.float32)\n",
        "    kf = KFold(n_splits=n_splits, shuffle=True, random_state=seed)\n",
        "    # Use same splits for all classes for speed\n",
        "    idx_folds = list(kf.split(H_train_h))\n",
        "    for c in range(num_classes):\n",
        "        y = Y_train[:, c].astype(int)\n",
        "        cls_oof = np.zeros(n_tr, dtype=np.float32)\n",
        "        cls_te_acc = np.zeros(n_te, dtype=np.float32)\n",
        "        for fold_no, (tr_idx, va_idx) in enumerate(idx_folds, 1):\n",
        "            t0 = time.time()\n",
        "            Xh_tr = H_train_h[tr_idx]; Xh_va = H_train_h[va_idx]; Xh_te = H_test_h\n",
        "            Xc_tr = C_train[tr_idx];   Xc_va = C_train[va_idx];   Xc_te = C_test\n",
        "            y_tr = y[tr_idx]; y_va = y[va_idx]\n",
        "            # Attach GLOBAL station prior for this class (1 feature)\n",
        "            st_tr_feat = ST_PRIOR_TRAIN[tr_idx, c][:, None].astype(np.float32)\n",
        "            st_va_feat = ST_PRIOR_TRAIN[va_idx, c][:, None].astype(np.float32)\n",
        "            st_te_feat = ST_PRIOR_TEST[:, c][:, None].astype(np.float32)\n",
        "            # Per-fold SVD on Hellinger hist\n",
        "            parts_tr = [st_tr_feat]; parts_va = [st_va_feat]; parts_te = [st_te_feat]\n",
        "            if use_svd and Xh_tr.size>0:\n",
        "                k = int(min(n_comp, max(2, min(Xh_tr.shape[1], max(2, Xh_tr.shape[0]-1)))))\n",
        "                if k >= 2:\n",
        "                    svd = TruncatedSVD(n_components=k, random_state=seed)\n",
        "                    svd.fit(Xh_tr)\n",
        "                    Z_tr = svd.transform(Xh_tr).astype(np.float32)\n",
        "                    Z_va = svd.transform(Xh_va).astype(np.float32)\n",
        "                    Z_te = svd.transform(Xh_te).astype(np.float32)\n",
        "                    parts_tr.append(Z_tr); parts_va.append(Z_va); parts_te.append(Z_te)\n",
        "                else:\n",
        "                    parts_tr.append(Xh_tr); parts_va.append(Xh_va); parts_te.append(Xh_te)\n",
        "            else:\n",
        "                parts_tr.append(Xh_tr); parts_va.append(Xh_va); parts_te.append(Xh_te)\n",
        "            # Append curated features\n",
        "            parts_tr.append(Xc_tr); parts_va.append(Xc_va); parts_te.append(Xc_te)\n",
        "            X_tr_mat = np.concatenate(parts_tr, axis=1).astype(np.float32)\n",
        "            X_va_mat = np.concatenate(parts_va, axis=1).astype(np.float32)\n",
        "            X_te_mat = np.concatenate(parts_te, axis=1).astype(np.float32)\n",
        "            # Degenerate handling\n",
        "            pos = int(y_tr.sum()); neg = int((1-y_tr).sum())\n",
        "            if pos == 0 or neg == 0 or y_va.sum() in (0, len(y_va)):\n",
        "                const = float(y.mean())\n",
        "                cls_oof[va_idx] = const\n",
        "                cls_te_acc += np.full(n_te, const, np.float32) / n_splits\n",
        "                print(f'[XGB-B] c={c:02d} fold {fold_no}: degenerate -> const {const:.4f} | {time.time()-t0:.2f}s', flush=True)\n",
        "                continue\n",
        "            spw = neg / max(1, pos)\n",
        "            dtrain = xgb.DMatrix(X_tr_mat, label=y_tr)\n",
        "            dvalid = xgb.DMatrix(X_va_mat, label=y_va)\n",
        "            dtest = xgb.DMatrix(X_te_mat)\n",
        "            params = {\n",
        "                'objective': 'binary:logistic',\n",
        "                'eval_metric': 'auc',\n",
        "                'max_depth': 4,\n",
        "                'min_child_weight': 1e-3,\n",
        "                'eta': 0.03,\n",
        "                'subsample': 0.9,\n",
        "                'colsample_bytree': 0.8,\n",
        "                'lambda': 0.1,\n",
        "                'tree_method': 'hist',\n",
        "                'max_bin': 64,\n",
        "                'scale_pos_weight': float(spw),\n",
        "                'seed': int(seed),\n",
        "                'verbosity': 0\n",
        "            }\n",
        "            bst = xgb.train(params, dtrain, num_boost_round=5000, evals=[(dvalid, 'valid')],\n",
        "                            early_stopping_rounds=200, verbose_eval=250)\n",
        "            p_va = bst.predict(dvalid, iteration_range=(0, bst.best_iteration+1)).astype(np.float32)\n",
        "            p_te = bst.predict(dtest, iteration_range=(0, bst.best_iteration+1)).astype(np.float32)\n",
        "            cls_oof[va_idx] = p_va\n",
        "            cls_te_acc += p_te / n_splits\n",
        "            print(f'[XGB-B] c={c:02d} fold {fold_no}: pos={pos} neg={neg} spw={spw:.2f} best_iter={bst.best_iteration} | {time.time()-t0:.2f}s', flush=True)\n",
        "        oof[:, c] = cls_oof\n",
        "        te[:, c] = cls_te_acc\n",
        "    return oof, te\n",
        "\n",
        "seeds = [42, 7, 2025]\n",
        "oofs = []; tests = []\n",
        "for i, sd in enumerate(seeds, 1):\n",
        "    print(f'== XGB-B Seed {sd} ({i}/{len(seeds)}) ==', flush=True)\n",
        "    oof_s, te_s = run_seed(seed=sd, n_splits=5, use_svd=True, n_comp=32)\n",
        "    oofs.append(oof_s); tests.append(te_s)\n",
        "\n",
        "oof_mean = np.mean(np.stack(oofs, axis=0), axis=0)\n",
        "te_mean = np.mean(np.stack(tests, axis=0), axis=0)\n",
        "auc = macro_auc_ignoring_degenerate(Y_train, oof_mean)\n",
        "print(f'Final XGB Path-B (3-seed, 5-fold) OOF Macro AUC: {auc:.5f}')\n",
        "\n",
        "np.save('prod_xgbB_oof.npy', oof_mean)\n",
        "np.save('prod_xgbB_test.npy', te_mean)\n",
        "np.save('prod_xgbB_train_ids.npy', rec_train)\n",
        "np.save('prod_xgbB_test_ids.npy', rec_test)\n",
        "print('Saved prod_xgbB_* files.')\n",
        "\n",
        "# Build submission\n",
        "sub = pd.read_csv('sample_submission.csv')\n",
        "id_vals = sub['Id'].values.astype(int)\n",
        "rid_to_idx = {rid:i for i, rid in enumerate(rec_test)}\n",
        "probs = np.zeros_like(id_vals, dtype=np.float32)\n",
        "for i, Id in enumerate(id_vals):\n",
        "    rid = Id // 100; cid = Id % 100\n",
        "    row = rid_to_idx.get(rid, None)\n",
        "    p = float(te_mean[row, cid]) if (row is not None and cid < num_classes) else 0.0\n",
        "    probs[i] = np.clip(p, 1e-6, 1-1e-6)\n",
        "sub['Probability'] = probs\n",
        "sub.to_csv('submission_xgbB.csv', index=False)\n",
        "print('Saved submission_xgbB.csv')"
      ],
      "execution_count": 42,
      "outputs": [
        {
          "output_type": "stream",
          "name": "stdout",
          "text": [
            "Starting XGB Path-B (KFold, Hellinger+Curated+GLOBAL prior)...\n== XGB-B Seed 42 (1/3) ==\n"
          ]
        },
        {
          "output_type": "stream",
          "name": "stdout",
          "text": [
            "[0]\tvalid-auc:0.99500\n"
          ]
        },
        {
          "output_type": "stream",
          "name": "stdout",
          "text": [
            "[201]\tvalid-auc:1.00000\n"
          ]
        },
        {
          "output_type": "stream",
          "name": "stdout",
          "text": [
            "[XGB-B] c=00 fold 1: pos=5 neg=201 spw=40.20 best_iter=1 | 0.33s\n"
          ]
        },
        {
          "output_type": "stream",
          "name": "stdout",
          "text": [
            "[0]\tvalid-auc:0.37000\n"
          ]
        },
        {
          "output_type": "stream",
          "name": "stdout",
          "text": [
            "[240]\tvalid-auc:0.76000\n"
          ]
        },
        {
          "output_type": "stream",
          "name": "stdout",
          "text": [
            "[XGB-B] c=00 fold 2: pos=5 neg=201 spw=40.20 best_iter=40 | 0.43s\n"
          ]
        },
        {
          "output_type": "stream",
          "name": "stdout",
          "text": [
            "[0]\tvalid-auc:0.50000\n"
          ]
        },
        {
          "output_type": "stream",
          "name": "stdout",
          "text": [
            "[203]\tvalid-auc:0.98039\n"
          ]
        },
        {
          "output_type": "stream",
          "name": "stdout",
          "text": [
            "[XGB-B] c=00 fold 3: pos=6 neg=200 spw=33.33 best_iter=4 | 0.38s\n"
          ]
        },
        {
          "output_type": "stream",
          "name": "stdout",
          "text": [
            "[XGB-B] c=00 fold 4: degenerate -> const 0.0271 | 0.14s\n"
          ]
        },
        {
          "output_type": "stream",
          "name": "stdout",
          "text": [
            "[0]\tvalid-auc:0.97959\n"
          ]
        },
        {
          "output_type": "stream",
          "name": "stdout",
          "text": [
            "[201]\tvalid-auc:0.93878\n"
          ]
        },
        {
          "output_type": "stream",
          "name": "stdout",
          "text": [
            "[XGB-B] c=00 fold 5: pos=5 neg=202 spw=40.40 best_iter=1 | 0.50s\n"
          ]
        },
        {
          "output_type": "stream",
          "name": "stdout",
          "text": [
            "[0]\tvalid-auc:0.91051\n"
          ]
        },
        {
          "output_type": "stream",
          "name": "stdout",
          "text": [
            "[203]\tvalid-auc:0.97443\n"
          ]
        },
        {
          "output_type": "stream",
          "name": "stdout",
          "text": [
            "[XGB-B] c=01 fold 1: pos=20 neg=186 spw=9.30 best_iter=4 | 0.41s\n"
          ]
        },
        {
          "output_type": "stream",
          "name": "stdout",
          "text": [
            "[0]\tvalid-auc:0.69787\n"
          ]
        },
        {
          "output_type": "stream",
          "name": "stdout",
          "text": [
            "[223]\tvalid-auc:0.84255\n"
          ]
        },
        {
          "output_type": "stream",
          "name": "stdout",
          "text": [
            "[XGB-B] c=01 fold 2: pos=23 neg=183 spw=7.96 best_iter=23 | 0.43s\n"
          ]
        },
        {
          "output_type": "stream",
          "name": "stdout",
          "text": [
            "[0]\tvalid-auc:0.90000\n"
          ]
        },
        {
          "output_type": "stream",
          "name": "stdout",
          "text": [
            "[204]\tvalid-auc:0.95238\n"
          ]
        },
        {
          "output_type": "stream",
          "name": "stdout",
          "text": [
            "[XGB-B] c=01 fold 3: pos=21 neg=185 spw=8.81 best_iter=5 | 0.45s\n"
          ]
        },
        {
          "output_type": "stream",
          "name": "stdout",
          "text": [
            "[0]\tvalid-auc:0.88043\n"
          ]
        },
        {
          "output_type": "stream",
          "name": "stdout",
          "text": [
            "[208]\tvalid-auc:0.94348\n"
          ]
        },
        {
          "output_type": "stream",
          "name": "stdout",
          "text": [
            "[XGB-B] c=01 fold 4: pos=23 neg=184 spw=8.00 best_iter=9 | 0.36s\n"
          ]
        },
        {
          "output_type": "stream",
          "name": "stdout",
          "text": [
            "[0]\tvalid-auc:0.92361\n"
          ]
        },
        {
          "output_type": "stream",
          "name": "stdout",
          "text": [
            "[206]\tvalid-auc:0.99306\n"
          ]
        },
        {
          "output_type": "stream",
          "name": "stdout",
          "text": [
            "[XGB-B] c=01 fold 5: pos=25 neg=182 spw=7.28 best_iter=6 | 0.39s\n"
          ]
        },
        {
          "output_type": "stream",
          "name": "stdout",
          "text": [
            "[0]\tvalid-auc:0.52899\n"
          ]
        },
        {
          "output_type": "stream",
          "name": "stdout",
          "text": [
            "[250]\tvalid-auc:0.70471\n"
          ]
        },
        {
          "output_type": "stream",
          "name": "stdout",
          "text": [
            "[356]\tvalid-auc:0.71558\n"
          ]
        },
        {
          "output_type": "stream",
          "name": "stdout",
          "text": [
            "[XGB-B] c=02 fold 1: pos=13 neg=193 spw=14.85 best_iter=156 | 0.46s\n"
          ]
        },
        {
          "output_type": "stream",
          "name": "stdout",
          "text": [
            "[0]\tvalid-auc:0.75521\n"
          ]
        },
        {
          "output_type": "stream",
          "name": "stdout",
          "text": [
            "[250]\tvalid-auc:0.92188\n"
          ]
        },
        {
          "output_type": "stream",
          "name": "stdout",
          "text": [
            "[335]\tvalid-auc:0.92188\n"
          ]
        },
        {
          "output_type": "stream",
          "name": "stdout",
          "text": [
            "[XGB-B] c=02 fold 2: pos=15 neg=191 spw=12.73 best_iter=135 | 0.58s\n"
          ]
        },
        {
          "output_type": "stream",
          "name": "stdout",
          "text": [
            "[0]\tvalid-auc:0.79932\n"
          ]
        },
        {
          "output_type": "stream",
          "name": "stdout",
          "text": [
            "[0]\tvalid-auc:0.89931\n"
          ]
        },
        {
          "output_type": "stream",
          "name": "stdout",
          "text": [
            "[200]\tvalid-auc:0.88889\n"
          ]
        },
        {
          "output_type": "stream",
          "name": "stdout",
          "text": [
            "[XGB-B] c=02 fold 4: pos=16 neg=191 spw=11.94 best_iter=1 | 0.60s\n"
          ]
        },
        {
          "output_type": "stream",
          "name": "stdout",
          "text": [
            "[0]\tvalid-auc:0.54514\n"
          ]
        },
        {
          "output_type": "stream",
          "name": "stdout",
          "text": [
            "[223]\tvalid-auc:0.73611\n"
          ]
        },
        {
          "output_type": "stream",
          "name": "stdout",
          "text": [
            "[XGB-B] c=02 fold 5: pos=16 neg=191 spw=11.94 best_iter=24 | 0.46s\n"
          ]
        },
        {
          "output_type": "stream",
          "name": "stdout",
          "text": [
            "[0]\tvalid-auc:0.98039\n"
          ]
        },
        {
          "output_type": "stream",
          "name": "stdout",
          "text": [
            "[220]\tvalid-auc:0.99020\n"
          ]
        },
        {
          "output_type": "stream",
          "name": "stdout",
          "text": [
            "[XGB-B] c=03 fold 1: pos=3 neg=203 spw=67.67 best_iter=20 | 0.40s\n"
          ]
        },
        {
          "output_type": "stream",
          "name": "stdout",
          "text": [
            "[0]\tvalid-auc:0.93137\n"
          ]
        },
        {
          "output_type": "stream",
          "name": "stdout",
          "text": [
            "[200]\tvalid-auc:0.80392\n"
          ]
        },
        {
          "output_type": "stream",
          "name": "stdout",
          "text": [
            "[XGB-B] c=03 fold 2: pos=3 neg=203 spw=67.67 best_iter=0 | 0.41s\n"
          ]
        },
        {
          "output_type": "stream",
          "name": "stdout",
          "text": [
            "[XGB-B] c=03 fold 3: degenerate -> const 0.0155 | 0.11s\n"
          ]
        },
        {
          "output_type": "stream",
          "name": "stdout",
          "text": [
            "[XGB-B] c=03 fold 4: degenerate -> const 0.0155 | 0.24s\n"
          ]
        },
        {
          "output_type": "stream",
          "name": "stdout",
          "text": [
            "[0]\tvalid-auc:1.00000\n"
          ]
        },
        {
          "output_type": "stream",
          "name": "stdout",
          "text": [
            "[199]\tvalid-auc:1.00000\n"
          ]
        },
        {
          "output_type": "stream",
          "name": "stdout",
          "text": [
            "[XGB-B] c=03 fold 5: pos=2 neg=205 spw=102.50 best_iter=0 | 0.53s\n"
          ]
        },
        {
          "output_type": "stream",
          "name": "stdout",
          "text": [
            "[0]\tvalid-auc:0.81277\n"
          ]
        },
        {
          "output_type": "stream",
          "name": "stdout",
          "text": [
            "[250]\tvalid-auc:0.79787\n"
          ]
        },
        {
          "output_type": "stream",
          "name": "stdout",
          "text": [
            "[390]\tvalid-auc:0.79362\n"
          ]
        },
        {
          "output_type": "stream",
          "name": "stdout",
          "text": [
            "[XGB-B] c=04 fold 1: pos=4 neg=202 spw=50.50 best_iter=190 | 0.51s\n"
          ]
        },
        {
          "output_type": "stream",
          "name": "stdout",
          "text": [
            "[0]\tvalid-auc:0.97059\n"
          ]
        },
        {
          "output_type": "stream",
          "name": "stdout",
          "text": [
            "[199]\tvalid-auc:0.96078\n"
          ]
        },
        {
          "output_type": "stream",
          "name": "stdout",
          "text": [
            "[XGB-B] c=04 fold 2: pos=8 neg=198 spw=24.75 best_iter=0 | 0.44s\n"
          ]
        },
        {
          "output_type": "stream",
          "name": "stdout",
          "text": [
            "[0]\tvalid-auc:0.38235\n"
          ]
        },
        {
          "output_type": "stream",
          "name": "stdout",
          "text": [
            "[220]\tvalid-auc:0.47059\n"
          ]
        },
        {
          "output_type": "stream",
          "name": "stdout",
          "text": [
            "[XGB-B] c=04 fold 3: pos=8 neg=198 spw=24.75 best_iter=20 | 0.37s\n"
          ]
        },
        {
          "output_type": "stream",
          "name": "stdout",
          "text": [
            "[XGB-B] c=04 fold 4: degenerate -> const 0.0349 | 0.11s\n"
          ]
        },
        {
          "output_type": "stream",
          "name": "stdout",
          "text": [
            "[0]\tvalid-auc:0.88265\n"
          ]
        },
        {
          "output_type": "stream",
          "name": "stdout",
          "text": [
            "[206]\tvalid-auc:0.93878\n"
          ]
        },
        {
          "output_type": "stream",
          "name": "stdout",
          "text": [
            "[XGB-B] c=04 fold 5: pos=7 neg=200 spw=28.57 best_iter=6 | 0.62s\n"
          ]
        },
        {
          "output_type": "stream",
          "name": "stdout",
          "text": [
            "[XGB-B] c=05 fold 1: degenerate -> const 0.0194 | 0.14s\n"
          ]
        },
        {
          "output_type": "stream",
          "name": "stdout",
          "text": [
            "[0]\tvalid-auc:0.49000\n"
          ]
        },
        {
          "output_type": "stream",
          "name": "stdout",
          "text": [
            "[205]\tvalid-auc:0.80000\n"
          ]
        },
        {
          "output_type": "stream",
          "name": "stdout",
          "text": [
            "[XGB-B] c=05 fold 2: pos=3 neg=203 spw=67.67 best_iter=6 | 0.43s\n"
          ]
        },
        {
          "output_type": "stream",
          "name": "stdout",
          "text": [
            "[XGB-B] c=05 fold 3: degenerate -> const 0.0194 | 0.11s\n"
          ]
        },
        {
          "output_type": "stream",
          "name": "stdout",
          "text": [
            "[0]\tvalid-auc:0.40000\n"
          ]
        },
        {
          "output_type": "stream",
          "name": "stdout",
          "text": [
            "[250]\tvalid-auc:0.96000\n"
          ]
        },
        {
          "output_type": "stream",
          "name": "stdout",
          "text": [
            "[332]\tvalid-auc:0.92000\n"
          ]
        },
        {
          "output_type": "stream",
          "name": "stdout",
          "text": [
            "[XGB-B] c=05 fold 4: pos=4 neg=203 spw=50.75 best_iter=132 | 0.48s\n"
          ]
        },
        {
          "output_type": "stream",
          "name": "stdout",
          "text": [
            "[0]\tvalid-auc:0.50000\n"
          ]
        },
        {
          "output_type": "stream",
          "name": "stdout",
          "text": [
            "[205]\tvalid-auc:0.73469\n"
          ]
        },
        {
          "output_type": "stream",
          "name": "stdout",
          "text": [
            "[XGB-B] c=05 fold 5: pos=3 neg=204 spw=68.00 best_iter=5 | 0.38s\n"
          ]
        },
        {
          "output_type": "stream",
          "name": "stdout",
          "text": [
            "[0]\tvalid-auc:0.78723\n"
          ]
        },
        {
          "output_type": "stream",
          "name": "stdout",
          "text": [
            "[200]\tvalid-auc:0.76596\n"
          ]
        },
        {
          "output_type": "stream",
          "name": "stdout",
          "text": [
            "[XGB-B] c=06 fold 1: pos=14 neg=192 spw=13.71 best_iter=0 | 0.39s\n"
          ]
        },
        {
          "output_type": "stream",
          "name": "stdout",
          "text": [
            "[0]\tvalid-auc:0.64966\n"
          ]
        },
        {
          "output_type": "stream",
          "name": "stdout",
          "text": [
            "[203]\tvalid-auc:0.53741\n"
          ]
        },
        {
          "output_type": "stream",
          "name": "stdout",
          "text": [
            "[XGB-B] c=06 fold 2: pos=16 neg=190 spw=11.88 best_iter=3 | 0.42s\n"
          ]
        },
        {
          "output_type": "stream",
          "name": "stdout",
          "text": [
            "[0]\tvalid-auc:0.86000\n"
          ]
        },
        {
          "output_type": "stream",
          "name": "stdout",
          "text": [
            "[216]\tvalid-auc:0.98000\n"
          ]
        },
        {
          "output_type": "stream",
          "name": "stdout",
          "text": [
            "[XGB-B] c=06 fold 3: pos=17 neg=189 spw=11.12 best_iter=16 | 0.39s\n"
          ]
        },
        {
          "output_type": "stream",
          "name": "stdout",
          "text": [
            "[0]\tvalid-auc:0.81117\n"
          ]
        },
        {
          "output_type": "stream",
          "name": "stdout",
          "text": [
            "[204]\tvalid-auc:0.85372\n"
          ]
        },
        {
          "output_type": "stream",
          "name": "stdout",
          "text": [
            "[XGB-B] c=06 fold 4: pos=15 neg=192 spw=12.80 best_iter=5 | 0.39s\n"
          ]
        },
        {
          "output_type": "stream",
          "name": "stdout",
          "text": [
            "[0]\tvalid-auc:0.61522\n"
          ]
        },
        {
          "output_type": "stream",
          "name": "stdout",
          "text": [
            "[250]\tvalid-auc:0.63043\n"
          ]
        },
        {
          "output_type": "stream",
          "name": "stdout",
          "text": [
            "[387]\tvalid-auc:0.62609\n"
          ]
        },
        {
          "output_type": "stream",
          "name": "stdout",
          "text": [
            "[XGB-B] c=06 fold 5: pos=14 neg=193 spw=13.79 best_iter=187 | 0.64s\n"
          ]
        },
        {
          "output_type": "stream",
          "name": "stdout",
          "text": [
            "[0]\tvalid-auc:0.66279\n"
          ]
        },
        {
          "output_type": "stream",
          "name": "stdout",
          "text": [
            "[203]\tvalid-auc:0.63824\n"
          ]
        },
        {
          "output_type": "stream",
          "name": "stdout",
          "text": [
            "[XGB-B] c=07 fold 1: pos=10 neg=196 spw=19.60 best_iter=3 | 0.73s\n"
          ]
        },
        {
          "output_type": "stream",
          "name": "stdout",
          "text": [
            "[0]\tvalid-auc:0.85500\n"
          ]
        },
        {
          "output_type": "stream",
          "name": "stdout",
          "text": [
            "[250]\tvalid-auc:0.93000\n"
          ]
        },
        {
          "output_type": "stream",
          "name": "stdout",
          "text": [
            "[336]\tvalid-auc:0.92000\n"
          ]
        },
        {
          "output_type": "stream",
          "name": "stdout",
          "text": [
            "[XGB-B] c=07 fold 2: pos=17 neg=189 spw=11.12 best_iter=137 | 0.53s\n"
          ]
        },
        {
          "output_type": "stream",
          "name": "stdout",
          "text": [
            "[0]\tvalid-auc:0.96078\n"
          ]
        },
        {
          "output_type": "stream",
          "name": "stdout",
          "text": [
            "[201]\tvalid-auc:1.00000\n"
          ]
        },
        {
          "output_type": "stream",
          "name": "stdout",
          "text": [
            "[XGB-B] c=07 fold 3: pos=18 neg=188 spw=10.44 best_iter=1 | 0.36s\n"
          ]
        },
        {
          "output_type": "stream",
          "name": "stdout",
          "text": [
            "[0]\tvalid-auc:0.79167\n"
          ]
        },
        {
          "output_type": "stream",
          "name": "stdout",
          "text": [
            "[200]\tvalid-auc:0.67361\n"
          ]
        },
        {
          "output_type": "stream",
          "name": "stdout",
          "text": [
            "[XGB-B] c=07 fold 4: pos=16 neg=191 spw=11.94 best_iter=0 | 0.36s\n"
          ]
        },
        {
          "output_type": "stream",
          "name": "stdout",
          "text": [
            "[0]\tvalid-auc:0.52128\n"
          ]
        },
        {
          "output_type": "stream",
          "name": "stdout",
          "text": [
            "[207]\tvalid-auc:0.51064\n"
          ]
        },
        {
          "output_type": "stream",
          "name": "stdout",
          "text": [
            "[XGB-B] c=07 fold 5: pos=15 neg=192 spw=12.80 best_iter=8 | 0.37s\n"
          ]
        },
        {
          "output_type": "stream",
          "name": "stdout",
          "text": [
            "[0]\tvalid-auc:0.72464\n"
          ]
        },
        {
          "output_type": "stream",
          "name": "stdout",
          "text": [
            "[250]\tvalid-auc:0.78804\n"
          ]
        },
        {
          "output_type": "stream",
          "name": "stdout",
          "text": [
            "[266]\tvalid-auc:0.78804\n"
          ]
        },
        {
          "output_type": "stream",
          "name": "stdout",
          "text": [
            "[XGB-B] c=08 fold 1: pos=18 neg=188 spw=10.44 best_iter=66 | 0.45s\n"
          ]
        },
        {
          "output_type": "stream",
          "name": "stdout",
          "text": [
            "[0]\tvalid-auc:0.91667\n"
          ]
        },
        {
          "output_type": "stream",
          "name": "stdout",
          "text": [
            "[250]\tvalid-auc:0.98913\n"
          ]
        },
        {
          "output_type": "stream",
          "name": "stdout",
          "text": [
            "[274]\tvalid-auc:0.98913\n"
          ]
        },
        {
          "output_type": "stream",
          "name": "stdout",
          "text": [
            "[XGB-B] c=08 fold 2: pos=18 neg=188 spw=10.44 best_iter=74 | 0.51s\n"
          ]
        },
        {
          "output_type": "stream",
          "name": "stdout",
          "text": [
            "[0]\tvalid-auc:0.77500\n"
          ]
        },
        {
          "output_type": "stream",
          "name": "stdout",
          "text": [
            "[199]\tvalid-auc:0.74000\n"
          ]
        },
        {
          "output_type": "stream",
          "name": "stdout",
          "text": [
            "[XGB-B] c=08 fold 3: pos=22 neg=184 spw=8.36 best_iter=0 | 0.36s\n"
          ]
        },
        {
          "output_type": "stream",
          "name": "stdout",
          "text": [
            "[0]\tvalid-auc:0.89286\n"
          ]
        },
        {
          "output_type": "stream",
          "name": "stdout",
          "text": [
            "[202]\tvalid-auc:0.93831\n"
          ]
        },
        {
          "output_type": "stream",
          "name": "stdout",
          "text": [
            "[XGB-B] c=08 fold 4: pos=17 neg=190 spw=11.18 best_iter=3 | 0.45s\n"
          ]
        },
        {
          "output_type": "stream",
          "name": "stdout",
          "text": [
            "[0]\tvalid-auc:0.73958\n"
          ]
        },
        {
          "output_type": "stream",
          "name": "stdout",
          "text": [
            "[250]\tvalid-auc:0.96528\n"
          ]
        },
        {
          "output_type": "stream",
          "name": "stdout",
          "text": [
            "[500]\tvalid-auc:0.97222\n"
          ]
        },
        {
          "output_type": "stream",
          "name": "stdout",
          "text": [
            "[605]\tvalid-auc:0.97917\n"
          ]
        },
        {
          "output_type": "stream",
          "name": "stdout",
          "text": [
            "[XGB-B] c=08 fold 5: pos=21 neg=186 spw=8.86 best_iter=406 | 0.68s\n"
          ]
        },
        {
          "output_type": "stream",
          "name": "stdout",
          "text": [
            "[0]\tvalid-auc:0.40476\n"
          ]
        },
        {
          "output_type": "stream",
          "name": "stdout",
          "text": [
            "[250]\tvalid-auc:0.51020\n"
          ]
        },
        {
          "output_type": "stream",
          "name": "stdout",
          "text": [
            "[485]\tvalid-auc:0.51020\n"
          ]
        },
        {
          "output_type": "stream",
          "name": "stdout",
          "text": [
            "[XGB-B] c=09 fold 1: pos=18 neg=188 spw=10.44 best_iter=285 | 0.61s\n"
          ]
        },
        {
          "output_type": "stream",
          "name": "stdout",
          "text": [
            "[0]\tvalid-auc:0.73153\n"
          ]
        },
        {
          "output_type": "stream",
          "name": "stdout",
          "text": [
            "[250]\tvalid-auc:0.83523\n"
          ]
        },
        {
          "output_type": "stream",
          "name": "stdout",
          "text": [
            "[397]\tvalid-auc:0.82386\n"
          ]
        },
        {
          "output_type": "stream",
          "name": "stdout",
          "text": [
            "[XGB-B] c=09 fold 2: pos=13 neg=193 spw=14.85 best_iter=198 | 0.56s\n"
          ]
        },
        {
          "output_type": "stream",
          "name": "stdout",
          "text": [
            "[0]\tvalid-auc:0.69048\n"
          ]
        },
        {
          "output_type": "stream",
          "name": "stdout",
          "text": [
            "[250]\tvalid-auc:0.96599\n"
          ]
        },
        {
          "output_type": "stream",
          "name": "stdout",
          "text": [
            "[372]\tvalid-auc:0.95238\n"
          ]
        },
        {
          "output_type": "stream",
          "name": "stdout",
          "text": [
            "[XGB-B] c=09 fold 3: pos=18 neg=188 spw=10.44 best_iter=172 | 0.43s\n"
          ]
        },
        {
          "output_type": "stream",
          "name": "stdout",
          "text": [
            "[0]\tvalid-auc:0.59694\n"
          ]
        },
        {
          "output_type": "stream",
          "name": "stdout",
          "text": [
            "[250]\tvalid-auc:0.82143\n"
          ]
        },
        {
          "output_type": "stream",
          "name": "stdout",
          "text": [
            "[500]\tvalid-auc:0.86224\n"
          ]
        },
        {
          "output_type": "stream",
          "name": "stdout",
          "text": [
            "[554]\tvalid-auc:0.85204\n"
          ]
        },
        {
          "output_type": "stream",
          "name": "stdout",
          "text": [
            "[XGB-B] c=09 fold 4: pos=19 neg=188 spw=9.89 best_iter=355 | 0.67s\n"
          ]
        },
        {
          "output_type": "stream",
          "name": "stdout",
          "text": [
            "[0]\tvalid-auc:0.73043\n"
          ]
        },
        {
          "output_type": "stream",
          "name": "stdout",
          "text": [
            "[208]\tvalid-auc:0.82609\n"
          ]
        },
        {
          "output_type": "stream",
          "name": "stdout",
          "text": [
            "[XGB-B] c=09 fold 5: pos=16 neg=191 spw=11.94 best_iter=8 | 0.45s\n"
          ]
        },
        {
          "output_type": "stream",
          "name": "stdout",
          "text": [
            "[0]\tvalid-auc:0.75065\n"
          ]
        },
        {
          "output_type": "stream",
          "name": "stdout",
          "text": [
            "[250]\tvalid-auc:0.85013\n"
          ]
        },
        {
          "output_type": "stream",
          "name": "stdout",
          "text": [
            "[313]\tvalid-auc:0.85271\n"
          ]
        },
        {
          "output_type": "stream",
          "name": "stdout",
          "text": [
            "[XGB-B] c=10 fold 1: pos=40 neg=166 spw=4.15 best_iter=113 | 0.46s\n"
          ]
        },
        {
          "output_type": "stream",
          "name": "stdout",
          "text": [
            "[0]\tvalid-auc:0.82857\n"
          ]
        },
        {
          "output_type": "stream",
          "name": "stdout",
          "text": [
            "[203]\tvalid-auc:0.93016\n"
          ]
        },
        {
          "output_type": "stream",
          "name": "stdout",
          "text": [
            "[XGB-B] c=10 fold 2: pos=42 neg=164 spw=3.90 best_iter=3 | 0.47s\n"
          ]
        },
        {
          "output_type": "stream",
          "name": "stdout",
          "text": [
            "[0]\tvalid-auc:0.62024\n"
          ]
        },
        {
          "output_type": "stream",
          "name": "stdout",
          "text": [
            "[250]\tvalid-auc:0.89762\n"
          ]
        },
        {
          "output_type": "stream",
          "name": "stdout",
          "text": [
            "[500]\tvalid-auc:0.90000\n"
          ]
        },
        {
          "output_type": "stream",
          "name": "stdout",
          "text": [
            "[588]\tvalid-auc:0.90000\n"
          ]
        },
        {
          "output_type": "stream",
          "name": "stdout",
          "text": [
            "[XGB-B] c=10 fold 3: pos=39 neg=167 spw=4.28 best_iter=388 | 0.77s\n"
          ]
        },
        {
          "output_type": "stream",
          "name": "stdout",
          "text": [
            "[0]\tvalid-auc:0.88902\n"
          ]
        },
        {
          "output_type": "stream",
          "name": "stdout",
          "text": [
            "[224]\tvalid-auc:0.88537\n"
          ]
        },
        {
          "output_type": "stream",
          "name": "stdout",
          "text": [
            "[XGB-B] c=10 fold 4: pos=39 neg=168 spw=4.31 best_iter=24 | 0.44s\n"
          ]
        },
        {
          "output_type": "stream",
          "name": "stdout",
          "text": [
            "[0]\tvalid-auc:0.91599\n"
          ]
        },
        {
          "output_type": "stream",
          "name": "stdout",
          "text": [
            "[250]\tvalid-auc:0.95344\n"
          ]
        },
        {
          "output_type": "stream",
          "name": "stdout",
          "text": [
            "[372]\tvalid-auc:0.93421\n"
          ]
        },
        {
          "output_type": "stream",
          "name": "stdout",
          "text": [
            "[XGB-B] c=10 fold 5: pos=36 neg=171 spw=4.75 best_iter=173 | 0.48s\n"
          ]
        },
        {
          "output_type": "stream",
          "name": "stdout",
          "text": [
            "[0]\tvalid-auc:0.98039\n"
          ]
        },
        {
          "output_type": "stream",
          "name": "stdout",
          "text": [
            "[200]\tvalid-auc:0.98039\n"
          ]
        },
        {
          "output_type": "stream",
          "name": "stdout",
          "text": [
            "[XGB-B] c=11 fold 1: pos=9 neg=197 spw=21.89 best_iter=0 | 0.47s\n"
          ]
        },
        {
          "output_type": "stream",
          "name": "stdout",
          "text": [
            "[0]\tvalid-auc:0.98039\n"
          ]
        },
        {
          "output_type": "stream",
          "name": "stdout",
          "text": [
            "[200]\tvalid-auc:0.98039\n"
          ]
        },
        {
          "output_type": "stream",
          "name": "stdout",
          "text": [
            "[XGB-B] c=11 fold 2: pos=9 neg=197 spw=21.89 best_iter=0 | 0.45s\n"
          ]
        },
        {
          "output_type": "stream",
          "name": "stdout",
          "text": [
            "[0]\tvalid-auc:0.85688\n"
          ]
        },
        {
          "output_type": "stream",
          "name": "stdout",
          "text": [
            "[250]\tvalid-auc:0.94203\n"
          ]
        },
        {
          "output_type": "stream",
          "name": "stdout",
          "text": [
            "[397]\tvalid-auc:0.93841\n"
          ]
        },
        {
          "output_type": "stream",
          "name": "stdout",
          "text": [
            "[XGB-B] c=11 fold 3: pos=4 neg=202 spw=50.50 best_iter=198 | 0.51s\n"
          ]
        },
        {
          "output_type": "stream",
          "name": "stdout",
          "text": [
            "[0]\tvalid-auc:0.73980\n"
          ]
        },
        {
          "output_type": "stream",
          "name": "stdout",
          "text": [
            "[199]\tvalid-auc:0.55102\n"
          ]
        },
        {
          "output_type": "stream",
          "name": "stdout",
          "text": [
            "[XGB-B] c=11 fold 4: pos=8 neg=199 spw=24.88 best_iter=0 | 0.39s\n"
          ]
        },
        {
          "output_type": "stream",
          "name": "stdout",
          "text": [
            "[XGB-B] c=11 fold 5: degenerate -> const 0.0388 | 0.14s\n"
          ]
        },
        {
          "output_type": "stream",
          "name": "stdout",
          "text": [
            "[0]\tvalid-auc:1.00000\n"
          ]
        },
        {
          "output_type": "stream",
          "name": "stdout",
          "text": [
            "[199]\tvalid-auc:1.00000\n"
          ]
        },
        {
          "output_type": "stream",
          "name": "stdout",
          "text": [
            "[XGB-B] c=12 fold 1: pos=9 neg=197 spw=21.89 best_iter=0 | 0.44s\n"
          ]
        },
        {
          "output_type": "stream",
          "name": "stdout",
          "text": [
            "[0]\tvalid-auc:0.89000\n"
          ]
        },
        {
          "output_type": "stream",
          "name": "stdout",
          "text": [
            "[200]\tvalid-auc:0.74000\n"
          ]
        },
        {
          "output_type": "stream",
          "name": "stdout",
          "text": [
            "[XGB-B] c=12 fold 2: pos=10 neg=196 spw=19.60 best_iter=0 | 0.43s\n"
          ]
        },
        {
          "output_type": "stream",
          "name": "stdout",
          "text": [
            "[0]\tvalid-auc:0.82313\n"
          ]
        },
        {
          "output_type": "stream",
          "name": "stdout",
          "text": [
            "[201]\tvalid-auc:0.77551\n"
          ]
        },
        {
          "output_type": "stream",
          "name": "stdout",
          "text": [
            "[XGB-B] c=12 fold 3: pos=9 neg=197 spw=21.89 best_iter=1 | 0.38s\n"
          ]
        },
        {
          "output_type": "stream",
          "name": "stdout",
          "text": [
            "[0]\tvalid-auc:0.99000\n"
          ]
        },
        {
          "output_type": "stream",
          "name": "stdout",
          "text": [
            "[200]\tvalid-auc:0.98000\n"
          ]
        },
        {
          "output_type": "stream",
          "name": "stdout",
          "text": [
            "[XGB-B] c=12 fold 4: pos=11 neg=196 spw=17.82 best_iter=0 | 0.39s\n"
          ]
        },
        {
          "output_type": "stream",
          "name": "stdout",
          "text": [
            "[0]\tvalid-auc:0.63194\n"
          ]
        },
        {
          "output_type": "stream",
          "name": "stdout",
          "text": [
            "[250]\tvalid-auc:0.77083\n"
          ]
        },
        {
          "output_type": "stream",
          "name": "stdout",
          "text": [
            "[325]\tvalid-auc:0.77083\n"
          ]
        },
        {
          "output_type": "stream",
          "name": "stdout",
          "text": [
            "[XGB-B] c=12 fold 5: pos=9 neg=198 spw=22.00 best_iter=125 | 0.50s\n"
          ]
        },
        {
          "output_type": "stream",
          "name": "stdout",
          "text": [
            "[XGB-B] c=13 fold 1: degenerate -> const 0.0155 | 0.23s\n"
          ]
        },
        {
          "output_type": "stream",
          "name": "stdout",
          "text": [
            "[0]\tvalid-auc:0.50000\n"
          ]
        },
        {
          "output_type": "stream",
          "name": "stdout",
          "text": [
            "[250]\tvalid-auc:1.00000\n"
          ]
        },
        {
          "output_type": "stream",
          "name": "stdout",
          "text": [
            "[300]\tvalid-auc:1.00000\n"
          ]
        },
        {
          "output_type": "stream",
          "name": "stdout",
          "text": [
            "[XGB-B] c=13 fold 2: pos=3 neg=203 spw=67.67 best_iter=100 | 0.41s\n"
          ]
        },
        {
          "output_type": "stream",
          "name": "stdout",
          "text": [
            "[XGB-B] c=13 fold 3: degenerate -> const 0.0155 | 0.13s\n"
          ]
        },
        {
          "output_type": "stream",
          "name": "stdout",
          "text": [
            "[0]\tvalid-auc:0.50000\n"
          ]
        },
        {
          "output_type": "stream",
          "name": "stdout",
          "text": [
            "[250]\tvalid-auc:0.96000\n"
          ]
        },
        {
          "output_type": "stream",
          "name": "stdout",
          "text": [
            "[500]\tvalid-auc:0.98000\n"
          ]
        },
        {
          "output_type": "stream",
          "name": "stdout",
          "text": [
            "[564]\tvalid-auc:0.98000\n"
          ]
        },
        {
          "output_type": "stream",
          "name": "stdout",
          "text": [
            "[XGB-B] c=13 fold 4: pos=3 neg=204 spw=68.00 best_iter=365 | 0.58s\n"
          ]
        },
        {
          "output_type": "stream",
          "name": "stdout",
          "text": [
            "[0]\tvalid-auc:0.48980\n"
          ]
        },
        {
          "output_type": "stream",
          "name": "stdout",
          "text": [
            "[250]\tvalid-auc:0.83673\n"
          ]
        },
        {
          "output_type": "stream",
          "name": "stdout",
          "text": [
            "[474]\tvalid-auc:0.84694\n"
          ]
        },
        {
          "output_type": "stream",
          "name": "stdout",
          "text": [
            "[XGB-B] c=13 fold 5: pos=2 neg=205 spw=102.50 best_iter=274 | 0.51s\n"
          ]
        },
        {
          "output_type": "stream",
          "name": "stdout",
          "text": [
            "[0]\tvalid-auc:0.80208\n"
          ]
        },
        {
          "output_type": "stream",
          "name": "stdout",
          "text": [
            "[214]\tvalid-auc:0.90104\n"
          ]
        },
        {
          "output_type": "stream",
          "name": "stdout",
          "text": [
            "[XGB-B] c=14 fold 1: pos=12 neg=194 spw=16.17 best_iter=14 | 0.42s\n"
          ]
        },
        {
          "output_type": "stream",
          "name": "stdout",
          "text": [
            "[0]\tvalid-auc:0.77604\n"
          ]
        },
        {
          "output_type": "stream",
          "name": "stdout",
          "text": [
            "[206]\tvalid-auc:0.73438\n"
          ]
        },
        {
          "output_type": "stream",
          "name": "stdout",
          "text": [
            "[XGB-B] c=14 fold 2: pos=12 neg=194 spw=16.17 best_iter=6 | 0.40s\n"
          ]
        },
        {
          "output_type": "stream",
          "name": "stdout",
          "text": [
            "[0]\tvalid-auc:0.63000\n"
          ]
        },
        {
          "output_type": "stream",
          "name": "stdout",
          "text": [
            "[246]\tvalid-auc:0.66000\n"
          ]
        },
        {
          "output_type": "stream",
          "name": "stdout",
          "text": [
            "[XGB-B] c=14 fold 3: pos=14 neg=192 spw=13.71 best_iter=47 | 0.40s\n"
          ]
        },
        {
          "output_type": "stream",
          "name": "stdout",
          "text": [
            "[0]\tvalid-auc:0.77394\n"
          ]
        },
        {
          "output_type": "stream",
          "name": "stdout",
          "text": [
            "[220]\tvalid-auc:0.87500\n"
          ]
        },
        {
          "output_type": "stream",
          "name": "stdout",
          "text": [
            "[XGB-B] c=14 fold 4: pos=12 neg=195 spw=16.25 best_iter=20 | 0.47s\n"
          ]
        },
        {
          "output_type": "stream",
          "name": "stdout",
          "text": [
            "[0]\tvalid-auc:0.89286\n"
          ]
        },
        {
          "output_type": "stream",
          "name": "stdout",
          "text": [
            "[250]\tvalid-auc:0.93878\n"
          ]
        },
        {
          "output_type": "stream",
          "name": "stdout",
          "text": [
            "[386]\tvalid-auc:0.92857\n"
          ]
        },
        {
          "output_type": "stream",
          "name": "stdout",
          "text": [
            "[XGB-B] c=14 fold 5: pos=14 neg=193 spw=13.79 best_iter=186 | 0.54s\n"
          ]
        },
        {
          "output_type": "stream",
          "name": "stdout",
          "text": [
            "[0]\tvalid-auc:0.44118\n"
          ]
        },
        {
          "output_type": "stream",
          "name": "stdout",
          "text": [
            "[215]\tvalid-auc:0.70588\n"
          ]
        },
        {
          "output_type": "stream",
          "name": "stdout",
          "text": [
            "[XGB-B] c=15 fold 1: pos=5 neg=201 spw=40.20 best_iter=15 | 0.60s\n"
          ]
        },
        {
          "output_type": "stream",
          "name": "stdout",
          "text": [
            "[0]\tvalid-auc:0.44118\n"
          ]
        },
        {
          "output_type": "stream",
          "name": "stdout",
          "text": [
            "[221]\tvalid-auc:0.80392\n"
          ]
        },
        {
          "output_type": "stream",
          "name": "stdout",
          "text": [
            "[XGB-B] c=15 fold 2: pos=5 neg=201 spw=40.20 best_iter=22 | 0.37s\n"
          ]
        },
        {
          "output_type": "stream",
          "name": "stdout",
          "text": [
            "[0]\tvalid-auc:0.41000\n"
          ]
        },
        {
          "output_type": "stream",
          "name": "stdout",
          "text": [
            "[250]\tvalid-auc:0.63500\n"
          ]
        },
        {
          "output_type": "stream",
          "name": "stdout",
          "text": [
            "[308]\tvalid-auc:0.63500\n"
          ]
        },
        {
          "output_type": "stream",
          "name": "stdout",
          "text": [
            "[XGB-B] c=15 fold 3: pos=4 neg=202 spw=50.50 best_iter=108 | 0.56s\n"
          ]
        },
        {
          "output_type": "stream",
          "name": "stdout",
          "text": [
            "[0]\tvalid-auc:0.47000\n"
          ]
        },
        {
          "output_type": "stream",
          "name": "stdout",
          "text": [
            "[244]\tvalid-auc:0.98000\n"
          ]
        },
        {
          "output_type": "stream",
          "name": "stdout",
          "text": [
            "[XGB-B] c=15 fold 4: pos=5 neg=202 spw=40.40 best_iter=44 | 0.40s\n"
          ]
        },
        {
          "output_type": "stream",
          "name": "stdout",
          "text": [
            "[0]\tvalid-auc:0.98000\n"
          ]
        },
        {
          "output_type": "stream",
          "name": "stdout",
          "text": [
            "[200]\tvalid-auc:1.00000\n"
          ]
        },
        {
          "output_type": "stream",
          "name": "stdout",
          "text": [
            "[XGB-B] c=15 fold 5: pos=5 neg=202 spw=40.40 best_iter=1 | 0.46s\n"
          ]
        },
        {
          "output_type": "stream",
          "name": "stdout",
          "text": [
            "[XGB-B] c=16 fold 1: degenerate -> const 0.0078 | 0.13s\n"
          ]
        },
        {
          "output_type": "stream",
          "name": "stdout",
          "text": [
            "[XGB-B] c=16 fold 2: degenerate -> const 0.0078 | 0.24s\n"
          ]
        },
        {
          "output_type": "stream",
          "name": "stdout",
          "text": [
            "[0]\tvalid-auc:0.50000\n"
          ]
        },
        {
          "output_type": "stream",
          "name": "stdout",
          "text": [
            "[199]\tvalid-auc:0.45098\n"
          ]
        },
        {
          "output_type": "stream",
          "name": "stdout",
          "text": [
            "[XGB-B] c=16 fold 3: pos=1 neg=205 spw=205.00 best_iter=0 | 0.47s\n"
          ]
        },
        {
          "output_type": "stream",
          "name": "stdout",
          "text": [
            "[0]\tvalid-auc:0.50000\n"
          ]
        },
        {
          "output_type": "stream",
          "name": "stdout",
          "text": [
            "[199]\tvalid-auc:0.46000\n"
          ]
        },
        {
          "output_type": "stream",
          "name": "stdout",
          "text": [
            "[XGB-B] c=16 fold 4: pos=1 neg=206 spw=206.00 best_iter=0 | 0.34s\n"
          ]
        },
        {
          "output_type": "stream",
          "name": "stdout",
          "text": [
            "[XGB-B] c=16 fold 5: degenerate -> const 0.0078 | 0.20s\n"
          ]
        },
        {
          "output_type": "stream",
          "name": "stdout",
          "text": [
            "[0]\tvalid-auc:0.41176\n"
          ]
        },
        {
          "output_type": "stream",
          "name": "stdout",
          "text": [
            "[200]\tvalid-auc:0.85294\n"
          ]
        },
        {
          "output_type": "stream",
          "name": "stdout",
          "text": [
            "[XGB-B] c=17 fold 1: pos=3 neg=203 spw=67.67 best_iter=1 | 0.46s\n"
          ]
        },
        {
          "output_type": "stream",
          "name": "stdout",
          "text": [
            "[0]\tvalid-auc:0.91176\n"
          ]
        },
        {
          "output_type": "stream",
          "name": "stdout",
          "text": [
            "[201]\tvalid-auc:0.92157\n"
          ]
        },
        {
          "output_type": "stream",
          "name": "stdout",
          "text": [
            "[XGB-B] c=17 fold 2: pos=3 neg=203 spw=67.67 best_iter=1 | 0.45s\n"
          ]
        },
        {
          "output_type": "stream",
          "name": "stdout",
          "text": [
            "[0]\tvalid-auc:0.75000\n"
          ]
        },
        {
          "output_type": "stream",
          "name": "stdout",
          "text": [
            "[223]\tvalid-auc:0.77000\n"
          ]
        },
        {
          "output_type": "stream",
          "name": "stdout",
          "text": [
            "[XGB-B] c=17 fold 3: pos=2 neg=204 spw=102.00 best_iter=23 | 0.40s\n"
          ]
        },
        {
          "output_type": "stream",
          "name": "stdout",
          "text": [
            "[XGB-B] c=17 fold 4: degenerate -> const 0.0155 | 0.17s\n"
          ]
        },
        {
          "output_type": "stream",
          "name": "stdout",
          "text": [
            "[XGB-B] c=17 fold 5: degenerate -> const 0.0155 | 0.17s\n"
          ]
        },
        {
          "output_type": "stream",
          "name": "stdout",
          "text": [
            "[0]\tvalid-auc:0.71615\n"
          ]
        },
        {
          "output_type": "stream",
          "name": "stdout",
          "text": [
            "[250]\tvalid-auc:0.95312\n"
          ]
        },
        {
          "output_type": "stream",
          "name": "stdout",
          "text": [
            "[489]\tvalid-auc:0.94792\n"
          ]
        },
        {
          "output_type": "stream",
          "name": "stdout",
          "text": [
            "[XGB-B] c=18 fold 1: pos=8 neg=198 spw=24.75 best_iter=289 | 0.59s\n"
          ]
        },
        {
          "output_type": "stream",
          "name": "stdout",
          "text": [
            "[XGB-B] c=18 fold 2: degenerate -> const 0.0465 | 0.17s\n"
          ]
        },
        {
          "output_type": "stream",
          "name": "stdout",
          "text": [
            "[0]\tvalid-auc:0.94898\n"
          ]
        },
        {
          "output_type": "stream",
          "name": "stdout",
          "text": [
            "[250]\tvalid-auc:0.97959\n"
          ]
        },
        {
          "output_type": "stream",
          "name": "stdout",
          "text": [
            "[308]\tvalid-auc:0.97959\n"
          ]
        },
        {
          "output_type": "stream",
          "name": "stdout",
          "text": [
            "[XGB-B] c=18 fold 3: pos=9 neg=197 spw=21.89 best_iter=108 | 0.51s\n"
          ]
        },
        {
          "output_type": "stream",
          "name": "stdout",
          "text": [
            "[0]\tvalid-auc:1.00000\n"
          ]
        },
        {
          "output_type": "stream",
          "name": "stdout",
          "text": [
            "[199]\tvalid-auc:0.92000\n"
          ]
        },
        {
          "output_type": "stream",
          "name": "stdout",
          "text": [
            "[XGB-B] c=18 fold 4: pos=11 neg=196 spw=17.82 best_iter=0 | 0.38s\n"
          ]
        },
        {
          "output_type": "stream",
          "name": "stdout",
          "text": [
            "[0]\tvalid-auc:0.86436\n"
          ]
        },
        {
          "output_type": "stream",
          "name": "stdout",
          "text": [
            "[200]\tvalid-auc:0.94681\n"
          ]
        },
        {
          "output_type": "stream",
          "name": "stdout",
          "text": [
            "[XGB-B] c=18 fold 5: pos=8 neg=199 spw=24.88 best_iter=1 | 0.45s\n"
          ]
        },
        {
          "output_type": "stream",
          "name": "stdout",
          "text": [
            "== XGB-B Seed 7 (2/3) ==\n"
          ]
        },
        {
          "output_type": "stream",
          "name": "stdout",
          "text": [
            "[0]\tvalid-auc:0.74000\n"
          ]
        },
        {
          "output_type": "stream",
          "name": "stdout",
          "text": [
            "[250]\tvalid-auc:0.98000\n"
          ]
        },
        {
          "output_type": "stream",
          "name": "stdout",
          "text": [
            "[259]\tvalid-auc:0.98000\n"
          ]
        },
        {
          "output_type": "stream",
          "name": "stdout",
          "text": [
            "[XGB-B] c=00 fold 1: pos=5 neg=201 spw=40.20 best_iter=59 | 0.48s\n"
          ]
        },
        {
          "output_type": "stream",
          "name": "stdout",
          "text": [
            "[0]\tvalid-auc:0.99020\n"
          ]
        },
        {
          "output_type": "stream",
          "name": "stdout",
          "text": [
            "[201]\tvalid-auc:1.00000\n"
          ]
        },
        {
          "output_type": "stream",
          "name": "stdout",
          "text": [
            "[XGB-B] c=00 fold 2: pos=6 neg=200 spw=33.33 best_iter=1 | 0.42s\n"
          ]
        },
        {
          "output_type": "stream",
          "name": "stdout",
          "text": [
            "[0]\tvalid-auc:0.47000\n"
          ]
        },
        {
          "output_type": "stream",
          "name": "stdout",
          "text": [
            "[202]\tvalid-auc:0.95000\n"
          ]
        },
        {
          "output_type": "stream",
          "name": "stdout",
          "text": [
            "[XGB-B] c=00 fold 3: pos=5 neg=201 spw=40.20 best_iter=3 | 0.37s\n"
          ]
        },
        {
          "output_type": "stream",
          "name": "stdout",
          "text": [
            "[0]\tvalid-auc:0.88000\n"
          ]
        },
        {
          "output_type": "stream",
          "name": "stdout",
          "text": [
            "[250]\tvalid-auc:0.98000\n"
          ]
        },
        {
          "output_type": "stream",
          "name": "stdout",
          "text": [
            "[321]\tvalid-auc:0.98000\n"
          ]
        },
        {
          "output_type": "stream",
          "name": "stdout",
          "text": [
            "[XGB-B] c=00 fold 4: pos=6 neg=201 spw=33.50 best_iter=122 | 0.41s\n"
          ]
        },
        {
          "output_type": "stream",
          "name": "stdout",
          "text": [
            "[0]\tvalid-auc:1.00000\n"
          ]
        },
        {
          "output_type": "stream",
          "name": "stdout",
          "text": [
            "[200]\tvalid-auc:1.00000\n"
          ]
        },
        {
          "output_type": "stream",
          "name": "stdout",
          "text": [
            "[XGB-B] c=00 fold 5: pos=6 neg=201 spw=33.50 best_iter=0 | 0.43s\n"
          ]
        },
        {
          "output_type": "stream",
          "name": "stdout",
          "text": [
            "[0]\tvalid-auc:0.84783\n"
          ]
        },
        {
          "output_type": "stream",
          "name": "stdout",
          "text": [
            "[205]\tvalid-auc:0.92754\n"
          ]
        },
        {
          "output_type": "stream",
          "name": "stdout",
          "text": [
            "[XGB-B] c=01 fold 1: pos=22 neg=184 spw=8.36 best_iter=5 | 0.41s\n"
          ]
        },
        {
          "output_type": "stream",
          "name": "stdout",
          "text": [
            "[0]\tvalid-auc:0.83333\n"
          ]
        },
        {
          "output_type": "stream",
          "name": "stdout",
          "text": [
            "[250]\tvalid-auc:0.92029\n"
          ]
        },
        {
          "output_type": "stream",
          "name": "stdout",
          "text": [
            "[343]\tvalid-auc:0.92029\n"
          ]
        },
        {
          "output_type": "stream",
          "name": "stdout",
          "text": [
            "[XGB-B] c=01 fold 2: pos=22 neg=184 spw=8.36 best_iter=143 | 0.48s\n"
          ]
        },
        {
          "output_type": "stream",
          "name": "stdout",
          "text": [
            "[0]\tvalid-auc:0.96667\n"
          ]
        },
        {
          "output_type": "stream",
          "name": "stdout",
          "text": [
            "[203]\tvalid-auc:0.93968\n"
          ]
        },
        {
          "output_type": "stream",
          "name": "stdout",
          "text": [
            "[XGB-B] c=01 fold 3: pos=21 neg=185 spw=8.81 best_iter=4 | 0.40s\n"
          ]
        },
        {
          "output_type": "stream",
          "name": "stdout",
          "text": [
            "[0]\tvalid-auc:0.94681\n"
          ]
        },
        {
          "output_type": "stream",
          "name": "stdout",
          "text": [
            "[202]\tvalid-auc:1.00000\n"
          ]
        },
        {
          "output_type": "stream",
          "name": "stdout",
          "text": [
            "[XGB-B] c=01 fold 4: pos=24 neg=183 spw=7.62 best_iter=2 | 0.45s\n"
          ]
        },
        {
          "output_type": "stream",
          "name": "stdout",
          "text": [
            "[0]\tvalid-auc:0.90000\n"
          ]
        },
        {
          "output_type": "stream",
          "name": "stdout",
          "text": [
            "[250]\tvalid-auc:0.97826\n"
          ]
        },
        {
          "output_type": "stream",
          "name": "stdout",
          "text": [
            "[337]\tvalid-auc:0.98261\n"
          ]
        },
        {
          "output_type": "stream",
          "name": "stdout",
          "text": [
            "[XGB-B] c=01 fold 5: pos=23 neg=184 spw=8.00 best_iter=137 | 0.52s\n"
          ]
        },
        {
          "output_type": "stream",
          "name": "stdout",
          "text": [
            "[0]\tvalid-auc:0.77891\n"
          ]
        },
        {
          "output_type": "stream",
          "name": "stdout",
          "text": [
            "[200]\tvalid-auc:0.77551\n"
          ]
        },
        {
          "output_type": "stream",
          "name": "stdout",
          "text": [
            "[XGB-B] c=02 fold 1: pos=16 neg=190 spw=11.88 best_iter=1 | 0.36s\n"
          ]
        },
        {
          "output_type": "stream",
          "name": "stdout",
          "text": [
            "[0]\tvalid-auc:0.92500\n"
          ]
        },
        {
          "output_type": "stream",
          "name": "stdout",
          "text": [
            "[250]\tvalid-auc:0.98000\n"
          ]
        },
        {
          "output_type": "stream",
          "name": "stdout",
          "text": [
            "[300]\tvalid-auc:0.98000\n"
          ]
        },
        {
          "output_type": "stream",
          "name": "stdout",
          "text": [
            "[XGB-B] c=02 fold 2: pos=17 neg=189 spw=11.12 best_iter=101 | 0.51s\n"
          ]
        },
        {
          "output_type": "stream",
          "name": "stdout",
          "text": [
            "[0]\tvalid-auc:0.56884\n"
          ]
        },
        {
          "output_type": "stream",
          "name": "stdout",
          "text": [
            "[222]\tvalid-auc:0.74638\n"
          ]
        },
        {
          "output_type": "stream",
          "name": "stdout",
          "text": [
            "[XGB-B] c=02 fold 3: pos=13 neg=193 spw=14.85 best_iter=23 | 0.40s\n"
          ]
        },
        {
          "output_type": "stream",
          "name": "stdout",
          "text": [
            "[0]\tvalid-auc:0.82391\n"
          ]
        },
        {
          "output_type": "stream",
          "name": "stdout",
          "text": [
            "[200]\tvalid-auc:0.77826\n"
          ]
        },
        {
          "output_type": "stream",
          "name": "stdout",
          "text": [
            "[XGB-B] c=02 fold 4: pos=14 neg=193 spw=13.79 best_iter=0 | 0.43s\n"
          ]
        },
        {
          "output_type": "stream",
          "name": "stdout",
          "text": [
            "[0]\tvalid-auc:0.65278\n"
          ]
        },
        {
          "output_type": "stream",
          "name": "stdout",
          "text": [
            "[210]\tvalid-auc:0.70833\n"
          ]
        },
        {
          "output_type": "stream",
          "name": "stdout",
          "text": [
            "[XGB-B] c=02 fold 5: pos=16 neg=191 spw=11.94 best_iter=11 | 0.40s\n"
          ]
        },
        {
          "output_type": "stream",
          "name": "stdout",
          "text": [
            "[XGB-B] c=03 fold 1: degenerate -> const 0.0155 | 0.15s\n"
          ]
        },
        {
          "output_type": "stream",
          "name": "stdout",
          "text": [
            "[XGB-B] c=03 fold 2: degenerate -> const 0.0155 | 0.23s\n"
          ]
        },
        {
          "output_type": "stream",
          "name": "stdout",
          "text": [
            "[0]\tvalid-auc:0.88235\n"
          ]
        },
        {
          "output_type": "stream",
          "name": "stdout",
          "text": [
            "[250]\tvalid-auc:1.00000\n"
          ]
        },
        {
          "output_type": "stream",
          "name": "stdout",
          "text": [
            "[360]\tvalid-auc:1.00000\n"
          ]
        },
        {
          "output_type": "stream",
          "name": "stdout",
          "text": [
            "[XGB-B] c=03 fold 3: pos=3 neg=203 spw=67.67 best_iter=161 | 0.60s\n"
          ]
        },
        {
          "output_type": "stream",
          "name": "stdout",
          "text": [
            "[0]\tvalid-auc:0.94898\n"
          ]
        },
        {
          "output_type": "stream",
          "name": "stdout",
          "text": [
            "[213]\tvalid-auc:0.90816\n"
          ]
        },
        {
          "output_type": "stream",
          "name": "stdout",
          "text": [
            "[XGB-B] c=03 fold 4: pos=2 neg=205 spw=102.50 best_iter=13 | 0.37s\n"
          ]
        },
        {
          "output_type": "stream",
          "name": "stdout",
          "text": [
            "[0]\tvalid-auc:0.99000\n"
          ]
        },
        {
          "output_type": "stream",
          "name": "stdout",
          "text": [
            "[206]\tvalid-auc:1.00000\n"
          ]
        },
        {
          "output_type": "stream",
          "name": "stdout",
          "text": [
            "[XGB-B] c=03 fold 5: pos=3 neg=204 spw=68.00 best_iter=7 | 0.37s\n"
          ]
        },
        {
          "output_type": "stream",
          "name": "stdout",
          "text": [
            "[0]\tvalid-auc:0.99020\n"
          ]
        },
        {
          "output_type": "stream",
          "name": "stdout",
          "text": [
            "[215]\tvalid-auc:0.86275\n"
          ]
        },
        {
          "output_type": "stream",
          "name": "stdout",
          "text": [
            "[XGB-B] c=04 fold 1: pos=8 neg=198 spw=24.75 best_iter=16 | 0.46s\n"
          ]
        },
        {
          "output_type": "stream",
          "name": "stdout",
          "text": [
            "[0]\tvalid-auc:0.73500\n"
          ]
        },
        {
          "output_type": "stream",
          "name": "stdout",
          "text": [
            "[212]\tvalid-auc:0.93000\n"
          ]
        },
        {
          "output_type": "stream",
          "name": "stdout",
          "text": [
            "[XGB-B] c=04 fold 2: pos=7 neg=199 spw=28.43 best_iter=12 | 0.40s\n"
          ]
        },
        {
          "output_type": "stream",
          "name": "stdout",
          "text": [
            "[0]\tvalid-auc:0.66500\n"
          ]
        },
        {
          "output_type": "stream",
          "name": "stdout",
          "text": [
            "[200]\tvalid-auc:0.60000\n"
          ]
        },
        {
          "output_type": "stream",
          "name": "stdout",
          "text": [
            "[XGB-B] c=04 fold 3: pos=7 neg=199 spw=28.43 best_iter=0 | 0.37s\n"
          ]
        },
        {
          "output_type": "stream",
          "name": "stdout",
          "text": [
            "[0]\tvalid-auc:0.43878\n"
          ]
        },
        {
          "output_type": "stream",
          "name": "stdout",
          "text": [
            "[250]\tvalid-auc:0.59184\n"
          ]
        },
        {
          "output_type": "stream",
          "name": "stdout",
          "text": [
            "[391]\tvalid-auc:0.57143\n"
          ]
        },
        {
          "output_type": "stream",
          "name": "stdout",
          "text": [
            "[XGB-B] c=04 fold 4: pos=7 neg=200 spw=28.57 best_iter=191 | 0.62s\n"
          ]
        },
        {
          "output_type": "stream",
          "name": "stdout",
          "text": [
            "[0]\tvalid-auc:0.93367\n"
          ]
        },
        {
          "output_type": "stream",
          "name": "stdout",
          "text": [
            "[224]\tvalid-auc:0.97959\n"
          ]
        },
        {
          "output_type": "stream",
          "name": "stdout",
          "text": [
            "[XGB-B] c=04 fold 5: pos=7 neg=200 spw=28.57 best_iter=25 | 0.44s\n"
          ]
        },
        {
          "output_type": "stream",
          "name": "stdout",
          "text": [
            "[0]\tvalid-auc:0.46000\n"
          ]
        },
        {
          "output_type": "stream",
          "name": "stdout",
          "text": [
            "[250]\tvalid-auc:0.65000\n"
          ]
        },
        {
          "output_type": "stream",
          "name": "stdout",
          "text": [
            "[437]\tvalid-auc:0.65000\n"
          ]
        },
        {
          "output_type": "stream",
          "name": "stdout",
          "text": [
            "[XGB-B] c=05 fold 1: pos=3 neg=203 spw=67.67 best_iter=238 | 0.54s\n"
          ]
        },
        {
          "output_type": "stream",
          "name": "stdout",
          "text": [
            "[0]\tvalid-auc:0.46078\n"
          ]
        },
        {
          "output_type": "stream",
          "name": "stdout",
          "text": [
            "[250]\tvalid-auc:0.76471\n"
          ]
        },
        {
          "output_type": "stream",
          "name": "stdout",
          "text": [
            "[289]\tvalid-auc:0.78431\n"
          ]
        },
        {
          "output_type": "stream",
          "name": "stdout",
          "text": [
            "[XGB-B] c=05 fold 2: pos=4 neg=202 spw=50.50 best_iter=89 | 0.44s\n"
          ]
        },
        {
          "output_type": "stream",
          "name": "stdout",
          "text": [
            "[0]\tvalid-auc:0.44118\n"
          ]
        },
        {
          "output_type": "stream",
          "name": "stdout",
          "text": [
            "[205]\tvalid-auc:0.86275\n"
          ]
        },
        {
          "output_type": "stream",
          "name": "stdout",
          "text": [
            "[XGB-B] c=05 fold 3: pos=4 neg=202 spw=50.50 best_iter=5 | 0.41s\n"
          ]
        },
        {
          "output_type": "stream",
          "name": "stdout",
          "text": [
            "[0]\tvalid-auc:0.39000\n"
          ]
        },
        {
          "output_type": "stream",
          "name": "stdout",
          "text": [
            "[250]\tvalid-auc:0.60000\n"
          ]
        },
        {
          "output_type": "stream",
          "name": "stdout",
          "text": [
            "[276]\tvalid-auc:0.60000\n"
          ]
        },
        {
          "output_type": "stream",
          "name": "stdout",
          "text": [
            "[XGB-B] c=05 fold 4: pos=4 neg=203 spw=50.75 best_iter=77 | 0.42s\n"
          ]
        },
        {
          "output_type": "stream",
          "name": "stdout",
          "text": [
            "[XGB-B] c=05 fold 5: degenerate -> const 0.0194 | 0.16s\n"
          ]
        },
        {
          "output_type": "stream",
          "name": "stdout",
          "text": [
            "[0]\tvalid-auc:0.59058\n"
          ]
        },
        {
          "output_type": "stream",
          "name": "stdout",
          "text": [
            "[213]\tvalid-auc:0.65580\n"
          ]
        },
        {
          "output_type": "stream",
          "name": "stdout",
          "text": [
            "[XGB-B] c=06 fold 1: pos=13 neg=193 spw=14.85 best_iter=13 | 0.61s\n"
          ]
        },
        {
          "output_type": "stream",
          "name": "stdout",
          "text": [
            "[0]\tvalid-auc:0.77000\n"
          ]
        },
        {
          "output_type": "stream",
          "name": "stdout",
          "text": [
            "[250]\tvalid-auc:0.87000\n"
          ]
        },
        {
          "output_type": "stream",
          "name": "stdout",
          "text": [
            "[486]\tvalid-auc:0.88000\n"
          ]
        },
        {
          "output_type": "stream",
          "name": "stdout",
          "text": [
            "[XGB-B] c=06 fold 2: pos=17 neg=189 spw=11.12 best_iter=287 | 0.56s\n"
          ]
        },
        {
          "output_type": "stream",
          "name": "stdout",
          "text": [
            "[0]\tvalid-auc:0.79000\n"
          ]
        },
        {
          "output_type": "stream",
          "name": "stdout",
          "text": [
            "[243]\tvalid-auc:0.86000\n"
          ]
        },
        {
          "output_type": "stream",
          "name": "stdout",
          "text": [
            "[XGB-B] c=06 fold 3: pos=17 neg=189 spw=11.12 best_iter=44 | 0.40s\n"
          ]
        },
        {
          "output_type": "stream",
          "name": "stdout",
          "text": [
            "[0]\tvalid-auc:0.64894\n"
          ]
        },
        {
          "output_type": "stream",
          "name": "stdout",
          "text": [
            "[250]\tvalid-auc:0.81383\n"
          ]
        },
        {
          "output_type": "stream",
          "name": "stdout",
          "text": [
            "[445]\tvalid-auc:0.79787\n"
          ]
        },
        {
          "output_type": "stream",
          "name": "stdout",
          "text": [
            "[XGB-B] c=06 fold 4: pos=15 neg=192 spw=12.80 best_iter=245 | 0.62s\n"
          ]
        },
        {
          "output_type": "stream",
          "name": "stdout",
          "text": [
            "[0]\tvalid-auc:0.66522\n"
          ]
        },
        {
          "output_type": "stream",
          "name": "stdout",
          "text": [
            "[250]\tvalid-auc:0.73913\n"
          ]
        },
        {
          "output_type": "stream",
          "name": "stdout",
          "text": [
            "[500]\tvalid-auc:0.76087\n"
          ]
        },
        {
          "output_type": "stream",
          "name": "stdout",
          "text": [
            "[557]\tvalid-auc:0.75652\n"
          ]
        },
        {
          "output_type": "stream",
          "name": "stdout",
          "text": [
            "[XGB-B] c=06 fold 5: pos=14 neg=193 spw=13.79 best_iter=358 | 0.60s\n"
          ]
        },
        {
          "output_type": "stream",
          "name": "stdout",
          "text": [
            "[0]\tvalid-auc:0.65986\n"
          ]
        },
        {
          "output_type": "stream",
          "name": "stdout",
          "text": [
            "[226]\tvalid-auc:0.53741\n"
          ]
        },
        {
          "output_type": "stream",
          "name": "stdout",
          "text": [
            "[XGB-B] c=07 fold 1: pos=16 neg=190 spw=11.88 best_iter=27 | 0.49s\n"
          ]
        },
        {
          "output_type": "stream",
          "name": "stdout",
          "text": [
            "[0]\tvalid-auc:0.89000\n"
          ]
        },
        {
          "output_type": "stream",
          "name": "stdout",
          "text": [
            "[199]\tvalid-auc:0.81000\n"
          ]
        },
        {
          "output_type": "stream",
          "name": "stdout",
          "text": [
            "[XGB-B] c=07 fold 2: pos=17 neg=189 spw=11.12 best_iter=0 | 0.38s\n"
          ]
        },
        {
          "output_type": "stream",
          "name": "stdout",
          "text": [
            "[0]\tvalid-auc:0.58824\n"
          ]
        },
        {
          "output_type": "stream",
          "name": "stdout",
          "text": [
            "[215]\tvalid-auc:0.64706\n"
          ]
        },
        {
          "output_type": "stream",
          "name": "stdout",
          "text": [
            "[XGB-B] c=07 fold 3: pos=18 neg=188 spw=10.44 best_iter=16 | 0.44s\n"
          ]
        },
        {
          "output_type": "stream",
          "name": "stdout",
          "text": [
            "[0]\tvalid-auc:0.73333\n"
          ]
        },
        {
          "output_type": "stream",
          "name": "stdout",
          "text": [
            "[199]\tvalid-auc:0.68148\n"
          ]
        },
        {
          "output_type": "stream",
          "name": "stdout",
          "text": [
            "[XGB-B] c=07 fold 4: pos=13 neg=194 spw=14.92 best_iter=0 | 0.41s\n"
          ]
        },
        {
          "output_type": "stream",
          "name": "stdout",
          "text": [
            "[0]\tvalid-auc:0.57955\n"
          ]
        },
        {
          "output_type": "stream",
          "name": "stdout",
          "text": [
            "[250]\tvalid-auc:0.73052\n"
          ]
        },
        {
          "output_type": "stream",
          "name": "stdout",
          "text": [
            "[500]\tvalid-auc:0.72727\n"
          ]
        },
        {
          "output_type": "stream",
          "name": "stdout",
          "text": [
            "[550]\tvalid-auc:0.71104\n"
          ]
        },
        {
          "output_type": "stream",
          "name": "stdout",
          "text": [
            "[XGB-B] c=07 fold 5: pos=12 neg=195 spw=16.25 best_iter=350 | 0.64s\n"
          ]
        },
        {
          "output_type": "stream",
          "name": "stdout",
          "text": [
            "[0]\tvalid-auc:0.80952\n"
          ]
        },
        {
          "output_type": "stream",
          "name": "stdout",
          "text": [
            "[250]\tvalid-auc:0.96599\n"
          ]
        },
        {
          "output_type": "stream",
          "name": "stdout",
          "text": [
            "[500]\tvalid-auc:0.97959\n"
          ]
        },
        {
          "output_type": "stream",
          "name": "stdout",
          "text": [
            "[678]\tvalid-auc:0.97959\n"
          ]
        },
        {
          "output_type": "stream",
          "name": "stdout",
          "text": [
            "[XGB-B] c=08 fold 1: pos=21 neg=185 spw=8.81 best_iter=478 | 0.79s\n"
          ]
        },
        {
          "output_type": "stream",
          "name": "stdout",
          "text": [
            "[0]\tvalid-auc:0.81915\n"
          ]
        },
        {
          "output_type": "stream",
          "name": "stdout",
          "text": [
            "[246]\tvalid-auc:0.79149\n"
          ]
        },
        {
          "output_type": "stream",
          "name": "stdout",
          "text": [
            "[XGB-B] c=08 fold 2: pos=19 neg=187 spw=9.84 best_iter=46 | 0.42s\n"
          ]
        },
        {
          "output_type": "stream",
          "name": "stdout",
          "text": [
            "[0]\tvalid-auc:0.86719\n"
          ]
        },
        {
          "output_type": "stream",
          "name": "stdout",
          "text": [
            "[250]\tvalid-auc:0.97396\n"
          ]
        },
        {
          "output_type": "stream",
          "name": "stdout",
          "text": [
            "[362]\tvalid-auc:0.97396\n"
          ]
        },
        {
          "output_type": "stream",
          "name": "stdout",
          "text": [
            "[XGB-B] c=08 fold 3: pos=20 neg=186 spw=9.30 best_iter=162 | 0.57s\n"
          ]
        },
        {
          "output_type": "stream",
          "name": "stdout",
          "text": [
            "[0]\tvalid-auc:0.78084\n"
          ]
        },
        {
          "output_type": "stream",
          "name": "stdout",
          "text": [
            "[250]\tvalid-auc:0.93182\n"
          ]
        },
        {
          "output_type": "stream",
          "name": "stdout",
          "text": [
            "[500]\tvalid-auc:0.96104\n"
          ]
        },
        {
          "output_type": "stream",
          "name": "stdout",
          "text": [
            "[694]\tvalid-auc:0.96104\n"
          ]
        },
        {
          "output_type": "stream",
          "name": "stdout",
          "text": [
            "[XGB-B] c=08 fold 4: pos=17 neg=190 spw=11.18 best_iter=495 | 0.71s\n"
          ]
        },
        {
          "output_type": "stream",
          "name": "stdout",
          "text": [
            "[0]\tvalid-auc:0.81522\n"
          ]
        },
        {
          "output_type": "stream",
          "name": "stdout",
          "text": [
            "[224]\tvalid-auc:0.80435\n"
          ]
        },
        {
          "output_type": "stream",
          "name": "stdout",
          "text": [
            "[XGB-B] c=08 fold 5: pos=19 neg=188 spw=9.89 best_iter=24 | 0.42s\n"
          ]
        },
        {
          "output_type": "stream",
          "name": "stdout",
          "text": [
            "[0]\tvalid-auc:0.75532\n"
          ]
        },
        {
          "output_type": "stream",
          "name": "stdout",
          "text": [
            "[202]\tvalid-auc:0.78298\n"
          ]
        },
        {
          "output_type": "stream",
          "name": "stdout",
          "text": [
            "[XGB-B] c=09 fold 1: pos=16 neg=190 spw=11.88 best_iter=2 | 0.44s\n"
          ]
        },
        {
          "output_type": "stream",
          "name": "stdout",
          "text": [
            "[0]\tvalid-auc:0.79000\n"
          ]
        },
        {
          "output_type": "stream",
          "name": "stdout",
          "text": [
            "[200]\tvalid-auc:0.50000\n"
          ]
        },
        {
          "output_type": "stream",
          "name": "stdout",
          "text": [
            "[XGB-B] c=09 fold 2: pos=19 neg=187 spw=9.84 best_iter=0 | 0.38s\n"
          ]
        },
        {
          "output_type": "stream",
          "name": "stdout",
          "text": [
            "[0]\tvalid-auc:0.60544\n"
          ]
        },
        {
          "output_type": "stream",
          "name": "stdout",
          "text": [
            "[250]\tvalid-auc:0.77891\n"
          ]
        },
        {
          "output_type": "stream",
          "name": "stdout",
          "text": [
            "[354]\tvalid-auc:0.76531\n"
          ]
        },
        {
          "output_type": "stream",
          "name": "stdout",
          "text": [
            "[XGB-B] c=09 fold 3: pos=18 neg=188 spw=10.44 best_iter=155 | 0.56s\n"
          ]
        },
        {
          "output_type": "stream",
          "name": "stdout",
          "text": [
            "[0]\tvalid-auc:0.55741\n"
          ]
        },
        {
          "output_type": "stream",
          "name": "stdout",
          "text": [
            "[217]\tvalid-auc:0.71852\n"
          ]
        },
        {
          "output_type": "stream",
          "name": "stdout",
          "text": [
            "[XGB-B] c=09 fold 4: pos=15 neg=192 spw=12.80 best_iter=17 | 0.43s\n"
          ]
        },
        {
          "output_type": "stream",
          "name": "stdout",
          "text": [
            "[0]\tvalid-auc:0.80000\n"
          ]
        },
        {
          "output_type": "stream",
          "name": "stdout",
          "text": [
            "[250]\tvalid-auc:0.91739\n"
          ]
        },
        {
          "output_type": "stream",
          "name": "stdout",
          "text": [
            "[420]\tvalid-auc:0.89565\n"
          ]
        },
        {
          "output_type": "stream",
          "name": "stdout",
          "text": [
            "[XGB-B] c=09 fold 5: pos=16 neg=191 spw=11.94 best_iter=221 | 0.49s\n"
          ]
        },
        {
          "output_type": "stream",
          "name": "stdout",
          "text": [
            "[0]\tvalid-auc:0.74548\n"
          ]
        },
        {
          "output_type": "stream",
          "name": "stdout",
          "text": [
            "[250]\tvalid-auc:0.93023\n"
          ]
        },
        {
          "output_type": "stream",
          "name": "stdout",
          "text": [
            "[309]\tvalid-auc:0.92506\n"
          ]
        },
        {
          "output_type": "stream",
          "name": "stdout",
          "text": [
            "[XGB-B] c=10 fold 1: pos=40 neg=166 spw=4.15 best_iter=110 | 0.45s\n"
          ]
        },
        {
          "output_type": "stream",
          "name": "stdout",
          "text": [
            "[0]\tvalid-auc:0.56331\n"
          ]
        },
        {
          "output_type": "stream",
          "name": "stdout",
          "text": [
            "[238]\tvalid-auc:0.88372\n"
          ]
        },
        {
          "output_type": "stream",
          "name": "stdout",
          "text": [
            "[XGB-B] c=10 fold 2: pos=40 neg=166 spw=4.15 best_iter=39 | 0.39s\n"
          ]
        },
        {
          "output_type": "stream",
          "name": "stdout",
          "text": [
            "[0]\tvalid-auc:0.76667\n"
          ]
        },
        {
          "output_type": "stream",
          "name": "stdout",
          "text": [
            "[250]\tvalid-auc:0.95873\n"
          ]
        },
        {
          "output_type": "stream",
          "name": "stdout",
          "text": [
            "[500]\tvalid-auc:0.96508\n"
          ]
        },
        {
          "output_type": "stream",
          "name": "stdout",
          "text": [
            "[626]\tvalid-auc:0.96825\n"
          ]
        },
        {
          "output_type": "stream",
          "name": "stdout",
          "text": [
            "[XGB-B] c=10 fold 3: pos=42 neg=164 spw=3.90 best_iter=426 | 0.63s\n"
          ]
        },
        {
          "output_type": "stream",
          "name": "stdout",
          "text": [
            "[0]\tvalid-auc:0.77685\n"
          ]
        },
        {
          "output_type": "stream",
          "name": "stdout",
          "text": [
            "[235]\tvalid-auc:0.82222\n"
          ]
        },
        {
          "output_type": "stream",
          "name": "stdout",
          "text": [
            "[XGB-B] c=10 fold 4: pos=34 neg=173 spw=5.09 best_iter=35 | 0.43s\n"
          ]
        },
        {
          "output_type": "stream",
          "name": "stdout",
          "text": [
            "[0]\tvalid-auc:0.59524\n"
          ]
        },
        {
          "output_type": "stream",
          "name": "stdout",
          "text": [
            "[250]\tvalid-auc:0.75661\n"
          ]
        },
        {
          "output_type": "stream",
          "name": "stdout",
          "text": [
            "[289]\tvalid-auc:0.75132\n"
          ]
        },
        {
          "output_type": "stream",
          "name": "stdout",
          "text": [
            "[XGB-B] c=10 fold 5: pos=40 neg=167 spw=4.17 best_iter=89 | 0.45s\n"
          ]
        },
        {
          "output_type": "stream",
          "name": "stdout",
          "text": [
            "[0]\tvalid-auc:1.00000\n"
          ]
        },
        {
          "output_type": "stream",
          "name": "stdout",
          "text": [
            "[200]\tvalid-auc:1.00000\n"
          ]
        },
        {
          "output_type": "stream",
          "name": "stdout",
          "text": [
            "[XGB-B] c=11 fold 1: pos=9 neg=197 spw=21.89 best_iter=0 | 0.39s\n"
          ]
        },
        {
          "output_type": "stream",
          "name": "stdout",
          "text": [
            "[0]\tvalid-auc:0.97059\n"
          ]
        },
        {
          "output_type": "stream",
          "name": "stdout",
          "text": [
            "[202]\tvalid-auc:0.96078\n"
          ]
        },
        {
          "output_type": "stream",
          "name": "stdout",
          "text": [
            "[XGB-B] c=11 fold 2: pos=9 neg=197 spw=21.89 best_iter=3 | 0.37s\n"
          ]
        },
        {
          "output_type": "stream",
          "name": "stdout",
          "text": [
            "[0]\tvalid-auc:0.80208\n"
          ]
        },
        {
          "output_type": "stream",
          "name": "stdout",
          "text": [
            "[250]\tvalid-auc:0.75521\n"
          ]
        },
        {
          "output_type": "stream",
          "name": "stdout",
          "text": [
            "[348]\tvalid-auc:0.76042\n"
          ]
        },
        {
          "output_type": "stream",
          "name": "stdout",
          "text": [
            "[XGB-B] c=11 fold 3: pos=6 neg=200 spw=33.33 best_iter=149 | 0.47s\n"
          ]
        },
        {
          "output_type": "stream",
          "name": "stdout",
          "text": [
            "[0]\tvalid-auc:0.88265\n"
          ]
        },
        {
          "output_type": "stream",
          "name": "stdout",
          "text": [
            "[211]\tvalid-auc:0.93878\n"
          ]
        },
        {
          "output_type": "stream",
          "name": "stdout",
          "text": [
            "[XGB-B] c=11 fold 4: pos=8 neg=199 spw=24.88 best_iter=12 | 0.42s\n"
          ]
        },
        {
          "output_type": "stream",
          "name": "stdout",
          "text": [
            "[0]\tvalid-auc:0.83673\n"
          ]
        },
        {
          "output_type": "stream",
          "name": "stdout",
          "text": [
            "[250]\tvalid-auc:0.94898\n"
          ]
        },
        {
          "output_type": "stream",
          "name": "stdout",
          "text": [
            "[500]\tvalid-auc:0.97959\n"
          ]
        },
        {
          "output_type": "stream",
          "name": "stdout",
          "text": [
            "[604]\tvalid-auc:0.97959\n"
          ]
        },
        {
          "output_type": "stream",
          "name": "stdout",
          "text": [
            "[XGB-B] c=11 fold 5: pos=8 neg=199 spw=24.88 best_iter=405 | 0.60s\n"
          ]
        },
        {
          "output_type": "stream",
          "name": "stdout",
          "text": [
            "[0]\tvalid-auc:0.89000\n"
          ]
        },
        {
          "output_type": "stream",
          "name": "stdout",
          "text": [
            "[199]\tvalid-auc:0.78000\n"
          ]
        },
        {
          "output_type": "stream",
          "name": "stdout",
          "text": [
            "[XGB-B] c=12 fold 1: pos=10 neg=196 spw=19.60 best_iter=0 | 0.50s\n"
          ]
        },
        {
          "output_type": "stream",
          "name": "stdout",
          "text": [
            "[XGB-B] c=12 fold 2: degenerate -> const 0.0465 | 0.13s\n"
          ]
        },
        {
          "output_type": "stream",
          "name": "stdout",
          "text": [
            "[XGB-B] c=12 fold 3: degenerate -> const 0.0465 | 0.18s\n"
          ]
        },
        {
          "output_type": "stream",
          "name": "stdout",
          "text": [
            "[0]\tvalid-auc:0.89931\n"
          ]
        },
        {
          "output_type": "stream",
          "name": "stdout",
          "text": [
            "[210]\tvalid-auc:0.91667\n"
          ]
        },
        {
          "output_type": "stream",
          "name": "stdout",
          "text": [
            "[XGB-B] c=12 fold 4: pos=9 neg=198 spw=22.00 best_iter=11 | 0.48s\n"
          ]
        },
        {
          "output_type": "stream",
          "name": "stdout",
          "text": [
            "[0]\tvalid-auc:0.61364\n"
          ]
        },
        {
          "output_type": "stream",
          "name": "stdout",
          "text": [
            "[201]\tvalid-auc:0.78571\n"
          ]
        },
        {
          "output_type": "stream",
          "name": "stdout",
          "text": [
            "[XGB-B] c=12 fold 5: pos=5 neg=202 spw=40.40 best_iter=2 | 0.43s\n"
          ]
        },
        {
          "output_type": "stream",
          "name": "stdout",
          "text": [
            "[0]\tvalid-auc:0.50000\n"
          ]
        },
        {
          "output_type": "stream",
          "name": "stdout",
          "text": [
            "[210]\tvalid-auc:0.70000\n"
          ]
        },
        {
          "output_type": "stream",
          "name": "stdout",
          "text": [
            "[XGB-B] c=13 fold 1: pos=2 neg=204 spw=102.00 best_iter=10 | 0.35s\n"
          ]
        },
        {
          "output_type": "stream",
          "name": "stdout",
          "text": [
            "[XGB-B] c=13 fold 2: degenerate -> const 0.0155 | 0.14s\n"
          ]
        },
        {
          "output_type": "stream",
          "name": "stdout",
          "text": [
            "[0]\tvalid-auc:1.00000\n"
          ]
        },
        {
          "output_type": "stream",
          "name": "stdout",
          "text": [
            "[199]\tvalid-auc:1.00000\n"
          ]
        },
        {
          "output_type": "stream",
          "name": "stdout",
          "text": [
            "[XGB-B] c=13 fold 3: pos=3 neg=203 spw=67.67 best_iter=0 | 0.41s\n"
          ]
        },
        {
          "output_type": "stream",
          "name": "stdout",
          "text": [
            "[0]\tvalid-auc:0.50000\n"
          ]
        },
        {
          "output_type": "stream",
          "name": "stdout",
          "text": [
            "[200]\tvalid-auc:1.00000\n"
          ]
        },
        {
          "output_type": "stream",
          "name": "stdout",
          "text": [
            "[XGB-B] c=13 fold 4: pos=3 neg=204 spw=68.00 best_iter=1 | 0.42s\n"
          ]
        },
        {
          "output_type": "stream",
          "name": "stdout",
          "text": [
            "[XGB-B] c=13 fold 5: degenerate -> const 0.0155 | 0.18s\n"
          ]
        },
        {
          "output_type": "stream",
          "name": "stdout",
          "text": [
            "[0]\tvalid-auc:0.91837\n"
          ]
        },
        {
          "output_type": "stream",
          "name": "stdout",
          "text": [
            "[230]\tvalid-auc:0.95238\n"
          ]
        },
        {
          "output_type": "stream",
          "name": "stdout",
          "text": [
            "[XGB-B] c=14 fold 1: pos=13 neg=193 spw=14.85 best_iter=30 | 0.55s\n"
          ]
        },
        {
          "output_type": "stream",
          "name": "stdout",
          "text": [
            "[0]\tvalid-auc:0.66500\n"
          ]
        },
        {
          "output_type": "stream",
          "name": "stdout",
          "text": [
            "[221]\tvalid-auc:0.95000\n"
          ]
        },
        {
          "output_type": "stream",
          "name": "stdout",
          "text": [
            "[XGB-B] c=14 fold 2: pos=14 neg=192 spw=13.71 best_iter=22 | 0.38s\n"
          ]
        },
        {
          "output_type": "stream",
          "name": "stdout",
          "text": [
            "[0]\tvalid-auc:0.75521\n"
          ]
        },
        {
          "output_type": "stream",
          "name": "stdout",
          "text": [
            "[215]\tvalid-auc:0.78906\n"
          ]
        },
        {
          "output_type": "stream",
          "name": "stdout",
          "text": [
            "[XGB-B] c=14 fold 3: pos=12 neg=194 spw=16.17 best_iter=15 | 0.38s\n"
          ]
        },
        {
          "output_type": "stream",
          "name": "stdout",
          "text": [
            "[0]\tvalid-auc:0.88032\n"
          ]
        },
        {
          "output_type": "stream",
          "name": "stdout",
          "text": [
            "[250]\tvalid-auc:0.92021\n"
          ]
        },
        {
          "output_type": "stream",
          "name": "stdout",
          "text": [
            "[486]\tvalid-auc:0.93085\n"
          ]
        },
        {
          "output_type": "stream",
          "name": "stdout",
          "text": [
            "[XGB-B] c=14 fold 4: pos=12 neg=195 spw=16.25 best_iter=286 | 0.54s\n"
          ]
        },
        {
          "output_type": "stream",
          "name": "stdout",
          "text": [
            "[0]\tvalid-auc:0.57639\n"
          ]
        },
        {
          "output_type": "stream",
          "name": "stdout",
          "text": [
            "[250]\tvalid-auc:0.81944\n"
          ]
        },
        {
          "output_type": "stream",
          "name": "stdout",
          "text": [
            "[400]\tvalid-auc:0.81944\n"
          ]
        },
        {
          "output_type": "stream",
          "name": "stdout",
          "text": [
            "[XGB-B] c=14 fold 5: pos=13 neg=194 spw=14.92 best_iter=201 | 0.49s\n"
          ]
        },
        {
          "output_type": "stream",
          "name": "stdout",
          "text": [
            "[0]\tvalid-auc:0.42157\n"
          ]
        },
        {
          "output_type": "stream",
          "name": "stdout",
          "text": [
            "[228]\tvalid-auc:0.88235\n"
          ]
        },
        {
          "output_type": "stream",
          "name": "stdout",
          "text": [
            "[XGB-B] c=15 fold 1: pos=5 neg=201 spw=40.20 best_iter=29 | 0.57s\n"
          ]
        },
        {
          "output_type": "stream",
          "name": "stdout",
          "text": [
            "[0]\tvalid-auc:0.71500\n"
          ]
        },
        {
          "output_type": "stream",
          "name": "stdout",
          "text": [
            "[250]\tvalid-auc:0.89000\n"
          ]
        },
        {
          "output_type": "stream",
          "name": "stdout",
          "text": [
            "[447]\tvalid-auc:0.88000\n"
          ]
        },
        {
          "output_type": "stream",
          "name": "stdout",
          "text": [
            "[XGB-B] c=15 fold 2: pos=4 neg=202 spw=50.50 best_iter=248 | 0.50s\n"
          ]
        },
        {
          "output_type": "stream",
          "name": "stdout",
          "text": [
            "[0]\tvalid-auc:0.42157\n"
          ]
        },
        {
          "output_type": "stream",
          "name": "stdout",
          "text": [
            "[218]\tvalid-auc:0.98039\n"
          ]
        },
        {
          "output_type": "stream",
          "name": "stdout",
          "text": [
            "[XGB-B] c=15 fold 3: pos=5 neg=201 spw=40.20 best_iter=18 | 0.37s\n"
          ]
        },
        {
          "output_type": "stream",
          "name": "stdout",
          "text": [
            "[0]\tvalid-auc:0.91000\n"
          ]
        },
        {
          "output_type": "stream",
          "name": "stdout",
          "text": [
            "[199]\tvalid-auc:0.86000\n"
          ]
        },
        {
          "output_type": "stream",
          "name": "stdout",
          "text": [
            "[XGB-B] c=15 fold 4: pos=5 neg=202 spw=40.40 best_iter=0 | 0.35s\n"
          ]
        },
        {
          "output_type": "stream",
          "name": "stdout",
          "text": [
            "[0]\tvalid-auc:0.45000\n"
          ]
        },
        {
          "output_type": "stream",
          "name": "stdout",
          "text": [
            "[202]\tvalid-auc:0.94000\n"
          ]
        },
        {
          "output_type": "stream",
          "name": "stdout",
          "text": [
            "[XGB-B] c=15 fold 5: pos=5 neg=202 spw=40.40 best_iter=3 | 0.36s\n"
          ]
        },
        {
          "output_type": "stream",
          "name": "stdout",
          "text": [
            "[0]\tvalid-auc:0.50000\n"
          ]
        },
        {
          "output_type": "stream",
          "name": "stdout",
          "text": [
            "[200]\tvalid-auc:0.47059\n"
          ]
        },
        {
          "output_type": "stream",
          "name": "stdout",
          "text": [
            "[XGB-B] c=16 fold 1: pos=1 neg=205 spw=205.00 best_iter=0 | 0.38s\n"
          ]
        },
        {
          "output_type": "stream",
          "name": "stdout",
          "text": [
            "[XGB-B] c=16 fold 2: degenerate -> const 0.0078 | 0.20s\n"
          ]
        },
        {
          "output_type": "stream",
          "name": "stdout",
          "text": [
            "[XGB-B] c=16 fold 3: degenerate -> const 0.0078 | 0.21s\n"
          ]
        },
        {
          "output_type": "stream",
          "name": "stdout",
          "text": [
            "[0]\tvalid-auc:0.50000\n"
          ]
        },
        {
          "output_type": "stream",
          "name": "stdout",
          "text": [
            "[199]\tvalid-auc:0.41000\n"
          ]
        },
        {
          "output_type": "stream",
          "name": "stdout",
          "text": [
            "[XGB-B] c=16 fold 4: pos=1 neg=206 spw=206.00 best_iter=0 | 0.41s\n"
          ]
        },
        {
          "output_type": "stream",
          "name": "stdout",
          "text": [
            "[XGB-B] c=16 fold 5: degenerate -> const 0.0078 | 0.18s\n"
          ]
        },
        {
          "output_type": "stream",
          "name": "stdout",
          "text": [
            "[0]\tvalid-auc:0.42157\n"
          ]
        },
        {
          "output_type": "stream",
          "name": "stdout",
          "text": [
            "[206]\tvalid-auc:0.69608\n"
          ]
        },
        {
          "output_type": "stream",
          "name": "stdout",
          "text": [
            "[XGB-B] c=17 fold 1: pos=3 neg=203 spw=67.67 best_iter=6 | 0.41s\n"
          ]
        },
        {
          "output_type": "stream",
          "name": "stdout",
          "text": [
            "[XGB-B] c=17 fold 2: degenerate -> const 0.0155 | 0.14s\n"
          ]
        },
        {
          "output_type": "stream",
          "name": "stdout",
          "text": [
            "[XGB-B] c=17 fold 3: degenerate -> const 0.0155 | 0.21s\n"
          ]
        },
        {
          "output_type": "stream",
          "name": "stdout",
          "text": [
            "[0]\tvalid-auc:0.96000\n"
          ]
        },
        {
          "output_type": "stream",
          "name": "stdout",
          "text": [
            "[201]\tvalid-auc:0.96000\n"
          ]
        },
        {
          "output_type": "stream",
          "name": "stdout",
          "text": [
            "[XGB-B] c=17 fold 4: pos=3 neg=204 spw=68.00 best_iter=1 | 0.49s\n"
          ]
        },
        {
          "output_type": "stream",
          "name": "stdout",
          "text": [
            "[0]\tvalid-auc:0.94898\n"
          ]
        },
        {
          "output_type": "stream",
          "name": "stdout",
          "text": [
            "[199]\tvalid-auc:0.89796\n"
          ]
        },
        {
          "output_type": "stream",
          "name": "stdout",
          "text": [
            "[XGB-B] c=17 fold 5: pos=2 neg=205 spw=102.50 best_iter=0 | 0.36s\n"
          ]
        },
        {
          "output_type": "stream",
          "name": "stdout",
          "text": [
            "[0]\tvalid-auc:0.82552\n"
          ]
        },
        {
          "output_type": "stream",
          "name": "stdout",
          "text": [
            "[250]\tvalid-auc:0.98438\n"
          ]
        },
        {
          "output_type": "stream",
          "name": "stdout",
          "text": [
            "[428]\tvalid-auc:0.98958\n"
          ]
        },
        {
          "output_type": "stream",
          "name": "stdout",
          "text": [
            "[XGB-B] c=18 fold 1: pos=8 neg=198 spw=24.75 best_iter=229 | 0.51s\n"
          ]
        },
        {
          "output_type": "stream",
          "name": "stdout",
          "text": [
            "[0]\tvalid-auc:0.97917\n"
          ]
        },
        {
          "output_type": "stream",
          "name": "stdout",
          "text": [
            "[218]\tvalid-auc:0.98438\n"
          ]
        },
        {
          "output_type": "stream",
          "name": "stdout",
          "text": [
            "[XGB-B] c=18 fold 2: pos=8 neg=198 spw=24.75 best_iter=18 | 0.37s\n"
          ]
        },
        {
          "output_type": "stream",
          "name": "stdout",
          "text": [
            "[0]\tvalid-auc:0.48039\n"
          ]
        },
        {
          "output_type": "stream",
          "name": "stdout",
          "text": [
            "[250]\tvalid-auc:0.70588\n"
          ]
        },
        {
          "output_type": "stream",
          "name": "stdout",
          "text": [
            "[282]\tvalid-auc:0.70588\n"
          ]
        },
        {
          "output_type": "stream",
          "name": "stdout",
          "text": [
            "[XGB-B] c=18 fold 3: pos=11 neg=195 spw=17.73 best_iter=82 | 0.44s\n"
          ]
        },
        {
          "output_type": "stream",
          "name": "stdout",
          "text": [
            "[0]\tvalid-auc:0.97959\n"
          ]
        },
        {
          "output_type": "stream",
          "name": "stdout",
          "text": [
            "[206]\tvalid-auc:0.97959\n"
          ]
        },
        {
          "output_type": "stream",
          "name": "stdout",
          "text": [
            "[XGB-B] c=18 fold 4: pos=10 neg=197 spw=19.70 best_iter=6 | 0.45s\n"
          ]
        },
        {
          "output_type": "stream",
          "name": "stdout",
          "text": [
            "[0]\tvalid-auc:0.42000\n"
          ]
        },
        {
          "output_type": "stream",
          "name": "stdout",
          "text": [
            "[250]\tvalid-auc:0.90000\n"
          ]
        },
        {
          "output_type": "stream",
          "name": "stdout",
          "text": [
            "[XGB-B] c=18 fold 5: pos=11 neg=196 spw=17.82 best_iter=51 | 0.48s\n"
          ]
        },
        {
          "output_type": "stream",
          "name": "stdout",
          "text": [
            "== XGB-B Seed 2025 (3/3) ==\n"
          ]
        },
        {
          "output_type": "stream",
          "name": "stdout",
          "text": [
            "[0]\tvalid-auc:0.99020\n"
          ]
        },
        {
          "output_type": "stream",
          "name": "stdout",
          "text": [
            "[199]\tvalid-auc:0.98039\n"
          ]
        },
        {
          "output_type": "stream",
          "name": "stdout",
          "text": [
            "[XGB-B] c=00 fold 1: pos=6 neg=200 spw=33.33 best_iter=0 | 0.42s\n"
          ]
        },
        {
          "output_type": "stream",
          "name": "stdout",
          "text": [
            "[0]\tvalid-auc:0.47059\n"
          ]
        },
        {
          "output_type": "stream",
          "name": "stdout",
          "text": [
            "[210]\tvalid-auc:0.96078\n"
          ]
        },
        {
          "output_type": "stream",
          "name": "stdout",
          "text": [
            "[XGB-B] c=00 fold 2: pos=6 neg=200 spw=33.33 best_iter=11 | 0.45s\n"
          ]
        },
        {
          "output_type": "stream",
          "name": "stdout",
          "text": [
            "[0]\tvalid-auc:0.99500\n"
          ]
        },
        {
          "output_type": "stream",
          "name": "stdout",
          "text": [
            "[249]\tvalid-auc:0.97000\n"
          ]
        },
        {
          "output_type": "stream",
          "name": "stdout",
          "text": [
            "[XGB-B] c=00 fold 3: pos=5 neg=201 spw=40.20 best_iter=50 | 0.44s\n"
          ]
        },
        {
          "output_type": "stream",
          "name": "stdout",
          "text": [
            "[0]\tvalid-auc:0.98980\n"
          ]
        },
        {
          "output_type": "stream",
          "name": "stdout",
          "text": [
            "[201]\tvalid-auc:1.00000\n"
          ]
        },
        {
          "output_type": "stream",
          "name": "stdout",
          "text": [
            "[XGB-B] c=00 fold 4: pos=5 neg=202 spw=40.40 best_iter=2 | 0.42s\n"
          ]
        },
        {
          "output_type": "stream",
          "name": "stdout",
          "text": [
            "[0]\tvalid-auc:0.49000\n"
          ]
        },
        {
          "output_type": "stream",
          "name": "stdout",
          "text": [
            "[204]\tvalid-auc:0.98000\n"
          ]
        },
        {
          "output_type": "stream",
          "name": "stdout",
          "text": [
            "[XGB-B] c=00 fold 5: pos=6 neg=201 spw=33.50 best_iter=5 | 0.37s\n"
          ]
        },
        {
          "output_type": "stream",
          "name": "stdout",
          "text": [
            "[0]\tvalid-auc:0.87468\n"
          ]
        },
        {
          "output_type": "stream",
          "name": "stdout",
          "text": [
            "[250]\tvalid-auc:0.88630\n"
          ]
        },
        {
          "output_type": "stream",
          "name": "stdout",
          "text": [
            "[258]\tvalid-auc:0.88630\n"
          ]
        },
        {
          "output_type": "stream",
          "name": "stdout",
          "text": [
            "[XGB-B] c=01 fold 1: pos=19 neg=187 spw=9.84 best_iter=59 | 0.40s\n"
          ]
        },
        {
          "output_type": "stream",
          "name": "stdout",
          "text": [
            "[0]\tvalid-auc:0.99479\n"
          ]
        },
        {
          "output_type": "stream",
          "name": "stdout",
          "text": [
            "[201]\tvalid-auc:1.00000\n"
          ]
        },
        {
          "output_type": "stream",
          "name": "stdout",
          "text": [
            "[XGB-B] c=01 fold 2: pos=24 neg=182 spw=7.58 best_iter=1 | 0.41s\n"
          ]
        },
        {
          "output_type": "stream",
          "name": "stdout",
          "text": [
            "[0]\tvalid-auc:0.79948\n"
          ]
        },
        {
          "output_type": "stream",
          "name": "stdout",
          "text": [
            "[250]\tvalid-auc:0.91146\n"
          ]
        },
        {
          "output_type": "stream",
          "name": "stdout",
          "text": [
            "[351]\tvalid-auc:0.92188\n"
          ]
        },
        {
          "output_type": "stream",
          "name": "stdout",
          "text": [
            "[XGB-B] c=01 fold 3: pos=24 neg=182 spw=7.58 best_iter=151 | 0.49s\n"
          ]
        },
        {
          "output_type": "stream",
          "name": "stdout",
          "text": [
            "[0]\tvalid-auc:0.98148\n"
          ]
        },
        {
          "output_type": "stream",
          "name": "stdout",
          "text": [
            "[250]\tvalid-auc:1.00000\n"
          ]
        },
        {
          "output_type": "stream",
          "name": "stdout",
          "text": [
            "[268]\tvalid-auc:1.00000\n"
          ]
        },
        {
          "output_type": "stream",
          "name": "stdout",
          "text": [
            "[XGB-B] c=01 fold 4: pos=22 neg=185 spw=8.41 best_iter=68 | 0.48s\n"
          ]
        },
        {
          "output_type": "stream",
          "name": "stdout",
          "text": [
            "[0]\tvalid-auc:0.89783\n"
          ]
        },
        {
          "output_type": "stream",
          "name": "stdout",
          "text": [
            "[203]\tvalid-auc:0.88261\n"
          ]
        },
        {
          "output_type": "stream",
          "name": "stdout",
          "text": [
            "[XGB-B] c=01 fold 5: pos=23 neg=184 spw=8.00 best_iter=4 | 0.42s\n"
          ]
        },
        {
          "output_type": "stream",
          "name": "stdout",
          "text": [
            "[0]\tvalid-auc:0.68707\n"
          ]
        },
        {
          "output_type": "stream",
          "name": "stdout",
          "text": [
            "[207]\tvalid-auc:0.89116\n"
          ]
        },
        {
          "output_type": "stream",
          "name": "stdout",
          "text": [
            "[XGB-B] c=02 fold 1: pos=16 neg=190 spw=11.88 best_iter=7 | 0.40s\n"
          ]
        },
        {
          "output_type": "stream",
          "name": "stdout",
          "text": [
            "[0]\tvalid-auc:0.55469\n"
          ]
        },
        {
          "output_type": "stream",
          "name": "stdout",
          "text": [
            "[250]\tvalid-auc:0.68490\n"
          ]
        },
        {
          "output_type": "stream",
          "name": "stdout",
          "text": [
            "[276]\tvalid-auc:0.68490\n"
          ]
        },
        {
          "output_type": "stream",
          "name": "stdout",
          "text": [
            "[XGB-B] c=02 fold 2: pos=15 neg=191 spw=12.73 best_iter=77 | 0.43s\n"
          ]
        },
        {
          "output_type": "stream",
          "name": "stdout",
          "text": [
            "[0]\tvalid-auc:0.27551\n"
          ]
        },
        {
          "output_type": "stream",
          "name": "stdout",
          "text": [
            "[250]\tvalid-auc:0.87755\n"
          ]
        },
        {
          "output_type": "stream",
          "name": "stdout",
          "text": [
            "[500]\tvalid-auc:0.90476\n"
          ]
        },
        {
          "output_type": "stream",
          "name": "stdout",
          "text": [
            "[699]\tvalid-auc:0.90476\n"
          ]
        },
        {
          "output_type": "stream",
          "name": "stdout",
          "text": [
            "[XGB-B] c=02 fold 3: pos=16 neg=190 spw=11.88 best_iter=500 | 0.74s\n"
          ]
        },
        {
          "output_type": "stream",
          "name": "stdout",
          "text": [
            "[0]\tvalid-auc:0.66223\n"
          ]
        },
        {
          "output_type": "stream",
          "name": "stdout",
          "text": [
            "[250]\tvalid-auc:0.86702\n"
          ]
        },
        {
          "output_type": "stream",
          "name": "stdout",
          "text": [
            "[500]\tvalid-auc:0.87234\n"
          ]
        },
        {
          "output_type": "stream",
          "name": "stdout",
          "text": [
            "[563]\tvalid-auc:0.86702\n"
          ]
        },
        {
          "output_type": "stream",
          "name": "stdout",
          "text": [
            "[XGB-B] c=02 fold 4: pos=15 neg=192 spw=12.80 best_iter=363 | 0.74s\n"
          ]
        },
        {
          "output_type": "stream",
          "name": "stdout",
          "text": [
            "[0]\tvalid-auc:0.58478\n"
          ]
        },
        {
          "output_type": "stream",
          "name": "stdout",
          "text": [
            "[203]\tvalid-auc:0.95652\n"
          ]
        },
        {
          "output_type": "stream",
          "name": "stdout",
          "text": [
            "[XGB-B] c=02 fold 5: pos=14 neg=193 spw=13.79 best_iter=3 | 0.53s\n"
          ]
        },
        {
          "output_type": "stream",
          "name": "stdout",
          "text": [
            "[XGB-B] c=03 fold 1: degenerate -> const 0.0155 | 0.21s\n"
          ]
        },
        {
          "output_type": "stream",
          "name": "stdout",
          "text": [
            "[0]\tvalid-auc:0.49000\n"
          ]
        },
        {
          "output_type": "stream",
          "name": "stdout",
          "text": [
            "[204]\tvalid-auc:0.98000\n"
          ]
        },
        {
          "output_type": "stream",
          "name": "stdout",
          "text": [
            "[XGB-B] c=03 fold 2: pos=2 neg=204 spw=102.00 best_iter=5 | 0.48s\n"
          ]
        },
        {
          "output_type": "stream",
          "name": "stdout",
          "text": [
            "[XGB-B] c=03 fold 3: degenerate -> const 0.0155 | 0.18s\n"
          ]
        },
        {
          "output_type": "stream",
          "name": "stdout",
          "text": [
            "[0]\tvalid-auc:0.97000\n"
          ]
        },
        {
          "output_type": "stream",
          "name": "stdout",
          "text": [
            "[201]\tvalid-auc:1.00000\n"
          ]
        },
        {
          "output_type": "stream",
          "name": "stdout",
          "text": [
            "[XGB-B] c=03 fold 4: pos=3 neg=204 spw=68.00 best_iter=1 | 0.52s\n"
          ]
        },
        {
          "output_type": "stream",
          "name": "stdout",
          "text": [
            "[0]\tvalid-auc:0.88000\n"
          ]
        },
        {
          "output_type": "stream",
          "name": "stdout",
          "text": [
            "[212]\tvalid-auc:0.86000\n"
          ]
        },
        {
          "output_type": "stream",
          "name": "stdout",
          "text": [
            "[XGB-B] c=03 fold 5: pos=3 neg=204 spw=68.00 best_iter=12 | 0.37s\n"
          ]
        },
        {
          "output_type": "stream",
          "name": "stdout",
          "text": [
            "[XGB-B] c=04 fold 1: degenerate -> const 0.0349 | 0.14s\n"
          ]
        },
        {
          "output_type": "stream",
          "name": "stdout",
          "text": [
            "[0]\tvalid-auc:0.78431\n"
          ]
        },
        {
          "output_type": "stream",
          "name": "stdout",
          "text": [
            "[203]\tvalid-auc:1.00000\n"
          ]
        },
        {
          "output_type": "stream",
          "name": "stdout",
          "text": [
            "[XGB-B] c=04 fold 2: pos=8 neg=198 spw=24.75 best_iter=3 | 0.48s\n"
          ]
        },
        {
          "output_type": "stream",
          "name": "stdout",
          "text": [
            "[0]\tvalid-auc:0.81373\n"
          ]
        },
        {
          "output_type": "stream",
          "name": "stdout",
          "text": [
            "[250]\tvalid-auc:0.86275\n"
          ]
        },
        {
          "output_type": "stream",
          "name": "stdout",
          "text": [
            "[500]\tvalid-auc:0.90196\n"
          ]
        },
        {
          "output_type": "stream",
          "name": "stdout",
          "text": [
            "[563]\tvalid-auc:0.90196\n"
          ]
        },
        {
          "output_type": "stream",
          "name": "stdout",
          "text": [
            "[XGB-B] c=04 fold 3: pos=8 neg=198 spw=24.75 best_iter=364 | 0.60s\n"
          ]
        },
        {
          "output_type": "stream",
          "name": "stdout",
          "text": [
            "[0]\tvalid-auc:0.44565\n"
          ]
        },
        {
          "output_type": "stream",
          "name": "stdout",
          "text": [
            "[250]\tvalid-auc:0.83478\n"
          ]
        },
        {
          "output_type": "stream",
          "name": "stdout",
          "text": [
            "[274]\tvalid-auc:0.83913\n"
          ]
        },
        {
          "output_type": "stream",
          "name": "stdout",
          "text": [
            "[XGB-B] c=04 fold 4: pos=4 neg=203 spw=50.75 best_iter=75 | 0.39s\n"
          ]
        },
        {
          "output_type": "stream",
          "name": "stdout",
          "text": [
            "[0]\tvalid-auc:1.00000\n"
          ]
        },
        {
          "output_type": "stream",
          "name": "stdout",
          "text": [
            "[200]\tvalid-auc:0.93878\n"
          ]
        },
        {
          "output_type": "stream",
          "name": "stdout",
          "text": [
            "[XGB-B] c=04 fold 5: pos=7 neg=200 spw=28.57 best_iter=0 | 0.37s\n"
          ]
        },
        {
          "output_type": "stream",
          "name": "stdout",
          "text": [
            "[0]\tvalid-auc:0.45098\n"
          ]
        },
        {
          "output_type": "stream",
          "name": "stdout",
          "text": [
            "[250]\tvalid-auc:0.78431\n"
          ]
        },
        {
          "output_type": "stream",
          "name": "stdout",
          "text": [
            "[284]\tvalid-auc:0.78431\n"
          ]
        },
        {
          "output_type": "stream",
          "name": "stdout",
          "text": [
            "[XGB-B] c=05 fold 1: pos=4 neg=202 spw=50.50 best_iter=84 | 0.45s\n"
          ]
        },
        {
          "output_type": "stream",
          "name": "stdout",
          "text": [
            "[XGB-B] c=05 fold 2: degenerate -> const 0.0194 | 0.14s\n"
          ]
        },
        {
          "output_type": "stream",
          "name": "stdout",
          "text": [
            "[0]\tvalid-auc:0.41837\n"
          ]
        },
        {
          "output_type": "stream",
          "name": "stdout",
          "text": [
            "[208]\tvalid-auc:0.74490\n"
          ]
        },
        {
          "output_type": "stream",
          "name": "stdout",
          "text": [
            "[XGB-B] c=05 fold 3: pos=2 neg=204 spw=102.00 best_iter=9 | 0.48s\n"
          ]
        },
        {
          "output_type": "stream",
          "name": "stdout",
          "text": [
            "[XGB-B] c=05 fold 4: degenerate -> const 0.0194 | 0.13s\n"
          ]
        },
        {
          "output_type": "stream",
          "name": "stdout",
          "text": [
            "[0]\tvalid-auc:0.44000\n"
          ]
        },
        {
          "output_type": "stream",
          "name": "stdout",
          "text": [
            "[204]\tvalid-auc:0.82000\n"
          ]
        },
        {
          "output_type": "stream",
          "name": "stdout",
          "text": [
            "[XGB-B] c=05 fold 5: pos=4 neg=203 spw=50.75 best_iter=4 | 0.48s\n"
          ]
        },
        {
          "output_type": "stream",
          "name": "stdout",
          "text": [
            "[0]\tvalid-auc:0.53741\n"
          ]
        },
        {
          "output_type": "stream",
          "name": "stdout",
          "text": [
            "[250]\tvalid-auc:0.56463\n"
          ]
        },
        {
          "output_type": "stream",
          "name": "stdout",
          "text": [
            "[381]\tvalid-auc:0.59184\n"
          ]
        },
        {
          "output_type": "stream",
          "name": "stdout",
          "text": [
            "[XGB-B] c=06 fold 1: pos=16 neg=190 spw=11.88 best_iter=181 | 0.46s\n"
          ]
        },
        {
          "output_type": "stream",
          "name": "stdout",
          "text": [
            "[0]\tvalid-auc:0.68723\n"
          ]
        },
        {
          "output_type": "stream",
          "name": "stdout",
          "text": [
            "[250]\tvalid-auc:0.76383\n"
          ]
        },
        {
          "output_type": "stream",
          "name": "stdout",
          "text": [
            "[433]\tvalid-auc:0.71277\n"
          ]
        },
        {
          "output_type": "stream",
          "name": "stdout",
          "text": [
            "[XGB-B] c=06 fold 2: pos=14 neg=192 spw=13.71 best_iter=233 | 0.51s\n"
          ]
        },
        {
          "output_type": "stream",
          "name": "stdout",
          "text": [
            "[0]\tvalid-auc:0.76170\n"
          ]
        },
        {
          "output_type": "stream",
          "name": "stdout",
          "text": [
            "[201]\tvalid-auc:0.87660\n"
          ]
        },
        {
          "output_type": "stream",
          "name": "stdout",
          "text": [
            "[XGB-B] c=06 fold 3: pos=14 neg=192 spw=13.71 best_iter=2 | 0.43s\n"
          ]
        },
        {
          "output_type": "stream",
          "name": "stdout",
          "text": [
            "[0]\tvalid-auc:0.69792\n"
          ]
        },
        {
          "output_type": "stream",
          "name": "stdout",
          "text": [
            "[250]\tvalid-auc:0.94444\n"
          ]
        },
        {
          "output_type": "stream",
          "name": "stdout",
          "text": [
            "[406]\tvalid-auc:0.91667\n"
          ]
        },
        {
          "output_type": "stream",
          "name": "stdout",
          "text": [
            "[XGB-B] c=06 fold 4: pos=16 neg=191 spw=11.94 best_iter=206 | 0.48s\n"
          ]
        },
        {
          "output_type": "stream",
          "name": "stdout",
          "text": [
            "[0]\tvalid-auc:0.71528\n"
          ]
        },
        {
          "output_type": "stream",
          "name": "stdout",
          "text": [
            "[250]\tvalid-auc:0.68056\n"
          ]
        },
        {
          "output_type": "stream",
          "name": "stdout",
          "text": [
            "[331]\tvalid-auc:0.66667\n"
          ]
        },
        {
          "output_type": "stream",
          "name": "stdout",
          "text": [
            "[XGB-B] c=06 fold 5: pos=16 neg=191 spw=11.94 best_iter=131 | 0.51s\n"
          ]
        },
        {
          "output_type": "stream",
          "name": "stdout",
          "text": [
            "[0]\tvalid-auc:0.67872\n"
          ]
        },
        {
          "output_type": "stream",
          "name": "stdout",
          "text": [
            "[200]\tvalid-auc:0.44894\n"
          ]
        },
        {
          "output_type": "stream",
          "name": "stdout",
          "text": [
            "[XGB-B] c=07 fold 1: pos=14 neg=192 spw=13.71 best_iter=0 | 0.44s\n"
          ]
        },
        {
          "output_type": "stream",
          "name": "stdout",
          "text": [
            "[0]\tvalid-auc:0.64966\n"
          ]
        },
        {
          "output_type": "stream",
          "name": "stdout",
          "text": [
            "[250]\tvalid-auc:0.76190\n"
          ]
        },
        {
          "output_type": "stream",
          "name": "stdout",
          "text": [
            "[500]\tvalid-auc:0.82313\n"
          ]
        },
        {
          "output_type": "stream",
          "name": "stdout",
          "text": [
            "[651]\tvalid-auc:0.81633\n"
          ]
        },
        {
          "output_type": "stream",
          "name": "stdout",
          "text": [
            "[XGB-B] c=07 fold 2: pos=16 neg=190 spw=11.88 best_iter=451 | 0.71s\n"
          ]
        },
        {
          "output_type": "stream",
          "name": "stdout",
          "text": [
            "[0]\tvalid-auc:0.85000\n"
          ]
        },
        {
          "output_type": "stream",
          "name": "stdout",
          "text": [
            "[250]\tvalid-auc:0.93000\n"
          ]
        },
        {
          "output_type": "stream",
          "name": "stdout",
          "text": [
            "[320]\tvalid-auc:0.90000\n"
          ]
        },
        {
          "output_type": "stream",
          "name": "stdout",
          "text": [
            "[XGB-B] c=07 fold 3: pos=17 neg=189 spw=11.12 best_iter=121 | 0.47s\n"
          ]
        },
        {
          "output_type": "stream",
          "name": "stdout",
          "text": [
            "[0]\tvalid-auc:0.64565\n"
          ]
        },
        {
          "output_type": "stream",
          "name": "stdout",
          "text": [
            "[250]\tvalid-auc:0.84348\n"
          ]
        },
        {
          "output_type": "stream",
          "name": "stdout",
          "text": [
            "[500]\tvalid-auc:0.90435\n"
          ]
        },
        {
          "output_type": "stream",
          "name": "stdout",
          "text": [
            "[750]\tvalid-auc:0.92174\n"
          ]
        },
        {
          "output_type": "stream",
          "name": "stdout",
          "text": [
            "[978]\tvalid-auc:0.91739\n"
          ]
        },
        {
          "output_type": "stream",
          "name": "stdout",
          "text": [
            "[XGB-B] c=07 fold 4: pos=14 neg=193 spw=13.79 best_iter=779 | 0.84s\n"
          ]
        },
        {
          "output_type": "stream",
          "name": "stdout",
          "text": [
            "[0]\tvalid-auc:0.82447\n"
          ]
        },
        {
          "output_type": "stream",
          "name": "stdout",
          "text": [
            "[200]\tvalid-auc:0.65957\n"
          ]
        },
        {
          "output_type": "stream",
          "name": "stdout",
          "text": [
            "[XGB-B] c=07 fold 5: pos=15 neg=192 spw=12.80 best_iter=0 | 0.34s\n"
          ]
        },
        {
          "output_type": "stream",
          "name": "stdout",
          "text": [
            "[0]\tvalid-auc:0.64966\n"
          ]
        },
        {
          "output_type": "stream",
          "name": "stdout",
          "text": [
            "[250]\tvalid-auc:0.75510\n"
          ]
        },
        {
          "output_type": "stream",
          "name": "stdout",
          "text": [
            "[500]\tvalid-auc:0.87075\n"
          ]
        },
        {
          "output_type": "stream",
          "name": "stdout",
          "text": [
            "[640]\tvalid-auc:0.87075\n"
          ]
        },
        {
          "output_type": "stream",
          "name": "stdout",
          "text": [
            "[XGB-B] c=08 fold 1: pos=21 neg=185 spw=8.81 best_iter=440 | 0.61s\n"
          ]
        },
        {
          "output_type": "stream",
          "name": "stdout",
          "text": [
            "[0]\tvalid-auc:0.72017\n"
          ]
        },
        {
          "output_type": "stream",
          "name": "stdout",
          "text": [
            "[250]\tvalid-auc:0.86648\n"
          ]
        },
        {
          "output_type": "stream",
          "name": "stdout",
          "text": [
            "[262]\tvalid-auc:0.86648\n"
          ]
        },
        {
          "output_type": "stream",
          "name": "stdout",
          "text": [
            "[XGB-B] c=08 fold 2: pos=16 neg=190 spw=11.88 best_iter=62 | 0.41s\n"
          ]
        },
        {
          "output_type": "stream",
          "name": "stdout",
          "text": [
            "[0]\tvalid-auc:0.85677\n"
          ]
        },
        {
          "output_type": "stream",
          "name": "stdout",
          "text": [
            "[200]\tvalid-auc:0.93229\n"
          ]
        },
        {
          "output_type": "stream",
          "name": "stdout",
          "text": [
            "[XGB-B] c=08 fold 3: pos=20 neg=186 spw=9.30 best_iter=1 | 0.41s\n"
          ]
        },
        {
          "output_type": "stream",
          "name": "stdout",
          "text": [
            "[0]\tvalid-auc:0.87500\n"
          ]
        },
        {
          "output_type": "stream",
          "name": "stdout",
          "text": [
            "[250]\tvalid-auc:0.85417\n"
          ]
        },
        {
          "output_type": "stream",
          "name": "stdout",
          "text": [
            "[259]\tvalid-auc:0.85417\n"
          ]
        },
        {
          "output_type": "stream",
          "name": "stdout",
          "text": [
            "[XGB-B] c=08 fold 4: pos=21 neg=186 spw=8.86 best_iter=60 | 0.42s\n"
          ]
        },
        {
          "output_type": "stream",
          "name": "stdout",
          "text": [
            "[0]\tvalid-auc:0.94630\n"
          ]
        },
        {
          "output_type": "stream",
          "name": "stdout",
          "text": [
            "[250]\tvalid-auc:1.00000\n"
          ]
        },
        {
          "output_type": "stream",
          "name": "stdout",
          "text": [
            "[286]\tvalid-auc:1.00000\n"
          ]
        },
        {
          "output_type": "stream",
          "name": "stdout",
          "text": [
            "[XGB-B] c=08 fold 5: pos=18 neg=189 spw=10.50 best_iter=87 | 0.51s\n"
          ]
        },
        {
          "output_type": "stream",
          "name": "stdout",
          "text": [
            "[0]\tvalid-auc:0.79167\n"
          ]
        },
        {
          "output_type": "stream",
          "name": "stdout",
          "text": [
            "[250]\tvalid-auc:0.78442\n"
          ]
        },
        {
          "output_type": "stream",
          "name": "stdout",
          "text": [
            "[256]\tvalid-auc:0.78080\n"
          ]
        },
        {
          "output_type": "stream",
          "name": "stdout",
          "text": [
            "[XGB-B] c=09 fold 1: pos=15 neg=191 spw=12.73 best_iter=57 | 0.44s\n"
          ]
        },
        {
          "output_type": "stream",
          "name": "stdout",
          "text": [
            "[0]\tvalid-auc:0.72449\n"
          ]
        },
        {
          "output_type": "stream",
          "name": "stdout",
          "text": [
            "[218]\tvalid-auc:0.75510\n"
          ]
        },
        {
          "output_type": "stream",
          "name": "stdout",
          "text": [
            "[XGB-B] c=09 fold 2: pos=18 neg=188 spw=10.44 best_iter=19 | 0.49s\n"
          ]
        },
        {
          "output_type": "stream",
          "name": "stdout",
          "text": [
            "[0]\tvalid-auc:0.80990\n"
          ]
        },
        {
          "output_type": "stream",
          "name": "stdout",
          "text": [
            "[203]\tvalid-auc:0.77604\n"
          ]
        },
        {
          "output_type": "stream",
          "name": "stdout",
          "text": [
            "[XGB-B] c=09 fold 3: pos=17 neg=189 spw=11.12 best_iter=4 | 0.40s\n"
          ]
        },
        {
          "output_type": "stream",
          "name": "stdout",
          "text": [
            "[0]\tvalid-auc:0.84574\n"
          ]
        },
        {
          "output_type": "stream",
          "name": "stdout",
          "text": [
            "[204]\tvalid-auc:0.82447\n"
          ]
        },
        {
          "output_type": "stream",
          "name": "stdout",
          "text": [
            "[XGB-B] c=09 fold 4: pos=17 neg=190 spw=11.18 best_iter=4 | 0.46s\n"
          ]
        },
        {
          "output_type": "stream",
          "name": "stdout",
          "text": [
            "[0]\tvalid-auc:0.58777\n"
          ]
        },
        {
          "output_type": "stream",
          "name": "stdout",
          "text": [
            "[221]\tvalid-auc:0.58511\n"
          ]
        },
        {
          "output_type": "stream",
          "name": "stdout",
          "text": [
            "[XGB-B] c=09 fold 5: pos=17 neg=190 spw=11.18 best_iter=22 | 0.45s\n"
          ]
        },
        {
          "output_type": "stream",
          "name": "stdout",
          "text": [
            "[0]\tvalid-auc:0.54792\n"
          ]
        },
        {
          "output_type": "stream",
          "name": "stdout",
          "text": [
            "[250]\tvalid-auc:0.77604\n"
          ]
        },
        {
          "output_type": "stream",
          "name": "stdout",
          "text": [
            "[380]\tvalid-auc:0.77396\n"
          ]
        },
        {
          "output_type": "stream",
          "name": "stdout",
          "text": [
            "[XGB-B] c=10 fold 1: pos=37 neg=169 spw=4.57 best_iter=180 | 0.50s\n"
          ]
        },
        {
          "output_type": "stream",
          "name": "stdout",
          "text": [
            "[0]\tvalid-auc:0.69034\n"
          ]
        },
        {
          "output_type": "stream",
          "name": "stdout",
          "text": [
            "[250]\tvalid-auc:0.82386\n"
          ]
        },
        {
          "output_type": "stream",
          "name": "stdout",
          "text": [
            "[251]\tvalid-auc:0.82386\n"
          ]
        },
        {
          "output_type": "stream",
          "name": "stdout",
          "text": [
            "[XGB-B] c=10 fold 2: pos=41 neg=165 spw=4.02 best_iter=52 | 0.46s\n"
          ]
        },
        {
          "output_type": "stream",
          "name": "stdout",
          "text": [
            "[0]\tvalid-auc:0.87574\n"
          ]
        },
        {
          "output_type": "stream",
          "name": "stdout",
          "text": [
            "[219]\tvalid-auc:0.88955\n"
          ]
        },
        {
          "output_type": "stream",
          "name": "stdout",
          "text": [
            "[XGB-B] c=10 fold 3: pos=36 neg=170 spw=4.72 best_iter=20 | 0.39s\n"
          ]
        },
        {
          "output_type": "stream",
          "name": "stdout",
          "text": [
            "[0]\tvalid-auc:0.81220\n"
          ]
        },
        {
          "output_type": "stream",
          "name": "stdout",
          "text": [
            "[210]\tvalid-auc:0.90244\n"
          ]
        },
        {
          "output_type": "stream",
          "name": "stdout",
          "text": [
            "[XGB-B] c=10 fold 4: pos=39 neg=168 spw=4.31 best_iter=11 | 0.48s\n"
          ]
        },
        {
          "output_type": "stream",
          "name": "stdout",
          "text": [
            "[0]\tvalid-auc:0.96667\n"
          ]
        },
        {
          "output_type": "stream",
          "name": "stdout",
          "text": [
            "[200]\tvalid-auc:0.94444\n"
          ]
        },
        {
          "output_type": "stream",
          "name": "stdout",
          "text": [
            "[XGB-B] c=10 fold 5: pos=43 neg=164 spw=3.81 best_iter=1 | 0.35s\n"
          ]
        },
        {
          "output_type": "stream",
          "name": "stdout",
          "text": [
            "[0]\tvalid-auc:0.89456\n"
          ]
        },
        {
          "output_type": "stream",
          "name": "stdout",
          "text": [
            "[250]\tvalid-auc:0.98639\n"
          ]
        },
        {
          "output_type": "stream",
          "name": "stdout",
          "text": [
            "[478]\tvalid-auc:0.98639\n"
          ]
        },
        {
          "output_type": "stream",
          "name": "stdout",
          "text": [
            "[XGB-B] c=11 fold 1: pos=7 neg=199 spw=28.43 best_iter=278 | 0.61s\n"
          ]
        },
        {
          "output_type": "stream",
          "name": "stdout",
          "text": [
            "[0]\tvalid-auc:0.45098\n"
          ]
        },
        {
          "output_type": "stream",
          "name": "stdout",
          "text": [
            "[199]\tvalid-auc:0.15686\n"
          ]
        },
        {
          "output_type": "stream",
          "name": "stdout",
          "text": [
            "[XGB-B] c=11 fold 2: pos=9 neg=197 spw=21.89 best_iter=0 | 0.44s\n"
          ]
        },
        {
          "output_type": "stream",
          "name": "stdout",
          "text": [
            "[0]\tvalid-auc:0.92000\n"
          ]
        },
        {
          "output_type": "stream",
          "name": "stdout",
          "text": [
            "[201]\tvalid-auc:0.97000\n"
          ]
        },
        {
          "output_type": "stream",
          "name": "stdout",
          "text": [
            "[XGB-B] c=11 fold 3: pos=8 neg=198 spw=24.75 best_iter=1 | 0.37s\n"
          ]
        },
        {
          "output_type": "stream",
          "name": "stdout",
          "text": [
            "[0]\tvalid-auc:0.95918\n"
          ]
        },
        {
          "output_type": "stream",
          "name": "stdout",
          "text": [
            "[213]\tvalid-auc:0.97959\n"
          ]
        },
        {
          "output_type": "stream",
          "name": "stdout",
          "text": [
            "[XGB-B] c=11 fold 4: pos=8 neg=199 spw=24.88 best_iter=14 | 0.44s\n"
          ]
        },
        {
          "output_type": "stream",
          "name": "stdout",
          "text": [
            "[0]\tvalid-auc:0.96939\n"
          ]
        },
        {
          "output_type": "stream",
          "name": "stdout",
          "text": [
            "[250]\tvalid-auc:0.97959\n"
          ]
        },
        {
          "output_type": "stream",
          "name": "stdout",
          "text": [
            "[334]\tvalid-auc:0.97959\n"
          ]
        },
        {
          "output_type": "stream",
          "name": "stdout",
          "text": [
            "[XGB-B] c=11 fold 5: pos=8 neg=199 spw=24.88 best_iter=135 | 0.44s\n"
          ]
        },
        {
          "output_type": "stream",
          "name": "stdout",
          "text": [
            "[0]\tvalid-auc:0.60417\n"
          ]
        },
        {
          "output_type": "stream",
          "name": "stdout",
          "text": [
            "[250]\tvalid-auc:0.65625\n"
          ]
        },
        {
          "output_type": "stream",
          "name": "stdout",
          "text": [
            "[337]\tvalid-auc:0.65625\n"
          ]
        },
        {
          "output_type": "stream",
          "name": "stdout",
          "text": [
            "[XGB-B] c=12 fold 1: pos=8 neg=198 spw=24.75 best_iter=138 | 0.48s\n"
          ]
        },
        {
          "output_type": "stream",
          "name": "stdout",
          "text": [
            "[0]\tvalid-auc:0.85294\n"
          ]
        },
        {
          "output_type": "stream",
          "name": "stdout",
          "text": [
            "[250]\tvalid-auc:0.86275\n"
          ]
        },
        {
          "output_type": "stream",
          "name": "stdout",
          "text": [
            "[460]\tvalid-auc:0.88235\n"
          ]
        },
        {
          "output_type": "stream",
          "name": "stdout",
          "text": [
            "[XGB-B] c=12 fold 2: pos=11 neg=195 spw=17.73 best_iter=260 | 0.59s\n"
          ]
        },
        {
          "output_type": "stream",
          "name": "stdout",
          "text": [
            "[0]\tvalid-auc:0.80272\n"
          ]
        },
        {
          "output_type": "stream",
          "name": "stdout",
          "text": [
            "[212]\tvalid-auc:0.85714\n"
          ]
        },
        {
          "output_type": "stream",
          "name": "stdout",
          "text": [
            "[XGB-B] c=12 fold 3: pos=9 neg=197 spw=21.89 best_iter=12 | 0.45s\n"
          ]
        },
        {
          "output_type": "stream",
          "name": "stdout",
          "text": [
            "[0]\tvalid-auc:0.95213\n"
          ]
        },
        {
          "output_type": "stream",
          "name": "stdout",
          "text": [
            "[199]\tvalid-auc:0.91489\n"
          ]
        },
        {
          "output_type": "stream",
          "name": "stdout",
          "text": [
            "[XGB-B] c=12 fold 4: pos=8 neg=199 spw=24.88 best_iter=0 | 0.50s\n"
          ]
        },
        {
          "output_type": "stream",
          "name": "stdout",
          "text": [
            "[XGB-B] c=12 fold 5: degenerate -> const 0.0465 | 0.16s\n"
          ]
        },
        {
          "output_type": "stream",
          "name": "stdout",
          "text": [
            "[XGB-B] c=13 fold 1: degenerate -> const 0.0155 | 0.26s\n"
          ]
        },
        {
          "output_type": "stream",
          "name": "stdout",
          "text": [
            "[XGB-B] c=13 fold 2: degenerate -> const 0.0155 | 0.18s\n"
          ]
        },
        {
          "output_type": "stream",
          "name": "stdout",
          "text": [
            "[XGB-B] c=13 fold 3: degenerate -> const 0.0155 | 0.20s\n"
          ]
        },
        {
          "output_type": "stream",
          "name": "stdout",
          "text": [
            "[XGB-B] c=13 fold 4: degenerate -> const 0.0155 | 0.24s\n"
          ]
        },
        {
          "output_type": "stream",
          "name": "stdout",
          "text": [
            "[XGB-B] c=13 fold 5: degenerate -> const 0.0155 | 0.18s\n"
          ]
        },
        {
          "output_type": "stream",
          "name": "stdout",
          "text": [
            "[0]\tvalid-auc:0.79412\n"
          ]
        },
        {
          "output_type": "stream",
          "name": "stdout",
          "text": [
            "[204]\tvalid-auc:0.84314\n"
          ]
        },
        {
          "output_type": "stream",
          "name": "stdout",
          "text": [
            "[XGB-B] c=14 fold 1: pos=15 neg=191 spw=12.73 best_iter=5 | 0.47s\n"
          ]
        },
        {
          "output_type": "stream",
          "name": "stdout",
          "text": [
            "[0]\tvalid-auc:0.94118\n"
          ]
        },
        {
          "output_type": "stream",
          "name": "stdout",
          "text": [
            "[211]\tvalid-auc:1.00000\n"
          ]
        },
        {
          "output_type": "stream",
          "name": "stdout",
          "text": [
            "[XGB-B] c=14 fold 2: pos=15 neg=191 spw=12.73 best_iter=12 | 0.45s\n"
          ]
        },
        {
          "output_type": "stream",
          "name": "stdout",
          "text": [
            "[0]\tvalid-auc:0.62016\n"
          ]
        },
        {
          "output_type": "stream",
          "name": "stdout",
          "text": [
            "[233]\tvalid-auc:0.70284\n"
          ]
        },
        {
          "output_type": "stream",
          "name": "stdout",
          "text": [
            "[XGB-B] c=14 fold 3: pos=7 neg=199 spw=28.43 best_iter=33 | 0.37s\n"
          ]
        },
        {
          "output_type": "stream",
          "name": "stdout",
          "text": [
            "[0]\tvalid-auc:0.87153\n"
          ]
        },
        {
          "output_type": "stream",
          "name": "stdout",
          "text": [
            "[250]\tvalid-auc:0.97222\n"
          ]
        },
        {
          "output_type": "stream",
          "name": "stdout",
          "text": [
            "[281]\tvalid-auc:0.97222\n"
          ]
        },
        {
          "output_type": "stream",
          "name": "stdout",
          "text": [
            "[XGB-B] c=14 fold 4: pos=13 neg=194 spw=14.92 best_iter=81 | 0.46s\n"
          ]
        },
        {
          "output_type": "stream",
          "name": "stdout",
          "text": [
            "[0]\tvalid-auc:0.63265\n"
          ]
        },
        {
          "output_type": "stream",
          "name": "stdout",
          "text": [
            "[219]\tvalid-auc:0.96939\n"
          ]
        },
        {
          "output_type": "stream",
          "name": "stdout",
          "text": [
            "[XGB-B] c=14 fold 5: pos=14 neg=193 spw=13.79 best_iter=19 | 0.37s\n"
          ]
        },
        {
          "output_type": "stream",
          "name": "stdout",
          "text": [
            "[XGB-B] c=15 fold 1: degenerate -> const 0.0233 | 0.12s\n"
          ]
        },
        {
          "output_type": "stream",
          "name": "stdout",
          "text": [
            "[0]\tvalid-auc:0.48000\n"
          ]
        },
        {
          "output_type": "stream",
          "name": "stdout",
          "text": [
            "[250]\tvalid-auc:0.93000\n"
          ]
        },
        {
          "output_type": "stream",
          "name": "stdout",
          "text": [
            "[393]\tvalid-auc:0.94000\n"
          ]
        },
        {
          "output_type": "stream",
          "name": "stdout",
          "text": [
            "[XGB-B] c=15 fold 2: pos=4 neg=202 spw=50.50 best_iter=193 | 0.57s\n"
          ]
        },
        {
          "output_type": "stream",
          "name": "stdout",
          "text": [
            "[0]\tvalid-auc:0.70500\n"
          ]
        },
        {
          "output_type": "stream",
          "name": "stdout",
          "text": [
            "[250]\tvalid-auc:0.94000\n"
          ]
        },
        {
          "output_type": "stream",
          "name": "stdout",
          "text": [
            "[444]\tvalid-auc:0.94000\n"
          ]
        },
        {
          "output_type": "stream",
          "name": "stdout",
          "text": [
            "[XGB-B] c=15 fold 3: pos=4 neg=202 spw=50.50 best_iter=245 | 0.51s\n"
          ]
        },
        {
          "output_type": "stream",
          "name": "stdout",
          "text": [
            "[0]\tvalid-auc:0.50000\n"
          ]
        },
        {
          "output_type": "stream",
          "name": "stdout",
          "text": [
            "[250]\tvalid-auc:0.79592\n"
          ]
        },
        {
          "output_type": "stream",
          "name": "stdout",
          "text": [
            "[319]\tvalid-auc:0.78571\n"
          ]
        },
        {
          "output_type": "stream",
          "name": "stdout",
          "text": [
            "[XGB-B] c=15 fold 4: pos=4 neg=203 spw=50.75 best_iter=120 | 0.43s\n"
          ]
        },
        {
          "output_type": "stream",
          "name": "stdout",
          "text": [
            "[XGB-B] c=15 fold 5: degenerate -> const 0.0233 | 0.18s\n"
          ]
        },
        {
          "output_type": "stream",
          "name": "stdout",
          "text": [
            "[0]\tvalid-auc:0.49020\n"
          ]
        },
        {
          "output_type": "stream",
          "name": "stdout",
          "text": [
            "[200]\tvalid-auc:0.44118\n"
          ]
        },
        {
          "output_type": "stream",
          "name": "stdout",
          "text": [
            "[XGB-B] c=16 fold 1: pos=1 neg=205 spw=205.00 best_iter=0 | 0.45s\n"
          ]
        },
        {
          "output_type": "stream",
          "name": "stdout",
          "text": [
            "[XGB-B] c=16 fold 2: degenerate -> const 0.0078 | 0.18s\n"
          ]
        },
        {
          "output_type": "stream",
          "name": "stdout",
          "text": [
            "[0]\tvalid-auc:0.49020\n"
          ]
        },
        {
          "output_type": "stream",
          "name": "stdout",
          "text": [
            "[200]\tvalid-auc:0.47059\n"
          ]
        },
        {
          "output_type": "stream",
          "name": "stdout",
          "text": [
            "[XGB-B] c=16 fold 3: pos=1 neg=205 spw=205.00 best_iter=0 | 0.50s\n"
          ]
        },
        {
          "output_type": "stream",
          "name": "stdout",
          "text": [
            "[XGB-B] c=16 fold 4: degenerate -> const 0.0078 | 0.16s\n"
          ]
        },
        {
          "output_type": "stream",
          "name": "stdout",
          "text": [
            "[XGB-B] c=16 fold 5: degenerate -> const 0.0078 | 0.21s\n"
          ]
        },
        {
          "output_type": "stream",
          "name": "stdout",
          "text": [
            "[XGB-B] c=17 fold 1: degenerate -> const 0.0155 | 0.21s\n"
          ]
        },
        {
          "output_type": "stream",
          "name": "stdout",
          "text": [
            "[XGB-B] c=17 fold 2: degenerate -> const 0.0155 | 0.18s\n"
          ]
        },
        {
          "output_type": "stream",
          "name": "stdout",
          "text": [
            "[0]\tvalid-auc:0.49020\n"
          ]
        },
        {
          "output_type": "stream",
          "name": "stdout",
          "text": [
            "[215]\tvalid-auc:0.86275\n"
          ]
        },
        {
          "output_type": "stream",
          "name": "stdout",
          "text": [
            "[XGB-B] c=17 fold 3: pos=3 neg=203 spw=67.67 best_iter=15 | 0.41s\n"
          ]
        },
        {
          "output_type": "stream",
          "name": "stdout",
          "text": [
            "[0]\tvalid-auc:0.80000\n"
          ]
        },
        {
          "output_type": "stream",
          "name": "stdout",
          "text": [
            "[250]\tvalid-auc:0.98000\n"
          ]
        },
        {
          "output_type": "stream",
          "name": "stdout",
          "text": [
            "[379]\tvalid-auc:0.98000\n"
          ]
        },
        {
          "output_type": "stream",
          "name": "stdout",
          "text": [
            "[XGB-B] c=17 fold 4: pos=3 neg=204 spw=68.00 best_iter=179 | 0.46s\n"
          ]
        },
        {
          "output_type": "stream",
          "name": "stdout",
          "text": [
            "[0]\tvalid-auc:0.68878\n"
          ]
        },
        {
          "output_type": "stream",
          "name": "stdout",
          "text": [
            "[250]\tvalid-auc:0.62755\n"
          ]
        },
        {
          "output_type": "stream",
          "name": "stdout",
          "text": [
            "[258]\tvalid-auc:0.62755\n"
          ]
        },
        {
          "output_type": "stream",
          "name": "stdout",
          "text": [
            "[XGB-B] c=17 fold 5: pos=2 neg=205 spw=102.50 best_iter=59 | 0.39s\n"
          ]
        },
        {
          "output_type": "stream",
          "name": "stdout",
          "text": [
            "[0]\tvalid-auc:0.95833\n"
          ]
        },
        {
          "output_type": "stream",
          "name": "stdout",
          "text": [
            "[250]\tvalid-auc:0.97917\n"
          ]
        },
        {
          "output_type": "stream",
          "name": "stdout",
          "text": [
            "[277]\tvalid-auc:0.97917\n"
          ]
        },
        {
          "output_type": "stream",
          "name": "stdout",
          "text": [
            "[XGB-B] c=18 fold 1: pos=8 neg=198 spw=24.75 best_iter=78 | 0.48s\n"
          ]
        },
        {
          "output_type": "stream",
          "name": "stdout",
          "text": [
            "[0]\tvalid-auc:0.72656\n"
          ]
        },
        {
          "output_type": "stream",
          "name": "stdout",
          "text": [
            "[238]\tvalid-auc:0.89583\n"
          ]
        },
        {
          "output_type": "stream",
          "name": "stdout",
          "text": [
            "[XGB-B] c=18 fold 2: pos=8 neg=198 spw=24.75 best_iter=38 | 0.39s\n"
          ]
        },
        {
          "output_type": "stream",
          "name": "stdout",
          "text": [
            "[XGB-B] c=18 fold 3: degenerate -> const 0.0465 | 0.23s\n"
          ]
        },
        {
          "output_type": "stream",
          "name": "stdout",
          "text": [
            "[0]\tvalid-auc:0.41000\n"
          ]
        },
        {
          "output_type": "stream",
          "name": "stdout",
          "text": [
            "[250]\tvalid-auc:0.94000\n"
          ]
        },
        {
          "output_type": "stream",
          "name": "stdout",
          "text": [
            "[286]\tvalid-auc:0.94000\n"
          ]
        },
        {
          "output_type": "stream",
          "name": "stdout",
          "text": [
            "[XGB-B] c=18 fold 4: pos=11 neg=196 spw=17.82 best_iter=87 | 0.51s\n"
          ]
        },
        {
          "output_type": "stream",
          "name": "stdout",
          "text": [
            "[0]\tvalid-auc:0.82292\n"
          ]
        },
        {
          "output_type": "stream",
          "name": "stdout",
          "text": [
            "[204]\tvalid-auc:0.95833\n"
          ]
        },
        {
          "output_type": "stream",
          "name": "stdout",
          "text": [
            "[XGB-B] c=18 fold 5: pos=9 neg=198 spw=22.00 best_iter=5 | 0.49s\n"
          ]
        },
        {
          "output_type": "stream",
          "name": "stdout",
          "text": [
            "Final XGB Path-B (3-seed, 5-fold) OOF Macro AUC: 0.79066\nSaved prod_xgbB_* files.\nSaved submission_xgbB.csv\n"
          ]
        }
      ]
    },
    {
      "id": "417fc948-4b70-48ea-9dbf-cd0a5c42f1fe",
      "cell_type": "code",
      "metadata": {},
      "source": [
        "# Blend multiple model predictions and write submissions (mean and rank-mean)\n",
        "import numpy as np, pandas as pd\n",
        "from pathlib import Path\n",
        "\n",
        "print('=== BLENDING SUBMISSIONS ===')\n",
        "rec_test_ref = np.load('prod_test_ids.npy').astype(int)\n",
        "num_classes_local = int(num_classes)\n",
        "\n",
        "def load_preds(prefix):\n",
        "    te_fp = Path(f'{prefix}_test.npy')\n",
        "    ids_fp = Path(f'{prefix}_test_ids.npy')\n",
        "    if not te_fp.exists() or not ids_fp.exists():\n",
        "        print(f'.. skip {prefix}: files not found')\n",
        "        return None\n",
        "    te = np.load(te_fp)\n",
        "    ids = np.load(ids_fp).astype(int)\n",
        "    if te.shape[1] != num_classes_local:\n",
        "        print(f'.. skip {prefix}: class mismatch {te.shape}')\n",
        "        return None\n",
        "    # align to rec_test_ref order\n",
        "    idx_map = {rid:i for i, rid in enumerate(ids)}\n",
        "    try:\n",
        "        aligned = np.vstack([te[idx_map[r]] for r in rec_test_ref])\n",
        "    except KeyError as e:\n",
        "        print(f'.. skip {prefix}: missing rid {e}')\n",
        "        return None\n",
        "    print(f'.. loaded {prefix}: {aligned.shape}')\n",
        "    return aligned.astype(np.float32)\n",
        "\n",
        "candidates = [\n",
        "    'prod_xgbB',   # KFold Path-B (leaky) strong LB\n",
        "    'prod_xgbG',   # GroupKFold + GLOBAL prior\n",
        "    'prod_xgb',    # GroupKFold minimal hist\n",
        "    'prod_hist_lr',# LR hist-only\n",
        "    'prod_lr_hc'   # LR Hellinger+Curated\n",
        "]\n",
        "pred_list = []\n",
        "for pref in candidates:\n",
        "    arr = load_preds(pref)\n",
        "    if arr is not None:\n",
        "        pred_list.append(arr)\n",
        "\n",
        "assert len(pred_list) >= 2, 'Need at least two models to blend'\n",
        "P = np.stack(pred_list, axis=0)  # (M, N, C)\n",
        "P_mean = P.mean(axis=0)\n",
        "\n",
        "# Rank-average per class\n",
        "def rank_average(Pstack):\n",
        "    M, N, C = Pstack.shape\n",
        "    out = np.zeros((N, C), dtype=np.float32)\n",
        "    for c in range(C):\n",
        "        ranks = np.zeros((M, N), dtype=np.float32)\n",
        "        for m in range(M):\n",
        "            p = Pstack[m, :, c]\n",
        "            order = np.argsort(np.argsort(p))  # 0..N-1\n",
        "            ranks[m] = order.astype(np.float32) / max(1, N-1)\n",
        "        out[:, c] = ranks.mean(axis=0)\n",
        "    return out\n",
        "\n",
        "P_rank = rank_average(P)\n",
        "\n",
        "def write_submission(probs, fname):\n",
        "    sub = pd.read_csv('sample_submission.csv')\n",
        "    id_vals = sub['Id'].values.astype(int)\n",
        "    rid_to_row = {rid:i for i, rid in enumerate(rec_test_ref)}\n",
        "    out = np.zeros_like(id_vals, dtype=np.float32)\n",
        "    for i, Id in enumerate(id_vals):\n",
        "        rid = Id // 100; cid = Id % 100\n",
        "        row = rid_to_row.get(rid, None)\n",
        "        p = float(probs[row, cid]) if (row is not None and cid < num_classes_local) else 0.0\n",
        "        out[i] = np.clip(p, 1e-6, 1-1e-6)\n",
        "    sub['Probability'] = out\n",
        "    sub.to_csv(fname, index=False)\n",
        "    print('Wrote', fname)\n",
        "\n",
        "write_submission(P_mean, 'submission_blend_mean.csv')\n",
        "write_submission(P_rank, 'submission_blend_rank.csv')\n",
        "\n",
        "# Default to rank blend for submission.csv\n",
        "pd.read_csv('submission_blend_rank.csv').to_csv('submission.csv', index=False)\n",
        "print('Also wrote submission.csv (rank blend)')\n",
        "print('=== END BLENDING ===')"
      ],
      "execution_count": 44,
      "outputs": [
        {
          "output_type": "stream",
          "name": "stdout",
          "text": [
            "=== BLENDING SUBMISSIONS ===\n.. loaded prod_xgbB: (64, 19)\n.. loaded prod_xgbG: (64, 19)\n.. loaded prod_xgb: (64, 19)\n.. loaded prod_hist_lr: (64, 19)\n.. loaded prod_lr_hc: (64, 19)\nWrote submission_blend_mean.csv\nWrote submission_blend_rank.csv\nAlso wrote submission.csv (rank blend)\n=== END BLENDING ===\n"
          ]
        }
      ]
    },
    {
      "id": "b9f84e9f-e658-4600-8879-5743704897cd",
      "cell_type": "code",
      "metadata": {},
      "source": [
        "# FINAL PUSH v2: MultilabelStratifiedKFold, shallower trees, SVD(H_idf) features, rank-avg blend\n",
        "import sys, subprocess, time, os, math\n",
        "import numpy as np, pandas as pd\n",
        "\n",
        "print('=== FINAL PUSH MODELS (MLSKFold, leaky for LB) ===')\n",
        "# Ensure required packages\n",
        "try:\n",
        "    import xgboost as xgb\n",
        "except Exception:\n",
        "    subprocess.check_call([sys.executable, '-m', 'pip', 'install', '-q', 'xgboost'])\n",
        "    import xgboost as xgb\n",
        "try:\n",
        "    import lightgbm as lgb\n",
        "    from lightgbm import LGBMClassifier\n",
        "except Exception:\n",
        "    subprocess.check_call([sys.executable, '-m', 'pip', 'install', '-q', 'lightgbm'])\n",
        "    import lightgbm as lgb\n",
        "    from lightgbm import LGBMClassifier\n",
        "try:\n",
        "    from iterstrat.ml_stratifiers import MultilabelStratifiedKFold\n",
        "except Exception:\n",
        "    subprocess.check_call([sys.executable, '-m', 'pip', 'install', '-q', 'iterative-stratification'])\n",
        "    from iterstrat.ml_stratifiers import MultilabelStratifiedKFold\n",
        "from sklearn.decomposition import TruncatedSVD\n",
        "from sklearn.preprocessing import StandardScaler\n",
        "from sklearn.linear_model import LogisticRegression, Ridge\n",
        "\n",
        "# Preconditions: materials from Cell 1 and 9\n",
        "ST_PRIOR_TRAIN = np.load('prod_stprior_train.npy')\n",
        "ST_PRIOR_TEST = np.load('prod_stprior_test.npy')\n",
        "\n",
        "n_tr, C = Y_train.shape\n",
        "n_te = C_test.shape[0]\n",
        "assert H_tree_train.shape[0] == n_tr and H_tree_test.shape[0] == n_te\n",
        "assert H_idf_train.shape[0] == n_tr and H_idf_test.shape[0] == n_te\n",
        "\n",
        "# Helper: macro AUC already defined earlier as macro_auc_ignoring_degenerate\n",
        "\n",
        "def build_folds(seed=42, n_splits=5):\n",
        "    mskf = MultilabelStratifiedKFold(n_splits=n_splits, shuffle=True, random_state=seed)\n",
        "    return list(mskf.split(np.zeros((n_tr, 1)), Y_train))\n",
        "\n",
        "def train_xgb_tree(seed=42, n_splits=5, k_svd=16):\n",
        "    folds = build_folds(seed, n_splits)\n",
        "    oof = np.zeros((n_tr, C), dtype=np.float32)\n",
        "    te = np.zeros((n_te, C), dtype=np.float32)\n",
        "    for c in range(C):\n",
        "        y = Y_train[:, c].astype(int)\n",
        "        cls_oof = np.zeros(n_tr, dtype=np.float32)\n",
        "        cls_te_acc = np.zeros(n_te, dtype=np.float32)\n",
        "        for fold_no, (tr_idx, va_idx) in enumerate(folds, 1):\n",
        "            t0 = time.time()\n",
        "            # Features: H_tree + curated + GLOBAL prior (1d for this class) + SVD(H_idf, k)\n",
        "            st_tr = ST_PRIOR_TRAIN[tr_idx, c][:, None]\n",
        "            st_va = ST_PRIOR_TRAIN[va_idx, c][:, None]\n",
        "            st_te = ST_PRIOR_TEST[:, c][:, None]\n",
        "            # Per-fold SVD on H_idf\n",
        "            if H_idf_train.shape[1] > 1 and len(tr_idx) > 2:\n",
        "                k = int(min(k_svd, max(2, min(H_idf_train.shape[1], len(tr_idx)-1))))\n",
        "            else:\n",
        "                k = 0\n",
        "            if k >= 2:\n",
        "                svd = TruncatedSVD(n_components=k, random_state=seed)\n",
        "                Z_tr = svd.fit_transform(H_idf_train[tr_idx]).astype(np.float32)\n",
        "                Z_va = svd.transform(H_idf_train[va_idx]).astype(np.float32)\n",
        "                Z_te = svd.transform(H_idf_test).astype(np.float32)\n",
        "            else:\n",
        "                Z_tr = np.empty((len(tr_idx), 0), dtype=np.float32)\n",
        "                Z_va = np.empty((len(va_idx), 0), dtype=np.float32)\n",
        "                Z_te = np.empty((n_te, 0), dtype=np.float32)\n",
        "            X_tr = np.concatenate([H_tree_train[tr_idx], C_train[tr_idx], st_tr, Z_tr], axis=1).astype(np.float32)\n",
        "            X_va = np.concatenate([H_tree_train[va_idx], C_train[va_idx], st_va, Z_va], axis=1).astype(np.float32)\n",
        "            X_te = np.concatenate([H_tree_test, C_test, st_te, Z_te], axis=1).astype(np.float32)\n",
        "            y_tr = y[tr_idx]; y_va = y[va_idx]\n",
        "            pos = int(y_tr.sum()); neg = int((1-y_tr).sum())\n",
        "            if pos == 0 or neg == 0 or y_va.sum() in (0, len(y_va)):\n",
        "                const = float(y.mean())\n",
        "                cls_oof[va_idx] = const\n",
        "                cls_te_acc += np.full(n_te, const, np.float32) / n_splits\n",
        "                print(f'[XGB-TREE] c={c:02d} fold {fold_no}: degenerate -> const {const:.4f} | {time.time()-t0:.2f}s', flush=True)\n",
        "                continue\n",
        "            spw = neg / max(1, pos)\n",
        "            dtr = xgb.DMatrix(X_tr, label=y_tr); dva = xgb.DMatrix(X_va, label=y_va); dte = xgb.DMatrix(X_te)\n",
        "            params = {\n",
        "                'objective': 'binary:logistic',\n",
        "                'eval_metric': 'auc',\n",
        "                'max_depth': 3,\n",
        "                'min_child_weight': 5.0,\n",
        "                'eta': 0.04,\n",
        "                'subsample': 0.75,\n",
        "                'colsample_bytree': 0.8,\n",
        "                'lambda': 1.5,\n",
        "                'tree_method': 'hist',\n",
        "                'max_bin': 64,\n",
        "                'scale_pos_weight': float(spw),\n",
        "                'seed': int(seed),\n",
        "                'verbosity': 0\n",
        "            }\n",
        "            bst = xgb.train(params, dtr, num_boost_round=6000, evals=[(dva, 'valid')],\n",
        "                            early_stopping_rounds=300, verbose_eval=250)\n",
        "            p_va = bst.predict(dva, iteration_range=(0, bst.best_iteration+1)).astype(np.float32)\n",
        "            p_te = bst.predict(dte, iteration_range=(0, bst.best_iteration+1)).astype(np.float32)\n",
        "            cls_oof[va_idx] = p_va\n",
        "            cls_te_acc += p_te / n_splits\n",
        "            print(f'[XGB-TREE] c={c:02d} fold {fold_no}: pos={pos} neg={neg} spw={spw:.2f} best_iter={bst.best_iteration} | {time.time()-t0:.2f}s', flush=True)\n",
        "        oof[:, c] = cls_oof\n",
        "        te[:, c] = cls_te_acc\n",
        "    return oof, te\n",
        "\n",
        "def train_lgbm_tree(seed=42, n_splits=5, k_svd=16):\n",
        "    folds = build_folds(seed, n_splits)\n",
        "    oof = np.zeros((n_tr, C), dtype=np.float32)\n",
        "    te = np.zeros((n_te, C), dtype=np.float32)\n",
        "    for c in range(C):\n",
        "        y = Y_train[:, c].astype(int)\n",
        "        cls_oof = np.zeros(n_tr, dtype=np.float32)\n",
        "        cls_te_acc = np.zeros(n_te, dtype=np.float32)\n",
        "        for fold_no, (tr_idx, va_idx) in enumerate(folds, 1):\n",
        "            t0 = time.time()\n",
        "            st_tr = ST_PRIOR_TRAIN[tr_idx, c][:, None]\n",
        "            st_va = ST_PRIOR_TRAIN[va_idx, c][:, None]\n",
        "            st_te = ST_PRIOR_TEST[:, c][:, None]\n",
        "            if H_idf_train.shape[1] > 1 and len(tr_idx) > 2:\n",
        "                k = int(min(k_svd, max(2, min(H_idf_train.shape[1], len(tr_idx)-1))))\n",
        "            else:\n",
        "                k = 0\n",
        "            if k >= 2:\n",
        "                svd = TruncatedSVD(n_components=k, random_state=seed)\n",
        "                Z_tr = svd.fit_transform(H_idf_train[tr_idx]).astype(np.float32)\n",
        "                Z_va = svd.transform(H_idf_train[va_idx]).astype(np.float32)\n",
        "                Z_te = svd.transform(H_idf_test).astype(np.float32)\n",
        "            else:\n",
        "                Z_tr = np.empty((len(tr_idx), 0), dtype=np.float32)\n",
        "                Z_va = np.empty((len(va_idx), 0), dtype=np.float32)\n",
        "                Z_te = np.empty((n_te, 0), dtype=np.float32)\n",
        "            X_tr = np.concatenate([H_tree_train[tr_idx], C_train[tr_idx], st_tr, Z_tr], axis=1).astype(np.float32)\n",
        "            X_va = np.concatenate([H_tree_train[va_idx], C_train[va_idx], st_va, Z_va], axis=1).astype(np.float32)\n",
        "            X_te = np.concatenate([H_tree_test, C_test, st_te, Z_te], axis=1).astype(np.float32)\n",
        "            y_tr = y[tr_idx]; y_va = y[va_idx]\n",
        "            pos = int(y_tr.sum()); neg = int((1-y_tr).sum())\n",
        "            if pos == 0 or neg == 0 or y_va.sum() in (0, len(y_va)):\n",
        "                const = float(y.mean())\n",
        "                cls_oof[va_idx] = const\n",
        "                cls_te_acc += np.full(n_te, const, np.float32) / n_splits\n",
        "                print(f'[LGBM-TREE] c={c:02d} fold {fold_no}: degenerate -> const {const:.4f} | {time.time()-t0:.2f}s', flush=True)\n",
        "                continue\n",
        "            spw = neg / max(1, pos)\n",
        "            model = LGBMClassifier(\n",
        "                objective='binary',\n",
        "                n_estimators=8000,\n",
        "                learning_rate=0.04,\n",
        "                num_leaves=23,\n",
        "                max_depth=4,\n",
        "                max_bin=64,\n",
        "                subsample=0.75,\n",
        "                subsample_freq=1,\n",
        "                colsample_bytree=0.8,\n",
        "                reg_lambda=1.5,\n",
        "                min_child_samples=12,\n",
        "                feature_pre_filter=False,\n",
        "                force_col_wise=True,\n",
        "                extra_trees=False,\n",
        "                scale_pos_weight=spw,\n",
        "                random_state=seed,\n",
        "                n_jobs=-1\n",
        "            )\n",
        "            model.fit(X_tr, y_tr, eval_set=[(X_va, y_va)], eval_metric='auc',\n",
        "                      callbacks=[lgb.early_stopping(300, verbose=False), lgb.log_evaluation(100)])\n",
        "            p_va = model.predict_proba(X_va)[:,1].astype(np.float32)\n",
        "            p_te = model.predict_proba(X_te)[:,1].astype(np.float32)\n",
        "            cls_oof[va_idx] = p_va\n",
        "            cls_te_acc += p_te / n_splits\n",
        "            print(f'[LGBM-TREE] c={c:02d} fold {fold_no}: pos={pos} neg={neg} spw={spw:.2f} best_iter={getattr(model, \"best_iteration_\", None)} | {time.time()-t0:.2f}s', flush=True)\n",
        "        oof[:, c] = cls_oof\n",
        "        te[:, c] = cls_te_acc\n",
        "    return oof, te\n",
        "\n",
        "def train_lr_idf(seed=42, n_splits=5, n_comp=64, C_reg=1.0):\n",
        "    folds = build_folds(seed, n_splits)\n",
        "    oof = np.zeros((n_tr, C), dtype=np.float32)\n",
        "    te = np.zeros((n_te, C), dtype=np.float32)\n",
        "    for c in range(C):\n",
        "        y = Y_train[:, c].astype(int)\n",
        "        cls_oof = np.zeros(n_tr, dtype=np.float32)\n",
        "        cls_te_acc = np.zeros(n_te, dtype=np.float32)\n",
        "        for fold_no, (tr_idx, va_idx) in enumerate(folds, 1):\n",
        "            t0 = time.time()\n",
        "            Xh_tr = H_idf_train[tr_idx]; Xh_va = H_idf_train[va_idx]; Xh_te = H_idf_test\n",
        "            y_tr = y[tr_idx]; y_va = y[va_idx]\n",
        "            pos = int(y_tr.sum()); neg = int((1-y_tr).sum())\n",
        "            if pos == 0 or neg == 0 or y_va.sum() in (0, len(y_va)):\n",
        "                const = float(y.mean())\n",
        "                cls_oof[va_idx] = const\n",
        "                cls_te_acc += np.full(n_te, const, np.float32) / n_splits\n",
        "                print(f'[LR-IDF] c={c:02d} fold {fold_no}: degenerate -> const {const:.4f} | {time.time()-t0:.2f}s', flush=True)\n",
        "                continue\n",
        "            k = int(min(n_comp, max(2, min(Xh_tr.shape[1], max(2, Xh_tr.shape[0]-1)))))\n",
        "            if k >= 2:\n",
        "                svd = TruncatedSVD(n_components=k, random_state=seed)\n",
        "                Z_tr = svd.fit_transform(Xh_tr).astype(np.float32)\n",
        "                Z_va = svd.transform(Xh_va).astype(np.float32)\n",
        "                Z_te = svd.transform(Xh_te).astype(np.float32)\n",
        "            else:\n",
        "                Z_tr, Z_va, Z_te = Xh_tr, Xh_va, Xh_te\n",
        "            scaler = StandardScaler(with_mean=True, with_std=True)\n",
        "            Z_tr_s = scaler.fit_transform(Z_tr)\n",
        "            Z_va_s = scaler.transform(Z_va)\n",
        "            Z_te_s = scaler.transform(Z_te)\n",
        "            lr = LogisticRegression(penalty='l2', C=C_reg, class_weight='balanced', solver='liblinear', max_iter=2000, random_state=seed)\n",
        "            lr.fit(Z_tr_s, y_tr)\n",
        "            p_va = lr.predict_proba(Z_va_s)[:,1].astype(np.float32)\n",
        "            p_te = lr.predict_proba(Z_te_s)[:,1].astype(np.float32)\n",
        "            cls_oof[va_idx] = p_va\n",
        "            cls_te_acc += p_te / n_splits\n",
        "            print(f'[LR-IDF] c={c:02d} fold {fold_no}: pos={pos} neg={neg} k={k} | {time.time()-t0:.2f}s', flush=True)\n",
        "        oof[:, c] = cls_oof\n",
        "        te[:, c] = cls_te_acc\n",
        "    return oof, te\n",
        "\n",
        "def rank_average(Pstack):\n",
        "    M, N, Cc = Pstack.shape\n",
        "    out = np.zeros((N, Cc), dtype=np.float32)\n",
        "    for c in range(Cc):\n",
        "        ranks = np.zeros((M, N), dtype=np.float32)\n",
        "        for m in range(M):\n",
        "            p = Pstack[m, :, c]\n",
        "            order = np.argsort(np.argsort(p))\n",
        "            ranks[m] = order.astype(np.float32) / max(1, N-1)\n",
        "        out[:, c] = ranks.mean(axis=0)\n",
        "    return out\n",
        "\n",
        "seeds = [42, 7]\n",
        "xgb_oofs = []; xgb_tes = []\n",
        "lgb_oofs = []; lgb_tes = []\n",
        "lr_oofs = []; lr_tes = []\n",
        "\n",
        "for i, sd in enumerate(seeds, 1):\n",
        "    print(f'== SEED {sd} ({i}/{len(seeds)}) ==');\n",
        "    t_seed = time.time()\n",
        "    oof_x, te_x = train_xgb_tree(seed=sd, n_splits=5, k_svd=16)\n",
        "    print(f'[SEED {sd}] XGB-TREE OOF Macro AUC: {macro_auc_ignoring_degenerate(Y_train, oof_x):.5f}')\n",
        "    xgb_oofs.append(oof_x); xgb_tes.append(te_x)\n",
        "\n",
        "    oof_l, te_l = train_lgbm_tree(seed=sd, n_splits=5, k_svd=16)\n",
        "    print(f'[SEED {sd}] LGBM-TREE OOF Macro AUC: {macro_auc_ignoring_degenerate(Y_train, oof_l):.5f}')\n",
        "    lgb_oofs.append(oof_l); lgb_tes.append(te_l)\n",
        "\n",
        "    oof_r, te_r = train_lr_idf(seed=sd, n_splits=5, n_comp=64, C_reg=1.0)\n",
        "    print(f'[SEED {sd}] LR-IDF OOF Macro AUC: {macro_auc_ignoring_degenerate(Y_train, oof_r):.5f}')\n",
        "    lr_oofs.append(oof_r); lr_tes.append(te_r)\n",
        "    print(f'.. seed {sd} done in {time.time()-t_seed:.2f}s', flush=True)\n",
        "\n",
        "# Aggregate across seeds\n",
        "xgb_oof_mean = np.mean(np.stack(xgb_oofs, axis=0), axis=0)\n",
        "xgb_te_mean = np.mean(np.stack(xgb_tes, axis=0), axis=0)\n",
        "lgb_oof_mean = np.mean(np.stack(lgb_oofs, axis=0), axis=0)\n",
        "lgb_te_mean = np.mean(np.stack(lgb_tes, axis=0), axis=0)\n",
        "lr_oof_mean = np.mean(np.stack(lr_oofs, axis=0), axis=0)\n",
        "lr_te_mean = np.mean(np.stack(lr_tes, axis=0), axis=0)\n",
        "\n",
        "print(f'XGB-TREE (seed-avg) OOF Macro AUC: {macro_auc_ignoring_degenerate(Y_train, xgb_oof_mean):.5f}')\n",
        "print(f'LGBM-TREE (seed-avg) OOF Macro AUC: {macro_auc_ignoring_degenerate(Y_train, lgb_oof_mean):.5f}')\n",
        "print(f'LR-IDF (seed-avg) OOF Macro AUC: {macro_auc_ignoring_degenerate(Y_train, lr_oof_mean):.5f}')\n",
        "\n",
        "# Rank-average per class across models (seed-averaged predictions)\n",
        "P_te_models = np.stack([xgb_te_mean, lgb_te_mean, lr_te_mean], axis=0)  # (3, N, C)\n",
        "P_oof_models = np.stack([xgb_oof_mean, lgb_oof_mean, lr_oof_mean], axis=0)\n",
        "blend_te_rank = rank_average(P_te_models)\n",
        "blend_oof_rank = rank_average(P_oof_models)\n",
        "print(f'Rank-Blend OOF Macro AUC: {macro_auc_ignoring_degenerate(Y_train, blend_oof_rank):.5f}')\n",
        "\n",
        "# Save artifacts\n",
        "np.save('prod_xgb_final_oof.npy', xgb_oof_mean); np.save('prod_xgb_final_test.npy', xgb_te_mean)\n",
        "np.save('prod_lgb_final_oof.npy', lgb_oof_mean); np.save('prod_lgb_final_test.npy', lgb_te_mean)\n",
        "np.save('prod_lr_idf_oof.npy', lr_oof_mean); np.save('prod_lr_idf_test.npy', lr_te_mean)\n",
        "np.save('prod_final_train_ids.npy', rec_train); np.save('prod_final_test_ids.npy', rec_test)\n",
        "np.save('prod_blend_final_oof.npy', blend_oof_rank); np.save('prod_blend_final_test.npy', blend_te_rank)\n",
        "print('Saved final model npy files')\n",
        "\n",
        "# Build submission.csv from rank blend\n",
        "sub = pd.read_csv('sample_submission.csv')\n",
        "id_vals = sub['Id'].values.astype(int)\n",
        "rid_to_idx = {rid:i for i, rid in enumerate(rec_test)}\n",
        "probs = np.zeros_like(id_vals, dtype=np.float32)\n",
        "for i, Id in enumerate(id_vals):\n",
        "    rid = Id // 100; cid = Id % 100\n",
        "    row = rid_to_idx.get(rid, None)\n",
        "    p = float(blend_te_rank[row, cid]) if (row is not None and cid < C) else 0.0\n",
        "    probs[i] = np.clip(p, 1e-6, 1-1e-6)\n",
        "sub['Probability'] = probs\n",
        "sub.to_csv('submission.csv', index=False)\n",
        "print('Wrote submission.csv (final rank blend)')\n",
        "print('=== END FINAL PUSH v2 ===')"
      ],
      "execution_count": 48,
      "outputs": []
    }
  ],
  "metadata": {
    "kernelspec": {
      "display_name": "Python 3",
      "language": "python",
      "name": "python3"
    },
    "language_info": {
      "name": "python",
      "version": "3.11.0rc1"
    }
  },
  "nbformat": 4,
  "nbformat_minor": 5
}