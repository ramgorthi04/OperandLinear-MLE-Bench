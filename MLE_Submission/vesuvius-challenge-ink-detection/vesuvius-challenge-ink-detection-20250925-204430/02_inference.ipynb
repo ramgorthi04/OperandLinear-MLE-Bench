{
  "cells": [
    {
      "id": "1b60be9c-4a5c-4fbd-b7e3-f144f3acade0",
      "cell_type": "code",
      "metadata": {},
      "source": [
        "# --- 1. Setup and Imports ---\n",
        "\n",
        "import sys\n",
        "import subprocess\n",
        "import importlib\n",
        "\n",
        "# Install necessary packages if not already installed\n",
        "print(\"Installing required packages...\")\n",
        "command = [\n",
        "    sys.executable, '-m', 'pip', 'install', '-q',\n",
        "    'opencv-python-headless', 'segmentation-models-pytorch', 'timm', 'albumentations'\n",
        "]\n",
        "result = subprocess.run(command, capture_output=True, text=True)\n",
        "\n",
        "if result.returncode == 0:\n",
        "    print(\"\\u2705 Packages installed successfully.\")\n",
        "    importlib.invalidate_caches()\n",
        "else:\n",
        "    print(\"\\u274c Package installation failed.\")\n",
        "    print(result.stderr)\n",
        "\n",
        "import os\n",
        "import gc\n",
        "import glob\n",
        "import numpy as np\n",
        "import pandas as pd\n",
        "import cv2\n",
        "from tqdm import tqdm\n",
        "import torch\n",
        "import torch.nn as nn\n",
        "from torch.utils.data import Dataset, DataLoader\n",
        "\n",
        "import segmentation_models_pytorch as smp\n",
        "from albumentations import ToTensorV2\n",
        "from albumentations.pytorch import ToTensorV2"
      ],
      "execution_count": 1,
      "outputs": [
        {
          "output_type": "stream",
          "name": "stdout",
          "text": [
            "Installing required packages...\n"
          ]
        },
        {
          "output_type": "stream",
          "name": "stdout",
          "text": [
            "\u2705 Packages installed successfully.\n"
          ]
        }
      ]
    },
    {
      "id": "7c4cc96c-08ce-423b-a8c8-123d7fe8fb6c",
      "cell_type": "code",
      "metadata": {},
      "source": [
        "# --- 2. Configuration ---\n",
        "import os\n",
        "\n",
        "class CFG:\n",
        "    # General\n",
        "    DEVICE = torch.device('cuda' if torch.cuda.is_available() else 'cpu')\n",
        "    \n",
        "    # Data Paths\n",
        "    TEST_PATH = 'test'\n",
        "    VALID_PATH = 'train'\n",
        "    TEST_FRAGMENTS = sorted([d for d in os.listdir('test') if os.path.isdir(os.path.join('test', d))])\n",
        "    CALIBRATION_FRAGMENT_ID = '2' # Use fragment 2 from train set for calibration\n",
        "\n",
        "    # Data Reading\n",
        "    Z_START = 20\n",
        "    Z_END = 44\n",
        "    IN_CHANS = (Z_END - Z_START) + 1\n",
        "\n",
        "    # Tiling\n",
        "    TILE_SIZE = 320\n",
        "    TILE_OVERLAP = 0.5\n",
        "    STRIDE = int(TILE_SIZE * (1 - TILE_OVERLAP))\n",
        "\n",
        "    # Model\n",
        "    BACKBONE = 'timm-efficientnet-b4'\n",
        "    MODEL_PATH = 'best_model_fold_2.pth'\n",
        "\n",
        "    # Inference Strategy\n",
        "    USE_TTA = True\n",
        "    USE_CALIBRATION = True\n",
        "    BATCH_SIZE = 16 # Lowered for TTA memory usage\n",
        "    \n",
        "    # These will be dynamically set by the calibration step\n",
        "    BEST_THRESHOLD = 0.45\n",
        "    MIN_AREA_SIZE = 128\n",
        "\n",
        "print(f\"Device: {CFG.DEVICE}\")\n",
        "print(f\"Input Channels: {CFG.IN_CHANS}\")\n",
        "print(f\"Stride for tiling: {CFG.STRIDE}\")\n",
        "print(f\"Discovered test fragments: {CFG.TEST_FRAGMENTS}\")\n",
        "print(f\"Calibration enabled: {CFG.USE_CALIBRATION} on fragment {CFG.CALIBRATION_FRAGMENT_ID}\")\n",
        "print(f\"TTA enabled: {CFG.USE_TTA}\")"
      ],
      "execution_count": 10,
      "outputs": [
        {
          "output_type": "stream",
          "name": "stdout",
          "text": [
            "Device: cuda\nInput Channels: 25\nStride for tiling: 160\nDiscovered test fragments: ['a']\nCalibration enabled: True on fragment 2\nTTA enabled: True\n"
          ]
        }
      ]
    },
    {
      "id": "ac4442b8-1560-43e5-8d5a-f1061c4ed178",
      "cell_type": "code",
      "metadata": {},
      "source": [
        "# --- 3. Advanced Helper Functions & Dataset ---\n",
        "\n",
        "def get_hann_window(size):\n",
        "    \"\"\"Creates a 2D Hanning window.\"\"\"\n",
        "    hann_1d = np.hanning(size)\n",
        "    hann_2d = np.outer(hann_1d, hann_1d)\n",
        "    return hann_2d\n",
        "\n",
        "def remove_small_components(mask, min_size):\n",
        "    \"\"\"Removes small connected components from a binary mask.\"\"\"\n",
        "    num_labels, labels, stats, _ = cv2.connectedComponentsWithStats(mask, connectivity=8)\n",
        "    # Start from 1 to ignore the background label 0\n",
        "    for i in range(1, num_labels):\n",
        "        if stats[i, cv2.CC_STAT_AREA] < min_size:\n",
        "            mask[labels == i] = 0\n",
        "    return mask\n",
        "\n",
        "def rle_encode(mask):\n",
        "    \"\"\"Encodes a binary mask into Run-Length Encoding format (column-major).\"\"\"\n",
        "    # The competition requires column-major order, so we transpose the mask\n",
        "    pixels = mask.T.flatten()\n",
        "    pixels = np.concatenate([[0], pixels, [0]])\n",
        "    runs = np.where(pixels[1:] != pixels[:-1])[0] + 1\n",
        "    runs[1::2] -= runs[::2]\n",
        "    return ' '.join(str(x) for x in runs)\n",
        "\n",
        "def get_img_stack(fragment_id, z_start, z_end, data_path, simulate_ir_absence=False):\n",
        "    \"\"\"\n",
        "    Loads a stack of TIF images and the IR image for a given fragment.\n",
        "    Applies per-channel percentile normalization.\n",
        "    \"\"\"\n",
        "    images = []\n",
        "    \n",
        "    # Load TIF slices\n",
        "    for i in range(z_start, z_end):\n",
        "        image_path = os.path.join(data_path, fragment_id, 'surface_volume', f'{i:02}.tif')\n",
        "        image = cv2.imread(image_path, cv2.IMREAD_UNCHANGED)\n",
        "        if image is None:\n",
        "            raise FileNotFoundError(f\"TIF file not found or failed to read: {image_path}\")\n",
        "        images.append(image.astype(np.float32))\n",
        "\n",
        "    # Load IR image\n",
        "    ir_path = os.path.join(data_path, fragment_id, 'ir.png')\n",
        "    ir_image = cv2.imread(ir_path, cv2.IMREAD_UNCHANGED)\n",
        "    \n",
        "    # Handle missing or simulated-missing IR\n",
        "    if ir_image is None or simulate_ir_absence:\n",
        "        if ir_image is None:\n",
        "            print(f\"Warning: IR file not found at '{ir_path}'.\")\n",
        "        print(\"IR Fallback: Using mean of TIF slices as IR channel.\")\n",
        "        # Use the mean of the raw TIFs before normalization\n",
        "        ir_image = np.mean(np.array(images), axis=0).astype(np.uint8)\n",
        "    else:\n",
        "        ir_image = ir_image.astype(np.float32)\n",
        "\n",
        "    # Ensure IR image has the same dimensions as the TIF slices\n",
        "    if ir_image.shape != images[0].shape:\n",
        "        print(f\"Warning: IR image shape {ir_image.shape} differs from TIF shape {images[0].shape}. Resizing IR to match.\")\n",
        "        ir_image = cv2.resize(ir_image, (images[0].shape[1], images[0].shape[0]), interpolation=cv2.INTER_NEAREST)\n",
        "\n",
        "    images.append(ir_image)\n",
        "    \n",
        "    # Per-channel percentile normalization\n",
        "    normalized_images = []\n",
        "    for i, img in enumerate(images):\n",
        "        p1, p99 = np.percentile(img, [1, 99])\n",
        "        img_normalized = (img - p1) / (p99 - p1 + 1e-6)\n",
        "        img_normalized = np.clip(img_normalized, 0, 1)\n",
        "        normalized_images.append(img_normalized)\n",
        "        \n",
        "    return np.stack(normalized_images, axis=-1)\n",
        "\n",
        "class VesuviusTestDataset(Dataset):\n",
        "    \"\"\"\n",
        "    Dataset for inference. Assumes images are already pre-processed and normalized.\n",
        "    \"\"\"\n",
        "    def __init__(self, tiles, fragment_images, tile_size):\n",
        "        self.tiles = tiles\n",
        "        self.fragment_images = fragment_images\n",
        "        self.tile_size = tile_size\n",
        "\n",
        "    def __len__(self):\n",
        "        return len(self.tiles)\n",
        "\n",
        "    def __getitem__(self, idx):\n",
        "        y, x = self.tiles[idx]\n",
        "        \n",
        "        # Get tile from the pre-loaded, pre-normalized fragment images\n",
        "        image_tile = self.fragment_images[y:y + self.tile_size, x:x + self.tile_size, :]\n",
        "        \n",
        "        # Transpose from HWC to CHW\n",
        "        image = np.transpose(image_tile, (2, 0, 1))\n",
        "        \n",
        "        return torch.from_numpy(image).float()"
      ],
      "execution_count": 11,
      "outputs": []
    },
    {
      "id": "ec2688f5-075d-4e96-8551-59995606a359",
      "cell_type": "code",
      "metadata": {},
      "source": [
        "# --- 4. Model Loading ---\n",
        "\n",
        "# Define the model architecture (must match training)\n",
        "model = smp.FPN(\n",
        "    encoder_name=CFG.BACKBONE,\n",
        "    encoder_weights=None,  # Weights will be loaded from file\n",
        "    in_channels=CFG.IN_CHANS,\n",
        "    classes=1,\n",
        "    activation=None,\n",
        ")\n",
        "\n",
        "# Load the trained weights\n",
        "model.load_state_dict(torch.load(CFG.MODEL_PATH))\n",
        "model.to(CFG.DEVICE)\n",
        "model.eval()\n",
        "\n",
        "print(f\"Model loaded from {CFG.MODEL_PATH} and moved to {CFG.DEVICE}.\")"
      ],
      "execution_count": 4,
      "outputs": [
        {
          "output_type": "stream",
          "name": "stdout",
          "text": [
            "Model loaded from best_model_fold_2.pth and moved to cuda.\n"
          ]
        }
      ]
    },
    {
      "id": "ea730d3b-6e57-41c4-aed5-c16443a4226c",
      "cell_type": "code",
      "metadata": {},
      "source": [
        "# --- 5. TTA and Prediction Functions ---\n",
        "\n",
        "def tta_predict(model, image_batch):\n",
        "    \"\"\"Performs 8-way Test-Time Augmentation and returns averaged logits.\"\"\"\n",
        "    logits_tta = torch.zeros_like(model(image_batch))\n",
        "\n",
        "    # Original\n",
        "    logits_tta += model(image_batch)\n",
        "\n",
        "    # Horizontal Flip\n",
        "    logits_tta += torch.flip(model(torch.flip(image_batch, dims=[3])), dims=[3])\n",
        "\n",
        "    # Rotations (90, 180, 270) and their flips\n",
        "    for k in [1, 2, 3]:\n",
        "        img_rot = torch.rot90(image_batch, k, [2, 3])\n",
        "        # Rotated\n",
        "        logits_tta += torch.rot90(model(img_rot), -k, [2, 3])\n",
        "        # Rotated + Flipped\n",
        "        logits_tta += torch.flip(torch.rot90(model(torch.flip(img_rot, dims=[3])), -k, [2, 3]), dims=[3])\n",
        "\n",
        "    return logits_tta / 8.0\n",
        "\n",
        "def predict_fragment(model, fragment_images, roi_mask):\n",
        "    \"\"\"\n",
        "    Runs full-image inference on a fragment using overlapping tiles,\n",
        "    Hanning window blending, and optional TTA. Returns the final logit map.\n",
        "    \"\"\"\n",
        "    img_height, img_width, _ = fragment_images.shape\n",
        "    \n",
        "    # Canvases for blending\n",
        "    logit_canvas = np.zeros((img_height, img_width), dtype=np.float32)\n",
        "    weight_canvas = np.zeros((img_height, img_width), dtype=np.float32)\n",
        "    \n",
        "    # Hanning window for smooth blending\n",
        "    hann_window = get_hann_window(CFG.TILE_SIZE)\n",
        "    \n",
        "    # Generate tile coordinates with full coverage\n",
        "    tiles = []\n",
        "    for y in range(0, img_height, CFG.STRIDE):\n",
        "        for x in range(0, img_width, CFG.STRIDE):\n",
        "            y_start = min(y, img_height - CFG.TILE_SIZE)\n",
        "            x_start = min(x, img_width - CFG.TILE_SIZE)\n",
        "            if (roi_mask[y_start:y_start+CFG.TILE_SIZE, x_start:x_start+CFG.TILE_SIZE] > 0).mean() > 0.1:\n",
        "                if (y_start, x_start) not in tiles:\n",
        "                    tiles.append((y_start, x_start))\n",
        "    \n",
        "    print(f\"Generated {len(tiles)} tiles for prediction.\")\n",
        "    \n",
        "    # Create dataset and dataloader\n",
        "    dataset = VesuviusTestDataset(tiles, fragment_images, CFG.TILE_SIZE)\n",
        "    dataloader = DataLoader(dataset, batch_size=CFG.BATCH_SIZE, shuffle=False, num_workers=2, pin_memory=True)\n",
        "    \n",
        "    # Inference loop\n",
        "    with torch.no_grad():\n",
        "        for i, images_batch in enumerate(tqdm(dataloader, desc=\"Predicting tiles\")):\n",
        "            images_batch = images_batch.to(CFG.DEVICE)\n",
        "            \n",
        "            if CFG.USE_TTA:\n",
        "                logits_batch = tta_predict(model, images_batch)\n",
        "            else:\n",
        "                logits_batch = model(images_batch)\n",
        "            \n",
        "            logits_batch = logits_batch.cpu().numpy()\n",
        "            \n",
        "            # Stitch logits back with Hanning blending\n",
        "            for j, (y, x) in enumerate(tiles[i*CFG.BATCH_SIZE : (i+1)*CFG.BATCH_SIZE]):\n",
        "                logit_canvas[y:y+CFG.TILE_SIZE, x:x+CFG.TILE_SIZE] += logits_batch[j, 0, :, :] * hann_window\n",
        "                weight_canvas[y:y+CFG.TILE_SIZE, x:x+CFG.TILE_SIZE] += hann_window\n",
        "    \n",
        "    # Normalize logits by weights\n",
        "    logit_canvas /= (weight_canvas + 1e-6)\n",
        "    \n",
        "    return logit_canvas"
      ],
      "execution_count": 12,
      "outputs": []
    },
    {
      "id": "c2ebd0e5-8402-4be0-a4a4-4cf34b685e9b",
      "cell_type": "code",
      "metadata": {},
      "source": [
        "# --- 6. Calibration Step ---\n",
        "from scipy.ndimage import mean as ndimage_mean\n",
        "def fbeta_score(y_true, y_pred, beta=0.5):\n",
        "    \"\"\"Calculates the F-beta score.\"\"\"\n",
        "    tp = np.sum(y_true * y_pred)\n",
        "    fp = np.sum((1 - y_true) * y_pred)\n",
        "    fn = np.sum(y_true * (1 - y_pred))\n",
        "    \n",
        "    precision = tp / (tp + fp + 1e-6)\n",
        "    recall = tp / (tp + fn + 1e-6)\n",
        "    \n",
        "    fbeta = (1 + beta**2) * (precision * recall) / ((beta**2 * precision) + recall + 1e-6)\n",
        "    return fbeta, precision, recall\n",
        "\n",
        "def calibrate_parameters(model):\n",
        "    \"\"\"\n",
        "    Calibrates the threshold and min_area_size on a validation fragment\n",
        "    by simulating test conditions (missing IR). Uses a highly optimized grid search.\n",
        "    \"\"\"\n",
        "    print(\"\\n--- Starting Parameter Calibration ---\")\n",
        "    fragment_id = CFG.CALIBRATION_FRAGMENT_ID\n",
        "    \n",
        "    # Load validation data\n",
        "    print(f\"Loading validation fragment {fragment_id} for calibration...\")\n",
        "    roi_mask = cv2.imread(os.path.join(CFG.VALID_PATH, fragment_id, 'mask.png'), cv2.IMREAD_GRAYSCALE)\n",
        "    gt_mask = cv2.imread(os.path.join(CFG.VALID_PATH, fragment_id, 'inklabels.png'), cv2.IMREAD_GRAYSCALE)\n",
        "    gt_mask = (gt_mask > 0).astype(np.uint8)\n",
        "    \n",
        "    # Load images and get full-fragment logit predictions\n",
        "    fragment_images = get_img_stack(fragment_id, CFG.Z_START, CFG.Z_END, data_path=CFG.VALID_PATH, simulate_ir_absence=True)\n",
        "    logit_map = predict_fragment(model, fragment_images, roi_mask)\n",
        "    prob_map = 1 / (1 + np.exp(-logit_map))\n",
        "    \n",
        "    # --- Highly Optimized Grid Search ---\n",
        "    print(\"Performing highly optimized grid search...\")\n",
        "    thresholds = np.arange(0.25, 0.75, 0.05)\n",
        "    min_areas = [64, 100, 128, 196, 256, 300]\n",
        "    best_score = -1\n",
        "    best_params = (CFG.BEST_THRESHOLD, CFG.MIN_AREA_SIZE)\n",
        "\n",
        "    # 1. Find components ONCE at the lowest threshold\n",
        "    print(\"Step 1/3: Finding connected components...\")\n",
        "    pred_mask_base = (prob_map > thresholds.min()).astype(np.uint8)\n",
        "    num_labels, labels, stats, _ = cv2.connectedComponentsWithStats(pred_mask_base, connectivity=8)\n",
        "    component_areas = stats[1:, cv2.CC_STAT_AREA]\n",
        "\n",
        "    # 2. Calculate average probability for each component ONCE (Vectorized)\n",
        "    print(\"Step 2/3: Calculating component probabilities...\")\n",
        "    # Note: ndimage_mean returns a list where the first element corresponds to label 0 (background).\n",
        "    # We calculate means for labels 1 to num_labels-1.\n",
        "    component_probs = ndimage_mean(prob_map, labels=labels, index=np.arange(1, num_labels))\n",
        "\n",
        "    # 3. Fast grid search over pre-calculated properties\n",
        "    print(\"Step 3/3: Searching for best parameters...\")\n",
        "    gt_pixels_roi = gt_mask[roi_mask > 0]\n",
        "    for threshold in tqdm(thresholds, desc=\"Thresholds\"):\n",
        "        for min_area in min_areas:\n",
        "            # Identify components that pass both criteria\n",
        "            # component_probs and component_areas are already aligned (index 0 -> label 1)\n",
        "            passing_indices = np.where((component_probs > threshold) & (component_areas >= min_area))[0] + 1\n",
        "            \n",
        "            # Create final prediction mask from passing components\n",
        "            pred_mask = np.isin(labels, passing_indices).astype(np.uint8)\n",
        "            \n",
        "            # Evaluate score within ROI\n",
        "            pred_pixels_roi = pred_mask[roi_mask > 0]\n",
        "            score, _, _ = fbeta_score(gt_pixels_roi, pred_pixels_roi)\n",
        "            \n",
        "            if score > best_score:\n",
        "                best_score = score\n",
        "                best_params = (threshold, min_area)\n",
        "\n",
        "    print(f\"Calibration complete. Best F0.5 score: {best_score:.4f}\")\n",
        "    print(f\"Best parameters found: Threshold={best_params[0]:.2f}, Min Area={best_params[1]}\")\n",
        "    \n",
        "    return best_params\n",
        "\n",
        "# Run calibration if enabled\n",
        "if CFG.USE_CALIBRATION:\n",
        "    best_threshold, best_min_area = calibrate_parameters(model)\n",
        "    CFG.BEST_THRESHOLD = best_threshold\n",
        "    CFG.MIN_AREA_SIZE = best_min_area\n",
        "else:\n",
        "    print(\"Skipping calibration. Using default parameters.\")"
      ],
      "execution_count": 17,
      "outputs": [
        {
          "output_type": "stream",
          "name": "stdout",
          "text": [
            "\n--- Starting Parameter Calibration ---\nLoading validation fragment 2 for calibration...\n"
          ]
        },
        {
          "output_type": "stream",
          "name": "stdout",
          "text": [
            "IR Fallback: Using mean of TIF slices as IR channel.\n"
          ]
        },
        {
          "output_type": "stream",
          "name": "stdout",
          "text": [
            "Generated 4040 tiles for prediction.\n"
          ]
        },
        {
          "output_type": "stream",
          "name": "stderr",
          "text": [
            "\rPredicting tiles:   0%|          | 0/253 [00:00<?, ?it/s]"
          ]
        },
        {
          "output_type": "stream",
          "name": "stderr",
          "text": [
            "\rPredicting tiles:   0%|          | 1/253 [00:01<04:32,  1.08s/it]"
          ]
        },
        {
          "output_type": "stream",
          "name": "stderr",
          "text": [
            "\rPredicting tiles:   1%|          | 2/253 [00:01<03:22,  1.24it/s]"
          ]
        },
        {
          "output_type": "stream",
          "name": "stderr",
          "text": [
            "\rPredicting tiles:   1%|          | 3/253 [00:02<03:00,  1.38it/s]"
          ]
        },
        {
          "output_type": "stream",
          "name": "stderr",
          "text": [
            "\rPredicting tiles:   2%|\u258f         | 4/253 [00:02<02:49,  1.47it/s]"
          ]
        },
        {
          "output_type": "stream",
          "name": "stderr",
          "text": [
            "\rPredicting tiles:   2%|\u258f         | 5/253 [00:03<02:43,  1.52it/s]"
          ]
        },
        {
          "output_type": "stream",
          "name": "stderr",
          "text": [
            "\rPredicting tiles:   2%|\u258f         | 6/253 [00:04<02:39,  1.55it/s]"
          ]
        },
        {
          "output_type": "stream",
          "name": "stderr",
          "text": [
            "\rPredicting tiles:   3%|\u258e         | 7/253 [00:04<02:36,  1.57it/s]"
          ]
        },
        {
          "output_type": "stream",
          "name": "stderr",
          "text": [
            "\rPredicting tiles:   3%|\u258e         | 8/253 [00:05<02:34,  1.58it/s]"
          ]
        },
        {
          "output_type": "stream",
          "name": "stderr",
          "text": [
            "\rPredicting tiles:   4%|\u258e         | 9/253 [00:06<02:33,  1.59it/s]"
          ]
        },
        {
          "output_type": "stream",
          "name": "stderr",
          "text": [
            "\rPredicting tiles:   4%|\u258d         | 10/253 [00:06<02:32,  1.60it/s]"
          ]
        },
        {
          "output_type": "stream",
          "name": "stderr",
          "text": [
            "\rPredicting tiles:   4%|\u258d         | 11/253 [00:07<02:31,  1.60it/s]"
          ]
        },
        {
          "output_type": "stream",
          "name": "stderr",
          "text": [
            "\rPredicting tiles:   5%|\u258d         | 12/253 [00:07<02:30,  1.60it/s]"
          ]
        },
        {
          "output_type": "stream",
          "name": "stderr",
          "text": [
            "\rPredicting tiles:   5%|\u258c         | 13/253 [00:08<02:29,  1.61it/s]"
          ]
        },
        {
          "output_type": "stream",
          "name": "stderr",
          "text": [
            "\rPredicting tiles:   6%|\u258c         | 14/253 [00:09<02:28,  1.61it/s]"
          ]
        },
        {
          "output_type": "stream",
          "name": "stderr",
          "text": [
            "\rPredicting tiles:   6%|\u258c         | 15/253 [00:09<02:28,  1.61it/s]"
          ]
        },
        {
          "output_type": "stream",
          "name": "stderr",
          "text": [
            "\rPredicting tiles:   6%|\u258b         | 16/253 [00:10<02:27,  1.61it/s]"
          ]
        },
        {
          "output_type": "stream",
          "name": "stderr",
          "text": [
            "\rPredicting tiles:   7%|\u258b         | 17/253 [00:11<02:26,  1.61it/s]"
          ]
        },
        {
          "output_type": "stream",
          "name": "stderr",
          "text": [
            "\rPredicting tiles:   7%|\u258b         | 18/253 [00:11<02:26,  1.61it/s]"
          ]
        },
        {
          "output_type": "stream",
          "name": "stderr",
          "text": [
            "\rPredicting tiles:   8%|\u258a         | 19/253 [00:12<02:25,  1.61it/s]"
          ]
        },
        {
          "output_type": "stream",
          "name": "stderr",
          "text": [
            "\rPredicting tiles:   8%|\u258a         | 20/253 [00:12<02:25,  1.61it/s]"
          ]
        },
        {
          "output_type": "stream",
          "name": "stderr",
          "text": [
            "\rPredicting tiles:   8%|\u258a         | 21/253 [00:13<02:24,  1.61it/s]"
          ]
        },
        {
          "output_type": "stream",
          "name": "stderr",
          "text": [
            "\rPredicting tiles:   9%|\u258a         | 22/253 [00:14<02:23,  1.61it/s]"
          ]
        },
        {
          "output_type": "stream",
          "name": "stderr",
          "text": [
            "\rPredicting tiles:   9%|\u2589         | 23/253 [00:14<02:23,  1.61it/s]"
          ]
        },
        {
          "output_type": "stream",
          "name": "stderr",
          "text": [
            "\rPredicting tiles:   9%|\u2589         | 24/253 [00:15<02:22,  1.60it/s]"
          ]
        },
        {
          "output_type": "stream",
          "name": "stderr",
          "text": [
            "\rPredicting tiles:  10%|\u2589         | 25/253 [00:15<02:22,  1.60it/s]"
          ]
        },
        {
          "output_type": "stream",
          "name": "stderr",
          "text": [
            "\rPredicting tiles:  10%|\u2588         | 26/253 [00:16<02:21,  1.60it/s]"
          ]
        },
        {
          "output_type": "stream",
          "name": "stderr",
          "text": [
            "\rPredicting tiles:  11%|\u2588         | 27/253 [00:17<02:20,  1.60it/s]"
          ]
        },
        {
          "output_type": "stream",
          "name": "stderr",
          "text": [
            "\rPredicting tiles:  11%|\u2588         | 28/253 [00:17<02:20,  1.60it/s]"
          ]
        },
        {
          "output_type": "stream",
          "name": "stderr",
          "text": [
            "\rPredicting tiles:  11%|\u2588\u258f        | 29/253 [00:18<02:19,  1.60it/s]"
          ]
        },
        {
          "output_type": "stream",
          "name": "stderr",
          "text": [
            "\rPredicting tiles:  12%|\u2588\u258f        | 30/253 [00:19<02:19,  1.60it/s]"
          ]
        },
        {
          "output_type": "stream",
          "name": "stderr",
          "text": [
            "\rPredicting tiles:  12%|\u2588\u258f        | 31/253 [00:19<02:18,  1.60it/s]"
          ]
        },
        {
          "output_type": "stream",
          "name": "stderr",
          "text": [
            "\rPredicting tiles:  13%|\u2588\u258e        | 32/253 [00:20<02:18,  1.60it/s]"
          ]
        },
        {
          "output_type": "stream",
          "name": "stderr",
          "text": [
            "\rPredicting tiles:  13%|\u2588\u258e        | 33/253 [00:20<02:17,  1.60it/s]"
          ]
        },
        {
          "output_type": "stream",
          "name": "stderr",
          "text": [
            "\rPredicting tiles:  13%|\u2588\u258e        | 34/253 [00:21<02:17,  1.60it/s]"
          ]
        },
        {
          "output_type": "stream",
          "name": "stderr",
          "text": [
            "\rPredicting tiles:  14%|\u2588\u258d        | 35/253 [00:22<02:16,  1.60it/s]"
          ]
        },
        {
          "output_type": "stream",
          "name": "stderr",
          "text": [
            "\rPredicting tiles:  14%|\u2588\u258d        | 36/253 [00:22<02:16,  1.60it/s]"
          ]
        },
        {
          "output_type": "stream",
          "name": "stderr",
          "text": [
            "\rPredicting tiles:  15%|\u2588\u258d        | 37/253 [00:23<02:15,  1.60it/s]"
          ]
        },
        {
          "output_type": "stream",
          "name": "stderr",
          "text": [
            "\rPredicting tiles:  15%|\u2588\u258c        | 38/253 [00:24<02:14,  1.59it/s]"
          ]
        },
        {
          "output_type": "stream",
          "name": "stderr",
          "text": [
            "\rPredicting tiles:  15%|\u2588\u258c        | 39/253 [00:24<02:14,  1.60it/s]"
          ]
        },
        {
          "output_type": "stream",
          "name": "stderr",
          "text": [
            "\rPredicting tiles:  16%|\u2588\u258c        | 40/253 [00:25<02:13,  1.59it/s]"
          ]
        },
        {
          "output_type": "stream",
          "name": "stderr",
          "text": [
            "\rPredicting tiles:  16%|\u2588\u258c        | 41/253 [00:26<02:13,  1.59it/s]"
          ]
        },
        {
          "output_type": "stream",
          "name": "stderr",
          "text": [
            "\rPredicting tiles:  17%|\u2588\u258b        | 42/253 [00:26<02:12,  1.59it/s]"
          ]
        },
        {
          "output_type": "stream",
          "name": "stderr",
          "text": [
            "\rPredicting tiles:  17%|\u2588\u258b        | 43/253 [00:27<02:11,  1.59it/s]"
          ]
        },
        {
          "output_type": "stream",
          "name": "stderr",
          "text": [
            "\rPredicting tiles:  17%|\u2588\u258b        | 44/253 [00:27<02:11,  1.59it/s]"
          ]
        },
        {
          "output_type": "stream",
          "name": "stderr",
          "text": [
            "\rPredicting tiles:  18%|\u2588\u258a        | 45/253 [00:28<02:10,  1.59it/s]"
          ]
        },
        {
          "output_type": "stream",
          "name": "stderr",
          "text": [
            "\rPredicting tiles:  18%|\u2588\u258a        | 46/253 [00:29<02:10,  1.59it/s]"
          ]
        },
        {
          "output_type": "stream",
          "name": "stderr",
          "text": [
            "\rPredicting tiles:  19%|\u2588\u258a        | 47/253 [00:29<02:09,  1.59it/s]"
          ]
        },
        {
          "output_type": "stream",
          "name": "stderr",
          "text": [
            "\rPredicting tiles:  19%|\u2588\u2589        | 48/253 [00:30<02:08,  1.59it/s]"
          ]
        },
        {
          "output_type": "stream",
          "name": "stderr",
          "text": [
            "\rPredicting tiles:  19%|\u2588\u2589        | 49/253 [00:31<02:08,  1.59it/s]"
          ]
        },
        {
          "output_type": "stream",
          "name": "stderr",
          "text": [
            "\rPredicting tiles:  20%|\u2588\u2589        | 50/253 [00:31<02:07,  1.59it/s]"
          ]
        },
        {
          "output_type": "stream",
          "name": "stderr",
          "text": [
            "\rPredicting tiles:  20%|\u2588\u2588        | 51/253 [00:32<02:06,  1.59it/s]"
          ]
        },
        {
          "output_type": "stream",
          "name": "stderr",
          "text": [
            "\rPredicting tiles:  21%|\u2588\u2588        | 52/253 [00:32<02:06,  1.59it/s]"
          ]
        },
        {
          "output_type": "stream",
          "name": "stderr",
          "text": [
            "\rPredicting tiles:  21%|\u2588\u2588        | 53/253 [00:33<02:05,  1.59it/s]"
          ]
        },
        {
          "output_type": "stream",
          "name": "stderr",
          "text": [
            "\rPredicting tiles:  21%|\u2588\u2588\u258f       | 54/253 [00:34<02:05,  1.59it/s]"
          ]
        },
        {
          "output_type": "stream",
          "name": "stderr",
          "text": [
            "\rPredicting tiles:  22%|\u2588\u2588\u258f       | 55/253 [00:34<02:04,  1.59it/s]"
          ]
        },
        {
          "output_type": "stream",
          "name": "stderr",
          "text": [
            "\rPredicting tiles:  22%|\u2588\u2588\u258f       | 56/253 [00:35<02:03,  1.59it/s]"
          ]
        },
        {
          "output_type": "stream",
          "name": "stderr",
          "text": [
            "\rPredicting tiles:  23%|\u2588\u2588\u258e       | 57/253 [00:36<02:03,  1.59it/s]"
          ]
        },
        {
          "output_type": "stream",
          "name": "stderr",
          "text": [
            "\rPredicting tiles:  23%|\u2588\u2588\u258e       | 58/253 [00:36<02:02,  1.59it/s]"
          ]
        },
        {
          "output_type": "stream",
          "name": "stderr",
          "text": [
            "\rPredicting tiles:  23%|\u2588\u2588\u258e       | 59/253 [00:37<02:01,  1.59it/s]"
          ]
        },
        {
          "output_type": "stream",
          "name": "stderr",
          "text": [
            "\rPredicting tiles:  24%|\u2588\u2588\u258e       | 60/253 [00:37<02:01,  1.59it/s]"
          ]
        },
        {
          "output_type": "stream",
          "name": "stderr",
          "text": [
            "\rPredicting tiles:  24%|\u2588\u2588\u258d       | 61/253 [00:38<02:00,  1.59it/s]"
          ]
        },
        {
          "output_type": "stream",
          "name": "stderr",
          "text": [
            "\rPredicting tiles:  25%|\u2588\u2588\u258d       | 62/253 [00:39<02:00,  1.59it/s]"
          ]
        },
        {
          "output_type": "stream",
          "name": "stderr",
          "text": [
            "\rPredicting tiles:  25%|\u2588\u2588\u258d       | 63/253 [00:39<01:59,  1.59it/s]"
          ]
        },
        {
          "output_type": "stream",
          "name": "stderr",
          "text": [
            "\rPredicting tiles:  25%|\u2588\u2588\u258c       | 64/253 [00:40<01:58,  1.59it/s]"
          ]
        },
        {
          "output_type": "stream",
          "name": "stderr",
          "text": [
            "\rPredicting tiles:  26%|\u2588\u2588\u258c       | 65/253 [00:41<01:58,  1.59it/s]"
          ]
        },
        {
          "output_type": "stream",
          "name": "stderr",
          "text": [
            "\rPredicting tiles:  26%|\u2588\u2588\u258c       | 66/253 [00:41<01:57,  1.59it/s]"
          ]
        },
        {
          "output_type": "stream",
          "name": "stderr",
          "text": [
            "\rPredicting tiles:  26%|\u2588\u2588\u258b       | 67/253 [00:42<01:57,  1.59it/s]"
          ]
        },
        {
          "output_type": "stream",
          "name": "stderr",
          "text": [
            "\rPredicting tiles:  27%|\u2588\u2588\u258b       | 68/253 [00:42<01:56,  1.59it/s]"
          ]
        },
        {
          "output_type": "stream",
          "name": "stderr",
          "text": [
            "\rPredicting tiles:  27%|\u2588\u2588\u258b       | 69/253 [00:43<01:55,  1.59it/s]"
          ]
        },
        {
          "output_type": "stream",
          "name": "stderr",
          "text": [
            "\rPredicting tiles:  28%|\u2588\u2588\u258a       | 70/253 [00:44<01:55,  1.59it/s]"
          ]
        },
        {
          "output_type": "stream",
          "name": "stderr",
          "text": [
            "\rPredicting tiles:  28%|\u2588\u2588\u258a       | 71/253 [00:44<01:54,  1.59it/s]"
          ]
        },
        {
          "output_type": "stream",
          "name": "stderr",
          "text": [
            "\rPredicting tiles:  28%|\u2588\u2588\u258a       | 72/253 [00:45<01:53,  1.59it/s]"
          ]
        },
        {
          "output_type": "stream",
          "name": "stderr",
          "text": [
            "\rPredicting tiles:  29%|\u2588\u2588\u2589       | 73/253 [00:46<01:53,  1.59it/s]"
          ]
        },
        {
          "output_type": "stream",
          "name": "stderr",
          "text": [
            "\rPredicting tiles:  29%|\u2588\u2588\u2589       | 74/253 [00:46<01:52,  1.59it/s]"
          ]
        },
        {
          "output_type": "stream",
          "name": "stderr",
          "text": [
            "\rPredicting tiles:  30%|\u2588\u2588\u2589       | 75/253 [00:47<01:52,  1.59it/s]"
          ]
        },
        {
          "output_type": "stream",
          "name": "stderr",
          "text": [
            "\rPredicting tiles:  30%|\u2588\u2588\u2588       | 76/253 [00:48<01:51,  1.59it/s]"
          ]
        },
        {
          "output_type": "stream",
          "name": "stderr",
          "text": [
            "\rPredicting tiles:  30%|\u2588\u2588\u2588       | 77/253 [00:48<01:50,  1.59it/s]"
          ]
        },
        {
          "output_type": "stream",
          "name": "stderr",
          "text": [
            "\rPredicting tiles:  31%|\u2588\u2588\u2588       | 78/253 [00:49<01:50,  1.59it/s]"
          ]
        },
        {
          "output_type": "stream",
          "name": "stderr",
          "text": [
            "\rPredicting tiles:  31%|\u2588\u2588\u2588       | 79/253 [00:49<01:49,  1.59it/s]"
          ]
        },
        {
          "output_type": "stream",
          "name": "stderr",
          "text": [
            "\rPredicting tiles:  32%|\u2588\u2588\u2588\u258f      | 80/253 [00:50<01:48,  1.59it/s]"
          ]
        },
        {
          "output_type": "stream",
          "name": "stderr",
          "text": [
            "\rPredicting tiles:  32%|\u2588\u2588\u2588\u258f      | 81/253 [00:51<01:48,  1.59it/s]"
          ]
        },
        {
          "output_type": "stream",
          "name": "stderr",
          "text": [
            "\rPredicting tiles:  32%|\u2588\u2588\u2588\u258f      | 82/253 [00:51<01:47,  1.59it/s]"
          ]
        },
        {
          "output_type": "stream",
          "name": "stderr",
          "text": [
            "\rPredicting tiles:  33%|\u2588\u2588\u2588\u258e      | 83/253 [00:52<01:47,  1.59it/s]"
          ]
        },
        {
          "output_type": "stream",
          "name": "stderr",
          "text": [
            "\rPredicting tiles:  33%|\u2588\u2588\u2588\u258e      | 84/253 [00:53<01:46,  1.59it/s]"
          ]
        },
        {
          "output_type": "stream",
          "name": "stderr",
          "text": [
            "\rPredicting tiles:  34%|\u2588\u2588\u2588\u258e      | 85/253 [00:53<01:45,  1.59it/s]"
          ]
        },
        {
          "output_type": "stream",
          "name": "stderr",
          "text": [
            "\rPredicting tiles:  34%|\u2588\u2588\u2588\u258d      | 86/253 [00:54<01:45,  1.59it/s]"
          ]
        },
        {
          "output_type": "stream",
          "name": "stderr",
          "text": [
            "\rPredicting tiles:  34%|\u2588\u2588\u2588\u258d      | 87/253 [00:54<01:44,  1.59it/s]"
          ]
        },
        {
          "output_type": "stream",
          "name": "stderr",
          "text": [
            "\rPredicting tiles:  35%|\u2588\u2588\u2588\u258d      | 88/253 [00:55<01:43,  1.59it/s]"
          ]
        },
        {
          "output_type": "stream",
          "name": "stderr",
          "text": [
            "\rPredicting tiles:  35%|\u2588\u2588\u2588\u258c      | 89/253 [00:56<01:43,  1.59it/s]"
          ]
        },
        {
          "output_type": "stream",
          "name": "stderr",
          "text": [
            "\rPredicting tiles:  36%|\u2588\u2588\u2588\u258c      | 90/253 [00:56<01:42,  1.59it/s]"
          ]
        },
        {
          "output_type": "stream",
          "name": "stderr",
          "text": [
            "\rPredicting tiles:  36%|\u2588\u2588\u2588\u258c      | 91/253 [00:57<01:41,  1.59it/s]"
          ]
        },
        {
          "output_type": "stream",
          "name": "stderr",
          "text": [
            "\rPredicting tiles:  36%|\u2588\u2588\u2588\u258b      | 92/253 [00:58<01:41,  1.59it/s]"
          ]
        },
        {
          "output_type": "stream",
          "name": "stderr",
          "text": [
            "\rPredicting tiles:  37%|\u2588\u2588\u2588\u258b      | 93/253 [00:58<01:40,  1.59it/s]"
          ]
        },
        {
          "output_type": "stream",
          "name": "stderr",
          "text": [
            "\rPredicting tiles:  37%|\u2588\u2588\u2588\u258b      | 94/253 [00:59<01:39,  1.59it/s]"
          ]
        },
        {
          "output_type": "stream",
          "name": "stderr",
          "text": [
            "\rPredicting tiles:  38%|\u2588\u2588\u2588\u258a      | 95/253 [00:59<01:39,  1.59it/s]"
          ]
        },
        {
          "output_type": "stream",
          "name": "stderr",
          "text": [
            "\rPredicting tiles:  38%|\u2588\u2588\u2588\u258a      | 96/253 [01:00<01:38,  1.59it/s]"
          ]
        },
        {
          "output_type": "stream",
          "name": "stderr",
          "text": [
            "\rPredicting tiles:  38%|\u2588\u2588\u2588\u258a      | 97/253 [01:01<01:38,  1.59it/s]"
          ]
        },
        {
          "output_type": "stream",
          "name": "stderr",
          "text": [
            "\rPredicting tiles:  39%|\u2588\u2588\u2588\u258a      | 98/253 [01:01<01:37,  1.59it/s]"
          ]
        },
        {
          "output_type": "stream",
          "name": "stderr",
          "text": [
            "\rPredicting tiles:  39%|\u2588\u2588\u2588\u2589      | 99/253 [01:02<01:36,  1.59it/s]"
          ]
        },
        {
          "output_type": "stream",
          "name": "stderr",
          "text": [
            "\rPredicting tiles:  40%|\u2588\u2588\u2588\u2589      | 100/253 [01:03<01:36,  1.59it/s]"
          ]
        },
        {
          "output_type": "stream",
          "name": "stderr",
          "text": [
            "\rPredicting tiles:  40%|\u2588\u2588\u2588\u2589      | 101/253 [01:03<01:35,  1.59it/s]"
          ]
        },
        {
          "output_type": "stream",
          "name": "stderr",
          "text": [
            "\rPredicting tiles:  40%|\u2588\u2588\u2588\u2588      | 102/253 [01:04<01:35,  1.59it/s]"
          ]
        },
        {
          "output_type": "stream",
          "name": "stderr",
          "text": [
            "\rPredicting tiles:  41%|\u2588\u2588\u2588\u2588      | 103/253 [01:05<01:34,  1.59it/s]"
          ]
        },
        {
          "output_type": "stream",
          "name": "stderr",
          "text": [
            "\rPredicting tiles:  41%|\u2588\u2588\u2588\u2588      | 104/253 [01:05<01:33,  1.59it/s]"
          ]
        },
        {
          "output_type": "stream",
          "name": "stderr",
          "text": [
            "\rPredicting tiles:  42%|\u2588\u2588\u2588\u2588\u258f     | 105/253 [01:06<01:33,  1.59it/s]"
          ]
        },
        {
          "output_type": "stream",
          "name": "stderr",
          "text": [
            "\rPredicting tiles:  42%|\u2588\u2588\u2588\u2588\u258f     | 106/253 [01:06<01:32,  1.59it/s]"
          ]
        },
        {
          "output_type": "stream",
          "name": "stderr",
          "text": [
            "\rPredicting tiles:  42%|\u2588\u2588\u2588\u2588\u258f     | 107/253 [01:07<01:32,  1.59it/s]"
          ]
        },
        {
          "output_type": "stream",
          "name": "stderr",
          "text": [
            "\rPredicting tiles:  43%|\u2588\u2588\u2588\u2588\u258e     | 108/253 [01:08<01:31,  1.59it/s]"
          ]
        },
        {
          "output_type": "stream",
          "name": "stderr",
          "text": [
            "\rPredicting tiles:  43%|\u2588\u2588\u2588\u2588\u258e     | 109/253 [01:08<01:30,  1.59it/s]"
          ]
        },
        {
          "output_type": "stream",
          "name": "stderr",
          "text": [
            "\rPredicting tiles:  43%|\u2588\u2588\u2588\u2588\u258e     | 110/253 [01:09<01:30,  1.59it/s]"
          ]
        },
        {
          "output_type": "stream",
          "name": "stderr",
          "text": [
            "\rPredicting tiles:  44%|\u2588\u2588\u2588\u2588\u258d     | 111/253 [01:10<01:29,  1.59it/s]"
          ]
        },
        {
          "output_type": "stream",
          "name": "stderr",
          "text": [
            "\rPredicting tiles:  44%|\u2588\u2588\u2588\u2588\u258d     | 112/253 [01:10<01:28,  1.59it/s]"
          ]
        },
        {
          "output_type": "stream",
          "name": "stderr",
          "text": [
            "\rPredicting tiles:  45%|\u2588\u2588\u2588\u2588\u258d     | 113/253 [01:11<01:28,  1.58it/s]"
          ]
        },
        {
          "output_type": "stream",
          "name": "stderr",
          "text": [
            "\rPredicting tiles:  45%|\u2588\u2588\u2588\u2588\u258c     | 114/253 [01:11<01:27,  1.59it/s]"
          ]
        },
        {
          "output_type": "stream",
          "name": "stderr",
          "text": [
            "\rPredicting tiles:  45%|\u2588\u2588\u2588\u2588\u258c     | 115/253 [01:12<01:27,  1.58it/s]"
          ]
        },
        {
          "output_type": "stream",
          "name": "stderr",
          "text": [
            "\rPredicting tiles:  46%|\u2588\u2588\u2588\u2588\u258c     | 116/253 [01:13<01:26,  1.58it/s]"
          ]
        },
        {
          "output_type": "stream",
          "name": "stderr",
          "text": [
            "\rPredicting tiles:  46%|\u2588\u2588\u2588\u2588\u258c     | 117/253 [01:13<01:25,  1.59it/s]"
          ]
        },
        {
          "output_type": "stream",
          "name": "stderr",
          "text": [
            "\rPredicting tiles:  47%|\u2588\u2588\u2588\u2588\u258b     | 118/253 [01:14<01:25,  1.58it/s]"
          ]
        },
        {
          "output_type": "stream",
          "name": "stderr",
          "text": [
            "\rPredicting tiles:  47%|\u2588\u2588\u2588\u2588\u258b     | 119/253 [01:15<01:24,  1.59it/s]"
          ]
        },
        {
          "output_type": "stream",
          "name": "stderr",
          "text": [
            "\rPredicting tiles:  47%|\u2588\u2588\u2588\u2588\u258b     | 120/253 [01:15<01:23,  1.58it/s]"
          ]
        },
        {
          "output_type": "stream",
          "name": "stderr",
          "text": [
            "\rPredicting tiles:  48%|\u2588\u2588\u2588\u2588\u258a     | 121/253 [01:16<01:23,  1.58it/s]"
          ]
        },
        {
          "output_type": "stream",
          "name": "stderr",
          "text": [
            "\rPredicting tiles:  48%|\u2588\u2588\u2588\u2588\u258a     | 122/253 [01:17<01:22,  1.58it/s]"
          ]
        },
        {
          "output_type": "stream",
          "name": "stderr",
          "text": [
            "\rPredicting tiles:  49%|\u2588\u2588\u2588\u2588\u258a     | 123/253 [01:17<01:22,  1.58it/s]"
          ]
        },
        {
          "output_type": "stream",
          "name": "stderr",
          "text": [
            "\rPredicting tiles:  49%|\u2588\u2588\u2588\u2588\u2589     | 124/253 [01:18<01:21,  1.58it/s]"
          ]
        },
        {
          "output_type": "stream",
          "name": "stderr",
          "text": [
            "\rPredicting tiles:  49%|\u2588\u2588\u2588\u2588\u2589     | 125/253 [01:18<01:20,  1.58it/s]"
          ]
        },
        {
          "output_type": "stream",
          "name": "stderr",
          "text": [
            "\rPredicting tiles:  50%|\u2588\u2588\u2588\u2588\u2589     | 126/253 [01:19<01:20,  1.58it/s]"
          ]
        },
        {
          "output_type": "stream",
          "name": "stderr",
          "text": [
            "\rPredicting tiles:  50%|\u2588\u2588\u2588\u2588\u2588     | 127/253 [01:20<01:19,  1.58it/s]"
          ]
        },
        {
          "output_type": "stream",
          "name": "stderr",
          "text": [
            "\rPredicting tiles:  51%|\u2588\u2588\u2588\u2588\u2588     | 128/253 [01:20<01:18,  1.58it/s]"
          ]
        },
        {
          "output_type": "stream",
          "name": "stderr",
          "text": [
            "\rPredicting tiles:  51%|\u2588\u2588\u2588\u2588\u2588     | 129/253 [01:21<01:18,  1.58it/s]"
          ]
        },
        {
          "output_type": "stream",
          "name": "stderr",
          "text": [
            "\rPredicting tiles:  51%|\u2588\u2588\u2588\u2588\u2588\u258f    | 130/253 [01:22<01:17,  1.58it/s]"
          ]
        },
        {
          "output_type": "stream",
          "name": "stderr",
          "text": [
            "\rPredicting tiles:  52%|\u2588\u2588\u2588\u2588\u2588\u258f    | 131/253 [01:22<01:17,  1.58it/s]"
          ]
        },
        {
          "output_type": "stream",
          "name": "stderr",
          "text": [
            "\rPredicting tiles:  52%|\u2588\u2588\u2588\u2588\u2588\u258f    | 132/253 [01:23<01:16,  1.58it/s]"
          ]
        },
        {
          "output_type": "stream",
          "name": "stderr",
          "text": [
            "\rPredicting tiles:  53%|\u2588\u2588\u2588\u2588\u2588\u258e    | 133/253 [01:23<01:15,  1.58it/s]"
          ]
        },
        {
          "output_type": "stream",
          "name": "stderr",
          "text": [
            "\rPredicting tiles:  53%|\u2588\u2588\u2588\u2588\u2588\u258e    | 134/253 [01:24<01:15,  1.58it/s]"
          ]
        },
        {
          "output_type": "stream",
          "name": "stderr",
          "text": [
            "\rPredicting tiles:  53%|\u2588\u2588\u2588\u2588\u2588\u258e    | 135/253 [01:25<01:14,  1.58it/s]"
          ]
        },
        {
          "output_type": "stream",
          "name": "stderr",
          "text": [
            "\rPredicting tiles:  54%|\u2588\u2588\u2588\u2588\u2588\u258d    | 136/253 [01:25<01:13,  1.58it/s]"
          ]
        },
        {
          "output_type": "stream",
          "name": "stderr",
          "text": [
            "\rPredicting tiles:  54%|\u2588\u2588\u2588\u2588\u2588\u258d    | 137/253 [01:26<01:13,  1.58it/s]"
          ]
        },
        {
          "output_type": "stream",
          "name": "stderr",
          "text": [
            "\rPredicting tiles:  55%|\u2588\u2588\u2588\u2588\u2588\u258d    | 138/253 [01:27<01:12,  1.58it/s]"
          ]
        },
        {
          "output_type": "stream",
          "name": "stderr",
          "text": [
            "\rPredicting tiles:  55%|\u2588\u2588\u2588\u2588\u2588\u258d    | 139/253 [01:27<01:12,  1.58it/s]"
          ]
        },
        {
          "output_type": "stream",
          "name": "stderr",
          "text": [
            "\rPredicting tiles:  55%|\u2588\u2588\u2588\u2588\u2588\u258c    | 140/253 [01:28<01:11,  1.58it/s]"
          ]
        },
        {
          "output_type": "stream",
          "name": "stderr",
          "text": [
            "\rPredicting tiles:  56%|\u2588\u2588\u2588\u2588\u2588\u258c    | 141/253 [01:29<01:10,  1.58it/s]"
          ]
        },
        {
          "output_type": "stream",
          "name": "stderr",
          "text": [
            "\rPredicting tiles:  56%|\u2588\u2588\u2588\u2588\u2588\u258c    | 142/253 [01:29<01:10,  1.58it/s]"
          ]
        },
        {
          "output_type": "stream",
          "name": "stderr",
          "text": [
            "\rPredicting tiles:  57%|\u2588\u2588\u2588\u2588\u2588\u258b    | 143/253 [01:30<01:09,  1.58it/s]"
          ]
        },
        {
          "output_type": "stream",
          "name": "stderr",
          "text": [
            "\rPredicting tiles:  57%|\u2588\u2588\u2588\u2588\u2588\u258b    | 144/253 [01:30<01:08,  1.58it/s]"
          ]
        },
        {
          "output_type": "stream",
          "name": "stderr",
          "text": [
            "\rPredicting tiles:  57%|\u2588\u2588\u2588\u2588\u2588\u258b    | 145/253 [01:31<01:08,  1.58it/s]"
          ]
        },
        {
          "output_type": "stream",
          "name": "stderr",
          "text": [
            "\rPredicting tiles:  58%|\u2588\u2588\u2588\u2588\u2588\u258a    | 146/253 [01:32<01:07,  1.58it/s]"
          ]
        },
        {
          "output_type": "stream",
          "name": "stderr",
          "text": [
            "\rPredicting tiles:  58%|\u2588\u2588\u2588\u2588\u2588\u258a    | 147/253 [01:32<01:07,  1.58it/s]"
          ]
        },
        {
          "output_type": "stream",
          "name": "stderr",
          "text": [
            "\rPredicting tiles:  58%|\u2588\u2588\u2588\u2588\u2588\u258a    | 148/253 [01:33<01:06,  1.58it/s]"
          ]
        },
        {
          "output_type": "stream",
          "name": "stderr",
          "text": [
            "\rPredicting tiles:  59%|\u2588\u2588\u2588\u2588\u2588\u2589    | 149/253 [01:34<01:05,  1.58it/s]"
          ]
        },
        {
          "output_type": "stream",
          "name": "stderr",
          "text": [
            "\rPredicting tiles:  59%|\u2588\u2588\u2588\u2588\u2588\u2589    | 150/253 [01:34<01:05,  1.58it/s]"
          ]
        },
        {
          "output_type": "stream",
          "name": "stderr",
          "text": [
            "\rPredicting tiles:  60%|\u2588\u2588\u2588\u2588\u2588\u2589    | 151/253 [01:35<01:04,  1.58it/s]"
          ]
        },
        {
          "output_type": "stream",
          "name": "stderr",
          "text": [
            "\rPredicting tiles:  60%|\u2588\u2588\u2588\u2588\u2588\u2588    | 152/253 [01:35<01:03,  1.58it/s]"
          ]
        },
        {
          "output_type": "stream",
          "name": "stderr",
          "text": [
            "\rPredicting tiles:  60%|\u2588\u2588\u2588\u2588\u2588\u2588    | 153/253 [01:36<01:03,  1.58it/s]"
          ]
        },
        {
          "output_type": "stream",
          "name": "stderr",
          "text": [
            "\rPredicting tiles:  61%|\u2588\u2588\u2588\u2588\u2588\u2588    | 154/253 [01:37<01:02,  1.58it/s]"
          ]
        },
        {
          "output_type": "stream",
          "name": "stderr",
          "text": [
            "\rPredicting tiles:  61%|\u2588\u2588\u2588\u2588\u2588\u2588\u258f   | 155/253 [01:37<01:02,  1.58it/s]"
          ]
        },
        {
          "output_type": "stream",
          "name": "stderr",
          "text": [
            "\rPredicting tiles:  62%|\u2588\u2588\u2588\u2588\u2588\u2588\u258f   | 156/253 [01:38<01:01,  1.58it/s]"
          ]
        },
        {
          "output_type": "stream",
          "name": "stderr",
          "text": [
            "\rPredicting tiles:  62%|\u2588\u2588\u2588\u2588\u2588\u2588\u258f   | 157/253 [01:39<01:00,  1.58it/s]"
          ]
        },
        {
          "output_type": "stream",
          "name": "stderr",
          "text": [
            "\rPredicting tiles:  62%|\u2588\u2588\u2588\u2588\u2588\u2588\u258f   | 158/253 [01:39<01:00,  1.58it/s]"
          ]
        },
        {
          "output_type": "stream",
          "name": "stderr",
          "text": [
            "\rPredicting tiles:  63%|\u2588\u2588\u2588\u2588\u2588\u2588\u258e   | 159/253 [01:40<00:59,  1.58it/s]"
          ]
        },
        {
          "output_type": "stream",
          "name": "stderr",
          "text": [
            "\rPredicting tiles:  63%|\u2588\u2588\u2588\u2588\u2588\u2588\u258e   | 160/253 [01:41<00:58,  1.58it/s]"
          ]
        },
        {
          "output_type": "stream",
          "name": "stderr",
          "text": [
            "\rPredicting tiles:  64%|\u2588\u2588\u2588\u2588\u2588\u2588\u258e   | 161/253 [01:41<00:58,  1.58it/s]"
          ]
        },
        {
          "output_type": "stream",
          "name": "stderr",
          "text": [
            "\rPredicting tiles:  64%|\u2588\u2588\u2588\u2588\u2588\u2588\u258d   | 162/253 [01:42<00:57,  1.58it/s]"
          ]
        },
        {
          "output_type": "stream",
          "name": "stderr",
          "text": [
            "\rPredicting tiles:  64%|\u2588\u2588\u2588\u2588\u2588\u2588\u258d   | 163/253 [01:42<00:57,  1.58it/s]"
          ]
        },
        {
          "output_type": "stream",
          "name": "stderr",
          "text": [
            "\rPredicting tiles:  65%|\u2588\u2588\u2588\u2588\u2588\u2588\u258d   | 164/253 [01:43<00:56,  1.58it/s]"
          ]
        },
        {
          "output_type": "stream",
          "name": "stderr",
          "text": [
            "\rPredicting tiles:  65%|\u2588\u2588\u2588\u2588\u2588\u2588\u258c   | 165/253 [01:44<00:55,  1.58it/s]"
          ]
        },
        {
          "output_type": "stream",
          "name": "stderr",
          "text": [
            "\rPredicting tiles:  66%|\u2588\u2588\u2588\u2588\u2588\u2588\u258c   | 166/253 [01:44<00:55,  1.58it/s]"
          ]
        },
        {
          "output_type": "stream",
          "name": "stderr",
          "text": [
            "\rPredicting tiles:  66%|\u2588\u2588\u2588\u2588\u2588\u2588\u258c   | 167/253 [01:45<00:54,  1.58it/s]"
          ]
        },
        {
          "output_type": "stream",
          "name": "stderr",
          "text": [
            "\rPredicting tiles:  66%|\u2588\u2588\u2588\u2588\u2588\u2588\u258b   | 168/253 [01:46<00:53,  1.58it/s]"
          ]
        },
        {
          "output_type": "stream",
          "name": "stderr",
          "text": [
            "\rPredicting tiles:  67%|\u2588\u2588\u2588\u2588\u2588\u2588\u258b   | 169/253 [01:46<00:53,  1.58it/s]"
          ]
        },
        {
          "output_type": "stream",
          "name": "stderr",
          "text": [
            "\rPredicting tiles:  67%|\u2588\u2588\u2588\u2588\u2588\u2588\u258b   | 170/253 [01:47<00:52,  1.58it/s]"
          ]
        },
        {
          "output_type": "stream",
          "name": "stderr",
          "text": [
            "\rPredicting tiles:  68%|\u2588\u2588\u2588\u2588\u2588\u2588\u258a   | 171/253 [01:48<00:51,  1.58it/s]"
          ]
        },
        {
          "output_type": "stream",
          "name": "stderr",
          "text": [
            "\rPredicting tiles:  68%|\u2588\u2588\u2588\u2588\u2588\u2588\u258a   | 172/253 [01:48<00:51,  1.58it/s]"
          ]
        },
        {
          "output_type": "stream",
          "name": "stderr",
          "text": [
            "\rPredicting tiles:  68%|\u2588\u2588\u2588\u2588\u2588\u2588\u258a   | 173/253 [01:49<00:50,  1.58it/s]"
          ]
        },
        {
          "output_type": "stream",
          "name": "stderr",
          "text": [
            "\rPredicting tiles:  69%|\u2588\u2588\u2588\u2588\u2588\u2588\u2589   | 174/253 [01:49<00:50,  1.58it/s]"
          ]
        },
        {
          "output_type": "stream",
          "name": "stderr",
          "text": [
            "\rPredicting tiles:  69%|\u2588\u2588\u2588\u2588\u2588\u2588\u2589   | 175/253 [01:50<00:49,  1.58it/s]"
          ]
        },
        {
          "output_type": "stream",
          "name": "stderr",
          "text": [
            "\rPredicting tiles:  70%|\u2588\u2588\u2588\u2588\u2588\u2588\u2589   | 176/253 [01:51<00:48,  1.58it/s]"
          ]
        },
        {
          "output_type": "stream",
          "name": "stderr",
          "text": [
            "\rPredicting tiles:  70%|\u2588\u2588\u2588\u2588\u2588\u2588\u2589   | 177/253 [01:51<00:48,  1.58it/s]"
          ]
        },
        {
          "output_type": "stream",
          "name": "stderr",
          "text": [
            "\rPredicting tiles:  70%|\u2588\u2588\u2588\u2588\u2588\u2588\u2588   | 178/253 [01:52<00:47,  1.58it/s]"
          ]
        },
        {
          "output_type": "stream",
          "name": "stderr",
          "text": [
            "\rPredicting tiles:  71%|\u2588\u2588\u2588\u2588\u2588\u2588\u2588   | 179/253 [01:53<00:46,  1.58it/s]"
          ]
        },
        {
          "output_type": "stream",
          "name": "stderr",
          "text": [
            "\rPredicting tiles:  71%|\u2588\u2588\u2588\u2588\u2588\u2588\u2588   | 180/253 [01:53<00:46,  1.58it/s]"
          ]
        },
        {
          "output_type": "stream",
          "name": "stderr",
          "text": [
            "\rPredicting tiles:  72%|\u2588\u2588\u2588\u2588\u2588\u2588\u2588\u258f  | 181/253 [01:54<00:45,  1.58it/s]"
          ]
        },
        {
          "output_type": "stream",
          "name": "stderr",
          "text": [
            "\rPredicting tiles:  72%|\u2588\u2588\u2588\u2588\u2588\u2588\u2588\u258f  | 182/253 [01:54<00:44,  1.58it/s]"
          ]
        },
        {
          "output_type": "stream",
          "name": "stderr",
          "text": [
            "\rPredicting tiles:  72%|\u2588\u2588\u2588\u2588\u2588\u2588\u2588\u258f  | 183/253 [01:55<00:44,  1.58it/s]"
          ]
        },
        {
          "output_type": "stream",
          "name": "stderr",
          "text": [
            "\rPredicting tiles:  73%|\u2588\u2588\u2588\u2588\u2588\u2588\u2588\u258e  | 184/253 [01:56<00:43,  1.58it/s]"
          ]
        },
        {
          "output_type": "stream",
          "name": "stderr",
          "text": [
            "\rPredicting tiles:  73%|\u2588\u2588\u2588\u2588\u2588\u2588\u2588\u258e  | 185/253 [01:56<00:43,  1.58it/s]"
          ]
        },
        {
          "output_type": "stream",
          "name": "stderr",
          "text": [
            "\rPredicting tiles:  74%|\u2588\u2588\u2588\u2588\u2588\u2588\u2588\u258e  | 186/253 [01:57<00:42,  1.58it/s]"
          ]
        },
        {
          "output_type": "stream",
          "name": "stderr",
          "text": [
            "\rPredicting tiles:  74%|\u2588\u2588\u2588\u2588\u2588\u2588\u2588\u258d  | 187/253 [01:58<00:41,  1.58it/s]"
          ]
        },
        {
          "output_type": "stream",
          "name": "stderr",
          "text": [
            "\rPredicting tiles:  74%|\u2588\u2588\u2588\u2588\u2588\u2588\u2588\u258d  | 188/253 [01:58<00:41,  1.58it/s]"
          ]
        },
        {
          "output_type": "stream",
          "name": "stderr",
          "text": [
            "\rPredicting tiles:  75%|\u2588\u2588\u2588\u2588\u2588\u2588\u2588\u258d  | 189/253 [01:59<00:40,  1.58it/s]"
          ]
        },
        {
          "output_type": "stream",
          "name": "stderr",
          "text": [
            "\rPredicting tiles:  75%|\u2588\u2588\u2588\u2588\u2588\u2588\u2588\u258c  | 190/253 [02:00<00:39,  1.58it/s]"
          ]
        },
        {
          "output_type": "stream",
          "name": "stderr",
          "text": [
            "\rPredicting tiles:  75%|\u2588\u2588\u2588\u2588\u2588\u2588\u2588\u258c  | 191/253 [02:00<00:39,  1.58it/s]"
          ]
        },
        {
          "output_type": "stream",
          "name": "stderr",
          "text": [
            "\rPredicting tiles:  76%|\u2588\u2588\u2588\u2588\u2588\u2588\u2588\u258c  | 192/253 [02:01<00:38,  1.58it/s]"
          ]
        },
        {
          "output_type": "stream",
          "name": "stderr",
          "text": [
            "\rPredicting tiles:  76%|\u2588\u2588\u2588\u2588\u2588\u2588\u2588\u258b  | 193/253 [02:01<00:38,  1.58it/s]"
          ]
        },
        {
          "output_type": "stream",
          "name": "stderr",
          "text": [
            "\rPredicting tiles:  77%|\u2588\u2588\u2588\u2588\u2588\u2588\u2588\u258b  | 194/253 [02:02<00:37,  1.58it/s]"
          ]
        },
        {
          "output_type": "stream",
          "name": "stderr",
          "text": [
            "\rPredicting tiles:  77%|\u2588\u2588\u2588\u2588\u2588\u2588\u2588\u258b  | 195/253 [02:03<00:36,  1.58it/s]"
          ]
        },
        {
          "output_type": "stream",
          "name": "stderr",
          "text": [
            "\rPredicting tiles:  77%|\u2588\u2588\u2588\u2588\u2588\u2588\u2588\u258b  | 196/253 [02:03<00:36,  1.58it/s]"
          ]
        },
        {
          "output_type": "stream",
          "name": "stderr",
          "text": [
            "\rPredicting tiles:  78%|\u2588\u2588\u2588\u2588\u2588\u2588\u2588\u258a  | 197/253 [02:04<00:35,  1.58it/s]"
          ]
        },
        {
          "output_type": "stream",
          "name": "stderr",
          "text": [
            "\rPredicting tiles:  78%|\u2588\u2588\u2588\u2588\u2588\u2588\u2588\u258a  | 198/253 [02:05<00:34,  1.58it/s]"
          ]
        },
        {
          "output_type": "stream",
          "name": "stderr",
          "text": [
            "\rPredicting tiles:  79%|\u2588\u2588\u2588\u2588\u2588\u2588\u2588\u258a  | 199/253 [02:05<00:34,  1.58it/s]"
          ]
        },
        {
          "output_type": "stream",
          "name": "stderr",
          "text": [
            "\rPredicting tiles:  79%|\u2588\u2588\u2588\u2588\u2588\u2588\u2588\u2589  | 200/253 [02:06<00:33,  1.58it/s]"
          ]
        },
        {
          "output_type": "stream",
          "name": "stderr",
          "text": [
            "\rPredicting tiles:  79%|\u2588\u2588\u2588\u2588\u2588\u2588\u2588\u2589  | 201/253 [02:07<00:32,  1.58it/s]"
          ]
        },
        {
          "output_type": "stream",
          "name": "stderr",
          "text": [
            "\rPredicting tiles:  80%|\u2588\u2588\u2588\u2588\u2588\u2588\u2588\u2589  | 202/253 [02:07<00:32,  1.58it/s]"
          ]
        },
        {
          "output_type": "stream",
          "name": "stderr",
          "text": [
            "\rPredicting tiles:  80%|\u2588\u2588\u2588\u2588\u2588\u2588\u2588\u2588  | 203/253 [02:08<00:31,  1.58it/s]"
          ]
        },
        {
          "output_type": "stream",
          "name": "stderr",
          "text": [
            "\rPredicting tiles:  81%|\u2588\u2588\u2588\u2588\u2588\u2588\u2588\u2588  | 204/253 [02:08<00:31,  1.58it/s]"
          ]
        },
        {
          "output_type": "stream",
          "name": "stderr",
          "text": [
            "\rPredicting tiles:  81%|\u2588\u2588\u2588\u2588\u2588\u2588\u2588\u2588  | 205/253 [02:09<00:30,  1.57it/s]"
          ]
        },
        {
          "output_type": "stream",
          "name": "stderr",
          "text": [
            "\rPredicting tiles:  81%|\u2588\u2588\u2588\u2588\u2588\u2588\u2588\u2588\u258f | 206/253 [02:10<00:29,  1.58it/s]"
          ]
        },
        {
          "output_type": "stream",
          "name": "stderr",
          "text": [
            "\rPredicting tiles:  82%|\u2588\u2588\u2588\u2588\u2588\u2588\u2588\u2588\u258f | 207/253 [02:10<00:29,  1.57it/s]"
          ]
        },
        {
          "output_type": "stream",
          "name": "stderr",
          "text": [
            "\rPredicting tiles:  82%|\u2588\u2588\u2588\u2588\u2588\u2588\u2588\u2588\u258f | 208/253 [02:11<00:28,  1.57it/s]"
          ]
        },
        {
          "output_type": "stream",
          "name": "stderr",
          "text": [
            "\rPredicting tiles:  83%|\u2588\u2588\u2588\u2588\u2588\u2588\u2588\u2588\u258e | 209/253 [02:12<00:27,  1.57it/s]"
          ]
        },
        {
          "output_type": "stream",
          "name": "stderr",
          "text": [
            "\rPredicting tiles:  83%|\u2588\u2588\u2588\u2588\u2588\u2588\u2588\u2588\u258e | 210/253 [02:12<00:27,  1.57it/s]"
          ]
        },
        {
          "output_type": "stream",
          "name": "stderr",
          "text": [
            "\rPredicting tiles:  83%|\u2588\u2588\u2588\u2588\u2588\u2588\u2588\u2588\u258e | 211/253 [02:13<00:26,  1.57it/s]"
          ]
        },
        {
          "output_type": "stream",
          "name": "stderr",
          "text": [
            "\rPredicting tiles:  84%|\u2588\u2588\u2588\u2588\u2588\u2588\u2588\u2588\u258d | 212/253 [02:14<00:26,  1.57it/s]"
          ]
        },
        {
          "output_type": "stream",
          "name": "stderr",
          "text": [
            "\rPredicting tiles:  84%|\u2588\u2588\u2588\u2588\u2588\u2588\u2588\u2588\u258d | 213/253 [02:14<00:25,  1.57it/s]"
          ]
        },
        {
          "output_type": "stream",
          "name": "stderr",
          "text": [
            "\rPredicting tiles:  85%|\u2588\u2588\u2588\u2588\u2588\u2588\u2588\u2588\u258d | 214/253 [02:15<00:24,  1.57it/s]"
          ]
        },
        {
          "output_type": "stream",
          "name": "stderr",
          "text": [
            "\rPredicting tiles:  85%|\u2588\u2588\u2588\u2588\u2588\u2588\u2588\u2588\u258d | 215/253 [02:15<00:24,  1.57it/s]"
          ]
        },
        {
          "output_type": "stream",
          "name": "stderr",
          "text": [
            "\rPredicting tiles:  85%|\u2588\u2588\u2588\u2588\u2588\u2588\u2588\u2588\u258c | 216/253 [02:16<00:23,  1.57it/s]"
          ]
        },
        {
          "output_type": "stream",
          "name": "stderr",
          "text": [
            "\rPredicting tiles:  86%|\u2588\u2588\u2588\u2588\u2588\u2588\u2588\u2588\u258c | 217/253 [02:17<00:22,  1.57it/s]"
          ]
        },
        {
          "output_type": "stream",
          "name": "stderr",
          "text": [
            "\rPredicting tiles:  86%|\u2588\u2588\u2588\u2588\u2588\u2588\u2588\u2588\u258c | 218/253 [02:17<00:22,  1.57it/s]"
          ]
        },
        {
          "output_type": "stream",
          "name": "stderr",
          "text": [
            "\rPredicting tiles:  87%|\u2588\u2588\u2588\u2588\u2588\u2588\u2588\u2588\u258b | 219/253 [02:18<00:21,  1.57it/s]"
          ]
        },
        {
          "output_type": "stream",
          "name": "stderr",
          "text": [
            "\rPredicting tiles:  87%|\u2588\u2588\u2588\u2588\u2588\u2588\u2588\u2588\u258b | 220/253 [02:19<00:20,  1.57it/s]"
          ]
        },
        {
          "output_type": "stream",
          "name": "stderr",
          "text": [
            "\rPredicting tiles:  87%|\u2588\u2588\u2588\u2588\u2588\u2588\u2588\u2588\u258b | 221/253 [02:19<00:20,  1.57it/s]"
          ]
        },
        {
          "output_type": "stream",
          "name": "stderr",
          "text": [
            "\rPredicting tiles:  88%|\u2588\u2588\u2588\u2588\u2588\u2588\u2588\u2588\u258a | 222/253 [02:20<00:19,  1.57it/s]"
          ]
        },
        {
          "output_type": "stream",
          "name": "stderr",
          "text": [
            "\rPredicting tiles:  88%|\u2588\u2588\u2588\u2588\u2588\u2588\u2588\u2588\u258a | 223/253 [02:21<00:19,  1.57it/s]"
          ]
        },
        {
          "output_type": "stream",
          "name": "stderr",
          "text": [
            "\rPredicting tiles:  89%|\u2588\u2588\u2588\u2588\u2588\u2588\u2588\u2588\u258a | 224/253 [02:21<00:18,  1.57it/s]"
          ]
        },
        {
          "output_type": "stream",
          "name": "stderr",
          "text": [
            "\rPredicting tiles:  89%|\u2588\u2588\u2588\u2588\u2588\u2588\u2588\u2588\u2589 | 225/253 [02:22<00:17,  1.57it/s]"
          ]
        },
        {
          "output_type": "stream",
          "name": "stderr",
          "text": [
            "\rPredicting tiles:  89%|\u2588\u2588\u2588\u2588\u2588\u2588\u2588\u2588\u2589 | 226/253 [02:22<00:17,  1.57it/s]"
          ]
        },
        {
          "output_type": "stream",
          "name": "stderr",
          "text": [
            "\rPredicting tiles:  90%|\u2588\u2588\u2588\u2588\u2588\u2588\u2588\u2588\u2589 | 227/253 [02:23<00:16,  1.57it/s]"
          ]
        },
        {
          "output_type": "stream",
          "name": "stderr",
          "text": [
            "\rPredicting tiles:  90%|\u2588\u2588\u2588\u2588\u2588\u2588\u2588\u2588\u2588 | 228/253 [02:24<00:15,  1.57it/s]"
          ]
        },
        {
          "output_type": "stream",
          "name": "stderr",
          "text": [
            "\rPredicting tiles:  91%|\u2588\u2588\u2588\u2588\u2588\u2588\u2588\u2588\u2588 | 229/253 [02:24<00:15,  1.57it/s]"
          ]
        },
        {
          "output_type": "stream",
          "name": "stderr",
          "text": [
            "\rPredicting tiles:  91%|\u2588\u2588\u2588\u2588\u2588\u2588\u2588\u2588\u2588 | 230/253 [02:25<00:14,  1.57it/s]"
          ]
        },
        {
          "output_type": "stream",
          "name": "stderr",
          "text": [
            "\rPredicting tiles:  91%|\u2588\u2588\u2588\u2588\u2588\u2588\u2588\u2588\u2588\u258f| 231/253 [02:26<00:13,  1.57it/s]"
          ]
        },
        {
          "output_type": "stream",
          "name": "stderr",
          "text": [
            "\rPredicting tiles:  92%|\u2588\u2588\u2588\u2588\u2588\u2588\u2588\u2588\u2588\u258f| 232/253 [02:26<00:13,  1.57it/s]"
          ]
        },
        {
          "output_type": "stream",
          "name": "stderr",
          "text": [
            "\rPredicting tiles:  92%|\u2588\u2588\u2588\u2588\u2588\u2588\u2588\u2588\u2588\u258f| 233/253 [02:27<00:12,  1.57it/s]"
          ]
        },
        {
          "output_type": "stream",
          "name": "stderr",
          "text": [
            "\rPredicting tiles:  92%|\u2588\u2588\u2588\u2588\u2588\u2588\u2588\u2588\u2588\u258f| 234/253 [02:28<00:12,  1.57it/s]"
          ]
        },
        {
          "output_type": "stream",
          "name": "stderr",
          "text": [
            "\rPredicting tiles:  93%|\u2588\u2588\u2588\u2588\u2588\u2588\u2588\u2588\u2588\u258e| 235/253 [02:28<00:11,  1.57it/s]"
          ]
        },
        {
          "output_type": "stream",
          "name": "stderr",
          "text": [
            "\rPredicting tiles:  93%|\u2588\u2588\u2588\u2588\u2588\u2588\u2588\u2588\u2588\u258e| 236/253 [02:29<00:10,  1.57it/s]"
          ]
        },
        {
          "output_type": "stream",
          "name": "stderr",
          "text": [
            "\rPredicting tiles:  94%|\u2588\u2588\u2588\u2588\u2588\u2588\u2588\u2588\u2588\u258e| 237/253 [02:29<00:10,  1.57it/s]"
          ]
        },
        {
          "output_type": "stream",
          "name": "stderr",
          "text": [
            "\rPredicting tiles:  94%|\u2588\u2588\u2588\u2588\u2588\u2588\u2588\u2588\u2588\u258d| 238/253 [02:30<00:09,  1.57it/s]"
          ]
        },
        {
          "output_type": "stream",
          "name": "stderr",
          "text": [
            "\rPredicting tiles:  94%|\u2588\u2588\u2588\u2588\u2588\u2588\u2588\u2588\u2588\u258d| 239/253 [02:31<00:08,  1.57it/s]"
          ]
        },
        {
          "output_type": "stream",
          "name": "stderr",
          "text": [
            "\rPredicting tiles:  95%|\u2588\u2588\u2588\u2588\u2588\u2588\u2588\u2588\u2588\u258d| 240/253 [02:31<00:08,  1.57it/s]"
          ]
        },
        {
          "output_type": "stream",
          "name": "stderr",
          "text": [
            "\rPredicting tiles:  95%|\u2588\u2588\u2588\u2588\u2588\u2588\u2588\u2588\u2588\u258c| 241/253 [02:32<00:07,  1.57it/s]"
          ]
        },
        {
          "output_type": "stream",
          "name": "stderr",
          "text": [
            "\rPredicting tiles:  96%|\u2588\u2588\u2588\u2588\u2588\u2588\u2588\u2588\u2588\u258c| 242/253 [02:33<00:06,  1.57it/s]"
          ]
        },
        {
          "output_type": "stream",
          "name": "stderr",
          "text": [
            "\rPredicting tiles:  96%|\u2588\u2588\u2588\u2588\u2588\u2588\u2588\u2588\u2588\u258c| 243/253 [02:33<00:06,  1.57it/s]"
          ]
        },
        {
          "output_type": "stream",
          "name": "stderr",
          "text": [
            "\rPredicting tiles:  96%|\u2588\u2588\u2588\u2588\u2588\u2588\u2588\u2588\u2588\u258b| 244/253 [02:34<00:05,  1.57it/s]"
          ]
        },
        {
          "output_type": "stream",
          "name": "stderr",
          "text": [
            "\rPredicting tiles:  97%|\u2588\u2588\u2588\u2588\u2588\u2588\u2588\u2588\u2588\u258b| 245/253 [02:35<00:05,  1.57it/s]"
          ]
        },
        {
          "output_type": "stream",
          "name": "stderr",
          "text": [
            "\rPredicting tiles:  97%|\u2588\u2588\u2588\u2588\u2588\u2588\u2588\u2588\u2588\u258b| 246/253 [02:35<00:04,  1.57it/s]"
          ]
        },
        {
          "output_type": "stream",
          "name": "stderr",
          "text": [
            "\rPredicting tiles:  98%|\u2588\u2588\u2588\u2588\u2588\u2588\u2588\u2588\u2588\u258a| 247/253 [02:36<00:03,  1.57it/s]"
          ]
        },
        {
          "output_type": "stream",
          "name": "stderr",
          "text": [
            "\rPredicting tiles:  98%|\u2588\u2588\u2588\u2588\u2588\u2588\u2588\u2588\u2588\u258a| 248/253 [02:36<00:03,  1.57it/s]"
          ]
        },
        {
          "output_type": "stream",
          "name": "stderr",
          "text": [
            "\rPredicting tiles:  98%|\u2588\u2588\u2588\u2588\u2588\u2588\u2588\u2588\u2588\u258a| 249/253 [02:37<00:02,  1.57it/s]"
          ]
        },
        {
          "output_type": "stream",
          "name": "stderr",
          "text": [
            "\rPredicting tiles:  99%|\u2588\u2588\u2588\u2588\u2588\u2588\u2588\u2588\u2588\u2589| 250/253 [02:38<00:01,  1.57it/s]"
          ]
        },
        {
          "output_type": "stream",
          "name": "stderr",
          "text": [
            "\rPredicting tiles:  99%|\u2588\u2588\u2588\u2588\u2588\u2588\u2588\u2588\u2588\u2589| 251/253 [02:38<00:01,  1.58it/s]"
          ]
        },
        {
          "output_type": "stream",
          "name": "stderr",
          "text": [
            "\rPredicting tiles: 100%|\u2588\u2588\u2588\u2588\u2588\u2588\u2588\u2588\u2588\u2589| 252/253 [02:39<00:00,  1.58it/s]"
          ]
        },
        {
          "output_type": "stream",
          "name": "stderr",
          "text": [
            "\rPredicting tiles: 100%|\u2588\u2588\u2588\u2588\u2588\u2588\u2588\u2588\u2588\u2588| 253/253 [02:39<00:00,  1.85it/s]"
          ]
        },
        {
          "output_type": "stream",
          "name": "stderr",
          "text": [
            "\rPredicting tiles: 100%|\u2588\u2588\u2588\u2588\u2588\u2588\u2588\u2588\u2588\u2588| 253/253 [02:39<00:00,  1.58it/s]"
          ]
        },
        {
          "output_type": "stream",
          "name": "stderr",
          "text": [
            "\n"
          ]
        },
        {
          "output_type": "stream",
          "name": "stdout",
          "text": [
            "Performing highly optimized grid search...\nStep 1/3: Finding connected components...\nStep 2/3: Calculating component probabilities...\n"
          ]
        },
        {
          "output_type": "stream",
          "name": "stdout",
          "text": [
            "Step 3/3: Searching for best parameters...\n"
          ]
        },
        {
          "output_type": "stream",
          "name": "stderr",
          "text": [
            "\rThresholds:   0%|          | 0/10 [00:00<?, ?it/s]"
          ]
        },
        {
          "output_type": "stream",
          "name": "stderr",
          "text": [
            "\rThresholds:  10%|\u2588         | 1/10 [00:03<00:33,  3.77s/it]"
          ]
        },
        {
          "output_type": "stream",
          "name": "stderr",
          "text": [
            "\rThresholds:  20%|\u2588\u2588        | 2/10 [00:07<00:30,  3.77s/it]"
          ]
        },
        {
          "output_type": "stream",
          "name": "stderr",
          "text": [
            "\rThresholds:  30%|\u2588\u2588\u2588       | 3/10 [00:11<00:26,  3.77s/it]"
          ]
        },
        {
          "output_type": "stream",
          "name": "stderr",
          "text": [
            "\rThresholds:  40%|\u2588\u2588\u2588\u2588      | 4/10 [00:15<00:22,  3.77s/it]"
          ]
        },
        {
          "output_type": "stream",
          "name": "stderr",
          "text": [
            "\rThresholds:  50%|\u2588\u2588\u2588\u2588\u2588     | 5/10 [00:18<00:18,  3.77s/it]"
          ]
        },
        {
          "output_type": "stream",
          "name": "stderr",
          "text": [
            "\rThresholds:  60%|\u2588\u2588\u2588\u2588\u2588\u2588    | 6/10 [00:22<00:14,  3.57s/it]"
          ]
        },
        {
          "output_type": "stream",
          "name": "stderr",
          "text": [
            "\rThresholds:  70%|\u2588\u2588\u2588\u2588\u2588\u2588\u2588   | 7/10 [00:25<00:10,  3.45s/it]"
          ]
        },
        {
          "output_type": "stream",
          "name": "stderr",
          "text": [
            "\rThresholds:  80%|\u2588\u2588\u2588\u2588\u2588\u2588\u2588\u2588  | 8/10 [00:28<00:06,  3.37s/it]"
          ]
        },
        {
          "output_type": "stream",
          "name": "stderr",
          "text": [
            "\rThresholds:  90%|\u2588\u2588\u2588\u2588\u2588\u2588\u2588\u2588\u2588 | 9/10 [00:31<00:03,  3.31s/it]"
          ]
        },
        {
          "output_type": "stream",
          "name": "stderr",
          "text": [
            "\rThresholds: 100%|\u2588\u2588\u2588\u2588\u2588\u2588\u2588\u2588\u2588\u2588| 10/10 [00:34<00:00,  3.26s/it]"
          ]
        },
        {
          "output_type": "stream",
          "name": "stderr",
          "text": [
            "\rThresholds: 100%|\u2588\u2588\u2588\u2588\u2588\u2588\u2588\u2588\u2588\u2588| 10/10 [00:34<00:00,  3.48s/it]"
          ]
        },
        {
          "output_type": "stream",
          "name": "stdout",
          "text": [
            "Calibration complete. Best F0.5 score: 0.2530\nBest parameters found: Threshold=0.70, Min Area=64\n"
          ]
        },
        {
          "output_type": "stream",
          "name": "stderr",
          "text": [
            "\n"
          ]
        }
      ]
    },
    {
      "id": "9efccb21-c358-4443-a585-c2d5e139a5d6",
      "cell_type": "code",
      "metadata": {},
      "source": [
        "# --- 7. Final Inference and Submission ---\n",
        "\n",
        "print(\"\\n--- Starting Final Inference on Test Set ---\")\n",
        "print(f\"Using calibrated parameters: Threshold={CFG.BEST_THRESHOLD:.2f}, Min Area={CFG.MIN_AREA_SIZE}\")\n",
        "\n",
        "submission_data = []\n",
        "\n",
        "for fragment_id in CFG.TEST_FRAGMENTS:\n",
        "    print(f\"\\nProcessing fragment: {fragment_id}\")\n",
        "    \n",
        "    # Load data for the test fragment\n",
        "    print(\"Step 1/5: Loading images...\")\n",
        "    fragment_images = get_img_stack(fragment_id, CFG.Z_START, CFG.Z_END, data_path=CFG.TEST_PATH)\n",
        "    roi_mask = cv2.imread(os.path.join(CFG.TEST_PATH, fragment_id, 'mask.png'), cv2.IMREAD_GRAYSCALE)\n",
        "    \n",
        "    # Get full fragment predictions\n",
        "    print(\"Step 2/5: Predicting logits...\")\n",
        "    logit_map = predict_fragment(model, fragment_images, roi_mask)\n",
        "    \n",
        "    # Convert to probabilities and apply threshold\n",
        "    print(\"Step 3/5: Applying threshold...\")\n",
        "    prob_map = 1 / (1 + np.exp(-logit_map))\n",
        "    pred_mask = (prob_map > CFG.BEST_THRESHOLD).astype(np.uint8)\n",
        "    \n",
        "    # Apply ROI mask\n",
        "    pred_mask *= (roi_mask > 0).astype(np.uint8)\n",
        "    \n",
        "    # Post-processing: remove small components\n",
        "    print(\"Step 4/5: Removing small components...\")\n",
        "    final_mask = remove_small_components(pred_mask, CFG.MIN_AREA_SIZE)\n",
        "    \n",
        "    # RLE encode for submission\n",
        "    print(\"Step 5/5: RLE encoding...\")\n",
        "    rle = rle_encode(final_mask)\n",
        "    submission_data.append({'Id': fragment_id, 'Predicted': rle})\n",
        "    \n",
        "    # Clean up memory\n",
        "    del fragment_images, roi_mask, logit_map, prob_map, pred_mask, final_mask\n",
        "    gc.collect()\n",
        "\n",
        "# Create and save submission file\n",
        "print(\"\\nCreating submission file...\")\n",
        "submission_df = pd.DataFrame(submission_data)\n",
        "submission_df.to_csv('submission.csv', index=False)\n",
        "print(\"\\u2705 submission.csv created successfully!\")"
      ],
      "execution_count": 18,
      "outputs": [
        {
          "output_type": "stream",
          "name": "stdout",
          "text": [
            "\n--- Starting Final Inference on Test Set ---\nUsing calibrated parameters: Threshold=0.70, Min Area=64\n\nProcessing fragment: a\nStep 1/5: Loading images...\n"
          ]
        },
        {
          "output_type": "stream",
          "name": "stdout",
          "text": [
            "Warning: IR file not found at 'test/a/ir.png'.\nIR Fallback: Using mean of TIF slices as IR channel.\n"
          ]
        },
        {
          "output_type": "stream",
          "name": "stderr",
          "text": [
            "[ WARN:0@3274.304] global loadsave.cpp:268 findDecoder imread_('test/a/ir.png'): can't open/read file: check file path/integrity\n"
          ]
        },
        {
          "output_type": "stream",
          "name": "stdout",
          "text": [
            "Step 2/5: Predicting logits...\nGenerated 1071 tiles for prediction.\n"
          ]
        },
        {
          "output_type": "stream",
          "name": "stderr",
          "text": [
            "\rPredicting tiles:   0%|          | 0/67 [00:00<?, ?it/s]"
          ]
        },
        {
          "output_type": "stream",
          "name": "stderr",
          "text": [
            "\rPredicting tiles:   1%|\u258f         | 1/67 [00:01<01:07,  1.02s/it]"
          ]
        },
        {
          "output_type": "stream",
          "name": "stderr",
          "text": [
            "\rPredicting tiles:   3%|\u258e         | 2/67 [00:01<00:51,  1.27it/s]"
          ]
        },
        {
          "output_type": "stream",
          "name": "stderr",
          "text": [
            "\rPredicting tiles:   4%|\u258d         | 3/67 [00:02<00:45,  1.40it/s]"
          ]
        },
        {
          "output_type": "stream",
          "name": "stderr",
          "text": [
            "\rPredicting tiles:   6%|\u258c         | 4/67 [00:02<00:42,  1.48it/s]"
          ]
        },
        {
          "output_type": "stream",
          "name": "stderr",
          "text": [
            "\rPredicting tiles:   7%|\u258b         | 5/67 [00:03<00:40,  1.52it/s]"
          ]
        },
        {
          "output_type": "stream",
          "name": "stderr",
          "text": [
            "\rPredicting tiles:   9%|\u2589         | 6/67 [00:04<00:39,  1.54it/s]"
          ]
        },
        {
          "output_type": "stream",
          "name": "stderr",
          "text": [
            "\rPredicting tiles:  10%|\u2588         | 7/67 [00:04<00:38,  1.56it/s]"
          ]
        },
        {
          "output_type": "stream",
          "name": "stderr",
          "text": [
            "\rPredicting tiles:  12%|\u2588\u258f        | 8/67 [00:05<00:37,  1.57it/s]"
          ]
        },
        {
          "output_type": "stream",
          "name": "stderr",
          "text": [
            "\rPredicting tiles:  13%|\u2588\u258e        | 9/67 [00:06<00:36,  1.58it/s]"
          ]
        },
        {
          "output_type": "stream",
          "name": "stderr",
          "text": [
            "\rPredicting tiles:  15%|\u2588\u258d        | 10/67 [00:06<00:35,  1.58it/s]"
          ]
        },
        {
          "output_type": "stream",
          "name": "stderr",
          "text": [
            "\rPredicting tiles:  16%|\u2588\u258b        | 11/67 [00:07<00:35,  1.59it/s]"
          ]
        },
        {
          "output_type": "stream",
          "name": "stderr",
          "text": [
            "\rPredicting tiles:  18%|\u2588\u258a        | 12/67 [00:07<00:34,  1.59it/s]"
          ]
        },
        {
          "output_type": "stream",
          "name": "stderr",
          "text": [
            "\rPredicting tiles:  19%|\u2588\u2589        | 13/67 [00:08<00:33,  1.59it/s]"
          ]
        },
        {
          "output_type": "stream",
          "name": "stderr",
          "text": [
            "\rPredicting tiles:  21%|\u2588\u2588        | 14/67 [00:09<00:33,  1.59it/s]"
          ]
        },
        {
          "output_type": "stream",
          "name": "stderr",
          "text": [
            "\rPredicting tiles:  22%|\u2588\u2588\u258f       | 15/67 [00:09<00:32,  1.59it/s]"
          ]
        },
        {
          "output_type": "stream",
          "name": "stderr",
          "text": [
            "\rPredicting tiles:  24%|\u2588\u2588\u258d       | 16/67 [00:10<00:32,  1.59it/s]"
          ]
        },
        {
          "output_type": "stream",
          "name": "stderr",
          "text": [
            "\rPredicting tiles:  25%|\u2588\u2588\u258c       | 17/67 [00:11<00:31,  1.59it/s]"
          ]
        },
        {
          "output_type": "stream",
          "name": "stderr",
          "text": [
            "\rPredicting tiles:  27%|\u2588\u2588\u258b       | 18/67 [00:11<00:30,  1.59it/s]"
          ]
        },
        {
          "output_type": "stream",
          "name": "stderr",
          "text": [
            "\rPredicting tiles:  28%|\u2588\u2588\u258a       | 19/67 [00:12<00:30,  1.59it/s]"
          ]
        },
        {
          "output_type": "stream",
          "name": "stderr",
          "text": [
            "\rPredicting tiles:  30%|\u2588\u2588\u2589       | 20/67 [00:12<00:29,  1.59it/s]"
          ]
        },
        {
          "output_type": "stream",
          "name": "stderr",
          "text": [
            "\rPredicting tiles:  31%|\u2588\u2588\u2588\u258f      | 21/67 [00:13<00:28,  1.59it/s]"
          ]
        },
        {
          "output_type": "stream",
          "name": "stderr",
          "text": [
            "\rPredicting tiles:  33%|\u2588\u2588\u2588\u258e      | 22/67 [00:14<00:28,  1.59it/s]"
          ]
        },
        {
          "output_type": "stream",
          "name": "stderr",
          "text": [
            "\rPredicting tiles:  34%|\u2588\u2588\u2588\u258d      | 23/67 [00:14<00:27,  1.59it/s]"
          ]
        },
        {
          "output_type": "stream",
          "name": "stderr",
          "text": [
            "\rPredicting tiles:  36%|\u2588\u2588\u2588\u258c      | 24/67 [00:15<00:27,  1.59it/s]"
          ]
        },
        {
          "output_type": "stream",
          "name": "stderr",
          "text": [
            "\rPredicting tiles:  37%|\u2588\u2588\u2588\u258b      | 25/67 [00:16<00:26,  1.59it/s]"
          ]
        },
        {
          "output_type": "stream",
          "name": "stderr",
          "text": [
            "\rPredicting tiles:  39%|\u2588\u2588\u2588\u2589      | 26/67 [00:16<00:25,  1.59it/s]"
          ]
        },
        {
          "output_type": "stream",
          "name": "stderr",
          "text": [
            "\rPredicting tiles:  40%|\u2588\u2588\u2588\u2588      | 27/67 [00:17<00:25,  1.59it/s]"
          ]
        },
        {
          "output_type": "stream",
          "name": "stderr",
          "text": [
            "\rPredicting tiles:  42%|\u2588\u2588\u2588\u2588\u258f     | 28/67 [00:17<00:24,  1.59it/s]"
          ]
        },
        {
          "output_type": "stream",
          "name": "stderr",
          "text": [
            "\rPredicting tiles:  43%|\u2588\u2588\u2588\u2588\u258e     | 29/67 [00:18<00:23,  1.59it/s]"
          ]
        },
        {
          "output_type": "stream",
          "name": "stderr",
          "text": [
            "\rPredicting tiles:  45%|\u2588\u2588\u2588\u2588\u258d     | 30/67 [00:19<00:23,  1.59it/s]"
          ]
        },
        {
          "output_type": "stream",
          "name": "stderr",
          "text": [
            "\rPredicting tiles:  46%|\u2588\u2588\u2588\u2588\u258b     | 31/67 [00:19<00:22,  1.59it/s]"
          ]
        },
        {
          "output_type": "stream",
          "name": "stderr",
          "text": [
            "\rPredicting tiles:  48%|\u2588\u2588\u2588\u2588\u258a     | 32/67 [00:20<00:21,  1.59it/s]"
          ]
        },
        {
          "output_type": "stream",
          "name": "stderr",
          "text": [
            "\rPredicting tiles:  49%|\u2588\u2588\u2588\u2588\u2589     | 33/67 [00:21<00:21,  1.59it/s]"
          ]
        },
        {
          "output_type": "stream",
          "name": "stderr",
          "text": [
            "\rPredicting tiles:  51%|\u2588\u2588\u2588\u2588\u2588     | 34/67 [00:21<00:20,  1.59it/s]"
          ]
        },
        {
          "output_type": "stream",
          "name": "stderr",
          "text": [
            "\rPredicting tiles:  52%|\u2588\u2588\u2588\u2588\u2588\u258f    | 35/67 [00:22<00:20,  1.59it/s]"
          ]
        },
        {
          "output_type": "stream",
          "name": "stderr",
          "text": [
            "\rPredicting tiles:  54%|\u2588\u2588\u2588\u2588\u2588\u258e    | 36/67 [00:22<00:19,  1.59it/s]"
          ]
        },
        {
          "output_type": "stream",
          "name": "stderr",
          "text": [
            "\rPredicting tiles:  55%|\u2588\u2588\u2588\u2588\u2588\u258c    | 37/67 [00:23<00:18,  1.59it/s]"
          ]
        },
        {
          "output_type": "stream",
          "name": "stderr",
          "text": [
            "\rPredicting tiles:  57%|\u2588\u2588\u2588\u2588\u2588\u258b    | 38/67 [00:24<00:18,  1.59it/s]"
          ]
        },
        {
          "output_type": "stream",
          "name": "stderr",
          "text": [
            "\rPredicting tiles:  58%|\u2588\u2588\u2588\u2588\u2588\u258a    | 39/67 [00:24<00:17,  1.59it/s]"
          ]
        },
        {
          "output_type": "stream",
          "name": "stderr",
          "text": [
            "\rPredicting tiles:  60%|\u2588\u2588\u2588\u2588\u2588\u2589    | 40/67 [00:25<00:16,  1.59it/s]"
          ]
        },
        {
          "output_type": "stream",
          "name": "stderr",
          "text": [
            "\rPredicting tiles:  61%|\u2588\u2588\u2588\u2588\u2588\u2588    | 41/67 [00:26<00:16,  1.59it/s]"
          ]
        },
        {
          "output_type": "stream",
          "name": "stderr",
          "text": [
            "\rPredicting tiles:  63%|\u2588\u2588\u2588\u2588\u2588\u2588\u258e   | 42/67 [00:26<00:15,  1.59it/s]"
          ]
        },
        {
          "output_type": "stream",
          "name": "stderr",
          "text": [
            "\rPredicting tiles:  64%|\u2588\u2588\u2588\u2588\u2588\u2588\u258d   | 43/67 [00:27<00:15,  1.59it/s]"
          ]
        },
        {
          "output_type": "stream",
          "name": "stderr",
          "text": [
            "\rPredicting tiles:  66%|\u2588\u2588\u2588\u2588\u2588\u2588\u258c   | 44/67 [00:28<00:14,  1.59it/s]"
          ]
        },
        {
          "output_type": "stream",
          "name": "stderr",
          "text": [
            "\rPredicting tiles:  67%|\u2588\u2588\u2588\u2588\u2588\u2588\u258b   | 45/67 [00:28<00:13,  1.59it/s]"
          ]
        },
        {
          "output_type": "stream",
          "name": "stderr",
          "text": [
            "\rPredicting tiles:  69%|\u2588\u2588\u2588\u2588\u2588\u2588\u258a   | 46/67 [00:29<00:13,  1.59it/s]"
          ]
        },
        {
          "output_type": "stream",
          "name": "stderr",
          "text": [
            "\rPredicting tiles:  70%|\u2588\u2588\u2588\u2588\u2588\u2588\u2588   | 47/67 [00:29<00:12,  1.59it/s]"
          ]
        },
        {
          "output_type": "stream",
          "name": "stderr",
          "text": [
            "\rPredicting tiles:  72%|\u2588\u2588\u2588\u2588\u2588\u2588\u2588\u258f  | 48/67 [00:30<00:11,  1.59it/s]"
          ]
        },
        {
          "output_type": "stream",
          "name": "stderr",
          "text": [
            "\rPredicting tiles:  73%|\u2588\u2588\u2588\u2588\u2588\u2588\u2588\u258e  | 49/67 [00:31<00:11,  1.59it/s]"
          ]
        },
        {
          "output_type": "stream",
          "name": "stderr",
          "text": [
            "\rPredicting tiles:  75%|\u2588\u2588\u2588\u2588\u2588\u2588\u2588\u258d  | 50/67 [00:31<00:10,  1.59it/s]"
          ]
        },
        {
          "output_type": "stream",
          "name": "stderr",
          "text": [
            "\rPredicting tiles:  76%|\u2588\u2588\u2588\u2588\u2588\u2588\u2588\u258c  | 51/67 [00:32<00:10,  1.59it/s]"
          ]
        },
        {
          "output_type": "stream",
          "name": "stderr",
          "text": [
            "\rPredicting tiles:  78%|\u2588\u2588\u2588\u2588\u2588\u2588\u2588\u258a  | 52/67 [00:33<00:09,  1.59it/s]"
          ]
        },
        {
          "output_type": "stream",
          "name": "stderr",
          "text": [
            "\rPredicting tiles:  79%|\u2588\u2588\u2588\u2588\u2588\u2588\u2588\u2589  | 53/67 [00:33<00:08,  1.59it/s]"
          ]
        },
        {
          "output_type": "stream",
          "name": "stderr",
          "text": [
            "\rPredicting tiles:  81%|\u2588\u2588\u2588\u2588\u2588\u2588\u2588\u2588  | 54/67 [00:34<00:08,  1.59it/s]"
          ]
        },
        {
          "output_type": "stream",
          "name": "stderr",
          "text": [
            "\rPredicting tiles:  82%|\u2588\u2588\u2588\u2588\u2588\u2588\u2588\u2588\u258f | 55/67 [00:34<00:07,  1.59it/s]"
          ]
        },
        {
          "output_type": "stream",
          "name": "stderr",
          "text": [
            "\rPredicting tiles:  84%|\u2588\u2588\u2588\u2588\u2588\u2588\u2588\u2588\u258e | 56/67 [00:35<00:06,  1.59it/s]"
          ]
        },
        {
          "output_type": "stream",
          "name": "stderr",
          "text": [
            "\rPredicting tiles:  85%|\u2588\u2588\u2588\u2588\u2588\u2588\u2588\u2588\u258c | 57/67 [00:36<00:06,  1.59it/s]"
          ]
        },
        {
          "output_type": "stream",
          "name": "stderr",
          "text": [
            "\rPredicting tiles:  87%|\u2588\u2588\u2588\u2588\u2588\u2588\u2588\u2588\u258b | 58/67 [00:36<00:05,  1.59it/s]"
          ]
        },
        {
          "output_type": "stream",
          "name": "stderr",
          "text": [
            "\rPredicting tiles:  88%|\u2588\u2588\u2588\u2588\u2588\u2588\u2588\u2588\u258a | 59/67 [00:37<00:05,  1.59it/s]"
          ]
        },
        {
          "output_type": "stream",
          "name": "stderr",
          "text": [
            "\rPredicting tiles:  90%|\u2588\u2588\u2588\u2588\u2588\u2588\u2588\u2588\u2589 | 60/67 [00:38<00:04,  1.59it/s]"
          ]
        },
        {
          "output_type": "stream",
          "name": "stderr",
          "text": [
            "\rPredicting tiles:  91%|\u2588\u2588\u2588\u2588\u2588\u2588\u2588\u2588\u2588 | 61/67 [00:38<00:03,  1.59it/s]"
          ]
        },
        {
          "output_type": "stream",
          "name": "stderr",
          "text": [
            "\rPredicting tiles:  93%|\u2588\u2588\u2588\u2588\u2588\u2588\u2588\u2588\u2588\u258e| 62/67 [00:39<00:03,  1.59it/s]"
          ]
        },
        {
          "output_type": "stream",
          "name": "stderr",
          "text": [
            "\rPredicting tiles:  94%|\u2588\u2588\u2588\u2588\u2588\u2588\u2588\u2588\u2588\u258d| 63/67 [00:39<00:02,  1.59it/s]"
          ]
        },
        {
          "output_type": "stream",
          "name": "stderr",
          "text": [
            "\rPredicting tiles:  96%|\u2588\u2588\u2588\u2588\u2588\u2588\u2588\u2588\u2588\u258c| 64/67 [00:40<00:01,  1.59it/s]"
          ]
        },
        {
          "output_type": "stream",
          "name": "stderr",
          "text": [
            "\rPredicting tiles:  97%|\u2588\u2588\u2588\u2588\u2588\u2588\u2588\u2588\u2588\u258b| 65/67 [00:41<00:01,  1.59it/s]"
          ]
        },
        {
          "output_type": "stream",
          "name": "stderr",
          "text": [
            "\rPredicting tiles:  99%|\u2588\u2588\u2588\u2588\u2588\u2588\u2588\u2588\u2588\u258a| 66/67 [00:41<00:00,  1.59it/s]"
          ]
        },
        {
          "output_type": "stream",
          "name": "stderr",
          "text": [
            "\rPredicting tiles: 100%|\u2588\u2588\u2588\u2588\u2588\u2588\u2588\u2588\u2588\u2588| 67/67 [00:42<00:00,  1.61it/s]"
          ]
        },
        {
          "output_type": "stream",
          "name": "stderr",
          "text": [
            "\rPredicting tiles: 100%|\u2588\u2588\u2588\u2588\u2588\u2588\u2588\u2588\u2588\u2588| 67/67 [00:42<00:00,  1.57it/s]"
          ]
        },
        {
          "output_type": "stream",
          "name": "stderr",
          "text": [
            "\n"
          ]
        },
        {
          "output_type": "stream",
          "name": "stdout",
          "text": [
            "Step 3/5: Applying threshold...\nStep 4/5: Removing small components...\n"
          ]
        },
        {
          "output_type": "stream",
          "name": "stdout",
          "text": [
            "Step 5/5: RLE encoding...\n"
          ]
        },
        {
          "output_type": "stream",
          "name": "stdout",
          "text": [
            "\nCreating submission file...\n\u2705 submission.csv created successfully!\n"
          ]
        }
      ]
    }
  ],
  "metadata": {
    "kernelspec": {
      "display_name": "Python 3",
      "language": "python",
      "name": "python3"
    },
    "language_info": {
      "name": "python",
      "version": "3.11.0rc1"
    }
  },
  "nbformat": 4,
  "nbformat_minor": 5
}