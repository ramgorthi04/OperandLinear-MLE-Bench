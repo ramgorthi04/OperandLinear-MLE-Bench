{
  "cells": [
    {
      "id": "7e735cfd-9a90-4e3e-b2d9-0c9a42c9f80c",
      "cell_type": "code",
      "metadata": {},
      "source": [
        "# --- 1. Setup and Imports ---\n",
        "\n",
        "import sys\n",
        "import subprocess\n",
        "import importlib\n",
        "\n",
        "# Install necessary packages using the robust subprocess method\n",
        "print(\"Installing required packages...\")\n",
        "command = [\n",
        "    sys.executable, '-m', 'pip', 'install', '-q',\n",
        "    'opencv-python-headless', 'segmentation-models-pytorch', 'timm', 'albumentations'\n",
        "]\n",
        "result = subprocess.run(command, capture_output=True, text=True)\n",
        "\n",
        "if result.returncode == 0:\n",
        "    print(\"\\u2705 Packages installed successfully.\")\n",
        "    importlib.invalidate_caches()\n",
        "else:\n",
        "    print(\"\\u274c Package installation failed.\")\n",
        "    print(result.stderr)"
      ],
      "execution_count": 1,
      "outputs": [
        {
          "output_type": "stream",
          "name": "stdout",
          "text": [
            "Installing required packages...\n"
          ]
        },
        {
          "output_type": "stream",
          "name": "stdout",
          "text": [
            "\u2705 Packages installed successfully.\n"
          ]
        }
      ]
    },
    {
      "id": "e4fad4c6-8c78-4745-a1c8-9fa8f73c31c5",
      "cell_type": "code",
      "metadata": {},
      "source": [
        "# --- 2. Configuration and Imports ---\n",
        "\n",
        "import os\n",
        "import gc\n",
        "import glob\n",
        "import random\n",
        "import numpy as np\n",
        "import pandas as pd\n",
        "import cv2\n",
        "from tqdm import tqdm\n",
        "import time\n",
        "\n",
        "import torch\n",
        "import torch.nn as nn\n",
        "import torch.optim as optim\n",
        "from torch.utils.data import Dataset, DataLoader\n",
        "from torch.cuda.amp import GradScaler, autocast\n",
        "\n",
        "import segmentation_models_pytorch as smp\n",
        "import albumentations as A\n",
        "from albumentations.pytorch import ToTensorV2\n",
        "\n",
        "class CFG:\n",
        "    # Paths\n",
        "    TRAIN_PATH = 'train/'\n",
        "    TEST_PATH = 'test/'\n",
        "    \n",
        "    # Data settings from EDA\n",
        "    Z_START = 20\n",
        "    Z_END = 44  # Use slices from 20 to 43, inclusive (24 slices)\n",
        "    \n",
        "    # Model Input\n",
        "    IN_CHANS = Z_END - Z_START + 1 # 24 slices + 1 IR channel\n",
        "    TILE_SIZE = 320\n",
        "    STRIDE = TILE_SIZE // 2\n",
        "\n",
        "    # Training settings\n",
        "    VALID_FRAGMENTS = ['2'] # Start with fold 1 (validate on fragment 2)\n",
        "    BATCH_SIZE = 32\n",
        "    EPOCHS = 20\n",
        "    LR = 3e-4\n",
        "    WEIGHT_DECAY = 1e-4\n",
        "    PATIENCE = 5 # Early stopping patience\n",
        "    \n",
        "    # Model architecture\n",
        "    MODEL_NAME = 'FPN'\n",
        "    BACKBONE = 'timm-efficientnet-b4' # Changed from tf_efficientnetv2_s which is not supported\n",
        "    \n",
        "    # Environment\n",
        "    DEVICE = torch.device(\"cuda\" if torch.cuda.is_available() else \"cpu\")\n",
        "    SEED = 42\n",
        "\n",
        "def set_seed(seed):\n",
        "    random.seed(seed)\n",
        "    os.environ['PYTHONHASHSEED'] = str(seed)\n",
        "    np.random.seed(seed)\n",
        "    torch.manual_seed(seed)\n",
        "    torch.cuda.manual_seed(seed)\n",
        "    torch.backends.cudnn.deterministic = True\n",
        "    torch.backends.cudnn.benchmark = False\n",
        "\n",
        "set_seed(CFG.SEED)\n",
        "print(f\"Using device: {CFG.DEVICE}\")\n",
        "print(f\"Input channels: {CFG.IN_CHANS}\")"
      ],
      "execution_count": 17,
      "outputs": [
        {
          "output_type": "stream",
          "name": "stdout",
          "text": [
            "Using device: cuda\nInput channels: 25\n"
          ]
        }
      ]
    },
    {
      "id": "131888bf-3a71-453b-8d13-ed92f79b4693",
      "cell_type": "code",
      "metadata": {},
      "source": [
        "# --- 3. Data Loading and Preprocessing ---\n",
        "\n",
        "def read_data(fragment_id, is_test=False):\n",
        "    \"\"\"Reads the data for a single fragment, including slices, mask, and IR image.\"\"\"\n",
        "    if is_test:\n",
        "        path = os.path.join(CFG.TEST_PATH, fragment_id)\n",
        "    else:\n",
        "        path = os.path.join(CFG.TRAIN_PATH, fragment_id)\n",
        "    \n",
        "    # Load mask (ROI and ink labels)\n",
        "    mask_path = os.path.join(path, 'inklabels.png')\n",
        "    if os.path.exists(mask_path):\n",
        "        ink_mask = cv2.imread(mask_path, cv2.IMREAD_GRAYSCALE)\n",
        "    else: # For test set, there are no ink labels\n",
        "        # Create a placeholder mask of the same shape as the ROI mask\n",
        "        roi_mask_path = os.path.join(path, 'mask.png')\n",
        "        roi_mask_shape = cv2.imread(roi_mask_path, cv2.IMREAD_GRAYSCALE).shape\n",
        "        ink_mask = np.zeros(roi_mask_shape, dtype=np.uint8)\n",
        "        \n",
        "    roi_mask = cv2.imread(os.path.join(path, 'mask.png'), cv2.IMREAD_GRAYSCALE)\n",
        "    \n",
        "    # Load IR image\n",
        "    ir_image = cv2.imread(os.path.join(path, 'ir.png'), cv2.IMREAD_GRAYSCALE)\n",
        "    \n",
        "    # Load TIF slices\n",
        "    images = []\n",
        "    slice_path_pattern = os.path.join(path, 'surface_volume', '*.tif')\n",
        "    slice_paths = sorted(glob.glob(slice_path_pattern))\n",
        "    for i in range(CFG.Z_START, CFG.Z_END):\n",
        "        img = cv2.imread(slice_paths[i], cv2.IMREAD_UNCHANGED)\n",
        "        images.append(img)\n",
        "    images = np.stack(images, axis=-1)\n",
        "    \n",
        "    return images, ink_mask, roi_mask, ir_image\n",
        "\n",
        "def get_transforms(is_train):\n",
        "    \"\"\"Returns the Albumentations transforms for training or validation.\"\"\"\n",
        "    if is_train:\n",
        "        return A.Compose([\n",
        "            A.HorizontalFlip(p=0.5),\n",
        "            A.VerticalFlip(p=0.5),\n",
        "            A.RandomRotate90(p=0.5),\n",
        "            A.RandomBrightnessContrast(p=0.5),\n",
        "            ToTensorV2(transpose_mask=True),\n",
        "        ])\n",
        "    else:\n",
        "        return A.Compose([\n",
        "            ToTensorV2(transpose_mask=True),\n",
        "        ])\n",
        "\n",
        "print(\"Data loading functions and transforms defined.\")"
      ],
      "execution_count": 3,
      "outputs": [
        {
          "output_type": "stream",
          "name": "stdout",
          "text": [
            "Data loading functions and transforms defined.\n"
          ]
        }
      ]
    },
    {
      "id": "f83007cb-1a4c-4c2a-ad0e-86522a0bc501",
      "cell_type": "code",
      "metadata": {},
      "source": [
        "# --- 4. Custom PyTorch Dataset ---\n",
        "\n",
        "class VesuviusDataset(Dataset):\n",
        "    def __init__(self, fragment_ids, is_train, transforms=None):\n",
        "        self.fragment_ids = fragment_ids\n",
        "        self.is_train = is_train\n",
        "        self.transforms = transforms\n",
        "        \n",
        "        self.images = []\n",
        "        self.ink_masks = []\n",
        "        self.ir_images = []\n",
        "        self.coords = []\n",
        "\n",
        "        for fragment_id in self.fragment_ids:\n",
        "            images, ink_mask, roi_mask, ir_image = read_data(fragment_id, is_test=False)\n",
        "            \n",
        "            # Crop to ROI bounding box to save memory and computation\n",
        "            x_indices, y_indices = np.where(roi_mask > 0)\n",
        "            x_min, x_max = np.min(x_indices), np.max(x_indices)\n",
        "            y_min, y_max = np.min(y_indices), np.max(y_indices)\n",
        "            \n",
        "            images = images[x_min:x_max, y_min:y_max]\n",
        "            ink_mask = ink_mask[x_min:x_max, y_min:y_max]\n",
        "            ir_image = ir_image[x_min:x_max, y_min:y_max]\n",
        "            roi_mask = roi_mask[x_min:x_max, y_min:y_max]\n",
        "            \n",
        "            # Generate tile coordinates\n",
        "            img_h, img_w = roi_mask.shape\n",
        "            ink_coords_fragment = []\n",
        "            no_ink_coords_fragment = []\n",
        "            \n",
        "            for y in range(0, img_h - CFG.TILE_SIZE + 1, CFG.STRIDE):\n",
        "                for x in range(0, img_w - CFG.TILE_SIZE + 1, CFG.STRIDE):\n",
        "                    # BUG FIX: Check percentage of tile within ROI\n",
        "                    if (roi_mask[y:y+CFG.TILE_SIZE, x:x+CFG.TILE_SIZE] > 0).mean() > 0.5:\n",
        "                        # Check if the tile contains ink\n",
        "                        if ink_mask[y:y+CFG.TILE_SIZE, x:x+CFG.TILE_SIZE].sum() > 0:\n",
        "                            ink_coords_fragment.append((len(self.images), y, x))\n",
        "                        else:\n",
        "                            no_ink_coords_fragment.append((len(self.images), y, x))\n",
        "            \n",
        "            self.images.append(images)\n",
        "            self.ink_masks.append(ink_mask)\n",
        "            self.ir_images.append(ir_image)\n",
        "            \n",
        "            # For balanced sampling\n",
        "            if self.is_train:\n",
        "                # Balance the dataset by taking all ink tiles and an equal number of no-ink tiles (if available)\n",
        "                self.coords.extend(ink_coords_fragment)\n",
        "                num_no_ink_samples = min(len(ink_coords_fragment), len(no_ink_coords_fragment))\n",
        "                if len(no_ink_coords_fragment) > 0:\n",
        "                    self.coords.extend(random.sample(no_ink_coords_fragment, num_no_ink_samples))\n",
        "            else:\n",
        "                # For validation, use all valid tiles\n",
        "                self.coords.extend(ink_coords_fragment)\n",
        "                self.coords.extend(no_ink_coords_fragment)\n",
        "\n",
        "    def __len__(self):\n",
        "        return len(self.coords)\n",
        "\n",
        "    def __getitem__(self, idx):\n",
        "        fragment_idx, y, x = self.coords[idx]\n",
        "        \n",
        "        # Get tiles\n",
        "        tif_tile = self.images[fragment_idx][y:y+CFG.TILE_SIZE, x:x+CFG.TILE_SIZE]\n",
        "        ir_tile = self.ir_images[fragment_idx][y:y+CFG.TILE_SIZE, x:x+CFG.TILE_SIZE]\n",
        "        mask_tile = self.ink_masks[fragment_idx][y:y+CFG.TILE_SIZE, x:x+CFG.TILE_SIZE]\n",
        "        \n",
        "        # BUG FIX: Normalize TIF (16-bit) and IR (8-bit) separately\n",
        "        tif_tile = tif_tile.astype(np.float32) / 65535.0\n",
        "        ir_tile = ir_tile.astype(np.float32) / 255.0\n",
        "        \n",
        "        # Combine slices and IR image\n",
        "        ir_tile = np.expand_dims(ir_tile, axis=-1)\n",
        "        img_tile = np.concatenate([tif_tile, ir_tile], axis=-1)\n",
        "        \n",
        "        # Normalize mask\n",
        "        mask_tile = mask_tile.astype(np.float32) / 255.0\n",
        "        \n",
        "        if self.transforms:\n",
        "            augmented = self.transforms(image=img_tile, mask=mask_tile)\n",
        "            img_tile = augmented['image']\n",
        "            mask_tile = augmented['mask']\n",
        "        \n",
        "        return img_tile, mask_tile.unsqueeze(0)\n",
        "\n",
        "print(\"Custom Dataset class defined (with bug fixes).\")"
      ],
      "execution_count": 13,
      "outputs": [
        {
          "output_type": "stream",
          "name": "stdout",
          "text": [
            "Custom Dataset class defined (with bug fixes).\n"
          ]
        }
      ]
    },
    {
      "id": "7246b6d8-b1b3-466f-859a-df5dbc6793aa",
      "cell_type": "code",
      "metadata": {},
      "source": [
        "# --- 5. Create Datasets and DataLoaders ---\n",
        "\n",
        "print(\"Creating datasets and dataloaders...\")\n",
        "\n",
        "# Define train and validation fragments for the first fold\n",
        "all_fragments = ['1', '2']\n",
        "train_fragments = [f for f in all_fragments if f not in CFG.VALID_FRAGMENTS]\n",
        "\n",
        "print(f\"Training on fragments: {train_fragments}\")\n",
        "print(f\"Validating on fragments: {CFG.VALID_FRAGMENTS}\")\n",
        "\n",
        "# Create datasets\n",
        "train_dataset = VesuviusDataset(fragment_ids=train_fragments, is_train=True, transforms=get_transforms(is_train=True))\n",
        "valid_dataset = VesuviusDataset(fragment_ids=CFG.VALID_FRAGMENTS, is_train=False, transforms=get_transforms(is_train=False))\n",
        "\n",
        "# Create dataloaders\n",
        "train_loader = DataLoader(train_dataset, batch_size=CFG.BATCH_SIZE, shuffle=True, num_workers=4, pin_memory=True, drop_last=True)\n",
        "valid_loader = DataLoader(valid_dataset, batch_size=CFG.BATCH_SIZE, shuffle=False, num_workers=4, pin_memory=True)\n",
        "\n",
        "print(f\"Train dataset size: {len(train_dataset)}\")\n",
        "print(f\"Validation dataset size: {len(valid_dataset)}\")\n",
        "\n",
        "# Verify a batch from the train_loader\n",
        "try:\n",
        "    images, masks = next(iter(train_loader))\n",
        "    print(f\"\\n--- Batch Verification ---\")\n",
        "    print(f\"Images batch shape: {images.shape}\")\n",
        "    print(f\"Masks batch shape: {masks.shape}\")\n",
        "    print(f\"Images dtype: {images.dtype}\")\n",
        "    print(f\"Masks dtype: {masks.dtype}\")\n",
        "except Exception as e:\n",
        "    print(f\"\\nError during batch verification: {e}\")"
      ],
      "execution_count": 14,
      "outputs": [
        {
          "output_type": "stream",
          "name": "stdout",
          "text": [
            "Creating datasets and dataloaders...\nTraining on fragments: ['1']\nValidating on fragments: ['2']\n"
          ]
        },
        {
          "output_type": "stream",
          "name": "stdout",
          "text": [
            "Train dataset size: 1130\nValidation dataset size: 3817\n"
          ]
        },
        {
          "output_type": "stream",
          "name": "stdout",
          "text": [
            "\n--- Batch Verification ---\nImages batch shape: torch.Size([32, 25, 320, 320])\nMasks batch shape: torch.Size([32, 1, 320, 320])\nImages dtype: torch.float32\nMasks dtype: torch.float32\n"
          ]
        }
      ]
    },
    {
      "id": "f217b598-cd85-4667-8518-a7cb81d32dd3",
      "cell_type": "code",
      "metadata": {},
      "source": [
        "# --- 6. Model, Loss, and Optimizer ---\n",
        "\n",
        "print(\"Defining model, loss function, and optimizer...\")\n",
        "\n",
        "# Define the model using segmentation-models-pytorch\n",
        "model = smp.create_model(\n",
        "    arch=CFG.MODEL_NAME,\n",
        "    encoder_name=CFG.BACKBONE,\n",
        "    in_channels=CFG.IN_CHANS,\n",
        "    classes=1, # Binary segmentation\n",
        "    activation=None, # We'll use BCEWithLogitsLoss which includes sigmoid\n",
        ")\n",
        "model.to(CFG.DEVICE)\n",
        "\n",
        "# Define loss function (combination of BCE and Dice)\n",
        "class ComboLoss(nn.Module):\n",
        "    def __init__(self, bce_weight=0.5, dice_weight=0.5):\n",
        "        super(ComboLoss, self).__init__()\n",
        "        self.bce_loss = nn.BCEWithLogitsLoss()\n",
        "        self.dice_loss = smp.losses.DiceLoss(mode='binary')\n",
        "        self.bce_weight = bce_weight\n",
        "        self.dice_weight = dice_weight\n",
        "\n",
        "    def forward(self, outputs, targets):\n",
        "        bce = self.bce_loss(outputs, targets)\n",
        "        dice = self.dice_loss(outputs, targets)\n",
        "        return self.bce_weight * bce + self.dice_weight * dice\n",
        "\n",
        "loss_fn = ComboLoss()\n",
        "\n",
        "# Define optimizer and scheduler\n",
        "optimizer = optim.AdamW(model.parameters(), lr=CFG.LR, weight_decay=CFG.WEIGHT_DECAY)\n",
        "scheduler = optim.lr_scheduler.CosineAnnealingLR(optimizer, T_max=CFG.EPOCHS, eta_min=1e-6)\n",
        "\n",
        "print(f\"Model: {CFG.MODEL_NAME} with backbone {CFG.BACKBONE}\")\n",
        "print(\"Loss: ComboLoss (BCE + Dice)\")\n",
        "print(\"Optimizer: AdamW\")"
      ],
      "execution_count": 10,
      "outputs": [
        {
          "output_type": "stream",
          "name": "stdout",
          "text": [
            "Defining model, loss function, and optimizer...\n"
          ]
        },
        {
          "output_type": "display_data",
          "data": {
            "text/plain": "config.json:   0%|          | 0.00/106 [00:00<?, ?B/s]",
            "application/vnd.jupyter.widget-view+json": {
              "version_major": 2,
              "version_minor": 0,
              "model_id": "3622ffde8aad483f9466d73008a8c794"
            }
          },
          "metadata": {}
        },
        {
          "output_type": "display_data",
          "data": {
            "text/plain": "model.safetensors:   0%|          | 0.00/77.9M [00:00<?, ?B/s]",
            "application/vnd.jupyter.widget-view+json": {
              "version_major": 2,
              "version_minor": 0,
              "model_id": "2f51e6a0ed0e441192f07fc21da00a81"
            }
          },
          "metadata": {}
        },
        {
          "output_type": "stream",
          "name": "stdout",
          "text": [
            "Model: FPN with backbone timm-efficientnet-b4\nLoss: ComboLoss (BCE + Dice)\nOptimizer: AdamW\n"
          ]
        }
      ]
    },
    {
      "id": "de262795-a502-4a5b-883a-ef904ee056ce",
      "cell_type": "code",
      "metadata": {},
      "source": [
        "# --- 7. Training and Validation Helper Functions ---\n",
        "\n",
        "def calc_fbeta(tp, fp, fn, beta=0.5):\n",
        "    \"\"\"Calculates F-beta score from TP, FP, FN.\"\"\"\n",
        "    if tp + fp == 0:\n",
        "        precision = 0.0\n",
        "    else:\n",
        "        precision = tp / (tp + fp)\n",
        "        \n",
        "    if tp + fn == 0:\n",
        "        recall = 0.0\n",
        "    else:\n",
        "        recall = tp / (tp + fn)\n",
        "\n",
        "    if (beta**2 * precision) + recall == 0:\n",
        "        fbeta = 0.0\n",
        "    else:\n",
        "        fbeta = (1 + beta**2) * (precision * recall) / ((beta**2 * precision) + recall)\n",
        "        \n",
        "    return fbeta, precision, recall\n",
        "\n",
        "def train_one_epoch(model, optimizer, scheduler, dataloader, device, scaler):\n",
        "    \"\"\"Runs a single training epoch.\"\"\"\n",
        "    model.train()\n",
        "    epoch_loss = 0\n",
        "    \n",
        "    for images, masks in tqdm(dataloader, desc=\"Training\"):\n",
        "        images = images.to(device)\n",
        "        masks = masks.to(device)\n",
        "        \n",
        "        optimizer.zero_grad()\n",
        "        \n",
        "        with autocast():\n",
        "            outputs = model(images)\n",
        "            loss = loss_fn(outputs, masks)\n",
        "        \n",
        "        scaler.scale(loss).backward()\n",
        "        scaler.step(optimizer)\n",
        "        scaler.update()\n",
        "        \n",
        "        epoch_loss += loss.item()\n",
        "    \n",
        "    scheduler.step()\n",
        "    return epoch_loss / len(dataloader)\n",
        "\n",
        "def validate(model, dataloader, device):\n",
        "    \"\"\"\n",
        "    Runs validation, finds the best threshold, and returns the best F0.5 score,\n",
        "    threshold, precision, and recall.\n",
        "    \"\"\"\n",
        "    model.eval()\n",
        "    all_preds = []\n",
        "    all_targets = []\n",
        "    \n",
        "    with torch.no_grad():\n",
        "        for images, masks in tqdm(dataloader, desc=\"Validating\"):\n",
        "            images = images.to(device)\n",
        "            outputs = model(images)\n",
        "            all_preds.append(outputs.cpu().sigmoid())\n",
        "            all_targets.append(masks.cpu())\n",
        "            \n",
        "    all_preds = torch.cat(all_preds)\n",
        "    all_targets = torch.cat(all_targets).bool() # Ensure targets are boolean for efficient masking\n",
        "\n",
        "    best_score = 0\n",
        "    best_threshold = 0.5\n",
        "    best_precision = 0\n",
        "    best_recall = 0\n",
        "    \n",
        "    thresholds = np.arange(0.2, 0.8, 0.05)\n",
        "    for threshold in thresholds:\n",
        "        preds_binary = (all_preds > threshold)\n",
        "        \n",
        "        tp = (preds_binary & all_targets).sum().item()\n",
        "        fp = (preds_binary & ~all_targets).sum().item()\n",
        "        fn = (~preds_binary & all_targets).sum().item()\n",
        "        \n",
        "        score, precision, recall = calc_fbeta(tp, fp, fn, beta=0.5)\n",
        "        \n",
        "        if score > best_score:\n",
        "            best_score = score\n",
        "            best_threshold = threshold\n",
        "            best_precision = precision\n",
        "            best_recall = recall\n",
        "            \n",
        "    return best_score, best_threshold, best_precision, best_recall\n",
        "\n",
        "print(\"Training and validation helper functions defined (with threshold search).\")"
      ],
      "execution_count": 16,
      "outputs": [
        {
          "output_type": "stream",
          "name": "stdout",
          "text": [
            "Training and validation helper functions defined (with threshold search).\n"
          ]
        }
      ]
    },
    {
      "id": "01a26679-9e57-4b30-a910-d58cc454d331",
      "cell_type": "code",
      "metadata": {},
      "source": [
        "# --- 8. Main Training Loop ---\n",
        "\n",
        "scaler = GradScaler()\n",
        "best_val_score = 0\n",
        "best_epoch = -1\n",
        "epochs_no_improve = 0\n",
        "model_save_path = f'best_model_fold_{CFG.VALID_FRAGMENTS[0]}.pth'\n",
        "\n",
        "print(\"Starting training with improved validation...\")\n",
        "\n",
        "for epoch in range(1, CFG.EPOCHS + 1):\n",
        "    start_time = time.time()\n",
        "    \n",
        "    train_loss = train_one_epoch(model, optimizer, scheduler, train_loader, CFG.DEVICE, scaler)\n",
        "    val_score, best_threshold, precision, recall = validate(model, valid_loader, CFG.DEVICE)\n",
        "    \n",
        "    elapsed_time = time.time() - start_time\n",
        "    \n",
        "    print(f\"Epoch {epoch}/{CFG.EPOCHS} - Time: {elapsed_time:.0f}s - Train Loss: {train_loss:.4f} - Val F0.5: {val_score:.4f} @ thr={best_threshold:.2f} (P: {precision:.4f}, R: {recall:.4f})\")\n",
        "    \n",
        "    if val_score > best_val_score:\n",
        "        best_val_score = val_score\n",
        "        best_epoch = epoch\n",
        "        epochs_no_improve = 0\n",
        "        torch.save(model.state_dict(), model_save_path)\n",
        "        print(f\"  >> New best score! Model saved to {model_save_path}\")\n",
        "    else:\n",
        "        epochs_no_improve += 1\n",
        "        if epochs_no_improve >= CFG.PATIENCE:\n",
        "            print(f\"\\nEarly stopping triggered after {CFG.PATIENCE} epochs with no improvement.\")\n",
        "            break\n",
        "\n",
        "print(f\"\\nTraining finished. Best validation F0.5 score: {best_val_score:.4f} at epoch {best_epoch}\")"
      ],
      "execution_count": 18,
      "outputs": [
        {
          "output_type": "stream",
          "name": "stderr",
          "text": [
            "/tmp/ipykernel_699/2358857279.py:3: FutureWarning: `torch.cuda.amp.GradScaler(args...)` is deprecated. Please use `torch.amp.GradScaler('cuda', args...)` instead.\n  scaler = GradScaler()\n"
          ]
        },
        {
          "output_type": "stream",
          "name": "stdout",
          "text": [
            "Starting training with improved validation...\n"
          ]
        },
        {
          "output_type": "stream",
          "name": "stderr",
          "text": [
            "\rTraining:   0%|          | 0/35 [00:00<?, ?it/s]"
          ]
        },
        {
          "output_type": "stream",
          "name": "stderr",
          "text": [
            "/tmp/ipykernel_699/1049546356.py:33: FutureWarning: `torch.cuda.amp.autocast(args...)` is deprecated. Please use `torch.amp.autocast('cuda', args...)` instead.\n  with autocast():\n"
          ]
        },
        {
          "output_type": "stream",
          "name": "stderr",
          "text": [
            "\rTraining:   3%|\u258e         | 1/35 [00:01<00:50,  1.50s/it]"
          ]
        },
        {
          "output_type": "stream",
          "name": "stderr",
          "text": [
            "\rTraining:   6%|\u258c         | 2/35 [00:01<00:25,  1.29it/s]"
          ]
        },
        {
          "output_type": "stream",
          "name": "stderr",
          "text": [
            "\rTraining:   9%|\u258a         | 3/35 [00:02<00:17,  1.83it/s]"
          ]
        },
        {
          "output_type": "stream",
          "name": "stderr",
          "text": [
            "\rTraining:  11%|\u2588\u258f        | 4/35 [00:02<00:13,  2.27it/s]"
          ]
        },
        {
          "output_type": "stream",
          "name": "stderr",
          "text": [
            "\rTraining:  14%|\u2588\u258d        | 5/35 [00:02<00:11,  2.63it/s]"
          ]
        },
        {
          "output_type": "stream",
          "name": "stderr",
          "text": [
            "\rTraining:  17%|\u2588\u258b        | 6/35 [00:02<00:09,  2.91it/s]"
          ]
        },
        {
          "output_type": "stream",
          "name": "stderr",
          "text": [
            "\rTraining:  20%|\u2588\u2588        | 7/35 [00:03<00:09,  3.11it/s]"
          ]
        },
        {
          "output_type": "stream",
          "name": "stderr",
          "text": [
            "\rTraining:  23%|\u2588\u2588\u258e       | 8/35 [00:03<00:08,  3.26it/s]"
          ]
        },
        {
          "output_type": "stream",
          "name": "stderr",
          "text": [
            "\rTraining:  26%|\u2588\u2588\u258c       | 9/35 [00:03<00:07,  3.37it/s]"
          ]
        },
        {
          "output_type": "stream",
          "name": "stderr",
          "text": [
            "\rTraining:  29%|\u2588\u2588\u258a       | 10/35 [00:03<00:07,  3.44it/s]"
          ]
        },
        {
          "output_type": "stream",
          "name": "stderr",
          "text": [
            "\rTraining:  31%|\u2588\u2588\u2588\u258f      | 11/35 [00:04<00:06,  3.50it/s]"
          ]
        },
        {
          "output_type": "stream",
          "name": "stderr",
          "text": [
            "\rTraining:  34%|\u2588\u2588\u2588\u258d      | 12/35 [00:04<00:06,  3.54it/s]"
          ]
        },
        {
          "output_type": "stream",
          "name": "stderr",
          "text": [
            "\rTraining:  37%|\u2588\u2588\u2588\u258b      | 13/35 [00:04<00:06,  3.56it/s]"
          ]
        },
        {
          "output_type": "stream",
          "name": "stderr",
          "text": [
            "\rTraining:  40%|\u2588\u2588\u2588\u2588      | 14/35 [00:05<00:05,  3.58it/s]"
          ]
        },
        {
          "output_type": "stream",
          "name": "stderr",
          "text": [
            "\rTraining:  43%|\u2588\u2588\u2588\u2588\u258e     | 15/35 [00:05<00:05,  3.60it/s]"
          ]
        },
        {
          "output_type": "stream",
          "name": "stderr",
          "text": [
            "\rTraining:  46%|\u2588\u2588\u2588\u2588\u258c     | 16/35 [00:05<00:05,  3.61it/s]"
          ]
        },
        {
          "output_type": "stream",
          "name": "stderr",
          "text": [
            "\rTraining:  49%|\u2588\u2588\u2588\u2588\u258a     | 17/35 [00:05<00:04,  3.62it/s]"
          ]
        },
        {
          "output_type": "stream",
          "name": "stderr",
          "text": [
            "\rTraining:  51%|\u2588\u2588\u2588\u2588\u2588\u258f    | 18/35 [00:06<00:04,  3.62it/s]"
          ]
        },
        {
          "output_type": "stream",
          "name": "stderr",
          "text": [
            "\rTraining:  54%|\u2588\u2588\u2588\u2588\u2588\u258d    | 19/35 [00:06<00:04,  3.63it/s]"
          ]
        },
        {
          "output_type": "stream",
          "name": "stderr",
          "text": [
            "\rTraining:  57%|\u2588\u2588\u2588\u2588\u2588\u258b    | 20/35 [00:06<00:04,  3.63it/s]"
          ]
        },
        {
          "output_type": "stream",
          "name": "stderr",
          "text": [
            "\rTraining:  60%|\u2588\u2588\u2588\u2588\u2588\u2588    | 21/35 [00:06<00:03,  3.63it/s]"
          ]
        },
        {
          "output_type": "stream",
          "name": "stderr",
          "text": [
            "\rTraining:  63%|\u2588\u2588\u2588\u2588\u2588\u2588\u258e   | 22/35 [00:07<00:03,  3.64it/s]"
          ]
        },
        {
          "output_type": "stream",
          "name": "stderr",
          "text": [
            "\rTraining:  66%|\u2588\u2588\u2588\u2588\u2588\u2588\u258c   | 23/35 [00:07<00:03,  3.64it/s]"
          ]
        },
        {
          "output_type": "stream",
          "name": "stderr",
          "text": [
            "\rTraining:  69%|\u2588\u2588\u2588\u2588\u2588\u2588\u258a   | 24/35 [00:07<00:03,  3.64it/s]"
          ]
        },
        {
          "output_type": "stream",
          "name": "stderr",
          "text": [
            "\rTraining:  71%|\u2588\u2588\u2588\u2588\u2588\u2588\u2588\u258f  | 25/35 [00:08<00:02,  3.64it/s]"
          ]
        },
        {
          "output_type": "stream",
          "name": "stderr",
          "text": [
            "\rTraining:  74%|\u2588\u2588\u2588\u2588\u2588\u2588\u2588\u258d  | 26/35 [00:08<00:02,  3.64it/s]"
          ]
        },
        {
          "output_type": "stream",
          "name": "stderr",
          "text": [
            "\rTraining:  77%|\u2588\u2588\u2588\u2588\u2588\u2588\u2588\u258b  | 27/35 [00:08<00:02,  3.63it/s]"
          ]
        },
        {
          "output_type": "stream",
          "name": "stderr",
          "text": [
            "\rTraining:  80%|\u2588\u2588\u2588\u2588\u2588\u2588\u2588\u2588  | 28/35 [00:08<00:01,  3.63it/s]"
          ]
        },
        {
          "output_type": "stream",
          "name": "stderr",
          "text": [
            "\rTraining:  83%|\u2588\u2588\u2588\u2588\u2588\u2588\u2588\u2588\u258e | 29/35 [00:09<00:01,  3.64it/s]"
          ]
        },
        {
          "output_type": "stream",
          "name": "stderr",
          "text": [
            "\rTraining:  86%|\u2588\u2588\u2588\u2588\u2588\u2588\u2588\u2588\u258c | 30/35 [00:09<00:01,  3.64it/s]"
          ]
        },
        {
          "output_type": "stream",
          "name": "stderr",
          "text": [
            "\rTraining:  89%|\u2588\u2588\u2588\u2588\u2588\u2588\u2588\u2588\u258a | 31/35 [00:09<00:01,  3.64it/s]"
          ]
        },
        {
          "output_type": "stream",
          "name": "stderr",
          "text": [
            "\rTraining:  91%|\u2588\u2588\u2588\u2588\u2588\u2588\u2588\u2588\u2588\u258f| 32/35 [00:10<00:00,  3.64it/s]"
          ]
        },
        {
          "output_type": "stream",
          "name": "stderr",
          "text": [
            "\rTraining:  94%|\u2588\u2588\u2588\u2588\u2588\u2588\u2588\u2588\u2588\u258d| 33/35 [00:10<00:00,  3.64it/s]"
          ]
        },
        {
          "output_type": "stream",
          "name": "stderr",
          "text": [
            "\rTraining:  97%|\u2588\u2588\u2588\u2588\u2588\u2588\u2588\u2588\u2588\u258b| 34/35 [00:10<00:00,  3.64it/s]"
          ]
        },
        {
          "output_type": "stream",
          "name": "stderr",
          "text": [
            "\rTraining: 100%|\u2588\u2588\u2588\u2588\u2588\u2588\u2588\u2588\u2588\u2588| 35/35 [00:10<00:00,  3.65it/s]"
          ]
        },
        {
          "output_type": "stream",
          "name": "stderr",
          "text": [
            "\rTraining: 100%|\u2588\u2588\u2588\u2588\u2588\u2588\u2588\u2588\u2588\u2588| 35/35 [00:10<00:00,  3.21it/s]"
          ]
        },
        {
          "output_type": "stream",
          "name": "stderr",
          "text": [
            "\n"
          ]
        },
        {
          "output_type": "stream",
          "name": "stderr",
          "text": [
            "\rValidating:   0%|          | 0/120 [00:00<?, ?it/s]"
          ]
        },
        {
          "output_type": "stream",
          "name": "stderr",
          "text": [
            "\rValidating:   1%|          | 1/120 [00:00<01:31,  1.30it/s]"
          ]
        },
        {
          "output_type": "stream",
          "name": "stderr",
          "text": [
            "\rValidating:   2%|\u258f         | 2/120 [00:00<00:51,  2.30it/s]"
          ]
        },
        {
          "output_type": "stream",
          "name": "stderr",
          "text": [
            "\rValidating:   2%|\u258e         | 3/120 [00:01<00:35,  3.29it/s]"
          ]
        },
        {
          "output_type": "stream",
          "name": "stderr",
          "text": [
            "\rValidating:   3%|\u258e         | 4/120 [00:01<00:28,  4.06it/s]"
          ]
        },
        {
          "output_type": "stream",
          "name": "stderr",
          "text": [
            "\rValidating:   4%|\u258d         | 5/120 [00:01<00:24,  4.74it/s]"
          ]
        },
        {
          "output_type": "stream",
          "name": "stderr",
          "text": [
            "\rValidating:   5%|\u258c         | 6/120 [00:01<00:21,  5.27it/s]"
          ]
        },
        {
          "output_type": "stream",
          "name": "stderr",
          "text": [
            "\rValidating:   6%|\u258c         | 7/120 [00:01<00:20,  5.63it/s]"
          ]
        },
        {
          "output_type": "stream",
          "name": "stderr",
          "text": [
            "\rValidating:   7%|\u258b         | 8/120 [00:01<00:19,  5.89it/s]"
          ]
        },
        {
          "output_type": "stream",
          "name": "stderr",
          "text": [
            "\rValidating:   8%|\u258a         | 9/120 [00:02<00:18,  6.09it/s]"
          ]
        },
        {
          "output_type": "stream",
          "name": "stderr",
          "text": [
            "\rValidating:   8%|\u258a         | 10/120 [00:02<00:17,  6.23it/s]"
          ]
        },
        {
          "output_type": "stream",
          "name": "stderr",
          "text": [
            "\rValidating:   9%|\u2589         | 11/120 [00:02<00:17,  6.26it/s]"
          ]
        },
        {
          "output_type": "stream",
          "name": "stderr",
          "text": [
            "\rValidating:  10%|\u2588         | 12/120 [00:02<00:16,  6.39it/s]"
          ]
        },
        {
          "output_type": "stream",
          "name": "stderr",
          "text": [
            "\rValidating:  11%|\u2588         | 13/120 [00:02<00:16,  6.44it/s]"
          ]
        },
        {
          "output_type": "stream",
          "name": "stderr",
          "text": [
            "\rValidating:  12%|\u2588\u258f        | 14/120 [00:02<00:16,  6.49it/s]"
          ]
        },
        {
          "output_type": "stream",
          "name": "stderr",
          "text": [
            "\rValidating:  12%|\u2588\u258e        | 15/120 [00:02<00:16,  6.52it/s]"
          ]
        },
        {
          "output_type": "stream",
          "name": "stderr",
          "text": [
            "\rValidating:  13%|\u2588\u258e        | 16/120 [00:03<00:15,  6.53it/s]"
          ]
        },
        {
          "output_type": "stream",
          "name": "stderr",
          "text": [
            "\rValidating:  14%|\u2588\u258d        | 17/120 [00:03<00:15,  6.54it/s]"
          ]
        },
        {
          "output_type": "stream",
          "name": "stderr",
          "text": [
            "\rValidating:  15%|\u2588\u258c        | 18/120 [00:03<00:15,  6.54it/s]"
          ]
        },
        {
          "output_type": "stream",
          "name": "stderr",
          "text": [
            "\rValidating:  16%|\u2588\u258c        | 19/120 [00:03<00:15,  6.56it/s]"
          ]
        },
        {
          "output_type": "stream",
          "name": "stderr",
          "text": [
            "\rValidating:  17%|\u2588\u258b        | 20/120 [00:03<00:15,  6.55it/s]"
          ]
        },
        {
          "output_type": "stream",
          "name": "stderr",
          "text": [
            "\rValidating:  18%|\u2588\u258a        | 21/120 [00:03<00:15,  6.56it/s]"
          ]
        },
        {
          "output_type": "stream",
          "name": "stderr",
          "text": [
            "\rValidating:  18%|\u2588\u258a        | 22/120 [00:04<00:14,  6.57it/s]"
          ]
        },
        {
          "output_type": "stream",
          "name": "stderr",
          "text": [
            "\rValidating:  19%|\u2588\u2589        | 23/120 [00:04<00:14,  6.58it/s]"
          ]
        },
        {
          "output_type": "stream",
          "name": "stderr",
          "text": [
            "\rValidating:  20%|\u2588\u2588        | 24/120 [00:04<00:14,  6.57it/s]"
          ]
        },
        {
          "output_type": "stream",
          "name": "stderr",
          "text": [
            "\rValidating:  21%|\u2588\u2588        | 25/120 [00:04<00:14,  6.57it/s]"
          ]
        },
        {
          "output_type": "stream",
          "name": "stderr",
          "text": [
            "\rValidating:  22%|\u2588\u2588\u258f       | 26/120 [00:04<00:14,  6.57it/s]"
          ]
        },
        {
          "output_type": "stream",
          "name": "stderr",
          "text": [
            "\rValidating:  22%|\u2588\u2588\u258e       | 27/120 [00:04<00:14,  6.58it/s]"
          ]
        },
        {
          "output_type": "stream",
          "name": "stderr",
          "text": [
            "\rValidating:  23%|\u2588\u2588\u258e       | 28/120 [00:04<00:13,  6.57it/s]"
          ]
        },
        {
          "output_type": "stream",
          "name": "stderr",
          "text": [
            "\rValidating:  24%|\u2588\u2588\u258d       | 29/120 [00:05<00:13,  6.58it/s]"
          ]
        },
        {
          "output_type": "stream",
          "name": "stderr",
          "text": [
            "\rValidating:  25%|\u2588\u2588\u258c       | 30/120 [00:05<00:13,  6.58it/s]"
          ]
        },
        {
          "output_type": "stream",
          "name": "stderr",
          "text": [
            "\rValidating:  26%|\u2588\u2588\u258c       | 31/120 [00:05<00:13,  6.59it/s]"
          ]
        },
        {
          "output_type": "stream",
          "name": "stderr",
          "text": [
            "\rValidating:  27%|\u2588\u2588\u258b       | 32/120 [00:05<00:13,  6.58it/s]"
          ]
        },
        {
          "output_type": "stream",
          "name": "stderr",
          "text": [
            "\rValidating:  28%|\u2588\u2588\u258a       | 33/120 [00:05<00:13,  6.58it/s]"
          ]
        },
        {
          "output_type": "stream",
          "name": "stderr",
          "text": [
            "\rValidating:  28%|\u2588\u2588\u258a       | 34/120 [00:05<00:13,  6.59it/s]"
          ]
        },
        {
          "output_type": "stream",
          "name": "stderr",
          "text": [
            "\rValidating:  29%|\u2588\u2588\u2589       | 35/120 [00:05<00:12,  6.60it/s]"
          ]
        },
        {
          "output_type": "stream",
          "name": "stderr",
          "text": [
            "\rValidating:  30%|\u2588\u2588\u2588       | 36/120 [00:06<00:12,  6.59it/s]"
          ]
        },
        {
          "output_type": "stream",
          "name": "stderr",
          "text": [
            "\rValidating:  31%|\u2588\u2588\u2588       | 37/120 [00:06<00:12,  6.60it/s]"
          ]
        },
        {
          "output_type": "stream",
          "name": "stderr",
          "text": [
            "\rValidating:  32%|\u2588\u2588\u2588\u258f      | 38/120 [00:06<00:12,  6.60it/s]"
          ]
        },
        {
          "output_type": "stream",
          "name": "stderr",
          "text": [
            "\rValidating:  32%|\u2588\u2588\u2588\u258e      | 39/120 [00:06<00:12,  6.61it/s]"
          ]
        },
        {
          "output_type": "stream",
          "name": "stderr",
          "text": [
            "\rValidating:  33%|\u2588\u2588\u2588\u258e      | 40/120 [00:06<00:12,  6.60it/s]"
          ]
        },
        {
          "output_type": "stream",
          "name": "stderr",
          "text": [
            "\rValidating:  34%|\u2588\u2588\u2588\u258d      | 41/120 [00:06<00:11,  6.60it/s]"
          ]
        },
        {
          "output_type": "stream",
          "name": "stderr",
          "text": [
            "\rValidating:  35%|\u2588\u2588\u2588\u258c      | 42/120 [00:07<00:11,  6.60it/s]"
          ]
        },
        {
          "output_type": "stream",
          "name": "stderr",
          "text": [
            "\rValidating:  36%|\u2588\u2588\u2588\u258c      | 43/120 [00:07<00:11,  6.61it/s]"
          ]
        },
        {
          "output_type": "stream",
          "name": "stderr",
          "text": [
            "\rValidating:  37%|\u2588\u2588\u2588\u258b      | 44/120 [00:07<00:11,  6.60it/s]"
          ]
        },
        {
          "output_type": "stream",
          "name": "stderr",
          "text": [
            "\rValidating:  38%|\u2588\u2588\u2588\u258a      | 45/120 [00:07<00:11,  6.60it/s]"
          ]
        },
        {
          "output_type": "stream",
          "name": "stderr",
          "text": [
            "\rValidating:  38%|\u2588\u2588\u2588\u258a      | 46/120 [00:07<00:11,  6.60it/s]"
          ]
        },
        {
          "output_type": "stream",
          "name": "stderr",
          "text": [
            "\rValidating:  39%|\u2588\u2588\u2588\u2589      | 47/120 [00:07<00:11,  6.61it/s]"
          ]
        },
        {
          "output_type": "stream",
          "name": "stderr",
          "text": [
            "\rValidating:  40%|\u2588\u2588\u2588\u2588      | 48/120 [00:07<00:10,  6.60it/s]"
          ]
        },
        {
          "output_type": "stream",
          "name": "stderr",
          "text": [
            "\rValidating:  41%|\u2588\u2588\u2588\u2588      | 49/120 [00:08<00:10,  6.60it/s]"
          ]
        },
        {
          "output_type": "stream",
          "name": "stderr",
          "text": [
            "\rValidating:  42%|\u2588\u2588\u2588\u2588\u258f     | 50/120 [00:08<00:10,  6.60it/s]"
          ]
        },
        {
          "output_type": "stream",
          "name": "stderr",
          "text": [
            "\rValidating:  42%|\u2588\u2588\u2588\u2588\u258e     | 51/120 [00:08<00:10,  6.61it/s]"
          ]
        },
        {
          "output_type": "stream",
          "name": "stderr",
          "text": [
            "\rValidating:  43%|\u2588\u2588\u2588\u2588\u258e     | 52/120 [00:08<00:10,  6.60it/s]"
          ]
        },
        {
          "output_type": "stream",
          "name": "stderr",
          "text": [
            "\rValidating:  44%|\u2588\u2588\u2588\u2588\u258d     | 53/120 [00:08<00:10,  6.60it/s]"
          ]
        },
        {
          "output_type": "stream",
          "name": "stderr",
          "text": [
            "\rValidating:  45%|\u2588\u2588\u2588\u2588\u258c     | 54/120 [00:08<00:10,  6.59it/s]"
          ]
        },
        {
          "output_type": "stream",
          "name": "stderr",
          "text": [
            "\rValidating:  46%|\u2588\u2588\u2588\u2588\u258c     | 55/120 [00:09<00:09,  6.60it/s]"
          ]
        },
        {
          "output_type": "stream",
          "name": "stderr",
          "text": [
            "\rValidating:  47%|\u2588\u2588\u2588\u2588\u258b     | 56/120 [00:09<00:09,  6.60it/s]"
          ]
        },
        {
          "output_type": "stream",
          "name": "stderr",
          "text": [
            "\rValidating:  48%|\u2588\u2588\u2588\u2588\u258a     | 57/120 [00:09<00:09,  6.59it/s]"
          ]
        },
        {
          "output_type": "stream",
          "name": "stderr",
          "text": [
            "\rValidating:  48%|\u2588\u2588\u2588\u2588\u258a     | 58/120 [00:09<00:09,  6.60it/s]"
          ]
        },
        {
          "output_type": "stream",
          "name": "stderr",
          "text": [
            "\rValidating:  49%|\u2588\u2588\u2588\u2588\u2589     | 59/120 [00:09<00:09,  6.60it/s]"
          ]
        },
        {
          "output_type": "stream",
          "name": "stderr",
          "text": [
            "\rValidating:  50%|\u2588\u2588\u2588\u2588\u2588     | 60/120 [00:09<00:09,  6.60it/s]"
          ]
        },
        {
          "output_type": "stream",
          "name": "stderr",
          "text": [
            "\rValidating:  51%|\u2588\u2588\u2588\u2588\u2588     | 61/120 [00:09<00:08,  6.60it/s]"
          ]
        },
        {
          "output_type": "stream",
          "name": "stderr",
          "text": [
            "\rValidating:  52%|\u2588\u2588\u2588\u2588\u2588\u258f    | 62/120 [00:10<00:08,  6.60it/s]"
          ]
        },
        {
          "output_type": "stream",
          "name": "stderr",
          "text": [
            "\rValidating:  52%|\u2588\u2588\u2588\u2588\u2588\u258e    | 63/120 [00:10<00:08,  6.61it/s]"
          ]
        },
        {
          "output_type": "stream",
          "name": "stderr",
          "text": [
            "\rValidating:  53%|\u2588\u2588\u2588\u2588\u2588\u258e    | 64/120 [00:10<00:08,  6.60it/s]"
          ]
        },
        {
          "output_type": "stream",
          "name": "stderr",
          "text": [
            "\rValidating:  54%|\u2588\u2588\u2588\u2588\u2588\u258d    | 65/120 [00:10<00:08,  6.60it/s]"
          ]
        },
        {
          "output_type": "stream",
          "name": "stderr",
          "text": [
            "\rValidating:  55%|\u2588\u2588\u2588\u2588\u2588\u258c    | 66/120 [00:10<00:08,  6.60it/s]"
          ]
        },
        {
          "output_type": "stream",
          "name": "stderr",
          "text": [
            "\rValidating:  56%|\u2588\u2588\u2588\u2588\u2588\u258c    | 67/120 [00:10<00:08,  6.60it/s]"
          ]
        },
        {
          "output_type": "stream",
          "name": "stderr",
          "text": [
            "\rValidating:  57%|\u2588\u2588\u2588\u2588\u2588\u258b    | 68/120 [00:10<00:07,  6.59it/s]"
          ]
        },
        {
          "output_type": "stream",
          "name": "stderr",
          "text": [
            "\rValidating:  57%|\u2588\u2588\u2588\u2588\u2588\u258a    | 69/120 [00:11<00:07,  6.59it/s]"
          ]
        },
        {
          "output_type": "stream",
          "name": "stderr",
          "text": [
            "\rValidating:  58%|\u2588\u2588\u2588\u2588\u2588\u258a    | 70/120 [00:11<00:07,  6.60it/s]"
          ]
        },
        {
          "output_type": "stream",
          "name": "stderr",
          "text": [
            "\rValidating:  59%|\u2588\u2588\u2588\u2588\u2588\u2589    | 71/120 [00:11<00:07,  6.60it/s]"
          ]
        },
        {
          "output_type": "stream",
          "name": "stderr",
          "text": [
            "\rValidating:  60%|\u2588\u2588\u2588\u2588\u2588\u2588    | 72/120 [00:11<00:07,  6.59it/s]"
          ]
        },
        {
          "output_type": "stream",
          "name": "stderr",
          "text": [
            "\rValidating:  61%|\u2588\u2588\u2588\u2588\u2588\u2588    | 73/120 [00:11<00:07,  6.59it/s]"
          ]
        },
        {
          "output_type": "stream",
          "name": "stderr",
          "text": [
            "\rValidating:  62%|\u2588\u2588\u2588\u2588\u2588\u2588\u258f   | 74/120 [00:11<00:06,  6.59it/s]"
          ]
        },
        {
          "output_type": "stream",
          "name": "stderr",
          "text": [
            "\rValidating:  62%|\u2588\u2588\u2588\u2588\u2588\u2588\u258e   | 75/120 [00:12<00:06,  6.60it/s]"
          ]
        },
        {
          "output_type": "stream",
          "name": "stderr",
          "text": [
            "\rValidating:  63%|\u2588\u2588\u2588\u2588\u2588\u2588\u258e   | 76/120 [00:12<00:06,  6.59it/s]"
          ]
        },
        {
          "output_type": "stream",
          "name": "stderr",
          "text": [
            "\rValidating:  64%|\u2588\u2588\u2588\u2588\u2588\u2588\u258d   | 77/120 [00:12<00:06,  6.60it/s]"
          ]
        },
        {
          "output_type": "stream",
          "name": "stderr",
          "text": [
            "\rValidating:  65%|\u2588\u2588\u2588\u2588\u2588\u2588\u258c   | 78/120 [00:12<00:06,  6.59it/s]"
          ]
        },
        {
          "output_type": "stream",
          "name": "stderr",
          "text": [
            "\rValidating:  66%|\u2588\u2588\u2588\u2588\u2588\u2588\u258c   | 79/120 [00:12<00:06,  6.60it/s]"
          ]
        },
        {
          "output_type": "stream",
          "name": "stderr",
          "text": [
            "\rValidating:  67%|\u2588\u2588\u2588\u2588\u2588\u2588\u258b   | 80/120 [00:12<00:06,  6.59it/s]"
          ]
        },
        {
          "output_type": "stream",
          "name": "stderr",
          "text": [
            "\rValidating:  68%|\u2588\u2588\u2588\u2588\u2588\u2588\u258a   | 81/120 [00:12<00:05,  6.59it/s]"
          ]
        },
        {
          "output_type": "stream",
          "name": "stderr",
          "text": [
            "\rValidating:  68%|\u2588\u2588\u2588\u2588\u2588\u2588\u258a   | 82/120 [00:13<00:05,  6.59it/s]"
          ]
        },
        {
          "output_type": "stream",
          "name": "stderr",
          "text": [
            "\rValidating:  69%|\u2588\u2588\u2588\u2588\u2588\u2588\u2589   | 83/120 [00:13<00:05,  6.60it/s]"
          ]
        },
        {
          "output_type": "stream",
          "name": "stderr",
          "text": [
            "\rValidating:  70%|\u2588\u2588\u2588\u2588\u2588\u2588\u2588   | 84/120 [00:13<00:05,  6.59it/s]"
          ]
        },
        {
          "output_type": "stream",
          "name": "stderr",
          "text": [
            "\rValidating:  71%|\u2588\u2588\u2588\u2588\u2588\u2588\u2588   | 85/120 [00:13<00:05,  6.58it/s]"
          ]
        },
        {
          "output_type": "stream",
          "name": "stderr",
          "text": [
            "\rValidating:  72%|\u2588\u2588\u2588\u2588\u2588\u2588\u2588\u258f  | 86/120 [00:13<00:05,  6.58it/s]"
          ]
        },
        {
          "output_type": "stream",
          "name": "stderr",
          "text": [
            "\rValidating:  72%|\u2588\u2588\u2588\u2588\u2588\u2588\u2588\u258e  | 87/120 [00:13<00:05,  6.60it/s]"
          ]
        },
        {
          "output_type": "stream",
          "name": "stderr",
          "text": [
            "\rValidating:  73%|\u2588\u2588\u2588\u2588\u2588\u2588\u2588\u258e  | 88/120 [00:14<00:04,  6.59it/s]"
          ]
        },
        {
          "output_type": "stream",
          "name": "stderr",
          "text": [
            "\rValidating:  74%|\u2588\u2588\u2588\u2588\u2588\u2588\u2588\u258d  | 89/120 [00:14<00:04,  6.59it/s]"
          ]
        },
        {
          "output_type": "stream",
          "name": "stderr",
          "text": [
            "\rValidating:  75%|\u2588\u2588\u2588\u2588\u2588\u2588\u2588\u258c  | 90/120 [00:14<00:04,  6.58it/s]"
          ]
        },
        {
          "output_type": "stream",
          "name": "stderr",
          "text": [
            "\rValidating:  76%|\u2588\u2588\u2588\u2588\u2588\u2588\u2588\u258c  | 91/120 [00:14<00:04,  6.60it/s]"
          ]
        },
        {
          "output_type": "stream",
          "name": "stderr",
          "text": [
            "\rValidating:  77%|\u2588\u2588\u2588\u2588\u2588\u2588\u2588\u258b  | 92/120 [00:14<00:04,  6.59it/s]"
          ]
        },
        {
          "output_type": "stream",
          "name": "stderr",
          "text": [
            "\rValidating:  78%|\u2588\u2588\u2588\u2588\u2588\u2588\u2588\u258a  | 93/120 [00:14<00:04,  6.58it/s]"
          ]
        },
        {
          "output_type": "stream",
          "name": "stderr",
          "text": [
            "\rValidating:  78%|\u2588\u2588\u2588\u2588\u2588\u2588\u2588\u258a  | 94/120 [00:14<00:03,  6.58it/s]"
          ]
        },
        {
          "output_type": "stream",
          "name": "stderr",
          "text": [
            "\rValidating:  79%|\u2588\u2588\u2588\u2588\u2588\u2588\u2588\u2589  | 95/120 [00:15<00:03,  6.58it/s]"
          ]
        },
        {
          "output_type": "stream",
          "name": "stderr",
          "text": [
            "\rValidating:  80%|\u2588\u2588\u2588\u2588\u2588\u2588\u2588\u2588  | 96/120 [00:15<00:03,  6.57it/s]"
          ]
        },
        {
          "output_type": "stream",
          "name": "stderr",
          "text": [
            "\rValidating:  81%|\u2588\u2588\u2588\u2588\u2588\u2588\u2588\u2588  | 97/120 [00:15<00:03,  6.58it/s]"
          ]
        },
        {
          "output_type": "stream",
          "name": "stderr",
          "text": [
            "\rValidating:  82%|\u2588\u2588\u2588\u2588\u2588\u2588\u2588\u2588\u258f | 98/120 [00:15<00:03,  6.58it/s]"
          ]
        },
        {
          "output_type": "stream",
          "name": "stderr",
          "text": [
            "\rValidating:  82%|\u2588\u2588\u2588\u2588\u2588\u2588\u2588\u2588\u258e | 99/120 [00:15<00:03,  6.60it/s]"
          ]
        },
        {
          "output_type": "stream",
          "name": "stderr",
          "text": [
            "\rValidating:  83%|\u2588\u2588\u2588\u2588\u2588\u2588\u2588\u2588\u258e | 100/120 [00:15<00:03,  6.59it/s]"
          ]
        },
        {
          "output_type": "stream",
          "name": "stderr",
          "text": [
            "\rValidating:  84%|\u2588\u2588\u2588\u2588\u2588\u2588\u2588\u2588\u258d | 101/120 [00:15<00:02,  6.59it/s]"
          ]
        },
        {
          "output_type": "stream",
          "name": "stderr",
          "text": [
            "\rValidating:  85%|\u2588\u2588\u2588\u2588\u2588\u2588\u2588\u2588\u258c | 102/120 [00:16<00:02,  6.59it/s]"
          ]
        },
        {
          "output_type": "stream",
          "name": "stderr",
          "text": [
            "\rValidating:  86%|\u2588\u2588\u2588\u2588\u2588\u2588\u2588\u2588\u258c | 103/120 [00:16<00:02,  6.59it/s]"
          ]
        },
        {
          "output_type": "stream",
          "name": "stderr",
          "text": [
            "\rValidating:  87%|\u2588\u2588\u2588\u2588\u2588\u2588\u2588\u2588\u258b | 104/120 [00:16<00:02,  6.58it/s]"
          ]
        },
        {
          "output_type": "stream",
          "name": "stderr",
          "text": [
            "\rValidating:  88%|\u2588\u2588\u2588\u2588\u2588\u2588\u2588\u2588\u258a | 105/120 [00:16<00:02,  6.58it/s]"
          ]
        },
        {
          "output_type": "stream",
          "name": "stderr",
          "text": [
            "\rValidating:  88%|\u2588\u2588\u2588\u2588\u2588\u2588\u2588\u2588\u258a | 106/120 [00:16<00:02,  6.59it/s]"
          ]
        },
        {
          "output_type": "stream",
          "name": "stderr",
          "text": [
            "\rValidating:  89%|\u2588\u2588\u2588\u2588\u2588\u2588\u2588\u2588\u2589 | 107/120 [00:16<00:01,  6.59it/s]"
          ]
        },
        {
          "output_type": "stream",
          "name": "stderr",
          "text": [
            "\rValidating:  90%|\u2588\u2588\u2588\u2588\u2588\u2588\u2588\u2588\u2588 | 108/120 [00:17<00:01,  6.58it/s]"
          ]
        },
        {
          "output_type": "stream",
          "name": "stderr",
          "text": [
            "\rValidating:  91%|\u2588\u2588\u2588\u2588\u2588\u2588\u2588\u2588\u2588 | 109/120 [00:17<00:01,  6.59it/s]"
          ]
        },
        {
          "output_type": "stream",
          "name": "stderr",
          "text": [
            "\rValidating:  92%|\u2588\u2588\u2588\u2588\u2588\u2588\u2588\u2588\u2588\u258f| 110/120 [00:17<00:01,  6.58it/s]"
          ]
        },
        {
          "output_type": "stream",
          "name": "stderr",
          "text": [
            "\rValidating:  92%|\u2588\u2588\u2588\u2588\u2588\u2588\u2588\u2588\u2588\u258e| 111/120 [00:17<00:01,  6.59it/s]"
          ]
        },
        {
          "output_type": "stream",
          "name": "stderr",
          "text": [
            "\rValidating:  93%|\u2588\u2588\u2588\u2588\u2588\u2588\u2588\u2588\u2588\u258e| 112/120 [00:17<00:01,  6.58it/s]"
          ]
        },
        {
          "output_type": "stream",
          "name": "stderr",
          "text": [
            "\rValidating:  94%|\u2588\u2588\u2588\u2588\u2588\u2588\u2588\u2588\u2588\u258d| 113/120 [00:17<00:01,  6.58it/s]"
          ]
        },
        {
          "output_type": "stream",
          "name": "stderr",
          "text": [
            "\rValidating:  95%|\u2588\u2588\u2588\u2588\u2588\u2588\u2588\u2588\u2588\u258c| 114/120 [00:17<00:00,  6.58it/s]"
          ]
        },
        {
          "output_type": "stream",
          "name": "stderr",
          "text": [
            "\rValidating:  96%|\u2588\u2588\u2588\u2588\u2588\u2588\u2588\u2588\u2588\u258c| 115/120 [00:18<00:00,  6.59it/s]"
          ]
        },
        {
          "output_type": "stream",
          "name": "stderr",
          "text": [
            "\rValidating:  97%|\u2588\u2588\u2588\u2588\u2588\u2588\u2588\u2588\u2588\u258b| 116/120 [00:18<00:00,  6.58it/s]"
          ]
        },
        {
          "output_type": "stream",
          "name": "stderr",
          "text": [
            "\rValidating:  98%|\u2588\u2588\u2588\u2588\u2588\u2588\u2588\u2588\u2588\u258a| 117/120 [00:18<00:00,  6.62it/s]"
          ]
        },
        {
          "output_type": "stream",
          "name": "stderr",
          "text": [
            "\rValidating:  98%|\u2588\u2588\u2588\u2588\u2588\u2588\u2588\u2588\u2588\u258a| 118/120 [00:18<00:00,  6.65it/s]"
          ]
        },
        {
          "output_type": "stream",
          "name": "stderr",
          "text": [
            "\rValidating:  99%|\u2588\u2588\u2588\u2588\u2588\u2588\u2588\u2588\u2588\u2589| 119/120 [00:18<00:00,  6.68it/s]"
          ]
        },
        {
          "output_type": "stream",
          "name": "stderr",
          "text": [
            "\rValidating: 100%|\u2588\u2588\u2588\u2588\u2588\u2588\u2588\u2588\u2588\u2588| 120/120 [00:18<00:00,  6.38it/s]"
          ]
        },
        {
          "output_type": "stream",
          "name": "stderr",
          "text": [
            "\n"
          ]
        },
        {
          "output_type": "stream",
          "name": "stdout",
          "text": [
            "Epoch 1/20 - Time: 52s - Train Loss: 0.0916 - Val F0.5: 0.6717 @ thr=0.20 (P: 0.7608, R: 0.4575)\n"
          ]
        },
        {
          "output_type": "stream",
          "name": "stdout",
          "text": [
            "  >> New best score! Model saved to best_model_fold_2.pth\n"
          ]
        },
        {
          "output_type": "stream",
          "name": "stderr",
          "text": [
            "\rTraining:   0%|          | 0/35 [00:00<?, ?it/s]"
          ]
        },
        {
          "output_type": "stream",
          "name": "stderr",
          "text": [
            "\rTraining:   3%|\u258e         | 1/35 [00:01<00:56,  1.65s/it]"
          ]
        },
        {
          "output_type": "stream",
          "name": "stderr",
          "text": [
            "\rTraining:   6%|\u258c         | 2/35 [00:01<00:27,  1.18it/s]"
          ]
        },
        {
          "output_type": "stream",
          "name": "stderr",
          "text": [
            "\rTraining:   9%|\u258a         | 3/35 [00:02<00:18,  1.71it/s]"
          ]
        },
        {
          "output_type": "stream",
          "name": "stderr",
          "text": [
            "\rTraining:  11%|\u2588\u258f        | 4/35 [00:02<00:14,  2.16it/s]"
          ]
        },
        {
          "output_type": "stream",
          "name": "stderr",
          "text": [
            "\rTraining:  14%|\u2588\u258d        | 5/35 [00:02<00:11,  2.53it/s]"
          ]
        },
        {
          "output_type": "stream",
          "name": "stderr",
          "text": [
            "\rTraining:  17%|\u2588\u258b        | 6/35 [00:03<00:10,  2.82it/s]"
          ]
        },
        {
          "output_type": "stream",
          "name": "stderr",
          "text": [
            "\rTraining:  20%|\u2588\u2588        | 7/35 [00:03<00:09,  3.04it/s]"
          ]
        },
        {
          "output_type": "stream",
          "name": "stderr",
          "text": [
            "\rTraining:  23%|\u2588\u2588\u258e       | 8/35 [00:03<00:08,  3.20it/s]"
          ]
        },
        {
          "output_type": "stream",
          "name": "stderr",
          "text": [
            "\rTraining:  26%|\u2588\u2588\u258c       | 9/35 [00:03<00:07,  3.32it/s]"
          ]
        },
        {
          "output_type": "stream",
          "name": "stderr",
          "text": [
            "\rTraining:  29%|\u2588\u2588\u258a       | 10/35 [00:04<00:07,  3.41it/s]"
          ]
        },
        {
          "output_type": "stream",
          "name": "stderr",
          "text": [
            "\rTraining:  31%|\u2588\u2588\u2588\u258f      | 11/35 [00:04<00:06,  3.47it/s]"
          ]
        },
        {
          "output_type": "stream",
          "name": "stderr",
          "text": [
            "\rTraining:  34%|\u2588\u2588\u2588\u258d      | 12/35 [00:04<00:06,  3.51it/s]"
          ]
        },
        {
          "output_type": "stream",
          "name": "stderr",
          "text": [
            "\rTraining:  37%|\u2588\u2588\u2588\u258b      | 13/35 [00:04<00:06,  3.54it/s]"
          ]
        },
        {
          "output_type": "stream",
          "name": "stderr",
          "text": [
            "\rTraining:  40%|\u2588\u2588\u2588\u2588      | 14/35 [00:05<00:05,  3.57it/s]"
          ]
        },
        {
          "output_type": "stream",
          "name": "stderr",
          "text": [
            "\rTraining:  43%|\u2588\u2588\u2588\u2588\u258e     | 15/35 [00:05<00:05,  3.58it/s]"
          ]
        },
        {
          "output_type": "stream",
          "name": "stderr",
          "text": [
            "\rTraining:  46%|\u2588\u2588\u2588\u2588\u258c     | 16/35 [00:05<00:05,  3.59it/s]"
          ]
        },
        {
          "output_type": "stream",
          "name": "stderr",
          "text": [
            "\rTraining:  49%|\u2588\u2588\u2588\u2588\u258a     | 17/35 [00:06<00:05,  3.59it/s]"
          ]
        },
        {
          "output_type": "stream",
          "name": "stderr",
          "text": [
            "\rTraining:  51%|\u2588\u2588\u2588\u2588\u2588\u258f    | 18/35 [00:06<00:04,  3.60it/s]"
          ]
        },
        {
          "output_type": "stream",
          "name": "stderr",
          "text": [
            "\rTraining:  54%|\u2588\u2588\u2588\u2588\u2588\u258d    | 19/35 [00:06<00:04,  3.61it/s]"
          ]
        },
        {
          "output_type": "stream",
          "name": "stderr",
          "text": [
            "\rTraining:  57%|\u2588\u2588\u2588\u2588\u2588\u258b    | 20/35 [00:06<00:04,  3.62it/s]"
          ]
        },
        {
          "output_type": "stream",
          "name": "stderr",
          "text": [
            "\rTraining:  60%|\u2588\u2588\u2588\u2588\u2588\u2588    | 21/35 [00:07<00:03,  3.62it/s]"
          ]
        },
        {
          "output_type": "stream",
          "name": "stderr",
          "text": [
            "\rTraining:  63%|\u2588\u2588\u2588\u2588\u2588\u2588\u258e   | 22/35 [00:07<00:03,  3.62it/s]"
          ]
        },
        {
          "output_type": "stream",
          "name": "stderr",
          "text": [
            "\rTraining:  66%|\u2588\u2588\u2588\u2588\u2588\u2588\u258c   | 23/35 [00:07<00:03,  3.62it/s]"
          ]
        },
        {
          "output_type": "stream",
          "name": "stderr",
          "text": [
            "\rTraining:  69%|\u2588\u2588\u2588\u2588\u2588\u2588\u258a   | 24/35 [00:08<00:03,  3.62it/s]"
          ]
        },
        {
          "output_type": "stream",
          "name": "stderr",
          "text": [
            "\rTraining:  71%|\u2588\u2588\u2588\u2588\u2588\u2588\u2588\u258f  | 25/35 [00:08<00:02,  3.62it/s]"
          ]
        },
        {
          "output_type": "stream",
          "name": "stderr",
          "text": [
            "\rTraining:  74%|\u2588\u2588\u2588\u2588\u2588\u2588\u2588\u258d  | 26/35 [00:08<00:02,  3.63it/s]"
          ]
        },
        {
          "output_type": "stream",
          "name": "stderr",
          "text": [
            "\rTraining:  77%|\u2588\u2588\u2588\u2588\u2588\u2588\u2588\u258b  | 27/35 [00:08<00:02,  3.63it/s]"
          ]
        },
        {
          "output_type": "stream",
          "name": "stderr",
          "text": [
            "\rTraining:  80%|\u2588\u2588\u2588\u2588\u2588\u2588\u2588\u2588  | 28/35 [00:09<00:01,  3.63it/s]"
          ]
        },
        {
          "output_type": "stream",
          "name": "stderr",
          "text": [
            "\rTraining:  83%|\u2588\u2588\u2588\u2588\u2588\u2588\u2588\u2588\u258e | 29/35 [00:09<00:01,  3.62it/s]"
          ]
        },
        {
          "output_type": "stream",
          "name": "stderr",
          "text": [
            "\rTraining:  86%|\u2588\u2588\u2588\u2588\u2588\u2588\u2588\u2588\u258c | 30/35 [00:09<00:01,  3.63it/s]"
          ]
        },
        {
          "output_type": "stream",
          "name": "stderr",
          "text": [
            "\rTraining:  89%|\u2588\u2588\u2588\u2588\u2588\u2588\u2588\u2588\u258a | 31/35 [00:09<00:01,  3.63it/s]"
          ]
        },
        {
          "output_type": "stream",
          "name": "stderr",
          "text": [
            "\rTraining:  91%|\u2588\u2588\u2588\u2588\u2588\u2588\u2588\u2588\u2588\u258f| 32/35 [00:10<00:00,  3.63it/s]"
          ]
        },
        {
          "output_type": "stream",
          "name": "stderr",
          "text": [
            "\rTraining:  94%|\u2588\u2588\u2588\u2588\u2588\u2588\u2588\u2588\u2588\u258d| 33/35 [00:10<00:00,  3.63it/s]"
          ]
        },
        {
          "output_type": "stream",
          "name": "stderr",
          "text": [
            "\rTraining:  97%|\u2588\u2588\u2588\u2588\u2588\u2588\u2588\u2588\u2588\u258b| 34/35 [00:10<00:00,  3.64it/s]"
          ]
        },
        {
          "output_type": "stream",
          "name": "stderr",
          "text": [
            "\rTraining: 100%|\u2588\u2588\u2588\u2588\u2588\u2588\u2588\u2588\u2588\u2588| 35/35 [00:11<00:00,  3.64it/s]"
          ]
        },
        {
          "output_type": "stream",
          "name": "stderr",
          "text": [
            "\rTraining: 100%|\u2588\u2588\u2588\u2588\u2588\u2588\u2588\u2588\u2588\u2588| 35/35 [00:11<00:00,  3.15it/s]"
          ]
        },
        {
          "output_type": "stream",
          "name": "stderr",
          "text": [
            "\n"
          ]
        },
        {
          "output_type": "stream",
          "name": "stderr",
          "text": [
            "\rValidating:   0%|          | 0/120 [00:00<?, ?it/s]"
          ]
        },
        {
          "output_type": "stream",
          "name": "stderr",
          "text": [
            "\rValidating:   1%|          | 1/120 [00:00<01:28,  1.34it/s]"
          ]
        },
        {
          "output_type": "stream",
          "name": "stderr",
          "text": [
            "\rValidating:   2%|\u258f         | 2/120 [00:01<00:57,  2.06it/s]"
          ]
        },
        {
          "output_type": "stream",
          "name": "stderr",
          "text": [
            "\rValidating:   2%|\u258e         | 3/120 [00:01<00:38,  3.02it/s]"
          ]
        },
        {
          "output_type": "stream",
          "name": "stderr",
          "text": [
            "\rValidating:   3%|\u258e         | 4/120 [00:01<00:30,  3.85it/s]"
          ]
        },
        {
          "output_type": "stream",
          "name": "stderr",
          "text": [
            "\rValidating:   4%|\u258d         | 5/120 [00:01<00:25,  4.54it/s]"
          ]
        },
        {
          "output_type": "stream",
          "name": "stderr",
          "text": [
            "\rValidating:   5%|\u258c         | 6/120 [00:01<00:22,  5.09it/s]"
          ]
        },
        {
          "output_type": "stream",
          "name": "stderr",
          "text": [
            "\rValidating:   6%|\u258c         | 7/120 [00:01<00:20,  5.51it/s]"
          ]
        },
        {
          "output_type": "stream",
          "name": "stderr",
          "text": [
            "\rValidating:   7%|\u258b         | 8/120 [00:01<00:19,  5.83it/s]"
          ]
        },
        {
          "output_type": "stream",
          "name": "stderr",
          "text": [
            "\rValidating:   8%|\u258a         | 9/120 [00:02<00:18,  6.07it/s]"
          ]
        },
        {
          "output_type": "stream",
          "name": "stderr",
          "text": [
            "\rValidating:   8%|\u258a         | 10/120 [00:02<00:17,  6.24it/s]"
          ]
        },
        {
          "output_type": "stream",
          "name": "stderr",
          "text": [
            "\rValidating:   9%|\u2589         | 11/120 [00:02<00:17,  6.36it/s]"
          ]
        },
        {
          "output_type": "stream",
          "name": "stderr",
          "text": [
            "\rValidating:  10%|\u2588         | 12/120 [00:02<00:16,  6.45it/s]"
          ]
        },
        {
          "output_type": "stream",
          "name": "stderr",
          "text": [
            "\rValidating:  11%|\u2588         | 13/120 [00:02<00:16,  6.51it/s]"
          ]
        },
        {
          "output_type": "stream",
          "name": "stderr",
          "text": [
            "\rValidating:  12%|\u2588\u258f        | 14/120 [00:02<00:16,  6.56it/s]"
          ]
        },
        {
          "output_type": "stream",
          "name": "stderr",
          "text": [
            "\rValidating:  12%|\u2588\u258e        | 15/120 [00:02<00:15,  6.59it/s]"
          ]
        },
        {
          "output_type": "stream",
          "name": "stderr",
          "text": [
            "\rValidating:  13%|\u2588\u258e        | 16/120 [00:03<00:15,  6.60it/s]"
          ]
        },
        {
          "output_type": "stream",
          "name": "stderr",
          "text": [
            "\rValidating:  14%|\u2588\u258d        | 17/120 [00:03<00:15,  6.62it/s]"
          ]
        },
        {
          "output_type": "stream",
          "name": "stderr",
          "text": [
            "\rValidating:  15%|\u2588\u258c        | 18/120 [00:03<00:15,  6.63it/s]"
          ]
        },
        {
          "output_type": "stream",
          "name": "stderr",
          "text": [
            "\rValidating:  16%|\u2588\u258c        | 19/120 [00:03<00:15,  6.64it/s]"
          ]
        },
        {
          "output_type": "stream",
          "name": "stderr",
          "text": [
            "\rValidating:  17%|\u2588\u258b        | 20/120 [00:03<00:15,  6.65it/s]"
          ]
        },
        {
          "output_type": "stream",
          "name": "stderr",
          "text": [
            "\rValidating:  18%|\u2588\u258a        | 21/120 [00:03<00:14,  6.65it/s]"
          ]
        },
        {
          "output_type": "stream",
          "name": "stderr",
          "text": [
            "\rValidating:  18%|\u2588\u258a        | 22/120 [00:04<00:14,  6.65it/s]"
          ]
        },
        {
          "output_type": "stream",
          "name": "stderr",
          "text": [
            "\rValidating:  19%|\u2588\u2589        | 23/120 [00:04<00:14,  6.65it/s]"
          ]
        },
        {
          "output_type": "stream",
          "name": "stderr",
          "text": [
            "\rValidating:  20%|\u2588\u2588        | 24/120 [00:04<00:14,  6.65it/s]"
          ]
        },
        {
          "output_type": "stream",
          "name": "stderr",
          "text": [
            "\rValidating:  21%|\u2588\u2588        | 25/120 [00:04<00:14,  6.65it/s]"
          ]
        },
        {
          "output_type": "stream",
          "name": "stderr",
          "text": [
            "\rValidating:  22%|\u2588\u2588\u258f       | 26/120 [00:04<00:14,  6.65it/s]"
          ]
        },
        {
          "output_type": "stream",
          "name": "stderr",
          "text": [
            "\rValidating:  22%|\u2588\u2588\u258e       | 27/120 [00:04<00:13,  6.64it/s]"
          ]
        },
        {
          "output_type": "stream",
          "name": "stderr",
          "text": [
            "\rValidating:  23%|\u2588\u2588\u258e       | 28/120 [00:04<00:13,  6.64it/s]"
          ]
        },
        {
          "output_type": "stream",
          "name": "stderr",
          "text": [
            "\rValidating:  24%|\u2588\u2588\u258d       | 29/120 [00:05<00:13,  6.64it/s]"
          ]
        },
        {
          "output_type": "stream",
          "name": "stderr",
          "text": [
            "\rValidating:  25%|\u2588\u2588\u258c       | 30/120 [00:05<00:13,  6.64it/s]"
          ]
        },
        {
          "output_type": "stream",
          "name": "stderr",
          "text": [
            "\rValidating:  26%|\u2588\u2588\u258c       | 31/120 [00:05<00:13,  6.64it/s]"
          ]
        },
        {
          "output_type": "stream",
          "name": "stderr",
          "text": [
            "\rValidating:  27%|\u2588\u2588\u258b       | 32/120 [00:05<00:13,  6.64it/s]"
          ]
        },
        {
          "output_type": "stream",
          "name": "stderr",
          "text": [
            "\rValidating:  28%|\u2588\u2588\u258a       | 33/120 [00:05<00:13,  6.64it/s]"
          ]
        },
        {
          "output_type": "stream",
          "name": "stderr",
          "text": [
            "\rValidating:  28%|\u2588\u2588\u258a       | 34/120 [00:05<00:12,  6.64it/s]"
          ]
        },
        {
          "output_type": "stream",
          "name": "stderr",
          "text": [
            "\rValidating:  29%|\u2588\u2588\u2589       | 35/120 [00:06<00:12,  6.64it/s]"
          ]
        },
        {
          "output_type": "stream",
          "name": "stderr",
          "text": [
            "\rValidating:  30%|\u2588\u2588\u2588       | 36/120 [00:06<00:12,  6.63it/s]"
          ]
        },
        {
          "output_type": "stream",
          "name": "stderr",
          "text": [
            "\rValidating:  31%|\u2588\u2588\u2588       | 37/120 [00:06<00:12,  6.65it/s]"
          ]
        },
        {
          "output_type": "stream",
          "name": "stderr",
          "text": [
            "\rValidating:  32%|\u2588\u2588\u2588\u258f      | 38/120 [00:06<00:12,  6.64it/s]"
          ]
        },
        {
          "output_type": "stream",
          "name": "stderr",
          "text": [
            "\rValidating:  32%|\u2588\u2588\u2588\u258e      | 39/120 [00:06<00:12,  6.65it/s]"
          ]
        },
        {
          "output_type": "stream",
          "name": "stderr",
          "text": [
            "\rValidating:  33%|\u2588\u2588\u2588\u258e      | 40/120 [00:06<00:12,  6.65it/s]"
          ]
        },
        {
          "output_type": "stream",
          "name": "stderr",
          "text": [
            "\rValidating:  34%|\u2588\u2588\u2588\u258d      | 41/120 [00:06<00:11,  6.66it/s]"
          ]
        },
        {
          "output_type": "stream",
          "name": "stderr",
          "text": [
            "\rValidating:  35%|\u2588\u2588\u2588\u258c      | 42/120 [00:07<00:11,  6.64it/s]"
          ]
        },
        {
          "output_type": "stream",
          "name": "stderr",
          "text": [
            "\rValidating:  36%|\u2588\u2588\u2588\u258c      | 43/120 [00:07<00:11,  6.64it/s]"
          ]
        },
        {
          "output_type": "stream",
          "name": "stderr",
          "text": [
            "\rValidating:  37%|\u2588\u2588\u2588\u258b      | 44/120 [00:07<00:11,  6.64it/s]"
          ]
        },
        {
          "output_type": "stream",
          "name": "stderr",
          "text": [
            "\rValidating:  38%|\u2588\u2588\u2588\u258a      | 45/120 [00:07<00:11,  6.64it/s]"
          ]
        },
        {
          "output_type": "stream",
          "name": "stderr",
          "text": [
            "\rValidating:  38%|\u2588\u2588\u2588\u258a      | 46/120 [00:07<00:11,  6.64it/s]"
          ]
        },
        {
          "output_type": "stream",
          "name": "stderr",
          "text": [
            "\rValidating:  39%|\u2588\u2588\u2588\u2589      | 47/120 [00:07<00:10,  6.64it/s]"
          ]
        },
        {
          "output_type": "stream",
          "name": "stderr",
          "text": [
            "\rValidating:  40%|\u2588\u2588\u2588\u2588      | 48/120 [00:07<00:10,  6.64it/s]"
          ]
        },
        {
          "output_type": "stream",
          "name": "stderr",
          "text": [
            "\rValidating:  41%|\u2588\u2588\u2588\u2588      | 49/120 [00:08<00:10,  6.64it/s]"
          ]
        },
        {
          "output_type": "stream",
          "name": "stderr",
          "text": [
            "\rValidating:  42%|\u2588\u2588\u2588\u2588\u258f     | 50/120 [00:08<00:10,  6.63it/s]"
          ]
        },
        {
          "output_type": "stream",
          "name": "stderr",
          "text": [
            "\rValidating:  42%|\u2588\u2588\u2588\u2588\u258e     | 51/120 [00:08<00:10,  6.63it/s]"
          ]
        },
        {
          "output_type": "stream",
          "name": "stderr",
          "text": [
            "\rValidating:  43%|\u2588\u2588\u2588\u2588\u258e     | 52/120 [00:08<00:10,  6.63it/s]"
          ]
        },
        {
          "output_type": "stream",
          "name": "stderr",
          "text": [
            "\rValidating:  44%|\u2588\u2588\u2588\u2588\u258d     | 53/120 [00:08<00:10,  6.64it/s]"
          ]
        },
        {
          "output_type": "stream",
          "name": "stderr",
          "text": [
            "\rValidating:  45%|\u2588\u2588\u2588\u2588\u258c     | 54/120 [00:08<00:09,  6.64it/s]"
          ]
        },
        {
          "output_type": "stream",
          "name": "stderr",
          "text": [
            "\rValidating:  46%|\u2588\u2588\u2588\u2588\u258c     | 55/120 [00:09<00:09,  6.63it/s]"
          ]
        },
        {
          "output_type": "stream",
          "name": "stderr",
          "text": [
            "\rValidating:  47%|\u2588\u2588\u2588\u2588\u258b     | 56/120 [00:09<00:09,  6.63it/s]"
          ]
        },
        {
          "output_type": "stream",
          "name": "stderr",
          "text": [
            "\rValidating:  48%|\u2588\u2588\u2588\u2588\u258a     | 57/120 [00:09<00:09,  6.62it/s]"
          ]
        },
        {
          "output_type": "stream",
          "name": "stderr",
          "text": [
            "\rValidating:  48%|\u2588\u2588\u2588\u2588\u258a     | 58/120 [00:09<00:09,  6.61it/s]"
          ]
        },
        {
          "output_type": "stream",
          "name": "stderr",
          "text": [
            "\rValidating:  49%|\u2588\u2588\u2588\u2588\u2589     | 59/120 [00:09<00:09,  6.63it/s]"
          ]
        },
        {
          "output_type": "stream",
          "name": "stderr",
          "text": [
            "\rValidating:  50%|\u2588\u2588\u2588\u2588\u2588     | 60/120 [00:09<00:09,  6.61it/s]"
          ]
        },
        {
          "output_type": "stream",
          "name": "stderr",
          "text": [
            "\rValidating:  51%|\u2588\u2588\u2588\u2588\u2588     | 61/120 [00:09<00:08,  6.62it/s]"
          ]
        },
        {
          "output_type": "stream",
          "name": "stderr",
          "text": [
            "\rValidating:  52%|\u2588\u2588\u2588\u2588\u2588\u258f    | 62/120 [00:10<00:08,  6.62it/s]"
          ]
        },
        {
          "output_type": "stream",
          "name": "stderr",
          "text": [
            "\rValidating:  52%|\u2588\u2588\u2588\u2588\u2588\u258e    | 63/120 [00:10<00:08,  6.64it/s]"
          ]
        },
        {
          "output_type": "stream",
          "name": "stderr",
          "text": [
            "\rValidating:  53%|\u2588\u2588\u2588\u2588\u2588\u258e    | 64/120 [00:10<00:08,  6.63it/s]"
          ]
        },
        {
          "output_type": "stream",
          "name": "stderr",
          "text": [
            "\rValidating:  54%|\u2588\u2588\u2588\u2588\u2588\u258d    | 65/120 [00:10<00:08,  6.64it/s]"
          ]
        },
        {
          "output_type": "stream",
          "name": "stderr",
          "text": [
            "\rValidating:  55%|\u2588\u2588\u2588\u2588\u2588\u258c    | 66/120 [00:10<00:08,  6.64it/s]"
          ]
        },
        {
          "output_type": "stream",
          "name": "stderr",
          "text": [
            "\rValidating:  56%|\u2588\u2588\u2588\u2588\u2588\u258c    | 67/120 [00:10<00:07,  6.64it/s]"
          ]
        },
        {
          "output_type": "stream",
          "name": "stderr",
          "text": [
            "\rValidating:  57%|\u2588\u2588\u2588\u2588\u2588\u258b    | 68/120 [00:10<00:07,  6.63it/s]"
          ]
        },
        {
          "output_type": "stream",
          "name": "stderr",
          "text": [
            "\rValidating:  57%|\u2588\u2588\u2588\u2588\u2588\u258a    | 69/120 [00:11<00:07,  6.63it/s]"
          ]
        },
        {
          "output_type": "stream",
          "name": "stderr",
          "text": [
            "\rValidating:  58%|\u2588\u2588\u2588\u2588\u2588\u258a    | 70/120 [00:11<00:07,  6.63it/s]"
          ]
        },
        {
          "output_type": "stream",
          "name": "stderr",
          "text": [
            "\rValidating:  59%|\u2588\u2588\u2588\u2588\u2588\u2589    | 71/120 [00:11<00:07,  6.62it/s]"
          ]
        },
        {
          "output_type": "stream",
          "name": "stderr",
          "text": [
            "\rValidating:  60%|\u2588\u2588\u2588\u2588\u2588\u2588    | 72/120 [00:11<00:07,  6.62it/s]"
          ]
        },
        {
          "output_type": "stream",
          "name": "stderr",
          "text": [
            "\rValidating:  61%|\u2588\u2588\u2588\u2588\u2588\u2588    | 73/120 [00:11<00:07,  6.62it/s]"
          ]
        },
        {
          "output_type": "stream",
          "name": "stderr",
          "text": [
            "\rValidating:  62%|\u2588\u2588\u2588\u2588\u2588\u2588\u258f   | 74/120 [00:11<00:06,  6.61it/s]"
          ]
        },
        {
          "output_type": "stream",
          "name": "stderr",
          "text": [
            "\rValidating:  62%|\u2588\u2588\u2588\u2588\u2588\u2588\u258e   | 75/120 [00:12<00:06,  6.61it/s]"
          ]
        },
        {
          "output_type": "stream",
          "name": "stderr",
          "text": [
            "\rValidating:  63%|\u2588\u2588\u2588\u2588\u2588\u2588\u258e   | 76/120 [00:12<00:06,  6.61it/s]"
          ]
        },
        {
          "output_type": "stream",
          "name": "stderr",
          "text": [
            "\rValidating:  64%|\u2588\u2588\u2588\u2588\u2588\u2588\u258d   | 77/120 [00:12<00:06,  6.63it/s]"
          ]
        },
        {
          "output_type": "stream",
          "name": "stderr",
          "text": [
            "\rValidating:  65%|\u2588\u2588\u2588\u2588\u2588\u2588\u258c   | 78/120 [00:12<00:06,  6.63it/s]"
          ]
        },
        {
          "output_type": "stream",
          "name": "stderr",
          "text": [
            "\rValidating:  66%|\u2588\u2588\u2588\u2588\u2588\u2588\u258c   | 79/120 [00:12<00:06,  6.64it/s]"
          ]
        },
        {
          "output_type": "stream",
          "name": "stderr",
          "text": [
            "\rValidating:  67%|\u2588\u2588\u2588\u2588\u2588\u2588\u258b   | 80/120 [00:12<00:06,  6.63it/s]"
          ]
        },
        {
          "output_type": "stream",
          "name": "stderr",
          "text": [
            "\rValidating:  68%|\u2588\u2588\u2588\u2588\u2588\u2588\u258a   | 81/120 [00:12<00:05,  6.64it/s]"
          ]
        },
        {
          "output_type": "stream",
          "name": "stderr",
          "text": [
            "\rValidating:  68%|\u2588\u2588\u2588\u2588\u2588\u2588\u258a   | 82/120 [00:13<00:05,  6.63it/s]"
          ]
        },
        {
          "output_type": "stream",
          "name": "stderr",
          "text": [
            "\rValidating:  69%|\u2588\u2588\u2588\u2588\u2588\u2588\u2589   | 83/120 [00:13<00:05,  6.64it/s]"
          ]
        },
        {
          "output_type": "stream",
          "name": "stderr",
          "text": [
            "\rValidating:  70%|\u2588\u2588\u2588\u2588\u2588\u2588\u2588   | 84/120 [00:13<00:05,  6.62it/s]"
          ]
        },
        {
          "output_type": "stream",
          "name": "stderr",
          "text": [
            "\rValidating:  71%|\u2588\u2588\u2588\u2588\u2588\u2588\u2588   | 85/120 [00:13<00:05,  6.64it/s]"
          ]
        },
        {
          "output_type": "stream",
          "name": "stderr",
          "text": [
            "\rValidating:  72%|\u2588\u2588\u2588\u2588\u2588\u2588\u2588\u258f  | 86/120 [00:13<00:05,  6.63it/s]"
          ]
        },
        {
          "output_type": "stream",
          "name": "stderr",
          "text": [
            "\rValidating:  72%|\u2588\u2588\u2588\u2588\u2588\u2588\u2588\u258e  | 87/120 [00:13<00:04,  6.65it/s]"
          ]
        },
        {
          "output_type": "stream",
          "name": "stderr",
          "text": [
            "\rValidating:  73%|\u2588\u2588\u2588\u2588\u2588\u2588\u2588\u258e  | 88/120 [00:14<00:04,  6.64it/s]"
          ]
        },
        {
          "output_type": "stream",
          "name": "stderr",
          "text": [
            "\rValidating:  74%|\u2588\u2588\u2588\u2588\u2588\u2588\u2588\u258d  | 89/120 [00:14<00:04,  6.66it/s]"
          ]
        },
        {
          "output_type": "stream",
          "name": "stderr",
          "text": [
            "\rValidating:  75%|\u2588\u2588\u2588\u2588\u2588\u2588\u2588\u258c  | 90/120 [00:14<00:04,  6.64it/s]"
          ]
        },
        {
          "output_type": "stream",
          "name": "stderr",
          "text": [
            "\rValidating:  76%|\u2588\u2588\u2588\u2588\u2588\u2588\u2588\u258c  | 91/120 [00:14<00:04,  6.64it/s]"
          ]
        },
        {
          "output_type": "stream",
          "name": "stderr",
          "text": [
            "\rValidating:  77%|\u2588\u2588\u2588\u2588\u2588\u2588\u2588\u258b  | 92/120 [00:14<00:04,  6.64it/s]"
          ]
        },
        {
          "output_type": "stream",
          "name": "stderr",
          "text": [
            "\rValidating:  78%|\u2588\u2588\u2588\u2588\u2588\u2588\u2588\u258a  | 93/120 [00:14<00:04,  6.65it/s]"
          ]
        },
        {
          "output_type": "stream",
          "name": "stderr",
          "text": [
            "\rValidating:  78%|\u2588\u2588\u2588\u2588\u2588\u2588\u2588\u258a  | 94/120 [00:14<00:03,  6.64it/s]"
          ]
        },
        {
          "output_type": "stream",
          "name": "stderr",
          "text": [
            "\rValidating:  79%|\u2588\u2588\u2588\u2588\u2588\u2588\u2588\u2589  | 95/120 [00:15<00:03,  6.63it/s]"
          ]
        },
        {
          "output_type": "stream",
          "name": "stderr",
          "text": [
            "\rValidating:  80%|\u2588\u2588\u2588\u2588\u2588\u2588\u2588\u2588  | 96/120 [00:15<00:03,  6.64it/s]"
          ]
        },
        {
          "output_type": "stream",
          "name": "stderr",
          "text": [
            "\rValidating:  81%|\u2588\u2588\u2588\u2588\u2588\u2588\u2588\u2588  | 97/120 [00:15<00:03,  6.64it/s]"
          ]
        },
        {
          "output_type": "stream",
          "name": "stderr",
          "text": [
            "\rValidating:  82%|\u2588\u2588\u2588\u2588\u2588\u2588\u2588\u2588\u258f | 98/120 [00:15<00:03,  6.64it/s]"
          ]
        },
        {
          "output_type": "stream",
          "name": "stderr",
          "text": [
            "\rValidating:  82%|\u2588\u2588\u2588\u2588\u2588\u2588\u2588\u2588\u258e | 99/120 [00:15<00:03,  6.65it/s]"
          ]
        },
        {
          "output_type": "stream",
          "name": "stderr",
          "text": [
            "\rValidating:  83%|\u2588\u2588\u2588\u2588\u2588\u2588\u2588\u2588\u258e | 100/120 [00:15<00:03,  6.65it/s]"
          ]
        },
        {
          "output_type": "stream",
          "name": "stderr",
          "text": [
            "\rValidating:  84%|\u2588\u2588\u2588\u2588\u2588\u2588\u2588\u2588\u258d | 101/120 [00:15<00:02,  6.65it/s]"
          ]
        },
        {
          "output_type": "stream",
          "name": "stderr",
          "text": [
            "\rValidating:  85%|\u2588\u2588\u2588\u2588\u2588\u2588\u2588\u2588\u258c | 102/120 [00:16<00:02,  6.65it/s]"
          ]
        },
        {
          "output_type": "stream",
          "name": "stderr",
          "text": [
            "\rValidating:  86%|\u2588\u2588\u2588\u2588\u2588\u2588\u2588\u2588\u258c | 103/120 [00:16<00:02,  6.65it/s]"
          ]
        },
        {
          "output_type": "stream",
          "name": "stderr",
          "text": [
            "\rValidating:  87%|\u2588\u2588\u2588\u2588\u2588\u2588\u2588\u2588\u258b | 104/120 [00:16<00:02,  6.65it/s]"
          ]
        },
        {
          "output_type": "stream",
          "name": "stderr",
          "text": [
            "\rValidating:  88%|\u2588\u2588\u2588\u2588\u2588\u2588\u2588\u2588\u258a | 105/120 [00:16<00:02,  6.65it/s]"
          ]
        },
        {
          "output_type": "stream",
          "name": "stderr",
          "text": [
            "\rValidating:  88%|\u2588\u2588\u2588\u2588\u2588\u2588\u2588\u2588\u258a | 106/120 [00:16<00:02,  6.65it/s]"
          ]
        },
        {
          "output_type": "stream",
          "name": "stderr",
          "text": [
            "\rValidating:  89%|\u2588\u2588\u2588\u2588\u2588\u2588\u2588\u2588\u2589 | 107/120 [00:16<00:01,  6.65it/s]"
          ]
        },
        {
          "output_type": "stream",
          "name": "stderr",
          "text": [
            "\rValidating:  90%|\u2588\u2588\u2588\u2588\u2588\u2588\u2588\u2588\u2588 | 108/120 [00:17<00:01,  6.65it/s]"
          ]
        },
        {
          "output_type": "stream",
          "name": "stderr",
          "text": [
            "\rValidating:  91%|\u2588\u2588\u2588\u2588\u2588\u2588\u2588\u2588\u2588 | 109/120 [00:17<00:01,  6.65it/s]"
          ]
        },
        {
          "output_type": "stream",
          "name": "stderr",
          "text": [
            "\rValidating:  92%|\u2588\u2588\u2588\u2588\u2588\u2588\u2588\u2588\u2588\u258f| 110/120 [00:17<00:01,  6.65it/s]"
          ]
        },
        {
          "output_type": "stream",
          "name": "stderr",
          "text": [
            "\rValidating:  92%|\u2588\u2588\u2588\u2588\u2588\u2588\u2588\u2588\u2588\u258e| 111/120 [00:17<00:01,  6.65it/s]"
          ]
        },
        {
          "output_type": "stream",
          "name": "stderr",
          "text": [
            "\rValidating:  93%|\u2588\u2588\u2588\u2588\u2588\u2588\u2588\u2588\u2588\u258e| 112/120 [00:17<00:01,  6.64it/s]"
          ]
        },
        {
          "output_type": "stream",
          "name": "stderr",
          "text": [
            "\rValidating:  94%|\u2588\u2588\u2588\u2588\u2588\u2588\u2588\u2588\u2588\u258d| 113/120 [00:17<00:01,  6.65it/s]"
          ]
        },
        {
          "output_type": "stream",
          "name": "stderr",
          "text": [
            "\rValidating:  95%|\u2588\u2588\u2588\u2588\u2588\u2588\u2588\u2588\u2588\u258c| 114/120 [00:17<00:00,  6.65it/s]"
          ]
        },
        {
          "output_type": "stream",
          "name": "stderr",
          "text": [
            "\rValidating:  96%|\u2588\u2588\u2588\u2588\u2588\u2588\u2588\u2588\u2588\u258c| 115/120 [00:18<00:00,  6.66it/s]"
          ]
        },
        {
          "output_type": "stream",
          "name": "stderr",
          "text": [
            "\rValidating:  97%|\u2588\u2588\u2588\u2588\u2588\u2588\u2588\u2588\u2588\u258b| 116/120 [00:18<00:00,  6.65it/s]"
          ]
        },
        {
          "output_type": "stream",
          "name": "stderr",
          "text": [
            "\rValidating:  98%|\u2588\u2588\u2588\u2588\u2588\u2588\u2588\u2588\u2588\u258a| 117/120 [00:18<00:00,  6.66it/s]"
          ]
        },
        {
          "output_type": "stream",
          "name": "stderr",
          "text": [
            "\rValidating:  98%|\u2588\u2588\u2588\u2588\u2588\u2588\u2588\u2588\u2588\u258a| 118/120 [00:18<00:00,  6.65it/s]"
          ]
        },
        {
          "output_type": "stream",
          "name": "stderr",
          "text": [
            "\rValidating:  99%|\u2588\u2588\u2588\u2588\u2588\u2588\u2588\u2588\u2588\u2589| 119/120 [00:18<00:00,  6.66it/s]"
          ]
        },
        {
          "output_type": "stream",
          "name": "stderr",
          "text": [
            "\rValidating: 100%|\u2588\u2588\u2588\u2588\u2588\u2588\u2588\u2588\u2588\u2588| 120/120 [00:18<00:00,  6.40it/s]"
          ]
        },
        {
          "output_type": "stream",
          "name": "stderr",
          "text": [
            "\n"
          ]
        },
        {
          "output_type": "stream",
          "name": "stdout",
          "text": [
            "Epoch 2/20 - Time: 52s - Train Loss: 0.0911 - Val F0.5: 0.6712 @ thr=0.20 (P: 0.7702, R: 0.4434)\n"
          ]
        },
        {
          "output_type": "stream",
          "name": "stderr",
          "text": [
            "\rTraining:   0%|          | 0/35 [00:00<?, ?it/s]"
          ]
        },
        {
          "output_type": "stream",
          "name": "stderr",
          "text": [
            "\rTraining:   3%|\u258e         | 1/35 [00:01<00:53,  1.58s/it]"
          ]
        },
        {
          "output_type": "stream",
          "name": "stderr",
          "text": [
            "\rTraining:   6%|\u258c         | 2/35 [00:01<00:26,  1.23it/s]"
          ]
        },
        {
          "output_type": "stream",
          "name": "stderr",
          "text": [
            "\rTraining:   9%|\u258a         | 3/35 [00:02<00:18,  1.76it/s]"
          ]
        },
        {
          "output_type": "stream",
          "name": "stderr",
          "text": [
            "\rTraining:  11%|\u2588\u258f        | 4/35 [00:02<00:14,  2.20it/s]"
          ]
        },
        {
          "output_type": "stream",
          "name": "stderr",
          "text": [
            "\rTraining:  14%|\u2588\u258d        | 5/35 [00:02<00:11,  2.57it/s]"
          ]
        },
        {
          "output_type": "stream",
          "name": "stderr",
          "text": [
            "\rTraining:  17%|\u2588\u258b        | 6/35 [00:02<00:10,  2.85it/s]"
          ]
        },
        {
          "output_type": "stream",
          "name": "stderr",
          "text": [
            "\rTraining:  20%|\u2588\u2588        | 7/35 [00:03<00:09,  3.06it/s]"
          ]
        },
        {
          "output_type": "stream",
          "name": "stderr",
          "text": [
            "\rTraining:  23%|\u2588\u2588\u258e       | 8/35 [00:03<00:08,  3.22it/s]"
          ]
        },
        {
          "output_type": "stream",
          "name": "stderr",
          "text": [
            "\rTraining:  26%|\u2588\u2588\u258c       | 9/35 [00:03<00:07,  3.33it/s]"
          ]
        },
        {
          "output_type": "stream",
          "name": "stderr",
          "text": [
            "\rTraining:  29%|\u2588\u2588\u258a       | 10/35 [00:04<00:07,  3.41it/s]"
          ]
        },
        {
          "output_type": "stream",
          "name": "stderr",
          "text": [
            "\rTraining:  31%|\u2588\u2588\u2588\u258f      | 11/35 [00:04<00:06,  3.47it/s]"
          ]
        },
        {
          "output_type": "stream",
          "name": "stderr",
          "text": [
            "\rTraining:  34%|\u2588\u2588\u2588\u258d      | 12/35 [00:04<00:06,  3.52it/s]"
          ]
        },
        {
          "output_type": "stream",
          "name": "stderr",
          "text": [
            "\rTraining:  37%|\u2588\u2588\u2588\u258b      | 13/35 [00:04<00:06,  3.54it/s]"
          ]
        },
        {
          "output_type": "stream",
          "name": "stderr",
          "text": [
            "\rTraining:  40%|\u2588\u2588\u2588\u2588      | 14/35 [00:05<00:05,  3.57it/s]"
          ]
        },
        {
          "output_type": "stream",
          "name": "stderr",
          "text": [
            "\rTraining:  43%|\u2588\u2588\u2588\u2588\u258e     | 15/35 [00:05<00:05,  3.57it/s]"
          ]
        },
        {
          "output_type": "stream",
          "name": "stderr",
          "text": [
            "\rTraining:  46%|\u2588\u2588\u2588\u2588\u258c     | 16/35 [00:05<00:05,  3.57it/s]"
          ]
        },
        {
          "output_type": "stream",
          "name": "stderr",
          "text": [
            "\rTraining:  49%|\u2588\u2588\u2588\u2588\u258a     | 17/35 [00:06<00:05,  3.59it/s]"
          ]
        },
        {
          "output_type": "stream",
          "name": "stderr",
          "text": [
            "\rTraining:  51%|\u2588\u2588\u2588\u2588\u2588\u258f    | 18/35 [00:06<00:04,  3.60it/s]"
          ]
        },
        {
          "output_type": "stream",
          "name": "stderr",
          "text": [
            "\rTraining:  54%|\u2588\u2588\u2588\u2588\u2588\u258d    | 19/35 [00:06<00:04,  3.60it/s]"
          ]
        },
        {
          "output_type": "stream",
          "name": "stderr",
          "text": [
            "\rTraining:  57%|\u2588\u2588\u2588\u2588\u2588\u258b    | 20/35 [00:06<00:04,  3.61it/s]"
          ]
        },
        {
          "output_type": "stream",
          "name": "stderr",
          "text": [
            "\rTraining:  60%|\u2588\u2588\u2588\u2588\u2588\u2588    | 21/35 [00:07<00:03,  3.60it/s]"
          ]
        },
        {
          "output_type": "stream",
          "name": "stderr",
          "text": [
            "\rTraining:  63%|\u2588\u2588\u2588\u2588\u2588\u2588\u258e   | 22/35 [00:07<00:03,  3.59it/s]"
          ]
        },
        {
          "output_type": "stream",
          "name": "stderr",
          "text": [
            "\rTraining:  66%|\u2588\u2588\u2588\u2588\u2588\u2588\u258c   | 23/35 [00:07<00:03,  3.60it/s]"
          ]
        },
        {
          "output_type": "stream",
          "name": "stderr",
          "text": [
            "\rTraining:  69%|\u2588\u2588\u2588\u2588\u2588\u2588\u258a   | 24/35 [00:07<00:03,  3.60it/s]"
          ]
        },
        {
          "output_type": "stream",
          "name": "stderr",
          "text": [
            "\rTraining:  71%|\u2588\u2588\u2588\u2588\u2588\u2588\u2588\u258f  | 25/35 [00:08<00:02,  3.60it/s]"
          ]
        },
        {
          "output_type": "stream",
          "name": "stderr",
          "text": [
            "\rTraining:  74%|\u2588\u2588\u2588\u2588\u2588\u2588\u2588\u258d  | 26/35 [00:08<00:02,  3.61it/s]"
          ]
        },
        {
          "output_type": "stream",
          "name": "stderr",
          "text": [
            "\rTraining:  77%|\u2588\u2588\u2588\u2588\u2588\u2588\u2588\u258b  | 27/35 [00:08<00:02,  3.61it/s]"
          ]
        },
        {
          "output_type": "stream",
          "name": "stderr",
          "text": [
            "\rTraining:  80%|\u2588\u2588\u2588\u2588\u2588\u2588\u2588\u2588  | 28/35 [00:09<00:01,  3.61it/s]"
          ]
        },
        {
          "output_type": "stream",
          "name": "stderr",
          "text": [
            "\rTraining:  83%|\u2588\u2588\u2588\u2588\u2588\u2588\u2588\u2588\u258e | 29/35 [00:09<00:01,  3.62it/s]"
          ]
        },
        {
          "output_type": "stream",
          "name": "stderr",
          "text": [
            "\rTraining:  86%|\u2588\u2588\u2588\u2588\u2588\u2588\u2588\u2588\u258c | 30/35 [00:09<00:01,  3.62it/s]"
          ]
        },
        {
          "output_type": "stream",
          "name": "stderr",
          "text": [
            "\rTraining:  89%|\u2588\u2588\u2588\u2588\u2588\u2588\u2588\u2588\u258a | 31/35 [00:09<00:01,  3.63it/s]"
          ]
        },
        {
          "output_type": "stream",
          "name": "stderr",
          "text": [
            "\rTraining:  91%|\u2588\u2588\u2588\u2588\u2588\u2588\u2588\u2588\u2588\u258f| 32/35 [00:10<00:00,  3.63it/s]"
          ]
        },
        {
          "output_type": "stream",
          "name": "stderr",
          "text": [
            "\rTraining:  94%|\u2588\u2588\u2588\u2588\u2588\u2588\u2588\u2588\u2588\u258d| 33/35 [00:10<00:00,  3.64it/s]"
          ]
        },
        {
          "output_type": "stream",
          "name": "stderr",
          "text": [
            "\rTraining:  97%|\u2588\u2588\u2588\u2588\u2588\u2588\u2588\u2588\u2588\u258b| 34/35 [00:10<00:00,  3.64it/s]"
          ]
        },
        {
          "output_type": "stream",
          "name": "stderr",
          "text": [
            "\rTraining: 100%|\u2588\u2588\u2588\u2588\u2588\u2588\u2588\u2588\u2588\u2588| 35/35 [00:10<00:00,  3.64it/s]"
          ]
        },
        {
          "output_type": "stream",
          "name": "stderr",
          "text": [
            "\rTraining: 100%|\u2588\u2588\u2588\u2588\u2588\u2588\u2588\u2588\u2588\u2588| 35/35 [00:11<00:00,  3.17it/s]"
          ]
        },
        {
          "output_type": "stream",
          "name": "stderr",
          "text": [
            "\n"
          ]
        },
        {
          "output_type": "stream",
          "name": "stderr",
          "text": [
            "\rValidating:   0%|          | 0/120 [00:00<?, ?it/s]"
          ]
        },
        {
          "output_type": "stream",
          "name": "stderr",
          "text": [
            "\rValidating:   1%|          | 1/120 [00:01<02:03,  1.04s/it]"
          ]
        },
        {
          "output_type": "stream",
          "name": "stderr",
          "text": [
            "\rValidating:   2%|\u258f         | 2/120 [00:01<01:01,  1.93it/s]"
          ]
        },
        {
          "output_type": "stream",
          "name": "stderr",
          "text": [
            "\rValidating:   2%|\u258e         | 3/120 [00:01<00:40,  2.86it/s]"
          ]
        },
        {
          "output_type": "stream",
          "name": "stderr",
          "text": [
            "\rValidating:   3%|\u258e         | 4/120 [00:01<00:31,  3.69it/s]"
          ]
        },
        {
          "output_type": "stream",
          "name": "stderr",
          "text": [
            "\rValidating:   4%|\u258d         | 5/120 [00:01<00:26,  4.40it/s]"
          ]
        },
        {
          "output_type": "stream",
          "name": "stderr",
          "text": [
            "\rValidating:   5%|\u258c         | 6/120 [00:01<00:22,  4.98it/s]"
          ]
        },
        {
          "output_type": "stream",
          "name": "stderr",
          "text": [
            "\rValidating:   6%|\u258c         | 7/120 [00:01<00:20,  5.42it/s]"
          ]
        },
        {
          "output_type": "stream",
          "name": "stderr",
          "text": [
            "\rValidating:   7%|\u258b         | 8/120 [00:02<00:19,  5.75it/s]"
          ]
        },
        {
          "output_type": "stream",
          "name": "stderr",
          "text": [
            "\rValidating:   8%|\u258a         | 9/120 [00:02<00:18,  6.00it/s]"
          ]
        },
        {
          "output_type": "stream",
          "name": "stderr",
          "text": [
            "\rValidating:   8%|\u258a         | 10/120 [00:02<00:17,  6.19it/s]"
          ]
        },
        {
          "output_type": "stream",
          "name": "stderr",
          "text": [
            "\rValidating:   9%|\u2589         | 11/120 [00:02<00:17,  6.32it/s]"
          ]
        },
        {
          "output_type": "stream",
          "name": "stderr",
          "text": [
            "\rValidating:  10%|\u2588         | 12/120 [00:02<00:16,  6.42it/s]"
          ]
        },
        {
          "output_type": "stream",
          "name": "stderr",
          "text": [
            "\rValidating:  11%|\u2588         | 13/120 [00:02<00:16,  6.49it/s]"
          ]
        },
        {
          "output_type": "stream",
          "name": "stderr",
          "text": [
            "\rValidating:  12%|\u2588\u258f        | 14/120 [00:02<00:16,  6.54it/s]"
          ]
        },
        {
          "output_type": "stream",
          "name": "stderr",
          "text": [
            "\rValidating:  12%|\u2588\u258e        | 15/120 [00:03<00:15,  6.57it/s]"
          ]
        },
        {
          "output_type": "stream",
          "name": "stderr",
          "text": [
            "\rValidating:  13%|\u2588\u258e        | 16/120 [00:03<00:15,  6.60it/s]"
          ]
        },
        {
          "output_type": "stream",
          "name": "stderr",
          "text": [
            "\rValidating:  14%|\u2588\u258d        | 17/120 [00:03<00:15,  6.62it/s]"
          ]
        },
        {
          "output_type": "stream",
          "name": "stderr",
          "text": [
            "\rValidating:  15%|\u2588\u258c        | 18/120 [00:03<00:15,  6.63it/s]"
          ]
        },
        {
          "output_type": "stream",
          "name": "stderr",
          "text": [
            "\rValidating:  16%|\u2588\u258c        | 19/120 [00:03<00:15,  6.64it/s]"
          ]
        },
        {
          "output_type": "stream",
          "name": "stderr",
          "text": [
            "\rValidating:  17%|\u2588\u258b        | 20/120 [00:03<00:15,  6.64it/s]"
          ]
        },
        {
          "output_type": "stream",
          "name": "stderr",
          "text": [
            "\rValidating:  18%|\u2588\u258a        | 21/120 [00:04<00:14,  6.64it/s]"
          ]
        },
        {
          "output_type": "stream",
          "name": "stderr",
          "text": [
            "\rValidating:  18%|\u2588\u258a        | 22/120 [00:04<00:14,  6.65it/s]"
          ]
        },
        {
          "output_type": "stream",
          "name": "stderr",
          "text": [
            "\rValidating:  19%|\u2588\u2589        | 23/120 [00:04<00:14,  6.64it/s]"
          ]
        },
        {
          "output_type": "stream",
          "name": "stderr",
          "text": [
            "\rValidating:  20%|\u2588\u2588        | 24/120 [00:04<00:14,  6.64it/s]"
          ]
        },
        {
          "output_type": "stream",
          "name": "stderr",
          "text": [
            "\rValidating:  21%|\u2588\u2588        | 25/120 [00:04<00:14,  6.65it/s]"
          ]
        },
        {
          "output_type": "stream",
          "name": "stderr",
          "text": [
            "\rValidating:  22%|\u2588\u2588\u258f       | 26/120 [00:04<00:14,  6.65it/s]"
          ]
        },
        {
          "output_type": "stream",
          "name": "stderr",
          "text": [
            "\rValidating:  22%|\u2588\u2588\u258e       | 27/120 [00:04<00:13,  6.65it/s]"
          ]
        },
        {
          "output_type": "stream",
          "name": "stderr",
          "text": [
            "\rValidating:  23%|\u2588\u2588\u258e       | 28/120 [00:05<00:13,  6.66it/s]"
          ]
        },
        {
          "output_type": "stream",
          "name": "stderr",
          "text": [
            "\rValidating:  24%|\u2588\u2588\u258d       | 29/120 [00:05<00:13,  6.66it/s]"
          ]
        },
        {
          "output_type": "stream",
          "name": "stderr",
          "text": [
            "\rValidating:  25%|\u2588\u2588\u258c       | 30/120 [00:05<00:13,  6.65it/s]"
          ]
        },
        {
          "output_type": "stream",
          "name": "stderr",
          "text": [
            "\rValidating:  26%|\u2588\u2588\u258c       | 31/120 [00:05<00:13,  6.64it/s]"
          ]
        },
        {
          "output_type": "stream",
          "name": "stderr",
          "text": [
            "\rValidating:  27%|\u2588\u2588\u258b       | 32/120 [00:05<00:13,  6.63it/s]"
          ]
        },
        {
          "output_type": "stream",
          "name": "stderr",
          "text": [
            "\rValidating:  28%|\u2588\u2588\u258a       | 33/120 [00:05<00:13,  6.64it/s]"
          ]
        },
        {
          "output_type": "stream",
          "name": "stderr",
          "text": [
            "\rValidating:  28%|\u2588\u2588\u258a       | 34/120 [00:06<00:12,  6.65it/s]"
          ]
        },
        {
          "output_type": "stream",
          "name": "stderr",
          "text": [
            "\rValidating:  29%|\u2588\u2588\u2589       | 35/120 [00:06<00:12,  6.65it/s]"
          ]
        },
        {
          "output_type": "stream",
          "name": "stderr",
          "text": [
            "\rValidating:  30%|\u2588\u2588\u2588       | 36/120 [00:06<00:12,  6.65it/s]"
          ]
        },
        {
          "output_type": "stream",
          "name": "stderr",
          "text": [
            "\rValidating:  31%|\u2588\u2588\u2588       | 37/120 [00:06<00:12,  6.65it/s]"
          ]
        },
        {
          "output_type": "stream",
          "name": "stderr",
          "text": [
            "\rValidating:  32%|\u2588\u2588\u2588\u258f      | 38/120 [00:06<00:12,  6.64it/s]"
          ]
        },
        {
          "output_type": "stream",
          "name": "stderr",
          "text": [
            "\rValidating:  32%|\u2588\u2588\u2588\u258e      | 39/120 [00:06<00:12,  6.64it/s]"
          ]
        },
        {
          "output_type": "stream",
          "name": "stderr",
          "text": [
            "\rValidating:  33%|\u2588\u2588\u2588\u258e      | 40/120 [00:06<00:12,  6.62it/s]"
          ]
        },
        {
          "output_type": "stream",
          "name": "stderr",
          "text": [
            "\rValidating:  34%|\u2588\u2588\u2588\u258d      | 41/120 [00:07<00:11,  6.64it/s]"
          ]
        },
        {
          "output_type": "stream",
          "name": "stderr",
          "text": [
            "\rValidating:  35%|\u2588\u2588\u2588\u258c      | 42/120 [00:07<00:11,  6.64it/s]"
          ]
        },
        {
          "output_type": "stream",
          "name": "stderr",
          "text": [
            "\rValidating:  36%|\u2588\u2588\u2588\u258c      | 43/120 [00:07<00:11,  6.65it/s]"
          ]
        },
        {
          "output_type": "stream",
          "name": "stderr",
          "text": [
            "\rValidating:  37%|\u2588\u2588\u2588\u258b      | 44/120 [00:07<00:11,  6.64it/s]"
          ]
        },
        {
          "output_type": "stream",
          "name": "stderr",
          "text": [
            "\rValidating:  38%|\u2588\u2588\u2588\u258a      | 45/120 [00:07<00:11,  6.65it/s]"
          ]
        },
        {
          "output_type": "stream",
          "name": "stderr",
          "text": [
            "\rValidating:  38%|\u2588\u2588\u2588\u258a      | 46/120 [00:07<00:11,  6.64it/s]"
          ]
        },
        {
          "output_type": "stream",
          "name": "stderr",
          "text": [
            "\rValidating:  39%|\u2588\u2588\u2588\u2589      | 47/120 [00:07<00:10,  6.65it/s]"
          ]
        },
        {
          "output_type": "stream",
          "name": "stderr",
          "text": [
            "\rValidating:  40%|\u2588\u2588\u2588\u2588      | 48/120 [00:08<00:10,  6.65it/s]"
          ]
        },
        {
          "output_type": "stream",
          "name": "stderr",
          "text": [
            "\rValidating:  41%|\u2588\u2588\u2588\u2588      | 49/120 [00:08<00:10,  6.65it/s]"
          ]
        },
        {
          "output_type": "stream",
          "name": "stderr",
          "text": [
            "\rValidating:  42%|\u2588\u2588\u2588\u2588\u258f     | 50/120 [00:08<00:10,  6.64it/s]"
          ]
        },
        {
          "output_type": "stream",
          "name": "stderr",
          "text": [
            "\rValidating:  42%|\u2588\u2588\u2588\u2588\u258e     | 51/120 [00:08<00:10,  6.65it/s]"
          ]
        },
        {
          "output_type": "stream",
          "name": "stderr",
          "text": [
            "\rValidating:  43%|\u2588\u2588\u2588\u2588\u258e     | 52/120 [00:08<00:10,  6.64it/s]"
          ]
        },
        {
          "output_type": "stream",
          "name": "stderr",
          "text": [
            "\rValidating:  44%|\u2588\u2588\u2588\u2588\u258d     | 53/120 [00:08<00:10,  6.64it/s]"
          ]
        },
        {
          "output_type": "stream",
          "name": "stderr",
          "text": [
            "\rValidating:  45%|\u2588\u2588\u2588\u2588\u258c     | 54/120 [00:09<00:09,  6.64it/s]"
          ]
        },
        {
          "output_type": "stream",
          "name": "stderr",
          "text": [
            "\rValidating:  46%|\u2588\u2588\u2588\u2588\u258c     | 55/120 [00:09<00:09,  6.65it/s]"
          ]
        },
        {
          "output_type": "stream",
          "name": "stderr",
          "text": [
            "\rValidating:  47%|\u2588\u2588\u2588\u2588\u258b     | 56/120 [00:09<00:09,  6.64it/s]"
          ]
        },
        {
          "output_type": "stream",
          "name": "stderr",
          "text": [
            "\rValidating:  48%|\u2588\u2588\u2588\u2588\u258a     | 57/120 [00:09<00:09,  6.64it/s]"
          ]
        },
        {
          "output_type": "stream",
          "name": "stderr",
          "text": [
            "\rValidating:  48%|\u2588\u2588\u2588\u2588\u258a     | 58/120 [00:09<00:09,  6.64it/s]"
          ]
        },
        {
          "output_type": "stream",
          "name": "stderr",
          "text": [
            "\rValidating:  49%|\u2588\u2588\u2588\u2588\u2589     | 59/120 [00:09<00:09,  6.64it/s]"
          ]
        },
        {
          "output_type": "stream",
          "name": "stderr",
          "text": [
            "\rValidating:  50%|\u2588\u2588\u2588\u2588\u2588     | 60/120 [00:09<00:09,  6.64it/s]"
          ]
        },
        {
          "output_type": "stream",
          "name": "stderr",
          "text": [
            "\rValidating:  51%|\u2588\u2588\u2588\u2588\u2588     | 61/120 [00:10<00:08,  6.64it/s]"
          ]
        },
        {
          "output_type": "stream",
          "name": "stderr",
          "text": [
            "\rValidating:  52%|\u2588\u2588\u2588\u2588\u2588\u258f    | 62/120 [00:10<00:08,  6.64it/s]"
          ]
        },
        {
          "output_type": "stream",
          "name": "stderr",
          "text": [
            "\rValidating:  52%|\u2588\u2588\u2588\u2588\u2588\u258e    | 63/120 [00:10<00:08,  6.64it/s]"
          ]
        },
        {
          "output_type": "stream",
          "name": "stderr",
          "text": [
            "\rValidating:  53%|\u2588\u2588\u2588\u2588\u2588\u258e    | 64/120 [00:10<00:08,  6.64it/s]"
          ]
        },
        {
          "output_type": "stream",
          "name": "stderr",
          "text": [
            "\rValidating:  54%|\u2588\u2588\u2588\u2588\u2588\u258d    | 65/120 [00:10<00:08,  6.64it/s]"
          ]
        },
        {
          "output_type": "stream",
          "name": "stderr",
          "text": [
            "\rValidating:  55%|\u2588\u2588\u2588\u2588\u2588\u258c    | 66/120 [00:10<00:08,  6.64it/s]"
          ]
        },
        {
          "output_type": "stream",
          "name": "stderr",
          "text": [
            "\rValidating:  56%|\u2588\u2588\u2588\u2588\u2588\u258c    | 67/120 [00:10<00:07,  6.64it/s]"
          ]
        },
        {
          "output_type": "stream",
          "name": "stderr",
          "text": [
            "\rValidating:  57%|\u2588\u2588\u2588\u2588\u2588\u258b    | 68/120 [00:11<00:07,  6.64it/s]"
          ]
        },
        {
          "output_type": "stream",
          "name": "stderr",
          "text": [
            "\rValidating:  57%|\u2588\u2588\u2588\u2588\u2588\u258a    | 69/120 [00:11<00:07,  6.64it/s]"
          ]
        },
        {
          "output_type": "stream",
          "name": "stderr",
          "text": [
            "\rValidating:  58%|\u2588\u2588\u2588\u2588\u2588\u258a    | 70/120 [00:11<00:07,  6.63it/s]"
          ]
        },
        {
          "output_type": "stream",
          "name": "stderr",
          "text": [
            "\rValidating:  59%|\u2588\u2588\u2588\u2588\u2588\u2589    | 71/120 [00:11<00:07,  6.64it/s]"
          ]
        },
        {
          "output_type": "stream",
          "name": "stderr",
          "text": [
            "\rValidating:  60%|\u2588\u2588\u2588\u2588\u2588\u2588    | 72/120 [00:11<00:07,  6.62it/s]"
          ]
        },
        {
          "output_type": "stream",
          "name": "stderr",
          "text": [
            "\rValidating:  61%|\u2588\u2588\u2588\u2588\u2588\u2588    | 73/120 [00:11<00:07,  6.64it/s]"
          ]
        },
        {
          "output_type": "stream",
          "name": "stderr",
          "text": [
            "\rValidating:  62%|\u2588\u2588\u2588\u2588\u2588\u2588\u258f   | 74/120 [00:12<00:06,  6.64it/s]"
          ]
        },
        {
          "output_type": "stream",
          "name": "stderr",
          "text": [
            "\rValidating:  62%|\u2588\u2588\u2588\u2588\u2588\u2588\u258e   | 75/120 [00:12<00:06,  6.65it/s]"
          ]
        },
        {
          "output_type": "stream",
          "name": "stderr",
          "text": [
            "\rValidating:  63%|\u2588\u2588\u2588\u2588\u2588\u2588\u258e   | 76/120 [00:12<00:06,  6.64it/s]"
          ]
        },
        {
          "output_type": "stream",
          "name": "stderr",
          "text": [
            "\rValidating:  64%|\u2588\u2588\u2588\u2588\u2588\u2588\u258d   | 77/120 [00:12<00:06,  6.65it/s]"
          ]
        },
        {
          "output_type": "stream",
          "name": "stderr",
          "text": [
            "\rValidating:  65%|\u2588\u2588\u2588\u2588\u2588\u2588\u258c   | 78/120 [00:12<00:06,  6.65it/s]"
          ]
        },
        {
          "output_type": "stream",
          "name": "stderr",
          "text": [
            "\rValidating:  66%|\u2588\u2588\u2588\u2588\u2588\u2588\u258c   | 79/120 [00:12<00:06,  6.67it/s]"
          ]
        },
        {
          "output_type": "stream",
          "name": "stderr",
          "text": [
            "\rValidating:  67%|\u2588\u2588\u2588\u2588\u2588\u2588\u258b   | 80/120 [00:12<00:06,  6.65it/s]"
          ]
        },
        {
          "output_type": "stream",
          "name": "stderr",
          "text": [
            "\rValidating:  68%|\u2588\u2588\u2588\u2588\u2588\u2588\u258a   | 81/120 [00:13<00:05,  6.66it/s]"
          ]
        },
        {
          "output_type": "stream",
          "name": "stderr",
          "text": [
            "\rValidating:  68%|\u2588\u2588\u2588\u2588\u2588\u2588\u258a   | 82/120 [00:13<00:05,  6.65it/s]"
          ]
        },
        {
          "output_type": "stream",
          "name": "stderr",
          "text": [
            "\rValidating:  69%|\u2588\u2588\u2588\u2588\u2588\u2588\u2589   | 83/120 [00:13<00:05,  6.66it/s]"
          ]
        },
        {
          "output_type": "stream",
          "name": "stderr",
          "text": [
            "\rValidating:  70%|\u2588\u2588\u2588\u2588\u2588\u2588\u2588   | 84/120 [00:13<00:05,  6.65it/s]"
          ]
        },
        {
          "output_type": "stream",
          "name": "stderr",
          "text": [
            "\rValidating:  71%|\u2588\u2588\u2588\u2588\u2588\u2588\u2588   | 85/120 [00:13<00:05,  6.65it/s]"
          ]
        },
        {
          "output_type": "stream",
          "name": "stderr",
          "text": [
            "\rValidating:  72%|\u2588\u2588\u2588\u2588\u2588\u2588\u2588\u258f  | 86/120 [00:13<00:05,  6.65it/s]"
          ]
        },
        {
          "output_type": "stream",
          "name": "stderr",
          "text": [
            "\rValidating:  72%|\u2588\u2588\u2588\u2588\u2588\u2588\u2588\u258e  | 87/120 [00:13<00:04,  6.65it/s]"
          ]
        },
        {
          "output_type": "stream",
          "name": "stderr",
          "text": [
            "\rValidating:  73%|\u2588\u2588\u2588\u2588\u2588\u2588\u2588\u258e  | 88/120 [00:14<00:04,  6.64it/s]"
          ]
        },
        {
          "output_type": "stream",
          "name": "stderr",
          "text": [
            "\rValidating:  74%|\u2588\u2588\u2588\u2588\u2588\u2588\u2588\u258d  | 89/120 [00:14<00:04,  6.65it/s]"
          ]
        },
        {
          "output_type": "stream",
          "name": "stderr",
          "text": [
            "\rValidating:  75%|\u2588\u2588\u2588\u2588\u2588\u2588\u2588\u258c  | 90/120 [00:14<00:04,  6.65it/s]"
          ]
        },
        {
          "output_type": "stream",
          "name": "stderr",
          "text": [
            "\rValidating:  76%|\u2588\u2588\u2588\u2588\u2588\u2588\u2588\u258c  | 91/120 [00:14<00:04,  6.65it/s]"
          ]
        },
        {
          "output_type": "stream",
          "name": "stderr",
          "text": [
            "\rValidating:  77%|\u2588\u2588\u2588\u2588\u2588\u2588\u2588\u258b  | 92/120 [00:14<00:04,  6.64it/s]"
          ]
        },
        {
          "output_type": "stream",
          "name": "stderr",
          "text": [
            "\rValidating:  78%|\u2588\u2588\u2588\u2588\u2588\u2588\u2588\u258a  | 93/120 [00:14<00:04,  6.64it/s]"
          ]
        },
        {
          "output_type": "stream",
          "name": "stderr",
          "text": [
            "\rValidating:  78%|\u2588\u2588\u2588\u2588\u2588\u2588\u2588\u258a  | 94/120 [00:15<00:03,  6.64it/s]"
          ]
        },
        {
          "output_type": "stream",
          "name": "stderr",
          "text": [
            "\rValidating:  79%|\u2588\u2588\u2588\u2588\u2588\u2588\u2588\u2589  | 95/120 [00:15<00:03,  6.65it/s]"
          ]
        },
        {
          "output_type": "stream",
          "name": "stderr",
          "text": [
            "\rValidating:  80%|\u2588\u2588\u2588\u2588\u2588\u2588\u2588\u2588  | 96/120 [00:15<00:03,  6.64it/s]"
          ]
        },
        {
          "output_type": "stream",
          "name": "stderr",
          "text": [
            "\rValidating:  81%|\u2588\u2588\u2588\u2588\u2588\u2588\u2588\u2588  | 97/120 [00:15<00:03,  6.63it/s]"
          ]
        },
        {
          "output_type": "stream",
          "name": "stderr",
          "text": [
            "\rValidating:  82%|\u2588\u2588\u2588\u2588\u2588\u2588\u2588\u2588\u258f | 98/120 [00:15<00:03,  6.63it/s]"
          ]
        },
        {
          "output_type": "stream",
          "name": "stderr",
          "text": [
            "\rValidating:  82%|\u2588\u2588\u2588\u2588\u2588\u2588\u2588\u2588\u258e | 99/120 [00:15<00:03,  6.64it/s]"
          ]
        },
        {
          "output_type": "stream",
          "name": "stderr",
          "text": [
            "\rValidating:  83%|\u2588\u2588\u2588\u2588\u2588\u2588\u2588\u2588\u258e | 100/120 [00:15<00:03,  6.64it/s]"
          ]
        },
        {
          "output_type": "stream",
          "name": "stderr",
          "text": [
            "\rValidating:  84%|\u2588\u2588\u2588\u2588\u2588\u2588\u2588\u2588\u258d | 101/120 [00:16<00:02,  6.64it/s]"
          ]
        },
        {
          "output_type": "stream",
          "name": "stderr",
          "text": [
            "\rValidating:  85%|\u2588\u2588\u2588\u2588\u2588\u2588\u2588\u2588\u258c | 102/120 [00:16<00:02,  6.63it/s]"
          ]
        },
        {
          "output_type": "stream",
          "name": "stderr",
          "text": [
            "\rValidating:  86%|\u2588\u2588\u2588\u2588\u2588\u2588\u2588\u2588\u258c | 103/120 [00:16<00:02,  6.64it/s]"
          ]
        },
        {
          "output_type": "stream",
          "name": "stderr",
          "text": [
            "\rValidating:  87%|\u2588\u2588\u2588\u2588\u2588\u2588\u2588\u2588\u258b | 104/120 [00:16<00:02,  6.63it/s]"
          ]
        },
        {
          "output_type": "stream",
          "name": "stderr",
          "text": [
            "\rValidating:  88%|\u2588\u2588\u2588\u2588\u2588\u2588\u2588\u2588\u258a | 105/120 [00:16<00:02,  6.64it/s]"
          ]
        },
        {
          "output_type": "stream",
          "name": "stderr",
          "text": [
            "\rValidating:  88%|\u2588\u2588\u2588\u2588\u2588\u2588\u2588\u2588\u258a | 106/120 [00:16<00:02,  6.63it/s]"
          ]
        },
        {
          "output_type": "stream",
          "name": "stderr",
          "text": [
            "\rValidating:  89%|\u2588\u2588\u2588\u2588\u2588\u2588\u2588\u2588\u2589 | 107/120 [00:16<00:01,  6.64it/s]"
          ]
        },
        {
          "output_type": "stream",
          "name": "stderr",
          "text": [
            "\rValidating:  90%|\u2588\u2588\u2588\u2588\u2588\u2588\u2588\u2588\u2588 | 108/120 [00:17<00:01,  6.63it/s]"
          ]
        },
        {
          "output_type": "stream",
          "name": "stderr",
          "text": [
            "\rValidating:  91%|\u2588\u2588\u2588\u2588\u2588\u2588\u2588\u2588\u2588 | 109/120 [00:17<00:01,  6.64it/s]"
          ]
        },
        {
          "output_type": "stream",
          "name": "stderr",
          "text": [
            "\rValidating:  92%|\u2588\u2588\u2588\u2588\u2588\u2588\u2588\u2588\u2588\u258f| 110/120 [00:17<00:01,  6.62it/s]"
          ]
        },
        {
          "output_type": "stream",
          "name": "stderr",
          "text": [
            "\rValidating:  92%|\u2588\u2588\u2588\u2588\u2588\u2588\u2588\u2588\u2588\u258e| 111/120 [00:17<00:01,  6.64it/s]"
          ]
        },
        {
          "output_type": "stream",
          "name": "stderr",
          "text": [
            "\rValidating:  93%|\u2588\u2588\u2588\u2588\u2588\u2588\u2588\u2588\u2588\u258e| 112/120 [00:17<00:01,  6.63it/s]"
          ]
        },
        {
          "output_type": "stream",
          "name": "stderr",
          "text": [
            "\rValidating:  94%|\u2588\u2588\u2588\u2588\u2588\u2588\u2588\u2588\u2588\u258d| 113/120 [00:17<00:01,  6.64it/s]"
          ]
        },
        {
          "output_type": "stream",
          "name": "stderr",
          "text": [
            "\rValidating:  95%|\u2588\u2588\u2588\u2588\u2588\u2588\u2588\u2588\u2588\u258c| 114/120 [00:18<00:00,  6.64it/s]"
          ]
        },
        {
          "output_type": "stream",
          "name": "stderr",
          "text": [
            "\rValidating:  96%|\u2588\u2588\u2588\u2588\u2588\u2588\u2588\u2588\u2588\u258c| 115/120 [00:18<00:00,  6.65it/s]"
          ]
        },
        {
          "output_type": "stream",
          "name": "stderr",
          "text": [
            "\rValidating:  97%|\u2588\u2588\u2588\u2588\u2588\u2588\u2588\u2588\u2588\u258b| 116/120 [00:18<00:00,  6.65it/s]"
          ]
        },
        {
          "output_type": "stream",
          "name": "stderr",
          "text": [
            "\rValidating:  98%|\u2588\u2588\u2588\u2588\u2588\u2588\u2588\u2588\u2588\u258a| 117/120 [00:18<00:00,  6.66it/s]"
          ]
        },
        {
          "output_type": "stream",
          "name": "stderr",
          "text": [
            "\rValidating:  98%|\u2588\u2588\u2588\u2588\u2588\u2588\u2588\u2588\u2588\u258a| 118/120 [00:18<00:00,  6.65it/s]"
          ]
        },
        {
          "output_type": "stream",
          "name": "stderr",
          "text": [
            "\rValidating:  99%|\u2588\u2588\u2588\u2588\u2588\u2588\u2588\u2588\u2588\u2589| 119/120 [00:18<00:00,  6.66it/s]"
          ]
        },
        {
          "output_type": "stream",
          "name": "stderr",
          "text": [
            "\rValidating: 100%|\u2588\u2588\u2588\u2588\u2588\u2588\u2588\u2588\u2588\u2588| 120/120 [00:18<00:00,  6.35it/s]"
          ]
        },
        {
          "output_type": "stream",
          "name": "stderr",
          "text": [
            "\n"
          ]
        },
        {
          "output_type": "stream",
          "name": "stdout",
          "text": [
            "Epoch 3/20 - Time: 53s - Train Loss: 0.0905 - Val F0.5: 0.6726 @ thr=0.20 (P: 0.7787, R: 0.4354)\n  >> New best score! Model saved to best_model_fold_2.pth\n"
          ]
        },
        {
          "output_type": "stream",
          "name": "stderr",
          "text": [
            "\rTraining:   0%|          | 0/35 [00:00<?, ?it/s]"
          ]
        },
        {
          "output_type": "stream",
          "name": "stderr",
          "text": [
            "\rTraining:   3%|\u258e         | 1/35 [00:01<00:45,  1.32s/it]"
          ]
        },
        {
          "output_type": "stream",
          "name": "stderr",
          "text": [
            "\rTraining:   6%|\u258c         | 2/35 [00:01<00:23,  1.41it/s]"
          ]
        },
        {
          "output_type": "stream",
          "name": "stderr",
          "text": [
            "\rTraining:   9%|\u258a         | 3/35 [00:01<00:16,  1.95it/s]"
          ]
        },
        {
          "output_type": "stream",
          "name": "stderr",
          "text": [
            "\rTraining:  11%|\u2588\u258f        | 4/35 [00:02<00:13,  2.38it/s]"
          ]
        },
        {
          "output_type": "stream",
          "name": "stderr",
          "text": [
            "\rTraining:  14%|\u2588\u258d        | 5/35 [00:02<00:11,  2.71it/s]"
          ]
        },
        {
          "output_type": "stream",
          "name": "stderr",
          "text": [
            "\rTraining:  17%|\u2588\u258b        | 6/35 [00:02<00:09,  2.95it/s]"
          ]
        },
        {
          "output_type": "stream",
          "name": "stderr",
          "text": [
            "\rTraining:  20%|\u2588\u2588        | 7/35 [00:02<00:08,  3.14it/s]"
          ]
        },
        {
          "output_type": "stream",
          "name": "stderr",
          "text": [
            "\rTraining:  23%|\u2588\u2588\u258e       | 8/35 [00:03<00:08,  3.27it/s]"
          ]
        },
        {
          "output_type": "stream",
          "name": "stderr",
          "text": [
            "\rTraining:  26%|\u2588\u2588\u258c       | 9/35 [00:03<00:07,  3.37it/s]"
          ]
        },
        {
          "output_type": "stream",
          "name": "stderr",
          "text": [
            "\rTraining:  29%|\u2588\u2588\u258a       | 10/35 [00:03<00:07,  3.44it/s]"
          ]
        },
        {
          "output_type": "stream",
          "name": "stderr",
          "text": [
            "\rTraining:  31%|\u2588\u2588\u2588\u258f      | 11/35 [00:04<00:06,  3.50it/s]"
          ]
        },
        {
          "output_type": "stream",
          "name": "stderr",
          "text": [
            "\rTraining:  34%|\u2588\u2588\u2588\u258d      | 12/35 [00:04<00:06,  3.53it/s]"
          ]
        },
        {
          "output_type": "stream",
          "name": "stderr",
          "text": [
            "\rTraining:  37%|\u2588\u2588\u2588\u258b      | 13/35 [00:04<00:06,  3.55it/s]"
          ]
        },
        {
          "output_type": "stream",
          "name": "stderr",
          "text": [
            "\rTraining:  40%|\u2588\u2588\u2588\u2588      | 14/35 [00:04<00:05,  3.56it/s]"
          ]
        },
        {
          "output_type": "stream",
          "name": "stderr",
          "text": [
            "\rTraining:  43%|\u2588\u2588\u2588\u2588\u258e     | 15/35 [00:05<00:05,  3.57it/s]"
          ]
        },
        {
          "output_type": "stream",
          "name": "stderr",
          "text": [
            "\rTraining:  46%|\u2588\u2588\u2588\u2588\u258c     | 16/35 [00:05<00:05,  3.57it/s]"
          ]
        },
        {
          "output_type": "stream",
          "name": "stderr",
          "text": [
            "\rTraining:  49%|\u2588\u2588\u2588\u2588\u258a     | 17/35 [00:05<00:05,  3.58it/s]"
          ]
        },
        {
          "output_type": "stream",
          "name": "stderr",
          "text": [
            "\rTraining:  51%|\u2588\u2588\u2588\u2588\u2588\u258f    | 18/35 [00:06<00:04,  3.58it/s]"
          ]
        },
        {
          "output_type": "stream",
          "name": "stderr",
          "text": [
            "\rTraining:  54%|\u2588\u2588\u2588\u2588\u2588\u258d    | 19/35 [00:06<00:04,  3.59it/s]"
          ]
        },
        {
          "output_type": "stream",
          "name": "stderr",
          "text": [
            "\rTraining:  57%|\u2588\u2588\u2588\u2588\u2588\u258b    | 20/35 [00:06<00:04,  3.60it/s]"
          ]
        },
        {
          "output_type": "stream",
          "name": "stderr",
          "text": [
            "\rTraining:  60%|\u2588\u2588\u2588\u2588\u2588\u2588    | 21/35 [00:06<00:03,  3.60it/s]"
          ]
        },
        {
          "output_type": "stream",
          "name": "stderr",
          "text": [
            "\rTraining:  63%|\u2588\u2588\u2588\u2588\u2588\u2588\u258e   | 22/35 [00:07<00:03,  3.60it/s]"
          ]
        },
        {
          "output_type": "stream",
          "name": "stderr",
          "text": [
            "\rTraining:  66%|\u2588\u2588\u2588\u2588\u2588\u2588\u258c   | 23/35 [00:07<00:03,  3.59it/s]"
          ]
        },
        {
          "output_type": "stream",
          "name": "stderr",
          "text": [
            "\rTraining:  69%|\u2588\u2588\u2588\u2588\u2588\u2588\u258a   | 24/35 [00:07<00:03,  3.59it/s]"
          ]
        },
        {
          "output_type": "stream",
          "name": "stderr",
          "text": [
            "\rTraining:  71%|\u2588\u2588\u2588\u2588\u2588\u2588\u2588\u258f  | 25/35 [00:07<00:02,  3.59it/s]"
          ]
        },
        {
          "output_type": "stream",
          "name": "stderr",
          "text": [
            "\rTraining:  74%|\u2588\u2588\u2588\u2588\u2588\u2588\u2588\u258d  | 26/35 [00:08<00:02,  3.59it/s]"
          ]
        },
        {
          "output_type": "stream",
          "name": "stderr",
          "text": [
            "\rTraining:  77%|\u2588\u2588\u2588\u2588\u2588\u2588\u2588\u258b  | 27/35 [00:08<00:02,  3.60it/s]"
          ]
        },
        {
          "output_type": "stream",
          "name": "stderr",
          "text": [
            "\rTraining:  80%|\u2588\u2588\u2588\u2588\u2588\u2588\u2588\u2588  | 28/35 [00:08<00:01,  3.60it/s]"
          ]
        },
        {
          "output_type": "stream",
          "name": "stderr",
          "text": [
            "\rTraining:  83%|\u2588\u2588\u2588\u2588\u2588\u2588\u2588\u2588\u258e | 29/35 [00:09<00:01,  3.61it/s]"
          ]
        },
        {
          "output_type": "stream",
          "name": "stderr",
          "text": [
            "\rTraining:  86%|\u2588\u2588\u2588\u2588\u2588\u2588\u2588\u2588\u258c | 30/35 [00:09<00:01,  3.62it/s]"
          ]
        },
        {
          "output_type": "stream",
          "name": "stderr",
          "text": [
            "\rTraining:  89%|\u2588\u2588\u2588\u2588\u2588\u2588\u2588\u2588\u258a | 31/35 [00:09<00:01,  3.62it/s]"
          ]
        },
        {
          "output_type": "stream",
          "name": "stderr",
          "text": [
            "\rTraining:  91%|\u2588\u2588\u2588\u2588\u2588\u2588\u2588\u2588\u2588\u258f| 32/35 [00:09<00:00,  3.63it/s]"
          ]
        },
        {
          "output_type": "stream",
          "name": "stderr",
          "text": [
            "\rTraining:  94%|\u2588\u2588\u2588\u2588\u2588\u2588\u2588\u2588\u2588\u258d| 33/35 [00:10<00:00,  3.63it/s]"
          ]
        },
        {
          "output_type": "stream",
          "name": "stderr",
          "text": [
            "\rTraining:  97%|\u2588\u2588\u2588\u2588\u2588\u2588\u2588\u2588\u2588\u258b| 34/35 [00:10<00:00,  3.63it/s]"
          ]
        },
        {
          "output_type": "stream",
          "name": "stderr",
          "text": [
            "\rTraining: 100%|\u2588\u2588\u2588\u2588\u2588\u2588\u2588\u2588\u2588\u2588| 35/35 [00:10<00:00,  3.63it/s]"
          ]
        },
        {
          "output_type": "stream",
          "name": "stderr",
          "text": [
            "\rTraining: 100%|\u2588\u2588\u2588\u2588\u2588\u2588\u2588\u2588\u2588\u2588| 35/35 [00:10<00:00,  3.24it/s]"
          ]
        },
        {
          "output_type": "stream",
          "name": "stderr",
          "text": [
            "\n"
          ]
        },
        {
          "output_type": "stream",
          "name": "stderr",
          "text": [
            "\rValidating:   0%|          | 0/120 [00:00<?, ?it/s]"
          ]
        },
        {
          "output_type": "stream",
          "name": "stderr",
          "text": [
            "\rValidating:   1%|          | 1/120 [00:01<02:07,  1.07s/it]"
          ]
        },
        {
          "output_type": "stream",
          "name": "stderr",
          "text": [
            "\rValidating:   2%|\u258f         | 2/120 [00:01<01:02,  1.88it/s]"
          ]
        },
        {
          "output_type": "stream",
          "name": "stderr",
          "text": [
            "\rValidating:   2%|\u258e         | 3/120 [00:01<00:41,  2.80it/s]"
          ]
        },
        {
          "output_type": "stream",
          "name": "stderr",
          "text": [
            "\rValidating:   3%|\u258e         | 4/120 [00:01<00:32,  3.62it/s]"
          ]
        },
        {
          "output_type": "stream",
          "name": "stderr",
          "text": [
            "\rValidating:   4%|\u258d         | 5/120 [00:01<00:26,  4.33it/s]"
          ]
        },
        {
          "output_type": "stream",
          "name": "stderr",
          "text": [
            "\rValidating:   5%|\u258c         | 6/120 [00:01<00:23,  4.90it/s]"
          ]
        },
        {
          "output_type": "stream",
          "name": "stderr",
          "text": [
            "\rValidating:   6%|\u258c         | 7/120 [00:01<00:21,  5.37it/s]"
          ]
        },
        {
          "output_type": "stream",
          "name": "stderr",
          "text": [
            "\rValidating:   7%|\u258b         | 8/120 [00:02<00:19,  5.70it/s]"
          ]
        },
        {
          "output_type": "stream",
          "name": "stderr",
          "text": [
            "\rValidating:   8%|\u258a         | 9/120 [00:02<00:18,  5.97it/s]"
          ]
        },
        {
          "output_type": "stream",
          "name": "stderr",
          "text": [
            "\rValidating:   8%|\u258a         | 10/120 [00:02<00:17,  6.15it/s]"
          ]
        },
        {
          "output_type": "stream",
          "name": "stderr",
          "text": [
            "\rValidating:   9%|\u2589         | 11/120 [00:02<00:17,  6.29it/s]"
          ]
        },
        {
          "output_type": "stream",
          "name": "stderr",
          "text": [
            "\rValidating:  10%|\u2588         | 12/120 [00:02<00:16,  6.38it/s]"
          ]
        },
        {
          "output_type": "stream",
          "name": "stderr",
          "text": [
            "\rValidating:  11%|\u2588         | 13/120 [00:02<00:16,  6.45it/s]"
          ]
        },
        {
          "output_type": "stream",
          "name": "stderr",
          "text": [
            "\rValidating:  12%|\u2588\u258f        | 14/120 [00:03<00:16,  6.50it/s]"
          ]
        },
        {
          "output_type": "stream",
          "name": "stderr",
          "text": [
            "\rValidating:  12%|\u2588\u258e        | 15/120 [00:03<00:16,  6.54it/s]"
          ]
        },
        {
          "output_type": "stream",
          "name": "stderr",
          "text": [
            "\rValidating:  13%|\u2588\u258e        | 16/120 [00:03<00:15,  6.56it/s]"
          ]
        },
        {
          "output_type": "stream",
          "name": "stderr",
          "text": [
            "\rValidating:  14%|\u2588\u258d        | 17/120 [00:03<00:15,  6.58it/s]"
          ]
        },
        {
          "output_type": "stream",
          "name": "stderr",
          "text": [
            "\rValidating:  15%|\u2588\u258c        | 18/120 [00:03<00:15,  6.58it/s]"
          ]
        },
        {
          "output_type": "stream",
          "name": "stderr",
          "text": [
            "\rValidating:  16%|\u2588\u258c        | 19/120 [00:03<00:15,  6.60it/s]"
          ]
        },
        {
          "output_type": "stream",
          "name": "stderr",
          "text": [
            "\rValidating:  17%|\u2588\u258b        | 20/120 [00:03<00:15,  6.60it/s]"
          ]
        },
        {
          "output_type": "stream",
          "name": "stderr",
          "text": [
            "\rValidating:  18%|\u2588\u258a        | 21/120 [00:04<00:14,  6.62it/s]"
          ]
        },
        {
          "output_type": "stream",
          "name": "stderr",
          "text": [
            "\rValidating:  18%|\u2588\u258a        | 22/120 [00:04<00:14,  6.62it/s]"
          ]
        },
        {
          "output_type": "stream",
          "name": "stderr",
          "text": [
            "\rValidating:  19%|\u2588\u2589        | 23/120 [00:04<00:14,  6.63it/s]"
          ]
        },
        {
          "output_type": "stream",
          "name": "stderr",
          "text": [
            "\rValidating:  20%|\u2588\u2588        | 24/120 [00:04<00:14,  6.63it/s]"
          ]
        },
        {
          "output_type": "stream",
          "name": "stderr",
          "text": [
            "\rValidating:  21%|\u2588\u2588        | 25/120 [00:04<00:14,  6.64it/s]"
          ]
        },
        {
          "output_type": "stream",
          "name": "stderr",
          "text": [
            "\rValidating:  22%|\u2588\u2588\u258f       | 26/120 [00:04<00:14,  6.63it/s]"
          ]
        },
        {
          "output_type": "stream",
          "name": "stderr",
          "text": [
            "\rValidating:  22%|\u2588\u2588\u258e       | 27/120 [00:04<00:14,  6.64it/s]"
          ]
        },
        {
          "output_type": "stream",
          "name": "stderr",
          "text": [
            "\rValidating:  23%|\u2588\u2588\u258e       | 28/120 [00:05<00:13,  6.63it/s]"
          ]
        },
        {
          "output_type": "stream",
          "name": "stderr",
          "text": [
            "\rValidating:  24%|\u2588\u2588\u258d       | 29/120 [00:05<00:13,  6.65it/s]"
          ]
        },
        {
          "output_type": "stream",
          "name": "stderr",
          "text": [
            "\rValidating:  25%|\u2588\u2588\u258c       | 30/120 [00:05<00:13,  6.63it/s]"
          ]
        },
        {
          "output_type": "stream",
          "name": "stderr",
          "text": [
            "\rValidating:  26%|\u2588\u2588\u258c       | 31/120 [00:05<00:13,  6.63it/s]"
          ]
        },
        {
          "output_type": "stream",
          "name": "stderr",
          "text": [
            "\rValidating:  27%|\u2588\u2588\u258b       | 32/120 [00:05<00:13,  6.62it/s]"
          ]
        },
        {
          "output_type": "stream",
          "name": "stderr",
          "text": [
            "\rValidating:  28%|\u2588\u2588\u258a       | 33/120 [00:05<00:13,  6.61it/s]"
          ]
        },
        {
          "output_type": "stream",
          "name": "stderr",
          "text": [
            "\rValidating:  28%|\u2588\u2588\u258a       | 34/120 [00:06<00:13,  6.61it/s]"
          ]
        },
        {
          "output_type": "stream",
          "name": "stderr",
          "text": [
            "\rValidating:  29%|\u2588\u2588\u2589       | 35/120 [00:06<00:12,  6.62it/s]"
          ]
        },
        {
          "output_type": "stream",
          "name": "stderr",
          "text": [
            "\rValidating:  30%|\u2588\u2588\u2588       | 36/120 [00:06<00:12,  6.62it/s]"
          ]
        },
        {
          "output_type": "stream",
          "name": "stderr",
          "text": [
            "\rValidating:  31%|\u2588\u2588\u2588       | 37/120 [00:06<00:12,  6.63it/s]"
          ]
        },
        {
          "output_type": "stream",
          "name": "stderr",
          "text": [
            "\rValidating:  32%|\u2588\u2588\u2588\u258f      | 38/120 [00:06<00:12,  6.62it/s]"
          ]
        },
        {
          "output_type": "stream",
          "name": "stderr",
          "text": [
            "\rValidating:  32%|\u2588\u2588\u2588\u258e      | 39/120 [00:06<00:12,  6.62it/s]"
          ]
        },
        {
          "output_type": "stream",
          "name": "stderr",
          "text": [
            "\rValidating:  33%|\u2588\u2588\u2588\u258e      | 40/120 [00:06<00:12,  6.62it/s]"
          ]
        },
        {
          "output_type": "stream",
          "name": "stderr",
          "text": [
            "\rValidating:  34%|\u2588\u2588\u2588\u258d      | 41/120 [00:07<00:11,  6.62it/s]"
          ]
        },
        {
          "output_type": "stream",
          "name": "stderr",
          "text": [
            "\rValidating:  35%|\u2588\u2588\u2588\u258c      | 42/120 [00:07<00:11,  6.61it/s]"
          ]
        },
        {
          "output_type": "stream",
          "name": "stderr",
          "text": [
            "\rValidating:  36%|\u2588\u2588\u2588\u258c      | 43/120 [00:07<00:11,  6.61it/s]"
          ]
        },
        {
          "output_type": "stream",
          "name": "stderr",
          "text": [
            "\rValidating:  37%|\u2588\u2588\u2588\u258b      | 44/120 [00:07<00:11,  6.61it/s]"
          ]
        },
        {
          "output_type": "stream",
          "name": "stderr",
          "text": [
            "\rValidating:  38%|\u2588\u2588\u2588\u258a      | 45/120 [00:07<00:11,  6.61it/s]"
          ]
        },
        {
          "output_type": "stream",
          "name": "stderr",
          "text": [
            "\rValidating:  38%|\u2588\u2588\u2588\u258a      | 46/120 [00:07<00:11,  6.60it/s]"
          ]
        },
        {
          "output_type": "stream",
          "name": "stderr",
          "text": [
            "\rValidating:  39%|\u2588\u2588\u2588\u2589      | 47/120 [00:08<00:11,  6.60it/s]"
          ]
        },
        {
          "output_type": "stream",
          "name": "stderr",
          "text": [
            "\rValidating:  40%|\u2588\u2588\u2588\u2588      | 48/120 [00:08<00:10,  6.60it/s]"
          ]
        },
        {
          "output_type": "stream",
          "name": "stderr",
          "text": [
            "\rValidating:  41%|\u2588\u2588\u2588\u2588      | 49/120 [00:08<00:10,  6.60it/s]"
          ]
        },
        {
          "output_type": "stream",
          "name": "stderr",
          "text": [
            "\rValidating:  42%|\u2588\u2588\u2588\u2588\u258f     | 50/120 [00:08<00:10,  6.61it/s]"
          ]
        },
        {
          "output_type": "stream",
          "name": "stderr",
          "text": [
            "\rValidating:  42%|\u2588\u2588\u2588\u2588\u258e     | 51/120 [00:08<00:10,  6.62it/s]"
          ]
        },
        {
          "output_type": "stream",
          "name": "stderr",
          "text": [
            "\rValidating:  43%|\u2588\u2588\u2588\u2588\u258e     | 52/120 [00:08<00:10,  6.61it/s]"
          ]
        },
        {
          "output_type": "stream",
          "name": "stderr",
          "text": [
            "\rValidating:  44%|\u2588\u2588\u2588\u2588\u258d     | 53/120 [00:08<00:10,  6.61it/s]"
          ]
        },
        {
          "output_type": "stream",
          "name": "stderr",
          "text": [
            "\rValidating:  45%|\u2588\u2588\u2588\u2588\u258c     | 54/120 [00:09<00:09,  6.60it/s]"
          ]
        },
        {
          "output_type": "stream",
          "name": "stderr",
          "text": [
            "\rValidating:  46%|\u2588\u2588\u2588\u2588\u258c     | 55/120 [00:09<00:09,  6.61it/s]"
          ]
        },
        {
          "output_type": "stream",
          "name": "stderr",
          "text": [
            "\rValidating:  47%|\u2588\u2588\u2588\u2588\u258b     | 56/120 [00:09<00:09,  6.62it/s]"
          ]
        },
        {
          "output_type": "stream",
          "name": "stderr",
          "text": [
            "\rValidating:  48%|\u2588\u2588\u2588\u2588\u258a     | 57/120 [00:09<00:09,  6.63it/s]"
          ]
        },
        {
          "output_type": "stream",
          "name": "stderr",
          "text": [
            "\rValidating:  48%|\u2588\u2588\u2588\u2588\u258a     | 58/120 [00:09<00:09,  6.63it/s]"
          ]
        },
        {
          "output_type": "stream",
          "name": "stderr",
          "text": [
            "\rValidating:  49%|\u2588\u2588\u2588\u2588\u2589     | 59/120 [00:09<00:09,  6.63it/s]"
          ]
        },
        {
          "output_type": "stream",
          "name": "stderr",
          "text": [
            "\rValidating:  50%|\u2588\u2588\u2588\u2588\u2588     | 60/120 [00:09<00:09,  6.63it/s]"
          ]
        },
        {
          "output_type": "stream",
          "name": "stderr",
          "text": [
            "\rValidating:  51%|\u2588\u2588\u2588\u2588\u2588     | 61/120 [00:10<00:08,  6.64it/s]"
          ]
        },
        {
          "output_type": "stream",
          "name": "stderr",
          "text": [
            "\rValidating:  52%|\u2588\u2588\u2588\u2588\u2588\u258f    | 62/120 [00:10<00:08,  6.63it/s]"
          ]
        },
        {
          "output_type": "stream",
          "name": "stderr",
          "text": [
            "\rValidating:  52%|\u2588\u2588\u2588\u2588\u2588\u258e    | 63/120 [00:10<00:08,  6.63it/s]"
          ]
        },
        {
          "output_type": "stream",
          "name": "stderr",
          "text": [
            "\rValidating:  53%|\u2588\u2588\u2588\u2588\u2588\u258e    | 64/120 [00:10<00:08,  6.62it/s]"
          ]
        },
        {
          "output_type": "stream",
          "name": "stderr",
          "text": [
            "\rValidating:  54%|\u2588\u2588\u2588\u2588\u2588\u258d    | 65/120 [00:10<00:08,  6.62it/s]"
          ]
        },
        {
          "output_type": "stream",
          "name": "stderr",
          "text": [
            "\rValidating:  55%|\u2588\u2588\u2588\u2588\u2588\u258c    | 66/120 [00:10<00:08,  6.61it/s]"
          ]
        },
        {
          "output_type": "stream",
          "name": "stderr",
          "text": [
            "\rValidating:  56%|\u2588\u2588\u2588\u2588\u2588\u258c    | 67/120 [00:11<00:08,  6.61it/s]"
          ]
        },
        {
          "output_type": "stream",
          "name": "stderr",
          "text": [
            "\rValidating:  57%|\u2588\u2588\u2588\u2588\u2588\u258b    | 68/120 [00:11<00:07,  6.61it/s]"
          ]
        },
        {
          "output_type": "stream",
          "name": "stderr",
          "text": [
            "\rValidating:  57%|\u2588\u2588\u2588\u2588\u2588\u258a    | 69/120 [00:11<00:07,  6.61it/s]"
          ]
        },
        {
          "output_type": "stream",
          "name": "stderr",
          "text": [
            "\rValidating:  58%|\u2588\u2588\u2588\u2588\u2588\u258a    | 70/120 [00:11<00:07,  6.61it/s]"
          ]
        },
        {
          "output_type": "stream",
          "name": "stderr",
          "text": [
            "\rValidating:  59%|\u2588\u2588\u2588\u2588\u2588\u2589    | 71/120 [00:11<00:07,  6.61it/s]"
          ]
        },
        {
          "output_type": "stream",
          "name": "stderr",
          "text": [
            "\rValidating:  60%|\u2588\u2588\u2588\u2588\u2588\u2588    | 72/120 [00:11<00:07,  6.60it/s]"
          ]
        },
        {
          "output_type": "stream",
          "name": "stderr",
          "text": [
            "\rValidating:  61%|\u2588\u2588\u2588\u2588\u2588\u2588    | 73/120 [00:11<00:07,  6.60it/s]"
          ]
        },
        {
          "output_type": "stream",
          "name": "stderr",
          "text": [
            "\rValidating:  62%|\u2588\u2588\u2588\u2588\u2588\u2588\u258f   | 74/120 [00:12<00:06,  6.60it/s]"
          ]
        },
        {
          "output_type": "stream",
          "name": "stderr",
          "text": [
            "\rValidating:  62%|\u2588\u2588\u2588\u2588\u2588\u2588\u258e   | 75/120 [00:12<00:06,  6.61it/s]"
          ]
        },
        {
          "output_type": "stream",
          "name": "stderr",
          "text": [
            "\rValidating:  63%|\u2588\u2588\u2588\u2588\u2588\u2588\u258e   | 76/120 [00:12<00:06,  6.61it/s]"
          ]
        },
        {
          "output_type": "stream",
          "name": "stderr",
          "text": [
            "\rValidating:  64%|\u2588\u2588\u2588\u2588\u2588\u2588\u258d   | 77/120 [00:12<00:06,  6.62it/s]"
          ]
        },
        {
          "output_type": "stream",
          "name": "stderr",
          "text": [
            "\rValidating:  65%|\u2588\u2588\u2588\u2588\u2588\u2588\u258c   | 78/120 [00:12<00:06,  6.61it/s]"
          ]
        },
        {
          "output_type": "stream",
          "name": "stderr",
          "text": [
            "\rValidating:  66%|\u2588\u2588\u2588\u2588\u2588\u2588\u258c   | 79/120 [00:12<00:06,  6.62it/s]"
          ]
        },
        {
          "output_type": "stream",
          "name": "stderr",
          "text": [
            "\rValidating:  67%|\u2588\u2588\u2588\u2588\u2588\u2588\u258b   | 80/120 [00:13<00:06,  6.62it/s]"
          ]
        },
        {
          "output_type": "stream",
          "name": "stderr",
          "text": [
            "\rValidating:  68%|\u2588\u2588\u2588\u2588\u2588\u2588\u258a   | 81/120 [00:13<00:05,  6.62it/s]"
          ]
        },
        {
          "output_type": "stream",
          "name": "stderr",
          "text": [
            "\rValidating:  68%|\u2588\u2588\u2588\u2588\u2588\u2588\u258a   | 82/120 [00:13<00:05,  6.62it/s]"
          ]
        },
        {
          "output_type": "stream",
          "name": "stderr",
          "text": [
            "\rValidating:  69%|\u2588\u2588\u2588\u2588\u2588\u2588\u2589   | 83/120 [00:13<00:05,  6.61it/s]"
          ]
        },
        {
          "output_type": "stream",
          "name": "stderr",
          "text": [
            "\rValidating:  70%|\u2588\u2588\u2588\u2588\u2588\u2588\u2588   | 84/120 [00:13<00:05,  6.61it/s]"
          ]
        },
        {
          "output_type": "stream",
          "name": "stderr",
          "text": [
            "\rValidating:  71%|\u2588\u2588\u2588\u2588\u2588\u2588\u2588   | 85/120 [00:13<00:05,  6.61it/s]"
          ]
        },
        {
          "output_type": "stream",
          "name": "stderr",
          "text": [
            "\rValidating:  72%|\u2588\u2588\u2588\u2588\u2588\u2588\u2588\u258f  | 86/120 [00:13<00:05,  6.61it/s]"
          ]
        },
        {
          "output_type": "stream",
          "name": "stderr",
          "text": [
            "\rValidating:  72%|\u2588\u2588\u2588\u2588\u2588\u2588\u2588\u258e  | 87/120 [00:14<00:04,  6.62it/s]"
          ]
        },
        {
          "output_type": "stream",
          "name": "stderr",
          "text": [
            "\rValidating:  73%|\u2588\u2588\u2588\u2588\u2588\u2588\u2588\u258e  | 88/120 [00:14<00:04,  6.61it/s]"
          ]
        },
        {
          "output_type": "stream",
          "name": "stderr",
          "text": [
            "\rValidating:  74%|\u2588\u2588\u2588\u2588\u2588\u2588\u2588\u258d  | 89/120 [00:14<00:04,  6.62it/s]"
          ]
        },
        {
          "output_type": "stream",
          "name": "stderr",
          "text": [
            "\rValidating:  75%|\u2588\u2588\u2588\u2588\u2588\u2588\u2588\u258c  | 90/120 [00:14<00:04,  6.61it/s]"
          ]
        },
        {
          "output_type": "stream",
          "name": "stderr",
          "text": [
            "\rValidating:  76%|\u2588\u2588\u2588\u2588\u2588\u2588\u2588\u258c  | 91/120 [00:14<00:04,  6.62it/s]"
          ]
        },
        {
          "output_type": "stream",
          "name": "stderr",
          "text": [
            "\rValidating:  77%|\u2588\u2588\u2588\u2588\u2588\u2588\u2588\u258b  | 92/120 [00:14<00:04,  6.60it/s]"
          ]
        },
        {
          "output_type": "stream",
          "name": "stderr",
          "text": [
            "\rValidating:  78%|\u2588\u2588\u2588\u2588\u2588\u2588\u2588\u258a  | 93/120 [00:14<00:04,  6.60it/s]"
          ]
        },
        {
          "output_type": "stream",
          "name": "stderr",
          "text": [
            "\rValidating:  78%|\u2588\u2588\u2588\u2588\u2588\u2588\u2588\u258a  | 94/120 [00:15<00:03,  6.60it/s]"
          ]
        },
        {
          "output_type": "stream",
          "name": "stderr",
          "text": [
            "\rValidating:  79%|\u2588\u2588\u2588\u2588\u2588\u2588\u2588\u2589  | 95/120 [00:15<00:03,  6.60it/s]"
          ]
        },
        {
          "output_type": "stream",
          "name": "stderr",
          "text": [
            "\rValidating:  80%|\u2588\u2588\u2588\u2588\u2588\u2588\u2588\u2588  | 96/120 [00:15<00:03,  6.60it/s]"
          ]
        },
        {
          "output_type": "stream",
          "name": "stderr",
          "text": [
            "\rValidating:  81%|\u2588\u2588\u2588\u2588\u2588\u2588\u2588\u2588  | 97/120 [00:15<00:03,  6.61it/s]"
          ]
        },
        {
          "output_type": "stream",
          "name": "stderr",
          "text": [
            "\rValidating:  82%|\u2588\u2588\u2588\u2588\u2588\u2588\u2588\u2588\u258f | 98/120 [00:15<00:03,  6.62it/s]"
          ]
        },
        {
          "output_type": "stream",
          "name": "stderr",
          "text": [
            "\rValidating:  82%|\u2588\u2588\u2588\u2588\u2588\u2588\u2588\u2588\u258e | 99/120 [00:15<00:03,  6.62it/s]"
          ]
        },
        {
          "output_type": "stream",
          "name": "stderr",
          "text": [
            "\rValidating:  83%|\u2588\u2588\u2588\u2588\u2588\u2588\u2588\u2588\u258e | 100/120 [00:16<00:03,  6.62it/s]"
          ]
        },
        {
          "output_type": "stream",
          "name": "stderr",
          "text": [
            "\rValidating:  84%|\u2588\u2588\u2588\u2588\u2588\u2588\u2588\u2588\u258d | 101/120 [00:16<00:02,  6.62it/s]"
          ]
        },
        {
          "output_type": "stream",
          "name": "stderr",
          "text": [
            "\rValidating:  85%|\u2588\u2588\u2588\u2588\u2588\u2588\u2588\u2588\u258c | 102/120 [00:16<00:02,  6.61it/s]"
          ]
        },
        {
          "output_type": "stream",
          "name": "stderr",
          "text": [
            "\rValidating:  86%|\u2588\u2588\u2588\u2588\u2588\u2588\u2588\u2588\u258c | 103/120 [00:16<00:02,  6.62it/s]"
          ]
        },
        {
          "output_type": "stream",
          "name": "stderr",
          "text": [
            "\rValidating:  87%|\u2588\u2588\u2588\u2588\u2588\u2588\u2588\u2588\u258b | 104/120 [00:16<00:02,  6.62it/s]"
          ]
        },
        {
          "output_type": "stream",
          "name": "stderr",
          "text": [
            "\rValidating:  88%|\u2588\u2588\u2588\u2588\u2588\u2588\u2588\u2588\u258a | 105/120 [00:16<00:02,  6.63it/s]"
          ]
        },
        {
          "output_type": "stream",
          "name": "stderr",
          "text": [
            "\rValidating:  88%|\u2588\u2588\u2588\u2588\u2588\u2588\u2588\u2588\u258a | 106/120 [00:16<00:02,  6.62it/s]"
          ]
        },
        {
          "output_type": "stream",
          "name": "stderr",
          "text": [
            "\rValidating:  89%|\u2588\u2588\u2588\u2588\u2588\u2588\u2588\u2588\u2589 | 107/120 [00:17<00:01,  6.63it/s]"
          ]
        },
        {
          "output_type": "stream",
          "name": "stderr",
          "text": [
            "\rValidating:  90%|\u2588\u2588\u2588\u2588\u2588\u2588\u2588\u2588\u2588 | 108/120 [00:17<00:01,  6.62it/s]"
          ]
        },
        {
          "output_type": "stream",
          "name": "stderr",
          "text": [
            "\rValidating:  91%|\u2588\u2588\u2588\u2588\u2588\u2588\u2588\u2588\u2588 | 109/120 [00:17<00:01,  6.62it/s]"
          ]
        },
        {
          "output_type": "stream",
          "name": "stderr",
          "text": [
            "\rValidating:  92%|\u2588\u2588\u2588\u2588\u2588\u2588\u2588\u2588\u2588\u258f| 110/120 [00:17<00:01,  6.62it/s]"
          ]
        },
        {
          "output_type": "stream",
          "name": "stderr",
          "text": [
            "\rValidating:  92%|\u2588\u2588\u2588\u2588\u2588\u2588\u2588\u2588\u2588\u258e| 111/120 [00:17<00:01,  6.63it/s]"
          ]
        },
        {
          "output_type": "stream",
          "name": "stderr",
          "text": [
            "\rValidating:  93%|\u2588\u2588\u2588\u2588\u2588\u2588\u2588\u2588\u2588\u258e| 112/120 [00:17<00:01,  6.62it/s]"
          ]
        },
        {
          "output_type": "stream",
          "name": "stderr",
          "text": [
            "\rValidating:  94%|\u2588\u2588\u2588\u2588\u2588\u2588\u2588\u2588\u2588\u258d| 113/120 [00:17<00:01,  6.63it/s]"
          ]
        },
        {
          "output_type": "stream",
          "name": "stderr",
          "text": [
            "\rValidating:  95%|\u2588\u2588\u2588\u2588\u2588\u2588\u2588\u2588\u2588\u258c| 114/120 [00:18<00:00,  6.63it/s]"
          ]
        },
        {
          "output_type": "stream",
          "name": "stderr",
          "text": [
            "\rValidating:  96%|\u2588\u2588\u2588\u2588\u2588\u2588\u2588\u2588\u2588\u258c| 115/120 [00:18<00:00,  6.64it/s]"
          ]
        },
        {
          "output_type": "stream",
          "name": "stderr",
          "text": [
            "\rValidating:  97%|\u2588\u2588\u2588\u2588\u2588\u2588\u2588\u2588\u2588\u258b| 116/120 [00:18<00:00,  6.65it/s]"
          ]
        },
        {
          "output_type": "stream",
          "name": "stderr",
          "text": [
            "\rValidating:  98%|\u2588\u2588\u2588\u2588\u2588\u2588\u2588\u2588\u2588\u258a| 117/120 [00:18<00:00,  6.66it/s]"
          ]
        },
        {
          "output_type": "stream",
          "name": "stderr",
          "text": [
            "\rValidating:  98%|\u2588\u2588\u2588\u2588\u2588\u2588\u2588\u2588\u2588\u258a| 118/120 [00:18<00:00,  6.66it/s]"
          ]
        },
        {
          "output_type": "stream",
          "name": "stderr",
          "text": [
            "\rValidating:  99%|\u2588\u2588\u2588\u2588\u2588\u2588\u2588\u2588\u2588\u2589| 119/120 [00:18<00:00,  6.65it/s]"
          ]
        },
        {
          "output_type": "stream",
          "name": "stderr",
          "text": [
            "\rValidating: 100%|\u2588\u2588\u2588\u2588\u2588\u2588\u2588\u2588\u2588\u2588| 120/120 [00:18<00:00,  6.32it/s]"
          ]
        },
        {
          "output_type": "stream",
          "name": "stderr",
          "text": [
            "\n"
          ]
        },
        {
          "output_type": "stream",
          "name": "stdout",
          "text": [
            "Epoch 4/20 - Time: 52s - Train Loss: 0.0893 - Val F0.5: 0.6745 @ thr=0.20 (P: 0.7655, R: 0.4572)\n"
          ]
        },
        {
          "output_type": "stream",
          "name": "stdout",
          "text": [
            "  >> New best score! Model saved to best_model_fold_2.pth\n"
          ]
        },
        {
          "output_type": "stream",
          "name": "stderr",
          "text": [
            "\rTraining:   0%|          | 0/35 [00:00<?, ?it/s]"
          ]
        },
        {
          "output_type": "stream",
          "name": "stderr",
          "text": [
            "\rTraining:   3%|\u258e         | 1/35 [00:01<00:53,  1.56s/it]"
          ]
        },
        {
          "output_type": "stream",
          "name": "stderr",
          "text": [
            "\rTraining:   6%|\u258c         | 2/35 [00:01<00:26,  1.24it/s]"
          ]
        },
        {
          "output_type": "stream",
          "name": "stderr",
          "text": [
            "\rTraining:   9%|\u258a         | 3/35 [00:02<00:18,  1.77it/s]"
          ]
        },
        {
          "output_type": "stream",
          "name": "stderr",
          "text": [
            "\rTraining:  11%|\u2588\u258f        | 4/35 [00:02<00:14,  2.21it/s]"
          ]
        },
        {
          "output_type": "stream",
          "name": "stderr",
          "text": [
            "\rTraining:  14%|\u2588\u258d        | 5/35 [00:02<00:11,  2.57it/s]"
          ]
        },
        {
          "output_type": "stream",
          "name": "stderr",
          "text": [
            "\rTraining:  17%|\u2588\u258b        | 6/35 [00:02<00:10,  2.85it/s]"
          ]
        },
        {
          "output_type": "stream",
          "name": "stderr",
          "text": [
            "\rTraining:  20%|\u2588\u2588        | 7/35 [00:03<00:09,  3.06it/s]"
          ]
        },
        {
          "output_type": "stream",
          "name": "stderr",
          "text": [
            "\rTraining:  23%|\u2588\u2588\u258e       | 8/35 [00:03<00:08,  3.23it/s]"
          ]
        },
        {
          "output_type": "stream",
          "name": "stderr",
          "text": [
            "\rTraining:  26%|\u2588\u2588\u258c       | 9/35 [00:03<00:07,  3.34it/s]"
          ]
        },
        {
          "output_type": "stream",
          "name": "stderr",
          "text": [
            "\rTraining:  29%|\u2588\u2588\u258a       | 10/35 [00:04<00:07,  3.42it/s]"
          ]
        },
        {
          "output_type": "stream",
          "name": "stderr",
          "text": [
            "\rTraining:  31%|\u2588\u2588\u2588\u258f      | 11/35 [00:04<00:06,  3.47it/s]"
          ]
        },
        {
          "output_type": "stream",
          "name": "stderr",
          "text": [
            "\rTraining:  34%|\u2588\u2588\u2588\u258d      | 12/35 [00:04<00:06,  3.52it/s]"
          ]
        },
        {
          "output_type": "stream",
          "name": "stderr",
          "text": [
            "\rTraining:  37%|\u2588\u2588\u2588\u258b      | 13/35 [00:04<00:06,  3.54it/s]"
          ]
        },
        {
          "output_type": "stream",
          "name": "stderr",
          "text": [
            "\rTraining:  40%|\u2588\u2588\u2588\u2588      | 14/35 [00:05<00:05,  3.56it/s]"
          ]
        },
        {
          "output_type": "stream",
          "name": "stderr",
          "text": [
            "\rTraining:  43%|\u2588\u2588\u2588\u2588\u258e     | 15/35 [00:05<00:05,  3.57it/s]"
          ]
        },
        {
          "output_type": "stream",
          "name": "stderr",
          "text": [
            "\rTraining:  46%|\u2588\u2588\u2588\u2588\u258c     | 16/35 [00:05<00:05,  3.57it/s]"
          ]
        },
        {
          "output_type": "stream",
          "name": "stderr",
          "text": [
            "\rTraining:  49%|\u2588\u2588\u2588\u2588\u258a     | 17/35 [00:05<00:05,  3.59it/s]"
          ]
        },
        {
          "output_type": "stream",
          "name": "stderr",
          "text": [
            "\rTraining:  51%|\u2588\u2588\u2588\u2588\u2588\u258f    | 18/35 [00:06<00:04,  3.60it/s]"
          ]
        },
        {
          "output_type": "stream",
          "name": "stderr",
          "text": [
            "\rTraining:  54%|\u2588\u2588\u2588\u2588\u2588\u258d    | 19/35 [00:06<00:04,  3.60it/s]"
          ]
        },
        {
          "output_type": "stream",
          "name": "stderr",
          "text": [
            "\rTraining:  57%|\u2588\u2588\u2588\u2588\u2588\u258b    | 20/35 [00:06<00:04,  3.60it/s]"
          ]
        },
        {
          "output_type": "stream",
          "name": "stderr",
          "text": [
            "\rTraining:  60%|\u2588\u2588\u2588\u2588\u2588\u2588    | 21/35 [00:07<00:03,  3.60it/s]"
          ]
        },
        {
          "output_type": "stream",
          "name": "stderr",
          "text": [
            "\rTraining:  63%|\u2588\u2588\u2588\u2588\u2588\u2588\u258e   | 22/35 [00:07<00:03,  3.60it/s]"
          ]
        },
        {
          "output_type": "stream",
          "name": "stderr",
          "text": [
            "\rTraining:  66%|\u2588\u2588\u2588\u2588\u2588\u2588\u258c   | 23/35 [00:07<00:03,  3.60it/s]"
          ]
        },
        {
          "output_type": "stream",
          "name": "stderr",
          "text": [
            "\rTraining:  69%|\u2588\u2588\u2588\u2588\u2588\u2588\u258a   | 24/35 [00:07<00:03,  3.60it/s]"
          ]
        },
        {
          "output_type": "stream",
          "name": "stderr",
          "text": [
            "\rTraining:  71%|\u2588\u2588\u2588\u2588\u2588\u2588\u2588\u258f  | 25/35 [00:08<00:02,  3.60it/s]"
          ]
        },
        {
          "output_type": "stream",
          "name": "stderr",
          "text": [
            "\rTraining:  74%|\u2588\u2588\u2588\u2588\u2588\u2588\u2588\u258d  | 26/35 [00:08<00:02,  3.59it/s]"
          ]
        },
        {
          "output_type": "stream",
          "name": "stderr",
          "text": [
            "\rTraining:  77%|\u2588\u2588\u2588\u2588\u2588\u2588\u2588\u258b  | 27/35 [00:08<00:02,  3.59it/s]"
          ]
        },
        {
          "output_type": "stream",
          "name": "stderr",
          "text": [
            "\rTraining:  80%|\u2588\u2588\u2588\u2588\u2588\u2588\u2588\u2588  | 28/35 [00:09<00:01,  3.60it/s]"
          ]
        },
        {
          "output_type": "stream",
          "name": "stderr",
          "text": [
            "\rTraining:  83%|\u2588\u2588\u2588\u2588\u2588\u2588\u2588\u2588\u258e | 29/35 [00:09<00:01,  3.61it/s]"
          ]
        },
        {
          "output_type": "stream",
          "name": "stderr",
          "text": [
            "\rTraining:  86%|\u2588\u2588\u2588\u2588\u2588\u2588\u2588\u2588\u258c | 30/35 [00:09<00:01,  3.62it/s]"
          ]
        },
        {
          "output_type": "stream",
          "name": "stderr",
          "text": [
            "\rTraining:  89%|\u2588\u2588\u2588\u2588\u2588\u2588\u2588\u2588\u258a | 31/35 [00:09<00:01,  3.62it/s]"
          ]
        },
        {
          "output_type": "stream",
          "name": "stderr",
          "text": [
            "\rTraining:  91%|\u2588\u2588\u2588\u2588\u2588\u2588\u2588\u2588\u2588\u258f| 32/35 [00:10<00:00,  3.62it/s]"
          ]
        },
        {
          "output_type": "stream",
          "name": "stderr",
          "text": [
            "\rTraining:  94%|\u2588\u2588\u2588\u2588\u2588\u2588\u2588\u2588\u2588\u258d| 33/35 [00:10<00:00,  3.63it/s]"
          ]
        },
        {
          "output_type": "stream",
          "name": "stderr",
          "text": [
            "\rTraining:  97%|\u2588\u2588\u2588\u2588\u2588\u2588\u2588\u2588\u2588\u258b| 34/35 [00:10<00:00,  3.63it/s]"
          ]
        },
        {
          "output_type": "stream",
          "name": "stderr",
          "text": [
            "\rTraining: 100%|\u2588\u2588\u2588\u2588\u2588\u2588\u2588\u2588\u2588\u2588| 35/35 [00:10<00:00,  3.62it/s]"
          ]
        },
        {
          "output_type": "stream",
          "name": "stderr",
          "text": [
            "\rTraining: 100%|\u2588\u2588\u2588\u2588\u2588\u2588\u2588\u2588\u2588\u2588| 35/35 [00:11<00:00,  3.17it/s]"
          ]
        },
        {
          "output_type": "stream",
          "name": "stderr",
          "text": [
            "\n"
          ]
        },
        {
          "output_type": "stream",
          "name": "stderr",
          "text": [
            "\rValidating:   0%|          | 0/120 [00:00<?, ?it/s]"
          ]
        },
        {
          "output_type": "stream",
          "name": "stderr",
          "text": [
            "\rValidating:   1%|          | 1/120 [00:00<01:55,  1.03it/s]"
          ]
        },
        {
          "output_type": "stream",
          "name": "stderr",
          "text": [
            "\rValidating:   2%|\u258f         | 2/120 [00:01<00:57,  2.04it/s]"
          ]
        },
        {
          "output_type": "stream",
          "name": "stderr",
          "text": [
            "\rValidating:   2%|\u258e         | 3/120 [00:01<00:39,  2.98it/s]"
          ]
        },
        {
          "output_type": "stream",
          "name": "stderr",
          "text": [
            "\rValidating:   3%|\u258e         | 4/120 [00:01<00:30,  3.82it/s]"
          ]
        },
        {
          "output_type": "stream",
          "name": "stderr",
          "text": [
            "\rValidating:   4%|\u258d         | 5/120 [00:01<00:25,  4.52it/s]"
          ]
        },
        {
          "output_type": "stream",
          "name": "stderr",
          "text": [
            "\rValidating:   5%|\u258c         | 6/120 [00:01<00:22,  5.08it/s]"
          ]
        },
        {
          "output_type": "stream",
          "name": "stderr",
          "text": [
            "\rValidating:   6%|\u258c         | 7/120 [00:01<00:20,  5.52it/s]"
          ]
        },
        {
          "output_type": "stream",
          "name": "stderr",
          "text": [
            "\rValidating:   7%|\u258b         | 8/120 [00:02<00:19,  5.85it/s]"
          ]
        },
        {
          "output_type": "stream",
          "name": "stderr",
          "text": [
            "\rValidating:   8%|\u258a         | 9/120 [00:02<00:18,  6.09it/s]"
          ]
        },
        {
          "output_type": "stream",
          "name": "stderr",
          "text": [
            "\rValidating:   8%|\u258a         | 10/120 [00:02<00:17,  6.26it/s]"
          ]
        },
        {
          "output_type": "stream",
          "name": "stderr",
          "text": [
            "\rValidating:   9%|\u2589         | 11/120 [00:02<00:17,  6.38it/s]"
          ]
        },
        {
          "output_type": "stream",
          "name": "stderr",
          "text": [
            "\rValidating:  10%|\u2588         | 12/120 [00:02<00:16,  6.47it/s]"
          ]
        },
        {
          "output_type": "stream",
          "name": "stderr",
          "text": [
            "\rValidating:  11%|\u2588         | 13/120 [00:02<00:16,  6.53it/s]"
          ]
        },
        {
          "output_type": "stream",
          "name": "stderr",
          "text": [
            "\rValidating:  12%|\u2588\u258f        | 14/120 [00:02<00:16,  6.56it/s]"
          ]
        },
        {
          "output_type": "stream",
          "name": "stderr",
          "text": [
            "\rValidating:  12%|\u2588\u258e        | 15/120 [00:03<00:15,  6.60it/s]"
          ]
        },
        {
          "output_type": "stream",
          "name": "stderr",
          "text": [
            "\rValidating:  13%|\u2588\u258e        | 16/120 [00:03<00:15,  6.62it/s]"
          ]
        },
        {
          "output_type": "stream",
          "name": "stderr",
          "text": [
            "\rValidating:  14%|\u2588\u258d        | 17/120 [00:03<00:15,  6.64it/s]"
          ]
        },
        {
          "output_type": "stream",
          "name": "stderr",
          "text": [
            "\rValidating:  15%|\u2588\u258c        | 18/120 [00:03<00:15,  6.65it/s]"
          ]
        },
        {
          "output_type": "stream",
          "name": "stderr",
          "text": [
            "\rValidating:  16%|\u2588\u258c        | 19/120 [00:03<00:15,  6.66it/s]"
          ]
        },
        {
          "output_type": "stream",
          "name": "stderr",
          "text": [
            "\rValidating:  17%|\u2588\u258b        | 20/120 [00:03<00:14,  6.67it/s]"
          ]
        },
        {
          "output_type": "stream",
          "name": "stderr",
          "text": [
            "\rValidating:  18%|\u2588\u258a        | 21/120 [00:03<00:14,  6.67it/s]"
          ]
        },
        {
          "output_type": "stream",
          "name": "stderr",
          "text": [
            "\rValidating:  18%|\u2588\u258a        | 22/120 [00:04<00:14,  6.67it/s]"
          ]
        },
        {
          "output_type": "stream",
          "name": "stderr",
          "text": [
            "\rValidating:  19%|\u2588\u2589        | 23/120 [00:04<00:14,  6.67it/s]"
          ]
        },
        {
          "output_type": "stream",
          "name": "stderr",
          "text": [
            "\rValidating:  20%|\u2588\u2588        | 24/120 [00:04<00:14,  6.67it/s]"
          ]
        },
        {
          "output_type": "stream",
          "name": "stderr",
          "text": [
            "\rValidating:  21%|\u2588\u2588        | 25/120 [00:04<00:14,  6.67it/s]"
          ]
        },
        {
          "output_type": "stream",
          "name": "stderr",
          "text": [
            "\rValidating:  22%|\u2588\u2588\u258f       | 26/120 [00:04<00:14,  6.67it/s]"
          ]
        },
        {
          "output_type": "stream",
          "name": "stderr",
          "text": [
            "\rValidating:  22%|\u2588\u2588\u258e       | 27/120 [00:04<00:13,  6.66it/s]"
          ]
        },
        {
          "output_type": "stream",
          "name": "stderr",
          "text": [
            "\rValidating:  23%|\u2588\u2588\u258e       | 28/120 [00:05<00:13,  6.66it/s]"
          ]
        },
        {
          "output_type": "stream",
          "name": "stderr",
          "text": [
            "\rValidating:  24%|\u2588\u2588\u258d       | 29/120 [00:05<00:13,  6.66it/s]"
          ]
        },
        {
          "output_type": "stream",
          "name": "stderr",
          "text": [
            "\rValidating:  25%|\u2588\u2588\u258c       | 30/120 [00:05<00:13,  6.66it/s]"
          ]
        },
        {
          "output_type": "stream",
          "name": "stderr",
          "text": [
            "\rValidating:  26%|\u2588\u2588\u258c       | 31/120 [00:05<00:13,  6.66it/s]"
          ]
        },
        {
          "output_type": "stream",
          "name": "stderr",
          "text": [
            "\rValidating:  27%|\u2588\u2588\u258b       | 32/120 [00:05<00:13,  6.67it/s]"
          ]
        },
        {
          "output_type": "stream",
          "name": "stderr",
          "text": [
            "\rValidating:  28%|\u2588\u2588\u258a       | 33/120 [00:05<00:13,  6.66it/s]"
          ]
        },
        {
          "output_type": "stream",
          "name": "stderr",
          "text": [
            "\rValidating:  28%|\u2588\u2588\u258a       | 34/120 [00:05<00:12,  6.66it/s]"
          ]
        },
        {
          "output_type": "stream",
          "name": "stderr",
          "text": [
            "\rValidating:  29%|\u2588\u2588\u2589       | 35/120 [00:06<00:12,  6.66it/s]"
          ]
        },
        {
          "output_type": "stream",
          "name": "stderr",
          "text": [
            "\rValidating:  30%|\u2588\u2588\u2588       | 36/120 [00:06<00:12,  6.66it/s]"
          ]
        },
        {
          "output_type": "stream",
          "name": "stderr",
          "text": [
            "\rValidating:  31%|\u2588\u2588\u2588       | 37/120 [00:06<00:12,  6.65it/s]"
          ]
        },
        {
          "output_type": "stream",
          "name": "stderr",
          "text": [
            "\rValidating:  32%|\u2588\u2588\u2588\u258f      | 38/120 [00:06<00:12,  6.66it/s]"
          ]
        },
        {
          "output_type": "stream",
          "name": "stderr",
          "text": [
            "\rValidating:  32%|\u2588\u2588\u2588\u258e      | 39/120 [00:06<00:12,  6.67it/s]"
          ]
        },
        {
          "output_type": "stream",
          "name": "stderr",
          "text": [
            "\rValidating:  33%|\u2588\u2588\u2588\u258e      | 40/120 [00:06<00:11,  6.68it/s]"
          ]
        },
        {
          "output_type": "stream",
          "name": "stderr",
          "text": [
            "\rValidating:  34%|\u2588\u2588\u2588\u258d      | 41/120 [00:06<00:11,  6.68it/s]"
          ]
        },
        {
          "output_type": "stream",
          "name": "stderr",
          "text": [
            "\rValidating:  35%|\u2588\u2588\u2588\u258c      | 42/120 [00:07<00:11,  6.69it/s]"
          ]
        },
        {
          "output_type": "stream",
          "name": "stderr",
          "text": [
            "\rValidating:  36%|\u2588\u2588\u2588\u258c      | 43/120 [00:07<00:11,  6.69it/s]"
          ]
        },
        {
          "output_type": "stream",
          "name": "stderr",
          "text": [
            "\rValidating:  37%|\u2588\u2588\u2588\u258b      | 44/120 [00:07<00:11,  6.68it/s]"
          ]
        },
        {
          "output_type": "stream",
          "name": "stderr",
          "text": [
            "\rValidating:  38%|\u2588\u2588\u2588\u258a      | 45/120 [00:07<00:11,  6.68it/s]"
          ]
        },
        {
          "output_type": "stream",
          "name": "stderr",
          "text": [
            "\rValidating:  38%|\u2588\u2588\u2588\u258a      | 46/120 [00:07<00:11,  6.68it/s]"
          ]
        },
        {
          "output_type": "stream",
          "name": "stderr",
          "text": [
            "\rValidating:  39%|\u2588\u2588\u2588\u2589      | 47/120 [00:07<00:10,  6.68it/s]"
          ]
        },
        {
          "output_type": "stream",
          "name": "stderr",
          "text": [
            "\rValidating:  40%|\u2588\u2588\u2588\u2588      | 48/120 [00:08<00:10,  6.68it/s]"
          ]
        },
        {
          "output_type": "stream",
          "name": "stderr",
          "text": [
            "\rValidating:  41%|\u2588\u2588\u2588\u2588      | 49/120 [00:08<00:10,  6.66it/s]"
          ]
        },
        {
          "output_type": "stream",
          "name": "stderr",
          "text": [
            "\rValidating:  42%|\u2588\u2588\u2588\u2588\u258f     | 50/120 [00:08<00:10,  6.66it/s]"
          ]
        },
        {
          "output_type": "stream",
          "name": "stderr",
          "text": [
            "\rValidating:  42%|\u2588\u2588\u2588\u2588\u258e     | 51/120 [00:08<00:10,  6.67it/s]"
          ]
        },
        {
          "output_type": "stream",
          "name": "stderr",
          "text": [
            "\rValidating:  43%|\u2588\u2588\u2588\u2588\u258e     | 52/120 [00:08<00:10,  6.67it/s]"
          ]
        },
        {
          "output_type": "stream",
          "name": "stderr",
          "text": [
            "\rValidating:  44%|\u2588\u2588\u2588\u2588\u258d     | 53/120 [00:08<00:10,  6.67it/s]"
          ]
        },
        {
          "output_type": "stream",
          "name": "stderr",
          "text": [
            "\rValidating:  45%|\u2588\u2588\u2588\u2588\u258c     | 54/120 [00:08<00:09,  6.67it/s]"
          ]
        },
        {
          "output_type": "stream",
          "name": "stderr",
          "text": [
            "\rValidating:  46%|\u2588\u2588\u2588\u2588\u258c     | 55/120 [00:09<00:09,  6.68it/s]"
          ]
        },
        {
          "output_type": "stream",
          "name": "stderr",
          "text": [
            "\rValidating:  47%|\u2588\u2588\u2588\u2588\u258b     | 56/120 [00:09<00:09,  6.68it/s]"
          ]
        },
        {
          "output_type": "stream",
          "name": "stderr",
          "text": [
            "\rValidating:  48%|\u2588\u2588\u2588\u2588\u258a     | 57/120 [00:09<00:09,  6.67it/s]"
          ]
        },
        {
          "output_type": "stream",
          "name": "stderr",
          "text": [
            "\rValidating:  48%|\u2588\u2588\u2588\u2588\u258a     | 58/120 [00:09<00:09,  6.68it/s]"
          ]
        },
        {
          "output_type": "stream",
          "name": "stderr",
          "text": [
            "\rValidating:  49%|\u2588\u2588\u2588\u2588\u2589     | 59/120 [00:09<00:09,  6.68it/s]"
          ]
        },
        {
          "output_type": "stream",
          "name": "stderr",
          "text": [
            "\rValidating:  50%|\u2588\u2588\u2588\u2588\u2588     | 60/120 [00:09<00:08,  6.68it/s]"
          ]
        },
        {
          "output_type": "stream",
          "name": "stderr",
          "text": [
            "\rValidating:  51%|\u2588\u2588\u2588\u2588\u2588     | 61/120 [00:09<00:08,  6.68it/s]"
          ]
        },
        {
          "output_type": "stream",
          "name": "stderr",
          "text": [
            "\rValidating:  52%|\u2588\u2588\u2588\u2588\u2588\u258f    | 62/120 [00:10<00:08,  6.67it/s]"
          ]
        },
        {
          "output_type": "stream",
          "name": "stderr",
          "text": [
            "\rValidating:  52%|\u2588\u2588\u2588\u2588\u2588\u258e    | 63/120 [00:10<00:08,  6.67it/s]"
          ]
        },
        {
          "output_type": "stream",
          "name": "stderr",
          "text": [
            "\rValidating:  53%|\u2588\u2588\u2588\u2588\u2588\u258e    | 64/120 [00:10<00:08,  6.68it/s]"
          ]
        },
        {
          "output_type": "stream",
          "name": "stderr",
          "text": [
            "\rValidating:  54%|\u2588\u2588\u2588\u2588\u2588\u258d    | 65/120 [00:10<00:08,  6.67it/s]"
          ]
        },
        {
          "output_type": "stream",
          "name": "stderr",
          "text": [
            "\rValidating:  55%|\u2588\u2588\u2588\u2588\u2588\u258c    | 66/120 [00:10<00:08,  6.67it/s]"
          ]
        },
        {
          "output_type": "stream",
          "name": "stderr",
          "text": [
            "\rValidating:  56%|\u2588\u2588\u2588\u2588\u2588\u258c    | 67/120 [00:10<00:07,  6.68it/s]"
          ]
        },
        {
          "output_type": "stream",
          "name": "stderr",
          "text": [
            "\rValidating:  57%|\u2588\u2588\u2588\u2588\u2588\u258b    | 68/120 [00:11<00:07,  6.68it/s]"
          ]
        },
        {
          "output_type": "stream",
          "name": "stderr",
          "text": [
            "\rValidating:  57%|\u2588\u2588\u2588\u2588\u2588\u258a    | 69/120 [00:11<00:07,  6.68it/s]"
          ]
        },
        {
          "output_type": "stream",
          "name": "stderr",
          "text": [
            "\rValidating:  58%|\u2588\u2588\u2588\u2588\u2588\u258a    | 70/120 [00:11<00:07,  6.67it/s]"
          ]
        },
        {
          "output_type": "stream",
          "name": "stderr",
          "text": [
            "\rValidating:  59%|\u2588\u2588\u2588\u2588\u2588\u2589    | 71/120 [00:11<00:07,  6.67it/s]"
          ]
        },
        {
          "output_type": "stream",
          "name": "stderr",
          "text": [
            "\rValidating:  60%|\u2588\u2588\u2588\u2588\u2588\u2588    | 72/120 [00:11<00:07,  6.67it/s]"
          ]
        },
        {
          "output_type": "stream",
          "name": "stderr",
          "text": [
            "\rValidating:  61%|\u2588\u2588\u2588\u2588\u2588\u2588    | 73/120 [00:11<00:07,  6.67it/s]"
          ]
        },
        {
          "output_type": "stream",
          "name": "stderr",
          "text": [
            "\rValidating:  62%|\u2588\u2588\u2588\u2588\u2588\u2588\u258f   | 74/120 [00:11<00:06,  6.66it/s]"
          ]
        },
        {
          "output_type": "stream",
          "name": "stderr",
          "text": [
            "\rValidating:  62%|\u2588\u2588\u2588\u2588\u2588\u2588\u258e   | 75/120 [00:12<00:06,  6.66it/s]"
          ]
        },
        {
          "output_type": "stream",
          "name": "stderr",
          "text": [
            "\rValidating:  63%|\u2588\u2588\u2588\u2588\u2588\u2588\u258e   | 76/120 [00:12<00:06,  6.66it/s]"
          ]
        },
        {
          "output_type": "stream",
          "name": "stderr",
          "text": [
            "\rValidating:  64%|\u2588\u2588\u2588\u2588\u2588\u2588\u258d   | 77/120 [00:12<00:06,  6.66it/s]"
          ]
        },
        {
          "output_type": "stream",
          "name": "stderr",
          "text": [
            "\rValidating:  65%|\u2588\u2588\u2588\u2588\u2588\u2588\u258c   | 78/120 [00:12<00:06,  6.66it/s]"
          ]
        },
        {
          "output_type": "stream",
          "name": "stderr",
          "text": [
            "\rValidating:  66%|\u2588\u2588\u2588\u2588\u2588\u2588\u258c   | 79/120 [00:12<00:06,  6.66it/s]"
          ]
        },
        {
          "output_type": "stream",
          "name": "stderr",
          "text": [
            "\rValidating:  67%|\u2588\u2588\u2588\u2588\u2588\u2588\u258b   | 80/120 [00:12<00:05,  6.67it/s]"
          ]
        },
        {
          "output_type": "stream",
          "name": "stderr",
          "text": [
            "\rValidating:  68%|\u2588\u2588\u2588\u2588\u2588\u2588\u258a   | 81/120 [00:12<00:05,  6.66it/s]"
          ]
        },
        {
          "output_type": "stream",
          "name": "stderr",
          "text": [
            "\rValidating:  68%|\u2588\u2588\u2588\u2588\u2588\u2588\u258a   | 82/120 [00:13<00:05,  6.66it/s]"
          ]
        },
        {
          "output_type": "stream",
          "name": "stderr",
          "text": [
            "\rValidating:  69%|\u2588\u2588\u2588\u2588\u2588\u2588\u2589   | 83/120 [00:13<00:05,  6.66it/s]"
          ]
        },
        {
          "output_type": "stream",
          "name": "stderr",
          "text": [
            "\rValidating:  70%|\u2588\u2588\u2588\u2588\u2588\u2588\u2588   | 84/120 [00:13<00:05,  6.67it/s]"
          ]
        },
        {
          "output_type": "stream",
          "name": "stderr",
          "text": [
            "\rValidating:  71%|\u2588\u2588\u2588\u2588\u2588\u2588\u2588   | 85/120 [00:13<00:05,  6.66it/s]"
          ]
        },
        {
          "output_type": "stream",
          "name": "stderr",
          "text": [
            "\rValidating:  72%|\u2588\u2588\u2588\u2588\u2588\u2588\u2588\u258f  | 86/120 [00:13<00:05,  6.66it/s]"
          ]
        },
        {
          "output_type": "stream",
          "name": "stderr",
          "text": [
            "\rValidating:  72%|\u2588\u2588\u2588\u2588\u2588\u2588\u2588\u258e  | 87/120 [00:13<00:04,  6.67it/s]"
          ]
        },
        {
          "output_type": "stream",
          "name": "stderr",
          "text": [
            "\rValidating:  73%|\u2588\u2588\u2588\u2588\u2588\u2588\u2588\u258e  | 88/120 [00:14<00:04,  6.68it/s]"
          ]
        },
        {
          "output_type": "stream",
          "name": "stderr",
          "text": [
            "\rValidating:  74%|\u2588\u2588\u2588\u2588\u2588\u2588\u2588\u258d  | 89/120 [00:14<00:04,  6.67it/s]"
          ]
        },
        {
          "output_type": "stream",
          "name": "stderr",
          "text": [
            "\rValidating:  75%|\u2588\u2588\u2588\u2588\u2588\u2588\u2588\u258c  | 90/120 [00:14<00:04,  6.68it/s]"
          ]
        },
        {
          "output_type": "stream",
          "name": "stderr",
          "text": [
            "\rValidating:  76%|\u2588\u2588\u2588\u2588\u2588\u2588\u2588\u258c  | 91/120 [00:14<00:04,  6.68it/s]"
          ]
        },
        {
          "output_type": "stream",
          "name": "stderr",
          "text": [
            "\rValidating:  77%|\u2588\u2588\u2588\u2588\u2588\u2588\u2588\u258b  | 92/120 [00:14<00:04,  6.68it/s]"
          ]
        },
        {
          "output_type": "stream",
          "name": "stderr",
          "text": [
            "\rValidating:  78%|\u2588\u2588\u2588\u2588\u2588\u2588\u2588\u258a  | 93/120 [00:14<00:04,  6.67it/s]"
          ]
        },
        {
          "output_type": "stream",
          "name": "stderr",
          "text": [
            "\rValidating:  78%|\u2588\u2588\u2588\u2588\u2588\u2588\u2588\u258a  | 94/120 [00:14<00:03,  6.66it/s]"
          ]
        },
        {
          "output_type": "stream",
          "name": "stderr",
          "text": [
            "\rValidating:  79%|\u2588\u2588\u2588\u2588\u2588\u2588\u2588\u2589  | 95/120 [00:15<00:03,  6.66it/s]"
          ]
        },
        {
          "output_type": "stream",
          "name": "stderr",
          "text": [
            "\rValidating:  80%|\u2588\u2588\u2588\u2588\u2588\u2588\u2588\u2588  | 96/120 [00:15<00:03,  6.67it/s]"
          ]
        },
        {
          "output_type": "stream",
          "name": "stderr",
          "text": [
            "\rValidating:  81%|\u2588\u2588\u2588\u2588\u2588\u2588\u2588\u2588  | 97/120 [00:15<00:03,  6.67it/s]"
          ]
        },
        {
          "output_type": "stream",
          "name": "stderr",
          "text": [
            "\rValidating:  82%|\u2588\u2588\u2588\u2588\u2588\u2588\u2588\u2588\u258f | 98/120 [00:15<00:03,  6.67it/s]"
          ]
        },
        {
          "output_type": "stream",
          "name": "stderr",
          "text": [
            "\rValidating:  82%|\u2588\u2588\u2588\u2588\u2588\u2588\u2588\u2588\u258e | 99/120 [00:15<00:03,  6.66it/s]"
          ]
        },
        {
          "output_type": "stream",
          "name": "stderr",
          "text": [
            "\rValidating:  83%|\u2588\u2588\u2588\u2588\u2588\u2588\u2588\u2588\u258e | 100/120 [00:15<00:02,  6.67it/s]"
          ]
        },
        {
          "output_type": "stream",
          "name": "stderr",
          "text": [
            "\rValidating:  84%|\u2588\u2588\u2588\u2588\u2588\u2588\u2588\u2588\u258d | 101/120 [00:15<00:02,  6.67it/s]"
          ]
        },
        {
          "output_type": "stream",
          "name": "stderr",
          "text": [
            "\rValidating:  85%|\u2588\u2588\u2588\u2588\u2588\u2588\u2588\u2588\u258c | 102/120 [00:16<00:02,  6.68it/s]"
          ]
        },
        {
          "output_type": "stream",
          "name": "stderr",
          "text": [
            "\rValidating:  86%|\u2588\u2588\u2588\u2588\u2588\u2588\u2588\u2588\u258c | 103/120 [00:16<00:02,  6.69it/s]"
          ]
        },
        {
          "output_type": "stream",
          "name": "stderr",
          "text": [
            "\rValidating:  87%|\u2588\u2588\u2588\u2588\u2588\u2588\u2588\u2588\u258b | 104/120 [00:16<00:02,  6.69it/s]"
          ]
        },
        {
          "output_type": "stream",
          "name": "stderr",
          "text": [
            "\rValidating:  88%|\u2588\u2588\u2588\u2588\u2588\u2588\u2588\u2588\u258a | 105/120 [00:16<00:02,  6.69it/s]"
          ]
        },
        {
          "output_type": "stream",
          "name": "stderr",
          "text": [
            "\rValidating:  88%|\u2588\u2588\u2588\u2588\u2588\u2588\u2588\u2588\u258a | 106/120 [00:16<00:02,  6.69it/s]"
          ]
        },
        {
          "output_type": "stream",
          "name": "stderr",
          "text": [
            "\rValidating:  89%|\u2588\u2588\u2588\u2588\u2588\u2588\u2588\u2588\u2589 | 107/120 [00:16<00:01,  6.71it/s]"
          ]
        },
        {
          "output_type": "stream",
          "name": "stderr",
          "text": [
            "\rValidating:  90%|\u2588\u2588\u2588\u2588\u2588\u2588\u2588\u2588\u2588 | 108/120 [00:17<00:01,  6.70it/s]"
          ]
        },
        {
          "output_type": "stream",
          "name": "stderr",
          "text": [
            "\rValidating:  91%|\u2588\u2588\u2588\u2588\u2588\u2588\u2588\u2588\u2588 | 109/120 [00:17<00:01,  6.69it/s]"
          ]
        },
        {
          "output_type": "stream",
          "name": "stderr",
          "text": [
            "\rValidating:  92%|\u2588\u2588\u2588\u2588\u2588\u2588\u2588\u2588\u2588\u258f| 110/120 [00:17<00:01,  6.69it/s]"
          ]
        },
        {
          "output_type": "stream",
          "name": "stderr",
          "text": [
            "\rValidating:  92%|\u2588\u2588\u2588\u2588\u2588\u2588\u2588\u2588\u2588\u258e| 111/120 [00:17<00:01,  6.69it/s]"
          ]
        },
        {
          "output_type": "stream",
          "name": "stderr",
          "text": [
            "\rValidating:  93%|\u2588\u2588\u2588\u2588\u2588\u2588\u2588\u2588\u2588\u258e| 112/120 [00:17<00:01,  6.69it/s]"
          ]
        },
        {
          "output_type": "stream",
          "name": "stderr",
          "text": [
            "\rValidating:  94%|\u2588\u2588\u2588\u2588\u2588\u2588\u2588\u2588\u2588\u258d| 113/120 [00:17<00:01,  6.69it/s]"
          ]
        },
        {
          "output_type": "stream",
          "name": "stderr",
          "text": [
            "\rValidating:  95%|\u2588\u2588\u2588\u2588\u2588\u2588\u2588\u2588\u2588\u258c| 114/120 [00:17<00:00,  6.69it/s]"
          ]
        },
        {
          "output_type": "stream",
          "name": "stderr",
          "text": [
            "\rValidating:  96%|\u2588\u2588\u2588\u2588\u2588\u2588\u2588\u2588\u2588\u258c| 115/120 [00:18<00:00,  6.71it/s]"
          ]
        },
        {
          "output_type": "stream",
          "name": "stderr",
          "text": [
            "\rValidating:  97%|\u2588\u2588\u2588\u2588\u2588\u2588\u2588\u2588\u2588\u258b| 116/120 [00:18<00:00,  6.70it/s]"
          ]
        },
        {
          "output_type": "stream",
          "name": "stderr",
          "text": [
            "\rValidating:  98%|\u2588\u2588\u2588\u2588\u2588\u2588\u2588\u2588\u2588\u258a| 117/120 [00:18<00:00,  6.71it/s]"
          ]
        },
        {
          "output_type": "stream",
          "name": "stderr",
          "text": [
            "\rValidating:  98%|\u2588\u2588\u2588\u2588\u2588\u2588\u2588\u2588\u2588\u258a| 118/120 [00:18<00:00,  6.70it/s]"
          ]
        },
        {
          "output_type": "stream",
          "name": "stderr",
          "text": [
            "\rValidating:  99%|\u2588\u2588\u2588\u2588\u2588\u2588\u2588\u2588\u2588\u2589| 119/120 [00:18<00:00,  6.72it/s]"
          ]
        },
        {
          "output_type": "stream",
          "name": "stderr",
          "text": [
            "\rValidating: 100%|\u2588\u2588\u2588\u2588\u2588\u2588\u2588\u2588\u2588\u2588| 120/120 [00:18<00:00,  6.40it/s]"
          ]
        },
        {
          "output_type": "stream",
          "name": "stderr",
          "text": [
            "\n"
          ]
        },
        {
          "output_type": "stream",
          "name": "stdout",
          "text": [
            "Epoch 5/20 - Time: 52s - Train Loss: 0.0889 - Val F0.5: 0.6792 @ thr=0.20 (P: 0.7798, R: 0.4481)\n"
          ]
        },
        {
          "output_type": "stream",
          "name": "stdout",
          "text": [
            "  >> New best score! Model saved to best_model_fold_2.pth\n"
          ]
        },
        {
          "output_type": "stream",
          "name": "stderr",
          "text": [
            "\rTraining:   0%|          | 0/35 [00:00<?, ?it/s]"
          ]
        },
        {
          "output_type": "stream",
          "name": "stderr",
          "text": [
            "\rTraining:   3%|\u258e         | 1/35 [00:01<00:48,  1.44s/it]"
          ]
        },
        {
          "output_type": "stream",
          "name": "stderr",
          "text": [
            "\rTraining:   6%|\u258c         | 2/35 [00:01<00:25,  1.32it/s]"
          ]
        },
        {
          "output_type": "stream",
          "name": "stderr",
          "text": [
            "\rTraining:   9%|\u258a         | 3/35 [00:01<00:17,  1.86it/s]"
          ]
        },
        {
          "output_type": "stream",
          "name": "stderr",
          "text": [
            "\rTraining:  11%|\u2588\u258f        | 4/35 [00:02<00:13,  2.29it/s]"
          ]
        },
        {
          "output_type": "stream",
          "name": "stderr",
          "text": [
            "\rTraining:  14%|\u2588\u258d        | 5/35 [00:02<00:11,  2.64it/s]"
          ]
        },
        {
          "output_type": "stream",
          "name": "stderr",
          "text": [
            "\rTraining:  17%|\u2588\u258b        | 6/35 [00:02<00:09,  2.90it/s]"
          ]
        },
        {
          "output_type": "stream",
          "name": "stderr",
          "text": [
            "\rTraining:  20%|\u2588\u2588        | 7/35 [00:03<00:09,  3.10it/s]"
          ]
        },
        {
          "output_type": "stream",
          "name": "stderr",
          "text": [
            "\rTraining:  23%|\u2588\u2588\u258e       | 8/35 [00:03<00:08,  3.24it/s]"
          ]
        },
        {
          "output_type": "stream",
          "name": "stderr",
          "text": [
            "\rTraining:  26%|\u2588\u2588\u258c       | 9/35 [00:03<00:07,  3.35it/s]"
          ]
        },
        {
          "output_type": "stream",
          "name": "stderr",
          "text": [
            "\rTraining:  29%|\u2588\u2588\u258a       | 10/35 [00:03<00:07,  3.42it/s]"
          ]
        },
        {
          "output_type": "stream",
          "name": "stderr",
          "text": [
            "\rTraining:  31%|\u2588\u2588\u2588\u258f      | 11/35 [00:04<00:06,  3.48it/s]"
          ]
        },
        {
          "output_type": "stream",
          "name": "stderr",
          "text": [
            "\rTraining:  34%|\u2588\u2588\u2588\u258d      | 12/35 [00:04<00:06,  3.52it/s]"
          ]
        },
        {
          "output_type": "stream",
          "name": "stderr",
          "text": [
            "\rTraining:  37%|\u2588\u2588\u2588\u258b      | 13/35 [00:04<00:06,  3.54it/s]"
          ]
        },
        {
          "output_type": "stream",
          "name": "stderr",
          "text": [
            "\rTraining:  40%|\u2588\u2588\u2588\u2588      | 14/35 [00:05<00:05,  3.56it/s]"
          ]
        },
        {
          "output_type": "stream",
          "name": "stderr",
          "text": [
            "\rTraining:  43%|\u2588\u2588\u2588\u2588\u258e     | 15/35 [00:05<00:05,  3.58it/s]"
          ]
        },
        {
          "output_type": "stream",
          "name": "stderr",
          "text": [
            "\rTraining:  46%|\u2588\u2588\u2588\u2588\u258c     | 16/35 [00:05<00:05,  3.58it/s]"
          ]
        },
        {
          "output_type": "stream",
          "name": "stderr",
          "text": [
            "\rTraining:  49%|\u2588\u2588\u2588\u2588\u258a     | 17/35 [00:05<00:05,  3.58it/s]"
          ]
        },
        {
          "output_type": "stream",
          "name": "stderr",
          "text": [
            "\rTraining:  51%|\u2588\u2588\u2588\u2588\u2588\u258f    | 18/35 [00:06<00:04,  3.60it/s]"
          ]
        },
        {
          "output_type": "stream",
          "name": "stderr",
          "text": [
            "\rTraining:  54%|\u2588\u2588\u2588\u2588\u2588\u258d    | 19/35 [00:06<00:04,  3.60it/s]"
          ]
        },
        {
          "output_type": "stream",
          "name": "stderr",
          "text": [
            "\rTraining:  57%|\u2588\u2588\u2588\u2588\u2588\u258b    | 20/35 [00:06<00:04,  3.61it/s]"
          ]
        },
        {
          "output_type": "stream",
          "name": "stderr",
          "text": [
            "\rTraining:  60%|\u2588\u2588\u2588\u2588\u2588\u2588    | 21/35 [00:06<00:03,  3.60it/s]"
          ]
        },
        {
          "output_type": "stream",
          "name": "stderr",
          "text": [
            "\rTraining:  63%|\u2588\u2588\u2588\u2588\u2588\u2588\u258e   | 22/35 [00:07<00:03,  3.60it/s]"
          ]
        },
        {
          "output_type": "stream",
          "name": "stderr",
          "text": [
            "\rTraining:  66%|\u2588\u2588\u2588\u2588\u2588\u2588\u258c   | 23/35 [00:07<00:03,  3.61it/s]"
          ]
        },
        {
          "output_type": "stream",
          "name": "stderr",
          "text": [
            "\rTraining:  69%|\u2588\u2588\u2588\u2588\u2588\u2588\u258a   | 24/35 [00:07<00:03,  3.60it/s]"
          ]
        },
        {
          "output_type": "stream",
          "name": "stderr",
          "text": [
            "\rTraining:  71%|\u2588\u2588\u2588\u2588\u2588\u2588\u2588\u258f  | 25/35 [00:08<00:02,  3.60it/s]"
          ]
        },
        {
          "output_type": "stream",
          "name": "stderr",
          "text": [
            "\rTraining:  74%|\u2588\u2588\u2588\u2588\u2588\u2588\u2588\u258d  | 26/35 [00:08<00:02,  3.60it/s]"
          ]
        },
        {
          "output_type": "stream",
          "name": "stderr",
          "text": [
            "\rTraining:  77%|\u2588\u2588\u2588\u2588\u2588\u2588\u2588\u258b  | 27/35 [00:08<00:02,  3.60it/s]"
          ]
        },
        {
          "output_type": "stream",
          "name": "stderr",
          "text": [
            "\rTraining:  80%|\u2588\u2588\u2588\u2588\u2588\u2588\u2588\u2588  | 28/35 [00:08<00:01,  3.60it/s]"
          ]
        },
        {
          "output_type": "stream",
          "name": "stderr",
          "text": [
            "\rTraining:  83%|\u2588\u2588\u2588\u2588\u2588\u2588\u2588\u2588\u258e | 29/35 [00:09<00:01,  3.61it/s]"
          ]
        },
        {
          "output_type": "stream",
          "name": "stderr",
          "text": [
            "\rTraining:  86%|\u2588\u2588\u2588\u2588\u2588\u2588\u2588\u2588\u258c | 30/35 [00:09<00:01,  3.61it/s]"
          ]
        },
        {
          "output_type": "stream",
          "name": "stderr",
          "text": [
            "\rTraining:  89%|\u2588\u2588\u2588\u2588\u2588\u2588\u2588\u2588\u258a | 31/35 [00:09<00:01,  3.61it/s]"
          ]
        },
        {
          "output_type": "stream",
          "name": "stderr",
          "text": [
            "\rTraining:  91%|\u2588\u2588\u2588\u2588\u2588\u2588\u2588\u2588\u2588\u258f| 32/35 [00:10<00:00,  3.62it/s]"
          ]
        },
        {
          "output_type": "stream",
          "name": "stderr",
          "text": [
            "\rTraining:  94%|\u2588\u2588\u2588\u2588\u2588\u2588\u2588\u2588\u2588\u258d| 33/35 [00:10<00:00,  3.62it/s]"
          ]
        },
        {
          "output_type": "stream",
          "name": "stderr",
          "text": [
            "\rTraining:  97%|\u2588\u2588\u2588\u2588\u2588\u2588\u2588\u2588\u2588\u258b| 34/35 [00:10<00:00,  3.62it/s]"
          ]
        },
        {
          "output_type": "stream",
          "name": "stderr",
          "text": [
            "\rTraining: 100%|\u2588\u2588\u2588\u2588\u2588\u2588\u2588\u2588\u2588\u2588| 35/35 [00:10<00:00,  3.62it/s]"
          ]
        },
        {
          "output_type": "stream",
          "name": "stderr",
          "text": [
            "\rTraining: 100%|\u2588\u2588\u2588\u2588\u2588\u2588\u2588\u2588\u2588\u2588| 35/35 [00:10<00:00,  3.19it/s]"
          ]
        },
        {
          "output_type": "stream",
          "name": "stderr",
          "text": [
            "\n"
          ]
        },
        {
          "output_type": "stream",
          "name": "stderr",
          "text": [
            "\rValidating:   0%|          | 0/120 [00:00<?, ?it/s]"
          ]
        },
        {
          "output_type": "stream",
          "name": "stderr",
          "text": [
            "\rValidating:   1%|          | 1/120 [00:00<01:48,  1.10it/s]"
          ]
        },
        {
          "output_type": "stream",
          "name": "stderr",
          "text": [
            "\rValidating:   2%|\u258f         | 2/120 [00:01<01:05,  1.81it/s]"
          ]
        },
        {
          "output_type": "stream",
          "name": "stderr",
          "text": [
            "\rValidating:   2%|\u258e         | 3/120 [00:01<00:42,  2.72it/s]"
          ]
        },
        {
          "output_type": "stream",
          "name": "stderr",
          "text": [
            "\rValidating:   3%|\u258e         | 4/120 [00:01<00:32,  3.56it/s]"
          ]
        },
        {
          "output_type": "stream",
          "name": "stderr",
          "text": [
            "\rValidating:   4%|\u258d         | 5/120 [00:01<00:26,  4.29it/s]"
          ]
        },
        {
          "output_type": "stream",
          "name": "stderr",
          "text": [
            "\rValidating:   5%|\u258c         | 6/120 [00:01<00:23,  4.88it/s]"
          ]
        },
        {
          "output_type": "stream",
          "name": "stderr",
          "text": [
            "\rValidating:   6%|\u258c         | 7/120 [00:01<00:21,  5.36it/s]"
          ]
        },
        {
          "output_type": "stream",
          "name": "stderr",
          "text": [
            "\rValidating:   7%|\u258b         | 8/120 [00:02<00:20,  5.52it/s]"
          ]
        },
        {
          "output_type": "stream",
          "name": "stderr",
          "text": [
            "\rValidating:   8%|\u258a         | 9/120 [00:02<00:19,  5.57it/s]"
          ]
        },
        {
          "output_type": "stream",
          "name": "stderr",
          "text": [
            "\rValidating:   8%|\u258a         | 10/120 [00:02<00:19,  5.68it/s]"
          ]
        },
        {
          "output_type": "stream",
          "name": "stderr",
          "text": [
            "\rValidating:   9%|\u2589         | 11/120 [00:02<00:19,  5.61it/s]"
          ]
        },
        {
          "output_type": "stream",
          "name": "stderr",
          "text": [
            "\rValidating:  10%|\u2588         | 12/120 [00:02<00:19,  5.63it/s]"
          ]
        },
        {
          "output_type": "stream",
          "name": "stderr",
          "text": [
            "\rValidating:  11%|\u2588         | 13/120 [00:03<00:19,  5.59it/s]"
          ]
        },
        {
          "output_type": "stream",
          "name": "stderr",
          "text": [
            "\rValidating:  12%|\u2588\u258f        | 14/120 [00:03<00:18,  5.68it/s]"
          ]
        },
        {
          "output_type": "stream",
          "name": "stderr",
          "text": [
            "\rValidating:  12%|\u2588\u258e        | 15/120 [00:03<00:18,  5.68it/s]"
          ]
        },
        {
          "output_type": "stream",
          "name": "stderr",
          "text": [
            "\rValidating:  13%|\u2588\u258e        | 16/120 [00:03<00:18,  5.61it/s]"
          ]
        },
        {
          "output_type": "stream",
          "name": "stderr",
          "text": [
            "\rValidating:  14%|\u2588\u258d        | 17/120 [00:03<00:18,  5.71it/s]"
          ]
        },
        {
          "output_type": "stream",
          "name": "stderr",
          "text": [
            "\rValidating:  15%|\u2588\u258c        | 18/120 [00:03<00:17,  5.76it/s]"
          ]
        },
        {
          "output_type": "stream",
          "name": "stderr",
          "text": [
            "\rValidating:  16%|\u2588\u258c        | 19/120 [00:04<00:17,  5.78it/s]"
          ]
        },
        {
          "output_type": "stream",
          "name": "stderr",
          "text": [
            "\rValidating:  17%|\u2588\u258b        | 20/120 [00:04<00:17,  5.80it/s]"
          ]
        },
        {
          "output_type": "stream",
          "name": "stderr",
          "text": [
            "\rValidating:  18%|\u2588\u258a        | 21/120 [00:04<00:17,  5.80it/s]"
          ]
        },
        {
          "output_type": "stream",
          "name": "stderr",
          "text": [
            "\rValidating:  18%|\u2588\u258a        | 22/120 [00:04<00:16,  5.83it/s]"
          ]
        },
        {
          "output_type": "stream",
          "name": "stderr",
          "text": [
            "\rValidating:  19%|\u2588\u2589        | 23/120 [00:04<00:16,  5.84it/s]"
          ]
        },
        {
          "output_type": "stream",
          "name": "stderr",
          "text": [
            "\rValidating:  20%|\u2588\u2588        | 24/120 [00:04<00:16,  5.83it/s]"
          ]
        },
        {
          "output_type": "stream",
          "name": "stderr",
          "text": [
            "\rValidating:  21%|\u2588\u2588        | 25/120 [00:05<00:16,  5.86it/s]"
          ]
        },
        {
          "output_type": "stream",
          "name": "stderr",
          "text": [
            "\rValidating:  22%|\u2588\u2588\u258f       | 26/120 [00:05<00:16,  5.85it/s]"
          ]
        },
        {
          "output_type": "stream",
          "name": "stderr",
          "text": [
            "\rValidating:  22%|\u2588\u2588\u258e       | 27/120 [00:05<00:15,  6.08it/s]"
          ]
        },
        {
          "output_type": "stream",
          "name": "stderr",
          "text": [
            "\rValidating:  23%|\u2588\u2588\u258e       | 28/120 [00:05<00:14,  6.24it/s]"
          ]
        },
        {
          "output_type": "stream",
          "name": "stderr",
          "text": [
            "\rValidating:  24%|\u2588\u2588\u258d       | 29/120 [00:05<00:14,  6.37it/s]"
          ]
        },
        {
          "output_type": "stream",
          "name": "stderr",
          "text": [
            "\rValidating:  25%|\u2588\u2588\u258c       | 30/120 [00:05<00:13,  6.47it/s]"
          ]
        },
        {
          "output_type": "stream",
          "name": "stderr",
          "text": [
            "\rValidating:  26%|\u2588\u2588\u258c       | 31/120 [00:06<00:13,  6.44it/s]"
          ]
        },
        {
          "output_type": "stream",
          "name": "stderr",
          "text": [
            "\rValidating:  27%|\u2588\u2588\u258b       | 32/120 [00:06<00:13,  6.52it/s]"
          ]
        },
        {
          "output_type": "stream",
          "name": "stderr",
          "text": [
            "\rValidating:  28%|\u2588\u2588\u258a       | 33/120 [00:06<00:13,  6.56it/s]"
          ]
        },
        {
          "output_type": "stream",
          "name": "stderr",
          "text": [
            "\rValidating:  28%|\u2588\u2588\u258a       | 34/120 [00:06<00:13,  6.50it/s]"
          ]
        },
        {
          "output_type": "stream",
          "name": "stderr",
          "text": [
            "\rValidating:  29%|\u2588\u2588\u2589       | 35/120 [00:06<00:12,  6.55it/s]"
          ]
        },
        {
          "output_type": "stream",
          "name": "stderr",
          "text": [
            "\rValidating:  30%|\u2588\u2588\u2588       | 36/120 [00:06<00:12,  6.59it/s]"
          ]
        },
        {
          "output_type": "stream",
          "name": "stderr",
          "text": [
            "\rValidating:  31%|\u2588\u2588\u2588       | 37/120 [00:06<00:12,  6.61it/s]"
          ]
        },
        {
          "output_type": "stream",
          "name": "stderr",
          "text": [
            "\rValidating:  32%|\u2588\u2588\u2588\u258f      | 38/120 [00:07<00:12,  6.63it/s]"
          ]
        },
        {
          "output_type": "stream",
          "name": "stderr",
          "text": [
            "\rValidating:  32%|\u2588\u2588\u2588\u258e      | 39/120 [00:07<00:12,  6.64it/s]"
          ]
        },
        {
          "output_type": "stream",
          "name": "stderr",
          "text": [
            "\rValidating:  33%|\u2588\u2588\u2588\u258e      | 40/120 [00:07<00:12,  6.66it/s]"
          ]
        },
        {
          "output_type": "stream",
          "name": "stderr",
          "text": [
            "\rValidating:  34%|\u2588\u2588\u2588\u258d      | 41/120 [00:07<00:11,  6.65it/s]"
          ]
        },
        {
          "output_type": "stream",
          "name": "stderr",
          "text": [
            "\rValidating:  35%|\u2588\u2588\u2588\u258c      | 42/120 [00:07<00:11,  6.66it/s]"
          ]
        },
        {
          "output_type": "stream",
          "name": "stderr",
          "text": [
            "\rValidating:  36%|\u2588\u2588\u2588\u258c      | 43/120 [00:07<00:11,  6.63it/s]"
          ]
        },
        {
          "output_type": "stream",
          "name": "stderr",
          "text": [
            "\rValidating:  37%|\u2588\u2588\u2588\u258b      | 44/120 [00:07<00:11,  6.65it/s]"
          ]
        },
        {
          "output_type": "stream",
          "name": "stderr",
          "text": [
            "\rValidating:  38%|\u2588\u2588\u2588\u258a      | 45/120 [00:08<00:11,  6.65it/s]"
          ]
        },
        {
          "output_type": "stream",
          "name": "stderr",
          "text": [
            "\rValidating:  38%|\u2588\u2588\u2588\u258a      | 46/120 [00:08<00:11,  6.61it/s]"
          ]
        },
        {
          "output_type": "stream",
          "name": "stderr",
          "text": [
            "\rValidating:  39%|\u2588\u2588\u2588\u2589      | 47/120 [00:08<00:11,  6.63it/s]"
          ]
        },
        {
          "output_type": "stream",
          "name": "stderr",
          "text": [
            "\rValidating:  40%|\u2588\u2588\u2588\u2588      | 48/120 [00:08<00:10,  6.63it/s]"
          ]
        },
        {
          "output_type": "stream",
          "name": "stderr",
          "text": [
            "\rValidating:  41%|\u2588\u2588\u2588\u2588      | 49/120 [00:08<00:10,  6.65it/s]"
          ]
        },
        {
          "output_type": "stream",
          "name": "stderr",
          "text": [
            "\rValidating:  42%|\u2588\u2588\u2588\u2588\u258f     | 50/120 [00:08<00:10,  6.67it/s]"
          ]
        },
        {
          "output_type": "stream",
          "name": "stderr",
          "text": [
            "\rValidating:  42%|\u2588\u2588\u2588\u2588\u258e     | 51/120 [00:09<00:10,  6.68it/s]"
          ]
        },
        {
          "output_type": "stream",
          "name": "stderr",
          "text": [
            "\rValidating:  43%|\u2588\u2588\u2588\u2588\u258e     | 52/120 [00:09<00:10,  6.67it/s]"
          ]
        },
        {
          "output_type": "stream",
          "name": "stderr",
          "text": [
            "\rValidating:  44%|\u2588\u2588\u2588\u2588\u258d     | 53/120 [00:09<00:10,  6.61it/s]"
          ]
        },
        {
          "output_type": "stream",
          "name": "stderr",
          "text": [
            "\rValidating:  45%|\u2588\u2588\u2588\u2588\u258c     | 54/120 [00:09<00:09,  6.64it/s]"
          ]
        },
        {
          "output_type": "stream",
          "name": "stderr",
          "text": [
            "\rValidating:  46%|\u2588\u2588\u2588\u2588\u258c     | 55/120 [00:09<00:09,  6.65it/s]"
          ]
        },
        {
          "output_type": "stream",
          "name": "stderr",
          "text": [
            "\rValidating:  47%|\u2588\u2588\u2588\u2588\u258b     | 56/120 [00:09<00:09,  6.60it/s]"
          ]
        },
        {
          "output_type": "stream",
          "name": "stderr",
          "text": [
            "\rValidating:  48%|\u2588\u2588\u2588\u2588\u258a     | 57/120 [00:09<00:09,  6.62it/s]"
          ]
        },
        {
          "output_type": "stream",
          "name": "stderr",
          "text": [
            "\rValidating:  48%|\u2588\u2588\u2588\u2588\u258a     | 58/120 [00:10<00:09,  6.56it/s]"
          ]
        },
        {
          "output_type": "stream",
          "name": "stderr",
          "text": [
            "\rValidating:  49%|\u2588\u2588\u2588\u2588\u2589     | 59/120 [00:10<00:09,  6.60it/s]"
          ]
        },
        {
          "output_type": "stream",
          "name": "stderr",
          "text": [
            "\rValidating:  50%|\u2588\u2588\u2588\u2588\u2588     | 60/120 [00:10<00:09,  6.63it/s]"
          ]
        },
        {
          "output_type": "stream",
          "name": "stderr",
          "text": [
            "\rValidating:  51%|\u2588\u2588\u2588\u2588\u2588     | 61/120 [00:10<00:08,  6.63it/s]"
          ]
        },
        {
          "output_type": "stream",
          "name": "stderr",
          "text": [
            "\rValidating:  52%|\u2588\u2588\u2588\u2588\u2588\u258f    | 62/120 [00:10<00:08,  6.66it/s]"
          ]
        },
        {
          "output_type": "stream",
          "name": "stderr",
          "text": [
            "\rValidating:  52%|\u2588\u2588\u2588\u2588\u2588\u258e    | 63/120 [00:10<00:08,  6.66it/s]"
          ]
        },
        {
          "output_type": "stream",
          "name": "stderr",
          "text": [
            "\rValidating:  53%|\u2588\u2588\u2588\u2588\u2588\u258e    | 64/120 [00:10<00:08,  6.67it/s]"
          ]
        },
        {
          "output_type": "stream",
          "name": "stderr",
          "text": [
            "\rValidating:  54%|\u2588\u2588\u2588\u2588\u2588\u258d    | 65/120 [00:11<00:08,  6.67it/s]"
          ]
        },
        {
          "output_type": "stream",
          "name": "stderr",
          "text": [
            "\rValidating:  55%|\u2588\u2588\u2588\u2588\u2588\u258c    | 66/120 [00:11<00:08,  6.68it/s]"
          ]
        },
        {
          "output_type": "stream",
          "name": "stderr",
          "text": [
            "\rValidating:  56%|\u2588\u2588\u2588\u2588\u2588\u258c    | 67/120 [00:11<00:07,  6.68it/s]"
          ]
        },
        {
          "output_type": "stream",
          "name": "stderr",
          "text": [
            "\rValidating:  57%|\u2588\u2588\u2588\u2588\u2588\u258b    | 68/120 [00:11<00:07,  6.67it/s]"
          ]
        },
        {
          "output_type": "stream",
          "name": "stderr",
          "text": [
            "\rValidating:  57%|\u2588\u2588\u2588\u2588\u2588\u258a    | 69/120 [00:11<00:07,  6.67it/s]"
          ]
        },
        {
          "output_type": "stream",
          "name": "stderr",
          "text": [
            "\rValidating:  58%|\u2588\u2588\u2588\u2588\u2588\u258a    | 70/120 [00:11<00:07,  6.68it/s]"
          ]
        },
        {
          "output_type": "stream",
          "name": "stderr",
          "text": [
            "\rValidating:  59%|\u2588\u2588\u2588\u2588\u2588\u2589    | 71/120 [00:12<00:07,  6.67it/s]"
          ]
        },
        {
          "output_type": "stream",
          "name": "stderr",
          "text": [
            "\rValidating:  60%|\u2588\u2588\u2588\u2588\u2588\u2588    | 72/120 [00:12<00:07,  6.68it/s]"
          ]
        },
        {
          "output_type": "stream",
          "name": "stderr",
          "text": [
            "\rValidating:  61%|\u2588\u2588\u2588\u2588\u2588\u2588    | 73/120 [00:12<00:07,  6.61it/s]"
          ]
        },
        {
          "output_type": "stream",
          "name": "stderr",
          "text": [
            "\rValidating:  62%|\u2588\u2588\u2588\u2588\u2588\u2588\u258f   | 74/120 [00:12<00:06,  6.64it/s]"
          ]
        },
        {
          "output_type": "stream",
          "name": "stderr",
          "text": [
            "\rValidating:  62%|\u2588\u2588\u2588\u2588\u2588\u2588\u258e   | 75/120 [00:12<00:06,  6.65it/s]"
          ]
        },
        {
          "output_type": "stream",
          "name": "stderr",
          "text": [
            "\rValidating:  63%|\u2588\u2588\u2588\u2588\u2588\u2588\u258e   | 76/120 [00:12<00:06,  6.65it/s]"
          ]
        },
        {
          "output_type": "stream",
          "name": "stderr",
          "text": [
            "\rValidating:  64%|\u2588\u2588\u2588\u2588\u2588\u2588\u258d   | 77/120 [00:12<00:06,  6.66it/s]"
          ]
        },
        {
          "output_type": "stream",
          "name": "stderr",
          "text": [
            "\rValidating:  65%|\u2588\u2588\u2588\u2588\u2588\u2588\u258c   | 78/120 [00:13<00:06,  6.68it/s]"
          ]
        },
        {
          "output_type": "stream",
          "name": "stderr",
          "text": [
            "\rValidating:  66%|\u2588\u2588\u2588\u2588\u2588\u2588\u258c   | 79/120 [00:13<00:06,  6.68it/s]"
          ]
        },
        {
          "output_type": "stream",
          "name": "stderr",
          "text": [
            "\rValidating:  67%|\u2588\u2588\u2588\u2588\u2588\u2588\u258b   | 80/120 [00:13<00:05,  6.69it/s]"
          ]
        },
        {
          "output_type": "stream",
          "name": "stderr",
          "text": [
            "\rValidating:  68%|\u2588\u2588\u2588\u2588\u2588\u2588\u258a   | 81/120 [00:13<00:05,  6.68it/s]"
          ]
        },
        {
          "output_type": "stream",
          "name": "stderr",
          "text": [
            "\rValidating:  68%|\u2588\u2588\u2588\u2588\u2588\u2588\u258a   | 82/120 [00:13<00:05,  6.70it/s]"
          ]
        },
        {
          "output_type": "stream",
          "name": "stderr",
          "text": [
            "\rValidating:  69%|\u2588\u2588\u2588\u2588\u2588\u2588\u2589   | 83/120 [00:13<00:05,  6.69it/s]"
          ]
        },
        {
          "output_type": "stream",
          "name": "stderr",
          "text": [
            "\rValidating:  70%|\u2588\u2588\u2588\u2588\u2588\u2588\u2588   | 84/120 [00:13<00:05,  6.70it/s]"
          ]
        },
        {
          "output_type": "stream",
          "name": "stderr",
          "text": [
            "\rValidating:  71%|\u2588\u2588\u2588\u2588\u2588\u2588\u2588   | 85/120 [00:14<00:05,  6.70it/s]"
          ]
        },
        {
          "output_type": "stream",
          "name": "stderr",
          "text": [
            "\rValidating:  72%|\u2588\u2588\u2588\u2588\u2588\u2588\u2588\u258f  | 86/120 [00:14<00:05,  6.71it/s]"
          ]
        },
        {
          "output_type": "stream",
          "name": "stderr",
          "text": [
            "\rValidating:  72%|\u2588\u2588\u2588\u2588\u2588\u2588\u2588\u258e  | 87/120 [00:14<00:04,  6.71it/s]"
          ]
        },
        {
          "output_type": "stream",
          "name": "stderr",
          "text": [
            "\rValidating:  73%|\u2588\u2588\u2588\u2588\u2588\u2588\u2588\u258e  | 88/120 [00:14<00:04,  6.60it/s]"
          ]
        },
        {
          "output_type": "stream",
          "name": "stderr",
          "text": [
            "\rValidating:  74%|\u2588\u2588\u2588\u2588\u2588\u2588\u2588\u258d  | 89/120 [00:14<00:04,  6.63it/s]"
          ]
        },
        {
          "output_type": "stream",
          "name": "stderr",
          "text": [
            "\rValidating:  75%|\u2588\u2588\u2588\u2588\u2588\u2588\u2588\u258c  | 90/120 [00:14<00:04,  6.62it/s]"
          ]
        },
        {
          "output_type": "stream",
          "name": "stderr",
          "text": [
            "\rValidating:  76%|\u2588\u2588\u2588\u2588\u2588\u2588\u2588\u258c  | 91/120 [00:15<00:04,  6.53it/s]"
          ]
        },
        {
          "output_type": "stream",
          "name": "stderr",
          "text": [
            "\rValidating:  77%|\u2588\u2588\u2588\u2588\u2588\u2588\u2588\u258b  | 92/120 [00:15<00:04,  6.58it/s]"
          ]
        },
        {
          "output_type": "stream",
          "name": "stderr",
          "text": [
            "\rValidating:  78%|\u2588\u2588\u2588\u2588\u2588\u2588\u2588\u258a  | 93/120 [00:15<00:04,  6.62it/s]"
          ]
        },
        {
          "output_type": "stream",
          "name": "stderr",
          "text": [
            "\rValidating:  78%|\u2588\u2588\u2588\u2588\u2588\u2588\u2588\u258a  | 94/120 [00:15<00:03,  6.65it/s]"
          ]
        },
        {
          "output_type": "stream",
          "name": "stderr",
          "text": [
            "\rValidating:  79%|\u2588\u2588\u2588\u2588\u2588\u2588\u2588\u2589  | 95/120 [00:15<00:03,  6.67it/s]"
          ]
        },
        {
          "output_type": "stream",
          "name": "stderr",
          "text": [
            "\rValidating:  80%|\u2588\u2588\u2588\u2588\u2588\u2588\u2588\u2588  | 96/120 [00:15<00:03,  6.68it/s]"
          ]
        },
        {
          "output_type": "stream",
          "name": "stderr",
          "text": [
            "\rValidating:  81%|\u2588\u2588\u2588\u2588\u2588\u2588\u2588\u2588  | 97/120 [00:15<00:03,  6.68it/s]"
          ]
        },
        {
          "output_type": "stream",
          "name": "stderr",
          "text": [
            "\rValidating:  82%|\u2588\u2588\u2588\u2588\u2588\u2588\u2588\u2588\u258f | 98/120 [00:16<00:03,  6.69it/s]"
          ]
        },
        {
          "output_type": "stream",
          "name": "stderr",
          "text": [
            "\rValidating:  82%|\u2588\u2588\u2588\u2588\u2588\u2588\u2588\u2588\u258e | 99/120 [00:16<00:03,  6.69it/s]"
          ]
        },
        {
          "output_type": "stream",
          "name": "stderr",
          "text": [
            "\rValidating:  83%|\u2588\u2588\u2588\u2588\u2588\u2588\u2588\u2588\u258e | 100/120 [00:16<00:02,  6.69it/s]"
          ]
        },
        {
          "output_type": "stream",
          "name": "stderr",
          "text": [
            "\rValidating:  84%|\u2588\u2588\u2588\u2588\u2588\u2588\u2588\u2588\u258d | 101/120 [00:16<00:02,  6.69it/s]"
          ]
        },
        {
          "output_type": "stream",
          "name": "stderr",
          "text": [
            "\rValidating:  85%|\u2588\u2588\u2588\u2588\u2588\u2588\u2588\u2588\u258c | 102/120 [00:16<00:02,  6.70it/s]"
          ]
        },
        {
          "output_type": "stream",
          "name": "stderr",
          "text": [
            "\rValidating:  86%|\u2588\u2588\u2588\u2588\u2588\u2588\u2588\u2588\u258c | 103/120 [00:16<00:02,  6.69it/s]"
          ]
        },
        {
          "output_type": "stream",
          "name": "stderr",
          "text": [
            "\rValidating:  87%|\u2588\u2588\u2588\u2588\u2588\u2588\u2588\u2588\u258b | 104/120 [00:16<00:02,  6.65it/s]"
          ]
        },
        {
          "output_type": "stream",
          "name": "stderr",
          "text": [
            "\rValidating:  88%|\u2588\u2588\u2588\u2588\u2588\u2588\u2588\u2588\u258a | 105/120 [00:17<00:02,  6.67it/s]"
          ]
        },
        {
          "output_type": "stream",
          "name": "stderr",
          "text": [
            "\rValidating:  88%|\u2588\u2588\u2588\u2588\u2588\u2588\u2588\u2588\u258a | 106/120 [00:17<00:02,  6.68it/s]"
          ]
        },
        {
          "output_type": "stream",
          "name": "stderr",
          "text": [
            "\rValidating:  89%|\u2588\u2588\u2588\u2588\u2588\u2588\u2588\u2588\u2589 | 107/120 [00:17<00:01,  6.68it/s]"
          ]
        },
        {
          "output_type": "stream",
          "name": "stderr",
          "text": [
            "\rValidating:  90%|\u2588\u2588\u2588\u2588\u2588\u2588\u2588\u2588\u2588 | 108/120 [00:17<00:01,  6.69it/s]"
          ]
        },
        {
          "output_type": "stream",
          "name": "stderr",
          "text": [
            "\rValidating:  91%|\u2588\u2588\u2588\u2588\u2588\u2588\u2588\u2588\u2588 | 109/120 [00:17<00:01,  6.69it/s]"
          ]
        },
        {
          "output_type": "stream",
          "name": "stderr",
          "text": [
            "\rValidating:  92%|\u2588\u2588\u2588\u2588\u2588\u2588\u2588\u2588\u2588\u258f| 110/120 [00:17<00:01,  6.70it/s]"
          ]
        },
        {
          "output_type": "stream",
          "name": "stderr",
          "text": [
            "\rValidating:  92%|\u2588\u2588\u2588\u2588\u2588\u2588\u2588\u2588\u2588\u258e| 111/120 [00:18<00:01,  6.70it/s]"
          ]
        },
        {
          "output_type": "stream",
          "name": "stderr",
          "text": [
            "\rValidating:  93%|\u2588\u2588\u2588\u2588\u2588\u2588\u2588\u2588\u2588\u258e| 112/120 [00:18<00:01,  6.70it/s]"
          ]
        },
        {
          "output_type": "stream",
          "name": "stderr",
          "text": [
            "\rValidating:  94%|\u2588\u2588\u2588\u2588\u2588\u2588\u2588\u2588\u2588\u258d| 113/120 [00:18<00:01,  6.70it/s]"
          ]
        },
        {
          "output_type": "stream",
          "name": "stderr",
          "text": [
            "\rValidating:  95%|\u2588\u2588\u2588\u2588\u2588\u2588\u2588\u2588\u2588\u258c| 114/120 [00:18<00:00,  6.71it/s]"
          ]
        },
        {
          "output_type": "stream",
          "name": "stderr",
          "text": [
            "\rValidating:  96%|\u2588\u2588\u2588\u2588\u2588\u2588\u2588\u2588\u2588\u258c| 115/120 [00:18<00:00,  6.71it/s]"
          ]
        },
        {
          "output_type": "stream",
          "name": "stderr",
          "text": [
            "\rValidating:  97%|\u2588\u2588\u2588\u2588\u2588\u2588\u2588\u2588\u2588\u258b| 116/120 [00:18<00:00,  6.71it/s]"
          ]
        },
        {
          "output_type": "stream",
          "name": "stderr",
          "text": [
            "\rValidating:  98%|\u2588\u2588\u2588\u2588\u2588\u2588\u2588\u2588\u2588\u258a| 117/120 [00:18<00:00,  6.70it/s]"
          ]
        },
        {
          "output_type": "stream",
          "name": "stderr",
          "text": [
            "\rValidating:  98%|\u2588\u2588\u2588\u2588\u2588\u2588\u2588\u2588\u2588\u258a| 118/120 [00:19<00:00,  6.71it/s]"
          ]
        },
        {
          "output_type": "stream",
          "name": "stderr",
          "text": [
            "\rValidating:  99%|\u2588\u2588\u2588\u2588\u2588\u2588\u2588\u2588\u2588\u2589| 119/120 [00:19<00:00,  6.71it/s]"
          ]
        },
        {
          "output_type": "stream",
          "name": "stderr",
          "text": [
            "\rValidating: 100%|\u2588\u2588\u2588\u2588\u2588\u2588\u2588\u2588\u2588\u2588| 120/120 [00:19<00:00,  6.20it/s]"
          ]
        },
        {
          "output_type": "stream",
          "name": "stderr",
          "text": [
            "\n"
          ]
        },
        {
          "output_type": "stream",
          "name": "stdout",
          "text": [
            "Epoch 6/20 - Time: 53s - Train Loss: 0.0845 - Val F0.5: 0.6789 @ thr=0.20 (P: 0.7810, R: 0.4457)\n"
          ]
        },
        {
          "output_type": "stream",
          "name": "stderr",
          "text": [
            "\rTraining:   0%|          | 0/35 [00:00<?, ?it/s]"
          ]
        },
        {
          "output_type": "stream",
          "name": "stderr",
          "text": [
            "\rTraining:   3%|\u258e         | 1/35 [00:01<01:03,  1.87s/it]"
          ]
        },
        {
          "output_type": "stream",
          "name": "stderr",
          "text": [
            "\rTraining:   6%|\u258c         | 2/35 [00:02<00:30,  1.07it/s]"
          ]
        },
        {
          "output_type": "stream",
          "name": "stderr",
          "text": [
            "\rTraining:   9%|\u258a         | 3/35 [00:02<00:20,  1.58it/s]"
          ]
        },
        {
          "output_type": "stream",
          "name": "stderr",
          "text": [
            "\rTraining:  11%|\u2588\u258f        | 4/35 [00:02<00:15,  2.04it/s]"
          ]
        },
        {
          "output_type": "stream",
          "name": "stderr",
          "text": [
            "\rTraining:  14%|\u2588\u258d        | 5/35 [00:02<00:12,  2.42it/s]"
          ]
        },
        {
          "output_type": "stream",
          "name": "stderr",
          "text": [
            "\rTraining:  17%|\u2588\u258b        | 6/35 [00:03<00:10,  2.72it/s]"
          ]
        },
        {
          "output_type": "stream",
          "name": "stderr",
          "text": [
            "\rTraining:  20%|\u2588\u2588        | 7/35 [00:03<00:09,  2.97it/s]"
          ]
        },
        {
          "output_type": "stream",
          "name": "stderr",
          "text": [
            "\rTraining:  23%|\u2588\u2588\u258e       | 8/35 [00:03<00:08,  3.15it/s]"
          ]
        },
        {
          "output_type": "stream",
          "name": "stderr",
          "text": [
            "\rTraining:  26%|\u2588\u2588\u258c       | 9/35 [00:04<00:07,  3.28it/s]"
          ]
        },
        {
          "output_type": "stream",
          "name": "stderr",
          "text": [
            "\rTraining:  29%|\u2588\u2588\u258a       | 10/35 [00:04<00:07,  3.38it/s]"
          ]
        },
        {
          "output_type": "stream",
          "name": "stderr",
          "text": [
            "\rTraining:  31%|\u2588\u2588\u2588\u258f      | 11/35 [00:04<00:06,  3.44it/s]"
          ]
        },
        {
          "output_type": "stream",
          "name": "stderr",
          "text": [
            "\rTraining:  34%|\u2588\u2588\u2588\u258d      | 12/35 [00:04<00:06,  3.50it/s]"
          ]
        },
        {
          "output_type": "stream",
          "name": "stderr",
          "text": [
            "\rTraining:  37%|\u2588\u2588\u2588\u258b      | 13/35 [00:05<00:06,  3.53it/s]"
          ]
        },
        {
          "output_type": "stream",
          "name": "stderr",
          "text": [
            "\rTraining:  40%|\u2588\u2588\u2588\u2588      | 14/35 [00:05<00:05,  3.56it/s]"
          ]
        },
        {
          "output_type": "stream",
          "name": "stderr",
          "text": [
            "\rTraining:  43%|\u2588\u2588\u2588\u2588\u258e     | 15/35 [00:05<00:05,  3.57it/s]"
          ]
        },
        {
          "output_type": "stream",
          "name": "stderr",
          "text": [
            "\rTraining:  46%|\u2588\u2588\u2588\u2588\u258c     | 16/35 [00:06<00:05,  3.58it/s]"
          ]
        },
        {
          "output_type": "stream",
          "name": "stderr",
          "text": [
            "\rTraining:  49%|\u2588\u2588\u2588\u2588\u258a     | 17/35 [00:06<00:05,  3.59it/s]"
          ]
        },
        {
          "output_type": "stream",
          "name": "stderr",
          "text": [
            "\rTraining:  51%|\u2588\u2588\u2588\u2588\u2588\u258f    | 18/35 [00:06<00:04,  3.60it/s]"
          ]
        },
        {
          "output_type": "stream",
          "name": "stderr",
          "text": [
            "\rTraining:  54%|\u2588\u2588\u2588\u2588\u2588\u258d    | 19/35 [00:06<00:04,  3.60it/s]"
          ]
        },
        {
          "output_type": "stream",
          "name": "stderr",
          "text": [
            "\rTraining:  57%|\u2588\u2588\u2588\u2588\u2588\u258b    | 20/35 [00:07<00:04,  3.61it/s]"
          ]
        },
        {
          "output_type": "stream",
          "name": "stderr",
          "text": [
            "\rTraining:  60%|\u2588\u2588\u2588\u2588\u2588\u2588    | 21/35 [00:07<00:03,  3.62it/s]"
          ]
        },
        {
          "output_type": "stream",
          "name": "stderr",
          "text": [
            "\rTraining:  63%|\u2588\u2588\u2588\u2588\u2588\u2588\u258e   | 22/35 [00:07<00:03,  3.62it/s]"
          ]
        },
        {
          "output_type": "stream",
          "name": "stderr",
          "text": [
            "\rTraining:  66%|\u2588\u2588\u2588\u2588\u2588\u2588\u258c   | 23/35 [00:07<00:03,  3.61it/s]"
          ]
        },
        {
          "output_type": "stream",
          "name": "stderr",
          "text": [
            "\rTraining:  69%|\u2588\u2588\u2588\u2588\u2588\u2588\u258a   | 24/35 [00:08<00:03,  3.61it/s]"
          ]
        },
        {
          "output_type": "stream",
          "name": "stderr",
          "text": [
            "\rTraining:  71%|\u2588\u2588\u2588\u2588\u2588\u2588\u2588\u258f  | 25/35 [00:08<00:02,  3.62it/s]"
          ]
        },
        {
          "output_type": "stream",
          "name": "stderr",
          "text": [
            "\rTraining:  74%|\u2588\u2588\u2588\u2588\u2588\u2588\u2588\u258d  | 26/35 [00:08<00:02,  3.62it/s]"
          ]
        },
        {
          "output_type": "stream",
          "name": "stderr",
          "text": [
            "\rTraining:  77%|\u2588\u2588\u2588\u2588\u2588\u2588\u2588\u258b  | 27/35 [00:09<00:02,  3.62it/s]"
          ]
        },
        {
          "output_type": "stream",
          "name": "stderr",
          "text": [
            "\rTraining:  80%|\u2588\u2588\u2588\u2588\u2588\u2588\u2588\u2588  | 28/35 [00:09<00:01,  3.61it/s]"
          ]
        },
        {
          "output_type": "stream",
          "name": "stderr",
          "text": [
            "\rTraining:  83%|\u2588\u2588\u2588\u2588\u2588\u2588\u2588\u2588\u258e | 29/35 [00:09<00:01,  3.62it/s]"
          ]
        },
        {
          "output_type": "stream",
          "name": "stderr",
          "text": [
            "\rTraining:  86%|\u2588\u2588\u2588\u2588\u2588\u2588\u2588\u2588\u258c | 30/35 [00:09<00:01,  3.62it/s]"
          ]
        },
        {
          "output_type": "stream",
          "name": "stderr",
          "text": [
            "\rTraining:  89%|\u2588\u2588\u2588\u2588\u2588\u2588\u2588\u2588\u258a | 31/35 [00:10<00:01,  3.62it/s]"
          ]
        },
        {
          "output_type": "stream",
          "name": "stderr",
          "text": [
            "\rTraining:  91%|\u2588\u2588\u2588\u2588\u2588\u2588\u2588\u2588\u2588\u258f| 32/35 [00:10<00:00,  3.62it/s]"
          ]
        },
        {
          "output_type": "stream",
          "name": "stderr",
          "text": [
            "\rTraining:  94%|\u2588\u2588\u2588\u2588\u2588\u2588\u2588\u2588\u2588\u258d| 33/35 [00:10<00:00,  3.62it/s]"
          ]
        },
        {
          "output_type": "stream",
          "name": "stderr",
          "text": [
            "\rTraining:  97%|\u2588\u2588\u2588\u2588\u2588\u2588\u2588\u2588\u2588\u258b| 34/35 [00:10<00:00,  3.62it/s]"
          ]
        },
        {
          "output_type": "stream",
          "name": "stderr",
          "text": [
            "\rTraining: 100%|\u2588\u2588\u2588\u2588\u2588\u2588\u2588\u2588\u2588\u2588| 35/35 [00:11<00:00,  3.63it/s]"
          ]
        },
        {
          "output_type": "stream",
          "name": "stderr",
          "text": [
            "\rTraining: 100%|\u2588\u2588\u2588\u2588\u2588\u2588\u2588\u2588\u2588\u2588| 35/35 [00:11<00:00,  3.08it/s]"
          ]
        },
        {
          "output_type": "stream",
          "name": "stderr",
          "text": [
            "\n"
          ]
        },
        {
          "output_type": "stream",
          "name": "stderr",
          "text": [
            "\rValidating:   0%|          | 0/120 [00:00<?, ?it/s]"
          ]
        },
        {
          "output_type": "stream",
          "name": "stderr",
          "text": [
            "\rValidating:   1%|          | 1/120 [00:01<02:24,  1.22s/it]"
          ]
        },
        {
          "output_type": "stream",
          "name": "stderr",
          "text": [
            "\rValidating:   2%|\u258f         | 2/120 [00:01<01:09,  1.69it/s]"
          ]
        },
        {
          "output_type": "stream",
          "name": "stderr",
          "text": [
            "\rValidating:   2%|\u258e         | 3/120 [00:01<00:45,  2.58it/s]"
          ]
        },
        {
          "output_type": "stream",
          "name": "stderr",
          "text": [
            "\rValidating:   3%|\u258e         | 4/120 [00:01<00:34,  3.40it/s]"
          ]
        },
        {
          "output_type": "stream",
          "name": "stderr",
          "text": [
            "\rValidating:   4%|\u258d         | 5/120 [00:01<00:27,  4.14it/s]"
          ]
        },
        {
          "output_type": "stream",
          "name": "stderr",
          "text": [
            "\rValidating:   5%|\u258c         | 6/120 [00:01<00:23,  4.76it/s]"
          ]
        },
        {
          "output_type": "stream",
          "name": "stderr",
          "text": [
            "\rValidating:   6%|\u258c         | 7/120 [00:02<00:21,  5.26it/s]"
          ]
        },
        {
          "output_type": "stream",
          "name": "stderr",
          "text": [
            "\rValidating:   7%|\u258b         | 8/120 [00:02<00:19,  5.64it/s]"
          ]
        },
        {
          "output_type": "stream",
          "name": "stderr",
          "text": [
            "\rValidating:   8%|\u258a         | 9/120 [00:02<00:18,  5.89it/s]"
          ]
        },
        {
          "output_type": "stream",
          "name": "stderr",
          "text": [
            "\rValidating:   8%|\u258a         | 10/120 [00:02<00:18,  6.08it/s]"
          ]
        },
        {
          "output_type": "stream",
          "name": "stderr",
          "text": [
            "\rValidating:   9%|\u2589         | 11/120 [00:02<00:17,  6.21it/s]"
          ]
        },
        {
          "output_type": "stream",
          "name": "stderr",
          "text": [
            "\rValidating:  10%|\u2588         | 12/120 [00:02<00:17,  6.31it/s]"
          ]
        },
        {
          "output_type": "stream",
          "name": "stderr",
          "text": [
            "\rValidating:  11%|\u2588         | 13/120 [00:03<00:16,  6.39it/s]"
          ]
        },
        {
          "output_type": "stream",
          "name": "stderr",
          "text": [
            "\rValidating:  12%|\u2588\u258f        | 14/120 [00:03<00:16,  6.39it/s]"
          ]
        },
        {
          "output_type": "stream",
          "name": "stderr",
          "text": [
            "\rValidating:  12%|\u2588\u258e        | 15/120 [00:03<00:16,  6.20it/s]"
          ]
        },
        {
          "output_type": "stream",
          "name": "stderr",
          "text": [
            "\rValidating:  13%|\u2588\u258e        | 16/120 [00:03<00:17,  5.92it/s]"
          ]
        },
        {
          "output_type": "stream",
          "name": "stderr",
          "text": [
            "\rValidating:  14%|\u2588\u258d        | 17/120 [00:03<00:17,  5.75it/s]"
          ]
        },
        {
          "output_type": "stream",
          "name": "stderr",
          "text": [
            "\rValidating:  15%|\u2588\u258c        | 18/120 [00:03<00:17,  5.70it/s]"
          ]
        },
        {
          "output_type": "stream",
          "name": "stderr",
          "text": [
            "\rValidating:  16%|\u2588\u258c        | 19/120 [00:04<00:17,  5.73it/s]"
          ]
        },
        {
          "output_type": "stream",
          "name": "stderr",
          "text": [
            "\rValidating:  17%|\u2588\u258b        | 20/120 [00:04<00:17,  5.64it/s]"
          ]
        },
        {
          "output_type": "stream",
          "name": "stderr",
          "text": [
            "\rValidating:  18%|\u2588\u258a        | 21/120 [00:04<00:17,  5.55it/s]"
          ]
        },
        {
          "output_type": "stream",
          "name": "stderr",
          "text": [
            "\rValidating:  18%|\u2588\u258a        | 22/120 [00:04<00:17,  5.61it/s]"
          ]
        },
        {
          "output_type": "stream",
          "name": "stderr",
          "text": [
            "\rValidating:  19%|\u2588\u2589        | 23/120 [00:04<00:17,  5.66it/s]"
          ]
        },
        {
          "output_type": "stream",
          "name": "stderr",
          "text": [
            "\rValidating:  20%|\u2588\u2588        | 24/120 [00:04<00:16,  5.69it/s]"
          ]
        },
        {
          "output_type": "stream",
          "name": "stderr",
          "text": [
            "\rValidating:  21%|\u2588\u2588        | 25/120 [00:05<00:16,  5.71it/s]"
          ]
        },
        {
          "output_type": "stream",
          "name": "stderr",
          "text": [
            "\rValidating:  22%|\u2588\u2588\u258f       | 26/120 [00:05<00:16,  5.64it/s]"
          ]
        },
        {
          "output_type": "stream",
          "name": "stderr",
          "text": [
            "\rValidating:  22%|\u2588\u2588\u258e       | 27/120 [00:05<00:16,  5.79it/s]"
          ]
        },
        {
          "output_type": "stream",
          "name": "stderr",
          "text": [
            "\rValidating:  23%|\u2588\u2588\u258e       | 28/120 [00:05<00:15,  6.04it/s]"
          ]
        },
        {
          "output_type": "stream",
          "name": "stderr",
          "text": [
            "\rValidating:  24%|\u2588\u2588\u258d       | 29/120 [00:05<00:14,  6.23it/s]"
          ]
        },
        {
          "output_type": "stream",
          "name": "stderr",
          "text": [
            "\rValidating:  25%|\u2588\u2588\u258c       | 30/120 [00:05<00:14,  6.36it/s]"
          ]
        },
        {
          "output_type": "stream",
          "name": "stderr",
          "text": [
            "\rValidating:  26%|\u2588\u2588\u258c       | 31/120 [00:06<00:13,  6.47it/s]"
          ]
        },
        {
          "output_type": "stream",
          "name": "stderr",
          "text": [
            "\rValidating:  27%|\u2588\u2588\u258b       | 32/120 [00:06<00:13,  6.53it/s]"
          ]
        },
        {
          "output_type": "stream",
          "name": "stderr",
          "text": [
            "\rValidating:  28%|\u2588\u2588\u258a       | 33/120 [00:06<00:13,  6.58it/s]"
          ]
        },
        {
          "output_type": "stream",
          "name": "stderr",
          "text": [
            "\rValidating:  28%|\u2588\u2588\u258a       | 34/120 [00:06<00:13,  6.61it/s]"
          ]
        },
        {
          "output_type": "stream",
          "name": "stderr",
          "text": [
            "\rValidating:  29%|\u2588\u2588\u2589       | 35/120 [00:06<00:12,  6.64it/s]"
          ]
        },
        {
          "output_type": "stream",
          "name": "stderr",
          "text": [
            "\rValidating:  30%|\u2588\u2588\u2588       | 36/120 [00:06<00:12,  6.66it/s]"
          ]
        },
        {
          "output_type": "stream",
          "name": "stderr",
          "text": [
            "\rValidating:  31%|\u2588\u2588\u2588       | 37/120 [00:06<00:12,  6.67it/s]"
          ]
        },
        {
          "output_type": "stream",
          "name": "stderr",
          "text": [
            "\rValidating:  32%|\u2588\u2588\u2588\u258f      | 38/120 [00:07<00:12,  6.68it/s]"
          ]
        },
        {
          "output_type": "stream",
          "name": "stderr",
          "text": [
            "\rValidating:  32%|\u2588\u2588\u2588\u258e      | 39/120 [00:07<00:12,  6.69it/s]"
          ]
        },
        {
          "output_type": "stream",
          "name": "stderr",
          "text": [
            "\rValidating:  33%|\u2588\u2588\u2588\u258e      | 40/120 [00:07<00:11,  6.70it/s]"
          ]
        },
        {
          "output_type": "stream",
          "name": "stderr",
          "text": [
            "\rValidating:  34%|\u2588\u2588\u2588\u258d      | 41/120 [00:07<00:11,  6.69it/s]"
          ]
        },
        {
          "output_type": "stream",
          "name": "stderr",
          "text": [
            "\rValidating:  35%|\u2588\u2588\u2588\u258c      | 42/120 [00:07<00:11,  6.69it/s]"
          ]
        },
        {
          "output_type": "stream",
          "name": "stderr",
          "text": [
            "\rValidating:  36%|\u2588\u2588\u2588\u258c      | 43/120 [00:07<00:11,  6.69it/s]"
          ]
        },
        {
          "output_type": "stream",
          "name": "stderr",
          "text": [
            "\rValidating:  37%|\u2588\u2588\u2588\u258b      | 44/120 [00:08<00:11,  6.69it/s]"
          ]
        },
        {
          "output_type": "stream",
          "name": "stderr",
          "text": [
            "\rValidating:  38%|\u2588\u2588\u2588\u258a      | 45/120 [00:08<00:11,  6.69it/s]"
          ]
        },
        {
          "output_type": "stream",
          "name": "stderr",
          "text": [
            "\rValidating:  38%|\u2588\u2588\u2588\u258a      | 46/120 [00:08<00:11,  6.69it/s]"
          ]
        },
        {
          "output_type": "stream",
          "name": "stderr",
          "text": [
            "\rValidating:  39%|\u2588\u2588\u2588\u2589      | 47/120 [00:08<00:10,  6.70it/s]"
          ]
        },
        {
          "output_type": "stream",
          "name": "stderr",
          "text": [
            "\rValidating:  40%|\u2588\u2588\u2588\u2588      | 48/120 [00:08<00:10,  6.70it/s]"
          ]
        },
        {
          "output_type": "stream",
          "name": "stderr",
          "text": [
            "\rValidating:  41%|\u2588\u2588\u2588\u2588      | 49/120 [00:08<00:10,  6.70it/s]"
          ]
        },
        {
          "output_type": "stream",
          "name": "stderr",
          "text": [
            "\rValidating:  42%|\u2588\u2588\u2588\u2588\u258f     | 50/120 [00:08<00:10,  6.60it/s]"
          ]
        },
        {
          "output_type": "stream",
          "name": "stderr",
          "text": [
            "\rValidating:  42%|\u2588\u2588\u2588\u2588\u258e     | 51/120 [00:09<00:10,  6.64it/s]"
          ]
        },
        {
          "output_type": "stream",
          "name": "stderr",
          "text": [
            "\rValidating:  43%|\u2588\u2588\u2588\u2588\u258e     | 52/120 [00:09<00:10,  6.66it/s]"
          ]
        },
        {
          "output_type": "stream",
          "name": "stderr",
          "text": [
            "\rValidating:  44%|\u2588\u2588\u2588\u2588\u258d     | 53/120 [00:09<00:10,  6.67it/s]"
          ]
        },
        {
          "output_type": "stream",
          "name": "stderr",
          "text": [
            "\rValidating:  45%|\u2588\u2588\u2588\u2588\u258c     | 54/120 [00:09<00:09,  6.61it/s]"
          ]
        },
        {
          "output_type": "stream",
          "name": "stderr",
          "text": [
            "\rValidating:  46%|\u2588\u2588\u2588\u2588\u258c     | 55/120 [00:09<00:09,  6.65it/s]"
          ]
        },
        {
          "output_type": "stream",
          "name": "stderr",
          "text": [
            "\rValidating:  47%|\u2588\u2588\u2588\u2588\u258b     | 56/120 [00:09<00:09,  6.56it/s]"
          ]
        },
        {
          "output_type": "stream",
          "name": "stderr",
          "text": [
            "\rValidating:  48%|\u2588\u2588\u2588\u2588\u258a     | 57/120 [00:09<00:09,  6.60it/s]"
          ]
        },
        {
          "output_type": "stream",
          "name": "stderr",
          "text": [
            "\rValidating:  48%|\u2588\u2588\u2588\u2588\u258a     | 58/120 [00:10<00:09,  6.63it/s]"
          ]
        },
        {
          "output_type": "stream",
          "name": "stderr",
          "text": [
            "\rValidating:  49%|\u2588\u2588\u2588\u2588\u2589     | 59/120 [00:10<00:09,  6.65it/s]"
          ]
        },
        {
          "output_type": "stream",
          "name": "stderr",
          "text": [
            "\rValidating:  50%|\u2588\u2588\u2588\u2588\u2588     | 60/120 [00:10<00:09,  6.66it/s]"
          ]
        },
        {
          "output_type": "stream",
          "name": "stderr",
          "text": [
            "\rValidating:  51%|\u2588\u2588\u2588\u2588\u2588     | 61/120 [00:10<00:08,  6.67it/s]"
          ]
        },
        {
          "output_type": "stream",
          "name": "stderr",
          "text": [
            "\rValidating:  52%|\u2588\u2588\u2588\u2588\u2588\u258f    | 62/120 [00:10<00:08,  6.67it/s]"
          ]
        },
        {
          "output_type": "stream",
          "name": "stderr",
          "text": [
            "\rValidating:  52%|\u2588\u2588\u2588\u2588\u2588\u258e    | 63/120 [00:10<00:08,  6.68it/s]"
          ]
        },
        {
          "output_type": "stream",
          "name": "stderr",
          "text": [
            "\rValidating:  53%|\u2588\u2588\u2588\u2588\u2588\u258e    | 64/120 [00:11<00:08,  6.69it/s]"
          ]
        },
        {
          "output_type": "stream",
          "name": "stderr",
          "text": [
            "\rValidating:  54%|\u2588\u2588\u2588\u2588\u2588\u258d    | 65/120 [00:11<00:08,  6.69it/s]"
          ]
        },
        {
          "output_type": "stream",
          "name": "stderr",
          "text": [
            "\rValidating:  55%|\u2588\u2588\u2588\u2588\u2588\u258c    | 66/120 [00:11<00:08,  6.59it/s]"
          ]
        },
        {
          "output_type": "stream",
          "name": "stderr",
          "text": [
            "\rValidating:  56%|\u2588\u2588\u2588\u2588\u2588\u258c    | 67/120 [00:11<00:07,  6.63it/s]"
          ]
        },
        {
          "output_type": "stream",
          "name": "stderr",
          "text": [
            "\rValidating:  57%|\u2588\u2588\u2588\u2588\u2588\u258b    | 68/120 [00:11<00:07,  6.56it/s]"
          ]
        },
        {
          "output_type": "stream",
          "name": "stderr",
          "text": [
            "\rValidating:  57%|\u2588\u2588\u2588\u2588\u2588\u258a    | 69/120 [00:11<00:07,  6.60it/s]"
          ]
        },
        {
          "output_type": "stream",
          "name": "stderr",
          "text": [
            "\rValidating:  58%|\u2588\u2588\u2588\u2588\u2588\u258a    | 70/120 [00:11<00:07,  6.63it/s]"
          ]
        },
        {
          "output_type": "stream",
          "name": "stderr",
          "text": [
            "\rValidating:  59%|\u2588\u2588\u2588\u2588\u2588\u2589    | 71/120 [00:12<00:07,  6.58it/s]"
          ]
        },
        {
          "output_type": "stream",
          "name": "stderr",
          "text": [
            "\rValidating:  60%|\u2588\u2588\u2588\u2588\u2588\u2588    | 72/120 [00:12<00:07,  6.62it/s]"
          ]
        },
        {
          "output_type": "stream",
          "name": "stderr",
          "text": [
            "\rValidating:  61%|\u2588\u2588\u2588\u2588\u2588\u2588    | 73/120 [00:12<00:07,  6.64it/s]"
          ]
        },
        {
          "output_type": "stream",
          "name": "stderr",
          "text": [
            "\rValidating:  62%|\u2588\u2588\u2588\u2588\u2588\u2588\u258f   | 74/120 [00:12<00:06,  6.65it/s]"
          ]
        },
        {
          "output_type": "stream",
          "name": "stderr",
          "text": [
            "\rValidating:  62%|\u2588\u2588\u2588\u2588\u2588\u2588\u258e   | 75/120 [00:12<00:06,  6.67it/s]"
          ]
        },
        {
          "output_type": "stream",
          "name": "stderr",
          "text": [
            "\rValidating:  63%|\u2588\u2588\u2588\u2588\u2588\u2588\u258e   | 76/120 [00:12<00:06,  6.67it/s]"
          ]
        },
        {
          "output_type": "stream",
          "name": "stderr",
          "text": [
            "\rValidating:  64%|\u2588\u2588\u2588\u2588\u2588\u2588\u258d   | 77/120 [00:12<00:06,  6.67it/s]"
          ]
        },
        {
          "output_type": "stream",
          "name": "stderr",
          "text": [
            "\rValidating:  65%|\u2588\u2588\u2588\u2588\u2588\u2588\u258c   | 78/120 [00:13<00:06,  6.68it/s]"
          ]
        },
        {
          "output_type": "stream",
          "name": "stderr",
          "text": [
            "\rValidating:  66%|\u2588\u2588\u2588\u2588\u2588\u2588\u258c   | 79/120 [00:13<00:06,  6.68it/s]"
          ]
        },
        {
          "output_type": "stream",
          "name": "stderr",
          "text": [
            "\rValidating:  67%|\u2588\u2588\u2588\u2588\u2588\u2588\u258b   | 80/120 [00:13<00:05,  6.68it/s]"
          ]
        },
        {
          "output_type": "stream",
          "name": "stderr",
          "text": [
            "\rValidating:  68%|\u2588\u2588\u2588\u2588\u2588\u2588\u258a   | 81/120 [00:13<00:05,  6.68it/s]"
          ]
        },
        {
          "output_type": "stream",
          "name": "stderr",
          "text": [
            "\rValidating:  68%|\u2588\u2588\u2588\u2588\u2588\u2588\u258a   | 82/120 [00:13<00:05,  6.67it/s]"
          ]
        },
        {
          "output_type": "stream",
          "name": "stderr",
          "text": [
            "\rValidating:  69%|\u2588\u2588\u2588\u2588\u2588\u2588\u2589   | 83/120 [00:13<00:05,  6.68it/s]"
          ]
        },
        {
          "output_type": "stream",
          "name": "stderr",
          "text": [
            "\rValidating:  70%|\u2588\u2588\u2588\u2588\u2588\u2588\u2588   | 84/120 [00:14<00:05,  6.68it/s]"
          ]
        },
        {
          "output_type": "stream",
          "name": "stderr",
          "text": [
            "\rValidating:  71%|\u2588\u2588\u2588\u2588\u2588\u2588\u2588   | 85/120 [00:14<00:05,  6.69it/s]"
          ]
        },
        {
          "output_type": "stream",
          "name": "stderr",
          "text": [
            "\rValidating:  72%|\u2588\u2588\u2588\u2588\u2588\u2588\u2588\u258f  | 86/120 [00:14<00:05,  6.69it/s]"
          ]
        },
        {
          "output_type": "stream",
          "name": "stderr",
          "text": [
            "\rValidating:  72%|\u2588\u2588\u2588\u2588\u2588\u2588\u2588\u258e  | 87/120 [00:14<00:04,  6.70it/s]"
          ]
        },
        {
          "output_type": "stream",
          "name": "stderr",
          "text": [
            "\rValidating:  73%|\u2588\u2588\u2588\u2588\u2588\u2588\u2588\u258e  | 88/120 [00:14<00:04,  6.70it/s]"
          ]
        },
        {
          "output_type": "stream",
          "name": "stderr",
          "text": [
            "\rValidating:  74%|\u2588\u2588\u2588\u2588\u2588\u2588\u2588\u258d  | 89/120 [00:14<00:04,  6.70it/s]"
          ]
        },
        {
          "output_type": "stream",
          "name": "stderr",
          "text": [
            "\rValidating:  75%|\u2588\u2588\u2588\u2588\u2588\u2588\u2588\u258c  | 90/120 [00:14<00:04,  6.70it/s]"
          ]
        },
        {
          "output_type": "stream",
          "name": "stderr",
          "text": [
            "\rValidating:  76%|\u2588\u2588\u2588\u2588\u2588\u2588\u2588\u258c  | 91/120 [00:15<00:04,  6.71it/s]"
          ]
        },
        {
          "output_type": "stream",
          "name": "stderr",
          "text": [
            "\rValidating:  77%|\u2588\u2588\u2588\u2588\u2588\u2588\u2588\u258b  | 92/120 [00:15<00:04,  6.70it/s]"
          ]
        },
        {
          "output_type": "stream",
          "name": "stderr",
          "text": [
            "\rValidating:  78%|\u2588\u2588\u2588\u2588\u2588\u2588\u2588\u258a  | 93/120 [00:15<00:04,  6.70it/s]"
          ]
        },
        {
          "output_type": "stream",
          "name": "stderr",
          "text": [
            "\rValidating:  78%|\u2588\u2588\u2588\u2588\u2588\u2588\u2588\u258a  | 94/120 [00:15<00:03,  6.70it/s]"
          ]
        },
        {
          "output_type": "stream",
          "name": "stderr",
          "text": [
            "\rValidating:  79%|\u2588\u2588\u2588\u2588\u2588\u2588\u2588\u2589  | 95/120 [00:15<00:03,  6.70it/s]"
          ]
        },
        {
          "output_type": "stream",
          "name": "stderr",
          "text": [
            "\rValidating:  80%|\u2588\u2588\u2588\u2588\u2588\u2588\u2588\u2588  | 96/120 [00:15<00:03,  6.70it/s]"
          ]
        },
        {
          "output_type": "stream",
          "name": "stderr",
          "text": [
            "\rValidating:  81%|\u2588\u2588\u2588\u2588\u2588\u2588\u2588\u2588  | 97/120 [00:15<00:03,  6.69it/s]"
          ]
        },
        {
          "output_type": "stream",
          "name": "stderr",
          "text": [
            "\rValidating:  82%|\u2588\u2588\u2588\u2588\u2588\u2588\u2588\u2588\u258f | 98/120 [00:16<00:03,  6.69it/s]"
          ]
        },
        {
          "output_type": "stream",
          "name": "stderr",
          "text": [
            "\rValidating:  82%|\u2588\u2588\u2588\u2588\u2588\u2588\u2588\u2588\u258e | 99/120 [00:16<00:03,  6.70it/s]"
          ]
        },
        {
          "output_type": "stream",
          "name": "stderr",
          "text": [
            "\rValidating:  83%|\u2588\u2588\u2588\u2588\u2588\u2588\u2588\u2588\u258e | 100/120 [00:16<00:02,  6.70it/s]"
          ]
        },
        {
          "output_type": "stream",
          "name": "stderr",
          "text": [
            "\rValidating:  84%|\u2588\u2588\u2588\u2588\u2588\u2588\u2588\u2588\u258d | 101/120 [00:16<00:02,  6.69it/s]"
          ]
        },
        {
          "output_type": "stream",
          "name": "stderr",
          "text": [
            "\rValidating:  85%|\u2588\u2588\u2588\u2588\u2588\u2588\u2588\u2588\u258c | 102/120 [00:16<00:02,  6.68it/s]"
          ]
        },
        {
          "output_type": "stream",
          "name": "stderr",
          "text": [
            "\rValidating:  86%|\u2588\u2588\u2588\u2588\u2588\u2588\u2588\u2588\u258c | 103/120 [00:16<00:02,  6.69it/s]"
          ]
        },
        {
          "output_type": "stream",
          "name": "stderr",
          "text": [
            "\rValidating:  87%|\u2588\u2588\u2588\u2588\u2588\u2588\u2588\u2588\u258b | 104/120 [00:17<00:02,  6.69it/s]"
          ]
        },
        {
          "output_type": "stream",
          "name": "stderr",
          "text": [
            "\rValidating:  88%|\u2588\u2588\u2588\u2588\u2588\u2588\u2588\u2588\u258a | 105/120 [00:17<00:02,  6.69it/s]"
          ]
        },
        {
          "output_type": "stream",
          "name": "stderr",
          "text": [
            "\rValidating:  88%|\u2588\u2588\u2588\u2588\u2588\u2588\u2588\u2588\u258a | 106/120 [00:17<00:02,  6.69it/s]"
          ]
        },
        {
          "output_type": "stream",
          "name": "stderr",
          "text": [
            "\rValidating:  89%|\u2588\u2588\u2588\u2588\u2588\u2588\u2588\u2588\u2589 | 107/120 [00:17<00:01,  6.70it/s]"
          ]
        },
        {
          "output_type": "stream",
          "name": "stderr",
          "text": [
            "\rValidating:  90%|\u2588\u2588\u2588\u2588\u2588\u2588\u2588\u2588\u2588 | 108/120 [00:17<00:01,  6.70it/s]"
          ]
        },
        {
          "output_type": "stream",
          "name": "stderr",
          "text": [
            "\rValidating:  91%|\u2588\u2588\u2588\u2588\u2588\u2588\u2588\u2588\u2588 | 109/120 [00:17<00:01,  6.69it/s]"
          ]
        },
        {
          "output_type": "stream",
          "name": "stderr",
          "text": [
            "\rValidating:  92%|\u2588\u2588\u2588\u2588\u2588\u2588\u2588\u2588\u2588\u258f| 110/120 [00:17<00:01,  6.69it/s]"
          ]
        },
        {
          "output_type": "stream",
          "name": "stderr",
          "text": [
            "\rValidating:  92%|\u2588\u2588\u2588\u2588\u2588\u2588\u2588\u2588\u2588\u258e| 111/120 [00:18<00:01,  6.70it/s]"
          ]
        },
        {
          "output_type": "stream",
          "name": "stderr",
          "text": [
            "\rValidating:  93%|\u2588\u2588\u2588\u2588\u2588\u2588\u2588\u2588\u2588\u258e| 112/120 [00:18<00:01,  6.70it/s]"
          ]
        },
        {
          "output_type": "stream",
          "name": "stderr",
          "text": [
            "\rValidating:  94%|\u2588\u2588\u2588\u2588\u2588\u2588\u2588\u2588\u2588\u258d| 113/120 [00:18<00:01,  6.70it/s]"
          ]
        },
        {
          "output_type": "stream",
          "name": "stderr",
          "text": [
            "\rValidating:  95%|\u2588\u2588\u2588\u2588\u2588\u2588\u2588\u2588\u2588\u258c| 114/120 [00:18<00:00,  6.71it/s]"
          ]
        },
        {
          "output_type": "stream",
          "name": "stderr",
          "text": [
            "\rValidating:  96%|\u2588\u2588\u2588\u2588\u2588\u2588\u2588\u2588\u2588\u258c| 115/120 [00:18<00:00,  6.72it/s]"
          ]
        },
        {
          "output_type": "stream",
          "name": "stderr",
          "text": [
            "\rValidating:  97%|\u2588\u2588\u2588\u2588\u2588\u2588\u2588\u2588\u2588\u258b| 116/120 [00:18<00:00,  6.72it/s]"
          ]
        },
        {
          "output_type": "stream",
          "name": "stderr",
          "text": [
            "\rValidating:  98%|\u2588\u2588\u2588\u2588\u2588\u2588\u2588\u2588\u2588\u258a| 117/120 [00:18<00:00,  6.72it/s]"
          ]
        },
        {
          "output_type": "stream",
          "name": "stderr",
          "text": [
            "\rValidating:  98%|\u2588\u2588\u2588\u2588\u2588\u2588\u2588\u2588\u2588\u258a| 118/120 [00:19<00:00,  6.71it/s]"
          ]
        },
        {
          "output_type": "stream",
          "name": "stderr",
          "text": [
            "\rValidating:  99%|\u2588\u2588\u2588\u2588\u2588\u2588\u2588\u2588\u2588\u2589| 119/120 [00:19<00:00,  6.72it/s]"
          ]
        },
        {
          "output_type": "stream",
          "name": "stderr",
          "text": [
            "\rValidating: 100%|\u2588\u2588\u2588\u2588\u2588\u2588\u2588\u2588\u2588\u2588| 120/120 [00:19<00:00,  6.19it/s]"
          ]
        },
        {
          "output_type": "stream",
          "name": "stderr",
          "text": [
            "\n"
          ]
        },
        {
          "output_type": "stream",
          "name": "stdout",
          "text": [
            "Epoch 7/20 - Time: 53s - Train Loss: 0.0826 - Val F0.5: 0.6959 @ thr=0.20 (P: 0.7849, R: 0.4787)\n"
          ]
        },
        {
          "output_type": "stream",
          "name": "stdout",
          "text": [
            "  >> New best score! Model saved to best_model_fold_2.pth\n"
          ]
        },
        {
          "output_type": "stream",
          "name": "stderr",
          "text": [
            "\rTraining:   0%|          | 0/35 [00:00<?, ?it/s]"
          ]
        },
        {
          "output_type": "stream",
          "name": "stderr",
          "text": [
            "\rTraining:   3%|\u258e         | 1/35 [00:01<00:53,  1.57s/it]"
          ]
        },
        {
          "output_type": "stream",
          "name": "stderr",
          "text": [
            "\rTraining:   6%|\u258c         | 2/35 [00:01<00:26,  1.23it/s]"
          ]
        },
        {
          "output_type": "stream",
          "name": "stderr",
          "text": [
            "\rTraining:   9%|\u258a         | 3/35 [00:02<00:18,  1.76it/s]"
          ]
        },
        {
          "output_type": "stream",
          "name": "stderr",
          "text": [
            "\rTraining:  11%|\u2588\u258f        | 4/35 [00:02<00:14,  2.21it/s]"
          ]
        },
        {
          "output_type": "stream",
          "name": "stderr",
          "text": [
            "\rTraining:  14%|\u2588\u258d        | 5/35 [00:02<00:11,  2.58it/s]"
          ]
        },
        {
          "output_type": "stream",
          "name": "stderr",
          "text": [
            "\rTraining:  17%|\u2588\u258b        | 6/35 [00:02<00:10,  2.86it/s]"
          ]
        },
        {
          "output_type": "stream",
          "name": "stderr",
          "text": [
            "\rTraining:  20%|\u2588\u2588        | 7/35 [00:03<00:09,  3.06it/s]"
          ]
        },
        {
          "output_type": "stream",
          "name": "stderr",
          "text": [
            "\rTraining:  23%|\u2588\u2588\u258e       | 8/35 [00:03<00:08,  3.21it/s]"
          ]
        },
        {
          "output_type": "stream",
          "name": "stderr",
          "text": [
            "\rTraining:  26%|\u2588\u2588\u258c       | 9/35 [00:03<00:07,  3.33it/s]"
          ]
        },
        {
          "output_type": "stream",
          "name": "stderr",
          "text": [
            "\rTraining:  29%|\u2588\u2588\u258a       | 10/35 [00:04<00:07,  3.42it/s]"
          ]
        },
        {
          "output_type": "stream",
          "name": "stderr",
          "text": [
            "\rTraining:  31%|\u2588\u2588\u2588\u258f      | 11/35 [00:04<00:06,  3.48it/s]"
          ]
        },
        {
          "output_type": "stream",
          "name": "stderr",
          "text": [
            "\rTraining:  34%|\u2588\u2588\u2588\u258d      | 12/35 [00:04<00:06,  3.52it/s]"
          ]
        },
        {
          "output_type": "stream",
          "name": "stderr",
          "text": [
            "\rTraining:  37%|\u2588\u2588\u2588\u258b      | 13/35 [00:04<00:06,  3.55it/s]"
          ]
        },
        {
          "output_type": "stream",
          "name": "stderr",
          "text": [
            "\rTraining:  40%|\u2588\u2588\u2588\u2588      | 14/35 [00:05<00:05,  3.57it/s]"
          ]
        },
        {
          "output_type": "stream",
          "name": "stderr",
          "text": [
            "\rTraining:  43%|\u2588\u2588\u2588\u2588\u258e     | 15/35 [00:05<00:05,  3.56it/s]"
          ]
        },
        {
          "output_type": "stream",
          "name": "stderr",
          "text": [
            "\rTraining:  46%|\u2588\u2588\u2588\u2588\u258c     | 16/35 [00:05<00:05,  3.58it/s]"
          ]
        },
        {
          "output_type": "stream",
          "name": "stderr",
          "text": [
            "\rTraining:  49%|\u2588\u2588\u2588\u2588\u258a     | 17/35 [00:06<00:05,  3.58it/s]"
          ]
        },
        {
          "output_type": "stream",
          "name": "stderr",
          "text": [
            "\rTraining:  51%|\u2588\u2588\u2588\u2588\u2588\u258f    | 18/35 [00:06<00:04,  3.59it/s]"
          ]
        },
        {
          "output_type": "stream",
          "name": "stderr",
          "text": [
            "\rTraining:  54%|\u2588\u2588\u2588\u2588\u2588\u258d    | 19/35 [00:06<00:04,  3.60it/s]"
          ]
        },
        {
          "output_type": "stream",
          "name": "stderr",
          "text": [
            "\rTraining:  57%|\u2588\u2588\u2588\u2588\u2588\u258b    | 20/35 [00:06<00:04,  3.60it/s]"
          ]
        },
        {
          "output_type": "stream",
          "name": "stderr",
          "text": [
            "\rTraining:  60%|\u2588\u2588\u2588\u2588\u2588\u2588    | 21/35 [00:07<00:03,  3.60it/s]"
          ]
        },
        {
          "output_type": "stream",
          "name": "stderr",
          "text": [
            "\rTraining:  63%|\u2588\u2588\u2588\u2588\u2588\u2588\u258e   | 22/35 [00:07<00:03,  3.59it/s]"
          ]
        },
        {
          "output_type": "stream",
          "name": "stderr",
          "text": [
            "\rTraining:  66%|\u2588\u2588\u2588\u2588\u2588\u2588\u258c   | 23/35 [00:07<00:03,  3.59it/s]"
          ]
        },
        {
          "output_type": "stream",
          "name": "stderr",
          "text": [
            "\rTraining:  69%|\u2588\u2588\u2588\u2588\u2588\u2588\u258a   | 24/35 [00:07<00:03,  3.59it/s]"
          ]
        },
        {
          "output_type": "stream",
          "name": "stderr",
          "text": [
            "\rTraining:  71%|\u2588\u2588\u2588\u2588\u2588\u2588\u2588\u258f  | 25/35 [00:08<00:02,  3.60it/s]"
          ]
        },
        {
          "output_type": "stream",
          "name": "stderr",
          "text": [
            "\rTraining:  74%|\u2588\u2588\u2588\u2588\u2588\u2588\u2588\u258d  | 26/35 [00:08<00:02,  3.60it/s]"
          ]
        },
        {
          "output_type": "stream",
          "name": "stderr",
          "text": [
            "\rTraining:  77%|\u2588\u2588\u2588\u2588\u2588\u2588\u2588\u258b  | 27/35 [00:08<00:02,  3.60it/s]"
          ]
        },
        {
          "output_type": "stream",
          "name": "stderr",
          "text": [
            "\rTraining:  80%|\u2588\u2588\u2588\u2588\u2588\u2588\u2588\u2588  | 28/35 [00:09<00:01,  3.61it/s]"
          ]
        },
        {
          "output_type": "stream",
          "name": "stderr",
          "text": [
            "\rTraining:  83%|\u2588\u2588\u2588\u2588\u2588\u2588\u2588\u2588\u258e | 29/35 [00:09<00:01,  3.61it/s]"
          ]
        },
        {
          "output_type": "stream",
          "name": "stderr",
          "text": [
            "\rTraining:  86%|\u2588\u2588\u2588\u2588\u2588\u2588\u2588\u2588\u258c | 30/35 [00:09<00:01,  3.61it/s]"
          ]
        },
        {
          "output_type": "stream",
          "name": "stderr",
          "text": [
            "\rTraining:  89%|\u2588\u2588\u2588\u2588\u2588\u2588\u2588\u2588\u258a | 31/35 [00:09<00:01,  3.61it/s]"
          ]
        },
        {
          "output_type": "stream",
          "name": "stderr",
          "text": [
            "\rTraining:  91%|\u2588\u2588\u2588\u2588\u2588\u2588\u2588\u2588\u2588\u258f| 32/35 [00:10<00:00,  3.61it/s]"
          ]
        },
        {
          "output_type": "stream",
          "name": "stderr",
          "text": [
            "\rTraining:  94%|\u2588\u2588\u2588\u2588\u2588\u2588\u2588\u2588\u2588\u258d| 33/35 [00:10<00:00,  3.61it/s]"
          ]
        },
        {
          "output_type": "stream",
          "name": "stderr",
          "text": [
            "\rTraining:  97%|\u2588\u2588\u2588\u2588\u2588\u2588\u2588\u2588\u2588\u258b| 34/35 [00:10<00:00,  3.62it/s]"
          ]
        },
        {
          "output_type": "stream",
          "name": "stderr",
          "text": [
            "\rTraining: 100%|\u2588\u2588\u2588\u2588\u2588\u2588\u2588\u2588\u2588\u2588| 35/35 [00:10<00:00,  3.62it/s]"
          ]
        },
        {
          "output_type": "stream",
          "name": "stderr",
          "text": [
            "\rTraining: 100%|\u2588\u2588\u2588\u2588\u2588\u2588\u2588\u2588\u2588\u2588| 35/35 [00:11<00:00,  3.16it/s]"
          ]
        },
        {
          "output_type": "stream",
          "name": "stderr",
          "text": [
            "\n"
          ]
        },
        {
          "output_type": "stream",
          "name": "stderr",
          "text": [
            "\rValidating:   0%|          | 0/120 [00:00<?, ?it/s]"
          ]
        },
        {
          "output_type": "stream",
          "name": "stderr",
          "text": [
            "\rValidating:   1%|          | 1/120 [00:01<02:05,  1.05s/it]"
          ]
        },
        {
          "output_type": "stream",
          "name": "stderr",
          "text": [
            "\rValidating:   2%|\u258f         | 2/120 [00:01<01:01,  1.91it/s]"
          ]
        },
        {
          "output_type": "stream",
          "name": "stderr",
          "text": [
            "\rValidating:   2%|\u258e         | 3/120 [00:01<00:41,  2.83it/s]"
          ]
        },
        {
          "output_type": "stream",
          "name": "stderr",
          "text": [
            "\rValidating:   3%|\u258e         | 4/120 [00:01<00:31,  3.66it/s]"
          ]
        },
        {
          "output_type": "stream",
          "name": "stderr",
          "text": [
            "\rValidating:   4%|\u258d         | 5/120 [00:01<00:26,  4.37it/s]"
          ]
        },
        {
          "output_type": "stream",
          "name": "stderr",
          "text": [
            "\rValidating:   5%|\u258c         | 6/120 [00:01<00:23,  4.93it/s]"
          ]
        },
        {
          "output_type": "stream",
          "name": "stderr",
          "text": [
            "\rValidating:   6%|\u258c         | 7/120 [00:01<00:21,  5.37it/s]"
          ]
        },
        {
          "output_type": "stream",
          "name": "stderr",
          "text": [
            "\rValidating:   7%|\u258b         | 8/120 [00:02<00:19,  5.71it/s]"
          ]
        },
        {
          "output_type": "stream",
          "name": "stderr",
          "text": [
            "\rValidating:   8%|\u258a         | 9/120 [00:02<00:18,  5.97it/s]"
          ]
        },
        {
          "output_type": "stream",
          "name": "stderr",
          "text": [
            "\rValidating:   8%|\u258a         | 10/120 [00:02<00:17,  6.16it/s]"
          ]
        },
        {
          "output_type": "stream",
          "name": "stderr",
          "text": [
            "\rValidating:   9%|\u2589         | 11/120 [00:02<00:17,  6.28it/s]"
          ]
        },
        {
          "output_type": "stream",
          "name": "stderr",
          "text": [
            "\rValidating:  10%|\u2588         | 12/120 [00:02<00:16,  6.36it/s]"
          ]
        },
        {
          "output_type": "stream",
          "name": "stderr",
          "text": [
            "\rValidating:  11%|\u2588         | 13/120 [00:02<00:16,  6.45it/s]"
          ]
        },
        {
          "output_type": "stream",
          "name": "stderr",
          "text": [
            "\rValidating:  12%|\u2588\u258f        | 14/120 [00:03<00:16,  6.50it/s]"
          ]
        },
        {
          "output_type": "stream",
          "name": "stderr",
          "text": [
            "\rValidating:  12%|\u2588\u258e        | 15/120 [00:03<00:16,  6.54it/s]"
          ]
        },
        {
          "output_type": "stream",
          "name": "stderr",
          "text": [
            "\rValidating:  13%|\u2588\u258e        | 16/120 [00:03<00:15,  6.56it/s]"
          ]
        },
        {
          "output_type": "stream",
          "name": "stderr",
          "text": [
            "\rValidating:  14%|\u2588\u258d        | 17/120 [00:03<00:15,  6.59it/s]"
          ]
        },
        {
          "output_type": "stream",
          "name": "stderr",
          "text": [
            "\rValidating:  15%|\u2588\u258c        | 18/120 [00:03<00:15,  6.60it/s]"
          ]
        },
        {
          "output_type": "stream",
          "name": "stderr",
          "text": [
            "\rValidating:  16%|\u2588\u258c        | 19/120 [00:03<00:15,  6.60it/s]"
          ]
        },
        {
          "output_type": "stream",
          "name": "stderr",
          "text": [
            "\rValidating:  17%|\u2588\u258b        | 20/120 [00:03<00:15,  6.60it/s]"
          ]
        },
        {
          "output_type": "stream",
          "name": "stderr",
          "text": [
            "\rValidating:  18%|\u2588\u258a        | 21/120 [00:04<00:14,  6.61it/s]"
          ]
        },
        {
          "output_type": "stream",
          "name": "stderr",
          "text": [
            "\rValidating:  18%|\u2588\u258a        | 22/120 [00:04<00:14,  6.61it/s]"
          ]
        },
        {
          "output_type": "stream",
          "name": "stderr",
          "text": [
            "\rValidating:  19%|\u2588\u2589        | 23/120 [00:04<00:14,  6.61it/s]"
          ]
        },
        {
          "output_type": "stream",
          "name": "stderr",
          "text": [
            "\rValidating:  20%|\u2588\u2588        | 24/120 [00:04<00:14,  6.62it/s]"
          ]
        },
        {
          "output_type": "stream",
          "name": "stderr",
          "text": [
            "\rValidating:  21%|\u2588\u2588        | 25/120 [00:04<00:14,  6.62it/s]"
          ]
        },
        {
          "output_type": "stream",
          "name": "stderr",
          "text": [
            "\rValidating:  22%|\u2588\u2588\u258f       | 26/120 [00:04<00:14,  6.62it/s]"
          ]
        },
        {
          "output_type": "stream",
          "name": "stderr",
          "text": [
            "\rValidating:  22%|\u2588\u2588\u258e       | 27/120 [00:04<00:14,  6.62it/s]"
          ]
        },
        {
          "output_type": "stream",
          "name": "stderr",
          "text": [
            "\rValidating:  23%|\u2588\u2588\u258e       | 28/120 [00:05<00:13,  6.62it/s]"
          ]
        },
        {
          "output_type": "stream",
          "name": "stderr",
          "text": [
            "\rValidating:  24%|\u2588\u2588\u258d       | 29/120 [00:05<00:13,  6.62it/s]"
          ]
        },
        {
          "output_type": "stream",
          "name": "stderr",
          "text": [
            "\rValidating:  25%|\u2588\u2588\u258c       | 30/120 [00:05<00:13,  6.62it/s]"
          ]
        },
        {
          "output_type": "stream",
          "name": "stderr",
          "text": [
            "\rValidating:  26%|\u2588\u2588\u258c       | 31/120 [00:05<00:13,  6.62it/s]"
          ]
        },
        {
          "output_type": "stream",
          "name": "stderr",
          "text": [
            "\rValidating:  27%|\u2588\u2588\u258b       | 32/120 [00:05<00:13,  6.61it/s]"
          ]
        },
        {
          "output_type": "stream",
          "name": "stderr",
          "text": [
            "\rValidating:  28%|\u2588\u2588\u258a       | 33/120 [00:05<00:13,  6.61it/s]"
          ]
        },
        {
          "output_type": "stream",
          "name": "stderr",
          "text": [
            "\rValidating:  28%|\u2588\u2588\u258a       | 34/120 [00:06<00:13,  6.61it/s]"
          ]
        },
        {
          "output_type": "stream",
          "name": "stderr",
          "text": [
            "\rValidating:  29%|\u2588\u2588\u2589       | 35/120 [00:06<00:12,  6.62it/s]"
          ]
        },
        {
          "output_type": "stream",
          "name": "stderr",
          "text": [
            "\rValidating:  30%|\u2588\u2588\u2588       | 36/120 [00:06<00:12,  6.61it/s]"
          ]
        },
        {
          "output_type": "stream",
          "name": "stderr",
          "text": [
            "\rValidating:  31%|\u2588\u2588\u2588       | 37/120 [00:06<00:12,  6.61it/s]"
          ]
        },
        {
          "output_type": "stream",
          "name": "stderr",
          "text": [
            "\rValidating:  32%|\u2588\u2588\u2588\u258f      | 38/120 [00:06<00:12,  6.61it/s]"
          ]
        },
        {
          "output_type": "stream",
          "name": "stderr",
          "text": [
            "\rValidating:  32%|\u2588\u2588\u2588\u258e      | 39/120 [00:06<00:12,  6.61it/s]"
          ]
        },
        {
          "output_type": "stream",
          "name": "stderr",
          "text": [
            "\rValidating:  33%|\u2588\u2588\u2588\u258e      | 40/120 [00:06<00:12,  6.61it/s]"
          ]
        },
        {
          "output_type": "stream",
          "name": "stderr",
          "text": [
            "\rValidating:  34%|\u2588\u2588\u2588\u258d      | 41/120 [00:07<00:11,  6.61it/s]"
          ]
        },
        {
          "output_type": "stream",
          "name": "stderr",
          "text": [
            "\rValidating:  35%|\u2588\u2588\u2588\u258c      | 42/120 [00:07<00:11,  6.61it/s]"
          ]
        },
        {
          "output_type": "stream",
          "name": "stderr",
          "text": [
            "\rValidating:  36%|\u2588\u2588\u2588\u258c      | 43/120 [00:07<00:11,  6.62it/s]"
          ]
        },
        {
          "output_type": "stream",
          "name": "stderr",
          "text": [
            "\rValidating:  37%|\u2588\u2588\u2588\u258b      | 44/120 [00:07<00:11,  6.61it/s]"
          ]
        },
        {
          "output_type": "stream",
          "name": "stderr",
          "text": [
            "\rValidating:  38%|\u2588\u2588\u2588\u258a      | 45/120 [00:07<00:11,  6.61it/s]"
          ]
        },
        {
          "output_type": "stream",
          "name": "stderr",
          "text": [
            "\rValidating:  38%|\u2588\u2588\u2588\u258a      | 46/120 [00:07<00:11,  6.60it/s]"
          ]
        },
        {
          "output_type": "stream",
          "name": "stderr",
          "text": [
            "\rValidating:  39%|\u2588\u2588\u2588\u2589      | 47/120 [00:08<00:11,  6.61it/s]"
          ]
        },
        {
          "output_type": "stream",
          "name": "stderr",
          "text": [
            "\rValidating:  40%|\u2588\u2588\u2588\u2588      | 48/120 [00:08<00:10,  6.60it/s]"
          ]
        },
        {
          "output_type": "stream",
          "name": "stderr",
          "text": [
            "\rValidating:  41%|\u2588\u2588\u2588\u2588      | 49/120 [00:08<00:10,  6.61it/s]"
          ]
        },
        {
          "output_type": "stream",
          "name": "stderr",
          "text": [
            "\rValidating:  42%|\u2588\u2588\u2588\u2588\u258f     | 50/120 [00:08<00:10,  6.60it/s]"
          ]
        },
        {
          "output_type": "stream",
          "name": "stderr",
          "text": [
            "\rValidating:  42%|\u2588\u2588\u2588\u2588\u258e     | 51/120 [00:08<00:10,  6.60it/s]"
          ]
        },
        {
          "output_type": "stream",
          "name": "stderr",
          "text": [
            "\rValidating:  43%|\u2588\u2588\u2588\u2588\u258e     | 52/120 [00:08<00:10,  6.60it/s]"
          ]
        },
        {
          "output_type": "stream",
          "name": "stderr",
          "text": [
            "\rValidating:  44%|\u2588\u2588\u2588\u2588\u258d     | 53/120 [00:08<00:10,  6.60it/s]"
          ]
        },
        {
          "output_type": "stream",
          "name": "stderr",
          "text": [
            "\rValidating:  45%|\u2588\u2588\u2588\u2588\u258c     | 54/120 [00:09<00:09,  6.60it/s]"
          ]
        },
        {
          "output_type": "stream",
          "name": "stderr",
          "text": [
            "\rValidating:  46%|\u2588\u2588\u2588\u2588\u258c     | 55/120 [00:09<00:09,  6.60it/s]"
          ]
        },
        {
          "output_type": "stream",
          "name": "stderr",
          "text": [
            "\rValidating:  47%|\u2588\u2588\u2588\u2588\u258b     | 56/120 [00:09<00:09,  6.60it/s]"
          ]
        },
        {
          "output_type": "stream",
          "name": "stderr",
          "text": [
            "\rValidating:  48%|\u2588\u2588\u2588\u2588\u258a     | 57/120 [00:09<00:09,  6.60it/s]"
          ]
        },
        {
          "output_type": "stream",
          "name": "stderr",
          "text": [
            "\rValidating:  48%|\u2588\u2588\u2588\u2588\u258a     | 58/120 [00:09<00:09,  6.60it/s]"
          ]
        },
        {
          "output_type": "stream",
          "name": "stderr",
          "text": [
            "\rValidating:  49%|\u2588\u2588\u2588\u2588\u2589     | 59/120 [00:09<00:09,  6.61it/s]"
          ]
        },
        {
          "output_type": "stream",
          "name": "stderr",
          "text": [
            "\rValidating:  50%|\u2588\u2588\u2588\u2588\u2588     | 60/120 [00:09<00:09,  6.61it/s]"
          ]
        },
        {
          "output_type": "stream",
          "name": "stderr",
          "text": [
            "\rValidating:  51%|\u2588\u2588\u2588\u2588\u2588     | 61/120 [00:10<00:08,  6.62it/s]"
          ]
        },
        {
          "output_type": "stream",
          "name": "stderr",
          "text": [
            "\rValidating:  52%|\u2588\u2588\u2588\u2588\u2588\u258f    | 62/120 [00:10<00:08,  6.61it/s]"
          ]
        },
        {
          "output_type": "stream",
          "name": "stderr",
          "text": [
            "\rValidating:  52%|\u2588\u2588\u2588\u2588\u2588\u258e    | 63/120 [00:10<00:08,  6.62it/s]"
          ]
        },
        {
          "output_type": "stream",
          "name": "stderr",
          "text": [
            "\rValidating:  53%|\u2588\u2588\u2588\u2588\u2588\u258e    | 64/120 [00:10<00:08,  6.61it/s]"
          ]
        },
        {
          "output_type": "stream",
          "name": "stderr",
          "text": [
            "\rValidating:  54%|\u2588\u2588\u2588\u2588\u2588\u258d    | 65/120 [00:10<00:08,  6.61it/s]"
          ]
        },
        {
          "output_type": "stream",
          "name": "stderr",
          "text": [
            "\rValidating:  55%|\u2588\u2588\u2588\u2588\u2588\u258c    | 66/120 [00:10<00:08,  6.61it/s]"
          ]
        },
        {
          "output_type": "stream",
          "name": "stderr",
          "text": [
            "\rValidating:  56%|\u2588\u2588\u2588\u2588\u2588\u258c    | 67/120 [00:11<00:08,  6.61it/s]"
          ]
        },
        {
          "output_type": "stream",
          "name": "stderr",
          "text": [
            "\rValidating:  57%|\u2588\u2588\u2588\u2588\u2588\u258b    | 68/120 [00:11<00:07,  6.61it/s]"
          ]
        },
        {
          "output_type": "stream",
          "name": "stderr",
          "text": [
            "\rValidating:  57%|\u2588\u2588\u2588\u2588\u2588\u258a    | 69/120 [00:11<00:07,  6.61it/s]"
          ]
        },
        {
          "output_type": "stream",
          "name": "stderr",
          "text": [
            "\rValidating:  58%|\u2588\u2588\u2588\u2588\u2588\u258a    | 70/120 [00:11<00:07,  6.62it/s]"
          ]
        },
        {
          "output_type": "stream",
          "name": "stderr",
          "text": [
            "\rValidating:  59%|\u2588\u2588\u2588\u2588\u2588\u2589    | 71/120 [00:11<00:07,  6.62it/s]"
          ]
        },
        {
          "output_type": "stream",
          "name": "stderr",
          "text": [
            "\rValidating:  60%|\u2588\u2588\u2588\u2588\u2588\u2588    | 72/120 [00:11<00:07,  6.60it/s]"
          ]
        },
        {
          "output_type": "stream",
          "name": "stderr",
          "text": [
            "\rValidating:  61%|\u2588\u2588\u2588\u2588\u2588\u2588    | 73/120 [00:11<00:07,  6.60it/s]"
          ]
        },
        {
          "output_type": "stream",
          "name": "stderr",
          "text": [
            "\rValidating:  62%|\u2588\u2588\u2588\u2588\u2588\u2588\u258f   | 74/120 [00:12<00:06,  6.60it/s]"
          ]
        },
        {
          "output_type": "stream",
          "name": "stderr",
          "text": [
            "\rValidating:  62%|\u2588\u2588\u2588\u2588\u2588\u2588\u258e   | 75/120 [00:12<00:06,  6.61it/s]"
          ]
        },
        {
          "output_type": "stream",
          "name": "stderr",
          "text": [
            "\rValidating:  63%|\u2588\u2588\u2588\u2588\u2588\u2588\u258e   | 76/120 [00:12<00:06,  6.59it/s]"
          ]
        },
        {
          "output_type": "stream",
          "name": "stderr",
          "text": [
            "\rValidating:  64%|\u2588\u2588\u2588\u2588\u2588\u2588\u258d   | 77/120 [00:12<00:06,  6.61it/s]"
          ]
        },
        {
          "output_type": "stream",
          "name": "stderr",
          "text": [
            "\rValidating:  65%|\u2588\u2588\u2588\u2588\u2588\u2588\u258c   | 78/120 [00:12<00:06,  6.61it/s]"
          ]
        },
        {
          "output_type": "stream",
          "name": "stderr",
          "text": [
            "\rValidating:  66%|\u2588\u2588\u2588\u2588\u2588\u2588\u258c   | 79/120 [00:12<00:06,  6.61it/s]"
          ]
        },
        {
          "output_type": "stream",
          "name": "stderr",
          "text": [
            "\rValidating:  67%|\u2588\u2588\u2588\u2588\u2588\u2588\u258b   | 80/120 [00:13<00:06,  6.60it/s]"
          ]
        },
        {
          "output_type": "stream",
          "name": "stderr",
          "text": [
            "\rValidating:  68%|\u2588\u2588\u2588\u2588\u2588\u2588\u258a   | 81/120 [00:13<00:05,  6.61it/s]"
          ]
        },
        {
          "output_type": "stream",
          "name": "stderr",
          "text": [
            "\rValidating:  68%|\u2588\u2588\u2588\u2588\u2588\u2588\u258a   | 82/120 [00:13<00:05,  6.61it/s]"
          ]
        },
        {
          "output_type": "stream",
          "name": "stderr",
          "text": [
            "\rValidating:  69%|\u2588\u2588\u2588\u2588\u2588\u2588\u2589   | 83/120 [00:13<00:05,  6.62it/s]"
          ]
        },
        {
          "output_type": "stream",
          "name": "stderr",
          "text": [
            "\rValidating:  70%|\u2588\u2588\u2588\u2588\u2588\u2588\u2588   | 84/120 [00:13<00:05,  6.62it/s]"
          ]
        },
        {
          "output_type": "stream",
          "name": "stderr",
          "text": [
            "\rValidating:  71%|\u2588\u2588\u2588\u2588\u2588\u2588\u2588   | 85/120 [00:13<00:05,  6.62it/s]"
          ]
        },
        {
          "output_type": "stream",
          "name": "stderr",
          "text": [
            "\rValidating:  72%|\u2588\u2588\u2588\u2588\u2588\u2588\u2588\u258f  | 86/120 [00:13<00:05,  6.61it/s]"
          ]
        },
        {
          "output_type": "stream",
          "name": "stderr",
          "text": [
            "\rValidating:  72%|\u2588\u2588\u2588\u2588\u2588\u2588\u2588\u258e  | 87/120 [00:14<00:04,  6.61it/s]"
          ]
        },
        {
          "output_type": "stream",
          "name": "stderr",
          "text": [
            "\rValidating:  73%|\u2588\u2588\u2588\u2588\u2588\u2588\u2588\u258e  | 88/120 [00:14<00:04,  6.61it/s]"
          ]
        },
        {
          "output_type": "stream",
          "name": "stderr",
          "text": [
            "\rValidating:  74%|\u2588\u2588\u2588\u2588\u2588\u2588\u2588\u258d  | 89/120 [00:14<00:04,  6.61it/s]"
          ]
        },
        {
          "output_type": "stream",
          "name": "stderr",
          "text": [
            "\rValidating:  75%|\u2588\u2588\u2588\u2588\u2588\u2588\u2588\u258c  | 90/120 [00:14<00:04,  6.61it/s]"
          ]
        },
        {
          "output_type": "stream",
          "name": "stderr",
          "text": [
            "\rValidating:  76%|\u2588\u2588\u2588\u2588\u2588\u2588\u2588\u258c  | 91/120 [00:14<00:04,  6.62it/s]"
          ]
        },
        {
          "output_type": "stream",
          "name": "stderr",
          "text": [
            "\rValidating:  77%|\u2588\u2588\u2588\u2588\u2588\u2588\u2588\u258b  | 92/120 [00:14<00:04,  6.60it/s]"
          ]
        },
        {
          "output_type": "stream",
          "name": "stderr",
          "text": [
            "\rValidating:  78%|\u2588\u2588\u2588\u2588\u2588\u2588\u2588\u258a  | 93/120 [00:14<00:04,  6.62it/s]"
          ]
        },
        {
          "output_type": "stream",
          "name": "stderr",
          "text": [
            "\rValidating:  78%|\u2588\u2588\u2588\u2588\u2588\u2588\u2588\u258a  | 94/120 [00:15<00:03,  6.61it/s]"
          ]
        },
        {
          "output_type": "stream",
          "name": "stderr",
          "text": [
            "\rValidating:  79%|\u2588\u2588\u2588\u2588\u2588\u2588\u2588\u2589  | 95/120 [00:15<00:03,  6.62it/s]"
          ]
        },
        {
          "output_type": "stream",
          "name": "stderr",
          "text": [
            "\rValidating:  80%|\u2588\u2588\u2588\u2588\u2588\u2588\u2588\u2588  | 96/120 [00:15<00:03,  6.62it/s]"
          ]
        },
        {
          "output_type": "stream",
          "name": "stderr",
          "text": [
            "\rValidating:  81%|\u2588\u2588\u2588\u2588\u2588\u2588\u2588\u2588  | 97/120 [00:15<00:03,  6.63it/s]"
          ]
        },
        {
          "output_type": "stream",
          "name": "stderr",
          "text": [
            "\rValidating:  82%|\u2588\u2588\u2588\u2588\u2588\u2588\u2588\u2588\u258f | 98/120 [00:15<00:03,  6.62it/s]"
          ]
        },
        {
          "output_type": "stream",
          "name": "stderr",
          "text": [
            "\rValidating:  82%|\u2588\u2588\u2588\u2588\u2588\u2588\u2588\u2588\u258e | 99/120 [00:15<00:03,  6.62it/s]"
          ]
        },
        {
          "output_type": "stream",
          "name": "stderr",
          "text": [
            "\rValidating:  83%|\u2588\u2588\u2588\u2588\u2588\u2588\u2588\u2588\u258e | 100/120 [00:16<00:03,  6.62it/s]"
          ]
        },
        {
          "output_type": "stream",
          "name": "stderr",
          "text": [
            "\rValidating:  84%|\u2588\u2588\u2588\u2588\u2588\u2588\u2588\u2588\u258d | 101/120 [00:16<00:02,  6.62it/s]"
          ]
        },
        {
          "output_type": "stream",
          "name": "stderr",
          "text": [
            "\rValidating:  85%|\u2588\u2588\u2588\u2588\u2588\u2588\u2588\u2588\u258c | 102/120 [00:16<00:02,  6.62it/s]"
          ]
        },
        {
          "output_type": "stream",
          "name": "stderr",
          "text": [
            "\rValidating:  86%|\u2588\u2588\u2588\u2588\u2588\u2588\u2588\u2588\u258c | 103/120 [00:16<00:02,  6.62it/s]"
          ]
        },
        {
          "output_type": "stream",
          "name": "stderr",
          "text": [
            "\rValidating:  87%|\u2588\u2588\u2588\u2588\u2588\u2588\u2588\u2588\u258b | 104/120 [00:16<00:02,  6.61it/s]"
          ]
        },
        {
          "output_type": "stream",
          "name": "stderr",
          "text": [
            "\rValidating:  88%|\u2588\u2588\u2588\u2588\u2588\u2588\u2588\u2588\u258a | 105/120 [00:16<00:02,  6.62it/s]"
          ]
        },
        {
          "output_type": "stream",
          "name": "stderr",
          "text": [
            "\rValidating:  88%|\u2588\u2588\u2588\u2588\u2588\u2588\u2588\u2588\u258a | 106/120 [00:16<00:02,  6.61it/s]"
          ]
        },
        {
          "output_type": "stream",
          "name": "stderr",
          "text": [
            "\rValidating:  89%|\u2588\u2588\u2588\u2588\u2588\u2588\u2588\u2588\u2589 | 107/120 [00:17<00:01,  6.62it/s]"
          ]
        },
        {
          "output_type": "stream",
          "name": "stderr",
          "text": [
            "\rValidating:  90%|\u2588\u2588\u2588\u2588\u2588\u2588\u2588\u2588\u2588 | 108/120 [00:17<00:01,  6.61it/s]"
          ]
        },
        {
          "output_type": "stream",
          "name": "stderr",
          "text": [
            "\rValidating:  91%|\u2588\u2588\u2588\u2588\u2588\u2588\u2588\u2588\u2588 | 109/120 [00:17<00:01,  6.62it/s]"
          ]
        },
        {
          "output_type": "stream",
          "name": "stderr",
          "text": [
            "\rValidating:  92%|\u2588\u2588\u2588\u2588\u2588\u2588\u2588\u2588\u2588\u258f| 110/120 [00:17<00:01,  6.61it/s]"
          ]
        },
        {
          "output_type": "stream",
          "name": "stderr",
          "text": [
            "\rValidating:  92%|\u2588\u2588\u2588\u2588\u2588\u2588\u2588\u2588\u2588\u258e| 111/120 [00:17<00:01,  6.61it/s]"
          ]
        },
        {
          "output_type": "stream",
          "name": "stderr",
          "text": [
            "\rValidating:  93%|\u2588\u2588\u2588\u2588\u2588\u2588\u2588\u2588\u2588\u258e| 112/120 [00:17<00:01,  6.61it/s]"
          ]
        },
        {
          "output_type": "stream",
          "name": "stderr",
          "text": [
            "\rValidating:  94%|\u2588\u2588\u2588\u2588\u2588\u2588\u2588\u2588\u2588\u258d| 113/120 [00:17<00:01,  6.62it/s]"
          ]
        },
        {
          "output_type": "stream",
          "name": "stderr",
          "text": [
            "\rValidating:  95%|\u2588\u2588\u2588\u2588\u2588\u2588\u2588\u2588\u2588\u258c| 114/120 [00:18<00:00,  6.62it/s]"
          ]
        },
        {
          "output_type": "stream",
          "name": "stderr",
          "text": [
            "\rValidating:  96%|\u2588\u2588\u2588\u2588\u2588\u2588\u2588\u2588\u2588\u258c| 115/120 [00:18<00:00,  6.64it/s]"
          ]
        },
        {
          "output_type": "stream",
          "name": "stderr",
          "text": [
            "\rValidating:  97%|\u2588\u2588\u2588\u2588\u2588\u2588\u2588\u2588\u2588\u258b| 116/120 [00:18<00:00,  6.64it/s]"
          ]
        },
        {
          "output_type": "stream",
          "name": "stderr",
          "text": [
            "\rValidating:  98%|\u2588\u2588\u2588\u2588\u2588\u2588\u2588\u2588\u2588\u258a| 117/120 [00:18<00:00,  6.64it/s]"
          ]
        },
        {
          "output_type": "stream",
          "name": "stderr",
          "text": [
            "\rValidating:  98%|\u2588\u2588\u2588\u2588\u2588\u2588\u2588\u2588\u2588\u258a| 118/120 [00:18<00:00,  6.65it/s]"
          ]
        },
        {
          "output_type": "stream",
          "name": "stderr",
          "text": [
            "\rValidating:  99%|\u2588\u2588\u2588\u2588\u2588\u2588\u2588\u2588\u2588\u2589| 119/120 [00:18<00:00,  6.64it/s]"
          ]
        },
        {
          "output_type": "stream",
          "name": "stderr",
          "text": [
            "\rValidating: 100%|\u2588\u2588\u2588\u2588\u2588\u2588\u2588\u2588\u2588\u2588| 120/120 [00:18<00:00,  6.32it/s]"
          ]
        },
        {
          "output_type": "stream",
          "name": "stderr",
          "text": [
            "\n"
          ]
        },
        {
          "output_type": "stream",
          "name": "stdout",
          "text": [
            "Epoch 8/20 - Time: 53s - Train Loss: 0.0820 - Val F0.5: 0.6998 @ thr=0.20 (P: 0.8112, R: 0.4517)\n  >> New best score! Model saved to best_model_fold_2.pth\n"
          ]
        },
        {
          "output_type": "stream",
          "name": "stderr",
          "text": [
            "\rTraining:   0%|          | 0/35 [00:00<?, ?it/s]"
          ]
        },
        {
          "output_type": "stream",
          "name": "stderr",
          "text": [
            "\rTraining:   3%|\u258e         | 1/35 [00:01<00:44,  1.31s/it]"
          ]
        },
        {
          "output_type": "stream",
          "name": "stderr",
          "text": [
            "\rTraining:   6%|\u258c         | 2/35 [00:01<00:23,  1.42it/s]"
          ]
        },
        {
          "output_type": "stream",
          "name": "stderr",
          "text": [
            "\rTraining:   9%|\u258a         | 3/35 [00:01<00:16,  1.97it/s]"
          ]
        },
        {
          "output_type": "stream",
          "name": "stderr",
          "text": [
            "\rTraining:  11%|\u2588\u258f        | 4/35 [00:02<00:12,  2.40it/s]"
          ]
        },
        {
          "output_type": "stream",
          "name": "stderr",
          "text": [
            "\rTraining:  14%|\u2588\u258d        | 5/35 [00:02<00:10,  2.73it/s]"
          ]
        },
        {
          "output_type": "stream",
          "name": "stderr",
          "text": [
            "\rTraining:  17%|\u2588\u258b        | 6/35 [00:02<00:09,  2.98it/s]"
          ]
        },
        {
          "output_type": "stream",
          "name": "stderr",
          "text": [
            "\rTraining:  20%|\u2588\u2588        | 7/35 [00:02<00:08,  3.16it/s]"
          ]
        },
        {
          "output_type": "stream",
          "name": "stderr",
          "text": [
            "\rTraining:  23%|\u2588\u2588\u258e       | 8/35 [00:03<00:08,  3.29it/s]"
          ]
        },
        {
          "output_type": "stream",
          "name": "stderr",
          "text": [
            "\rTraining:  26%|\u2588\u2588\u258c       | 9/35 [00:03<00:07,  3.39it/s]"
          ]
        },
        {
          "output_type": "stream",
          "name": "stderr",
          "text": [
            "\rTraining:  29%|\u2588\u2588\u258a       | 10/35 [00:03<00:07,  3.45it/s]"
          ]
        },
        {
          "output_type": "stream",
          "name": "stderr",
          "text": [
            "\rTraining:  31%|\u2588\u2588\u2588\u258f      | 11/35 [00:04<00:06,  3.50it/s]"
          ]
        },
        {
          "output_type": "stream",
          "name": "stderr",
          "text": [
            "\rTraining:  34%|\u2588\u2588\u2588\u258d      | 12/35 [00:04<00:06,  3.53it/s]"
          ]
        },
        {
          "output_type": "stream",
          "name": "stderr",
          "text": [
            "\rTraining:  37%|\u2588\u2588\u2588\u258b      | 13/35 [00:04<00:06,  3.56it/s]"
          ]
        },
        {
          "output_type": "stream",
          "name": "stderr",
          "text": [
            "\rTraining:  40%|\u2588\u2588\u2588\u2588      | 14/35 [00:04<00:05,  3.58it/s]"
          ]
        },
        {
          "output_type": "stream",
          "name": "stderr",
          "text": [
            "\rTraining:  43%|\u2588\u2588\u2588\u2588\u258e     | 15/35 [00:05<00:05,  3.59it/s]"
          ]
        },
        {
          "output_type": "stream",
          "name": "stderr",
          "text": [
            "\rTraining:  46%|\u2588\u2588\u2588\u2588\u258c     | 16/35 [00:05<00:05,  3.61it/s]"
          ]
        },
        {
          "output_type": "stream",
          "name": "stderr",
          "text": [
            "\rTraining:  49%|\u2588\u2588\u2588\u2588\u258a     | 17/35 [00:05<00:04,  3.60it/s]"
          ]
        },
        {
          "output_type": "stream",
          "name": "stderr",
          "text": [
            "\rTraining:  51%|\u2588\u2588\u2588\u2588\u2588\u258f    | 18/35 [00:06<00:04,  3.61it/s]"
          ]
        },
        {
          "output_type": "stream",
          "name": "stderr",
          "text": [
            "\rTraining:  54%|\u2588\u2588\u2588\u2588\u2588\u258d    | 19/35 [00:06<00:04,  3.60it/s]"
          ]
        },
        {
          "output_type": "stream",
          "name": "stderr",
          "text": [
            "\rTraining:  57%|\u2588\u2588\u2588\u2588\u2588\u258b    | 20/35 [00:06<00:04,  3.60it/s]"
          ]
        },
        {
          "output_type": "stream",
          "name": "stderr",
          "text": [
            "\rTraining:  60%|\u2588\u2588\u2588\u2588\u2588\u2588    | 21/35 [00:06<00:03,  3.60it/s]"
          ]
        },
        {
          "output_type": "stream",
          "name": "stderr",
          "text": [
            "\rTraining:  63%|\u2588\u2588\u2588\u2588\u2588\u2588\u258e   | 22/35 [00:07<00:03,  3.60it/s]"
          ]
        },
        {
          "output_type": "stream",
          "name": "stderr",
          "text": [
            "\rTraining:  66%|\u2588\u2588\u2588\u2588\u2588\u2588\u258c   | 23/35 [00:07<00:03,  3.60it/s]"
          ]
        },
        {
          "output_type": "stream",
          "name": "stderr",
          "text": [
            "\rTraining:  69%|\u2588\u2588\u2588\u2588\u2588\u2588\u258a   | 24/35 [00:07<00:03,  3.60it/s]"
          ]
        },
        {
          "output_type": "stream",
          "name": "stderr",
          "text": [
            "\rTraining:  71%|\u2588\u2588\u2588\u2588\u2588\u2588\u2588\u258f  | 25/35 [00:07<00:02,  3.60it/s]"
          ]
        },
        {
          "output_type": "stream",
          "name": "stderr",
          "text": [
            "\rTraining:  74%|\u2588\u2588\u2588\u2588\u2588\u2588\u2588\u258d  | 26/35 [00:08<00:02,  3.60it/s]"
          ]
        },
        {
          "output_type": "stream",
          "name": "stderr",
          "text": [
            "\rTraining:  77%|\u2588\u2588\u2588\u2588\u2588\u2588\u2588\u258b  | 27/35 [00:08<00:02,  3.60it/s]"
          ]
        },
        {
          "output_type": "stream",
          "name": "stderr",
          "text": [
            "\rTraining:  80%|\u2588\u2588\u2588\u2588\u2588\u2588\u2588\u2588  | 28/35 [00:08<00:01,  3.60it/s]"
          ]
        },
        {
          "output_type": "stream",
          "name": "stderr",
          "text": [
            "\rTraining:  83%|\u2588\u2588\u2588\u2588\u2588\u2588\u2588\u2588\u258e | 29/35 [00:09<00:01,  3.61it/s]"
          ]
        },
        {
          "output_type": "stream",
          "name": "stderr",
          "text": [
            "\rTraining:  86%|\u2588\u2588\u2588\u2588\u2588\u2588\u2588\u2588\u258c | 30/35 [00:09<00:01,  3.62it/s]"
          ]
        },
        {
          "output_type": "stream",
          "name": "stderr",
          "text": [
            "\rTraining:  89%|\u2588\u2588\u2588\u2588\u2588\u2588\u2588\u2588\u258a | 31/35 [00:09<00:01,  3.62it/s]"
          ]
        },
        {
          "output_type": "stream",
          "name": "stderr",
          "text": [
            "\rTraining:  91%|\u2588\u2588\u2588\u2588\u2588\u2588\u2588\u2588\u2588\u258f| 32/35 [00:09<00:00,  3.61it/s]"
          ]
        },
        {
          "output_type": "stream",
          "name": "stderr",
          "text": [
            "\rTraining:  94%|\u2588\u2588\u2588\u2588\u2588\u2588\u2588\u2588\u2588\u258d| 33/35 [00:10<00:00,  3.62it/s]"
          ]
        },
        {
          "output_type": "stream",
          "name": "stderr",
          "text": [
            "\rTraining:  97%|\u2588\u2588\u2588\u2588\u2588\u2588\u2588\u2588\u2588\u258b| 34/35 [00:10<00:00,  3.62it/s]"
          ]
        },
        {
          "output_type": "stream",
          "name": "stderr",
          "text": [
            "\rTraining: 100%|\u2588\u2588\u2588\u2588\u2588\u2588\u2588\u2588\u2588\u2588| 35/35 [00:10<00:00,  3.62it/s]"
          ]
        },
        {
          "output_type": "stream",
          "name": "stderr",
          "text": [
            "\rTraining: 100%|\u2588\u2588\u2588\u2588\u2588\u2588\u2588\u2588\u2588\u2588| 35/35 [00:10<00:00,  3.25it/s]"
          ]
        },
        {
          "output_type": "stream",
          "name": "stderr",
          "text": [
            "\n"
          ]
        },
        {
          "output_type": "stream",
          "name": "stderr",
          "text": [
            "\rValidating:   0%|          | 0/120 [00:00<?, ?it/s]"
          ]
        },
        {
          "output_type": "stream",
          "name": "stderr",
          "text": [
            "\rValidating:   1%|          | 1/120 [00:00<01:54,  1.03it/s]"
          ]
        },
        {
          "output_type": "stream",
          "name": "stderr",
          "text": [
            "\rValidating:   2%|\u258f         | 2/120 [00:01<00:57,  2.05it/s]"
          ]
        },
        {
          "output_type": "stream",
          "name": "stderr",
          "text": [
            "\rValidating:   2%|\u258e         | 3/120 [00:01<00:39,  3.00it/s]"
          ]
        },
        {
          "output_type": "stream",
          "name": "stderr",
          "text": [
            "\rValidating:   3%|\u258e         | 4/120 [00:01<00:30,  3.83it/s]"
          ]
        },
        {
          "output_type": "stream",
          "name": "stderr",
          "text": [
            "\rValidating:   4%|\u258d         | 5/120 [00:01<00:25,  4.52it/s]"
          ]
        },
        {
          "output_type": "stream",
          "name": "stderr",
          "text": [
            "\rValidating:   5%|\u258c         | 6/120 [00:01<00:22,  5.07it/s]"
          ]
        },
        {
          "output_type": "stream",
          "name": "stderr",
          "text": [
            "\rValidating:   6%|\u258c         | 7/120 [00:01<00:20,  5.50it/s]"
          ]
        },
        {
          "output_type": "stream",
          "name": "stderr",
          "text": [
            "\rValidating:   7%|\u258b         | 8/120 [00:02<00:19,  5.81it/s]"
          ]
        },
        {
          "output_type": "stream",
          "name": "stderr",
          "text": [
            "\rValidating:   8%|\u258a         | 9/120 [00:02<00:18,  6.05it/s]"
          ]
        },
        {
          "output_type": "stream",
          "name": "stderr",
          "text": [
            "\rValidating:   8%|\u258a         | 10/120 [00:02<00:17,  6.22it/s]"
          ]
        },
        {
          "output_type": "stream",
          "name": "stderr",
          "text": [
            "\rValidating:   9%|\u2589         | 11/120 [00:02<00:17,  6.34it/s]"
          ]
        },
        {
          "output_type": "stream",
          "name": "stderr",
          "text": [
            "\rValidating:  10%|\u2588         | 12/120 [00:02<00:16,  6.41it/s]"
          ]
        },
        {
          "output_type": "stream",
          "name": "stderr",
          "text": [
            "\rValidating:  11%|\u2588         | 13/120 [00:02<00:16,  6.48it/s]"
          ]
        },
        {
          "output_type": "stream",
          "name": "stderr",
          "text": [
            "\rValidating:  12%|\u2588\u258f        | 14/120 [00:02<00:16,  6.52it/s]"
          ]
        },
        {
          "output_type": "stream",
          "name": "stderr",
          "text": [
            "\rValidating:  12%|\u2588\u258e        | 15/120 [00:03<00:16,  6.55it/s]"
          ]
        },
        {
          "output_type": "stream",
          "name": "stderr",
          "text": [
            "\rValidating:  13%|\u2588\u258e        | 16/120 [00:03<00:15,  6.56it/s]"
          ]
        },
        {
          "output_type": "stream",
          "name": "stderr",
          "text": [
            "\rValidating:  14%|\u2588\u258d        | 17/120 [00:03<00:15,  6.58it/s]"
          ]
        },
        {
          "output_type": "stream",
          "name": "stderr",
          "text": [
            "\rValidating:  15%|\u2588\u258c        | 18/120 [00:03<00:15,  6.59it/s]"
          ]
        },
        {
          "output_type": "stream",
          "name": "stderr",
          "text": [
            "\rValidating:  16%|\u2588\u258c        | 19/120 [00:03<00:15,  6.61it/s]"
          ]
        },
        {
          "output_type": "stream",
          "name": "stderr",
          "text": [
            "\rValidating:  17%|\u2588\u258b        | 20/120 [00:03<00:15,  6.61it/s]"
          ]
        },
        {
          "output_type": "stream",
          "name": "stderr",
          "text": [
            "\rValidating:  18%|\u2588\u258a        | 21/120 [00:03<00:14,  6.63it/s]"
          ]
        },
        {
          "output_type": "stream",
          "name": "stderr",
          "text": [
            "\rValidating:  18%|\u2588\u258a        | 22/120 [00:04<00:14,  6.62it/s]"
          ]
        },
        {
          "output_type": "stream",
          "name": "stderr",
          "text": [
            "\rValidating:  19%|\u2588\u2589        | 23/120 [00:04<00:14,  6.62it/s]"
          ]
        },
        {
          "output_type": "stream",
          "name": "stderr",
          "text": [
            "\rValidating:  20%|\u2588\u2588        | 24/120 [00:04<00:14,  6.63it/s]"
          ]
        },
        {
          "output_type": "stream",
          "name": "stderr",
          "text": [
            "\rValidating:  21%|\u2588\u2588        | 25/120 [00:04<00:14,  6.63it/s]"
          ]
        },
        {
          "output_type": "stream",
          "name": "stderr",
          "text": [
            "\rValidating:  22%|\u2588\u2588\u258f       | 26/120 [00:04<00:14,  6.64it/s]"
          ]
        },
        {
          "output_type": "stream",
          "name": "stderr",
          "text": [
            "\rValidating:  22%|\u2588\u2588\u258e       | 27/120 [00:04<00:14,  6.64it/s]"
          ]
        },
        {
          "output_type": "stream",
          "name": "stderr",
          "text": [
            "\rValidating:  23%|\u2588\u2588\u258e       | 28/120 [00:05<00:13,  6.63it/s]"
          ]
        },
        {
          "output_type": "stream",
          "name": "stderr",
          "text": [
            "\rValidating:  24%|\u2588\u2588\u258d       | 29/120 [00:05<00:13,  6.63it/s]"
          ]
        },
        {
          "output_type": "stream",
          "name": "stderr",
          "text": [
            "\rValidating:  25%|\u2588\u2588\u258c       | 30/120 [00:05<00:13,  6.63it/s]"
          ]
        },
        {
          "output_type": "stream",
          "name": "stderr",
          "text": [
            "\rValidating:  26%|\u2588\u2588\u258c       | 31/120 [00:05<00:13,  6.63it/s]"
          ]
        },
        {
          "output_type": "stream",
          "name": "stderr",
          "text": [
            "\rValidating:  27%|\u2588\u2588\u258b       | 32/120 [00:05<00:13,  6.62it/s]"
          ]
        },
        {
          "output_type": "stream",
          "name": "stderr",
          "text": [
            "\rValidating:  28%|\u2588\u2588\u258a       | 33/120 [00:05<00:13,  6.63it/s]"
          ]
        },
        {
          "output_type": "stream",
          "name": "stderr",
          "text": [
            "\rValidating:  28%|\u2588\u2588\u258a       | 34/120 [00:05<00:12,  6.62it/s]"
          ]
        },
        {
          "output_type": "stream",
          "name": "stderr",
          "text": [
            "\rValidating:  29%|\u2588\u2588\u2589       | 35/120 [00:06<00:12,  6.63it/s]"
          ]
        },
        {
          "output_type": "stream",
          "name": "stderr",
          "text": [
            "\rValidating:  30%|\u2588\u2588\u2588       | 36/120 [00:06<00:12,  6.62it/s]"
          ]
        },
        {
          "output_type": "stream",
          "name": "stderr",
          "text": [
            "\rValidating:  31%|\u2588\u2588\u2588       | 37/120 [00:06<00:12,  6.63it/s]"
          ]
        },
        {
          "output_type": "stream",
          "name": "stderr",
          "text": [
            "\rValidating:  32%|\u2588\u2588\u2588\u258f      | 38/120 [00:06<00:12,  6.62it/s]"
          ]
        },
        {
          "output_type": "stream",
          "name": "stderr",
          "text": [
            "\rValidating:  32%|\u2588\u2588\u2588\u258e      | 39/120 [00:06<00:12,  6.62it/s]"
          ]
        },
        {
          "output_type": "stream",
          "name": "stderr",
          "text": [
            "\rValidating:  33%|\u2588\u2588\u2588\u258e      | 40/120 [00:06<00:12,  6.61it/s]"
          ]
        },
        {
          "output_type": "stream",
          "name": "stderr",
          "text": [
            "\rValidating:  34%|\u2588\u2588\u2588\u258d      | 41/120 [00:07<00:11,  6.62it/s]"
          ]
        },
        {
          "output_type": "stream",
          "name": "stderr",
          "text": [
            "\rValidating:  35%|\u2588\u2588\u2588\u258c      | 42/120 [00:07<00:11,  6.60it/s]"
          ]
        },
        {
          "output_type": "stream",
          "name": "stderr",
          "text": [
            "\rValidating:  36%|\u2588\u2588\u2588\u258c      | 43/120 [00:07<00:11,  6.60it/s]"
          ]
        },
        {
          "output_type": "stream",
          "name": "stderr",
          "text": [
            "\rValidating:  37%|\u2588\u2588\u2588\u258b      | 44/120 [00:07<00:11,  6.60it/s]"
          ]
        },
        {
          "output_type": "stream",
          "name": "stderr",
          "text": [
            "\rValidating:  38%|\u2588\u2588\u2588\u258a      | 45/120 [00:07<00:11,  6.61it/s]"
          ]
        },
        {
          "output_type": "stream",
          "name": "stderr",
          "text": [
            "\rValidating:  38%|\u2588\u2588\u2588\u258a      | 46/120 [00:07<00:11,  6.61it/s]"
          ]
        },
        {
          "output_type": "stream",
          "name": "stderr",
          "text": [
            "\rValidating:  39%|\u2588\u2588\u2588\u2589      | 47/120 [00:07<00:11,  6.61it/s]"
          ]
        },
        {
          "output_type": "stream",
          "name": "stderr",
          "text": [
            "\rValidating:  40%|\u2588\u2588\u2588\u2588      | 48/120 [00:08<00:10,  6.60it/s]"
          ]
        },
        {
          "output_type": "stream",
          "name": "stderr",
          "text": [
            "\rValidating:  41%|\u2588\u2588\u2588\u2588      | 49/120 [00:08<00:10,  6.61it/s]"
          ]
        },
        {
          "output_type": "stream",
          "name": "stderr",
          "text": [
            "\rValidating:  42%|\u2588\u2588\u2588\u2588\u258f     | 50/120 [00:08<00:10,  6.61it/s]"
          ]
        },
        {
          "output_type": "stream",
          "name": "stderr",
          "text": [
            "\rValidating:  42%|\u2588\u2588\u2588\u2588\u258e     | 51/120 [00:08<00:10,  6.61it/s]"
          ]
        },
        {
          "output_type": "stream",
          "name": "stderr",
          "text": [
            "\rValidating:  43%|\u2588\u2588\u2588\u2588\u258e     | 52/120 [00:08<00:10,  6.60it/s]"
          ]
        },
        {
          "output_type": "stream",
          "name": "stderr",
          "text": [
            "\rValidating:  44%|\u2588\u2588\u2588\u2588\u258d     | 53/120 [00:08<00:10,  6.61it/s]"
          ]
        },
        {
          "output_type": "stream",
          "name": "stderr",
          "text": [
            "\rValidating:  45%|\u2588\u2588\u2588\u2588\u258c     | 54/120 [00:08<00:09,  6.61it/s]"
          ]
        },
        {
          "output_type": "stream",
          "name": "stderr",
          "text": [
            "\rValidating:  46%|\u2588\u2588\u2588\u2588\u258c     | 55/120 [00:09<00:09,  6.61it/s]"
          ]
        },
        {
          "output_type": "stream",
          "name": "stderr",
          "text": [
            "\rValidating:  47%|\u2588\u2588\u2588\u2588\u258b     | 56/120 [00:09<00:09,  6.60it/s]"
          ]
        },
        {
          "output_type": "stream",
          "name": "stderr",
          "text": [
            "\rValidating:  48%|\u2588\u2588\u2588\u2588\u258a     | 57/120 [00:09<00:09,  6.58it/s]"
          ]
        },
        {
          "output_type": "stream",
          "name": "stderr",
          "text": [
            "\rValidating:  48%|\u2588\u2588\u2588\u2588\u258a     | 58/120 [00:09<00:09,  6.58it/s]"
          ]
        },
        {
          "output_type": "stream",
          "name": "stderr",
          "text": [
            "\rValidating:  49%|\u2588\u2588\u2588\u2588\u2589     | 59/120 [00:09<00:09,  6.59it/s]"
          ]
        },
        {
          "output_type": "stream",
          "name": "stderr",
          "text": [
            "\rValidating:  50%|\u2588\u2588\u2588\u2588\u2588     | 60/120 [00:09<00:09,  6.59it/s]"
          ]
        },
        {
          "output_type": "stream",
          "name": "stderr",
          "text": [
            "\rValidating:  51%|\u2588\u2588\u2588\u2588\u2588     | 61/120 [00:10<00:08,  6.60it/s]"
          ]
        },
        {
          "output_type": "stream",
          "name": "stderr",
          "text": [
            "\rValidating:  52%|\u2588\u2588\u2588\u2588\u2588\u258f    | 62/120 [00:10<00:08,  6.59it/s]"
          ]
        },
        {
          "output_type": "stream",
          "name": "stderr",
          "text": [
            "\rValidating:  52%|\u2588\u2588\u2588\u2588\u2588\u258e    | 63/120 [00:10<00:08,  6.60it/s]"
          ]
        },
        {
          "output_type": "stream",
          "name": "stderr",
          "text": [
            "\rValidating:  53%|\u2588\u2588\u2588\u2588\u2588\u258e    | 64/120 [00:10<00:08,  6.59it/s]"
          ]
        },
        {
          "output_type": "stream",
          "name": "stderr",
          "text": [
            "\rValidating:  54%|\u2588\u2588\u2588\u2588\u2588\u258d    | 65/120 [00:10<00:08,  6.59it/s]"
          ]
        },
        {
          "output_type": "stream",
          "name": "stderr",
          "text": [
            "\rValidating:  55%|\u2588\u2588\u2588\u2588\u2588\u258c    | 66/120 [00:10<00:08,  6.59it/s]"
          ]
        },
        {
          "output_type": "stream",
          "name": "stderr",
          "text": [
            "\rValidating:  56%|\u2588\u2588\u2588\u2588\u2588\u258c    | 67/120 [00:10<00:08,  6.60it/s]"
          ]
        },
        {
          "output_type": "stream",
          "name": "stderr",
          "text": [
            "\rValidating:  57%|\u2588\u2588\u2588\u2588\u2588\u258b    | 68/120 [00:11<00:07,  6.59it/s]"
          ]
        },
        {
          "output_type": "stream",
          "name": "stderr",
          "text": [
            "\rValidating:  57%|\u2588\u2588\u2588\u2588\u2588\u258a    | 69/120 [00:11<00:07,  6.59it/s]"
          ]
        },
        {
          "output_type": "stream",
          "name": "stderr",
          "text": [
            "\rValidating:  58%|\u2588\u2588\u2588\u2588\u2588\u258a    | 70/120 [00:11<00:07,  6.59it/s]"
          ]
        },
        {
          "output_type": "stream",
          "name": "stderr",
          "text": [
            "\rValidating:  59%|\u2588\u2588\u2588\u2588\u2588\u2589    | 71/120 [00:11<00:07,  6.59it/s]"
          ]
        },
        {
          "output_type": "stream",
          "name": "stderr",
          "text": [
            "\rValidating:  60%|\u2588\u2588\u2588\u2588\u2588\u2588    | 72/120 [00:11<00:07,  6.59it/s]"
          ]
        },
        {
          "output_type": "stream",
          "name": "stderr",
          "text": [
            "\rValidating:  61%|\u2588\u2588\u2588\u2588\u2588\u2588    | 73/120 [00:11<00:07,  6.61it/s]"
          ]
        },
        {
          "output_type": "stream",
          "name": "stderr",
          "text": [
            "\rValidating:  62%|\u2588\u2588\u2588\u2588\u2588\u2588\u258f   | 74/120 [00:12<00:06,  6.61it/s]"
          ]
        },
        {
          "output_type": "stream",
          "name": "stderr",
          "text": [
            "\rValidating:  62%|\u2588\u2588\u2588\u2588\u2588\u2588\u258e   | 75/120 [00:12<00:06,  6.62it/s]"
          ]
        },
        {
          "output_type": "stream",
          "name": "stderr",
          "text": [
            "\rValidating:  63%|\u2588\u2588\u2588\u2588\u2588\u2588\u258e   | 76/120 [00:12<00:06,  6.61it/s]"
          ]
        },
        {
          "output_type": "stream",
          "name": "stderr",
          "text": [
            "\rValidating:  64%|\u2588\u2588\u2588\u2588\u2588\u2588\u258d   | 77/120 [00:12<00:06,  6.62it/s]"
          ]
        },
        {
          "output_type": "stream",
          "name": "stderr",
          "text": [
            "\rValidating:  65%|\u2588\u2588\u2588\u2588\u2588\u2588\u258c   | 78/120 [00:12<00:06,  6.61it/s]"
          ]
        },
        {
          "output_type": "stream",
          "name": "stderr",
          "text": [
            "\rValidating:  66%|\u2588\u2588\u2588\u2588\u2588\u2588\u258c   | 79/120 [00:12<00:06,  6.61it/s]"
          ]
        },
        {
          "output_type": "stream",
          "name": "stderr",
          "text": [
            "\rValidating:  67%|\u2588\u2588\u2588\u2588\u2588\u2588\u258b   | 80/120 [00:12<00:06,  6.61it/s]"
          ]
        },
        {
          "output_type": "stream",
          "name": "stderr",
          "text": [
            "\rValidating:  68%|\u2588\u2588\u2588\u2588\u2588\u2588\u258a   | 81/120 [00:13<00:05,  6.62it/s]"
          ]
        },
        {
          "output_type": "stream",
          "name": "stderr",
          "text": [
            "\rValidating:  68%|\u2588\u2588\u2588\u2588\u2588\u2588\u258a   | 82/120 [00:13<00:05,  6.62it/s]"
          ]
        },
        {
          "output_type": "stream",
          "name": "stderr",
          "text": [
            "\rValidating:  69%|\u2588\u2588\u2588\u2588\u2588\u2588\u2589   | 83/120 [00:13<00:05,  6.61it/s]"
          ]
        },
        {
          "output_type": "stream",
          "name": "stderr",
          "text": [
            "\rValidating:  70%|\u2588\u2588\u2588\u2588\u2588\u2588\u2588   | 84/120 [00:13<00:05,  6.61it/s]"
          ]
        },
        {
          "output_type": "stream",
          "name": "stderr",
          "text": [
            "\rValidating:  71%|\u2588\u2588\u2588\u2588\u2588\u2588\u2588   | 85/120 [00:13<00:05,  6.62it/s]"
          ]
        },
        {
          "output_type": "stream",
          "name": "stderr",
          "text": [
            "\rValidating:  72%|\u2588\u2588\u2588\u2588\u2588\u2588\u2588\u258f  | 86/120 [00:13<00:05,  6.61it/s]"
          ]
        },
        {
          "output_type": "stream",
          "name": "stderr",
          "text": [
            "\rValidating:  72%|\u2588\u2588\u2588\u2588\u2588\u2588\u2588\u258e  | 87/120 [00:13<00:04,  6.62it/s]"
          ]
        },
        {
          "output_type": "stream",
          "name": "stderr",
          "text": [
            "\rValidating:  73%|\u2588\u2588\u2588\u2588\u2588\u2588\u2588\u258e  | 88/120 [00:14<00:04,  6.61it/s]"
          ]
        },
        {
          "output_type": "stream",
          "name": "stderr",
          "text": [
            "\rValidating:  74%|\u2588\u2588\u2588\u2588\u2588\u2588\u2588\u258d  | 89/120 [00:14<00:04,  6.62it/s]"
          ]
        },
        {
          "output_type": "stream",
          "name": "stderr",
          "text": [
            "\rValidating:  75%|\u2588\u2588\u2588\u2588\u2588\u2588\u2588\u258c  | 90/120 [00:14<00:04,  6.62it/s]"
          ]
        },
        {
          "output_type": "stream",
          "name": "stderr",
          "text": [
            "\rValidating:  76%|\u2588\u2588\u2588\u2588\u2588\u2588\u2588\u258c  | 91/120 [00:14<00:04,  6.62it/s]"
          ]
        },
        {
          "output_type": "stream",
          "name": "stderr",
          "text": [
            "\rValidating:  77%|\u2588\u2588\u2588\u2588\u2588\u2588\u2588\u258b  | 92/120 [00:14<00:04,  6.61it/s]"
          ]
        },
        {
          "output_type": "stream",
          "name": "stderr",
          "text": [
            "\rValidating:  78%|\u2588\u2588\u2588\u2588\u2588\u2588\u2588\u258a  | 93/120 [00:14<00:04,  6.63it/s]"
          ]
        },
        {
          "output_type": "stream",
          "name": "stderr",
          "text": [
            "\rValidating:  78%|\u2588\u2588\u2588\u2588\u2588\u2588\u2588\u258a  | 94/120 [00:15<00:03,  6.62it/s]"
          ]
        },
        {
          "output_type": "stream",
          "name": "stderr",
          "text": [
            "\rValidating:  79%|\u2588\u2588\u2588\u2588\u2588\u2588\u2588\u2589  | 95/120 [00:15<00:03,  6.63it/s]"
          ]
        },
        {
          "output_type": "stream",
          "name": "stderr",
          "text": [
            "\rValidating:  80%|\u2588\u2588\u2588\u2588\u2588\u2588\u2588\u2588  | 96/120 [00:15<00:03,  6.62it/s]"
          ]
        },
        {
          "output_type": "stream",
          "name": "stderr",
          "text": [
            "\rValidating:  81%|\u2588\u2588\u2588\u2588\u2588\u2588\u2588\u2588  | 97/120 [00:15<00:03,  6.62it/s]"
          ]
        },
        {
          "output_type": "stream",
          "name": "stderr",
          "text": [
            "\rValidating:  82%|\u2588\u2588\u2588\u2588\u2588\u2588\u2588\u2588\u258f | 98/120 [00:15<00:03,  6.62it/s]"
          ]
        },
        {
          "output_type": "stream",
          "name": "stderr",
          "text": [
            "\rValidating:  82%|\u2588\u2588\u2588\u2588\u2588\u2588\u2588\u2588\u258e | 99/120 [00:15<00:03,  6.63it/s]"
          ]
        },
        {
          "output_type": "stream",
          "name": "stderr",
          "text": [
            "\rValidating:  83%|\u2588\u2588\u2588\u2588\u2588\u2588\u2588\u2588\u258e | 100/120 [00:15<00:03,  6.63it/s]"
          ]
        },
        {
          "output_type": "stream",
          "name": "stderr",
          "text": [
            "\rValidating:  84%|\u2588\u2588\u2588\u2588\u2588\u2588\u2588\u2588\u258d | 101/120 [00:16<00:02,  6.63it/s]"
          ]
        },
        {
          "output_type": "stream",
          "name": "stderr",
          "text": [
            "\rValidating:  85%|\u2588\u2588\u2588\u2588\u2588\u2588\u2588\u2588\u258c | 102/120 [00:16<00:02,  6.63it/s]"
          ]
        },
        {
          "output_type": "stream",
          "name": "stderr",
          "text": [
            "\rValidating:  86%|\u2588\u2588\u2588\u2588\u2588\u2588\u2588\u2588\u258c | 103/120 [00:16<00:02,  6.63it/s]"
          ]
        },
        {
          "output_type": "stream",
          "name": "stderr",
          "text": [
            "\rValidating:  87%|\u2588\u2588\u2588\u2588\u2588\u2588\u2588\u2588\u258b | 104/120 [00:16<00:02,  6.63it/s]"
          ]
        },
        {
          "output_type": "stream",
          "name": "stderr",
          "text": [
            "\rValidating:  88%|\u2588\u2588\u2588\u2588\u2588\u2588\u2588\u2588\u258a | 105/120 [00:16<00:02,  6.64it/s]"
          ]
        },
        {
          "output_type": "stream",
          "name": "stderr",
          "text": [
            "\rValidating:  88%|\u2588\u2588\u2588\u2588\u2588\u2588\u2588\u2588\u258a | 106/120 [00:16<00:02,  6.63it/s]"
          ]
        },
        {
          "output_type": "stream",
          "name": "stderr",
          "text": [
            "\rValidating:  89%|\u2588\u2588\u2588\u2588\u2588\u2588\u2588\u2588\u2589 | 107/120 [00:16<00:01,  6.63it/s]"
          ]
        },
        {
          "output_type": "stream",
          "name": "stderr",
          "text": [
            "\rValidating:  90%|\u2588\u2588\u2588\u2588\u2588\u2588\u2588\u2588\u2588 | 108/120 [00:17<00:01,  6.62it/s]"
          ]
        },
        {
          "output_type": "stream",
          "name": "stderr",
          "text": [
            "\rValidating:  91%|\u2588\u2588\u2588\u2588\u2588\u2588\u2588\u2588\u2588 | 109/120 [00:17<00:01,  6.63it/s]"
          ]
        },
        {
          "output_type": "stream",
          "name": "stderr",
          "text": [
            "\rValidating:  92%|\u2588\u2588\u2588\u2588\u2588\u2588\u2588\u2588\u2588\u258f| 110/120 [00:17<00:01,  6.62it/s]"
          ]
        },
        {
          "output_type": "stream",
          "name": "stderr",
          "text": [
            "\rValidating:  92%|\u2588\u2588\u2588\u2588\u2588\u2588\u2588\u2588\u2588\u258e| 111/120 [00:17<00:01,  6.63it/s]"
          ]
        },
        {
          "output_type": "stream",
          "name": "stderr",
          "text": [
            "\rValidating:  93%|\u2588\u2588\u2588\u2588\u2588\u2588\u2588\u2588\u2588\u258e| 112/120 [00:17<00:01,  6.63it/s]"
          ]
        },
        {
          "output_type": "stream",
          "name": "stderr",
          "text": [
            "\rValidating:  94%|\u2588\u2588\u2588\u2588\u2588\u2588\u2588\u2588\u2588\u258d| 113/120 [00:17<00:01,  6.64it/s]"
          ]
        },
        {
          "output_type": "stream",
          "name": "stderr",
          "text": [
            "\rValidating:  95%|\u2588\u2588\u2588\u2588\u2588\u2588\u2588\u2588\u2588\u258c| 114/120 [00:18<00:00,  6.64it/s]"
          ]
        },
        {
          "output_type": "stream",
          "name": "stderr",
          "text": [
            "\rValidating:  96%|\u2588\u2588\u2588\u2588\u2588\u2588\u2588\u2588\u2588\u258c| 115/120 [00:18<00:00,  6.65it/s]"
          ]
        },
        {
          "output_type": "stream",
          "name": "stderr",
          "text": [
            "\rValidating:  97%|\u2588\u2588\u2588\u2588\u2588\u2588\u2588\u2588\u2588\u258b| 116/120 [00:18<00:00,  6.64it/s]"
          ]
        },
        {
          "output_type": "stream",
          "name": "stderr",
          "text": [
            "\rValidating:  98%|\u2588\u2588\u2588\u2588\u2588\u2588\u2588\u2588\u2588\u258a| 117/120 [00:18<00:00,  6.65it/s]"
          ]
        },
        {
          "output_type": "stream",
          "name": "stderr",
          "text": [
            "\rValidating:  98%|\u2588\u2588\u2588\u2588\u2588\u2588\u2588\u2588\u2588\u258a| 118/120 [00:18<00:00,  6.63it/s]"
          ]
        },
        {
          "output_type": "stream",
          "name": "stderr",
          "text": [
            "\rValidating:  99%|\u2588\u2588\u2588\u2588\u2588\u2588\u2588\u2588\u2588\u2589| 119/120 [00:18<00:00,  6.65it/s]"
          ]
        },
        {
          "output_type": "stream",
          "name": "stderr",
          "text": [
            "\rValidating: 100%|\u2588\u2588\u2588\u2588\u2588\u2588\u2588\u2588\u2588\u2588| 120/120 [00:18<00:00,  6.35it/s]"
          ]
        },
        {
          "output_type": "stream",
          "name": "stderr",
          "text": [
            "\n"
          ]
        },
        {
          "output_type": "stream",
          "name": "stdout",
          "text": [
            "Epoch 9/20 - Time: 52s - Train Loss: 0.0792 - Val F0.5: 0.7009 @ thr=0.20 (P: 0.7765, R: 0.5043)\n"
          ]
        },
        {
          "output_type": "stream",
          "name": "stdout",
          "text": [
            "  >> New best score! Model saved to best_model_fold_2.pth\n"
          ]
        },
        {
          "output_type": "stream",
          "name": "stderr",
          "text": [
            "\rTraining:   0%|          | 0/35 [00:00<?, ?it/s]"
          ]
        },
        {
          "output_type": "stream",
          "name": "stderr",
          "text": [
            "\rTraining:   3%|\u258e         | 1/35 [00:01<00:54,  1.59s/it]"
          ]
        },
        {
          "output_type": "stream",
          "name": "stderr",
          "text": [
            "\rTraining:   6%|\u258c         | 2/35 [00:01<00:27,  1.22it/s]"
          ]
        },
        {
          "output_type": "stream",
          "name": "stderr",
          "text": [
            "\rTraining:   9%|\u258a         | 3/35 [00:02<00:18,  1.75it/s]"
          ]
        },
        {
          "output_type": "stream",
          "name": "stderr",
          "text": [
            "\rTraining:  11%|\u2588\u258f        | 4/35 [00:02<00:14,  2.20it/s]"
          ]
        },
        {
          "output_type": "stream",
          "name": "stderr",
          "text": [
            "\rTraining:  14%|\u2588\u258d        | 5/35 [00:02<00:11,  2.57it/s]"
          ]
        },
        {
          "output_type": "stream",
          "name": "stderr",
          "text": [
            "\rTraining:  17%|\u2588\u258b        | 6/35 [00:02<00:10,  2.85it/s]"
          ]
        },
        {
          "output_type": "stream",
          "name": "stderr",
          "text": [
            "\rTraining:  20%|\u2588\u2588        | 7/35 [00:03<00:09,  3.07it/s]"
          ]
        },
        {
          "output_type": "stream",
          "name": "stderr",
          "text": [
            "\rTraining:  23%|\u2588\u2588\u258e       | 8/35 [00:03<00:08,  3.23it/s]"
          ]
        },
        {
          "output_type": "stream",
          "name": "stderr",
          "text": [
            "\rTraining:  26%|\u2588\u2588\u258c       | 9/35 [00:03<00:07,  3.34it/s]"
          ]
        },
        {
          "output_type": "stream",
          "name": "stderr",
          "text": [
            "\rTraining:  29%|\u2588\u2588\u258a       | 10/35 [00:04<00:07,  3.43it/s]"
          ]
        },
        {
          "output_type": "stream",
          "name": "stderr",
          "text": [
            "\rTraining:  31%|\u2588\u2588\u2588\u258f      | 11/35 [00:04<00:06,  3.49it/s]"
          ]
        },
        {
          "output_type": "stream",
          "name": "stderr",
          "text": [
            "\rTraining:  34%|\u2588\u2588\u2588\u258d      | 12/35 [00:04<00:06,  3.53it/s]"
          ]
        },
        {
          "output_type": "stream",
          "name": "stderr",
          "text": [
            "\rTraining:  37%|\u2588\u2588\u2588\u258b      | 13/35 [00:04<00:06,  3.55it/s]"
          ]
        },
        {
          "output_type": "stream",
          "name": "stderr",
          "text": [
            "\rTraining:  40%|\u2588\u2588\u2588\u2588      | 14/35 [00:05<00:05,  3.58it/s]"
          ]
        },
        {
          "output_type": "stream",
          "name": "stderr",
          "text": [
            "\rTraining:  43%|\u2588\u2588\u2588\u2588\u258e     | 15/35 [00:05<00:05,  3.60it/s]"
          ]
        },
        {
          "output_type": "stream",
          "name": "stderr",
          "text": [
            "\rTraining:  46%|\u2588\u2588\u2588\u2588\u258c     | 16/35 [00:05<00:05,  3.61it/s]"
          ]
        },
        {
          "output_type": "stream",
          "name": "stderr",
          "text": [
            "\rTraining:  49%|\u2588\u2588\u2588\u2588\u258a     | 17/35 [00:06<00:04,  3.61it/s]"
          ]
        },
        {
          "output_type": "stream",
          "name": "stderr",
          "text": [
            "\rTraining:  51%|\u2588\u2588\u2588\u2588\u2588\u258f    | 18/35 [00:06<00:04,  3.61it/s]"
          ]
        },
        {
          "output_type": "stream",
          "name": "stderr",
          "text": [
            "\rTraining:  54%|\u2588\u2588\u2588\u2588\u2588\u258d    | 19/35 [00:06<00:04,  3.61it/s]"
          ]
        },
        {
          "output_type": "stream",
          "name": "stderr",
          "text": [
            "\rTraining:  57%|\u2588\u2588\u2588\u2588\u2588\u258b    | 20/35 [00:06<00:04,  3.62it/s]"
          ]
        },
        {
          "output_type": "stream",
          "name": "stderr",
          "text": [
            "\rTraining:  60%|\u2588\u2588\u2588\u2588\u2588\u2588    | 21/35 [00:07<00:03,  3.62it/s]"
          ]
        },
        {
          "output_type": "stream",
          "name": "stderr",
          "text": [
            "\rTraining:  63%|\u2588\u2588\u2588\u2588\u2588\u2588\u258e   | 22/35 [00:07<00:03,  3.62it/s]"
          ]
        },
        {
          "output_type": "stream",
          "name": "stderr",
          "text": [
            "\rTraining:  66%|\u2588\u2588\u2588\u2588\u2588\u2588\u258c   | 23/35 [00:07<00:03,  3.62it/s]"
          ]
        },
        {
          "output_type": "stream",
          "name": "stderr",
          "text": [
            "\rTraining:  69%|\u2588\u2588\u2588\u2588\u2588\u2588\u258a   | 24/35 [00:07<00:03,  3.62it/s]"
          ]
        },
        {
          "output_type": "stream",
          "name": "stderr",
          "text": [
            "\rTraining:  71%|\u2588\u2588\u2588\u2588\u2588\u2588\u2588\u258f  | 25/35 [00:08<00:02,  3.62it/s]"
          ]
        },
        {
          "output_type": "stream",
          "name": "stderr",
          "text": [
            "\rTraining:  74%|\u2588\u2588\u2588\u2588\u2588\u2588\u2588\u258d  | 26/35 [00:08<00:02,  3.62it/s]"
          ]
        },
        {
          "output_type": "stream",
          "name": "stderr",
          "text": [
            "\rTraining:  77%|\u2588\u2588\u2588\u2588\u2588\u2588\u2588\u258b  | 27/35 [00:08<00:02,  3.62it/s]"
          ]
        },
        {
          "output_type": "stream",
          "name": "stderr",
          "text": [
            "\rTraining:  80%|\u2588\u2588\u2588\u2588\u2588\u2588\u2588\u2588  | 28/35 [00:09<00:01,  3.62it/s]"
          ]
        },
        {
          "output_type": "stream",
          "name": "stderr",
          "text": [
            "\rTraining:  83%|\u2588\u2588\u2588\u2588\u2588\u2588\u2588\u2588\u258e | 29/35 [00:09<00:01,  3.62it/s]"
          ]
        },
        {
          "output_type": "stream",
          "name": "stderr",
          "text": [
            "\rTraining:  86%|\u2588\u2588\u2588\u2588\u2588\u2588\u2588\u2588\u258c | 30/35 [00:09<00:01,  3.63it/s]"
          ]
        },
        {
          "output_type": "stream",
          "name": "stderr",
          "text": [
            "\rTraining:  89%|\u2588\u2588\u2588\u2588\u2588\u2588\u2588\u2588\u258a | 31/35 [00:09<00:01,  3.63it/s]"
          ]
        },
        {
          "output_type": "stream",
          "name": "stderr",
          "text": [
            "\rTraining:  91%|\u2588\u2588\u2588\u2588\u2588\u2588\u2588\u2588\u2588\u258f| 32/35 [00:10<00:00,  3.63it/s]"
          ]
        },
        {
          "output_type": "stream",
          "name": "stderr",
          "text": [
            "\rTraining:  94%|\u2588\u2588\u2588\u2588\u2588\u2588\u2588\u2588\u2588\u258d| 33/35 [00:10<00:00,  3.62it/s]"
          ]
        },
        {
          "output_type": "stream",
          "name": "stderr",
          "text": [
            "\rTraining:  97%|\u2588\u2588\u2588\u2588\u2588\u2588\u2588\u2588\u2588\u258b| 34/35 [00:10<00:00,  3.63it/s]"
          ]
        },
        {
          "output_type": "stream",
          "name": "stderr",
          "text": [
            "\rTraining: 100%|\u2588\u2588\u2588\u2588\u2588\u2588\u2588\u2588\u2588\u2588| 35/35 [00:10<00:00,  3.63it/s]"
          ]
        },
        {
          "output_type": "stream",
          "name": "stderr",
          "text": [
            "\rTraining: 100%|\u2588\u2588\u2588\u2588\u2588\u2588\u2588\u2588\u2588\u2588| 35/35 [00:11<00:00,  3.18it/s]"
          ]
        },
        {
          "output_type": "stream",
          "name": "stderr",
          "text": [
            "\n"
          ]
        },
        {
          "output_type": "stream",
          "name": "stderr",
          "text": [
            "\rValidating:   0%|          | 0/120 [00:00<?, ?it/s]"
          ]
        },
        {
          "output_type": "stream",
          "name": "stderr",
          "text": [
            "\rValidating:   1%|          | 1/120 [00:00<01:41,  1.18it/s]"
          ]
        },
        {
          "output_type": "stream",
          "name": "stderr",
          "text": [
            "\rValidating:   2%|\u258f         | 2/120 [00:01<00:55,  2.13it/s]"
          ]
        },
        {
          "output_type": "stream",
          "name": "stderr",
          "text": [
            "\rValidating:   2%|\u258e         | 3/120 [00:01<00:37,  3.10it/s]"
          ]
        },
        {
          "output_type": "stream",
          "name": "stderr",
          "text": [
            "\rValidating:   3%|\u258e         | 4/120 [00:01<00:29,  3.93it/s]"
          ]
        },
        {
          "output_type": "stream",
          "name": "stderr",
          "text": [
            "\rValidating:   4%|\u258d         | 5/120 [00:01<00:24,  4.61it/s]"
          ]
        },
        {
          "output_type": "stream",
          "name": "stderr",
          "text": [
            "\rValidating:   5%|\u258c         | 6/120 [00:01<00:22,  5.15it/s]"
          ]
        },
        {
          "output_type": "stream",
          "name": "stderr",
          "text": [
            "\rValidating:   6%|\u258c         | 7/120 [00:01<00:20,  5.56it/s]"
          ]
        },
        {
          "output_type": "stream",
          "name": "stderr",
          "text": [
            "\rValidating:   7%|\u258b         | 8/120 [00:01<00:19,  5.89it/s]"
          ]
        },
        {
          "output_type": "stream",
          "name": "stderr",
          "text": [
            "\rValidating:   8%|\u258a         | 9/120 [00:02<00:18,  6.11it/s]"
          ]
        },
        {
          "output_type": "stream",
          "name": "stderr",
          "text": [
            "\rValidating:   8%|\u258a         | 10/120 [00:02<00:17,  6.28it/s]"
          ]
        },
        {
          "output_type": "stream",
          "name": "stderr",
          "text": [
            "\rValidating:   9%|\u2589         | 11/120 [00:02<00:16,  6.41it/s]"
          ]
        },
        {
          "output_type": "stream",
          "name": "stderr",
          "text": [
            "\rValidating:  10%|\u2588         | 12/120 [00:02<00:16,  6.50it/s]"
          ]
        },
        {
          "output_type": "stream",
          "name": "stderr",
          "text": [
            "\rValidating:  11%|\u2588         | 13/120 [00:02<00:16,  6.57it/s]"
          ]
        },
        {
          "output_type": "stream",
          "name": "stderr",
          "text": [
            "\rValidating:  12%|\u2588\u258f        | 14/120 [00:02<00:16,  6.61it/s]"
          ]
        },
        {
          "output_type": "stream",
          "name": "stderr",
          "text": [
            "\rValidating:  12%|\u2588\u258e        | 15/120 [00:02<00:15,  6.64it/s]"
          ]
        },
        {
          "output_type": "stream",
          "name": "stderr",
          "text": [
            "\rValidating:  13%|\u2588\u258e        | 16/120 [00:03<00:15,  6.66it/s]"
          ]
        },
        {
          "output_type": "stream",
          "name": "stderr",
          "text": [
            "\rValidating:  14%|\u2588\u258d        | 17/120 [00:03<00:15,  6.67it/s]"
          ]
        },
        {
          "output_type": "stream",
          "name": "stderr",
          "text": [
            "\rValidating:  15%|\u2588\u258c        | 18/120 [00:03<00:15,  6.68it/s]"
          ]
        },
        {
          "output_type": "stream",
          "name": "stderr",
          "text": [
            "\rValidating:  16%|\u2588\u258c        | 19/120 [00:03<00:15,  6.69it/s]"
          ]
        },
        {
          "output_type": "stream",
          "name": "stderr",
          "text": [
            "\rValidating:  17%|\u2588\u258b        | 20/120 [00:03<00:14,  6.70it/s]"
          ]
        },
        {
          "output_type": "stream",
          "name": "stderr",
          "text": [
            "\rValidating:  18%|\u2588\u258a        | 21/120 [00:03<00:14,  6.70it/s]"
          ]
        },
        {
          "output_type": "stream",
          "name": "stderr",
          "text": [
            "\rValidating:  18%|\u2588\u258a        | 22/120 [00:04<00:14,  6.70it/s]"
          ]
        },
        {
          "output_type": "stream",
          "name": "stderr",
          "text": [
            "\rValidating:  19%|\u2588\u2589        | 23/120 [00:04<00:14,  6.70it/s]"
          ]
        },
        {
          "output_type": "stream",
          "name": "stderr",
          "text": [
            "\rValidating:  20%|\u2588\u2588        | 24/120 [00:04<00:14,  6.72it/s]"
          ]
        },
        {
          "output_type": "stream",
          "name": "stderr",
          "text": [
            "\rValidating:  21%|\u2588\u2588        | 25/120 [00:04<00:14,  6.71it/s]"
          ]
        },
        {
          "output_type": "stream",
          "name": "stderr",
          "text": [
            "\rValidating:  22%|\u2588\u2588\u258f       | 26/120 [00:04<00:13,  6.71it/s]"
          ]
        },
        {
          "output_type": "stream",
          "name": "stderr",
          "text": [
            "\rValidating:  22%|\u2588\u2588\u258e       | 27/120 [00:04<00:13,  6.71it/s]"
          ]
        },
        {
          "output_type": "stream",
          "name": "stderr",
          "text": [
            "\rValidating:  23%|\u2588\u2588\u258e       | 28/120 [00:04<00:13,  6.71it/s]"
          ]
        },
        {
          "output_type": "stream",
          "name": "stderr",
          "text": [
            "\rValidating:  24%|\u2588\u2588\u258d       | 29/120 [00:05<00:13,  6.71it/s]"
          ]
        },
        {
          "output_type": "stream",
          "name": "stderr",
          "text": [
            "\rValidating:  25%|\u2588\u2588\u258c       | 30/120 [00:05<00:13,  6.71it/s]"
          ]
        },
        {
          "output_type": "stream",
          "name": "stderr",
          "text": [
            "\rValidating:  26%|\u2588\u2588\u258c       | 31/120 [00:05<00:13,  6.71it/s]"
          ]
        },
        {
          "output_type": "stream",
          "name": "stderr",
          "text": [
            "\rValidating:  27%|\u2588\u2588\u258b       | 32/120 [00:05<00:13,  6.72it/s]"
          ]
        },
        {
          "output_type": "stream",
          "name": "stderr",
          "text": [
            "\rValidating:  28%|\u2588\u2588\u258a       | 33/120 [00:05<00:12,  6.72it/s]"
          ]
        },
        {
          "output_type": "stream",
          "name": "stderr",
          "text": [
            "\rValidating:  28%|\u2588\u2588\u258a       | 34/120 [00:05<00:12,  6.71it/s]"
          ]
        },
        {
          "output_type": "stream",
          "name": "stderr",
          "text": [
            "\rValidating:  29%|\u2588\u2588\u2589       | 35/120 [00:05<00:12,  6.71it/s]"
          ]
        },
        {
          "output_type": "stream",
          "name": "stderr",
          "text": [
            "\rValidating:  30%|\u2588\u2588\u2588       | 36/120 [00:06<00:12,  6.71it/s]"
          ]
        },
        {
          "output_type": "stream",
          "name": "stderr",
          "text": [
            "\rValidating:  31%|\u2588\u2588\u2588       | 37/120 [00:06<00:12,  6.72it/s]"
          ]
        },
        {
          "output_type": "stream",
          "name": "stderr",
          "text": [
            "\rValidating:  32%|\u2588\u2588\u2588\u258f      | 38/120 [00:06<00:12,  6.71it/s]"
          ]
        },
        {
          "output_type": "stream",
          "name": "stderr",
          "text": [
            "\rValidating:  32%|\u2588\u2588\u2588\u258e      | 39/120 [00:06<00:12,  6.71it/s]"
          ]
        },
        {
          "output_type": "stream",
          "name": "stderr",
          "text": [
            "\rValidating:  33%|\u2588\u2588\u2588\u258e      | 40/120 [00:06<00:11,  6.71it/s]"
          ]
        },
        {
          "output_type": "stream",
          "name": "stderr",
          "text": [
            "\rValidating:  34%|\u2588\u2588\u2588\u258d      | 41/120 [00:06<00:11,  6.70it/s]"
          ]
        },
        {
          "output_type": "stream",
          "name": "stderr",
          "text": [
            "\rValidating:  35%|\u2588\u2588\u2588\u258c      | 42/120 [00:07<00:11,  6.70it/s]"
          ]
        },
        {
          "output_type": "stream",
          "name": "stderr",
          "text": [
            "\rValidating:  36%|\u2588\u2588\u2588\u258c      | 43/120 [00:07<00:11,  6.70it/s]"
          ]
        },
        {
          "output_type": "stream",
          "name": "stderr",
          "text": [
            "\rValidating:  37%|\u2588\u2588\u2588\u258b      | 44/120 [00:07<00:11,  6.70it/s]"
          ]
        },
        {
          "output_type": "stream",
          "name": "stderr",
          "text": [
            "\rValidating:  38%|\u2588\u2588\u2588\u258a      | 45/120 [00:07<00:11,  6.70it/s]"
          ]
        },
        {
          "output_type": "stream",
          "name": "stderr",
          "text": [
            "\rValidating:  38%|\u2588\u2588\u2588\u258a      | 46/120 [00:07<00:11,  6.70it/s]"
          ]
        },
        {
          "output_type": "stream",
          "name": "stderr",
          "text": [
            "\rValidating:  39%|\u2588\u2588\u2588\u2589      | 47/120 [00:07<00:10,  6.70it/s]"
          ]
        },
        {
          "output_type": "stream",
          "name": "stderr",
          "text": [
            "\rValidating:  40%|\u2588\u2588\u2588\u2588      | 48/120 [00:07<00:10,  6.71it/s]"
          ]
        },
        {
          "output_type": "stream",
          "name": "stderr",
          "text": [
            "\rValidating:  41%|\u2588\u2588\u2588\u2588      | 49/120 [00:08<00:10,  6.70it/s]"
          ]
        },
        {
          "output_type": "stream",
          "name": "stderr",
          "text": [
            "\rValidating:  42%|\u2588\u2588\u2588\u2588\u258f     | 50/120 [00:08<00:10,  6.71it/s]"
          ]
        },
        {
          "output_type": "stream",
          "name": "stderr",
          "text": [
            "\rValidating:  42%|\u2588\u2588\u2588\u2588\u258e     | 51/120 [00:08<00:10,  6.70it/s]"
          ]
        },
        {
          "output_type": "stream",
          "name": "stderr",
          "text": [
            "\rValidating:  43%|\u2588\u2588\u2588\u2588\u258e     | 52/120 [00:08<00:10,  6.70it/s]"
          ]
        },
        {
          "output_type": "stream",
          "name": "stderr",
          "text": [
            "\rValidating:  44%|\u2588\u2588\u2588\u2588\u258d     | 53/120 [00:08<00:10,  6.70it/s]"
          ]
        },
        {
          "output_type": "stream",
          "name": "stderr",
          "text": [
            "\rValidating:  45%|\u2588\u2588\u2588\u2588\u258c     | 54/120 [00:08<00:09,  6.70it/s]"
          ]
        },
        {
          "output_type": "stream",
          "name": "stderr",
          "text": [
            "\rValidating:  46%|\u2588\u2588\u2588\u2588\u258c     | 55/120 [00:08<00:09,  6.70it/s]"
          ]
        },
        {
          "output_type": "stream",
          "name": "stderr",
          "text": [
            "\rValidating:  47%|\u2588\u2588\u2588\u2588\u258b     | 56/120 [00:09<00:09,  6.69it/s]"
          ]
        },
        {
          "output_type": "stream",
          "name": "stderr",
          "text": [
            "\rValidating:  48%|\u2588\u2588\u2588\u2588\u258a     | 57/120 [00:09<00:09,  6.69it/s]"
          ]
        },
        {
          "output_type": "stream",
          "name": "stderr",
          "text": [
            "\rValidating:  48%|\u2588\u2588\u2588\u2588\u258a     | 58/120 [00:09<00:09,  6.69it/s]"
          ]
        },
        {
          "output_type": "stream",
          "name": "stderr",
          "text": [
            "\rValidating:  49%|\u2588\u2588\u2588\u2588\u2589     | 59/120 [00:09<00:09,  6.70it/s]"
          ]
        },
        {
          "output_type": "stream",
          "name": "stderr",
          "text": [
            "\rValidating:  50%|\u2588\u2588\u2588\u2588\u2588     | 60/120 [00:09<00:08,  6.70it/s]"
          ]
        },
        {
          "output_type": "stream",
          "name": "stderr",
          "text": [
            "\rValidating:  51%|\u2588\u2588\u2588\u2588\u2588     | 61/120 [00:09<00:08,  6.70it/s]"
          ]
        },
        {
          "output_type": "stream",
          "name": "stderr",
          "text": [
            "\rValidating:  52%|\u2588\u2588\u2588\u2588\u2588\u258f    | 62/120 [00:10<00:08,  6.70it/s]"
          ]
        },
        {
          "output_type": "stream",
          "name": "stderr",
          "text": [
            "\rValidating:  52%|\u2588\u2588\u2588\u2588\u2588\u258e    | 63/120 [00:10<00:08,  6.70it/s]"
          ]
        },
        {
          "output_type": "stream",
          "name": "stderr",
          "text": [
            "\rValidating:  53%|\u2588\u2588\u2588\u2588\u2588\u258e    | 64/120 [00:10<00:08,  6.70it/s]"
          ]
        },
        {
          "output_type": "stream",
          "name": "stderr",
          "text": [
            "\rValidating:  54%|\u2588\u2588\u2588\u2588\u2588\u258d    | 65/120 [00:10<00:08,  6.70it/s]"
          ]
        },
        {
          "output_type": "stream",
          "name": "stderr",
          "text": [
            "\rValidating:  55%|\u2588\u2588\u2588\u2588\u2588\u258c    | 66/120 [00:10<00:08,  6.69it/s]"
          ]
        },
        {
          "output_type": "stream",
          "name": "stderr",
          "text": [
            "\rValidating:  56%|\u2588\u2588\u2588\u2588\u2588\u258c    | 67/120 [00:10<00:07,  6.70it/s]"
          ]
        },
        {
          "output_type": "stream",
          "name": "stderr",
          "text": [
            "\rValidating:  57%|\u2588\u2588\u2588\u2588\u2588\u258b    | 68/120 [00:10<00:07,  6.70it/s]"
          ]
        },
        {
          "output_type": "stream",
          "name": "stderr",
          "text": [
            "\rValidating:  57%|\u2588\u2588\u2588\u2588\u2588\u258a    | 69/120 [00:11<00:07,  6.69it/s]"
          ]
        },
        {
          "output_type": "stream",
          "name": "stderr",
          "text": [
            "\rValidating:  58%|\u2588\u2588\u2588\u2588\u2588\u258a    | 70/120 [00:11<00:07,  6.69it/s]"
          ]
        },
        {
          "output_type": "stream",
          "name": "stderr",
          "text": [
            "\rValidating:  59%|\u2588\u2588\u2588\u2588\u2588\u2589    | 71/120 [00:11<00:07,  6.69it/s]"
          ]
        },
        {
          "output_type": "stream",
          "name": "stderr",
          "text": [
            "\rValidating:  60%|\u2588\u2588\u2588\u2588\u2588\u2588    | 72/120 [00:11<00:07,  6.69it/s]"
          ]
        },
        {
          "output_type": "stream",
          "name": "stderr",
          "text": [
            "\rValidating:  61%|\u2588\u2588\u2588\u2588\u2588\u2588    | 73/120 [00:11<00:07,  6.69it/s]"
          ]
        },
        {
          "output_type": "stream",
          "name": "stderr",
          "text": [
            "\rValidating:  62%|\u2588\u2588\u2588\u2588\u2588\u2588\u258f   | 74/120 [00:11<00:06,  6.69it/s]"
          ]
        },
        {
          "output_type": "stream",
          "name": "stderr",
          "text": [
            "\rValidating:  62%|\u2588\u2588\u2588\u2588\u2588\u2588\u258e   | 75/120 [00:11<00:06,  6.69it/s]"
          ]
        },
        {
          "output_type": "stream",
          "name": "stderr",
          "text": [
            "\rValidating:  63%|\u2588\u2588\u2588\u2588\u2588\u2588\u258e   | 76/120 [00:12<00:06,  6.69it/s]"
          ]
        },
        {
          "output_type": "stream",
          "name": "stderr",
          "text": [
            "\rValidating:  64%|\u2588\u2588\u2588\u2588\u2588\u2588\u258d   | 77/120 [00:12<00:06,  6.68it/s]"
          ]
        },
        {
          "output_type": "stream",
          "name": "stderr",
          "text": [
            "\rValidating:  65%|\u2588\u2588\u2588\u2588\u2588\u2588\u258c   | 78/120 [00:12<00:06,  6.68it/s]"
          ]
        },
        {
          "output_type": "stream",
          "name": "stderr",
          "text": [
            "\rValidating:  66%|\u2588\u2588\u2588\u2588\u2588\u2588\u258c   | 79/120 [00:12<00:06,  6.68it/s]"
          ]
        },
        {
          "output_type": "stream",
          "name": "stderr",
          "text": [
            "\rValidating:  67%|\u2588\u2588\u2588\u2588\u2588\u2588\u258b   | 80/120 [00:12<00:05,  6.69it/s]"
          ]
        },
        {
          "output_type": "stream",
          "name": "stderr",
          "text": [
            "\rValidating:  68%|\u2588\u2588\u2588\u2588\u2588\u2588\u258a   | 81/120 [00:12<00:05,  6.68it/s]"
          ]
        },
        {
          "output_type": "stream",
          "name": "stderr",
          "text": [
            "\rValidating:  68%|\u2588\u2588\u2588\u2588\u2588\u2588\u258a   | 82/120 [00:12<00:05,  6.68it/s]"
          ]
        },
        {
          "output_type": "stream",
          "name": "stderr",
          "text": [
            "\rValidating:  69%|\u2588\u2588\u2588\u2588\u2588\u2588\u2589   | 83/120 [00:13<00:05,  6.68it/s]"
          ]
        },
        {
          "output_type": "stream",
          "name": "stderr",
          "text": [
            "\rValidating:  70%|\u2588\u2588\u2588\u2588\u2588\u2588\u2588   | 84/120 [00:13<00:05,  6.69it/s]"
          ]
        },
        {
          "output_type": "stream",
          "name": "stderr",
          "text": [
            "\rValidating:  71%|\u2588\u2588\u2588\u2588\u2588\u2588\u2588   | 85/120 [00:13<00:05,  6.69it/s]"
          ]
        },
        {
          "output_type": "stream",
          "name": "stderr",
          "text": [
            "\rValidating:  72%|\u2588\u2588\u2588\u2588\u2588\u2588\u2588\u258f  | 86/120 [00:13<00:05,  6.69it/s]"
          ]
        },
        {
          "output_type": "stream",
          "name": "stderr",
          "text": [
            "\rValidating:  72%|\u2588\u2588\u2588\u2588\u2588\u2588\u2588\u258e  | 87/120 [00:13<00:04,  6.69it/s]"
          ]
        },
        {
          "output_type": "stream",
          "name": "stderr",
          "text": [
            "\rValidating:  73%|\u2588\u2588\u2588\u2588\u2588\u2588\u2588\u258e  | 88/120 [00:13<00:04,  6.71it/s]"
          ]
        },
        {
          "output_type": "stream",
          "name": "stderr",
          "text": [
            "\rValidating:  74%|\u2588\u2588\u2588\u2588\u2588\u2588\u2588\u258d  | 89/120 [00:14<00:04,  6.69it/s]"
          ]
        },
        {
          "output_type": "stream",
          "name": "stderr",
          "text": [
            "\rValidating:  75%|\u2588\u2588\u2588\u2588\u2588\u2588\u2588\u258c  | 90/120 [00:14<00:04,  6.67it/s]"
          ]
        },
        {
          "output_type": "stream",
          "name": "stderr",
          "text": [
            "\rValidating:  76%|\u2588\u2588\u2588\u2588\u2588\u2588\u2588\u258c  | 91/120 [00:14<00:04,  6.67it/s]"
          ]
        },
        {
          "output_type": "stream",
          "name": "stderr",
          "text": [
            "\rValidating:  77%|\u2588\u2588\u2588\u2588\u2588\u2588\u2588\u258b  | 92/120 [00:14<00:04,  6.69it/s]"
          ]
        },
        {
          "output_type": "stream",
          "name": "stderr",
          "text": [
            "\rValidating:  78%|\u2588\u2588\u2588\u2588\u2588\u2588\u2588\u258a  | 93/120 [00:14<00:04,  6.68it/s]"
          ]
        },
        {
          "output_type": "stream",
          "name": "stderr",
          "text": [
            "\rValidating:  78%|\u2588\u2588\u2588\u2588\u2588\u2588\u2588\u258a  | 94/120 [00:14<00:03,  6.68it/s]"
          ]
        },
        {
          "output_type": "stream",
          "name": "stderr",
          "text": [
            "\rValidating:  79%|\u2588\u2588\u2588\u2588\u2588\u2588\u2588\u2589  | 95/120 [00:14<00:03,  6.67it/s]"
          ]
        },
        {
          "output_type": "stream",
          "name": "stderr",
          "text": [
            "\rValidating:  80%|\u2588\u2588\u2588\u2588\u2588\u2588\u2588\u2588  | 96/120 [00:15<00:03,  6.69it/s]"
          ]
        },
        {
          "output_type": "stream",
          "name": "stderr",
          "text": [
            "\rValidating:  81%|\u2588\u2588\u2588\u2588\u2588\u2588\u2588\u2588  | 97/120 [00:15<00:03,  6.66it/s]"
          ]
        },
        {
          "output_type": "stream",
          "name": "stderr",
          "text": [
            "\rValidating:  82%|\u2588\u2588\u2588\u2588\u2588\u2588\u2588\u2588\u258f | 98/120 [00:15<00:03,  6.66it/s]"
          ]
        },
        {
          "output_type": "stream",
          "name": "stderr",
          "text": [
            "\rValidating:  82%|\u2588\u2588\u2588\u2588\u2588\u2588\u2588\u2588\u258e | 99/120 [00:15<00:03,  6.66it/s]"
          ]
        },
        {
          "output_type": "stream",
          "name": "stderr",
          "text": [
            "\rValidating:  83%|\u2588\u2588\u2588\u2588\u2588\u2588\u2588\u2588\u258e | 100/120 [00:15<00:02,  6.67it/s]"
          ]
        },
        {
          "output_type": "stream",
          "name": "stderr",
          "text": [
            "\rValidating:  84%|\u2588\u2588\u2588\u2588\u2588\u2588\u2588\u2588\u258d | 101/120 [00:15<00:02,  6.67it/s]"
          ]
        },
        {
          "output_type": "stream",
          "name": "stderr",
          "text": [
            "\rValidating:  85%|\u2588\u2588\u2588\u2588\u2588\u2588\u2588\u2588\u258c | 102/120 [00:15<00:02,  6.67it/s]"
          ]
        },
        {
          "output_type": "stream",
          "name": "stderr",
          "text": [
            "\rValidating:  86%|\u2588\u2588\u2588\u2588\u2588\u2588\u2588\u2588\u258c | 103/120 [00:16<00:02,  6.66it/s]"
          ]
        },
        {
          "output_type": "stream",
          "name": "stderr",
          "text": [
            "\rValidating:  87%|\u2588\u2588\u2588\u2588\u2588\u2588\u2588\u2588\u258b | 104/120 [00:16<00:02,  6.68it/s]"
          ]
        },
        {
          "output_type": "stream",
          "name": "stderr",
          "text": [
            "\rValidating:  88%|\u2588\u2588\u2588\u2588\u2588\u2588\u2588\u2588\u258a | 105/120 [00:16<00:02,  6.68it/s]"
          ]
        },
        {
          "output_type": "stream",
          "name": "stderr",
          "text": [
            "\rValidating:  88%|\u2588\u2588\u2588\u2588\u2588\u2588\u2588\u2588\u258a | 106/120 [00:16<00:02,  6.68it/s]"
          ]
        },
        {
          "output_type": "stream",
          "name": "stderr",
          "text": [
            "\rValidating:  89%|\u2588\u2588\u2588\u2588\u2588\u2588\u2588\u2588\u2589 | 107/120 [00:16<00:01,  6.68it/s]"
          ]
        },
        {
          "output_type": "stream",
          "name": "stderr",
          "text": [
            "\rValidating:  90%|\u2588\u2588\u2588\u2588\u2588\u2588\u2588\u2588\u2588 | 108/120 [00:16<00:01,  6.69it/s]"
          ]
        },
        {
          "output_type": "stream",
          "name": "stderr",
          "text": [
            "\rValidating:  91%|\u2588\u2588\u2588\u2588\u2588\u2588\u2588\u2588\u2588 | 109/120 [00:17<00:01,  6.69it/s]"
          ]
        },
        {
          "output_type": "stream",
          "name": "stderr",
          "text": [
            "\rValidating:  92%|\u2588\u2588\u2588\u2588\u2588\u2588\u2588\u2588\u2588\u258f| 110/120 [00:17<00:01,  6.69it/s]"
          ]
        },
        {
          "output_type": "stream",
          "name": "stderr",
          "text": [
            "\rValidating:  92%|\u2588\u2588\u2588\u2588\u2588\u2588\u2588\u2588\u2588\u258e| 111/120 [00:17<00:01,  6.69it/s]"
          ]
        },
        {
          "output_type": "stream",
          "name": "stderr",
          "text": [
            "\rValidating:  93%|\u2588\u2588\u2588\u2588\u2588\u2588\u2588\u2588\u2588\u258e| 112/120 [00:17<00:01,  6.70it/s]"
          ]
        },
        {
          "output_type": "stream",
          "name": "stderr",
          "text": [
            "\rValidating:  94%|\u2588\u2588\u2588\u2588\u2588\u2588\u2588\u2588\u2588\u258d| 113/120 [00:17<00:01,  6.70it/s]"
          ]
        },
        {
          "output_type": "stream",
          "name": "stderr",
          "text": [
            "\rValidating:  95%|\u2588\u2588\u2588\u2588\u2588\u2588\u2588\u2588\u2588\u258c| 114/120 [00:17<00:00,  6.70it/s]"
          ]
        },
        {
          "output_type": "stream",
          "name": "stderr",
          "text": [
            "\rValidating:  96%|\u2588\u2588\u2588\u2588\u2588\u2588\u2588\u2588\u2588\u258c| 115/120 [00:17<00:00,  6.71it/s]"
          ]
        },
        {
          "output_type": "stream",
          "name": "stderr",
          "text": [
            "\rValidating:  97%|\u2588\u2588\u2588\u2588\u2588\u2588\u2588\u2588\u2588\u258b| 116/120 [00:18<00:00,  6.71it/s]"
          ]
        },
        {
          "output_type": "stream",
          "name": "stderr",
          "text": [
            "\rValidating:  98%|\u2588\u2588\u2588\u2588\u2588\u2588\u2588\u2588\u2588\u258a| 117/120 [00:18<00:00,  6.71it/s]"
          ]
        },
        {
          "output_type": "stream",
          "name": "stderr",
          "text": [
            "\rValidating:  98%|\u2588\u2588\u2588\u2588\u2588\u2588\u2588\u2588\u2588\u258a| 118/120 [00:18<00:00,  6.70it/s]"
          ]
        },
        {
          "output_type": "stream",
          "name": "stderr",
          "text": [
            "\rValidating:  99%|\u2588\u2588\u2588\u2588\u2588\u2588\u2588\u2588\u2588\u2589| 119/120 [00:18<00:00,  6.71it/s]"
          ]
        },
        {
          "output_type": "stream",
          "name": "stderr",
          "text": [
            "\rValidating: 100%|\u2588\u2588\u2588\u2588\u2588\u2588\u2588\u2588\u2588\u2588| 120/120 [00:18<00:00,  6.44it/s]"
          ]
        },
        {
          "output_type": "stream",
          "name": "stderr",
          "text": [
            "\n"
          ]
        },
        {
          "output_type": "stream",
          "name": "stdout",
          "text": [
            "Epoch 10/20 - Time: 52s - Train Loss: 0.0808 - Val F0.5: 0.7344 @ thr=0.60 (P: 0.8146, R: 0.5269)\n"
          ]
        },
        {
          "output_type": "stream",
          "name": "stdout",
          "text": [
            "  >> New best score! Model saved to best_model_fold_2.pth\n"
          ]
        },
        {
          "output_type": "stream",
          "name": "stderr",
          "text": [
            "\rTraining:   0%|          | 0/35 [00:00<?, ?it/s]"
          ]
        },
        {
          "output_type": "stream",
          "name": "stderr",
          "text": [
            "\rTraining:   3%|\u258e         | 1/35 [00:01<00:56,  1.65s/it]"
          ]
        },
        {
          "output_type": "stream",
          "name": "stderr",
          "text": [
            "\rTraining:   6%|\u258c         | 2/35 [00:01<00:27,  1.19it/s]"
          ]
        },
        {
          "output_type": "stream",
          "name": "stderr",
          "text": [
            "\rTraining:   9%|\u258a         | 3/35 [00:02<00:18,  1.71it/s]"
          ]
        },
        {
          "output_type": "stream",
          "name": "stderr",
          "text": [
            "\rTraining:  11%|\u2588\u258f        | 4/35 [00:02<00:14,  2.16it/s]"
          ]
        },
        {
          "output_type": "stream",
          "name": "stderr",
          "text": [
            "\rTraining:  14%|\u2588\u258d        | 5/35 [00:02<00:11,  2.52it/s]"
          ]
        },
        {
          "output_type": "stream",
          "name": "stderr",
          "text": [
            "\rTraining:  17%|\u2588\u258b        | 6/35 [00:03<00:10,  2.81it/s]"
          ]
        },
        {
          "output_type": "stream",
          "name": "stderr",
          "text": [
            "\rTraining:  20%|\u2588\u2588        | 7/35 [00:03<00:09,  3.03it/s]"
          ]
        },
        {
          "output_type": "stream",
          "name": "stderr",
          "text": [
            "\rTraining:  23%|\u2588\u2588\u258e       | 8/35 [00:03<00:08,  3.19it/s]"
          ]
        },
        {
          "output_type": "stream",
          "name": "stderr",
          "text": [
            "\rTraining:  26%|\u2588\u2588\u258c       | 9/35 [00:03<00:07,  3.31it/s]"
          ]
        },
        {
          "output_type": "stream",
          "name": "stderr",
          "text": [
            "\rTraining:  29%|\u2588\u2588\u258a       | 10/35 [00:04<00:07,  3.39it/s]"
          ]
        },
        {
          "output_type": "stream",
          "name": "stderr",
          "text": [
            "\rTraining:  31%|\u2588\u2588\u2588\u258f      | 11/35 [00:04<00:06,  3.46it/s]"
          ]
        },
        {
          "output_type": "stream",
          "name": "stderr",
          "text": [
            "\rTraining:  34%|\u2588\u2588\u2588\u258d      | 12/35 [00:04<00:06,  3.51it/s]"
          ]
        },
        {
          "output_type": "stream",
          "name": "stderr",
          "text": [
            "\rTraining:  37%|\u2588\u2588\u2588\u258b      | 13/35 [00:04<00:06,  3.54it/s]"
          ]
        },
        {
          "output_type": "stream",
          "name": "stderr",
          "text": [
            "\rTraining:  40%|\u2588\u2588\u2588\u2588      | 14/35 [00:05<00:05,  3.56it/s]"
          ]
        },
        {
          "output_type": "stream",
          "name": "stderr",
          "text": [
            "\rTraining:  43%|\u2588\u2588\u2588\u2588\u258e     | 15/35 [00:05<00:05,  3.57it/s]"
          ]
        },
        {
          "output_type": "stream",
          "name": "stderr",
          "text": [
            "\rTraining:  46%|\u2588\u2588\u2588\u2588\u258c     | 16/35 [00:05<00:05,  3.58it/s]"
          ]
        },
        {
          "output_type": "stream",
          "name": "stderr",
          "text": [
            "\rTraining:  49%|\u2588\u2588\u2588\u2588\u258a     | 17/35 [00:06<00:05,  3.59it/s]"
          ]
        },
        {
          "output_type": "stream",
          "name": "stderr",
          "text": [
            "\rTraining:  51%|\u2588\u2588\u2588\u2588\u2588\u258f    | 18/35 [00:06<00:04,  3.59it/s]"
          ]
        },
        {
          "output_type": "stream",
          "name": "stderr",
          "text": [
            "\rTraining:  54%|\u2588\u2588\u2588\u2588\u2588\u258d    | 19/35 [00:06<00:04,  3.60it/s]"
          ]
        },
        {
          "output_type": "stream",
          "name": "stderr",
          "text": [
            "\rTraining:  57%|\u2588\u2588\u2588\u2588\u2588\u258b    | 20/35 [00:06<00:04,  3.59it/s]"
          ]
        },
        {
          "output_type": "stream",
          "name": "stderr",
          "text": [
            "\rTraining:  60%|\u2588\u2588\u2588\u2588\u2588\u2588    | 21/35 [00:07<00:03,  3.59it/s]"
          ]
        },
        {
          "output_type": "stream",
          "name": "stderr",
          "text": [
            "\rTraining:  63%|\u2588\u2588\u2588\u2588\u2588\u2588\u258e   | 22/35 [00:07<00:03,  3.59it/s]"
          ]
        },
        {
          "output_type": "stream",
          "name": "stderr",
          "text": [
            "\rTraining:  66%|\u2588\u2588\u2588\u2588\u2588\u2588\u258c   | 23/35 [00:07<00:03,  3.60it/s]"
          ]
        },
        {
          "output_type": "stream",
          "name": "stderr",
          "text": [
            "\rTraining:  69%|\u2588\u2588\u2588\u2588\u2588\u2588\u258a   | 24/35 [00:08<00:03,  3.59it/s]"
          ]
        },
        {
          "output_type": "stream",
          "name": "stderr",
          "text": [
            "\rTraining:  71%|\u2588\u2588\u2588\u2588\u2588\u2588\u2588\u258f  | 25/35 [00:08<00:02,  3.60it/s]"
          ]
        },
        {
          "output_type": "stream",
          "name": "stderr",
          "text": [
            "\rTraining:  74%|\u2588\u2588\u2588\u2588\u2588\u2588\u2588\u258d  | 26/35 [00:08<00:02,  3.60it/s]"
          ]
        },
        {
          "output_type": "stream",
          "name": "stderr",
          "text": [
            "\rTraining:  77%|\u2588\u2588\u2588\u2588\u2588\u2588\u2588\u258b  | 27/35 [00:08<00:02,  3.60it/s]"
          ]
        },
        {
          "output_type": "stream",
          "name": "stderr",
          "text": [
            "\rTraining:  80%|\u2588\u2588\u2588\u2588\u2588\u2588\u2588\u2588  | 28/35 [00:09<00:01,  3.60it/s]"
          ]
        },
        {
          "output_type": "stream",
          "name": "stderr",
          "text": [
            "\rTraining:  83%|\u2588\u2588\u2588\u2588\u2588\u2588\u2588\u2588\u258e | 29/35 [00:09<00:01,  3.61it/s]"
          ]
        },
        {
          "output_type": "stream",
          "name": "stderr",
          "text": [
            "\rTraining:  86%|\u2588\u2588\u2588\u2588\u2588\u2588\u2588\u2588\u258c | 30/35 [00:09<00:01,  3.61it/s]"
          ]
        },
        {
          "output_type": "stream",
          "name": "stderr",
          "text": [
            "\rTraining:  89%|\u2588\u2588\u2588\u2588\u2588\u2588\u2588\u2588\u258a | 31/35 [00:09<00:01,  3.62it/s]"
          ]
        },
        {
          "output_type": "stream",
          "name": "stderr",
          "text": [
            "\rTraining:  91%|\u2588\u2588\u2588\u2588\u2588\u2588\u2588\u2588\u2588\u258f| 32/35 [00:10<00:00,  3.62it/s]"
          ]
        },
        {
          "output_type": "stream",
          "name": "stderr",
          "text": [
            "\rTraining:  94%|\u2588\u2588\u2588\u2588\u2588\u2588\u2588\u2588\u2588\u258d| 33/35 [00:10<00:00,  3.62it/s]"
          ]
        },
        {
          "output_type": "stream",
          "name": "stderr",
          "text": [
            "\rTraining:  97%|\u2588\u2588\u2588\u2588\u2588\u2588\u2588\u2588\u2588\u258b| 34/35 [00:10<00:00,  3.63it/s]"
          ]
        },
        {
          "output_type": "stream",
          "name": "stderr",
          "text": [
            "\rTraining: 100%|\u2588\u2588\u2588\u2588\u2588\u2588\u2588\u2588\u2588\u2588| 35/35 [00:11<00:00,  3.62it/s]"
          ]
        },
        {
          "output_type": "stream",
          "name": "stderr",
          "text": [
            "\rTraining: 100%|\u2588\u2588\u2588\u2588\u2588\u2588\u2588\u2588\u2588\u2588| 35/35 [00:11<00:00,  3.15it/s]"
          ]
        },
        {
          "output_type": "stream",
          "name": "stderr",
          "text": [
            "\n"
          ]
        },
        {
          "output_type": "stream",
          "name": "stderr",
          "text": [
            "\rValidating:   0%|          | 0/120 [00:00<?, ?it/s]"
          ]
        },
        {
          "output_type": "stream",
          "name": "stderr",
          "text": [
            "\rValidating:   1%|          | 1/120 [00:00<01:30,  1.31it/s]"
          ]
        },
        {
          "output_type": "stream",
          "name": "stderr",
          "text": [
            "\rValidating:   2%|\u258f         | 2/120 [00:00<00:51,  2.31it/s]"
          ]
        },
        {
          "output_type": "stream",
          "name": "stderr",
          "text": [
            "\rValidating:   2%|\u258e         | 3/120 [00:01<00:35,  3.29it/s]"
          ]
        },
        {
          "output_type": "stream",
          "name": "stderr",
          "text": [
            "\rValidating:   3%|\u258e         | 4/120 [00:01<00:28,  4.11it/s]"
          ]
        },
        {
          "output_type": "stream",
          "name": "stderr",
          "text": [
            "\rValidating:   4%|\u258d         | 5/120 [00:01<00:24,  4.77it/s]"
          ]
        },
        {
          "output_type": "stream",
          "name": "stderr",
          "text": [
            "\rValidating:   5%|\u258c         | 6/120 [00:01<00:21,  5.27it/s]"
          ]
        },
        {
          "output_type": "stream",
          "name": "stderr",
          "text": [
            "\rValidating:   6%|\u258c         | 7/120 [00:01<00:20,  5.62it/s]"
          ]
        },
        {
          "output_type": "stream",
          "name": "stderr",
          "text": [
            "\rValidating:   7%|\u258b         | 8/120 [00:01<00:18,  5.91it/s]"
          ]
        },
        {
          "output_type": "stream",
          "name": "stderr",
          "text": [
            "\rValidating:   8%|\u258a         | 9/120 [00:02<00:18,  6.12it/s]"
          ]
        },
        {
          "output_type": "stream",
          "name": "stderr",
          "text": [
            "\rValidating:   8%|\u258a         | 10/120 [00:02<00:17,  6.27it/s]"
          ]
        },
        {
          "output_type": "stream",
          "name": "stderr",
          "text": [
            "\rValidating:   9%|\u2589         | 11/120 [00:02<00:17,  6.38it/s]"
          ]
        },
        {
          "output_type": "stream",
          "name": "stderr",
          "text": [
            "\rValidating:  10%|\u2588         | 12/120 [00:02<00:16,  6.39it/s]"
          ]
        },
        {
          "output_type": "stream",
          "name": "stderr",
          "text": [
            "\rValidating:  11%|\u2588         | 13/120 [00:02<00:16,  6.46it/s]"
          ]
        },
        {
          "output_type": "stream",
          "name": "stderr",
          "text": [
            "\rValidating:  12%|\u2588\u258f        | 14/120 [00:02<00:16,  6.50it/s]"
          ]
        },
        {
          "output_type": "stream",
          "name": "stderr",
          "text": [
            "\rValidating:  12%|\u2588\u258e        | 15/120 [00:02<00:16,  6.55it/s]"
          ]
        },
        {
          "output_type": "stream",
          "name": "stderr",
          "text": [
            "\rValidating:  13%|\u2588\u258e        | 16/120 [00:03<00:15,  6.56it/s]"
          ]
        },
        {
          "output_type": "stream",
          "name": "stderr",
          "text": [
            "\rValidating:  14%|\u2588\u258d        | 17/120 [00:03<00:15,  6.58it/s]"
          ]
        },
        {
          "output_type": "stream",
          "name": "stderr",
          "text": [
            "\rValidating:  15%|\u2588\u258c        | 18/120 [00:03<00:15,  6.59it/s]"
          ]
        },
        {
          "output_type": "stream",
          "name": "stderr",
          "text": [
            "\rValidating:  16%|\u2588\u258c        | 19/120 [00:03<00:15,  6.62it/s]"
          ]
        },
        {
          "output_type": "stream",
          "name": "stderr",
          "text": [
            "\rValidating:  17%|\u2588\u258b        | 20/120 [00:03<00:15,  6.62it/s]"
          ]
        },
        {
          "output_type": "stream",
          "name": "stderr",
          "text": [
            "\rValidating:  18%|\u2588\u258a        | 21/120 [00:03<00:14,  6.63it/s]"
          ]
        },
        {
          "output_type": "stream",
          "name": "stderr",
          "text": [
            "\rValidating:  18%|\u2588\u258a        | 22/120 [00:03<00:14,  6.62it/s]"
          ]
        },
        {
          "output_type": "stream",
          "name": "stderr",
          "text": [
            "\rValidating:  19%|\u2588\u2589        | 23/120 [00:04<00:14,  6.64it/s]"
          ]
        },
        {
          "output_type": "stream",
          "name": "stderr",
          "text": [
            "\rValidating:  20%|\u2588\u2588        | 24/120 [00:04<00:14,  6.63it/s]"
          ]
        },
        {
          "output_type": "stream",
          "name": "stderr",
          "text": [
            "\rValidating:  21%|\u2588\u2588        | 25/120 [00:04<00:14,  6.64it/s]"
          ]
        },
        {
          "output_type": "stream",
          "name": "stderr",
          "text": [
            "\rValidating:  22%|\u2588\u2588\u258f       | 26/120 [00:04<00:14,  6.63it/s]"
          ]
        },
        {
          "output_type": "stream",
          "name": "stderr",
          "text": [
            "\rValidating:  22%|\u2588\u2588\u258e       | 27/120 [00:04<00:14,  6.64it/s]"
          ]
        },
        {
          "output_type": "stream",
          "name": "stderr",
          "text": [
            "\rValidating:  23%|\u2588\u2588\u258e       | 28/120 [00:04<00:13,  6.63it/s]"
          ]
        },
        {
          "output_type": "stream",
          "name": "stderr",
          "text": [
            "\rValidating:  24%|\u2588\u2588\u258d       | 29/120 [00:05<00:13,  6.64it/s]"
          ]
        },
        {
          "output_type": "stream",
          "name": "stderr",
          "text": [
            "\rValidating:  25%|\u2588\u2588\u258c       | 30/120 [00:05<00:13,  6.63it/s]"
          ]
        },
        {
          "output_type": "stream",
          "name": "stderr",
          "text": [
            "\rValidating:  26%|\u2588\u2588\u258c       | 31/120 [00:05<00:13,  6.63it/s]"
          ]
        },
        {
          "output_type": "stream",
          "name": "stderr",
          "text": [
            "\rValidating:  27%|\u2588\u2588\u258b       | 32/120 [00:05<00:13,  6.64it/s]"
          ]
        },
        {
          "output_type": "stream",
          "name": "stderr",
          "text": [
            "\rValidating:  28%|\u2588\u2588\u258a       | 33/120 [00:05<00:13,  6.64it/s]"
          ]
        },
        {
          "output_type": "stream",
          "name": "stderr",
          "text": [
            "\rValidating:  28%|\u2588\u2588\u258a       | 34/120 [00:05<00:12,  6.64it/s]"
          ]
        },
        {
          "output_type": "stream",
          "name": "stderr",
          "text": [
            "\rValidating:  29%|\u2588\u2588\u2589       | 35/120 [00:05<00:12,  6.64it/s]"
          ]
        },
        {
          "output_type": "stream",
          "name": "stderr",
          "text": [
            "\rValidating:  30%|\u2588\u2588\u2588       | 36/120 [00:06<00:12,  6.64it/s]"
          ]
        },
        {
          "output_type": "stream",
          "name": "stderr",
          "text": [
            "\rValidating:  31%|\u2588\u2588\u2588       | 37/120 [00:06<00:12,  6.65it/s]"
          ]
        },
        {
          "output_type": "stream",
          "name": "stderr",
          "text": [
            "\rValidating:  32%|\u2588\u2588\u2588\u258f      | 38/120 [00:06<00:12,  6.65it/s]"
          ]
        },
        {
          "output_type": "stream",
          "name": "stderr",
          "text": [
            "\rValidating:  32%|\u2588\u2588\u2588\u258e      | 39/120 [00:06<00:12,  6.64it/s]"
          ]
        },
        {
          "output_type": "stream",
          "name": "stderr",
          "text": [
            "\rValidating:  33%|\u2588\u2588\u2588\u258e      | 40/120 [00:06<00:12,  6.65it/s]"
          ]
        },
        {
          "output_type": "stream",
          "name": "stderr",
          "text": [
            "\rValidating:  34%|\u2588\u2588\u2588\u258d      | 41/120 [00:06<00:11,  6.64it/s]"
          ]
        },
        {
          "output_type": "stream",
          "name": "stderr",
          "text": [
            "\rValidating:  35%|\u2588\u2588\u2588\u258c      | 42/120 [00:06<00:11,  6.64it/s]"
          ]
        },
        {
          "output_type": "stream",
          "name": "stderr",
          "text": [
            "\rValidating:  36%|\u2588\u2588\u2588\u258c      | 43/120 [00:07<00:11,  6.65it/s]"
          ]
        },
        {
          "output_type": "stream",
          "name": "stderr",
          "text": [
            "\rValidating:  37%|\u2588\u2588\u2588\u258b      | 44/120 [00:07<00:11,  6.64it/s]"
          ]
        },
        {
          "output_type": "stream",
          "name": "stderr",
          "text": [
            "\rValidating:  38%|\u2588\u2588\u2588\u258a      | 45/120 [00:07<00:11,  6.65it/s]"
          ]
        },
        {
          "output_type": "stream",
          "name": "stderr",
          "text": [
            "\rValidating:  38%|\u2588\u2588\u2588\u258a      | 46/120 [00:07<00:11,  6.64it/s]"
          ]
        },
        {
          "output_type": "stream",
          "name": "stderr",
          "text": [
            "\rValidating:  39%|\u2588\u2588\u2588\u2589      | 47/120 [00:07<00:10,  6.65it/s]"
          ]
        },
        {
          "output_type": "stream",
          "name": "stderr",
          "text": [
            "\rValidating:  40%|\u2588\u2588\u2588\u2588      | 48/120 [00:07<00:10,  6.64it/s]"
          ]
        },
        {
          "output_type": "stream",
          "name": "stderr",
          "text": [
            "\rValidating:  41%|\u2588\u2588\u2588\u2588      | 49/120 [00:08<00:10,  6.64it/s]"
          ]
        },
        {
          "output_type": "stream",
          "name": "stderr",
          "text": [
            "\rValidating:  42%|\u2588\u2588\u2588\u2588\u258f     | 50/120 [00:08<00:10,  6.64it/s]"
          ]
        },
        {
          "output_type": "stream",
          "name": "stderr",
          "text": [
            "\rValidating:  42%|\u2588\u2588\u2588\u2588\u258e     | 51/120 [00:08<00:10,  6.65it/s]"
          ]
        },
        {
          "output_type": "stream",
          "name": "stderr",
          "text": [
            "\rValidating:  43%|\u2588\u2588\u2588\u2588\u258e     | 52/120 [00:08<00:10,  6.64it/s]"
          ]
        },
        {
          "output_type": "stream",
          "name": "stderr",
          "text": [
            "\rValidating:  44%|\u2588\u2588\u2588\u2588\u258d     | 53/120 [00:08<00:10,  6.65it/s]"
          ]
        },
        {
          "output_type": "stream",
          "name": "stderr",
          "text": [
            "\rValidating:  45%|\u2588\u2588\u2588\u2588\u258c     | 54/120 [00:08<00:09,  6.63it/s]"
          ]
        },
        {
          "output_type": "stream",
          "name": "stderr",
          "text": [
            "\rValidating:  46%|\u2588\u2588\u2588\u2588\u258c     | 55/120 [00:08<00:09,  6.63it/s]"
          ]
        },
        {
          "output_type": "stream",
          "name": "stderr",
          "text": [
            "\rValidating:  47%|\u2588\u2588\u2588\u2588\u258b     | 56/120 [00:09<00:09,  6.62it/s]"
          ]
        },
        {
          "output_type": "stream",
          "name": "stderr",
          "text": [
            "\rValidating:  48%|\u2588\u2588\u2588\u2588\u258a     | 57/120 [00:09<00:09,  6.62it/s]"
          ]
        },
        {
          "output_type": "stream",
          "name": "stderr",
          "text": [
            "\rValidating:  48%|\u2588\u2588\u2588\u2588\u258a     | 58/120 [00:09<00:09,  6.62it/s]"
          ]
        },
        {
          "output_type": "stream",
          "name": "stderr",
          "text": [
            "\rValidating:  49%|\u2588\u2588\u2588\u2588\u2589     | 59/120 [00:09<00:09,  6.62it/s]"
          ]
        },
        {
          "output_type": "stream",
          "name": "stderr",
          "text": [
            "\rValidating:  50%|\u2588\u2588\u2588\u2588\u2588     | 60/120 [00:09<00:09,  6.62it/s]"
          ]
        },
        {
          "output_type": "stream",
          "name": "stderr",
          "text": [
            "\rValidating:  51%|\u2588\u2588\u2588\u2588\u2588     | 61/120 [00:09<00:08,  6.62it/s]"
          ]
        },
        {
          "output_type": "stream",
          "name": "stderr",
          "text": [
            "\rValidating:  52%|\u2588\u2588\u2588\u2588\u2588\u258f    | 62/120 [00:10<00:08,  6.62it/s]"
          ]
        },
        {
          "output_type": "stream",
          "name": "stderr",
          "text": [
            "\rValidating:  52%|\u2588\u2588\u2588\u2588\u2588\u258e    | 63/120 [00:10<00:08,  6.63it/s]"
          ]
        },
        {
          "output_type": "stream",
          "name": "stderr",
          "text": [
            "\rValidating:  53%|\u2588\u2588\u2588\u2588\u2588\u258e    | 64/120 [00:10<00:08,  6.63it/s]"
          ]
        },
        {
          "output_type": "stream",
          "name": "stderr",
          "text": [
            "\rValidating:  54%|\u2588\u2588\u2588\u2588\u2588\u258d    | 65/120 [00:10<00:08,  6.63it/s]"
          ]
        },
        {
          "output_type": "stream",
          "name": "stderr",
          "text": [
            "\rValidating:  55%|\u2588\u2588\u2588\u2588\u2588\u258c    | 66/120 [00:10<00:08,  6.63it/s]"
          ]
        },
        {
          "output_type": "stream",
          "name": "stderr",
          "text": [
            "\rValidating:  56%|\u2588\u2588\u2588\u2588\u2588\u258c    | 67/120 [00:10<00:07,  6.64it/s]"
          ]
        },
        {
          "output_type": "stream",
          "name": "stderr",
          "text": [
            "\rValidating:  57%|\u2588\u2588\u2588\u2588\u2588\u258b    | 68/120 [00:10<00:07,  6.63it/s]"
          ]
        },
        {
          "output_type": "stream",
          "name": "stderr",
          "text": [
            "\rValidating:  57%|\u2588\u2588\u2588\u2588\u2588\u258a    | 69/120 [00:11<00:07,  6.64it/s]"
          ]
        },
        {
          "output_type": "stream",
          "name": "stderr",
          "text": [
            "\rValidating:  58%|\u2588\u2588\u2588\u2588\u2588\u258a    | 70/120 [00:11<00:07,  6.64it/s]"
          ]
        },
        {
          "output_type": "stream",
          "name": "stderr",
          "text": [
            "\rValidating:  59%|\u2588\u2588\u2588\u2588\u2588\u2589    | 71/120 [00:11<00:07,  6.65it/s]"
          ]
        },
        {
          "output_type": "stream",
          "name": "stderr",
          "text": [
            "\rValidating:  60%|\u2588\u2588\u2588\u2588\u2588\u2588    | 72/120 [00:11<00:07,  6.64it/s]"
          ]
        },
        {
          "output_type": "stream",
          "name": "stderr",
          "text": [
            "\rValidating:  61%|\u2588\u2588\u2588\u2588\u2588\u2588    | 73/120 [00:11<00:07,  6.64it/s]"
          ]
        },
        {
          "output_type": "stream",
          "name": "stderr",
          "text": [
            "\rValidating:  62%|\u2588\u2588\u2588\u2588\u2588\u2588\u258f   | 74/120 [00:11<00:06,  6.62it/s]"
          ]
        },
        {
          "output_type": "stream",
          "name": "stderr",
          "text": [
            "\rValidating:  62%|\u2588\u2588\u2588\u2588\u2588\u2588\u258e   | 75/120 [00:11<00:06,  6.63it/s]"
          ]
        },
        {
          "output_type": "stream",
          "name": "stderr",
          "text": [
            "\rValidating:  63%|\u2588\u2588\u2588\u2588\u2588\u2588\u258e   | 76/120 [00:12<00:06,  6.62it/s]"
          ]
        },
        {
          "output_type": "stream",
          "name": "stderr",
          "text": [
            "\rValidating:  64%|\u2588\u2588\u2588\u2588\u2588\u2588\u258d   | 77/120 [00:12<00:06,  6.62it/s]"
          ]
        },
        {
          "output_type": "stream",
          "name": "stderr",
          "text": [
            "\rValidating:  65%|\u2588\u2588\u2588\u2588\u2588\u2588\u258c   | 78/120 [00:12<00:06,  6.62it/s]"
          ]
        },
        {
          "output_type": "stream",
          "name": "stderr",
          "text": [
            "\rValidating:  66%|\u2588\u2588\u2588\u2588\u2588\u2588\u258c   | 79/120 [00:12<00:06,  6.62it/s]"
          ]
        },
        {
          "output_type": "stream",
          "name": "stderr",
          "text": [
            "\rValidating:  67%|\u2588\u2588\u2588\u2588\u2588\u2588\u258b   | 80/120 [00:12<00:06,  6.61it/s]"
          ]
        },
        {
          "output_type": "stream",
          "name": "stderr",
          "text": [
            "\rValidating:  68%|\u2588\u2588\u2588\u2588\u2588\u2588\u258a   | 81/120 [00:12<00:05,  6.62it/s]"
          ]
        },
        {
          "output_type": "stream",
          "name": "stderr",
          "text": [
            "\rValidating:  68%|\u2588\u2588\u2588\u2588\u2588\u2588\u258a   | 82/120 [00:13<00:05,  6.62it/s]"
          ]
        },
        {
          "output_type": "stream",
          "name": "stderr",
          "text": [
            "\rValidating:  69%|\u2588\u2588\u2588\u2588\u2588\u2588\u2589   | 83/120 [00:13<00:05,  6.62it/s]"
          ]
        },
        {
          "output_type": "stream",
          "name": "stderr",
          "text": [
            "\rValidating:  70%|\u2588\u2588\u2588\u2588\u2588\u2588\u2588   | 84/120 [00:13<00:05,  6.62it/s]"
          ]
        },
        {
          "output_type": "stream",
          "name": "stderr",
          "text": [
            "\rValidating:  71%|\u2588\u2588\u2588\u2588\u2588\u2588\u2588   | 85/120 [00:13<00:05,  6.63it/s]"
          ]
        },
        {
          "output_type": "stream",
          "name": "stderr",
          "text": [
            "\rValidating:  72%|\u2588\u2588\u2588\u2588\u2588\u2588\u2588\u258f  | 86/120 [00:13<00:05,  6.63it/s]"
          ]
        },
        {
          "output_type": "stream",
          "name": "stderr",
          "text": [
            "\rValidating:  72%|\u2588\u2588\u2588\u2588\u2588\u2588\u2588\u258e  | 87/120 [00:13<00:04,  6.63it/s]"
          ]
        },
        {
          "output_type": "stream",
          "name": "stderr",
          "text": [
            "\rValidating:  73%|\u2588\u2588\u2588\u2588\u2588\u2588\u2588\u258e  | 88/120 [00:13<00:04,  6.62it/s]"
          ]
        },
        {
          "output_type": "stream",
          "name": "stderr",
          "text": [
            "\rValidating:  74%|\u2588\u2588\u2588\u2588\u2588\u2588\u2588\u258d  | 89/120 [00:14<00:04,  6.62it/s]"
          ]
        },
        {
          "output_type": "stream",
          "name": "stderr",
          "text": [
            "\rValidating:  75%|\u2588\u2588\u2588\u2588\u2588\u2588\u2588\u258c  | 90/120 [00:14<00:04,  6.60it/s]"
          ]
        },
        {
          "output_type": "stream",
          "name": "stderr",
          "text": [
            "\rValidating:  76%|\u2588\u2588\u2588\u2588\u2588\u2588\u2588\u258c  | 91/120 [00:14<00:04,  6.61it/s]"
          ]
        },
        {
          "output_type": "stream",
          "name": "stderr",
          "text": [
            "\rValidating:  77%|\u2588\u2588\u2588\u2588\u2588\u2588\u2588\u258b  | 92/120 [00:14<00:04,  6.54it/s]"
          ]
        },
        {
          "output_type": "stream",
          "name": "stderr",
          "text": [
            "\rValidating:  78%|\u2588\u2588\u2588\u2588\u2588\u2588\u2588\u258a  | 93/120 [00:14<00:04,  6.56it/s]"
          ]
        },
        {
          "output_type": "stream",
          "name": "stderr",
          "text": [
            "\rValidating:  78%|\u2588\u2588\u2588\u2588\u2588\u2588\u2588\u258a  | 94/120 [00:14<00:03,  6.58it/s]"
          ]
        },
        {
          "output_type": "stream",
          "name": "stderr",
          "text": [
            "\rValidating:  79%|\u2588\u2588\u2588\u2588\u2588\u2588\u2588\u2589  | 95/120 [00:15<00:03,  6.59it/s]"
          ]
        },
        {
          "output_type": "stream",
          "name": "stderr",
          "text": [
            "\rValidating:  80%|\u2588\u2588\u2588\u2588\u2588\u2588\u2588\u2588  | 96/120 [00:15<00:03,  6.60it/s]"
          ]
        },
        {
          "output_type": "stream",
          "name": "stderr",
          "text": [
            "\rValidating:  81%|\u2588\u2588\u2588\u2588\u2588\u2588\u2588\u2588  | 97/120 [00:15<00:03,  6.61it/s]"
          ]
        },
        {
          "output_type": "stream",
          "name": "stderr",
          "text": [
            "\rValidating:  82%|\u2588\u2588\u2588\u2588\u2588\u2588\u2588\u2588\u258f | 98/120 [00:15<00:03,  6.61it/s]"
          ]
        },
        {
          "output_type": "stream",
          "name": "stderr",
          "text": [
            "\rValidating:  82%|\u2588\u2588\u2588\u2588\u2588\u2588\u2588\u2588\u258e | 99/120 [00:15<00:03,  6.61it/s]"
          ]
        },
        {
          "output_type": "stream",
          "name": "stderr",
          "text": [
            "\rValidating:  83%|\u2588\u2588\u2588\u2588\u2588\u2588\u2588\u2588\u258e | 100/120 [00:15<00:03,  6.60it/s]"
          ]
        },
        {
          "output_type": "stream",
          "name": "stderr",
          "text": [
            "\rValidating:  84%|\u2588\u2588\u2588\u2588\u2588\u2588\u2588\u2588\u258d | 101/120 [00:15<00:02,  6.60it/s]"
          ]
        },
        {
          "output_type": "stream",
          "name": "stderr",
          "text": [
            "\rValidating:  85%|\u2588\u2588\u2588\u2588\u2588\u2588\u2588\u2588\u258c | 102/120 [00:16<00:02,  6.60it/s]"
          ]
        },
        {
          "output_type": "stream",
          "name": "stderr",
          "text": [
            "\rValidating:  86%|\u2588\u2588\u2588\u2588\u2588\u2588\u2588\u2588\u258c | 103/120 [00:16<00:02,  6.60it/s]"
          ]
        },
        {
          "output_type": "stream",
          "name": "stderr",
          "text": [
            "\rValidating:  87%|\u2588\u2588\u2588\u2588\u2588\u2588\u2588\u2588\u258b | 104/120 [00:16<00:02,  6.59it/s]"
          ]
        },
        {
          "output_type": "stream",
          "name": "stderr",
          "text": [
            "\rValidating:  88%|\u2588\u2588\u2588\u2588\u2588\u2588\u2588\u2588\u258a | 105/120 [00:16<00:02,  6.61it/s]"
          ]
        },
        {
          "output_type": "stream",
          "name": "stderr",
          "text": [
            "\rValidating:  88%|\u2588\u2588\u2588\u2588\u2588\u2588\u2588\u2588\u258a | 106/120 [00:16<00:02,  6.61it/s]"
          ]
        },
        {
          "output_type": "stream",
          "name": "stderr",
          "text": [
            "\rValidating:  89%|\u2588\u2588\u2588\u2588\u2588\u2588\u2588\u2588\u2589 | 107/120 [00:16<00:01,  6.60it/s]"
          ]
        },
        {
          "output_type": "stream",
          "name": "stderr",
          "text": [
            "\rValidating:  90%|\u2588\u2588\u2588\u2588\u2588\u2588\u2588\u2588\u2588 | 108/120 [00:16<00:01,  6.58it/s]"
          ]
        },
        {
          "output_type": "stream",
          "name": "stderr",
          "text": [
            "\rValidating:  91%|\u2588\u2588\u2588\u2588\u2588\u2588\u2588\u2588\u2588 | 109/120 [00:17<00:01,  6.59it/s]"
          ]
        },
        {
          "output_type": "stream",
          "name": "stderr",
          "text": [
            "\rValidating:  92%|\u2588\u2588\u2588\u2588\u2588\u2588\u2588\u2588\u2588\u258f| 110/120 [00:17<00:01,  6.60it/s]"
          ]
        },
        {
          "output_type": "stream",
          "name": "stderr",
          "text": [
            "\rValidating:  92%|\u2588\u2588\u2588\u2588\u2588\u2588\u2588\u2588\u2588\u258e| 111/120 [00:17<00:01,  6.61it/s]"
          ]
        },
        {
          "output_type": "stream",
          "name": "stderr",
          "text": [
            "\rValidating:  93%|\u2588\u2588\u2588\u2588\u2588\u2588\u2588\u2588\u2588\u258e| 112/120 [00:17<00:01,  6.61it/s]"
          ]
        },
        {
          "output_type": "stream",
          "name": "stderr",
          "text": [
            "\rValidating:  94%|\u2588\u2588\u2588\u2588\u2588\u2588\u2588\u2588\u2588\u258d| 113/120 [00:17<00:01,  6.61it/s]"
          ]
        },
        {
          "output_type": "stream",
          "name": "stderr",
          "text": [
            "\rValidating:  95%|\u2588\u2588\u2588\u2588\u2588\u2588\u2588\u2588\u2588\u258c| 114/120 [00:17<00:00,  6.61it/s]"
          ]
        },
        {
          "output_type": "stream",
          "name": "stderr",
          "text": [
            "\rValidating:  96%|\u2588\u2588\u2588\u2588\u2588\u2588\u2588\u2588\u2588\u258c| 115/120 [00:18<00:00,  6.63it/s]"
          ]
        },
        {
          "output_type": "stream",
          "name": "stderr",
          "text": [
            "\rValidating:  97%|\u2588\u2588\u2588\u2588\u2588\u2588\u2588\u2588\u2588\u258b| 116/120 [00:18<00:00,  6.63it/s]"
          ]
        },
        {
          "output_type": "stream",
          "name": "stderr",
          "text": [
            "\rValidating:  98%|\u2588\u2588\u2588\u2588\u2588\u2588\u2588\u2588\u2588\u258a| 117/120 [00:18<00:00,  6.64it/s]"
          ]
        },
        {
          "output_type": "stream",
          "name": "stderr",
          "text": [
            "\rValidating:  98%|\u2588\u2588\u2588\u2588\u2588\u2588\u2588\u2588\u2588\u258a| 118/120 [00:18<00:00,  6.64it/s]"
          ]
        },
        {
          "output_type": "stream",
          "name": "stderr",
          "text": [
            "\rValidating:  99%|\u2588\u2588\u2588\u2588\u2588\u2588\u2588\u2588\u2588\u2589| 119/120 [00:18<00:00,  6.65it/s]"
          ]
        },
        {
          "output_type": "stream",
          "name": "stderr",
          "text": [
            "\rValidating: 100%|\u2588\u2588\u2588\u2588\u2588\u2588\u2588\u2588\u2588\u2588| 120/120 [00:18<00:00,  6.41it/s]"
          ]
        },
        {
          "output_type": "stream",
          "name": "stderr",
          "text": [
            "\n"
          ]
        },
        {
          "output_type": "stream",
          "name": "stdout",
          "text": [
            "Epoch 11/20 - Time: 51s - Train Loss: 0.0737 - Val F0.5: 0.7377 @ thr=0.25 (P: 0.8199, R: 0.5265)\n"
          ]
        },
        {
          "output_type": "stream",
          "name": "stdout",
          "text": [
            "  >> New best score! Model saved to best_model_fold_2.pth\n"
          ]
        },
        {
          "output_type": "stream",
          "name": "stderr",
          "text": [
            "\rTraining:   0%|          | 0/35 [00:00<?, ?it/s]"
          ]
        },
        {
          "output_type": "stream",
          "name": "stderr",
          "text": [
            "\rTraining:   3%|\u258e         | 1/35 [00:01<01:00,  1.77s/it]"
          ]
        },
        {
          "output_type": "stream",
          "name": "stderr",
          "text": [
            "\rTraining:   6%|\u258c         | 2/35 [00:02<00:29,  1.12it/s]"
          ]
        },
        {
          "output_type": "stream",
          "name": "stderr",
          "text": [
            "\rTraining:   9%|\u258a         | 3/35 [00:02<00:19,  1.64it/s]"
          ]
        },
        {
          "output_type": "stream",
          "name": "stderr",
          "text": [
            "\rTraining:  11%|\u2588\u258f        | 4/35 [00:02<00:14,  2.09it/s]"
          ]
        },
        {
          "output_type": "stream",
          "name": "stderr",
          "text": [
            "\rTraining:  14%|\u2588\u258d        | 5/35 [00:02<00:12,  2.46it/s]"
          ]
        },
        {
          "output_type": "stream",
          "name": "stderr",
          "text": [
            "\rTraining:  17%|\u2588\u258b        | 6/35 [00:03<00:10,  2.76it/s]"
          ]
        },
        {
          "output_type": "stream",
          "name": "stderr",
          "text": [
            "\rTraining:  20%|\u2588\u2588        | 7/35 [00:03<00:09,  3.00it/s]"
          ]
        },
        {
          "output_type": "stream",
          "name": "stderr",
          "text": [
            "\rTraining:  23%|\u2588\u2588\u258e       | 8/35 [00:03<00:08,  3.17it/s]"
          ]
        },
        {
          "output_type": "stream",
          "name": "stderr",
          "text": [
            "\rTraining:  26%|\u2588\u2588\u258c       | 9/35 [00:03<00:07,  3.30it/s]"
          ]
        },
        {
          "output_type": "stream",
          "name": "stderr",
          "text": [
            "\rTraining:  29%|\u2588\u2588\u258a       | 10/35 [00:04<00:07,  3.39it/s]"
          ]
        },
        {
          "output_type": "stream",
          "name": "stderr",
          "text": [
            "\rTraining:  31%|\u2588\u2588\u2588\u258f      | 11/35 [00:04<00:06,  3.45it/s]"
          ]
        },
        {
          "output_type": "stream",
          "name": "stderr",
          "text": [
            "\rTraining:  34%|\u2588\u2588\u2588\u258d      | 12/35 [00:04<00:06,  3.50it/s]"
          ]
        },
        {
          "output_type": "stream",
          "name": "stderr",
          "text": [
            "\rTraining:  37%|\u2588\u2588\u2588\u258b      | 13/35 [00:05<00:06,  3.53it/s]"
          ]
        },
        {
          "output_type": "stream",
          "name": "stderr",
          "text": [
            "\rTraining:  40%|\u2588\u2588\u2588\u2588      | 14/35 [00:05<00:05,  3.56it/s]"
          ]
        },
        {
          "output_type": "stream",
          "name": "stderr",
          "text": [
            "\rTraining:  43%|\u2588\u2588\u2588\u2588\u258e     | 15/35 [00:05<00:05,  3.58it/s]"
          ]
        },
        {
          "output_type": "stream",
          "name": "stderr",
          "text": [
            "\rTraining:  46%|\u2588\u2588\u2588\u2588\u258c     | 16/35 [00:05<00:05,  3.59it/s]"
          ]
        },
        {
          "output_type": "stream",
          "name": "stderr",
          "text": [
            "\rTraining:  49%|\u2588\u2588\u2588\u2588\u258a     | 17/35 [00:06<00:05,  3.59it/s]"
          ]
        },
        {
          "output_type": "stream",
          "name": "stderr",
          "text": [
            "\rTraining:  51%|\u2588\u2588\u2588\u2588\u2588\u258f    | 18/35 [00:06<00:04,  3.60it/s]"
          ]
        },
        {
          "output_type": "stream",
          "name": "stderr",
          "text": [
            "\rTraining:  54%|\u2588\u2588\u2588\u2588\u2588\u258d    | 19/35 [00:06<00:04,  3.61it/s]"
          ]
        },
        {
          "output_type": "stream",
          "name": "stderr",
          "text": [
            "\rTraining:  57%|\u2588\u2588\u2588\u2588\u2588\u258b    | 20/35 [00:07<00:04,  3.61it/s]"
          ]
        },
        {
          "output_type": "stream",
          "name": "stderr",
          "text": [
            "\rTraining:  60%|\u2588\u2588\u2588\u2588\u2588\u2588    | 21/35 [00:07<00:03,  3.61it/s]"
          ]
        },
        {
          "output_type": "stream",
          "name": "stderr",
          "text": [
            "\rTraining:  63%|\u2588\u2588\u2588\u2588\u2588\u2588\u258e   | 22/35 [00:07<00:03,  3.62it/s]"
          ]
        },
        {
          "output_type": "stream",
          "name": "stderr",
          "text": [
            "\rTraining:  66%|\u2588\u2588\u2588\u2588\u2588\u2588\u258c   | 23/35 [00:07<00:03,  3.62it/s]"
          ]
        },
        {
          "output_type": "stream",
          "name": "stderr",
          "text": [
            "\rTraining:  69%|\u2588\u2588\u2588\u2588\u2588\u2588\u258a   | 24/35 [00:08<00:03,  3.61it/s]"
          ]
        },
        {
          "output_type": "stream",
          "name": "stderr",
          "text": [
            "\rTraining:  71%|\u2588\u2588\u2588\u2588\u2588\u2588\u2588\u258f  | 25/35 [00:08<00:02,  3.61it/s]"
          ]
        },
        {
          "output_type": "stream",
          "name": "stderr",
          "text": [
            "\rTraining:  74%|\u2588\u2588\u2588\u2588\u2588\u2588\u2588\u258d  | 26/35 [00:08<00:02,  3.62it/s]"
          ]
        },
        {
          "output_type": "stream",
          "name": "stderr",
          "text": [
            "\rTraining:  77%|\u2588\u2588\u2588\u2588\u2588\u2588\u2588\u258b  | 27/35 [00:08<00:02,  3.62it/s]"
          ]
        },
        {
          "output_type": "stream",
          "name": "stderr",
          "text": [
            "\rTraining:  80%|\u2588\u2588\u2588\u2588\u2588\u2588\u2588\u2588  | 28/35 [00:09<00:01,  3.62it/s]"
          ]
        },
        {
          "output_type": "stream",
          "name": "stderr",
          "text": [
            "\rTraining:  83%|\u2588\u2588\u2588\u2588\u2588\u2588\u2588\u2588\u258e | 29/35 [00:09<00:01,  3.62it/s]"
          ]
        },
        {
          "output_type": "stream",
          "name": "stderr",
          "text": [
            "\rTraining:  86%|\u2588\u2588\u2588\u2588\u2588\u2588\u2588\u2588\u258c | 30/35 [00:09<00:01,  3.62it/s]"
          ]
        },
        {
          "output_type": "stream",
          "name": "stderr",
          "text": [
            "\rTraining:  89%|\u2588\u2588\u2588\u2588\u2588\u2588\u2588\u2588\u258a | 31/35 [00:10<00:01,  3.63it/s]"
          ]
        },
        {
          "output_type": "stream",
          "name": "stderr",
          "text": [
            "\rTraining:  91%|\u2588\u2588\u2588\u2588\u2588\u2588\u2588\u2588\u2588\u258f| 32/35 [00:10<00:00,  3.63it/s]"
          ]
        },
        {
          "output_type": "stream",
          "name": "stderr",
          "text": [
            "\rTraining:  94%|\u2588\u2588\u2588\u2588\u2588\u2588\u2588\u2588\u2588\u258d| 33/35 [00:10<00:00,  3.63it/s]"
          ]
        },
        {
          "output_type": "stream",
          "name": "stderr",
          "text": [
            "\rTraining:  97%|\u2588\u2588\u2588\u2588\u2588\u2588\u2588\u2588\u2588\u258b| 34/35 [00:10<00:00,  3.63it/s]"
          ]
        },
        {
          "output_type": "stream",
          "name": "stderr",
          "text": [
            "\rTraining: 100%|\u2588\u2588\u2588\u2588\u2588\u2588\u2588\u2588\u2588\u2588| 35/35 [00:11<00:00,  3.63it/s]"
          ]
        },
        {
          "output_type": "stream",
          "name": "stderr",
          "text": [
            "\rTraining: 100%|\u2588\u2588\u2588\u2588\u2588\u2588\u2588\u2588\u2588\u2588| 35/35 [00:11<00:00,  3.11it/s]"
          ]
        },
        {
          "output_type": "stream",
          "name": "stderr",
          "text": [
            "\n"
          ]
        },
        {
          "output_type": "stream",
          "name": "stderr",
          "text": [
            "\rValidating:   0%|          | 0/120 [00:00<?, ?it/s]"
          ]
        },
        {
          "output_type": "stream",
          "name": "stderr",
          "text": [
            "\rValidating:   1%|          | 1/120 [00:01<02:10,  1.10s/it]"
          ]
        },
        {
          "output_type": "stream",
          "name": "stderr",
          "text": [
            "\rValidating:   2%|\u258f         | 2/120 [00:01<01:03,  1.85it/s]"
          ]
        },
        {
          "output_type": "stream",
          "name": "stderr",
          "text": [
            "\rValidating:   2%|\u258e         | 3/120 [00:01<00:42,  2.76it/s]"
          ]
        },
        {
          "output_type": "stream",
          "name": "stderr",
          "text": [
            "\rValidating:   3%|\u258e         | 4/120 [00:01<00:32,  3.58it/s]"
          ]
        },
        {
          "output_type": "stream",
          "name": "stderr",
          "text": [
            "\rValidating:   4%|\u258d         | 5/120 [00:01<00:26,  4.30it/s]"
          ]
        },
        {
          "output_type": "stream",
          "name": "stderr",
          "text": [
            "\rValidating:   5%|\u258c         | 6/120 [00:01<00:23,  4.88it/s]"
          ]
        },
        {
          "output_type": "stream",
          "name": "stderr",
          "text": [
            "\rValidating:   6%|\u258c         | 7/120 [00:02<00:21,  5.34it/s]"
          ]
        },
        {
          "output_type": "stream",
          "name": "stderr",
          "text": [
            "\rValidating:   7%|\u258b         | 8/120 [00:02<00:19,  5.70it/s]"
          ]
        },
        {
          "output_type": "stream",
          "name": "stderr",
          "text": [
            "\rValidating:   8%|\u258a         | 9/120 [00:02<00:18,  5.95it/s]"
          ]
        },
        {
          "output_type": "stream",
          "name": "stderr",
          "text": [
            "\rValidating:   8%|\u258a         | 10/120 [00:02<00:17,  6.15it/s]"
          ]
        },
        {
          "output_type": "stream",
          "name": "stderr",
          "text": [
            "\rValidating:   9%|\u2589         | 11/120 [00:02<00:17,  6.28it/s]"
          ]
        },
        {
          "output_type": "stream",
          "name": "stderr",
          "text": [
            "\rValidating:  10%|\u2588         | 12/120 [00:02<00:16,  6.38it/s]"
          ]
        },
        {
          "output_type": "stream",
          "name": "stderr",
          "text": [
            "\rValidating:  11%|\u2588         | 13/120 [00:02<00:16,  6.46it/s]"
          ]
        },
        {
          "output_type": "stream",
          "name": "stderr",
          "text": [
            "\rValidating:  12%|\u2588\u258f        | 14/120 [00:03<00:16,  6.51it/s]"
          ]
        },
        {
          "output_type": "stream",
          "name": "stderr",
          "text": [
            "\rValidating:  12%|\u2588\u258e        | 15/120 [00:03<00:16,  6.53it/s]"
          ]
        },
        {
          "output_type": "stream",
          "name": "stderr",
          "text": [
            "\rValidating:  13%|\u2588\u258e        | 16/120 [00:03<00:15,  6.55it/s]"
          ]
        },
        {
          "output_type": "stream",
          "name": "stderr",
          "text": [
            "\rValidating:  14%|\u2588\u258d        | 17/120 [00:03<00:15,  6.58it/s]"
          ]
        },
        {
          "output_type": "stream",
          "name": "stderr",
          "text": [
            "\rValidating:  15%|\u2588\u258c        | 18/120 [00:03<00:15,  6.58it/s]"
          ]
        },
        {
          "output_type": "stream",
          "name": "stderr",
          "text": [
            "\rValidating:  16%|\u2588\u258c        | 19/120 [00:03<00:15,  6.59it/s]"
          ]
        },
        {
          "output_type": "stream",
          "name": "stderr",
          "text": [
            "\rValidating:  17%|\u2588\u258b        | 20/120 [00:03<00:15,  6.59it/s]"
          ]
        },
        {
          "output_type": "stream",
          "name": "stderr",
          "text": [
            "\rValidating:  18%|\u2588\u258a        | 21/120 [00:04<00:15,  6.60it/s]"
          ]
        },
        {
          "output_type": "stream",
          "name": "stderr",
          "text": [
            "\rValidating:  18%|\u2588\u258a        | 22/120 [00:04<00:14,  6.59it/s]"
          ]
        },
        {
          "output_type": "stream",
          "name": "stderr",
          "text": [
            "\rValidating:  19%|\u2588\u2589        | 23/120 [00:04<00:14,  6.61it/s]"
          ]
        },
        {
          "output_type": "stream",
          "name": "stderr",
          "text": [
            "\rValidating:  20%|\u2588\u2588        | 24/120 [00:04<00:14,  6.61it/s]"
          ]
        },
        {
          "output_type": "stream",
          "name": "stderr",
          "text": [
            "\rValidating:  21%|\u2588\u2588        | 25/120 [00:04<00:14,  6.61it/s]"
          ]
        },
        {
          "output_type": "stream",
          "name": "stderr",
          "text": [
            "\rValidating:  22%|\u2588\u2588\u258f       | 26/120 [00:04<00:14,  6.61it/s]"
          ]
        },
        {
          "output_type": "stream",
          "name": "stderr",
          "text": [
            "\rValidating:  22%|\u2588\u2588\u258e       | 27/120 [00:05<00:14,  6.62it/s]"
          ]
        },
        {
          "output_type": "stream",
          "name": "stderr",
          "text": [
            "\rValidating:  23%|\u2588\u2588\u258e       | 28/120 [00:05<00:13,  6.62it/s]"
          ]
        },
        {
          "output_type": "stream",
          "name": "stderr",
          "text": [
            "\rValidating:  24%|\u2588\u2588\u258d       | 29/120 [00:05<00:13,  6.62it/s]"
          ]
        },
        {
          "output_type": "stream",
          "name": "stderr",
          "text": [
            "\rValidating:  25%|\u2588\u2588\u258c       | 30/120 [00:05<00:13,  6.62it/s]"
          ]
        },
        {
          "output_type": "stream",
          "name": "stderr",
          "text": [
            "\rValidating:  26%|\u2588\u2588\u258c       | 31/120 [00:05<00:13,  6.63it/s]"
          ]
        },
        {
          "output_type": "stream",
          "name": "stderr",
          "text": [
            "\rValidating:  27%|\u2588\u2588\u258b       | 32/120 [00:05<00:13,  6.62it/s]"
          ]
        },
        {
          "output_type": "stream",
          "name": "stderr",
          "text": [
            "\rValidating:  28%|\u2588\u2588\u258a       | 33/120 [00:05<00:13,  6.63it/s]"
          ]
        },
        {
          "output_type": "stream",
          "name": "stderr",
          "text": [
            "\rValidating:  28%|\u2588\u2588\u258a       | 34/120 [00:06<00:13,  6.60it/s]"
          ]
        },
        {
          "output_type": "stream",
          "name": "stderr",
          "text": [
            "\rValidating:  29%|\u2588\u2588\u2589       | 35/120 [00:06<00:12,  6.60it/s]"
          ]
        },
        {
          "output_type": "stream",
          "name": "stderr",
          "text": [
            "\rValidating:  30%|\u2588\u2588\u2588       | 36/120 [00:06<00:12,  6.61it/s]"
          ]
        },
        {
          "output_type": "stream",
          "name": "stderr",
          "text": [
            "\rValidating:  31%|\u2588\u2588\u2588       | 37/120 [00:06<00:12,  6.62it/s]"
          ]
        },
        {
          "output_type": "stream",
          "name": "stderr",
          "text": [
            "\rValidating:  32%|\u2588\u2588\u2588\u258f      | 38/120 [00:06<00:12,  6.61it/s]"
          ]
        },
        {
          "output_type": "stream",
          "name": "stderr",
          "text": [
            "\rValidating:  32%|\u2588\u2588\u2588\u258e      | 39/120 [00:06<00:12,  6.61it/s]"
          ]
        },
        {
          "output_type": "stream",
          "name": "stderr",
          "text": [
            "\rValidating:  33%|\u2588\u2588\u2588\u258e      | 40/120 [00:06<00:12,  6.61it/s]"
          ]
        },
        {
          "output_type": "stream",
          "name": "stderr",
          "text": [
            "\rValidating:  34%|\u2588\u2588\u2588\u258d      | 41/120 [00:07<00:11,  6.61it/s]"
          ]
        },
        {
          "output_type": "stream",
          "name": "stderr",
          "text": [
            "\rValidating:  35%|\u2588\u2588\u2588\u258c      | 42/120 [00:07<00:11,  6.61it/s]"
          ]
        },
        {
          "output_type": "stream",
          "name": "stderr",
          "text": [
            "\rValidating:  36%|\u2588\u2588\u2588\u258c      | 43/120 [00:07<00:11,  6.61it/s]"
          ]
        },
        {
          "output_type": "stream",
          "name": "stderr",
          "text": [
            "\rValidating:  37%|\u2588\u2588\u2588\u258b      | 44/120 [00:07<00:11,  6.60it/s]"
          ]
        },
        {
          "output_type": "stream",
          "name": "stderr",
          "text": [
            "\rValidating:  38%|\u2588\u2588\u2588\u258a      | 45/120 [00:07<00:11,  6.61it/s]"
          ]
        },
        {
          "output_type": "stream",
          "name": "stderr",
          "text": [
            "\rValidating:  38%|\u2588\u2588\u2588\u258a      | 46/120 [00:07<00:11,  6.60it/s]"
          ]
        },
        {
          "output_type": "stream",
          "name": "stderr",
          "text": [
            "\rValidating:  39%|\u2588\u2588\u2588\u2589      | 47/120 [00:08<00:11,  6.61it/s]"
          ]
        },
        {
          "output_type": "stream",
          "name": "stderr",
          "text": [
            "\rValidating:  40%|\u2588\u2588\u2588\u2588      | 48/120 [00:08<00:10,  6.61it/s]"
          ]
        },
        {
          "output_type": "stream",
          "name": "stderr",
          "text": [
            "\rValidating:  41%|\u2588\u2588\u2588\u2588      | 49/120 [00:08<00:10,  6.62it/s]"
          ]
        },
        {
          "output_type": "stream",
          "name": "stderr",
          "text": [
            "\rValidating:  42%|\u2588\u2588\u2588\u2588\u258f     | 50/120 [00:08<00:10,  6.62it/s]"
          ]
        },
        {
          "output_type": "stream",
          "name": "stderr",
          "text": [
            "\rValidating:  42%|\u2588\u2588\u2588\u2588\u258e     | 51/120 [00:08<00:10,  6.62it/s]"
          ]
        },
        {
          "output_type": "stream",
          "name": "stderr",
          "text": [
            "\rValidating:  43%|\u2588\u2588\u2588\u2588\u258e     | 52/120 [00:08<00:10,  6.62it/s]"
          ]
        },
        {
          "output_type": "stream",
          "name": "stderr",
          "text": [
            "\rValidating:  44%|\u2588\u2588\u2588\u2588\u258d     | 53/120 [00:08<00:10,  6.62it/s]"
          ]
        },
        {
          "output_type": "stream",
          "name": "stderr",
          "text": [
            "\rValidating:  45%|\u2588\u2588\u2588\u2588\u258c     | 54/120 [00:09<00:09,  6.62it/s]"
          ]
        },
        {
          "output_type": "stream",
          "name": "stderr",
          "text": [
            "\rValidating:  46%|\u2588\u2588\u2588\u2588\u258c     | 55/120 [00:09<00:09,  6.62it/s]"
          ]
        },
        {
          "output_type": "stream",
          "name": "stderr",
          "text": [
            "\rValidating:  47%|\u2588\u2588\u2588\u2588\u258b     | 56/120 [00:09<00:09,  6.61it/s]"
          ]
        },
        {
          "output_type": "stream",
          "name": "stderr",
          "text": [
            "\rValidating:  48%|\u2588\u2588\u2588\u2588\u258a     | 57/120 [00:09<00:09,  6.62it/s]"
          ]
        },
        {
          "output_type": "stream",
          "name": "stderr",
          "text": [
            "\rValidating:  48%|\u2588\u2588\u2588\u2588\u258a     | 58/120 [00:09<00:09,  6.62it/s]"
          ]
        },
        {
          "output_type": "stream",
          "name": "stderr",
          "text": [
            "\rValidating:  49%|\u2588\u2588\u2588\u2588\u2589     | 59/120 [00:09<00:09,  6.62it/s]"
          ]
        },
        {
          "output_type": "stream",
          "name": "stderr",
          "text": [
            "\rValidating:  50%|\u2588\u2588\u2588\u2588\u2588     | 60/120 [00:10<00:09,  6.61it/s]"
          ]
        },
        {
          "output_type": "stream",
          "name": "stderr",
          "text": [
            "\rValidating:  51%|\u2588\u2588\u2588\u2588\u2588     | 61/120 [00:10<00:08,  6.62it/s]"
          ]
        },
        {
          "output_type": "stream",
          "name": "stderr",
          "text": [
            "\rValidating:  52%|\u2588\u2588\u2588\u2588\u2588\u258f    | 62/120 [00:10<00:08,  6.62it/s]"
          ]
        },
        {
          "output_type": "stream",
          "name": "stderr",
          "text": [
            "\rValidating:  52%|\u2588\u2588\u2588\u2588\u2588\u258e    | 63/120 [00:10<00:08,  6.62it/s]"
          ]
        },
        {
          "output_type": "stream",
          "name": "stderr",
          "text": [
            "\rValidating:  53%|\u2588\u2588\u2588\u2588\u2588\u258e    | 64/120 [00:10<00:08,  6.61it/s]"
          ]
        },
        {
          "output_type": "stream",
          "name": "stderr",
          "text": [
            "\rValidating:  54%|\u2588\u2588\u2588\u2588\u2588\u258d    | 65/120 [00:10<00:08,  6.62it/s]"
          ]
        },
        {
          "output_type": "stream",
          "name": "stderr",
          "text": [
            "\rValidating:  55%|\u2588\u2588\u2588\u2588\u2588\u258c    | 66/120 [00:10<00:08,  6.62it/s]"
          ]
        },
        {
          "output_type": "stream",
          "name": "stderr",
          "text": [
            "\rValidating:  56%|\u2588\u2588\u2588\u2588\u2588\u258c    | 67/120 [00:11<00:08,  6.62it/s]"
          ]
        },
        {
          "output_type": "stream",
          "name": "stderr",
          "text": [
            "\rValidating:  57%|\u2588\u2588\u2588\u2588\u2588\u258b    | 68/120 [00:11<00:07,  6.62it/s]"
          ]
        },
        {
          "output_type": "stream",
          "name": "stderr",
          "text": [
            "\rValidating:  57%|\u2588\u2588\u2588\u2588\u2588\u258a    | 69/120 [00:11<00:07,  6.62it/s]"
          ]
        },
        {
          "output_type": "stream",
          "name": "stderr",
          "text": [
            "\rValidating:  58%|\u2588\u2588\u2588\u2588\u2588\u258a    | 70/120 [00:11<00:07,  6.62it/s]"
          ]
        },
        {
          "output_type": "stream",
          "name": "stderr",
          "text": [
            "\rValidating:  59%|\u2588\u2588\u2588\u2588\u2588\u2589    | 71/120 [00:11<00:07,  6.62it/s]"
          ]
        },
        {
          "output_type": "stream",
          "name": "stderr",
          "text": [
            "\rValidating:  60%|\u2588\u2588\u2588\u2588\u2588\u2588    | 72/120 [00:11<00:07,  6.62it/s]"
          ]
        },
        {
          "output_type": "stream",
          "name": "stderr",
          "text": [
            "\rValidating:  61%|\u2588\u2588\u2588\u2588\u2588\u2588    | 73/120 [00:11<00:07,  6.62it/s]"
          ]
        },
        {
          "output_type": "stream",
          "name": "stderr",
          "text": [
            "\rValidating:  62%|\u2588\u2588\u2588\u2588\u2588\u2588\u258f   | 74/120 [00:12<00:06,  6.62it/s]"
          ]
        },
        {
          "output_type": "stream",
          "name": "stderr",
          "text": [
            "\rValidating:  62%|\u2588\u2588\u2588\u2588\u2588\u2588\u258e   | 75/120 [00:12<00:06,  6.62it/s]"
          ]
        },
        {
          "output_type": "stream",
          "name": "stderr",
          "text": [
            "\rValidating:  63%|\u2588\u2588\u2588\u2588\u2588\u2588\u258e   | 76/120 [00:12<00:06,  6.62it/s]"
          ]
        },
        {
          "output_type": "stream",
          "name": "stderr",
          "text": [
            "\rValidating:  64%|\u2588\u2588\u2588\u2588\u2588\u2588\u258d   | 77/120 [00:12<00:06,  6.62it/s]"
          ]
        },
        {
          "output_type": "stream",
          "name": "stderr",
          "text": [
            "\rValidating:  65%|\u2588\u2588\u2588\u2588\u2588\u2588\u258c   | 78/120 [00:12<00:06,  6.62it/s]"
          ]
        },
        {
          "output_type": "stream",
          "name": "stderr",
          "text": [
            "\rValidating:  66%|\u2588\u2588\u2588\u2588\u2588\u2588\u258c   | 79/120 [00:12<00:06,  6.62it/s]"
          ]
        },
        {
          "output_type": "stream",
          "name": "stderr",
          "text": [
            "\rValidating:  67%|\u2588\u2588\u2588\u2588\u2588\u2588\u258b   | 80/120 [00:13<00:06,  6.61it/s]"
          ]
        },
        {
          "output_type": "stream",
          "name": "stderr",
          "text": [
            "\rValidating:  68%|\u2588\u2588\u2588\u2588\u2588\u2588\u258a   | 81/120 [00:13<00:05,  6.62it/s]"
          ]
        },
        {
          "output_type": "stream",
          "name": "stderr",
          "text": [
            "\rValidating:  68%|\u2588\u2588\u2588\u2588\u2588\u2588\u258a   | 82/120 [00:13<00:05,  6.63it/s]"
          ]
        },
        {
          "output_type": "stream",
          "name": "stderr",
          "text": [
            "\rValidating:  69%|\u2588\u2588\u2588\u2588\u2588\u2588\u2589   | 83/120 [00:13<00:05,  6.63it/s]"
          ]
        },
        {
          "output_type": "stream",
          "name": "stderr",
          "text": [
            "\rValidating:  70%|\u2588\u2588\u2588\u2588\u2588\u2588\u2588   | 84/120 [00:13<00:05,  6.62it/s]"
          ]
        },
        {
          "output_type": "stream",
          "name": "stderr",
          "text": [
            "\rValidating:  71%|\u2588\u2588\u2588\u2588\u2588\u2588\u2588   | 85/120 [00:13<00:05,  6.62it/s]"
          ]
        },
        {
          "output_type": "stream",
          "name": "stderr",
          "text": [
            "\rValidating:  72%|\u2588\u2588\u2588\u2588\u2588\u2588\u2588\u258f  | 86/120 [00:13<00:05,  6.61it/s]"
          ]
        },
        {
          "output_type": "stream",
          "name": "stderr",
          "text": [
            "\rValidating:  72%|\u2588\u2588\u2588\u2588\u2588\u2588\u2588\u258e  | 87/120 [00:14<00:04,  6.60it/s]"
          ]
        },
        {
          "output_type": "stream",
          "name": "stderr",
          "text": [
            "\rValidating:  73%|\u2588\u2588\u2588\u2588\u2588\u2588\u2588\u258e  | 88/120 [00:14<00:04,  6.61it/s]"
          ]
        },
        {
          "output_type": "stream",
          "name": "stderr",
          "text": [
            "\rValidating:  74%|\u2588\u2588\u2588\u2588\u2588\u2588\u2588\u258d  | 89/120 [00:14<00:04,  6.62it/s]"
          ]
        },
        {
          "output_type": "stream",
          "name": "stderr",
          "text": [
            "\rValidating:  75%|\u2588\u2588\u2588\u2588\u2588\u2588\u2588\u258c  | 90/120 [00:14<00:04,  6.62it/s]"
          ]
        },
        {
          "output_type": "stream",
          "name": "stderr",
          "text": [
            "\rValidating:  76%|\u2588\u2588\u2588\u2588\u2588\u2588\u2588\u258c  | 91/120 [00:14<00:04,  6.62it/s]"
          ]
        },
        {
          "output_type": "stream",
          "name": "stderr",
          "text": [
            "\rValidating:  77%|\u2588\u2588\u2588\u2588\u2588\u2588\u2588\u258b  | 92/120 [00:14<00:04,  6.62it/s]"
          ]
        },
        {
          "output_type": "stream",
          "name": "stderr",
          "text": [
            "\rValidating:  78%|\u2588\u2588\u2588\u2588\u2588\u2588\u2588\u258a  | 93/120 [00:15<00:04,  6.63it/s]"
          ]
        },
        {
          "output_type": "stream",
          "name": "stderr",
          "text": [
            "\rValidating:  78%|\u2588\u2588\u2588\u2588\u2588\u2588\u2588\u258a  | 94/120 [00:15<00:03,  6.63it/s]"
          ]
        },
        {
          "output_type": "stream",
          "name": "stderr",
          "text": [
            "\rValidating:  79%|\u2588\u2588\u2588\u2588\u2588\u2588\u2588\u2589  | 95/120 [00:15<00:03,  6.62it/s]"
          ]
        },
        {
          "output_type": "stream",
          "name": "stderr",
          "text": [
            "\rValidating:  80%|\u2588\u2588\u2588\u2588\u2588\u2588\u2588\u2588  | 96/120 [00:15<00:03,  6.60it/s]"
          ]
        },
        {
          "output_type": "stream",
          "name": "stderr",
          "text": [
            "\rValidating:  81%|\u2588\u2588\u2588\u2588\u2588\u2588\u2588\u2588  | 97/120 [00:15<00:03,  6.62it/s]"
          ]
        },
        {
          "output_type": "stream",
          "name": "stderr",
          "text": [
            "\rValidating:  82%|\u2588\u2588\u2588\u2588\u2588\u2588\u2588\u2588\u258f | 98/120 [00:15<00:03,  6.62it/s]"
          ]
        },
        {
          "output_type": "stream",
          "name": "stderr",
          "text": [
            "\rValidating:  82%|\u2588\u2588\u2588\u2588\u2588\u2588\u2588\u2588\u258e | 99/120 [00:15<00:03,  6.62it/s]"
          ]
        },
        {
          "output_type": "stream",
          "name": "stderr",
          "text": [
            "\rValidating:  83%|\u2588\u2588\u2588\u2588\u2588\u2588\u2588\u2588\u258e | 100/120 [00:16<00:03,  6.62it/s]"
          ]
        },
        {
          "output_type": "stream",
          "name": "stderr",
          "text": [
            "\rValidating:  84%|\u2588\u2588\u2588\u2588\u2588\u2588\u2588\u2588\u258d | 101/120 [00:16<00:02,  6.62it/s]"
          ]
        },
        {
          "output_type": "stream",
          "name": "stderr",
          "text": [
            "\rValidating:  85%|\u2588\u2588\u2588\u2588\u2588\u2588\u2588\u2588\u258c | 102/120 [00:16<00:02,  6.62it/s]"
          ]
        },
        {
          "output_type": "stream",
          "name": "stderr",
          "text": [
            "\rValidating:  86%|\u2588\u2588\u2588\u2588\u2588\u2588\u2588\u2588\u258c | 103/120 [00:16<00:02,  6.62it/s]"
          ]
        },
        {
          "output_type": "stream",
          "name": "stderr",
          "text": [
            "\rValidating:  87%|\u2588\u2588\u2588\u2588\u2588\u2588\u2588\u2588\u258b | 104/120 [00:16<00:02,  6.61it/s]"
          ]
        },
        {
          "output_type": "stream",
          "name": "stderr",
          "text": [
            "\rValidating:  88%|\u2588\u2588\u2588\u2588\u2588\u2588\u2588\u2588\u258a | 105/120 [00:16<00:02,  6.61it/s]"
          ]
        },
        {
          "output_type": "stream",
          "name": "stderr",
          "text": [
            "\rValidating:  88%|\u2588\u2588\u2588\u2588\u2588\u2588\u2588\u2588\u258a | 106/120 [00:16<00:02,  6.61it/s]"
          ]
        },
        {
          "output_type": "stream",
          "name": "stderr",
          "text": [
            "\rValidating:  89%|\u2588\u2588\u2588\u2588\u2588\u2588\u2588\u2588\u2589 | 107/120 [00:17<00:01,  6.61it/s]"
          ]
        },
        {
          "output_type": "stream",
          "name": "stderr",
          "text": [
            "\rValidating:  90%|\u2588\u2588\u2588\u2588\u2588\u2588\u2588\u2588\u2588 | 108/120 [00:17<00:01,  6.62it/s]"
          ]
        },
        {
          "output_type": "stream",
          "name": "stderr",
          "text": [
            "\rValidating:  91%|\u2588\u2588\u2588\u2588\u2588\u2588\u2588\u2588\u2588 | 109/120 [00:17<00:01,  6.61it/s]"
          ]
        },
        {
          "output_type": "stream",
          "name": "stderr",
          "text": [
            "\rValidating:  92%|\u2588\u2588\u2588\u2588\u2588\u2588\u2588\u2588\u2588\u258f| 110/120 [00:17<00:01,  6.61it/s]"
          ]
        },
        {
          "output_type": "stream",
          "name": "stderr",
          "text": [
            "\rValidating:  92%|\u2588\u2588\u2588\u2588\u2588\u2588\u2588\u2588\u2588\u258e| 111/120 [00:17<00:01,  6.61it/s]"
          ]
        },
        {
          "output_type": "stream",
          "name": "stderr",
          "text": [
            "\rValidating:  93%|\u2588\u2588\u2588\u2588\u2588\u2588\u2588\u2588\u2588\u258e| 112/120 [00:17<00:01,  6.61it/s]"
          ]
        },
        {
          "output_type": "stream",
          "name": "stderr",
          "text": [
            "\rValidating:  94%|\u2588\u2588\u2588\u2588\u2588\u2588\u2588\u2588\u2588\u258d| 113/120 [00:18<00:01,  6.61it/s]"
          ]
        },
        {
          "output_type": "stream",
          "name": "stderr",
          "text": [
            "\rValidating:  95%|\u2588\u2588\u2588\u2588\u2588\u2588\u2588\u2588\u2588\u258c| 114/120 [00:18<00:00,  6.61it/s]"
          ]
        },
        {
          "output_type": "stream",
          "name": "stderr",
          "text": [
            "\rValidating:  96%|\u2588\u2588\u2588\u2588\u2588\u2588\u2588\u2588\u2588\u258c| 115/120 [00:18<00:00,  6.63it/s]"
          ]
        },
        {
          "output_type": "stream",
          "name": "stderr",
          "text": [
            "\rValidating:  97%|\u2588\u2588\u2588\u2588\u2588\u2588\u2588\u2588\u2588\u258b| 116/120 [00:18<00:00,  6.63it/s]"
          ]
        },
        {
          "output_type": "stream",
          "name": "stderr",
          "text": [
            "\rValidating:  98%|\u2588\u2588\u2588\u2588\u2588\u2588\u2588\u2588\u2588\u258a| 117/120 [00:18<00:00,  6.64it/s]"
          ]
        },
        {
          "output_type": "stream",
          "name": "stderr",
          "text": [
            "\rValidating:  98%|\u2588\u2588\u2588\u2588\u2588\u2588\u2588\u2588\u2588\u258a| 118/120 [00:18<00:00,  6.64it/s]"
          ]
        },
        {
          "output_type": "stream",
          "name": "stderr",
          "text": [
            "\rValidating:  99%|\u2588\u2588\u2588\u2588\u2588\u2588\u2588\u2588\u2588\u2589| 119/120 [00:18<00:00,  6.65it/s]"
          ]
        },
        {
          "output_type": "stream",
          "name": "stderr",
          "text": [
            "\rValidating: 100%|\u2588\u2588\u2588\u2588\u2588\u2588\u2588\u2588\u2588\u2588| 120/120 [00:19<00:00,  6.31it/s]"
          ]
        },
        {
          "output_type": "stream",
          "name": "stderr",
          "text": [
            "\n"
          ]
        },
        {
          "output_type": "stream",
          "name": "stdout",
          "text": [
            "Epoch 12/20 - Time: 51s - Train Loss: 0.0747 - Val F0.5: 0.7391 @ thr=0.70 (P: 0.8154, R: 0.5378)\n"
          ]
        },
        {
          "output_type": "stream",
          "name": "stdout",
          "text": [
            "  >> New best score! Model saved to best_model_fold_2.pth\n"
          ]
        },
        {
          "output_type": "stream",
          "name": "stderr",
          "text": [
            "\rTraining:   0%|          | 0/35 [00:00<?, ?it/s]"
          ]
        },
        {
          "output_type": "stream",
          "name": "stderr",
          "text": [
            "\rTraining:   3%|\u258e         | 1/35 [00:01<00:56,  1.65s/it]"
          ]
        },
        {
          "output_type": "stream",
          "name": "stderr",
          "text": [
            "\rTraining:   6%|\u258c         | 2/35 [00:01<00:27,  1.18it/s]"
          ]
        },
        {
          "output_type": "stream",
          "name": "stderr",
          "text": [
            "\rTraining:   9%|\u258a         | 3/35 [00:02<00:18,  1.71it/s]"
          ]
        },
        {
          "output_type": "stream",
          "name": "stderr",
          "text": [
            "\rTraining:  11%|\u2588\u258f        | 4/35 [00:02<00:14,  2.15it/s]"
          ]
        },
        {
          "output_type": "stream",
          "name": "stderr",
          "text": [
            "\rTraining:  14%|\u2588\u258d        | 5/35 [00:02<00:11,  2.52it/s]"
          ]
        },
        {
          "output_type": "stream",
          "name": "stderr",
          "text": [
            "\rTraining:  17%|\u2588\u258b        | 6/35 [00:03<00:10,  2.80it/s]"
          ]
        },
        {
          "output_type": "stream",
          "name": "stderr",
          "text": [
            "\rTraining:  20%|\u2588\u2588        | 7/35 [00:03<00:09,  3.02it/s]"
          ]
        },
        {
          "output_type": "stream",
          "name": "stderr",
          "text": [
            "\rTraining:  23%|\u2588\u2588\u258e       | 8/35 [00:03<00:08,  3.18it/s]"
          ]
        },
        {
          "output_type": "stream",
          "name": "stderr",
          "text": [
            "\rTraining:  26%|\u2588\u2588\u258c       | 9/35 [00:03<00:07,  3.30it/s]"
          ]
        },
        {
          "output_type": "stream",
          "name": "stderr",
          "text": [
            "\rTraining:  29%|\u2588\u2588\u258a       | 10/35 [00:04<00:07,  3.40it/s]"
          ]
        },
        {
          "output_type": "stream",
          "name": "stderr",
          "text": [
            "\rTraining:  31%|\u2588\u2588\u2588\u258f      | 11/35 [00:04<00:06,  3.46it/s]"
          ]
        },
        {
          "output_type": "stream",
          "name": "stderr",
          "text": [
            "\rTraining:  34%|\u2588\u2588\u2588\u258d      | 12/35 [00:04<00:06,  3.50it/s]"
          ]
        },
        {
          "output_type": "stream",
          "name": "stderr",
          "text": [
            "\rTraining:  37%|\u2588\u2588\u2588\u258b      | 13/35 [00:04<00:06,  3.52it/s]"
          ]
        },
        {
          "output_type": "stream",
          "name": "stderr",
          "text": [
            "\rTraining:  40%|\u2588\u2588\u2588\u2588      | 14/35 [00:05<00:05,  3.55it/s]"
          ]
        },
        {
          "output_type": "stream",
          "name": "stderr",
          "text": [
            "\rTraining:  43%|\u2588\u2588\u2588\u2588\u258e     | 15/35 [00:05<00:05,  3.56it/s]"
          ]
        },
        {
          "output_type": "stream",
          "name": "stderr",
          "text": [
            "\rTraining:  46%|\u2588\u2588\u2588\u2588\u258c     | 16/35 [00:05<00:05,  3.57it/s]"
          ]
        },
        {
          "output_type": "stream",
          "name": "stderr",
          "text": [
            "\rTraining:  49%|\u2588\u2588\u2588\u2588\u258a     | 17/35 [00:06<00:05,  3.58it/s]"
          ]
        },
        {
          "output_type": "stream",
          "name": "stderr",
          "text": [
            "\rTraining:  51%|\u2588\u2588\u2588\u2588\u2588\u258f    | 18/35 [00:06<00:04,  3.59it/s]"
          ]
        },
        {
          "output_type": "stream",
          "name": "stderr",
          "text": [
            "\rTraining:  54%|\u2588\u2588\u2588\u2588\u2588\u258d    | 19/35 [00:06<00:04,  3.59it/s]"
          ]
        },
        {
          "output_type": "stream",
          "name": "stderr",
          "text": [
            "\rTraining:  57%|\u2588\u2588\u2588\u2588\u2588\u258b    | 20/35 [00:06<00:04,  3.60it/s]"
          ]
        },
        {
          "output_type": "stream",
          "name": "stderr",
          "text": [
            "\rTraining:  60%|\u2588\u2588\u2588\u2588\u2588\u2588    | 21/35 [00:07<00:03,  3.61it/s]"
          ]
        },
        {
          "output_type": "stream",
          "name": "stderr",
          "text": [
            "\rTraining:  63%|\u2588\u2588\u2588\u2588\u2588\u2588\u258e   | 22/35 [00:07<00:03,  3.61it/s]"
          ]
        },
        {
          "output_type": "stream",
          "name": "stderr",
          "text": [
            "\rTraining:  66%|\u2588\u2588\u2588\u2588\u2588\u2588\u258c   | 23/35 [00:07<00:03,  3.61it/s]"
          ]
        },
        {
          "output_type": "stream",
          "name": "stderr",
          "text": [
            "\rTraining:  69%|\u2588\u2588\u2588\u2588\u2588\u2588\u258a   | 24/35 [00:08<00:03,  3.61it/s]"
          ]
        },
        {
          "output_type": "stream",
          "name": "stderr",
          "text": [
            "\rTraining:  71%|\u2588\u2588\u2588\u2588\u2588\u2588\u2588\u258f  | 25/35 [00:08<00:02,  3.61it/s]"
          ]
        },
        {
          "output_type": "stream",
          "name": "stderr",
          "text": [
            "\rTraining:  74%|\u2588\u2588\u2588\u2588\u2588\u2588\u2588\u258d  | 26/35 [00:08<00:02,  3.62it/s]"
          ]
        },
        {
          "output_type": "stream",
          "name": "stderr",
          "text": [
            "\rTraining:  77%|\u2588\u2588\u2588\u2588\u2588\u2588\u2588\u258b  | 27/35 [00:08<00:02,  3.61it/s]"
          ]
        },
        {
          "output_type": "stream",
          "name": "stderr",
          "text": [
            "\rTraining:  80%|\u2588\u2588\u2588\u2588\u2588\u2588\u2588\u2588  | 28/35 [00:09<00:01,  3.61it/s]"
          ]
        },
        {
          "output_type": "stream",
          "name": "stderr",
          "text": [
            "\rTraining:  83%|\u2588\u2588\u2588\u2588\u2588\u2588\u2588\u2588\u258e | 29/35 [00:09<00:01,  3.61it/s]"
          ]
        },
        {
          "output_type": "stream",
          "name": "stderr",
          "text": [
            "\rTraining:  86%|\u2588\u2588\u2588\u2588\u2588\u2588\u2588\u2588\u258c | 30/35 [00:09<00:01,  3.62it/s]"
          ]
        },
        {
          "output_type": "stream",
          "name": "stderr",
          "text": [
            "\rTraining:  89%|\u2588\u2588\u2588\u2588\u2588\u2588\u2588\u2588\u258a | 31/35 [00:09<00:01,  3.62it/s]"
          ]
        },
        {
          "output_type": "stream",
          "name": "stderr",
          "text": [
            "\rTraining:  91%|\u2588\u2588\u2588\u2588\u2588\u2588\u2588\u2588\u2588\u258f| 32/35 [00:10<00:00,  3.63it/s]"
          ]
        },
        {
          "output_type": "stream",
          "name": "stderr",
          "text": [
            "\rTraining:  94%|\u2588\u2588\u2588\u2588\u2588\u2588\u2588\u2588\u2588\u258d| 33/35 [00:10<00:00,  3.62it/s]"
          ]
        },
        {
          "output_type": "stream",
          "name": "stderr",
          "text": [
            "\rTraining:  97%|\u2588\u2588\u2588\u2588\u2588\u2588\u2588\u2588\u2588\u258b| 34/35 [00:10<00:00,  3.62it/s]"
          ]
        },
        {
          "output_type": "stream",
          "name": "stderr",
          "text": [
            "\rTraining: 100%|\u2588\u2588\u2588\u2588\u2588\u2588\u2588\u2588\u2588\u2588| 35/35 [00:11<00:00,  3.62it/s]"
          ]
        },
        {
          "output_type": "stream",
          "name": "stderr",
          "text": [
            "\rTraining: 100%|\u2588\u2588\u2588\u2588\u2588\u2588\u2588\u2588\u2588\u2588| 35/35 [00:11<00:00,  3.14it/s]"
          ]
        },
        {
          "output_type": "stream",
          "name": "stderr",
          "text": [
            "\n"
          ]
        },
        {
          "output_type": "stream",
          "name": "stderr",
          "text": [
            "\rValidating:   0%|          | 0/120 [00:00<?, ?it/s]"
          ]
        },
        {
          "output_type": "stream",
          "name": "stderr",
          "text": [
            "\rValidating:   1%|          | 1/120 [00:01<02:15,  1.14s/it]"
          ]
        },
        {
          "output_type": "stream",
          "name": "stderr",
          "text": [
            "\rValidating:   2%|\u258f         | 2/120 [00:01<01:06,  1.79it/s]"
          ]
        },
        {
          "output_type": "stream",
          "name": "stderr",
          "text": [
            "\rValidating:   2%|\u258e         | 3/120 [00:01<00:43,  2.68it/s]"
          ]
        },
        {
          "output_type": "stream",
          "name": "stderr",
          "text": [
            "\rValidating:   3%|\u258e         | 4/120 [00:01<00:33,  3.51it/s]"
          ]
        },
        {
          "output_type": "stream",
          "name": "stderr",
          "text": [
            "\rValidating:   4%|\u258d         | 5/120 [00:01<00:27,  4.22it/s]"
          ]
        },
        {
          "output_type": "stream",
          "name": "stderr",
          "text": [
            "\rValidating:   5%|\u258c         | 6/120 [00:01<00:23,  4.81it/s]"
          ]
        },
        {
          "output_type": "stream",
          "name": "stderr",
          "text": [
            "\rValidating:   6%|\u258c         | 7/120 [00:02<00:21,  5.29it/s]"
          ]
        },
        {
          "output_type": "stream",
          "name": "stderr",
          "text": [
            "\rValidating:   7%|\u258b         | 8/120 [00:02<00:19,  5.64it/s]"
          ]
        },
        {
          "output_type": "stream",
          "name": "stderr",
          "text": [
            "\rValidating:   8%|\u258a         | 9/120 [00:02<00:18,  5.92it/s]"
          ]
        },
        {
          "output_type": "stream",
          "name": "stderr",
          "text": [
            "\rValidating:   8%|\u258a         | 10/120 [00:02<00:17,  6.11it/s]"
          ]
        },
        {
          "output_type": "stream",
          "name": "stderr",
          "text": [
            "\rValidating:   9%|\u2589         | 11/120 [00:02<00:17,  6.25it/s]"
          ]
        },
        {
          "output_type": "stream",
          "name": "stderr",
          "text": [
            "\rValidating:  10%|\u2588         | 12/120 [00:02<00:16,  6.36it/s]"
          ]
        },
        {
          "output_type": "stream",
          "name": "stderr",
          "text": [
            "\rValidating:  11%|\u2588         | 13/120 [00:02<00:16,  6.43it/s]"
          ]
        },
        {
          "output_type": "stream",
          "name": "stderr",
          "text": [
            "\rValidating:  12%|\u2588\u258f        | 14/120 [00:03<00:16,  6.48it/s]"
          ]
        },
        {
          "output_type": "stream",
          "name": "stderr",
          "text": [
            "\rValidating:  12%|\u2588\u258e        | 15/120 [00:03<00:16,  6.51it/s]"
          ]
        },
        {
          "output_type": "stream",
          "name": "stderr",
          "text": [
            "\rValidating:  13%|\u2588\u258e        | 16/120 [00:03<00:15,  6.53it/s]"
          ]
        },
        {
          "output_type": "stream",
          "name": "stderr",
          "text": [
            "\rValidating:  14%|\u2588\u258d        | 17/120 [00:03<00:15,  6.56it/s]"
          ]
        },
        {
          "output_type": "stream",
          "name": "stderr",
          "text": [
            "\rValidating:  15%|\u2588\u258c        | 18/120 [00:03<00:15,  6.57it/s]"
          ]
        },
        {
          "output_type": "stream",
          "name": "stderr",
          "text": [
            "\rValidating:  16%|\u2588\u258c        | 19/120 [00:03<00:15,  6.59it/s]"
          ]
        },
        {
          "output_type": "stream",
          "name": "stderr",
          "text": [
            "\rValidating:  17%|\u2588\u258b        | 20/120 [00:04<00:15,  6.59it/s]"
          ]
        },
        {
          "output_type": "stream",
          "name": "stderr",
          "text": [
            "\rValidating:  18%|\u2588\u258a        | 21/120 [00:04<00:15,  6.59it/s]"
          ]
        },
        {
          "output_type": "stream",
          "name": "stderr",
          "text": [
            "\rValidating:  18%|\u2588\u258a        | 22/120 [00:04<00:14,  6.59it/s]"
          ]
        },
        {
          "output_type": "stream",
          "name": "stderr",
          "text": [
            "\rValidating:  19%|\u2588\u2589        | 23/120 [00:04<00:14,  6.60it/s]"
          ]
        },
        {
          "output_type": "stream",
          "name": "stderr",
          "text": [
            "\rValidating:  20%|\u2588\u2588        | 24/120 [00:04<00:14,  6.60it/s]"
          ]
        },
        {
          "output_type": "stream",
          "name": "stderr",
          "text": [
            "\rValidating:  21%|\u2588\u2588        | 25/120 [00:04<00:14,  6.61it/s]"
          ]
        },
        {
          "output_type": "stream",
          "name": "stderr",
          "text": [
            "\rValidating:  22%|\u2588\u2588\u258f       | 26/120 [00:04<00:14,  6.62it/s]"
          ]
        },
        {
          "output_type": "stream",
          "name": "stderr",
          "text": [
            "\rValidating:  22%|\u2588\u2588\u258e       | 27/120 [00:05<00:14,  6.62it/s]"
          ]
        },
        {
          "output_type": "stream",
          "name": "stderr",
          "text": [
            "\rValidating:  23%|\u2588\u2588\u258e       | 28/120 [00:05<00:13,  6.63it/s]"
          ]
        },
        {
          "output_type": "stream",
          "name": "stderr",
          "text": [
            "\rValidating:  24%|\u2588\u2588\u258d       | 29/120 [00:05<00:13,  6.63it/s]"
          ]
        },
        {
          "output_type": "stream",
          "name": "stderr",
          "text": [
            "\rValidating:  25%|\u2588\u2588\u258c       | 30/120 [00:05<00:13,  6.63it/s]"
          ]
        },
        {
          "output_type": "stream",
          "name": "stderr",
          "text": [
            "\rValidating:  26%|\u2588\u2588\u258c       | 31/120 [00:05<00:13,  6.63it/s]"
          ]
        },
        {
          "output_type": "stream",
          "name": "stderr",
          "text": [
            "\rValidating:  27%|\u2588\u2588\u258b       | 32/120 [00:05<00:13,  6.62it/s]"
          ]
        },
        {
          "output_type": "stream",
          "name": "stderr",
          "text": [
            "\rValidating:  28%|\u2588\u2588\u258a       | 33/120 [00:05<00:13,  6.63it/s]"
          ]
        },
        {
          "output_type": "stream",
          "name": "stderr",
          "text": [
            "\rValidating:  28%|\u2588\u2588\u258a       | 34/120 [00:06<00:12,  6.62it/s]"
          ]
        },
        {
          "output_type": "stream",
          "name": "stderr",
          "text": [
            "\rValidating:  29%|\u2588\u2588\u2589       | 35/120 [00:06<00:12,  6.63it/s]"
          ]
        },
        {
          "output_type": "stream",
          "name": "stderr",
          "text": [
            "\rValidating:  30%|\u2588\u2588\u2588       | 36/120 [00:06<00:12,  6.62it/s]"
          ]
        },
        {
          "output_type": "stream",
          "name": "stderr",
          "text": [
            "\rValidating:  31%|\u2588\u2588\u2588       | 37/120 [00:06<00:12,  6.63it/s]"
          ]
        },
        {
          "output_type": "stream",
          "name": "stderr",
          "text": [
            "\rValidating:  32%|\u2588\u2588\u2588\u258f      | 38/120 [00:06<00:12,  6.62it/s]"
          ]
        },
        {
          "output_type": "stream",
          "name": "stderr",
          "text": [
            "\rValidating:  32%|\u2588\u2588\u2588\u258e      | 39/120 [00:06<00:12,  6.62it/s]"
          ]
        },
        {
          "output_type": "stream",
          "name": "stderr",
          "text": [
            "\rValidating:  33%|\u2588\u2588\u2588\u258e      | 40/120 [00:07<00:12,  6.61it/s]"
          ]
        },
        {
          "output_type": "stream",
          "name": "stderr",
          "text": [
            "\rValidating:  34%|\u2588\u2588\u2588\u258d      | 41/120 [00:07<00:11,  6.60it/s]"
          ]
        },
        {
          "output_type": "stream",
          "name": "stderr",
          "text": [
            "\rValidating:  35%|\u2588\u2588\u2588\u258c      | 42/120 [00:07<00:11,  6.60it/s]"
          ]
        },
        {
          "output_type": "stream",
          "name": "stderr",
          "text": [
            "\rValidating:  36%|\u2588\u2588\u2588\u258c      | 43/120 [00:07<00:11,  6.60it/s]"
          ]
        },
        {
          "output_type": "stream",
          "name": "stderr",
          "text": [
            "\rValidating:  37%|\u2588\u2588\u2588\u258b      | 44/120 [00:07<00:11,  6.60it/s]"
          ]
        },
        {
          "output_type": "stream",
          "name": "stderr",
          "text": [
            "\rValidating:  38%|\u2588\u2588\u2588\u258a      | 45/120 [00:07<00:11,  6.60it/s]"
          ]
        },
        {
          "output_type": "stream",
          "name": "stderr",
          "text": [
            "\rValidating:  38%|\u2588\u2588\u2588\u258a      | 46/120 [00:07<00:11,  6.59it/s]"
          ]
        },
        {
          "output_type": "stream",
          "name": "stderr",
          "text": [
            "\rValidating:  39%|\u2588\u2588\u2588\u2589      | 47/120 [00:08<00:11,  6.60it/s]"
          ]
        },
        {
          "output_type": "stream",
          "name": "stderr",
          "text": [
            "\rValidating:  40%|\u2588\u2588\u2588\u2588      | 48/120 [00:08<00:10,  6.60it/s]"
          ]
        },
        {
          "output_type": "stream",
          "name": "stderr",
          "text": [
            "\rValidating:  41%|\u2588\u2588\u2588\u2588      | 49/120 [00:08<00:10,  6.60it/s]"
          ]
        },
        {
          "output_type": "stream",
          "name": "stderr",
          "text": [
            "\rValidating:  42%|\u2588\u2588\u2588\u2588\u258f     | 50/120 [00:08<00:10,  6.59it/s]"
          ]
        },
        {
          "output_type": "stream",
          "name": "stderr",
          "text": [
            "\rValidating:  42%|\u2588\u2588\u2588\u2588\u258e     | 51/120 [00:08<00:10,  6.60it/s]"
          ]
        },
        {
          "output_type": "stream",
          "name": "stderr",
          "text": [
            "\rValidating:  43%|\u2588\u2588\u2588\u2588\u258e     | 52/120 [00:08<00:10,  6.59it/s]"
          ]
        },
        {
          "output_type": "stream",
          "name": "stderr",
          "text": [
            "\rValidating:  44%|\u2588\u2588\u2588\u2588\u258d     | 53/120 [00:09<00:10,  6.60it/s]"
          ]
        },
        {
          "output_type": "stream",
          "name": "stderr",
          "text": [
            "\rValidating:  45%|\u2588\u2588\u2588\u2588\u258c     | 54/120 [00:09<00:10,  6.59it/s]"
          ]
        },
        {
          "output_type": "stream",
          "name": "stderr",
          "text": [
            "\rValidating:  46%|\u2588\u2588\u2588\u2588\u258c     | 55/120 [00:09<00:09,  6.60it/s]"
          ]
        },
        {
          "output_type": "stream",
          "name": "stderr",
          "text": [
            "\rValidating:  47%|\u2588\u2588\u2588\u2588\u258b     | 56/120 [00:09<00:09,  6.60it/s]"
          ]
        },
        {
          "output_type": "stream",
          "name": "stderr",
          "text": [
            "\rValidating:  48%|\u2588\u2588\u2588\u2588\u258a     | 57/120 [00:09<00:09,  6.61it/s]"
          ]
        },
        {
          "output_type": "stream",
          "name": "stderr",
          "text": [
            "\rValidating:  48%|\u2588\u2588\u2588\u2588\u258a     | 58/120 [00:09<00:09,  6.60it/s]"
          ]
        },
        {
          "output_type": "stream",
          "name": "stderr",
          "text": [
            "\rValidating:  49%|\u2588\u2588\u2588\u2588\u2589     | 59/120 [00:09<00:09,  6.60it/s]"
          ]
        },
        {
          "output_type": "stream",
          "name": "stderr",
          "text": [
            "\rValidating:  50%|\u2588\u2588\u2588\u2588\u2588     | 60/120 [00:10<00:09,  6.59it/s]"
          ]
        },
        {
          "output_type": "stream",
          "name": "stderr",
          "text": [
            "\rValidating:  51%|\u2588\u2588\u2588\u2588\u2588     | 61/120 [00:10<00:08,  6.59it/s]"
          ]
        },
        {
          "output_type": "stream",
          "name": "stderr",
          "text": [
            "\rValidating:  52%|\u2588\u2588\u2588\u2588\u2588\u258f    | 62/120 [00:10<00:08,  6.59it/s]"
          ]
        },
        {
          "output_type": "stream",
          "name": "stderr",
          "text": [
            "\rValidating:  52%|\u2588\u2588\u2588\u2588\u2588\u258e    | 63/120 [00:10<00:08,  6.59it/s]"
          ]
        },
        {
          "output_type": "stream",
          "name": "stderr",
          "text": [
            "\rValidating:  53%|\u2588\u2588\u2588\u2588\u2588\u258e    | 64/120 [00:10<00:08,  6.59it/s]"
          ]
        },
        {
          "output_type": "stream",
          "name": "stderr",
          "text": [
            "\rValidating:  54%|\u2588\u2588\u2588\u2588\u2588\u258d    | 65/120 [00:10<00:08,  6.59it/s]"
          ]
        },
        {
          "output_type": "stream",
          "name": "stderr",
          "text": [
            "\rValidating:  55%|\u2588\u2588\u2588\u2588\u2588\u258c    | 66/120 [00:10<00:08,  6.60it/s]"
          ]
        },
        {
          "output_type": "stream",
          "name": "stderr",
          "text": [
            "\rValidating:  56%|\u2588\u2588\u2588\u2588\u2588\u258c    | 67/120 [00:11<00:08,  6.60it/s]"
          ]
        },
        {
          "output_type": "stream",
          "name": "stderr",
          "text": [
            "\rValidating:  57%|\u2588\u2588\u2588\u2588\u2588\u258b    | 68/120 [00:11<00:07,  6.60it/s]"
          ]
        },
        {
          "output_type": "stream",
          "name": "stderr",
          "text": [
            "\rValidating:  57%|\u2588\u2588\u2588\u2588\u2588\u258a    | 69/120 [00:11<00:07,  6.60it/s]"
          ]
        },
        {
          "output_type": "stream",
          "name": "stderr",
          "text": [
            "\rValidating:  58%|\u2588\u2588\u2588\u2588\u2588\u258a    | 70/120 [00:11<00:07,  6.60it/s]"
          ]
        },
        {
          "output_type": "stream",
          "name": "stderr",
          "text": [
            "\rValidating:  59%|\u2588\u2588\u2588\u2588\u2588\u2589    | 71/120 [00:11<00:07,  6.59it/s]"
          ]
        },
        {
          "output_type": "stream",
          "name": "stderr",
          "text": [
            "\rValidating:  60%|\u2588\u2588\u2588\u2588\u2588\u2588    | 72/120 [00:11<00:07,  6.58it/s]"
          ]
        },
        {
          "output_type": "stream",
          "name": "stderr",
          "text": [
            "\rValidating:  61%|\u2588\u2588\u2588\u2588\u2588\u2588    | 73/120 [00:12<00:07,  6.59it/s]"
          ]
        },
        {
          "output_type": "stream",
          "name": "stderr",
          "text": [
            "\rValidating:  62%|\u2588\u2588\u2588\u2588\u2588\u2588\u258f   | 74/120 [00:12<00:06,  6.59it/s]"
          ]
        },
        {
          "output_type": "stream",
          "name": "stderr",
          "text": [
            "\rValidating:  62%|\u2588\u2588\u2588\u2588\u2588\u2588\u258e   | 75/120 [00:12<00:06,  6.61it/s]"
          ]
        },
        {
          "output_type": "stream",
          "name": "stderr",
          "text": [
            "\rValidating:  63%|\u2588\u2588\u2588\u2588\u2588\u2588\u258e   | 76/120 [00:12<00:06,  6.61it/s]"
          ]
        },
        {
          "output_type": "stream",
          "name": "stderr",
          "text": [
            "\rValidating:  64%|\u2588\u2588\u2588\u2588\u2588\u2588\u258d   | 77/120 [00:12<00:06,  6.62it/s]"
          ]
        },
        {
          "output_type": "stream",
          "name": "stderr",
          "text": [
            "\rValidating:  65%|\u2588\u2588\u2588\u2588\u2588\u2588\u258c   | 78/120 [00:12<00:06,  6.61it/s]"
          ]
        },
        {
          "output_type": "stream",
          "name": "stderr",
          "text": [
            "\rValidating:  66%|\u2588\u2588\u2588\u2588\u2588\u2588\u258c   | 79/120 [00:12<00:06,  6.60it/s]"
          ]
        },
        {
          "output_type": "stream",
          "name": "stderr",
          "text": [
            "\rValidating:  67%|\u2588\u2588\u2588\u2588\u2588\u2588\u258b   | 80/120 [00:13<00:06,  6.60it/s]"
          ]
        },
        {
          "output_type": "stream",
          "name": "stderr",
          "text": [
            "\rValidating:  68%|\u2588\u2588\u2588\u2588\u2588\u2588\u258a   | 81/120 [00:13<00:05,  6.59it/s]"
          ]
        },
        {
          "output_type": "stream",
          "name": "stderr",
          "text": [
            "\rValidating:  68%|\u2588\u2588\u2588\u2588\u2588\u2588\u258a   | 82/120 [00:13<00:05,  6.60it/s]"
          ]
        },
        {
          "output_type": "stream",
          "name": "stderr",
          "text": [
            "\rValidating:  69%|\u2588\u2588\u2588\u2588\u2588\u2588\u2589   | 83/120 [00:13<00:05,  6.59it/s]"
          ]
        },
        {
          "output_type": "stream",
          "name": "stderr",
          "text": [
            "\rValidating:  70%|\u2588\u2588\u2588\u2588\u2588\u2588\u2588   | 84/120 [00:13<00:05,  6.59it/s]"
          ]
        },
        {
          "output_type": "stream",
          "name": "stderr",
          "text": [
            "\rValidating:  71%|\u2588\u2588\u2588\u2588\u2588\u2588\u2588   | 85/120 [00:13<00:05,  6.59it/s]"
          ]
        },
        {
          "output_type": "stream",
          "name": "stderr",
          "text": [
            "\rValidating:  72%|\u2588\u2588\u2588\u2588\u2588\u2588\u2588\u258f  | 86/120 [00:14<00:05,  6.58it/s]"
          ]
        },
        {
          "output_type": "stream",
          "name": "stderr",
          "text": [
            "\rValidating:  72%|\u2588\u2588\u2588\u2588\u2588\u2588\u2588\u258e  | 87/120 [00:14<00:05,  6.59it/s]"
          ]
        },
        {
          "output_type": "stream",
          "name": "stderr",
          "text": [
            "\rValidating:  73%|\u2588\u2588\u2588\u2588\u2588\u2588\u2588\u258e  | 88/120 [00:14<00:04,  6.60it/s]"
          ]
        },
        {
          "output_type": "stream",
          "name": "stderr",
          "text": [
            "\rValidating:  74%|\u2588\u2588\u2588\u2588\u2588\u2588\u2588\u258d  | 89/120 [00:14<00:04,  6.61it/s]"
          ]
        },
        {
          "output_type": "stream",
          "name": "stderr",
          "text": [
            "\rValidating:  75%|\u2588\u2588\u2588\u2588\u2588\u2588\u2588\u258c  | 90/120 [00:14<00:04,  6.60it/s]"
          ]
        },
        {
          "output_type": "stream",
          "name": "stderr",
          "text": [
            "\rValidating:  76%|\u2588\u2588\u2588\u2588\u2588\u2588\u2588\u258c  | 91/120 [00:14<00:04,  6.60it/s]"
          ]
        },
        {
          "output_type": "stream",
          "name": "stderr",
          "text": [
            "\rValidating:  77%|\u2588\u2588\u2588\u2588\u2588\u2588\u2588\u258b  | 92/120 [00:14<00:04,  6.60it/s]"
          ]
        },
        {
          "output_type": "stream",
          "name": "stderr",
          "text": [
            "\rValidating:  78%|\u2588\u2588\u2588\u2588\u2588\u2588\u2588\u258a  | 93/120 [00:15<00:04,  6.60it/s]"
          ]
        },
        {
          "output_type": "stream",
          "name": "stderr",
          "text": [
            "\rValidating:  78%|\u2588\u2588\u2588\u2588\u2588\u2588\u2588\u258a  | 94/120 [00:15<00:03,  6.60it/s]"
          ]
        },
        {
          "output_type": "stream",
          "name": "stderr",
          "text": [
            "\rValidating:  79%|\u2588\u2588\u2588\u2588\u2588\u2588\u2588\u2589  | 95/120 [00:15<00:03,  6.59it/s]"
          ]
        },
        {
          "output_type": "stream",
          "name": "stderr",
          "text": [
            "\rValidating:  80%|\u2588\u2588\u2588\u2588\u2588\u2588\u2588\u2588  | 96/120 [00:15<00:03,  6.59it/s]"
          ]
        },
        {
          "output_type": "stream",
          "name": "stderr",
          "text": [
            "\rValidating:  81%|\u2588\u2588\u2588\u2588\u2588\u2588\u2588\u2588  | 97/120 [00:15<00:03,  6.60it/s]"
          ]
        },
        {
          "output_type": "stream",
          "name": "stderr",
          "text": [
            "\rValidating:  82%|\u2588\u2588\u2588\u2588\u2588\u2588\u2588\u2588\u258f | 98/120 [00:15<00:03,  6.59it/s]"
          ]
        },
        {
          "output_type": "stream",
          "name": "stderr",
          "text": [
            "\rValidating:  82%|\u2588\u2588\u2588\u2588\u2588\u2588\u2588\u2588\u258e | 99/120 [00:15<00:03,  6.60it/s]"
          ]
        },
        {
          "output_type": "stream",
          "name": "stderr",
          "text": [
            "\rValidating:  83%|\u2588\u2588\u2588\u2588\u2588\u2588\u2588\u2588\u258e | 100/120 [00:16<00:03,  6.59it/s]"
          ]
        },
        {
          "output_type": "stream",
          "name": "stderr",
          "text": [
            "\rValidating:  84%|\u2588\u2588\u2588\u2588\u2588\u2588\u2588\u2588\u258d | 101/120 [00:16<00:02,  6.59it/s]"
          ]
        },
        {
          "output_type": "stream",
          "name": "stderr",
          "text": [
            "\rValidating:  85%|\u2588\u2588\u2588\u2588\u2588\u2588\u2588\u2588\u258c | 102/120 [00:16<00:02,  6.59it/s]"
          ]
        },
        {
          "output_type": "stream",
          "name": "stderr",
          "text": [
            "\rValidating:  86%|\u2588\u2588\u2588\u2588\u2588\u2588\u2588\u2588\u258c | 103/120 [00:16<00:02,  6.58it/s]"
          ]
        },
        {
          "output_type": "stream",
          "name": "stderr",
          "text": [
            "\rValidating:  87%|\u2588\u2588\u2588\u2588\u2588\u2588\u2588\u2588\u258b | 104/120 [00:16<00:02,  6.58it/s]"
          ]
        },
        {
          "output_type": "stream",
          "name": "stderr",
          "text": [
            "\rValidating:  88%|\u2588\u2588\u2588\u2588\u2588\u2588\u2588\u2588\u258a | 105/120 [00:16<00:02,  6.58it/s]"
          ]
        },
        {
          "output_type": "stream",
          "name": "stderr",
          "text": [
            "\rValidating:  88%|\u2588\u2588\u2588\u2588\u2588\u2588\u2588\u2588\u258a | 106/120 [00:17<00:02,  6.56it/s]"
          ]
        },
        {
          "output_type": "stream",
          "name": "stderr",
          "text": [
            "\rValidating:  89%|\u2588\u2588\u2588\u2588\u2588\u2588\u2588\u2588\u2589 | 107/120 [00:17<00:01,  6.57it/s]"
          ]
        },
        {
          "output_type": "stream",
          "name": "stderr",
          "text": [
            "\rValidating:  90%|\u2588\u2588\u2588\u2588\u2588\u2588\u2588\u2588\u2588 | 108/120 [00:17<00:01,  6.57it/s]"
          ]
        },
        {
          "output_type": "stream",
          "name": "stderr",
          "text": [
            "\rValidating:  91%|\u2588\u2588\u2588\u2588\u2588\u2588\u2588\u2588\u2588 | 109/120 [00:17<00:01,  6.58it/s]"
          ]
        },
        {
          "output_type": "stream",
          "name": "stderr",
          "text": [
            "\rValidating:  92%|\u2588\u2588\u2588\u2588\u2588\u2588\u2588\u2588\u2588\u258f| 110/120 [00:17<00:01,  6.58it/s]"
          ]
        },
        {
          "output_type": "stream",
          "name": "stderr",
          "text": [
            "\rValidating:  92%|\u2588\u2588\u2588\u2588\u2588\u2588\u2588\u2588\u2588\u258e| 111/120 [00:17<00:01,  6.59it/s]"
          ]
        },
        {
          "output_type": "stream",
          "name": "stderr",
          "text": [
            "\rValidating:  93%|\u2588\u2588\u2588\u2588\u2588\u2588\u2588\u2588\u2588\u258e| 112/120 [00:17<00:01,  6.59it/s]"
          ]
        },
        {
          "output_type": "stream",
          "name": "stderr",
          "text": [
            "\rValidating:  94%|\u2588\u2588\u2588\u2588\u2588\u2588\u2588\u2588\u2588\u258d| 113/120 [00:18<00:01,  6.60it/s]"
          ]
        },
        {
          "output_type": "stream",
          "name": "stderr",
          "text": [
            "\rValidating:  95%|\u2588\u2588\u2588\u2588\u2588\u2588\u2588\u2588\u2588\u258c| 114/120 [00:18<00:00,  6.61it/s]"
          ]
        },
        {
          "output_type": "stream",
          "name": "stderr",
          "text": [
            "\rValidating:  96%|\u2588\u2588\u2588\u2588\u2588\u2588\u2588\u2588\u2588\u258c| 115/120 [00:18<00:00,  6.61it/s]"
          ]
        },
        {
          "output_type": "stream",
          "name": "stderr",
          "text": [
            "\rValidating:  97%|\u2588\u2588\u2588\u2588\u2588\u2588\u2588\u2588\u2588\u258b| 116/120 [00:18<00:00,  6.62it/s]"
          ]
        },
        {
          "output_type": "stream",
          "name": "stderr",
          "text": [
            "\rValidating:  98%|\u2588\u2588\u2588\u2588\u2588\u2588\u2588\u2588\u2588\u258a| 117/120 [00:18<00:00,  6.63it/s]"
          ]
        },
        {
          "output_type": "stream",
          "name": "stderr",
          "text": [
            "\rValidating:  98%|\u2588\u2588\u2588\u2588\u2588\u2588\u2588\u2588\u2588\u258a| 118/120 [00:18<00:00,  6.64it/s]"
          ]
        },
        {
          "output_type": "stream",
          "name": "stderr",
          "text": [
            "\rValidating:  99%|\u2588\u2588\u2588\u2588\u2588\u2588\u2588\u2588\u2588\u2589| 119/120 [00:19<00:00,  6.64it/s]"
          ]
        },
        {
          "output_type": "stream",
          "name": "stderr",
          "text": [
            "\rValidating: 100%|\u2588\u2588\u2588\u2588\u2588\u2588\u2588\u2588\u2588\u2588| 120/120 [00:19<00:00,  6.28it/s]"
          ]
        },
        {
          "output_type": "stream",
          "name": "stderr",
          "text": [
            "\n"
          ]
        },
        {
          "output_type": "stream",
          "name": "stdout",
          "text": [
            "Epoch 13/20 - Time: 51s - Train Loss: 0.0681 - Val F0.5: 0.7603 @ thr=0.20 (P: 0.8759, R: 0.4976)\n"
          ]
        },
        {
          "output_type": "stream",
          "name": "stdout",
          "text": [
            "  >> New best score! Model saved to best_model_fold_2.pth\n"
          ]
        },
        {
          "output_type": "stream",
          "name": "stderr",
          "text": [
            "\rTraining:   0%|          | 0/35 [00:00<?, ?it/s]"
          ]
        },
        {
          "output_type": "stream",
          "name": "stderr",
          "text": [
            "\rTraining:   3%|\u258e         | 1/35 [00:01<01:00,  1.77s/it]"
          ]
        },
        {
          "output_type": "stream",
          "name": "stderr",
          "text": [
            "\rTraining:   6%|\u258c         | 2/35 [00:02<00:29,  1.12it/s]"
          ]
        },
        {
          "output_type": "stream",
          "name": "stderr",
          "text": [
            "\rTraining:   9%|\u258a         | 3/35 [00:02<00:19,  1.63it/s]"
          ]
        },
        {
          "output_type": "stream",
          "name": "stderr",
          "text": [
            "\rTraining:  11%|\u2588\u258f        | 4/35 [00:02<00:14,  2.08it/s]"
          ]
        },
        {
          "output_type": "stream",
          "name": "stderr",
          "text": [
            "\rTraining:  14%|\u2588\u258d        | 5/35 [00:02<00:12,  2.45it/s]"
          ]
        },
        {
          "output_type": "stream",
          "name": "stderr",
          "text": [
            "\rTraining:  17%|\u2588\u258b        | 6/35 [00:03<00:10,  2.75it/s]"
          ]
        },
        {
          "output_type": "stream",
          "name": "stderr",
          "text": [
            "\rTraining:  20%|\u2588\u2588        | 7/35 [00:03<00:09,  2.98it/s]"
          ]
        },
        {
          "output_type": "stream",
          "name": "stderr",
          "text": [
            "\rTraining:  23%|\u2588\u2588\u258e       | 8/35 [00:03<00:08,  3.15it/s]"
          ]
        },
        {
          "output_type": "stream",
          "name": "stderr",
          "text": [
            "\rTraining:  26%|\u2588\u2588\u258c       | 9/35 [00:03<00:07,  3.28it/s]"
          ]
        },
        {
          "output_type": "stream",
          "name": "stderr",
          "text": [
            "\rTraining:  29%|\u2588\u2588\u258a       | 10/35 [00:04<00:07,  3.37it/s]"
          ]
        },
        {
          "output_type": "stream",
          "name": "stderr",
          "text": [
            "\rTraining:  31%|\u2588\u2588\u2588\u258f      | 11/35 [00:04<00:06,  3.44it/s]"
          ]
        },
        {
          "output_type": "stream",
          "name": "stderr",
          "text": [
            "\rTraining:  34%|\u2588\u2588\u2588\u258d      | 12/35 [00:04<00:06,  3.49it/s]"
          ]
        },
        {
          "output_type": "stream",
          "name": "stderr",
          "text": [
            "\rTraining:  37%|\u2588\u2588\u2588\u258b      | 13/35 [00:05<00:06,  3.53it/s]"
          ]
        },
        {
          "output_type": "stream",
          "name": "stderr",
          "text": [
            "\rTraining:  40%|\u2588\u2588\u2588\u2588      | 14/35 [00:05<00:05,  3.55it/s]"
          ]
        },
        {
          "output_type": "stream",
          "name": "stderr",
          "text": [
            "\rTraining:  43%|\u2588\u2588\u2588\u2588\u258e     | 15/35 [00:05<00:05,  3.57it/s]"
          ]
        },
        {
          "output_type": "stream",
          "name": "stderr",
          "text": [
            "\rTraining:  46%|\u2588\u2588\u2588\u2588\u258c     | 16/35 [00:05<00:05,  3.58it/s]"
          ]
        },
        {
          "output_type": "stream",
          "name": "stderr",
          "text": [
            "\rTraining:  49%|\u2588\u2588\u2588\u2588\u258a     | 17/35 [00:06<00:05,  3.60it/s]"
          ]
        },
        {
          "output_type": "stream",
          "name": "stderr",
          "text": [
            "\rTraining:  51%|\u2588\u2588\u2588\u2588\u2588\u258f    | 18/35 [00:06<00:04,  3.60it/s]"
          ]
        },
        {
          "output_type": "stream",
          "name": "stderr",
          "text": [
            "\rTraining:  54%|\u2588\u2588\u2588\u2588\u2588\u258d    | 19/35 [00:06<00:04,  3.61it/s]"
          ]
        },
        {
          "output_type": "stream",
          "name": "stderr",
          "text": [
            "\rTraining:  57%|\u2588\u2588\u2588\u2588\u2588\u258b    | 20/35 [00:07<00:04,  3.61it/s]"
          ]
        },
        {
          "output_type": "stream",
          "name": "stderr",
          "text": [
            "\rTraining:  60%|\u2588\u2588\u2588\u2588\u2588\u2588    | 21/35 [00:07<00:03,  3.61it/s]"
          ]
        },
        {
          "output_type": "stream",
          "name": "stderr",
          "text": [
            "\rTraining:  63%|\u2588\u2588\u2588\u2588\u2588\u2588\u258e   | 22/35 [00:07<00:03,  3.61it/s]"
          ]
        },
        {
          "output_type": "stream",
          "name": "stderr",
          "text": [
            "\rTraining:  66%|\u2588\u2588\u2588\u2588\u2588\u2588\u258c   | 23/35 [00:07<00:03,  3.62it/s]"
          ]
        },
        {
          "output_type": "stream",
          "name": "stderr",
          "text": [
            "\rTraining:  69%|\u2588\u2588\u2588\u2588\u2588\u2588\u258a   | 24/35 [00:08<00:03,  3.62it/s]"
          ]
        },
        {
          "output_type": "stream",
          "name": "stderr",
          "text": [
            "\rTraining:  71%|\u2588\u2588\u2588\u2588\u2588\u2588\u2588\u258f  | 25/35 [00:08<00:02,  3.62it/s]"
          ]
        },
        {
          "output_type": "stream",
          "name": "stderr",
          "text": [
            "\rTraining:  74%|\u2588\u2588\u2588\u2588\u2588\u2588\u2588\u258d  | 26/35 [00:08<00:02,  3.61it/s]"
          ]
        },
        {
          "output_type": "stream",
          "name": "stderr",
          "text": [
            "\rTraining:  77%|\u2588\u2588\u2588\u2588\u2588\u2588\u2588\u258b  | 27/35 [00:08<00:02,  3.61it/s]"
          ]
        },
        {
          "output_type": "stream",
          "name": "stderr",
          "text": [
            "\rTraining:  80%|\u2588\u2588\u2588\u2588\u2588\u2588\u2588\u2588  | 28/35 [00:09<00:01,  3.62it/s]"
          ]
        },
        {
          "output_type": "stream",
          "name": "stderr",
          "text": [
            "\rTraining:  83%|\u2588\u2588\u2588\u2588\u2588\u2588\u2588\u2588\u258e | 29/35 [00:09<00:01,  3.62it/s]"
          ]
        },
        {
          "output_type": "stream",
          "name": "stderr",
          "text": [
            "\rTraining:  86%|\u2588\u2588\u2588\u2588\u2588\u2588\u2588\u2588\u258c | 30/35 [00:09<00:01,  3.62it/s]"
          ]
        },
        {
          "output_type": "stream",
          "name": "stderr",
          "text": [
            "\rTraining:  89%|\u2588\u2588\u2588\u2588\u2588\u2588\u2588\u2588\u258a | 31/35 [00:10<00:01,  3.62it/s]"
          ]
        },
        {
          "output_type": "stream",
          "name": "stderr",
          "text": [
            "\rTraining:  91%|\u2588\u2588\u2588\u2588\u2588\u2588\u2588\u2588\u2588\u258f| 32/35 [00:10<00:00,  3.62it/s]"
          ]
        },
        {
          "output_type": "stream",
          "name": "stderr",
          "text": [
            "\rTraining:  94%|\u2588\u2588\u2588\u2588\u2588\u2588\u2588\u2588\u2588\u258d| 33/35 [00:10<00:00,  3.62it/s]"
          ]
        },
        {
          "output_type": "stream",
          "name": "stderr",
          "text": [
            "\rTraining:  97%|\u2588\u2588\u2588\u2588\u2588\u2588\u2588\u2588\u2588\u258b| 34/35 [00:10<00:00,  3.63it/s]"
          ]
        },
        {
          "output_type": "stream",
          "name": "stderr",
          "text": [
            "\rTraining: 100%|\u2588\u2588\u2588\u2588\u2588\u2588\u2588\u2588\u2588\u2588| 35/35 [00:11<00:00,  3.63it/s]"
          ]
        },
        {
          "output_type": "stream",
          "name": "stderr",
          "text": [
            "\rTraining: 100%|\u2588\u2588\u2588\u2588\u2588\u2588\u2588\u2588\u2588\u2588| 35/35 [00:11<00:00,  3.11it/s]"
          ]
        },
        {
          "output_type": "stream",
          "name": "stderr",
          "text": [
            "\n"
          ]
        },
        {
          "output_type": "stream",
          "name": "stderr",
          "text": [
            "\rValidating:   0%|          | 0/120 [00:00<?, ?it/s]"
          ]
        },
        {
          "output_type": "stream",
          "name": "stderr",
          "text": [
            "\rValidating:   1%|          | 1/120 [00:00<01:55,  1.03it/s]"
          ]
        },
        {
          "output_type": "stream",
          "name": "stderr",
          "text": [
            "\rValidating:   2%|\u258f         | 2/120 [00:01<01:01,  1.91it/s]"
          ]
        },
        {
          "output_type": "stream",
          "name": "stderr",
          "text": [
            "\rValidating:   2%|\u258e         | 3/120 [00:01<00:41,  2.83it/s]"
          ]
        },
        {
          "output_type": "stream",
          "name": "stderr",
          "text": [
            "\rValidating:   3%|\u258e         | 4/120 [00:01<00:31,  3.64it/s]"
          ]
        },
        {
          "output_type": "stream",
          "name": "stderr",
          "text": [
            "\rValidating:   4%|\u258d         | 5/120 [00:01<00:26,  4.35it/s]"
          ]
        },
        {
          "output_type": "stream",
          "name": "stderr",
          "text": [
            "\rValidating:   5%|\u258c         | 6/120 [00:01<00:23,  4.92it/s]"
          ]
        },
        {
          "output_type": "stream",
          "name": "stderr",
          "text": [
            "\rValidating:   6%|\u258c         | 7/120 [00:01<00:21,  5.37it/s]"
          ]
        },
        {
          "output_type": "stream",
          "name": "stderr",
          "text": [
            "\rValidating:   7%|\u258b         | 8/120 [00:02<00:19,  5.70it/s]"
          ]
        },
        {
          "output_type": "stream",
          "name": "stderr",
          "text": [
            "\rValidating:   8%|\u258a         | 9/120 [00:02<00:18,  5.96it/s]"
          ]
        },
        {
          "output_type": "stream",
          "name": "stderr",
          "text": [
            "\rValidating:   8%|\u258a         | 10/120 [00:02<00:17,  6.14it/s]"
          ]
        },
        {
          "output_type": "stream",
          "name": "stderr",
          "text": [
            "\rValidating:   9%|\u2589         | 11/120 [00:02<00:17,  6.27it/s]"
          ]
        },
        {
          "output_type": "stream",
          "name": "stderr",
          "text": [
            "\rValidating:  10%|\u2588         | 12/120 [00:02<00:16,  6.36it/s]"
          ]
        },
        {
          "output_type": "stream",
          "name": "stderr",
          "text": [
            "\rValidating:  11%|\u2588         | 13/120 [00:02<00:16,  6.44it/s]"
          ]
        },
        {
          "output_type": "stream",
          "name": "stderr",
          "text": [
            "\rValidating:  12%|\u2588\u258f        | 14/120 [00:03<00:16,  6.48it/s]"
          ]
        },
        {
          "output_type": "stream",
          "name": "stderr",
          "text": [
            "\rValidating:  12%|\u2588\u258e        | 15/120 [00:03<00:16,  6.52it/s]"
          ]
        },
        {
          "output_type": "stream",
          "name": "stderr",
          "text": [
            "\rValidating:  13%|\u2588\u258e        | 16/120 [00:03<00:15,  6.53it/s]"
          ]
        },
        {
          "output_type": "stream",
          "name": "stderr",
          "text": [
            "\rValidating:  14%|\u2588\u258d        | 17/120 [00:03<00:15,  6.56it/s]"
          ]
        },
        {
          "output_type": "stream",
          "name": "stderr",
          "text": [
            "\rValidating:  15%|\u2588\u258c        | 18/120 [00:03<00:15,  6.57it/s]"
          ]
        },
        {
          "output_type": "stream",
          "name": "stderr",
          "text": [
            "\rValidating:  16%|\u2588\u258c        | 19/120 [00:03<00:15,  6.58it/s]"
          ]
        },
        {
          "output_type": "stream",
          "name": "stderr",
          "text": [
            "\rValidating:  17%|\u2588\u258b        | 20/120 [00:03<00:15,  6.58it/s]"
          ]
        },
        {
          "output_type": "stream",
          "name": "stderr",
          "text": [
            "\rValidating:  18%|\u2588\u258a        | 21/120 [00:04<00:15,  6.60it/s]"
          ]
        },
        {
          "output_type": "stream",
          "name": "stderr",
          "text": [
            "\rValidating:  18%|\u2588\u258a        | 22/120 [00:04<00:14,  6.59it/s]"
          ]
        },
        {
          "output_type": "stream",
          "name": "stderr",
          "text": [
            "\rValidating:  19%|\u2588\u2589        | 23/120 [00:04<00:14,  6.60it/s]"
          ]
        },
        {
          "output_type": "stream",
          "name": "stderr",
          "text": [
            "\rValidating:  20%|\u2588\u2588        | 24/120 [00:04<00:14,  6.58it/s]"
          ]
        },
        {
          "output_type": "stream",
          "name": "stderr",
          "text": [
            "\rValidating:  21%|\u2588\u2588        | 25/120 [00:04<00:14,  6.59it/s]"
          ]
        },
        {
          "output_type": "stream",
          "name": "stderr",
          "text": [
            "\rValidating:  22%|\u2588\u2588\u258f       | 26/120 [00:04<00:14,  6.59it/s]"
          ]
        },
        {
          "output_type": "stream",
          "name": "stderr",
          "text": [
            "\rValidating:  22%|\u2588\u2588\u258e       | 27/120 [00:04<00:14,  6.60it/s]"
          ]
        },
        {
          "output_type": "stream",
          "name": "stderr",
          "text": [
            "\rValidating:  23%|\u2588\u2588\u258e       | 28/120 [00:05<00:13,  6.59it/s]"
          ]
        },
        {
          "output_type": "stream",
          "name": "stderr",
          "text": [
            "\rValidating:  24%|\u2588\u2588\u258d       | 29/120 [00:05<00:13,  6.59it/s]"
          ]
        },
        {
          "output_type": "stream",
          "name": "stderr",
          "text": [
            "\rValidating:  25%|\u2588\u2588\u258c       | 30/120 [00:05<00:13,  6.59it/s]"
          ]
        },
        {
          "output_type": "stream",
          "name": "stderr",
          "text": [
            "\rValidating:  26%|\u2588\u2588\u258c       | 31/120 [00:05<00:13,  6.60it/s]"
          ]
        },
        {
          "output_type": "stream",
          "name": "stderr",
          "text": [
            "\rValidating:  27%|\u2588\u2588\u258b       | 32/120 [00:05<00:13,  6.59it/s]"
          ]
        },
        {
          "output_type": "stream",
          "name": "stderr",
          "text": [
            "\rValidating:  28%|\u2588\u2588\u258a       | 33/120 [00:05<00:13,  6.60it/s]"
          ]
        },
        {
          "output_type": "stream",
          "name": "stderr",
          "text": [
            "\rValidating:  28%|\u2588\u2588\u258a       | 34/120 [00:06<00:13,  6.59it/s]"
          ]
        },
        {
          "output_type": "stream",
          "name": "stderr",
          "text": [
            "\rValidating:  29%|\u2588\u2588\u2589       | 35/120 [00:06<00:12,  6.60it/s]"
          ]
        },
        {
          "output_type": "stream",
          "name": "stderr",
          "text": [
            "\rValidating:  30%|\u2588\u2588\u2588       | 36/120 [00:06<00:12,  6.58it/s]"
          ]
        },
        {
          "output_type": "stream",
          "name": "stderr",
          "text": [
            "\rValidating:  31%|\u2588\u2588\u2588       | 37/120 [00:06<00:12,  6.59it/s]"
          ]
        },
        {
          "output_type": "stream",
          "name": "stderr",
          "text": [
            "\rValidating:  32%|\u2588\u2588\u2588\u258f      | 38/120 [00:06<00:12,  6.59it/s]"
          ]
        },
        {
          "output_type": "stream",
          "name": "stderr",
          "text": [
            "\rValidating:  32%|\u2588\u2588\u2588\u258e      | 39/120 [00:06<00:12,  6.59it/s]"
          ]
        },
        {
          "output_type": "stream",
          "name": "stderr",
          "text": [
            "\rValidating:  33%|\u2588\u2588\u2588\u258e      | 40/120 [00:06<00:12,  6.59it/s]"
          ]
        },
        {
          "output_type": "stream",
          "name": "stderr",
          "text": [
            "\rValidating:  34%|\u2588\u2588\u2588\u258d      | 41/120 [00:07<00:11,  6.59it/s]"
          ]
        },
        {
          "output_type": "stream",
          "name": "stderr",
          "text": [
            "\rValidating:  35%|\u2588\u2588\u2588\u258c      | 42/120 [00:07<00:11,  6.58it/s]"
          ]
        },
        {
          "output_type": "stream",
          "name": "stderr",
          "text": [
            "\rValidating:  36%|\u2588\u2588\u2588\u258c      | 43/120 [00:07<00:11,  6.59it/s]"
          ]
        },
        {
          "output_type": "stream",
          "name": "stderr",
          "text": [
            "\rValidating:  37%|\u2588\u2588\u2588\u258b      | 44/120 [00:07<00:11,  6.58it/s]"
          ]
        },
        {
          "output_type": "stream",
          "name": "stderr",
          "text": [
            "\rValidating:  38%|\u2588\u2588\u2588\u258a      | 45/120 [00:07<00:11,  6.59it/s]"
          ]
        },
        {
          "output_type": "stream",
          "name": "stderr",
          "text": [
            "\rValidating:  38%|\u2588\u2588\u2588\u258a      | 46/120 [00:07<00:11,  6.59it/s]"
          ]
        },
        {
          "output_type": "stream",
          "name": "stderr",
          "text": [
            "\rValidating:  39%|\u2588\u2588\u2588\u2589      | 47/120 [00:08<00:11,  6.59it/s]"
          ]
        },
        {
          "output_type": "stream",
          "name": "stderr",
          "text": [
            "\rValidating:  40%|\u2588\u2588\u2588\u2588      | 48/120 [00:08<00:10,  6.59it/s]"
          ]
        },
        {
          "output_type": "stream",
          "name": "stderr",
          "text": [
            "\rValidating:  41%|\u2588\u2588\u2588\u2588      | 49/120 [00:08<00:10,  6.59it/s]"
          ]
        },
        {
          "output_type": "stream",
          "name": "stderr",
          "text": [
            "\rValidating:  42%|\u2588\u2588\u2588\u2588\u258f     | 50/120 [00:08<00:10,  6.58it/s]"
          ]
        },
        {
          "output_type": "stream",
          "name": "stderr",
          "text": [
            "\rValidating:  42%|\u2588\u2588\u2588\u2588\u258e     | 51/120 [00:08<00:10,  6.58it/s]"
          ]
        },
        {
          "output_type": "stream",
          "name": "stderr",
          "text": [
            "\rValidating:  43%|\u2588\u2588\u2588\u2588\u258e     | 52/120 [00:08<00:10,  6.58it/s]"
          ]
        },
        {
          "output_type": "stream",
          "name": "stderr",
          "text": [
            "\rValidating:  44%|\u2588\u2588\u2588\u2588\u258d     | 53/120 [00:08<00:10,  6.60it/s]"
          ]
        },
        {
          "output_type": "stream",
          "name": "stderr",
          "text": [
            "\rValidating:  45%|\u2588\u2588\u2588\u2588\u258c     | 54/120 [00:09<00:10,  6.59it/s]"
          ]
        },
        {
          "output_type": "stream",
          "name": "stderr",
          "text": [
            "\rValidating:  46%|\u2588\u2588\u2588\u2588\u258c     | 55/120 [00:09<00:09,  6.60it/s]"
          ]
        },
        {
          "output_type": "stream",
          "name": "stderr",
          "text": [
            "\rValidating:  47%|\u2588\u2588\u2588\u2588\u258b     | 56/120 [00:09<00:09,  6.59it/s]"
          ]
        },
        {
          "output_type": "stream",
          "name": "stderr",
          "text": [
            "\rValidating:  48%|\u2588\u2588\u2588\u2588\u258a     | 57/120 [00:09<00:09,  6.60it/s]"
          ]
        },
        {
          "output_type": "stream",
          "name": "stderr",
          "text": [
            "\rValidating:  48%|\u2588\u2588\u2588\u2588\u258a     | 58/120 [00:09<00:09,  6.60it/s]"
          ]
        },
        {
          "output_type": "stream",
          "name": "stderr",
          "text": [
            "\rValidating:  49%|\u2588\u2588\u2588\u2588\u2589     | 59/120 [00:09<00:09,  6.60it/s]"
          ]
        },
        {
          "output_type": "stream",
          "name": "stderr",
          "text": [
            "\rValidating:  50%|\u2588\u2588\u2588\u2588\u2588     | 60/120 [00:09<00:09,  6.59it/s]"
          ]
        },
        {
          "output_type": "stream",
          "name": "stderr",
          "text": [
            "\rValidating:  51%|\u2588\u2588\u2588\u2588\u2588     | 61/120 [00:10<00:08,  6.60it/s]"
          ]
        },
        {
          "output_type": "stream",
          "name": "stderr",
          "text": [
            "\rValidating:  52%|\u2588\u2588\u2588\u2588\u2588\u258f    | 62/120 [00:10<00:08,  6.59it/s]"
          ]
        },
        {
          "output_type": "stream",
          "name": "stderr",
          "text": [
            "\rValidating:  52%|\u2588\u2588\u2588\u2588\u2588\u258e    | 63/120 [00:10<00:08,  6.59it/s]"
          ]
        },
        {
          "output_type": "stream",
          "name": "stderr",
          "text": [
            "\rValidating:  53%|\u2588\u2588\u2588\u2588\u2588\u258e    | 64/120 [00:10<00:08,  6.58it/s]"
          ]
        },
        {
          "output_type": "stream",
          "name": "stderr",
          "text": [
            "\rValidating:  54%|\u2588\u2588\u2588\u2588\u2588\u258d    | 65/120 [00:10<00:08,  6.58it/s]"
          ]
        },
        {
          "output_type": "stream",
          "name": "stderr",
          "text": [
            "\rValidating:  55%|\u2588\u2588\u2588\u2588\u2588\u258c    | 66/120 [00:10<00:08,  6.57it/s]"
          ]
        },
        {
          "output_type": "stream",
          "name": "stderr",
          "text": [
            "\rValidating:  56%|\u2588\u2588\u2588\u2588\u2588\u258c    | 67/120 [00:11<00:08,  6.59it/s]"
          ]
        },
        {
          "output_type": "stream",
          "name": "stderr",
          "text": [
            "\rValidating:  57%|\u2588\u2588\u2588\u2588\u2588\u258b    | 68/120 [00:11<00:07,  6.58it/s]"
          ]
        },
        {
          "output_type": "stream",
          "name": "stderr",
          "text": [
            "\rValidating:  57%|\u2588\u2588\u2588\u2588\u2588\u258a    | 69/120 [00:11<00:07,  6.59it/s]"
          ]
        },
        {
          "output_type": "stream",
          "name": "stderr",
          "text": [
            "\rValidating:  58%|\u2588\u2588\u2588\u2588\u2588\u258a    | 70/120 [00:11<00:07,  6.59it/s]"
          ]
        },
        {
          "output_type": "stream",
          "name": "stderr",
          "text": [
            "\rValidating:  59%|\u2588\u2588\u2588\u2588\u2588\u2589    | 71/120 [00:11<00:07,  6.59it/s]"
          ]
        },
        {
          "output_type": "stream",
          "name": "stderr",
          "text": [
            "\rValidating:  60%|\u2588\u2588\u2588\u2588\u2588\u2588    | 72/120 [00:11<00:07,  6.59it/s]"
          ]
        },
        {
          "output_type": "stream",
          "name": "stderr",
          "text": [
            "\rValidating:  61%|\u2588\u2588\u2588\u2588\u2588\u2588    | 73/120 [00:11<00:07,  6.59it/s]"
          ]
        },
        {
          "output_type": "stream",
          "name": "stderr",
          "text": [
            "\rValidating:  62%|\u2588\u2588\u2588\u2588\u2588\u2588\u258f   | 74/120 [00:12<00:06,  6.58it/s]"
          ]
        },
        {
          "output_type": "stream",
          "name": "stderr",
          "text": [
            "\rValidating:  62%|\u2588\u2588\u2588\u2588\u2588\u2588\u258e   | 75/120 [00:12<00:06,  6.60it/s]"
          ]
        },
        {
          "output_type": "stream",
          "name": "stderr",
          "text": [
            "\rValidating:  63%|\u2588\u2588\u2588\u2588\u2588\u2588\u258e   | 76/120 [00:12<00:06,  6.59it/s]"
          ]
        },
        {
          "output_type": "stream",
          "name": "stderr",
          "text": [
            "\rValidating:  64%|\u2588\u2588\u2588\u2588\u2588\u2588\u258d   | 77/120 [00:12<00:06,  6.60it/s]"
          ]
        },
        {
          "output_type": "stream",
          "name": "stderr",
          "text": [
            "\rValidating:  65%|\u2588\u2588\u2588\u2588\u2588\u2588\u258c   | 78/120 [00:12<00:06,  6.59it/s]"
          ]
        },
        {
          "output_type": "stream",
          "name": "stderr",
          "text": [
            "\rValidating:  66%|\u2588\u2588\u2588\u2588\u2588\u2588\u258c   | 79/120 [00:12<00:06,  6.59it/s]"
          ]
        },
        {
          "output_type": "stream",
          "name": "stderr",
          "text": [
            "\rValidating:  67%|\u2588\u2588\u2588\u2588\u2588\u2588\u258b   | 80/120 [00:13<00:06,  6.59it/s]"
          ]
        },
        {
          "output_type": "stream",
          "name": "stderr",
          "text": [
            "\rValidating:  68%|\u2588\u2588\u2588\u2588\u2588\u2588\u258a   | 81/120 [00:13<00:05,  6.60it/s]"
          ]
        },
        {
          "output_type": "stream",
          "name": "stderr",
          "text": [
            "\rValidating:  68%|\u2588\u2588\u2588\u2588\u2588\u2588\u258a   | 82/120 [00:13<00:05,  6.60it/s]"
          ]
        },
        {
          "output_type": "stream",
          "name": "stderr",
          "text": [
            "\rValidating:  69%|\u2588\u2588\u2588\u2588\u2588\u2588\u2589   | 83/120 [00:13<00:05,  6.61it/s]"
          ]
        },
        {
          "output_type": "stream",
          "name": "stderr",
          "text": [
            "\rValidating:  70%|\u2588\u2588\u2588\u2588\u2588\u2588\u2588   | 84/120 [00:13<00:05,  6.61it/s]"
          ]
        },
        {
          "output_type": "stream",
          "name": "stderr",
          "text": [
            "\rValidating:  71%|\u2588\u2588\u2588\u2588\u2588\u2588\u2588   | 85/120 [00:13<00:05,  6.61it/s]"
          ]
        },
        {
          "output_type": "stream",
          "name": "stderr",
          "text": [
            "\rValidating:  72%|\u2588\u2588\u2588\u2588\u2588\u2588\u2588\u258f  | 86/120 [00:13<00:05,  6.62it/s]"
          ]
        },
        {
          "output_type": "stream",
          "name": "stderr",
          "text": [
            "\rValidating:  72%|\u2588\u2588\u2588\u2588\u2588\u2588\u2588\u258e  | 87/120 [00:14<00:04,  6.62it/s]"
          ]
        },
        {
          "output_type": "stream",
          "name": "stderr",
          "text": [
            "\rValidating:  73%|\u2588\u2588\u2588\u2588\u2588\u2588\u2588\u258e  | 88/120 [00:14<00:04,  6.62it/s]"
          ]
        },
        {
          "output_type": "stream",
          "name": "stderr",
          "text": [
            "\rValidating:  74%|\u2588\u2588\u2588\u2588\u2588\u2588\u2588\u258d  | 89/120 [00:14<00:04,  6.63it/s]"
          ]
        },
        {
          "output_type": "stream",
          "name": "stderr",
          "text": [
            "\rValidating:  75%|\u2588\u2588\u2588\u2588\u2588\u2588\u2588\u258c  | 90/120 [00:14<00:04,  6.62it/s]"
          ]
        },
        {
          "output_type": "stream",
          "name": "stderr",
          "text": [
            "\rValidating:  76%|\u2588\u2588\u2588\u2588\u2588\u2588\u2588\u258c  | 91/120 [00:14<00:04,  6.63it/s]"
          ]
        },
        {
          "output_type": "stream",
          "name": "stderr",
          "text": [
            "\rValidating:  77%|\u2588\u2588\u2588\u2588\u2588\u2588\u2588\u258b  | 92/120 [00:14<00:04,  6.61it/s]"
          ]
        },
        {
          "output_type": "stream",
          "name": "stderr",
          "text": [
            "\rValidating:  78%|\u2588\u2588\u2588\u2588\u2588\u2588\u2588\u258a  | 93/120 [00:14<00:04,  6.63it/s]"
          ]
        },
        {
          "output_type": "stream",
          "name": "stderr",
          "text": [
            "\rValidating:  78%|\u2588\u2588\u2588\u2588\u2588\u2588\u2588\u258a  | 94/120 [00:15<00:03,  6.62it/s]"
          ]
        },
        {
          "output_type": "stream",
          "name": "stderr",
          "text": [
            "\rValidating:  79%|\u2588\u2588\u2588\u2588\u2588\u2588\u2588\u2589  | 95/120 [00:15<00:03,  6.63it/s]"
          ]
        },
        {
          "output_type": "stream",
          "name": "stderr",
          "text": [
            "\rValidating:  80%|\u2588\u2588\u2588\u2588\u2588\u2588\u2588\u2588  | 96/120 [00:15<00:03,  6.62it/s]"
          ]
        },
        {
          "output_type": "stream",
          "name": "stderr",
          "text": [
            "\rValidating:  81%|\u2588\u2588\u2588\u2588\u2588\u2588\u2588\u2588  | 97/120 [00:15<00:03,  6.61it/s]"
          ]
        },
        {
          "output_type": "stream",
          "name": "stderr",
          "text": [
            "\rValidating:  82%|\u2588\u2588\u2588\u2588\u2588\u2588\u2588\u2588\u258f | 98/120 [00:15<00:03,  6.61it/s]"
          ]
        },
        {
          "output_type": "stream",
          "name": "stderr",
          "text": [
            "\rValidating:  82%|\u2588\u2588\u2588\u2588\u2588\u2588\u2588\u2588\u258e | 99/120 [00:15<00:03,  6.61it/s]"
          ]
        },
        {
          "output_type": "stream",
          "name": "stderr",
          "text": [
            "\rValidating:  83%|\u2588\u2588\u2588\u2588\u2588\u2588\u2588\u2588\u258e | 100/120 [00:16<00:03,  6.61it/s]"
          ]
        },
        {
          "output_type": "stream",
          "name": "stderr",
          "text": [
            "\rValidating:  84%|\u2588\u2588\u2588\u2588\u2588\u2588\u2588\u2588\u258d | 101/120 [00:16<00:02,  6.61it/s]"
          ]
        },
        {
          "output_type": "stream",
          "name": "stderr",
          "text": [
            "\rValidating:  85%|\u2588\u2588\u2588\u2588\u2588\u2588\u2588\u2588\u258c | 102/120 [00:16<00:02,  6.62it/s]"
          ]
        },
        {
          "output_type": "stream",
          "name": "stderr",
          "text": [
            "\rValidating:  86%|\u2588\u2588\u2588\u2588\u2588\u2588\u2588\u2588\u258c | 103/120 [00:16<00:02,  6.62it/s]"
          ]
        },
        {
          "output_type": "stream",
          "name": "stderr",
          "text": [
            "\rValidating:  87%|\u2588\u2588\u2588\u2588\u2588\u2588\u2588\u2588\u258b | 104/120 [00:16<00:02,  6.61it/s]"
          ]
        },
        {
          "output_type": "stream",
          "name": "stderr",
          "text": [
            "\rValidating:  88%|\u2588\u2588\u2588\u2588\u2588\u2588\u2588\u2588\u258a | 105/120 [00:16<00:02,  6.62it/s]"
          ]
        },
        {
          "output_type": "stream",
          "name": "stderr",
          "text": [
            "\rValidating:  88%|\u2588\u2588\u2588\u2588\u2588\u2588\u2588\u2588\u258a | 106/120 [00:16<00:02,  6.61it/s]"
          ]
        },
        {
          "output_type": "stream",
          "name": "stderr",
          "text": [
            "\rValidating:  89%|\u2588\u2588\u2588\u2588\u2588\u2588\u2588\u2588\u2589 | 107/120 [00:17<00:01,  6.62it/s]"
          ]
        },
        {
          "output_type": "stream",
          "name": "stderr",
          "text": [
            "\rValidating:  90%|\u2588\u2588\u2588\u2588\u2588\u2588\u2588\u2588\u2588 | 108/120 [00:17<00:01,  6.61it/s]"
          ]
        },
        {
          "output_type": "stream",
          "name": "stderr",
          "text": [
            "\rValidating:  91%|\u2588\u2588\u2588\u2588\u2588\u2588\u2588\u2588\u2588 | 109/120 [00:17<00:01,  6.62it/s]"
          ]
        },
        {
          "output_type": "stream",
          "name": "stderr",
          "text": [
            "\rValidating:  92%|\u2588\u2588\u2588\u2588\u2588\u2588\u2588\u2588\u2588\u258f| 110/120 [00:17<00:01,  6.61it/s]"
          ]
        },
        {
          "output_type": "stream",
          "name": "stderr",
          "text": [
            "\rValidating:  92%|\u2588\u2588\u2588\u2588\u2588\u2588\u2588\u2588\u2588\u258e| 111/120 [00:17<00:01,  6.61it/s]"
          ]
        },
        {
          "output_type": "stream",
          "name": "stderr",
          "text": [
            "\rValidating:  93%|\u2588\u2588\u2588\u2588\u2588\u2588\u2588\u2588\u2588\u258e| 112/120 [00:17<00:01,  6.60it/s]"
          ]
        },
        {
          "output_type": "stream",
          "name": "stderr",
          "text": [
            "\rValidating:  94%|\u2588\u2588\u2588\u2588\u2588\u2588\u2588\u2588\u2588\u258d| 113/120 [00:18<00:01,  6.61it/s]"
          ]
        },
        {
          "output_type": "stream",
          "name": "stderr",
          "text": [
            "\rValidating:  95%|\u2588\u2588\u2588\u2588\u2588\u2588\u2588\u2588\u2588\u258c| 114/120 [00:18<00:00,  6.61it/s]"
          ]
        },
        {
          "output_type": "stream",
          "name": "stderr",
          "text": [
            "\rValidating:  96%|\u2588\u2588\u2588\u2588\u2588\u2588\u2588\u2588\u2588\u258c| 115/120 [00:18<00:00,  6.62it/s]"
          ]
        },
        {
          "output_type": "stream",
          "name": "stderr",
          "text": [
            "\rValidating:  97%|\u2588\u2588\u2588\u2588\u2588\u2588\u2588\u2588\u2588\u258b| 116/120 [00:18<00:00,  6.63it/s]"
          ]
        },
        {
          "output_type": "stream",
          "name": "stderr",
          "text": [
            "\rValidating:  98%|\u2588\u2588\u2588\u2588\u2588\u2588\u2588\u2588\u2588\u258a| 117/120 [00:18<00:00,  6.63it/s]"
          ]
        },
        {
          "output_type": "stream",
          "name": "stderr",
          "text": [
            "\rValidating:  98%|\u2588\u2588\u2588\u2588\u2588\u2588\u2588\u2588\u2588\u258a| 118/120 [00:18<00:00,  6.63it/s]"
          ]
        },
        {
          "output_type": "stream",
          "name": "stderr",
          "text": [
            "\rValidating:  99%|\u2588\u2588\u2588\u2588\u2588\u2588\u2588\u2588\u2588\u2589| 119/120 [00:18<00:00,  6.63it/s]"
          ]
        },
        {
          "output_type": "stream",
          "name": "stderr",
          "text": [
            "\rValidating: 100%|\u2588\u2588\u2588\u2588\u2588\u2588\u2588\u2588\u2588\u2588| 120/120 [00:19<00:00,  6.31it/s]"
          ]
        },
        {
          "output_type": "stream",
          "name": "stderr",
          "text": [
            "\n"
          ]
        },
        {
          "output_type": "stream",
          "name": "stdout",
          "text": [
            "Epoch 14/20 - Time: 52s - Train Loss: 0.0648 - Val F0.5: 0.7766 @ thr=0.50 (P: 0.8513, R: 0.5749)\n"
          ]
        },
        {
          "output_type": "stream",
          "name": "stdout",
          "text": [
            "  >> New best score! Model saved to best_model_fold_2.pth\n"
          ]
        },
        {
          "output_type": "stream",
          "name": "stderr",
          "text": [
            "\rTraining:   0%|          | 0/35 [00:00<?, ?it/s]"
          ]
        },
        {
          "output_type": "stream",
          "name": "stderr",
          "text": [
            "\rTraining:   3%|\u258e         | 1/35 [00:01<00:55,  1.64s/it]"
          ]
        },
        {
          "output_type": "stream",
          "name": "stderr",
          "text": [
            "\rTraining:   6%|\u258c         | 2/35 [00:01<00:27,  1.19it/s]"
          ]
        },
        {
          "output_type": "stream",
          "name": "stderr",
          "text": [
            "\rTraining:   9%|\u258a         | 3/35 [00:02<00:18,  1.72it/s]"
          ]
        },
        {
          "output_type": "stream",
          "name": "stderr",
          "text": [
            "\rTraining:  11%|\u2588\u258f        | 4/35 [00:02<00:14,  2.17it/s]"
          ]
        },
        {
          "output_type": "stream",
          "name": "stderr",
          "text": [
            "\rTraining:  14%|\u2588\u258d        | 5/35 [00:02<00:11,  2.53it/s]"
          ]
        },
        {
          "output_type": "stream",
          "name": "stderr",
          "text": [
            "\rTraining:  17%|\u2588\u258b        | 6/35 [00:03<00:10,  2.82it/s]"
          ]
        },
        {
          "output_type": "stream",
          "name": "stderr",
          "text": [
            "\rTraining:  20%|\u2588\u2588        | 7/35 [00:03<00:09,  3.04it/s]"
          ]
        },
        {
          "output_type": "stream",
          "name": "stderr",
          "text": [
            "\rTraining:  23%|\u2588\u2588\u258e       | 8/35 [00:03<00:08,  3.20it/s]"
          ]
        },
        {
          "output_type": "stream",
          "name": "stderr",
          "text": [
            "\rTraining:  26%|\u2588\u2588\u258c       | 9/35 [00:03<00:07,  3.33it/s]"
          ]
        },
        {
          "output_type": "stream",
          "name": "stderr",
          "text": [
            "\rTraining:  29%|\u2588\u2588\u258a       | 10/35 [00:04<00:07,  3.41it/s]"
          ]
        },
        {
          "output_type": "stream",
          "name": "stderr",
          "text": [
            "\rTraining:  31%|\u2588\u2588\u2588\u258f      | 11/35 [00:04<00:06,  3.48it/s]"
          ]
        },
        {
          "output_type": "stream",
          "name": "stderr",
          "text": [
            "\rTraining:  34%|\u2588\u2588\u2588\u258d      | 12/35 [00:04<00:06,  3.52it/s]"
          ]
        },
        {
          "output_type": "stream",
          "name": "stderr",
          "text": [
            "\rTraining:  37%|\u2588\u2588\u2588\u258b      | 13/35 [00:04<00:06,  3.55it/s]"
          ]
        },
        {
          "output_type": "stream",
          "name": "stderr",
          "text": [
            "\rTraining:  40%|\u2588\u2588\u2588\u2588      | 14/35 [00:05<00:05,  3.57it/s]"
          ]
        },
        {
          "output_type": "stream",
          "name": "stderr",
          "text": [
            "\rTraining:  43%|\u2588\u2588\u2588\u2588\u258e     | 15/35 [00:05<00:05,  3.59it/s]"
          ]
        },
        {
          "output_type": "stream",
          "name": "stderr",
          "text": [
            "\rTraining:  46%|\u2588\u2588\u2588\u2588\u258c     | 16/35 [00:05<00:05,  3.60it/s]"
          ]
        },
        {
          "output_type": "stream",
          "name": "stderr",
          "text": [
            "\rTraining:  49%|\u2588\u2588\u2588\u2588\u258a     | 17/35 [00:06<00:04,  3.60it/s]"
          ]
        },
        {
          "output_type": "stream",
          "name": "stderr",
          "text": [
            "\rTraining:  51%|\u2588\u2588\u2588\u2588\u2588\u258f    | 18/35 [00:06<00:04,  3.61it/s]"
          ]
        },
        {
          "output_type": "stream",
          "name": "stderr",
          "text": [
            "\rTraining:  54%|\u2588\u2588\u2588\u2588\u2588\u258d    | 19/35 [00:06<00:04,  3.61it/s]"
          ]
        },
        {
          "output_type": "stream",
          "name": "stderr",
          "text": [
            "\rTraining:  57%|\u2588\u2588\u2588\u2588\u2588\u258b    | 20/35 [00:06<00:04,  3.62it/s]"
          ]
        },
        {
          "output_type": "stream",
          "name": "stderr",
          "text": [
            "\rTraining:  60%|\u2588\u2588\u2588\u2588\u2588\u2588    | 21/35 [00:07<00:03,  3.62it/s]"
          ]
        },
        {
          "output_type": "stream",
          "name": "stderr",
          "text": [
            "\rTraining:  63%|\u2588\u2588\u2588\u2588\u2588\u2588\u258e   | 22/35 [00:07<00:03,  3.62it/s]"
          ]
        },
        {
          "output_type": "stream",
          "name": "stderr",
          "text": [
            "\rTraining:  66%|\u2588\u2588\u2588\u2588\u2588\u2588\u258c   | 23/35 [00:07<00:03,  3.62it/s]"
          ]
        },
        {
          "output_type": "stream",
          "name": "stderr",
          "text": [
            "\rTraining:  69%|\u2588\u2588\u2588\u2588\u2588\u2588\u258a   | 24/35 [00:07<00:03,  3.62it/s]"
          ]
        },
        {
          "output_type": "stream",
          "name": "stderr",
          "text": [
            "\rTraining:  71%|\u2588\u2588\u2588\u2588\u2588\u2588\u2588\u258f  | 25/35 [00:08<00:02,  3.62it/s]"
          ]
        },
        {
          "output_type": "stream",
          "name": "stderr",
          "text": [
            "\rTraining:  74%|\u2588\u2588\u2588\u2588\u2588\u2588\u2588\u258d  | 26/35 [00:08<00:02,  3.62it/s]"
          ]
        },
        {
          "output_type": "stream",
          "name": "stderr",
          "text": [
            "\rTraining:  77%|\u2588\u2588\u2588\u2588\u2588\u2588\u2588\u258b  | 27/35 [00:08<00:02,  3.62it/s]"
          ]
        },
        {
          "output_type": "stream",
          "name": "stderr",
          "text": [
            "\rTraining:  80%|\u2588\u2588\u2588\u2588\u2588\u2588\u2588\u2588  | 28/35 [00:09<00:01,  3.62it/s]"
          ]
        },
        {
          "output_type": "stream",
          "name": "stderr",
          "text": [
            "\rTraining:  83%|\u2588\u2588\u2588\u2588\u2588\u2588\u2588\u2588\u258e | 29/35 [00:09<00:01,  3.62it/s]"
          ]
        },
        {
          "output_type": "stream",
          "name": "stderr",
          "text": [
            "\rTraining:  86%|\u2588\u2588\u2588\u2588\u2588\u2588\u2588\u2588\u258c | 30/35 [00:09<00:01,  3.62it/s]"
          ]
        },
        {
          "output_type": "stream",
          "name": "stderr",
          "text": [
            "\rTraining:  89%|\u2588\u2588\u2588\u2588\u2588\u2588\u2588\u2588\u258a | 31/35 [00:09<00:01,  3.62it/s]"
          ]
        },
        {
          "output_type": "stream",
          "name": "stderr",
          "text": [
            "\rTraining:  91%|\u2588\u2588\u2588\u2588\u2588\u2588\u2588\u2588\u2588\u258f| 32/35 [00:10<00:00,  3.62it/s]"
          ]
        },
        {
          "output_type": "stream",
          "name": "stderr",
          "text": [
            "\rTraining:  94%|\u2588\u2588\u2588\u2588\u2588\u2588\u2588\u2588\u2588\u258d| 33/35 [00:10<00:00,  3.62it/s]"
          ]
        },
        {
          "output_type": "stream",
          "name": "stderr",
          "text": [
            "\rTraining:  97%|\u2588\u2588\u2588\u2588\u2588\u2588\u2588\u2588\u2588\u258b| 34/35 [00:10<00:00,  3.62it/s]"
          ]
        },
        {
          "output_type": "stream",
          "name": "stderr",
          "text": [
            "\rTraining: 100%|\u2588\u2588\u2588\u2588\u2588\u2588\u2588\u2588\u2588\u2588| 35/35 [00:11<00:00,  3.62it/s]"
          ]
        },
        {
          "output_type": "stream",
          "name": "stderr",
          "text": [
            "\rTraining: 100%|\u2588\u2588\u2588\u2588\u2588\u2588\u2588\u2588\u2588\u2588| 35/35 [00:11<00:00,  3.15it/s]"
          ]
        },
        {
          "output_type": "stream",
          "name": "stderr",
          "text": [
            "\n"
          ]
        },
        {
          "output_type": "stream",
          "name": "stderr",
          "text": [
            "\rValidating:   0%|          | 0/120 [00:00<?, ?it/s]"
          ]
        },
        {
          "output_type": "stream",
          "name": "stderr",
          "text": [
            "\rValidating:   1%|          | 1/120 [00:01<02:12,  1.11s/it]"
          ]
        },
        {
          "output_type": "stream",
          "name": "stderr",
          "text": [
            "\rValidating:   2%|\u258f         | 2/120 [00:01<01:04,  1.82it/s]"
          ]
        },
        {
          "output_type": "stream",
          "name": "stderr",
          "text": [
            "\rValidating:   2%|\u258e         | 3/120 [00:01<00:42,  2.73it/s]"
          ]
        },
        {
          "output_type": "stream",
          "name": "stderr",
          "text": [
            "\rValidating:   3%|\u258e         | 4/120 [00:01<00:32,  3.55it/s]"
          ]
        },
        {
          "output_type": "stream",
          "name": "stderr",
          "text": [
            "\rValidating:   4%|\u258d         | 5/120 [00:01<00:26,  4.27it/s]"
          ]
        },
        {
          "output_type": "stream",
          "name": "stderr",
          "text": [
            "\rValidating:   5%|\u258c         | 6/120 [00:01<00:23,  4.84it/s]"
          ]
        },
        {
          "output_type": "stream",
          "name": "stderr",
          "text": [
            "\rValidating:   6%|\u258c         | 7/120 [00:02<00:21,  5.31it/s]"
          ]
        },
        {
          "output_type": "stream",
          "name": "stderr",
          "text": [
            "\rValidating:   7%|\u258b         | 8/120 [00:02<00:19,  5.66it/s]"
          ]
        },
        {
          "output_type": "stream",
          "name": "stderr",
          "text": [
            "\rValidating:   8%|\u258a         | 9/120 [00:02<00:18,  5.93it/s]"
          ]
        },
        {
          "output_type": "stream",
          "name": "stderr",
          "text": [
            "\rValidating:   8%|\u258a         | 10/120 [00:02<00:17,  6.12it/s]"
          ]
        },
        {
          "output_type": "stream",
          "name": "stderr",
          "text": [
            "\rValidating:   9%|\u2589         | 11/120 [00:02<00:17,  6.26it/s]"
          ]
        },
        {
          "output_type": "stream",
          "name": "stderr",
          "text": [
            "\rValidating:  10%|\u2588         | 12/120 [00:02<00:16,  6.37it/s]"
          ]
        },
        {
          "output_type": "stream",
          "name": "stderr",
          "text": [
            "\rValidating:  11%|\u2588         | 13/120 [00:02<00:16,  6.45it/s]"
          ]
        },
        {
          "output_type": "stream",
          "name": "stderr",
          "text": [
            "\rValidating:  12%|\u2588\u258f        | 14/120 [00:03<00:16,  6.50it/s]"
          ]
        },
        {
          "output_type": "stream",
          "name": "stderr",
          "text": [
            "\rValidating:  12%|\u2588\u258e        | 15/120 [00:03<00:16,  6.53it/s]"
          ]
        },
        {
          "output_type": "stream",
          "name": "stderr",
          "text": [
            "\rValidating:  13%|\u2588\u258e        | 16/120 [00:03<00:15,  6.56it/s]"
          ]
        },
        {
          "output_type": "stream",
          "name": "stderr",
          "text": [
            "\rValidating:  14%|\u2588\u258d        | 17/120 [00:03<00:15,  6.59it/s]"
          ]
        },
        {
          "output_type": "stream",
          "name": "stderr",
          "text": [
            "\rValidating:  15%|\u2588\u258c        | 18/120 [00:03<00:15,  6.59it/s]"
          ]
        },
        {
          "output_type": "stream",
          "name": "stderr",
          "text": [
            "\rValidating:  16%|\u2588\u258c        | 19/120 [00:03<00:15,  6.61it/s]"
          ]
        },
        {
          "output_type": "stream",
          "name": "stderr",
          "text": [
            "\rValidating:  17%|\u2588\u258b        | 20/120 [00:03<00:15,  6.61it/s]"
          ]
        },
        {
          "output_type": "stream",
          "name": "stderr",
          "text": [
            "\rValidating:  18%|\u2588\u258a        | 21/120 [00:04<00:14,  6.62it/s]"
          ]
        },
        {
          "output_type": "stream",
          "name": "stderr",
          "text": [
            "\rValidating:  18%|\u2588\u258a        | 22/120 [00:04<00:14,  6.62it/s]"
          ]
        },
        {
          "output_type": "stream",
          "name": "stderr",
          "text": [
            "\rValidating:  19%|\u2588\u2589        | 23/120 [00:04<00:14,  6.63it/s]"
          ]
        },
        {
          "output_type": "stream",
          "name": "stderr",
          "text": [
            "\rValidating:  20%|\u2588\u2588        | 24/120 [00:04<00:14,  6.62it/s]"
          ]
        },
        {
          "output_type": "stream",
          "name": "stderr",
          "text": [
            "\rValidating:  21%|\u2588\u2588        | 25/120 [00:04<00:14,  6.63it/s]"
          ]
        },
        {
          "output_type": "stream",
          "name": "stderr",
          "text": [
            "\rValidating:  22%|\u2588\u2588\u258f       | 26/120 [00:04<00:14,  6.62it/s]"
          ]
        },
        {
          "output_type": "stream",
          "name": "stderr",
          "text": [
            "\rValidating:  22%|\u2588\u2588\u258e       | 27/120 [00:05<00:14,  6.63it/s]"
          ]
        },
        {
          "output_type": "stream",
          "name": "stderr",
          "text": [
            "\rValidating:  23%|\u2588\u2588\u258e       | 28/120 [00:05<00:13,  6.62it/s]"
          ]
        },
        {
          "output_type": "stream",
          "name": "stderr",
          "text": [
            "\rValidating:  24%|\u2588\u2588\u258d       | 29/120 [00:05<00:13,  6.62it/s]"
          ]
        },
        {
          "output_type": "stream",
          "name": "stderr",
          "text": [
            "\rValidating:  25%|\u2588\u2588\u258c       | 30/120 [00:05<00:13,  6.60it/s]"
          ]
        },
        {
          "output_type": "stream",
          "name": "stderr",
          "text": [
            "\rValidating:  26%|\u2588\u2588\u258c       | 31/120 [00:05<00:13,  6.60it/s]"
          ]
        },
        {
          "output_type": "stream",
          "name": "stderr",
          "text": [
            "\rValidating:  27%|\u2588\u2588\u258b       | 32/120 [00:05<00:13,  6.60it/s]"
          ]
        },
        {
          "output_type": "stream",
          "name": "stderr",
          "text": [
            "\rValidating:  28%|\u2588\u2588\u258a       | 33/120 [00:05<00:13,  6.61it/s]"
          ]
        },
        {
          "output_type": "stream",
          "name": "stderr",
          "text": [
            "\rValidating:  28%|\u2588\u2588\u258a       | 34/120 [00:06<00:13,  6.61it/s]"
          ]
        },
        {
          "output_type": "stream",
          "name": "stderr",
          "text": [
            "\rValidating:  29%|\u2588\u2588\u2589       | 35/120 [00:06<00:12,  6.62it/s]"
          ]
        },
        {
          "output_type": "stream",
          "name": "stderr",
          "text": [
            "\rValidating:  30%|\u2588\u2588\u2588       | 36/120 [00:06<00:12,  6.62it/s]"
          ]
        },
        {
          "output_type": "stream",
          "name": "stderr",
          "text": [
            "\rValidating:  31%|\u2588\u2588\u2588       | 37/120 [00:06<00:12,  6.63it/s]"
          ]
        },
        {
          "output_type": "stream",
          "name": "stderr",
          "text": [
            "\rValidating:  32%|\u2588\u2588\u2588\u258f      | 38/120 [00:06<00:12,  6.62it/s]"
          ]
        },
        {
          "output_type": "stream",
          "name": "stderr",
          "text": [
            "\rValidating:  32%|\u2588\u2588\u2588\u258e      | 39/120 [00:06<00:12,  6.62it/s]"
          ]
        },
        {
          "output_type": "stream",
          "name": "stderr",
          "text": [
            "\rValidating:  33%|\u2588\u2588\u2588\u258e      | 40/120 [00:07<00:12,  6.62it/s]"
          ]
        },
        {
          "output_type": "stream",
          "name": "stderr",
          "text": [
            "\rValidating:  34%|\u2588\u2588\u2588\u258d      | 41/120 [00:07<00:11,  6.62it/s]"
          ]
        },
        {
          "output_type": "stream",
          "name": "stderr",
          "text": [
            "\rValidating:  35%|\u2588\u2588\u2588\u258c      | 42/120 [00:07<00:11,  6.61it/s]"
          ]
        },
        {
          "output_type": "stream",
          "name": "stderr",
          "text": [
            "\rValidating:  36%|\u2588\u2588\u2588\u258c      | 43/120 [00:07<00:11,  6.62it/s]"
          ]
        },
        {
          "output_type": "stream",
          "name": "stderr",
          "text": [
            "\rValidating:  37%|\u2588\u2588\u2588\u258b      | 44/120 [00:07<00:11,  6.61it/s]"
          ]
        },
        {
          "output_type": "stream",
          "name": "stderr",
          "text": [
            "\rValidating:  38%|\u2588\u2588\u2588\u258a      | 45/120 [00:07<00:11,  6.62it/s]"
          ]
        },
        {
          "output_type": "stream",
          "name": "stderr",
          "text": [
            "\rValidating:  38%|\u2588\u2588\u2588\u258a      | 46/120 [00:07<00:11,  6.61it/s]"
          ]
        },
        {
          "output_type": "stream",
          "name": "stderr",
          "text": [
            "\rValidating:  39%|\u2588\u2588\u2588\u2589      | 47/120 [00:08<00:11,  6.61it/s]"
          ]
        },
        {
          "output_type": "stream",
          "name": "stderr",
          "text": [
            "\rValidating:  40%|\u2588\u2588\u2588\u2588      | 48/120 [00:08<00:10,  6.61it/s]"
          ]
        },
        {
          "output_type": "stream",
          "name": "stderr",
          "text": [
            "\rValidating:  41%|\u2588\u2588\u2588\u2588      | 49/120 [00:08<00:10,  6.62it/s]"
          ]
        },
        {
          "output_type": "stream",
          "name": "stderr",
          "text": [
            "\rValidating:  42%|\u2588\u2588\u2588\u2588\u258f     | 50/120 [00:08<00:10,  6.61it/s]"
          ]
        },
        {
          "output_type": "stream",
          "name": "stderr",
          "text": [
            "\rValidating:  42%|\u2588\u2588\u2588\u2588\u258e     | 51/120 [00:08<00:10,  6.62it/s]"
          ]
        },
        {
          "output_type": "stream",
          "name": "stderr",
          "text": [
            "\rValidating:  43%|\u2588\u2588\u2588\u2588\u258e     | 52/120 [00:08<00:10,  6.62it/s]"
          ]
        },
        {
          "output_type": "stream",
          "name": "stderr",
          "text": [
            "\rValidating:  44%|\u2588\u2588\u2588\u2588\u258d     | 53/120 [00:08<00:10,  6.63it/s]"
          ]
        },
        {
          "output_type": "stream",
          "name": "stderr",
          "text": [
            "\rValidating:  45%|\u2588\u2588\u2588\u2588\u258c     | 54/120 [00:09<00:09,  6.62it/s]"
          ]
        },
        {
          "output_type": "stream",
          "name": "stderr",
          "text": [
            "\rValidating:  46%|\u2588\u2588\u2588\u2588\u258c     | 55/120 [00:09<00:09,  6.63it/s]"
          ]
        },
        {
          "output_type": "stream",
          "name": "stderr",
          "text": [
            "\rValidating:  47%|\u2588\u2588\u2588\u2588\u258b     | 56/120 [00:09<00:09,  6.62it/s]"
          ]
        },
        {
          "output_type": "stream",
          "name": "stderr",
          "text": [
            "\rValidating:  48%|\u2588\u2588\u2588\u2588\u258a     | 57/120 [00:09<00:09,  6.63it/s]"
          ]
        },
        {
          "output_type": "stream",
          "name": "stderr",
          "text": [
            "\rValidating:  48%|\u2588\u2588\u2588\u2588\u258a     | 58/120 [00:09<00:09,  6.62it/s]"
          ]
        },
        {
          "output_type": "stream",
          "name": "stderr",
          "text": [
            "\rValidating:  49%|\u2588\u2588\u2588\u2588\u2589     | 59/120 [00:09<00:09,  6.63it/s]"
          ]
        },
        {
          "output_type": "stream",
          "name": "stderr",
          "text": [
            "\rValidating:  50%|\u2588\u2588\u2588\u2588\u2588     | 60/120 [00:10<00:09,  6.62it/s]"
          ]
        },
        {
          "output_type": "stream",
          "name": "stderr",
          "text": [
            "\rValidating:  51%|\u2588\u2588\u2588\u2588\u2588     | 61/120 [00:10<00:08,  6.62it/s]"
          ]
        },
        {
          "output_type": "stream",
          "name": "stderr",
          "text": [
            "\rValidating:  52%|\u2588\u2588\u2588\u2588\u2588\u258f    | 62/120 [00:10<00:08,  6.62it/s]"
          ]
        },
        {
          "output_type": "stream",
          "name": "stderr",
          "text": [
            "\rValidating:  52%|\u2588\u2588\u2588\u2588\u2588\u258e    | 63/120 [00:10<00:08,  6.62it/s]"
          ]
        },
        {
          "output_type": "stream",
          "name": "stderr",
          "text": [
            "\rValidating:  53%|\u2588\u2588\u2588\u2588\u2588\u258e    | 64/120 [00:10<00:08,  6.62it/s]"
          ]
        },
        {
          "output_type": "stream",
          "name": "stderr",
          "text": [
            "\rValidating:  54%|\u2588\u2588\u2588\u2588\u2588\u258d    | 65/120 [00:10<00:08,  6.61it/s]"
          ]
        },
        {
          "output_type": "stream",
          "name": "stderr",
          "text": [
            "\rValidating:  55%|\u2588\u2588\u2588\u2588\u2588\u258c    | 66/120 [00:10<00:08,  6.62it/s]"
          ]
        },
        {
          "output_type": "stream",
          "name": "stderr",
          "text": [
            "\rValidating:  56%|\u2588\u2588\u2588\u2588\u2588\u258c    | 67/120 [00:11<00:08,  6.62it/s]"
          ]
        },
        {
          "output_type": "stream",
          "name": "stderr",
          "text": [
            "\rValidating:  57%|\u2588\u2588\u2588\u2588\u2588\u258b    | 68/120 [00:11<00:07,  6.63it/s]"
          ]
        },
        {
          "output_type": "stream",
          "name": "stderr",
          "text": [
            "\rValidating:  57%|\u2588\u2588\u2588\u2588\u2588\u258a    | 69/120 [00:11<00:07,  6.63it/s]"
          ]
        },
        {
          "output_type": "stream",
          "name": "stderr",
          "text": [
            "\rValidating:  58%|\u2588\u2588\u2588\u2588\u2588\u258a    | 70/120 [00:11<00:07,  6.62it/s]"
          ]
        },
        {
          "output_type": "stream",
          "name": "stderr",
          "text": [
            "\rValidating:  59%|\u2588\u2588\u2588\u2588\u2588\u2589    | 71/120 [00:11<00:07,  6.62it/s]"
          ]
        },
        {
          "output_type": "stream",
          "name": "stderr",
          "text": [
            "\rValidating:  60%|\u2588\u2588\u2588\u2588\u2588\u2588    | 72/120 [00:11<00:07,  6.62it/s]"
          ]
        },
        {
          "output_type": "stream",
          "name": "stderr",
          "text": [
            "\rValidating:  61%|\u2588\u2588\u2588\u2588\u2588\u2588    | 73/120 [00:11<00:07,  6.63it/s]"
          ]
        },
        {
          "output_type": "stream",
          "name": "stderr",
          "text": [
            "\rValidating:  62%|\u2588\u2588\u2588\u2588\u2588\u2588\u258f   | 74/120 [00:12<00:06,  6.62it/s]"
          ]
        },
        {
          "output_type": "stream",
          "name": "stderr",
          "text": [
            "\rValidating:  62%|\u2588\u2588\u2588\u2588\u2588\u2588\u258e   | 75/120 [00:12<00:06,  6.62it/s]"
          ]
        },
        {
          "output_type": "stream",
          "name": "stderr",
          "text": [
            "\rValidating:  63%|\u2588\u2588\u2588\u2588\u2588\u2588\u258e   | 76/120 [00:12<00:06,  6.62it/s]"
          ]
        },
        {
          "output_type": "stream",
          "name": "stderr",
          "text": [
            "\rValidating:  64%|\u2588\u2588\u2588\u2588\u2588\u2588\u258d   | 77/120 [00:12<00:06,  6.63it/s]"
          ]
        },
        {
          "output_type": "stream",
          "name": "stderr",
          "text": [
            "\rValidating:  65%|\u2588\u2588\u2588\u2588\u2588\u2588\u258c   | 78/120 [00:12<00:06,  6.62it/s]"
          ]
        },
        {
          "output_type": "stream",
          "name": "stderr",
          "text": [
            "\rValidating:  66%|\u2588\u2588\u2588\u2588\u2588\u2588\u258c   | 79/120 [00:12<00:06,  6.62it/s]"
          ]
        },
        {
          "output_type": "stream",
          "name": "stderr",
          "text": [
            "\rValidating:  67%|\u2588\u2588\u2588\u2588\u2588\u2588\u258b   | 80/120 [00:13<00:06,  6.62it/s]"
          ]
        },
        {
          "output_type": "stream",
          "name": "stderr",
          "text": [
            "\rValidating:  68%|\u2588\u2588\u2588\u2588\u2588\u2588\u258a   | 81/120 [00:13<00:05,  6.63it/s]"
          ]
        },
        {
          "output_type": "stream",
          "name": "stderr",
          "text": [
            "\rValidating:  68%|\u2588\u2588\u2588\u2588\u2588\u2588\u258a   | 82/120 [00:13<00:05,  6.62it/s]"
          ]
        },
        {
          "output_type": "stream",
          "name": "stderr",
          "text": [
            "\rValidating:  69%|\u2588\u2588\u2588\u2588\u2588\u2588\u2589   | 83/120 [00:13<00:05,  6.62it/s]"
          ]
        },
        {
          "output_type": "stream",
          "name": "stderr",
          "text": [
            "\rValidating:  70%|\u2588\u2588\u2588\u2588\u2588\u2588\u2588   | 84/120 [00:13<00:05,  6.61it/s]"
          ]
        },
        {
          "output_type": "stream",
          "name": "stderr",
          "text": [
            "\rValidating:  71%|\u2588\u2588\u2588\u2588\u2588\u2588\u2588   | 85/120 [00:13<00:05,  6.62it/s]"
          ]
        },
        {
          "output_type": "stream",
          "name": "stderr",
          "text": [
            "\rValidating:  72%|\u2588\u2588\u2588\u2588\u2588\u2588\u2588\u258f  | 86/120 [00:13<00:05,  6.62it/s]"
          ]
        },
        {
          "output_type": "stream",
          "name": "stderr",
          "text": [
            "\rValidating:  72%|\u2588\u2588\u2588\u2588\u2588\u2588\u2588\u258e  | 87/120 [00:14<00:04,  6.63it/s]"
          ]
        },
        {
          "output_type": "stream",
          "name": "stderr",
          "text": [
            "\rValidating:  73%|\u2588\u2588\u2588\u2588\u2588\u2588\u2588\u258e  | 88/120 [00:14<00:04,  6.63it/s]"
          ]
        },
        {
          "output_type": "stream",
          "name": "stderr",
          "text": [
            "\rValidating:  74%|\u2588\u2588\u2588\u2588\u2588\u2588\u2588\u258d  | 89/120 [00:14<00:04,  6.63it/s]"
          ]
        },
        {
          "output_type": "stream",
          "name": "stderr",
          "text": [
            "\rValidating:  75%|\u2588\u2588\u2588\u2588\u2588\u2588\u2588\u258c  | 90/120 [00:14<00:04,  6.63it/s]"
          ]
        },
        {
          "output_type": "stream",
          "name": "stderr",
          "text": [
            "\rValidating:  76%|\u2588\u2588\u2588\u2588\u2588\u2588\u2588\u258c  | 91/120 [00:14<00:04,  6.63it/s]"
          ]
        },
        {
          "output_type": "stream",
          "name": "stderr",
          "text": [
            "\rValidating:  77%|\u2588\u2588\u2588\u2588\u2588\u2588\u2588\u258b  | 92/120 [00:14<00:04,  6.61it/s]"
          ]
        },
        {
          "output_type": "stream",
          "name": "stderr",
          "text": [
            "\rValidating:  78%|\u2588\u2588\u2588\u2588\u2588\u2588\u2588\u258a  | 93/120 [00:15<00:04,  6.60it/s]"
          ]
        },
        {
          "output_type": "stream",
          "name": "stderr",
          "text": [
            "\rValidating:  78%|\u2588\u2588\u2588\u2588\u2588\u2588\u2588\u258a  | 94/120 [00:15<00:03,  6.59it/s]"
          ]
        },
        {
          "output_type": "stream",
          "name": "stderr",
          "text": [
            "\rValidating:  79%|\u2588\u2588\u2588\u2588\u2588\u2588\u2588\u2589  | 95/120 [00:15<00:03,  6.60it/s]"
          ]
        },
        {
          "output_type": "stream",
          "name": "stderr",
          "text": [
            "\rValidating:  80%|\u2588\u2588\u2588\u2588\u2588\u2588\u2588\u2588  | 96/120 [00:15<00:03,  6.59it/s]"
          ]
        },
        {
          "output_type": "stream",
          "name": "stderr",
          "text": [
            "\rValidating:  81%|\u2588\u2588\u2588\u2588\u2588\u2588\u2588\u2588  | 97/120 [00:15<00:03,  6.60it/s]"
          ]
        },
        {
          "output_type": "stream",
          "name": "stderr",
          "text": [
            "\rValidating:  82%|\u2588\u2588\u2588\u2588\u2588\u2588\u2588\u2588\u258f | 98/120 [00:15<00:03,  6.52it/s]"
          ]
        },
        {
          "output_type": "stream",
          "name": "stderr",
          "text": [
            "\rValidating:  82%|\u2588\u2588\u2588\u2588\u2588\u2588\u2588\u2588\u258e | 99/120 [00:15<00:03,  6.55it/s]"
          ]
        },
        {
          "output_type": "stream",
          "name": "stderr",
          "text": [
            "\rValidating:  83%|\u2588\u2588\u2588\u2588\u2588\u2588\u2588\u2588\u258e | 100/120 [00:16<00:03,  6.56it/s]"
          ]
        },
        {
          "output_type": "stream",
          "name": "stderr",
          "text": [
            "\rValidating:  84%|\u2588\u2588\u2588\u2588\u2588\u2588\u2588\u2588\u258d | 101/120 [00:16<00:02,  6.58it/s]"
          ]
        },
        {
          "output_type": "stream",
          "name": "stderr",
          "text": [
            "\rValidating:  85%|\u2588\u2588\u2588\u2588\u2588\u2588\u2588\u2588\u258c | 102/120 [00:16<00:02,  6.58it/s]"
          ]
        },
        {
          "output_type": "stream",
          "name": "stderr",
          "text": [
            "\rValidating:  86%|\u2588\u2588\u2588\u2588\u2588\u2588\u2588\u2588\u258c | 103/120 [00:16<00:02,  6.59it/s]"
          ]
        },
        {
          "output_type": "stream",
          "name": "stderr",
          "text": [
            "\rValidating:  87%|\u2588\u2588\u2588\u2588\u2588\u2588\u2588\u2588\u258b | 104/120 [00:16<00:02,  6.58it/s]"
          ]
        },
        {
          "output_type": "stream",
          "name": "stderr",
          "text": [
            "\rValidating:  88%|\u2588\u2588\u2588\u2588\u2588\u2588\u2588\u2588\u258a | 105/120 [00:16<00:02,  6.59it/s]"
          ]
        },
        {
          "output_type": "stream",
          "name": "stderr",
          "text": [
            "\rValidating:  88%|\u2588\u2588\u2588\u2588\u2588\u2588\u2588\u2588\u258a | 106/120 [00:16<00:02,  6.57it/s]"
          ]
        },
        {
          "output_type": "stream",
          "name": "stderr",
          "text": [
            "\rValidating:  89%|\u2588\u2588\u2588\u2588\u2588\u2588\u2588\u2588\u2589 | 107/120 [00:17<00:01,  6.57it/s]"
          ]
        },
        {
          "output_type": "stream",
          "name": "stderr",
          "text": [
            "\rValidating:  90%|\u2588\u2588\u2588\u2588\u2588\u2588\u2588\u2588\u2588 | 108/120 [00:17<00:01,  6.54it/s]"
          ]
        },
        {
          "output_type": "stream",
          "name": "stderr",
          "text": [
            "\rValidating:  91%|\u2588\u2588\u2588\u2588\u2588\u2588\u2588\u2588\u2588 | 109/120 [00:17<00:01,  6.52it/s]"
          ]
        },
        {
          "output_type": "stream",
          "name": "stderr",
          "text": [
            "\rValidating:  92%|\u2588\u2588\u2588\u2588\u2588\u2588\u2588\u2588\u2588\u258f| 110/120 [00:17<00:01,  6.54it/s]"
          ]
        },
        {
          "output_type": "stream",
          "name": "stderr",
          "text": [
            "\rValidating:  92%|\u2588\u2588\u2588\u2588\u2588\u2588\u2588\u2588\u2588\u258e| 111/120 [00:17<00:01,  6.56it/s]"
          ]
        },
        {
          "output_type": "stream",
          "name": "stderr",
          "text": [
            "\rValidating:  93%|\u2588\u2588\u2588\u2588\u2588\u2588\u2588\u2588\u2588\u258e| 112/120 [00:17<00:01,  6.51it/s]"
          ]
        },
        {
          "output_type": "stream",
          "name": "stderr",
          "text": [
            "\rValidating:  94%|\u2588\u2588\u2588\u2588\u2588\u2588\u2588\u2588\u2588\u258d| 113/120 [00:18<00:01,  6.54it/s]"
          ]
        },
        {
          "output_type": "stream",
          "name": "stderr",
          "text": [
            "\rValidating:  95%|\u2588\u2588\u2588\u2588\u2588\u2588\u2588\u2588\u2588\u258c| 114/120 [00:18<00:00,  6.57it/s]"
          ]
        },
        {
          "output_type": "stream",
          "name": "stderr",
          "text": [
            "\rValidating:  96%|\u2588\u2588\u2588\u2588\u2588\u2588\u2588\u2588\u2588\u258c| 115/120 [00:18<00:00,  6.59it/s]"
          ]
        },
        {
          "output_type": "stream",
          "name": "stderr",
          "text": [
            "\rValidating:  97%|\u2588\u2588\u2588\u2588\u2588\u2588\u2588\u2588\u2588\u258b| 116/120 [00:18<00:00,  6.60it/s]"
          ]
        },
        {
          "output_type": "stream",
          "name": "stderr",
          "text": [
            "\rValidating:  98%|\u2588\u2588\u2588\u2588\u2588\u2588\u2588\u2588\u2588\u258a| 117/120 [00:18<00:00,  6.61it/s]"
          ]
        },
        {
          "output_type": "stream",
          "name": "stderr",
          "text": [
            "\rValidating:  98%|\u2588\u2588\u2588\u2588\u2588\u2588\u2588\u2588\u2588\u258a| 118/120 [00:18<00:00,  6.62it/s]"
          ]
        },
        {
          "output_type": "stream",
          "name": "stderr",
          "text": [
            "\rValidating:  99%|\u2588\u2588\u2588\u2588\u2588\u2588\u2588\u2588\u2588\u2589| 119/120 [00:18<00:00,  6.62it/s]"
          ]
        },
        {
          "output_type": "stream",
          "name": "stderr",
          "text": [
            "\rValidating: 100%|\u2588\u2588\u2588\u2588\u2588\u2588\u2588\u2588\u2588\u2588| 120/120 [00:19<00:00,  6.30it/s]"
          ]
        },
        {
          "output_type": "stream",
          "name": "stderr",
          "text": [
            "\n"
          ]
        },
        {
          "output_type": "stream",
          "name": "stdout",
          "text": [
            "Epoch 15/20 - Time: 52s - Train Loss: 0.0676 - Val F0.5: 0.7968 @ thr=0.20 (P: 0.8845, R: 0.5704)\n"
          ]
        },
        {
          "output_type": "stream",
          "name": "stdout",
          "text": [
            "  >> New best score! Model saved to best_model_fold_2.pth\n"
          ]
        },
        {
          "output_type": "stream",
          "name": "stderr",
          "text": [
            "\rTraining:   0%|          | 0/35 [00:00<?, ?it/s]"
          ]
        },
        {
          "output_type": "stream",
          "name": "stderr",
          "text": [
            "\rTraining:   3%|\u258e         | 1/35 [00:01<00:59,  1.74s/it]"
          ]
        },
        {
          "output_type": "stream",
          "name": "stderr",
          "text": [
            "\rTraining:   6%|\u258c         | 2/35 [00:02<00:29,  1.14it/s]"
          ]
        },
        {
          "output_type": "stream",
          "name": "stderr",
          "text": [
            "\rTraining:   9%|\u258a         | 3/35 [00:02<00:19,  1.66it/s]"
          ]
        },
        {
          "output_type": "stream",
          "name": "stderr",
          "text": [
            "\rTraining:  11%|\u2588\u258f        | 4/35 [00:02<00:14,  2.11it/s]"
          ]
        },
        {
          "output_type": "stream",
          "name": "stderr",
          "text": [
            "\rTraining:  14%|\u2588\u258d        | 5/35 [00:02<00:12,  2.48it/s]"
          ]
        },
        {
          "output_type": "stream",
          "name": "stderr",
          "text": [
            "\rTraining:  17%|\u2588\u258b        | 6/35 [00:03<00:10,  2.78it/s]"
          ]
        },
        {
          "output_type": "stream",
          "name": "stderr",
          "text": [
            "\rTraining:  20%|\u2588\u2588        | 7/35 [00:03<00:09,  3.01it/s]"
          ]
        },
        {
          "output_type": "stream",
          "name": "stderr",
          "text": [
            "\rTraining:  23%|\u2588\u2588\u258e       | 8/35 [00:03<00:08,  3.18it/s]"
          ]
        },
        {
          "output_type": "stream",
          "name": "stderr",
          "text": [
            "\rTraining:  26%|\u2588\u2588\u258c       | 9/35 [00:03<00:07,  3.31it/s]"
          ]
        },
        {
          "output_type": "stream",
          "name": "stderr",
          "text": [
            "\rTraining:  29%|\u2588\u2588\u258a       | 10/35 [00:04<00:07,  3.40it/s]"
          ]
        },
        {
          "output_type": "stream",
          "name": "stderr",
          "text": [
            "\rTraining:  31%|\u2588\u2588\u2588\u258f      | 11/35 [00:04<00:06,  3.47it/s]"
          ]
        },
        {
          "output_type": "stream",
          "name": "stderr",
          "text": [
            "\rTraining:  34%|\u2588\u2588\u2588\u258d      | 12/35 [00:04<00:06,  3.51it/s]"
          ]
        },
        {
          "output_type": "stream",
          "name": "stderr",
          "text": [
            "\rTraining:  37%|\u2588\u2588\u2588\u258b      | 13/35 [00:05<00:06,  3.54it/s]"
          ]
        },
        {
          "output_type": "stream",
          "name": "stderr",
          "text": [
            "\rTraining:  40%|\u2588\u2588\u2588\u2588      | 14/35 [00:05<00:05,  3.57it/s]"
          ]
        },
        {
          "output_type": "stream",
          "name": "stderr",
          "text": [
            "\rTraining:  43%|\u2588\u2588\u2588\u2588\u258e     | 15/35 [00:05<00:05,  3.59it/s]"
          ]
        },
        {
          "output_type": "stream",
          "name": "stderr",
          "text": [
            "\rTraining:  46%|\u2588\u2588\u2588\u2588\u258c     | 16/35 [00:05<00:05,  3.60it/s]"
          ]
        },
        {
          "output_type": "stream",
          "name": "stderr",
          "text": [
            "\rTraining:  49%|\u2588\u2588\u2588\u2588\u258a     | 17/35 [00:06<00:04,  3.61it/s]"
          ]
        },
        {
          "output_type": "stream",
          "name": "stderr",
          "text": [
            "\rTraining:  51%|\u2588\u2588\u2588\u2588\u2588\u258f    | 18/35 [00:06<00:04,  3.61it/s]"
          ]
        },
        {
          "output_type": "stream",
          "name": "stderr",
          "text": [
            "\rTraining:  54%|\u2588\u2588\u2588\u2588\u2588\u258d    | 19/35 [00:06<00:04,  3.62it/s]"
          ]
        },
        {
          "output_type": "stream",
          "name": "stderr",
          "text": [
            "\rTraining:  57%|\u2588\u2588\u2588\u2588\u2588\u258b    | 20/35 [00:06<00:04,  3.61it/s]"
          ]
        },
        {
          "output_type": "stream",
          "name": "stderr",
          "text": [
            "\rTraining:  60%|\u2588\u2588\u2588\u2588\u2588\u2588    | 21/35 [00:07<00:03,  3.62it/s]"
          ]
        },
        {
          "output_type": "stream",
          "name": "stderr",
          "text": [
            "\rTraining:  63%|\u2588\u2588\u2588\u2588\u2588\u2588\u258e   | 22/35 [00:07<00:03,  3.62it/s]"
          ]
        },
        {
          "output_type": "stream",
          "name": "stderr",
          "text": [
            "\rTraining:  66%|\u2588\u2588\u2588\u2588\u2588\u2588\u258c   | 23/35 [00:07<00:03,  3.62it/s]"
          ]
        },
        {
          "output_type": "stream",
          "name": "stderr",
          "text": [
            "\rTraining:  69%|\u2588\u2588\u2588\u2588\u2588\u2588\u258a   | 24/35 [00:08<00:03,  3.61it/s]"
          ]
        },
        {
          "output_type": "stream",
          "name": "stderr",
          "text": [
            "\rTraining:  71%|\u2588\u2588\u2588\u2588\u2588\u2588\u2588\u258f  | 25/35 [00:08<00:02,  3.61it/s]"
          ]
        },
        {
          "output_type": "stream",
          "name": "stderr",
          "text": [
            "\rTraining:  74%|\u2588\u2588\u2588\u2588\u2588\u2588\u2588\u258d  | 26/35 [00:08<00:02,  3.62it/s]"
          ]
        },
        {
          "output_type": "stream",
          "name": "stderr",
          "text": [
            "\rTraining:  77%|\u2588\u2588\u2588\u2588\u2588\u2588\u2588\u258b  | 27/35 [00:08<00:02,  3.62it/s]"
          ]
        },
        {
          "output_type": "stream",
          "name": "stderr",
          "text": [
            "\rTraining:  80%|\u2588\u2588\u2588\u2588\u2588\u2588\u2588\u2588  | 28/35 [00:09<00:01,  3.62it/s]"
          ]
        },
        {
          "output_type": "stream",
          "name": "stderr",
          "text": [
            "\rTraining:  83%|\u2588\u2588\u2588\u2588\u2588\u2588\u2588\u2588\u258e | 29/35 [00:09<00:01,  3.62it/s]"
          ]
        },
        {
          "output_type": "stream",
          "name": "stderr",
          "text": [
            "\rTraining:  86%|\u2588\u2588\u2588\u2588\u2588\u2588\u2588\u2588\u258c | 30/35 [00:09<00:01,  3.63it/s]"
          ]
        },
        {
          "output_type": "stream",
          "name": "stderr",
          "text": [
            "\rTraining:  89%|\u2588\u2588\u2588\u2588\u2588\u2588\u2588\u2588\u258a | 31/35 [00:10<00:01,  3.63it/s]"
          ]
        },
        {
          "output_type": "stream",
          "name": "stderr",
          "text": [
            "\rTraining:  91%|\u2588\u2588\u2588\u2588\u2588\u2588\u2588\u2588\u2588\u258f| 32/35 [00:10<00:00,  3.63it/s]"
          ]
        },
        {
          "output_type": "stream",
          "name": "stderr",
          "text": [
            "\rTraining:  94%|\u2588\u2588\u2588\u2588\u2588\u2588\u2588\u2588\u2588\u258d| 33/35 [00:10<00:00,  3.63it/s]"
          ]
        },
        {
          "output_type": "stream",
          "name": "stderr",
          "text": [
            "\rTraining:  97%|\u2588\u2588\u2588\u2588\u2588\u2588\u2588\u2588\u2588\u258b| 34/35 [00:10<00:00,  3.63it/s]"
          ]
        },
        {
          "output_type": "stream",
          "name": "stderr",
          "text": [
            "\rTraining: 100%|\u2588\u2588\u2588\u2588\u2588\u2588\u2588\u2588\u2588\u2588| 35/35 [00:11<00:00,  3.63it/s]"
          ]
        },
        {
          "output_type": "stream",
          "name": "stderr",
          "text": [
            "\rTraining: 100%|\u2588\u2588\u2588\u2588\u2588\u2588\u2588\u2588\u2588\u2588| 35/35 [00:11<00:00,  3.12it/s]"
          ]
        },
        {
          "output_type": "stream",
          "name": "stderr",
          "text": [
            "\n"
          ]
        },
        {
          "output_type": "stream",
          "name": "stderr",
          "text": [
            "\rValidating:   0%|          | 0/120 [00:00<?, ?it/s]"
          ]
        },
        {
          "output_type": "stream",
          "name": "stderr",
          "text": [
            "\rValidating:   1%|          | 1/120 [00:01<02:01,  1.02s/it]"
          ]
        },
        {
          "output_type": "stream",
          "name": "stderr",
          "text": [
            "\rValidating:   2%|\u258f         | 2/120 [00:01<01:00,  1.95it/s]"
          ]
        },
        {
          "output_type": "stream",
          "name": "stderr",
          "text": [
            "\rValidating:   2%|\u258e         | 3/120 [00:01<00:40,  2.88it/s]"
          ]
        },
        {
          "output_type": "stream",
          "name": "stderr",
          "text": [
            "\rValidating:   3%|\u258e         | 4/120 [00:01<00:31,  3.69it/s]"
          ]
        },
        {
          "output_type": "stream",
          "name": "stderr",
          "text": [
            "\rValidating:   4%|\u258d         | 5/120 [00:01<00:26,  4.40it/s]"
          ]
        },
        {
          "output_type": "stream",
          "name": "stderr",
          "text": [
            "\rValidating:   5%|\u258c         | 6/120 [00:01<00:23,  4.90it/s]"
          ]
        },
        {
          "output_type": "stream",
          "name": "stderr",
          "text": [
            "\rValidating:   6%|\u258c         | 7/120 [00:01<00:21,  5.36it/s]"
          ]
        },
        {
          "output_type": "stream",
          "name": "stderr",
          "text": [
            "\rValidating:   7%|\u258b         | 8/120 [00:02<00:19,  5.71it/s]"
          ]
        },
        {
          "output_type": "stream",
          "name": "stderr",
          "text": [
            "\rValidating:   8%|\u258a         | 9/120 [00:02<00:18,  5.98it/s]"
          ]
        },
        {
          "output_type": "stream",
          "name": "stderr",
          "text": [
            "\rValidating:   8%|\u258a         | 10/120 [00:02<00:18,  6.08it/s]"
          ]
        },
        {
          "output_type": "stream",
          "name": "stderr",
          "text": [
            "\rValidating:   9%|\u2589         | 11/120 [00:02<00:17,  6.25it/s]"
          ]
        },
        {
          "output_type": "stream",
          "name": "stderr",
          "text": [
            "\rValidating:  10%|\u2588         | 12/120 [00:02<00:17,  6.35it/s]"
          ]
        },
        {
          "output_type": "stream",
          "name": "stderr",
          "text": [
            "\rValidating:  11%|\u2588         | 13/120 [00:02<00:16,  6.44it/s]"
          ]
        },
        {
          "output_type": "stream",
          "name": "stderr",
          "text": [
            "\rValidating:  12%|\u2588\u258f        | 14/120 [00:03<00:16,  6.48it/s]"
          ]
        },
        {
          "output_type": "stream",
          "name": "stderr",
          "text": [
            "\rValidating:  12%|\u2588\u258e        | 15/120 [00:03<00:16,  6.53it/s]"
          ]
        },
        {
          "output_type": "stream",
          "name": "stderr",
          "text": [
            "\rValidating:  13%|\u2588\u258e        | 16/120 [00:03<00:15,  6.55it/s]"
          ]
        },
        {
          "output_type": "stream",
          "name": "stderr",
          "text": [
            "\rValidating:  14%|\u2588\u258d        | 17/120 [00:03<00:15,  6.57it/s]"
          ]
        },
        {
          "output_type": "stream",
          "name": "stderr",
          "text": [
            "\rValidating:  15%|\u2588\u258c        | 18/120 [00:03<00:15,  6.57it/s]"
          ]
        },
        {
          "output_type": "stream",
          "name": "stderr",
          "text": [
            "\rValidating:  16%|\u2588\u258c        | 19/120 [00:03<00:15,  6.59it/s]"
          ]
        },
        {
          "output_type": "stream",
          "name": "stderr",
          "text": [
            "\rValidating:  17%|\u2588\u258b        | 20/120 [00:03<00:15,  6.59it/s]"
          ]
        },
        {
          "output_type": "stream",
          "name": "stderr",
          "text": [
            "\rValidating:  18%|\u2588\u258a        | 21/120 [00:04<00:15,  6.59it/s]"
          ]
        },
        {
          "output_type": "stream",
          "name": "stderr",
          "text": [
            "\rValidating:  18%|\u2588\u258a        | 22/120 [00:04<00:14,  6.60it/s]"
          ]
        },
        {
          "output_type": "stream",
          "name": "stderr",
          "text": [
            "\rValidating:  19%|\u2588\u2589        | 23/120 [00:04<00:14,  6.60it/s]"
          ]
        },
        {
          "output_type": "stream",
          "name": "stderr",
          "text": [
            "\rValidating:  20%|\u2588\u2588        | 24/120 [00:04<00:14,  6.60it/s]"
          ]
        },
        {
          "output_type": "stream",
          "name": "stderr",
          "text": [
            "\rValidating:  21%|\u2588\u2588        | 25/120 [00:04<00:14,  6.61it/s]"
          ]
        },
        {
          "output_type": "stream",
          "name": "stderr",
          "text": [
            "\rValidating:  22%|\u2588\u2588\u258f       | 26/120 [00:04<00:14,  6.61it/s]"
          ]
        },
        {
          "output_type": "stream",
          "name": "stderr",
          "text": [
            "\rValidating:  22%|\u2588\u2588\u258e       | 27/120 [00:04<00:14,  6.62it/s]"
          ]
        },
        {
          "output_type": "stream",
          "name": "stderr",
          "text": [
            "\rValidating:  23%|\u2588\u2588\u258e       | 28/120 [00:05<00:13,  6.61it/s]"
          ]
        },
        {
          "output_type": "stream",
          "name": "stderr",
          "text": [
            "\rValidating:  24%|\u2588\u2588\u258d       | 29/120 [00:05<00:13,  6.62it/s]"
          ]
        },
        {
          "output_type": "stream",
          "name": "stderr",
          "text": [
            "\rValidating:  25%|\u2588\u2588\u258c       | 30/120 [00:05<00:13,  6.61it/s]"
          ]
        },
        {
          "output_type": "stream",
          "name": "stderr",
          "text": [
            "\rValidating:  26%|\u2588\u2588\u258c       | 31/120 [00:05<00:13,  6.62it/s]"
          ]
        },
        {
          "output_type": "stream",
          "name": "stderr",
          "text": [
            "\rValidating:  27%|\u2588\u2588\u258b       | 32/120 [00:05<00:13,  6.60it/s]"
          ]
        },
        {
          "output_type": "stream",
          "name": "stderr",
          "text": [
            "\rValidating:  28%|\u2588\u2588\u258a       | 33/120 [00:05<00:13,  6.60it/s]"
          ]
        },
        {
          "output_type": "stream",
          "name": "stderr",
          "text": [
            "\rValidating:  28%|\u2588\u2588\u258a       | 34/120 [00:06<00:13,  6.60it/s]"
          ]
        },
        {
          "output_type": "stream",
          "name": "stderr",
          "text": [
            "\rValidating:  29%|\u2588\u2588\u2589       | 35/120 [00:06<00:12,  6.61it/s]"
          ]
        },
        {
          "output_type": "stream",
          "name": "stderr",
          "text": [
            "\rValidating:  30%|\u2588\u2588\u2588       | 36/120 [00:06<00:12,  6.60it/s]"
          ]
        },
        {
          "output_type": "stream",
          "name": "stderr",
          "text": [
            "\rValidating:  31%|\u2588\u2588\u2588       | 37/120 [00:06<00:12,  6.61it/s]"
          ]
        },
        {
          "output_type": "stream",
          "name": "stderr",
          "text": [
            "\rValidating:  32%|\u2588\u2588\u2588\u258f      | 38/120 [00:06<00:12,  6.61it/s]"
          ]
        },
        {
          "output_type": "stream",
          "name": "stderr",
          "text": [
            "\rValidating:  32%|\u2588\u2588\u2588\u258e      | 39/120 [00:06<00:12,  6.61it/s]"
          ]
        },
        {
          "output_type": "stream",
          "name": "stderr",
          "text": [
            "\rValidating:  33%|\u2588\u2588\u2588\u258e      | 40/120 [00:06<00:12,  6.61it/s]"
          ]
        },
        {
          "output_type": "stream",
          "name": "stderr",
          "text": [
            "\rValidating:  34%|\u2588\u2588\u2588\u258d      | 41/120 [00:07<00:11,  6.61it/s]"
          ]
        },
        {
          "output_type": "stream",
          "name": "stderr",
          "text": [
            "\rValidating:  35%|\u2588\u2588\u2588\u258c      | 42/120 [00:07<00:11,  6.60it/s]"
          ]
        },
        {
          "output_type": "stream",
          "name": "stderr",
          "text": [
            "\rValidating:  36%|\u2588\u2588\u2588\u258c      | 43/120 [00:07<00:11,  6.61it/s]"
          ]
        },
        {
          "output_type": "stream",
          "name": "stderr",
          "text": [
            "\rValidating:  37%|\u2588\u2588\u2588\u258b      | 44/120 [00:07<00:11,  6.60it/s]"
          ]
        },
        {
          "output_type": "stream",
          "name": "stderr",
          "text": [
            "\rValidating:  38%|\u2588\u2588\u2588\u258a      | 45/120 [00:07<00:11,  6.61it/s]"
          ]
        },
        {
          "output_type": "stream",
          "name": "stderr",
          "text": [
            "\rValidating:  38%|\u2588\u2588\u2588\u258a      | 46/120 [00:07<00:11,  6.60it/s]"
          ]
        },
        {
          "output_type": "stream",
          "name": "stderr",
          "text": [
            "\rValidating:  39%|\u2588\u2588\u2588\u2589      | 47/120 [00:07<00:11,  6.61it/s]"
          ]
        },
        {
          "output_type": "stream",
          "name": "stderr",
          "text": [
            "\rValidating:  40%|\u2588\u2588\u2588\u2588      | 48/120 [00:08<00:10,  6.60it/s]"
          ]
        },
        {
          "output_type": "stream",
          "name": "stderr",
          "text": [
            "\rValidating:  41%|\u2588\u2588\u2588\u2588      | 49/120 [00:08<00:10,  6.60it/s]"
          ]
        },
        {
          "output_type": "stream",
          "name": "stderr",
          "text": [
            "\rValidating:  42%|\u2588\u2588\u2588\u2588\u258f     | 50/120 [00:08<00:10,  6.60it/s]"
          ]
        },
        {
          "output_type": "stream",
          "name": "stderr",
          "text": [
            "\rValidating:  42%|\u2588\u2588\u2588\u2588\u258e     | 51/120 [00:08<00:10,  6.61it/s]"
          ]
        },
        {
          "output_type": "stream",
          "name": "stderr",
          "text": [
            "\rValidating:  43%|\u2588\u2588\u2588\u2588\u258e     | 52/120 [00:08<00:10,  6.60it/s]"
          ]
        },
        {
          "output_type": "stream",
          "name": "stderr",
          "text": [
            "\rValidating:  44%|\u2588\u2588\u2588\u2588\u258d     | 53/120 [00:08<00:10,  6.61it/s]"
          ]
        },
        {
          "output_type": "stream",
          "name": "stderr",
          "text": [
            "\rValidating:  45%|\u2588\u2588\u2588\u2588\u258c     | 54/120 [00:09<00:09,  6.60it/s]"
          ]
        },
        {
          "output_type": "stream",
          "name": "stderr",
          "text": [
            "\rValidating:  46%|\u2588\u2588\u2588\u2588\u258c     | 55/120 [00:09<00:09,  6.61it/s]"
          ]
        },
        {
          "output_type": "stream",
          "name": "stderr",
          "text": [
            "\rValidating:  47%|\u2588\u2588\u2588\u2588\u258b     | 56/120 [00:09<00:09,  6.60it/s]"
          ]
        },
        {
          "output_type": "stream",
          "name": "stderr",
          "text": [
            "\rValidating:  48%|\u2588\u2588\u2588\u2588\u258a     | 57/120 [00:09<00:09,  6.61it/s]"
          ]
        },
        {
          "output_type": "stream",
          "name": "stderr",
          "text": [
            "\rValidating:  48%|\u2588\u2588\u2588\u2588\u258a     | 58/120 [00:09<00:09,  6.60it/s]"
          ]
        },
        {
          "output_type": "stream",
          "name": "stderr",
          "text": [
            "\rValidating:  49%|\u2588\u2588\u2588\u2588\u2589     | 59/120 [00:09<00:09,  6.61it/s]"
          ]
        },
        {
          "output_type": "stream",
          "name": "stderr",
          "text": [
            "\rValidating:  50%|\u2588\u2588\u2588\u2588\u2588     | 60/120 [00:09<00:09,  6.59it/s]"
          ]
        },
        {
          "output_type": "stream",
          "name": "stderr",
          "text": [
            "\rValidating:  51%|\u2588\u2588\u2588\u2588\u2588     | 61/120 [00:10<00:08,  6.60it/s]"
          ]
        },
        {
          "output_type": "stream",
          "name": "stderr",
          "text": [
            "\rValidating:  52%|\u2588\u2588\u2588\u2588\u2588\u258f    | 62/120 [00:10<00:08,  6.60it/s]"
          ]
        },
        {
          "output_type": "stream",
          "name": "stderr",
          "text": [
            "\rValidating:  52%|\u2588\u2588\u2588\u2588\u2588\u258e    | 63/120 [00:10<00:08,  6.60it/s]"
          ]
        },
        {
          "output_type": "stream",
          "name": "stderr",
          "text": [
            "\rValidating:  53%|\u2588\u2588\u2588\u2588\u2588\u258e    | 64/120 [00:10<00:08,  6.59it/s]"
          ]
        },
        {
          "output_type": "stream",
          "name": "stderr",
          "text": [
            "\rValidating:  54%|\u2588\u2588\u2588\u2588\u2588\u258d    | 65/120 [00:10<00:08,  6.60it/s]"
          ]
        },
        {
          "output_type": "stream",
          "name": "stderr",
          "text": [
            "\rValidating:  55%|\u2588\u2588\u2588\u2588\u2588\u258c    | 66/120 [00:10<00:08,  6.60it/s]"
          ]
        },
        {
          "output_type": "stream",
          "name": "stderr",
          "text": [
            "\rValidating:  56%|\u2588\u2588\u2588\u2588\u2588\u258c    | 67/120 [00:11<00:08,  6.61it/s]"
          ]
        },
        {
          "output_type": "stream",
          "name": "stderr",
          "text": [
            "\rValidating:  57%|\u2588\u2588\u2588\u2588\u2588\u258b    | 68/120 [00:11<00:07,  6.59it/s]"
          ]
        },
        {
          "output_type": "stream",
          "name": "stderr",
          "text": [
            "\rValidating:  57%|\u2588\u2588\u2588\u2588\u2588\u258a    | 69/120 [00:11<00:07,  6.60it/s]"
          ]
        },
        {
          "output_type": "stream",
          "name": "stderr",
          "text": [
            "\rValidating:  58%|\u2588\u2588\u2588\u2588\u2588\u258a    | 70/120 [00:11<00:07,  6.59it/s]"
          ]
        },
        {
          "output_type": "stream",
          "name": "stderr",
          "text": [
            "\rValidating:  59%|\u2588\u2588\u2588\u2588\u2588\u2589    | 71/120 [00:11<00:07,  6.61it/s]"
          ]
        },
        {
          "output_type": "stream",
          "name": "stderr",
          "text": [
            "\rValidating:  60%|\u2588\u2588\u2588\u2588\u2588\u2588    | 72/120 [00:11<00:07,  6.59it/s]"
          ]
        },
        {
          "output_type": "stream",
          "name": "stderr",
          "text": [
            "\rValidating:  61%|\u2588\u2588\u2588\u2588\u2588\u2588    | 73/120 [00:11<00:07,  6.59it/s]"
          ]
        },
        {
          "output_type": "stream",
          "name": "stderr",
          "text": [
            "\rValidating:  62%|\u2588\u2588\u2588\u2588\u2588\u2588\u258f   | 74/120 [00:12<00:06,  6.59it/s]"
          ]
        },
        {
          "output_type": "stream",
          "name": "stderr",
          "text": [
            "\rValidating:  62%|\u2588\u2588\u2588\u2588\u2588\u2588\u258e   | 75/120 [00:12<00:06,  6.60it/s]"
          ]
        },
        {
          "output_type": "stream",
          "name": "stderr",
          "text": [
            "\rValidating:  63%|\u2588\u2588\u2588\u2588\u2588\u2588\u258e   | 76/120 [00:12<00:06,  6.59it/s]"
          ]
        },
        {
          "output_type": "stream",
          "name": "stderr",
          "text": [
            "\rValidating:  64%|\u2588\u2588\u2588\u2588\u2588\u2588\u258d   | 77/120 [00:12<00:06,  6.59it/s]"
          ]
        },
        {
          "output_type": "stream",
          "name": "stderr",
          "text": [
            "\rValidating:  65%|\u2588\u2588\u2588\u2588\u2588\u2588\u258c   | 78/120 [00:12<00:06,  6.54it/s]"
          ]
        },
        {
          "output_type": "stream",
          "name": "stderr",
          "text": [
            "\rValidating:  66%|\u2588\u2588\u2588\u2588\u2588\u2588\u258c   | 79/120 [00:12<00:06,  6.57it/s]"
          ]
        },
        {
          "output_type": "stream",
          "name": "stderr",
          "text": [
            "\rValidating:  67%|\u2588\u2588\u2588\u2588\u2588\u2588\u258b   | 80/120 [00:13<00:06,  6.56it/s]"
          ]
        },
        {
          "output_type": "stream",
          "name": "stderr",
          "text": [
            "\rValidating:  68%|\u2588\u2588\u2588\u2588\u2588\u2588\u258a   | 81/120 [00:13<00:05,  6.57it/s]"
          ]
        },
        {
          "output_type": "stream",
          "name": "stderr",
          "text": [
            "\rValidating:  68%|\u2588\u2588\u2588\u2588\u2588\u2588\u258a   | 82/120 [00:13<00:05,  6.57it/s]"
          ]
        },
        {
          "output_type": "stream",
          "name": "stderr",
          "text": [
            "\rValidating:  69%|\u2588\u2588\u2588\u2588\u2588\u2588\u2589   | 83/120 [00:13<00:05,  6.58it/s]"
          ]
        },
        {
          "output_type": "stream",
          "name": "stderr",
          "text": [
            "\rValidating:  70%|\u2588\u2588\u2588\u2588\u2588\u2588\u2588   | 84/120 [00:13<00:05,  6.59it/s]"
          ]
        },
        {
          "output_type": "stream",
          "name": "stderr",
          "text": [
            "\rValidating:  71%|\u2588\u2588\u2588\u2588\u2588\u2588\u2588   | 85/120 [00:13<00:05,  6.58it/s]"
          ]
        },
        {
          "output_type": "stream",
          "name": "stderr",
          "text": [
            "\rValidating:  72%|\u2588\u2588\u2588\u2588\u2588\u2588\u2588\u258f  | 86/120 [00:13<00:05,  6.59it/s]"
          ]
        },
        {
          "output_type": "stream",
          "name": "stderr",
          "text": [
            "\rValidating:  72%|\u2588\u2588\u2588\u2588\u2588\u2588\u2588\u258e  | 87/120 [00:14<00:05,  6.59it/s]"
          ]
        },
        {
          "output_type": "stream",
          "name": "stderr",
          "text": [
            "\rValidating:  73%|\u2588\u2588\u2588\u2588\u2588\u2588\u2588\u258e  | 88/120 [00:14<00:04,  6.59it/s]"
          ]
        },
        {
          "output_type": "stream",
          "name": "stderr",
          "text": [
            "\rValidating:  74%|\u2588\u2588\u2588\u2588\u2588\u2588\u2588\u258d  | 89/120 [00:14<00:04,  6.59it/s]"
          ]
        },
        {
          "output_type": "stream",
          "name": "stderr",
          "text": [
            "\rValidating:  75%|\u2588\u2588\u2588\u2588\u2588\u2588\u2588\u258c  | 90/120 [00:14<00:04,  6.60it/s]"
          ]
        },
        {
          "output_type": "stream",
          "name": "stderr",
          "text": [
            "\rValidating:  76%|\u2588\u2588\u2588\u2588\u2588\u2588\u2588\u258c  | 91/120 [00:14<00:04,  6.61it/s]"
          ]
        },
        {
          "output_type": "stream",
          "name": "stderr",
          "text": [
            "\rValidating:  77%|\u2588\u2588\u2588\u2588\u2588\u2588\u2588\u258b  | 92/120 [00:14<00:04,  6.59it/s]"
          ]
        },
        {
          "output_type": "stream",
          "name": "stderr",
          "text": [
            "\rValidating:  78%|\u2588\u2588\u2588\u2588\u2588\u2588\u2588\u258a  | 93/120 [00:14<00:04,  6.60it/s]"
          ]
        },
        {
          "output_type": "stream",
          "name": "stderr",
          "text": [
            "\rValidating:  78%|\u2588\u2588\u2588\u2588\u2588\u2588\u2588\u258a  | 94/120 [00:15<00:03,  6.59it/s]"
          ]
        },
        {
          "output_type": "stream",
          "name": "stderr",
          "text": [
            "\rValidating:  79%|\u2588\u2588\u2588\u2588\u2588\u2588\u2588\u2589  | 95/120 [00:15<00:03,  6.60it/s]"
          ]
        },
        {
          "output_type": "stream",
          "name": "stderr",
          "text": [
            "\rValidating:  80%|\u2588\u2588\u2588\u2588\u2588\u2588\u2588\u2588  | 96/120 [00:15<00:03,  6.60it/s]"
          ]
        },
        {
          "output_type": "stream",
          "name": "stderr",
          "text": [
            "\rValidating:  81%|\u2588\u2588\u2588\u2588\u2588\u2588\u2588\u2588  | 97/120 [00:15<00:03,  6.60it/s]"
          ]
        },
        {
          "output_type": "stream",
          "name": "stderr",
          "text": [
            "\rValidating:  82%|\u2588\u2588\u2588\u2588\u2588\u2588\u2588\u2588\u258f | 98/120 [00:15<00:03,  6.60it/s]"
          ]
        },
        {
          "output_type": "stream",
          "name": "stderr",
          "text": [
            "\rValidating:  82%|\u2588\u2588\u2588\u2588\u2588\u2588\u2588\u2588\u258e | 99/120 [00:15<00:03,  6.60it/s]"
          ]
        },
        {
          "output_type": "stream",
          "name": "stderr",
          "text": [
            "\rValidating:  83%|\u2588\u2588\u2588\u2588\u2588\u2588\u2588\u2588\u258e | 100/120 [00:16<00:03,  6.60it/s]"
          ]
        },
        {
          "output_type": "stream",
          "name": "stderr",
          "text": [
            "\rValidating:  84%|\u2588\u2588\u2588\u2588\u2588\u2588\u2588\u2588\u258d | 101/120 [00:16<00:02,  6.60it/s]"
          ]
        },
        {
          "output_type": "stream",
          "name": "stderr",
          "text": [
            "\rValidating:  85%|\u2588\u2588\u2588\u2588\u2588\u2588\u2588\u2588\u258c | 102/120 [00:16<00:02,  6.59it/s]"
          ]
        },
        {
          "output_type": "stream",
          "name": "stderr",
          "text": [
            "\rValidating:  86%|\u2588\u2588\u2588\u2588\u2588\u2588\u2588\u2588\u258c | 103/120 [00:16<00:02,  6.60it/s]"
          ]
        },
        {
          "output_type": "stream",
          "name": "stderr",
          "text": [
            "\rValidating:  87%|\u2588\u2588\u2588\u2588\u2588\u2588\u2588\u2588\u258b | 104/120 [00:16<00:02,  6.59it/s]"
          ]
        },
        {
          "output_type": "stream",
          "name": "stderr",
          "text": [
            "\rValidating:  88%|\u2588\u2588\u2588\u2588\u2588\u2588\u2588\u2588\u258a | 105/120 [00:16<00:02,  6.60it/s]"
          ]
        },
        {
          "output_type": "stream",
          "name": "stderr",
          "text": [
            "\rValidating:  88%|\u2588\u2588\u2588\u2588\u2588\u2588\u2588\u2588\u258a | 106/120 [00:16<00:02,  6.59it/s]"
          ]
        },
        {
          "output_type": "stream",
          "name": "stderr",
          "text": [
            "\rValidating:  89%|\u2588\u2588\u2588\u2588\u2588\u2588\u2588\u2588\u2589 | 107/120 [00:17<00:01,  6.59it/s]"
          ]
        },
        {
          "output_type": "stream",
          "name": "stderr",
          "text": [
            "\rValidating:  90%|\u2588\u2588\u2588\u2588\u2588\u2588\u2588\u2588\u2588 | 108/120 [00:17<00:01,  6.59it/s]"
          ]
        },
        {
          "output_type": "stream",
          "name": "stderr",
          "text": [
            "\rValidating:  91%|\u2588\u2588\u2588\u2588\u2588\u2588\u2588\u2588\u2588 | 109/120 [00:17<00:01,  6.60it/s]"
          ]
        },
        {
          "output_type": "stream",
          "name": "stderr",
          "text": [
            "\rValidating:  92%|\u2588\u2588\u2588\u2588\u2588\u2588\u2588\u2588\u2588\u258f| 110/120 [00:17<00:01,  6.60it/s]"
          ]
        },
        {
          "output_type": "stream",
          "name": "stderr",
          "text": [
            "\rValidating:  92%|\u2588\u2588\u2588\u2588\u2588\u2588\u2588\u2588\u2588\u258e| 111/120 [00:17<00:01,  6.60it/s]"
          ]
        },
        {
          "output_type": "stream",
          "name": "stderr",
          "text": [
            "\rValidating:  93%|\u2588\u2588\u2588\u2588\u2588\u2588\u2588\u2588\u2588\u258e| 112/120 [00:17<00:01,  6.59it/s]"
          ]
        },
        {
          "output_type": "stream",
          "name": "stderr",
          "text": [
            "\rValidating:  94%|\u2588\u2588\u2588\u2588\u2588\u2588\u2588\u2588\u2588\u258d| 113/120 [00:18<00:01,  6.60it/s]"
          ]
        },
        {
          "output_type": "stream",
          "name": "stderr",
          "text": [
            "\rValidating:  95%|\u2588\u2588\u2588\u2588\u2588\u2588\u2588\u2588\u2588\u258c| 114/120 [00:18<00:00,  6.59it/s]"
          ]
        },
        {
          "output_type": "stream",
          "name": "stderr",
          "text": [
            "\rValidating:  96%|\u2588\u2588\u2588\u2588\u2588\u2588\u2588\u2588\u2588\u258c| 115/120 [00:18<00:00,  6.61it/s]"
          ]
        },
        {
          "output_type": "stream",
          "name": "stderr",
          "text": [
            "\rValidating:  97%|\u2588\u2588\u2588\u2588\u2588\u2588\u2588\u2588\u2588\u258b| 116/120 [00:18<00:00,  6.60it/s]"
          ]
        },
        {
          "output_type": "stream",
          "name": "stderr",
          "text": [
            "\rValidating:  98%|\u2588\u2588\u2588\u2588\u2588\u2588\u2588\u2588\u2588\u258a| 117/120 [00:18<00:00,  6.62it/s]"
          ]
        },
        {
          "output_type": "stream",
          "name": "stderr",
          "text": [
            "\rValidating:  98%|\u2588\u2588\u2588\u2588\u2588\u2588\u2588\u2588\u2588\u258a| 118/120 [00:18<00:00,  6.62it/s]"
          ]
        },
        {
          "output_type": "stream",
          "name": "stderr",
          "text": [
            "\rValidating:  99%|\u2588\u2588\u2588\u2588\u2588\u2588\u2588\u2588\u2588\u2589| 119/120 [00:18<00:00,  6.63it/s]"
          ]
        },
        {
          "output_type": "stream",
          "name": "stderr",
          "text": [
            "\rValidating: 100%|\u2588\u2588\u2588\u2588\u2588\u2588\u2588\u2588\u2588\u2588| 120/120 [00:18<00:00,  6.32it/s]"
          ]
        },
        {
          "output_type": "stream",
          "name": "stderr",
          "text": [
            "\n"
          ]
        },
        {
          "output_type": "stream",
          "name": "stdout",
          "text": [
            "Epoch 16/20 - Time: 51s - Train Loss: 0.0609 - Val F0.5: 0.7879 @ thr=0.20 (P: 0.8702, R: 0.5716)\n"
          ]
        },
        {
          "output_type": "stream",
          "name": "stderr",
          "text": [
            "\rTraining:   0%|          | 0/35 [00:00<?, ?it/s]"
          ]
        },
        {
          "output_type": "stream",
          "name": "stderr",
          "text": [
            "\rTraining:   3%|\u258e         | 1/35 [00:01<01:00,  1.77s/it]"
          ]
        },
        {
          "output_type": "stream",
          "name": "stderr",
          "text": [
            "\rTraining:   6%|\u258c         | 2/35 [00:02<00:29,  1.12it/s]"
          ]
        },
        {
          "output_type": "stream",
          "name": "stderr",
          "text": [
            "\rTraining:   9%|\u258a         | 3/35 [00:02<00:19,  1.64it/s]"
          ]
        },
        {
          "output_type": "stream",
          "name": "stderr",
          "text": [
            "\rTraining:  11%|\u2588\u258f        | 4/35 [00:02<00:14,  2.09it/s]"
          ]
        },
        {
          "output_type": "stream",
          "name": "stderr",
          "text": [
            "\rTraining:  14%|\u2588\u258d        | 5/35 [00:02<00:12,  2.46it/s]"
          ]
        },
        {
          "output_type": "stream",
          "name": "stderr",
          "text": [
            "\rTraining:  17%|\u2588\u258b        | 6/35 [00:03<00:10,  2.76it/s]"
          ]
        },
        {
          "output_type": "stream",
          "name": "stderr",
          "text": [
            "\rTraining:  20%|\u2588\u2588        | 7/35 [00:03<00:09,  2.99it/s]"
          ]
        },
        {
          "output_type": "stream",
          "name": "stderr",
          "text": [
            "\rTraining:  23%|\u2588\u2588\u258e       | 8/35 [00:03<00:08,  3.16it/s]"
          ]
        },
        {
          "output_type": "stream",
          "name": "stderr",
          "text": [
            "\rTraining:  26%|\u2588\u2588\u258c       | 9/35 [00:03<00:07,  3.29it/s]"
          ]
        },
        {
          "output_type": "stream",
          "name": "stderr",
          "text": [
            "\rTraining:  29%|\u2588\u2588\u258a       | 10/35 [00:04<00:07,  3.38it/s]"
          ]
        },
        {
          "output_type": "stream",
          "name": "stderr",
          "text": [
            "\rTraining:  31%|\u2588\u2588\u2588\u258f      | 11/35 [00:04<00:06,  3.45it/s]"
          ]
        },
        {
          "output_type": "stream",
          "name": "stderr",
          "text": [
            "\rTraining:  34%|\u2588\u2588\u2588\u258d      | 12/35 [00:04<00:06,  3.50it/s]"
          ]
        },
        {
          "output_type": "stream",
          "name": "stderr",
          "text": [
            "\rTraining:  37%|\u2588\u2588\u2588\u258b      | 13/35 [00:05<00:06,  3.54it/s]"
          ]
        },
        {
          "output_type": "stream",
          "name": "stderr",
          "text": [
            "\rTraining:  40%|\u2588\u2588\u2588\u2588      | 14/35 [00:05<00:05,  3.57it/s]"
          ]
        },
        {
          "output_type": "stream",
          "name": "stderr",
          "text": [
            "\rTraining:  43%|\u2588\u2588\u2588\u2588\u258e     | 15/35 [00:05<00:05,  3.59it/s]"
          ]
        },
        {
          "output_type": "stream",
          "name": "stderr",
          "text": [
            "\rTraining:  46%|\u2588\u2588\u2588\u2588\u258c     | 16/35 [00:05<00:05,  3.59it/s]"
          ]
        },
        {
          "output_type": "stream",
          "name": "stderr",
          "text": [
            "\rTraining:  49%|\u2588\u2588\u2588\u2588\u258a     | 17/35 [00:06<00:04,  3.60it/s]"
          ]
        },
        {
          "output_type": "stream",
          "name": "stderr",
          "text": [
            "\rTraining:  51%|\u2588\u2588\u2588\u2588\u2588\u258f    | 18/35 [00:06<00:04,  3.61it/s]"
          ]
        },
        {
          "output_type": "stream",
          "name": "stderr",
          "text": [
            "\rTraining:  54%|\u2588\u2588\u2588\u2588\u2588\u258d    | 19/35 [00:06<00:04,  3.61it/s]"
          ]
        },
        {
          "output_type": "stream",
          "name": "stderr",
          "text": [
            "\rTraining:  57%|\u2588\u2588\u2588\u2588\u2588\u258b    | 20/35 [00:07<00:04,  3.61it/s]"
          ]
        },
        {
          "output_type": "stream",
          "name": "stderr",
          "text": [
            "\rTraining:  60%|\u2588\u2588\u2588\u2588\u2588\u2588    | 21/35 [00:07<00:03,  3.61it/s]"
          ]
        },
        {
          "output_type": "stream",
          "name": "stderr",
          "text": [
            "\rTraining:  63%|\u2588\u2588\u2588\u2588\u2588\u2588\u258e   | 22/35 [00:07<00:03,  3.62it/s]"
          ]
        },
        {
          "output_type": "stream",
          "name": "stderr",
          "text": [
            "\rTraining:  66%|\u2588\u2588\u2588\u2588\u2588\u2588\u258c   | 23/35 [00:07<00:03,  3.62it/s]"
          ]
        },
        {
          "output_type": "stream",
          "name": "stderr",
          "text": [
            "\rTraining:  69%|\u2588\u2588\u2588\u2588\u2588\u2588\u258a   | 24/35 [00:08<00:03,  3.62it/s]"
          ]
        },
        {
          "output_type": "stream",
          "name": "stderr",
          "text": [
            "\rTraining:  71%|\u2588\u2588\u2588\u2588\u2588\u2588\u2588\u258f  | 25/35 [00:08<00:02,  3.62it/s]"
          ]
        },
        {
          "output_type": "stream",
          "name": "stderr",
          "text": [
            "\rTraining:  74%|\u2588\u2588\u2588\u2588\u2588\u2588\u2588\u258d  | 26/35 [00:08<00:02,  3.62it/s]"
          ]
        },
        {
          "output_type": "stream",
          "name": "stderr",
          "text": [
            "\rTraining:  77%|\u2588\u2588\u2588\u2588\u2588\u2588\u2588\u258b  | 27/35 [00:08<00:02,  3.62it/s]"
          ]
        },
        {
          "output_type": "stream",
          "name": "stderr",
          "text": [
            "\rTraining:  80%|\u2588\u2588\u2588\u2588\u2588\u2588\u2588\u2588  | 28/35 [00:09<00:01,  3.62it/s]"
          ]
        },
        {
          "output_type": "stream",
          "name": "stderr",
          "text": [
            "\rTraining:  83%|\u2588\u2588\u2588\u2588\u2588\u2588\u2588\u2588\u258e | 29/35 [00:09<00:01,  3.61it/s]"
          ]
        },
        {
          "output_type": "stream",
          "name": "stderr",
          "text": [
            "\rTraining:  86%|\u2588\u2588\u2588\u2588\u2588\u2588\u2588\u2588\u258c | 30/35 [00:09<00:01,  3.61it/s]"
          ]
        },
        {
          "output_type": "stream",
          "name": "stderr",
          "text": [
            "\rTraining:  89%|\u2588\u2588\u2588\u2588\u2588\u2588\u2588\u2588\u258a | 31/35 [00:10<00:01,  3.62it/s]"
          ]
        },
        {
          "output_type": "stream",
          "name": "stderr",
          "text": [
            "\rTraining:  91%|\u2588\u2588\u2588\u2588\u2588\u2588\u2588\u2588\u2588\u258f| 32/35 [00:10<00:00,  3.62it/s]"
          ]
        },
        {
          "output_type": "stream",
          "name": "stderr",
          "text": [
            "\rTraining:  94%|\u2588\u2588\u2588\u2588\u2588\u2588\u2588\u2588\u2588\u258d| 33/35 [00:10<00:00,  3.62it/s]"
          ]
        },
        {
          "output_type": "stream",
          "name": "stderr",
          "text": [
            "\rTraining:  97%|\u2588\u2588\u2588\u2588\u2588\u2588\u2588\u2588\u2588\u258b| 34/35 [00:10<00:00,  3.62it/s]"
          ]
        },
        {
          "output_type": "stream",
          "name": "stderr",
          "text": [
            "\rTraining: 100%|\u2588\u2588\u2588\u2588\u2588\u2588\u2588\u2588\u2588\u2588| 35/35 [00:11<00:00,  3.62it/s]"
          ]
        },
        {
          "output_type": "stream",
          "name": "stderr",
          "text": [
            "\rTraining: 100%|\u2588\u2588\u2588\u2588\u2588\u2588\u2588\u2588\u2588\u2588| 35/35 [00:11<00:00,  3.10it/s]"
          ]
        },
        {
          "output_type": "stream",
          "name": "stderr",
          "text": [
            "\n"
          ]
        },
        {
          "output_type": "stream",
          "name": "stderr",
          "text": [
            "\rValidating:   0%|          | 0/120 [00:00<?, ?it/s]"
          ]
        },
        {
          "output_type": "stream",
          "name": "stderr",
          "text": [
            "\rValidating:   1%|          | 1/120 [00:00<01:40,  1.18it/s]"
          ]
        },
        {
          "output_type": "stream",
          "name": "stderr",
          "text": [
            "\rValidating:   2%|\u258f         | 2/120 [00:01<00:55,  2.13it/s]"
          ]
        },
        {
          "output_type": "stream",
          "name": "stderr",
          "text": [
            "\rValidating:   2%|\u258e         | 3/120 [00:01<00:37,  3.08it/s]"
          ]
        },
        {
          "output_type": "stream",
          "name": "stderr",
          "text": [
            "\rValidating:   3%|\u258e         | 4/120 [00:01<00:29,  3.91it/s]"
          ]
        },
        {
          "output_type": "stream",
          "name": "stderr",
          "text": [
            "\rValidating:   4%|\u258d         | 5/120 [00:01<00:25,  4.59it/s]"
          ]
        },
        {
          "output_type": "stream",
          "name": "stderr",
          "text": [
            "\rValidating:   5%|\u258c         | 6/120 [00:01<00:22,  5.12it/s]"
          ]
        },
        {
          "output_type": "stream",
          "name": "stderr",
          "text": [
            "\rValidating:   6%|\u258c         | 7/120 [00:01<00:20,  5.53it/s]"
          ]
        },
        {
          "output_type": "stream",
          "name": "stderr",
          "text": [
            "\rValidating:   7%|\u258b         | 8/120 [00:01<00:19,  5.82it/s]"
          ]
        },
        {
          "output_type": "stream",
          "name": "stderr",
          "text": [
            "\rValidating:   8%|\u258a         | 9/120 [00:02<00:18,  6.05it/s]"
          ]
        },
        {
          "output_type": "stream",
          "name": "stderr",
          "text": [
            "\rValidating:   8%|\u258a         | 10/120 [00:02<00:17,  6.20it/s]"
          ]
        },
        {
          "output_type": "stream",
          "name": "stderr",
          "text": [
            "\rValidating:   9%|\u2589         | 11/120 [00:02<00:17,  6.33it/s]"
          ]
        },
        {
          "output_type": "stream",
          "name": "stderr",
          "text": [
            "\rValidating:  10%|\u2588         | 12/120 [00:02<00:16,  6.40it/s]"
          ]
        },
        {
          "output_type": "stream",
          "name": "stderr",
          "text": [
            "\rValidating:  11%|\u2588         | 13/120 [00:02<00:16,  6.47it/s]"
          ]
        },
        {
          "output_type": "stream",
          "name": "stderr",
          "text": [
            "\rValidating:  12%|\u2588\u258f        | 14/120 [00:02<00:16,  6.51it/s]"
          ]
        },
        {
          "output_type": "stream",
          "name": "stderr",
          "text": [
            "\rValidating:  12%|\u2588\u258e        | 15/120 [00:03<00:16,  6.54it/s]"
          ]
        },
        {
          "output_type": "stream",
          "name": "stderr",
          "text": [
            "\rValidating:  13%|\u2588\u258e        | 16/120 [00:03<00:15,  6.56it/s]"
          ]
        },
        {
          "output_type": "stream",
          "name": "stderr",
          "text": [
            "\rValidating:  14%|\u2588\u258d        | 17/120 [00:03<00:15,  6.57it/s]"
          ]
        },
        {
          "output_type": "stream",
          "name": "stderr",
          "text": [
            "\rValidating:  15%|\u2588\u258c        | 18/120 [00:03<00:15,  6.58it/s]"
          ]
        },
        {
          "output_type": "stream",
          "name": "stderr",
          "text": [
            "\rValidating:  16%|\u2588\u258c        | 19/120 [00:03<00:15,  6.58it/s]"
          ]
        },
        {
          "output_type": "stream",
          "name": "stderr",
          "text": [
            "\rValidating:  17%|\u2588\u258b        | 20/120 [00:03<00:15,  6.59it/s]"
          ]
        },
        {
          "output_type": "stream",
          "name": "stderr",
          "text": [
            "\rValidating:  18%|\u2588\u258a        | 21/120 [00:03<00:14,  6.61it/s]"
          ]
        },
        {
          "output_type": "stream",
          "name": "stderr",
          "text": [
            "\rValidating:  18%|\u2588\u258a        | 22/120 [00:04<00:14,  6.60it/s]"
          ]
        },
        {
          "output_type": "stream",
          "name": "stderr",
          "text": [
            "\rValidating:  19%|\u2588\u2589        | 23/120 [00:04<00:14,  6.60it/s]"
          ]
        },
        {
          "output_type": "stream",
          "name": "stderr",
          "text": [
            "\rValidating:  20%|\u2588\u2588        | 24/120 [00:04<00:14,  6.60it/s]"
          ]
        },
        {
          "output_type": "stream",
          "name": "stderr",
          "text": [
            "\rValidating:  21%|\u2588\u2588        | 25/120 [00:04<00:14,  6.61it/s]"
          ]
        },
        {
          "output_type": "stream",
          "name": "stderr",
          "text": [
            "\rValidating:  22%|\u2588\u2588\u258f       | 26/120 [00:04<00:14,  6.61it/s]"
          ]
        },
        {
          "output_type": "stream",
          "name": "stderr",
          "text": [
            "\rValidating:  22%|\u2588\u2588\u258e       | 27/120 [00:04<00:14,  6.61it/s]"
          ]
        },
        {
          "output_type": "stream",
          "name": "stderr",
          "text": [
            "\rValidating:  23%|\u2588\u2588\u258e       | 28/120 [00:04<00:13,  6.61it/s]"
          ]
        },
        {
          "output_type": "stream",
          "name": "stderr",
          "text": [
            "\rValidating:  24%|\u2588\u2588\u258d       | 29/120 [00:05<00:13,  6.60it/s]"
          ]
        },
        {
          "output_type": "stream",
          "name": "stderr",
          "text": [
            "\rValidating:  25%|\u2588\u2588\u258c       | 30/120 [00:05<00:13,  6.60it/s]"
          ]
        },
        {
          "output_type": "stream",
          "name": "stderr",
          "text": [
            "\rValidating:  26%|\u2588\u2588\u258c       | 31/120 [00:05<00:13,  6.59it/s]"
          ]
        },
        {
          "output_type": "stream",
          "name": "stderr",
          "text": [
            "\rValidating:  27%|\u2588\u2588\u258b       | 32/120 [00:05<00:13,  6.60it/s]"
          ]
        },
        {
          "output_type": "stream",
          "name": "stderr",
          "text": [
            "\rValidating:  28%|\u2588\u2588\u258a       | 33/120 [00:05<00:13,  6.61it/s]"
          ]
        },
        {
          "output_type": "stream",
          "name": "stderr",
          "text": [
            "\rValidating:  28%|\u2588\u2588\u258a       | 34/120 [00:05<00:13,  6.61it/s]"
          ]
        },
        {
          "output_type": "stream",
          "name": "stderr",
          "text": [
            "\rValidating:  29%|\u2588\u2588\u2589       | 35/120 [00:06<00:12,  6.62it/s]"
          ]
        },
        {
          "output_type": "stream",
          "name": "stderr",
          "text": [
            "\rValidating:  30%|\u2588\u2588\u2588       | 36/120 [00:06<00:12,  6.61it/s]"
          ]
        },
        {
          "output_type": "stream",
          "name": "stderr",
          "text": [
            "\rValidating:  31%|\u2588\u2588\u2588       | 37/120 [00:06<00:12,  6.61it/s]"
          ]
        },
        {
          "output_type": "stream",
          "name": "stderr",
          "text": [
            "\rValidating:  32%|\u2588\u2588\u2588\u258f      | 38/120 [00:06<00:12,  6.60it/s]"
          ]
        },
        {
          "output_type": "stream",
          "name": "stderr",
          "text": [
            "\rValidating:  32%|\u2588\u2588\u2588\u258e      | 39/120 [00:06<00:12,  6.62it/s]"
          ]
        },
        {
          "output_type": "stream",
          "name": "stderr",
          "text": [
            "\rValidating:  33%|\u2588\u2588\u2588\u258e      | 40/120 [00:06<00:12,  6.62it/s]"
          ]
        },
        {
          "output_type": "stream",
          "name": "stderr",
          "text": [
            "\rValidating:  34%|\u2588\u2588\u2588\u258d      | 41/120 [00:06<00:11,  6.62it/s]"
          ]
        },
        {
          "output_type": "stream",
          "name": "stderr",
          "text": [
            "\rValidating:  35%|\u2588\u2588\u2588\u258c      | 42/120 [00:07<00:11,  6.62it/s]"
          ]
        },
        {
          "output_type": "stream",
          "name": "stderr",
          "text": [
            "\rValidating:  36%|\u2588\u2588\u2588\u258c      | 43/120 [00:07<00:11,  6.62it/s]"
          ]
        },
        {
          "output_type": "stream",
          "name": "stderr",
          "text": [
            "\rValidating:  37%|\u2588\u2588\u2588\u258b      | 44/120 [00:07<00:11,  6.62it/s]"
          ]
        },
        {
          "output_type": "stream",
          "name": "stderr",
          "text": [
            "\rValidating:  38%|\u2588\u2588\u2588\u258a      | 45/120 [00:07<00:11,  6.62it/s]"
          ]
        },
        {
          "output_type": "stream",
          "name": "stderr",
          "text": [
            "\rValidating:  38%|\u2588\u2588\u2588\u258a      | 46/120 [00:07<00:11,  6.62it/s]"
          ]
        },
        {
          "output_type": "stream",
          "name": "stderr",
          "text": [
            "\rValidating:  39%|\u2588\u2588\u2588\u2589      | 47/120 [00:07<00:11,  6.62it/s]"
          ]
        },
        {
          "output_type": "stream",
          "name": "stderr",
          "text": [
            "\rValidating:  40%|\u2588\u2588\u2588\u2588      | 48/120 [00:08<00:10,  6.62it/s]"
          ]
        },
        {
          "output_type": "stream",
          "name": "stderr",
          "text": [
            "\rValidating:  41%|\u2588\u2588\u2588\u2588      | 49/120 [00:08<00:10,  6.62it/s]"
          ]
        },
        {
          "output_type": "stream",
          "name": "stderr",
          "text": [
            "\rValidating:  42%|\u2588\u2588\u2588\u2588\u258f     | 50/120 [00:08<00:10,  6.62it/s]"
          ]
        },
        {
          "output_type": "stream",
          "name": "stderr",
          "text": [
            "\rValidating:  42%|\u2588\u2588\u2588\u2588\u258e     | 51/120 [00:08<00:10,  6.62it/s]"
          ]
        },
        {
          "output_type": "stream",
          "name": "stderr",
          "text": [
            "\rValidating:  43%|\u2588\u2588\u2588\u2588\u258e     | 52/120 [00:08<00:10,  6.63it/s]"
          ]
        },
        {
          "output_type": "stream",
          "name": "stderr",
          "text": [
            "\rValidating:  44%|\u2588\u2588\u2588\u2588\u258d     | 53/120 [00:08<00:10,  6.62it/s]"
          ]
        },
        {
          "output_type": "stream",
          "name": "stderr",
          "text": [
            "\rValidating:  45%|\u2588\u2588\u2588\u2588\u258c     | 54/120 [00:08<00:09,  6.62it/s]"
          ]
        },
        {
          "output_type": "stream",
          "name": "stderr",
          "text": [
            "\rValidating:  46%|\u2588\u2588\u2588\u2588\u258c     | 55/120 [00:09<00:09,  6.62it/s]"
          ]
        },
        {
          "output_type": "stream",
          "name": "stderr",
          "text": [
            "\rValidating:  47%|\u2588\u2588\u2588\u2588\u258b     | 56/120 [00:09<00:09,  6.62it/s]"
          ]
        },
        {
          "output_type": "stream",
          "name": "stderr",
          "text": [
            "\rValidating:  48%|\u2588\u2588\u2588\u2588\u258a     | 57/120 [00:09<00:09,  6.63it/s]"
          ]
        },
        {
          "output_type": "stream",
          "name": "stderr",
          "text": [
            "\rValidating:  48%|\u2588\u2588\u2588\u2588\u258a     | 58/120 [00:09<00:09,  6.61it/s]"
          ]
        },
        {
          "output_type": "stream",
          "name": "stderr",
          "text": [
            "\rValidating:  49%|\u2588\u2588\u2588\u2588\u2589     | 59/120 [00:09<00:09,  6.63it/s]"
          ]
        },
        {
          "output_type": "stream",
          "name": "stderr",
          "text": [
            "\rValidating:  50%|\u2588\u2588\u2588\u2588\u2588     | 60/120 [00:09<00:09,  6.61it/s]"
          ]
        },
        {
          "output_type": "stream",
          "name": "stderr",
          "text": [
            "\rValidating:  51%|\u2588\u2588\u2588\u2588\u2588     | 61/120 [00:09<00:08,  6.62it/s]"
          ]
        },
        {
          "output_type": "stream",
          "name": "stderr",
          "text": [
            "\rValidating:  52%|\u2588\u2588\u2588\u2588\u2588\u258f    | 62/120 [00:10<00:08,  6.61it/s]"
          ]
        },
        {
          "output_type": "stream",
          "name": "stderr",
          "text": [
            "\rValidating:  52%|\u2588\u2588\u2588\u2588\u2588\u258e    | 63/120 [00:10<00:08,  6.61it/s]"
          ]
        },
        {
          "output_type": "stream",
          "name": "stderr",
          "text": [
            "\rValidating:  53%|\u2588\u2588\u2588\u2588\u2588\u258e    | 64/120 [00:10<00:08,  6.61it/s]"
          ]
        },
        {
          "output_type": "stream",
          "name": "stderr",
          "text": [
            "\rValidating:  54%|\u2588\u2588\u2588\u2588\u2588\u258d    | 65/120 [00:10<00:08,  6.61it/s]"
          ]
        },
        {
          "output_type": "stream",
          "name": "stderr",
          "text": [
            "\rValidating:  55%|\u2588\u2588\u2588\u2588\u2588\u258c    | 66/120 [00:10<00:08,  6.62it/s]"
          ]
        },
        {
          "output_type": "stream",
          "name": "stderr",
          "text": [
            "\rValidating:  56%|\u2588\u2588\u2588\u2588\u2588\u258c    | 67/120 [00:10<00:08,  6.62it/s]"
          ]
        },
        {
          "output_type": "stream",
          "name": "stderr",
          "text": [
            "\rValidating:  57%|\u2588\u2588\u2588\u2588\u2588\u258b    | 68/120 [00:11<00:07,  6.62it/s]"
          ]
        },
        {
          "output_type": "stream",
          "name": "stderr",
          "text": [
            "\rValidating:  57%|\u2588\u2588\u2588\u2588\u2588\u258a    | 69/120 [00:11<00:07,  6.62it/s]"
          ]
        },
        {
          "output_type": "stream",
          "name": "stderr",
          "text": [
            "\rValidating:  58%|\u2588\u2588\u2588\u2588\u2588\u258a    | 70/120 [00:11<00:07,  6.61it/s]"
          ]
        },
        {
          "output_type": "stream",
          "name": "stderr",
          "text": [
            "\rValidating:  59%|\u2588\u2588\u2588\u2588\u2588\u2589    | 71/120 [00:11<00:07,  6.62it/s]"
          ]
        },
        {
          "output_type": "stream",
          "name": "stderr",
          "text": [
            "\rValidating:  60%|\u2588\u2588\u2588\u2588\u2588\u2588    | 72/120 [00:11<00:07,  6.62it/s]"
          ]
        },
        {
          "output_type": "stream",
          "name": "stderr",
          "text": [
            "\rValidating:  61%|\u2588\u2588\u2588\u2588\u2588\u2588    | 73/120 [00:11<00:07,  6.63it/s]"
          ]
        },
        {
          "output_type": "stream",
          "name": "stderr",
          "text": [
            "\rValidating:  62%|\u2588\u2588\u2588\u2588\u2588\u2588\u258f   | 74/120 [00:11<00:06,  6.61it/s]"
          ]
        },
        {
          "output_type": "stream",
          "name": "stderr",
          "text": [
            "\rValidating:  62%|\u2588\u2588\u2588\u2588\u2588\u2588\u258e   | 75/120 [00:12<00:06,  6.62it/s]"
          ]
        },
        {
          "output_type": "stream",
          "name": "stderr",
          "text": [
            "\rValidating:  63%|\u2588\u2588\u2588\u2588\u2588\u2588\u258e   | 76/120 [00:12<00:06,  6.62it/s]"
          ]
        },
        {
          "output_type": "stream",
          "name": "stderr",
          "text": [
            "\rValidating:  64%|\u2588\u2588\u2588\u2588\u2588\u2588\u258d   | 77/120 [00:12<00:06,  6.63it/s]"
          ]
        },
        {
          "output_type": "stream",
          "name": "stderr",
          "text": [
            "\rValidating:  65%|\u2588\u2588\u2588\u2588\u2588\u2588\u258c   | 78/120 [00:12<00:06,  6.62it/s]"
          ]
        },
        {
          "output_type": "stream",
          "name": "stderr",
          "text": [
            "\rValidating:  66%|\u2588\u2588\u2588\u2588\u2588\u2588\u258c   | 79/120 [00:12<00:06,  6.63it/s]"
          ]
        },
        {
          "output_type": "stream",
          "name": "stderr",
          "text": [
            "\rValidating:  67%|\u2588\u2588\u2588\u2588\u2588\u2588\u258b   | 80/120 [00:12<00:06,  6.63it/s]"
          ]
        },
        {
          "output_type": "stream",
          "name": "stderr",
          "text": [
            "\rValidating:  68%|\u2588\u2588\u2588\u2588\u2588\u2588\u258a   | 81/120 [00:12<00:05,  6.62it/s]"
          ]
        },
        {
          "output_type": "stream",
          "name": "stderr",
          "text": [
            "\rValidating:  68%|\u2588\u2588\u2588\u2588\u2588\u2588\u258a   | 82/120 [00:13<00:05,  6.61it/s]"
          ]
        },
        {
          "output_type": "stream",
          "name": "stderr",
          "text": [
            "\rValidating:  69%|\u2588\u2588\u2588\u2588\u2588\u2588\u2589   | 83/120 [00:13<00:05,  6.61it/s]"
          ]
        },
        {
          "output_type": "stream",
          "name": "stderr",
          "text": [
            "\rValidating:  70%|\u2588\u2588\u2588\u2588\u2588\u2588\u2588   | 84/120 [00:13<00:05,  6.61it/s]"
          ]
        },
        {
          "output_type": "stream",
          "name": "stderr",
          "text": [
            "\rValidating:  71%|\u2588\u2588\u2588\u2588\u2588\u2588\u2588   | 85/120 [00:13<00:05,  6.61it/s]"
          ]
        },
        {
          "output_type": "stream",
          "name": "stderr",
          "text": [
            "\rValidating:  72%|\u2588\u2588\u2588\u2588\u2588\u2588\u2588\u258f  | 86/120 [00:13<00:05,  6.61it/s]"
          ]
        },
        {
          "output_type": "stream",
          "name": "stderr",
          "text": [
            "\rValidating:  72%|\u2588\u2588\u2588\u2588\u2588\u2588\u2588\u258e  | 87/120 [00:13<00:04,  6.62it/s]"
          ]
        },
        {
          "output_type": "stream",
          "name": "stderr",
          "text": [
            "\rValidating:  73%|\u2588\u2588\u2588\u2588\u2588\u2588\u2588\u258e  | 88/120 [00:14<00:04,  6.62it/s]"
          ]
        },
        {
          "output_type": "stream",
          "name": "stderr",
          "text": [
            "\rValidating:  74%|\u2588\u2588\u2588\u2588\u2588\u2588\u2588\u258d  | 89/120 [00:14<00:04,  6.63it/s]"
          ]
        },
        {
          "output_type": "stream",
          "name": "stderr",
          "text": [
            "\rValidating:  75%|\u2588\u2588\u2588\u2588\u2588\u2588\u2588\u258c  | 90/120 [00:14<00:04,  6.62it/s]"
          ]
        },
        {
          "output_type": "stream",
          "name": "stderr",
          "text": [
            "\rValidating:  76%|\u2588\u2588\u2588\u2588\u2588\u2588\u2588\u258c  | 91/120 [00:14<00:04,  6.63it/s]"
          ]
        },
        {
          "output_type": "stream",
          "name": "stderr",
          "text": [
            "\rValidating:  77%|\u2588\u2588\u2588\u2588\u2588\u2588\u2588\u258b  | 92/120 [00:14<00:04,  6.62it/s]"
          ]
        },
        {
          "output_type": "stream",
          "name": "stderr",
          "text": [
            "\rValidating:  78%|\u2588\u2588\u2588\u2588\u2588\u2588\u2588\u258a  | 93/120 [00:14<00:04,  6.63it/s]"
          ]
        },
        {
          "output_type": "stream",
          "name": "stderr",
          "text": [
            "\rValidating:  78%|\u2588\u2588\u2588\u2588\u2588\u2588\u2588\u258a  | 94/120 [00:14<00:03,  6.62it/s]"
          ]
        },
        {
          "output_type": "stream",
          "name": "stderr",
          "text": [
            "\rValidating:  79%|\u2588\u2588\u2588\u2588\u2588\u2588\u2588\u2589  | 95/120 [00:15<00:03,  6.63it/s]"
          ]
        },
        {
          "output_type": "stream",
          "name": "stderr",
          "text": [
            "\rValidating:  80%|\u2588\u2588\u2588\u2588\u2588\u2588\u2588\u2588  | 96/120 [00:15<00:03,  6.62it/s]"
          ]
        },
        {
          "output_type": "stream",
          "name": "stderr",
          "text": [
            "\rValidating:  81%|\u2588\u2588\u2588\u2588\u2588\u2588\u2588\u2588  | 97/120 [00:15<00:03,  6.62it/s]"
          ]
        },
        {
          "output_type": "stream",
          "name": "stderr",
          "text": [
            "\rValidating:  82%|\u2588\u2588\u2588\u2588\u2588\u2588\u2588\u2588\u258f | 98/120 [00:15<00:03,  6.62it/s]"
          ]
        },
        {
          "output_type": "stream",
          "name": "stderr",
          "text": [
            "\rValidating:  82%|\u2588\u2588\u2588\u2588\u2588\u2588\u2588\u2588\u258e | 99/120 [00:15<00:03,  6.62it/s]"
          ]
        },
        {
          "output_type": "stream",
          "name": "stderr",
          "text": [
            "\rValidating:  83%|\u2588\u2588\u2588\u2588\u2588\u2588\u2588\u2588\u258e | 100/120 [00:15<00:03,  6.62it/s]"
          ]
        },
        {
          "output_type": "stream",
          "name": "stderr",
          "text": [
            "\rValidating:  84%|\u2588\u2588\u2588\u2588\u2588\u2588\u2588\u2588\u258d | 101/120 [00:16<00:02,  6.61it/s]"
          ]
        },
        {
          "output_type": "stream",
          "name": "stderr",
          "text": [
            "\rValidating:  85%|\u2588\u2588\u2588\u2588\u2588\u2588\u2588\u2588\u258c | 102/120 [00:16<00:02,  6.61it/s]"
          ]
        },
        {
          "output_type": "stream",
          "name": "stderr",
          "text": [
            "\rValidating:  86%|\u2588\u2588\u2588\u2588\u2588\u2588\u2588\u2588\u258c | 103/120 [00:16<00:02,  6.62it/s]"
          ]
        },
        {
          "output_type": "stream",
          "name": "stderr",
          "text": [
            "\rValidating:  87%|\u2588\u2588\u2588\u2588\u2588\u2588\u2588\u2588\u258b | 104/120 [00:16<00:02,  6.61it/s]"
          ]
        },
        {
          "output_type": "stream",
          "name": "stderr",
          "text": [
            "\rValidating:  88%|\u2588\u2588\u2588\u2588\u2588\u2588\u2588\u2588\u258a | 105/120 [00:16<00:02,  6.62it/s]"
          ]
        },
        {
          "output_type": "stream",
          "name": "stderr",
          "text": [
            "\rValidating:  88%|\u2588\u2588\u2588\u2588\u2588\u2588\u2588\u2588\u258a | 106/120 [00:16<00:02,  6.61it/s]"
          ]
        },
        {
          "output_type": "stream",
          "name": "stderr",
          "text": [
            "\rValidating:  89%|\u2588\u2588\u2588\u2588\u2588\u2588\u2588\u2588\u2589 | 107/120 [00:16<00:01,  6.62it/s]"
          ]
        },
        {
          "output_type": "stream",
          "name": "stderr",
          "text": [
            "\rValidating:  90%|\u2588\u2588\u2588\u2588\u2588\u2588\u2588\u2588\u2588 | 108/120 [00:17<00:01,  6.61it/s]"
          ]
        },
        {
          "output_type": "stream",
          "name": "stderr",
          "text": [
            "\rValidating:  91%|\u2588\u2588\u2588\u2588\u2588\u2588\u2588\u2588\u2588 | 109/120 [00:17<00:01,  6.62it/s]"
          ]
        },
        {
          "output_type": "stream",
          "name": "stderr",
          "text": [
            "\rValidating:  92%|\u2588\u2588\u2588\u2588\u2588\u2588\u2588\u2588\u2588\u258f| 110/120 [00:17<00:01,  6.61it/s]"
          ]
        },
        {
          "output_type": "stream",
          "name": "stderr",
          "text": [
            "\rValidating:  92%|\u2588\u2588\u2588\u2588\u2588\u2588\u2588\u2588\u2588\u258e| 111/120 [00:17<00:01,  6.62it/s]"
          ]
        },
        {
          "output_type": "stream",
          "name": "stderr",
          "text": [
            "\rValidating:  93%|\u2588\u2588\u2588\u2588\u2588\u2588\u2588\u2588\u2588\u258e| 112/120 [00:17<00:01,  6.61it/s]"
          ]
        },
        {
          "output_type": "stream",
          "name": "stderr",
          "text": [
            "\rValidating:  94%|\u2588\u2588\u2588\u2588\u2588\u2588\u2588\u2588\u2588\u258d| 113/120 [00:17<00:01,  6.62it/s]"
          ]
        },
        {
          "output_type": "stream",
          "name": "stderr",
          "text": [
            "\rValidating:  95%|\u2588\u2588\u2588\u2588\u2588\u2588\u2588\u2588\u2588\u258c| 114/120 [00:17<00:00,  6.61it/s]"
          ]
        },
        {
          "output_type": "stream",
          "name": "stderr",
          "text": [
            "\rValidating:  96%|\u2588\u2588\u2588\u2588\u2588\u2588\u2588\u2588\u2588\u258c| 115/120 [00:18<00:00,  6.62it/s]"
          ]
        },
        {
          "output_type": "stream",
          "name": "stderr",
          "text": [
            "\rValidating:  97%|\u2588\u2588\u2588\u2588\u2588\u2588\u2588\u2588\u2588\u258b| 116/120 [00:18<00:00,  6.62it/s]"
          ]
        },
        {
          "output_type": "stream",
          "name": "stderr",
          "text": [
            "\rValidating:  98%|\u2588\u2588\u2588\u2588\u2588\u2588\u2588\u2588\u2588\u258a| 117/120 [00:18<00:00,  6.63it/s]"
          ]
        },
        {
          "output_type": "stream",
          "name": "stderr",
          "text": [
            "\rValidating:  98%|\u2588\u2588\u2588\u2588\u2588\u2588\u2588\u2588\u2588\u258a| 118/120 [00:18<00:00,  6.63it/s]"
          ]
        },
        {
          "output_type": "stream",
          "name": "stderr",
          "text": [
            "\rValidating:  99%|\u2588\u2588\u2588\u2588\u2588\u2588\u2588\u2588\u2588\u2589| 119/120 [00:18<00:00,  6.63it/s]"
          ]
        },
        {
          "output_type": "stream",
          "name": "stderr",
          "text": [
            "\rValidating: 100%|\u2588\u2588\u2588\u2588\u2588\u2588\u2588\u2588\u2588\u2588| 120/120 [00:18<00:00,  6.37it/s]"
          ]
        },
        {
          "output_type": "stream",
          "name": "stderr",
          "text": [
            "\n"
          ]
        },
        {
          "output_type": "stream",
          "name": "stdout",
          "text": [
            "Epoch 17/20 - Time: 51s - Train Loss: 0.0594 - Val F0.5: 0.7957 @ thr=0.80 (P: 0.8692, R: 0.5945)\n"
          ]
        },
        {
          "output_type": "stream",
          "name": "stderr",
          "text": [
            "\rTraining:   0%|          | 0/35 [00:00<?, ?it/s]"
          ]
        },
        {
          "output_type": "stream",
          "name": "stderr",
          "text": [
            "\rTraining:   3%|\u258e         | 1/35 [00:01<00:53,  1.57s/it]"
          ]
        },
        {
          "output_type": "stream",
          "name": "stderr",
          "text": [
            "\rTraining:   6%|\u258c         | 2/35 [00:01<00:26,  1.23it/s]"
          ]
        },
        {
          "output_type": "stream",
          "name": "stderr",
          "text": [
            "\rTraining:   9%|\u258a         | 3/35 [00:02<00:18,  1.77it/s]"
          ]
        },
        {
          "output_type": "stream",
          "name": "stderr",
          "text": [
            "\rTraining:  11%|\u2588\u258f        | 4/35 [00:02<00:14,  2.21it/s]"
          ]
        },
        {
          "output_type": "stream",
          "name": "stderr",
          "text": [
            "\rTraining:  14%|\u2588\u258d        | 5/35 [00:02<00:11,  2.57it/s]"
          ]
        },
        {
          "output_type": "stream",
          "name": "stderr",
          "text": [
            "\rTraining:  17%|\u2588\u258b        | 6/35 [00:02<00:10,  2.85it/s]"
          ]
        },
        {
          "output_type": "stream",
          "name": "stderr",
          "text": [
            "\rTraining:  20%|\u2588\u2588        | 7/35 [00:03<00:09,  3.06it/s]"
          ]
        },
        {
          "output_type": "stream",
          "name": "stderr",
          "text": [
            "\rTraining:  23%|\u2588\u2588\u258e       | 8/35 [00:03<00:08,  3.21it/s]"
          ]
        },
        {
          "output_type": "stream",
          "name": "stderr",
          "text": [
            "\rTraining:  26%|\u2588\u2588\u258c       | 9/35 [00:03<00:07,  3.33it/s]"
          ]
        },
        {
          "output_type": "stream",
          "name": "stderr",
          "text": [
            "\rTraining:  29%|\u2588\u2588\u258a       | 10/35 [00:04<00:07,  3.41it/s]"
          ]
        },
        {
          "output_type": "stream",
          "name": "stderr",
          "text": [
            "\rTraining:  31%|\u2588\u2588\u2588\u258f      | 11/35 [00:04<00:06,  3.47it/s]"
          ]
        },
        {
          "output_type": "stream",
          "name": "stderr",
          "text": [
            "\rTraining:  34%|\u2588\u2588\u2588\u258d      | 12/35 [00:04<00:06,  3.52it/s]"
          ]
        },
        {
          "output_type": "stream",
          "name": "stderr",
          "text": [
            "\rTraining:  37%|\u2588\u2588\u2588\u258b      | 13/35 [00:04<00:06,  3.55it/s]"
          ]
        },
        {
          "output_type": "stream",
          "name": "stderr",
          "text": [
            "\rTraining:  40%|\u2588\u2588\u2588\u2588      | 14/35 [00:05<00:05,  3.56it/s]"
          ]
        },
        {
          "output_type": "stream",
          "name": "stderr",
          "text": [
            "\rTraining:  43%|\u2588\u2588\u2588\u2588\u258e     | 15/35 [00:05<00:05,  3.58it/s]"
          ]
        },
        {
          "output_type": "stream",
          "name": "stderr",
          "text": [
            "\rTraining:  46%|\u2588\u2588\u2588\u2588\u258c     | 16/35 [00:05<00:05,  3.60it/s]"
          ]
        },
        {
          "output_type": "stream",
          "name": "stderr",
          "text": [
            "\rTraining:  49%|\u2588\u2588\u2588\u2588\u258a     | 17/35 [00:05<00:04,  3.60it/s]"
          ]
        },
        {
          "output_type": "stream",
          "name": "stderr",
          "text": [
            "\rTraining:  51%|\u2588\u2588\u2588\u2588\u2588\u258f    | 18/35 [00:06<00:04,  3.61it/s]"
          ]
        },
        {
          "output_type": "stream",
          "name": "stderr",
          "text": [
            "\rTraining:  54%|\u2588\u2588\u2588\u2588\u2588\u258d    | 19/35 [00:06<00:04,  3.61it/s]"
          ]
        },
        {
          "output_type": "stream",
          "name": "stderr",
          "text": [
            "\rTraining:  57%|\u2588\u2588\u2588\u2588\u2588\u258b    | 20/35 [00:06<00:04,  3.61it/s]"
          ]
        },
        {
          "output_type": "stream",
          "name": "stderr",
          "text": [
            "\rTraining:  60%|\u2588\u2588\u2588\u2588\u2588\u2588    | 21/35 [00:07<00:03,  3.62it/s]"
          ]
        },
        {
          "output_type": "stream",
          "name": "stderr",
          "text": [
            "\rTraining:  63%|\u2588\u2588\u2588\u2588\u2588\u2588\u258e   | 22/35 [00:07<00:03,  3.61it/s]"
          ]
        },
        {
          "output_type": "stream",
          "name": "stderr",
          "text": [
            "\rTraining:  66%|\u2588\u2588\u2588\u2588\u2588\u2588\u258c   | 23/35 [00:07<00:03,  3.61it/s]"
          ]
        },
        {
          "output_type": "stream",
          "name": "stderr",
          "text": [
            "\rTraining:  69%|\u2588\u2588\u2588\u2588\u2588\u2588\u258a   | 24/35 [00:07<00:03,  3.61it/s]"
          ]
        },
        {
          "output_type": "stream",
          "name": "stderr",
          "text": [
            "\rTraining:  71%|\u2588\u2588\u2588\u2588\u2588\u2588\u2588\u258f  | 25/35 [00:08<00:02,  3.61it/s]"
          ]
        },
        {
          "output_type": "stream",
          "name": "stderr",
          "text": [
            "\rTraining:  74%|\u2588\u2588\u2588\u2588\u2588\u2588\u2588\u258d  | 26/35 [00:08<00:02,  3.61it/s]"
          ]
        },
        {
          "output_type": "stream",
          "name": "stderr",
          "text": [
            "\rTraining:  77%|\u2588\u2588\u2588\u2588\u2588\u2588\u2588\u258b  | 27/35 [00:08<00:02,  3.61it/s]"
          ]
        },
        {
          "output_type": "stream",
          "name": "stderr",
          "text": [
            "\rTraining:  80%|\u2588\u2588\u2588\u2588\u2588\u2588\u2588\u2588  | 28/35 [00:09<00:01,  3.61it/s]"
          ]
        },
        {
          "output_type": "stream",
          "name": "stderr",
          "text": [
            "\rTraining:  83%|\u2588\u2588\u2588\u2588\u2588\u2588\u2588\u2588\u258e | 29/35 [00:09<00:01,  3.62it/s]"
          ]
        },
        {
          "output_type": "stream",
          "name": "stderr",
          "text": [
            "\rTraining:  86%|\u2588\u2588\u2588\u2588\u2588\u2588\u2588\u2588\u258c | 30/35 [00:09<00:01,  3.62it/s]"
          ]
        },
        {
          "output_type": "stream",
          "name": "stderr",
          "text": [
            "\rTraining:  89%|\u2588\u2588\u2588\u2588\u2588\u2588\u2588\u2588\u258a | 31/35 [00:09<00:01,  3.62it/s]"
          ]
        },
        {
          "output_type": "stream",
          "name": "stderr",
          "text": [
            "\rTraining:  91%|\u2588\u2588\u2588\u2588\u2588\u2588\u2588\u2588\u2588\u258f| 32/35 [00:10<00:00,  3.63it/s]"
          ]
        },
        {
          "output_type": "stream",
          "name": "stderr",
          "text": [
            "\rTraining:  94%|\u2588\u2588\u2588\u2588\u2588\u2588\u2588\u2588\u2588\u258d| 33/35 [00:10<00:00,  3.63it/s]"
          ]
        },
        {
          "output_type": "stream",
          "name": "stderr",
          "text": [
            "\rTraining:  97%|\u2588\u2588\u2588\u2588\u2588\u2588\u2588\u2588\u2588\u258b| 34/35 [00:10<00:00,  3.63it/s]"
          ]
        },
        {
          "output_type": "stream",
          "name": "stderr",
          "text": [
            "\rTraining: 100%|\u2588\u2588\u2588\u2588\u2588\u2588\u2588\u2588\u2588\u2588| 35/35 [00:10<00:00,  3.63it/s]"
          ]
        },
        {
          "output_type": "stream",
          "name": "stderr",
          "text": [
            "\rTraining: 100%|\u2588\u2588\u2588\u2588\u2588\u2588\u2588\u2588\u2588\u2588| 35/35 [00:11<00:00,  3.16it/s]"
          ]
        },
        {
          "output_type": "stream",
          "name": "stderr",
          "text": [
            "\n"
          ]
        },
        {
          "output_type": "stream",
          "name": "stderr",
          "text": [
            "\rValidating:   0%|          | 0/120 [00:00<?, ?it/s]"
          ]
        },
        {
          "output_type": "stream",
          "name": "stderr",
          "text": [
            "\rValidating:   1%|          | 1/120 [00:00<01:38,  1.21it/s]"
          ]
        },
        {
          "output_type": "stream",
          "name": "stderr",
          "text": [
            "\rValidating:   2%|\u258f         | 2/120 [00:01<01:01,  1.93it/s]"
          ]
        },
        {
          "output_type": "stream",
          "name": "stderr",
          "text": [
            "\rValidating:   2%|\u258e         | 3/120 [00:01<00:40,  2.86it/s]"
          ]
        },
        {
          "output_type": "stream",
          "name": "stderr",
          "text": [
            "\rValidating:   3%|\u258e         | 4/120 [00:01<00:31,  3.69it/s]"
          ]
        },
        {
          "output_type": "stream",
          "name": "stderr",
          "text": [
            "\rValidating:   4%|\u258d         | 5/120 [00:01<00:26,  4.40it/s]"
          ]
        },
        {
          "output_type": "stream",
          "name": "stderr",
          "text": [
            "\rValidating:   5%|\u258c         | 6/120 [00:01<00:22,  4.96it/s]"
          ]
        },
        {
          "output_type": "stream",
          "name": "stderr",
          "text": [
            "\rValidating:   6%|\u258c         | 7/120 [00:01<00:20,  5.40it/s]"
          ]
        },
        {
          "output_type": "stream",
          "name": "stderr",
          "text": [
            "\rValidating:   7%|\u258b         | 8/120 [00:02<00:19,  5.73it/s]"
          ]
        },
        {
          "output_type": "stream",
          "name": "stderr",
          "text": [
            "\rValidating:   8%|\u258a         | 9/120 [00:02<00:18,  5.99it/s]"
          ]
        },
        {
          "output_type": "stream",
          "name": "stderr",
          "text": [
            "\rValidating:   8%|\u258a         | 10/120 [00:02<00:17,  6.17it/s]"
          ]
        },
        {
          "output_type": "stream",
          "name": "stderr",
          "text": [
            "\rValidating:   9%|\u2589         | 11/120 [00:02<00:17,  6.30it/s]"
          ]
        },
        {
          "output_type": "stream",
          "name": "stderr",
          "text": [
            "\rValidating:  10%|\u2588         | 12/120 [00:02<00:16,  6.39it/s]"
          ]
        },
        {
          "output_type": "stream",
          "name": "stderr",
          "text": [
            "\rValidating:  11%|\u2588         | 13/120 [00:02<00:16,  6.46it/s]"
          ]
        },
        {
          "output_type": "stream",
          "name": "stderr",
          "text": [
            "\rValidating:  12%|\u2588\u258f        | 14/120 [00:02<00:16,  6.51it/s]"
          ]
        },
        {
          "output_type": "stream",
          "name": "stderr",
          "text": [
            "\rValidating:  12%|\u2588\u258e        | 15/120 [00:03<00:16,  6.55it/s]"
          ]
        },
        {
          "output_type": "stream",
          "name": "stderr",
          "text": [
            "\rValidating:  13%|\u2588\u258e        | 16/120 [00:03<00:15,  6.56it/s]"
          ]
        },
        {
          "output_type": "stream",
          "name": "stderr",
          "text": [
            "\rValidating:  14%|\u2588\u258d        | 17/120 [00:03<00:15,  6.58it/s]"
          ]
        },
        {
          "output_type": "stream",
          "name": "stderr",
          "text": [
            "\rValidating:  15%|\u2588\u258c        | 18/120 [00:03<00:15,  6.59it/s]"
          ]
        },
        {
          "output_type": "stream",
          "name": "stderr",
          "text": [
            "\rValidating:  16%|\u2588\u258c        | 19/120 [00:03<00:15,  6.60it/s]"
          ]
        },
        {
          "output_type": "stream",
          "name": "stderr",
          "text": [
            "\rValidating:  17%|\u2588\u258b        | 20/120 [00:03<00:15,  6.60it/s]"
          ]
        },
        {
          "output_type": "stream",
          "name": "stderr",
          "text": [
            "\rValidating:  18%|\u2588\u258a        | 21/120 [00:03<00:14,  6.62it/s]"
          ]
        },
        {
          "output_type": "stream",
          "name": "stderr",
          "text": [
            "\rValidating:  18%|\u2588\u258a        | 22/120 [00:04<00:14,  6.61it/s]"
          ]
        },
        {
          "output_type": "stream",
          "name": "stderr",
          "text": [
            "\rValidating:  19%|\u2588\u2589        | 23/120 [00:04<00:14,  6.62it/s]"
          ]
        },
        {
          "output_type": "stream",
          "name": "stderr",
          "text": [
            "\rValidating:  20%|\u2588\u2588        | 24/120 [00:04<00:14,  6.61it/s]"
          ]
        },
        {
          "output_type": "stream",
          "name": "stderr",
          "text": [
            "\rValidating:  21%|\u2588\u2588        | 25/120 [00:04<00:14,  6.61it/s]"
          ]
        },
        {
          "output_type": "stream",
          "name": "stderr",
          "text": [
            "\rValidating:  22%|\u2588\u2588\u258f       | 26/120 [00:04<00:14,  6.61it/s]"
          ]
        },
        {
          "output_type": "stream",
          "name": "stderr",
          "text": [
            "\rValidating:  22%|\u2588\u2588\u258e       | 27/120 [00:04<00:14,  6.61it/s]"
          ]
        },
        {
          "output_type": "stream",
          "name": "stderr",
          "text": [
            "\rValidating:  23%|\u2588\u2588\u258e       | 28/120 [00:05<00:13,  6.62it/s]"
          ]
        },
        {
          "output_type": "stream",
          "name": "stderr",
          "text": [
            "\rValidating:  24%|\u2588\u2588\u258d       | 29/120 [00:05<00:13,  6.61it/s]"
          ]
        },
        {
          "output_type": "stream",
          "name": "stderr",
          "text": [
            "\rValidating:  25%|\u2588\u2588\u258c       | 30/120 [00:05<00:13,  6.61it/s]"
          ]
        },
        {
          "output_type": "stream",
          "name": "stderr",
          "text": [
            "\rValidating:  26%|\u2588\u2588\u258c       | 31/120 [00:05<00:13,  6.61it/s]"
          ]
        },
        {
          "output_type": "stream",
          "name": "stderr",
          "text": [
            "\rValidating:  27%|\u2588\u2588\u258b       | 32/120 [00:05<00:13,  6.61it/s]"
          ]
        },
        {
          "output_type": "stream",
          "name": "stderr",
          "text": [
            "\rValidating:  28%|\u2588\u2588\u258a       | 33/120 [00:05<00:13,  6.62it/s]"
          ]
        },
        {
          "output_type": "stream",
          "name": "stderr",
          "text": [
            "\rValidating:  28%|\u2588\u2588\u258a       | 34/120 [00:05<00:12,  6.62it/s]"
          ]
        },
        {
          "output_type": "stream",
          "name": "stderr",
          "text": [
            "\rValidating:  29%|\u2588\u2588\u2589       | 35/120 [00:06<00:12,  6.63it/s]"
          ]
        },
        {
          "output_type": "stream",
          "name": "stderr",
          "text": [
            "\rValidating:  30%|\u2588\u2588\u2588       | 36/120 [00:06<00:12,  6.62it/s]"
          ]
        },
        {
          "output_type": "stream",
          "name": "stderr",
          "text": [
            "\rValidating:  31%|\u2588\u2588\u2588       | 37/120 [00:06<00:12,  6.63it/s]"
          ]
        },
        {
          "output_type": "stream",
          "name": "stderr",
          "text": [
            "\rValidating:  32%|\u2588\u2588\u2588\u258f      | 38/120 [00:06<00:12,  6.63it/s]"
          ]
        },
        {
          "output_type": "stream",
          "name": "stderr",
          "text": [
            "\rValidating:  32%|\u2588\u2588\u2588\u258e      | 39/120 [00:06<00:12,  6.63it/s]"
          ]
        },
        {
          "output_type": "stream",
          "name": "stderr",
          "text": [
            "\rValidating:  33%|\u2588\u2588\u2588\u258e      | 40/120 [00:06<00:12,  6.62it/s]"
          ]
        },
        {
          "output_type": "stream",
          "name": "stderr",
          "text": [
            "\rValidating:  34%|\u2588\u2588\u2588\u258d      | 41/120 [00:07<00:11,  6.63it/s]"
          ]
        },
        {
          "output_type": "stream",
          "name": "stderr",
          "text": [
            "\rValidating:  35%|\u2588\u2588\u2588\u258c      | 42/120 [00:07<00:11,  6.63it/s]"
          ]
        },
        {
          "output_type": "stream",
          "name": "stderr",
          "text": [
            "\rValidating:  36%|\u2588\u2588\u2588\u258c      | 43/120 [00:07<00:11,  6.64it/s]"
          ]
        },
        {
          "output_type": "stream",
          "name": "stderr",
          "text": [
            "\rValidating:  37%|\u2588\u2588\u2588\u258b      | 44/120 [00:07<00:11,  6.63it/s]"
          ]
        },
        {
          "output_type": "stream",
          "name": "stderr",
          "text": [
            "\rValidating:  38%|\u2588\u2588\u2588\u258a      | 45/120 [00:07<00:11,  6.64it/s]"
          ]
        },
        {
          "output_type": "stream",
          "name": "stderr",
          "text": [
            "\rValidating:  38%|\u2588\u2588\u2588\u258a      | 46/120 [00:07<00:11,  6.63it/s]"
          ]
        },
        {
          "output_type": "stream",
          "name": "stderr",
          "text": [
            "\rValidating:  39%|\u2588\u2588\u2588\u2589      | 47/120 [00:07<00:11,  6.63it/s]"
          ]
        },
        {
          "output_type": "stream",
          "name": "stderr",
          "text": [
            "\rValidating:  40%|\u2588\u2588\u2588\u2588      | 48/120 [00:08<00:10,  6.62it/s]"
          ]
        },
        {
          "output_type": "stream",
          "name": "stderr",
          "text": [
            "\rValidating:  41%|\u2588\u2588\u2588\u2588      | 49/120 [00:08<00:10,  6.61it/s]"
          ]
        },
        {
          "output_type": "stream",
          "name": "stderr",
          "text": [
            "\rValidating:  42%|\u2588\u2588\u2588\u2588\u258f     | 50/120 [00:08<00:10,  6.61it/s]"
          ]
        },
        {
          "output_type": "stream",
          "name": "stderr",
          "text": [
            "\rValidating:  42%|\u2588\u2588\u2588\u2588\u258e     | 51/120 [00:08<00:10,  6.61it/s]"
          ]
        },
        {
          "output_type": "stream",
          "name": "stderr",
          "text": [
            "\rValidating:  43%|\u2588\u2588\u2588\u2588\u258e     | 52/120 [00:08<00:10,  6.61it/s]"
          ]
        },
        {
          "output_type": "stream",
          "name": "stderr",
          "text": [
            "\rValidating:  44%|\u2588\u2588\u2588\u2588\u258d     | 53/120 [00:08<00:10,  6.61it/s]"
          ]
        },
        {
          "output_type": "stream",
          "name": "stderr",
          "text": [
            "\rValidating:  45%|\u2588\u2588\u2588\u2588\u258c     | 54/120 [00:08<00:09,  6.62it/s]"
          ]
        },
        {
          "output_type": "stream",
          "name": "stderr",
          "text": [
            "\rValidating:  46%|\u2588\u2588\u2588\u2588\u258c     | 55/120 [00:09<00:09,  6.62it/s]"
          ]
        },
        {
          "output_type": "stream",
          "name": "stderr",
          "text": [
            "\rValidating:  47%|\u2588\u2588\u2588\u2588\u258b     | 56/120 [00:09<00:09,  6.61it/s]"
          ]
        },
        {
          "output_type": "stream",
          "name": "stderr",
          "text": [
            "\rValidating:  48%|\u2588\u2588\u2588\u2588\u258a     | 57/120 [00:09<00:09,  6.61it/s]"
          ]
        },
        {
          "output_type": "stream",
          "name": "stderr",
          "text": [
            "\rValidating:  48%|\u2588\u2588\u2588\u2588\u258a     | 58/120 [00:09<00:09,  6.61it/s]"
          ]
        },
        {
          "output_type": "stream",
          "name": "stderr",
          "text": [
            "\rValidating:  49%|\u2588\u2588\u2588\u2588\u2589     | 59/120 [00:09<00:09,  6.62it/s]"
          ]
        },
        {
          "output_type": "stream",
          "name": "stderr",
          "text": [
            "\rValidating:  50%|\u2588\u2588\u2588\u2588\u2588     | 60/120 [00:09<00:09,  6.61it/s]"
          ]
        },
        {
          "output_type": "stream",
          "name": "stderr",
          "text": [
            "\rValidating:  51%|\u2588\u2588\u2588\u2588\u2588     | 61/120 [00:10<00:08,  6.61it/s]"
          ]
        },
        {
          "output_type": "stream",
          "name": "stderr",
          "text": [
            "\rValidating:  52%|\u2588\u2588\u2588\u2588\u2588\u258f    | 62/120 [00:10<00:08,  6.61it/s]"
          ]
        },
        {
          "output_type": "stream",
          "name": "stderr",
          "text": [
            "\rValidating:  52%|\u2588\u2588\u2588\u2588\u2588\u258e    | 63/120 [00:10<00:08,  6.61it/s]"
          ]
        },
        {
          "output_type": "stream",
          "name": "stderr",
          "text": [
            "\rValidating:  53%|\u2588\u2588\u2588\u2588\u2588\u258e    | 64/120 [00:10<00:08,  6.62it/s]"
          ]
        },
        {
          "output_type": "stream",
          "name": "stderr",
          "text": [
            "\rValidating:  54%|\u2588\u2588\u2588\u2588\u2588\u258d    | 65/120 [00:10<00:08,  6.62it/s]"
          ]
        },
        {
          "output_type": "stream",
          "name": "stderr",
          "text": [
            "\rValidating:  55%|\u2588\u2588\u2588\u2588\u2588\u258c    | 66/120 [00:10<00:08,  6.61it/s]"
          ]
        },
        {
          "output_type": "stream",
          "name": "stderr",
          "text": [
            "\rValidating:  56%|\u2588\u2588\u2588\u2588\u2588\u258c    | 67/120 [00:10<00:08,  6.62it/s]"
          ]
        },
        {
          "output_type": "stream",
          "name": "stderr",
          "text": [
            "\rValidating:  57%|\u2588\u2588\u2588\u2588\u2588\u258b    | 68/120 [00:11<00:07,  6.62it/s]"
          ]
        },
        {
          "output_type": "stream",
          "name": "stderr",
          "text": [
            "\rValidating:  57%|\u2588\u2588\u2588\u2588\u2588\u258a    | 69/120 [00:11<00:07,  6.62it/s]"
          ]
        },
        {
          "output_type": "stream",
          "name": "stderr",
          "text": [
            "\rValidating:  58%|\u2588\u2588\u2588\u2588\u2588\u258a    | 70/120 [00:11<00:07,  6.62it/s]"
          ]
        },
        {
          "output_type": "stream",
          "name": "stderr",
          "text": [
            "\rValidating:  59%|\u2588\u2588\u2588\u2588\u2588\u2589    | 71/120 [00:11<00:07,  6.61it/s]"
          ]
        },
        {
          "output_type": "stream",
          "name": "stderr",
          "text": [
            "\rValidating:  60%|\u2588\u2588\u2588\u2588\u2588\u2588    | 72/120 [00:11<00:07,  6.61it/s]"
          ]
        },
        {
          "output_type": "stream",
          "name": "stderr",
          "text": [
            "\rValidating:  61%|\u2588\u2588\u2588\u2588\u2588\u2588    | 73/120 [00:11<00:07,  6.62it/s]"
          ]
        },
        {
          "output_type": "stream",
          "name": "stderr",
          "text": [
            "\rValidating:  62%|\u2588\u2588\u2588\u2588\u2588\u2588\u258f   | 74/120 [00:12<00:06,  6.62it/s]"
          ]
        },
        {
          "output_type": "stream",
          "name": "stderr",
          "text": [
            "\rValidating:  62%|\u2588\u2588\u2588\u2588\u2588\u2588\u258e   | 75/120 [00:12<00:06,  6.63it/s]"
          ]
        },
        {
          "output_type": "stream",
          "name": "stderr",
          "text": [
            "\rValidating:  63%|\u2588\u2588\u2588\u2588\u2588\u2588\u258e   | 76/120 [00:12<00:06,  6.61it/s]"
          ]
        },
        {
          "output_type": "stream",
          "name": "stderr",
          "text": [
            "\rValidating:  64%|\u2588\u2588\u2588\u2588\u2588\u2588\u258d   | 77/120 [00:12<00:06,  6.62it/s]"
          ]
        },
        {
          "output_type": "stream",
          "name": "stderr",
          "text": [
            "\rValidating:  65%|\u2588\u2588\u2588\u2588\u2588\u2588\u258c   | 78/120 [00:12<00:06,  6.62it/s]"
          ]
        },
        {
          "output_type": "stream",
          "name": "stderr",
          "text": [
            "\rValidating:  66%|\u2588\u2588\u2588\u2588\u2588\u2588\u258c   | 79/120 [00:12<00:06,  6.62it/s]"
          ]
        },
        {
          "output_type": "stream",
          "name": "stderr",
          "text": [
            "\rValidating:  67%|\u2588\u2588\u2588\u2588\u2588\u2588\u258b   | 80/120 [00:12<00:06,  6.61it/s]"
          ]
        },
        {
          "output_type": "stream",
          "name": "stderr",
          "text": [
            "\rValidating:  68%|\u2588\u2588\u2588\u2588\u2588\u2588\u258a   | 81/120 [00:13<00:05,  6.62it/s]"
          ]
        },
        {
          "output_type": "stream",
          "name": "stderr",
          "text": [
            "\rValidating:  68%|\u2588\u2588\u2588\u2588\u2588\u2588\u258a   | 82/120 [00:13<00:05,  6.61it/s]"
          ]
        },
        {
          "output_type": "stream",
          "name": "stderr",
          "text": [
            "\rValidating:  69%|\u2588\u2588\u2588\u2588\u2588\u2588\u2589   | 83/120 [00:13<00:05,  6.61it/s]"
          ]
        },
        {
          "output_type": "stream",
          "name": "stderr",
          "text": [
            "\rValidating:  70%|\u2588\u2588\u2588\u2588\u2588\u2588\u2588   | 84/120 [00:13<00:05,  6.59it/s]"
          ]
        },
        {
          "output_type": "stream",
          "name": "stderr",
          "text": [
            "\rValidating:  71%|\u2588\u2588\u2588\u2588\u2588\u2588\u2588   | 85/120 [00:13<00:05,  6.60it/s]"
          ]
        },
        {
          "output_type": "stream",
          "name": "stderr",
          "text": [
            "\rValidating:  72%|\u2588\u2588\u2588\u2588\u2588\u2588\u2588\u258f  | 86/120 [00:13<00:05,  6.59it/s]"
          ]
        },
        {
          "output_type": "stream",
          "name": "stderr",
          "text": [
            "\rValidating:  72%|\u2588\u2588\u2588\u2588\u2588\u2588\u2588\u258e  | 87/120 [00:13<00:04,  6.61it/s]"
          ]
        },
        {
          "output_type": "stream",
          "name": "stderr",
          "text": [
            "\rValidating:  73%|\u2588\u2588\u2588\u2588\u2588\u2588\u2588\u258e  | 88/120 [00:14<00:04,  6.60it/s]"
          ]
        },
        {
          "output_type": "stream",
          "name": "stderr",
          "text": [
            "\rValidating:  74%|\u2588\u2588\u2588\u2588\u2588\u2588\u2588\u258d  | 89/120 [00:14<00:04,  6.61it/s]"
          ]
        },
        {
          "output_type": "stream",
          "name": "stderr",
          "text": [
            "\rValidating:  75%|\u2588\u2588\u2588\u2588\u2588\u2588\u2588\u258c  | 90/120 [00:14<00:04,  6.60it/s]"
          ]
        },
        {
          "output_type": "stream",
          "name": "stderr",
          "text": [
            "\rValidating:  76%|\u2588\u2588\u2588\u2588\u2588\u2588\u2588\u258c  | 91/120 [00:14<00:04,  6.60it/s]"
          ]
        },
        {
          "output_type": "stream",
          "name": "stderr",
          "text": [
            "\rValidating:  77%|\u2588\u2588\u2588\u2588\u2588\u2588\u2588\u258b  | 92/120 [00:14<00:04,  6.58it/s]"
          ]
        },
        {
          "output_type": "stream",
          "name": "stderr",
          "text": [
            "\rValidating:  78%|\u2588\u2588\u2588\u2588\u2588\u2588\u2588\u258a  | 93/120 [00:14<00:04,  6.60it/s]"
          ]
        },
        {
          "output_type": "stream",
          "name": "stderr",
          "text": [
            "\rValidating:  78%|\u2588\u2588\u2588\u2588\u2588\u2588\u2588\u258a  | 94/120 [00:15<00:03,  6.60it/s]"
          ]
        },
        {
          "output_type": "stream",
          "name": "stderr",
          "text": [
            "\rValidating:  79%|\u2588\u2588\u2588\u2588\u2588\u2588\u2588\u2589  | 95/120 [00:15<00:03,  6.60it/s]"
          ]
        },
        {
          "output_type": "stream",
          "name": "stderr",
          "text": [
            "\rValidating:  80%|\u2588\u2588\u2588\u2588\u2588\u2588\u2588\u2588  | 96/120 [00:15<00:03,  6.60it/s]"
          ]
        },
        {
          "output_type": "stream",
          "name": "stderr",
          "text": [
            "\rValidating:  81%|\u2588\u2588\u2588\u2588\u2588\u2588\u2588\u2588  | 97/120 [00:15<00:03,  6.60it/s]"
          ]
        },
        {
          "output_type": "stream",
          "name": "stderr",
          "text": [
            "\rValidating:  82%|\u2588\u2588\u2588\u2588\u2588\u2588\u2588\u2588\u258f | 98/120 [00:15<00:03,  6.60it/s]"
          ]
        },
        {
          "output_type": "stream",
          "name": "stderr",
          "text": [
            "\rValidating:  82%|\u2588\u2588\u2588\u2588\u2588\u2588\u2588\u2588\u258e | 99/120 [00:15<00:03,  6.60it/s]"
          ]
        },
        {
          "output_type": "stream",
          "name": "stderr",
          "text": [
            "\rValidating:  83%|\u2588\u2588\u2588\u2588\u2588\u2588\u2588\u2588\u258e | 100/120 [00:15<00:03,  6.60it/s]"
          ]
        },
        {
          "output_type": "stream",
          "name": "stderr",
          "text": [
            "\rValidating:  84%|\u2588\u2588\u2588\u2588\u2588\u2588\u2588\u2588\u258d | 101/120 [00:16<00:02,  6.61it/s]"
          ]
        },
        {
          "output_type": "stream",
          "name": "stderr",
          "text": [
            "\rValidating:  85%|\u2588\u2588\u2588\u2588\u2588\u2588\u2588\u2588\u258c | 102/120 [00:16<00:02,  6.60it/s]"
          ]
        },
        {
          "output_type": "stream",
          "name": "stderr",
          "text": [
            "\rValidating:  86%|\u2588\u2588\u2588\u2588\u2588\u2588\u2588\u2588\u258c | 103/120 [00:16<00:02,  6.60it/s]"
          ]
        },
        {
          "output_type": "stream",
          "name": "stderr",
          "text": [
            "\rValidating:  87%|\u2588\u2588\u2588\u2588\u2588\u2588\u2588\u2588\u258b | 104/120 [00:16<00:02,  6.60it/s]"
          ]
        },
        {
          "output_type": "stream",
          "name": "stderr",
          "text": [
            "\rValidating:  88%|\u2588\u2588\u2588\u2588\u2588\u2588\u2588\u2588\u258a | 105/120 [00:16<00:02,  6.60it/s]"
          ]
        },
        {
          "output_type": "stream",
          "name": "stderr",
          "text": [
            "\rValidating:  88%|\u2588\u2588\u2588\u2588\u2588\u2588\u2588\u2588\u258a | 106/120 [00:16<00:02,  6.59it/s]"
          ]
        },
        {
          "output_type": "stream",
          "name": "stderr",
          "text": [
            "\rValidating:  89%|\u2588\u2588\u2588\u2588\u2588\u2588\u2588\u2588\u2589 | 107/120 [00:17<00:01,  6.59it/s]"
          ]
        },
        {
          "output_type": "stream",
          "name": "stderr",
          "text": [
            "\rValidating:  90%|\u2588\u2588\u2588\u2588\u2588\u2588\u2588\u2588\u2588 | 108/120 [00:17<00:01,  6.59it/s]"
          ]
        },
        {
          "output_type": "stream",
          "name": "stderr",
          "text": [
            "\rValidating:  91%|\u2588\u2588\u2588\u2588\u2588\u2588\u2588\u2588\u2588 | 109/120 [00:17<00:01,  6.59it/s]"
          ]
        },
        {
          "output_type": "stream",
          "name": "stderr",
          "text": [
            "\rValidating:  92%|\u2588\u2588\u2588\u2588\u2588\u2588\u2588\u2588\u2588\u258f| 110/120 [00:17<00:01,  6.59it/s]"
          ]
        },
        {
          "output_type": "stream",
          "name": "stderr",
          "text": [
            "\rValidating:  92%|\u2588\u2588\u2588\u2588\u2588\u2588\u2588\u2588\u2588\u258e| 111/120 [00:17<00:01,  6.60it/s]"
          ]
        },
        {
          "output_type": "stream",
          "name": "stderr",
          "text": [
            "\rValidating:  93%|\u2588\u2588\u2588\u2588\u2588\u2588\u2588\u2588\u2588\u258e| 112/120 [00:17<00:01,  6.60it/s]"
          ]
        },
        {
          "output_type": "stream",
          "name": "stderr",
          "text": [
            "\rValidating:  94%|\u2588\u2588\u2588\u2588\u2588\u2588\u2588\u2588\u2588\u258d| 113/120 [00:17<00:01,  6.61it/s]"
          ]
        },
        {
          "output_type": "stream",
          "name": "stderr",
          "text": [
            "\rValidating:  95%|\u2588\u2588\u2588\u2588\u2588\u2588\u2588\u2588\u2588\u258c| 114/120 [00:18<00:00,  6.61it/s]"
          ]
        },
        {
          "output_type": "stream",
          "name": "stderr",
          "text": [
            "\rValidating:  96%|\u2588\u2588\u2588\u2588\u2588\u2588\u2588\u2588\u2588\u258c| 115/120 [00:18<00:00,  6.62it/s]"
          ]
        },
        {
          "output_type": "stream",
          "name": "stderr",
          "text": [
            "\rValidating:  97%|\u2588\u2588\u2588\u2588\u2588\u2588\u2588\u2588\u2588\u258b| 116/120 [00:18<00:00,  6.62it/s]"
          ]
        },
        {
          "output_type": "stream",
          "name": "stderr",
          "text": [
            "\rValidating:  98%|\u2588\u2588\u2588\u2588\u2588\u2588\u2588\u2588\u2588\u258a| 117/120 [00:18<00:00,  6.63it/s]"
          ]
        },
        {
          "output_type": "stream",
          "name": "stderr",
          "text": [
            "\rValidating:  98%|\u2588\u2588\u2588\u2588\u2588\u2588\u2588\u2588\u2588\u258a| 118/120 [00:18<00:00,  6.63it/s]"
          ]
        },
        {
          "output_type": "stream",
          "name": "stderr",
          "text": [
            "\rValidating:  99%|\u2588\u2588\u2588\u2588\u2588\u2588\u2588\u2588\u2588\u2589| 119/120 [00:18<00:00,  6.64it/s]"
          ]
        },
        {
          "output_type": "stream",
          "name": "stderr",
          "text": [
            "\rValidating: 100%|\u2588\u2588\u2588\u2588\u2588\u2588\u2588\u2588\u2588\u2588| 120/120 [00:18<00:00,  6.35it/s]"
          ]
        },
        {
          "output_type": "stream",
          "name": "stderr",
          "text": [
            "\n"
          ]
        }
      ]
    }
  ],
  "metadata": {
    "kernelspec": {
      "display_name": "Python 3",
      "language": "python",
      "name": "python3"
    },
    "language_info": {
      "name": "python",
      "version": "3.11.0rc1"
    }
  },
  "nbformat": 4,
  "nbformat_minor": 5
}