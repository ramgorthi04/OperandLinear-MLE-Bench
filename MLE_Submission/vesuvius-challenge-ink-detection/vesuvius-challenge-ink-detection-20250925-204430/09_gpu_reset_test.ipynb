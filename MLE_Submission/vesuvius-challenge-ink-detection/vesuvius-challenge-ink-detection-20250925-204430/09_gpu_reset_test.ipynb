{
  "cells": [
    {
      "id": "70b27952-c520-4d2b-b6f1-a50735bfab0d",
      "cell_type": "code",
      "metadata": {},
      "source": [
        "# --- GPU Sanity Check ---\n",
        "import torch\n",
        "import subprocess\n",
        "\n",
        "print(f\"PyTorch CUDA available: {torch.cuda.is_available()}\")\n",
        "print(\"--- Running nvidia-smi ---\")\n",
        "subprocess.run(['nvidia-smi'])"
      ],
      "execution_count": 1,
      "outputs": [
        {
          "output_type": "stream",
          "name": "stdout",
          "text": [
            "PyTorch CUDA available: True\n--- Running nvidia-smi ---\nFri Sep 26 04:25:18 2025       \n+-----------------------------------------------------------------------------------------+\n| NVIDIA-SMI 550.144.06             Driver Version: 550.144.06     CUDA Version: 12.4     |\n|-----------------------------------------+------------------------+----------------------+\n| GPU  Name                 Persistence-M | Bus-Id          Disp.A | Volatile Uncorr. ECC |\n| Fan  Temp   Perf          Pwr:Usage/Cap |           Memory-Usage | GPU-Util  Compute M. |\n|                                         |                        |               MIG M. |\n|=========================================+========================+======================|\n|   0  NVIDIA A10-24Q                 On  |   00000002:00:00.0 Off |                    0 |\n| N/A   N/A    P0             N/A /  N/A  |   21842MiB /  24512MiB |      0%      Default |\n|                                         |                        |                  N/A |\n+-----------------------------------------+------------------------+----------------------+\n                                                                                         \n+-----------------------------------------------------------------------------------------+\n| Processes:                                                                              |\n|  GPU   GI   CI        PID   Type   Process name                              GPU Memory |\n|        ID   ID                                                               Usage      |\n|=========================================================================================|\n+-----------------------------------------------------------------------------------------+\n"
          ]
        },
        {
          "output_type": "execute_result",
          "data": {
            "text/plain": "CompletedProcess(args=['nvidia-smi'], returncode=0)"
          },
          "metadata": {}
        }
      ]
    }
  ],
  "metadata": {
    "kernelspec": {
      "display_name": "Python 3",
      "language": "python",
      "name": "python3"
    },
    "language_info": {
      "name": "python",
      "version": "3.11.0rc1"
    }
  },
  "nbformat": 4,
  "nbformat_minor": 5
}