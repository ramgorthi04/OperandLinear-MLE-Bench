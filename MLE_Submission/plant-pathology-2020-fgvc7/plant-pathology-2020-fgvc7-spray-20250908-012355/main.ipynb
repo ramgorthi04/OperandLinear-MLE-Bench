{
  "cells": [
    {
      "id": "32b3d7e8-e54f-4bac-8abc-31bb02df3248",
      "cell_type": "markdown",
      "metadata": {},
      "source": [
        "# Plant Pathology 2020 - FGVC7 | MLE-Benchmark Medal Plan\n",
        "\n",
        "Objective: Win a medal by maximizing mean-column-wise-roc-auc. Default target hint says `multiple_diseases`, but the original competition is multi-label with columns: healthy, multiple_diseases, rust, scab. I will explore train.csv to confirm targets and shape approach accordingly.\n",
        "\n",
        "Plan:\n",
        "- Data audit: load CSVs, verify columns, image paths, counts, label distributions; sanity-check image readability.\n",
        "- Baseline CV: Stratified KFold (multilabel stratification if multi-label; else standard stratify) with strong image model.\n",
        "- Modeling v1: pretrained CNN (timm, e.g., tf_efficientnet_b0/b3) with 384px, BCEWithLogits loss, Mixup/CutMix off initially, simple augmentations.\n",
        "- Training details: 5 folds, 2-stage training (256px warmup then 384px), early stopping, cosine LR, weight decay; log fold times.\n",
        "- Ensembling: if time permits, average 2 backbones (b0 + b3) or 2 seeds.\n",
        "- Submission: out-of-fold AUC tracking; generate test preds and submission.csv.\n",
        "\n",
        "Experiment Log:\n",
        "- [ ] E0: Data loading + EDA\n",
        "- [ ] E1: EfficientNet-b0 256px 5-fold baseline\n",
        "- [ ] E2: Resize 384px finetune, TTA\n",
        "- [ ] E3: Upgrade to b3/b4 if time allows\n",
        "- [ ] E4: Seed ensemble / test-time augmentations\n",
        "\n",
        "Checkpoints: I will request expert review after plan, after EDA, after first baseline CV, and if scores stall."
      ],
      "execution_count": null,
      "outputs": []
    },
    {
      "id": "8f6f49f4-880d-47b5-9a47-d6d762f417f0",
      "cell_type": "code",
      "metadata": {},
      "source": [
        "# E0: Data loading + quick audit\n",
        "import os, sys, time, json, math, gc, random\n",
        "import pandas as pd\n",
        "import numpy as np\n",
        "from pathlib import Path\n",
        "\n",
        "DATA_DIR = Path('.')\n",
        "IMG_DIR = DATA_DIR / 'images'\n",
        "\n",
        "t0 = time.time()\n",
        "print('CWD:', os.getcwd())\n",
        "print('Images dir exists:', IMG_DIR.exists())\n",
        "print('Num images:', len(list(IMG_DIR.glob('*.jpg'))))\n",
        "\n",
        "train = pd.read_csv(DATA_DIR / 'train.csv')\n",
        "test = pd.read_csv(DATA_DIR / 'test.csv')\n",
        "print('train.shape:', train.shape, 'test.shape:', test.shape)\n",
        "print('train.columns:', train.columns.tolist())\n",
        "print('test.columns:', test.columns.tolist())\n",
        "print('\\ntrain.head():')\n",
        "display(train.head())\n",
        "\n",
        "# Identify target columns (original competition has 4 one-hot label columns)\n",
        "potential_targets = ['healthy','multiple_diseases','rust','scab']\n",
        "target_cols = [c for c in potential_targets if c in train.columns]\n",
        "if len(target_cols) == 0 and 'multiple_diseases' in train.columns:\n",
        "    target_cols = ['multiple_diseases']\n",
        "print('Detected target columns:', target_cols)\n",
        "\n",
        "# Identify image id column\n",
        "img_col_candidates = [c for c in ['image_id','image','id','filename'] if c in train.columns]\n",
        "img_col = img_col_candidates[0] if img_col_candidates else None\n",
        "print('Image column:', img_col)\n",
        "\n",
        "# Check image file existence for a few samples\n",
        "def img_path_from_row(row):\n",
        "    if img_col is None:\n",
        "        return None\n",
        "    # common pattern: {image_id}.jpg\n",
        "    name = str(row[img_col])\n",
        "    p = IMG_DIR / f\"{name}.jpg\"\n",
        "    if not p.exists():\n",
        "        # try uppercase/lowercase differences or prefixes\n",
        "        alt = list(IMG_DIR.glob(f\"{name}*.jpg\"))\n",
        "        if len(alt):\n",
        "            return alt[0]\n",
        "    return p\n",
        "\n",
        "exist_checks = []\n",
        "for i, row in train.head(10).iterrows():\n",
        "    p = img_path_from_row(row)\n",
        "    exist_checks.append((row[img_col] if img_col else None, p.name if p else None, p.exists() if p else False))\n",
        "print('Sample image existence checks (first 10):')\n",
        "for rec in exist_checks:\n",
        "    print(rec)\n",
        "\n",
        "# Label distribution\n",
        "if len(target_cols) > 1:\n",
        "    print('\\nLabel sums (multi-label one-hot):')\n",
        "    print(train[target_cols].sum())\n",
        "else:\n",
        "    # if single target provided as numeric/class, show value_counts\n",
        "    print('\\nSingle target distribution:')\n",
        "    print(train[target_cols[0]].value_counts(dropna=False))\n",
        "\n",
        "print(f'Elapsed: {time.time()-t0:.2f}s')"
      ],
      "execution_count": 1,
      "outputs": [
        {
          "output_type": "stream",
          "name": "stdout",
          "text": [
            "CWD: /app/agent_run_states/plant-pathology-2020-fgvc7-spray-20250908-012355\nImages dir exists: True\nNum images: 1821\ntrain.shape: (1638, 5) test.shape: (183, 1)\ntrain.columns: ['image_id', 'healthy', 'multiple_diseases', 'rust', 'scab']\ntest.columns: ['image_id']\n\ntrain.head():\n"
          ]
        },
        {
          "output_type": "display_data",
          "data": {
            "text/plain": "  image_id  healthy  multiple_diseases  rust  scab\n0  Train_0        0                  0     1     0\n1  Train_1        1                  0     0     0\n2  Train_2        0                  0     1     0\n3  Train_3        1                  0     0     0\n4  Train_4        0                  0     1     0",
            "text/html": "<div>\n<style scoped>\n    .dataframe tbody tr th:only-of-type {\n        vertical-align: middle;\n    }\n\n    .dataframe tbody tr th {\n        vertical-align: top;\n    }\n\n    .dataframe thead th {\n        text-align: right;\n    }\n</style>\n<table border=\"1\" class=\"dataframe\">\n  <thead>\n    <tr style=\"text-align: right;\">\n      <th></th>\n      <th>image_id</th>\n      <th>healthy</th>\n      <th>multiple_diseases</th>\n      <th>rust</th>\n      <th>scab</th>\n    </tr>\n  </thead>\n  <tbody>\n    <tr>\n      <th>0</th>\n      <td>Train_0</td>\n      <td>0</td>\n      <td>0</td>\n      <td>1</td>\n      <td>0</td>\n    </tr>\n    <tr>\n      <th>1</th>\n      <td>Train_1</td>\n      <td>1</td>\n      <td>0</td>\n      <td>0</td>\n      <td>0</td>\n    </tr>\n    <tr>\n      <th>2</th>\n      <td>Train_2</td>\n      <td>0</td>\n      <td>0</td>\n      <td>1</td>\n      <td>0</td>\n    </tr>\n    <tr>\n      <th>3</th>\n      <td>Train_3</td>\n      <td>1</td>\n      <td>0</td>\n      <td>0</td>\n      <td>0</td>\n    </tr>\n    <tr>\n      <th>4</th>\n      <td>Train_4</td>\n      <td>0</td>\n      <td>0</td>\n      <td>1</td>\n      <td>0</td>\n    </tr>\n  </tbody>\n</table>\n</div>"
          },
          "metadata": {}
        },
        {
          "output_type": "stream",
          "name": "stdout",
          "text": [
            "Detected target columns: ['healthy', 'multiple_diseases', 'rust', 'scab']\nImage column: image_id\nSample image existence checks (first 10):\n('Train_0', 'Train_0.jpg', True)\n('Train_1', 'Train_1.jpg', True)\n('Train_2', 'Train_2.jpg', True)\n('Train_3', 'Train_3.jpg', True)\n('Train_4', 'Train_4.jpg', True)\n('Train_5', 'Train_5.jpg', True)\n('Train_6', 'Train_6.jpg', True)\n('Train_7', 'Train_7.jpg', True)\n('Train_8', 'Train_8.jpg', True)\n('Train_9', 'Train_9.jpg', True)\n\nLabel sums (multi-label one-hot):\nhealthy              468\nmultiple_diseases     85\nrust                 551\nscab                 534\ndtype: int64\nElapsed: 0.02s\n"
          ]
        }
      ]
    },
    {
      "id": "689f406d-1e87-4fff-964f-8cc4a8f5c2e8",
      "cell_type": "code",
      "metadata": {},
      "source": [
        "# Setup: installs, imports, seeds, utilities\n",
        "import sys, subprocess, importlib, time, os, random\n",
        "\n",
        "def ensure_package(pkg, import_name=None, version=None):\n",
        "    import_name = import_name or pkg\n",
        "    try:\n",
        "        importlib.import_module(import_name)\n",
        "        print(f\"OK: {pkg} already installed\")\n",
        "    except Exception as e:\n",
        "        pip_cmd = [sys.executable, '-m', 'pip', 'install', pkg + (f'=={version}' if version else '')]\n",
        "        print('Installing', ' '.join(pip_cmd)); subprocess.check_call(pip_cmd)\n",
        "        importlib.invalidate_caches()\n",
        "\n",
        "# Core libs\n",
        "ensure_package('timm')\n",
        "ensure_package('albumentations')\n",
        "ensure_package('iterative-stratification', 'iterstrat')\n",
        "\n",
        "import torch\n",
        "import torch.nn as nn\n",
        "from torch.utils.data import Dataset, DataLoader\n",
        "from sklearn.metrics import roc_auc_score\n",
        "from iterstrat.ml_stratifiers import MultilabelStratifiedKFold\n",
        "import albumentations as A\n",
        "from albumentations.pytorch import ToTensorV2\n",
        "from PIL import Image\n",
        "\n",
        "SEED = 42\n",
        "def set_seed(seed=SEED):\n",
        "    random.seed(seed); np.random.seed(seed); torch.manual_seed(seed); torch.cuda.manual_seed_all(seed)\n",
        "    torch.backends.cudnn.deterministic = True\n",
        "    torch.backends.cudnn.benchmark = True\n",
        "set_seed(SEED)\n",
        "\n",
        "device = torch.device('cuda' if torch.cuda.is_available() else 'cpu')\n",
        "print('Device:', device)\n",
        "\n",
        "# Metric helper\n",
        "def mean_columnwise_roc_auc(y_true, y_pred):\n",
        "    scores = []\n",
        "    for i in range(y_true.shape[1]):\n",
        "        try:\n",
        "            s = roc_auc_score(y_true[:, i], y_pred[:, i])\n",
        "        except ValueError:\n",
        "            s = np.nan\n",
        "        scores.append(s)\n",
        "    return float(np.nanmean(scores)), scores\n",
        "\n",
        "print('Setup complete.')"
      ],
      "execution_count": 3,
      "outputs": [
        {
          "output_type": "stream",
          "name": "stderr",
          "text": [
            "/app/.pip-target/tqdm/auto.py:21: TqdmWarning: IProgress not found. Please update jupyter and ipywidgets. See https://ipywidgets.readthedocs.io/en/stable/user_install.html\n  from .autonotebook import tqdm as notebook_tqdm\n"
          ]
        },
        {
          "output_type": "stream",
          "name": "stdout",
          "text": [
            "OK: timm already installed\n"
          ]
        },
        {
          "output_type": "stream",
          "name": "stdout",
          "text": [
            "OK: albumentations already installed\nOK: iterative-stratification already installed\n"
          ]
        },
        {
          "output_type": "stream",
          "name": "stdout",
          "text": [
            "Device: cuda\nSetup complete.\n"
          ]
        }
      ]
    },
    {
      "id": "02be6e81-f6d0-48a0-a257-29284eea8b9e",
      "cell_type": "code",
      "metadata": {},
      "source": [
        "# Modeling pipeline: dataset, transforms, model, CV training/eval, inference\n",
        "import os, time, math, gc, copy, warnings\n",
        "from pathlib import Path\n",
        "\n",
        "# Set writable cache dirs BEFORE importing timm/huggingface\n",
        "CACHE_DIR = Path('./timm_cache')\n",
        "CACHE_DIR.mkdir(parents=True, exist_ok=True)\n",
        "os.environ['HF_HOME'] = str(CACHE_DIR)\n",
        "os.environ['HF_HUB_CACHE'] = str(CACHE_DIR / 'hub')\n",
        "os.environ['XDG_CACHE_HOME'] = str(CACHE_DIR)\n",
        "os.environ['TIMM_HOME'] = str(CACHE_DIR)\n",
        "os.environ['TORCH_HOME'] = str(CACHE_DIR / 'torch')\n",
        "os.environ['PYTORCH_HUB'] = str(CACHE_DIR / 'pytorch_hub')\n",
        "\n",
        "import numpy as np\n",
        "import pandas as pd\n",
        "import cv2\n",
        "import timm\n",
        "import torch\n",
        "import torch.nn as nn\n",
        "from torch.utils.data import Dataset, DataLoader, WeightedRandomSampler\n",
        "from torch.optim import AdamW\n",
        "from torch.optim.lr_scheduler import OneCycleLR\n",
        "from sklearn.metrics import roc_auc_score\n",
        "from iterstrat.ml_stratifiers import MultilabelStratifiedKFold\n",
        "import albumentations as A\n",
        "from albumentations.pytorch import ToTensorV2\n",
        "\n",
        "# Device\n",
        "device = torch.device('cuda' if torch.cuda.is_available() else 'cpu')\n",
        "torch.backends.cudnn.benchmark = True\n",
        "print('Device:', device, flush=True)\n",
        "\n",
        "warnings.filterwarnings('ignore')\n",
        "IMG_DIR = Path('images')\n",
        "TARGET_COLS = ['healthy','multiple_diseases','rust','scab']\n",
        "N_CLASSES = len(TARGET_COLS)\n",
        "\n",
        "# Transforms\n",
        "IMG_SIZE = 384\n",
        "def get_transforms(img_size=IMG_SIZE):\n",
        "    train_tfms = A.Compose([\n",
        "        A.RandomResizedCrop(size=(img_size, img_size), scale=(0.8, 1.0), ratio=(0.75, 1.333), p=1.0),\n",
        "        A.HorizontalFlip(p=0.5),\n",
        "        A.VerticalFlip(p=0.3),\n",
        "        A.ShiftScaleRotate(shift_limit=0.05, scale_limit=0.1, rotate_limit=25, p=0.6),\n",
        "        A.RandomBrightnessContrast(p=0.5),\n",
        "        A.HueSaturationValue(p=0.5),\n",
        "        A.ColorJitter(p=0.3),\n",
        "        A.CoarseDropout(max_holes=8, max_height=int(img_size*0.1), max_width=int(img_size*0.1), fill_value=0, p=0.5),\n",
        "        A.Normalize(mean=(0.485,0.456,0.406), std=(0.229,0.224,0.225)),\n",
        "        ToTensorV2(),\n",
        "    ])\n",
        "    valid_tfms = A.Compose([\n",
        "        A.Resize(height=img_size, width=img_size),\n",
        "        A.Normalize(mean=(0.485,0.456,0.406), std=(0.229,0.224,0.225)),\n",
        "        ToTensorV2(),\n",
        "    ])\n",
        "    return train_tfms, valid_tfms\n",
        "\n",
        "class PlantDataset(Dataset):\n",
        "    def __init__(self, df, img_dir, img_col='image_id', target_cols=None, transforms=None, is_train=True):\n",
        "        self.df = df.reset_index(drop=True)\n",
        "        self.img_dir = Path(img_dir)\n",
        "        self.img_col = img_col\n",
        "        self.target_cols = target_cols\n",
        "        self.transforms = transforms\n",
        "        self.is_train = is_train\n",
        "    def __len__(self):\n",
        "        return len(self.df)\n",
        "    def __getitem__(self, idx):\n",
        "        row = self.df.iloc[idx]\n",
        "        img_path = self.img_dir / f\"{row[self.img_col]}.jpg\"\n",
        "        img = cv2.imread(str(img_path))\n",
        "        if img is None:\n",
        "            raise FileNotFoundError(f\"Image not found: {img_path}\")\n",
        "        img = cv2.cvtColor(img, cv2.COLOR_BGR2RGB)\n",
        "        if self.transforms:\n",
        "            img = self.transforms(image=img)['image']\n",
        "        if self.is_train and self.target_cols is not None:\n",
        "            y = row[self.target_cols].values.astype('float32')\n",
        "            return img, torch.from_numpy(y)\n",
        "        else:\n",
        "            return img, row[self.img_col]\n",
        "\n",
        "# Model\n",
        "class Model(nn.Module):\n",
        "    def __init__(self, backbone='tf_efficientnet_b3_ns', num_classes=N_CLASSES, drop=0.2):\n",
        "        super().__init__()\n",
        "        # ensure pretrained weights cache in writable dir\n",
        "        self.net = timm.create_model(backbone, pretrained=True, num_classes=num_classes, drop_rate=drop, in_chans=3, cache_dir=str(CACHE_DIR))\n",
        "    def forward(self, x):\n",
        "        return self.net(x)\n",
        "\n",
        "# EMA utility\n",
        "class EMA:\n",
        "    def __init__(self, model, decay=0.9998):\n",
        "        self.ema = copy.deepcopy(model).eval()\n",
        "        for p in self.ema.parameters():\n",
        "            p.requires_grad_(False)\n",
        "        self.decay = decay\n",
        "    @torch.no_grad()\n",
        "    def update(self, model):\n",
        "        msd = model.state_dict()\n",
        "        for k, v in self.ema.state_dict().items():\n",
        "            if k in msd:\n",
        "                v.copy_(v * self.decay + msd[k] * (1.0 - self.decay))\n",
        "\n",
        "# Asymmetric Loss for multi-label\n",
        "class AsymmetricLossMultiLabel(nn.Module):\n",
        "    def __init__(self, gamma_pos=0.0, gamma_neg=4.0, clip=0.05, eps=1e-8):\n",
        "        super().__init__()\n",
        "        self.gamma_pos = gamma_pos\n",
        "        self.gamma_neg = gamma_neg\n",
        "        self.clip = clip\n",
        "        self.eps = eps\n",
        "    def forward(self, logits, targets):\n",
        "        x_sigmoid = torch.sigmoid(logits)\n",
        "        xs_pos = x_sigmoid\n",
        "        xs_neg = 1.0 - x_sigmoid\n",
        "        if self.clip is not None and self.clip > 0:\n",
        "            xs_neg = (xs_neg + self.clip).clamp(max=1)\n",
        "        # Basic CE\n",
        "        loss = targets * torch.log(xs_pos.clamp(min=self.eps)) + (1 - targets) * torch.log(xs_neg.clamp(min=self.eps))\n",
        "        # Focusing\n",
        "        if self.gamma_pos > 0 or self.gamma_neg > 0:\n",
        "            pt = targets * xs_pos + (1 - targets) * xs_neg\n",
        "            one_sided = (1 - pt) ** (self.gamma_pos * targets + self.gamma_neg * (1 - targets))\n",
        "            loss *= one_sided\n",
        "        return -loss.mean()\n",
        "\n",
        "def compute_auc(y_true, y_pred):\n",
        "    scores = []\n",
        "    for i in range(y_true.shape[1]):\n",
        "        try:\n",
        "            scores.append(roc_auc_score(y_true[:, i], y_pred[:, i]))\n",
        "        except Exception:\n",
        "            scores.append(np.nan)\n",
        "    return float(np.nanmean(scores)), scores\n",
        "\n",
        "# Mixup\n",
        "def do_mixup(images, targets, alpha=0.3):\n",
        "    if alpha <= 0:\n",
        "        return images, targets\n",
        "    lam = np.random.beta(alpha, alpha)\n",
        "    index = torch.randperm(images.size(0), device=images.device)\n",
        "    mixed_images = lam * images + (1 - lam) * images[index]\n",
        "    mixed_targets = lam * targets + (1 - lam) * targets[index]\n",
        "    return mixed_images, mixed_targets\n",
        "\n",
        "# Train/valid loops\n",
        "def train_one_epoch(model, ema, loader, optimizer, scaler, loss_fn, device, scheduler=None, mixup_alpha=0.3, accum_steps=1):\n",
        "    model.train()\n",
        "    running = 0.0\n",
        "    optimizer.zero_grad(set_to_none=True)\n",
        "    for step, (images, targets) in enumerate(loader):\n",
        "        images = images.to(device, non_blocking=True)\n",
        "        targets = targets.to(device, non_blocking=True)\n",
        "        if mixup_alpha and mixup_alpha > 0:\n",
        "            images, targets = do_mixup(images, targets, alpha=mixup_alpha)\n",
        "        with torch.cuda.amp.autocast(enabled=True):\n",
        "            logits = model(images)\n",
        "            loss = loss_fn(logits, targets) / accum_steps\n",
        "        scaler.scale(loss).backward()\n",
        "        # gradient clipping for stability\n",
        "        torch.nn.utils.clip_grad_norm_(model.parameters(), max_norm=1.0)\n",
        "        if ((step + 1) % accum_steps) == 0:\n",
        "            scaler.step(optimizer)\n",
        "            scaler.update()\n",
        "            optimizer.zero_grad(set_to_none=True)\n",
        "        if scheduler is not None:\n",
        "            # OneCycleLR step per batch\n",
        "            scheduler.step()\n",
        "        if ema is not None:\n",
        "            ema.update(model)\n",
        "        running += loss.item() * accum_steps\n",
        "        if (step+1) % 25 == 0:\n",
        "            print(f\"  step {step+1}/{len(loader)} loss {running/(step+1):.4f}\", flush=True)\n",
        "    return running / max(1, len(loader))\n",
        "\n",
        "@torch.no_grad()\n",
        "def validate(model, loader, device, use_ema=False, ema=None):\n",
        "    model.eval()\n",
        "    preds = []\n",
        "    targs = []\n",
        "    net = ema.ema if (use_ema and ema is not None) else model\n",
        "    for images, targets in loader:\n",
        "        images = images.to(device, non_blocking=True)\n",
        "        logits = net(images)\n",
        "        probs = torch.sigmoid(logits).float().cpu().numpy()\n",
        "        preds.append(probs)\n",
        "        targs.append(targets.numpy())\n",
        "    preds = np.concatenate(preds, axis=0)\n",
        "    targs = np.concatenate(targs, axis=0)\n",
        "    mauc, per = compute_auc(targs, preds)\n",
        "    return mauc, per, preds\n",
        "\n",
        "# Cross-validation training\n",
        "def run_cv(train_df, img_dir=IMG_DIR, n_folds=5, seed=42, epochs=18, batch_size=16, lr=3e-4, wd=1e-4, patience=5, backbone='tf_efficientnet_b3_ns', use_ema=True, device=device, mixup_alpha=0.3, oversample=True, ema_decay=0.9998, accum_steps=1):\n",
        "    train_tfms, valid_tfms = get_transforms(IMG_SIZE)\n",
        "    X = train_df[['image_id']].values\n",
        "    y = train_df[TARGET_COLS].values\n",
        "    mskf = MultilabelStratifiedKFold(n_splits=n_folds, shuffle=True, random_state=seed)\n",
        "    folds = list(mskf.split(X, y))\n",
        "    # sanity check rare class distribution\n",
        "    for fi, (tr_idx, va_idx) in enumerate(folds):\n",
        "        cnt = train_df.iloc[va_idx]['multiple_diseases'].sum()\n",
        "        print(f\"Fold {fi}: val multiple_diseases count = {int(cnt)}\", flush=True)\n",
        "    oof = np.zeros((len(train_df), N_CLASSES), dtype=np.float32)\n",
        "    per_fold_scores = []\n",
        "    for fi, (tr_idx, va_idx) in enumerate(folds):\n",
        "        print(f\"\\n=== Fold {fi+1}/{n_folds} ===\", flush=True)\n",
        "        t_start = time.time()\n",
        "        tr_df = train_df.iloc[tr_idx].reset_index(drop=True)\n",
        "        va_df = train_df.iloc[va_idx].reset_index(drop=True)\n",
        "        ds_tr = PlantDataset(tr_df, img_dir, img_col='image_id', target_cols=TARGET_COLS, transforms=train_tfms, is_train=True)\n",
        "        ds_va = PlantDataset(va_df, img_dir, img_col='image_id', target_cols=TARGET_COLS, transforms=valid_tfms, is_train=True)\n",
        "        # Oversampling for multiple_diseases class\n",
        "        sampler = None\n",
        "        if oversample:\n",
        "            md = tr_df['multiple_diseases'].values.astype(np.float32)\n",
        "            # weight boost for md positives\n",
        "            w = np.ones(len(tr_df), dtype=np.float32)\n",
        "            # inverse frequency style boost, capped at 10x\n",
        "            pos_frac = md.mean() if md.mean() > 0 else 0.05\n",
        "            boost = min(10.0, max(3.0, 1.0 / max(1e-3, pos_frac)))\n",
        "            print(f\"  Oversample: pos_frac={pos_frac:.4f}, boost={boost:.2f}\", flush=True)\n",
        "            w[md > 0.5] *= boost\n",
        "            sampler = WeightedRandomSampler(weights=torch.from_numpy(w), num_samples=len(tr_df), replacement=True)\n",
        "        dl_tr = DataLoader(ds_tr, batch_size=batch_size, shuffle=(sampler is None), sampler=sampler, num_workers=2, pin_memory=True, drop_last=True)\n",
        "        dl_va = DataLoader(ds_va, batch_size=batch_size*2, shuffle=False, num_workers=2, pin_memory=True)\n",
        "        model = Model(backbone=backbone, num_classes=N_CLASSES).to(device)\n",
        "        optimizer = AdamW(model.parameters(), lr=lr, weight_decay=wd)\n",
        "        # OneCycleLR per batch\n",
        "        steps_per_epoch = max(1, len(dl_tr))\n",
        "        scheduler = OneCycleLR(optimizer, max_lr=lr, epochs=epochs, steps_per_epoch=steps_per_epoch, pct_start=0.3, anneal_strategy='cos', div_factor=25.0, final_div_factor=1e4)\n",
        "        scaler = torch.cuda.amp.GradScaler(enabled=True)\n",
        "        ema = EMA(model, decay=ema_decay) if use_ema else None\n",
        "        loss_fn = AsymmetricLossMultiLabel(gamma_pos=0.0, gamma_neg=4.0, clip=0.05)\n",
        "        best = -1.0\n",
        "        best_state = None\n",
        "        best_epoch = -1\n",
        "        no_improve = 0\n",
        "        for epoch in range(epochs):\n",
        "            ep_s = time.time()\n",
        "            tr_loss = train_one_epoch(model, ema, dl_tr, optimizer, scaler, loss_fn, device, scheduler=scheduler, mixup_alpha=mixup_alpha, accum_steps=accum_steps)\n",
        "            mauc, per, preds = validate(model, dl_va, device, use_ema=True, ema=ema)\n",
        "            elapsed = time.time()-ep_s\n",
        "            print(f\"Fold {fi} Epoch {epoch+1}/{epochs} | tr_loss {tr_loss:.4f} | val mAUC {mauc:.5f} | per {np.round(per,4)} | {elapsed:.1f}s\", flush=True)\n",
        "            if mauc > best:\n",
        "                best = mauc; best_state = copy.deepcopy((ema.ema if use_ema else model)).state_dict(); best_epoch = epoch; no_improve = 0\n",
        "            else:\n",
        "                no_improve += 1\n",
        "            if no_improve >= patience:\n",
        "                print(f\"Early stopping at epoch {epoch+1}\", flush=True)\n",
        "                break\n",
        "        # load best and predict OOF\n",
        "        (ema.ema if use_ema else model).load_state_dict(best_state, strict=True)\n",
        "        mauc, per, preds = validate(model, dl_va, device, use_ema=True, ema=ema)\n",
        "        oof[va_idx] = preds\n",
        "        per_fold_scores.append((best, per))\n",
        "        # save fold weights\n",
        "        ckpt_path = f\"model_fold{fi}.pth\"\n",
        "        torch.save(best_state, ckpt_path)\n",
        "        print(f\"Fold {fi} best mAUC {best:.5f} at epoch {best_epoch+1}. Saved {ckpt_path}. Fold time {time.time()-t_start:.1f}s\", flush=True)\n",
        "        del model, optimizer, scheduler, scaler, ema, dl_tr, dl_va, ds_tr, ds_va; gc.collect(); torch.cuda.empty_cache()\n",
        "    # OOF score\n",
        "    mauc, per = compute_auc(train_df[TARGET_COLS].values, oof)\n",
        "    print(f\"OOF mAUC: {mauc:.5f}; per-class: {np.round(per,5)}\", flush=True)\n",
        "    np.save('oof_preds.npy', oof)\n",
        "    train_df[[*TARGET_COLS]] = train_df[TARGET_COLS]\n",
        "    return oof, per_fold_scores\n",
        "\n",
        "# Inference with TTA (orig + hflip + vflip + hvflip)\n",
        "@torch.no_grad()\n",
        "def predict_test(models_paths, test_df, img_dir=IMG_DIR, batch_size=32, backbone='tf_efficientnet_b3_ns', device=device):\n",
        "    _, valid_tfms = get_transforms(IMG_SIZE)\n",
        "    ds_te = PlantDataset(test_df, img_dir, img_col='image_id', target_cols=None, transforms=valid_tfms, is_train=False)\n",
        "    dl_te = DataLoader(ds_te, batch_size=batch_size, shuffle=False, num_workers=2, pin_memory=True)\n",
        "    # prepare models\n",
        "    models = []\n",
        "    for p in models_paths:\n",
        "        m = Model(backbone=backbone, num_classes=N_CLASSES).to(device)\n",
        "        sd = torch.load(p, map_location=device)\n",
        "        m.load_state_dict(sd, strict=True)\n",
        "        m.eval()\n",
        "        models.append(m)\n",
        "    all_preds = []\n",
        "    for images, ids in dl_te:\n",
        "        images = images.to(device, non_blocking=True)\n",
        "        logits_sum = None\n",
        "        for m in models:\n",
        "            logits0 = m(images)\n",
        "            logits1 = m(torch.flip(images, dims=[3]))  # hflip\n",
        "            logits2 = m(torch.flip(images, dims=[2]))  # vflip\n",
        "            logits3 = m(torch.flip(images, dims=[2,3]))  # hvflip\n",
        "            logits_tta = (logits0 + logits1 + logits2 + logits3) / 4.0\n",
        "            logits_sum = logits_tta if logits_sum is None else logits_sum + logits_tta\n",
        "        logits_avg = logits_sum / len(models)\n",
        "        probs = torch.sigmoid(logits_avg).float().cpu().numpy()\n",
        "        all_preds.append(probs)\n",
        "    preds = np.concatenate(all_preds, axis=0)\n",
        "    sub = pd.DataFrame(preds, columns=TARGET_COLS)\n",
        "    sub.insert(0, 'image_id', test_df['image_id'].values)\n",
        "    return sub\n",
        "\n",
        "print('Pipeline defined. Ready to run CV training next.')"
      ],
      "execution_count": 4,
      "outputs": [
        {
          "output_type": "stream",
          "name": "stdout",
          "text": [
            "Device: cuda\n"
          ]
        },
        {
          "output_type": "stream",
          "name": "stdout",
          "text": [
            "Pipeline defined. Ready to run CV training next.\n"
          ]
        }
      ]
    },
    {
      "id": "7a1e229f-cc55-4525-aa63-63d8dd506985",
      "cell_type": "code",
      "metadata": {},
      "source": [
        "# Run 5-fold CV training and generate submission\n",
        "import pandas as pd, numpy as np, time, os, gc\n",
        "\n",
        "train_df = pd.read_csv('train.csv')\n",
        "test_df = pd.read_csv('test.csv')\n",
        "\n",
        "# sanity: ensure columns exist\n",
        "assert all([c in train_df.columns for c in TARGET_COLS])\n",
        "\n",
        "SEED = 42\n",
        "N_FOLDS = 5\n",
        "EPOCHS = 18\n",
        "BATCH_SIZE = 16\n",
        "LR = 4e-4  # safer max_lr for OneCycle per expert audit\n",
        "WD = 1e-4\n",
        "PATIENCE = 5\n",
        "BACKBONE = 'tf_efficientnet_b3_ns'\n",
        "MIXUP_ALPHA = 0.3\n",
        "EMA_DECAY = 0.999\n",
        "OVERSAMPLE = True\n",
        "\n",
        "t0 = time.time()\n",
        "print('Starting CV with ASL + Mixup + Oversampling (cap 10x) + OneCycleLR + EMA...')\n",
        "oof, per_fold_scores = run_cv(\n",
        "    train_df, img_dir=IMG_DIR, n_folds=N_FOLDS, seed=SEED,\n",
        "    epochs=EPOCHS, batch_size=BATCH_SIZE, lr=LR, wd=WD, patience=PATIENCE,\n",
        "    backbone=BACKBONE, use_ema=True, mixup_alpha=MIXUP_ALPHA, oversample=OVERSAMPLE, ema_decay=EMA_DECAY, accum_steps=2\n",
        ")\n",
        "print(f'CV finished in {time.time()-t0:.1f}s')\n",
        "\n",
        "# Collect fold checkpoints\n",
        "ckpts = [f'model_fold{i}.pth' for i in range(N_FOLDS) if os.path.exists(f'model_fold{i}.pth')]\n",
        "print('Found checkpoints:', ckpts)\n",
        "\n",
        "print('Predicting test with 4-way TTA (orig, hflip, vflip, hvflip) and fold-ensemble...')\n",
        "sub = predict_test(ckpts, test_df, img_dir=IMG_DIR, batch_size=32, backbone=BACKBONE)\n",
        "sub.to_csv('submission.csv', index=False)\n",
        "print('Saved submission.csv with shape:', sub.shape)\n",
        "sub.head()"
      ],
      "execution_count": 6,
      "outputs": [
        {
          "output_type": "stream",
          "name": "stdout",
          "text": [
            "Starting CV with ASL + Mixup + Oversampling (cap 10x) + OneCycleLR + EMA...\nFold 0: val multiple_diseases count = 17\n"
          ]
        },
        {
          "output_type": "stream",
          "name": "stdout",
          "text": [
            "Fold 1: val multiple_diseases count = 17\n"
          ]
        },
        {
          "output_type": "stream",
          "name": "stdout",
          "text": [
            "Fold 2: val multiple_diseases count = 17\n"
          ]
        },
        {
          "output_type": "stream",
          "name": "stdout",
          "text": [
            "Fold 3: val multiple_diseases count = 17\n"
          ]
        },
        {
          "output_type": "stream",
          "name": "stdout",
          "text": [
            "Fold 4: val multiple_diseases count = 17\n"
          ]
        },
        {
          "output_type": "stream",
          "name": "stdout",
          "text": [
            "\n=== Fold 1/5 ===\n"
          ]
        },
        {
          "output_type": "stream",
          "name": "stdout",
          "text": [
            "  Oversample: pos_frac=0.0519, boost=10.00\n"
          ]
        },
        {
          "output_type": "stream",
          "name": "stdout",
          "text": [
            "  step 25/81 loss 0.4439\n"
          ]
        },
        {
          "output_type": "stream",
          "name": "stdout",
          "text": [
            "  step 50/81 loss 0.4345\n"
          ]
        },
        {
          "output_type": "stream",
          "name": "stdout",
          "text": [
            "  step 75/81 loss 0.4127\n"
          ]
        },
        {
          "output_type": "stream",
          "name": "stdout",
          "text": [
            "Fold 0 Epoch 1/18 | tr_loss 0.4113 | val mAUC 0.59683 | per [0.6625 0.5926 0.5161 0.6162] | 74.6s\n"
          ]
        },
        {
          "output_type": "stream",
          "name": "stdout",
          "text": [
            "  step 25/81 loss 0.3353\n"
          ]
        },
        {
          "output_type": "stream",
          "name": "stdout",
          "text": [
            "  step 50/81 loss 0.2946\n"
          ]
        },
        {
          "output_type": "stream",
          "name": "stdout",
          "text": [
            "  step 75/81 loss 0.2820\n"
          ]
        },
        {
          "output_type": "stream",
          "name": "stdout",
          "text": [
            "Fold 0 Epoch 2/18 | tr_loss 0.2767 | val mAUC 0.60100 | per [0.6724 0.5935 0.524  0.6141] | 23.7s\n"
          ]
        },
        {
          "output_type": "stream",
          "name": "stdout",
          "text": [
            "  step 25/81 loss 0.2166\n"
          ]
        },
        {
          "output_type": "stream",
          "name": "stdout",
          "text": [
            "  step 50/81 loss 0.1950\n"
          ]
        },
        {
          "output_type": "stream",
          "name": "stdout",
          "text": [
            "  step 75/81 loss 0.1869\n"
          ]
        },
        {
          "output_type": "stream",
          "name": "stdout",
          "text": [
            "Fold 0 Epoch 3/18 | tr_loss 0.1842 | val mAUC 0.62270 | per [0.6917 0.6074 0.5609 0.6308] | 23.4s\n"
          ]
        },
        {
          "output_type": "stream",
          "name": "stdout",
          "text": [
            "  step 25/81 loss 0.1443\n"
          ]
        },
        {
          "output_type": "stream",
          "name": "stdout",
          "text": [
            "  step 50/81 loss 0.1409\n"
          ]
        },
        {
          "output_type": "stream",
          "name": "stdout",
          "text": [
            "  step 75/81 loss 0.1395\n"
          ]
        },
        {
          "output_type": "stream",
          "name": "stdout",
          "text": [
            "Fold 0 Epoch 4/18 | tr_loss 0.1438 | val mAUC 0.65719 | per [0.7244 0.6247 0.6086 0.6711] | 23.5s\n"
          ]
        },
        {
          "output_type": "stream",
          "name": "stdout",
          "text": [
            "  step 25/81 loss 0.1566\n"
          ]
        },
        {
          "output_type": "stream",
          "name": "stdout",
          "text": [
            "  step 50/81 loss 0.1575\n"
          ]
        },
        {
          "output_type": "stream",
          "name": "stdout",
          "text": [
            "  step 75/81 loss 0.1471\n"
          ]
        },
        {
          "output_type": "stream",
          "name": "stdout",
          "text": [
            "Fold 0 Epoch 5/18 | tr_loss 0.1451 | val mAUC 0.70641 | per [0.7731 0.6509 0.6614 0.7403] | 23.7s\n"
          ]
        },
        {
          "output_type": "stream",
          "name": "stdout",
          "text": [
            "  step 25/81 loss 0.1230\n"
          ]
        },
        {
          "output_type": "stream",
          "name": "stdout",
          "text": [
            "  step 50/81 loss 0.1221\n"
          ]
        },
        {
          "output_type": "stream",
          "name": "stdout",
          "text": [
            "  step 75/81 loss 0.1174\n"
          ]
        },
        {
          "output_type": "stream",
          "name": "stdout",
          "text": [
            "Fold 0 Epoch 6/18 | tr_loss 0.1183 | val mAUC 0.75626 | per [0.8285 0.6715 0.7214 0.8036] | 23.4s\n"
          ]
        },
        {
          "output_type": "stream",
          "name": "stdout",
          "text": [
            "  step 25/81 loss 0.1132\n"
          ]
        },
        {
          "output_type": "stream",
          "name": "stdout",
          "text": [
            "  step 50/81 loss 0.1183\n"
          ]
        },
        {
          "output_type": "stream",
          "name": "stdout",
          "text": [
            "  step 75/81 loss 0.1147\n"
          ]
        },
        {
          "output_type": "stream",
          "name": "stdout",
          "text": [
            "Fold 0 Epoch 7/18 | tr_loss 0.1116 | val mAUC 0.80095 | per [0.8778 0.6977 0.7756 0.8527] | 23.4s\n"
          ]
        },
        {
          "output_type": "stream",
          "name": "stdout",
          "text": [
            "  step 25/81 loss 0.0772\n"
          ]
        },
        {
          "output_type": "stream",
          "name": "stdout",
          "text": [
            "  step 50/81 loss 0.0816\n"
          ]
        },
        {
          "output_type": "stream",
          "name": "stdout",
          "text": [
            "  step 75/81 loss 0.0794\n"
          ]
        },
        {
          "output_type": "stream",
          "name": "stdout",
          "text": [
            "Fold 0 Epoch 8/18 | tr_loss 0.0796 | val mAUC 0.84250 | per [0.9161 0.7171 0.838  0.8988] | 23.4s\n"
          ]
        },
        {
          "output_type": "stream",
          "name": "stdout",
          "text": [
            "  step 25/81 loss 0.0878\n"
          ]
        },
        {
          "output_type": "stream",
          "name": "stdout",
          "text": [
            "  step 50/81 loss 0.0866\n"
          ]
        },
        {
          "output_type": "stream",
          "name": "stdout",
          "text": [
            "  step 75/81 loss 0.0867\n"
          ]
        },
        {
          "output_type": "stream",
          "name": "stdout",
          "text": [
            "Fold 0 Epoch 9/18 | tr_loss 0.0850 | val mAUC 0.87803 | per [0.9399 0.7457 0.8904 0.9361] | 23.3s\n"
          ]
        },
        {
          "output_type": "stream",
          "name": "stdout",
          "text": [
            "  step 25/81 loss 0.0857\n"
          ]
        },
        {
          "output_type": "stream",
          "name": "stdout",
          "text": [
            "  step 50/81 loss 0.0732\n"
          ]
        },
        {
          "output_type": "stream",
          "name": "stdout",
          "text": [
            "  step 75/81 loss 0.0712\n"
          ]
        },
        {
          "output_type": "stream",
          "name": "stdout",
          "text": [
            "Fold 0 Epoch 10/18 | tr_loss 0.0733 | val mAUC 0.90905 | per [0.9591 0.7816 0.9357 0.9598] | 23.8s\n"
          ]
        },
        {
          "output_type": "stream",
          "name": "stdout",
          "text": [
            "  step 25/81 loss 0.0637\n"
          ]
        },
        {
          "output_type": "stream",
          "name": "stdout",
          "text": [
            "  step 50/81 loss 0.0628\n"
          ]
        },
        {
          "output_type": "stream",
          "name": "stdout",
          "text": [
            "  step 75/81 loss 0.0621\n"
          ]
        },
        {
          "output_type": "stream",
          "name": "stdout",
          "text": [
            "Fold 0 Epoch 11/18 | tr_loss 0.0639 | val mAUC 0.93180 | per [0.9708 0.8207 0.9623 0.9734] | 23.5s\n"
          ]
        },
        {
          "output_type": "stream",
          "name": "stdout",
          "text": [
            "  step 25/81 loss 0.0622\n"
          ]
        },
        {
          "output_type": "stream",
          "name": "stdout",
          "text": [
            "  step 50/81 loss 0.0645\n"
          ]
        },
        {
          "output_type": "stream",
          "name": "stdout",
          "text": [
            "  step 75/81 loss 0.0575\n"
          ]
        },
        {
          "output_type": "stream",
          "name": "stdout",
          "text": [
            "Fold 0 Epoch 12/18 | tr_loss 0.0602 | val mAUC 0.94909 | per [0.98   0.8575 0.9776 0.9812] | 23.5s\n"
          ]
        },
        {
          "output_type": "stream",
          "name": "stdout",
          "text": [
            "  step 25/81 loss 0.0519\n"
          ]
        },
        {
          "output_type": "stream",
          "name": "stdout",
          "text": [
            "  step 50/81 loss 0.0521\n"
          ]
        },
        {
          "output_type": "stream",
          "name": "stdout",
          "text": [
            "  step 75/81 loss 0.0506\n"
          ]
        },
        {
          "output_type": "stream",
          "name": "stdout",
          "text": [
            "Fold 0 Epoch 13/18 | tr_loss 0.0515 | val mAUC 0.96323 | per [0.9856 0.8958 0.986  0.9855] | 23.4s\n"
          ]
        },
        {
          "output_type": "stream",
          "name": "stdout",
          "text": [
            "  step 25/81 loss 0.0393\n"
          ]
        },
        {
          "output_type": "stream",
          "name": "stdout",
          "text": [
            "  step 50/81 loss 0.0436\n"
          ]
        },
        {
          "output_type": "stream",
          "name": "stdout",
          "text": [
            "  step 75/81 loss 0.0500\n"
          ]
        },
        {
          "output_type": "stream",
          "name": "stdout",
          "text": [
            "Fold 0 Epoch 14/18 | tr_loss 0.0498 | val mAUC 0.97340 | per [0.9889 0.9254 0.9907 0.9886] | 23.4s\n"
          ]
        },
        {
          "output_type": "stream",
          "name": "stdout",
          "text": [
            "  step 25/81 loss 0.0593\n"
          ]
        },
        {
          "output_type": "stream",
          "name": "stdout",
          "text": [
            "  step 50/81 loss 0.0523\n"
          ]
        },
        {
          "output_type": "stream",
          "name": "stdout",
          "text": [
            "  step 75/81 loss 0.0520\n"
          ]
        },
        {
          "output_type": "stream",
          "name": "stdout",
          "text": [
            "Fold 0 Epoch 15/18 | tr_loss 0.0512 | val mAUC 0.97941 | per [0.9909 0.9419 0.9941 0.9907] | 23.5s\n"
          ]
        },
        {
          "output_type": "stream",
          "name": "stdout",
          "text": [
            "  step 25/81 loss 0.0471\n"
          ]
        },
        {
          "output_type": "stream",
          "name": "stdout",
          "text": [
            "  step 50/81 loss 0.0411\n"
          ]
        },
        {
          "output_type": "stream",
          "name": "stdout",
          "text": [
            "  step 75/81 loss 0.0376\n"
          ]
        },
        {
          "output_type": "stream",
          "name": "stdout",
          "text": [
            "Fold 0 Epoch 16/18 | tr_loss 0.0384 | val mAUC 0.98374 | per [0.9924 0.9545 0.9965 0.9916] | 23.4s\n"
          ]
        },
        {
          "output_type": "stream",
          "name": "stdout",
          "text": [
            "  step 25/81 loss 0.0399\n"
          ]
        },
        {
          "output_type": "stream",
          "name": "stdout",
          "text": [
            "  step 50/81 loss 0.0435\n"
          ]
        },
        {
          "output_type": "stream",
          "name": "stdout",
          "text": [
            "  step 75/81 loss 0.0458\n"
          ]
        },
        {
          "output_type": "stream",
          "name": "stdout",
          "text": [
            "Fold 0 Epoch 17/18 | tr_loss 0.0449 | val mAUC 0.98510 | per [0.9931 0.9577 0.9971 0.9925] | 23.4s\n"
          ]
        },
        {
          "output_type": "stream",
          "name": "stdout",
          "text": [
            "  step 25/81 loss 0.0372\n"
          ]
        },
        {
          "output_type": "stream",
          "name": "stdout",
          "text": [
            "  step 50/81 loss 0.0429\n"
          ]
        },
        {
          "output_type": "stream",
          "name": "stdout",
          "text": [
            "  step 75/81 loss 0.0485\n"
          ]
        },
        {
          "output_type": "stream",
          "name": "stdout",
          "text": [
            "Fold 0 Epoch 18/18 | tr_loss 0.0485 | val mAUC 0.98575 | per [0.9935 0.9588 0.9978 0.9929] | 23.5s\n"
          ]
        },
        {
          "output_type": "stream",
          "name": "stdout",
          "text": [
            "Fold 0 best mAUC 0.98575 at epoch 18. Saved model_fold0.pth. Fold time 480.4s\n"
          ]
        },
        {
          "output_type": "stream",
          "name": "stdout",
          "text": [
            "\n=== Fold 2/5 ===\n"
          ]
        },
        {
          "output_type": "stream",
          "name": "stdout",
          "text": [
            "  Oversample: pos_frac=0.0519, boost=10.00\n"
          ]
        },
        {
          "output_type": "stream",
          "name": "stdout",
          "text": [
            "  step 25/81 loss 0.5174\n"
          ]
        },
        {
          "output_type": "stream",
          "name": "stdout",
          "text": [
            "  step 50/81 loss 0.4703\n"
          ]
        },
        {
          "output_type": "stream",
          "name": "stdout",
          "text": [
            "  step 75/81 loss 0.4238\n"
          ]
        },
        {
          "output_type": "stream",
          "name": "stdout",
          "text": [
            "Fold 1 Epoch 1/18 | tr_loss 0.4239 | val mAUC 0.53499 | per [0.4516 0.5659 0.5106 0.6118] | 24.8s\n"
          ]
        },
        {
          "output_type": "stream",
          "name": "stdout",
          "text": [
            "  step 25/81 loss 0.3130\n"
          ]
        },
        {
          "output_type": "stream",
          "name": "stdout",
          "text": [
            "  step 50/81 loss 0.3013\n"
          ]
        },
        {
          "output_type": "stream",
          "name": "stdout",
          "text": [
            "  step 75/81 loss 0.2773\n"
          ]
        },
        {
          "output_type": "stream",
          "name": "stdout",
          "text": [
            "Fold 1 Epoch 2/18 | tr_loss 0.2750 | val mAUC 0.54225 | per [0.4585 0.5644 0.5228 0.6233] | 24.4s\n"
          ]
        },
        {
          "output_type": "stream",
          "name": "stdout",
          "text": [
            "  step 25/81 loss 0.2035\n"
          ]
        },
        {
          "output_type": "stream",
          "name": "stdout",
          "text": [
            "  step 50/81 loss 0.1854\n"
          ]
        },
        {
          "output_type": "stream",
          "name": "stdout",
          "text": [
            "  step 75/81 loss 0.1755\n"
          ]
        },
        {
          "output_type": "stream",
          "name": "stdout",
          "text": [
            "Fold 1 Epoch 3/18 | tr_loss 0.1748 | val mAUC 0.56896 | per [0.4952 0.5812 0.5481 0.6513] | 24.4s\n"
          ]
        },
        {
          "output_type": "stream",
          "name": "stdout",
          "text": [
            "  step 25/81 loss 0.1696\n"
          ]
        },
        {
          "output_type": "stream",
          "name": "stdout",
          "text": [
            "  step 50/81 loss 0.1672\n"
          ]
        },
        {
          "output_type": "stream",
          "name": "stdout",
          "text": [
            "  step 75/81 loss 0.1656\n"
          ]
        },
        {
          "output_type": "stream",
          "name": "stdout",
          "text": [
            "Fold 1 Epoch 4/18 | tr_loss 0.1630 | val mAUC 0.60953 | per [0.5584 0.6054 0.5853 0.689 ] | 24.6s\n"
          ]
        },
        {
          "output_type": "stream",
          "name": "stdout",
          "text": [
            "  step 25/81 loss 0.1395\n"
          ]
        },
        {
          "output_type": "stream",
          "name": "stdout",
          "text": [
            "  step 50/81 loss 0.1369\n"
          ]
        },
        {
          "output_type": "stream",
          "name": "stdout",
          "text": [
            "  step 75/81 loss 0.1323\n"
          ]
        },
        {
          "output_type": "stream",
          "name": "stdout",
          "text": [
            "Fold 1 Epoch 5/18 | tr_loss 0.1309 | val mAUC 0.65521 | per [0.6148 0.6524 0.6159 0.7378] | 24.2s\n"
          ]
        },
        {
          "output_type": "stream",
          "name": "stdout",
          "text": [
            "  step 25/81 loss 0.1116\n"
          ]
        },
        {
          "output_type": "stream",
          "name": "stdout",
          "text": [
            "  step 50/81 loss 0.1149\n"
          ]
        },
        {
          "output_type": "stream",
          "name": "stdout",
          "text": [
            "  step 75/81 loss 0.1125\n"
          ]
        },
        {
          "output_type": "stream",
          "name": "stdout",
          "text": [
            "Fold 1 Epoch 6/18 | tr_loss 0.1116 | val mAUC 0.70520 | per [0.6675 0.7036 0.6634 0.7863] | 24.4s\n"
          ]
        },
        {
          "output_type": "stream",
          "name": "stdout",
          "text": [
            "  step 25/81 loss 0.1054\n"
          ]
        },
        {
          "output_type": "stream",
          "name": "stdout",
          "text": [
            "  step 50/81 loss 0.1089\n"
          ]
        },
        {
          "output_type": "stream",
          "name": "stdout",
          "text": [
            "  step 75/81 loss 0.1149\n"
          ]
        },
        {
          "output_type": "stream",
          "name": "stdout",
          "text": [
            "Fold 1 Epoch 7/18 | tr_loss 0.1143 | val mAUC 0.76232 | per [0.7278 0.7611 0.7301 0.8303] | 24.3s\n"
          ]
        },
        {
          "output_type": "stream",
          "name": "stdout",
          "text": [
            "  step 25/81 loss 0.1154\n"
          ]
        },
        {
          "output_type": "stream",
          "name": "stdout",
          "text": [
            "  step 50/81 loss 0.1017\n"
          ]
        },
        {
          "output_type": "stream",
          "name": "stdout",
          "text": [
            "  step 75/81 loss 0.0927\n"
          ]
        },
        {
          "output_type": "stream",
          "name": "stdout",
          "text": [
            "Fold 1 Epoch 8/18 | tr_loss 0.0935 | val mAUC 0.82491 | per [0.7965 0.8061 0.8163 0.8807] | 24.4s\n"
          ]
        },
        {
          "output_type": "stream",
          "name": "stdout",
          "text": [
            "  step 25/81 loss 0.0942\n"
          ]
        },
        {
          "output_type": "stream",
          "name": "stdout",
          "text": [
            "  step 50/81 loss 0.0838\n"
          ]
        },
        {
          "output_type": "stream",
          "name": "stdout",
          "text": [
            "  step 75/81 loss 0.0821\n"
          ]
        },
        {
          "output_type": "stream",
          "name": "stdout",
          "text": [
            "Fold 1 Epoch 9/18 | tr_loss 0.0828 | val mAUC 0.87864 | per [0.8594 0.8468 0.892  0.9164] | 24.3s\n"
          ]
        },
        {
          "output_type": "stream",
          "name": "stdout",
          "text": [
            "  step 25/81 loss 0.0618\n"
          ]
        },
        {
          "output_type": "stream",
          "name": "stdout",
          "text": [
            "  step 50/81 loss 0.0684\n"
          ]
        },
        {
          "output_type": "stream",
          "name": "stdout",
          "text": [
            "  step 75/81 loss 0.0681\n"
          ]
        },
        {
          "output_type": "stream",
          "name": "stdout",
          "text": [
            "Fold 1 Epoch 10/18 | tr_loss 0.0677 | val mAUC 0.91759 | per [0.9073 0.8748 0.9484 0.9398] | 24.3s\n"
          ]
        },
        {
          "output_type": "stream",
          "name": "stdout",
          "text": [
            "  step 25/81 loss 0.0762\n"
          ]
        },
        {
          "output_type": "stream",
          "name": "stdout",
          "text": [
            "  step 50/81 loss 0.0701\n"
          ]
        },
        {
          "output_type": "stream",
          "name": "stdout",
          "text": [
            "  step 75/81 loss 0.0680\n"
          ]
        },
        {
          "output_type": "stream",
          "name": "stdout",
          "text": [
            "Fold 1 Epoch 11/18 | tr_loss 0.0678 | val mAUC 0.94305 | per [0.9375 0.8981 0.979  0.9577] | 24.2s\n"
          ]
        },
        {
          "output_type": "stream",
          "name": "stdout",
          "text": [
            "  step 25/81 loss 0.0685\n"
          ]
        },
        {
          "output_type": "stream",
          "name": "stdout",
          "text": [
            "  step 50/81 loss 0.0623\n"
          ]
        },
        {
          "output_type": "stream",
          "name": "stdout",
          "text": [
            "  step 75/81 loss 0.0612\n"
          ]
        },
        {
          "output_type": "stream",
          "name": "stdout",
          "text": [
            "Fold 1 Epoch 12/18 | tr_loss 0.0609 | val mAUC 0.95970 | per [0.9585 0.9187 0.9907 0.971 ] | 24.3s\n"
          ]
        },
        {
          "output_type": "stream",
          "name": "stdout",
          "text": [
            "  step 25/81 loss 0.0716\n"
          ]
        },
        {
          "output_type": "stream",
          "name": "stdout",
          "text": [
            "  step 50/81 loss 0.0615\n"
          ]
        },
        {
          "output_type": "stream",
          "name": "stdout",
          "text": [
            "  step 75/81 loss 0.0617\n"
          ]
        },
        {
          "output_type": "stream",
          "name": "stdout",
          "text": [
            "Fold 1 Epoch 13/18 | tr_loss 0.0604 | val mAUC 0.97015 | per [0.9707 0.9346 0.9948 0.9805] | 24.4s\n"
          ]
        },
        {
          "output_type": "stream",
          "name": "stdout",
          "text": [
            "  step 25/81 loss 0.0602\n"
          ]
        },
        {
          "output_type": "stream",
          "name": "stdout",
          "text": [
            "  step 50/81 loss 0.0639\n"
          ]
        },
        {
          "output_type": "stream",
          "name": "stdout",
          "text": [
            "  step 75/81 loss 0.0589\n"
          ]
        },
        {
          "output_type": "stream",
          "name": "stdout",
          "text": [
            "Fold 1 Epoch 14/18 | tr_loss 0.0582 | val mAUC 0.97714 | per [0.9792 0.9459 0.9976 0.9859] | 24.4s\n"
          ]
        },
        {
          "output_type": "stream",
          "name": "stdout",
          "text": [
            "  step 25/81 loss 0.0461\n"
          ]
        },
        {
          "output_type": "stream",
          "name": "stdout",
          "text": [
            "  step 50/81 loss 0.0451\n"
          ]
        },
        {
          "output_type": "stream",
          "name": "stdout",
          "text": [
            "  step 75/81 loss 0.0465\n"
          ]
        },
        {
          "output_type": "stream",
          "name": "stdout",
          "text": [
            "Fold 1 Epoch 15/18 | tr_loss 0.0461 | val mAUC 0.98146 | per [0.9856 0.9531 0.9991 0.9881] | 24.4s\n"
          ]
        },
        {
          "output_type": "stream",
          "name": "stdout",
          "text": [
            "  step 25/81 loss 0.0548\n"
          ]
        },
        {
          "output_type": "stream",
          "name": "stdout",
          "text": [
            "  step 50/81 loss 0.0523\n"
          ]
        },
        {
          "output_type": "stream",
          "name": "stdout",
          "text": [
            "  step 75/81 loss 0.0475\n"
          ]
        },
        {
          "output_type": "stream",
          "name": "stdout",
          "text": [
            "Fold 1 Epoch 16/18 | tr_loss 0.0464 | val mAUC 0.98460 | per [0.9905 0.9584 0.9995 0.99  ] | 24.1s\n"
          ]
        },
        {
          "output_type": "stream",
          "name": "stdout",
          "text": [
            "  step 25/81 loss 0.0407\n"
          ]
        },
        {
          "output_type": "stream",
          "name": "stdout",
          "text": [
            "  step 50/81 loss 0.0507\n"
          ]
        },
        {
          "output_type": "stream",
          "name": "stdout",
          "text": [
            "  step 75/81 loss 0.0476\n"
          ]
        },
        {
          "output_type": "stream",
          "name": "stdout",
          "text": [
            "Fold 1 Epoch 17/18 | tr_loss 0.0480 | val mAUC 0.98730 | per [0.9939 0.9646 0.9997 0.991 ] | 24.2s\n"
          ]
        },
        {
          "output_type": "stream",
          "name": "stdout",
          "text": [
            "  step 25/81 loss 0.0414\n"
          ]
        },
        {
          "output_type": "stream",
          "name": "stdout",
          "text": [
            "  step 50/81 loss 0.0452\n"
          ]
        },
        {
          "output_type": "stream",
          "name": "stdout",
          "text": [
            "  step 75/81 loss 0.0438\n"
          ]
        },
        {
          "output_type": "stream",
          "name": "stdout",
          "text": [
            "Fold 1 Epoch 18/18 | tr_loss 0.0445 | val mAUC 0.98849 | per [0.9958 0.9667 0.9998 0.9916] | 24.3s\n"
          ]
        },
        {
          "output_type": "stream",
          "name": "stdout",
          "text": [
            "Fold 1 best mAUC 0.98849 at epoch 18. Saved model_fold1.pth. Fold time 445.3s\n"
          ]
        },
        {
          "output_type": "stream",
          "name": "stdout",
          "text": [
            "\n=== Fold 3/5 ===\n"
          ]
        },
        {
          "output_type": "stream",
          "name": "stdout",
          "text": [
            "  Oversample: pos_frac=0.0519, boost=10.00\n"
          ]
        },
        {
          "output_type": "stream",
          "name": "stdout",
          "text": [
            "  step 25/81 loss 0.4663\n"
          ]
        },
        {
          "output_type": "stream",
          "name": "stdout",
          "text": [
            "  step 50/81 loss 0.4341\n"
          ]
        },
        {
          "output_type": "stream",
          "name": "stdout",
          "text": [
            "  step 75/81 loss 0.4152\n"
          ]
        },
        {
          "output_type": "stream",
          "name": "stdout",
          "text": [
            "Fold 2 Epoch 1/18 | tr_loss 0.4126 | val mAUC 0.50528 | per [0.5518 0.4956 0.5269 0.4468] | 24.5s\n"
          ]
        },
        {
          "output_type": "stream",
          "name": "stdout",
          "text": [
            "  step 25/81 loss 0.3276\n"
          ]
        },
        {
          "output_type": "stream",
          "name": "stdout",
          "text": [
            "  step 50/81 loss 0.3064\n"
          ]
        },
        {
          "output_type": "stream",
          "name": "stdout",
          "text": [
            "  step 75/81 loss 0.2917\n"
          ]
        },
        {
          "output_type": "stream",
          "name": "stdout",
          "text": [
            "Fold 2 Epoch 2/18 | tr_loss 0.2882 | val mAUC 0.50297 | per [0.5653 0.4793 0.548  0.4193] | 24.4s\n"
          ]
        },
        {
          "output_type": "stream",
          "name": "stdout",
          "text": [
            "  step 25/81 loss 0.2305\n"
          ]
        },
        {
          "output_type": "stream",
          "name": "stdout",
          "text": [
            "  step 50/81 loss 0.2304\n"
          ]
        },
        {
          "output_type": "stream",
          "name": "stdout",
          "text": [
            "  step 75/81 loss 0.2097\n"
          ]
        },
        {
          "output_type": "stream",
          "name": "stdout",
          "text": [
            "Fold 2 Epoch 3/18 | tr_loss 0.2075 | val mAUC 0.52095 | per [0.5897 0.4772 0.5987 0.4183] | 24.3s\n"
          ]
        },
        {
          "output_type": "stream",
          "name": "stdout",
          "text": [
            "  step 25/81 loss 0.1548\n"
          ]
        },
        {
          "output_type": "stream",
          "name": "stdout",
          "text": [
            "  step 50/81 loss 0.1504\n"
          ]
        },
        {
          "output_type": "stream",
          "name": "stdout",
          "text": [
            "  step 75/81 loss 0.1501\n"
          ]
        },
        {
          "output_type": "stream",
          "name": "stdout",
          "text": [
            "Fold 2 Epoch 4/18 | tr_loss 0.1462 | val mAUC 0.55524 | per [0.6249 0.4878 0.6669 0.4413] | 24.3s\n"
          ]
        },
        {
          "output_type": "stream",
          "name": "stdout",
          "text": [
            "  step 25/81 loss 0.1233\n"
          ]
        },
        {
          "output_type": "stream",
          "name": "stdout",
          "text": [
            "  step 50/81 loss 0.1231\n"
          ]
        },
        {
          "output_type": "stream",
          "name": "stdout",
          "text": [
            "  step 75/81 loss 0.1223\n"
          ]
        },
        {
          "output_type": "stream",
          "name": "stdout",
          "text": [
            "Fold 2 Epoch 5/18 | tr_loss 0.1212 | val mAUC 0.60658 | per [0.6724 0.5188 0.7393 0.4958] | 24.7s\n"
          ]
        },
        {
          "output_type": "stream",
          "name": "stdout",
          "text": [
            "  step 25/81 loss 0.1306\n"
          ]
        },
        {
          "output_type": "stream",
          "name": "stdout",
          "text": [
            "  step 50/81 loss 0.1260\n"
          ]
        },
        {
          "output_type": "stream",
          "name": "stdout",
          "text": [
            "  step 75/81 loss 0.1246\n"
          ]
        },
        {
          "output_type": "stream",
          "name": "stdout",
          "text": [
            "Fold 2 Epoch 6/18 | tr_loss 0.1221 | val mAUC 0.66409 | per [0.7341 0.561  0.807  0.5542] | 24.4s\n"
          ]
        },
        {
          "output_type": "stream",
          "name": "stdout",
          "text": [
            "  step 25/81 loss 0.1067\n"
          ]
        },
        {
          "output_type": "stream",
          "name": "stdout",
          "text": [
            "  step 50/81 loss 0.0955\n"
          ]
        },
        {
          "output_type": "stream",
          "name": "stdout",
          "text": [
            "  step 75/81 loss 0.0977\n"
          ]
        },
        {
          "output_type": "stream",
          "name": "stdout",
          "text": [
            "Fold 2 Epoch 7/18 | tr_loss 0.0979 | val mAUC 0.72856 | per [0.8069 0.6198 0.8605 0.627 ] | 24.5s\n"
          ]
        },
        {
          "output_type": "stream",
          "name": "stdout",
          "text": [
            "  step 25/81 loss 0.1023\n"
          ]
        },
        {
          "output_type": "stream",
          "name": "stdout",
          "text": [
            "  step 50/81 loss 0.0986\n"
          ]
        },
        {
          "output_type": "stream",
          "name": "stdout",
          "text": [
            "  step 75/81 loss 0.0948\n"
          ]
        },
        {
          "output_type": "stream",
          "name": "stdout",
          "text": [
            "Fold 2 Epoch 8/18 | tr_loss 0.0940 | val mAUC 0.78922 | per [0.8714 0.6673 0.906  0.7121] | 24.5s\n"
          ]
        },
        {
          "output_type": "stream",
          "name": "stdout",
          "text": [
            "  step 25/81 loss 0.0921\n"
          ]
        },
        {
          "output_type": "stream",
          "name": "stdout",
          "text": [
            "  step 50/81 loss 0.0854\n"
          ]
        },
        {
          "output_type": "stream",
          "name": "stdout",
          "text": [
            "  step 75/81 loss 0.0798\n"
          ]
        },
        {
          "output_type": "stream",
          "name": "stdout",
          "text": [
            "Fold 2 Epoch 9/18 | tr_loss 0.0791 | val mAUC 0.84426 | per [0.9161 0.7212 0.9456 0.7941] | 24.9s\n"
          ]
        },
        {
          "output_type": "stream",
          "name": "stdout",
          "text": [
            "  step 25/81 loss 0.0662\n"
          ]
        },
        {
          "output_type": "stream",
          "name": "stdout",
          "text": [
            "  step 50/81 loss 0.0723\n"
          ]
        },
        {
          "output_type": "stream",
          "name": "stdout",
          "text": [
            "  step 75/81 loss 0.0698\n"
          ]
        },
        {
          "output_type": "stream",
          "name": "stdout",
          "text": [
            "Fold 2 Epoch 10/18 | tr_loss 0.0677 | val mAUC 0.88736 | per [0.9513 0.7651 0.9706 0.8625] | 24.4s\n"
          ]
        },
        {
          "output_type": "stream",
          "name": "stdout",
          "text": [
            "  step 25/81 loss 0.0742\n"
          ]
        },
        {
          "output_type": "stream",
          "name": "stdout",
          "text": [
            "  step 50/81 loss 0.0665\n"
          ]
        },
        {
          "output_type": "stream",
          "name": "stdout",
          "text": [
            "  step 75/81 loss 0.0629\n"
          ]
        },
        {
          "output_type": "stream",
          "name": "stdout",
          "text": [
            "Fold 2 Epoch 11/18 | tr_loss 0.0622 | val mAUC 0.91522 | per [0.9705 0.7982 0.9842 0.908 ] | 24.3s\n"
          ]
        },
        {
          "output_type": "stream",
          "name": "stdout",
          "text": [
            "  step 25/81 loss 0.0732\n"
          ]
        },
        {
          "output_type": "stream",
          "name": "stdout",
          "text": [
            "  step 50/81 loss 0.0666\n"
          ]
        },
        {
          "output_type": "stream",
          "name": "stdout",
          "text": [
            "  step 75/81 loss 0.0686\n"
          ]
        },
        {
          "output_type": "stream",
          "name": "stdout",
          "text": [
            "Fold 2 Epoch 12/18 | tr_loss 0.0680 | val mAUC 0.93362 | per [0.9807 0.829  0.9907 0.9341] | 24.4s\n"
          ]
        },
        {
          "output_type": "stream",
          "name": "stdout",
          "text": [
            "  step 25/81 loss 0.0583\n"
          ]
        },
        {
          "output_type": "stream",
          "name": "stdout",
          "text": [
            "  step 50/81 loss 0.0611\n"
          ]
        },
        {
          "output_type": "stream",
          "name": "stdout",
          "text": [
            "  step 75/81 loss 0.0622\n"
          ]
        },
        {
          "output_type": "stream",
          "name": "stdout",
          "text": [
            "Fold 2 Epoch 13/18 | tr_loss 0.0630 | val mAUC 0.94648 | per [0.9876 0.8494 0.994  0.9548] | 24.3s\n"
          ]
        },
        {
          "output_type": "stream",
          "name": "stdout",
          "text": [
            "  step 25/81 loss 0.0568\n"
          ]
        },
        {
          "output_type": "stream",
          "name": "stdout",
          "text": [
            "  step 50/81 loss 0.0546\n"
          ]
        },
        {
          "output_type": "stream",
          "name": "stdout",
          "text": [
            "  step 75/81 loss 0.0516\n"
          ]
        },
        {
          "output_type": "stream",
          "name": "stdout",
          "text": [
            "Fold 2 Epoch 14/18 | tr_loss 0.0506 | val mAUC 0.95710 | per [0.9921 0.8712 0.995  0.9701] | 24.8s\n"
          ]
        },
        {
          "output_type": "stream",
          "name": "stdout",
          "text": [
            "  step 25/81 loss 0.0461\n"
          ]
        },
        {
          "output_type": "stream",
          "name": "stdout",
          "text": [
            "  step 50/81 loss 0.0487\n"
          ]
        },
        {
          "output_type": "stream",
          "name": "stdout",
          "text": [
            "  step 75/81 loss 0.0496\n"
          ]
        },
        {
          "output_type": "stream",
          "name": "stdout",
          "text": [
            "Fold 2 Epoch 15/18 | tr_loss 0.0490 | val mAUC 0.96361 | per [0.9945 0.8848 0.9957 0.9794] | 24.5s\n"
          ]
        },
        {
          "output_type": "stream",
          "name": "stdout",
          "text": [
            "  step 25/81 loss 0.0404\n"
          ]
        },
        {
          "output_type": "stream",
          "name": "stdout",
          "text": [
            "  step 50/81 loss 0.0480\n"
          ]
        },
        {
          "output_type": "stream",
          "name": "stdout",
          "text": [
            "  step 75/81 loss 0.0466\n"
          ]
        },
        {
          "output_type": "stream",
          "name": "stdout",
          "text": [
            "Fold 2 Epoch 16/18 | tr_loss 0.0452 | val mAUC 0.97001 | per [0.9959 0.9016 0.9962 0.9863] | 24.4s\n"
          ]
        },
        {
          "output_type": "stream",
          "name": "stdout",
          "text": [
            "  step 25/81 loss 0.0542\n"
          ]
        },
        {
          "output_type": "stream",
          "name": "stdout",
          "text": [
            "  step 50/81 loss 0.0494\n"
          ]
        },
        {
          "output_type": "stream",
          "name": "stdout",
          "text": [
            "  step 75/81 loss 0.0471\n"
          ]
        },
        {
          "output_type": "stream",
          "name": "stdout",
          "text": [
            "Fold 2 Epoch 17/18 | tr_loss 0.0451 | val mAUC 0.97369 | per [0.997  0.9109 0.9964 0.9904] | 24.4s\n"
          ]
        },
        {
          "output_type": "stream",
          "name": "stdout",
          "text": [
            "  step 25/81 loss 0.0438\n"
          ]
        },
        {
          "output_type": "stream",
          "name": "stdout",
          "text": [
            "  step 50/81 loss 0.0418\n"
          ]
        },
        {
          "output_type": "stream",
          "name": "stdout",
          "text": [
            "  step 75/81 loss 0.0425\n"
          ]
        },
        {
          "output_type": "stream",
          "name": "stdout",
          "text": [
            "Fold 2 Epoch 18/18 | tr_loss 0.0456 | val mAUC 0.97550 | per [0.998  0.9143 0.9967 0.993 ] | 24.5s\n"
          ]
        },
        {
          "output_type": "stream",
          "name": "stdout",
          "text": [
            "Fold 2 best mAUC 0.97550 at epoch 18. Saved model_fold2.pth. Fold time 447.5s\n"
          ]
        },
        {
          "output_type": "stream",
          "name": "stdout",
          "text": [
            "\n=== Fold 4/5 ===\n"
          ]
        },
        {
          "output_type": "stream",
          "name": "stdout",
          "text": [
            "  Oversample: pos_frac=0.0519, boost=10.00\n"
          ]
        },
        {
          "output_type": "stream",
          "name": "stdout",
          "text": [
            "  step 25/81 loss 0.5999\n"
          ]
        },
        {
          "output_type": "stream",
          "name": "stdout",
          "text": [
            "  step 50/81 loss 0.5231\n"
          ]
        },
        {
          "output_type": "stream",
          "name": "stdout",
          "text": [
            "  step 75/81 loss 0.4692\n"
          ]
        },
        {
          "output_type": "stream",
          "name": "stdout",
          "text": [
            "Fold 3 Epoch 1/18 | tr_loss 0.4658 | val mAUC 0.57402 | per [0.6215 0.5763 0.5228 0.5755] | 24.5s\n"
          ]
        },
        {
          "output_type": "stream",
          "name": "stdout",
          "text": [
            "  step 25/81 loss 0.3100\n"
          ]
        },
        {
          "output_type": "stream",
          "name": "stdout",
          "text": [
            "  step 50/81 loss 0.2956\n"
          ]
        },
        {
          "output_type": "stream",
          "name": "stdout",
          "text": [
            "  step 75/81 loss 0.2841\n"
          ]
        },
        {
          "output_type": "stream",
          "name": "stdout",
          "text": [
            "Fold 3 Epoch 2/18 | tr_loss 0.2791 | val mAUC 0.57637 | per [0.6172 0.56   0.5488 0.5796] | 24.4s\n"
          ]
        },
        {
          "output_type": "stream",
          "name": "stdout",
          "text": [
            "  step 25/81 loss 0.1917\n"
          ]
        },
        {
          "output_type": "stream",
          "name": "stdout",
          "text": [
            "  step 50/81 loss 0.1879\n"
          ]
        },
        {
          "output_type": "stream",
          "name": "stdout",
          "text": [
            "  step 75/81 loss 0.1730\n"
          ]
        },
        {
          "output_type": "stream",
          "name": "stdout",
          "text": [
            "Fold 3 Epoch 3/18 | tr_loss 0.1714 | val mAUC 0.60154 | per [0.6435 0.5564 0.6032 0.6031] | 24.3s\n"
          ]
        },
        {
          "output_type": "stream",
          "name": "stdout",
          "text": [
            "  step 25/81 loss 0.1650\n"
          ]
        },
        {
          "output_type": "stream",
          "name": "stdout",
          "text": [
            "  step 50/81 loss 0.1539\n"
          ]
        },
        {
          "output_type": "stream",
          "name": "stdout",
          "text": [
            "  step 75/81 loss nan\n"
          ]
        },
        {
          "output_type": "stream",
          "name": "stdout",
          "text": [
            "Fold 3 Epoch 4/18 | tr_loss nan | val mAUC 0.64210 | per [0.68   0.5774 0.6631 0.6478] | 24.8s\n"
          ]
        },
        {
          "output_type": "stream",
          "name": "stdout",
          "text": [
            "  step 25/81 loss nan\n"
          ]
        },
        {
          "output_type": "stream",
          "name": "stdout",
          "text": [
            "  step 50/81 loss nan\n"
          ]
        },
        {
          "output_type": "stream",
          "name": "stdout",
          "text": [
            "  step 75/81 loss nan\n"
          ]
        },
        {
          "output_type": "stream",
          "name": "stdout",
          "text": [
            "Fold 3 Epoch 5/18 | tr_loss nan | val mAUC 0.69311 | per [0.7448 0.5991 0.7137 0.7149] | 24.2s\n"
          ]
        },
        {
          "output_type": "stream",
          "name": "stdout",
          "text": [
            "  step 25/81 loss 0.2058\n"
          ]
        },
        {
          "output_type": "stream",
          "name": "stdout",
          "text": [
            "  step 50/81 loss 0.1660\n"
          ]
        },
        {
          "output_type": "stream",
          "name": "stdout",
          "text": [
            "  step 75/81 loss 0.1459\n"
          ]
        },
        {
          "output_type": "stream",
          "name": "stdout",
          "text": [
            "Fold 3 Epoch 6/18 | tr_loss 0.1434 | val mAUC 0.74993 | per [0.8398 0.593  0.7826 0.7844] | 24.1s\n"
          ]
        },
        {
          "output_type": "stream",
          "name": "stdout",
          "text": [
            "  step 25/81 loss 0.0920\n"
          ]
        },
        {
          "output_type": "stream",
          "name": "stdout",
          "text": [
            "  step 50/81 loss 0.0853\n"
          ]
        },
        {
          "output_type": "stream",
          "name": "stdout",
          "text": [
            "  step 75/81 loss 0.0900\n"
          ]
        },
        {
          "output_type": "stream",
          "name": "stdout",
          "text": [
            "Fold 3 Epoch 7/18 | tr_loss 0.0911 | val mAUC 0.80482 | per [0.9178 0.6106 0.8403 0.8505] | 24.0s\n"
          ]
        },
        {
          "output_type": "stream",
          "name": "stdout",
          "text": [
            "  step 25/81 loss 0.0731\n"
          ]
        },
        {
          "output_type": "stream",
          "name": "stdout",
          "text": [
            "  step 50/81 loss 0.0707\n"
          ]
        },
        {
          "output_type": "stream",
          "name": "stdout",
          "text": [
            "  step 75/81 loss 0.0702\n"
          ]
        },
        {
          "output_type": "stream",
          "name": "stdout",
          "text": [
            "Fold 3 Epoch 8/18 | tr_loss 0.0723 | val mAUC 0.85000 | per [0.9546 0.655  0.8854 0.9049] | 24.0s\n"
          ]
        },
        {
          "output_type": "stream",
          "name": "stdout",
          "text": [
            "  step 25/81 loss 0.0644\n"
          ]
        },
        {
          "output_type": "stream",
          "name": "stdout",
          "text": [
            "  step 50/81 loss 0.0619\n"
          ]
        },
        {
          "output_type": "stream",
          "name": "stdout",
          "text": [
            "  step 75/81 loss 0.0636\n"
          ]
        },
        {
          "output_type": "stream",
          "name": "stdout",
          "text": [
            "Fold 3 Epoch 9/18 | tr_loss 0.0635 | val mAUC 0.88298 | per [0.9713 0.6954 0.9237 0.9415] | 23.9s\n"
          ]
        },
        {
          "output_type": "stream",
          "name": "stdout",
          "text": [
            "  step 25/81 loss 0.0556\n"
          ]
        },
        {
          "output_type": "stream",
          "name": "stdout",
          "text": [
            "  step 50/81 loss 0.0547\n"
          ]
        },
        {
          "output_type": "stream",
          "name": "stdout",
          "text": [
            "  step 75/81 loss 0.0530\n"
          ]
        },
        {
          "output_type": "stream",
          "name": "stdout",
          "text": [
            "Fold 3 Epoch 10/18 | tr_loss 0.0518 | val mAUC 0.90791 | per [0.9797 0.7343 0.9554 0.9622] | 24.0s\n"
          ]
        },
        {
          "output_type": "stream",
          "name": "stdout",
          "text": [
            "  step 25/81 loss 0.0551\n"
          ]
        },
        {
          "output_type": "stream",
          "name": "stdout",
          "text": [
            "  step 50/81 loss 0.0462\n"
          ]
        },
        {
          "output_type": "stream",
          "name": "stdout",
          "text": [
            "  step 75/81 loss 0.0490\n"
          ]
        },
        {
          "output_type": "stream",
          "name": "stdout",
          "text": [
            "Fold 3 Epoch 11/18 | tr_loss 0.0487 | val mAUC 0.92644 | per [0.9862 0.7658 0.9782 0.9755] | 24.0s\n"
          ]
        },
        {
          "output_type": "stream",
          "name": "stdout",
          "text": [
            "  step 25/81 loss 0.0431\n"
          ]
        },
        {
          "output_type": "stream",
          "name": "stdout",
          "text": [
            "  step 50/81 loss 0.0450\n"
          ]
        },
        {
          "output_type": "stream",
          "name": "stdout",
          "text": [
            "  step 75/81 loss 0.0418\n"
          ]
        },
        {
          "output_type": "stream",
          "name": "stdout",
          "text": [
            "Fold 3 Epoch 12/18 | tr_loss 0.0415 | val mAUC 0.93687 | per [0.9892 0.7867 0.9897 0.9818] | 24.0s\n"
          ]
        },
        {
          "output_type": "stream",
          "name": "stdout",
          "text": [
            "  step 25/81 loss 0.0387\n"
          ]
        },
        {
          "output_type": "stream",
          "name": "stdout",
          "text": [
            "  step 50/81 loss 0.0415\n"
          ]
        },
        {
          "output_type": "stream",
          "name": "stdout",
          "text": [
            "  step 75/81 loss 0.0400\n"
          ]
        },
        {
          "output_type": "stream",
          "name": "stdout",
          "text": [
            "Fold 3 Epoch 13/18 | tr_loss 0.0396 | val mAUC 0.94215 | per [0.9915 0.7985 0.993  0.9856] | 24.0s\n"
          ]
        },
        {
          "output_type": "stream",
          "name": "stdout",
          "text": [
            "  step 25/81 loss 0.0364\n"
          ]
        },
        {
          "output_type": "stream",
          "name": "stdout",
          "text": [
            "  step 50/81 loss 0.0318\n"
          ]
        },
        {
          "output_type": "stream",
          "name": "stdout",
          "text": [
            "  step 75/81 loss 0.0348\n"
          ]
        },
        {
          "output_type": "stream",
          "name": "stdout",
          "text": [
            "Fold 3 Epoch 14/18 | tr_loss 0.0379 | val mAUC 0.94692 | per [0.9937 0.8106 0.9942 0.9892] | 24.0s\n"
          ]
        },
        {
          "output_type": "stream",
          "name": "stdout",
          "text": [
            "  step 25/81 loss 0.0416\n"
          ]
        },
        {
          "output_type": "stream",
          "name": "stdout",
          "text": [
            "  step 50/81 loss 0.0394\n"
          ]
        },
        {
          "output_type": "stream",
          "name": "stdout",
          "text": [
            "  step 75/81 loss 0.0395\n"
          ]
        },
        {
          "output_type": "stream",
          "name": "stdout",
          "text": [
            "Fold 3 Epoch 15/18 | tr_loss 0.0389 | val mAUC 0.94973 | per [0.9951 0.818  0.9947 0.9911] | 24.2s\n"
          ]
        },
        {
          "output_type": "stream",
          "name": "stdout",
          "text": [
            "  step 25/81 loss 0.0370\n"
          ]
        },
        {
          "output_type": "stream",
          "name": "stdout",
          "text": [
            "  step 50/81 loss 0.0336\n"
          ]
        },
        {
          "output_type": "stream",
          "name": "stdout",
          "text": [
            "  step 75/81 loss 0.0335\n"
          ]
        },
        {
          "output_type": "stream",
          "name": "stdout",
          "text": [
            "Fold 3 Epoch 16/18 | tr_loss 0.0342 | val mAUC 0.95276 | per [0.9959 0.8281 0.9948 0.9922] | 24.1s\n"
          ]
        },
        {
          "output_type": "stream",
          "name": "stdout",
          "text": [
            "  step 25/81 loss 0.0406\n"
          ]
        },
        {
          "output_type": "stream",
          "name": "stdout",
          "text": [
            "  step 50/81 loss 0.0378\n"
          ]
        },
        {
          "output_type": "stream",
          "name": "stdout",
          "text": [
            "  step 75/81 loss 0.0414\n"
          ]
        },
        {
          "output_type": "stream",
          "name": "stdout",
          "text": [
            "Fold 3 Epoch 17/18 | tr_loss 0.0418 | val mAUC 0.95517 | per [0.9966 0.8361 0.9947 0.9933] | 24.2s\n"
          ]
        },
        {
          "output_type": "stream",
          "name": "stdout",
          "text": [
            "  step 25/81 loss 0.0454\n"
          ]
        },
        {
          "output_type": "stream",
          "name": "stdout",
          "text": [
            "  step 50/81 loss 0.0479\n"
          ]
        },
        {
          "output_type": "stream",
          "name": "stdout",
          "text": [
            "  step 75/81 loss 0.0439\n"
          ]
        },
        {
          "output_type": "stream",
          "name": "stdout",
          "text": [
            "Fold 3 Epoch 18/18 | tr_loss 0.0432 | val mAUC 0.95687 | per [0.997  0.8419 0.9948 0.9938] | 24.0s\n"
          ]
        },
        {
          "output_type": "stream",
          "name": "stdout",
          "text": [
            "Fold 3 best mAUC 0.95687 at epoch 18. Saved model_fold3.pth. Fold time 441.4s\n"
          ]
        },
        {
          "output_type": "stream",
          "name": "stdout",
          "text": [
            "\n=== Fold 5/5 ===\n"
          ]
        },
        {
          "output_type": "stream",
          "name": "stdout",
          "text": [
            "  Oversample: pos_frac=0.0519, boost=10.00\n"
          ]
        },
        {
          "output_type": "stream",
          "name": "stdout",
          "text": [
            "  step 25/81 loss 0.4356\n"
          ]
        },
        {
          "output_type": "stream",
          "name": "stdout",
          "text": [
            "  step 50/81 loss 0.4060\n"
          ]
        },
        {
          "output_type": "stream",
          "name": "stdout",
          "text": [
            "  step 75/81 loss 0.4033\n"
          ]
        },
        {
          "output_type": "stream",
          "name": "stdout",
          "text": [
            "Fold 4 Epoch 1/18 | tr_loss 0.3995 | val mAUC 0.47685 | per [0.5617 0.513  0.4817 0.351 ] | 24.3s\n"
          ]
        },
        {
          "output_type": "stream",
          "name": "stdout",
          "text": [
            "  step 25/81 loss 0.3636\n"
          ]
        },
        {
          "output_type": "stream",
          "name": "stdout",
          "text": [
            "  step 50/81 loss 0.3254\n"
          ]
        },
        {
          "output_type": "stream",
          "name": "stdout",
          "text": [
            "  step 75/81 loss 0.3084\n"
          ]
        },
        {
          "output_type": "stream",
          "name": "stdout",
          "text": [
            "Fold 4 Epoch 2/18 | tr_loss 0.3006 | val mAUC 0.47461 | per [0.5621 0.5061 0.486  0.3442] | 24.5s\n"
          ]
        },
        {
          "output_type": "stream",
          "name": "stdout",
          "text": [
            "  step 25/81 loss 0.2356\n"
          ]
        },
        {
          "output_type": "stream",
          "name": "stdout",
          "text": [
            "  step 50/81 loss 0.2247\n"
          ]
        },
        {
          "output_type": "stream",
          "name": "stdout",
          "text": [
            "  step 75/81 loss 0.2054\n"
          ]
        },
        {
          "output_type": "stream",
          "name": "stdout",
          "text": [
            "Fold 4 Epoch 3/18 | tr_loss 0.2017 | val mAUC 0.49812 | per [0.5959 0.5131 0.5172 0.3662] | 24.3s\n"
          ]
        },
        {
          "output_type": "stream",
          "name": "stdout",
          "text": [
            "  step 25/81 loss 0.1447\n"
          ]
        },
        {
          "output_type": "stream",
          "name": "stdout",
          "text": [
            "  step 50/81 loss 0.1474\n"
          ]
        },
        {
          "output_type": "stream",
          "name": "stdout",
          "text": [
            "  step 75/81 loss 0.1445\n"
          ]
        },
        {
          "output_type": "stream",
          "name": "stdout",
          "text": [
            "Fold 4 Epoch 4/18 | tr_loss 0.1446 | val mAUC 0.54106 | per [0.6477 0.5324 0.5713 0.4129] | 24.4s\n"
          ]
        },
        {
          "output_type": "stream",
          "name": "stdout",
          "text": [
            "  step 25/81 loss 0.1467\n"
          ]
        },
        {
          "output_type": "stream",
          "name": "stdout",
          "text": [
            "  step 50/81 loss 0.1464\n"
          ]
        },
        {
          "output_type": "stream",
          "name": "stdout",
          "text": [
            "  step 75/81 loss 0.1393\n"
          ]
        },
        {
          "output_type": "stream",
          "name": "stdout",
          "text": [
            "Fold 4 Epoch 5/18 | tr_loss 0.1367 | val mAUC 0.59776 | per [0.7026 0.5642 0.6378 0.4864] | 24.7s\n"
          ]
        },
        {
          "output_type": "stream",
          "name": "stdout",
          "text": [
            "  step 25/81 loss 0.1321\n"
          ]
        },
        {
          "output_type": "stream",
          "name": "stdout",
          "text": [
            "  step 50/81 loss 0.1199\n"
          ]
        },
        {
          "output_type": "stream",
          "name": "stdout",
          "text": [
            "  step 75/81 loss 0.1191\n"
          ]
        },
        {
          "output_type": "stream",
          "name": "stdout",
          "text": [
            "Fold 4 Epoch 6/18 | tr_loss 0.1162 | val mAUC 0.66422 | per [0.7546 0.6219 0.7118 0.5686] | 24.3s\n"
          ]
        },
        {
          "output_type": "stream",
          "name": "stdout",
          "text": [
            "  step 25/81 loss 0.1027\n"
          ]
        },
        {
          "output_type": "stream",
          "name": "stdout",
          "text": [
            "  step 50/81 loss 0.1017\n"
          ]
        },
        {
          "output_type": "stream",
          "name": "stdout",
          "text": [
            "  step 75/81 loss 0.0991\n"
          ]
        },
        {
          "output_type": "stream",
          "name": "stdout",
          "text": [
            "Fold 4 Epoch 7/18 | tr_loss 0.0991 | val mAUC 0.73320 | per [0.8082 0.69   0.7823 0.6523] | 24.3s\n"
          ]
        },
        {
          "output_type": "stream",
          "name": "stdout",
          "text": [
            "  step 25/81 loss 0.1029\n"
          ]
        },
        {
          "output_type": "stream",
          "name": "stdout",
          "text": [
            "  step 50/81 loss 0.0949\n"
          ]
        },
        {
          "output_type": "stream",
          "name": "stdout",
          "text": [
            "  step 75/81 loss 0.0921\n"
          ]
        },
        {
          "output_type": "stream",
          "name": "stdout",
          "text": [
            "Fold 4 Epoch 8/18 | tr_loss 0.0911 | val mAUC 0.80194 | per [0.8599 0.7462 0.854  0.7477] | 24.3s\n"
          ]
        },
        {
          "output_type": "stream",
          "name": "stdout",
          "text": [
            "  step 25/81 loss 0.0944\n"
          ]
        },
        {
          "output_type": "stream",
          "name": "stdout",
          "text": [
            "  step 50/81 loss 0.0935\n"
          ]
        },
        {
          "output_type": "stream",
          "name": "stdout",
          "text": [
            "  step 75/81 loss 0.0898\n"
          ]
        },
        {
          "output_type": "stream",
          "name": "stdout",
          "text": [
            "Fold 4 Epoch 9/18 | tr_loss 0.0878 | val mAUC 0.85859 | per [0.9025 0.7783 0.9195 0.8341] | 24.3s\n"
          ]
        },
        {
          "output_type": "stream",
          "name": "stdout",
          "text": [
            "  step 25/81 loss 0.0678\n"
          ]
        },
        {
          "output_type": "stream",
          "name": "stdout",
          "text": [
            "  step 50/81 loss 0.0779\n"
          ]
        },
        {
          "output_type": "stream",
          "name": "stdout",
          "text": [
            "  step 75/81 loss 0.0735\n"
          ]
        },
        {
          "output_type": "stream",
          "name": "stdout",
          "text": [
            "Fold 4 Epoch 10/18 | tr_loss 0.0737 | val mAUC 0.89617 | per [0.937  0.7967 0.9621 0.8889] | 24.7s\n"
          ]
        },
        {
          "output_type": "stream",
          "name": "stdout",
          "text": [
            "  step 25/81 loss 0.0665\n"
          ]
        },
        {
          "output_type": "stream",
          "name": "stdout",
          "text": [
            "  step 50/81 loss 0.0641\n"
          ]
        },
        {
          "output_type": "stream",
          "name": "stdout",
          "text": [
            "  step 75/81 loss 0.0659\n"
          ]
        },
        {
          "output_type": "stream",
          "name": "stdout",
          "text": [
            "Fold 4 Epoch 11/18 | tr_loss 0.0662 | val mAUC 0.92343 | per [0.9608 0.8218 0.9826 0.9285] | 24.3s\n"
          ]
        },
        {
          "output_type": "stream",
          "name": "stdout",
          "text": [
            "  step 25/81 loss 0.0575\n"
          ]
        },
        {
          "output_type": "stream",
          "name": "stdout",
          "text": [
            "  step 50/81 loss 0.0555\n"
          ]
        },
        {
          "output_type": "stream",
          "name": "stdout",
          "text": [
            "  step 75/81 loss 0.0540\n"
          ]
        },
        {
          "output_type": "stream",
          "name": "stdout",
          "text": [
            "Fold 4 Epoch 12/18 | tr_loss 0.0539 | val mAUC 0.93963 | per [0.9744 0.8409 0.9904 0.9528] | 24.2s\n"
          ]
        },
        {
          "output_type": "stream",
          "name": "stdout",
          "text": [
            "  step 25/81 loss 0.0521\n"
          ]
        },
        {
          "output_type": "stream",
          "name": "stdout",
          "text": [
            "  step 50/81 loss 0.0422\n"
          ]
        },
        {
          "output_type": "stream",
          "name": "stdout",
          "text": [
            "  step 75/81 loss 0.0441\n"
          ]
        },
        {
          "output_type": "stream",
          "name": "stdout",
          "text": [
            "Fold 4 Epoch 13/18 | tr_loss 0.0463 | val mAUC 0.95144 | per [0.9829 0.8627 0.9933 0.9669] | 24.3s\n"
          ]
        },
        {
          "output_type": "stream",
          "name": "stdout",
          "text": [
            "  step 25/81 loss 0.0592\n"
          ]
        },
        {
          "output_type": "stream",
          "name": "stdout",
          "text": [
            "  step 50/81 loss 0.0580\n"
          ]
        },
        {
          "output_type": "stream",
          "name": "stdout",
          "text": [
            "  step 75/81 loss 0.0534\n"
          ]
        },
        {
          "output_type": "stream",
          "name": "stdout",
          "text": [
            "Fold 4 Epoch 14/18 | tr_loss 0.0537 | val mAUC 0.95888 | per [0.988  0.8774 0.9939 0.9762] | 24.7s\n"
          ]
        },
        {
          "output_type": "stream",
          "name": "stdout",
          "text": [
            "  step 25/81 loss 0.0576\n"
          ]
        },
        {
          "output_type": "stream",
          "name": "stdout",
          "text": [
            "  step 50/81 loss 0.0544\n"
          ]
        },
        {
          "output_type": "stream",
          "name": "stdout",
          "text": [
            "  step 75/81 loss 0.0554\n"
          ]
        },
        {
          "output_type": "stream",
          "name": "stdout",
          "text": [
            "Fold 4 Epoch 15/18 | tr_loss 0.0560 | val mAUC 0.96473 | per [0.9915 0.8909 0.9947 0.9819] | 24.3s\n"
          ]
        },
        {
          "output_type": "stream",
          "name": "stdout",
          "text": [
            "  step 25/81 loss 0.0444\n"
          ]
        },
        {
          "output_type": "stream",
          "name": "stdout",
          "text": [
            "  step 50/81 loss 0.0488\n"
          ]
        },
        {
          "output_type": "stream",
          "name": "stdout",
          "text": [
            "  step 75/81 loss 0.0505\n"
          ]
        },
        {
          "output_type": "stream",
          "name": "stdout",
          "text": [
            "Fold 4 Epoch 16/18 | tr_loss 0.0496 | val mAUC 0.96790 | per [0.9935 0.8973 0.9953 0.9855] | 24.3s\n"
          ]
        },
        {
          "output_type": "stream",
          "name": "stdout",
          "text": [
            "  step 25/81 loss 0.0370\n"
          ]
        },
        {
          "output_type": "stream",
          "name": "stdout",
          "text": [
            "  step 50/81 loss 0.0376\n"
          ]
        },
        {
          "output_type": "stream",
          "name": "stdout",
          "text": [
            "  step 75/81 loss 0.0404\n"
          ]
        },
        {
          "output_type": "stream",
          "name": "stdout",
          "text": [
            "Fold 4 Epoch 17/18 | tr_loss 0.0417 | val mAUC 0.96986 | per [0.9946 0.902  0.9956 0.9872] | 24.3s\n"
          ]
        },
        {
          "output_type": "stream",
          "name": "stdout",
          "text": [
            "  step 25/81 loss 0.0383\n"
          ]
        },
        {
          "output_type": "stream",
          "name": "stdout",
          "text": [
            "  step 50/81 loss 0.0384\n"
          ]
        },
        {
          "output_type": "stream",
          "name": "stdout",
          "text": [
            "  step 75/81 loss 0.0384\n"
          ]
        },
        {
          "output_type": "stream",
          "name": "stdout",
          "text": [
            "Fold 4 Epoch 18/18 | tr_loss 0.0387 | val mAUC 0.97173 | per [0.9955 0.9073 0.9957 0.9884] | 24.4s\n"
          ]
        },
        {
          "output_type": "stream",
          "name": "stdout",
          "text": [
            "Fold 4 best mAUC 0.97173 at epoch 18. Saved model_fold4.pth. Fold time 445.6s\n"
          ]
        },
        {
          "output_type": "stream",
          "name": "stdout",
          "text": [
            "OOF mAUC: 0.97510; per-class: [0.99578 0.91753 0.99608 0.991  ]\n"
          ]
        },
        {
          "output_type": "stream",
          "name": "stdout",
          "text": [
            "CV finished in 2262.1s\nFound checkpoints: ['model_fold0.pth', 'model_fold1.pth', 'model_fold2.pth', 'model_fold3.pth', 'model_fold4.pth']\nPredicting test with 4-way TTA (orig, hflip, vflip, hvflip) and fold-ensemble...\n"
          ]
        },
        {
          "output_type": "stream",
          "name": "stdout",
          "text": [
            "Saved submission.csv with shape: (183, 5)\n"
          ]
        },
        {
          "output_type": "execute_result",
          "data": {
            "text/plain": "  image_id   healthy  multiple_diseases      rust      scab\n0   Test_0  0.010960           0.212108  0.012376  0.986899\n1   Test_1  0.220426           0.269574  0.010789  0.879246\n2   Test_2  0.081844           0.155790  0.950597  0.067517\n3   Test_3  0.043459           0.071360  0.994454  0.023010\n4   Test_4  0.008794           0.041318  0.999413  0.010087",
            "text/html": "<div>\n<style scoped>\n    .dataframe tbody tr th:only-of-type {\n        vertical-align: middle;\n    }\n\n    .dataframe tbody tr th {\n        vertical-align: top;\n    }\n\n    .dataframe thead th {\n        text-align: right;\n    }\n</style>\n<table border=\"1\" class=\"dataframe\">\n  <thead>\n    <tr style=\"text-align: right;\">\n      <th></th>\n      <th>image_id</th>\n      <th>healthy</th>\n      <th>multiple_diseases</th>\n      <th>rust</th>\n      <th>scab</th>\n    </tr>\n  </thead>\n  <tbody>\n    <tr>\n      <th>0</th>\n      <td>Test_0</td>\n      <td>0.010960</td>\n      <td>0.212108</td>\n      <td>0.012376</td>\n      <td>0.986899</td>\n    </tr>\n    <tr>\n      <th>1</th>\n      <td>Test_1</td>\n      <td>0.220426</td>\n      <td>0.269574</td>\n      <td>0.010789</td>\n      <td>0.879246</td>\n    </tr>\n    <tr>\n      <th>2</th>\n      <td>Test_2</td>\n      <td>0.081844</td>\n      <td>0.155790</td>\n      <td>0.950597</td>\n      <td>0.067517</td>\n    </tr>\n    <tr>\n      <th>3</th>\n      <td>Test_3</td>\n      <td>0.043459</td>\n      <td>0.071360</td>\n      <td>0.994454</td>\n      <td>0.023010</td>\n    </tr>\n    <tr>\n      <th>4</th>\n      <td>Test_4</td>\n      <td>0.008794</td>\n      <td>0.041318</td>\n      <td>0.999413</td>\n      <td>0.010087</td>\n    </tr>\n  </tbody>\n</table>\n</div>"
          },
          "metadata": {}
        }
      ]
    }
  ],
  "metadata": {
    "kernelspec": {
      "display_name": "Python 3",
      "language": "python",
      "name": "python3"
    },
    "language_info": {
      "name": "python",
      "version": "3.11.0rc1"
    }
  },
  "nbformat": 4,
  "nbformat_minor": 5
}