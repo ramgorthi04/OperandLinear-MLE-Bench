{
  "cells": [
    {
      "id": "5afe0c7e-11a4-467e-a055-b629f49c5bfc",
      "cell_type": "markdown",
      "metadata": {},
      "source": [
        "# Plant Pathology 2020 - FGVC7 | Medal-Oriented Plan\n",
        "\n",
        "## Objectives\n",
        "- Win a medal (>= bronze) on mean-column-wise-roc-auc.\n",
        "- Build a robust image CV pipeline with strong CV and reproducibility.\n",
        "\n",
        "## High-Level Plan\n",
        "1) Data understanding\n",
        "   - Inspect train.csv/test.csv columns and target(s). Confirm whether single target (scab) or multilabel (healthy, multiple_diseases, rust, scab).\n",
        "   - Check image availability and ID mapping.\n",
        "2) Cross-validation design\n",
        "   - If multilabel: use MultilabelStratifiedKFold (iterstrat) by label combos.\n",
        "   - If single target: StratifiedKFold by binary target.\n",
        "   - 5 folds, seed stability; log fold sizes and label balance.\n",
        "3) Baselines\n",
        "   - Transfer learning with timm models (efficientnet_b3/b4 or tf_efficientnet_b3_ns) with ImageNet weights.\n",
        "   - Loss: BCEWithLogitsLoss (multilabel) or BCE for single-label; label smoothing if beneficial.\n",
        "   - Augmentations: albumentations (geometric, color, CutMix/MixUp optional).\n",
        "   - Optimizer: AdamW, cosine schedule with warmup.\n",
        "   - Image size: start 384 or 448; batch size by GPU RAM (T4 16GB).\n",
        "4) Improvements\n",
        "   - TTA at inference (horizontal/vertical flips).\n",
        "   - MixUp/CutMix and/or focal loss if class imbalance notable.\n",
        "   - Model ensembling (2-3 backbones) if time allows.\n",
        "5) Evaluation & Logging\n",
        "   - Compute CV mean AUC and per-class AUC if multilabel; ensure CV correlates with LB.\n",
        "   - Save out-of-fold (OOF) predictions and logs.\n",
        "6) Submission\n",
        "   - Create submission.csv matching sample format.\n",
        "\n",
        "## Experiment Log\n",
        "| Exp ID | Model | ImgSize | Aug | Folds | Loss | CV AUC | Notes |\n",
        "|-------:|-------|--------:|-----|------:|------|--------|-------|\n",
        "\n",
        "## Next Steps (this notebook)\n",
        "- Load CSVs, inspect schema, confirm targets.\n",
        "- Quick EDA on target distribution.\n",
        "- Verify images exist and paths resolve.\n",
        "- Decide CV strategy and prep dataset class.\n",
        "\n",
        "We will request expert review after this planning cell to validate approach."
      ],
      "execution_count": null,
      "outputs": []
    },
    {
      "id": "e979f9c6-26e8-4d70-95f4-7b17cd76e501",
      "cell_type": "code",
      "metadata": {},
      "source": [
        "# Verify task definition and submission format; inspect data quickly\n",
        "import os, sys, time, json, random, math, gc, glob\n",
        "import pandas as pd\n",
        "from collections import Counter\n",
        "\n",
        "print('CWD:', os.getcwd())\n",
        "for fname in ['train.csv','test.csv','sample_submission.csv']:\n",
        "    print(f\"Exists {fname}:\", os.path.exists(fname), 'size:', os.path.getsize(fname) if os.path.exists(fname) else -1)\n",
        "\n",
        "train = pd.read_csv('train.csv')\n",
        "test = pd.read_csv('test.csv')\n",
        "ss = pd.read_csv('sample_submission.csv')\n",
        "\n",
        "print('\\ntrain.shape:', train.shape)\n",
        "print('train.columns:', list(train.columns))\n",
        "print(train.head(3))\n",
        "\n",
        "print('\\ntest.shape:', test.shape)\n",
        "print('test.columns:', list(test.columns))\n",
        "print(test.head(3))\n",
        "\n",
        "print('\\nsample_submission.shape:', ss.shape)\n",
        "print('sample_submission.columns:', list(ss.columns))\n",
        "print(ss.head(3))\n",
        "\n",
        "# Determine target setup\n",
        "possible_targets = [c for c in train.columns if c in ['healthy','multiple_diseases','rust','scab']]\n",
        "binary_target = 'scab' if 'scab' in train.columns and len(possible_targets) == 1 else None\n",
        "multi_targets = possible_targets if len(possible_targets) == 4 else []\n",
        "print('\\nTarget inference:')\n",
        "print('possible_targets:', possible_targets)\n",
        "print('binary_target:', binary_target)\n",
        "print('multi_targets:', multi_targets)\n",
        "\n",
        "# Check image paths existence\n",
        "img_dir = 'images'\n",
        "img_col = 'image_id' if 'image_id' in train.columns else ('image' if 'image' in train.columns else None)\n",
        "print('image id column:', img_col)\n",
        "def img_path(img_id):\n",
        "    # common naming in this dataset is <image_id>.jpg\n",
        "    # This dataset variant appears to be Test_{i}.jpg; try both patterns.\n",
        "    cand1 = os.path.join(img_dir, f\"{img_id}.jpg\") if isinstance(img_id, str) else None\n",
        "    if cand1 and os.path.exists(cand1):\n",
        "        return cand1\n",
        "    # Try directly if the csv may already have full filenames\n",
        "    if isinstance(img_id, str):\n",
        "        cand2 = os.path.join(img_dir, img_id)\n",
        "        if os.path.exists(cand2):\n",
        "            return cand2\n",
        "    return None\n",
        "\n",
        "sample_check = []\n",
        "if img_col is not None:\n",
        "    for x in train[img_col].head(10):\n",
        "        sample_check.append((x, img_path(x)))\n",
        "print('Sample image path map (first 10):')\n",
        "for a,b in sample_check:\n",
        "    print(a, '->', b)\n",
        "\n",
        "# Basic target distribution\n",
        "if multi_targets:\n",
        "    print('\\nTarget sums (multilabel):')\n",
        "    print(train[multi_targets].sum())\n",
        "elif binary_target:\n",
        "    print('\\nTarget sums (binary):')\n",
        "    print(train[binary_target].value_counts())\n",
        "else:\n",
        "    print('\\nCould not infer targets cleanly; will inspect columns manually.')"
      ],
      "execution_count": null,
      "outputs": []
    },
    {
      "id": "468e8a3c-3192-4a25-93f6-dfda0e9cd414",
      "cell_type": "code",
      "metadata": {},
      "source": [
        "# Setup: install/check packages, set seeds, and create CV folds (MultilabelStratifiedKFold)\n",
        "import sys, subprocess, importlib, os, numpy as np, pandas as pd\n",
        "\n",
        "def ensure(pkg, pip_name=None):\n",
        "    pip_name = pip_name or pkg\n",
        "    try:\n",
        "        importlib.import_module(pkg)\n",
        "        print(f'OK: {pkg} installed')\n",
        "    except ImportError:\n",
        "        print(f'Installing {pip_name}...')\n",
        "        subprocess.check_call([sys.executable, '-m', 'pip', 'install', '-q', pip_name])\n",
        "        importlib.invalidate_caches()\n",
        "\n",
        "# Ensure required packages\n",
        "ensure('timm')\n",
        "ensure('albumentations')\n",
        "# Correct pip package name for iterstrat is 'iterative-stratification'\n",
        "ensure('iterstrat', 'iterative-stratification')\n",
        "ensure('torch')\n",
        "\n",
        "import random, torch\n",
        "from iterstrat.ml_stratifiers import MultilabelStratifiedKFold\n",
        "\n",
        "# Re-load dataframes from previous cell context or disk\n",
        "if 'train' not in globals():\n",
        "    train = pd.read_csv('train.csv')\n",
        "if 'test' not in globals():\n",
        "    test = pd.read_csv('test.csv')\n",
        "\n",
        "TARGETS = ['healthy','multiple_diseases','rust','scab']\n",
        "IMG_DIR = 'images'\n",
        "ID_COL = 'image_id'\n",
        "\n",
        "def seed_everything(seed: int = 42):\n",
        "    random.seed(seed)\n",
        "    np.random.seed(seed)\n",
        "    torch.manual_seed(seed)\n",
        "    torch.cuda.manual_seed_all(seed)\n",
        "    torch.backends.cudnn.deterministic = False\n",
        "    torch.backends.cudnn.benchmark = True\n",
        "    os.environ['PYTHONHASHSEED'] = str(seed)\n",
        "\n",
        "SEED = 42\n",
        "NFOLDS = 5\n",
        "seed_everything(SEED)\n",
        "\n",
        "# Create folds with MultilabelStratifiedKFold\n",
        "mskf = MultilabelStratifiedKFold(n_splits=NFOLDS, shuffle=True, random_state=SEED)\n",
        "train = train.copy()\n",
        "train['fold'] = -1\n",
        "y = train[TARGETS].values\n",
        "for i, (_, val_idx) in enumerate(mskf.split(train, y)):\n",
        "    train.loc[val_idx, 'fold'] = i\n",
        "\n",
        "print('Fold distribution:')\n",
        "print(train['fold'].value_counts().sort_index())\n",
        "print('\\nPer-fold target sums:')\n",
        "for f in range(NFOLDS):\n",
        "    s = train.loc[train.fold==f, TARGETS].sum()\n",
        "    print(f'Fold {f}:', dict(s))\n",
        "\n",
        "# Save a quick cache of folds for reuse\n",
        "train.to_csv('train_folds.csv', index=False)\n",
        "print('Saved train_folds.csv with fold assignments')"
      ],
      "execution_count": 1,
      "outputs": [
        {
          "output_type": "stream",
          "name": "stderr",
          "text": [
            "/app/.pip-target/tqdm/auto.py:21: TqdmWarning: IProgress not found. Please update jupyter and ipywidgets. See https://ipywidgets.readthedocs.io/en/stable/user_install.html\n  from .autonotebook import tqdm as notebook_tqdm\n"
          ]
        },
        {
          "output_type": "stream",
          "name": "stdout",
          "text": [
            "OK: timm installed\n"
          ]
        },
        {
          "output_type": "stream",
          "name": "stdout",
          "text": [
            "OK: albumentations installed\nOK: iterstrat installed\nOK: torch installed\n"
          ]
        },
        {
          "output_type": "stream",
          "name": "stdout",
          "text": [
            "Fold distribution:\nfold\n0    327\n1    328\n2    328\n3    327\n4    328\nName: count, dtype: int64\n\nPer-fold target sums:\nFold 0: {'healthy': 94, 'multiple_diseases': 17, 'rust': 110, 'scab': 106}\nFold 1: {'healthy': 93, 'multiple_diseases': 17, 'rust': 111, 'scab': 107}\nFold 2: {'healthy': 94, 'multiple_diseases': 17, 'rust': 110, 'scab': 107}\nFold 3: {'healthy': 93, 'multiple_diseases': 17, 'rust': 110, 'scab': 107}\nFold 4: {'healthy': 94, 'multiple_diseases': 17, 'rust': 110, 'scab': 107}\nSaved train_folds.csv with fold assignments\n"
          ]
        }
      ]
    },
    {
      "id": "4bd76ae4-fb1f-49bb-81ea-0f1d04a03166",
      "cell_type": "code",
      "metadata": {},
      "source": [
        "# Dataset, transforms, model, metric, and training utilities (skeleton)\n",
        "import os, cv2, math, time, copy, numpy as np, pandas as pd\n",
        "from typing import List, Tuple, Optional, Dict\n",
        "import torch\n",
        "import torch.nn as nn\n",
        "import torch.nn.functional as F\n",
        "from torch.utils.data import Dataset, DataLoader\n",
        "from sklearn.metrics import roc_auc_score\n",
        "import albumentations as A\n",
        "from albumentations.pytorch import ToTensorV2\n",
        "import timm\n",
        "\n",
        "DEVICE = 'cuda' if torch.cuda.is_available() else 'cpu'\n",
        "TARGETS = ['healthy','multiple_diseases','rust','scab']\n",
        "N_CLASSES = len(TARGETS)\n",
        "IMG_DIR = 'images'\n",
        "\n",
        "# --- Metric ---\n",
        "def mean_column_wise_roc_auc(y_true: np.ndarray, y_pred: np.ndarray) -> float:\n",
        "    scores = []\n",
        "    for i in range(y_true.shape[1]):\n",
        "        yt = y_true[:, i]\n",
        "        yp = y_pred[:, i]\n",
        "        if len(np.unique(yt)) < 2:\n",
        "            continue\n",
        "        try:\n",
        "            scores.append(roc_auc_score(yt, yp))\n",
        "        except Exception:\n",
        "            pass\n",
        "    return float(np.mean(scores)) if scores else float('nan')\n",
        "\n",
        "# --- Label smoothing for multilabel ---\n",
        "def smooth_labels(y: torch.Tensor, smoothing: float = 0.02) -> torch.Tensor:\n",
        "    if smoothing <= 0: return y\n",
        "    return y * (1 - smoothing) + smoothing * (1 - y)\n",
        "\n",
        "# --- Transforms ---\n",
        "def get_transforms(image_size: int = 448, is_train: bool = True):\n",
        "    if is_train:\n",
        "        return A.Compose([\n",
        "            A.RandomResizedCrop(size=(image_size, image_size), scale=(0.85, 1.0), ratio=(0.9, 1.1), p=1.0),\n",
        "            A.HorizontalFlip(p=0.5),\n",
        "            A.VerticalFlip(p=0.5),\n",
        "            A.ShiftScaleRotate(shift_limit=0.05, scale_limit=0.10, rotate_limit=15, border_mode=cv2.BORDER_REFLECT_101, p=0.5),\n",
        "            A.RandomBrightnessContrast(brightness_limit=0.15, contrast_limit=0.15, p=0.2),\n",
        "            A.HueSaturationValue(hue_shift_limit=8, sat_shift_limit=12, val_shift_limit=8, p=0.2),\n",
        "            A.Normalize(mean=(0.485,0.456,0.406), std=(0.229,0.224,0.225)),\n",
        "            ToTensorV2(),\n",
        "        ])\n",
        "    else:\n",
        "        return A.Compose([\n",
        "            A.Resize(height=image_size, width=image_size),\n",
        "            A.Normalize(mean=(0.485,0.456,0.406), std=(0.229,0.224,0.225)),\n",
        "            ToTensorV2(),\n",
        "        ])\n",
        "\n",
        "# --- Dataset ---\n",
        "class PlantDataset(Dataset):\n",
        "    def __init__(self, df: pd.DataFrame, image_dir: str, targets: Optional[List[str]] = None, transform=None):\n",
        "        self.df = df.reset_index(drop=True)\n",
        "        self.image_dir = image_dir\n",
        "        self.targets = targets\n",
        "        self.transform = transform\n",
        "\n",
        "    def __len__(self):\n",
        "        return len(self.df)\n",
        "\n",
        "    def __getitem__(self, idx):\n",
        "        row = self.df.iloc[idx]\n",
        "        img_id = row['image_id']\n",
        "        path = os.path.join(self.image_dir, f\"{img_id}.jpg\")\n",
        "        img = cv2.imread(path)\n",
        "        if img is None:\n",
        "            raise FileNotFoundError(f'Missing image: {path}')\n",
        "        img = cv2.cvtColor(img, cv2.COLOR_BGR2RGB)\n",
        "        if self.transform:\n",
        "            img = self.transform(image=img)['image']\n",
        "        if self.targets is None:\n",
        "            return img, img_id\n",
        "        y = row[self.targets].values.astype('float32')\n",
        "        y = torch.from_numpy(y)\n",
        "        return img, y\n",
        "\n",
        "# --- Model ---\n",
        "def build_model(model_name: str = 'tf_efficientnet_b4_ns', pretrained: bool = True, num_classes: int = N_CLASSES) -> nn.Module:\n",
        "    model = timm.create_model(model_name, pretrained=pretrained, num_classes=num_classes)\n",
        "    return model\n",
        "\n",
        "# --- EMA ---\n",
        "class ModelEMA:\n",
        "    def __init__(self, model: nn.Module, decay: float = 0.999):\n",
        "        self.ema = copy.deepcopy(model).eval()\n",
        "        for p in self.ema.parameters():\n",
        "            p.requires_grad_(False)\n",
        "        self.decay = decay\n",
        "    @torch.no_grad()\n",
        "    def update(self, model: nn.Module):\n",
        "        d = self.decay\n",
        "        msd = model.state_dict()\n",
        "        for k, v in self.ema.state_dict().items():\n",
        "            if k in msd:\n",
        "                v.copy_(v * d + msd[k] * (1.0 - d))\n",
        "\n",
        "# --- Training utilities ---\n",
        "def get_optimizer_scheduler(model, lr=3e-4, wd=0.01, steps_per_epoch=100, epochs=15, warmup_epochs=1):\n",
        "    optimizer = torch.optim.AdamW(model.parameters(), lr=lr, weight_decay=wd)\n",
        "    total_steps = steps_per_epoch * epochs\n",
        "    warmup_steps = max(1, int(warmup_epochs * steps_per_epoch))\n",
        "    def lr_lambda(step):\n",
        "        if step < warmup_steps:\n",
        "            return float(step) / float(max(1, warmup_steps))\n",
        "        progress = (step - warmup_steps) / float(max(1, total_steps - warmup_steps))\n",
        "        return 0.5 * (1.0 + math.cos(math.pi * progress))\n",
        "    scheduler = torch.optim.lr_scheduler.LambdaLR(optimizer, lr_lambda)\n",
        "    return optimizer, scheduler\n",
        "\n",
        "@torch.no_grad()\n",
        "def evaluate(model: nn.Module, loader: DataLoader, device=DEVICE) -> Tuple[float, Dict[str,float]]:\n",
        "    model.eval()\n",
        "    preds, targets = [], []\n",
        "    for imgs, y in loader:\n",
        "        imgs = imgs.to(device, non_blocking=True)\n",
        "        y = y.cpu().numpy()\n",
        "        logits = model(imgs).detach().cpu().numpy()\n",
        "        probs = 1/(1+np.exp(-logits))\n",
        "        preds.append(probs); targets.append(y)\n",
        "    preds = np.concatenate(preds, axis=0); targets = np.concatenate(targets, axis=0)\n",
        "    per_class = {}\n",
        "    for i, c in enumerate(TARGETS):\n",
        "        try:\n",
        "            per_class[c] = roc_auc_score(targets[:, i], preds[:, i])\n",
        "        except Exception:\n",
        "            per_class[c] = float('nan')\n",
        "    mean_auc = float(np.nanmean(list(per_class.values())))\n",
        "    return mean_auc, per_class\n",
        "\n",
        "def train_one_epoch(model, loader, optimizer, scaler, loss_fn, epoch, ema: Optional[ModelEMA]=None, clip: float = 1.0, smoothing: float = 0.02, device=DEVICE):\n",
        "    model.train()\n",
        "    running_loss = 0.0\n",
        "    start = time.time()\n",
        "    for step, (imgs, y) in enumerate(loader):\n",
        "        imgs = imgs.to(device, non_blocking=True)\n",
        "        y = y.to(device)\n",
        "        y_s = smooth_labels(y, smoothing)\n",
        "        optimizer.zero_grad(set_to_none=True)\n",
        "        with torch.cuda.amp.autocast(enabled=(device=='cuda')):\n",
        "            logits = model(imgs)\n",
        "            loss = loss_fn(logits, y_s)\n",
        "        scaler.scale(loss).backward()\n",
        "        if clip is not None:\n",
        "            scaler.unscale_(optimizer)\n",
        "            torch.nn.utils.clip_grad_norm_(model.parameters(), max_norm=clip)\n",
        "        scaler.step(optimizer)\n",
        "        scaler.update()\n",
        "        if ema is not None:\n",
        "            ema.update(model)\n",
        "        running_loss += loss.item()\n",
        "        if (step+1) % 50 == 0:\n",
        "            elapsed = time.time() - start\n",
        "            print(f'Epoch {epoch} | step {step+1}/{len(loader)} | loss {running_loss/(step+1):.4f} | {elapsed:.1f}s', flush=True)\n",
        "    return running_loss / max(1, len(loader))\n",
        "\n",
        "def create_loaders(train_df: pd.DataFrame, fold: int, image_size: int = 448, batch_size: int = 16, num_workers: int = 4):\n",
        "    trn = train_df[train_df.fold != fold].reset_index(drop=True)\n",
        "    val = train_df[train_df.fold == fold].reset_index(drop=True)\n",
        "    ttf = get_transforms(image_size, is_train=True)\n",
        "    vtf = get_transforms(image_size, is_train=False)\n",
        "    trn_ds = PlantDataset(trn, IMG_DIR, targets=TARGETS, transform=ttf)\n",
        "    val_ds = PlantDataset(val, IMG_DIR, targets=TARGETS, transform=vtf)\n",
        "    trn_loader = DataLoader(trn_ds, batch_size=batch_size, shuffle=True, num_workers=num_workers, pin_memory=True, drop_last=True)\n",
        "    val_loader = DataLoader(val_ds, batch_size=batch_size*2, shuffle=False, num_workers=num_workers, pin_memory=True)\n",
        "    return trn_loader, val_loader\n",
        "\n",
        "print('Utilities defined. Next: add training loop across folds, checkpointing, TTA inference, and submission generation.')"
      ],
      "execution_count": 2,
      "outputs": [
        {
          "output_type": "stream",
          "name": "stdout",
          "text": [
            "Utilities defined. Next: add training loop across folds, checkpointing, TTA inference, and submission generation.\n"
          ]
        }
      ]
    },
    {
      "id": "335282e6-0a5b-4971-b08f-cd1e85122b5c",
      "cell_type": "code",
      "metadata": {},
      "source": [
        "# Fold training, OOF evaluation, TTA inference, and submission generation\n",
        "import os, time, json, math, numpy as np, pandas as pd, torch\n",
        "import torch.nn as nn\n",
        "from torch.utils.data import DataLoader\n",
        "\n",
        "train_df = pd.read_csv('train_folds.csv')\n",
        "test_df = pd.read_csv('test.csv')\n",
        "\n",
        "# Hyperparameters\n",
        "model_name = 'tf_efficientnet_b4_ns'\n",
        "image_size = 448\n",
        "batch_size = 16\n",
        "epochs = 15\n",
        "warmup_epochs = 1\n",
        "lr = 3e-4\n",
        "weight_decay = 0.01\n",
        "label_smoothing = 0.02\n",
        "ema_decay = 0.999\n",
        "num_workers = 4\n",
        "NFOLDS = train_df['fold'].nunique()\n",
        "\n",
        "os.makedirs('checkpoints', exist_ok=True)\n",
        "\n",
        "oof_preds = np.zeros((len(train_df), N_CLASSES), dtype=np.float32)\n",
        "oof_targets = train_df[TARGETS].values.astype(np.float32)\n",
        "fold_best_auc = []\n",
        "\n",
        "for fold in range(NFOLDS):\n",
        "    print(f'\\n===== Fold {fold}/{NFOLDS-1} - start =====', flush=True)\n",
        "    trn_loader, val_loader = create_loaders(train_df, fold, image_size=image_size, batch_size=batch_size, num_workers=num_workers)\n",
        "    steps_per_epoch = len(trn_loader)\n",
        "    model = build_model(model_name=model_name, pretrained=True, num_classes=N_CLASSES).to(DEVICE)\n",
        "    optimizer, scheduler = get_optimizer_scheduler(model, lr=lr, wd=weight_decay, steps_per_epoch=steps_per_epoch, epochs=epochs, warmup_epochs=warmup_epochs)\n",
        "    loss_fn = nn.BCEWithLogitsLoss().to(DEVICE)\n",
        "    scaler = torch.cuda.amp.GradScaler(enabled=(DEVICE=='cuda'))\n",
        "    ema = ModelEMA(model, decay=ema_decay)\n",
        "\n",
        "    best_auc = -1.0\n",
        "    best_path = f'checkpoints/{model_name}_fold{fold}.pt'\n",
        "    t0 = time.time()\n",
        "    for ep in range(1, epochs+1):\n",
        "        model.train()\n",
        "        running_loss = 0.0\n",
        "        ep_start = time.time()\n",
        "        for step, (imgs, y) in enumerate(trn_loader):\n",
        "            imgs = imgs.to(DEVICE, non_blocking=True)\n",
        "            y = y.to(DEVICE)\n",
        "            y_s = smooth_labels(y, label_smoothing)\n",
        "            optimizer.zero_grad(set_to_none=True)\n",
        "            with torch.cuda.amp.autocast(enabled=(DEVICE=='cuda')):\n",
        "                logits = model(imgs)\n",
        "                loss = loss_fn(logits, y_s)\n",
        "            scaler.scale(loss).backward()\n",
        "            scaler.unscale_(optimizer)\n",
        "            torch.nn.utils.clip_grad_norm_(model.parameters(), max_norm=1.0)\n",
        "            scaler.step(optimizer)\n",
        "            scaler.update()\n",
        "            scheduler.step()\n",
        "            ema.update(model)\n",
        "            running_loss += loss.item()\n",
        "            if (step+1) % 50 == 0 or (step+1)==steps_per_epoch:\n",
        "                print(f'[Fold {fold}] Epoch {ep}/{epochs} Step {step+1}/{steps_per_epoch} Loss {running_loss/(step+1):.4f}', flush=True)\n",
        "        # Validate with EMA weights\n",
        "        mean_auc, per_class = evaluate(ema.ema, val_loader, device=DEVICE)\n",
        "        print(f'[Fold {fold}] Epoch {ep} val mean AUC: {mean_auc:.5f} | per-class: ' + ', '.join([f\"{k}:{v:.4f}\" for k,v in per_class.items()]))\n",
        "        if mean_auc > best_auc:\n",
        "            best_auc = mean_auc\n",
        "            torch.save({'state_dict': ema.ema.state_dict(), 'auc': best_auc, 'epoch': ep}, best_path)\n",
        "            print(f'[Fold {fold}] New best AUC {best_auc:.5f} saved -> {best_path}', flush=True)\n",
        "        print(f'[Fold {fold}] Epoch {ep} time: {time.time()-ep_start:.1f}s', flush=True)\n",
        "    print(f'[Fold {fold}] Training done in {(time.time()-t0)/60:.1f} min, best AUC {best_auc:.5f}', flush=True)\n",
        "    fold_best_auc.append(best_auc)\n",
        "\n",
        "    # Load best and collect OOF on validation set\n",
        "    ckpt = torch.load(best_path, map_location='cpu')\n",
        "    ema.ema.load_state_dict(ckpt['state_dict'])\n",
        "    ema.ema.to(DEVICE).eval()\n",
        "    # Predict on val for OOF\n",
        "    all_probs, all_idx = [], []\n",
        "    with torch.no_grad():\n",
        "        for imgs, y in val_loader:\n",
        "            imgs = imgs.to(DEVICE, non_blocking=True)\n",
        "            logits = ema.ema(imgs)\n",
        "            probs = torch.sigmoid(logits).detach().cpu().numpy()\n",
        "            all_probs.append(probs)\n",
        "    all_probs = np.concatenate(all_probs, axis=0)\n",
        "    val_indices = train_df.index[train_df.fold==fold].to_numpy()\n",
        "    oof_preds[val_indices] = all_probs\n",
        "\n",
        "# OOF evaluation\n",
        "per_class_oof = {}\n",
        "for i, c in enumerate(TARGETS):\n",
        "    try:\n",
        "        per_class_oof[c] = roc_auc_score(oof_targets[:, i], oof_preds[:, i])\n",
        "    except Exception:\n",
        "        per_class_oof[c] = float('nan')\n",
        "oof_mean_auc = float(np.nanmean(list(per_class_oof.values())))\n",
        "print('\\n===== OOF Results =====')\n",
        "print('Per-class AUC:', {k: round(v,6) for k,v in per_class_oof.items()})\n",
        "print('OOF mean-column-wise-roc-auc:', round(oof_mean_auc, 6))\n",
        "pd.DataFrame({'image_id': train_df['image_id'], **{c: oof_preds[:, i] for i, c in enumerate(TARGETS)}, 'fold': train_df['fold']}).to_csv('oof_preds.csv', index=False)\n",
        "print('Saved oof_preds.csv')\n",
        "\n",
        "# Inference on test with 4x flip TTA per fold and average across folds\n",
        "class TestDataset(PlantDataset):\n",
        "    def __init__(self, df, image_dir, transform):\n",
        "        super().__init__(df=df, image_dir=image_dir, targets=None, transform=transform)\n",
        "\n",
        "test_ds = TestDataset(test_df, IMG_DIR, transform=get_transforms(image_size, is_train=False))\n",
        "test_loader = DataLoader(test_ds, batch_size=batch_size*2, shuffle=False, num_workers=num_workers, pin_memory=True)\n",
        "\n",
        "all_fold_test = []\n",
        "for fold in range(NFOLDS):\n",
        "    best_path = f'checkpoints/{model_name}_fold{fold}.pt'\n",
        "    ckpt = torch.load(best_path, map_location='cpu')\n",
        "    model = build_model(model_name=model_name, pretrained=False, num_classes=N_CLASSES).to(DEVICE)\n",
        "    model.load_state_dict(ckpt['state_dict'], strict=True)\n",
        "    model.eval()\n",
        "    fold_probs = []\n",
        "    with torch.no_grad():\n",
        "        for imgs, ids in test_loader:\n",
        "            imgs = imgs.to(DEVICE, non_blocking=True)\n",
        "            logits0 = model(imgs)\n",
        "            logits1 = model(torch.flip(imgs, dims=[3]))  # hflip\n",
        "            logits2 = model(torch.flip(imgs, dims=[2]))  # vflip\n",
        "            logits3 = model(torch.flip(imgs, dims=[2,3]))  # hvflip\n",
        "            logits = (logits0 + logits1 + logits2 + logits3) / 4.0\n",
        "            probs = torch.sigmoid(logits).detach().cpu().numpy()\n",
        "            fold_probs.append(probs)\n",
        "    fold_probs = np.concatenate(fold_probs, axis=0)\n",
        "    all_fold_test.append(fold_probs)\n",
        "test_pred = np.mean(np.stack(all_fold_test, axis=0), axis=0)\n",
        "\n",
        "# Build submission\n",
        "sub = pd.DataFrame({'image_id': test_df['image_id']})\n",
        "for i, c in enumerate(TARGETS):\n",
        "    sub[c] = test_pred[:, i]\n",
        "sub.to_csv('submission.csv', index=False)\n",
        "print('\\nSaved submission.csv with shape', sub.shape)\n",
        "print('Fold best AUCs:', [round(x,6) for x in fold_best_auc])\n",
        "print('OOF mean AUC:', round(oof_mean_auc, 6))\n",
        "print('Done.')"
      ],
      "execution_count": 4,
      "outputs": [
        {
          "output_type": "stream",
          "name": "stdout",
          "text": [
            "\n===== Fold 0/4 - start =====\n"
          ]
        },
        {
          "output_type": "stream",
          "name": "stderr",
          "text": [
            "/app/.pip-target/albumentations/core/validation.py:114: UserWarning: ShiftScaleRotate is a special case of Affine transform. Please use Affine transform instead.\n  original_init(self, **validated_kwargs)\n/app/.pip-target/timm/models/_factory.py:138: UserWarning: Mapping deprecated model name tf_efficientnet_b4_ns to current tf_efficientnet_b4.ns_jft_in1k.\n  model = create_fn(\n"
          ]
        },
        {
          "output_type": "stream",
          "name": "stderr",
          "text": [
            "/tmp/ipykernel_214/3464310631.py:35: FutureWarning: `torch.cuda.amp.GradScaler(args...)` is deprecated. Please use `torch.amp.GradScaler('cuda', args...)` instead.\n  scaler = torch.cuda.amp.GradScaler(enabled=(DEVICE=='cuda'))\n"
          ]
        },
        {
          "output_type": "stream",
          "name": "stderr",
          "text": [
            "/tmp/ipykernel_214/3464310631.py:50: FutureWarning: `torch.cuda.amp.autocast(args...)` is deprecated. Please use `torch.amp.autocast('cuda', args...)` instead.\n  with torch.cuda.amp.autocast(enabled=(DEVICE=='cuda')):\n"
          ]
        },
        {
          "output_type": "stream",
          "name": "stdout",
          "text": [
            "[Fold 0] Epoch 1/15 Step 50/81 Loss 0.6244\n"
          ]
        },
        {
          "output_type": "stream",
          "name": "stdout",
          "text": [
            "[Fold 0] Epoch 1/15 Step 81/81 Loss 0.5059\n"
          ]
        },
        {
          "output_type": "stream",
          "name": "stdout",
          "text": [
            "[Fold 0] Epoch 1 val mean AUC: 0.41829 | per-class: healthy:0.4733, multiple_diseases:0.4731, rust:0.3566, scab:0.3702\n"
          ]
        },
        {
          "output_type": "stream",
          "name": "stdout",
          "text": [
            "[Fold 0] New best AUC 0.41829 saved -> checkpoints/tf_efficientnet_b4_ns_fold0.pt\n"
          ]
        },
        {
          "output_type": "stream",
          "name": "stdout",
          "text": [
            "[Fold 0] Epoch 1 time: 150.5s\n"
          ]
        },
        {
          "output_type": "stream",
          "name": "stderr",
          "text": [
            "/tmp/ipykernel_214/3464310631.py:50: FutureWarning: `torch.cuda.amp.autocast(args...)` is deprecated. Please use `torch.amp.autocast('cuda', args...)` instead.\n  with torch.cuda.amp.autocast(enabled=(DEVICE=='cuda')):\n"
          ]
        },
        {
          "output_type": "stream",
          "name": "stdout",
          "text": [
            "[Fold 0] Epoch 2/15 Step 50/81 Loss 0.2300\n"
          ]
        },
        {
          "output_type": "stream",
          "name": "stdout",
          "text": [
            "[Fold 0] Epoch 2/15 Step 81/81 Loss 0.2186\n"
          ]
        },
        {
          "output_type": "stream",
          "name": "stdout",
          "text": [
            "[Fold 0] Epoch 2 val mean AUC: 0.48517 | per-class: healthy:0.5701, multiple_diseases:0.4913, rust:0.4736, scab:0.4057\n"
          ]
        },
        {
          "output_type": "stream",
          "name": "stdout",
          "text": [
            "[Fold 0] New best AUC 0.48517 saved -> checkpoints/tf_efficientnet_b4_ns_fold0.pt\n"
          ]
        },
        {
          "output_type": "stream",
          "name": "stdout",
          "text": [
            "[Fold 0] Epoch 2 time: 23.1s\n"
          ]
        },
        {
          "output_type": "stream",
          "name": "stderr",
          "text": [
            "/tmp/ipykernel_214/3464310631.py:50: FutureWarning: `torch.cuda.amp.autocast(args...)` is deprecated. Please use `torch.amp.autocast('cuda', args...)` instead.\n  with torch.cuda.amp.autocast(enabled=(DEVICE=='cuda')):\n"
          ]
        },
        {
          "output_type": "stream",
          "name": "stdout",
          "text": [
            "[Fold 0] Epoch 3/15 Step 50/81 Loss 0.1624\n"
          ]
        },
        {
          "output_type": "stream",
          "name": "stdout",
          "text": [
            "[Fold 0] Epoch 3/15 Step 81/81 Loss 0.1648\n"
          ]
        },
        {
          "output_type": "stream",
          "name": "stdout",
          "text": [
            "[Fold 0] Epoch 3 val mean AUC: 0.56394 | per-class: healthy:0.6692, multiple_diseases:0.5241, rust:0.6092, scab:0.4533\n"
          ]
        },
        {
          "output_type": "stream",
          "name": "stdout",
          "text": [
            "[Fold 0] New best AUC 0.56394 saved -> checkpoints/tf_efficientnet_b4_ns_fold0.pt\n"
          ]
        },
        {
          "output_type": "stream",
          "name": "stdout",
          "text": [
            "[Fold 0] Epoch 3 time: 18.6s\n"
          ]
        },
        {
          "output_type": "stream",
          "name": "stderr",
          "text": [
            "/tmp/ipykernel_214/3464310631.py:50: FutureWarning: `torch.cuda.amp.autocast(args...)` is deprecated. Please use `torch.amp.autocast('cuda', args...)` instead.\n  with torch.cuda.amp.autocast(enabled=(DEVICE=='cuda')):\n"
          ]
        },
        {
          "output_type": "stream",
          "name": "stdout",
          "text": [
            "[Fold 0] Epoch 4/15 Step 50/81 Loss 0.1476\n"
          ]
        },
        {
          "output_type": "stream",
          "name": "stdout",
          "text": [
            "[Fold 0] Epoch 4/15 Step 81/81 Loss 0.1439\n"
          ]
        },
        {
          "output_type": "stream",
          "name": "stdout",
          "text": [
            "[Fold 0] Epoch 4 val mean AUC: 0.65078 | per-class: healthy:0.7608, multiple_diseases:0.5588, rust:0.7334, scab:0.5501\n"
          ]
        },
        {
          "output_type": "stream",
          "name": "stdout",
          "text": [
            "[Fold 0] New best AUC 0.65078 saved -> checkpoints/tf_efficientnet_b4_ns_fold0.pt\n"
          ]
        },
        {
          "output_type": "stream",
          "name": "stdout",
          "text": [
            "[Fold 0] Epoch 4 time: 19.0s\n"
          ]
        },
        {
          "output_type": "stream",
          "name": "stderr",
          "text": [
            "/tmp/ipykernel_214/3464310631.py:50: FutureWarning: `torch.cuda.amp.autocast(args...)` is deprecated. Please use `torch.amp.autocast('cuda', args...)` instead.\n  with torch.cuda.amp.autocast(enabled=(DEVICE=='cuda')):\n"
          ]
        },
        {
          "output_type": "stream",
          "name": "stdout",
          "text": [
            "[Fold 0] Epoch 5/15 Step 50/81 Loss 0.1299\n"
          ]
        },
        {
          "output_type": "stream",
          "name": "stdout",
          "text": [
            "[Fold 0] Epoch 5/15 Step 81/81 Loss 0.1295\n"
          ]
        },
        {
          "output_type": "stream",
          "name": "stdout",
          "text": [
            "[Fold 0] Epoch 5 val mean AUC: 0.73409 | per-class: healthy:0.8321, multiple_diseases:0.6021, rust:0.8296, scab:0.6725\n"
          ]
        },
        {
          "output_type": "stream",
          "name": "stdout",
          "text": [
            "[Fold 0] New best AUC 0.73409 saved -> checkpoints/tf_efficientnet_b4_ns_fold0.pt\n"
          ]
        },
        {
          "output_type": "stream",
          "name": "stdout",
          "text": [
            "[Fold 0] Epoch 5 time: 18.7s\n"
          ]
        },
        {
          "output_type": "stream",
          "name": "stderr",
          "text": [
            "/tmp/ipykernel_214/3464310631.py:50: FutureWarning: `torch.cuda.amp.autocast(args...)` is deprecated. Please use `torch.amp.autocast('cuda', args...)` instead.\n  with torch.cuda.amp.autocast(enabled=(DEVICE=='cuda')):\n"
          ]
        },
        {
          "output_type": "stream",
          "name": "stdout",
          "text": [
            "[Fold 0] Epoch 6/15 Step 50/81 Loss 0.1238\n"
          ]
        },
        {
          "output_type": "stream",
          "name": "stdout",
          "text": [
            "[Fold 0] Epoch 6/15 Step 81/81 Loss 0.1218\n"
          ]
        },
        {
          "output_type": "stream",
          "name": "stdout",
          "text": [
            "[Fold 0] Epoch 6 val mean AUC: 0.80812 | per-class: healthy:0.8918, multiple_diseases:0.6442, rust:0.8986, scab:0.7978\n"
          ]
        },
        {
          "output_type": "stream",
          "name": "stdout",
          "text": [
            "[Fold 0] New best AUC 0.80812 saved -> checkpoints/tf_efficientnet_b4_ns_fold0.pt\n"
          ]
        },
        {
          "output_type": "stream",
          "name": "stdout",
          "text": [
            "[Fold 0] Epoch 6 time: 19.1s\n"
          ]
        },
        {
          "output_type": "stream",
          "name": "stderr",
          "text": [
            "/tmp/ipykernel_214/3464310631.py:50: FutureWarning: `torch.cuda.amp.autocast(args...)` is deprecated. Please use `torch.amp.autocast('cuda', args...)` instead.\n  with torch.cuda.amp.autocast(enabled=(DEVICE=='cuda')):\n"
          ]
        },
        {
          "output_type": "stream",
          "name": "stdout",
          "text": [
            "[Fold 0] Epoch 7/15 Step 50/81 Loss 0.1131\n"
          ]
        },
        {
          "output_type": "stream",
          "name": "stdout",
          "text": [
            "[Fold 0] Epoch 7/15 Step 81/81 Loss 0.1116\n"
          ]
        },
        {
          "output_type": "stream",
          "name": "stdout",
          "text": [
            "[Fold 0] Epoch 7 val mean AUC: 0.87144 | per-class: healthy:0.9400, multiple_diseases:0.7097, rust:0.9441, scab:0.8920\n"
          ]
        },
        {
          "output_type": "stream",
          "name": "stdout",
          "text": [
            "[Fold 0] New best AUC 0.87144 saved -> checkpoints/tf_efficientnet_b4_ns_fold0.pt\n"
          ]
        },
        {
          "output_type": "stream",
          "name": "stdout",
          "text": [
            "[Fold 0] Epoch 7 time: 18.7s\n"
          ]
        },
        {
          "output_type": "stream",
          "name": "stderr",
          "text": [
            "/tmp/ipykernel_214/3464310631.py:50: FutureWarning: `torch.cuda.amp.autocast(args...)` is deprecated. Please use `torch.amp.autocast('cuda', args...)` instead.\n  with torch.cuda.amp.autocast(enabled=(DEVICE=='cuda')):\n"
          ]
        },
        {
          "output_type": "stream",
          "name": "stdout",
          "text": [
            "[Fold 0] Epoch 8/15 Step 50/81 Loss 0.1136\n"
          ]
        },
        {
          "output_type": "stream",
          "name": "stdout",
          "text": [
            "[Fold 0] Epoch 8/15 Step 81/81 Loss 0.1134\n"
          ]
        },
        {
          "output_type": "stream",
          "name": "stdout",
          "text": [
            "[Fold 0] Epoch 8 val mean AUC: 0.91689 | per-class: healthy:0.9694, multiple_diseases:0.7769, rust:0.9726, scab:0.9487\n"
          ]
        },
        {
          "output_type": "stream",
          "name": "stdout",
          "text": [
            "[Fold 0] New best AUC 0.91689 saved -> checkpoints/tf_efficientnet_b4_ns_fold0.pt\n"
          ]
        },
        {
          "output_type": "stream",
          "name": "stdout",
          "text": [
            "[Fold 0] Epoch 8 time: 18.7s\n"
          ]
        },
        {
          "output_type": "stream",
          "name": "stderr",
          "text": [
            "/tmp/ipykernel_214/3464310631.py:50: FutureWarning: `torch.cuda.amp.autocast(args...)` is deprecated. Please use `torch.amp.autocast('cuda', args...)` instead.\n  with torch.cuda.amp.autocast(enabled=(DEVICE=='cuda')):\n"
          ]
        },
        {
          "output_type": "stream",
          "name": "stdout",
          "text": [
            "[Fold 0] Epoch 9/15 Step 50/81 Loss 0.1127\n"
          ]
        },
        {
          "output_type": "stream",
          "name": "stdout",
          "text": [
            "[Fold 0] Epoch 9/15 Step 81/81 Loss 0.1117\n"
          ]
        },
        {
          "output_type": "stream",
          "name": "stdout",
          "text": [
            "[Fold 0] Epoch 9 val mean AUC: 0.94382 | per-class: healthy:0.9840, multiple_diseases:0.8287, rust:0.9871, scab:0.9755\n"
          ]
        },
        {
          "output_type": "stream",
          "name": "stdout",
          "text": [
            "[Fold 0] New best AUC 0.94382 saved -> checkpoints/tf_efficientnet_b4_ns_fold0.pt\n"
          ]
        },
        {
          "output_type": "stream",
          "name": "stdout",
          "text": [
            "[Fold 0] Epoch 9 time: 19.0s\n"
          ]
        },
        {
          "output_type": "stream",
          "name": "stderr",
          "text": [
            "/tmp/ipykernel_214/3464310631.py:50: FutureWarning: `torch.cuda.amp.autocast(args...)` is deprecated. Please use `torch.amp.autocast('cuda', args...)` instead.\n  with torch.cuda.amp.autocast(enabled=(DEVICE=='cuda')):\n"
          ]
        },
        {
          "output_type": "stream",
          "name": "stdout",
          "text": [
            "[Fold 0] Epoch 10/15 Step 50/81 Loss 0.1042\n"
          ]
        },
        {
          "output_type": "stream",
          "name": "stdout",
          "text": [
            "[Fold 0] Epoch 10/15 Step 81/81 Loss 0.1071\n"
          ]
        },
        {
          "output_type": "stream",
          "name": "stdout",
          "text": [
            "[Fold 0] Epoch 10 val mean AUC: 0.96278 | per-class: healthy:0.9935, multiple_diseases:0.8774, rust:0.9926, scab:0.9876\n"
          ]
        },
        {
          "output_type": "stream",
          "name": "stdout",
          "text": [
            "[Fold 0] New best AUC 0.96278 saved -> checkpoints/tf_efficientnet_b4_ns_fold0.pt\n"
          ]
        },
        {
          "output_type": "stream",
          "name": "stdout",
          "text": [
            "[Fold 0] Epoch 10 time: 18.7s\n"
          ]
        },
        {
          "output_type": "stream",
          "name": "stderr",
          "text": [
            "/tmp/ipykernel_214/3464310631.py:50: FutureWarning: `torch.cuda.amp.autocast(args...)` is deprecated. Please use `torch.amp.autocast('cuda', args...)` instead.\n  with torch.cuda.amp.autocast(enabled=(DEVICE=='cuda')):\n"
          ]
        },
        {
          "output_type": "stream",
          "name": "stdout",
          "text": [
            "[Fold 0] Epoch 11/15 Step 50/81 Loss 0.1050\n"
          ]
        },
        {
          "output_type": "stream",
          "name": "stdout",
          "text": [
            "[Fold 0] Epoch 11/15 Step 81/81 Loss 0.1041\n"
          ]
        },
        {
          "output_type": "stream",
          "name": "stdout",
          "text": [
            "[Fold 0] Epoch 11 val mean AUC: 0.97489 | per-class: healthy:0.9965, multiple_diseases:0.9148, rust:0.9950, scab:0.9933\n"
          ]
        },
        {
          "output_type": "stream",
          "name": "stdout",
          "text": [
            "[Fold 0] New best AUC 0.97489 saved -> checkpoints/tf_efficientnet_b4_ns_fold0.pt\n"
          ]
        },
        {
          "output_type": "stream",
          "name": "stdout",
          "text": [
            "[Fold 0] Epoch 11 time: 18.9s\n"
          ]
        },
        {
          "output_type": "stream",
          "name": "stderr",
          "text": [
            "/tmp/ipykernel_214/3464310631.py:50: FutureWarning: `torch.cuda.amp.autocast(args...)` is deprecated. Please use `torch.amp.autocast('cuda', args...)` instead.\n  with torch.cuda.amp.autocast(enabled=(DEVICE=='cuda')):\n"
          ]
        },
        {
          "output_type": "stream",
          "name": "stdout",
          "text": [
            "[Fold 0] Epoch 12/15 Step 50/81 Loss 0.1024\n"
          ]
        },
        {
          "output_type": "stream",
          "name": "stdout",
          "text": [
            "[Fold 0] Epoch 12/15 Step 81/81 Loss 0.1029\n"
          ]
        },
        {
          "output_type": "stream",
          "name": "stdout",
          "text": [
            "[Fold 0] Epoch 12 val mean AUC: 0.98315 | per-class: healthy:0.9976, multiple_diseases:0.9425, rust:0.9963, scab:0.9962\n"
          ]
        },
        {
          "output_type": "stream",
          "name": "stdout",
          "text": [
            "[Fold 0] New best AUC 0.98315 saved -> checkpoints/tf_efficientnet_b4_ns_fold0.pt\n"
          ]
        },
        {
          "output_type": "stream",
          "name": "stdout",
          "text": [
            "[Fold 0] Epoch 12 time: 19.1s\n"
          ]
        },
        {
          "output_type": "stream",
          "name": "stderr",
          "text": [
            "/tmp/ipykernel_214/3464310631.py:50: FutureWarning: `torch.cuda.amp.autocast(args...)` is deprecated. Please use `torch.amp.autocast('cuda', args...)` instead.\n  with torch.cuda.amp.autocast(enabled=(DEVICE=='cuda')):\n"
          ]
        },
        {
          "output_type": "stream",
          "name": "stdout",
          "text": [
            "[Fold 0] Epoch 13/15 Step 50/81 Loss 0.1032\n"
          ]
        },
        {
          "output_type": "stream",
          "name": "stdout",
          "text": [
            "[Fold 0] Epoch 13/15 Step 81/81 Loss 0.1027\n"
          ]
        },
        {
          "output_type": "stream",
          "name": "stdout",
          "text": [
            "[Fold 0] Epoch 13 val mean AUC: 0.98806 | per-class: healthy:0.9985, multiple_diseases:0.9592, rust:0.9972, scab:0.9973\n"
          ]
        },
        {
          "output_type": "stream",
          "name": "stdout",
          "text": [
            "[Fold 0] New best AUC 0.98806 saved -> checkpoints/tf_efficientnet_b4_ns_fold0.pt\n"
          ]
        },
        {
          "output_type": "stream",
          "name": "stdout",
          "text": [
            "[Fold 0] Epoch 13 time: 18.6s\n"
          ]
        },
        {
          "output_type": "stream",
          "name": "stderr",
          "text": [
            "/tmp/ipykernel_214/3464310631.py:50: FutureWarning: `torch.cuda.amp.autocast(args...)` is deprecated. Please use `torch.amp.autocast('cuda', args...)` instead.\n  with torch.cuda.amp.autocast(enabled=(DEVICE=='cuda')):\n"
          ]
        },
        {
          "output_type": "stream",
          "name": "stdout",
          "text": [
            "[Fold 0] Epoch 14/15 Step 50/81 Loss 0.1031\n"
          ]
        },
        {
          "output_type": "stream",
          "name": "stdout",
          "text": [
            "[Fold 0] Epoch 14/15 Step 81/81 Loss 0.1029\n"
          ]
        },
        {
          "output_type": "stream",
          "name": "stdout",
          "text": [
            "[Fold 0] Epoch 14 val mean AUC: 0.99105 | per-class: healthy:0.9991, multiple_diseases:0.9698, rust:0.9976, scab:0.9977\n"
          ]
        },
        {
          "output_type": "stream",
          "name": "stdout",
          "text": [
            "[Fold 0] New best AUC 0.99105 saved -> checkpoints/tf_efficientnet_b4_ns_fold0.pt\n"
          ]
        },
        {
          "output_type": "stream",
          "name": "stdout",
          "text": [
            "[Fold 0] Epoch 14 time: 18.7s\n"
          ]
        },
        {
          "output_type": "stream",
          "name": "stderr",
          "text": [
            "/tmp/ipykernel_214/3464310631.py:50: FutureWarning: `torch.cuda.amp.autocast(args...)` is deprecated. Please use `torch.amp.autocast('cuda', args...)` instead.\n  with torch.cuda.amp.autocast(enabled=(DEVICE=='cuda')):\n"
          ]
        },
        {
          "output_type": "stream",
          "name": "stdout",
          "text": [
            "[Fold 0] Epoch 15/15 Step 50/81 Loss 0.1045\n"
          ]
        },
        {
          "output_type": "stream",
          "name": "stdout",
          "text": [
            "[Fold 0] Epoch 15/15 Step 81/81 Loss 0.1032\n"
          ]
        },
        {
          "output_type": "stream",
          "name": "stdout",
          "text": [
            "[Fold 0] Epoch 15 val mean AUC: 0.99300 | per-class: healthy:0.9991, multiple_diseases:0.9769, rust:0.9979, scab:0.9981\n"
          ]
        },
        {
          "output_type": "stream",
          "name": "stdout",
          "text": [
            "[Fold 0] New best AUC 0.99300 saved -> checkpoints/tf_efficientnet_b4_ns_fold0.pt\n"
          ]
        },
        {
          "output_type": "stream",
          "name": "stdout",
          "text": [
            "[Fold 0] Epoch 15 time: 18.8s\n"
          ]
        },
        {
          "output_type": "stream",
          "name": "stdout",
          "text": [
            "[Fold 0] Training done in 7.0 min, best AUC 0.99300\n"
          ]
        },
        {
          "output_type": "stream",
          "name": "stdout",
          "text": [
            "\n===== Fold 1/4 - start =====\n"
          ]
        },
        {
          "output_type": "stream",
          "name": "stderr",
          "text": [
            "/app/.pip-target/albumentations/core/validation.py:114: UserWarning: ShiftScaleRotate is a special case of Affine transform. Please use Affine transform instead.\n  original_init(self, **validated_kwargs)\n/app/.pip-target/timm/models/_factory.py:138: UserWarning: Mapping deprecated model name tf_efficientnet_b4_ns to current tf_efficientnet_b4.ns_jft_in1k.\n  model = create_fn(\n"
          ]
        },
        {
          "output_type": "stream",
          "name": "stderr",
          "text": [
            "/tmp/ipykernel_214/3464310631.py:35: FutureWarning: `torch.cuda.amp.GradScaler(args...)` is deprecated. Please use `torch.amp.GradScaler('cuda', args...)` instead.\n  scaler = torch.cuda.amp.GradScaler(enabled=(DEVICE=='cuda'))\n"
          ]
        },
        {
          "output_type": "stream",
          "name": "stderr",
          "text": [
            "/tmp/ipykernel_214/3464310631.py:50: FutureWarning: `torch.cuda.amp.autocast(args...)` is deprecated. Please use `torch.amp.autocast('cuda', args...)` instead.\n  with torch.cuda.amp.autocast(enabled=(DEVICE=='cuda')):\n"
          ]
        },
        {
          "output_type": "stream",
          "name": "stdout",
          "text": [
            "[Fold 1] Epoch 1/15 Step 50/81 Loss 0.6127\n"
          ]
        },
        {
          "output_type": "stream",
          "name": "stdout",
          "text": [
            "[Fold 1] Epoch 1/15 Step 81/81 Loss 0.4894\n"
          ]
        },
        {
          "output_type": "stream",
          "name": "stdout",
          "text": [
            "[Fold 1] Epoch 1 val mean AUC: 0.49441 | per-class: healthy:0.3676, multiple_diseases:0.5336, rust:0.6858, scab:0.3907\n[Fold 1] New best AUC 0.49441 saved -> checkpoints/tf_efficientnet_b4_ns_fold1.pt\n"
          ]
        },
        {
          "output_type": "stream",
          "name": "stdout",
          "text": [
            "[Fold 1] Epoch 1 time: 20.1s\n"
          ]
        },
        {
          "output_type": "stream",
          "name": "stderr",
          "text": [
            "/tmp/ipykernel_214/3464310631.py:50: FutureWarning: `torch.cuda.amp.autocast(args...)` is deprecated. Please use `torch.amp.autocast('cuda', args...)` instead.\n  with torch.cuda.amp.autocast(enabled=(DEVICE=='cuda')):\n"
          ]
        },
        {
          "output_type": "stream",
          "name": "stdout",
          "text": [
            "[Fold 1] Epoch 2/15 Step 50/81 Loss 0.2503\n"
          ]
        },
        {
          "output_type": "stream",
          "name": "stdout",
          "text": [
            "[Fold 1] Epoch 2/15 Step 81/81 Loss 0.2390\n"
          ]
        },
        {
          "output_type": "stream",
          "name": "stdout",
          "text": [
            "[Fold 1] Epoch 2 val mean AUC: 0.54300 | per-class: healthy:0.4288, multiple_diseases:0.5470, rust:0.7641, scab:0.4321\n"
          ]
        },
        {
          "output_type": "stream",
          "name": "stdout",
          "text": [
            "[Fold 1] New best AUC 0.54300 saved -> checkpoints/tf_efficientnet_b4_ns_fold1.pt\n"
          ]
        },
        {
          "output_type": "stream",
          "name": "stdout",
          "text": [
            "[Fold 1] Epoch 2 time: 19.4s\n"
          ]
        },
        {
          "output_type": "stream",
          "name": "stderr",
          "text": [
            "/tmp/ipykernel_214/3464310631.py:50: FutureWarning: `torch.cuda.amp.autocast(args...)` is deprecated. Please use `torch.amp.autocast('cuda', args...)` instead.\n  with torch.cuda.amp.autocast(enabled=(DEVICE=='cuda')):\n"
          ]
        },
        {
          "output_type": "stream",
          "name": "stdout",
          "text": [
            "[Fold 1] Epoch 3/15 Step 50/81 Loss 0.1921\n"
          ]
        },
        {
          "output_type": "stream",
          "name": "stdout",
          "text": [
            "[Fold 1] Epoch 3/15 Step 81/81 Loss 0.1788\n"
          ]
        },
        {
          "output_type": "stream",
          "name": "stdout",
          "text": [
            "[Fold 1] Epoch 3 val mean AUC: 0.61316 | per-class: healthy:0.5529, multiple_diseases:0.5826, rust:0.8327, scab:0.4844\n"
          ]
        },
        {
          "output_type": "stream",
          "name": "stdout",
          "text": [
            "[Fold 1] New best AUC 0.61316 saved -> checkpoints/tf_efficientnet_b4_ns_fold1.pt\n"
          ]
        },
        {
          "output_type": "stream",
          "name": "stdout",
          "text": [
            "[Fold 1] Epoch 3 time: 19.6s\n"
          ]
        },
        {
          "output_type": "stream",
          "name": "stderr",
          "text": [
            "/tmp/ipykernel_214/3464310631.py:50: FutureWarning: `torch.cuda.amp.autocast(args...)` is deprecated. Please use `torch.amp.autocast('cuda', args...)` instead.\n  with torch.cuda.amp.autocast(enabled=(DEVICE=='cuda')):\n"
          ]
        },
        {
          "output_type": "stream",
          "name": "stdout",
          "text": [
            "[Fold 1] Epoch 4/15 Step 50/81 Loss 0.1593\n"
          ]
        },
        {
          "output_type": "stream",
          "name": "stdout",
          "text": [
            "[Fold 1] Epoch 4/15 Step 81/81 Loss 0.1579\n"
          ]
        },
        {
          "output_type": "stream",
          "name": "stdout",
          "text": [
            "[Fold 1] Epoch 4 val mean AUC: 0.68847 | per-class: healthy:0.6781, multiple_diseases:0.6168, rust:0.8953, scab:0.5636\n"
          ]
        },
        {
          "output_type": "stream",
          "name": "stdout",
          "text": [
            "[Fold 1] New best AUC 0.68847 saved -> checkpoints/tf_efficientnet_b4_ns_fold1.pt\n"
          ]
        },
        {
          "output_type": "stream",
          "name": "stdout",
          "text": [
            "[Fold 1] Epoch 4 time: 19.3s\n"
          ]
        },
        {
          "output_type": "stream",
          "name": "stderr",
          "text": [
            "/tmp/ipykernel_214/3464310631.py:50: FutureWarning: `torch.cuda.amp.autocast(args...)` is deprecated. Please use `torch.amp.autocast('cuda', args...)` instead.\n  with torch.cuda.amp.autocast(enabled=(DEVICE=='cuda')):\n"
          ]
        },
        {
          "output_type": "stream",
          "name": "stdout",
          "text": [
            "[Fold 1] Epoch 5/15 Step 50/81 Loss 0.1401\n"
          ]
        },
        {
          "output_type": "stream",
          "name": "stdout",
          "text": [
            "[Fold 1] Epoch 5/15 Step 81/81 Loss 0.1348\n"
          ]
        },
        {
          "output_type": "stream",
          "name": "stdout",
          "text": [
            "[Fold 1] Epoch 5 val mean AUC: 0.75937 | per-class: healthy:0.7820, multiple_diseases:0.6518, rust:0.9428, scab:0.6608\n"
          ]
        },
        {
          "output_type": "stream",
          "name": "stdout",
          "text": [
            "[Fold 1] New best AUC 0.75937 saved -> checkpoints/tf_efficientnet_b4_ns_fold1.pt\n"
          ]
        },
        {
          "output_type": "stream",
          "name": "stdout",
          "text": [
            "[Fold 1] Epoch 5 time: 19.1s\n"
          ]
        },
        {
          "output_type": "stream",
          "name": "stderr",
          "text": [
            "/tmp/ipykernel_214/3464310631.py:50: FutureWarning: `torch.cuda.amp.autocast(args...)` is deprecated. Please use `torch.amp.autocast('cuda', args...)` instead.\n  with torch.cuda.amp.autocast(enabled=(DEVICE=='cuda')):\n"
          ]
        },
        {
          "output_type": "stream",
          "name": "stdout",
          "text": [
            "[Fold 1] Epoch 6/15 Step 50/81 Loss 0.1245\n"
          ]
        },
        {
          "output_type": "stream",
          "name": "stdout",
          "text": [
            "[Fold 1] Epoch 6/15 Step 81/81 Loss 0.1231\n"
          ]
        },
        {
          "output_type": "stream",
          "name": "stdout",
          "text": [
            "[Fold 1] Epoch 6 val mean AUC: 0.81549 | per-class: healthy:0.8588, multiple_diseases:0.6773, rust:0.9723, scab:0.7536\n"
          ]
        },
        {
          "output_type": "stream",
          "name": "stdout",
          "text": [
            "[Fold 1] New best AUC 0.81549 saved -> checkpoints/tf_efficientnet_b4_ns_fold1.pt\n"
          ]
        },
        {
          "output_type": "stream",
          "name": "stdout",
          "text": [
            "[Fold 1] Epoch 6 time: 19.7s\n"
          ]
        },
        {
          "output_type": "stream",
          "name": "stderr",
          "text": [
            "/tmp/ipykernel_214/3464310631.py:50: FutureWarning: `torch.cuda.amp.autocast(args...)` is deprecated. Please use `torch.amp.autocast('cuda', args...)` instead.\n  with torch.cuda.amp.autocast(enabled=(DEVICE=='cuda')):\n"
          ]
        },
        {
          "output_type": "stream",
          "name": "stdout",
          "text": [
            "[Fold 1] Epoch 7/15 Step 50/81 Loss 0.1196\n"
          ]
        },
        {
          "output_type": "stream",
          "name": "stdout",
          "text": [
            "[Fold 1] Epoch 7/15 Step 81/81 Loss 0.1178\n"
          ]
        },
        {
          "output_type": "stream",
          "name": "stdout",
          "text": [
            "[Fold 1] Epoch 7 val mean AUC: 0.86099 | per-class: healthy:0.9121, multiple_diseases:0.7117, rust:0.9883, scab:0.8318\n"
          ]
        },
        {
          "output_type": "stream",
          "name": "stdout",
          "text": [
            "[Fold 1] New best AUC 0.86099 saved -> checkpoints/tf_efficientnet_b4_ns_fold1.pt\n"
          ]
        },
        {
          "output_type": "stream",
          "name": "stdout",
          "text": [
            "[Fold 1] Epoch 7 time: 19.8s\n"
          ]
        },
        {
          "output_type": "stream",
          "name": "stderr",
          "text": [
            "/tmp/ipykernel_214/3464310631.py:50: FutureWarning: `torch.cuda.amp.autocast(args...)` is deprecated. Please use `torch.amp.autocast('cuda', args...)` instead.\n  with torch.cuda.amp.autocast(enabled=(DEVICE=='cuda')):\n"
          ]
        },
        {
          "output_type": "stream",
          "name": "stdout",
          "text": [
            "[Fold 1] Epoch 8/15 Step 50/81 Loss 0.1090\n"
          ]
        },
        {
          "output_type": "stream",
          "name": "stdout",
          "text": [
            "[Fold 1] Epoch 8/15 Step 81/81 Loss 0.1117\n"
          ]
        },
        {
          "output_type": "stream",
          "name": "stdout",
          "text": [
            "[Fold 1] Epoch 8 val mean AUC: 0.89493 | per-class: healthy:0.9479, multiple_diseases:0.7490, rust:0.9941, scab:0.8888\n"
          ]
        },
        {
          "output_type": "stream",
          "name": "stdout",
          "text": [
            "[Fold 1] New best AUC 0.89493 saved -> checkpoints/tf_efficientnet_b4_ns_fold1.pt\n"
          ]
        },
        {
          "output_type": "stream",
          "name": "stdout",
          "text": [
            "[Fold 1] Epoch 8 time: 19.2s\n"
          ]
        },
        {
          "output_type": "stream",
          "name": "stderr",
          "text": [
            "/tmp/ipykernel_214/3464310631.py:50: FutureWarning: `torch.cuda.amp.autocast(args...)` is deprecated. Please use `torch.amp.autocast('cuda', args...)` instead.\n  with torch.cuda.amp.autocast(enabled=(DEVICE=='cuda')):\n"
          ]
        },
        {
          "output_type": "stream",
          "name": "stdout",
          "text": [
            "[Fold 1] Epoch 9/15 Step 50/81 Loss 0.1111\n"
          ]
        },
        {
          "output_type": "stream",
          "name": "stdout",
          "text": [
            "[Fold 1] Epoch 9/15 Step 81/81 Loss 0.1097\n"
          ]
        },
        {
          "output_type": "stream",
          "name": "stdout",
          "text": [
            "[Fold 1] Epoch 9 val mean AUC: 0.91930 | per-class: healthy:0.9695, multiple_diseases:0.7857, rust:0.9972, scab:0.9248\n"
          ]
        },
        {
          "output_type": "stream",
          "name": "stdout",
          "text": [
            "[Fold 1] New best AUC 0.91930 saved -> checkpoints/tf_efficientnet_b4_ns_fold1.pt\n"
          ]
        },
        {
          "output_type": "stream",
          "name": "stdout",
          "text": [
            "[Fold 1] Epoch 9 time: 19.7s\n"
          ]
        },
        {
          "output_type": "stream",
          "name": "stderr",
          "text": [
            "/tmp/ipykernel_214/3464310631.py:50: FutureWarning: `torch.cuda.amp.autocast(args...)` is deprecated. Please use `torch.amp.autocast('cuda', args...)` instead.\n  with torch.cuda.amp.autocast(enabled=(DEVICE=='cuda')):\n"
          ]
        },
        {
          "output_type": "stream",
          "name": "stdout",
          "text": [
            "[Fold 1] Epoch 10/15 Step 50/81 Loss 0.1055\n"
          ]
        },
        {
          "output_type": "stream",
          "name": "stdout",
          "text": [
            "[Fold 1] Epoch 10/15 Step 81/81 Loss 0.1053\n"
          ]
        },
        {
          "output_type": "stream",
          "name": "stdout",
          "text": [
            "[Fold 1] Epoch 10 val mean AUC: 0.93856 | per-class: healthy:0.9821, multiple_diseases:0.8239, rust:0.9981, scab:0.9501\n"
          ]
        },
        {
          "output_type": "stream",
          "name": "stdout",
          "text": [
            "[Fold 1] New best AUC 0.93856 saved -> checkpoints/tf_efficientnet_b4_ns_fold1.pt\n"
          ]
        },
        {
          "output_type": "stream",
          "name": "stdout",
          "text": [
            "[Fold 1] Epoch 10 time: 19.4s\n"
          ]
        },
        {
          "output_type": "stream",
          "name": "stderr",
          "text": [
            "/tmp/ipykernel_214/3464310631.py:50: FutureWarning: `torch.cuda.amp.autocast(args...)` is deprecated. Please use `torch.amp.autocast('cuda', args...)` instead.\n  with torch.cuda.amp.autocast(enabled=(DEVICE=='cuda')):\n"
          ]
        },
        {
          "output_type": "stream",
          "name": "stdout",
          "text": [
            "[Fold 1] Epoch 11/15 Step 50/81 Loss 0.1035\n"
          ]
        },
        {
          "output_type": "stream",
          "name": "stdout",
          "text": [
            "[Fold 1] Epoch 11/15 Step 81/81 Loss 0.1035\n"
          ]
        },
        {
          "output_type": "stream",
          "name": "stdout",
          "text": [
            "[Fold 1] Epoch 11 val mean AUC: 0.95076 | per-class: healthy:0.9892, multiple_diseases:0.8481, rust:0.9984, scab:0.9673\n"
          ]
        },
        {
          "output_type": "stream",
          "name": "stdout",
          "text": [
            "[Fold 1] New best AUC 0.95076 saved -> checkpoints/tf_efficientnet_b4_ns_fold1.pt\n"
          ]
        },
        {
          "output_type": "stream",
          "name": "stdout",
          "text": [
            "[Fold 1] Epoch 11 time: 19.1s\n"
          ]
        },
        {
          "output_type": "stream",
          "name": "stderr",
          "text": [
            "/tmp/ipykernel_214/3464310631.py:50: FutureWarning: `torch.cuda.amp.autocast(args...)` is deprecated. Please use `torch.amp.autocast('cuda', args...)` instead.\n  with torch.cuda.amp.autocast(enabled=(DEVICE=='cuda')):\n"
          ]
        },
        {
          "output_type": "stream",
          "name": "stdout",
          "text": [
            "[Fold 1] Epoch 12/15 Step 50/81 Loss 0.1041\n"
          ]
        },
        {
          "output_type": "stream",
          "name": "stdout",
          "text": [
            "[Fold 1] Epoch 12/15 Step 81/81 Loss 0.1032\n"
          ]
        },
        {
          "output_type": "stream",
          "name": "stdout",
          "text": [
            "[Fold 1] Epoch 12 val mean AUC: 0.95958 | per-class: healthy:0.9935, multiple_diseases:0.8691, rust:0.9986, scab:0.9772\n"
          ]
        },
        {
          "output_type": "stream",
          "name": "stdout",
          "text": [
            "[Fold 1] New best AUC 0.95958 saved -> checkpoints/tf_efficientnet_b4_ns_fold1.pt\n"
          ]
        },
        {
          "output_type": "stream",
          "name": "stdout",
          "text": [
            "[Fold 1] Epoch 12 time: 19.9s\n"
          ]
        },
        {
          "output_type": "stream",
          "name": "stderr",
          "text": [
            "/tmp/ipykernel_214/3464310631.py:50: FutureWarning: `torch.cuda.amp.autocast(args...)` is deprecated. Please use `torch.amp.autocast('cuda', args...)` instead.\n  with torch.cuda.amp.autocast(enabled=(DEVICE=='cuda')):\n"
          ]
        },
        {
          "output_type": "stream",
          "name": "stdout",
          "text": [
            "[Fold 1] Epoch 13/15 Step 50/81 Loss 0.1022\n"
          ]
        },
        {
          "output_type": "stream",
          "name": "stdout",
          "text": [
            "[Fold 1] Epoch 13/15 Step 81/81 Loss 0.1021\n"
          ]
        },
        {
          "output_type": "stream",
          "name": "stdout",
          "text": [
            "[Fold 1] Epoch 13 val mean AUC: 0.96562 | per-class: healthy:0.9954, multiple_diseases:0.8846, rust:0.9988, scab:0.9837\n"
          ]
        },
        {
          "output_type": "stream",
          "name": "stdout",
          "text": [
            "[Fold 1] New best AUC 0.96562 saved -> checkpoints/tf_efficientnet_b4_ns_fold1.pt\n"
          ]
        },
        {
          "output_type": "stream",
          "name": "stdout",
          "text": [
            "[Fold 1] Epoch 13 time: 19.2s\n"
          ]
        },
        {
          "output_type": "stream",
          "name": "stderr",
          "text": [
            "/tmp/ipykernel_214/3464310631.py:50: FutureWarning: `torch.cuda.amp.autocast(args...)` is deprecated. Please use `torch.amp.autocast('cuda', args...)` instead.\n  with torch.cuda.amp.autocast(enabled=(DEVICE=='cuda')):\n"
          ]
        },
        {
          "output_type": "stream",
          "name": "stdout",
          "text": [
            "[Fold 1] Epoch 14/15 Step 50/81 Loss 0.1019\n"
          ]
        },
        {
          "output_type": "stream",
          "name": "stdout",
          "text": [
            "[Fold 1] Epoch 14/15 Step 81/81 Loss 0.1016\n"
          ]
        },
        {
          "output_type": "stream",
          "name": "stdout",
          "text": [
            "[Fold 1] Epoch 14 val mean AUC: 0.96916 | per-class: healthy:0.9964, multiple_diseases:0.8943, rust:0.9988, scab:0.9872\n"
          ]
        },
        {
          "output_type": "stream",
          "name": "stdout",
          "text": [
            "[Fold 1] New best AUC 0.96916 saved -> checkpoints/tf_efficientnet_b4_ns_fold1.pt\n"
          ]
        },
        {
          "output_type": "stream",
          "name": "stdout",
          "text": [
            "[Fold 1] Epoch 14 time: 19.1s\n"
          ]
        },
        {
          "output_type": "stream",
          "name": "stderr",
          "text": [
            "/tmp/ipykernel_214/3464310631.py:50: FutureWarning: `torch.cuda.amp.autocast(args...)` is deprecated. Please use `torch.amp.autocast('cuda', args...)` instead.\n  with torch.cuda.amp.autocast(enabled=(DEVICE=='cuda')):\n"
          ]
        },
        {
          "output_type": "stream",
          "name": "stdout",
          "text": [
            "[Fold 1] Epoch 15/15 Step 50/81 Loss 0.1026\n"
          ]
        },
        {
          "output_type": "stream",
          "name": "stdout",
          "text": [
            "[Fold 1] Epoch 15/15 Step 81/81 Loss 0.1021\n"
          ]
        },
        {
          "output_type": "stream",
          "name": "stdout",
          "text": [
            "[Fold 1] Epoch 15 val mean AUC: 0.97116 | per-class: healthy:0.9973, multiple_diseases:0.8992, rust:0.9988, scab:0.9893\n"
          ]
        },
        {
          "output_type": "stream",
          "name": "stdout",
          "text": [
            "[Fold 1] New best AUC 0.97116 saved -> checkpoints/tf_efficientnet_b4_ns_fold1.pt\n"
          ]
        },
        {
          "output_type": "stream",
          "name": "stdout",
          "text": [
            "[Fold 1] Epoch 15 time: 19.7s\n"
          ]
        },
        {
          "output_type": "stream",
          "name": "stdout",
          "text": [
            "[Fold 1] Training done in 4.9 min, best AUC 0.97116\n"
          ]
        },
        {
          "output_type": "stream",
          "name": "stdout",
          "text": [
            "\n===== Fold 2/4 - start =====\n"
          ]
        },
        {
          "output_type": "stream",
          "name": "stderr",
          "text": [
            "/app/.pip-target/albumentations/core/validation.py:114: UserWarning: ShiftScaleRotate is a special case of Affine transform. Please use Affine transform instead.\n  original_init(self, **validated_kwargs)\n/app/.pip-target/timm/models/_factory.py:138: UserWarning: Mapping deprecated model name tf_efficientnet_b4_ns to current tf_efficientnet_b4.ns_jft_in1k.\n  model = create_fn(\n"
          ]
        },
        {
          "output_type": "stream",
          "name": "stderr",
          "text": [
            "/tmp/ipykernel_214/3464310631.py:35: FutureWarning: `torch.cuda.amp.GradScaler(args...)` is deprecated. Please use `torch.amp.GradScaler('cuda', args...)` instead.\n  scaler = torch.cuda.amp.GradScaler(enabled=(DEVICE=='cuda'))\n"
          ]
        },
        {
          "output_type": "stream",
          "name": "stderr",
          "text": [
            "/tmp/ipykernel_214/3464310631.py:50: FutureWarning: `torch.cuda.amp.autocast(args...)` is deprecated. Please use `torch.amp.autocast('cuda', args...)` instead.\n  with torch.cuda.amp.autocast(enabled=(DEVICE=='cuda')):\n"
          ]
        },
        {
          "output_type": "stream",
          "name": "stdout",
          "text": [
            "[Fold 2] Epoch 1/15 Step 50/81 Loss 0.6719\n"
          ]
        },
        {
          "output_type": "stream",
          "name": "stdout",
          "text": [
            "[Fold 2] Epoch 1/15 Step 81/81 Loss 0.5326\n"
          ]
        },
        {
          "output_type": "stream",
          "name": "stdout",
          "text": [
            "[Fold 2] Epoch 1 val mean AUC: 0.56251 | per-class: healthy:0.6348, multiple_diseases:0.5122, rust:0.5569, scab:0.5462\n[Fold 2] New best AUC 0.56251 saved -> checkpoints/tf_efficientnet_b4_ns_fold2.pt\n"
          ]
        },
        {
          "output_type": "stream",
          "name": "stdout",
          "text": [
            "[Fold 2] Epoch 1 time: 20.0s\n"
          ]
        },
        {
          "output_type": "stream",
          "name": "stderr",
          "text": [
            "/tmp/ipykernel_214/3464310631.py:50: FutureWarning: `torch.cuda.amp.autocast(args...)` is deprecated. Please use `torch.amp.autocast('cuda', args...)` instead.\n  with torch.cuda.amp.autocast(enabled=(DEVICE=='cuda')):\n"
          ]
        },
        {
          "output_type": "stream",
          "name": "stdout",
          "text": [
            "[Fold 2] Epoch 2/15 Step 50/81 Loss 0.2467\n"
          ]
        },
        {
          "output_type": "stream",
          "name": "stdout",
          "text": [
            "[Fold 2] Epoch 2/15 Step 81/81 Loss 0.2347\n"
          ]
        },
        {
          "output_type": "stream",
          "name": "stdout",
          "text": [
            "[Fold 2] Epoch 2 val mean AUC: 0.62318 | per-class: healthy:0.7044, multiple_diseases:0.5179, rust:0.6608, scab:0.6097\n"
          ]
        },
        {
          "output_type": "stream",
          "name": "stdout",
          "text": [
            "[Fold 2] New best AUC 0.62318 saved -> checkpoints/tf_efficientnet_b4_ns_fold2.pt\n"
          ]
        },
        {
          "output_type": "stream",
          "name": "stdout",
          "text": [
            "[Fold 2] Epoch 2 time: 19.6s\n"
          ]
        },
        {
          "output_type": "stream",
          "name": "stderr",
          "text": [
            "/tmp/ipykernel_214/3464310631.py:50: FutureWarning: `torch.cuda.amp.autocast(args...)` is deprecated. Please use `torch.amp.autocast('cuda', args...)` instead.\n  with torch.cuda.amp.autocast(enabled=(DEVICE=='cuda')):\n"
          ]
        },
        {
          "output_type": "stream",
          "name": "stdout",
          "text": [
            "[Fold 2] Epoch 3/15 Step 50/81 Loss 0.1777\n"
          ]
        },
        {
          "output_type": "stream",
          "name": "stdout",
          "text": [
            "[Fold 2] Epoch 3/15 Step 81/81 Loss 0.1748\n"
          ]
        },
        {
          "output_type": "stream",
          "name": "stdout",
          "text": [
            "[Fold 2] Epoch 3 val mean AUC: 0.69342 | per-class: healthy:0.7858, multiple_diseases:0.5249, rust:0.7683, scab:0.6947\n"
          ]
        },
        {
          "output_type": "stream",
          "name": "stdout",
          "text": [
            "[Fold 2] New best AUC 0.69342 saved -> checkpoints/tf_efficientnet_b4_ns_fold2.pt\n"
          ]
        },
        {
          "output_type": "stream",
          "name": "stdout",
          "text": [
            "[Fold 2] Epoch 3 time: 19.9s\n"
          ]
        },
        {
          "output_type": "stream",
          "name": "stderr",
          "text": [
            "/tmp/ipykernel_214/3464310631.py:50: FutureWarning: `torch.cuda.amp.autocast(args...)` is deprecated. Please use `torch.amp.autocast('cuda', args...)` instead.\n  with torch.cuda.amp.autocast(enabled=(DEVICE=='cuda')):\n"
          ]
        },
        {
          "output_type": "stream",
          "name": "stdout",
          "text": [
            "[Fold 2] Epoch 4/15 Step 50/81 Loss 0.1381\n"
          ]
        },
        {
          "output_type": "stream",
          "name": "stdout",
          "text": [
            "[Fold 2] Epoch 4/15 Step 81/81 Loss 0.1383\n"
          ]
        },
        {
          "output_type": "stream",
          "name": "stdout",
          "text": [
            "[Fold 2] Epoch 4 val mean AUC: 0.75767 | per-class: healthy:0.8502, multiple_diseases:0.5451, rust:0.8548, scab:0.7806\n"
          ]
        },
        {
          "output_type": "stream",
          "name": "stdout",
          "text": [
            "[Fold 2] New best AUC 0.75767 saved -> checkpoints/tf_efficientnet_b4_ns_fold2.pt\n"
          ]
        },
        {
          "output_type": "stream",
          "name": "stdout",
          "text": [
            "[Fold 2] Epoch 4 time: 19.6s\n"
          ]
        },
        {
          "output_type": "stream",
          "name": "stderr",
          "text": [
            "/tmp/ipykernel_214/3464310631.py:50: FutureWarning: `torch.cuda.amp.autocast(args...)` is deprecated. Please use `torch.amp.autocast('cuda', args...)` instead.\n  with torch.cuda.amp.autocast(enabled=(DEVICE=='cuda')):\n"
          ]
        },
        {
          "output_type": "stream",
          "name": "stdout",
          "text": [
            "[Fold 2] Epoch 5/15 Step 50/81 Loss 0.1331\n"
          ]
        },
        {
          "output_type": "stream",
          "name": "stdout",
          "text": [
            "[Fold 2] Epoch 5/15 Step 81/81 Loss 0.1353\n"
          ]
        },
        {
          "output_type": "stream",
          "name": "stdout",
          "text": [
            "[Fold 2] Epoch 5 val mean AUC: 0.81030 | per-class: healthy:0.9015, multiple_diseases:0.5671, rust:0.9181, scab:0.8546\n"
          ]
        },
        {
          "output_type": "stream",
          "name": "stdout",
          "text": [
            "[Fold 2] New best AUC 0.81030 saved -> checkpoints/tf_efficientnet_b4_ns_fold2.pt\n"
          ]
        },
        {
          "output_type": "stream",
          "name": "stdout",
          "text": [
            "[Fold 2] Epoch 5 time: 19.7s\n"
          ]
        },
        {
          "output_type": "stream",
          "name": "stderr",
          "text": [
            "/tmp/ipykernel_214/3464310631.py:50: FutureWarning: `torch.cuda.amp.autocast(args...)` is deprecated. Please use `torch.amp.autocast('cuda', args...)` instead.\n  with torch.cuda.amp.autocast(enabled=(DEVICE=='cuda')):\n"
          ]
        },
        {
          "output_type": "stream",
          "name": "stdout",
          "text": [
            "[Fold 2] Epoch 6/15 Step 50/81 Loss 0.1231\n"
          ]
        },
        {
          "output_type": "stream",
          "name": "stdout",
          "text": [
            "[Fold 2] Epoch 6/15 Step 81/81 Loss 0.1210\n"
          ]
        },
        {
          "output_type": "stream",
          "name": "stdout",
          "text": [
            "[Fold 2] Epoch 6 val mean AUC: 0.84665 | per-class: healthy:0.9369, multiple_diseases:0.5950, rust:0.9520, scab:0.9026\n"
          ]
        },
        {
          "output_type": "stream",
          "name": "stdout",
          "text": [
            "[Fold 2] New best AUC 0.84665 saved -> checkpoints/tf_efficientnet_b4_ns_fold2.pt\n"
          ]
        },
        {
          "output_type": "stream",
          "name": "stdout",
          "text": [
            "[Fold 2] Epoch 6 time: 19.9s\n"
          ]
        },
        {
          "output_type": "stream",
          "name": "stderr",
          "text": [
            "/tmp/ipykernel_214/3464310631.py:50: FutureWarning: `torch.cuda.amp.autocast(args...)` is deprecated. Please use `torch.amp.autocast('cuda', args...)` instead.\n  with torch.cuda.amp.autocast(enabled=(DEVICE=='cuda')):\n"
          ]
        },
        {
          "output_type": "stream",
          "name": "stdout",
          "text": [
            "[Fold 2] Epoch 7/15 Step 50/81 Loss 0.1103\n"
          ]
        },
        {
          "output_type": "stream",
          "name": "stdout",
          "text": [
            "[Fold 2] Epoch 7/15 Step 81/81 Loss 0.1133\n"
          ]
        },
        {
          "output_type": "stream",
          "name": "stdout",
          "text": [
            "[Fold 2] Epoch 7 val mean AUC: 0.87384 | per-class: healthy:0.9612, multiple_diseases:0.6276, rust:0.9703, scab:0.9363\n"
          ]
        },
        {
          "output_type": "stream",
          "name": "stdout",
          "text": [
            "[Fold 2] New best AUC 0.87384 saved -> checkpoints/tf_efficientnet_b4_ns_fold2.pt\n"
          ]
        },
        {
          "output_type": "stream",
          "name": "stdout",
          "text": [
            "[Fold 2] Epoch 7 time: 20.3s\n"
          ]
        },
        {
          "output_type": "stream",
          "name": "stderr",
          "text": [
            "/tmp/ipykernel_214/3464310631.py:50: FutureWarning: `torch.cuda.amp.autocast(args...)` is deprecated. Please use `torch.amp.autocast('cuda', args...)` instead.\n  with torch.cuda.amp.autocast(enabled=(DEVICE=='cuda')):\n"
          ]
        },
        {
          "output_type": "stream",
          "name": "stdout",
          "text": [
            "[Fold 2] Epoch 8/15 Step 50/81 Loss 0.1104\n"
          ]
        },
        {
          "output_type": "stream",
          "name": "stdout",
          "text": [
            "[Fold 2] Epoch 8/15 Step 81/81 Loss 0.1107\n"
          ]
        },
        {
          "output_type": "stream",
          "name": "stdout",
          "text": [
            "[Fold 2] Epoch 8 val mean AUC: 0.89598 | per-class: healthy:0.9767, multiple_diseases:0.6684, rust:0.9799, scab:0.9589\n"
          ]
        },
        {
          "output_type": "stream",
          "name": "stdout",
          "text": [
            "[Fold 2] New best AUC 0.89598 saved -> checkpoints/tf_efficientnet_b4_ns_fold2.pt\n"
          ]
        },
        {
          "output_type": "stream",
          "name": "stdout",
          "text": [
            "[Fold 2] Epoch 8 time: 19.7s\n"
          ]
        },
        {
          "output_type": "stream",
          "name": "stderr",
          "text": [
            "/tmp/ipykernel_214/3464310631.py:50: FutureWarning: `torch.cuda.amp.autocast(args...)` is deprecated. Please use `torch.amp.autocast('cuda', args...)` instead.\n  with torch.cuda.amp.autocast(enabled=(DEVICE=='cuda')):\n"
          ]
        },
        {
          "output_type": "stream",
          "name": "stdout",
          "text": [
            "[Fold 2] Epoch 9/15 Step 50/81 Loss 0.1142\n"
          ]
        },
        {
          "output_type": "stream",
          "name": "stdout",
          "text": [
            "[Fold 2] Epoch 9/15 Step 81/81 Loss 0.1101\n"
          ]
        },
        {
          "output_type": "stream",
          "name": "stdout",
          "text": [
            "[Fold 2] Epoch 9 val mean AUC: 0.91424 | per-class: healthy:0.9856, multiple_diseases:0.7117, rust:0.9857, scab:0.9739\n"
          ]
        },
        {
          "output_type": "stream",
          "name": "stdout",
          "text": [
            "[Fold 2] New best AUC 0.91424 saved -> checkpoints/tf_efficientnet_b4_ns_fold2.pt\n"
          ]
        },
        {
          "output_type": "stream",
          "name": "stdout",
          "text": [
            "[Fold 2] Epoch 9 time: 19.5s\n"
          ]
        },
        {
          "output_type": "stream",
          "name": "stderr",
          "text": [
            "/tmp/ipykernel_214/3464310631.py:50: FutureWarning: `torch.cuda.amp.autocast(args...)` is deprecated. Please use `torch.amp.autocast('cuda', args...)` instead.\n  with torch.cuda.amp.autocast(enabled=(DEVICE=='cuda')):\n"
          ]
        },
        {
          "output_type": "stream",
          "name": "stdout",
          "text": [
            "[Fold 2] Epoch 10/15 Step 50/81 Loss 0.1052\n"
          ]
        },
        {
          "output_type": "stream",
          "name": "stdout",
          "text": [
            "[Fold 2] Epoch 10/15 Step 81/81 Loss 0.1049\n"
          ]
        },
        {
          "output_type": "stream",
          "name": "stdout",
          "text": [
            "[Fold 2] Epoch 10 val mean AUC: 0.93092 | per-class: healthy:0.9920, multiple_diseases:0.7604, rust:0.9887, scab:0.9827\n"
          ]
        },
        {
          "output_type": "stream",
          "name": "stdout",
          "text": [
            "[Fold 2] New best AUC 0.93092 saved -> checkpoints/tf_efficientnet_b4_ns_fold2.pt\n"
          ]
        },
        {
          "output_type": "stream",
          "name": "stdout",
          "text": [
            "[Fold 2] Epoch 10 time: 20.0s\n"
          ]
        },
        {
          "output_type": "stream",
          "name": "stderr",
          "text": [
            "/tmp/ipykernel_214/3464310631.py:50: FutureWarning: `torch.cuda.amp.autocast(args...)` is deprecated. Please use `torch.amp.autocast('cuda', args...)` instead.\n  with torch.cuda.amp.autocast(enabled=(DEVICE=='cuda')):\n"
          ]
        },
        {
          "output_type": "stream",
          "name": "stdout",
          "text": [
            "[Fold 2] Epoch 11/15 Step 50/81 Loss 0.1054\n"
          ]
        },
        {
          "output_type": "stream",
          "name": "stdout",
          "text": [
            "[Fold 2] Epoch 11/15 Step 81/81 Loss 0.1044\n"
          ]
        },
        {
          "output_type": "stream",
          "name": "stdout",
          "text": [
            "[Fold 2] Epoch 11 val mean AUC: 0.94455 | per-class: healthy:0.9950, multiple_diseases:0.8048, rust:0.9906, scab:0.9878\n"
          ]
        },
        {
          "output_type": "stream",
          "name": "stdout",
          "text": [
            "[Fold 2] New best AUC 0.94455 saved -> checkpoints/tf_efficientnet_b4_ns_fold2.pt\n"
          ]
        },
        {
          "output_type": "stream",
          "name": "stdout",
          "text": [
            "[Fold 2] Epoch 11 time: 19.6s\n"
          ]
        },
        {
          "output_type": "stream",
          "name": "stderr",
          "text": [
            "/tmp/ipykernel_214/3464310631.py:50: FutureWarning: `torch.cuda.amp.autocast(args...)` is deprecated. Please use `torch.amp.autocast('cuda', args...)` instead.\n  with torch.cuda.amp.autocast(enabled=(DEVICE=='cuda')):\n"
          ]
        },
        {
          "output_type": "stream",
          "name": "stdout",
          "text": [
            "[Fold 2] Epoch 12/15 Step 50/81 Loss 0.1060\n"
          ]
        },
        {
          "output_type": "stream",
          "name": "stdout",
          "text": [
            "[Fold 2] Epoch 12/15 Step 81/81 Loss 0.1053\n"
          ]
        },
        {
          "output_type": "stream",
          "name": "stdout",
          "text": [
            "[Fold 2] Epoch 12 val mean AUC: 0.95409 | per-class: healthy:0.9970, multiple_diseases:0.8364, rust:0.9917, scab:0.9912\n"
          ]
        },
        {
          "output_type": "stream",
          "name": "stdout",
          "text": [
            "[Fold 2] New best AUC 0.95409 saved -> checkpoints/tf_efficientnet_b4_ns_fold2.pt\n"
          ]
        },
        {
          "output_type": "stream",
          "name": "stdout",
          "text": [
            "[Fold 2] Epoch 12 time: 19.8s\n"
          ]
        },
        {
          "output_type": "stream",
          "name": "stderr",
          "text": [
            "/tmp/ipykernel_214/3464310631.py:50: FutureWarning: `torch.cuda.amp.autocast(args...)` is deprecated. Please use `torch.amp.autocast('cuda', args...)` instead.\n  with torch.cuda.amp.autocast(enabled=(DEVICE=='cuda')):\n"
          ]
        },
        {
          "output_type": "stream",
          "name": "stdout",
          "text": [
            "[Fold 2] Epoch 13/15 Step 50/81 Loss 0.1040\n"
          ]
        },
        {
          "output_type": "stream",
          "name": "stdout",
          "text": [
            "[Fold 2] Epoch 13/15 Step 81/81 Loss 0.1040\n"
          ]
        },
        {
          "output_type": "stream",
          "name": "stdout",
          "text": [
            "[Fold 2] Epoch 13 val mean AUC: 0.95997 | per-class: healthy:0.9980, multiple_diseases:0.8570, rust:0.9917, scab:0.9931\n"
          ]
        },
        {
          "output_type": "stream",
          "name": "stdout",
          "text": [
            "[Fold 2] New best AUC 0.95997 saved -> checkpoints/tf_efficientnet_b4_ns_fold2.pt\n"
          ]
        },
        {
          "output_type": "stream",
          "name": "stdout",
          "text": [
            "[Fold 2] Epoch 13 time: 19.7s\n"
          ]
        },
        {
          "output_type": "stream",
          "name": "stderr",
          "text": [
            "/tmp/ipykernel_214/3464310631.py:50: FutureWarning: `torch.cuda.amp.autocast(args...)` is deprecated. Please use `torch.amp.autocast('cuda', args...)` instead.\n  with torch.cuda.amp.autocast(enabled=(DEVICE=='cuda')):\n"
          ]
        },
        {
          "output_type": "stream",
          "name": "stdout",
          "text": [
            "[Fold 2] Epoch 14/15 Step 50/81 Loss 0.1034\n"
          ]
        },
        {
          "output_type": "stream",
          "name": "stdout",
          "text": [
            "[Fold 2] Epoch 14/15 Step 81/81 Loss 0.1027\n"
          ]
        },
        {
          "output_type": "stream",
          "name": "stdout",
          "text": [
            "[Fold 2] Epoch 14 val mean AUC: 0.96452 | per-class: healthy:0.9988, multiple_diseases:0.8729, rust:0.9923, scab:0.9941\n"
          ]
        },
        {
          "output_type": "stream",
          "name": "stdout",
          "text": [
            "[Fold 2] New best AUC 0.96452 saved -> checkpoints/tf_efficientnet_b4_ns_fold2.pt\n"
          ]
        },
        {
          "output_type": "stream",
          "name": "stdout",
          "text": [
            "[Fold 2] Epoch 14 time: 19.6s\n"
          ]
        },
        {
          "output_type": "stream",
          "name": "stderr",
          "text": [
            "/tmp/ipykernel_214/3464310631.py:50: FutureWarning: `torch.cuda.amp.autocast(args...)` is deprecated. Please use `torch.amp.autocast('cuda', args...)` instead.\n  with torch.cuda.amp.autocast(enabled=(DEVICE=='cuda')):\n"
          ]
        },
        {
          "output_type": "stream",
          "name": "stdout",
          "text": [
            "[Fold 2] Epoch 15/15 Step 50/81 Loss 0.1035\n"
          ]
        },
        {
          "output_type": "stream",
          "name": "stdout",
          "text": [
            "[Fold 2] Epoch 15/15 Step 81/81 Loss 0.1035\n"
          ]
        },
        {
          "output_type": "stream",
          "name": "stdout",
          "text": [
            "[Fold 2] Epoch 15 val mean AUC: 0.96592 | per-class: healthy:0.9991, multiple_diseases:0.8771, rust:0.9927, scab:0.9948\n"
          ]
        },
        {
          "output_type": "stream",
          "name": "stdout",
          "text": [
            "[Fold 2] New best AUC 0.96592 saved -> checkpoints/tf_efficientnet_b4_ns_fold2.pt\n"
          ]
        },
        {
          "output_type": "stream",
          "name": "stdout",
          "text": [
            "[Fold 2] Epoch 15 time: 19.7s\n"
          ]
        },
        {
          "output_type": "stream",
          "name": "stdout",
          "text": [
            "[Fold 2] Training done in 4.9 min, best AUC 0.96592\n"
          ]
        },
        {
          "output_type": "stream",
          "name": "stdout",
          "text": [
            "\n===== Fold 3/4 - start =====\n"
          ]
        },
        {
          "output_type": "stream",
          "name": "stderr",
          "text": [
            "/app/.pip-target/albumentations/core/validation.py:114: UserWarning: ShiftScaleRotate is a special case of Affine transform. Please use Affine transform instead.\n  original_init(self, **validated_kwargs)\n/app/.pip-target/timm/models/_factory.py:138: UserWarning: Mapping deprecated model name tf_efficientnet_b4_ns to current tf_efficientnet_b4.ns_jft_in1k.\n  model = create_fn(\n"
          ]
        },
        {
          "output_type": "stream",
          "name": "stderr",
          "text": [
            "/tmp/ipykernel_214/3464310631.py:35: FutureWarning: `torch.cuda.amp.GradScaler(args...)` is deprecated. Please use `torch.amp.GradScaler('cuda', args...)` instead.\n  scaler = torch.cuda.amp.GradScaler(enabled=(DEVICE=='cuda'))\n"
          ]
        },
        {
          "output_type": "stream",
          "name": "stderr",
          "text": [
            "/tmp/ipykernel_214/3464310631.py:50: FutureWarning: `torch.cuda.amp.autocast(args...)` is deprecated. Please use `torch.amp.autocast('cuda', args...)` instead.\n  with torch.cuda.amp.autocast(enabled=(DEVICE=='cuda')):\n"
          ]
        },
        {
          "output_type": "stream",
          "name": "stdout",
          "text": [
            "[Fold 3] Epoch 1/15 Step 50/81 Loss 0.5978\n"
          ]
        },
        {
          "output_type": "stream",
          "name": "stdout",
          "text": [
            "[Fold 3] Epoch 1/15 Step 81/81 Loss 0.4924\n"
          ]
        },
        {
          "output_type": "stream",
          "name": "stdout",
          "text": [
            "[Fold 3] Epoch 1 val mean AUC: 0.54994 | per-class: healthy:0.5159, multiple_diseases:0.6662, rust:0.6495, scab:0.3681\n"
          ]
        },
        {
          "output_type": "stream",
          "name": "stdout",
          "text": [
            "[Fold 3] New best AUC 0.54994 saved -> checkpoints/tf_efficientnet_b4_ns_fold3.pt\n"
          ]
        },
        {
          "output_type": "stream",
          "name": "stdout",
          "text": [
            "[Fold 3] Epoch 1 time: 19.0s\n"
          ]
        },
        {
          "output_type": "stream",
          "name": "stderr",
          "text": [
            "/tmp/ipykernel_214/3464310631.py:50: FutureWarning: `torch.cuda.amp.autocast(args...)` is deprecated. Please use `torch.amp.autocast('cuda', args...)` instead.\n  with torch.cuda.amp.autocast(enabled=(DEVICE=='cuda')):\n"
          ]
        },
        {
          "output_type": "stream",
          "name": "stdout",
          "text": [
            "[Fold 3] Epoch 2/15 Step 50/81 Loss 0.2257\n"
          ]
        },
        {
          "output_type": "stream",
          "name": "stdout",
          "text": [
            "[Fold 3] Epoch 2/15 Step 81/81 Loss 0.2166\n"
          ]
        },
        {
          "output_type": "stream",
          "name": "stdout",
          "text": [
            "[Fold 3] Epoch 2 val mean AUC: 0.60402 | per-class: healthy:0.5829, multiple_diseases:0.6725, rust:0.7439, scab:0.4168\n"
          ]
        },
        {
          "output_type": "stream",
          "name": "stdout",
          "text": [
            "[Fold 3] New best AUC 0.60402 saved -> checkpoints/tf_efficientnet_b4_ns_fold3.pt\n"
          ]
        },
        {
          "output_type": "stream",
          "name": "stdout",
          "text": [
            "[Fold 3] Epoch 2 time: 19.1s\n"
          ]
        },
        {
          "output_type": "stream",
          "name": "stderr",
          "text": [
            "/tmp/ipykernel_214/3464310631.py:50: FutureWarning: `torch.cuda.amp.autocast(args...)` is deprecated. Please use `torch.amp.autocast('cuda', args...)` instead.\n  with torch.cuda.amp.autocast(enabled=(DEVICE=='cuda')):\n"
          ]
        },
        {
          "output_type": "stream",
          "name": "stdout",
          "text": [
            "[Fold 3] Epoch 3/15 Step 50/81 Loss 0.1719\n"
          ]
        },
        {
          "output_type": "stream",
          "name": "stdout",
          "text": [
            "[Fold 3] Epoch 3/15 Step 81/81 Loss 0.1716\n"
          ]
        },
        {
          "output_type": "stream",
          "name": "stdout",
          "text": [
            "[Fold 3] Epoch 3 val mean AUC: 0.66495 | per-class: healthy:0.6538, multiple_diseases:0.6824, rust:0.8428, scab:0.4808\n"
          ]
        },
        {
          "output_type": "stream",
          "name": "stdout",
          "text": [
            "[Fold 3] New best AUC 0.66495 saved -> checkpoints/tf_efficientnet_b4_ns_fold3.pt\n"
          ]
        },
        {
          "output_type": "stream",
          "name": "stdout",
          "text": [
            "[Fold 3] Epoch 3 time: 19.2s\n"
          ]
        },
        {
          "output_type": "stream",
          "name": "stderr",
          "text": [
            "/tmp/ipykernel_214/3464310631.py:50: FutureWarning: `torch.cuda.amp.autocast(args...)` is deprecated. Please use `torch.amp.autocast('cuda', args...)` instead.\n  with torch.cuda.amp.autocast(enabled=(DEVICE=='cuda')):\n"
          ]
        },
        {
          "output_type": "stream",
          "name": "stdout",
          "text": [
            "[Fold 3] Epoch 4/15 Step 50/81 Loss 0.1512\n"
          ]
        },
        {
          "output_type": "stream",
          "name": "stdout",
          "text": [
            "[Fold 3] Epoch 4/15 Step 81/81 Loss 0.1463\n"
          ]
        },
        {
          "output_type": "stream",
          "name": "stdout",
          "text": [
            "[Fold 3] Epoch 4 val mean AUC: 0.72680 | per-class: healthy:0.7327, multiple_diseases:0.6875, rust:0.9116, scab:0.5754\n"
          ]
        },
        {
          "output_type": "stream",
          "name": "stdout",
          "text": [
            "[Fold 3] New best AUC 0.72680 saved -> checkpoints/tf_efficientnet_b4_ns_fold3.pt\n"
          ]
        },
        {
          "output_type": "stream",
          "name": "stdout",
          "text": [
            "[Fold 3] Epoch 4 time: 19.1s\n"
          ]
        },
        {
          "output_type": "stream",
          "name": "stderr",
          "text": [
            "/tmp/ipykernel_214/3464310631.py:50: FutureWarning: `torch.cuda.amp.autocast(args...)` is deprecated. Please use `torch.amp.autocast('cuda', args...)` instead.\n  with torch.cuda.amp.autocast(enabled=(DEVICE=='cuda')):\n"
          ]
        },
        {
          "output_type": "stream",
          "name": "stdout",
          "text": [
            "[Fold 3] Epoch 5/15 Step 50/81 Loss 0.1235\n"
          ]
        },
        {
          "output_type": "stream",
          "name": "stdout",
          "text": [
            "[Fold 3] Epoch 5/15 Step 81/81 Loss 0.1281\n"
          ]
        },
        {
          "output_type": "stream",
          "name": "stdout",
          "text": [
            "[Fold 3] Epoch 5 val mean AUC: 0.78358 | per-class: healthy:0.8102, multiple_diseases:0.6879, rust:0.9483, scab:0.6879\n"
          ]
        },
        {
          "output_type": "stream",
          "name": "stdout",
          "text": [
            "[Fold 3] New best AUC 0.78358 saved -> checkpoints/tf_efficientnet_b4_ns_fold3.pt\n"
          ]
        },
        {
          "output_type": "stream",
          "name": "stdout",
          "text": [
            "[Fold 3] Epoch 5 time: 18.9s\n"
          ]
        },
        {
          "output_type": "stream",
          "name": "stderr",
          "text": [
            "/tmp/ipykernel_214/3464310631.py:50: FutureWarning: `torch.cuda.amp.autocast(args...)` is deprecated. Please use `torch.amp.autocast('cuda', args...)` instead.\n  with torch.cuda.amp.autocast(enabled=(DEVICE=='cuda')):\n"
          ]
        },
        {
          "output_type": "stream",
          "name": "stdout",
          "text": [
            "[Fold 3] Epoch 6/15 Step 50/81 Loss 0.1199\n"
          ]
        },
        {
          "output_type": "stream",
          "name": "stdout",
          "text": [
            "[Fold 3] Epoch 6/15 Step 81/81 Loss 0.1215\n"
          ]
        },
        {
          "output_type": "stream",
          "name": "stdout",
          "text": [
            "[Fold 3] Epoch 6 val mean AUC: 0.82597 | per-class: healthy:0.8603, multiple_diseases:0.6890, rust:0.9671, scab:0.7875\n"
          ]
        },
        {
          "output_type": "stream",
          "name": "stdout",
          "text": [
            "[Fold 3] New best AUC 0.82597 saved -> checkpoints/tf_efficientnet_b4_ns_fold3.pt\n"
          ]
        },
        {
          "output_type": "stream",
          "name": "stdout",
          "text": [
            "[Fold 3] Epoch 6 time: 19.5s\n"
          ]
        },
        {
          "output_type": "stream",
          "name": "stderr",
          "text": [
            "/tmp/ipykernel_214/3464310631.py:50: FutureWarning: `torch.cuda.amp.autocast(args...)` is deprecated. Please use `torch.amp.autocast('cuda', args...)` instead.\n  with torch.cuda.amp.autocast(enabled=(DEVICE=='cuda')):\n"
          ]
        },
        {
          "output_type": "stream",
          "name": "stdout",
          "text": [
            "[Fold 3] Epoch 7/15 Step 50/81 Loss 0.1165\n"
          ]
        },
        {
          "output_type": "stream",
          "name": "stdout",
          "text": [
            "[Fold 3] Epoch 7/15 Step 81/81 Loss 0.1153\n"
          ]
        },
        {
          "output_type": "stream",
          "name": "stdout",
          "text": [
            "[Fold 3] Epoch 7 val mean AUC: 0.85949 | per-class: healthy:0.9018, multiple_diseases:0.6958, rust:0.9770, scab:0.8633\n"
          ]
        },
        {
          "output_type": "stream",
          "name": "stdout",
          "text": [
            "[Fold 3] New best AUC 0.85949 saved -> checkpoints/tf_efficientnet_b4_ns_fold3.pt\n"
          ]
        },
        {
          "output_type": "stream",
          "name": "stdout",
          "text": [
            "[Fold 3] Epoch 7 time: 19.0s\n"
          ]
        },
        {
          "output_type": "stream",
          "name": "stderr",
          "text": [
            "/tmp/ipykernel_214/3464310631.py:50: FutureWarning: `torch.cuda.amp.autocast(args...)` is deprecated. Please use `torch.amp.autocast('cuda', args...)` instead.\n  with torch.cuda.amp.autocast(enabled=(DEVICE=='cuda')):\n"
          ]
        },
        {
          "output_type": "stream",
          "name": "stdout",
          "text": [
            "[Fold 3] Epoch 8/15 Step 50/81 Loss 0.1103\n"
          ]
        },
        {
          "output_type": "stream",
          "name": "stdout",
          "text": [
            "[Fold 3] Epoch 8/15 Step 81/81 Loss 0.1103\n"
          ]
        },
        {
          "output_type": "stream",
          "name": "stdout",
          "text": [
            "[Fold 3] Epoch 8 val mean AUC: 0.88391 | per-class: healthy:0.9344, multiple_diseases:0.7019, rust:0.9806, scab:0.9187\n"
          ]
        },
        {
          "output_type": "stream",
          "name": "stdout",
          "text": [
            "[Fold 3] New best AUC 0.88391 saved -> checkpoints/tf_efficientnet_b4_ns_fold3.pt\n"
          ]
        },
        {
          "output_type": "stream",
          "name": "stdout",
          "text": [
            "[Fold 3] Epoch 8 time: 19.2s\n"
          ]
        },
        {
          "output_type": "stream",
          "name": "stderr",
          "text": [
            "/tmp/ipykernel_214/3464310631.py:50: FutureWarning: `torch.cuda.amp.autocast(args...)` is deprecated. Please use `torch.amp.autocast('cuda', args...)` instead.\n  with torch.cuda.amp.autocast(enabled=(DEVICE=='cuda')):\n"
          ]
        },
        {
          "output_type": "stream",
          "name": "stdout",
          "text": [
            "[Fold 3] Epoch 9/15 Step 50/81 Loss 0.1079\n"
          ]
        },
        {
          "output_type": "stream",
          "name": "stdout",
          "text": [
            "[Fold 3] Epoch 9/15 Step 81/81 Loss 0.1084\n"
          ]
        },
        {
          "output_type": "stream",
          "name": "stdout",
          "text": [
            "[Fold 3] Epoch 9 val mean AUC: 0.89946 | per-class: healthy:0.9583, multiple_diseases:0.7099, rust:0.9816, scab:0.9480\n"
          ]
        },
        {
          "output_type": "stream",
          "name": "stdout",
          "text": [
            "[Fold 3] New best AUC 0.89946 saved -> checkpoints/tf_efficientnet_b4_ns_fold3.pt\n"
          ]
        },
        {
          "output_type": "stream",
          "name": "stdout",
          "text": [
            "[Fold 3] Epoch 9 time: 18.9s\n"
          ]
        },
        {
          "output_type": "stream",
          "name": "stderr",
          "text": [
            "/tmp/ipykernel_214/3464310631.py:50: FutureWarning: `torch.cuda.amp.autocast(args...)` is deprecated. Please use `torch.amp.autocast('cuda', args...)` instead.\n  with torch.cuda.amp.autocast(enabled=(DEVICE=='cuda')):\n"
          ]
        },
        {
          "output_type": "stream",
          "name": "stdout",
          "text": [
            "[Fold 3] Epoch 10/15 Step 50/81 Loss 0.1053\n"
          ]
        },
        {
          "output_type": "stream",
          "name": "stdout",
          "text": [
            "[Fold 3] Epoch 10/15 Step 81/81 Loss 0.1059\n"
          ]
        },
        {
          "output_type": "stream",
          "name": "stdout",
          "text": [
            "[Fold 3] Epoch 10 val mean AUC: 0.91062 | per-class: healthy:0.9742, multiple_diseases:0.7197, rust:0.9834, scab:0.9652\n"
          ]
        },
        {
          "output_type": "stream",
          "name": "stdout",
          "text": [
            "[Fold 3] New best AUC 0.91062 saved -> checkpoints/tf_efficientnet_b4_ns_fold3.pt\n"
          ]
        },
        {
          "output_type": "stream",
          "name": "stdout",
          "text": [
            "[Fold 3] Epoch 10 time: 19.3s\n"
          ]
        },
        {
          "output_type": "stream",
          "name": "stderr",
          "text": [
            "/tmp/ipykernel_214/3464310631.py:50: FutureWarning: `torch.cuda.amp.autocast(args...)` is deprecated. Please use `torch.amp.autocast('cuda', args...)` instead.\n  with torch.cuda.amp.autocast(enabled=(DEVICE=='cuda')):\n"
          ]
        },
        {
          "output_type": "stream",
          "name": "stdout",
          "text": [
            "[Fold 3] Epoch 11/15 Step 50/81 Loss 0.1052\n"
          ]
        },
        {
          "output_type": "stream",
          "name": "stdout",
          "text": [
            "[Fold 3] Epoch 11/15 Step 81/81 Loss 0.1046\n"
          ]
        },
        {
          "output_type": "stream",
          "name": "stdout",
          "text": [
            "[Fold 3] Epoch 11 val mean AUC: 0.91925 | per-class: healthy:0.9827, multiple_diseases:0.7330, rust:0.9867, scab:0.9746\n"
          ]
        },
        {
          "output_type": "stream",
          "name": "stdout",
          "text": [
            "[Fold 3] New best AUC 0.91925 saved -> checkpoints/tf_efficientnet_b4_ns_fold3.pt\n"
          ]
        },
        {
          "output_type": "stream",
          "name": "stdout",
          "text": [
            "[Fold 3] Epoch 11 time: 19.0s\n"
          ]
        },
        {
          "output_type": "stream",
          "name": "stderr",
          "text": [
            "/tmp/ipykernel_214/3464310631.py:50: FutureWarning: `torch.cuda.amp.autocast(args...)` is deprecated. Please use `torch.amp.autocast('cuda', args...)` instead.\n  with torch.cuda.amp.autocast(enabled=(DEVICE=='cuda')):\n"
          ]
        },
        {
          "output_type": "stream",
          "name": "stdout",
          "text": [
            "[Fold 3] Epoch 12/15 Step 50/81 Loss 0.1038\n"
          ]
        },
        {
          "output_type": "stream",
          "name": "stdout",
          "text": [
            "[Fold 3] Epoch 12/15 Step 81/81 Loss 0.1035\n"
          ]
        },
        {
          "output_type": "stream",
          "name": "stdout",
          "text": [
            "[Fold 3] Epoch 12 val mean AUC: 0.92913 | per-class: healthy:0.9884, multiple_diseases:0.7565, rust:0.9906, scab:0.9810\n"
          ]
        },
        {
          "output_type": "stream",
          "name": "stdout",
          "text": [
            "[Fold 3] New best AUC 0.92913 saved -> checkpoints/tf_efficientnet_b4_ns_fold3.pt\n"
          ]
        },
        {
          "output_type": "stream",
          "name": "stdout",
          "text": [
            "[Fold 3] Epoch 12 time: 19.2s\n"
          ]
        },
        {
          "output_type": "stream",
          "name": "stderr",
          "text": [
            "/tmp/ipykernel_214/3464310631.py:50: FutureWarning: `torch.cuda.amp.autocast(args...)` is deprecated. Please use `torch.amp.autocast('cuda', args...)` instead.\n  with torch.cuda.amp.autocast(enabled=(DEVICE=='cuda')):\n"
          ]
        },
        {
          "output_type": "stream",
          "name": "stdout",
          "text": [
            "[Fold 3] Epoch 13/15 Step 50/81 Loss 0.1025\n"
          ]
        },
        {
          "output_type": "stream",
          "name": "stdout",
          "text": [
            "[Fold 3] Epoch 13/15 Step 81/81 Loss 0.1024\n"
          ]
        },
        {
          "output_type": "stream",
          "name": "stdout",
          "text": [
            "[Fold 3] Epoch 13 val mean AUC: 0.93567 | per-class: healthy:0.9911, multiple_diseases:0.7765, rust:0.9916, scab:0.9835\n"
          ]
        },
        {
          "output_type": "stream",
          "name": "stdout",
          "text": [
            "[Fold 3] New best AUC 0.93567 saved -> checkpoints/tf_efficientnet_b4_ns_fold3.pt\n"
          ]
        },
        {
          "output_type": "stream",
          "name": "stdout",
          "text": [
            "[Fold 3] Epoch 13 time: 19.2s\n"
          ]
        },
        {
          "output_type": "stream",
          "name": "stderr",
          "text": [
            "/tmp/ipykernel_214/3464310631.py:50: FutureWarning: `torch.cuda.amp.autocast(args...)` is deprecated. Please use `torch.amp.autocast('cuda', args...)` instead.\n  with torch.cuda.amp.autocast(enabled=(DEVICE=='cuda')):\n"
          ]
        },
        {
          "output_type": "stream",
          "name": "stdout",
          "text": [
            "[Fold 3] Epoch 14/15 Step 50/81 Loss 0.1023\n"
          ]
        },
        {
          "output_type": "stream",
          "name": "stdout",
          "text": [
            "[Fold 3] Epoch 14/15 Step 81/81 Loss 0.1023\n"
          ]
        },
        {
          "output_type": "stream",
          "name": "stdout",
          "text": [
            "[Fold 3] Epoch 14 val mean AUC: 0.94091 | per-class: healthy:0.9925, multiple_diseases:0.7939, rust:0.9921, scab:0.9851\n"
          ]
        },
        {
          "output_type": "stream",
          "name": "stdout",
          "text": [
            "[Fold 3] New best AUC 0.94091 saved -> checkpoints/tf_efficientnet_b4_ns_fold3.pt\n"
          ]
        },
        {
          "output_type": "stream",
          "name": "stdout",
          "text": [
            "[Fold 3] Epoch 14 time: 18.9s\n"
          ]
        },
        {
          "output_type": "stream",
          "name": "stderr",
          "text": [
            "/tmp/ipykernel_214/3464310631.py:50: FutureWarning: `torch.cuda.amp.autocast(args...)` is deprecated. Please use `torch.amp.autocast('cuda', args...)` instead.\n  with torch.cuda.amp.autocast(enabled=(DEVICE=='cuda')):\n"
          ]
        },
        {
          "output_type": "stream",
          "name": "stdout",
          "text": [
            "[Fold 3] Epoch 15/15 Step 50/81 Loss 0.1014\n"
          ]
        },
        {
          "output_type": "stream",
          "name": "stdout",
          "text": [
            "[Fold 3] Epoch 15/15 Step 81/81 Loss 0.1018\n"
          ]
        },
        {
          "output_type": "stream",
          "name": "stdout",
          "text": [
            "[Fold 3] Epoch 15 val mean AUC: 0.94515 | per-class: healthy:0.9931, multiple_diseases:0.8083, rust:0.9922, scab:0.9870\n"
          ]
        },
        {
          "output_type": "stream",
          "name": "stdout",
          "text": [
            "[Fold 3] New best AUC 0.94515 saved -> checkpoints/tf_efficientnet_b4_ns_fold3.pt\n"
          ]
        },
        {
          "output_type": "stream",
          "name": "stdout",
          "text": [
            "[Fold 3] Epoch 15 time: 19.6s\n"
          ]
        },
        {
          "output_type": "stream",
          "name": "stdout",
          "text": [
            "[Fold 3] Training done in 4.8 min, best AUC 0.94515\n"
          ]
        },
        {
          "output_type": "stream",
          "name": "stdout",
          "text": [
            "\n===== Fold 4/4 - start =====\n"
          ]
        },
        {
          "output_type": "stream",
          "name": "stderr",
          "text": [
            "/app/.pip-target/albumentations/core/validation.py:114: UserWarning: ShiftScaleRotate is a special case of Affine transform. Please use Affine transform instead.\n  original_init(self, **validated_kwargs)\n/app/.pip-target/timm/models/_factory.py:138: UserWarning: Mapping deprecated model name tf_efficientnet_b4_ns to current tf_efficientnet_b4.ns_jft_in1k.\n  model = create_fn(\n"
          ]
        },
        {
          "output_type": "stream",
          "name": "stderr",
          "text": [
            "/tmp/ipykernel_214/3464310631.py:35: FutureWarning: `torch.cuda.amp.GradScaler(args...)` is deprecated. Please use `torch.amp.GradScaler('cuda', args...)` instead.\n  scaler = torch.cuda.amp.GradScaler(enabled=(DEVICE=='cuda'))\n"
          ]
        },
        {
          "output_type": "stream",
          "name": "stderr",
          "text": [
            "/tmp/ipykernel_214/3464310631.py:50: FutureWarning: `torch.cuda.amp.autocast(args...)` is deprecated. Please use `torch.amp.autocast('cuda', args...)` instead.\n  with torch.cuda.amp.autocast(enabled=(DEVICE=='cuda')):\n"
          ]
        },
        {
          "output_type": "stream",
          "name": "stdout",
          "text": [
            "[Fold 4] Epoch 1/15 Step 50/81 Loss 0.6161\n"
          ]
        },
        {
          "output_type": "stream",
          "name": "stdout",
          "text": [
            "[Fold 4] Epoch 1/15 Step 81/81 Loss 0.5055\n"
          ]
        },
        {
          "output_type": "stream",
          "name": "stdout",
          "text": [
            "[Fold 4] Epoch 1 val mean AUC: 0.33834 | per-class: healthy:0.5000, multiple_diseases:0.3038, rust:0.2589, scab:0.2906\n[Fold 4] New best AUC 0.33834 saved -> checkpoints/tf_efficientnet_b4_ns_fold4.pt\n"
          ]
        },
        {
          "output_type": "stream",
          "name": "stdout",
          "text": [
            "[Fold 4] Epoch 1 time: 19.6s\n"
          ]
        },
        {
          "output_type": "stream",
          "name": "stderr",
          "text": [
            "/tmp/ipykernel_214/3464310631.py:50: FutureWarning: `torch.cuda.amp.autocast(args...)` is deprecated. Please use `torch.amp.autocast('cuda', args...)` instead.\n  with torch.cuda.amp.autocast(enabled=(DEVICE=='cuda')):\n"
          ]
        },
        {
          "output_type": "stream",
          "name": "stdout",
          "text": [
            "[Fold 4] Epoch 2/15 Step 50/81 Loss 0.2483\n"
          ]
        },
        {
          "output_type": "stream",
          "name": "stdout",
          "text": [
            "[Fold 4] Epoch 2/15 Step 81/81 Loss 0.2360\n"
          ]
        },
        {
          "output_type": "stream",
          "name": "stdout",
          "text": [
            "[Fold 4] Epoch 2 val mean AUC: 0.39670 | per-class: healthy:0.5834, multiple_diseases:0.3584, rust:0.3247, scab:0.3203\n"
          ]
        },
        {
          "output_type": "stream",
          "name": "stdout",
          "text": [
            "[Fold 4] New best AUC 0.39670 saved -> checkpoints/tf_efficientnet_b4_ns_fold4.pt\n"
          ]
        },
        {
          "output_type": "stream",
          "name": "stdout",
          "text": [
            "[Fold 4] Epoch 2 time: 19.4s\n"
          ]
        },
        {
          "output_type": "stream",
          "name": "stderr",
          "text": [
            "/tmp/ipykernel_214/3464310631.py:50: FutureWarning: `torch.cuda.amp.autocast(args...)` is deprecated. Please use `torch.amp.autocast('cuda', args...)` instead.\n  with torch.cuda.amp.autocast(enabled=(DEVICE=='cuda')):\n"
          ]
        },
        {
          "output_type": "stream",
          "name": "stdout",
          "text": [
            "[Fold 4] Epoch 3/15 Step 50/81 Loss 0.1849\n"
          ]
        },
        {
          "output_type": "stream",
          "name": "stdout",
          "text": [
            "[Fold 4] Epoch 3/15 Step 81/81 Loss 0.1753\n"
          ]
        },
        {
          "output_type": "stream",
          "name": "stdout",
          "text": [
            "[Fold 4] Epoch 3 val mean AUC: 0.49560 | per-class: healthy:0.6921, multiple_diseases:0.4398, rust:0.4717, scab:0.3788\n"
          ]
        },
        {
          "output_type": "stream",
          "name": "stdout",
          "text": [
            "[Fold 4] New best AUC 0.49560 saved -> checkpoints/tf_efficientnet_b4_ns_fold4.pt\n"
          ]
        },
        {
          "output_type": "stream",
          "name": "stdout",
          "text": [
            "[Fold 4] Epoch 3 time: 19.5s\n"
          ]
        },
        {
          "output_type": "stream",
          "name": "stderr",
          "text": [
            "/tmp/ipykernel_214/3464310631.py:50: FutureWarning: `torch.cuda.amp.autocast(args...)` is deprecated. Please use `torch.amp.autocast('cuda', args...)` instead.\n  with torch.cuda.amp.autocast(enabled=(DEVICE=='cuda')):\n"
          ]
        },
        {
          "output_type": "stream",
          "name": "stdout",
          "text": [
            "[Fold 4] Epoch 4/15 Step 50/81 Loss 0.1387\n"
          ]
        },
        {
          "output_type": "stream",
          "name": "stdout",
          "text": [
            "[Fold 4] Epoch 4/15 Step 81/81 Loss 0.1395\n"
          ]
        },
        {
          "output_type": "stream",
          "name": "stdout",
          "text": [
            "[Fold 4] Epoch 4 val mean AUC: 0.60251 | per-class: healthy:0.7830, multiple_diseases:0.5143, rust:0.6548, scab:0.4579\n"
          ]
        },
        {
          "output_type": "stream",
          "name": "stdout",
          "text": [
            "[Fold 4] New best AUC 0.60251 saved -> checkpoints/tf_efficientnet_b4_ns_fold4.pt\n"
          ]
        },
        {
          "output_type": "stream",
          "name": "stdout",
          "text": [
            "[Fold 4] Epoch 4 time: 19.7s\n"
          ]
        },
        {
          "output_type": "stream",
          "name": "stderr",
          "text": [
            "/tmp/ipykernel_214/3464310631.py:50: FutureWarning: `torch.cuda.amp.autocast(args...)` is deprecated. Please use `torch.amp.autocast('cuda', args...)` instead.\n  with torch.cuda.amp.autocast(enabled=(DEVICE=='cuda')):\n"
          ]
        },
        {
          "output_type": "stream",
          "name": "stdout",
          "text": [
            "[Fold 4] Epoch 5/15 Step 50/81 Loss 0.1243\n"
          ]
        },
        {
          "output_type": "stream",
          "name": "stdout",
          "text": [
            "[Fold 4] Epoch 5/15 Step 81/81 Loss 0.1236\n"
          ]
        },
        {
          "output_type": "stream",
          "name": "stdout",
          "text": [
            "[Fold 4] Epoch 5 val mean AUC: 0.70307 | per-class: healthy:0.8481, multiple_diseases:0.6024, rust:0.8192, scab:0.5425\n"
          ]
        },
        {
          "output_type": "stream",
          "name": "stdout",
          "text": [
            "[Fold 4] New best AUC 0.70307 saved -> checkpoints/tf_efficientnet_b4_ns_fold4.pt\n"
          ]
        },
        {
          "output_type": "stream",
          "name": "stdout",
          "text": [
            "[Fold 4] Epoch 5 time: 19.2s\n"
          ]
        },
        {
          "output_type": "stream",
          "name": "stderr",
          "text": [
            "/tmp/ipykernel_214/3464310631.py:50: FutureWarning: `torch.cuda.amp.autocast(args...)` is deprecated. Please use `torch.amp.autocast('cuda', args...)` instead.\n  with torch.cuda.amp.autocast(enabled=(DEVICE=='cuda')):\n"
          ]
        },
        {
          "output_type": "stream",
          "name": "stdout",
          "text": [
            "[Fold 4] Epoch 6/15 Step 50/81 Loss 0.1158\n"
          ]
        },
        {
          "output_type": "stream",
          "name": "stdout",
          "text": [
            "[Fold 4] Epoch 6/15 Step 81/81 Loss 0.1168\n"
          ]
        },
        {
          "output_type": "stream",
          "name": "stdout",
          "text": [
            "[Fold 4] Epoch 6 val mean AUC: 0.78562 | per-class: healthy:0.8977, multiple_diseases:0.6817, rust:0.9201, scab:0.6430\n"
          ]
        },
        {
          "output_type": "stream",
          "name": "stdout",
          "text": [
            "[Fold 4] New best AUC 0.78562 saved -> checkpoints/tf_efficientnet_b4_ns_fold4.pt\n"
          ]
        },
        {
          "output_type": "stream",
          "name": "stdout",
          "text": [
            "[Fold 4] Epoch 6 time: 19.4s\n"
          ]
        },
        {
          "output_type": "stream",
          "name": "stderr",
          "text": [
            "/tmp/ipykernel_214/3464310631.py:50: FutureWarning: `torch.cuda.amp.autocast(args...)` is deprecated. Please use `torch.amp.autocast('cuda', args...)` instead.\n  with torch.cuda.amp.autocast(enabled=(DEVICE=='cuda')):\n"
          ]
        },
        {
          "output_type": "stream",
          "name": "stdout",
          "text": [
            "[Fold 4] Epoch 7/15 Step 50/81 Loss 0.1144\n"
          ]
        },
        {
          "output_type": "stream",
          "name": "stdout",
          "text": [
            "[Fold 4] Epoch 7/15 Step 81/81 Loss 0.1142\n"
          ]
        },
        {
          "output_type": "stream",
          "name": "stdout",
          "text": [
            "[Fold 4] Epoch 7 val mean AUC: 0.85178 | per-class: healthy:0.9350, multiple_diseases:0.7558, rust:0.9693, scab:0.7469\n"
          ]
        },
        {
          "output_type": "stream",
          "name": "stdout",
          "text": [
            "[Fold 4] New best AUC 0.85178 saved -> checkpoints/tf_efficientnet_b4_ns_fold4.pt\n"
          ]
        },
        {
          "output_type": "stream",
          "name": "stdout",
          "text": [
            "[Fold 4] Epoch 7 time: 22.0s\n"
          ]
        },
        {
          "output_type": "stream",
          "name": "stderr",
          "text": [
            "/tmp/ipykernel_214/3464310631.py:50: FutureWarning: `torch.cuda.amp.autocast(args...)` is deprecated. Please use `torch.amp.autocast('cuda', args...)` instead.\n  with torch.cuda.amp.autocast(enabled=(DEVICE=='cuda')):\n"
          ]
        },
        {
          "output_type": "stream",
          "name": "stdout",
          "text": [
            "[Fold 4] Epoch 8/15 Step 50/81 Loss 0.1140\n"
          ]
        },
        {
          "output_type": "stream",
          "name": "stdout",
          "text": [
            "[Fold 4] Epoch 8/15 Step 81/81 Loss 0.1118\n"
          ]
        },
        {
          "output_type": "stream",
          "name": "stdout",
          "text": [
            "[Fold 4] Epoch 8 val mean AUC: 0.89914 | per-class: healthy:0.9603, multiple_diseases:0.8150, rust:0.9854, scab:0.8359\n"
          ]
        },
        {
          "output_type": "stream",
          "name": "stdout",
          "text": [
            "[Fold 4] New best AUC 0.89914 saved -> checkpoints/tf_efficientnet_b4_ns_fold4.pt\n"
          ]
        },
        {
          "output_type": "stream",
          "name": "stdout",
          "text": [
            "[Fold 4] Epoch 8 time: 21.5s\n"
          ]
        },
        {
          "output_type": "stream",
          "name": "stderr",
          "text": [
            "/tmp/ipykernel_214/3464310631.py:50: FutureWarning: `torch.cuda.amp.autocast(args...)` is deprecated. Please use `torch.amp.autocast('cuda', args...)` instead.\n  with torch.cuda.amp.autocast(enabled=(DEVICE=='cuda')):\n"
          ]
        },
        {
          "output_type": "stream",
          "name": "stdout",
          "text": [
            "[Fold 4] Epoch 9/15 Step 50/81 Loss 0.1108\n"
          ]
        },
        {
          "output_type": "stream",
          "name": "stdout",
          "text": [
            "[Fold 4] Epoch 9/15 Step 81/81 Loss 0.1124\n"
          ]
        },
        {
          "output_type": "stream",
          "name": "stdout",
          "text": [
            "[Fold 4] Epoch 9 val mean AUC: 0.93204 | per-class: healthy:0.9775, multiple_diseases:0.8583, rust:0.9932, scab:0.8991\n"
          ]
        },
        {
          "output_type": "stream",
          "name": "stdout",
          "text": [
            "[Fold 4] New best AUC 0.93204 saved -> checkpoints/tf_efficientnet_b4_ns_fold4.pt\n"
          ]
        },
        {
          "output_type": "stream",
          "name": "stdout",
          "text": [
            "[Fold 4] Epoch 9 time: 21.4s\n"
          ]
        },
        {
          "output_type": "stream",
          "name": "stderr",
          "text": [
            "/tmp/ipykernel_214/3464310631.py:50: FutureWarning: `torch.cuda.amp.autocast(args...)` is deprecated. Please use `torch.amp.autocast('cuda', args...)` instead.\n  with torch.cuda.amp.autocast(enabled=(DEVICE=='cuda')):\n"
          ]
        },
        {
          "output_type": "stream",
          "name": "stdout",
          "text": [
            "[Fold 4] Epoch 10/15 Step 50/81 Loss 0.1064\n"
          ]
        },
        {
          "output_type": "stream",
          "name": "stdout",
          "text": [
            "[Fold 4] Epoch 10/15 Step 81/81 Loss 0.1064\n"
          ]
        },
        {
          "output_type": "stream",
          "name": "stdout",
          "text": [
            "[Fold 4] Epoch 10 val mean AUC: 0.95420 | per-class: healthy:0.9878, multiple_diseases:0.8928, rust:0.9953, scab:0.9409\n"
          ]
        },
        {
          "output_type": "stream",
          "name": "stdout",
          "text": [
            "[Fold 4] New best AUC 0.95420 saved -> checkpoints/tf_efficientnet_b4_ns_fold4.pt\n"
          ]
        },
        {
          "output_type": "stream",
          "name": "stdout",
          "text": [
            "[Fold 4] Epoch 10 time: 20.6s\n"
          ]
        },
        {
          "output_type": "stream",
          "name": "stderr",
          "text": [
            "/tmp/ipykernel_214/3464310631.py:50: FutureWarning: `torch.cuda.amp.autocast(args...)` is deprecated. Please use `torch.amp.autocast('cuda', args...)` instead.\n  with torch.cuda.amp.autocast(enabled=(DEVICE=='cuda')):\n"
          ]
        },
        {
          "output_type": "stream",
          "name": "stdout",
          "text": [
            "[Fold 4] Epoch 11/15 Step 50/81 Loss 0.1073\n"
          ]
        },
        {
          "output_type": "stream",
          "name": "stdout",
          "text": [
            "[Fold 4] Epoch 11/15 Step 81/81 Loss 0.1069\n"
          ]
        },
        {
          "output_type": "stream",
          "name": "stdout",
          "text": [
            "[Fold 4] Epoch 11 val mean AUC: 0.96672 | per-class: healthy:0.9930, multiple_diseases:0.9128, rust:0.9956, scab:0.9655\n"
          ]
        },
        {
          "output_type": "stream",
          "name": "stdout",
          "text": [
            "[Fold 4] New best AUC 0.96672 saved -> checkpoints/tf_efficientnet_b4_ns_fold4.pt\n"
          ]
        },
        {
          "output_type": "stream",
          "name": "stdout",
          "text": [
            "[Fold 4] Epoch 11 time: 19.4s\n"
          ]
        },
        {
          "output_type": "stream",
          "name": "stderr",
          "text": [
            "/tmp/ipykernel_214/3464310631.py:50: FutureWarning: `torch.cuda.amp.autocast(args...)` is deprecated. Please use `torch.amp.autocast('cuda', args...)` instead.\n  with torch.cuda.amp.autocast(enabled=(DEVICE=='cuda')):\n"
          ]
        },
        {
          "output_type": "stream",
          "name": "stdout",
          "text": [
            "[Fold 4] Epoch 12/15 Step 50/81 Loss 0.1029\n"
          ]
        },
        {
          "output_type": "stream",
          "name": "stdout",
          "text": [
            "[Fold 4] Epoch 12/15 Step 81/81 Loss 0.1044\n"
          ]
        },
        {
          "output_type": "stream",
          "name": "stdout",
          "text": [
            "[Fold 4] Epoch 12 val mean AUC: 0.97304 | per-class: healthy:0.9961, multiple_diseases:0.9217, rust:0.9958, scab:0.9786\n"
          ]
        },
        {
          "output_type": "stream",
          "name": "stdout",
          "text": [
            "[Fold 4] New best AUC 0.97304 saved -> checkpoints/tf_efficientnet_b4_ns_fold4.pt\n"
          ]
        },
        {
          "output_type": "stream",
          "name": "stdout",
          "text": [
            "[Fold 4] Epoch 12 time: 19.7s\n"
          ]
        },
        {
          "output_type": "stream",
          "name": "stderr",
          "text": [
            "/tmp/ipykernel_214/3464310631.py:50: FutureWarning: `torch.cuda.amp.autocast(args...)` is deprecated. Please use `torch.amp.autocast('cuda', args...)` instead.\n  with torch.cuda.amp.autocast(enabled=(DEVICE=='cuda')):\n"
          ]
        },
        {
          "output_type": "stream",
          "name": "stdout",
          "text": [
            "[Fold 4] Epoch 13/15 Step 50/81 Loss 0.1030\n"
          ]
        },
        {
          "output_type": "stream",
          "name": "stdout",
          "text": [
            "[Fold 4] Epoch 13/15 Step 81/81 Loss 0.1029\n"
          ]
        },
        {
          "output_type": "stream",
          "name": "stdout",
          "text": [
            "[Fold 4] Epoch 13 val mean AUC: 0.97725 | per-class: healthy:0.9974, multiple_diseases:0.9310, rust:0.9959, scab:0.9848\n"
          ]
        },
        {
          "output_type": "stream",
          "name": "stdout",
          "text": [
            "[Fold 4] New best AUC 0.97725 saved -> checkpoints/tf_efficientnet_b4_ns_fold4.pt\n"
          ]
        },
        {
          "output_type": "stream",
          "name": "stdout",
          "text": [
            "[Fold 4] Epoch 13 time: 19.9s\n"
          ]
        },
        {
          "output_type": "stream",
          "name": "stderr",
          "text": [
            "/tmp/ipykernel_214/3464310631.py:50: FutureWarning: `torch.cuda.amp.autocast(args...)` is deprecated. Please use `torch.amp.autocast('cuda', args...)` instead.\n  with torch.cuda.amp.autocast(enabled=(DEVICE=='cuda')):\n"
          ]
        },
        {
          "output_type": "stream",
          "name": "stdout",
          "text": [
            "[Fold 4] Epoch 14/15 Step 50/81 Loss 0.1058\n"
          ]
        },
        {
          "output_type": "stream",
          "name": "stdout",
          "text": [
            "[Fold 4] Epoch 14/15 Step 81/81 Loss 0.1043\n"
          ]
        },
        {
          "output_type": "stream",
          "name": "stdout",
          "text": [
            "[Fold 4] Epoch 14 val mean AUC: 0.97855 | per-class: healthy:0.9977, multiple_diseases:0.9323, rust:0.9960, scab:0.9883\n"
          ]
        },
        {
          "output_type": "stream",
          "name": "stdout",
          "text": [
            "[Fold 4] New best AUC 0.97855 saved -> checkpoints/tf_efficientnet_b4_ns_fold4.pt\n"
          ]
        },
        {
          "output_type": "stream",
          "name": "stdout",
          "text": [
            "[Fold 4] Epoch 14 time: 19.3s\n"
          ]
        },
        {
          "output_type": "stream",
          "name": "stderr",
          "text": [
            "/tmp/ipykernel_214/3464310631.py:50: FutureWarning: `torch.cuda.amp.autocast(args...)` is deprecated. Please use `torch.amp.autocast('cuda', args...)` instead.\n  with torch.cuda.amp.autocast(enabled=(DEVICE=='cuda')):\n"
          ]
        },
        {
          "output_type": "stream",
          "name": "stdout",
          "text": [
            "[Fold 4] Epoch 15/15 Step 50/81 Loss 0.1044\n"
          ]
        },
        {
          "output_type": "stream",
          "name": "stdout",
          "text": [
            "[Fold 4] Epoch 15/15 Step 81/81 Loss 0.1043\n"
          ]
        },
        {
          "output_type": "stream",
          "name": "stdout",
          "text": [
            "[Fold 4] Epoch 15 val mean AUC: 0.97980 | per-class: healthy:0.9982, multiple_diseases:0.9349, rust:0.9959, scab:0.9902\n"
          ]
        },
        {
          "output_type": "stream",
          "name": "stdout",
          "text": [
            "[Fold 4] New best AUC 0.97980 saved -> checkpoints/tf_efficientnet_b4_ns_fold4.pt\n"
          ]
        },
        {
          "output_type": "stream",
          "name": "stdout",
          "text": [
            "[Fold 4] Epoch 15 time: 19.6s\n"
          ]
        },
        {
          "output_type": "stream",
          "name": "stdout",
          "text": [
            "[Fold 4] Training done in 5.0 min, best AUC 0.97980\n"
          ]
        },
        {
          "output_type": "stream",
          "name": "stdout",
          "text": [
            "\n===== OOF Results =====\nPer-class AUC: {'healthy': 0.996307, 'multiple_diseases': 0.900723, 'rust': 0.994671, 'scab': 0.989543}\nOOF mean-column-wise-roc-auc: 0.970311\nSaved oof_preds.csv\n"
          ]
        },
        {
          "output_type": "stream",
          "name": "stderr",
          "text": [
            "/app/.pip-target/timm/models/_factory.py:138: UserWarning: Mapping deprecated model name tf_efficientnet_b4_ns to current tf_efficientnet_b4.ns_jft_in1k.\n  model = create_fn(\n"
          ]
        },
        {
          "output_type": "stream",
          "name": "stdout",
          "text": [
            "\nSaved submission.csv with shape (183, 5)\nFold best AUCs: [0.993002, 0.971158, 0.965924, 0.945145, 0.979805]\nOOF mean AUC: 0.970311\nDone.\n"
          ]
        }
      ]
    },
    {
      "id": "03191be5-a2cb-44ff-bb3e-1c1fee0e27d3",
      "cell_type": "code",
      "metadata": {},
      "source": [
        "# Validate and fix submission.csv types and columns\n",
        "import pandas as pd\n",
        "import numpy as np\n",
        "\n",
        "sub = pd.read_csv('submission.csv')\n",
        "print('Before fix dtypes:', sub.dtypes.to_dict())\n",
        "required_cols = ['image_id','healthy','multiple_diseases','rust','scab']\n",
        "# Ensure columns exist and in correct order\n",
        "assert all(c in sub.columns for c in required_cols), f'Missing columns. Found: {sub.columns.tolist()}'\n",
        "sub = sub[required_cols].copy()\n",
        "\n",
        "# Coerce types: image_id as string, targets as float32 in [0,1]\n",
        "sub['image_id'] = sub['image_id'].astype(str)\n",
        "for c in ['healthy','multiple_diseases','rust','scab']:\n",
        "    sub[c] = pd.to_numeric(sub[c], errors='coerce').astype('float32')\n",
        "    sub[c] = sub[c].clip(0.0, 1.0)\n",
        "\n",
        "# Check for NaNs and fill conservatively with 0.25 if any\n",
        "if sub[['healthy','multiple_diseases','rust','scab']].isna().any().any():\n",
        "    print('NaNs found in targets; filling with 0.25')\n",
        "    sub[['healthy','multiple_diseases','rust','scab']] = sub[['healthy','multiple_diseases','rust','scab']].fillna(0.25)\n",
        "\n",
        "print('After fix dtypes:', sub.dtypes.to_dict())\n",
        "print(sub.head())\n",
        "sub.to_csv('submission.csv', index=False)\n",
        "print('submission.csv fixed and saved.')"
      ],
      "execution_count": 5,
      "outputs": [
        {
          "output_type": "stream",
          "name": "stdout",
          "text": [
            "Before fix dtypes: {'image_id': dtype('O'), 'healthy': dtype('float64'), 'multiple_diseases': dtype('float64'), 'rust': dtype('float64'), 'scab': dtype('float64')}\nAfter fix dtypes: {'image_id': dtype('O'), 'healthy': dtype('float32'), 'multiple_diseases': dtype('float32'), 'rust': dtype('float32'), 'scab': dtype('float32')}\n  image_id   healthy  multiple_diseases      rust      scab\n0   Test_0  0.027181           0.141981  0.041912  0.900878\n1   Test_1  0.029114           0.159307  0.023508  0.903801\n2   Test_2  0.029616           0.148590  0.829966  0.084567\n3   Test_3  0.017894           0.089765  0.985817  0.017340\n4   Test_4  0.019389           0.030917  0.991964  0.025642\nsubmission.csv fixed and saved.\n"
          ]
        }
      ]
    },
    {
      "id": "6232c9fe-ed47-412b-926b-a0073bb917c7",
      "cell_type": "code",
      "metadata": {},
      "source": [
        "# Enforce exact submission schema and float formatting\n",
        "import pandas as pd\n",
        "ss = pd.read_csv('sample_submission.csv')\n",
        "sub = pd.read_csv('submission.csv')\n",
        "req_cols = list(ss.columns)\n",
        "assert all(c in sub.columns for c in req_cols), f'Missing cols: {set(req_cols)-set(sub.columns)}'\n",
        "sub = sub[req_cols].copy()\n",
        "sub['image_id'] = sub['image_id'].astype(str)\n",
        "for c in req_cols[1:]:\n",
        "    sub[c] = pd.to_numeric(sub[c], errors='coerce').astype(float)\n",
        "assert len(sub)==len(ss), f'Row count mismatch: {len(sub)} vs {len(ss)}'\n",
        "print('Final dtypes:', sub.dtypes.to_dict())\n",
        "print('Shape:', sub.shape)\n",
        "sub.to_csv('submission.csv', index=False, float_format='%.6f')\n",
        "print('submission.csv rewritten with float_format=%.6f and correct column order.')"
      ],
      "execution_count": 6,
      "outputs": [
        {
          "output_type": "stream",
          "name": "stdout",
          "text": [
            "Final dtypes: {'image_id': dtype('O'), 'healthy': dtype('float64'), 'multiple_diseases': dtype('float64'), 'rust': dtype('float64'), 'scab': dtype('float64')}\nShape: (183, 5)\nsubmission.csv rewritten with float_format=%.6f and correct column order.\n"
          ]
        }
      ]
    },
    {
      "id": "579d6cda-9bc3-41b4-8665-186b60eff86c",
      "cell_type": "code",
      "metadata": {},
      "source": [
        "# Build 2-column submission (image_id, scab) to match benchmark expectation\n",
        "import pandas as pd, numpy as np, csv\n",
        "ss = pd.read_csv('sample_submission.csv')\n",
        "sub4 = pd.read_csv('submission.csv')\n",
        "\n",
        "# Ensure required columns exist in 4-col predictions\n",
        "assert 'image_id' in sub4.columns and 'scab' in sub4.columns, 'Missing image_id or scab in current submission.csv'\n",
        "\n",
        "# Match exact order of sample_submission image_id\n",
        "sub2 = ss[['image_id']].merge(sub4[['image_id','scab']], on='image_id', how='left')\n",
        "\n",
        "# Enforce dtypes and sanity\n",
        "sub2['image_id'] = sub2['image_id'].astype(str)\n",
        "sub2['scab'] = pd.to_numeric(sub2['scab'], errors='coerce').astype(float)\n",
        "if sub2['scab'].isna().any():\n",
        "    sub2['scab'] = sub2['scab'].fillna(0.25)\n",
        "sub2['scab'] = sub2['scab'].clip(0.0, 1.0)\n",
        "\n",
        "# Validate columns and shape\n",
        "assert list(sub2.columns) == ['image_id','scab'], f'Unexpected columns: {list(sub2.columns)}'\n",
        "assert len(sub2) == len(ss), f'Row mismatch: {len(sub2)} vs {len(ss)}'\n",
        "print('Final 2-col dtypes:', sub2.dtypes.to_dict())\n",
        "print('Shape:', sub2.shape)\n",
        "\n",
        "# Overwrite submission.csv with 2 required columns\n",
        "sub2.to_csv('submission.csv', index=False, float_format='%.6f', encoding='utf-8', quoting=csv.QUOTE_MINIMAL)\n",
        "print('submission.csv written with columns: ', list(sub2.columns))\n",
        "print(sub2.head())"
      ],
      "execution_count": 7,
      "outputs": [
        {
          "output_type": "stream",
          "name": "stdout",
          "text": [
            "Final 2-col dtypes: {'image_id': dtype('O'), 'scab': dtype('float64')}\nShape: (183, 2)\nsubmission.csv written with columns:  ['image_id', 'scab']\n  image_id      scab\n0   Test_0  0.900878\n1   Test_1  0.903801\n2   Test_2  0.084567\n3   Test_3  0.017340\n4   Test_4  0.025642\n"
          ]
        }
      ]
    },
    {
      "id": "4a81e437-143d-4130-b0a2-1bb0061db226",
      "cell_type": "code",
      "metadata": {},
      "source": [
        "# Train second backbone: convnext_tiny @384 with same 5-fold pipeline (EMA, cosine, BCE+LS)\n",
        "import os, time, numpy as np, pandas as pd, torch\n",
        "import torch.nn as nn\n",
        "from torch.utils.data import DataLoader\n",
        "\n",
        "train_df = pd.read_csv('train_folds.csv')\n",
        "test_df = pd.read_csv('test.csv')\n",
        "\n",
        "model_name = 'convnext_tiny'\n",
        "image_size = 384\n",
        "batch_size = 24\n",
        "epochs = 15\n",
        "warmup_epochs = 1\n",
        "lr = 2e-4\n",
        "weight_decay = 0.01\n",
        "label_smoothing = 0.02\n",
        "ema_decay = 0.999\n",
        "num_workers = 4\n",
        "NFOLDS = train_df['fold'].nunique()\n",
        "\n",
        "os.makedirs('checkpoints', exist_ok=True)\n",
        "oof_preds_cnv = np.zeros((len(train_df), N_CLASSES), dtype=np.float32)\n",
        "fold_best_auc_cnv = []\n",
        "\n",
        "for fold in range(NFOLDS):\n",
        "    print(f'\\n===== [ConvNeXt] Fold {fold}/{NFOLDS-1} - start =====', flush=True)\n",
        "    trn_loader, val_loader = create_loaders(train_df, fold, image_size=image_size, batch_size=batch_size, num_workers=num_workers)\n",
        "    steps_per_epoch = len(trn_loader)\n",
        "    model = build_model(model_name=model_name, pretrained=True, num_classes=N_CLASSES).to(DEVICE)\n",
        "    optimizer, scheduler = get_optimizer_scheduler(model, lr=lr, wd=weight_decay, steps_per_epoch=steps_per_epoch, epochs=epochs, warmup_epochs=warmup_epochs)\n",
        "    loss_fn = nn.BCEWithLogitsLoss().to(DEVICE)\n",
        "    scaler = torch.cuda.amp.GradScaler(enabled=(DEVICE=='cuda'))\n",
        "    ema = ModelEMA(model, decay=ema_decay)\n",
        "\n",
        "    best_auc = -1.0\n",
        "    best_path = f'checkpoints/{model_name}_fold{fold}.pt'\n",
        "    for ep in range(1, epochs+1):\n",
        "        model.train()\n",
        "        running_loss = 0.0\n",
        "        ep_start = time.time()\n",
        "        for step, (imgs, y) in enumerate(trn_loader):\n",
        "            imgs = imgs.to(DEVICE, non_blocking=True)\n",
        "            y = y.to(DEVICE)\n",
        "            y_s = smooth_labels(y, label_smoothing)\n",
        "            optimizer.zero_grad(set_to_none=True)\n",
        "            with torch.cuda.amp.autocast(enabled=(DEVICE=='cuda')):\n",
        "                logits = model(imgs)\n",
        "                loss = loss_fn(logits, y_s)\n",
        "            scaler.scale(loss).backward()\n",
        "            scaler.unscale_(optimizer)\n",
        "            torch.nn.utils.clip_grad_norm_(model.parameters(), max_norm=1.0)\n",
        "            scaler.step(optimizer)\n",
        "            scaler.update()\n",
        "            scheduler.step()\n",
        "            ema.update(model)\n",
        "            running_loss += loss.item()\n",
        "            if (step+1) % 50 == 0 or (step+1)==steps_per_epoch:\n",
        "                print(f'[ConvNeXt Fold {fold}] Epoch {ep}/{epochs} Step {step+1}/{steps_per_epoch} Loss {running_loss/(step+1):.4f}', flush=True)\n",
        "        mean_auc, per_class = evaluate(ema.ema, val_loader, device=DEVICE)\n",
        "        print(f'[ConvNeXt Fold {fold}] Epoch {ep} val mean AUC: {mean_auc:.5f} | ' + ', '.join([f\"{k}:{v:.4f}\" for k,v in per_class.items()]))\n",
        "        if mean_auc > best_auc:\n",
        "            best_auc = mean_auc\n",
        "            torch.save({'state_dict': ema.ema.state_dict(), 'auc': best_auc, 'epoch': ep}, best_path)\n",
        "            print(f'[ConvNeXt Fold {fold}] New best AUC {best_auc:.5f} saved -> {best_path}', flush=True)\n",
        "        print(f'[ConvNeXt Fold {fold}] Epoch {ep} time: {time.time()-ep_start:.1f}s', flush=True)\n",
        "    print(f'[ConvNeXt Fold {fold}] Training done, best AUC {best_auc:.5f}', flush=True)\n",
        "    fold_best_auc_cnv.append(best_auc)\n",
        "\n",
        "    ckpt = torch.load(best_path, map_location='cpu')\n",
        "    ema.ema.load_state_dict(ckpt['state_dict'])\n",
        "    ema.ema.to(DEVICE).eval()\n",
        "    all_probs = []\n",
        "    with torch.no_grad():\n",
        "        for imgs, y in val_loader:\n",
        "            imgs = imgs.to(DEVICE, non_blocking=True)\n",
        "            logits = ema.ema(imgs)\n",
        "            probs = torch.sigmoid(logits).detach().cpu().numpy()\n",
        "            all_probs.append(probs)\n",
        "    all_probs = np.concatenate(all_probs, axis=0)\n",
        "    val_indices = train_df.index[train_df.fold==fold].to_numpy()\n",
        "    oof_preds_cnv[val_indices] = all_probs\n",
        "\n",
        "# Inference on test for convnext_tiny\n",
        "test_ds = TestDataset(test_df, IMG_DIR, transform=get_transforms(image_size, is_train=False))\n",
        "test_loader = DataLoader(test_ds, batch_size=batch_size*2, shuffle=False, num_workers=num_workers, pin_memory=True)\n",
        "all_fold_test = []\n",
        "for fold in range(NFOLDS):\n",
        "    best_path = f'checkpoints/{model_name}_fold{fold}.pt'\n",
        "    ckpt = torch.load(best_path, map_location='cpu')\n",
        "    model = build_model(model_name=model_name, pretrained=False, num_classes=N_CLASSES).to(DEVICE)\n",
        "    model.load_state_dict(ckpt['state_dict'], strict=True)\n",
        "    model.eval()\n",
        "    fold_probs = []\n",
        "    with torch.no_grad():\n",
        "        for imgs, ids in test_loader:\n",
        "            imgs = imgs.to(DEVICE, non_blocking=True)\n",
        "            logits0 = model(imgs)\n",
        "            logits1 = model(torch.flip(imgs, dims=[3]))\n",
        "            logits2 = model(torch.flip(imgs, dims=[2]))\n",
        "            logits3 = model(torch.flip(imgs, dims=[2,3]))\n",
        "            logits = (logits0 + logits1 + logits2 + logits3) / 4.0\n",
        "            probs = torch.sigmoid(logits).detach().cpu().numpy()\n",
        "            fold_probs.append(probs)\n",
        "    fold_probs = np.concatenate(fold_probs, axis=0)\n",
        "    all_fold_test.append(fold_probs)\n",
        "test_pred_convnext = np.mean(np.stack(all_fold_test, axis=0), axis=0)\n",
        "\n",
        "# Save convnext predictions (4 classes) and also a 2-col scab submission for quick ensemble later\n",
        "sub_cnv = pd.DataFrame({'image_id': test_df['image_id']})\n",
        "for i, c in enumerate(TARGETS):\n",
        "    sub_cnv[c] = test_pred_convnext[:, i]\n",
        "sub_cnv.to_csv('submission_convnext_full.csv', index=False)\n",
        "sub_cnv2 = sub_cnv[['image_id']].copy()\n",
        "sub_cnv2['scab'] = sub_cnv['scab'].astype(float).clip(0,1)\n",
        "sub_cnv2.to_csv('submission_convnext_scab.csv', index=False)\n",
        "print('ConvNeXt predictions saved: submission_convnext_full.csv and submission_convnext_scab.csv')"
      ],
      "execution_count": 9,
      "outputs": []
    },
    {
      "id": "6d23a0e6-01e5-45f2-a581-50744b5a9ff9",
      "cell_type": "code",
      "metadata": {},
      "source": [
        "# Regenerate 4-col test predictions and build robust 4-col submission (optionally ensemble effnet + convnext if available)\n",
        "import os, csv, numpy as np, pandas as pd, torch\n",
        "import torch.nn as nn\n",
        "from torch.utils.data import DataLoader\n",
        "\n",
        "test_df = pd.read_csv('test.csv')\n",
        "\n",
        "def infer_model(model_name: str, image_size: int, batch_size: int = 32):\n",
        "    # Build loader\n",
        "    ds = TestDataset(test_df, IMG_DIR, transform=get_transforms(image_size, is_train=False))\n",
        "    loader = DataLoader(ds, batch_size=batch_size, shuffle=False, num_workers=4, pin_memory=True)\n",
        "    fold_probs_all = []\n",
        "    for fold in range(5):\n",
        "        ckpt_path = f'checkpoints/{model_name}_fold{fold}.pt'\n",
        "        if not os.path.exists(ckpt_path):\n",
        "            print(f'Missing checkpoint: {ckpt_path}, skipping model {model_name}.')\n",
        "            return None\n",
        "        ckpt = torch.load(ckpt_path, map_location='cpu')\n",
        "        model = build_model(model_name=model_name, pretrained=False, num_classes=N_CLASSES).to(DEVICE)\n",
        "        model.load_state_dict(ckpt['state_dict'], strict=True)\n",
        "        model.eval()\n",
        "        fold_probs = []\n",
        "        with torch.no_grad():\n",
        "            for imgs, ids in loader:\n",
        "                imgs = imgs.to(DEVICE, non_blocking=True)\n",
        "                logits0 = model(imgs)\n",
        "                logits1 = model(torch.flip(imgs, dims=[3]))\n",
        "                logits2 = model(torch.flip(imgs, dims=[2]))\n",
        "                logits3 = model(torch.flip(imgs, dims=[2,3]))\n",
        "                logits = (logits0 + logits1 + logits2 + logits3) / 4.0\n",
        "                probs = torch.sigmoid(logits).detach().cpu().numpy()\n",
        "                fold_probs.append(probs)\n",
        "        fold_probs = np.concatenate(fold_probs, axis=0)\n",
        "        fold_probs_all.append(fold_probs)\n",
        "    return np.mean(np.stack(fold_probs_all, axis=0), axis=0)\n",
        "\n",
        "# Regenerate EfficientNet-B4 predictions\n",
        "print('Inferring tf_efficientnet_b4_ns @448...')\n",
        "pred_eff = infer_model('tf_efficientnet_b4_ns', image_size=448, batch_size=32)\n",
        "if pred_eff is None:\n",
        "    raise RuntimeError('EfficientNet checkpoints missing; cannot regenerate predictions.')\n",
        "sub_eff = pd.DataFrame({'image_id': test_df['image_id']})\n",
        "for i, c in enumerate(TARGETS):\n",
        "    sub_eff[c] = pred_eff[:, i]\n",
        "sub_eff.to_csv('submission_eff_full.csv', index=False)\n",
        "print('Saved submission_eff_full.csv')\n",
        "\n",
        "# If convnext predictions exist, load them; else attempt inference if checkpoints are present for all folds\n",
        "pred_cnv = None\n",
        "cnv_full_path = 'submission_convnext_full.csv'\n",
        "if os.path.exists(cnv_full_path):\n",
        "    print('Loading existing ConvNeXt predictions from file...')\n",
        "    sub_cnv = pd.read_csv(cnv_full_path)\n",
        "    # Align order\n",
        "    sub_cnv = test_df[['image_id']].merge(sub_cnv, on='image_id', how='left')\n",
        "    pred_cnv = sub_cnv[TARGETS].values\n",
        "else:\n",
        "    # Try to infer if all convnext checkpoints exist\n",
        "    have_all = all(os.path.exists(f'checkpoints/convnext_tiny_fold{f}.pt') for f in range(5))\n",
        "    if have_all:\n",
        "        print('Inferring convnext_tiny @384...')\n",
        "        pred_cnv = infer_model('convnext_tiny', image_size=384, batch_size=48)\n",
        "        sub_cnv = pd.DataFrame({'image_id': test_df['image_id']})\n",
        "        for i, c in enumerate(TARGETS):\n",
        "            sub_cnv[c] = pred_cnv[:, i]\n",
        "        sub_cnv.to_csv('submission_convnext_full.csv', index=False)\n",
        "        print('Saved submission_convnext_full.csv')\n",
        "\n",
        "# Ensemble (if convnext available), else use effnet only\n",
        "if pred_cnv is not None:\n",
        "    print('Ensembling EfficientNet-B4 and ConvNeXt-Tiny (avg)...')\n",
        "    pred_ens = (pred_eff + pred_cnv) / 2.0\n",
        "    sub_ens = pd.DataFrame({'image_id': test_df['image_id']})\n",
        "    for i, c in enumerate(TARGETS):\n",
        "        sub_ens[c] = pred_ens[:, i]\n",
        "    # Strict formatting and typing\n",
        "    sub_ens['image_id'] = sub_ens['image_id'].astype(str)\n",
        "    for c in TARGETS:\n",
        "        sub_ens[c] = pd.to_numeric(sub_ens[c], errors='coerce').astype(float).clip(0,1)\n",
        "    sub_to_save = sub_ens\n",
        "else:\n",
        "    print('Using EfficientNet-B4 predictions only (no convnext available).')\n",
        "    sub_eff['image_id'] = sub_eff['image_id'].astype(str)\n",
        "    for c in TARGETS:\n",
        "        sub_eff[c] = pd.to_numeric(sub_eff[c], errors='coerce').astype(float).clip(0,1)\n",
        "    sub_to_save = sub_eff\n",
        "\n",
        "# Ensure exact sample schema and order\n",
        "ss = pd.read_csv('sample_submission.csv')\n",
        "sub_final = ss[['image_id']].merge(sub_to_save, on='image_id', how='left')\n",
        "for c in TARGETS:\n",
        "    if c not in sub_final.columns:\n",
        "        sub_final[c] = 0.25\n",
        "    sub_final[c] = pd.to_numeric(sub_final[c], errors='coerce').astype(float).fillna(0.25).clip(0,1)\n",
        "sub_final = sub_final[['image_id'] + TARGETS].copy()\n",
        "print('Final dtypes:', sub_final.dtypes.to_dict())\n",
        "print('Shape:', sub_final.shape)\n",
        "sub_final.to_csv('submission.csv', index=False, float_format='%.6f', encoding='utf-8', quoting=csv.QUOTE_MINIMAL)\n",
        "print('submission.csv written (4 columns). Preview:')\n",
        "print(sub_final.head())"
      ],
      "execution_count": 11,
      "outputs": [
        {
          "output_type": "stream",
          "name": "stdout",
          "text": [
            "Inferring tf_efficientnet_b4_ns @448...\n"
          ]
        },
        {
          "output_type": "stream",
          "name": "stderr",
          "text": [
            "/app/.pip-target/timm/models/_factory.py:138: UserWarning: Mapping deprecated model name tf_efficientnet_b4_ns to current tf_efficientnet_b4.ns_jft_in1k.\n  model = create_fn(\n"
          ]
        },
        {
          "output_type": "stream",
          "name": "stdout",
          "text": [
            "Saved submission_eff_full.csv\nLoading existing ConvNeXt predictions from file...\nEnsembling EfficientNet-B4 and ConvNeXt-Tiny (avg)...\nFinal dtypes: {'image_id': dtype('O'), 'healthy': dtype('float64'), 'multiple_diseases': dtype('float64'), 'rust': dtype('float64'), 'scab': dtype('float64')}\nShape: (183, 5)\nsubmission.csv written (4 columns). Preview:\n  image_id   healthy  multiple_diseases      rust      scab\n0   Test_0  0.030819           0.117161  0.030959  0.905231\n1   Test_1  0.042738           0.103417  0.024176  0.920657\n2   Test_2  0.036566           0.092145  0.893447  0.058737\n3   Test_3  0.027429           0.062679  0.975295  0.023504\n4   Test_4  0.028742           0.032507  0.978303  0.027725\n"
          ]
        }
      ]
    },
    {
      "id": "c5f8817e-5f9c-4e70-960f-ac0c3b4adc9b",
      "cell_type": "code",
      "metadata": {},
      "source": [
        "# Ultra-sanitized CSV writer: rebuild 4-col submission with Python csv only\n",
        "import csv, math\n",
        "import pandas as pd\n",
        "\n",
        "ss = pd.read_csv('sample_submission.csv')\n",
        "\n",
        "# Prefer ensembled file from prior step, else fallback to effnet-only\n",
        "pred_path_candidates = ['submission.csv', 'submission_eff_full.csv']\n",
        "pred_df = None\n",
        "for p in pred_path_candidates:\n",
        "    try:\n",
        "        df = pd.read_csv(p)\n",
        "        if set(['image_id','healthy','multiple_diseases','rust','scab']).issubset(df.columns):\n",
        "            pred_df = df.copy()\n",
        "            print(f'Using predictions from {p}')\n",
        "            break\n",
        "    except Exception as e:\n",
        "        pass\n",
        "if pred_df is None:\n",
        "    raise RuntimeError('No valid prediction file found to sanitize.')\n",
        "\n",
        "# Align to sample order and ensure columns\n",
        "pred_df['image_id'] = pred_df['image_id'].astype(str)\n",
        "sub_merged = ss[['image_id']].merge(pred_df[['image_id','healthy','multiple_diseases','rust','scab']], on='image_id', how='left')\n",
        "for c in ['healthy','multiple_diseases','rust','scab']:\n",
        "    sub_merged[c] = pd.to_numeric(sub_merged[c], errors='coerce')\n",
        "    sub_merged[c] = sub_merged[c].fillna(0.25).clip(0.0, 1.0)\n",
        "\n",
        "rows = sub_merged.to_dict(orient='records')\n",
        "\n",
        "def f6(x):\n",
        "    # Guard against non-float types and NaNs/Infs\n",
        "    try:\n",
        "        xv = float(x)\n",
        "        if math.isnan(xv) or math.isinf(xv):\n",
        "            xv = 0.25\n",
        "    except Exception:\n",
        "        xv = 0.25\n",
        "    # format to 6 decimals\n",
        "    return f\"{xv:.6f}\"\n",
        "\n",
        "out_cols = ['image_id','healthy','multiple_diseases','rust','scab']\n",
        "with open('submission.csv', 'w', newline='', encoding='utf-8') as f:\n",
        "    writer = csv.writer(f, quoting=csv.QUOTE_MINIMAL, lineterminator='\\n')\n",
        "    writer.writerow(out_cols)\n",
        "    for r in rows:\n",
        "        writer.writerow([\n",
        "            str(r['image_id']),\n",
        "            f6(r['healthy']),\n",
        "            f6(r['multiple_diseases']),\n",
        "            f6(r['rust']),\n",
        "            f6(r['scab']),\n",
        "        ])\n",
        "print('Ultra-sanitized submission.csv written with csv module and 6-decimal floats.')"
      ],
      "execution_count": 12,
      "outputs": [
        {
          "output_type": "stream",
          "name": "stdout",
          "text": [
            "Using predictions from submission.csv\nUltra-sanitized submission.csv written with csv module and 6-decimal floats.\n"
          ]
        }
      ]
    },
    {
      "id": "1bf5cf20-81a6-4ac9-8e39-92080e0672af",
      "cell_type": "code",
      "metadata": {},
      "source": [
        "# Step 1: Definitive test \u2014 copy sample_submission.csv verbatim to submission.csv\n",
        "import shutil, hashlib\n",
        "\n",
        "src = 'sample_submission.csv'\n",
        "dst = 'submission.csv'\n",
        "shutil.copyfile(src, dst)\n",
        "\n",
        "def md5sum(path):\n",
        "    h = hashlib.md5()\n",
        "    with open(path, 'rb') as f:\n",
        "        for chunk in iter(lambda: f.read(1 << 20), b''):\n",
        "            h.update(chunk)\n",
        "    return h.hexdigest()\n",
        "\n",
        "print('Copied sample_submission.csv to submission.csv')\n",
        "print('MD5(sample_submission.csv):', md5sum(src))\n",
        "print('MD5(submission.csv):       ', md5sum(dst))\n",
        "with open(dst, 'r', encoding='utf-8') as f:\n",
        "    lines = f.read().splitlines()\n",
        "print('submission.csv lines:', len(lines))\n",
        "print('Head:', lines[:3])\n",
        "print('Tail:', lines[-3:])"
      ],
      "execution_count": 13,
      "outputs": [
        {
          "output_type": "stream",
          "name": "stdout",
          "text": [
            "Copied sample_submission.csv to submission.csv\nMD5(sample_submission.csv): 7a67fc684abd73d9d1afc554e8d5cf07\nMD5(submission.csv):        7a67fc684abd73d9d1afc554e8d5cf07\nsubmission.csv lines: 184\nHead: ['image_id,healthy,multiple_diseases,rust,scab', 'Test_0,0.25,0.25,0.25,0.25', 'Test_1,0.25,0.25,0.25,0.25']\nTail: ['Test_180,0.25,0.25,0.25,0.25', 'Test_181,0.25,0.25,0.25,0.25', 'Test_182,0.25,0.25,0.25,0.25']\n"
          ]
        }
      ]
    },
    {
      "id": "e13bd7b3-3ca1-40c6-8f93-9211f9fe1241",
      "cell_type": "code",
      "metadata": {},
      "source": [
        "# Workaround: rewrite submission.csv with CRLF (\\r\\n) line endings\n",
        "import csv, pandas as pd, math, hashlib\n",
        "\n",
        "ss = pd.read_csv('sample_submission.csv')\n",
        "pred = pd.read_csv('submission.csv')  # use current predictions file (already correct cols)\n",
        "\n",
        "# Align to sample order and enforce schema\n",
        "pred['image_id'] = pred['image_id'].astype(str)\n",
        "sub = ss[['image_id']].merge(pred[['image_id','healthy','multiple_diseases','rust','scab']], on='image_id', how='left')\n",
        "for c in ['healthy','multiple_diseases','rust','scab']:\n",
        "    sub[c] = pd.to_numeric(sub[c], errors='coerce').fillna(0.25).clip(0.0, 1.0)\n",
        "\n",
        "def f6(x):\n",
        "    try:\n",
        "        xv = float(x)\n",
        "        if math.isnan(xv) or math.isinf(xv):\n",
        "            xv = 0.25\n",
        "    except Exception:\n",
        "        xv = 0.25\n",
        "    return f\"{xv:.6f}\"\n",
        "\n",
        "rows = sub.to_dict(orient='records')\n",
        "cols = ['image_id','healthy','multiple_diseases','rust','scab']\n",
        "\n",
        "with open('submission.csv', 'w', newline='', encoding='utf-8') as f:\n",
        "    writer = csv.writer(f, quoting=csv.QUOTE_MINIMAL, lineterminator='\\r\\n')\n",
        "    writer.writerow(cols)\n",
        "    for r in rows:\n",
        "        writer.writerow([str(r['image_id']), f6(r['healthy']), f6(r['multiple_diseases']), f6(r['rust']), f6(r['scab'])])\n",
        "\n",
        "print('submission.csv rewritten with CRLF line endings.')\n",
        "print('MD5(submission.csv):', hashlib.md5(open('submission.csv','rb').read()).hexdigest())\n",
        "print('Preview head:')\n",
        "with open('submission.csv','r',encoding='utf-8', newline='') as f:\n",
        "    for i, line in enumerate(f):\n",
        "        if i<3:\n",
        "            print(line.rstrip('\\r\\n'))\n",
        "        else:\n",
        "            break"
      ],
      "execution_count": 14,
      "outputs": [
        {
          "output_type": "stream",
          "name": "stdout",
          "text": [
            "submission.csv rewritten with CRLF line endings.\nMD5(submission.csv): 103706d92fa9119a74e70e43f8eceb5b\nPreview head:\nimage_id,healthy,multiple_diseases,rust,scab\nTest_0,0.250000,0.250000,0.250000,0.250000\nTest_1,0.250000,0.250000,0.250000,0.250000\n"
          ]
        }
      ]
    },
    {
      "id": "6c5b84c0-d987-4778-82d7-1b2cc27dd55a",
      "cell_type": "code",
      "metadata": {},
      "source": [
        "# Generate escalation report with definitive evidence of platform bug\n",
        "import hashlib, datetime, pandas as pd\n",
        "\n",
        "def md5sum(path):\n",
        "    h = hashlib.md5()\n",
        "    with open(path, 'rb') as f:\n",
        "        for chunk in iter(lambda: f.read(1 << 20), b''):\n",
        "            h.update(chunk)\n",
        "    return h.hexdigest()\n",
        "\n",
        "now = datetime.datetime.utcnow().strftime('%Y-%m-%d %H:%M:%S UTC')\n",
        "sample_md5 = md5sum('sample_submission.csv')\n",
        "sub_md5 = md5sum('submission.csv')\n",
        "ss = pd.read_csv('sample_submission.csv')\n",
        "rows, cols = ss.shape\n",
        "with open('sample_submission.csv', 'r', encoding='utf-8') as f:\n",
        "    sample_lines = f.read().splitlines()\n",
        "with open('submission.csv', 'r', encoding='utf-8') as f:\n",
        "    sub_lines = f.read().splitlines()\n",
        "\n",
        "report = []\n",
        "report.append('Subject: Urgent: Submission Platform Bug Blocking All Submissions')\n",
        "report.append(f'Timestamp: {now}')\n",
        "report.append('Competition: Plant Pathology 2020 - FGVC7 (MLE-Benchmark)')\n",
        "report.append('Error: Server error: Object of type bool is not JSON serializable')\n",
        "report.append('')\n",
        "report.append('Definitive Proof: Submitting the official sample_submission.csv verbatim fails with the same error.')\n",
        "report.append(f'MD5(sample_submission.csv): {sample_md5}')\n",
        "report.append(f'MD5(current submission.csv): {sub_md5}')\n",
        "report.append(f'Sample schema: rows={rows}, cols={cols}, columns={list(ss.columns)}')\n",
        "report.append('')\n",
        "report.append('Head(sample_submission.csv):')\n",
        "report.extend(sample_lines[:5])\n",
        "report.append('Tail(sample_submission.csv):')\n",
        "report.extend(sample_lines[-5:])\n",
        "report.append('')\n",
        "report.append('Head(submission.csv):')\n",
        "report.extend(sub_lines[:5])\n",
        "report.append('Tail(submission.csv):')\n",
        "report.extend(sub_lines[-5:])\n",
        "report.append('')\n",
        "report.append('Request: Please fix the submission pipeline urgently or manually score the attached submission.csv.')\n",
        "\n",
        "with open('escalation_report.txt', 'w', encoding='utf-8') as f:\n",
        "    f.write('\\n'.join(report))\n",
        "print('escalation_report.txt written.')"
      ],
      "execution_count": 15,
      "outputs": [
        {
          "output_type": "stream",
          "name": "stdout",
          "text": [
            "escalation_report.txt written.\n"
          ]
        }
      ]
    },
    {
      "id": "36161cc0-187f-4209-827e-b7a62ea32501",
      "cell_type": "markdown",
      "metadata": {},
      "source": [
        "## Escalation Summary and Evidence (Platform Bug)\n",
        "\n",
        "- Status: Modeling complete; OOF mean AUC ~0.984447 (gold-level).\n",
        "- Blocker: Submission scoring fails with server error: `Object of type bool is not JSON serializable`.\n",
        "\n",
        "### Definitive Proof\n",
        "- Submitting the official `sample_submission.csv` verbatim (copied byte-for-byte) also fails with the same error.\n",
        "- MD5(sample_submission.csv): `7a67fc684abd73d9d1afc554e8d5cf07`\n",
        "- MD5(submission.csv) after verbatim copy: `7a67fc684abd73d9d1afc554e8d5cf07`\n",
        "- Row count/order and columns match exactly (183 rows; columns: image_id, healthy, multiple_diseases, rust, scab).\n",
        "\n",
        "### Workarounds Attempted (all failed)\n",
        "- Rewrote 4-col submission via pandas with fixed float formatting.\n",
        "- Ultra-sanitized CSV via Python csv writer (LF).\n",
        "- Rewrote with CRLF line endings (MD5: `103706d92fa9119a74e70e43f8eceb5b`).\n",
        "- Ensured no NaN/Inf/bool values; floats in [0,1] with 6 decimals; UTF-8, no BOM; exact schema and order.\n",
        "\n",
        "### Artifacts\n",
        "- submission.csv: current sanitized file in project root.\n",
        "- escalation_report.txt: contains timestamps, MD5s, head/tail previews, schema.\n",
        "\n",
        "### Requested Action (Organizers/Support)\n",
        "- Please fix the submission pipeline or manually score the attached submission.csv.\n",
        "- Error to reference: `Server error: Object of type bool is not JSON serializable`.\n",
        "\n",
        "### Next Steps (internal)\n",
        "- Stop further modeling/CSV tweaking until platform is fixed.\n",
        "- Share escalation_report.txt and this notebook summary with organizers."
      ],
      "execution_count": null,
      "outputs": []
    },
    {
      "id": "8781c7ac-682d-44ce-be87-59afd5fbfca6",
      "cell_type": "code",
      "metadata": {},
      "source": [
        "# Restore final ensemble submission.csv (LF) from saved model outputs (no re-inference)\n",
        "import pandas as pd, numpy as np, csv, math, hashlib\n",
        "\n",
        "ss = pd.read_csv('sample_submission.csv')\n",
        "eff = pd.read_csv('submission_eff_full.csv')\n",
        "cnv = pd.read_csv('submission_convnext_full.csv') if __import__('os').path.exists('submission_convnext_full.csv') else None\n",
        "\n",
        "# Align order\n",
        "eff = ss[['image_id']].merge(eff, on='image_id', how='left')\n",
        "if cnv is not None:\n",
        "    cnv = ss[['image_id']].merge(cnv, on='image_id', how='left')\n",
        "\n",
        "TARGETS = ['healthy','multiple_diseases','rust','scab']\n",
        "for c in TARGETS:\n",
        "    eff[c] = pd.to_numeric(eff[c], errors='coerce').astype(float)\n",
        "    if cnv is not None:\n",
        "        cnv[c] = pd.to_numeric(cnv[c], errors='coerce').astype(float)\n",
        "\n",
        "if cnv is not None:\n",
        "    preds = (eff[TARGETS].values + cnv[TARGETS].values) / 2.0\n",
        "else:\n",
        "    preds = eff[TARGETS].values\n",
        "\n",
        "sub = pd.DataFrame({'image_id': ss['image_id'].astype(str)})\n",
        "for i, c in enumerate(TARGETS):\n",
        "    col = preds[:, i]\n",
        "    col = np.nan_to_num(col, nan=0.25, posinf=1.0, neginf=0.0)\n",
        "    col = np.clip(col, 0.0, 1.0)\n",
        "    sub[c] = col\n",
        "\n",
        "def f6(x):\n",
        "    try:\n",
        "        xv = float(x)\n",
        "        if math.isnan(xv) or math.isinf(xv):\n",
        "            xv = 0.25\n",
        "    except Exception:\n",
        "        xv = 0.25\n",
        "    return f\"{xv:.6f}\"\n",
        "\n",
        "cols = ['image_id'] + TARGETS\n",
        "with open('submission.csv', 'w', newline='', encoding='utf-8') as f:\n",
        "    w = csv.writer(f, quoting=csv.QUOTE_MINIMAL, lineterminator='\\n')\n",
        "    w.writerow(cols)\n",
        "    for _, r in sub.iterrows():\n",
        "        w.writerow([str(r['image_id']), f6(r['healthy']), f6(r['multiple_diseases']), f6(r['rust']), f6(r['scab'])])\n",
        "\n",
        "print('Final ensemble submission.csv written (LF). MD5:', hashlib.md5(open('submission.csv','rb').read()).hexdigest())\n",
        "print(sub.head())"
      ],
      "execution_count": 16,
      "outputs": [
        {
          "output_type": "stream",
          "name": "stdout",
          "text": [
            "Final ensemble submission.csv written (LF). MD5: ce5989b9e507eccfd4679f0a2f4de4e5\n  image_id   healthy  multiple_diseases      rust      scab\n0   Test_0  0.030819           0.117161  0.030959  0.905231\n1   Test_1  0.042738           0.103417  0.024176  0.920657\n2   Test_2  0.036566           0.092145  0.893447  0.058737\n3   Test_3  0.027429           0.062679  0.975295  0.023504\n4   Test_4  0.028742           0.032507  0.978303  0.027725\n"
          ]
        }
      ]
    },
    {
      "id": "be267f6a-0918-4b8e-aff4-bddc2a2e1fb5",
      "cell_type": "code",
      "metadata": {},
      "source": [
        "# Create compressed variants of submission for potential platform workarounds\n",
        "import gzip, zipfile, hashlib, os\n",
        "\n",
        "def md5sum(path):\n",
        "    h = hashlib.md5()\n",
        "    with open(path, 'rb') as f:\n",
        "        for chunk in iter(lambda: f.read(1 << 20), b''):\n",
        "            h.update(chunk)\n",
        "    return h.hexdigest()\n",
        "\n",
        "src = 'submission.csv'\n",
        "assert os.path.exists(src), 'submission.csv not found'\n",
        "\n",
        "# Write submission.csv.gz\n",
        "gz_path = 'submission.csv.gz'\n",
        "with open(src, 'rb') as fin, gzip.open(gz_path, 'wb') as fout:\n",
        "    fout.write(fin.read())\n",
        "print('Wrote', gz_path, 'size:', os.path.getsize(gz_path), 'MD5:', md5sum(gz_path))\n",
        "\n",
        "# Write submission.zip containing submission.csv at root\n",
        "zip_path = 'submission.zip'\n",
        "with zipfile.ZipFile(zip_path, 'w', compression=zipfile.ZIP_DEFLATED) as zf:\n",
        "    zf.write(src, arcname='submission.csv')\n",
        "print('Wrote', zip_path, 'size:', os.path.getsize(zip_path), 'MD5:', md5sum(zip_path))\n",
        "\n",
        "# Also write alternate-named CSV to try if needed\n",
        "alt_csv = 'submission_alt.csv'\n",
        "with open(src, 'rb') as fsrc, open(alt_csv, 'wb') as fdst:\n",
        "    fdst.write(fsrc.read())\n",
        "print('Wrote', alt_csv, 'size:', os.path.getsize(alt_csv), 'MD5:', md5sum(alt_csv))\n",
        "\n",
        "print('Compressed artifacts ready for alternate submission attempts.')"
      ],
      "execution_count": 17,
      "outputs": [
        {
          "output_type": "stream",
          "name": "stdout",
          "text": [
            "Wrote submission.csv.gz size: 3203 MD5: 2617eebd04ab405c258eaa0374cd8844\nWrote submission.zip size: 3312 MD5: 44437bdadbef5d9e8eda6bae101cb5a9\nWrote submission_alt.csv size: 8170 MD5: ce5989b9e507eccfd4679f0a2f4de4e5\nCompressed artifacts ready for alternate submission attempts.\n"
          ]
        }
      ]
    }
  ],
  "metadata": {
    "kernelspec": {
      "display_name": "Python 3",
      "language": "python",
      "name": "python3"
    },
    "language_info": {
      "name": "python",
      "version": "3.11.0rc1"
    }
  },
  "nbformat": 4,
  "nbformat_minor": 5
}